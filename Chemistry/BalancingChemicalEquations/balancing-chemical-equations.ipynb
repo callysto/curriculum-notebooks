{
 "cells": [
  {
   "cell_type": "markdown",
   "metadata": {},
   "source": [
    "![top](https://callysto.ca/wp-content/uploads/2018/06/Callysto_Notebook-Banner_Top_06.06.18.jpg)"
   ]
  },
  {
   "cell_type": "markdown",
   "metadata": {},
   "source": [
    "(Click **Cell** > **Run All** before proceeding.) "
   ]
  },
  {
   "cell_type": "code",
   "execution_count": 1,
   "metadata": {},
   "outputs": [],
   "source": [
    "%matplotlib inline\n",
    "\n",
    "#----------\n",
    "\n",
    "#Import modules and packages \n",
    "import ipywidgets as widgets\n",
    "import random\n",
    "\n",
    "from ipywidgets import Output, IntSlider, VBox, HBox, Layout\n",
    "from IPython.display import clear_output, display, HTML\n",
    "\n",
    "#----------\n",
    "\n",
    "#import ipywidgets as widgets\n",
    "#import random\n",
    "\n",
    "#This function produces a multiple choice form with four options\n",
    "def multiple_choice_4(option_1, option_2, option_3, option_4):\n",
    "    option_list = [option_1, option_2, option_3, option_4]\n",
    "    answer = option_list[0]\n",
    "    letters = [\"<b>(A)</b> \", \"<b>(B)</b> \", \"<b>(C)</b> \", \"<b>(D)</b> \"]\n",
    "\n",
    "    #Randomly shuffle the options\n",
    "    random.shuffle(option_list)\n",
    "    \n",
    "    #Print the letters (A) to (D) in sequence with randomly chosen options\n",
    "    for i in range(4):\n",
    "        option_text = option_list.pop()\n",
    "        option_text_2 = letters[i] + option_text\n",
    "        option_output = widgets.HTMLMath(value=option_text_2)\n",
    "        display(option_output)\n",
    "                \n",
    "        #Stores the correct answer\n",
    "        if option_text == answer:\n",
    "            letter_answer = letters[i]\n",
    "\n",
    "    button1 = widgets.Button(description=\"(A)\"); button2 = widgets.Button(description=\"(B)\")\n",
    "    button3 = widgets.Button(description=\"(C)\"); button4 = widgets.Button(description=\"(D)\")\n",
    "    \n",
    "    button1.style.button_color = 'Whitesmoke'; button2.style.button_color = 'Whitesmoke'\n",
    "    button3.style.button_color = 'Whitesmoke'; button4.style.button_color = 'Whitesmoke'\n",
    "    \n",
    "    container = widgets.HBox(children=[button1,button2,button3,button4])\n",
    "    display(container)\n",
    "    print(\" \", end='\\r')\n",
    "\n",
    "    def on_button1_clicked(b):\n",
    "        if \"<b>(A)</b> \" == letter_answer:\n",
    "            print(\"Correct!    \", end='\\r')\n",
    "            button1.style.button_color = 'Moccasin'; button2.style.button_color = 'Whitesmoke'\n",
    "            button3.style.button_color = 'Whitesmoke'; button4.style.button_color = 'Whitesmoke'\n",
    "        else:\n",
    "            print(\"Try again.\", end='\\r')\n",
    "            button1.style.button_color = 'Lightgray'; button2.style.button_color = 'Whitesmoke'\n",
    "            button3.style.button_color = 'Whitesmoke'; button4.style.button_color = 'Whitesmoke'\n",
    "\n",
    "    def on_button2_clicked(b):\n",
    "        if \"<b>(B)</b> \" == letter_answer:\n",
    "            print(\"Correct!    \", end='\\r')\n",
    "            button1.style.button_color = 'Whitesmoke'; button2.style.button_color = 'Moccasin'\n",
    "            button3.style.button_color = 'Whitesmoke'; button4.style.button_color = 'Whitesmoke'\n",
    "        else:\n",
    "            print(\"Try again.\", end='\\r')\n",
    "            button1.style.button_color = 'Whitesmoke'; button2.style.button_color = 'Lightgray'\n",
    "            button3.style.button_color = 'Whitesmoke'; button4.style.button_color = 'Whitesmoke'\n",
    "\n",
    "    def on_button3_clicked(b):\n",
    "        if \"<b>(C)</b> \" == letter_answer:\n",
    "            print(\"Correct!    \", end='\\r')\n",
    "            button1.style.button_color = 'Whitesmoke'; button2.style.button_color = 'Whitesmoke'\n",
    "            button3.style.button_color = 'Moccasin'; button4.style.button_color = 'Whitesmoke'\n",
    "        else:\n",
    "            print(\"Try again.\", end='\\r')\n",
    "            button1.style.button_color = 'Whitesmoke'; button2.style.button_color = 'Whitesmoke'\n",
    "            button3.style.button_color = 'Lightgray'; button4.style.button_color = 'Whitesmoke'\n",
    "\n",
    "    def on_button4_clicked(b):\n",
    "        if \"<b>(D)</b> \" == letter_answer:\n",
    "            print(\"Correct!    \", end='\\r')\n",
    "            button1.style.button_color = 'Whitesmoke'; button2.style.button_color = 'Whitesmoke'\n",
    "            button3.style.button_color = 'Whitesmoke'; button4.style.button_color = 'Moccasin'\n",
    "        else:\n",
    "            print(\"Try again.\", end='\\r')\n",
    "            button1.style.button_color = 'Whitesmoke'; button2.style.button_color = 'Whitesmoke'\n",
    "            button3.style.button_color = 'Whitesmoke'; button4.style.button_color = 'Lightgray'\n",
    "\n",
    "    button1.on_click(on_button1_clicked); button2.on_click(on_button2_clicked)\n",
    "    button3.on_click(on_button3_clicked); button4.on_click(on_button4_clicked)\n",
    "\n",
    "#----------\n",
    "\n",
    "#This function produces a multiple choice form with three options\n",
    "def multiple_choice_3(option_1, option_2, option_3):\n",
    "    option_list = [option_1, option_2, option_3]\n",
    "    answer = option_list[0]\n",
    "    letters = [\"<b>(A)</b> \", \"<b>(B)</b> \", \"<b>(C)</b> \"]\n",
    "\n",
    "    #Randomly shuffle the options\n",
    "    random.shuffle(option_list)\n",
    "    \n",
    "    #Print the letters (A) to (D) in sequence with randomly chosen options\n",
    "    for i in range(3):\n",
    "        option_text = option_list.pop()\n",
    "        option_text_2 = letters[i] + option_text\n",
    "        option_output = widgets.HTMLMath(value=option_text_2)\n",
    "        display(option_output)\n",
    "                \n",
    "        #Stores the correct answer\n",
    "        if option_text == answer:\n",
    "            letter_answer = letters[i]\n",
    "\n",
    "    button1 = widgets.Button(description=\"(A)\"); button2 = widgets.Button(description=\"(B)\"); button3 = widgets.Button(description=\"(C)\")\n",
    "    \n",
    "    button1.style.button_color = 'Whitesmoke'; button2.style.button_color = 'Whitesmoke'; button3.style.button_color = 'Whitesmoke'\n",
    "    \n",
    "    container = widgets.HBox(children=[button1,button2,button3])\n",
    "    display(container)\n",
    "    print(\" \", end='\\r')\n",
    "\n",
    "    def on_button1_clicked(b):\n",
    "        if \"<b>(A)</b> \" == letter_answer:\n",
    "            print(\"Correct!    \", end='\\r')\n",
    "            button1.style.button_color = 'Moccasin'; button2.style.button_color = 'Whitesmoke'; button3.style.button_color = 'Whitesmoke'\n",
    "        else:\n",
    "            print(\"Try again.\", end='\\r')\n",
    "            button1.style.button_color = 'Lightgray'; button2.style.button_color = 'Whitesmoke'; button3.style.button_color = 'Whitesmoke'\n",
    "\n",
    "    def on_button2_clicked(b):\n",
    "        if \"<b>(B)</b> \" == letter_answer:\n",
    "            print(\"Correct!    \", end='\\r')\n",
    "            button1.style.button_color = 'Whitesmoke'; button2.style.button_color = 'Moccasin'; button3.style.button_color = 'Whitesmoke'\n",
    "        else:\n",
    "            print(\"Try again.\", end='\\r')\n",
    "            button1.style.button_color = 'Whitesmoke'; button2.style.button_color = 'Lightgray'; button3.style.button_color = 'Whitesmoke'\n",
    "\n",
    "    def on_button3_clicked(b):\n",
    "        if \"<b>(C)</b> \" == letter_answer:\n",
    "            print(\"Correct!    \", end='\\r')\n",
    "            button1.style.button_color = 'Whitesmoke'; button2.style.button_color = 'Whitesmoke'; button3.style.button_color = 'Moccasin';\n",
    "        else:\n",
    "            print(\"Try again.\", end='\\r')\n",
    "            button1.style.button_color = 'Whitesmoke'; button2.style.button_color = 'Whitesmoke'; button3.style.button_color = 'Lightgray'\n",
    "\n",
    "    button1.on_click(on_button1_clicked); button2.on_click(on_button2_clicked); button3.on_click(on_button3_clicked)\n",
    "\n",
    "#----------\n",
    "\n",
    "#This function produces a true or false choice form with four options\n",
    "def true_false(option_1, bool_1, option_2, bool_2, option_3, bool_3, option_4, bool_4, button_text_1, button_text_2):\n",
    " \n",
    "    #Convert string to HTMLMath so equations can be displayed\n",
    "    TF_question_1 = widgets.HTMLMath(value=option_1)\n",
    "    TF_question_2 = widgets.HTMLMath(value=option_2)\n",
    "    TF_question_3 = widgets.HTMLMath(value=option_3)\n",
    "    TF_question_4 = widgets.HTMLMath(value=option_4)\n",
    "    \n",
    "    #Create true and false bottons\n",
    "    button1_1 = widgets.Button(description=button_text_1); button1_2 = widgets.Button(description=button_text_2)\n",
    "    button2_1 = widgets.Button(description=button_text_1); button2_2 = widgets.Button(description=button_text_2)\n",
    "    button3_1 = widgets.Button(description=button_text_1); button3_2 = widgets.Button(description=button_text_2)\n",
    "    button4_1 = widgets.Button(description=button_text_1); button4_2 = widgets.Button(description=button_text_2)\n",
    "    \n",
    "    button1_1.style.button_color = 'Whitesmoke'; button1_2.style.button_color = 'Whitesmoke'\n",
    "    button2_1.style.button_color = 'Whitesmoke'; button2_2.style.button_color = 'Whitesmoke'\n",
    "    button3_1.style.button_color = 'Whitesmoke'; button3_2.style.button_color = 'Whitesmoke'\n",
    "    button4_1.style.button_color = 'Whitesmoke'; button4_2.style.button_color = 'Whitesmoke'\n",
    "\n",
    "    #Display buttons in front of each question \n",
    "    container1 = widgets.HBox(children=[button1_1,button1_2,TF_question_1])\n",
    "    container2 = widgets.HBox(children=[button2_1,button2_2,TF_question_2]) \n",
    "    container3 = widgets.HBox(children=[button3_1,button3_2,TF_question_3])\n",
    "    container4 = widgets.HBox(children=[button4_1,button4_2,TF_question_4])\n",
    "    \n",
    "    #Place true or false questions in an array so they can be shuffled\n",
    "    containers = [container1, container2, container3, container4]\n",
    "    random.shuffle(containers)\n",
    "    \n",
    "    #Reassign containers and display\n",
    "    container1 = containers[0]; container2 = containers[1]\n",
    "    container3 = containers[2]; container4 = containers[3]\n",
    "    display(container1, container2, container3, container4)\n",
    "    print(\" \", end='\\r')\n",
    "\n",
    "    def on_button1_1_clicked(b):\n",
    "        if bool_1 == True:\n",
    "            print(\"Correct!    \", end='\\r')\n",
    "            button1_1.style.button_color = 'Moccasin'; button1_2.style.button_color = 'Whitesmoke'\n",
    "        else:\n",
    "            print(\"Try again.\", end='\\r')\n",
    "            button1_1.style.button_color = 'Lightgray'; button1_2.style.button_color = 'Whitesmoke'\n",
    "\n",
    "    def on_button1_2_clicked(b):\n",
    "        if bool_1 == False:\n",
    "            print(\"Correct!    \", end='\\r')\n",
    "            button1_1.style.button_color = 'Whitesmoke'; button1_2.style.button_color = 'Moccasin'\n",
    "        else:\n",
    "            print(\"Try again.\", end='\\r')\n",
    "            button1_1.style.button_color = 'Whitesmoke'; button1_2.style.button_color = 'Lightgray'\n",
    "\n",
    "            \n",
    "    def on_button2_1_clicked(b):\n",
    "        if bool_2 == True:\n",
    "            print(\"Correct!    \", end='\\r')\n",
    "            button2_1.style.button_color = 'Moccasin'; button2_2.style.button_color = 'Whitesmoke'\n",
    "        else:\n",
    "            print(\"Try again.\", end='\\r')\n",
    "            button2_1.style.button_color = 'Lightgray'; button2_2.style.button_color = 'Whitesmoke'\n",
    "\n",
    "    def on_button2_2_clicked(b):\n",
    "        if bool_2 == False:\n",
    "            print(\"Correct!    \", end='\\r')\n",
    "            button2_1.style.button_color = 'Whitesmoke'; button2_2.style.button_color = 'Moccasin'\n",
    "        else:\n",
    "            print(\"Try again.\", end='\\r')\n",
    "            button2_1.style.button_color = 'Whitesmoke'; button2_2.style.button_color = 'Lightgray'        \n",
    "            \n",
    "    \n",
    "    def on_button3_1_clicked(b):\n",
    "        if bool_3 == True:\n",
    "            print(\"Correct!    \", end='\\r')\n",
    "            button3_1.style.button_color = 'Moccasin'; button3_2.style.button_color = 'Whitesmoke'\n",
    "        else:\n",
    "            print(\"Try again.\", end='\\r')\n",
    "            button3_1.style.button_color = 'Lightgray'; button3_2.style.button_color = 'Whitesmoke'\n",
    "\n",
    "    def on_button3_2_clicked(b):\n",
    "        if bool_3 == False:\n",
    "            print(\"Correct!    \", end='\\r')\n",
    "            button3_1.style.button_color = 'Whitesmoke'; button3_2.style.button_color = 'Moccasin'\n",
    "        else:\n",
    "            print(\"Try again.\", end='\\r')\n",
    "            button3_1.style.button_color = 'Whitesmoke'; button3_2.style.button_color = 'Lightgray'\n",
    "    \n",
    "    def on_button4_1_clicked(b):\n",
    "        if bool_4 == True:\n",
    "            print(\"Correct!    \", end='\\r')\n",
    "            button4_1.style.button_color = 'Moccasin'; button4_2.style.button_color = 'Whitesmoke'\n",
    "        else:\n",
    "            print(\"Try again.\", end='\\r')\n",
    "            button4_1.style.button_color = 'Lightgray'; button4_2.style.button_color = 'Whitesmoke'\n",
    "\n",
    "    def on_button4_2_clicked(b):\n",
    "        if bool_4 == False:\n",
    "            print(\"Correct!    \", end='\\r')\n",
    "            button4_1.style.button_color = 'Whitesmoke'; button4_2.style.button_color = 'Moccasin'\n",
    "        else:\n",
    "            print(\"Try again.\", end='\\r')\n",
    "            button4_1.style.button_color = 'Whitesmoke'; button4_2.style.button_color = 'Lightgray'\n",
    "    \n",
    "    button1_1.on_click(on_button1_1_clicked); button1_2.on_click(on_button1_2_clicked)\n",
    "    button2_1.on_click(on_button2_1_clicked); button2_2.on_click(on_button2_2_clicked)\n",
    "    button3_1.on_click(on_button3_1_clicked); button3_2.on_click(on_button3_2_clicked)\n",
    "    button4_1.on_click(on_button4_1_clicked); button4_2.on_click(on_button4_2_clicked)"
   ]
  },
  {
   "cell_type": "markdown",
   "metadata": {},
   "source": [
    "# Writing and Balancing Chemical Equations\n",
    "\n",
    "## Introduction\n",
    "\n",
    "A **chemical equation** is a symbolic representation of a chemical reaction. The general form of a chemical equation is:\n",
    "\n",
    "<img src=\"images/general_equation_3.1.svg\" width=\"90%\"/>\n",
    "\n",
    "The chemicals represented in a chemical equation are organized into two groups: the reactants and the products. The **reactants** are the chemicals undergoing the reaction, and the **products** are the chemicals generated by the reaction. In the equation above, the reactants and products are represented by \"*R<sub>1</sub>, R<sub>2</sub>, ...*\", and \"*P<sub>1</sub>, P<sub>2</sub>, ...*\", respectively. The reactants and products are separated from each other by an arrow symbol (&rarr;). The chemicals on each side of the arrow are separated from each other by a plus sign (+). The symbols \"*c<sub>1</sub>, c<sub>2</sub>, ...*\" represent the **stoichiometric coefficients**. These coefficients indicate the relative amount of each chemical involved in the reaction. An example of a chemical equation is shown below:\n",
    "\n",
    "&nbsp; &nbsp; &nbsp; &nbsp; 2H<sub>2</sub> + O<sub>2</sub> &rarr; 2H<sub>2</sub>O\n",
    "\n",
    "In this example, the reactants are hydrogen (H<sub>2</sub>) and oxygen (O<sub>2</sub>), and the product is water (</span>H<sub>2</sub>O). The stoichiometric coefficients are 2,1, and 2 for hydrogen, oxygen, and water, respectively. These coefficients indicate that two hydrogen molecules and one oxygen molecule are required to produced two water molecules.    "
   ]
  },
  {
   "cell_type": "markdown",
   "metadata": {},
   "source": [
    "**Practice:** *Select 'reactant' or 'product' for each chemical highlighted in <span style='color:blue'>blue</span> in the following chemical equations.* "
   ]
  },
  {
   "cell_type": "code",
   "execution_count": 2,
   "metadata": {
    "scrolled": true
   },
   "outputs": [
    {
     "data": {
      "application/vnd.jupyter.widget-view+json": {
       "model_id": "e7f96fe853764b5dbc0e32a267adf052",
       "version_major": 2,
       "version_minor": 0
      },
      "text/plain": [
       "HBox(children=(Button(description='Reactant', style=ButtonStyle(button_color='Whitesmoke')), Button(descriptio…"
      ]
     },
     "metadata": {},
     "output_type": "display_data"
    },
    {
     "data": {
      "application/vnd.jupyter.widget-view+json": {
       "model_id": "d44bb5898c234e349c728bf7b1622101",
       "version_major": 2,
       "version_minor": 0
      },
      "text/plain": [
       "HBox(children=(Button(description='Reactant', style=ButtonStyle(button_color='Whitesmoke')), Button(descriptio…"
      ]
     },
     "metadata": {},
     "output_type": "display_data"
    },
    {
     "data": {
      "application/vnd.jupyter.widget-view+json": {
       "model_id": "ab4da3124a1844278ec542cebbb2d6ad",
       "version_major": 2,
       "version_minor": 0
      },
      "text/plain": [
       "HBox(children=(Button(description='Reactant', style=ButtonStyle(button_color='Whitesmoke')), Button(descriptio…"
      ]
     },
     "metadata": {},
     "output_type": "display_data"
    },
    {
     "data": {
      "application/vnd.jupyter.widget-view+json": {
       "model_id": "a0251611578247dfbeeccea2f2677349",
       "version_major": 2,
       "version_minor": 0
      },
      "text/plain": [
       "HBox(children=(Button(description='Reactant', style=ButtonStyle(button_color='Whitesmoke')), Button(descriptio…"
      ]
     },
     "metadata": {},
     "output_type": "display_data"
    },
    {
     "name": "stdout",
     "output_type": "stream",
     "text": [
      " \r"
     ]
    }
   ],
   "source": [
    "randomize1_1 = random.randint(1, 4)\n",
    "\n",
    "if randomize1_1 == 1:\n",
    "    option1_1 = \"4<span style='color:blue'>Fe</span> + 3O<sub>2</sub> &rarr; 2Fe<sub>2</sub>O<sub>3</sub>\"; bool1_1 = True    \n",
    "elif randomize1_1 == 2:\n",
    "    option1_1 = \"4Fe + 3<span style='color:blue'>O<sub>2</sub></span> &rarr; 2Fe<sub>2</sub>O<sub>3</sub>\"; bool1_1 = True     \n",
    "elif randomize1_1 == 3:\n",
    "    option1_1 = \"4Fe + 3O<sub>2</sub> &rarr; 2<span style='color:blue'>Fe<sub>2</sub>O<sub>3</sub></span>\"; bool1_1 = False\n",
    "elif randomize1_1 == 4:\n",
    "    option1_1 = \"4Fe + 3O<sub>2</sub> &rarr; 2<span style='color:blue'>Fe<sub>2</sub>O<sub>3</sub></span>\"; bool1_1 = False\n",
    "\n",
    "randomize1_2 = random.randint(1, 4)\n",
    "\n",
    "if randomize1_2 == 1:\n",
    "    option1_2 = \"<span style='color:blue'>CH<sub>4</sub></span> + 2O<sub>2</sub> &rarr; CO<sub>2</sub> + 2H<sub>2</sub>O\"; bool1_2 = True \n",
    "elif randomize1_2 == 2:\n",
    "    option1_2 = \"CH<sub>4</sub> + 2<span style='color:blue'>O<sub>2</sub></span> &rarr; CO<sub>2</sub> + 2H<sub>2</sub>O\"; bool1_2 = True \n",
    "elif randomize1_2 == 3:\n",
    "    option1_2 = \"CH<sub>4</sub> + 2O<sub>2</sub> &rarr; <span style='color:blue'>CO<sub>2</sub></span> + 2H<sub>2</sub>O\"; bool1_2 = False\n",
    "elif randomize1_2 == 4:\n",
    "    option1_2 = \"CH<sub>4</sub> + 2O<sub>2</sub> &rarr; CO<sub>2</sub> + 2<span style='color:blue'>H<sub>2</sub>O</span>\"; bool1_2 = False\n",
    "\n",
    "randomize1_3 = random.randint(1, 4)\n",
    "\n",
    "if randomize1_3 == 1:\n",
    "    option1_3 = \"2<span style='color:blue'>H<sub>2</sub>O<sub>2</sub></span> &rarr; 2H<sub>2</sub>O + O<sub>2</sub>\"; bool1_3 = True\n",
    "elif randomize1_3 == 2:\n",
    "    option1_3 = \"2<span style='color:blue'>H<sub>2</sub>O<sub>2</sub></span> &rarr; 2H<sub>2</sub>O + O<sub>2</sub>\"; bool1_3 = True\n",
    "elif randomize1_3 == 3:\n",
    "    option1_3 = \"2H<sub>2</sub>O<sub>2</sub> &rarr; 2<span style='color:blue'>H<sub>2</sub>O</span> + O<sub>2</sub>\"; bool1_3 = False\n",
    "elif randomize1_3 == 4:\n",
    "    option1_3 = \"2H<sub>2</sub>O<sub>2</sub> &rarr; 2H<sub>2</sub>O + <span style='color:blue'>O<sub>2</sub></span>\"; bool1_3 = False\n",
    "\n",
    "randomize1_4 = random.randint(1, 4)\n",
    "\n",
    "if randomize1_4 == 1:\n",
    "    option1_4 = \"<span style='color:blue'>CaCl<sub>2</sub></span> + Na<sub>2</sub>CO<sub>3</sub> &rarr; CaCO<sub>3</sub> + 2NaCl\"; bool1_4 = True\n",
    "elif randomize1_4 == 2:\n",
    "    option1_4 = \"CaCl<sub>2</sub> + <span style='color:blue'>Na<sub>2</sub>CO<sub>3</sub></span> &rarr; CaCO<sub>3</sub> + 2NaCl\"; bool1_4 = True\n",
    "elif randomize1_4 == 3:\n",
    "    option1_4 = \"CaCl<sub>2</sub> + Na<sub>2</sub>CO<sub>3</sub> &rarr; <span style='color:blue'>CaCO<sub>3</sub></span> + 2NaCl\"; bool1_4 = False\n",
    "elif randomize1_4 == 4:\n",
    "    option1_4 = \"CaCl<sub>2</sub> + Na<sub>2</sub>CO<sub>3</sub> &rarr; CaCO<sub>3</sub> + 2<span style='color:blue'>NaCl</span>\"; bool1_4 = False\n",
    "   \n",
    "true_false(option1_1, bool1_1, option1_2, bool1_2, option1_3, bool1_3, option1_4, bool1_4, \"Reactant\", \"Product\")"
   ]
  },
  {
   "cell_type": "markdown",
   "metadata": {},
   "source": [
    "**Practice:** *Select the correct stoichiometric coefficient for each chemical represented in the chemical equation.* "
   ]
  },
  {
   "cell_type": "code",
   "execution_count": 3,
   "metadata": {},
   "outputs": [
    {
     "data": {
      "application/vnd.jupyter.widget-view+json": {
       "model_id": "66177925b289496b80782da83fa237e7",
       "version_major": 2,
       "version_minor": 0
      },
      "text/plain": [
       "HTMLMath(value='2Al + 3Cu(NO<sub>3</sub>)<sub>2</sub> &rarr; 3Cu + 2Al(NO<sub>3</sub>)<sub>3</sub>')"
      ]
     },
     "metadata": {},
     "output_type": "display_data"
    },
    {
     "data": {
      "application/vnd.jupyter.widget-view+json": {
       "model_id": "658050d41c534d54a669d234eec882fb",
       "version_major": 2,
       "version_minor": 0
      },
      "text/plain": [
       "HBox(children=(VBox(children=(Dropdown(description='Al', options={' ': 0, '0': 1, '1': 2, '2': 3, '3': 4, '4':…"
      ]
     },
     "metadata": {},
     "output_type": "display_data"
    },
    {
     "name": "stdout",
     "output_type": "stream",
     "text": [
      " \r"
     ]
    }
   ],
   "source": [
    "#import ipywidgets as widgets\n",
    "\n",
    "#Create dropdown menus\n",
    "\n",
    "randomize2_1 = random.randint(1, 4)\n",
    "\n",
    "if randomize2_1 == 1:\n",
    "    equation1 = widgets.HTMLMath(value=\"2Al + 3Cu(NO<sub>3</sub>)<sub>2</sub> &rarr; 3Cu + 2Al(NO<sub>3</sub>)<sub>3</sub>\")\n",
    "    chem1_1 = \"Al\"; chem1_2 = \"Cu(NO<sub>3</sub>)<sub>2</sub>\"\n",
    "    chem1_3 = \"Cu\"; chem1_4 = \"Al(NO<sub>3</sub>)<sub>3</sub>\"\n",
    "    ans1_1 = \"2\"; ans1_2 = \"3\"; ans1_3 = \"3\"; ans1_4 = \"2\"\n",
    "    display(equation1)\n",
    "elif randomize2_1 == 2:\n",
    "    equation2 = widgets.HTMLMath(value=\"2Pb(NO<sub>3</sub>)<sub>2</sub> &rarr; 2PbO + 4NO<sub>2</sub> + O<sub>2</sub>\")\n",
    "    chem1_1 = \"Pb(NO<sub>3</sub>)<sub>2</sub>\"; chem1_2 = \"PbO\"\n",
    "    chem1_3 = \"NO<sub>2</sub>\"; chem1_4 = \"O<sub>2</sub>\"\n",
    "    ans1_1 = \"2\"; ans1_2 = \"2\"; ans1_3 = \"4\"; ans1_4 = \"1\"\n",
    "    display(equation2)\n",
    "elif randomize2_1 == 3:\n",
    "    equation3 = widgets.HTMLMath(value=\"3NaOH + H<sub>3</sub>PO<sub>4</sub> &rarr; Na<sub>3</sub>PO<sub>4</sub> + 3H<sub>2</sub>O\")\n",
    "    chem1_1 = \"NaOH\"; chem1_2 = \"H<sub>3</sub>PO<sub>4</sub>\"\n",
    "    chem1_3 = \"Na<sub>3</sub>PO<sub>4</sub>\"; chem1_4 = \"H<sub>2</sub>O\"\n",
    "    ans1_1 = \"3\"; ans1_2 = \"1\"; ans1_3 = \"1\"; ans1_4 = \"3\"\n",
    "    display(equation3)\n",
    "elif randomize2_1 == 4:\n",
    "    equation4 = widgets.HTMLMath(value=\"Na<sub>2</sub>S + 2HCl &rarr; 2NaCl + H<sub>2</sub>S\")\n",
    "    chem1_1 = \"Na<sub>2</sub>S\"; chem1_2 = \"HCl\"\n",
    "    chem1_3 = \"NaCl\"; chem1_4 = \"H<sub>2</sub>S\"\n",
    "    ans1_1 = \"1\"; ans1_2 = \"2\"; ans1_3 = \"2\"; ans1_4 = \"1\"\n",
    "    display(equation4)\n",
    "\n",
    "dropdown1_1 = widgets.Dropdown(options={' ':0,'0': 1, '1': 2, '2': 3, '3': 4, '4': 5}, value=0, description=chem1_1,)\n",
    "dropdown1_2 = widgets.Dropdown(options={' ':0,'0': 1, '1': 2, '2': 3, '3': 4, '4': 5}, value=0, description=chem1_2,)\n",
    "dropdown1_3 = widgets.Dropdown(options={' ':0,'0': 1, '1': 2, '2': 3, '3': 4, '4': 5}, value=0, description=chem1_3,)\n",
    "dropdown1_4 = widgets.Dropdown(options={' ':0,'0': 1, '1': 2, '2': 3, '3': 4, '4': 5}, value=0, description=chem1_4,)\n",
    "\n",
    "#Display menus as 2x2 table\n",
    "container1_1 = widgets.VBox(children=[dropdown1_1,dropdown1_2])\n",
    "container1_2 = widgets.VBox(children=[dropdown1_3,dropdown1_4])\n",
    "display(widgets.HBox(children=[container1_1, container1_2])), print(\" \", end='\\r')\n",
    "\n",
    "#Evaluate input\n",
    "def check_answer1_1(b):\n",
    "    answer1_1 = dropdown1_1.label \n",
    "    answer1_2 = dropdown1_2.label\n",
    "    answer1_3 = dropdown1_3.label \n",
    "    answer1_4 = dropdown1_4.label\n",
    "\n",
    "    if answer1_1 == ans1_1 and answer1_2 == ans1_2 and answer1_3 == ans1_3 and answer1_4 == ans1_4:\n",
    "        print(\"Correct!    \", end='\\r')\n",
    "    elif answer1_1 != ' ' and answer1_2 != ' ' and answer1_3 != ' ' and answer1_4 != ' ':\n",
    "        print(\"Try again.\", end='\\r')\n",
    "    else:\n",
    "        print(\"            \", end='\\r')\n",
    "\n",
    "dropdown1_1.observe(check_answer1_1, names='value')\n",
    "dropdown1_2.observe(check_answer1_1, names='value')\n",
    "dropdown1_3.observe(check_answer1_1, names='value')\n",
    "dropdown1_4.observe(check_answer1_1, names='value')"
   ]
  },
  {
   "cell_type": "markdown",
   "metadata": {},
   "source": [
    "## Writing Chemical Equations\n",
    "\n",
    "A chemical equation may be written by following a few simple steps.\n",
    "\n",
    "&nbsp; &nbsp; &nbsp; &nbsp; **Step 1:** Identify the reactants and products. <br>\n",
    "&nbsp; &nbsp; &nbsp; &nbsp; **Step 2:** Organize the reactants and products into a chemical equation, by placing the reactants on the left of the arrow and the products on the right. <br>\n",
    "&nbsp; &nbsp; &nbsp; &nbsp; **Step 3:** Balance the equation using stoichiometric coefficients. (The process of balancing will be examined in more detail in the following section.) <br>\n",
    "\n",
    "A **balanced chemical equation** means that there are an equal number of atoms for each element on both sides of the equation.  \n",
    "\n",
    "**Example:** *A sample of solid copper was placed into a solution of silver nitrate. The copper reacted with the silver nitrate to form aqueous copper(II) nitrate and metallic silver. Write a chemical equation to describe this reaction.*"
   ]
  },
  {
   "cell_type": "code",
   "execution_count": 4,
   "metadata": {},
   "outputs": [
    {
     "data": {
      "application/vnd.jupyter.widget-view+json": {
       "model_id": "9f8a7a4778d94c42a2c95752a2438276",
       "version_major": 2,
       "version_minor": 0
      },
      "text/plain": [
       "VBox(children=(Button(button_style='primary', description='Step One', layout=Layout(height='100%', width='20%'…"
      ]
     },
     "metadata": {},
     "output_type": "display_data"
    }
   ],
   "source": [
    "#import ipywidgets as widgets\n",
    "#from ipywidgets import Output, VBox \n",
    "#from IPython.display import clear_output, display, HTML\n",
    "\n",
    "out1_1 = Output()\n",
    "button_step1_1 = widgets.Button(description=\"Step One\", layout=Layout(width='20%', height='100%'), button_style='primary')\n",
    "count1_1 = 1\n",
    "\n",
    "text1_11 = widgets.HTMLMath(value=\"<b>Step 1:</b> <i>Identify the reactants and products.</i>\")\n",
    "text1_12 = widgets.HTMLMath(value=\"In this example we are told that copper and silver nitrate were reacted to produce copper(II) nitrate and silver. Therefore, the reactants were <b>copper</b> and <b>silver nitrate</b>, and the products were <b>copper(II) nitrate</b> and <b>silver</b>.\")\n",
    "text1_13 = widgets.HTMLMath(value=\"<b>Reactants: copper (Cu), silver nitrate (AgNO<sub>3</sub>).\")\n",
    "text1_14 = widgets.HTMLMath(value=\"<b>Products: silver (Ag), copper(II) nitrate (Cu(NO<sub>3</sub>)<sub>2</sub>).\")\n",
    "\n",
    "def on_button_step1_1_clicked(b):\n",
    "    global count1_1\n",
    "    count1_1 += 1\n",
    "    with out1_1:\n",
    "        clear_output()\n",
    "        if count1_1 % 2 == 0:\n",
    "            display(text1_11, text1_12, text1_13, text1_14)\n",
    "            \n",
    "display(VBox([button_step1_1, out1_1]))\n",
    "button_step1_1.on_click(on_button_step1_1_clicked)"
   ]
  },
  {
   "cell_type": "code",
   "execution_count": 5,
   "metadata": {},
   "outputs": [
    {
     "data": {
      "application/vnd.jupyter.widget-view+json": {
       "model_id": "456ee7b500374655aa42b4a2c25d2b9c",
       "version_major": 2,
       "version_minor": 0
      },
      "text/plain": [
       "VBox(children=(Button(button_style='primary', description='Step Two', layout=Layout(height='100%', width='20%'…"
      ]
     },
     "metadata": {},
     "output_type": "display_data"
    }
   ],
   "source": [
    "#import ipywidgets as widgets\n",
    "#from ipywidgets import Output, VBox \n",
    "#from IPython.display import clear_output, display, HTML\n",
    "\n",
    "out1_2 = Output()\n",
    "button_step1_2 = widgets.Button(description=\"Step Two\", layout=Layout(width='20%', height='100%'), button_style='primary')\n",
    "count1_2 = 1\n",
    "\n",
    "text1_21 = widgets.HTMLMath(value=\"<b>Step 2:</b> <i>Organize the reactants and products into a chemical equation.</i>\")\n",
    "text1_22 = widgets.HTMLMath(value=\"Using the general form for a chemical equation, the reactants are placed on the left side of the arrow, while the products are placed on the right. Each chemical is separated by a plus sign: <b>copper + silver nitrate &rarr; silver + copper(II) nitrate</b>.\")\n",
    "text1_23 = widgets.HTMLMath(value=\"<b>Unbalanced chemical equation: Cu + AgNO<sub>3</sub> &rarr; Ag + Cu(NO<sub>3</sub>)<sub>2</sub></b>\")\n",
    "\n",
    "def on_button_step1_2_clicked(b):\n",
    "    global count1_2\n",
    "    count1_2 += 1\n",
    "    with out1_2:\n",
    "        clear_output()\n",
    "        if count1_2 % 2 == 0:\n",
    "            display(text1_21, text1_22, text1_23)\n",
    "            \n",
    "display(VBox([button_step1_2, out1_2]))\n",
    "button_step1_2.on_click(on_button_step1_2_clicked)"
   ]
  },
  {
   "cell_type": "code",
   "execution_count": 6,
   "metadata": {},
   "outputs": [
    {
     "data": {
      "application/vnd.jupyter.widget-view+json": {
       "model_id": "5db2baea235f49b8b0c1ba57b345eda5",
       "version_major": 2,
       "version_minor": 0
      },
      "text/plain": [
       "VBox(children=(Button(button_style='primary', description='Step Three', layout=Layout(height='100%', width='20…"
      ]
     },
     "metadata": {},
     "output_type": "display_data"
    }
   ],
   "source": [
    "#import ipywidgets as widgets\n",
    "#from ipywidgets import Output, VBox \n",
    "#from IPython.display import clear_output, display, HTML\n",
    "\n",
    "out1_3 = Output()\n",
    "button_step1_3 = widgets.Button(description=\"Step Three\", layout=Layout(width='20%', height='100%'), button_style='primary')\n",
    "count1_3 = 1\n",
    "\n",
    "text1_31 = widgets.HTMLMath(value=\"<b>Step 3:</b> <i>Balance the equation using stoichiometric coefficients.</i>\")\n",
    "text1_32 = widgets.HTMLMath(value=\"To balance the chemical equation, each side must contain an equal number of atoms for each element. This can be accomplished by placing a 2 in front of <b>AgNO<sub>3</sub></b> and <b>Ag</b>.\")\n",
    "text1_33 = widgets.HTMLMath(value=\"<b>Balanced chemical equation: Cu + 2AgNO<sub>3</sub> &rarr; 2Ag + Cu(NO<sub>3</sub>)<sub>2</sub></b>\")\n",
    "\n",
    "def on_button_step1_3_clicked(b):\n",
    "    global count1_3\n",
    "    count1_3 += 1\n",
    "    with out1_3:\n",
    "        clear_output()\n",
    "        if count1_3 % 2 == 0:\n",
    "            display(text1_31, text1_32, text1_33)\n",
    "            \n",
    "display(VBox([button_step1_3, out1_3]))\n",
    "button_step1_3.on_click(on_button_step1_3_clicked)"
   ]
  },
  {
   "cell_type": "markdown",
   "metadata": {},
   "source": [
    "**Practice:** *Select the unbalanced chemical equation that represents each of the following reactions.* "
   ]
  },
  {
   "cell_type": "code",
   "execution_count": 7,
   "metadata": {},
   "outputs": [
    {
     "data": {
      "application/vnd.jupyter.widget-view+json": {
       "model_id": "4dbd735ae63542d7a670dcc05273fa83",
       "version_major": 2,
       "version_minor": 0
      },
      "text/plain": [
       "HTMLMath(value='<b>Chemical reaction:</b> A sample of potassium sulfate was reacted with barium nitrate to for…"
      ]
     },
     "metadata": {},
     "output_type": "display_data"
    },
    {
     "data": {
      "application/vnd.jupyter.widget-view+json": {
       "model_id": "19cdddc4b8374ced866330dd493ebc21",
       "version_major": 2,
       "version_minor": 0
      },
      "text/plain": [
       "HTMLMath(value='<b>(A)</b> K<sub>2</sub>SO<sub>4</sub> &rarr; Ba(NO<sub>3</sub>)<sub>2</sub> + KNO<sub>3</sub>…"
      ]
     },
     "metadata": {},
     "output_type": "display_data"
    },
    {
     "data": {
      "application/vnd.jupyter.widget-view+json": {
       "model_id": "de693b9754184a2b905bb2ecb9f2145e",
       "version_major": 2,
       "version_minor": 0
      },
      "text/plain": [
       "HTMLMath(value='<b>(B)</b> K<sub>2</sub>SO<sub>4</sub> + Ba(NO<sub>3</sub>)<sub>2</sub> &rarr; KNO<sub>3</sub>…"
      ]
     },
     "metadata": {},
     "output_type": "display_data"
    },
    {
     "data": {
      "application/vnd.jupyter.widget-view+json": {
       "model_id": "aef49f522cdc4ed692647097bc706bc8",
       "version_major": 2,
       "version_minor": 0
      },
      "text/plain": [
       "HTMLMath(value='<b>(C)</b> K<sub>2</sub>SO<sub>4</sub> + KNO<sub>3</sub> &rarr; Ba(NO<sub>3</sub>)<sub>2</sub>…"
      ]
     },
     "metadata": {},
     "output_type": "display_data"
    },
    {
     "data": {
      "application/vnd.jupyter.widget-view+json": {
       "model_id": "06edf11b5261451abe63b494d9f473df",
       "version_major": 2,
       "version_minor": 0
      },
      "text/plain": [
       "HTMLMath(value='<b>(D)</b> KNO<sub>3</sub> + BaSO<sub>4</sub> &rarr; K<sub>2</sub>SO<sub>4</sub> + Ba(NO<sub>3…"
      ]
     },
     "metadata": {},
     "output_type": "display_data"
    },
    {
     "data": {
      "application/vnd.jupyter.widget-view+json": {
       "model_id": "6e9331ff5ca54c788f87d1edf81785ff",
       "version_major": 2,
       "version_minor": 0
      },
      "text/plain": [
       "HBox(children=(Button(description='(A)', style=ButtonStyle(button_color='Whitesmoke')), Button(description='(B…"
      ]
     },
     "metadata": {},
     "output_type": "display_data"
    },
    {
     "name": "stdout",
     "output_type": "stream",
     "text": [
      " \r"
     ]
    }
   ],
   "source": [
    "#import ipywidgets as widgets\n",
    "#import random\n",
    "#from IPython.display import clear_output, display, HTML\n",
    "\n",
    "display(widgets.HTMLMath(value=\"<b>Chemical reaction:</b> A sample of potassium sulfate was reacted with barium nitrate to form potassium nitrate and barium sulfate.\"))\n",
    "\n",
    "option_1 = \"K<sub>2</sub>SO<sub>4</sub> + Ba(NO<sub>3</sub>)<sub>2</sub> &rarr; KNO<sub>3</sub> + BaSO<sub>4</sub>\" \n",
    "option_2 = \"KNO<sub>3</sub> + BaSO<sub>4</sub> &rarr; K<sub>2</sub>SO<sub>4</sub> + Ba(NO<sub>3</sub>)<sub>2</sub>\"\n",
    "option_3 = \"K<sub>2</sub>SO<sub>4</sub> &rarr; Ba(NO<sub>3</sub>)<sub>2</sub> + KNO<sub>3</sub> + BaSO<sub>4</sub>\"\n",
    "option_4 = \"K<sub>2</sub>SO<sub>4</sub> + KNO<sub>3</sub> &rarr; Ba(NO<sub>3</sub>)<sub>2</sub> + BaSO<sub>4</sub>\"\n",
    "\n",
    "multiple_choice_4(option_1, option_2, option_3, option_4)"
   ]
  },
  {
   "cell_type": "code",
   "execution_count": 8,
   "metadata": {},
   "outputs": [
    {
     "data": {
      "application/vnd.jupyter.widget-view+json": {
       "model_id": "f57722bdbaef42fc916d151810cebb7c",
       "version_major": 2,
       "version_minor": 0
      },
      "text/plain": [
       "HTMLMath(value='<b>Chemical reaction:</b> Silver chloride and sodium nitrate were produced by combining sodium…"
      ]
     },
     "metadata": {},
     "output_type": "display_data"
    },
    {
     "data": {
      "application/vnd.jupyter.widget-view+json": {
       "model_id": "e9cc8f36de8e4f58bf87329bf33f6577",
       "version_major": 2,
       "version_minor": 0
      },
      "text/plain": [
       "HTMLMath(value='<b>(A)</b> AgCl + AgNO<sub>3</sub> &rarr; NaCl + NaNO<sub>3</sub>')"
      ]
     },
     "metadata": {},
     "output_type": "display_data"
    },
    {
     "data": {
      "application/vnd.jupyter.widget-view+json": {
       "model_id": "a0b16981a6a94bf7a2be29ed2a162100",
       "version_major": 2,
       "version_minor": 0
      },
      "text/plain": [
       "HTMLMath(value='<b>(B)</b> NaCl + AgNO<sub>3</sub> &rarr; AgCl + NaNO<sub>3</sub>')"
      ]
     },
     "metadata": {},
     "output_type": "display_data"
    },
    {
     "data": {
      "application/vnd.jupyter.widget-view+json": {
       "model_id": "47e4649512974fbfa130dbc448970b7a",
       "version_major": 2,
       "version_minor": 0
      },
      "text/plain": [
       "HTMLMath(value='<b>(C)</b> NaCl + NaNO<sub>3</sub> &rarr; AgCl + AgNO<sub>3</sub>')"
      ]
     },
     "metadata": {},
     "output_type": "display_data"
    },
    {
     "data": {
      "application/vnd.jupyter.widget-view+json": {
       "model_id": "85864b7f200345089fb4448335657521",
       "version_major": 2,
       "version_minor": 0
      },
      "text/plain": [
       "HTMLMath(value='<b>(D)</b> AgCl + NaNO<sub>3</sub> &rarr; NaCl + AgNO<sub>3</sub>')"
      ]
     },
     "metadata": {},
     "output_type": "display_data"
    },
    {
     "data": {
      "application/vnd.jupyter.widget-view+json": {
       "model_id": "aa259136a99c461db427236517f30d5a",
       "version_major": 2,
       "version_minor": 0
      },
      "text/plain": [
       "HBox(children=(Button(description='(A)', style=ButtonStyle(button_color='Whitesmoke')), Button(description='(B…"
      ]
     },
     "metadata": {},
     "output_type": "display_data"
    },
    {
     "name": "stdout",
     "output_type": "stream",
     "text": [
      " \r"
     ]
    }
   ],
   "source": [
    "#import ipywidgets as widgets\n",
    "#import random\n",
    "#from IPython.display import clear_output, display, HTML\n",
    "\n",
    "display(widgets.HTMLMath(value=\"<b>Chemical reaction:</b> Silver chloride and sodium nitrate were produced by combining sodium chloride (table salt) with silver nitrate.\"))\n",
    "\n",
    "option_1 = \"NaCl + AgNO<sub>3</sub> &rarr; AgCl + NaNO<sub>3</sub>\" \n",
    "option_2 = \"AgCl + NaNO<sub>3</sub> &rarr; NaCl + AgNO<sub>3</sub>\"\n",
    "option_3 = \"AgCl + AgNO<sub>3</sub> &rarr; NaCl + NaNO<sub>3</sub>\"\n",
    "option_4 = \"NaCl + NaNO<sub>3</sub> &rarr; AgCl + AgNO<sub>3</sub>\"\n",
    "\n",
    "multiple_choice_4(option_1, option_2, option_3, option_4)"
   ]
  },
  {
   "cell_type": "code",
   "execution_count": 9,
   "metadata": {},
   "outputs": [
    {
     "data": {
      "application/vnd.jupyter.widget-view+json": {
       "model_id": "be58a58474fd4071bc452522669aec73",
       "version_major": 2,
       "version_minor": 0
      },
      "text/plain": [
       "HTMLMath(value='<b>Chemical reaction:</b> The combustion of octane resulted in the formation of carbon dioxide…"
      ]
     },
     "metadata": {},
     "output_type": "display_data"
    },
    {
     "data": {
      "application/vnd.jupyter.widget-view+json": {
       "model_id": "3191045acbcb48dfbe69f84026e3750b",
       "version_major": 2,
       "version_minor": 0
      },
      "text/plain": [
       "HTMLMath(value='<b>(A)</b> C<sub>8</sub>H<sub>18</sub> + O<sub>2</sub> &rarr; CO<sub>2</sub> + H<sub>2</sub>O'…"
      ]
     },
     "metadata": {},
     "output_type": "display_data"
    },
    {
     "data": {
      "application/vnd.jupyter.widget-view+json": {
       "model_id": "ce75dab4b5724e09bcb6f03346d25a3e",
       "version_major": 2,
       "version_minor": 0
      },
      "text/plain": [
       "HTMLMath(value='<b>(B)</b> C<sub>8</sub>H<sub>18</sub> + O<sub>2</sub> &rarr; CO<sub>2</sub> + CH<sub>4</sub> …"
      ]
     },
     "metadata": {},
     "output_type": "display_data"
    },
    {
     "data": {
      "application/vnd.jupyter.widget-view+json": {
       "model_id": "8f68a3b4176848a8863c75d81e9a7628",
       "version_major": 2,
       "version_minor": 0
      },
      "text/plain": [
       "HTMLMath(value='<b>(C)</b> C<sub>8</sub>H<sub>18</sub> + O<sub>2</sub> &rarr; CO<sub>2</sub> + CO + H<sub>2</s…"
      ]
     },
     "metadata": {},
     "output_type": "display_data"
    },
    {
     "data": {
      "application/vnd.jupyter.widget-view+json": {
       "model_id": "26b31d10b361440ab943181a2860bc26",
       "version_major": 2,
       "version_minor": 0
      },
      "text/plain": [
       "HTMLMath(value='<b>(D)</b> C<sub>8</sub>H<sub>18</sub> + O<sub>2</sub> &rarr; C<sub>8</sub>H<sub>18</sub> + CO…"
      ]
     },
     "metadata": {},
     "output_type": "display_data"
    },
    {
     "data": {
      "application/vnd.jupyter.widget-view+json": {
       "model_id": "6ee8d6aef7544de3aab9b1fffc21462c",
       "version_major": 2,
       "version_minor": 0
      },
      "text/plain": [
       "HBox(children=(Button(description='(A)', style=ButtonStyle(button_color='Whitesmoke')), Button(description='(B…"
      ]
     },
     "metadata": {},
     "output_type": "display_data"
    },
    {
     "name": "stdout",
     "output_type": "stream",
     "text": [
      " \r"
     ]
    }
   ],
   "source": [
    "#import ipywidgets as widgets\n",
    "#import random\n",
    "#from IPython.display import clear_output, display, HTML\n",
    "\n",
    "display(widgets.HTMLMath(value=\"<b>Chemical reaction:</b> The combustion of octane resulted in the formation of carbon dioxide, carbon monoxide, and steam.\"))\n",
    "\n",
    "option_1 = \"C<sub>8</sub>H<sub>18</sub> + O<sub>2</sub> &rarr; CO<sub>2</sub> + CO + H<sub>2</sub>O\" \n",
    "option_2 = \"C<sub>8</sub>H<sub>18</sub> + O<sub>2</sub> &rarr; CO<sub>2</sub> + H<sub>2</sub>O\"\n",
    "option_3 = \"C<sub>8</sub>H<sub>18</sub> + O<sub>2</sub> &rarr; CO<sub>2</sub> + CH<sub>4</sub> + H<sub>2</sub>O\"\n",
    "option_4 = \"C<sub>8</sub>H<sub>18</sub> + O<sub>2</sub> &rarr; C<sub>8</sub>H<sub>18</sub> + CO<sub>2</sub> + CO + H<sub>2</sub>O\"\n",
    "\n",
    "multiple_choice_4(option_1, option_2, option_3, option_4)"
   ]
  },
  {
   "cell_type": "markdown",
   "metadata": {},
   "source": [
    "## States of Matter\n",
    "\n",
    "Chemical equations may provide additional information, such as the **state of matter** of the chemicals at the time of the reaction. The symbols for each state are: solid (s), liquid (l), gas (g), and aqueous (aq). Recall that an *aqueous* state means that the chemical is dissolved in water. These symbols are placed as a subscript at the end of each chemical in the equation. For example:\n",
    "\n",
    "H<sub>2(g)</sub> + O<sub>2(g)</sub> &rarr; H<sub>2</sub>O<sub>(l)</sub>\n",
    "\n",
    "**Example (revisited):** *A sample of solid copper was placed into a solution of silver nitrate. The copper reacted with the silver nitrate to form aqueous copper(II) nitrate and metallic silver. Select the unbalanced chemical equation that properly represents each state of the reactants and products.*"
   ]
  },
  {
   "cell_type": "code",
   "execution_count": 10,
   "metadata": {},
   "outputs": [
    {
     "data": {
      "application/vnd.jupyter.widget-view+json": {
       "model_id": "70b83784a9474fb181548cc99bffa8e5",
       "version_major": 2,
       "version_minor": 0
      },
      "text/plain": [
       "HTMLMath(value='<b>(A)</b> Cu<sub>(s)</sub> + 2AgNO<sub>3(l)</sub> &rarr; 2Ag<sub>(s)</sub> + Cu(NO<sub>3</sub…"
      ]
     },
     "metadata": {},
     "output_type": "display_data"
    },
    {
     "data": {
      "application/vnd.jupyter.widget-view+json": {
       "model_id": "7795dd145f1b48ecbabd00a17f0c0814",
       "version_major": 2,
       "version_minor": 0
      },
      "text/plain": [
       "HTMLMath(value='<b>(B)</b> Cu<sub>(s)</sub> + 2AgNO<sub>3(aq)</sub> &rarr; 2Ag<sub>(aq)</sub> + Cu(NO<sub>3</s…"
      ]
     },
     "metadata": {},
     "output_type": "display_data"
    },
    {
     "data": {
      "application/vnd.jupyter.widget-view+json": {
       "model_id": "fdbe6067d57a4b4ca993e607ca368b0d",
       "version_major": 2,
       "version_minor": 0
      },
      "text/plain": [
       "HTMLMath(value='<b>(C)</b> Cu<sub>(s)</sub> + 2AgNO<sub>3(aq)</sub> &rarr; 2Ag<sub>(s)</sub> + Cu(NO<sub>3</su…"
      ]
     },
     "metadata": {},
     "output_type": "display_data"
    },
    {
     "data": {
      "application/vnd.jupyter.widget-view+json": {
       "model_id": "6f8f6f14d36b43c2954ec81dae6de101",
       "version_major": 2,
       "version_minor": 0
      },
      "text/plain": [
       "HTMLMath(value='<b>(D)</b> Cu<sub>(s)</sub> + 2AgNO<sub>3(l)</sub> &rarr; 2Ag<sub>(s)</sub> + Cu(NO<sub>3</sub…"
      ]
     },
     "metadata": {},
     "output_type": "display_data"
    },
    {
     "data": {
      "application/vnd.jupyter.widget-view+json": {
       "model_id": "4d28ed2c42f147eb9a3d32ad78196da5",
       "version_major": 2,
       "version_minor": 0
      },
      "text/plain": [
       "HBox(children=(Button(description='(A)', style=ButtonStyle(button_color='Whitesmoke')), Button(description='(B…"
      ]
     },
     "metadata": {},
     "output_type": "display_data"
    },
    {
     "name": "stdout",
     "output_type": "stream",
     "text": [
      " \r"
     ]
    }
   ],
   "source": [
    "#import ipywidgets as widgets\n",
    "#import random\n",
    "#from IPython.display import clear_output, display, HTML\n",
    "\n",
    "option_1 = \"Cu<sub>(s)</sub> + 2AgNO<sub>3(aq)</sub> &rarr; 2Ag<sub>(s)</sub> + Cu(NO<sub>3</sub>)<sub>2(aq)</sub>\" \n",
    "option_2 = \"Cu<sub>(s)</sub> + 2AgNO<sub>3(l)</sub> &rarr; 2Ag<sub>(s)</sub> + Cu(NO<sub>3</sub>)<sub>2(l)</sub>\"\n",
    "option_3 = \"Cu<sub>(s)</sub> + 2AgNO<sub>3(l)</sub> &rarr; 2Ag<sub>(s)</sub> + Cu(NO<sub>3</sub>)<sub>2(aq)</sub>\"\n",
    "option_4 = \"Cu<sub>(s)</sub> + 2AgNO<sub>3(aq)</sub> &rarr; 2Ag<sub>(aq)</sub> + Cu(NO<sub>3</sub>)<sub>2(aq)</sub>\"\n",
    "\n",
    "multiple_choice_4(option_1, option_2, option_3, option_4)"
   ]
  },
  {
   "cell_type": "markdown",
   "metadata": {},
   "source": [
    "## Conservation of Mass\n",
    "\n",
    "The reactions represented by a chemical equation usually occur in a **closed system**: this means that the reactants and products cannot escape. A representation of a closed system is shown below:\n",
    "\n",
    "<img src=\"images/conservation_of_mass.svg\" width=\"75%\"/>\n",
    "\n",
    "In this figure, the box surrounding each side of the equation represents the system in which the reactants and products cannot escape. As a consequence, the total mass within the system, before and after the reaction, remains the same. This is a demonstration of the **law of conservation of mass**, which states that *for any closed system, the mass of the system remains constant over time*. In order for this to occur, the number of atoms of each element in the reactants must be equal to the number of atoms of those same elements in the products. This is the basis for balancing chemical equations. \n",
    "\n",
    "## Balancing Chemical Equations\n",
    "\n",
    "A **balanced chemical equation** is one in which there are an equal number of atoms for each element on both sides of the equation. For example, suppose we wish to balance the following chemical equation:\n",
    "\n",
    "<img src=\"images/balancing_example_1.0.svg\" width=\"50%\"/>\n",
    "\n",
    "There are two Cl atoms on the reactant side, and three Cl atoms on the product side. The equation is unbalanced because there are more Cl atoms on the product side than on the reactant side. To balance the equation, we change the coefficients in front of the reactants and products until both sides have an equal number of atoms for each element. The goal when balancing an equation is to find an appropriate number for <span style='color:blue'>c<sub>1</sub></span>, <span style='color:blue'>c<sub>2</sub></span>, and <span style='color:blue'>c<sub>3</sub></span> that will make the equation: <span style='color:blue'>c<sub>1</sub></span>Fe + <span style='color:blue'>c<sub>2</sub></span>Cl<sub>2</sub> &rarr; <span style='color:blue'>c<sub>3</sub></span>FeCl<sub>3</sub> balanced. \n",
    "\n",
    "<img src=\"images/balancing_example_1.1.svg\" width=\"50%\"/>\n",
    "\n",
    "In this example, there are two Cl atoms on the reactant side, and three Cl atoms on the product side. To add Cl atoms to the reactant side, we can only increase the number of Cl<sub>2</sub> molecules (we cannot change the composition of the molecules themselves). Therefore, we can only add Cl atoms in multiples of two to the reactant side.\n",
    "\n",
    "1Cl<sub>2</sub> = 2 Cl atoms <br>\n",
    "2Cl<sub>2</sub> = 4 Cl atoms <br>\n",
    "3Cl<sub>2</sub> = 6 Cl atoms <br>\n",
    "\n",
    "Likewise, to add Cl atoms to the product side, we can only increase the number of FeCl<sub>3</sub> molecules. Therefore, we can only add Cl atoms in multiples of three to the product side.\n",
    "\n",
    "1FeCl<sub>3</sub> = 3 Cl atoms <br>\n",
    "2FeCl<sub>3</sub> = 6 Cl atoms <br>\n",
    "3FeCl<sub>3</sub> = 9 Cl atoms <br>\n",
    "\n",
    "Notice from above that the lowest common multiple of two and three is six. Therefore, we will need to change the coefficient of Cl<sub>2</sub> to 3Cl<sub>2</sub>, and FeCl<sub>3</sub> to 2FeCl<sub>3</sub>. This results in six Cl atoms on both sides of the equation. After this change, there is one additional Fe atom on the product side. Therefore, the coefficient of Fe must be changed to 2Fe. This results in two Fe atoms on both sides of the equation. The chemical equation is now balanced. \n",
    "\n",
    "The guideline below is a common approach to balancing most common chemical equations:\n",
    "\n",
    "&nbsp; &nbsp; &nbsp; &nbsp; **Step 1:** Balance the metallic elements. <br>\n",
    "&nbsp; &nbsp; &nbsp; &nbsp; **Step 2:** Balance the non-metallic elements, *excluding* hydrogen and oxygen. <br>\n",
    "&nbsp; &nbsp; &nbsp; &nbsp; **Step 3:** Balance the hydrogen. <br>\n",
    "&nbsp; &nbsp; &nbsp; &nbsp; **Step 4:** Balance the oxygen. <br>\n",
    "&nbsp; &nbsp; &nbsp; &nbsp; **Step 5:** Recheck to ensure each element is balanced. Reduce the coefficients if possible. <br>\n",
    "\n",
    "Tip: If any *polyatomic ions* are present (e.g. SO<sub>4</sub>, NH<sub>4</sub>, NO<sub>3</sub>, CO<sub>3</sub>, OH, etc.), then they may be balanced as one unit. This only works if they occur on both sides of the equation.\n",
    "\n",
    "**Example:** *Balance the following reaction:* <b>Al(OH)<sub>3</sub> + H<sub>2</sub>SO<sub>4</sub> &rarr; Al<sub>2</sub>(SO<sub>4</sub>)<sub>3</sub> + H<sub>2</sub>O</b>"
   ]
  },
  {
   "cell_type": "code",
   "execution_count": 11,
   "metadata": {},
   "outputs": [
    {
     "data": {
      "application/vnd.jupyter.widget-view+json": {
       "model_id": "f460fb43b1fb4cffa8f15e6940c53d4c",
       "version_major": 2,
       "version_minor": 0
      },
      "text/plain": [
       "VBox(children=(Button(button_style='primary', description='Step One', layout=Layout(height='100%', width='20%'…"
      ]
     },
     "metadata": {},
     "output_type": "display_data"
    }
   ],
   "source": [
    "#import ipywidgets as widgets\n",
    "#from ipywidgets import Output, VBox \n",
    "#from IPython.display import clear_output, display, HTML\n",
    "\n",
    "out2_1 = Output()\n",
    "button_step2_1 = widgets.Button(description=\"Step One\", layout=Layout(width='20%', height='100%'), button_style='primary')\n",
    "count2_1 = 1\n",
    "\n",
    "text2_11 = widgets.HTMLMath(value=\"<b>Step 1:</b> <i>Balance the metallic elements.</i>\")\n",
    "text2_12 = widgets.HTMLMath(value=\"There is one metallic element present: aluminium (Al). There is one Al atom on the reactant side, and two Al atoms on the product side. Therefore, a two must be placed in front of the molecule bearing the Al atom on the reactant side.\")\n",
    "text2_13 = widgets.HTMLMath(value=\"<span style='color:blue'>2Al</span>(OH)<sub>3</sub> + H<sub>2</sub>SO<sub>4</sub> &rarr; <span style='color:blue'>Al<sub>2</span></sub>(SO<sub>4</sub>)<sub>3</sub> + H<sub>2</sub>O\")\n",
    "text2_14 = widgets.HTMLMath(value=\"There are now two Al atoms on both the reactant and product sides. The Al is now balanced.\")\n",
    "\n",
    "def on_button_step2_1_clicked(b):\n",
    "    global count2_1\n",
    "    count2_1 += 1\n",
    "    with out2_1:\n",
    "        clear_output()\n",
    "        if count2_1 % 2 == 0:\n",
    "            display(text2_11, text2_12, text2_13, text2_14)\n",
    "            \n",
    "display(VBox([button_step2_1, out2_1]))\n",
    "button_step2_1.on_click(on_button_step2_1_clicked)"
   ]
  },
  {
   "cell_type": "code",
   "execution_count": 12,
   "metadata": {},
   "outputs": [
    {
     "data": {
      "application/vnd.jupyter.widget-view+json": {
       "model_id": "1f9e3fd95c1d4fa892fe0b5177e7c821",
       "version_major": 2,
       "version_minor": 0
      },
      "text/plain": [
       "VBox(children=(Button(button_style='primary', description='Step Two', layout=Layout(height='100%', width='20%'…"
      ]
     },
     "metadata": {},
     "output_type": "display_data"
    }
   ],
   "source": [
    "#import ipywidgets as widgets\n",
    "#from ipywidgets import Output, VBox \n",
    "#from IPython.display import clear_output, display, HTML\n",
    "\n",
    "out2_2 = Output()\n",
    "button_step2_2 = widgets.Button(description=\"Step Two\", layout=Layout(width='20%', height='100%'), button_style='primary')\n",
    "count2_2 = 1\n",
    "\n",
    "text2_21 = widgets.HTMLMath(value=\"<b>Step 2:</b> <i>Balance the non-metallic elements, excluding hydrogen and oxygen.</i>\")\n",
    "text2_22 = widgets.HTMLMath(value=\"There is one non-metallic element present (excluding the hydrogen and oxygen): sulfur (S). There is one S atom on the reactant side, and three S atoms on the product side. Therefore, a three must be placed in front of the molecule bearing the sulfur on the reactant side.\")\n",
    "text2_23 = widgets.HTMLMath(value=\"2Al(OH)<sub>3</sub> + <span style='color:blue'>3</span>H<sub>2</sub><span style='color:blue'>S</span>O<sub>4</sub> &rarr; Al<sub>2</sub>(<span style='color:blue'>S</span>O<sub>4</sub>)<span style='color:blue'><sub>3</sub></span> + H<sub>2</sub>O\")\n",
    "text2_24 = widgets.HTMLMath(value=\"There are now three S atoms on both the reactant and product sides. The S is now balanced.\")\n",
    "\n",
    "def on_button_step2_2_clicked(b):\n",
    "    global count2_2\n",
    "    count2_2 += 1\n",
    "    with out2_2:\n",
    "        clear_output()\n",
    "        if count2_2 % 2 == 0:\n",
    "            display(text2_21, text2_22, text2_23, text2_24)\n",
    "            \n",
    "display(VBox([button_step2_2, out2_2]))\n",
    "button_step2_2.on_click(on_button_step2_2_clicked)"
   ]
  },
  {
   "cell_type": "code",
   "execution_count": 13,
   "metadata": {},
   "outputs": [
    {
     "data": {
      "application/vnd.jupyter.widget-view+json": {
       "model_id": "e5adeaa9936e486eafd6138fac33c866",
       "version_major": 2,
       "version_minor": 0
      },
      "text/plain": [
       "VBox(children=(Button(button_style='primary', description='Step Three', layout=Layout(height='100%', width='20…"
      ]
     },
     "metadata": {},
     "output_type": "display_data"
    }
   ],
   "source": [
    "#import ipywidgets as widgets\n",
    "#from ipywidgets import Output, VBox \n",
    "#from IPython.display import clear_output, display, HTML\n",
    "\n",
    "out2_3 = Output()\n",
    "button_step2_3 = widgets.Button(description=\"Step Three\", layout=Layout(width='20%', height='100%'), button_style='primary')\n",
    "count2_3 = 1\n",
    "\n",
    "text2_31 = widgets.HTMLMath(value=\"<b>Step 3:</b> <i>Balance the hydrogen.</i>\")\n",
    "text2_32 = widgets.HTMLMath(value=\"There are twelve H atoms on the reactant side, and two H atoms on the product side. Therefore, a six must be placed in front of the molecule bearing the hydrogen on the product side.\")\n",
    "text2_33 = widgets.HTMLMath(value=\"<span style='color:blue'>2</span>Al(O<span style='color:blue'>H</span>)<span style='color:blue'><sub>3</sub></span> + <span style='color:blue'>3H<sub>2</sub></span>SO<sub>4</sub> &rarr; Al<sub>2</sub>(SO<sub>4</sub>)<sub>3</sub> + <span style='color:blue'>6H<sub>2</sub></span>O\")\n",
    "text2_34 = widgets.HTMLMath(value=\"There are now twelve H atoms on both the reactant and product sides. The H is now balanced.\")\n",
    "\n",
    "def on_button_step2_3_clicked(b):\n",
    "    global count2_3\n",
    "    count2_3 += 1\n",
    "    with out2_3:\n",
    "        clear_output()\n",
    "        if count2_3 % 2 == 0:\n",
    "            display(text2_31, text2_32, text2_33, text2_34)\n",
    "            \n",
    "display(VBox([button_step2_3, out2_3]))\n",
    "button_step2_3.on_click(on_button_step2_3_clicked)"
   ]
  },
  {
   "cell_type": "code",
   "execution_count": 14,
   "metadata": {},
   "outputs": [
    {
     "data": {
      "application/vnd.jupyter.widget-view+json": {
       "model_id": "ecf9fce5004b4647a5fdd06c56aa0432",
       "version_major": 2,
       "version_minor": 0
      },
      "text/plain": [
       "VBox(children=(Button(button_style='primary', description='Step Four', layout=Layout(height='100%', width='20%…"
      ]
     },
     "metadata": {},
     "output_type": "display_data"
    }
   ],
   "source": [
    "#import ipywidgets as widgets\n",
    "#from ipywidgets import Output, VBox \n",
    "#from IPython.display import clear_output, display, HTML\n",
    "\n",
    "out2_4 = Output()\n",
    "button_step2_4 = widgets.Button(description=\"Step Four\", layout=Layout(width='20%', height='100%'), button_style='primary')\n",
    "count2_4 = 1\n",
    "\n",
    "text2_41 = widgets.HTMLMath(value=\"<b>Step 4:</b> <i>Balance the oxygen.</i>\")\n",
    "text2_42 = widgets.HTMLMath(value=\"There are eighteen O atoms on the reactant side, and eighteen O atoms on the product side. Therefore, the oxygen atoms are balanced.\")\n",
    "text2_43 = widgets.HTMLMath(value=\"<span style='color:blue'>2</span>Al(<span style='color:blue'>O</span>H)<span style='color:blue'><sub>3</sub></span> + <span style='color:blue'>3</span>H<sub>2</sub>S<span style='color:blue'>O<sub>4</sub></span> &rarr; Al<sub>2</sub>(S<span style='color:blue'>O<sub>4</sub></span>)<span style='color:blue'><sub>3</sub></span> + <span style='color:blue'>6</span>H<sub>2</sub><span style='color:blue'>O</span>\")\n",
    "\n",
    "def on_button_step2_4_clicked(b):\n",
    "    global count2_4\n",
    "    count2_4 += 1\n",
    "    with out2_4:\n",
    "        clear_output()\n",
    "        if count2_4 % 2 == 0:\n",
    "            display(text2_41, text2_42, text2_43)\n",
    "            \n",
    "display(VBox([button_step2_4, out2_4]))\n",
    "button_step2_4.on_click(on_button_step2_4_clicked)"
   ]
  },
  {
   "cell_type": "code",
   "execution_count": 15,
   "metadata": {},
   "outputs": [
    {
     "data": {
      "application/vnd.jupyter.widget-view+json": {
       "model_id": "ff9a7f3ae5184918a4ee8d47b6964782",
       "version_major": 2,
       "version_minor": 0
      },
      "text/plain": [
       "VBox(children=(Button(button_style='primary', description='Step Five', layout=Layout(height='100%', width='20%…"
      ]
     },
     "metadata": {},
     "output_type": "display_data"
    }
   ],
   "source": [
    "#import ipywidgets as widgets\n",
    "#from ipywidgets import Output, VBox \n",
    "#from IPython.display import clear_output, display, HTML\n",
    "\n",
    "out2_5 = Output()\n",
    "button_step2_5 = widgets.Button(description=\"Step Five\", layout=Layout(width='20%', height='100%'), button_style='primary')\n",
    "count2_5 = 1\n",
    "\n",
    "text2_51 = widgets.HTMLMath(value=\"<b>Step 5:</b> <i>Recheck to ensure each element is balanced. Reduce the coefficients if possible.</i>\")\n",
    "text2_52 = widgets.HTMLMath(value=\"There are two Al atoms, three S atoms, twelve H atoms and eighteen O atoms on each side of the equation. The equation is therefore balanced. The stoichiometric coefficients are 2, 3, 1, and 6. The greatest common divisor among these integers is 1. Therefore, the coefficients are already reduced to their lowest terms. If the coefficients were not in their lowest terms, then they could be reduced by factoring each coefficient into primes, and then cancelling all of the primes common to every term.\")\n",
    "text2_53 = widgets.HTMLMath(value=\"The final balanced chemical equation is: <span style='color:blue'>2Al(OH)<sub>3</sub> + 3H<sub>2</sub>SO<sub>4</sub> &rarr; Al<sub>2</sub>(SO<sub>4</sub>)<sub>3</sub> + 6H<sub>2</sub>O</span>\")\n",
    "\n",
    "def on_button_step2_5_clicked(b):\n",
    "    global count2_5\n",
    "    count2_5 += 1\n",
    "    with out2_5:\n",
    "        clear_output()\n",
    "        if count2_5 % 2 == 0:\n",
    "            display(text2_51, text2_52, text2_53)\n",
    "            \n",
    "display(VBox([button_step2_5, out2_5]))\n",
    "button_step2_5.on_click(on_button_step2_5_clicked)"
   ]
  },
  {
   "cell_type": "markdown",
   "metadata": {},
   "source": [
    "**Practice:** *Select the properly balanced equation for each reaction.* "
   ]
  },
  {
   "cell_type": "code",
   "execution_count": 16,
   "metadata": {},
   "outputs": [
    {
     "data": {
      "application/vnd.jupyter.widget-view+json": {
       "model_id": "0622ee886b8c4583a1637c085ecc292d",
       "version_major": 2,
       "version_minor": 0
      },
      "text/plain": [
       "HTMLMath(value='<b>Chemical reaction:</b> Al + O<sub>2</sub> &rarr; Al<sub>2</sub>O<sub>3</sub>.')"
      ]
     },
     "metadata": {},
     "output_type": "display_data"
    },
    {
     "data": {
      "application/vnd.jupyter.widget-view+json": {
       "model_id": "5aa42ca9204a4894a054b3b01f89908e",
       "version_major": 2,
       "version_minor": 0
      },
      "text/plain": [
       "HTMLMath(value='<b>(A)</b> 2Al + O<sub>2</sub> &rarr; Al<sub>2</sub>O<sub>3</sub>')"
      ]
     },
     "metadata": {},
     "output_type": "display_data"
    },
    {
     "data": {
      "application/vnd.jupyter.widget-view+json": {
       "model_id": "54a792d594e140fc9644c4c6c380ea36",
       "version_major": 2,
       "version_minor": 0
      },
      "text/plain": [
       "HTMLMath(value='<b>(B)</b> 2Al + 3O<sub>2</sub> &rarr; 2Al<sub>2</sub>O<sub>3</sub>')"
      ]
     },
     "metadata": {},
     "output_type": "display_data"
    },
    {
     "data": {
      "application/vnd.jupyter.widget-view+json": {
       "model_id": "f3b0d57243c04665ab43bd815fd86a1e",
       "version_major": 2,
       "version_minor": 0
      },
      "text/plain": [
       "HTMLMath(value='<b>(C)</b> 4Al + 3O<sub>2</sub> &rarr; 2Al<sub>2</sub>O<sub>3</sub>')"
      ]
     },
     "metadata": {},
     "output_type": "display_data"
    },
    {
     "data": {
      "application/vnd.jupyter.widget-view+json": {
       "model_id": "dc76b06754e247bbbd19ec48667a1ee3",
       "version_major": 2,
       "version_minor": 0
      },
      "text/plain": [
       "HTMLMath(value='<b>(D)</b> Al + 3O<sub>2</sub> &rarr; 2Al<sub>2</sub>O<sub>3</sub>')"
      ]
     },
     "metadata": {},
     "output_type": "display_data"
    },
    {
     "data": {
      "application/vnd.jupyter.widget-view+json": {
       "model_id": "c43afc9e87704aca8bc3cd5e04059e34",
       "version_major": 2,
       "version_minor": 0
      },
      "text/plain": [
       "HBox(children=(Button(description='(A)', style=ButtonStyle(button_color='Whitesmoke')), Button(description='(B…"
      ]
     },
     "metadata": {},
     "output_type": "display_data"
    },
    {
     "name": "stdout",
     "output_type": "stream",
     "text": [
      " \r"
     ]
    }
   ],
   "source": [
    "#import ipywidgets as widgets\n",
    "#import random\n",
    "#from IPython.display import clear_output, display, HTML\n",
    "\n",
    "display(widgets.HTMLMath(value=\"<b>Chemical reaction:</b> Al + O<sub>2</sub> &rarr; Al<sub>2</sub>O<sub>3</sub>.\"))\n",
    "\n",
    "option_1 = \"4Al + 3O<sub>2</sub> &rarr; 2Al<sub>2</sub>O<sub>3</sub>\" \n",
    "option_2 = \"2Al + 3O<sub>2</sub> &rarr; 2Al<sub>2</sub>O<sub>3</sub>\"\n",
    "option_3 = \"Al + 3O<sub>2</sub> &rarr; 2Al<sub>2</sub>O<sub>3</sub>\"\n",
    "option_4 = \"2Al + O<sub>2</sub> &rarr; Al<sub>2</sub>O<sub>3</sub>\"\n",
    "\n",
    "multiple_choice_4(option_1, option_2, option_3, option_4)"
   ]
  },
  {
   "cell_type": "code",
   "execution_count": 17,
   "metadata": {},
   "outputs": [
    {
     "data": {
      "application/vnd.jupyter.widget-view+json": {
       "model_id": "df73666507104b7a850b1963d2e72acb",
       "version_major": 2,
       "version_minor": 0
      },
      "text/plain": [
       "HTMLMath(value='<b>Chemical reaction:</b> N<sub>2</sub> + H<sub>2</sub> &rarr; NH<sub>3</sub>.')"
      ]
     },
     "metadata": {},
     "output_type": "display_data"
    },
    {
     "data": {
      "application/vnd.jupyter.widget-view+json": {
       "model_id": "e02cc9bcc30c4b218e098d3a4544896a",
       "version_major": 2,
       "version_minor": 0
      },
      "text/plain": [
       "HTMLMath(value='<b>(A)</b> N<sub>2</sub> + 3H<sub>2</sub> &rarr; 2NH<sub>3</sub>')"
      ]
     },
     "metadata": {},
     "output_type": "display_data"
    },
    {
     "data": {
      "application/vnd.jupyter.widget-view+json": {
       "model_id": "66a50103e25243f9bd2fd4a36f32765b",
       "version_major": 2,
       "version_minor": 0
      },
      "text/plain": [
       "HTMLMath(value='<b>(B)</b> N<sub>2</sub> + 6H<sub>2</sub> &rarr; 2NH<sub>3</sub>')"
      ]
     },
     "metadata": {},
     "output_type": "display_data"
    },
    {
     "data": {
      "application/vnd.jupyter.widget-view+json": {
       "model_id": "5a9c069c2e164a79a30c95061bd10784",
       "version_major": 2,
       "version_minor": 0
      },
      "text/plain": [
       "HTMLMath(value='<b>(C)</b> N<sub>2</sub> + H<sub>2</sub> &rarr; NH<sub>3</sub>')"
      ]
     },
     "metadata": {},
     "output_type": "display_data"
    },
    {
     "data": {
      "application/vnd.jupyter.widget-view+json": {
       "model_id": "963e2385ee744ebc92853e001151850b",
       "version_major": 2,
       "version_minor": 0
      },
      "text/plain": [
       "HTMLMath(value='<b>(D)</b> N<sub>2</sub> + 3H<sub>2</sub> &rarr; NH<sub>3</sub>')"
      ]
     },
     "metadata": {},
     "output_type": "display_data"
    },
    {
     "data": {
      "application/vnd.jupyter.widget-view+json": {
       "model_id": "b5d04cda05dd4f61b2f663fa6490d2ad",
       "version_major": 2,
       "version_minor": 0
      },
      "text/plain": [
       "HBox(children=(Button(description='(A)', style=ButtonStyle(button_color='Whitesmoke')), Button(description='(B…"
      ]
     },
     "metadata": {},
     "output_type": "display_data"
    },
    {
     "name": "stdout",
     "output_type": "stream",
     "text": [
      " \r"
     ]
    }
   ],
   "source": [
    "#import ipywidgets as widgets\n",
    "#import random\n",
    "#from IPython.display import clear_output, display, HTML\n",
    "\n",
    "display(widgets.HTMLMath(value=\"<b>Chemical reaction:</b> N<sub>2</sub> + H<sub>2</sub> &rarr; NH<sub>3</sub>.\"))\n",
    "\n",
    "option_1 = \"N<sub>2</sub> + 3H<sub>2</sub> &rarr; 2NH<sub>3</sub>\" \n",
    "option_2 = \"N<sub>2</sub> + 6H<sub>2</sub> &rarr; 2NH<sub>3</sub>\"\n",
    "option_3 = \"N<sub>2</sub> + 3H<sub>2</sub> &rarr; NH<sub>3</sub>\"\n",
    "option_4 = \"N<sub>2</sub> + H<sub>2</sub> &rarr; NH<sub>3</sub>\"\n",
    "\n",
    "multiple_choice_4(option_1, option_2, option_3, option_4)"
   ]
  },
  {
   "cell_type": "code",
   "execution_count": 18,
   "metadata": {},
   "outputs": [
    {
     "data": {
      "application/vnd.jupyter.widget-view+json": {
       "model_id": "1aa8cc7be55d4fc8b8fdfe00c7419f55",
       "version_major": 2,
       "version_minor": 0
      },
      "text/plain": [
       "HTMLMath(value='<b>Chemical reaction:</b> Al + Br<sub>2</sub> &rarr; AlBr<sub>3</sub>.')"
      ]
     },
     "metadata": {},
     "output_type": "display_data"
    },
    {
     "data": {
      "application/vnd.jupyter.widget-view+json": {
       "model_id": "c4f003fd23724d2fae4f9fd82c40252d",
       "version_major": 2,
       "version_minor": 0
      },
      "text/plain": [
       "HTMLMath(value='<b>(A)</b> Al + 3Br<sub>2</sub> &rarr; 2AlBr<sub>3</sub>')"
      ]
     },
     "metadata": {},
     "output_type": "display_data"
    },
    {
     "data": {
      "application/vnd.jupyter.widget-view+json": {
       "model_id": "dd6329f102604166b73d4b4c31d32141",
       "version_major": 2,
       "version_minor": 0
      },
      "text/plain": [
       "HTMLMath(value='<b>(B)</b> 2Al + 3Br<sub>2</sub> &rarr; 2AlBr<sub>3</sub>')"
      ]
     },
     "metadata": {},
     "output_type": "display_data"
    },
    {
     "data": {
      "application/vnd.jupyter.widget-view+json": {
       "model_id": "457080bb3fb94f65930f756cff9f0446",
       "version_major": 2,
       "version_minor": 0
      },
      "text/plain": [
       "HTMLMath(value='<b>(C)</b> Al + Br<sub>2</sub> &rarr; AlBr<sub>3</sub>')"
      ]
     },
     "metadata": {},
     "output_type": "display_data"
    },
    {
     "data": {
      "application/vnd.jupyter.widget-view+json": {
       "model_id": "5e8d40ed0e9c4c28b0163e2c3960e80c",
       "version_major": 2,
       "version_minor": 0
      },
      "text/plain": [
       "HTMLMath(value='<b>(D)</b> Al + 3Br<sub>2</sub> &rarr; AlBr<sub>3</sub>')"
      ]
     },
     "metadata": {},
     "output_type": "display_data"
    },
    {
     "data": {
      "application/vnd.jupyter.widget-view+json": {
       "model_id": "f5ff747f6f974e3db66f7b759594f28b",
       "version_major": 2,
       "version_minor": 0
      },
      "text/plain": [
       "HBox(children=(Button(description='(A)', style=ButtonStyle(button_color='Whitesmoke')), Button(description='(B…"
      ]
     },
     "metadata": {},
     "output_type": "display_data"
    },
    {
     "name": "stdout",
     "output_type": "stream",
     "text": [
      " \r"
     ]
    }
   ],
   "source": [
    "#import ipywidgets as widgets\n",
    "#import random\n",
    "#from IPython.display import clear_output, display, HTML\n",
    "\n",
    "display(widgets.HTMLMath(value=\"<b>Chemical reaction:</b> Al + Br<sub>2</sub> &rarr; AlBr<sub>3</sub>.\"))\n",
    "\n",
    "option_1 = \"2Al + 3Br<sub>2</sub> &rarr; 2AlBr<sub>3</sub>\" \n",
    "option_2 = \"Al + Br<sub>2</sub> &rarr; AlBr<sub>3</sub>\"\n",
    "option_3 = \"Al + 3Br<sub>2</sub> &rarr; 2AlBr<sub>3</sub>\"\n",
    "option_4 = \"Al + 3Br<sub>2</sub> &rarr; AlBr<sub>3</sub>\"\n",
    "\n",
    "multiple_choice_4(option_1, option_2, option_3, option_4)"
   ]
  },
  {
   "cell_type": "markdown",
   "metadata": {},
   "source": [
    "**Practice:** *Assign the correct stoichiometric coefficients to each chemical to balance the chemical equation.* "
   ]
  },
  {
   "cell_type": "code",
   "execution_count": 19,
   "metadata": {},
   "outputs": [
    {
     "data": {
      "application/vnd.jupyter.widget-view+json": {
       "model_id": "80e58bb9fafe49f3abd853e357799493",
       "version_major": 2,
       "version_minor": 0
      },
      "text/plain": [
       "HTMLMath(value='N<sub>2</sub>H<sub>4</sub> + O<sub>2</sub> &rarr; H<sub>2</sub>O + N<sub>2</sub>')"
      ]
     },
     "metadata": {},
     "output_type": "display_data"
    },
    {
     "data": {
      "application/vnd.jupyter.widget-view+json": {
       "model_id": "3014cc54fbed4905aae9b75d251ef09c",
       "version_major": 2,
       "version_minor": 0
      },
      "text/plain": [
       "HBox(children=(VBox(children=(Dropdown(description='N<sub>2</sub>H<sub>4</sub>', options={' ': 0, '0': 1, '1':…"
      ]
     },
     "metadata": {},
     "output_type": "display_data"
    },
    {
     "name": "stdout",
     "output_type": "stream",
     "text": [
      " \r"
     ]
    }
   ],
   "source": [
    "#import ipywidgets as widgets\n",
    "\n",
    "#Create dropdown menus\n",
    "\n",
    "equation2_1 = widgets.HTMLMath(value=\"N<sub>2</sub>H<sub>4</sub> + O<sub>2</sub> &rarr; H<sub>2</sub>O + N<sub>2</sub>\")\n",
    "chem2_1 = \"N<sub>2</sub>H<sub>4</sub>\"; chem2_2 = \"O<sub>2</sub>\"; chem2_3 = \"H<sub>2</sub>O\"; chem2_4 = \"N<sub>2</sub>\"\n",
    "ans2_1 = \"1\"; ans2_2 = \"1\"; ans2_3 = \"2\"; ans2_4 = \"1\"\n",
    "\n",
    "display(equation2_1)\n",
    "\n",
    "dropdown2_1 = widgets.Dropdown(options={' ':0,'0': 1, '1': 2, '2': 3, '3': 4, '4': 5, '5': 6, '6': 7}, value=0, description=chem2_1,)\n",
    "dropdown2_2 = widgets.Dropdown(options={' ':0,'0': 1, '1': 2, '2': 3, '3': 4, '4': 5, '5': 6, '6': 7}, value=0, description=chem2_2,)\n",
    "dropdown2_3 = widgets.Dropdown(options={' ':0,'0': 1, '1': 2, '2': 3, '3': 4, '4': 5, '5': 6, '6': 7}, value=0, description=chem2_3,)\n",
    "dropdown2_4 = widgets.Dropdown(options={' ':0,'0': 1, '1': 2, '2': 3, '3': 4, '4': 5, '5': 6, '6': 7}, value=0, description=chem2_4,)\n",
    "\n",
    "#Display menus as 2x2 table\n",
    "container2_1 = widgets.VBox(children=[dropdown2_1,dropdown2_2])\n",
    "container2_2 = widgets.VBox(children=[dropdown2_3,dropdown2_4])\n",
    "display(widgets.HBox(children=[container2_1, container2_2])), print(\" \", end='\\r')\n",
    "\n",
    "#Evaluate input\n",
    "def check_answer2_1(b):\n",
    "    answer2_1 = dropdown2_1.label \n",
    "    answer2_2 = dropdown2_2.label\n",
    "    answer2_3 = dropdown2_3.label \n",
    "    answer2_4 = dropdown2_4.label\n",
    "\n",
    "    if answer2_1 == ans2_1 and answer2_2 == ans2_2 and answer2_3 == ans2_3 and answer2_4 == ans2_4:\n",
    "        print(\"Correct! The balanced equation is: N\\u2082H\\u2084 + O\\u2082 \\u2192 2H\\u2082O + N\\u2082\", end='\\r')\n",
    "    elif answer2_1 != ' ' and answer2_2 != ' ' and answer2_3 != ' ' and answer2_4 != ' ':\n",
    "        print(\"Try again.                                                                            \", end='\\r')\n",
    "    else:\n",
    "        print(\"                                                                                      \", end='\\r')\n",
    "\n",
    "dropdown2_1.observe(check_answer2_1, names='value')\n",
    "dropdown2_2.observe(check_answer2_1, names='value')\n",
    "dropdown2_3.observe(check_answer2_1, names='value')\n",
    "dropdown2_4.observe(check_answer2_1, names='value')"
   ]
  },
  {
   "cell_type": "code",
   "execution_count": 20,
   "metadata": {},
   "outputs": [
    {
     "data": {
      "application/vnd.jupyter.widget-view+json": {
       "model_id": "5b1dc3fe9e2d4dabac88eac157bc6d2b",
       "version_major": 2,
       "version_minor": 0
      },
      "text/plain": [
       "HTMLMath(value='Na + H<sub>2</sub>O &rarr; NaOH + H<sub>2</sub>')"
      ]
     },
     "metadata": {},
     "output_type": "display_data"
    },
    {
     "data": {
      "application/vnd.jupyter.widget-view+json": {
       "model_id": "6f061706d0564c9ba4acc6ac095708ef",
       "version_major": 2,
       "version_minor": 0
      },
      "text/plain": [
       "HBox(children=(VBox(children=(Dropdown(description='Na', options={' ': 0, '0': 1, '1': 2, '2': 3, '3': 4, '4':…"
      ]
     },
     "metadata": {},
     "output_type": "display_data"
    },
    {
     "name": "stdout",
     "output_type": "stream",
     "text": [
      " \r"
     ]
    }
   ],
   "source": [
    "#import ipywidgets as widgets\n",
    "\n",
    "#Create dropdown menus\n",
    "\n",
    "equation3_1 = widgets.HTMLMath(value=\"Na + H<sub>2</sub>O &rarr; NaOH + H<sub>2</sub>\")\n",
    "chem3_1 = \"Na\"; chem3_2 = \"H<sub>2</sub>O\"; chem3_3 = \"NaOH\"; chem3_4 = \"H<sub>2</sub>\"\n",
    "ans3_1 = \"2\"; ans3_2 = \"2\"; ans3_3 = \"2\"; ans3_4 = \"1\"\n",
    "\n",
    "display(equation3_1)\n",
    "\n",
    "dropdown3_1 = widgets.Dropdown(options={' ':0,'0': 1, '1': 2, '2': 3, '3': 4, '4': 5, '5': 6, '6': 7}, value=0, description=chem3_1,)\n",
    "dropdown3_2 = widgets.Dropdown(options={' ':0,'0': 1, '1': 2, '2': 3, '3': 4, '4': 5, '5': 6, '6': 7}, value=0, description=chem3_2,)\n",
    "dropdown3_3 = widgets.Dropdown(options={' ':0,'0': 1, '1': 2, '2': 3, '3': 4, '4': 5, '5': 6, '6': 7}, value=0, description=chem3_3,)\n",
    "dropdown3_4 = widgets.Dropdown(options={' ':0,'0': 1, '1': 2, '2': 3, '3': 4, '4': 5, '5': 6, '6': 7}, value=0, description=chem3_4,)\n",
    "\n",
    "#Display menus as 2x2 table\n",
    "container3_1 = widgets.VBox(children=[dropdown3_1,dropdown3_2])\n",
    "container3_2 = widgets.VBox(children=[dropdown3_3,dropdown3_4])\n",
    "display(widgets.HBox(children=[container3_1, container3_2])), print(\" \", end='\\r')\n",
    "\n",
    "#Evaluate input\n",
    "def check_answer3_1(b):\n",
    "    answer3_1 = dropdown3_1.label \n",
    "    answer3_2 = dropdown3_2.label\n",
    "    answer3_3 = dropdown3_3.label \n",
    "    answer3_4 = dropdown3_4.label\n",
    "\n",
    "    if answer3_1 == ans3_1 and answer3_2 == ans3_2 and answer3_3 == ans3_3 and answer3_4 == ans3_4:\n",
    "        print(\"Correct! The balanced equation is: 2Na + 2H\\u2082O \\u2192 2NaOH + H\\u2082\", end='\\r')\n",
    "    elif answer3_1 != ' ' and answer3_2 != ' ' and answer3_3 != ' ' and answer3_4 != ' ':\n",
    "        print(\"Try again.                                                                            \", end='\\r')\n",
    "    else:\n",
    "        print(\"                                                                                      \", end='\\r')\n",
    "\n",
    "dropdown3_1.observe(check_answer3_1, names='value')\n",
    "dropdown3_2.observe(check_answer3_1, names='value')\n",
    "dropdown3_3.observe(check_answer3_1, names='value')\n",
    "dropdown3_4.observe(check_answer3_1, names='value')"
   ]
  },
  {
   "cell_type": "code",
   "execution_count": 21,
   "metadata": {},
   "outputs": [
    {
     "data": {
      "application/vnd.jupyter.widget-view+json": {
       "model_id": "fc3d696a9e894fbdae5b9caa2b9815d8",
       "version_major": 2,
       "version_minor": 0
      },
      "text/plain": [
       "HTMLMath(value='Ca + HNO<sub>3</sub> &rarr; H<sub>2</sub> + Ca(NO<sub>3</sub>)<sub>2</sub>')"
      ]
     },
     "metadata": {},
     "output_type": "display_data"
    },
    {
     "data": {
      "application/vnd.jupyter.widget-view+json": {
       "model_id": "6d2b2ce94204454ca85939073e9eec2d",
       "version_major": 2,
       "version_minor": 0
      },
      "text/plain": [
       "HBox(children=(VBox(children=(Dropdown(description='Ca', options={' ': 0, '0': 1, '1': 2, '2': 3, '3': 4, '4':…"
      ]
     },
     "metadata": {},
     "output_type": "display_data"
    },
    {
     "name": "stdout",
     "output_type": "stream",
     "text": [
      " \r"
     ]
    }
   ],
   "source": [
    "#import ipywidgets as widgets\n",
    "\n",
    "#Create dropdown menus\n",
    "\n",
    "equation4_1 = widgets.HTMLMath(value=\"Ca + HNO<sub>3</sub> &rarr; H<sub>2</sub> + Ca(NO<sub>3</sub>)<sub>2</sub>\")\n",
    "chem4_1 = \"Ca\"; chem4_2 = \"HNO<sub>3</sub>\"; chem4_3 = \"H<sub>2</sub>\"; chem4_4 = \"Ca(NO<sub>3</sub>)<sub>2</sub>\"\n",
    "ans4_1 = \"1\"; ans4_2 = \"2\"; ans4_3 = \"1\"; ans4_4 = \"1\"\n",
    "\n",
    "display(equation4_1)\n",
    "\n",
    "dropdown4_1 = widgets.Dropdown(options={' ':0,'0': 1, '1': 2, '2': 3, '3': 4, '4': 5, '5': 6, '6': 7}, value=0, description=chem4_1,)\n",
    "dropdown4_2 = widgets.Dropdown(options={' ':0,'0': 1, '1': 2, '2': 3, '3': 4, '4': 5, '5': 6, '6': 7}, value=0, description=chem4_2,)\n",
    "dropdown4_3 = widgets.Dropdown(options={' ':0,'0': 1, '1': 2, '2': 3, '3': 4, '4': 5, '5': 6, '6': 7}, value=0, description=chem4_3,)\n",
    "dropdown4_4 = widgets.Dropdown(options={' ':0,'0': 1, '1': 2, '2': 3, '3': 4, '4': 5, '5': 6, '6': 7}, value=0, description=chem4_4,)\n",
    "\n",
    "#Display menus as 2x2 table\n",
    "container4_1 = widgets.VBox(children=[dropdown4_1,dropdown4_2])\n",
    "container4_2 = widgets.VBox(children=[dropdown4_3,dropdown4_4])\n",
    "display(widgets.HBox(children=[container4_1, container4_2])), print(\" \", end='\\r')\n",
    "\n",
    "#Evaluate input\n",
    "def check_answer4_1(b):\n",
    "    answer4_1 = dropdown4_1.label \n",
    "    answer4_2 = dropdown4_2.label\n",
    "    answer4_3 = dropdown4_3.label \n",
    "    answer4_4 = dropdown4_4.label\n",
    "\n",
    "    if answer4_1 == ans4_1 and answer4_2 == ans4_2 and answer4_3 == ans4_3 and answer4_4 == ans4_4:\n",
    "        print(\"Correct! The balanced equation is: Ca + 2HNO\\u2083 \\u2192 H\\u2082 + Ca(NO\\u2083)\\u2082\", end='\\r')\n",
    "    elif answer4_1 != ' ' and answer4_2 != ' ' and answer4_3 != ' ' and answer4_4 != ' ':\n",
    "        print(\"Try again.                                                                            \", end='\\r')\n",
    "    else:\n",
    "        print(\"                                                                                      \", end='\\r')\n",
    "\n",
    "dropdown4_1.observe(check_answer4_1, names='value')\n",
    "dropdown4_2.observe(check_answer4_1, names='value')\n",
    "dropdown4_3.observe(check_answer4_1, names='value')\n",
    "dropdown4_4.observe(check_answer4_1, names='value')"
   ]
  },
  {
   "cell_type": "code",
   "execution_count": 22,
   "metadata": {},
   "outputs": [
    {
     "data": {
      "application/vnd.jupyter.widget-view+json": {
       "model_id": "4cda9e31e73f4746a01b39454a8e8d70",
       "version_major": 2,
       "version_minor": 0
      },
      "text/plain": [
       "HTMLMath(value='Fe(NO<sub>3</sub>)<sub>3</sub> + (NH<sub>4</sub>)<sub>2</sub>CO<sub>3</sub> &rarr; Fe<sub>2</s…"
      ]
     },
     "metadata": {},
     "output_type": "display_data"
    },
    {
     "data": {
      "application/vnd.jupyter.widget-view+json": {
       "model_id": "e995592764d945bba71b2c39e79d31c8",
       "version_major": 2,
       "version_minor": 0
      },
      "text/plain": [
       "HBox(children=(VBox(children=(Dropdown(description='Fe(NO<sub>3</sub>)<sub>3</sub>', options={' ': 0, '0': 1, …"
      ]
     },
     "metadata": {},
     "output_type": "display_data"
    },
    {
     "name": "stdout",
     "output_type": "stream",
     "text": [
      " \r"
     ]
    }
   ],
   "source": [
    "#import ipywidgets as widgets\n",
    "\n",
    "#Create dropdown menus\n",
    "\n",
    "equation5_1 = widgets.HTMLMath(value=\"Fe(NO<sub>3</sub>)<sub>3</sub> + (NH<sub>4</sub>)<sub>2</sub>CO<sub>3</sub> &rarr; Fe<sub>2</sub>(CO<sub>3</sub>)<sub>3</sub> + NH<sub>4</sub>NO<sub>3</sub>\")\n",
    "chem5_1 = \"Fe(NO<sub>3</sub>)<sub>3</sub>\"; chem5_2 = \"(NH<sub>4</sub>)<sub>2</sub>CO<sub>3</sub>\"; chem5_3 = \"Fe<sub>2</sub>(CO<sub>3</sub>)<sub>3</sub>\"; chem5_4 = \"NH<sub>4</sub>NO<sub>3</sub>\"\n",
    "ans5_1 = \"2\"; ans5_2 = \"3\"; ans5_3 = \"1\"; ans5_4 = \"6\"\n",
    "\n",
    "display(equation5_1)\n",
    "\n",
    "dropdown5_1 = widgets.Dropdown(options={' ':0,'0': 1, '1': 2, '2': 3, '3': 4, '4': 5, '5': 6, '6': 7}, value=0, description=chem5_1,)\n",
    "dropdown5_2 = widgets.Dropdown(options={' ':0,'0': 1, '1': 2, '2': 3, '3': 4, '4': 5, '5': 6, '6': 7}, value=0, description=chem5_2,)\n",
    "dropdown5_3 = widgets.Dropdown(options={' ':0,'0': 1, '1': 2, '2': 3, '3': 4, '4': 5, '5': 6, '6': 7}, value=0, description=chem5_3,)\n",
    "dropdown5_4 = widgets.Dropdown(options={' ':0,'0': 1, '1': 2, '2': 3, '3': 4, '4': 5, '5': 6, '6': 7}, value=0, description=chem5_4,)\n",
    "\n",
    "#Display menus as 2x2 table\n",
    "container5_1 = widgets.VBox(children=[dropdown5_1,dropdown5_2])\n",
    "container5_2 = widgets.VBox(children=[dropdown5_3,dropdown5_4])\n",
    "display(widgets.HBox(children=[container5_1, container5_2])), print(\" \", end='\\r')\n",
    "\n",
    "#Evaluate input\n",
    "def check_answer5_1(b):\n",
    "    answer5_1 = dropdown5_1.label \n",
    "    answer5_2 = dropdown5_2.label\n",
    "    answer5_3 = dropdown5_3.label \n",
    "    answer5_4 = dropdown5_4.label\n",
    "\n",
    "    if answer5_1 == ans5_1 and answer5_2 == ans5_2 and answer5_3 == ans5_3 and answer5_4 == ans5_4:\n",
    "        print(\"Correct! The balanced equation is: 2Fe(NO\\u2083)\\u2083 + 3(NH\\u2084)\\u2082CO\\u2083 \\u2192 Fe\\u2082(CO\\u2083)\\u2083 + 6NH\\u2084NO\\u2083\", end='\\r')\n",
    "    elif answer5_1 != ' ' and answer5_2 != ' ' and answer5_3 != ' ' and answer5_4 != ' ':\n",
    "        print(\"Try again.                                                                            \", end='\\r')\n",
    "    else:\n",
    "        print(\"                                                                                      \", end='\\r')\n",
    "\n",
    "dropdown5_1.observe(check_answer5_1, names='value')\n",
    "dropdown5_2.observe(check_answer5_1, names='value')\n",
    "dropdown5_3.observe(check_answer5_1, names='value')\n",
    "dropdown5_4.observe(check_answer5_1, names='value')"
   ]
  },
  {
   "cell_type": "markdown",
   "metadata": {},
   "source": [
    "## Conclusion\n",
    "\n",
    "* A **chemical equation** is a symbolic representation of a chemical reaction.\n",
    "\n",
    "* The reactions represented by a chemical equation usually occur in a **closed system**: this means that the reactants and products cannot escape.\n",
    "\n",
    "* This is a demonstration of the **law of conservation of mass**, which states that *for any closed system, the mass of the system remains constant over time*.\n",
    "\n",
    "* A **balanced chemical equation** means that there are an equal number of atoms for each element on both sides of the equation.\n",
    "\n",
    "* The following steps are a common approach to balancing most chemical equations: <br>\n",
    "&nbsp; &nbsp; &nbsp; &nbsp; **Step 1:** Balance the metallic elements. <br>\n",
    "&nbsp; &nbsp; &nbsp; &nbsp; **Step 2:** Balance the non-metallic elements, *excluding* hydrogen and oxygen. <br>\n",
    "&nbsp; &nbsp; &nbsp; &nbsp; **Step 3:** Balance the hydrogen. <br>\n",
    "&nbsp; &nbsp; &nbsp; &nbsp; **Step 4:** Balance the oxygen. <br>\n",
    "&nbsp; &nbsp; &nbsp; &nbsp; **Step 5:** Recheck to ensure each element is balanced. Reduce the coefficients if possible. <br>\n",
    "\n",
    "* If any *polyatomic ions* are present, they may be balanced as one unit. This only works if they occur on both sides of the equation.\n"
   ]
  },
  {
   "cell_type": "code",
   "execution_count": 23,
   "metadata": {},
   "outputs": [
    {
     "data": {
      "text/html": [
       "\n",
       "<script>\n",
       "  function code_toggle() {\n",
       "    if (code_shown){\n",
       "      $('div.input').hide('500');\n",
       "      $('#toggleButton').val('Show Code')\n",
       "    } else {\n",
       "      $('div.input').show('500');\n",
       "      $('#toggleButton').val('Hide Code')\n",
       "    }\n",
       "    code_shown = !code_shown\n",
       "  }\n",
       "\n",
       "  $( document ).ready(function(){\n",
       "    code_shown=false;\n",
       "    $('div.input').hide()\n",
       "  });\n",
       "</script>\n",
       "<form action=\"javascript:code_toggle()\"><input type=\"submit\" id=\"toggleButton\" value=\"Show Code\"></form>\n"
      ],
      "text/plain": [
       "<IPython.core.display.HTML object>"
      ]
     },
     "metadata": {},
     "output_type": "display_data"
    }
   ],
   "source": [
    "%%html\n",
    "\n",
    "<script>\n",
    "  function code_toggle() {\n",
    "    if (code_shown){\n",
    "      $('div.input').hide('500');\n",
    "      $('#toggleButton').val('Show Code')\n",
    "    } else {\n",
    "      $('div.input').show('500');\n",
    "      $('#toggleButton').val('Hide Code')\n",
    "    }\n",
    "    code_shown = !code_shown\n",
    "  }\n",
    "\n",
    "  $( document ).ready(function(){\n",
    "    code_shown=false;\n",
    "    $('div.input').hide()\n",
    "  });\n",
    "</script>\n",
    "<form action=\"javascript:code_toggle()\"><input type=\"submit\" id=\"toggleButton\" value=\"Show Code\"></form>"
   ]
  },
  {
   "cell_type": "markdown",
   "metadata": {},
   "source": [
    "![top](https://callysto.ca/wp-content/uploads/2018/07/Callysto-Notebook-Banner_Bottom_07.30.18.jpg)"
   ]
  }
 ],
 "metadata": {
  "kernelspec": {
   "display_name": "Python 3",
   "language": "python",
   "name": "python3"
  },
  "language_info": {
   "codemirror_mode": {
    "name": "ipython",
    "version": 3
   },
   "file_extension": ".py",
   "mimetype": "text/x-python",
   "name": "python",
   "nbconvert_exporter": "python",
   "pygments_lexer": "ipython3",
   "version": "3.7.3"
  }
 },
 "nbformat": 4,
 "nbformat_minor": 2
}
