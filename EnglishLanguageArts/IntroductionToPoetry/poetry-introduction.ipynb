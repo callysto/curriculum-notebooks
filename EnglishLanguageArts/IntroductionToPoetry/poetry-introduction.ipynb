{
 "cells": [
  {
   "cell_type": "markdown",
   "metadata": {},
   "source": [
    "![Callysto.ca Banner](https://github.com/callysto/curriculum-notebooks/blob/master/callysto-notebook-banner-top.jpg?raw=true)\n",
    "\n",
    "<a href=\"https://hub.callysto.ca/jupyter/hub/user-redirect/git-pull?repo=https%3A%2F%2Fgithub.com%2Fcallysto%2Fcurriculum-notebooks&branch=master&subPath=EnglishLanguageArts/IntroductionToPoetry/poetry-introduction.ipynb&depth=1\" target=\"_parent\"><img src=\"https://raw.githubusercontent.com/callysto/curriculum-notebooks/master/open-in-callysto-button.svg?sanitize=true\" width=\"123\" height=\"24\" alt=\"Open in Callysto\"/></a>"
   ]
  },
  {
   "cell_type": "markdown",
   "metadata": {},
   "source": [
    "# Introduction to Poetry\n",
    "\n",
    "Poetry is the art of writing poems, poems are ways of communicating thoughts or feelings using only a few words.\n",
    "\n",
    "There are many different parts of poetry. In this notebook we will look at rhyming words and syllables.\n",
    "\n",
    "## Rhyming\n",
    "\n",
    "Not all poems involve rhymes, of course, but we can use some Python code to check the site [RhymeBrain.com](https://rhymebrain.com/api.html) for rhyming words.\n",
    "\n",
    "Click on the following code cell, then click the `▶Run` button."
   ]
  },
  {
   "cell_type": "code",
   "execution_count": null,
   "metadata": {},
   "outputs": [],
   "source": [
    "word = 'testing'\n",
    "\n",
    "import requests\n",
    "r = requests.get('https://rhymebrain.com/talk?function=getRhymes&word=' + word)\n",
    "rhymes = r.json()\n",
    "import pandas as pd\n",
    "df = pd.DataFrame(rhymes)\n",
    "df['freq'] = df['freq'].astype(int) # convert columns to integers\n",
    "df['score'] = df['score'].astype(int)\n",
    "df['syllables'] = df['syllables'].astype(int)\n",
    "df"
   ]
  },
  {
   "cell_type": "markdown",
   "metadata": {},
   "source": [
    "It gave us 500 words that rhyme with `testing`.\n",
    "\n",
    "We can filter those words using the [pandas](https://pandas.pydata.org/) library. If we just want two-syllable words, `▶Run` the next code cell."
   ]
  },
  {
   "cell_type": "code",
   "execution_count": null,
   "metadata": {},
   "outputs": [],
   "source": [
    "df[df['syllables'] == 2]"
   ]
  },
  {
   "cell_type": "markdown",
   "metadata": {},
   "source": [
    "We can also filter the rhymes on two or more columns. Let's say we want words with two syllables and a high score value."
   ]
  },
  {
   "cell_type": "code",
   "execution_count": null,
   "metadata": {},
   "outputs": [],
   "source": [
    "df[(df['syllables'] == 2) & (df['score'] > 250)]"
   ]
  },
  {
   "cell_type": "markdown",
   "metadata": {},
   "source": [
    "You can also change\n",
    "\n",
    "`word = 'testing'`\n",
    "\n",
    "to something like\n",
    "\n",
    "`word = 'fun'`\n",
    "\n",
    "and make sure your new word has a `'` mark on either side of it. Then run the code cell to find rhyming words."
   ]
  },
  {
   "cell_type": "code",
   "execution_count": null,
   "metadata": {},
   "outputs": [],
   "source": [
    "word = 'fun'\n",
    "\n",
    "import requests\n",
    "r = requests.get('https://rhymebrain.com/talk?function=getRhymes&word=' + word)\n",
    "rhymes = r.json()\n",
    "import pandas as pd\n",
    "df = pd.DataFrame(rhymes)\n",
    "df['freq'] = df['freq'].astype(int) # convert columns to integers\n",
    "df['score'] = df['score'].astype(int)\n",
    "df['syllables'] = df['syllables'].astype(int)\n",
    "df"
   ]
  },
  {
   "cell_type": "markdown",
   "metadata": {},
   "source": [
    "## Syllables\n",
    "\n",
    "Syllables are parts of a word that are pronounced. For example, \"hello\" has 2 syllables: \"**hel-lo**\". \"Elephant\" has 3 syllables: \"**el-e-phant**\".\n",
    "\n",
    "Usually, every syllable has one vowel sound in it. Most vowels in words are not next to other vowels, so a single vowel, sometimes with consonants, is one syllable.\n",
    "\n",
    "Some vowel sounds are made with 2 vowels like \"pair\" which only has one syllable. There are some special words like naive (pronounced nigh-eve) that have 2 vowel sounds next to each other. So \"naive\" has 2 syllables.\n",
    "\n",
    "There are different ways to tell how many syllables are in a word or sentence. \n",
    "1. How many times your mouth opens \n",
    "2. How a robot would speak \n",
    "3. Clapping with the syllables\n",
    "\n",
    "### Counting Syllables with Code\n",
    "\n",
    "We can use Python code and some [code libraries](https://www.geeksforgeeks.org/libraries-in-python/) to try to count syllables in a word. One way is to use the [Natural Language Toolkit](https://www.nltk.org/) and load the [CMUdict](https://github.com/cmusphinx/cmudict) dictionary.\n",
    "\n",
    "You can change the word to be tested in the following code cell from\n",
    "\n",
    "`word = 'testing'`\n",
    "\n",
    "to another word such as\n",
    "\n",
    "`word = 'elephant'`\n",
    "\n",
    "(make sure the word is surrounded by `'` marks)\n",
    "\n",
    "Then click the `▶Run` button to run the code that counts syllables.\n"
   ]
  },
  {
   "cell_type": "code",
   "execution_count": null,
   "metadata": {},
   "outputs": [],
   "source": [
    "word = 'testing'\n",
    "\n",
    "import nltk\n",
    "nltk.download('cmudict', quiet=True)\n",
    "from nltk.corpus import cmudict\n",
    "d = cmudict.dict()\n",
    "syllables = 0\n",
    "try:\n",
    "    for phoneme in d[word.lower()][0]:\n",
    "        if phoneme[-1].isdigit():\n",
    "            syllables +=1\n",
    "    print('There are', syllables, 'syllables in the word', word)\n",
    "except KeyError:\n",
    "    print(word, 'not found in dictionary')"
   ]
  },
  {
   "cell_type": "markdown",
   "metadata": {},
   "source": [
    "The above code will only work if the word is found in the [CMUdict](https://github.com/cmusphinx/cmudict) dictionary, but there are other ways we can count syllables. Let's try using the site [RhymeBrain](https://rhymebrain.com/api.html) again."
   ]
  },
  {
   "cell_type": "code",
   "execution_count": null,
   "metadata": {},
   "outputs": [],
   "source": [
    "word = 'onomatopoeia'\n",
    "\n",
    "r = requests.get('https://rhymebrain.com/talk?function=getWordInfo&word=' + word)\n",
    "syllables = r.json()['syllables']\n",
    "print('There are', syllables, 'syllables in the word', word)"
   ]
  },
  {
   "cell_type": "markdown",
   "metadata": {},
   "source": [
    "We can also try writing our own syllable checker using just Python code, based on the rules about syllables from earlier in this notebook. Sometimes it will be wrong, though, because English doesn't always follow easy rules."
   ]
  },
  {
   "cell_type": "code",
   "execution_count": null,
   "metadata": {},
   "outputs": [],
   "source": [
    "word = 'testing'\n",
    "\n",
    "word = word.lower()\n",
    "vowels = 'aeiouy'\n",
    "syllables = 0\n",
    "# adapted from https://stackoverflow.com/questions/14541303/count-the-number-of-syllables-in-a-word\n",
    "if word[0] in vowels:\n",
    "    syllables +=1\n",
    "for i, letter in enumerate(list(word)):\n",
    "    if i == 0 and letter in vowels:\n",
    "        syllables +=1\n",
    "    elif letter in vowels and list(word)[i-1] not in vowels:\n",
    "        syllables +=1\n",
    "if word.endswith('e'):\n",
    "    syllables -= 1\n",
    "if word.endswith('le'):\n",
    "    syllables += 1\n",
    "if syllables == 0:\n",
    "    syllables += 1\n",
    "print('There are', syllables, 'syllables in the word', word)"
   ]
  },
  {
   "cell_type": "markdown",
   "metadata": {},
   "source": [
    "# Conclusion\n",
    "\n",
    "Poems are a great way to tell a story with only a few words. In this notebook we learned about syllables and rhyming words.\n",
    "\n",
    "If you want to read more poetry, go to your school or public library and look for:\n",
    "* *Where the Sidewalk Ends* by Shel Silverstein\n",
    "* *A Bad Case of the Giggles* by Bruce Lansky\n",
    "* *Vanishing Trick* by Ros Asquith \n",
    "* *Poetry for Young People* by Emily Dickinson"
   ]
  },
  {
   "cell_type": "markdown",
   "metadata": {},
   "source": [
    "[![Callysto.ca License](https://github.com/callysto/curriculum-notebooks/blob/master/callysto-notebook-banner-bottom.jpg?raw=true)](https://github.com/callysto/curriculum-notebooks/blob/master/LICENSE.md)"
   ]
  }
 ],
 "metadata": {
  "kernelspec": {
   "display_name": "Python 3.10.1 64-bit",
   "language": "python",
   "name": "python3"
  },
  "language_info": {
   "codemirror_mode": {
    "name": "ipython",
    "version": 3
   },
   "file_extension": ".py",
   "mimetype": "text/x-python",
   "name": "python",
   "nbconvert_exporter": "python",
   "pygments_lexer": "ipython3",
   "version": "3.10.1"
  },
  "latex_envs": {
   "LaTeX_envs_menu_present": true,
   "autoclose": false,
   "autocomplete": true,
   "bibliofile": "biblio.bib",
   "cite_by": "apalike",
   "current_citInitial": 1,
   "eqLabelWithNumbers": true,
   "eqNumInitial": 1,
   "hotkeys": {
    "equation": "Ctrl-E",
    "itemize": "Ctrl-I"
   },
   "labels_anchors": false,
   "latex_user_defs": false,
   "report_style_numbering": false,
   "user_envs_cfg": false
  },
  "nbTranslate": {
   "displayLangs": [
    "*"
   ],
   "hotkey": "alt-t",
   "langInMainMenu": true,
   "sourceLang": "en",
   "targetLang": "fr",
   "useGoogleTranslate": true
  },
  "vscode": {
   "interpreter": {
    "hash": "d1ca6d17674200220921376aaeb3d36cffe15ecab2470a9a5e7a456cdbf61425"
   }
  }
 },
 "nbformat": 4,
 "nbformat_minor": 2
}
