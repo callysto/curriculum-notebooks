{
 "cells": [
  {
   "cell_type": "markdown",
   "metadata": {},
   "source": [
    "![Callysto.ca Banner](https://github.com/callysto/curriculum-notebooks/blob/master/callysto-notebook-banner-top.jpg?raw=true)\n",
    "\n",
    "<a href=\"https://hub.callysto.ca/jupyter/hub/user-redirect/git-pull?repo=https%3A%2F%2Fgithub.com%2Fcallysto%2Fcurriculum-notebooks&branch=master&subPath=EnglishLanguageArts/ReadabilityStatistics/readability-statistics.ipynb&depth=1\" target=\"_parent\"><img src=\"https://raw.githubusercontent.com/callysto/curriculum-notebooks/master/open-in-callysto-button.svg?sanitize=true\" width=\"123\" height=\"24\" alt=\"Open in Callysto\"/></a>"
   ]
  },
  {
   "cell_type": "markdown",
   "metadata": {},
   "source": [
    "# Readability Statistics\n",
    "\n",
    "This notebook analyses the top ten ebooks from [Project Gutenberg](http://www.gutenberg.org/browse/scores/top) for length and readability. We are using a Python code library called [textstat](https://github.com/shivam5992/textstat) to determine readability, which will estimate the grade level readability of the text.\n",
    "\n",
    "To start, `►Run` the following code cell to import the libraries and define a function for getting ebooks from Project Gutenberg."
   ]
  },
  {
   "cell_type": "code",
   "execution_count": null,
   "metadata": {},
   "outputs": [],
   "source": [
    "!pip install textstat --user\n",
    "import textstat\n",
    "import requests\n",
    "from bs4 import BeautifulSoup\n",
    "import pandas as pd\n",
    "import plotly.express as px\n",
    "\n",
    "def get_readability(gutenberg_number):\n",
    "    gutenberg_url = 'https://www.gutenberg.org/ebooks/'+str(gutenberg_number)+'.txt.utf-8'\n",
    "    r = requests.get(gutenberg_url)\n",
    "    r.encoding = 'utf-8' # specify the type of text encoding in the file\n",
    "    try:\n",
    "        raw_text = r.text.split('***')[2] # get the part after the header\n",
    "    except:\n",
    "        raw_text = r.text # failsafe if there isn't a header with ***\n",
    "    text = raw_text.replace(\"’\",\"'\").replace(\"“\",'\"').replace(\"”\",'\"') # replace any 'smart quotes'\n",
    "    text = text.replace('\\r', ' ').replace('\\n', ' ') # replace \"new line\" characters with spaces\n",
    "    sentences = textstat.sentence_count(text)\n",
    "    readability = textstat.text_standard(text, float_output=True)\n",
    "    return text, sentences, readability\n",
    "\n",
    "print('Code libraries imported and get_readability function defined.')"
   ]
  },
  {
   "cell_type": "markdown",
   "metadata": {},
   "source": [
    "### Testing\n",
    "\n",
    "Next, `►Run` the following code cell to download and measure the readability of War and Peace by Leo Tolstoy from http://www.gutenberg.org/ebooks/2600.\n",
    "\n",
    "You can also run this with any other ebook number from Project Gutenberg."
   ]
  },
  {
   "cell_type": "code",
   "execution_count": null,
   "metadata": {},
   "outputs": [],
   "source": [
    "gutenberg_number = 2600\n",
    "\n",
    "text, sentences, readability = get_readability(gutenberg_number)\n",
    "print('The readability of \"War and Peace\" is', readability)\n",
    "print('It contains', sentences, 'sentences and', len(text), 'characters (letters, numbers, punctuation, etc.)')"
   ]
  },
  {
   "cell_type": "markdown",
   "metadata": {},
   "source": [
    "## Visualizing eBooks\n",
    "\n",
    "### Readability Versus Number of Sentences\n",
    "`►Run` the next code cell to download and visualize statistics about the ten most frequently downloaed ebooks."
   ]
  },
  {
   "cell_type": "code",
   "execution_count": null,
   "metadata": {},
   "outputs": [],
   "source": [
    "r = requests.get('http://www.gutenberg.org/browse/scores/top') # get the page of most downloaded books\n",
    "soup = BeautifulSoup(r.text, 'html.parser') # read the html\n",
    "top_ten = soup.find_all('li')[:10] # find the first 10 list items\n",
    "df = pd.DataFrame(columns=['Title','Number of Sentences','Number of Characters','Readability','Text']) # create a dataframe\n",
    "for li in top_ten: # loop through the list items\n",
    "    title = li.text.split(' by')[0] # get the book title\n",
    "    author = li.text.split(' by')[1].split(' (')[0] # get the book author\n",
    "    gutenberg_number = li.find_all('a')[0].get('href').split('/')[-1:][0] # get the ebook number\n",
    "    print(li.text, 'ebook number', gutenberg_number)\n",
    "    text, sentences, readability = get_readability(gutenberg_number)\n",
    "    df = df.append({'Title':title,'Author':author,'Number of Sentences':sentences,'Number of Characters':len(text),'Readability':readability,'Text':text},ignore_index=True)\n",
    "print('Hover over the points to see more information.')\n",
    "fig = px.scatter(df,x='Number of Sentences',y='Readability',hover_data=['Author'],text='Title')\n",
    "fig.update_traces(textposition='bottom right', textfont_size=10)\n",
    "fig.show()"
   ]
  },
  {
   "cell_type": "markdown",
   "metadata": {},
   "source": [
    "### Characters and Sentences\n",
    "\n",
    "We can also look at the relationship between the number of characters and the number of sentences."
   ]
  },
  {
   "cell_type": "code",
   "execution_count": null,
   "metadata": {},
   "outputs": [],
   "source": [
    "px.scatter(df, x='Number of Sentences', y='Number of Characters', hover_data=['Title'])"
   ]
  },
  {
   "cell_type": "markdown",
   "metadata": {},
   "source": [
    "## Your Own List of eBooks\n",
    "\n",
    "If you'd like to create similar visualizations using your own list of ebooks from the Project Gutenberg site, you can modify and use the following code cell."
   ]
  },
  {
   "cell_type": "code",
   "execution_count": null,
   "metadata": {},
   "outputs": [],
   "source": [
    "books = {\n",
    "    'Little Women by Louisa May Alcott':514,\n",
    "    'The Adventures of Tom Sawyer by Mark Twain':74,\n",
    "    'Treasure Island by Robert Louis Stevenson':120,\n",
    "            }\n",
    "\n",
    "df2 = pd.DataFrame(columns=['Title','Number of Sentences','Number of Characters','Readability','Text'])\n",
    "for book in books.items():\n",
    "    title = book[0]\n",
    "    gutenberg_number = book[1]\n",
    "    print(title, 'ebook number', gutenberg_number)\n",
    "    text, sentences, readability = get_readability(gutenberg_number)\n",
    "    df2 = df2.append({'Title':title,'Number of Sentences':sentences,'Number of Characters':len(text),'Readability':readability,'Text':text},ignore_index=True)\n",
    "fig1 = px.scatter(df2,x='Number of Sentences',y='Readability',hover_data=['Title'],text='Title',title='Readability versus Number of Sentences')\n",
    "fig1.update_traces(textposition='bottom center', textfont_size=10)\n",
    "fig1.show()\n",
    "fig2 = px.scatter(df2,x='Number of Sentences',y='Number of Characters',hover_data=['Title'],text='Title',title='Number of Characters versus Number of Sentences')\n",
    "fig2.update_traces(textposition='bottom center', textfont_size=10)\n",
    "fig2.show()"
   ]
  },
  {
   "cell_type": "markdown",
   "metadata": {},
   "source": [
    "[![Callysto.ca License](https://github.com/callysto/curriculum-notebooks/blob/master/callysto-notebook-banner-bottom.jpg?raw=true)](https://github.com/callysto/curriculum-notebooks/blob/master/LICENSE.md)"
   ]
  }
 ],
 "metadata": {
  "kernelspec": {
   "display_name": "Python 3",
   "language": "python",
   "name": "python3"
  },
  "language_info": {
   "codemirror_mode": {
    "name": "ipython",
    "version": 3
   },
   "file_extension": ".py",
   "mimetype": "text/x-python",
   "name": "python",
   "nbconvert_exporter": "python",
   "pygments_lexer": "ipython3",
   "version": "3.7.6"
  }
 },
 "nbformat": 4,
 "nbformat_minor": 4
}
