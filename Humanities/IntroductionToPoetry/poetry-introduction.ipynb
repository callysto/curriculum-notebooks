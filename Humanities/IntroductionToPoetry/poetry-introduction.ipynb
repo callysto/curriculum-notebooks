{
 "cells": [
  {
   "cell_type": "markdown",
   "metadata": {},
   "source": [
    "![topbanner](https://callysto.ca/wp-content/uploads/2018/06/Callysto_Notebook-Banner_Top_06.06.18.jpg)"
   ]
  },
  {
   "cell_type": "code",
   "execution_count": 1,
   "metadata": {},
   "outputs": [
    {
     "data": {
      "text/html": [
       "\n",
       "<script>\n",
       "  function code_toggle() {\n",
       "    if (code_shown){\n",
       "      $('div.input').hide('500');\n",
       "      $('#toggleButton').val('Show Code')\n",
       "    } else {\n",
       "      $('div.input').show('500');\n",
       "      $('#toggleButton').val('Hide Code')\n",
       "    }\n",
       "    code_shown = !code_shown\n",
       "  }\n",
       "\n",
       "  $( document ).ready(function(){\n",
       "    code_shown=false;\n",
       "    $('div.input').hide()\n",
       "  });\n",
       "</script>\n",
       "<form action=\"javascript:code_toggle()\"><input type=\"submit\" id=\"toggleButton\" value=\"Show Code\"></form>\n"
      ],
      "text/plain": [
       "<IPython.core.display.HTML object>"
      ]
     },
     "metadata": {},
     "output_type": "display_data"
    }
   ],
   "source": [
    "%%html\n",
    "\n",
    "<script>\n",
    "  function code_toggle() {\n",
    "    if (code_shown){\n",
    "      $('div.input').hide('500');\n",
    "      $('#toggleButton').val('Show Code')\n",
    "    } else {\n",
    "      $('div.input').show('500');\n",
    "      $('#toggleButton').val('Hide Code')\n",
    "    }\n",
    "    code_shown = !code_shown\n",
    "  }\n",
    "\n",
    "  $( document ).ready(function(){\n",
    "    code_shown=false;\n",
    "    $('div.input').hide()\n",
    "  });\n",
    "</script>\n",
    "<form action=\"javascript:code_toggle()\"><input type=\"submit\" id=\"toggleButton\" value=\"Show Code\"></form>"
   ]
  },
  {
   "cell_type": "code",
   "execution_count": 2,
   "metadata": {},
   "outputs": [],
   "source": [
    "import curses \n",
    "from curses.ascii import isdigit \n",
    "import nltk\n",
    "nltk.download('cmudict', quiet=True) \n",
    "#Set quiet to False if nltk isn't loading for \"make your own haiku exercise\" in case there's an error\n",
    "from nltk.corpus import cmudict \n",
    "d = cmudict.dict()\n",
    "import string"
   ]
  },
  {
   "cell_type": "code",
   "execution_count": 3,
   "metadata": {},
   "outputs": [],
   "source": [
    "import ipywidgets as widgets\n",
    "import IPython"
   ]
  },
  {
   "cell_type": "markdown",
   "metadata": {},
   "source": [
    "# Introduction to Poetry\n",
    "\n",
    "##### Grade 5 curiculum\n",
    "\n",
    "There are many different of types of poetry. We will look at four types:\n",
    "- haiku (high-koo)\n",
    "- diamante (dee-a-mon-tay) poem\n",
    "- limerick (limm-err-ik)\n",
    "- cinquain (sin-kain)\n",
    "\n",
    "Each one has a structure that makes it unique. <br>\n",
    "Some poems have a certain number of syllables. <br>\n",
    "Some poems need to rhyme, though not all poems need to rhyme. \n",
    "\n",
    "#### Types of Poetry\n",
    "1. Shape poetry\n",
    "    - Makes a shape with the words in the poem\n",
    "    - This includes diamante and cinquain poems\n",
    "2. Rhyming poetry \n",
    "    - Has a rhyming pattern\n",
    "    - This includes limericks\n",
    "3. Haiku poetry\n",
    "    - Has a haiku form\n",
    "5. Narrative poetry\n",
    "    - A long poem telling a story\n",
    "4. Epic poetry\n",
    "    - A narrative poem about a hero on an adventure\n",
    "\n",
    "\n",
    "## Syllables\n",
    "\n",
    "Syllables are parts of a word that are pronounced. <br>\n",
    "For example, \"hello\" has 2 syllables: \"**hel-lo**\". \"Elephant\" has 3 syllables: \"**el-e-phant**\". <br>\n",
    "Usually, every syllable has one vowel sound in it.<br>\n",
    "Most vowels in words are not next to other vowels, so a single vowel, sometimes with consonants, is one syllable.<br>\n",
    "Some vowel sounds are made with 2 vowels like \"pair\" which only has one syllable.<br>\n",
    "There are some special words like naive (pronounced nigh-eve) that have 2 vowel sounds next to each other. So \"naive\" has 2 syllables.\n",
    "\n",
    "There are different ways to tell how many syllables are in a word or sentence. \n",
    "1. How many times your mouth opens \n",
    "2. How a robot would speak \n",
    "3. Clapping with the syllables\n",
    "\n",
    "Check how these are done in this video:"
   ]
  },
  {
   "cell_type": "code",
   "execution_count": 4,
   "metadata": {},
   "outputs": [
    {
     "data": {
      "text/html": [
       "\n",
       "        <iframe\n",
       "            width=\"560\"\n",
       "            height=\"315\"\n",
       "            src=\"https://www.youtube.com/embed/TvcgVRULaWw?rel=0?allow=allowfullscreen\"\n",
       "            frameborder=\"0\"\n",
       "            allowfullscreen\n",
       "        ></iframe>\n",
       "        "
      ],
      "text/plain": [
       "<IPython.lib.display.IFrame at 0x7f4a9ed086a0>"
      ]
     },
     "execution_count": 4,
     "metadata": {},
     "output_type": "execute_result"
    }
   ],
   "source": [
    "from IPython.display import IFrame\n",
    "IFrame(width=\"560\", height=\"315\", src=\"https://www.youtube.com/embed/TvcgVRULaWw?rel=0\", allow=\"allowfullscreen\")"
   ]
  },
  {
   "cell_type": "markdown",
   "metadata": {},
   "source": [
    "## Practice\n",
    "\n",
    "How many syllables are in these sentences? Hover over any word to show the word broken into its syllables."
   ]
  },
  {
   "cell_type": "code",
   "execution_count": 5,
   "metadata": {},
   "outputs": [
    {
     "data": {
      "text/html": [
       "\n",
       "<script type = \"text/javascript\" src=\"https://d3js.org/d3.v3.min.js\"></script>\n",
       "<script type = \"text/javascript\" src=\"sources/syllables.js\"></script>\n"
      ],
      "text/plain": [
       "<IPython.core.display.HTML object>"
      ]
     },
     "metadata": {},
     "output_type": "display_data"
    }
   ],
   "source": [
    "%%html\n",
    "\n",
    "<script type = \"text/javascript\" src=\"https://d3js.org/d3.v3.min.js\"></script>\n",
    "<script type = \"text/javascript\" src=\"sources/syllables.js\"></script>"
   ]
  },
  {
   "cell_type": "code",
   "execution_count": 6,
   "metadata": {},
   "outputs": [
    {
     "data": {
      "text/html": [
       "\n",
       "<div id=\"sentence1\"></div>\n",
       "\n",
       "<script>\n",
       "display(1);\n",
       "</script>\n"
      ],
      "text/plain": [
       "<IPython.core.display.HTML object>"
      ]
     },
     "metadata": {},
     "output_type": "display_data"
    }
   ],
   "source": [
    "%%html\n",
    "\n",
    "<div id=\"sentence1\"></div>\n",
    "\n",
    "<script>\n",
    "display(1);\n",
    "</script>"
   ]
  },
  {
   "cell_type": "code",
   "execution_count": 7,
   "metadata": {},
   "outputs": [
    {
     "name": "stdout",
     "output_type": "stream",
     "text": [
      "How many syllables are in the sentence above?\n",
      "Write your answer in the box below. Then press enter.\n"
     ]
    },
    {
     "data": {
      "application/vnd.jupyter.widget-view+json": {
       "model_id": "ef7ed9f5969842778800b5d4eb9d9df3",
       "version_major": 2,
       "version_minor": 0
      },
      "text/plain": [
       "BoundedIntText(value=0, description='Syllables:', max=15)"
      ]
     },
     "metadata": {},
     "output_type": "display_data"
    }
   ],
   "source": [
    "ans1 = widgets.BoundedIntText(min=0, max=15, description='Syllables:')\n",
    "\n",
    "def question1():\n",
    "    IPython.display.clear_output()\n",
    "    print(\"How many syllables are in the sentence above?\")\n",
    "    print(\"Write your answer in the box below. Then press enter.\")\n",
    "    IPython.display.display(ans1)\n",
    "    \n",
    "def checker1(a):\n",
    "    question1()\n",
    "    if ans1.value == 10:\n",
    "        print(\"That's right!\")\n",
    "    else:\n",
    "        print(\"Not quite, try again. Remember to hover over the words to see them broken down.\")\n",
    "        \n",
    "question1()\n",
    "ans1.observe(checker1, 'value')"
   ]
  },
  {
   "cell_type": "code",
   "execution_count": 8,
   "metadata": {},
   "outputs": [
    {
     "data": {
      "text/html": [
       "\n",
       "<div id=\"sentence2\"></div>\n",
       "\n",
       "<script>\n",
       "display(2);\n",
       "</script>\n"
      ],
      "text/plain": [
       "<IPython.core.display.HTML object>"
      ]
     },
     "metadata": {},
     "output_type": "display_data"
    }
   ],
   "source": [
    "%%html\n",
    "\n",
    "<div id=\"sentence2\"></div>\n",
    "\n",
    "<script>\n",
    "display(2);\n",
    "</script>"
   ]
  },
  {
   "cell_type": "code",
   "execution_count": 9,
   "metadata": {},
   "outputs": [
    {
     "name": "stdout",
     "output_type": "stream",
     "text": [
      "How many syllables are in the sentence above?\n",
      "Write your answer in the box below. Then press enter.\n"
     ]
    },
    {
     "data": {
      "application/vnd.jupyter.widget-view+json": {
       "model_id": "0db873f59a634ae68769ed1541d15901",
       "version_major": 2,
       "version_minor": 0
      },
      "text/plain": [
       "BoundedIntText(value=0, description='Syllables:', max=15)"
      ]
     },
     "metadata": {},
     "output_type": "display_data"
    }
   ],
   "source": [
    "ans2 = widgets.BoundedIntText(min=0, max=15, description='Syllables:')\n",
    "\n",
    "def question2():\n",
    "    IPython.display.clear_output()\n",
    "    print(\"How many syllables are in the sentence above?\")\n",
    "    print(\"Write your answer in the box below. Then press enter.\")\n",
    "    IPython.display.display(ans2)\n",
    "    \n",
    "def checker2(a):\n",
    "    question2()\n",
    "    if ans2.value == 10:\n",
    "        print(\"That's right!\")\n",
    "    else:\n",
    "        print(\"Not quite, try again. Remember to hover over the words to see them broken down.\")\n",
    "        \n",
    "question2()\n",
    "ans2.observe(checker2, 'value')"
   ]
  },
  {
   "cell_type": "markdown",
   "metadata": {},
   "source": [
    "## Haiku\n",
    "\n",
    "<img style=\"float: right;\" src=\"./images/WorldWithJapan.png\" width=\"600x\" height=\"200x\">\n",
    "\n",
    "A haiku is a type of Japanese style of poetry. It has a syllable structure that makes it unique. \n",
    "\n",
    "##### Topic\n",
    "The topic of a haiku can be anything, but all three lines should be about the same topic.<br>\n",
    "Usually, a title is included to tell the reader what the topic of the haiku is.\n",
    "\n",
    "##### Structure\n",
    "Haikus have 3 lines. The **first** and **last** line must have 5 syllables. <br>\n",
    "The second line must have 7 syllables. \n",
    "\n",
    "**We call this structure a 5-7-5 syllable structure.**\n",
    "\n",
    "None of the lines usually rhyme. The whole poem looks like this:\n",
    "\n",
    ">  **Haikus**\n",
    ">\n",
    "> The first line has five.\n",
    ">\n",
    "> The second line has seven.\n",
    ">\n",
    "> The last has five too. \n",
    "\n",
    " This is a haiku about the structure of haikus!  \n",
    " \n",
    " ### Exercise\n",
    " Read the poem below. Does it have the structure of a haiku?\n",
    " > **Our ride**\n",
    " >\n",
    " > We go away\n",
    " >\n",
    " > On a hot air balloon.\n",
    " >\n",
    " > It's so much fun!"
   ]
  },
  {
   "cell_type": "code",
   "execution_count": 10,
   "metadata": {},
   "outputs": [
    {
     "data": {
      "application/vnd.jupyter.widget-view+json": {
       "model_id": "626f1e182c904055aecd0da54db48d5f",
       "version_major": 2,
       "version_minor": 0
      },
      "text/plain": [
       "RadioButtons(layout=Layout(width='600px'), options=('', 'Yes, \"Our ride\" follows the 5-7-5 syllable structure'…"
      ]
     },
     "metadata": {},
     "output_type": "display_data"
    }
   ],
   "source": [
    "answer = widgets.RadioButtons(options=['','Yes, \"Our ride\" follows the 5-7-5 syllable structure', \n",
    "                                       'No, \"Our ride\" does not follow the 5-7-5 syllable structure'], \n",
    "                              layout={'width': '600px'}, value = '')\n",
    "truth = widgets.RadioButtons(options=['','Line 1 has 5. Line 2 has 7. Line 3 has 4.',\n",
    "                                      'Line 1 has 4. Line 2 has 6. Line 3 has 4.',\n",
    "                                      'Line 1 has 4. Line 2 has 7. Line 3 has 5.'], value = '')\n",
    "\n",
    "def displays():\n",
    "    IPython.display.clear_output()\n",
    "    IPython.display.display(answer)\n",
    "\n",
    "def check(a):\n",
    "    displays()\n",
    "    if answer.value == 'No, \"Our ride\" does not follow the 5-7-5 syllable structure':\n",
    "        print(\"You are right!\")\n",
    "    else:\n",
    "        print(\"Actually, this poem does not follow the 5-7-5 syllable structure.\")\n",
    "    print(\"How many syllables does each line have?\")\n",
    "    IPython.display.display(truth)\n",
    "        \n",
    "def check2(a):\n",
    "    displays()\n",
    "    IPython.display.display(truth)\n",
    "    if truth.value == 'Line 1 has 4. Line 2 has 6. Line 3 has 4.':\n",
    "        print(\"That's right! Haikus need the 5-7-5 syllable structure but this poem has a 4-6-4 structure.\")\n",
    "        print(\"That means this poem is not a haiku.\")\n",
    "    else:\n",
    "        print(\"That's not right, try counting the syllables of each line again.\")\n",
    "        \n",
    "displays()\n",
    "answer.observe(check, 'value')\n",
    "truth.observe(check2, 'value')"
   ]
  },
  {
   "cell_type": "markdown",
   "metadata": {},
   "source": [
    "### Check a word's number of syllables:\n",
    "\n",
    "Did one word stump you? Don't worry, just type in the word below. We'll tell you how many syllables are in that word. Feel free to use this when completing other exercises if you get stuck."
   ]
  },
  {
   "cell_type": "code",
   "execution_count": 11,
   "metadata": {},
   "outputs": [
    {
     "data": {
      "application/vnd.jupyter.widget-view+json": {
       "model_id": "2b240c8d01a144e1b4ee384f3236d95a",
       "version_major": 2,
       "version_minor": 0
      },
      "text/plain": [
       "Textarea(value='', description='Check a word:', style=DescriptionStyle(description_width='initial'))"
      ]
     },
     "metadata": {},
     "output_type": "display_data"
    },
    {
     "data": {
      "application/vnd.jupyter.widget-view+json": {
       "model_id": "93113370883a4233afd09c81c0c42d58",
       "version_major": 2,
       "version_minor": 0
      },
      "text/plain": [
       "Button(description='Check', style=ButtonStyle())"
      ]
     },
     "metadata": {},
     "output_type": "display_data"
    }
   ],
   "source": [
    "wordcheck = widgets.Textarea(description='Check a word:', style={'description_width': 'initial'})\n",
    "checker = widgets.Button(description='Check')\n",
    "\n",
    "def syllables(word): \n",
    "    count = [0]\n",
    "    vowels = 'aeiouy'\n",
    "    word = word.lower()\n",
    "    if word[0] in vowels:\n",
    "        count[0] +=1\n",
    "    for index in range(1,len(word)):\n",
    "        if word[index] in vowels and word[index-1] not in vowels:\n",
    "            count[0] +=1\n",
    "    if word.endswith('e'):\n",
    "        count[0] -= 1\n",
    "    if word.endswith('le'):\n",
    "        count[0] +=1\n",
    "    if count[0] == 0:\n",
    "        count[0] +=1\n",
    "    return count\n",
    "\n",
    "def nsyl(word):\n",
    "    try:\n",
    "        return [len(list(y for y in x if isdigit(y[-1]))) for x in d[word.lower()]]\n",
    "    except KeyError:\n",
    "        if KeyError == ' ':\n",
    "            return [0]\n",
    "        else:\n",
    "            return syllables(word)\n",
    "        \n",
    "def checking(a):\n",
    "    count = 0\n",
    "    IPython.display.clear_output()\n",
    "    IPython.display.display(wordcheck, checker)\n",
    "    word = wordcheck.value\n",
    "    for chunk in word.split(): \n",
    "        count += nsyl(chunk)[0]\n",
    "    print(\"There are\",count,\"syllables in\",word)\n",
    "    \n",
    "IPython.display.display(wordcheck, checker)    \n",
    "checker.on_click(checking)"
   ]
  },
  {
   "cell_type": "markdown",
   "metadata": {},
   "source": [
    "*Try the word 'onomatopoeia' in this checker. This word has 6 syllables, but the checker says there's only 5. This is because this checker is NOT perfect. English is hard and there aren't many rules that this computer can follow to be right all the time. Onomatopoeia has 4 vowels in a row which is pronouced in two syllables but this computer doesn't know that. Ask your teacher if you think this checker is wrong on a word.*"
   ]
  },
  {
   "cell_type": "markdown",
   "metadata": {},
   "source": [
    "### Try writing your own haiku!\n",
    "Write your haiku by typing each line of the poem on a new line. Don't include a title. Press submit when your poem is done."
   ]
  },
  {
   "cell_type": "code",
   "execution_count": 12,
   "metadata": {},
   "outputs": [
    {
     "data": {
      "application/vnd.jupyter.widget-view+json": {
       "model_id": "ce7ed4aee9ed4000a59faeeba58097a4",
       "version_major": 2,
       "version_minor": 0
      },
      "text/plain": [
       "Textarea(value='', description='Haiku:', layout=Layout(height='100px', width='400px'))"
      ]
     },
     "metadata": {},
     "output_type": "display_data"
    },
    {
     "data": {
      "application/vnd.jupyter.widget-view+json": {
       "model_id": "1ce5040ac45e4fd09da573d6f776b163",
       "version_major": 2,
       "version_minor": 0
      },
      "text/plain": [
       "Button(button_style='success', description='Submit', style=ButtonStyle())"
      ]
     },
     "metadata": {},
     "output_type": "display_data"
    }
   ],
   "source": [
    "poem = widgets.Textarea(description='Haiku:', layout={'height': '100px', 'width': '400px'})\n",
    "submit = widgets.Button(description='Submit', button_style='success')\n",
    "\n",
    "def syllables(word): \n",
    "    count = [0]\n",
    "    vowels = 'aeiouy'\n",
    "    word = word.lower()\n",
    "    if word[0] in vowels:\n",
    "        count[0] +=1\n",
    "    for index in range(1,len(word)):\n",
    "        if word[index] in vowels and word[index-1] not in vowels:\n",
    "            count[0] +=1\n",
    "    if word.endswith('e'):\n",
    "        count[0] -= 1\n",
    "    if word.endswith('le'):\n",
    "        count[0] +=1\n",
    "    if count[0] == 0:\n",
    "        count[0] +=1\n",
    "    return count\n",
    "\n",
    "def nsyl(word): \n",
    "    try:\n",
    "        return [len(list(y for y in x if isdigit(y[-1]))) for x in d[word.lower()]]\n",
    "    except KeyError:\n",
    "        if KeyError == ' ':\n",
    "            return [0]\n",
    "        else:\n",
    "            return syllables(word)\n",
    "        \n",
    "phrase = poem.value        \n",
    "#phrase = \"This is troubling , There is a dragon ahead , go run for your life\"\n",
    "def check(phrase):\n",
    "    syllables = []\n",
    "    for sentence in phrase.split(':'):\n",
    "        count = 0\n",
    "        for word in sentence.split():\n",
    "            wordcount = nsyl(word)\n",
    "            count += wordcount[0]\n",
    "        if count != 0:\n",
    "            syllables.append(count)\n",
    "    if syllables == [5, 7, 5]:\n",
    "        print(\"This is a haiku!\")\n",
    "    else:\n",
    "        print(\"This is not a haiku. If you think it is a haiku, it's best to double check with your teacher.\")\n",
    "        print(syllables)\n",
    "        \n",
    "def display(a):\n",
    "    IPython.display.clear_output(wait=False)\n",
    "    IPython.display.display(poem, submit)\n",
    "    phrase = poem.value\n",
    "    #phrase.translate(str.maketrans(\"\", \"\", string.punctuation))\n",
    "    for ch in string.punctuation:                                                                                                     \n",
    "        phrase = phrase.replace(ch, \"\") \n",
    "    phrase = phrase.replace(\"\\n\", \":\")\n",
    "    check(phrase)\n",
    "    \n",
    "IPython.display.display(poem, submit)    \n",
    "submit.on_click(display)    "
   ]
  },
  {
   "cell_type": "markdown",
   "metadata": {},
   "source": [
    "##### Are you wondering how the computer is counting the syllables you typed? \n",
    "\n",
    ">Many people have worked really hard to create a dictionary that the computer can call to look up how many syllables are in a certain word. But not all words exist in this dictionary. There's also some rules about how syllables are made that help the computer guess the right number of syllables. Sometimes it's wrong though because English doesn't always follow easy rules."
   ]
  },
  {
   "cell_type": "markdown",
   "metadata": {},
   "source": [
    "## Diamante\n",
    "\n",
    "A diamante poem is a type of shape poetry that has rules for each line.<br>\n",
    "Not all types of shape poetry need rules.<br>\n",
    "Some can be in the shape of the topic the poem is about.\n",
    "\n",
    "##### Topic\n",
    "A diamante poem is written about two topics, which can be similar or complete opposites.<br>\n",
    "One topic is for the top of the diamond. The other topic if for the bottom of the diamond.<br>\n",
    "This type of poem does not usually have a title because the first and line lines tell the reader the topic.\n",
    "\n",
    "##### Structure\n",
    "A diamante poem is a type of shape poetry that is written in the shape of a diamond. <br>\n",
    "- It includes 7 lines. \n",
    "- The first topic is for the first 3 lines. \n",
    "- The other topic if for the last 3 lines. \n",
    "- The middle line, or 4th line, is about both topics. \n",
    "- None of the lines need to rhyme.\n",
    "\n",
    "Each line has a specific rule. Look at the picture below to see the rules.\n",
    "\n",
    "![structure](https://study.com/cimages/multimages/16/diamantepattern.jpg)\n",
    "[source](https://study.com/academy/lesson/diamante-poems-lesson-for-kids.html)\n",
    "\n",
    "An example of a diamante poem about opposites would be:\n",
    "<div style=\"text-align:center\">\n",
    "    <span style=\"color:orange\"> Day <br>\n",
    "                                Light, coloured <br>\n",
    "                                Shining, seeing, doing </span> <br>\n",
    "    <span style=\"color:green\"> Morning, Noon, Evening, Midnight </span> <br>\n",
    "    <span style=\"color:blue\"> Fading, sleeping, dreaming <br>\n",
    "                                Dark, calm <br>\n",
    "                                Night </span> <br>\n",
    "    <div>"
   ]
  },
  {
   "cell_type": "markdown",
   "metadata": {},
   "source": [
    "### Exercise\n",
    "\n",
    "What would be a good Topic 1 and Topic 2 for this diamante poem?\n",
    "<div style=\"text-align:center\">\n",
    " <span style=\"color:orange\"> ---Topic 1---  <br>\n",
    "                             Striped, Hooved <br>\n",
    "                             Grazing, Drinking, Running </span> <br>\n",
    " <span style=\"color:red\"> One from Africa, one from Europe </span> <br>\n",
    " <span style=\"color:purple\"> Galloping, Trotting, Neighing <br>\n",
    "                             Majestic, Hairy <br>\n",
    "                             ---Topic 2--- </span> <br>\n",
    "<div>\n",
    "\n",
    "Which 2 animals would best fit this poem?"
   ]
  },
  {
   "cell_type": "code",
   "execution_count": 13,
   "metadata": {},
   "outputs": [
    {
     "data": {
      "application/vnd.jupyter.widget-view+json": {
       "model_id": "11e3ea2b023d4b27aeff0010406a20e6",
       "version_major": 2,
       "version_minor": 0
      },
      "text/plain": [
       "RadioButtons(description='Topic 1', options=('', 'Tiger', 'Zebra', 'Cow', 'Giraffe'), value='')"
      ]
     },
     "metadata": {},
     "output_type": "display_data"
    }
   ],
   "source": [
    "topic1 = widgets.RadioButtons(options=['','Tiger', 'Zebra', 'Cow', 'Giraffe'], description='Topic 1', value = '')\n",
    "\n",
    "def display2():\n",
    "    IPython.display.clear_output()\n",
    "    IPython.display.display(topic1)\n",
    "\n",
    "def checks(a):\n",
    "    display2()\n",
    "    if topic1.value == 'Zebra':\n",
    "        print(\"That's a great choice! It fits all the descriptions of the first 3 lines.\")\n",
    "    else:\n",
    "        print(\"That choice might fit some of the descriptions of the first 3 lines, but not all of them. Try again.\")\n",
    "        \n",
    "display2()\n",
    "topic1.observe(checks, 'value')"
   ]
  },
  {
   "cell_type": "code",
   "execution_count": 14,
   "metadata": {},
   "outputs": [
    {
     "data": {
      "application/vnd.jupyter.widget-view+json": {
       "model_id": "d6416391b4f1481b881eeab1627c7fae",
       "version_major": 2,
       "version_minor": 0
      },
      "text/plain": [
       "RadioButtons(description='Topic 2', options=('', 'Lion', 'Donkey', 'Horse', 'Pig'), value='')"
      ]
     },
     "metadata": {},
     "output_type": "display_data"
    }
   ],
   "source": [
    "topic2 = widgets.RadioButtons(options=['','Lion', 'Donkey', 'Horse', 'Pig'], description='Topic 2', value = '')\n",
    "\n",
    "def display3():\n",
    "    IPython.display.clear_output()\n",
    "    IPython.display.display(topic2)\n",
    "        \n",
    "def checks2(a):\n",
    "    display3()\n",
    "    if topic2.value == 'Horse':\n",
    "        print(\"Great choice! The last 3 lines decribe a horse!\")\n",
    "    else:\n",
    "        print(\"That choice might fit some of the descriptions of the last 3 lines, but not all of them. Try again.\")\n",
    "        \n",
    "display3()\n",
    "topic2.observe(checks2, 'value')"
   ]
  },
  {
   "cell_type": "markdown",
   "metadata": {},
   "source": [
    "## Limerick\n",
    "\n",
    "You have probably heard limericks before because they are used very often.<br>\n",
    "Limericks are a lot of fun to say out loud because they have a rhyming pattern. \n",
    "\n",
    "##### Topic\n",
    "A limerick can be about anything. Like a haiku, all the lines are about the same topic. <br>\n",
    "It's like a story that has a rhythm when you read it. Most limericks are nonsense stories. <br>\n",
    "Most of them start with *\"There once was a ...\"* or *\"There was a ...\"*\n",
    "\n",
    "##### Structure\n",
    "Limericks have 5 lines and they rhyme in a specific pattern. \n",
    "- Lines 1, 2, and 5 all have the same number of syllables and rhyme. \n",
    "- They each have between 8 and 11 syllables. \n",
    "- Lines 3 and 4 have the same number of syllables and rhyme. \n",
    "- They have between 5 and 7 syllables. \n",
    "\n",
    "<span style=\"color:orange\"> Don't worry too much about the syllables though, it's more inportant that it's easy to read and rhymes in the right order.<span/>\n",
    "\n",
    "**Limericks have a AABBA rhyming structure.** <br>\n",
    "Each letter stands for a line and the letters that are the same mean the lines rhyme. Like this:\n",
    "<div style=\"text-align:center\">\n",
    "    <span style=\"color:blue\"> There once was a black cat named Jack, <br>\n",
    "        Who had a large bag on his back. </span> <br>\n",
    "    <span style=\"color:red\">He sat on a chair, <br>\n",
    "        With nothing to wear, </span> <br>\n",
    "    <span style=\"color:blue\">Except his old dusty knap-sack.</span><br>\n",
    "    <div>\n",
    "\n",
    "Listen to this limerick from an episode of SpongeBob:"
   ]
  },
  {
   "cell_type": "code",
   "execution_count": 15,
   "metadata": {},
   "outputs": [
    {
     "data": {
      "text/html": [
       "\n",
       "        <iframe\n",
       "            width=\"560\"\n",
       "            height=\"315\"\n",
       "            src=\"https://www.youtube.com/embed/GG19g9oiF-w?rel=0?allow=allowfullscreen\"\n",
       "            frameborder=\"0\"\n",
       "            allowfullscreen\n",
       "        ></iframe>\n",
       "        "
      ],
      "text/plain": [
       "<IPython.lib.display.IFrame at 0x7f4a9fec1898>"
      ]
     },
     "execution_count": 15,
     "metadata": {},
     "output_type": "execute_result"
    }
   ],
   "source": [
    "from IPython.display import IFrame\n",
    "IFrame(width=\"560\", height=\"315\", src=\"https://www.youtube.com/embed/GG19g9oiF-w?rel=0\", allow=\"allowfullscreen\")"
   ]
  },
  {
   "cell_type": "markdown",
   "metadata": {},
   "source": [
    "This limerick tells a funny story about a man eating his shoe in his sleep. \n",
    "\n",
    "Lines 1, 2, and 5 had 8 syllables and all ended in the sound \"oo\".<br> \n",
    "Lines 3 and 4 had 5 syllables and all ended in the sound \"ight\". <br>\n",
    "So it fits the pattern of a limerick!"
   ]
  },
  {
   "cell_type": "markdown",
   "metadata": {},
   "source": [
    "#### Exercise\n",
    "\n",
    "Choose color for every line by last word. Use a different colour for each new sound that has a rhyme.<br> \n",
    "If a line doesn't rhyme with any other line, then don't colour it with either colour."
   ]
  },
  {
   "cell_type": "code",
   "execution_count": 16,
   "metadata": {},
   "outputs": [],
   "source": [
    "from IPython.display import display"
   ]
  },
  {
   "cell_type": "code",
   "execution_count": 17,
   "metadata": {},
   "outputs": [
    {
     "data": {
      "application/vnd.jupyter.widget-view+json": {
       "model_id": "39727944964b46ae889ddb166574ffde",
       "version_major": 2,
       "version_minor": 0
      },
      "text/plain": [
       "VBox(children=(HBox(children=(HTML(value='<font size=\"6\">Hickory, dickory, dock.</font>'), ToggleButtons(optio…"
      ]
     },
     "metadata": {},
     "output_type": "display_data"
    },
    {
     "data": {
      "application/vnd.jupyter.widget-view+json": {
       "model_id": "f0f9c15faf2942fba3a4b32babe78441",
       "version_major": 2,
       "version_minor": 0
      },
      "text/plain": [
       "Button(description='Submit', style=ButtonStyle())"
      ]
     },
     "metadata": {},
     "output_type": "display_data"
    },
    {
     "data": {
      "application/vnd.jupyter.widget-view+json": {
       "model_id": "aaf8134f0c79433980cb9878a04b51b7",
       "version_major": 2,
       "version_minor": 0
      },
      "text/plain": [
       "HTML(value='')"
      ]
     },
     "metadata": {},
     "output_type": "display_data"
    }
   ],
   "source": [
    "lines_1 = ['Hickory, dickory, dock.',\n",
    "         'The mouse ran up the clock.', \n",
    "         'Ther clock struck one.', \n",
    "         'The mouse ran down',\n",
    "         'Hickory, dickory, dock']\n",
    "colors_1 =[\"\",\"red\",\"blue\"] \n",
    "results_1=[\"\",\"\",\"\",\"\",\"\"]\n",
    "poem_lines_1 = [widgets.HTML(value='<font size=\"6\">'+l+'</font>') for l in lines_1]\n",
    "poem_buttons_1 = [widgets.ToggleButtons(options=colors_1,style={\"button_width\":\"50px\",\"button_heigth\":\"50px\"}) for l in lines_1]\n",
    "hboxes_1=[]\n",
    "for i in range(len(lines_1)):\n",
    "    hboxes_1.append(widgets.HBox([poem_lines_1[i],poem_buttons_1[i]]))\n",
    "display(widgets.VBox(hboxes_1))\n",
    "\n",
    "btn_1=widgets.Button(description='Submit')\n",
    "display(btn_1)\n",
    "\n",
    "result_1 = widgets.HTML(value='')\n",
    "display(result_1)\n",
    "\n",
    "def on_click0_1(change):\n",
    "    poem_lines_1[0].value='<font color=\"'+change['new']+'\" size=\"6\">'+lines_1[0]+'</font>'\n",
    "    results_1[0]=change['new']\n",
    "def on_click1_1(change):\n",
    "    poem_lines_1[1].value='<font color=\"'+change['new']+'\"\" size=\"6\">'+lines_1[1]+'</font>'\n",
    "    results_1[1]=change['new']\n",
    "def on_click2_1(change):\n",
    "    poem_lines_1[2].value='<font color=\"'+change['new']+'\"\" size=\"6\">'+lines_1[2]+'</font>'\n",
    "    results_1[2]=change['new']\n",
    "def on_click3_1(change):\n",
    "    poem_lines_1[3].value='<font color=\"'+change['new']+'\"\" size=\"6\">'+lines_1[3]+'</font>'\n",
    "    results_1[3]=change['new']\n",
    "def on_click4_1(change):\n",
    "    poem_lines_1[4].value='<font color=\"'+change['new']+'\"\" size=\"6\">'+lines_1[4]+'</font>'\n",
    "    results_1[4]=change['new']\n",
    "\n",
    "poem_buttons_1[0].observe(on_click0_1, 'value')\n",
    "poem_buttons_1[1].observe(on_click1_1, 'value')\n",
    "poem_buttons_1[2].observe(on_click2_1, 'value')\n",
    "poem_buttons_1[3].observe(on_click3_1, 'value')\n",
    "poem_buttons_1[4].observe(on_click4_1, 'value')\n",
    "    \n",
    "def check_result_1(button):\n",
    "    if (results_1==[\"red\",\"red\",\"blue\",\"blue\",\"red\"]) or (results_1==[\"blue\",\"blue\",\"red\",\"red\",\"blue\"]):\n",
    "        result_1.value=\"That's right! This poem's pattern is AABBA\"\n",
    "    else:\n",
    "        result_1.value=\"Not Quite. Look at the words again. It's about sound and not spelling.\"\n",
    "\n",
    "btn_1.on_click(check_result_1)   "
   ]
  },
  {
   "cell_type": "code",
   "execution_count": 18,
   "metadata": {},
   "outputs": [
    {
     "name": "stdout",
     "output_type": "stream",
     "text": [
      "Does this pattern match the rhyming pattern of a limerick?\n"
     ]
    },
    {
     "data": {
      "application/vnd.jupyter.widget-view+json": {
       "model_id": "49cbf70f0aed4549a1e7f2acc6732b4b",
       "version_major": 2,
       "version_minor": 0
      },
      "text/plain": [
       "RadioButtons(options=('', 'Yes, the two patterns match', 'No, the two patterns do not match'), value='')"
      ]
     },
     "metadata": {},
     "output_type": "display_data"
    }
   ],
   "source": [
    "pattern2 = widgets.RadioButtons(options=['','Yes, the two patterns match', 'No, the two patterns do not match'], value = '')\n",
    "\n",
    "def display5():\n",
    "    IPython.display.clear_output()\n",
    "    print(\"Does this pattern match the rhyming pattern of a limerick?\")\n",
    "    IPython.display.display(pattern2)\n",
    "\n",
    "def check5(a):\n",
    "    display5()\n",
    "    if pattern2.value == 'Yes, the two patterns match':\n",
    "        print(\"You are right!\")\n",
    "    else:\n",
    "        print(\"Actually, the two patterns do match.\")\n",
    "    print(\"A limerick's rhyming pattern is AABBA and so is this poem's rhyming pattern. Hickory dickory dock is a limerick!\")\n",
    "        \n",
    "display5()\n",
    "pattern2.observe(check5, 'value')"
   ]
  },
  {
   "cell_type": "markdown",
   "metadata": {},
   "source": [
    "#### Try another one!\n",
    "\n",
    "It works exactly the same way, and if one line doesn't rhyme with any others, then don't use a colour on it."
   ]
  },
  {
   "cell_type": "code",
   "execution_count": 19,
   "metadata": {},
   "outputs": [
    {
     "data": {
      "application/vnd.jupyter.widget-view+json": {
       "model_id": "d9fae3f0215b45c98a7eb850e8497ea4",
       "version_major": 2,
       "version_minor": 0
      },
      "text/plain": [
       "VBox(children=(HBox(children=(HTML(value='<font size=\"6\">Little Miss Muffet sat on a tuffet</font>'), ToggleBu…"
      ]
     },
     "metadata": {},
     "output_type": "display_data"
    },
    {
     "data": {
      "application/vnd.jupyter.widget-view+json": {
       "model_id": "b1133088f6d7415bb9e42ee1296ddf29",
       "version_major": 2,
       "version_minor": 0
      },
      "text/plain": [
       "Button(description='Submit', style=ButtonStyle())"
      ]
     },
     "metadata": {},
     "output_type": "display_data"
    },
    {
     "data": {
      "application/vnd.jupyter.widget-view+json": {
       "model_id": "1e6383072e744052ba0e5b8e5dc24bcd",
       "version_major": 2,
       "version_minor": 0
      },
      "text/plain": [
       "HTML(value='')"
      ]
     },
     "metadata": {},
     "output_type": "display_data"
    }
   ],
   "source": [
    "lines_2 = ['Little Miss Muffet sat on a tuffet',\n",
    "         'eating her curds and whey,', \n",
    "         'along came a spider,', \n",
    "         'who sat down beside her',\n",
    "         'and frightend Miss Muffet away.']\n",
    "colors_2 =[\"\",\"red\",\"blue\"] \n",
    "results_2=[\"\",\"\",\"\",\"\",\"\"]\n",
    "poem_lines_2 = [widgets.HTML(value='<font size=\"6\">'+l+'</font>') for l in lines_2]\n",
    "poem_buttons_2 = [widgets.ToggleButtons(options=colors_2,style={\"button_width\":\"50px\",\"button_heigth\":\"50px\"}) for l in lines_2]\n",
    "hboxes_2=[]\n",
    "for i in range(len(lines_2)):\n",
    "    hboxes_2.append(widgets.HBox([poem_lines_2[i],poem_buttons_2[i]]))\n",
    "display(widgets.VBox(hboxes_2))\n",
    "\n",
    "btn_2=widgets.Button(description='Submit')\n",
    "display(btn_2)\n",
    "\n",
    "result_2 = widgets.HTML(value='')\n",
    "display(result_2)\n",
    "\n",
    "def on_click0_2(change):\n",
    "    poem_lines_2[0].value='<font color=\"'+change['new']+'\" size=\"6\">'+lines_2[0]+'</font>'\n",
    "    results_2[0]=change['new']\n",
    "def on_click1_2(change):\n",
    "    poem_lines_2[1].value='<font color=\"'+change['new']+'\"\" size=\"6\">'+lines_2[1]+'</font>'\n",
    "    results_2[1]=change['new']\n",
    "def on_click2_2(change):\n",
    "    poem_lines_2[2].value='<font color=\"'+change['new']+'\"\" size=\"6\">'+lines_2[2]+'</font>'\n",
    "    results_2[2]=change['new']\n",
    "def on_click3_2(change):\n",
    "    poem_lines_2[3].value='<font color=\"'+change['new']+'\"\" size=\"6\">'+lines_2[3]+'</font>'\n",
    "    results_2[3]=change['new']\n",
    "def on_click4_2(change):\n",
    "    poem_lines_2[4].value='<font color=\"'+change['new']+'\"\" size=\"6\">'+lines_2[4]+'</font>'\n",
    "    results_2[4]=change['new']\n",
    "\n",
    "poem_buttons_2[0].observe(on_click0_2, 'value')\n",
    "poem_buttons_2[1].observe(on_click1_2, 'value')\n",
    "poem_buttons_2[2].observe(on_click2_2, 'value')\n",
    "poem_buttons_2[3].observe(on_click3_2, 'value')\n",
    "poem_buttons_2[4].observe(on_click4_2, 'value')\n",
    "\n",
    "def check_result_2(button):\n",
    "    if (results_2==[\"\",\"red\",\"blue\",\"blue\",\"red\"]) or (results_2==[\"\",\"blue\",\"red\",\"red\",\"blue\"]):\n",
    "        result_2.value=\"That's right! This poem's pattern is ABCCB.\"\n",
    "    else:\n",
    "        result_2.value=\"Not Quite. Look at the words again. Remember not all lines have to rhyme.\"\n",
    "\n",
    "btn_2.on_click(check_result_2)  "
   ]
  },
  {
   "cell_type": "code",
   "execution_count": 20,
   "metadata": {},
   "outputs": [
    {
     "name": "stdout",
     "output_type": "stream",
     "text": [
      "Does this pattern match the rhyming pattern of a limerick?\n"
     ]
    },
    {
     "data": {
      "application/vnd.jupyter.widget-view+json": {
       "model_id": "defac9272fc447a2ac7729fd19a851ef",
       "version_major": 2,
       "version_minor": 0
      },
      "text/plain": [
       "RadioButtons(options=('', 'Yes, the two patterns match', 'No, the two patterns do not match'), value='')"
      ]
     },
     "metadata": {},
     "output_type": "display_data"
    }
   ],
   "source": [
    "pattern = widgets.RadioButtons(options=['','Yes, the two patterns match', 'No, the two patterns do not match'], value = '')\n",
    "\n",
    "def display4():\n",
    "    IPython.display.clear_output()\n",
    "    print(\"Does this pattern match the rhyming pattern of a limerick?\")\n",
    "    IPython.display.display(pattern)\n",
    "\n",
    "def check4(a):\n",
    "    display4()\n",
    "    if pattern.value == 'No, the two patterns do not match':\n",
    "        print(\"You are right!\")\n",
    "    else:\n",
    "        print(\"Actually, the two patterns don't match.\")\n",
    "    print(\"A limerick's rhyming pattern is actually AABBA. This poem is close though, so many people do call this poem a limerick.\")\n",
    "        \n",
    "display4()\n",
    "pattern.observe(check4, 'value')"
   ]
  },
  {
   "cell_type": "markdown",
   "metadata": {},
   "source": [
    "## Cinquain\n",
    "\n",
    "A cinquain poem was named that because it's close to the latin word for \"five\".<br> \n",
    "This is relevant because this poem has 5 lines. <br>\n",
    "A cinquain is also a type of shape poetry like the diamante, but each line has different rules and the result is a different shape.\n",
    "\n",
    "##### Topic\n",
    "A cinquain can be about anything. All the lines are about the same topic. <br>\n",
    "There usually isn't a title because the first and last lines act as a title by telling the reader the topic.\n",
    "\n",
    "##### Structure\n",
    "- It has 5 lines. \n",
    "- Each line has rules like the diamante poem. \n",
    "- A cinquain poem has these rules:\n",
    "\n",
    "![cinquain](https://littlelearningangels.weebly.com/uploads/7/1/2/4/71241245/published/download-1.jpg?1512469267)\n",
    "[source](https://littlelearningangels.weebly.com/cinquain-poetry.html)\n",
    "\n",
    "Here's an example of a cinquain:\n",
    "\n",
    "> Flower\n",
    ">\n",
    "> Sweet, Beautiful\n",
    ">\n",
    "> Growing, Blooming, Smelling\n",
    ">\n",
    "> Has a lovely scent\n",
    ">\n",
    "> Rose"
   ]
  },
  {
   "cell_type": "markdown",
   "metadata": {},
   "source": [
    "### Extend your knowledge\n",
    "\n",
    "Take your favourite book and write a poem about its story. <br>\n",
    "You can use any book and any style of poem from this notebook. <br>\n",
    "Can you make one of each type of poem about the same story?"
   ]
  },
  {
   "cell_type": "markdown",
   "metadata": {},
   "source": [
    "## What did we learn?\n",
    "\n",
    "We learned that:\n",
    "* There are many types of poetry. Not all of them rhyme.\n",
    "* Haikus have a 5-7-5 syllable structure\n",
    "* Limericks have a AABBA rhyming structure\n",
    "* Diamantes and cinquains are shape poetry with rules for each line\n",
    "\n",
    "You can write many poems with all the things you learned in this notebook! <br>\n",
    "Poems are a great way to tell a story with only a few words."
   ]
  },
  {
   "cell_type": "markdown",
   "metadata": {},
   "source": [
    "If you want to read more poetry, go to your school or public library and look for:\n",
    "* *Where the Sidewalk Ends* by Shel Silverstein\n",
    "* *A Bad Case of the Giggles* by Bruce Lansky\n",
    "* *Vanishing Trick* by Ros Asquith \n",
    "* *Poetry for Young People* by Emily Dickinson"
   ]
  },
  {
   "cell_type": "markdown",
   "metadata": {},
   "source": [
    "****************\n",
    "Credit for [nlkt](https://www.nltk.org/) used in this notebook:\n",
    "\n",
    "Bird, Steven, Edward Loper and Ewan Klein (2009), Natural Language Processing with Python. O’Reilly Media Inc."
   ]
  },
  {
   "cell_type": "markdown",
   "metadata": {},
   "source": [
    "![bottombanner](https://callysto.ca/wp-content/uploads/2018/07/Callysto-Notebook-Banner_Bottom_07.30.18.jpg)"
   ]
  }
 ],
 "metadata": {
  "kernelspec": {
   "display_name": "Python 3",
   "language": "python",
   "name": "python3"
  },
  "language_info": {
   "codemirror_mode": {
    "name": "ipython",
    "version": 3
   },
   "file_extension": ".py",
   "mimetype": "text/x-python",
   "name": "python",
   "nbconvert_exporter": "python",
   "pygments_lexer": "ipython3",
   "version": "3.6.8"
  },
  "latex_envs": {
   "LaTeX_envs_menu_present": true,
   "autoclose": false,
   "autocomplete": true,
   "bibliofile": "biblio.bib",
   "cite_by": "apalike",
   "current_citInitial": 1,
   "eqLabelWithNumbers": true,
   "eqNumInitial": 1,
   "hotkeys": {
    "equation": "Ctrl-E",
    "itemize": "Ctrl-I"
   },
   "labels_anchors": false,
   "latex_user_defs": false,
   "report_style_numbering": false,
   "user_envs_cfg": false
  },
  "nbTranslate": {
   "displayLangs": [
    "*"
   ],
   "hotkey": "alt-t",
   "langInMainMenu": true,
   "sourceLang": "en",
   "targetLang": "fr",
   "useGoogleTranslate": true
  }
 },
 "nbformat": 4,
 "nbformat_minor": 2
}
