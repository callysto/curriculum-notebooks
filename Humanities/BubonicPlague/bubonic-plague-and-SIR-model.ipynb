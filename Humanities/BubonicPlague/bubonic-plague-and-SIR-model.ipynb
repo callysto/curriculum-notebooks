{
 "cells": [
  {
   "cell_type": "markdown",
   "metadata": {},
   "source": [
    "<img src=\"./images/callysto_notebook-banner_top.png\" width=\"2000px\"/> "
   ]
  },
  {
   "cell_type": "markdown",
   "metadata": {},
   "source": [
    "# Modeling a Bubonic Plage (Black Death) Outbreak\n",
    "\n",
    "### Grade 11 Social Studies\n",
    "\n",
    "We are interested in modeling a bubonic plague outbreak. We part from the assumption that the total population can be subdivided into a set of classes, each of which depends on the state of the infection. The [**SIR Model**](https://en.wikipedia.org/wiki/Compartmental_models_in_epidemiology) is the simplest one and, as its name suggests, it divides the population into three classes. "
   ]
  },
  {
   "cell_type": "markdown",
   "metadata": {},
   "source": [
    "**Outcomes:**\n",
    "* Examine and visualize concepts and examples related to the bubonic plague.\n",
    "* Examine the timeline/map of the Black Death.\n",
    "* Visualize mathematical model that shows the recovery, infection, and removal rates."
   ]
  },
  {
   "cell_type": "markdown",
   "metadata": {},
   "source": [
    "## The SIR Outbreak Model"
   ]
  },
  {
   "cell_type": "markdown",
   "metadata": {},
   "source": [
    "### Population Parameters\n",
    "\n",
    "In this model, the total population is divided into three groups:\n",
    "\n",
    "* Susceptible: individuals that can become infected but haven't been yet\n",
    "* Infected: individuals that are infected\n",
    "* Removed: individuals that are either dead or recovered \n",
    "\n",
    "We are looking at the changes, over the course of an outbreak, of the numbers of these individuals, represented by $S$, $I$, and $R$. In other words we want to understand how, as time passes, the number of individuals in each group changes. \n",
    "\n",
    "Having a realistic model might be useful for predicting the long-term outcome of an outbreak and informing public health interventions.\n",
    "\n",
    "If we can predict that the number of removed people will stay low and the number of infected people will quickly go down to zero, then there is no need to intervene and we can let the outbreak end by itself while only providing medical attention to the infected people.\n",
    "\n",
    "Conversely if we predict a large increase of the numbers of infected and removed individuals, then the outbreak needs a quick intervention before it results in a large number of casualties. In a plague outbreak this intervention would, for example, be to make sure there is no contact between infected and susceptible people.\n",
    "\n",
    "We now describe the SIR (Susceptible, Infected, Removed) mathematical model of an outbreak over time (for example every week). We write $S_t, I_t, R_t$ to denote the number of susceptible, infected, and removed individuals at time point $t$. $t=1$ is the first recorded time point, $t=2$ is the second and so on. We call *time unit* the time elapsed between two time points, for example a day or a week.\n",
    "\n",
    "In this model, we assume that the **total population is constant** (so births and deaths are ignored) for the duration of the model simulation. We represent the total population size by $N$, and so at any time point $t$ we have $$N=S_t + I_t + R_t$$"
   ]
  },
  {
   "cell_type": "markdown",
   "metadata": {},
   "source": [
    "### Modelling the disease progression\n",
    "\n",
    "We assume that transmission requires contact between an infected individual and a susceptible individual. We also assume that the disease takes a constant amount of time to progress within an infected individual until they are removed (die or recover). We need to define these two processes (infection and removal) and model how they impact the transition from the time $t = (S_t,I_t,R_t)$ to the next state $t + 1 = (S_{t+1},I_{t+1},R_{t+1})$.\n",
    "\n",
    "![SIR_1](./images/SIR_1.jpg)\n",
    "\n",
    "The occurrences of new infections of is modeled using a parameter $\\beta$, that gives the proportion of contacts between susceptible people and infected people, during one time unit, that results in infection. Then we can describe the number of newly infected people as $\\dfrac{\\beta S_t I_t}{N}$, where the term $S_t I_t$ represents the set of all possible contacts between susceptible and infected individuals. We discuss this term later.\n",
    "\n",
    "The occurrence of removals of infected people is modeled using a parameter denoted by $\\gamma$. It is defined to be proportion of infected individuals that die or recover between two time points. If we are given that the duration of an infection is $T$ (i.e. how many time points it takes for an individual between infection and removal), then $\\gamma = \\dfrac{1}{T}$. \n",
    "\n",
    "![SIR_2](./images/SIR_2.jpg)\n",
    "\n",
    "Taking into account the rate of contact $\\beta$ and rate of removal $\\gamma$, then each group population changes within one unit of time as follows\n",
    "\n",
    "$$\n",
    "\\begin{align}\n",
    "S_{t+1} &= S_t -  \\dfrac{{\\beta} S_t I_t}{N}\\\\\n",
    "I_{t+1} &= I_t +  \\dfrac{{\\beta} S_t I_t}{N} - \\gamma I_t \\\\\n",
    "R_{t+1} &= R_t + \\gamma I_t\\\\\n",
    "N&=S_t + I_t + R_t\n",
    "\\end{align}\n",
    "$$\n",
    "\n",
    "These equations form the SIR model. They allow, from knowing the parameters of the model ($\\beta$ and $\\gamma$) and the current state ($S_t,I_t,R_t$) of a population to predict the next states of the population for later time points. Such models are critical in our days for monitoring and controlling infectious diseases outbreaks."
   ]
  },
  {
   "cell_type": "markdown",
   "metadata": {},
   "source": [
    "##### Technical remarks.\n",
    "First, note that the SIR model does not enforce that the values $S_t,I_t,R_t$ at a given time point are integers. As $\\beta$ and $\\gamma$ are actually floating numbers, these values are actually most of the time not integers. This is fine as the SIR model is an approximate model and aims mostly at predicting the general dynamics of an outbreak, not the precise values for the number of susceptible, infected, and removed individuals.\n",
    "\n",
    "Next, one can ask how to find the values of the parameters $\\beta$ and $\\gamma$ that are necessary to have a full SIR model. \n",
    "\n",
    "As discussed above, the parameter $\\gamma$ is relatively easy to find from knowing how the disease progress in a patient, as it is mostly the inverse of the average time a patient is sick. \n",
    "\n",
    "The parameter $\\beta$ is less easy to obtain. Reading the equations we can see that during a time point, out of the $S_t$ susceptible individuals, the number that get infected is $(\\dfrac{{\\beta}}{N}) S_t I_t$. As mentioned above, the product $S_t I_t$ can be interpreted as the set of all possible contacts between the $S_t$ susceptible individuals and the $I_t$ infected individuals and is often a large number, much larger than $S_t$ and in the order of $N^2$. The division by $N$ aims to lower this number, mostly to normalize it by the total population, to make sure it is in order of $N$ and not quadratic in $N$. So in order for the number of newly infected individuals during a time unit to be reasonable, $\\beta$ is generally a  small number between $0$ and $1$. But formally, if we pick a value for $\\beta$ that is too large, then the SIR model will predict value for $S_t$ that can be negative, which is inconsistent with the modeled phenomenon. So choosing the value of $\\beta$ is the crucial step in modelling an outbreak."
   ]
  },
  {
   "cell_type": "code",
   "execution_count": 1,
   "metadata": {},
   "outputs": [],
   "source": [
    "# This function takes as input a vector y holding all initial values,\n",
    "#    t: the number of time points (e.g. days)\n",
    "#    beta: proportion of contacts that result in infections\n",
    "#    gamma: proportion of infected that are removed\n",
    "#    S1,I1,R1 = initial population sizes\n",
    "\n",
    "def discrete_SIR(S1,I1,R1,t,beta,gamma):\n",
    "    # Empy arrays for each class\n",
    "    S = [] # susceptible population\n",
    "    I = [] # infected population\n",
    "    R = [] # removed population\n",
    "    N = S1+I1+R1 # the total population\n",
    "    \n",
    "    # Append initial values\n",
    "    S.append(S1)\n",
    "    I.append(I1)\n",
    "    R.append(R1)\n",
    "    \n",
    "    # apply SIR model: iterate over the total number of days - 1\n",
    "    for i in range(t-1):\n",
    "        S_next = S[i] - (beta/N)*((S[i]*I[i]))\n",
    "        S.append(S_next)\n",
    "        \n",
    "        I_next = I[i] + (beta/N)*((S[i]*I[i])) - gamma*I[i]\n",
    "        I.append(I_next)\n",
    "        \n",
    "        R_next = R[i] + gamma * I[i]\n",
    "        R.append(R_next)\n",
    "    \n",
    "    # return arrays S,I,R whose entries are various values for susceptible, infected, removed \n",
    "    return((S,I,R))"
   ]
  },
  {
   "cell_type": "markdown",
   "metadata": {},
   "source": [
    "##  Modeling an outbreak related to the Great Plague of London\n",
    "\n",
    "The last major epidemic of the bubonic plague in England occurred between 1665 and 1666 ([click here for further reading](https://www.britannica.com/event/Great-Plague-of-London)). This epidemic did not kill as many people as the Black Death (1347 - 1351), however it is remembered as the \"Great Plague of London\" as it was the last widespread outbreak that affected England. \n",
    "\n",
    "\"City records indicate that some 68,596 people died during the epidemic, though the actual number of deaths is suspected to have exceeded 100,000 out of a total population estimated at 460,000. \" [Great Plague of London\"; Encyclopædia Britannica; Encyclopædia Britannica, inc.; September 08, 2016](https://www.britannica.com/event/Great-Plague-of-London)\n",
    "\n",
    "When the bubonic plague outbreak hit London, people started to leave the city and go to the countryside, hoping to avoid the disease. But as can be expected, some of these people were already infected when they left London, and so carried the disease to start other outbreaks in some nearby villages. This happened in the village of Eyam.\n",
    "\n",
    "When Eyam authorities realized a plague outbreak had started, they took the difficult decision to close the village in order to avoid to spread the disease further. So nobody was allowed to enter or leave the village and people stayed there hoping the outbreak would end by itself without too many casualties; note that from a mathematical point of view, that implies that the assumption that the sum of the numbers of susceptible, infected and removed individuals, the population, is constant.\n",
    "\n",
    "Also the village authorities recorded regularly the number of infected and dead people; these data are described in the table below, for the period from June 19 1665 to October 19 1665, with data being recorded every 2 weeks. Obviously these data are imperfect (some people did not declare they were sick by fear of being ostracized, some people died too fast for the plague to be diagnosed, etc.), but nevertheless, they provide us with interesting data to see if the SIR model is an appropriate model for such a plague outbreak. \n",
    "\n",
    "\n",
    "| Date  |Day Number |Susceptible | Infected | \n",
    "|-------||-------------|----------|\n",
    "|June 19 1665|0|254|7| \n",
    "|July 3 1665|14|235|14|\n",
    "|July 19 1665|28|201|22|\n",
    "|Aug 3 1665|42|153|29|\n",
    "|Aug 19 1665|56|121| 21|\n",
    "|Sept 3 1665|70|108|8|\n",
    "|Sept 19 1665|84|121|21|\n",
    "|Oct 3 1665| 98|NA | NA|\n",
    "|Oct 19 1665|112| 83 | 0|\n",
    "\n",
    "The average time an infected individual remains infected by the bubonic plague is 11 days.\n",
    "\n",
    "With the information above, we will be able to get the parameters of the SIR model for this outbreak and observe if indeed what this model predicts generates results corresponding to what happened in reality."
   ]
  },
  {
   "cell_type": "markdown",
   "metadata": {},
   "source": [
    "### Question 1:\n",
    "\n",
    "Assuming that on June 19 no individuals had died, i.e. no one was in the Removed class, what is the value of $N$, i.e. the number of individuals in the total population?"
   ]
  },
  {
   "cell_type": "markdown",
   "metadata": {},
   "source": [
    "### Question 2:\n",
    "\n",
    "We know that the average time an individual remained infected is 11 days. What is the rate of removal ($\\gamma$)?"
   ]
  },
  {
   "cell_type": "markdown",
   "metadata": {},
   "source": [
    "### Question 3:\n",
    "\n",
    "We are now trying something more difficult but more interesting. We introduced a mathematical model for outbreaks, but nothing so far shows that this SIR model is appropriate to model an outbreak such as the Eyam plague outbreak. We want to answer this question now.\n",
    "\n",
    "From questions 1 and 2 above we know the values of $N$ and $\\gamma$ (check your answers at the bottom of this notebook). From the data table we also know $S_1,I_1,R_1$, the state of the population at the start of the outbreak. So if we want to apply the SIR model we need to find  a value for $\\beta$ the parameter, the number susceptible people becoming infected during a time unit. We consider here that a time unit is 1 day; the Eyam outbreak spanned 112 days, so 112 time units, even if data were only recorded every 2 weeks. \n",
    "\n",
    "A standard scientific approach for the problem of finding $\\beta$ is to try various values and see if there is one that leads to predicted values for $S_n,I_n,R_n$ that match the observed data. In order to evaluate this match, we focus on the number of infected people, the most important element of an outbreak.\n",
    "\n",
    "The code below allows you to do this: you can choose a value of $\\beta$, click on the \"Run interact\" button and it will show on the same graph a set of 8 blue dots (the observed number of infected people from the data table) and a set of 112 red dots, corresponding to the predicted number of infected individuals for the chosen value of $\\beta$.\n",
    "\n",
    "While there are several mathematical ways to define what would be the *best fit*, here we are not getting into this and you are just asked to try to find a value of $\\beta$ that generated blue dots being approximately on the graph defined by the red dots. Pay particular attention to the first four blue dots.\n",
    "\n",
    "Note that in this case $0 < \\beta < 1$.\n",
    "\n",
    "##### Warning:\n",
    "The SIR model is a very simple approximation of the dynamics of a true outbreak, so don't expect to find a value of $\\beta$ that generates a graph that contains exactly all observed data points (blue dots).\n",
    "\n",
    "In particular note that the data from September 3 and 19 seem to be somewhat of an anomaly as we observe a sharp decrease in the number of infected followed by a surge. This could be due to many reasons, for example poor statistics recording (we are considering a group of people under heavy stress likely more motivated by trying to stay alive than to record accurate vital statistics).\n",
    "\n",
    "So here we are interested in finding a parameter $\\beta$ that captures the general dynamics (increase followed by a post-peak decrease) of the outbreak. You can expect to find a reasonable value for $\\beta$ but be aware that many values, especially too high, will result in a very poor match between observed data and model predictions."
   ]
  },
  {
   "cell_type": "code",
   "execution_count": 2,
   "metadata": {},
   "outputs": [
    {
     "data": {
      "application/vnd.jupyter.widget-view+json": {
       "model_id": "2593ac53eefa4272a30a62d033340914",
       "version_major": 2,
       "version_minor": 0
      },
      "text/plain": [
       "interactive(children=(FloatText(value=0.5, description='Enter a value for $ \\\\beta$', step=0.01, style=Descrip…"
      ]
     },
     "metadata": {},
     "output_type": "display_data"
    }
   ],
   "source": [
    "from ipywidgets import interact_manual, widgets\n",
    "import matplotlib.pyplot as plt\n",
    "\n",
    "# set style\n",
    "s = {'description_width': 'initial'}\n",
    "\n",
    "# Set interact manual box widget for beta\n",
    "@interact_manual(answer=widgets.FloatText(value=0.50, description='Enter a value for ' + r'$ \\beta$',\n",
    "    disabled=False, style=s, step=0.01\n",
    "))\n",
    "\n",
    "# define function to find the appropriate value of beta\n",
    "# this function takes as input a floating value and outputs a plot with the best fit curve\n",
    "def find_beta(answer):\n",
    "    \n",
    "    # set initial values for SIR model\n",
    "    S1,I1,R1 = 254,7,0\n",
    "    \n",
    "    # Use original data on Number of infected from table in the notebook\n",
    "    ori_data = [7,14,22,29,21,8,21,0]\n",
    "    \n",
    "    # use days, time data was provided biweekly, we transform to days here\n",
    "    ori_days = [1,14,28,42,56,70,84,112]\n",
    "    \n",
    "    # set number of days as the second to last entry on the ori_days array \n",
    "    n = ori_days[len(ori_days)-1]-ori_days[0]+1\n",
    "    \n",
    "    # get beta from answer - to be sure transform to float\n",
    "    beta = float(answer)\n",
    "    \n",
    "    # Gamma was obtained from disease\n",
    "    gamma = 1/11\n",
    "    \n",
    "    # Compute SIR values using our discrete_SIR function\n",
    "    (S,I,R) = discrete_SIR(S1,I1,R1,n,beta,gamma)\n",
    "    \n",
    "    # Figure\n",
    "    fig,ax = plt.subplots(figsize=(10,10))\n",
    " \n",
    "    # Scatter plot of original number of infected in the course of 112 days\n",
    "    plt.scatter(ori_days,ori_data,c=\"blue\", label=\"Original Data\")\n",
    "    \n",
    "    # Scatter plot of infected obtained from SIR mode, in the course of 112 days\n",
    "    plt.scatter(range(n),I,c=\"red\",label=\"SIR Model Predictions\")\n",
    "    \n",
    "    # Make the plot pretty\n",
    "    plt.xlabel('Time (days)')\n",
    "    plt.ylabel('Infected Individuals')\n",
    "    plt.title('Real Data vs Model')\n",
    "    legend = ax.legend()\n",
    "    plt.show()"
   ]
  },
  {
   "cell_type": "markdown",
   "metadata": {},
   "source": [
    "## Simulating a Disease Outbreak\n",
    "\n",
    "To conclude we will use the widgets below to simulate a disease outbreak using the SIR model. \n",
    "You can choose the values of all the elements of the model (sizes of the compartments of the population at the beginning of the outbreak, parameters $\\gamma$ and $\\beta$, and duration in time units (days) of the outbreak. The default parameters are the ones from the Eyam plague outbreak.\n",
    "\n",
    "The result is a series of three graphs that shows how the three components of the population change during the outbreak. It allows you to see the impact of changes in the parameters $\\gamma$ and $\\beta$, such as increasing $\\beta$ (making the outbreak progress faster) or reducing $\\gamma$ (decreasing the removal rate).\n",
    "\n",
    "You can use this interactive tool to try to fit the SIR model to match the observed data."
   ]
  },
  {
   "cell_type": "code",
   "execution_count": 3,
   "metadata": {},
   "outputs": [
    {
     "data": {
      "application/vnd.jupyter.widget-view+json": {
       "model_id": "c7a590daf6524439b3f4ad9ea804f777",
       "version_major": 2,
       "version_minor": 0
      },
      "text/plain": [
       "interactive(children=(IntSlider(value=254, description='Susceptible Initial', max=1000, min=200, style=SliderS…"
      ]
     },
     "metadata": {},
     "output_type": "display_data"
    }
   ],
   "source": [
    "import matplotlib.pyplot as plt\n",
    "import numpy as np\n",
    "from math import ceil\n",
    "\n",
    "# This function takes as input initial values of susceptible, infected and removed, number of days, beta and gamma\n",
    "# it plots the SIR model with the above conditions\n",
    "def plot_SIR(S1,I1,R1,n,beta,gamma):\n",
    "    \n",
    "    # Initialize figure\n",
    "    fig = plt.figure(facecolor='w',figsize=(17,5))\n",
    "    ax  = fig.add_subplot(111,facecolor = '#ffffff')\n",
    "    \n",
    "    # Compute SIR values for our initial data and parameters\n",
    "    (S_f,I_f,R_f) = discrete_SIR(S1,I1,R1,n,beta,gamma)    \n",
    "    \n",
    "    # Set x axis\n",
    "    x = [i for i in range(n)]\n",
    "   \n",
    "    # Scatter plot of evolution of susceptible over the course of x days\n",
    "    plt.scatter(x,S_f,c= 'b',label='Susceptible')\n",
    "    \n",
    "    # Scatter plot of evolution of infected over the course of x days\n",
    "    plt.scatter(x,I_f,c='r',label='Infected')\n",
    "    \n",
    "    # Scatter plot of evolution of removed over the course of x days\n",
    "    plt.scatter(x,R_f,c='g',label='Removed')\n",
    "\n",
    "    # Make the plot pretty\n",
    "    plt.xlabel('Time (days)')\n",
    "    plt.ylabel('Number of individuals')\n",
    "    plt.title('Simulation of a Disease Outbreak Using the SIR Model')\n",
    "    legend = ax.legend()\n",
    "    plt.show()\n",
    "    \n",
    "    # Print messages to aid student understand and interpret what is happening in the plot\n",
    "    print(\"SIMULATION DATA\\n\")\n",
    "    print(\"Beta: \" + str(beta))\n",
    "    print(\"Gamma: \" + str(gamma))\n",
    "    print(\"\\n\")\n",
    "    print(\"Initial Conditions:\")\n",
    "    print(\"Total number of Susceptible: \"  + str(ceil(S_f[0])))\n",
    "    print(\"Total number of Infected: \"  + str(ceil(I_f[0])))\n",
    "    print(\"Total number of Removed: \"  + str(ceil(R_f[0])))\n",
    "    print(\"\\n\")\n",
    "    print(\"After \" + str(n) + \" days:\")\n",
    "    print(\"Total number of Susceptible: \"  + str(ceil(S_f[n-1])))\n",
    "    print(\"Total number of Infected: \"  + str(ceil(I_f[n-1])) )\n",
    "    print(\"Total number of Removed: \"  + str(ceil(R_f[n-1])))\n",
    "\n",
    "# Tweaking initial Values\n",
    "from ipywidgets import widgets, interact, interact_manual\n",
    "\n",
    "# Set function above so that the user can set all parameters and manually start simulation\n",
    "s = {'description_width': 'initial'}\n",
    "interact_manual(plot_SIR,\n",
    "        S1 = widgets.IntSlider(value=254, min=200, max=1000, step=1, style=s, description=\"Susceptible Initial\", \n",
    "                               disabled=False, orientation='horizontal', readout=True),\n",
    "        I1 = widgets.IntSlider(value=7, min=0, max=500, step=1, style=s, description=\"Infected Initial\",\n",
    "                               disabled=False, orientation='horizontal', readout=True),\n",
    "        R1 = widgets.IntSlider(value=0, min=0, max=500, step=1, style=s, description=\"Removed Initial\",\n",
    "                               disabled=False, orientation='horizontal', readout=True),\n",
    "        n = widgets.IntSlider(value=112, min=0, max=500, step=1, style=s, description=\"Time (days)\",\n",
    "                              disabled=False, orientation='horizontal', readout=True),\n",
    "        beta = widgets.FloatText(value=1.50, description=r'$ \\beta$ parameter',\n",
    "                                 disabled=False, style = s, step=0.01),\n",
    "        gamma = widgets.FloatText(value=1.50, description= r'$ \\gamma$ parameter',\n",
    "                                  disabled=False, style=s, step=0.01)\n",
    "        );"
   ]
  },
  {
   "cell_type": "markdown",
   "metadata": {},
   "source": [
    "### Answer 1\n",
    "Since we are assuming the population is constant, and since $S_1 = 254, I_1 = 7, R_1 = 0$, then  $S_1 + I_1 + R_1 = 254 + 7 + 0  = 261$.\n",
    "\n",
    "### Answer 2\n",
    "We know that, on average, an individual will remain infected for approximately 11 days. This means that one individual moves to the removed class for every 11 days, and the rate of removal is $\\gamma = \\frac{1}{11} = 0.0909...$.\n",
    "\n",
    "### Answer 3\n",
    "The best value is approximately $\\beta = 0.14909440503418078$."
   ]
  },
  {
   "cell_type": "markdown",
   "metadata": {},
   "source": [
    "<h2 align='center'>Conclusion</h2>\n",
    "\n",
    "In this notebook we learned about the SIR discrete model to model an outbreak. We learned that this model is one of the simplest ones and that it separates the total population $N$ (a constant) into three categories: Infected, Susceptible and Removed. We learned about rates of infection and removal and how this affects the number of individuals in each class. \n",
    "\n",
    "We also ran a basic but realistic simulation of a bubonic plague outbreak of the Great Plague of London that took place in the village Eyam in 1665 and learned about the devastating effect this had on the population. "
   ]
  },
  {
   "cell_type": "markdown",
   "metadata": {},
   "source": [
    "<img src=\"./images/callysto_notebook-banners_bottom.png\" width=\"2000px\"/> "
   ]
  }
 ],
 "metadata": {
  "kernelspec": {
   "display_name": "Python 3",
   "language": "python",
   "name": "python3"
  },
  "language_info": {
   "codemirror_mode": {
    "name": "ipython",
    "version": 3
   },
   "file_extension": ".py",
   "mimetype": "text/x-python",
   "name": "python",
   "nbconvert_exporter": "python",
   "pygments_lexer": "ipython3",
   "version": "3.7.3"
  }
 },
 "nbformat": 4,
 "nbformat_minor": 2
}
