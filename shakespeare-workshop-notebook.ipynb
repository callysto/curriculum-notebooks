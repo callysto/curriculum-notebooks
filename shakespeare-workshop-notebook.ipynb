{
 "cells": [
  {
   "cell_type": "markdown",
   "metadata": {},
   "source": [
    "![Callysto.ca Banner](https://github.com/callysto/curriculum-notebooks/blob/master/callysto-notebook-banner-top.jpg?raw=true)\n",
    " \n",
    "<a href=\"https://hub.callysto.ca/jupyter/hub/user-redirect/git-pull?repo=https%3A%2F%2Fgithub.com%2Fcallysto%2Fcurriculum-notebooks&branch=master&urlpath=notebooks/curriculum-notebooks/EnglishLanguageArts/ShakespeareStatistics/shakespeare-and-statistics.ipynb&depth=1\" target=\"_parent\"><img src=\"https://raw.githubusercontent.com/callysto/curriculum-notebooks/master/open-in-callysto-button.svg?sanitize=true\" width=\"123\" height=\"24\" alt=\"Open in Callysto\"></a>"
   ]
  },
  {
   "cell_type": "markdown",
   "metadata": {},
   "source": [
    "# Shakespeare and Statistics\n",
    "\n",
    "![Shakespeare and a chart](images/shakespeare-n-stats.png)\n",
    "*Image from https://en.wikipedia.org/wiki/Droeshout_portrait*\n",
    "\n",
    "Can art and science be combined? Natural language processing allows us to use the same statistical skills you might learn in a science class, such as counting up members of a population and looking at their distribution, to gain insight into the written word. Here's an example of what you can do. Let's consider the following question:\n",
    "\n",
    "## What are the top 20 phrases in Shakespeare's Macbeth?\n",
    "\n",
    "Normally when we study Shakespeare we critically read his plays and study the plot, characters, and themes. While this is definitely interesting and useful, we can gain very different insights by taking a multidisciplinary approach.\n",
    "\n",
    "This is something we would probably never want to do if we had to do it by hand. Imagine getting out your clipboard, writing down every different word or phrase you come across and then counting how many times that same word or phrase reappears. Check out how quickly it can be done using Python code in this Jupyter notebook.\n",
    "\n",
    "## Loading the text\n",
    "\n",
    "There are many public domain works available at [Project Gutenberg](http://www.gutenberg.org). You can [search](http://www.gutenberg.org/ebooks) or [browse](http://www.gutenberg.org/catalog) to find works that you are interested in analysing.\n",
    "\n",
    "We are going to search for the play *Macbeth* by William Shakespeare. On the **Download This eBook** page we'll copy the `Plain Text UTF-8` link, then use the `Requests` Python library to download it into a variable called `macbeth`. We can then refer to it by using `macbeth` at any point from here on"
   ]
  },
  {
   "cell_type": "code",
   "execution_count": 13,
   "metadata": {},
   "outputs": [],
   "source": [
    "text_link = 'http://www.gutenberg.org/files/1533/1533-0.txt'\n",
    "\n",
    "import requests\n",
    "r = requests.get(text_link) # get the online book file\n",
    "r.encoding = 'utf-8' # specify the type of text encoding in the file\n",
    "macbeth = r.text.split('***')[2] # get the part after the header\n",
    "macbeth = macbeth.replace(\"’\",\"'\").replace(\"“\",'\"').replace(\"”\",'\"') # replace any 'smart quotes'"
   ]
  },
  {
   "cell_type": "markdown",
   "metadata": {},
   "source": [
    "For example, we can just print it out to see that we've grabbed the correct document."
   ]
  },
  {
   "cell_type": "code",
   "execution_count": 14,
   "metadata": {},
   "outputs": [
    {
     "name": "stdout",
     "output_type": "stream",
     "text": [
      "\r\n",
      "\r\n",
      "cover \r\n",
      "\r\n",
      "\r\n",
      "\r\n",
      "MACBETH\r\n",
      "\r\n",
      "by William Shakespeare\r\n",
      "\r\n",
      "Contents\r\n",
      "\r\n",
      "ACT I\r\n",
      "Scene I. An open Place.\r\n",
      "Scene II. A Camp near Forres.\r\n",
      "Scene III. A heath.\r\n",
      "Scene IV. Forres. A Room in the Palace.\r\n",
      "Scene V. Inverness. A Room in Macbeth's Castle.\r\n",
      "Scene VI. The same. Before the Castle.\r\n",
      "Scene VII. The same. A Lobby in the Castle.\r\n",
      "\r\n",
      "\r\n",
      "ACT II\r\n",
      "Scene I. Inverness. Court within the Castle.\r\n",
      "Scene II. The same.\r\n",
      "Scene III. The same.\r\n",
      "Scene IV. The same. Without the Castle.\r\n",
      "\r\n",
      "\r\n",
      "ACT III\r\n",
      "Scene I. Forres. A Room in the Palace.\r\n",
      "Scene II. The same. Another Room in the Palace.\r\n",
      "Scene III. The same. A Park or Lawn, with a gate leading to the Palace.\r\n",
      "Scene IV. The same. A Room of state in the Palace.\r\n",
      "Scene V. The heath.\r\n",
      "Scene VI. Forres. A Room in the Palace.\r\n",
      "\r\n",
      "\r\n",
      "ACT IV\r\n",
      "Scene I. A dark Cave. In the middle, a Cauldron Boiling.\r\n",
      "Scene II. Fife. A Room in Macduff's Castle.\r\n",
      "Scene III. England. Before the King's Palace.\r\n",
      "\r\n",
      "\r\n",
      "ACT V\r\n",
      "Scene I. Dunsinane. A Room in the Castle.\r\n",
      "Scene II. The Country near Dunsinane.\r\n",
      "Scene III. Dunsinane. A Room in the Castle.\r\n",
      "Scene IV. Country near Dunsinane: a Wood in view.\r\n",
      "Scene V. Dunsinane. Within the castle.\r\n",
      "Scene VI. The same. A Plain before the Castle.\r\n",
      "Scene VII. The same. Another part of the Plain.\r\n",
      "Scene VIII. The same. Another part of the field.\r\n",
      "\r\n",
      "\r\n",
      "\r\n",
      "Dramatis Personæ\r\n",
      "\r\n",
      "DUNCAN, King of Scotland.\r\n",
      "MALCOLM, his Son.\r\n",
      "DONALBAIN, his Son.\r\n",
      "MACBETH, General in the King's Army.\r\n",
      "BANQUO, General in the King's Army.\r\n",
      "MACDUFF, Nobleman of Scotland.\r\n",
      "LENNOX, Nobleman of Scotland.\r\n",
      "ROSS, Nobleman of Scotland.\r\n",
      "MENTEITH, Nobleman of Scotland.\r\n",
      "ANGUS, Nobleman of Scotland.\r\n",
      "CAITHNESS, Nobleman of Scotland.\r\n",
      "FLEANCE, Son to Banquo.\r\n",
      "SIWARD, Earl of Northumberland, General of the English Forces.\r\n",
      "YOUNG SIWARD, his Son.\r\n",
      "SEYTON, an Officer attending on Macbeth.\r\n",
      "BOY, Son to Macduff.\r\n",
      "An English Doctor.\r\n",
      "A Scottish Doctor.\r\n",
      "A Soldier.\r\n",
      "A Porter.\r\n",
      "An Old Man.\r\n",
      "\r\n",
      "LADY MACBETH.\r\n",
      "LADY MACDUFF.\r\n",
      "Gentlewoman attending on Lady Macbeth.\r\n",
      "HECATE, and three Witches.\r\n",
      "\r\n",
      "Lords, Gentlemen, Officers, Soldiers, Murderers, Attendants and\r\n",
      "Messengers.\r\n",
      "\r\n",
      "The Ghost of Banquo and several other Apparitions.\r\n",
      "\r\n",
      "SCENE: In the end of the Fourth Act, in England; through the rest of\r\n",
      "the Play, in Scotland; and chiefly at Macbeth's Castle.\r\n",
      "\r\n",
      "\r\n",
      "ACT I\r\n",
      "\r\n",
      "SCENE I. An open Place.\r\n",
      "\r\n",
      " Thunder and Lightning. Enter three Witches.\r\n",
      "\r\n",
      "FIRST WITCH.\r\n",
      "When shall we three meet again?\r\n",
      "In thunder, lightning, or in rain?\r\n",
      "\r\n",
      "SECOND WITCH.\r\n",
      "When the hurlyburly's done,\r\n",
      "When the battle's lost and won.\r\n",
      "\r\n",
      "THIRD WITCH.\r\n",
      "That will be ere the set of sun.\r\n",
      "\r\n",
      "FIRST WITCH.\r\n",
      "Where the place?\r\n",
      "\r\n",
      "SECOND WITCH.\r\n",
      "Upon the heath.\r\n",
      "\r\n",
      "THIRD WITCH.\r\n",
      "There to meet with Macbeth.\r\n",
      "\r\n",
      "FIRST WITCH.\r\n",
      "I come, Graymalkin!\r\n",
      "\r\n",
      "SECOND WITCH.\r\n",
      "Paddock calls.\r\n",
      "\r\n",
      "THIRD WITCH.\r\n",
      "Anon.\r\n",
      "\r\n",
      "ALL.\r\n",
      "Fair is foul, and foul is fair:\r\n",
      "Hover through the fog and filthy air.\r\n",
      "\r\n",
      " [_Exeunt._]\r\n",
      "\r\n",
      "SCENE II. A Camp near Forres.\r\n",
      "\r\n",
      " Alarum within. Enter King Duncan, Malcolm, Donalbain, Lennox, with\r\n",
      " Attendants, meeting a bleeding Captain.\r\n",
      "\r\n",
      "DUNCAN.\r\n",
      "What bloody man is that? He can report,\r\n",
      "As seemeth by his plight, of the revolt\r\n",
      "The newest state.\r\n",
      "\r\n",
      "MALCOLM.\r\n",
      "This is the sergeant\r\n",
      "Who, like a good and hardy soldier, fought\r\n",
      "'Gainst my captivity.—Hail, brave friend!\r\n",
      "Say to the King the knowledge of the broil\r\n",
      "As thou didst leave it.\r\n",
      "\r\n",
      "SOLDIER.\r\n",
      "Doubtful it stood;\r\n",
      "As two spent swimmers that do cling together\r\n",
      "And choke their art. The merciless Macdonwald\r\n",
      "(Worthy to be a rebel, for to that\r\n",
      "The multiplying villainies of nature\r\n",
      "Do swarm upon him) from the Western Isles\r\n",
      "Of kerns and gallowglasses is supplied;\r\n",
      "And Fortune, on his damned quarrel smiling,\r\n",
      "Show'd like a rebel's whore. But all's too weak;\r\n",
      "For brave Macbeth (well he deserves that name),\r\n",
      "Disdaining Fortune, with his brandish'd steel,\r\n",
      "Which smok'd with bloody execution,\r\n",
      "Like Valour's minion, carv'd out his passage,\r\n",
      "Till he fac'd the slave;\r\n",
      "Which ne'er shook hands, nor bade farewell to him,\r\n",
      "Till he unseam'd him from the nave to the chops,\r\n",
      "And fix'd his head upon our battlements.\r\n",
      "\r\n",
      "DUNCAN.\r\n",
      "O valiant cousin! worthy gentleman!\r\n",
      "\r\n",
      "SOLDIER.\r\n",
      "As whence the sun 'gins his reflection\r\n",
      "Shipwracking storms and direful thunders break,\r\n",
      "So from that spring, whence comfort seem'd to come\r\n",
      "Discomfort swells. Mark, King of Scotland, mark:\r\n",
      "No sooner justice had, with valour arm'd,\r\n",
      "Compell'd these skipping kerns to trust their heels,\r\n",
      "But the Norweyan lord, surveying vantage,\r\n",
      "With furbish'd arms and new supplies of men,\r\n",
      "Began a fresh assault.\r\n",
      "\r\n",
      "DUNCAN.\r\n",
      "Dismay'd not this\r\n",
      "Our captains, Macbeth and Banquo?\r\n",
      "\r\n",
      "SOLDIER.\r\n",
      "Yes;\r\n",
      "As sparrows eagles, or the hare the lion.\r\n",
      "If I say sooth, I must report they were\r\n",
      "As cannons overcharg'd with double cracks;\r\n",
      "So they\r\n",
      "Doubly redoubled strokes upon the foe:\r\n",
      "Except they meant to bathe in reeking wounds,\r\n",
      "Or memorize another Golgotha,\r\n",
      "I cannot tell—\r\n",
      "But I am faint, my gashes cry for help.\r\n",
      "\r\n",
      "DUNCAN.\r\n",
      "So well thy words become thee as thy wounds:\r\n",
      "They smack of honour both.—Go, get him surgeons.\r\n",
      "\r\n",
      " [_Exit Captain, attended._]\r\n",
      "\r\n",
      " Enter Ross and Angus.\r\n",
      "\r\n",
      "Who comes here?\r\n",
      "\r\n",
      "MALCOLM.\r\n",
      "The worthy Thane of Ross.\r\n",
      "\r\n",
      "LENNOX.\r\n",
      "What a haste looks through his eyes! So should he look\r\n",
      "That seems to speak things strange.\r\n",
      "\r\n",
      "ROSS.\r\n",
      "God save the King!\r\n",
      "\r\n",
      "DUNCAN.\r\n",
      "Whence cam'st thou, worthy thane?\r\n",
      "\r\n",
      "ROSS.\r\n",
      "From Fife, great King,\r\n",
      "Where the Norweyan banners flout the sky\r\n",
      "And fan our people cold.\r\n",
      "Norway himself, with terrible numbers,\r\n",
      "Assisted by that most disloyal traitor,\r\n",
      "The Thane of Cawdor, began a dismal conflict;\r\n",
      "Till that Bellona's bridegroom, lapp'd in proof,\r\n",
      "Confronted him with self-comparisons,\r\n",
      "Point against point, rebellious arm 'gainst arm,\r\n",
      "Curbing his lavish spirit: and, to conclude,\r\n",
      "The victory fell on us.\r\n",
      "\r\n",
      "DUNCAN.\r\n",
      "Great happiness!\r\n",
      "\r\n",
      "ROSS.\r\n",
      "That now\r\n",
      "Sweno, the Norways' king, craves composition;\r\n",
      "Nor would we deign him burial of his men\r\n",
      "Till he disbursed at Saint Colme's Inch\r\n",
      "Ten thousand dollars to our general use.\r\n",
      "\r\n",
      "DUNCAN.\r\n",
      "No more that Thane of Cawdor shall deceive\r\n",
      "Our bosom interest. Go pronounce his present death,\r\n",
      "And with his former title greet Macbeth.\r\n",
      "\r\n",
      "ROSS.\r\n",
      "I'll see it done.\r\n",
      "\r\n",
      "DUNCAN.\r\n",
      "What he hath lost, noble Macbeth hath won.\r\n",
      "\r\n",
      " [_Exeunt._]\r\n",
      "\r\n",
      "SCENE III. A heath.\r\n",
      "\r\n",
      " Thunder. Enter the three Witches.\r\n",
      "\r\n",
      "FIRST WITCH.\r\n",
      "Where hast thou been, sister?\r\n",
      "\r\n",
      "SECOND WITCH.\r\n",
      "Killing swine.\r\n",
      "\r\n",
      "THIRD WITCH.\r\n",
      "Sister, where thou?\r\n",
      "\r\n",
      "FIRST WITCH.\r\n",
      "A sailor's wife had chestnuts in her lap,\r\n",
      "And mounch'd, and mounch'd, and mounch'd. \"Give me,\" quoth I.\r\n",
      "\"Aroint thee, witch!\" the rump-fed ronyon cries.\r\n",
      "Her husband's to Aleppo gone, master o' th' _Tiger:_\r\n",
      "But in a sieve I'll thither sail,\r\n",
      "And, like a rat without a tail,\r\n",
      "I'll do, I'll do, and I'll do.\r\n",
      "\r\n",
      "SECOND WITCH.\r\n",
      "I'll give thee a wind.\r\n",
      "\r\n",
      "FIRST WITCH.\r\n",
      "Th'art kind.\r\n",
      "\r\n",
      "THIRD WITCH.\r\n",
      "And I another.\r\n",
      "\r\n",
      "FIRST WITCH.\r\n",
      "I myself have all the other,\r\n",
      "And the very ports they blow,\r\n",
      "All the quarters that they know\r\n",
      "I' the shipman's card.\r\n",
      "I will drain him dry as hay:\r\n",
      "Sleep shall neither night nor day\r\n",
      "Hang upon his pent-house lid;\r\n",
      "He shall live a man forbid.\r\n",
      "Weary sev'n-nights nine times nine,\r\n",
      "Shall he dwindle, peak, and pine:\r\n",
      "Though his bark cannot be lost,\r\n",
      "Yet it shall be tempest-tost.\r\n",
      "Look what I have.\r\n",
      "\r\n",
      "SECOND WITCH.\r\n",
      "Show me, show me.\r\n",
      "\r\n",
      "FIRST WITCH.\r\n",
      "Here I have a pilot's thumb,\r\n",
      "Wrack'd as homeward he did come.\r\n",
      "\r\n",
      " [_Drum within._]\r\n",
      "\r\n",
      "THIRD WITCH.\r\n",
      "A drum, a drum!\r\n",
      "Macbeth doth come.\r\n",
      "\r\n",
      "ALL.\r\n",
      "The Weird Sisters, hand in hand,\r\n",
      "Posters of the sea and land,\r\n",
      "Thus do go about, about:\r\n",
      "Thrice to thine, and thrice to mine,\r\n",
      "And thrice again, to make up nine.\r\n",
      "Peace!—the charm's wound up.\r\n",
      "\r\n",
      " Enter Macbeth and Banquo.\r\n",
      "\r\n",
      "MACBETH.\r\n",
      "So foul and fair a day I have not seen.\r\n",
      "\r\n",
      "BANQUO.\r\n",
      "How far is't call'd to Forres?—What are these,\r\n",
      "So wither'd, and so wild in their attire,\r\n",
      "That look not like the inhabitants o' th' earth,\r\n",
      "And yet are on't?—Live you? or are you aught\r\n",
      "That man may question? You seem to understand me,\r\n",
      "By each at once her choppy finger laying\r\n",
      "Upon her skinny lips. You should be women,\r\n",
      "And yet your beards forbid me to interpret\r\n",
      "That you are so.\r\n",
      "\r\n",
      "MACBETH.\r\n",
      "Speak, if you can;—what are you?\r\n",
      "\r\n",
      "FIRST WITCH.\r\n",
      "All hail, Macbeth! hail to thee, Thane of Glamis!\r\n",
      "\r\n",
      "SECOND WITCH.\r\n",
      "All hail, Macbeth! hail to thee, Thane of Cawdor!\r\n",
      "\r\n",
      "THIRD WITCH.\r\n",
      "All hail, Macbeth! that shalt be king hereafter!\r\n",
      "\r\n",
      "BANQUO.\r\n",
      "Good sir, why do you start and seem to fear\r\n",
      "Things that do sound so fair?—I' th' name of truth,\r\n",
      "Are ye fantastical, or that indeed\r\n",
      "Which outwardly ye show? My noble partner\r\n",
      "You greet with present grace and great prediction\r\n",
      "Of noble having and of royal hope,\r\n",
      "That he seems rapt withal. To me you speak not.\r\n",
      "If you can look into the seeds of time,\r\n",
      "And say which grain will grow, and which will not,\r\n",
      "Speak then to me, who neither beg nor fear\r\n",
      "Your favours nor your hate.\r\n",
      "\r\n",
      "FIRST WITCH.\r\n",
      "Hail!\r\n",
      "\r\n",
      "SECOND WITCH.\r\n",
      "Hail!\r\n",
      "\r\n",
      "THIRD WITCH.\r\n",
      "Hail!\r\n",
      "\r\n",
      "FIRST WITCH.\r\n",
      "Lesser than Macbeth, and greater.\r\n",
      "\r\n",
      "SECOND WITCH.\r\n",
      "Not so happy, yet much happier.\r\n",
      "\r\n",
      "THIRD WITCH.\r\n",
      "Thou shalt get kings, though thou be none:\r\n",
      "So all hail, Macbeth and Banquo!\r\n",
      "\r\n",
      "FIRST WITCH.\r\n",
      "Banquo and Macbeth, all hail!\r\n",
      "\r\n",
      "MACBETH.\r\n",
      "Stay, you imperfect speakers, tell me more.\r\n",
      "By Sinel's death I know I am Thane of Glamis;\r\n",
      "But how of Cawdor? The Thane of Cawdor lives,\r\n",
      "A prosperous gentleman; and to be king\r\n",
      "Stands not within the prospect of belief,\r\n",
      "No more than to be Cawdor. Say from whence\r\n",
      "You owe this strange intelligence? or why\r\n",
      "Upon this blasted heath you stop our way\r\n",
      "With such prophetic greeting?—Speak, I charge you.\r\n",
      "\r\n",
      " [_Witches vanish._]\r\n",
      "\r\n",
      "BANQUO.\r\n",
      "The earth hath bubbles, as the water has,\r\n",
      "And these are of them. Whither are they vanish'd?\r\n",
      "\r\n",
      "MACBETH.\r\n",
      "Into the air; and what seem'd corporal,\r\n",
      "Melted as breath into the wind.\r\n",
      "Would they had stay'd!\r\n",
      "\r\n",
      "BANQUO.\r\n",
      "Were such things here as we do speak about?\r\n",
      "Or have we eaten on the insane root\r\n",
      "That takes the reason prisoner?\r\n",
      "\r\n",
      "MACBETH.\r\n",
      "Your children shall be kings.\r\n",
      "\r\n",
      "BANQUO.\r\n",
      "You shall be king.\r\n",
      "\r\n",
      "MACBETH.\r\n",
      "And Thane of Cawdor too; went it not so?\r\n",
      "\r\n",
      "BANQUO.\r\n",
      "To the selfsame tune and words. Who's here?\r\n",
      "\r\n",
      " Enter Ross and Angus.\r\n",
      "\r\n",
      "ROSS.\r\n",
      "The King hath happily receiv'd, Macbeth,\r\n",
      "The news of thy success, and when he reads\r\n",
      "Thy personal venture in the rebels' fight,\r\n",
      "His wonders and his praises do contend\r\n",
      "Which should be thine or his: silenc'd with that,\r\n",
      "In viewing o'er the rest o' th' selfsame day,\r\n",
      "He finds thee in the stout Norweyan ranks,\r\n",
      "Nothing afeard of what thyself didst make,\r\n",
      "Strange images of death. As thick as tale\r\n",
      "Came post with post; and everyone did bear\r\n",
      "Thy praises in his kingdom's great defence,\r\n",
      "And pour'd them down before him.\r\n",
      "\r\n",
      "ANGUS.\r\n",
      "We are sent\r\n",
      "To give thee from our royal master thanks;\r\n",
      "Only to herald thee into his sight,\r\n",
      "Not pay thee.\r\n",
      "\r\n",
      "ROSS.\r\n",
      "And, for an earnest of a greater honour,\r\n",
      "He bade me, from him, call thee Thane of Cawdor:\r\n",
      "In which addition, hail, most worthy thane,\r\n",
      "For it is thine.\r\n",
      "\r\n",
      "BANQUO.\r\n",
      "What, can the devil speak true?\r\n",
      "\r\n",
      "MACBETH.\r\n",
      "The Thane of Cawdor lives: why do you dress me\r\n",
      "In borrow'd robes?\r\n",
      "\r\n",
      "ANGUS.\r\n",
      "Who was the Thane lives yet,\r\n",
      "But under heavy judgement bears that life\r\n",
      "Which he deserves to lose. Whether he was combin'd\r\n",
      "With those of Norway, or did line the rebel\r\n",
      "With hidden help and vantage, or that with both\r\n",
      "He labour'd in his country's wrack, I know not;\r\n",
      "But treasons capital, confess'd and prov'd,\r\n",
      "Have overthrown him.\r\n",
      "\r\n",
      "MACBETH.\r\n",
      "[_Aside._] Glamis, and Thane of Cawdor:\r\n",
      "The greatest is behind. [_To Ross and Angus._] Thanks for your pains.\r\n",
      "[_To Banquo._] Do you not hope your children shall be kings,\r\n",
      "When those that gave the Thane of Cawdor to me\r\n",
      "Promis'd no less to them?\r\n",
      "\r\n",
      "BANQUO.\r\n",
      "That, trusted home,\r\n",
      "Might yet enkindle you unto the crown,\r\n",
      "Besides the Thane of Cawdor. But 'tis strange:\r\n",
      "And oftentimes to win us to our harm,\r\n",
      "The instruments of darkness tell us truths;\r\n",
      "Win us with honest trifles, to betray's\r\n",
      "In deepest consequence.—\r\n",
      "Cousins, a word, I pray you.\r\n",
      "\r\n",
      "MACBETH.\r\n",
      "[_Aside._] Two truths are told,\r\n",
      "As happy prologues to the swelling act\r\n",
      "Of the imperial theme.—I thank you, gentlemen.—\r\n",
      "[_Aside._] This supernatural soliciting\r\n",
      "Cannot be ill; cannot be good. If ill,\r\n",
      "Why hath it given me earnest of success,\r\n",
      "Commencing in a truth? I am Thane of Cawdor:\r\n",
      "If good, why do I yield to that suggestion\r\n",
      "Whose horrid image doth unfix my hair,\r\n",
      "And make my seated heart knock at my ribs,\r\n",
      "Against the use of nature? Present fears\r\n",
      "Are less than horrible imaginings.\r\n",
      "My thought, whose murder yet is but fantastical,\r\n",
      "Shakes so my single state of man\r\n",
      "That function is smother'd in surmise,\r\n",
      "And nothing is but what is not.\r\n",
      "\r\n",
      "BANQUO.\r\n",
      "Look, how our partner's rapt.\r\n",
      "\r\n",
      "MACBETH.\r\n",
      "[_Aside._] If chance will have me king, why, chance may crown me\r\n",
      "Without my stir.\r\n",
      "\r\n",
      "BANQUO.\r\n",
      "New honours come upon him,\r\n",
      "Like our strange garments, cleave not to their mould\r\n",
      "But with the aid of use.\r\n",
      "\r\n",
      "MACBETH.\r\n",
      "[_Aside._] Come what come may,\r\n",
      "Time and the hour runs through the roughest day.\r\n",
      "\r\n",
      "BANQUO.\r\n",
      "Worthy Macbeth, we stay upon your leisure.\r\n",
      "\r\n",
      "MACBETH.\r\n",
      "Give me your favour. My dull brain was wrought\r\n",
      "With things forgotten. Kind gentlemen, your pains\r\n",
      "Are register'd where every day I turn\r\n",
      "The leaf to read them.—Let us toward the King.—\r\n",
      "Think upon what hath chanc'd; and at more time,\r\n",
      "The interim having weigh'd it, let us speak\r\n",
      "Our free hearts each to other.\r\n",
      "\r\n",
      "BANQUO.\r\n",
      "Very gladly.\r\n",
      "\r\n",
      "MACBETH.\r\n",
      "Till then, enough.—Come, friends.\r\n",
      "\r\n",
      " [_Exeunt._]\r\n",
      "\r\n",
      "SCENE IV. Forres. A Room in the Palace.\r\n",
      "\r\n",
      " Flourish. Enter Duncan, Malcolm, Donalbain, Lennox and Attendants.\r\n",
      "\r\n",
      "DUNCAN.\r\n",
      "Is execution done on Cawdor? Are not\r\n",
      "Those in commission yet return'd?\r\n",
      "\r\n",
      "MALCOLM.\r\n",
      "My liege,\r\n",
      "They are not yet come back. But I have spoke\r\n",
      "With one that saw him die, who did report,\r\n",
      "That very frankly he confess'd his treasons,\r\n",
      "Implor'd your Highness' pardon, and set forth\r\n",
      "A deep repentance. Nothing in his life\r\n",
      "Became him like the leaving it; he died\r\n",
      "As one that had been studied in his death,\r\n",
      "To throw away the dearest thing he ow'd\r\n",
      "As 'twere a careless trifle.\r\n",
      "\r\n",
      "DUNCAN.\r\n",
      "There's no art\r\n",
      "To find the mind's construction in the face:\r\n",
      "He was a gentleman on whom I built\r\n",
      "An absolute trust.\r\n",
      "\r\n",
      " Enter Macbeth, Banquo, Ross and Angus.\r\n",
      "\r\n",
      "O worthiest cousin!\r\n",
      "The sin of my ingratitude even now\r\n",
      "Was heavy on me. Thou art so far before,\r\n",
      "That swiftest wing of recompense is slow\r\n",
      "To overtake thee. Would thou hadst less deserv'd;\r\n",
      "That the proportion both of thanks and payment\r\n",
      "Might have been mine! only I have left to say,\r\n",
      "More is thy due than more than all can pay.\r\n",
      "\r\n",
      "MACBETH.\r\n",
      "The service and the loyalty I owe,\r\n",
      "In doing it, pays itself. Your Highness' part\r\n",
      "Is to receive our duties: and our duties\r\n",
      "Are to your throne and state, children and servants;\r\n",
      "Which do but what they should, by doing everything\r\n",
      "Safe toward your love and honour.\r\n",
      "\r\n",
      "DUNCAN.\r\n",
      "Welcome hither:\r\n",
      "I have begun to plant thee, and will labour\r\n",
      "To make thee full of growing.—Noble Banquo,\r\n",
      "That hast no less deserv'd, nor must be known\r\n",
      "No less to have done so, let me infold thee\r\n",
      "And hold thee to my heart.\r\n",
      "\r\n",
      "BANQUO.\r\n",
      "There if I grow,\r\n",
      "The harvest is your own.\r\n",
      "\r\n",
      "DUNCAN.\r\n",
      "My plenteous joys,\r\n",
      "Wanton in fulness, seek to hide themselves\r\n",
      "In drops of sorrow.—Sons, kinsmen, thanes,\r\n",
      "And you whose places are the nearest, know,\r\n",
      "We will establish our estate upon\r\n",
      "Our eldest, Malcolm; whom we name hereafter\r\n",
      "The Prince of Cumberland: which honour must\r\n",
      "Not unaccompanied invest him only,\r\n",
      "But signs of nobleness, like stars, shall shine\r\n",
      "On all deservers.—From hence to Inverness,\r\n",
      "And bind us further to you.\r\n",
      "\r\n",
      "MACBETH.\r\n",
      "The rest is labour, which is not us'd for you:\r\n",
      "I'll be myself the harbinger, and make joyful\r\n",
      "The hearing of my wife with your approach;\r\n",
      "So, humbly take my leave.\r\n",
      "\r\n",
      "DUNCAN.\r\n",
      "My worthy Cawdor!\r\n",
      "\r\n",
      "MACBETH.\r\n",
      "[_Aside._] The Prince of Cumberland!—That is a step\r\n",
      "On which I must fall down, or else o'erleap,\r\n",
      "For in my way it lies. Stars, hide your fires!\r\n",
      "Let not light see my black and deep desires.\r\n",
      "The eye wink at the hand, yet let that be,\r\n",
      "Which the eye fears, when it is done, to see.\r\n",
      "\r\n",
      " [_Exit._]\r\n",
      "\r\n",
      "DUNCAN.\r\n",
      "True, worthy Banquo! He is full so valiant;\r\n",
      "And in his commendations I am fed.\r\n",
      "It is a banquet to me. Let's after him,\r\n",
      "Whose care is gone before to bid us welcome:\r\n",
      "It is a peerless kinsman.\r\n",
      "\r\n",
      " [_Flourish. Exeunt._]\r\n",
      "\r\n",
      "SCENE V. Inverness. A Room in Macbeth's Castle.\r\n",
      "\r\n",
      " Enter Lady Macbeth, reading a letter.\r\n",
      "\r\n",
      "LADY MACBETH.\r\n",
      "\"They met me in the day of success; and I have learned by the\r\n",
      "perfect'st report they have more in them than mortal knowledge. When I\r\n",
      "burned in desire to question them further, they made themselves air,\r\n",
      "into which they vanished. Whiles I stood rapt in the wonder of it, came\r\n",
      "missives from the King, who all-hailed me, ‘Thane of Cawdor'; by which\r\n",
      "title, before, these Weird Sisters saluted me, and referred me to the\r\n",
      "coming on of time, with ‘Hail, king that shalt be!' This have I thought\r\n",
      "good to deliver thee (my dearest partner of greatness) that thou\r\n",
      "might'st not lose the dues of rejoicing, by being ignorant of what\r\n",
      "greatness is promis'd thee. Lay it to thy heart, and farewell.\"\r\n",
      "\r\n",
      "Glamis thou art, and Cawdor; and shalt be\r\n",
      "What thou art promis'd. Yet do I fear thy nature;\r\n",
      "It is too full o' th' milk of human kindness\r\n",
      "To catch the nearest way. Thou wouldst be great;\r\n",
      "Art not without ambition, but without\r\n",
      "The illness should attend it. What thou wouldst highly,\r\n",
      "That wouldst thou holily; wouldst not play false,\r\n",
      "And yet wouldst wrongly win. Thou'dst have, great Glamis,\r\n",
      "That which cries, \"Thus thou must do,\" if thou have it;\r\n",
      "And that which rather thou dost fear to do,\r\n",
      "Than wishest should be undone. Hie thee hither,\r\n",
      "That I may pour my spirits in thine ear,\r\n",
      "And chastise with the valour of my tongue\r\n",
      "All that impedes thee from the golden round,\r\n",
      "Which fate and metaphysical aid doth seem\r\n",
      "To have thee crown'd withal.\r\n",
      "\r\n",
      " Enter a Messenger.\r\n",
      "\r\n",
      "What is your tidings?\r\n",
      "\r\n",
      "MESSENGER.\r\n",
      "The King comes here tonight.\r\n",
      "\r\n",
      "LADY MACBETH.\r\n",
      "Thou'rt mad to say it.\r\n",
      "Is not thy master with him? who, were't so,\r\n",
      "Would have inform'd for preparation.\r\n",
      "\r\n",
      "MESSENGER.\r\n",
      "So please you, it is true. Our thane is coming.\r\n",
      "One of my fellows had the speed of him,\r\n",
      "Who, almost dead for breath, had scarcely more\r\n",
      "Than would make up his message.\r\n",
      "\r\n",
      "LADY MACBETH.\r\n",
      "Give him tending.\r\n",
      "He brings great news.\r\n",
      "\r\n",
      " [_Exit Messenger._]\r\n",
      "\r\n",
      "The raven himself is hoarse\r\n",
      "That croaks the fatal entrance of Duncan\r\n",
      "Under my battlements. Come, you spirits\r\n",
      "That tend on mortal thoughts, unsex me here,\r\n",
      "And fill me, from the crown to the toe, top-full\r\n",
      "Of direst cruelty! make thick my blood,\r\n",
      "Stop up th' access and passage to remorse,\r\n",
      "That no compunctious visitings of nature\r\n",
      "Shake my fell purpose, nor keep peace between\r\n",
      "Th' effect and it! Come to my woman's breasts,\r\n",
      "And take my milk for gall, your murd'ring ministers,\r\n",
      "Wherever in your sightless substances\r\n",
      "You wait on nature's mischief! Come, thick night,\r\n",
      "And pall thee in the dunnest smoke of hell\r\n",
      "That my keen knife see not the wound it makes,\r\n",
      "Nor heaven peep through the blanket of the dark\r\n",
      "To cry, \"Hold, hold!\"\r\n",
      "\r\n",
      " Enter Macbeth.\r\n",
      "\r\n",
      "Great Glamis, worthy Cawdor!\r\n",
      "Greater than both, by the all-hail hereafter!\r\n",
      "Thy letters have transported me beyond\r\n",
      "This ignorant present, and I feel now\r\n",
      "The future in the instant.\r\n",
      "\r\n",
      "MACBETH.\r\n",
      "My dearest love,\r\n",
      "Duncan comes here tonight.\r\n",
      "\r\n",
      "LADY MACBETH.\r\n",
      "And when goes hence?\r\n",
      "\r\n",
      "MACBETH.\r\n",
      "Tomorrow, as he purposes.\r\n",
      "\r\n",
      "LADY MACBETH.\r\n",
      "O, never\r\n",
      "Shall sun that morrow see!\r\n",
      "Your face, my thane, is as a book where men\r\n",
      "May read strange matters. To beguile the time,\r\n",
      "Look like the time; bear welcome in your eye,\r\n",
      "Your hand, your tongue: look like the innocent flower,\r\n",
      "But be the serpent under't. He that's coming\r\n",
      "Must be provided for; and you shall put\r\n",
      "This night's great business into my dispatch;\r\n",
      "Which shall to all our nights and days to come\r\n",
      "Give solely sovereign sway and masterdom.\r\n",
      "\r\n",
      "MACBETH.\r\n",
      "We will speak further.\r\n",
      "\r\n",
      "LADY MACBETH.\r\n",
      "Only look up clear;\r\n",
      "To alter favour ever is to fear.\r\n",
      "Leave all the rest to me.\r\n",
      "\r\n",
      " [_Exeunt._]\r\n",
      "\r\n",
      "SCENE VI. The same. Before the Castle.\r\n",
      "\r\n",
      " Hautboys. Servants of Macbeth attending.\r\n",
      "\r\n",
      " Enter Duncan, Malcolm, Donalbain, Banquo, Lennox, Macduff, Ross, Angus\r\n",
      " and Attendants.\r\n",
      "\r\n",
      "DUNCAN.\r\n",
      "This castle hath a pleasant seat. The air\r\n",
      "Nimbly and sweetly recommends itself\r\n",
      "Unto our gentle senses.\r\n",
      "\r\n",
      "BANQUO.\r\n",
      "This guest of summer,\r\n",
      "The temple-haunting martlet, does approve,\r\n",
      "By his loved mansionry, that the heaven's breath\r\n",
      "Smells wooingly here: no jutty, frieze,\r\n",
      "Buttress, nor coign of vantage, but this bird\r\n",
      "hath made his pendant bed and procreant cradle.\r\n",
      "Where they most breed and haunt, I have observ'd\r\n",
      "The air is delicate.\r\n",
      "\r\n",
      " Enter Lady Macbeth.\r\n",
      "\r\n",
      "DUNCAN.\r\n",
      "See, see, our honour'd hostess!—\r\n",
      "The love that follows us sometime is our trouble,\r\n",
      "Which still we thank as love. Herein I teach you\r\n",
      "How you shall bid God 'ild us for your pains,\r\n",
      "And thank us for your trouble.\r\n",
      "\r\n",
      "LADY MACBETH.\r\n",
      "All our service,\r\n",
      "In every point twice done, and then done double,\r\n",
      "Were poor and single business to contend\r\n",
      "Against those honours deep and broad wherewith\r\n",
      "Your Majesty loads our house: for those of old,\r\n",
      "And the late dignities heap'd up to them,\r\n",
      "We rest your hermits.\r\n",
      "\r\n",
      "DUNCAN.\r\n",
      "Where's the Thane of Cawdor?\r\n",
      "We cours'd him at the heels, and had a purpose\r\n",
      "To be his purveyor: but he rides well;\r\n",
      "And his great love, sharp as his spur, hath holp him\r\n",
      "To his home before us. Fair and noble hostess,\r\n",
      "We are your guest tonight.\r\n",
      "\r\n",
      "LADY MACBETH.\r\n",
      "Your servants ever\r\n",
      "Have theirs, themselves, and what is theirs, in compt,\r\n",
      "To make their audit at your Highness' pleasure,\r\n",
      "Still to return your own.\r\n",
      "\r\n",
      "DUNCAN.\r\n",
      "Give me your hand;\r\n",
      "Conduct me to mine host: we love him highly,\r\n",
      "And shall continue our graces towards him.\r\n",
      "By your leave, hostess.\r\n",
      "\r\n",
      " [_Exeunt._]\r\n",
      "\r\n",
      "SCENE VII. The same. A Lobby in the Castle.\r\n",
      "\r\n",
      " Hautboys and torches. Enter, and pass over, a Sewer and divers\r\n",
      " Servants with dishes and service. Then enter Macbeth.\r\n",
      "\r\n",
      "MACBETH.\r\n",
      "If it were done when 'tis done, then 'twere well\r\n",
      "It were done quickly. If th' assassination\r\n",
      "Could trammel up the consequence, and catch\r\n",
      "With his surcease success; that but this blow\r\n",
      "Might be the be-all and the end-all—here,\r\n",
      "But here, upon this bank and shoal of time,\r\n",
      "We'd jump the life to come. But in these cases\r\n",
      "We still have judgement here; that we but teach\r\n",
      "Bloody instructions, which being taught, return\r\n",
      "To plague th' inventor. This even-handed justice\r\n",
      "Commends th' ingredience of our poison'd chalice\r\n",
      "To our own lips. He's here in double trust:\r\n",
      "First, as I am his kinsman and his subject,\r\n",
      "Strong both against the deed; then, as his host,\r\n",
      "Who should against his murderer shut the door,\r\n",
      "Not bear the knife myself. Besides, this Duncan\r\n",
      "Hath borne his faculties so meek, hath been\r\n",
      "So clear in his great office, that his virtues\r\n",
      "Will plead like angels, trumpet-tongued, against\r\n",
      "The deep damnation of his taking-off;\r\n",
      "And pity, like a naked new-born babe,\r\n",
      "Striding the blast, or heaven's cherubin, hors'd\r\n",
      "Upon the sightless couriers of the air,\r\n",
      "Shall blow the horrid deed in every eye,\r\n",
      "That tears shall drown the wind.—I have no spur\r\n",
      "To prick the sides of my intent, but only\r\n",
      "Vaulting ambition, which o'erleaps itself\r\n",
      "And falls on th' other—\r\n",
      "\r\n",
      " Enter Lady Macbeth.\r\n",
      "\r\n",
      "How now! what news?\r\n",
      "\r\n",
      "LADY MACBETH.\r\n",
      "He has almost supp'd. Why have you left the chamber?\r\n",
      "\r\n",
      "MACBETH.\r\n",
      "Hath he ask'd for me?\r\n",
      "\r\n",
      "LADY MACBETH.\r\n",
      "Know you not he has?\r\n",
      "\r\n",
      "MACBETH.\r\n",
      "We will proceed no further in this business:\r\n",
      "He hath honour'd me of late; and I have bought\r\n",
      "Golden opinions from all sorts of people,\r\n",
      "Which would be worn now in their newest gloss,\r\n",
      "Not cast aside so soon.\r\n",
      "\r\n",
      "LADY MACBETH.\r\n",
      "Was the hope drunk\r\n",
      "Wherein you dress'd yourself? Hath it slept since?\r\n",
      "And wakes it now, to look so green and pale\r\n",
      "At what it did so freely? From this time\r\n",
      "Such I account thy love. Art thou afeard\r\n",
      "To be the same in thine own act and valour\r\n",
      "As thou art in desire? Wouldst thou have that\r\n",
      "Which thou esteem'st the ornament of life,\r\n",
      "And live a coward in thine own esteem,\r\n",
      "Letting \"I dare not\" wait upon \"I would,\"\r\n",
      "Like the poor cat i' th' adage?\r\n",
      "\r\n",
      "MACBETH.\r\n",
      "Pr'ythee, peace!\r\n",
      "I dare do all that may become a man;\r\n",
      "Who dares do more is none.\r\n",
      "\r\n",
      "LADY MACBETH.\r\n",
      "What beast was't, then,\r\n",
      "That made you break this enterprise to me?\r\n",
      "When you durst do it, then you were a man;\r\n",
      "And, to be more than what you were, you would\r\n",
      "Be so much more the man. Nor time nor place\r\n",
      "Did then adhere, and yet you would make both:\r\n",
      "They have made themselves, and that their fitness now\r\n",
      "Does unmake you. I have given suck, and know\r\n",
      "How tender 'tis to love the babe that milks me:\r\n",
      "I would, while it was smiling in my face,\r\n",
      "Have pluck'd my nipple from his boneless gums\r\n",
      "And dash'd the brains out, had I so sworn as you\r\n",
      "Have done to this.\r\n",
      "\r\n",
      "MACBETH.\r\n",
      "If we should fail?\r\n",
      "\r\n",
      "LADY MACBETH.\r\n",
      "We fail?\r\n",
      "But screw your courage to the sticking-place,\r\n",
      "And we'll not fail. When Duncan is asleep\r\n",
      "(Whereto the rather shall his day's hard journey\r\n",
      "Soundly invite him), his two chamberlains\r\n",
      "Will I with wine and wassail so convince\r\n",
      "That memory, the warder of the brain,\r\n",
      "Shall be a fume, and the receipt of reason\r\n",
      "A limbeck only: when in swinish sleep\r\n",
      "Their drenched natures lie as in a death,\r\n",
      "What cannot you and I perform upon\r\n",
      "Th' unguarded Duncan? what not put upon\r\n",
      "His spongy officers; who shall bear the guilt\r\n",
      "Of our great quell?\r\n",
      "\r\n",
      "MACBETH.\r\n",
      "Bring forth men-children only;\r\n",
      "For thy undaunted mettle should compose\r\n",
      "Nothing but males. Will it not be receiv'd,\r\n",
      "When we have mark'd with blood those sleepy two\r\n",
      "Of his own chamber, and us'd their very daggers,\r\n",
      "That they have done't?\r\n",
      "\r\n",
      "LADY MACBETH.\r\n",
      "Who dares receive it other,\r\n",
      "As we shall make our griefs and clamour roar\r\n",
      "Upon his death?\r\n",
      "\r\n",
      "MACBETH.\r\n",
      "I am settled, and bend up\r\n",
      "Each corporal agent to this terrible feat.\r\n",
      "Away, and mock the time with fairest show:\r\n",
      "False face must hide what the false heart doth know.\r\n",
      "\r\n",
      " [_Exeunt._]\r\n",
      "\r\n",
      "\r\n",
      "ACT II\r\n",
      "\r\n",
      "SCENE I. Inverness. Court within the Castle.\r\n",
      "\r\n",
      " Enter Banquo and Fleance with a torch before him.\r\n",
      "\r\n",
      "BANQUO.\r\n",
      "How goes the night, boy?\r\n",
      "\r\n",
      "FLEANCE.\r\n",
      "The moon is down; I have not heard the clock.\r\n",
      "\r\n",
      "BANQUO.\r\n",
      "And she goes down at twelve.\r\n",
      "\r\n",
      "FLEANCE.\r\n",
      "I take't, 'tis later, sir.\r\n",
      "\r\n",
      "BANQUO.\r\n",
      "Hold, take my sword.—There's husbandry in heaven;\r\n",
      "Their candles are all out. Take thee that too.\r\n",
      "A heavy summons lies like lead upon me,\r\n",
      "And yet I would not sleep. Merciful powers,\r\n",
      "Restrain in me the cursed thoughts that nature\r\n",
      "Gives way to in repose!\r\n",
      "\r\n",
      " Enter Macbeth and a Servant with a torch.\r\n",
      "\r\n",
      "Give me my sword.—Who's there?\r\n",
      "\r\n",
      "MACBETH.\r\n",
      "A friend.\r\n",
      "\r\n",
      "BANQUO.\r\n",
      "What, sir, not yet at rest? The King's abed:\r\n",
      "He hath been in unusual pleasure and\r\n",
      "Sent forth great largess to your offices.\r\n",
      "This diamond he greets your wife withal,\r\n",
      "By the name of most kind hostess, and shut up\r\n",
      "In measureless content.\r\n",
      "\r\n",
      "MACBETH.\r\n",
      "Being unprepar'd,\r\n",
      "Our will became the servant to defect,\r\n",
      "Which else should free have wrought.\r\n",
      "\r\n",
      "BANQUO.\r\n",
      "All's well.\r\n",
      "I dreamt last night of the three Weird Sisters:\r\n",
      "To you they have show'd some truth.\r\n",
      "\r\n",
      "MACBETH.\r\n",
      "I think not of them:\r\n",
      "Yet, when we can entreat an hour to serve,\r\n",
      "We would spend it in some words upon that business,\r\n",
      "If you would grant the time.\r\n",
      "\r\n",
      "BANQUO.\r\n",
      "At your kind'st leisure.\r\n",
      "\r\n",
      "MACBETH.\r\n",
      "If you shall cleave to my consent, when 'tis,\r\n",
      "It shall make honour for you.\r\n",
      "\r\n",
      "BANQUO.\r\n",
      "So I lose none\r\n",
      "In seeking to augment it, but still keep\r\n",
      "My bosom franchis'd, and allegiance clear,\r\n",
      "I shall be counsell'd.\r\n",
      "\r\n",
      "MACBETH.\r\n",
      "Good repose the while!\r\n",
      "\r\n",
      "BANQUO.\r\n",
      "Thanks, sir: the like to you.\r\n",
      "\r\n",
      " [_Exeunt Banquo and Fleance._]\r\n",
      "\r\n",
      "MACBETH.\r\n",
      "Go bid thy mistress, when my drink is ready,\r\n",
      "She strike upon the bell. Get thee to bed.\r\n",
      "\r\n",
      " [_Exit Servant._]\r\n",
      "\r\n",
      "Is this a dagger which I see before me,\r\n",
      "The handle toward my hand? Come, let me clutch thee:—\r\n",
      "I have thee not, and yet I see thee still.\r\n",
      "Art thou not, fatal vision, sensible\r\n",
      "To feeling as to sight? or art thou but\r\n",
      "A dagger of the mind, a false creation,\r\n",
      "Proceeding from the heat-oppressed brain?\r\n",
      "I see thee yet, in form as palpable\r\n",
      "As this which now I draw.\r\n",
      "Thou marshall'st me the way that I was going;\r\n",
      "And such an instrument I was to use.\r\n",
      "Mine eyes are made the fools o' the other senses,\r\n",
      "Or else worth all the rest: I see thee still;\r\n",
      "And on thy blade and dudgeon, gouts of blood,\r\n",
      "Which was not so before.—There's no such thing.\r\n",
      "It is the bloody business which informs\r\n",
      "Thus to mine eyes.—Now o'er the one half-world\r\n",
      "Nature seems dead, and wicked dreams abuse\r\n",
      "The curtain'd sleep. Witchcraft celebrates\r\n",
      "Pale Hecate's off'rings; and wither'd murder,\r\n",
      "Alarum'd by his sentinel, the wolf,\r\n",
      "Whose howl's his watch, thus with his stealthy pace,\r\n",
      "With Tarquin's ravishing strides, towards his design\r\n",
      "Moves like a ghost.—Thou sure and firm-set earth,\r\n",
      "Hear not my steps, which way they walk, for fear\r\n",
      "Thy very stones prate of my whereabout,\r\n",
      "And take the present horror from the time,\r\n",
      "Which now suits with it.—Whiles I threat, he lives.\r\n",
      "Words to the heat of deeds too cold breath gives.\r\n",
      "\r\n",
      " [_A bell rings._]\r\n",
      "\r\n",
      "I go, and it is done. The bell invites me.\r\n",
      "Hear it not, Duncan, for it is a knell\r\n",
      "That summons thee to heaven or to hell.\r\n",
      "\r\n",
      " [_Exit._]\r\n",
      "\r\n",
      "SCENE II. The same.\r\n",
      "\r\n",
      " Enter Lady Macbeth.\r\n",
      "\r\n",
      "LADY MACBETH.\r\n",
      "That which hath made them drunk hath made me bold:\r\n",
      "What hath quench'd them hath given me fire.—Hark!—Peace!\r\n",
      "It was the owl that shriek'd, the fatal bellman,\r\n",
      "Which gives the stern'st good night. He is about it.\r\n",
      "The doors are open; and the surfeited grooms\r\n",
      "Do mock their charge with snores: I have drugg'd their possets,\r\n",
      "That death and nature do contend about them,\r\n",
      "Whether they live or die.\r\n",
      "\r\n",
      "MACBETH.\r\n",
      "[_Within._] Who's there?—what, ho!\r\n",
      "\r\n",
      "LADY MACBETH.\r\n",
      "Alack! I am afraid they have awak'd,\r\n",
      "And 'tis not done. Th' attempt and not the deed\r\n",
      "Confounds us.—Hark!—I laid their daggers ready;\r\n",
      "He could not miss 'em.—Had he not resembled\r\n",
      "My father as he slept, I had done't.—My husband!\r\n",
      "\r\n",
      " Enter Macbeth.\r\n",
      "\r\n",
      "MACBETH.\r\n",
      "I have done the deed.—Didst thou not hear a noise?\r\n",
      "\r\n",
      "LADY MACBETH.\r\n",
      "I heard the owl scream and the crickets cry.\r\n",
      "Did not you speak?\r\n",
      "\r\n",
      "MACBETH.\r\n",
      "When?\r\n",
      "\r\n",
      "LADY MACBETH.\r\n",
      "Now.\r\n",
      "\r\n",
      "MACBETH.\r\n",
      "As I descended?\r\n",
      "\r\n",
      "LADY MACBETH.\r\n",
      "Ay.\r\n",
      "\r\n",
      "MACBETH.\r\n",
      "Hark!—Who lies i' th' second chamber?\r\n",
      "\r\n",
      "LADY MACBETH.\r\n",
      "Donalbain.\r\n",
      "\r\n",
      "MACBETH.\r\n",
      "This is a sorry sight.\r\n",
      "\r\n",
      " [_Looking on his hands._]\r\n",
      "\r\n",
      "LADY MACBETH.\r\n",
      "A foolish thought, to say a sorry sight.\r\n",
      "\r\n",
      "MACBETH.\r\n",
      "There's one did laugh in's sleep, and one cried, \"Murder!\"\r\n",
      "That they did wake each other: I stood and heard them.\r\n",
      "But they did say their prayers, and address'd them\r\n",
      "Again to sleep.\r\n",
      "\r\n",
      "LADY MACBETH.\r\n",
      "There are two lodg'd together.\r\n",
      "\r\n",
      "MACBETH.\r\n",
      "One cried, \"God bless us!\" and, \"Amen,\" the other,\r\n",
      "As they had seen me with these hangman's hands.\r\n",
      "List'ning their fear, I could not say \"Amen,\"\r\n",
      "When they did say, \"God bless us.\"\r\n",
      "\r\n",
      "LADY MACBETH.\r\n",
      "Consider it not so deeply.\r\n",
      "\r\n",
      "MACBETH.\r\n",
      "But wherefore could not I pronounce \"Amen\"?\r\n",
      "I had most need of blessing, and \"Amen\"\r\n",
      "Stuck in my throat.\r\n",
      "\r\n",
      "LADY MACBETH.\r\n",
      "These deeds must not be thought\r\n",
      "After these ways; so, it will make us mad.\r\n",
      "\r\n",
      "MACBETH.\r\n",
      "Methought I heard a voice cry, \"Sleep no more!\r\n",
      "Macbeth does murder sleep,\"—the innocent sleep;\r\n",
      "Sleep that knits up the ravell'd sleave of care,\r\n",
      "The death of each day's life, sore labour's bath,\r\n",
      "Balm of hurt minds, great nature's second course,\r\n",
      "Chief nourisher in life's feast.\r\n",
      "\r\n",
      "LADY MACBETH.\r\n",
      "What do you mean?\r\n",
      "\r\n",
      "MACBETH.\r\n",
      "Still it cried, \"Sleep no more!\" to all the house:\r\n",
      "\"Glamis hath murder'd sleep, and therefore Cawdor\r\n",
      "Shall sleep no more. Macbeth shall sleep no more!\"\r\n",
      "\r\n",
      "LADY MACBETH.\r\n",
      "Who was it that thus cried? Why, worthy thane,\r\n",
      "You do unbend your noble strength to think\r\n",
      "So brainsickly of things. Go get some water,\r\n",
      "And wash this filthy witness from your hand.—\r\n",
      "Why did you bring these daggers from the place?\r\n",
      "They must lie there: go carry them, and smear\r\n",
      "The sleepy grooms with blood.\r\n",
      "\r\n",
      "MACBETH.\r\n",
      "I'll go no more:\r\n",
      "I am afraid to think what I have done;\r\n",
      "Look on't again I dare not.\r\n",
      "\r\n",
      "LADY MACBETH.\r\n",
      "Infirm of purpose!\r\n",
      "Give me the daggers. The sleeping and the dead\r\n",
      "Are but as pictures. 'Tis the eye of childhood\r\n",
      "That fears a painted devil. If he do bleed,\r\n",
      "I'll gild the faces of the grooms withal,\r\n",
      "For it must seem their guilt.\r\n",
      "\r\n",
      " [_Exit. Knocking within._]\r\n",
      "\r\n",
      "MACBETH.\r\n",
      "Whence is that knocking?\r\n",
      "How is't with me, when every noise appals me?\r\n",
      "What hands are here? Ha, they pluck out mine eyes!\r\n",
      "Will all great Neptune's ocean wash this blood\r\n",
      "Clean from my hand? No, this my hand will rather\r\n",
      "The multitudinous seas incarnadine,\r\n",
      "Making the green one red.\r\n",
      "\r\n",
      " Enter Lady Macbeth.\r\n",
      "\r\n",
      "LADY MACBETH.\r\n",
      "My hands are of your color, but I shame\r\n",
      "To wear a heart so white. [_Knocking within._] I hear knocking\r\n",
      "At the south entry:—retire we to our chamber.\r\n",
      "A little water clears us of this deed:\r\n",
      "How easy is it then! Your constancy\r\n",
      "Hath left you unattended.—[_Knocking within._] Hark, more knocking.\r\n",
      "Get on your nightgown, lest occasion call us\r\n",
      "And show us to be watchers. Be not lost\r\n",
      "So poorly in your thoughts.\r\n",
      "\r\n",
      "MACBETH.\r\n",
      "To know my deed, 'twere best not know myself. [_Knocking within._]\r\n",
      "Wake Duncan with thy knocking! I would thou couldst!\r\n",
      "\r\n",
      " [_Exeunt._]\r\n",
      "\r\n",
      "SCENE III. The same.\r\n",
      "\r\n",
      " Enter a Porter. Knocking within.\r\n",
      "\r\n",
      "PORTER.\r\n",
      "Here's a knocking indeed! If a man were porter of hell gate, he should\r\n",
      "have old turning the key. [_Knocking._] Knock, knock, knock. Who's\r\n",
      "there, i' th' name of Belzebub? Here's a farmer that hanged himself on\r\n",
      "the expectation of plenty: come in time; have napkins enow about you;\r\n",
      "here you'll sweat for't. [_Knocking._] Knock, knock! Who's there, i'\r\n",
      "th' other devil's name? Faith, here's an equivocator, that could swear\r\n",
      "in both the scales against either scale, who committed treason enough\r\n",
      "for God's sake, yet could not equivocate to heaven: O, come in,\r\n",
      "equivocator. [_Knocking._] Knock, knock, knock! Who's there? Faith,\r\n",
      "here's an English tailor come hither, for stealing out of a French\r\n",
      "hose: come in, tailor; here you may roast your goose. [_Knocking._]\r\n",
      "Knock, knock. Never at quiet! What are you?—But this place is too cold\r\n",
      "for hell. I'll devil-porter it no further: I had thought to have let in\r\n",
      "some of all professions, that go the primrose way to th' everlasting\r\n",
      "bonfire. [_Knocking._] Anon, anon! I pray you, remember the porter.\r\n",
      "\r\n",
      " [_Opens the gate._]\r\n",
      "\r\n",
      " Enter Macduff and Lennox.\r\n",
      "\r\n",
      "MACDUFF.\r\n",
      "Was it so late, friend, ere you went to bed,\r\n",
      "That you do lie so late?\r\n",
      "\r\n",
      "PORTER.\r\n",
      "Faith, sir, we were carousing till the second cock; and drink, sir, is\r\n",
      "a great provoker of three things.\r\n",
      "\r\n",
      "MACDUFF.\r\n",
      "What three things does drink especially provoke?\r\n",
      "\r\n",
      "PORTER.\r\n",
      "Marry, sir, nose-painting, sleep, and urine. Lechery, sir, it provokes\r\n",
      "and unprovokes; it provokes the desire, but it takes away the\r\n",
      "performance. Therefore much drink may be said to be an equivocator with\r\n",
      "lechery: it makes him, and it mars him; it sets him on, and it takes\r\n",
      "him off; it persuades him, and disheartens him; makes him stand to, and\r\n",
      "not stand to; in conclusion, equivocates him in a sleep, and giving him\r\n",
      "the lie, leaves him.\r\n",
      "\r\n",
      "MACDUFF.\r\n",
      "I believe drink gave thee the lie last night.\r\n",
      "\r\n",
      "PORTER.\r\n",
      "That it did, sir, i' the very throat on me; but I requited him for his\r\n",
      "lie; and (I think) being too strong for him, though he took up my legs\r\n",
      "sometime, yet I made a shift to cast him.\r\n",
      "\r\n",
      "MACDUFF.\r\n",
      "Is thy master stirring?\r\n",
      "\r\n",
      " Enter Macbeth.\r\n",
      "\r\n",
      "Our knocking has awak'd him; here he comes.\r\n",
      "\r\n",
      "LENNOX.\r\n",
      "Good morrow, noble sir!\r\n",
      "\r\n",
      "MACBETH.\r\n",
      "Good morrow, both!\r\n",
      "\r\n",
      "MACDUFF.\r\n",
      "Is the King stirring, worthy thane?\r\n",
      "\r\n",
      "MACBETH.\r\n",
      "Not yet.\r\n",
      "\r\n",
      "MACDUFF.\r\n",
      "He did command me to call timely on him.\r\n",
      "I have almost slipp'd the hour.\r\n",
      "\r\n",
      "MACBETH.\r\n",
      "I'll bring you to him.\r\n",
      "\r\n",
      "MACDUFF.\r\n",
      "I know this is a joyful trouble to you;\r\n",
      "But yet 'tis one.\r\n",
      "\r\n",
      "MACBETH.\r\n",
      "The labour we delight in physics pain.\r\n",
      "This is the door.\r\n",
      "\r\n",
      "MACDUFF.\r\n",
      "I'll make so bold to call.\r\n",
      "For 'tis my limited service.\r\n",
      "\r\n",
      " [_Exit Macduff._]\r\n",
      "\r\n",
      "LENNOX.\r\n",
      "Goes the King hence today?\r\n",
      "\r\n",
      "MACBETH.\r\n",
      "He does. He did appoint so.\r\n",
      "\r\n",
      "LENNOX.\r\n",
      "The night has been unruly: where we lay,\r\n",
      "Our chimneys were blown down and, as they say,\r\n",
      "Lamentings heard i' th' air, strange screams of death,\r\n",
      "And prophesying, with accents terrible,\r\n",
      "Of dire combustion and confus'd events,\r\n",
      "New hatch'd to the woeful time. The obscure bird\r\n",
      "Clamour'd the live-long night. Some say the earth\r\n",
      "Was feverous, and did shake.\r\n",
      "\r\n",
      "MACBETH.\r\n",
      "'Twas a rough night.\r\n",
      "\r\n",
      "LENNOX.\r\n",
      "My young remembrance cannot parallel\r\n",
      "A fellow to it.\r\n",
      "\r\n",
      " Enter Macduff.\r\n",
      "\r\n",
      "MACDUFF.\r\n",
      "O horror, horror, horror!\r\n",
      "Tongue nor heart cannot conceive nor name thee!\r\n",
      "\r\n",
      "MACBETH, LENNOX.\r\n",
      "What's the matter?\r\n",
      "\r\n",
      "MACDUFF.\r\n",
      "Confusion now hath made his masterpiece!\r\n",
      "Most sacrilegious murder hath broke ope\r\n",
      "The Lord's anointed temple, and stole thence\r\n",
      "The life o' th' building.\r\n",
      "\r\n",
      "MACBETH.\r\n",
      "What is't you say? the life?\r\n",
      "\r\n",
      "LENNOX.\r\n",
      "Mean you his majesty?\r\n",
      "\r\n",
      "MACDUFF.\r\n",
      "Approach the chamber, and destroy your sight\r\n",
      "With a new Gorgon. Do not bid me speak.\r\n",
      "See, and then speak yourselves.\r\n",
      "\r\n",
      " [_Exeunt Macbeth and Lennox._]\r\n",
      "\r\n",
      "Awake, awake!—\r\n",
      "Ring the alarum bell.—Murder and treason!\r\n",
      "Banquo and Donalbain! Malcolm! awake!\r\n",
      "Shake off this downy sleep, death's counterfeit,\r\n",
      "And look on death itself! Up, up, and see\r\n",
      "The great doom's image. Malcolm! Banquo!\r\n",
      "As from your graves rise up, and walk like sprites\r\n",
      "To countenance this horror!\r\n",
      "\r\n",
      " [_Alarum-bell rings._]\r\n",
      "\r\n",
      " Enter Lady Macbeth.\r\n",
      "\r\n",
      "LADY MACBETH.\r\n",
      "What's the business,\r\n",
      "That such a hideous trumpet calls to parley\r\n",
      "The sleepers of the house? Speak, speak!\r\n",
      "\r\n",
      "MACDUFF.\r\n",
      "O gentle lady,\r\n",
      "'Tis not for you to hear what I can speak:\r\n",
      "The repetition, in a woman's ear,\r\n",
      "Would murder as it fell.\r\n",
      "\r\n",
      " Enter Banquo.\r\n",
      "\r\n",
      "O Banquo, Banquo!\r\n",
      "Our royal master's murder'd!\r\n",
      "\r\n",
      "LADY MACBETH.\r\n",
      "Woe, alas!\r\n",
      "What, in our house?\r\n",
      "\r\n",
      "BANQUO.\r\n",
      "Too cruel anywhere.—\r\n",
      "Dear Duff, I pr'ythee, contradict thyself,\r\n",
      "And say it is not so.\r\n",
      "\r\n",
      " Enter Macbeth and Lennox with Ross.\r\n",
      "\r\n",
      "MACBETH.\r\n",
      "Had I but died an hour before this chance,\r\n",
      "I had liv'd a blessed time; for, from this instant\r\n",
      "There's nothing serious in mortality.\r\n",
      "All is but toys: renown and grace is dead;\r\n",
      "The wine of life is drawn, and the mere lees\r\n",
      "Is left this vault to brag of.\r\n",
      "\r\n",
      " Enter Malcolm and Donalbain.\r\n",
      "\r\n",
      "DONALBAIN.\r\n",
      "What is amiss?\r\n",
      "\r\n",
      "MACBETH.\r\n",
      "You are, and do not know't:\r\n",
      "The spring, the head, the fountain of your blood\r\n",
      "Is stopp'd; the very source of it is stopp'd.\r\n",
      "\r\n",
      "MACDUFF.\r\n",
      "Your royal father's murder'd.\r\n",
      "\r\n",
      "MALCOLM.\r\n",
      "O, by whom?\r\n",
      "\r\n",
      "LENNOX.\r\n",
      "Those of his chamber, as it seem'd, had done't:\r\n",
      "Their hands and faces were all badg'd with blood;\r\n",
      "So were their daggers, which, unwip'd, we found\r\n",
      "Upon their pillows. They star'd, and were distracted;\r\n",
      "No man's life was to be trusted with them.\r\n",
      "\r\n",
      "MACBETH.\r\n",
      "O, yet I do repent me of my fury,\r\n",
      "That I did kill them.\r\n",
      "\r\n",
      "MACDUFF.\r\n",
      "Wherefore did you so?\r\n",
      "\r\n",
      "MACBETH.\r\n",
      "Who can be wise, amaz'd, temperate, and furious,\r\n",
      "Loyal and neutral, in a moment? No man:\r\n",
      "Th' expedition of my violent love\r\n",
      "Outrun the pauser, reason. Here lay Duncan,\r\n",
      "His silver skin lac'd with his golden blood;\r\n",
      "And his gash'd stabs look'd like a breach in nature\r\n",
      "For ruin's wasteful entrance: there, the murderers,\r\n",
      "Steep'd in the colours of their trade, their daggers\r\n",
      "Unmannerly breech'd with gore. Who could refrain,\r\n",
      "That had a heart to love, and in that heart\r\n",
      "Courage to make's love known?\r\n",
      "\r\n",
      "LADY MACBETH.\r\n",
      "Help me hence, ho!\r\n",
      "\r\n",
      "MACDUFF.\r\n",
      "Look to the lady.\r\n",
      "\r\n",
      "MALCOLM.\r\n",
      "Why do we hold our tongues,\r\n",
      "That most may claim this argument for ours?\r\n",
      "\r\n",
      "DONALBAIN.\r\n",
      "What should be spoken here, where our fate,\r\n",
      "Hid in an auger hole, may rush, and seize us?\r\n",
      "Let's away. Our tears are not yet brew'd.\r\n",
      "\r\n",
      "MALCOLM.\r\n",
      "Nor our strong sorrow\r\n",
      "Upon the foot of motion.\r\n",
      "\r\n",
      "BANQUO.\r\n",
      "Look to the lady:—\r\n",
      "\r\n",
      " [_Lady Macbeth is carried out._]\r\n",
      "\r\n",
      "And when we have our naked frailties hid,\r\n",
      "That suffer in exposure, let us meet,\r\n",
      "And question this most bloody piece of work\r\n",
      "To know it further. Fears and scruples shake us:\r\n",
      "In the great hand of God I stand; and thence\r\n",
      "Against the undivulg'd pretence I fight\r\n",
      "Of treasonous malice.\r\n",
      "\r\n",
      "MACDUFF.\r\n",
      "And so do I.\r\n",
      "\r\n",
      "ALL.\r\n",
      "So all.\r\n",
      "\r\n",
      "MACBETH.\r\n",
      "Let's briefly put on manly readiness,\r\n",
      "And meet i' th' hall together.\r\n",
      "\r\n",
      "ALL.\r\n",
      "Well contented.\r\n",
      "\r\n",
      " [_Exeunt all but Malcolm and Donalbain._]\r\n",
      "\r\n",
      "MALCOLM.\r\n",
      "What will you do? Let's not consort with them:\r\n",
      "To show an unfelt sorrow is an office\r\n",
      "Which the false man does easy. I'll to England.\r\n",
      "\r\n",
      "DONALBAIN.\r\n",
      "To Ireland, I. Our separated fortune\r\n",
      "Shall keep us both the safer. Where we are,\r\n",
      "There's daggers in men's smiles: the near in blood,\r\n",
      "The nearer bloody.\r\n",
      "\r\n",
      "MALCOLM.\r\n",
      "This murderous shaft that's shot\r\n",
      "Hath not yet lighted; and our safest way\r\n",
      "Is to avoid the aim. Therefore to horse;\r\n",
      "And let us not be dainty of leave-taking,\r\n",
      "But shift away. There's warrant in that theft\r\n",
      "Which steals itself, when there's no mercy left.\r\n",
      "\r\n",
      " [_Exeunt._]\r\n",
      "\r\n",
      "SCENE IV. The same. Without the Castle.\r\n",
      "\r\n",
      " Enter Ross and an Old Man.\r\n",
      "\r\n",
      "OLD MAN.\r\n",
      "Threescore and ten I can remember well,\r\n",
      "Within the volume of which time I have seen\r\n",
      "Hours dreadful and things strange, but this sore night\r\n",
      "Hath trifled former knowings.\r\n",
      "\r\n",
      "ROSS.\r\n",
      "Ha, good father,\r\n",
      "Thou seest the heavens, as troubled with man's act,\r\n",
      "Threatens his bloody stage: by the clock 'tis day,\r\n",
      "And yet dark night strangles the travelling lamp.\r\n",
      "Is't night's predominance, or the day's shame,\r\n",
      "That darkness does the face of earth entomb,\r\n",
      "When living light should kiss it?\r\n",
      "\r\n",
      "OLD MAN.\r\n",
      "'Tis unnatural,\r\n",
      "Even like the deed that's done. On Tuesday last,\r\n",
      "A falcon, towering in her pride of place,\r\n",
      "Was by a mousing owl hawk'd at and kill'd.\r\n",
      "\r\n",
      "ROSS.\r\n",
      "And Duncan's horses (a thing most strange and certain)\r\n",
      "Beauteous and swift, the minions of their race,\r\n",
      "Turn'd wild in nature, broke their stalls, flung out,\r\n",
      "Contending 'gainst obedience, as they would make\r\n",
      "War with mankind.\r\n",
      "\r\n",
      "OLD MAN.\r\n",
      "'Tis said they eat each other.\r\n",
      "\r\n",
      "ROSS.\r\n",
      "They did so; to the amazement of mine eyes,\r\n",
      "That look'd upon't.\r\n",
      "Here comes the good Macduff.\r\n",
      "\r\n",
      " Enter Macduff.\r\n",
      "\r\n",
      "How goes the world, sir, now?\r\n",
      "\r\n",
      "MACDUFF.\r\n",
      "Why, see you not?\r\n",
      "\r\n",
      "ROSS.\r\n",
      "Is't known who did this more than bloody deed?\r\n",
      "\r\n",
      "MACDUFF.\r\n",
      "Those that Macbeth hath slain.\r\n",
      "\r\n",
      "ROSS.\r\n",
      "Alas, the day!\r\n",
      "What good could they pretend?\r\n",
      "\r\n",
      "MACDUFF.\r\n",
      "They were suborn'd.\r\n",
      "Malcolm and Donalbain, the King's two sons,\r\n",
      "Are stol'n away and fled; which puts upon them\r\n",
      "Suspicion of the deed.\r\n",
      "\r\n",
      "ROSS.\r\n",
      "'Gainst nature still:\r\n",
      "Thriftless ambition, that will ravin up\r\n",
      "Thine own life's means!—Then 'tis most like\r\n",
      "The sovereignty will fall upon Macbeth.\r\n",
      "\r\n",
      "MACDUFF.\r\n",
      "He is already nam'd; and gone to Scone\r\n",
      "To be invested.\r\n",
      "\r\n",
      "ROSS.\r\n",
      "Where is Duncan's body?\r\n",
      "\r\n",
      "MACDUFF.\r\n",
      "Carried to Colmekill,\r\n",
      "The sacred storehouse of his predecessors,\r\n",
      "And guardian of their bones.\r\n",
      "\r\n",
      "ROSS.\r\n",
      "Will you to Scone?\r\n",
      "\r\n",
      "MACDUFF.\r\n",
      "No, cousin, I'll to Fife.\r\n",
      "\r\n",
      "ROSS.\r\n",
      "Well, I will thither.\r\n",
      "\r\n",
      "MACDUFF.\r\n",
      "Well, may you see things well done there. Adieu!\r\n",
      "Lest our old robes sit easier than our new!\r\n",
      "\r\n",
      "ROSS.\r\n",
      "Farewell, father.\r\n",
      "\r\n",
      "OLD MAN.\r\n",
      "God's benison go with you; and with those\r\n",
      "That would make good of bad, and friends of foes!\r\n",
      "\r\n",
      " [_Exeunt._]\r\n",
      "\r\n",
      "\r\n",
      "ACT III\r\n",
      "\r\n",
      "SCENE I. Forres. A Room in the Palace.\r\n",
      "\r\n",
      " Enter Banquo.\r\n",
      "\r\n",
      "BANQUO.\r\n",
      "Thou hast it now, King, Cawdor, Glamis, all,\r\n",
      "As the Weird Women promis'd; and, I fear,\r\n",
      "Thou play'dst most foully for't; yet it was said\r\n",
      "It should not stand in thy posterity;\r\n",
      "But that myself should be the root and father\r\n",
      "Of many kings. If there come truth from them\r\n",
      "(As upon thee, Macbeth, their speeches shine)\r\n",
      "Why, by the verities on thee made good,\r\n",
      "May they not be my oracles as well,\r\n",
      "And set me up in hope? But hush; no more.\r\n",
      "\r\n",
      " Sennet sounded. Enter Macbeth as King, Lady Macbeth as Queen; Lennox,\r\n",
      " Ross, Lords, and Attendants.\r\n",
      "\r\n",
      "MACBETH.\r\n",
      "Here's our chief guest.\r\n",
      "\r\n",
      "LADY MACBETH.\r\n",
      "If he had been forgotten,\r\n",
      "It had been as a gap in our great feast,\r\n",
      "And all-thing unbecoming.\r\n",
      "\r\n",
      "MACBETH.\r\n",
      "Tonight we hold a solemn supper, sir,\r\n",
      "And I'll request your presence.\r\n",
      "\r\n",
      "BANQUO.\r\n",
      "Let your Highness\r\n",
      "Command upon me, to the which my duties\r\n",
      "Are with a most indissoluble tie\r\n",
      "For ever knit.\r\n",
      "\r\n",
      "MACBETH.\r\n",
      "Ride you this afternoon?\r\n",
      "\r\n",
      "BANQUO.\r\n",
      "Ay, my good lord.\r\n",
      "\r\n",
      "MACBETH.\r\n",
      "We should have else desir'd your good advice\r\n",
      "(Which still hath been both grave and prosperous)\r\n",
      "In this day's council; but we'll take tomorrow.\r\n",
      "Is't far you ride?\r\n",
      "\r\n",
      "BANQUO.\r\n",
      "As far, my lord, as will fill up the time\r\n",
      "'Twixt this and supper: go not my horse the better,\r\n",
      "I must become a borrower of the night,\r\n",
      "For a dark hour or twain.\r\n",
      "\r\n",
      "MACBETH.\r\n",
      "Fail not our feast.\r\n",
      "\r\n",
      "BANQUO.\r\n",
      "My lord, I will not.\r\n",
      "\r\n",
      "MACBETH.\r\n",
      "We hear our bloody cousins are bestow'd\r\n",
      "In England and in Ireland; not confessing\r\n",
      "Their cruel parricide, filling their hearers\r\n",
      "With strange invention. But of that tomorrow,\r\n",
      "When therewithal we shall have cause of state\r\n",
      "Craving us jointly. Hie you to horse: adieu,\r\n",
      "Till you return at night. Goes Fleance with you?\r\n",
      "\r\n",
      "BANQUO.\r\n",
      "Ay, my good lord: our time does call upon's.\r\n",
      "\r\n",
      "MACBETH.\r\n",
      "I wish your horses swift and sure of foot;\r\n",
      "And so I do commend you to their backs.\r\n",
      "Farewell.—\r\n",
      "\r\n",
      " [_Exit Banquo._]\r\n",
      "\r\n",
      "Let every man be master of his time\r\n",
      "Till seven at night; to make society\r\n",
      "The sweeter welcome, we will keep ourself\r\n",
      "Till supper time alone: while then, God be with you.\r\n",
      "\r\n",
      " [_Exeunt Lady Macbeth, Lords, &c._]\r\n",
      "\r\n",
      "Sirrah, a word with you. Attend those men\r\n",
      "Our pleasure?\r\n",
      "\r\n",
      "SERVANT.\r\n",
      "They are, my lord, without the palace gate.\r\n",
      "\r\n",
      "MACBETH.\r\n",
      "Bring them before us.\r\n",
      "\r\n",
      " [_Exit Servant._]\r\n",
      "\r\n",
      "To be thus is nothing,\r\n",
      "But to be safely thus. Our fears in Banquo\r\n",
      "Stick deep, and in his royalty of nature\r\n",
      "Reigns that which would be fear'd: 'tis much he dares;\r\n",
      "And, to that dauntless temper of his mind,\r\n",
      "He hath a wisdom that doth guide his valour\r\n",
      "To act in safety. There is none but he\r\n",
      "Whose being I do fear: and under him\r\n",
      "My genius is rebuk'd; as, it is said,\r\n",
      "Mark Antony's was by Caesar. He chid the sisters\r\n",
      "When first they put the name of king upon me,\r\n",
      "And bade them speak to him; then, prophet-like,\r\n",
      "They hail'd him father to a line of kings:\r\n",
      "Upon my head they plac'd a fruitless crown,\r\n",
      "And put a barren sceptre in my gripe,\r\n",
      "Thence to be wrench'd with an unlineal hand,\r\n",
      "No son of mine succeeding. If't be so,\r\n",
      "For Banquo's issue have I fil'd my mind;\r\n",
      "For them the gracious Duncan have I murder'd;\r\n",
      "Put rancours in the vessel of my peace\r\n",
      "Only for them; and mine eternal jewel\r\n",
      "Given to the common enemy of man,\r\n",
      "To make them kings, the seed of Banquo kings!\r\n",
      "Rather than so, come, fate, into the list,\r\n",
      "And champion me to th' utterance!—Who's there?—\r\n",
      "\r\n",
      " Enter Servant with two Murderers.\r\n",
      "\r\n",
      "Now go to the door, and stay there till we call.\r\n",
      "\r\n",
      " [_Exit Servant._]\r\n",
      "\r\n",
      "Was it not yesterday we spoke together?\r\n",
      "\r\n",
      "FIRST MURDERER.\r\n",
      "It was, so please your Highness.\r\n",
      "\r\n",
      "MACBETH.\r\n",
      "Well then, now\r\n",
      "Have you consider'd of my speeches? Know\r\n",
      "That it was he, in the times past, which held you\r\n",
      "So under fortune, which you thought had been\r\n",
      "Our innocent self? This I made good to you\r\n",
      "In our last conference, pass'd in probation with you\r\n",
      "How you were borne in hand, how cross'd, the instruments,\r\n",
      "Who wrought with them, and all things else that might\r\n",
      "To half a soul and to a notion craz'd\r\n",
      "Say, \"Thus did Banquo.\"\r\n",
      "\r\n",
      "FIRST MURDERER.\r\n",
      "You made it known to us.\r\n",
      "\r\n",
      "MACBETH.\r\n",
      "I did so; and went further, which is now\r\n",
      "Our point of second meeting. Do you find\r\n",
      "Your patience so predominant in your nature,\r\n",
      "That you can let this go? Are you so gospell'd,\r\n",
      "To pray for this good man and for his issue,\r\n",
      "Whose heavy hand hath bow'd you to the grave,\r\n",
      "And beggar'd yours forever?\r\n",
      "\r\n",
      "FIRST MURDERER.\r\n",
      "We are men, my liege.\r\n",
      "\r\n",
      "MACBETH.\r\n",
      "Ay, in the catalogue ye go for men;\r\n",
      "As hounds, and greyhounds, mongrels, spaniels, curs,\r\n",
      "Shoughs, water-rugs, and demi-wolves are clept\r\n",
      "All by the name of dogs: the valu'd file\r\n",
      "Distinguishes the swift, the slow, the subtle,\r\n",
      "The housekeeper, the hunter, every one\r\n",
      "According to the gift which bounteous nature\r\n",
      "Hath in him clos'd; whereby he does receive\r\n",
      "Particular addition, from the bill\r\n",
      "That writes them all alike: and so of men.\r\n",
      "Now, if you have a station in the file,\r\n",
      "Not i' th' worst rank of manhood, say't;\r\n",
      "And I will put that business in your bosoms,\r\n",
      "Whose execution takes your enemy off,\r\n",
      "Grapples you to the heart and love of us,\r\n",
      "Who wear our health but sickly in his life,\r\n",
      "Which in his death were perfect.\r\n",
      "\r\n",
      "SECOND MURDERER.\r\n",
      "I am one, my liege,\r\n",
      "Whom the vile blows and buffets of the world\r\n",
      "Hath so incens'd that I am reckless what\r\n",
      "I do to spite the world.\r\n",
      "\r\n",
      "FIRST MURDERER.\r\n",
      "And I another,\r\n",
      "So weary with disasters, tugg'd with fortune,\r\n",
      "That I would set my life on any chance,\r\n",
      "To mend it or be rid on't.\r\n",
      "\r\n",
      "MACBETH.\r\n",
      "Both of you\r\n",
      "Know Banquo was your enemy.\r\n",
      "\r\n",
      "BOTH MURDERERS.\r\n",
      "True, my lord.\r\n",
      "\r\n",
      "MACBETH.\r\n",
      "So is he mine; and in such bloody distance,\r\n",
      "That every minute of his being thrusts\r\n",
      "Against my near'st of life; and though I could\r\n",
      "With barefac'd power sweep him from my sight,\r\n",
      "And bid my will avouch it, yet I must not,\r\n",
      "For certain friends that are both his and mine,\r\n",
      "Whose loves I may not drop, but wail his fall\r\n",
      "Who I myself struck down: and thence it is\r\n",
      "That I to your assistance do make love,\r\n",
      "Masking the business from the common eye\r\n",
      "For sundry weighty reasons.\r\n",
      "\r\n",
      "SECOND MURDERER.\r\n",
      "We shall, my lord,\r\n",
      "Perform what you command us.\r\n",
      "\r\n",
      "FIRST MURDERER.\r\n",
      "Though our lives—\r\n",
      "\r\n",
      "MACBETH.\r\n",
      "Your spirits shine through you. Within this hour at most,\r\n",
      "I will advise you where to plant yourselves,\r\n",
      "Acquaint you with the perfect spy o' th' time,\r\n",
      "The moment on't; for't must be done tonight\r\n",
      "And something from the palace; always thought\r\n",
      "That I require a clearness. And with him\r\n",
      "(To leave no rubs nor botches in the work)\r\n",
      "Fleance his son, that keeps him company,\r\n",
      "Whose absence is no less material to me\r\n",
      "Than is his father's, must embrace the fate\r\n",
      "Of that dark hour. Resolve yourselves apart.\r\n",
      "I'll come to you anon.\r\n",
      "\r\n",
      "BOTH MURDERERS.\r\n",
      "We are resolv'd, my lord.\r\n",
      "\r\n",
      "MACBETH.\r\n",
      "I'll call upon you straight: abide within.\r\n",
      "\r\n",
      " [_Exeunt Murderers._]\r\n",
      "\r\n",
      "It is concluded. Banquo, thy soul's flight,\r\n",
      "If it find heaven, must find it out tonight.\r\n",
      "\r\n",
      " [_Exit._]\r\n",
      "\r\n",
      "SCENE II. The same. Another Room in the Palace.\r\n",
      "\r\n",
      " Enter Lady Macbeth and a Servant.\r\n",
      "\r\n",
      "LADY MACBETH.\r\n",
      "Is Banquo gone from court?\r\n",
      "\r\n",
      "SERVANT.\r\n",
      "Ay, madam, but returns again tonight.\r\n",
      "\r\n",
      "LADY MACBETH.\r\n",
      "Say to the King, I would attend his leisure\r\n",
      "For a few words.\r\n",
      "\r\n",
      "SERVANT.\r\n",
      "Madam, I will.\r\n",
      "\r\n",
      " [_Exit._]\r\n",
      "\r\n",
      "LADY MACBETH.\r\n",
      "Naught's had, all's spent,\r\n",
      "Where our desire is got without content:\r\n",
      "'Tis safer to be that which we destroy,\r\n",
      "Than by destruction dwell in doubtful joy.\r\n",
      "\r\n",
      " Enter Macbeth.\r\n",
      "\r\n",
      "How now, my lord, why do you keep alone,\r\n",
      "Of sorriest fancies your companions making,\r\n",
      "Using those thoughts which should indeed have died\r\n",
      "With them they think on? Things without all remedy\r\n",
      "Should be without regard: what's done is done.\r\n",
      "\r\n",
      "MACBETH.\r\n",
      "We have scorch'd the snake, not kill'd it.\r\n",
      "She'll close, and be herself; whilst our poor malice\r\n",
      "Remains in danger of her former tooth.\r\n",
      "But let the frame of things disjoint,\r\n",
      "Both the worlds suffer,\r\n",
      "Ere we will eat our meal in fear, and sleep\r\n",
      "In the affliction of these terrible dreams\r\n",
      "That shake us nightly. Better be with the dead,\r\n",
      "Whom we, to gain our peace, have sent to peace,\r\n",
      "Than on the torture of the mind to lie\r\n",
      "In restless ecstasy. Duncan is in his grave;\r\n",
      "After life's fitful fever he sleeps well;\r\n",
      "Treason has done his worst: nor steel, nor poison,\r\n",
      "Malice domestic, foreign levy, nothing\r\n",
      "Can touch him further.\r\n",
      "\r\n",
      "LADY MACBETH.\r\n",
      "Come on,\r\n",
      "Gently my lord, sleek o'er your rugged looks;\r\n",
      "Be bright and jovial among your guests tonight.\r\n",
      "\r\n",
      "MACBETH.\r\n",
      "So shall I, love; and so, I pray, be you.\r\n",
      "Let your remembrance apply to Banquo;\r\n",
      "Present him eminence, both with eye and tongue:\r\n",
      "Unsafe the while, that we\r\n",
      "Must lave our honours in these flattering streams,\r\n",
      "And make our faces vizards to our hearts,\r\n",
      "Disguising what they are.\r\n",
      "\r\n",
      "LADY MACBETH.\r\n",
      "You must leave this.\r\n",
      "\r\n",
      "MACBETH.\r\n",
      "O, full of scorpions is my mind, dear wife!\r\n",
      "Thou know'st that Banquo, and his Fleance, lives.\r\n",
      "\r\n",
      "LADY MACBETH.\r\n",
      "But in them nature's copy's not eterne.\r\n",
      "\r\n",
      "MACBETH.\r\n",
      "There's comfort yet; they are assailable.\r\n",
      "Then be thou jocund. Ere the bat hath flown\r\n",
      "His cloister'd flight, ere to black Hecate's summons\r\n",
      "The shard-born beetle, with his drowsy hums,\r\n",
      "Hath rung night's yawning peal, there shall be done\r\n",
      "A deed of dreadful note.\r\n",
      "\r\n",
      "LADY MACBETH.\r\n",
      "What's to be done?\r\n",
      "\r\n",
      "MACBETH.\r\n",
      "Be innocent of the knowledge, dearest chuck,\r\n",
      "Till thou applaud the deed. Come, seeling night,\r\n",
      "Scarf up the tender eye of pitiful day,\r\n",
      "And with thy bloody and invisible hand\r\n",
      "Cancel and tear to pieces that great bond\r\n",
      "Which keeps me pale!—Light thickens; and the crow\r\n",
      "Makes wing to th' rooky wood.\r\n",
      "Good things of day begin to droop and drowse,\r\n",
      "Whiles night's black agents to their preys do rouse.\r\n",
      "Thou marvell'st at my words: but hold thee still;\r\n",
      "Things bad begun make strong themselves by ill.\r\n",
      "So, pr'ythee, go with me.\r\n",
      "\r\n",
      " [_Exeunt._]\r\n",
      "\r\n",
      "SCENE III. The same. A Park or Lawn, with a gate leading to the Palace.\r\n",
      "\r\n",
      " Enter three Murderers.\r\n",
      "\r\n",
      "FIRST MURDERER.\r\n",
      "But who did bid thee join with us?\r\n",
      "\r\n",
      "THIRD MURDERER.\r\n",
      "Macbeth.\r\n",
      "\r\n",
      "SECOND MURDERER.\r\n",
      "He needs not our mistrust; since he delivers\r\n",
      "Our offices and what we have to do\r\n",
      "To the direction just.\r\n",
      "\r\n",
      "FIRST MURDERER.\r\n",
      "Then stand with us.\r\n",
      "The west yet glimmers with some streaks of day.\r\n",
      "Now spurs the lated traveller apace,\r\n",
      "To gain the timely inn; and near approaches\r\n",
      "The subject of our watch.\r\n",
      "\r\n",
      "THIRD MURDERER.\r\n",
      "Hark! I hear horses.\r\n",
      "\r\n",
      "BANQUO.\r\n",
      "[_Within._] Give us a light there, ho!\r\n",
      "\r\n",
      "SECOND MURDERER.\r\n",
      "Then 'tis he; the rest\r\n",
      "That are within the note of expectation\r\n",
      "Already are i' th' court.\r\n",
      "\r\n",
      "FIRST MURDERER.\r\n",
      "His horses go about.\r\n",
      "\r\n",
      "THIRD MURDERER.\r\n",
      "Almost a mile; but he does usually,\r\n",
      "So all men do, from hence to the palace gate\r\n",
      "Make it their walk.\r\n",
      "\r\n",
      " Enter Banquo and Fleance with a torch.\r\n",
      "\r\n",
      "SECOND MURDERER.\r\n",
      "A light, a light!\r\n",
      "\r\n",
      "THIRD MURDERER.\r\n",
      "'Tis he.\r\n",
      "\r\n",
      "FIRST MURDERER.\r\n",
      "Stand to't.\r\n",
      "\r\n",
      "BANQUO.\r\n",
      "It will be rain tonight.\r\n",
      "\r\n",
      "FIRST MURDERER.\r\n",
      "Let it come down.\r\n",
      "\r\n",
      " [_Assaults Banquo._]\r\n",
      "\r\n",
      "BANQUO.\r\n",
      "O, treachery! Fly, good Fleance, fly, fly, fly!\r\n",
      "Thou mayst revenge—O slave!\r\n",
      "\r\n",
      " [_Dies. Fleance escapes._]\r\n",
      "\r\n",
      "THIRD MURDERER.\r\n",
      "Who did strike out the light?\r\n",
      "\r\n",
      "FIRST MURDERER.\r\n",
      "Was't not the way?\r\n",
      "\r\n",
      "THIRD MURDERER.\r\n",
      "There's but one down: the son is fled.\r\n",
      "\r\n",
      "SECOND MURDERER.\r\n",
      "We have lost best half of our affair.\r\n",
      "\r\n",
      "FIRST MURDERER.\r\n",
      "Well, let's away, and say how much is done.\r\n",
      "\r\n",
      " [_Exeunt._]\r\n",
      "\r\n",
      "SCENE IV. The same. A Room of state in the Palace.\r\n",
      "\r\n",
      " A banquet prepared. Enter Macbeth, Lady Macbeth, Ross, Lennox, Lords\r\n",
      " and Attendants.\r\n",
      "\r\n",
      "MACBETH.\r\n",
      "You know your own degrees, sit down. At first\r\n",
      "And last the hearty welcome.\r\n",
      "\r\n",
      "LORDS.\r\n",
      "Thanks to your Majesty.\r\n",
      "\r\n",
      "MACBETH.\r\n",
      "Ourself will mingle with society,\r\n",
      "And play the humble host.\r\n",
      "Our hostess keeps her state; but, in best time,\r\n",
      "We will require her welcome.\r\n",
      "\r\n",
      "LADY MACBETH.\r\n",
      "Pronounce it for me, sir, to all our friends;\r\n",
      "For my heart speaks they are welcome.\r\n",
      "\r\n",
      " Enter first Murderer to the door.\r\n",
      "\r\n",
      "MACBETH.\r\n",
      "See, they encounter thee with their hearts' thanks.\r\n",
      "Both sides are even: here I'll sit i' th' midst.\r\n",
      "\r\n",
      "Be large in mirth; anon we'll drink a measure\r\n",
      "The table round. There's blood upon thy face.\r\n",
      "\r\n",
      "MURDERER.\r\n",
      "'Tis Banquo's then.\r\n",
      "\r\n",
      "MACBETH.\r\n",
      "'Tis better thee without than he within.\r\n",
      "Is he dispatch'd?\r\n",
      "\r\n",
      "MURDERER.\r\n",
      "My lord, his throat is cut. That I did for him.\r\n",
      "\r\n",
      "MACBETH.\r\n",
      "Thou art the best o' th' cut-throats;\r\n",
      "Yet he's good that did the like for Fleance:\r\n",
      "If thou didst it, thou art the nonpareil.\r\n",
      "\r\n",
      "MURDERER.\r\n",
      "Most royal sir,\r\n",
      "Fleance is 'scap'd.\r\n",
      "\r\n",
      "MACBETH.\r\n",
      "Then comes my fit again: I had else been perfect;\r\n",
      "Whole as the marble, founded as the rock,\r\n",
      "As broad and general as the casing air:\r\n",
      "But now I am cabin'd, cribb'd, confin'd, bound in\r\n",
      "To saucy doubts and fears. But Banquo's safe?\r\n",
      "\r\n",
      "MURDERER.\r\n",
      "Ay, my good lord. Safe in a ditch he bides,\r\n",
      "With twenty trenched gashes on his head;\r\n",
      "The least a death to nature.\r\n",
      "\r\n",
      "MACBETH.\r\n",
      "Thanks for that.\r\n",
      "There the grown serpent lies; the worm that's fled\r\n",
      "Hath nature that in time will venom breed,\r\n",
      "No teeth for th' present.—Get thee gone; tomorrow\r\n",
      "We'll hear, ourselves, again.\r\n",
      "\r\n",
      " [_Exit Murderer._]\r\n",
      "\r\n",
      "LADY MACBETH.\r\n",
      "My royal lord,\r\n",
      "You do not give the cheer: the feast is sold\r\n",
      "That is not often vouch'd, while 'tis a-making,\r\n",
      "'Tis given with welcome. To feed were best at home;\r\n",
      "From thence the sauce to meat is ceremony;\r\n",
      "Meeting were bare without it.\r\n",
      "\r\n",
      " The Ghost of Banquo rises, and sits in Macbeth's place.\r\n",
      "\r\n",
      "MACBETH.\r\n",
      "Sweet remembrancer!—\r\n",
      "Now, good digestion wait on appetite,\r\n",
      "And health on both!\r\n",
      "\r\n",
      "LENNOX.\r\n",
      "May't please your Highness sit.\r\n",
      "\r\n",
      "MACBETH.\r\n",
      "Here had we now our country's honour roof'd,\r\n",
      "Were the grac'd person of our Banquo present;\r\n",
      "Who may I rather challenge for unkindness\r\n",
      "Than pity for mischance!\r\n",
      "\r\n",
      "ROSS.\r\n",
      "His absence, sir,\r\n",
      "Lays blame upon his promise. Please't your Highness\r\n",
      "To grace us with your royal company?\r\n",
      "\r\n",
      "MACBETH.\r\n",
      "The table's full.\r\n",
      "\r\n",
      "LENNOX.\r\n",
      "Here is a place reserv'd, sir.\r\n",
      "\r\n",
      "MACBETH.\r\n",
      "Where?\r\n",
      "\r\n",
      "LENNOX.\r\n",
      "Here, my good lord. What is't that moves your Highness?\r\n",
      "\r\n",
      "MACBETH.\r\n",
      "Which of you have done this?\r\n",
      "\r\n",
      "LORDS.\r\n",
      "What, my good lord?\r\n",
      "\r\n",
      "MACBETH.\r\n",
      "Thou canst not say I did it. Never shake\r\n",
      "Thy gory locks at me.\r\n",
      "\r\n",
      "ROSS.\r\n",
      "Gentlemen, rise; his Highness is not well.\r\n",
      "\r\n",
      "LADY MACBETH.\r\n",
      "Sit, worthy friends. My lord is often thus,\r\n",
      "And hath been from his youth: pray you, keep seat;\r\n",
      "The fit is momentary; upon a thought\r\n",
      "He will again be well. If much you note him,\r\n",
      "You shall offend him, and extend his passion.\r\n",
      "Feed, and regard him not.—Are you a man?\r\n",
      "\r\n",
      "MACBETH.\r\n",
      "Ay, and a bold one, that dare look on that\r\n",
      "Which might appal the devil.\r\n",
      "\r\n",
      "LADY MACBETH.\r\n",
      "O proper stuff!\r\n",
      "This is the very painting of your fear:\r\n",
      "This is the air-drawn dagger which you said,\r\n",
      "Led you to Duncan. O, these flaws, and starts\r\n",
      "(Impostors to true fear), would well become\r\n",
      "A woman's story at a winter's fire,\r\n",
      "Authoris'd by her grandam. Shame itself!\r\n",
      "Why do you make such faces? When all's done,\r\n",
      "You look but on a stool.\r\n",
      "\r\n",
      "MACBETH.\r\n",
      "Pr'ythee, see there!\r\n",
      "Behold! look! lo! how say you?\r\n",
      "Why, what care I? If thou canst nod, speak too.—\r\n",
      "If charnel houses and our graves must send\r\n",
      "Those that we bury back, our monuments\r\n",
      "Shall be the maws of kites.\r\n",
      "\r\n",
      " [_Ghost disappears._]\r\n",
      "\r\n",
      "LADY MACBETH.\r\n",
      "What, quite unmann'd in folly?\r\n",
      "\r\n",
      "MACBETH.\r\n",
      "If I stand here, I saw him.\r\n",
      "\r\n",
      "LADY MACBETH.\r\n",
      "Fie, for shame!\r\n",
      "\r\n",
      "MACBETH.\r\n",
      "Blood hath been shed ere now, i' th' olden time,\r\n",
      "Ere humane statute purg'd the gentle weal;\r\n",
      "Ay, and since too, murders have been perform'd\r\n",
      "Too terrible for the ear: the time has been,\r\n",
      "That, when the brains were out, the man would die,\r\n",
      "And there an end; but now they rise again,\r\n",
      "With twenty mortal murders on their crowns,\r\n",
      "And push us from our stools. This is more strange\r\n",
      "Than such a murder is.\r\n",
      "\r\n",
      "LADY MACBETH.\r\n",
      "My worthy lord,\r\n",
      "Your noble friends do lack you.\r\n",
      "\r\n",
      "MACBETH.\r\n",
      "I do forget.—\r\n",
      "Do not muse at me, my most worthy friends.\r\n",
      "I have a strange infirmity, which is nothing\r\n",
      "To those that know me. Come, love and health to all;\r\n",
      "Then I'll sit down.—Give me some wine, fill full.—\r\n",
      "I drink to the general joy o' th' whole table,\r\n",
      "And to our dear friend Banquo, whom we miss:\r\n",
      "Would he were here.\r\n",
      "\r\n",
      " Ghost rises again.\r\n",
      "\r\n",
      "To all, and him, we thirst,\r\n",
      "And all to all.\r\n",
      "\r\n",
      "LORDS.\r\n",
      "Our duties, and the pledge.\r\n",
      "\r\n",
      "MACBETH.\r\n",
      "Avaunt! and quit my sight! let the earth hide thee!\r\n",
      "Thy bones are marrowless, thy blood is cold;\r\n",
      "Thou hast no speculation in those eyes\r\n",
      "Which thou dost glare with!\r\n",
      "\r\n",
      "LADY MACBETH.\r\n",
      "Think of this, good peers,\r\n",
      "But as a thing of custom: 'tis no other,\r\n",
      "Only it spoils the pleasure of the time.\r\n",
      "\r\n",
      "MACBETH.\r\n",
      "What man dare, I dare:\r\n",
      "Approach thou like the rugged Russian bear,\r\n",
      "The arm'd rhinoceros, or th' Hyrcan tiger;\r\n",
      "Take any shape but that, and my firm nerves\r\n",
      "Shall never tremble: or be alive again,\r\n",
      "And dare me to the desert with thy sword;\r\n",
      "If trembling I inhabit then, protest me\r\n",
      "The baby of a girl. Hence, horrible shadow!\r\n",
      "Unreal mock'ry, hence!\r\n",
      "\r\n",
      " [_Ghost disappears._]\r\n",
      "\r\n",
      "Why, so;—being gone,\r\n",
      "I am a man again.—Pray you, sit still.\r\n",
      "\r\n",
      "LADY MACBETH.\r\n",
      "You have displaced the mirth, broke the good meeting\r\n",
      "With most admir'd disorder.\r\n",
      "\r\n",
      "MACBETH.\r\n",
      "Can such things be,\r\n",
      "And overcome us like a summer's cloud,\r\n",
      "Without our special wonder? You make me strange\r\n",
      "Even to the disposition that I owe,\r\n",
      "When now I think you can behold such sights,\r\n",
      "And keep the natural ruby of your cheeks,\r\n",
      "When mine are blanch'd with fear.\r\n",
      "\r\n",
      "ROSS.\r\n",
      "What sights, my lord?\r\n",
      "\r\n",
      "LADY MACBETH.\r\n",
      "I pray you, speak not; he grows worse and worse;\r\n",
      "Question enrages him. At once, good night:—\r\n",
      "Stand not upon the order of your going,\r\n",
      "But go at once.\r\n",
      "\r\n",
      "LENNOX.\r\n",
      "Good night; and better health\r\n",
      "Attend his Majesty!\r\n",
      "\r\n",
      "LADY MACBETH.\r\n",
      "A kind good night to all!\r\n",
      "\r\n",
      " [_Exeunt all Lords and Atendants._]\r\n",
      "\r\n",
      "MACBETH.\r\n",
      "It will have blood, they say, blood will have blood.\r\n",
      "Stones have been known to move, and trees to speak;\r\n",
      "Augurs, and understood relations, have\r\n",
      "By magot-pies, and choughs, and rooks, brought forth\r\n",
      "The secret'st man of blood.—What is the night?\r\n",
      "\r\n",
      "LADY MACBETH.\r\n",
      "Almost at odds with morning, which is which.\r\n",
      "\r\n",
      "MACBETH.\r\n",
      "How say'st thou, that Macduff denies his person\r\n",
      "At our great bidding?\r\n",
      "\r\n",
      "LADY MACBETH.\r\n",
      "Did you send to him, sir?\r\n",
      "\r\n",
      "MACBETH.\r\n",
      "I hear it by the way; but I will send.\r\n",
      "There's not a one of them but in his house\r\n",
      "I keep a servant fee'd. I will tomorrow\r\n",
      "(And betimes I will) to the Weird Sisters:\r\n",
      "More shall they speak; for now I am bent to know,\r\n",
      "By the worst means, the worst. For mine own good,\r\n",
      "All causes shall give way: I am in blood\r\n",
      "Stepp'd in so far that, should I wade no more,\r\n",
      "Returning were as tedious as go o'er.\r\n",
      "Strange things I have in head, that will to hand,\r\n",
      "Which must be acted ere they may be scann'd.\r\n",
      "\r\n",
      "LADY MACBETH.\r\n",
      "You lack the season of all natures, sleep.\r\n",
      "\r\n",
      "MACBETH.\r\n",
      "Come, we'll to sleep. My strange and self-abuse\r\n",
      "Is the initiate fear that wants hard use.\r\n",
      "We are yet but young in deed.\r\n",
      "\r\n",
      " [_Exeunt._]\r\n",
      "\r\n",
      "SCENE V. The heath.\r\n",
      "\r\n",
      " Thunder. Enter the three Witches meeting Hecate.\r\n",
      "\r\n",
      "FIRST WITCH.\r\n",
      "Why, how now, Hecate? you look angerly.\r\n",
      "\r\n",
      "HECATE.\r\n",
      "Have I not reason, beldams as you are,\r\n",
      "Saucy and overbold? How did you dare\r\n",
      "To trade and traffic with Macbeth\r\n",
      "In riddles and affairs of death;\r\n",
      "And I, the mistress of your charms,\r\n",
      "The close contriver of all harms,\r\n",
      "Was never call'd to bear my part,\r\n",
      "Or show the glory of our art?\r\n",
      "And, which is worse, all you have done\r\n",
      "Hath been but for a wayward son,\r\n",
      "Spiteful and wrathful; who, as others do,\r\n",
      "Loves for his own ends, not for you.\r\n",
      "But make amends now: get you gone,\r\n",
      "And at the pit of Acheron\r\n",
      "Meet me i' th' morning: thither he\r\n",
      "Will come to know his destiny.\r\n",
      "Your vessels and your spells provide,\r\n",
      "Your charms, and everything beside.\r\n",
      "I am for th' air; this night I'll spend\r\n",
      "Unto a dismal and a fatal end.\r\n",
      "Great business must be wrought ere noon.\r\n",
      "Upon the corner of the moon\r\n",
      "There hangs a vap'rous drop profound;\r\n",
      "I'll catch it ere it come to ground:\r\n",
      "And that, distill'd by magic sleights,\r\n",
      "Shall raise such artificial sprites,\r\n",
      "As, by the strength of their illusion,\r\n",
      "Shall draw him on to his confusion.\r\n",
      "He shall spurn fate, scorn death, and bear\r\n",
      "His hopes 'bove wisdom, grace, and fear.\r\n",
      "And you all know, security\r\n",
      "Is mortals' chiefest enemy.\r\n",
      "\r\n",
      " [_Music and song within, \"Come away, come away\" &c._]\r\n",
      "\r\n",
      "Hark! I am call'd; my little spirit, see,\r\n",
      "Sits in a foggy cloud and stays for me.\r\n",
      "\r\n",
      " [_Exit._]\r\n",
      "\r\n",
      "FIRST WITCH.\r\n",
      "Come, let's make haste; she'll soon be back again.\r\n",
      "\r\n",
      " [_Exeunt._]\r\n",
      "\r\n",
      "SCENE VI. Forres. A Room in the Palace.\r\n",
      "\r\n",
      " Enter Lennox and another Lord.\r\n",
      "\r\n",
      "LENNOX.\r\n",
      "My former speeches have but hit your thoughts,\r\n",
      "Which can interpret farther: only, I say,\r\n",
      "Thing's have been strangely borne. The gracious Duncan\r\n",
      "Was pitied of Macbeth:—marry, he was dead:—\r\n",
      "And the right valiant Banquo walk'd too late;\r\n",
      "Whom, you may say, if't please you, Fleance kill'd,\r\n",
      "For Fleance fled. Men must not walk too late.\r\n",
      "Who cannot want the thought, how monstrous\r\n",
      "It was for Malcolm and for Donalbain\r\n",
      "To kill their gracious father? damned fact!\r\n",
      "How it did grieve Macbeth! did he not straight,\r\n",
      "In pious rage, the two delinquents tear\r\n",
      "That were the slaves of drink and thralls of sleep?\r\n",
      "Was not that nobly done? Ay, and wisely too;\r\n",
      "For 'twould have anger'd any heart alive,\r\n",
      "To hear the men deny't. So that, I say,\r\n",
      "He has borne all things well: and I do think,\r\n",
      "That had he Duncan's sons under his key\r\n",
      "(As, and't please heaven, he shall not) they should find\r\n",
      "What 'twere to kill a father; so should Fleance.\r\n",
      "But, peace!—for from broad words, and 'cause he fail'd\r\n",
      "His presence at the tyrant's feast, I hear,\r\n",
      "Macduff lives in disgrace. Sir, can you tell\r\n",
      "Where he bestows himself?\r\n",
      "\r\n",
      "LORD.\r\n",
      "The son of Duncan,\r\n",
      "From whom this tyrant holds the due of birth,\r\n",
      "Lives in the English court and is receiv'd\r\n",
      "Of the most pious Edward with such grace\r\n",
      "That the malevolence of fortune nothing\r\n",
      "Takes from his high respect. Thither Macduff\r\n",
      "Is gone to pray the holy king, upon his aid\r\n",
      "To wake Northumberland, and warlike Siward\r\n",
      "That, by the help of these (with Him above\r\n",
      "To ratify the work), we may again\r\n",
      "Give to our tables meat, sleep to our nights;\r\n",
      "Free from our feasts and banquets bloody knives,\r\n",
      "Do faithful homage, and receive free honours,\r\n",
      "All which we pine for now. And this report\r\n",
      "Hath so exasperate the King that he\r\n",
      "Prepares for some attempt of war.\r\n",
      "\r\n",
      "LENNOX.\r\n",
      "Sent he to Macduff?\r\n",
      "\r\n",
      "LORD.\r\n",
      "He did: and with an absolute \"Sir, not I,\"\r\n",
      "The cloudy messenger turns me his back,\r\n",
      "And hums, as who should say, \"You'll rue the time\r\n",
      "That clogs me with this answer.\"\r\n",
      "\r\n",
      "LENNOX.\r\n",
      "And that well might\r\n",
      "Advise him to a caution, t' hold what distance\r\n",
      "His wisdom can provide. Some holy angel\r\n",
      "Fly to the court of England, and unfold\r\n",
      "His message ere he come, that a swift blessing\r\n",
      "May soon return to this our suffering country\r\n",
      "Under a hand accurs'd!\r\n",
      "\r\n",
      "LORD.\r\n",
      "I'll send my prayers with him.\r\n",
      "\r\n",
      " [_Exeunt._]\r\n",
      "\r\n",
      "\r\n",
      "ACT IV\r\n",
      "\r\n",
      "SCENE I. A dark Cave. In the middle, a Cauldron Boiling.\r\n",
      "\r\n",
      " Thunder. Enter the three Witches.\r\n",
      "\r\n",
      "FIRST WITCH.\r\n",
      "Thrice the brinded cat hath mew'd.\r\n",
      "\r\n",
      "SECOND WITCH.\r\n",
      "Thrice, and once the hedge-pig whin'd.\r\n",
      "\r\n",
      "THIRD WITCH.\r\n",
      "Harpier cries:—'Tis time, 'tis time.\r\n",
      "\r\n",
      "FIRST WITCH.\r\n",
      "Round about the cauldron go;\r\n",
      "In the poison'd entrails throw.—\r\n",
      "Toad, that under cold stone\r\n",
      "Days and nights has thirty-one\r\n",
      "Swelter'd venom sleeping got,\r\n",
      "Boil thou first i' th' charmed pot!\r\n",
      "\r\n",
      "ALL.\r\n",
      "Double, double, toil and trouble;\r\n",
      "Fire, burn; and cauldron, bubble.\r\n",
      "\r\n",
      "SECOND WITCH.\r\n",
      "Fillet of a fenny snake,\r\n",
      "In the cauldron boil and bake;\r\n",
      "Eye of newt, and toe of frog,\r\n",
      "Wool of bat, and tongue of dog,\r\n",
      "Adder's fork, and blind-worm's sting,\r\n",
      "Lizard's leg, and howlet's wing,\r\n",
      "For a charm of powerful trouble,\r\n",
      "Like a hell-broth boil and bubble.\r\n",
      "\r\n",
      "ALL.\r\n",
      "Double, double, toil and trouble;\r\n",
      "Fire, burn; and cauldron, bubble.\r\n",
      "\r\n",
      "THIRD WITCH.\r\n",
      "Scale of dragon, tooth of wolf,\r\n",
      "Witch's mummy, maw and gulf\r\n",
      "Of the ravin'd salt-sea shark,\r\n",
      "Root of hemlock digg'd i' th' dark,\r\n",
      "Liver of blaspheming Jew,\r\n",
      "Gall of goat, and slips of yew\r\n",
      "Sliver'd in the moon's eclipse,\r\n",
      "Nose of Turk, and Tartar's lips,\r\n",
      "Finger of birth-strangled babe\r\n",
      "Ditch-deliver'd by a drab,\r\n",
      "Make the gruel thick and slab:\r\n",
      "Add thereto a tiger's chaudron,\r\n",
      "For th' ingredients of our cauldron.\r\n",
      "\r\n",
      "ALL.\r\n",
      "Double, double, toil and trouble;\r\n",
      "Fire, burn; and cauldron, bubble.\r\n",
      "\r\n",
      "SECOND WITCH.\r\n",
      "Cool it with a baboon's blood.\r\n",
      "Then the charm is firm and good.\r\n",
      "\r\n",
      " Enter Hecate.\r\n",
      "\r\n",
      "HECATE.\r\n",
      "O, well done! I commend your pains,\r\n",
      "And everyone shall share i' th' gains.\r\n",
      "And now about the cauldron sing,\r\n",
      "Like elves and fairies in a ring,\r\n",
      "Enchanting all that you put in.\r\n",
      "\r\n",
      " [_Music and a song: \"Black Spirits,\" &c._]\r\n",
      "\r\n",
      " [_Exit Hecate._]\r\n",
      "\r\n",
      "SECOND WITCH.\r\n",
      "By the pricking of my thumbs,\r\n",
      "Something wicked this way comes.\r\n",
      "Open, locks,\r\n",
      "Whoever knocks!\r\n",
      "\r\n",
      " Enter Macbeth.\r\n",
      "\r\n",
      "MACBETH.\r\n",
      "How now, you secret, black, and midnight hags!\r\n",
      "What is't you do?\r\n",
      "\r\n",
      "ALL.\r\n",
      "A deed without a name.\r\n",
      "\r\n",
      "MACBETH.\r\n",
      "I conjure you, by that which you profess,\r\n",
      "(Howe'er you come to know it) answer me:\r\n",
      "Though you untie the winds, and let them fight\r\n",
      "Against the churches; though the yesty waves\r\n",
      "Confound and swallow navigation up;\r\n",
      "Though bladed corn be lodg'd, and trees blown down;\r\n",
      "Though castles topple on their warders' heads;\r\n",
      "Though palaces and pyramids do slope\r\n",
      "Their heads to their foundations; though the treasure\r\n",
      "Of nature's germens tumble all together,\r\n",
      "Even till destruction sicken, answer me\r\n",
      "To what I ask you.\r\n",
      "\r\n",
      "FIRST WITCH.\r\n",
      "Speak.\r\n",
      "\r\n",
      "SECOND WITCH.\r\n",
      "Demand.\r\n",
      "\r\n",
      "THIRD WITCH.\r\n",
      "We'll answer.\r\n",
      "\r\n",
      "FIRST WITCH.\r\n",
      "Say, if thou'dst rather hear it from our mouths,\r\n",
      "Or from our masters?\r\n",
      "\r\n",
      "MACBETH.\r\n",
      "Call 'em, let me see 'em.\r\n",
      "\r\n",
      "FIRST WITCH.\r\n",
      "Pour in sow's blood, that hath eaten\r\n",
      "Her nine farrow; grease that's sweaten\r\n",
      "From the murderer's gibbet throw\r\n",
      "Into the flame.\r\n",
      "\r\n",
      "ALL.\r\n",
      "Come, high or low;\r\n",
      "Thyself and office deftly show!\r\n",
      "\r\n",
      " [_Thunder. An Apparition of an armed Head rises._]\r\n",
      "\r\n",
      "MACBETH.\r\n",
      "Tell me, thou unknown power,—\r\n",
      "\r\n",
      "FIRST WITCH.\r\n",
      "He knows thy thought:\r\n",
      "Hear his speech, but say thou naught.\r\n",
      "\r\n",
      "APPARITION.\r\n",
      "Macbeth! Macbeth! Macbeth! Beware Macduff;\r\n",
      "Beware the Thane of Fife.—Dismiss me.—Enough.\r\n",
      "\r\n",
      " [_Descends._]\r\n",
      "\r\n",
      "MACBETH.\r\n",
      "Whate'er thou art, for thy good caution, thanks;\r\n",
      "Thou hast harp'd my fear aright.—But one word more.\r\n",
      "\r\n",
      "FIRST WITCH.\r\n",
      "He will not be commanded. Here's another,\r\n",
      "More potent than the first.\r\n",
      "\r\n",
      " [_Thunder. An Apparition of a bloody Child rises._]\r\n",
      "\r\n",
      "APPARITION.\r\n",
      "Macbeth! Macbeth! Macbeth!\r\n",
      "\r\n",
      "MACBETH.\r\n",
      "Had I three ears, I'd hear thee.\r\n",
      "\r\n",
      "APPARITION.\r\n",
      "Be bloody, bold, and resolute. Laugh to scorn\r\n",
      "The power of man, for none of woman born\r\n",
      "Shall harm Macbeth.\r\n",
      "\r\n",
      " [_Descends._]\r\n",
      "\r\n",
      "MACBETH.\r\n",
      "Then live, Macduff: what need I fear of thee?\r\n",
      "But yet I'll make assurance double sure,\r\n",
      "And take a bond of fate. Thou shalt not live;\r\n",
      "That I may tell pale-hearted fear it lies,\r\n",
      "And sleep in spite of thunder.\r\n",
      "\r\n",
      " [_Thunder. An Apparition of a Child crowned, with a tree in his hand,\r\n",
      " rises._]\r\n",
      "\r\n",
      "What is this,\r\n",
      "That rises like the issue of a king,\r\n",
      "And wears upon his baby brow the round\r\n",
      "And top of sovereignty?\r\n",
      "\r\n",
      "ALL.\r\n",
      "Listen, but speak not to't.\r\n",
      "\r\n",
      "APPARITION.\r\n",
      "Be lion-mettled, proud, and take no care\r\n",
      "Who chafes, who frets, or where conspirers are:\r\n",
      "Macbeth shall never vanquish'd be, until\r\n",
      "Great Birnam wood to high Dunsinane hill\r\n",
      "Shall come against him.\r\n",
      "\r\n",
      " [_Descends._]\r\n",
      "\r\n",
      "MACBETH.\r\n",
      "That will never be:\r\n",
      "Who can impress the forest; bid the tree\r\n",
      "Unfix his earth-bound root? Sweet bodements, good!\r\n",
      "Rebellious head, rise never till the wood\r\n",
      "Of Birnam rise, and our high-plac'd Macbeth\r\n",
      "Shall live the lease of nature, pay his breath\r\n",
      "To time and mortal custom.—Yet my heart\r\n",
      "Throbs to know one thing: tell me, if your art\r\n",
      "Can tell so much, shall Banquo's issue ever\r\n",
      "Reign in this kingdom?\r\n",
      "\r\n",
      "ALL.\r\n",
      "Seek to know no more.\r\n",
      "\r\n",
      "MACBETH.\r\n",
      "I will be satisfied: deny me this,\r\n",
      "And an eternal curse fall on you! Let me know.\r\n",
      "Why sinks that cauldron? and what noise is this?\r\n",
      "\r\n",
      " [_Hautboys._]\r\n",
      "\r\n",
      "FIRST WITCH.\r\n",
      "Show!\r\n",
      "\r\n",
      "SECOND WITCH.\r\n",
      "Show!\r\n",
      "\r\n",
      "THIRD WITCH.\r\n",
      "Show!\r\n",
      "\r\n",
      "ALL.\r\n",
      "Show his eyes, and grieve his heart;\r\n",
      "Come like shadows, so depart!\r\n",
      "\r\n",
      " [_A show of eight kings appear, and pass over in order, the last with\r\n",
      " a glass in his hand; Banquo following._]\r\n",
      "\r\n",
      "MACBETH.\r\n",
      "Thou are too like the spirit of Banquo. Down!\r\n",
      "Thy crown does sear mine eyeballs:—and thy hair,\r\n",
      "Thou other gold-bound brow, is like the first.\r\n",
      "A third is like the former.—Filthy hags!\r\n",
      "Why do you show me this?—A fourth!—Start, eyes!\r\n",
      "What, will the line stretch out to th' crack of doom?\r\n",
      "Another yet!—A seventh!—I'll see no more:—\r\n",
      "And yet the eighth appears, who bears a glass\r\n",
      "Which shows me many more; and some I see\r\n",
      "That twofold balls and treble sceptres carry.\r\n",
      "Horrible sight!—Now I see 'tis true;\r\n",
      "For the blood-bolter'd Banquo smiles upon me,\r\n",
      "And points at them for his.—What! is this so?\r\n",
      "\r\n",
      "FIRST WITCH.\r\n",
      "Ay, sir, all this is so:—but why\r\n",
      "Stands Macbeth thus amazedly?—\r\n",
      "Come, sisters, cheer we up his sprites,\r\n",
      "And show the best of our delights.\r\n",
      "I'll charm the air to give a sound,\r\n",
      "While you perform your antic round;\r\n",
      "That this great king may kindly say,\r\n",
      "Our duties did his welcome pay.\r\n",
      "\r\n",
      " [_Music. The Witches dance, and vanish._]\r\n",
      "\r\n",
      "MACBETH.\r\n",
      "Where are they? Gone?—Let this pernicious hour\r\n",
      "Stand aye accursed in the calendar!—\r\n",
      "Come in, without there!\r\n",
      "\r\n",
      " Enter Lennox.\r\n",
      "\r\n",
      "LENNOX.\r\n",
      "What's your Grace's will?\r\n",
      "\r\n",
      "MACBETH.\r\n",
      "Saw you the Weird Sisters?\r\n",
      "\r\n",
      "LENNOX.\r\n",
      "No, my lord.\r\n",
      "\r\n",
      "MACBETH.\r\n",
      "Came they not by you?\r\n",
      "\r\n",
      "LENNOX.\r\n",
      "No, indeed, my lord.\r\n",
      "\r\n",
      "MACBETH.\r\n",
      "Infected be the air whereon they ride;\r\n",
      "And damn'd all those that trust them!—I did hear\r\n",
      "The galloping of horse: who was't came by?\r\n",
      "\r\n",
      "LENNOX.\r\n",
      "'Tis two or three, my lord, that bring you word\r\n",
      "Macduff is fled to England.\r\n",
      "\r\n",
      "MACBETH.\r\n",
      "Fled to England!\r\n",
      "\r\n",
      "LENNOX.\r\n",
      "Ay, my good lord.\r\n",
      "\r\n",
      "MACBETH.\r\n",
      "Time, thou anticipat'st my dread exploits:\r\n",
      "The flighty purpose never is o'ertook\r\n",
      "Unless the deed go with it. From this moment\r\n",
      "The very firstlings of my heart shall be\r\n",
      "The firstlings of my hand. And even now,\r\n",
      "To crown my thoughts with acts, be it thought and done:\r\n",
      "The castle of Macduff I will surprise;\r\n",
      "Seize upon Fife; give to th' edge o' th' sword\r\n",
      "His wife, his babes, and all unfortunate souls\r\n",
      "That trace him in his line. No boasting like a fool;\r\n",
      "This deed I'll do before this purpose cool:\r\n",
      "But no more sights!—Where are these gentlemen?\r\n",
      "Come, bring me where they are.\r\n",
      "\r\n",
      " [_Exeunt._]\r\n",
      "\r\n",
      "SCENE II. Fife. A Room in Macduff's Castle.\r\n",
      "\r\n",
      " Enter Lady Macduff her Son and Ross.\r\n",
      "\r\n",
      "LADY MACDUFF.\r\n",
      "What had he done, to make him fly the land?\r\n",
      "\r\n",
      "ROSS.\r\n",
      "You must have patience, madam.\r\n",
      "\r\n",
      "LADY MACDUFF.\r\n",
      "He had none:\r\n",
      "His flight was madness: when our actions do not,\r\n",
      "Our fears do make us traitors.\r\n",
      "\r\n",
      "ROSS.\r\n",
      "You know not\r\n",
      "Whether it was his wisdom or his fear.\r\n",
      "\r\n",
      "LADY MACDUFF.\r\n",
      "Wisdom! to leave his wife, to leave his babes,\r\n",
      "His mansion, and his titles, in a place\r\n",
      "From whence himself does fly? He loves us not:\r\n",
      "He wants the natural touch; for the poor wren,\r\n",
      "The most diminutive of birds, will fight,\r\n",
      "Her young ones in her nest, against the owl.\r\n",
      "All is the fear, and nothing is the love;\r\n",
      "As little is the wisdom, where the flight\r\n",
      "So runs against all reason.\r\n",
      "\r\n",
      "ROSS.\r\n",
      "My dearest coz,\r\n",
      "I pray you, school yourself: but, for your husband,\r\n",
      "He is noble, wise, judicious, and best knows\r\n",
      "The fits o' th' season. I dare not speak much further:\r\n",
      "But cruel are the times, when we are traitors,\r\n",
      "And do not know ourselves; when we hold rumour\r\n",
      "From what we fear, yet know not what we fear,\r\n",
      "But float upon a wild and violent sea\r\n",
      "Each way and move—I take my leave of you:\r\n",
      "Shall not be long but I'll be here again.\r\n",
      "Things at the worst will cease, or else climb upward\r\n",
      "To what they were before.—My pretty cousin,\r\n",
      "Blessing upon you!\r\n",
      "\r\n",
      "LADY MACDUFF.\r\n",
      "Father'd he is, and yet he's fatherless.\r\n",
      "\r\n",
      "ROSS.\r\n",
      "I am so much a fool, should I stay longer,\r\n",
      "It would be my disgrace and your discomfort:\r\n",
      "I take my leave at once.\r\n",
      "\r\n",
      " [_Exit._]\r\n",
      "\r\n",
      "LADY MACDUFF.\r\n",
      "Sirrah, your father's dead.\r\n",
      "And what will you do now? How will you live?\r\n",
      "\r\n",
      "SON.\r\n",
      "As birds do, mother.\r\n",
      "\r\n",
      "LADY MACDUFF.\r\n",
      "What, with worms and flies?\r\n",
      "\r\n",
      "SON.\r\n",
      "With what I get, I mean; and so do they.\r\n",
      "\r\n",
      "LADY MACDUFF.\r\n",
      "Poor bird! thou'dst never fear the net nor lime,\r\n",
      "The pit-fall nor the gin.\r\n",
      "\r\n",
      "SON.\r\n",
      "Why should I, mother? Poor birds they are not set for.\r\n",
      "My father is not dead, for all your saying.\r\n",
      "\r\n",
      "LADY MACDUFF.\r\n",
      "Yes, he is dead: how wilt thou do for a father?\r\n",
      "\r\n",
      "SON.\r\n",
      "Nay, how will you do for a husband?\r\n",
      "\r\n",
      "LADY MACDUFF.\r\n",
      "Why, I can buy me twenty at any market.\r\n",
      "\r\n",
      "SON.\r\n",
      "Then you'll buy 'em to sell again.\r\n",
      "\r\n",
      "LADY MACDUFF.\r\n",
      "Thou speak'st with all thy wit;\r\n",
      "And yet, i' faith, with wit enough for thee.\r\n",
      "\r\n",
      "SON.\r\n",
      "Was my father a traitor, mother?\r\n",
      "\r\n",
      "LADY MACDUFF.\r\n",
      "Ay, that he was.\r\n",
      "\r\n",
      "SON.\r\n",
      "What is a traitor?\r\n",
      "\r\n",
      "LADY MACDUFF.\r\n",
      "Why, one that swears and lies.\r\n",
      "\r\n",
      "SON.\r\n",
      "And be all traitors that do so?\r\n",
      "\r\n",
      "LADY MACDUFF.\r\n",
      "Every one that does so is a traitor, and must be hanged.\r\n",
      "\r\n",
      "SON.\r\n",
      "And must they all be hanged that swear and lie?\r\n",
      "\r\n",
      "LADY MACDUFF.\r\n",
      "Every one.\r\n",
      "\r\n",
      "SON.\r\n",
      "Who must hang them?\r\n",
      "\r\n",
      "LADY MACDUFF.\r\n",
      "Why, the honest men.\r\n",
      "\r\n",
      "SON.\r\n",
      "Then the liars and swearers are fools: for there are liars and swearers\r\n",
      "enow to beat the honest men and hang up them.\r\n",
      "\r\n",
      "LADY MACDUFF.\r\n",
      "Now, God help thee, poor monkey! But how wilt thou do for a father?\r\n",
      "\r\n",
      "SON.\r\n",
      "If he were dead, you'ld weep for him: if you would not, it were a good\r\n",
      "sign that I should quickly have a new father.\r\n",
      "\r\n",
      "LADY MACDUFF.\r\n",
      "Poor prattler, how thou talk'st!\r\n",
      "\r\n",
      " Enter a Messenger.\r\n",
      "\r\n",
      "MESSENGER.\r\n",
      "Bless you, fair dame! I am not to you known,\r\n",
      "Though in your state of honour I am perfect.\r\n",
      "I doubt some danger does approach you nearly:\r\n",
      "If you will take a homely man's advice,\r\n",
      "Be not found here; hence, with your little ones.\r\n",
      "To fright you thus, methinks, I am too savage;\r\n",
      "To do worse to you were fell cruelty,\r\n",
      "Which is too nigh your person. Heaven preserve you!\r\n",
      "I dare abide no longer.\r\n",
      "\r\n",
      " [_Exit._]\r\n",
      "\r\n",
      "LADY MACDUFF.\r\n",
      "Whither should I fly?\r\n",
      "I have done no harm. But I remember now\r\n",
      "I am in this earthly world, where to do harm\r\n",
      "Is often laudable; to do good sometime\r\n",
      "Accounted dangerous folly:  why then, alas,\r\n",
      "Do I put up that womanly defence,\r\n",
      "To say I have done no harm? What are these faces?\r\n",
      "\r\n",
      " Enter Murderers.\r\n",
      "\r\n",
      "FIRST MURDERER.\r\n",
      "Where is your husband?\r\n",
      "\r\n",
      "LADY MACDUFF.\r\n",
      "I hope, in no place so unsanctified\r\n",
      "Where such as thou mayst find him.\r\n",
      "\r\n",
      "FIRST MURDERER.\r\n",
      "He's a traitor.\r\n",
      "\r\n",
      "SON.\r\n",
      "Thou liest, thou shag-ear'd villain!\r\n",
      "\r\n",
      "FIRST MURDERER.\r\n",
      "What, you egg!\r\n",
      "\r\n",
      " [_Stabbing him._]\r\n",
      "\r\n",
      "Young fry of treachery!\r\n",
      "\r\n",
      "SON.\r\n",
      "He has kill'd me, mother:\r\n",
      "Run away, I pray you!\r\n",
      "\r\n",
      " [_Dies. Exit Lady Macduff, crying \"Murder!\" and pursued by the\r\n",
      " Murderers._]\r\n",
      "\r\n",
      "SCENE III. England. Before the King's Palace.\r\n",
      "\r\n",
      " Enter Malcolm and Macduff.\r\n",
      "\r\n",
      "MALCOLM.\r\n",
      "Let us seek out some desolate shade and there\r\n",
      "Weep our sad bosoms empty.\r\n",
      "\r\n",
      "MACDUFF.\r\n",
      "Let us rather\r\n",
      "Hold fast the mortal sword, and, like good men,\r\n",
      "Bestride our down-fall'n birthdom. Each new morn\r\n",
      "New widows howl, new orphans cry; new sorrows\r\n",
      "Strike heaven on the face, that it resounds\r\n",
      "As if it felt with Scotland, and yell'd out\r\n",
      "Like syllable of dolour.\r\n",
      "\r\n",
      "MALCOLM.\r\n",
      "What I believe, I'll wail;\r\n",
      "What know, believe; and what I can redress,\r\n",
      "As I shall find the time to friend, I will.\r\n",
      "What you have spoke, it may be so, perchance.\r\n",
      "This tyrant, whose sole name blisters our tongues,\r\n",
      "Was once thought honest: you have loved him well;\r\n",
      "He hath not touch'd you yet. I am young; but something\r\n",
      "You may deserve of him through me; and wisdom\r\n",
      "To offer up a weak, poor, innocent lamb\r\n",
      "To appease an angry god.\r\n",
      "\r\n",
      "MACDUFF.\r\n",
      "I am not treacherous.\r\n",
      "\r\n",
      "MALCOLM.\r\n",
      "But Macbeth is.\r\n",
      "A good and virtuous nature may recoil\r\n",
      "In an imperial charge. But I shall crave your pardon.\r\n",
      "That which you are, my thoughts cannot transpose.\r\n",
      "Angels are bright still, though the brightest fell:\r\n",
      "Though all things foul would wear the brows of grace,\r\n",
      "Yet grace must still look so.\r\n",
      "\r\n",
      "MACDUFF.\r\n",
      "I have lost my hopes.\r\n",
      "\r\n",
      "MALCOLM.\r\n",
      "Perchance even there where I did find my doubts.\r\n",
      "Why in that rawness left you wife and child,\r\n",
      "Those precious motives, those strong knots of love,\r\n",
      "Without leave-taking?—I pray you,\r\n",
      "Let not my jealousies be your dishonours,\r\n",
      "But mine own safeties. You may be rightly just,\r\n",
      "Whatever I shall think.\r\n",
      "\r\n",
      "MACDUFF.\r\n",
      "Bleed, bleed, poor country!\r\n",
      "Great tyranny, lay thou thy basis sure,\r\n",
      "For goodness dare not check thee! wear thou thy wrongs;\r\n",
      "The title is affeer'd.—Fare thee well, lord:\r\n",
      "I would not be the villain that thou think'st\r\n",
      "For the whole space that's in the tyrant's grasp\r\n",
      "And the rich East to boot.\r\n",
      "\r\n",
      "MALCOLM.\r\n",
      "Be not offended:\r\n",
      "I speak not as in absolute fear of you.\r\n",
      "I think our country sinks beneath the yoke;\r\n",
      "It weeps, it bleeds; and each new day a gash\r\n",
      "Is added to her wounds. I think, withal,\r\n",
      "There would be hands uplifted in my right;\r\n",
      "And here, from gracious England, have I offer\r\n",
      "Of goodly thousands: but, for all this,\r\n",
      "When I shall tread upon the tyrant's head,\r\n",
      "Or wear it on my sword, yet my poor country\r\n",
      "Shall have more vices than it had before,\r\n",
      "More suffer, and more sundry ways than ever,\r\n",
      "By him that shall succeed.\r\n",
      "\r\n",
      "MACDUFF.\r\n",
      "What should he be?\r\n",
      "\r\n",
      "MALCOLM.\r\n",
      "It is myself I mean; in whom I know\r\n",
      "All the particulars of vice so grafted\r\n",
      "That, when they shall be open'd, black Macbeth\r\n",
      "Will seem as pure as snow; and the poor state\r\n",
      "Esteem him as a lamb, being compar'd\r\n",
      "With my confineless harms.\r\n",
      "\r\n",
      "MACDUFF.\r\n",
      "Not in the legions\r\n",
      "Of horrid hell can come a devil more damn'd\r\n",
      "In evils to top Macbeth.\r\n",
      "\r\n",
      "MALCOLM.\r\n",
      "I grant him bloody,\r\n",
      "Luxurious, avaricious, false, deceitful,\r\n",
      "Sudden, malicious, smacking of every sin\r\n",
      "That has a name: but there's no bottom, none,\r\n",
      "In my voluptuousness: your wives, your daughters,\r\n",
      "Your matrons, and your maids, could not fill up\r\n",
      "The cistern of my lust; and my desire\r\n",
      "All continent impediments would o'erbear,\r\n",
      "That did oppose my will: better Macbeth\r\n",
      "Than such an one to reign.\r\n",
      "\r\n",
      "MACDUFF.\r\n",
      "Boundless intemperance\r\n",
      "In nature is a tyranny; it hath been\r\n",
      "Th' untimely emptying of the happy throne,\r\n",
      "And fall of many kings. But fear not yet\r\n",
      "To take upon you what is yours: you may\r\n",
      "Convey your pleasures in a spacious plenty,\r\n",
      "And yet seem cold—the time you may so hoodwink.\r\n",
      "We have willing dames enough; there cannot be\r\n",
      "That vulture in you, to devour so many\r\n",
      "As will to greatness dedicate themselves,\r\n",
      "Finding it so inclin'd.\r\n",
      "\r\n",
      "MALCOLM.\r\n",
      "With this there grows\r\n",
      "In my most ill-compos'd affection such\r\n",
      "A staunchless avarice, that, were I king,\r\n",
      "I should cut off the nobles for their lands;\r\n",
      "Desire his jewels, and this other's house:\r\n",
      "And my more-having would be as a sauce\r\n",
      "To make me hunger more; that I should forge\r\n",
      "Quarrels unjust against the good and loyal,\r\n",
      "Destroying them for wealth.\r\n",
      "\r\n",
      "MACDUFF.\r\n",
      "This avarice\r\n",
      "Sticks deeper; grows with more pernicious root\r\n",
      "Than summer-seeming lust; and it hath been\r\n",
      "The sword of our slain kings: yet do not fear;\r\n",
      "Scotland hath foisons to fill up your will,\r\n",
      "Of your mere own. All these are portable,\r\n",
      "With other graces weigh'd.\r\n",
      "\r\n",
      "MALCOLM.\r\n",
      "But I have none: the king-becoming graces,\r\n",
      "As justice, verity, temp'rance, stableness,\r\n",
      "Bounty, perseverance, mercy, lowliness,\r\n",
      "Devotion, patience, courage, fortitude,\r\n",
      "I have no relish of them; but abound\r\n",
      "In the division of each several crime,\r\n",
      "Acting it many ways. Nay, had I power, I should\r\n",
      "Pour the sweet milk of concord into hell,\r\n",
      "Uproar the universal peace, confound\r\n",
      "All unity on earth.\r\n",
      "\r\n",
      "MACDUFF.\r\n",
      "O Scotland, Scotland!\r\n",
      "\r\n",
      "MALCOLM.\r\n",
      "If such a one be fit to govern, speak:\r\n",
      "I am as I have spoken.\r\n",
      "\r\n",
      "MACDUFF.\r\n",
      "Fit to govern?\r\n",
      "No, not to live.—O nation miserable,\r\n",
      "With an untitled tyrant bloody-scepter'd,\r\n",
      "When shalt thou see thy wholesome days again,\r\n",
      "Since that the truest issue of thy throne\r\n",
      "By his own interdiction stands accus'd,\r\n",
      "And does blaspheme his breed? Thy royal father\r\n",
      "Was a most sainted king. The queen that bore thee,\r\n",
      "Oft'ner upon her knees than on her feet,\r\n",
      "Died every day she lived. Fare thee well!\r\n",
      "These evils thou repeat'st upon thyself\r\n",
      "Have banish'd me from Scotland.—O my breast,\r\n",
      "Thy hope ends here!\r\n",
      "\r\n",
      "MALCOLM.\r\n",
      "Macduff, this noble passion,\r\n",
      "Child of integrity, hath from my soul\r\n",
      "Wiped the black scruples, reconcil'd my thoughts\r\n",
      "To thy good truth and honour. Devilish Macbeth\r\n",
      "By many of these trains hath sought to win me\r\n",
      "Into his power, and modest wisdom plucks me\r\n",
      "From over-credulous haste: but God above\r\n",
      "Deal between thee and me! for even now\r\n",
      "I put myself to thy direction, and\r\n",
      "Unspeak mine own detraction; here abjure\r\n",
      "The taints and blames I laid upon myself,\r\n",
      "For strangers to my nature. I am yet\r\n",
      "Unknown to woman; never was forsworn;\r\n",
      "Scarcely have coveted what was mine own;\r\n",
      "At no time broke my faith; would not betray\r\n",
      "The devil to his fellow; and delight\r\n",
      "No less in truth than life: my first false speaking\r\n",
      "Was this upon myself. What I am truly,\r\n",
      "Is thine and my poor country's to command:\r\n",
      "Whither, indeed, before thy here-approach,\r\n",
      "Old Siward, with ten thousand warlike men,\r\n",
      "Already at a point, was setting forth.\r\n",
      "Now we'll together, and the chance of goodness\r\n",
      "Be like our warranted quarrel. Why are you silent?\r\n",
      "\r\n",
      "MACDUFF.\r\n",
      "Such welcome and unwelcome things at once\r\n",
      "'Tis hard to reconcile.\r\n",
      "\r\n",
      " Enter a Doctor.\r\n",
      "\r\n",
      "MALCOLM.\r\n",
      "Well; more anon.—Comes the King forth, I pray you?\r\n",
      "\r\n",
      "DOCTOR.\r\n",
      "Ay, sir. There are a crew of wretched souls\r\n",
      "That stay his cure: their malady convinces\r\n",
      "The great assay of art; but at his touch,\r\n",
      "Such sanctity hath heaven given his hand,\r\n",
      "They presently amend.\r\n",
      "\r\n",
      "MALCOLM.\r\n",
      "I thank you, doctor.\r\n",
      "\r\n",
      " [_Exit Doctor._]\r\n",
      "\r\n",
      "MACDUFF.\r\n",
      "What's the disease he means?\r\n",
      "\r\n",
      "MALCOLM.\r\n",
      "'Tis call'd the evil:\r\n",
      "A most miraculous work in this good king;\r\n",
      "Which often, since my here-remain in England,\r\n",
      "I have seen him do. How he solicits heaven,\r\n",
      "Himself best knows, but strangely-visited people,\r\n",
      "All swoln and ulcerous, pitiful to the eye,\r\n",
      "The mere despair of surgery, he cures;\r\n",
      "Hanging a golden stamp about their necks,\r\n",
      "Put on with holy prayers: and 'tis spoken,\r\n",
      "To the succeeding royalty he leaves\r\n",
      "The healing benediction. With this strange virtue,\r\n",
      "He hath a heavenly gift of prophecy;\r\n",
      "And sundry blessings hang about his throne,\r\n",
      "That speak him full of grace.\r\n",
      "\r\n",
      " Enter Ross.\r\n",
      "\r\n",
      "MACDUFF.\r\n",
      "See, who comes here?\r\n",
      "\r\n",
      "MALCOLM.\r\n",
      "My countryman; but yet I know him not.\r\n",
      "\r\n",
      "MACDUFF.\r\n",
      "My ever-gentle cousin, welcome hither.\r\n",
      "\r\n",
      "MALCOLM.\r\n",
      "I know him now. Good God, betimes remove\r\n",
      "The means that makes us strangers!\r\n",
      "\r\n",
      "ROSS.\r\n",
      "Sir, amen.\r\n",
      "\r\n",
      "MACDUFF.\r\n",
      "Stands Scotland where it did?\r\n",
      "\r\n",
      "ROSS.\r\n",
      "Alas, poor country,\r\n",
      "Almost afraid to know itself! It cannot\r\n",
      "Be call'd our mother, but our grave, where nothing,\r\n",
      "But who knows nothing, is once seen to smile;\r\n",
      "Where sighs, and groans, and shrieks, that rent the air,\r\n",
      "Are made, not mark'd; where violent sorrow seems\r\n",
      "A modern ecstasy. The dead man's knell\r\n",
      "Is there scarce ask'd for who; and good men's lives\r\n",
      "Expire before the flowers in their caps,\r\n",
      "Dying or ere they sicken.\r\n",
      "\r\n",
      "MACDUFF.\r\n",
      "O, relation\r\n",
      "Too nice, and yet too true!\r\n",
      "\r\n",
      "MALCOLM.\r\n",
      "What's the newest grief?\r\n",
      "\r\n",
      "ROSS.\r\n",
      "That of an hour's age doth hiss the speaker;\r\n",
      "Each minute teems a new one.\r\n",
      "\r\n",
      "MACDUFF.\r\n",
      "How does my wife?\r\n",
      "\r\n",
      "ROSS.\r\n",
      "Why, well.\r\n",
      "\r\n",
      "MACDUFF.\r\n",
      "And all my children?\r\n",
      "\r\n",
      "ROSS.\r\n",
      "Well too.\r\n",
      "\r\n",
      "MACDUFF.\r\n",
      "The tyrant has not batter'd at their peace?\r\n",
      "\r\n",
      "ROSS.\r\n",
      "No; they were well at peace when I did leave 'em.\r\n",
      "\r\n",
      "MACDUFF.\r\n",
      "Be not a niggard of your speech: how goes't?\r\n",
      "\r\n",
      "ROSS.\r\n",
      "When I came hither to transport the tidings,\r\n",
      "Which I have heavily borne, there ran a rumour\r\n",
      "Of many worthy fellows that were out;\r\n",
      "Which was to my belief witness'd the rather,\r\n",
      "For that I saw the tyrant's power afoot.\r\n",
      "Now is the time of help. Your eye in Scotland\r\n",
      "Would create soldiers, make our women fight,\r\n",
      "To doff their dire distresses.\r\n",
      "\r\n",
      "MALCOLM.\r\n",
      "Be't their comfort\r\n",
      "We are coming thither. Gracious England hath\r\n",
      "Lent us good Siward and ten thousand men;\r\n",
      "An older and a better soldier none\r\n",
      "That Christendom gives out.\r\n",
      "\r\n",
      "ROSS.\r\n",
      "Would I could answer\r\n",
      "This comfort with the like! But I have words\r\n",
      "That would be howl'd out in the desert air,\r\n",
      "Where hearing should not latch them.\r\n",
      "\r\n",
      "MACDUFF.\r\n",
      "What concern they?\r\n",
      "The general cause? or is it a fee-grief\r\n",
      "Due to some single breast?\r\n",
      "\r\n",
      "ROSS.\r\n",
      "No mind that's honest\r\n",
      "But in it shares some woe, though the main part\r\n",
      "Pertains to you alone.\r\n",
      "\r\n",
      "MACDUFF.\r\n",
      "If it be mine,\r\n",
      "Keep it not from me, quickly let me have it.\r\n",
      "\r\n",
      "ROSS.\r\n",
      "Let not your ears despise my tongue for ever,\r\n",
      "Which shall possess them with the heaviest sound\r\n",
      "That ever yet they heard.\r\n",
      "\r\n",
      "MACDUFF.\r\n",
      "Humh! I guess at it.\r\n",
      "\r\n",
      "ROSS.\r\n",
      "Your castle is surpris'd; your wife and babes\r\n",
      "Savagely slaughter'd. To relate the manner\r\n",
      "Were, on the quarry of these murder'd deer,\r\n",
      "To add the death of you.\r\n",
      "\r\n",
      "MALCOLM.\r\n",
      "Merciful heaven!—\r\n",
      "What, man! ne'er pull your hat upon your brows.\r\n",
      "Give sorrow words. The grief that does not speak\r\n",
      "Whispers the o'er-fraught heart, and bids it break.\r\n",
      "\r\n",
      "MACDUFF.\r\n",
      "My children too?\r\n",
      "\r\n",
      "ROSS.\r\n",
      "Wife, children, servants, all\r\n",
      "That could be found.\r\n",
      "\r\n",
      "MACDUFF.\r\n",
      "And I must be from thence!\r\n",
      "My wife kill'd too?\r\n",
      "\r\n",
      "ROSS.\r\n",
      "I have said.\r\n",
      "\r\n",
      "MALCOLM.\r\n",
      "Be comforted:\r\n",
      "Let's make us med'cines of our great revenge,\r\n",
      "To cure this deadly grief.\r\n",
      "\r\n",
      "MACDUFF.\r\n",
      "He has no children.—All my pretty ones?\r\n",
      "Did you say all?—O hell-kite!—All?\r\n",
      "What, all my pretty chickens and their dam\r\n",
      "At one fell swoop?\r\n",
      "\r\n",
      "MALCOLM.\r\n",
      "Dispute it like a man.\r\n",
      "\r\n",
      "MACDUFF.\r\n",
      "I shall do so;\r\n",
      "But I must also feel it as a man:\r\n",
      "I cannot but remember such things were,\r\n",
      "That were most precious to me.—Did heaven look on,\r\n",
      "And would not take their part? Sinful Macduff,\r\n",
      "They were all struck for thee! Naught that I am,\r\n",
      "Not for their own demerits, but for mine,\r\n",
      "Fell slaughter on their souls: heaven rest them now!\r\n",
      "\r\n",
      "MALCOLM.\r\n",
      "Be this the whetstone of your sword. Let grief\r\n",
      "Convert to anger; blunt not the heart, enrage it.\r\n",
      "\r\n",
      "MACDUFF.\r\n",
      "O, I could play the woman with mine eyes,\r\n",
      "And braggart with my tongue!—But, gentle heavens,\r\n",
      "Cut short all intermission; front to front,\r\n",
      "Bring thou this fiend of Scotland and myself;\r\n",
      "Within my sword's length set him; if he 'scape,\r\n",
      "Heaven forgive him too!\r\n",
      "\r\n",
      "MALCOLM.\r\n",
      "This tune goes manly.\r\n",
      "Come, go we to the King. Our power is ready;\r\n",
      "Our lack is nothing but our leave. Macbeth\r\n",
      "Is ripe for shaking, and the powers above\r\n",
      "Put on their instruments. Receive what cheer you may;\r\n",
      "The night is long that never finds the day.\r\n",
      "\r\n",
      " [_Exeunt._]\r\n",
      "\r\n",
      "\r\n",
      "ACT V\r\n",
      "\r\n",
      "SCENE I. Dunsinane. A Room in the Castle.\r\n",
      "\r\n",
      " Enter a Doctor of Physic and a Waiting-Gentlewoman.\r\n",
      "\r\n",
      "DOCTOR.\r\n",
      "I have two nights watched with you, but can perceive no truth in your\r\n",
      "report. When was it she last walked?\r\n",
      "\r\n",
      "GENTLEWOMAN.\r\n",
      "Since his Majesty went into the field, I have seen her rise from her\r\n",
      "bed, throw her nightgown upon her, unlock her closet, take forth paper,\r\n",
      "fold it, write upon't, read it, afterwards seal it, and again return to\r\n",
      "bed; yet all this while in a most fast sleep.\r\n",
      "\r\n",
      "DOCTOR.\r\n",
      "A great perturbation in nature, to receive at once the benefit of\r\n",
      "sleep, and do the effects of watching. In this slumbery agitation,\r\n",
      "besides her walking and other actual performances, what, at any time,\r\n",
      "have you heard her say?\r\n",
      "\r\n",
      "GENTLEWOMAN.\r\n",
      "That, sir, which I will not report after her.\r\n",
      "\r\n",
      "DOCTOR.\r\n",
      "You may to me; and 'tis most meet you should.\r\n",
      "\r\n",
      "GENTLEWOMAN.\r\n",
      "Neither to you nor anyone; having no witness to confirm my speech.\r\n",
      "\r\n",
      " Enter Lady Macbeth with a taper.\r\n",
      "\r\n",
      "Lo you, here she comes! This is her very guise; and, upon my life, fast\r\n",
      "asleep. Observe her; stand close.\r\n",
      "\r\n",
      "DOCTOR.\r\n",
      "How came she by that light?\r\n",
      "\r\n",
      "GENTLEWOMAN.\r\n",
      "Why, it stood by her: she has light by her continually; 'tis her\r\n",
      "command.\r\n",
      "\r\n",
      "DOCTOR.\r\n",
      "You see, her eyes are open.\r\n",
      "\r\n",
      "GENTLEWOMAN.\r\n",
      "Ay, but their sense are shut.\r\n",
      "\r\n",
      "DOCTOR.\r\n",
      "What is it she does now? Look how she rubs her hands.\r\n",
      "\r\n",
      "GENTLEWOMAN.\r\n",
      "It is an accustomed action with her, to seem thus washing her hands. I\r\n",
      "have known her continue in this a quarter of an hour.\r\n",
      "\r\n",
      "LADY MACBETH.\r\n",
      "Yet here's a spot.\r\n",
      "\r\n",
      "DOCTOR.\r\n",
      "Hark, she speaks. I will set down what comes from her, to satisfy my\r\n",
      "remembrance the more strongly.\r\n",
      "\r\n",
      "LADY MACBETH.\r\n",
      "Out, damned spot! out, I say! One; two. Why, then 'tis time to do't.\r\n",
      "Hell is murky! Fie, my lord, fie! a soldier, and afeard? What need we\r\n",
      "fear who knows it, when none can call our power to account? Yet who\r\n",
      "would have thought the old man to have had so much blood in him?\r\n",
      "\r\n",
      "DOCTOR.\r\n",
      "Do you mark that?\r\n",
      "\r\n",
      "LADY MACBETH.\r\n",
      "The Thane of Fife had a wife. Where is she now?—What, will these hands\r\n",
      "ne'er be clean? No more o' that, my lord, no more o' that: you mar all\r\n",
      "with this starting.\r\n",
      "\r\n",
      "DOCTOR.\r\n",
      "Go to, go to. You have known what you should not.\r\n",
      "\r\n",
      "GENTLEWOMAN.\r\n",
      "She has spoke what she should not, I am sure of that: heaven knows what\r\n",
      "she has known.\r\n",
      "\r\n",
      "LADY MACBETH.\r\n",
      "Here's the smell of the blood still: all the perfumes of Arabia will\r\n",
      "not sweeten this little hand. Oh, oh, oh!\r\n",
      "\r\n",
      "DOCTOR.\r\n",
      "What a sigh is there! The heart is sorely charged.\r\n",
      "\r\n",
      "GENTLEWOMAN.\r\n",
      "I would not have such a heart in my bosom for the dignity of the whole\r\n",
      "body.\r\n",
      "\r\n",
      "DOCTOR.\r\n",
      "Well, well, well.\r\n",
      "\r\n",
      "GENTLEWOMAN.\r\n",
      "Pray God it be, sir.\r\n",
      "\r\n",
      "DOCTOR.\r\n",
      "This disease is beyond my practice: yet I have known those which have\r\n",
      "walked in their sleep, who have died holily in their beds.\r\n",
      "\r\n",
      "LADY MACBETH.\r\n",
      "Wash your hands, put on your nightgown; look not so pale. I tell you\r\n",
      "yet again, Banquo's buried; he cannot come out on's grave.\r\n",
      "\r\n",
      "DOCTOR.\r\n",
      "Even so?\r\n",
      "\r\n",
      "LADY MACBETH.\r\n",
      "To bed, to bed. There's knocking at the gate. Come, come, come, come,\r\n",
      "give me your hand. What's done cannot be undone. To bed, to bed, to\r\n",
      "bed.\r\n",
      "\r\n",
      " [_Exit._]\r\n",
      "\r\n",
      "DOCTOR.\r\n",
      "Will she go now to bed?\r\n",
      "\r\n",
      "GENTLEWOMAN.\r\n",
      "Directly.\r\n",
      "\r\n",
      "DOCTOR.\r\n",
      "Foul whisp'rings are abroad. Unnatural deeds\r\n",
      "Do breed unnatural troubles: infected minds\r\n",
      "To their deaf pillows will discharge their secrets.\r\n",
      "More needs she the divine than the physician.—\r\n",
      "God, God, forgive us all! Look after her;\r\n",
      "Remove from her the means of all annoyance,\r\n",
      "And still keep eyes upon her. So, good night:\r\n",
      "My mind she has mated, and amaz'd my sight.\r\n",
      "I think, but dare not speak.\r\n",
      "\r\n",
      "GENTLEWOMAN.\r\n",
      "Good night, good doctor.\r\n",
      "\r\n",
      " [_Exeunt._]\r\n",
      "\r\n",
      "SCENE II. The Country near Dunsinane.\r\n",
      "\r\n",
      " Enter, with drum and colours Menteith, Caithness, Angus, Lennox and\r\n",
      " Soldiers.\r\n",
      "\r\n",
      "MENTEITH.\r\n",
      "The English power is near, led on by Malcolm,\r\n",
      "His uncle Siward, and the good Macduff.\r\n",
      "Revenges burn in them; for their dear causes\r\n",
      "Would to the bleeding and the grim alarm\r\n",
      "Excite the mortified man.\r\n",
      "\r\n",
      "ANGUS.\r\n",
      "Near Birnam wood\r\n",
      "Shall we well meet them. That way are they coming.\r\n",
      "\r\n",
      "CAITHNESS.\r\n",
      "Who knows if Donalbain be with his brother?\r\n",
      "\r\n",
      "LENNOX.\r\n",
      "For certain, sir, he is not. I have a file\r\n",
      "Of all the gentry: there is Siward's son\r\n",
      "And many unrough youths, that even now\r\n",
      "Protest their first of manhood.\r\n",
      "\r\n",
      "MENTEITH.\r\n",
      "What does the tyrant?\r\n",
      "\r\n",
      "CAITHNESS.\r\n",
      "Great Dunsinane he strongly fortifies.\r\n",
      "Some say he's mad; others, that lesser hate him,\r\n",
      "Do call it valiant fury: but, for certain,\r\n",
      "He cannot buckle his distemper'd cause\r\n",
      "Within the belt of rule.\r\n",
      "\r\n",
      "ANGUS.\r\n",
      "Now does he feel\r\n",
      "His secret murders sticking on his hands;\r\n",
      "Now minutely revolts upbraid his faith-breach;\r\n",
      "Those he commands move only in command,\r\n",
      "Nothing in love: now does he feel his title\r\n",
      "Hang loose about him, like a giant's robe\r\n",
      "Upon a dwarfish thief.\r\n",
      "\r\n",
      "MENTEITH.\r\n",
      "Who, then, shall blame\r\n",
      "His pester'd senses to recoil and start,\r\n",
      "When all that is within him does condemn\r\n",
      "Itself for being there?\r\n",
      "\r\n",
      "CAITHNESS.\r\n",
      "Well, march we on,\r\n",
      "To give obedience where 'tis truly ow'd:\r\n",
      "Meet we the med'cine of the sickly weal;\r\n",
      "And with him pour we, in our country's purge,\r\n",
      "Each drop of us.\r\n",
      "\r\n",
      "LENNOX.\r\n",
      "Or so much as it needs\r\n",
      "To dew the sovereign flower, and drown the weeds.\r\n",
      "Make we our march towards Birnam.\r\n",
      "\r\n",
      " [_Exeunt, marching._]\r\n",
      "\r\n",
      "SCENE III. Dunsinane. A Room in the Castle.\r\n",
      "\r\n",
      " Enter Macbeth, Doctor and Attendants.\r\n",
      "\r\n",
      "MACBETH.\r\n",
      "Bring me no more reports; let them fly all:\r\n",
      "Till Birnam wood remove to Dunsinane\r\n",
      "I cannot taint with fear. What's the boy Malcolm?\r\n",
      "Was he not born of woman? The spirits that know\r\n",
      "All mortal consequences have pronounc'd me thus:\r\n",
      "\"Fear not, Macbeth; no man that's born of woman\r\n",
      "Shall e'er have power upon thee.\"—Then fly, false thanes,\r\n",
      "And mingle with the English epicures:\r\n",
      "The mind I sway by, and the heart I bear,\r\n",
      "Shall never sag with doubt nor shake with fear.\r\n",
      "\r\n",
      " Enter a Servant.\r\n",
      "\r\n",
      "The devil damn thee black, thou cream-fac'd loon!\r\n",
      "Where gott'st thou that goose look?\r\n",
      "\r\n",
      "SERVANT.\r\n",
      "There is ten thousand—\r\n",
      "\r\n",
      "MACBETH.\r\n",
      "Geese, villain?\r\n",
      "\r\n",
      "SERVANT.\r\n",
      "Soldiers, sir.\r\n",
      "\r\n",
      "MACBETH.\r\n",
      "Go prick thy face and over-red thy fear,\r\n",
      "Thou lily-liver'd boy. What soldiers, patch?\r\n",
      "Death of thy soul! those linen cheeks of thine\r\n",
      "Are counsellors to fear. What soldiers, whey-face?\r\n",
      "\r\n",
      "SERVANT.\r\n",
      "The English force, so please you.\r\n",
      "\r\n",
      "MACBETH.\r\n",
      "Take thy face hence.\r\n",
      "\r\n",
      " [_Exit Servant._]\r\n",
      "\r\n",
      "Seyton!—I am sick at heart,\r\n",
      "When I behold—Seyton, I say!—This push\r\n",
      "Will cheer me ever or disseat me now.\r\n",
      "I have liv'd long enough: my way of life\r\n",
      "Is fall'n into the sere, the yellow leaf;\r\n",
      "And that which should accompany old age,\r\n",
      "As honour, love, obedience, troops of friends,\r\n",
      "I must not look to have; but, in their stead,\r\n",
      "Curses, not loud but deep, mouth-honour, breath,\r\n",
      "Which the poor heart would fain deny, and dare not.\r\n",
      "Seyton!—\r\n",
      "\r\n",
      " Enter Seyton.\r\n",
      "\r\n",
      "SEYTON.\r\n",
      "What's your gracious pleasure?\r\n",
      "\r\n",
      "MACBETH.\r\n",
      "What news more?\r\n",
      "\r\n",
      "SEYTON.\r\n",
      "All is confirm'd, my lord, which was reported.\r\n",
      "\r\n",
      "MACBETH.\r\n",
      "I'll fight till from my bones my flesh be hack'd.\r\n",
      "Give me my armour.\r\n",
      "\r\n",
      "SEYTON.\r\n",
      "'Tis not needed yet.\r\n",
      "\r\n",
      "MACBETH.\r\n",
      "I'll put it on.\r\n",
      "Send out more horses, skirr the country round;\r\n",
      "Hang those that talk of fear. Give me mine armour.—\r\n",
      "How does your patient, doctor?\r\n",
      "\r\n",
      "DOCTOR.\r\n",
      "Not so sick, my lord,\r\n",
      "As she is troubled with thick-coming fancies,\r\n",
      "That keep her from her rest.\r\n",
      "\r\n",
      "MACBETH.\r\n",
      "Cure her of that:\r\n",
      "Canst thou not minister to a mind diseas'd,\r\n",
      "Pluck from the memory a rooted sorrow,\r\n",
      "Raze out the written troubles of the brain,\r\n",
      "And with some sweet oblivious antidote\r\n",
      "Cleanse the stuff'd bosom of that perilous stuff\r\n",
      "Which weighs upon the heart?\r\n",
      "\r\n",
      "DOCTOR.\r\n",
      "Therein the patient\r\n",
      "Must minister to himself.\r\n",
      "\r\n",
      "MACBETH.\r\n",
      "Throw physic to the dogs, I'll none of it.\r\n",
      "Come, put mine armour on; give me my staff:\r\n",
      "Seyton, send out.—Doctor, the Thanes fly from me.—\r\n",
      "Come, sir, despatch.—If thou couldst, doctor, cast\r\n",
      "The water of my land, find her disease,\r\n",
      "And purge it to a sound and pristine health,\r\n",
      "I would applaud thee to the very echo,\r\n",
      "That should applaud again.—Pull't off, I say.—\r\n",
      "What rhubarb, senna, or what purgative drug,\r\n",
      "Would scour these English hence? Hear'st thou of them?\r\n",
      "\r\n",
      "DOCTOR.\r\n",
      "Ay, my good lord. Your royal preparation\r\n",
      "Makes us hear something.\r\n",
      "\r\n",
      "MACBETH.\r\n",
      "Bring it after me.—\r\n",
      "I will not be afraid of death and bane,\r\n",
      "Till Birnam forest come to Dunsinane.\r\n",
      "\r\n",
      " [_Exeunt all except Doctor._]\r\n",
      "\r\n",
      "DOCTOR.\r\n",
      "Were I from Dunsinane away and clear,\r\n",
      "Profit again should hardly draw me here.\r\n",
      "\r\n",
      " [_Exit._]\r\n",
      "\r\n",
      "SCENE IV. Country near Dunsinane: a Wood in view.\r\n",
      "\r\n",
      " Enter, with drum and colours Malcolm, old Siward and his Son, Macduff,\r\n",
      " Menteith, Caithness, Angus, Lennox, Ross and Soldiers, marching.\r\n",
      "\r\n",
      "MALCOLM.\r\n",
      "Cousins, I hope the days are near at hand\r\n",
      "That chambers will be safe.\r\n",
      "\r\n",
      "MENTEITH.\r\n",
      "We doubt it nothing.\r\n",
      "\r\n",
      "SIWARD.\r\n",
      "What wood is this before us?\r\n",
      "\r\n",
      "MENTEITH.\r\n",
      "The wood of Birnam.\r\n",
      "\r\n",
      "MALCOLM.\r\n",
      "Let every soldier hew him down a bough,\r\n",
      "And bear't before him. Thereby shall we shadow\r\n",
      "The numbers of our host, and make discovery\r\n",
      "Err in report of us.\r\n",
      "\r\n",
      "SOLDIERS.\r\n",
      "It shall be done.\r\n",
      "\r\n",
      "SIWARD.\r\n",
      "We learn no other but the confident tyrant\r\n",
      "Keeps still in Dunsinane, and will endure\r\n",
      "Our setting down before't.\r\n",
      "\r\n",
      "MALCOLM.\r\n",
      "'Tis his main hope;\r\n",
      "For where there is advantage to be given,\r\n",
      "Both more and less have given him the revolt,\r\n",
      "And none serve with him but constrained things,\r\n",
      "Whose hearts are absent too.\r\n",
      "\r\n",
      "MACDUFF.\r\n",
      "Let our just censures\r\n",
      "Attend the true event, and put we on\r\n",
      "Industrious soldiership.\r\n",
      "\r\n",
      "SIWARD.\r\n",
      "The time approaches,\r\n",
      "That will with due decision make us know\r\n",
      "What we shall say we have, and what we owe.\r\n",
      "Thoughts speculative their unsure hopes relate,\r\n",
      "But certain issue strokes must arbitrate;\r\n",
      "Towards which advance the war.\r\n",
      "\r\n",
      " [_Exeunt, marching._]\r\n",
      "\r\n",
      "SCENE V. Dunsinane. Within the castle.\r\n",
      "\r\n",
      " Enter with drum and colours, Macbeth, Seyton and Soldiers.\r\n",
      "\r\n",
      "MACBETH.\r\n",
      "Hang out our banners on the outward walls;\r\n",
      "The cry is still, \"They come!\" Our castle's strength\r\n",
      "Will laugh a siege to scorn: here let them lie\r\n",
      "Till famine and the ague eat them up.\r\n",
      "Were they not forc'd with those that should be ours,\r\n",
      "We might have met them dareful, beard to beard,\r\n",
      "And beat them backward home.\r\n",
      "\r\n",
      " [_A cry of women within._]\r\n",
      "\r\n",
      "What is that noise?\r\n",
      "\r\n",
      "SEYTON.\r\n",
      "It is the cry of women, my good lord.\r\n",
      "\r\n",
      " [_Exit._]\r\n",
      "\r\n",
      "MACBETH.\r\n",
      "I have almost forgot the taste of fears.\r\n",
      "The time has been, my senses would have cool'd\r\n",
      "To hear a night-shriek; and my fell of hair\r\n",
      "Would at a dismal treatise rouse and stir\r\n",
      "As life were in't. I have supp'd full with horrors;\r\n",
      "Direness, familiar to my slaughterous thoughts,\r\n",
      "Cannot once start me.\r\n",
      "\r\n",
      " Enter Seyton.\r\n",
      "\r\n",
      "Wherefore was that cry?\r\n",
      "\r\n",
      "SEYTON.\r\n",
      "The Queen, my lord, is dead.\r\n",
      "\r\n",
      "MACBETH.\r\n",
      "She should have died hereafter.\r\n",
      "There would have been a time for such a word.\r\n",
      "Tomorrow, and tomorrow, and tomorrow,\r\n",
      "Creeps in this petty pace from day to day,\r\n",
      "To the last syllable of recorded time;\r\n",
      "And all our yesterdays have lighted fools\r\n",
      "The way to dusty death. Out, out, brief candle!\r\n",
      "Life's but a walking shadow; a poor player,\r\n",
      "That struts and frets his hour upon the stage,\r\n",
      "And then is heard no more: it is a tale\r\n",
      "Told by an idiot, full of sound and fury,\r\n",
      "Signifying nothing.\r\n",
      "\r\n",
      " Enter a Messenger.\r\n",
      "\r\n",
      "Thou com'st to use thy tongue; thy story quickly.\r\n",
      "\r\n",
      "MESSENGER.\r\n",
      "Gracious my lord,\r\n",
      "I should report that which I say I saw,\r\n",
      "But know not how to do't.\r\n",
      "\r\n",
      "MACBETH.\r\n",
      "Well, say, sir.\r\n",
      "\r\n",
      "MESSENGER.\r\n",
      "As I did stand my watch upon the hill,\r\n",
      "I look'd toward Birnam, and anon, methought,\r\n",
      "The wood began to move.\r\n",
      "\r\n",
      "MACBETH.\r\n",
      "Liar, and slave!\r\n",
      "\r\n",
      "MESSENGER.\r\n",
      "Let me endure your wrath, if't be not so.\r\n",
      "Within this three mile may you see it coming;\r\n",
      "I say, a moving grove.\r\n",
      "\r\n",
      "MACBETH.\r\n",
      "If thou speak'st false,\r\n",
      "Upon the next tree shalt thou hang alive,\r\n",
      "Till famine cling thee: if thy speech be sooth,\r\n",
      "I care not if thou dost for me as much.—\r\n",
      "I pull in resolution; and begin\r\n",
      "To doubt th' equivocation of the fiend,\r\n",
      "That lies like truth. \"Fear not, till Birnam wood\r\n",
      "Do come to Dunsinane;\" and now a wood\r\n",
      "Comes toward Dunsinane.—Arm, arm, and out!—\r\n",
      "If this which he avouches does appear,\r\n",
      "There is nor flying hence nor tarrying here.\r\n",
      "I 'gin to be aweary of the sun,\r\n",
      "And wish th' estate o' th' world were now undone.—\r\n",
      "Ring the alarum bell!—Blow, wind! come, wrack!\r\n",
      "At least we'll die with harness on our back.\r\n",
      "\r\n",
      " [_Exeunt._]\r\n",
      "\r\n",
      "SCENE VI. The same. A Plain before the Castle.\r\n",
      "\r\n",
      " Enter, with drum and colours, Malcolm, old Siward, Macduff and their\r\n",
      " Army, with boughs.\r\n",
      "\r\n",
      "MALCOLM.\r\n",
      "Now near enough. Your leafy screens throw down,\r\n",
      "And show like those you are.—You, worthy uncle,\r\n",
      "Shall with my cousin, your right noble son,\r\n",
      "Lead our first battle: worthy Macduff and we\r\n",
      "Shall take upon's what else remains to do,\r\n",
      "According to our order.\r\n",
      "\r\n",
      "SIWARD.\r\n",
      "Fare you well.—\r\n",
      "Do we but find the tyrant's power tonight,\r\n",
      "Let us be beaten, if we cannot fight.\r\n",
      "\r\n",
      "MACDUFF.\r\n",
      "Make all our trumpets speak; give them all breath,\r\n",
      "Those clamorous harbingers of blood and death.\r\n",
      "\r\n",
      " [_Exeunt._]\r\n",
      "\r\n",
      "SCENE VII. The same. Another part of the Plain.\r\n",
      "\r\n",
      " Alarums. Enter Macbeth.\r\n",
      "\r\n",
      "MACBETH.\r\n",
      "They have tied me to a stake. I cannot fly,\r\n",
      "But, bear-like I must fight the course.—What's he\r\n",
      "That was not born of woman? Such a one\r\n",
      "Am I to fear, or none.\r\n",
      "\r\n",
      " Enter young Siward.\r\n",
      "\r\n",
      "YOUNG SIWARD.\r\n",
      "What is thy name?\r\n",
      "\r\n",
      "MACBETH.\r\n",
      "Thou'lt be afraid to hear it.\r\n",
      "\r\n",
      "YOUNG SIWARD.\r\n",
      "No; though thou call'st thyself a hotter name\r\n",
      "Than any is in hell.\r\n",
      "\r\n",
      "MACBETH.\r\n",
      "My name's Macbeth.\r\n",
      "\r\n",
      "YOUNG SIWARD.\r\n",
      "The devil himself could not pronounce a title\r\n",
      "More hateful to mine ear.\r\n",
      "\r\n",
      "MACBETH.\r\n",
      "No, nor more fearful.\r\n",
      "\r\n",
      "YOUNG SIWARD.\r\n",
      "Thou liest, abhorred tyrant. With my sword\r\n",
      "I'll prove the lie thou speak'st.\r\n",
      "\r\n",
      " [_They fight, and young Siward is slain._]\r\n",
      "\r\n",
      "MACBETH.\r\n",
      "Thou wast born of woman.\r\n",
      "But swords I smile at, weapons laugh to scorn,\r\n",
      "Brandish'd by man that's of a woman born.\r\n",
      "\r\n",
      " [_Exit._]\r\n",
      "\r\n",
      " Alarums. Enter Macduff.\r\n",
      "\r\n",
      "MACDUFF.\r\n",
      "That way the noise is.—Tyrant, show thy face!\r\n",
      "If thou be'st slain and with no stroke of mine,\r\n",
      "My wife and children's ghosts will haunt me still.\r\n",
      "I cannot strike at wretched kerns, whose arms\r\n",
      "Are hired to bear their staves. Either thou, Macbeth,\r\n",
      "Or else my sword, with an unbatter'd edge,\r\n",
      "I sheathe again undeeded. There thou shouldst be;\r\n",
      "By this great clatter, one of greatest note\r\n",
      "Seems bruited. Let me find him, Fortune!\r\n",
      "And more I beg not.\r\n",
      "\r\n",
      " [_Exit. Alarums._]\r\n",
      "\r\n",
      " Enter Malcolm and old Siward.\r\n",
      "\r\n",
      "SIWARD.\r\n",
      "This way, my lord;—the castle's gently render'd:\r\n",
      "The tyrant's people on both sides do fight;\r\n",
      "The noble thanes do bravely in the war,\r\n",
      "The day almost itself professes yours,\r\n",
      "And little is to do.\r\n",
      "\r\n",
      "MALCOLM.\r\n",
      "We have met with foes\r\n",
      "That strike beside us.\r\n",
      "\r\n",
      "SIWARD.\r\n",
      "Enter, sir, the castle.\r\n",
      "\r\n",
      " [_Exeunt. Alarums._]\r\n",
      "\r\n",
      "SCENE VIII. The same. Another part of the field.\r\n",
      "\r\n",
      " Enter Macbeth.\r\n",
      "\r\n",
      "MACBETH.\r\n",
      "Why should I play the Roman fool, and die\r\n",
      "On mine own sword? whiles I see lives, the gashes\r\n",
      "Do better upon them.\r\n",
      "\r\n",
      " Enter Macduff.\r\n",
      "\r\n",
      "MACDUFF.\r\n",
      "Turn, hell-hound, turn!\r\n",
      "\r\n",
      "MACBETH.\r\n",
      "Of all men else I have avoided thee:\r\n",
      "But get thee back; my soul is too much charg'd\r\n",
      "With blood of thine already.\r\n",
      "\r\n",
      "MACDUFF.\r\n",
      "I have no words;\r\n",
      "My voice is in my sword: thou bloodier villain\r\n",
      "Than terms can give thee out!\r\n",
      "\r\n",
      " [_They fight._]\r\n",
      "\r\n",
      "MACBETH.\r\n",
      "Thou losest labour:\r\n",
      "As easy mayst thou the intrenchant air\r\n",
      "With thy keen sword impress, as make me bleed:\r\n",
      "Let fall thy blade on vulnerable crests;\r\n",
      "I bear a charmed life, which must not yield\r\n",
      "To one of woman born.\r\n",
      "\r\n",
      "MACDUFF.\r\n",
      "Despair thy charm;\r\n",
      "And let the angel whom thou still hast serv'd\r\n",
      "Tell thee, Macduff was from his mother's womb\r\n",
      "Untimely ripp'd.\r\n",
      "\r\n",
      "MACBETH.\r\n",
      "Accursed be that tongue that tells me so,\r\n",
      "For it hath cow'd my better part of man!\r\n",
      "And be these juggling fiends no more believ'd,\r\n",
      "That palter with us in a double sense;\r\n",
      "That keep the word of promise to our ear,\r\n",
      "And break it to our hope!—I'll not fight with thee.\r\n",
      "\r\n",
      "MACDUFF.\r\n",
      "Then yield thee, coward,\r\n",
      "And live to be the show and gaze o' th' time.\r\n",
      "We'll have thee, as our rarer monsters are,\r\n",
      "Painted upon a pole, and underwrit,\r\n",
      "\"Here may you see the tyrant.\"\r\n",
      "\r\n",
      "MACBETH.\r\n",
      "I will not yield,\r\n",
      "To kiss the ground before young Malcolm's feet,\r\n",
      "And to be baited with the rabble's curse.\r\n",
      "Though Birnam wood be come to Dunsinane,\r\n",
      "And thou oppos'd, being of no woman born,\r\n",
      "Yet I will try the last. Before my body\r\n",
      "I throw my warlike shield: lay on, Macduff;\r\n",
      "And damn'd be him that first cries, \"Hold, enough!\"\r\n",
      "\r\n",
      " [_Exeunt fighting. Alarums._]\r\n",
      "\r\n",
      " Retreat. Flourish. Enter, with drum and colours, Malcolm, old Siward,\r\n",
      " Ross, Thanes and Soldiers.\r\n",
      "\r\n",
      "MALCOLM.\r\n",
      "I would the friends we miss were safe arriv'd.\r\n",
      "\r\n",
      "SIWARD.\r\n",
      "Some must go off; and yet, by these I see,\r\n",
      "So great a day as this is cheaply bought.\r\n",
      "\r\n",
      "MALCOLM.\r\n",
      "Macduff is missing, and your noble son.\r\n",
      "\r\n",
      "ROSS.\r\n",
      "Your son, my lord, has paid a soldier's debt:\r\n",
      "He only liv'd but till he was a man;\r\n",
      "The which no sooner had his prowess confirm'd\r\n",
      "In the unshrinking station where he fought,\r\n",
      "But like a man he died.\r\n",
      "\r\n",
      "SIWARD.\r\n",
      "Then he is dead?\r\n",
      "\r\n",
      "FLEANCE.\r\n",
      "Ay, and brought off the field. Your cause of sorrow\r\n",
      "Must not be measur'd by his worth, for then\r\n",
      "It hath no end.\r\n",
      "\r\n",
      "SIWARD.\r\n",
      "Had he his hurts before?\r\n",
      "\r\n",
      "ROSS.\r\n",
      "Ay, on the front.\r\n",
      "\r\n",
      "SIWARD.\r\n",
      "Why then, God's soldier be he!\r\n",
      "Had I as many sons as I have hairs,\r\n",
      "I would not wish them to a fairer death:\r\n",
      "And so his knell is knoll'd.\r\n",
      "\r\n",
      "MALCOLM.\r\n",
      "He's worth more sorrow,\r\n",
      "And that I'll spend for him.\r\n",
      "\r\n",
      "SIWARD.\r\n",
      "He's worth no more.\r\n",
      "They say he parted well and paid his score:\r\n",
      "And so, God be with him!—Here comes newer comfort.\r\n",
      "\r\n",
      " Enter Macduff with Macbeth's head.\r\n",
      "\r\n",
      "MACDUFF.\r\n",
      "Hail, King, for so thou art. Behold, where stands\r\n",
      "Th' usurper's cursed head: the time is free.\r\n",
      "I see thee compass'd with thy kingdom's pearl,\r\n",
      "That speak my salutation in their minds;\r\n",
      "Whose voices I desire aloud with mine,—\r\n",
      "Hail, King of Scotland!\r\n",
      "\r\n",
      "ALL.\r\n",
      "Hail, King of Scotland!\r\n",
      "\r\n",
      " [_Flourish._]\r\n",
      "\r\n",
      "MALCOLM.\r\n",
      "We shall not spend a large expense of time\r\n",
      "Before we reckon with your several loves,\r\n",
      "And make us even with you. My thanes and kinsmen,\r\n",
      "Henceforth be earls, the first that ever Scotland\r\n",
      "In such an honour nam'd. What's more to do,\r\n",
      "Which would be planted newly with the time,—\r\n",
      "As calling home our exil'd friends abroad,\r\n",
      "That fled the snares of watchful tyranny;\r\n",
      "Producing forth the cruel ministers\r\n",
      "Of this dead butcher, and his fiend-like queen,\r\n",
      "Who, as 'tis thought, by self and violent hands\r\n",
      "Took off her life;—this, and what needful else\r\n",
      "That calls upon us, by the grace of Grace,\r\n",
      "We will perform in measure, time, and place.\r\n",
      "So thanks to all at once, and to each one,\r\n",
      "Whom we invite to see us crown'd at Scone.\r\n",
      "\r\n",
      " [_Flourish. Exeunt._]\r\n",
      "\r\n",
      "\r\n",
      "\r\n",
      "\r\n",
      "\n"
     ]
    }
   ],
   "source": [
    "print(macbeth)"
   ]
  },
  {
   "cell_type": "markdown",
   "metadata": {},
   "source": [
    "Looks good! But that's a lot of reading to do. And a lot of phrases to count and keep track of. Here's where some Python libraries come into play.\n",
    "\n",
    "## Crunching the text\n",
    "\n",
    "`noun_phrases` will grab groups of words that have been identified as phrases containing nouns. This isn't always 100% correct. English can be a challenging language even for machines, and sometimes the files on [Project Gutenberg](http://www.gutenberg.org) contain errors that make it even harder, but it can usually do a pretty good job.\n",
    "\n",
    "This code cell installs two Python libraries for natural language processing, [textblob](https://textblob.readthedocs.io/en/dev) and [nltk](https://www.nltk.org), then downloads a [corpora data file](http://www.nltk.org/nltk_data) that will allow us to process the text.\n",
    "\n",
    "This may take a while to run. On the left you will see `In [*]:` while it is running. Once it finishes you should see the output printed on the screen."
   ]
  },
  {
   "cell_type": "code",
   "execution_count": 15,
   "metadata": {},
   "outputs": [
    {
     "name": "stderr",
     "output_type": "stream",
     "text": [
      "[nltk_data] Downloading package brown to /home/jupyter/nltk_data...\n",
      "[nltk_data]   Package brown is already up-to-date!\n"
     ]
    },
    {
     "name": "stdout",
     "output_type": "stream",
     "text": [
      "['macbeth', 'william shakespeare contents act', 'scene', 'open place', 'scene ii', 'forres', 'scene iii', 'scene iv', 'forres', 'scene v. inverness', 'macbeth', 'castle', 'scene vi', 'castle', 'scene vii', 'lobby', 'castle', 'act ii scene i. inverness', 'castle', 'scene ii', 'scene iii', 'scene iv', 'castle', 'act iii scene i. forres', 'scene ii', 'scene iii', 'scene iv', 'scene v.', 'scene vi', 'forres', 'act iv scene', 'cave', 'cauldron boiling', 'scene ii', 'fife', 'macduff', 'castle', 'scene iii', 'england', \"king 's palace\", 'act v scene i. dunsinane', 'castle', 'scene ii', 'dunsinane', 'scene iii', 'dunsinane', 'castle', 'scene iv', 'dunsinane', 'wood', 'scene v. dunsinane', 'scene vi', 'plain', 'castle', 'scene vii', 'plain', 'scene viii', 'dramatis personæ duncan', 'scotland', 'malcolm', 'donalbain', 'macbeth', \"king 's army\", 'banquo', \"king 's army\", 'macduff', 'nobleman', 'scotland', 'lennox', 'nobleman', 'scotland', 'ross', 'nobleman', 'scotland', 'menteith', 'nobleman', 'scotland', 'angus', 'nobleman', 'scotland', 'caithness', 'nobleman', 'scotland', 'fleance', 'banquo', 'siward', 'earl', 'northumberland', 'english forces', 'young siward', 'seyton', 'macbeth', 'boy', 'macduff', 'english', 'scottish doctor', 'soldier', 'porter', 'old man', 'lady macbeth', 'lady macduff', 'gentlewoman', 'macbeth', 'hecate', 'witches', 'lords', 'gentlemen', 'officers', 'soldiers', 'murderers', 'attendants', 'messengers', 'ghost', 'banquo', 'apparitions', 'scene', 'fourth', 'england', 'scotland', 'macbeth', 'castle', 'act', 'scene', 'open place', 'thunder', 'lightning', 'enter', 'witches', 'first witch', 'second witch', \"battle 's\", 'third witch', 'first witch', 'second witch', 'upon', 'third witch', 'macbeth', 'first witch', 'graymalkin', 'second witch', 'paddock', 'third witch', 'anon', 'all', 'hover', 'filthy air', '[ _exeunt._ ]', 'scene ii', 'forres', 'alarum', 'enter', 'duncan', 'malcolm', 'donalbain', 'lennox', 'attendants', 'duncan', 'bloody man', 'malcolm', 'who', 'hardy soldier', 'brave friend', 'say', 'thou didst', 'soldier', 'doubtful', 'macdonwald', 'worthy', 'fortune', \"rebel 's whore\", 'macbeth', 'disdaining fortune', \"brandish 'd steel\", \"smok 'd\", 'bloody execution', 'valour', \"'s minion\", \"carv 'd\", 'till', \"fac 'd\", \"ne'er shook hands\", 'bade farewell', 'till', \"unseam 'd\", \"fix 'd\", 'duncan', 'o valiant cousin', 'worthy gentleman', 'soldier', \"sun 'gins\", 'shipwracking', 'direful thunders', 'whence comfort', 'discomfort', 'mark', 'scotland', \"valour arm 'd\", 'compell', 'norweyan', \"furbish 'd arms\", 'new supplies', 'began', 'fresh assault', 'duncan', 'dismay', 'macbeth', 'banquo', 'soldier', 'sparrows eagles', \"cannons overcharg 'd\", 'double cracks', 'doubly', 'golgotha', 'gashes cry', 'duncan', 'thy words', 'thy wounds', 'honour both.—go', '[ _exit captain', 'attended._ ]', 'enter ross', 'angus', 'who', 'malcolm', 'thane', 'ross', 'lennox', 'ross', 'god', 'duncan', 'whence', \"cam'st thou\", 'worthy thane', 'ross', 'fife', 'great king', 'norweyan', 'banners flout', 'norway', 'terrible numbers', 'assisted', 'disloyal traitor', 'thane', 'cawdor', 'dismal conflict', 'till', 'bellona', \"'s bridegroom\", \"lapp 'd\", \"rebellious arm 'gainst arm\", 'curbing', 'lavish spirit', 'duncan', 'great happiness', 'ross', 'sweno', 'norways', 'craves composition', 'till', 'saint colme', 'inch ten', 'general use', 'duncan', 'thane', 'cawdor', 'bosom interest', 'present death', 'macbeth', 'ross', 'duncan', 'macbeth', '[ _exeunt._ ]', 'scene iii', 'thunder', 'enter', 'witches', 'first witch', 'hast thou', 'second witch', 'killing', 'third witch', 'sister', 'first witch', \"sailor 's wife\", \"mounch 'd\", \"mounch 'd\", \"mounch 'd\", 'aroint', 'ronyon cries', \"husband 's\", 'aleppo', 'master o', \"'ll thither sail\", 'second witch', 'first witch', \"th'art\", 'third witch', 'first witch', \"shipman 's card\", 'sleep', 'hang', 'pent-house lid', 'weary', 'shall', 'second witch', 'first witch', \"pilot 's thumb\", 'wrack', '[ _drum within._ ]', 'third witch', 'macbeth', 'all', 'weird sisters', 'posters', 'thrice', \"—the charm 's\", 'enter macbeth', 'banquo', 'macbeth', 'banquo', 'forres', \"wither 'd\", 'inhabitants o', \"o n't\", 'choppy finger', 'upon', 'skinny lips', 'macbeth', 'speak', 'first witch', 'macbeth', 'thane', 'glamis', 'second witch', 'macbeth', 'thane', 'cawdor', 'third witch', 'macbeth', 'king hereafter', 'banquo', 'good sir', 'noble partner', 'present grace', 'great prediction', 'royal hope', 'rapt withal', 'speak', 'your', 'first witch', 'second witch', 'third witch', 'first witch', 'lesser', 'macbeth', 'second witch', 'third witch', 'thou', 'macbeth', 'banquo', 'first witch', 'banquo', 'macbeth', 'macbeth', 'imperfect speakers', 'sinel', \"'s death\", 'thane', 'glamis', 'cawdor', 'thane', 'cawdor', 'prosperous gentleman', 'stands', 'cawdor', 'say', 'strange intelligence', 'upon', 'such prophetic greeting', '[ _witches vanish._ ]', 'banquo', 'earth hath bubbles', 'whither', \"vanish 'd\", 'macbeth', \"'d corporal\", 'melted', 'banquo', 'were', 'such things', 'insane root', 'reason prisoner', 'macbeth', 'your', 'banquo', 'macbeth', 'thane', 'cawdor', 'banquo', 'selfsame tune', 'who', 'enter ross', 'angus', 'ross', 'king hath', \"receiv 'd\", 'macbeth', 'thy success', 'thy', 'personal venture', \"silenc 'd\", 'rest o', 'selfsame day', 'norweyan', 'thyself didst', 'strange', 'came', 'thy', \"kingdom 's\", 'great defence', 'angus', 'royal master thanks', 'herald thee', 'ross', 'thane', 'cawdor', 'worthy thane', 'banquo', 'macbeth', 'thane', 'cawdor', \"borrow 'd robes\", 'angus', 'who', 'thane', 'heavy judgement bears', 'whether', 'norway', \"labour 'd\", \"country 's wrack\", 'treasons capital', \"confess 'd\", \"prov 'd\", 'have', 'macbeth', '[ _aside._ ]', 'glamis', 'thane', 'cawdor', '[ _to', 'ross', 'angus._', 'thanks', '[ _to', 'banquo._', 'thane', 'cawdor', 'promis', 'banquo', 'might', 'thane', 'cawdor', 'win', 'honest trifles', 'deepest consequence.—', 'cousins', 'macbeth', '[ _aside._ ]', 'happy prologues', 'swelling act', 'imperial theme.—i', 'gentlemen.— [ _aside._ ]', 'commencing', 'thane', 'cawdor', 'whose', 'horrid image doth unfix', 'heart knock', 'against', 'present', 'horrible imaginings', 'shakes', \"smother 'd\", 'banquo', \"partner 's\", 'macbeth', '[ _aside._ ]', 'banquo', 'new honours', 'strange garments', 'macbeth', '[ _aside._ ]', 'hour runs', 'roughest day', 'banquo', 'worthy macbeth', 'macbeth', 'dull brain', 'things forgotten', 'kind', \"register 'd\", 'king.— think', \"hath chanc 'd\", 'free hearts', 'banquo', 'macbeth', 'till', '[ _exeunt._ ]', 'scene iv', 'forres', 'flourish', 'enter duncan', 'malcolm', 'donalbain', 'lennox', 'attendants', 'duncan', 'cawdor', \"return 'd\", 'malcolm', \"confess 'd\", 'implor', 'highness', 'deep repentance', 'became', 'dearest thing', 'careless trifle', 'duncan', \"mind 's construction\", 'absolute trust', 'enter macbeth', 'banquo', 'ross', 'angus', 'was', 'thou', 'swiftest wing', 'thou hadst', \"deserv 'd\", 'might', 'macbeth', 'your highness', 'safe', 'duncan', 'welcome', 'banquo', \"deserv 'd\", 'infold thee', 'banquo', 'duncan', 'plenteous joys', 'wanton', 'malcolm', 'name hereafter', 'cumberland', 'inverness', 'macbeth', 'duncan', 'cawdor', 'macbeth', '[ _aside._ ]', 'cumberland', 'deep desires', 'eye wink', 'eye fears', '[ _exit._ ]', 'duncan', 'true', 'banquo', 'whose', 'peerless kinsman', '[ _flourish', 'exeunt._', 'scene v. inverness', 'macbeth', 'castle', 'enter', 'macbeth', 'lady macbeth', \"perfect'st report\", 'mortal knowledge', 'whiles', 'thane', 'cawdor', 'weird sisters', 'dearest partner', \"thou might'st\", \"promis 'd thee\", 'lay', 'thy heart', 'glamis', 'thou art', 'cawdor', \"thou art promis 'd\", 'thy nature', 'full o', 'human kindness', 'thou', 'art', 'thou wouldst', 'wouldst thou', \"thou'dst\", 'glamis', 'thou dost', 'than', 'hie', 'thee hither', 'thine ear', 'impedes thee', 'golden round', 'metaphysical aid doth', \"thee crown 'd withal\", 'enter', 'messenger', 'messenger', 'lady macbeth', \"thou'rt\", 'thy master', 'messenger', 'who', 'than', 'lady macbeth', 'great news', '[ _exit', 'messenger._', 'fatal entrance', 'duncan', 'mortal thoughts', 'direst cruelty', 'stop', 'compunctious visitings', 'shake', 'th', \"woman 's breasts\", 'wherever', 'sightless substances', \"nature 's mischief\", 'thick night', 'dunnest smoke', 'keen knife', 'heaven peep', 'hold', 'enter macbeth', 'glamis', 'cawdor', 'all-hail hereafter', 'thy', 'macbeth', 'duncan', 'lady macbeth', 'macbeth', 'tomorrow', 'lady macbeth', 'shall', 'your', 'may', 'strange matters', 'your', 'innocent flower', \"serpent under't\", \"night 's\", 'great business', 'macbeth', 'lady macbeth', '[ _exeunt._ ]', 'scene vi', 'castle', 'hautboys', 'servants', 'macbeth', 'enter duncan', 'malcolm', 'donalbain', 'banquo', 'lennox', 'macduff', 'ross', 'angus', 'attendants', 'duncan', 'castle hath', 'pleasant seat', 'nimbly', 'unto', 'gentle senses', 'banquo', \"heaven 's breath\", 'smells', 'buttress', 'bird hath', 'pendant bed', 'procreant cradle', 'enter', 'macbeth', 'duncan', \"honour 'd hostess\", 'herein', 'god', 'lady macbeth', 'were', 'against', 'broad wherewith', 'your majesty', \"late dignities heap 'd\", 'duncan', 'thane', 'cawdor', \"cours 'd\", 'hath holp', 'noble hostess', 'lady macbeth', 'your', 'have', 'highness', 'duncan', 'conduct', 'mine host', '[ _exeunt._ ]', 'scene vii', 'lobby', 'castle', 'hautboys', 'enter', 'sewer', 'servants', 'macbeth', 'macbeth', 'surcease success', 'might', 'bloody', 'plague th', 'commends', \"poison 'd chalice\", 'own lips', 'double trust', 'strong', 'who', 'murderer shut', 'duncan hath', 'great office', 'will', 'deep damnation', 'new-born babe', 'striding', \"heaven 's cherubin\", 'upon', 'sightless couriers', 'shall', 'horrid deed', 'vaulting', 'enter', 'macbeth', 'lady macbeth', \"supp 'd\", 'macbeth', 'hath', 'lady macbeth', 'know', 'macbeth', \"hath honour 'd\", 'golden opinions', 'lady macbeth', 'was', 'hope drunk', 'wherein', \"dress 'd\", 'hath', 'account thy', 'art', 'thou afeard', 'own act', 'thou art', 'wouldst', \"thou esteem'st\", 'own esteem', 'letting', 'poor cat i', 'macbeth', \"pr'ythee\", 'who', 'lady macbeth', \"beast was't\", 'be', 'does', \"tender 't\", 'have', \"pluck 'd\", 'boneless gums', \"dash 'd\", 'have', 'macbeth', 'lady macbeth', 'duncan', 'whereto', \"day 's\", 'hard journey', 'soundly', 'will', 'shall', 'swinish sleep', 'natures lie', 'th', 'duncan', 'spongy officers', 'great quell', 'macbeth', 'bring', 'will', \"receiv 'd\", \"mark 'd\", 'own chamber', 'lady macbeth', 'who', 'clamour roar', 'upon', 'macbeth', 'corporal agent', 'terrible feat', 'away', 'fairest show', 'false', 'false heart doth', '[ _exeunt._ ]', 'act ii scene i. inverness', 'castle', 'enter banquo', 'fleance', 'banquo', 'fleance', 'banquo', 'fleance', 'banquo', 'hold', \"sword.—there 's husbandry\", 'heavy summons', 'merciful', 'restrain', 'gives', 'enter macbeth', 'servant', \"sword.—who 's\", 'macbeth', 'banquo', \"king 's\", 'unusual pleasure', 'great largess', 'wife withal', 'kind hostess', 'measureless content', 'macbeth', \"unprepar 'd\", 'banquo', 'weird sisters', \"show 'd\", 'macbeth', 'banquo', \"kind'st leisure\", 'macbeth', 'banquo', \"bosom franchis 'd\", \"counsell 'd\", 'macbeth', 'good repose', 'banquo', 'thanks', '[ _exeunt', 'banquo', 'fleance._', 'macbeth', 'bid thy mistress', '[ _exit', 'servant._', 'clutch thee', 'art', 'fatal vision', 'art thou', 'a dagger', 'false creation', 'proceeding', 'thou', 'mine eyes', 'fools o', 'thy blade', \"before.—there 's\", 'such thing', 'bloody business', \"eyes.—now o'er\", 'nature', 'dreams abuse', \"curtain 'd sleep\", 'witchcraft', 'pale hecate', \"'s off'rings\", \"wither 'd murder\", 'alarum', 'whose', \"howl 's\", 'stealthy pace', 'tarquin', 'moves', 'firm-set earth', 'hear', 'thy', 'stones prate', 'present horror', 'words', 'cold breath', '[ _a bell rings._ ]', 'hear', 'duncan', 'summons thee', '[ _exit._ ]', 'scene ii', 'enter', 'macbeth', 'lady macbeth', 'drunk hath', \"hath quench 'd\", \"shriek 'd\", 'fatal bellman', \"stern'st good night\", \"drugg 'd\", 'whether', 'macbeth', '[ _within._ ]', 'who', 'lady macbeth', 'alack', \"awak 'd\", 'th', 'confounds', \"done't.—my husband\", 'enter macbeth', 'macbeth', 'deed.—didst thou', 'lady macbeth', 'owl scream', 'crickets cry', 'macbeth', 'lady macbeth', 'macbeth', 'lady macbeth', 'ay', 'macbeth', 'hark', 'lady macbeth', 'donalbain', 'macbeth', 'sorry sight', 'hands._ ]', 'lady macbeth', 'sorry sight', 'macbeth', \"'s sleep\", 'murder', \"address 'd\", 'lady macbeth', \"lodg 'd\", 'macbeth', 'god', 'amen', \"hangman 's hands\", \"list'ning\", 'amen', 'god', 'lady macbeth', 'consider', 'macbeth', 'amen', 'amen', 'stuck', 'lady macbeth', 'macbeth', 'methought', 'voice cry', 'sleep', 'macbeth', 'murder sleep', 'innocent sleep', 'sleep', \"ravell 'd sleave\", \"day 's life\", \"sore labour 's bath\", 'balm', 'hurt minds', \"great nature 's\", 'chief nourisher', \"life 's feast\", 'lady macbeth', 'macbeth', 'sleep', 'glamis', \"hath murder 'd sleep\", 'cawdor shall', 'macbeth', 'lady macbeth', 'who', 'worthy thane', 'noble strength', 'sleepy grooms', 'macbeth', \"o n't\", 'lady macbeth', 'infirm', \"'ll gild\", 'grooms withal', '[ _exit', 'knocking', 'within._ ]', 'macbeth', 'whence', 'noise appals', 'ha', 'mine eyes', 'will', 'neptune', \"'s ocean\", 'clean', 'multitudinous seas incarnadine', 'making', 'enter', 'macbeth', 'lady macbeth', 'within._ ]', 'your', 'hath', 'unattended.— [', 'within._ ]', 'hark', 'be', 'macbeth', 'within._ ]', 'wake duncan', 'thou couldst', '[ _exeunt._ ]', 'scene iii', 'enter', 'porter', 'knocking', 'porter', 'hell gate', 'old turning', '[ _knocking._ ]', 'knock', \"who's\", 'belzebub', 'napkins enow', \"'ll sweat for't\", '[ _knocking._ ]', 'knock', 'who', \"i' th\", \"devil 's name\", 'faith', 'god', \"'s sake\", '[ _knocking._ ]', 'knock', 'who', 'faith', 'english', 'french hose', '[ _knocking._ ]', 'knock', 'never', \"'ll devil-porter\", 'primrose way', '[ _knocking._ ]', 'anon', '[ _opens', 'gate._ ]', 'enter macduff', 'lennox', 'macduff', 'was', 'porter', 'faith', 'great provoker', 'macduff', 'porter', 'marry', 'lechery', 'macduff', 'porter', 'macduff', 'thy master', 'enter macbeth', \"awak 'd\", 'lennox', 'good morrow', 'noble sir', 'macbeth', 'good morrow', 'macduff', 'worthy thane', 'macbeth', 'macduff', \"slipp 'd\", 'macbeth', 'macduff', 'joyful trouble', 'macbeth', 'physics pain', 'macduff', '[ _exit', 'macduff._', 'lennox', 'goes', 'macbeth', 'lennox', 'lamentings', 'strange screams', 'accents terrible', 'dire combustion', \"confus 'd events\", \"new hatch 'd\", 'woeful time', 'obscure bird', 'clamour', 'live-long night', 'was', 'macbeth', 'rough night', 'lennox', 'young remembrance', 'enter macduff', 'macduff', 'o horror', 'tongue', 'name thee', 'macbeth', 'lennox', 'macduff', 'sacrilegious murder hath', \"lord 's\", 'life o', 'macbeth', 'lennox', 'mean', 'macduff', 'approach', 'gorgon', '[ _exeunt', 'macbeth', 'lennox._', 'awake', 'ring', 'alarum bell.—murder', 'banquo', 'donalbain', 'malcolm', 'shake', 'downy sleep', \"death 's counterfeit\", 'up', \"great doom 's image\", 'malcolm', 'banquo', 'graves rise', '[ _alarum-bell rings._ ]', 'enter', 'macbeth', 'lady macbeth', 'hideous trumpet calls', 'speak', 'macduff', 'o gentle lady', \"woman 's ear\", 'enter banquo', 'banquo', 'banquo', \"royal master 's murder 'd\", 'lady macbeth', 'woe', 'banquo', 'too', 'cruel anywhere.—', 'dear duff', 'contradict thyself', 'enter macbeth', 'lennox', 'ross', 'macbeth', \"liv 'd\", 'mere lees', 'enter malcolm', 'donalbain', 'donalbain', 'macbeth', \"stopp 'd\", \"stopp 'd\", 'macduff', 'your', \"royal father 's murder 'd\", 'malcolm', 'lennox', \"badg 'd\", \"unwip 'd\", 'upon', \"star 'd\", \"man 's life\", 'macbeth', 'macduff', 'wherefore', 'macbeth', 'who', \"amaz 'd\", 'loyal', 'th', 'outrun', 'duncan', \"silver skin lac 'd\", 'golden blood', \"gash 'd stabs\", \"ruin 's\", 'wasteful entrance', 'steep', 'unmannerly', \"breech 'd\", 'who', 'courage', 'lady macbeth', 'macduff', 'malcolm', 'donalbain', 'hid', 'auger hole', \"brew 'd\", 'malcolm', 'strong sorrow', 'upon', 'banquo', '— [ _lady', 'macbeth', 'out._ ]', 'frailties hid', 'bloody piece', 'great hand', 'god', 'against', \"undivulg 'd pretence\", 'treasonous malice', 'macduff', 'all', 'macbeth', 'all', 'well', '[ _exeunt', 'malcolm', 'donalbain._', 'malcolm', 'unfelt sorrow', 'false man', 'england', 'donalbain', 'ireland', 'shall', \"'s daggers\", \"men 's smiles\", 'nearer bloody', 'malcolm', 'murderous shaft', \"'s shot\", 'hath', 'safest way', \"'s warrant\", '[ _exeunt._ ]', 'scene iv', 'castle', 'enter ross', 'old man', 'old man', 'threescore', 'sore night', 'hath', 'ross', 'ha', 'good father', 'thou', \"man 's\", 'threatens', 'bloody stage', \"clock 't\", 'dark night strangles', \"is't\", \"night 's predominance\", \"day 's shame\", 'earth entomb', 'old man', 'was', \"owl hawk 'd\", 'ross', 'duncan', \"'s horses\", 'beauteous', 'turn', 'contending', \"'gainst obedience\", 'old man', 'ross', \"'d upo n't\", 'macduff', 'enter macduff', 'macduff', 'ross', \"is't\", 'bloody deed', 'macduff', 'macbeth', 'hath slain', 'ross', 'alas', 'macduff', \"suborn 'd\", 'malcolm', 'donalbain', \"king 's\", 'suspicion', 'ross', \"'gainst nature\", 'thriftless', 'thine', \"own life 's means\", \"—then 't\", 'macbeth', 'macduff', \"nam 'd\", 'scone', 'ross', 'duncan', \"'s body\", 'macduff', 'carried', 'colmekill', 'ross', 'will', 'scone', 'macduff', 'fife', 'ross', 'well', 'macduff', 'well', 'adieu', 'lest', 'old robes', 'ross', 'farewell', 'old man', 'god', \"'s benison\", '[ _exeunt._ ]', 'act iii scene i. forres', 'enter banquo', 'banquo', 'thou', 'cawdor', 'glamis', 'weird', \"promis 'd\", 'thou', 'thy posterity', 'macbeth', 'speeches shine', 'may', 'sennet', 'enter macbeth', 'macbeth', 'lennox', 'ross', 'lords', 'attendants', 'macbeth', 'chief guest', 'lady macbeth', 'great feast', 'macbeth', 'solemn supper', \"'ll request\", 'banquo', 'highness', 'indissoluble tie', 'macbeth', 'ride', 'banquo', 'ay', 'good lord', 'macbeth', \"desir 'd\", 'good advice', \"day 's council\", \"is't\", 'banquo', \"time 'twixt\", 'dark hour', 'macbeth', 'fail', 'banquo', 'macbeth', 'bloody cousins', 'england', 'ireland', 'cruel parricide', 'strange invention', 'craving', 'hie', 'till', 'goes fleance', 'banquo', 'ay', 'good lord', 'macbeth', 'farewell.—', '[ _exit', 'banquo._', 'till', 'till', 'supper time', 'god', '[ _exeunt lady', 'macbeth', 'lords', 'c._ ]', 'sirrah', 'attend', 'servant', 'palace gate', 'macbeth', 'bring', '[ _exit', 'servant._', 'banquo stick', 'reigns', 'dauntless temper', 'whose', \"rebuk 'd\", 'mark antony', 'caesar', \"hail 'd\", 'upon', \"plac 'd\", 'fruitless crown', 'barren sceptre', 'thence', \"wrench 'd\", 'unlineal hand', \"if't\", 'banquo', \"'s issue\", \"fil 'd\", 'duncan', \"murder 'd\", 'mine eternal jewel', 'common enemy', 'banquo', \"—who 's\", 'enter servant', 'murderers', '[ _exit', 'servant._', 'was', 'first murderer', 'highness', 'macbeth', 'well', 'have', 'know', 'times past', 'innocent self', \"cross 'd\", 'who', \"notion craz'd\", 'say', 'banquo', 'first murderer', 'macbeth', 'your', \"gospell 'd\", 'good man', 'whose', \"heavy hand hath bow 'd\", \"beggar 'd yours\", 'first murderer', 'macbeth', 'ay', 'shoughs', \"valu 'd file\", 'distinguishes', 'according', 'bounteous nature', 'hath', \"clos 'd\", 'particular', 'whose', 'grapples', 'who', 'second murderer', 'whom', 'vile blows', 'hath', \"incens 'd\", 'first murderer', \"tugg 'd\", \"rid o n't\", 'macbeth', 'know banquo', 'both murderers', 'true', 'macbeth', 'such bloody distance', 'against', \"barefac 'd power sweep\", 'will avouch', 'certain friends', 'whose', 'who', 'masking', 'common eye', 'sundry weighty reasons', 'second murderer', 'perform', 'first murderer', 'macbeth', 'your', 'spirits shine', 'acquaint', 'perfect spy o', \"moment o n't\", 'fleance', 'whose', 'than', \"father 's\", 'dark hour', 'resolve', 'both murderers', \"resolv 'd\", 'macbeth', '[ _exeunt', 'murderers._', 'banquo', \"thy soul 's flight\", '[ _exit._ ]', 'scene ii', 'enter', 'macbeth', 'servant', 'lady macbeth', 'banquo', 'servant', 'ay', 'lady macbeth', 'say', 'servant', 'madam', '[ _exit._ ]', 'lady macbeth', 'naught', \"'tis safer\", 'than', 'destruction dwell', 'doubtful joy', 'enter macbeth', 'sorriest fancies', 'macbeth', \"scorch 'd\", 'poor malice', 'remains', 'things disjoint', 'worlds suffer', 'ere', 'terrible dreams', 'whom', 'than', 'restless ecstasy', 'duncan', \"life 's fitful fever\", 'treason', 'malice', 'foreign levy', 'lady macbeth', 'gently', \"sleek o'er\", 'be', 'macbeth', 'banquo', 'present', 'unsafe', 'faces vizards', 'disguising', 'lady macbeth', 'macbeth', 'dear wife', 'thou', 'banquo', 'fleance', 'lady macbeth', \"nature 's copy 's\", 'macbeth', \"'s comfort\", 'thou jocund', 'ere', 'bat hath flown', \"cloister 'd flight\", 'hecate', \"'s summons\", 'shard-born beetle', 'drowsy hums', 'hath', \"rung night 's\", 'dreadful note', 'lady macbeth', 'macbeth', 'be', 'dearest chuck', 'till', 'scarf', 'tender eye', 'pitiful day', 'thy bloody', 'invisible hand', 'cancel', 'great bond', '—light thickens', 'makes', 'rooky wood', 'good things', 'whiles', \"night 's\", 'black agents', 'thou', '[ _exeunt._ ]', 'scene iii', 'enter', 'murderers', 'first murderer', 'bid thee', 'third murderer', 'macbeth', 'second murderer', 'first murderer', 'traveller apace', 'timely inn', 'third murderer', 'hark', 'banquo', '[ _within._ ]', 'second murderer', 'first murderer', 'third murderer', 'palace gate', 'enter banquo', 'fleance', 'second murderer', 'third murderer', 'first murderer', 'stand', 'banquo', 'first murderer', '[ _assaults', 'banquo._', 'banquo', 'fly', 'fleance', 'thou', 'mayst revenge—o slave', '[ _dies', 'fleance', 'escapes._ ]', 'third murderer', 'who', 'first murderer', \"was't\", 'third murderer', 'second murderer', 'first murderer', 'well', '[ _exeunt._ ]', 'scene iv', 'enter macbeth', 'macbeth', 'ross', 'lennox', 'lords', 'attendants', 'macbeth', 'own degrees', 'lords', 'thanks', 'majesty', 'macbeth', 'ourself', 'humble host', 'lady macbeth', 'pronounce', 'heart speaks', 'enter', 'murderer', 'macbeth', 'encounter thee', 'be', \"'ll drink\", 'table round', \"'s blood\", 'murderer', 'banquo', 'macbeth', \"dispatch 'd\", 'murderer', 'macbeth', 'thou', 'fleance', 'thou didst', 'thou art', 'murderer', 'royal sir', 'fleance', \"'scap 'd\", 'macbeth', 'whole', \"cabin 'd\", \"cribb 'd\", \"confin 'd\", 'saucy doubts', 'banquo', 'murderer', 'ay', 'good lord', 'safe', 'macbeth', 'thanks', 'hath', 'venom breed', 'present.—get thee', '[ _exit', 'murderer._', 'lady macbeth', 'royal lord', \"vouch 'd\", 'meeting', 'ghost', 'banquo', 'macbeth', \"'s place\", 'macbeth', 'sweet remembrancer', 'good digestion', 'lennox', \"may't\", 'highness', 'macbeth', \"country 's honour roof 'd\", 'were', \"grac 'd person\", 'banquo', 'who', 'than', 'ross', 'lays', \"please't\", 'highness', 'royal company', 'macbeth', \"table 's\", 'lennox', \"place reserv 'd\", 'macbeth', 'lennox', 'good lord', 'highness', 'macbeth', 'lords', 'good lord', 'macbeth', 'thou', 'never', 'thy', 'gory locks', 'ross', 'gentlemen', 'highness', 'lady macbeth', 'sit', 'worthy friends', 'feed', 'macbeth', 'ay', 'dare look', 'lady macbeth', 'proper stuff', 'air-drawn dagger', 'duncan', 'impostors', \"woman 's story\", \"winter 's fire\", 'authoris', 'shame', 'such faces', 'macbeth', \"pr'ythee\", 'behold', 'thou canst nod', 'charnel houses', 'shall', '[ _ghost disappears._ ]', 'lady macbeth', \"unmann 'd\", 'macbeth', 'lady macbeth', 'fie', 'macbeth', 'blood', 'olden time', 'ere', \"humane statute purg 'd\", 'gentle weal', 'ay', 'too', 'mortal murders', 'than', 'lady macbeth', 'worthy lord', 'your', 'noble friends', 'macbeth', 'worthy friends', 'strange infirmity', 'general joy o', 'whole table', 'dear friend', 'banquo', 'ghost', 'lords', 'macbeth', 'avaunt', 'earth hide thee', 'thy', 'thy blood', 'thou', 'thou dost glare', 'lady macbeth', 'think', 'good peers', 'macbeth', 'man dare', 'approach', \"arm 'd rhinoceros\", 'hyrcan', 'firm nerves', 'shall', 'thy sword', 'hence', 'horrible shadow', 'unreal', '[ _ghost disappears._ ]', 'man again.—pray', 'lady macbeth', 'good meeting', \"admir 'd disorder\", 'macbeth', 'such things', \"summer 's cloud\", 'special wonder', 'such sights', 'natural ruby', \"blanch 'd\", 'ross', 'lady macbeth', 'good night', 'stand', 'lennox', 'good night', 'attend', 'majesty', 'lady macbeth', 'kind good night', '[ _exeunt', 'lords', 'atendants._', 'macbeth', 'stones', 'augurs', \"secret'st man\", 'lady macbeth', 'macbeth', \"say'st thou\", 'macduff', 'lady macbeth', 'macbeth', \"servant fee 'd\", 'weird sisters', 'stepp', 'strange', \"scann 'd\", 'lady macbeth', 'macbeth', 'hard use', '[ _exeunt._ ]', 'scene v.', 'thunder', 'enter', 'witches', 'hecate', 'first witch', 'hecate', 'hecate', 'have', 'saucy', 'macbeth', 'was', 'hath', 'wayward son', 'spiteful', 'loves', 'own ends', 'acheron', 'will', 'your', 'your', 'unto', 'fatal end', 'great business', 'wrought ere noon', 'upon', \"vap'rous drop\", \"'ll catch\", \"distill 'd\", 'magic sleights', 'shall', 'such artificial sprites', 'shall', 'spurn fate', 'scorn death', \"hopes 'bove wisdom\", 'chiefest enemy', '[ _music', 'c._ ]', 'hark', 'sits', 'foggy cloud', '[ _exit._ ]', 'first witch', '[ _exeunt._ ]', 'scene vi', 'forres', 'enter lennox', 'lennox', 'thing', 'duncan was', 'macbeth', 'right valiant', 'banquo', 'whom', 'fleance', 'fleance', 'men', 'who', 'malcolm', 'donalbain', 'gracious father', 'macbeth', 'pious rage', 'delinquents tear', 'was', 'ay', \"anger 'd\", \"men deny't\", 'duncan', \"'s sons\", 'fleance', 'broad words', \"tyrant 's feast\", 'macduff', 'sir', 'lord', 'duncan', 'english', 'edward', 'such grace', 'takes', 'high respect', 'thither macduff', 'northumberland', 'siward', 'him', 'tables meat', 'free', 'banquets bloody knives', 'faithful homage', 'free honours', 'hath', 'prepares', 'lennox', 'macduff', 'lord', 'sir', 'cloudy messenger', \"'ll rue\", 'lennox', 'advise', 'fly', 'england', 'message ere', 'may', \"hand accurs 'd\", 'lord', '[ _exeunt._ ]', 'act iv scene', 'cave', 'cauldron boiling', 'thunder', 'enter', 'witches', 'first witch', 'thrice', \"cat hath mew 'd\", 'second witch', 'thrice', \"hedge-pig whin 'd\", 'third witch', 'harpier', \"—'tis time\", 'first witch', \"poison 'd entrails throw.—\", 'toad', 'cold stone', 'swelter', \"'d venom\", 'boil', 'all', 'second witch', 'fillet', 'fenny snake', 'cauldron boil', 'eye', 'wool', 'adder', \"'s fork\", \"blind-worm 's\", 'lizard', \"'s leg\", \"howlet 's wing\", 'powerful trouble', 'hell-broth boil', 'all', 'third witch', 'scale', 'witch', \"'s mummy\", \"ravin 'd salt-sea shark\", 'root', \"hemlock digg 'd i\", 'liver', 'jew', 'gall', 'sliver', \"moon 's eclipse\", 'nose', 'turk', 'tartar', \"'s lips\", 'finger', 'ditch-deliver', 'gruel thick', \"tiger 's chaudron\", 'all', 'second witch', 'cool', \"baboon 's blood\", 'enter hecate', 'hecate', 'enchanting', '[ _music', 'black spirits', 'c._ ] [ _exit', 'hecate._', 'second witch', 'whoever', 'enter macbeth', 'macbeth', 'midnight hags', 'all', 'macbeth', \"howe'er\", 'against', 'yesty waves', 'confound', 'swallow navigation', \"lodg 'd\", 'trees blown', 'castles topple', \"nature 's germens tumble\", 'till destruction sicken', 'first witch', 'speak', 'second witch', 'demand', 'third witch', 'first witch', 'say', 'macbeth', 'call', 'first witch', 'pour', \"'s blood\", 'hath eaten', \"'s sweaten\", \"murderer 's gibbet\", 'all', 'thyself', '[ _thunder', 'apparition', 'head', 'rises._ ]', 'macbeth', 'unknown power', 'first witch', 'hear', 'thou naught', 'apparition', 'macbeth', 'macbeth', 'macbeth', 'beware macduff', 'beware', 'thane', 'fife.—dismiss', '[ _descends._ ]', 'macbeth', \"whate'er\", 'thou art', 'thy good caution', 'thou', \"hast harp 'd\", 'first witch', '[ _thunder', 'apparition', 'child', 'rises._ ]', 'apparition', 'macbeth', 'macbeth', 'macbeth', 'macbeth', 'apparition', 'be', 'laugh', 'shall', 'macbeth', '[ _descends._ ]', 'macbeth', 'macduff', 'assurance double', 'thou', '[ _thunder', 'apparition', 'child', 'rises._ ]', 'baby brow', 'all', 'listen', 'apparition', 'be', 'who', 'macbeth', \"vanquish 'd\", 'birnam', 'dunsinane', 'shall', '[ _descends._ ]', 'macbeth', 'who', 'unfix', 'earth-bound root', 'sweet bodements', 'rebellious', 'birnam', \"high-plac 'd\", 'macbeth shall', 'mortal custom.—yet', 'throbs', 'banquo', \"'s issue\", 'reign', 'all', 'seek', 'macbeth', 'eternal curse fall', '[ _hautboys._ ]', 'first witch', 'second witch', 'third witch', 'all', '[ _a show', 'banquo', 'following._ ]', 'macbeth', 'thou', 'banquo', 'down', 'thy', 'sear mine eyeballs', '—and thy hair', 'thou', 'gold-bound brow', 'former.—filthy hags', \"—i 'll\", 'twofold balls', 'treble sceptres', 'horrible', \"blood-bolter 'd\", 'banquo', 'first witch', 'ay', 'stands macbeth', \"'ll charm\", 'antic round', 'great king', '[ _music', 'witches', 'vanish._ ]', 'macbeth', 'gone', 'pernicious hour', 'stand', 'enter lennox', 'lennox', 'grace', 'macbeth', 'saw', 'weird sisters', 'lennox', 'macbeth', 'came', 'lennox', 'macbeth', 'infected', 'air whereon', \"damn 'd\", 'lennox', 'macduff', 'england', 'macbeth', 'fled', 'england', 'lennox', 'ay', 'good lord', 'macbeth', \"thou anticipat'st\", 'dread exploits', 'flighty purpose', 'unless', 'macduff', 'seize', 'fife', 'edge o', 'unfortunate souls', '[ _exeunt._ ]', 'scene ii', 'fife', 'macduff', 'castle', 'enter', 'macduff', 'ross', 'lady macduff', 'ross', 'lady macduff', 'ross', 'whether', 'lady macduff', 'wisdom', 'natural touch', 'poor wren', 'young ones', 'ross', 'dearest coz', 'violent sea', 'shall', 'pretty cousin', 'blessing', 'lady macduff', 'father', \"'s fatherless\", 'ross', '[ _exit._ ]', 'lady macduff', 'sirrah', \"father 's\", 'son', 'lady macduff', 'son', 'lady macduff', 'poor', 'son', 'poor', 'lady macduff', 'wilt thou', 'son', 'nay', 'lady macduff', 'son', 'lady macduff', 'thou', 'thy wit', 'son', 'was', 'lady macduff', 'ay', 'son', 'lady macduff', 'son', 'lady macduff', 'son', 'lady macduff', 'son', 'who', 'lady macduff', 'honest men', 'son', 'swearers enow', 'honest men', 'lady macduff', 'god', 'poor monkey', 'wilt thou', 'son', \"you'ld weep\", 'good sign', 'new father', 'lady macduff', 'poor', \"thou talk'st\", 'enter', 'messenger', 'messenger', 'bless', 'fair dame', \"man 's advice\", 'be', 'heaven', '[ _exit._ ]', 'lady macduff', 'whither', 'accounted', 'enter murderers', 'first murderer', 'lady macduff', 'thou mayst', 'first murderer', 'son', 'thou', \"thou shag-ear 'd villain\", 'first murderer', 'him._ ]', 'young fry', 'son', 'run', '[ _dies', 'exit', 'macduff', 'murder', 'murderers._', 'scene iii', 'england', \"king 's palace\", 'enter malcolm', 'macduff', 'malcolm', 'desolate shade', 'weep', 'sad bosoms empty', 'macduff', 'hold', 'mortal sword', 'good men', 'bestride', \"down-fall'n birthdom\", 'new morn', 'new widows howl', 'new orphans cry', 'new sorrows', 'strike', 'scotland', \"yell 'd\", 'malcolm', \"'ll wail\", 'sole name blisters', 'was', 'innocent lamb', 'angry god', 'macduff', 'malcolm', 'macbeth', 'virtuous nature', 'imperial charge', 'things foul', 'macduff', 'malcolm', 'perchance', 'precious motives', 'strong knots', 'own safeties', 'macduff', 'bleed', 'poor country', 'great tyranny', 'lay thou thy basis', 'goodness dare', 'check thee', 'thou thy wrongs', \"affeer'd.—fare thee\", \"thou think'st\", 'whole space', \"tyrant 's grasp\", 'malcolm', 'be', 'country sinks', 'new day', 'england', \"tyrant 's head\", 'poor country', 'shall', 'sundry ways', 'macduff', 'malcolm', \"open 'd\", 'macbeth will', 'poor state', 'esteem', 'confineless harms', 'macduff', 'horrid hell', 'macbeth', 'malcolm', 'luxurious', 'sudden', 'your', 'continent impediments', 'macbeth than', 'macduff', 'boundless', 'th', 'happy throne', 'convey', 'spacious plenty', 'cold—the time', 'willing dames', 'greatness dedicate', 'finding', \"inclin 'd\", 'malcolm', \"ill-compos 'd affection\", 'staunchless avarice', 'desire', \"'s house\", 'quarrels', 'destroying', 'macduff', 'sticks', 'pernicious root', 'than', 'slain kings', 'scotland', 'hath foisons', 'malcolm', 'bounty', 'devotion', 'nay', 'pour', 'sweet milk', 'uproar', 'universal peace', 'macduff', 'scotland', 'scotland', 'malcolm', 'macduff', 'fit', 'live.—o nation', \"tyrant bloody-scepter 'd\", 'shalt thou', 'thy wholesome days', 'truest issue', 'thy throne', \"own interdiction stands accus 'd\", 'thy', 'royal father', 'was', 'bore thee', \"oft'ner\", 'died', 'fare', \"evils thou repeat'st\", 'have', \"banish 'd\", 'scotland.—o', 'thy', 'hope ends', 'malcolm', 'macduff', 'noble passion', 'child', 'wiped', 'black scruples', \"reconcil 'd\", 'thy good truth', 'devilish macbeth', 'trains hath', 'modest wisdom plucks', 'over-credulous haste', 'god', 'deal', 'thy direction', 'unspeak', 'own detraction', 'unknown', 'scarcely', 'false speaking', 'was', \"poor country 's\", 'whither', 'thy here-approach', 'siward', 'warlike men', 'be', 'macduff', 'unwelcome things', 'enter', 'malcolm', 'well', 'doctor', 'ay', 'malady convinces', 'great assay', 'such sanctity hath heaven', 'malcolm', '[ _exit', 'doctor._', 'macduff', 'malcolm', 'miraculous work', 'good king', 'england', 'himself', 'mere despair', 'hanging', 'golden stamp', 'strange virtue', 'sundry blessings', 'enter ross', 'macduff', 'malcolm', 'macduff', 'ever-gentle cousin', 'malcolm', 'god', 'ross', 'sir', 'macduff', 'stands scotland', 'ross', 'alas', 'poor country', 'be', \"mark 'd\", 'violent sorrow', 'modern ecstasy', \"dead man 's knell\", \"good men 's\", 'expire', 'dying', 'macduff', 'too', 'malcolm', 'ross', \"hour 's age doth hiss\", 'minute teems', 'macduff', 'ross', 'macduff', 'ross', 'well', 'macduff', \"batter 'd\", 'ross', 'macduff', 'be', 'ross', 'worthy fellows', \"tyrant 's power afoot\", 'your', 'scotland', 'women fight', 'dire distresses', 'malcolm', \"be't\", 'gracious england', 'lent', 'siward', 'christendom', 'ross', \"howl 'd\", 'desert air', 'macduff', 'ross', 'main part', 'pertains', 'macduff', 'keep', 'ross', 'ears despise', 'macduff', 'humh', 'ross', 'your', \"surpris 'd\", 'savagely', \"slaughter 'd\", 'were', \"murder 'd deer\", 'malcolm', 'merciful', \"ne'er pull\", 'sorrow words', 'whispers', \"o'er-fraught heart\", 'macduff', 'ross', 'wife', 'macduff', 'ross', 'malcolm', 'be', 'great revenge', 'macduff', 'pretty ones', '—o hell-kite', 'pretty chickens', 'malcolm', 'dispute', 'macduff', 'such things', 'me.—did heaven look', 'sinful macduff', 'naught', 'own demerits', 'fell', 'heaven rest', 'malcolm', 'be', 'convert', 'macduff', 'gentle heavens', 'cut', 'bring', 'scotland', \"sword 's length\", 'heaven', 'malcolm', 'macbeth', 'receive', '[ _exeunt._ ]', 'act v scene i. dunsinane', 'castle', 'enter', 'physic', 'waiting-gentlewoman', 'doctor', 'gentlewoman', 'majesty', \"upo n't\", 'afterwards seal', 'doctor', 'great perturbation', 'slumbery agitation', 'actual performances', 'gentlewoman', 'doctor', 'gentlewoman', 'enter', 'macbeth', 'lo', 'observe', 'doctor', 'gentlewoman', 'doctor', 'gentlewoman', 'ay', 'doctor', 'gentlewoman', 'lady macbeth', 'doctor', 'hark', 'lady macbeth', 'hell', 'fie', 'old man', 'doctor', 'lady macbeth', 'thane', 'fife', \"hands ne'er\", 'doctor', 'gentlewoman', 'lady macbeth', 'arabia', 'little hand', 'oh', 'doctor', 'gentlewoman', 'whole body', 'doctor', 'well', 'gentlewoman', 'pray god', 'doctor', 'lady macbeth', 'wash', 'banquo', 'doctor', 'lady macbeth', '[ _exit._ ]', 'doctor', 'will', 'gentlewoman', 'directly', 'doctor', 'foul', 'unnatural', 'breed unnatural troubles', 'deaf pillows', 'god', 'god', 'remove', 'good night', \"amaz 'd\", 'gentlewoman', 'good night', 'good doctor', '[ _exeunt._ ]', 'scene ii', 'dunsinane', 'enter', 'menteith', 'caithness', 'angus', 'lennox', 'soldiers', 'menteith', 'english', 'malcolm', 'siward', 'macduff', 'revenges', 'dear causes', 'grim alarm', 'excite', 'angus', 'near birnam', 'shall', 'caithness', 'who', 'donalbain', 'lennox', 'siward', \"'s son\", 'unrough youths', 'protest', 'menteith', 'caithness', 'dunsinane', 'valiant fury', \"distemper 'd\", 'angus', 'secret murders', 'revolts upbraid', 'hang', \"giant 's robe\", 'upon', 'dwarfish thief', 'menteith', 'who', \"'d senses\", 'itself', 'caithness', 'well', \"ow 'd\", \"country 's purge\", 'lennox', 'sovereign flower', 'birnam', '[ _exeunt', 'marching._ ]', 'scene iii', 'dunsinane', 'castle', 'enter macbeth', 'attendants', 'macbeth', 'bring', 'till birnam', 'dunsinane', 'malcolm', 'was', 'mortal consequences', \"pronounc 'd\", 'fear', 'macbeth', 'shall', '—then fly', 'false thanes', 'english', 'shall', 'enter', 'servant', 'devil damn thee', \"thou cream-fac 'd loon\", \"gott'st thou\", 'goose look', 'servant', 'macbeth', 'geese', 'servant', 'soldiers', 'macbeth', 'prick thy', 'thou', \"lily-liver 'd boy\", 'death', 'thy soul', 'linen cheeks', 'servant', 'english', 'macbeth', '[ _exit', 'servant._', 'seyton', 'will', \"liv 'd\", 'yellow leaf', 'old age', 'curses', 'poor heart', 'seyton', 'enter seyton', 'seyton', 'gracious pleasure', 'macbeth', 'seyton', 'macbeth', \"'ll fight till\", \"hack 'd\", 'seyton', 'macbeth', 'country round', 'hang', 'mine armour.—', 'doctor', 'macbeth', 'cure', 'canst', \"mind diseas 'd\", 'pluck', 'raze', 'sweet oblivious antidote', 'cleanse', \"stuff 'd bosom\", 'perilous stuff', 'doctor', 'therein', 'macbeth', 'throw physic', 'mine armour', 'seyton', 'thanes', 'despatch.—if thou couldst', 'pristine health', 'purgative drug', 'english', \"hear'st\", 'doctor', 'ay', 'good lord', 'your', 'royal preparation', 'makes', 'macbeth', 'bring', 'till birnam', 'dunsinane', '[ _exeunt', 'doctor._', 'doctor', 'were', 'dunsinane', 'profit', '[ _exit._ ]', 'scene iv', 'dunsinane', 'wood', 'enter', 'malcolm', 'siward', 'macduff', 'menteith', 'caithness', 'angus', 'lennox', 'ross', 'soldiers', 'malcolm', 'cousins', 'menteith', 'siward', 'menteith', 'birnam', 'malcolm', 'soldier hew', 'thereby', 'err', 'soldiers', 'siward', 'confident tyrant', 'keeps', 'dunsinane', 'malcolm', 'main hope', 'whose', 'macduff', 'attend', 'true event', 'industrious', 'siward', 'time approaches', 'due decision', 'thoughts', 'unsure hopes relate', 'certain issue strokes', 'towards', '[ _exeunt', 'marching._ ]', 'scene v. dunsinane', 'enter', 'macbeth', 'seyton', 'soldiers', 'macbeth', 'hang', 'outward walls', \"castle 's strength\", 'will', 'till', 'were', \"forc 'd\", 'backward home', '[ _a cry', 'women within._ ]', 'seyton', 'good lord', '[ _exit._ ]', 'macbeth', 'dismal treatise rouse', \"i n't\", \"supp 'd\", 'direness', 'slaughterous thoughts', 'enter seyton', 'wherefore', 'seyton', 'macbeth', 'tomorrow', 'creeps', 'petty pace', 'dusty death', \"life 's\", 'poor player', 'told', 'signifying', 'enter', 'messenger', 'thou', 'thy tongue', 'thy story', 'messenger', 'gracious', 'macbeth', 'well', 'messenger', 'birnam', 'macbeth', 'liar', 'messenger', 'macbeth', \"thou speak'st\", 'upon', 'tree shalt thou', 'till', 'thy speech', 'thou dost', 'doubt th', 'fear', 'birnam', 'dunsinane', 'comes', 'dunsinane.—arm', 'estate o', 'ring', 'alarum bell', '[ _exeunt._ ]', 'scene vi', 'plain', 'castle', 'enter', 'malcolm', 'siward', 'macduff', 'malcolm', 'your', 'leafy screens', 'worthy uncle', 'shall', 'right noble son', 'lead', 'macduff', 'shall', 'according', 'siward', 'fare', \"tyrant 's power\", 'macduff', 'clamorous harbingers', '[ _exeunt._ ]', 'scene vii', 'plain', 'alarums', 'enter macbeth', 'macbeth', \"course.—what 's\", 'am', 'enter', 'siward', 'young siward', 'thy name', 'macbeth', \"thou'lt\", 'young siward', \"thou call'st thyself\", 'hotter name', 'than', 'macbeth', \"name 's\", 'macbeth', 'young siward', 'mine ear', 'macbeth', 'young siward', 'thou', \"lie thou speak'st\", '[ _they fight', 'siward', 'slain._ ]', 'macbeth', 'thou', 'weapons laugh', 'brandish', '[ _exit._ ]', 'alarums', 'enter macduff', 'macduff', 'noise is.—tyrant', 'show thy', \"thou be'st slain\", \"children 's ghosts\", 'either', 'macbeth', \"unbatter 'd edge\", 'thou shouldst', 'great clatter', 'seems', 'fortune', '[ _exit', 'alarums._', 'enter malcolm', 'siward', 'siward', \"—the castle 's\", \"tyrant 's people\", 'noble thanes', 'professes yours', 'malcolm', 'siward', 'enter', '[ _exeunt', 'alarums._', 'scene viii', 'enter macbeth', 'macbeth', 'roman fool', 'own sword', 'enter macduff', 'macduff', 'turn', 'macbeth', 'macduff', 'thou bloodier villain', 'than', '[ _they fight._ ]', 'macbeth', 'thou', 'losest labour', 'easy mayst thou', 'intrenchant air', 'thy keen sword impress', 'fall thy blade', 'vulnerable crests', 'macduff', 'despair', 'thy charm', \"hast serv'd\", 'macduff', \"mother 's womb\", 'untimely', \"ripp 'd\", 'macbeth', 'accursed', \"hath cow 'd\", \"believ 'd\", 'double sense', \"—i 'll\", 'macduff', 'yield thee', 'gaze o', 'rarer monsters', 'painted', 'macbeth', 'malcolm', \"'s feet\", \"rabble 's curse\", 'birnam', 'dunsinane', \"thou oppos 'd\", 'warlike shield', 'macduff', \"damn 'd\", 'hold', '[ _exeunt', 'alarums._', 'retreat', 'flourish', 'enter', 'malcolm', 'siward', 'ross', 'thanes', 'soldiers', 'malcolm', \"safe arriv 'd\", 'siward', 'malcolm', 'macduff', 'noble son', 'ross', 'your', \"soldier 's debt\", \"liv 'd\", \"prowess confirm'd\", 'siward', 'fleance', 'ay', 'your', \"measur 'd\", 'siward', 'ross', 'ay', 'siward', 'god', \"'s soldier\", 'fairer death', \"knoll 'd\", 'malcolm', \"'s worth\", 'siward', \"'s worth\", 'god', 'enter macduff', 'macbeth', \"'s head\", 'macduff', 'thou art', 'behold', 'th', \"usurper 's\", \"thee compass 'd\", \"thy kingdom 's pearl\", 'whose', 'scotland', 'all', 'scotland', '[ _flourish._ ]', 'malcolm', 'large expense', 'henceforth', 'scotland', \"honour nam 'd\", \"exil 'd friends\", 'watchful tyranny', 'producing', 'cruel ministers', 'dead butcher', 'fiend-like queen', 'who', 'violent hands', 'took', 'grace', 'whom', \"crown 'd\", 'scone', '[ _flourish', 'exeunt._']\n"
     ]
    }
   ],
   "source": [
    "import nltk\n",
    "try:\n",
    "    nltk.data.find('tokenizers/punkt')\n",
    "except LookupError:\n",
    "    nltk.download('punkt')\n",
    "try:\n",
    "    nltk.data.find('tokenizers/brown')\n",
    "except LookupError:\n",
    "    nltk.download('brown')\n",
    "from textblob import TextBlob\n",
    "macbeth_phrases = TextBlob(macbeth).noun_phrases\n",
    "print(macbeth_phrases)"
   ]
  },
  {
   "cell_type": "markdown",
   "metadata": {},
   "source": [
    "What you're seeing is no longer raw text. It's now a list of strings. How long is the list? Let's find out. `len` is short for \"length\", and it will tell you how many items are in any list."
   ]
  },
  {
   "cell_type": "code",
   "execution_count": 16,
   "metadata": {},
   "outputs": [
    {
     "data": {
      "text/plain": [
       "3220"
      ]
     },
     "execution_count": 16,
     "metadata": {},
     "output_type": "execute_result"
    }
   ],
   "source": [
    "len(macbeth_phrases)"
   ]
  },
  {
   "cell_type": "markdown",
   "metadata": {},
   "source": [
    "Looks like we have over 3000 noun phrases. We don't yet know how many of them are repeated.\n",
    "\n",
    "## Counting everything up\n",
    "\n",
    "Here's where this starts to look like a real science project! Let's count the unique phrases and create a table of how many times they occur. They'll be sorted from most to least frequent."
   ]
  },
  {
   "cell_type": "code",
   "execution_count": 17,
   "metadata": {},
   "outputs": [
    {
     "data": {
      "text/html": [
       "<div>\n",
       "<style scoped>\n",
       "    .dataframe tbody tr th:only-of-type {\n",
       "        vertical-align: middle;\n",
       "    }\n",
       "\n",
       "    .dataframe tbody tr th {\n",
       "        vertical-align: top;\n",
       "    }\n",
       "\n",
       "    .dataframe thead th {\n",
       "        text-align: right;\n",
       "    }\n",
       "</style>\n",
       "<table border=\"1\" class=\"dataframe\">\n",
       "  <thead>\n",
       "    <tr style=\"text-align: right;\">\n",
       "      <th></th>\n",
       "      <th>text</th>\n",
       "      <th>count</th>\n",
       "    </tr>\n",
       "  </thead>\n",
       "  <tbody>\n",
       "    <tr>\n",
       "      <th>0</th>\n",
       "      <td>macbeth</td>\n",
       "      <td>207</td>\n",
       "    </tr>\n",
       "    <tr>\n",
       "      <th>1</th>\n",
       "      <td>macduff</td>\n",
       "      <td>82</td>\n",
       "    </tr>\n",
       "    <tr>\n",
       "      <th>2</th>\n",
       "      <td>banquo</td>\n",
       "      <td>67</td>\n",
       "    </tr>\n",
       "    <tr>\n",
       "      <th>3</th>\n",
       "      <td>lady macbeth</td>\n",
       "      <td>60</td>\n",
       "    </tr>\n",
       "    <tr>\n",
       "      <th>4</th>\n",
       "      <td>malcolm</td>\n",
       "      <td>56</td>\n",
       "    </tr>\n",
       "    <tr>\n",
       "      <th>...</th>\n",
       "      <td>...</td>\n",
       "      <td>...</td>\n",
       "    </tr>\n",
       "    <tr>\n",
       "      <th>1583</th>\n",
       "      <td>estate o</td>\n",
       "      <td>1</td>\n",
       "    </tr>\n",
       "    <tr>\n",
       "      <th>1584</th>\n",
       "      <td>distemper 'd</td>\n",
       "      <td>1</td>\n",
       "    </tr>\n",
       "    <tr>\n",
       "      <th>1585</th>\n",
       "      <td>crickets cry</td>\n",
       "      <td>1</td>\n",
       "    </tr>\n",
       "    <tr>\n",
       "      <th>1586</th>\n",
       "      <td>—who 's</td>\n",
       "      <td>1</td>\n",
       "    </tr>\n",
       "    <tr>\n",
       "      <th>1587</th>\n",
       "      <td>measur 'd</td>\n",
       "      <td>1</td>\n",
       "    </tr>\n",
       "  </tbody>\n",
       "</table>\n",
       "<p>1588 rows × 2 columns</p>\n",
       "</div>"
      ],
      "text/plain": [
       "              text  count\n",
       "0          macbeth    207\n",
       "1          macduff     82\n",
       "2           banquo     67\n",
       "3     lady macbeth     60\n",
       "4          malcolm     56\n",
       "...            ...    ...\n",
       "1583      estate o      1\n",
       "1584  distemper 'd      1\n",
       "1585  crickets cry      1\n",
       "1586       —who 's      1\n",
       "1587     measur 'd      1\n",
       "\n",
       "[1588 rows x 2 columns]"
      ]
     },
     "execution_count": 17,
     "metadata": {},
     "output_type": "execute_result"
    }
   ],
   "source": [
    "import pandas as pd\n",
    "unique_texts = list(set(macbeth_phrases))\n",
    "text_counts =  {text: macbeth_phrases.count(text) for text in unique_texts}\n",
    "sorted_texts = sorted(text_counts.items(), key=lambda x: x[1], reverse=True)\n",
    "macbeth_counts = pd.DataFrame(data=sorted_texts, columns=['text', 'count'])\n",
    "macbeth_counts"
   ]
  },
  {
   "cell_type": "markdown",
   "metadata": {},
   "source": [
    "There are a lot of them, so we'll use `.head(20)` which means show the top twenty. In these lists, the first item is always number 0."
   ]
  },
  {
   "cell_type": "code",
   "execution_count": 18,
   "metadata": {},
   "outputs": [
    {
     "data": {
      "text/html": [
       "<div>\n",
       "<style scoped>\n",
       "    .dataframe tbody tr th:only-of-type {\n",
       "        vertical-align: middle;\n",
       "    }\n",
       "\n",
       "    .dataframe tbody tr th {\n",
       "        vertical-align: top;\n",
       "    }\n",
       "\n",
       "    .dataframe thead th {\n",
       "        text-align: right;\n",
       "    }\n",
       "</style>\n",
       "<table border=\"1\" class=\"dataframe\">\n",
       "  <thead>\n",
       "    <tr style=\"text-align: right;\">\n",
       "      <th></th>\n",
       "      <th>text</th>\n",
       "      <th>count</th>\n",
       "    </tr>\n",
       "  </thead>\n",
       "  <tbody>\n",
       "    <tr>\n",
       "      <th>0</th>\n",
       "      <td>macbeth</td>\n",
       "      <td>207</td>\n",
       "    </tr>\n",
       "    <tr>\n",
       "      <th>1</th>\n",
       "      <td>macduff</td>\n",
       "      <td>82</td>\n",
       "    </tr>\n",
       "    <tr>\n",
       "      <th>2</th>\n",
       "      <td>banquo</td>\n",
       "      <td>67</td>\n",
       "    </tr>\n",
       "    <tr>\n",
       "      <th>3</th>\n",
       "      <td>lady macbeth</td>\n",
       "      <td>60</td>\n",
       "    </tr>\n",
       "    <tr>\n",
       "      <th>4</th>\n",
       "      <td>malcolm</td>\n",
       "      <td>56</td>\n",
       "    </tr>\n",
       "    <tr>\n",
       "      <th>5</th>\n",
       "      <td>ross</td>\n",
       "      <td>49</td>\n",
       "    </tr>\n",
       "    <tr>\n",
       "      <th>6</th>\n",
       "      <td>lennox</td>\n",
       "      <td>32</td>\n",
       "    </tr>\n",
       "    <tr>\n",
       "      <th>7</th>\n",
       "      <td>duncan</td>\n",
       "      <td>32</td>\n",
       "    </tr>\n",
       "    <tr>\n",
       "      <th>8</th>\n",
       "      <td>enter</td>\n",
       "      <td>31</td>\n",
       "    </tr>\n",
       "    <tr>\n",
       "      <th>9</th>\n",
       "      <td>who</td>\n",
       "      <td>26</td>\n",
       "    </tr>\n",
       "    <tr>\n",
       "      <th>10</th>\n",
       "      <td>thou</td>\n",
       "      <td>24</td>\n",
       "    </tr>\n",
       "    <tr>\n",
       "      <th>11</th>\n",
       "      <td>siward</td>\n",
       "      <td>23</td>\n",
       "    </tr>\n",
       "    <tr>\n",
       "      <th>12</th>\n",
       "      <td>first witch</td>\n",
       "      <td>23</td>\n",
       "    </tr>\n",
       "    <tr>\n",
       "      <th>13</th>\n",
       "      <td>cawdor</td>\n",
       "      <td>20</td>\n",
       "    </tr>\n",
       "    <tr>\n",
       "      <th>14</th>\n",
       "      <td>lady macduff</td>\n",
       "      <td>20</td>\n",
       "    </tr>\n",
       "    <tr>\n",
       "      <th>15</th>\n",
       "      <td>doctor</td>\n",
       "      <td>20</td>\n",
       "    </tr>\n",
       "    <tr>\n",
       "      <th>16</th>\n",
       "      <td>castle</td>\n",
       "      <td>19</td>\n",
       "    </tr>\n",
       "    <tr>\n",
       "      <th>17</th>\n",
       "      <td>your</td>\n",
       "      <td>19</td>\n",
       "    </tr>\n",
       "    <tr>\n",
       "      <th>18</th>\n",
       "      <td>thane</td>\n",
       "      <td>19</td>\n",
       "    </tr>\n",
       "    <tr>\n",
       "      <th>19</th>\n",
       "      <td>[ _exeunt._ ]</td>\n",
       "      <td>19</td>\n",
       "    </tr>\n",
       "  </tbody>\n",
       "</table>\n",
       "</div>"
      ],
      "text/plain": [
       "             text  count\n",
       "0         macbeth    207\n",
       "1         macduff     82\n",
       "2          banquo     67\n",
       "3    lady macbeth     60\n",
       "4         malcolm     56\n",
       "5            ross     49\n",
       "6          lennox     32\n",
       "7          duncan     32\n",
       "8           enter     31\n",
       "9             who     26\n",
       "10           thou     24\n",
       "11         siward     23\n",
       "12    first witch     23\n",
       "13         cawdor     20\n",
       "14   lady macduff     20\n",
       "15         doctor     20\n",
       "16         castle     19\n",
       "17           your     19\n",
       "18          thane     19\n",
       "19  [ _exeunt._ ]     19"
      ]
     },
     "execution_count": 18,
     "metadata": {},
     "output_type": "execute_result"
    }
   ],
   "source": [
    "macbeth_counts.head(20)"
   ]
  },
  {
   "cell_type": "markdown",
   "metadata": {},
   "source": [
    "There we have it! The top 20 phrases in Macbeth! Let's put those in a plot.\n",
    "\n",
    "## Plotting the results\n",
    "\n",
    "You can do almost any kind of plot or other visual representation of observations like this you could think of in Callysto. We'll use the `Plotly Express` library to produce a bar chart, ordered from most to least frequent word."
   ]
  },
  {
   "cell_type": "code",
   "execution_count": 19,
   "metadata": {},
   "outputs": [
    {
     "data": {
      "application/vnd.plotly.v1+json": {
       "config": {
        "plotlyServerURL": "https://plot.ly"
       },
       "data": [
        {
         "alignmentgroup": "True",
         "hovertemplate": "text=%{x}<br>count=%{y}<extra></extra>",
         "legendgroup": "",
         "marker": {
          "color": "#636efa",
          "pattern": {
           "shape": ""
          }
         },
         "name": "",
         "offsetgroup": "",
         "orientation": "v",
         "showlegend": false,
         "textposition": "auto",
         "type": "bar",
         "x": [
          "macbeth",
          "macduff",
          "banquo",
          "lady macbeth",
          "malcolm",
          "ross",
          "lennox",
          "duncan",
          "enter",
          "who",
          "thou",
          "siward",
          "first witch",
          "cawdor",
          "lady macduff",
          "doctor",
          "castle",
          "your",
          "thane",
          "[ _exeunt._ ]"
         ],
         "xaxis": "x",
         "y": [
          207,
          82,
          67,
          60,
          56,
          49,
          32,
          32,
          31,
          26,
          24,
          23,
          23,
          20,
          20,
          20,
          19,
          19,
          19,
          19
         ],
         "yaxis": "y"
        }
       ],
       "layout": {
        "barmode": "relative",
        "legend": {
         "tracegroupgap": 0
        },
        "template": {
         "data": {
          "bar": [
           {
            "error_x": {
             "color": "#2a3f5f"
            },
            "error_y": {
             "color": "#2a3f5f"
            },
            "marker": {
             "line": {
              "color": "#E5ECF6",
              "width": 0.5
             },
             "pattern": {
              "fillmode": "overlay",
              "size": 10,
              "solidity": 0.2
             }
            },
            "type": "bar"
           }
          ],
          "barpolar": [
           {
            "marker": {
             "line": {
              "color": "#E5ECF6",
              "width": 0.5
             },
             "pattern": {
              "fillmode": "overlay",
              "size": 10,
              "solidity": 0.2
             }
            },
            "type": "barpolar"
           }
          ],
          "carpet": [
           {
            "aaxis": {
             "endlinecolor": "#2a3f5f",
             "gridcolor": "white",
             "linecolor": "white",
             "minorgridcolor": "white",
             "startlinecolor": "#2a3f5f"
            },
            "baxis": {
             "endlinecolor": "#2a3f5f",
             "gridcolor": "white",
             "linecolor": "white",
             "minorgridcolor": "white",
             "startlinecolor": "#2a3f5f"
            },
            "type": "carpet"
           }
          ],
          "choropleth": [
           {
            "colorbar": {
             "outlinewidth": 0,
             "ticks": ""
            },
            "type": "choropleth"
           }
          ],
          "contour": [
           {
            "colorbar": {
             "outlinewidth": 0,
             "ticks": ""
            },
            "colorscale": [
             [
              0,
              "#0d0887"
             ],
             [
              0.1111111111111111,
              "#46039f"
             ],
             [
              0.2222222222222222,
              "#7201a8"
             ],
             [
              0.3333333333333333,
              "#9c179e"
             ],
             [
              0.4444444444444444,
              "#bd3786"
             ],
             [
              0.5555555555555556,
              "#d8576b"
             ],
             [
              0.6666666666666666,
              "#ed7953"
             ],
             [
              0.7777777777777778,
              "#fb9f3a"
             ],
             [
              0.8888888888888888,
              "#fdca26"
             ],
             [
              1,
              "#f0f921"
             ]
            ],
            "type": "contour"
           }
          ],
          "contourcarpet": [
           {
            "colorbar": {
             "outlinewidth": 0,
             "ticks": ""
            },
            "type": "contourcarpet"
           }
          ],
          "heatmap": [
           {
            "colorbar": {
             "outlinewidth": 0,
             "ticks": ""
            },
            "colorscale": [
             [
              0,
              "#0d0887"
             ],
             [
              0.1111111111111111,
              "#46039f"
             ],
             [
              0.2222222222222222,
              "#7201a8"
             ],
             [
              0.3333333333333333,
              "#9c179e"
             ],
             [
              0.4444444444444444,
              "#bd3786"
             ],
             [
              0.5555555555555556,
              "#d8576b"
             ],
             [
              0.6666666666666666,
              "#ed7953"
             ],
             [
              0.7777777777777778,
              "#fb9f3a"
             ],
             [
              0.8888888888888888,
              "#fdca26"
             ],
             [
              1,
              "#f0f921"
             ]
            ],
            "type": "heatmap"
           }
          ],
          "heatmapgl": [
           {
            "colorbar": {
             "outlinewidth": 0,
             "ticks": ""
            },
            "colorscale": [
             [
              0,
              "#0d0887"
             ],
             [
              0.1111111111111111,
              "#46039f"
             ],
             [
              0.2222222222222222,
              "#7201a8"
             ],
             [
              0.3333333333333333,
              "#9c179e"
             ],
             [
              0.4444444444444444,
              "#bd3786"
             ],
             [
              0.5555555555555556,
              "#d8576b"
             ],
             [
              0.6666666666666666,
              "#ed7953"
             ],
             [
              0.7777777777777778,
              "#fb9f3a"
             ],
             [
              0.8888888888888888,
              "#fdca26"
             ],
             [
              1,
              "#f0f921"
             ]
            ],
            "type": "heatmapgl"
           }
          ],
          "histogram": [
           {
            "marker": {
             "pattern": {
              "fillmode": "overlay",
              "size": 10,
              "solidity": 0.2
             }
            },
            "type": "histogram"
           }
          ],
          "histogram2d": [
           {
            "colorbar": {
             "outlinewidth": 0,
             "ticks": ""
            },
            "colorscale": [
             [
              0,
              "#0d0887"
             ],
             [
              0.1111111111111111,
              "#46039f"
             ],
             [
              0.2222222222222222,
              "#7201a8"
             ],
             [
              0.3333333333333333,
              "#9c179e"
             ],
             [
              0.4444444444444444,
              "#bd3786"
             ],
             [
              0.5555555555555556,
              "#d8576b"
             ],
             [
              0.6666666666666666,
              "#ed7953"
             ],
             [
              0.7777777777777778,
              "#fb9f3a"
             ],
             [
              0.8888888888888888,
              "#fdca26"
             ],
             [
              1,
              "#f0f921"
             ]
            ],
            "type": "histogram2d"
           }
          ],
          "histogram2dcontour": [
           {
            "colorbar": {
             "outlinewidth": 0,
             "ticks": ""
            },
            "colorscale": [
             [
              0,
              "#0d0887"
             ],
             [
              0.1111111111111111,
              "#46039f"
             ],
             [
              0.2222222222222222,
              "#7201a8"
             ],
             [
              0.3333333333333333,
              "#9c179e"
             ],
             [
              0.4444444444444444,
              "#bd3786"
             ],
             [
              0.5555555555555556,
              "#d8576b"
             ],
             [
              0.6666666666666666,
              "#ed7953"
             ],
             [
              0.7777777777777778,
              "#fb9f3a"
             ],
             [
              0.8888888888888888,
              "#fdca26"
             ],
             [
              1,
              "#f0f921"
             ]
            ],
            "type": "histogram2dcontour"
           }
          ],
          "mesh3d": [
           {
            "colorbar": {
             "outlinewidth": 0,
             "ticks": ""
            },
            "type": "mesh3d"
           }
          ],
          "parcoords": [
           {
            "line": {
             "colorbar": {
              "outlinewidth": 0,
              "ticks": ""
             }
            },
            "type": "parcoords"
           }
          ],
          "pie": [
           {
            "automargin": true,
            "type": "pie"
           }
          ],
          "scatter": [
           {
            "marker": {
             "colorbar": {
              "outlinewidth": 0,
              "ticks": ""
             }
            },
            "type": "scatter"
           }
          ],
          "scatter3d": [
           {
            "line": {
             "colorbar": {
              "outlinewidth": 0,
              "ticks": ""
             }
            },
            "marker": {
             "colorbar": {
              "outlinewidth": 0,
              "ticks": ""
             }
            },
            "type": "scatter3d"
           }
          ],
          "scattercarpet": [
           {
            "marker": {
             "colorbar": {
              "outlinewidth": 0,
              "ticks": ""
             }
            },
            "type": "scattercarpet"
           }
          ],
          "scattergeo": [
           {
            "marker": {
             "colorbar": {
              "outlinewidth": 0,
              "ticks": ""
             }
            },
            "type": "scattergeo"
           }
          ],
          "scattergl": [
           {
            "marker": {
             "colorbar": {
              "outlinewidth": 0,
              "ticks": ""
             }
            },
            "type": "scattergl"
           }
          ],
          "scattermapbox": [
           {
            "marker": {
             "colorbar": {
              "outlinewidth": 0,
              "ticks": ""
             }
            },
            "type": "scattermapbox"
           }
          ],
          "scatterpolar": [
           {
            "marker": {
             "colorbar": {
              "outlinewidth": 0,
              "ticks": ""
             }
            },
            "type": "scatterpolar"
           }
          ],
          "scatterpolargl": [
           {
            "marker": {
             "colorbar": {
              "outlinewidth": 0,
              "ticks": ""
             }
            },
            "type": "scatterpolargl"
           }
          ],
          "scatterternary": [
           {
            "marker": {
             "colorbar": {
              "outlinewidth": 0,
              "ticks": ""
             }
            },
            "type": "scatterternary"
           }
          ],
          "surface": [
           {
            "colorbar": {
             "outlinewidth": 0,
             "ticks": ""
            },
            "colorscale": [
             [
              0,
              "#0d0887"
             ],
             [
              0.1111111111111111,
              "#46039f"
             ],
             [
              0.2222222222222222,
              "#7201a8"
             ],
             [
              0.3333333333333333,
              "#9c179e"
             ],
             [
              0.4444444444444444,
              "#bd3786"
             ],
             [
              0.5555555555555556,
              "#d8576b"
             ],
             [
              0.6666666666666666,
              "#ed7953"
             ],
             [
              0.7777777777777778,
              "#fb9f3a"
             ],
             [
              0.8888888888888888,
              "#fdca26"
             ],
             [
              1,
              "#f0f921"
             ]
            ],
            "type": "surface"
           }
          ],
          "table": [
           {
            "cells": {
             "fill": {
              "color": "#EBF0F8"
             },
             "line": {
              "color": "white"
             }
            },
            "header": {
             "fill": {
              "color": "#C8D4E3"
             },
             "line": {
              "color": "white"
             }
            },
            "type": "table"
           }
          ]
         },
         "layout": {
          "annotationdefaults": {
           "arrowcolor": "#2a3f5f",
           "arrowhead": 0,
           "arrowwidth": 1
          },
          "autotypenumbers": "strict",
          "coloraxis": {
           "colorbar": {
            "outlinewidth": 0,
            "ticks": ""
           }
          },
          "colorscale": {
           "diverging": [
            [
             0,
             "#8e0152"
            ],
            [
             0.1,
             "#c51b7d"
            ],
            [
             0.2,
             "#de77ae"
            ],
            [
             0.3,
             "#f1b6da"
            ],
            [
             0.4,
             "#fde0ef"
            ],
            [
             0.5,
             "#f7f7f7"
            ],
            [
             0.6,
             "#e6f5d0"
            ],
            [
             0.7,
             "#b8e186"
            ],
            [
             0.8,
             "#7fbc41"
            ],
            [
             0.9,
             "#4d9221"
            ],
            [
             1,
             "#276419"
            ]
           ],
           "sequential": [
            [
             0,
             "#0d0887"
            ],
            [
             0.1111111111111111,
             "#46039f"
            ],
            [
             0.2222222222222222,
             "#7201a8"
            ],
            [
             0.3333333333333333,
             "#9c179e"
            ],
            [
             0.4444444444444444,
             "#bd3786"
            ],
            [
             0.5555555555555556,
             "#d8576b"
            ],
            [
             0.6666666666666666,
             "#ed7953"
            ],
            [
             0.7777777777777778,
             "#fb9f3a"
            ],
            [
             0.8888888888888888,
             "#fdca26"
            ],
            [
             1,
             "#f0f921"
            ]
           ],
           "sequentialminus": [
            [
             0,
             "#0d0887"
            ],
            [
             0.1111111111111111,
             "#46039f"
            ],
            [
             0.2222222222222222,
             "#7201a8"
            ],
            [
             0.3333333333333333,
             "#9c179e"
            ],
            [
             0.4444444444444444,
             "#bd3786"
            ],
            [
             0.5555555555555556,
             "#d8576b"
            ],
            [
             0.6666666666666666,
             "#ed7953"
            ],
            [
             0.7777777777777778,
             "#fb9f3a"
            ],
            [
             0.8888888888888888,
             "#fdca26"
            ],
            [
             1,
             "#f0f921"
            ]
           ]
          },
          "colorway": [
           "#636efa",
           "#EF553B",
           "#00cc96",
           "#ab63fa",
           "#FFA15A",
           "#19d3f3",
           "#FF6692",
           "#B6E880",
           "#FF97FF",
           "#FECB52"
          ],
          "font": {
           "color": "#2a3f5f"
          },
          "geo": {
           "bgcolor": "white",
           "lakecolor": "white",
           "landcolor": "#E5ECF6",
           "showlakes": true,
           "showland": true,
           "subunitcolor": "white"
          },
          "hoverlabel": {
           "align": "left"
          },
          "hovermode": "closest",
          "mapbox": {
           "style": "light"
          },
          "paper_bgcolor": "white",
          "plot_bgcolor": "#E5ECF6",
          "polar": {
           "angularaxis": {
            "gridcolor": "white",
            "linecolor": "white",
            "ticks": ""
           },
           "bgcolor": "#E5ECF6",
           "radialaxis": {
            "gridcolor": "white",
            "linecolor": "white",
            "ticks": ""
           }
          },
          "scene": {
           "xaxis": {
            "backgroundcolor": "#E5ECF6",
            "gridcolor": "white",
            "gridwidth": 2,
            "linecolor": "white",
            "showbackground": true,
            "ticks": "",
            "zerolinecolor": "white"
           },
           "yaxis": {
            "backgroundcolor": "#E5ECF6",
            "gridcolor": "white",
            "gridwidth": 2,
            "linecolor": "white",
            "showbackground": true,
            "ticks": "",
            "zerolinecolor": "white"
           },
           "zaxis": {
            "backgroundcolor": "#E5ECF6",
            "gridcolor": "white",
            "gridwidth": 2,
            "linecolor": "white",
            "showbackground": true,
            "ticks": "",
            "zerolinecolor": "white"
           }
          },
          "shapedefaults": {
           "line": {
            "color": "#2a3f5f"
           }
          },
          "ternary": {
           "aaxis": {
            "gridcolor": "white",
            "linecolor": "white",
            "ticks": ""
           },
           "baxis": {
            "gridcolor": "white",
            "linecolor": "white",
            "ticks": ""
           },
           "bgcolor": "#E5ECF6",
           "caxis": {
            "gridcolor": "white",
            "linecolor": "white",
            "ticks": ""
           }
          },
          "title": {
           "x": 0.05
          },
          "xaxis": {
           "automargin": true,
           "gridcolor": "white",
           "linecolor": "white",
           "ticks": "",
           "title": {
            "standoff": 15
           },
           "zerolinecolor": "white",
           "zerolinewidth": 2
          },
          "yaxis": {
           "automargin": true,
           "gridcolor": "white",
           "linecolor": "white",
           "ticks": "",
           "title": {
            "standoff": 15
           },
           "zerolinecolor": "white",
           "zerolinewidth": 2
          }
         }
        },
        "title": {
         "text": "Phrase Frequencies in MacBeth"
        },
        "xaxis": {
         "anchor": "y",
         "domain": [
          0,
          1
         ],
         "title": {
          "text": "text"
         }
        },
        "yaxis": {
         "anchor": "x",
         "domain": [
          0,
          1
         ],
         "title": {
          "text": "count"
         }
        }
       }
      },
      "text/html": [
       "<div>                            <div id=\"ac7f7a06-e026-46d1-b114-bf39589dd151\" class=\"plotly-graph-div\" style=\"height:525px; width:100%;\"></div>            <script type=\"text/javascript\">                require([\"plotly\"], function(Plotly) {                    window.PLOTLYENV=window.PLOTLYENV || {};                                    if (document.getElementById(\"ac7f7a06-e026-46d1-b114-bf39589dd151\")) {                    Plotly.newPlot(                        \"ac7f7a06-e026-46d1-b114-bf39589dd151\",                        [{\"alignmentgroup\":\"True\",\"hovertemplate\":\"text=%{x}<br>count=%{y}<extra></extra>\",\"legendgroup\":\"\",\"marker\":{\"color\":\"#636efa\",\"pattern\":{\"shape\":\"\"}},\"name\":\"\",\"offsetgroup\":\"\",\"orientation\":\"v\",\"showlegend\":false,\"textposition\":\"auto\",\"type\":\"bar\",\"x\":[\"macbeth\",\"macduff\",\"banquo\",\"lady macbeth\",\"malcolm\",\"ross\",\"lennox\",\"duncan\",\"enter\",\"who\",\"thou\",\"siward\",\"first witch\",\"cawdor\",\"lady macduff\",\"doctor\",\"castle\",\"your\",\"thane\",\"[ _exeunt._ ]\"],\"xaxis\":\"x\",\"y\":[207,82,67,60,56,49,32,32,31,26,24,23,23,20,20,20,19,19,19,19],\"yaxis\":\"y\"}],                        {\"barmode\":\"relative\",\"legend\":{\"tracegroupgap\":0},\"template\":{\"data\":{\"bar\":[{\"error_x\":{\"color\":\"#2a3f5f\"},\"error_y\":{\"color\":\"#2a3f5f\"},\"marker\":{\"line\":{\"color\":\"#E5ECF6\",\"width\":0.5},\"pattern\":{\"fillmode\":\"overlay\",\"size\":10,\"solidity\":0.2}},\"type\":\"bar\"}],\"barpolar\":[{\"marker\":{\"line\":{\"color\":\"#E5ECF6\",\"width\":0.5},\"pattern\":{\"fillmode\":\"overlay\",\"size\":10,\"solidity\":0.2}},\"type\":\"barpolar\"}],\"carpet\":[{\"aaxis\":{\"endlinecolor\":\"#2a3f5f\",\"gridcolor\":\"white\",\"linecolor\":\"white\",\"minorgridcolor\":\"white\",\"startlinecolor\":\"#2a3f5f\"},\"baxis\":{\"endlinecolor\":\"#2a3f5f\",\"gridcolor\":\"white\",\"linecolor\":\"white\",\"minorgridcolor\":\"white\",\"startlinecolor\":\"#2a3f5f\"},\"type\":\"carpet\"}],\"choropleth\":[{\"colorbar\":{\"outlinewidth\":0,\"ticks\":\"\"},\"type\":\"choropleth\"}],\"contour\":[{\"colorbar\":{\"outlinewidth\":0,\"ticks\":\"\"},\"colorscale\":[[0.0,\"#0d0887\"],[0.1111111111111111,\"#46039f\"],[0.2222222222222222,\"#7201a8\"],[0.3333333333333333,\"#9c179e\"],[0.4444444444444444,\"#bd3786\"],[0.5555555555555556,\"#d8576b\"],[0.6666666666666666,\"#ed7953\"],[0.7777777777777778,\"#fb9f3a\"],[0.8888888888888888,\"#fdca26\"],[1.0,\"#f0f921\"]],\"type\":\"contour\"}],\"contourcarpet\":[{\"colorbar\":{\"outlinewidth\":0,\"ticks\":\"\"},\"type\":\"contourcarpet\"}],\"heatmap\":[{\"colorbar\":{\"outlinewidth\":0,\"ticks\":\"\"},\"colorscale\":[[0.0,\"#0d0887\"],[0.1111111111111111,\"#46039f\"],[0.2222222222222222,\"#7201a8\"],[0.3333333333333333,\"#9c179e\"],[0.4444444444444444,\"#bd3786\"],[0.5555555555555556,\"#d8576b\"],[0.6666666666666666,\"#ed7953\"],[0.7777777777777778,\"#fb9f3a\"],[0.8888888888888888,\"#fdca26\"],[1.0,\"#f0f921\"]],\"type\":\"heatmap\"}],\"heatmapgl\":[{\"colorbar\":{\"outlinewidth\":0,\"ticks\":\"\"},\"colorscale\":[[0.0,\"#0d0887\"],[0.1111111111111111,\"#46039f\"],[0.2222222222222222,\"#7201a8\"],[0.3333333333333333,\"#9c179e\"],[0.4444444444444444,\"#bd3786\"],[0.5555555555555556,\"#d8576b\"],[0.6666666666666666,\"#ed7953\"],[0.7777777777777778,\"#fb9f3a\"],[0.8888888888888888,\"#fdca26\"],[1.0,\"#f0f921\"]],\"type\":\"heatmapgl\"}],\"histogram\":[{\"marker\":{\"pattern\":{\"fillmode\":\"overlay\",\"size\":10,\"solidity\":0.2}},\"type\":\"histogram\"}],\"histogram2d\":[{\"colorbar\":{\"outlinewidth\":0,\"ticks\":\"\"},\"colorscale\":[[0.0,\"#0d0887\"],[0.1111111111111111,\"#46039f\"],[0.2222222222222222,\"#7201a8\"],[0.3333333333333333,\"#9c179e\"],[0.4444444444444444,\"#bd3786\"],[0.5555555555555556,\"#d8576b\"],[0.6666666666666666,\"#ed7953\"],[0.7777777777777778,\"#fb9f3a\"],[0.8888888888888888,\"#fdca26\"],[1.0,\"#f0f921\"]],\"type\":\"histogram2d\"}],\"histogram2dcontour\":[{\"colorbar\":{\"outlinewidth\":0,\"ticks\":\"\"},\"colorscale\":[[0.0,\"#0d0887\"],[0.1111111111111111,\"#46039f\"],[0.2222222222222222,\"#7201a8\"],[0.3333333333333333,\"#9c179e\"],[0.4444444444444444,\"#bd3786\"],[0.5555555555555556,\"#d8576b\"],[0.6666666666666666,\"#ed7953\"],[0.7777777777777778,\"#fb9f3a\"],[0.8888888888888888,\"#fdca26\"],[1.0,\"#f0f921\"]],\"type\":\"histogram2dcontour\"}],\"mesh3d\":[{\"colorbar\":{\"outlinewidth\":0,\"ticks\":\"\"},\"type\":\"mesh3d\"}],\"parcoords\":[{\"line\":{\"colorbar\":{\"outlinewidth\":0,\"ticks\":\"\"}},\"type\":\"parcoords\"}],\"pie\":[{\"automargin\":true,\"type\":\"pie\"}],\"scatter\":[{\"marker\":{\"colorbar\":{\"outlinewidth\":0,\"ticks\":\"\"}},\"type\":\"scatter\"}],\"scatter3d\":[{\"line\":{\"colorbar\":{\"outlinewidth\":0,\"ticks\":\"\"}},\"marker\":{\"colorbar\":{\"outlinewidth\":0,\"ticks\":\"\"}},\"type\":\"scatter3d\"}],\"scattercarpet\":[{\"marker\":{\"colorbar\":{\"outlinewidth\":0,\"ticks\":\"\"}},\"type\":\"scattercarpet\"}],\"scattergeo\":[{\"marker\":{\"colorbar\":{\"outlinewidth\":0,\"ticks\":\"\"}},\"type\":\"scattergeo\"}],\"scattergl\":[{\"marker\":{\"colorbar\":{\"outlinewidth\":0,\"ticks\":\"\"}},\"type\":\"scattergl\"}],\"scattermapbox\":[{\"marker\":{\"colorbar\":{\"outlinewidth\":0,\"ticks\":\"\"}},\"type\":\"scattermapbox\"}],\"scatterpolar\":[{\"marker\":{\"colorbar\":{\"outlinewidth\":0,\"ticks\":\"\"}},\"type\":\"scatterpolar\"}],\"scatterpolargl\":[{\"marker\":{\"colorbar\":{\"outlinewidth\":0,\"ticks\":\"\"}},\"type\":\"scatterpolargl\"}],\"scatterternary\":[{\"marker\":{\"colorbar\":{\"outlinewidth\":0,\"ticks\":\"\"}},\"type\":\"scatterternary\"}],\"surface\":[{\"colorbar\":{\"outlinewidth\":0,\"ticks\":\"\"},\"colorscale\":[[0.0,\"#0d0887\"],[0.1111111111111111,\"#46039f\"],[0.2222222222222222,\"#7201a8\"],[0.3333333333333333,\"#9c179e\"],[0.4444444444444444,\"#bd3786\"],[0.5555555555555556,\"#d8576b\"],[0.6666666666666666,\"#ed7953\"],[0.7777777777777778,\"#fb9f3a\"],[0.8888888888888888,\"#fdca26\"],[1.0,\"#f0f921\"]],\"type\":\"surface\"}],\"table\":[{\"cells\":{\"fill\":{\"color\":\"#EBF0F8\"},\"line\":{\"color\":\"white\"}},\"header\":{\"fill\":{\"color\":\"#C8D4E3\"},\"line\":{\"color\":\"white\"}},\"type\":\"table\"}]},\"layout\":{\"annotationdefaults\":{\"arrowcolor\":\"#2a3f5f\",\"arrowhead\":0,\"arrowwidth\":1},\"autotypenumbers\":\"strict\",\"coloraxis\":{\"colorbar\":{\"outlinewidth\":0,\"ticks\":\"\"}},\"colorscale\":{\"diverging\":[[0,\"#8e0152\"],[0.1,\"#c51b7d\"],[0.2,\"#de77ae\"],[0.3,\"#f1b6da\"],[0.4,\"#fde0ef\"],[0.5,\"#f7f7f7\"],[0.6,\"#e6f5d0\"],[0.7,\"#b8e186\"],[0.8,\"#7fbc41\"],[0.9,\"#4d9221\"],[1,\"#276419\"]],\"sequential\":[[0.0,\"#0d0887\"],[0.1111111111111111,\"#46039f\"],[0.2222222222222222,\"#7201a8\"],[0.3333333333333333,\"#9c179e\"],[0.4444444444444444,\"#bd3786\"],[0.5555555555555556,\"#d8576b\"],[0.6666666666666666,\"#ed7953\"],[0.7777777777777778,\"#fb9f3a\"],[0.8888888888888888,\"#fdca26\"],[1.0,\"#f0f921\"]],\"sequentialminus\":[[0.0,\"#0d0887\"],[0.1111111111111111,\"#46039f\"],[0.2222222222222222,\"#7201a8\"],[0.3333333333333333,\"#9c179e\"],[0.4444444444444444,\"#bd3786\"],[0.5555555555555556,\"#d8576b\"],[0.6666666666666666,\"#ed7953\"],[0.7777777777777778,\"#fb9f3a\"],[0.8888888888888888,\"#fdca26\"],[1.0,\"#f0f921\"]]},\"colorway\":[\"#636efa\",\"#EF553B\",\"#00cc96\",\"#ab63fa\",\"#FFA15A\",\"#19d3f3\",\"#FF6692\",\"#B6E880\",\"#FF97FF\",\"#FECB52\"],\"font\":{\"color\":\"#2a3f5f\"},\"geo\":{\"bgcolor\":\"white\",\"lakecolor\":\"white\",\"landcolor\":\"#E5ECF6\",\"showlakes\":true,\"showland\":true,\"subunitcolor\":\"white\"},\"hoverlabel\":{\"align\":\"left\"},\"hovermode\":\"closest\",\"mapbox\":{\"style\":\"light\"},\"paper_bgcolor\":\"white\",\"plot_bgcolor\":\"#E5ECF6\",\"polar\":{\"angularaxis\":{\"gridcolor\":\"white\",\"linecolor\":\"white\",\"ticks\":\"\"},\"bgcolor\":\"#E5ECF6\",\"radialaxis\":{\"gridcolor\":\"white\",\"linecolor\":\"white\",\"ticks\":\"\"}},\"scene\":{\"xaxis\":{\"backgroundcolor\":\"#E5ECF6\",\"gridcolor\":\"white\",\"gridwidth\":2,\"linecolor\":\"white\",\"showbackground\":true,\"ticks\":\"\",\"zerolinecolor\":\"white\"},\"yaxis\":{\"backgroundcolor\":\"#E5ECF6\",\"gridcolor\":\"white\",\"gridwidth\":2,\"linecolor\":\"white\",\"showbackground\":true,\"ticks\":\"\",\"zerolinecolor\":\"white\"},\"zaxis\":{\"backgroundcolor\":\"#E5ECF6\",\"gridcolor\":\"white\",\"gridwidth\":2,\"linecolor\":\"white\",\"showbackground\":true,\"ticks\":\"\",\"zerolinecolor\":\"white\"}},\"shapedefaults\":{\"line\":{\"color\":\"#2a3f5f\"}},\"ternary\":{\"aaxis\":{\"gridcolor\":\"white\",\"linecolor\":\"white\",\"ticks\":\"\"},\"baxis\":{\"gridcolor\":\"white\",\"linecolor\":\"white\",\"ticks\":\"\"},\"bgcolor\":\"#E5ECF6\",\"caxis\":{\"gridcolor\":\"white\",\"linecolor\":\"white\",\"ticks\":\"\"}},\"title\":{\"x\":0.05},\"xaxis\":{\"automargin\":true,\"gridcolor\":\"white\",\"linecolor\":\"white\",\"ticks\":\"\",\"title\":{\"standoff\":15},\"zerolinecolor\":\"white\",\"zerolinewidth\":2},\"yaxis\":{\"automargin\":true,\"gridcolor\":\"white\",\"linecolor\":\"white\",\"ticks\":\"\",\"title\":{\"standoff\":15},\"zerolinecolor\":\"white\",\"zerolinewidth\":2}}},\"title\":{\"text\":\"Phrase Frequencies in MacBeth\"},\"xaxis\":{\"anchor\":\"y\",\"domain\":[0.0,1.0],\"title\":{\"text\":\"text\"}},\"yaxis\":{\"anchor\":\"x\",\"domain\":[0.0,1.0],\"title\":{\"text\":\"count\"}}},                        {\"responsive\": true}                    ).then(function(){\n",
       "                            \n",
       "var gd = document.getElementById('ac7f7a06-e026-46d1-b114-bf39589dd151');\n",
       "var x = new MutationObserver(function (mutations, observer) {{\n",
       "        var display = window.getComputedStyle(gd).display;\n",
       "        if (!display || display === 'none') {{\n",
       "            console.log([gd, 'removed!']);\n",
       "            Plotly.purge(gd);\n",
       "            observer.disconnect();\n",
       "        }}\n",
       "}});\n",
       "\n",
       "// Listen for the removal of the full notebook cells\n",
       "var notebookContainer = gd.closest('#notebook-container');\n",
       "if (notebookContainer) {{\n",
       "    x.observe(notebookContainer, {childList: true});\n",
       "}}\n",
       "\n",
       "// Listen for the clearing of the current output cell\n",
       "var outputEl = gd.closest('.output');\n",
       "if (outputEl) {{\n",
       "    x.observe(outputEl, {childList: true});\n",
       "}}\n",
       "\n",
       "                        })                };                });            </script>        </div>"
      ]
     },
     "metadata": {},
     "output_type": "display_data"
    }
   ],
   "source": [
    "import plotly.express as px\n",
    "macbeth_counts_sorted = macbeth_counts.head(20).sort_values(by='count', ascending=False)\n",
    "px.bar(macbeth_counts_sorted, x='text', y='count', title='Phrase Frequencies in MacBeth')"
   ]
  },
  {
   "cell_type": "markdown",
   "metadata": {},
   "source": [
    "Or if you would prefer a horizontal bar chart."
   ]
  },
  {
   "cell_type": "code",
   "execution_count": 20,
   "metadata": {},
   "outputs": [
    {
     "data": {
      "application/vnd.plotly.v1+json": {
       "config": {
        "plotlyServerURL": "https://plot.ly"
       },
       "data": [
        {
         "alignmentgroup": "True",
         "hovertemplate": "count=%{x}<br>text=%{y}<extra></extra>",
         "legendgroup": "",
         "marker": {
          "color": "#636efa",
          "pattern": {
           "shape": ""
          }
         },
         "name": "",
         "offsetgroup": "",
         "orientation": "h",
         "showlegend": false,
         "textposition": "auto",
         "type": "bar",
         "x": [
          19,
          19,
          19,
          19,
          20,
          20,
          20,
          23,
          23,
          24,
          26,
          31,
          32,
          32,
          49,
          56,
          60,
          67,
          82,
          207
         ],
         "xaxis": "x",
         "y": [
          "[ _exeunt._ ]",
          "your",
          "castle",
          "thane",
          "doctor",
          "lady macduff",
          "cawdor",
          "first witch",
          "siward",
          "thou",
          "who",
          "enter",
          "duncan",
          "lennox",
          "ross",
          "malcolm",
          "lady macbeth",
          "banquo",
          "macduff",
          "macbeth"
         ],
         "yaxis": "y"
        }
       ],
       "layout": {
        "barmode": "relative",
        "legend": {
         "tracegroupgap": 0
        },
        "template": {
         "data": {
          "bar": [
           {
            "error_x": {
             "color": "#2a3f5f"
            },
            "error_y": {
             "color": "#2a3f5f"
            },
            "marker": {
             "line": {
              "color": "#E5ECF6",
              "width": 0.5
             },
             "pattern": {
              "fillmode": "overlay",
              "size": 10,
              "solidity": 0.2
             }
            },
            "type": "bar"
           }
          ],
          "barpolar": [
           {
            "marker": {
             "line": {
              "color": "#E5ECF6",
              "width": 0.5
             },
             "pattern": {
              "fillmode": "overlay",
              "size": 10,
              "solidity": 0.2
             }
            },
            "type": "barpolar"
           }
          ],
          "carpet": [
           {
            "aaxis": {
             "endlinecolor": "#2a3f5f",
             "gridcolor": "white",
             "linecolor": "white",
             "minorgridcolor": "white",
             "startlinecolor": "#2a3f5f"
            },
            "baxis": {
             "endlinecolor": "#2a3f5f",
             "gridcolor": "white",
             "linecolor": "white",
             "minorgridcolor": "white",
             "startlinecolor": "#2a3f5f"
            },
            "type": "carpet"
           }
          ],
          "choropleth": [
           {
            "colorbar": {
             "outlinewidth": 0,
             "ticks": ""
            },
            "type": "choropleth"
           }
          ],
          "contour": [
           {
            "colorbar": {
             "outlinewidth": 0,
             "ticks": ""
            },
            "colorscale": [
             [
              0,
              "#0d0887"
             ],
             [
              0.1111111111111111,
              "#46039f"
             ],
             [
              0.2222222222222222,
              "#7201a8"
             ],
             [
              0.3333333333333333,
              "#9c179e"
             ],
             [
              0.4444444444444444,
              "#bd3786"
             ],
             [
              0.5555555555555556,
              "#d8576b"
             ],
             [
              0.6666666666666666,
              "#ed7953"
             ],
             [
              0.7777777777777778,
              "#fb9f3a"
             ],
             [
              0.8888888888888888,
              "#fdca26"
             ],
             [
              1,
              "#f0f921"
             ]
            ],
            "type": "contour"
           }
          ],
          "contourcarpet": [
           {
            "colorbar": {
             "outlinewidth": 0,
             "ticks": ""
            },
            "type": "contourcarpet"
           }
          ],
          "heatmap": [
           {
            "colorbar": {
             "outlinewidth": 0,
             "ticks": ""
            },
            "colorscale": [
             [
              0,
              "#0d0887"
             ],
             [
              0.1111111111111111,
              "#46039f"
             ],
             [
              0.2222222222222222,
              "#7201a8"
             ],
             [
              0.3333333333333333,
              "#9c179e"
             ],
             [
              0.4444444444444444,
              "#bd3786"
             ],
             [
              0.5555555555555556,
              "#d8576b"
             ],
             [
              0.6666666666666666,
              "#ed7953"
             ],
             [
              0.7777777777777778,
              "#fb9f3a"
             ],
             [
              0.8888888888888888,
              "#fdca26"
             ],
             [
              1,
              "#f0f921"
             ]
            ],
            "type": "heatmap"
           }
          ],
          "heatmapgl": [
           {
            "colorbar": {
             "outlinewidth": 0,
             "ticks": ""
            },
            "colorscale": [
             [
              0,
              "#0d0887"
             ],
             [
              0.1111111111111111,
              "#46039f"
             ],
             [
              0.2222222222222222,
              "#7201a8"
             ],
             [
              0.3333333333333333,
              "#9c179e"
             ],
             [
              0.4444444444444444,
              "#bd3786"
             ],
             [
              0.5555555555555556,
              "#d8576b"
             ],
             [
              0.6666666666666666,
              "#ed7953"
             ],
             [
              0.7777777777777778,
              "#fb9f3a"
             ],
             [
              0.8888888888888888,
              "#fdca26"
             ],
             [
              1,
              "#f0f921"
             ]
            ],
            "type": "heatmapgl"
           }
          ],
          "histogram": [
           {
            "marker": {
             "pattern": {
              "fillmode": "overlay",
              "size": 10,
              "solidity": 0.2
             }
            },
            "type": "histogram"
           }
          ],
          "histogram2d": [
           {
            "colorbar": {
             "outlinewidth": 0,
             "ticks": ""
            },
            "colorscale": [
             [
              0,
              "#0d0887"
             ],
             [
              0.1111111111111111,
              "#46039f"
             ],
             [
              0.2222222222222222,
              "#7201a8"
             ],
             [
              0.3333333333333333,
              "#9c179e"
             ],
             [
              0.4444444444444444,
              "#bd3786"
             ],
             [
              0.5555555555555556,
              "#d8576b"
             ],
             [
              0.6666666666666666,
              "#ed7953"
             ],
             [
              0.7777777777777778,
              "#fb9f3a"
             ],
             [
              0.8888888888888888,
              "#fdca26"
             ],
             [
              1,
              "#f0f921"
             ]
            ],
            "type": "histogram2d"
           }
          ],
          "histogram2dcontour": [
           {
            "colorbar": {
             "outlinewidth": 0,
             "ticks": ""
            },
            "colorscale": [
             [
              0,
              "#0d0887"
             ],
             [
              0.1111111111111111,
              "#46039f"
             ],
             [
              0.2222222222222222,
              "#7201a8"
             ],
             [
              0.3333333333333333,
              "#9c179e"
             ],
             [
              0.4444444444444444,
              "#bd3786"
             ],
             [
              0.5555555555555556,
              "#d8576b"
             ],
             [
              0.6666666666666666,
              "#ed7953"
             ],
             [
              0.7777777777777778,
              "#fb9f3a"
             ],
             [
              0.8888888888888888,
              "#fdca26"
             ],
             [
              1,
              "#f0f921"
             ]
            ],
            "type": "histogram2dcontour"
           }
          ],
          "mesh3d": [
           {
            "colorbar": {
             "outlinewidth": 0,
             "ticks": ""
            },
            "type": "mesh3d"
           }
          ],
          "parcoords": [
           {
            "line": {
             "colorbar": {
              "outlinewidth": 0,
              "ticks": ""
             }
            },
            "type": "parcoords"
           }
          ],
          "pie": [
           {
            "automargin": true,
            "type": "pie"
           }
          ],
          "scatter": [
           {
            "marker": {
             "colorbar": {
              "outlinewidth": 0,
              "ticks": ""
             }
            },
            "type": "scatter"
           }
          ],
          "scatter3d": [
           {
            "line": {
             "colorbar": {
              "outlinewidth": 0,
              "ticks": ""
             }
            },
            "marker": {
             "colorbar": {
              "outlinewidth": 0,
              "ticks": ""
             }
            },
            "type": "scatter3d"
           }
          ],
          "scattercarpet": [
           {
            "marker": {
             "colorbar": {
              "outlinewidth": 0,
              "ticks": ""
             }
            },
            "type": "scattercarpet"
           }
          ],
          "scattergeo": [
           {
            "marker": {
             "colorbar": {
              "outlinewidth": 0,
              "ticks": ""
             }
            },
            "type": "scattergeo"
           }
          ],
          "scattergl": [
           {
            "marker": {
             "colorbar": {
              "outlinewidth": 0,
              "ticks": ""
             }
            },
            "type": "scattergl"
           }
          ],
          "scattermapbox": [
           {
            "marker": {
             "colorbar": {
              "outlinewidth": 0,
              "ticks": ""
             }
            },
            "type": "scattermapbox"
           }
          ],
          "scatterpolar": [
           {
            "marker": {
             "colorbar": {
              "outlinewidth": 0,
              "ticks": ""
             }
            },
            "type": "scatterpolar"
           }
          ],
          "scatterpolargl": [
           {
            "marker": {
             "colorbar": {
              "outlinewidth": 0,
              "ticks": ""
             }
            },
            "type": "scatterpolargl"
           }
          ],
          "scatterternary": [
           {
            "marker": {
             "colorbar": {
              "outlinewidth": 0,
              "ticks": ""
             }
            },
            "type": "scatterternary"
           }
          ],
          "surface": [
           {
            "colorbar": {
             "outlinewidth": 0,
             "ticks": ""
            },
            "colorscale": [
             [
              0,
              "#0d0887"
             ],
             [
              0.1111111111111111,
              "#46039f"
             ],
             [
              0.2222222222222222,
              "#7201a8"
             ],
             [
              0.3333333333333333,
              "#9c179e"
             ],
             [
              0.4444444444444444,
              "#bd3786"
             ],
             [
              0.5555555555555556,
              "#d8576b"
             ],
             [
              0.6666666666666666,
              "#ed7953"
             ],
             [
              0.7777777777777778,
              "#fb9f3a"
             ],
             [
              0.8888888888888888,
              "#fdca26"
             ],
             [
              1,
              "#f0f921"
             ]
            ],
            "type": "surface"
           }
          ],
          "table": [
           {
            "cells": {
             "fill": {
              "color": "#EBF0F8"
             },
             "line": {
              "color": "white"
             }
            },
            "header": {
             "fill": {
              "color": "#C8D4E3"
             },
             "line": {
              "color": "white"
             }
            },
            "type": "table"
           }
          ]
         },
         "layout": {
          "annotationdefaults": {
           "arrowcolor": "#2a3f5f",
           "arrowhead": 0,
           "arrowwidth": 1
          },
          "autotypenumbers": "strict",
          "coloraxis": {
           "colorbar": {
            "outlinewidth": 0,
            "ticks": ""
           }
          },
          "colorscale": {
           "diverging": [
            [
             0,
             "#8e0152"
            ],
            [
             0.1,
             "#c51b7d"
            ],
            [
             0.2,
             "#de77ae"
            ],
            [
             0.3,
             "#f1b6da"
            ],
            [
             0.4,
             "#fde0ef"
            ],
            [
             0.5,
             "#f7f7f7"
            ],
            [
             0.6,
             "#e6f5d0"
            ],
            [
             0.7,
             "#b8e186"
            ],
            [
             0.8,
             "#7fbc41"
            ],
            [
             0.9,
             "#4d9221"
            ],
            [
             1,
             "#276419"
            ]
           ],
           "sequential": [
            [
             0,
             "#0d0887"
            ],
            [
             0.1111111111111111,
             "#46039f"
            ],
            [
             0.2222222222222222,
             "#7201a8"
            ],
            [
             0.3333333333333333,
             "#9c179e"
            ],
            [
             0.4444444444444444,
             "#bd3786"
            ],
            [
             0.5555555555555556,
             "#d8576b"
            ],
            [
             0.6666666666666666,
             "#ed7953"
            ],
            [
             0.7777777777777778,
             "#fb9f3a"
            ],
            [
             0.8888888888888888,
             "#fdca26"
            ],
            [
             1,
             "#f0f921"
            ]
           ],
           "sequentialminus": [
            [
             0,
             "#0d0887"
            ],
            [
             0.1111111111111111,
             "#46039f"
            ],
            [
             0.2222222222222222,
             "#7201a8"
            ],
            [
             0.3333333333333333,
             "#9c179e"
            ],
            [
             0.4444444444444444,
             "#bd3786"
            ],
            [
             0.5555555555555556,
             "#d8576b"
            ],
            [
             0.6666666666666666,
             "#ed7953"
            ],
            [
             0.7777777777777778,
             "#fb9f3a"
            ],
            [
             0.8888888888888888,
             "#fdca26"
            ],
            [
             1,
             "#f0f921"
            ]
           ]
          },
          "colorway": [
           "#636efa",
           "#EF553B",
           "#00cc96",
           "#ab63fa",
           "#FFA15A",
           "#19d3f3",
           "#FF6692",
           "#B6E880",
           "#FF97FF",
           "#FECB52"
          ],
          "font": {
           "color": "#2a3f5f"
          },
          "geo": {
           "bgcolor": "white",
           "lakecolor": "white",
           "landcolor": "#E5ECF6",
           "showlakes": true,
           "showland": true,
           "subunitcolor": "white"
          },
          "hoverlabel": {
           "align": "left"
          },
          "hovermode": "closest",
          "mapbox": {
           "style": "light"
          },
          "paper_bgcolor": "white",
          "plot_bgcolor": "#E5ECF6",
          "polar": {
           "angularaxis": {
            "gridcolor": "white",
            "linecolor": "white",
            "ticks": ""
           },
           "bgcolor": "#E5ECF6",
           "radialaxis": {
            "gridcolor": "white",
            "linecolor": "white",
            "ticks": ""
           }
          },
          "scene": {
           "xaxis": {
            "backgroundcolor": "#E5ECF6",
            "gridcolor": "white",
            "gridwidth": 2,
            "linecolor": "white",
            "showbackground": true,
            "ticks": "",
            "zerolinecolor": "white"
           },
           "yaxis": {
            "backgroundcolor": "#E5ECF6",
            "gridcolor": "white",
            "gridwidth": 2,
            "linecolor": "white",
            "showbackground": true,
            "ticks": "",
            "zerolinecolor": "white"
           },
           "zaxis": {
            "backgroundcolor": "#E5ECF6",
            "gridcolor": "white",
            "gridwidth": 2,
            "linecolor": "white",
            "showbackground": true,
            "ticks": "",
            "zerolinecolor": "white"
           }
          },
          "shapedefaults": {
           "line": {
            "color": "#2a3f5f"
           }
          },
          "ternary": {
           "aaxis": {
            "gridcolor": "white",
            "linecolor": "white",
            "ticks": ""
           },
           "baxis": {
            "gridcolor": "white",
            "linecolor": "white",
            "ticks": ""
           },
           "bgcolor": "#E5ECF6",
           "caxis": {
            "gridcolor": "white",
            "linecolor": "white",
            "ticks": ""
           }
          },
          "title": {
           "x": 0.05
          },
          "xaxis": {
           "automargin": true,
           "gridcolor": "white",
           "linecolor": "white",
           "ticks": "",
           "title": {
            "standoff": 15
           },
           "zerolinecolor": "white",
           "zerolinewidth": 2
          },
          "yaxis": {
           "automargin": true,
           "gridcolor": "white",
           "linecolor": "white",
           "ticks": "",
           "title": {
            "standoff": 15
           },
           "zerolinecolor": "white",
           "zerolinewidth": 2
          }
         }
        },
        "title": {
         "text": "Phrase Frequencies in MacBeth"
        },
        "xaxis": {
         "anchor": "y",
         "domain": [
          0,
          1
         ],
         "title": {
          "text": "count"
         }
        },
        "yaxis": {
         "anchor": "x",
         "domain": [
          0,
          1
         ],
         "title": {
          "text": "text"
         }
        }
       }
      },
      "text/html": [
       "<div>                            <div id=\"d7ad0802-8d1c-4c1f-a6f9-d6583f64ec3c\" class=\"plotly-graph-div\" style=\"height:525px; width:100%;\"></div>            <script type=\"text/javascript\">                require([\"plotly\"], function(Plotly) {                    window.PLOTLYENV=window.PLOTLYENV || {};                                    if (document.getElementById(\"d7ad0802-8d1c-4c1f-a6f9-d6583f64ec3c\")) {                    Plotly.newPlot(                        \"d7ad0802-8d1c-4c1f-a6f9-d6583f64ec3c\",                        [{\"alignmentgroup\":\"True\",\"hovertemplate\":\"count=%{x}<br>text=%{y}<extra></extra>\",\"legendgroup\":\"\",\"marker\":{\"color\":\"#636efa\",\"pattern\":{\"shape\":\"\"}},\"name\":\"\",\"offsetgroup\":\"\",\"orientation\":\"h\",\"showlegend\":false,\"textposition\":\"auto\",\"type\":\"bar\",\"x\":[19,19,19,19,20,20,20,23,23,24,26,31,32,32,49,56,60,67,82,207],\"xaxis\":\"x\",\"y\":[\"[ _exeunt._ ]\",\"your\",\"castle\",\"thane\",\"doctor\",\"lady macduff\",\"cawdor\",\"first witch\",\"siward\",\"thou\",\"who\",\"enter\",\"duncan\",\"lennox\",\"ross\",\"malcolm\",\"lady macbeth\",\"banquo\",\"macduff\",\"macbeth\"],\"yaxis\":\"y\"}],                        {\"barmode\":\"relative\",\"legend\":{\"tracegroupgap\":0},\"template\":{\"data\":{\"bar\":[{\"error_x\":{\"color\":\"#2a3f5f\"},\"error_y\":{\"color\":\"#2a3f5f\"},\"marker\":{\"line\":{\"color\":\"#E5ECF6\",\"width\":0.5},\"pattern\":{\"fillmode\":\"overlay\",\"size\":10,\"solidity\":0.2}},\"type\":\"bar\"}],\"barpolar\":[{\"marker\":{\"line\":{\"color\":\"#E5ECF6\",\"width\":0.5},\"pattern\":{\"fillmode\":\"overlay\",\"size\":10,\"solidity\":0.2}},\"type\":\"barpolar\"}],\"carpet\":[{\"aaxis\":{\"endlinecolor\":\"#2a3f5f\",\"gridcolor\":\"white\",\"linecolor\":\"white\",\"minorgridcolor\":\"white\",\"startlinecolor\":\"#2a3f5f\"},\"baxis\":{\"endlinecolor\":\"#2a3f5f\",\"gridcolor\":\"white\",\"linecolor\":\"white\",\"minorgridcolor\":\"white\",\"startlinecolor\":\"#2a3f5f\"},\"type\":\"carpet\"}],\"choropleth\":[{\"colorbar\":{\"outlinewidth\":0,\"ticks\":\"\"},\"type\":\"choropleth\"}],\"contour\":[{\"colorbar\":{\"outlinewidth\":0,\"ticks\":\"\"},\"colorscale\":[[0.0,\"#0d0887\"],[0.1111111111111111,\"#46039f\"],[0.2222222222222222,\"#7201a8\"],[0.3333333333333333,\"#9c179e\"],[0.4444444444444444,\"#bd3786\"],[0.5555555555555556,\"#d8576b\"],[0.6666666666666666,\"#ed7953\"],[0.7777777777777778,\"#fb9f3a\"],[0.8888888888888888,\"#fdca26\"],[1.0,\"#f0f921\"]],\"type\":\"contour\"}],\"contourcarpet\":[{\"colorbar\":{\"outlinewidth\":0,\"ticks\":\"\"},\"type\":\"contourcarpet\"}],\"heatmap\":[{\"colorbar\":{\"outlinewidth\":0,\"ticks\":\"\"},\"colorscale\":[[0.0,\"#0d0887\"],[0.1111111111111111,\"#46039f\"],[0.2222222222222222,\"#7201a8\"],[0.3333333333333333,\"#9c179e\"],[0.4444444444444444,\"#bd3786\"],[0.5555555555555556,\"#d8576b\"],[0.6666666666666666,\"#ed7953\"],[0.7777777777777778,\"#fb9f3a\"],[0.8888888888888888,\"#fdca26\"],[1.0,\"#f0f921\"]],\"type\":\"heatmap\"}],\"heatmapgl\":[{\"colorbar\":{\"outlinewidth\":0,\"ticks\":\"\"},\"colorscale\":[[0.0,\"#0d0887\"],[0.1111111111111111,\"#46039f\"],[0.2222222222222222,\"#7201a8\"],[0.3333333333333333,\"#9c179e\"],[0.4444444444444444,\"#bd3786\"],[0.5555555555555556,\"#d8576b\"],[0.6666666666666666,\"#ed7953\"],[0.7777777777777778,\"#fb9f3a\"],[0.8888888888888888,\"#fdca26\"],[1.0,\"#f0f921\"]],\"type\":\"heatmapgl\"}],\"histogram\":[{\"marker\":{\"pattern\":{\"fillmode\":\"overlay\",\"size\":10,\"solidity\":0.2}},\"type\":\"histogram\"}],\"histogram2d\":[{\"colorbar\":{\"outlinewidth\":0,\"ticks\":\"\"},\"colorscale\":[[0.0,\"#0d0887\"],[0.1111111111111111,\"#46039f\"],[0.2222222222222222,\"#7201a8\"],[0.3333333333333333,\"#9c179e\"],[0.4444444444444444,\"#bd3786\"],[0.5555555555555556,\"#d8576b\"],[0.6666666666666666,\"#ed7953\"],[0.7777777777777778,\"#fb9f3a\"],[0.8888888888888888,\"#fdca26\"],[1.0,\"#f0f921\"]],\"type\":\"histogram2d\"}],\"histogram2dcontour\":[{\"colorbar\":{\"outlinewidth\":0,\"ticks\":\"\"},\"colorscale\":[[0.0,\"#0d0887\"],[0.1111111111111111,\"#46039f\"],[0.2222222222222222,\"#7201a8\"],[0.3333333333333333,\"#9c179e\"],[0.4444444444444444,\"#bd3786\"],[0.5555555555555556,\"#d8576b\"],[0.6666666666666666,\"#ed7953\"],[0.7777777777777778,\"#fb9f3a\"],[0.8888888888888888,\"#fdca26\"],[1.0,\"#f0f921\"]],\"type\":\"histogram2dcontour\"}],\"mesh3d\":[{\"colorbar\":{\"outlinewidth\":0,\"ticks\":\"\"},\"type\":\"mesh3d\"}],\"parcoords\":[{\"line\":{\"colorbar\":{\"outlinewidth\":0,\"ticks\":\"\"}},\"type\":\"parcoords\"}],\"pie\":[{\"automargin\":true,\"type\":\"pie\"}],\"scatter\":[{\"marker\":{\"colorbar\":{\"outlinewidth\":0,\"ticks\":\"\"}},\"type\":\"scatter\"}],\"scatter3d\":[{\"line\":{\"colorbar\":{\"outlinewidth\":0,\"ticks\":\"\"}},\"marker\":{\"colorbar\":{\"outlinewidth\":0,\"ticks\":\"\"}},\"type\":\"scatter3d\"}],\"scattercarpet\":[{\"marker\":{\"colorbar\":{\"outlinewidth\":0,\"ticks\":\"\"}},\"type\":\"scattercarpet\"}],\"scattergeo\":[{\"marker\":{\"colorbar\":{\"outlinewidth\":0,\"ticks\":\"\"}},\"type\":\"scattergeo\"}],\"scattergl\":[{\"marker\":{\"colorbar\":{\"outlinewidth\":0,\"ticks\":\"\"}},\"type\":\"scattergl\"}],\"scattermapbox\":[{\"marker\":{\"colorbar\":{\"outlinewidth\":0,\"ticks\":\"\"}},\"type\":\"scattermapbox\"}],\"scatterpolar\":[{\"marker\":{\"colorbar\":{\"outlinewidth\":0,\"ticks\":\"\"}},\"type\":\"scatterpolar\"}],\"scatterpolargl\":[{\"marker\":{\"colorbar\":{\"outlinewidth\":0,\"ticks\":\"\"}},\"type\":\"scatterpolargl\"}],\"scatterternary\":[{\"marker\":{\"colorbar\":{\"outlinewidth\":0,\"ticks\":\"\"}},\"type\":\"scatterternary\"}],\"surface\":[{\"colorbar\":{\"outlinewidth\":0,\"ticks\":\"\"},\"colorscale\":[[0.0,\"#0d0887\"],[0.1111111111111111,\"#46039f\"],[0.2222222222222222,\"#7201a8\"],[0.3333333333333333,\"#9c179e\"],[0.4444444444444444,\"#bd3786\"],[0.5555555555555556,\"#d8576b\"],[0.6666666666666666,\"#ed7953\"],[0.7777777777777778,\"#fb9f3a\"],[0.8888888888888888,\"#fdca26\"],[1.0,\"#f0f921\"]],\"type\":\"surface\"}],\"table\":[{\"cells\":{\"fill\":{\"color\":\"#EBF0F8\"},\"line\":{\"color\":\"white\"}},\"header\":{\"fill\":{\"color\":\"#C8D4E3\"},\"line\":{\"color\":\"white\"}},\"type\":\"table\"}]},\"layout\":{\"annotationdefaults\":{\"arrowcolor\":\"#2a3f5f\",\"arrowhead\":0,\"arrowwidth\":1},\"autotypenumbers\":\"strict\",\"coloraxis\":{\"colorbar\":{\"outlinewidth\":0,\"ticks\":\"\"}},\"colorscale\":{\"diverging\":[[0,\"#8e0152\"],[0.1,\"#c51b7d\"],[0.2,\"#de77ae\"],[0.3,\"#f1b6da\"],[0.4,\"#fde0ef\"],[0.5,\"#f7f7f7\"],[0.6,\"#e6f5d0\"],[0.7,\"#b8e186\"],[0.8,\"#7fbc41\"],[0.9,\"#4d9221\"],[1,\"#276419\"]],\"sequential\":[[0.0,\"#0d0887\"],[0.1111111111111111,\"#46039f\"],[0.2222222222222222,\"#7201a8\"],[0.3333333333333333,\"#9c179e\"],[0.4444444444444444,\"#bd3786\"],[0.5555555555555556,\"#d8576b\"],[0.6666666666666666,\"#ed7953\"],[0.7777777777777778,\"#fb9f3a\"],[0.8888888888888888,\"#fdca26\"],[1.0,\"#f0f921\"]],\"sequentialminus\":[[0.0,\"#0d0887\"],[0.1111111111111111,\"#46039f\"],[0.2222222222222222,\"#7201a8\"],[0.3333333333333333,\"#9c179e\"],[0.4444444444444444,\"#bd3786\"],[0.5555555555555556,\"#d8576b\"],[0.6666666666666666,\"#ed7953\"],[0.7777777777777778,\"#fb9f3a\"],[0.8888888888888888,\"#fdca26\"],[1.0,\"#f0f921\"]]},\"colorway\":[\"#636efa\",\"#EF553B\",\"#00cc96\",\"#ab63fa\",\"#FFA15A\",\"#19d3f3\",\"#FF6692\",\"#B6E880\",\"#FF97FF\",\"#FECB52\"],\"font\":{\"color\":\"#2a3f5f\"},\"geo\":{\"bgcolor\":\"white\",\"lakecolor\":\"white\",\"landcolor\":\"#E5ECF6\",\"showlakes\":true,\"showland\":true,\"subunitcolor\":\"white\"},\"hoverlabel\":{\"align\":\"left\"},\"hovermode\":\"closest\",\"mapbox\":{\"style\":\"light\"},\"paper_bgcolor\":\"white\",\"plot_bgcolor\":\"#E5ECF6\",\"polar\":{\"angularaxis\":{\"gridcolor\":\"white\",\"linecolor\":\"white\",\"ticks\":\"\"},\"bgcolor\":\"#E5ECF6\",\"radialaxis\":{\"gridcolor\":\"white\",\"linecolor\":\"white\",\"ticks\":\"\"}},\"scene\":{\"xaxis\":{\"backgroundcolor\":\"#E5ECF6\",\"gridcolor\":\"white\",\"gridwidth\":2,\"linecolor\":\"white\",\"showbackground\":true,\"ticks\":\"\",\"zerolinecolor\":\"white\"},\"yaxis\":{\"backgroundcolor\":\"#E5ECF6\",\"gridcolor\":\"white\",\"gridwidth\":2,\"linecolor\":\"white\",\"showbackground\":true,\"ticks\":\"\",\"zerolinecolor\":\"white\"},\"zaxis\":{\"backgroundcolor\":\"#E5ECF6\",\"gridcolor\":\"white\",\"gridwidth\":2,\"linecolor\":\"white\",\"showbackground\":true,\"ticks\":\"\",\"zerolinecolor\":\"white\"}},\"shapedefaults\":{\"line\":{\"color\":\"#2a3f5f\"}},\"ternary\":{\"aaxis\":{\"gridcolor\":\"white\",\"linecolor\":\"white\",\"ticks\":\"\"},\"baxis\":{\"gridcolor\":\"white\",\"linecolor\":\"white\",\"ticks\":\"\"},\"bgcolor\":\"#E5ECF6\",\"caxis\":{\"gridcolor\":\"white\",\"linecolor\":\"white\",\"ticks\":\"\"}},\"title\":{\"x\":0.05},\"xaxis\":{\"automargin\":true,\"gridcolor\":\"white\",\"linecolor\":\"white\",\"ticks\":\"\",\"title\":{\"standoff\":15},\"zerolinecolor\":\"white\",\"zerolinewidth\":2},\"yaxis\":{\"automargin\":true,\"gridcolor\":\"white\",\"linecolor\":\"white\",\"ticks\":\"\",\"title\":{\"standoff\":15},\"zerolinecolor\":\"white\",\"zerolinewidth\":2}}},\"title\":{\"text\":\"Phrase Frequencies in MacBeth\"},\"xaxis\":{\"anchor\":\"y\",\"domain\":[0.0,1.0],\"title\":{\"text\":\"count\"}},\"yaxis\":{\"anchor\":\"x\",\"domain\":[0.0,1.0],\"title\":{\"text\":\"text\"}}},                        {\"responsive\": true}                    ).then(function(){\n",
       "                            \n",
       "var gd = document.getElementById('d7ad0802-8d1c-4c1f-a6f9-d6583f64ec3c');\n",
       "var x = new MutationObserver(function (mutations, observer) {{\n",
       "        var display = window.getComputedStyle(gd).display;\n",
       "        if (!display || display === 'none') {{\n",
       "            console.log([gd, 'removed!']);\n",
       "            Plotly.purge(gd);\n",
       "            observer.disconnect();\n",
       "        }}\n",
       "}});\n",
       "\n",
       "// Listen for the removal of the full notebook cells\n",
       "var notebookContainer = gd.closest('#notebook-container');\n",
       "if (notebookContainer) {{\n",
       "    x.observe(notebookContainer, {childList: true});\n",
       "}}\n",
       "\n",
       "// Listen for the clearing of the current output cell\n",
       "var outputEl = gd.closest('.output');\n",
       "if (outputEl) {{\n",
       "    x.observe(outputEl, {childList: true});\n",
       "}}\n",
       "\n",
       "                        })                };                });            </script>        </div>"
      ]
     },
     "metadata": {},
     "output_type": "display_data"
    }
   ],
   "source": [
    "macbeth_counts_sorted = macbeth_counts.head(20).sort_values(by='count', ascending=True)\n",
    "px.bar(macbeth_counts_sorted, y='text', x='count', orientation='h', title='Phrase Frequencies in MacBeth')"
   ]
  },
  {
   "cell_type": "markdown",
   "metadata": {},
   "source": [
    "Surprise, surprise. *Macbeth* is the top phrase in Macbeth. Our main character is mentioned more than twice the number of times as the next most frequent phrase, *Macduff*, and more than three times the frequency that *Lady Macbeth* is mentioned.\n",
    "\n",
    "## Thinking about the results\n",
    "\n",
    "One of the first things we might realize from this simple investigation is the importance of proper nouns. Phrases containing the main characters occur far more frequently than other phrases, and the main character of the play is mentioned far more times than any other characters.\n",
    "\n",
    "Are these observations particular to Macbeth? Or to Shakespeare's plays? Or are they more universal?\n",
    "\n",
    "Now that we've gone through Macbeth, how hard could it be to look at other texts?\n",
    "\n",
    "Let's define a function to to download an ebook from a text url, pull out all the noun phrases, count them up, and plot them. We can then use this for any ebook text that we would like to visualize."
   ]
  },
  {
   "cell_type": "code",
   "execution_count": 21,
   "metadata": {},
   "outputs": [
    {
     "name": "stdout",
     "output_type": "stream",
     "text": [
      "Word frequency plot function defined.\n"
     ]
    }
   ],
   "source": [
    "def word_frequency_plot(text_url):\n",
    "    r = requests.get(text_url)\n",
    "    r.encoding = 'utf-8'\n",
    "    if 'gutenberg' in text_url:\n",
    "        text = r.text.split('***')[2]\n",
    "    else:\n",
    "        text = r.text\n",
    "    text = text.replace(\"’\",\"'\").replace(\"“\",'\"').replace(\"”\",'\"')\n",
    "    phrases = TextBlob(text).noun_phrases\n",
    "    unique_texts = list(set(phrases))\n",
    "    text_counts =  {text: phrases.count(text) for text in unique_texts}\n",
    "    sorted_texts = sorted(text_counts.items(), key=lambda x: x[1], reverse=True)\n",
    "    counts = pd.DataFrame(data=sorted_texts, columns=['text', 'count'])\n",
    "    global counts_sorted \n",
    "    counts_sorted = counts.head(20).sort_values(by='count', ascending=True)\n",
    "    px.bar(counts_sorted, y='text', x='count', orientation='h', title='Phrase Frequencies').show()\n",
    "print('Word frequency plot function defined.')"
   ]
  },
  {
   "cell_type": "markdown",
   "metadata": {},
   "source": [
    "## Looking at Hamlet\n",
    "\n",
    "**Hamlet** can be found on [Project Gutenberg](http://www.gutenberg.org) under [EBook-No. 1524](http://www.gutenberg.org/ebooks/1524).\n",
    "\n",
    "Run the following code to download **Hamlet**, pull out all the noun phrases, count them up, and plot them out."
   ]
  },
  {
   "cell_type": "code",
   "execution_count": 22,
   "metadata": {},
   "outputs": [
    {
     "data": {
      "application/vnd.plotly.v1+json": {
       "config": {
        "plotlyServerURL": "https://plot.ly"
       },
       "data": [
        {
         "alignmentgroup": "True",
         "hovertemplate": "count=%{x}<br>text=%{y}<extra></extra>",
         "legendgroup": "",
         "marker": {
          "color": "#636efa",
          "pattern": {
           "shape": ""
          }
         },
         "name": "",
         "offsetgroup": "",
         "orientation": "h",
         "showlegend": false,
         "textposition": "auto",
         "type": "bar",
         "x": [
          21,
          24,
          24,
          26,
          29,
          29,
          30,
          30,
          33,
          35,
          46,
          58,
          69,
          73,
          79,
          102,
          102,
          104,
          147,
          446
         ],
         "xaxis": "x",
         "y": [
          "england",
          "who",
          "nay",
          "denmark",
          "barnardo",
          "castle",
          "god",
          "osric",
          "first clown",
          "ay",
          "marcellus",
          "guildenstern",
          "queen",
          "rosencrantz",
          "ophelia",
          "king",
          "laertes",
          "polonius",
          "horatio",
          "hamlet"
         ],
         "yaxis": "y"
        }
       ],
       "layout": {
        "barmode": "relative",
        "legend": {
         "tracegroupgap": 0
        },
        "template": {
         "data": {
          "bar": [
           {
            "error_x": {
             "color": "#2a3f5f"
            },
            "error_y": {
             "color": "#2a3f5f"
            },
            "marker": {
             "line": {
              "color": "#E5ECF6",
              "width": 0.5
             },
             "pattern": {
              "fillmode": "overlay",
              "size": 10,
              "solidity": 0.2
             }
            },
            "type": "bar"
           }
          ],
          "barpolar": [
           {
            "marker": {
             "line": {
              "color": "#E5ECF6",
              "width": 0.5
             },
             "pattern": {
              "fillmode": "overlay",
              "size": 10,
              "solidity": 0.2
             }
            },
            "type": "barpolar"
           }
          ],
          "carpet": [
           {
            "aaxis": {
             "endlinecolor": "#2a3f5f",
             "gridcolor": "white",
             "linecolor": "white",
             "minorgridcolor": "white",
             "startlinecolor": "#2a3f5f"
            },
            "baxis": {
             "endlinecolor": "#2a3f5f",
             "gridcolor": "white",
             "linecolor": "white",
             "minorgridcolor": "white",
             "startlinecolor": "#2a3f5f"
            },
            "type": "carpet"
           }
          ],
          "choropleth": [
           {
            "colorbar": {
             "outlinewidth": 0,
             "ticks": ""
            },
            "type": "choropleth"
           }
          ],
          "contour": [
           {
            "colorbar": {
             "outlinewidth": 0,
             "ticks": ""
            },
            "colorscale": [
             [
              0,
              "#0d0887"
             ],
             [
              0.1111111111111111,
              "#46039f"
             ],
             [
              0.2222222222222222,
              "#7201a8"
             ],
             [
              0.3333333333333333,
              "#9c179e"
             ],
             [
              0.4444444444444444,
              "#bd3786"
             ],
             [
              0.5555555555555556,
              "#d8576b"
             ],
             [
              0.6666666666666666,
              "#ed7953"
             ],
             [
              0.7777777777777778,
              "#fb9f3a"
             ],
             [
              0.8888888888888888,
              "#fdca26"
             ],
             [
              1,
              "#f0f921"
             ]
            ],
            "type": "contour"
           }
          ],
          "contourcarpet": [
           {
            "colorbar": {
             "outlinewidth": 0,
             "ticks": ""
            },
            "type": "contourcarpet"
           }
          ],
          "heatmap": [
           {
            "colorbar": {
             "outlinewidth": 0,
             "ticks": ""
            },
            "colorscale": [
             [
              0,
              "#0d0887"
             ],
             [
              0.1111111111111111,
              "#46039f"
             ],
             [
              0.2222222222222222,
              "#7201a8"
             ],
             [
              0.3333333333333333,
              "#9c179e"
             ],
             [
              0.4444444444444444,
              "#bd3786"
             ],
             [
              0.5555555555555556,
              "#d8576b"
             ],
             [
              0.6666666666666666,
              "#ed7953"
             ],
             [
              0.7777777777777778,
              "#fb9f3a"
             ],
             [
              0.8888888888888888,
              "#fdca26"
             ],
             [
              1,
              "#f0f921"
             ]
            ],
            "type": "heatmap"
           }
          ],
          "heatmapgl": [
           {
            "colorbar": {
             "outlinewidth": 0,
             "ticks": ""
            },
            "colorscale": [
             [
              0,
              "#0d0887"
             ],
             [
              0.1111111111111111,
              "#46039f"
             ],
             [
              0.2222222222222222,
              "#7201a8"
             ],
             [
              0.3333333333333333,
              "#9c179e"
             ],
             [
              0.4444444444444444,
              "#bd3786"
             ],
             [
              0.5555555555555556,
              "#d8576b"
             ],
             [
              0.6666666666666666,
              "#ed7953"
             ],
             [
              0.7777777777777778,
              "#fb9f3a"
             ],
             [
              0.8888888888888888,
              "#fdca26"
             ],
             [
              1,
              "#f0f921"
             ]
            ],
            "type": "heatmapgl"
           }
          ],
          "histogram": [
           {
            "marker": {
             "pattern": {
              "fillmode": "overlay",
              "size": 10,
              "solidity": 0.2
             }
            },
            "type": "histogram"
           }
          ],
          "histogram2d": [
           {
            "colorbar": {
             "outlinewidth": 0,
             "ticks": ""
            },
            "colorscale": [
             [
              0,
              "#0d0887"
             ],
             [
              0.1111111111111111,
              "#46039f"
             ],
             [
              0.2222222222222222,
              "#7201a8"
             ],
             [
              0.3333333333333333,
              "#9c179e"
             ],
             [
              0.4444444444444444,
              "#bd3786"
             ],
             [
              0.5555555555555556,
              "#d8576b"
             ],
             [
              0.6666666666666666,
              "#ed7953"
             ],
             [
              0.7777777777777778,
              "#fb9f3a"
             ],
             [
              0.8888888888888888,
              "#fdca26"
             ],
             [
              1,
              "#f0f921"
             ]
            ],
            "type": "histogram2d"
           }
          ],
          "histogram2dcontour": [
           {
            "colorbar": {
             "outlinewidth": 0,
             "ticks": ""
            },
            "colorscale": [
             [
              0,
              "#0d0887"
             ],
             [
              0.1111111111111111,
              "#46039f"
             ],
             [
              0.2222222222222222,
              "#7201a8"
             ],
             [
              0.3333333333333333,
              "#9c179e"
             ],
             [
              0.4444444444444444,
              "#bd3786"
             ],
             [
              0.5555555555555556,
              "#d8576b"
             ],
             [
              0.6666666666666666,
              "#ed7953"
             ],
             [
              0.7777777777777778,
              "#fb9f3a"
             ],
             [
              0.8888888888888888,
              "#fdca26"
             ],
             [
              1,
              "#f0f921"
             ]
            ],
            "type": "histogram2dcontour"
           }
          ],
          "mesh3d": [
           {
            "colorbar": {
             "outlinewidth": 0,
             "ticks": ""
            },
            "type": "mesh3d"
           }
          ],
          "parcoords": [
           {
            "line": {
             "colorbar": {
              "outlinewidth": 0,
              "ticks": ""
             }
            },
            "type": "parcoords"
           }
          ],
          "pie": [
           {
            "automargin": true,
            "type": "pie"
           }
          ],
          "scatter": [
           {
            "marker": {
             "colorbar": {
              "outlinewidth": 0,
              "ticks": ""
             }
            },
            "type": "scatter"
           }
          ],
          "scatter3d": [
           {
            "line": {
             "colorbar": {
              "outlinewidth": 0,
              "ticks": ""
             }
            },
            "marker": {
             "colorbar": {
              "outlinewidth": 0,
              "ticks": ""
             }
            },
            "type": "scatter3d"
           }
          ],
          "scattercarpet": [
           {
            "marker": {
             "colorbar": {
              "outlinewidth": 0,
              "ticks": ""
             }
            },
            "type": "scattercarpet"
           }
          ],
          "scattergeo": [
           {
            "marker": {
             "colorbar": {
              "outlinewidth": 0,
              "ticks": ""
             }
            },
            "type": "scattergeo"
           }
          ],
          "scattergl": [
           {
            "marker": {
             "colorbar": {
              "outlinewidth": 0,
              "ticks": ""
             }
            },
            "type": "scattergl"
           }
          ],
          "scattermapbox": [
           {
            "marker": {
             "colorbar": {
              "outlinewidth": 0,
              "ticks": ""
             }
            },
            "type": "scattermapbox"
           }
          ],
          "scatterpolar": [
           {
            "marker": {
             "colorbar": {
              "outlinewidth": 0,
              "ticks": ""
             }
            },
            "type": "scatterpolar"
           }
          ],
          "scatterpolargl": [
           {
            "marker": {
             "colorbar": {
              "outlinewidth": 0,
              "ticks": ""
             }
            },
            "type": "scatterpolargl"
           }
          ],
          "scatterternary": [
           {
            "marker": {
             "colorbar": {
              "outlinewidth": 0,
              "ticks": ""
             }
            },
            "type": "scatterternary"
           }
          ],
          "surface": [
           {
            "colorbar": {
             "outlinewidth": 0,
             "ticks": ""
            },
            "colorscale": [
             [
              0,
              "#0d0887"
             ],
             [
              0.1111111111111111,
              "#46039f"
             ],
             [
              0.2222222222222222,
              "#7201a8"
             ],
             [
              0.3333333333333333,
              "#9c179e"
             ],
             [
              0.4444444444444444,
              "#bd3786"
             ],
             [
              0.5555555555555556,
              "#d8576b"
             ],
             [
              0.6666666666666666,
              "#ed7953"
             ],
             [
              0.7777777777777778,
              "#fb9f3a"
             ],
             [
              0.8888888888888888,
              "#fdca26"
             ],
             [
              1,
              "#f0f921"
             ]
            ],
            "type": "surface"
           }
          ],
          "table": [
           {
            "cells": {
             "fill": {
              "color": "#EBF0F8"
             },
             "line": {
              "color": "white"
             }
            },
            "header": {
             "fill": {
              "color": "#C8D4E3"
             },
             "line": {
              "color": "white"
             }
            },
            "type": "table"
           }
          ]
         },
         "layout": {
          "annotationdefaults": {
           "arrowcolor": "#2a3f5f",
           "arrowhead": 0,
           "arrowwidth": 1
          },
          "autotypenumbers": "strict",
          "coloraxis": {
           "colorbar": {
            "outlinewidth": 0,
            "ticks": ""
           }
          },
          "colorscale": {
           "diverging": [
            [
             0,
             "#8e0152"
            ],
            [
             0.1,
             "#c51b7d"
            ],
            [
             0.2,
             "#de77ae"
            ],
            [
             0.3,
             "#f1b6da"
            ],
            [
             0.4,
             "#fde0ef"
            ],
            [
             0.5,
             "#f7f7f7"
            ],
            [
             0.6,
             "#e6f5d0"
            ],
            [
             0.7,
             "#b8e186"
            ],
            [
             0.8,
             "#7fbc41"
            ],
            [
             0.9,
             "#4d9221"
            ],
            [
             1,
             "#276419"
            ]
           ],
           "sequential": [
            [
             0,
             "#0d0887"
            ],
            [
             0.1111111111111111,
             "#46039f"
            ],
            [
             0.2222222222222222,
             "#7201a8"
            ],
            [
             0.3333333333333333,
             "#9c179e"
            ],
            [
             0.4444444444444444,
             "#bd3786"
            ],
            [
             0.5555555555555556,
             "#d8576b"
            ],
            [
             0.6666666666666666,
             "#ed7953"
            ],
            [
             0.7777777777777778,
             "#fb9f3a"
            ],
            [
             0.8888888888888888,
             "#fdca26"
            ],
            [
             1,
             "#f0f921"
            ]
           ],
           "sequentialminus": [
            [
             0,
             "#0d0887"
            ],
            [
             0.1111111111111111,
             "#46039f"
            ],
            [
             0.2222222222222222,
             "#7201a8"
            ],
            [
             0.3333333333333333,
             "#9c179e"
            ],
            [
             0.4444444444444444,
             "#bd3786"
            ],
            [
             0.5555555555555556,
             "#d8576b"
            ],
            [
             0.6666666666666666,
             "#ed7953"
            ],
            [
             0.7777777777777778,
             "#fb9f3a"
            ],
            [
             0.8888888888888888,
             "#fdca26"
            ],
            [
             1,
             "#f0f921"
            ]
           ]
          },
          "colorway": [
           "#636efa",
           "#EF553B",
           "#00cc96",
           "#ab63fa",
           "#FFA15A",
           "#19d3f3",
           "#FF6692",
           "#B6E880",
           "#FF97FF",
           "#FECB52"
          ],
          "font": {
           "color": "#2a3f5f"
          },
          "geo": {
           "bgcolor": "white",
           "lakecolor": "white",
           "landcolor": "#E5ECF6",
           "showlakes": true,
           "showland": true,
           "subunitcolor": "white"
          },
          "hoverlabel": {
           "align": "left"
          },
          "hovermode": "closest",
          "mapbox": {
           "style": "light"
          },
          "paper_bgcolor": "white",
          "plot_bgcolor": "#E5ECF6",
          "polar": {
           "angularaxis": {
            "gridcolor": "white",
            "linecolor": "white",
            "ticks": ""
           },
           "bgcolor": "#E5ECF6",
           "radialaxis": {
            "gridcolor": "white",
            "linecolor": "white",
            "ticks": ""
           }
          },
          "scene": {
           "xaxis": {
            "backgroundcolor": "#E5ECF6",
            "gridcolor": "white",
            "gridwidth": 2,
            "linecolor": "white",
            "showbackground": true,
            "ticks": "",
            "zerolinecolor": "white"
           },
           "yaxis": {
            "backgroundcolor": "#E5ECF6",
            "gridcolor": "white",
            "gridwidth": 2,
            "linecolor": "white",
            "showbackground": true,
            "ticks": "",
            "zerolinecolor": "white"
           },
           "zaxis": {
            "backgroundcolor": "#E5ECF6",
            "gridcolor": "white",
            "gridwidth": 2,
            "linecolor": "white",
            "showbackground": true,
            "ticks": "",
            "zerolinecolor": "white"
           }
          },
          "shapedefaults": {
           "line": {
            "color": "#2a3f5f"
           }
          },
          "ternary": {
           "aaxis": {
            "gridcolor": "white",
            "linecolor": "white",
            "ticks": ""
           },
           "baxis": {
            "gridcolor": "white",
            "linecolor": "white",
            "ticks": ""
           },
           "bgcolor": "#E5ECF6",
           "caxis": {
            "gridcolor": "white",
            "linecolor": "white",
            "ticks": ""
           }
          },
          "title": {
           "x": 0.05
          },
          "xaxis": {
           "automargin": true,
           "gridcolor": "white",
           "linecolor": "white",
           "ticks": "",
           "title": {
            "standoff": 15
           },
           "zerolinecolor": "white",
           "zerolinewidth": 2
          },
          "yaxis": {
           "automargin": true,
           "gridcolor": "white",
           "linecolor": "white",
           "ticks": "",
           "title": {
            "standoff": 15
           },
           "zerolinecolor": "white",
           "zerolinewidth": 2
          }
         }
        },
        "title": {
         "text": "Phrase Frequencies"
        },
        "xaxis": {
         "anchor": "y",
         "domain": [
          0,
          1
         ],
         "title": {
          "text": "count"
         }
        },
        "yaxis": {
         "anchor": "x",
         "domain": [
          0,
          1
         ],
         "title": {
          "text": "text"
         }
        }
       }
      },
      "text/html": [
       "<div>                            <div id=\"6424e4f2-456a-43d2-9c1c-b709e35dcd29\" class=\"plotly-graph-div\" style=\"height:525px; width:100%;\"></div>            <script type=\"text/javascript\">                require([\"plotly\"], function(Plotly) {                    window.PLOTLYENV=window.PLOTLYENV || {};                                    if (document.getElementById(\"6424e4f2-456a-43d2-9c1c-b709e35dcd29\")) {                    Plotly.newPlot(                        \"6424e4f2-456a-43d2-9c1c-b709e35dcd29\",                        [{\"alignmentgroup\":\"True\",\"hovertemplate\":\"count=%{x}<br>text=%{y}<extra></extra>\",\"legendgroup\":\"\",\"marker\":{\"color\":\"#636efa\",\"pattern\":{\"shape\":\"\"}},\"name\":\"\",\"offsetgroup\":\"\",\"orientation\":\"h\",\"showlegend\":false,\"textposition\":\"auto\",\"type\":\"bar\",\"x\":[21,24,24,26,29,29,30,30,33,35,46,58,69,73,79,102,102,104,147,446],\"xaxis\":\"x\",\"y\":[\"england\",\"who\",\"nay\",\"denmark\",\"barnardo\",\"castle\",\"god\",\"osric\",\"first clown\",\"ay\",\"marcellus\",\"guildenstern\",\"queen\",\"rosencrantz\",\"ophelia\",\"king\",\"laertes\",\"polonius\",\"horatio\",\"hamlet\"],\"yaxis\":\"y\"}],                        {\"barmode\":\"relative\",\"legend\":{\"tracegroupgap\":0},\"template\":{\"data\":{\"bar\":[{\"error_x\":{\"color\":\"#2a3f5f\"},\"error_y\":{\"color\":\"#2a3f5f\"},\"marker\":{\"line\":{\"color\":\"#E5ECF6\",\"width\":0.5},\"pattern\":{\"fillmode\":\"overlay\",\"size\":10,\"solidity\":0.2}},\"type\":\"bar\"}],\"barpolar\":[{\"marker\":{\"line\":{\"color\":\"#E5ECF6\",\"width\":0.5},\"pattern\":{\"fillmode\":\"overlay\",\"size\":10,\"solidity\":0.2}},\"type\":\"barpolar\"}],\"carpet\":[{\"aaxis\":{\"endlinecolor\":\"#2a3f5f\",\"gridcolor\":\"white\",\"linecolor\":\"white\",\"minorgridcolor\":\"white\",\"startlinecolor\":\"#2a3f5f\"},\"baxis\":{\"endlinecolor\":\"#2a3f5f\",\"gridcolor\":\"white\",\"linecolor\":\"white\",\"minorgridcolor\":\"white\",\"startlinecolor\":\"#2a3f5f\"},\"type\":\"carpet\"}],\"choropleth\":[{\"colorbar\":{\"outlinewidth\":0,\"ticks\":\"\"},\"type\":\"choropleth\"}],\"contour\":[{\"colorbar\":{\"outlinewidth\":0,\"ticks\":\"\"},\"colorscale\":[[0.0,\"#0d0887\"],[0.1111111111111111,\"#46039f\"],[0.2222222222222222,\"#7201a8\"],[0.3333333333333333,\"#9c179e\"],[0.4444444444444444,\"#bd3786\"],[0.5555555555555556,\"#d8576b\"],[0.6666666666666666,\"#ed7953\"],[0.7777777777777778,\"#fb9f3a\"],[0.8888888888888888,\"#fdca26\"],[1.0,\"#f0f921\"]],\"type\":\"contour\"}],\"contourcarpet\":[{\"colorbar\":{\"outlinewidth\":0,\"ticks\":\"\"},\"type\":\"contourcarpet\"}],\"heatmap\":[{\"colorbar\":{\"outlinewidth\":0,\"ticks\":\"\"},\"colorscale\":[[0.0,\"#0d0887\"],[0.1111111111111111,\"#46039f\"],[0.2222222222222222,\"#7201a8\"],[0.3333333333333333,\"#9c179e\"],[0.4444444444444444,\"#bd3786\"],[0.5555555555555556,\"#d8576b\"],[0.6666666666666666,\"#ed7953\"],[0.7777777777777778,\"#fb9f3a\"],[0.8888888888888888,\"#fdca26\"],[1.0,\"#f0f921\"]],\"type\":\"heatmap\"}],\"heatmapgl\":[{\"colorbar\":{\"outlinewidth\":0,\"ticks\":\"\"},\"colorscale\":[[0.0,\"#0d0887\"],[0.1111111111111111,\"#46039f\"],[0.2222222222222222,\"#7201a8\"],[0.3333333333333333,\"#9c179e\"],[0.4444444444444444,\"#bd3786\"],[0.5555555555555556,\"#d8576b\"],[0.6666666666666666,\"#ed7953\"],[0.7777777777777778,\"#fb9f3a\"],[0.8888888888888888,\"#fdca26\"],[1.0,\"#f0f921\"]],\"type\":\"heatmapgl\"}],\"histogram\":[{\"marker\":{\"pattern\":{\"fillmode\":\"overlay\",\"size\":10,\"solidity\":0.2}},\"type\":\"histogram\"}],\"histogram2d\":[{\"colorbar\":{\"outlinewidth\":0,\"ticks\":\"\"},\"colorscale\":[[0.0,\"#0d0887\"],[0.1111111111111111,\"#46039f\"],[0.2222222222222222,\"#7201a8\"],[0.3333333333333333,\"#9c179e\"],[0.4444444444444444,\"#bd3786\"],[0.5555555555555556,\"#d8576b\"],[0.6666666666666666,\"#ed7953\"],[0.7777777777777778,\"#fb9f3a\"],[0.8888888888888888,\"#fdca26\"],[1.0,\"#f0f921\"]],\"type\":\"histogram2d\"}],\"histogram2dcontour\":[{\"colorbar\":{\"outlinewidth\":0,\"ticks\":\"\"},\"colorscale\":[[0.0,\"#0d0887\"],[0.1111111111111111,\"#46039f\"],[0.2222222222222222,\"#7201a8\"],[0.3333333333333333,\"#9c179e\"],[0.4444444444444444,\"#bd3786\"],[0.5555555555555556,\"#d8576b\"],[0.6666666666666666,\"#ed7953\"],[0.7777777777777778,\"#fb9f3a\"],[0.8888888888888888,\"#fdca26\"],[1.0,\"#f0f921\"]],\"type\":\"histogram2dcontour\"}],\"mesh3d\":[{\"colorbar\":{\"outlinewidth\":0,\"ticks\":\"\"},\"type\":\"mesh3d\"}],\"parcoords\":[{\"line\":{\"colorbar\":{\"outlinewidth\":0,\"ticks\":\"\"}},\"type\":\"parcoords\"}],\"pie\":[{\"automargin\":true,\"type\":\"pie\"}],\"scatter\":[{\"marker\":{\"colorbar\":{\"outlinewidth\":0,\"ticks\":\"\"}},\"type\":\"scatter\"}],\"scatter3d\":[{\"line\":{\"colorbar\":{\"outlinewidth\":0,\"ticks\":\"\"}},\"marker\":{\"colorbar\":{\"outlinewidth\":0,\"ticks\":\"\"}},\"type\":\"scatter3d\"}],\"scattercarpet\":[{\"marker\":{\"colorbar\":{\"outlinewidth\":0,\"ticks\":\"\"}},\"type\":\"scattercarpet\"}],\"scattergeo\":[{\"marker\":{\"colorbar\":{\"outlinewidth\":0,\"ticks\":\"\"}},\"type\":\"scattergeo\"}],\"scattergl\":[{\"marker\":{\"colorbar\":{\"outlinewidth\":0,\"ticks\":\"\"}},\"type\":\"scattergl\"}],\"scattermapbox\":[{\"marker\":{\"colorbar\":{\"outlinewidth\":0,\"ticks\":\"\"}},\"type\":\"scattermapbox\"}],\"scatterpolar\":[{\"marker\":{\"colorbar\":{\"outlinewidth\":0,\"ticks\":\"\"}},\"type\":\"scatterpolar\"}],\"scatterpolargl\":[{\"marker\":{\"colorbar\":{\"outlinewidth\":0,\"ticks\":\"\"}},\"type\":\"scatterpolargl\"}],\"scatterternary\":[{\"marker\":{\"colorbar\":{\"outlinewidth\":0,\"ticks\":\"\"}},\"type\":\"scatterternary\"}],\"surface\":[{\"colorbar\":{\"outlinewidth\":0,\"ticks\":\"\"},\"colorscale\":[[0.0,\"#0d0887\"],[0.1111111111111111,\"#46039f\"],[0.2222222222222222,\"#7201a8\"],[0.3333333333333333,\"#9c179e\"],[0.4444444444444444,\"#bd3786\"],[0.5555555555555556,\"#d8576b\"],[0.6666666666666666,\"#ed7953\"],[0.7777777777777778,\"#fb9f3a\"],[0.8888888888888888,\"#fdca26\"],[1.0,\"#f0f921\"]],\"type\":\"surface\"}],\"table\":[{\"cells\":{\"fill\":{\"color\":\"#EBF0F8\"},\"line\":{\"color\":\"white\"}},\"header\":{\"fill\":{\"color\":\"#C8D4E3\"},\"line\":{\"color\":\"white\"}},\"type\":\"table\"}]},\"layout\":{\"annotationdefaults\":{\"arrowcolor\":\"#2a3f5f\",\"arrowhead\":0,\"arrowwidth\":1},\"autotypenumbers\":\"strict\",\"coloraxis\":{\"colorbar\":{\"outlinewidth\":0,\"ticks\":\"\"}},\"colorscale\":{\"diverging\":[[0,\"#8e0152\"],[0.1,\"#c51b7d\"],[0.2,\"#de77ae\"],[0.3,\"#f1b6da\"],[0.4,\"#fde0ef\"],[0.5,\"#f7f7f7\"],[0.6,\"#e6f5d0\"],[0.7,\"#b8e186\"],[0.8,\"#7fbc41\"],[0.9,\"#4d9221\"],[1,\"#276419\"]],\"sequential\":[[0.0,\"#0d0887\"],[0.1111111111111111,\"#46039f\"],[0.2222222222222222,\"#7201a8\"],[0.3333333333333333,\"#9c179e\"],[0.4444444444444444,\"#bd3786\"],[0.5555555555555556,\"#d8576b\"],[0.6666666666666666,\"#ed7953\"],[0.7777777777777778,\"#fb9f3a\"],[0.8888888888888888,\"#fdca26\"],[1.0,\"#f0f921\"]],\"sequentialminus\":[[0.0,\"#0d0887\"],[0.1111111111111111,\"#46039f\"],[0.2222222222222222,\"#7201a8\"],[0.3333333333333333,\"#9c179e\"],[0.4444444444444444,\"#bd3786\"],[0.5555555555555556,\"#d8576b\"],[0.6666666666666666,\"#ed7953\"],[0.7777777777777778,\"#fb9f3a\"],[0.8888888888888888,\"#fdca26\"],[1.0,\"#f0f921\"]]},\"colorway\":[\"#636efa\",\"#EF553B\",\"#00cc96\",\"#ab63fa\",\"#FFA15A\",\"#19d3f3\",\"#FF6692\",\"#B6E880\",\"#FF97FF\",\"#FECB52\"],\"font\":{\"color\":\"#2a3f5f\"},\"geo\":{\"bgcolor\":\"white\",\"lakecolor\":\"white\",\"landcolor\":\"#E5ECF6\",\"showlakes\":true,\"showland\":true,\"subunitcolor\":\"white\"},\"hoverlabel\":{\"align\":\"left\"},\"hovermode\":\"closest\",\"mapbox\":{\"style\":\"light\"},\"paper_bgcolor\":\"white\",\"plot_bgcolor\":\"#E5ECF6\",\"polar\":{\"angularaxis\":{\"gridcolor\":\"white\",\"linecolor\":\"white\",\"ticks\":\"\"},\"bgcolor\":\"#E5ECF6\",\"radialaxis\":{\"gridcolor\":\"white\",\"linecolor\":\"white\",\"ticks\":\"\"}},\"scene\":{\"xaxis\":{\"backgroundcolor\":\"#E5ECF6\",\"gridcolor\":\"white\",\"gridwidth\":2,\"linecolor\":\"white\",\"showbackground\":true,\"ticks\":\"\",\"zerolinecolor\":\"white\"},\"yaxis\":{\"backgroundcolor\":\"#E5ECF6\",\"gridcolor\":\"white\",\"gridwidth\":2,\"linecolor\":\"white\",\"showbackground\":true,\"ticks\":\"\",\"zerolinecolor\":\"white\"},\"zaxis\":{\"backgroundcolor\":\"#E5ECF6\",\"gridcolor\":\"white\",\"gridwidth\":2,\"linecolor\":\"white\",\"showbackground\":true,\"ticks\":\"\",\"zerolinecolor\":\"white\"}},\"shapedefaults\":{\"line\":{\"color\":\"#2a3f5f\"}},\"ternary\":{\"aaxis\":{\"gridcolor\":\"white\",\"linecolor\":\"white\",\"ticks\":\"\"},\"baxis\":{\"gridcolor\":\"white\",\"linecolor\":\"white\",\"ticks\":\"\"},\"bgcolor\":\"#E5ECF6\",\"caxis\":{\"gridcolor\":\"white\",\"linecolor\":\"white\",\"ticks\":\"\"}},\"title\":{\"x\":0.05},\"xaxis\":{\"automargin\":true,\"gridcolor\":\"white\",\"linecolor\":\"white\",\"ticks\":\"\",\"title\":{\"standoff\":15},\"zerolinecolor\":\"white\",\"zerolinewidth\":2},\"yaxis\":{\"automargin\":true,\"gridcolor\":\"white\",\"linecolor\":\"white\",\"ticks\":\"\",\"title\":{\"standoff\":15},\"zerolinecolor\":\"white\",\"zerolinewidth\":2}}},\"title\":{\"text\":\"Phrase Frequencies\"},\"xaxis\":{\"anchor\":\"y\",\"domain\":[0.0,1.0],\"title\":{\"text\":\"count\"}},\"yaxis\":{\"anchor\":\"x\",\"domain\":[0.0,1.0],\"title\":{\"text\":\"text\"}}},                        {\"responsive\": true}                    ).then(function(){\n",
       "                            \n",
       "var gd = document.getElementById('6424e4f2-456a-43d2-9c1c-b709e35dcd29');\n",
       "var x = new MutationObserver(function (mutations, observer) {{\n",
       "        var display = window.getComputedStyle(gd).display;\n",
       "        if (!display || display === 'none') {{\n",
       "            console.log([gd, 'removed!']);\n",
       "            Plotly.purge(gd);\n",
       "            observer.disconnect();\n",
       "        }}\n",
       "}});\n",
       "\n",
       "// Listen for the removal of the full notebook cells\n",
       "var notebookContainer = gd.closest('#notebook-container');\n",
       "if (notebookContainer) {{\n",
       "    x.observe(notebookContainer, {childList: true});\n",
       "}}\n",
       "\n",
       "// Listen for the clearing of the current output cell\n",
       "var outputEl = gd.closest('.output');\n",
       "if (outputEl) {{\n",
       "    x.observe(outputEl, {childList: true});\n",
       "}}\n",
       "\n",
       "                        })                };                });            </script>        </div>"
      ]
     },
     "metadata": {},
     "output_type": "display_data"
    }
   ],
   "source": [
    "word_frequency_plot('http://www.gutenberg.org/files/1524/1524-0.txt')"
   ]
  },
  {
   "cell_type": "markdown",
   "metadata": {},
   "source": [
    "## Another way to visualize\n",
    "\n",
    "Bar plots are an excellent way to look at the relative differences in frequencies of the different words, but they're not the only way.\n",
    "\n",
    "Another common way to show the frequencies of words in a text is through a Word Cloud, where the size of each word (or font size) is proportional to the frequency of that word. Similar to a bar plot, the larger words are more frequent in the text used to create them.\n",
    "\n",
    "The below code defines a function that creates a word cloud using the same text as the URL that was given to the bar plot function."
   ]
  },
  {
   "cell_type": "code",
   "execution_count": null,
   "metadata": {},
   "outputs": [],
   "source": [
    "from wordcloud import WordCloud\n",
    "import matplotlib.pyplot as plt\n",
    "\n",
    "def word_cloud_plot(df):\n",
    "    wc = WordCloud(background_color='white')\n",
    "    df_reindex = df.set_index('text')\n",
    "    freqs = df_reindex['count'].to_dict()\n",
    "    cloud = wc.generate_from_frequencies(frequencies=freqs)\n",
    "    plt.figure(figsize=(12,6))\n",
    "    fig = plt.imshow(cloud)\n",
    "    fig.axes.get_xaxis().set_visible(False)\n",
    "    fig.axes.get_yaxis().set_visible(False)\n",
    "    fig.axes.spines[['top', 'bottom', 'left', 'right']].set_visible(False)\n",
    "    plt.show()\n",
    "print('Word cloud function defined.')"
   ]
  },
  {
   "cell_type": "markdown",
   "metadata": {},
   "source": [
    "And then we can run the function to generate the word cloud"
   ]
  },
  {
   "cell_type": "code",
   "execution_count": null,
   "metadata": {},
   "outputs": [],
   "source": [
    "word_cloud_plot(counts_sorted)"
   ]
  },
  {
   "cell_type": "markdown",
   "metadata": {},
   "source": [
    "## Looking at your own text"
   ]
  },
  {
   "cell_type": "markdown",
   "metadata": {},
   "source": [
    "Now we can take a look at a text of your choice. From [Project Gutenberg](https://www.gutenberg.org), choose a text and click on a plain text file of the text. Copy and paste the link to `\"...\"` below.  "
   ]
  },
  {
   "cell_type": "code",
   "execution_count": null,
   "metadata": {},
   "outputs": [],
   "source": [
    "myText = \"...\" #Choose your own text to generate a phrase frequencies graph!\n",
    "word_frequency_plot(myText)"
   ]
  },
  {
   "cell_type": "markdown",
   "metadata": {},
   "source": [
    "Well done! Now let's count how many *noun phrases* your text has, just like we did for Macbeth. "
   ]
  },
  {
   "cell_type": "code",
   "execution_count": null,
   "metadata": {},
   "outputs": [],
   "source": [
    "r2 = requests.get(myText)\n",
    "r2.encoding = 'utf-8'\n",
    "textfile = r2.text.split('***')[2] \n",
    "textfile = textfile.replace(\"’\",\"'\").replace(\"“\",'\"').replace(\"”\",'\"') \n",
    "try:\n",
    "    nltk.data.find('tokenizers/punkt')\n",
    "except LookupError:\n",
    "    nltk.download('punkt')\n",
    "try:\n",
    "    nltk.data.find('tokenizers/brown')\n",
    "except LookupError:\n",
    "    nltk.download('brown')\n",
    "myText_phrases = TextBlob(textfile).noun_phrases\n",
    "print(myText_phrases)\n",
    "len(myText_phrases)"
   ]
  },
  {
   "cell_type": "markdown",
   "metadata": {},
   "source": [
    "# Conclusion\n",
    "\n",
    "Now that we have a function to plot word frequency, you can try this with other ebooks from [Project Gutenberg](http://www.gutenberg.org). You could also try running this on news articles or any other text, although there may be some tweaks required.\n",
    "\n",
    "However this example is only scratching the surface of natural language processing. Libraries such as [spaCy](https://spacy.io) can be used to identify [parts of speech](https://spacy.io/api/annotation#pos-tagging), [vaderSentiment](https://github.com/cjhutto/vaderSentiment) can categorize text based on its tone, and [textstat](https://github.com/shivam5992/textstat) can check the readability and complexity of text. Examples can be found [here](https://github.com/callysto/interesting-problems/blob/main/notebooks/analysing-text-statistics.ipynb).\n",
    "\n",
    "You could use these libraries to compare different writers or different times in history, see if you can trends in sentiment or [word usage](https://books.google.com/ngrams), or investigate changes in language and style."
   ]
  },
  {
   "cell_type": "markdown",
   "metadata": {},
   "source": [
    "[![Callysto.ca License](https://github.com/callysto/curriculum-notebooks/blob/master/callysto-notebook-banner-bottom.jpg?raw=true)](https://github.com/callysto/curriculum-notebooks/blob/master/LICENSE.md)"
   ]
  }
 ],
 "metadata": {
  "kernelspec": {
   "display_name": "Python 3 (ipykernel)",
   "language": "python",
   "name": "python3"
  },
  "language_info": {
   "codemirror_mode": {
    "name": "ipython",
    "version": 3
   },
   "file_extension": ".py",
   "mimetype": "text/x-python",
   "name": "python",
   "nbconvert_exporter": "python",
   "pygments_lexer": "ipython3",
   "version": "3.9.6"
  }
 },
 "nbformat": 4,
 "nbformat_minor": 2
}
