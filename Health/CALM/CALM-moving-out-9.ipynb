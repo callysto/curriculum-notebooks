{
 "cells": [
  {
   "cell_type": "markdown",
   "metadata": {},
   "source": [
    "![Callysto.ca Banner](https://github.com/callysto/curriculum-notebooks/blob/master/callysto-notebook-banner-top.jpg?raw=true)\n",
    "\n",
    "<a href=\"https://hub.callysto.ca/jupyter/hub/user-redirect/git-pull?repo=https%3A%2F%2Fgithub.com%2Fcallysto%2Fcurriculum-notebooks&branch=master&subPath=Health/CALM/CALM-moving-out-9.ipynb&depth=1\" target=\"_parent\"><img src=\"https://raw.githubusercontent.com/callysto/curriculum-notebooks/master/open-in-callysto-button.svg?sanitize=true\" width=\"123\" height=\"24\" alt=\"Open in Callysto\"/></a>"
   ]
  },
  {
   "cell_type": "markdown",
   "metadata": {},
   "source": [
    "# CALM - Moving Out Project\n",
    "## Part 9 - Summary\n",
    "\n",
    "🎒 In this final notebook you will write some reflections and then collect all of your answers to submit to your teacher.\n",
    "\n",
    "Make sure you have completed all of the activities, and run all of the cells even if they resulted in zero expenses. If you get any errors, read the error messages to determine what you may have missed."
   ]
  },
  {
   "cell_type": "markdown",
   "metadata": {},
   "source": [
    "🎒 Run the cell below to import libraries required for the notebook. "
   ]
  },
  {
   "cell_type": "code",
   "execution_count": null,
   "metadata": {},
   "outputs": [],
   "source": [
    "from functions import *\n",
    "import pandas as pd\n",
    "\n",
    "print(\"Libraries imported.\")"
   ]
  },
  {
   "cell_type": "code",
   "execution_count": null,
   "metadata": {},
   "outputs": [],
   "source": [
    "# 🎒Run this cell to calculate your total monthly expenses\n",
    "%store -r\n",
    "totalCostsValues = [transportationCost, \n",
    "                    monthlyFoodCost, \n",
    "                    monthlyHouseholdCost, \n",
    "                    monthlyClothingCost, \n",
    "                    monthlyGiftsCost, \n",
    "                    monthlyHealthCost, \n",
    "                    monthlyEntertainmentCost, \n",
    "                    monthlyEducationCost]\n",
    "dfTotalCosts = pd.DataFrame({'Item': ['Transportation',\n",
    "                                      'Food',\n",
    "                                      'Household Items',\n",
    "                                      'Clothing',\n",
    "                                      'Gifts',\n",
    "                                      'Health',\n",
    "                                      'Entertainment',\n",
    "                                      'Education'],\n",
    "                            'Cost Per Month': totalCostsValues})\n",
    "\n",
    "totalCostsPerMonth = pd.to_numeric(dfTotalCosts['Cost Per Month']).sum()\n",
    "%store totalCostsPerMonth >>moving_out_11.txt\n",
    "print('Your total expenses per month will be about $' + str('{:.2f}'.format(totalCostsPerMonth)) + '.')\n",
    "print('This is about ' + str('{:.1f}'.format(totalCostsPerMonth / netIncome * 100)) + '% of your net income.')\n",
    "dfTotalCosts"
   ]
  },
  {
   "cell_type": "markdown",
   "metadata": {},
   "source": [
    "🎒 Next, `Run` the following cell to display your one-time moving out expenses."
   ]
  },
  {
   "cell_type": "code",
   "execution_count": null,
   "metadata": {},
   "outputs": [],
   "source": [
    "oneTimeExpenses = movingExpenses + fneCost\n",
    "print(oneTimeExpenses)"
   ]
  },
  {
   "cell_type": "markdown",
   "metadata": {},
   "source": [
    "🎒 Answer the two questions in the next cell, then `Run` it to store your responses."
   ]
  },
  {
   "cell_type": "code",
   "execution_count": null,
   "metadata": {},
   "outputs": [],
   "source": [
    "afford_lifestyle_widget = create_widget('TextArea', '1. Can you afford this lifestyle?', '', '', '', '')\n",
    "change_budget_widget = create_widget('TextArea', '2. If not, what can be changed to afford it?', '', '', '', '')\n",
    "extra_money_plans_widget = create_widget('TextArea', '3. If yes, what will you use the extra money for?', '', '', '', '')\n",
    "\n",
    "display(afford_lifestyle_widget)\n",
    "display(change_budget_widget)\n",
    "display(extra_money_plans_widget)\n",
    "\n",
    "def generate_lifestyle_text(_):\n",
    "    text = []\n",
    "    text.append(f\"1. {afford_lifestyle_widget.value}\\n\")\n",
    "    text.append(f\"2. {change_budget_widget.value}\\n\")\n",
    "    text.append(f\"3. {extra_money_plans_widget.value}\\n\")\n",
    "\n",
    "    with open('moving_out_11.txt', 'w') as f:\n",
    "        f.write('\\n'.join(text))\n",
    "\n",
    "budget_btn = widgets.Button(description='Click when Finished')\n",
    "budget_btn.on_click(generate_lifestyle_text)\n",
    "\n",
    "display(budget_btn)"
   ]
  },
  {
   "cell_type": "markdown",
   "metadata": {},
   "source": [
    "## Reflections\n",
    "🎒 Explain in detail five things you have learned from this project. What was the most surprising or eye-opening learning you had completing this project? Be specific.\n",
    "\n",
    "After you have recorded your responses in the next cell, `Run` it to store your answers."
   ]
  },
  {
   "cell_type": "code",
   "execution_count": null,
   "metadata": {},
   "outputs": [],
   "source": [
    "moving_expenses_widget = create_widget('IntSlider', 'My one-time moving expenses will be about', 1000, 100, 10000, 100)\n",
    "monthly_expenses_widget = create_widget('IntSlider', 'My total expense per month will be about', 1000, 100, 10000, 100)\n",
    "learned_widget = [create_widget('TextArea', f'#{i + 1} thing I learned.', '', '', '', '') for i in range(5)]\n",
    "eye_opening_widget = create_widget('TextArea', 'The most surprising part of this project was', '', '', '', '')\n",
    "\n",
    "display(moving_expenses_widget)\n",
    "display(monthly_expenses_widget)\n",
    "\n",
    "for widget in learned_widget:\n",
    "    display(widget)\n",
    "\n",
    "display(eye_opening_widget)\n",
    "\n",
    "def generate_project_text(_):\n",
    "    text = []\n",
    "    text.append(f\"My one-time moving expenses will be about ${moving_expenses_widget.value}\")\n",
    "    text.append(f\"My total expense per month will be about ${monthly_expenses_widget.value}\\n\")\n",
    "\n",
    "    text.append(\"Five things I learned from this project are:\")\n",
    "    for i, widget in enumerate(learned_widget):\n",
    "        text.append(f\"{i + 1}. {widget.value}\\n\")\n",
    "\n",
    "    text.append(f\"The most surprising part of this project was {eye_opening_widget.value}\\n\")\n",
    "\n",
    "    with open('moving_out_12.txt', 'w') as f:\n",
    "        f.write('\\n'.join(text))\n",
    "\n",
    "final_btn = widgets.Button(description='Click when Finished')\n",
    "final_btn.on_click(generate_project_text)\n",
    "\n",
    "display(final_btn)"
   ]
  },
  {
   "cell_type": "code",
   "execution_count": null,
   "metadata": {},
   "outputs": [],
   "source": [
    "# ✏️ Type your name between the '', e.g. 'Monty Python'\n",
    "name = ''\n",
    "\n",
    "# 🎒 Run this cell to finish up and check all of your answers\n",
    "\n",
    "answerFilename = name.replace(' ', '_')+'_moving_out.txt'\n",
    "answerFile = open(answerFilename, 'a')\n",
    "\n",
    "for filenumber in range(1, 13):\n",
    "    filename = 'moving_out_'+str(filenumber)+'.txt'\n",
    "    try:\n",
    "        file = open(filename, 'r')\n",
    "        answerFile.write(file.read())\n",
    "        file.close()\n",
    "    except:\n",
    "        print('Unable to open ' + filename)\n",
    "answerFile.close()\n",
    "\n",
    "print(name)\n",
    "completeAnswerFile = open(answerFilename, 'r')\n",
    "print(completeAnswerFile.read())"
   ]
  },
  {
   "cell_type": "markdown",
   "metadata": {},
   "source": [
    "🎒You have now completed this moving out assignment. Submit the file `Name_moving_out.txt` to your teacher, or copy and past your answers from the output of the previous cell.\n",
    "\n",
    "If you are interested in learning more about Jupyter notebooks and Python programming, check out [callysto.ca](https://callysto.ca)."
   ]
  },
  {
   "cell_type": "markdown",
   "metadata": {},
   "source": [
    "[![Callysto.ca License](https://github.com/callysto/curriculum-notebooks/blob/master/callysto-notebook-banner-bottom.jpg?raw=true)](https://github.com/callysto/curriculum-notebooks/blob/master/LICENSE.md)"
   ]
  }
 ],
 "metadata": {
  "kernelspec": {
   "display_name": "Python 3",
   "language": "python",
   "name": "python3"
  },
  "language_info": {
   "codemirror_mode": {
    "name": "ipython",
    "version": 3
   },
   "file_extension": ".py",
   "mimetype": "text/x-python",
   "name": "python",
   "nbconvert_exporter": "python",
   "pygments_lexer": "ipython3",
   "version": "3.10.8"
  }
 },
 "nbformat": 4,
 "nbformat_minor": 2
}
