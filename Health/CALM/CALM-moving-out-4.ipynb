{
 "cells": [
  {
   "cell_type": "markdown",
   "metadata": {},
   "source": [
    "![Callysto.ca Banner](https://github.com/callysto/curriculum-notebooks/blob/master/callysto-notebook-banner-top.jpg?raw=true)\n",
    "\n",
    "<a href=\"https://hub.callysto.ca/jupyter/hub/user-redirect/git-pull?repo=https%3A%2F%2Fgithub.com%2Fcallysto%2Fcurriculum-notebooks&branch=master&subPath=Health/CALM/CALM-moving-out-4.ipynb&depth=1\" target=\"_parent\"><img src=\"https://raw.githubusercontent.com/callysto/curriculum-notebooks/master/open-in-callysto-button.svg?sanitize=true\" width=\"123\" height=\"24\" alt=\"Open in Callysto\"/></a>"
   ]
  },
  {
   "cell_type": "markdown",
   "metadata": {},
   "source": [
    "# CALM - Moving Out Project\n",
    "## Part 4 - Expenses\n",
    "\n",
    "📒Expenses are the money that you spend on necessary or desired goods and services.\n",
    "\n",
    "When investigating these costs, be aware of \"introductory specials\" or contracts where the price increases. For these calculations use the price after the introductory offer.\n",
    "\n",
    "The CMHC (Canadian Home and Mortgage Corporation) [recommends](https://www.cmhc-schl.gc.ca/en/finance-and-investing/mortgage-loan-insurance/calculating-gds-tds) that you should not spend more than 35% of your net income on housing costs.\n",
    "\n",
    "Complete the statements then `Run` the cell."
   ]
  },
  {
   "cell_type": "code",
   "execution_count": 16,
   "metadata": {},
   "outputs": [
    {
     "data": {
      "application/vnd.jupyter.widget-view+json": {
       "model_id": "050f48dd04244509b27f1d1d5893f06f",
       "version_major": 2,
       "version_minor": 0
      },
      "text/plain": [
       "SelectMultiple(description='Fruits', options=('Apples', 'Oranges', 'Pears'), value=())"
      ]
     },
     "execution_count": 16,
     "metadata": {},
     "output_type": "execute_result"
    }
   ],
   "source": [
    "import ipywidgets as widgets\n",
    "\n",
    "widgets.SelectMultiple(\n",
    "    options=['Apples', 'Oranges', 'Pears'],\n",
    "    value=[],\n",
    "    #rows=10,\n",
    "    description='Fruits',\n",
    "    disabled=False\n",
    ")"
   ]
  },
  {
   "cell_type": "code",
   "execution_count": 20,
   "metadata": {},
   "outputs": [
    {
     "data": {
      "text/plain": [
       "None"
      ]
     },
     "metadata": {},
     "output_type": "display_data"
    }
   ],
   "source": [
    "from functions import *\n",
    "\n",
    "\n",
    "\n",
    "#box = widgets.VBox(Services)\n",
    "\n"
   ]
  },
  {
   "cell_type": "code",
   "execution_count": 23,
   "metadata": {},
   "outputs": [
    {
     "data": {
      "text/plain": [
       "None"
      ]
     },
     "metadata": {},
     "output_type": "display_data"
    }
   ],
   "source": [
    "Services = create_widget('SelectM','Services I want: ', ['Natural Gas (Heat)','Electricity','Tenant Insurance','Mobile Phone','Landline','Internet','TV/Video/Music Subscriptions'],0,0)\n",
    "\n",
    "display(Services)"
   ]
  },
  {
   "cell_type": "code",
   "execution_count": null,
   "metadata": {},
   "outputs": [],
   "source": [
    "%%writefile moving_out_5.txt\n",
    "✏️\n",
    "I have decided to use the following service providers (remove any lines that are not applicable)\n",
    "\n",
    "Natural Gas (Heat): \n",
    "\n",
    "Electricity: \n",
    "\n",
    "Tenant Insurance: \n",
    "\n",
    "Mobile Phone: \n",
    "\n",
    "Landline: \n",
    "\n",
    "Internet:  \n",
    "\n",
    "TV, Video, Music Subscriptions: "
   ]
  },
  {
   "cell_type": "markdown",
   "metadata": {},
   "source": [
    "### Calculating Housing Expenses\n",
    "\n",
    "📒Follow the instructions in the code cell below to edit the numbers, then `Run` the cell to calculate your monthly housing expenses."
   ]
  },
  {
   "cell_type": "code",
   "execution_count": null,
   "metadata": {},
   "outputs": [],
   "source": [
    "#✏️\n",
    "rent = 900\n",
    "\n",
    "# Natural Gas is hard to estimate, depending on different circumstances, but rough guidelines are:\n",
    "#  Average 1200 sq. ft. house - $94 per month\n",
    "#  New energy efficient average home (1200 sq. ft.) - $67 per month\n",
    "#  Large new home (1800 sq. ft.) - $90 per month\n",
    "#  Larger older home with heated garage - $128 per month\n",
    "# enter 0 if this is included in your rent\n",
    "heating = 94\n",
    "\n",
    "# Electricity:\n",
    "#  an average two-bedroom apartment will cost about $50 per month\n",
    "#  a small 1100 square foot home with the usual appliances will cost $75 per month\n",
    "#  a large home with many appliances, a hot tub, and air conditioning will cost over $120 per month\n",
    "electricity = 75\n",
    "\n",
    "# Water and Waste will be about 60 for an apartment, 100 for a house\n",
    "waterAndWaste = 100\n",
    "\n",
    "# Tenant Insurance: each individual must have their own tenant insurance to cover their belongings\n",
    "# in case of fire, theft, flooding, or natural disaster. Landlords have insurance on the building\n",
    "# but not on your personal possessions. Use the following chart to estimate how much you would pay:\n",
    "#  Value    Annual Premium (we will divide this by 12 to get the monthly cost)\n",
    "#  $10,000  $92\n",
    "#  $20,000  $159\n",
    "#  $30,000  $208\n",
    "#  $40,000  $268\n",
    "#  $50,000  $305\n",
    "#  $60,000  $367\n",
    "tenantInsurance = 367 / 12\n",
    "\n",
    "# Mobile Phone: check out various service providers and choose a plan\n",
    "phone = 65\n",
    "\n",
    "# TV and Internet Access: check out Shaw and Telus to see what plans are available\n",
    "internet = 100\n",
    "streaming = 14\n",
    "\n",
    "\n",
    "# 📒 Now you've finished adjusting the code, run this cell to calculate your monthly housing costs.\n",
    "\n",
    "#recall the values that we stored in previous notebooks\n",
    "%store -r\n",
    "try:\n",
    "    roommate\n",
    "except NameError:\n",
    "    roommate = 0\n",
    "if roommate == 1:\n",
    "    monthlyExpenses = (rent + heating + electricity + waterAndWaste + internet) / 2 + tenantInsurance + phone + streaming\n",
    "else:\n",
    "    monthlyExpenses = rent + heating + electricity + waterAndWaste + tenantInsurance + phone + internet + streaming\n",
    "\n",
    "%store monthlyExpenses\n",
    "print('Your monthly bills will be approximately $' + str('{:.2f}'.format(monthlyExpenses)) + '.')"
   ]
  },
  {
   "cell_type": "markdown",
   "metadata": {},
   "source": [
    "📒`Run` the next cell to check that your answers have been stored."
   ]
  },
  {
   "cell_type": "code",
   "execution_count": null,
   "metadata": {},
   "outputs": [],
   "source": [
    "#📒 Run this cell to check that your answers have been stored\n",
    "print('Monthly expenses:', monthlyExpenses)\n",
    "with open('moving_out_5.txt', 'r') as file:\n",
    "    print(file.read())"
   ]
  },
  {
   "cell_type": "markdown",
   "metadata": {},
   "source": [
    "📒You have now completed this section. Proceed to [section 5](./CALM-moving-out-5.ipynb)"
   ]
  },
  {
   "cell_type": "markdown",
   "metadata": {},
   "source": [
    "[![Callysto.ca License](https://github.com/callysto/curriculum-notebooks/blob/master/callysto-notebook-banner-bottom.jpg?raw=true)](https://github.com/callysto/curriculum-notebooks/blob/master/LICENSE.md)"
   ]
  }
 ],
 "metadata": {
  "kernelspec": {
   "display_name": "Python 3",
   "language": "python",
   "name": "python3"
  },
  "language_info": {
   "codemirror_mode": {
    "name": "ipython",
    "version": 3
   },
   "file_extension": ".py",
   "mimetype": "text/x-python",
   "name": "python",
   "nbconvert_exporter": "python",
   "pygments_lexer": "ipython3",
   "version": "3.11.3"
  }
 },
 "nbformat": 4,
 "nbformat_minor": 2
}
