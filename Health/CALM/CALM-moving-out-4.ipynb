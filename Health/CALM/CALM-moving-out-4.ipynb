{
 "cells": [
  {
   "cell_type": "markdown",
   "metadata": {},
   "source": [
    "![Callysto.ca Banner](https://github.com/callysto/curriculum-notebooks/blob/master/callysto-notebook-banner-top.jpg?raw=true)\n",
    "\n",
    "<a href=\"https://hub.callysto.ca/jupyter/hub/user-redirect/git-pull?repo=https%3A%2F%2Fgithub.com%2Fcallysto%2Fcurriculum-notebooks&branch=master&subPath=Health/CALM/CALM-moving-out-4.ipynb&depth=1\" target=\"_parent\"><img src=\"https://raw.githubusercontent.com/callysto/curriculum-notebooks/master/open-in-callysto-button.svg?sanitize=true\" width=\"123\" height=\"24\" alt=\"Open in Callysto\"/></a>"
   ]
  },
  {
   "cell_type": "markdown",
   "metadata": {},
   "source": [
    "# CALM - Moving Out Project\n",
    "## Part 4 - Expenses\n",
    "\n",
    "📒 Expenses are the money that you spend on necessary or desired goods and services.\n",
    "\n",
    "When investigating these costs, be aware of \"introductory specials\" or contracts where the price increases. For these calculations use the price after the introductory offer.\n",
    "\n",
    "The CMHC (Canadian Home and Mortgage Corporation) [recommends](https://www.cmhc-schl.gc.ca/en/finance-and-investing/mortgage-loan-insurance/calculating-gds-tds) that you should not spend more than 35% of your net income on housing costs.\n",
    "\n",
    "Complete the statements then `Run` the cell.\n",
    "\n",
    "*Note*: In order to select multiple services, press CTRL and then left-click the different services you want."
   ]
  },
  {
   "cell_type": "markdown",
   "metadata": {},
   "source": [
    "📒 Run the cell below to import libraries required for the notebook."
   ]
  },
  {
   "cell_type": "code",
   "execution_count": null,
   "metadata": {},
   "outputs": [],
   "source": [
    "from functions import *\n",
    "import plotly.express as px\n",
    "\n",
    "print(\"Libraries imported.\")"
   ]
  },
  {
   "cell_type": "code",
   "execution_count": null,
   "metadata": {},
   "outputs": [],
   "source": [
    "# In order to select multiple services, press Ctrl + LeftClick on each service\n",
    "Services = create_widget('SelectM','Services I want: ', ['Natural Gas (Heat)','Electricity','Tenant Insurance','Mobile Phone','Internet','TV/Music/Streaming/Subscriptions', 'Misc'],0,0,0)\n",
    "\n",
    "Services"
   ]
  },
  {
   "cell_type": "markdown",
   "metadata": {},
   "source": [
    "### Calculating Housing Expenses\n",
    "\n",
    "✏️ Follow the instructions in the code cell below to edit the numbers, then `Run` the cell to calculate your monthly housing expenses."
   ]
  },
  {
   "cell_type": "code",
   "execution_count": null,
   "metadata": {},
   "outputs": [],
   "source": [
    "# ✏️ Edit the cost of rent based on the listing you found\n",
    "rent = 900\n",
    "\n",
    "# ✏️ Natural Gas is hard to estimate, depending on different circumstances, but rough guidelines are:\n",
    "# Average 1200 sq. ft. house - $94 per month\n",
    "# New energy efficient average home (1200 sq. ft.) - $67 per month\n",
    "# Large new home (1800 sq. ft.) - $90 per month\n",
    "# Larger older home with heated garage - $128 per month\n",
    "# Enter 0 if this is included in your rent\n",
    "heating = 94\n",
    "\n",
    "# ✏️ Electricity:\n",
    "# an average two-bedroom apartment will cost about $50 per month\n",
    "# a small 1100 square foot home with the usual appliances will cost $75 per month\n",
    "# a large home with many appliances, a hot tub, and air conditioning will cost over $120 per month\n",
    "# You can directly edit the electricity cost if it is listed in the listing\n",
    "electricity = 75\n",
    "\n",
    "# ✏️ Water and Waste will be about 60 for an apartment, 100 for a house\n",
    "waterAndWaste = 100\n",
    "\n",
    "# ✏️ Tenant Insurance: each individual must have their own tenant insurance to cover their belongings\n",
    "# in case of fire, theft, flooding, or natural disaster. Landlords have insurance on the building\n",
    "# but not on your personal possessions. Use the following chart to estimate how much you would pay:\n",
    "#  Value    Annual Premium (we will divide this by 12 to get the monthly cost)\n",
    "#  $10,000  $92\n",
    "#  $20,000  $159\n",
    "#  $30,000  $208\n",
    "#  $40,000  $268\n",
    "#  $50,000  $305\n",
    "#  $60,000  $367\n",
    "tenantInsurance = 367 / 12\n",
    "\n",
    "# ✏️ Mobile Phone: check out various service providers and choose a plan\n",
    "mobile_phone = 65\n",
    "\n",
    "# ✏️ Internet costs - check standard rates by popular providers such as Shaw or Telus\n",
    "internet = 100\n",
    "\n",
    "# ✏️ TV/Music/Streaming/Subscriptions costs\n",
    "streaming_and_more = 100\n",
    "\n",
    "# ✏️ Miscellaneous costs that are not listed above\n",
    "misc = 0\n",
    "\n",
    "# 📒 Now you've finished adjusting the code, run this cell to calculate your monthly housing costs.\n",
    "\n",
    "#recall the values that we stored in previous notebooks\n",
    "%store -r\n",
    "try:\n",
    "    roommate\n",
    "except NameError:\n",
    "    roommate = 0\n",
    "if roommate == 1:\n",
    "    monthlyExpenses = (rent + heating + electricity + waterAndWaste + internet) / 2 + tenantInsurance + mobile_phone + streaming_and_more\n",
    "else:\n",
    "    monthlyExpenses = rent + heating + electricity + waterAndWaste + tenantInsurance + mobile_phone + internet + streaming_and_more\n",
    "\n",
    "%store monthlyExpenses\n",
    "print('Your monthly bills will be approximately $' + str('{:.2f}'.format(monthlyExpenses)) + '.')"
   ]
  },
  {
   "cell_type": "markdown",
   "metadata": {},
   "source": [
    "📒 Based on your edits above and the services that you've indicated that you need, your total costs for each service will be listed below."
   ]
  },
  {
   "cell_type": "code",
   "execution_count": null,
   "metadata": {},
   "outputs": [],
   "source": [
    "paying_for = dict.fromkeys(Services.value,0)\n",
    "\n",
    "paying_for = {key: value for key, value in sorted(paying_for.items())}\n",
    "order = ['Natural Gas (Heat)','Electricity','Tenant Insurance','Mobile Phone','Internet','TV/Music/Streaming/Subscriptions', 'Misc']\n",
    "services = [heating, electricity,tenantInsurance, mobile_phone, internet, streaming_and_more, misc]\n",
    "\n",
    "for key in paying_for:\n",
    "    index = order.index(key)\n",
    "    paying_for[key] = services[index]\n",
    "\n",
    "    \n",
    "paying_for['Water and Waste'] = waterAndWaste\n",
    "paying_for['Rent'] = rent\n",
    "\n",
    "for item in paying_for:\n",
    "    print(item + ':', paying_for[item])"
   ]
  },
  {
   "cell_type": "markdown",
   "metadata": {},
   "source": [
    "📒 These services can also be broken down in percentages. The visualization below will output the % of monthly bills for each of your expenses. This figure is *interactable*, meaning that by pressing different icons seen on the legend on the left, certain expenses can be toggled on and off. \n",
    "\n",
    "Furthermore, this figure can be *downloaded* using the camera-icon found in the top-right corner in the figure."
   ]
  },
  {
   "cell_type": "code",
   "execution_count": null,
   "metadata": {},
   "outputs": [],
   "source": [
    "px.pie(values=list(paying_for.values()), names= list(paying_for.keys()),title='% of monthly bills for each expense')"
   ]
  },
  {
   "cell_type": "markdown",
   "metadata": {},
   "source": [
    "📒 We can now export our expenses by clicking the `Run` button. "
   ]
  },
  {
   "cell_type": "code",
   "execution_count": null,
   "metadata": {},
   "outputs": [],
   "source": [
    "with open('moving_out_4.txt', 'a') as f:  \n",
    "    f.truncate(0)\n",
    "    f.write(\n",
    "        f\"My monthly bills will consist of the following expenses: \\n\\n\\n\"\n",
    "    )\n",
    "    for key,value in paying_for.items():\n",
    "        f.write(\n",
    "            f\"{key.upper()} --> which will cost me ${value:.2f} \\n\\n\"\n",
    "        )\n",
    "    f.write(\n",
    "            f\"\\n\\nMy overall Monthly Expenses will cost me ${monthlyExpenses} \"\n",
    "        )"
   ]
  },
  {
   "cell_type": "markdown",
   "metadata": {},
   "source": [
    "📒 `Run` the next cell to check that your answers have been stored."
   ]
  },
  {
   "cell_type": "code",
   "execution_count": null,
   "metadata": {},
   "outputs": [],
   "source": [
    "# Run this cell to check that your answers have been stored\n",
    "with open('moving_out_4.txt', 'r') as file:\n",
    "    print(file.read())"
   ]
  },
  {
   "cell_type": "markdown",
   "metadata": {},
   "source": [
    "📒You have now completed this section. Proceed to [section 5](./CALM-moving-out-5.ipynb)"
   ]
  },
  {
   "cell_type": "markdown",
   "metadata": {},
   "source": [
    "[![Callysto.ca License](https://github.com/callysto/curriculum-notebooks/blob/master/callysto-notebook-banner-bottom.jpg?raw=true)](https://github.com/callysto/curriculum-notebooks/blob/master/LICENSE.md)"
   ]
  }
 ],
 "metadata": {
  "kernelspec": {
   "display_name": "Python 3",
   "language": "python",
   "name": "python3"
  },
  "language_info": {
   "codemirror_mode": {
    "name": "ipython",
    "version": 3
   },
   "file_extension": ".py",
   "mimetype": "text/x-python",
   "name": "python",
   "nbconvert_exporter": "python",
   "pygments_lexer": "ipython3",
   "version": "3.10.8"
  }
 },
 "nbformat": 4,
 "nbformat_minor": 2
}
