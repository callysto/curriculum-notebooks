{
 "cells": [
  {
   "cell_type": "markdown",
   "metadata": {},
   "source": [
    "![Callysto.ca Banner](https://github.com/callysto/curriculum-notebooks/blob/master/callysto-notebook-banner-top.jpg?raw=true)\n",
    "\n",
    "<a href=\"https://hub.callysto.ca/jupyter/hub/user-redirect/git-pull?repo=https%3A%2F%2Fgithub.com%2Fcallysto%2Fcurriculum-notebooks&branch=master&subPath=Health/CALM/CALM-moving-out-2.ipynb&depth=1\" target=\"_parent\"><img src=\"https://raw.githubusercontent.com/callysto/curriculum-notebooks/master/open-in-callysto-button.svg?sanitize=true\" width=\"123\" height=\"24\" alt=\"Open in Callysto\"/></a>"
   ]
  },
  {
   "cell_type": "markdown",
   "metadata": {},
   "source": [
    "# CALM - Moving Out Project\n",
    "## Part 2 - Income\n",
    "\n",
    "📗Now let's take a look at your potential income. First, some definitions:\n",
    "\n",
    "### Paycheque Definitions\n",
    "#### Gross Income (pay/earnings)\n",
    "The amount of income/earnings, for any pay period, before deductions\n",
    " \n",
    "#### Net income (pay/earnings)\n",
    "The amount of income/earnings, for any pay period, after deductions (Take home pay)\n",
    "\n",
    "#### CPP - Canada Pension Plan\n",
    "2.3% of gross income deducted for insurance in case of unemployment\n",
    " \n",
    "#### Income Tax\n",
    "A deduction paid to the Federal and Provincial government for taxes\n",
    " \n",
    "#### LTD\n",
    "A deduction for Long Term Disability insurance\n",
    " \n",
    "#### Union Dues\n",
    "Fees paid for membership in a union\n",
    " \n",
    "#### Bonds\n",
    "An investment in which a business or government pays a set interest rate\n",
    " \n",
    "#### Advance Earnings\n",
    "Deducted money that was received in advance of the pay cheque\n",
    " \n",
    "#### Overtime Earnings\n",
    "Pay received for working over 8 hours a day or 44 hours a week, whichever is greater"
   ]
  },
  {
   "cell_type": "markdown",
   "metadata": {},
   "source": [
    "### Calculating Net Income\n",
    "\n",
    "📗Click on the code cell below, then click the `Run` button on the toolbar to calculate your net income. You may also change some values in the code to see how the results change."
   ]
  },
  {
   "cell_type": "code",
   "execution_count": 96,
   "metadata": {},
   "outputs": [],
   "source": [
    "%store -r\n",
    "import warnings\n",
    "warnings.filterwarnings(\"ignore\")\n"
   ]
  },
  {
   "cell_type": "code",
   "execution_count": 88,
   "metadata": {},
   "outputs": [
    {
     "data": {
      "text/html": [
       "<div>\n",
       "<style scoped>\n",
       "    .dataframe tbody tr th:only-of-type {\n",
       "        vertical-align: middle;\n",
       "    }\n",
       "\n",
       "    .dataframe tbody tr th {\n",
       "        vertical-align: top;\n",
       "    }\n",
       "\n",
       "    .dataframe thead th {\n",
       "        text-align: right;\n",
       "    }\n",
       "</style>\n",
       "<table border=\"1\" class=\"dataframe\">\n",
       "  <thead>\n",
       "    <tr style=\"text-align: right;\">\n",
       "      <th></th>\n",
       "      <th>REF_DATE</th>\n",
       "      <th>GEO</th>\n",
       "      <th>DGUID</th>\n",
       "      <th>Work Type</th>\n",
       "      <th>Age (15A)</th>\n",
       "      <th>Gender (3)</th>\n",
       "      <th>Statistics (3)</th>\n",
       "      <th>Occupation</th>\n",
       "      <th>Coordinate</th>\n",
       "      <th>Employment income statistics (7):Total - Employment income statistics[1]</th>\n",
       "      <th>...</th>\n",
       "      <th>Employment income statistics (7):Median employment income ($)[3]</th>\n",
       "      <th>Symbol.2</th>\n",
       "      <th>Average Income</th>\n",
       "      <th>Symbol.3</th>\n",
       "      <th>Employment income statistics (7):With wages, salaries and commissions[5]</th>\n",
       "      <th>Symbol.4</th>\n",
       "      <th>Employment income statistics (7):Median wages, salaries and commissions ($)[6]</th>\n",
       "      <th>Symbol.5</th>\n",
       "      <th>Employment income statistics (7):Average wages, salaries and commissions ($)[7]</th>\n",
       "      <th>Symbol.6</th>\n",
       "    </tr>\n",
       "  </thead>\n",
       "  <tbody>\n",
       "    <tr>\n",
       "      <th>0</th>\n",
       "      <td>2021</td>\n",
       "      <td>Canada</td>\n",
       "      <td>2021A000011124</td>\n",
       "      <td>Total - Work activity during the reference year</td>\n",
       "      <td>Total - Age</td>\n",
       "      <td>Total - Gender</td>\n",
       "      <td>Count</td>\n",
       "      <td>Total - Occupation - Minor group - National Oc...</td>\n",
       "      <td>1.1.1.1.1.1</td>\n",
       "      <td>30335915</td>\n",
       "      <td>...</td>\n",
       "      <td>37200</td>\n",
       "      <td>NaN</td>\n",
       "      <td>50280</td>\n",
       "      <td>NaN</td>\n",
       "      <td>19392230</td>\n",
       "      <td>NaN</td>\n",
       "      <td>40000</td>\n",
       "      <td>NaN</td>\n",
       "      <td>51950</td>\n",
       "      <td>NaN</td>\n",
       "    </tr>\n",
       "    <tr>\n",
       "      <th>1</th>\n",
       "      <td>2021</td>\n",
       "      <td>Canada</td>\n",
       "      <td>2021A000011124</td>\n",
       "      <td>Total - Work activity during the reference year</td>\n",
       "      <td>Total - Age</td>\n",
       "      <td>Total - Gender</td>\n",
       "      <td>Count</td>\n",
       "      <td>Occupation - not applicable</td>\n",
       "      <td>1.1.1.1.1.2</td>\n",
       "      <td>9705395</td>\n",
       "      <td>...</td>\n",
       "      <td>2700</td>\n",
       "      <td>NaN</td>\n",
       "      <td>15240</td>\n",
       "      <td>NaN</td>\n",
       "      <td>1515625</td>\n",
       "      <td>NaN</td>\n",
       "      <td>2560</td>\n",
       "      <td>NaN</td>\n",
       "      <td>16360</td>\n",
       "      <td>NaN</td>\n",
       "    </tr>\n",
       "    <tr>\n",
       "      <th>2</th>\n",
       "      <td>2021</td>\n",
       "      <td>Canada</td>\n",
       "      <td>2021A000011124</td>\n",
       "      <td>Total - Work activity during the reference year</td>\n",
       "      <td>Total - Age</td>\n",
       "      <td>Total - Gender</td>\n",
       "      <td>Count</td>\n",
       "      <td>All occupations</td>\n",
       "      <td>1.1.1.1.1.3</td>\n",
       "      <td>20630520</td>\n",
       "      <td>...</td>\n",
       "      <td>41200</td>\n",
       "      <td>NaN</td>\n",
       "      <td>53600</td>\n",
       "      <td>NaN</td>\n",
       "      <td>17876600</td>\n",
       "      <td>NaN</td>\n",
       "      <td>43200</td>\n",
       "      <td>NaN</td>\n",
       "      <td>54950</td>\n",
       "      <td>NaN</td>\n",
       "    </tr>\n",
       "    <tr>\n",
       "      <th>3</th>\n",
       "      <td>2021</td>\n",
       "      <td>Canada</td>\n",
       "      <td>2021A000011124</td>\n",
       "      <td>Total - Work activity during the reference year</td>\n",
       "      <td>Total - Age</td>\n",
       "      <td>Total - Gender</td>\n",
       "      <td>Count</td>\n",
       "      <td>0 Legislative and senior management occupations</td>\n",
       "      <td>1.1.1.1.1.4</td>\n",
       "      <td>267695</td>\n",
       "      <td>...</td>\n",
       "      <td>102000</td>\n",
       "      <td>NaN</td>\n",
       "      <td>169200</td>\n",
       "      <td>NaN</td>\n",
       "      <td>231230</td>\n",
       "      <td>NaN</td>\n",
       "      <td>106000</td>\n",
       "      <td>NaN</td>\n",
       "      <td>175200</td>\n",
       "      <td>NaN</td>\n",
       "    </tr>\n",
       "    <tr>\n",
       "      <th>4</th>\n",
       "      <td>2021</td>\n",
       "      <td>Canada</td>\n",
       "      <td>2021A000011124</td>\n",
       "      <td>Total - Work activity during the reference year</td>\n",
       "      <td>Total - Age</td>\n",
       "      <td>Total - Gender</td>\n",
       "      <td>Count</td>\n",
       "      <td>00 Legislative and senior managers</td>\n",
       "      <td>1.1.1.1.1.5</td>\n",
       "      <td>267695</td>\n",
       "      <td>...</td>\n",
       "      <td>102000</td>\n",
       "      <td>NaN</td>\n",
       "      <td>169200</td>\n",
       "      <td>NaN</td>\n",
       "      <td>231230</td>\n",
       "      <td>NaN</td>\n",
       "      <td>106000</td>\n",
       "      <td>NaN</td>\n",
       "      <td>175200</td>\n",
       "      <td>NaN</td>\n",
       "    </tr>\n",
       "    <tr>\n",
       "      <th>...</th>\n",
       "      <td>...</td>\n",
       "      <td>...</td>\n",
       "      <td>...</td>\n",
       "      <td>...</td>\n",
       "      <td>...</td>\n",
       "      <td>...</td>\n",
       "      <td>...</td>\n",
       "      <td>...</td>\n",
       "      <td>...</td>\n",
       "      <td>...</td>\n",
       "      <td>...</td>\n",
       "      <td>...</td>\n",
       "      <td>...</td>\n",
       "      <td>...</td>\n",
       "      <td>...</td>\n",
       "      <td>...</td>\n",
       "      <td>...</td>\n",
       "      <td>...</td>\n",
       "      <td>...</td>\n",
       "      <td>...</td>\n",
       "      <td>...</td>\n",
       "    </tr>\n",
       "    <tr>\n",
       "      <th>21399790</th>\n",
       "      <td>2021</td>\n",
       "      <td>Nunavut</td>\n",
       "      <td>2021A000262</td>\n",
       "      <td>Worked part year, part time</td>\n",
       "      <td>75 years and over</td>\n",
       "      <td>Women+</td>\n",
       "      <td>95% confidence interval upper bound, Count</td>\n",
       "      <td>9420 Mechanical, electrical and electronics as...</td>\n",
       "      <td>57.9.15.3.3.305</td>\n",
       "      <td>0</td>\n",
       "      <td>...</td>\n",
       "      <td>0</td>\n",
       "      <td>...</td>\n",
       "      <td>0</td>\n",
       "      <td>...</td>\n",
       "      <td>0</td>\n",
       "      <td>...</td>\n",
       "      <td>0</td>\n",
       "      <td>...</td>\n",
       "      <td>0</td>\n",
       "      <td>...</td>\n",
       "    </tr>\n",
       "    <tr>\n",
       "      <th>21399791</th>\n",
       "      <td>2021</td>\n",
       "      <td>Nunavut</td>\n",
       "      <td>2021A000262</td>\n",
       "      <td>Worked part year, part time</td>\n",
       "      <td>75 years and over</td>\n",
       "      <td>Women+</td>\n",
       "      <td>95% confidence interval upper bound, Count</td>\n",
       "      <td>9421 Furniture, wood, plastic and other produc...</td>\n",
       "      <td>57.9.15.3.3.306</td>\n",
       "      <td>0</td>\n",
       "      <td>...</td>\n",
       "      <td>0</td>\n",
       "      <td>...</td>\n",
       "      <td>0</td>\n",
       "      <td>...</td>\n",
       "      <td>0</td>\n",
       "      <td>...</td>\n",
       "      <td>0</td>\n",
       "      <td>...</td>\n",
       "      <td>0</td>\n",
       "      <td>...</td>\n",
       "    </tr>\n",
       "    <tr>\n",
       "      <th>21399792</th>\n",
       "      <td>2021</td>\n",
       "      <td>Nunavut</td>\n",
       "      <td>2021A000262</td>\n",
       "      <td>Worked part year, part time</td>\n",
       "      <td>75 years and over</td>\n",
       "      <td>Women+</td>\n",
       "      <td>95% confidence interval upper bound, Count</td>\n",
       "      <td>95 Labourers in processing, manufacturing and ...</td>\n",
       "      <td>57.9.15.3.3.307</td>\n",
       "      <td>0</td>\n",
       "      <td>...</td>\n",
       "      <td>0</td>\n",
       "      <td>...</td>\n",
       "      <td>0</td>\n",
       "      <td>...</td>\n",
       "      <td>0</td>\n",
       "      <td>...</td>\n",
       "      <td>0</td>\n",
       "      <td>...</td>\n",
       "      <td>0</td>\n",
       "      <td>...</td>\n",
       "    </tr>\n",
       "    <tr>\n",
       "      <th>21399793</th>\n",
       "      <td>2021</td>\n",
       "      <td>Nunavut</td>\n",
       "      <td>2021A000262</td>\n",
       "      <td>Worked part year, part time</td>\n",
       "      <td>75 years and over</td>\n",
       "      <td>Women+</td>\n",
       "      <td>95% confidence interval upper bound, Count</td>\n",
       "      <td>951 Labourers in processing, manufacturing and...</td>\n",
       "      <td>57.9.15.3.3.308</td>\n",
       "      <td>0</td>\n",
       "      <td>...</td>\n",
       "      <td>0</td>\n",
       "      <td>...</td>\n",
       "      <td>0</td>\n",
       "      <td>...</td>\n",
       "      <td>0</td>\n",
       "      <td>...</td>\n",
       "      <td>0</td>\n",
       "      <td>...</td>\n",
       "      <td>0</td>\n",
       "      <td>...</td>\n",
       "    </tr>\n",
       "    <tr>\n",
       "      <th>21399794</th>\n",
       "      <td>2021</td>\n",
       "      <td>Nunavut</td>\n",
       "      <td>2021A000262</td>\n",
       "      <td>Worked part year, part time</td>\n",
       "      <td>75 years and over</td>\n",
       "      <td>Women+</td>\n",
       "      <td>95% confidence interval upper bound, Count</td>\n",
       "      <td>9510 Labourers in processing, manufacturing an...</td>\n",
       "      <td>57.9.15.3.3.309</td>\n",
       "      <td>0</td>\n",
       "      <td>...</td>\n",
       "      <td>0</td>\n",
       "      <td>...</td>\n",
       "      <td>0</td>\n",
       "      <td>...</td>\n",
       "      <td>0</td>\n",
       "      <td>...</td>\n",
       "      <td>0</td>\n",
       "      <td>...</td>\n",
       "      <td>0</td>\n",
       "      <td>...</td>\n",
       "    </tr>\n",
       "  </tbody>\n",
       "</table>\n",
       "<p>21399795 rows × 23 columns</p>\n",
       "</div>"
      ],
      "text/plain": [
       "          REF_DATE      GEO           DGUID   \n",
       "0             2021   Canada  2021A000011124  \\\n",
       "1             2021   Canada  2021A000011124   \n",
       "2             2021   Canada  2021A000011124   \n",
       "3             2021   Canada  2021A000011124   \n",
       "4             2021   Canada  2021A000011124   \n",
       "...            ...      ...             ...   \n",
       "21399790      2021  Nunavut     2021A000262   \n",
       "21399791      2021  Nunavut     2021A000262   \n",
       "21399792      2021  Nunavut     2021A000262   \n",
       "21399793      2021  Nunavut     2021A000262   \n",
       "21399794      2021  Nunavut     2021A000262   \n",
       "\n",
       "                                                Work Type          Age (15A)   \n",
       "0         Total - Work activity during the reference year        Total - Age  \\\n",
       "1         Total - Work activity during the reference year        Total - Age   \n",
       "2         Total - Work activity during the reference year        Total - Age   \n",
       "3         Total - Work activity during the reference year        Total - Age   \n",
       "4         Total - Work activity during the reference year        Total - Age   \n",
       "...                                                   ...                ...   \n",
       "21399790                      Worked part year, part time  75 years and over   \n",
       "21399791                      Worked part year, part time  75 years and over   \n",
       "21399792                      Worked part year, part time  75 years and over   \n",
       "21399793                      Worked part year, part time  75 years and over   \n",
       "21399794                      Worked part year, part time  75 years and over   \n",
       "\n",
       "              Gender (3)                              Statistics (3)   \n",
       "0         Total - Gender                                       Count  \\\n",
       "1         Total - Gender                                       Count   \n",
       "2         Total - Gender                                       Count   \n",
       "3         Total - Gender                                       Count   \n",
       "4         Total - Gender                                       Count   \n",
       "...                  ...                                         ...   \n",
       "21399790          Women+  95% confidence interval upper bound, Count   \n",
       "21399791          Women+  95% confidence interval upper bound, Count   \n",
       "21399792          Women+  95% confidence interval upper bound, Count   \n",
       "21399793          Women+  95% confidence interval upper bound, Count   \n",
       "21399794          Women+  95% confidence interval upper bound, Count   \n",
       "\n",
       "                                                 Occupation       Coordinate   \n",
       "0         Total - Occupation - Minor group - National Oc...      1.1.1.1.1.1  \\\n",
       "1                               Occupation - not applicable      1.1.1.1.1.2   \n",
       "2                                           All occupations      1.1.1.1.1.3   \n",
       "3           0 Legislative and senior management occupations      1.1.1.1.1.4   \n",
       "4                        00 Legislative and senior managers      1.1.1.1.1.5   \n",
       "...                                                     ...              ...   \n",
       "21399790  9420 Mechanical, electrical and electronics as...  57.9.15.3.3.305   \n",
       "21399791  9421 Furniture, wood, plastic and other produc...  57.9.15.3.3.306   \n",
       "21399792  95 Labourers in processing, manufacturing and ...  57.9.15.3.3.307   \n",
       "21399793  951 Labourers in processing, manufacturing and...  57.9.15.3.3.308   \n",
       "21399794  9510 Labourers in processing, manufacturing an...  57.9.15.3.3.309   \n",
       "\n",
       "          Employment income statistics (7):Total - Employment income statistics[1]   \n",
       "0                                                  30335915                         \\\n",
       "1                                                   9705395                          \n",
       "2                                                  20630520                          \n",
       "3                                                    267695                          \n",
       "4                                                    267695                          \n",
       "...                                                     ...                          \n",
       "21399790                                                  0                          \n",
       "21399791                                                  0                          \n",
       "21399792                                                  0                          \n",
       "21399793                                                  0                          \n",
       "21399794                                                  0                          \n",
       "\n",
       "          ...   \n",
       "0         ...  \\\n",
       "1         ...   \n",
       "2         ...   \n",
       "3         ...   \n",
       "4         ...   \n",
       "...       ...   \n",
       "21399790  ...   \n",
       "21399791  ...   \n",
       "21399792  ...   \n",
       "21399793  ...   \n",
       "21399794  ...   \n",
       "\n",
       "         Employment income statistics (7):Median employment income ($)[3]   \n",
       "0                                                     37200                \\\n",
       "1                                                      2700                 \n",
       "2                                                     41200                 \n",
       "3                                                    102000                 \n",
       "4                                                    102000                 \n",
       "...                                                     ...                 \n",
       "21399790                                                  0                 \n",
       "21399791                                                  0                 \n",
       "21399792                                                  0                 \n",
       "21399793                                                  0                 \n",
       "21399794                                                  0                 \n",
       "\n",
       "          Symbol.2 Average Income  Symbol.3   \n",
       "0              NaN          50280       NaN  \\\n",
       "1              NaN          15240       NaN   \n",
       "2              NaN          53600       NaN   \n",
       "3              NaN         169200       NaN   \n",
       "4              NaN         169200       NaN   \n",
       "...            ...            ...       ...   \n",
       "21399790       ...              0       ...   \n",
       "21399791       ...              0       ...   \n",
       "21399792       ...              0       ...   \n",
       "21399793       ...              0       ...   \n",
       "21399794       ...              0       ...   \n",
       "\n",
       "         Employment income statistics (7):With wages, salaries and commissions[5]   \n",
       "0                                                  19392230                        \\\n",
       "1                                                   1515625                         \n",
       "2                                                  17876600                         \n",
       "3                                                    231230                         \n",
       "4                                                    231230                         \n",
       "...                                                     ...                         \n",
       "21399790                                                  0                         \n",
       "21399791                                                  0                         \n",
       "21399792                                                  0                         \n",
       "21399793                                                  0                         \n",
       "21399794                                                  0                         \n",
       "\n",
       "          Symbol.4   \n",
       "0              NaN  \\\n",
       "1              NaN   \n",
       "2              NaN   \n",
       "3              NaN   \n",
       "4              NaN   \n",
       "...            ...   \n",
       "21399790       ...   \n",
       "21399791       ...   \n",
       "21399792       ...   \n",
       "21399793       ...   \n",
       "21399794       ...   \n",
       "\n",
       "         Employment income statistics (7):Median wages, salaries and commissions ($)[6]   \n",
       "0                                                     40000                              \\\n",
       "1                                                      2560                               \n",
       "2                                                     43200                               \n",
       "3                                                    106000                               \n",
       "4                                                    106000                               \n",
       "...                                                     ...                               \n",
       "21399790                                                  0                               \n",
       "21399791                                                  0                               \n",
       "21399792                                                  0                               \n",
       "21399793                                                  0                               \n",
       "21399794                                                  0                               \n",
       "\n",
       "          Symbol.5   \n",
       "0              NaN  \\\n",
       "1              NaN   \n",
       "2              NaN   \n",
       "3              NaN   \n",
       "4              NaN   \n",
       "...            ...   \n",
       "21399790       ...   \n",
       "21399791       ...   \n",
       "21399792       ...   \n",
       "21399793       ...   \n",
       "21399794       ...   \n",
       "\n",
       "         Employment income statistics (7):Average wages, salaries and commissions ($)[7]   \n",
       "0                                                     51950                               \\\n",
       "1                                                     16360                                \n",
       "2                                                     54950                                \n",
       "3                                                    175200                                \n",
       "4                                                    175200                                \n",
       "...                                                     ...                                \n",
       "21399790                                                  0                                \n",
       "21399791                                                  0                                \n",
       "21399792                                                  0                                \n",
       "21399793                                                  0                                \n",
       "21399794                                                  0                                \n",
       "\n",
       "          Symbol.6  \n",
       "0              NaN  \n",
       "1              NaN  \n",
       "2              NaN  \n",
       "3              NaN  \n",
       "4              NaN  \n",
       "...            ...  \n",
       "21399790       ...  \n",
       "21399791       ...  \n",
       "21399792       ...  \n",
       "21399793       ...  \n",
       "21399794       ...  \n",
       "\n",
       "[21399795 rows x 23 columns]"
      ]
     },
     "execution_count": 88,
     "metadata": {},
     "output_type": "execute_result"
    }
   ],
   "source": [
    "import pandas as pd\n",
    "dataset = pd.read_csv(\"/Users/ayushchaudhari/Downloads/98100452-eng/income.csv\")\n",
    "dataset = dataset.rename(columns={'Work activity during the reference year (9)':'Work Type','Occupation - Minor group - National Occupational Classification (NOC) 2021 (309A)':'Occupation','Employment income statistics (7):Average employment income ($)[4]':'Average Income'})\n",
    "\n",
    "dataset"
   ]
  },
  {
   "cell_type": "code",
   "execution_count": 89,
   "metadata": {},
   "outputs": [
    {
     "data": {
      "text/html": [
       "<div>\n",
       "<style scoped>\n",
       "    .dataframe tbody tr th:only-of-type {\n",
       "        vertical-align: middle;\n",
       "    }\n",
       "\n",
       "    .dataframe tbody tr th {\n",
       "        vertical-align: top;\n",
       "    }\n",
       "\n",
       "    .dataframe thead th {\n",
       "        text-align: right;\n",
       "    }\n",
       "</style>\n",
       "<table border=\"1\" class=\"dataframe\">\n",
       "  <thead>\n",
       "    <tr style=\"text-align: right;\">\n",
       "      <th></th>\n",
       "      <th>REF_DATE</th>\n",
       "      <th>GEO</th>\n",
       "      <th>DGUID</th>\n",
       "      <th>Work Type</th>\n",
       "      <th>Age (15A)</th>\n",
       "      <th>Gender (3)</th>\n",
       "      <th>Statistics (3)</th>\n",
       "      <th>Occupation</th>\n",
       "      <th>Coordinate</th>\n",
       "      <th>Employment income statistics (7):Total - Employment income statistics[1]</th>\n",
       "      <th>...</th>\n",
       "      <th>Employment income statistics (7):Median employment income ($)[3]</th>\n",
       "      <th>Symbol.2</th>\n",
       "      <th>Average Income</th>\n",
       "      <th>Symbol.3</th>\n",
       "      <th>Employment income statistics (7):With wages, salaries and commissions[5]</th>\n",
       "      <th>Symbol.4</th>\n",
       "      <th>Employment income statistics (7):Median wages, salaries and commissions ($)[6]</th>\n",
       "      <th>Symbol.5</th>\n",
       "      <th>Employment income statistics (7):Average wages, salaries and commissions ($)[7]</th>\n",
       "      <th>Symbol.6</th>\n",
       "    </tr>\n",
       "  </thead>\n",
       "  <tbody>\n",
       "    <tr>\n",
       "      <th>0</th>\n",
       "      <td>2021</td>\n",
       "      <td>Canada</td>\n",
       "      <td>2021A000011124</td>\n",
       "      <td>Total - Work activity during the reference year</td>\n",
       "      <td>Total - Age</td>\n",
       "      <td>Total - Gender</td>\n",
       "      <td>Count</td>\n",
       "      <td>Total - Occupation - Minor group - National Oc...</td>\n",
       "      <td>1.1.1.1.1.1</td>\n",
       "      <td>30335915</td>\n",
       "      <td>...</td>\n",
       "      <td>37200</td>\n",
       "      <td>NaN</td>\n",
       "      <td>50280</td>\n",
       "      <td>NaN</td>\n",
       "      <td>19392230</td>\n",
       "      <td>NaN</td>\n",
       "      <td>40000</td>\n",
       "      <td>NaN</td>\n",
       "      <td>51950</td>\n",
       "      <td>NaN</td>\n",
       "    </tr>\n",
       "    <tr>\n",
       "      <th>3</th>\n",
       "      <td>2021</td>\n",
       "      <td>Canada</td>\n",
       "      <td>2021A000011124</td>\n",
       "      <td>Total - Work activity during the reference year</td>\n",
       "      <td>Total - Age</td>\n",
       "      <td>Total - Gender</td>\n",
       "      <td>Count</td>\n",
       "      <td>0 Legislative and senior management occupations</td>\n",
       "      <td>1.1.1.1.1.4</td>\n",
       "      <td>267695</td>\n",
       "      <td>...</td>\n",
       "      <td>102000</td>\n",
       "      <td>NaN</td>\n",
       "      <td>169200</td>\n",
       "      <td>NaN</td>\n",
       "      <td>231230</td>\n",
       "      <td>NaN</td>\n",
       "      <td>106000</td>\n",
       "      <td>NaN</td>\n",
       "      <td>175200</td>\n",
       "      <td>NaN</td>\n",
       "    </tr>\n",
       "    <tr>\n",
       "      <th>4</th>\n",
       "      <td>2021</td>\n",
       "      <td>Canada</td>\n",
       "      <td>2021A000011124</td>\n",
       "      <td>Total - Work activity during the reference year</td>\n",
       "      <td>Total - Age</td>\n",
       "      <td>Total - Gender</td>\n",
       "      <td>Count</td>\n",
       "      <td>00 Legislative and senior managers</td>\n",
       "      <td>1.1.1.1.1.5</td>\n",
       "      <td>267695</td>\n",
       "      <td>...</td>\n",
       "      <td>102000</td>\n",
       "      <td>NaN</td>\n",
       "      <td>169200</td>\n",
       "      <td>NaN</td>\n",
       "      <td>231230</td>\n",
       "      <td>NaN</td>\n",
       "      <td>106000</td>\n",
       "      <td>NaN</td>\n",
       "      <td>175200</td>\n",
       "      <td>NaN</td>\n",
       "    </tr>\n",
       "    <tr>\n",
       "      <th>5</th>\n",
       "      <td>2021</td>\n",
       "      <td>Canada</td>\n",
       "      <td>2021A000011124</td>\n",
       "      <td>Total - Work activity during the reference year</td>\n",
       "      <td>Total - Age</td>\n",
       "      <td>Total - Gender</td>\n",
       "      <td>Count</td>\n",
       "      <td>000 Legislative and senior managers</td>\n",
       "      <td>1.1.1.1.1.6</td>\n",
       "      <td>267695</td>\n",
       "      <td>...</td>\n",
       "      <td>102000</td>\n",
       "      <td>NaN</td>\n",
       "      <td>169200</td>\n",
       "      <td>NaN</td>\n",
       "      <td>231230</td>\n",
       "      <td>NaN</td>\n",
       "      <td>106000</td>\n",
       "      <td>NaN</td>\n",
       "      <td>175200</td>\n",
       "      <td>NaN</td>\n",
       "    </tr>\n",
       "    <tr>\n",
       "      <th>6</th>\n",
       "      <td>2021</td>\n",
       "      <td>Canada</td>\n",
       "      <td>2021A000011124</td>\n",
       "      <td>Total - Work activity during the reference year</td>\n",
       "      <td>Total - Age</td>\n",
       "      <td>Total - Gender</td>\n",
       "      <td>Count</td>\n",
       "      <td>0001 Legislative and senior managers</td>\n",
       "      <td>1.1.1.1.1.7</td>\n",
       "      <td>267695</td>\n",
       "      <td>...</td>\n",
       "      <td>102000</td>\n",
       "      <td>NaN</td>\n",
       "      <td>169200</td>\n",
       "      <td>NaN</td>\n",
       "      <td>231230</td>\n",
       "      <td>NaN</td>\n",
       "      <td>106000</td>\n",
       "      <td>NaN</td>\n",
       "      <td>175200</td>\n",
       "      <td>NaN</td>\n",
       "    </tr>\n",
       "    <tr>\n",
       "      <th>...</th>\n",
       "      <td>...</td>\n",
       "      <td>...</td>\n",
       "      <td>...</td>\n",
       "      <td>...</td>\n",
       "      <td>...</td>\n",
       "      <td>...</td>\n",
       "      <td>...</td>\n",
       "      <td>...</td>\n",
       "      <td>...</td>\n",
       "      <td>...</td>\n",
       "      <td>...</td>\n",
       "      <td>...</td>\n",
       "      <td>...</td>\n",
       "      <td>...</td>\n",
       "      <td>...</td>\n",
       "      <td>...</td>\n",
       "      <td>...</td>\n",
       "      <td>...</td>\n",
       "      <td>...</td>\n",
       "      <td>...</td>\n",
       "      <td>...</td>\n",
       "    </tr>\n",
       "    <tr>\n",
       "      <th>375427</th>\n",
       "      <td>2021</td>\n",
       "      <td>Canada</td>\n",
       "      <td>2021A000011124</td>\n",
       "      <td>Worked part year, part time</td>\n",
       "      <td>75 years and over</td>\n",
       "      <td>Women+</td>\n",
       "      <td>95% confidence interval upper bound, Count</td>\n",
       "      <td>9414 Machine operators and related workers in ...</td>\n",
       "      <td>1.9.15.3.3.302</td>\n",
       "      <td>62</td>\n",
       "      <td>...</td>\n",
       "      <td>0</td>\n",
       "      <td>...</td>\n",
       "      <td>14059</td>\n",
       "      <td>NaN</td>\n",
       "      <td>29</td>\n",
       "      <td>NaN</td>\n",
       "      <td>0</td>\n",
       "      <td>...</td>\n",
       "      <td>19370</td>\n",
       "      <td>NaN</td>\n",
       "    </tr>\n",
       "    <tr>\n",
       "      <th>375429</th>\n",
       "      <td>2021</td>\n",
       "      <td>Canada</td>\n",
       "      <td>2021A000011124</td>\n",
       "      <td>Worked part year, part time</td>\n",
       "      <td>75 years and over</td>\n",
       "      <td>Women+</td>\n",
       "      <td>95% confidence interval upper bound, Count</td>\n",
       "      <td>942 Assemblers and inspectors in manufacturing</td>\n",
       "      <td>1.9.15.3.3.304</td>\n",
       "      <td>55</td>\n",
       "      <td>...</td>\n",
       "      <td>0</td>\n",
       "      <td>...</td>\n",
       "      <td>12314</td>\n",
       "      <td>NaN</td>\n",
       "      <td>0</td>\n",
       "      <td>...</td>\n",
       "      <td>0</td>\n",
       "      <td>...</td>\n",
       "      <td>0</td>\n",
       "      <td>...</td>\n",
       "    </tr>\n",
       "    <tr>\n",
       "      <th>375432</th>\n",
       "      <td>2021</td>\n",
       "      <td>Canada</td>\n",
       "      <td>2021A000011124</td>\n",
       "      <td>Worked part year, part time</td>\n",
       "      <td>75 years and over</td>\n",
       "      <td>Women+</td>\n",
       "      <td>95% confidence interval upper bound, Count</td>\n",
       "      <td>95 Labourers in processing, manufacturing and ...</td>\n",
       "      <td>1.9.15.3.3.307</td>\n",
       "      <td>126</td>\n",
       "      <td>...</td>\n",
       "      <td>4625</td>\n",
       "      <td>NaN</td>\n",
       "      <td>6970</td>\n",
       "      <td>NaN</td>\n",
       "      <td>84</td>\n",
       "      <td>NaN</td>\n",
       "      <td>6519</td>\n",
       "      <td>NaN</td>\n",
       "      <td>7796</td>\n",
       "      <td>NaN</td>\n",
       "    </tr>\n",
       "    <tr>\n",
       "      <th>375433</th>\n",
       "      <td>2021</td>\n",
       "      <td>Canada</td>\n",
       "      <td>2021A000011124</td>\n",
       "      <td>Worked part year, part time</td>\n",
       "      <td>75 years and over</td>\n",
       "      <td>Women+</td>\n",
       "      <td>95% confidence interval upper bound, Count</td>\n",
       "      <td>951 Labourers in processing, manufacturing and...</td>\n",
       "      <td>1.9.15.3.3.308</td>\n",
       "      <td>126</td>\n",
       "      <td>...</td>\n",
       "      <td>4625</td>\n",
       "      <td>NaN</td>\n",
       "      <td>6970</td>\n",
       "      <td>NaN</td>\n",
       "      <td>84</td>\n",
       "      <td>NaN</td>\n",
       "      <td>6519</td>\n",
       "      <td>NaN</td>\n",
       "      <td>7796</td>\n",
       "      <td>NaN</td>\n",
       "    </tr>\n",
       "    <tr>\n",
       "      <th>375434</th>\n",
       "      <td>2021</td>\n",
       "      <td>Canada</td>\n",
       "      <td>2021A000011124</td>\n",
       "      <td>Worked part year, part time</td>\n",
       "      <td>75 years and over</td>\n",
       "      <td>Women+</td>\n",
       "      <td>95% confidence interval upper bound, Count</td>\n",
       "      <td>9510 Labourers in processing, manufacturing an...</td>\n",
       "      <td>1.9.15.3.3.309</td>\n",
       "      <td>126</td>\n",
       "      <td>...</td>\n",
       "      <td>4625</td>\n",
       "      <td>NaN</td>\n",
       "      <td>6970</td>\n",
       "      <td>NaN</td>\n",
       "      <td>84</td>\n",
       "      <td>NaN</td>\n",
       "      <td>6519</td>\n",
       "      <td>NaN</td>\n",
       "      <td>7796</td>\n",
       "      <td>NaN</td>\n",
       "    </tr>\n",
       "  </tbody>\n",
       "</table>\n",
       "<p>355191 rows × 23 columns</p>\n",
       "</div>"
      ],
      "text/plain": [
       "        REF_DATE     GEO           DGUID   \n",
       "0           2021  Canada  2021A000011124  \\\n",
       "3           2021  Canada  2021A000011124   \n",
       "4           2021  Canada  2021A000011124   \n",
       "5           2021  Canada  2021A000011124   \n",
       "6           2021  Canada  2021A000011124   \n",
       "...          ...     ...             ...   \n",
       "375427      2021  Canada  2021A000011124   \n",
       "375429      2021  Canada  2021A000011124   \n",
       "375432      2021  Canada  2021A000011124   \n",
       "375433      2021  Canada  2021A000011124   \n",
       "375434      2021  Canada  2021A000011124   \n",
       "\n",
       "                                              Work Type          Age (15A)   \n",
       "0       Total - Work activity during the reference year        Total - Age  \\\n",
       "3       Total - Work activity during the reference year        Total - Age   \n",
       "4       Total - Work activity during the reference year        Total - Age   \n",
       "5       Total - Work activity during the reference year        Total - Age   \n",
       "6       Total - Work activity during the reference year        Total - Age   \n",
       "...                                                 ...                ...   \n",
       "375427                      Worked part year, part time  75 years and over   \n",
       "375429                      Worked part year, part time  75 years and over   \n",
       "375432                      Worked part year, part time  75 years and over   \n",
       "375433                      Worked part year, part time  75 years and over   \n",
       "375434                      Worked part year, part time  75 years and over   \n",
       "\n",
       "            Gender (3)                              Statistics (3)   \n",
       "0       Total - Gender                                       Count  \\\n",
       "3       Total - Gender                                       Count   \n",
       "4       Total - Gender                                       Count   \n",
       "5       Total - Gender                                       Count   \n",
       "6       Total - Gender                                       Count   \n",
       "...                ...                                         ...   \n",
       "375427          Women+  95% confidence interval upper bound, Count   \n",
       "375429          Women+  95% confidence interval upper bound, Count   \n",
       "375432          Women+  95% confidence interval upper bound, Count   \n",
       "375433          Women+  95% confidence interval upper bound, Count   \n",
       "375434          Women+  95% confidence interval upper bound, Count   \n",
       "\n",
       "                                               Occupation      Coordinate   \n",
       "0       Total - Occupation - Minor group - National Oc...     1.1.1.1.1.1  \\\n",
       "3         0 Legislative and senior management occupations     1.1.1.1.1.4   \n",
       "4                      00 Legislative and senior managers     1.1.1.1.1.5   \n",
       "5                     000 Legislative and senior managers     1.1.1.1.1.6   \n",
       "6                    0001 Legislative and senior managers     1.1.1.1.1.7   \n",
       "...                                                   ...             ...   \n",
       "375427  9414 Machine operators and related workers in ...  1.9.15.3.3.302   \n",
       "375429     942 Assemblers and inspectors in manufacturing  1.9.15.3.3.304   \n",
       "375432  95 Labourers in processing, manufacturing and ...  1.9.15.3.3.307   \n",
       "375433  951 Labourers in processing, manufacturing and...  1.9.15.3.3.308   \n",
       "375434  9510 Labourers in processing, manufacturing an...  1.9.15.3.3.309   \n",
       "\n",
       "        Employment income statistics (7):Total - Employment income statistics[1]   \n",
       "0                                                30335915                         \\\n",
       "3                                                  267695                          \n",
       "4                                                  267695                          \n",
       "5                                                  267695                          \n",
       "6                                                  267695                          \n",
       "...                                                   ...                          \n",
       "375427                                                 62                          \n",
       "375429                                                 55                          \n",
       "375432                                                126                          \n",
       "375433                                                126                          \n",
       "375434                                                126                          \n",
       "\n",
       "        ... Employment income statistics (7):Median employment income ($)[3]   \n",
       "0       ...                                              37200                \\\n",
       "3       ...                                             102000                 \n",
       "4       ...                                             102000                 \n",
       "5       ...                                             102000                 \n",
       "6       ...                                             102000                 \n",
       "...     ...                                                ...                 \n",
       "375427  ...                                                  0                 \n",
       "375429  ...                                                  0                 \n",
       "375432  ...                                               4625                 \n",
       "375433  ...                                               4625                 \n",
       "375434  ...                                               4625                 \n",
       "\n",
       "        Symbol.2 Average Income  Symbol.3   \n",
       "0            NaN          50280       NaN  \\\n",
       "3            NaN         169200       NaN   \n",
       "4            NaN         169200       NaN   \n",
       "5            NaN         169200       NaN   \n",
       "6            NaN         169200       NaN   \n",
       "...          ...            ...       ...   \n",
       "375427       ...          14059       NaN   \n",
       "375429       ...          12314       NaN   \n",
       "375432       NaN           6970       NaN   \n",
       "375433       NaN           6970       NaN   \n",
       "375434       NaN           6970       NaN   \n",
       "\n",
       "       Employment income statistics (7):With wages, salaries and commissions[5]   \n",
       "0                                                19392230                        \\\n",
       "3                                                  231230                         \n",
       "4                                                  231230                         \n",
       "5                                                  231230                         \n",
       "6                                                  231230                         \n",
       "...                                                   ...                         \n",
       "375427                                                 29                         \n",
       "375429                                                  0                         \n",
       "375432                                                 84                         \n",
       "375433                                                 84                         \n",
       "375434                                                 84                         \n",
       "\n",
       "        Symbol.4   \n",
       "0            NaN  \\\n",
       "3            NaN   \n",
       "4            NaN   \n",
       "5            NaN   \n",
       "6            NaN   \n",
       "...          ...   \n",
       "375427       NaN   \n",
       "375429       ...   \n",
       "375432       NaN   \n",
       "375433       NaN   \n",
       "375434       NaN   \n",
       "\n",
       "       Employment income statistics (7):Median wages, salaries and commissions ($)[6]   \n",
       "0                                                   40000                              \\\n",
       "3                                                  106000                               \n",
       "4                                                  106000                               \n",
       "5                                                  106000                               \n",
       "6                                                  106000                               \n",
       "...                                                   ...                               \n",
       "375427                                                  0                               \n",
       "375429                                                  0                               \n",
       "375432                                               6519                               \n",
       "375433                                               6519                               \n",
       "375434                                               6519                               \n",
       "\n",
       "        Symbol.5   \n",
       "0            NaN  \\\n",
       "3            NaN   \n",
       "4            NaN   \n",
       "5            NaN   \n",
       "6            NaN   \n",
       "...          ...   \n",
       "375427       ...   \n",
       "375429       ...   \n",
       "375432       NaN   \n",
       "375433       NaN   \n",
       "375434       NaN   \n",
       "\n",
       "       Employment income statistics (7):Average wages, salaries and commissions ($)[7]   \n",
       "0                                                   51950                               \\\n",
       "3                                                  175200                                \n",
       "4                                                  175200                                \n",
       "5                                                  175200                                \n",
       "6                                                  175200                                \n",
       "...                                                   ...                                \n",
       "375427                                              19370                                \n",
       "375429                                                  0                                \n",
       "375432                                               7796                                \n",
       "375433                                               7796                                \n",
       "375434                                               7796                                \n",
       "\n",
       "        Symbol.6  \n",
       "0            NaN  \n",
       "3            NaN  \n",
       "4            NaN  \n",
       "5            NaN  \n",
       "6            NaN  \n",
       "...          ...  \n",
       "375427       NaN  \n",
       "375429       ...  \n",
       "375432       NaN  \n",
       "375433       NaN  \n",
       "375434       NaN  \n",
       "\n",
       "[355191 rows x 23 columns]"
      ]
     },
     "execution_count": 89,
     "metadata": {},
     "output_type": "execute_result"
    }
   ],
   "source": [
    "remove_occ = ['Total - Occupation - Minor group - National Occupational Classification (NOC) 2021','Occupation - not applicable','All occupations']\n",
    "\n",
    "dataset = dataset.loc[(dataset['Occupation'] != remove_occ[1]) & (dataset['Occupation'] != remove_occ[2])]\n",
    "dataset = dataset.loc[(dataset['GEO'] == 'Canada') & (dataset['Average Income'] != 0)]\n",
    "dataset"
   ]
  },
  {
   "cell_type": "code",
   "execution_count": 90,
   "metadata": {},
   "outputs": [
    {
     "data": {
      "text/html": [
       "<div>\n",
       "<style scoped>\n",
       "    .dataframe tbody tr th:only-of-type {\n",
       "        vertical-align: middle;\n",
       "    }\n",
       "\n",
       "    .dataframe tbody tr th {\n",
       "        vertical-align: top;\n",
       "    }\n",
       "\n",
       "    .dataframe thead th {\n",
       "        text-align: right;\n",
       "    }\n",
       "</style>\n",
       "<table border=\"1\" class=\"dataframe\">\n",
       "  <thead>\n",
       "    <tr style=\"text-align: right;\">\n",
       "      <th></th>\n",
       "      <th>Age (15A)</th>\n",
       "      <th>Statistics (3)</th>\n",
       "      <th>Average Income</th>\n",
       "    </tr>\n",
       "  </thead>\n",
       "  <tbody>\n",
       "    <tr>\n",
       "      <th>8</th>\n",
       "      <td>20 to 24 years</td>\n",
       "      <td>Count</td>\n",
       "      <td>23389.331421</td>\n",
       "    </tr>\n",
       "    <tr>\n",
       "      <th>14</th>\n",
       "      <td>25 to 34 years</td>\n",
       "      <td>Count</td>\n",
       "      <td>38356.938089</td>\n",
       "    </tr>\n",
       "    <tr>\n",
       "      <th>23</th>\n",
       "      <td>30 to 34 years</td>\n",
       "      <td>Count</td>\n",
       "      <td>41691.836556</td>\n",
       "    </tr>\n",
       "    <tr>\n",
       "      <th>26</th>\n",
       "      <td>35 to 44 years</td>\n",
       "      <td>Count</td>\n",
       "      <td>48568.510952</td>\n",
       "    </tr>\n",
       "    <tr>\n",
       "      <th>29</th>\n",
       "      <td>45 to 54 years</td>\n",
       "      <td>Count</td>\n",
       "      <td>54030.255966</td>\n",
       "    </tr>\n",
       "    <tr>\n",
       "      <th>32</th>\n",
       "      <td>55 to 64 years</td>\n",
       "      <td>Count</td>\n",
       "      <td>52477.015054</td>\n",
       "    </tr>\n",
       "    <tr>\n",
       "      <th>35</th>\n",
       "      <td>65 to 74 years</td>\n",
       "      <td>Count</td>\n",
       "      <td>39084.831347</td>\n",
       "    </tr>\n",
       "    <tr>\n",
       "      <th>41</th>\n",
       "      <td>75 years and over</td>\n",
       "      <td>Count</td>\n",
       "      <td>27395.199792</td>\n",
       "    </tr>\n",
       "  </tbody>\n",
       "</table>\n",
       "</div>"
      ],
      "text/plain": [
       "            Age (15A) Statistics (3)  Average Income\n",
       "8      20 to 24 years          Count    23389.331421\n",
       "14     25 to 34 years          Count    38356.938089\n",
       "23     30 to 34 years          Count    41691.836556\n",
       "26     35 to 44 years          Count    48568.510952\n",
       "29     45 to 54 years          Count    54030.255966\n",
       "32     55 to 64 years          Count    52477.015054\n",
       "35     65 to 74 years          Count    39084.831347\n",
       "41  75 years and over          Count    27395.199792"
      ]
     },
     "execution_count": 90,
     "metadata": {},
     "output_type": "execute_result"
    }
   ],
   "source": [
    "age_group_avg_income = dataset.groupby(['Age (15A)','Statistics (3)'])['Average Income'].mean().reset_index()\n",
    "age_group_avg_income = a.loc[(a['Statistics (3)'] == 'Count') & ((a['Age (15A)'] != '15 to 19 years') & ((a['Age (15A)'] != '15 to 24 years')) & (a['Age (15A)'] != '25 to 29 years') & (a['Age (15A)'] != '25 to 54 years') & (a['Age (15A)'] != '25 to 64 years') & (a['Age (15A)'] != '65 years and over') & (a['Age (15A)'] != 'Total - Age'))]\n",
    "\n",
    "age_group_avg_income "
   ]
  },
  {
   "cell_type": "code",
   "execution_count": 91,
   "metadata": {},
   "outputs": [
    {
     "data": {
      "application/vnd.plotly.v1+json": {
       "config": {
        "plotlyServerURL": "https://plot.ly"
       },
       "data": [
        {
         "alignmentgroup": "True",
         "hovertemplate": "Age (15A)=%{x}<br>Average Income=%{y}<extra></extra>",
         "legendgroup": "",
         "marker": {
          "color": "#636efa",
          "pattern": {
           "shape": ""
          }
         },
         "name": "",
         "offsetgroup": "",
         "orientation": "v",
         "showlegend": false,
         "textposition": "auto",
         "type": "bar",
         "x": [
          "20 to 24 years",
          "25 to 34 years",
          "30 to 34 years",
          "35 to 44 years",
          "45 to 54 years",
          "55 to 64 years",
          "65 to 74 years",
          "75 years and over"
         ],
         "xaxis": "x",
         "y": [
          23389.331420730945,
          38356.93808882907,
          41691.83655645664,
          48568.51095249815,
          54030.255966365774,
          52477.01505429418,
          39084.831346690335,
          27395.199791573617
         ],
         "yaxis": "y"
        }
       ],
       "layout": {
        "barmode": "relative",
        "legend": {
         "tracegroupgap": 0
        },
        "margin": {
         "t": 60
        },
        "template": {
         "data": {
          "bar": [
           {
            "error_x": {
             "color": "#2a3f5f"
            },
            "error_y": {
             "color": "#2a3f5f"
            },
            "marker": {
             "line": {
              "color": "#E5ECF6",
              "width": 0.5
             },
             "pattern": {
              "fillmode": "overlay",
              "size": 10,
              "solidity": 0.2
             }
            },
            "type": "bar"
           }
          ],
          "barpolar": [
           {
            "marker": {
             "line": {
              "color": "#E5ECF6",
              "width": 0.5
             },
             "pattern": {
              "fillmode": "overlay",
              "size": 10,
              "solidity": 0.2
             }
            },
            "type": "barpolar"
           }
          ],
          "carpet": [
           {
            "aaxis": {
             "endlinecolor": "#2a3f5f",
             "gridcolor": "white",
             "linecolor": "white",
             "minorgridcolor": "white",
             "startlinecolor": "#2a3f5f"
            },
            "baxis": {
             "endlinecolor": "#2a3f5f",
             "gridcolor": "white",
             "linecolor": "white",
             "minorgridcolor": "white",
             "startlinecolor": "#2a3f5f"
            },
            "type": "carpet"
           }
          ],
          "choropleth": [
           {
            "colorbar": {
             "outlinewidth": 0,
             "ticks": ""
            },
            "type": "choropleth"
           }
          ],
          "contour": [
           {
            "colorbar": {
             "outlinewidth": 0,
             "ticks": ""
            },
            "colorscale": [
             [
              0,
              "#0d0887"
             ],
             [
              0.1111111111111111,
              "#46039f"
             ],
             [
              0.2222222222222222,
              "#7201a8"
             ],
             [
              0.3333333333333333,
              "#9c179e"
             ],
             [
              0.4444444444444444,
              "#bd3786"
             ],
             [
              0.5555555555555556,
              "#d8576b"
             ],
             [
              0.6666666666666666,
              "#ed7953"
             ],
             [
              0.7777777777777778,
              "#fb9f3a"
             ],
             [
              0.8888888888888888,
              "#fdca26"
             ],
             [
              1,
              "#f0f921"
             ]
            ],
            "type": "contour"
           }
          ],
          "contourcarpet": [
           {
            "colorbar": {
             "outlinewidth": 0,
             "ticks": ""
            },
            "type": "contourcarpet"
           }
          ],
          "heatmap": [
           {
            "colorbar": {
             "outlinewidth": 0,
             "ticks": ""
            },
            "colorscale": [
             [
              0,
              "#0d0887"
             ],
             [
              0.1111111111111111,
              "#46039f"
             ],
             [
              0.2222222222222222,
              "#7201a8"
             ],
             [
              0.3333333333333333,
              "#9c179e"
             ],
             [
              0.4444444444444444,
              "#bd3786"
             ],
             [
              0.5555555555555556,
              "#d8576b"
             ],
             [
              0.6666666666666666,
              "#ed7953"
             ],
             [
              0.7777777777777778,
              "#fb9f3a"
             ],
             [
              0.8888888888888888,
              "#fdca26"
             ],
             [
              1,
              "#f0f921"
             ]
            ],
            "type": "heatmap"
           }
          ],
          "heatmapgl": [
           {
            "colorbar": {
             "outlinewidth": 0,
             "ticks": ""
            },
            "colorscale": [
             [
              0,
              "#0d0887"
             ],
             [
              0.1111111111111111,
              "#46039f"
             ],
             [
              0.2222222222222222,
              "#7201a8"
             ],
             [
              0.3333333333333333,
              "#9c179e"
             ],
             [
              0.4444444444444444,
              "#bd3786"
             ],
             [
              0.5555555555555556,
              "#d8576b"
             ],
             [
              0.6666666666666666,
              "#ed7953"
             ],
             [
              0.7777777777777778,
              "#fb9f3a"
             ],
             [
              0.8888888888888888,
              "#fdca26"
             ],
             [
              1,
              "#f0f921"
             ]
            ],
            "type": "heatmapgl"
           }
          ],
          "histogram": [
           {
            "marker": {
             "pattern": {
              "fillmode": "overlay",
              "size": 10,
              "solidity": 0.2
             }
            },
            "type": "histogram"
           }
          ],
          "histogram2d": [
           {
            "colorbar": {
             "outlinewidth": 0,
             "ticks": ""
            },
            "colorscale": [
             [
              0,
              "#0d0887"
             ],
             [
              0.1111111111111111,
              "#46039f"
             ],
             [
              0.2222222222222222,
              "#7201a8"
             ],
             [
              0.3333333333333333,
              "#9c179e"
             ],
             [
              0.4444444444444444,
              "#bd3786"
             ],
             [
              0.5555555555555556,
              "#d8576b"
             ],
             [
              0.6666666666666666,
              "#ed7953"
             ],
             [
              0.7777777777777778,
              "#fb9f3a"
             ],
             [
              0.8888888888888888,
              "#fdca26"
             ],
             [
              1,
              "#f0f921"
             ]
            ],
            "type": "histogram2d"
           }
          ],
          "histogram2dcontour": [
           {
            "colorbar": {
             "outlinewidth": 0,
             "ticks": ""
            },
            "colorscale": [
             [
              0,
              "#0d0887"
             ],
             [
              0.1111111111111111,
              "#46039f"
             ],
             [
              0.2222222222222222,
              "#7201a8"
             ],
             [
              0.3333333333333333,
              "#9c179e"
             ],
             [
              0.4444444444444444,
              "#bd3786"
             ],
             [
              0.5555555555555556,
              "#d8576b"
             ],
             [
              0.6666666666666666,
              "#ed7953"
             ],
             [
              0.7777777777777778,
              "#fb9f3a"
             ],
             [
              0.8888888888888888,
              "#fdca26"
             ],
             [
              1,
              "#f0f921"
             ]
            ],
            "type": "histogram2dcontour"
           }
          ],
          "mesh3d": [
           {
            "colorbar": {
             "outlinewidth": 0,
             "ticks": ""
            },
            "type": "mesh3d"
           }
          ],
          "parcoords": [
           {
            "line": {
             "colorbar": {
              "outlinewidth": 0,
              "ticks": ""
             }
            },
            "type": "parcoords"
           }
          ],
          "pie": [
           {
            "automargin": true,
            "type": "pie"
           }
          ],
          "scatter": [
           {
            "fillpattern": {
             "fillmode": "overlay",
             "size": 10,
             "solidity": 0.2
            },
            "type": "scatter"
           }
          ],
          "scatter3d": [
           {
            "line": {
             "colorbar": {
              "outlinewidth": 0,
              "ticks": ""
             }
            },
            "marker": {
             "colorbar": {
              "outlinewidth": 0,
              "ticks": ""
             }
            },
            "type": "scatter3d"
           }
          ],
          "scattercarpet": [
           {
            "marker": {
             "colorbar": {
              "outlinewidth": 0,
              "ticks": ""
             }
            },
            "type": "scattercarpet"
           }
          ],
          "scattergeo": [
           {
            "marker": {
             "colorbar": {
              "outlinewidth": 0,
              "ticks": ""
             }
            },
            "type": "scattergeo"
           }
          ],
          "scattergl": [
           {
            "marker": {
             "colorbar": {
              "outlinewidth": 0,
              "ticks": ""
             }
            },
            "type": "scattergl"
           }
          ],
          "scattermapbox": [
           {
            "marker": {
             "colorbar": {
              "outlinewidth": 0,
              "ticks": ""
             }
            },
            "type": "scattermapbox"
           }
          ],
          "scatterpolar": [
           {
            "marker": {
             "colorbar": {
              "outlinewidth": 0,
              "ticks": ""
             }
            },
            "type": "scatterpolar"
           }
          ],
          "scatterpolargl": [
           {
            "marker": {
             "colorbar": {
              "outlinewidth": 0,
              "ticks": ""
             }
            },
            "type": "scatterpolargl"
           }
          ],
          "scatterternary": [
           {
            "marker": {
             "colorbar": {
              "outlinewidth": 0,
              "ticks": ""
             }
            },
            "type": "scatterternary"
           }
          ],
          "surface": [
           {
            "colorbar": {
             "outlinewidth": 0,
             "ticks": ""
            },
            "colorscale": [
             [
              0,
              "#0d0887"
             ],
             [
              0.1111111111111111,
              "#46039f"
             ],
             [
              0.2222222222222222,
              "#7201a8"
             ],
             [
              0.3333333333333333,
              "#9c179e"
             ],
             [
              0.4444444444444444,
              "#bd3786"
             ],
             [
              0.5555555555555556,
              "#d8576b"
             ],
             [
              0.6666666666666666,
              "#ed7953"
             ],
             [
              0.7777777777777778,
              "#fb9f3a"
             ],
             [
              0.8888888888888888,
              "#fdca26"
             ],
             [
              1,
              "#f0f921"
             ]
            ],
            "type": "surface"
           }
          ],
          "table": [
           {
            "cells": {
             "fill": {
              "color": "#EBF0F8"
             },
             "line": {
              "color": "white"
             }
            },
            "header": {
             "fill": {
              "color": "#C8D4E3"
             },
             "line": {
              "color": "white"
             }
            },
            "type": "table"
           }
          ]
         },
         "layout": {
          "annotationdefaults": {
           "arrowcolor": "#2a3f5f",
           "arrowhead": 0,
           "arrowwidth": 1
          },
          "autotypenumbers": "strict",
          "coloraxis": {
           "colorbar": {
            "outlinewidth": 0,
            "ticks": ""
           }
          },
          "colorscale": {
           "diverging": [
            [
             0,
             "#8e0152"
            ],
            [
             0.1,
             "#c51b7d"
            ],
            [
             0.2,
             "#de77ae"
            ],
            [
             0.3,
             "#f1b6da"
            ],
            [
             0.4,
             "#fde0ef"
            ],
            [
             0.5,
             "#f7f7f7"
            ],
            [
             0.6,
             "#e6f5d0"
            ],
            [
             0.7,
             "#b8e186"
            ],
            [
             0.8,
             "#7fbc41"
            ],
            [
             0.9,
             "#4d9221"
            ],
            [
             1,
             "#276419"
            ]
           ],
           "sequential": [
            [
             0,
             "#0d0887"
            ],
            [
             0.1111111111111111,
             "#46039f"
            ],
            [
             0.2222222222222222,
             "#7201a8"
            ],
            [
             0.3333333333333333,
             "#9c179e"
            ],
            [
             0.4444444444444444,
             "#bd3786"
            ],
            [
             0.5555555555555556,
             "#d8576b"
            ],
            [
             0.6666666666666666,
             "#ed7953"
            ],
            [
             0.7777777777777778,
             "#fb9f3a"
            ],
            [
             0.8888888888888888,
             "#fdca26"
            ],
            [
             1,
             "#f0f921"
            ]
           ],
           "sequentialminus": [
            [
             0,
             "#0d0887"
            ],
            [
             0.1111111111111111,
             "#46039f"
            ],
            [
             0.2222222222222222,
             "#7201a8"
            ],
            [
             0.3333333333333333,
             "#9c179e"
            ],
            [
             0.4444444444444444,
             "#bd3786"
            ],
            [
             0.5555555555555556,
             "#d8576b"
            ],
            [
             0.6666666666666666,
             "#ed7953"
            ],
            [
             0.7777777777777778,
             "#fb9f3a"
            ],
            [
             0.8888888888888888,
             "#fdca26"
            ],
            [
             1,
             "#f0f921"
            ]
           ]
          },
          "colorway": [
           "#636efa",
           "#EF553B",
           "#00cc96",
           "#ab63fa",
           "#FFA15A",
           "#19d3f3",
           "#FF6692",
           "#B6E880",
           "#FF97FF",
           "#FECB52"
          ],
          "font": {
           "color": "#2a3f5f"
          },
          "geo": {
           "bgcolor": "white",
           "lakecolor": "white",
           "landcolor": "#E5ECF6",
           "showlakes": true,
           "showland": true,
           "subunitcolor": "white"
          },
          "hoverlabel": {
           "align": "left"
          },
          "hovermode": "closest",
          "mapbox": {
           "style": "light"
          },
          "paper_bgcolor": "white",
          "plot_bgcolor": "#E5ECF6",
          "polar": {
           "angularaxis": {
            "gridcolor": "white",
            "linecolor": "white",
            "ticks": ""
           },
           "bgcolor": "#E5ECF6",
           "radialaxis": {
            "gridcolor": "white",
            "linecolor": "white",
            "ticks": ""
           }
          },
          "scene": {
           "xaxis": {
            "backgroundcolor": "#E5ECF6",
            "gridcolor": "white",
            "gridwidth": 2,
            "linecolor": "white",
            "showbackground": true,
            "ticks": "",
            "zerolinecolor": "white"
           },
           "yaxis": {
            "backgroundcolor": "#E5ECF6",
            "gridcolor": "white",
            "gridwidth": 2,
            "linecolor": "white",
            "showbackground": true,
            "ticks": "",
            "zerolinecolor": "white"
           },
           "zaxis": {
            "backgroundcolor": "#E5ECF6",
            "gridcolor": "white",
            "gridwidth": 2,
            "linecolor": "white",
            "showbackground": true,
            "ticks": "",
            "zerolinecolor": "white"
           }
          },
          "shapedefaults": {
           "line": {
            "color": "#2a3f5f"
           }
          },
          "ternary": {
           "aaxis": {
            "gridcolor": "white",
            "linecolor": "white",
            "ticks": ""
           },
           "baxis": {
            "gridcolor": "white",
            "linecolor": "white",
            "ticks": ""
           },
           "bgcolor": "#E5ECF6",
           "caxis": {
            "gridcolor": "white",
            "linecolor": "white",
            "ticks": ""
           }
          },
          "title": {
           "x": 0.05
          },
          "xaxis": {
           "automargin": true,
           "gridcolor": "white",
           "linecolor": "white",
           "ticks": "",
           "title": {
            "standoff": 15
           },
           "zerolinecolor": "white",
           "zerolinewidth": 2
          },
          "yaxis": {
           "automargin": true,
           "gridcolor": "white",
           "linecolor": "white",
           "ticks": "",
           "title": {
            "standoff": 15
           },
           "zerolinecolor": "white",
           "zerolinewidth": 2
          }
         }
        },
        "xaxis": {
         "anchor": "y",
         "domain": [
          0,
          1
         ],
         "title": {
          "text": "Age (15A)"
         }
        },
        "yaxis": {
         "anchor": "x",
         "domain": [
          0,
          1
         ],
         "title": {
          "text": "Average Income"
         }
        }
       }
      }
     },
     "metadata": {},
     "output_type": "display_data"
    }
   ],
   "source": [
    "import plotly.express as px\n",
    "\n",
    "px.bar(age_group_avg_income,x='Age (15A)',y='Average Income')"
   ]
  },
  {
   "cell_type": "code",
   "execution_count": 92,
   "metadata": {},
   "outputs": [
    {
     "data": {
      "text/html": [
       "<div>\n",
       "<style scoped>\n",
       "    .dataframe tbody tr th:only-of-type {\n",
       "        vertical-align: middle;\n",
       "    }\n",
       "\n",
       "    .dataframe tbody tr th {\n",
       "        vertical-align: top;\n",
       "    }\n",
       "\n",
       "    .dataframe thead th {\n",
       "        text-align: right;\n",
       "    }\n",
       "</style>\n",
       "<table border=\"1\" class=\"dataframe\">\n",
       "  <thead>\n",
       "    <tr style=\"text-align: right;\">\n",
       "      <th></th>\n",
       "      <th>OCC_TITLE</th>\n",
       "      <th>H_MEAN</th>\n",
       "      <th>A_MEAN</th>\n",
       "      <th>M_MEAN</th>\n",
       "    </tr>\n",
       "  </thead>\n",
       "  <tbody>\n",
       "    <tr>\n",
       "      <th>2</th>\n",
       "      <td>Top Executives</td>\n",
       "      <td>62.04</td>\n",
       "      <td>129050.0</td>\n",
       "      <td>10754.166667</td>\n",
       "    </tr>\n",
       "    <tr>\n",
       "      <th>3</th>\n",
       "      <td>Chief Executives</td>\n",
       "      <td>118.48</td>\n",
       "      <td>246440.0</td>\n",
       "      <td>20536.666667</td>\n",
       "    </tr>\n",
       "    <tr>\n",
       "      <th>5</th>\n",
       "      <td>General and Operations Managers</td>\n",
       "      <td>59.07</td>\n",
       "      <td>122860.0</td>\n",
       "      <td>10238.333333</td>\n",
       "    </tr>\n",
       "    <tr>\n",
       "      <th>9</th>\n",
       "      <td>Advertising, Marketing, Promotions, Public Rel...</td>\n",
       "      <td>73.23</td>\n",
       "      <td>152320.0</td>\n",
       "      <td>12693.333333</td>\n",
       "    </tr>\n",
       "    <tr>\n",
       "      <th>10</th>\n",
       "      <td>Advertising and Promotions Managers</td>\n",
       "      <td>70.70</td>\n",
       "      <td>147050.0</td>\n",
       "      <td>12254.166667</td>\n",
       "    </tr>\n",
       "    <tr>\n",
       "      <th>...</th>\n",
       "      <td>...</td>\n",
       "      <td>...</td>\n",
       "      <td>...</td>\n",
       "      <td>...</td>\n",
       "    </tr>\n",
       "    <tr>\n",
       "      <th>1395</th>\n",
       "      <td>Wellhead Pumpers</td>\n",
       "      <td>31.50</td>\n",
       "      <td>65510.0</td>\n",
       "      <td>5459.166667</td>\n",
       "    </tr>\n",
       "    <tr>\n",
       "      <th>1396</th>\n",
       "      <td>Refuse and Recyclable Material Collectors</td>\n",
       "      <td>21.91</td>\n",
       "      <td>45560.0</td>\n",
       "      <td>3796.666667</td>\n",
       "    </tr>\n",
       "    <tr>\n",
       "      <th>1398</th>\n",
       "      <td>Tank Car, Truck, and Ship Loaders</td>\n",
       "      <td>28.21</td>\n",
       "      <td>58680.0</td>\n",
       "      <td>4890.000000</td>\n",
       "    </tr>\n",
       "    <tr>\n",
       "      <th>1400</th>\n",
       "      <td>Miscellaneous Material Moving Workers</td>\n",
       "      <td>20.81</td>\n",
       "      <td>43290.0</td>\n",
       "      <td>3607.500000</td>\n",
       "    </tr>\n",
       "    <tr>\n",
       "      <th>1401</th>\n",
       "      <td>Material Moving Workers, All Other</td>\n",
       "      <td>20.81</td>\n",
       "      <td>43290.0</td>\n",
       "      <td>3607.500000</td>\n",
       "    </tr>\n",
       "  </tbody>\n",
       "</table>\n",
       "<p>1049 rows × 4 columns</p>\n",
       "</div>"
      ],
      "text/plain": [
       "                                              OCC_TITLE  H_MEAN    A_MEAN   \n",
       "2                                        Top Executives   62.04  129050.0  \\\n",
       "3                                      Chief Executives  118.48  246440.0   \n",
       "5                       General and Operations Managers   59.07  122860.0   \n",
       "9     Advertising, Marketing, Promotions, Public Rel...   73.23  152320.0   \n",
       "10                  Advertising and Promotions Managers   70.70  147050.0   \n",
       "...                                                 ...     ...       ...   \n",
       "1395                                   Wellhead Pumpers   31.50   65510.0   \n",
       "1396          Refuse and Recyclable Material Collectors   21.91   45560.0   \n",
       "1398                  Tank Car, Truck, and Ship Loaders   28.21   58680.0   \n",
       "1400              Miscellaneous Material Moving Workers   20.81   43290.0   \n",
       "1401                 Material Moving Workers, All Other   20.81   43290.0   \n",
       "\n",
       "            M_MEAN  \n",
       "2     10754.166667  \n",
       "3     20536.666667  \n",
       "5     10238.333333  \n",
       "9     12693.333333  \n",
       "10    12254.166667  \n",
       "...            ...  \n",
       "1395   5459.166667  \n",
       "1396   3796.666667  \n",
       "1398   4890.000000  \n",
       "1400   3607.500000  \n",
       "1401   3607.500000  \n",
       "\n",
       "[1049 rows x 4 columns]"
      ]
     },
     "execution_count": 92,
     "metadata": {},
     "output_type": "execute_result"
    }
   ],
   "source": [
    "import numpy as np\n",
    "import pandas as pd\n",
    "\n",
    "usa = pd.read_excel('/Users/ayushchaudhari/Downloads/oesm22nat/national_M2022_dl.xlsx')\n",
    "\n",
    "usa_shorten = usa[['OCC_TITLE','H_MEAN','A_MEAN']]\n",
    "\n",
    "usa_shorten.drop_duplicates(inplace=True)\n",
    "usa_shorten['H_MEAN'] = usa_shorten['H_MEAN'].replace('*',np.nan)\n",
    "usa_shorten['A_MEAN'] = usa_shorten['A_MEAN'].replace('*',np.nan)\n",
    "usa_shorten.dropna(inplace=True)\n",
    "\n",
    "usa_shorten['H_MEAN'] = usa_shorten['H_MEAN'].astype(float)\n",
    "usa_shorten['A_MEAN'] = usa_shorten['A_MEAN'].astype(float)\n",
    "usa_shorten['M_MEAN'] = usa_shorten['A_MEAN']/12\n",
    "\n",
    "usa_shorten = usa_shorten.tail(-2)\n",
    "usa_shorten"
   ]
  },
  {
   "cell_type": "code",
   "execution_count": 93,
   "metadata": {},
   "outputs": [
    {
     "name": "stdout",
     "output_type": "stream",
     "text": [
      "TOP 10 paying jobs based on your desired salary: \n",
      "\n",
      "Biological Scientists, All Other - $95920.0\n",
      "Gambling Managers - $95830.0\n",
      "Operations Research Analysts - $95820.0\n",
      "Financial Examiners - $95610.0\n",
      "Music Directors and Composers - $95430.0\n",
      "Power Plant Operators, Distributors, and Dispatchers - $94820.0\n",
      "Architecture and Engineering Occupations - $94670.0\n",
      "Social Scientists and Related Workers - $94560.0\n",
      "Social Scientists and Related Workers, All Other - $94560.0\n",
      "Elevator and Escalator Installers and Repairers - $93960.0\n"
     ]
    }
   ],
   "source": [
    "converted_salary_min = desired_salary[0]\n",
    "converted_salary_max = desired_salary[1]\n",
    "\n",
    "my_possible_careers = usa_shorten.loc[(usa_shorten['M_MEAN'] >= converted_salary_min) & (usa_shorten['M_MEAN'] <= converted_salary_max)]\n",
    "\n",
    "my_possible_careers.sort_values('A_MEAN',ascending=False,inplace=True)\n",
    "\n",
    "print(\"TOP 10 paying jobs based on your desired salary: \\n\")\n",
    "for jobs in my_possible_careers.head(10).iterrows():\n",
    "    print(str(jobs[1][\"OCC_TITLE\"])  + \" - $\" + str(jobs[1]['A_MEAN']))"
   ]
  },
  {
   "cell_type": "code",
   "execution_count": 94,
   "metadata": {},
   "outputs": [
    {
     "name": "stdout",
     "output_type": "stream",
     "text": [
      "Your gross income is $ 2520 per month.\n",
      "$ 821.02  will be taken off your paycheck.\n",
      "Your net income is $ 1698.98 per month.\n",
      "Stored 'netIncome' (float)\n"
     ]
    }
   ],
   "source": [
    "#✏️\n",
    "wagePerHour = 15  # this is your wage in $/hour\n",
    "hoursPerDay = 8\n",
    "workdaysPerMonth = 21\n",
    "\n",
    "grossIncome = wagePerHour * hoursPerDay * workdaysPerMonth\n",
    "print('Your gross income is $', grossIncome, 'per month.')\n",
    "\n",
    "incomeTax = .15 + .10   # assume federal income tax is 15% and provincial is 10%\n",
    "cpp = .0495             # assume Canada Pension Plan is 4.95%\n",
    "ei = .0188              # assume Employment Insurance is 1.88%\n",
    "unionDues = .0075       # 0.75% sounds reasonable for union dues\n",
    "\n",
    "deductions = grossIncome * (incomeTax + cpp + ei + unionDues)\n",
    "print('$', '{:.2f}'.format(deductions), ' will be taken off your paycheck.')\n",
    "\n",
    "netIncome = grossIncome - deductions\n",
    "print('Your net income is $', '{:.2f}'.format(netIncome), 'per month.')\n",
    "# store that value in memory for later notebooks\n",
    "%store netIncome"
   ]
  },
  {
   "cell_type": "markdown",
   "metadata": {},
   "source": [
    "## Graphing Income\n",
    "📗\n",
    "We can also look at how your net income (take-home pay) changes based on your hourly wage. We will use [2019 taxation rates](https://www.canada.ca/en/revenue-agency/services/tax/individuals/frequently-asked-questions-individuals/canadian-income-tax-rates-individuals-current-previous-years.html) as well as [EI](https://www.canada.ca/en/revenue-agency/services/tax/businesses/topics/payroll/payroll-deductions-contributions/employment-insurance-ei/ei-premium-rates-maximums.html) and [CPP](https://www.canada.ca/en/revenue-agency/services/tax/businesses/topics/payroll/payroll-deductions-contributions/canada-pension-plan-cpp/cpp-contribution-rates-maximums-exemptions.html) rates. `Run` the cell below (without editing it) to generate a graph.\n",
    "</div>"
   ]
  },
  {
   "cell_type": "code",
   "execution_count": 95,
   "metadata": {},
   "outputs": [
    {
     "data": {
      "application/vnd.plotly.v1+json": {
       "config": {
        "plotlyServerURL": "https://plot.ly"
       },
       "data": [
        {
         "name": "Gross Income",
         "type": "scatter",
         "x": [
          15,
          16,
          17,
          18,
          19,
          20,
          21,
          22,
          23,
          24,
          25,
          26,
          27,
          28,
          29,
          30,
          31,
          32,
          33,
          34,
          35,
          36,
          37,
          38,
          39,
          40,
          41,
          42,
          43,
          44,
          45,
          46,
          47,
          48,
          49,
          50,
          51,
          52,
          53,
          54,
          55,
          56,
          57,
          58,
          59,
          60,
          61,
          62,
          63,
          64,
          65,
          66,
          67,
          68,
          69,
          70,
          71,
          72,
          73,
          74,
          75,
          76,
          77,
          78,
          79,
          80,
          81,
          82,
          83,
          84,
          85,
          86,
          87,
          88,
          89,
          90,
          91,
          92,
          93,
          94,
          95,
          96,
          97,
          98,
          99,
          100,
          101,
          102,
          103,
          104,
          105,
          106,
          107,
          108,
          109,
          110,
          111,
          112,
          113,
          114,
          115,
          116,
          117,
          118,
          119,
          120,
          121,
          122,
          123,
          124,
          125,
          126,
          127,
          128,
          129,
          130,
          131,
          132,
          133,
          134,
          135,
          136,
          137,
          138,
          139,
          140,
          141,
          142,
          143,
          144,
          145,
          146,
          147,
          148,
          149
         ],
         "y": [
          28800,
          30720,
          32640,
          34560,
          36480,
          38400,
          40320,
          42240,
          44160,
          46080,
          48000,
          49920,
          51840,
          53760,
          55680,
          57600,
          59520,
          61440,
          63360,
          65280,
          67200,
          69120,
          71040,
          72960,
          74880,
          76800,
          78720,
          80640,
          82560,
          84480,
          86400,
          88320,
          90240,
          92160,
          94080,
          96000,
          97920,
          99840,
          101760,
          103680,
          105600,
          107520,
          109440,
          111360,
          113280,
          115200,
          117120,
          119040,
          120960,
          122880,
          124800,
          126720,
          128640,
          130560,
          132480,
          134400,
          136320,
          138240,
          140160,
          142080,
          144000,
          145920,
          147840,
          149760,
          151680,
          153600,
          155520,
          157440,
          159360,
          161280,
          163200,
          165120,
          167040,
          168960,
          170880,
          172800,
          174720,
          176640,
          178560,
          180480,
          182400,
          184320,
          186240,
          188160,
          190080,
          192000,
          193920,
          195840,
          197760,
          199680,
          201600,
          203520,
          205440,
          207360,
          209280,
          211200,
          213120,
          215040,
          216960,
          218880,
          220800,
          222720,
          224640,
          226560,
          228480,
          230400,
          232320,
          234240,
          236160,
          238080,
          240000,
          241920,
          243840,
          245760,
          247680,
          249600,
          251520,
          253440,
          255360,
          257280,
          259200,
          261120,
          263040,
          264960,
          266880,
          268800,
          270720,
          272640,
          274560,
          276480,
          278400,
          280320,
          282240,
          284160,
          286080
         ]
        },
        {
         "name": "Net Income",
         "type": "scatter",
         "x": [
          15,
          16,
          17,
          18,
          19,
          20,
          21,
          22,
          23,
          24,
          25,
          26,
          27,
          28,
          29,
          30,
          31,
          32,
          33,
          34,
          35,
          36,
          37,
          38,
          39,
          40,
          41,
          42,
          43,
          44,
          45,
          46,
          47,
          48,
          49,
          50,
          51,
          52,
          53,
          54,
          55,
          56,
          57,
          58,
          59,
          60,
          61,
          62,
          63,
          64,
          65,
          66,
          67,
          68,
          69,
          70,
          71,
          72,
          73,
          74,
          75,
          76,
          77,
          78,
          79,
          80,
          81,
          82,
          83,
          84,
          85,
          86,
          87,
          88,
          89,
          90,
          91,
          92,
          93,
          94,
          95,
          96,
          97,
          98,
          99,
          100,
          101,
          102,
          103,
          104,
          105,
          106,
          107,
          108,
          109,
          110,
          111,
          112,
          113,
          114,
          115,
          116,
          117,
          118,
          119,
          120,
          121,
          122,
          123,
          124,
          125,
          126,
          127,
          128,
          129,
          130,
          131,
          132,
          133,
          134,
          135,
          136,
          137,
          138,
          139,
          140,
          141,
          142,
          143,
          144,
          145,
          146,
          147,
          148,
          149
         ],
         "y": [
          19664.64,
          20975.616,
          22286.592,
          23597.568,
          24908.544,
          26219.52,
          27530.496,
          28841.472,
          30152.448,
          31463.424,
          32754.05,
          33959.426,
          35164.801999999996,
          36380.87,
          37708.130000000005,
          39042.53,
          40376.93,
          41711.33,
          43045.729999999996,
          44380.13,
          45714.53,
          47048.93,
          48383.33,
          49717.729999999996,
          51052.13,
          52386.53,
          53720.93,
          55055.33,
          56389.729999999996,
          57724.13,
          59058.53,
          60392.93,
          61727.33,
          63061.729999999996,
          64396.13,
          63070.125,
          64298.925,
          65527.725,
          66756.525,
          67985.32500000001,
          69214.125,
          70442.92499999999,
          71671.725,
          72900.525,
          74129.32500000001,
          75358.125,
          76586.92499999999,
          77815.725,
          79044.525,
          80273.32500000001,
          81502.125,
          82730.92499999999,
          83959.725,
          85188.525,
          86392.125,
          87582.525,
          88772.92499999999,
          89963.325,
          91153.725,
          92344.125,
          93534.525,
          94724.92499999999,
          90670.89,
          91803.69,
          92936.48999999999,
          94069.29000000001,
          95202.09,
          96334.89,
          94824.32999999999,
          95937.93,
          97051.53,
          98165.13,
          99278.73000000001,
          100392.33,
          101505.93000000001,
          102619.53,
          103733.13,
          104846.73000000001,
          105960.33,
          107073.93000000001,
          108187.53,
          109301.13,
          110414.73000000001,
          111528.33,
          112641.93000000001,
          113755.53,
          114869.13,
          115982.73000000001,
          117096.33,
          118209.93000000001,
          119323.53,
          120437.13,
          121550.73000000001,
          122664.33,
          123777.93,
          118841.24,
          119858.84000000001,
          120876.44,
          121894.04000000001,
          122911.64000000001,
          123929.24,
          124946.84000000001,
          125964.44,
          126982.04000000001,
          127999.64000000001,
          129017.23999999999,
          130034.84000000001,
          131052.44,
          132070.04,
          133087.64,
          134105.24,
          135122.84000000003,
          136140.44,
          137158.04,
          138175.64,
          139193.24,
          140210.84000000003,
          141228.44,
          142246.04,
          143263.64,
          144281.24,
          145298.84000000003,
          146316.44,
          147334.04,
          148351.64,
          149369.24,
          150386.84000000003,
          151404.44,
          152422.04,
          153439.64,
          154457.24,
          155474.84000000003,
          156492.44,
          157510.04,
          158527.64
         ]
        }
       ],
       "layout": {
        "template": {
         "data": {
          "bar": [
           {
            "error_x": {
             "color": "#2a3f5f"
            },
            "error_y": {
             "color": "#2a3f5f"
            },
            "marker": {
             "line": {
              "color": "#E5ECF6",
              "width": 0.5
             },
             "pattern": {
              "fillmode": "overlay",
              "size": 10,
              "solidity": 0.2
             }
            },
            "type": "bar"
           }
          ],
          "barpolar": [
           {
            "marker": {
             "line": {
              "color": "#E5ECF6",
              "width": 0.5
             },
             "pattern": {
              "fillmode": "overlay",
              "size": 10,
              "solidity": 0.2
             }
            },
            "type": "barpolar"
           }
          ],
          "carpet": [
           {
            "aaxis": {
             "endlinecolor": "#2a3f5f",
             "gridcolor": "white",
             "linecolor": "white",
             "minorgridcolor": "white",
             "startlinecolor": "#2a3f5f"
            },
            "baxis": {
             "endlinecolor": "#2a3f5f",
             "gridcolor": "white",
             "linecolor": "white",
             "minorgridcolor": "white",
             "startlinecolor": "#2a3f5f"
            },
            "type": "carpet"
           }
          ],
          "choropleth": [
           {
            "colorbar": {
             "outlinewidth": 0,
             "ticks": ""
            },
            "type": "choropleth"
           }
          ],
          "contour": [
           {
            "colorbar": {
             "outlinewidth": 0,
             "ticks": ""
            },
            "colorscale": [
             [
              0,
              "#0d0887"
             ],
             [
              0.1111111111111111,
              "#46039f"
             ],
             [
              0.2222222222222222,
              "#7201a8"
             ],
             [
              0.3333333333333333,
              "#9c179e"
             ],
             [
              0.4444444444444444,
              "#bd3786"
             ],
             [
              0.5555555555555556,
              "#d8576b"
             ],
             [
              0.6666666666666666,
              "#ed7953"
             ],
             [
              0.7777777777777778,
              "#fb9f3a"
             ],
             [
              0.8888888888888888,
              "#fdca26"
             ],
             [
              1,
              "#f0f921"
             ]
            ],
            "type": "contour"
           }
          ],
          "contourcarpet": [
           {
            "colorbar": {
             "outlinewidth": 0,
             "ticks": ""
            },
            "type": "contourcarpet"
           }
          ],
          "heatmap": [
           {
            "colorbar": {
             "outlinewidth": 0,
             "ticks": ""
            },
            "colorscale": [
             [
              0,
              "#0d0887"
             ],
             [
              0.1111111111111111,
              "#46039f"
             ],
             [
              0.2222222222222222,
              "#7201a8"
             ],
             [
              0.3333333333333333,
              "#9c179e"
             ],
             [
              0.4444444444444444,
              "#bd3786"
             ],
             [
              0.5555555555555556,
              "#d8576b"
             ],
             [
              0.6666666666666666,
              "#ed7953"
             ],
             [
              0.7777777777777778,
              "#fb9f3a"
             ],
             [
              0.8888888888888888,
              "#fdca26"
             ],
             [
              1,
              "#f0f921"
             ]
            ],
            "type": "heatmap"
           }
          ],
          "heatmapgl": [
           {
            "colorbar": {
             "outlinewidth": 0,
             "ticks": ""
            },
            "colorscale": [
             [
              0,
              "#0d0887"
             ],
             [
              0.1111111111111111,
              "#46039f"
             ],
             [
              0.2222222222222222,
              "#7201a8"
             ],
             [
              0.3333333333333333,
              "#9c179e"
             ],
             [
              0.4444444444444444,
              "#bd3786"
             ],
             [
              0.5555555555555556,
              "#d8576b"
             ],
             [
              0.6666666666666666,
              "#ed7953"
             ],
             [
              0.7777777777777778,
              "#fb9f3a"
             ],
             [
              0.8888888888888888,
              "#fdca26"
             ],
             [
              1,
              "#f0f921"
             ]
            ],
            "type": "heatmapgl"
           }
          ],
          "histogram": [
           {
            "marker": {
             "pattern": {
              "fillmode": "overlay",
              "size": 10,
              "solidity": 0.2
             }
            },
            "type": "histogram"
           }
          ],
          "histogram2d": [
           {
            "colorbar": {
             "outlinewidth": 0,
             "ticks": ""
            },
            "colorscale": [
             [
              0,
              "#0d0887"
             ],
             [
              0.1111111111111111,
              "#46039f"
             ],
             [
              0.2222222222222222,
              "#7201a8"
             ],
             [
              0.3333333333333333,
              "#9c179e"
             ],
             [
              0.4444444444444444,
              "#bd3786"
             ],
             [
              0.5555555555555556,
              "#d8576b"
             ],
             [
              0.6666666666666666,
              "#ed7953"
             ],
             [
              0.7777777777777778,
              "#fb9f3a"
             ],
             [
              0.8888888888888888,
              "#fdca26"
             ],
             [
              1,
              "#f0f921"
             ]
            ],
            "type": "histogram2d"
           }
          ],
          "histogram2dcontour": [
           {
            "colorbar": {
             "outlinewidth": 0,
             "ticks": ""
            },
            "colorscale": [
             [
              0,
              "#0d0887"
             ],
             [
              0.1111111111111111,
              "#46039f"
             ],
             [
              0.2222222222222222,
              "#7201a8"
             ],
             [
              0.3333333333333333,
              "#9c179e"
             ],
             [
              0.4444444444444444,
              "#bd3786"
             ],
             [
              0.5555555555555556,
              "#d8576b"
             ],
             [
              0.6666666666666666,
              "#ed7953"
             ],
             [
              0.7777777777777778,
              "#fb9f3a"
             ],
             [
              0.8888888888888888,
              "#fdca26"
             ],
             [
              1,
              "#f0f921"
             ]
            ],
            "type": "histogram2dcontour"
           }
          ],
          "mesh3d": [
           {
            "colorbar": {
             "outlinewidth": 0,
             "ticks": ""
            },
            "type": "mesh3d"
           }
          ],
          "parcoords": [
           {
            "line": {
             "colorbar": {
              "outlinewidth": 0,
              "ticks": ""
             }
            },
            "type": "parcoords"
           }
          ],
          "pie": [
           {
            "automargin": true,
            "type": "pie"
           }
          ],
          "scatter": [
           {
            "fillpattern": {
             "fillmode": "overlay",
             "size": 10,
             "solidity": 0.2
            },
            "type": "scatter"
           }
          ],
          "scatter3d": [
           {
            "line": {
             "colorbar": {
              "outlinewidth": 0,
              "ticks": ""
             }
            },
            "marker": {
             "colorbar": {
              "outlinewidth": 0,
              "ticks": ""
             }
            },
            "type": "scatter3d"
           }
          ],
          "scattercarpet": [
           {
            "marker": {
             "colorbar": {
              "outlinewidth": 0,
              "ticks": ""
             }
            },
            "type": "scattercarpet"
           }
          ],
          "scattergeo": [
           {
            "marker": {
             "colorbar": {
              "outlinewidth": 0,
              "ticks": ""
             }
            },
            "type": "scattergeo"
           }
          ],
          "scattergl": [
           {
            "marker": {
             "colorbar": {
              "outlinewidth": 0,
              "ticks": ""
             }
            },
            "type": "scattergl"
           }
          ],
          "scattermapbox": [
           {
            "marker": {
             "colorbar": {
              "outlinewidth": 0,
              "ticks": ""
             }
            },
            "type": "scattermapbox"
           }
          ],
          "scatterpolar": [
           {
            "marker": {
             "colorbar": {
              "outlinewidth": 0,
              "ticks": ""
             }
            },
            "type": "scatterpolar"
           }
          ],
          "scatterpolargl": [
           {
            "marker": {
             "colorbar": {
              "outlinewidth": 0,
              "ticks": ""
             }
            },
            "type": "scatterpolargl"
           }
          ],
          "scatterternary": [
           {
            "marker": {
             "colorbar": {
              "outlinewidth": 0,
              "ticks": ""
             }
            },
            "type": "scatterternary"
           }
          ],
          "surface": [
           {
            "colorbar": {
             "outlinewidth": 0,
             "ticks": ""
            },
            "colorscale": [
             [
              0,
              "#0d0887"
             ],
             [
              0.1111111111111111,
              "#46039f"
             ],
             [
              0.2222222222222222,
              "#7201a8"
             ],
             [
              0.3333333333333333,
              "#9c179e"
             ],
             [
              0.4444444444444444,
              "#bd3786"
             ],
             [
              0.5555555555555556,
              "#d8576b"
             ],
             [
              0.6666666666666666,
              "#ed7953"
             ],
             [
              0.7777777777777778,
              "#fb9f3a"
             ],
             [
              0.8888888888888888,
              "#fdca26"
             ],
             [
              1,
              "#f0f921"
             ]
            ],
            "type": "surface"
           }
          ],
          "table": [
           {
            "cells": {
             "fill": {
              "color": "#EBF0F8"
             },
             "line": {
              "color": "white"
             }
            },
            "header": {
             "fill": {
              "color": "#C8D4E3"
             },
             "line": {
              "color": "white"
             }
            },
            "type": "table"
           }
          ]
         },
         "layout": {
          "annotationdefaults": {
           "arrowcolor": "#2a3f5f",
           "arrowhead": 0,
           "arrowwidth": 1
          },
          "autotypenumbers": "strict",
          "coloraxis": {
           "colorbar": {
            "outlinewidth": 0,
            "ticks": ""
           }
          },
          "colorscale": {
           "diverging": [
            [
             0,
             "#8e0152"
            ],
            [
             0.1,
             "#c51b7d"
            ],
            [
             0.2,
             "#de77ae"
            ],
            [
             0.3,
             "#f1b6da"
            ],
            [
             0.4,
             "#fde0ef"
            ],
            [
             0.5,
             "#f7f7f7"
            ],
            [
             0.6,
             "#e6f5d0"
            ],
            [
             0.7,
             "#b8e186"
            ],
            [
             0.8,
             "#7fbc41"
            ],
            [
             0.9,
             "#4d9221"
            ],
            [
             1,
             "#276419"
            ]
           ],
           "sequential": [
            [
             0,
             "#0d0887"
            ],
            [
             0.1111111111111111,
             "#46039f"
            ],
            [
             0.2222222222222222,
             "#7201a8"
            ],
            [
             0.3333333333333333,
             "#9c179e"
            ],
            [
             0.4444444444444444,
             "#bd3786"
            ],
            [
             0.5555555555555556,
             "#d8576b"
            ],
            [
             0.6666666666666666,
             "#ed7953"
            ],
            [
             0.7777777777777778,
             "#fb9f3a"
            ],
            [
             0.8888888888888888,
             "#fdca26"
            ],
            [
             1,
             "#f0f921"
            ]
           ],
           "sequentialminus": [
            [
             0,
             "#0d0887"
            ],
            [
             0.1111111111111111,
             "#46039f"
            ],
            [
             0.2222222222222222,
             "#7201a8"
            ],
            [
             0.3333333333333333,
             "#9c179e"
            ],
            [
             0.4444444444444444,
             "#bd3786"
            ],
            [
             0.5555555555555556,
             "#d8576b"
            ],
            [
             0.6666666666666666,
             "#ed7953"
            ],
            [
             0.7777777777777778,
             "#fb9f3a"
            ],
            [
             0.8888888888888888,
             "#fdca26"
            ],
            [
             1,
             "#f0f921"
            ]
           ]
          },
          "colorway": [
           "#636efa",
           "#EF553B",
           "#00cc96",
           "#ab63fa",
           "#FFA15A",
           "#19d3f3",
           "#FF6692",
           "#B6E880",
           "#FF97FF",
           "#FECB52"
          ],
          "font": {
           "color": "#2a3f5f"
          },
          "geo": {
           "bgcolor": "white",
           "lakecolor": "white",
           "landcolor": "#E5ECF6",
           "showlakes": true,
           "showland": true,
           "subunitcolor": "white"
          },
          "hoverlabel": {
           "align": "left"
          },
          "hovermode": "closest",
          "mapbox": {
           "style": "light"
          },
          "paper_bgcolor": "white",
          "plot_bgcolor": "#E5ECF6",
          "polar": {
           "angularaxis": {
            "gridcolor": "white",
            "linecolor": "white",
            "ticks": ""
           },
           "bgcolor": "#E5ECF6",
           "radialaxis": {
            "gridcolor": "white",
            "linecolor": "white",
            "ticks": ""
           }
          },
          "scene": {
           "xaxis": {
            "backgroundcolor": "#E5ECF6",
            "gridcolor": "white",
            "gridwidth": 2,
            "linecolor": "white",
            "showbackground": true,
            "ticks": "",
            "zerolinecolor": "white"
           },
           "yaxis": {
            "backgroundcolor": "#E5ECF6",
            "gridcolor": "white",
            "gridwidth": 2,
            "linecolor": "white",
            "showbackground": true,
            "ticks": "",
            "zerolinecolor": "white"
           },
           "zaxis": {
            "backgroundcolor": "#E5ECF6",
            "gridcolor": "white",
            "gridwidth": 2,
            "linecolor": "white",
            "showbackground": true,
            "ticks": "",
            "zerolinecolor": "white"
           }
          },
          "shapedefaults": {
           "line": {
            "color": "#2a3f5f"
           }
          },
          "ternary": {
           "aaxis": {
            "gridcolor": "white",
            "linecolor": "white",
            "ticks": ""
           },
           "baxis": {
            "gridcolor": "white",
            "linecolor": "white",
            "ticks": ""
           },
           "bgcolor": "#E5ECF6",
           "caxis": {
            "gridcolor": "white",
            "linecolor": "white",
            "ticks": ""
           }
          },
          "title": {
           "x": 0.05
          },
          "xaxis": {
           "automargin": true,
           "gridcolor": "white",
           "linecolor": "white",
           "ticks": "",
           "title": {
            "standoff": 15
           },
           "zerolinecolor": "white",
           "zerolinewidth": 2
          },
          "yaxis": {
           "automargin": true,
           "gridcolor": "white",
           "linecolor": "white",
           "ticks": "",
           "title": {
            "standoff": 15
           },
           "zerolinecolor": "white",
           "zerolinewidth": 2
          }
         }
        },
        "title": {
         "text": "Net Income vs Hourly Wage"
        },
        "xaxis": {
         "title": {
          "text": "Hourly Wage"
         }
        },
        "yaxis": {
         "title": {
          "text": "Income"
         }
        }
       }
      }
     },
     "metadata": {},
     "output_type": "display_data"
    }
   ],
   "source": [
    "#📗\n",
    "from functions import *\n",
    "\n",
    "wages = []\n",
    "grossIncomes = []\n",
    "netIncomes = []\n",
    "for wage in range(15, 150):\n",
    "    wages.append(wage)\n",
    "    grossAnnualIncome = wage * 8 * 240\n",
    "    grossIncomes.append(grossAnnualIncome)\n",
    "    incomeTax = calculateFederalTax(grossAnnualIncome) + calculateProvincialTax(grossAnnualIncome)\n",
    "    eiPremium = calculateEI(grossAnnualIncome)\n",
    "    cppPremium = calculateCPP(grossAnnualIncome)\n",
    "    netIncome = grossAnnualIncome - (incomeTax + eiPremium + cppPremium)\n",
    "    netIncomes.append(netIncome)\n",
    "\n",
    "import plotly.graph_objects as go\n",
    "fig = go.Figure()\n",
    "fig.add_trace(go.Scatter(x=wages, y=grossIncomes, name='Gross Income'))\n",
    "fig.add_trace(go.Scatter(x=wages, y=netIncomes, name='Net Income'))\n",
    "fig.update_layout(\n",
    "    title=go.layout.Title(text='Net Income vs Hourly Wage'),\n",
    "    xaxis=go.layout.XAxis(title=go.layout.xaxis.Title(text='Hourly Wage')),\n",
    "    yaxis=go.layout.YAxis(title=go.layout.yaxis.Title(text='Income')))\n",
    "fig.show()"
   ]
  },
  {
   "cell_type": "markdown",
   "metadata": {},
   "source": [
    "📗The graph shows that the difference between gross income and net income (after deductions) increases as wage increases. For more information about this, you may want to read about [progressive taxation](https://en.wikipedia.org/wiki/Progressive_tax).\n",
    "\n",
    "You have now completed this section. Proceed to [section 3](./CALM-moving-out-3.ipynb)"
   ]
  },
  {
   "cell_type": "markdown",
   "metadata": {},
   "source": [
    "[![Callysto.ca License](https://github.com/callysto/curriculum-notebooks/blob/master/callysto-notebook-banner-bottom.jpg?raw=true)](https://github.com/callysto/curriculum-notebooks/blob/master/LICENSE.md)"
   ]
  }
 ],
 "metadata": {
  "kernelspec": {
   "display_name": "Python 3",
   "language": "python",
   "name": "python3"
  },
  "language_info": {
   "codemirror_mode": {
    "name": "ipython",
    "version": 3
   },
   "file_extension": ".py",
   "mimetype": "text/x-python",
   "name": "python",
   "nbconvert_exporter": "python",
   "pygments_lexer": "ipython3",
   "version": "3.11.3"
  }
 },
 "nbformat": 4,
 "nbformat_minor": 2
}
