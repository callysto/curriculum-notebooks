{
 "cells": [
  {
   "cell_type": "markdown",
   "metadata": {},
   "source": [
    "![Callysto.ca Banner](https://github.com/callysto/curriculum-notebooks/blob/master/callysto-notebook-banner-top.jpg?raw=true)\n",
    "\n",
    "<a href=\"https://hub.callysto.ca/jupyter/hub/user-redirect/git-pull?repo=https%3A%2F%2Fgithub.com%2Fcallysto%2Fcurriculum-notebooks&branch=master&subPath=Health/CALM/CALM-moving-out-2.ipynb&depth=1\" target=\"_parent\"><img src=\"https://raw.githubusercontent.com/callysto/curriculum-notebooks/master/open-in-callysto-button.svg?sanitize=true\" width=\"123\" height=\"24\" alt=\"Open in Callysto\"/></a>"
   ]
  },
  {
   "cell_type": "markdown",
   "metadata": {},
   "source": [
    "# CALM - Moving Out Project\n",
    "## Part 2 - Income\n",
    "\n",
    "📗Now let's take a look at your potential income. First, some definitions:\n",
    "\n",
    "### Paycheque Definitions\n",
    "#### Gross Income (pay/earnings)\n",
    "The amount of income/earnings, for any pay period, before deductions\n",
    " \n",
    "#### Net income (pay/earnings)\n",
    "The amount of income/earnings, for any pay period, after deductions (Take home pay)\n",
    "\n",
    "#### CPP - Canada Pension Plan\n",
    "2.3% of gross income deducted for insurance in case of unemployment\n",
    " \n",
    "#### Income Tax\n",
    "A deduction paid to the Federal and Provincial government for taxes\n",
    " \n",
    "#### LTD\n",
    "A deduction for Long Term Disability insurance\n",
    " \n",
    "#### Union Dues\n",
    "Fees paid for membership in a union\n",
    " \n",
    "#### Bonds\n",
    "An investment in which a business or government pays a set interest rate\n",
    " \n",
    "#### Advance Earnings\n",
    "Deducted money that was received in advance of the pay cheque\n",
    " \n",
    "#### Overtime Earnings\n",
    "Pay received for working over 8 hours a day or 44 hours a week, whichever is greater"
   ]
  },
  {
   "cell_type": "markdown",
   "metadata": {},
   "source": [
    "📗 Run the cell below to import libraries required for the notebook. "
   ]
  },
  {
   "cell_type": "code",
   "execution_count": null,
   "metadata": {},
   "outputs": [],
   "source": [
    "%store -r\n",
    "import warnings\n",
    "warnings.filterwarnings(\"ignore\")\n",
    "import pandas as pd\n",
    "from functions import *\n",
    "import plotly.express as px\n",
    "import numpy as np\n",
    "print(\"Libraries imported\")"
   ]
  },
  {
   "cell_type": "markdown",
   "metadata": {},
   "source": [
    "### Calculating Net Income\n",
    "\n",
    "📗 Click on the code cell below, then click the `Run` button on the toolbar to calculate your net income. You may also change some values in cells that contain (✏️) to see how the results change."
   ]
  },
  {
   "cell_type": "code",
   "execution_count": null,
   "metadata": {},
   "outputs": [],
   "source": [
    "dataset = pd.read_csv(\"https://raw.githubusercontent.com/callysto/data-files/main/Health/CALM/Moving-out-2/income.csv\") #(csv downloaded from https://www150.statcan.gc.ca/t1/tbl1/en/tv.action?pid=9810045201)\n",
    "dataset"
   ]
  },
  {
   "cell_type": "markdown",
   "metadata": {},
   "source": [
    "📗 The dataset will be \"cleaned\" for ease of visualization and data-analysis later on. Continue to run the next few cells. "
   ]
  },
  {
   "cell_type": "code",
   "execution_count": null,
   "metadata": {},
   "outputs": [],
   "source": [
    "for column in dataset.columns[1:]:\n",
    "    if dataset[column].dtype == 'object':\n",
    "        dataset[column] = dataset[column].str.replace(',', '', regex=True)\n",
    "        dataset[column] = pd.to_numeric(dataset[column], errors='coerce').astype('Int64')\n",
    "        \n",
    "pattern = r'^\\d+\\s+'\n",
    "dataset['Occupation'] = dataset['Occupation'].str.replace(pattern, '', regex=True)\n",
    "dataset"
   ]
  },
  {
   "cell_type": "markdown",
   "metadata": {},
   "source": [
    "✏️ Input a job you'd like to research more about by changing the value of the variable **search_job** below. "
   ]
  },
  {
   "cell_type": "code",
   "execution_count": null,
   "metadata": {},
   "outputs": [],
   "source": [
    "# ✏️ Change search_job to any job you would like to research more about\n",
    "search_job = 'physician'\n",
    "\n",
    "filtered_df = dataset[dataset['Occupation'].str.contains(search_job, case=False)]\n",
    "display(filtered_df.reset_index(drop=True))"
   ]
  },
  {
   "cell_type": "markdown",
   "metadata": {},
   "source": [
    "📗 Visualizing the average salaries of all job-types across Canada helps to give a better perspective of wages in Canada."
   ]
  },
  {
   "cell_type": "code",
   "execution_count": null,
   "metadata": {},
   "outputs": [],
   "source": [
    "columns_to_average = dataset.columns[2:]\n",
    "\n",
    "average_df = dataset[columns_to_average].mean().round(2)\n",
    "average_df = pd.DataFrame({'Column': average_df.index, 'Mean': average_df.values})\n",
    "\n",
    "fig = px.scatter(\n",
    "    average_df, x='Column', y='Mean', color='Mean',\n",
    "    title='Average Salaries of all Income Types',\n",
    "    labels={'Column': 'Income Types', 'Mean': 'Average Salary'}\n",
    ")\n",
    "\n",
    "fig.show()"
   ]
  },
  {
   "cell_type": "markdown",
   "metadata": {},
   "source": [
    "📗 Select a salary range that you'd like to achieve. Based on the range, you will be presented 15 different potential job opportunities that may interest you. \n",
    "\n",
    "The slider (✏️) can be adjusted in the widget output below."
   ]
  },
  {
   "cell_type": "code",
   "execution_count": null,
   "metadata": {},
   "outputs": [],
   "source": [
    "salary_range = create_widget('IntRangeSlider','Range of Salary that I want to make:',[0,100000],0,500000,2500)\n",
    "box = widgets.VBox([salary_range])\n",
    "\n",
    "display(box)"
   ]
  },
  {
   "cell_type": "code",
   "execution_count": null,
   "metadata": {},
   "outputs": [],
   "source": [
    "min_salary, max_salary = salary_range.value\n",
    "\n",
    "filtered_dataset = dataset[\n",
    "    (dataset['Average employment income'] >= min_salary) &\n",
    "    (dataset['Average employment income'] <= max_salary)\n",
    "]\n",
    "\n",
    "# List the top 15 rows of the filtered DataFrame\n",
    "top_15 = filtered_dataset.sample(15)\n",
    "\n",
    "# Display the top 15 rows\n",
    "display(top_15.reset_index(drop=True))"
   ]
  },
  {
   "cell_type": "markdown",
   "metadata": {},
   "source": [
    "✏️ Edit the values of **wagePerHour**, **hoursPerDay**, and **workdaysPerMonth** to visualize your gross income (total earnings before taxes and/or other deductions), taxation amount, and net income (earnings after/or other deductions)"
   ]
  },
  {
   "cell_type": "code",
   "execution_count": null,
   "metadata": {},
   "outputs": [],
   "source": [
    "# ✏️ Edit the values below to accurately reflect your wage, hours worked, and days worked per month\n",
    "wagePerHour = 15  # this is your wage in $/hour\n",
    "hoursPerDay = 8\n",
    "workdaysPerMonth = 21\n",
    "\n",
    "grossIncome = wagePerHour * hoursPerDay * workdaysPerMonth\n",
    "print('Your gross income is $', grossIncome, 'per month.')\n",
    "\n",
    "incomeTax = .15 + .10   # assume federal income tax is 15% and provincial is 10%\n",
    "cpp = .0495             # assume Canada Pension Plan is 4.95%\n",
    "ei = .0188              # assume Employment Insurance is 1.88%\n",
    "unionDues = .0075       # 0.75% sounds reasonable for union dues\n",
    "\n",
    "deductions = grossIncome * (incomeTax + cpp + ei + unionDues)\n",
    "print('$', '{:.2f}'.format(deductions), ' will be taken off your paycheck.')\n",
    "\n",
    "netIncome = grossIncome - deductions\n",
    "print('Your net income is $', '{:.2f}'.format(netIncome), 'per month.')\n",
    "\n",
    "# store that value in memory for later notebooks\n",
    "%store netIncome"
   ]
  },
  {
   "cell_type": "markdown",
   "metadata": {},
   "source": [
    "## Graphing Income\n",
    "📗\n",
    "We can also look at how your net income (take-home pay) changes based on your hourly wage. We will use [2019 taxation rates](https://www.canada.ca/en/revenue-agency/services/tax/individuals/frequently-asked-questions-individuals/canadian-income-tax-rates-individuals-current-previous-years.html) as well as [EI](https://www.canada.ca/en/revenue-agency/services/tax/businesses/topics/payroll/payroll-deductions-contributions/employment-insurance-ei/ei-premium-rates-maximums.html) and [CPP](https://www.canada.ca/en/revenue-agency/services/tax/businesses/topics/payroll/payroll-deductions-contributions/canada-pension-plan-cpp/cpp-contribution-rates-maximums-exemptions.html) rates. `Run` the cell below (without editing it) to generate a graph.\n",
    "</div>"
   ]
  },
  {
   "cell_type": "code",
   "execution_count": null,
   "metadata": {},
   "outputs": [],
   "source": [
    "wages = []\n",
    "grossIncomes = []\n",
    "netIncomes = []\n",
    "\n",
    "for wage in range(15, 150):\n",
    "    wages.append(wage)\n",
    "    grossAnnualIncome = wage * 8 * 240\n",
    "    grossIncomes.append(grossAnnualIncome)\n",
    "    incomeTax = calculateFederalTax(grossAnnualIncome) + calculateProvincialTax(grossAnnualIncome)\n",
    "    eiPremium = calculateEI(grossAnnualIncome)\n",
    "    cppPremium = calculateCPP(grossAnnualIncome)\n",
    "    netIncome = grossAnnualIncome - (incomeTax + eiPremium + cppPremium)\n",
    "    netIncomes.append(netIncome)\n",
    "\n",
    "import plotly.graph_objects as go\n",
    "fig = go.Figure()\n",
    "fig.add_trace(go.Scatter(x=wages, y=grossIncomes, name='Gross Income'))\n",
    "fig.add_trace(go.Scatter(x=wages, y=netIncomes, name='Net Income'))\n",
    "fig.update_layout(\n",
    "    title=go.layout.Title(text='Net Income vs Hourly Wage'),\n",
    "    xaxis=go.layout.XAxis(title=go.layout.xaxis.Title(text='Hourly Wage')),\n",
    "    yaxis=go.layout.YAxis(title=go.layout.yaxis.Title(text='Income')))\n",
    "fig.show()"
   ]
  },
  {
   "cell_type": "markdown",
   "metadata": {},
   "source": [
    "📗The graph shows that the difference between gross income and net income (after deductions) increases as wage increases. For more information about this, you may want to read about [progressive taxation](https://en.wikipedia.org/wiki/Progressive_tax).\n",
    "\n",
    "You have now completed this section. Proceed to [section 3](./CALM-moving-out-3.ipynb)"
   ]
  },
  {
   "cell_type": "markdown",
   "metadata": {},
   "source": [
    "[![Callysto.ca License](https://github.com/callysto/curriculum-notebooks/blob/master/callysto-notebook-banner-bottom.jpg?raw=true)](https://github.com/callysto/curriculum-notebooks/blob/master/LICENSE.md)"
   ]
  }
 ],
 "metadata": {
  "kernelspec": {
   "display_name": "Python 3",
   "language": "python",
   "name": "python3"
  },
  "language_info": {
   "codemirror_mode": {
    "name": "ipython",
    "version": 3
   },
   "file_extension": ".py",
   "mimetype": "text/x-python",
   "name": "python",
   "nbconvert_exporter": "python",
   "pygments_lexer": "ipython3",
   "version": "3.10.8"
  }
 },
 "nbformat": 4,
 "nbformat_minor": 2
}
