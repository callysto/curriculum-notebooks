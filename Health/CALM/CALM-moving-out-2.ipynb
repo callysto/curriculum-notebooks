{
 "cells": [
  {
   "cell_type": "markdown",
   "metadata": {},
   "source": [
    "![Callysto.ca Banner](https://github.com/callysto/curriculum-notebooks/blob/master/callysto-notebook-banner-top.jpg?raw=true)\n",
    "\n",
    "<a href=\"https://hub.callysto.ca/jupyter/hub/user-redirect/git-pull?repo=https%3A%2F%2Fgithub.com%2Fcallysto%2Fcurriculum-notebooks&branch=master&subPath=Health/CALM/CALM-moving-out-2.ipynb&depth=1\" target=\"_parent\"><img src=\"https://raw.githubusercontent.com/callysto/curriculum-notebooks/master/open-in-callysto-button.svg?sanitize=true\" width=\"123\" height=\"24\" alt=\"Open in Callysto\"/></a>"
   ]
  },
  {
   "cell_type": "markdown",
   "metadata": {},
   "source": [
    "# CALM - Moving Out Project\n",
    "## Part 2 - Income\n",
    "\n",
    "📗Now let's take a look at your potential income. First, some definitions:\n",
    "\n",
    "### Paycheque Definitions\n",
    "#### Gross Income (pay/earnings)\n",
    "The amount of income/earnings, for any pay period, before deductions\n",
    " \n",
    "#### Net income (pay/earnings)\n",
    "The amount of income/earnings, for any pay period, after deductions (Take home pay)\n",
    "\n",
    "#### CPP - Canada Pension Plan\n",
    "2.3% of gross income deducted for insurance in case of unemployment\n",
    " \n",
    "#### Income Tax\n",
    "A deduction paid to the Federal and Provincial government for taxes\n",
    " \n",
    "#### LTD\n",
    "A deduction for Long Term Disability insurance\n",
    " \n",
    "#### Union Dues\n",
    "Fees paid for membership in a union\n",
    " \n",
    "#### Bonds\n",
    "An investment in which a business or government pays a set interest rate\n",
    " \n",
    "#### Advance Earnings\n",
    "Deducted money that was received in advance of the pay cheque\n",
    " \n",
    "#### Overtime Earnings\n",
    "Pay received for working over 8 hours a day or 44 hours a week, whichever is greater"
   ]
  },
  {
   "cell_type": "markdown",
   "metadata": {},
   "source": [
    "### Calculating Net Income\n",
    "\n",
    "📗Click on the code cell below, then click the `Run` button on the toolbar to calculate your net income. You may also change some values in the code to see how the results change."
   ]
  },
  {
   "cell_type": "code",
   "execution_count": null,
   "metadata": {},
   "outputs": [],
   "source": [
    "%store -r\n",
    "import warnings\n",
    "warnings.filterwarnings(\"ignore\")"
   ]
  },
  {
   "cell_type": "code",
   "execution_count": null,
   "metadata": {},
   "outputs": [],
   "source": [
    "import pandas as pd\n",
    "dataset = pd.read_csv(\"/Users/ayushchaudhari/Downloads/98100452-eng/income.csv\")\n",
    "dataset"
   ]
  },
  {
   "cell_type": "code",
   "execution_count": null,
   "metadata": {},
   "outputs": [],
   "source": [
    "shortened_dataset = dataset.loc[(dataset['GEO'] == 'Canada') & (dataset['Gender (3)'] == 'Total - Gender') & (dataset['Statistics (3)'] == 'Count') & (dataset['Age (15A)'] == 'Total - Age') & (dataset['Work activity during the reference year (9)'] == 'Worked full year, full time')]\n",
    "\n",
    "shortened_dataset.drop(columns=['Symbol','Symbol.1','Symbol.2','Symbol.3','Symbol.4','Symbol.5','Symbol.6','Employment income statistics (7):With employment income[2]','Employment income statistics (7):Median employment income ($)[3]'],inplace=True)"
   ]
  },
  {
   "cell_type": "code",
   "execution_count": null,
   "metadata": {},
   "outputs": [],
   "source": [
    "shortened_dataset = shortened_dataset[shortened_dataset['Employment income statistics (7):Average employment income ($)[4]'] != 0]\n",
    "shortened_dataset.sort_values('Employment income statistics (7):Average wages, salaries and commissions ($)[7]')\n",
    "\n",
    "shortened_dataset['Occupation - Minor group - National Occupational Classification (NOC) 2021 (309A)']"
   ]
  },
  {
   "cell_type": "code",
   "execution_count": null,
   "metadata": {},
   "outputs": [],
   "source": [
    "import numpy as np\n",
    "import pandas as pd\n",
    "import plotly.express as px\n",
    "\n",
    "usa = pd.read_excel('/Users/ayushchaudhari/Downloads/oesm22nat/national_M2022_dl.xlsx')\n",
    "\n",
    "usa_shorten = usa[['OCC_TITLE','H_MEAN','A_MEAN']]\n",
    "\n",
    "usa_shorten.drop_duplicates(inplace=True)\n",
    "usa_shorten['H_MEAN'] = usa_shorten['H_MEAN'].replace('*',np.nan)\n",
    "usa_shorten['A_MEAN'] = usa_shorten['A_MEAN'].replace('*',np.nan)\n",
    "usa_shorten.dropna(inplace=True)\n",
    "\n",
    "usa_shorten['H_MEAN'] = usa_shorten['H_MEAN'].astype(float)\n",
    "usa_shorten['A_MEAN'] = usa_shorten['A_MEAN'].astype(float)\n",
    "usa_shorten['M_MEAN'] = usa_shorten['A_MEAN']/12\n",
    "\n",
    "usa_shorten = usa_shorten.tail(-2)\n",
    "usa_shorten"
   ]
  },
  {
   "cell_type": "code",
   "execution_count": null,
   "metadata": {},
   "outputs": [],
   "source": [
    "converted_salary_min = desired_salary[0]\n",
    "converted_salary_max = desired_salary[1]\n",
    "\n",
    "my_possible_careers = usa_shorten.loc[(usa_shorten['M_MEAN'] >= converted_salary_min) & (usa_shorten['M_MEAN'] <= converted_salary_max)]\n",
    "\n",
    "my_possible_careers.sort_values('A_MEAN',ascending=False,inplace=True)\n",
    "\n",
    "my_possible_careers.head(10)"
   ]
  },
  {
   "cell_type": "code",
   "execution_count": null,
   "metadata": {},
   "outputs": [],
   "source": [
    "fig = px.bar(my_possible_careers.head(10),y='OCC_TITLE',x='A_MEAN',orientation='h',width=1100,color='OCC_TITLE',color_discrete_sequence=px.colors.qualitative.Set2)\n",
    "\n",
    "fig.update_layout(showlegend=False)\n",
    "\n",
    "fig"
   ]
  },
  {
   "cell_type": "code",
   "execution_count": null,
   "metadata": {},
   "outputs": [],
   "source": [
    "#✏️\n",
    "wagePerHour = 15  # this is your wage in $/hour\n",
    "hoursPerDay = 8\n",
    "workdaysPerMonth = 21\n",
    "\n",
    "grossIncome = wagePerHour * hoursPerDay * workdaysPerMonth\n",
    "print('Your gross income is $', grossIncome, 'per month.')\n",
    "\n",
    "incomeTax = .15 + .10   # assume federal income tax is 15% and provincial is 10%\n",
    "cpp = .0495             # assume Canada Pension Plan is 4.95%\n",
    "ei = .0188              # assume Employment Insurance is 1.88%\n",
    "unionDues = .0075       # 0.75% sounds reasonable for union dues\n",
    "\n",
    "deductions = grossIncome * (incomeTax + cpp + ei + unionDues)\n",
    "print('$', '{:.2f}'.format(deductions), ' will be taken off your paycheck.')\n",
    "\n",
    "netIncome = grossIncome - deductions\n",
    "print('Your net income is $', '{:.2f}'.format(netIncome), 'per month.')\n",
    "# store that value in memory for later notebooks\n",
    "%store netIncome"
   ]
  },
  {
   "cell_type": "markdown",
   "metadata": {},
   "source": [
    "## Graphing Income\n",
    "📗\n",
    "We can also look at how your net income (take-home pay) changes based on your hourly wage. We will use [2019 taxation rates](https://www.canada.ca/en/revenue-agency/services/tax/individuals/frequently-asked-questions-individuals/canadian-income-tax-rates-individuals-current-previous-years.html) as well as [EI](https://www.canada.ca/en/revenue-agency/services/tax/businesses/topics/payroll/payroll-deductions-contributions/employment-insurance-ei/ei-premium-rates-maximums.html) and [CPP](https://www.canada.ca/en/revenue-agency/services/tax/businesses/topics/payroll/payroll-deductions-contributions/canada-pension-plan-cpp/cpp-contribution-rates-maximums-exemptions.html) rates. `Run` the cell below (without editing it) to generate a graph.\n",
    "</div>"
   ]
  },
  {
   "cell_type": "code",
   "execution_count": null,
   "metadata": {},
   "outputs": [],
   "source": [
    "#📗\n",
    "def calculateFederalTax(income):\n",
    "    taxBrackets = [47630, 95259, 147667, 210371]\n",
    "    taxRates = [.15, .205, .26, .29, .33]\n",
    "    taxes = []\n",
    "    for i in range(0, len(taxBrackets)):\n",
    "        taxes.append(taxBrackets[i] * taxRates[i])\n",
    "    if income < taxBrackets[0]:\n",
    "        tax = income * taxRates[0]\n",
    "    elif income < taxBrackets[1]:\n",
    "        tax = taxes[0] + (income - taxBrackets[0]) * taxRates[1]\n",
    "    elif income < taxBrackets[2]:\n",
    "        tax = taxes[1] + (income - taxBrackets[1]) * taxRates[2]\n",
    "    elif income < taxBrackets[3]:\n",
    "        tax = taxes[2] + (income - taxBrackets[2]) * taxRates[3]\n",
    "    else:\n",
    "        tax = taxes[3] + (income - taxBrackets[3]) * taxRates[4]\n",
    "    return tax\n",
    "\n",
    "def calculateProvincialTax(income):\n",
    "    taxBrackets = [131220, 157464, 209952, 314928] # for Alberta\n",
    "    taxRates = [.1, .12, .13, .14, .15]\n",
    "    taxes = []\n",
    "    for i in range(0, len(taxBrackets)):\n",
    "        taxes.append(taxBrackets[i] * taxRates[i])\n",
    "    if income < taxBrackets[0]:\n",
    "        tax = income * taxRates[0]\n",
    "    elif income < taxBrackets[1]:\n",
    "        tax = taxes[0] + (income - taxBrackets[0]) * taxRates[1]\n",
    "    elif income < taxBrackets[2]:\n",
    "        tax = taxes[1] + (income - taxBrackets[1]) * taxRates[2]\n",
    "    elif income < taxBrackets[3]:\n",
    "        tax = taxes[2] + (income - taxBrackets[2]) * taxRates[3]\n",
    "    else:\n",
    "        tax = taxes[3] + (income - taxBrackets[3]) * taxRates[4]\n",
    "    return tax\n",
    "\n",
    "def calculateEI(income):\n",
    "    eiMaxInsurableEarnings = 53100\n",
    "    eiRate = 0.0162\n",
    "    if income >= eiMaxInsurableEarnings:\n",
    "        eiPremium = eiMaxInsurableEarnings * eiRate\n",
    "    else:\n",
    "        eiPremium = income * eiRate\n",
    "    return eiPremium\n",
    "\n",
    "def calculateCPP(income):\n",
    "    cppMaxContributoryEarnings = 53900\n",
    "    cppRate = 0.051\n",
    "    if income >= cppMaxContributoryEarnings:\n",
    "        cppPremium = cppMaxContributoryEarnings * cppRate\n",
    "    else:\n",
    "        cppPremium = income * cppRate\n",
    "    return cppPremium\n",
    "\n",
    "wages = []\n",
    "grossIncomes = []\n",
    "netIncomes = []\n",
    "for wage in range(15, 150):\n",
    "    wages.append(wage)\n",
    "    grossAnnualIncome = wage * 8 * 240\n",
    "    grossIncomes.append(grossAnnualIncome)\n",
    "    incomeTax = calculateFederalTax(grossAnnualIncome) + calculateProvincialTax(grossAnnualIncome)\n",
    "    eiPremium = calculateEI(grossAnnualIncome)\n",
    "    cppPremium = calculateCPP(grossAnnualIncome)\n",
    "    netIncome = grossAnnualIncome - (incomeTax + eiPremium + cppPremium)\n",
    "    netIncomes.append(netIncome)\n",
    "\n",
    "import plotly.graph_objects as go\n",
    "fig = go.Figure()\n",
    "fig.add_trace(go.Scatter(x=wages, y=grossIncomes, name='Gross Income'))\n",
    "fig.add_trace(go.Scatter(x=wages, y=netIncomes, name='Net Income'))\n",
    "fig.update_layout(\n",
    "    title=go.layout.Title(text='Net Income vs Hourly Wage'),\n",
    "    xaxis=go.layout.XAxis(title=go.layout.xaxis.Title(text='Hourly Wage')),\n",
    "    yaxis=go.layout.YAxis(title=go.layout.yaxis.Title(text='Income')))\n",
    "fig.show()"
   ]
  },
  {
   "cell_type": "markdown",
   "metadata": {},
   "source": [
    "📗The graph shows that the difference between gross income and net income (after deductions) increases as wage increases. For more information about this, you may want to read about [progressive taxation](https://en.wikipedia.org/wiki/Progressive_tax).\n",
    "\n",
    "You have now completed this section. Proceed to [section 3](./CALM-moving-out-3.ipynb)"
   ]
  },
  {
   "cell_type": "markdown",
   "metadata": {},
   "source": [
    "[![Callysto.ca License](https://github.com/callysto/curriculum-notebooks/blob/master/callysto-notebook-banner-bottom.jpg?raw=true)](https://github.com/callysto/curriculum-notebooks/blob/master/LICENSE.md)"
   ]
  }
 ],
 "metadata": {
  "kernelspec": {
   "display_name": "Python 3",
   "language": "python",
   "name": "python3"
  },
  "language_info": {
   "codemirror_mode": {
    "name": "ipython",
    "version": 3
   },
   "file_extension": ".py",
   "mimetype": "text/x-python",
   "name": "python",
   "nbconvert_exporter": "python",
   "pygments_lexer": "ipython3",
   "version": "3.11.3"
  }
 },
 "nbformat": 4,
 "nbformat_minor": 2
}
