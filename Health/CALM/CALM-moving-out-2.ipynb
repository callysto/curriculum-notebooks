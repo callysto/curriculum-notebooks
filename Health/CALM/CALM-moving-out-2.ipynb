{
 "cells": [
  {
   "cell_type": "markdown",
   "metadata": {},
   "source": [
    "![Callysto.ca Banner](https://github.com/callysto/curriculum-notebooks/blob/master/callysto-notebook-banner-top.jpg?raw=true)\n",
    "\n",
    "<a href=\"https://hub.callysto.ca/jupyter/hub/user-redirect/git-pull?repo=https%3A%2F%2Fgithub.com%2Fcallysto%2Fcurriculum-notebooks&branch=master&subPath=Health/CALM/CALM-moving-out-2.ipynb&depth=1\" target=\"_parent\"><img src=\"https://raw.githubusercontent.com/callysto/curriculum-notebooks/master/open-in-callysto-button.svg?sanitize=true\" width=\"123\" height=\"24\" alt=\"Open in Callysto\"/></a>"
   ]
  },
  {
   "cell_type": "markdown",
   "metadata": {},
   "source": [
    "# CALM - Moving Out Project\n",
    "## Part 2 - Income\n",
    "\n",
    "📗Now let's take a look at your potential income. First, some definitions:\n",
    "\n",
    "### Paycheque Definitions\n",
    "#### Gross Income (pay/earnings)\n",
    "The amount of income/earnings, for any pay period, before deductions\n",
    " \n",
    "#### Net income (pay/earnings)\n",
    "The amount of income/earnings, for any pay period, after deductions (Take home pay)\n",
    "\n",
    "#### CPP - Canada Pension Plan\n",
    "2.3% of gross income deducted for insurance in case of unemployment\n",
    " \n",
    "#### Income Tax\n",
    "A deduction paid to the Federal and Provincial government for taxes\n",
    " \n",
    "#### LTD\n",
    "A deduction for Long Term Disability insurance\n",
    " \n",
    "#### Union Dues\n",
    "Fees paid for membership in a union\n",
    " \n",
    "#### Bonds\n",
    "An investment in which a business or government pays a set interest rate\n",
    " \n",
    "#### Advance Earnings\n",
    "Deducted money that was received in advance of the pay cheque\n",
    " \n",
    "#### Overtime Earnings\n",
    "Pay received for working over 8 hours a day or 44 hours a week, whichever is greater"
   ]
  },
  {
   "cell_type": "markdown",
   "metadata": {},
   "source": [
    "📗 Run the cell below to import libraries required for the notebook. "
   ]
  },
  {
   "cell_type": "code",
   "execution_count": null,
   "metadata": {},
   "outputs": [],
   "source": [
    "%store -r\n",
    "import warnings\n",
    "warnings.filterwarnings(\"ignore\")\n",
    "import pandas as pd\n",
    "from functions import *\n",
    "import plotly.express as px\n",
    "import numpy as np\n",
    "print(\"Libraries imported\")"
   ]
  },
  {
   "cell_type": "markdown",
   "metadata": {},
   "source": [
    "### Calculating Net Income\n",
    "\n",
    "📗 Click on the code cell below, then click the `Run` button on the toolbar to calculate your net income. You may also change some values in cells that contain (✏️) to see how the results change."
   ]
  },
  {
   "cell_type": "code",
   "execution_count": 2,
   "metadata": {},
   "outputs": [
    {
     "data": {
      "text/html": [
       "<div>\n",
       "<style scoped>\n",
       "    .dataframe tbody tr th:only-of-type {\n",
       "        vertical-align: middle;\n",
       "    }\n",
       "\n",
       "    .dataframe tbody tr th {\n",
       "        vertical-align: top;\n",
       "    }\n",
       "\n",
       "    .dataframe thead th {\n",
       "        text-align: right;\n",
       "    }\n",
       "</style>\n",
       "<table border=\"1\" class=\"dataframe\">\n",
       "  <thead>\n",
       "    <tr style=\"text-align: right;\">\n",
       "      <th></th>\n",
       "      <th>Occupation</th>\n",
       "      <th>Total - Employment income statistics</th>\n",
       "      <th>With employment income</th>\n",
       "      <th>Median employment income</th>\n",
       "      <th>Average employment income</th>\n",
       "      <th>With wages, salaries and commissions</th>\n",
       "      <th>Median wages, salaries and commisions</th>\n",
       "      <th>Average wages, salaries and commisions</th>\n",
       "    </tr>\n",
       "  </thead>\n",
       "  <tbody>\n",
       "    <tr>\n",
       "      <th>0</th>\n",
       "      <td>0 Legislative and senior management occupations</td>\n",
       "      <td>267,695</td>\n",
       "      <td>243,685</td>\n",
       "      <td>102,000</td>\n",
       "      <td>169,200</td>\n",
       "      <td>231,230</td>\n",
       "      <td>106,000</td>\n",
       "      <td>175,200</td>\n",
       "    </tr>\n",
       "    <tr>\n",
       "      <th>1</th>\n",
       "      <td>00 Legislative and senior managers</td>\n",
       "      <td>267,695</td>\n",
       "      <td>243,685</td>\n",
       "      <td>102,000</td>\n",
       "      <td>169,200</td>\n",
       "      <td>231,230</td>\n",
       "      <td>106,000</td>\n",
       "      <td>175,200</td>\n",
       "    </tr>\n",
       "    <tr>\n",
       "      <th>2</th>\n",
       "      <td>000 Legislative and senior managers</td>\n",
       "      <td>267,695</td>\n",
       "      <td>243,685</td>\n",
       "      <td>102,000</td>\n",
       "      <td>169,200</td>\n",
       "      <td>231,230</td>\n",
       "      <td>106,000</td>\n",
       "      <td>175,200</td>\n",
       "    </tr>\n",
       "    <tr>\n",
       "      <th>3</th>\n",
       "      <td>0001 Legislative and senior managers</td>\n",
       "      <td>267,695</td>\n",
       "      <td>243,685</td>\n",
       "      <td>102,000</td>\n",
       "      <td>169,200</td>\n",
       "      <td>231,230</td>\n",
       "      <td>106,000</td>\n",
       "      <td>175,200</td>\n",
       "    </tr>\n",
       "    <tr>\n",
       "      <th>4</th>\n",
       "      <td>00010 Legislators</td>\n",
       "      <td>9,385</td>\n",
       "      <td>8,765</td>\n",
       "      <td>55,600</td>\n",
       "      <td>70,700</td>\n",
       "      <td>8,630</td>\n",
       "      <td>55,600</td>\n",
       "      <td>71,100</td>\n",
       "    </tr>\n",
       "    <tr>\n",
       "      <th>...</th>\n",
       "      <td>...</td>\n",
       "      <td>...</td>\n",
       "      <td>...</td>\n",
       "      <td>...</td>\n",
       "      <td>...</td>\n",
       "      <td>...</td>\n",
       "      <td>...</td>\n",
       "      <td>...</td>\n",
       "    </tr>\n",
       "    <tr>\n",
       "      <th>813</th>\n",
       "      <td>95104 Labourers in rubber and plastic products...</td>\n",
       "      <td>10,320</td>\n",
       "      <td>9,635</td>\n",
       "      <td>32,400</td>\n",
       "      <td>35,080</td>\n",
       "      <td>9,535</td>\n",
       "      <td>32,800</td>\n",
       "      <td>35,120</td>\n",
       "    </tr>\n",
       "    <tr>\n",
       "      <th>814</th>\n",
       "      <td>95105 Labourers in textile processing and cutting</td>\n",
       "      <td>6,735</td>\n",
       "      <td>6,205</td>\n",
       "      <td>23,000</td>\n",
       "      <td>25,800</td>\n",
       "      <td>5,910</td>\n",
       "      <td>23,800</td>\n",
       "      <td>26,440</td>\n",
       "    </tr>\n",
       "    <tr>\n",
       "      <th>815</th>\n",
       "      <td>95106 Labourers in food and beverage processing</td>\n",
       "      <td>96,830</td>\n",
       "      <td>89,790</td>\n",
       "      <td>29,400</td>\n",
       "      <td>30,720</td>\n",
       "      <td>88,235</td>\n",
       "      <td>29,600</td>\n",
       "      <td>30,960</td>\n",
       "    </tr>\n",
       "    <tr>\n",
       "      <th>816</th>\n",
       "      <td>95107 Labourers in fish and seafood processing</td>\n",
       "      <td>10,105</td>\n",
       "      <td>9,465</td>\n",
       "      <td>14,700</td>\n",
       "      <td>18,400</td>\n",
       "      <td>9,280</td>\n",
       "      <td>14,600</td>\n",
       "      <td>18,020</td>\n",
       "    </tr>\n",
       "    <tr>\n",
       "      <th>817</th>\n",
       "      <td>95109 Other labourers in processing, manufactu...</td>\n",
       "      <td>102,700</td>\n",
       "      <td>93,590</td>\n",
       "      <td>26,200</td>\n",
       "      <td>29,000</td>\n",
       "      <td>91,260</td>\n",
       "      <td>26,600</td>\n",
       "      <td>29,360</td>\n",
       "    </tr>\n",
       "  </tbody>\n",
       "</table>\n",
       "<p>818 rows × 8 columns</p>\n",
       "</div>"
      ],
      "text/plain": [
       "                                            Occupation  \\\n",
       "0      0 Legislative and senior management occupations   \n",
       "1                   00 Legislative and senior managers   \n",
       "2                  000 Legislative and senior managers   \n",
       "3                 0001 Legislative and senior managers   \n",
       "4                                    00010 Legislators   \n",
       "..                                                 ...   \n",
       "813  95104 Labourers in rubber and plastic products...   \n",
       "814  95105 Labourers in textile processing and cutting   \n",
       "815    95106 Labourers in food and beverage processing   \n",
       "816     95107 Labourers in fish and seafood processing   \n",
       "817  95109 Other labourers in processing, manufactu...   \n",
       "\n",
       "    Total - Employment income statistics With employment income  \\\n",
       "0                                267,695                243,685   \n",
       "1                                267,695                243,685   \n",
       "2                                267,695                243,685   \n",
       "3                                267,695                243,685   \n",
       "4                                  9,385                  8,765   \n",
       "..                                   ...                    ...   \n",
       "813                               10,320                  9,635   \n",
       "814                                6,735                  6,205   \n",
       "815                               96,830                 89,790   \n",
       "816                               10,105                  9,465   \n",
       "817                              102,700                 93,590   \n",
       "\n",
       "    Median employment income Average employment income  \\\n",
       "0                    102,000                   169,200   \n",
       "1                    102,000                   169,200   \n",
       "2                    102,000                   169,200   \n",
       "3                    102,000                   169,200   \n",
       "4                     55,600                    70,700   \n",
       "..                       ...                       ...   \n",
       "813                   32,400                    35,080   \n",
       "814                   23,000                    25,800   \n",
       "815                   29,400                    30,720   \n",
       "816                   14,700                    18,400   \n",
       "817                   26,200                    29,000   \n",
       "\n",
       "    With wages, salaries and commissions  \\\n",
       "0                                231,230   \n",
       "1                                231,230   \n",
       "2                                231,230   \n",
       "3                                231,230   \n",
       "4                                  8,630   \n",
       "..                                   ...   \n",
       "813                                9,535   \n",
       "814                                5,910   \n",
       "815                               88,235   \n",
       "816                                9,280   \n",
       "817                               91,260   \n",
       "\n",
       "    Median wages, salaries and commisions  \\\n",
       "0                                 106,000   \n",
       "1                                 106,000   \n",
       "2                                 106,000   \n",
       "3                                 106,000   \n",
       "4                                  55,600   \n",
       "..                                    ...   \n",
       "813                                32,800   \n",
       "814                                23,800   \n",
       "815                                29,600   \n",
       "816                                14,600   \n",
       "817                                26,600   \n",
       "\n",
       "    Average wages, salaries and commisions  \n",
       "0                                  175,200  \n",
       "1                                  175,200  \n",
       "2                                  175,200  \n",
       "3                                  175,200  \n",
       "4                                   71,100  \n",
       "..                                     ...  \n",
       "813                                 35,120  \n",
       "814                                 26,440  \n",
       "815                                 30,960  \n",
       "816                                 18,020  \n",
       "817                                 29,360  \n",
       "\n",
       "[818 rows x 8 columns]"
      ]
     },
     "execution_count": 2,
     "metadata": {},
     "output_type": "execute_result"
    }
   ],
   "source": [
    "dataset = pd.read_csv(\"https://raw.githubusercontent.com/callysto/data-files/main/Health/CALM/Moving-out-2/income.csv\") #(csv downloaded from https://www150.statcan.gc.ca/t1/tbl1/en/tv.action?pid=9810045201)\n",
    "dataset"
   ]
  },
  {
   "cell_type": "markdown",
   "metadata": {},
   "source": [
    "📗 The dataset will be \"cleaned\" for ease of visualization and data-analysis later on. Continue to run the next few cells. "
   ]
  },
  {
   "cell_type": "code",
   "execution_count": 3,
   "metadata": {},
   "outputs": [
    {
     "data": {
      "text/html": [
       "<div>\n",
       "<style scoped>\n",
       "    .dataframe tbody tr th:only-of-type {\n",
       "        vertical-align: middle;\n",
       "    }\n",
       "\n",
       "    .dataframe tbody tr th {\n",
       "        vertical-align: top;\n",
       "    }\n",
       "\n",
       "    .dataframe thead th {\n",
       "        text-align: right;\n",
       "    }\n",
       "</style>\n",
       "<table border=\"1\" class=\"dataframe\">\n",
       "  <thead>\n",
       "    <tr style=\"text-align: right;\">\n",
       "      <th></th>\n",
       "      <th>Occupation</th>\n",
       "      <th>Total - Employment income statistics</th>\n",
       "      <th>With employment income</th>\n",
       "      <th>Median employment income</th>\n",
       "      <th>Average employment income</th>\n",
       "      <th>With wages, salaries and commissions</th>\n",
       "      <th>Median wages, salaries and commisions</th>\n",
       "      <th>Average wages, salaries and commisions</th>\n",
       "    </tr>\n",
       "  </thead>\n",
       "  <tbody>\n",
       "    <tr>\n",
       "      <th>0</th>\n",
       "      <td>Legislative and senior management occupations</td>\n",
       "      <td>267695</td>\n",
       "      <td>243685</td>\n",
       "      <td>102000</td>\n",
       "      <td>169200</td>\n",
       "      <td>231230</td>\n",
       "      <td>106000</td>\n",
       "      <td>175200</td>\n",
       "    </tr>\n",
       "    <tr>\n",
       "      <th>1</th>\n",
       "      <td>Legislative and senior managers</td>\n",
       "      <td>267695</td>\n",
       "      <td>243685</td>\n",
       "      <td>102000</td>\n",
       "      <td>169200</td>\n",
       "      <td>231230</td>\n",
       "      <td>106000</td>\n",
       "      <td>175200</td>\n",
       "    </tr>\n",
       "    <tr>\n",
       "      <th>2</th>\n",
       "      <td>Legislative and senior managers</td>\n",
       "      <td>267695</td>\n",
       "      <td>243685</td>\n",
       "      <td>102000</td>\n",
       "      <td>169200</td>\n",
       "      <td>231230</td>\n",
       "      <td>106000</td>\n",
       "      <td>175200</td>\n",
       "    </tr>\n",
       "    <tr>\n",
       "      <th>3</th>\n",
       "      <td>Legislative and senior managers</td>\n",
       "      <td>267695</td>\n",
       "      <td>243685</td>\n",
       "      <td>102000</td>\n",
       "      <td>169200</td>\n",
       "      <td>231230</td>\n",
       "      <td>106000</td>\n",
       "      <td>175200</td>\n",
       "    </tr>\n",
       "    <tr>\n",
       "      <th>4</th>\n",
       "      <td>Legislators</td>\n",
       "      <td>9385</td>\n",
       "      <td>8765</td>\n",
       "      <td>55600</td>\n",
       "      <td>70700</td>\n",
       "      <td>8630</td>\n",
       "      <td>55600</td>\n",
       "      <td>71100</td>\n",
       "    </tr>\n",
       "    <tr>\n",
       "      <th>...</th>\n",
       "      <td>...</td>\n",
       "      <td>...</td>\n",
       "      <td>...</td>\n",
       "      <td>...</td>\n",
       "      <td>...</td>\n",
       "      <td>...</td>\n",
       "      <td>...</td>\n",
       "      <td>...</td>\n",
       "    </tr>\n",
       "    <tr>\n",
       "      <th>813</th>\n",
       "      <td>Labourers in rubber and plastic products manuf...</td>\n",
       "      <td>10320</td>\n",
       "      <td>9635</td>\n",
       "      <td>32400</td>\n",
       "      <td>35080</td>\n",
       "      <td>9535</td>\n",
       "      <td>32800</td>\n",
       "      <td>35120</td>\n",
       "    </tr>\n",
       "    <tr>\n",
       "      <th>814</th>\n",
       "      <td>Labourers in textile processing and cutting</td>\n",
       "      <td>6735</td>\n",
       "      <td>6205</td>\n",
       "      <td>23000</td>\n",
       "      <td>25800</td>\n",
       "      <td>5910</td>\n",
       "      <td>23800</td>\n",
       "      <td>26440</td>\n",
       "    </tr>\n",
       "    <tr>\n",
       "      <th>815</th>\n",
       "      <td>Labourers in food and beverage processing</td>\n",
       "      <td>96830</td>\n",
       "      <td>89790</td>\n",
       "      <td>29400</td>\n",
       "      <td>30720</td>\n",
       "      <td>88235</td>\n",
       "      <td>29600</td>\n",
       "      <td>30960</td>\n",
       "    </tr>\n",
       "    <tr>\n",
       "      <th>816</th>\n",
       "      <td>Labourers in fish and seafood processing</td>\n",
       "      <td>10105</td>\n",
       "      <td>9465</td>\n",
       "      <td>14700</td>\n",
       "      <td>18400</td>\n",
       "      <td>9280</td>\n",
       "      <td>14600</td>\n",
       "      <td>18020</td>\n",
       "    </tr>\n",
       "    <tr>\n",
       "      <th>817</th>\n",
       "      <td>Other labourers in processing, manufacturing a...</td>\n",
       "      <td>102700</td>\n",
       "      <td>93590</td>\n",
       "      <td>26200</td>\n",
       "      <td>29000</td>\n",
       "      <td>91260</td>\n",
       "      <td>26600</td>\n",
       "      <td>29360</td>\n",
       "    </tr>\n",
       "  </tbody>\n",
       "</table>\n",
       "<p>818 rows × 8 columns</p>\n",
       "</div>"
      ],
      "text/plain": [
       "                                            Occupation  \\\n",
       "0        Legislative and senior management occupations   \n",
       "1                      Legislative and senior managers   \n",
       "2                      Legislative and senior managers   \n",
       "3                      Legislative and senior managers   \n",
       "4                                          Legislators   \n",
       "..                                                 ...   \n",
       "813  Labourers in rubber and plastic products manuf...   \n",
       "814        Labourers in textile processing and cutting   \n",
       "815          Labourers in food and beverage processing   \n",
       "816           Labourers in fish and seafood processing   \n",
       "817  Other labourers in processing, manufacturing a...   \n",
       "\n",
       "     Total - Employment income statistics  With employment income  \\\n",
       "0                                  267695                  243685   \n",
       "1                                  267695                  243685   \n",
       "2                                  267695                  243685   \n",
       "3                                  267695                  243685   \n",
       "4                                    9385                    8765   \n",
       "..                                    ...                     ...   \n",
       "813                                 10320                    9635   \n",
       "814                                  6735                    6205   \n",
       "815                                 96830                   89790   \n",
       "816                                 10105                    9465   \n",
       "817                                102700                   93590   \n",
       "\n",
       "     Median employment income  Average employment income  \\\n",
       "0                      102000                     169200   \n",
       "1                      102000                     169200   \n",
       "2                      102000                     169200   \n",
       "3                      102000                     169200   \n",
       "4                       55600                      70700   \n",
       "..                        ...                        ...   \n",
       "813                     32400                      35080   \n",
       "814                     23000                      25800   \n",
       "815                     29400                      30720   \n",
       "816                     14700                      18400   \n",
       "817                     26200                      29000   \n",
       "\n",
       "     With wages, salaries and commissions  \\\n",
       "0                                  231230   \n",
       "1                                  231230   \n",
       "2                                  231230   \n",
       "3                                  231230   \n",
       "4                                    8630   \n",
       "..                                    ...   \n",
       "813                                  9535   \n",
       "814                                  5910   \n",
       "815                                 88235   \n",
       "816                                  9280   \n",
       "817                                 91260   \n",
       "\n",
       "     Median wages, salaries and commisions  \\\n",
       "0                                   106000   \n",
       "1                                   106000   \n",
       "2                                   106000   \n",
       "3                                   106000   \n",
       "4                                    55600   \n",
       "..                                     ...   \n",
       "813                                  32800   \n",
       "814                                  23800   \n",
       "815                                  29600   \n",
       "816                                  14600   \n",
       "817                                  26600   \n",
       "\n",
       "     Average wages, salaries and commisions  \n",
       "0                                    175200  \n",
       "1                                    175200  \n",
       "2                                    175200  \n",
       "3                                    175200  \n",
       "4                                     71100  \n",
       "..                                      ...  \n",
       "813                                   35120  \n",
       "814                                   26440  \n",
       "815                                   30960  \n",
       "816                                   18020  \n",
       "817                                   29360  \n",
       "\n",
       "[818 rows x 8 columns]"
      ]
     },
     "execution_count": 3,
     "metadata": {},
     "output_type": "execute_result"
    }
   ],
   "source": [
    "for column in dataset.columns[1:]:\n",
    "    if dataset[column].dtype == 'object':\n",
    "        dataset[column] = dataset[column].str.replace(',', '', regex=True)\n",
    "        dataset[column] = pd.to_numeric(dataset[column], errors='coerce').astype('Int64')\n",
    "        \n",
    "pattern = r'^\\d+\\s+'\n",
    "dataset['Occupation'] = dataset['Occupation'].str.replace(pattern, '', regex=True)\n",
    "dataset"
   ]
  },
  {
   "cell_type": "markdown",
   "metadata": {},
   "source": [
    "✏️ Input a job you'd like to research more about by changing the value of the variable **search_job** below. "
   ]
  },
  {
   "cell_type": "code",
   "execution_count": 4,
   "metadata": {},
   "outputs": [
    {
     "data": {
      "text/html": [
       "<div>\n",
       "<style scoped>\n",
       "    .dataframe tbody tr th:only-of-type {\n",
       "        vertical-align: middle;\n",
       "    }\n",
       "\n",
       "    .dataframe tbody tr th {\n",
       "        vertical-align: top;\n",
       "    }\n",
       "\n",
       "    .dataframe thead th {\n",
       "        text-align: right;\n",
       "    }\n",
       "</style>\n",
       "<table border=\"1\" class=\"dataframe\">\n",
       "  <thead>\n",
       "    <tr style=\"text-align: right;\">\n",
       "      <th></th>\n",
       "      <th>Occupation</th>\n",
       "      <th>Total - Employment income statistics</th>\n",
       "      <th>With employment income</th>\n",
       "      <th>Median employment income</th>\n",
       "      <th>Average employment income</th>\n",
       "      <th>With wages, salaries and commissions</th>\n",
       "      <th>Median wages, salaries and commisions</th>\n",
       "      <th>Average wages, salaries and commisions</th>\n",
       "    </tr>\n",
       "  </thead>\n",
       "  <tbody>\n",
       "    <tr>\n",
       "      <th>0</th>\n",
       "      <td>Physicians and veterinarians</td>\n",
       "      <td>124000</td>\n",
       "      <td>110235</td>\n",
       "      <td>118000</td>\n",
       "      <td>147200</td>\n",
       "      <td>88390</td>\n",
       "      <td>92000</td>\n",
       "      <td>122200</td>\n",
       "    </tr>\n",
       "    <tr>\n",
       "      <th>1</th>\n",
       "      <td>General practitioners and family physicians</td>\n",
       "      <td>63175</td>\n",
       "      <td>55660</td>\n",
       "      <td>116000</td>\n",
       "      <td>138400</td>\n",
       "      <td>42650</td>\n",
       "      <td>84000</td>\n",
       "      <td>109900</td>\n",
       "    </tr>\n",
       "    <tr>\n",
       "      <th>2</th>\n",
       "      <td>Physician assistants, midwives and allied heal...</td>\n",
       "      <td>3185</td>\n",
       "      <td>3020</td>\n",
       "      <td>69500</td>\n",
       "      <td>65200</td>\n",
       "      <td>2900</td>\n",
       "      <td>71000</td>\n",
       "      <td>65500</td>\n",
       "    </tr>\n",
       "  </tbody>\n",
       "</table>\n",
       "</div>"
      ],
      "text/plain": [
       "                                          Occupation  \\\n",
       "0                       Physicians and veterinarians   \n",
       "1        General practitioners and family physicians   \n",
       "2  Physician assistants, midwives and allied heal...   \n",
       "\n",
       "   Total - Employment income statistics  With employment income  \\\n",
       "0                                124000                  110235   \n",
       "1                                 63175                   55660   \n",
       "2                                  3185                    3020   \n",
       "\n",
       "   Median employment income  Average employment income  \\\n",
       "0                    118000                     147200   \n",
       "1                    116000                     138400   \n",
       "2                     69500                      65200   \n",
       "\n",
       "   With wages, salaries and commissions  \\\n",
       "0                                 88390   \n",
       "1                                 42650   \n",
       "2                                  2900   \n",
       "\n",
       "   Median wages, salaries and commisions  \\\n",
       "0                                  92000   \n",
       "1                                  84000   \n",
       "2                                  71000   \n",
       "\n",
       "   Average wages, salaries and commisions  \n",
       "0                                  122200  \n",
       "1                                  109900  \n",
       "2                                   65500  "
      ]
     },
     "metadata": {},
     "output_type": "display_data"
    }
   ],
   "source": [
    "# ✏️ Change search_job to any job you would like to research more about\n",
    "search_job = 'physician'\n",
    "\n",
    "filtered_df = dataset[dataset['Occupation'].str.contains(search_job, case=False)]\n",
    "display(filtered_df.reset_index(drop=True))"
   ]
  },
  {
   "cell_type": "markdown",
   "metadata": {},
   "source": [
    "📗 Visualizing the average salaries of all job-types across Canada helps to give a better perspective of wages in Canada."
   ]
  },
  {
   "cell_type": "code",
   "execution_count": 5,
   "metadata": {},
   "outputs": [
    {
     "data": {
      "application/vnd.plotly.v1+json": {
       "config": {
        "plotlyServerURL": "https://plot.ly"
       },
       "data": [
        {
         "hovertemplate": "Income Types=%{x}<br>Average Salary=%{marker.color}<extra></extra>",
         "legendgroup": "",
         "marker": {
          "color": [
           118007.39,
           52866.16,
           59034.07,
           109270.35,
           54077.79,
           60108.81
          ],
          "coloraxis": "coloraxis",
          "symbol": "circle"
         },
         "mode": "markers",
         "name": "",
         "orientation": "v",
         "showlegend": false,
         "type": "scatter",
         "x": [
          "With employment income",
          "Median employment income",
          "Average employment income",
          "With wages, salaries and commissions",
          "Median wages, salaries and commisions",
          "Average wages, salaries and commisions"
         ],
         "xaxis": "x",
         "y": [
          118007.39,
          52866.16,
          59034.07,
          109270.35,
          54077.79,
          60108.81
         ],
         "yaxis": "y"
        }
       ],
       "layout": {
        "coloraxis": {
         "colorbar": {
          "title": {
           "text": "Average Salary"
          }
         },
         "colorscale": [
          [
           0,
           "#0d0887"
          ],
          [
           0.1111111111111111,
           "#46039f"
          ],
          [
           0.2222222222222222,
           "#7201a8"
          ],
          [
           0.3333333333333333,
           "#9c179e"
          ],
          [
           0.4444444444444444,
           "#bd3786"
          ],
          [
           0.5555555555555556,
           "#d8576b"
          ],
          [
           0.6666666666666666,
           "#ed7953"
          ],
          [
           0.7777777777777778,
           "#fb9f3a"
          ],
          [
           0.8888888888888888,
           "#fdca26"
          ],
          [
           1,
           "#f0f921"
          ]
         ]
        },
        "legend": {
         "tracegroupgap": 0
        },
        "template": {
         "data": {
          "bar": [
           {
            "error_x": {
             "color": "#2a3f5f"
            },
            "error_y": {
             "color": "#2a3f5f"
            },
            "marker": {
             "line": {
              "color": "#E5ECF6",
              "width": 0.5
             },
             "pattern": {
              "fillmode": "overlay",
              "size": 10,
              "solidity": 0.2
             }
            },
            "type": "bar"
           }
          ],
          "barpolar": [
           {
            "marker": {
             "line": {
              "color": "#E5ECF6",
              "width": 0.5
             },
             "pattern": {
              "fillmode": "overlay",
              "size": 10,
              "solidity": 0.2
             }
            },
            "type": "barpolar"
           }
          ],
          "carpet": [
           {
            "aaxis": {
             "endlinecolor": "#2a3f5f",
             "gridcolor": "white",
             "linecolor": "white",
             "minorgridcolor": "white",
             "startlinecolor": "#2a3f5f"
            },
            "baxis": {
             "endlinecolor": "#2a3f5f",
             "gridcolor": "white",
             "linecolor": "white",
             "minorgridcolor": "white",
             "startlinecolor": "#2a3f5f"
            },
            "type": "carpet"
           }
          ],
          "choropleth": [
           {
            "colorbar": {
             "outlinewidth": 0,
             "ticks": ""
            },
            "type": "choropleth"
           }
          ],
          "contour": [
           {
            "colorbar": {
             "outlinewidth": 0,
             "ticks": ""
            },
            "colorscale": [
             [
              0,
              "#0d0887"
             ],
             [
              0.1111111111111111,
              "#46039f"
             ],
             [
              0.2222222222222222,
              "#7201a8"
             ],
             [
              0.3333333333333333,
              "#9c179e"
             ],
             [
              0.4444444444444444,
              "#bd3786"
             ],
             [
              0.5555555555555556,
              "#d8576b"
             ],
             [
              0.6666666666666666,
              "#ed7953"
             ],
             [
              0.7777777777777778,
              "#fb9f3a"
             ],
             [
              0.8888888888888888,
              "#fdca26"
             ],
             [
              1,
              "#f0f921"
             ]
            ],
            "type": "contour"
           }
          ],
          "contourcarpet": [
           {
            "colorbar": {
             "outlinewidth": 0,
             "ticks": ""
            },
            "type": "contourcarpet"
           }
          ],
          "heatmap": [
           {
            "colorbar": {
             "outlinewidth": 0,
             "ticks": ""
            },
            "colorscale": [
             [
              0,
              "#0d0887"
             ],
             [
              0.1111111111111111,
              "#46039f"
             ],
             [
              0.2222222222222222,
              "#7201a8"
             ],
             [
              0.3333333333333333,
              "#9c179e"
             ],
             [
              0.4444444444444444,
              "#bd3786"
             ],
             [
              0.5555555555555556,
              "#d8576b"
             ],
             [
              0.6666666666666666,
              "#ed7953"
             ],
             [
              0.7777777777777778,
              "#fb9f3a"
             ],
             [
              0.8888888888888888,
              "#fdca26"
             ],
             [
              1,
              "#f0f921"
             ]
            ],
            "type": "heatmap"
           }
          ],
          "heatmapgl": [
           {
            "colorbar": {
             "outlinewidth": 0,
             "ticks": ""
            },
            "colorscale": [
             [
              0,
              "#0d0887"
             ],
             [
              0.1111111111111111,
              "#46039f"
             ],
             [
              0.2222222222222222,
              "#7201a8"
             ],
             [
              0.3333333333333333,
              "#9c179e"
             ],
             [
              0.4444444444444444,
              "#bd3786"
             ],
             [
              0.5555555555555556,
              "#d8576b"
             ],
             [
              0.6666666666666666,
              "#ed7953"
             ],
             [
              0.7777777777777778,
              "#fb9f3a"
             ],
             [
              0.8888888888888888,
              "#fdca26"
             ],
             [
              1,
              "#f0f921"
             ]
            ],
            "type": "heatmapgl"
           }
          ],
          "histogram": [
           {
            "marker": {
             "pattern": {
              "fillmode": "overlay",
              "size": 10,
              "solidity": 0.2
             }
            },
            "type": "histogram"
           }
          ],
          "histogram2d": [
           {
            "colorbar": {
             "outlinewidth": 0,
             "ticks": ""
            },
            "colorscale": [
             [
              0,
              "#0d0887"
             ],
             [
              0.1111111111111111,
              "#46039f"
             ],
             [
              0.2222222222222222,
              "#7201a8"
             ],
             [
              0.3333333333333333,
              "#9c179e"
             ],
             [
              0.4444444444444444,
              "#bd3786"
             ],
             [
              0.5555555555555556,
              "#d8576b"
             ],
             [
              0.6666666666666666,
              "#ed7953"
             ],
             [
              0.7777777777777778,
              "#fb9f3a"
             ],
             [
              0.8888888888888888,
              "#fdca26"
             ],
             [
              1,
              "#f0f921"
             ]
            ],
            "type": "histogram2d"
           }
          ],
          "histogram2dcontour": [
           {
            "colorbar": {
             "outlinewidth": 0,
             "ticks": ""
            },
            "colorscale": [
             [
              0,
              "#0d0887"
             ],
             [
              0.1111111111111111,
              "#46039f"
             ],
             [
              0.2222222222222222,
              "#7201a8"
             ],
             [
              0.3333333333333333,
              "#9c179e"
             ],
             [
              0.4444444444444444,
              "#bd3786"
             ],
             [
              0.5555555555555556,
              "#d8576b"
             ],
             [
              0.6666666666666666,
              "#ed7953"
             ],
             [
              0.7777777777777778,
              "#fb9f3a"
             ],
             [
              0.8888888888888888,
              "#fdca26"
             ],
             [
              1,
              "#f0f921"
             ]
            ],
            "type": "histogram2dcontour"
           }
          ],
          "mesh3d": [
           {
            "colorbar": {
             "outlinewidth": 0,
             "ticks": ""
            },
            "type": "mesh3d"
           }
          ],
          "parcoords": [
           {
            "line": {
             "colorbar": {
              "outlinewidth": 0,
              "ticks": ""
             }
            },
            "type": "parcoords"
           }
          ],
          "pie": [
           {
            "automargin": true,
            "type": "pie"
           }
          ],
          "scatter": [
           {
            "fillpattern": {
             "fillmode": "overlay",
             "size": 10,
             "solidity": 0.2
            },
            "type": "scatter"
           }
          ],
          "scatter3d": [
           {
            "line": {
             "colorbar": {
              "outlinewidth": 0,
              "ticks": ""
             }
            },
            "marker": {
             "colorbar": {
              "outlinewidth": 0,
              "ticks": ""
             }
            },
            "type": "scatter3d"
           }
          ],
          "scattercarpet": [
           {
            "marker": {
             "colorbar": {
              "outlinewidth": 0,
              "ticks": ""
             }
            },
            "type": "scattercarpet"
           }
          ],
          "scattergeo": [
           {
            "marker": {
             "colorbar": {
              "outlinewidth": 0,
              "ticks": ""
             }
            },
            "type": "scattergeo"
           }
          ],
          "scattergl": [
           {
            "marker": {
             "colorbar": {
              "outlinewidth": 0,
              "ticks": ""
             }
            },
            "type": "scattergl"
           }
          ],
          "scattermapbox": [
           {
            "marker": {
             "colorbar": {
              "outlinewidth": 0,
              "ticks": ""
             }
            },
            "type": "scattermapbox"
           }
          ],
          "scatterpolar": [
           {
            "marker": {
             "colorbar": {
              "outlinewidth": 0,
              "ticks": ""
             }
            },
            "type": "scatterpolar"
           }
          ],
          "scatterpolargl": [
           {
            "marker": {
             "colorbar": {
              "outlinewidth": 0,
              "ticks": ""
             }
            },
            "type": "scatterpolargl"
           }
          ],
          "scatterternary": [
           {
            "marker": {
             "colorbar": {
              "outlinewidth": 0,
              "ticks": ""
             }
            },
            "type": "scatterternary"
           }
          ],
          "surface": [
           {
            "colorbar": {
             "outlinewidth": 0,
             "ticks": ""
            },
            "colorscale": [
             [
              0,
              "#0d0887"
             ],
             [
              0.1111111111111111,
              "#46039f"
             ],
             [
              0.2222222222222222,
              "#7201a8"
             ],
             [
              0.3333333333333333,
              "#9c179e"
             ],
             [
              0.4444444444444444,
              "#bd3786"
             ],
             [
              0.5555555555555556,
              "#d8576b"
             ],
             [
              0.6666666666666666,
              "#ed7953"
             ],
             [
              0.7777777777777778,
              "#fb9f3a"
             ],
             [
              0.8888888888888888,
              "#fdca26"
             ],
             [
              1,
              "#f0f921"
             ]
            ],
            "type": "surface"
           }
          ],
          "table": [
           {
            "cells": {
             "fill": {
              "color": "#EBF0F8"
             },
             "line": {
              "color": "white"
             }
            },
            "header": {
             "fill": {
              "color": "#C8D4E3"
             },
             "line": {
              "color": "white"
             }
            },
            "type": "table"
           }
          ]
         },
         "layout": {
          "annotationdefaults": {
           "arrowcolor": "#2a3f5f",
           "arrowhead": 0,
           "arrowwidth": 1
          },
          "autotypenumbers": "strict",
          "coloraxis": {
           "colorbar": {
            "outlinewidth": 0,
            "ticks": ""
           }
          },
          "colorscale": {
           "diverging": [
            [
             0,
             "#8e0152"
            ],
            [
             0.1,
             "#c51b7d"
            ],
            [
             0.2,
             "#de77ae"
            ],
            [
             0.3,
             "#f1b6da"
            ],
            [
             0.4,
             "#fde0ef"
            ],
            [
             0.5,
             "#f7f7f7"
            ],
            [
             0.6,
             "#e6f5d0"
            ],
            [
             0.7,
             "#b8e186"
            ],
            [
             0.8,
             "#7fbc41"
            ],
            [
             0.9,
             "#4d9221"
            ],
            [
             1,
             "#276419"
            ]
           ],
           "sequential": [
            [
             0,
             "#0d0887"
            ],
            [
             0.1111111111111111,
             "#46039f"
            ],
            [
             0.2222222222222222,
             "#7201a8"
            ],
            [
             0.3333333333333333,
             "#9c179e"
            ],
            [
             0.4444444444444444,
             "#bd3786"
            ],
            [
             0.5555555555555556,
             "#d8576b"
            ],
            [
             0.6666666666666666,
             "#ed7953"
            ],
            [
             0.7777777777777778,
             "#fb9f3a"
            ],
            [
             0.8888888888888888,
             "#fdca26"
            ],
            [
             1,
             "#f0f921"
            ]
           ],
           "sequentialminus": [
            [
             0,
             "#0d0887"
            ],
            [
             0.1111111111111111,
             "#46039f"
            ],
            [
             0.2222222222222222,
             "#7201a8"
            ],
            [
             0.3333333333333333,
             "#9c179e"
            ],
            [
             0.4444444444444444,
             "#bd3786"
            ],
            [
             0.5555555555555556,
             "#d8576b"
            ],
            [
             0.6666666666666666,
             "#ed7953"
            ],
            [
             0.7777777777777778,
             "#fb9f3a"
            ],
            [
             0.8888888888888888,
             "#fdca26"
            ],
            [
             1,
             "#f0f921"
            ]
           ]
          },
          "colorway": [
           "#636efa",
           "#EF553B",
           "#00cc96",
           "#ab63fa",
           "#FFA15A",
           "#19d3f3",
           "#FF6692",
           "#B6E880",
           "#FF97FF",
           "#FECB52"
          ],
          "font": {
           "color": "#2a3f5f"
          },
          "geo": {
           "bgcolor": "white",
           "lakecolor": "white",
           "landcolor": "#E5ECF6",
           "showlakes": true,
           "showland": true,
           "subunitcolor": "white"
          },
          "hoverlabel": {
           "align": "left"
          },
          "hovermode": "closest",
          "mapbox": {
           "style": "light"
          },
          "paper_bgcolor": "white",
          "plot_bgcolor": "#E5ECF6",
          "polar": {
           "angularaxis": {
            "gridcolor": "white",
            "linecolor": "white",
            "ticks": ""
           },
           "bgcolor": "#E5ECF6",
           "radialaxis": {
            "gridcolor": "white",
            "linecolor": "white",
            "ticks": ""
           }
          },
          "scene": {
           "xaxis": {
            "backgroundcolor": "#E5ECF6",
            "gridcolor": "white",
            "gridwidth": 2,
            "linecolor": "white",
            "showbackground": true,
            "ticks": "",
            "zerolinecolor": "white"
           },
           "yaxis": {
            "backgroundcolor": "#E5ECF6",
            "gridcolor": "white",
            "gridwidth": 2,
            "linecolor": "white",
            "showbackground": true,
            "ticks": "",
            "zerolinecolor": "white"
           },
           "zaxis": {
            "backgroundcolor": "#E5ECF6",
            "gridcolor": "white",
            "gridwidth": 2,
            "linecolor": "white",
            "showbackground": true,
            "ticks": "",
            "zerolinecolor": "white"
           }
          },
          "shapedefaults": {
           "line": {
            "color": "#2a3f5f"
           }
          },
          "ternary": {
           "aaxis": {
            "gridcolor": "white",
            "linecolor": "white",
            "ticks": ""
           },
           "baxis": {
            "gridcolor": "white",
            "linecolor": "white",
            "ticks": ""
           },
           "bgcolor": "#E5ECF6",
           "caxis": {
            "gridcolor": "white",
            "linecolor": "white",
            "ticks": ""
           }
          },
          "title": {
           "x": 0.05
          },
          "xaxis": {
           "automargin": true,
           "gridcolor": "white",
           "linecolor": "white",
           "ticks": "",
           "title": {
            "standoff": 15
           },
           "zerolinecolor": "white",
           "zerolinewidth": 2
          },
          "yaxis": {
           "automargin": true,
           "gridcolor": "white",
           "linecolor": "white",
           "ticks": "",
           "title": {
            "standoff": 15
           },
           "zerolinecolor": "white",
           "zerolinewidth": 2
          }
         }
        },
        "title": {
         "text": "Average Salaries of all Income Types"
        },
        "xaxis": {
         "anchor": "y",
         "domain": [
          0,
          1
         ],
         "title": {
          "text": "Income Types"
         }
        },
        "yaxis": {
         "anchor": "x",
         "domain": [
          0,
          1
         ],
         "title": {
          "text": "Average Salary"
         }
        }
       }
      }
     },
     "metadata": {},
     "output_type": "display_data"
    }
   ],
   "source": [
    "columns_to_average = dataset.columns[2:]\n",
    "\n",
    "average_df = dataset[columns_to_average].mean().round(2)\n",
    "average_df = pd.DataFrame({'Column': average_df.index, 'Mean': average_df.values})\n",
    "\n",
    "fig = px.scatter(\n",
    "    average_df, x='Column', y='Mean', color='Mean',\n",
    "    title='Average Salaries of all Income Types',\n",
    "    labels={'Column': 'Income Types', 'Mean': 'Average Salary'}\n",
    ")\n",
    "\n",
    "fig.show()"
   ]
  },
  {
   "cell_type": "markdown",
   "metadata": {},
   "source": [
    "📗 Select a salary range that you'd like to achieve. Based on the range, you will be presented 15 different potential job opportunities that may interest you. \n",
    "\n",
    "The slider (✏️) can be adjusted in the widget output below."
   ]
  },
  {
   "cell_type": "code",
   "execution_count": 6,
   "metadata": {},
   "outputs": [
    {
     "data": {
      "application/vnd.jupyter.widget-view+json": {
       "model_id": "df6dbe829dbb443d912b1c19a1becd93",
       "version_major": 2,
       "version_minor": 0
      },
      "text/plain": [
       "VBox(children=(IntRangeSlider(value=(0, 100000), continuous_update=False, description='Range of Salary that I …"
      ]
     },
     "metadata": {},
     "output_type": "display_data"
    }
   ],
   "source": [
    "salary_range = create_widget('IntRangeSlider','Range of Salary that I want to make:',[0,100000],0,500000,2500)\n",
    "box = widgets.VBox([salary_range])\n",
    "\n",
    "display(box)"
   ]
  },
  {
   "cell_type": "code",
   "execution_count": 7,
   "metadata": {},
   "outputs": [
    {
     "data": {
      "text/html": [
       "<div>\n",
       "<style scoped>\n",
       "    .dataframe tbody tr th:only-of-type {\n",
       "        vertical-align: middle;\n",
       "    }\n",
       "\n",
       "    .dataframe tbody tr th {\n",
       "        vertical-align: top;\n",
       "    }\n",
       "\n",
       "    .dataframe thead th {\n",
       "        text-align: right;\n",
       "    }\n",
       "</style>\n",
       "<table border=\"1\" class=\"dataframe\">\n",
       "  <thead>\n",
       "    <tr style=\"text-align: right;\">\n",
       "      <th></th>\n",
       "      <th>Occupation</th>\n",
       "      <th>Total - Employment income statistics</th>\n",
       "      <th>With employment income</th>\n",
       "      <th>Median employment income</th>\n",
       "      <th>Average employment income</th>\n",
       "      <th>With wages, salaries and commissions</th>\n",
       "      <th>Median wages, salaries and commisions</th>\n",
       "      <th>Average wages, salaries and commisions</th>\n",
       "    </tr>\n",
       "  </thead>\n",
       "  <tbody>\n",
       "    <tr>\n",
       "      <th>0</th>\n",
       "      <td>Professional occupations in art and culture</td>\n",
       "      <td>174680</td>\n",
       "      <td>156120</td>\n",
       "      <td>29800</td>\n",
       "      <td>42080</td>\n",
       "      <td>113815</td>\n",
       "      <td>42000</td>\n",
       "      <td>48640</td>\n",
       "    </tr>\n",
       "    <tr>\n",
       "      <th>1</th>\n",
       "      <td>Labourers in textile processing and cutting</td>\n",
       "      <td>6735</td>\n",
       "      <td>6205</td>\n",
       "      <td>23000</td>\n",
       "      <td>25800</td>\n",
       "      <td>5910</td>\n",
       "      <td>23800</td>\n",
       "      <td>26440</td>\n",
       "    </tr>\n",
       "    <tr>\n",
       "      <th>2</th>\n",
       "      <td>Cooks, butchers and bakers</td>\n",
       "      <td>276465</td>\n",
       "      <td>255470</td>\n",
       "      <td>16800</td>\n",
       "      <td>21460</td>\n",
       "      <td>247845</td>\n",
       "      <td>17000</td>\n",
       "      <td>21640</td>\n",
       "    </tr>\n",
       "    <tr>\n",
       "      <th>3</th>\n",
       "      <td>Central control and process operators, mineral...</td>\n",
       "      <td>2470</td>\n",
       "      <td>2460</td>\n",
       "      <td>97000</td>\n",
       "      <td>93000</td>\n",
       "      <td>2445</td>\n",
       "      <td>97000</td>\n",
       "      <td>93600</td>\n",
       "    </tr>\n",
       "    <tr>\n",
       "      <th>4</th>\n",
       "      <td>Other technical and coordinating occupations i...</td>\n",
       "      <td>29315</td>\n",
       "      <td>28180</td>\n",
       "      <td>61200</td>\n",
       "      <td>69000</td>\n",
       "      <td>27220</td>\n",
       "      <td>62400</td>\n",
       "      <td>70000</td>\n",
       "    </tr>\n",
       "    <tr>\n",
       "      <th>5</th>\n",
       "      <td>Court reporters, transcriptionists, records ma...</td>\n",
       "      <td>25705</td>\n",
       "      <td>24120</td>\n",
       "      <td>44000</td>\n",
       "      <td>44200</td>\n",
       "      <td>20700</td>\n",
       "      <td>48000</td>\n",
       "      <td>48040</td>\n",
       "    </tr>\n",
       "    <tr>\n",
       "      <th>6</th>\n",
       "      <td>Pulp mill, papermaking and finishing machine o...</td>\n",
       "      <td>5220</td>\n",
       "      <td>5155</td>\n",
       "      <td>82000</td>\n",
       "      <td>80500</td>\n",
       "      <td>5125</td>\n",
       "      <td>82000</td>\n",
       "      <td>80900</td>\n",
       "    </tr>\n",
       "    <tr>\n",
       "      <th>7</th>\n",
       "      <td>Managers in aquaculture</td>\n",
       "      <td>965</td>\n",
       "      <td>900</td>\n",
       "      <td>56400</td>\n",
       "      <td>58300</td>\n",
       "      <td>770</td>\n",
       "      <td>63600</td>\n",
       "      <td>62300</td>\n",
       "    </tr>\n",
       "    <tr>\n",
       "      <th>8</th>\n",
       "      <td>Floor covering installers</td>\n",
       "      <td>13390</td>\n",
       "      <td>11485</td>\n",
       "      <td>26800</td>\n",
       "      <td>31800</td>\n",
       "      <td>7030</td>\n",
       "      <td>30200</td>\n",
       "      <td>34280</td>\n",
       "    </tr>\n",
       "    <tr>\n",
       "      <th>9</th>\n",
       "      <td>Audiologists and speech-language pathologists</td>\n",
       "      <td>12925</td>\n",
       "      <td>12660</td>\n",
       "      <td>70000</td>\n",
       "      <td>65500</td>\n",
       "      <td>11460</td>\n",
       "      <td>70500</td>\n",
       "      <td>66400</td>\n",
       "    </tr>\n",
       "    <tr>\n",
       "      <th>10</th>\n",
       "      <td>Professional occupations in art and culture</td>\n",
       "      <td>174680</td>\n",
       "      <td>156120</td>\n",
       "      <td>29800</td>\n",
       "      <td>42080</td>\n",
       "      <td>113815</td>\n",
       "      <td>42000</td>\n",
       "      <td>48640</td>\n",
       "    </tr>\n",
       "    <tr>\n",
       "      <th>11</th>\n",
       "      <td>Managers in construction and facility operatio...</td>\n",
       "      <td>243970</td>\n",
       "      <td>218005</td>\n",
       "      <td>59200</td>\n",
       "      <td>69200</td>\n",
       "      <td>184430</td>\n",
       "      <td>66500</td>\n",
       "      <td>77100</td>\n",
       "    </tr>\n",
       "    <tr>\n",
       "      <th>12</th>\n",
       "      <td>Sports officials and referees</td>\n",
       "      <td>5190</td>\n",
       "      <td>2000</td>\n",
       "      <td>3360</td>\n",
       "      <td>17420</td>\n",
       "      <td>1540</td>\n",
       "      <td>3320</td>\n",
       "      <td>20840</td>\n",
       "    </tr>\n",
       "    <tr>\n",
       "      <th>13</th>\n",
       "      <td>Harvesting, landscaping and natural resources ...</td>\n",
       "      <td>236360</td>\n",
       "      <td>202410</td>\n",
       "      <td>16000</td>\n",
       "      <td>23440</td>\n",
       "      <td>182365</td>\n",
       "      <td>16600</td>\n",
       "      <td>23980</td>\n",
       "    </tr>\n",
       "    <tr>\n",
       "      <th>14</th>\n",
       "      <td>Conductors, composers and arrangers</td>\n",
       "      <td>3930</td>\n",
       "      <td>3460</td>\n",
       "      <td>14200</td>\n",
       "      <td>26720</td>\n",
       "      <td>2485</td>\n",
       "      <td>14200</td>\n",
       "      <td>28360</td>\n",
       "    </tr>\n",
       "  </tbody>\n",
       "</table>\n",
       "</div>"
      ],
      "text/plain": [
       "                                           Occupation  \\\n",
       "0         Professional occupations in art and culture   \n",
       "1         Labourers in textile processing and cutting   \n",
       "2                          Cooks, butchers and bakers   \n",
       "3   Central control and process operators, mineral...   \n",
       "4   Other technical and coordinating occupations i...   \n",
       "5   Court reporters, transcriptionists, records ma...   \n",
       "6   Pulp mill, papermaking and finishing machine o...   \n",
       "7                             Managers in aquaculture   \n",
       "8                           Floor covering installers   \n",
       "9       Audiologists and speech-language pathologists   \n",
       "10        Professional occupations in art and culture   \n",
       "11  Managers in construction and facility operatio...   \n",
       "12                      Sports officials and referees   \n",
       "13  Harvesting, landscaping and natural resources ...   \n",
       "14                Conductors, composers and arrangers   \n",
       "\n",
       "    Total - Employment income statistics  With employment income  \\\n",
       "0                                 174680                  156120   \n",
       "1                                   6735                    6205   \n",
       "2                                 276465                  255470   \n",
       "3                                   2470                    2460   \n",
       "4                                  29315                   28180   \n",
       "5                                  25705                   24120   \n",
       "6                                   5220                    5155   \n",
       "7                                    965                     900   \n",
       "8                                  13390                   11485   \n",
       "9                                  12925                   12660   \n",
       "10                                174680                  156120   \n",
       "11                                243970                  218005   \n",
       "12                                  5190                    2000   \n",
       "13                                236360                  202410   \n",
       "14                                  3930                    3460   \n",
       "\n",
       "    Median employment income  Average employment income  \\\n",
       "0                      29800                      42080   \n",
       "1                      23000                      25800   \n",
       "2                      16800                      21460   \n",
       "3                      97000                      93000   \n",
       "4                      61200                      69000   \n",
       "5                      44000                      44200   \n",
       "6                      82000                      80500   \n",
       "7                      56400                      58300   \n",
       "8                      26800                      31800   \n",
       "9                      70000                      65500   \n",
       "10                     29800                      42080   \n",
       "11                     59200                      69200   \n",
       "12                      3360                      17420   \n",
       "13                     16000                      23440   \n",
       "14                     14200                      26720   \n",
       "\n",
       "    With wages, salaries and commissions  \\\n",
       "0                                 113815   \n",
       "1                                   5910   \n",
       "2                                 247845   \n",
       "3                                   2445   \n",
       "4                                  27220   \n",
       "5                                  20700   \n",
       "6                                   5125   \n",
       "7                                    770   \n",
       "8                                   7030   \n",
       "9                                  11460   \n",
       "10                                113815   \n",
       "11                                184430   \n",
       "12                                  1540   \n",
       "13                                182365   \n",
       "14                                  2485   \n",
       "\n",
       "    Median wages, salaries and commisions  \\\n",
       "0                                   42000   \n",
       "1                                   23800   \n",
       "2                                   17000   \n",
       "3                                   97000   \n",
       "4                                   62400   \n",
       "5                                   48000   \n",
       "6                                   82000   \n",
       "7                                   63600   \n",
       "8                                   30200   \n",
       "9                                   70500   \n",
       "10                                  42000   \n",
       "11                                  66500   \n",
       "12                                   3320   \n",
       "13                                  16600   \n",
       "14                                  14200   \n",
       "\n",
       "    Average wages, salaries and commisions  \n",
       "0                                    48640  \n",
       "1                                    26440  \n",
       "2                                    21640  \n",
       "3                                    93600  \n",
       "4                                    70000  \n",
       "5                                    48040  \n",
       "6                                    80900  \n",
       "7                                    62300  \n",
       "8                                    34280  \n",
       "9                                    66400  \n",
       "10                                   48640  \n",
       "11                                   77100  \n",
       "12                                   20840  \n",
       "13                                   23980  \n",
       "14                                   28360  "
      ]
     },
     "metadata": {},
     "output_type": "display_data"
    }
   ],
   "source": [
    "min_salary, max_salary = salary_range.value\n",
    "\n",
    "filtered_dataset = dataset[\n",
    "    (dataset['Average employment income'] >= min_salary) &\n",
    "    (dataset['Average employment income'] <= max_salary)\n",
    "]\n",
    "\n",
    "# List the top 15 rows of the filtered DataFrame\n",
    "top_15 = filtered_dataset.sample(15)\n",
    "\n",
    "# Display the top 15 rows\n",
    "display(top_15.reset_index(drop=True))"
   ]
  },
  {
   "cell_type": "markdown",
   "metadata": {},
   "source": [
    "✏️ Edit the values of **wagePerHour**, **hoursPerDay**, and **workdaysPerMonth** to visualize your gross income (total earnings before taxes and/or other deductions), taxation amount, and net income (earnings after/or other deductions)"
   ]
  },
  {
   "cell_type": "code",
   "execution_count": 8,
   "metadata": {},
   "outputs": [
    {
     "name": "stdout",
     "output_type": "stream",
     "text": [
      "Your gross income is $ 2520 per month.\n",
      "$ 821.02  will be taken off your paycheck.\n",
      "Your net income is $ 1698.98 per month.\n",
      "Stored 'netIncome' (float)\n"
     ]
    }
   ],
   "source": [
    "# ✏️ Edit the values below to accurately reflect your wage, hours worked, and days worked per month\n",
    "wagePerHour = 15  # this is your wage in $/hour\n",
    "hoursPerDay = 8\n",
    "workdaysPerMonth = 21\n",
    "\n",
    "grossIncome = wagePerHour * hoursPerDay * workdaysPerMonth\n",
    "print('Your gross income is $', grossIncome, 'per month.')\n",
    "\n",
    "incomeTax = .15 + .10   # assume federal income tax is 15% and provincial is 10%\n",
    "cpp = .0495             # assume Canada Pension Plan is 4.95%\n",
    "ei = .0188              # assume Employment Insurance is 1.88%\n",
    "unionDues = .0075       # 0.75% sounds reasonable for union dues\n",
    "\n",
    "deductions = grossIncome * (incomeTax + cpp + ei + unionDues)\n",
    "print('$', '{:.2f}'.format(deductions), ' will be taken off your paycheck.')\n",
    "\n",
    "netIncome = grossIncome - deductions\n",
    "print('Your net income is $', '{:.2f}'.format(netIncome), 'per month.')\n",
    "\n",
    "# store that value in memory for later notebooks\n",
    "%store netIncome"
   ]
  },
  {
   "cell_type": "markdown",
   "metadata": {},
   "source": [
    "## Graphing Income\n",
    "📗\n",
    "We can also look at how your net income (take-home pay) changes based on your hourly wage. We will use [2019 taxation rates](https://www.canada.ca/en/revenue-agency/services/tax/individuals/frequently-asked-questions-individuals/canadian-income-tax-rates-individuals-current-previous-years.html) as well as [EI](https://www.canada.ca/en/revenue-agency/services/tax/businesses/topics/payroll/payroll-deductions-contributions/employment-insurance-ei/ei-premium-rates-maximums.html) and [CPP](https://www.canada.ca/en/revenue-agency/services/tax/businesses/topics/payroll/payroll-deductions-contributions/canada-pension-plan-cpp/cpp-contribution-rates-maximums-exemptions.html) rates. `Run` the cell below (without editing it) to generate a graph.\n",
    "</div>"
   ]
  },
  {
   "cell_type": "code",
   "execution_count": 9,
   "metadata": {},
   "outputs": [
    {
     "data": {
      "application/vnd.plotly.v1+json": {
       "config": {
        "plotlyServerURL": "https://plot.ly"
       },
       "data": [
        {
         "name": "Gross Income",
         "type": "scatter",
         "x": [
          15,
          16,
          17,
          18,
          19,
          20,
          21,
          22,
          23,
          24,
          25,
          26,
          27,
          28,
          29,
          30,
          31,
          32,
          33,
          34,
          35,
          36,
          37,
          38,
          39,
          40,
          41,
          42,
          43,
          44,
          45,
          46,
          47,
          48,
          49,
          50,
          51,
          52,
          53,
          54,
          55,
          56,
          57,
          58,
          59,
          60,
          61,
          62,
          63,
          64,
          65,
          66,
          67,
          68,
          69,
          70,
          71,
          72,
          73,
          74,
          75,
          76,
          77,
          78,
          79,
          80,
          81,
          82,
          83,
          84,
          85,
          86,
          87,
          88,
          89,
          90,
          91,
          92,
          93,
          94,
          95,
          96,
          97,
          98,
          99,
          100,
          101,
          102,
          103,
          104,
          105,
          106,
          107,
          108,
          109,
          110,
          111,
          112,
          113,
          114,
          115,
          116,
          117,
          118,
          119,
          120,
          121,
          122,
          123,
          124,
          125,
          126,
          127,
          128,
          129,
          130,
          131,
          132,
          133,
          134,
          135,
          136,
          137,
          138,
          139,
          140,
          141,
          142,
          143,
          144,
          145,
          146,
          147,
          148,
          149
         ],
         "y": [
          28800,
          30720,
          32640,
          34560,
          36480,
          38400,
          40320,
          42240,
          44160,
          46080,
          48000,
          49920,
          51840,
          53760,
          55680,
          57600,
          59520,
          61440,
          63360,
          65280,
          67200,
          69120,
          71040,
          72960,
          74880,
          76800,
          78720,
          80640,
          82560,
          84480,
          86400,
          88320,
          90240,
          92160,
          94080,
          96000,
          97920,
          99840,
          101760,
          103680,
          105600,
          107520,
          109440,
          111360,
          113280,
          115200,
          117120,
          119040,
          120960,
          122880,
          124800,
          126720,
          128640,
          130560,
          132480,
          134400,
          136320,
          138240,
          140160,
          142080,
          144000,
          145920,
          147840,
          149760,
          151680,
          153600,
          155520,
          157440,
          159360,
          161280,
          163200,
          165120,
          167040,
          168960,
          170880,
          172800,
          174720,
          176640,
          178560,
          180480,
          182400,
          184320,
          186240,
          188160,
          190080,
          192000,
          193920,
          195840,
          197760,
          199680,
          201600,
          203520,
          205440,
          207360,
          209280,
          211200,
          213120,
          215040,
          216960,
          218880,
          220800,
          222720,
          224640,
          226560,
          228480,
          230400,
          232320,
          234240,
          236160,
          238080,
          240000,
          241920,
          243840,
          245760,
          247680,
          249600,
          251520,
          253440,
          255360,
          257280,
          259200,
          261120,
          263040,
          264960,
          266880,
          268800,
          270720,
          272640,
          274560,
          276480,
          278400,
          280320,
          282240,
          284160,
          286080
         ]
        },
        {
         "name": "Net Income",
         "type": "scatter",
         "x": [
          15,
          16,
          17,
          18,
          19,
          20,
          21,
          22,
          23,
          24,
          25,
          26,
          27,
          28,
          29,
          30,
          31,
          32,
          33,
          34,
          35,
          36,
          37,
          38,
          39,
          40,
          41,
          42,
          43,
          44,
          45,
          46,
          47,
          48,
          49,
          50,
          51,
          52,
          53,
          54,
          55,
          56,
          57,
          58,
          59,
          60,
          61,
          62,
          63,
          64,
          65,
          66,
          67,
          68,
          69,
          70,
          71,
          72,
          73,
          74,
          75,
          76,
          77,
          78,
          79,
          80,
          81,
          82,
          83,
          84,
          85,
          86,
          87,
          88,
          89,
          90,
          91,
          92,
          93,
          94,
          95,
          96,
          97,
          98,
          99,
          100,
          101,
          102,
          103,
          104,
          105,
          106,
          107,
          108,
          109,
          110,
          111,
          112,
          113,
          114,
          115,
          116,
          117,
          118,
          119,
          120,
          121,
          122,
          123,
          124,
          125,
          126,
          127,
          128,
          129,
          130,
          131,
          132,
          133,
          134,
          135,
          136,
          137,
          138,
          139,
          140,
          141,
          142,
          143,
          144,
          145,
          146,
          147,
          148,
          149
         ],
         "y": [
          19664.64,
          20975.616,
          22286.592,
          23597.568,
          24908.544,
          26219.52,
          27530.496,
          28841.472,
          30152.448,
          31463.424,
          32754.05,
          33959.426,
          35164.801999999996,
          36380.87,
          37708.130000000005,
          39042.53,
          40376.93,
          41711.33,
          43045.729999999996,
          44380.13,
          45714.53,
          47048.93,
          48383.33,
          49717.729999999996,
          51052.13,
          52386.53,
          53720.93,
          55055.33,
          56389.729999999996,
          57724.13,
          59058.53,
          60392.93,
          61727.33,
          63061.729999999996,
          64396.13,
          63070.125,
          64298.925,
          65527.725,
          66756.525,
          67985.32500000001,
          69214.125,
          70442.92499999999,
          71671.725,
          72900.525,
          74129.32500000001,
          75358.125,
          76586.92499999999,
          77815.725,
          79044.525,
          80273.32500000001,
          81502.125,
          82730.92499999999,
          83959.725,
          85188.525,
          86392.125,
          87582.525,
          88772.92499999999,
          89963.325,
          91153.725,
          92344.125,
          93534.525,
          94724.92499999999,
          90670.89,
          91803.69,
          92936.48999999999,
          94069.29000000001,
          95202.09,
          96334.89,
          94824.32999999999,
          95937.93,
          97051.53,
          98165.13,
          99278.73000000001,
          100392.33,
          101505.93000000001,
          102619.53,
          103733.13,
          104846.73000000001,
          105960.33,
          107073.93000000001,
          108187.53,
          109301.13,
          110414.73000000001,
          111528.33,
          112641.93000000001,
          113755.53,
          114869.13,
          115982.73000000001,
          117096.33,
          118209.93000000001,
          119323.53,
          120437.13,
          121550.73000000001,
          122664.33,
          123777.93,
          118841.24,
          119858.84000000001,
          120876.44,
          121894.04000000001,
          122911.64000000001,
          123929.24,
          124946.84000000001,
          125964.44,
          126982.04000000001,
          127999.64000000001,
          129017.23999999999,
          130034.84000000001,
          131052.44,
          132070.04,
          133087.64,
          134105.24,
          135122.84000000003,
          136140.44,
          137158.04,
          138175.64,
          139193.24,
          140210.84000000003,
          141228.44,
          142246.04,
          143263.64,
          144281.24,
          145298.84000000003,
          146316.44,
          147334.04,
          148351.64,
          149369.24,
          150386.84000000003,
          151404.44,
          152422.04,
          153439.64,
          154457.24,
          155474.84000000003,
          156492.44,
          157510.04,
          158527.64
         ]
        }
       ],
       "layout": {
        "template": {
         "data": {
          "bar": [
           {
            "error_x": {
             "color": "#2a3f5f"
            },
            "error_y": {
             "color": "#2a3f5f"
            },
            "marker": {
             "line": {
              "color": "#E5ECF6",
              "width": 0.5
             },
             "pattern": {
              "fillmode": "overlay",
              "size": 10,
              "solidity": 0.2
             }
            },
            "type": "bar"
           }
          ],
          "barpolar": [
           {
            "marker": {
             "line": {
              "color": "#E5ECF6",
              "width": 0.5
             },
             "pattern": {
              "fillmode": "overlay",
              "size": 10,
              "solidity": 0.2
             }
            },
            "type": "barpolar"
           }
          ],
          "carpet": [
           {
            "aaxis": {
             "endlinecolor": "#2a3f5f",
             "gridcolor": "white",
             "linecolor": "white",
             "minorgridcolor": "white",
             "startlinecolor": "#2a3f5f"
            },
            "baxis": {
             "endlinecolor": "#2a3f5f",
             "gridcolor": "white",
             "linecolor": "white",
             "minorgridcolor": "white",
             "startlinecolor": "#2a3f5f"
            },
            "type": "carpet"
           }
          ],
          "choropleth": [
           {
            "colorbar": {
             "outlinewidth": 0,
             "ticks": ""
            },
            "type": "choropleth"
           }
          ],
          "contour": [
           {
            "colorbar": {
             "outlinewidth": 0,
             "ticks": ""
            },
            "colorscale": [
             [
              0,
              "#0d0887"
             ],
             [
              0.1111111111111111,
              "#46039f"
             ],
             [
              0.2222222222222222,
              "#7201a8"
             ],
             [
              0.3333333333333333,
              "#9c179e"
             ],
             [
              0.4444444444444444,
              "#bd3786"
             ],
             [
              0.5555555555555556,
              "#d8576b"
             ],
             [
              0.6666666666666666,
              "#ed7953"
             ],
             [
              0.7777777777777778,
              "#fb9f3a"
             ],
             [
              0.8888888888888888,
              "#fdca26"
             ],
             [
              1,
              "#f0f921"
             ]
            ],
            "type": "contour"
           }
          ],
          "contourcarpet": [
           {
            "colorbar": {
             "outlinewidth": 0,
             "ticks": ""
            },
            "type": "contourcarpet"
           }
          ],
          "heatmap": [
           {
            "colorbar": {
             "outlinewidth": 0,
             "ticks": ""
            },
            "colorscale": [
             [
              0,
              "#0d0887"
             ],
             [
              0.1111111111111111,
              "#46039f"
             ],
             [
              0.2222222222222222,
              "#7201a8"
             ],
             [
              0.3333333333333333,
              "#9c179e"
             ],
             [
              0.4444444444444444,
              "#bd3786"
             ],
             [
              0.5555555555555556,
              "#d8576b"
             ],
             [
              0.6666666666666666,
              "#ed7953"
             ],
             [
              0.7777777777777778,
              "#fb9f3a"
             ],
             [
              0.8888888888888888,
              "#fdca26"
             ],
             [
              1,
              "#f0f921"
             ]
            ],
            "type": "heatmap"
           }
          ],
          "heatmapgl": [
           {
            "colorbar": {
             "outlinewidth": 0,
             "ticks": ""
            },
            "colorscale": [
             [
              0,
              "#0d0887"
             ],
             [
              0.1111111111111111,
              "#46039f"
             ],
             [
              0.2222222222222222,
              "#7201a8"
             ],
             [
              0.3333333333333333,
              "#9c179e"
             ],
             [
              0.4444444444444444,
              "#bd3786"
             ],
             [
              0.5555555555555556,
              "#d8576b"
             ],
             [
              0.6666666666666666,
              "#ed7953"
             ],
             [
              0.7777777777777778,
              "#fb9f3a"
             ],
             [
              0.8888888888888888,
              "#fdca26"
             ],
             [
              1,
              "#f0f921"
             ]
            ],
            "type": "heatmapgl"
           }
          ],
          "histogram": [
           {
            "marker": {
             "pattern": {
              "fillmode": "overlay",
              "size": 10,
              "solidity": 0.2
             }
            },
            "type": "histogram"
           }
          ],
          "histogram2d": [
           {
            "colorbar": {
             "outlinewidth": 0,
             "ticks": ""
            },
            "colorscale": [
             [
              0,
              "#0d0887"
             ],
             [
              0.1111111111111111,
              "#46039f"
             ],
             [
              0.2222222222222222,
              "#7201a8"
             ],
             [
              0.3333333333333333,
              "#9c179e"
             ],
             [
              0.4444444444444444,
              "#bd3786"
             ],
             [
              0.5555555555555556,
              "#d8576b"
             ],
             [
              0.6666666666666666,
              "#ed7953"
             ],
             [
              0.7777777777777778,
              "#fb9f3a"
             ],
             [
              0.8888888888888888,
              "#fdca26"
             ],
             [
              1,
              "#f0f921"
             ]
            ],
            "type": "histogram2d"
           }
          ],
          "histogram2dcontour": [
           {
            "colorbar": {
             "outlinewidth": 0,
             "ticks": ""
            },
            "colorscale": [
             [
              0,
              "#0d0887"
             ],
             [
              0.1111111111111111,
              "#46039f"
             ],
             [
              0.2222222222222222,
              "#7201a8"
             ],
             [
              0.3333333333333333,
              "#9c179e"
             ],
             [
              0.4444444444444444,
              "#bd3786"
             ],
             [
              0.5555555555555556,
              "#d8576b"
             ],
             [
              0.6666666666666666,
              "#ed7953"
             ],
             [
              0.7777777777777778,
              "#fb9f3a"
             ],
             [
              0.8888888888888888,
              "#fdca26"
             ],
             [
              1,
              "#f0f921"
             ]
            ],
            "type": "histogram2dcontour"
           }
          ],
          "mesh3d": [
           {
            "colorbar": {
             "outlinewidth": 0,
             "ticks": ""
            },
            "type": "mesh3d"
           }
          ],
          "parcoords": [
           {
            "line": {
             "colorbar": {
              "outlinewidth": 0,
              "ticks": ""
             }
            },
            "type": "parcoords"
           }
          ],
          "pie": [
           {
            "automargin": true,
            "type": "pie"
           }
          ],
          "scatter": [
           {
            "fillpattern": {
             "fillmode": "overlay",
             "size": 10,
             "solidity": 0.2
            },
            "type": "scatter"
           }
          ],
          "scatter3d": [
           {
            "line": {
             "colorbar": {
              "outlinewidth": 0,
              "ticks": ""
             }
            },
            "marker": {
             "colorbar": {
              "outlinewidth": 0,
              "ticks": ""
             }
            },
            "type": "scatter3d"
           }
          ],
          "scattercarpet": [
           {
            "marker": {
             "colorbar": {
              "outlinewidth": 0,
              "ticks": ""
             }
            },
            "type": "scattercarpet"
           }
          ],
          "scattergeo": [
           {
            "marker": {
             "colorbar": {
              "outlinewidth": 0,
              "ticks": ""
             }
            },
            "type": "scattergeo"
           }
          ],
          "scattergl": [
           {
            "marker": {
             "colorbar": {
              "outlinewidth": 0,
              "ticks": ""
             }
            },
            "type": "scattergl"
           }
          ],
          "scattermapbox": [
           {
            "marker": {
             "colorbar": {
              "outlinewidth": 0,
              "ticks": ""
             }
            },
            "type": "scattermapbox"
           }
          ],
          "scatterpolar": [
           {
            "marker": {
             "colorbar": {
              "outlinewidth": 0,
              "ticks": ""
             }
            },
            "type": "scatterpolar"
           }
          ],
          "scatterpolargl": [
           {
            "marker": {
             "colorbar": {
              "outlinewidth": 0,
              "ticks": ""
             }
            },
            "type": "scatterpolargl"
           }
          ],
          "scatterternary": [
           {
            "marker": {
             "colorbar": {
              "outlinewidth": 0,
              "ticks": ""
             }
            },
            "type": "scatterternary"
           }
          ],
          "surface": [
           {
            "colorbar": {
             "outlinewidth": 0,
             "ticks": ""
            },
            "colorscale": [
             [
              0,
              "#0d0887"
             ],
             [
              0.1111111111111111,
              "#46039f"
             ],
             [
              0.2222222222222222,
              "#7201a8"
             ],
             [
              0.3333333333333333,
              "#9c179e"
             ],
             [
              0.4444444444444444,
              "#bd3786"
             ],
             [
              0.5555555555555556,
              "#d8576b"
             ],
             [
              0.6666666666666666,
              "#ed7953"
             ],
             [
              0.7777777777777778,
              "#fb9f3a"
             ],
             [
              0.8888888888888888,
              "#fdca26"
             ],
             [
              1,
              "#f0f921"
             ]
            ],
            "type": "surface"
           }
          ],
          "table": [
           {
            "cells": {
             "fill": {
              "color": "#EBF0F8"
             },
             "line": {
              "color": "white"
             }
            },
            "header": {
             "fill": {
              "color": "#C8D4E3"
             },
             "line": {
              "color": "white"
             }
            },
            "type": "table"
           }
          ]
         },
         "layout": {
          "annotationdefaults": {
           "arrowcolor": "#2a3f5f",
           "arrowhead": 0,
           "arrowwidth": 1
          },
          "autotypenumbers": "strict",
          "coloraxis": {
           "colorbar": {
            "outlinewidth": 0,
            "ticks": ""
           }
          },
          "colorscale": {
           "diverging": [
            [
             0,
             "#8e0152"
            ],
            [
             0.1,
             "#c51b7d"
            ],
            [
             0.2,
             "#de77ae"
            ],
            [
             0.3,
             "#f1b6da"
            ],
            [
             0.4,
             "#fde0ef"
            ],
            [
             0.5,
             "#f7f7f7"
            ],
            [
             0.6,
             "#e6f5d0"
            ],
            [
             0.7,
             "#b8e186"
            ],
            [
             0.8,
             "#7fbc41"
            ],
            [
             0.9,
             "#4d9221"
            ],
            [
             1,
             "#276419"
            ]
           ],
           "sequential": [
            [
             0,
             "#0d0887"
            ],
            [
             0.1111111111111111,
             "#46039f"
            ],
            [
             0.2222222222222222,
             "#7201a8"
            ],
            [
             0.3333333333333333,
             "#9c179e"
            ],
            [
             0.4444444444444444,
             "#bd3786"
            ],
            [
             0.5555555555555556,
             "#d8576b"
            ],
            [
             0.6666666666666666,
             "#ed7953"
            ],
            [
             0.7777777777777778,
             "#fb9f3a"
            ],
            [
             0.8888888888888888,
             "#fdca26"
            ],
            [
             1,
             "#f0f921"
            ]
           ],
           "sequentialminus": [
            [
             0,
             "#0d0887"
            ],
            [
             0.1111111111111111,
             "#46039f"
            ],
            [
             0.2222222222222222,
             "#7201a8"
            ],
            [
             0.3333333333333333,
             "#9c179e"
            ],
            [
             0.4444444444444444,
             "#bd3786"
            ],
            [
             0.5555555555555556,
             "#d8576b"
            ],
            [
             0.6666666666666666,
             "#ed7953"
            ],
            [
             0.7777777777777778,
             "#fb9f3a"
            ],
            [
             0.8888888888888888,
             "#fdca26"
            ],
            [
             1,
             "#f0f921"
            ]
           ]
          },
          "colorway": [
           "#636efa",
           "#EF553B",
           "#00cc96",
           "#ab63fa",
           "#FFA15A",
           "#19d3f3",
           "#FF6692",
           "#B6E880",
           "#FF97FF",
           "#FECB52"
          ],
          "font": {
           "color": "#2a3f5f"
          },
          "geo": {
           "bgcolor": "white",
           "lakecolor": "white",
           "landcolor": "#E5ECF6",
           "showlakes": true,
           "showland": true,
           "subunitcolor": "white"
          },
          "hoverlabel": {
           "align": "left"
          },
          "hovermode": "closest",
          "mapbox": {
           "style": "light"
          },
          "paper_bgcolor": "white",
          "plot_bgcolor": "#E5ECF6",
          "polar": {
           "angularaxis": {
            "gridcolor": "white",
            "linecolor": "white",
            "ticks": ""
           },
           "bgcolor": "#E5ECF6",
           "radialaxis": {
            "gridcolor": "white",
            "linecolor": "white",
            "ticks": ""
           }
          },
          "scene": {
           "xaxis": {
            "backgroundcolor": "#E5ECF6",
            "gridcolor": "white",
            "gridwidth": 2,
            "linecolor": "white",
            "showbackground": true,
            "ticks": "",
            "zerolinecolor": "white"
           },
           "yaxis": {
            "backgroundcolor": "#E5ECF6",
            "gridcolor": "white",
            "gridwidth": 2,
            "linecolor": "white",
            "showbackground": true,
            "ticks": "",
            "zerolinecolor": "white"
           },
           "zaxis": {
            "backgroundcolor": "#E5ECF6",
            "gridcolor": "white",
            "gridwidth": 2,
            "linecolor": "white",
            "showbackground": true,
            "ticks": "",
            "zerolinecolor": "white"
           }
          },
          "shapedefaults": {
           "line": {
            "color": "#2a3f5f"
           }
          },
          "ternary": {
           "aaxis": {
            "gridcolor": "white",
            "linecolor": "white",
            "ticks": ""
           },
           "baxis": {
            "gridcolor": "white",
            "linecolor": "white",
            "ticks": ""
           },
           "bgcolor": "#E5ECF6",
           "caxis": {
            "gridcolor": "white",
            "linecolor": "white",
            "ticks": ""
           }
          },
          "title": {
           "x": 0.05
          },
          "xaxis": {
           "automargin": true,
           "gridcolor": "white",
           "linecolor": "white",
           "ticks": "",
           "title": {
            "standoff": 15
           },
           "zerolinecolor": "white",
           "zerolinewidth": 2
          },
          "yaxis": {
           "automargin": true,
           "gridcolor": "white",
           "linecolor": "white",
           "ticks": "",
           "title": {
            "standoff": 15
           },
           "zerolinecolor": "white",
           "zerolinewidth": 2
          }
         }
        },
        "title": {
         "text": "Net Income vs Hourly Wage"
        },
        "xaxis": {
         "title": {
          "text": "Hourly Wage"
         }
        },
        "yaxis": {
         "title": {
          "text": "Income"
         }
        }
       }
      }
     },
     "metadata": {},
     "output_type": "display_data"
    }
   ],
   "source": [
    "wages = []\n",
    "grossIncomes = []\n",
    "netIncomes = []\n",
    "\n",
    "for wage in range(15, 150):\n",
    "    wages.append(wage)\n",
    "    grossAnnualIncome = wage * 8 * 240\n",
    "    grossIncomes.append(grossAnnualIncome)\n",
    "    incomeTax = calculateFederalTax(grossAnnualIncome) + calculateProvincialTax(grossAnnualIncome)\n",
    "    eiPremium = calculateEI(grossAnnualIncome)\n",
    "    cppPremium = calculateCPP(grossAnnualIncome)\n",
    "    netIncome = grossAnnualIncome - (incomeTax + eiPremium + cppPremium)\n",
    "    netIncomes.append(netIncome)\n",
    "\n",
    "import plotly.graph_objects as go\n",
    "fig = go.Figure()\n",
    "fig.add_trace(go.Scatter(x=wages, y=grossIncomes, name='Gross Income'))\n",
    "fig.add_trace(go.Scatter(x=wages, y=netIncomes, name='Net Income'))\n",
    "fig.update_layout(\n",
    "    title=go.layout.Title(text='Net Income vs Hourly Wage'),\n",
    "    xaxis=go.layout.XAxis(title=go.layout.xaxis.Title(text='Hourly Wage')),\n",
    "    yaxis=go.layout.YAxis(title=go.layout.yaxis.Title(text='Income')))\n",
    "fig.show()"
   ]
  },
  {
   "cell_type": "markdown",
   "metadata": {},
   "source": [
    "📗The graph shows that the difference between gross income and net income (after deductions) increases as wage increases. For more information about this, you may want to read about [progressive taxation](https://en.wikipedia.org/wiki/Progressive_tax).\n",
    "\n",
    "You have now completed this section. Proceed to [section 3](./CALM-moving-out-3.ipynb)"
   ]
  },
  {
   "cell_type": "markdown",
   "metadata": {},
   "source": [
    "[![Callysto.ca License](https://github.com/callysto/curriculum-notebooks/blob/master/callysto-notebook-banner-bottom.jpg?raw=true)](https://github.com/callysto/curriculum-notebooks/blob/master/LICENSE.md)"
   ]
  }
 ],
 "metadata": {
  "kernelspec": {
   "display_name": "Python 3",
   "language": "python",
   "name": "python3"
  },
  "language_info": {
   "codemirror_mode": {
    "name": "ipython",
    "version": 3
   },
   "file_extension": ".py",
   "mimetype": "text/x-python",
   "name": "python",
   "nbconvert_exporter": "python",
   "pygments_lexer": "ipython3",
   "version": "3.10.8"
  }
 },
 "nbformat": 4,
 "nbformat_minor": 2
}
