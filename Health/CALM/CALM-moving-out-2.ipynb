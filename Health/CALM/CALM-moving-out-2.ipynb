{
 "cells": [
  {
   "cell_type": "markdown",
   "metadata": {},
   "source": [
    "![Callysto.ca Banner](https://github.com/callysto/curriculum-notebooks/blob/master/callysto-notebook-banner-top.jpg?raw=true)\n",
    "\n",
    "<a href=\"https://hub.callysto.ca/jupyter/hub/user-redirect/git-pull?repo=https%3A%2F%2Fgithub.com%2Fcallysto%2Fcurriculum-notebooks&branch=master&subPath=Health/CALM/CALM-moving-out-2.ipynb&depth=1\" target=\"_parent\"><img src=\"https://raw.githubusercontent.com/callysto/curriculum-notebooks/master/open-in-callysto-button.svg?sanitize=true\" width=\"123\" height=\"24\" alt=\"Open in Callysto\"/></a>"
   ]
  },
  {
   "attachments": {},
   "cell_type": "markdown",
   "metadata": {},
   "source": [
    "# CALM - Moving Out Project\n",
    "## Part 2 - Income\n",
    "\n",
    "📗Now let's take a look at your potential income. First, some definitions:\n",
    "\n",
    "### Paycheque Definitions\n",
    "#### Gross Income (pay/earnings)\n",
    "The amount of income/earnings, for any pay period, before deductions\n",
    " \n",
    "#### Net income (pay/earnings)\n",
    "The amount of income/earnings, for any pay period, after deductions (Take home pay)\n",
    "\n",
    "#### CPP - Canada Pension Plan\n",
    "Pensionable earnings received later in life (standard age is 65). Percentage of payment to CPP changes frequently but has ranged from 2-6%. \n",
    "\n",
    "#### Income Tax\n",
    "A deduction paid to the Federal and Provincial government for taxes\n",
    " \n",
    "#### LTD\n",
    "A deduction for Long Term Disability insurance\n",
    " \n",
    "#### Union Dues\n",
    "Fees paid for membership in a union\n",
    " \n",
    "#### Bonds\n",
    "An investment in which a business or government pays a set interest rate\n",
    " \n",
    "#### Advance Earnings\n",
    "Deducted money that was received in advance of the pay cheque\n",
    " \n",
    "#### Overtime Earnings\n",
    "Pay received for working over 8 hours a day or 44 hours a week, whichever is greater"
   ]
  },
  {
   "cell_type": "markdown",
   "metadata": {},
   "source": [
    "📗 Run the cell below to import libraries required for the notebook. "
   ]
  },
  {
   "cell_type": "code",
   "execution_count": null,
   "metadata": {},
   "outputs": [],
   "source": [
    "%store -r\n",
    "import warnings\n",
    "warnings.filterwarnings(\"ignore\")\n",
    "import pandas as pd\n",
    "from functions import *\n",
    "import plotly.express as px\n",
    "import numpy as np\n",
    "print(\"Libraries imported.\")"
   ]
  },
  {
   "cell_type": "markdown",
   "metadata": {},
   "source": [
    "### Calculating Net Income\n",
    "\n",
    "📗 Click on the code cell below, then click the `Run` button on the toolbar to calculate your net income. You may also change some values in cells that contain (✏️) to see how the results change."
   ]
  },
  {
   "cell_type": "code",
   "execution_count": null,
   "metadata": {},
   "outputs": [],
   "source": [
    "dataset = pd.read_csv(\"https://raw.githubusercontent.com/callysto/data-files/main/Health/CALM/Moving-out-2/income.csv\") #(csv downloaded from https://www150.statcan.gc.ca/t1/tbl1/en/tv.action?pid=9810045201)\n",
    "dataset"
   ]
  },
  {
   "cell_type": "markdown",
   "metadata": {},
   "source": [
    "📗 The dataset will be \"cleaned\" for ease of visualization and data-analysis later on. Continue to run the next few cells. "
   ]
  },
  {
   "cell_type": "code",
   "execution_count": null,
   "metadata": {},
   "outputs": [],
   "source": [
    "for column in dataset.columns[1:]:\n",
    "    if dataset[column].dtype == 'object':\n",
    "        dataset[column] = dataset[column].str.replace(',', '', regex=True)\n",
    "        dataset[column] = pd.to_numeric(dataset[column], errors='coerce').astype('Int64')\n",
    "        \n",
    "pattern = r'^\\d+\\s+'\n",
    "dataset['Occupation'] = dataset['Occupation'].str.replace(pattern, '', regex=True)\n",
    "dataset"
   ]
  },
  {
   "cell_type": "markdown",
   "metadata": {},
   "source": [
    "Below is a list of occupations found in the dataset which are used in the next 2 ✏️ cells."
   ]
  },
  {
   "cell_type": "code",
   "execution_count": null,
   "metadata": {},
   "outputs": [],
   "source": [
    "list_of_occupations = dataset['Occupation'].unique()\n",
    "for occupation in list_of_occupations:\n",
    "    print(occupation)"
   ]
  },
  {
   "cell_type": "markdown",
   "metadata": {},
   "source": [
    "✏️ Input a job you'd like to research more about by changing the value of the variable **search_job** below. "
   ]
  },
  {
   "cell_type": "code",
   "execution_count": 16,
   "metadata": {},
   "outputs": [
    {
     "data": {
      "application/vnd.plotly.v1+json": {
       "config": {
        "plotlyServerURL": "https://plot.ly"
       },
       "data": [
        {
         "hovertemplate": "Occupation=%{x}<br>Average employment income=%{y}<extra></extra>",
         "legendgroup": "Computer and information systems managers",
         "marker": {
          "color": "#636efa",
          "line": {
           "color": "DarkSlateGrey",
           "width": 2
          },
          "size": 12,
          "symbol": "circle"
         },
         "mode": "markers",
         "name": "Computer and information systems managers",
         "orientation": "v",
         "showlegend": true,
         "type": "scatter",
         "x": [
          "Computer and information systems managers"
         ],
         "xaxis": "x",
         "y": [
          128800
         ],
         "yaxis": "y"
        },
        {
         "hovertemplate": "Occupation=%{x}<br>Average employment income=%{y}<extra></extra>",
         "legendgroup": "Computer and information systems professionals",
         "marker": {
          "color": "#EF553B",
          "line": {
           "color": "DarkSlateGrey",
           "width": 2
          },
          "size": 12,
          "symbol": "circle"
         },
         "mode": "markers",
         "name": "Computer and information systems professionals",
         "orientation": "v",
         "showlegend": true,
         "type": "scatter",
         "x": [
          "Computer and information systems professionals"
         ],
         "xaxis": "x",
         "y": [
          82500
         ],
         "yaxis": "y"
        },
        {
         "hovertemplate": "Occupation=%{x}<br>Average employment income=%{y}<extra></extra>",
         "legendgroup": "Computer, software and Web designers and developers",
         "marker": {
          "color": "#00cc96",
          "line": {
           "color": "DarkSlateGrey",
           "width": 2
          },
          "size": 12,
          "symbol": "circle"
         },
         "mode": "markers",
         "name": "Computer, software and Web designers and developers",
         "orientation": "v",
         "showlegend": true,
         "type": "scatter",
         "x": [
          "Computer, software and Web designers and developers"
         ],
         "xaxis": "x",
         "y": [
          84600
         ],
         "yaxis": "y"
        },
        {
         "hovertemplate": "Occupation=%{x}<br>Average employment income=%{y}<extra></extra>",
         "legendgroup": "Computer systems developers and programmers",
         "marker": {
          "color": "#ab63fa",
          "line": {
           "color": "DarkSlateGrey",
           "width": 2
          },
          "size": 12,
          "symbol": "circle"
         },
         "mode": "markers",
         "name": "Computer systems developers and programmers",
         "orientation": "v",
         "showlegend": true,
         "type": "scatter",
         "x": [
          "Computer systems developers and programmers"
         ],
         "xaxis": "x",
         "y": [
          76600
         ],
         "yaxis": "y"
        },
        {
         "hovertemplate": "Occupation=%{x}<br>Average employment income=%{y}<extra></extra>",
         "legendgroup": "Electrical, electronics and computer engineers",
         "marker": {
          "color": "#FFA15A",
          "line": {
           "color": "DarkSlateGrey",
           "width": 2
          },
          "size": 12,
          "symbol": "circle"
         },
         "mode": "markers",
         "name": "Electrical, electronics and computer engineers",
         "orientation": "v",
         "showlegend": true,
         "type": "scatter",
         "x": [
          "Electrical, electronics and computer engineers"
         ],
         "xaxis": "x",
         "y": [
          104800
         ],
         "yaxis": "y"
        },
        {
         "hovertemplate": "Occupation=%{x}<br>Average employment income=%{y}<extra></extra>",
         "legendgroup": "Computer engineers (except software engineers and designers)",
         "marker": {
          "color": "#19d3f3",
          "line": {
           "color": "DarkSlateGrey",
           "width": 2
          },
          "size": 12,
          "symbol": "circle"
         },
         "mode": "markers",
         "name": "Computer engineers (except software engineers and designers)",
         "orientation": "v",
         "showlegend": true,
         "type": "scatter",
         "x": [
          "Computer engineers (except software engineers and designers)"
         ],
         "xaxis": "x",
         "y": [
          110100
         ],
         "yaxis": "y"
        },
        {
         "hovertemplate": "Occupation=%{x}<br>Average employment income=%{y}<extra></extra>",
         "legendgroup": "Technical occupations in computer and information systems",
         "marker": {
          "color": "#FF6692",
          "line": {
           "color": "DarkSlateGrey",
           "width": 2
          },
          "size": 12,
          "symbol": "circle"
         },
         "mode": "markers",
         "name": "Technical occupations in computer and information systems",
         "orientation": "v",
         "showlegend": true,
         "type": "scatter",
         "x": [
          "Technical occupations in computer and information systems"
         ],
         "xaxis": "x",
         "y": [
          61300
         ],
         "yaxis": "y"
        },
        {
         "hovertemplate": "Occupation=%{x}<br>Average employment income=%{y}<extra></extra>",
         "legendgroup": "Computer network and web technicians",
         "marker": {
          "color": "#B6E880",
          "line": {
           "color": "DarkSlateGrey",
           "width": 2
          },
          "size": 12,
          "symbol": "circle"
         },
         "mode": "markers",
         "name": "Computer network and web technicians",
         "orientation": "v",
         "showlegend": true,
         "type": "scatter",
         "x": [
          "Computer network and web technicians"
         ],
         "xaxis": "x",
         "y": [
          66700
         ],
         "yaxis": "y"
        }
       ],
       "layout": {
        "annotations": [
         {
          "font": {
           "size": 14
          },
          "showarrow": false,
          "text": "Occupation",
          "x": 0.5,
          "xref": "paper",
          "y": -0.1,
          "yref": "paper"
         }
        ],
        "legend": {
         "title": {
          "text": "Occupation"
         },
         "tracegroupgap": 0
        },
        "showlegend": false,
        "template": {
         "data": {
          "bar": [
           {
            "error_x": {
             "color": "#2a3f5f"
            },
            "error_y": {
             "color": "#2a3f5f"
            },
            "marker": {
             "line": {
              "color": "#E5ECF6",
              "width": 0.5
             },
             "pattern": {
              "fillmode": "overlay",
              "size": 10,
              "solidity": 0.2
             }
            },
            "type": "bar"
           }
          ],
          "barpolar": [
           {
            "marker": {
             "line": {
              "color": "#E5ECF6",
              "width": 0.5
             },
             "pattern": {
              "fillmode": "overlay",
              "size": 10,
              "solidity": 0.2
             }
            },
            "type": "barpolar"
           }
          ],
          "carpet": [
           {
            "aaxis": {
             "endlinecolor": "#2a3f5f",
             "gridcolor": "white",
             "linecolor": "white",
             "minorgridcolor": "white",
             "startlinecolor": "#2a3f5f"
            },
            "baxis": {
             "endlinecolor": "#2a3f5f",
             "gridcolor": "white",
             "linecolor": "white",
             "minorgridcolor": "white",
             "startlinecolor": "#2a3f5f"
            },
            "type": "carpet"
           }
          ],
          "choropleth": [
           {
            "colorbar": {
             "outlinewidth": 0,
             "ticks": ""
            },
            "type": "choropleth"
           }
          ],
          "contour": [
           {
            "colorbar": {
             "outlinewidth": 0,
             "ticks": ""
            },
            "colorscale": [
             [
              0,
              "#0d0887"
             ],
             [
              0.1111111111111111,
              "#46039f"
             ],
             [
              0.2222222222222222,
              "#7201a8"
             ],
             [
              0.3333333333333333,
              "#9c179e"
             ],
             [
              0.4444444444444444,
              "#bd3786"
             ],
             [
              0.5555555555555556,
              "#d8576b"
             ],
             [
              0.6666666666666666,
              "#ed7953"
             ],
             [
              0.7777777777777778,
              "#fb9f3a"
             ],
             [
              0.8888888888888888,
              "#fdca26"
             ],
             [
              1,
              "#f0f921"
             ]
            ],
            "type": "contour"
           }
          ],
          "contourcarpet": [
           {
            "colorbar": {
             "outlinewidth": 0,
             "ticks": ""
            },
            "type": "contourcarpet"
           }
          ],
          "heatmap": [
           {
            "colorbar": {
             "outlinewidth": 0,
             "ticks": ""
            },
            "colorscale": [
             [
              0,
              "#0d0887"
             ],
             [
              0.1111111111111111,
              "#46039f"
             ],
             [
              0.2222222222222222,
              "#7201a8"
             ],
             [
              0.3333333333333333,
              "#9c179e"
             ],
             [
              0.4444444444444444,
              "#bd3786"
             ],
             [
              0.5555555555555556,
              "#d8576b"
             ],
             [
              0.6666666666666666,
              "#ed7953"
             ],
             [
              0.7777777777777778,
              "#fb9f3a"
             ],
             [
              0.8888888888888888,
              "#fdca26"
             ],
             [
              1,
              "#f0f921"
             ]
            ],
            "type": "heatmap"
           }
          ],
          "heatmapgl": [
           {
            "colorbar": {
             "outlinewidth": 0,
             "ticks": ""
            },
            "colorscale": [
             [
              0,
              "#0d0887"
             ],
             [
              0.1111111111111111,
              "#46039f"
             ],
             [
              0.2222222222222222,
              "#7201a8"
             ],
             [
              0.3333333333333333,
              "#9c179e"
             ],
             [
              0.4444444444444444,
              "#bd3786"
             ],
             [
              0.5555555555555556,
              "#d8576b"
             ],
             [
              0.6666666666666666,
              "#ed7953"
             ],
             [
              0.7777777777777778,
              "#fb9f3a"
             ],
             [
              0.8888888888888888,
              "#fdca26"
             ],
             [
              1,
              "#f0f921"
             ]
            ],
            "type": "heatmapgl"
           }
          ],
          "histogram": [
           {
            "marker": {
             "pattern": {
              "fillmode": "overlay",
              "size": 10,
              "solidity": 0.2
             }
            },
            "type": "histogram"
           }
          ],
          "histogram2d": [
           {
            "colorbar": {
             "outlinewidth": 0,
             "ticks": ""
            },
            "colorscale": [
             [
              0,
              "#0d0887"
             ],
             [
              0.1111111111111111,
              "#46039f"
             ],
             [
              0.2222222222222222,
              "#7201a8"
             ],
             [
              0.3333333333333333,
              "#9c179e"
             ],
             [
              0.4444444444444444,
              "#bd3786"
             ],
             [
              0.5555555555555556,
              "#d8576b"
             ],
             [
              0.6666666666666666,
              "#ed7953"
             ],
             [
              0.7777777777777778,
              "#fb9f3a"
             ],
             [
              0.8888888888888888,
              "#fdca26"
             ],
             [
              1,
              "#f0f921"
             ]
            ],
            "type": "histogram2d"
           }
          ],
          "histogram2dcontour": [
           {
            "colorbar": {
             "outlinewidth": 0,
             "ticks": ""
            },
            "colorscale": [
             [
              0,
              "#0d0887"
             ],
             [
              0.1111111111111111,
              "#46039f"
             ],
             [
              0.2222222222222222,
              "#7201a8"
             ],
             [
              0.3333333333333333,
              "#9c179e"
             ],
             [
              0.4444444444444444,
              "#bd3786"
             ],
             [
              0.5555555555555556,
              "#d8576b"
             ],
             [
              0.6666666666666666,
              "#ed7953"
             ],
             [
              0.7777777777777778,
              "#fb9f3a"
             ],
             [
              0.8888888888888888,
              "#fdca26"
             ],
             [
              1,
              "#f0f921"
             ]
            ],
            "type": "histogram2dcontour"
           }
          ],
          "mesh3d": [
           {
            "colorbar": {
             "outlinewidth": 0,
             "ticks": ""
            },
            "type": "mesh3d"
           }
          ],
          "parcoords": [
           {
            "line": {
             "colorbar": {
              "outlinewidth": 0,
              "ticks": ""
             }
            },
            "type": "parcoords"
           }
          ],
          "pie": [
           {
            "automargin": true,
            "type": "pie"
           }
          ],
          "scatter": [
           {
            "fillpattern": {
             "fillmode": "overlay",
             "size": 10,
             "solidity": 0.2
            },
            "type": "scatter"
           }
          ],
          "scatter3d": [
           {
            "line": {
             "colorbar": {
              "outlinewidth": 0,
              "ticks": ""
             }
            },
            "marker": {
             "colorbar": {
              "outlinewidth": 0,
              "ticks": ""
             }
            },
            "type": "scatter3d"
           }
          ],
          "scattercarpet": [
           {
            "marker": {
             "colorbar": {
              "outlinewidth": 0,
              "ticks": ""
             }
            },
            "type": "scattercarpet"
           }
          ],
          "scattergeo": [
           {
            "marker": {
             "colorbar": {
              "outlinewidth": 0,
              "ticks": ""
             }
            },
            "type": "scattergeo"
           }
          ],
          "scattergl": [
           {
            "marker": {
             "colorbar": {
              "outlinewidth": 0,
              "ticks": ""
             }
            },
            "type": "scattergl"
           }
          ],
          "scattermapbox": [
           {
            "marker": {
             "colorbar": {
              "outlinewidth": 0,
              "ticks": ""
             }
            },
            "type": "scattermapbox"
           }
          ],
          "scatterpolar": [
           {
            "marker": {
             "colorbar": {
              "outlinewidth": 0,
              "ticks": ""
             }
            },
            "type": "scatterpolar"
           }
          ],
          "scatterpolargl": [
           {
            "marker": {
             "colorbar": {
              "outlinewidth": 0,
              "ticks": ""
             }
            },
            "type": "scatterpolargl"
           }
          ],
          "scatterternary": [
           {
            "marker": {
             "colorbar": {
              "outlinewidth": 0,
              "ticks": ""
             }
            },
            "type": "scatterternary"
           }
          ],
          "surface": [
           {
            "colorbar": {
             "outlinewidth": 0,
             "ticks": ""
            },
            "colorscale": [
             [
              0,
              "#0d0887"
             ],
             [
              0.1111111111111111,
              "#46039f"
             ],
             [
              0.2222222222222222,
              "#7201a8"
             ],
             [
              0.3333333333333333,
              "#9c179e"
             ],
             [
              0.4444444444444444,
              "#bd3786"
             ],
             [
              0.5555555555555556,
              "#d8576b"
             ],
             [
              0.6666666666666666,
              "#ed7953"
             ],
             [
              0.7777777777777778,
              "#fb9f3a"
             ],
             [
              0.8888888888888888,
              "#fdca26"
             ],
             [
              1,
              "#f0f921"
             ]
            ],
            "type": "surface"
           }
          ],
          "table": [
           {
            "cells": {
             "fill": {
              "color": "#EBF0F8"
             },
             "line": {
              "color": "white"
             }
            },
            "header": {
             "fill": {
              "color": "#C8D4E3"
             },
             "line": {
              "color": "white"
             }
            },
            "type": "table"
           }
          ]
         },
         "layout": {
          "annotationdefaults": {
           "arrowcolor": "#2a3f5f",
           "arrowhead": 0,
           "arrowwidth": 1
          },
          "autotypenumbers": "strict",
          "coloraxis": {
           "colorbar": {
            "outlinewidth": 0,
            "ticks": ""
           }
          },
          "colorscale": {
           "diverging": [
            [
             0,
             "#8e0152"
            ],
            [
             0.1,
             "#c51b7d"
            ],
            [
             0.2,
             "#de77ae"
            ],
            [
             0.3,
             "#f1b6da"
            ],
            [
             0.4,
             "#fde0ef"
            ],
            [
             0.5,
             "#f7f7f7"
            ],
            [
             0.6,
             "#e6f5d0"
            ],
            [
             0.7,
             "#b8e186"
            ],
            [
             0.8,
             "#7fbc41"
            ],
            [
             0.9,
             "#4d9221"
            ],
            [
             1,
             "#276419"
            ]
           ],
           "sequential": [
            [
             0,
             "#0d0887"
            ],
            [
             0.1111111111111111,
             "#46039f"
            ],
            [
             0.2222222222222222,
             "#7201a8"
            ],
            [
             0.3333333333333333,
             "#9c179e"
            ],
            [
             0.4444444444444444,
             "#bd3786"
            ],
            [
             0.5555555555555556,
             "#d8576b"
            ],
            [
             0.6666666666666666,
             "#ed7953"
            ],
            [
             0.7777777777777778,
             "#fb9f3a"
            ],
            [
             0.8888888888888888,
             "#fdca26"
            ],
            [
             1,
             "#f0f921"
            ]
           ],
           "sequentialminus": [
            [
             0,
             "#0d0887"
            ],
            [
             0.1111111111111111,
             "#46039f"
            ],
            [
             0.2222222222222222,
             "#7201a8"
            ],
            [
             0.3333333333333333,
             "#9c179e"
            ],
            [
             0.4444444444444444,
             "#bd3786"
            ],
            [
             0.5555555555555556,
             "#d8576b"
            ],
            [
             0.6666666666666666,
             "#ed7953"
            ],
            [
             0.7777777777777778,
             "#fb9f3a"
            ],
            [
             0.8888888888888888,
             "#fdca26"
            ],
            [
             1,
             "#f0f921"
            ]
           ]
          },
          "colorway": [
           "#636efa",
           "#EF553B",
           "#00cc96",
           "#ab63fa",
           "#FFA15A",
           "#19d3f3",
           "#FF6692",
           "#B6E880",
           "#FF97FF",
           "#FECB52"
          ],
          "font": {
           "color": "#2a3f5f"
          },
          "geo": {
           "bgcolor": "white",
           "lakecolor": "white",
           "landcolor": "#E5ECF6",
           "showlakes": true,
           "showland": true,
           "subunitcolor": "white"
          },
          "hoverlabel": {
           "align": "left"
          },
          "hovermode": "closest",
          "mapbox": {
           "style": "light"
          },
          "paper_bgcolor": "white",
          "plot_bgcolor": "#E5ECF6",
          "polar": {
           "angularaxis": {
            "gridcolor": "white",
            "linecolor": "white",
            "ticks": ""
           },
           "bgcolor": "#E5ECF6",
           "radialaxis": {
            "gridcolor": "white",
            "linecolor": "white",
            "ticks": ""
           }
          },
          "scene": {
           "xaxis": {
            "backgroundcolor": "#E5ECF6",
            "gridcolor": "white",
            "gridwidth": 2,
            "linecolor": "white",
            "showbackground": true,
            "ticks": "",
            "zerolinecolor": "white"
           },
           "yaxis": {
            "backgroundcolor": "#E5ECF6",
            "gridcolor": "white",
            "gridwidth": 2,
            "linecolor": "white",
            "showbackground": true,
            "ticks": "",
            "zerolinecolor": "white"
           },
           "zaxis": {
            "backgroundcolor": "#E5ECF6",
            "gridcolor": "white",
            "gridwidth": 2,
            "linecolor": "white",
            "showbackground": true,
            "ticks": "",
            "zerolinecolor": "white"
           }
          },
          "shapedefaults": {
           "line": {
            "color": "#2a3f5f"
           }
          },
          "ternary": {
           "aaxis": {
            "gridcolor": "white",
            "linecolor": "white",
            "ticks": ""
           },
           "baxis": {
            "gridcolor": "white",
            "linecolor": "white",
            "ticks": ""
           },
           "bgcolor": "#E5ECF6",
           "caxis": {
            "gridcolor": "white",
            "linecolor": "white",
            "ticks": ""
           }
          },
          "title": {
           "x": 0.05
          },
          "xaxis": {
           "automargin": true,
           "gridcolor": "white",
           "linecolor": "white",
           "ticks": "",
           "title": {
            "standoff": 15
           },
           "zerolinecolor": "white",
           "zerolinewidth": 2
          },
          "yaxis": {
           "automargin": true,
           "gridcolor": "white",
           "linecolor": "white",
           "ticks": "",
           "title": {
            "standoff": 15
           },
           "zerolinecolor": "white",
           "zerolinewidth": 2
          }
         }
        },
        "title": {
         "text": "Average employment salary by Occupation"
        },
        "xaxis": {
         "anchor": "y",
         "categoryarray": [
          "Computer and information systems managers",
          "Computer and information systems professionals",
          "Computer, software and Web designers and developers",
          "Computer systems developers and programmers",
          "Electrical, electronics and computer engineers",
          "Computer engineers (except software engineers and designers)",
          "Technical occupations in computer and information systems",
          "Computer network and web technicians"
         ],
         "categoryorder": "array",
         "domain": [
          0,
          1
         ],
         "showticklabels": false,
         "title": {}
        },
        "yaxis": {
         "anchor": "x",
         "domain": [
          0,
          1
         ],
         "title": {
          "text": "Average employment income"
         }
        }
       }
      }
     },
     "metadata": {},
     "output_type": "display_data"
    }
   ],
   "source": [
    "# ✏️ Change search_job to any job you would like to research more about in the dataset above\n",
    "search_job = 'computer'\n",
    "\n",
    "filtered_df = dataset[dataset['Occupation'].str.contains(search_job, case=False)][['Occupation', 'Average employment income']]\n",
    "\n",
    "jobs_fig = px.scatter(\n",
    "    filtered_df,\n",
    "    x='Occupation',\n",
    "    y='Average employment income',\n",
    "    color='Occupation',\n",
    "    title=\"Average employment salary by occupation (hover for occupation)\"\n",
    "\n",
    ")\n",
    "jobs_fig.update_xaxes(showticklabels=False)\n",
    "jobs_fig.update_layout(xaxis_title=None, showlegend=False)\n",
    "\n",
    "jobs_fig.update_traces(marker=dict(size=12,line=dict(width=2,color='DarkSlateGrey')),selector=dict(mode='markers'))\n",
    "jobs_fig.add_annotation(text='Occupation',xref='paper',yref='paper',x=0.5,y=-0.1,showarrow=False,font=dict(size=14))\n",
    "jobs_fig.show()"
   ]
  },
  {
   "cell_type": "markdown",
   "metadata": {},
   "source": [
    "✏️ Visualizing the average salaries of all job-types across Canada helps to give a better perspective of wages in Canada."
   ]
  },
  {
   "cell_type": "code",
   "execution_count": null,
   "metadata": {},
   "outputs": [],
   "source": [
    "# Comparing 2 jobs salaries by occupation \n",
    "# ✏️ Edit occupation_1 and occupation_2 below to occupations that you'd like to compare\n",
    "occupation_1 = 'physician'\n",
    "occupation_2 = 'lawyer'\n",
    "\n",
    "filtered_df = dataset[dataset['Occupation'].str.contains(occupation_1, case=False)][['Occupation', 'Average employment income']]\n",
    "filtered_df2 = dataset[dataset['Occupation'].str.contains(occupation_2, case=False)][['Occupation', 'Average employment income']]\n",
    "\n",
    "merged_df = pd.concat([filtered_df, filtered_df2])\n",
    "\n",
    "occupation_fig = px.scatter(\n",
    "    merged_df,\n",
    "    x=\"Occupation\",\n",
    "    y=\"Average employment income\",\n",
    "    color=\"Occupation\",\n",
    ").show()"
   ]
  },
  {
   "cell_type": "markdown",
   "metadata": {},
   "source": [
    "📗 Select a salary range that you'd like to achieve. Based on the range, you will be presented 15 different potential job opportunities that may interest you. \n",
    "\n",
    "The slider (✏️) can be adjusted in the widget output below."
   ]
  },
  {
   "cell_type": "code",
   "execution_count": null,
   "metadata": {},
   "outputs": [],
   "source": [
    "salary_range = create_widget('IntRangeSlider','Range of Salary that I want to make:',[0,100000],0,250000,2500)\n",
    "box = widgets.VBox([salary_range])\n",
    "\n",
    "display(box)"
   ]
  },
  {
   "cell_type": "code",
   "execution_count": null,
   "metadata": {},
   "outputs": [],
   "source": [
    "min_salary, max_salary = salary_range.value\n",
    "\n",
    "filtered_dataset = dataset[\n",
    "    (dataset['Average employment income'] >= min_salary) &\n",
    "    (dataset['Average employment income'] <= max_salary)\n",
    "]\n",
    "\n",
    "# List the top 15 rows of the filtered DataFrame\n",
    "top_15 = filtered_dataset.sample(15)[['Occupation', \"Average employment income\"]]\n",
    "\n",
    "# Display the top 15 rows\n",
    "display(top_15.reset_index(drop=True))\n",
    "salary_btn = widgets.Button(description='Click when Finished')"
   ]
  },
  {
   "cell_type": "markdown",
   "metadata": {},
   "source": [
    "✏️ Edit the values of **wagePerHour**, **hoursPerDay**, and **workdaysPerMonth** to calculate your gross income (total earnings before taxes and/or other deductions), government deductions, and net income (earnings after/or other deductions)"
   ]
  },
  {
   "cell_type": "code",
   "execution_count": null,
   "metadata": {},
   "outputs": [],
   "source": [
    "# Create a widget for this portion\n",
    "\n",
    "# ✏️ Edit the values below to accurately reflect your wage, hours worked, and days worked per month\n",
    "wagePerHour = 15  # this is your wage in $/hour\n",
    "hoursPerDay = 8\n",
    "workdaysPerMonth = 21\n",
    "\n",
    "grossIncome = wagePerHour * hoursPerDay * workdaysPerMonth\n",
    "print('Your gross income is $', grossIncome, 'per month.')\n",
    "\n",
    "incomeTax = .15 + .10   # assume federal income tax is 15% and provincial is 10%\n",
    "cpp = .0595             # assume Canada Pension Plan is 5.95%\n",
    "ei = .0163             # assume Employment Insurance is 1.63%\n",
    "unionDues = .0075       # 0.75% sounds reasonable for union dues\n",
    "\n",
    "deductions = grossIncome * (incomeTax + cpp + ei + unionDues)\n",
    "print('$', '{:.2f}'.format(deductions), ' will be taken off your paycheck.')\n",
    "\n",
    "netIncome = grossIncome - deductions\n",
    "print('Your net income is $', '{:.2f}'.format(netIncome), 'per month.')\n",
    "\n",
    "# store that value in memory for later notebooks\n",
    "%store netIncome"
   ]
  },
  {
   "cell_type": "markdown",
   "metadata": {},
   "source": [
    "## Graphing Income\n",
    "📗\n",
    "We can also look at how your net income (take-home pay) changes based on your hourly wage. We will use [2023 taxation rates](https://www.canada.ca/en/revenue-agency/services/tax/individuals/frequently-asked-questions-individuals/canadian-income-tax-rates-individuals-current-previous-years.html) as well as [EI](https://www.canada.ca/en/revenue-agency/services/tax/businesses/topics/payroll/payroll-deductions-contributions/employment-insurance-ei/ei-premium-rates-maximums.html) and [CPP](https://www.canada.ca/en/revenue-agency/services/tax/businesses/topics/payroll/payroll-deductions-contributions/canada-pension-plan-cpp/cpp-contribution-rates-maximums-exemptions.html) rates. `Run` the cell below (without editing it) to generate a graph. \n",
    "</div>"
   ]
  },
  {
   "cell_type": "code",
   "execution_count": null,
   "metadata": {},
   "outputs": [],
   "source": [
    "wages = []\n",
    "grossIncomes = []\n",
    "netIncomes = []\n",
    "\n",
    "for wage in range(15, 250):\n",
    "    wages.append(wage)\n",
    "    grossAnnualIncome = wage * 8 * 240\n",
    "    grossIncomes.append(grossAnnualIncome)\n",
    "    incomeTax = calculateFederalTax(grossAnnualIncome) + calculateProvincialTax(grossAnnualIncome)\n",
    "    eiPremium = calculateEI(grossAnnualIncome)\n",
    "    cppPremium = calculateCPP(grossAnnualIncome)\n",
    "    netIncome = grossAnnualIncome - (incomeTax + eiPremium + cppPremium)\n",
    "    netIncomes.append(netIncome)\n",
    "\n",
    "import plotly.graph_objects as go\n",
    "fig = go.Figure()\n",
    "fig.add_trace(go.Scatter(x=wages, y=grossIncomes, name='Gross Income'))\n",
    "fig.add_trace(go.Scatter(x=wages, y=netIncomes, name='Net Income'))\n",
    "fig.update_layout(\n",
    "    title=go.layout.Title(text='Net Income vs Hourly Wage'),\n",
    "    xaxis=go.layout.XAxis(title=go.layout.xaxis.Title(text='Hourly Wage')),\n",
    "    yaxis=go.layout.YAxis(title=go.layout.yaxis.Title(text='Income')))\n",
    "fig.show()"
   ]
  },
  {
   "cell_type": "markdown",
   "metadata": {},
   "source": [
    "📗 The graph shows that the difference between gross income and net income (after deductions) increases as wage increases. For more information about this, you may want to read about [progressive taxation](https://en.wikipedia.org/wiki/Progressive_tax). Feel free to scroll/zoom\n",
    "\n",
    "You have now completed this section. Proceed to [section 3](./CALM-moving-out-3.ipynb)"
   ]
  },
  {
   "cell_type": "markdown",
   "metadata": {},
   "source": [
    "[![Callysto.ca License](https://github.com/callysto/curriculum-notebooks/blob/master/callysto-notebook-banner-bottom.jpg?raw=true)](https://github.com/callysto/curriculum-notebooks/blob/master/LICENSE.md)"
   ]
  }
 ],
 "metadata": {
  "kernelspec": {
   "display_name": "Python 3",
   "language": "python",
   "name": "python3"
  },
  "language_info": {
   "codemirror_mode": {
    "name": "ipython",
    "version": 3
   },
   "file_extension": ".py",
   "mimetype": "text/x-python",
   "name": "python",
   "nbconvert_exporter": "python",
   "pygments_lexer": "ipython3",
   "version": "3.10.8"
  }
 },
 "nbformat": 4,
 "nbformat_minor": 2
}
