{
 "cells": [
  {
   "cell_type": "markdown",
   "metadata": {},
   "source": [
    "![Callysto.ca Banner](https://github.com/callysto/curriculum-notebooks/blob/master/callysto-notebook-banner-top.jpg?raw=true)\n",
    "\n",
    "<a href=\"https://hub.callysto.ca/jupyter/hub/user-redirect/git-pull?repo=https%3A%2F%2Fgithub.com%2Fcallysto%2Fcurriculum-notebooks&branch=master&subPath=Health/AsthmaRates/asthma-rates.ipynb&depth=1\" target=\"_parent\"><img src=\"https://raw.githubusercontent.com/callysto/curriculum-notebooks/master/open-in-callysto-button.svg?sanitize=true\" width=\"123\" height=\"24\" alt=\"Open in Callysto\"/></a>"
   ]
  },
  {
   "cell_type": "markdown",
   "metadata": {},
   "source": [
    "# Asthma Incidence Rate in Alberta\n",
    "\n",
    "We are going to use data from the [Alberta Interactive Health Data Application](http://www.ahw.gov.ab.ca/IHDA_Retrieval) to investigate how many people in Alberta have [asthma](https://en.wikipedia.org/wiki/Asthma).\n",
    "\n",
    "We will look at **incidence**, the number of new cases, and **prevalence**, the number of people with the condition. Both of these will be **rates**, meaning that they are per 1000 people in the population. For more information about the data, check out the [data notes](http://www.ahw.gov.ab.ca/IHDA_Retrieval/ShowMetaDataNotesServlet?3133).\n",
    "\n",
    "The `Asthma - Age-Sex Specific Incidence Rate` data have been downloaded from that website as a CSV file, `▶Run` the following code cell to import and describe the data that we will use to make some visualizations."
   ]
  },
  {
   "cell_type": "code",
   "execution_count": null,
   "metadata": {},
   "outputs": [],
   "source": [
    "import pandas as pd\n",
    "dfi = pd.read_csv('https://raw.githubusercontent.com/callysto/data-files/main/Health/AsthmaRates/asthma-alberta-2004-2019.csv')\n",
    "dfi.describe()"
   ]
  },
  {
   "cell_type": "markdown",
   "metadata": {},
   "source": [
    "## Animated Bar Graph\n",
    "\n",
    "Now that we have the data imported, let's create a bar graph of `Incidence Rate` versus `Age` animated by year."
   ]
  },
  {
   "cell_type": "code",
   "execution_count": null,
   "metadata": {},
   "outputs": [],
   "source": [
    "import plotly.express as px\n",
    "fig = px.bar(dfi, x='Age', y='Incidence Rate', animation_frame='Year', color='Sex', barmode='group')\n",
    "fig.update_layout(title='Asthma Incidence Rate in Alberta')\n",
    "fig.update_layout(yaxis_range=[0,dfi['Incidence Rate'].max()])\n",
    "fig.show()"
   ]
  },
  {
   "cell_type": "markdown",
   "metadata": {},
   "source": [
    "## Line Graph\n",
    "\n",
    "The animated bar chart was interesting, but it isn't easy to see if the number of people diagnosed with asthma is increasing or decreasing. Let's create a line graph."
   ]
  },
  {
   "cell_type": "code",
   "execution_count": null,
   "metadata": {},
   "outputs": [],
   "source": [
    "px.line(dfi[dfi['Sex']=='BOTH'], x='Year', y='Incidence Rate', color='Age', title='Asthma Incidence Rate in Alberta')"
   ]
  },
  {
   "cell_type": "markdown",
   "metadata": {},
   "source": [
    "If you double-click on `ALL` in the legend on the right, you'll see just that line. It shows us that in general the incidence rate of asthma in Alberta decreased over this time period.\n",
    "\n",
    "Can you see any age ranges or time periods over which it increased?\n",
    "\n",
    "## Data by Zone\n",
    "\n",
    "We can also import a data set that includes asthma prevalence rate by [AHS Zone](https://www.albertahealthservices.ca/ahs-map-ahs-zones.pdf).\n",
    "\n",
    "|Zone|Area|\n",
    "|-|-|\n",
    "|Z1|South|\n",
    "|Z2|Calgary|\n",
    "|Z3|Central|\n",
    "|Z4|Edmonton|\n",
    "|Z5|North|\n",
    "\n",
    "Let's import these data and create a line graph. We will filter the data by `Age` (`ALL`) and `Sex` (`BOTH`)."
   ]
  },
  {
   "cell_type": "code",
   "execution_count": null,
   "metadata": {},
   "outputs": [],
   "source": [
    "dfp = pd.read_csv('https://raw.githubusercontent.com/callysto/data-files/main/Health/AsthmaRates/asthma-alberta-zones-2004-2019.csv')\n",
    "data_to_graph = dfp[(dfp['Age']=='ALL') & (dfp['Sex']=='BOTH')]\n",
    "px.line(data_to_graph, x='Year', y='Prevalence Rate', color='Geography', title='Asthma Prevalence in Alberta')"
   ]
  },
  {
   "cell_type": "markdown",
   "metadata": {},
   "source": [
    "We can see that the prevalence increases over this time period. However we noted before that the incidence was decreasing, how do we explain this?\n",
    "\n",
    "Think back to the definitions of incidence and prevalence. Since incidence is the number of new cases, it should relate to the slope of the prevalence graph.\n",
    "\n",
    "## Comparing Incidence and Prevalence\n",
    "\n",
    "Let's compare incidence and prevalence over time by merging the data sets together. Since the `Prevalence Rate` values are much smaller, we will multiply them by a factor (the ratio of the averages of the two columns) in order to show them on the same scale."
   ]
  },
  {
   "cell_type": "code",
   "execution_count": null,
   "metadata": {},
   "outputs": [],
   "source": [
    "age = 'ALL'  # or '00to39','40to44','45to49','50to54','55to59','60to64','65to69','70to74','75to79','80to84','85+'\n",
    "sex = 'BOTH'  # or 'FEMALE' or 'MALE'\n",
    "i39 = dfi[(dfi['Age']==age) & (dfi['Sex']==sex)]\n",
    "p39 = dfp[(dfp['Age']==age) & (dfp['Geography']=='AB') & (dfp['Sex']==sex)]\n",
    "cdf = pd.merge(i39, p39, on='Year')\n",
    "cdf['Multiplied Prevalence Rate'] = cdf['Prevalence Rate']*cdf['Incidence Rate'].mean()/cdf['Prevalence Rate'].mean()\n",
    "px.line(cdf, x='Year', y=['Incidence Rate','Multiplied Prevalence Rate'], title='Asthma in Alberta ('+sex+' '+age+')')"
   ]
  },
  {
   "cell_type": "markdown",
   "metadata": {},
   "source": [
    "We can see that the two spikes in `Incident Rate` (2005 and 2010) corresponded to a steeper slope in `Prevalence Rate`. However the data for 2015 to 2019 may be harder to explain. What other factors do you think might affect the data about the prevalence rate of asthma in Alberta?\n",
    "\n",
    "Try changing the values of `age` and `sex` in the code above to see what effect those have on the graph.\n",
    "\n",
    "## Treemap\n",
    "\n",
    "We can also visualize these data using an interactive [treemap](https://en.wikipedia.org/wiki/Treemapping) or [sunburst](https://en.wikipedia.org/wiki/Pie_chart#Ring) chart. Again we will use the Alberta Health Services zones.\n",
    "\n",
    "|Zone|Area|\n",
    "|-|-|\n",
    "|Z1|South|\n",
    "|Z2|Calgary|\n",
    "|Z3|Central|\n",
    "|Z4|Edmonton|\n",
    "|Z5|North|\n",
    "\n",
    "Click on different parts of the charts to see what happens. You can try changing the order of the columns in the `path =` variable, and even try removing the `#` in front of `color='Age',`."
   ]
  },
  {
   "cell_type": "code",
   "execution_count": null,
   "metadata": {},
   "outputs": [],
   "source": [
    "tdfp = dfp[(dfp['Geography']!='AB') & (dfp['Sex']!='BOTH') & (dfp['Age']!='ALL')]\n",
    "px.treemap(tdfp, values='Prevalence Rate', \n",
    "           path=['Geography', 'Year', 'Age', 'Sex'], \n",
    "           #color = 'Age', \n",
    "           title='Alberta Asthma Prevalence')"
   ]
  },
  {
   "cell_type": "code",
   "execution_count": null,
   "metadata": {},
   "outputs": [],
   "source": [
    "px.sunburst(tdfp, values='Prevalence Rate', \n",
    "            path = ['Geography', 'Age', 'Year', 'Sex'], \n",
    "            color = 'Year',\n",
    "            title='Alberta Asthma Prevalence')"
   ]
  },
  {
   "cell_type": "markdown",
   "metadata": {},
   "source": [
    "\n",
    "\n",
    "## Conclusion\n",
    "\n",
    "In this notebook we investigated the incidence and prevalence of asthma using Alberta Health Services data for 2004 to 2019 and visualized the data using animated bars, lines, sunbursts, and treemaps. \n",
    "\n",
    "As an extension of this activity, try downloading and visualizing other data sets from the [Alberta Interactive Health Data Application](http://www.ahw.gov.ab.ca/IHDA_Retrieval)."
   ]
  },
  {
   "cell_type": "markdown",
   "metadata": {},
   "source": [
    "[![Callysto.ca License](https://github.com/callysto/curriculum-notebooks/blob/master/callysto-notebook-banner-bottom.jpg?raw=true)](https://github.com/callysto/curriculum-notebooks/blob/master/LICENSE.md)"
   ]
  }
 ],
 "metadata": {
  "interpreter": {
   "hash": "d1ca6d17674200220921376aaeb3d36cffe15ecab2470a9a5e7a456cdbf61425"
  },
  "kernelspec": {
   "display_name": "Python 3.10.1 64-bit",
   "language": "python",
   "name": "python3"
  },
  "language_info": {
   "codemirror_mode": {
    "name": "ipython",
    "version": 3
   },
   "file_extension": ".py",
   "mimetype": "text/x-python",
   "name": "python",
   "nbconvert_exporter": "python",
   "pygments_lexer": "ipython3",
   "version": "3.10.1"
  }
 },
 "nbformat": 4,
 "nbformat_minor": 2
}
