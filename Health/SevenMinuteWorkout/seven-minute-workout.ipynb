{
 "cells": [
  {
   "cell_type": "markdown",
   "metadata": {},
   "source": [
    "![Callysto.ca Banner](https://github.com/callysto/curriculum-notebooks/blob/master/callysto-notebook-banner-top.jpg?raw=true)\n",
    "\n",
    "<a href=\"https://hub.callysto.ca/jupyter/hub/user-redirect/git-pull?repo=https%3A%2F%2Fgithub.com%2Fcallysto%2Fcurriculum-notebooks&branch=master&subPath=Health/SevenMinuteWorkout/seven-minute-workout.ipynb&depth=1\" target=\"_parent\"><img src=\"https://raw.githubusercontent.com/callysto/curriculum-notebooks/master/open-in-callysto-button.svg?sanitize=true\" width=\"123\" height=\"24\" alt=\"Open in Callysto\"/></a>"
   ]
  },
  {
   "cell_type": "markdown",
   "metadata": {},
   "source": [
    "# Seven-Minute Workout\n",
    "\n",
    "This is a popular exercise routine originally published as [High Intensity Circuit Training Using Body Weight](https://journals.lww.com/acsm-healthfitness/Fulltext/2013/05000/HIGH_INTENSITY_CIRCUIT_TRAINING_USING_BODY_WEIGHT_.5.aspx). It is designed to be a combination of resistance training with aerobic (cardiovascular) exercises that work out different parts of your body quickly without specialized equipment.\n",
    "\n",
    "Exercise|Image (from [Noun Project](https://thenounproject.com))\n",
    "-|-\n",
    "Jumping Jacks|<img src=\"images/noun_jumping_jack_1104981.png\" width=\"100\">\n",
    "Wall Sit|<img src=\"images/noun_Wall_sit_1049442.png\" width=\"100\">\n",
    "Push-ups|<img src=\"images/noun_push_up_82170.png\" width=\"100\">\n",
    "Abdominal Crunches|<img src=\"images/noun_toe_crunches_2748095.png\" width=\"100\">\n",
    "Step-up onto chair|<img src=\"images/noun_chair_step_up_2748085.png\" width=\"100\">\n",
    "Squat|<img src=\"images/noun_Plie_Squats_1049443.png\" width=\"100\">\n",
    "Triceps dip on chair|<img src=\"images/noun_Bench_Dips_784326.png\" width=\"100\">\n",
    "Plank|<img src=\"images/noun_plank_2746730.png\" width=\"100\">\n",
    "High Knees Running in Place|<img src=\"images/noun_high_knees_exercise_2748093.png\" width=\"100\">\n",
    "Lunge|<img src=\"images/noun_lunge_2748087.png\" width=\"100\">\n",
    "Push-up and Rotation|<img src=\"images/noun_elevated_side_plank_2748196.png\" width=\"100\">\n",
    "Side Plank|<img src=\"images/noun_side_plank_1504885.png\" width=\"100\">\n",
    "\n",
    "There is a [free app](https://www.7minuteworkout.jnj.com) to direct your exercise, but we can also use Python code for that.\n",
    "\n",
    "The following code cell will talk you through a workout. You can change the type and number of activities in the `activities` list, as well as the number of seconds for `activity_time` and `rest_time`.\n",
    "\n",
    "Make sure code cell below is selected, then click the `►Run` button to start your workout. If you want to stop before the end, press the `■` button."
   ]
  },
  {
   "cell_type": "code",
   "execution_count": null,
   "metadata": {},
   "outputs": [],
   "source": [
    "activities = ['jumping jacks',\n",
    "              'wall sit',\n",
    "              'push-ups',\n",
    "              'abdominal crunches',\n",
    "              'step-ups',\n",
    "              'squats',\n",
    "              'triceps dips',\n",
    "              'plank',\n",
    "              'high knees',\n",
    "              'lunges',\n",
    "              'push-ups with rotation',\n",
    "              'side plank']\n",
    "activity_time = 30\n",
    "rest_time = 10\n",
    "\n",
    "from time import sleep\n",
    "from gtts import gTTS\n",
    "import IPython.display as ipd\n",
    "def say(phrase):\n",
    "    print(phrase)\n",
    "    gTTS(phrase).save('phrase.wav')\n",
    "    ipd.display(ipd.Audio('phrase.wav', autoplay=True))\n",
    "say(\"Let's get started\")\n",
    "sleep(3)\n",
    "for activity in activities:\n",
    "    ipd.clear_output()\n",
    "    say(activity)\n",
    "    for x in reversed(range(activity_time)):\n",
    "        print(x)\n",
    "        sleep(1)\n",
    "        if x < 4:\n",
    "            ipd.clear_output()\n",
    "            ipd.display(ipd.Audio('audio/beep.wav', autoplay=True))\n",
    "    ipd.clear_output()\n",
    "    print('Rest for',rest_time,'seconds')\n",
    "    ipd.display(ipd.Audio('audio/rest.wav', autoplay=True))\n",
    "    for x in reversed(range(rest_time)):\n",
    "        print(x)\n",
    "        sleep(1)\n",
    "        if x < 4:\n",
    "            ipd.clear_output()\n",
    "            ipd.display(ipd.Audio('audio/beep.wav', autoplay=True))"
   ]
  },
  {
   "cell_type": "markdown",
   "metadata": {},
   "source": [
    "## Random Workout\n",
    "\n",
    "There are many possible variations using the above code. You can also try the following code cell that randomly selects activities from the list."
   ]
  },
  {
   "cell_type": "code",
   "execution_count": null,
   "metadata": {},
   "outputs": [],
   "source": [
    "activities = ['jumping jacks',\n",
    "              'wall sit',\n",
    "              'push-ups',\n",
    "              'abdominal crunches',\n",
    "              'step-ups',\n",
    "              'squats',\n",
    "              'tricep dips',\n",
    "              'plank',\n",
    "              'high knees',\n",
    "              'lunges',\n",
    "              'push-ups with rotation',\n",
    "              'side plank']\n",
    "activity_time = 30\n",
    "rest_time = 10\n",
    "reps = 12\n",
    "\n",
    "say(\"Let's start your random workout\")\n",
    "from random import sample, choices\n",
    "if reps <= len(activities):\n",
    "    workout = sample(activities, k=reps)\n",
    "else:\n",
    "    workout = choices(activities, k=reps)\n",
    "print(workout)\n",
    "sleep(7)\n",
    "for activity in workout:\n",
    "    ipd.clear_output()\n",
    "    say(activity)\n",
    "    for x in reversed(range(activity_time)):\n",
    "        print(x)\n",
    "        sleep(1)\n",
    "        if x < 4:\n",
    "            ipd.clear_output()\n",
    "            ipd.display(ipd.Audio('audio/beep.wav', autoplay=True))\n",
    "    ipd.clear_output()\n",
    "    print('Rest for',rest_time,'seconds')\n",
    "    ipd.display(ipd.Audio('audio/rest.wav', autoplay=True))\n",
    "    for x in reversed(range(rest_time)):\n",
    "        print(x)\n",
    "        sleep(1)\n",
    "        if x < 4:\n",
    "            ipd.clear_output()\n",
    "            ipd.display(ipd.Audio('audio/beep.wav', autoplay=True))"
   ]
  },
  {
   "cell_type": "markdown",
   "metadata": {},
   "source": [
    "## Conclusion\n",
    "\n",
    "In this notebook we generated 7-minute workouts similar to those designed by [Chris Jordan](https://www.jnj.com/jjhws/chris-jordan), and used the [Google Text to Speech](https://pypi.org/project/gTTS) library to talk us through the exercises."
   ]
  },
  {
   "cell_type": "markdown",
   "metadata": {},
   "source": [
    "[![Callysto.ca License](https://github.com/callysto/curriculum-notebooks/blob/master/callysto-notebook-banner-bottom.jpg?raw=true)](https://github.com/callysto/curriculum-notebooks/blob/master/LICENSE.md)"
   ]
  }
 ],
 "metadata": {
  "kernelspec": {
   "display_name": "Python 3",
   "language": "python",
   "name": "python3"
  },
  "language_info": {
   "codemirror_mode": {
    "name": "ipython",
    "version": 3
   },
   "file_extension": ".py",
   "mimetype": "text/x-python",
   "name": "python",
   "nbconvert_exporter": "python",
   "pygments_lexer": "ipython3",
   "version": "3.8.3"
  }
 },
 "nbformat": 4,
 "nbformat_minor": 4
}
