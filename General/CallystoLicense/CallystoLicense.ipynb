{
 "cells": [
  {
   "cell_type": "markdown",
   "metadata": {},
   "source": [
    "## Instructional Material\n",
    "\n",
    "All Callysto™ instructional material is made available under the [Creative Commons Attribution license](https://creativecommons.org/licenses/by/4.0/). The following is a human-readable summary of (and not a substitute for) the [full legal text of the CC BY 4.0 license](https://creativecommons.org/licenses/by/4.0/legalcode).\n",
    "\n",
    "You are free:\n",
    "\n",
    "* to **Share** - copy and redistribute the material in any medium or format\n",
    "* to **Adapt** - remix, transform, and build upon the material for any purpose, even commercially.\n",
    "\n",
    "The licensor cannot revoke these freedoms as long as you follow the license terms.\n",
    "\n",
    "Under the following terms:\n",
    "\n",
    "* **Attribution** - You must give appropriate credit (indicating that your work is derived from Copyright © 2018 Callysto and the [source](www.callysto.ca), provide a [link to the license](https://creativecommons.org/licenses/by/4.0/), and indicate if changes were made. You may do so in any reasonable manner, but not in any way that suggests the licensor endorses you or your use.\n",
    "\n",
    "**No additional restrictions** - You may not apply legal terms or technological measures that legally restrict others from doing anything the license permits.  \n",
    "\n",
    "**Notices**:\n",
    "\n",
    "* You do not have to comply with the license for elements of the material in the public domain or where your use is permitted by an applicable exception or limitation.\n",
    "\n",
    "* No warranties are given. The license may not give you all of the permissions necessary for your intended use. For example, other rights such as publicity, privacy, or moral rights may limit how you use the material.\n",
    "\n",
    "## Software\n",
    "\n",
    "Except where otherwise noted, the example programs and other software provided by Callysto are made available under the [Open Source Initiative](https://opensource.org)-approved [MIT license](https://opensource.org/licenses/mit-license.html).\n",
    "\n",
    "Permission is hereby granted, free of charge, to any person obtaining a copy of this software and associated documentation files (the \"Software\"), to deal in the Software without restriction, including without limitation the rights to use, copy, modify, merge, publish, distribute, sublicense, and/or sell copies of the Software, and to permit persons to whom the Software is furnished to do so, subject to the following conditions:\n",
    "\n",
    "The above copyright notice and this permission notice shall be included in all copies or substantial portions of the Software.\n",
    "\n",
    "THE SOFTWARE IS PROVIDED \"AS IS\", WITHOUT WARRANTY OF ANY KIND, EXPRESS OR IMPLIED, INCLUDING BUT NOT LIMITED TO THE WARRANTIES OF MERCHANTABILITY, FITNESS FOR A PARTICULAR PURPOSE AND NONINFRINGEMENT. IN NO EVENT SHALL THE AUTHORS OR COPYRIGHT HOLDERS BE LIABLE FOR ANY CLAIM, DAMAGES OR OTHER LIABILITY, WHETHER IN AN ACTION OF CONTRACT, TORT OR OTHERWISE, ARISING FROM, OUT OF OR IN CONNECTION WITH THE SOFTWARE OR THE USE OR OTHER DEALINGS IN THE SOFTWARE.\n",
    "\n",
    "## Trademark\n",
    "\n",
    "Callysto and its logo are trademarks of [Cybera](www.cybera.ca) and [the Pacific Institute of Mathematical Sciences](www.pims.math.ca/)."
   ]
  },
  {
   "cell_type": "code",
   "execution_count": null,
   "metadata": {
    "collapsed": true
   },
   "outputs": [],
   "source": []
  }
 ],
 "metadata": {
  "kernelspec": {
   "display_name": "Python 3",
   "language": "python",
   "name": "python3"
  },
  "language_info": {
   "codemirror_mode": {
    "name": "ipython",
    "version": 3
   },
   "file_extension": ".py",
   "mimetype": "text/x-python",
   "name": "python",
   "nbconvert_exporter": "python",
   "pygments_lexer": "ipython3",
   "version": "3.6.2"
  }
 },
 "nbformat": 4,
 "nbformat_minor": 2
}
