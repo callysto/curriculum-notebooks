{
 "cells": [
  {
   "cell_type": "markdown",
   "metadata": {},
   "source": [
    "![alt text](https://github.com/callysto/callysto-sample-notebooks/blob/master/notebooks/images/Callysto_Notebook-Banner_Top_06.06.18.jpg?raw=true)\n",
    "   "
   ]
  },
  {
   "cell_type": "markdown",
   "metadata": {},
   "source": [
    "# The Tipping Point - Which job pays better?"
   ]
  },
  {
   "cell_type": "markdown",
   "metadata": {},
   "source": [
    "## Congratulation!\n",
    "\n",
    "So you've got a new job... Oh, wait, you have two job offers!?!  Well, congratulations twice!\n",
    "\n",
    "Let's take a look at the two companies offering a job:\n"
   ]
  },
  {
   "cell_type": "markdown",
   "metadata": {},
   "source": [
    "Job One            |  Job Two\n",
    ":-------------------------:|:-------------------------:\n",
    "![](Acme.png)  |  ![](Bigby.png)"
   ]
  },
  {
   "cell_type": "markdown",
   "metadata": {},
   "source": [
    "Both companies **Acme** and **Bigby** are both Electronic Supply companies, and are offering you a sales positions.\n",
    "\n",
    "**Which job should you take?** Well, let's look how much each job pays.\n",
    "\n",
    "1. Acme offers a base salary of $\\$$1200 per month, plus 3\\% commission on sales over $\\$$1000. \n",
    "2. Bigby offers a base salary of $\\$$250 per month, plus 18\\% commission on all sales.\n",
    " \n",
    " \n",
    "**Your Task:** Figure out which job pays better."
   ]
  },
  {
   "cell_type": "markdown",
   "metadata": {},
   "source": [
    "**Need a Hint?**\n",
    "\n",
    "It seems clear that your salary will depend on how much you sell each month. \n",
    "\n",
    "You can consider various sales amounts, and calculate how much you'd earn at either job with those same sales amounts. \n",
    "\n",
    "Since this notebook understands basic math, we can type in the formulas for salary. \n",
    "\n",
    "Acme pays a base salary of $\\$$1200 plus 3\\% on sales, we can write this formula as\n",
    "$$ Acme\\ pay = 1200 + .03*(sales-1000). $$\n",
    "\n",
    "Meanwhile, Bigby pays a base salary of $\\$$250 plus 18\\% on sales, we can write this formula as\n",
    "$$ Bigby\\ pay = 250 + .18*sales.$$"
   ]
  },
  {
   "cell_type": "markdown",
   "metadata": {},
   "source": [
    "## Calculations with Python\n",
    "\n",
    "Consider the examples below.\n",
    "\n",
    "Let's start the calculation with no sales at all. You can do this in your head, but let's try it out in Python code."
   ]
  },
  {
   "cell_type": "code",
   "execution_count": 1,
   "metadata": {},
   "outputs": [
    {
     "data": {
      "text/plain": [
       "(1200, 250)"
      ]
     },
     "execution_count": 1,
     "metadata": {},
     "output_type": "execute_result"
    }
   ],
   "source": [
    "## For zero sales\n",
    "1200 + 0, 250 + 0"
   ]
  },
  {
   "cell_type": "markdown",
   "metadata": {},
   "source": [
    "The above calculation tells us that for zero sales, Acme pays $\\$$1200 and Bigby pays $\\$$250. So Acme pays better in this case.\n",
    "\n",
    "Let's next try sales of $\\$$2000"
   ]
  },
  {
   "cell_type": "code",
   "execution_count": 2,
   "metadata": {},
   "outputs": [
    {
     "data": {
      "text/plain": [
       "(1230.0, 610.0)"
      ]
     },
     "execution_count": 2,
     "metadata": {},
     "output_type": "execute_result"
    }
   ],
   "source": [
    "## For 2000 dollars in sales\n",
    "1200 + .03*(2000-1000), 250 + .18*2000"
   ]
  },
  {
   "cell_type": "markdown",
   "metadata": {},
   "source": [
    "That is, for $\\$$2000 in sales, Acme pays $\\$$1230 and Bigby pays $\\$$610. So Acme also pays better in this case.\n",
    "\n",
    "Now let's be more ambitious, and say you can make $\\$$10,000 in sales. How much will you make?"
   ]
  },
  {
   "cell_type": "code",
   "execution_count": 3,
   "metadata": {},
   "outputs": [
    {
     "data": {
      "text/plain": [
       "(1470.0, 2050.0)"
      ]
     },
     "execution_count": 3,
     "metadata": {},
     "output_type": "execute_result"
    }
   ],
   "source": [
    "## for 10000 in sales\n",
    "1200 + .03*(10000-1000), 250 + .18*10000"
   ]
  },
  {
   "cell_type": "markdown",
   "metadata": {},
   "source": [
    "Here, for $\\$$10000 in sales, Acme pays $\\$$1470 and Bigby pays $\\$$2050. So this time, Bigby pays better!"
   ]
  },
  {
   "cell_type": "markdown",
   "metadata": {},
   "source": [
    "## Graphical Comparison\n",
    "\n",
    "It seems that once your sales are high enough, Bigby pays better than Acme does. \n",
    "\n",
    "Let's plot some curves to show this. We can use Python to make a quick plot, with a few lines of code as follows.\n",
    "\n",
    "\n",
    "First, we load in some code packages for plotting, in the following four lines."
   ]
  },
  {
   "cell_type": "code",
   "execution_count": 4,
   "metadata": {},
   "outputs": [],
   "source": [
    "from numpy import linspace, maximum\n",
    "from matplotlib.pyplot import plot\n",
    "import plotly.graph_objects as go\n",
    "from ipywidgets import interact"
   ]
  },
  {
   "cell_type": "markdown",
   "metadata": {},
   "source": [
    "Now we define a few variables for sales and company pay, then plot the resulting curves in a graph."
   ]
  },
  {
   "cell_type": "code",
   "execution_count": 10,
   "metadata": {},
   "outputs": [
    {
     "data": {
      "image/png": "[encoded data removed]",
      "text/plain": [
       "<Figure size 432x288 with 1 Axes>"
      ]
     },
     "metadata": {
      "needs_background": "light"
     },
     "output_type": "display_data"
    }
   ],
   "source": [
    "sales = linspace(0,10000)\n",
    "bigby = 250 + .18*sales\n",
    "acme = 1200 + .03*maximum(sales-1000,0)\n",
    "plot(sales,acme, sales,bigby);"
   ]
  },
  {
   "cell_type": "markdown",
   "metadata": {},
   "source": [
    "### Comments on the code\n",
    "\n",
    "The variable *sales* is a list of possible sales values, from 0 to 10,000, set up using the *linspace* function.\n",
    "\n",
    "The variable *bigby* is the same formula we used above, adding 18\\% of sales to a base salary of $\\$$250. \n",
    "\n",
    "The variable *acme* is just a little more complicated. We use the *maximum* function to make sure we only get a commision on sales **over** $\\$$1000."
   ]
  },
  {
   "cell_type": "markdown",
   "metadata": {},
   "source": [
    "## An interactive plot\n",
    "\n",
    "Just for fun, we can plot the same curves using **Plotly** and its graphical objects (**go**).\n",
    "\n",
    "With this plot, you can pan and zoom in on the curve, to investigate it more directly."
   ]
  },
  {
   "cell_type": "code",
   "execution_count": 11,
   "metadata": {},
   "outputs": [
    {
     "data": {
      "application/vnd.plotly.v1+json": {
       "config": {
        "plotlyServerURL": "https://plot.ly"
       },
       "data": [
        {
         "name": "Acme",
         "type": "scatter",
         "x": [
          0,
          204.08163265306123,
          408.16326530612247,
          612.2448979591837,
          816.3265306122449,
          1020.4081632653061,
          1224.4897959183675,
          1428.5714285714287,
          1632.6530612244899,
          1836.734693877551,
          2040.8163265306123,
          2244.8979591836737,
          2448.979591836735,
          2653.061224489796,
          2857.1428571428573,
          3061.2244897959185,
          3265.3061224489797,
          3469.387755102041,
          3673.469387755102,
          3877.5510204081634,
          4081.6326530612246,
          4285.714285714286,
          4489.795918367347,
          4693.877551020409,
          4897.95918367347,
          5102.040816326531,
          5306.122448979592,
          5510.2040816326535,
          5714.285714285715,
          5918.367346938776,
          6122.448979591837,
          6326.530612244898,
          6530.6122448979595,
          6734.693877551021,
          6938.775510204082,
          7142.857142857143,
          7346.938775510204,
          7551.0204081632655,
          7755.102040816327,
          7959.183673469388,
          8163.265306122449,
          8367.34693877551,
          8571.428571428572,
          8775.510204081633,
          8979.591836734695,
          9183.673469387755,
          9387.755102040817,
          9591.836734693878,
          9795.91836734694,
          10000
         ],
         "y": [
          1200,
          1200,
          1200,
          1200,
          1200,
          1200.6122448979593,
          1206.734693877551,
          1212.857142857143,
          1218.9795918367347,
          1225.1020408163265,
          1231.2244897959183,
          1237.3469387755101,
          1243.4693877551022,
          1249.591836734694,
          1255.7142857142858,
          1261.8367346938776,
          1267.9591836734694,
          1274.0816326530612,
          1280.204081632653,
          1286.3265306122448,
          1292.4489795918366,
          1298.5714285714287,
          1304.6938775510205,
          1310.8163265306123,
          1316.938775510204,
          1323.061224489796,
          1329.1836734693877,
          1335.3061224489795,
          1341.4285714285716,
          1347.5510204081634,
          1353.6734693877552,
          1359.795918367347,
          1365.9183673469388,
          1372.0408163265306,
          1378.1632653061224,
          1384.2857142857142,
          1390.408163265306,
          1396.5306122448978,
          1402.6530612244899,
          1408.7755102040817,
          1414.8979591836735,
          1421.0204081632653,
          1427.142857142857,
          1433.265306122449,
          1439.387755102041,
          1445.5102040816328,
          1451.6326530612246,
          1457.7551020408164,
          1463.8775510204082,
          1470
         ]
        },
        {
         "name": "Bigby",
         "type": "scatter",
         "x": [
          0,
          204.08163265306123,
          408.16326530612247,
          612.2448979591837,
          816.3265306122449,
          1020.4081632653061,
          1224.4897959183675,
          1428.5714285714287,
          1632.6530612244899,
          1836.734693877551,
          2040.8163265306123,
          2244.8979591836737,
          2448.979591836735,
          2653.061224489796,
          2857.1428571428573,
          3061.2244897959185,
          3265.3061224489797,
          3469.387755102041,
          3673.469387755102,
          3877.5510204081634,
          4081.6326530612246,
          4285.714285714286,
          4489.795918367347,
          4693.877551020409,
          4897.95918367347,
          5102.040816326531,
          5306.122448979592,
          5510.2040816326535,
          5714.285714285715,
          5918.367346938776,
          6122.448979591837,
          6326.530612244898,
          6530.6122448979595,
          6734.693877551021,
          6938.775510204082,
          7142.857142857143,
          7346.938775510204,
          7551.0204081632655,
          7755.102040816327,
          7959.183673469388,
          8163.265306122449,
          8367.34693877551,
          8571.428571428572,
          8775.510204081633,
          8979.591836734695,
          9183.673469387755,
          9387.755102040817,
          9591.836734693878,
          9795.91836734694,
          10000
         ],
         "y": [
          250,
          286.734693877551,
          323.46938775510205,
          360.2040816326531,
          396.9387755102041,
          433.67346938775506,
          470.40816326530614,
          507.14285714285717,
          543.8775510204082,
          580.6122448979592,
          617.3469387755101,
          654.0816326530612,
          690.8163265306123,
          727.5510204081634,
          764.2857142857143,
          801.0204081632653,
          837.7551020408164,
          874.4897959183673,
          911.2244897959183,
          947.9591836734694,
          984.6938775510204,
          1021.4285714285714,
          1058.1632653061224,
          1094.8979591836735,
          1131.6326530612246,
          1168.3673469387754,
          1205.1020408163267,
          1241.8367346938776,
          1278.5714285714287,
          1315.3061224489795,
          1352.0408163265306,
          1388.7755102040817,
          1425.5102040816328,
          1462.2448979591836,
          1498.9795918367347,
          1535.7142857142858,
          1572.4489795918366,
          1609.1836734693877,
          1645.9183673469388,
          1682.6530612244899,
          1719.3877551020407,
          1756.1224489795918,
          1792.857142857143,
          1829.5918367346937,
          1866.326530612245,
          1903.061224489796,
          1939.795918367347,
          1976.5306122448978,
          2013.2653061224491,
          2050
         ]
        }
       ],
       "layout": {
        "template": {
         "data": {
          "bar": [
           {
            "error_x": {
             "color": "#2a3f5f"
            },
            "error_y": {
             "color": "#2a3f5f"
            },
            "marker": {
             "line": {
              "color": "#E5ECF6",
              "width": 0.5
             }
            },
            "type": "bar"
           }
          ],
          "barpolar": [
           {
            "marker": {
             "line": {
              "color": "#E5ECF6",
              "width": 0.5
             }
            },
            "type": "barpolar"
           }
          ],
          "carpet": [
           {
            "aaxis": {
             "endlinecolor": "#2a3f5f",
             "gridcolor": "white",
             "linecolor": "white",
             "minorgridcolor": "white",
             "startlinecolor": "#2a3f5f"
            },
            "baxis": {
             "endlinecolor": "#2a3f5f",
             "gridcolor": "white",
             "linecolor": "white",
             "minorgridcolor": "white",
             "startlinecolor": "#2a3f5f"
            },
            "type": "carpet"
           }
          ],
          "choropleth": [
           {
            "colorbar": {
             "outlinewidth": 0,
             "ticks": ""
            },
            "type": "choropleth"
           }
          ],
          "contour": [
           {
            "colorbar": {
             "outlinewidth": 0,
             "ticks": ""
            },
            "colorscale": [
             [
              0,
              "#0d0887"
             ],
             [
              0.1111111111111111,
              "#46039f"
             ],
             [
              0.2222222222222222,
              "#7201a8"
             ],
             [
              0.3333333333333333,
              "#9c179e"
             ],
             [
              0.4444444444444444,
              "#bd3786"
             ],
             [
              0.5555555555555556,
              "#d8576b"
             ],
             [
              0.6666666666666666,
              "#ed7953"
             ],
             [
              0.7777777777777778,
              "#fb9f3a"
             ],
             [
              0.8888888888888888,
              "#fdca26"
             ],
             [
              1,
              "#f0f921"
             ]
            ],
            "type": "contour"
           }
          ],
          "contourcarpet": [
           {
            "colorbar": {
             "outlinewidth": 0,
             "ticks": ""
            },
            "type": "contourcarpet"
           }
          ],
          "heatmap": [
           {
            "colorbar": {
             "outlinewidth": 0,
             "ticks": ""
            },
            "colorscale": [
             [
              0,
              "#0d0887"
             ],
             [
              0.1111111111111111,
              "#46039f"
             ],
             [
              0.2222222222222222,
              "#7201a8"
             ],
             [
              0.3333333333333333,
              "#9c179e"
             ],
             [
              0.4444444444444444,
              "#bd3786"
             ],
             [
              0.5555555555555556,
              "#d8576b"
             ],
             [
              0.6666666666666666,
              "#ed7953"
             ],
             [
              0.7777777777777778,
              "#fb9f3a"
             ],
             [
              0.8888888888888888,
              "#fdca26"
             ],
             [
              1,
              "#f0f921"
             ]
            ],
            "type": "heatmap"
           }
          ],
          "heatmapgl": [
           {
            "colorbar": {
             "outlinewidth": 0,
             "ticks": ""
            },
            "colorscale": [
             [
              0,
              "#0d0887"
             ],
             [
              0.1111111111111111,
              "#46039f"
             ],
             [
              0.2222222222222222,
              "#7201a8"
             ],
             [
              0.3333333333333333,
              "#9c179e"
             ],
             [
              0.4444444444444444,
              "#bd3786"
             ],
             [
              0.5555555555555556,
              "#d8576b"
             ],
             [
              0.6666666666666666,
              "#ed7953"
             ],
             [
              0.7777777777777778,
              "#fb9f3a"
             ],
             [
              0.8888888888888888,
              "#fdca26"
             ],
             [
              1,
              "#f0f921"
             ]
            ],
            "type": "heatmapgl"
           }
          ],
          "histogram": [
           {
            "marker": {
             "colorbar": {
              "outlinewidth": 0,
              "ticks": ""
             }
            },
            "type": "histogram"
           }
          ],
          "histogram2d": [
           {
            "colorbar": {
             "outlinewidth": 0,
             "ticks": ""
            },
            "colorscale": [
             [
              0,
              "#0d0887"
             ],
             [
              0.1111111111111111,
              "#46039f"
             ],
             [
              0.2222222222222222,
              "#7201a8"
             ],
             [
              0.3333333333333333,
              "#9c179e"
             ],
             [
              0.4444444444444444,
              "#bd3786"
             ],
             [
              0.5555555555555556,
              "#d8576b"
             ],
             [
              0.6666666666666666,
              "#ed7953"
             ],
             [
              0.7777777777777778,
              "#fb9f3a"
             ],
             [
              0.8888888888888888,
              "#fdca26"
             ],
             [
              1,
              "#f0f921"
             ]
            ],
            "type": "histogram2d"
           }
          ],
          "histogram2dcontour": [
           {
            "colorbar": {
             "outlinewidth": 0,
             "ticks": ""
            },
            "colorscale": [
             [
              0,
              "#0d0887"
             ],
             [
              0.1111111111111111,
              "#46039f"
             ],
             [
              0.2222222222222222,
              "#7201a8"
             ],
             [
              0.3333333333333333,
              "#9c179e"
             ],
             [
              0.4444444444444444,
              "#bd3786"
             ],
             [
              0.5555555555555556,
              "#d8576b"
             ],
             [
              0.6666666666666666,
              "#ed7953"
             ],
             [
              0.7777777777777778,
              "#fb9f3a"
             ],
             [
              0.8888888888888888,
              "#fdca26"
             ],
             [
              1,
              "#f0f921"
             ]
            ],
            "type": "histogram2dcontour"
           }
          ],
          "mesh3d": [
           {
            "colorbar": {
             "outlinewidth": 0,
             "ticks": ""
            },
            "type": "mesh3d"
           }
          ],
          "parcoords": [
           {
            "line": {
             "colorbar": {
              "outlinewidth": 0,
              "ticks": ""
             }
            },
            "type": "parcoords"
           }
          ],
          "pie": [
           {
            "automargin": true,
            "type": "pie"
           }
          ],
          "scatter": [
           {
            "marker": {
             "colorbar": {
              "outlinewidth": 0,
              "ticks": ""
             }
            },
            "type": "scatter"
           }
          ],
          "scatter3d": [
           {
            "line": {
             "colorbar": {
              "outlinewidth": 0,
              "ticks": ""
             }
            },
            "marker": {
             "colorbar": {
              "outlinewidth": 0,
              "ticks": ""
             }
            },
            "type": "scatter3d"
           }
          ],
          "scattercarpet": [
           {
            "marker": {
             "colorbar": {
              "outlinewidth": 0,
              "ticks": ""
             }
            },
            "type": "scattercarpet"
           }
          ],
          "scattergeo": [
           {
            "marker": {
             "colorbar": {
              "outlinewidth": 0,
              "ticks": ""
             }
            },
            "type": "scattergeo"
           }
          ],
          "scattergl": [
           {
            "marker": {
             "colorbar": {
              "outlinewidth": 0,
              "ticks": ""
             }
            },
            "type": "scattergl"
           }
          ],
          "scattermapbox": [
           {
            "marker": {
             "colorbar": {
              "outlinewidth": 0,
              "ticks": ""
             }
            },
            "type": "scattermapbox"
           }
          ],
          "scatterpolar": [
           {
            "marker": {
             "colorbar": {
              "outlinewidth": 0,
              "ticks": ""
             }
            },
            "type": "scatterpolar"
           }
          ],
          "scatterpolargl": [
           {
            "marker": {
             "colorbar": {
              "outlinewidth": 0,
              "ticks": ""
             }
            },
            "type": "scatterpolargl"
           }
          ],
          "scatterternary": [
           {
            "marker": {
             "colorbar": {
              "outlinewidth": 0,
              "ticks": ""
             }
            },
            "type": "scatterternary"
           }
          ],
          "surface": [
           {
            "colorbar": {
             "outlinewidth": 0,
             "ticks": ""
            },
            "colorscale": [
             [
              0,
              "#0d0887"
             ],
             [
              0.1111111111111111,
              "#46039f"
             ],
             [
              0.2222222222222222,
              "#7201a8"
             ],
             [
              0.3333333333333333,
              "#9c179e"
             ],
             [
              0.4444444444444444,
              "#bd3786"
             ],
             [
              0.5555555555555556,
              "#d8576b"
             ],
             [
              0.6666666666666666,
              "#ed7953"
             ],
             [
              0.7777777777777778,
              "#fb9f3a"
             ],
             [
              0.8888888888888888,
              "#fdca26"
             ],
             [
              1,
              "#f0f921"
             ]
            ],
            "type": "surface"
           }
          ],
          "table": [
           {
            "cells": {
             "fill": {
              "color": "#EBF0F8"
             },
             "line": {
              "color": "white"
             }
            },
            "header": {
             "fill": {
              "color": "#C8D4E3"
             },
             "line": {
              "color": "white"
             }
            },
            "type": "table"
           }
          ]
         },
         "layout": {
          "annotationdefaults": {
           "arrowcolor": "#2a3f5f",
           "arrowhead": 0,
           "arrowwidth": 1
          },
          "coloraxis": {
           "colorbar": {
            "outlinewidth": 0,
            "ticks": ""
           }
          },
          "colorscale": {
           "diverging": [
            [
             0,
             "#8e0152"
            ],
            [
             0.1,
             "#c51b7d"
            ],
            [
             0.2,
             "#de77ae"
            ],
            [
             0.3,
             "#f1b6da"
            ],
            [
             0.4,
             "#fde0ef"
            ],
            [
             0.5,
             "#f7f7f7"
            ],
            [
             0.6,
             "#e6f5d0"
            ],
            [
             0.7,
             "#b8e186"
            ],
            [
             0.8,
             "#7fbc41"
            ],
            [
             0.9,
             "#4d9221"
            ],
            [
             1,
             "#276419"
            ]
           ],
           "sequential": [
            [
             0,
             "#0d0887"
            ],
            [
             0.1111111111111111,
             "#46039f"
            ],
            [
             0.2222222222222222,
             "#7201a8"
            ],
            [
             0.3333333333333333,
             "#9c179e"
            ],
            [
             0.4444444444444444,
             "#bd3786"
            ],
            [
             0.5555555555555556,
             "#d8576b"
            ],
            [
             0.6666666666666666,
             "#ed7953"
            ],
            [
             0.7777777777777778,
             "#fb9f3a"
            ],
            [
             0.8888888888888888,
             "#fdca26"
            ],
            [
             1,
             "#f0f921"
            ]
           ],
           "sequentialminus": [
            [
             0,
             "#0d0887"
            ],
            [
             0.1111111111111111,
             "#46039f"
            ],
            [
             0.2222222222222222,
             "#7201a8"
            ],
            [
             0.3333333333333333,
             "#9c179e"
            ],
            [
             0.4444444444444444,
             "#bd3786"
            ],
            [
             0.5555555555555556,
             "#d8576b"
            ],
            [
             0.6666666666666666,
             "#ed7953"
            ],
            [
             0.7777777777777778,
             "#fb9f3a"
            ],
            [
             0.8888888888888888,
             "#fdca26"
            ],
            [
             1,
             "#f0f921"
            ]
           ]
          },
          "colorway": [
           "#636efa",
           "#EF553B",
           "#00cc96",
           "#ab63fa",
           "#FFA15A",
           "#19d3f3",
           "#FF6692",
           "#B6E880",
           "#FF97FF",
           "#FECB52"
          ],
          "font": {
           "color": "#2a3f5f"
          },
          "geo": {
           "bgcolor": "white",
           "lakecolor": "white",
           "landcolor": "#E5ECF6",
           "showlakes": true,
           "showland": true,
           "subunitcolor": "white"
          },
          "hoverlabel": {
           "align": "left"
          },
          "hovermode": "closest",
          "mapbox": {
           "style": "light"
          },
          "paper_bgcolor": "white",
          "plot_bgcolor": "#E5ECF6",
          "polar": {
           "angularaxis": {
            "gridcolor": "white",
            "linecolor": "white",
            "ticks": ""
           },
           "bgcolor": "#E5ECF6",
           "radialaxis": {
            "gridcolor": "white",
            "linecolor": "white",
            "ticks": ""
           }
          },
          "scene": {
           "xaxis": {
            "backgroundcolor": "#E5ECF6",
            "gridcolor": "white",
            "gridwidth": 2,
            "linecolor": "white",
            "showbackground": true,
            "ticks": "",
            "zerolinecolor": "white"
           },
           "yaxis": {
            "backgroundcolor": "#E5ECF6",
            "gridcolor": "white",
            "gridwidth": 2,
            "linecolor": "white",
            "showbackground": true,
            "ticks": "",
            "zerolinecolor": "white"
           },
           "zaxis": {
            "backgroundcolor": "#E5ECF6",
            "gridcolor": "white",
            "gridwidth": 2,
            "linecolor": "white",
            "showbackground": true,
            "ticks": "",
            "zerolinecolor": "white"
           }
          },
          "shapedefaults": {
           "line": {
            "color": "#2a3f5f"
           }
          },
          "ternary": {
           "aaxis": {
            "gridcolor": "white",
            "linecolor": "white",
            "ticks": ""
           },
           "baxis": {
            "gridcolor": "white",
            "linecolor": "white",
            "ticks": ""
           },
           "bgcolor": "#E5ECF6",
           "caxis": {
            "gridcolor": "white",
            "linecolor": "white",
            "ticks": ""
           }
          },
          "title": {
           "x": 0.05
          },
          "xaxis": {
           "automargin": true,
           "gridcolor": "white",
           "linecolor": "white",
           "ticks": "",
           "title": {
            "standoff": 15
           },
           "zerolinecolor": "white",
           "zerolinewidth": 2
          },
          "yaxis": {
           "automargin": true,
           "gridcolor": "white",
           "linecolor": "white",
           "ticks": "",
           "title": {
            "standoff": 15
           },
           "zerolinecolor": "white",
           "zerolinewidth": 2
          }
         }
        }
       }
      },
      "text/html": [
       "<div>\n",
       "        \n",
       "        \n",
       "            <div id=\"53f61110-a35e-4134-b98b-824d4157f557\" class=\"plotly-graph-div\" style=\"height:525px; width:100%;\"></div>\n",
       "            <script type=\"text/javascript\">\n",
       "                require([\"plotly\"], function(Plotly) {\n",
       "                    window.PLOTLYENV=window.PLOTLYENV || {};\n",
       "                    \n",
       "                if (document.getElementById(\"53f61110-a35e-4134-b98b-824d4157f557\")) {\n",
       "                    Plotly.newPlot(\n",
       "                        '53f61110-a35e-4134-b98b-824d4157f557',\n",
       "                        [{\"name\": \"Acme\", \"type\": \"scatter\", \"x\": [0.0, 204.08163265306123, 408.16326530612247, 612.2448979591837, 816.3265306122449, 1020.4081632653061, 1224.4897959183675, 1428.5714285714287, 1632.6530612244899, 1836.734693877551, 2040.8163265306123, 2244.8979591836737, 2448.979591836735, 2653.061224489796, 2857.1428571428573, 3061.2244897959185, 3265.3061224489797, 3469.387755102041, 3673.469387755102, 3877.5510204081634, 4081.6326530612246, 4285.714285714286, 4489.795918367347, 4693.877551020409, 4897.95918367347, 5102.040816326531, 5306.122448979592, 5510.2040816326535, 5714.285714285715, 5918.367346938776, 6122.448979591837, 6326.530612244898, 6530.6122448979595, 6734.693877551021, 6938.775510204082, 7142.857142857143, 7346.938775510204, 7551.0204081632655, 7755.102040816327, 7959.183673469388, 8163.265306122449, 8367.34693877551, 8571.428571428572, 8775.510204081633, 8979.591836734695, 9183.673469387755, 9387.755102040817, 9591.836734693878, 9795.91836734694, 10000.0], \"y\": [1200.0, 1200.0, 1200.0, 1200.0, 1200.0, 1200.6122448979593, 1206.734693877551, 1212.857142857143, 1218.9795918367347, 1225.1020408163265, 1231.2244897959183, 1237.3469387755101, 1243.4693877551022, 1249.591836734694, 1255.7142857142858, 1261.8367346938776, 1267.9591836734694, 1274.0816326530612, 1280.204081632653, 1286.3265306122448, 1292.4489795918366, 1298.5714285714287, 1304.6938775510205, 1310.8163265306123, 1316.938775510204, 1323.061224489796, 1329.1836734693877, 1335.3061224489795, 1341.4285714285716, 1347.5510204081634, 1353.6734693877552, 1359.795918367347, 1365.9183673469388, 1372.0408163265306, 1378.1632653061224, 1384.2857142857142, 1390.408163265306, 1396.5306122448978, 1402.6530612244899, 1408.7755102040817, 1414.8979591836735, 1421.0204081632653, 1427.142857142857, 1433.265306122449, 1439.387755102041, 1445.5102040816328, 1451.6326530612246, 1457.7551020408164, 1463.8775510204082, 1470.0]}, {\"name\": \"Bigby\", \"type\": \"scatter\", \"x\": [0.0, 204.08163265306123, 408.16326530612247, 612.2448979591837, 816.3265306122449, 1020.4081632653061, 1224.4897959183675, 1428.5714285714287, 1632.6530612244899, 1836.734693877551, 2040.8163265306123, 2244.8979591836737, 2448.979591836735, 2653.061224489796, 2857.1428571428573, 3061.2244897959185, 3265.3061224489797, 3469.387755102041, 3673.469387755102, 3877.5510204081634, 4081.6326530612246, 4285.714285714286, 4489.795918367347, 4693.877551020409, 4897.95918367347, 5102.040816326531, 5306.122448979592, 5510.2040816326535, 5714.285714285715, 5918.367346938776, 6122.448979591837, 6326.530612244898, 6530.6122448979595, 6734.693877551021, 6938.775510204082, 7142.857142857143, 7346.938775510204, 7551.0204081632655, 7755.102040816327, 7959.183673469388, 8163.265306122449, 8367.34693877551, 8571.428571428572, 8775.510204081633, 8979.591836734695, 9183.673469387755, 9387.755102040817, 9591.836734693878, 9795.91836734694, 10000.0], \"y\": [250.0, 286.734693877551, 323.46938775510205, 360.2040816326531, 396.9387755102041, 433.67346938775506, 470.40816326530614, 507.14285714285717, 543.8775510204082, 580.6122448979592, 617.3469387755101, 654.0816326530612, 690.8163265306123, 727.5510204081634, 764.2857142857143, 801.0204081632653, 837.7551020408164, 874.4897959183673, 911.2244897959183, 947.9591836734694, 984.6938775510204, 1021.4285714285714, 1058.1632653061224, 1094.8979591836735, 1131.6326530612246, 1168.3673469387754, 1205.1020408163267, 1241.8367346938776, 1278.5714285714287, 1315.3061224489795, 1352.0408163265306, 1388.7755102040817, 1425.5102040816328, 1462.2448979591836, 1498.9795918367347, 1535.7142857142858, 1572.4489795918366, 1609.1836734693877, 1645.9183673469388, 1682.6530612244899, 1719.3877551020407, 1756.1224489795918, 1792.857142857143, 1829.5918367346937, 1866.326530612245, 1903.061224489796, 1939.795918367347, 1976.5306122448978, 2013.2653061224491, 2050.0]}],\n",
       "                        {\"template\": {\"data\": {\"bar\": [{\"error_x\": {\"color\": \"#2a3f5f\"}, \"error_y\": {\"color\": \"#2a3f5f\"}, \"marker\": {\"line\": {\"color\": \"#E5ECF6\", \"width\": 0.5}}, \"type\": \"bar\"}], \"barpolar\": [{\"marker\": {\"line\": {\"color\": \"#E5ECF6\", \"width\": 0.5}}, \"type\": \"barpolar\"}], \"carpet\": [{\"aaxis\": {\"endlinecolor\": \"#2a3f5f\", \"gridcolor\": \"white\", \"linecolor\": \"white\", \"minorgridcolor\": \"white\", \"startlinecolor\": \"#2a3f5f\"}, \"baxis\": {\"endlinecolor\": \"#2a3f5f\", \"gridcolor\": \"white\", \"linecolor\": \"white\", \"minorgridcolor\": \"white\", \"startlinecolor\": \"#2a3f5f\"}, \"type\": \"carpet\"}], \"choropleth\": [{\"colorbar\": {\"outlinewidth\": 0, \"ticks\": \"\"}, \"type\": \"choropleth\"}], \"contour\": [{\"colorbar\": {\"outlinewidth\": 0, \"ticks\": \"\"}, \"colorscale\": [[0.0, \"#0d0887\"], [0.1111111111111111, \"#46039f\"], [0.2222222222222222, \"#7201a8\"], [0.3333333333333333, \"#9c179e\"], [0.4444444444444444, \"#bd3786\"], [0.5555555555555556, \"#d8576b\"], [0.6666666666666666, \"#ed7953\"], [0.7777777777777778, \"#fb9f3a\"], [0.8888888888888888, \"#fdca26\"], [1.0, \"#f0f921\"]], \"type\": \"contour\"}], \"contourcarpet\": [{\"colorbar\": {\"outlinewidth\": 0, \"ticks\": \"\"}, \"type\": \"contourcarpet\"}], \"heatmap\": [{\"colorbar\": {\"outlinewidth\": 0, \"ticks\": \"\"}, \"colorscale\": [[0.0, \"#0d0887\"], [0.1111111111111111, \"#46039f\"], [0.2222222222222222, \"#7201a8\"], [0.3333333333333333, \"#9c179e\"], [0.4444444444444444, \"#bd3786\"], [0.5555555555555556, \"#d8576b\"], [0.6666666666666666, \"#ed7953\"], [0.7777777777777778, \"#fb9f3a\"], [0.8888888888888888, \"#fdca26\"], [1.0, \"#f0f921\"]], \"type\": \"heatmap\"}], \"heatmapgl\": [{\"colorbar\": {\"outlinewidth\": 0, \"ticks\": \"\"}, \"colorscale\": [[0.0, \"#0d0887\"], [0.1111111111111111, \"#46039f\"], [0.2222222222222222, \"#7201a8\"], [0.3333333333333333, \"#9c179e\"], [0.4444444444444444, \"#bd3786\"], [0.5555555555555556, \"#d8576b\"], [0.6666666666666666, \"#ed7953\"], [0.7777777777777778, \"#fb9f3a\"], [0.8888888888888888, \"#fdca26\"], [1.0, \"#f0f921\"]], \"type\": \"heatmapgl\"}], \"histogram\": [{\"marker\": {\"colorbar\": {\"outlinewidth\": 0, \"ticks\": \"\"}}, \"type\": \"histogram\"}], \"histogram2d\": [{\"colorbar\": {\"outlinewidth\": 0, \"ticks\": \"\"}, \"colorscale\": [[0.0, \"#0d0887\"], [0.1111111111111111, \"#46039f\"], [0.2222222222222222, \"#7201a8\"], [0.3333333333333333, \"#9c179e\"], [0.4444444444444444, \"#bd3786\"], [0.5555555555555556, \"#d8576b\"], [0.6666666666666666, \"#ed7953\"], [0.7777777777777778, \"#fb9f3a\"], [0.8888888888888888, \"#fdca26\"], [1.0, \"#f0f921\"]], \"type\": \"histogram2d\"}], \"histogram2dcontour\": [{\"colorbar\": {\"outlinewidth\": 0, \"ticks\": \"\"}, \"colorscale\": [[0.0, \"#0d0887\"], [0.1111111111111111, \"#46039f\"], [0.2222222222222222, \"#7201a8\"], [0.3333333333333333, \"#9c179e\"], [0.4444444444444444, \"#bd3786\"], [0.5555555555555556, \"#d8576b\"], [0.6666666666666666, \"#ed7953\"], [0.7777777777777778, \"#fb9f3a\"], [0.8888888888888888, \"#fdca26\"], [1.0, \"#f0f921\"]], \"type\": \"histogram2dcontour\"}], \"mesh3d\": [{\"colorbar\": {\"outlinewidth\": 0, \"ticks\": \"\"}, \"type\": \"mesh3d\"}], \"parcoords\": [{\"line\": {\"colorbar\": {\"outlinewidth\": 0, \"ticks\": \"\"}}, \"type\": \"parcoords\"}], \"pie\": [{\"automargin\": true, \"type\": \"pie\"}], \"scatter\": [{\"marker\": {\"colorbar\": {\"outlinewidth\": 0, \"ticks\": \"\"}}, \"type\": \"scatter\"}], \"scatter3d\": [{\"line\": {\"colorbar\": {\"outlinewidth\": 0, \"ticks\": \"\"}}, \"marker\": {\"colorbar\": {\"outlinewidth\": 0, \"ticks\": \"\"}}, \"type\": \"scatter3d\"}], \"scattercarpet\": [{\"marker\": {\"colorbar\": {\"outlinewidth\": 0, \"ticks\": \"\"}}, \"type\": \"scattercarpet\"}], \"scattergeo\": [{\"marker\": {\"colorbar\": {\"outlinewidth\": 0, \"ticks\": \"\"}}, \"type\": \"scattergeo\"}], \"scattergl\": [{\"marker\": {\"colorbar\": {\"outlinewidth\": 0, \"ticks\": \"\"}}, \"type\": \"scattergl\"}], \"scattermapbox\": [{\"marker\": {\"colorbar\": {\"outlinewidth\": 0, \"ticks\": \"\"}}, \"type\": \"scattermapbox\"}], \"scatterpolar\": [{\"marker\": {\"colorbar\": {\"outlinewidth\": 0, \"ticks\": \"\"}}, \"type\": \"scatterpolar\"}], \"scatterpolargl\": [{\"marker\": {\"colorbar\": {\"outlinewidth\": 0, \"ticks\": \"\"}}, \"type\": \"scatterpolargl\"}], \"scatterternary\": [{\"marker\": {\"colorbar\": {\"outlinewidth\": 0, \"ticks\": \"\"}}, \"type\": \"scatterternary\"}], \"surface\": [{\"colorbar\": {\"outlinewidth\": 0, \"ticks\": \"\"}, \"colorscale\": [[0.0, \"#0d0887\"], [0.1111111111111111, \"#46039f\"], [0.2222222222222222, \"#7201a8\"], [0.3333333333333333, \"#9c179e\"], [0.4444444444444444, \"#bd3786\"], [0.5555555555555556, \"#d8576b\"], [0.6666666666666666, \"#ed7953\"], [0.7777777777777778, \"#fb9f3a\"], [0.8888888888888888, \"#fdca26\"], [1.0, \"#f0f921\"]], \"type\": \"surface\"}], \"table\": [{\"cells\": {\"fill\": {\"color\": \"#EBF0F8\"}, \"line\": {\"color\": \"white\"}}, \"header\": {\"fill\": {\"color\": \"#C8D4E3\"}, \"line\": {\"color\": \"white\"}}, \"type\": \"table\"}]}, \"layout\": {\"annotationdefaults\": {\"arrowcolor\": \"#2a3f5f\", \"arrowhead\": 0, \"arrowwidth\": 1}, \"coloraxis\": {\"colorbar\": {\"outlinewidth\": 0, \"ticks\": \"\"}}, \"colorscale\": {\"diverging\": [[0, \"#8e0152\"], [0.1, \"#c51b7d\"], [0.2, \"#de77ae\"], [0.3, \"#f1b6da\"], [0.4, \"#fde0ef\"], [0.5, \"#f7f7f7\"], [0.6, \"#e6f5d0\"], [0.7, \"#b8e186\"], [0.8, \"#7fbc41\"], [0.9, \"#4d9221\"], [1, \"#276419\"]], \"sequential\": [[0.0, \"#0d0887\"], [0.1111111111111111, \"#46039f\"], [0.2222222222222222, \"#7201a8\"], [0.3333333333333333, \"#9c179e\"], [0.4444444444444444, \"#bd3786\"], [0.5555555555555556, \"#d8576b\"], [0.6666666666666666, \"#ed7953\"], [0.7777777777777778, \"#fb9f3a\"], [0.8888888888888888, \"#fdca26\"], [1.0, \"#f0f921\"]], \"sequentialminus\": [[0.0, \"#0d0887\"], [0.1111111111111111, \"#46039f\"], [0.2222222222222222, \"#7201a8\"], [0.3333333333333333, \"#9c179e\"], [0.4444444444444444, \"#bd3786\"], [0.5555555555555556, \"#d8576b\"], [0.6666666666666666, \"#ed7953\"], [0.7777777777777778, \"#fb9f3a\"], [0.8888888888888888, \"#fdca26\"], [1.0, \"#f0f921\"]]}, \"colorway\": [\"#636efa\", \"#EF553B\", \"#00cc96\", \"#ab63fa\", \"#FFA15A\", \"#19d3f3\", \"#FF6692\", \"#B6E880\", \"#FF97FF\", \"#FECB52\"], \"font\": {\"color\": \"#2a3f5f\"}, \"geo\": {\"bgcolor\": \"white\", \"lakecolor\": \"white\", \"landcolor\": \"#E5ECF6\", \"showlakes\": true, \"showland\": true, \"subunitcolor\": \"white\"}, \"hoverlabel\": {\"align\": \"left\"}, \"hovermode\": \"closest\", \"mapbox\": {\"style\": \"light\"}, \"paper_bgcolor\": \"white\", \"plot_bgcolor\": \"#E5ECF6\", \"polar\": {\"angularaxis\": {\"gridcolor\": \"white\", \"linecolor\": \"white\", \"ticks\": \"\"}, \"bgcolor\": \"#E5ECF6\", \"radialaxis\": {\"gridcolor\": \"white\", \"linecolor\": \"white\", \"ticks\": \"\"}}, \"scene\": {\"xaxis\": {\"backgroundcolor\": \"#E5ECF6\", \"gridcolor\": \"white\", \"gridwidth\": 2, \"linecolor\": \"white\", \"showbackground\": true, \"ticks\": \"\", \"zerolinecolor\": \"white\"}, \"yaxis\": {\"backgroundcolor\": \"#E5ECF6\", \"gridcolor\": \"white\", \"gridwidth\": 2, \"linecolor\": \"white\", \"showbackground\": true, \"ticks\": \"\", \"zerolinecolor\": \"white\"}, \"zaxis\": {\"backgroundcolor\": \"#E5ECF6\", \"gridcolor\": \"white\", \"gridwidth\": 2, \"linecolor\": \"white\", \"showbackground\": true, \"ticks\": \"\", \"zerolinecolor\": \"white\"}}, \"shapedefaults\": {\"line\": {\"color\": \"#2a3f5f\"}}, \"ternary\": {\"aaxis\": {\"gridcolor\": \"white\", \"linecolor\": \"white\", \"ticks\": \"\"}, \"baxis\": {\"gridcolor\": \"white\", \"linecolor\": \"white\", \"ticks\": \"\"}, \"bgcolor\": \"#E5ECF6\", \"caxis\": {\"gridcolor\": \"white\", \"linecolor\": \"white\", \"ticks\": \"\"}}, \"title\": {\"x\": 0.05}, \"xaxis\": {\"automargin\": true, \"gridcolor\": \"white\", \"linecolor\": \"white\", \"ticks\": \"\", \"title\": {\"standoff\": 15}, \"zerolinecolor\": \"white\", \"zerolinewidth\": 2}, \"yaxis\": {\"automargin\": true, \"gridcolor\": \"white\", \"linecolor\": \"white\", \"ticks\": \"\", \"title\": {\"standoff\": 15}, \"zerolinecolor\": \"white\", \"zerolinewidth\": 2}}}},\n",
       "                        {\"responsive\": true}\n",
       "                    ).then(function(){\n",
       "                            \n",
       "var gd = document.getElementById('53f61110-a35e-4134-b98b-824d4157f557');\n",
       "var x = new MutationObserver(function (mutations, observer) {{\n",
       "        var display = window.getComputedStyle(gd).display;\n",
       "        if (!display || display === 'none') {{\n",
       "            console.log([gd, 'removed!']);\n",
       "            Plotly.purge(gd);\n",
       "            observer.disconnect();\n",
       "        }}\n",
       "}});\n",
       "\n",
       "// Listen for the removal of the full notebook cells\n",
       "var notebookContainer = gd.closest('#notebook-container');\n",
       "if (notebookContainer) {{\n",
       "    x.observe(notebookContainer, {childList: true});\n",
       "}}\n",
       "\n",
       "// Listen for the clearing of the current output cell\n",
       "var outputEl = gd.closest('.output');\n",
       "if (outputEl) {{\n",
       "    x.observe(outputEl, {childList: true});\n",
       "}}\n",
       "\n",
       "                        })\n",
       "                };\n",
       "                });\n",
       "            </script>\n",
       "        </div>"
      ]
     },
     "metadata": {},
     "output_type": "display_data"
    }
   ],
   "source": [
    "sales = linspace(0,10000)\n",
    "bigby = 250 + .18*sales\n",
    "acme = 1200 + .03*maximum(sales-1000,0)\n",
    "go.Figure(data=go.Scatter(x=sales, y=acme, name='Acme')).add_trace(go.Scatter(x=sales,y=bigby,name=\"Bigby\"))"
   ]
  },
  {
   "cell_type": "markdown",
   "metadata": {},
   "source": [
    "## The Tipping Point\n",
    "\n",
    "It seems clear from the calculations above, and from the graphs, that eventually Bigby pays more than Acme once the sales get high enough.\n",
    "\n",
    "The **tipping point** is the point where the sales are big enough that Bigby pays more. \n",
    "\n",
    "How can we find this tipping point?\n",
    "\n",
    "One way is to simply use Python. Type in a value for **sales** in the code below, replacing the number **4000** with a number of your choice. Try to find the number where these two pay values are equal.\n"
   ]
  },
  {
   "cell_type": "code",
   "execution_count": 7,
   "metadata": {},
   "outputs": [
    {
     "data": {
      "text/plain": [
       "(1353.0, 1348.0)"
      ]
     },
     "execution_count": 7,
     "metadata": {},
     "output_type": "execute_result"
    }
   ],
   "source": [
    "sales = 6100\n",
    "1200 + .03*(sales-1000), 250 + .18*sales"
   ]
  },
  {
   "cell_type": "markdown",
   "metadata": {},
   "source": [
    "**Exercise:** What value did you find for **sales** where both pays are the same?"
   ]
  },
  {
   "cell_type": "markdown",
   "metadata": {},
   "source": [
    "## Tipping point with interactive tools\n",
    "Python lets you do this calculation automatically. Just type in the box below, and it will compute the Acme and Bigby sales. Again, try to find the value for **sales** so that the two pays are equal. "
   ]
  },
  {
   "cell_type": "code",
   "execution_count": 8,
   "metadata": {},
   "outputs": [
    {
     "data": {
      "application/vnd.jupyter.widget-view+json": {
       "model_id": "f9657ff19e52462892c22a10547c33ec",
       "version_major": 2,
       "version_minor": 0
      },
      "text/plain": [
       "interactive(children=(Text(value='4000', description='sales'), Output()), _dom_classes=('widget-interact',))"
      ]
     },
     "metadata": {},
     "output_type": "display_data"
    }
   ],
   "source": [
    "interact(lambda sales: [1200+.03*(float(sales)-1000),250+.18*float(sales)],sales='4000');"
   ]
  },
  {
   "cell_type": "markdown",
   "metadata": {},
   "source": [
    "You can also use a slider in Python to play around with the sales, as follows:\n",
    "\n",
    "Again, try to find the point where the two companies pay the same. "
   ]
  },
  {
   "cell_type": "code",
   "execution_count": 9,
   "metadata": {},
   "outputs": [
    {
     "data": {
      "application/vnd.jupyter.widget-view+json": {
       "model_id": "aae8898496db486492c28abb682623ea",
       "version_major": 2,
       "version_minor": 0
      },
      "text/plain": [
       "interactive(children=(IntSlider(value=6500, description='sales', max=7000, min=6000), Output()), _dom_classes=…"
      ]
     },
     "metadata": {},
     "output_type": "display_data"
    }
   ],
   "source": [
    "interact(lambda sales: [1200+.03*(sales-1000),250+.18*sales],sales=(6000,7000));"
   ]
  },
  {
   "cell_type": "markdown",
   "metadata": {},
   "source": [
    "**Exercise:** What value did you find for **sales** where both pays are the same?"
   ]
  },
  {
   "cell_type": "markdown",
   "metadata": {},
   "source": [
    "## Tipping point by algebra\n",
    "\n",
    "And a final way: set the two pay formulas to be equal, and solve for **sales**.\n",
    "    \n",
    "$$ 1200 + .03\\times (sales - 1000) = 250 + .18 \\times sales.$$\n",
    "    \n",
    "What do you find for **sales**?\n",
    "\n",
    "If yoy prefer to **solve for x**, try this formula:\n",
    "\n",
    "$$ 1200 + .03(x - 1000) = 250 + .18  x.$$\n",
    "\n",
    "The solution for **x** is the dollar value of sales where Bigby and Acme pay you the same. Any more sales, and Bigby pays more.\n",
    "\n",
    "**Exercise:** Write down your answer for **x** which solves this equation."
   ]
  },
  {
   "cell_type": "markdown",
   "metadata": {},
   "source": [
    "## Minimum wage\n",
    "\n",
    "The minimum wage is the lowest pay a company can pay you, per hour, and stay within the law. \n",
    "\n",
    "How much do you need to sell, in order to get paid at least as much as a minimum wage salary?\n",
    "\n",
    "This is a challenging question, and an important one before you take on a new job. You must consider:\n",
    "- what is the minimum wage in your area?\n",
    "- how many hours would you typically work in a year?\n",
    "\n",
    "For instance, in Alberta, the minimum wage is $\\$$15 per hour. Most people work about 40 hours a week, for 50 weeks a year, which  2000 hours per year. \n",
    "\n",
    "That results in an annual salary of $\\$$30,000 per year, or $\\$$2,500 per month.\n",
    "\n",
    "$$ 2,500 = 30,000 \\div 12.$$"
   ]
  },
  {
   "cell_type": "markdown",
   "metadata": {},
   "source": [
    "Working at Bigby gives you more money, so let's find out how many dollars in sales at Bigby are need to make minimum wage.  \n",
    "\n",
    "Remembering our formulas above are for monthly pay, we solve:\n",
    "$$ 2,500 = 250 + .18x.$$\n",
    "\n",
    "**Exercise:** What do you find for the value of **x**?"
   ]
  },
  {
   "cell_type": "markdown",
   "metadata": {},
   "source": [
    "## Sanity check\n",
    "\n",
    "You'll find $x$ is over $\\$$10,000 per month. That means you'll need to sell over a hundred and twenty thousand dollars worth of electronics every year, just to make minimum wage.\n",
    "\n",
    "Does that sound like a lot to sell?\n",
    "\n",
    "**Exercise:** Exactly how much in sales **per year** do you need to make minimum wage, in Alberta?\n"
   ]
  },
  {
   "cell_type": "markdown",
   "metadata": {},
   "source": [
    "## Another province.\n",
    "\n",
    "What is minimum wage in your province? (You can look it up on the internet.) For instance, in Saskatchwan, it is $\\$$11 per hour. In Ontario, $\\$$14 per hour.\n",
    "\n",
    "**Exercise:** \n",
    "- Imitating the calculations above, what is the monthly minimum wage salary in your province?\n",
    "- How much product do you have to sell per month at Bigby, in order to match this month minimum wage salary?"
   ]
  },
  {
   "cell_type": "markdown",
   "metadata": {},
   "source": [
    "![alt text](https://github.com/callysto/callysto-sample-notebooks/blob/master/notebooks/images/Callysto_Notebook-Banners_Bottom_06.06.18.jpg?raw=true)"
   ]
  }
 ],
 "metadata": {
  "kernelspec": {
   "display_name": "Python 3",
   "language": "python",
   "name": "python3"
  },
  "language_info": {
   "codemirror_mode": {
    "name": "ipython",
    "version": 3
   },
   "file_extension": ".py",
   "mimetype": "text/x-python",
   "name": "python",
   "nbconvert_exporter": "python",
   "pygments_lexer": "ipython3",
   "version": "3.7.6"
  }
 },
 "nbformat": 4,
 "nbformat_minor": 2
}
