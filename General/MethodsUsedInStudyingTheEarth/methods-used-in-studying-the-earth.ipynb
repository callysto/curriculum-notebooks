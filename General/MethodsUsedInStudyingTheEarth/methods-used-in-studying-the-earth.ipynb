{
 "cells": [
  {
   "cell_type": "markdown",
   "metadata": {},
   "source": [
    "![Top banner](https://raw.githubusercontent.com/callysto/callysto-sample-notebooks/master/notebooks/images/Callysto_Notebook-Banner_Top_06.06.18.jpg)"
   ]
  },
  {
   "cell_type": "markdown",
   "metadata": {},
   "source": [
    "# Methods used in Scientific Study of the Earth"
   ]
  },
  {
   "cell_type": "code",
   "execution_count": null,
   "metadata": {},
   "outputs": [],
   "source": [
    "from IPython.display import HTML\n",
    "\n",
    "HTML('''<script>\n",
    "code_show=true; \n",
    "function code_toggle() {\n",
    " if (code_show){\n",
    " $('div.input').hide();\n",
    " } else {\n",
    " $('div.input').show();\n",
    " }\n",
    " code_show = !code_show\n",
    "} \n",
    "$( document ).ready(code_toggle);\n",
    "</script>\n",
    "<form action=\"javascript:code_toggle()\"><input type=\"submit\" value=\"Click here to toggle on/off the raw code.\"></form>''')"
   ]
  },
  {
   "cell_type": "markdown",
   "metadata": {},
   "source": [
    "## Introduction\n",
    "Over the past 4.6 billion years, the Earth has been constantly changing. As we know, the earth is always spinning and plate tectonics results in the the movement and formation of different continents. These changes occur over millions of years and can be observed from the surface by observing land forms and types of rocks in  the area. There are many specific indications that showcase different changes. These indications can be separated into two categories, sudden change and gradual change.\n",
    "### Sudden Change\n",
    "After a change occurs in the subsurface, it is brought to the surface as an event that is commonly classified as a \"natural disaster\" such as earthquakes and volcanoes. The main cause of these events is plate tectonics. Earth's crust is divided into many pieces called plates which move in relation to one another. Typically, plates move at a rate of 10cm/yr which seems very slow. As the plates move, they exert pressure on one another can result in earthquakes or volcanic eruptions.\n"
   ]
  },
  {
   "cell_type": "code",
   "execution_count": null,
   "metadata": {
    "scrolled": true
   },
   "outputs": [],
   "source": [
    "from __future__ import print_function\n",
    "from IPython.display import Image, HTML, clear_output\n",
    "from ipywidgets import interact, interactive, fixed, interact_manual\n",
    "import ipywidgets as widgets\n",
    "import random"
   ]
  },
  {
   "cell_type": "markdown",
   "metadata": {},
   "source": [
    "<img src=\"https://www.sciencealert.com/images/parks-plates_cascadia_subduction_zone_revised-01.jpg\" alt=\"Volcano\" width=\"420\" height=\"200\"/>"
   ]
  },
  {
   "cell_type": "markdown",
   "metadata": {},
   "source": [
    "Figure 1: Cross section of the volcano. One plate is being subducted underneath the other. The subducted plate is melting by the hot mantle which causes lava to reach the surface and escape through the surface in a volcanic eruption. This process can also cause earthquakes. (ScienceAlert)\n",
    "\n",
    "\n",
    "### Gradual Change\n",
    "Over time, much of the surface of the Earth has been subject to long term changes by wind and water. Rivers are channels of water which erode the surrounding area as they continue to flow while wind displaces dust and dirt, changing the shapes of the fomations."
   ]
  },
  {
   "cell_type": "code",
   "execution_count": null,
   "metadata": {},
   "outputs": [],
   "source": [
    "Image(filename='images/erosion.jpg',width=320,height=200)"
   ]
  },
  {
   "cell_type": "markdown",
   "metadata": {},
   "source": [
    "Figure 2: Erosion by fast moving water can cause different landforms to be created such as a waterfall. (Alexandra falls, NWT, Canada. Photo credits: Alyson Birce)\n",
    "## Modeling Earth's Interior\n",
    "From the surface of the Earth, we have seen the different types of changes. The trends regarding the magnetic and gravitational fields can provide insight into the cross section of the Earth. From lots of research, the current model of the Earth is shown below."
   ]
  },
  {
   "cell_type": "markdown",
   "metadata": {},
   "source": [
    "![Cross section](https://prd-wret.s3-us-west-2.amazonaws.com/assets/palladium/production/s3fs-public/styles/atom_page_medium/public/thumbnails/image/earthxsection.jpg?itok=mIG3lL0v)"
   ]
  },
  {
   "cell_type": "markdown",
   "metadata": {},
   "source": [
    "Figure 3: Cross section of the Earth (U.S Geological Survey)\n",
    "\n",
    "## Tools/ Techniques\n",
    "There are a variety of methods that are used to observe the subsurface at a depth that can not be reached by simply using a shovel.\n",
    "\n",
    "### Seismographs\n",
    "A Seismograph is an instrument that is used to record fluxuations in the ground shown in figure 4. This is commonly used to predict and record earthquakes. There are 3 types of earthquake waves: p waves, s waves and surface waves which occur in that order respectively. All of these can be seen on seismograph records as seen in Figure 5 below. An earthquake begins at a set point called the Focal point which the source of wave propagation. P waves are also refered to as primary waves and are recorded first as they move the fastest and it is transmitted through the whole Earth. S waves are also refered to as secondary waves and are the second wave to be recorded. These waves can not travel through liquids such as the mantle. This can be seen in Figure 5. A surface wave is the mechanical wave that causes the most damage during the Earthquake."
   ]
  },
  {
   "cell_type": "markdown",
   "metadata": {},
   "source": [
    "![seismograph](http://www.tech-learn.org/bishoeq/richter/images/seismograph.gif)"
   ]
  },
  {
   "cell_type": "markdown",
   "metadata": {},
   "source": [
    "Figure 4: The Seismograph instrument used to record earthquakes. (Nevada Seismological Laboratory)"
   ]
  },
  {
   "cell_type": "markdown",
   "metadata": {},
   "source": [
    "<img src=\"https://media.giphy.com/media/kQPS6ASP23cvC/giphy.gif\" alt=\"Earth GIF\" width=\"720\" height=\"400\"/>"
   ]
  },
  {
   "cell_type": "markdown",
   "metadata": {},
   "source": [
    "Figure 5: This diagram shows how the waves propagate through the earth during the earthquake. The focal point is marked by the white circle at the beginning of the video, then the waves propagate outwards. The P waves are marked with red lines, the S waves are marked with blue lines and the surface waves are marked with yellow lines. (GIPHY)"
   ]
  },
  {
   "cell_type": "markdown",
   "metadata": {},
   "source": [
    "### Core Drills\n",
    "When analyzing the composition of the subsurface, we can use a drill to extract a long cylinder section of Earth. This is used to determine the composition which is useful when looking for evidence of oil. A drill is shown in figure 6 below. "
   ]
  },
  {
   "cell_type": "markdown",
   "metadata": {},
   "source": [
    "<img src=\"https://www.wintershall.com/fileadmin/03_Menue_Main/03_Technology_Innovation/05_Drilling/drill-bit-reservoir_02.png\" alt=\"drill bit\" width=\"400\" height=\"200\" style=\"float: left;\"/>\n",
    "<img src=\"https://www.northernminer.com/wp-content/uploads/2014/08/1003214678-1003215887-633x437.jpg\" alt=\"core\" width=\"400\" height=\"200\" style=\"float: right;\"/> "
   ]
  },
  {
   "cell_type": "markdown",
   "metadata": {},
   "source": [
    "Figure 6: On the left, the drill bit for taking a cylinder of core.(Wintershall) On the right, the core is extracted from the ground. Based on the analysis of the composition, we can determine the depth that we can find oil for drilling a well. (The Northern Miner)\n",
    "\n",
    "## Describing Rocks and Minerals\n",
    "### Definitions\n",
    "**Rock** - a natural substance which is composed of minerals.\n",
    "**Mineral** - a naturally occurring chemical compound that is not produced by life processes.\n",
    "Rocks and minerals can not be accurately identified by colour alone. The other properties must be taken into account for proper identification. These properties include luster, transparency, cleavage and fracture, and the Moh's hardness scale. In this section, we will explore each of the properties.\n",
    "### Luster\n",
    "This describes the \"shinyness\" of the sample. This assists with categorizing minerals as metals verses non-metals."
   ]
  },
  {
   "cell_type": "markdown",
   "metadata": {},
   "source": [
    "<img src=\"https://geology.com/minerals/photos/hematite-61.jpg\" alt=\"hematite\" width=\"400\" height=\"200\" style=\"float: left;\"/>\n",
    "<img src=\"https://flexiblelearning.auckland.ac.nz/rocks_minerals/rocks/images/quartzite2.jpg\" alt=\"quartzite\" width=\"400\" height=\"200\" style=\"float: right;\"/>"
   ]
  },
  {
   "cell_type": "markdown",
   "metadata": {},
   "source": [
    "Figure 6: The rock on the left, is hematite which is categorized as having a metallic luster (geology.com). The rock on the right, is quartzite which is categorized as having a non-metallic luster (University of Auckland).\n",
    "### Transparency\n",
    "This answers 2 questions. Can you see through the mineral? If so, how much?"
   ]
  },
  {
   "cell_type": "markdown",
   "metadata": {},
   "source": [
    "<img src=\"https://upload.wikimedia.org/wikipedia/commons/thumb/1/14/Quartz%2C_Tibet.jpg/440px-Quartz%2C_Tibet.jpg\" alt=\"quartz\" width=\"300\" height=\"200\" style=\"float: left;\"/>\n",
    "\n",
    "<img src=\"https://www.lockhaven.edu/~dsimanek/14/doubrefract.jpg\" alt=\"calcite\" width=\"400\" height=\"200\" style=\"float: right;\"/>"
   ]
  },
  {
   "cell_type": "markdown",
   "metadata": {},
   "source": [
    "Figure 7: At the top, we can see quartz is relatively transparent (Wikipedia). However, in other forms, it can be translucent or even opaque. At the bottom, we can see that the words appear twice through the mineral. This characteristic is only seen in some forms of calcite (Lock Haven).\n",
    "\n",
    "### Cleavage and Fracture\n",
    "This describes the shape of the rock if it were to break.\n",
    "**Fracture** - When the rock breaks, the edges appear rough and cracked."
   ]
  },
  {
   "cell_type": "markdown",
   "metadata": {},
   "source": [
    "<img src=\"https://arkansasgeological.files.wordpress.com/2017/02/sphalerite-and-dolomite-1.jpg\" alt=\"zinc ore\" width=\"400\" height=\"200\"/>\n"
   ]
  },
  {
   "cell_type": "markdown",
   "metadata": {},
   "source": [
    "Figure 8: An example of a mineral with a fractured edge is zinc ore. (Arkansas Geological Survey)\n",
    "**Cleavage** - When the rock breaks, it would break along a plane where the edges appear smooth as if they were cut. This can be further subdivided into subcategories based on the number of directions the planes run. These are shown in figure 9 below."
   ]
  },
  {
   "cell_type": "markdown",
   "metadata": {},
   "source": [
    "<img src=\"http://academic.brooklyn.cuny.edu/geology/grocha/mineral/images/cleavage.jpg\" alt=\"cleavage\" width=\"400\" height=\"200\"/>"
   ]
  },
  {
   "cell_type": "markdown",
   "metadata": {},
   "source": [
    "Figure 9: The subcategories of cleavage based on the number of planes that are apparent.\n",
    "\n",
    "### Moh's Hardness scale\n",
    "The hardness of a rock is ranked on a scale of 1-10 based on how easy it can be scratched. Common rocks as well as tools can be used to compare hardness. Typically the chosen material is scratched against the surface of the unknown rock. The surface that ends up with a scratch mark is the softer substance. These known rocks and tools are shown below in figure 10."
   ]
  },
  {
   "cell_type": "markdown",
   "metadata": {},
   "source": [
    "<img src=\"https://images-na.ssl-images-amazon.com/images/I/71gzvN0FbZL._SY879_.jpg\" alt=\"mohs scale\" width=\"400\" height=\"200\"/>"
   ]
  },
  {
   "cell_type": "code",
   "execution_count": null,
   "metadata": {},
   "outputs": [],
   "source": [
    "scale= ['talc', 'gypsum','calcite','fluorite','apatite', 'feldspar','quartz','topaz','corundum','diamond']\n",
    "\n",
    "check=widgets.Button(description=\"Check\")\n",
    "button = widgets.Button(description=\"Next Question\")\n",
    "\n",
    "txt=widgets.Text(\n",
    "    placeholder='Type something',\n",
    "    disabled=False\n",
    ")\n",
    "\n",
    "def ask_question(b):\n",
    "    clear_output(wait=True)\n",
    "    global num\n",
    "    num = random.randint(1,10)\n",
    "    print('What is the hardness of the mineral',scale[num-1],'?')\n",
    "    display(txt)\n",
    "    display(check)\n",
    "\n",
    "def check_clicked(b):\n",
    "    clear_output(wait=True)\n",
    "    v = txt.value\n",
    "    if v==str(num):\n",
    "        print('CORRECT')\n",
    "        print(scale[num-1], 'has a hardness of',num)\n",
    "        display(button)\n",
    "        clear_output(wait=True)\n",
    "    else:\n",
    "        print('incorrect')\n",
    "        print(scale[num-1], 'has a hardness of',num)\n",
    "        display(button)\n",
    "\n",
    "\n",
    "check.on_click(check_clicked)\n",
    "button.on_click(ask_question)\n",
    "ask_question(button)"
   ]
  },
  {
   "cell_type": "markdown",
   "metadata": {},
   "source": [
    "Figure 10: The Moh's Harness Scale and minerals that are examples of each category. (Amazon) Some common tools are associated with specific hardnesses such as the common fingernail which has a hardness of 2.5."
   ]
  },
  {
   "cell_type": "markdown",
   "metadata": {},
   "source": [
    "### References\n",
    "1. ScienceAlert, Discover Ideas on Active volcanoes, Pinterest, accessed 3 July 2018\n",
    "<https://www.pinterest.com.au/pin/849421179688448478 >\n",
    "2. U.S Geological Survey, Earth Cross-Section, accessed 3 July 2018\n",
    "<https://www.usgs.gov/media/images/earth-cross-section>\n",
    "3. Nevada Seismological Laboratory, Seismic Deformation, accessed 3 July 2018\n",
    "<http://crack.seismo.unr.edu/ftp/pub/louie/class/100/seismic-waves.html>\n",
    "4. GIPHY, Earth GIFs, accessed 3 July 2018\n",
    "<https://media.giphy.com/media/kQPS6ASP23cvC/giphy.gif>\n",
    "5. Wintershall, The Well, accessed 6 July 2018\n",
    "<https://www.wintershall.com/technology-innovation/drilling.html>\n",
    "6. The Northern Miner, accessed 6 July 2018\n",
    "<http://www.northernminer.com/news/balmoral-delivers-more-high-grade-nickel-pgm-at-grasset/1003214678/>\n",
    "7. geology.com, Hematite, accessed 6 July 2018\n",
    "<https://geology.com/minerals/hematite.shtml>\n",
    "8. geology rocks and minerals, quartzite, accessed 6 July 2018\n",
    "<https://flexiblelearning.auckland.ac.nz/rocks_minerals/rocks/quartzite.html>\n",
    "9. Wikipedia, accessed 28 January 2019\n",
    "<https://en.wikipedia.org/wiki/Quartz>\n",
    "10. Lock Haven, calcite, accessed 6 July 2018\n",
    "<https://www.lockhaven.edu/~dsimanek/14/stereo.htm>\n",
    "11. Arkansas Geological Survey, zinc ore, accessed 9 July 2018\n",
    "<https://arkansasgeological.wordpress.com/tag/sphalerite/>\n",
    "12. Brooklyn College, Cleavage, accessed 9 July 2018\n",
    "<http://academic.brooklyn.cuny.edu/geology/grocha/mineral/cleavage.html>\n",
    "13. Amazon, Moh's Hardness scale, accessed 9 July 2018\n",
    "<https://www.amazon.com/Mohs-Hardness-Scale-Collection-specimens/dp/B00K24O1G8>\n"
   ]
  },
  {
   "cell_type": "markdown",
   "metadata": {},
   "source": [
    "![Bottom banner](https://raw.githubusercontent.com/callysto/callysto-sample-notebooks/master/notebooks/images/Callysto_Notebook-Banners_Bottom_06.06.18.jpg)"
   ]
  }
 ],
 "metadata": {
  "kernelspec": {
   "display_name": "Python 3",
   "language": "python",
   "name": "python3"
  },
  "language_info": {
   "codemirror_mode": {
    "name": "ipython",
    "version": 3
   },
   "file_extension": ".py",
   "mimetype": "text/x-python",
   "name": "python",
   "nbconvert_exporter": "python",
   "pygments_lexer": "ipython3",
   "version": "3.7.0"
  }
 },
 "nbformat": 4,
 "nbformat_minor": 2
}
