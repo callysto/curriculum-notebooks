{
 "cells": [
  {
   "cell_type": "markdown",
   "metadata": {},
   "source": [
    "![Callysto.ca Banner](https://github.com/callysto/curriculum-notebooks/blob/master/callysto-notebook-banner-top.jpg?raw=true)\n",
    "\n",
    "<a href=\"https://hub.callysto.ca/jupyter/hub/user-redirect/git-pull?repo=https%3A%2F%2Fgithub.com%2Fcallysto%2Fcurriculum-notebooks&branch=master&subPath=Languages/FrenchVerbCodingConjugation/french-verb-conjugation.ipynb&depth=1\n",
    "        \" target=\"_parent\"><img src=\"https://raw.githubusercontent.com/callysto/curriculum-notebooks/master/open-in-callysto-button.svg?sanitize=true\" width=\"123\" height=\"24\" alt=\"Open in Callysto\"/></a>"
   ]
  },
  {
   "cell_type": "markdown",
   "metadata": {
    "hidden": false
   },
   "source": [
    "# French Verb Conjugation\n",
    "\n",
    "## Introduction\n",
    "\n",
    "In this Jupyter notebook you will be introduced to some French verb conjugation. Mastering the basics of verb conjugation is essential to reading and writing in French. There are some basic rules (and exceptions) that we will address. \n",
    "\n",
    "Because much of conjugation is algorithmic, one can write computer code to do the task for us. If you are interested in the programming aspects, please see the related notebook [French-Verb-Coding](french-verb-coding.ipynb). \n",
    "\n",
    "#### Necessary background\n",
    "- some basic knowledge of French\n",
    "- elementary Python syntax\n",
    "\n",
    "#### Outline of this notebook\n",
    "\n",
    "We will cover several important topics\n",
    "- a review of personal pronouns in French\n",
    "- two important verbs, être and avoir\n",
    "- the regular verbs, with endings \"-er\", \"-ir\" and \"-re\"\n",
    "- exceptions to the regular verbs\n",
    "\n",
    "#### Allons-y!"
   ]
  },
  {
   "cell_type": "markdown",
   "metadata": {},
   "source": [
    "## Startup code\n",
    "\n",
    "This notebook will use Python code. To get started, we need to load in a few modules that have useful \"helper\" functions to get us going. Be sure to run the following code to get these modules activated."
   ]
  },
  {
   "cell_type": "code",
   "execution_count": null,
   "metadata": {},
   "outputs": [],
   "source": [
    "import plotly.graph_objects as go\n",
    "\n",
    "def plot_table(inp, valu, width, height):\n",
    "    trace0 = go.Table(\n",
    "        columnorder = list(range(1, len(inp) + 1)),\n",
    "        columnwidth = [10,10],\n",
    "        header = dict(\n",
    "            values = valu,\n",
    "            line = dict(color = 'rgb(0,0,0)'),\n",
    "            fill = dict(color = 'rgb(0,35,48)'),\n",
    "            align = ['center'] * len(inp),\n",
    "            font = dict(color = 'white', size = 16),\n",
    "            height = 40\n",
    "        ),\n",
    "        cells = dict(\n",
    "            values = inp,\n",
    "            line = dict(color = 'black'),\n",
    "            fill = dict(color = 'rgb(95,102,161)'),\n",
    "            align = ['center'] * len(inp),\n",
    "            font = dict(color = 'white', size = 14),\n",
    "            height = 30\n",
    "        )\n",
    "    )\n",
    "\n",
    "    go.Figure(data = [trace0], layout = {'width': width, 'height': height}).show()"
   ]
  },
  {
   "cell_type": "markdown",
   "metadata": {
    "hidden": false
   },
   "source": [
    "## Personal pronouns\n",
    "\n",
    "Conjugation is the processing of force the verb in a sentence to \"agree\" with the subject of that sentence. Typically, the subject of a sentence is a pronoun, so to start conjugating verbs, we can review the personal pronouns in French. \n",
    "\n",
    "Below is table showing the subject pronouns in French. These will be used to separate the different cases of verb conjugation."
   ]
  },
  {
   "cell_type": "code",
   "execution_count": null,
   "metadata": {},
   "outputs": [],
   "source": [
    "#table for personal pronouns using plotly\n",
    "french = ['je','tu','elle, il, on','nous','vous','elles, ils']\n",
    "english = ['I','you','she, he, one','we','you (plural or formal)','they']\n",
    "person = ['First','Second','Third','First (plural)','Second (plural)','Third (plural)']\n",
    "\n",
    "plot_table([person,french,english], ['Person','French','English'], width=750, height=450)"
   ]
  },
  {
   "cell_type": "markdown",
   "metadata": {
    "hidden": false
   },
   "source": [
    "Our verb conjugation rules will be based on these personal pronouns, so it is good to get familiar with their translations. French makes a distinction between all of these different tenses based on their person, whether or not they are masculine or feminine, and if they are plural or singular. \n",
    "\n",
    "\n",
    "## Two Important Verbs\n",
    "\n",
    "Let's jump right to conjugating the two (arguably) most important verbs: To Be and To Have.\n",
    "\n",
    "\n",
    "\n",
    "### 1. Être (to be)"
   ]
  },
  {
   "cell_type": "code",
   "execution_count": null,
   "metadata": {},
   "outputs": [],
   "source": [
    "french = ['je','tu','elle, il, on','nous','vous','elles, ils']\n",
    "etre_conjug = ['suis','es','est','sommes','êtes','sont']\n",
    "\n",
    "plot_table([french,etre_conjug], ['Pronoun','Conjugation'], width=500, height=450)"
   ]
  },
  {
   "cell_type": "markdown",
   "metadata": {
    "hidden": false
   },
   "source": [
    "To use these in a sentence, you could write something like:\n",
    "- Je suis un garçon.\n",
    "- Elle est une fille.\n",
    "- Nous sommes tous les humaines. \n",
    "\n",
    "Notice how in each sentence, the form of the verb changes to match subject pronoun. \n",
    "\n",
    "\"Être\" is an irregular verb, that does not obey a certain format, if you will, for conjugating verbs in the present tense. There many examples of exceptions, which we will explore further. But first, the next most important verb:"
   ]
  },
  {
   "cell_type": "markdown",
   "metadata": {
    "hidden": false
   },
   "source": [
    "### 2. Avoir  (to have)"
   ]
  },
  {
   "cell_type": "code",
   "execution_count": null,
   "metadata": {},
   "outputs": [],
   "source": [
    "french = [\"j'\",'tu','elle, il, on','nous','vous','elles, ils']\n",
    "avoir_conjug = ['ai','as','a','avons','avez','ont']\n",
    "\n",
    "plot_table([french,avoir_conjug], ['Pronoun','Conjugation'], width=500, height=450)"
   ]
  },
  {
   "cell_type": "markdown",
   "metadata": {
    "hidden": false
   },
   "source": [
    "Notice for the first person singular we have *j'* instead of *je*, this is due to the fact that the verb starts a vowel. This rule is similar to using \"a\" and \"an\" in English. "
   ]
  },
  {
   "cell_type": "markdown",
   "metadata": {
    "hidden": false
   },
   "source": [
    "## The Regular Verbs\n",
    "\n",
    "There are three types of regular verbs, which are identified by their endings. They are:\n",
    "- the \"-er\" verbs, such as \"parler\" (to speak)\n",
    "- the \"-ir\" verbs, such as \"finir\" (to finish)\n",
    "- the \"-re\" verbs, such as \"vendre\" (to sell)\n",
    "\n",
    "Each of these three type has its own pattern for conjugation, which is shared by all other regular verbs of the same type. Let's have a look at these.\n",
    "\n",
    "### 1. The \"-er\" Regular Verbs\n",
    "\n",
    "There is a general rubric for conjugating verbs that end in **er** in the present tense. \n",
    "\n",
    "We will illustrate this with the verb \"parler\" (to speak). The stem of the verb parler is \"parl-\". We conjugate it by adding on the endings \"e\", \"es\", \"e\", \"ons\", \"ez\" \"ent\" for the corresponding pronouns, as follows:"
   ]
  },
  {
   "cell_type": "code",
   "execution_count": null,
   "metadata": {},
   "outputs": [],
   "source": [
    "french = ['je','tu','elle, il, on','nous','vous','elles, ils']\n",
    "stem = ['parl-','parl-','parl-','parl-','parl-','parl-']\n",
    "ending = ['e','es','e','ons','ez','ent']\n",
    "parler_conjug = ['parle','parles','parle','parlons','parlez','parlent']\n",
    "\n",
    "plot_table([french,parler_conjug], ['Pronoun','Conjugation'], width=500, height=450)"
   ]
  },
  {
   "cell_type": "markdown",
   "metadata": {},
   "source": [
    "This can be taken as the general rule for conjugating **er** verbs in the present tense. All you need to do is find the stem of the verb, which was parl- in this case and then apply these endings to figure out how to conjugate the verb for every personal pronoun.\n",
    "\n",
    "For instance, try this yourself with the verb \"changer\" (to sing). The stem is \"chant-\", so what are the corresponding six conjucations, as in the table above?\n",
    "\n",
    "This pattern works for most \"er\" verbs, and there are hundreds of them. Some common ones are:\n",
    "\n",
    "\n",
    "- aimer\t (to like/love)\n",
    "- arriver (to arrive, to happen)\n",
    "- brosser (to brush)\n",
    "- chanter (to sing\n",
    "- chercher (to look for)\n",
    "- danser (to dance)\n",
    "- demander (to ask for)\n",
    "- détester (to hate)\n",
    "- donner (to give)\n",
    "- écouter (to listen to)\n",
    "- étudier (to study)\n",
    "- gagner\t(to win, to earn)\n",
    "- habiter\t(to live)\n",
    "- jouer\t(to play)\n",
    "- manquer\t(to miss)\n",
    "- marcher\t(to walk, to function)\n",
    "- parler\t(to talk, to speak)\n",
    "- penser\t(to think)\n",
    "- regarder\t(to watch, to look at)\n",
    "- travailler\t(to work)\n",
    "- trouver\t(to find)\n",
    "- visiter\t(to visit (a place)\n",
    "\n",
    "There are also many exception for hte **er** verbs, which we will discuss below. "
   ]
  },
  {
   "cell_type": "markdown",
   "metadata": {
    "hidden": false
   },
   "source": [
    "### 2. The \"-ir\" Regular Verbs\n",
    "\n",
    "There is a general rubric for conjugating verbs that end in **ir** in the present tense. \n",
    "\n",
    "We will illustrate this with the verb \"finir\" (to finish). The stem of the verb finit is \"fin-\". We conjugate it by adding on the endings \"is\", \"is\", \"it\", \"issons\", \"issez\" \"issent\" for the corresponding pronouns, as follows:"
   ]
  },
  {
   "cell_type": "code",
   "execution_count": null,
   "metadata": {},
   "outputs": [],
   "source": [
    "french = ['je','tu','elle, il, on','nous','vous','elles, ils']\n",
    "finir_stem = ['fin-','fin-','fin-','fin-','fin-','fin-']\n",
    "ir_ending = ['is','is','eit','issons','issez','issent']\n",
    "finir_conjug = ['finis','finis','finit','finisson','finissez','finissent']\n",
    "\n",
    "plot_table([french,finir_conjug], ['Pronoun','Conjugation'], width=500, height=450)"
   ]
  },
  {
   "cell_type": "markdown",
   "metadata": {
    "hidden": false
   },
   "source": [
    "This can be taken as the general rule for conjugating **ir** verbs in the present tense. All you need to do is find the *stem* of the verb, which was fin- in this case and then apply these endings to figure out how to conjugate the verb for every personal pronoun. \n",
    "\n",
    "For instance, try this yourself with the verb \"grandir\" (to grow). The stem is \"grand-\", so what are the corresponding six conjucations, as in the table above?\n",
    "\n",
    "This pattern works for most \"ir\" verbs, and there are hundreds of them. Some common ones are:\n",
    "\n",
    "- applaudir (to applaud)\n",
    "- bâtir (to build)\n",
    "- choisir (to choose)\n",
    "- désobéir (to disobey)\n",
    "- finir (to finish)\n",
    "- grandir (to grow up)\n",
    "- grossir (to gain weight)\n",
    "- guérir (to heal, to get well)\n",
    "- maigrir (to lose weight)\n",
    "- obéir (to obey)\n",
    "- punir (to punish)\n",
    "- réfléchir (to think, to reflect)\n",
    "- remplir (to fill)\n",
    "- réussir (to succeed)\n",
    "- vieillir (to grow old)\n",
    "\n",
    "Again, though, there will be exceptions..."
   ]
  },
  {
   "cell_type": "markdown",
   "metadata": {
    "hidden": false
   },
   "source": [
    "### 3. The \"-re\" Regular Verbs\n",
    "\n",
    "There is a general rubric for conjugating verbs that end in **re** in the present tense. \n",
    "\n",
    "We will illustrate this with the verb \"vendre\" (to sell). The stem of the verb finit is \"vend-\". We conjugate it by adding on the endings \"s\", \"s\", \"nothing\", \"ons\", \"ez\" \"ent\" for the corresponding pronouns, as follows:"
   ]
  },
  {
   "cell_type": "code",
   "execution_count": null,
   "metadata": {},
   "outputs": [],
   "source": [
    "french = ['je','tu','elle, il, on','nous','vous','elles, ils']\n",
    "vendre_stem = ['vend-','vend-','vend-','vend-','vend-','vend-']\n",
    "re_ending = ['s','s','','ons','ez','ent']\n",
    "vendre_conjug = ['vends','vends','vend','vendons','vendez','vendent']\n",
    "\n",
    "plot_table([french,vendre_conjug], ['Pronoun','Conjugation'], width=500, height=450)"
   ]
  },
  {
   "cell_type": "markdown",
   "metadata": {
    "hidden": false
   },
   "source": [
    "This can be taken as the general rule for conjugating **re** verbs in the present tense. All you need to do is find the *stem* of the verb, which was vend- in this case and then apply these endings to figure out how to conjugate the verb for every personal pronoun. \n",
    "\n",
    "For instance, try this yourself with the verb \"grandir\" (to grow). The stem is \"grand-\", so what are the corresponding six conjugations, as in the table above?\n",
    "\n",
    "This pattern works for most \"re\" verbs, and there are many of them. Some common ones are:\n",
    "\n",
    "- attendre (to wait)\n",
    "- défendre (to defend)\n",
    "- descendre (to descend)\n",
    "- entendre (to hear)\n",
    "- étendre (to stretch)\n",
    "- fondre (to melt)\n",
    "- pendre (to hang, or suspend)\n",
    "- perdre (to lose)\n",
    "- prétendre (to claim)\n",
    "- rendre (to give back, or return)\n",
    "- répondre (to answer)\n",
    "- vendre (to sell)\n",
    "\n",
    "Again, though, there will be exceptions..."
   ]
  },
  {
   "cell_type": "markdown",
   "metadata": {
    "hidden": false
   },
   "source": [
    "## 1. Exceptions to the regular er verbs\n",
    "\n",
    "French is filled with exceptions, which makes it a bit of a difficult language to master as one has to basically dedicate the exceptions to memory. An exception for a verb means that it is not (maybe just partially) conjugating using the endings given above. Most exceptions arise in an alteration of the stem of the verb.\n",
    "\n",
    "Thankfully there are not many exceptions for the **er** verbs.  Here are three notable ones:\n",
    "\n",
    "### 1a. The  \"-oyer\" and \"-uyer\" exceptions:\n",
    "\n",
    "For verbs like \"envoyer\" (to send) or \"ennuyer\" (to annoy) the stem changes the \"y\" to an \"i\" for all pronouns except nous and vous:"
   ]
  },
  {
   "cell_type": "code",
   "execution_count": null,
   "metadata": {},
   "outputs": [],
   "source": [
    "french = [\"j'\",'tu','elle, il, on','nous','vous','elles, ils']\n",
    "envoyer_conjug = ['envoie', 'envoies','envoie','envoyons','envoyez','envoient']\n",
    "\n",
    "plot_table([french,envoyer_conjug], ['Pronoun','Conjugation'], width=500, height=450)"
   ]
  },
  {
   "cell_type": "markdown",
   "metadata": {
    "hidden": false
   },
   "source": [
    "### 1b. The \"e_er\" or \"é_er\" exceptions:\n",
    "\n",
    "Verbs like \"acheter\" (to buy) or \"préférer\" (to prefer) also follow an exception rule. The accent aigue becomes an accent grave, that is,  é becomes è, except in the nous and vous cases, where it does not change. Note this means the pronunciation of the letter changes as well. "
   ]
  },
  {
   "cell_type": "code",
   "execution_count": null,
   "metadata": {},
   "outputs": [],
   "source": [
    "preferer_conjug = ['préfère','préfères','préfère','préférons','préférez','préfèrent']\n",
    "french = ['je','tu','elle, il, on','nous','vous','elles, ils']\n",
    "\n",
    "plot_table([french,preferer_conjug], ['Pronoun','Conjugation'], width=500, height=450)"
   ]
  },
  {
   "cell_type": "markdown",
   "metadata": {
    "hidden": false
   },
   "source": [
    "### 1c. The  \" –eler \" and \" -eter \" exceptions:\n",
    "\n",
    "For verbs like \"appeler\" (to call) or \"rejeter\" (to reject) the letters \"l\" \n",
    "or \"t\" get doubled. Again, this does not hold for the nous and vous cases."
   ]
  },
  {
   "cell_type": "code",
   "execution_count": null,
   "metadata": {},
   "outputs": [],
   "source": [
    "french = ['je','tu','elle, il, on','nous','vous','elles, ils']\n",
    "appeler_conjug = ['appelle','appelles','appelle','appelons','appelez','appellent']\n",
    "\n",
    "plot_table([french,appeler_conjug], ['Pronoun','Conjugation'], width=500, height=450)"
   ]
  },
  {
   "cell_type": "markdown",
   "metadata": {
    "hidden": false
   },
   "source": [
    "It's important to be aware of these exceptions, as you will be able to identify patterns in verbs of these forms and the exceptions themselves, like how it doesn't apply for nous and vous. Knowledge of the exceptions is crucial to mastering the language!"
   ]
  },
  {
   "cell_type": "markdown",
   "metadata": {},
   "source": [
    "## 2. Exceptions to the regular ir verbs\n",
    "\n",
    "Unfortunately, with the **ir** verbs, there are many, many exceptions.  Three important ones are as follows:\n",
    "\n",
    "### 2a. Verbs like partir (to leave):\n",
    "\n",
    "For \"partir\" (to leave), the keep is to drop the \"t\" from the stem in the singular case, and add the endings \"s\", \"s\", \"t\". For the plural case, you keep the \"t\". The conjugations go like this:"
   ]
  },
  {
   "cell_type": "code",
   "execution_count": null,
   "metadata": {},
   "outputs": [],
   "source": [
    "french = ['je','tu','elle, il, on','nous','vous','elles, ils']\n",
    "partir_conjug = ['pars','pars','part','partons','partez','partent']\n",
    "\n",
    "plot_table([french,partir_conjug], ['Pronoun','Conjugation'], width=500, height=450)"
   ]
  },
  {
   "cell_type": "markdown",
   "metadata": {},
   "source": [
    "Other irregular ir verbs like partir include:\n",
    "\n",
    "- dormir (to sleep)\n",
    "- mentir (to lie)\n",
    "- partir (to leave)\n",
    "- sentir (to feel) \n",
    "- servir (to serve)\n",
    "- sortir (to go out)"
   ]
  },
  {
   "cell_type": "markdown",
   "metadata": {},
   "source": [
    "### 2b. Verbs that end in -llir, -frir, or -vrir\n",
    "\n",
    "Curiously, these verbs conjugate like an \"er\" verb. Just take the stem and add the endings \"e\", \"es\", \"s\", \"ons\", \"ez\", \"emt.\" For instance, here is the conjugation for ouvrir (to open):"
   ]
  },
  {
   "cell_type": "code",
   "execution_count": null,
   "metadata": {},
   "outputs": [],
   "source": [
    "french = ['je','tu','elle, il, on','nous','vous','elles, ils']\n",
    "ouvrir_conjug = ['ouvre','ouvres','ouvre','ouvrons','ouvrez','ouvrent']\n",
    "\n",
    "plot_table([french,ouvrir_conjug], ['Pronoun','Conjugation'], width=500, height=450)"
   ]
  },
  {
   "cell_type": "markdown",
   "metadata": {},
   "source": [
    "Other ir verbs that follow this pattern include:\n",
    "- couvrir (to cover)\n",
    "- cueillir (to pick)\n",
    "- offrir (to offer)\n",
    "- ouvrir (to open)\n",
    "- souffrir (to suffer)\n"
   ]
  },
  {
   "cell_type": "markdown",
   "metadata": {},
   "source": [
    "### 2c. Verbs that end in -enir\n",
    "\n",
    "These ones all follow a similar pattern. The stem changes in the singular cases and the endings are just like the first irregular ir case (like partir). Here is the conjugation for tenir (to hold): "
   ]
  },
  {
   "cell_type": "code",
   "execution_count": null,
   "metadata": {},
   "outputs": [],
   "source": [
    "french = ['je','tu','elle, il, on','nous','vous','elles, ils']\n",
    "tenir_conjug = ['tiens','tiens','tient','tenons','tenez','tenent']\n",
    "\n",
    "plot_table([french,tenir_conjug], ['Pronoun','Conjugation'], width=500, height=450)"
   ]
  },
  {
   "cell_type": "markdown",
   "metadata": {},
   "source": [
    "Other verbs in this irregular category include: \n",
    "- appartenir (to belong)\n",
    "- contenir (to contain)\n",
    "- convenir (to suit)\n",
    "- devenir (to become)\n",
    "- maintenir (to maintain)\n",
    "- obtenir (to obtain)\n",
    "- parvenir (to reach, or achieve)\n",
    "- prévenir (to warn, or prevent)\n",
    "- retenir (to retain)\n",
    "- revenir (to come back)\n",
    "- soutenir (to support)\n",
    "- (se) souvenir\t(to remember)\n",
    "- tenir (to hold)\n",
    "- venir (to come)"
   ]
  },
  {
   "cell_type": "markdown",
   "metadata": {},
   "source": [
    "### 2d. Other very irregular ir verbs\n",
    "\n",
    "There are a dozen or so irregular ir verbs that don't fit any pattern. These include many that end in oir, as well as other like acquérir, asseoir, avoir, courir, devoir, falloir, mourir, pleuvoir, pouvoir, recevoir, savoir, servir, valoir, voir. You just have to learn these conjugations individually."
   ]
  },
  {
   "cell_type": "markdown",
   "metadata": {},
   "source": [
    "## 3. Exceptions to the re verbs\n",
    "\n",
    "As with the other two regular classes, the **re** verbs also have several exceptions. In all cases, the changes involve adding or dropping a consonant in the stem, and possibly adjusting the endings. A quick summary is to say that the unusual changes have to do with making the spelling match the pronunciation of the verb forms. In some sense, it is easier to learn what the verbs sound like, and then spell them to match. \n",
    "\n",
    "There are four basic exceptions, as follows:\n",
    "\n",
    "### 3a. The verb prendre (to take) and its relatives\n",
    "\n",
    "Here, you just drop the \"d\" from the stem in the plural form, and add an extra \"n\" in the last case:"
   ]
  },
  {
   "cell_type": "code",
   "execution_count": null,
   "metadata": {},
   "outputs": [],
   "source": [
    "french = ['je','tu','elle, il, on','nous','vous','elles, ils']\n",
    "prendre_conjug = ['prends','prends','prend','prenons','prenez','prennent']\n",
    "\n",
    "plot_table([french,prendre_conjug], ['Pronoun','Conjugation'], width=500, height=450)"
   ]
  },
  {
   "cell_type": "markdown",
   "metadata": {},
   "source": [
    "### 3b. The verbs battre (to fight) and mettre (to put)\n",
    "\n",
    "Here, you just drop one \"t\" from the stem in the singular form:"
   ]
  },
  {
   "cell_type": "code",
   "execution_count": null,
   "metadata": {},
   "outputs": [],
   "source": [
    "french = ['je','tu','elle, il, on','nous','vous','elles, ils']\n",
    "battre_conjug = ['bats','bats','bat','battons','battez','battent']\n",
    "\n",
    "plot_table([french,battre_conjug], ['Pronoun','Conjugation'], width=500, height=450)"
   ]
  },
  {
   "cell_type": "markdown",
   "metadata": {},
   "source": [
    "### 3c. The verbs rompre (to break) and its relatives\n",
    "This one is such a tiny exception: an extra t in the third person singular:"
   ]
  },
  {
   "cell_type": "code",
   "execution_count": null,
   "metadata": {},
   "outputs": [],
   "source": [
    "french = ['je','tu','elle, il, on','nous','vous','elles, ils']\n",
    "rompre_conjug = ['romps','romps','rompt','rompons','rompez','rompent']\n",
    "\n",
    "plot_table([french,rompre_conjug], ['Pronoun','Conjugation'], width=500, height=450)"
   ]
  },
  {
   "cell_type": "markdown",
   "metadata": {},
   "source": [
    "### 3d. Finally, Verbs Ending in –aindre, –eindre, and –oindre\n",
    "\n",
    "In this case, the dre/tre is dropped to form the stem, and in the plural cases, the letter g is inserted. Again, this is to get the prononciation to match the spelling. "
   ]
  },
  {
   "cell_type": "code",
   "execution_count": null,
   "metadata": {},
   "outputs": [],
   "source": [
    "french = ['je','tu','elle, il, on','nous','vous','elles, ils']\n",
    "craindre_conjug = ['crains','crains','craint','craignons','craignez','craignent']\n",
    "joindre_conjug = ['joins','joins','joint','joignon','joignez','joignent']\n",
    "peintre_conjug = ['peins','peins','peint','peignons','peignez','peignent']\n",
    "\n",
    "plot_table([french,craindre_conjug,joindre_conjug,peintre_conjug], \n",
    "           ['Pronoun','Craindre','Joindre','Peintre'], width=500, height=450)"
   ]
  },
  {
   "cell_type": "markdown",
   "metadata": {
    "hidden": false
   },
   "source": [
    "## Coding Examples\n",
    "\n",
    "How could one write code to see if someone conjugated a verb correctly? If you are interested in the programming aspects, please see the related notebook [French-Verb-Coding](french-verb-coding.ipynb)."
   ]
  },
  {
   "cell_type": "markdown",
   "metadata": {
    "hidden": false
   },
   "source": [
    "## Conclusion\n",
    "\n",
    "In this Jupyter notebook you were introduced to the basics of French verb conjugation in the present tense.\n",
    "\n",
    "Je te remercie pour avoir essayer les exercises donner. "
   ]
  },
  {
   "cell_type": "markdown",
   "metadata": {},
   "source": [
    "[![Callysto.ca License](https://github.com/callysto/curriculum-notebooks/blob/master/callysto-notebook-banner-bottom.jpg?raw=true)](https://github.com/callysto/curriculum-notebooks/blob/master/LICENSE.md)"
   ]
  }
 ],
 "metadata": {
  "kernelspec": {
   "display_name": "Python 3.10.4 64-bit",
   "language": "python",
   "name": "python3"
  },
  "language_info": {
   "codemirror_mode": {
    "name": "ipython",
    "version": 3
   },
   "file_extension": ".py",
   "mimetype": "text/x-python",
   "name": "python",
   "nbconvert_exporter": "python",
   "pygments_lexer": "ipython3",
   "version": "3.10.4"
  },
  "vscode": {
   "interpreter": {
    "hash": "aee8b7b246df8f9039afb4144a1f6fd8d2ca17a180786b69acc140d282b71a49"
   }
  }
 },
 "nbformat": 4,
 "nbformat_minor": 2
}
