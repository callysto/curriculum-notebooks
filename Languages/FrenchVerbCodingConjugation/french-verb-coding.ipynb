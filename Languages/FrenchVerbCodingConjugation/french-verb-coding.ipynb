{
 "cells": [
  {
   "cell_type": "markdown",
   "metadata": {},
   "source": [
    "![Callysto.ca Banner](https://github.com/callysto/curriculum-notebooks/blob/master/callysto-notebook-banner-top.jpg?raw=true)\n",
    "\n",
    "<a href=\"https://hub.callysto.ca/jupyter/hub/user-redirect/git-pull?repo=https%3A%2F%2Fgithub.com%2Fcallysto%2Fcurriculum-notebooks&branch=master&subPath=Languages/FrenchVerbCodingConjugation/french-verb-coding.ipynb&depth=1\" target=\"_parent\"><img src=\"https://raw.githubusercontent.com/callysto/curriculum-notebooks/master/open-in-callysto-button.svg?sanitize=true\" width=\"123\" height=\"24\" alt=\"Open in Callysto\"/></a>"
   ]
  },
  {
   "cell_type": "markdown",
   "metadata": {
    "hidden": false
   },
   "source": [
    "# French Verb Coding\n",
    "\n",
    "## Introduction\n",
    "\n",
    "In this Jupyter notebook we will look at French verb conjugation and some basics of programming in Python. \n",
    "\n",
    "Mastering the basics of verb conjugation is essential to reading and writing in French. For this notebook, we will only look at the **regular** French verbs and see how we can use them in a program to conjugate automatically. Along the way we will gain some insight into how this notebook was made and learn about some programming concepts.\n",
    "\n",
    "#### Necessary background\n",
    "- Some basic knowledge of French\n",
    "- Elementary Python syntax\n",
    "\n",
    "#### Allons-y!"
   ]
  },
  {
   "cell_type": "markdown",
   "metadata": {
    "hidden": false
   },
   "source": [
    "## Personal pronouns\n",
    "\n",
    "In order to start conjugating verbs, we must first learn what are the personal pronouns in French. These correspond to the usual English pronouns like I, you, he, she, etc. It is nice to put this into a table so the display is pretty.\n",
    "\n",
    "We can make three lists of words, which are just strings of characters surrounded by quotes which indicate the start and end of each word. These three lists are stored as **variables,** as follows:\n",
    "```\n",
    "french = ['je','tu','elle, il, on','nous','vous','elles, ils']\n",
    "english = ['I','you','she, he, one','we','you (plural or formal)','they']\n",
    "person = ['First','Second','Third','First (plural)','Second (plural)','Third (plural)']\n",
    "```\n",
    "\n",
    "We then construct a table using some standard Python code, from a package called 'Plotly.' Don't worry too much about the details -- you can read about them on the Plotly web pages.\n",
    "\n",
    "With this following code, we build and display a table showing the subject pronouns in French. These pronouns will be used to separate the different cases of verb conjugation. "
   ]
  },
  {
   "cell_type": "code",
   "execution_count": null,
   "metadata": {
    "hidden": false
   },
   "outputs": [],
   "source": [
    "#table for personal pronouns using Plotly\n",
    "french = ['je','tu','elle, il, on','nous','vous','elles, ils']\n",
    "english = ['I','you','she, he, one','we','you (plural or formal)','they']\n",
    "person = ['First (singular)','Second (singular)','Third (singular)','First (plural)','Second (plural)','Third (plural)']\n",
    "\n",
    "import plotly.graph_objects as go\n",
    "\n",
    "trace0 = go.Table(\n",
    "  columnorder = [1,2,3],\n",
    "  columnwidth = [10,10],\n",
    "  header = dict(\n",
    "    values = ['Person','French','English'],\n",
    "    line = dict(color = 'rgb(0,0,0)'),\n",
    "    fill = dict(color = 'rgb(0,35,48)'),\n",
    "    align = ['center','center'],\n",
    "    font = dict(color = 'white', size = 16),\n",
    "    height = 40\n",
    "  ),\n",
    "  cells = dict(\n",
    "    values = [person,french,english],\n",
    "    line = dict(color = 'black'),\n",
    "    fill = dict(color = 'rgb(95,102,161)'),\n",
    "    align = ['center', 'center'],\n",
    "    font = dict(color = 'white', size = 14),\n",
    "    height = 30\n",
    "    )\n",
    ")\n",
    "\n",
    "go.Figure(data=[trace0], layout={'width':750, 'height':450})"
   ]
  },
  {
   "cell_type": "markdown",
   "metadata": {
    "hidden": false
   },
   "source": [
    "Our verb conjugation rules will be based on these personal pronouns, so it is good to get familiar with their translations. French makes a distinction between all of these different tenses based on their person, whether or not they are masculine or feminine, and if they are plural or singular. \n",
    "\n"
   ]
  },
  {
   "cell_type": "markdown",
   "metadata": {
    "hidden": false
   },
   "source": [
    "## Regular \"er\" verbs\n",
    "\n",
    "Let's now look at the general rubric for conjugating verbs that end in **er** in the present tense. \n",
    "\n",
    "We will illustrate this with the verb \"parler\" (to speak). The stem of the verb parler is \"parl-\". We conjugate it by adding on the endings \"e\", \"es\", \"e\", \"ons\", \"ez\" \"ent\" for the corresponding pronouns. We put these into the data structure for the table, and build it as follows:\n",
    "\n",
    "(Be sure to run the following cell, to generate the table.)"
   ]
  },
  {
   "cell_type": "code",
   "execution_count": null,
   "metadata": {
    "hidden": false
   },
   "outputs": [],
   "source": [
    "pronouns = ['je','tu','elle, il, on','nous','vous','elles, ils']\n",
    "verbs = ['parle','parles','parle','parlons','parlez','parlent']\n",
    "\n",
    "trace0 = go.Table(\n",
    "  columnorder = [1,2],\n",
    "  columnwidth = [10,10],\n",
    "  header = dict(\n",
    "    values = ['Pronoun','Conjugation'],\n",
    "    line = dict(color = 'rgb(0,0,0)'),\n",
    "    fill = dict(color = 'rgb(0,35,48)'),\n",
    "    align = ['center','center'],\n",
    "    font = dict(color = 'white', size = 16),\n",
    "    height = 40\n",
    "  ),\n",
    "  cells = dict(\n",
    "    values = [pronouns,verbs],\n",
    "    line = dict(color = 'black'),\n",
    "    fill = dict(color = 'rgb(95,102,161)'),\n",
    "    align = ['center', 'center'],\n",
    "    font = dict(color = 'white', size = 14),\n",
    "    height = 30\n",
    "    )\n",
    ")\n",
    "\n",
    "go.Figure(data=[trace0], layout={'width':750, 'height':450})"
   ]
  },
  {
   "cell_type": "markdown",
   "metadata": {
    "hidden": false
   },
   "source": [
    "This can be taken as the general rule for conjugating **er** verbs in the present tense. All you need to do is find the *stem* of the verb, which was parl- in this case, and then apply these endings to figure out how to conjugate the verb for every personal pronoun. \n",
    "\n",
    "We now try to apply this using code.\n"
   ]
  },
  {
   "cell_type": "markdown",
   "metadata": {
    "hidden": false
   },
   "source": [
    "## Coding Examples\n",
    "\n",
    "How could one write code to see if someone conjugated a verb correctly? The following exercise will test your knowledge of French verb conjugation and also introduce you to some aspects of coding. \n",
    "\n",
    "\n",
    "Let's  start the coding with an example. I ask you to input an answer to: \"Conjugate the verb *fermer* to the first person singular in the present tense\". How do I check whether or not you input the correct answer?\n",
    "\n",
    "Firstly, to get a user to input a value, we create a *variable* that holds the user input:\n",
    "\n",
    "``` python \n",
    "x = input()\n",
    "```\n",
    "The variable x is a *string*, which a short list of characters, like a word. This will be what we use to check against the correct answer. In our case, the correct answer is \"ferme\". To check if the answer is correct we will employ an `if` statement, which will then `print` a message:\n",
    "\n",
    "``` python \n",
    "if x == 'ferme':\n",
    "    print('Correct')\n",
    "if x != 'ferme':\n",
    "    print('Incorrect')\n",
    "```\n",
    "\n",
    "This deserves some explanation.\n",
    "\n",
    "- We used the quotations around the answer (`'ferme'`) as this is how Python recognizes strings. Since our variable x was held as a string we want to check it against something that is itself a string. \n",
    "- If you want to check that the variable is equal to the correct answer, we used ==.\n",
    "- If the answer was incorrect we used !=, which means \"does not equal\" (like $\\ne$).\n",
    "- The `print` statement was the operation that we chose to do when the `if` statement was fulfilled. \n",
    "- The if statement requires the colon at the end of the statement and whatever operation you choose to perform given that the statement is fulfilled needs to be indented within the statement. "
   ]
  },
  {
   "cell_type": "code",
   "execution_count": null,
   "metadata": {
    "hidden": false
   },
   "outputs": [],
   "source": [
    "#NBVAL_SKIP\n",
    "from IPython.display import display\n",
    "display('Conjugate the verb fermer to the first person singular in the present tense.')\n",
    "\n",
    "x = input()\n",
    "if x == 'ferme':\n",
    "    print('Correct')\n",
    "if x != 'ferme':\n",
    "    print('Incorrect')"
   ]
  },
  {
   "cell_type": "markdown",
   "metadata": {
    "hidden": false
   },
   "source": [
    "## Generalizing\n",
    "\n",
    "Code that has multiple uses, and is more broadly useful, is typically a lot more valuable. In our case, how could we write a program that checks the correct answer for any verb, tense, and personal pronoun? This would be a generalization of the simple case that we constructed above. This is a lot more of a complex problem that will have to be broken down. \n",
    "\n",
    "The exercise will be: Conjugate the verb \"___ -er\" in the present tense in every subject. \n",
    "\n",
    "Since we have knowledge of the endings for \"-er\" verbs in the present tense, our problem reduces to analyzing if each of the student's answers fits the form that the conjugated verb should take in that subject. Steps we require then:\n",
    "\n",
    "1. We need to extract the root from each verb.\n",
    "2. See if the remainder of the verb has the correct ending.\n",
    "3. Make sure all answers are correct. \n",
    "\n",
    "To achieve this we will be employing the use of a *list*. A list is a data type which has some sort of ordering to it. The ordering gives us the means to *index* an *element* of the list. For example, we have the list:\n",
    "\n",
    "```python\n",
    "subjects = ['je','tu','il, elle, on','nous','vous','ils/elles']\n",
    "```\n",
    "(Note the square brackets)\n",
    "\n",
    "\"subjects\" is a comma separated list of string objects. We can do things like index the list:\n",
    "\n",
    "```python \n",
    "subjects[0] = 'je'\n",
    "subjects[1] = 'tu'\n",
    "subjects[2] = 'il, elle, on'\n",
    "```\n",
    "Notice how the indexing starts from 0. This means if you have **n** elements in a list `v`, and you want to index the last element of the list, you would write `v[n-1]`.\n",
    "\n",
    "What is the value of `subjects[4]`? Run the following code to test yourself:"
   ]
  },
  {
   "cell_type": "code",
   "execution_count": null,
   "metadata": {},
   "outputs": [],
   "source": [
    "\n",
    "from IPython.display import clear_output\n",
    "import ipywidgets as widgets\n",
    "\n",
    "#Simple list test\n",
    "a = widgets.Text(value = None, placeholder = \"What is the value of subjects[4]?\")\n",
    "display(a)\n",
    "\n",
    "output = widgets.Output()\n",
    "@output.capture()\n",
    "    \n",
    "def callback(sender):\n",
    "    clear_output()\n",
    "    if a.value != None:\n",
    "        if a.value == \"vous\":\n",
    "            print('Correct!')\n",
    "        if a.value != \"vous\":\n",
    "            print('Incorrect, please try again. Make sure you use only letters, no quotes, no spaces.')\n",
    "    return\n",
    "\n",
    "a.on_submit(callback)\n",
    "display(output)"
   ]
  },
  {
   "cell_type": "markdown",
   "metadata": {
    "hidden": false
   },
   "source": [
    "A more useful list to us would be:\n",
    "\n",
    "``` python\n",
    "\n",
    "endings = ['e','es','e','ons','ez','ent']\n",
    "\n",
    "```\n",
    "\n",
    "These are the verb endings given for conjugating \"-er\" verbs in the present tense. Now we just need to some means of analyzing their answer to see if they used the right ending. \n",
    "\n",
    "Say that we store all of their answers in a list like:\n",
    "\n",
    "```python\n",
    "answers = ['x1','x2','x3','x4','x5','x6']\n",
    "```\n",
    "This elements of the list, labelled \"x1, x2, ...\" are variables, which are themselves strings. Their position in the list indicates which subject they were trying to conjugate to, for instance x1 $\\rightarrow$ 'je'. The convenience of storing the answers like this will become apparent soon.\n",
    "\n",
    "If we wanted to perform a simple check, say whether or not they simply got the correct form, and not necessarily the correct spelling, we would use the following:\n",
    "\n",
    "```python\n",
    "for i in range(0,6):\n",
    "    n = len(endings[i])\n",
    "    if answers[i][-n:] != endings[i]:\n",
    "        print('Incorrect')\n",
    "```\n",
    "**What does this do?**\n",
    "\n",
    "This short little piece of code checks to see if they got the right ending. Let's look at some of the tools that it uses.\n",
    "\n",
    "**What does the `for` statement do?**\n",
    "```python\n",
    "for i in range(0,6):\n",
    "```\n",
    "This is another essential programming tool known as the `for` loop. Within the `for` loop, the indented code block is executed, then the next iteration of the loop is performed, in our case the index $i$ is increased to $i+1$. This continues until all iterations are done. It provides a means of counting or iterating through a process. In our case we want to iterate over every element in the list and perform the check in the `if` statement.\n",
    "\n",
    "Notice the code `range(0,6)` tells us the index `i` will start at `i=0` and end at `i=5`. It stops before 6.\n",
    "\n",
    "**The `if` statement**\n",
    "\n",
    "Again we used the \"!=\" to see if two strings are not equal to each other. Firstly, we have declared a variable in the loop:\n",
    "```python\n",
    "n = len(endings[i])\n",
    "```\n",
    "This is simply the length of the ending. So for `endings[5]`, which is the string 'ent', the length is `n = 3`. This gives us a way of checking the last letters of the respective answer. We accomplish by using:\n",
    "\n",
    "```python\n",
    "answers[i][-n:]\n",
    "```\n",
    "The first index, `answers[i]` gives us the `i+1` element of the list answers (since we begin indexing from 0). e.g. `answers[3] = 'x4'`. The second index we used, `answers[i][-n:]`, indexes the element of the list. How are we indexing an already indexed list you might ask? Well, this is because a string is conveniently broken up into the characters that make it up. This gives us a way of indexing any \"letter\" of the string. For example, if `x1 = 'mange'` then `x1[3] = 'g'`. This is very nice for us, since we can employ this to check the ending of their answers. To index the last element of a string, or a list, we use the negative. e.g. `x1[-1] = 'e'`. To take out an entire section of a list or string we used \"slice notation\", this is why there is the extra colon. e.g. `x1[-3:] = 'nge'`. In our case we only wanted to index the last `n` letters of the string because this is the amount of letters in the ending that we wanted to check against. If all the answers were correct then the entire `for` loop would run and the `if` statement would never be fulfilled!\n",
    "\n",
    "Now this was quite a bit of information, so let's test your knowledge on what we've done so far and then we'll work on generalizing this further for a different case.\n",
    "\n",
    "Run the following code cells. Starting from the second code cell, a question will pop up which you should answer based on the following lists:\n",
    "\n",
    "```python \n",
    "endings = ['e','es','e','ons','ez','ent']\n",
    "answers = ['mange','manges','mange','mangeons','manger','mangent']\n",
    "```"
   ]
  },
  {
   "cell_type": "code",
   "execution_count": null,
   "metadata": {},
   "outputs": [],
   "source": [
    "ques1 = \"Which element of answers is incorrect? Use index notation , i.e. `answers[]`\"\n",
    "ques2 = \"What part should be changed? Use the double index notation, i.e. `answers[][]`\"\n",
    "ques3 = \"What should the ending be? Use index notation again, i.e. `endings[]`\"\n",
    "ques4 = \"If I wanted to check the first three answers, how would the `for` loop initial statement look like? \\\n",
    "        Please use `i` as the index.\"\n",
    "ans1 = widgets.Text(value = None)\n",
    "ans2 = widgets.Text(value = None)\n",
    "ans3 = widgets.Text(value = None)\n",
    "ans4 = widgets.Text(value = None)\n",
    "\n",
    "from IPython.display import Markdown\n",
    "\n",
    "display(Markdown(ques1))\n",
    "display(ans1)\n",
    "\n",
    "output = widgets.Output()\n",
    "@output.capture()\n",
    "\n",
    "def callback1(sender):\n",
    "    if ans1.value != None:\n",
    "        clear_output()\n",
    "        if ans1.value == 'answers[4]' or ans1.value == 'answers[-2]':\n",
    "            display(Markdown('Correct!'))\n",
    "        else:\n",
    "            display(Markdown('Not quite! Please try again.'))\n",
    "    return\n",
    "\n",
    "ans1.on_submit(callback1)\n",
    "display(output)"
   ]
  },
  {
   "cell_type": "code",
   "execution_count": null,
   "metadata": {},
   "outputs": [],
   "source": [
    "display(Markdown(ques2))\n",
    "display(ans2)\n",
    "\n",
    "output = widgets.Output()\n",
    "@output.capture()\n",
    "\n",
    "def callback2(sender):\n",
    "    if ans2.value != None:\n",
    "        clear_output()\n",
    "        if ans2.value == 'answers[4][4:]' or ans2.value == 'answers[4][-2:]' or \\\n",
    "            ans2.value == 'answers[4][-1]'  or ans2.value == 'answers[4][5]':\n",
    "            display(Markdown('Correct!'))\n",
    "        else:\n",
    "            display(Markdown('Not quite! Please try again. You might need a colon in there.'))       \n",
    "        return\n",
    "\n",
    "ans2.on_submit(callback2)\n",
    "display(output)"
   ]
  },
  {
   "cell_type": "code",
   "execution_count": null,
   "metadata": {},
   "outputs": [],
   "source": [
    "display(Markdown(ques3))\n",
    "display(ans3)\n",
    "\n",
    "output = widgets.Output()\n",
    "@output.capture()\n",
    "\n",
    "def callback3(sender):    \n",
    "    if ans3.value != None:\n",
    "        clear_output()\n",
    "        if ans3.value == 'endings[4]' or ans3.value == 'endings[-2]':\n",
    "            display(Markdown('Correct!'))\n",
    "        else:\n",
    "            display(Markdown('Not quite! Please try again.'))      \n",
    "        return\n",
    "\n",
    "ans3.on_submit(callback3)\n",
    "display(output)"
   ]
  },
  {
   "cell_type": "code",
   "execution_count": null,
   "metadata": {},
   "outputs": [],
   "source": [
    "display(Markdown(ques4))\n",
    "display(ans4)\n",
    "\n",
    "output = widgets.Output()\n",
    "@output.capture()\n",
    "\n",
    "def callback4(sender):\n",
    "    if ans4.value != None:\n",
    "        clear_output()     \n",
    "        if ans4.value == 'for i in range(0,3):' or ans4.value == 'for i in range(3):':\n",
    "            display(Markdown('Correct!'))\n",
    "        else:\n",
    "            display(Markdown(\"Not quite! Please try again. Don't forget the colon :\"))\n",
    "    return\n",
    "\n",
    "ans4.on_submit(callback4)\n",
    "display(output)"
   ]
  },
  {
   "cell_type": "markdown",
   "metadata": {},
   "source": [
    "## Automatic conjugation\n",
    "\n",
    "Of course, the rules for conjugation for the regular verbs are very straightforward. So we could write code to handle these by computer. The basic rule is to decide whether the verb is an **er**, **ir**, or **re** verb. Based on that, we decide which endings to add onto the stem.\n",
    "\n",
    "For instance, a simple **if** statement can check whether the verb is an **er** type, find the stem, and then compute the conjugations appropriately:\n",
    "```\n",
    "        if aVerb.value[-2:]=='er':\n",
    "            stem = aVerb.value[:-2]\n",
    "            for i in range(6):\n",
    "                conjug[i] = stem+er_endings[i]\n",
    "```\n",
    "\n",
    "To handle the three different regular cases, we should have lists for the three different types of endings:\n",
    "```\n",
    "er_endings = ['e','es','e','ons','ez','ent']\n",
    "ir_endings = ['is','is','it','issons','issez','issent']\n",
    "re_endings = ['s','s','','ons','ez','ent']\n",
    "```\n",
    "\n",
    "To put the code together, we can have three **if** statements to test which of the three types of verbs we have, then add on the appropriate endings to the stem. Some code to do this looks like the following. Try running it yourself."
   ]
  },
  {
   "cell_type": "code",
   "execution_count": null,
   "metadata": {},
   "outputs": [],
   "source": [
    "pronouns = ['je','tu','elle, il, on','nous','vous','elles, ils']\n",
    "er_endings = ['e','es','e','ons','ez','ent']\n",
    "ir_endings = ['is','is','it','issons','issez','issent']\n",
    "re_endings = ['s','s','','ons','ez','ent']\n",
    "stem = ''\n",
    "conjug = ['','','','','','']\n",
    "aVerb = widgets.Text(value = None, description = 'Infinitive', placeholder = \"Enter a verb\")\n",
    "\n",
    "display(aVerb)\n",
    "\n",
    "output = widgets.Output()\n",
    "@output.capture()\n",
    "\n",
    "def callback5(sender):    \n",
    "    if aVerb.value != None:\n",
    "        if aVerb.value[-2:]=='er':\n",
    "            stem = aVerb.value[:-2]\n",
    "            for i in range(6):\n",
    "                conjug[i] = stem+er_endings[i]\n",
    "            clear_output()\n",
    "            display(Markdown('An **er** verb with stem **' + stem + '-**' + ' and conjugations:'))\n",
    "            display(conjug)\n",
    "            return\n",
    "        if aVerb.value[-2:]=='ir':\n",
    "            stem = aVerb.value[:-2]\n",
    "            for i in range(6):\n",
    "                conjug[i] = stem+ir_endings[i]\n",
    "            clear_output()\n",
    "            display(Markdown('An **ir** verb with stem **' + stem + '-**' + ' and conjugations:'))\n",
    "            display(conjug)\n",
    "            return\n",
    "        if aVerb.value[-2:]=='re':\n",
    "            stem = aVerb.value[:-2]\n",
    "            for i in range(6):\n",
    "                conjug[i] = stem+re_endings[i]\n",
    "            clear_output()\n",
    "            display(Markdown('An **re** verb with stem **' + stem + '-**' + ' and conjugations:'))\n",
    "            display(conjug)\n",
    "            return\n",
    "        clear_output()\n",
    "        display(Markdown(\"I don't recongnize this kind of verb. Try again.\"))\n",
    "        return\n",
    "    \n",
    "    \n",
    "aVerb.on_submit(callback5)\n",
    "display(output)"
   ]
  },
  {
   "cell_type": "markdown",
   "metadata": {},
   "source": [
    "## Exceptions\n",
    "Of course, this code does not handle exceptions, only the three regular cases.\n",
    "\n",
    "#### Exercise\n",
    "\n",
    "Try adding an **if** statement to test for an exception, say if the verb is \"avoir\". In this case, the conjugation will be `['ai','as,'a','avons','avez','ont']`. See if you can modify the code above to handle this special case.\n",
    "\n",
    "Should you test for exceptions first in your code, or test for the three regular cases first?\n",
    "\n",
    "Once you succeed at that, try handling the exceptional verb \"être\"."
   ]
  },
  {
   "cell_type": "markdown",
   "metadata": {},
   "source": [
    "## Making it nice\n",
    "\n",
    "Perhaps you liked the nice tables that we used to display verb conjugations, as in the notes above. We can add a function to our code that replicates this table. Our code then changes, to display the table instead of the list of conjugations. The resulting coding is as follows. Note the newly defined function `displayTable()` which builds the table for us. "
   ]
  },
  {
   "cell_type": "code",
   "execution_count": null,
   "metadata": {},
   "outputs": [],
   "source": [
    "pronouns = ['je','tu','elle, il, on','nous','vous','elles, ils']\n",
    "er_endings = ['e','es','e','ons','ez','ent']\n",
    "ir_endings = ['is','is','it','issons','issez','issent']\n",
    "re_endings = ['s','s','','ons','ez','ent']\n",
    "conjug = ['','','','','','']\n",
    "stem = ''\n",
    "aVerb2 = widgets.Text(value = None, description = 'Infinitive', placeholder = \"Enter a verb\")\n",
    "\n",
    "display(aVerb2)\n",
    "\n",
    "output = widgets.Output()\n",
    "@output.capture()\n",
    "\n",
    "def callback6(sender):    \n",
    "    if aVerb2.value != None:\n",
    "        if aVerb2.value[-2:]=='er':\n",
    "            stem = aVerb2.value[:-2]\n",
    "            for i in range(6):\n",
    "                conjug[i] = stem+er_endings[i]\n",
    "            clear_output()\n",
    "            display(Markdown('An **er** verb with stem **' + stem + '-**'))\n",
    "            displayTable2()\n",
    "            return\n",
    "        if aVerb2.value[-2:]=='ir':\n",
    "            stem = aVerb2.value[:-2]\n",
    "            for i in range(6):\n",
    "                conjug[i] = stem+ir_endings[i]\n",
    "            clear_output()\n",
    "            display(Markdown('An **ir** verb with stem **' + stem + '-**'))\n",
    "            displayTable2()\n",
    "            return\n",
    "        if aVerb2.value[-2:]=='re':\n",
    "            stem = aVerb2.value[:-2]\n",
    "            for i in range(6):\n",
    "                conjug[i] = stem+re_endings[i]\n",
    "            clear_output()\n",
    "            display(Markdown('An **re** verb with stem **' + stem + '-**'))\n",
    "            displayTable2()\n",
    "            return\n",
    "        clear_output()\n",
    "        display(Markdown(\"I don't recongnize this kind of verb. Try again.\"))\n",
    "        return\n",
    "\n",
    "    \n",
    "aVerb2.on_submit(callback6)\n",
    "display(output)\n",
    "\n",
    "def displayTable2():\n",
    "    trace0 = go.Table(\n",
    "      columnorder = [1,2],\n",
    "      columnwidth = [10,10],\n",
    "      header = dict(\n",
    "        values = ['Pronoun','Conjugated'],\n",
    "        line = dict(color = 'rgb(0,0,0)'),\n",
    "        fill = dict(color = 'rgb(0,35,48)'),\n",
    "        align = ['center','center'],\n",
    "        font = dict(color = 'white', size = 16),\n",
    "        height = 40\n",
    "      ),\n",
    "      cells = dict(\n",
    "        values = [pronouns,conjug],\n",
    "        line = dict(color = 'black'),\n",
    "        fill = dict(color = 'rgb(95,102,161)'),\n",
    "        align = ['center', 'center'],\n",
    "        font = dict(color = 'white', size = 14),\n",
    "        height = 30\n",
    "        )\n",
    "    )\n",
    "    go.Figure({'data': [trace0], 'layout':{'width':500, 'height':450}}).show()"
   ]
  },
  {
   "cell_type": "markdown",
   "metadata": {},
   "source": [
    "## Many exceptions\n",
    "\n",
    "Of course, French has many exceptions to the rules for conjugating verbs. To write code to handle them all, you could consider creating a list will all the exceptions in it, and a corresponding list of conjugations for each exception. \n",
    "\n",
    "Try this out if you like. This is an interesting exercise in understanding the complexity of a language, as not everything is simply a simple set of rules. It is also an interesting exercise in how to make code that can handle such complexity. "
   ]
  },
  {
   "cell_type": "code",
   "execution_count": null,
   "metadata": {},
   "outputs": [],
   "source": []
  },
  {
   "cell_type": "markdown",
   "metadata": {
    "hidden": false
   },
   "source": [
    "## Conclusion\n",
    "\n",
    "In this Jupyter notebook we looked at the basics of French verb conjugation in the present tense. We also talked about some basic aspects used in programming, such as `for` loops and `if` statements. As well, we saw strings, lists, and indexing.\n",
    "\n",
    "We used the structure of the French verb conjugation rules to write a program that conjugates a verb in the present tense. Breaking down problems in this fashion is essential to computational thinking. \n",
    "\n",
    "Je vous remercie d'avoir essayé les exercices donnés."
   ]
  },
  {
   "cell_type": "markdown",
   "metadata": {},
   "source": [
    "[![Callysto.ca License](https://github.com/callysto/curriculum-notebooks/blob/master/callysto-notebook-banner-bottom.jpg?raw=true)](https://github.com/callysto/curriculum-notebooks/blob/master/LICENSE.md)"
   ]
  }
 ],
 "metadata": {
  "kernelspec": {
   "display_name": "Python 3.10.4 64-bit",
   "language": "python",
   "name": "python3"
  },
  "language_info": {
   "codemirror_mode": {
    "name": "ipython",
    "version": 3
   },
   "file_extension": ".py",
   "mimetype": "text/x-python",
   "name": "python",
   "nbconvert_exporter": "python",
   "pygments_lexer": "ipython3",
   "version": "3.10.4"
  },
  "vscode": {
   "interpreter": {
    "hash": "aee8b7b246df8f9039afb4144a1f6fd8d2ca17a180786b69acc140d282b71a49"
   }
  }
 },
 "nbformat": 4,
 "nbformat_minor": 4
}
