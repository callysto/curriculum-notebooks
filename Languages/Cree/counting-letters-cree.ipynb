{
 "cells": [
  {
   "cell_type": "markdown",
   "id": "0ee8eab1",
   "metadata": {},
   "source": [
    "![Callysto.ca Banner](https://github.com/callysto/curriculum-notebooks/blob/master/callysto-notebook-banner-top.jpg?raw=true)"
   ]
  },
  {
   "cell_type": "markdown",
   "id": "2a1bf03e",
   "metadata": {},
   "source": [
    "# Self-referential sentences, in Cree\n",
    "\n",
    "April-June, 2023. (Michael Lamoureux) \n",
    "\n",
    "With credit to Dr. Ed Doolittle, Professor of Mathematics at First Nations University, for originating this work. \n",
    "\n",
    "[https://www.youtube.com/watch?v=wZ-ctdoj_mM](https://www.youtube.com/watch?v=wZ-ctdoj_mM)\n",
    "\n",
    "## Introduction\n",
    "\n",
    "We are interested in creating self-referential sentences like the following:\n",
    "- This sentence has four e’s in it.\n",
    "- This sentence has five e’s in it.\n",
    "\n",
    "If we check carefully, we see both sentences are true: the first sentence really does have four e's in it, while the second sentence has five e's. \n",
    "\n",
    "In Cree, we can get a self-referential sentence like this:\n",
    "\n",
    "```\n",
    "Mekwâc e-ayamihtâyan ôma, nîyânanwâw kika-wâpahten ôma e masinipehikanis.\n",
    "```\n",
    "\n",
    "This translates as:\n",
    "```\n",
    "Right now as you read this, you will see five e's written.\n",
    "```\n",
    "\n",
    "We want to create some Python code to make a sentence that tells you how many of each letter it has, and get the count correct. This is tricky, because the numbers in the sentence are made up of letters, and you don't know in advance how many letters there will be in the completed sentence!\n",
    "\n",
    "The idea is to treat the sentence as an object that gets transformed by the code, based on the count of letters in the sentence. As you update the sentence, you then update the count of letters. Hopefully the updates finally converge to a correct sentence.  This is called a **fixed point** in the set of sentences, under this transformation.\n",
    "\n",
    "Looking for fixed points in a dynamical system is an important topic in pure and applied mathematics. It is interesting to see it show up in languages as well. \n",
    "\n",
    "An English-based version of this project can be seen here: [counting-letters-english.ipynb](counting-letters-english.ipynb)\n"
   ]
  },
  {
   "cell_type": "markdown",
   "id": "d7ee53ac",
   "metadata": {},
   "source": [
    "## The Cree Language\n",
    "\n",
    "First we must learn a bit about numbers in the Cree language.\n",
    "\n",
    "There are over 100,000 people in Canada whose first language is Cree, including several dialects across the country. Information the Cree language across Canada can be found here: https://www.pathoftheelders.com/images/language/Cree%20%E2%80%93%20The%20Peoples%20Language.pdf\n",
    "\n",
    "For a consistent lesson, we follow the Alberta Elder's Cree language dictionary as described in the online resource https://www.creedictionary.com  Another useful resource is this online app: https://itwewina.altlab.app/\n"
   ]
  },
  {
   "cell_type": "markdown",
   "id": "ed2ffdf1",
   "metadata": {},
   "source": [
    "## The Cree alphabet\n",
    "\n",
    "In Cree, there are ten consonants (c, h, k, m, n, p, s, t, w, y) and seven vowels (a, â, e, i, î, o, ô). Six vowels appear as pairs indicating short and long versions (a, â), (i, î), (o, ô) while \"e\" only appears as one version. Note in some dictionaries, \"e\" is written as \"ê,\" the long form of the vowel.\n",
    "\n",
    "## Writing out numbers in Cree\n",
    "\n",
    "This is a summary from a video by Solomon Ratt, at this web page:\n",
    "[https://creeliteracy.org/2020/03/27/shlc_numbers/](https://creeliteracy.org/2020/03/27/shlc_numbers/\n",
    ") as well as the dictionary noted above.\n",
    "\n",
    "The first ten counting numbers appear as follows:\n",
    "\n",
    "| #  | Cree |\n",
    "| -- | :----|\n",
    "| 1 | peyak |\n",
    "| 2 | nîso  |\n",
    "| 3 | nisto |\n",
    "| 4 | newo  |\n",
    "| 5 | nîyânan |\n",
    "| 6 | nikotwâsik |\n",
    "| 7 | tepakohp |\n",
    "| 8 | ayinânew |\n",
    "| 9 | kîkâmitâtaht |\n",
    "|10 | mitâtaht |\n",
    "\n",
    "The numbers eleven through nineteen are given by attaching the suffix \"osâp,\" with some minor variations:\n",
    "\n",
    "| #  | Cree |\n",
    "| -- | :----|\n",
    "| 11 | peyakosâp |\n",
    "| 12 | nîsosâp  |\n",
    "| 13 | nistosâp |\n",
    "| 14 | newohsâp  |\n",
    "| 15 | nîyânanosâp |\n",
    "| 16 | nikotwâsosâp |\n",
    "| 17 | tepakohposâp |\n",
    "| 18 | ayinânewosâp |\n",
    "| 19 | kîkâmitâtahtosâp |\n",
    "\n",
    "The numbers 20, 30, 40, etc are given by adding the suffix \"mitanaw\" to the single digit names above:\n",
    "\n",
    "| #  | Cree |\n",
    "| -- | :----|\n",
    "| 20 | nîsitanaw | \n",
    "| 30 | nistomitanaw | \n",
    "| 40 | nemitanaw| \n",
    "| 50 | nîyânanomitanaw |\n",
    "| 60 | nikotwâsikomitanaw | \n",
    "| 70 | tepakohpomitanaw | \n",
    "| 80 | ayinânewomitanaw |\n",
    "| 90 | kîkâmitâtahtomitanaw |\n",
    "|100 | mitâtahtomitanaw |\n",
    "\n",
    "To get a compound number like twenty-three, you take the \"20\" word and add the \"teens\" word for 13, to get\n",
    "\n",
    "| #  | Cree |\n",
    "| -- | :----|\n",
    "| 13 | nistosâp | \n",
    "| 20 | nîsitanaw | \n",
    "| 23 | nîsitanaw nistosâp | \n",
    "\n",
    "Finally, when you are counting \"things\" like berries (mînisihkân) you add a \"wâw\" to the number word in Cree. For instance:\n",
    "\n",
    "| #  | Cree |\n",
    "| -- | :----|\n",
    "| 20 berries | nîsitanawâw mînisihkân | \n",
    "| 23 berries | nîsitanaw nistosâpwâw mînisihkân | \n",
    "\n"
   ]
  },
  {
   "cell_type": "markdown",
   "id": "85b8db33",
   "metadata": {},
   "source": [
    "## Python dictionaries \n",
    "\n",
    "We assemble this information a couple of Python dictionaries that the code will refer to when building the Cree sentence with numbers. "
   ]
  },
  {
   "cell_type": "code",
   "execution_count": null,
   "id": "6c231772",
   "metadata": {},
   "outputs": [],
   "source": [
    "# Numbers in Cree\n",
    "cree_nums = {1:\"peyak\", 2:\"nîso\", 3:\"nisto\", 4:\"newo\", 5:\"nîyânan\",\n",
    "             6:\"nikotwâsik\", 7:\"tepakohp\", 8:\"ayinânew\", 9:\"kîkâmitâtaht\", 10:\"mitâtaht\",\n",
    "            11:\"peyakosâp\", 12:\"nîsosâp\", 13:\"nistosâp\", 14:\"newosâp\", 15:\"nîyânanosâp\",\n",
    "            16:\"nikotwâsikosâp\", 17:\"tepakohposâp\", 18:\"ayinânewosâp\", 19:\"kîkâmitâtahtosâp\",\n",
    "            20:\"nîsitanaw\", 30:\"nistomitanaw\", 40:\"nemitanaw\",50:\"nîyânanomitanaw\",\n",
    "            60:\"nikotwâsikomitanaw\", 70:\"tepakohpomitanaw\", 80:\"ayinânemitanaw\",\n",
    "            90:\"kîkâmitâtahtomitanaw\",100:\"mitâtahtomitanaw\"}\n",
    "# Number of things, in Cree\n",
    "cree_num_of = {1:\"peyakwâw\", 2:\"nîswâw\", 3:\"nistwâw\", 4:\"newâw\", 5:\"nîyânanwâw\",\n",
    "             6:\"nikotwâswâw\", 7:\"tepakohpwâw\", 8:\"ayinânewâw\", 9:\"kîkâmitâtahtwâw\", 10:\"mitâtahtwâw\",\n",
    "            11:\"peyakosâpwâw\", 12:\"nîsosâpwâw\", 13:\"nistosâpwâw\", 14:\"newosâpwâw\", 15:\"nîyânanosâpwâw\",\n",
    "            16:\"nikotwâsosâpwâw\", 17:\"tepakohposâpwâw\", 18:\"ayinânewosâpwâw\", 19:\"kîkâmitâtahtosâpwâw\",\n",
    "            20:\"nîsitanawâw\", 30:\"nistomitanawâw\", 40:\"nemitanawâw\",50:\"nîyânanomitanawâw\",\n",
    "            60:\"nikotwâsikomitanawâw\", 70:\"tepakohpomitanawâw\", 80:\"ayinânemitanawâw\",\n",
    "            90:\"kîkâmitâtahtomitanawâw\",100:\"mitâtahtomitanawâw\"}\n"
   ]
  },
  {
   "cell_type": "markdown",
   "id": "4aaae866",
   "metadata": {},
   "source": [
    "### Here is a function to turn a numerical value into a Cree word.\n",
    "\n",
    "The code has special cases for numbers smaller than twenty, and for round numbers like 20, 30, 40, etc. "
   ]
  },
  {
   "cell_type": "code",
   "execution_count": null,
   "id": "b12d3d9c",
   "metadata": {},
   "outputs": [],
   "source": [
    "\"\"\"Given a positive integer less than 100, print it in Cree.\"\"\"\n",
    "def int_to_cree(num):\n",
    "    global cree_nums, cree_num_of\n",
    "\n",
    "    assert(1 <= num)\n",
    "\n",
    "    if (num < 20):\n",
    "        return cree_num_of[num]\n",
    "\n",
    "    if (num < 100):\n",
    "        if num % 10 == 0: return cree_num_of[num]\n",
    "        else: return cree_nums[(num // 10) * 10] + ' ' + cree_num_of[(num % 10)+10]\n",
    "\n",
    "    return 'micetwâw'  ## means \"many,\" for when we have more than 100 items"
   ]
  },
  {
   "cell_type": "code",
   "execution_count": null,
   "id": "8c0599c5",
   "metadata": {},
   "outputs": [],
   "source": [
    "## here is a sample to test it\n",
    "int_to_cree(5),int_to_cree(28),int_to_cree(45)"
   ]
  },
  {
   "cell_type": "markdown",
   "id": "18d5d3c8",
   "metadata": {},
   "source": [
    "## The letters in Cree\n",
    "\n",
    "We will create a list of letters that occur in the language, and use it to keep count of how many times they appear in a sentence. "
   ]
  },
  {
   "cell_type": "code",
   "execution_count": null,
   "id": "3d81d30b",
   "metadata": {},
   "outputs": [],
   "source": [
    "## First we create the set of Cree letters, including both vowels and consonants\n",
    "cree_vowels = \"aâeiîoô\"   # seven vowels\n",
    "cree_consonants = \"chkmnpstwy\" # ten consonants\n",
    "\n",
    "cree_letters = cree_vowels + cree_consonants\n",
    "cree_letters"
   ]
  },
  {
   "cell_type": "code",
   "execution_count": null,
   "id": "f3214de9",
   "metadata": {},
   "outputs": [],
   "source": [
    "# Now we create the dictionary to count the letters\n",
    "counts = dict ()\n",
    "letters = cree_letters\n",
    "for L in range(len(letters)):\n",
    "    counts[letters[L]] = 1\n",
    "counts"
   ]
  },
  {
   "cell_type": "markdown",
   "id": "ad42d887",
   "metadata": {},
   "source": [
    "## Build a sentence in Cree\n",
    "\n",
    "We follow Professor Doolittle's model sentence, \n",
    "```\n",
    "Mekwâc e-ayamihtâyan ôma, nîsitanaw ayinânewosâpwâw kika-wâpahten ôma a masinipehikanis,\n",
    "nîsitanaw peyakosâpwâw â, ..., ekwa nîsitanawâw y.\n",
    "```\n",
    "This translates as:\n",
    "```\n",
    "Right now as you read this, you will see 28 a's written, 21 â's, ..., and 20 y's.\n",
    "```\n",
    "\n",
    "We create a function to build this sentence, using the **counts** dictionary above to generate the numbers that go into the sentence. To get the grammar correct, we treat the first and last letters **a** and **y** as special cases. "
   ]
  },
  {
   "cell_type": "code",
   "execution_count": null,
   "id": "b84ff126",
   "metadata": {},
   "outputs": [],
   "source": [
    "# The first and last letters a,y are handled differently, to get the grammar correct.\n",
    "def build_sentence():\n",
    "    s = 'Mekwâc e-ayamihtâyan ôma, '\n",
    "    s += f'{int_to_cree(counts[\"a\"])} kika-wâpahten ôma a masinipehikanis, \\n' ## letter a\n",
    "    for letter, value in counts.items():\n",
    "        if not (letter=='a' or letter=='y'):  ## letters a and y are handled elsewhere\n",
    "            s+= f'{int_to_cree(value)} {letter}, ' \n",
    "    s += f'ekwa {int_to_cree(counts[\"y\"])} y.'  ## letter y\n",
    "    return s"
   ]
  },
  {
   "cell_type": "code",
   "execution_count": null,
   "id": "b0175bf1",
   "metadata": {},
   "outputs": [],
   "source": [
    "## Test the build_sentence_cree function\n",
    "print(build_sentence())"
   ]
  },
  {
   "cell_type": "code",
   "execution_count": null,
   "id": "6516df94",
   "metadata": {},
   "outputs": [],
   "source": [
    "## Let's try counting letters and update the sentence\n",
    "s = build_sentence()\n",
    "for letter in counts.keys():\n",
    "    counts[letter] = s.count(letter)\n",
    "\n",
    "print(build_sentence())"
   ]
  },
  {
   "cell_type": "code",
   "execution_count": null,
   "id": "f8e5fd42",
   "metadata": {},
   "outputs": [],
   "source": [
    "counts"
   ]
  },
  {
   "cell_type": "markdown",
   "id": "26e25acd",
   "metadata": {},
   "source": [
    "## The loop\n",
    "\n",
    "Now we build a sentence, and update its letter count over and over. \n",
    "\n",
    "If we get stuck, randomize the count and begin again."
   ]
  },
  {
   "cell_type": "code",
   "execution_count": null,
   "id": "5a3d1a40",
   "metadata": {},
   "outputs": [],
   "source": [
    "from random import randrange\n",
    "\n",
    "def randomize(): ## randomly change the counts up or down, but always non-negative.\n",
    "    for letter in letters:\n",
    "        counts[letter] = max(1,counts[letter]+randrange(-5,5))\n",
    "\n",
    "def my_loop():\n",
    "    for i in range(500):\n",
    "        s = build_sentence()\n",
    "        for k in range(1000):\n",
    "            for letter in counts.keys():\n",
    "                counts[letter] = s.lower().count(letter) \n",
    "            new_s = build_sentence()\n",
    "            if new_s == s:\n",
    "                print(\"solution at i,k = \", i,k, \"\\n\",s)\n",
    "                return\n",
    "            s = new_s\n",
    "        randomize()\n",
    "    print(\"No solution found.\")\n",
    "\n",
    "\n",
    "my_loop()"
   ]
  },
  {
   "cell_type": "code",
   "execution_count": null,
   "id": "7e822fa6",
   "metadata": {},
   "outputs": [],
   "source": [
    "counts"
   ]
  },
  {
   "cell_type": "markdown",
   "id": "e3bf7077",
   "metadata": {},
   "source": [
    "## An easier example\n",
    "\n",
    "The above example may not give a solution for you. We can do an easier problem, by using a short list of letters. Let's try the seven vowels and a few consonants. \n",
    "\n",
    "Let's try this list: **a, â, e, i, î, o, ô, c, h, y**\n",
    "\n",
    "You might try other combinations, by remember to include the letters **a** adn **y** as they are treated as special cases in our cose. "
   ]
  },
  {
   "cell_type": "code",
   "execution_count": null,
   "id": "4fd5a6c7",
   "metadata": {},
   "outputs": [],
   "source": [
    "# A subset of the Cree letters\n",
    "letters = 'aâeiîoôchy'\n",
    "\n",
    "# Now we create the dictionary to count the letters\n",
    "counts = dict()\n",
    "for letter in letters:\n",
    "    counts[letter] = 1\n",
    "    \n",
    "## Now run the code, and check the count.\n",
    "\n",
    "my_loop()\n",
    "counts"
   ]
  },
  {
   "cell_type": "markdown",
   "id": "69519786",
   "metadata": {},
   "source": [
    "### Did it work?\n",
    "\n",
    "If it did not give you a solution, try running the previous cell again. It is a random process, so sometimes it works and sometimes it doesn't. Try several times until you get an answer. A successful run is shown below.\n"
   ]
  },
  {
   "cell_type": "markdown",
   "id": "a0cde3b8",
   "metadata": {},
   "source": [
    "### Here is an example of a successful run.\n",
    "\n",
    "solution at i,k =  23 33 \n",
    " \n",
    " \n",
    " Mekwâc e-ayamihtâyan ôma, ayinânewosâpwâw kika-wâpahten ôma a masinipehikanis, \n",
    "nîsitanaw nîsosâpwâw â, kîkâmitâtahtwâw e, nistosâpwâw i, nikotwâswâw î, tepakohpwâw o, nistwâw ô, nîswâw c, tepakohpwâw h, ekwa nîyânanwâw y.\n",
    "\n",
    "counts = {'a': 18,\n",
    " 'â': 22,\n",
    " 'e': 9,\n",
    " 'i': 13,\n",
    " 'î': 6,\n",
    " 'o': 7,\n",
    " 'ô': 3,\n",
    " 'c': 2,\n",
    " 'h': 7,\n",
    " 'y': 5}"
   ]
  },
  {
   "cell_type": "markdown",
   "id": "d1e4058a",
   "metadata": {},
   "source": [
    "## Going further\n",
    "\n",
    "1. Try using a longer list of letters. Can you successfully generate a solution?\n",
    "2. Could you modify this code for a different dialect of Cree?\n",
    "3. Can you modify this code for a different language? "
   ]
  },
  {
   "cell_type": "markdown",
   "id": "2e99f69f",
   "metadata": {},
   "source": [
    "## Summary\n",
    "\n",
    "We have learned a bit about the Cree language and its alphabet (roman orthography) as well as its number system. \n",
    "\n",
    "We learned how to make a self-referencial sentence in Cree by using a loop that looks for a fixed-point in the set of sentences of a certain counting structure. \n",
    "\n",
    "If you found this interesting, try a second version in Cree syllabics: [counting-letters-syllabics.ipynb](counting-letters-syllabics.ipynb)\n",
    "\n",
    "This approach could work with other languages as well. "
   ]
  },
  {
   "cell_type": "markdown",
   "id": "6e00c864",
   "metadata": {},
   "source": [
    "[![Callysto.ca License](https://github.com/callysto/curriculum-notebooks/blob/master/callysto-notebook-banner-bottom.jpg?raw=true)](https://github.com/callysto/curriculum-notebooks/blob/master/LICENSE.md)"
   ]
  },
  {
   "cell_type": "code",
   "execution_count": null,
   "id": "f996c711",
   "metadata": {},
   "outputs": [],
   "source": []
  }
 ],
 "metadata": {
  "kernelspec": {
   "display_name": "Python 3 (ipykernel)",
   "language": "python",
   "name": "python3"
  },
  "language_info": {
   "codemirror_mode": {
    "name": "ipython",
    "version": 3
   },
   "file_extension": ".py",
   "mimetype": "text/x-python",
   "name": "python",
   "nbconvert_exporter": "python",
   "pygments_lexer": "ipython3",
   "version": "3.9.13"
  }
 },
 "nbformat": 4,
 "nbformat_minor": 5
}
