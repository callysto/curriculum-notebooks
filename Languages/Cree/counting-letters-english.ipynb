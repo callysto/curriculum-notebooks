{
 "cells": [
  {
   "cell_type": "markdown",
   "id": "ca0a7f94",
   "metadata": {},
   "source": [
    "![Callysto.ca Banner](https://github.com/callysto/curriculum-notebooks/blob/master/callysto-notebook-banner-top.jpg?raw=true)"
   ]
  },
  {
   "cell_type": "markdown",
   "id": "2a1bf03e",
   "metadata": {},
   "source": [
    "# Self-referential sentences, in English\n",
    "\n",
    "April-June, 2023. (Michael Lamoureux) \n",
    "\n",
    "With credit to Dr. Ed Doolittle, Professor of Mathematics at First Nations University, for originating this work. \n",
    "\n",
    "[https://www.youtube.com/watch?v=wZ-ctdoj_mM](https://www.youtube.com/watch?v=wZ-ctdoj_mM)\n",
    "\n",
    "## Introduction\n",
    "\n",
    "We are interested in creating self-referential sentences like the following:\n",
    "- This sentence has four e’s in it.\n",
    "- This sentence has five e’s in it.\n",
    "\n",
    "Both these sentences are true, as the count (four, five) matches the actual number of e's in the sentence. However, the sentence \"This sentence has six e’s in it\" is false. \n",
    "\n",
    "Our ultimate goal is to create such self-referential in the Cree language, which you can see here: [counting-letters-cree.ipynb](counting-letters-cree.ipynb)\n",
    "\n",
    "This notebook is an initial attempt in English. \n",
    "\n",
    "We want to create some Python code to make a sentence that tells you how many of each letter it has, and get the count correct. This is tricky, because the numbers in the sentence are made up of letters, and you don't know in advance how many letters there will be in the completed sentence!\n",
    "\n",
    "The idea is to treat the sentence as an object that gets transformed by the code, based on the count of letters in the sentence. As you update the sentence, you then update the count of letters. Hopefully the updates finally converge to a correct sentence.  This is called a **fixed point** in the set of sentences, under this transformation.\n",
    "\n",
    "Looking for fixed points in a dynamical system is an important topic in pure and applied mathematics. It is interesting to see it show up in languages as well. "
   ]
  },
  {
   "cell_type": "markdown",
   "id": "cc94af14",
   "metadata": {},
   "source": [
    "## Step one. Variables in a string.\n",
    "\n",
    "Can we make a sentence with a variable referenced in it? \n",
    "\n",
    "Yes. We use what is called an \"f-string\", which puts a variable into a string."
   ]
  },
  {
   "cell_type": "code",
   "execution_count": null,
   "id": "39f2bbc3",
   "metadata": {},
   "outputs": [],
   "source": [
    "e = 7\n",
    "f'This sentence has {e} instances of the letter e.'"
   ]
  },
  {
   "cell_type": "markdown",
   "id": "473ea265",
   "metadata": {},
   "source": [
    "## Step two. Can we write a as a word?\n",
    "\n",
    "Yes, we define a function to do that. "
   ]
  },
  {
   "cell_type": "code",
   "execution_count": null,
   "id": "35f37001",
   "metadata": {},
   "outputs": [],
   "source": [
    "## This function takes an integer and returns the corresponding English word\n",
    "def int_to_en(num):\n",
    "    d = { 0 : 'zero', 1 : 'one', 2 : 'two', 3 : 'three', 4 : 'four', 5 : 'five',\n",
    "          6 : 'six', 7 : 'seven', 8 : 'eight', 9 : 'nine', 10 : 'ten',\n",
    "          11 : 'eleven', 12 : 'twelve', 13 : 'thirteen', 14 : 'fourteen',\n",
    "          15 : 'fifteen', 16 : 'sixteen', 17 : 'seventeen', 18 : 'eighteen',\n",
    "          19 : 'nineteen', 20 : 'twenty',\n",
    "          30 : 'thirty', 40 : 'forty', 50 : 'fifty', 60 : 'sixty',\n",
    "          70 : 'seventy', 80 : 'eighty', 90 : 'ninety' }\n",
    "\n",
    "    assert(0 <= num)\n",
    "\n",
    "    if (num < 20):\n",
    "        return d[num]\n",
    "\n",
    "    if (num < 100):\n",
    "        if num % 10 == 0: return d[num]\n",
    "        else: return d[num // 10 * 10] + '-' + d[num % 10]\n",
    "\n",
    "    return 'many'"
   ]
  },
  {
   "cell_type": "markdown",
   "id": "e8b53611",
   "metadata": {},
   "source": [
    "### Here is a couple of examples of how to use this function:"
   ]
  },
  {
   "cell_type": "code",
   "execution_count": null,
   "id": "155efb4f",
   "metadata": {},
   "outputs": [],
   "source": [
    "int_to_en(3),int_to_en(10),int_to_en(29)"
   ]
  },
  {
   "cell_type": "markdown",
   "id": "baef26ff",
   "metadata": {},
   "source": [
    "## Step three. Let's use that function in the string with a varible."
   ]
  },
  {
   "cell_type": "code",
   "execution_count": null,
   "id": "da75d3a2",
   "metadata": {},
   "outputs": [],
   "source": [
    "e = 23\n",
    "f'This sentence has {int_to_en(e)} instances of the letter e.'"
   ]
  },
  {
   "cell_type": "markdown",
   "id": "c568c98b",
   "metadata": {},
   "source": [
    "## Step four. Count the instances of a letter in a string.\n",
    "\n",
    "We use the count function applied to a string"
   ]
  },
  {
   "cell_type": "code",
   "execution_count": null,
   "id": "c4cac31b",
   "metadata": {},
   "outputs": [],
   "source": [
    "s = f'This sentence has {int_to_en(e)} instances of the letter e.'\n",
    "e = s.count('e')\n",
    "f'This sentence has {int_to_en(e)} instances of the letter e.'"
   ]
  },
  {
   "cell_type": "markdown",
   "id": "53f6a14d",
   "metadata": {},
   "source": [
    "## Step five. Repeat.\n",
    "\n",
    "Let's repeat the count, on the new, updated string. If we are lucky, the numbers work out. "
   ]
  },
  {
   "cell_type": "code",
   "execution_count": null,
   "id": "91b315ab",
   "metadata": {},
   "outputs": [],
   "source": [
    "s = f'This sentence has {int_to_en(e)} instances of the letter e.'\n",
    "e = s.count('e')\n",
    "f'This sentence has {int_to_en(e)} instances of the letter e.'"
   ]
  },
  {
   "cell_type": "markdown",
   "id": "769b7f20",
   "metadata": {},
   "source": [
    "### Result: Yay, it worked!\n",
    "\n",
    "We got lucky. There really are eleven instances of the letter e.\n",
    "\n",
    "If we were not lucky, we could re-do the count and update the sentence. Keep repeating until we get a fixed point (the sentence stops changing)."
   ]
  },
  {
   "cell_type": "markdown",
   "id": "16a0e30b",
   "metadata": {},
   "source": [
    "## Non-uniqueness.\n",
    "\n",
    "Curiously, you can have the same sentence that works, but with nine instance of the letter e. \n",
    "\n",
    "This shows the sentence that \"works\" might not be unique. Here is the second example."
   ]
  },
  {
   "cell_type": "code",
   "execution_count": null,
   "id": "f67ab6d4",
   "metadata": {},
   "outputs": [],
   "source": [
    "e = 9\n",
    "s = f'This sentence has {int_to_en(e)} instances of the letter e.'\n",
    "e = s.count('e')\n",
    "f'This sentence has {int_to_en(e)} instances of the letter e.'"
   ]
  },
  {
   "cell_type": "markdown",
   "id": "fbc675e1",
   "metadata": {},
   "source": [
    "## Step six. A longer sentence.\n",
    "\n",
    "We will count all five vowels and update the sentence. Repeat until we get a fixed point. \n",
    "\n",
    "But to be careful. The code could get stuck in an infinite loop, if we never get to the fixed point.\n",
    "So let's put in a limit, so we don't repeat more than 20 times."
   ]
  },
  {
   "cell_type": "code",
   "execution_count": null,
   "id": "9895b08f",
   "metadata": {},
   "outputs": [],
   "source": [
    "a,e,i,o,u = 0,0,0,0,0\n",
    "\n",
    "s = f'This awesome sentence has \\\n",
    "{int_to_en(a)} instances of the letter a, \\\n",
    "{int_to_en(e)} instances of the letter e, \\\n",
    "{int_to_en(i)} instances of the letter i, \\\n",
    "{int_to_en(o)} instances of the letter o, and \\\n",
    "{int_to_en(u)} instances of the letter u.'\n",
    "\n",
    "for k in range(20):\n",
    "    a = s.count('a')\n",
    "    e = s.count('e')\n",
    "    i = s.count('i')\n",
    "    o = s.count('o')\n",
    "    u = s.count('u')\n",
    "    new_s = f'This awesome sentence has \\\n",
    "{int_to_en(a)} instances of the letter a, \\\n",
    "{int_to_en(e)} instances of the letter e, \\\n",
    "{int_to_en(i)} instances of the letter i, \\\n",
    "{int_to_en(o)} instances of the letter o, and \\\n",
    "{int_to_en(u)} instances of the letter u.'\n",
    "    print(k,\": \",a,e,i,o,u)\n",
    "    if new_s == s:\n",
    "        break\n",
    "    else:\n",
    "        s = new_s\n",
    "print(k,'Done! \\n',s)\n"
   ]
  },
  {
   "cell_type": "markdown",
   "id": "97436db0",
   "metadata": {},
   "source": [
    "### Result: Yay, it worked!\n",
    "\n",
    "We got lucky, again. There really are nine instances of the letter a, thirty instances of the letter e, and so on.\n",
    "\n",
    "Let's move on to a more complicated version with many letters."
   ]
  },
  {
   "cell_type": "markdown",
   "id": "edb6869c",
   "metadata": {},
   "source": [
    "## Step seven. Many letters.\n",
    "\n",
    "Let's make a dictionary of all the letters in the alphabet and make a really long, complicated sentence that counts its letters. We will also create a data structure, called a dictionary, to store the count of each letter. \n",
    "\n",
    "We will repeat the count cycle and look for a fixed point. If we don't find one, we add some random change to the count."
   ]
  },
  {
   "cell_type": "code",
   "execution_count": null,
   "id": "89b9421f",
   "metadata": {},
   "outputs": [],
   "source": [
    "## We need a function to create some random integers in a range\n",
    "from random import randrange"
   ]
  },
  {
   "cell_type": "code",
   "execution_count": null,
   "id": "659ba02f",
   "metadata": {},
   "outputs": [],
   "source": [
    "# Here is the counts of the letters, stored as a Python dictionary\n",
    "counts = dict ()\n",
    "letters = 'abcdefghijklmnopqrstuvwxyz'\n",
    "for letter in letters:\n",
    "    counts[letter] = 0\n",
    "    \n",
    "def randomize(): ## randomly change the counts up or down, but always non-negative.\n",
    "    for letter in letters:\n",
    "        counts[letter] = max(0,counts[letter]+randrange(-5,5))\n",
    "        "
   ]
  },
  {
   "cell_type": "code",
   "execution_count": null,
   "id": "32e2f2c8",
   "metadata": {},
   "outputs": [],
   "source": [
    "## Let's enter some random counts into the dictionary, and see what it looks like.\n",
    "randomize()\n",
    "print(counts)"
   ]
  },
  {
   "cell_type": "code",
   "execution_count": null,
   "id": "f4ba0e55",
   "metadata": {},
   "outputs": [],
   "source": [
    "# This function builds the English sentence. We don't include letters that only appear once.\n",
    "# Thinking ahead, we know that \"z\" never appears, so we end our sentence with the letter y. \n",
    "def build_sentence():\n",
    "    s = 'This unusual sentence has '\n",
    "    for letter, value in counts.items():\n",
    "        if (value>1):\n",
    "            if not letter=='y': \n",
    "                s+= f'{int_to_en(value)} instances of the letter {letter}, '\n",
    "            else:\n",
    "                s += f'and {int_to_en(value)} instances of the letter y.'\n",
    "    return(s)"
   ]
  },
  {
   "cell_type": "code",
   "execution_count": null,
   "id": "2e48ba84",
   "metadata": {},
   "outputs": [],
   "source": [
    "# Let's test it. The numbers will be wrong, though. \n",
    "build_sentence()"
   ]
  },
  {
   "cell_type": "markdown",
   "id": "ca7a5449",
   "metadata": {},
   "source": [
    "## The key loop\n",
    "\n",
    "Here we run the algorithm. \n",
    "\n",
    "The outer loop randomizes the count dictionary, and builds an initial sentence.\n",
    "\n",
    "The inner loops counts the letters in that sentence, and creates a new sentence from that count. \n",
    "If the new sentence is the same as the old one, we are done! If not, we try again. We only try this a thousand times. If no success, it probably means we are stuck in a loop. So we go back to the outer loop, randomize the count and try again. "
   ]
  },
  {
   "cell_type": "code",
   "execution_count": null,
   "id": "9d8e842b",
   "metadata": {},
   "outputs": [],
   "source": [
    "def my_loop():\n",
    "    for i in range(100):\n",
    "        randomize()\n",
    "        s = build_sentence()\n",
    "        for k in range(1000):\n",
    "            for letter in counts.keys():\n",
    "                counts[letter] = s.lower().count(letter)  ## we count lower and upper case the same\n",
    "            new_s = build_sentence()\n",
    "            #if (k>980 and i>90):\n",
    "            #    print(list(counts.values()))\n",
    "            if new_s == s:\n",
    "                return i,k,s\n",
    "            s = new_s\n",
    "\n",
    "my_loop()"
   ]
  },
  {
   "cell_type": "markdown",
   "id": "6c9b1fbf",
   "metadata": {},
   "source": [
    "### Here is a typical successful result\n",
    " It show that at i=66, k=255 in the loop, we were successful in getting the following, correct, self-referential sentence. \n",
    " \n",
    "(66,\n",
    " 255,\n",
    " 'This unusual sentence has twenty-six instances of the letter a, twenty-two instances of the letter c, two instances of the letter d, many instances of the letter e, twenty-six instances of the letter f, two instances of the letter g, thirty instances of the letter h, thirty-two instances of the letter i, twenty-three instances of the letter l, three instances of the letter m, fifty-nine instances of the letter n, twenty-seven instances of the letter o, twenty-nine instances of the letter r, forty-eight instances of the letter s, many instances of the letter t, five instances of the letter u, four instances of the letter v, twelve instances of the letter w, three instances of the letter x, and thirteen instances of the letter y.')"
   ]
  },
  {
   "cell_type": "markdown",
   "id": "db12d81b",
   "metadata": {},
   "source": [
    "### Bad result\n",
    "\n",
    "If the loop is not successful, it gives you no answer. Don't be discouraged. Try running it again. The randomizing function means it will try a different starting point. You may get lucky the next time. "
   ]
  },
  {
   "cell_type": "markdown",
   "id": "d7ee53ac",
   "metadata": {},
   "source": [
    "## The Cree Language\n",
    "\n",
    "There are over 100,000 people in Canada whose first language is Cree, including several dialects across the country. Information the Cree language across Canada can be found here: https://www.pathoftheelders.com/images/language/Cree%20%E2%80%93%20The%20Peoples%20Language.pdf\n",
    "\n",
    "We have created two notebooks to make self-referential sentences in Cree. Here are their links:\n",
    "- [counting-letters-cree.ipynb](counting-letters-cree.ipynb)\n",
    "- [counting-letters-syllabics.ipynb](counting-letters-syllabics.ipynb)\n",
    "\n",
    "The first uses Cree with the Roman orthography (the usual 26 letters of English). The second uses the syllabic symbols of written Cree. Check them out!"
   ]
  },
  {
   "cell_type": "markdown",
   "id": "ac14d4f3",
   "metadata": {},
   "source": [
    "## Summary\n",
    "\n",
    "We have shown how to use Python to create sentences that include a reference to themselves. They correctly indicate the count of letters in the existing sentence. Hope you found this interesting. \n",
    "\n",
    "Links are included to try the same method in the Cree language."
   ]
  },
  {
   "cell_type": "markdown",
   "id": "2aae83d5",
   "metadata": {},
   "source": [
    "[![Callysto.ca License](https://github.com/callysto/curriculum-notebooks/blob/master/callysto-notebook-banner-bottom.jpg?raw=true)](https://github.com/callysto/curriculum-notebooks/blob/master/LICENSE.md)"
   ]
  }
 ],
 "metadata": {
  "kernelspec": {
   "display_name": "Python 3 (ipykernel)",
   "language": "python",
   "name": "python3"
  },
  "language_info": {
   "codemirror_mode": {
    "name": "ipython",
    "version": 3
   },
   "file_extension": ".py",
   "mimetype": "text/x-python",
   "name": "python",
   "nbconvert_exporter": "python",
   "pygments_lexer": "ipython3",
   "version": "3.9.13"
  }
 },
 "nbformat": 4,
 "nbformat_minor": 5
}
