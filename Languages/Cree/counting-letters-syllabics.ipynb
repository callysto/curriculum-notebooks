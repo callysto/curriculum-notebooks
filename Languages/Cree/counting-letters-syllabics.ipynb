{
 "cells": [
  {
   "cell_type": "markdown",
   "id": "0ee8eab1",
   "metadata": {},
   "source": [
    "![Callysto.ca Banner](https://github.com/callysto/curriculum-notebooks/blob/master/callysto-notebook-banner-top.jpg?raw=true)"
   ]
  },
  {
   "cell_type": "markdown",
   "id": "2a1bf03e",
   "metadata": {},
   "source": [
    "# Self-referential sentences, in Cree Syllabics\n",
    "\n",
    "April-June, 2023. (Michael Lamoureux) \n",
    "\n",
    "With credit to Dr. Ed Doolittle, Professor of Mathematics at First Nations University, for originating this work. \n",
    "\n",
    "[https://www.youtube.com/watch?v=wZ-ctdoj_mM](https://www.youtube.com/watch?v=wZ-ctdoj_mM)\n",
    "\n",
    "## Introduction\n",
    "\n",
    "We are interested in creating self-referential sentences like the following:\n",
    "- This sentence has four e’s in it.\n",
    "- This sentence has five e’s in it.\n",
    "\n",
    "If we check carefully, we see both sentences are true: the first sentence really does have four e's in it, while the second sentence has five e's. If you would like to create more complicated examples in English, please check out this link: [counting-letters-english.ipynb](counting-letters-english.ipynb)\n",
    "\n",
    "In Cree, we can get a self-referential sentence like this:\n",
    "\n",
    "```\n",
    "Mekwâc e-ayamihtâyan ôma, nîyânanwâw kika-wâpahten ôma e masinipehikanis.\n",
    "```\n",
    "\n",
    "This translates as:\n",
    "```\n",
    "Right now as you read this, you will see five e's written.\n",
    "```\n",
    "\n",
    "In Cree syllabics, this is written as:\n",
    "```\n",
    "ᒣᑳᐧᐨ  ᐁ ᐊᔭᒥᐦᑖᔭᐣ  ᐆᒪ,  ᓃᔮᓇᓈᐧᐤ  ᑭᑲ ᐋᐧᐸᐦᑌᐣ  ᐆᒪ  \"ᐁ\"  ᒪᓯᓂᐯᐦᐃᑲᓂᐢ.\n",
    "```\n",
    "\n",
    "We want to create some Python code to make a sentence that tells you how many of each letter it has, and get the count correct. This is tricky, because the numbers in the sentence are made up of letters, and you don't know in advance how many letters there will be in the completed sentence!\n",
    "\n",
    "The idea is to treat the sentence as an object that gets transformed by the code, based on the count of letters in the sentence. As you update the sentence, you then update the count of letters. Hopefully the updates finally converge to a correct sentence.  This is called a **fixed point** in the set of sentences, under this transformation.\n",
    "\n",
    "Looking for fixed points in a dynamical system is an important topic in pure and applied mathematics. It is interesting to see it show up in languages as well. \n"
   ]
  },
  {
   "cell_type": "markdown",
   "id": "d7ee53ac",
   "metadata": {},
   "source": [
    "## The Cree Language\n",
    "\n",
    "First we must learn a bit about numbers in the Cree language.\n",
    "\n",
    "There are over 100,000 people in Canada whose first language is Cree, including several dialects across the country. Information the Cree language across Canada can be found here: https://www.pathoftheelders.com/images/language/Cree%20%E2%80%93%20The%20Peoples%20Language.pdf\n",
    "\n",
    "For a consistent lesson, we follow the Alberta Elder's Cree language dictionary as described in the online resource https://www.creedictionary.com  Another useful resource is this online app: https://itwewina.altlab.app/\n"
   ]
  },
  {
   "cell_type": "markdown",
   "id": "3b7cbe9b",
   "metadata": {},
   "source": [
    "## The Cree alphabet and syllabics\n",
    "\n",
    "In Plains Cree, there are ten consonants (**c, h, k, m, n, p, s, t, w, y**) and seven vowels (**a, â, e, i, î, o, ô**). Six vowels appear as pairs indicating short and long versions (**a, â**), (**i, î**), (**o, ô**) while **e** only appears as one version. Note in some dictionaries, **e** is written as **ê,** the long form of the vowel.\n",
    "\n",
    "These seven vowels and nine of the consonants combine to form syllabics. The following chart organizes the syllabics by lining up rows of consonants and columns of vowels. These combine as a \"consonant + vowel\" to give a basic sound like **wa** or **ta**. There is a last column, Finals, representing the sound where a consonant is added at the end of a vowel sound, like **tah** or **taht.** \n",
    "\n",
    "You might like to explore the patterns in this chart -- it is quite beautiful!\n",
    "\n",
    "| Cree Vowels | e | i | î | o | ô | a | â |  |\n",
    "| :---- | :-- | :-- | :-- | :-- | :-- | :-- | :-- | :-- |\n",
    "| Eng. Sound | b**ai**t | b**i**t | b**ea**t | p**u**t | b**oa**t | b**u**t | f**a** | Finals | \n",
    "| Syllabic Vowel | ᐁ | ᐃ | ᐄ | ᐅ | ᐆ | ᐊ | ᐋ | ᐧ (w) |\n",
    "| w | ᐁᐧ | ᐃᐧ | ᐄᐧ | ᐅᐧ | ᐆᐧ | ᐊᐧ | ᐋᐧ | ᐤ (ow) |\n",
    "| p | ᐯ | ᐱ | ᐲ | ᐳ | ᐴ | ᐸ | ᐹ | ᑊ |\n",
    "| t | ᑌ | ᑎ | ᑏ | ᑐ | ᑑ | ᑕ | ᑖ | ᐟ |\n",
    "| k | ᑫ | ᑭ | ᑮ | ᑯ | ᑰ | ᑲ | ᑳ | ᐠ |\n",
    "| c | ᒉ | ᒋ | ᒌ | ᒍ | ᒎ | ᒐ | ᒑ | ᐨ |\n",
    "| m | ᒣ | ᒥ | ᒦ | ᒧ | ᒨ | ᒪ | ᒫ | ᒼ |\n",
    "| n | ᓀ | ᓂ | ᓃ | ᓄ | ᓅ | ᓇ | ᓈ | ᐣ |\n",
    "| s | ᓭ | ᓯ | ᓰ | ᓱ | ᓲ | ᓴ | ᓵ | ᐢ |\n",
    "| y | ᔦ | ᔨ | ᔩ | ᔪ | ᔫ | ᔭ | ᔮ | ᕀ |\n",
    "\n",
    "There are also five additional syllabics, ᓬ ᕒ ᑫᐧ ᐦ ᕁ, representing the sounds l, r, kwe, h and hk.\n",
    "\n",
    "## Syllabics and symbols\n",
    "\n",
    "The syllabics are not the same as the individual symbols in printed Cree. For instance, the Cree word for ten, **mitâtaht**, is made of of three syllables **mi**, **tâ**, **tath**. In syllabics, it is written **ᒥᑖᑕᐦᐟ** where the third syllabic, **ᑕᐦᐟ** consists of the symbol **ᑕ** (ta) with the two finals **ᐦᐟ** (ht) attached. \n",
    "\n",
    "This may cause us a headache in the computer code, because we would need to create special codes for all the syllabics with all possible finals attached. That's too hard!\n",
    "\n",
    "The plan here is to count symbols, as individual characters in a sentence, rather than full syllabics. Apologies...\n",
    "\n"
   ]
  },
  {
   "cell_type": "markdown",
   "id": "ed2ffdf1",
   "metadata": {},
   "source": [
    "## Writing out numbers in Cree\n",
    "\n",
    "This is a summary from a video by Solomon Ratt, at this web page:\n",
    "[https://creeliteracy.org/2020/03/27/shlc_numbers/](https://creeliteracy.org/2020/03/27/shlc_numbers/\n",
    ") as well as the dictionary noted above.\n",
    "\n",
    "The first ten counting numbers appear as follows:\n",
    "\n",
    "| #  | Cree |Syllabic |\n",
    "| -- | :----| :---- |\n",
    "| 1| peyak | ᐱᔭᐠ |\n",
    "| 2| nîso | ᓃᓱ |\n",
    "| 3| nisto | ᓂᐢᑐ |\n",
    "| 4| newo | ᓀᐅᐧ |\n",
    "| 5| nîyânan | ᓃᔮᓇᐣ |\n",
    "| 6| nikotwâsik | ᓂᑯᑖᐧᓯᐠ |\n",
    "| 7| tepakohp | ᑌᐸᑯᐦᑊ |\n",
    "| 8| ayinânew | ᐊᔨᓈᓀᐤ | \n",
    "| 9| kîkâmitâtaht | ᑮᑳᒥᑖᑕᐦᐟ |\n",
    "|10| mitâtaht | ᒥᑖᑕᐦᐟ |\n",
    "\n",
    "\n",
    "The numbers eleven through nineteen are given by attaching the suffix \"osâp,\" ( ᓵᑊ ) with some minor variations:\n",
    "\n",
    "| #  | Cree |Syllabic |\n",
    "| -- | :----| :---- |\n",
    "|11| peyakosâp | ᐯᔭᑯᓵᑊ |\n",
    "|12| nîsosâp | ᓃᓱᓵᑊ |\n",
    "|13| nistosâp | ᓂᐢᑐᓵᑊ |\n",
    "|14| newohsâp|  ᓀᐅᐧᐦᓵᑊ |\n",
    "|15| nîyânanosâp | ᓃᔮᓇᓄᓵᑊ |\n",
    "|16| nikotwâsosâp | ᓂᑯᑖᐧᓱᓵᑊ |\n",
    "|17| tepakohposâp | ᑌᐸᑯᐦᐳᓵᑊ |\n",
    "|18| ayinânewosâp | ᐊᔦᓈᓀᐅᐧᓵᑊ |\n",
    "|19| kîkâmitâtahtosâp |  ᑮᑳᒥᑖᑕᐦᑐᓵᑊ |\n",
    "\n",
    "The numbers 20, 30, 40, etc are given by adding the suffix \"mitanaw\" ( ᒥᑕᓇᐤ ) to the single digit names above:\n",
    "\n",
    "| #  | Cree |Syllabic |\n",
    "| -- | :----| :---- |\n",
    "| 20 | nîsitanaw | ᓃᐢᑕᓇᐤ |\n",
    "| 30 | nistomitanaw | ᓂᐢᑐᒥᑕᓇᐤ |\n",
    "| 40 | nemitanaw| ᓀᒥᑕᓇᐤ |\n",
    "| 50 | nîyânanomitanaw | ᓃᔮᓇᓄᒥᑕᓇᐤ |\n",
    "| 60 | nikotwâsomitanaw | ᓂᑯᑖᐧᓱᒥᑕᓇᐤ |\n",
    "| 70 | tepakohpimitanaw | ᑌᐸᑯᐦᐱᒥᑕᓇᐤ |\n",
    "| 80 | ayinânewomitanaw | ᐊᔨᓈᓀᐅᐧᒥᑕᓇᐤ |\n",
    "| 90 | kîkâmitâtahtomitanaw | ᑮᑳᒥᑖᑕᐦᑐᒥᑕᓇᐤ |\n",
    "\n",
    "\n",
    "To get a compound number like twenty-three, you take the \"20\" word and add the \"teens\" word for 13, to get\n",
    "\n",
    "| #  | Cree |Syllabic |\n",
    "| -- | :----| :---- |\n",
    "| 13 | nistosâp |  ᓂᐢᑐᓵᑊ |\n",
    "| 20 | nîsitanaw |  ᓃᐢᑕᓇᐤ |\n",
    "| 23 | nîsitanaw nistosâp |  ᓃᐢᑕᓇᐤ      ᓂᐢᑐᓵᑊ |\n",
    "\n",
    "Finally, when you are counting \"things\" like berries (mînisihkân,  ᒦᓂᓯᐦᑳᐣ ) you add a \"wâw\" ( ᐹᐧᐤ ) to the number word in Cree. For instance:\n",
    "\n",
    "| #  | Cree |Syllabic |\n",
    "| -- | :----| :---- |\n",
    "| 20 berries | nîsitanawâw mînisihkân | ᓃᐢᑕᓄᐋᐧᐤ ᒦᓂᓯᐦᑳᐣ |\n",
    "| 23 berries | nîsitanaw nistosâpwâw mînisihkân | ᓃᐢᑕᓇᐤ ᓂᐢᑐᓵᐹᐧᐤ  ᒦᓂᓯᐦᑳᐣ |"
   ]
  },
  {
   "cell_type": "markdown",
   "id": "85b8db33",
   "metadata": {},
   "source": [
    "## Python dictionaries \n",
    "\n",
    "We assemble this information a couple of Python dictionaries that the code will refer to when building the Cree sentence with numbers. "
   ]
  },
  {
   "cell_type": "code",
   "execution_count": 139,
   "id": "6c231772",
   "metadata": {},
   "outputs": [],
   "source": [
    "# Numbers in Cree\n",
    "cree_nums = {0:\"mâkîkway\", 1:\"peyak\", 2:\"nîso\", 3:\"nisto\", 4:\"newo\", 5:\"nîyânan\",\n",
    "             6:\"nikotwâsik\", 7:\"tepakohp\", 8:\"ayinânew\", 9:\"kîkâmitâtaht\", 10:\"mitâtaht\",\n",
    "            11:\"peyakosâp\", 12:\"nîsosâp\", 13:\"nistosâp\", 14:\"newosâp\", 15:\"nîyânanosâp\",\n",
    "            16:\"nikotwâsikosâp\", 17:\"tepakohposâp\", 18:\"ayinânewosâp\", 19:\"kîkâmitâtahtosâp\",\n",
    "            20:\"nîsitanaw\", 30:\"nistomitanaw\", 40:\"nemitanaw\",50:\"nîyânanomitanaw\",\n",
    "            60:\"nikotwâsikomitanaw\", 70:\"tepakohpomitanaw\", 80:\"ayinânemitanaw\",\n",
    "            90:\"kîkâmitâtahtomitanaw\",100:\"mitâtahtomitanaw\"}\n",
    "# Number of things, in Cree\n",
    "cree_num_of = {0:\"mâkîkway\", 1:\"peyakwâw\", 2:\"nîswâw\", 3:\"nistwâw\", 4:\"newâw\", 5:\"nîyânanwâw\",\n",
    "             6:\"nikotwâswâw\", 7:\"tepakohpwâw\", 8:\"ayinânewâw\", 9:\"kîkâmitâtahtwâw\", 10:\"mitâtahtwâw\",\n",
    "            11:\"peyakosâpwâw\", 12:\"nîsosâpwâw\", 13:\"nistosâpwâw\", 14:\"newosâpwâw\", 15:\"nîyânanosâpwâw\",\n",
    "            16:\"nikotwâsosâpwâw\", 17:\"tepakohposâpwâw\", 18:\"ayinânewosâpwâw\", 19:\"kîkâmitâtahtosâpwâw\",\n",
    "            20:\"nîsitanawâw\", 30:\"nistomitanawâw\", 40:\"nemitanawâw\",50:\"nîyânanomitanawâw\",\n",
    "            60:\"nikotwâsikomitanawâw\", 70:\"tepakohpomitanawâw\", 80:\"ayinânemitanawâw\",\n",
    "            90:\"kîkâmitâtahtomitanawâw\",100:\"mitâtahtomitanawâw\"}\n",
    "\n",
    "# Numbers in Cree Syllabics\n",
    "\n",
    "syll_nums = {0:\"ᒪ ᑮᑲᐧᕀ\",1:\"ᐱᔭᐠ\", 2:\"ᓃᓱ\", 3:\"ᓂᐢᑐ\", 4:\"ᓀᐅᐧ\", 5:\"ᓃᔮᓇᐣ\",\n",
    "             6:\"ᓂᑯᑖᐧᓯᐠ\", 7:\"ᑌᐸᑯᐦᑊ\", 8:\"ᐊᔨᓈᓀᐤ\", 9:\"ᑮᑳᒥᑖᑕᐦᐟ\", 10:\"ᒥᑖᑕᐦᐟ\",\n",
    "            11:\"ᐯᔭᑯᓵᑊ\", 12:\"ᓃᓱᓵᑊ\", 13:\"ᓂᐢᑐᓵᑊ\", 14:\"ᓀᐅᐧᐦᓵᑊ\", 15:\"ᓃᔮᓇᓄᓵᑊ\",\n",
    "            16:\"ᓂᑯᑖᐧᓱᓵᑊ\", 17:\"ᑌᐸᑯᐦᐳᓵᑊ\", 18:\"ᐊᔦᓈᓀᐅᐧᓵᑊ\", 19:\"ᑮᑳᒥᑖᑕᐦᑐᓵᑊ\",\n",
    "            20:\"ᓃᐢᑕᓇᐤ\", 30:\"ᓂᐢᑐᒥᑕᓇᐤ\", 40:\"ᓀᒥᑕᓇᐤ\",50:\"ᓃᔮᓇᓄᒥᑕᓇᐤ\",\n",
    "            60:\"ᓂᑯᑖᐧᓱᒥᑕᓇᐤ\", 70:\"ᑌᐸᑯᐦᐱᒥᑕᓇᐤ\", 80:\"ᐊᔨᓈᓀᐅᐧᒥᑕᓇᐤ\",\n",
    "            90:\"ᑮᑳᒥᑖᑕᐦᑐᒥᑕᓇᐤ\"}\n",
    "# Number of things, in Syllabics\n",
    "syll_num_of = {0:\"ᓇᒫᑮᑲᐧᐤ\", 1:\"ᐯᔭᑳᐧᐤ\", 2:\"ᓃᓵᐧᐤ\", 3:\"ᓂᐢᑖᐧᐤ\", 4:\"ᓀᐋᐧᐤ\", 5:\"ᓃᔮᓇᓈᐧᐤ\",\n",
    "             6:\"ᓂᑯᑐᐋᐧᓯᑳᐧᐤ\", 7:\"ᑌᐸᑯᐦᐹᐧᐤ\", 8:\"ᐊᔨᓈᓀᐋᐧᐤ\", 9:\"ᑮᑳᒥᑕᑕᐦᑖᐧᐤ\", 10:\"ᒥᑖᑕᐦᑖᐧᐤ\",\n",
    "            11:\"ᐯᔭᑯᓵᐱᐋᐧᐤ\", 12:\"ᓃᓱᓵᐹᐧᐤ\", 13:\"ᓂᐢᑐᓵᐹᐧᐤ\", 14:\"ᓀᐅᐧᓵᐹᐧᐤ\", 15:\"ᓃᔮᓇᓄᓵᐹᐧᐤ\",\n",
    "            16:\"ᓂᑯᑖᐧᓱᓵᐹᐧᐤ\", 17:\"ᑌᐸᑯᐦᐳᓵᐹᐧᐤ\", 18:\"ᐊᔨᓈᓀᐅᐧᓵᐹᐧᐤ\", 19:\"ᑮᑳᒥᑕᐦᑕᑐᓵᐹᐤ\",\n",
    "            20:\"ᓃᐢᑕᓄᐋᐧᐤ\", 30:\"ᓂᐢᑐᒥᑕᓇᐋᐧᐤ\", 40:\"ᓀᒥᑕᓇᐋᐧᐤ\",50:\"ᓃᔮᓇᓄᒥᑕᓇᐋᐧᐤ\",\n",
    "            60:\"ᓂᑯᑖᐧᓱᒥᑕᓇᐤ\", 70:\"ᑌᐸᑯᐦᐱᒥᑕᓇᐋᐧᐤ\", 80:\"ᐊᔨᓈᓀᐅᐧᒥᑕᓇᐋᐧᐤ\",\n",
    "            90:\"ᑮᑳᒥᑖᑕᐦᑐᒥᑕᓇᐋᐧᐤ\"}\n"
   ]
  },
  {
   "cell_type": "markdown",
   "id": "4aaae866",
   "metadata": {},
   "source": [
    "### Here is a function to turn a numerical value into a Cree word.\n",
    "\n",
    "The code has special cases for numbers smaller than twenty, and for round numbers like 20, 30, 40, etc. "
   ]
  },
  {
   "cell_type": "code",
   "execution_count": 140,
   "id": "b12d3d9c",
   "metadata": {},
   "outputs": [],
   "source": [
    "\"\"\"Given a positive integer less than 100, print it in Cree syllabics.\"\"\"\n",
    "def int_to_syll(num):\n",
    "\n",
    "    assert(0 <= num)\n",
    "\n",
    "    if (num < 20):\n",
    "        return syll_num_of[num]\n",
    "\n",
    "    if (num < 100):\n",
    "        if num % 10 == 0: return syll_num_of[num]\n",
    "        else: return syll_nums[(num // 10) * 10] + ' ' + syll_num_of[(num % 10)+10]\n",
    "\n",
    "    return ' ᒥᒉᑖᐧᐤ'  ## micetwâw means \"many,\" for when we have more than 100 items"
   ]
  },
  {
   "cell_type": "code",
   "execution_count": 141,
   "id": "8c0599c5",
   "metadata": {},
   "outputs": [
    {
     "data": {
      "text/plain": [
       "('ᓃᔮᓇᓈᐧᐤ', 'ᓃᐢᑕᓇᐤ ᐊᔨᓈᓀᐅᐧᓵᐹᐧᐤ', 'ᓀᒥᑕᓇᐤ ᓃᔮᓇᓄᓵᐹᐧᐤ')"
      ]
     },
     "execution_count": 141,
     "metadata": {},
     "output_type": "execute_result"
    }
   ],
   "source": [
    "## here is a sample to test it\n",
    "int_to_syll(5),int_to_syll(28),int_to_syll(45)"
   ]
  },
  {
   "cell_type": "markdown",
   "id": "18d5d3c8",
   "metadata": {},
   "source": [
    "## The symbols in Cree\n",
    "\n",
    "We will create a list of symbols that occur in the syllabics of Cree, and use it to keep count of how many times they appear in a sentence. \n",
    "\n",
    "We are avoiding the **w** syllabics because they are represented by two symbols together, like **ᐁᐧ**, which is an issue in the computer's Unicode format. There is no easy way around this problem, so we just avoid it. We also avoid the final syllabics."
   ]
  },
  {
   "cell_type": "code",
   "execution_count": 1,
   "id": "b656ad31",
   "metadata": {},
   "outputs": [],
   "source": [
    "vowel_syll = \"ᐁᐃᐄᐅᐆᐊᐋ\"  # the basic vowels\n",
    "p_syll = \"ᐯᐱᐲᐳᐴᐸᐹ\"  # The consonent-vowel combinations\n",
    "t_syll = \"ᑌᑎᑏᑑᑕᑖ\"\n",
    "k_syll = \"ᑫᑭᑮᑯᑰᑲᑳ\"\n",
    "c_syll = \"ᒉᒋᒌᒍᒎᒐᒑ\"\n",
    "m_syll = \"ᒣᒥᒦᒧᒨᒪᒫ\"\n",
    "n_syll = \"ᓀᓂᓃᓄᓅᓇᓈ\"\n",
    "s_syll = \"ᓭᓯᓰᓱᓲᓴᓵ\"\n",
    "y_syll = \"ᔦᔨᔩᔪᔫᔭᔮ\"\n",
    "final_syll =\"ᐧᐤᑊᐟᐠᐨᒼᐣᐢᕀᐦᕁᓬᕒ\"  # the final symbols\n",
    "\n",
    "cree_syll = vowel_syll + p_syll + k_syll + c_syll + \\\n",
    "    m_syll + n_syll + s_syll + y_syll "
   ]
  },
  {
   "cell_type": "code",
   "execution_count": 2,
   "id": "1c6723cc",
   "metadata": {},
   "outputs": [
    {
     "data": {
      "text/plain": [
       "56"
      ]
     },
     "execution_count": 2,
     "metadata": {},
     "output_type": "execute_result"
    }
   ],
   "source": [
    "## Let's see how many symbols we have. \n",
    "len(cree_syll)"
   ]
  },
  {
   "cell_type": "code",
   "execution_count": 145,
   "id": "f3214de9",
   "metadata": {},
   "outputs": [
    {
     "name": "stdout",
     "output_type": "stream",
     "text": [
      "{'ᐁ': 0, 'ᐃ': 0, 'ᐄ': 0, 'ᐅ': 0, 'ᐆ': 0, 'ᐊ': 0, 'ᐋ': 0, 'ᐯ': 0, 'ᐱ': 0, 'ᐲ': 0, 'ᐳ': 0, 'ᐴ': 0, 'ᐸ': 0, 'ᐹ': 0, 'ᑫ': 0, 'ᑭ': 0, 'ᑮ': 0, 'ᑯ': 0, 'ᑰ': 0, 'ᑲ': 0, 'ᑳ': 0, 'ᒉ': 0, 'ᒋ': 0, 'ᒌ': 0, 'ᒍ': 0, 'ᒎ': 0, 'ᒐ': 0, 'ᒑ': 0, 'ᒣ': 0, 'ᒥ': 0, 'ᒦ': 0, 'ᒧ': 0, 'ᒨ': 0, 'ᒪ': 0, 'ᒫ': 0, 'ᓀ': 0, 'ᓂ': 0, 'ᓃ': 0, 'ᓄ': 0, 'ᓅ': 0, 'ᓇ': 0, 'ᓈ': 0, 'ᓭ': 0, 'ᓯ': 0, 'ᓰ': 0, 'ᓱ': 0, 'ᓲ': 0, 'ᓴ': 0, 'ᓵ': 0, 'ᔦ': 0, 'ᔨ': 0, 'ᔩ': 0, 'ᔪ': 0, 'ᔫ': 0, 'ᔭ': 0, 'ᔮ': 0}\n"
     ]
    }
   ],
   "source": [
    "# Now we create the dictionary to count the letters (syllbaics in this case)\n",
    "counts = dict ()\n",
    "letters = cree_syll\n",
    "for L in range(len(letters)):\n",
    "    counts[letters[L]] = 0\n",
    "print(counts)"
   ]
  },
  {
   "cell_type": "markdown",
   "id": "ad42d887",
   "metadata": {},
   "source": [
    "## Build a sentence in Cree syllabics\n",
    "\n",
    "We follow Professor Doolittle's model sentence, \n",
    "```\n",
    "Mekwâc e-ayamihtâyan ôma, nîsitanaw ayinânewosâpwâw kika-wâpahten ôma \"a\" masinipehikanis,\n",
    "nîsitanaw peyakosâpwâw \"â\", ..., ekwa nîsitanawâw \"y.\"\n",
    "```\n",
    "In syllabics, \n",
    "```\n",
    "ᒣᑳᐧᐨ  ᐁ ᐊᔭᒥᐦᑖᔭᐣ  ᐆᒪ,  ᓃᓯᑕᓇᐤ  ᐊᔨᓈᓀᐅᐧᓵᐹᐧᐤ  ᑭᑲ ᐋᐧᐸᐦᑌᐣ  ᐆᒪ  \"ᐊ\"  ᒪᓯᓂᐯᐦᐃᑲᓂᐢ,\n",
    "ᓃᓯᑕᓇᐤ  ᐯᔭᑯᓵᐹᐧᐤ  \"ᐋ\", ..., ᐁᑲᐧ  ᓃᓯᑕᓇᐋᐧᐤ  \"y.\"\n",
    "```\n",
    "\n",
    "This translates as:\n",
    "```\n",
    "Right now as you read this, you will see 28 a's written, 21 â's, ..., and 20 y's.\n",
    "```\n",
    "\n",
    "We create a function to build this sentence, using the **counts** dictionary above to generate the numbers that go into the sentence. To get the grammar correct, we treat the first and last symbols **a** and **y** as special cases. "
   ]
  },
  {
   "cell_type": "code",
   "execution_count": 146,
   "id": "b84ff126",
   "metadata": {},
   "outputs": [],
   "source": [
    "# The first and last symbols ᐊ,ᔭ are handled differently, to get the grammar correct.\n",
    "def build_sentence():\n",
    "    s = 'ᒣᑳᐧᐨ  ᐁ ᐊᔭᒥᐦᑖᔭᐣ  ᐆᒪ, '\n",
    "    s += f' {int_to_syll(counts[\"ᐊ\"])} ᑭᑲ ᐋᐧᐸᐦᑌᐣ  ᐆᒪ  \"ᐊ\"  ᒪᓯᓂᐯᐦᐃᑲᓂᐢ, \\n' ## letter ᐊ\n",
    "    for letter, value in counts.items():\n",
    "        if not (letter=='ᐊ' or letter=='ᔭ' or value == 0):  ## symbols ᐊ and ᔭ are handled elsewhere\n",
    "            s+= f' {int_to_syll(value)} \"{letter}\", ' \n",
    "    s += f'ᐁᑲᐧ {int_to_syll(counts[\"ᔭ\"])} \"ᔭ\".'  ## symbol ᔭ handled here\n",
    "    return s\n",
    "\n",
    "def build_sentence_num():\n",
    "    s = 'ᒣᑳᐧᐨ  ᐁ ᐊᔭᒥᐦᑖᔭᐣ  ᐆᒪ, '\n",
    "    s += f' {counts[\"ᐊ\"]} ᑭᑲ ᐋᐧᐸᐦᑌᐣ  ᐆᒪ  \"ᐊ\"  ᒪᓯᓂᐯᐦᐃᑲᓂᐢ, \\n' ## letter ᐊ\n",
    "    for letter, value in counts.items():\n",
    "        if not (letter=='ᐊ' or letter=='ᔭ' or value == 0):  ## symbols ᐊ and ᔭ are handled elsewhere\n",
    "            s+= f' {value} \"{letter}\", ' \n",
    "    s += f'ᐁᑲᐧ {counts[\"ᔭ\"]} \"ᔭ\".'  ## symbol ᔭ handled here\n",
    "    return s\n",
    "\n",
    "def trim_counts():\n",
    "    for letter, value in counts.items():\n",
    "        if value == 1:\n",
    "            counts[letter] = 0\n",
    "\n",
    "## Another way to trim the counts\n",
    "## If a letter only shows up in quates, then we don't need it in the sentence\n",
    "def trim_counts_2(s):\n",
    "    for letter, value in counts.items():\n",
    "        if s.count(letter) == s.count('\"'+letter+'\"'):\n",
    "            counts[letter] = 0"
   ]
  },
  {
   "cell_type": "code",
   "execution_count": 147,
   "id": "b0175bf1",
   "metadata": {},
   "outputs": [
    {
     "name": "stdout",
     "output_type": "stream",
     "text": [
      "ᒣᑳᐧᐨ  ᐁ ᐊᔭᒥᐦᑖᔭᐣ  ᐆᒪ,  ᓇᒫᑮᑲᐧᐤ ᑭᑲ ᐋᐧᐸᐦᑌᐣ  ᐆᒪ  \"ᐊ\"  ᒪᓯᓂᐯᐦᐃᑲᓂᐢ, \n",
      "ᐁᑲᐧ ᓇᒫᑮᑲᐧᐤ \"ᔭ\".\n",
      "\n",
      "\n",
      "ᒣᑳᐧᐨ  ᐁ ᐊᔭᒥᐦᑖᔭᐣ  ᐆᒪ,  0 ᑭᑲ ᐋᐧᐸᐦᑌᐣ  ᐆᒪ  \"ᐊ\"  ᒪᓯᓂᐯᐦᐃᑲᓂᐢ, \n",
      "ᐁᑲᐧ 0 \"ᔭ\".\n"
     ]
    }
   ],
   "source": [
    "## Test the build_sentence_cree function\n",
    "print(build_sentence())\n",
    "print(\"\\n\")\n",
    "print(build_sentence_num())"
   ]
  },
  {
   "cell_type": "code",
   "execution_count": 148,
   "id": "47cf60af",
   "metadata": {},
   "outputs": [
    {
     "data": {
      "text/plain": [
       "'ᒣᑳᐧᐨ  ᐁ ᐊᔭᒥᐦᑖᔭᐣ  ᐆᒪ,  ᓇᒫᑮᑲᐧᐤ ᑭᑲ ᐋᐧᐸᐦᑌᐣ  ᐆᒪ  \"ᐊ\"  ᒪᓯᓂᐯᐦᐃᑲᓂᐢ, \\nᐁᑲᐧ ᓇᒫᑮᑲᐧᐤ \"ᔭ\".'"
      ]
     },
     "execution_count": 148,
     "metadata": {},
     "output_type": "execute_result"
    }
   ],
   "source": [
    "s=build_sentence()\n",
    "s"
   ]
  },
  {
   "cell_type": "code",
   "execution_count": 149,
   "id": "6516df94",
   "metadata": {},
   "outputs": [
    {
     "name": "stdout",
     "output_type": "stream",
     "text": [
      "ᒣᑳᐧᐨ  ᐁ ᐊᔭᒥᐦᑖᔭᐣ  ᐆᒪ,  ᓃᓵᐧᐤ ᑭᑲ ᐋᐧᐸᐦᑌᐣ  ᐆᒪ  \"ᐊ\"  ᒪᓯᓂᐯᐦᐃᑲᓂᐢ, \n",
      " ᓃᓵᐧᐤ \"ᐁ\",  ᐯᔭᑳᐧᐤ \"ᐃ\",  ᓃᓵᐧᐤ \"ᐆ\",  ᐯᔭᑳᐧᐤ \"ᐋ\",  ᐯᔭᑳᐧᐤ \"ᐯ\",  ᐯᔭᑳᐧᐤ \"ᐸ\",  ᐯᔭᑳᐧᐤ \"ᑭ\",  ᓃᓵᐧᐤ \"ᑮ\",  ᓃᔮᓇᓈᐧᐤ \"ᑲ\",  ᐯᔭᑳᐧᐤ \"ᑳ\",  ᐯᔭᑳᐧᐤ \"ᒣ\",  ᐯᔭᑳᐧᐤ \"ᒥ\",  ᓂᐢᑖᐧᐤ \"ᒪ\",  ᓃᓵᐧᐤ \"ᒫ\",  ᓃᓵᐧᐤ \"ᓂ\",  ᓃᓵᐧᐤ \"ᓇ\",  ᐯᔭᑳᐧᐤ \"ᓯ\", ᐁᑲᐧ ᓂᐢᑖᐧᐤ \"ᔭ\".\n",
      "\n",
      "\n",
      "ᒣᑳᐧᐨ  ᐁ ᐊᔭᒥᐦᑖᔭᐣ  ᐆᒪ,  2 ᑭᑲ ᐋᐧᐸᐦᑌᐣ  ᐆᒪ  \"ᐊ\"  ᒪᓯᓂᐯᐦᐃᑲᓂᐢ, \n",
      " 2 \"ᐁ\",  1 \"ᐃ\",  2 \"ᐆ\",  1 \"ᐋ\",  1 \"ᐯ\",  1 \"ᐸ\",  1 \"ᑭ\",  2 \"ᑮ\",  5 \"ᑲ\",  1 \"ᑳ\",  1 \"ᒣ\",  1 \"ᒥ\",  3 \"ᒪ\",  2 \"ᒫ\",  2 \"ᓂ\",  2 \"ᓇ\",  1 \"ᓯ\", ᐁᑲᐧ 3 \"ᔭ\".\n"
     ]
    }
   ],
   "source": [
    "## Let's try counting letters and update the sentence\n",
    "s = build_sentence()\n",
    "for letter in counts.keys():\n",
    "    counts[letter] = s.count(letter)\n",
    "\n",
    "print(build_sentence())\n",
    "print(\"\\n\")\n",
    "print(build_sentence_num())"
   ]
  },
  {
   "cell_type": "code",
   "execution_count": 150,
   "id": "f8e5fd42",
   "metadata": {},
   "outputs": [
    {
     "name": "stdout",
     "output_type": "stream",
     "text": [
      "{'ᐁ': 2, 'ᐃ': 1, 'ᐄ': 0, 'ᐅ': 0, 'ᐆ': 2, 'ᐊ': 2, 'ᐋ': 1, 'ᐯ': 1, 'ᐱ': 0, 'ᐲ': 0, 'ᐳ': 0, 'ᐴ': 0, 'ᐸ': 1, 'ᐹ': 0, 'ᑫ': 0, 'ᑭ': 1, 'ᑮ': 2, 'ᑯ': 0, 'ᑰ': 0, 'ᑲ': 5, 'ᑳ': 1, 'ᒉ': 0, 'ᒋ': 0, 'ᒌ': 0, 'ᒍ': 0, 'ᒎ': 0, 'ᒐ': 0, 'ᒑ': 0, 'ᒣ': 1, 'ᒥ': 1, 'ᒦ': 0, 'ᒧ': 0, 'ᒨ': 0, 'ᒪ': 3, 'ᒫ': 2, 'ᓀ': 0, 'ᓂ': 2, 'ᓃ': 0, 'ᓄ': 0, 'ᓅ': 0, 'ᓇ': 2, 'ᓈ': 0, 'ᓭ': 0, 'ᓯ': 1, 'ᓰ': 0, 'ᓱ': 0, 'ᓲ': 0, 'ᓴ': 0, 'ᓵ': 0, 'ᔦ': 0, 'ᔨ': 0, 'ᔩ': 0, 'ᔪ': 0, 'ᔫ': 0, 'ᔭ': 3, 'ᔮ': 0}\n"
     ]
    }
   ],
   "source": [
    "trim_counts_2(s)\n",
    "print(counts)"
   ]
  },
  {
   "cell_type": "code",
   "execution_count": 151,
   "id": "62b06b66",
   "metadata": {},
   "outputs": [
    {
     "name": "stdout",
     "output_type": "stream",
     "text": [
      "ᒣᑳᐧᐨ  ᐁ ᐊᔭᒥᐦᑖᔭᐣ  ᐆᒪ,  ᓃᓵᐧᐤ ᑭᑲ ᐋᐧᐸᐦᑌᐣ  ᐆᒪ  \"ᐊ\"  ᒪᓯᓂᐯᐦᐃᑲᓂᐢ, \n",
      " ᓃᓵᐧᐤ \"ᐁ\",  ᐯᔭᑳᐧᐤ \"ᐃ\",  ᓃᓵᐧᐤ \"ᐆ\",  ᐯᔭᑳᐧᐤ \"ᐋ\",  ᐯᔭᑳᐧᐤ \"ᐯ\",  ᐯᔭᑳᐧᐤ \"ᐸ\",  ᐯᔭᑳᐧᐤ \"ᑭ\",  ᓃᓵᐧᐤ \"ᑮ\",  ᓃᔮᓇᓈᐧᐤ \"ᑲ\",  ᐯᔭᑳᐧᐤ \"ᑳ\",  ᐯᔭᑳᐧᐤ \"ᒣ\",  ᐯᔭᑳᐧᐤ \"ᒥ\",  ᓂᐢᑖᐧᐤ \"ᒪ\",  ᓃᓵᐧᐤ \"ᒫ\",  ᓃᓵᐧᐤ \"ᓂ\",  ᓃᓵᐧᐤ \"ᓇ\",  ᐯᔭᑳᐧᐤ \"ᓯ\", ᐁᑲᐧ ᓂᐢᑖᐧᐤ \"ᔭ\".\n",
      "\n",
      "\n",
      "ᒣᑳᐧᐨ  ᐁ ᐊᔭᒥᐦᑖᔭᐣ  ᐆᒪ,  2 ᑭᑲ ᐋᐧᐸᐦᑌᐣ  ᐆᒪ  \"ᐊ\"  ᒪᓯᓂᐯᐦᐃᑲᓂᐢ, \n",
      " 2 \"ᐁ\",  1 \"ᐃ\",  2 \"ᐆ\",  1 \"ᐋ\",  1 \"ᐯ\",  1 \"ᐸ\",  1 \"ᑭ\",  2 \"ᑮ\",  5 \"ᑲ\",  1 \"ᑳ\",  1 \"ᒣ\",  1 \"ᒥ\",  3 \"ᒪ\",  2 \"ᒫ\",  2 \"ᓂ\",  2 \"ᓇ\",  1 \"ᓯ\", ᐁᑲᐧ 3 \"ᔭ\".\n"
     ]
    }
   ],
   "source": [
    "print(build_sentence())\n",
    "print(\"\\n\")\n",
    "print(build_sentence_num())"
   ]
  },
  {
   "cell_type": "markdown",
   "id": "26e25acd",
   "metadata": {},
   "source": [
    "## The loop\n",
    "\n",
    "Now we build a sentence, and update its letter count over and over. \n",
    "\n",
    "If we get stuck, randomize the count and begin again."
   ]
  },
  {
   "cell_type": "code",
   "execution_count": 152,
   "id": "5a3d1a40",
   "metadata": {},
   "outputs": [
    {
     "name": "stdout",
     "output_type": "stream",
     "text": [
      "No solution found.\n"
     ]
    }
   ],
   "source": [
    "from random import randrange\n",
    "\n",
    "def randomize(): ## randomly change the counts up or down, but always non-negative.\n",
    "    for letter in letters:\n",
    "        counts[letter] = max(1,counts[letter]+randrange(-5,5))\n",
    "\n",
    "def my_loop():\n",
    "    for i in range(500):\n",
    "        s = build_sentence()\n",
    "        for k in range(1000):\n",
    "            for letter in counts.keys():\n",
    "                counts[letter] = s.lower().count(letter) \n",
    "            new_s = build_sentence()\n",
    "            if new_s == s:\n",
    "                print(\"solution at i,k = \", i,k, \"\\n\",s)\n",
    "                return\n",
    "            s = new_s\n",
    "        randomize()\n",
    "        trim_counts_2(s)\n",
    "    print(\"No solution found.\")\n",
    "\n",
    "\n",
    "my_loop()"
   ]
  },
  {
   "cell_type": "code",
   "execution_count": 153,
   "id": "7e822fa6",
   "metadata": {},
   "outputs": [
    {
     "name": "stdout",
     "output_type": "stream",
     "text": [
      "{'ᐁ': 1, 'ᐃ': 1, 'ᐄ': 0, 'ᐅ': 4, 'ᐆ': 5, 'ᐊ': 6, 'ᐋ': 13, 'ᐯ': 6, 'ᐱ': 5, 'ᐲ': 0, 'ᐳ': 0, 'ᐴ': 0, 'ᐸ': 1, 'ᐹ': 1, 'ᑫ': 0, 'ᑭ': 6, 'ᑮ': 1, 'ᑯ': 1, 'ᑰ': 0, 'ᑲ': 1, 'ᑳ': 15, 'ᒉ': 0, 'ᒋ': 0, 'ᒌ': 0, 'ᒍ': 0, 'ᒎ': 0, 'ᒐ': 0, 'ᒑ': 0, 'ᒣ': 4, 'ᒥ': 8, 'ᒦ': 0, 'ᒧ': 0, 'ᒨ': 0, 'ᒪ': 1, 'ᒫ': 0, 'ᓀ': 1, 'ᓂ': 5, 'ᓃ': 9, 'ᓄ': 0, 'ᓅ': 0, 'ᓇ': 2, 'ᓈ': 7, 'ᓭ': 0, 'ᓯ': 5, 'ᓰ': 0, 'ᓱ': 0, 'ᓲ': 0, 'ᓴ': 0, 'ᓵ': 7, 'ᔦ': 0, 'ᔨ': 4, 'ᔩ': 0, 'ᔪ': 0, 'ᔫ': 0, 'ᔭ': 4, 'ᔮ': 5}\n"
     ]
    }
   ],
   "source": [
    "print(counts)"
   ]
  },
  {
   "cell_type": "markdown",
   "id": "e3bf7077",
   "metadata": {},
   "source": [
    "## An easier example\n",
    "\n",
    "The above example may not give a solution for you. We can do an easier problem, by using a short list of letters. Let's try the seven vowels and a few consonants. \n",
    "\n",
    "Let's try this combination: vowel_syll, p_syll, t_syll, k_syll, m_syll, s_syll, y_syll\n",
    "\n",
    "You might try other combinations, by remember to include the vowel_syll and y_syll as they are treated as special cases in our case. "
   ]
  },
  {
   "cell_type": "code",
   "execution_count": 165,
   "id": "4fd5a6c7",
   "metadata": {},
   "outputs": [
    {
     "name": "stdout",
     "output_type": "stream",
     "text": [
      "solution at i,k =  4 216 \n",
      " ᒣᑳᐧᐨ  ᐁ ᐊᔭᒥᐦᑖᔭᐣ  ᐆᒪ,  ᓀᐋᐧᐤ ᑭᑲ ᐋᐧᐸᐦᑌᐣ  ᐆᒪ  \"ᐊ\"  ᒪᓯᓂᐯᐦᐃᑲᓂᐢ, \n",
      " ᓂᐢᑖᐧᐤ \"ᐁ\",  ᓃᓵᐧᐤ \"ᐃ\",  ᐯᔭᑳᐧᐤ \"ᐅ\",  ᓂᐢᑖᐧᐤ \"ᐆ\",  ᐯᔭᑯᓵᐱᐋᐧᐤ \"ᐋ\",  ᑌᐸᑯᐦᐹᐧᐤ \"ᐯ\",  ᓃᓵᐧᐤ \"ᐱ\",  ᐯᔭᑳᐧᐤ \"ᐳ\",  ᓀᐋᐧᐤ \"ᐸ\",  ᓂᐢᑖᐧᐤ \"ᐹ\",  ᓀᐋᐧᐤ \"ᑌ\",  ᓂᐢᑖᐧᐤ \"ᑕ\",  ᑮᑳᒥᑕᑕᐦᑖᐧᐤ \"ᑖ\",  ᓃᓵᐧᐤ \"ᑭ\",  ᓃᓵᐧᐤ \"ᑮ\",  ᓀᐋᐧᐤ \"ᑯ\",  ᓀᐋᐧᐤ \"ᑲ\",  ᑌᐸᑯᐦᐹᐧᐤ \"ᑳ\",  ᓃᓵᐧᐤ \"ᒣ\",  ᓂᐢᑖᐧᐤ \"ᒥ\",  ᓀᐋᐧᐤ \"ᒪ\",  ᓃᓵᐧᐤ \"ᓯ\",  ᐯᔭᑳᐧᐤ \"ᓱ\",  ᐊᔨᓈᓀᐋᐧᐤ \"ᓵ\",  ᓂᐢᑖᐧᐤ \"ᔨ\",  ᐯᔭᑳᐧᐤ \"ᔮ\", ᐁᑲᐧ ᐊᔨᓈᓀᐋᐧᐤ \"ᔭ\".\n",
      "\n",
      " Counts are: \n",
      "\n",
      "{'ᐁ': 3, 'ᐃ': 2, 'ᐄ': 0, 'ᐅ': 1, 'ᐆ': 3, 'ᐊ': 4, 'ᐋ': 11, 'ᐯ': 7, 'ᐱ': 2, 'ᐲ': 0, 'ᐳ': 1, 'ᐴ': 0, 'ᐸ': 4, 'ᐹ': 3, 'ᑌ': 4, 'ᑎ': 0, 'ᑏ': 0, 'ᑑ': 0, 'ᑕ': 3, 'ᑖ': 9, 'ᑫ': 0, 'ᑭ': 2, 'ᑮ': 2, 'ᑯ': 4, 'ᑰ': 0, 'ᑲ': 4, 'ᑳ': 7, 'ᒣ': 2, 'ᒥ': 3, 'ᒦ': 0, 'ᒧ': 0, 'ᒨ': 0, 'ᒪ': 4, 'ᒫ': 0, 'ᓭ': 0, 'ᓯ': 2, 'ᓰ': 0, 'ᓱ': 1, 'ᓲ': 0, 'ᓴ': 0, 'ᓵ': 8, 'ᔦ': 0, 'ᔨ': 3, 'ᔩ': 0, 'ᔪ': 0, 'ᔫ': 0, 'ᔭ': 8, 'ᔮ': 1}\n"
     ]
    }
   ],
   "source": [
    "# A subset of the Cree syllabics\n",
    "letters = vowel_syll + p_syll + t_syll + k_syll + m_syll + s_syll + y_syll\n",
    "\n",
    "# Now we create the dictionary to count the symbols\n",
    "counts = dict()\n",
    "for letter in letters:\n",
    "    counts[letter] = 1\n",
    "    \n",
    "## Now run the code, and check the count.\n",
    "\n",
    "my_loop()\n",
    "print(\"\\n Counts are: \\n\")\n",
    "print(counts)"
   ]
  },
  {
   "cell_type": "markdown",
   "id": "69519786",
   "metadata": {},
   "source": [
    "### Did it work?\n",
    "\n",
    "If it did not give you a solution, try running the previous cell again. It is a random process, so sometimes it works and sometimes it doesn't. Try several times until you get an answer. A successful run is shown below.\n"
   ]
  },
  {
   "cell_type": "markdown",
   "id": "a0cde3b8",
   "metadata": {},
   "source": [
    "### Here is an example of a successful run.\n",
    "\n",
    "solution at i,k =  26 93 \n",
    "\n",
    " ᒣᑳᐧᐨ  ᐁ ᐊᔭᒥᐦᑖᔭᐣ  ᐆᒪ,  ᓀᐋᐧᐤ ᑭᑲ ᐋᐧᐸᐦᑌᐣ  ᐆᒪ  \"ᐊ\"  ᒪᓯᓂᐯᐦᐃᑲᓂᐢ, \n",
    " ᓂᐢᑖᐧᐤ \"ᐁ\",  ᓃᓵᐧᐤ \"ᐃ\",  ᐯᔭᑳᐧᐤ \"ᐅ\",  ᓂᐢᑖᐧᐤ \"ᐆ\",  ᐯᔭᑯᓵᐱᐋᐧᐤ \"ᐋ\",  ᑌᐸᑯᐦᐹᐧᐤ \"ᐯ\",  ᓃᓵᐧᐤ \"ᐱ\",  ᐯᔭᑳᐧᐤ \"ᐳ\",  ᓀᐋᐧᐤ \"ᐸ\",  ᓂᐢᑖᐧᐤ \"ᐹ\",  ᓀᐋᐧᐤ \"ᑌ\",  ᓂᐢᑖᐧᐤ \"ᑕ\",  ᑮᑳᒥᑕᑕᐦᑖᐧᐤ \"ᑖ\",  ᓃᓵᐧᐤ \"ᑭ\",  ᓃᓵᐧᐤ \"ᑮ\",  ᓀᐋᐧᐤ \"ᑯ\",  ᓀᐋᐧᐤ \"ᑲ\",  ᑌᐸᑯᐦᐹᐧᐤ \"ᑳ\",  ᓃᓵᐧᐤ \"ᒣ\",  ᓂᐢᑖᐧᐤ \"ᒥ\",  ᓀᐋᐧᐤ \"ᒪ\",  ᓃᓵᐧᐤ \"ᓯ\",  ᐯᔭᑳᐧᐤ \"ᓱ\",  ᐊᔨᓈᓀᐋᐧᐤ \"ᓵ\",  ᓂᐢᑖᐧᐤ \"ᔨ\",  ᐯᔭᑳᐧᐤ \"ᔮ\", ᐁᑲᐧ ᐊᔨᓈᓀᐋᐧᐤ \"ᔭ\".\n",
    "\n",
    "Counts are: \n",
    "\n",
    "{'ᐁ': 3, 'ᐃ': 2, 'ᐄ': 0, 'ᐅ': 1, 'ᐆ': 3, 'ᐊ': 4, 'ᐋ': 11, 'ᐯ': 7, 'ᐱ': 2, 'ᐲ': 0, 'ᐳ': 1, 'ᐴ': 0, 'ᐸ': 4, 'ᐹ': 3, 'ᑌ': 4, 'ᑎ': 0, 'ᑏ': 0, 'ᑑ': 0, 'ᑕ': 3, 'ᑖ': 9, 'ᑫ': 0, 'ᑭ': 2, 'ᑮ': 2, 'ᑯ': 4, 'ᑰ': 0, 'ᑲ': 4, 'ᑳ': 7, 'ᒣ': 2, 'ᒥ': 3, 'ᒦ': 0, 'ᒧ': 0, 'ᒨ': 0, 'ᒪ': 4, 'ᒫ': 0, 'ᓭ': 0, 'ᓯ': 2, 'ᓰ': 0, 'ᓱ': 1, 'ᓲ': 0, 'ᓴ': 0, 'ᓵ': 8, 'ᔦ': 0, 'ᔨ': 3, 'ᔩ': 0, 'ᔪ': 0, 'ᔫ': 0, 'ᔭ': 8, 'ᔮ': 1}"
   ]
  },
  {
   "cell_type": "markdown",
   "id": "d1e4058a",
   "metadata": {},
   "source": [
    "## Going further\n",
    "\n",
    "1. Try using a shorter or longer list of symbols. Can you successfully generate a solution?\n",
    "2. Could you modify this code for a different dialect of Cree?\n",
    "3. Can you modify this code for a different language? "
   ]
  },
  {
   "cell_type": "markdown",
   "id": "2e99f69f",
   "metadata": {},
   "source": [
    "## Summary\n",
    "\n",
    "We have learned a bit about the Cree language and its alphabet (syllabics) as well as its number system. \n",
    "\n",
    "We learned how to make a self-referencial sentence in Cree by using a loop that looks for a fixed-point in the set of sentences of a certain counting structure. \n",
    "\n",
    "This approach could work with other languages as well. "
   ]
  },
  {
   "cell_type": "markdown",
   "id": "6e00c864",
   "metadata": {},
   "source": [
    "[![Callysto.ca License](https://github.com/callysto/curriculum-notebooks/blob/master/callysto-notebook-banner-bottom.jpg?raw=true)](https://github.com/callysto/curriculum-notebooks/blob/master/LICENSE.md)"
   ]
  }
 ],
 "metadata": {
  "kernelspec": {
   "display_name": "Python 3 (ipykernel)",
   "language": "python",
   "name": "python3"
  },
  "language_info": {
   "codemirror_mode": {
    "name": "ipython",
    "version": 3
   },
   "file_extension": ".py",
   "mimetype": "text/x-python",
   "name": "python",
   "nbconvert_exporter": "python",
   "pygments_lexer": "ipython3",
   "version": "3.9.13"
  }
 },
 "nbformat": 4,
 "nbformat_minor": 5
}
