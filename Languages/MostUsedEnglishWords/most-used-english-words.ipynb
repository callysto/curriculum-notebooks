{
 "cells": [
  {
   "cell_type": "markdown",
   "metadata": {},
   "source": [
    "![Callysto.ca Banner](https://github.com/callysto/curriculum-notebooks/blob/master/callysto-notebook-banner-top.jpg?raw=true)\n",
    "\n",
    "<a href=\"https://hub.callysto.ca/jupyter/hub/user-redirect/git-pull?repo=https%3A%2F%2Fgithub.com%2Fcallysto%2Fcurriculum-notebooks&branch=master&subPath=Languages/MostUsedEnglishWords/most-used-english-words.ipynb&depth=1\" target=\"_parent\"><img src=\"https://raw.githubusercontent.com/callysto/curriculum-notebooks/master/open-in-callysto-button.svg?sanitize=true\" width=\"123\" height=\"24\" alt=\"Open in Callysto\"/></a>"
   ]
  },
  {
   "cell_type": "markdown",
   "metadata": {},
   "source": [
    "# Most Used English Words\n",
    "\n",
    "If you are learning to speak or read English, it is good to know which words are the most used.\n",
    "\n",
    "We will check where words on a word list made by a reading teacher named [Edward Fry](https://books.google.ca/books/about/The_Reading_Teacher_s_Book_Of_Lists.html?id=XYidAAAAMAAJ&redir_esc=y) are on a word list from all [Google Books between the years 1800 and 2019](https://books.google.com/ngrams) that [someone made for us](https://github.com/hackerb9/gwordlist).\n",
    "\n",
    "We will explain it using only the [1000 most common words in English](https://www.splasho.com/upgoer5) plus the word [list](https://www.thefreedictionary.com/list).\n",
    "\n",
    "## Starting\n",
    "\n",
    "Press the `▶▶` at the top to make this all work."
   ]
  },
  {
   "cell_type": "code",
   "execution_count": null,
   "metadata": {},
   "outputs": [],
   "source": [
    "import pandas as pd\n",
    "fry = pd.read_csv('https://raw.githubusercontent.com/callysto/data-files/main/Languages/MostUsedEnglishWords/fry-sight-words.csv')\n",
    "ngrams = pd.read_table('https://raw.githubusercontent.com/callysto/data-files/main/Languages/MostUsedEnglishWords/frequency-alpha-gcide.txt', delim_whitespace=True)\n",
    "words = pd.merge(fry, ngrams, on='WORD', how='left')\n",
    "words.drop(['COUNT','PERCENT','CUMULATIVE'], axis=1, inplace=True)\n",
    "words"
   ]
  },
  {
   "cell_type": "markdown",
   "metadata": {},
   "source": [
    "We see there are some words, like \"workers\" that show `NaN`. This means they are not in the Google list."
   ]
  },
  {
   "cell_type": "code",
   "execution_count": null,
   "metadata": {},
   "outputs": [],
   "source": [
    "words[words['#RANKING'].isnull()]"
   ]
  },
  {
   "cell_type": "markdown",
   "metadata": {},
   "source": [
    "## Important Parts of Words\n",
    "\n",
    "There are 101 words from the Fry list that are not in the Google list. But we can check if the important part of a word is in the Google list."
   ]
  },
  {
   "cell_type": "code",
   "execution_count": null,
   "metadata": {},
   "outputs": [],
   "source": [
    "important_part = 'worker'\n",
    "\n",
    "row = ngrams[ngrams['WORD']==important_part].index[0]\n",
    "print('The word \"'+important_part+'\" is number',int(ngrams.at[row, '#RANKING']),'in the Google list.')"
   ]
  },
  {
   "cell_type": "markdown",
   "metadata": {},
   "source": [
    "So we need to find the important parts of those words and see if they are in the Google list."
   ]
  },
  {
   "cell_type": "code",
   "execution_count": null,
   "metadata": {},
   "outputs": [],
   "source": [
    "import nltk\n",
    "from nltk.stem.porter import PorterStemmer\n",
    "important_part_finder = PorterStemmer()\n",
    "\n",
    "important_parts = []\n",
    "for row in words.fillna(value='fix').itertuples():\n",
    "    if row._3 == 'fix':\n",
    "        important_parts.append(important_part_finder.stem(row.WORD))\n",
    "    else:\n",
    "        important_parts.append(row.WORD)\n",
    "fry['ORIGINAL_WORD'] = fry['WORD']\n",
    "fry['WORD'] = important_parts\n",
    "words = pd.merge(fry, ngrams, on='WORD', how='left')\n",
    "words.drop(['COUNT','PERCENT','CUMULATIVE'], axis=1, inplace=True)\n",
    "print('Now there are',len(words[words['#RANKING'].isnull()]),'words not found.')"
   ]
  },
  {
   "cell_type": "markdown",
   "metadata": {},
   "source": [
    "We can look at the words that are not found."
   ]
  },
  {
   "cell_type": "code",
   "execution_count": null,
   "metadata": {},
   "outputs": [],
   "source": [
    "words[words['#RANKING'].isnull()]"
   ]
  },
  {
   "cell_type": "markdown",
   "metadata": {},
   "source": [
    "## Taking Out Words\n",
    "\n",
    "Of those 57 words, most are [contractions](https://www.thefreedictionary.com/contraction) (like `we'll`), [nationalities](https://www.thefreedictionary.com/nationality) (like `Greek`), or places (like `Washington`). We could go through and change them, but instead we will just take them out."
   ]
  },
  {
   "cell_type": "code",
   "execution_count": null,
   "metadata": {},
   "outputs": [],
   "source": [
    "words.dropna(inplace=True)\n",
    "words"
   ]
  },
  {
   "cell_type": "markdown",
   "metadata": {},
   "source": [
    "## Coloured Lines\n",
    "\n",
    "Now we can see how well the `#RANKING` order from Google matches up with the `LIST` order from Fry."
   ]
  },
  {
   "cell_type": "code",
   "execution_count": null,
   "metadata": {},
   "outputs": [],
   "source": [
    "from plotly.subplots import make_subplots\n",
    "import plotly.graph_objects as go\n",
    "fig = make_subplots(rows=10, cols=1)\n",
    "for fry_list in words['LIST'].unique():\n",
    "    df = words[words['LIST']==fry_list]\n",
    "    fig.append_trace(go.Scatter(x=df.index,y=df['#RANKING'],name=str(fry_list),hovertext=df['WORD']),row=int(fry_list/100),col=1)\n",
    "fig.update_layout(height=1200,legend_title_text='Fry List',title_text='Google List and Fry List Match (shorter is better match)')\n",
    "fig.update_yaxes(title='Google').update_xaxes(title='Fry', row=10)\n",
    "fig.show()"
   ]
  },
  {
   "cell_type": "markdown",
   "metadata": {},
   "source": [
    "We see that there are some words like `spell` and `numeral` that are used often in the Fry list but not so much in the Google list. This may be because the Fry list is from books for Grades 3 to 9, and the Google list is from as many books as they could scan.\n",
    "\n",
    "It is possible to see the words that are not a good match between lists because they are later in the Google list."
   ]
  },
  {
   "cell_type": "code",
   "execution_count": null,
   "metadata": {},
   "outputs": [],
   "source": [
    "google_max = 3000\n",
    "words[words['#RANKING']>google_max]"
   ]
  },
  {
   "cell_type": "markdown",
   "metadata": {},
   "source": [
    "We can make the coloured lines again without those words."
   ]
  },
  {
   "cell_type": "code",
   "execution_count": null,
   "metadata": {},
   "outputs": [],
   "source": [
    "google_max = 3000\n",
    "fig = make_subplots(rows=10, cols=1)\n",
    "for fry_list in words['LIST'].unique():\n",
    "    df = words[(words['LIST']==fry_list) & (words['#RANKING']<google_max)]\n",
    "    fig.append_trace(go.Scatter(x=df.index,y=df['#RANKING'],name=str(fry_list),hovertext=df['WORD']),row=int(fry_list/100),col=1)\n",
    "fig.update_layout(height=1200,legend_title_text='Fry List',title_text='Google List (under '+str(google_max)+') and Fry List Match')\n",
    "fig.update_yaxes(title='Google').update_xaxes(title='Fry', row=10)\n",
    "fig.show()"
   ]
  },
  {
   "cell_type": "markdown",
   "metadata": {},
   "source": [
    "## Ending\n",
    "\n",
    "We checked two \"most used\" word lists to see how they were the same. There were some words that were much higher on one list, but most were a pretty good match.\n",
    "\n",
    "You can also check out other word lists like the [Odgen's Basic English Vocabulary](http://ogden.basic-english.org/words.html), [Spell Checker Oriented Word Lists](http://wordlist.aspell.net), the [General Service List](http://jbauman.com/aboutgsl.html), or the [Wiktionary Frequency Lists](https://en.wiktionary.org/wiki/Wiktionary:Frequency_lists)."
   ]
  },
  {
   "cell_type": "markdown",
   "metadata": {},
   "source": [
    "[![Callysto.ca License](https://github.com/callysto/curriculum-notebooks/blob/master/callysto-notebook-banner-bottom.jpg?raw=true)](https://github.com/callysto/curriculum-notebooks/blob/master/LICENSE.md)"
   ]
  }
 ],
 "metadata": {
  "interpreter": {
   "hash": "d1ca6d17674200220921376aaeb3d36cffe15ecab2470a9a5e7a456cdbf61425"
  },
  "kernelspec": {
   "display_name": "Python 3.10.1 64-bit",
   "language": "python",
   "name": "python3"
  },
  "language_info": {
   "codemirror_mode": {
    "name": "ipython",
    "version": 3
   },
   "file_extension": ".py",
   "mimetype": "text/x-python",
   "name": "python",
   "nbconvert_exporter": "python",
   "pygments_lexer": "ipython3",
   "version": "3.10.1"
  }
 },
 "nbformat": 4,
 "nbformat_minor": 4
}
