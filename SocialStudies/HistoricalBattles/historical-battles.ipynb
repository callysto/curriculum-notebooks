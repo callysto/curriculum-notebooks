{
 "cells": [
  {
   "cell_type": "markdown",
   "id": "4727ca18-153d-4f5a-b578-3c7815446594",
   "metadata": {},
   "source": [
    "# Exploring World Historical Battle Database\n",
    "Access to this database was granted by its creator and curator, [Dr. Shuhei Kitamura of Osaka University](https://osf.io/j357k). It's important we acknowledge his generosity. \n",
    "\n",
    "In the interest of looking at applying data science to social studies topics, Canada's involvement in world conflict is an important part of Canadian history. This database allows us to explore battles from throughout human history, and across the world."
   ]
  },
  {
   "cell_type": "markdown",
   "id": "054f679d-dce9-4873-9825-1a69478ff370",
   "metadata": {},
   "source": [
    "![Callysto.ca Banner](https://github.com/callysto/curriculum-notebooks/blob/master/callysto-notebook-banner-top.jpg?raw=true)\n",
    "\n",
    "<a href=\"https://hub.callysto.ca/jupyter/hub/user-redirect/git-pull?repo=https%3A%2F%2Fgithub.com%2Fcallysto%2Fcurriculum-notebooks&branch=master&subPath=SocialStudies/HansardAnalysis/hansard-analysis.ipynb&depth=1\" target=\"_parent\"><img src=\"https://raw.githubusercontent.com/callysto/curriculum-notebooks/master/open-in-callysto-button.svg?sanitize=true\" width=\"123\" height=\"24\" alt=\"Open in Callysto\"/></a>"
   ]
  },
  {
   "cell_type": "code",
   "execution_count": null,
   "id": "cf0aab1f-f6ac-4ab3-8526-28bfdeb2b598",
   "metadata": {},
   "outputs": [],
   "source": [
    "import pandas as pd\n",
    "import numpy as np\n",
    "import plotly.express as px\n",
    "import warnings\n",
    "import pycountry_convert as pc\n",
    "import requests"
   ]
  },
  {
   "cell_type": "code",
   "execution_count": 3,
   "id": "27f4b2c9-d415-4eaf-9421-fb59ebf44efe",
   "metadata": {},
   "outputs": [
    {
     "name": "stdout",
     "output_type": "stream",
     "text": [
      "Collecting pycountry_convert\n",
      "  Downloading pycountry_convert-0.7.2-py3-none-any.whl (13 kB)\n",
      "Requirement already satisfied: wheel>=0.30.0 in /Users/marygrant/opt/anaconda3/lib/python3.9/site-packages (from pycountry_convert) (0.37.1)\n",
      "Collecting pycountry>=16.11.27.1\n",
      "  Downloading pycountry-22.3.5.tar.gz (10.1 MB)\n",
      "\u001b[2K     \u001b[90m━━━━━━━━━━━━━━━━━━━━━━━━━━━━━━━━━━━━━━━━\u001b[0m \u001b[32m10.1/10.1 MB\u001b[0m \u001b[31m2.0 MB/s\u001b[0m eta \u001b[36m0:00:00\u001b[0m00:01\u001b[0m0:01\u001b[0m\n",
      "\u001b[?25h  Installing build dependencies ... \u001b[?25ldone\n",
      "\u001b[?25h  Getting requirements to build wheel ... \u001b[?25ldone\n",
      "\u001b[?25h  Preparing metadata (pyproject.toml) ... \u001b[?25ldone\n",
      "\u001b[?25hCollecting pytest-mock>=1.6.3\n",
      "  Downloading pytest_mock-3.11.1-py3-none-any.whl (9.6 kB)\n",
      "Collecting repoze.lru>=0.7\n",
      "  Downloading repoze.lru-0.7-py3-none-any.whl (10 kB)\n",
      "Collecting pytest-cov>=2.5.1\n",
      "  Downloading pytest_cov-4.1.0-py3-none-any.whl (21 kB)\n",
      "Requirement already satisfied: pytest>=3.4.0 in /Users/marygrant/opt/anaconda3/lib/python3.9/site-packages (from pycountry_convert) (7.1.1)\n",
      "Collecting pprintpp>=0.3.0\n",
      "  Downloading pprintpp-0.4.0-py2.py3-none-any.whl (16 kB)\n",
      "Requirement already satisfied: setuptools in /Users/marygrant/opt/anaconda3/lib/python3.9/site-packages (from pycountry>=16.11.27.1->pycountry_convert) (65.4.1)\n",
      "Requirement already satisfied: attrs>=19.2.0 in /Users/marygrant/opt/anaconda3/lib/python3.9/site-packages (from pytest>=3.4.0->pycountry_convert) (21.4.0)\n",
      "Requirement already satisfied: iniconfig in /Users/marygrant/opt/anaconda3/lib/python3.9/site-packages (from pytest>=3.4.0->pycountry_convert) (1.1.1)\n",
      "Requirement already satisfied: packaging in /Users/marygrant/opt/anaconda3/lib/python3.9/site-packages (from pytest>=3.4.0->pycountry_convert) (21.3)\n",
      "Requirement already satisfied: pluggy<2.0,>=0.12 in /Users/marygrant/opt/anaconda3/lib/python3.9/site-packages (from pytest>=3.4.0->pycountry_convert) (1.0.0)\n",
      "Requirement already satisfied: py>=1.8.2 in /Users/marygrant/opt/anaconda3/lib/python3.9/site-packages (from pytest>=3.4.0->pycountry_convert) (1.11.0)\n",
      "Requirement already satisfied: tomli>=1.0.0 in /Users/marygrant/opt/anaconda3/lib/python3.9/site-packages (from pytest>=3.4.0->pycountry_convert) (1.2.2)\n",
      "Collecting coverage[toml]>=5.2.1\n",
      "  Downloading coverage-7.2.7-cp39-cp39-macosx_10_9_x86_64.whl (200 kB)\n",
      "\u001b[2K     \u001b[90m━━━━━━━━━━━━━━━━━━━━━━━━━━━━━━━━━━━━━━━\u001b[0m \u001b[32m200.7/200.7 kB\u001b[0m \u001b[31m2.8 MB/s\u001b[0m eta \u001b[36m0:00:00\u001b[0ma \u001b[36m0:00:01\u001b[0m\n",
      "\u001b[?25hRequirement already satisfied: pyparsing!=3.0.5,>=2.0.2 in /Users/marygrant/opt/anaconda3/lib/python3.9/site-packages (from packaging->pytest>=3.4.0->pycountry_convert) (3.0.4)\n",
      "Building wheels for collected packages: pycountry\n",
      "  Building wheel for pycountry (pyproject.toml) ... \u001b[?25ldone\n",
      "\u001b[?25h  Created wheel for pycountry: filename=pycountry-22.3.5-py2.py3-none-any.whl size=10681832 sha256=84364a7d1a1e1f38f88aee1efe2a1e10ea97d201455d0585e502a6229d0a4c2c\n",
      "  Stored in directory: /Users/marygrant/Library/Caches/pip/wheels/47/15/92/e6dc85fcb0686c82e1edbcfdf80cfe4808c058813fed0baa8f\n",
      "Successfully built pycountry\n",
      "Installing collected packages: repoze.lru, pprintpp, pycountry, coverage, pytest-mock, pytest-cov, pycountry_convert\n",
      "Successfully installed coverage-7.2.7 pprintpp-0.4.0 pycountry-22.3.5 pycountry_convert-0.7.2 pytest-cov-4.1.0 pytest-mock-3.11.1 repoze.lru-0.7\n",
      "\n",
      "\u001b[1m[\u001b[0m\u001b[34;49mnotice\u001b[0m\u001b[1;39;49m]\u001b[0m\u001b[39;49m A new release of pip available: \u001b[0m\u001b[31;49m22.2.2\u001b[0m\u001b[39;49m -> \u001b[0m\u001b[32;49m23.1.2\u001b[0m\n",
      "\u001b[1m[\u001b[0m\u001b[34;49mnotice\u001b[0m\u001b[1;39;49m]\u001b[0m\u001b[39;49m To update, run: \u001b[0m\u001b[32;49mpip install --upgrade pip\u001b[0m\n"
     ]
    }
   ],
   "source": [
    "!pip install pycountry_convert"
   ]
  },
  {
   "cell_type": "code",
   "execution_count": null,
   "id": "51c7f397-3cfc-4190-9cbb-a35ece8acdb2",
   "metadata": {},
   "outputs": [],
   "source": [
    "# Read in the data\n",
    "data = pd.read_excel('https://raw.githubusercontent.com/callysto/data-files/main/SocialStudies/HistoricalBattles/whbd_v11.xlsx')\n",
    "data2 = pd.read_csv('https://raw.githubusercontent.com/callysto/data-files/main/SocialStudies/HistoricalBattles/historical_battles.csv')\n",
    "data = data.merge(data2,how='left')\n",
    "data = data[data['year'].notna()]\n",
    "data['year'] = data['year'].map(lambda x: int(x))\n",
    "data.sort_values('year',inplace=True)\n",
    "data"
   ]
  },
  {
   "cell_type": "code",
   "execution_count": null,
   "id": "d5196387-3e2a-4b56-8cb1-578ba668b01e",
   "metadata": {},
   "outputs": [],
   "source": [
    "# See what the columns contain\n",
    "data.columns"
   ]
  },
  {
   "cell_type": "markdown",
   "id": "35924f16",
   "metadata": {},
   "source": [
    "### CANADA"
   ]
  },
  {
   "cell_type": "code",
   "execution_count": null,
   "id": "2284928b",
   "metadata": {},
   "outputs": [],
   "source": [
    "# Filter to only look at the battles that specify Canada as a combatant. Drop unused columns\n",
    "country_data = data[data['bell']=='Canada'].drop(['uk', 'fr', 'de', 'sp', 'sw', 'tr', 'at', \n",
    "                                             'ru', 'nl', 'it', 'pt', 'dk', 'habsburg', 'hre',\n",
    "                                             'naval', 'river', 'lake', 'air', 'multiple', 'entire',\n",
    "                                             'ongoing', 'plan', 'nopage', 'unknown'], axis=1)"
   ]
  },
  {
   "cell_type": "code",
   "execution_count": null,
   "id": "9f9dcde8",
   "metadata": {},
   "outputs": [],
   "source": [
    "fig = px.scatter_geo(country_data, lat='lat', lon='lng', \n",
    "               hover_name='bname', \n",
    "               hover_data=['year'],\n",
    "               color= 'war',\n",
    "               title='Battles participated in by post-Confederation Canada')\n",
    "\n",
    "fig.update_layout(showlegend=False)\n",
    "fig.show()"
   ]
  },
  {
   "cell_type": "code",
   "execution_count": null,
   "id": "39ee4e52",
   "metadata": {},
   "outputs": [],
   "source": [
    "casualties_con = country_data[country_data['casualties'].notna()]\n",
    "\n",
    "px.scatter_geo(casualties_con, lat='lat', lon='lng', \n",
    "               height=800, hover_name='bname', \n",
    "               hover_data=['war', 'year'],\n",
    "               size = 'casualties',\n",
    "               color='casualties',\n",
    "               title='Casualties of battles participated in by Canada')"
   ]
  },
  {
   "cell_type": "code",
   "execution_count": null,
   "id": "a1ed3b7f",
   "metadata": {},
   "outputs": [],
   "source": [
    "con_bloodiest_war = country_data.groupby('war',as_index=False)['casualties'].sum()\n",
    "con_bloodiest_war = con_bloodiest_war[con_bloodiest_war['casualties'] > 0]\n",
    "con_bloodiest_war.sort_values('casualties',inplace=True)"
   ]
  },
  {
   "cell_type": "code",
   "execution_count": null,
   "id": "d46d39d0",
   "metadata": {},
   "outputs": [],
   "source": [
    "top_10_bloddiest_con_wars = con_bloodiest_war[:10:-1]\n",
    "\n",
    "fig = px.bar(top_10_bloddiest_con_wars,x='war',y='casualties',title= \"Canada's Bloodiest Wars\")\n",
    "\n",
    "fig.show()"
   ]
  },
  {
   "cell_type": "code",
   "execution_count": null,
   "id": "2bc7348a",
   "metadata": {},
   "outputs": [],
   "source": [
    "# Southernmost point of Canada is Lake Erie, ON, at 41°40' N; easternmost is Cape Spear, NL, at 52°37' W\n",
    "# We also need to exclude a single WWII Pacific battle that happened off the coast of Alaska that didn't involve Canada\n",
    "NA_data = data[(data['lat']>41.6) & \n",
    "               (data['lng']<-52.6) & \n",
    "               (data['lng']>-160)]\n",
    "\n",
    "# There's also many wars in this subset that don't feature Canada, so we can list them here to remove:\n",
    "remove = ['American Revolutionary War',\n",
    "          'Sioux Wars',\n",
    "          \"Red Cloud's War\",\n",
    "          'Dakota War of 1862',\n",
    "          'Russo-Tlingit War',\n",
    "          'Great Sioux War of 1876',\n",
    "          'Powder River Expedition',\n",
    "          'American Civil War',\n",
    "          'Yellowstone Expedition of 1873',\n",
    "          'Nez Perce War',\n",
    "          'Comanche Campaign',\n",
    "          'Boston campaign',\n",
    "          'Modoc War',\n",
    "          'American Revolution',\n",
    "          \"King Philip's War\",\n",
    "          'Black Hawk War',\n",
    "          'Colorado War',\n",
    "          'American Indian Wars',\n",
    "          'Forage War',\n",
    "          \"Coeur d'Alene War\",\n",
    "          'Yakima War',\n",
    "          'Philadelphia campaign',\n",
    "          'Ghost Dance War']\n",
    "\n",
    "# Remove wars listed above, as well as battles without a specific war (that all happened in the USA)\n",
    "NA_data = NA_data[(~NA_data['war'].isin(remove)) & (~NA_data['war'].isnull())]\n",
    "          \n",
    "          \n",
    "          \n",
    "fig = px.scatter_geo(NA_data, lat='lat', lon='lng', \n",
    "               hover_name='bname', \n",
    "               color='war',\n",
    "               hover_data=['year'], \n",
    "               fitbounds='locations',\n",
    "               title='Historical battles fought in present-day Canada')\n",
    "\n",
    "fig.update_layout(showlegend=False)\n",
    "fig.show()"
   ]
  },
  {
   "cell_type": "code",
   "execution_count": null,
   "id": "5e16f073",
   "metadata": {},
   "outputs": [],
   "source": [
    "NA_casualties = NA_data[NA_data['casualties'].notna()]\n",
    "\n",
    "px.scatter_geo(NA_casualties, lat='lat', lon='lng', \n",
    "               height=800, hover_name='bname', \n",
    "               size = 'casualties',\n",
    "               size_max = 30,\n",
    "               color = 'casualties',\n",
    "               hover_data=['war','year'], \n",
    "               fitbounds='locations',\n",
    "               title='Historical battles fought in present-day Canada')"
   ]
  },
  {
   "cell_type": "code",
   "execution_count": null,
   "id": "2dd9754b",
   "metadata": {},
   "outputs": [],
   "source": [
    "fig = px.scatter_mapbox(NA_data, lat=\"lat\", lon=\"lng\", hover_name=\"bname\", hover_data=['year'],\n",
    "                        color_discrete_sequence=[\"fuchsia\"],zoom=2.5)\n",
    "fig.update_layout(\n",
    "    mapbox_style=\"white-bg\",\n",
    "    mapbox_layers=[\n",
    "        {\n",
    "            \"below\": 'traces',\n",
    "            \"sourcetype\": \"raster\",\n",
    "            \"sourceattribution\": \"United States Geological Survey\",\n",
    "            \"source\": [\n",
    "                \"https://basemap.nationalmap.gov/arcgis/rest/services/USGSImageryOnly/MapServer/tile/{z}/{y}/{x}\"\n",
    "            ]\n",
    "        }\n",
    "      ])\n",
    "fig.update_layout(margin={\"r\":0,\"t\":0,\"l\":0,\"b\":0})\n",
    "fig.show()"
   ]
  },
  {
   "cell_type": "markdown",
   "id": "c70d8061",
   "metadata": {},
   "source": [
    "### WORLD"
   ]
  },
  {
   "cell_type": "code",
   "execution_count": null,
   "id": "7daa5f3e-5eda-4854-abd0-c26f7f7cbd4c",
   "metadata": {},
   "outputs": [],
   "source": [
    "country_of_interest = 'Russia' #you can change this to a country you are interested in\n",
    "\n",
    "# Filter to only look at the battles that specify Canada as a combatant. Drop unused columns\n",
    "country_of_interest_data = data[data['bell']==country_of_interest].drop(['uk', 'fr', 'de', 'sp', 'sw', 'tr', 'at', \n",
    "                                             'ru', 'nl', 'it', 'pt', 'dk', 'habsburg', 'hre',\n",
    "                                             'naval', 'river', 'lake', 'air', 'multiple', 'entire',\n",
    "                                             'ongoing', 'plan', 'nopage', 'unknown'], axis=1)\n",
    "display(country_of_interest_data)"
   ]
  },
  {
   "cell_type": "markdown",
   "id": "dece9169",
   "metadata": {},
   "source": [
    "We can plot the battles on a map with their lattitude and longitude coordinates.\n",
    "\n",
    "You can drag to move around the map, zoom in and out to get more clarity. Hovering over each data point lists the name of the battle, as well as the war in which the battle was fought."
   ]
  },
  {
   "cell_type": "code",
   "execution_count": null,
   "id": "0e037b4c",
   "metadata": {},
   "outputs": [],
   "source": [
    "country_of_interest_data = country_of_interest_data[country_of_interest_data['bname'].notna()]\n",
    "\n",
    "fig = px.scatter_geo(country_of_interest_data, lat='lat', lon='lng', \n",
    "               hover_name='bname', \n",
    "               hover_data=['year'],\n",
    "               color= 'war',\n",
    "               title='Battles participated in by ' + country_of_interest)\n",
    "\n",
    "fig.update_layout(showlegend=False)\n",
    "fig.show()"
   ]
  },
  {
   "cell_type": "markdown",
   "id": "2bd559ca",
   "metadata": {},
   "source": [
    "Let's animate through the years so see the wars that Canada has participated in"
   ]
  },
  {
   "cell_type": "code",
   "execution_count": null,
   "id": "63f481d9",
   "metadata": {},
   "outputs": [],
   "source": [
    "warnings.filterwarnings(\"ignore\")\n",
    "years = list(country_of_interest_data['year'].unique())\n",
    "\n",
    "animate_country_data = pd.DataFrame(country_of_interest_data)\n",
    "\n",
    "def animation_years(row):\n",
    "    global animate_country_data\n",
    "   \n",
    "    df = pd.DataFrame(columns=animate_country_data.columns)\n",
    "    index = years.index(row['year'])\n",
    "    for i in years[index+1:]:\n",
    "        row[4] = i\n",
    "        df.loc[len(df.index)] = row\n",
    "    \n",
    "    animate_country_data = pd.concat([animate_country_data,df],ignore_index=True)\n",
    "\n",
    "for i in range(len(country_of_interest_data.index)):\n",
    "    animation_years(country_of_interest_data.iloc[i])\n",
    "\n",
    "animate_country_data"
   ]
  },
  {
   "cell_type": "code",
   "execution_count": null,
   "id": "8e4b7813",
   "metadata": {},
   "outputs": [],
   "source": [
    "def rank_rows(df):\n",
    "    \n",
    "    df['sort_rank'] = 0\n",
    "    curr_rank = 1\n",
    "    for b in battles:\n",
    "        temp = df.loc[df['bname'] == b]\n",
    "        for i,rows in temp.iterrows():  \n",
    "            if df['sort_rank'][i] == 0:\n",
    "                df['sort_rank'][i] = curr_rank\n",
    "                curr_rank += 1\n",
    "    return df        \n",
    "            \n",
    "\n",
    "    \n",
    "animate_country_data.sort_values(['year'],inplace=True)            \n",
    "battles = list(animate_country_data.sort_values('year')['bname'].unique())\n",
    "animate_country_data = rank_rows(animate_country_data)\n",
    "\n",
    "animate_country_data.sort_values('sort_rank',inplace=True)\n",
    "animate_country_data"
   ]
  },
  {
   "cell_type": "markdown",
   "id": "5320a661",
   "metadata": {},
   "source": [
    "By clicking on the \"play\" button on the bottom we'll be able to look at the wars that Canada has found throughout the years"
   ]
  },
  {
   "cell_type": "code",
   "execution_count": null,
   "id": "afe0ae53",
   "metadata": {},
   "outputs": [],
   "source": [
    "px.scatter_geo(animate_country_data, lat='lat', lon='lng', \n",
    "               height=800, hover_name='bname', \n",
    "               animation_frame= 'year',\n",
    "               animation_group='war',\n",
    "               title='Battles participated in by ' + country_of_interest)"
   ]
  },
  {
   "cell_type": "markdown",
   "id": "aa040ab2",
   "metadata": {},
   "source": [
    "We can also look at which continents Canada has fought the most in."
   ]
  },
  {
   "cell_type": "code",
   "execution_count": null,
   "id": "6dcb20b4",
   "metadata": {},
   "outputs": [],
   "source": [
    "countries = ['Canada','Japan','India','Spain'] #you can change and add/remove countries in this list\n",
    "\n",
    "battles_continent = data\n",
    "battles_continent = battles_continent[battles_continent['continent'].notna()]\n",
    "battles_continent['interest'] = data['bell'].map(lambda x: True if x in countries else False)\n",
    "battles_continent = battles_continent[battles_continent['interest'] == True]\n",
    "battles_continent.rename(columns={'bell':'Country'},inplace=True)\n",
    "battles_continent"
   ]
  },
  {
   "cell_type": "code",
   "execution_count": null,
   "id": "f51cc262",
   "metadata": {},
   "outputs": [],
   "source": [
    "continent_grouped = battles_continent.groupby(['continent','Country'])['locn'].count().reset_index(name='Number of Battles Fought')\n",
    "continent_grouped.sort_values('Number of Battles Fought',ascending=False,inplace=True)\n",
    "fig = px.bar(continent_grouped,x='Country',y='Number of Battles Fought',color='continent',title='Number of Battles fought by each country in different Continents')\n",
    "fig.show()"
   ]
  }
 ],
 "metadata": {
  "kernelspec": {
   "display_name": "Python 3 (ipykernel)",
   "language": "python",
   "name": "python3"
  },
  "language_info": {
   "codemirror_mode": {
    "name": "ipython",
    "version": 3
   },
   "file_extension": ".py",
   "mimetype": "text/x-python",
   "name": "python",
   "nbconvert_exporter": "python",
   "pygments_lexer": "ipython3",
   "version": "3.9.12"
  }
 },
 "nbformat": 4,
 "nbformat_minor": 5
}
