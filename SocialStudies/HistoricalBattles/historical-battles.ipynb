{
 "cells": [
  {
   "cell_type": "markdown",
   "id": "054f679d-dce9-4873-9825-1a69478ff370",
   "metadata": {},
   "source": [
    "![Callysto.ca Banner](https://github.com/callysto/curriculum-notebooks/blob/master/callysto-notebook-banner-top.jpg?raw=true)\n",
    "\n",
    "<a href=\"https://hub.callysto.ca/jupyter/hub/user-redirect/git-pull?repo=https%3A%2F%2Fgithub.com%2Fcallysto%2Fcurriculum-notebooks&branch=master&subPath=SocialStudies/HistoricalBattles/historical-battles.ipynb&depth=1\" target=\"_parent\"><img src=\"https://raw.githubusercontent.com/callysto/curriculum-notebooks/master/open-in-callysto-button.svg?sanitize=true\" width=\"123\" height=\"24\" alt=\"Open in Callysto\"/></a>"
   ]
  },
  {
   "cell_type": "markdown",
   "id": "b6344828-495c-46a8-9632-2ee848875714",
   "metadata": {},
   "source": [
    "# Exploring World Historical Battle Database"
   ]
  },
  {
   "cell_type": "markdown",
   "id": "e4616786-66bf-4fb7-a812-9eb13782d301",
   "metadata": {},
   "source": [
    "<img src=\"images/battle1.png\" width=\"250\"/>"
   ]
  },
  {
   "cell_type": "markdown",
   "id": "4727ca18-153d-4f5a-b578-3c7815446594",
   "metadata": {
    "tags": []
   },
   "source": [
    "Access to this database was granted by its creator and curator, [Dr. Shuhei Kitamura of Osaka University](https://osf.io/j357k). It's important we acknowledge his generosity. \n",
    "\n",
    "In the interest of looking at applying data science to social studies topics, Canada's involvement in world conflict is an important part of Canadian history. This database allows us to explore battles from throughout human history, and across the world.\n",
    "\n",
    "*Curriculum Connections*\n",
    "\n",
    "- [Historical Battles outside and within Canada](https://education.alberta.ca/media/160209/program-of-study-grade-10.pdf)- Alberta Curriculum\n",
    "\n",
    "    - Grade 7: Canada: Origins, Histories and Movementof People\n",
    "    - Grade 8: Canada: Worldviews in Conflict\n",
    "    - High School Social Studies: Living in a Globalizing World \n",
    "    - High School Social Studies: Canada: Worldviews in Conflict\n",
    "    - Military Studies & Canada and War - World History Course\n",
    "\n",
    "\n",
    "\n",
    "*Investigating Questions*\n",
    "\n",
    "- How can data science techniques be applied to analyze Canada's involvement in world conflicts throughout history?\n",
    "- How does studying battles and conflicts from different time periods and regions contribute to our understanding of human history as a whole?\n",
    "- How does studying conflicts from around the world promote cross-cultural understanding and contribute to a global perspective on historical events?\n",
    "- What are the potential limitations and challenges in applying data science to analyze and interpret historical data, particularly in the context of Canada's involvement in world conflicts?\n",
    "\n"
   ]
  },
  {
   "cell_type": "markdown",
   "id": "d97dd9e7-eaf2-41c7-9da4-1c71e44def8c",
   "metadata": {},
   "source": [
    "### Import the Data\n",
    "The code below will import the Python programming libraries we need to gather and organize the data to answer our question. `▶Run` the code cell below "
   ]
  },
  {
   "cell_type": "code",
   "execution_count": null,
   "id": "cf0aab1f-f6ac-4ab3-8526-28bfdeb2b598",
   "metadata": {},
   "outputs": [],
   "source": [
    "import pandas as pd\n",
    "import numpy as np\n",
    "import plotly.express as px\n",
    "import warnings\n",
    "import pycountry_convert as pc\n",
    "import requests"
   ]
  },
  {
   "cell_type": "markdown",
   "id": "f8a81174-cbf7-48de-8a5d-72d736f2defb",
   "metadata": {},
   "source": [
    "`▶Run` the code cell below to load the historical battle data into a dataframe\n",
    "\n",
    "Note: This data takes some time to load "
   ]
  },
  {
   "cell_type": "code",
   "execution_count": null,
   "id": "51c7f397-3cfc-4190-9cbb-a35ece8acdb2",
   "metadata": {},
   "outputs": [],
   "source": [
    "# Read in the data\n",
    "data = pd.read_excel('https://raw.githubusercontent.com/callysto/data-files/main/SocialStudies/HistoricalBattles/whbd_v11.xlsx')\n",
    "data2 = pd.read_csv('https://raw.githubusercontent.com/callysto/data-files/main/SocialStudies/HistoricalBattles/historical_battles.csv')\n",
    "data = data.merge(data2,how='left')\n",
    "data = data[data['year'].notna()]\n",
    "data['year'] = data['year'].map(lambda x: int(x))\n",
    "data.sort_values('year',inplace=True)\n",
    "data"
   ]
  },
  {
   "cell_type": "code",
   "execution_count": null,
   "id": "d5196387-3e2a-4b56-8cb1-578ba668b01e",
   "metadata": {},
   "outputs": [],
   "source": [
    "# Listing all 42 columns in the data\n",
    "data.columns\n",
    "for col in data.columns:\n",
    "    print(col)"
   ]
  },
  {
   "cell_type": "markdown",
   "id": "46655018",
   "metadata": {},
   "source": [
    "There seems to be a lot of columns in this dataframe. Let's drop some columns that we won't be using so the dataframe will be easier to read and understand"
   ]
  },
  {
   "cell_type": "code",
   "execution_count": null,
   "id": "2a5facf2",
   "metadata": {},
   "outputs": [],
   "source": [
    "#Drop unused columns\n",
    "data.drop(['uk', 'fr', 'de', 'sp', 'sw', 'tr', 'at', \n",
    "            'ru', 'nl', 'it', 'pt', 'dk', 'habsburg', 'hre',\n",
    "            'naval', 'river', 'lake', 'air', 'multiple', 'entire',\n",
    "            'ongoing', 'plan', 'nopage', 'unknown'], axis=1,inplace=True)\n",
    "\n",
    "for col in data.columns:\n",
    "    print(col)"
   ]
  },
  {
   "cell_type": "markdown",
   "id": "c11d6ea8-4b39-4370-95d9-f8fbff0bc055",
   "metadata": {},
   "source": [
    "_Column Description_\n",
    "- **bname:**  Name of a battle\n",
    "- **lr:** Which side a belligerent belongs to.  For example, if more than one belligerent is markedwith  an  \\l\"  (which  means  that  it  appears  on  the  \\left\"  side  in  the  summary  box  in  theWikipedia page) in a battle, it means that these belligerents fought on the same side in thatbattle.  For battles with more than two sides, seemultsidesbelow.\n",
    "- **year, year_end:** Start and end years of the battle, according to the Gregorian calendar.  If thebattle did not end in the same year,yearendreports the end year of the battle.  Otherwise,6\n",
    "yearendgives a missing value.\n",
    "- **war:**  Name of a war that a battle belongs to (if any).  This variable is incomplete and someinformation is missing.  However, it is left in the dataset for reference.\n",
    "- **bell:**  Name of a belligerent.  In some cases, the belligerent name can be a name of a coali-tion or group of (city-)states (e.g., United Nations, CJTF{OIR, Arcadian League in ancientGreece) without indicating any particular (city-)states involved in the battle.  The belliger-ent name ending in \"(?)\" means that a summary box in the English Wikipedia page is notavailable.  Wikipedia pages in other languages are used as alternative sources of information.\n",
    "- **multsides:**  Indicator of a battle in which belligerents are divided into more than two sides.For such battles,  because of the data structure of the WHBD,bellgives a missing value.This  means  that  all  the  GP  variables  for  such  battles  also  take  the  value  of  zero.   If  youwant to use such battles in your analysis, you need to modify the GP variables accordingly.Fortunately, such battles are not very common.\n",
    "- **win:**  Result of a battle.  This takes the same value for all belligerents who fought on the sameside (see lr above).\n",
    "- **lat:** lng:  Geo-coordinates of a battle\n",
    "- **locn:** Name of a place where a battle took place\n",
    "- **wd_url** WikiData link for the battle\n",
    "- **wp_url** Wikipedia link for the battle\n",
    "- **casualties** Number of deaths in the battle\n",
    "- **True Location** The geographical location of the battle\n",
    "- **continent** The continent the battle was fought on"
   ]
  },
  {
   "cell_type": "markdown",
   "id": "35924f16",
   "metadata": {},
   "source": [
    "## CANADA 🇨🇦"
   ]
  },
  {
   "cell_type": "markdown",
   "id": "fb4155b7-c204-47ee-b685-5d03548faf28",
   "metadata": {},
   "source": [
    "The code below will arrange the data cleanly so that we can analyze it. This is a quality control step for our data and involves examining the data to detect anything odd with the data (e.g. structure, missing values), fixing the oddities, and checking if the fixes worked.\n",
    "\n",
    "The first we will look at the battle that specify Canada as a combatant"
   ]
  },
  {
   "cell_type": "code",
   "execution_count": null,
   "id": "2284928b",
   "metadata": {},
   "outputs": [],
   "source": [
    "# Filter to only look at the battles that specify Canada as a combatant.\n",
    "country_data = data[data['bell']=='Canada']\n",
    "country_data"
   ]
  },
  {
   "cell_type": "markdown",
   "id": "5ecfcecf-7e7e-45ec-8970-bc06b9681623",
   "metadata": {},
   "source": [
    "### Visualizations of battles where Canada is listed as a combatant and casualties\n",
    "\n",
    "Scroll in and you can hover of the name of the battle to see more information. Bigger the \"bubble\" the more casualties."
   ]
  },
  {
   "cell_type": "code",
   "execution_count": null,
   "id": "9f9dcde8",
   "metadata": {},
   "outputs": [],
   "source": [
    "fig = px.scatter_geo(country_data, lat='lat', lon='lng', \n",
    "               height=500,\n",
    "               hover_name='bname', \n",
    "               hover_data=['year'],\n",
    "               color= 'war',\n",
    "               title='Battles participated in by post-Confederation Canada')\n",
    "\n",
    "fig.update_layout(showlegend=False)\n",
    "fig.show()"
   ]
  },
  {
   "cell_type": "code",
   "execution_count": null,
   "id": "39ee4e52",
   "metadata": {},
   "outputs": [],
   "source": [
    "casualties_con = country_data[country_data['casualties'].notna()]\n",
    "\n",
    "px.scatter_geo(casualties_con, lat='lat', lon='lng', \n",
    "               height=500, hover_name='bname', \n",
    "               hover_data=['war', 'year'],\n",
    "               size = 'casualties',\n",
    "               color='casualties',\n",
    "               title='Casualties of battles participated in by Canada')"
   ]
  },
  {
   "cell_type": "markdown",
   "id": "336baf52-8d83-40b2-9f6e-fd8c23f513a3",
   "metadata": {},
   "source": [
    "`▶Run` the code cell below to load values for Canada Bloodiest wars "
   ]
  },
  {
   "cell_type": "code",
   "execution_count": null,
   "id": "a1ed3b7f",
   "metadata": {},
   "outputs": [],
   "source": [
    "con_bloodiest_war = country_data.groupby('war',as_index=False)['casualties'].sum()\n",
    "con_bloodiest_war = con_bloodiest_war[con_bloodiest_war['casualties'] > 0]\n",
    "con_bloodiest_war.sort_values('casualties',inplace=True)\n",
    "con_bloodiest_war"
   ]
  },
  {
   "cell_type": "markdown",
   "id": "51772959-1b09-4367-a521-d31689051ca9",
   "metadata": {},
   "source": [
    "Visualizization of the top 10 bloodiest wars for Canada"
   ]
  },
  {
   "cell_type": "code",
   "execution_count": null,
   "id": "d46d39d0",
   "metadata": {},
   "outputs": [],
   "source": [
    "top_10_bloddiest_con_wars = con_bloodiest_war[:10:-1]\n",
    "\n",
    "fig = px.bar(top_10_bloddiest_con_wars,x='war',y='casualties',height=500,title= \"Canada's Bloodiest Wars\")\n",
    "\n",
    "fig.show()"
   ]
  },
  {
   "cell_type": "markdown",
   "id": "bdfc57e7-03de-423d-92cc-0dd713d16bf9",
   "metadata": {},
   "source": [
    "### Visualizations showcase historical battles fought in present-day Canada and casualties\n",
    "\n",
    "The scatter plot on a geographic map displays the battles, where each battle is represented by a marker at its corresponding latitude and longitude coordinates. The markers are color-coded based on the war in which the battle took place. Hovering over a marker reveals additional information such as the battle's name and the corresponding year."
   ]
  },
  {
   "cell_type": "code",
   "execution_count": null,
   "id": "2bc7348a",
   "metadata": {},
   "outputs": [],
   "source": [
    "# Southernmost point of Canada is Lake Erie, ON, at 41°40' N; easternmost is Cape Spear, NL, at 52°37' W\n",
    "# We also need to exclude a single WWII Pacific battle that happened off the coast of Alaska that didn't involve Canada\n",
    "NA_data = data[(data['lat']>41.6) & \n",
    "               (data['lng']<-52.6) & \n",
    "               (data['lng']>-160)]\n",
    "\n",
    "# There's also many wars in this subset that don't feature Canada, so we can list them here to remove:\n",
    "remove = ['American Revolutionary War',\n",
    "          'Sioux Wars',\n",
    "          \"Red Cloud's War\",\n",
    "          'Dakota War of 1862',\n",
    "          'Russo-Tlingit War',\n",
    "          'Great Sioux War of 1876',\n",
    "          'Powder River Expedition',\n",
    "          'American Civil War',\n",
    "          'Yellowstone Expedition of 1873',\n",
    "          'Nez Perce War',\n",
    "          'Comanche Campaign',\n",
    "          'Boston campaign',\n",
    "          'Modoc War',\n",
    "          'American Revolution',\n",
    "          \"King Philip's War\",\n",
    "          'Black Hawk War',\n",
    "          'Colorado War',\n",
    "          'American Indian Wars',\n",
    "          'Forage War',\n",
    "          \"Coeur d'Alene War\",\n",
    "          'Yakima War',\n",
    "          'Philadelphia campaign',\n",
    "          'Ghost Dance War']\n",
    "\n",
    "# Remove wars listed above, as well as battles without a specific war (that all happened in the USA)\n",
    "NA_data = NA_data[(~NA_data['war'].isin(remove)) & (~NA_data['war'].isnull())]\n",
    "          \n",
    "          \n",
    "          \n",
    "fig = px.scatter_geo(NA_data, lat='lat', lon='lng',\n",
    "               height= 500, \n",
    "               hover_name='bname', \n",
    "               color='war',\n",
    "               hover_data=['year'], \n",
    "               fitbounds='locations',\n",
    "               title='Historical battles fought in present-day Canada')\n",
    "\n",
    "fig.update_layout(showlegend=False)\n",
    "fig.show()"
   ]
  },
  {
   "cell_type": "code",
   "execution_count": null,
   "id": "5e16f073",
   "metadata": {},
   "outputs": [],
   "source": [
    "NA_casualties = NA_data[NA_data['casualties'].notna()]\n",
    "\n",
    "px.scatter_geo(NA_casualties, lat='lat', lon='lng', \n",
    "               height=500, hover_name='bname', \n",
    "               size = 'casualties',\n",
    "               size_max = 30,\n",
    "               color = 'casualties',\n",
    "               hover_data=['war','year'], \n",
    "               fitbounds='locations',\n",
    "               title='Historical battles fought in present-day Canada')"
   ]
  },
  {
   "cell_type": "markdown",
   "id": "f5ecb517-4d3d-4304-aeee-3cb61ea548d0",
   "metadata": {},
   "source": [
    "### A scatter plot visualization of geographic mapping of battles fought in Canada\n",
    "This visualization combines geographical data with interactivity, allowing users to explore specific battle locations and associated details based on landscape of the map."
   ]
  },
  {
   "cell_type": "code",
   "execution_count": null,
   "id": "2dd9754b",
   "metadata": {},
   "outputs": [],
   "source": [
    "fig = px.scatter_mapbox(NA_data, lat=\"lat\", lon=\"lng\", hover_name=\"bname\", hover_data=['year'],height=500,\n",
    "                        color_discrete_sequence=[\"fuchsia\"],zoom=2.5)\n",
    "fig.update_layout(\n",
    "    mapbox_style=\"white-bg\",\n",
    "    mapbox_layers=[\n",
    "        {\n",
    "            \"below\": 'traces',\n",
    "            \"sourcetype\": \"raster\",\n",
    "            \"sourceattribution\": \"United States Geological Survey\",\n",
    "            \"source\": [\n",
    "                \"https://basemap.nationalmap.gov/arcgis/rest/services/USGSImageryOnly/MapServer/tile/{z}/{y}/{x}\"\n",
    "            ]\n",
    "        }\n",
    "      ])\n",
    "fig.update_layout(margin={\"r\":0,\"t\":0,\"l\":0,\"b\":0})\n",
    "fig.show()"
   ]
  },
  {
   "cell_type": "markdown",
   "id": "65b96ea8-bc9a-4506-a350-54c2fc02d937",
   "metadata": {},
   "source": [
    "Questions: \n",
    "\n",
    "1. Is there a correlation between the location of battles and the wars in which post-Confederation Canada was involved?\n",
    "1. What is the overall geographical distribution of the battles in which post-Confederation Canada participated?\n",
    "1. How does the map representation enhance the understanding or analysis of the data compared to other visualization techniques?"
   ]
  },
  {
   "cell_type": "markdown",
   "id": "c70d8061",
   "metadata": {},
   "source": [
    "## WORLD 🌎\n",
    "\n",
    "Analyze other countries' military engagements: \n",
    "\n",
    "You can analyze the battles in which **your chosen country** was involved as a combatant. This includes studying the historical context, examining the locations and dates of the battles, and identifying the rivals.\n",
    "\n",
    "### Data of the battles involving the country of interest\n"
   ]
  },
  {
   "cell_type": "code",
   "execution_count": null,
   "id": "7daa5f3e-5eda-4854-abd0-c26f7f7cbd4c",
   "metadata": {},
   "outputs": [],
   "source": [
    "country_of_interest = 'Russia' #you can change this to a country you are interested in\n",
    "\n",
    "# Filter to only look at the battles that specify Canada as a combatant. Drop unused columns\n",
    "country_of_interest_data = data[data['bell']==country_of_interest]\n",
    "display(country_of_interest_data)"
   ]
  },
  {
   "cell_type": "markdown",
   "id": "dece9169",
   "metadata": {},
   "source": [
    "### Visualization of the battles involving the country of interest\n",
    "\n",
    "We can plot the battles on a map with their lattitude and longitude coordinates.\n",
    "\n",
    "You can drag to move around the map, zoom in and out to get more clarity. Hovering over each data point lists the name of the battle, as well as the war in which the battle was fought."
   ]
  },
  {
   "cell_type": "code",
   "execution_count": null,
   "id": "0e037b4c",
   "metadata": {},
   "outputs": [],
   "source": [
    "country_of_interest_data = country_of_interest_data[country_of_interest_data['bname'].notna()]\n",
    "\n",
    "fig = px.scatter_geo(country_of_interest_data, lat='lat', lon='lng', \n",
    "               height=500,\n",
    "               hover_name='bname', \n",
    "               hover_data=['year'],\n",
    "               color= 'war',\n",
    "               title='Battles participated in by ' + country_of_interest)\n",
    "\n",
    "fig.update_layout(showlegend=False)\n",
    "fig.show()"
   ]
  },
  {
   "cell_type": "markdown",
   "id": "2bd559ca",
   "metadata": {},
   "source": [
    "### Animated Visualization that showcases the wars fought by the country over the years\n",
    "\n",
    "This visualization represents the battles in which a specific country of interest participated over time.\n",
    "\n",
    "`▶Run` the next two code cells below to load animation"
   ]
  },
  {
   "cell_type": "code",
   "execution_count": null,
   "id": "63f481d9",
   "metadata": {},
   "outputs": [],
   "source": [
    "warnings.filterwarnings(\"ignore\")\n",
    "years = list(country_of_interest_data['year'].unique())\n",
    "\n",
    "animate_country_data = pd.DataFrame(country_of_interest_data)\n",
    "\n",
    "def animation_years(row):\n",
    "    global animate_country_data\n",
    "   \n",
    "    df = pd.DataFrame(columns=animate_country_data.columns)\n",
    "    index = years.index(row['year'])\n",
    "    for i in years[index+1:]:\n",
    "        row[4] = i\n",
    "        df.loc[len(df.index)] = row\n",
    "    \n",
    "    animate_country_data = pd.concat([animate_country_data,df],ignore_index=True)\n",
    "\n",
    "for i in range(len(country_of_interest_data.index)):\n",
    "    animation_years(country_of_interest_data.iloc[i])\n",
    "\n",
    "animate_country_data"
   ]
  },
  {
   "cell_type": "code",
   "execution_count": null,
   "id": "8e4b7813",
   "metadata": {},
   "outputs": [],
   "source": [
    "def rank_rows(df):\n",
    "    \n",
    "    df['sort_rank'] = 0\n",
    "    curr_rank = 1\n",
    "    for b in battles:\n",
    "        temp = df.loc[df['bname'] == b]\n",
    "        for i,rows in temp.iterrows():  \n",
    "            if df['sort_rank'][i] == 0:\n",
    "                df['sort_rank'][i] = curr_rank\n",
    "                curr_rank += 1\n",
    "    return df        \n",
    "            \n",
    "\n",
    "    \n",
    "animate_country_data.sort_values(['year'],inplace=True)            \n",
    "battles = list(animate_country_data.sort_values('year')['bname'].unique())\n",
    "animate_country_data = rank_rows(animate_country_data)\n",
    "\n",
    "animate_country_data.sort_values('sort_rank',inplace=True)\n",
    "animate_country_data"
   ]
  },
  {
   "cell_type": "markdown",
   "id": "5320a661",
   "metadata": {},
   "source": [
    "By clicking on the \"play\" button on the bottom we'll be able to look at the wars that Canada has found throughout the years"
   ]
  },
  {
   "cell_type": "code",
   "execution_count": null,
   "id": "afe0ae53",
   "metadata": {},
   "outputs": [],
   "source": [
    "px.scatter_geo(animate_country_data, lat='lat', lon='lng', \n",
    "               height=500, hover_name='bname', \n",
    "               animation_frame= 'year',\n",
    "               animation_group='war',\n",
    "               title='Battles participated in by ' + country_of_interest)"
   ]
  },
  {
   "cell_type": "markdown",
   "id": "536dca57-bb89-49de-a0fe-1d3328124d50",
   "metadata": {},
   "source": [
    "Questions: \n",
    "1. How does the country of interest's participation in battles compare to its neighboring countries or regions?\n",
    "1. How does the number of battles vary across different years for the country of interest?"
   ]
  },
  {
   "cell_type": "markdown",
   "id": "aa040ab2",
   "metadata": {},
   "source": [
    "### Visualization focuses on battles involving specific countries \n",
    "\n",
    "The below code cell filters the data to only look at battles that contains battles specifically related to the countries of interest. This filtered dataset can be further utilized for analysis, visualization, or other tasks related to battles involving the selected countries.\n",
    "\n",
    "We can also look at which continents Canada has fought the most in.\n",
    "\n",
    "**You can change and add/remove countries in this list**"
   ]
  },
  {
   "cell_type": "code",
   "execution_count": null,
   "id": "6dcb20b4",
   "metadata": {},
   "outputs": [],
   "source": [
    "countries = ['Canada','Japan','India','Spain'] #change and add/remove countries in this list\n",
    "\n",
    "battles_continent = data\n",
    "battles_continent = battles_continent[battles_continent['continent'].notna()]\n",
    "battles_continent['interest'] = data['bell'].map(lambda x: True if x in countries else False)\n",
    "battles_continent = battles_continent[battles_continent['interest'] == True]\n",
    "battles_continent.rename(columns={'bell':'Country'},inplace=True)\n",
    "battles_continent"
   ]
  },
  {
   "cell_type": "code",
   "execution_count": null,
   "id": "f51cc262",
   "metadata": {},
   "outputs": [],
   "source": [
    "continent_grouped = battles_continent.groupby(['continent','Country'])['locn'].count().reset_index(name='Number of Battles Fought')\n",
    "continent_grouped.sort_values('Number of Battles Fought',ascending=False,inplace=True)\n",
    "fig = px.bar(continent_grouped,x='Country',y='Number of Battles Fought',color='continent',height=500,title='Number of Battles fought by each country in different Continents')\n",
    "fig.show()"
   ]
  },
  {
   "cell_type": "markdown",
   "id": "fcca0d95-622e-4370-b438-d2b030d033e4",
   "metadata": {},
   "source": [
    "Questions: \n",
    "1. Are there any notable differences in the number of battles fought between countries within the same continent?\n",
    "1. Is there a correlation between a country's geographical location (continent) and the number of battles fought?\n",
    "1. Is there any correlation between Canada's geographic proximity to a specific country and its number of battles fought within that country?"
   ]
  },
  {
   "cell_type": "markdown",
   "id": "71e1653e-8f52-4c46-bd30-14690ca290e9",
   "metadata": {},
   "source": [
    "# Conclusion\n",
    "\n",
    "Want more data science resources for battles fought by Canada? Check out [The cost of the First World War](https://www.callysto.ca/2020/11/11/data-visualization-of-the-week-the-cost-of-the-first-world-war/)."
   ]
  },
  {
   "cell_type": "markdown",
   "id": "26f45a61-dac3-4c31-9190-3fa543b8a46d",
   "metadata": {},
   "source": [
    "[![Callysto.ca License](https://github.com/callysto/curriculum-notebooks/blob/master/callysto-notebook-banner-bottom.jpg?raw=true)](https://github.com/callysto/curriculum-notebooks/blob/master/LICENSE.md)"
   ]
  }
 ],
 "metadata": {
  "kernelspec": {
   "display_name": "Python 3 (ipykernel)",
   "language": "python",
   "name": "python3"
  },
  "language_info": {
   "codemirror_mode": {
    "name": "ipython",
    "version": 3
   },
   "file_extension": ".py",
   "mimetype": "text/x-python",
   "name": "python",
   "nbconvert_exporter": "python",
   "pygments_lexer": "ipython3",
   "version": "3.9.12"
  }
 },
 "nbformat": 4,
 "nbformat_minor": 5
}
