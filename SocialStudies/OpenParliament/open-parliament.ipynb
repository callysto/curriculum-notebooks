{
 "cells": [
  {
   "attachments": {},
   "cell_type": "markdown",
   "id": "2b49707a",
   "metadata": {},
   "source": [
    "![Callysto.ca Banner](https://github.com/callysto/curriculum-notebooks/blob/master/callysto-notebook-banner-top.jpg?raw=true)\n",
    "\n",
    "<a href=\"https://hub.callysto.ca/jupyter/hub/user-redirect/git-pull?repo=https%3A%2F%2Fgithub.com%2Fcallysto%2Fcurriculum-notebooks&branch=master&subPath=SocialStudies/HansardAnalysis/hansard-analysis.ipynb&depth=1\" target=\"_parent\"><img src=\"https://raw.githubusercontent.com/callysto/curriculum-notebooks/master/open-in-callysto-button.svg?sanitize=true\" width=\"123\" height=\"24\" alt=\"Open in Callysto\"/></a>"
   ]
  },
  {
   "attachments": {},
   "cell_type": "markdown",
   "id": "9952767c",
   "metadata": {},
   "source": [
    "# Open Parliament\n",
    "\n",
    "The [Hansard](https://en.wikipedia.org/wiki/Hansard) is a transcript of debates in the Canadian Parliament. It is available from the official [Parliament of Canada website](https://www.parl.ca) as well as other sources such as [Open Parliament](https://openparliament.ca) and [LiPaD: The Linked Parliamentary Data Project](https://www.lipad.ca).\n",
    "\n",
    "Later on during this notebook, we'll be also be using information from [openparliament.ca](https://openparliament.ca/) which sources modern data in regard to government-related information.\n",
    "\n",
    "We have downloaded the 2020 files from LiPaD, and can load them by selecting the following code cell and clicking the `▶Run` button."
   ]
  },
  {
   "cell_type": "code",
   "execution_count": 1,
   "id": "3e9bb5cc",
   "metadata": {},
   "outputs": [
    {
     "name": "stdout",
     "output_type": "stream",
     "text": [
      "There are 4945 rows and 15 columns of data:\n"
     ]
    },
    {
     "data": {
      "text/plain": [
       "Index(['basepk', 'hid', 'speechdate', 'pid', 'opid', 'speakeroldname',\n",
       "       'speakerposition', 'maintopic', 'subtopic', 'subsubtopic', 'speechtext',\n",
       "       'speakerparty', 'speakerriding', 'speakername', 'speakerurl'],\n",
       "      dtype='object')"
      ]
     },
     "execution_count": 1,
     "metadata": {},
     "output_type": "execute_result"
    }
   ],
   "source": [
    "# Python libraries\n",
    "\n",
    "from collections import Counter\n",
    "import re\n",
    "import plotly.express as px\n",
    "import json\n",
    "import numpy as np\n",
    "import pandas as pd\n",
    "\n",
    "# attempt to import requests\n",
    "# installing requests - if Jupyter Notebook does not have the package\n",
    "\n",
    "try:\n",
    "    import requests\n",
    "except:\n",
    "    %pip conda requests\n",
    "    import requests\n",
    "    \n",
    "# attempt to import BeautifulSoup\n",
    "# installing BeautifulSoup - if Jupyter Notebook does not have the package\n",
    "    \n",
    "try:\n",
    "    import bs4\n",
    "    from bs4 import BeautifulSoup\n",
    "except:\n",
    "    %pip conda bs4\n",
    "    import bs4\n",
    "    from bs4 import BeautifulSoup\n",
    "\n",
    "try:\n",
    "    from wordcloud import WordCloud\n",
    "except:\n",
    "    %pip install wordcloud\n",
    "    from wordcloud import WordCloud\n",
    "    \n",
    "hansard = pd.read_csv('https://raw.githubusercontent.com/callysto/data-files/main/SocialStudies/HansardAnalysis/proceedings2020.csv')\n",
    "print(f'There are {hansard.shape[0]} rows and {hansard.shape[1]} columns of data:')\n",
    "hansard.columns"
   ]
  },
  {
   "attachments": {},
   "cell_type": "markdown",
   "id": "10295b0a",
   "metadata": {},
   "source": [
    "## Who Spoke?\n",
    "\n",
    "Let's have a look at who spoke during these debates."
   ]
  },
  {
   "cell_type": "code",
   "execution_count": 2,
   "id": "89a9ccb8",
   "metadata": {},
   "outputs": [
    {
     "name": "stdout",
     "output_type": "stream",
     "text": [
      "There were 312 speakers from the ['Liberal' 'New Democratic Party' 'Green Party' 'Conservative'\n",
      " 'Bloc Québécois' 'Independent'] parties.\n"
     ]
    }
   ],
   "source": [
    "speakers = hansard.drop_duplicates(subset=['speakername'])[['speakername','speakerparty','speakerriding','speakerurl']]\n",
    "speakers = speakers.dropna().reset_index().drop(columns=['index'])\n",
    "print('There were',speakers.shape[0],'speakers from the',speakers['speakerparty'].unique(),'parties.')"
   ]
  },
  {
   "attachments": {},
   "cell_type": "markdown",
   "id": "3de3d6e5",
   "metadata": {},
   "source": [
    "We can compare that to the list of Members of Parliament from the [43rd Parliament](https://en.wikipedia.org/wiki/43rd_Canadian_Parliament) that started on December 5, 2019."
   ]
  },
  {
   "cell_type": "code",
   "execution_count": 3,
   "id": "c895d14d",
   "metadata": {},
   "outputs": [
    {
     "name": "stdout",
     "output_type": "stream",
     "text": [
      "There were 340 Members from the ['Conservative' 'Liberal' 'NDP' 'Bloc Québécois' 'Green Party'\n",
      " 'Independent'] parties.\n"
     ]
    }
   ],
   "source": [
    "members = pd.read_csv('https://www.ourcommons.ca/members/en/search/csv?parliament=43')\n",
    "print('There were',members.shape[0],'Members from the',members['Political Affiliation'].unique(),'parties.')"
   ]
  },
  {
   "attachments": {},
   "cell_type": "markdown",
   "id": "dfe870b4",
   "metadata": {},
   "source": [
    "So of the 338 Members of Parliament we had 312 unique speakers, meaning that 26 Members are not recorded as speaking during 2020. Let's see if we can identify who are they were."
   ]
  },
  {
   "cell_type": "code",
   "execution_count": 4,
   "id": "30e18a00",
   "metadata": {},
   "outputs": [
    {
     "name": "stdout",
     "output_type": "stream",
     "text": [
      "That is 36 Members not recorded as speaking in 2020:\n",
      "['Jaime Battiste', 'Terry Beech', 'Bob Benzen', 'Stéphane Bergeron', 'Sylvie Bérubé', 'Yves-François Blanchet', 'Élisabeth Brière', 'Jim Carr', 'Sean Casey', 'Serge Cormier', 'Neil Ellis', 'Marie-Hélène Gaudreau', 'Marci Ien', 'Robert Kitchen', 'Andréanne Larouche', 'Sébastien Lemire', 'Dave MacKenzie', 'Simon Marcil', 'Ken McDonald', 'John McKay', 'Alexandra Mendès', 'Bill Morneau', 'Robert Morrissey', 'Joyce Murray', 'Robert Oliphant', \"Seamus O'Regan\", 'Louis Plamondon', 'Marcus Powlowski', 'Michelle Rempel Garner', 'Raj Saini', 'Judy A. Sgro', 'Terry Sheehan', 'Doug Shipley', 'Rachael Thomas', 'Chris Warkentin', 'Alice Wong']\n"
     ]
    }
   ],
   "source": [
    "members['Name'] = members['First Name'] +' '+ members['Last Name']\n",
    "silent = []\n",
    "for member in members['Name']:\n",
    "    if member not in speakers['speakername'].values:\n",
    "        silent.append(member)\n",
    "print('That is',len(silent),'Members not recorded as speaking in 2020:')\n",
    "print(silent)"
   ]
  },
  {
   "attachments": {},
   "cell_type": "markdown",
   "id": "8a16961f",
   "metadata": {},
   "source": [
    "Of course 36 is not equal to 26, but we will leave it to you to compare the list `silent` to the list from `speakers['speakername'].unique()` if you are interested."
   ]
  },
  {
   "attachments": {},
   "cell_type": "markdown",
   "id": "776781f0",
   "metadata": {},
   "source": [
    "## Who Spoke Most?\n",
    "\n",
    "We can check how many times each speaker is recorded in the Hansard."
   ]
  },
  {
   "cell_type": "code",
   "execution_count": 5,
   "id": "8856c29f",
   "metadata": {},
   "outputs": [
    {
     "data": {
      "text/html": [
       "<div>\n",
       "<style scoped>\n",
       "    .dataframe tbody tr th:only-of-type {\n",
       "        vertical-align: middle;\n",
       "    }\n",
       "\n",
       "    .dataframe tbody tr th {\n",
       "        vertical-align: top;\n",
       "    }\n",
       "\n",
       "    .dataframe thead th {\n",
       "        text-align: right;\n",
       "    }\n",
       "</style>\n",
       "<table border=\"1\" class=\"dataframe\">\n",
       "  <thead>\n",
       "    <tr style=\"text-align: right;\">\n",
       "      <th></th>\n",
       "      <th>speakername</th>\n",
       "    </tr>\n",
       "  </thead>\n",
       "  <tbody>\n",
       "    <tr>\n",
       "      <th>Anthony Rota</th>\n",
       "      <td>261</td>\n",
       "    </tr>\n",
       "    <tr>\n",
       "      <th>Kevin Lamoureux</th>\n",
       "      <td>234</td>\n",
       "    </tr>\n",
       "    <tr>\n",
       "      <th>Some hon. members</th>\n",
       "      <td>117</td>\n",
       "    </tr>\n",
       "    <tr>\n",
       "      <th>Carol Hughes</th>\n",
       "      <td>104</td>\n",
       "    </tr>\n",
       "    <tr>\n",
       "      <th>Bruce Stanton</th>\n",
       "      <td>103</td>\n",
       "    </tr>\n",
       "    <tr>\n",
       "      <th>...</th>\n",
       "      <td>...</td>\n",
       "    </tr>\n",
       "    <tr>\n",
       "      <th>Mark Holland</th>\n",
       "      <td>1</td>\n",
       "    </tr>\n",
       "    <tr>\n",
       "      <th>Karina Gould</th>\n",
       "      <td>1</td>\n",
       "    </tr>\n",
       "    <tr>\n",
       "      <th>Dan Vandal</th>\n",
       "      <td>1</td>\n",
       "    </tr>\n",
       "    <tr>\n",
       "      <th>Mumilaaq Qaqqaq</th>\n",
       "      <td>1</td>\n",
       "    </tr>\n",
       "    <tr>\n",
       "      <th>Ramesh Sangha</th>\n",
       "      <td>1</td>\n",
       "    </tr>\n",
       "  </tbody>\n",
       "</table>\n",
       "<p>317 rows × 1 columns</p>\n",
       "</div>"
      ],
      "text/plain": [
       "                   speakername\n",
       "Anthony Rota               261\n",
       "Kevin Lamoureux            234\n",
       "Some hon. members          117\n",
       "Carol Hughes               104\n",
       "Bruce Stanton              103\n",
       "...                        ...\n",
       "Mark Holland                 1\n",
       "Karina Gould                 1\n",
       "Dan Vandal                   1\n",
       "Mumilaaq Qaqqaq              1\n",
       "Ramesh Sangha                1\n",
       "\n",
       "[317 rows x 1 columns]"
      ]
     },
     "execution_count": 5,
     "metadata": {},
     "output_type": "execute_result"
    }
   ],
   "source": [
    "hansard_speakers = pd.DataFrame(hansard['speakername'].value_counts())\n",
    "hansard_speakers"
   ]
  },
  {
   "attachments": {},
   "cell_type": "markdown",
   "id": "3e445be0",
   "metadata": {},
   "source": [
    "Let's also calculate the length (number of characters) of each of those speeches, and sort them by who said the most."
   ]
  },
  {
   "cell_type": "code",
   "execution_count": 6,
   "id": "9a502497",
   "metadata": {},
   "outputs": [
    {
     "data": {
      "text/html": [
       "<div>\n",
       "<style scoped>\n",
       "    .dataframe tbody tr th:only-of-type {\n",
       "        vertical-align: middle;\n",
       "    }\n",
       "\n",
       "    .dataframe tbody tr th {\n",
       "        vertical-align: top;\n",
       "    }\n",
       "\n",
       "    .dataframe thead th {\n",
       "        text-align: right;\n",
       "    }\n",
       "</style>\n",
       "<table border=\"1\" class=\"dataframe\">\n",
       "  <thead>\n",
       "    <tr style=\"text-align: right;\">\n",
       "      <th></th>\n",
       "      <th>speechlength</th>\n",
       "    </tr>\n",
       "    <tr>\n",
       "      <th>speakername</th>\n",
       "      <th></th>\n",
       "    </tr>\n",
       "  </thead>\n",
       "  <tbody>\n",
       "    <tr>\n",
       "      <th>Kevin Lamoureux</th>\n",
       "      <td>229100.0</td>\n",
       "    </tr>\n",
       "    <tr>\n",
       "      <th>Garnett Genuis</th>\n",
       "      <td>151029.0</td>\n",
       "    </tr>\n",
       "    <tr>\n",
       "      <th>Arif Virani</th>\n",
       "      <td>100618.0</td>\n",
       "    </tr>\n",
       "    <tr>\n",
       "      <th>Gérard Deltell</th>\n",
       "      <td>99181.0</td>\n",
       "    </tr>\n",
       "    <tr>\n",
       "      <th>Paul Manly</th>\n",
       "      <td>98090.0</td>\n",
       "    </tr>\n",
       "    <tr>\n",
       "      <th>...</th>\n",
       "      <td>...</td>\n",
       "    </tr>\n",
       "    <tr>\n",
       "      <th>Chandra Arya</th>\n",
       "      <td>269.0</td>\n",
       "    </tr>\n",
       "    <tr>\n",
       "      <th>The Speaker</th>\n",
       "      <td>114.0</td>\n",
       "    </tr>\n",
       "    <tr>\n",
       "      <th>An hon. member</th>\n",
       "      <td>78.0</td>\n",
       "    </tr>\n",
       "    <tr>\n",
       "      <th>The Assistant Deputy Speaker (Mrs. Alexandra Mendès)</th>\n",
       "      <td>42.0</td>\n",
       "    </tr>\n",
       "    <tr>\n",
       "      <th>Some. hon. members</th>\n",
       "      <td>8.0</td>\n",
       "    </tr>\n",
       "  </tbody>\n",
       "</table>\n",
       "<p>317 rows × 1 columns</p>\n",
       "</div>"
      ],
      "text/plain": [
       "                                                    speechlength\n",
       "speakername                                                     \n",
       "Kevin Lamoureux                                         229100.0\n",
       "Garnett Genuis                                          151029.0\n",
       "Arif Virani                                             100618.0\n",
       "Gérard Deltell                                           99181.0\n",
       "Paul Manly                                               98090.0\n",
       "...                                                          ...\n",
       "Chandra Arya                                               269.0\n",
       "The Speaker                                                114.0\n",
       "An hon. member                                              78.0\n",
       "The Assistant Deputy Speaker (Mrs. Alexandra Me...          42.0\n",
       "Some. hon. members                                           8.0\n",
       "\n",
       "[317 rows x 1 columns]"
      ]
     },
     "execution_count": 6,
     "metadata": {},
     "output_type": "execute_result"
    }
   ],
   "source": [
    "hansard['speechlength'] = hansard['speechtext'].str.len()\n",
    "hansard.groupby('speakername').sum(numeric_only=True).sort_values('speechlength', ascending=False)"
   ]
  },
  {
   "attachments": {},
   "cell_type": "markdown",
   "id": "b70cef2f",
   "metadata": {},
   "source": [
    "We can also visualize the number of times *any* MP spoke with a histogram:"
   ]
  },
  {
   "cell_type": "code",
   "execution_count": 35,
   "id": "2fd8562d",
   "metadata": {},
   "outputs": [
    {
     "data": {
      "application/vnd.plotly.v1+json": {
       "config": {
        "plotlyServerURL": "https://plot.ly"
       },
       "data": [
        {
         "alignmentgroup": "True",
         "bingroup": "x",
         "hovertemplate": "Number of Speeches=%{x}<br>count=%{y}<extra></extra>",
         "legendgroup": "",
         "marker": {
          "color": "#636efa",
          "pattern": {
           "shape": ""
          }
         },
         "name": "",
         "offsetgroup": "",
         "orientation": "v",
         "showlegend": false,
         "type": "histogram",
         "x": [
          261,
          234,
          117,
          104,
          103,
          91,
          91,
          70,
          67,
          67,
          59,
          58,
          57,
          56,
          56,
          48,
          45,
          43,
          42,
          41,
          40,
          39,
          37,
          35,
          33,
          32,
          32,
          32,
          31,
          31,
          29,
          29,
          29,
          27,
          26,
          26,
          26,
          25,
          25,
          25,
          25,
          24,
          24,
          24,
          24,
          23,
          22,
          22,
          22,
          22,
          22,
          22,
          21,
          21,
          21,
          21,
          20,
          19,
          19,
          19,
          19,
          19,
          19,
          18,
          18,
          18,
          18,
          18,
          17,
          17,
          17,
          17,
          17,
          17,
          17,
          17,
          16,
          16,
          16,
          16,
          16,
          16,
          16,
          16,
          16,
          16,
          16,
          16,
          16,
          16,
          16,
          15,
          15,
          15,
          15,
          15,
          15,
          15,
          15,
          15,
          14,
          14,
          14,
          14,
          14,
          14,
          14,
          14,
          14,
          13,
          13,
          13,
          13,
          13,
          13,
          13,
          13,
          13,
          13,
          13,
          13,
          12,
          12,
          12,
          12,
          12,
          12,
          12,
          12,
          12,
          12,
          12,
          11,
          11,
          11,
          11,
          11,
          11,
          11,
          11,
          11,
          11,
          11,
          10,
          10,
          10,
          10,
          10,
          10,
          10,
          10,
          10,
          10,
          10,
          10,
          9,
          9,
          9,
          9,
          9,
          9,
          9,
          9,
          9,
          9,
          8,
          8,
          8,
          8,
          8,
          8,
          8,
          8,
          8,
          8,
          8,
          8,
          8,
          8,
          8,
          8,
          7,
          7,
          7,
          7,
          7,
          7,
          7,
          7,
          7,
          7,
          7,
          7,
          7,
          7,
          7,
          7,
          6,
          6,
          6,
          6,
          6,
          6,
          6,
          6,
          6,
          6,
          6,
          6,
          6,
          6,
          6,
          6,
          6,
          6,
          6,
          6,
          5,
          5,
          5,
          5,
          5,
          5,
          5,
          5,
          5,
          5,
          5,
          5,
          5,
          5,
          5,
          5,
          5,
          5,
          5,
          5,
          4,
          4,
          4,
          4,
          4,
          4,
          4,
          4,
          4,
          4,
          4,
          4,
          4,
          4,
          4,
          4,
          4,
          3,
          3,
          3,
          3,
          3,
          3,
          3,
          3,
          3,
          3,
          3,
          3,
          3,
          2,
          2,
          2,
          2,
          2,
          2,
          2,
          2,
          2,
          2,
          2,
          2,
          2,
          2,
          2,
          2,
          2,
          2,
          2,
          2,
          2,
          2,
          2,
          2,
          2,
          2,
          2,
          1,
          1,
          1,
          1,
          1,
          1,
          1,
          1,
          1,
          1,
          1,
          1,
          1,
          1,
          1,
          1,
          1,
          1,
          1,
          1,
          1,
          1,
          1
         ],
         "xaxis": "x",
         "yaxis": "y"
        }
       ],
       "layout": {
        "barmode": "relative",
        "legend": {
         "tracegroupgap": 0
        },
        "showlegend": false,
        "template": {
         "data": {
          "bar": [
           {
            "error_x": {
             "color": "#2a3f5f"
            },
            "error_y": {
             "color": "#2a3f5f"
            },
            "marker": {
             "line": {
              "color": "#E5ECF6",
              "width": 0.5
             },
             "pattern": {
              "fillmode": "overlay",
              "size": 10,
              "solidity": 0.2
             }
            },
            "type": "bar"
           }
          ],
          "barpolar": [
           {
            "marker": {
             "line": {
              "color": "#E5ECF6",
              "width": 0.5
             },
             "pattern": {
              "fillmode": "overlay",
              "size": 10,
              "solidity": 0.2
             }
            },
            "type": "barpolar"
           }
          ],
          "carpet": [
           {
            "aaxis": {
             "endlinecolor": "#2a3f5f",
             "gridcolor": "white",
             "linecolor": "white",
             "minorgridcolor": "white",
             "startlinecolor": "#2a3f5f"
            },
            "baxis": {
             "endlinecolor": "#2a3f5f",
             "gridcolor": "white",
             "linecolor": "white",
             "minorgridcolor": "white",
             "startlinecolor": "#2a3f5f"
            },
            "type": "carpet"
           }
          ],
          "choropleth": [
           {
            "colorbar": {
             "outlinewidth": 0,
             "ticks": ""
            },
            "type": "choropleth"
           }
          ],
          "contour": [
           {
            "colorbar": {
             "outlinewidth": 0,
             "ticks": ""
            },
            "colorscale": [
             [
              0,
              "#0d0887"
             ],
             [
              0.1111111111111111,
              "#46039f"
             ],
             [
              0.2222222222222222,
              "#7201a8"
             ],
             [
              0.3333333333333333,
              "#9c179e"
             ],
             [
              0.4444444444444444,
              "#bd3786"
             ],
             [
              0.5555555555555556,
              "#d8576b"
             ],
             [
              0.6666666666666666,
              "#ed7953"
             ],
             [
              0.7777777777777778,
              "#fb9f3a"
             ],
             [
              0.8888888888888888,
              "#fdca26"
             ],
             [
              1,
              "#f0f921"
             ]
            ],
            "type": "contour"
           }
          ],
          "contourcarpet": [
           {
            "colorbar": {
             "outlinewidth": 0,
             "ticks": ""
            },
            "type": "contourcarpet"
           }
          ],
          "heatmap": [
           {
            "colorbar": {
             "outlinewidth": 0,
             "ticks": ""
            },
            "colorscale": [
             [
              0,
              "#0d0887"
             ],
             [
              0.1111111111111111,
              "#46039f"
             ],
             [
              0.2222222222222222,
              "#7201a8"
             ],
             [
              0.3333333333333333,
              "#9c179e"
             ],
             [
              0.4444444444444444,
              "#bd3786"
             ],
             [
              0.5555555555555556,
              "#d8576b"
             ],
             [
              0.6666666666666666,
              "#ed7953"
             ],
             [
              0.7777777777777778,
              "#fb9f3a"
             ],
             [
              0.8888888888888888,
              "#fdca26"
             ],
             [
              1,
              "#f0f921"
             ]
            ],
            "type": "heatmap"
           }
          ],
          "heatmapgl": [
           {
            "colorbar": {
             "outlinewidth": 0,
             "ticks": ""
            },
            "colorscale": [
             [
              0,
              "#0d0887"
             ],
             [
              0.1111111111111111,
              "#46039f"
             ],
             [
              0.2222222222222222,
              "#7201a8"
             ],
             [
              0.3333333333333333,
              "#9c179e"
             ],
             [
              0.4444444444444444,
              "#bd3786"
             ],
             [
              0.5555555555555556,
              "#d8576b"
             ],
             [
              0.6666666666666666,
              "#ed7953"
             ],
             [
              0.7777777777777778,
              "#fb9f3a"
             ],
             [
              0.8888888888888888,
              "#fdca26"
             ],
             [
              1,
              "#f0f921"
             ]
            ],
            "type": "heatmapgl"
           }
          ],
          "histogram": [
           {
            "marker": {
             "pattern": {
              "fillmode": "overlay",
              "size": 10,
              "solidity": 0.2
             }
            },
            "type": "histogram"
           }
          ],
          "histogram2d": [
           {
            "colorbar": {
             "outlinewidth": 0,
             "ticks": ""
            },
            "colorscale": [
             [
              0,
              "#0d0887"
             ],
             [
              0.1111111111111111,
              "#46039f"
             ],
             [
              0.2222222222222222,
              "#7201a8"
             ],
             [
              0.3333333333333333,
              "#9c179e"
             ],
             [
              0.4444444444444444,
              "#bd3786"
             ],
             [
              0.5555555555555556,
              "#d8576b"
             ],
             [
              0.6666666666666666,
              "#ed7953"
             ],
             [
              0.7777777777777778,
              "#fb9f3a"
             ],
             [
              0.8888888888888888,
              "#fdca26"
             ],
             [
              1,
              "#f0f921"
             ]
            ],
            "type": "histogram2d"
           }
          ],
          "histogram2dcontour": [
           {
            "colorbar": {
             "outlinewidth": 0,
             "ticks": ""
            },
            "colorscale": [
             [
              0,
              "#0d0887"
             ],
             [
              0.1111111111111111,
              "#46039f"
             ],
             [
              0.2222222222222222,
              "#7201a8"
             ],
             [
              0.3333333333333333,
              "#9c179e"
             ],
             [
              0.4444444444444444,
              "#bd3786"
             ],
             [
              0.5555555555555556,
              "#d8576b"
             ],
             [
              0.6666666666666666,
              "#ed7953"
             ],
             [
              0.7777777777777778,
              "#fb9f3a"
             ],
             [
              0.8888888888888888,
              "#fdca26"
             ],
             [
              1,
              "#f0f921"
             ]
            ],
            "type": "histogram2dcontour"
           }
          ],
          "mesh3d": [
           {
            "colorbar": {
             "outlinewidth": 0,
             "ticks": ""
            },
            "type": "mesh3d"
           }
          ],
          "parcoords": [
           {
            "line": {
             "colorbar": {
              "outlinewidth": 0,
              "ticks": ""
             }
            },
            "type": "parcoords"
           }
          ],
          "pie": [
           {
            "automargin": true,
            "type": "pie"
           }
          ],
          "scatter": [
           {
            "fillpattern": {
             "fillmode": "overlay",
             "size": 10,
             "solidity": 0.2
            },
            "type": "scatter"
           }
          ],
          "scatter3d": [
           {
            "line": {
             "colorbar": {
              "outlinewidth": 0,
              "ticks": ""
             }
            },
            "marker": {
             "colorbar": {
              "outlinewidth": 0,
              "ticks": ""
             }
            },
            "type": "scatter3d"
           }
          ],
          "scattercarpet": [
           {
            "marker": {
             "colorbar": {
              "outlinewidth": 0,
              "ticks": ""
             }
            },
            "type": "scattercarpet"
           }
          ],
          "scattergeo": [
           {
            "marker": {
             "colorbar": {
              "outlinewidth": 0,
              "ticks": ""
             }
            },
            "type": "scattergeo"
           }
          ],
          "scattergl": [
           {
            "marker": {
             "colorbar": {
              "outlinewidth": 0,
              "ticks": ""
             }
            },
            "type": "scattergl"
           }
          ],
          "scattermapbox": [
           {
            "marker": {
             "colorbar": {
              "outlinewidth": 0,
              "ticks": ""
             }
            },
            "type": "scattermapbox"
           }
          ],
          "scatterpolar": [
           {
            "marker": {
             "colorbar": {
              "outlinewidth": 0,
              "ticks": ""
             }
            },
            "type": "scatterpolar"
           }
          ],
          "scatterpolargl": [
           {
            "marker": {
             "colorbar": {
              "outlinewidth": 0,
              "ticks": ""
             }
            },
            "type": "scatterpolargl"
           }
          ],
          "scatterternary": [
           {
            "marker": {
             "colorbar": {
              "outlinewidth": 0,
              "ticks": ""
             }
            },
            "type": "scatterternary"
           }
          ],
          "surface": [
           {
            "colorbar": {
             "outlinewidth": 0,
             "ticks": ""
            },
            "colorscale": [
             [
              0,
              "#0d0887"
             ],
             [
              0.1111111111111111,
              "#46039f"
             ],
             [
              0.2222222222222222,
              "#7201a8"
             ],
             [
              0.3333333333333333,
              "#9c179e"
             ],
             [
              0.4444444444444444,
              "#bd3786"
             ],
             [
              0.5555555555555556,
              "#d8576b"
             ],
             [
              0.6666666666666666,
              "#ed7953"
             ],
             [
              0.7777777777777778,
              "#fb9f3a"
             ],
             [
              0.8888888888888888,
              "#fdca26"
             ],
             [
              1,
              "#f0f921"
             ]
            ],
            "type": "surface"
           }
          ],
          "table": [
           {
            "cells": {
             "fill": {
              "color": "#EBF0F8"
             },
             "line": {
              "color": "white"
             }
            },
            "header": {
             "fill": {
              "color": "#C8D4E3"
             },
             "line": {
              "color": "white"
             }
            },
            "type": "table"
           }
          ]
         },
         "layout": {
          "annotationdefaults": {
           "arrowcolor": "#2a3f5f",
           "arrowhead": 0,
           "arrowwidth": 1
          },
          "autotypenumbers": "strict",
          "coloraxis": {
           "colorbar": {
            "outlinewidth": 0,
            "ticks": ""
           }
          },
          "colorscale": {
           "diverging": [
            [
             0,
             "#8e0152"
            ],
            [
             0.1,
             "#c51b7d"
            ],
            [
             0.2,
             "#de77ae"
            ],
            [
             0.3,
             "#f1b6da"
            ],
            [
             0.4,
             "#fde0ef"
            ],
            [
             0.5,
             "#f7f7f7"
            ],
            [
             0.6,
             "#e6f5d0"
            ],
            [
             0.7,
             "#b8e186"
            ],
            [
             0.8,
             "#7fbc41"
            ],
            [
             0.9,
             "#4d9221"
            ],
            [
             1,
             "#276419"
            ]
           ],
           "sequential": [
            [
             0,
             "#0d0887"
            ],
            [
             0.1111111111111111,
             "#46039f"
            ],
            [
             0.2222222222222222,
             "#7201a8"
            ],
            [
             0.3333333333333333,
             "#9c179e"
            ],
            [
             0.4444444444444444,
             "#bd3786"
            ],
            [
             0.5555555555555556,
             "#d8576b"
            ],
            [
             0.6666666666666666,
             "#ed7953"
            ],
            [
             0.7777777777777778,
             "#fb9f3a"
            ],
            [
             0.8888888888888888,
             "#fdca26"
            ],
            [
             1,
             "#f0f921"
            ]
           ],
           "sequentialminus": [
            [
             0,
             "#0d0887"
            ],
            [
             0.1111111111111111,
             "#46039f"
            ],
            [
             0.2222222222222222,
             "#7201a8"
            ],
            [
             0.3333333333333333,
             "#9c179e"
            ],
            [
             0.4444444444444444,
             "#bd3786"
            ],
            [
             0.5555555555555556,
             "#d8576b"
            ],
            [
             0.6666666666666666,
             "#ed7953"
            ],
            [
             0.7777777777777778,
             "#fb9f3a"
            ],
            [
             0.8888888888888888,
             "#fdca26"
            ],
            [
             1,
             "#f0f921"
            ]
           ]
          },
          "colorway": [
           "#636efa",
           "#EF553B",
           "#00cc96",
           "#ab63fa",
           "#FFA15A",
           "#19d3f3",
           "#FF6692",
           "#B6E880",
           "#FF97FF",
           "#FECB52"
          ],
          "font": {
           "color": "#2a3f5f"
          },
          "geo": {
           "bgcolor": "white",
           "lakecolor": "white",
           "landcolor": "#E5ECF6",
           "showlakes": true,
           "showland": true,
           "subunitcolor": "white"
          },
          "hoverlabel": {
           "align": "left"
          },
          "hovermode": "closest",
          "mapbox": {
           "style": "light"
          },
          "paper_bgcolor": "white",
          "plot_bgcolor": "#E5ECF6",
          "polar": {
           "angularaxis": {
            "gridcolor": "white",
            "linecolor": "white",
            "ticks": ""
           },
           "bgcolor": "#E5ECF6",
           "radialaxis": {
            "gridcolor": "white",
            "linecolor": "white",
            "ticks": ""
           }
          },
          "scene": {
           "xaxis": {
            "backgroundcolor": "#E5ECF6",
            "gridcolor": "white",
            "gridwidth": 2,
            "linecolor": "white",
            "showbackground": true,
            "ticks": "",
            "zerolinecolor": "white"
           },
           "yaxis": {
            "backgroundcolor": "#E5ECF6",
            "gridcolor": "white",
            "gridwidth": 2,
            "linecolor": "white",
            "showbackground": true,
            "ticks": "",
            "zerolinecolor": "white"
           },
           "zaxis": {
            "backgroundcolor": "#E5ECF6",
            "gridcolor": "white",
            "gridwidth": 2,
            "linecolor": "white",
            "showbackground": true,
            "ticks": "",
            "zerolinecolor": "white"
           }
          },
          "shapedefaults": {
           "line": {
            "color": "#2a3f5f"
           }
          },
          "ternary": {
           "aaxis": {
            "gridcolor": "white",
            "linecolor": "white",
            "ticks": ""
           },
           "baxis": {
            "gridcolor": "white",
            "linecolor": "white",
            "ticks": ""
           },
           "bgcolor": "#E5ECF6",
           "caxis": {
            "gridcolor": "white",
            "linecolor": "white",
            "ticks": ""
           }
          },
          "title": {
           "x": 0.05
          },
          "xaxis": {
           "automargin": true,
           "gridcolor": "white",
           "linecolor": "white",
           "ticks": "",
           "title": {
            "standoff": 15
           },
           "zerolinecolor": "white",
           "zerolinewidth": 2
          },
          "yaxis": {
           "automargin": true,
           "gridcolor": "white",
           "linecolor": "white",
           "ticks": "",
           "title": {
            "standoff": 15
           },
           "zerolinecolor": "white",
           "zerolinewidth": 2
          }
         }
        },
        "title": {
         "text": "Histogram of Number of Speeches by Member"
        },
        "xaxis": {
         "anchor": "y",
         "domain": [
          0,
          1
         ],
         "title": {
          "text": "Number of Speeches"
         }
        },
        "yaxis": {
         "anchor": "x",
         "domain": [
          0,
          1
         ],
         "title": {
          "text": "count"
         }
        }
       }
      }
     },
     "metadata": {},
     "output_type": "display_data"
    }
   ],
   "source": [
    "px.histogram(hansard_speakers, x='speakername', title='Histogram of Number of Speeches by Member', labels={'speakername':'Number of Speeches'}).update(layout_showlegend=False)"
   ]
  },
  {
   "attachments": {},
   "cell_type": "markdown",
   "id": "69131ed3",
   "metadata": {},
   "source": [
    "### Thinking Proportionally\n",
    "Now, the above plots are useful in finding out which parties spoke the most, but it would be pretty reasonable to expect the parties with the most members to have the longest or most frequent speeches. In the next step, we'll look at the composition of the 43rd Parliament, and normalize the above two plots to the number of members each party has in Parliament:"
   ]
  },
  {
   "cell_type": "code",
   "execution_count": 8,
   "id": "78a2c41a",
   "metadata": {},
   "outputs": [
    {
     "data": {
      "application/vnd.plotly.v1+json": {
       "config": {
        "plotlyServerURL": "https://plot.ly"
       },
       "data": [
        {
         "alignmentgroup": "True",
         "hovertemplate": "Party=%{x}<br>Seats=%{y}<extra></extra>",
         "legendgroup": "Liberal",
         "marker": {
          "color": "red",
          "pattern": {
           "shape": ""
          }
         },
         "name": "Liberal",
         "offsetgroup": "Liberal",
         "orientation": "v",
         "showlegend": true,
         "textposition": "auto",
         "type": "bar",
         "x": [
          "Liberal"
         ],
         "xaxis": "x",
         "y": [
          157
         ],
         "yaxis": "y"
        },
        {
         "alignmentgroup": "True",
         "hovertemplate": "Party=%{x}<br>Seats=%{y}<extra></extra>",
         "legendgroup": "Conservative",
         "marker": {
          "color": "blue",
          "pattern": {
           "shape": ""
          }
         },
         "name": "Conservative",
         "offsetgroup": "Conservative",
         "orientation": "v",
         "showlegend": true,
         "textposition": "auto",
         "type": "bar",
         "x": [
          "Conservative"
         ],
         "xaxis": "x",
         "y": [
          121
         ],
         "yaxis": "y"
        },
        {
         "alignmentgroup": "True",
         "hovertemplate": "Party=%{x}<br>Seats=%{y}<extra></extra>",
         "legendgroup": "New Democratic Party",
         "marker": {
          "color": "orange",
          "pattern": {
           "shape": ""
          }
         },
         "name": "New Democratic Party",
         "offsetgroup": "New Democratic Party",
         "orientation": "v",
         "showlegend": true,
         "textposition": "auto",
         "type": "bar",
         "x": [
          "New Democratic Party"
         ],
         "xaxis": "x",
         "y": [
          32
         ],
         "yaxis": "y"
        },
        {
         "alignmentgroup": "True",
         "hovertemplate": "Party=%{x}<br>Seats=%{y}<extra></extra>",
         "legendgroup": "Bloc Québécois",
         "marker": {
          "color": "lightblue",
          "pattern": {
           "shape": ""
          }
         },
         "name": "Bloc Québécois",
         "offsetgroup": "Bloc Québécois",
         "orientation": "v",
         "showlegend": true,
         "textposition": "auto",
         "type": "bar",
         "x": [
          "Bloc Québécois"
         ],
         "xaxis": "x",
         "y": [
          24
         ],
         "yaxis": "y"
        },
        {
         "alignmentgroup": "True",
         "hovertemplate": "Party=%{x}<br>Seats=%{y}<extra></extra>",
         "legendgroup": "Green Party",
         "marker": {
          "color": "green",
          "pattern": {
           "shape": ""
          }
         },
         "name": "Green Party",
         "offsetgroup": "Green Party",
         "orientation": "v",
         "showlegend": true,
         "textposition": "auto",
         "type": "bar",
         "x": [
          "Green Party"
         ],
         "xaxis": "x",
         "y": [
          3
         ],
         "yaxis": "y"
        },
        {
         "alignmentgroup": "True",
         "hovertemplate": "Party=%{x}<br>Seats=%{y}<extra></extra>",
         "legendgroup": "Independent",
         "marker": {
          "color": "lightseagreen",
          "pattern": {
           "shape": ""
          }
         },
         "name": "Independent",
         "offsetgroup": "Independent",
         "orientation": "v",
         "showlegend": true,
         "textposition": "auto",
         "type": "bar",
         "x": [
          "Independent"
         ],
         "xaxis": "x",
         "y": [
          1
         ],
         "yaxis": "y"
        }
       ],
       "layout": {
        "barmode": "relative",
        "legend": {
         "title": {
          "text": "Party"
         },
         "tracegroupgap": 0
        },
        "showlegend": false,
        "template": {
         "data": {
          "bar": [
           {
            "error_x": {
             "color": "#2a3f5f"
            },
            "error_y": {
             "color": "#2a3f5f"
            },
            "marker": {
             "line": {
              "color": "#E5ECF6",
              "width": 0.5
             },
             "pattern": {
              "fillmode": "overlay",
              "size": 10,
              "solidity": 0.2
             }
            },
            "type": "bar"
           }
          ],
          "barpolar": [
           {
            "marker": {
             "line": {
              "color": "#E5ECF6",
              "width": 0.5
             },
             "pattern": {
              "fillmode": "overlay",
              "size": 10,
              "solidity": 0.2
             }
            },
            "type": "barpolar"
           }
          ],
          "carpet": [
           {
            "aaxis": {
             "endlinecolor": "#2a3f5f",
             "gridcolor": "white",
             "linecolor": "white",
             "minorgridcolor": "white",
             "startlinecolor": "#2a3f5f"
            },
            "baxis": {
             "endlinecolor": "#2a3f5f",
             "gridcolor": "white",
             "linecolor": "white",
             "minorgridcolor": "white",
             "startlinecolor": "#2a3f5f"
            },
            "type": "carpet"
           }
          ],
          "choropleth": [
           {
            "colorbar": {
             "outlinewidth": 0,
             "ticks": ""
            },
            "type": "choropleth"
           }
          ],
          "contour": [
           {
            "colorbar": {
             "outlinewidth": 0,
             "ticks": ""
            },
            "colorscale": [
             [
              0,
              "#0d0887"
             ],
             [
              0.1111111111111111,
              "#46039f"
             ],
             [
              0.2222222222222222,
              "#7201a8"
             ],
             [
              0.3333333333333333,
              "#9c179e"
             ],
             [
              0.4444444444444444,
              "#bd3786"
             ],
             [
              0.5555555555555556,
              "#d8576b"
             ],
             [
              0.6666666666666666,
              "#ed7953"
             ],
             [
              0.7777777777777778,
              "#fb9f3a"
             ],
             [
              0.8888888888888888,
              "#fdca26"
             ],
             [
              1,
              "#f0f921"
             ]
            ],
            "type": "contour"
           }
          ],
          "contourcarpet": [
           {
            "colorbar": {
             "outlinewidth": 0,
             "ticks": ""
            },
            "type": "contourcarpet"
           }
          ],
          "heatmap": [
           {
            "colorbar": {
             "outlinewidth": 0,
             "ticks": ""
            },
            "colorscale": [
             [
              0,
              "#0d0887"
             ],
             [
              0.1111111111111111,
              "#46039f"
             ],
             [
              0.2222222222222222,
              "#7201a8"
             ],
             [
              0.3333333333333333,
              "#9c179e"
             ],
             [
              0.4444444444444444,
              "#bd3786"
             ],
             [
              0.5555555555555556,
              "#d8576b"
             ],
             [
              0.6666666666666666,
              "#ed7953"
             ],
             [
              0.7777777777777778,
              "#fb9f3a"
             ],
             [
              0.8888888888888888,
              "#fdca26"
             ],
             [
              1,
              "#f0f921"
             ]
            ],
            "type": "heatmap"
           }
          ],
          "heatmapgl": [
           {
            "colorbar": {
             "outlinewidth": 0,
             "ticks": ""
            },
            "colorscale": [
             [
              0,
              "#0d0887"
             ],
             [
              0.1111111111111111,
              "#46039f"
             ],
             [
              0.2222222222222222,
              "#7201a8"
             ],
             [
              0.3333333333333333,
              "#9c179e"
             ],
             [
              0.4444444444444444,
              "#bd3786"
             ],
             [
              0.5555555555555556,
              "#d8576b"
             ],
             [
              0.6666666666666666,
              "#ed7953"
             ],
             [
              0.7777777777777778,
              "#fb9f3a"
             ],
             [
              0.8888888888888888,
              "#fdca26"
             ],
             [
              1,
              "#f0f921"
             ]
            ],
            "type": "heatmapgl"
           }
          ],
          "histogram": [
           {
            "marker": {
             "pattern": {
              "fillmode": "overlay",
              "size": 10,
              "solidity": 0.2
             }
            },
            "type": "histogram"
           }
          ],
          "histogram2d": [
           {
            "colorbar": {
             "outlinewidth": 0,
             "ticks": ""
            },
            "colorscale": [
             [
              0,
              "#0d0887"
             ],
             [
              0.1111111111111111,
              "#46039f"
             ],
             [
              0.2222222222222222,
              "#7201a8"
             ],
             [
              0.3333333333333333,
              "#9c179e"
             ],
             [
              0.4444444444444444,
              "#bd3786"
             ],
             [
              0.5555555555555556,
              "#d8576b"
             ],
             [
              0.6666666666666666,
              "#ed7953"
             ],
             [
              0.7777777777777778,
              "#fb9f3a"
             ],
             [
              0.8888888888888888,
              "#fdca26"
             ],
             [
              1,
              "#f0f921"
             ]
            ],
            "type": "histogram2d"
           }
          ],
          "histogram2dcontour": [
           {
            "colorbar": {
             "outlinewidth": 0,
             "ticks": ""
            },
            "colorscale": [
             [
              0,
              "#0d0887"
             ],
             [
              0.1111111111111111,
              "#46039f"
             ],
             [
              0.2222222222222222,
              "#7201a8"
             ],
             [
              0.3333333333333333,
              "#9c179e"
             ],
             [
              0.4444444444444444,
              "#bd3786"
             ],
             [
              0.5555555555555556,
              "#d8576b"
             ],
             [
              0.6666666666666666,
              "#ed7953"
             ],
             [
              0.7777777777777778,
              "#fb9f3a"
             ],
             [
              0.8888888888888888,
              "#fdca26"
             ],
             [
              1,
              "#f0f921"
             ]
            ],
            "type": "histogram2dcontour"
           }
          ],
          "mesh3d": [
           {
            "colorbar": {
             "outlinewidth": 0,
             "ticks": ""
            },
            "type": "mesh3d"
           }
          ],
          "parcoords": [
           {
            "line": {
             "colorbar": {
              "outlinewidth": 0,
              "ticks": ""
             }
            },
            "type": "parcoords"
           }
          ],
          "pie": [
           {
            "automargin": true,
            "type": "pie"
           }
          ],
          "scatter": [
           {
            "fillpattern": {
             "fillmode": "overlay",
             "size": 10,
             "solidity": 0.2
            },
            "type": "scatter"
           }
          ],
          "scatter3d": [
           {
            "line": {
             "colorbar": {
              "outlinewidth": 0,
              "ticks": ""
             }
            },
            "marker": {
             "colorbar": {
              "outlinewidth": 0,
              "ticks": ""
             }
            },
            "type": "scatter3d"
           }
          ],
          "scattercarpet": [
           {
            "marker": {
             "colorbar": {
              "outlinewidth": 0,
              "ticks": ""
             }
            },
            "type": "scattercarpet"
           }
          ],
          "scattergeo": [
           {
            "marker": {
             "colorbar": {
              "outlinewidth": 0,
              "ticks": ""
             }
            },
            "type": "scattergeo"
           }
          ],
          "scattergl": [
           {
            "marker": {
             "colorbar": {
              "outlinewidth": 0,
              "ticks": ""
             }
            },
            "type": "scattergl"
           }
          ],
          "scattermapbox": [
           {
            "marker": {
             "colorbar": {
              "outlinewidth": 0,
              "ticks": ""
             }
            },
            "type": "scattermapbox"
           }
          ],
          "scatterpolar": [
           {
            "marker": {
             "colorbar": {
              "outlinewidth": 0,
              "ticks": ""
             }
            },
            "type": "scatterpolar"
           }
          ],
          "scatterpolargl": [
           {
            "marker": {
             "colorbar": {
              "outlinewidth": 0,
              "ticks": ""
             }
            },
            "type": "scatterpolargl"
           }
          ],
          "scatterternary": [
           {
            "marker": {
             "colorbar": {
              "outlinewidth": 0,
              "ticks": ""
             }
            },
            "type": "scatterternary"
           }
          ],
          "surface": [
           {
            "colorbar": {
             "outlinewidth": 0,
             "ticks": ""
            },
            "colorscale": [
             [
              0,
              "#0d0887"
             ],
             [
              0.1111111111111111,
              "#46039f"
             ],
             [
              0.2222222222222222,
              "#7201a8"
             ],
             [
              0.3333333333333333,
              "#9c179e"
             ],
             [
              0.4444444444444444,
              "#bd3786"
             ],
             [
              0.5555555555555556,
              "#d8576b"
             ],
             [
              0.6666666666666666,
              "#ed7953"
             ],
             [
              0.7777777777777778,
              "#fb9f3a"
             ],
             [
              0.8888888888888888,
              "#fdca26"
             ],
             [
              1,
              "#f0f921"
             ]
            ],
            "type": "surface"
           }
          ],
          "table": [
           {
            "cells": {
             "fill": {
              "color": "#EBF0F8"
             },
             "line": {
              "color": "white"
             }
            },
            "header": {
             "fill": {
              "color": "#C8D4E3"
             },
             "line": {
              "color": "white"
             }
            },
            "type": "table"
           }
          ]
         },
         "layout": {
          "annotationdefaults": {
           "arrowcolor": "#2a3f5f",
           "arrowhead": 0,
           "arrowwidth": 1
          },
          "autotypenumbers": "strict",
          "coloraxis": {
           "colorbar": {
            "outlinewidth": 0,
            "ticks": ""
           }
          },
          "colorscale": {
           "diverging": [
            [
             0,
             "#8e0152"
            ],
            [
             0.1,
             "#c51b7d"
            ],
            [
             0.2,
             "#de77ae"
            ],
            [
             0.3,
             "#f1b6da"
            ],
            [
             0.4,
             "#fde0ef"
            ],
            [
             0.5,
             "#f7f7f7"
            ],
            [
             0.6,
             "#e6f5d0"
            ],
            [
             0.7,
             "#b8e186"
            ],
            [
             0.8,
             "#7fbc41"
            ],
            [
             0.9,
             "#4d9221"
            ],
            [
             1,
             "#276419"
            ]
           ],
           "sequential": [
            [
             0,
             "#0d0887"
            ],
            [
             0.1111111111111111,
             "#46039f"
            ],
            [
             0.2222222222222222,
             "#7201a8"
            ],
            [
             0.3333333333333333,
             "#9c179e"
            ],
            [
             0.4444444444444444,
             "#bd3786"
            ],
            [
             0.5555555555555556,
             "#d8576b"
            ],
            [
             0.6666666666666666,
             "#ed7953"
            ],
            [
             0.7777777777777778,
             "#fb9f3a"
            ],
            [
             0.8888888888888888,
             "#fdca26"
            ],
            [
             1,
             "#f0f921"
            ]
           ],
           "sequentialminus": [
            [
             0,
             "#0d0887"
            ],
            [
             0.1111111111111111,
             "#46039f"
            ],
            [
             0.2222222222222222,
             "#7201a8"
            ],
            [
             0.3333333333333333,
             "#9c179e"
            ],
            [
             0.4444444444444444,
             "#bd3786"
            ],
            [
             0.5555555555555556,
             "#d8576b"
            ],
            [
             0.6666666666666666,
             "#ed7953"
            ],
            [
             0.7777777777777778,
             "#fb9f3a"
            ],
            [
             0.8888888888888888,
             "#fdca26"
            ],
            [
             1,
             "#f0f921"
            ]
           ]
          },
          "colorway": [
           "#636efa",
           "#EF553B",
           "#00cc96",
           "#ab63fa",
           "#FFA15A",
           "#19d3f3",
           "#FF6692",
           "#B6E880",
           "#FF97FF",
           "#FECB52"
          ],
          "font": {
           "color": "#2a3f5f"
          },
          "geo": {
           "bgcolor": "white",
           "lakecolor": "white",
           "landcolor": "#E5ECF6",
           "showlakes": true,
           "showland": true,
           "subunitcolor": "white"
          },
          "hoverlabel": {
           "align": "left"
          },
          "hovermode": "closest",
          "mapbox": {
           "style": "light"
          },
          "paper_bgcolor": "white",
          "plot_bgcolor": "#E5ECF6",
          "polar": {
           "angularaxis": {
            "gridcolor": "white",
            "linecolor": "white",
            "ticks": ""
           },
           "bgcolor": "#E5ECF6",
           "radialaxis": {
            "gridcolor": "white",
            "linecolor": "white",
            "ticks": ""
           }
          },
          "scene": {
           "xaxis": {
            "backgroundcolor": "#E5ECF6",
            "gridcolor": "white",
            "gridwidth": 2,
            "linecolor": "white",
            "showbackground": true,
            "ticks": "",
            "zerolinecolor": "white"
           },
           "yaxis": {
            "backgroundcolor": "#E5ECF6",
            "gridcolor": "white",
            "gridwidth": 2,
            "linecolor": "white",
            "showbackground": true,
            "ticks": "",
            "zerolinecolor": "white"
           },
           "zaxis": {
            "backgroundcolor": "#E5ECF6",
            "gridcolor": "white",
            "gridwidth": 2,
            "linecolor": "white",
            "showbackground": true,
            "ticks": "",
            "zerolinecolor": "white"
           }
          },
          "shapedefaults": {
           "line": {
            "color": "#2a3f5f"
           }
          },
          "ternary": {
           "aaxis": {
            "gridcolor": "white",
            "linecolor": "white",
            "ticks": ""
           },
           "baxis": {
            "gridcolor": "white",
            "linecolor": "white",
            "ticks": ""
           },
           "bgcolor": "#E5ECF6",
           "caxis": {
            "gridcolor": "white",
            "linecolor": "white",
            "ticks": ""
           }
          },
          "title": {
           "x": 0.05
          },
          "xaxis": {
           "automargin": true,
           "gridcolor": "white",
           "linecolor": "white",
           "ticks": "",
           "title": {
            "standoff": 15
           },
           "zerolinecolor": "white",
           "zerolinewidth": 2
          },
          "yaxis": {
           "automargin": true,
           "gridcolor": "white",
           "linecolor": "white",
           "ticks": "",
           "title": {
            "standoff": 15
           },
           "zerolinecolor": "white",
           "zerolinewidth": 2
          }
         }
        },
        "title": {
         "text": "Number of Seats in 43rd Parliament, by Party"
        },
        "xaxis": {
         "anchor": "y",
         "categoryarray": [
          "Liberal",
          "Conservative",
          "New Democratic Party",
          "Bloc Québécois",
          "Green Party",
          "Independent"
         ],
         "categoryorder": "array",
         "domain": [
          0,
          1
         ],
         "title": {
          "text": "Party"
         }
        },
        "yaxis": {
         "anchor": "x",
         "domain": [
          0,
          1
         ],
         "title": {
          "text": "Seats"
         }
        }
       }
      }
     },
     "metadata": {},
     "output_type": "display_data"
    }
   ],
   "source": [
    "seats = pd.DataFrame(list(zip(['Liberal', 'Conservative', 'New Democratic Party', 'Bloc Québécois', 'Green Party', 'Independent'],[157, 121, 32, 24, 3, 1])), columns=['Party', 'Seats']).set_index('Party')\n",
    "px.bar(seats, x=seats.index, y='Seats', title='Number of Seats in 43rd Parliament, by Party', color= seats.index, color_discrete_map={'Liberal': 'red', 'Conservative': 'blue', 'New Democratic Party': 'orange', \"Bloc Québécois\": 'lightblue', 'Green Party': 'green', 'Independent': 'lightseagreen'}).update(layout_showlegend=False)"
   ]
  },
  {
   "cell_type": "code",
   "execution_count": 9,
   "id": "ced22f91",
   "metadata": {},
   "outputs": [
    {
     "data": {
      "application/vnd.plotly.v1+json": {
       "config": {
        "plotlyServerURL": "https://plot.ly"
       },
       "data": [
        {
         "alignmentgroup": "True",
         "hovertemplate": "party=%{x}<br>frequency=%{y}<extra></extra>",
         "legendgroup": "Liberal",
         "marker": {
          "color": "red",
          "pattern": {
           "shape": ""
          }
         },
         "name": "Liberal",
         "offsetgroup": "Liberal",
         "orientation": "v",
         "showlegend": true,
         "textposition": "auto",
         "type": "bar",
         "x": [
          "Liberal"
         ],
         "xaxis": "x",
         "y": [
          12.35031847133758
         ],
         "yaxis": "y"
        },
        {
         "alignmentgroup": "True",
         "hovertemplate": "party=%{x}<br>frequency=%{y}<extra></extra>",
         "legendgroup": "Conservative",
         "marker": {
          "color": "blue",
          "pattern": {
           "shape": ""
          }
         },
         "name": "Conservative",
         "offsetgroup": "Conservative",
         "orientation": "v",
         "showlegend": true,
         "textposition": "auto",
         "type": "bar",
         "x": [
          "Conservative"
         ],
         "xaxis": "x",
         "y": [
          13.429752066115702
         ],
         "yaxis": "y"
        },
        {
         "alignmentgroup": "True",
         "hovertemplate": "party=%{x}<br>frequency=%{y}<extra></extra>",
         "legendgroup": "New Democratic Party",
         "marker": {
          "color": "orange",
          "pattern": {
           "shape": ""
          }
         },
         "name": "New Democratic Party",
         "offsetgroup": "New Democratic Party",
         "orientation": "v",
         "showlegend": true,
         "textposition": "auto",
         "type": "bar",
         "x": [
          "New Democratic Party"
         ],
         "xaxis": "x",
         "y": [
          16.59375
         ],
         "yaxis": "y"
        },
        {
         "alignmentgroup": "True",
         "hovertemplate": "party=%{x}<br>frequency=%{y}<extra></extra>",
         "legendgroup": "Bloc Québécois",
         "marker": {
          "color": "lightblue",
          "pattern": {
           "shape": ""
          }
         },
         "name": "Bloc Québécois",
         "offsetgroup": "Bloc Québécois",
         "orientation": "v",
         "showlegend": true,
         "textposition": "auto",
         "type": "bar",
         "x": [
          "Bloc Québécois"
         ],
         "xaxis": "x",
         "y": [
          18.458333333333332
         ],
         "yaxis": "y"
        },
        {
         "alignmentgroup": "True",
         "hovertemplate": "party=%{x}<br>frequency=%{y}<extra></extra>",
         "legendgroup": "Green Party",
         "marker": {
          "color": "green",
          "pattern": {
           "shape": ""
          }
         },
         "name": "Green Party",
         "offsetgroup": "Green Party",
         "orientation": "v",
         "showlegend": true,
         "textposition": "auto",
         "type": "bar",
         "x": [
          "Green Party"
         ],
         "xaxis": "x",
         "y": [
          41.666666666666664
         ],
         "yaxis": "y"
        },
        {
         "alignmentgroup": "True",
         "hovertemplate": "party=%{x}<br>frequency=%{y}<extra></extra>",
         "legendgroup": "Independent",
         "marker": {
          "color": "lightseagreen",
          "pattern": {
           "shape": ""
          }
         },
         "name": "Independent",
         "offsetgroup": "Independent",
         "orientation": "v",
         "showlegend": true,
         "textposition": "auto",
         "type": "bar",
         "x": [
          "Independent"
         ],
         "xaxis": "x",
         "y": [
          8
         ],
         "yaxis": "y"
        }
       ],
       "layout": {
        "barmode": "relative",
        "legend": {
         "title": {
          "text": "party"
         },
         "tracegroupgap": 0
        },
        "showlegend": false,
        "template": {
         "data": {
          "bar": [
           {
            "error_x": {
             "color": "#2a3f5f"
            },
            "error_y": {
             "color": "#2a3f5f"
            },
            "marker": {
             "line": {
              "color": "#E5ECF6",
              "width": 0.5
             },
             "pattern": {
              "fillmode": "overlay",
              "size": 10,
              "solidity": 0.2
             }
            },
            "type": "bar"
           }
          ],
          "barpolar": [
           {
            "marker": {
             "line": {
              "color": "#E5ECF6",
              "width": 0.5
             },
             "pattern": {
              "fillmode": "overlay",
              "size": 10,
              "solidity": 0.2
             }
            },
            "type": "barpolar"
           }
          ],
          "carpet": [
           {
            "aaxis": {
             "endlinecolor": "#2a3f5f",
             "gridcolor": "white",
             "linecolor": "white",
             "minorgridcolor": "white",
             "startlinecolor": "#2a3f5f"
            },
            "baxis": {
             "endlinecolor": "#2a3f5f",
             "gridcolor": "white",
             "linecolor": "white",
             "minorgridcolor": "white",
             "startlinecolor": "#2a3f5f"
            },
            "type": "carpet"
           }
          ],
          "choropleth": [
           {
            "colorbar": {
             "outlinewidth": 0,
             "ticks": ""
            },
            "type": "choropleth"
           }
          ],
          "contour": [
           {
            "colorbar": {
             "outlinewidth": 0,
             "ticks": ""
            },
            "colorscale": [
             [
              0,
              "#0d0887"
             ],
             [
              0.1111111111111111,
              "#46039f"
             ],
             [
              0.2222222222222222,
              "#7201a8"
             ],
             [
              0.3333333333333333,
              "#9c179e"
             ],
             [
              0.4444444444444444,
              "#bd3786"
             ],
             [
              0.5555555555555556,
              "#d8576b"
             ],
             [
              0.6666666666666666,
              "#ed7953"
             ],
             [
              0.7777777777777778,
              "#fb9f3a"
             ],
             [
              0.8888888888888888,
              "#fdca26"
             ],
             [
              1,
              "#f0f921"
             ]
            ],
            "type": "contour"
           }
          ],
          "contourcarpet": [
           {
            "colorbar": {
             "outlinewidth": 0,
             "ticks": ""
            },
            "type": "contourcarpet"
           }
          ],
          "heatmap": [
           {
            "colorbar": {
             "outlinewidth": 0,
             "ticks": ""
            },
            "colorscale": [
             [
              0,
              "#0d0887"
             ],
             [
              0.1111111111111111,
              "#46039f"
             ],
             [
              0.2222222222222222,
              "#7201a8"
             ],
             [
              0.3333333333333333,
              "#9c179e"
             ],
             [
              0.4444444444444444,
              "#bd3786"
             ],
             [
              0.5555555555555556,
              "#d8576b"
             ],
             [
              0.6666666666666666,
              "#ed7953"
             ],
             [
              0.7777777777777778,
              "#fb9f3a"
             ],
             [
              0.8888888888888888,
              "#fdca26"
             ],
             [
              1,
              "#f0f921"
             ]
            ],
            "type": "heatmap"
           }
          ],
          "heatmapgl": [
           {
            "colorbar": {
             "outlinewidth": 0,
             "ticks": ""
            },
            "colorscale": [
             [
              0,
              "#0d0887"
             ],
             [
              0.1111111111111111,
              "#46039f"
             ],
             [
              0.2222222222222222,
              "#7201a8"
             ],
             [
              0.3333333333333333,
              "#9c179e"
             ],
             [
              0.4444444444444444,
              "#bd3786"
             ],
             [
              0.5555555555555556,
              "#d8576b"
             ],
             [
              0.6666666666666666,
              "#ed7953"
             ],
             [
              0.7777777777777778,
              "#fb9f3a"
             ],
             [
              0.8888888888888888,
              "#fdca26"
             ],
             [
              1,
              "#f0f921"
             ]
            ],
            "type": "heatmapgl"
           }
          ],
          "histogram": [
           {
            "marker": {
             "pattern": {
              "fillmode": "overlay",
              "size": 10,
              "solidity": 0.2
             }
            },
            "type": "histogram"
           }
          ],
          "histogram2d": [
           {
            "colorbar": {
             "outlinewidth": 0,
             "ticks": ""
            },
            "colorscale": [
             [
              0,
              "#0d0887"
             ],
             [
              0.1111111111111111,
              "#46039f"
             ],
             [
              0.2222222222222222,
              "#7201a8"
             ],
             [
              0.3333333333333333,
              "#9c179e"
             ],
             [
              0.4444444444444444,
              "#bd3786"
             ],
             [
              0.5555555555555556,
              "#d8576b"
             ],
             [
              0.6666666666666666,
              "#ed7953"
             ],
             [
              0.7777777777777778,
              "#fb9f3a"
             ],
             [
              0.8888888888888888,
              "#fdca26"
             ],
             [
              1,
              "#f0f921"
             ]
            ],
            "type": "histogram2d"
           }
          ],
          "histogram2dcontour": [
           {
            "colorbar": {
             "outlinewidth": 0,
             "ticks": ""
            },
            "colorscale": [
             [
              0,
              "#0d0887"
             ],
             [
              0.1111111111111111,
              "#46039f"
             ],
             [
              0.2222222222222222,
              "#7201a8"
             ],
             [
              0.3333333333333333,
              "#9c179e"
             ],
             [
              0.4444444444444444,
              "#bd3786"
             ],
             [
              0.5555555555555556,
              "#d8576b"
             ],
             [
              0.6666666666666666,
              "#ed7953"
             ],
             [
              0.7777777777777778,
              "#fb9f3a"
             ],
             [
              0.8888888888888888,
              "#fdca26"
             ],
             [
              1,
              "#f0f921"
             ]
            ],
            "type": "histogram2dcontour"
           }
          ],
          "mesh3d": [
           {
            "colorbar": {
             "outlinewidth": 0,
             "ticks": ""
            },
            "type": "mesh3d"
           }
          ],
          "parcoords": [
           {
            "line": {
             "colorbar": {
              "outlinewidth": 0,
              "ticks": ""
             }
            },
            "type": "parcoords"
           }
          ],
          "pie": [
           {
            "automargin": true,
            "type": "pie"
           }
          ],
          "scatter": [
           {
            "fillpattern": {
             "fillmode": "overlay",
             "size": 10,
             "solidity": 0.2
            },
            "type": "scatter"
           }
          ],
          "scatter3d": [
           {
            "line": {
             "colorbar": {
              "outlinewidth": 0,
              "ticks": ""
             }
            },
            "marker": {
             "colorbar": {
              "outlinewidth": 0,
              "ticks": ""
             }
            },
            "type": "scatter3d"
           }
          ],
          "scattercarpet": [
           {
            "marker": {
             "colorbar": {
              "outlinewidth": 0,
              "ticks": ""
             }
            },
            "type": "scattercarpet"
           }
          ],
          "scattergeo": [
           {
            "marker": {
             "colorbar": {
              "outlinewidth": 0,
              "ticks": ""
             }
            },
            "type": "scattergeo"
           }
          ],
          "scattergl": [
           {
            "marker": {
             "colorbar": {
              "outlinewidth": 0,
              "ticks": ""
             }
            },
            "type": "scattergl"
           }
          ],
          "scattermapbox": [
           {
            "marker": {
             "colorbar": {
              "outlinewidth": 0,
              "ticks": ""
             }
            },
            "type": "scattermapbox"
           }
          ],
          "scatterpolar": [
           {
            "marker": {
             "colorbar": {
              "outlinewidth": 0,
              "ticks": ""
             }
            },
            "type": "scatterpolar"
           }
          ],
          "scatterpolargl": [
           {
            "marker": {
             "colorbar": {
              "outlinewidth": 0,
              "ticks": ""
             }
            },
            "type": "scatterpolargl"
           }
          ],
          "scatterternary": [
           {
            "marker": {
             "colorbar": {
              "outlinewidth": 0,
              "ticks": ""
             }
            },
            "type": "scatterternary"
           }
          ],
          "surface": [
           {
            "colorbar": {
             "outlinewidth": 0,
             "ticks": ""
            },
            "colorscale": [
             [
              0,
              "#0d0887"
             ],
             [
              0.1111111111111111,
              "#46039f"
             ],
             [
              0.2222222222222222,
              "#7201a8"
             ],
             [
              0.3333333333333333,
              "#9c179e"
             ],
             [
              0.4444444444444444,
              "#bd3786"
             ],
             [
              0.5555555555555556,
              "#d8576b"
             ],
             [
              0.6666666666666666,
              "#ed7953"
             ],
             [
              0.7777777777777778,
              "#fb9f3a"
             ],
             [
              0.8888888888888888,
              "#fdca26"
             ],
             [
              1,
              "#f0f921"
             ]
            ],
            "type": "surface"
           }
          ],
          "table": [
           {
            "cells": {
             "fill": {
              "color": "#EBF0F8"
             },
             "line": {
              "color": "white"
             }
            },
            "header": {
             "fill": {
              "color": "#C8D4E3"
             },
             "line": {
              "color": "white"
             }
            },
            "type": "table"
           }
          ]
         },
         "layout": {
          "annotationdefaults": {
           "arrowcolor": "#2a3f5f",
           "arrowhead": 0,
           "arrowwidth": 1
          },
          "autotypenumbers": "strict",
          "coloraxis": {
           "colorbar": {
            "outlinewidth": 0,
            "ticks": ""
           }
          },
          "colorscale": {
           "diverging": [
            [
             0,
             "#8e0152"
            ],
            [
             0.1,
             "#c51b7d"
            ],
            [
             0.2,
             "#de77ae"
            ],
            [
             0.3,
             "#f1b6da"
            ],
            [
             0.4,
             "#fde0ef"
            ],
            [
             0.5,
             "#f7f7f7"
            ],
            [
             0.6,
             "#e6f5d0"
            ],
            [
             0.7,
             "#b8e186"
            ],
            [
             0.8,
             "#7fbc41"
            ],
            [
             0.9,
             "#4d9221"
            ],
            [
             1,
             "#276419"
            ]
           ],
           "sequential": [
            [
             0,
             "#0d0887"
            ],
            [
             0.1111111111111111,
             "#46039f"
            ],
            [
             0.2222222222222222,
             "#7201a8"
            ],
            [
             0.3333333333333333,
             "#9c179e"
            ],
            [
             0.4444444444444444,
             "#bd3786"
            ],
            [
             0.5555555555555556,
             "#d8576b"
            ],
            [
             0.6666666666666666,
             "#ed7953"
            ],
            [
             0.7777777777777778,
             "#fb9f3a"
            ],
            [
             0.8888888888888888,
             "#fdca26"
            ],
            [
             1,
             "#f0f921"
            ]
           ],
           "sequentialminus": [
            [
             0,
             "#0d0887"
            ],
            [
             0.1111111111111111,
             "#46039f"
            ],
            [
             0.2222222222222222,
             "#7201a8"
            ],
            [
             0.3333333333333333,
             "#9c179e"
            ],
            [
             0.4444444444444444,
             "#bd3786"
            ],
            [
             0.5555555555555556,
             "#d8576b"
            ],
            [
             0.6666666666666666,
             "#ed7953"
            ],
            [
             0.7777777777777778,
             "#fb9f3a"
            ],
            [
             0.8888888888888888,
             "#fdca26"
            ],
            [
             1,
             "#f0f921"
            ]
           ]
          },
          "colorway": [
           "#636efa",
           "#EF553B",
           "#00cc96",
           "#ab63fa",
           "#FFA15A",
           "#19d3f3",
           "#FF6692",
           "#B6E880",
           "#FF97FF",
           "#FECB52"
          ],
          "font": {
           "color": "#2a3f5f"
          },
          "geo": {
           "bgcolor": "white",
           "lakecolor": "white",
           "landcolor": "#E5ECF6",
           "showlakes": true,
           "showland": true,
           "subunitcolor": "white"
          },
          "hoverlabel": {
           "align": "left"
          },
          "hovermode": "closest",
          "mapbox": {
           "style": "light"
          },
          "paper_bgcolor": "white",
          "plot_bgcolor": "#E5ECF6",
          "polar": {
           "angularaxis": {
            "gridcolor": "white",
            "linecolor": "white",
            "ticks": ""
           },
           "bgcolor": "#E5ECF6",
           "radialaxis": {
            "gridcolor": "white",
            "linecolor": "white",
            "ticks": ""
           }
          },
          "scene": {
           "xaxis": {
            "backgroundcolor": "#E5ECF6",
            "gridcolor": "white",
            "gridwidth": 2,
            "linecolor": "white",
            "showbackground": true,
            "ticks": "",
            "zerolinecolor": "white"
           },
           "yaxis": {
            "backgroundcolor": "#E5ECF6",
            "gridcolor": "white",
            "gridwidth": 2,
            "linecolor": "white",
            "showbackground": true,
            "ticks": "",
            "zerolinecolor": "white"
           },
           "zaxis": {
            "backgroundcolor": "#E5ECF6",
            "gridcolor": "white",
            "gridwidth": 2,
            "linecolor": "white",
            "showbackground": true,
            "ticks": "",
            "zerolinecolor": "white"
           }
          },
          "shapedefaults": {
           "line": {
            "color": "#2a3f5f"
           }
          },
          "ternary": {
           "aaxis": {
            "gridcolor": "white",
            "linecolor": "white",
            "ticks": ""
           },
           "baxis": {
            "gridcolor": "white",
            "linecolor": "white",
            "ticks": ""
           },
           "bgcolor": "#E5ECF6",
           "caxis": {
            "gridcolor": "white",
            "linecolor": "white",
            "ticks": ""
           }
          },
          "title": {
           "x": 0.05
          },
          "xaxis": {
           "automargin": true,
           "gridcolor": "white",
           "linecolor": "white",
           "ticks": "",
           "title": {
            "standoff": 15
           },
           "zerolinecolor": "white",
           "zerolinewidth": 2
          },
          "yaxis": {
           "automargin": true,
           "gridcolor": "white",
           "linecolor": "white",
           "ticks": "",
           "title": {
            "standoff": 15
           },
           "zerolinecolor": "white",
           "zerolinewidth": 2
          }
         }
        },
        "title": {
         "text": "Hansard Speaker Frequency by Party (Normalized by Number of Seats)"
        },
        "xaxis": {
         "anchor": "y",
         "categoryarray": [
          "Liberal",
          "Conservative",
          "New Democratic Party",
          "Bloc Québécois",
          "Green Party",
          "Independent"
         ],
         "categoryorder": "array",
         "domain": [
          0,
          1
         ],
         "title": {
          "text": "party"
         }
        },
        "yaxis": {
         "anchor": "x",
         "domain": [
          0,
          1
         ],
         "title": {
          "text": "frequency"
         }
        }
       }
      }
     },
     "metadata": {},
     "output_type": "display_data"
    }
   ],
   "source": [
    "freq_norm = hansard['speakerparty'].value_counts().div(seats['Seats'], axis=0)\n",
    "freq_norm = pd.DataFrame({'party':freq_norm.index, 'frequency':freq_norm.values})\n",
    "px.bar(freq_norm, x='party', y='frequency', title='Hansard Speaker Frequency by Party (Normalized by Number of Seats)', color='party', color_discrete_map={'Liberal': 'red', 'Conservative': 'blue', 'New Democratic Party': 'orange', \"Bloc Québécois\": 'lightblue', 'Green Party': 'green', 'Independent': 'lightseagreen'}).update(layout_showlegend=False)"
   ]
  },
  {
   "attachments": {},
   "cell_type": "markdown",
   "id": "7a953543",
   "metadata": {},
   "source": [
    "### Questions:\n",
    "\n",
    "1. Can you think of any reasons why certain people in Parliament might speak more than others?\n",
    "2. How might the number of times someone speaks in Parliament relate to their influence or effectiveness as a representative?\n",
    "3. Why do you think certain parties speak more than others? Vice-versa, why do you think certain parties speak less than others?\n",
    "4. What ethical considerations should be taken into account when analyzing and interpreting data on parliamentary speeches?"
   ]
  },
  {
   "attachments": {},
   "cell_type": "markdown",
   "id": "2a8ec490",
   "metadata": {},
   "source": [
    "###  Topics of Importance\n",
    "We can also look at specific topics that are being addressed the most and vice versa, alongside a particular member of Parliament's topic."
   ]
  },
  {
   "cell_type": "code",
   "execution_count": 10,
   "id": "e843d156",
   "metadata": {},
   "outputs": [
    {
     "data": {
      "text/html": [
       "<div>\n",
       "<style scoped>\n",
       "    .dataframe tbody tr th:only-of-type {\n",
       "        vertical-align: middle;\n",
       "    }\n",
       "\n",
       "    .dataframe tbody tr th {\n",
       "        vertical-align: top;\n",
       "    }\n",
       "\n",
       "    .dataframe thead th {\n",
       "        text-align: right;\n",
       "    }\n",
       "</style>\n",
       "<table border=\"1\" class=\"dataframe\">\n",
       "  <thead>\n",
       "    <tr style=\"text-align: right;\">\n",
       "      <th></th>\n",
       "      <th>index</th>\n",
       "      <th>subtopic</th>\n",
       "      <th>count</th>\n",
       "    </tr>\n",
       "  </thead>\n",
       "  <tbody>\n",
       "    <tr>\n",
       "      <th>0</th>\n",
       "      <td>0</td>\n",
       "      <td>100th Anniversary of the Sainte-Thérèse Women'...</td>\n",
       "      <td>1</td>\n",
       "    </tr>\n",
       "    <tr>\n",
       "      <th>1</th>\n",
       "      <td>283</td>\n",
       "      <td>National Security and Intelligence Committee o...</td>\n",
       "      <td>1</td>\n",
       "    </tr>\n",
       "    <tr>\n",
       "      <th>2</th>\n",
       "      <td>282</td>\n",
       "      <td>National Internment Education Day</td>\n",
       "      <td>1</td>\n",
       "    </tr>\n",
       "    <tr>\n",
       "      <th>3</th>\n",
       "      <td>281</td>\n",
       "      <td>National Freshwater Strategy Act</td>\n",
       "      <td>1</td>\n",
       "    </tr>\n",
       "    <tr>\n",
       "      <th>4</th>\n",
       "      <td>279</td>\n",
       "      <td>National Football League</td>\n",
       "      <td>1</td>\n",
       "    </tr>\n",
       "    <tr>\n",
       "      <th>...</th>\n",
       "      <td>...</td>\n",
       "      <td>...</td>\n",
       "      <td>...</td>\n",
       "    </tr>\n",
       "    <tr>\n",
       "      <th>465</th>\n",
       "      <td>94</td>\n",
       "      <td>Citizenship Act</td>\n",
       "      <td>208</td>\n",
       "    </tr>\n",
       "    <tr>\n",
       "      <th>466</th>\n",
       "      <td>76</td>\n",
       "      <td>Canada-United States-Mexico Agreement Implemen...</td>\n",
       "      <td>286</td>\n",
       "    </tr>\n",
       "    <tr>\n",
       "      <th>467</th>\n",
       "      <td>361</td>\n",
       "      <td>Resumption of Debate on Address in Reply</td>\n",
       "      <td>325</td>\n",
       "    </tr>\n",
       "    <tr>\n",
       "      <th>468</th>\n",
       "      <td>114</td>\n",
       "      <td>Criminal Code</td>\n",
       "      <td>383</td>\n",
       "    </tr>\n",
       "    <tr>\n",
       "      <th>469</th>\n",
       "      <td>50</td>\n",
       "      <td>Business of Supply</td>\n",
       "      <td>395</td>\n",
       "    </tr>\n",
       "  </tbody>\n",
       "</table>\n",
       "<p>470 rows × 3 columns</p>\n",
       "</div>"
      ],
      "text/plain": [
       "     index                                           subtopic  count\n",
       "0        0  100th Anniversary of the Sainte-Thérèse Women'...      1\n",
       "1      283  National Security and Intelligence Committee o...      1\n",
       "2      282                  National Internment Education Day      1\n",
       "3      281                   National Freshwater Strategy Act      1\n",
       "4      279                           National Football League      1\n",
       "..     ...                                                ...    ...\n",
       "465     94                                    Citizenship Act    208\n",
       "466     76  Canada-United States-Mexico Agreement Implemen...    286\n",
       "467    361           Resumption of Debate on Address in Reply    325\n",
       "468    114                                      Criminal Code    383\n",
       "469     50                                 Business of Supply    395\n",
       "\n",
       "[470 rows x 3 columns]"
      ]
     },
     "metadata": {},
     "output_type": "display_data"
    }
   ],
   "source": [
    "hansard_topics = pd.DataFrame(hansard.groupby('subtopic')['subtopic'].aggregate('count').reset_index(name='count'))\n",
    "hansard_topics = hansard_topics.sort_values(by=['count']).reset_index()\n",
    "display(hansard_topics)"
   ]
  },
  {
   "attachments": {},
   "cell_type": "markdown",
   "id": "9230ded1",
   "metadata": {},
   "source": [
    "We can take a look at what the top 10 *most spoken* topics, alongside the top 10 *least spoken* topics at Parliament."
   ]
  },
  {
   "cell_type": "code",
   "execution_count": 11,
   "id": "b223c236",
   "metadata": {},
   "outputs": [
    {
     "data": {
      "application/vnd.plotly.v1+json": {
       "config": {
        "plotlyServerURL": "https://plot.ly"
       },
       "data": [
        {
         "alignmentgroup": "True",
         "hovertemplate": "count=%{marker.color}<br>Topic=%{y}<extra></extra>",
         "legendgroup": "",
         "marker": {
          "color": [
           133,
           145,
           165,
           189,
           204,
           208,
           286,
           325,
           383,
           395
          ],
          "coloraxis": "coloraxis",
          "pattern": {
           "shape": ""
          }
         },
         "name": "",
         "offsetgroup": "",
         "orientation": "h",
         "showlegend": false,
         "textposition": "auto",
         "type": "bar",
         "x": [
          133,
          145,
          165,
          189,
          204,
          208,
          286,
          325,
          383,
          395
         ],
         "xaxis": "x",
         "y": [
          "Canadian Dairy Commission Act",
          "Judges Act",
          "Broadcasting Act",
          "Petitions",
          "Health",
          "Citizenship Act",
          "Canada-United States-Mexico Agreement Implementation Act",
          "Resumption of Debate on Address in Reply",
          "Criminal Code",
          "Business of Supply"
         ],
         "yaxis": "y"
        }
       ],
       "layout": {
        "barmode": "relative",
        "coloraxis": {
         "colorbar": {
          "title": {
           "text": "count"
          }
         },
         "colorscale": [
          [
           0,
           "#0d0887"
          ],
          [
           0.1111111111111111,
           "#46039f"
          ],
          [
           0.2222222222222222,
           "#7201a8"
          ],
          [
           0.3333333333333333,
           "#9c179e"
          ],
          [
           0.4444444444444444,
           "#bd3786"
          ],
          [
           0.5555555555555556,
           "#d8576b"
          ],
          [
           0.6666666666666666,
           "#ed7953"
          ],
          [
           0.7777777777777778,
           "#fb9f3a"
          ],
          [
           0.8888888888888888,
           "#fdca26"
          ],
          [
           1,
           "#f0f921"
          ]
         ]
        },
        "legend": {
         "tracegroupgap": 0
        },
        "showlegend": false,
        "template": {
         "data": {
          "bar": [
           {
            "error_x": {
             "color": "#2a3f5f"
            },
            "error_y": {
             "color": "#2a3f5f"
            },
            "marker": {
             "line": {
              "color": "#E5ECF6",
              "width": 0.5
             },
             "pattern": {
              "fillmode": "overlay",
              "size": 10,
              "solidity": 0.2
             }
            },
            "type": "bar"
           }
          ],
          "barpolar": [
           {
            "marker": {
             "line": {
              "color": "#E5ECF6",
              "width": 0.5
             },
             "pattern": {
              "fillmode": "overlay",
              "size": 10,
              "solidity": 0.2
             }
            },
            "type": "barpolar"
           }
          ],
          "carpet": [
           {
            "aaxis": {
             "endlinecolor": "#2a3f5f",
             "gridcolor": "white",
             "linecolor": "white",
             "minorgridcolor": "white",
             "startlinecolor": "#2a3f5f"
            },
            "baxis": {
             "endlinecolor": "#2a3f5f",
             "gridcolor": "white",
             "linecolor": "white",
             "minorgridcolor": "white",
             "startlinecolor": "#2a3f5f"
            },
            "type": "carpet"
           }
          ],
          "choropleth": [
           {
            "colorbar": {
             "outlinewidth": 0,
             "ticks": ""
            },
            "type": "choropleth"
           }
          ],
          "contour": [
           {
            "colorbar": {
             "outlinewidth": 0,
             "ticks": ""
            },
            "colorscale": [
             [
              0,
              "#0d0887"
             ],
             [
              0.1111111111111111,
              "#46039f"
             ],
             [
              0.2222222222222222,
              "#7201a8"
             ],
             [
              0.3333333333333333,
              "#9c179e"
             ],
             [
              0.4444444444444444,
              "#bd3786"
             ],
             [
              0.5555555555555556,
              "#d8576b"
             ],
             [
              0.6666666666666666,
              "#ed7953"
             ],
             [
              0.7777777777777778,
              "#fb9f3a"
             ],
             [
              0.8888888888888888,
              "#fdca26"
             ],
             [
              1,
              "#f0f921"
             ]
            ],
            "type": "contour"
           }
          ],
          "contourcarpet": [
           {
            "colorbar": {
             "outlinewidth": 0,
             "ticks": ""
            },
            "type": "contourcarpet"
           }
          ],
          "heatmap": [
           {
            "colorbar": {
             "outlinewidth": 0,
             "ticks": ""
            },
            "colorscale": [
             [
              0,
              "#0d0887"
             ],
             [
              0.1111111111111111,
              "#46039f"
             ],
             [
              0.2222222222222222,
              "#7201a8"
             ],
             [
              0.3333333333333333,
              "#9c179e"
             ],
             [
              0.4444444444444444,
              "#bd3786"
             ],
             [
              0.5555555555555556,
              "#d8576b"
             ],
             [
              0.6666666666666666,
              "#ed7953"
             ],
             [
              0.7777777777777778,
              "#fb9f3a"
             ],
             [
              0.8888888888888888,
              "#fdca26"
             ],
             [
              1,
              "#f0f921"
             ]
            ],
            "type": "heatmap"
           }
          ],
          "heatmapgl": [
           {
            "colorbar": {
             "outlinewidth": 0,
             "ticks": ""
            },
            "colorscale": [
             [
              0,
              "#0d0887"
             ],
             [
              0.1111111111111111,
              "#46039f"
             ],
             [
              0.2222222222222222,
              "#7201a8"
             ],
             [
              0.3333333333333333,
              "#9c179e"
             ],
             [
              0.4444444444444444,
              "#bd3786"
             ],
             [
              0.5555555555555556,
              "#d8576b"
             ],
             [
              0.6666666666666666,
              "#ed7953"
             ],
             [
              0.7777777777777778,
              "#fb9f3a"
             ],
             [
              0.8888888888888888,
              "#fdca26"
             ],
             [
              1,
              "#f0f921"
             ]
            ],
            "type": "heatmapgl"
           }
          ],
          "histogram": [
           {
            "marker": {
             "pattern": {
              "fillmode": "overlay",
              "size": 10,
              "solidity": 0.2
             }
            },
            "type": "histogram"
           }
          ],
          "histogram2d": [
           {
            "colorbar": {
             "outlinewidth": 0,
             "ticks": ""
            },
            "colorscale": [
             [
              0,
              "#0d0887"
             ],
             [
              0.1111111111111111,
              "#46039f"
             ],
             [
              0.2222222222222222,
              "#7201a8"
             ],
             [
              0.3333333333333333,
              "#9c179e"
             ],
             [
              0.4444444444444444,
              "#bd3786"
             ],
             [
              0.5555555555555556,
              "#d8576b"
             ],
             [
              0.6666666666666666,
              "#ed7953"
             ],
             [
              0.7777777777777778,
              "#fb9f3a"
             ],
             [
              0.8888888888888888,
              "#fdca26"
             ],
             [
              1,
              "#f0f921"
             ]
            ],
            "type": "histogram2d"
           }
          ],
          "histogram2dcontour": [
           {
            "colorbar": {
             "outlinewidth": 0,
             "ticks": ""
            },
            "colorscale": [
             [
              0,
              "#0d0887"
             ],
             [
              0.1111111111111111,
              "#46039f"
             ],
             [
              0.2222222222222222,
              "#7201a8"
             ],
             [
              0.3333333333333333,
              "#9c179e"
             ],
             [
              0.4444444444444444,
              "#bd3786"
             ],
             [
              0.5555555555555556,
              "#d8576b"
             ],
             [
              0.6666666666666666,
              "#ed7953"
             ],
             [
              0.7777777777777778,
              "#fb9f3a"
             ],
             [
              0.8888888888888888,
              "#fdca26"
             ],
             [
              1,
              "#f0f921"
             ]
            ],
            "type": "histogram2dcontour"
           }
          ],
          "mesh3d": [
           {
            "colorbar": {
             "outlinewidth": 0,
             "ticks": ""
            },
            "type": "mesh3d"
           }
          ],
          "parcoords": [
           {
            "line": {
             "colorbar": {
              "outlinewidth": 0,
              "ticks": ""
             }
            },
            "type": "parcoords"
           }
          ],
          "pie": [
           {
            "automargin": true,
            "type": "pie"
           }
          ],
          "scatter": [
           {
            "fillpattern": {
             "fillmode": "overlay",
             "size": 10,
             "solidity": 0.2
            },
            "type": "scatter"
           }
          ],
          "scatter3d": [
           {
            "line": {
             "colorbar": {
              "outlinewidth": 0,
              "ticks": ""
             }
            },
            "marker": {
             "colorbar": {
              "outlinewidth": 0,
              "ticks": ""
             }
            },
            "type": "scatter3d"
           }
          ],
          "scattercarpet": [
           {
            "marker": {
             "colorbar": {
              "outlinewidth": 0,
              "ticks": ""
             }
            },
            "type": "scattercarpet"
           }
          ],
          "scattergeo": [
           {
            "marker": {
             "colorbar": {
              "outlinewidth": 0,
              "ticks": ""
             }
            },
            "type": "scattergeo"
           }
          ],
          "scattergl": [
           {
            "marker": {
             "colorbar": {
              "outlinewidth": 0,
              "ticks": ""
             }
            },
            "type": "scattergl"
           }
          ],
          "scattermapbox": [
           {
            "marker": {
             "colorbar": {
              "outlinewidth": 0,
              "ticks": ""
             }
            },
            "type": "scattermapbox"
           }
          ],
          "scatterpolar": [
           {
            "marker": {
             "colorbar": {
              "outlinewidth": 0,
              "ticks": ""
             }
            },
            "type": "scatterpolar"
           }
          ],
          "scatterpolargl": [
           {
            "marker": {
             "colorbar": {
              "outlinewidth": 0,
              "ticks": ""
             }
            },
            "type": "scatterpolargl"
           }
          ],
          "scatterternary": [
           {
            "marker": {
             "colorbar": {
              "outlinewidth": 0,
              "ticks": ""
             }
            },
            "type": "scatterternary"
           }
          ],
          "surface": [
           {
            "colorbar": {
             "outlinewidth": 0,
             "ticks": ""
            },
            "colorscale": [
             [
              0,
              "#0d0887"
             ],
             [
              0.1111111111111111,
              "#46039f"
             ],
             [
              0.2222222222222222,
              "#7201a8"
             ],
             [
              0.3333333333333333,
              "#9c179e"
             ],
             [
              0.4444444444444444,
              "#bd3786"
             ],
             [
              0.5555555555555556,
              "#d8576b"
             ],
             [
              0.6666666666666666,
              "#ed7953"
             ],
             [
              0.7777777777777778,
              "#fb9f3a"
             ],
             [
              0.8888888888888888,
              "#fdca26"
             ],
             [
              1,
              "#f0f921"
             ]
            ],
            "type": "surface"
           }
          ],
          "table": [
           {
            "cells": {
             "fill": {
              "color": "#EBF0F8"
             },
             "line": {
              "color": "white"
             }
            },
            "header": {
             "fill": {
              "color": "#C8D4E3"
             },
             "line": {
              "color": "white"
             }
            },
            "type": "table"
           }
          ]
         },
         "layout": {
          "annotationdefaults": {
           "arrowcolor": "#2a3f5f",
           "arrowhead": 0,
           "arrowwidth": 1
          },
          "autotypenumbers": "strict",
          "coloraxis": {
           "colorbar": {
            "outlinewidth": 0,
            "ticks": ""
           }
          },
          "colorscale": {
           "diverging": [
            [
             0,
             "#8e0152"
            ],
            [
             0.1,
             "#c51b7d"
            ],
            [
             0.2,
             "#de77ae"
            ],
            [
             0.3,
             "#f1b6da"
            ],
            [
             0.4,
             "#fde0ef"
            ],
            [
             0.5,
             "#f7f7f7"
            ],
            [
             0.6,
             "#e6f5d0"
            ],
            [
             0.7,
             "#b8e186"
            ],
            [
             0.8,
             "#7fbc41"
            ],
            [
             0.9,
             "#4d9221"
            ],
            [
             1,
             "#276419"
            ]
           ],
           "sequential": [
            [
             0,
             "#0d0887"
            ],
            [
             0.1111111111111111,
             "#46039f"
            ],
            [
             0.2222222222222222,
             "#7201a8"
            ],
            [
             0.3333333333333333,
             "#9c179e"
            ],
            [
             0.4444444444444444,
             "#bd3786"
            ],
            [
             0.5555555555555556,
             "#d8576b"
            ],
            [
             0.6666666666666666,
             "#ed7953"
            ],
            [
             0.7777777777777778,
             "#fb9f3a"
            ],
            [
             0.8888888888888888,
             "#fdca26"
            ],
            [
             1,
             "#f0f921"
            ]
           ],
           "sequentialminus": [
            [
             0,
             "#0d0887"
            ],
            [
             0.1111111111111111,
             "#46039f"
            ],
            [
             0.2222222222222222,
             "#7201a8"
            ],
            [
             0.3333333333333333,
             "#9c179e"
            ],
            [
             0.4444444444444444,
             "#bd3786"
            ],
            [
             0.5555555555555556,
             "#d8576b"
            ],
            [
             0.6666666666666666,
             "#ed7953"
            ],
            [
             0.7777777777777778,
             "#fb9f3a"
            ],
            [
             0.8888888888888888,
             "#fdca26"
            ],
            [
             1,
             "#f0f921"
            ]
           ]
          },
          "colorway": [
           "#636efa",
           "#EF553B",
           "#00cc96",
           "#ab63fa",
           "#FFA15A",
           "#19d3f3",
           "#FF6692",
           "#B6E880",
           "#FF97FF",
           "#FECB52"
          ],
          "font": {
           "color": "#2a3f5f"
          },
          "geo": {
           "bgcolor": "white",
           "lakecolor": "white",
           "landcolor": "#E5ECF6",
           "showlakes": true,
           "showland": true,
           "subunitcolor": "white"
          },
          "hoverlabel": {
           "align": "left"
          },
          "hovermode": "closest",
          "mapbox": {
           "style": "light"
          },
          "paper_bgcolor": "white",
          "plot_bgcolor": "#E5ECF6",
          "polar": {
           "angularaxis": {
            "gridcolor": "white",
            "linecolor": "white",
            "ticks": ""
           },
           "bgcolor": "#E5ECF6",
           "radialaxis": {
            "gridcolor": "white",
            "linecolor": "white",
            "ticks": ""
           }
          },
          "scene": {
           "xaxis": {
            "backgroundcolor": "#E5ECF6",
            "gridcolor": "white",
            "gridwidth": 2,
            "linecolor": "white",
            "showbackground": true,
            "ticks": "",
            "zerolinecolor": "white"
           },
           "yaxis": {
            "backgroundcolor": "#E5ECF6",
            "gridcolor": "white",
            "gridwidth": 2,
            "linecolor": "white",
            "showbackground": true,
            "ticks": "",
            "zerolinecolor": "white"
           },
           "zaxis": {
            "backgroundcolor": "#E5ECF6",
            "gridcolor": "white",
            "gridwidth": 2,
            "linecolor": "white",
            "showbackground": true,
            "ticks": "",
            "zerolinecolor": "white"
           }
          },
          "shapedefaults": {
           "line": {
            "color": "#2a3f5f"
           }
          },
          "ternary": {
           "aaxis": {
            "gridcolor": "white",
            "linecolor": "white",
            "ticks": ""
           },
           "baxis": {
            "gridcolor": "white",
            "linecolor": "white",
            "ticks": ""
           },
           "bgcolor": "#E5ECF6",
           "caxis": {
            "gridcolor": "white",
            "linecolor": "white",
            "ticks": ""
           }
          },
          "title": {
           "x": 0.05
          },
          "xaxis": {
           "automargin": true,
           "gridcolor": "white",
           "linecolor": "white",
           "ticks": "",
           "title": {
            "standoff": 15
           },
           "zerolinecolor": "white",
           "zerolinewidth": 2
          },
          "yaxis": {
           "automargin": true,
           "gridcolor": "white",
           "linecolor": "white",
           "ticks": "",
           "title": {
            "standoff": 15
           },
           "zerolinecolor": "white",
           "zerolinewidth": 2
          }
         }
        },
        "title": {
         "text": "Top 10 Topics spoken in Parliament"
        },
        "xaxis": {
         "anchor": "y",
         "domain": [
          0,
          1
         ],
         "title": {
          "text": "count"
         }
        },
        "yaxis": {
         "anchor": "x",
         "domain": [
          0,
          1
         ],
         "title": {}
        }
       }
      }
     },
     "metadata": {},
     "output_type": "display_data"
    },
    {
     "data": {
      "application/vnd.plotly.v1+json": {
       "config": {
        "plotlyServerURL": "https://plot.ly"
       },
       "data": [
        {
         "alignmentgroup": "True",
         "hovertemplate": "count=%{x}<br>Topic=%{y}<extra></extra>",
         "legendgroup": "",
         "marker": {
          "color": "#636efa",
          "pattern": {
           "shape": ""
          }
         },
         "name": "",
         "offsetgroup": "",
         "orientation": "h",
         "showlegend": false,
         "textposition": "auto",
         "type": "bar",
         "x": [
          1,
          1,
          1,
          1,
          1,
          1,
          1,
          1,
          1,
          1
         ],
         "xaxis": "x",
         "y": [
          "100th Anniversary of the Sainte-Thérèse Women's Organization",
          "National Security and Intelligence Committee of Parliamentarians",
          "National Internment Education Day",
          "National Freshwater Strategy Act",
          "National Football League",
          "National Defence Act",
          "National Caregiver Week",
          "Nagorno-Karabakh Region",
          "Métis Week",
          "Murray Drudge"
         ],
         "yaxis": "y"
        }
       ],
       "layout": {
        "barmode": "relative",
        "legend": {
         "tracegroupgap": 0
        },
        "showlegend": false,
        "template": {
         "data": {
          "bar": [
           {
            "error_x": {
             "color": "#2a3f5f"
            },
            "error_y": {
             "color": "#2a3f5f"
            },
            "marker": {
             "line": {
              "color": "#E5ECF6",
              "width": 0.5
             },
             "pattern": {
              "fillmode": "overlay",
              "size": 10,
              "solidity": 0.2
             }
            },
            "type": "bar"
           }
          ],
          "barpolar": [
           {
            "marker": {
             "line": {
              "color": "#E5ECF6",
              "width": 0.5
             },
             "pattern": {
              "fillmode": "overlay",
              "size": 10,
              "solidity": 0.2
             }
            },
            "type": "barpolar"
           }
          ],
          "carpet": [
           {
            "aaxis": {
             "endlinecolor": "#2a3f5f",
             "gridcolor": "white",
             "linecolor": "white",
             "minorgridcolor": "white",
             "startlinecolor": "#2a3f5f"
            },
            "baxis": {
             "endlinecolor": "#2a3f5f",
             "gridcolor": "white",
             "linecolor": "white",
             "minorgridcolor": "white",
             "startlinecolor": "#2a3f5f"
            },
            "type": "carpet"
           }
          ],
          "choropleth": [
           {
            "colorbar": {
             "outlinewidth": 0,
             "ticks": ""
            },
            "type": "choropleth"
           }
          ],
          "contour": [
           {
            "colorbar": {
             "outlinewidth": 0,
             "ticks": ""
            },
            "colorscale": [
             [
              0,
              "#0d0887"
             ],
             [
              0.1111111111111111,
              "#46039f"
             ],
             [
              0.2222222222222222,
              "#7201a8"
             ],
             [
              0.3333333333333333,
              "#9c179e"
             ],
             [
              0.4444444444444444,
              "#bd3786"
             ],
             [
              0.5555555555555556,
              "#d8576b"
             ],
             [
              0.6666666666666666,
              "#ed7953"
             ],
             [
              0.7777777777777778,
              "#fb9f3a"
             ],
             [
              0.8888888888888888,
              "#fdca26"
             ],
             [
              1,
              "#f0f921"
             ]
            ],
            "type": "contour"
           }
          ],
          "contourcarpet": [
           {
            "colorbar": {
             "outlinewidth": 0,
             "ticks": ""
            },
            "type": "contourcarpet"
           }
          ],
          "heatmap": [
           {
            "colorbar": {
             "outlinewidth": 0,
             "ticks": ""
            },
            "colorscale": [
             [
              0,
              "#0d0887"
             ],
             [
              0.1111111111111111,
              "#46039f"
             ],
             [
              0.2222222222222222,
              "#7201a8"
             ],
             [
              0.3333333333333333,
              "#9c179e"
             ],
             [
              0.4444444444444444,
              "#bd3786"
             ],
             [
              0.5555555555555556,
              "#d8576b"
             ],
             [
              0.6666666666666666,
              "#ed7953"
             ],
             [
              0.7777777777777778,
              "#fb9f3a"
             ],
             [
              0.8888888888888888,
              "#fdca26"
             ],
             [
              1,
              "#f0f921"
             ]
            ],
            "type": "heatmap"
           }
          ],
          "heatmapgl": [
           {
            "colorbar": {
             "outlinewidth": 0,
             "ticks": ""
            },
            "colorscale": [
             [
              0,
              "#0d0887"
             ],
             [
              0.1111111111111111,
              "#46039f"
             ],
             [
              0.2222222222222222,
              "#7201a8"
             ],
             [
              0.3333333333333333,
              "#9c179e"
             ],
             [
              0.4444444444444444,
              "#bd3786"
             ],
             [
              0.5555555555555556,
              "#d8576b"
             ],
             [
              0.6666666666666666,
              "#ed7953"
             ],
             [
              0.7777777777777778,
              "#fb9f3a"
             ],
             [
              0.8888888888888888,
              "#fdca26"
             ],
             [
              1,
              "#f0f921"
             ]
            ],
            "type": "heatmapgl"
           }
          ],
          "histogram": [
           {
            "marker": {
             "pattern": {
              "fillmode": "overlay",
              "size": 10,
              "solidity": 0.2
             }
            },
            "type": "histogram"
           }
          ],
          "histogram2d": [
           {
            "colorbar": {
             "outlinewidth": 0,
             "ticks": ""
            },
            "colorscale": [
             [
              0,
              "#0d0887"
             ],
             [
              0.1111111111111111,
              "#46039f"
             ],
             [
              0.2222222222222222,
              "#7201a8"
             ],
             [
              0.3333333333333333,
              "#9c179e"
             ],
             [
              0.4444444444444444,
              "#bd3786"
             ],
             [
              0.5555555555555556,
              "#d8576b"
             ],
             [
              0.6666666666666666,
              "#ed7953"
             ],
             [
              0.7777777777777778,
              "#fb9f3a"
             ],
             [
              0.8888888888888888,
              "#fdca26"
             ],
             [
              1,
              "#f0f921"
             ]
            ],
            "type": "histogram2d"
           }
          ],
          "histogram2dcontour": [
           {
            "colorbar": {
             "outlinewidth": 0,
             "ticks": ""
            },
            "colorscale": [
             [
              0,
              "#0d0887"
             ],
             [
              0.1111111111111111,
              "#46039f"
             ],
             [
              0.2222222222222222,
              "#7201a8"
             ],
             [
              0.3333333333333333,
              "#9c179e"
             ],
             [
              0.4444444444444444,
              "#bd3786"
             ],
             [
              0.5555555555555556,
              "#d8576b"
             ],
             [
              0.6666666666666666,
              "#ed7953"
             ],
             [
              0.7777777777777778,
              "#fb9f3a"
             ],
             [
              0.8888888888888888,
              "#fdca26"
             ],
             [
              1,
              "#f0f921"
             ]
            ],
            "type": "histogram2dcontour"
           }
          ],
          "mesh3d": [
           {
            "colorbar": {
             "outlinewidth": 0,
             "ticks": ""
            },
            "type": "mesh3d"
           }
          ],
          "parcoords": [
           {
            "line": {
             "colorbar": {
              "outlinewidth": 0,
              "ticks": ""
             }
            },
            "type": "parcoords"
           }
          ],
          "pie": [
           {
            "automargin": true,
            "type": "pie"
           }
          ],
          "scatter": [
           {
            "fillpattern": {
             "fillmode": "overlay",
             "size": 10,
             "solidity": 0.2
            },
            "type": "scatter"
           }
          ],
          "scatter3d": [
           {
            "line": {
             "colorbar": {
              "outlinewidth": 0,
              "ticks": ""
             }
            },
            "marker": {
             "colorbar": {
              "outlinewidth": 0,
              "ticks": ""
             }
            },
            "type": "scatter3d"
           }
          ],
          "scattercarpet": [
           {
            "marker": {
             "colorbar": {
              "outlinewidth": 0,
              "ticks": ""
             }
            },
            "type": "scattercarpet"
           }
          ],
          "scattergeo": [
           {
            "marker": {
             "colorbar": {
              "outlinewidth": 0,
              "ticks": ""
             }
            },
            "type": "scattergeo"
           }
          ],
          "scattergl": [
           {
            "marker": {
             "colorbar": {
              "outlinewidth": 0,
              "ticks": ""
             }
            },
            "type": "scattergl"
           }
          ],
          "scattermapbox": [
           {
            "marker": {
             "colorbar": {
              "outlinewidth": 0,
              "ticks": ""
             }
            },
            "type": "scattermapbox"
           }
          ],
          "scatterpolar": [
           {
            "marker": {
             "colorbar": {
              "outlinewidth": 0,
              "ticks": ""
             }
            },
            "type": "scatterpolar"
           }
          ],
          "scatterpolargl": [
           {
            "marker": {
             "colorbar": {
              "outlinewidth": 0,
              "ticks": ""
             }
            },
            "type": "scatterpolargl"
           }
          ],
          "scatterternary": [
           {
            "marker": {
             "colorbar": {
              "outlinewidth": 0,
              "ticks": ""
             }
            },
            "type": "scatterternary"
           }
          ],
          "surface": [
           {
            "colorbar": {
             "outlinewidth": 0,
             "ticks": ""
            },
            "colorscale": [
             [
              0,
              "#0d0887"
             ],
             [
              0.1111111111111111,
              "#46039f"
             ],
             [
              0.2222222222222222,
              "#7201a8"
             ],
             [
              0.3333333333333333,
              "#9c179e"
             ],
             [
              0.4444444444444444,
              "#bd3786"
             ],
             [
              0.5555555555555556,
              "#d8576b"
             ],
             [
              0.6666666666666666,
              "#ed7953"
             ],
             [
              0.7777777777777778,
              "#fb9f3a"
             ],
             [
              0.8888888888888888,
              "#fdca26"
             ],
             [
              1,
              "#f0f921"
             ]
            ],
            "type": "surface"
           }
          ],
          "table": [
           {
            "cells": {
             "fill": {
              "color": "#EBF0F8"
             },
             "line": {
              "color": "white"
             }
            },
            "header": {
             "fill": {
              "color": "#C8D4E3"
             },
             "line": {
              "color": "white"
             }
            },
            "type": "table"
           }
          ]
         },
         "layout": {
          "annotationdefaults": {
           "arrowcolor": "#2a3f5f",
           "arrowhead": 0,
           "arrowwidth": 1
          },
          "autotypenumbers": "strict",
          "coloraxis": {
           "colorbar": {
            "outlinewidth": 0,
            "ticks": ""
           }
          },
          "colorscale": {
           "diverging": [
            [
             0,
             "#8e0152"
            ],
            [
             0.1,
             "#c51b7d"
            ],
            [
             0.2,
             "#de77ae"
            ],
            [
             0.3,
             "#f1b6da"
            ],
            [
             0.4,
             "#fde0ef"
            ],
            [
             0.5,
             "#f7f7f7"
            ],
            [
             0.6,
             "#e6f5d0"
            ],
            [
             0.7,
             "#b8e186"
            ],
            [
             0.8,
             "#7fbc41"
            ],
            [
             0.9,
             "#4d9221"
            ],
            [
             1,
             "#276419"
            ]
           ],
           "sequential": [
            [
             0,
             "#0d0887"
            ],
            [
             0.1111111111111111,
             "#46039f"
            ],
            [
             0.2222222222222222,
             "#7201a8"
            ],
            [
             0.3333333333333333,
             "#9c179e"
            ],
            [
             0.4444444444444444,
             "#bd3786"
            ],
            [
             0.5555555555555556,
             "#d8576b"
            ],
            [
             0.6666666666666666,
             "#ed7953"
            ],
            [
             0.7777777777777778,
             "#fb9f3a"
            ],
            [
             0.8888888888888888,
             "#fdca26"
            ],
            [
             1,
             "#f0f921"
            ]
           ],
           "sequentialminus": [
            [
             0,
             "#0d0887"
            ],
            [
             0.1111111111111111,
             "#46039f"
            ],
            [
             0.2222222222222222,
             "#7201a8"
            ],
            [
             0.3333333333333333,
             "#9c179e"
            ],
            [
             0.4444444444444444,
             "#bd3786"
            ],
            [
             0.5555555555555556,
             "#d8576b"
            ],
            [
             0.6666666666666666,
             "#ed7953"
            ],
            [
             0.7777777777777778,
             "#fb9f3a"
            ],
            [
             0.8888888888888888,
             "#fdca26"
            ],
            [
             1,
             "#f0f921"
            ]
           ]
          },
          "colorway": [
           "#636efa",
           "#EF553B",
           "#00cc96",
           "#ab63fa",
           "#FFA15A",
           "#19d3f3",
           "#FF6692",
           "#B6E880",
           "#FF97FF",
           "#FECB52"
          ],
          "font": {
           "color": "#2a3f5f"
          },
          "geo": {
           "bgcolor": "white",
           "lakecolor": "white",
           "landcolor": "#E5ECF6",
           "showlakes": true,
           "showland": true,
           "subunitcolor": "white"
          },
          "hoverlabel": {
           "align": "left"
          },
          "hovermode": "closest",
          "mapbox": {
           "style": "light"
          },
          "paper_bgcolor": "white",
          "plot_bgcolor": "#E5ECF6",
          "polar": {
           "angularaxis": {
            "gridcolor": "white",
            "linecolor": "white",
            "ticks": ""
           },
           "bgcolor": "#E5ECF6",
           "radialaxis": {
            "gridcolor": "white",
            "linecolor": "white",
            "ticks": ""
           }
          },
          "scene": {
           "xaxis": {
            "backgroundcolor": "#E5ECF6",
            "gridcolor": "white",
            "gridwidth": 2,
            "linecolor": "white",
            "showbackground": true,
            "ticks": "",
            "zerolinecolor": "white"
           },
           "yaxis": {
            "backgroundcolor": "#E5ECF6",
            "gridcolor": "white",
            "gridwidth": 2,
            "linecolor": "white",
            "showbackground": true,
            "ticks": "",
            "zerolinecolor": "white"
           },
           "zaxis": {
            "backgroundcolor": "#E5ECF6",
            "gridcolor": "white",
            "gridwidth": 2,
            "linecolor": "white",
            "showbackground": true,
            "ticks": "",
            "zerolinecolor": "white"
           }
          },
          "shapedefaults": {
           "line": {
            "color": "#2a3f5f"
           }
          },
          "ternary": {
           "aaxis": {
            "gridcolor": "white",
            "linecolor": "white",
            "ticks": ""
           },
           "baxis": {
            "gridcolor": "white",
            "linecolor": "white",
            "ticks": ""
           },
           "bgcolor": "#E5ECF6",
           "caxis": {
            "gridcolor": "white",
            "linecolor": "white",
            "ticks": ""
           }
          },
          "title": {
           "x": 0.05
          },
          "xaxis": {
           "automargin": true,
           "gridcolor": "white",
           "linecolor": "white",
           "ticks": "",
           "title": {
            "standoff": 15
           },
           "zerolinecolor": "white",
           "zerolinewidth": 2
          },
          "yaxis": {
           "automargin": true,
           "gridcolor": "white",
           "linecolor": "white",
           "ticks": "",
           "title": {
            "standoff": 15
           },
           "zerolinecolor": "white",
           "zerolinewidth": 2
          }
         }
        },
        "title": {
         "text": "Bottom 10 Topics spoken in Parliament"
        },
        "xaxis": {
         "anchor": "y",
         "domain": [
          0,
          1
         ],
         "title": {
          "text": "count"
         }
        },
        "yaxis": {
         "anchor": "x",
         "domain": [
          0,
          1
         ],
         "title": {}
        }
       }
      }
     },
     "metadata": {},
     "output_type": "display_data"
    }
   ],
   "source": [
    "top_10_fig = px.bar(hansard_topics.tail(10), title=\"Top 10 Topics spoken in Parliament\", y=\"subtopic\", x=\"count\", labels={'subtopic': \"Topic\"}, orientation='h', color='count')\n",
    "top_10_fig.update_layout(showlegend=False).update_layout(yaxis_title=None).show()\n",
    "\n",
    "bot_10_fig = px.bar(hansard_topics.head(10), title=\"Bottom 10 Topics spoken in Parliament\", y=\"subtopic\", x=\"count\", labels={'subtopic': \"Topic\"}, orientation='h')\n",
    "bot_10_fig.update_layout(showlegend=False).update_layout(yaxis_title=None).show()"
   ]
  },
  {
   "attachments": {},
   "cell_type": "markdown",
   "id": "086d4fbe",
   "metadata": {},
   "source": [
    "Looking at both bar charts, are certain topics *not* being addressed as much? Vice-versa, are certain topics you think are being addressed too often?"
   ]
  },
  {
   "attachments": {},
   "cell_type": "markdown",
   "id": "80513df8",
   "metadata": {},
   "source": [
    "We can also look at which *members of Parliament* speak on topics that you find *important*. In the cell below, input different `subtopic` names in the cell below and see which members of Parliament talk about your particular topic!"
   ]
  },
  {
   "cell_type": "code",
   "execution_count": 12,
   "id": "108379d3",
   "metadata": {},
   "outputs": [
    {
     "name": "stdout",
     "output_type": "stream",
     "text": [
      "[\"100th Anniversary of the Sainte-Thérèse Women's Organization\"\n",
      " 'National Security and Intelligence Committee of Parliamentarians'\n",
      " 'National Internment Education Day' 'National Freshwater Strategy Act'\n",
      " 'National Football League' 'National Defence Act'\n",
      " 'National Caregiver Week' 'Nagorno-Karabakh Region' 'Métis Week'\n",
      " 'Murray Drudge' 'Movember'\n",
      " 'Montreal Island North Health and Social Services Centre'\n",
      " 'Model United Nations' 'Moby Bukhari' 'Mississauga Food Bank'\n",
      " 'Missing and Murdered Indigenous Women and Girls' 'Mining Industry'\n",
      " 'Micah Messent' 'Meteorological Service of Canada'\n",
      " 'Mental Illness Awareness Week' 'National Volunteer Week'\n",
      " 'Navigable Waters Act' 'Navratri' 'Nelly Dubourg' 'Order of Canada'\n",
      " 'Opioids' 'Opening of Session' 'Ontario By-elections' 'Old Age Security'\n",
      " 'Okill Stuart' 'Okanagan Nation Alliance'\n",
      " 'Office of the Correctional Investigator' 'Oaths of Office'\n",
      " 'Member for Yukon' 'OCHL Volunteer' 'Nowruz' 'Nobel Prize Winner'\n",
      " 'No. 2 Construction Battalion' 'Nicole Jacques' 'Nick Taylor'\n",
      " 'Niagara Ports Trade Corridor' 'Newmarket Business Excellence Awards'\n",
      " 'Newfoundland and Labrador Snowstorm' 'New Brunswick' 'Nuclear Industry'\n",
      " 'Meadow Lake Lions Club' 'Maxie Plante' 'Marie-Paule Gaudreau'\n",
      " 'Jock Osler' 'Joan Carr' 'Jeanette Runciman' 'Jean Beauchesne'\n",
      " 'Jack Moran' 'Interprovincial Trade' 'Internet Service'\n",
      " 'International Volunteer Day' 'International Day of the Girl Child'\n",
      " 'Joe Cheaib' 'International Day of Women and Girls in Science'\n",
      " 'Inter-Parliamentary Task Force to Combat Online Anti-Semitism'\n",
      " 'Information Commissioner' 'Indigenous Disability Awareness Month'\n",
      " 'Independent Travel Advisers' 'I Read Canadian Day'\n",
      " 'Housing in Hochelaga' 'House of Commons'\n",
      " 'Hospice of Windsor Essex County' 'Hooked on School Days'\n",
      " 'Inter-Parliamentary Union' 'Orleans Youth Council'\n",
      " 'John Pritchard School'\n",
      " 'Kamouraska Community Futures Development Corporation' 'Marie Lauzon'\n",
      " 'Marc-Aurèle-Fortin' 'Manitoba COVID-19 Response' 'Macadam Sud'\n",
      " 'Lunar New Year' 'Louis Riel Day' 'Lou Marsh Award'\n",
      " 'Longueuil Traditional Christmas Market and Fair'\n",
      " 'Long-Term Care Facilities' 'Jude Strickland' 'Local Legion Halls'\n",
      " 'Le Book Humanitaire Community Organization' 'Larry Spilak'\n",
      " 'Langley Senior Resources Society' 'Langar' 'Lake Simcoe Cleanup Fund'\n",
      " 'Kobe and Gianna Bryant' 'Kitchener-Waterloo Symphony'\n",
      " 'Kinsmen Telemiracle' 'Kids for a Cure' 'Local Journalism'\n",
      " 'Orléans Business Community' 'Ottawa South'\n",
      " 'Our Global Village Charitable Foundation' \"Valentine's Day\" 'Vacancies'\n",
      " 'Urban Planning'\n",
      " 'United Nations Declaration on the Rights of Indigenous Peoples Act'\n",
      " 'Union of Canadian Correctional Officers'\n",
      " 'Ukraine International Airlines Flight PS752'\n",
      " 'Ukraine International Airlines Flight 752'\n",
      " 'Tk’emlups te Secwepemc Infrastructure Project' 'Tibet'\n",
      " 'Vaughan Food Bank' 'The Salvation Army'\n",
      " \"The Holiday Season in Montmagny—L'Islet—Kamouraska—Rivière-du-Loup\"\n",
      " 'The Holiday Season in Argenteuil—La Petite-Nation' 'The French Language'\n",
      " 'Thanksgiving' 'Terry Fox Run' 'Tampon Tuesday' 'Tamil Heritage Month'\n",
      " 'Sukkot' 'Suicide' 'The Opioid Crisis'\n",
      " 'Sudbury Secondary School Achievements' 'Violence Against Women'\n",
      " 'Volunteerism' 'YWCA Women of Distinction Awards'\n",
      " 'World Interfaith Harmony Week' 'World Food Programme' 'World Egg Day'\n",
      " \"Women's Support Centre\" \"Women's Executive Network Award Winner\"\n",
      " 'Women of Brossard—Saint-Lambert' 'Women in the Armed Forces'\n",
      " 'Women in Agriculture' 'Visually Impaired Canadians'\n",
      " 'Winston Churchill Parker' 'Windsor International Film Festival'\n",
      " 'William Hall Ship Dedication' 'Western Canadian History'\n",
      " 'West Island Community Groups' 'Wardens of Bruce and Grey Counties'\n",
      " 'WISH Drop-In Centre' 'Votes by Video Conference'\n",
      " 'Volunteerism in Toronto—Danforth'\n",
      " 'Volunteerism in Stormont—Dundas—South Glengarry' 'Winnipeg North'\n",
      " 'Homelessness in Victoria' 'Sri Lanka' 'Sonia Poirier'\n",
      " 'Residential Schools' 'René Lafranchise' 'Remembrance Day'\n",
      " 'Recovery of World War II Bomber' 'Rail Crisis' 'RCMP Heritage Centre'\n",
      " 'Quebec Film Festival' 'Quebec' 'Pure Art Foundation'\n",
      " 'Richmond Christmas Fund' 'Public Sector Integrity Commissioner'\n",
      " \"Private Members' Business\" 'Political Prisoners'\n",
      " 'Polar Icebreaker Shipbuilding' 'Pictou County Hero'\n",
      " 'Petrochemical Industry' 'Paul Quirk' \"Parkinson's Disease\"\n",
      " 'Palliative Care' 'Oxi Day' 'Public Accounts of Canada'\n",
      " 'Sound Quality and Interpretation in House Proceedings'\n",
      " 'Riding of Beauport—Limoilou' 'Robert Peterson'\n",
      " 'Snowmobile Accident in Lac-Saint-Jean' 'Smiling Land Farm'\n",
      " 'Single Game Sports Betting' 'Shirley Judge'\n",
      " 'Shipbuilding Program for African Nova Scotians' 'Shawn Panesar'\n",
      " 'Sexual and Reproductive Health Services'\n",
      " 'Sexual Assault Centre of Edmonton' \"Season's Greetings\"\n",
      " 'Rights of Indigenous Peoples' 'Search for Missing Woman'\n",
      " 'Scotties Tournament of Hearts' 'School Food Program for Children Act'\n",
      " 'Saskatoon Tribal Council Election' 'Saskatchewan Provincial Election'\n",
      " 'Réginald Bélair' 'Ruth Brewer' 'Romain Giguère' 'Roger Nugent'\n",
      " 'Roger Dubois' \"Seamus O'Regan Sr.\" 'Homelessness' 'Kin Canada'\n",
      " 'Holiday Season' 'Coldest Night of the Year Walk'\n",
      " 'Closing of Bank Branch' 'Châteauguay Community Association'\n",
      " 'Christmas Greetings' 'Christie Blatchford' 'Chief Electoral Officer'\n",
      " 'Chemical Weapons Convention Implementation Act' 'Chantignole School'\n",
      " 'Carbon Pricing' 'Canadian Workers' 'Canadian Walk for Veterans'\n",
      " 'Canadian Federation of University Women Georgetown Chapter'\n",
      " 'Canadian Citizenship' 'Canadian Academic' 'Canada-Taiwan Relations'\n",
      " 'Canada Post Corporation Act' 'Canada Elections Act' 'Colleen Mason'\n",
      " 'Canada' 'Commander of 2 Canadian Forces Flying Training School'\n",
      " 'Commissioner of the Environment and Sustainable Development'\n",
      " 'Eid Milad un Nabi' 'Edward McCloskey, RCAF' 'Edgar Gallant'\n",
      " 'Dylan Delaury' 'Domestic Violence in Saskatchewan' 'Diwali'\n",
      " 'Defibrillators' 'Dave Smith' 'Culture' 'Coronavirus'\n",
      " 'Coquitlam Small Business' 'Conservative Party of Canada'\n",
      " 'Congenital Heart Disease' 'Community Support in Surrey'\n",
      " 'Community Support in Markham—Stouffville'\n",
      " 'Community Support Organization'\n",
      " 'Community Organizations in Vaudreuil—Soulanges'\n",
      " 'Commissioner of Lobbying' 'Employment Insurance Act'\n",
      " 'Campobello Ferry Service' 'Cadet Corps' 'Anti-Armenian Pogroms'\n",
      " 'Amicitia France-Canada Monument' 'Allan Pace' 'Alex Trebek'\n",
      " 'Alcohol Education Campaign' 'Al Gardner' 'Agriculture in Alberta'\n",
      " 'Aerospace Industry' 'Access to Information' 'ADISQ Gala' '4-H Canada'\n",
      " '2022 Quebec Games' '2020 U.S. Election'\n",
      " '2020 Report on Federal Tax Expenditures'\n",
      " '2020 Pléiades Awards of Excellence' '2020 Ontario Curling Championships'\n",
      " '2010 Olympic and Paralympic Games' 'Antoinette Scarano' \"Cam's Kids\"\n",
      " 'Armenia' 'Award of Distinction' 'COVID-19 Economic Recovery Act'\n",
      " 'COVID-19 Community Response' 'COVID-19'\n",
      " 'Businesses in Vaudreuil-Soulanges' 'Bravery' 'Brandon Bassi'\n",
      " 'Board of Internal Economy' 'Black Entrepreneurship' 'Black Community'\n",
      " 'Black Business Initiative' 'Birthday Congratulations'\n",
      " 'Beatrice Moreira-Laidlow' 'Baseball Hall of Famer'\n",
      " 'Bankruptcy and Insolvency Act' 'B.C. Wine Industry' 'B.C. Film Industry'\n",
      " 'Awards Gala Sponsored by by Rivière-des-Mille-Îles MP' 'Art Enns'\n",
      " 'Energy Industry' \"Éduc'alcool Organization\" 'First Responders'\n",
      " \"Gatineau's Local Economy\" 'Fred Sasakamoose' 'Frank Monteiro'\n",
      " 'Greater Sudbury Police Service' 'Felicidades Joseph' 'Hanukkah'\n",
      " 'Fight Against COVID-19 in Lévis—Lotbinière' 'High Technology in Kanata'\n",
      " 'Gurpurab' 'Fight Against COVID-19 in Portneuf—Jacques-Cartier'\n",
      " 'Franco-Ontarian Day' 'Firefighting in Australia' 'Green Party of Canada'\n",
      " 'Government Consultation' 'Firearms' 'Financial Administration Act'\n",
      " 'Financial Literacy Month' 'Fire Prevention Week' 'Health of Animals Act'\n",
      " 'GNL Québec Project' 'FedDev Ontario' 'Fundraising for Rare Disease'\n",
      " 'Halloween' 'Exporail' 'HIV-AIDS Self-Testing' 'Expropriation Act'\n",
      " 'Fundraising for Veterans' 'Great Lakes Fishery Commission' 'Families'\n",
      " 'Health Care in Alberta' 'Fania \"Fanny\" Goose'\n",
      " \"Fanshawe College's Centre for Research and Innovation\"\n",
      " 'Florynce Kennedy' 'Frederick Sasakamoose' 'Hellenic Home for the Aged'\n",
      " 'Guru Nanak' 'Hevrin Khalaf' \"Speaker's Ruling\" \"Private Members' Bills\"\n",
      " 'Forestry Industry' 'Government Policies' 'Post-Secondary Education'\n",
      " 'Human Rights Day' 'Public Service of Canada' 'Alfred-Pellan' 'Cancer'\n",
      " 'CBC/Radio-Canada' 'Global Polio Eradication Initiative' 'Immigration'\n",
      " 'COVID-19 Vaccine' 'Western Economic Diversification'\n",
      " 'Safe and Regulated Sports Betting Act' 'Romani People' 'Wine Industry'\n",
      " 'Retirement Congratulations' 'Women in House Program' 'Food Security'\n",
      " 'Victims and Survivors of Crime Week' 'Government Programs'\n",
      " 'André Gagnon' 'Explosion in Beirut' 'Yves Berthiaume'\n",
      " 'Dominique Fortier and Émélie Bernier' 'Holiday Greetings'\n",
      " 'Auditor General of Canada' \"Farmers' Protests in India\"\n",
      " 'Automotive Industry' 'Correctional Service of Canada'\n",
      " 'Federal Disaster Assistance Program' 'Conversion Therapy'\n",
      " 'Federal-Provincial Relations' 'Northern Affairs' 'Nova Scotia CHAMP'\n",
      " 'Ukraine' \"International Women's Day\" 'Holodomor'\n",
      " 'Supplementary Estimates (B), 2019-20'\n",
      " 'Supplementary Estimates (B), 2020-21' 'Supply Management'\n",
      " 'École Polytechnique in Montreal'\n",
      " 'Conflict of Interest and Ethics Commissioner' 'Canada Labour Code'\n",
      " 'Marc Hovingh' 'World Food Day' 'Two Businesses in Lac-Saint-Jean'\n",
      " 'Marine Transportation' 'Amyotrophic Lateral Sclerosis'\n",
      " 'International Holocaust Remembrance Day' 'Small Business Week'\n",
      " 'Status of Women' 'Speech from the Throne' 'Pink Shirt Day' 'Canada Post'\n",
      " 'Main Estimates, 2020-21' \"World Teachers' Day\" 'Lebanon'\n",
      " 'Max Gros-Louis' 'Order Paper' 'Persons with Disabilities' 'Finance'\n",
      " 'Transportation' 'Fisheries and Oceans' 'Recall of the House of Commons'\n",
      " 'Air Transportation' 'Child Care' 'COVID-19 Testing'\n",
      " 'Ukraine International Flight 725'\n",
      " 'Families, Children and Social Development' 'Canada Revenue Agency'\n",
      " \"Veterans' Week\" 'Human Rights' 'Interparliamentary Delegations'\n",
      " 'National Framework for Diabetes Act' 'Income Tax Act'\n",
      " 'Committees of the Whole' 'Photography in the House' 'Seniors'\n",
      " 'COVID-19 Pandemic' 'Regional Economic Development'\n",
      " 'Ukrainian International Airlines Flight PS752'\n",
      " 'Office of the Auditor General' 'Ways and Means'\n",
      " 'Parliamentary Budget Officer' 'Small Business' 'Aviation Industry'\n",
      " 'Women and Gender Equality' 'Black History Month' 'Hon. John Turner'\n",
      " 'Reduction of Recidivism Framework Act' 'Request for Emergency Debate'\n",
      " 'Rail Transportation' 'COVID-19 Emergency Measures'\n",
      " 'Intergovernmental Relations' 'Aeronautics Act'\n",
      " 'Canada Pension Plan Investment Board Act' 'Veterans Affairs'\n",
      " 'Canada Revenue Agency Act' 'Immigration, Refugees and Citizenship'\n",
      " 'Canada Emergency Student Benefit Act' 'Public Services and Procurement'\n",
      " 'International Trade' 'Canadian Environmental Protection Act, 1999'\n",
      " 'Point of Order' 'Agriculture and Agri-Food'\n",
      " 'Greenhouse Gas Pollution Pricing Act' 'Oil Tanker Moratorium Act'\n",
      " 'Environmental Restoration Incentive Act' 'Employment'\n",
      " 'Telecommunications' 'Housing' 'Address in Reply' 'The Environment'\n",
      " 'Peschisolido Report' 'Taxation'\n",
      " 'Canadian Net-Zero Emissions Accountability Act'\n",
      " 'An Act Respecting Additional COVID-19 Measures' 'Points of Order'\n",
      " 'An Act Respecting Further COVID-19 Measures' 'National Defence'\n",
      " 'Government Response to Petitions'\n",
      " 'Questions Passed as Orders for Returns' 'Ethics' 'The Economy'\n",
      " 'Digital Charter Implementation Act, 2020'\n",
      " 'COVID-19 Pandemic and Other Matters' 'Committees of the House' 'Justice'\n",
      " 'Infrastructure' 'Foreign Affairs' 'Natural Resources'\n",
      " 'Official Languages' 'Privilege' 'Indigenous Affairs'\n",
      " 'Government Business No. 1' 'Fall Economic Statement'\n",
      " 'Further COVID-19 Measures Act' 'Royal Canadian Mounted Police Act'\n",
      " 'COVID-19 Emergency Response' 'Proceedings of the House and Committees'\n",
      " 'Business of the House' 'Bills of Exchange Act' 'Public Safety'\n",
      " 'Questions on the Order Paper' 'Resumption of debate on Address in Reply'\n",
      " 'Canadian Dairy Commission Act' 'Judges Act' 'Broadcasting Act'\n",
      " 'Petitions' 'Health' 'Citizenship Act'\n",
      " 'Canada-United States-Mexico Agreement Implementation Act'\n",
      " 'Resumption of Debate on Address in Reply' 'Criminal Code'\n",
      " 'Business of Supply']\n"
     ]
    }
   ],
   "source": [
    "list_of_topics = hansard_topics['subtopic'].unique()\n",
    "print(list_of_topics)"
   ]
  },
  {
   "attachments": {},
   "cell_type": "markdown",
   "id": "c64b498b",
   "metadata": {},
   "source": [
    "The cell above holds all the subtopics spoken in Parliament. The various subtopics can be inputted in the `topic` variable in the code cell below."
   ]
  },
  {
   "cell_type": "code",
   "execution_count": 13,
   "id": "f333ef4e",
   "metadata": {},
   "outputs": [
    {
     "data": {
      "text/html": [
       "<div>\n",
       "<style scoped>\n",
       "    .dataframe tbody tr th:only-of-type {\n",
       "        vertical-align: middle;\n",
       "    }\n",
       "\n",
       "    .dataframe tbody tr th {\n",
       "        vertical-align: top;\n",
       "    }\n",
       "\n",
       "    .dataframe thead th {\n",
       "        text-align: right;\n",
       "    }\n",
       "</style>\n",
       "<table border=\"1\" class=\"dataframe\">\n",
       "  <thead>\n",
       "    <tr style=\"text-align: right;\">\n",
       "      <th></th>\n",
       "      <th>maintopic</th>\n",
       "      <th>subtopic</th>\n",
       "      <th>speakerparty</th>\n",
       "      <th>speakername</th>\n",
       "      <th>speechlength</th>\n",
       "    </tr>\n",
       "  </thead>\n",
       "  <tbody>\n",
       "    <tr>\n",
       "      <th>0</th>\n",
       "      <td>Oral Questions</td>\n",
       "      <td>Health</td>\n",
       "      <td>Liberal</td>\n",
       "      <td>Patty Hajdu</td>\n",
       "      <td>527.0</td>\n",
       "    </tr>\n",
       "    <tr>\n",
       "      <th>1</th>\n",
       "      <td>Oral Questions</td>\n",
       "      <td>Health</td>\n",
       "      <td>Conservative</td>\n",
       "      <td>Michelle Rempel</td>\n",
       "      <td>423.0</td>\n",
       "    </tr>\n",
       "    <tr>\n",
       "      <th>2</th>\n",
       "      <td>Oral Questions</td>\n",
       "      <td>Health</td>\n",
       "      <td>Liberal</td>\n",
       "      <td>Anthony Rota</td>\n",
       "      <td>89.0</td>\n",
       "    </tr>\n",
       "    <tr>\n",
       "      <th>3</th>\n",
       "      <td>Oral Questions</td>\n",
       "      <td>Health</td>\n",
       "      <td>Liberal</td>\n",
       "      <td>Pablo Rodriguez</td>\n",
       "      <td>375.0</td>\n",
       "    </tr>\n",
       "    <tr>\n",
       "      <th>4</th>\n",
       "      <td>Oral Questions</td>\n",
       "      <td>Health</td>\n",
       "      <td>Conservative</td>\n",
       "      <td>Rosemarie Falk</td>\n",
       "      <td>594.0</td>\n",
       "    </tr>\n",
       "    <tr>\n",
       "      <th>5</th>\n",
       "      <td>Oral Questions</td>\n",
       "      <td>Health</td>\n",
       "      <td>Liberal</td>\n",
       "      <td>Deb Schulte</td>\n",
       "      <td>755.0</td>\n",
       "    </tr>\n",
       "    <tr>\n",
       "      <th>6</th>\n",
       "      <td>Oral Questions</td>\n",
       "      <td>Health</td>\n",
       "      <td>Conservative</td>\n",
       "      <td>Todd Doherty</td>\n",
       "      <td>597.0</td>\n",
       "    </tr>\n",
       "    <tr>\n",
       "      <th>7</th>\n",
       "      <td>Oral Questions</td>\n",
       "      <td>Health</td>\n",
       "      <td>Bloc Québécois</td>\n",
       "      <td>Alain Therrien</td>\n",
       "      <td>682.0</td>\n",
       "    </tr>\n",
       "    <tr>\n",
       "      <th>8</th>\n",
       "      <td>Oral Questions</td>\n",
       "      <td>Health</td>\n",
       "      <td>Bloc Québécois</td>\n",
       "      <td>Marilène Gill</td>\n",
       "      <td>596.0</td>\n",
       "    </tr>\n",
       "    <tr>\n",
       "      <th>9</th>\n",
       "      <td>Oral Questions</td>\n",
       "      <td>Health</td>\n",
       "      <td>Bloc Québécois</td>\n",
       "      <td>Gabriel Ste-Marie</td>\n",
       "      <td>460.0</td>\n",
       "    </tr>\n",
       "    <tr>\n",
       "      <th>10</th>\n",
       "      <td>Oral Questions</td>\n",
       "      <td>Health</td>\n",
       "      <td>Liberal</td>\n",
       "      <td>Chrystia Freeland</td>\n",
       "      <td>325.0</td>\n",
       "    </tr>\n",
       "    <tr>\n",
       "      <th>11</th>\n",
       "      <td>Oral Questions</td>\n",
       "      <td>Health</td>\n",
       "      <td>New Democratic Party</td>\n",
       "      <td>Jagmeet Singh</td>\n",
       "      <td>400.0</td>\n",
       "    </tr>\n",
       "    <tr>\n",
       "      <th>12</th>\n",
       "      <td>Oral Questions</td>\n",
       "      <td>Health</td>\n",
       "      <td>Conservative</td>\n",
       "      <td>Gérard Deltell</td>\n",
       "      <td>482.0</td>\n",
       "    </tr>\n",
       "    <tr>\n",
       "      <th>13</th>\n",
       "      <td>Oral Questions</td>\n",
       "      <td>Health</td>\n",
       "      <td>Conservative</td>\n",
       "      <td>Erin O'Toole</td>\n",
       "      <td>529.0</td>\n",
       "    </tr>\n",
       "    <tr>\n",
       "      <th>14</th>\n",
       "      <td>Oral Questions</td>\n",
       "      <td>Health</td>\n",
       "      <td>Conservative</td>\n",
       "      <td>Pierre Paul-Hus</td>\n",
       "      <td>488.0</td>\n",
       "    </tr>\n",
       "    <tr>\n",
       "      <th>15</th>\n",
       "      <td>Oral Questions</td>\n",
       "      <td>Health</td>\n",
       "      <td>Conservative</td>\n",
       "      <td>Nelly Shin</td>\n",
       "      <td>532.0</td>\n",
       "    </tr>\n",
       "    <tr>\n",
       "      <th>16</th>\n",
       "      <td>Oral Questions</td>\n",
       "      <td>Health</td>\n",
       "      <td>New Democratic Party</td>\n",
       "      <td>Jenny Kwan</td>\n",
       "      <td>602.0</td>\n",
       "    </tr>\n",
       "    <tr>\n",
       "      <th>17</th>\n",
       "      <td>Oral Questions</td>\n",
       "      <td>Health</td>\n",
       "      <td>Liberal</td>\n",
       "      <td>Justin Trudeau</td>\n",
       "      <td>544.0</td>\n",
       "    </tr>\n",
       "    <tr>\n",
       "      <th>18</th>\n",
       "      <td>Oral Questions</td>\n",
       "      <td>Health</td>\n",
       "      <td>Liberal</td>\n",
       "      <td>Darren Fisher</td>\n",
       "      <td>320.0</td>\n",
       "    </tr>\n",
       "    <tr>\n",
       "      <th>19</th>\n",
       "      <td>Oral Questions</td>\n",
       "      <td>Health</td>\n",
       "      <td>Conservative</td>\n",
       "      <td>Alain Rayes</td>\n",
       "      <td>431.0</td>\n",
       "    </tr>\n",
       "    <tr>\n",
       "      <th>20</th>\n",
       "      <td>Oral Questions</td>\n",
       "      <td>Health</td>\n",
       "      <td>Liberal</td>\n",
       "      <td>Alexandra Mendes</td>\n",
       "      <td>41.0</td>\n",
       "    </tr>\n",
       "    <tr>\n",
       "      <th>21</th>\n",
       "      <td>Oral Questions</td>\n",
       "      <td>Health</td>\n",
       "      <td>Conservative</td>\n",
       "      <td>Chris d'Entremont</td>\n",
       "      <td>490.0</td>\n",
       "    </tr>\n",
       "    <tr>\n",
       "      <th>22</th>\n",
       "      <td>Oral Questions</td>\n",
       "      <td>Health</td>\n",
       "      <td>Conservative</td>\n",
       "      <td>Kerry Diotte</td>\n",
       "      <td>510.0</td>\n",
       "    </tr>\n",
       "    <tr>\n",
       "      <th>23</th>\n",
       "      <td>Oral Questions</td>\n",
       "      <td>Health</td>\n",
       "      <td>Liberal</td>\n",
       "      <td>Helena Jaczek</td>\n",
       "      <td>502.0</td>\n",
       "    </tr>\n",
       "    <tr>\n",
       "      <th>24</th>\n",
       "      <td>Oral Questions</td>\n",
       "      <td>Health</td>\n",
       "      <td>Liberal</td>\n",
       "      <td>Marc Miller</td>\n",
       "      <td>703.0</td>\n",
       "    </tr>\n",
       "    <tr>\n",
       "      <th>25</th>\n",
       "      <td>Oral Questions</td>\n",
       "      <td>Health</td>\n",
       "      <td>Liberal</td>\n",
       "      <td>Navdeep Bains</td>\n",
       "      <td>601.0</td>\n",
       "    </tr>\n",
       "    <tr>\n",
       "      <th>26</th>\n",
       "      <td>Oral Questions</td>\n",
       "      <td>Health</td>\n",
       "      <td>New Democratic Party</td>\n",
       "      <td>Niki Ashton</td>\n",
       "      <td>522.0</td>\n",
       "    </tr>\n",
       "    <tr>\n",
       "      <th>27</th>\n",
       "      <td>Oral Questions</td>\n",
       "      <td>Health</td>\n",
       "      <td>Green Party</td>\n",
       "      <td>Paul Manly</td>\n",
       "      <td>476.0</td>\n",
       "    </tr>\n",
       "    <tr>\n",
       "      <th>28</th>\n",
       "      <td>Oral Questions</td>\n",
       "      <td>Health</td>\n",
       "      <td>Conservative</td>\n",
       "      <td>Gary Vidal</td>\n",
       "      <td>446.0</td>\n",
       "    </tr>\n",
       "    <tr>\n",
       "      <th>29</th>\n",
       "      <td>Oral Questions</td>\n",
       "      <td>Health</td>\n",
       "      <td>Conservative</td>\n",
       "      <td>Kenny Chiu</td>\n",
       "      <td>465.0</td>\n",
       "    </tr>\n",
       "    <tr>\n",
       "      <th>30</th>\n",
       "      <td>Oral Questions</td>\n",
       "      <td>Health</td>\n",
       "      <td>New Democratic Party</td>\n",
       "      <td>Heather McPherson</td>\n",
       "      <td>563.0</td>\n",
       "    </tr>\n",
       "    <tr>\n",
       "      <th>31</th>\n",
       "      <td>Oral Questions</td>\n",
       "      <td>Health</td>\n",
       "      <td>Conservative</td>\n",
       "      <td>James Bezan</td>\n",
       "      <td>511.0</td>\n",
       "    </tr>\n",
       "    <tr>\n",
       "      <th>32</th>\n",
       "      <td>Oral Questions</td>\n",
       "      <td>Health</td>\n",
       "      <td>Liberal</td>\n",
       "      <td>Steven MacKinnon</td>\n",
       "      <td>355.0</td>\n",
       "    </tr>\n",
       "    <tr>\n",
       "      <th>33</th>\n",
       "      <td>Oral Questions</td>\n",
       "      <td>Health</td>\n",
       "      <td>Conservative</td>\n",
       "      <td>John Barlow</td>\n",
       "      <td>605.0</td>\n",
       "    </tr>\n",
       "    <tr>\n",
       "      <th>34</th>\n",
       "      <td>Oral Questions</td>\n",
       "      <td>Health</td>\n",
       "      <td>Bloc Québécois</td>\n",
       "      <td>Christine Normandin</td>\n",
       "      <td>555.0</td>\n",
       "    </tr>\n",
       "    <tr>\n",
       "      <th>35</th>\n",
       "      <td>Oral Questions</td>\n",
       "      <td>Health</td>\n",
       "      <td>New Democratic Party</td>\n",
       "      <td>Don Davies</td>\n",
       "      <td>670.0</td>\n",
       "    </tr>\n",
       "  </tbody>\n",
       "</table>\n",
       "</div>"
      ],
      "text/plain": [
       "         maintopic subtopic          speakerparty          speakername  \\\n",
       "0   Oral Questions   Health               Liberal          Patty Hajdu   \n",
       "1   Oral Questions   Health          Conservative      Michelle Rempel   \n",
       "2   Oral Questions   Health               Liberal         Anthony Rota   \n",
       "3   Oral Questions   Health               Liberal      Pablo Rodriguez   \n",
       "4   Oral Questions   Health          Conservative       Rosemarie Falk   \n",
       "5   Oral Questions   Health               Liberal          Deb Schulte   \n",
       "6   Oral Questions   Health          Conservative         Todd Doherty   \n",
       "7   Oral Questions   Health        Bloc Québécois       Alain Therrien   \n",
       "8   Oral Questions   Health        Bloc Québécois        Marilène Gill   \n",
       "9   Oral Questions   Health        Bloc Québécois    Gabriel Ste-Marie   \n",
       "10  Oral Questions   Health               Liberal    Chrystia Freeland   \n",
       "11  Oral Questions   Health  New Democratic Party        Jagmeet Singh   \n",
       "12  Oral Questions   Health          Conservative       Gérard Deltell   \n",
       "13  Oral Questions   Health          Conservative         Erin O'Toole   \n",
       "14  Oral Questions   Health          Conservative      Pierre Paul-Hus   \n",
       "15  Oral Questions   Health          Conservative           Nelly Shin   \n",
       "16  Oral Questions   Health  New Democratic Party           Jenny Kwan   \n",
       "17  Oral Questions   Health               Liberal       Justin Trudeau   \n",
       "18  Oral Questions   Health               Liberal        Darren Fisher   \n",
       "19  Oral Questions   Health          Conservative          Alain Rayes   \n",
       "20  Oral Questions   Health               Liberal     Alexandra Mendes   \n",
       "21  Oral Questions   Health          Conservative    Chris d'Entremont   \n",
       "22  Oral Questions   Health          Conservative         Kerry Diotte   \n",
       "23  Oral Questions   Health               Liberal        Helena Jaczek   \n",
       "24  Oral Questions   Health               Liberal          Marc Miller   \n",
       "25  Oral Questions   Health               Liberal        Navdeep Bains   \n",
       "26  Oral Questions   Health  New Democratic Party          Niki Ashton   \n",
       "27  Oral Questions   Health           Green Party           Paul Manly   \n",
       "28  Oral Questions   Health          Conservative           Gary Vidal   \n",
       "29  Oral Questions   Health          Conservative           Kenny Chiu   \n",
       "30  Oral Questions   Health  New Democratic Party    Heather McPherson   \n",
       "31  Oral Questions   Health          Conservative          James Bezan   \n",
       "32  Oral Questions   Health               Liberal     Steven MacKinnon   \n",
       "33  Oral Questions   Health          Conservative          John Barlow   \n",
       "34  Oral Questions   Health        Bloc Québécois  Christine Normandin   \n",
       "35  Oral Questions   Health  New Democratic Party           Don Davies   \n",
       "\n",
       "    speechlength  \n",
       "0          527.0  \n",
       "1          423.0  \n",
       "2           89.0  \n",
       "3          375.0  \n",
       "4          594.0  \n",
       "5          755.0  \n",
       "6          597.0  \n",
       "7          682.0  \n",
       "8          596.0  \n",
       "9          460.0  \n",
       "10         325.0  \n",
       "11         400.0  \n",
       "12         482.0  \n",
       "13         529.0  \n",
       "14         488.0  \n",
       "15         532.0  \n",
       "16         602.0  \n",
       "17         544.0  \n",
       "18         320.0  \n",
       "19         431.0  \n",
       "20          41.0  \n",
       "21         490.0  \n",
       "22         510.0  \n",
       "23         502.0  \n",
       "24         703.0  \n",
       "25         601.0  \n",
       "26         522.0  \n",
       "27         476.0  \n",
       "28         446.0  \n",
       "29         465.0  \n",
       "30         563.0  \n",
       "31         511.0  \n",
       "32         355.0  \n",
       "33         605.0  \n",
       "34         555.0  \n",
       "35         670.0  "
      ]
     },
     "metadata": {},
     "output_type": "display_data"
    }
   ],
   "source": [
    "# Change the value of topic to any subtopic you're interested in\n",
    "# For example, instead of 'Health' you can input 'Petitions'\n",
    "topic = 'Health'\n",
    "\n",
    "members_by_topic = pd.DataFrame(hansard.loc[hansard['subtopic'] == topic]) \n",
    "members_by_topic = members_by_topic.drop_duplicates(subset=['speakername']) \n",
    "members_by_topic = members_by_topic.drop(columns=['basepk', 'hid', 'speechdate', 'pid', 'opid', 'speakerposition', 'subsubtopic', 'speechtext', 'speechtext', 'speakeroldname', 'speakerurl', 'speakerriding']).reset_index(drop=True) \n",
    "if members_by_topic.empty:\n",
    "    print('No matches. Did you make sure to capitalize and space correctly?')\n",
    "else:\n",
    "    display(members_by_topic)"
   ]
  },
  {
   "attachments": {},
   "cell_type": "markdown",
   "id": "158e31bd",
   "metadata": {},
   "source": [
    "<div class=\"alert alert-block alert-info\">\n",
    "<b>Optional:</b> The below code cell randomly replaces the name of each party in the dataframe with a letter, allowing you to guess the party based on their topic 10 most spoken topics! Another cell after the plots reveals which party is which letter, but if you want to use the party name in the plots you can comment out (place a <tt>#</tt> at the beginning of each line) the below cell.\n",
    "</div>"
   ]
  },
  {
   "cell_type": "code",
   "execution_count": 14,
   "id": "db54d8e3",
   "metadata": {},
   "outputs": [],
   "source": [
    "# Obscure party names\n",
    "# Note, if you don't want to randomize the parties, add a # on each of the lines below\n",
    "# A quick short-cut to do this is to select everything below and press (Ctrl + /)\n",
    "\n",
    "import random \n",
    "letters = ['Party A', 'Party B', 'Party C', 'Party D', 'Party E', 'Party F']\n",
    "parties = hansard['speakerparty'].dropna().unique().tolist()\n",
    "random.shuffle(letters)\n",
    "random.shuffle(parties)\n",
    "\n",
    "mapping = {}\n",
    "for key in parties:\n",
    "    for value in letters:\n",
    "        mapping[key] = value\n",
    "        letters.remove(value)\n",
    "        break\n",
    "        \n",
    "hansard['speakerparty'] = hansard['speakerparty'].replace(mapping)"
   ]
  },
  {
   "attachments": {},
   "cell_type": "markdown",
   "id": "9ac35f60",
   "metadata": {},
   "source": [
    "We can investigate this concept by looking at each party's most important topics using the `speakerparty` column."
   ]
  },
  {
   "cell_type": "code",
   "execution_count": 15,
   "id": "0aac0837",
   "metadata": {},
   "outputs": [
    {
     "data": {
      "application/vnd.plotly.v1+json": {
       "config": {
        "plotlyServerURL": "https://plot.ly"
       },
       "data": [
        {
         "alignmentgroup": "True",
         "hovertemplate": "count=%{x}<br>subtopic=%{y}<extra></extra>",
         "legendgroup": "",
         "marker": {
          "color": "red",
          "pattern": {
           "shape": ""
          }
         },
         "name": "",
         "offsetgroup": "",
         "orientation": "h",
         "showlegend": false,
         "textposition": "auto",
         "type": "bar",
         "x": [
          46,
          47,
          50,
          51,
          61,
          99,
          107,
          112,
          121,
          136
         ],
         "xaxis": "x",
         "y": [
          "Public Safety",
          "Broadcasting Act",
          "Questions on the Order Paper",
          "Business of the House",
          "Citizenship Act",
          "Canada-United States-Mexico Agreement Implementation Act",
          "Health",
          "Resumption of Debate on Address in Reply",
          "Criminal Code",
          "Business of Supply"
         ],
         "yaxis": "y"
        }
       ],
       "layout": {
        "barmode": "relative",
        "height": 500,
        "legend": {
         "tracegroupgap": 0
        },
        "showlegend": false,
        "template": {
         "data": {
          "bar": [
           {
            "error_x": {
             "color": "#2a3f5f"
            },
            "error_y": {
             "color": "#2a3f5f"
            },
            "marker": {
             "line": {
              "color": "#E5ECF6",
              "width": 0.5
             },
             "pattern": {
              "fillmode": "overlay",
              "size": 10,
              "solidity": 0.2
             }
            },
            "type": "bar"
           }
          ],
          "barpolar": [
           {
            "marker": {
             "line": {
              "color": "#E5ECF6",
              "width": 0.5
             },
             "pattern": {
              "fillmode": "overlay",
              "size": 10,
              "solidity": 0.2
             }
            },
            "type": "barpolar"
           }
          ],
          "carpet": [
           {
            "aaxis": {
             "endlinecolor": "#2a3f5f",
             "gridcolor": "white",
             "linecolor": "white",
             "minorgridcolor": "white",
             "startlinecolor": "#2a3f5f"
            },
            "baxis": {
             "endlinecolor": "#2a3f5f",
             "gridcolor": "white",
             "linecolor": "white",
             "minorgridcolor": "white",
             "startlinecolor": "#2a3f5f"
            },
            "type": "carpet"
           }
          ],
          "choropleth": [
           {
            "colorbar": {
             "outlinewidth": 0,
             "ticks": ""
            },
            "type": "choropleth"
           }
          ],
          "contour": [
           {
            "colorbar": {
             "outlinewidth": 0,
             "ticks": ""
            },
            "colorscale": [
             [
              0,
              "#0d0887"
             ],
             [
              0.1111111111111111,
              "#46039f"
             ],
             [
              0.2222222222222222,
              "#7201a8"
             ],
             [
              0.3333333333333333,
              "#9c179e"
             ],
             [
              0.4444444444444444,
              "#bd3786"
             ],
             [
              0.5555555555555556,
              "#d8576b"
             ],
             [
              0.6666666666666666,
              "#ed7953"
             ],
             [
              0.7777777777777778,
              "#fb9f3a"
             ],
             [
              0.8888888888888888,
              "#fdca26"
             ],
             [
              1,
              "#f0f921"
             ]
            ],
            "type": "contour"
           }
          ],
          "contourcarpet": [
           {
            "colorbar": {
             "outlinewidth": 0,
             "ticks": ""
            },
            "type": "contourcarpet"
           }
          ],
          "heatmap": [
           {
            "colorbar": {
             "outlinewidth": 0,
             "ticks": ""
            },
            "colorscale": [
             [
              0,
              "#0d0887"
             ],
             [
              0.1111111111111111,
              "#46039f"
             ],
             [
              0.2222222222222222,
              "#7201a8"
             ],
             [
              0.3333333333333333,
              "#9c179e"
             ],
             [
              0.4444444444444444,
              "#bd3786"
             ],
             [
              0.5555555555555556,
              "#d8576b"
             ],
             [
              0.6666666666666666,
              "#ed7953"
             ],
             [
              0.7777777777777778,
              "#fb9f3a"
             ],
             [
              0.8888888888888888,
              "#fdca26"
             ],
             [
              1,
              "#f0f921"
             ]
            ],
            "type": "heatmap"
           }
          ],
          "heatmapgl": [
           {
            "colorbar": {
             "outlinewidth": 0,
             "ticks": ""
            },
            "colorscale": [
             [
              0,
              "#0d0887"
             ],
             [
              0.1111111111111111,
              "#46039f"
             ],
             [
              0.2222222222222222,
              "#7201a8"
             ],
             [
              0.3333333333333333,
              "#9c179e"
             ],
             [
              0.4444444444444444,
              "#bd3786"
             ],
             [
              0.5555555555555556,
              "#d8576b"
             ],
             [
              0.6666666666666666,
              "#ed7953"
             ],
             [
              0.7777777777777778,
              "#fb9f3a"
             ],
             [
              0.8888888888888888,
              "#fdca26"
             ],
             [
              1,
              "#f0f921"
             ]
            ],
            "type": "heatmapgl"
           }
          ],
          "histogram": [
           {
            "marker": {
             "pattern": {
              "fillmode": "overlay",
              "size": 10,
              "solidity": 0.2
             }
            },
            "type": "histogram"
           }
          ],
          "histogram2d": [
           {
            "colorbar": {
             "outlinewidth": 0,
             "ticks": ""
            },
            "colorscale": [
             [
              0,
              "#0d0887"
             ],
             [
              0.1111111111111111,
              "#46039f"
             ],
             [
              0.2222222222222222,
              "#7201a8"
             ],
             [
              0.3333333333333333,
              "#9c179e"
             ],
             [
              0.4444444444444444,
              "#bd3786"
             ],
             [
              0.5555555555555556,
              "#d8576b"
             ],
             [
              0.6666666666666666,
              "#ed7953"
             ],
             [
              0.7777777777777778,
              "#fb9f3a"
             ],
             [
              0.8888888888888888,
              "#fdca26"
             ],
             [
              1,
              "#f0f921"
             ]
            ],
            "type": "histogram2d"
           }
          ],
          "histogram2dcontour": [
           {
            "colorbar": {
             "outlinewidth": 0,
             "ticks": ""
            },
            "colorscale": [
             [
              0,
              "#0d0887"
             ],
             [
              0.1111111111111111,
              "#46039f"
             ],
             [
              0.2222222222222222,
              "#7201a8"
             ],
             [
              0.3333333333333333,
              "#9c179e"
             ],
             [
              0.4444444444444444,
              "#bd3786"
             ],
             [
              0.5555555555555556,
              "#d8576b"
             ],
             [
              0.6666666666666666,
              "#ed7953"
             ],
             [
              0.7777777777777778,
              "#fb9f3a"
             ],
             [
              0.8888888888888888,
              "#fdca26"
             ],
             [
              1,
              "#f0f921"
             ]
            ],
            "type": "histogram2dcontour"
           }
          ],
          "mesh3d": [
           {
            "colorbar": {
             "outlinewidth": 0,
             "ticks": ""
            },
            "type": "mesh3d"
           }
          ],
          "parcoords": [
           {
            "line": {
             "colorbar": {
              "outlinewidth": 0,
              "ticks": ""
             }
            },
            "type": "parcoords"
           }
          ],
          "pie": [
           {
            "automargin": true,
            "type": "pie"
           }
          ],
          "scatter": [
           {
            "fillpattern": {
             "fillmode": "overlay",
             "size": 10,
             "solidity": 0.2
            },
            "type": "scatter"
           }
          ],
          "scatter3d": [
           {
            "line": {
             "colorbar": {
              "outlinewidth": 0,
              "ticks": ""
             }
            },
            "marker": {
             "colorbar": {
              "outlinewidth": 0,
              "ticks": ""
             }
            },
            "type": "scatter3d"
           }
          ],
          "scattercarpet": [
           {
            "marker": {
             "colorbar": {
              "outlinewidth": 0,
              "ticks": ""
             }
            },
            "type": "scattercarpet"
           }
          ],
          "scattergeo": [
           {
            "marker": {
             "colorbar": {
              "outlinewidth": 0,
              "ticks": ""
             }
            },
            "type": "scattergeo"
           }
          ],
          "scattergl": [
           {
            "marker": {
             "colorbar": {
              "outlinewidth": 0,
              "ticks": ""
             }
            },
            "type": "scattergl"
           }
          ],
          "scattermapbox": [
           {
            "marker": {
             "colorbar": {
              "outlinewidth": 0,
              "ticks": ""
             }
            },
            "type": "scattermapbox"
           }
          ],
          "scatterpolar": [
           {
            "marker": {
             "colorbar": {
              "outlinewidth": 0,
              "ticks": ""
             }
            },
            "type": "scatterpolar"
           }
          ],
          "scatterpolargl": [
           {
            "marker": {
             "colorbar": {
              "outlinewidth": 0,
              "ticks": ""
             }
            },
            "type": "scatterpolargl"
           }
          ],
          "scatterternary": [
           {
            "marker": {
             "colorbar": {
              "outlinewidth": 0,
              "ticks": ""
             }
            },
            "type": "scatterternary"
           }
          ],
          "surface": [
           {
            "colorbar": {
             "outlinewidth": 0,
             "ticks": ""
            },
            "colorscale": [
             [
              0,
              "#0d0887"
             ],
             [
              0.1111111111111111,
              "#46039f"
             ],
             [
              0.2222222222222222,
              "#7201a8"
             ],
             [
              0.3333333333333333,
              "#9c179e"
             ],
             [
              0.4444444444444444,
              "#bd3786"
             ],
             [
              0.5555555555555556,
              "#d8576b"
             ],
             [
              0.6666666666666666,
              "#ed7953"
             ],
             [
              0.7777777777777778,
              "#fb9f3a"
             ],
             [
              0.8888888888888888,
              "#fdca26"
             ],
             [
              1,
              "#f0f921"
             ]
            ],
            "type": "surface"
           }
          ],
          "table": [
           {
            "cells": {
             "fill": {
              "color": "#EBF0F8"
             },
             "line": {
              "color": "white"
             }
            },
            "header": {
             "fill": {
              "color": "#C8D4E3"
             },
             "line": {
              "color": "white"
             }
            },
            "type": "table"
           }
          ]
         },
         "layout": {
          "annotationdefaults": {
           "arrowcolor": "#2a3f5f",
           "arrowhead": 0,
           "arrowwidth": 1
          },
          "autotypenumbers": "strict",
          "coloraxis": {
           "colorbar": {
            "outlinewidth": 0,
            "ticks": ""
           }
          },
          "colorscale": {
           "diverging": [
            [
             0,
             "#8e0152"
            ],
            [
             0.1,
             "#c51b7d"
            ],
            [
             0.2,
             "#de77ae"
            ],
            [
             0.3,
             "#f1b6da"
            ],
            [
             0.4,
             "#fde0ef"
            ],
            [
             0.5,
             "#f7f7f7"
            ],
            [
             0.6,
             "#e6f5d0"
            ],
            [
             0.7,
             "#b8e186"
            ],
            [
             0.8,
             "#7fbc41"
            ],
            [
             0.9,
             "#4d9221"
            ],
            [
             1,
             "#276419"
            ]
           ],
           "sequential": [
            [
             0,
             "#0d0887"
            ],
            [
             0.1111111111111111,
             "#46039f"
            ],
            [
             0.2222222222222222,
             "#7201a8"
            ],
            [
             0.3333333333333333,
             "#9c179e"
            ],
            [
             0.4444444444444444,
             "#bd3786"
            ],
            [
             0.5555555555555556,
             "#d8576b"
            ],
            [
             0.6666666666666666,
             "#ed7953"
            ],
            [
             0.7777777777777778,
             "#fb9f3a"
            ],
            [
             0.8888888888888888,
             "#fdca26"
            ],
            [
             1,
             "#f0f921"
            ]
           ],
           "sequentialminus": [
            [
             0,
             "#0d0887"
            ],
            [
             0.1111111111111111,
             "#46039f"
            ],
            [
             0.2222222222222222,
             "#7201a8"
            ],
            [
             0.3333333333333333,
             "#9c179e"
            ],
            [
             0.4444444444444444,
             "#bd3786"
            ],
            [
             0.5555555555555556,
             "#d8576b"
            ],
            [
             0.6666666666666666,
             "#ed7953"
            ],
            [
             0.7777777777777778,
             "#fb9f3a"
            ],
            [
             0.8888888888888888,
             "#fdca26"
            ],
            [
             1,
             "#f0f921"
            ]
           ]
          },
          "colorway": [
           "#636efa",
           "#EF553B",
           "#00cc96",
           "#ab63fa",
           "#FFA15A",
           "#19d3f3",
           "#FF6692",
           "#B6E880",
           "#FF97FF",
           "#FECB52"
          ],
          "font": {
           "color": "#2a3f5f"
          },
          "geo": {
           "bgcolor": "white",
           "lakecolor": "white",
           "landcolor": "#E5ECF6",
           "showlakes": true,
           "showland": true,
           "subunitcolor": "white"
          },
          "hoverlabel": {
           "align": "left"
          },
          "hovermode": "closest",
          "mapbox": {
           "style": "light"
          },
          "paper_bgcolor": "white",
          "plot_bgcolor": "#E5ECF6",
          "polar": {
           "angularaxis": {
            "gridcolor": "white",
            "linecolor": "white",
            "ticks": ""
           },
           "bgcolor": "#E5ECF6",
           "radialaxis": {
            "gridcolor": "white",
            "linecolor": "white",
            "ticks": ""
           }
          },
          "scene": {
           "xaxis": {
            "backgroundcolor": "#E5ECF6",
            "gridcolor": "white",
            "gridwidth": 2,
            "linecolor": "white",
            "showbackground": true,
            "ticks": "",
            "zerolinecolor": "white"
           },
           "yaxis": {
            "backgroundcolor": "#E5ECF6",
            "gridcolor": "white",
            "gridwidth": 2,
            "linecolor": "white",
            "showbackground": true,
            "ticks": "",
            "zerolinecolor": "white"
           },
           "zaxis": {
            "backgroundcolor": "#E5ECF6",
            "gridcolor": "white",
            "gridwidth": 2,
            "linecolor": "white",
            "showbackground": true,
            "ticks": "",
            "zerolinecolor": "white"
           }
          },
          "shapedefaults": {
           "line": {
            "color": "#2a3f5f"
           }
          },
          "ternary": {
           "aaxis": {
            "gridcolor": "white",
            "linecolor": "white",
            "ticks": ""
           },
           "baxis": {
            "gridcolor": "white",
            "linecolor": "white",
            "ticks": ""
           },
           "bgcolor": "#E5ECF6",
           "caxis": {
            "gridcolor": "white",
            "linecolor": "white",
            "ticks": ""
           }
          },
          "title": {
           "x": 0.05
          },
          "xaxis": {
           "automargin": true,
           "gridcolor": "white",
           "linecolor": "white",
           "ticks": "",
           "title": {
            "standoff": 15
           },
           "zerolinecolor": "white",
           "zerolinewidth": 2
          },
          "yaxis": {
           "automargin": true,
           "gridcolor": "white",
           "linecolor": "white",
           "ticks": "",
           "title": {
            "standoff": 15
           },
           "zerolinecolor": "white",
           "zerolinewidth": 2
          }
         }
        },
        "title": {
         "text": "Party A's Top 10 Topics"
        },
        "xaxis": {
         "anchor": "y",
         "domain": [
          0,
          1
         ],
         "title": {
          "text": "count"
         }
        },
        "yaxis": {
         "anchor": "x",
         "domain": [
          0,
          1
         ],
         "title": {}
        }
       }
      }
     },
     "metadata": {},
     "output_type": "display_data"
    },
    {
     "data": {
      "application/vnd.plotly.v1+json": {
       "config": {
        "plotlyServerURL": "https://plot.ly"
       },
       "data": [
        {
         "alignmentgroup": "True",
         "hovertemplate": "count=%{x}<br>subtopic=%{y}<extra></extra>",
         "legendgroup": "",
         "marker": {
          "color": "orange",
          "pattern": {
           "shape": ""
          }
         },
         "name": "",
         "offsetgroup": "",
         "orientation": "h",
         "showlegend": false,
         "textposition": "auto",
         "type": "bar",
         "x": [
          12,
          14,
          19,
          20,
          21,
          28,
          40,
          42,
          53,
          63
         ],
         "xaxis": "x",
         "y": [
          "Health",
          "Bills of Exchange Act",
          "Resumption of debate on Address in Reply",
          "Broadcasting Act",
          "Petitions",
          "Criminal Code",
          "Citizenship Act",
          "Canada-United States-Mexico Agreement Implementation Act",
          "Resumption of Debate on Address in Reply",
          "Business of Supply"
         ],
         "yaxis": "y"
        }
       ],
       "layout": {
        "barmode": "relative",
        "height": 500,
        "legend": {
         "tracegroupgap": 0
        },
        "showlegend": false,
        "template": {
         "data": {
          "bar": [
           {
            "error_x": {
             "color": "#2a3f5f"
            },
            "error_y": {
             "color": "#2a3f5f"
            },
            "marker": {
             "line": {
              "color": "#E5ECF6",
              "width": 0.5
             },
             "pattern": {
              "fillmode": "overlay",
              "size": 10,
              "solidity": 0.2
             }
            },
            "type": "bar"
           }
          ],
          "barpolar": [
           {
            "marker": {
             "line": {
              "color": "#E5ECF6",
              "width": 0.5
             },
             "pattern": {
              "fillmode": "overlay",
              "size": 10,
              "solidity": 0.2
             }
            },
            "type": "barpolar"
           }
          ],
          "carpet": [
           {
            "aaxis": {
             "endlinecolor": "#2a3f5f",
             "gridcolor": "white",
             "linecolor": "white",
             "minorgridcolor": "white",
             "startlinecolor": "#2a3f5f"
            },
            "baxis": {
             "endlinecolor": "#2a3f5f",
             "gridcolor": "white",
             "linecolor": "white",
             "minorgridcolor": "white",
             "startlinecolor": "#2a3f5f"
            },
            "type": "carpet"
           }
          ],
          "choropleth": [
           {
            "colorbar": {
             "outlinewidth": 0,
             "ticks": ""
            },
            "type": "choropleth"
           }
          ],
          "contour": [
           {
            "colorbar": {
             "outlinewidth": 0,
             "ticks": ""
            },
            "colorscale": [
             [
              0,
              "#0d0887"
             ],
             [
              0.1111111111111111,
              "#46039f"
             ],
             [
              0.2222222222222222,
              "#7201a8"
             ],
             [
              0.3333333333333333,
              "#9c179e"
             ],
             [
              0.4444444444444444,
              "#bd3786"
             ],
             [
              0.5555555555555556,
              "#d8576b"
             ],
             [
              0.6666666666666666,
              "#ed7953"
             ],
             [
              0.7777777777777778,
              "#fb9f3a"
             ],
             [
              0.8888888888888888,
              "#fdca26"
             ],
             [
              1,
              "#f0f921"
             ]
            ],
            "type": "contour"
           }
          ],
          "contourcarpet": [
           {
            "colorbar": {
             "outlinewidth": 0,
             "ticks": ""
            },
            "type": "contourcarpet"
           }
          ],
          "heatmap": [
           {
            "colorbar": {
             "outlinewidth": 0,
             "ticks": ""
            },
            "colorscale": [
             [
              0,
              "#0d0887"
             ],
             [
              0.1111111111111111,
              "#46039f"
             ],
             [
              0.2222222222222222,
              "#7201a8"
             ],
             [
              0.3333333333333333,
              "#9c179e"
             ],
             [
              0.4444444444444444,
              "#bd3786"
             ],
             [
              0.5555555555555556,
              "#d8576b"
             ],
             [
              0.6666666666666666,
              "#ed7953"
             ],
             [
              0.7777777777777778,
              "#fb9f3a"
             ],
             [
              0.8888888888888888,
              "#fdca26"
             ],
             [
              1,
              "#f0f921"
             ]
            ],
            "type": "heatmap"
           }
          ],
          "heatmapgl": [
           {
            "colorbar": {
             "outlinewidth": 0,
             "ticks": ""
            },
            "colorscale": [
             [
              0,
              "#0d0887"
             ],
             [
              0.1111111111111111,
              "#46039f"
             ],
             [
              0.2222222222222222,
              "#7201a8"
             ],
             [
              0.3333333333333333,
              "#9c179e"
             ],
             [
              0.4444444444444444,
              "#bd3786"
             ],
             [
              0.5555555555555556,
              "#d8576b"
             ],
             [
              0.6666666666666666,
              "#ed7953"
             ],
             [
              0.7777777777777778,
              "#fb9f3a"
             ],
             [
              0.8888888888888888,
              "#fdca26"
             ],
             [
              1,
              "#f0f921"
             ]
            ],
            "type": "heatmapgl"
           }
          ],
          "histogram": [
           {
            "marker": {
             "pattern": {
              "fillmode": "overlay",
              "size": 10,
              "solidity": 0.2
             }
            },
            "type": "histogram"
           }
          ],
          "histogram2d": [
           {
            "colorbar": {
             "outlinewidth": 0,
             "ticks": ""
            },
            "colorscale": [
             [
              0,
              "#0d0887"
             ],
             [
              0.1111111111111111,
              "#46039f"
             ],
             [
              0.2222222222222222,
              "#7201a8"
             ],
             [
              0.3333333333333333,
              "#9c179e"
             ],
             [
              0.4444444444444444,
              "#bd3786"
             ],
             [
              0.5555555555555556,
              "#d8576b"
             ],
             [
              0.6666666666666666,
              "#ed7953"
             ],
             [
              0.7777777777777778,
              "#fb9f3a"
             ],
             [
              0.8888888888888888,
              "#fdca26"
             ],
             [
              1,
              "#f0f921"
             ]
            ],
            "type": "histogram2d"
           }
          ],
          "histogram2dcontour": [
           {
            "colorbar": {
             "outlinewidth": 0,
             "ticks": ""
            },
            "colorscale": [
             [
              0,
              "#0d0887"
             ],
             [
              0.1111111111111111,
              "#46039f"
             ],
             [
              0.2222222222222222,
              "#7201a8"
             ],
             [
              0.3333333333333333,
              "#9c179e"
             ],
             [
              0.4444444444444444,
              "#bd3786"
             ],
             [
              0.5555555555555556,
              "#d8576b"
             ],
             [
              0.6666666666666666,
              "#ed7953"
             ],
             [
              0.7777777777777778,
              "#fb9f3a"
             ],
             [
              0.8888888888888888,
              "#fdca26"
             ],
             [
              1,
              "#f0f921"
             ]
            ],
            "type": "histogram2dcontour"
           }
          ],
          "mesh3d": [
           {
            "colorbar": {
             "outlinewidth": 0,
             "ticks": ""
            },
            "type": "mesh3d"
           }
          ],
          "parcoords": [
           {
            "line": {
             "colorbar": {
              "outlinewidth": 0,
              "ticks": ""
             }
            },
            "type": "parcoords"
           }
          ],
          "pie": [
           {
            "automargin": true,
            "type": "pie"
           }
          ],
          "scatter": [
           {
            "fillpattern": {
             "fillmode": "overlay",
             "size": 10,
             "solidity": 0.2
            },
            "type": "scatter"
           }
          ],
          "scatter3d": [
           {
            "line": {
             "colorbar": {
              "outlinewidth": 0,
              "ticks": ""
             }
            },
            "marker": {
             "colorbar": {
              "outlinewidth": 0,
              "ticks": ""
             }
            },
            "type": "scatter3d"
           }
          ],
          "scattercarpet": [
           {
            "marker": {
             "colorbar": {
              "outlinewidth": 0,
              "ticks": ""
             }
            },
            "type": "scattercarpet"
           }
          ],
          "scattergeo": [
           {
            "marker": {
             "colorbar": {
              "outlinewidth": 0,
              "ticks": ""
             }
            },
            "type": "scattergeo"
           }
          ],
          "scattergl": [
           {
            "marker": {
             "colorbar": {
              "outlinewidth": 0,
              "ticks": ""
             }
            },
            "type": "scattergl"
           }
          ],
          "scattermapbox": [
           {
            "marker": {
             "colorbar": {
              "outlinewidth": 0,
              "ticks": ""
             }
            },
            "type": "scattermapbox"
           }
          ],
          "scatterpolar": [
           {
            "marker": {
             "colorbar": {
              "outlinewidth": 0,
              "ticks": ""
             }
            },
            "type": "scatterpolar"
           }
          ],
          "scatterpolargl": [
           {
            "marker": {
             "colorbar": {
              "outlinewidth": 0,
              "ticks": ""
             }
            },
            "type": "scatterpolargl"
           }
          ],
          "scatterternary": [
           {
            "marker": {
             "colorbar": {
              "outlinewidth": 0,
              "ticks": ""
             }
            },
            "type": "scatterternary"
           }
          ],
          "surface": [
           {
            "colorbar": {
             "outlinewidth": 0,
             "ticks": ""
            },
            "colorscale": [
             [
              0,
              "#0d0887"
             ],
             [
              0.1111111111111111,
              "#46039f"
             ],
             [
              0.2222222222222222,
              "#7201a8"
             ],
             [
              0.3333333333333333,
              "#9c179e"
             ],
             [
              0.4444444444444444,
              "#bd3786"
             ],
             [
              0.5555555555555556,
              "#d8576b"
             ],
             [
              0.6666666666666666,
              "#ed7953"
             ],
             [
              0.7777777777777778,
              "#fb9f3a"
             ],
             [
              0.8888888888888888,
              "#fdca26"
             ],
             [
              1,
              "#f0f921"
             ]
            ],
            "type": "surface"
           }
          ],
          "table": [
           {
            "cells": {
             "fill": {
              "color": "#EBF0F8"
             },
             "line": {
              "color": "white"
             }
            },
            "header": {
             "fill": {
              "color": "#C8D4E3"
             },
             "line": {
              "color": "white"
             }
            },
            "type": "table"
           }
          ]
         },
         "layout": {
          "annotationdefaults": {
           "arrowcolor": "#2a3f5f",
           "arrowhead": 0,
           "arrowwidth": 1
          },
          "autotypenumbers": "strict",
          "coloraxis": {
           "colorbar": {
            "outlinewidth": 0,
            "ticks": ""
           }
          },
          "colorscale": {
           "diverging": [
            [
             0,
             "#8e0152"
            ],
            [
             0.1,
             "#c51b7d"
            ],
            [
             0.2,
             "#de77ae"
            ],
            [
             0.3,
             "#f1b6da"
            ],
            [
             0.4,
             "#fde0ef"
            ],
            [
             0.5,
             "#f7f7f7"
            ],
            [
             0.6,
             "#e6f5d0"
            ],
            [
             0.7,
             "#b8e186"
            ],
            [
             0.8,
             "#7fbc41"
            ],
            [
             0.9,
             "#4d9221"
            ],
            [
             1,
             "#276419"
            ]
           ],
           "sequential": [
            [
             0,
             "#0d0887"
            ],
            [
             0.1111111111111111,
             "#46039f"
            ],
            [
             0.2222222222222222,
             "#7201a8"
            ],
            [
             0.3333333333333333,
             "#9c179e"
            ],
            [
             0.4444444444444444,
             "#bd3786"
            ],
            [
             0.5555555555555556,
             "#d8576b"
            ],
            [
             0.6666666666666666,
             "#ed7953"
            ],
            [
             0.7777777777777778,
             "#fb9f3a"
            ],
            [
             0.8888888888888888,
             "#fdca26"
            ],
            [
             1,
             "#f0f921"
            ]
           ],
           "sequentialminus": [
            [
             0,
             "#0d0887"
            ],
            [
             0.1111111111111111,
             "#46039f"
            ],
            [
             0.2222222222222222,
             "#7201a8"
            ],
            [
             0.3333333333333333,
             "#9c179e"
            ],
            [
             0.4444444444444444,
             "#bd3786"
            ],
            [
             0.5555555555555556,
             "#d8576b"
            ],
            [
             0.6666666666666666,
             "#ed7953"
            ],
            [
             0.7777777777777778,
             "#fb9f3a"
            ],
            [
             0.8888888888888888,
             "#fdca26"
            ],
            [
             1,
             "#f0f921"
            ]
           ]
          },
          "colorway": [
           "#636efa",
           "#EF553B",
           "#00cc96",
           "#ab63fa",
           "#FFA15A",
           "#19d3f3",
           "#FF6692",
           "#B6E880",
           "#FF97FF",
           "#FECB52"
          ],
          "font": {
           "color": "#2a3f5f"
          },
          "geo": {
           "bgcolor": "white",
           "lakecolor": "white",
           "landcolor": "#E5ECF6",
           "showlakes": true,
           "showland": true,
           "subunitcolor": "white"
          },
          "hoverlabel": {
           "align": "left"
          },
          "hovermode": "closest",
          "mapbox": {
           "style": "light"
          },
          "paper_bgcolor": "white",
          "plot_bgcolor": "#E5ECF6",
          "polar": {
           "angularaxis": {
            "gridcolor": "white",
            "linecolor": "white",
            "ticks": ""
           },
           "bgcolor": "#E5ECF6",
           "radialaxis": {
            "gridcolor": "white",
            "linecolor": "white",
            "ticks": ""
           }
          },
          "scene": {
           "xaxis": {
            "backgroundcolor": "#E5ECF6",
            "gridcolor": "white",
            "gridwidth": 2,
            "linecolor": "white",
            "showbackground": true,
            "ticks": "",
            "zerolinecolor": "white"
           },
           "yaxis": {
            "backgroundcolor": "#E5ECF6",
            "gridcolor": "white",
            "gridwidth": 2,
            "linecolor": "white",
            "showbackground": true,
            "ticks": "",
            "zerolinecolor": "white"
           },
           "zaxis": {
            "backgroundcolor": "#E5ECF6",
            "gridcolor": "white",
            "gridwidth": 2,
            "linecolor": "white",
            "showbackground": true,
            "ticks": "",
            "zerolinecolor": "white"
           }
          },
          "shapedefaults": {
           "line": {
            "color": "#2a3f5f"
           }
          },
          "ternary": {
           "aaxis": {
            "gridcolor": "white",
            "linecolor": "white",
            "ticks": ""
           },
           "baxis": {
            "gridcolor": "white",
            "linecolor": "white",
            "ticks": ""
           },
           "bgcolor": "#E5ECF6",
           "caxis": {
            "gridcolor": "white",
            "linecolor": "white",
            "ticks": ""
           }
          },
          "title": {
           "x": 0.05
          },
          "xaxis": {
           "automargin": true,
           "gridcolor": "white",
           "linecolor": "white",
           "ticks": "",
           "title": {
            "standoff": 15
           },
           "zerolinecolor": "white",
           "zerolinewidth": 2
          },
          "yaxis": {
           "automargin": true,
           "gridcolor": "white",
           "linecolor": "white",
           "ticks": "",
           "title": {
            "standoff": 15
           },
           "zerolinecolor": "white",
           "zerolinewidth": 2
          }
         }
        },
        "title": {
         "text": "Party F's Top 10 Topics"
        },
        "xaxis": {
         "anchor": "y",
         "domain": [
          0,
          1
         ],
         "title": {
          "text": "count"
         }
        },
        "yaxis": {
         "anchor": "x",
         "domain": [
          0,
          1
         ],
         "title": {}
        }
       }
      }
     },
     "metadata": {},
     "output_type": "display_data"
    },
    {
     "data": {
      "application/vnd.plotly.v1+json": {
       "config": {
        "plotlyServerURL": "https://plot.ly"
       },
       "data": [
        {
         "alignmentgroup": "True",
         "hovertemplate": "count=%{x}<br>subtopic=%{y}<extra></extra>",
         "legendgroup": "",
         "marker": {
          "color": "green",
          "pattern": {
           "shape": ""
          }
         },
         "name": "",
         "offsetgroup": "",
         "orientation": "h",
         "showlegend": false,
         "textposition": "auto",
         "type": "bar",
         "x": [
          4,
          6,
          6,
          7,
          8,
          8,
          8,
          9,
          10,
          29
         ],
         "xaxis": "x",
         "y": [
          "Canadian Dairy Commission Act",
          "Proceedings of the House and Committees",
          "Resumption of Debate on Address in Reply",
          "Broadcasting Act",
          "Citizenship Act",
          "Fall Economic Statement",
          "Criminal Code",
          "Resumption of debate on Address in Reply",
          "Canada-United States-Mexico Agreement Implementation Act",
          "Petitions"
         ],
         "yaxis": "y"
        }
       ],
       "layout": {
        "barmode": "relative",
        "height": 500,
        "legend": {
         "tracegroupgap": 0
        },
        "showlegend": false,
        "template": {
         "data": {
          "bar": [
           {
            "error_x": {
             "color": "#2a3f5f"
            },
            "error_y": {
             "color": "#2a3f5f"
            },
            "marker": {
             "line": {
              "color": "#E5ECF6",
              "width": 0.5
             },
             "pattern": {
              "fillmode": "overlay",
              "size": 10,
              "solidity": 0.2
             }
            },
            "type": "bar"
           }
          ],
          "barpolar": [
           {
            "marker": {
             "line": {
              "color": "#E5ECF6",
              "width": 0.5
             },
             "pattern": {
              "fillmode": "overlay",
              "size": 10,
              "solidity": 0.2
             }
            },
            "type": "barpolar"
           }
          ],
          "carpet": [
           {
            "aaxis": {
             "endlinecolor": "#2a3f5f",
             "gridcolor": "white",
             "linecolor": "white",
             "minorgridcolor": "white",
             "startlinecolor": "#2a3f5f"
            },
            "baxis": {
             "endlinecolor": "#2a3f5f",
             "gridcolor": "white",
             "linecolor": "white",
             "minorgridcolor": "white",
             "startlinecolor": "#2a3f5f"
            },
            "type": "carpet"
           }
          ],
          "choropleth": [
           {
            "colorbar": {
             "outlinewidth": 0,
             "ticks": ""
            },
            "type": "choropleth"
           }
          ],
          "contour": [
           {
            "colorbar": {
             "outlinewidth": 0,
             "ticks": ""
            },
            "colorscale": [
             [
              0,
              "#0d0887"
             ],
             [
              0.1111111111111111,
              "#46039f"
             ],
             [
              0.2222222222222222,
              "#7201a8"
             ],
             [
              0.3333333333333333,
              "#9c179e"
             ],
             [
              0.4444444444444444,
              "#bd3786"
             ],
             [
              0.5555555555555556,
              "#d8576b"
             ],
             [
              0.6666666666666666,
              "#ed7953"
             ],
             [
              0.7777777777777778,
              "#fb9f3a"
             ],
             [
              0.8888888888888888,
              "#fdca26"
             ],
             [
              1,
              "#f0f921"
             ]
            ],
            "type": "contour"
           }
          ],
          "contourcarpet": [
           {
            "colorbar": {
             "outlinewidth": 0,
             "ticks": ""
            },
            "type": "contourcarpet"
           }
          ],
          "heatmap": [
           {
            "colorbar": {
             "outlinewidth": 0,
             "ticks": ""
            },
            "colorscale": [
             [
              0,
              "#0d0887"
             ],
             [
              0.1111111111111111,
              "#46039f"
             ],
             [
              0.2222222222222222,
              "#7201a8"
             ],
             [
              0.3333333333333333,
              "#9c179e"
             ],
             [
              0.4444444444444444,
              "#bd3786"
             ],
             [
              0.5555555555555556,
              "#d8576b"
             ],
             [
              0.6666666666666666,
              "#ed7953"
             ],
             [
              0.7777777777777778,
              "#fb9f3a"
             ],
             [
              0.8888888888888888,
              "#fdca26"
             ],
             [
              1,
              "#f0f921"
             ]
            ],
            "type": "heatmap"
           }
          ],
          "heatmapgl": [
           {
            "colorbar": {
             "outlinewidth": 0,
             "ticks": ""
            },
            "colorscale": [
             [
              0,
              "#0d0887"
             ],
             [
              0.1111111111111111,
              "#46039f"
             ],
             [
              0.2222222222222222,
              "#7201a8"
             ],
             [
              0.3333333333333333,
              "#9c179e"
             ],
             [
              0.4444444444444444,
              "#bd3786"
             ],
             [
              0.5555555555555556,
              "#d8576b"
             ],
             [
              0.6666666666666666,
              "#ed7953"
             ],
             [
              0.7777777777777778,
              "#fb9f3a"
             ],
             [
              0.8888888888888888,
              "#fdca26"
             ],
             [
              1,
              "#f0f921"
             ]
            ],
            "type": "heatmapgl"
           }
          ],
          "histogram": [
           {
            "marker": {
             "pattern": {
              "fillmode": "overlay",
              "size": 10,
              "solidity": 0.2
             }
            },
            "type": "histogram"
           }
          ],
          "histogram2d": [
           {
            "colorbar": {
             "outlinewidth": 0,
             "ticks": ""
            },
            "colorscale": [
             [
              0,
              "#0d0887"
             ],
             [
              0.1111111111111111,
              "#46039f"
             ],
             [
              0.2222222222222222,
              "#7201a8"
             ],
             [
              0.3333333333333333,
              "#9c179e"
             ],
             [
              0.4444444444444444,
              "#bd3786"
             ],
             [
              0.5555555555555556,
              "#d8576b"
             ],
             [
              0.6666666666666666,
              "#ed7953"
             ],
             [
              0.7777777777777778,
              "#fb9f3a"
             ],
             [
              0.8888888888888888,
              "#fdca26"
             ],
             [
              1,
              "#f0f921"
             ]
            ],
            "type": "histogram2d"
           }
          ],
          "histogram2dcontour": [
           {
            "colorbar": {
             "outlinewidth": 0,
             "ticks": ""
            },
            "colorscale": [
             [
              0,
              "#0d0887"
             ],
             [
              0.1111111111111111,
              "#46039f"
             ],
             [
              0.2222222222222222,
              "#7201a8"
             ],
             [
              0.3333333333333333,
              "#9c179e"
             ],
             [
              0.4444444444444444,
              "#bd3786"
             ],
             [
              0.5555555555555556,
              "#d8576b"
             ],
             [
              0.6666666666666666,
              "#ed7953"
             ],
             [
              0.7777777777777778,
              "#fb9f3a"
             ],
             [
              0.8888888888888888,
              "#fdca26"
             ],
             [
              1,
              "#f0f921"
             ]
            ],
            "type": "histogram2dcontour"
           }
          ],
          "mesh3d": [
           {
            "colorbar": {
             "outlinewidth": 0,
             "ticks": ""
            },
            "type": "mesh3d"
           }
          ],
          "parcoords": [
           {
            "line": {
             "colorbar": {
              "outlinewidth": 0,
              "ticks": ""
             }
            },
            "type": "parcoords"
           }
          ],
          "pie": [
           {
            "automargin": true,
            "type": "pie"
           }
          ],
          "scatter": [
           {
            "fillpattern": {
             "fillmode": "overlay",
             "size": 10,
             "solidity": 0.2
            },
            "type": "scatter"
           }
          ],
          "scatter3d": [
           {
            "line": {
             "colorbar": {
              "outlinewidth": 0,
              "ticks": ""
             }
            },
            "marker": {
             "colorbar": {
              "outlinewidth": 0,
              "ticks": ""
             }
            },
            "type": "scatter3d"
           }
          ],
          "scattercarpet": [
           {
            "marker": {
             "colorbar": {
              "outlinewidth": 0,
              "ticks": ""
             }
            },
            "type": "scattercarpet"
           }
          ],
          "scattergeo": [
           {
            "marker": {
             "colorbar": {
              "outlinewidth": 0,
              "ticks": ""
             }
            },
            "type": "scattergeo"
           }
          ],
          "scattergl": [
           {
            "marker": {
             "colorbar": {
              "outlinewidth": 0,
              "ticks": ""
             }
            },
            "type": "scattergl"
           }
          ],
          "scattermapbox": [
           {
            "marker": {
             "colorbar": {
              "outlinewidth": 0,
              "ticks": ""
             }
            },
            "type": "scattermapbox"
           }
          ],
          "scatterpolar": [
           {
            "marker": {
             "colorbar": {
              "outlinewidth": 0,
              "ticks": ""
             }
            },
            "type": "scatterpolar"
           }
          ],
          "scatterpolargl": [
           {
            "marker": {
             "colorbar": {
              "outlinewidth": 0,
              "ticks": ""
             }
            },
            "type": "scatterpolargl"
           }
          ],
          "scatterternary": [
           {
            "marker": {
             "colorbar": {
              "outlinewidth": 0,
              "ticks": ""
             }
            },
            "type": "scatterternary"
           }
          ],
          "surface": [
           {
            "colorbar": {
             "outlinewidth": 0,
             "ticks": ""
            },
            "colorscale": [
             [
              0,
              "#0d0887"
             ],
             [
              0.1111111111111111,
              "#46039f"
             ],
             [
              0.2222222222222222,
              "#7201a8"
             ],
             [
              0.3333333333333333,
              "#9c179e"
             ],
             [
              0.4444444444444444,
              "#bd3786"
             ],
             [
              0.5555555555555556,
              "#d8576b"
             ],
             [
              0.6666666666666666,
              "#ed7953"
             ],
             [
              0.7777777777777778,
              "#fb9f3a"
             ],
             [
              0.8888888888888888,
              "#fdca26"
             ],
             [
              1,
              "#f0f921"
             ]
            ],
            "type": "surface"
           }
          ],
          "table": [
           {
            "cells": {
             "fill": {
              "color": "#EBF0F8"
             },
             "line": {
              "color": "white"
             }
            },
            "header": {
             "fill": {
              "color": "#C8D4E3"
             },
             "line": {
              "color": "white"
             }
            },
            "type": "table"
           }
          ]
         },
         "layout": {
          "annotationdefaults": {
           "arrowcolor": "#2a3f5f",
           "arrowhead": 0,
           "arrowwidth": 1
          },
          "autotypenumbers": "strict",
          "coloraxis": {
           "colorbar": {
            "outlinewidth": 0,
            "ticks": ""
           }
          },
          "colorscale": {
           "diverging": [
            [
             0,
             "#8e0152"
            ],
            [
             0.1,
             "#c51b7d"
            ],
            [
             0.2,
             "#de77ae"
            ],
            [
             0.3,
             "#f1b6da"
            ],
            [
             0.4,
             "#fde0ef"
            ],
            [
             0.5,
             "#f7f7f7"
            ],
            [
             0.6,
             "#e6f5d0"
            ],
            [
             0.7,
             "#b8e186"
            ],
            [
             0.8,
             "#7fbc41"
            ],
            [
             0.9,
             "#4d9221"
            ],
            [
             1,
             "#276419"
            ]
           ],
           "sequential": [
            [
             0,
             "#0d0887"
            ],
            [
             0.1111111111111111,
             "#46039f"
            ],
            [
             0.2222222222222222,
             "#7201a8"
            ],
            [
             0.3333333333333333,
             "#9c179e"
            ],
            [
             0.4444444444444444,
             "#bd3786"
            ],
            [
             0.5555555555555556,
             "#d8576b"
            ],
            [
             0.6666666666666666,
             "#ed7953"
            ],
            [
             0.7777777777777778,
             "#fb9f3a"
            ],
            [
             0.8888888888888888,
             "#fdca26"
            ],
            [
             1,
             "#f0f921"
            ]
           ],
           "sequentialminus": [
            [
             0,
             "#0d0887"
            ],
            [
             0.1111111111111111,
             "#46039f"
            ],
            [
             0.2222222222222222,
             "#7201a8"
            ],
            [
             0.3333333333333333,
             "#9c179e"
            ],
            [
             0.4444444444444444,
             "#bd3786"
            ],
            [
             0.5555555555555556,
             "#d8576b"
            ],
            [
             0.6666666666666666,
             "#ed7953"
            ],
            [
             0.7777777777777778,
             "#fb9f3a"
            ],
            [
             0.8888888888888888,
             "#fdca26"
            ],
            [
             1,
             "#f0f921"
            ]
           ]
          },
          "colorway": [
           "#636efa",
           "#EF553B",
           "#00cc96",
           "#ab63fa",
           "#FFA15A",
           "#19d3f3",
           "#FF6692",
           "#B6E880",
           "#FF97FF",
           "#FECB52"
          ],
          "font": {
           "color": "#2a3f5f"
          },
          "geo": {
           "bgcolor": "white",
           "lakecolor": "white",
           "landcolor": "#E5ECF6",
           "showlakes": true,
           "showland": true,
           "subunitcolor": "white"
          },
          "hoverlabel": {
           "align": "left"
          },
          "hovermode": "closest",
          "mapbox": {
           "style": "light"
          },
          "paper_bgcolor": "white",
          "plot_bgcolor": "#E5ECF6",
          "polar": {
           "angularaxis": {
            "gridcolor": "white",
            "linecolor": "white",
            "ticks": ""
           },
           "bgcolor": "#E5ECF6",
           "radialaxis": {
            "gridcolor": "white",
            "linecolor": "white",
            "ticks": ""
           }
          },
          "scene": {
           "xaxis": {
            "backgroundcolor": "#E5ECF6",
            "gridcolor": "white",
            "gridwidth": 2,
            "linecolor": "white",
            "showbackground": true,
            "ticks": "",
            "zerolinecolor": "white"
           },
           "yaxis": {
            "backgroundcolor": "#E5ECF6",
            "gridcolor": "white",
            "gridwidth": 2,
            "linecolor": "white",
            "showbackground": true,
            "ticks": "",
            "zerolinecolor": "white"
           },
           "zaxis": {
            "backgroundcolor": "#E5ECF6",
            "gridcolor": "white",
            "gridwidth": 2,
            "linecolor": "white",
            "showbackground": true,
            "ticks": "",
            "zerolinecolor": "white"
           }
          },
          "shapedefaults": {
           "line": {
            "color": "#2a3f5f"
           }
          },
          "ternary": {
           "aaxis": {
            "gridcolor": "white",
            "linecolor": "white",
            "ticks": ""
           },
           "baxis": {
            "gridcolor": "white",
            "linecolor": "white",
            "ticks": ""
           },
           "bgcolor": "#E5ECF6",
           "caxis": {
            "gridcolor": "white",
            "linecolor": "white",
            "ticks": ""
           }
          },
          "title": {
           "x": 0.05
          },
          "xaxis": {
           "automargin": true,
           "gridcolor": "white",
           "linecolor": "white",
           "ticks": "",
           "title": {
            "standoff": 15
           },
           "zerolinecolor": "white",
           "zerolinewidth": 2
          },
          "yaxis": {
           "automargin": true,
           "gridcolor": "white",
           "linecolor": "white",
           "ticks": "",
           "title": {
            "standoff": 15
           },
           "zerolinecolor": "white",
           "zerolinewidth": 2
          }
         }
        },
        "title": {
         "text": "Party E's Top 10 Topics"
        },
        "xaxis": {
         "anchor": "y",
         "domain": [
          0,
          1
         ],
         "title": {
          "text": "count"
         }
        },
        "yaxis": {
         "anchor": "x",
         "domain": [
          0,
          1
         ],
         "title": {}
        }
       }
      }
     },
     "metadata": {},
     "output_type": "display_data"
    },
    {
     "data": {
      "application/vnd.plotly.v1+json": {
       "config": {
        "plotlyServerURL": "https://plot.ly"
       },
       "data": [
        {
         "alignmentgroup": "True",
         "hovertemplate": "count=%{x}<br>subtopic=%{y}<extra></extra>",
         "legendgroup": "",
         "marker": {
          "color": "blue",
          "pattern": {
           "shape": ""
          }
         },
         "name": "",
         "offsetgroup": "",
         "orientation": "h",
         "showlegend": false,
         "textposition": "auto",
         "type": "bar",
         "x": [
          56,
          60,
          70,
          72,
          74,
          86,
          100,
          119,
          145,
          186
         ],
         "xaxis": "x",
         "y": [
          "Canadian Dairy Commission Act",
          "Judges Act",
          "Health",
          "Broadcasting Act",
          "Citizenship Act",
          "Canada-United States-Mexico Agreement Implementation Act",
          "Resumption of Debate on Address in Reply",
          "Petitions",
          "Business of Supply",
          "Criminal Code"
         ],
         "yaxis": "y"
        }
       ],
       "layout": {
        "barmode": "relative",
        "height": 500,
        "legend": {
         "tracegroupgap": 0
        },
        "showlegend": false,
        "template": {
         "data": {
          "bar": [
           {
            "error_x": {
             "color": "#2a3f5f"
            },
            "error_y": {
             "color": "#2a3f5f"
            },
            "marker": {
             "line": {
              "color": "#E5ECF6",
              "width": 0.5
             },
             "pattern": {
              "fillmode": "overlay",
              "size": 10,
              "solidity": 0.2
             }
            },
            "type": "bar"
           }
          ],
          "barpolar": [
           {
            "marker": {
             "line": {
              "color": "#E5ECF6",
              "width": 0.5
             },
             "pattern": {
              "fillmode": "overlay",
              "size": 10,
              "solidity": 0.2
             }
            },
            "type": "barpolar"
           }
          ],
          "carpet": [
           {
            "aaxis": {
             "endlinecolor": "#2a3f5f",
             "gridcolor": "white",
             "linecolor": "white",
             "minorgridcolor": "white",
             "startlinecolor": "#2a3f5f"
            },
            "baxis": {
             "endlinecolor": "#2a3f5f",
             "gridcolor": "white",
             "linecolor": "white",
             "minorgridcolor": "white",
             "startlinecolor": "#2a3f5f"
            },
            "type": "carpet"
           }
          ],
          "choropleth": [
           {
            "colorbar": {
             "outlinewidth": 0,
             "ticks": ""
            },
            "type": "choropleth"
           }
          ],
          "contour": [
           {
            "colorbar": {
             "outlinewidth": 0,
             "ticks": ""
            },
            "colorscale": [
             [
              0,
              "#0d0887"
             ],
             [
              0.1111111111111111,
              "#46039f"
             ],
             [
              0.2222222222222222,
              "#7201a8"
             ],
             [
              0.3333333333333333,
              "#9c179e"
             ],
             [
              0.4444444444444444,
              "#bd3786"
             ],
             [
              0.5555555555555556,
              "#d8576b"
             ],
             [
              0.6666666666666666,
              "#ed7953"
             ],
             [
              0.7777777777777778,
              "#fb9f3a"
             ],
             [
              0.8888888888888888,
              "#fdca26"
             ],
             [
              1,
              "#f0f921"
             ]
            ],
            "type": "contour"
           }
          ],
          "contourcarpet": [
           {
            "colorbar": {
             "outlinewidth": 0,
             "ticks": ""
            },
            "type": "contourcarpet"
           }
          ],
          "heatmap": [
           {
            "colorbar": {
             "outlinewidth": 0,
             "ticks": ""
            },
            "colorscale": [
             [
              0,
              "#0d0887"
             ],
             [
              0.1111111111111111,
              "#46039f"
             ],
             [
              0.2222222222222222,
              "#7201a8"
             ],
             [
              0.3333333333333333,
              "#9c179e"
             ],
             [
              0.4444444444444444,
              "#bd3786"
             ],
             [
              0.5555555555555556,
              "#d8576b"
             ],
             [
              0.6666666666666666,
              "#ed7953"
             ],
             [
              0.7777777777777778,
              "#fb9f3a"
             ],
             [
              0.8888888888888888,
              "#fdca26"
             ],
             [
              1,
              "#f0f921"
             ]
            ],
            "type": "heatmap"
           }
          ],
          "heatmapgl": [
           {
            "colorbar": {
             "outlinewidth": 0,
             "ticks": ""
            },
            "colorscale": [
             [
              0,
              "#0d0887"
             ],
             [
              0.1111111111111111,
              "#46039f"
             ],
             [
              0.2222222222222222,
              "#7201a8"
             ],
             [
              0.3333333333333333,
              "#9c179e"
             ],
             [
              0.4444444444444444,
              "#bd3786"
             ],
             [
              0.5555555555555556,
              "#d8576b"
             ],
             [
              0.6666666666666666,
              "#ed7953"
             ],
             [
              0.7777777777777778,
              "#fb9f3a"
             ],
             [
              0.8888888888888888,
              "#fdca26"
             ],
             [
              1,
              "#f0f921"
             ]
            ],
            "type": "heatmapgl"
           }
          ],
          "histogram": [
           {
            "marker": {
             "pattern": {
              "fillmode": "overlay",
              "size": 10,
              "solidity": 0.2
             }
            },
            "type": "histogram"
           }
          ],
          "histogram2d": [
           {
            "colorbar": {
             "outlinewidth": 0,
             "ticks": ""
            },
            "colorscale": [
             [
              0,
              "#0d0887"
             ],
             [
              0.1111111111111111,
              "#46039f"
             ],
             [
              0.2222222222222222,
              "#7201a8"
             ],
             [
              0.3333333333333333,
              "#9c179e"
             ],
             [
              0.4444444444444444,
              "#bd3786"
             ],
             [
              0.5555555555555556,
              "#d8576b"
             ],
             [
              0.6666666666666666,
              "#ed7953"
             ],
             [
              0.7777777777777778,
              "#fb9f3a"
             ],
             [
              0.8888888888888888,
              "#fdca26"
             ],
             [
              1,
              "#f0f921"
             ]
            ],
            "type": "histogram2d"
           }
          ],
          "histogram2dcontour": [
           {
            "colorbar": {
             "outlinewidth": 0,
             "ticks": ""
            },
            "colorscale": [
             [
              0,
              "#0d0887"
             ],
             [
              0.1111111111111111,
              "#46039f"
             ],
             [
              0.2222222222222222,
              "#7201a8"
             ],
             [
              0.3333333333333333,
              "#9c179e"
             ],
             [
              0.4444444444444444,
              "#bd3786"
             ],
             [
              0.5555555555555556,
              "#d8576b"
             ],
             [
              0.6666666666666666,
              "#ed7953"
             ],
             [
              0.7777777777777778,
              "#fb9f3a"
             ],
             [
              0.8888888888888888,
              "#fdca26"
             ],
             [
              1,
              "#f0f921"
             ]
            ],
            "type": "histogram2dcontour"
           }
          ],
          "mesh3d": [
           {
            "colorbar": {
             "outlinewidth": 0,
             "ticks": ""
            },
            "type": "mesh3d"
           }
          ],
          "parcoords": [
           {
            "line": {
             "colorbar": {
              "outlinewidth": 0,
              "ticks": ""
             }
            },
            "type": "parcoords"
           }
          ],
          "pie": [
           {
            "automargin": true,
            "type": "pie"
           }
          ],
          "scatter": [
           {
            "fillpattern": {
             "fillmode": "overlay",
             "size": 10,
             "solidity": 0.2
            },
            "type": "scatter"
           }
          ],
          "scatter3d": [
           {
            "line": {
             "colorbar": {
              "outlinewidth": 0,
              "ticks": ""
             }
            },
            "marker": {
             "colorbar": {
              "outlinewidth": 0,
              "ticks": ""
             }
            },
            "type": "scatter3d"
           }
          ],
          "scattercarpet": [
           {
            "marker": {
             "colorbar": {
              "outlinewidth": 0,
              "ticks": ""
             }
            },
            "type": "scattercarpet"
           }
          ],
          "scattergeo": [
           {
            "marker": {
             "colorbar": {
              "outlinewidth": 0,
              "ticks": ""
             }
            },
            "type": "scattergeo"
           }
          ],
          "scattergl": [
           {
            "marker": {
             "colorbar": {
              "outlinewidth": 0,
              "ticks": ""
             }
            },
            "type": "scattergl"
           }
          ],
          "scattermapbox": [
           {
            "marker": {
             "colorbar": {
              "outlinewidth": 0,
              "ticks": ""
             }
            },
            "type": "scattermapbox"
           }
          ],
          "scatterpolar": [
           {
            "marker": {
             "colorbar": {
              "outlinewidth": 0,
              "ticks": ""
             }
            },
            "type": "scatterpolar"
           }
          ],
          "scatterpolargl": [
           {
            "marker": {
             "colorbar": {
              "outlinewidth": 0,
              "ticks": ""
             }
            },
            "type": "scatterpolargl"
           }
          ],
          "scatterternary": [
           {
            "marker": {
             "colorbar": {
              "outlinewidth": 0,
              "ticks": ""
             }
            },
            "type": "scatterternary"
           }
          ],
          "surface": [
           {
            "colorbar": {
             "outlinewidth": 0,
             "ticks": ""
            },
            "colorscale": [
             [
              0,
              "#0d0887"
             ],
             [
              0.1111111111111111,
              "#46039f"
             ],
             [
              0.2222222222222222,
              "#7201a8"
             ],
             [
              0.3333333333333333,
              "#9c179e"
             ],
             [
              0.4444444444444444,
              "#bd3786"
             ],
             [
              0.5555555555555556,
              "#d8576b"
             ],
             [
              0.6666666666666666,
              "#ed7953"
             ],
             [
              0.7777777777777778,
              "#fb9f3a"
             ],
             [
              0.8888888888888888,
              "#fdca26"
             ],
             [
              1,
              "#f0f921"
             ]
            ],
            "type": "surface"
           }
          ],
          "table": [
           {
            "cells": {
             "fill": {
              "color": "#EBF0F8"
             },
             "line": {
              "color": "white"
             }
            },
            "header": {
             "fill": {
              "color": "#C8D4E3"
             },
             "line": {
              "color": "white"
             }
            },
            "type": "table"
           }
          ]
         },
         "layout": {
          "annotationdefaults": {
           "arrowcolor": "#2a3f5f",
           "arrowhead": 0,
           "arrowwidth": 1
          },
          "autotypenumbers": "strict",
          "coloraxis": {
           "colorbar": {
            "outlinewidth": 0,
            "ticks": ""
           }
          },
          "colorscale": {
           "diverging": [
            [
             0,
             "#8e0152"
            ],
            [
             0.1,
             "#c51b7d"
            ],
            [
             0.2,
             "#de77ae"
            ],
            [
             0.3,
             "#f1b6da"
            ],
            [
             0.4,
             "#fde0ef"
            ],
            [
             0.5,
             "#f7f7f7"
            ],
            [
             0.6,
             "#e6f5d0"
            ],
            [
             0.7,
             "#b8e186"
            ],
            [
             0.8,
             "#7fbc41"
            ],
            [
             0.9,
             "#4d9221"
            ],
            [
             1,
             "#276419"
            ]
           ],
           "sequential": [
            [
             0,
             "#0d0887"
            ],
            [
             0.1111111111111111,
             "#46039f"
            ],
            [
             0.2222222222222222,
             "#7201a8"
            ],
            [
             0.3333333333333333,
             "#9c179e"
            ],
            [
             0.4444444444444444,
             "#bd3786"
            ],
            [
             0.5555555555555556,
             "#d8576b"
            ],
            [
             0.6666666666666666,
             "#ed7953"
            ],
            [
             0.7777777777777778,
             "#fb9f3a"
            ],
            [
             0.8888888888888888,
             "#fdca26"
            ],
            [
             1,
             "#f0f921"
            ]
           ],
           "sequentialminus": [
            [
             0,
             "#0d0887"
            ],
            [
             0.1111111111111111,
             "#46039f"
            ],
            [
             0.2222222222222222,
             "#7201a8"
            ],
            [
             0.3333333333333333,
             "#9c179e"
            ],
            [
             0.4444444444444444,
             "#bd3786"
            ],
            [
             0.5555555555555556,
             "#d8576b"
            ],
            [
             0.6666666666666666,
             "#ed7953"
            ],
            [
             0.7777777777777778,
             "#fb9f3a"
            ],
            [
             0.8888888888888888,
             "#fdca26"
            ],
            [
             1,
             "#f0f921"
            ]
           ]
          },
          "colorway": [
           "#636efa",
           "#EF553B",
           "#00cc96",
           "#ab63fa",
           "#FFA15A",
           "#19d3f3",
           "#FF6692",
           "#B6E880",
           "#FF97FF",
           "#FECB52"
          ],
          "font": {
           "color": "#2a3f5f"
          },
          "geo": {
           "bgcolor": "white",
           "lakecolor": "white",
           "landcolor": "#E5ECF6",
           "showlakes": true,
           "showland": true,
           "subunitcolor": "white"
          },
          "hoverlabel": {
           "align": "left"
          },
          "hovermode": "closest",
          "mapbox": {
           "style": "light"
          },
          "paper_bgcolor": "white",
          "plot_bgcolor": "#E5ECF6",
          "polar": {
           "angularaxis": {
            "gridcolor": "white",
            "linecolor": "white",
            "ticks": ""
           },
           "bgcolor": "#E5ECF6",
           "radialaxis": {
            "gridcolor": "white",
            "linecolor": "white",
            "ticks": ""
           }
          },
          "scene": {
           "xaxis": {
            "backgroundcolor": "#E5ECF6",
            "gridcolor": "white",
            "gridwidth": 2,
            "linecolor": "white",
            "showbackground": true,
            "ticks": "",
            "zerolinecolor": "white"
           },
           "yaxis": {
            "backgroundcolor": "#E5ECF6",
            "gridcolor": "white",
            "gridwidth": 2,
            "linecolor": "white",
            "showbackground": true,
            "ticks": "",
            "zerolinecolor": "white"
           },
           "zaxis": {
            "backgroundcolor": "#E5ECF6",
            "gridcolor": "white",
            "gridwidth": 2,
            "linecolor": "white",
            "showbackground": true,
            "ticks": "",
            "zerolinecolor": "white"
           }
          },
          "shapedefaults": {
           "line": {
            "color": "#2a3f5f"
           }
          },
          "ternary": {
           "aaxis": {
            "gridcolor": "white",
            "linecolor": "white",
            "ticks": ""
           },
           "baxis": {
            "gridcolor": "white",
            "linecolor": "white",
            "ticks": ""
           },
           "bgcolor": "#E5ECF6",
           "caxis": {
            "gridcolor": "white",
            "linecolor": "white",
            "ticks": ""
           }
          },
          "title": {
           "x": 0.05
          },
          "xaxis": {
           "automargin": true,
           "gridcolor": "white",
           "linecolor": "white",
           "ticks": "",
           "title": {
            "standoff": 15
           },
           "zerolinecolor": "white",
           "zerolinewidth": 2
          },
          "yaxis": {
           "automargin": true,
           "gridcolor": "white",
           "linecolor": "white",
           "ticks": "",
           "title": {
            "standoff": 15
           },
           "zerolinecolor": "white",
           "zerolinewidth": 2
          }
         }
        },
        "title": {
         "text": "Party D's Top 10 Topics"
        },
        "xaxis": {
         "anchor": "y",
         "domain": [
          0,
          1
         ],
         "title": {
          "text": "count"
         }
        },
        "yaxis": {
         "anchor": "x",
         "domain": [
          0,
          1
         ],
         "title": {}
        }
       }
      }
     },
     "metadata": {},
     "output_type": "display_data"
    },
    {
     "data": {
      "application/vnd.plotly.v1+json": {
       "config": {
        "plotlyServerURL": "https://plot.ly"
       },
       "data": [
        {
         "alignmentgroup": "True",
         "hovertemplate": "count=%{x}<br>subtopic=%{y}<extra></extra>",
         "legendgroup": "",
         "marker": {
          "color": "lightblue",
          "pattern": {
           "shape": ""
          }
         },
         "name": "",
         "offsetgroup": "",
         "orientation": "h",
         "showlegend": false,
         "textposition": "auto",
         "type": "bar",
         "x": [
          14,
          14,
          15,
          18,
          23,
          26,
          30,
          31,
          38,
          42
         ],
         "xaxis": "x",
         "y": [
          "Health",
          "Further COVID-19 Measures Act",
          "Resumption of debate on Address in Reply",
          "Citizenship Act",
          "Judges Act",
          "Criminal Code",
          "Business of Supply",
          "Canadian Dairy Commission Act",
          "Canada-United States-Mexico Agreement Implementation Act",
          "Resumption of Debate on Address in Reply"
         ],
         "yaxis": "y"
        }
       ],
       "layout": {
        "barmode": "relative",
        "height": 500,
        "legend": {
         "tracegroupgap": 0
        },
        "showlegend": false,
        "template": {
         "data": {
          "bar": [
           {
            "error_x": {
             "color": "#2a3f5f"
            },
            "error_y": {
             "color": "#2a3f5f"
            },
            "marker": {
             "line": {
              "color": "#E5ECF6",
              "width": 0.5
             },
             "pattern": {
              "fillmode": "overlay",
              "size": 10,
              "solidity": 0.2
             }
            },
            "type": "bar"
           }
          ],
          "barpolar": [
           {
            "marker": {
             "line": {
              "color": "#E5ECF6",
              "width": 0.5
             },
             "pattern": {
              "fillmode": "overlay",
              "size": 10,
              "solidity": 0.2
             }
            },
            "type": "barpolar"
           }
          ],
          "carpet": [
           {
            "aaxis": {
             "endlinecolor": "#2a3f5f",
             "gridcolor": "white",
             "linecolor": "white",
             "minorgridcolor": "white",
             "startlinecolor": "#2a3f5f"
            },
            "baxis": {
             "endlinecolor": "#2a3f5f",
             "gridcolor": "white",
             "linecolor": "white",
             "minorgridcolor": "white",
             "startlinecolor": "#2a3f5f"
            },
            "type": "carpet"
           }
          ],
          "choropleth": [
           {
            "colorbar": {
             "outlinewidth": 0,
             "ticks": ""
            },
            "type": "choropleth"
           }
          ],
          "contour": [
           {
            "colorbar": {
             "outlinewidth": 0,
             "ticks": ""
            },
            "colorscale": [
             [
              0,
              "#0d0887"
             ],
             [
              0.1111111111111111,
              "#46039f"
             ],
             [
              0.2222222222222222,
              "#7201a8"
             ],
             [
              0.3333333333333333,
              "#9c179e"
             ],
             [
              0.4444444444444444,
              "#bd3786"
             ],
             [
              0.5555555555555556,
              "#d8576b"
             ],
             [
              0.6666666666666666,
              "#ed7953"
             ],
             [
              0.7777777777777778,
              "#fb9f3a"
             ],
             [
              0.8888888888888888,
              "#fdca26"
             ],
             [
              1,
              "#f0f921"
             ]
            ],
            "type": "contour"
           }
          ],
          "contourcarpet": [
           {
            "colorbar": {
             "outlinewidth": 0,
             "ticks": ""
            },
            "type": "contourcarpet"
           }
          ],
          "heatmap": [
           {
            "colorbar": {
             "outlinewidth": 0,
             "ticks": ""
            },
            "colorscale": [
             [
              0,
              "#0d0887"
             ],
             [
              0.1111111111111111,
              "#46039f"
             ],
             [
              0.2222222222222222,
              "#7201a8"
             ],
             [
              0.3333333333333333,
              "#9c179e"
             ],
             [
              0.4444444444444444,
              "#bd3786"
             ],
             [
              0.5555555555555556,
              "#d8576b"
             ],
             [
              0.6666666666666666,
              "#ed7953"
             ],
             [
              0.7777777777777778,
              "#fb9f3a"
             ],
             [
              0.8888888888888888,
              "#fdca26"
             ],
             [
              1,
              "#f0f921"
             ]
            ],
            "type": "heatmap"
           }
          ],
          "heatmapgl": [
           {
            "colorbar": {
             "outlinewidth": 0,
             "ticks": ""
            },
            "colorscale": [
             [
              0,
              "#0d0887"
             ],
             [
              0.1111111111111111,
              "#46039f"
             ],
             [
              0.2222222222222222,
              "#7201a8"
             ],
             [
              0.3333333333333333,
              "#9c179e"
             ],
             [
              0.4444444444444444,
              "#bd3786"
             ],
             [
              0.5555555555555556,
              "#d8576b"
             ],
             [
              0.6666666666666666,
              "#ed7953"
             ],
             [
              0.7777777777777778,
              "#fb9f3a"
             ],
             [
              0.8888888888888888,
              "#fdca26"
             ],
             [
              1,
              "#f0f921"
             ]
            ],
            "type": "heatmapgl"
           }
          ],
          "histogram": [
           {
            "marker": {
             "pattern": {
              "fillmode": "overlay",
              "size": 10,
              "solidity": 0.2
             }
            },
            "type": "histogram"
           }
          ],
          "histogram2d": [
           {
            "colorbar": {
             "outlinewidth": 0,
             "ticks": ""
            },
            "colorscale": [
             [
              0,
              "#0d0887"
             ],
             [
              0.1111111111111111,
              "#46039f"
             ],
             [
              0.2222222222222222,
              "#7201a8"
             ],
             [
              0.3333333333333333,
              "#9c179e"
             ],
             [
              0.4444444444444444,
              "#bd3786"
             ],
             [
              0.5555555555555556,
              "#d8576b"
             ],
             [
              0.6666666666666666,
              "#ed7953"
             ],
             [
              0.7777777777777778,
              "#fb9f3a"
             ],
             [
              0.8888888888888888,
              "#fdca26"
             ],
             [
              1,
              "#f0f921"
             ]
            ],
            "type": "histogram2d"
           }
          ],
          "histogram2dcontour": [
           {
            "colorbar": {
             "outlinewidth": 0,
             "ticks": ""
            },
            "colorscale": [
             [
              0,
              "#0d0887"
             ],
             [
              0.1111111111111111,
              "#46039f"
             ],
             [
              0.2222222222222222,
              "#7201a8"
             ],
             [
              0.3333333333333333,
              "#9c179e"
             ],
             [
              0.4444444444444444,
              "#bd3786"
             ],
             [
              0.5555555555555556,
              "#d8576b"
             ],
             [
              0.6666666666666666,
              "#ed7953"
             ],
             [
              0.7777777777777778,
              "#fb9f3a"
             ],
             [
              0.8888888888888888,
              "#fdca26"
             ],
             [
              1,
              "#f0f921"
             ]
            ],
            "type": "histogram2dcontour"
           }
          ],
          "mesh3d": [
           {
            "colorbar": {
             "outlinewidth": 0,
             "ticks": ""
            },
            "type": "mesh3d"
           }
          ],
          "parcoords": [
           {
            "line": {
             "colorbar": {
              "outlinewidth": 0,
              "ticks": ""
             }
            },
            "type": "parcoords"
           }
          ],
          "pie": [
           {
            "automargin": true,
            "type": "pie"
           }
          ],
          "scatter": [
           {
            "fillpattern": {
             "fillmode": "overlay",
             "size": 10,
             "solidity": 0.2
            },
            "type": "scatter"
           }
          ],
          "scatter3d": [
           {
            "line": {
             "colorbar": {
              "outlinewidth": 0,
              "ticks": ""
             }
            },
            "marker": {
             "colorbar": {
              "outlinewidth": 0,
              "ticks": ""
             }
            },
            "type": "scatter3d"
           }
          ],
          "scattercarpet": [
           {
            "marker": {
             "colorbar": {
              "outlinewidth": 0,
              "ticks": ""
             }
            },
            "type": "scattercarpet"
           }
          ],
          "scattergeo": [
           {
            "marker": {
             "colorbar": {
              "outlinewidth": 0,
              "ticks": ""
             }
            },
            "type": "scattergeo"
           }
          ],
          "scattergl": [
           {
            "marker": {
             "colorbar": {
              "outlinewidth": 0,
              "ticks": ""
             }
            },
            "type": "scattergl"
           }
          ],
          "scattermapbox": [
           {
            "marker": {
             "colorbar": {
              "outlinewidth": 0,
              "ticks": ""
             }
            },
            "type": "scattermapbox"
           }
          ],
          "scatterpolar": [
           {
            "marker": {
             "colorbar": {
              "outlinewidth": 0,
              "ticks": ""
             }
            },
            "type": "scatterpolar"
           }
          ],
          "scatterpolargl": [
           {
            "marker": {
             "colorbar": {
              "outlinewidth": 0,
              "ticks": ""
             }
            },
            "type": "scatterpolargl"
           }
          ],
          "scatterternary": [
           {
            "marker": {
             "colorbar": {
              "outlinewidth": 0,
              "ticks": ""
             }
            },
            "type": "scatterternary"
           }
          ],
          "surface": [
           {
            "colorbar": {
             "outlinewidth": 0,
             "ticks": ""
            },
            "colorscale": [
             [
              0,
              "#0d0887"
             ],
             [
              0.1111111111111111,
              "#46039f"
             ],
             [
              0.2222222222222222,
              "#7201a8"
             ],
             [
              0.3333333333333333,
              "#9c179e"
             ],
             [
              0.4444444444444444,
              "#bd3786"
             ],
             [
              0.5555555555555556,
              "#d8576b"
             ],
             [
              0.6666666666666666,
              "#ed7953"
             ],
             [
              0.7777777777777778,
              "#fb9f3a"
             ],
             [
              0.8888888888888888,
              "#fdca26"
             ],
             [
              1,
              "#f0f921"
             ]
            ],
            "type": "surface"
           }
          ],
          "table": [
           {
            "cells": {
             "fill": {
              "color": "#EBF0F8"
             },
             "line": {
              "color": "white"
             }
            },
            "header": {
             "fill": {
              "color": "#C8D4E3"
             },
             "line": {
              "color": "white"
             }
            },
            "type": "table"
           }
          ]
         },
         "layout": {
          "annotationdefaults": {
           "arrowcolor": "#2a3f5f",
           "arrowhead": 0,
           "arrowwidth": 1
          },
          "autotypenumbers": "strict",
          "coloraxis": {
           "colorbar": {
            "outlinewidth": 0,
            "ticks": ""
           }
          },
          "colorscale": {
           "diverging": [
            [
             0,
             "#8e0152"
            ],
            [
             0.1,
             "#c51b7d"
            ],
            [
             0.2,
             "#de77ae"
            ],
            [
             0.3,
             "#f1b6da"
            ],
            [
             0.4,
             "#fde0ef"
            ],
            [
             0.5,
             "#f7f7f7"
            ],
            [
             0.6,
             "#e6f5d0"
            ],
            [
             0.7,
             "#b8e186"
            ],
            [
             0.8,
             "#7fbc41"
            ],
            [
             0.9,
             "#4d9221"
            ],
            [
             1,
             "#276419"
            ]
           ],
           "sequential": [
            [
             0,
             "#0d0887"
            ],
            [
             0.1111111111111111,
             "#46039f"
            ],
            [
             0.2222222222222222,
             "#7201a8"
            ],
            [
             0.3333333333333333,
             "#9c179e"
            ],
            [
             0.4444444444444444,
             "#bd3786"
            ],
            [
             0.5555555555555556,
             "#d8576b"
            ],
            [
             0.6666666666666666,
             "#ed7953"
            ],
            [
             0.7777777777777778,
             "#fb9f3a"
            ],
            [
             0.8888888888888888,
             "#fdca26"
            ],
            [
             1,
             "#f0f921"
            ]
           ],
           "sequentialminus": [
            [
             0,
             "#0d0887"
            ],
            [
             0.1111111111111111,
             "#46039f"
            ],
            [
             0.2222222222222222,
             "#7201a8"
            ],
            [
             0.3333333333333333,
             "#9c179e"
            ],
            [
             0.4444444444444444,
             "#bd3786"
            ],
            [
             0.5555555555555556,
             "#d8576b"
            ],
            [
             0.6666666666666666,
             "#ed7953"
            ],
            [
             0.7777777777777778,
             "#fb9f3a"
            ],
            [
             0.8888888888888888,
             "#fdca26"
            ],
            [
             1,
             "#f0f921"
            ]
           ]
          },
          "colorway": [
           "#636efa",
           "#EF553B",
           "#00cc96",
           "#ab63fa",
           "#FFA15A",
           "#19d3f3",
           "#FF6692",
           "#B6E880",
           "#FF97FF",
           "#FECB52"
          ],
          "font": {
           "color": "#2a3f5f"
          },
          "geo": {
           "bgcolor": "white",
           "lakecolor": "white",
           "landcolor": "#E5ECF6",
           "showlakes": true,
           "showland": true,
           "subunitcolor": "white"
          },
          "hoverlabel": {
           "align": "left"
          },
          "hovermode": "closest",
          "mapbox": {
           "style": "light"
          },
          "paper_bgcolor": "white",
          "plot_bgcolor": "#E5ECF6",
          "polar": {
           "angularaxis": {
            "gridcolor": "white",
            "linecolor": "white",
            "ticks": ""
           },
           "bgcolor": "#E5ECF6",
           "radialaxis": {
            "gridcolor": "white",
            "linecolor": "white",
            "ticks": ""
           }
          },
          "scene": {
           "xaxis": {
            "backgroundcolor": "#E5ECF6",
            "gridcolor": "white",
            "gridwidth": 2,
            "linecolor": "white",
            "showbackground": true,
            "ticks": "",
            "zerolinecolor": "white"
           },
           "yaxis": {
            "backgroundcolor": "#E5ECF6",
            "gridcolor": "white",
            "gridwidth": 2,
            "linecolor": "white",
            "showbackground": true,
            "ticks": "",
            "zerolinecolor": "white"
           },
           "zaxis": {
            "backgroundcolor": "#E5ECF6",
            "gridcolor": "white",
            "gridwidth": 2,
            "linecolor": "white",
            "showbackground": true,
            "ticks": "",
            "zerolinecolor": "white"
           }
          },
          "shapedefaults": {
           "line": {
            "color": "#2a3f5f"
           }
          },
          "ternary": {
           "aaxis": {
            "gridcolor": "white",
            "linecolor": "white",
            "ticks": ""
           },
           "baxis": {
            "gridcolor": "white",
            "linecolor": "white",
            "ticks": ""
           },
           "bgcolor": "#E5ECF6",
           "caxis": {
            "gridcolor": "white",
            "linecolor": "white",
            "ticks": ""
           }
          },
          "title": {
           "x": 0.05
          },
          "xaxis": {
           "automargin": true,
           "gridcolor": "white",
           "linecolor": "white",
           "ticks": "",
           "title": {
            "standoff": 15
           },
           "zerolinecolor": "white",
           "zerolinewidth": 2
          },
          "yaxis": {
           "automargin": true,
           "gridcolor": "white",
           "linecolor": "white",
           "ticks": "",
           "title": {
            "standoff": 15
           },
           "zerolinecolor": "white",
           "zerolinewidth": 2
          }
         }
        },
        "title": {
         "text": "Party C's Top 10 Topics"
        },
        "xaxis": {
         "anchor": "y",
         "domain": [
          0,
          1
         ],
         "title": {
          "text": "count"
         }
        },
        "yaxis": {
         "anchor": "x",
         "domain": [
          0,
          1
         ],
         "title": {}
        }
       }
      }
     },
     "metadata": {},
     "output_type": "display_data"
    },
    {
     "data": {
      "application/vnd.plotly.v1+json": {
       "config": {
        "plotlyServerURL": "https://plot.ly"
       },
       "data": [
        {
         "alignmentgroup": "True",
         "hovertemplate": "count=%{x}<br>subtopic=%{y}<extra></extra>",
         "legendgroup": "",
         "marker": {
          "color": "lightseagreen",
          "pattern": {
           "shape": ""
          }
         },
         "name": "",
         "offsetgroup": "",
         "orientation": "h",
         "showlegend": false,
         "textposition": "auto",
         "type": "bar",
         "x": [
          1,
          1,
          2,
          4
         ],
         "xaxis": "x",
         "y": [
          "Interparliamentary Delegations",
          "Indigenous Affairs",
          "Justice",
          "Resumption of Debate on Address in Reply"
         ],
         "yaxis": "y"
        }
       ],
       "layout": {
        "barmode": "relative",
        "height": 500,
        "legend": {
         "tracegroupgap": 0
        },
        "showlegend": false,
        "template": {
         "data": {
          "bar": [
           {
            "error_x": {
             "color": "#2a3f5f"
            },
            "error_y": {
             "color": "#2a3f5f"
            },
            "marker": {
             "line": {
              "color": "#E5ECF6",
              "width": 0.5
             },
             "pattern": {
              "fillmode": "overlay",
              "size": 10,
              "solidity": 0.2
             }
            },
            "type": "bar"
           }
          ],
          "barpolar": [
           {
            "marker": {
             "line": {
              "color": "#E5ECF6",
              "width": 0.5
             },
             "pattern": {
              "fillmode": "overlay",
              "size": 10,
              "solidity": 0.2
             }
            },
            "type": "barpolar"
           }
          ],
          "carpet": [
           {
            "aaxis": {
             "endlinecolor": "#2a3f5f",
             "gridcolor": "white",
             "linecolor": "white",
             "minorgridcolor": "white",
             "startlinecolor": "#2a3f5f"
            },
            "baxis": {
             "endlinecolor": "#2a3f5f",
             "gridcolor": "white",
             "linecolor": "white",
             "minorgridcolor": "white",
             "startlinecolor": "#2a3f5f"
            },
            "type": "carpet"
           }
          ],
          "choropleth": [
           {
            "colorbar": {
             "outlinewidth": 0,
             "ticks": ""
            },
            "type": "choropleth"
           }
          ],
          "contour": [
           {
            "colorbar": {
             "outlinewidth": 0,
             "ticks": ""
            },
            "colorscale": [
             [
              0,
              "#0d0887"
             ],
             [
              0.1111111111111111,
              "#46039f"
             ],
             [
              0.2222222222222222,
              "#7201a8"
             ],
             [
              0.3333333333333333,
              "#9c179e"
             ],
             [
              0.4444444444444444,
              "#bd3786"
             ],
             [
              0.5555555555555556,
              "#d8576b"
             ],
             [
              0.6666666666666666,
              "#ed7953"
             ],
             [
              0.7777777777777778,
              "#fb9f3a"
             ],
             [
              0.8888888888888888,
              "#fdca26"
             ],
             [
              1,
              "#f0f921"
             ]
            ],
            "type": "contour"
           }
          ],
          "contourcarpet": [
           {
            "colorbar": {
             "outlinewidth": 0,
             "ticks": ""
            },
            "type": "contourcarpet"
           }
          ],
          "heatmap": [
           {
            "colorbar": {
             "outlinewidth": 0,
             "ticks": ""
            },
            "colorscale": [
             [
              0,
              "#0d0887"
             ],
             [
              0.1111111111111111,
              "#46039f"
             ],
             [
              0.2222222222222222,
              "#7201a8"
             ],
             [
              0.3333333333333333,
              "#9c179e"
             ],
             [
              0.4444444444444444,
              "#bd3786"
             ],
             [
              0.5555555555555556,
              "#d8576b"
             ],
             [
              0.6666666666666666,
              "#ed7953"
             ],
             [
              0.7777777777777778,
              "#fb9f3a"
             ],
             [
              0.8888888888888888,
              "#fdca26"
             ],
             [
              1,
              "#f0f921"
             ]
            ],
            "type": "heatmap"
           }
          ],
          "heatmapgl": [
           {
            "colorbar": {
             "outlinewidth": 0,
             "ticks": ""
            },
            "colorscale": [
             [
              0,
              "#0d0887"
             ],
             [
              0.1111111111111111,
              "#46039f"
             ],
             [
              0.2222222222222222,
              "#7201a8"
             ],
             [
              0.3333333333333333,
              "#9c179e"
             ],
             [
              0.4444444444444444,
              "#bd3786"
             ],
             [
              0.5555555555555556,
              "#d8576b"
             ],
             [
              0.6666666666666666,
              "#ed7953"
             ],
             [
              0.7777777777777778,
              "#fb9f3a"
             ],
             [
              0.8888888888888888,
              "#fdca26"
             ],
             [
              1,
              "#f0f921"
             ]
            ],
            "type": "heatmapgl"
           }
          ],
          "histogram": [
           {
            "marker": {
             "pattern": {
              "fillmode": "overlay",
              "size": 10,
              "solidity": 0.2
             }
            },
            "type": "histogram"
           }
          ],
          "histogram2d": [
           {
            "colorbar": {
             "outlinewidth": 0,
             "ticks": ""
            },
            "colorscale": [
             [
              0,
              "#0d0887"
             ],
             [
              0.1111111111111111,
              "#46039f"
             ],
             [
              0.2222222222222222,
              "#7201a8"
             ],
             [
              0.3333333333333333,
              "#9c179e"
             ],
             [
              0.4444444444444444,
              "#bd3786"
             ],
             [
              0.5555555555555556,
              "#d8576b"
             ],
             [
              0.6666666666666666,
              "#ed7953"
             ],
             [
              0.7777777777777778,
              "#fb9f3a"
             ],
             [
              0.8888888888888888,
              "#fdca26"
             ],
             [
              1,
              "#f0f921"
             ]
            ],
            "type": "histogram2d"
           }
          ],
          "histogram2dcontour": [
           {
            "colorbar": {
             "outlinewidth": 0,
             "ticks": ""
            },
            "colorscale": [
             [
              0,
              "#0d0887"
             ],
             [
              0.1111111111111111,
              "#46039f"
             ],
             [
              0.2222222222222222,
              "#7201a8"
             ],
             [
              0.3333333333333333,
              "#9c179e"
             ],
             [
              0.4444444444444444,
              "#bd3786"
             ],
             [
              0.5555555555555556,
              "#d8576b"
             ],
             [
              0.6666666666666666,
              "#ed7953"
             ],
             [
              0.7777777777777778,
              "#fb9f3a"
             ],
             [
              0.8888888888888888,
              "#fdca26"
             ],
             [
              1,
              "#f0f921"
             ]
            ],
            "type": "histogram2dcontour"
           }
          ],
          "mesh3d": [
           {
            "colorbar": {
             "outlinewidth": 0,
             "ticks": ""
            },
            "type": "mesh3d"
           }
          ],
          "parcoords": [
           {
            "line": {
             "colorbar": {
              "outlinewidth": 0,
              "ticks": ""
             }
            },
            "type": "parcoords"
           }
          ],
          "pie": [
           {
            "automargin": true,
            "type": "pie"
           }
          ],
          "scatter": [
           {
            "fillpattern": {
             "fillmode": "overlay",
             "size": 10,
             "solidity": 0.2
            },
            "type": "scatter"
           }
          ],
          "scatter3d": [
           {
            "line": {
             "colorbar": {
              "outlinewidth": 0,
              "ticks": ""
             }
            },
            "marker": {
             "colorbar": {
              "outlinewidth": 0,
              "ticks": ""
             }
            },
            "type": "scatter3d"
           }
          ],
          "scattercarpet": [
           {
            "marker": {
             "colorbar": {
              "outlinewidth": 0,
              "ticks": ""
             }
            },
            "type": "scattercarpet"
           }
          ],
          "scattergeo": [
           {
            "marker": {
             "colorbar": {
              "outlinewidth": 0,
              "ticks": ""
             }
            },
            "type": "scattergeo"
           }
          ],
          "scattergl": [
           {
            "marker": {
             "colorbar": {
              "outlinewidth": 0,
              "ticks": ""
             }
            },
            "type": "scattergl"
           }
          ],
          "scattermapbox": [
           {
            "marker": {
             "colorbar": {
              "outlinewidth": 0,
              "ticks": ""
             }
            },
            "type": "scattermapbox"
           }
          ],
          "scatterpolar": [
           {
            "marker": {
             "colorbar": {
              "outlinewidth": 0,
              "ticks": ""
             }
            },
            "type": "scatterpolar"
           }
          ],
          "scatterpolargl": [
           {
            "marker": {
             "colorbar": {
              "outlinewidth": 0,
              "ticks": ""
             }
            },
            "type": "scatterpolargl"
           }
          ],
          "scatterternary": [
           {
            "marker": {
             "colorbar": {
              "outlinewidth": 0,
              "ticks": ""
             }
            },
            "type": "scatterternary"
           }
          ],
          "surface": [
           {
            "colorbar": {
             "outlinewidth": 0,
             "ticks": ""
            },
            "colorscale": [
             [
              0,
              "#0d0887"
             ],
             [
              0.1111111111111111,
              "#46039f"
             ],
             [
              0.2222222222222222,
              "#7201a8"
             ],
             [
              0.3333333333333333,
              "#9c179e"
             ],
             [
              0.4444444444444444,
              "#bd3786"
             ],
             [
              0.5555555555555556,
              "#d8576b"
             ],
             [
              0.6666666666666666,
              "#ed7953"
             ],
             [
              0.7777777777777778,
              "#fb9f3a"
             ],
             [
              0.8888888888888888,
              "#fdca26"
             ],
             [
              1,
              "#f0f921"
             ]
            ],
            "type": "surface"
           }
          ],
          "table": [
           {
            "cells": {
             "fill": {
              "color": "#EBF0F8"
             },
             "line": {
              "color": "white"
             }
            },
            "header": {
             "fill": {
              "color": "#C8D4E3"
             },
             "line": {
              "color": "white"
             }
            },
            "type": "table"
           }
          ]
         },
         "layout": {
          "annotationdefaults": {
           "arrowcolor": "#2a3f5f",
           "arrowhead": 0,
           "arrowwidth": 1
          },
          "autotypenumbers": "strict",
          "coloraxis": {
           "colorbar": {
            "outlinewidth": 0,
            "ticks": ""
           }
          },
          "colorscale": {
           "diverging": [
            [
             0,
             "#8e0152"
            ],
            [
             0.1,
             "#c51b7d"
            ],
            [
             0.2,
             "#de77ae"
            ],
            [
             0.3,
             "#f1b6da"
            ],
            [
             0.4,
             "#fde0ef"
            ],
            [
             0.5,
             "#f7f7f7"
            ],
            [
             0.6,
             "#e6f5d0"
            ],
            [
             0.7,
             "#b8e186"
            ],
            [
             0.8,
             "#7fbc41"
            ],
            [
             0.9,
             "#4d9221"
            ],
            [
             1,
             "#276419"
            ]
           ],
           "sequential": [
            [
             0,
             "#0d0887"
            ],
            [
             0.1111111111111111,
             "#46039f"
            ],
            [
             0.2222222222222222,
             "#7201a8"
            ],
            [
             0.3333333333333333,
             "#9c179e"
            ],
            [
             0.4444444444444444,
             "#bd3786"
            ],
            [
             0.5555555555555556,
             "#d8576b"
            ],
            [
             0.6666666666666666,
             "#ed7953"
            ],
            [
             0.7777777777777778,
             "#fb9f3a"
            ],
            [
             0.8888888888888888,
             "#fdca26"
            ],
            [
             1,
             "#f0f921"
            ]
           ],
           "sequentialminus": [
            [
             0,
             "#0d0887"
            ],
            [
             0.1111111111111111,
             "#46039f"
            ],
            [
             0.2222222222222222,
             "#7201a8"
            ],
            [
             0.3333333333333333,
             "#9c179e"
            ],
            [
             0.4444444444444444,
             "#bd3786"
            ],
            [
             0.5555555555555556,
             "#d8576b"
            ],
            [
             0.6666666666666666,
             "#ed7953"
            ],
            [
             0.7777777777777778,
             "#fb9f3a"
            ],
            [
             0.8888888888888888,
             "#fdca26"
            ],
            [
             1,
             "#f0f921"
            ]
           ]
          },
          "colorway": [
           "#636efa",
           "#EF553B",
           "#00cc96",
           "#ab63fa",
           "#FFA15A",
           "#19d3f3",
           "#FF6692",
           "#B6E880",
           "#FF97FF",
           "#FECB52"
          ],
          "font": {
           "color": "#2a3f5f"
          },
          "geo": {
           "bgcolor": "white",
           "lakecolor": "white",
           "landcolor": "#E5ECF6",
           "showlakes": true,
           "showland": true,
           "subunitcolor": "white"
          },
          "hoverlabel": {
           "align": "left"
          },
          "hovermode": "closest",
          "mapbox": {
           "style": "light"
          },
          "paper_bgcolor": "white",
          "plot_bgcolor": "#E5ECF6",
          "polar": {
           "angularaxis": {
            "gridcolor": "white",
            "linecolor": "white",
            "ticks": ""
           },
           "bgcolor": "#E5ECF6",
           "radialaxis": {
            "gridcolor": "white",
            "linecolor": "white",
            "ticks": ""
           }
          },
          "scene": {
           "xaxis": {
            "backgroundcolor": "#E5ECF6",
            "gridcolor": "white",
            "gridwidth": 2,
            "linecolor": "white",
            "showbackground": true,
            "ticks": "",
            "zerolinecolor": "white"
           },
           "yaxis": {
            "backgroundcolor": "#E5ECF6",
            "gridcolor": "white",
            "gridwidth": 2,
            "linecolor": "white",
            "showbackground": true,
            "ticks": "",
            "zerolinecolor": "white"
           },
           "zaxis": {
            "backgroundcolor": "#E5ECF6",
            "gridcolor": "white",
            "gridwidth": 2,
            "linecolor": "white",
            "showbackground": true,
            "ticks": "",
            "zerolinecolor": "white"
           }
          },
          "shapedefaults": {
           "line": {
            "color": "#2a3f5f"
           }
          },
          "ternary": {
           "aaxis": {
            "gridcolor": "white",
            "linecolor": "white",
            "ticks": ""
           },
           "baxis": {
            "gridcolor": "white",
            "linecolor": "white",
            "ticks": ""
           },
           "bgcolor": "#E5ECF6",
           "caxis": {
            "gridcolor": "white",
            "linecolor": "white",
            "ticks": ""
           }
          },
          "title": {
           "x": 0.05
          },
          "xaxis": {
           "automargin": true,
           "gridcolor": "white",
           "linecolor": "white",
           "ticks": "",
           "title": {
            "standoff": 15
           },
           "zerolinecolor": "white",
           "zerolinewidth": 2
          },
          "yaxis": {
           "automargin": true,
           "gridcolor": "white",
           "linecolor": "white",
           "ticks": "",
           "title": {
            "standoff": 15
           },
           "zerolinecolor": "white",
           "zerolinewidth": 2
          }
         }
        },
        "title": {
         "text": "Party B's Top 10 Topics"
        },
        "xaxis": {
         "anchor": "y",
         "domain": [
          0,
          1
         ],
         "title": {
          "text": "count"
         }
        },
        "yaxis": {
         "anchor": "x",
         "domain": [
          0,
          1
         ],
         "title": {}
        }
       }
      }
     },
     "metadata": {},
     "output_type": "display_data"
    }
   ],
   "source": [
    "colors = ['red', 'orange', 'green', 'blue', 'lightblue', 'lightseagreen']\n",
    "for index, party in enumerate(hansard['speakerparty'].dropna().unique()):\n",
    "    party_topics = pd.DataFrame(hansard.groupby(['subtopic', 'speakerparty'])['subtopic'].aggregate('count').reset_index(name='count'))\n",
    "    party_topics = party_topics.sort_values(by=['count'])\n",
    "    party_topics = party_topics[party_topics['speakerparty'] == party]\n",
    "    fig = px.bar(party_topics.tail(10), title=f\"{party}'s Top 10 Topics\", y='subtopic', x='count', orientation='h')\n",
    "    fig.update_traces(marker_color=colors[index]).update_layout(yaxis_title=None, showlegend=False, height=500).show()\n"
   ]
  },
  {
   "attachments": {},
   "cell_type": "markdown",
   "id": "4180efd5",
   "metadata": {},
   "source": [
    "Uncomment the below cell (remove the `#`) to reveal the party names:"
   ]
  },
  {
   "cell_type": "code",
   "execution_count": 16,
   "id": "a10dbcdd",
   "metadata": {},
   "outputs": [],
   "source": [
    "# mapping"
   ]
  },
  {
   "attachments": {},
   "cell_type": "markdown",
   "id": "f2ba21f9",
   "metadata": {},
   "source": [
    "### Questions:\n",
    "\n",
    "1. Which topics stand out between the different parties of Parliament?\n",
    "2. What is the significance of studying and analyzing the topics discussed by members of Parliament in Canadian politics?\n",
    "3. How might the frequency of discussions on specific topics reflect the priorities or concerns of the government and the society?\n",
    "4. What challenges might arise when analyzing and interpreting data on the topics discussed in Parliament?"
   ]
  },
  {
   "attachments": {},
   "cell_type": "markdown",
   "id": "47981834",
   "metadata": {},
   "source": [
    "### Investigating Canadian Parliament's 'Eh'-Pi"
   ]
  },
  {
   "attachments": {},
   "cell_type": "markdown",
   "id": "e752cc74",
   "metadata": {},
   "source": [
    "An API, which stands for **Application Programming Interface**, is like a bridge that allows different software applications to communicate and interact with each other. \n",
    "\n",
    "Imagine you're at a restaurant. The _menu_ acts as an API because it provides an simplfied way for you to interact with the kitchen. Instead of going into the kitchen directly and asking the chef how to cook your dish, you simply order off the menu. The kitchen staff then uses the instructions provided on the menu to prepare and serve your menu."
   ]
  },
  {
   "attachments": {},
   "cell_type": "markdown",
   "id": "b1d0cc13",
   "metadata": {},
   "source": [
    "The API we'll be using is from [openparliament.ca](https://openparliament.ca)"
   ]
  },
  {
   "attachments": {},
   "cell_type": "markdown",
   "id": "9119cd45",
   "metadata": {},
   "source": [
    "Let's obtain information from _openparliament_ by making a request to a specific web address. "
   ]
  },
  {
   "cell_type": "code",
   "execution_count": 17,
   "id": "ecf0d31d",
   "metadata": {},
   "outputs": [
    {
     "data": {
      "text/html": [
       "<div>\n",
       "<style scoped>\n",
       "    .dataframe tbody tr th:only-of-type {\n",
       "        vertical-align: middle;\n",
       "    }\n",
       "\n",
       "    .dataframe tbody tr th {\n",
       "        vertical-align: top;\n",
       "    }\n",
       "\n",
       "    .dataframe thead th {\n",
       "        text-align: right;\n",
       "    }\n",
       "</style>\n",
       "<table border=\"1\" class=\"dataframe\">\n",
       "  <thead>\n",
       "    <tr style=\"text-align: right;\">\n",
       "      <th></th>\n",
       "      <th>result</th>\n",
       "      <th>url</th>\n",
       "      <th>session</th>\n",
       "      <th>bill_url</th>\n",
       "      <th>nay_total</th>\n",
       "      <th>date</th>\n",
       "      <th>yea_total</th>\n",
       "      <th>paired_total</th>\n",
       "      <th>number</th>\n",
       "      <th>description</th>\n",
       "    </tr>\n",
       "  </thead>\n",
       "  <tbody>\n",
       "    <tr>\n",
       "      <th>0</th>\n",
       "      <td>Passed</td>\n",
       "      <td>/votes/44-1/366/</td>\n",
       "      <td>44-1</td>\n",
       "      <td>/bills/44-1/C-47/</td>\n",
       "      <td>146</td>\n",
       "      <td>2023-06-08</td>\n",
       "      <td>177</td>\n",
       "      <td>2</td>\n",
       "      <td>366</td>\n",
       "      <td>{'fr': '3e lecture et adoption du projet de lo...</td>\n",
       "    </tr>\n",
       "    <tr>\n",
       "      <th>1</th>\n",
       "      <td>Passed</td>\n",
       "      <td>/votes/44-1/365/</td>\n",
       "      <td>44-1</td>\n",
       "      <td>/bills/44-1/C-47/</td>\n",
       "      <td>145</td>\n",
       "      <td>2023-06-07</td>\n",
       "      <td>178</td>\n",
       "      <td>2</td>\n",
       "      <td>365</td>\n",
       "      <td>{'fr': 'Adoption à l’étape du rapport du proje...</td>\n",
       "    </tr>\n",
       "    <tr>\n",
       "      <th>2</th>\n",
       "      <td>Failed</td>\n",
       "      <td>/votes/44-1/364/</td>\n",
       "      <td>44-1</td>\n",
       "      <td>/bills/44-1/C-47/</td>\n",
       "      <td>207</td>\n",
       "      <td>2023-06-07</td>\n",
       "      <td>113</td>\n",
       "      <td>2</td>\n",
       "      <td>364</td>\n",
       "      <td>{'fr': 'Projet de loi C-47, Loi portant exécut...</td>\n",
       "    </tr>\n",
       "    <tr>\n",
       "      <th>3</th>\n",
       "      <td>Failed</td>\n",
       "      <td>/votes/44-1/363/</td>\n",
       "      <td>44-1</td>\n",
       "      <td>/bills/44-1/C-47/</td>\n",
       "      <td>208</td>\n",
       "      <td>2023-06-07</td>\n",
       "      <td>112</td>\n",
       "      <td>2</td>\n",
       "      <td>363</td>\n",
       "      <td>{'fr': 'Projet de loi C-47, Loi portant exécut...</td>\n",
       "    </tr>\n",
       "    <tr>\n",
       "      <th>4</th>\n",
       "      <td>Failed</td>\n",
       "      <td>/votes/44-1/362/</td>\n",
       "      <td>44-1</td>\n",
       "      <td>/bills/44-1/C-47/</td>\n",
       "      <td>208</td>\n",
       "      <td>2023-06-07</td>\n",
       "      <td>114</td>\n",
       "      <td>2</td>\n",
       "      <td>362</td>\n",
       "      <td>{'fr': 'Projet de loi C-47, Loi portant exécut...</td>\n",
       "    </tr>\n",
       "    <tr>\n",
       "      <th>...</th>\n",
       "      <td>...</td>\n",
       "      <td>...</td>\n",
       "      <td>...</td>\n",
       "      <td>...</td>\n",
       "      <td>...</td>\n",
       "      <td>...</td>\n",
       "      <td>...</td>\n",
       "      <td>...</td>\n",
       "      <td>...</td>\n",
       "      <td>...</td>\n",
       "    </tr>\n",
       "    <tr>\n",
       "      <th>95</th>\n",
       "      <td>Passed</td>\n",
       "      <td>/votes/44-1/271/</td>\n",
       "      <td>44-1</td>\n",
       "      <td>/bills/44-1/S-224/</td>\n",
       "      <td>0</td>\n",
       "      <td>2023-03-22</td>\n",
       "      <td>322</td>\n",
       "      <td>4</td>\n",
       "      <td>271</td>\n",
       "      <td>{'fr': '2e lecture du projet de loi S-224, Loi...</td>\n",
       "    </tr>\n",
       "    <tr>\n",
       "      <th>96</th>\n",
       "      <td>Failed</td>\n",
       "      <td>/votes/44-1/270/</td>\n",
       "      <td>44-1</td>\n",
       "      <td>/bills/44-1/C-289/</td>\n",
       "      <td>171</td>\n",
       "      <td>2023-03-22</td>\n",
       "      <td>149</td>\n",
       "      <td>4</td>\n",
       "      <td>270</td>\n",
       "      <td>{'fr': '2e lecture du projet de loi C-289, Loi...</td>\n",
       "    </tr>\n",
       "    <tr>\n",
       "      <th>97</th>\n",
       "      <td>Passed</td>\n",
       "      <td>/votes/44-1/269/</td>\n",
       "      <td>44-1</td>\n",
       "      <td>/bills/44-1/S-209/</td>\n",
       "      <td>114</td>\n",
       "      <td>2023-03-22</td>\n",
       "      <td>208</td>\n",
       "      <td>4</td>\n",
       "      <td>269</td>\n",
       "      <td>{'fr': '2e lecture du projet de loi S-209, Loi...</td>\n",
       "    </tr>\n",
       "    <tr>\n",
       "      <th>98</th>\n",
       "      <td>Passed</td>\n",
       "      <td>/votes/44-1/268/</td>\n",
       "      <td>44-1</td>\n",
       "      <td>None</td>\n",
       "      <td>0</td>\n",
       "      <td>2023-03-21</td>\n",
       "      <td>325</td>\n",
       "      <td>4</td>\n",
       "      <td>268</td>\n",
       "      <td>{'fr': 'Quatrième rapport du Comité permanent ...</td>\n",
       "    </tr>\n",
       "    <tr>\n",
       "      <th>99</th>\n",
       "      <td>Failed</td>\n",
       "      <td>/votes/44-1/267/</td>\n",
       "      <td>44-1</td>\n",
       "      <td>None</td>\n",
       "      <td>177</td>\n",
       "      <td>2023-03-21</td>\n",
       "      <td>147</td>\n",
       "      <td>4</td>\n",
       "      <td>267</td>\n",
       "      <td>{'fr': 'Motion de l’opposition (Instruction au...</td>\n",
       "    </tr>\n",
       "  </tbody>\n",
       "</table>\n",
       "<p>100 rows × 10 columns</p>\n",
       "</div>"
      ],
      "text/plain": [
       "    result               url session            bill_url  nay_total  \\\n",
       "0   Passed  /votes/44-1/366/    44-1   /bills/44-1/C-47/        146   \n",
       "1   Passed  /votes/44-1/365/    44-1   /bills/44-1/C-47/        145   \n",
       "2   Failed  /votes/44-1/364/    44-1   /bills/44-1/C-47/        207   \n",
       "3   Failed  /votes/44-1/363/    44-1   /bills/44-1/C-47/        208   \n",
       "4   Failed  /votes/44-1/362/    44-1   /bills/44-1/C-47/        208   \n",
       "..     ...               ...     ...                 ...        ...   \n",
       "95  Passed  /votes/44-1/271/    44-1  /bills/44-1/S-224/          0   \n",
       "96  Failed  /votes/44-1/270/    44-1  /bills/44-1/C-289/        171   \n",
       "97  Passed  /votes/44-1/269/    44-1  /bills/44-1/S-209/        114   \n",
       "98  Passed  /votes/44-1/268/    44-1                None          0   \n",
       "99  Failed  /votes/44-1/267/    44-1                None        177   \n",
       "\n",
       "          date  yea_total  paired_total  number  \\\n",
       "0   2023-06-08        177             2     366   \n",
       "1   2023-06-07        178             2     365   \n",
       "2   2023-06-07        113             2     364   \n",
       "3   2023-06-07        112             2     363   \n",
       "4   2023-06-07        114             2     362   \n",
       "..         ...        ...           ...     ...   \n",
       "95  2023-03-22        322             4     271   \n",
       "96  2023-03-22        149             4     270   \n",
       "97  2023-03-22        208             4     269   \n",
       "98  2023-03-21        325             4     268   \n",
       "99  2023-03-21        147             4     267   \n",
       "\n",
       "                                          description  \n",
       "0   {'fr': '3e lecture et adoption du projet de lo...  \n",
       "1   {'fr': 'Adoption à l’étape du rapport du proje...  \n",
       "2   {'fr': 'Projet de loi C-47, Loi portant exécut...  \n",
       "3   {'fr': 'Projet de loi C-47, Loi portant exécut...  \n",
       "4   {'fr': 'Projet de loi C-47, Loi portant exécut...  \n",
       "..                                                ...  \n",
       "95  {'fr': '2e lecture du projet de loi S-224, Loi...  \n",
       "96  {'fr': '2e lecture du projet de loi C-289, Loi...  \n",
       "97  {'fr': '2e lecture du projet de loi S-209, Loi...  \n",
       "98  {'fr': 'Quatrième rapport du Comité permanent ...  \n",
       "99  {'fr': 'Motion de l’opposition (Instruction au...  \n",
       "\n",
       "[100 rows x 10 columns]"
      ]
     },
     "metadata": {},
     "output_type": "display_data"
    }
   ],
   "source": [
    "r = requests.get('http://api.openparliament.ca/votes/?format=json&limit=100')\n",
    "data = r.json()\n",
    "\n",
    "df = pd.DataFrame(data['objects'])\n",
    "display(df)"
   ]
  },
  {
   "attachments": {},
   "cell_type": "markdown",
   "id": "999c892c",
   "metadata": {},
   "source": [
    "Here we have information of the past 100 bills that have been in circulation in Parliament. However, some of the data we obtained isn't in the correct format we want it in. We want our dataframe to be _clean_ in order to use it in an effective manner. Data cleaning refers to the process of identifying and/or correcting errors, inconsistencies, and inaccuracies in a dataframe. This could in the form of removing missing values, standardizing formats, and dealing with any inconsistencies.\n",
    "\n",
    "In our first step of data cleaning, let's separate the `description` column to two different columns, `english_desc` and `french_desc`."
   ]
  },
  {
   "cell_type": "code",
   "execution_count": 18,
   "id": "af5149f8",
   "metadata": {},
   "outputs": [
    {
     "data": {
      "text/html": [
       "<div>\n",
       "<style scoped>\n",
       "    .dataframe tbody tr th:only-of-type {\n",
       "        vertical-align: middle;\n",
       "    }\n",
       "\n",
       "    .dataframe tbody tr th {\n",
       "        vertical-align: top;\n",
       "    }\n",
       "\n",
       "    .dataframe thead th {\n",
       "        text-align: right;\n",
       "    }\n",
       "</style>\n",
       "<table border=\"1\" class=\"dataframe\">\n",
       "  <thead>\n",
       "    <tr style=\"text-align: right;\">\n",
       "      <th></th>\n",
       "      <th>result</th>\n",
       "      <th>url</th>\n",
       "      <th>session</th>\n",
       "      <th>bill_url</th>\n",
       "      <th>nay_total</th>\n",
       "      <th>date</th>\n",
       "      <th>yea_total</th>\n",
       "      <th>paired_total</th>\n",
       "      <th>number</th>\n",
       "      <th>english_desc</th>\n",
       "      <th>french_desc</th>\n",
       "    </tr>\n",
       "  </thead>\n",
       "  <tbody>\n",
       "    <tr>\n",
       "      <th>0</th>\n",
       "      <td>Passed</td>\n",
       "      <td>/votes/44-1/366/</td>\n",
       "      <td>44-1</td>\n",
       "      <td>/bills/44-1/C-47/</td>\n",
       "      <td>146</td>\n",
       "      <td>2023-06-08</td>\n",
       "      <td>177</td>\n",
       "      <td>2</td>\n",
       "      <td>366</td>\n",
       "      <td>3rd reading and adoption of Bill C-47, An Act ...</td>\n",
       "      <td>3e lecture et adoption du projet de loi C-47, ...</td>\n",
       "    </tr>\n",
       "    <tr>\n",
       "      <th>1</th>\n",
       "      <td>Passed</td>\n",
       "      <td>/votes/44-1/365/</td>\n",
       "      <td>44-1</td>\n",
       "      <td>/bills/44-1/C-47/</td>\n",
       "      <td>145</td>\n",
       "      <td>2023-06-07</td>\n",
       "      <td>178</td>\n",
       "      <td>2</td>\n",
       "      <td>365</td>\n",
       "      <td>Concurrence at report stage of Bill C-47, An A...</td>\n",
       "      <td>Adoption à l’étape du rapport du projet de loi...</td>\n",
       "    </tr>\n",
       "    <tr>\n",
       "      <th>2</th>\n",
       "      <td>Failed</td>\n",
       "      <td>/votes/44-1/364/</td>\n",
       "      <td>44-1</td>\n",
       "      <td>/bills/44-1/C-47/</td>\n",
       "      <td>207</td>\n",
       "      <td>2023-06-07</td>\n",
       "      <td>113</td>\n",
       "      <td>2</td>\n",
       "      <td>364</td>\n",
       "      <td>Bill C-47, An Act to implement certain provisi...</td>\n",
       "      <td>Projet de loi C-47, Loi portant exécution de c...</td>\n",
       "    </tr>\n",
       "    <tr>\n",
       "      <th>3</th>\n",
       "      <td>Failed</td>\n",
       "      <td>/votes/44-1/363/</td>\n",
       "      <td>44-1</td>\n",
       "      <td>/bills/44-1/C-47/</td>\n",
       "      <td>208</td>\n",
       "      <td>2023-06-07</td>\n",
       "      <td>112</td>\n",
       "      <td>2</td>\n",
       "      <td>363</td>\n",
       "      <td>Bill C-47, An Act to implement certain provisi...</td>\n",
       "      <td>Projet de loi C-47, Loi portant exécution de c...</td>\n",
       "    </tr>\n",
       "    <tr>\n",
       "      <th>4</th>\n",
       "      <td>Failed</td>\n",
       "      <td>/votes/44-1/362/</td>\n",
       "      <td>44-1</td>\n",
       "      <td>/bills/44-1/C-47/</td>\n",
       "      <td>208</td>\n",
       "      <td>2023-06-07</td>\n",
       "      <td>114</td>\n",
       "      <td>2</td>\n",
       "      <td>362</td>\n",
       "      <td>Bill C-47, An Act to implement certain provisi...</td>\n",
       "      <td>Projet de loi C-47, Loi portant exécution de c...</td>\n",
       "    </tr>\n",
       "    <tr>\n",
       "      <th>...</th>\n",
       "      <td>...</td>\n",
       "      <td>...</td>\n",
       "      <td>...</td>\n",
       "      <td>...</td>\n",
       "      <td>...</td>\n",
       "      <td>...</td>\n",
       "      <td>...</td>\n",
       "      <td>...</td>\n",
       "      <td>...</td>\n",
       "      <td>...</td>\n",
       "      <td>...</td>\n",
       "    </tr>\n",
       "    <tr>\n",
       "      <th>95</th>\n",
       "      <td>Passed</td>\n",
       "      <td>/votes/44-1/271/</td>\n",
       "      <td>44-1</td>\n",
       "      <td>/bills/44-1/S-224/</td>\n",
       "      <td>0</td>\n",
       "      <td>2023-03-22</td>\n",
       "      <td>322</td>\n",
       "      <td>4</td>\n",
       "      <td>271</td>\n",
       "      <td>2nd reading of Bill S-224, An Act to amend the...</td>\n",
       "      <td>2e lecture du projet de loi S-224, Loi modifia...</td>\n",
       "    </tr>\n",
       "    <tr>\n",
       "      <th>96</th>\n",
       "      <td>Failed</td>\n",
       "      <td>/votes/44-1/270/</td>\n",
       "      <td>44-1</td>\n",
       "      <td>/bills/44-1/C-289/</td>\n",
       "      <td>171</td>\n",
       "      <td>2023-03-22</td>\n",
       "      <td>149</td>\n",
       "      <td>4</td>\n",
       "      <td>270</td>\n",
       "      <td>2nd reading of Bill C-289, An Act to amend the...</td>\n",
       "      <td>2e lecture du projet de loi C-289, Loi modifia...</td>\n",
       "    </tr>\n",
       "    <tr>\n",
       "      <th>97</th>\n",
       "      <td>Passed</td>\n",
       "      <td>/votes/44-1/269/</td>\n",
       "      <td>44-1</td>\n",
       "      <td>/bills/44-1/S-209/</td>\n",
       "      <td>114</td>\n",
       "      <td>2023-03-22</td>\n",
       "      <td>208</td>\n",
       "      <td>4</td>\n",
       "      <td>269</td>\n",
       "      <td>2nd reading of Bill S-209, An Act respecting P...</td>\n",
       "      <td>2e lecture du projet de loi S-209, Loi institu...</td>\n",
       "    </tr>\n",
       "    <tr>\n",
       "      <th>98</th>\n",
       "      <td>Passed</td>\n",
       "      <td>/votes/44-1/268/</td>\n",
       "      <td>44-1</td>\n",
       "      <td>None</td>\n",
       "      <td>0</td>\n",
       "      <td>2023-03-21</td>\n",
       "      <td>325</td>\n",
       "      <td>4</td>\n",
       "      <td>268</td>\n",
       "      <td>Fourth report of the Standing Committee on Int...</td>\n",
       "      <td>Quatrième rapport du Comité permanent du comme...</td>\n",
       "    </tr>\n",
       "    <tr>\n",
       "      <th>99</th>\n",
       "      <td>Failed</td>\n",
       "      <td>/votes/44-1/267/</td>\n",
       "      <td>44-1</td>\n",
       "      <td>None</td>\n",
       "      <td>177</td>\n",
       "      <td>2023-03-21</td>\n",
       "      <td>147</td>\n",
       "      <td>4</td>\n",
       "      <td>267</td>\n",
       "      <td>Opposition Motion (Instruction to the Standing...</td>\n",
       "      <td>Motion de l’opposition (Instruction au Comité ...</td>\n",
       "    </tr>\n",
       "  </tbody>\n",
       "</table>\n",
       "<p>100 rows × 11 columns</p>\n",
       "</div>"
      ],
      "text/plain": [
       "    result               url session            bill_url  nay_total  \\\n",
       "0   Passed  /votes/44-1/366/    44-1   /bills/44-1/C-47/        146   \n",
       "1   Passed  /votes/44-1/365/    44-1   /bills/44-1/C-47/        145   \n",
       "2   Failed  /votes/44-1/364/    44-1   /bills/44-1/C-47/        207   \n",
       "3   Failed  /votes/44-1/363/    44-1   /bills/44-1/C-47/        208   \n",
       "4   Failed  /votes/44-1/362/    44-1   /bills/44-1/C-47/        208   \n",
       "..     ...               ...     ...                 ...        ...   \n",
       "95  Passed  /votes/44-1/271/    44-1  /bills/44-1/S-224/          0   \n",
       "96  Failed  /votes/44-1/270/    44-1  /bills/44-1/C-289/        171   \n",
       "97  Passed  /votes/44-1/269/    44-1  /bills/44-1/S-209/        114   \n",
       "98  Passed  /votes/44-1/268/    44-1                None          0   \n",
       "99  Failed  /votes/44-1/267/    44-1                None        177   \n",
       "\n",
       "          date  yea_total  paired_total  number  \\\n",
       "0   2023-06-08        177             2     366   \n",
       "1   2023-06-07        178             2     365   \n",
       "2   2023-06-07        113             2     364   \n",
       "3   2023-06-07        112             2     363   \n",
       "4   2023-06-07        114             2     362   \n",
       "..         ...        ...           ...     ...   \n",
       "95  2023-03-22        322             4     271   \n",
       "96  2023-03-22        149             4     270   \n",
       "97  2023-03-22        208             4     269   \n",
       "98  2023-03-21        325             4     268   \n",
       "99  2023-03-21        147             4     267   \n",
       "\n",
       "                                         english_desc  \\\n",
       "0   3rd reading and adoption of Bill C-47, An Act ...   \n",
       "1   Concurrence at report stage of Bill C-47, An A...   \n",
       "2   Bill C-47, An Act to implement certain provisi...   \n",
       "3   Bill C-47, An Act to implement certain provisi...   \n",
       "4   Bill C-47, An Act to implement certain provisi...   \n",
       "..                                                ...   \n",
       "95  2nd reading of Bill S-224, An Act to amend the...   \n",
       "96  2nd reading of Bill C-289, An Act to amend the...   \n",
       "97  2nd reading of Bill S-209, An Act respecting P...   \n",
       "98  Fourth report of the Standing Committee on Int...   \n",
       "99  Opposition Motion (Instruction to the Standing...   \n",
       "\n",
       "                                          french_desc  \n",
       "0   3e lecture et adoption du projet de loi C-47, ...  \n",
       "1   Adoption à l’étape du rapport du projet de loi...  \n",
       "2   Projet de loi C-47, Loi portant exécution de c...  \n",
       "3   Projet de loi C-47, Loi portant exécution de c...  \n",
       "4   Projet de loi C-47, Loi portant exécution de c...  \n",
       "..                                                ...  \n",
       "95  2e lecture du projet de loi S-224, Loi modifia...  \n",
       "96  2e lecture du projet de loi C-289, Loi modifia...  \n",
       "97  2e lecture du projet de loi S-209, Loi institu...  \n",
       "98  Quatrième rapport du Comité permanent du comme...  \n",
       "99  Motion de l’opposition (Instruction au Comité ...  \n",
       "\n",
       "[100 rows x 11 columns]"
      ]
     },
     "metadata": {},
     "output_type": "display_data"
    }
   ],
   "source": [
    "df['english_desc'] = df['description'].apply(lambda x: x['en'])\n",
    "df['french_desc'] = df['description'].apply(lambda x: x['fr'])\n",
    "df = df.drop(columns=['description'])\n",
    "display(df)"
   ]
  },
  {
   "attachments": {},
   "cell_type": "markdown",
   "id": "da662c82",
   "metadata": {},
   "source": [
    "Next, let's remove any bills that don't have an `url` or a *None* as a value for their `url`."
   ]
  },
  {
   "cell_type": "code",
   "execution_count": 19,
   "id": "239683dc",
   "metadata": {},
   "outputs": [
    {
     "data": {
      "text/html": [
       "<div>\n",
       "<style scoped>\n",
       "    .dataframe tbody tr th:only-of-type {\n",
       "        vertical-align: middle;\n",
       "    }\n",
       "\n",
       "    .dataframe tbody tr th {\n",
       "        vertical-align: top;\n",
       "    }\n",
       "\n",
       "    .dataframe thead th {\n",
       "        text-align: right;\n",
       "    }\n",
       "</style>\n",
       "<table border=\"1\" class=\"dataframe\">\n",
       "  <thead>\n",
       "    <tr style=\"text-align: right;\">\n",
       "      <th></th>\n",
       "      <th>result</th>\n",
       "      <th>url</th>\n",
       "      <th>session</th>\n",
       "      <th>bill_url</th>\n",
       "      <th>nay_total</th>\n",
       "      <th>date</th>\n",
       "      <th>yea_total</th>\n",
       "      <th>paired_total</th>\n",
       "      <th>number</th>\n",
       "      <th>english_desc</th>\n",
       "      <th>french_desc</th>\n",
       "      <th>bill_name</th>\n",
       "    </tr>\n",
       "  </thead>\n",
       "  <tbody>\n",
       "    <tr>\n",
       "      <th>0</th>\n",
       "      <td>Passed</td>\n",
       "      <td>/votes/44-1/366/</td>\n",
       "      <td>44-1</td>\n",
       "      <td>/bills/44-1/C-47/</td>\n",
       "      <td>146</td>\n",
       "      <td>2023-06-08</td>\n",
       "      <td>177</td>\n",
       "      <td>2</td>\n",
       "      <td>366</td>\n",
       "      <td>3rd reading and adoption of Bill C-47, An Act ...</td>\n",
       "      <td>3e lecture et adoption du projet de loi C-47, ...</td>\n",
       "      <td>C-47</td>\n",
       "    </tr>\n",
       "    <tr>\n",
       "      <th>1</th>\n",
       "      <td>Passed</td>\n",
       "      <td>/votes/44-1/365/</td>\n",
       "      <td>44-1</td>\n",
       "      <td>/bills/44-1/C-47/</td>\n",
       "      <td>145</td>\n",
       "      <td>2023-06-07</td>\n",
       "      <td>178</td>\n",
       "      <td>2</td>\n",
       "      <td>365</td>\n",
       "      <td>Concurrence at report stage of Bill C-47, An A...</td>\n",
       "      <td>Adoption à l’étape du rapport du projet de loi...</td>\n",
       "      <td>C-47</td>\n",
       "    </tr>\n",
       "    <tr>\n",
       "      <th>2</th>\n",
       "      <td>Failed</td>\n",
       "      <td>/votes/44-1/364/</td>\n",
       "      <td>44-1</td>\n",
       "      <td>/bills/44-1/C-47/</td>\n",
       "      <td>207</td>\n",
       "      <td>2023-06-07</td>\n",
       "      <td>113</td>\n",
       "      <td>2</td>\n",
       "      <td>364</td>\n",
       "      <td>Bill C-47, An Act to implement certain provisi...</td>\n",
       "      <td>Projet de loi C-47, Loi portant exécution de c...</td>\n",
       "      <td>C-47</td>\n",
       "    </tr>\n",
       "    <tr>\n",
       "      <th>3</th>\n",
       "      <td>Failed</td>\n",
       "      <td>/votes/44-1/363/</td>\n",
       "      <td>44-1</td>\n",
       "      <td>/bills/44-1/C-47/</td>\n",
       "      <td>208</td>\n",
       "      <td>2023-06-07</td>\n",
       "      <td>112</td>\n",
       "      <td>2</td>\n",
       "      <td>363</td>\n",
       "      <td>Bill C-47, An Act to implement certain provisi...</td>\n",
       "      <td>Projet de loi C-47, Loi portant exécution de c...</td>\n",
       "      <td>C-47</td>\n",
       "    </tr>\n",
       "    <tr>\n",
       "      <th>4</th>\n",
       "      <td>Failed</td>\n",
       "      <td>/votes/44-1/362/</td>\n",
       "      <td>44-1</td>\n",
       "      <td>/bills/44-1/C-47/</td>\n",
       "      <td>208</td>\n",
       "      <td>2023-06-07</td>\n",
       "      <td>114</td>\n",
       "      <td>2</td>\n",
       "      <td>362</td>\n",
       "      <td>Bill C-47, An Act to implement certain provisi...</td>\n",
       "      <td>Projet de loi C-47, Loi portant exécution de c...</td>\n",
       "      <td>C-47</td>\n",
       "    </tr>\n",
       "    <tr>\n",
       "      <th>...</th>\n",
       "      <td>...</td>\n",
       "      <td>...</td>\n",
       "      <td>...</td>\n",
       "      <td>...</td>\n",
       "      <td>...</td>\n",
       "      <td>...</td>\n",
       "      <td>...</td>\n",
       "      <td>...</td>\n",
       "      <td>...</td>\n",
       "      <td>...</td>\n",
       "      <td>...</td>\n",
       "      <td>...</td>\n",
       "    </tr>\n",
       "    <tr>\n",
       "      <th>59</th>\n",
       "      <td>Failed</td>\n",
       "      <td>/votes/44-1/274/</td>\n",
       "      <td>44-1</td>\n",
       "      <td>/bills/44-1/C-283/</td>\n",
       "      <td>177</td>\n",
       "      <td>2023-03-22</td>\n",
       "      <td>146</td>\n",
       "      <td>2</td>\n",
       "      <td>274</td>\n",
       "      <td>2nd reading of Bill C-283, An Act to amend the...</td>\n",
       "      <td>2e lecture du projet de loi C-283, Loi modifia...</td>\n",
       "      <td>C-283</td>\n",
       "    </tr>\n",
       "    <tr>\n",
       "      <th>60</th>\n",
       "      <td>Passed</td>\n",
       "      <td>/votes/44-1/273/</td>\n",
       "      <td>44-1</td>\n",
       "      <td>/bills/44-1/C-241/</td>\n",
       "      <td>152</td>\n",
       "      <td>2023-03-22</td>\n",
       "      <td>172</td>\n",
       "      <td>2</td>\n",
       "      <td>273</td>\n",
       "      <td>3rd reading and adoption of Bill C-241, An Act...</td>\n",
       "      <td>3e lecture et adoption du projet de loi C-241,...</td>\n",
       "      <td>C-241</td>\n",
       "    </tr>\n",
       "    <tr>\n",
       "      <th>61</th>\n",
       "      <td>Passed</td>\n",
       "      <td>/votes/44-1/271/</td>\n",
       "      <td>44-1</td>\n",
       "      <td>/bills/44-1/S-224/</td>\n",
       "      <td>0</td>\n",
       "      <td>2023-03-22</td>\n",
       "      <td>322</td>\n",
       "      <td>4</td>\n",
       "      <td>271</td>\n",
       "      <td>2nd reading of Bill S-224, An Act to amend the...</td>\n",
       "      <td>2e lecture du projet de loi S-224, Loi modifia...</td>\n",
       "      <td>S-224</td>\n",
       "    </tr>\n",
       "    <tr>\n",
       "      <th>62</th>\n",
       "      <td>Failed</td>\n",
       "      <td>/votes/44-1/270/</td>\n",
       "      <td>44-1</td>\n",
       "      <td>/bills/44-1/C-289/</td>\n",
       "      <td>171</td>\n",
       "      <td>2023-03-22</td>\n",
       "      <td>149</td>\n",
       "      <td>4</td>\n",
       "      <td>270</td>\n",
       "      <td>2nd reading of Bill C-289, An Act to amend the...</td>\n",
       "      <td>2e lecture du projet de loi C-289, Loi modifia...</td>\n",
       "      <td>C-289</td>\n",
       "    </tr>\n",
       "    <tr>\n",
       "      <th>63</th>\n",
       "      <td>Passed</td>\n",
       "      <td>/votes/44-1/269/</td>\n",
       "      <td>44-1</td>\n",
       "      <td>/bills/44-1/S-209/</td>\n",
       "      <td>114</td>\n",
       "      <td>2023-03-22</td>\n",
       "      <td>208</td>\n",
       "      <td>4</td>\n",
       "      <td>269</td>\n",
       "      <td>2nd reading of Bill S-209, An Act respecting P...</td>\n",
       "      <td>2e lecture du projet de loi S-209, Loi institu...</td>\n",
       "      <td>S-209</td>\n",
       "    </tr>\n",
       "  </tbody>\n",
       "</table>\n",
       "<p>64 rows × 12 columns</p>\n",
       "</div>"
      ],
      "text/plain": [
       "    result               url session            bill_url  nay_total  \\\n",
       "0   Passed  /votes/44-1/366/    44-1   /bills/44-1/C-47/        146   \n",
       "1   Passed  /votes/44-1/365/    44-1   /bills/44-1/C-47/        145   \n",
       "2   Failed  /votes/44-1/364/    44-1   /bills/44-1/C-47/        207   \n",
       "3   Failed  /votes/44-1/363/    44-1   /bills/44-1/C-47/        208   \n",
       "4   Failed  /votes/44-1/362/    44-1   /bills/44-1/C-47/        208   \n",
       "..     ...               ...     ...                 ...        ...   \n",
       "59  Failed  /votes/44-1/274/    44-1  /bills/44-1/C-283/        177   \n",
       "60  Passed  /votes/44-1/273/    44-1  /bills/44-1/C-241/        152   \n",
       "61  Passed  /votes/44-1/271/    44-1  /bills/44-1/S-224/          0   \n",
       "62  Failed  /votes/44-1/270/    44-1  /bills/44-1/C-289/        171   \n",
       "63  Passed  /votes/44-1/269/    44-1  /bills/44-1/S-209/        114   \n",
       "\n",
       "          date  yea_total  paired_total  number  \\\n",
       "0   2023-06-08        177             2     366   \n",
       "1   2023-06-07        178             2     365   \n",
       "2   2023-06-07        113             2     364   \n",
       "3   2023-06-07        112             2     363   \n",
       "4   2023-06-07        114             2     362   \n",
       "..         ...        ...           ...     ...   \n",
       "59  2023-03-22        146             2     274   \n",
       "60  2023-03-22        172             2     273   \n",
       "61  2023-03-22        322             4     271   \n",
       "62  2023-03-22        149             4     270   \n",
       "63  2023-03-22        208             4     269   \n",
       "\n",
       "                                         english_desc  \\\n",
       "0   3rd reading and adoption of Bill C-47, An Act ...   \n",
       "1   Concurrence at report stage of Bill C-47, An A...   \n",
       "2   Bill C-47, An Act to implement certain provisi...   \n",
       "3   Bill C-47, An Act to implement certain provisi...   \n",
       "4   Bill C-47, An Act to implement certain provisi...   \n",
       "..                                                ...   \n",
       "59  2nd reading of Bill C-283, An Act to amend the...   \n",
       "60  3rd reading and adoption of Bill C-241, An Act...   \n",
       "61  2nd reading of Bill S-224, An Act to amend the...   \n",
       "62  2nd reading of Bill C-289, An Act to amend the...   \n",
       "63  2nd reading of Bill S-209, An Act respecting P...   \n",
       "\n",
       "                                          french_desc bill_name  \n",
       "0   3e lecture et adoption du projet de loi C-47, ...      C-47  \n",
       "1   Adoption à l’étape du rapport du projet de loi...      C-47  \n",
       "2   Projet de loi C-47, Loi portant exécution de c...      C-47  \n",
       "3   Projet de loi C-47, Loi portant exécution de c...      C-47  \n",
       "4   Projet de loi C-47, Loi portant exécution de c...      C-47  \n",
       "..                                                ...       ...  \n",
       "59  2e lecture du projet de loi C-283, Loi modifia...     C-283  \n",
       "60  3e lecture et adoption du projet de loi C-241,...     C-241  \n",
       "61  2e lecture du projet de loi S-224, Loi modifia...     S-224  \n",
       "62  2e lecture du projet de loi C-289, Loi modifia...     C-289  \n",
       "63  2e lecture du projet de loi S-209, Loi institu...     S-209  \n",
       "\n",
       "[64 rows x 12 columns]"
      ]
     },
     "metadata": {},
     "output_type": "display_data"
    }
   ],
   "source": [
    "temp_fig = df.dropna().reset_index(drop=True)\n",
    "\n",
    "bill_names = [re.search(f\"/bills/{session_name}/(.*)/\", bill_url).group(1)\n",
    "              for bill_url, session_name in zip(temp_fig['bill_url'], temp_fig['session'])]\n",
    "\n",
    "temp_fig['bill_name'] = bill_names\n",
    "display(temp_fig)"
   ]
  },
  {
   "attachments": {},
   "cell_type": "markdown",
   "id": "64b5936d",
   "metadata": {},
   "source": [
    "Perfect! Now we have _clean_ data in the correct format in which we can use it properly. "
   ]
  },
  {
   "attachments": {},
   "cell_type": "markdown",
   "id": "3d190b17",
   "metadata": {},
   "source": [
    "We can find the total percentage of bills in Parliament that have either **passed** or **failed** alongside the individual bills.  "
   ]
  },
  {
   "cell_type": "code",
   "execution_count": 20,
   "id": "35477245",
   "metadata": {},
   "outputs": [
    {
     "data": {
      "application/vnd.plotly.v1+json": {
       "config": {
        "plotlyServerURL": "https://plot.ly"
       },
       "data": [
        {
         "domain": {
          "x": [
           0,
           1
          ],
          "y": [
           0,
           1
          ]
         },
         "hovertemplate": "index=%{label}<br>result=%{value}<extra></extra>",
         "labels": [
          "Passed",
          "Failed"
         ],
         "legendgroup": "",
         "name": "",
         "showlegend": true,
         "type": "pie",
         "values": [
          46,
          18
         ]
        }
       ],
       "layout": {
        "legend": {
         "tracegroupgap": 0
        },
        "template": {
         "data": {
          "bar": [
           {
            "error_x": {
             "color": "#2a3f5f"
            },
            "error_y": {
             "color": "#2a3f5f"
            },
            "marker": {
             "line": {
              "color": "#E5ECF6",
              "width": 0.5
             },
             "pattern": {
              "fillmode": "overlay",
              "size": 10,
              "solidity": 0.2
             }
            },
            "type": "bar"
           }
          ],
          "barpolar": [
           {
            "marker": {
             "line": {
              "color": "#E5ECF6",
              "width": 0.5
             },
             "pattern": {
              "fillmode": "overlay",
              "size": 10,
              "solidity": 0.2
             }
            },
            "type": "barpolar"
           }
          ],
          "carpet": [
           {
            "aaxis": {
             "endlinecolor": "#2a3f5f",
             "gridcolor": "white",
             "linecolor": "white",
             "minorgridcolor": "white",
             "startlinecolor": "#2a3f5f"
            },
            "baxis": {
             "endlinecolor": "#2a3f5f",
             "gridcolor": "white",
             "linecolor": "white",
             "minorgridcolor": "white",
             "startlinecolor": "#2a3f5f"
            },
            "type": "carpet"
           }
          ],
          "choropleth": [
           {
            "colorbar": {
             "outlinewidth": 0,
             "ticks": ""
            },
            "type": "choropleth"
           }
          ],
          "contour": [
           {
            "colorbar": {
             "outlinewidth": 0,
             "ticks": ""
            },
            "colorscale": [
             [
              0,
              "#0d0887"
             ],
             [
              0.1111111111111111,
              "#46039f"
             ],
             [
              0.2222222222222222,
              "#7201a8"
             ],
             [
              0.3333333333333333,
              "#9c179e"
             ],
             [
              0.4444444444444444,
              "#bd3786"
             ],
             [
              0.5555555555555556,
              "#d8576b"
             ],
             [
              0.6666666666666666,
              "#ed7953"
             ],
             [
              0.7777777777777778,
              "#fb9f3a"
             ],
             [
              0.8888888888888888,
              "#fdca26"
             ],
             [
              1,
              "#f0f921"
             ]
            ],
            "type": "contour"
           }
          ],
          "contourcarpet": [
           {
            "colorbar": {
             "outlinewidth": 0,
             "ticks": ""
            },
            "type": "contourcarpet"
           }
          ],
          "heatmap": [
           {
            "colorbar": {
             "outlinewidth": 0,
             "ticks": ""
            },
            "colorscale": [
             [
              0,
              "#0d0887"
             ],
             [
              0.1111111111111111,
              "#46039f"
             ],
             [
              0.2222222222222222,
              "#7201a8"
             ],
             [
              0.3333333333333333,
              "#9c179e"
             ],
             [
              0.4444444444444444,
              "#bd3786"
             ],
             [
              0.5555555555555556,
              "#d8576b"
             ],
             [
              0.6666666666666666,
              "#ed7953"
             ],
             [
              0.7777777777777778,
              "#fb9f3a"
             ],
             [
              0.8888888888888888,
              "#fdca26"
             ],
             [
              1,
              "#f0f921"
             ]
            ],
            "type": "heatmap"
           }
          ],
          "heatmapgl": [
           {
            "colorbar": {
             "outlinewidth": 0,
             "ticks": ""
            },
            "colorscale": [
             [
              0,
              "#0d0887"
             ],
             [
              0.1111111111111111,
              "#46039f"
             ],
             [
              0.2222222222222222,
              "#7201a8"
             ],
             [
              0.3333333333333333,
              "#9c179e"
             ],
             [
              0.4444444444444444,
              "#bd3786"
             ],
             [
              0.5555555555555556,
              "#d8576b"
             ],
             [
              0.6666666666666666,
              "#ed7953"
             ],
             [
              0.7777777777777778,
              "#fb9f3a"
             ],
             [
              0.8888888888888888,
              "#fdca26"
             ],
             [
              1,
              "#f0f921"
             ]
            ],
            "type": "heatmapgl"
           }
          ],
          "histogram": [
           {
            "marker": {
             "pattern": {
              "fillmode": "overlay",
              "size": 10,
              "solidity": 0.2
             }
            },
            "type": "histogram"
           }
          ],
          "histogram2d": [
           {
            "colorbar": {
             "outlinewidth": 0,
             "ticks": ""
            },
            "colorscale": [
             [
              0,
              "#0d0887"
             ],
             [
              0.1111111111111111,
              "#46039f"
             ],
             [
              0.2222222222222222,
              "#7201a8"
             ],
             [
              0.3333333333333333,
              "#9c179e"
             ],
             [
              0.4444444444444444,
              "#bd3786"
             ],
             [
              0.5555555555555556,
              "#d8576b"
             ],
             [
              0.6666666666666666,
              "#ed7953"
             ],
             [
              0.7777777777777778,
              "#fb9f3a"
             ],
             [
              0.8888888888888888,
              "#fdca26"
             ],
             [
              1,
              "#f0f921"
             ]
            ],
            "type": "histogram2d"
           }
          ],
          "histogram2dcontour": [
           {
            "colorbar": {
             "outlinewidth": 0,
             "ticks": ""
            },
            "colorscale": [
             [
              0,
              "#0d0887"
             ],
             [
              0.1111111111111111,
              "#46039f"
             ],
             [
              0.2222222222222222,
              "#7201a8"
             ],
             [
              0.3333333333333333,
              "#9c179e"
             ],
             [
              0.4444444444444444,
              "#bd3786"
             ],
             [
              0.5555555555555556,
              "#d8576b"
             ],
             [
              0.6666666666666666,
              "#ed7953"
             ],
             [
              0.7777777777777778,
              "#fb9f3a"
             ],
             [
              0.8888888888888888,
              "#fdca26"
             ],
             [
              1,
              "#f0f921"
             ]
            ],
            "type": "histogram2dcontour"
           }
          ],
          "mesh3d": [
           {
            "colorbar": {
             "outlinewidth": 0,
             "ticks": ""
            },
            "type": "mesh3d"
           }
          ],
          "parcoords": [
           {
            "line": {
             "colorbar": {
              "outlinewidth": 0,
              "ticks": ""
             }
            },
            "type": "parcoords"
           }
          ],
          "pie": [
           {
            "automargin": true,
            "type": "pie"
           }
          ],
          "scatter": [
           {
            "fillpattern": {
             "fillmode": "overlay",
             "size": 10,
             "solidity": 0.2
            },
            "type": "scatter"
           }
          ],
          "scatter3d": [
           {
            "line": {
             "colorbar": {
              "outlinewidth": 0,
              "ticks": ""
             }
            },
            "marker": {
             "colorbar": {
              "outlinewidth": 0,
              "ticks": ""
             }
            },
            "type": "scatter3d"
           }
          ],
          "scattercarpet": [
           {
            "marker": {
             "colorbar": {
              "outlinewidth": 0,
              "ticks": ""
             }
            },
            "type": "scattercarpet"
           }
          ],
          "scattergeo": [
           {
            "marker": {
             "colorbar": {
              "outlinewidth": 0,
              "ticks": ""
             }
            },
            "type": "scattergeo"
           }
          ],
          "scattergl": [
           {
            "marker": {
             "colorbar": {
              "outlinewidth": 0,
              "ticks": ""
             }
            },
            "type": "scattergl"
           }
          ],
          "scattermapbox": [
           {
            "marker": {
             "colorbar": {
              "outlinewidth": 0,
              "ticks": ""
             }
            },
            "type": "scattermapbox"
           }
          ],
          "scatterpolar": [
           {
            "marker": {
             "colorbar": {
              "outlinewidth": 0,
              "ticks": ""
             }
            },
            "type": "scatterpolar"
           }
          ],
          "scatterpolargl": [
           {
            "marker": {
             "colorbar": {
              "outlinewidth": 0,
              "ticks": ""
             }
            },
            "type": "scatterpolargl"
           }
          ],
          "scatterternary": [
           {
            "marker": {
             "colorbar": {
              "outlinewidth": 0,
              "ticks": ""
             }
            },
            "type": "scatterternary"
           }
          ],
          "surface": [
           {
            "colorbar": {
             "outlinewidth": 0,
             "ticks": ""
            },
            "colorscale": [
             [
              0,
              "#0d0887"
             ],
             [
              0.1111111111111111,
              "#46039f"
             ],
             [
              0.2222222222222222,
              "#7201a8"
             ],
             [
              0.3333333333333333,
              "#9c179e"
             ],
             [
              0.4444444444444444,
              "#bd3786"
             ],
             [
              0.5555555555555556,
              "#d8576b"
             ],
             [
              0.6666666666666666,
              "#ed7953"
             ],
             [
              0.7777777777777778,
              "#fb9f3a"
             ],
             [
              0.8888888888888888,
              "#fdca26"
             ],
             [
              1,
              "#f0f921"
             ]
            ],
            "type": "surface"
           }
          ],
          "table": [
           {
            "cells": {
             "fill": {
              "color": "#EBF0F8"
             },
             "line": {
              "color": "white"
             }
            },
            "header": {
             "fill": {
              "color": "#C8D4E3"
             },
             "line": {
              "color": "white"
             }
            },
            "type": "table"
           }
          ]
         },
         "layout": {
          "annotationdefaults": {
           "arrowcolor": "#2a3f5f",
           "arrowhead": 0,
           "arrowwidth": 1
          },
          "autotypenumbers": "strict",
          "coloraxis": {
           "colorbar": {
            "outlinewidth": 0,
            "ticks": ""
           }
          },
          "colorscale": {
           "diverging": [
            [
             0,
             "#8e0152"
            ],
            [
             0.1,
             "#c51b7d"
            ],
            [
             0.2,
             "#de77ae"
            ],
            [
             0.3,
             "#f1b6da"
            ],
            [
             0.4,
             "#fde0ef"
            ],
            [
             0.5,
             "#f7f7f7"
            ],
            [
             0.6,
             "#e6f5d0"
            ],
            [
             0.7,
             "#b8e186"
            ],
            [
             0.8,
             "#7fbc41"
            ],
            [
             0.9,
             "#4d9221"
            ],
            [
             1,
             "#276419"
            ]
           ],
           "sequential": [
            [
             0,
             "#0d0887"
            ],
            [
             0.1111111111111111,
             "#46039f"
            ],
            [
             0.2222222222222222,
             "#7201a8"
            ],
            [
             0.3333333333333333,
             "#9c179e"
            ],
            [
             0.4444444444444444,
             "#bd3786"
            ],
            [
             0.5555555555555556,
             "#d8576b"
            ],
            [
             0.6666666666666666,
             "#ed7953"
            ],
            [
             0.7777777777777778,
             "#fb9f3a"
            ],
            [
             0.8888888888888888,
             "#fdca26"
            ],
            [
             1,
             "#f0f921"
            ]
           ],
           "sequentialminus": [
            [
             0,
             "#0d0887"
            ],
            [
             0.1111111111111111,
             "#46039f"
            ],
            [
             0.2222222222222222,
             "#7201a8"
            ],
            [
             0.3333333333333333,
             "#9c179e"
            ],
            [
             0.4444444444444444,
             "#bd3786"
            ],
            [
             0.5555555555555556,
             "#d8576b"
            ],
            [
             0.6666666666666666,
             "#ed7953"
            ],
            [
             0.7777777777777778,
             "#fb9f3a"
            ],
            [
             0.8888888888888888,
             "#fdca26"
            ],
            [
             1,
             "#f0f921"
            ]
           ]
          },
          "colorway": [
           "#636efa",
           "#EF553B",
           "#00cc96",
           "#ab63fa",
           "#FFA15A",
           "#19d3f3",
           "#FF6692",
           "#B6E880",
           "#FF97FF",
           "#FECB52"
          ],
          "font": {
           "color": "#2a3f5f"
          },
          "geo": {
           "bgcolor": "white",
           "lakecolor": "white",
           "landcolor": "#E5ECF6",
           "showlakes": true,
           "showland": true,
           "subunitcolor": "white"
          },
          "hoverlabel": {
           "align": "left"
          },
          "hovermode": "closest",
          "mapbox": {
           "style": "light"
          },
          "paper_bgcolor": "white",
          "plot_bgcolor": "#E5ECF6",
          "polar": {
           "angularaxis": {
            "gridcolor": "white",
            "linecolor": "white",
            "ticks": ""
           },
           "bgcolor": "#E5ECF6",
           "radialaxis": {
            "gridcolor": "white",
            "linecolor": "white",
            "ticks": ""
           }
          },
          "scene": {
           "xaxis": {
            "backgroundcolor": "#E5ECF6",
            "gridcolor": "white",
            "gridwidth": 2,
            "linecolor": "white",
            "showbackground": true,
            "ticks": "",
            "zerolinecolor": "white"
           },
           "yaxis": {
            "backgroundcolor": "#E5ECF6",
            "gridcolor": "white",
            "gridwidth": 2,
            "linecolor": "white",
            "showbackground": true,
            "ticks": "",
            "zerolinecolor": "white"
           },
           "zaxis": {
            "backgroundcolor": "#E5ECF6",
            "gridcolor": "white",
            "gridwidth": 2,
            "linecolor": "white",
            "showbackground": true,
            "ticks": "",
            "zerolinecolor": "white"
           }
          },
          "shapedefaults": {
           "line": {
            "color": "#2a3f5f"
           }
          },
          "ternary": {
           "aaxis": {
            "gridcolor": "white",
            "linecolor": "white",
            "ticks": ""
           },
           "baxis": {
            "gridcolor": "white",
            "linecolor": "white",
            "ticks": ""
           },
           "bgcolor": "#E5ECF6",
           "caxis": {
            "gridcolor": "white",
            "linecolor": "white",
            "ticks": ""
           }
          },
          "title": {
           "x": 0.05
          },
          "xaxis": {
           "automargin": true,
           "gridcolor": "white",
           "linecolor": "white",
           "ticks": "",
           "title": {
            "standoff": 15
           },
           "zerolinecolor": "white",
           "zerolinewidth": 2
          },
          "yaxis": {
           "automargin": true,
           "gridcolor": "white",
           "linecolor": "white",
           "ticks": "",
           "title": {
            "standoff": 15
           },
           "zerolinecolor": "white",
           "zerolinewidth": 2
          }
         }
        },
        "title": {
         "text": "Percentage of Bills that have Passed/Failed"
        }
       }
      }
     },
     "metadata": {},
     "output_type": "display_data"
    },
    {
     "data": {
      "application/vnd.plotly.v1+json": {
       "config": {
        "plotlyServerURL": "https://plot.ly"
       },
       "data": [
        {
         "alignmentgroup": "True",
         "customdata": [
          [
           177,
           146
          ],
          [
           178,
           145
          ],
          [
           322,
           0
          ],
          [
           209,
           114
          ],
          [
           324,
           0
          ],
          [
           173,
           147
          ],
          [
           175,
           145
          ],
          [
           317,
           0
          ],
          [
           324,
           0
          ],
          [
           324,
           0
          ],
          [
           325,
           0
          ],
          [
           208,
           116
          ],
          [
           207,
           113
          ],
          [
           315,
           0
          ],
          [
           205,
           111
          ],
          [
           316,
           0
          ],
          [
           203,
           111
          ],
          [
           309,
           2
          ],
          [
           201,
           109
          ],
          [
           301,
           1
          ],
          [
           168,
           142
          ],
          [
           311,
           1
          ],
          [
           319,
           0
          ],
          [
           318,
           0
          ],
          [
           316,
           0
          ],
          [
           271,
           57
          ],
          [
           177,
           149
          ],
          [
           174,
           148
          ],
          [
           319,
           1
          ],
          [
           317,
           0
          ],
          [
           203,
           112
          ],
          [
           205,
           109
          ],
          [
           315,
           0
          ],
          [
           202,
           117
          ],
          [
           176,
           146
          ],
          [
           179,
           145
          ],
          [
           321,
           0
          ],
          [
           209,
           115
          ],
          [
           209,
           115
          ],
          [
           209,
           115
          ],
          [
           209,
           115
          ],
          [
           209,
           115
          ],
          [
           208,
           115
          ],
          [
           172,
           152
          ],
          [
           322,
           0
          ],
          [
           208,
           114
          ]
         ],
         "hovertemplate": "result=Passed<br>bill_name=%{x}<br>number=%{y}<br>yea_total=%{customdata[0]}<br>nay_total=%{customdata[1]}<extra></extra>",
         "legendgroup": "Passed",
         "marker": {
          "color": "#636efa",
          "pattern": {
           "shape": ""
          }
         },
         "name": "Passed",
         "offsetgroup": "Passed",
         "orientation": "v",
         "showlegend": true,
         "textposition": "auto",
         "type": "bar",
         "x": [
          "C-47",
          "C-47",
          "C-281",
          "S-202",
          "C-284",
          "C-35",
          "C-47",
          "C-42",
          "C-244",
          "C-281",
          "C-281",
          "S-5",
          "C-21",
          "C-280",
          "C-21",
          "C-21",
          "C-21",
          "S-5",
          "S-5",
          "C-13",
          "S-5",
          "C-13",
          "C-13",
          "C-13",
          "C-13",
          "S-211",
          "C-47",
          "C-47",
          "C-248",
          "C-288",
          "C-27",
          "C-27",
          "C-34",
          "C-11",
          "C-234",
          "C-226",
          "C-26",
          "C-44",
          "C-44",
          "C-44",
          "C-43",
          "C-43",
          "C-43",
          "C-241",
          "S-224",
          "S-209"
         ],
         "xaxis": "x",
         "y": [
          366,
          365,
          355,
          354,
          353,
          351,
          350,
          343,
          342,
          341,
          340,
          338,
          333,
          331,
          330,
          329,
          328,
          326,
          324,
          323,
          321,
          320,
          319,
          318,
          317,
          310,
          308,
          306,
          305,
          304,
          301,
          300,
          293,
          292,
          289,
          288,
          287,
          283,
          282,
          281,
          279,
          278,
          277,
          273,
          271,
          269
         ],
         "yaxis": "y"
        },
        {
         "alignmentgroup": "True",
         "customdata": [
          [
           113,
           207
          ],
          [
           112,
           208
          ],
          [
           114,
           208
          ],
          [
           112,
           208
          ],
          [
           115,
           207
          ],
          [
           114,
           206
          ],
          [
           114,
           206
          ],
          [
           115,
           209
          ],
          [
           116,
           208
          ],
          [
           114,
           210
          ],
          [
           110,
           209
          ],
          [
           110,
           203
          ],
          [
           55,
           256
          ],
          [
           116,
           210
          ],
          [
           141,
           170
          ],
          [
           113,
           205
          ],
          [
           146,
           177
          ],
          [
           149,
           171
          ]
         ],
         "hovertemplate": "result=Failed<br>bill_name=%{x}<br>number=%{y}<br>yea_total=%{customdata[0]}<br>nay_total=%{customdata[1]}<extra></extra>",
         "legendgroup": "Failed",
         "marker": {
          "color": "#EF553B",
          "pattern": {
           "shape": ""
          }
         },
         "name": "Failed",
         "offsetgroup": "Failed",
         "orientation": "v",
         "showlegend": true,
         "textposition": "auto",
         "type": "bar",
         "x": [
          "C-47",
          "C-47",
          "C-47",
          "C-47",
          "C-47",
          "C-47",
          "C-47",
          "C-47",
          "C-47",
          "S-5",
          "C-21",
          "C-21",
          "S-5",
          "C-47",
          "C-239",
          "C-11",
          "C-283",
          "C-289"
         ],
         "xaxis": "x",
         "y": [
          364,
          363,
          362,
          361,
          360,
          359,
          358,
          357,
          356,
          337,
          332,
          327,
          325,
          307,
          297,
          291,
          274,
          270
         ],
         "yaxis": "y"
        }
       ],
       "layout": {
        "barmode": "relative",
        "height": 400,
        "legend": {
         "title": {
          "text": "result"
         },
         "tracegroupgap": 0
        },
        "template": {
         "data": {
          "bar": [
           {
            "error_x": {
             "color": "#2a3f5f"
            },
            "error_y": {
             "color": "#2a3f5f"
            },
            "marker": {
             "line": {
              "color": "#E5ECF6",
              "width": 0.5
             },
             "pattern": {
              "fillmode": "overlay",
              "size": 10,
              "solidity": 0.2
             }
            },
            "type": "bar"
           }
          ],
          "barpolar": [
           {
            "marker": {
             "line": {
              "color": "#E5ECF6",
              "width": 0.5
             },
             "pattern": {
              "fillmode": "overlay",
              "size": 10,
              "solidity": 0.2
             }
            },
            "type": "barpolar"
           }
          ],
          "carpet": [
           {
            "aaxis": {
             "endlinecolor": "#2a3f5f",
             "gridcolor": "white",
             "linecolor": "white",
             "minorgridcolor": "white",
             "startlinecolor": "#2a3f5f"
            },
            "baxis": {
             "endlinecolor": "#2a3f5f",
             "gridcolor": "white",
             "linecolor": "white",
             "minorgridcolor": "white",
             "startlinecolor": "#2a3f5f"
            },
            "type": "carpet"
           }
          ],
          "choropleth": [
           {
            "colorbar": {
             "outlinewidth": 0,
             "ticks": ""
            },
            "type": "choropleth"
           }
          ],
          "contour": [
           {
            "colorbar": {
             "outlinewidth": 0,
             "ticks": ""
            },
            "colorscale": [
             [
              0,
              "#0d0887"
             ],
             [
              0.1111111111111111,
              "#46039f"
             ],
             [
              0.2222222222222222,
              "#7201a8"
             ],
             [
              0.3333333333333333,
              "#9c179e"
             ],
             [
              0.4444444444444444,
              "#bd3786"
             ],
             [
              0.5555555555555556,
              "#d8576b"
             ],
             [
              0.6666666666666666,
              "#ed7953"
             ],
             [
              0.7777777777777778,
              "#fb9f3a"
             ],
             [
              0.8888888888888888,
              "#fdca26"
             ],
             [
              1,
              "#f0f921"
             ]
            ],
            "type": "contour"
           }
          ],
          "contourcarpet": [
           {
            "colorbar": {
             "outlinewidth": 0,
             "ticks": ""
            },
            "type": "contourcarpet"
           }
          ],
          "heatmap": [
           {
            "colorbar": {
             "outlinewidth": 0,
             "ticks": ""
            },
            "colorscale": [
             [
              0,
              "#0d0887"
             ],
             [
              0.1111111111111111,
              "#46039f"
             ],
             [
              0.2222222222222222,
              "#7201a8"
             ],
             [
              0.3333333333333333,
              "#9c179e"
             ],
             [
              0.4444444444444444,
              "#bd3786"
             ],
             [
              0.5555555555555556,
              "#d8576b"
             ],
             [
              0.6666666666666666,
              "#ed7953"
             ],
             [
              0.7777777777777778,
              "#fb9f3a"
             ],
             [
              0.8888888888888888,
              "#fdca26"
             ],
             [
              1,
              "#f0f921"
             ]
            ],
            "type": "heatmap"
           }
          ],
          "heatmapgl": [
           {
            "colorbar": {
             "outlinewidth": 0,
             "ticks": ""
            },
            "colorscale": [
             [
              0,
              "#0d0887"
             ],
             [
              0.1111111111111111,
              "#46039f"
             ],
             [
              0.2222222222222222,
              "#7201a8"
             ],
             [
              0.3333333333333333,
              "#9c179e"
             ],
             [
              0.4444444444444444,
              "#bd3786"
             ],
             [
              0.5555555555555556,
              "#d8576b"
             ],
             [
              0.6666666666666666,
              "#ed7953"
             ],
             [
              0.7777777777777778,
              "#fb9f3a"
             ],
             [
              0.8888888888888888,
              "#fdca26"
             ],
             [
              1,
              "#f0f921"
             ]
            ],
            "type": "heatmapgl"
           }
          ],
          "histogram": [
           {
            "marker": {
             "pattern": {
              "fillmode": "overlay",
              "size": 10,
              "solidity": 0.2
             }
            },
            "type": "histogram"
           }
          ],
          "histogram2d": [
           {
            "colorbar": {
             "outlinewidth": 0,
             "ticks": ""
            },
            "colorscale": [
             [
              0,
              "#0d0887"
             ],
             [
              0.1111111111111111,
              "#46039f"
             ],
             [
              0.2222222222222222,
              "#7201a8"
             ],
             [
              0.3333333333333333,
              "#9c179e"
             ],
             [
              0.4444444444444444,
              "#bd3786"
             ],
             [
              0.5555555555555556,
              "#d8576b"
             ],
             [
              0.6666666666666666,
              "#ed7953"
             ],
             [
              0.7777777777777778,
              "#fb9f3a"
             ],
             [
              0.8888888888888888,
              "#fdca26"
             ],
             [
              1,
              "#f0f921"
             ]
            ],
            "type": "histogram2d"
           }
          ],
          "histogram2dcontour": [
           {
            "colorbar": {
             "outlinewidth": 0,
             "ticks": ""
            },
            "colorscale": [
             [
              0,
              "#0d0887"
             ],
             [
              0.1111111111111111,
              "#46039f"
             ],
             [
              0.2222222222222222,
              "#7201a8"
             ],
             [
              0.3333333333333333,
              "#9c179e"
             ],
             [
              0.4444444444444444,
              "#bd3786"
             ],
             [
              0.5555555555555556,
              "#d8576b"
             ],
             [
              0.6666666666666666,
              "#ed7953"
             ],
             [
              0.7777777777777778,
              "#fb9f3a"
             ],
             [
              0.8888888888888888,
              "#fdca26"
             ],
             [
              1,
              "#f0f921"
             ]
            ],
            "type": "histogram2dcontour"
           }
          ],
          "mesh3d": [
           {
            "colorbar": {
             "outlinewidth": 0,
             "ticks": ""
            },
            "type": "mesh3d"
           }
          ],
          "parcoords": [
           {
            "line": {
             "colorbar": {
              "outlinewidth": 0,
              "ticks": ""
             }
            },
            "type": "parcoords"
           }
          ],
          "pie": [
           {
            "automargin": true,
            "type": "pie"
           }
          ],
          "scatter": [
           {
            "fillpattern": {
             "fillmode": "overlay",
             "size": 10,
             "solidity": 0.2
            },
            "type": "scatter"
           }
          ],
          "scatter3d": [
           {
            "line": {
             "colorbar": {
              "outlinewidth": 0,
              "ticks": ""
             }
            },
            "marker": {
             "colorbar": {
              "outlinewidth": 0,
              "ticks": ""
             }
            },
            "type": "scatter3d"
           }
          ],
          "scattercarpet": [
           {
            "marker": {
             "colorbar": {
              "outlinewidth": 0,
              "ticks": ""
             }
            },
            "type": "scattercarpet"
           }
          ],
          "scattergeo": [
           {
            "marker": {
             "colorbar": {
              "outlinewidth": 0,
              "ticks": ""
             }
            },
            "type": "scattergeo"
           }
          ],
          "scattergl": [
           {
            "marker": {
             "colorbar": {
              "outlinewidth": 0,
              "ticks": ""
             }
            },
            "type": "scattergl"
           }
          ],
          "scattermapbox": [
           {
            "marker": {
             "colorbar": {
              "outlinewidth": 0,
              "ticks": ""
             }
            },
            "type": "scattermapbox"
           }
          ],
          "scatterpolar": [
           {
            "marker": {
             "colorbar": {
              "outlinewidth": 0,
              "ticks": ""
             }
            },
            "type": "scatterpolar"
           }
          ],
          "scatterpolargl": [
           {
            "marker": {
             "colorbar": {
              "outlinewidth": 0,
              "ticks": ""
             }
            },
            "type": "scatterpolargl"
           }
          ],
          "scatterternary": [
           {
            "marker": {
             "colorbar": {
              "outlinewidth": 0,
              "ticks": ""
             }
            },
            "type": "scatterternary"
           }
          ],
          "surface": [
           {
            "colorbar": {
             "outlinewidth": 0,
             "ticks": ""
            },
            "colorscale": [
             [
              0,
              "#0d0887"
             ],
             [
              0.1111111111111111,
              "#46039f"
             ],
             [
              0.2222222222222222,
              "#7201a8"
             ],
             [
              0.3333333333333333,
              "#9c179e"
             ],
             [
              0.4444444444444444,
              "#bd3786"
             ],
             [
              0.5555555555555556,
              "#d8576b"
             ],
             [
              0.6666666666666666,
              "#ed7953"
             ],
             [
              0.7777777777777778,
              "#fb9f3a"
             ],
             [
              0.8888888888888888,
              "#fdca26"
             ],
             [
              1,
              "#f0f921"
             ]
            ],
            "type": "surface"
           }
          ],
          "table": [
           {
            "cells": {
             "fill": {
              "color": "#EBF0F8"
             },
             "line": {
              "color": "white"
             }
            },
            "header": {
             "fill": {
              "color": "#C8D4E3"
             },
             "line": {
              "color": "white"
             }
            },
            "type": "table"
           }
          ]
         },
         "layout": {
          "annotationdefaults": {
           "arrowcolor": "#2a3f5f",
           "arrowhead": 0,
           "arrowwidth": 1
          },
          "autotypenumbers": "strict",
          "coloraxis": {
           "colorbar": {
            "outlinewidth": 0,
            "ticks": ""
           }
          },
          "colorscale": {
           "diverging": [
            [
             0,
             "#8e0152"
            ],
            [
             0.1,
             "#c51b7d"
            ],
            [
             0.2,
             "#de77ae"
            ],
            [
             0.3,
             "#f1b6da"
            ],
            [
             0.4,
             "#fde0ef"
            ],
            [
             0.5,
             "#f7f7f7"
            ],
            [
             0.6,
             "#e6f5d0"
            ],
            [
             0.7,
             "#b8e186"
            ],
            [
             0.8,
             "#7fbc41"
            ],
            [
             0.9,
             "#4d9221"
            ],
            [
             1,
             "#276419"
            ]
           ],
           "sequential": [
            [
             0,
             "#0d0887"
            ],
            [
             0.1111111111111111,
             "#46039f"
            ],
            [
             0.2222222222222222,
             "#7201a8"
            ],
            [
             0.3333333333333333,
             "#9c179e"
            ],
            [
             0.4444444444444444,
             "#bd3786"
            ],
            [
             0.5555555555555556,
             "#d8576b"
            ],
            [
             0.6666666666666666,
             "#ed7953"
            ],
            [
             0.7777777777777778,
             "#fb9f3a"
            ],
            [
             0.8888888888888888,
             "#fdca26"
            ],
            [
             1,
             "#f0f921"
            ]
           ],
           "sequentialminus": [
            [
             0,
             "#0d0887"
            ],
            [
             0.1111111111111111,
             "#46039f"
            ],
            [
             0.2222222222222222,
             "#7201a8"
            ],
            [
             0.3333333333333333,
             "#9c179e"
            ],
            [
             0.4444444444444444,
             "#bd3786"
            ],
            [
             0.5555555555555556,
             "#d8576b"
            ],
            [
             0.6666666666666666,
             "#ed7953"
            ],
            [
             0.7777777777777778,
             "#fb9f3a"
            ],
            [
             0.8888888888888888,
             "#fdca26"
            ],
            [
             1,
             "#f0f921"
            ]
           ]
          },
          "colorway": [
           "#636efa",
           "#EF553B",
           "#00cc96",
           "#ab63fa",
           "#FFA15A",
           "#19d3f3",
           "#FF6692",
           "#B6E880",
           "#FF97FF",
           "#FECB52"
          ],
          "font": {
           "color": "#2a3f5f"
          },
          "geo": {
           "bgcolor": "white",
           "lakecolor": "white",
           "landcolor": "#E5ECF6",
           "showlakes": true,
           "showland": true,
           "subunitcolor": "white"
          },
          "hoverlabel": {
           "align": "left"
          },
          "hovermode": "closest",
          "mapbox": {
           "style": "light"
          },
          "paper_bgcolor": "white",
          "plot_bgcolor": "#E5ECF6",
          "polar": {
           "angularaxis": {
            "gridcolor": "white",
            "linecolor": "white",
            "ticks": ""
           },
           "bgcolor": "#E5ECF6",
           "radialaxis": {
            "gridcolor": "white",
            "linecolor": "white",
            "ticks": ""
           }
          },
          "scene": {
           "xaxis": {
            "backgroundcolor": "#E5ECF6",
            "gridcolor": "white",
            "gridwidth": 2,
            "linecolor": "white",
            "showbackground": true,
            "ticks": "",
            "zerolinecolor": "white"
           },
           "yaxis": {
            "backgroundcolor": "#E5ECF6",
            "gridcolor": "white",
            "gridwidth": 2,
            "linecolor": "white",
            "showbackground": true,
            "ticks": "",
            "zerolinecolor": "white"
           },
           "zaxis": {
            "backgroundcolor": "#E5ECF6",
            "gridcolor": "white",
            "gridwidth": 2,
            "linecolor": "white",
            "showbackground": true,
            "ticks": "",
            "zerolinecolor": "white"
           }
          },
          "shapedefaults": {
           "line": {
            "color": "#2a3f5f"
           }
          },
          "ternary": {
           "aaxis": {
            "gridcolor": "white",
            "linecolor": "white",
            "ticks": ""
           },
           "baxis": {
            "gridcolor": "white",
            "linecolor": "white",
            "ticks": ""
           },
           "bgcolor": "#E5ECF6",
           "caxis": {
            "gridcolor": "white",
            "linecolor": "white",
            "ticks": ""
           }
          },
          "title": {
           "x": 0.05
          },
          "xaxis": {
           "automargin": true,
           "gridcolor": "white",
           "linecolor": "white",
           "ticks": "",
           "title": {
            "standoff": 15
           },
           "zerolinecolor": "white",
           "zerolinewidth": 2
          },
          "yaxis": {
           "automargin": true,
           "gridcolor": "white",
           "linecolor": "white",
           "ticks": "",
           "title": {
            "standoff": 15
           },
           "zerolinecolor": "white",
           "zerolinewidth": 2
          }
         }
        },
        "title": {
         "text": "Bills that have Passed/Failed"
        },
        "xaxis": {
         "anchor": "y",
         "domain": [
          0,
          1
         ],
         "title": {
          "text": "bill_name"
         }
        },
        "yaxis": {
         "anchor": "x",
         "domain": [
          0,
          1
         ],
         "title": {
          "text": "number"
         }
        }
       }
      }
     },
     "metadata": {},
     "output_type": "display_data"
    }
   ],
   "source": [
    "res = temp_fig['result'].value_counts().reset_index()\n",
    "total_percentage = px.pie(res, values='result', names='index', title=\"Percentage of Bills that have Passed/Failed\").show()\n",
    "vote_fig = px.bar(temp_fig, x='bill_name', y='number', color='result',hover_data=['yea_total', 'nay_total'],  height=400, title=\"Bills that have Passed/Failed\").show()"
   ]
  },
  {
   "attachments": {},
   "cell_type": "markdown",
   "id": "aa11affa",
   "metadata": {},
   "source": [
    "  Looking at the figures above, is the percentage of bills that pass/fail surprising? Think about the government that has the majority of seats and the bills that are frequently being passed. Is there a correlation between these factors?"
   ]
  },
  {
   "attachments": {},
   "cell_type": "markdown",
   "id": "812a4431",
   "metadata": {},
   "source": [
    "Let's take a deeper look at bills that have passed/failed multiple times. This is usually the result of bills having multiple readings/being at different stages, thus being altered at each step to suit the needs of every party in Parliament."
   ]
  },
  {
   "cell_type": "code",
   "execution_count": 21,
   "id": "f406accf",
   "metadata": {},
   "outputs": [
    {
     "data": {
      "text/html": [
       "<style type=\"text/css\">\n",
       "</style>\n",
       "<table id=\"T_91a50\">\n",
       "  <caption>3rd reading and adoption of Bill C-21, An Act to amend certain Acts and to make certain consequential amendments (firearms)</caption>\n",
       "  <thead>\n",
       "    <tr>\n",
       "      <th class=\"blank level0\" >&nbsp;</th>\n",
       "      <th id=\"T_91a50_level0_col0\" class=\"col_heading level0 col0\" >vote</th>\n",
       "      <th id=\"T_91a50_level0_col1\" class=\"col_heading level0 col1\" >party</th>\n",
       "      <th id=\"T_91a50_level0_col2\" class=\"col_heading level0 col2\" >disagreement</th>\n",
       "    </tr>\n",
       "  </thead>\n",
       "  <tbody>\n",
       "    <tr>\n",
       "      <th id=\"T_91a50_level0_row0\" class=\"row_heading level0 row0\" >0</th>\n",
       "      <td id=\"T_91a50_row0_col0\" class=\"data row0 col0\" >Yes</td>\n",
       "      <td id=\"T_91a50_row0_col1\" class=\"data row0 col1\" >Green Party of Canada</td>\n",
       "      <td id=\"T_91a50_row0_col2\" class=\"data row0 col2\" >0.000000</td>\n",
       "    </tr>\n",
       "    <tr>\n",
       "      <th id=\"T_91a50_level0_row1\" class=\"row_heading level0 row1\" >1</th>\n",
       "      <td id=\"T_91a50_row1_col0\" class=\"data row1 col0\" >Yes</td>\n",
       "      <td id=\"T_91a50_row1_col1\" class=\"data row1 col1\" >Liberal Party of Canada</td>\n",
       "      <td id=\"T_91a50_row1_col2\" class=\"data row1 col2\" >0.013423</td>\n",
       "    </tr>\n",
       "    <tr>\n",
       "      <th id=\"T_91a50_level0_row2\" class=\"row_heading level0 row2\" >2</th>\n",
       "      <td id=\"T_91a50_row2_col0\" class=\"data row2 col0\" >Yes</td>\n",
       "      <td id=\"T_91a50_row2_col1\" class=\"data row2 col1\" >Bloc Québécoi</td>\n",
       "      <td id=\"T_91a50_row2_col2\" class=\"data row2 col2\" >0.000000</td>\n",
       "    </tr>\n",
       "    <tr>\n",
       "      <th id=\"T_91a50_level0_row3\" class=\"row_heading level0 row3\" >3</th>\n",
       "      <td id=\"T_91a50_row3_col0\" class=\"data row3 col0\" >Yes</td>\n",
       "      <td id=\"T_91a50_row3_col1\" class=\"data row3 col1\" >New Democratic Party</td>\n",
       "      <td id=\"T_91a50_row3_col2\" class=\"data row3 col2\" >0.000000</td>\n",
       "    </tr>\n",
       "    <tr>\n",
       "      <th id=\"T_91a50_level0_row4\" class=\"row_heading level0 row4\" >4</th>\n",
       "      <td id=\"T_91a50_row4_col0\" class=\"data row4 col0\" >No</td>\n",
       "      <td id=\"T_91a50_row4_col1\" class=\"data row4 col1\" >Conservative Party of Canada</td>\n",
       "      <td id=\"T_91a50_row4_col2\" class=\"data row4 col2\" >0.000000</td>\n",
       "    </tr>\n",
       "  </tbody>\n",
       "</table>\n"
      ],
      "text/plain": [
       "<pandas.io.formats.style.Styler at 0x1e80955bf40>"
      ]
     },
     "metadata": {},
     "output_type": "display_data"
    },
    {
     "name": "stdout",
     "output_type": "stream",
     "text": [
      "Percentage of parties who voted yes/no:\n",
      " Yes    0.8\n",
      "No     0.2 \n",
      "\n"
     ]
    },
    {
     "data": {
      "text/html": [
       "<style type=\"text/css\">\n",
       "</style>\n",
       "<table id=\"T_b61d2\">\n",
       "  <caption>Bill C-21, An Act to amend certain Acts and to make certain consequential amendments (firearms) (recommittal to a committee)</caption>\n",
       "  <thead>\n",
       "    <tr>\n",
       "      <th class=\"blank level0\" >&nbsp;</th>\n",
       "      <th id=\"T_b61d2_level0_col0\" class=\"col_heading level0 col0\" >vote</th>\n",
       "      <th id=\"T_b61d2_level0_col1\" class=\"col_heading level0 col1\" >party</th>\n",
       "      <th id=\"T_b61d2_level0_col2\" class=\"col_heading level0 col2\" >disagreement</th>\n",
       "    </tr>\n",
       "  </thead>\n",
       "  <tbody>\n",
       "    <tr>\n",
       "      <th id=\"T_b61d2_level0_row0\" class=\"row_heading level0 row0\" >0</th>\n",
       "      <td id=\"T_b61d2_row0_col0\" class=\"data row0 col0\" >No</td>\n",
       "      <td id=\"T_b61d2_row0_col1\" class=\"data row0 col1\" >Green Party of Canada</td>\n",
       "      <td id=\"T_b61d2_row0_col2\" class=\"data row0 col2\" >0.000000</td>\n",
       "    </tr>\n",
       "    <tr>\n",
       "      <th id=\"T_b61d2_level0_row1\" class=\"row_heading level0 row1\" >1</th>\n",
       "      <td id=\"T_b61d2_row1_col0\" class=\"data row1 col0\" >No</td>\n",
       "      <td id=\"T_b61d2_row1_col1\" class=\"data row1 col1\" >Liberal Party of Canada</td>\n",
       "      <td id=\"T_b61d2_row1_col2\" class=\"data row1 col2\" >0.000000</td>\n",
       "    </tr>\n",
       "    <tr>\n",
       "      <th id=\"T_b61d2_level0_row2\" class=\"row_heading level0 row2\" >2</th>\n",
       "      <td id=\"T_b61d2_row2_col0\" class=\"data row2 col0\" >No</td>\n",
       "      <td id=\"T_b61d2_row2_col1\" class=\"data row2 col1\" >Bloc Québécoi</td>\n",
       "      <td id=\"T_b61d2_row2_col2\" class=\"data row2 col2\" >0.000000</td>\n",
       "    </tr>\n",
       "    <tr>\n",
       "      <th id=\"T_b61d2_level0_row3\" class=\"row_heading level0 row3\" >3</th>\n",
       "      <td id=\"T_b61d2_row3_col0\" class=\"data row3 col0\" >No</td>\n",
       "      <td id=\"T_b61d2_row3_col1\" class=\"data row3 col1\" >New Democratic Party</td>\n",
       "      <td id=\"T_b61d2_row3_col2\" class=\"data row3 col2\" >0.000000</td>\n",
       "    </tr>\n",
       "    <tr>\n",
       "      <th id=\"T_b61d2_level0_row4\" class=\"row_heading level0 row4\" >4</th>\n",
       "      <td id=\"T_b61d2_row4_col0\" class=\"data row4 col0\" >Yes</td>\n",
       "      <td id=\"T_b61d2_row4_col1\" class=\"data row4 col1\" >Conservative Party of Canada</td>\n",
       "      <td id=\"T_b61d2_row4_col2\" class=\"data row4 col2\" >0.000000</td>\n",
       "    </tr>\n",
       "  </tbody>\n",
       "</table>\n"
      ],
      "text/plain": [
       "<pandas.io.formats.style.Styler at 0x1e80955abc0>"
      ]
     },
     "metadata": {},
     "output_type": "display_data"
    },
    {
     "name": "stdout",
     "output_type": "stream",
     "text": [
      "Percentage of parties who voted yes/no:\n",
      " No     0.8\n",
      "Yes    0.2 \n",
      "\n"
     ]
    },
    {
     "data": {
      "text/html": [
       "<style type=\"text/css\">\n",
       "</style>\n",
       "<table id=\"T_5b998\">\n",
       "  <caption>Concurrence at report stage of Bill C-21, An Act to amend certain Acts and to make certain consequential amendments (firearms)</caption>\n",
       "  <thead>\n",
       "    <tr>\n",
       "      <th class=\"blank level0\" >&nbsp;</th>\n",
       "      <th id=\"T_5b998_level0_col0\" class=\"col_heading level0 col0\" >vote</th>\n",
       "      <th id=\"T_5b998_level0_col1\" class=\"col_heading level0 col1\" >party</th>\n",
       "      <th id=\"T_5b998_level0_col2\" class=\"col_heading level0 col2\" >disagreement</th>\n",
       "    </tr>\n",
       "  </thead>\n",
       "  <tbody>\n",
       "    <tr>\n",
       "      <th id=\"T_5b998_level0_row0\" class=\"row_heading level0 row0\" >0</th>\n",
       "      <td id=\"T_5b998_row0_col0\" class=\"data row0 col0\" >Yes</td>\n",
       "      <td id=\"T_5b998_row0_col1\" class=\"data row0 col1\" >Green Party of Canada</td>\n",
       "      <td id=\"T_5b998_row0_col2\" class=\"data row0 col2\" >0.000000</td>\n",
       "    </tr>\n",
       "    <tr>\n",
       "      <th id=\"T_5b998_level0_row1\" class=\"row_heading level0 row1\" >1</th>\n",
       "      <td id=\"T_5b998_row1_col0\" class=\"data row1 col0\" >Yes</td>\n",
       "      <td id=\"T_5b998_row1_col1\" class=\"data row1 col1\" >Liberal Party of Canada</td>\n",
       "      <td id=\"T_5b998_row1_col2\" class=\"data row1 col2\" >0.000000</td>\n",
       "    </tr>\n",
       "    <tr>\n",
       "      <th id=\"T_5b998_level0_row2\" class=\"row_heading level0 row2\" >2</th>\n",
       "      <td id=\"T_5b998_row2_col0\" class=\"data row2 col0\" >Yes</td>\n",
       "      <td id=\"T_5b998_row2_col1\" class=\"data row2 col1\" >Bloc Québécoi</td>\n",
       "      <td id=\"T_5b998_row2_col2\" class=\"data row2 col2\" >0.000000</td>\n",
       "    </tr>\n",
       "    <tr>\n",
       "      <th id=\"T_5b998_level0_row3\" class=\"row_heading level0 row3\" >3</th>\n",
       "      <td id=\"T_5b998_row3_col0\" class=\"data row3 col0\" >Yes</td>\n",
       "      <td id=\"T_5b998_row3_col1\" class=\"data row3 col1\" >New Democratic Party</td>\n",
       "      <td id=\"T_5b998_row3_col2\" class=\"data row3 col2\" >0.000000</td>\n",
       "    </tr>\n",
       "    <tr>\n",
       "      <th id=\"T_5b998_level0_row4\" class=\"row_heading level0 row4\" >4</th>\n",
       "      <td id=\"T_5b998_row4_col0\" class=\"data row4 col0\" >No</td>\n",
       "      <td id=\"T_5b998_row4_col1\" class=\"data row4 col1\" >Conservative Party of Canada</td>\n",
       "      <td id=\"T_5b998_row4_col2\" class=\"data row4 col2\" >0.000000</td>\n",
       "    </tr>\n",
       "  </tbody>\n",
       "</table>\n"
      ],
      "text/plain": [
       "<pandas.io.formats.style.Styler at 0x1e86d24ba30>"
      ]
     },
     "metadata": {},
     "output_type": "display_data"
    },
    {
     "name": "stdout",
     "output_type": "stream",
     "text": [
      "Percentage of parties who voted yes/no:\n",
      " Yes    0.8\n",
      "No     0.2 \n",
      "\n"
     ]
    },
    {
     "data": {
      "text/html": [
       "<style type=\"text/css\">\n",
       "</style>\n",
       "<table id=\"T_fa072\">\n",
       "  <caption>Bill C-21, An Act to amend certain Acts and to make certain consequential amendments (firearms) (report stage amendment)</caption>\n",
       "  <thead>\n",
       "    <tr>\n",
       "      <th class=\"blank level0\" >&nbsp;</th>\n",
       "      <th id=\"T_fa072_level0_col0\" class=\"col_heading level0 col0\" >vote</th>\n",
       "      <th id=\"T_fa072_level0_col1\" class=\"col_heading level0 col1\" >party</th>\n",
       "      <th id=\"T_fa072_level0_col2\" class=\"col_heading level0 col2\" >disagreement</th>\n",
       "    </tr>\n",
       "  </thead>\n",
       "  <tbody>\n",
       "    <tr>\n",
       "      <th id=\"T_fa072_level0_row0\" class=\"row_heading level0 row0\" >0</th>\n",
       "      <td id=\"T_fa072_row0_col0\" class=\"data row0 col0\" >Yes</td>\n",
       "      <td id=\"T_fa072_row0_col1\" class=\"data row0 col1\" >Green Party of Canada</td>\n",
       "      <td id=\"T_fa072_row0_col2\" class=\"data row0 col2\" >0.000000</td>\n",
       "    </tr>\n",
       "    <tr>\n",
       "      <th id=\"T_fa072_level0_row1\" class=\"row_heading level0 row1\" >1</th>\n",
       "      <td id=\"T_fa072_row1_col0\" class=\"data row1 col0\" >Yes</td>\n",
       "      <td id=\"T_fa072_row1_col1\" class=\"data row1 col1\" >Liberal Party of Canada</td>\n",
       "      <td id=\"T_fa072_row1_col2\" class=\"data row1 col2\" >0.000000</td>\n",
       "    </tr>\n",
       "    <tr>\n",
       "      <th id=\"T_fa072_level0_row2\" class=\"row_heading level0 row2\" >2</th>\n",
       "      <td id=\"T_fa072_row2_col0\" class=\"data row2 col0\" >Yes</td>\n",
       "      <td id=\"T_fa072_row2_col1\" class=\"data row2 col1\" >Bloc Québécoi</td>\n",
       "      <td id=\"T_fa072_row2_col2\" class=\"data row2 col2\" >0.000000</td>\n",
       "    </tr>\n",
       "    <tr>\n",
       "      <th id=\"T_fa072_level0_row3\" class=\"row_heading level0 row3\" >3</th>\n",
       "      <td id=\"T_fa072_row3_col0\" class=\"data row3 col0\" >Yes</td>\n",
       "      <td id=\"T_fa072_row3_col1\" class=\"data row3 col1\" >New Democratic Party</td>\n",
       "      <td id=\"T_fa072_row3_col2\" class=\"data row3 col2\" >0.000000</td>\n",
       "    </tr>\n",
       "    <tr>\n",
       "      <th id=\"T_fa072_level0_row4\" class=\"row_heading level0 row4\" >4</th>\n",
       "      <td id=\"T_fa072_row4_col0\" class=\"data row4 col0\" >Yes</td>\n",
       "      <td id=\"T_fa072_row4_col1\" class=\"data row4 col1\" >Conservative Party of Canada</td>\n",
       "      <td id=\"T_fa072_row4_col2\" class=\"data row4 col2\" >0.000000</td>\n",
       "    </tr>\n",
       "  </tbody>\n",
       "</table>\n"
      ],
      "text/plain": [
       "<pandas.io.formats.style.Styler at 0x1e86d24a9b0>"
      ]
     },
     "metadata": {},
     "output_type": "display_data"
    },
    {
     "name": "stdout",
     "output_type": "stream",
     "text": [
      "Percentage of parties who voted yes/no:\n",
      " Yes    1.0 \n",
      "\n"
     ]
    },
    {
     "data": {
      "text/html": [
       "<style type=\"text/css\">\n",
       "</style>\n",
       "<table id=\"T_49cdb\">\n",
       "  <caption>Bill C-21, An Act to amend certain Acts and to make certain consequential amendments (firearms) (report stage amendment)</caption>\n",
       "  <thead>\n",
       "    <tr>\n",
       "      <th class=\"blank level0\" >&nbsp;</th>\n",
       "      <th id=\"T_49cdb_level0_col0\" class=\"col_heading level0 col0\" >vote</th>\n",
       "      <th id=\"T_49cdb_level0_col1\" class=\"col_heading level0 col1\" >party</th>\n",
       "      <th id=\"T_49cdb_level0_col2\" class=\"col_heading level0 col2\" >disagreement</th>\n",
       "    </tr>\n",
       "  </thead>\n",
       "  <tbody>\n",
       "    <tr>\n",
       "      <th id=\"T_49cdb_level0_row0\" class=\"row_heading level0 row0\" >0</th>\n",
       "      <td id=\"T_49cdb_row0_col0\" class=\"data row0 col0\" >Yes</td>\n",
       "      <td id=\"T_49cdb_row0_col1\" class=\"data row0 col1\" >Green Party of Canada</td>\n",
       "      <td id=\"T_49cdb_row0_col2\" class=\"data row0 col2\" >0.000000</td>\n",
       "    </tr>\n",
       "    <tr>\n",
       "      <th id=\"T_49cdb_level0_row1\" class=\"row_heading level0 row1\" >1</th>\n",
       "      <td id=\"T_49cdb_row1_col0\" class=\"data row1 col0\" >Yes</td>\n",
       "      <td id=\"T_49cdb_row1_col1\" class=\"data row1 col1\" >Liberal Party of Canada</td>\n",
       "      <td id=\"T_49cdb_row1_col2\" class=\"data row1 col2\" >0.000000</td>\n",
       "    </tr>\n",
       "    <tr>\n",
       "      <th id=\"T_49cdb_level0_row2\" class=\"row_heading level0 row2\" >2</th>\n",
       "      <td id=\"T_49cdb_row2_col0\" class=\"data row2 col0\" >Yes</td>\n",
       "      <td id=\"T_49cdb_row2_col1\" class=\"data row2 col1\" >Bloc Québécoi</td>\n",
       "      <td id=\"T_49cdb_row2_col2\" class=\"data row2 col2\" >0.000000</td>\n",
       "    </tr>\n",
       "    <tr>\n",
       "      <th id=\"T_49cdb_level0_row3\" class=\"row_heading level0 row3\" >3</th>\n",
       "      <td id=\"T_49cdb_row3_col0\" class=\"data row3 col0\" >Yes</td>\n",
       "      <td id=\"T_49cdb_row3_col1\" class=\"data row3 col1\" >New Democratic Party</td>\n",
       "      <td id=\"T_49cdb_row3_col2\" class=\"data row3 col2\" >0.000000</td>\n",
       "    </tr>\n",
       "    <tr>\n",
       "      <th id=\"T_49cdb_level0_row4\" class=\"row_heading level0 row4\" >4</th>\n",
       "      <td id=\"T_49cdb_row4_col0\" class=\"data row4 col0\" >No</td>\n",
       "      <td id=\"T_49cdb_row4_col1\" class=\"data row4 col1\" >Conservative Party of Canada</td>\n",
       "      <td id=\"T_49cdb_row4_col2\" class=\"data row4 col2\" >0.000000</td>\n",
       "    </tr>\n",
       "  </tbody>\n",
       "</table>\n"
      ],
      "text/plain": [
       "<pandas.io.formats.style.Styler at 0x1e80950e950>"
      ]
     },
     "metadata": {},
     "output_type": "display_data"
    },
    {
     "name": "stdout",
     "output_type": "stream",
     "text": [
      "Percentage of parties who voted yes/no:\n",
      " Yes    0.8\n",
      "No     0.2 \n",
      "\n"
     ]
    },
    {
     "data": {
      "text/html": [
       "<style type=\"text/css\">\n",
       "</style>\n",
       "<table id=\"T_7ea35\">\n",
       "  <caption>Bill C-21, An Act to amend certain Acts and to make certain consequential amendments (firearms) (report stage amendment)</caption>\n",
       "  <thead>\n",
       "    <tr>\n",
       "      <th class=\"blank level0\" >&nbsp;</th>\n",
       "      <th id=\"T_7ea35_level0_col0\" class=\"col_heading level0 col0\" >vote</th>\n",
       "      <th id=\"T_7ea35_level0_col1\" class=\"col_heading level0 col1\" >party</th>\n",
       "      <th id=\"T_7ea35_level0_col2\" class=\"col_heading level0 col2\" >disagreement</th>\n",
       "    </tr>\n",
       "  </thead>\n",
       "  <tbody>\n",
       "    <tr>\n",
       "      <th id=\"T_7ea35_level0_row0\" class=\"row_heading level0 row0\" >0</th>\n",
       "      <td id=\"T_7ea35_row0_col0\" class=\"data row0 col0\" >No</td>\n",
       "      <td id=\"T_7ea35_row0_col1\" class=\"data row0 col1\" >Green Party of Canada</td>\n",
       "      <td id=\"T_7ea35_row0_col2\" class=\"data row0 col2\" >0.000000</td>\n",
       "    </tr>\n",
       "    <tr>\n",
       "      <th id=\"T_7ea35_level0_row1\" class=\"row_heading level0 row1\" >1</th>\n",
       "      <td id=\"T_7ea35_row1_col0\" class=\"data row1 col0\" >No</td>\n",
       "      <td id=\"T_7ea35_row1_col1\" class=\"data row1 col1\" >Liberal Party of Canada</td>\n",
       "      <td id=\"T_7ea35_row1_col2\" class=\"data row1 col2\" >0.000000</td>\n",
       "    </tr>\n",
       "    <tr>\n",
       "      <th id=\"T_7ea35_level0_row2\" class=\"row_heading level0 row2\" >2</th>\n",
       "      <td id=\"T_7ea35_row2_col0\" class=\"data row2 col0\" >No</td>\n",
       "      <td id=\"T_7ea35_row2_col1\" class=\"data row2 col1\" >Bloc Québécoi</td>\n",
       "      <td id=\"T_7ea35_row2_col2\" class=\"data row2 col2\" >0.000000</td>\n",
       "    </tr>\n",
       "    <tr>\n",
       "      <th id=\"T_7ea35_level0_row3\" class=\"row_heading level0 row3\" >3</th>\n",
       "      <td id=\"T_7ea35_row3_col0\" class=\"data row3 col0\" >No</td>\n",
       "      <td id=\"T_7ea35_row3_col1\" class=\"data row3 col1\" >New Democratic Party</td>\n",
       "      <td id=\"T_7ea35_row3_col2\" class=\"data row3 col2\" >0.000000</td>\n",
       "    </tr>\n",
       "    <tr>\n",
       "      <th id=\"T_7ea35_level0_row4\" class=\"row_heading level0 row4\" >4</th>\n",
       "      <td id=\"T_7ea35_row4_col0\" class=\"data row4 col0\" >Yes</td>\n",
       "      <td id=\"T_7ea35_row4_col1\" class=\"data row4 col1\" >Conservative Party of Canada</td>\n",
       "      <td id=\"T_7ea35_row4_col2\" class=\"data row4 col2\" >0.000000</td>\n",
       "    </tr>\n",
       "  </tbody>\n",
       "</table>\n"
      ],
      "text/plain": [
       "<pandas.io.formats.style.Styler at 0x1e8095dd480>"
      ]
     },
     "metadata": {},
     "output_type": "display_data"
    },
    {
     "name": "stdout",
     "output_type": "stream",
     "text": [
      "Percentage of parties who voted yes/no:\n",
      " No     0.8\n",
      "Yes    0.2 \n",
      "\n"
     ]
    }
   ],
   "source": [
    "# Change name_of_bill to take a look at the different readings/stages of bills in Parliament\n",
    "# In order to look at different bills, change \"C-21\". For example, you can input \"C-11\" in place of \"C-21\"\n",
    "name_of_bill = \"C-21\" \n",
    "\n",
    "party_names = ['Green Party of Canada', \"Liberal Party of Canada\", \"Bloc Québécoi\", \"New Democratic Party\", \"Conservative Party of Canada\"]\n",
    "df_with_bill = temp_fig.loc[temp_fig['bill_name'] == name_of_bill]\n",
    "\n",
    "if len(df_with_bill) == 0:\n",
    "    print(\"No results, use the plots above to find a bill to investigate.\")\n",
    "\n",
    "for index, row in df_with_bill.iterrows():\n",
    "    r = requests.get(f\"http://api.openparliament.ca{row['url']}?format=json\")\n",
    "    data = r.json()\n",
    "    vote_info = pd.DataFrame(data['party_votes'])\n",
    "    vote_info.drop(columns=['party'])\n",
    "    vote_info['party'] = party_names\n",
    "    \n",
    "    voter_percentage = vote_info['vote'].value_counts(normalize=True)\n",
    "    vote_info = vote_info.style.set_caption(row['english_desc'])\n",
    "    display(vote_info)\n",
    "    print(\"Percentage of parties who voted yes/no:\\n\", voter_percentage.to_string(),'\\n')"
   ]
  },
  {
   "attachments": {},
   "cell_type": "markdown",
   "id": "15d4d69e",
   "metadata": {},
   "source": [
    "We can take a deeper dive and see how different members of Parliament vote on certain bills. "
   ]
  },
  {
   "cell_type": "code",
   "execution_count": 22,
   "id": "26969523",
   "metadata": {},
   "outputs": [
    {
     "data": {
      "text/html": [
       "<div>\n",
       "<style scoped>\n",
       "    .dataframe tbody tr th:only-of-type {\n",
       "        vertical-align: middle;\n",
       "    }\n",
       "\n",
       "    .dataframe tbody tr th {\n",
       "        vertical-align: top;\n",
       "    }\n",
       "\n",
       "    .dataframe thead th {\n",
       "        text-align: right;\n",
       "    }\n",
       "</style>\n",
       "<table border=\"1\" class=\"dataframe\">\n",
       "  <thead>\n",
       "    <tr style=\"text-align: right;\">\n",
       "      <th></th>\n",
       "      <th>url</th>\n",
       "      <th>english_desc</th>\n",
       "    </tr>\n",
       "  </thead>\n",
       "  <tbody>\n",
       "    <tr>\n",
       "      <th>0</th>\n",
       "      <td>/votes/44-1/366/</td>\n",
       "      <td>3rd reading and adoption of Bill C-47, An Act ...</td>\n",
       "    </tr>\n",
       "    <tr>\n",
       "      <th>1</th>\n",
       "      <td>/votes/44-1/365/</td>\n",
       "      <td>Concurrence at report stage of Bill C-47, An A...</td>\n",
       "    </tr>\n",
       "    <tr>\n",
       "      <th>2</th>\n",
       "      <td>/votes/44-1/364/</td>\n",
       "      <td>Bill C-47, An Act to implement certain provisi...</td>\n",
       "    </tr>\n",
       "    <tr>\n",
       "      <th>3</th>\n",
       "      <td>/votes/44-1/363/</td>\n",
       "      <td>Bill C-47, An Act to implement certain provisi...</td>\n",
       "    </tr>\n",
       "    <tr>\n",
       "      <th>4</th>\n",
       "      <td>/votes/44-1/362/</td>\n",
       "      <td>Bill C-47, An Act to implement certain provisi...</td>\n",
       "    </tr>\n",
       "    <tr>\n",
       "      <th>5</th>\n",
       "      <td>/votes/44-1/361/</td>\n",
       "      <td>Bill C-47, An Act to implement certain provisi...</td>\n",
       "    </tr>\n",
       "    <tr>\n",
       "      <th>6</th>\n",
       "      <td>/votes/44-1/360/</td>\n",
       "      <td>Bill C-47, An Act to implement certain provisi...</td>\n",
       "    </tr>\n",
       "    <tr>\n",
       "      <th>7</th>\n",
       "      <td>/votes/44-1/359/</td>\n",
       "      <td>Bill C-47, An Act to implement certain provisi...</td>\n",
       "    </tr>\n",
       "    <tr>\n",
       "      <th>8</th>\n",
       "      <td>/votes/44-1/358/</td>\n",
       "      <td>Bill C-47, An Act to implement certain provisi...</td>\n",
       "    </tr>\n",
       "    <tr>\n",
       "      <th>9</th>\n",
       "      <td>/votes/44-1/357/</td>\n",
       "      <td>Bill C-47, An Act to implement certain provisi...</td>\n",
       "    </tr>\n",
       "    <tr>\n",
       "      <th>10</th>\n",
       "      <td>/votes/44-1/356/</td>\n",
       "      <td>Bill C-47, An Act to implement certain provisi...</td>\n",
       "    </tr>\n",
       "    <tr>\n",
       "      <th>11</th>\n",
       "      <td>/votes/44-1/355/</td>\n",
       "      <td>3rd reading and adoption of Bill C-281, An Act...</td>\n",
       "    </tr>\n",
       "    <tr>\n",
       "      <th>12</th>\n",
       "      <td>/votes/44-1/354/</td>\n",
       "      <td>2nd reading of Bill S-202, An Act to amend the...</td>\n",
       "    </tr>\n",
       "    <tr>\n",
       "      <th>13</th>\n",
       "      <td>/votes/44-1/353/</td>\n",
       "      <td>2nd reading of Bill C-284, An Act to establish...</td>\n",
       "    </tr>\n",
       "    <tr>\n",
       "      <th>14</th>\n",
       "      <td>/votes/44-1/351/</td>\n",
       "      <td>Time allocation for Bill C-35, An Act respecti...</td>\n",
       "    </tr>\n",
       "    <tr>\n",
       "      <th>15</th>\n",
       "      <td>/votes/44-1/350/</td>\n",
       "      <td>Time allocation for Bill C-47, An Act to imple...</td>\n",
       "    </tr>\n",
       "    <tr>\n",
       "      <th>16</th>\n",
       "      <td>/votes/44-1/343/</td>\n",
       "      <td>2nd reading of Bill C-42, An Act to amend the ...</td>\n",
       "    </tr>\n",
       "    <tr>\n",
       "      <th>17</th>\n",
       "      <td>/votes/44-1/342/</td>\n",
       "      <td>Concurrence at report stage of Bill C-244, An ...</td>\n",
       "    </tr>\n",
       "    <tr>\n",
       "      <th>18</th>\n",
       "      <td>/votes/44-1/341/</td>\n",
       "      <td>Concurrence at report stage of Bill C-281, An ...</td>\n",
       "    </tr>\n",
       "    <tr>\n",
       "      <th>19</th>\n",
       "      <td>/votes/44-1/340/</td>\n",
       "      <td>Bill C-281, An Act to amend the Department of ...</td>\n",
       "    </tr>\n",
       "    <tr>\n",
       "      <th>20</th>\n",
       "      <td>/votes/44-1/338/</td>\n",
       "      <td>3rd reading and adoption of Bill S-5, An Act t...</td>\n",
       "    </tr>\n",
       "    <tr>\n",
       "      <th>21</th>\n",
       "      <td>/votes/44-1/337/</td>\n",
       "      <td>Bill S-5, An Act to amend the Canadian Environ...</td>\n",
       "    </tr>\n",
       "    <tr>\n",
       "      <th>22</th>\n",
       "      <td>/votes/44-1/333/</td>\n",
       "      <td>3rd reading and adoption of Bill C-21, An Act ...</td>\n",
       "    </tr>\n",
       "    <tr>\n",
       "      <th>23</th>\n",
       "      <td>/votes/44-1/332/</td>\n",
       "      <td>Bill C-21, An Act to amend certain Acts and to...</td>\n",
       "    </tr>\n",
       "    <tr>\n",
       "      <th>24</th>\n",
       "      <td>/votes/44-1/331/</td>\n",
       "      <td>2nd reading of Bill C-280, An Act to amend the...</td>\n",
       "    </tr>\n",
       "    <tr>\n",
       "      <th>25</th>\n",
       "      <td>/votes/44-1/330/</td>\n",
       "      <td>Concurrence at report stage of Bill C-21, An A...</td>\n",
       "    </tr>\n",
       "    <tr>\n",
       "      <th>26</th>\n",
       "      <td>/votes/44-1/329/</td>\n",
       "      <td>Bill C-21, An Act to amend certain Acts and to...</td>\n",
       "    </tr>\n",
       "    <tr>\n",
       "      <th>27</th>\n",
       "      <td>/votes/44-1/328/</td>\n",
       "      <td>Bill C-21, An Act to amend certain Acts and to...</td>\n",
       "    </tr>\n",
       "    <tr>\n",
       "      <th>28</th>\n",
       "      <td>/votes/44-1/327/</td>\n",
       "      <td>Bill C-21, An Act to amend certain Acts and to...</td>\n",
       "    </tr>\n",
       "    <tr>\n",
       "      <th>29</th>\n",
       "      <td>/votes/44-1/326/</td>\n",
       "      <td>Concurrence at report stage of Bill S-5, An Ac...</td>\n",
       "    </tr>\n",
       "    <tr>\n",
       "      <th>30</th>\n",
       "      <td>/votes/44-1/325/</td>\n",
       "      <td>Bill S-5, An Act to amend the Canadian Environ...</td>\n",
       "    </tr>\n",
       "    <tr>\n",
       "      <th>31</th>\n",
       "      <td>/votes/44-1/324/</td>\n",
       "      <td>Bill S-5, An Act to amend the Canadian Environ...</td>\n",
       "    </tr>\n",
       "    <tr>\n",
       "      <th>32</th>\n",
       "      <td>/votes/44-1/323/</td>\n",
       "      <td>3rd reading and adoption of Bill C-13, An Act ...</td>\n",
       "    </tr>\n",
       "    <tr>\n",
       "      <th>33</th>\n",
       "      <td>/votes/44-1/321/</td>\n",
       "      <td>Time allocation for Bill S-5, An Act to amend ...</td>\n",
       "    </tr>\n",
       "    <tr>\n",
       "      <th>34</th>\n",
       "      <td>/votes/44-1/320/</td>\n",
       "      <td>Concurrence at report stage of Bill C-13, An A...</td>\n",
       "    </tr>\n",
       "    <tr>\n",
       "      <th>35</th>\n",
       "      <td>/votes/44-1/319/</td>\n",
       "      <td>Bill C-13, An Act to amend the Official Langua...</td>\n",
       "    </tr>\n",
       "    <tr>\n",
       "      <th>36</th>\n",
       "      <td>/votes/44-1/318/</td>\n",
       "      <td>Bill C-13, An Act to amend the Official Langua...</td>\n",
       "    </tr>\n",
       "    <tr>\n",
       "      <th>37</th>\n",
       "      <td>/votes/44-1/317/</td>\n",
       "      <td>Bill C-13, An Act to amend the Official Langua...</td>\n",
       "    </tr>\n",
       "    <tr>\n",
       "      <th>38</th>\n",
       "      <td>/votes/44-1/310/</td>\n",
       "      <td>3rd reading and adoption of Bill S-211, An Act...</td>\n",
       "    </tr>\n",
       "    <tr>\n",
       "      <th>39</th>\n",
       "      <td>/votes/44-1/308/</td>\n",
       "      <td>2nd reading of Bill C-47, An Act to implement ...</td>\n",
       "    </tr>\n",
       "    <tr>\n",
       "      <th>40</th>\n",
       "      <td>/votes/44-1/307/</td>\n",
       "      <td>2nd reading of Bill C-47, An Act to implement ...</td>\n",
       "    </tr>\n",
       "    <tr>\n",
       "      <th>41</th>\n",
       "      <td>/votes/44-1/306/</td>\n",
       "      <td>Time allocation for Bill C-47, An Act to imple...</td>\n",
       "    </tr>\n",
       "    <tr>\n",
       "      <th>42</th>\n",
       "      <td>/votes/44-1/305/</td>\n",
       "      <td>3rd reading and adoption of Bill C-248, An Act...</td>\n",
       "    </tr>\n",
       "    <tr>\n",
       "      <th>43</th>\n",
       "      <td>/votes/44-1/304/</td>\n",
       "      <td>3rd reading and adoption of Bill C-288, An Act...</td>\n",
       "    </tr>\n",
       "    <tr>\n",
       "      <th>44</th>\n",
       "      <td>/votes/44-1/301/</td>\n",
       "      <td>2nd reading of Bill C-27, An Act to enact the ...</td>\n",
       "    </tr>\n",
       "    <tr>\n",
       "      <th>45</th>\n",
       "      <td>/votes/44-1/300/</td>\n",
       "      <td>2nd reading of Bill C-27, An Act to enact the ...</td>\n",
       "    </tr>\n",
       "    <tr>\n",
       "      <th>46</th>\n",
       "      <td>/votes/44-1/297/</td>\n",
       "      <td>2nd reading of Bill C-239, An Act to amend An ...</td>\n",
       "    </tr>\n",
       "    <tr>\n",
       "      <th>47</th>\n",
       "      <td>/votes/44-1/293/</td>\n",
       "      <td>2nd reading of Bill C-34, An Act to amend the ...</td>\n",
       "    </tr>\n",
       "    <tr>\n",
       "      <th>48</th>\n",
       "      <td>/votes/44-1/292/</td>\n",
       "      <td>Motion respecting Senate amendments to Bill C-...</td>\n",
       "    </tr>\n",
       "    <tr>\n",
       "      <th>49</th>\n",
       "      <td>/votes/44-1/291/</td>\n",
       "      <td>Motion respecting Senate amendments to Bill C-...</td>\n",
       "    </tr>\n",
       "    <tr>\n",
       "      <th>50</th>\n",
       "      <td>/votes/44-1/289/</td>\n",
       "      <td>3rd reading and adoption of Bill C-234, An Act...</td>\n",
       "    </tr>\n",
       "    <tr>\n",
       "      <th>51</th>\n",
       "      <td>/votes/44-1/288/</td>\n",
       "      <td>3rd reading and adoption of Bill C-226, An Act...</td>\n",
       "    </tr>\n",
       "    <tr>\n",
       "      <th>52</th>\n",
       "      <td>/votes/44-1/287/</td>\n",
       "      <td>2nd reading of Bill C-26, An Act respecting cy...</td>\n",
       "    </tr>\n",
       "    <tr>\n",
       "      <th>53</th>\n",
       "      <td>/votes/44-1/283/</td>\n",
       "      <td>3rd reading and adoption of Bill C-44, An Act ...</td>\n",
       "    </tr>\n",
       "    <tr>\n",
       "      <th>54</th>\n",
       "      <td>/votes/44-1/282/</td>\n",
       "      <td>Concurrence at report stage of Bill C-44, An A...</td>\n",
       "    </tr>\n",
       "    <tr>\n",
       "      <th>55</th>\n",
       "      <td>/votes/44-1/281/</td>\n",
       "      <td>2nd reading of Bill C-44, An Act for granting ...</td>\n",
       "    </tr>\n",
       "    <tr>\n",
       "      <th>56</th>\n",
       "      <td>/votes/44-1/279/</td>\n",
       "      <td>3rd reading and adoption of Bill C-43, An Act ...</td>\n",
       "    </tr>\n",
       "    <tr>\n",
       "      <th>57</th>\n",
       "      <td>/votes/44-1/278/</td>\n",
       "      <td>Concurrence at report stage of Bill C-43, An A...</td>\n",
       "    </tr>\n",
       "    <tr>\n",
       "      <th>58</th>\n",
       "      <td>/votes/44-1/277/</td>\n",
       "      <td>2nd reading of Bill C-43, An Act for granting ...</td>\n",
       "    </tr>\n",
       "    <tr>\n",
       "      <th>59</th>\n",
       "      <td>/votes/44-1/274/</td>\n",
       "      <td>2nd reading of Bill C-283, An Act to amend the...</td>\n",
       "    </tr>\n",
       "    <tr>\n",
       "      <th>60</th>\n",
       "      <td>/votes/44-1/273/</td>\n",
       "      <td>3rd reading and adoption of Bill C-241, An Act...</td>\n",
       "    </tr>\n",
       "    <tr>\n",
       "      <th>61</th>\n",
       "      <td>/votes/44-1/271/</td>\n",
       "      <td>2nd reading of Bill S-224, An Act to amend the...</td>\n",
       "    </tr>\n",
       "    <tr>\n",
       "      <th>62</th>\n",
       "      <td>/votes/44-1/270/</td>\n",
       "      <td>2nd reading of Bill C-289, An Act to amend the...</td>\n",
       "    </tr>\n",
       "    <tr>\n",
       "      <th>63</th>\n",
       "      <td>/votes/44-1/269/</td>\n",
       "      <td>2nd reading of Bill S-209, An Act respecting P...</td>\n",
       "    </tr>\n",
       "  </tbody>\n",
       "</table>\n",
       "</div>"
      ],
      "text/plain": [
       "                 url                                       english_desc\n",
       "0   /votes/44-1/366/  3rd reading and adoption of Bill C-47, An Act ...\n",
       "1   /votes/44-1/365/  Concurrence at report stage of Bill C-47, An A...\n",
       "2   /votes/44-1/364/  Bill C-47, An Act to implement certain provisi...\n",
       "3   /votes/44-1/363/  Bill C-47, An Act to implement certain provisi...\n",
       "4   /votes/44-1/362/  Bill C-47, An Act to implement certain provisi...\n",
       "5   /votes/44-1/361/  Bill C-47, An Act to implement certain provisi...\n",
       "6   /votes/44-1/360/  Bill C-47, An Act to implement certain provisi...\n",
       "7   /votes/44-1/359/  Bill C-47, An Act to implement certain provisi...\n",
       "8   /votes/44-1/358/  Bill C-47, An Act to implement certain provisi...\n",
       "9   /votes/44-1/357/  Bill C-47, An Act to implement certain provisi...\n",
       "10  /votes/44-1/356/  Bill C-47, An Act to implement certain provisi...\n",
       "11  /votes/44-1/355/  3rd reading and adoption of Bill C-281, An Act...\n",
       "12  /votes/44-1/354/  2nd reading of Bill S-202, An Act to amend the...\n",
       "13  /votes/44-1/353/  2nd reading of Bill C-284, An Act to establish...\n",
       "14  /votes/44-1/351/  Time allocation for Bill C-35, An Act respecti...\n",
       "15  /votes/44-1/350/  Time allocation for Bill C-47, An Act to imple...\n",
       "16  /votes/44-1/343/  2nd reading of Bill C-42, An Act to amend the ...\n",
       "17  /votes/44-1/342/  Concurrence at report stage of Bill C-244, An ...\n",
       "18  /votes/44-1/341/  Concurrence at report stage of Bill C-281, An ...\n",
       "19  /votes/44-1/340/  Bill C-281, An Act to amend the Department of ...\n",
       "20  /votes/44-1/338/  3rd reading and adoption of Bill S-5, An Act t...\n",
       "21  /votes/44-1/337/  Bill S-5, An Act to amend the Canadian Environ...\n",
       "22  /votes/44-1/333/  3rd reading and adoption of Bill C-21, An Act ...\n",
       "23  /votes/44-1/332/  Bill C-21, An Act to amend certain Acts and to...\n",
       "24  /votes/44-1/331/  2nd reading of Bill C-280, An Act to amend the...\n",
       "25  /votes/44-1/330/  Concurrence at report stage of Bill C-21, An A...\n",
       "26  /votes/44-1/329/  Bill C-21, An Act to amend certain Acts and to...\n",
       "27  /votes/44-1/328/  Bill C-21, An Act to amend certain Acts and to...\n",
       "28  /votes/44-1/327/  Bill C-21, An Act to amend certain Acts and to...\n",
       "29  /votes/44-1/326/  Concurrence at report stage of Bill S-5, An Ac...\n",
       "30  /votes/44-1/325/  Bill S-5, An Act to amend the Canadian Environ...\n",
       "31  /votes/44-1/324/  Bill S-5, An Act to amend the Canadian Environ...\n",
       "32  /votes/44-1/323/  3rd reading and adoption of Bill C-13, An Act ...\n",
       "33  /votes/44-1/321/  Time allocation for Bill S-5, An Act to amend ...\n",
       "34  /votes/44-1/320/  Concurrence at report stage of Bill C-13, An A...\n",
       "35  /votes/44-1/319/  Bill C-13, An Act to amend the Official Langua...\n",
       "36  /votes/44-1/318/  Bill C-13, An Act to amend the Official Langua...\n",
       "37  /votes/44-1/317/  Bill C-13, An Act to amend the Official Langua...\n",
       "38  /votes/44-1/310/  3rd reading and adoption of Bill S-211, An Act...\n",
       "39  /votes/44-1/308/  2nd reading of Bill C-47, An Act to implement ...\n",
       "40  /votes/44-1/307/  2nd reading of Bill C-47, An Act to implement ...\n",
       "41  /votes/44-1/306/  Time allocation for Bill C-47, An Act to imple...\n",
       "42  /votes/44-1/305/  3rd reading and adoption of Bill C-248, An Act...\n",
       "43  /votes/44-1/304/  3rd reading and adoption of Bill C-288, An Act...\n",
       "44  /votes/44-1/301/  2nd reading of Bill C-27, An Act to enact the ...\n",
       "45  /votes/44-1/300/  2nd reading of Bill C-27, An Act to enact the ...\n",
       "46  /votes/44-1/297/  2nd reading of Bill C-239, An Act to amend An ...\n",
       "47  /votes/44-1/293/  2nd reading of Bill C-34, An Act to amend the ...\n",
       "48  /votes/44-1/292/  Motion respecting Senate amendments to Bill C-...\n",
       "49  /votes/44-1/291/  Motion respecting Senate amendments to Bill C-...\n",
       "50  /votes/44-1/289/  3rd reading and adoption of Bill C-234, An Act...\n",
       "51  /votes/44-1/288/  3rd reading and adoption of Bill C-226, An Act...\n",
       "52  /votes/44-1/287/  2nd reading of Bill C-26, An Act respecting cy...\n",
       "53  /votes/44-1/283/  3rd reading and adoption of Bill C-44, An Act ...\n",
       "54  /votes/44-1/282/  Concurrence at report stage of Bill C-44, An A...\n",
       "55  /votes/44-1/281/  2nd reading of Bill C-44, An Act for granting ...\n",
       "56  /votes/44-1/279/  3rd reading and adoption of Bill C-43, An Act ...\n",
       "57  /votes/44-1/278/  Concurrence at report stage of Bill C-43, An A...\n",
       "58  /votes/44-1/277/  2nd reading of Bill C-43, An Act for granting ...\n",
       "59  /votes/44-1/274/  2nd reading of Bill C-283, An Act to amend the...\n",
       "60  /votes/44-1/273/  3rd reading and adoption of Bill C-241, An Act...\n",
       "61  /votes/44-1/271/  2nd reading of Bill S-224, An Act to amend the...\n",
       "62  /votes/44-1/270/  2nd reading of Bill C-289, An Act to amend the...\n",
       "63  /votes/44-1/269/  2nd reading of Bill S-209, An Act respecting P..."
      ]
     },
     "metadata": {},
     "output_type": "display_data"
    }
   ],
   "source": [
    "pd.set_option('display.max_rows', None)\n",
    "display(temp_fig[['url', 'english_desc']].head(None))"
   ]
  },
  {
   "attachments": {},
   "cell_type": "markdown",
   "id": "89ea7489",
   "metadata": {},
   "source": [
    "Listed above are a list of `urls` of bills and their corresponding descriptions. You can use this list of `urls` to find a particular bill to explore in the cell below."
   ]
  },
  {
   "cell_type": "code",
   "execution_count": 23,
   "id": "855c4338",
   "metadata": {},
   "outputs": [
    {
     "data": {
      "text/html": [
       "<div>\n",
       "<style scoped>\n",
       "    .dataframe tbody tr th:only-of-type {\n",
       "        vertical-align: middle;\n",
       "    }\n",
       "\n",
       "    .dataframe tbody tr th {\n",
       "        vertical-align: top;\n",
       "    }\n",
       "\n",
       "    .dataframe thead th {\n",
       "        text-align: right;\n",
       "    }\n",
       "</style>\n",
       "<table border=\"1\" class=\"dataframe\">\n",
       "  <thead>\n",
       "    <tr style=\"text-align: right;\">\n",
       "      <th></th>\n",
       "      <th>politician_membership_url</th>\n",
       "      <th>ballot</th>\n",
       "      <th>politician_url</th>\n",
       "      <th>vote_url</th>\n",
       "      <th>party</th>\n",
       "      <th>province_info</th>\n",
       "      <th>name</th>\n",
       "    </tr>\n",
       "  </thead>\n",
       "  <tbody>\n",
       "    <tr>\n",
       "      <th>0</th>\n",
       "      <td>/politicians/memberships/4603/</td>\n",
       "      <td>No</td>\n",
       "      <td>/politicians/brendan-hanley/</td>\n",
       "      <td>/votes/44-1/333/</td>\n",
       "      <td>Liberal Party of Canada</td>\n",
       "      <td>YT</td>\n",
       "      <td>brendan-hanley</td>\n",
       "    </tr>\n",
       "    <tr>\n",
       "      <th>1</th>\n",
       "      <td>/politicians/memberships/4367/</td>\n",
       "      <td>No</td>\n",
       "      <td>/politicians/michael-mcleod/</td>\n",
       "      <td>/votes/44-1/333/</td>\n",
       "      <td>Liberal Party of Canada</td>\n",
       "      <td>NT</td>\n",
       "      <td>michael-mcleod</td>\n",
       "    </tr>\n",
       "    <tr>\n",
       "      <th>2</th>\n",
       "      <td>/politicians/memberships/4652/</td>\n",
       "      <td>Didn't vote</td>\n",
       "      <td>/politicians/alain-rayes/</td>\n",
       "      <td>/votes/44-1/333/</td>\n",
       "      <td>Independent</td>\n",
       "      <td>QC</td>\n",
       "      <td>alain-rayes</td>\n",
       "    </tr>\n",
       "    <tr>\n",
       "      <th>3</th>\n",
       "      <td>/politicians/memberships/1211/</td>\n",
       "      <td>Didn't vote</td>\n",
       "      <td>/politicians/justin-trudeau/</td>\n",
       "      <td>/votes/44-1/333/</td>\n",
       "      <td>Liberal Party of Canada</td>\n",
       "      <td>QC</td>\n",
       "      <td>justin-trudeau</td>\n",
       "    </tr>\n",
       "    <tr>\n",
       "      <th>4</th>\n",
       "      <td>/politicians/memberships/4404/</td>\n",
       "      <td>Didn't vote</td>\n",
       "      <td>/politicians/anthony-rota/</td>\n",
       "      <td>/votes/44-1/333/</td>\n",
       "      <td>Liberal Party of Canada</td>\n",
       "      <td>ON</td>\n",
       "      <td>anthony-rota</td>\n",
       "    </tr>\n",
       "    <tr>\n",
       "      <th>5</th>\n",
       "      <td>/politicians/memberships/4156/</td>\n",
       "      <td>Didn't vote</td>\n",
       "      <td>/politicians/yvonne-jones/</td>\n",
       "      <td>/votes/44-1/333/</td>\n",
       "      <td>Liberal Party of Canada</td>\n",
       "      <td>NL</td>\n",
       "      <td>yvonne-jones</td>\n",
       "    </tr>\n",
       "    <tr>\n",
       "      <th>6</th>\n",
       "      <td>/politicians/memberships/4385/</td>\n",
       "      <td>Didn't vote</td>\n",
       "      <td>/politicians/michelle-rempel/</td>\n",
       "      <td>/votes/44-1/333/</td>\n",
       "      <td>Conservative Party of Canada</td>\n",
       "      <td>AB</td>\n",
       "      <td>michelle-rempel</td>\n",
       "    </tr>\n",
       "    <tr>\n",
       "      <th>7</th>\n",
       "      <td>/politicians/memberships/1067/</td>\n",
       "      <td>Didn't vote</td>\n",
       "      <td>/politicians/randy-hoback/</td>\n",
       "      <td>/votes/44-1/333/</td>\n",
       "      <td>Conservative Party of Canada</td>\n",
       "      <td>SK</td>\n",
       "      <td>randy-hoback</td>\n",
       "    </tr>\n",
       "    <tr>\n",
       "      <th>8</th>\n",
       "      <td>/politicians/memberships/4185/</td>\n",
       "      <td>Didn't vote</td>\n",
       "      <td>/politicians/francois-philippe-champagne/</td>\n",
       "      <td>/votes/44-1/333/</td>\n",
       "      <td>Liberal Party of Canada</td>\n",
       "      <td>QC</td>\n",
       "      <td>francois-philippe-champagne</td>\n",
       "    </tr>\n",
       "    <tr>\n",
       "      <th>9</th>\n",
       "      <td>/politicians/memberships/1028/</td>\n",
       "      <td>Didn't vote</td>\n",
       "      <td>/politicians/kirsty-duncan/</td>\n",
       "      <td>/votes/44-1/333/</td>\n",
       "      <td>Liberal Party of Canada</td>\n",
       "      <td>ON</td>\n",
       "      <td>kirsty-duncan</td>\n",
       "    </tr>\n",
       "    <tr>\n",
       "      <th>10</th>\n",
       "      <td>/politicians/memberships/1416/</td>\n",
       "      <td>Didn't vote</td>\n",
       "      <td>/politicians/cheryl-gallant/</td>\n",
       "      <td>/votes/44-1/333/</td>\n",
       "      <td>Conservative Party of Canada</td>\n",
       "      <td>ON</td>\n",
       "      <td>cheryl-gallant</td>\n",
       "    </tr>\n",
       "    <tr>\n",
       "      <th>11</th>\n",
       "      <td>/politicians/memberships/4589/</td>\n",
       "      <td>Yes</td>\n",
       "      <td>/politicians/sameer-zuberi/</td>\n",
       "      <td>/votes/44-1/333/</td>\n",
       "      <td>Liberal Party of Canada</td>\n",
       "      <td>QC</td>\n",
       "      <td>sameer-zuberi</td>\n",
       "    </tr>\n",
       "    <tr>\n",
       "      <th>12</th>\n",
       "      <td>/politicians/memberships/4276/</td>\n",
       "      <td>No</td>\n",
       "      <td>/politicians/bob-zimmer/</td>\n",
       "      <td>/votes/44-1/333/</td>\n",
       "      <td>Conservative Party of Canada</td>\n",
       "      <td>BC</td>\n",
       "      <td>bob-zimmer</td>\n",
       "    </tr>\n",
       "    <tr>\n",
       "      <th>13</th>\n",
       "      <td>/politicians/memberships/4651/</td>\n",
       "      <td>Yes</td>\n",
       "      <td>/politicians/bonita-zarrillo/</td>\n",
       "      <td>/votes/44-1/333/</td>\n",
       "      <td>New Democratic Party</td>\n",
       "      <td>BC</td>\n",
       "      <td>bonita-zarrillo</td>\n",
       "    </tr>\n",
       "    <tr>\n",
       "      <th>14</th>\n",
       "      <td>/politicians/memberships/4345/</td>\n",
       "      <td>Yes</td>\n",
       "      <td>/politicians/salma-zahid/</td>\n",
       "      <td>/votes/44-1/333/</td>\n",
       "      <td>Liberal Party of Canada</td>\n",
       "      <td>ON</td>\n",
       "      <td>salma-zahid</td>\n",
       "    </tr>\n",
       "    <tr>\n",
       "      <th>15</th>\n",
       "      <td>/politicians/memberships/4463/</td>\n",
       "      <td>Yes</td>\n",
       "      <td>/politicians/jean-yip/</td>\n",
       "      <td>/votes/44-1/333/</td>\n",
       "      <td>Liberal Party of Canada</td>\n",
       "      <td>ON</td>\n",
       "      <td>jean-yip</td>\n",
       "    </tr>\n",
       "    <tr>\n",
       "      <th>16</th>\n",
       "      <td>/politicians/memberships/4533/</td>\n",
       "      <td>No</td>\n",
       "      <td>/politicians/john-williamson/</td>\n",
       "      <td>/votes/44-1/333/</td>\n",
       "      <td>Conservative Party of Canada</td>\n",
       "      <td>NB</td>\n",
       "      <td>john-williamson</td>\n",
       "    </tr>\n",
       "    <tr>\n",
       "      <th>17</th>\n",
       "      <td>/politicians/memberships/4614/</td>\n",
       "      <td>No</td>\n",
       "      <td>/politicians/ryan-williams/</td>\n",
       "      <td>/votes/44-1/333/</td>\n",
       "      <td>Conservative Party of Canada</td>\n",
       "      <td>ON</td>\n",
       "      <td>ryan-williams</td>\n",
       "    </tr>\n",
       "    <tr>\n",
       "      <th>18</th>\n",
       "      <td>/politicians/memberships/4239/</td>\n",
       "      <td>Yes</td>\n",
       "      <td>/politicians/jonathan-wilkinson/</td>\n",
       "      <td>/votes/44-1/333/</td>\n",
       "      <td>Liberal Party of Canada</td>\n",
       "      <td>BC</td>\n",
       "      <td>jonathan-wilkinson</td>\n",
       "    </tr>\n",
       "    <tr>\n",
       "      <th>19</th>\n",
       "      <td>/politicians/memberships/4565/</td>\n",
       "      <td>Yes</td>\n",
       "      <td>/politicians/patrick-weiler/</td>\n",
       "      <td>/votes/44-1/333/</td>\n",
       "      <td>Liberal Party of Canada</td>\n",
       "      <td>BC</td>\n",
       "      <td>patrick-weiler</td>\n",
       "    </tr>\n",
       "  </tbody>\n",
       "</table>\n",
       "</div>"
      ],
      "text/plain": [
       "         politician_membership_url       ballot  \\\n",
       "0   /politicians/memberships/4603/           No   \n",
       "1   /politicians/memberships/4367/           No   \n",
       "2   /politicians/memberships/4652/  Didn't vote   \n",
       "3   /politicians/memberships/1211/  Didn't vote   \n",
       "4   /politicians/memberships/4404/  Didn't vote   \n",
       "5   /politicians/memberships/4156/  Didn't vote   \n",
       "6   /politicians/memberships/4385/  Didn't vote   \n",
       "7   /politicians/memberships/1067/  Didn't vote   \n",
       "8   /politicians/memberships/4185/  Didn't vote   \n",
       "9   /politicians/memberships/1028/  Didn't vote   \n",
       "10  /politicians/memberships/1416/  Didn't vote   \n",
       "11  /politicians/memberships/4589/          Yes   \n",
       "12  /politicians/memberships/4276/           No   \n",
       "13  /politicians/memberships/4651/          Yes   \n",
       "14  /politicians/memberships/4345/          Yes   \n",
       "15  /politicians/memberships/4463/          Yes   \n",
       "16  /politicians/memberships/4533/           No   \n",
       "17  /politicians/memberships/4614/           No   \n",
       "18  /politicians/memberships/4239/          Yes   \n",
       "19  /politicians/memberships/4565/          Yes   \n",
       "\n",
       "                               politician_url          vote_url  \\\n",
       "0                /politicians/brendan-hanley/  /votes/44-1/333/   \n",
       "1                /politicians/michael-mcleod/  /votes/44-1/333/   \n",
       "2                   /politicians/alain-rayes/  /votes/44-1/333/   \n",
       "3                /politicians/justin-trudeau/  /votes/44-1/333/   \n",
       "4                  /politicians/anthony-rota/  /votes/44-1/333/   \n",
       "5                  /politicians/yvonne-jones/  /votes/44-1/333/   \n",
       "6               /politicians/michelle-rempel/  /votes/44-1/333/   \n",
       "7                  /politicians/randy-hoback/  /votes/44-1/333/   \n",
       "8   /politicians/francois-philippe-champagne/  /votes/44-1/333/   \n",
       "9                 /politicians/kirsty-duncan/  /votes/44-1/333/   \n",
       "10               /politicians/cheryl-gallant/  /votes/44-1/333/   \n",
       "11                /politicians/sameer-zuberi/  /votes/44-1/333/   \n",
       "12                   /politicians/bob-zimmer/  /votes/44-1/333/   \n",
       "13              /politicians/bonita-zarrillo/  /votes/44-1/333/   \n",
       "14                  /politicians/salma-zahid/  /votes/44-1/333/   \n",
       "15                     /politicians/jean-yip/  /votes/44-1/333/   \n",
       "16              /politicians/john-williamson/  /votes/44-1/333/   \n",
       "17                /politicians/ryan-williams/  /votes/44-1/333/   \n",
       "18           /politicians/jonathan-wilkinson/  /votes/44-1/333/   \n",
       "19               /politicians/patrick-weiler/  /votes/44-1/333/   \n",
       "\n",
       "                           party province_info                         name  \n",
       "0        Liberal Party of Canada            YT               brendan-hanley  \n",
       "1        Liberal Party of Canada            NT               michael-mcleod  \n",
       "2                    Independent            QC                  alain-rayes  \n",
       "3        Liberal Party of Canada            QC               justin-trudeau  \n",
       "4        Liberal Party of Canada            ON                 anthony-rota  \n",
       "5        Liberal Party of Canada            NL                 yvonne-jones  \n",
       "6   Conservative Party of Canada            AB              michelle-rempel  \n",
       "7   Conservative Party of Canada            SK                 randy-hoback  \n",
       "8        Liberal Party of Canada            QC  francois-philippe-champagne  \n",
       "9        Liberal Party of Canada            ON                kirsty-duncan  \n",
       "10  Conservative Party of Canada            ON               cheryl-gallant  \n",
       "11       Liberal Party of Canada            QC                sameer-zuberi  \n",
       "12  Conservative Party of Canada            BC                   bob-zimmer  \n",
       "13          New Democratic Party            BC              bonita-zarrillo  \n",
       "14       Liberal Party of Canada            ON                  salma-zahid  \n",
       "15       Liberal Party of Canada            ON                     jean-yip  \n",
       "16  Conservative Party of Canada            NB              john-williamson  \n",
       "17  Conservative Party of Canada            ON                ryan-williams  \n",
       "18       Liberal Party of Canada            BC           jonathan-wilkinson  \n",
       "19       Liberal Party of Canada            BC               patrick-weiler  "
      ]
     },
     "metadata": {},
     "output_type": "display_data"
    }
   ],
   "source": [
    "# Change bill_to_explore to take a look at the different bills members of Parliament voted on.\n",
    "# In order to look at different bills, change \"/votes/44-1/333/\". For example, you can input \"/votes/44-1/279/\" in place of \"/votes/44-1/333/\"\n",
    "bill_to_explore = '/votes/44-1/333/'\n",
    "\n",
    "r = requests.get(f\"http://api.openparliament.ca/votes/ballots/?format=json&vote={bill_to_explore}\")\n",
    "data = r.json()\n",
    "politician_vote_info = pd.DataFrame(data['objects'])\n",
    "\n",
    "politician_urls = politician_vote_info['politician_url']\n",
    "membership_urls = [f\"http://api.openparliament.ca{url}?format=json\" for url in politician_urls]\n",
    "\n",
    "responses = [requests.get(url) for url in membership_urls]\n",
    "data = [response.json() for response in responses]\n",
    "\n",
    "parties = [d['memberships'][0]['party']['name']['en'] for d in data]\n",
    "provinces = [d['memberships'][0]['riding']['province'] for d in data]\n",
    "\n",
    "politician_vote_info['party'] = np.array(parties)\n",
    "politician_vote_info['province_info'] = np.array(provinces)\n",
    "\n",
    "politician_vote_info['name'] = politician_vote_info['politician_url'].str.extract(\"/politicians/(.*)/\", expand=False)\n",
    "display(politician_vote_info)\n"
   ]
  },
  {
   "attachments": {},
   "cell_type": "markdown",
   "id": "75dfa696",
   "metadata": {},
   "source": [
    "Looking at the description of the `url` for */votes/44-1/333/*, it states:\n",
    "> 3rd reading and adoption of Bill C-21, An Act to amend certain Acts and to make certain consequential amendments (firearms)\n",
    "> \n",
    "Now we can look more in depth on why potential members of Parliament chose to vote the way they did on this particular bill."
   ]
  },
  {
   "attachments": {},
   "cell_type": "markdown",
   "id": "11afc039",
   "metadata": {},
   "source": [
    "We can also look at how parties voted on certain bills by combining members of Parliament whom share the same party."
   ]
  },
  {
   "cell_type": "code",
   "execution_count": 24,
   "id": "7ed2bdb9",
   "metadata": {},
   "outputs": [
    {
     "data": {
      "text/html": [
       "<div>\n",
       "<style scoped>\n",
       "    .dataframe tbody tr th:only-of-type {\n",
       "        vertical-align: middle;\n",
       "    }\n",
       "\n",
       "    .dataframe tbody tr th {\n",
       "        vertical-align: top;\n",
       "    }\n",
       "\n",
       "    .dataframe thead th {\n",
       "        text-align: right;\n",
       "    }\n",
       "</style>\n",
       "<table border=\"1\" class=\"dataframe\">\n",
       "  <thead>\n",
       "    <tr style=\"text-align: right;\">\n",
       "      <th></th>\n",
       "      <th>party</th>\n",
       "      <th>ballot</th>\n",
       "      <th>count</th>\n",
       "    </tr>\n",
       "  </thead>\n",
       "  <tbody>\n",
       "    <tr>\n",
       "      <th>0</th>\n",
       "      <td>Conservative Party of Canada</td>\n",
       "      <td>Didn't vote</td>\n",
       "      <td>3</td>\n",
       "    </tr>\n",
       "    <tr>\n",
       "      <th>1</th>\n",
       "      <td>Conservative Party of Canada</td>\n",
       "      <td>No</td>\n",
       "      <td>3</td>\n",
       "    </tr>\n",
       "    <tr>\n",
       "      <th>2</th>\n",
       "      <td>Independent</td>\n",
       "      <td>Didn't vote</td>\n",
       "      <td>1</td>\n",
       "    </tr>\n",
       "    <tr>\n",
       "      <th>3</th>\n",
       "      <td>Liberal Party of Canada</td>\n",
       "      <td>Didn't vote</td>\n",
       "      <td>5</td>\n",
       "    </tr>\n",
       "    <tr>\n",
       "      <th>4</th>\n",
       "      <td>Liberal Party of Canada</td>\n",
       "      <td>No</td>\n",
       "      <td>2</td>\n",
       "    </tr>\n",
       "    <tr>\n",
       "      <th>5</th>\n",
       "      <td>Liberal Party of Canada</td>\n",
       "      <td>Yes</td>\n",
       "      <td>5</td>\n",
       "    </tr>\n",
       "    <tr>\n",
       "      <th>6</th>\n",
       "      <td>New Democratic Party</td>\n",
       "      <td>Yes</td>\n",
       "      <td>1</td>\n",
       "    </tr>\n",
       "  </tbody>\n",
       "</table>\n",
       "</div>"
      ],
      "text/plain": [
       "                          party       ballot  count\n",
       "0  Conservative Party of Canada  Didn't vote      3\n",
       "1  Conservative Party of Canada           No      3\n",
       "2                   Independent  Didn't vote      1\n",
       "3       Liberal Party of Canada  Didn't vote      5\n",
       "4       Liberal Party of Canada           No      2\n",
       "5       Liberal Party of Canada          Yes      5\n",
       "6          New Democratic Party          Yes      1"
      ]
     },
     "metadata": {},
     "output_type": "display_data"
    }
   ],
   "source": [
    "party_counts = politician_vote_info.groupby(['party', 'ballot'])['name'].agg('count').reset_index()\n",
    "party_counts.rename(columns={\"name\": \"count\"}, inplace=True)\n",
    "display(party_counts)"
   ]
  },
  {
   "cell_type": "code",
   "execution_count": 25,
   "id": "b146d39b",
   "metadata": {},
   "outputs": [
    {
     "data": {
      "application/vnd.plotly.v1+json": {
       "config": {
        "plotlyServerURL": "https://plot.ly"
       },
       "data": [
        {
         "alignmentgroup": "True",
         "hovertemplate": "ballot=Didn't vote<br>party=%{x}<br>count=%{y}<extra></extra>",
         "legendgroup": "Didn't vote",
         "marker": {
          "color": "#636efa",
          "pattern": {
           "shape": ""
          }
         },
         "name": "Didn't vote",
         "offsetgroup": "Didn't vote",
         "orientation": "v",
         "showlegend": true,
         "textposition": "auto",
         "type": "bar",
         "x": [
          "Conservative Party of Canada",
          "Independent",
          "Liberal Party of Canada"
         ],
         "xaxis": "x",
         "y": [
          3,
          1,
          5
         ],
         "yaxis": "y"
        },
        {
         "alignmentgroup": "True",
         "hovertemplate": "ballot=No<br>party=%{x}<br>count=%{y}<extra></extra>",
         "legendgroup": "No",
         "marker": {
          "color": "#EF553B",
          "pattern": {
           "shape": ""
          }
         },
         "name": "No",
         "offsetgroup": "No",
         "orientation": "v",
         "showlegend": true,
         "textposition": "auto",
         "type": "bar",
         "x": [
          "Conservative Party of Canada",
          "Liberal Party of Canada"
         ],
         "xaxis": "x",
         "y": [
          3,
          2
         ],
         "yaxis": "y"
        },
        {
         "alignmentgroup": "True",
         "hovertemplate": "ballot=Yes<br>party=%{x}<br>count=%{y}<extra></extra>",
         "legendgroup": "Yes",
         "marker": {
          "color": "#00cc96",
          "pattern": {
           "shape": ""
          }
         },
         "name": "Yes",
         "offsetgroup": "Yes",
         "orientation": "v",
         "showlegend": true,
         "textposition": "auto",
         "type": "bar",
         "x": [
          "Liberal Party of Canada",
          "New Democratic Party"
         ],
         "xaxis": "x",
         "y": [
          5,
          1
         ],
         "yaxis": "y"
        }
       ],
       "layout": {
        "barmode": "relative",
        "legend": {
         "title": {
          "text": "ballot"
         },
         "tracegroupgap": 0
        },
        "template": {
         "data": {
          "bar": [
           {
            "error_x": {
             "color": "#2a3f5f"
            },
            "error_y": {
             "color": "#2a3f5f"
            },
            "marker": {
             "line": {
              "color": "#E5ECF6",
              "width": 0.5
             },
             "pattern": {
              "fillmode": "overlay",
              "size": 10,
              "solidity": 0.2
             }
            },
            "type": "bar"
           }
          ],
          "barpolar": [
           {
            "marker": {
             "line": {
              "color": "#E5ECF6",
              "width": 0.5
             },
             "pattern": {
              "fillmode": "overlay",
              "size": 10,
              "solidity": 0.2
             }
            },
            "type": "barpolar"
           }
          ],
          "carpet": [
           {
            "aaxis": {
             "endlinecolor": "#2a3f5f",
             "gridcolor": "white",
             "linecolor": "white",
             "minorgridcolor": "white",
             "startlinecolor": "#2a3f5f"
            },
            "baxis": {
             "endlinecolor": "#2a3f5f",
             "gridcolor": "white",
             "linecolor": "white",
             "minorgridcolor": "white",
             "startlinecolor": "#2a3f5f"
            },
            "type": "carpet"
           }
          ],
          "choropleth": [
           {
            "colorbar": {
             "outlinewidth": 0,
             "ticks": ""
            },
            "type": "choropleth"
           }
          ],
          "contour": [
           {
            "colorbar": {
             "outlinewidth": 0,
             "ticks": ""
            },
            "colorscale": [
             [
              0,
              "#0d0887"
             ],
             [
              0.1111111111111111,
              "#46039f"
             ],
             [
              0.2222222222222222,
              "#7201a8"
             ],
             [
              0.3333333333333333,
              "#9c179e"
             ],
             [
              0.4444444444444444,
              "#bd3786"
             ],
             [
              0.5555555555555556,
              "#d8576b"
             ],
             [
              0.6666666666666666,
              "#ed7953"
             ],
             [
              0.7777777777777778,
              "#fb9f3a"
             ],
             [
              0.8888888888888888,
              "#fdca26"
             ],
             [
              1,
              "#f0f921"
             ]
            ],
            "type": "contour"
           }
          ],
          "contourcarpet": [
           {
            "colorbar": {
             "outlinewidth": 0,
             "ticks": ""
            },
            "type": "contourcarpet"
           }
          ],
          "heatmap": [
           {
            "colorbar": {
             "outlinewidth": 0,
             "ticks": ""
            },
            "colorscale": [
             [
              0,
              "#0d0887"
             ],
             [
              0.1111111111111111,
              "#46039f"
             ],
             [
              0.2222222222222222,
              "#7201a8"
             ],
             [
              0.3333333333333333,
              "#9c179e"
             ],
             [
              0.4444444444444444,
              "#bd3786"
             ],
             [
              0.5555555555555556,
              "#d8576b"
             ],
             [
              0.6666666666666666,
              "#ed7953"
             ],
             [
              0.7777777777777778,
              "#fb9f3a"
             ],
             [
              0.8888888888888888,
              "#fdca26"
             ],
             [
              1,
              "#f0f921"
             ]
            ],
            "type": "heatmap"
           }
          ],
          "heatmapgl": [
           {
            "colorbar": {
             "outlinewidth": 0,
             "ticks": ""
            },
            "colorscale": [
             [
              0,
              "#0d0887"
             ],
             [
              0.1111111111111111,
              "#46039f"
             ],
             [
              0.2222222222222222,
              "#7201a8"
             ],
             [
              0.3333333333333333,
              "#9c179e"
             ],
             [
              0.4444444444444444,
              "#bd3786"
             ],
             [
              0.5555555555555556,
              "#d8576b"
             ],
             [
              0.6666666666666666,
              "#ed7953"
             ],
             [
              0.7777777777777778,
              "#fb9f3a"
             ],
             [
              0.8888888888888888,
              "#fdca26"
             ],
             [
              1,
              "#f0f921"
             ]
            ],
            "type": "heatmapgl"
           }
          ],
          "histogram": [
           {
            "marker": {
             "pattern": {
              "fillmode": "overlay",
              "size": 10,
              "solidity": 0.2
             }
            },
            "type": "histogram"
           }
          ],
          "histogram2d": [
           {
            "colorbar": {
             "outlinewidth": 0,
             "ticks": ""
            },
            "colorscale": [
             [
              0,
              "#0d0887"
             ],
             [
              0.1111111111111111,
              "#46039f"
             ],
             [
              0.2222222222222222,
              "#7201a8"
             ],
             [
              0.3333333333333333,
              "#9c179e"
             ],
             [
              0.4444444444444444,
              "#bd3786"
             ],
             [
              0.5555555555555556,
              "#d8576b"
             ],
             [
              0.6666666666666666,
              "#ed7953"
             ],
             [
              0.7777777777777778,
              "#fb9f3a"
             ],
             [
              0.8888888888888888,
              "#fdca26"
             ],
             [
              1,
              "#f0f921"
             ]
            ],
            "type": "histogram2d"
           }
          ],
          "histogram2dcontour": [
           {
            "colorbar": {
             "outlinewidth": 0,
             "ticks": ""
            },
            "colorscale": [
             [
              0,
              "#0d0887"
             ],
             [
              0.1111111111111111,
              "#46039f"
             ],
             [
              0.2222222222222222,
              "#7201a8"
             ],
             [
              0.3333333333333333,
              "#9c179e"
             ],
             [
              0.4444444444444444,
              "#bd3786"
             ],
             [
              0.5555555555555556,
              "#d8576b"
             ],
             [
              0.6666666666666666,
              "#ed7953"
             ],
             [
              0.7777777777777778,
              "#fb9f3a"
             ],
             [
              0.8888888888888888,
              "#fdca26"
             ],
             [
              1,
              "#f0f921"
             ]
            ],
            "type": "histogram2dcontour"
           }
          ],
          "mesh3d": [
           {
            "colorbar": {
             "outlinewidth": 0,
             "ticks": ""
            },
            "type": "mesh3d"
           }
          ],
          "parcoords": [
           {
            "line": {
             "colorbar": {
              "outlinewidth": 0,
              "ticks": ""
             }
            },
            "type": "parcoords"
           }
          ],
          "pie": [
           {
            "automargin": true,
            "type": "pie"
           }
          ],
          "scatter": [
           {
            "fillpattern": {
             "fillmode": "overlay",
             "size": 10,
             "solidity": 0.2
            },
            "type": "scatter"
           }
          ],
          "scatter3d": [
           {
            "line": {
             "colorbar": {
              "outlinewidth": 0,
              "ticks": ""
             }
            },
            "marker": {
             "colorbar": {
              "outlinewidth": 0,
              "ticks": ""
             }
            },
            "type": "scatter3d"
           }
          ],
          "scattercarpet": [
           {
            "marker": {
             "colorbar": {
              "outlinewidth": 0,
              "ticks": ""
             }
            },
            "type": "scattercarpet"
           }
          ],
          "scattergeo": [
           {
            "marker": {
             "colorbar": {
              "outlinewidth": 0,
              "ticks": ""
             }
            },
            "type": "scattergeo"
           }
          ],
          "scattergl": [
           {
            "marker": {
             "colorbar": {
              "outlinewidth": 0,
              "ticks": ""
             }
            },
            "type": "scattergl"
           }
          ],
          "scattermapbox": [
           {
            "marker": {
             "colorbar": {
              "outlinewidth": 0,
              "ticks": ""
             }
            },
            "type": "scattermapbox"
           }
          ],
          "scatterpolar": [
           {
            "marker": {
             "colorbar": {
              "outlinewidth": 0,
              "ticks": ""
             }
            },
            "type": "scatterpolar"
           }
          ],
          "scatterpolargl": [
           {
            "marker": {
             "colorbar": {
              "outlinewidth": 0,
              "ticks": ""
             }
            },
            "type": "scatterpolargl"
           }
          ],
          "scatterternary": [
           {
            "marker": {
             "colorbar": {
              "outlinewidth": 0,
              "ticks": ""
             }
            },
            "type": "scatterternary"
           }
          ],
          "surface": [
           {
            "colorbar": {
             "outlinewidth": 0,
             "ticks": ""
            },
            "colorscale": [
             [
              0,
              "#0d0887"
             ],
             [
              0.1111111111111111,
              "#46039f"
             ],
             [
              0.2222222222222222,
              "#7201a8"
             ],
             [
              0.3333333333333333,
              "#9c179e"
             ],
             [
              0.4444444444444444,
              "#bd3786"
             ],
             [
              0.5555555555555556,
              "#d8576b"
             ],
             [
              0.6666666666666666,
              "#ed7953"
             ],
             [
              0.7777777777777778,
              "#fb9f3a"
             ],
             [
              0.8888888888888888,
              "#fdca26"
             ],
             [
              1,
              "#f0f921"
             ]
            ],
            "type": "surface"
           }
          ],
          "table": [
           {
            "cells": {
             "fill": {
              "color": "#EBF0F8"
             },
             "line": {
              "color": "white"
             }
            },
            "header": {
             "fill": {
              "color": "#C8D4E3"
             },
             "line": {
              "color": "white"
             }
            },
            "type": "table"
           }
          ]
         },
         "layout": {
          "annotationdefaults": {
           "arrowcolor": "#2a3f5f",
           "arrowhead": 0,
           "arrowwidth": 1
          },
          "autotypenumbers": "strict",
          "coloraxis": {
           "colorbar": {
            "outlinewidth": 0,
            "ticks": ""
           }
          },
          "colorscale": {
           "diverging": [
            [
             0,
             "#8e0152"
            ],
            [
             0.1,
             "#c51b7d"
            ],
            [
             0.2,
             "#de77ae"
            ],
            [
             0.3,
             "#f1b6da"
            ],
            [
             0.4,
             "#fde0ef"
            ],
            [
             0.5,
             "#f7f7f7"
            ],
            [
             0.6,
             "#e6f5d0"
            ],
            [
             0.7,
             "#b8e186"
            ],
            [
             0.8,
             "#7fbc41"
            ],
            [
             0.9,
             "#4d9221"
            ],
            [
             1,
             "#276419"
            ]
           ],
           "sequential": [
            [
             0,
             "#0d0887"
            ],
            [
             0.1111111111111111,
             "#46039f"
            ],
            [
             0.2222222222222222,
             "#7201a8"
            ],
            [
             0.3333333333333333,
             "#9c179e"
            ],
            [
             0.4444444444444444,
             "#bd3786"
            ],
            [
             0.5555555555555556,
             "#d8576b"
            ],
            [
             0.6666666666666666,
             "#ed7953"
            ],
            [
             0.7777777777777778,
             "#fb9f3a"
            ],
            [
             0.8888888888888888,
             "#fdca26"
            ],
            [
             1,
             "#f0f921"
            ]
           ],
           "sequentialminus": [
            [
             0,
             "#0d0887"
            ],
            [
             0.1111111111111111,
             "#46039f"
            ],
            [
             0.2222222222222222,
             "#7201a8"
            ],
            [
             0.3333333333333333,
             "#9c179e"
            ],
            [
             0.4444444444444444,
             "#bd3786"
            ],
            [
             0.5555555555555556,
             "#d8576b"
            ],
            [
             0.6666666666666666,
             "#ed7953"
            ],
            [
             0.7777777777777778,
             "#fb9f3a"
            ],
            [
             0.8888888888888888,
             "#fdca26"
            ],
            [
             1,
             "#f0f921"
            ]
           ]
          },
          "colorway": [
           "#636efa",
           "#EF553B",
           "#00cc96",
           "#ab63fa",
           "#FFA15A",
           "#19d3f3",
           "#FF6692",
           "#B6E880",
           "#FF97FF",
           "#FECB52"
          ],
          "font": {
           "color": "#2a3f5f"
          },
          "geo": {
           "bgcolor": "white",
           "lakecolor": "white",
           "landcolor": "#E5ECF6",
           "showlakes": true,
           "showland": true,
           "subunitcolor": "white"
          },
          "hoverlabel": {
           "align": "left"
          },
          "hovermode": "closest",
          "mapbox": {
           "style": "light"
          },
          "paper_bgcolor": "white",
          "plot_bgcolor": "#E5ECF6",
          "polar": {
           "angularaxis": {
            "gridcolor": "white",
            "linecolor": "white",
            "ticks": ""
           },
           "bgcolor": "#E5ECF6",
           "radialaxis": {
            "gridcolor": "white",
            "linecolor": "white",
            "ticks": ""
           }
          },
          "scene": {
           "xaxis": {
            "backgroundcolor": "#E5ECF6",
            "gridcolor": "white",
            "gridwidth": 2,
            "linecolor": "white",
            "showbackground": true,
            "ticks": "",
            "zerolinecolor": "white"
           },
           "yaxis": {
            "backgroundcolor": "#E5ECF6",
            "gridcolor": "white",
            "gridwidth": 2,
            "linecolor": "white",
            "showbackground": true,
            "ticks": "",
            "zerolinecolor": "white"
           },
           "zaxis": {
            "backgroundcolor": "#E5ECF6",
            "gridcolor": "white",
            "gridwidth": 2,
            "linecolor": "white",
            "showbackground": true,
            "ticks": "",
            "zerolinecolor": "white"
           }
          },
          "shapedefaults": {
           "line": {
            "color": "#2a3f5f"
           }
          },
          "ternary": {
           "aaxis": {
            "gridcolor": "white",
            "linecolor": "white",
            "ticks": ""
           },
           "baxis": {
            "gridcolor": "white",
            "linecolor": "white",
            "ticks": ""
           },
           "bgcolor": "#E5ECF6",
           "caxis": {
            "gridcolor": "white",
            "linecolor": "white",
            "ticks": ""
           }
          },
          "title": {
           "x": 0.05
          },
          "xaxis": {
           "automargin": true,
           "gridcolor": "white",
           "linecolor": "white",
           "ticks": "",
           "title": {
            "standoff": 15
           },
           "zerolinecolor": "white",
           "zerolinewidth": 2
          },
          "yaxis": {
           "automargin": true,
           "gridcolor": "white",
           "linecolor": "white",
           "ticks": "",
           "title": {
            "standoff": 15
           },
           "zerolinecolor": "white",
           "zerolinewidth": 2
          }
         }
        },
        "title": {
         "text": "Ballot votes of each Party"
        },
        "xaxis": {
         "anchor": "y",
         "domain": [
          0,
          1
         ],
         "title": {
          "text": "party"
         }
        },
        "yaxis": {
         "anchor": "x",
         "domain": [
          0,
          1
         ],
         "title": {
          "text": "count"
         }
        }
       }
      }
     },
     "metadata": {},
     "output_type": "display_data"
    }
   ],
   "source": [
    "party_fig = px.bar(party_counts, x='party', y='count', color='ballot', title='Ballot votes of each Party').show()"
   ]
  },
  {
   "attachments": {},
   "cell_type": "markdown",
   "id": "cf41e149",
   "metadata": {},
   "source": [
    "### Questions:\n",
    "\n",
    "1. What factors do you think influence how political parties decide to vote on specific bills?\n",
    "2. How can data science techniques be used to analyze and predict how certain parties may vote on a particular bill?\n",
    "3. Why is it important for political parties to have a consistent voting pattern on bills in Parliament?\n",
    "4. In what ways can the study of party voting patterns help citizens understand the political landscape and hold their representatives accountable?"
   ]
  },
  {
   "attachments": {},
   "cell_type": "markdown",
   "id": "4eaf1803",
   "metadata": {},
   "source": [
    "### Making Soup\n",
    "To get the Hansard Data we will be scraping from the website https://openparliament.ca (we previously used openparliament's API). To do this, we use the requests module to send a request. It returns the HTML markup for the web page. To understand the markup, we will be using BS4. This is a module that sorts through the markup and allows us to pull specific data that we need."
   ]
  },
  {
   "cell_type": "code",
   "execution_count": 26,
   "id": "12791fce",
   "metadata": {},
   "outputs": [],
   "source": [
    "# You have to hard code in the date of the debate\n",
    "# If you want to chnage the date of the debate, change '2023/03/31' with another valid date using the format YYYY/MM/DD\n",
    "dateOfDebate = ('2023/03/31/')\n",
    "# url is https://openparliament.ca/debates/2023/02/17/?singlepage=1\n",
    "page = requests.get('https://openparliament.ca/debates/' + dateOfDebate + '?singlepage=1').text\n",
    "# data is soup\n",
    "#?singlepage=1' gets all of the speakers\n",
    "data = BeautifulSoup(page, 'html.parser')"
   ]
  },
  {
   "attachments": {},
   "cell_type": "markdown",
   "id": "2fedefc7",
   "metadata": {},
   "source": [
    "Now let's start scraping! The cell below is extracting information from your inputted webpage about a debate. Specifically, it's looking for certain elements on the page and collects it such as the name of the speaker, their political party, their affiliation, and what they said during the debate. "
   ]
  },
  {
   "cell_type": "code",
   "execution_count": 27,
   "id": "79e5af73",
   "metadata": {},
   "outputs": [
    {
     "name": "stdout",
     "output_type": "stream",
     "text": [
      "Ziad Aboultaif\n",
      "\n",
      "Edmonton Manning, AB\n",
      "Conservative\n",
      "\n",
      "Madam Speaker, Canada is a safe haven for money laundering. It is a known fact, and it is getting worse by the day. \n",
      "Would the minister be able to advise us of the following? First, how much would this bill limit or downsize the money laundering market in Canada and, second, what is the amount of money laundering in Canada that is known to the minister or the government?\n",
      "\n",
      "\n",
      "François-Philippe Champagne\n",
      "\n",
      "Saint-Maurice—Champlain, QC\n",
      "Liberal\n",
      "\n",
      "Madam Speaker, my hon. colleague knows I have enormous respect for him, and I take it from his comments that he will be supporting Bill C-42.\n",
      "The genesis of Bill C-42 is to combat money laundering. It is to make Canada best in class. It is to make Canada a leader in the G7. The faster this House can pass Bill C-42, the better off we will all be. I dream that we could even do that by unanimous consent so that we can move to phase this in very quickly. The reason is that the longer we wait, the less we will be capable of fighting the fight that we need to fight, not only domestically but internationally. We want the public registry to be operational by the end of 2023.\n",
      "\n",
      "\n",
      "Gabriel Ste-Marie\n",
      "\n",
      "Joliette, QC\n",
      "Bloc\n",
      "\n",
      "Madam Speaker, I thank the hon. minister for this important bill and for his speech, which was very informative. We learned a lot, which is good. Obviously, the Bloc Québécois supports Bill C-42, and we are prepared to do what it takes to get it passed more quickly.\n",
      "We were concerned about respect for jurisdictions and the different securities, but everything is there. As the minister said, this has been a successful collaboration. As I told him, the registry has been online in Quebec since 9 o'clock this morning. The Government of Quebec is the first government in North America to do this.\n",
      "I have a bit of a technical question. If company A is owned by company B, which is owned by company C, then we can track down who the beneficial owner is, but what happens if a company is in another less co-operative country where there is no automatic information sharing, such as a tax haven? Will Bill C-42 make it possible to identify the real owner?\n",
      "\n",
      "\n",
      "François-Philippe Champagne\n",
      "Madam Speaker, I want to thank my colleague. Every one of his colleagues holds him in high esteem, and he is always there to defend Quebec's interests and to help advance all financial matters and tax measures in the House.\n",
      "On behalf of the government, I want to note his support for Bill C-42, which is important, because the more time that goes by, the longer we delay implementing measures to combat fraud and various crimes.\n",
      "To answer his question, I will say that there are now 112 countries that have committed to implementing similar measures to combat illegal activities—that is, various types of fraud—and to ensure greater rigour and enable different organizations to identify the beneficial owners.\n",
      "The act provides for measures requiring heads of corporations to trace beneficial owners with a positive obligation to ask questions and obtain that information.\n",
      "It is clear that we will need to continue working with our partners around the world.\n",
      "\n",
      "\n",
      "Daniel Blaikie\n",
      "\n",
      "Elmwood—Transcona, MB\n",
      "NDP\n",
      "\n",
      "Madam Speaker, we know that a well-designed registry is needed to facilitate the enforcement of sanctions, as in the case of Vladimir Putin and his Russian oligarchs.\n",
      "We also know that it is important to ensure that the most wealthy Canadians pay their fair share. I am very pleased to see progress in that regard. We also know that the participation of the provinces and territories is vital to the success of this type of registry. Could the minister provide an update on the state of negotiations between the federal government and the provinces and territories?\n",
      "Does he have some idea of when all the provinces and territories will be contributing to the federal registry? \n",
      "\n",
      "\n",
      "François-Philippe Champagne\n",
      " Madam Speaker, I thank my colleague for his important question. This is an esteemed colleague who, I believe, is also prepared to move this bill forward quickly. As I was saying, it is in Canada's best interest for us to adopt such a framework.\n",
      "My colleague will have noticed that we ensured that this registry would be capable of what is known as interoperability. We chose to adopt a standard, in fact, the international standard, to enable this interoperability, not only with the registries that we hope the provinces and territories will adopt but also with international registries.\n",
      "As my colleague was saying earlier, there may be businesses located in other administrative regions. Canada is positioning itself as a leader. Obviously, the House will send a strong message to the provinces and territories. Consequently, I implore my colleagues from all parties to support this bill. I think we will be able to count on support from the NDP and the Bloc Québécois, as well as, I hope, our Conservative colleagues to take a step in the right direction so that we have measures to ensure transparency and allow us to fight tax evasion.\n",
      "\n",
      "\n",
      "Brad Vis\n",
      "\n",
      "Mission—Matsqui—Fraser Canyon, BC\n",
      "Conservative\n",
      "\n",
      "Madam Speaker, proposed subsection 21.‍303(3), “Exemption on application”, notes, “the Director may choose to not make it available to the public, subject to any terms that the Director thinks fit”. Under proposed subparagraph 21.‍303(3)(b)(iii), at the top of page 4, it says, “prescribed circumstances apply to the individual.” There is a lot of leeway in the bill, as it is currently written, for the director of Corporations Canada to determine what information could be exempt. \n",
      "I am wondering if the government is open to some clarification or any type of schedule that we could develop to ensure that the maximum number of corporations that should be in the registry are in fact covered. I would also note that the points on interoperability with the province will likely need some clarification as well, just to ensure that the registry is in fact pan-Canadian.\n",
      "\n",
      "\n",
      "François-Philippe Champagne\n",
      "Madam Speaker, I would like to thank my esteemed colleague for his contribution, and I think his words lead us to believe that the Conservatives will be supportive. \n",
      "On the first issue, there are some exemptions. One that comes to mind is around minors, for example, and other people who could be at risk when providing that information. What we need to know is that what would be public and searchable would be the name and address of the beneficial owner. What law enforcement authorities would have access to, in addition to that, would be the date of birth and citizenship. We can have a split to make sure that we provide as much relevant information as possible to the public and other entities to be able to search, but I would be open to see what we can do on that, with the caveat that we go fast. The number of exclusions is very limited and they are based on consultation.\n",
      "With respect to interoperability, my colleague will have noted that we developed and used the beneficial ownership data standard, or what we call BODS, which is the international standard, exactly to make sure we can have as many people as possible be able to contribute and ultimately provide the level of accuracy and searchability that we would want to see. \n",
      "I welcome the member's contribution.\n",
      "\n",
      "\n",
      "Chandra Arya\n",
      "\n",
      "Nepean, ON\n",
      "Liberal\n",
      "\n",
      "Madam Speaker, corporations exist basically to allow individuals to channel their capital for the benefit of making profits. I think the corporation as we know it came into existence in the 1844 act in Britain, and the shareholders were granted limited liabilities in 1855. In 1866, the United States code declared that a corporation is a natural person.\n",
      "The key thing that I want to focus on is the tax evasion and tax avoidance. Supreme courts around the world have ruled on the difference between tax avoidance and tax evasion and identified that if there is any transaction in the process followed by an individual or a corporation that does not have any impact other than to reduce or eliminate tax, the transaction can be declared null and void.\n",
      "Coming back to the corporations here, why should the public not be aware of individuals who are investing money into corporations, including their citizenship being known? It is not the fundamental right of any individual that he or she can be a shareholder. It is a privilege offered by the states through various acts, so why should the public not be aware of individuals who are the shareholders, including their citizenship—\n",
      "\n",
      "\n",
      "The Assistant Deputy Speaker (Mrs. Alexandra Mendès)\n",
      "\n",
      "Alexandra Mendes\n",
      "Liberal\n",
      "\n",
      "I have to give the minister time to answer.\n",
      "The hon. minister.\n",
      "\n",
      "\n",
      "François-Philippe Champagne\n",
      "Madam Speaker, my hon. colleague is a key member of our team and is always there to make sure that when it comes to financial matters, this government listens to different stakeholders.\n",
      "What we see is a kind of compromise that we have been able to draw based on best practices, also with the OECD. What is going to be made public is the name and address. What law enforcement authorities will have access to is date of birth and citizenship.\n",
      "There are reasons for that in terms of discrimination and misuse of information. I think that, on balance, we strike the right balance in the act, but I take the member's point and I want to thank him for his contribution. He is a very esteemed member of our team.\n",
      "\n",
      "\n",
      "Brad Vis\n",
      "Madam Speaker, I thank the minister for tabling this bill today.\n",
      "We are here today to debate Bill C-42, an act to amend the Canada Business Corporations Act and to make consequential and related amendments to other acts. The government's stated objective in introducing this legislation is to protect Canadians against money laundering and terrorist financing, deter tax evasion and tax avoidance, and make sure Canada is an attractive place to conduct business.\n",
      "The Conservatives support the concept of a national public registry of beneficial owners of companies. This is an important tool in the fight against money laundering and terrorist financing. The Cullen commission in British Columbia has also called for the creation of such a registry. Created in 2019 by Premier John Horgan in response to four reports highlighting the alarming number of money laundering cases in my province, the Cullen commission made 101 recommendations. Recommendation 52 called on the province to work with its federal, provincial and territorial partners to ensure that, by the end of 2023, a publicly accessible, pan-Canadian corporate beneficial ownership registry is in place.\n",
      "However, much can be done to improve this bill and guarantee that it is effective. The Conservatives believe that in order to reach the objectives of this registry, the bill must be amended. First, the government must work with the provinces and territories to ensure that it is a pan‑Canadian registry. Second, there must be harsher sanctions for contravening the Canada Business Corporations Act, or the CBCA. Third, the threshold for significant control must be lowered. Fourth, the functionality of the public registry must be clarified.\n",
      "In budget 2018, as the minister noted, the government amended the CBCA to introduce requirements for corporations to maintain a registry of individuals with significant control of the corporation. “Significant control” is defined as someone owning or controlling at least 25% of a corporation's shares. Budget 2022 added a requirement that corporations provide their registers to the government every year and to report any new information to the registry within 15 days. This bill would require Corporations Canada to make public some of the information collected under the 2022 reporting requirements.\n",
      "Conservatives have long called for more action to combat money laundering and terrorist financing, so it is good to see the bill tabled in Parliament today. However, as I noted in French, there are many gaps in the legislation, and it is our objective to see some concrete amendments and considerations brought forward to this bill at the committee stage.\n",
      "I wanted to take a minute to talk about the impact and history of money laundering. For far too long, Canada has had a reputation as a safe haven for dirty money. Our current laws that in place to combat money laundering and the proceeds of crime are perceived internationally as being weak. This has led to a wave of dirty money being laundered in Canada, particularly in my home province of British Columbia. Casinos, real estate, businesses and more have long been used to launder money in B.C., and the RCMP, local law enforcement and FINTRAC, in some cases, have been almost powerless to stop it.\n",
      "When the Panama papers were leaked in 2016, it was exposed that international criminals have long exploited the gaps in Canada's corporate beneficial ownership regulatory scheme to engage in corrupt conduct through federally, provincially and territorially administered corporations. Organizations such as Transparency International have been calling on Canada to create a public registry of corporate beneficial ownership for a long time. As I noted in French, the Cullen Commission in B.C. has also called for this registry. Among the recommendations was a pan-Canadian registry to be established in 2023.\n",
      "The commission's report highlighted how drug dealers utilize numbered corporations to stash death money from the fentanyl trade, then take that drug money and put it into the housing market in British Columbia, which has led, in some cases, to prices being driven up. Had a registry been in place sooner, perhaps less money from drug deals would have been laundered and perhaps it could have prevented lives from being lost. A corporate registry does have a lot of consequences, and that is why our party supports it.\n",
      "Now I will briefly get into some of the shortcomings we see in this bill. The first is the lack of any requirement of the government to seek information-sharing agreements with the provinces and territories so the registry can be effective. The corporate registry will be only as strong as the provinces and territories that opt into it. Without them on board, this registry would only apply to about 5% of corporations in Canada. Thankfully, some provinces and territories have already taken the lead on this front and have been implementing registries since the changes to the CBCA were announced in last year's budget. Without all of them on board, criminals will just take their dirty money to the jurisdiction with the least strongest regulations.\n",
      "It is my hope that, at committee, amendments will be adopted to ensure the federal government is required to pursue agreements with the provinces and territories on information sharing to ensure the registry is truly pan-Canadian and interoperable. I can note that, with many of the registries in place, there is a varying degree of information shared. Many do follow the amendments put forward in budget 2022, but I still think there is a lot of work we can do to make sure our registry is comprehensive.\n",
      "The second is that we need to look at strengthening some of the penalties. Parliament needs to consider the registry in the context of the ability of law enforcement to combat the use of illegal funds. The current penalties under the CBCA, and the new ones proposed in Bill C-42, may be too weak to have the desired effect. We must ensure that corporations are compliant with the rules for the registry to be effective. The government should consider strengthening the penalties and making some offences indictable. Many of the fines could simply now be perceived by some corporations using illicit funds as the cost of doing business.\n",
      "Another issue with the penalties is that they do not punish corporations that violate the act nearly as strongly as they do individuals. All of the offences that currently exist, and those proposed in this bill that apply to corporations, are punishable by a fine of I believe $5,000. However, the strongest penalty applying to individuals is found under section 21.4 of the CBCA, which has a fine not exceeding $200,000 and a term of imprisonment of six months, as the minister also mentioned. We must ensure that corporations that do not comply with these regulations are held just as accountable as the individuals involved. A $5,000 fine would be chump change for some people who would be affected under this proposed bill.\n",
      "We need to also look at the threshold for disclosure. The CBCA currently defines significant control under section 2.1 as an individual who owns or controls a significant number of shares in a corporation, which is defined as 25% or more. This is quite a high threshold. Currently, security regulators in Canada, for example, Ontario Securities Commission, have a set threshold of just 10% for public disclosure requirements. Regardless of where we set the threshold, people will try to avoid reporting by ensuring their ownership or control is slightly below it. There are lots of ways for individuals with significant control to pass by the threshold. However, a lower threshold means fewer opportunities for criminals to simply slip under the radar.\n",
      "We also need to be cognizant of how this will apply in the context of stacked ownership structures and trusts. It would be wise of the House to consider aligning these regulations with those currently imposed on publicly traded companies by amending this bill to change the threshold to 10% and look at the impact of trusts in very close detail at the committee stage.\n",
      "We also need to look at the functionality of the registry. When it comes to how this registry will work and what information will be made available to the public, this bill is concerningly quiet. It does outline in section 21.303:\n",
      " (1) The Director shall make available to the public the following information sent to the Director under section 21.‍21 for each individual with significant control: \n",
      " (a) their name; \n",
      " (b) their address for service, if it has been provided to the corporation; \n",
      " (c) their residential address, if their address for service has not been provided to the corporation; \n",
      " (d) the information referred to in paragraphs 21.‍1(1)‍(c) and (d); and \n",
      " (e) any other prescribed information. \n",
      "The first issue here lies in paragraph (e). What exactly does it mean by “prescribed information”? This needs clarification, as the information made publicly available must keep in mind privacy interests. I will note the minister did partially answer my question during his debate when he said citizenship would not be required in the registry. I will take a moment to comment on that.\n",
      "What if an individual in another country who does not reside in Canada has a corporation in Canada? Should citizenship information in the context of a foreign owner of a Canadian corporation apply or, as another member in the House of Commons mentioned, in the case of a stacked corporation where certain shares of the company are owned by an individual in another country, should citizenship information be applied in that context? In the context of terrorism and money laundering, perhaps it would be to our benefit in some cases where citizenship is, indeed, known.\n",
      "I look forward at the committee stage to really delve into this in detail because I think everyone in Canada wants to get this registry right. Everyone in Canada wants to give our law enforcement the tools it needs to finally begin combatting money laundering. We have seen the impact of it in British Columbia. We have seen the empty condos and the illicit funds from the drug trade being used, through corporations, to launder that money. We need to move away from what many people call the “Vancouver model” to take action right now. The commitment of the Conservative Party is to work with the government to ensure that our laws are strengthened, and that fewer lives are lost because of the drug trade, by establishing some form of a beneficial ownership registry.\n",
      "Finally, I would like to touch upon how the registry would function. The bill is very vague in what prescribed circumstances would be. Will law enforcement still be able to access the information of those exempted for the purposes of an investigation? Another issue with the guidelines for the registry are the exemptions that have been put in place. We do know, as the minister mentioned after my question, that it would not apply to people 18 years of age or younger, but we need to strengthen the language around exemptions.\n",
      "In closing, this bill is a good first step. That is why the Conservatives will be supporting it at second reading. However, key oversights must be addressed during the committee process. We must ensure that the penalties for violating the act are strong enough, and I am not certain that summary convictions are strong enough. We must ensure that law enforcement and FINTRAC have the ability to easily access the information they need to track down those laundering money and financing terrorism. We must ensure that corporations involved in criminal activities are held just as accountable as individuals, and for the registry to be effective, we must make the participation of provinces and territories a key priority.\n",
      "I look forward to working with my colleagues on the industry committee to strengthen this bill and ensure it truly provides transparency to the public and gives law enforcement the tools necessary to track down money launderers and those funding terrorism. More must be done to reduce the risk of corporations being misused for illicit activities such as money laundering and tax evasion.\n",
      "\n",
      "\n",
      "François-Philippe Champagne\n",
      "Madam Speaker, my hon. colleague mentioned a number of things that are really fundamental in illicit money being used in real estate, for example, in the city of Vancouver, which he mentioned.\n",
      "I want to thank the member for being on board with Bill C-42. The best way to do more to combat illegal activities and increase corporation accountability is to adopt Bill C-42. How quickly are the Conservatives prepared to work with the government to put an end to money laundering in Canada and adopt Bill C-42?\n",
      "\n",
      "\n",
      "Brad Vis\n",
      "Madam Speaker, the objective of the Conservative Party on this legislation is to have a robust debate, in good faith, at second reading. There are a lot of experts in every party who have information on corporate trusts and how corporations are structured in Canada, and I think every party has something to contribute on that. We want to move quickly on this bill, but we also want to have a robust debate.\n",
      "Our objective is to get the bill to committee where we can have a robust study. I could perhaps share more with the minister, and maybe our House leaders can determine what the priority of the House of Commons is with respect to seeing this bill pass.\n",
      "\n",
      "\n",
      "Gabriel Ste-Marie\n",
      "Madam Speaker, I thank my colleague for his speech. I want to point out that his French is very good, and tell him that I really appreciate the fact that he gave part of his speech in French.\n",
      "I was also impressed with the quality of his speech and the research and thought that went into it. Like him, I recognize that Bill C‑42 is a step in the right direction, but that there is still much to do to tackle money laundering, crime and the use of tax havens.\n",
      "My colleague raised certain concerns. He spoke about possible amendments to be made to Bill C‑42 to improve it. I would like him to present them again and provide a brief explanation.\n",
      "\n",
      "\n",
      "Brad Vis\n",
      " Madam Speaker, some of these amendments would seek to determine the role of the provinces and territories in guaranteeing the interoperability of this registry. We must also study the Canada Corporations Act threshold.\n",
      "\n",
      "\n",
      "Daniel Blaikie\n",
      "Madam Speaker, I would like to thank the hon. member for Mission—Matsqui—Fraser Canyon for his remarks, both for their substance as well as for their tone. So far, this morning's debate has been a great example of what we could accomplish as legislators if we avoided the temptation of hyperbole and we focused on the content of legislation.\n",
      "The member talked a little about penalties and judging whether the penalties that are in the initial draft of the legislation are adequate. I wonder if he wants to speak a little more to that question. Perhaps he could give the House some sense of whether there are existing standards he thinks we should be looking to in order to come up with appropriate penalties and how we might determine adequate penalties.\n",
      "\n",
      "\n",
      "Brad Vis\n",
      "Madam Speaker, regarding penalties, I want to think of the worst-case scenarios. For years, we have heard so many stories in British Columbia about why the Cullen Commission was put in place, about the impact of money laundering and the billions of dollars that have been laundered into corporations, largely at the provincial level.\n",
      "I do not want any fees or penalties to be seen as the cost of doing business for certain corporations. We need to look at strengthening those penalties. We need to hear from a suite of experts in law enforcement, maybe experts from FINTRAC and law enforcement at CSIS, to ensure that we get this right and that we use this tool to provide some trust for Canadians in our law enforcement institutions to be able to make a difference.\n",
      "I do not have specifics. All I know is that, at $200,000 or in some cases $5,000, it would be seen as the cost of doing business. We want to make it actually hurt when someone tries to break the law in Canada.\n",
      "\n",
      "\n",
      "Marty Morantz\n",
      "\n",
      "Charleswood—St. James—Assiniboia—Headingley, MB\n",
      "Conservative\n",
      "\n",
      "Madam Speaker, there are a number of areas of clarification, in my mind, that need to be addressed, and perhaps it would be done through committee.\n",
      "One is the type of asset that is caught by this legislation. For example, a beneficial owner is someone for whom an asset is held in trust. There could be shares of a corporation held in trust by a shareholder for someone else, whether that shareholder is an individual or a corporation. Also, the assets of a corporation could be held in trust for an owner or a group of owners.\n",
      "One of the things that I would like to have clarified is whether this just applies to shares being held in trust for beneficial owners or if it actually applies to the assets of a corporation that are held in trust for owners. What happens, for example, when those beneficial owners, in turn, decide to set up trust arrangements with other people holding their beneficial ownerships in trust for others?\n",
      "Second, there are 500,000 corporations under the CBCA. There could literally be tens of millions of these trust arrangements in existence across the country. What resources would be dedicated to making sure we could track them?\n",
      "Finally, I was a little concerned that personal addresses would be published. Most of these trust arrangements are legitimate business practices and a much smaller number are for money laundering. I just want to highlight that—\n",
      "\n",
      "\n",
      "The Assistant Deputy Speaker (Mrs. Alexandra Mendès)\n",
      "I have to give the hon. member for Mission—Matsqui—Fraser Canyon the time to answer.\n",
      "\n",
      "\n",
      "Brad Vis\n",
      "Madam Speaker, I appreciate that very important question from my colleague from Winnipeg. One of the big gaps in this legislation is in clarifying the relationship between significant interests and the role trusts play in corporate structures at all levels of corporate registries in Canada right now and the impact that would have on the interoperability and the overall effectiveness of a corporate registry as we move forward. The member also pointed out the significance of this registry in the context of those provincial bodies. We need to make sure that there is interoperability, of course, to ensure its effectiveness in completing its stated goals.\n",
      "\n",
      "\n",
      "Chandra Arya\n",
      "Madam Speaker, I agree with my hon. colleague on the question of disclosing the citizenship of the shareholders of a corporation. There should not be any legal protection offered to foreigners who invest in Canadian corporations. We have been seeing that corporations are being incorporated with no other purpose than to have transactions and processes that lead to nothing but tax avoidance and, in some cases, even to money laundering.\n",
      "I want to touch on something the member mentioned about the significant shareholding and the threshold, which is 25% in some jurisdictions and 10% in some jurisdictions. As the member very clearly stated, that is a loophole where, very easily, five people could form a corporation with 20% each or 11 people could form a corporation. Therefore, should there be any threshold at all that prevents the disclosure of the beneficiary?\n",
      "\n",
      "\n",
      "Brad Vis\n",
      "Madam Speaker, I appreciate that my colleague from Nepean outlined the issue that probably needs to be studied the most in this legislation, and that is significant interest. I do not have a specific answer to his question right now, but we need to have that debate in Parliament about the impact of significant interest and corporate stacked ownership structures that need to be viewed in the light of money laundering and tax avoidance or tax evasion.\n",
      "I will just quickly touch upon the impact of addresses as well, which is another point of this bill, and it relates to citizenship. We need to clarify our charter obligations regarding individual privacy, but we also need to make sure to be practical that in some cases Canadian corporations are used for illicit purposes and in some cases we should know the citizenship of those individuals who are using said corporations.\n",
      "\n",
      "\n",
      "Gabriel Ste-Marie\n",
      "Madam Speaker, what do the Panama papers, the Pandora papers and the Paradise papers all have in common? They are leaks that revealed who was hiding behind shell corporations in tax havens, those anonymous companies for which it would be otherwise impossible to determine actual ownership. Without those leaks, it was only possible to identify the names of the administrators, typically a big corporate law or accounting firm.\n",
      "By lifting the corporate veil, these leaks helped identify wealthy fraudsters hiding money from the tax man or criminals hiding dirty money out of sight. When it is impossible to identify who is hiding behind a shell company, that opens the door for profiteers and fraudsters of all kinds, people who refuse to pay their fair share of taxes at the expense of everyone else, people who recirculate ill-gotten gains in the real economy by hiding behind secret companies. It is not normal to need to rely on leaks, whistle-blowers, hackers or journalists to find out what is behind these companies. That information should be public.\n",
      "There is nothing like transparency for combatting fraud. That is essentially what Bill C-42 addresses. It amends the Canada Business Corporations Act to force the directors of federally incorporated businesses to report their real owners to Corporations Canada. Then, Corporations Canada can create a registry of the real company owners, a public registry that anyone can consult. Bill C‑42 will introduce a bit of transparency, which is a good thing. The Bloc Québécois supports the principle of Bill C‑42, and I encourage all parliamentarians to do the same.\n",
      "Before I get into the details of the bill, I want to tell members a secret. When I saw that the government had introduced a bill to amend the Canada Business Corporations Act, I was worried. As members know, business ownership and property rights fall under provincial jurisdiction. In Quebec, these things are governed by the Civil Code. Every province has its own securities commission. In Quebec, we have the Autorité des marchés financiers. \n",
      "However, over the last several years, Quebec and the provinces decided to coordinate and harmonize their respective laws. Since they all have very similar legislation, registration with the Autorité des marchés financiers is automatically recognized by all of the provinces. That means that a Quebec company can easily raise capital and do business outside Quebec through mutual recognition under what is known as the passport system.\n",
      "Since this works well, Ottawa has no reason to interfere, there is no need for federal securities regulations, and Quebec's jurisdiction over financial matters would be respected. Without that respect, we would likely see Toronto become the centre of financial activity at the expense of Quebec, particularly Montreal's financial sector.\n",
      "However, this is viable only if governments continue to work together and essentially harmonize their laws. That is why I was concerned when I saw that the government wanted to change the Canada Business Corporations Act. If Ottawa acts unilaterally, as this government all too often does, if it has not aligned its efforts with Quebec and the Canadian provinces, if the laws are no longer similar, the mutual recognition system will not be as successful. Ottawa will then have the excuse it is looking for to justify its desire to centralize everything, as it has been trying to do for three decades. \n",
      "However, I did breathe a huge sigh of relief when I saw Bill C-42. As I mentioned earlier, Bill C‑42 will establish a searchable public registry of the real owners of businesses. This commitment to transparency reflects a unanimous decision made at the G20. It has been implemented properly in Canada in a manner that respects each party, so I say bravo. The federal government and the finance ministers of Quebec and all the provinces have coordinated their efforts and agreed to work together, while respecting one another's independence.\n",
      "In 2017, they all independently agreed to change their respective laws to require companies to collect, in their own registries, the data needed to identify the real owners. At the federal level, this was done in June 2022 with the passage of Bill C-19, a budget implementation bill. This data is beginning to be collated and made available to the authorities in the event of suspected fraud.\n",
      "In 2018, they came to an agreement on how companies were to share this data with their respective governments and how the governments were to make the data public. That is what we are debating today. There was no need for federal standards where Ottawa would put itself in charge and tell Quebec what to do. Everything was done respectfully. \n",
      "The National Assembly of Quebec passed Bill 78 in June 2021. This legislation reflects the agreements made in 2017 and 2018. Quebec was the first government in America to pass such legislation. It is interesting that this debate is being held today, on March 31, 2023, because Quebec's Bill 78 goes into force today. Since nine o'clock this morning, the registry of real owners can be consulted in Quebec on the site of the Enterprise Registrar.\n",
      " Since not all businesses have provided their information as yet, the search engine is not yet active, but it will be soon. It will be operational within the year. With the passage of Bill C‑42, the federal government will do the same for federally incorporated businesses. The provinces have passed or are preparing to pass similar legislation.\n",
      "I see that members' statements will commence momentarily. I will continue my speech once we resume debate on this bill.\n",
      "\n",
      "\n",
      "Mike Morrice\n",
      "\n",
      "Kitchener Centre, ON\n",
      "Green\n",
      "\n",
      "Madam Speaker, around the world we are seeing a rise in anti-trans rhetoric and legislation. This includes in the U.S., where this year alone, over 400 bills have been proposed or passed that attack trans human rights. Here at home, the rise in anti-trans hate has advocates saying it has never been as scary as it is now.\n",
      " We must do better. I am grateful to organizations like SPECTRUM, Waterloo Region’s first-ever rainbow community space, that serve, affirm and support the well-being of 2SLGBTQ+ people in my community.\n",
      "Former SPECTRUM President and trans activist Caitlin Glasson recently initiated a petition that I have sponsored, calling for the federal government to be more open to transgender and non-binary asylum seekers from around the world. It has been widely amplified by the trans community, with over 145,000 signatures.\n",
      "On this International Transgender Day of Visibility, let us recognize how much work we need to do and celebrate the power of the trans community in having their voices heard.\n",
      "\n",
      "\n",
      "Kevin Lamoureux\n",
      "\n",
      "Winnipeg North, MB\n",
      "Liberal\n",
      "\n",
      "Madam Speaker, budget 2023 continues to demonstrate that the government truly cares about people and that we are building a stronger and healthier country. From helping people fight inflation by bringing in a grocery rebate to introducing a national dental program and supporting a greener economy, this year's budget reflects Canadians' interests and their expectations of the government.\n",
      "To me, caring for people means lifting seniors and children out of poverty by increasing things like the GIS and the Canada child benefit program. It means investing $198 billion over 10 years to secure health care services for future generations. It is about building a national child care program and a stronger economy employing two million additional people.\n",
      "\n",
      "\n",
      "Brad Redekopp\n",
      "\n",
      "Saskatoon West, SK\n",
      "Conservative\n",
      "\n",
      "Madam Speaker, soon Christians around the world will be celebrating Easter. Good Friday marks the crucifixion of Jesus Christ at the hands of the Romans. The resurrection of Christ on Easter Sunday fulfills his promise to the people of the world that he is indeed the son and living embodiment of God on earth. All Christians, Protestants, Catholics and Orthodox will come together over Easter weekend to celebrate the most important days in the Christian calendar. For some of us, this means attending church services; for others, it means attending a big family party.\n",
      "For some, like the Ukrainians fleeing the war crimes of Vladimir Putin, it will be the first Easter not in their home country, but here in Canada instead. Regardless of how we celebrate, Easter is a reminder of how Christ sacrificed his life for us and made a way for each of us to know God personally.\n",
      " I look forward to Easter Sunday when Christians around the world will say in Ukrainian:\n",
      "[Member spoke in Ukrainian and provided the following translation:]\n",
      "He is risen. He is risen indeed.\n",
      "\n",
      "\n",
      "Adam van Koeverden\n",
      "\n",
      "Milton, ON\n",
      "Liberal\n",
      "\n",
      "Madam Speaker, a little over a decade ago, Patrick and Brian Burke launched “You Can Play”, a social activism campaign dedicated to the eradication of homophobia in sports, particularly hockey. The campaign uses the slogan, “If you can play, you can play”. \n",
      "Most people have also seen pride tape on hockey sticks, a initiative co-founded by Dr. Kris Wells. These are meaningful steps in the right direction for inclusion in sport in this country and around the world for the 2SLGBTQ+ community.\n",
      " Unfortunately, some NHL players have recently decided not to wear pride-themed warm-up jerseys for their games on pride nights or the league's “Hockey is for Everyone” campaign, saying it is contrary to their religious beliefs. A rainbow jersey is a simple but compassionate sign of solidarity and a way to say, “Hockey is a sport for everyone. You matter, and you are welcome here.” While there has been a lot of progress, it is clear there is still much work to be done.\n",
      "I grew up Catholic and attended Sunday school and catechism. If I know one thing about Jesus Christ, it is that he loved everybody. He would be marching on the front line in pride parades if he were alive today.\n",
      "Sport is for everyone. To every young player out there I want to say this: Regardless of their race, gender or sexuality, hockey is a sport for them.\n",
      "\n",
      "\n",
      "Blake Desjarlais\n",
      "\n",
      "Edmonton Griesbach, AB\n",
      "NDP\n",
      "\n",
      "Madam Speaker, today we join trans folks from around the globe in recognizing the International Transgender Day of Visibility. From Stonewall to Edmonton, the trans community has and continues to contribute greatly to a better and more just society. They have shown us the strength of community resilience, and they remind us of our everlasting pursuit of justice, even as our institutions and society continue to fail them.\n",
      "Every member of the House has a responsibility to stand up and speak out against the bigotry that is threatening the safety of trans people across Canada and the globe. Rising violence and extreme hatred against the trans community is a gruesome reality and a threat to democracy and freedom everywhere. A truly free society is one where everyone has the freedom to be who they are, love who they love and pursue happiness. The trans community has a right to joy, but this joy is under threat. We can and must do more.\n",
      "\n",
      "\n",
      "Andy Fillmore\n",
      "\n",
      "Halifax, NS\n",
      "Liberal\n",
      "\n",
      "Madam Speaker, I rise today to recognize my friend, Carol Young, a community leader, women's advocate and lifelong volunteer in Halifax. Sadly, she passed away over the weekend\n",
      "Carol is remembered for her unwavering commitment to advancing women in the workforce, in boardrooms and in politics. She worked right here on Parliament Hill for the first Trudeau government as the first female special assistant to a cabinet minister. She was one half of a dynamic power couple; she met her late husband, the renowned lawyer, John Young, here on the Hill when he was working for Allan J. MacEachen. The pair set down roots in Nova Scotia, where Carol would work on many important boards, including those of Dalhousie University, Neptune Theatre and the Pier 21 Society.\n",
      "Carol also devoted herself to many philanthropic endeavours, including Ronald McDonald House, the children's Discovery Centre and the Mental Health Foundation of Nova Scotia. She also played a key role in the creation of the IWK children's hospital telethon.\n",
      "For all this, she earned appointment to the Order of Canada and an honorary doctorate from St. Mary's University. She leaves behind a wonderful legacy, and I send my condolences to her family and all those whose lives she touched.\n",
      "\n",
      "\n",
      "Rick Perkins\n",
      "\n",
      "South Shore—St. Margarets, NS\n",
      "Conservative\n",
      "\n",
      "Madam Speaker, I rise in the House because tomorrow is the 150th anniversary of the sinking of the SS Atlantic, the biggest shipwreck in Nova Scotia and the biggest marine disaster in North America before the Titanic.\n",
      "With nearly 1,000 people on board, the greatest passenger liner of her day left Liverpool for New York on March 20, 1873. Running low on coal, she diverted to Halifax to refuel. In unfamiliar waters on a stormy night with heavy seas, she went off course, hit Golden Rule Rock and rapidly sank. More than 500 people lost their lives that night, including all women and children aboard but one. My communities of Lower Prospect and Terence Bay rallied to rescue 439 survivors. They brought them into their homes and nursed the injured back to health.\n",
      "On this anniversary of the disaster of the SS Atlantic, we remember the tragic loss of so many lives and take inspiration from the courageous actions of the communities of Lower Prospect and Terrence Bay.\n",
      "\n",
      "\n",
      "John Aldag\n",
      "\n",
      "Cloverdale—Langley City, BC\n",
      "Liberal\n",
      "\n",
      "Madam Speaker, Sikhs across the world and in Canada are preparing to celebrate Vaisakhi. The celebration of Vaisakhi marks the founding of the community of baptized Sikhs, known as the Khalsa Panth. This year, the celebration will be held on April 14.\n",
      "Canada is home to one of the largest Sikh diasporas in the world. More than 500,000 Canadians of the Sikh faith have helped make our country what it is today. The vibrant festival of Vaisakhi is a spring festival marking the solar new year for Sikhs and Hindus. Vaisakhi is also a time to reflect on the importance of upholding justice and promoting equality.\n",
      "Together, let us celebrate the importance of the Sikh community within Cloverdale—Langley City, across Surrey and across Canada as well. One can also join me at the Surrey Vaisakhi parade on April 22. I would like to take this opportunity to wish all those celebrating this special occasion a very happy Vaisakhi.\n",
      "\n",
      "\n",
      "Pam Damoff\n",
      "\n",
      "Oakville North—Burlington, ON\n",
      "Liberal\n",
      "\n",
      "Madam Speaker, Canada is a global leader in the production of life-saving medical isotopes, which are used in medical imaging, cancer therapy, disease prevention and medical device sterilization. Canada's isotopes sterilize over 25 billion pieces of medical equipment a year, making up 70% of the world market. I have seen our leadership first-hand at Bruce Power. In a partnership, Bruce Power and the Ojibway Nation of Saugeen will jointly market a new isotope, lutetium-177, in support of the global fight against cancer.\n",
      "Earlier this week I attended an event with the Canadian Nuclear Isotope Council to launch “Isotopes for Hope: Canada's Leadership Needed Now More Than Ever”. This is a road map to strengthen Canada's global role in the isotope supply chain and double production by 2030.\n",
      "Countries around the world depend on Canada for its expertise in the production of medical isotopes. Canada can support almost the entire supply chain for medical isotopes. We must remain a world leader and pursue innovative solutions to save lives.\n",
      "\n",
      "\n",
      "Marty Morantz\n",
      "Madam Speaker, I rise today to celebrate Education and Sharing Day.\n",
      "Education and Sharing Day is a day established in honour of Rabbi Menachem Mendel Schneerson, recognizing his lifelong efforts towards improving education. He was an advocate for children and spoke out about the need for each child to be given an education that would offer them the opportunities to succeed. He often spoke about the need for education to focus not only on academic achievements but also on character building.\n",
      "The rabbi's emissaries established a network of several thousand Jewish schools and education centres around the globe. They sought to empower young people and inspire individuals of all ages. A high-quality education develops the mind, opens the heart, nurtures our talents and fortifies our character. We owe a tremendous debt to Rabbi Schneerson and to all those who promote education that embraces moral and ethical values.\n",
      "This year, let us rededicate ourselves to teaching the love of learning that was championed by Rabbi Schneerson.\n",
      "\n",
      "\n",
      "Vance Badawey\n",
      "\n",
      "Niagara Centre, ON\n",
      "Liberal\n",
      "\n",
      "Madam Speaker, it is my pleasure to rise in the House today on National Indigenous Languages Day. This is a day to bring attention to the critical endangerment of indigenous languages and to celebrate the rich and diverse heritage they bring to our country.\n",
      "Today, there are at least 70 distinct indigenous languages spoken in Canada, and every one of them is fundamental to the identity, culture, spirituality and self-determination of first nations, Inuit and Métis. It is an inherent right to pass their knowledge, their stories and their histories in their own voices to all future generations.\n",
      "This is a goal we are working toward in partnership through Bill C-91, an act respecting indigenous languages, to protect, preserve and revitalize indigenous languages throughout this great nation.\n",
      "\n",
      "\n",
      "Bernard Généreux\n",
      "\n",
      "Montmagny—L'Islet—Kamouraska—Rivière-du-Loup, QC\n",
      "Conservative\n",
      "\n",
      "Madam Speaker, our streets are becoming more and more unsafe. People are afraid to go out alone and to take public transportation. That clashes with people's opinion of Canada.\n",
      "Since the Prime Minister  took office, violent crime has increased by 32% and crime related to street gangs has doubled. Rather than taking real action to address this problem, the government is making things worse.\n",
      "Thanks to flawed legislation, dangerous criminals are being released, often the same day they are arrested. The only punishment for gun crime is a minimum sentence or even no sentence at all. A change is long overdue.\n",
      "A Conservative government will bring back mandatory prison sentences for serious violent crimes. We will implement bail rules that will guarantee that those who commit serious, repeat and violent crimes will remain behind bars while awaiting trial.\n",
      "A Conservative government will do what it takes to keep violent criminals where they should be, behind bars.\n",
      "\n",
      "\n",
      "Laila Goodridge\n",
      "\n",
      "Fort McMurray—Cold Lake, AB\n",
      "Conservative\n",
      "\n",
      "Madam Speaker, a home is a haven where we feel safe, build memories and raise our families. It is the foundation of our lives and the place where we plan our futures, but for far too many Canadians, the dream of owning a home is completely out of reach. Even if someone works hard and does everything right, a home seems out of sight, and nine in 10 Canadians who do not own homes say they never will. \n",
      "In eight years under the Liberal Prime Minister, rent has doubled and mortgage payments have doubled, leaving so many to wonder how they will ever get ahead. \n",
      "All is not lost. Conservatives have a plan to build more homes and make housing more affordable. We will get rid of the gatekeepers preventing housing from being built, we will reverse the disastrous Liberal housing policies and we will tackle record-breaking inflation and rising interest rates. \n",
      "Conservatives will restore the dream that home ownership is indeed possible. It is time to get to work and bring it home.\n",
      "\n",
      "\n",
      "Steven MacKinnon\n",
      "\n",
      "Gatineau, QC\n",
      "Liberal\n",
      "\n",
      "Madam Speaker, this morning, I was thrilled to attend the launch of the Hydro-Québec Science Fair finale in the Outaouais region.\n",
      "Over the next two days, more than 50 students from the Outaouais region will be exhibiting their science projects. It is inspiring, to say the least.\n",
      "This science fair would not be possible without the invaluable support of the teachers in our region's schools. I want to say a huge thank you to them for engaging our youth in science.\n",
      "I would also like to thank Technoscience Outaouais, an organization that is doing excellent work to promote the fields of science, technology and innovation. We have a new generation of scientists who are making their mark, and I am very proud of them.\n",
      "I congratulate all the exhibitors and wish them success.\n",
      "\n",
      "\n",
      "Brian Masse\n",
      "\n",
      "Windsor West, ON\n",
      "NDP\n",
      "\n",
      "Madam Speaker, scandals in the sports world continue to plague our country. The scale of these abuses against athletes needs immediate attention. Athletes should have the right to participate in any sport free of maltreatment, abuse or harm. \n",
      "Today, I stand up for my constituents, some of whom are survivors of abuse and help shed light on the seriousness of the issue. \n",
      "I would like to thank Dr. Victoria Paraschak from the University of Windsor and many other advocates and sports organizations from across Canada working together to ensure the government recognizes the scope, urgency and importance of protecting our athletes from abuse in sport. They know we need a preventive approach to justice for survivors that examines these problems systematically, not on a case-by-case basis. \n",
      " I proudly stand, together with these leaders and survivors in sport, to request that the government call a judicial inquiry that is completely independent of sport and that outlines a clear and consistent approach that is fair and immediate for these survivors. Without this transparent mechanism available in the form of a judicial inquiry, we will continue to see complaints, maltreatment and no justice. \n",
      "It is time to protect our Canadian youth and athletes today.\n",
      "\n",
      "\n",
      "Marilène Gill\n",
      "\n",
      "Manicouagan, QC\n",
      "Bloc\n",
      "\n",
      "Madam Speaker, I have a little boy who wakes up before sun-up, who would eat nothing but shepherd's pie, cereal and ketchup if he could, and who likes to dunk his toys in my coffee cup, to the point where I have nearly swallowed several dinosaurs. My little boy will run the equivalent of several miles through the house, just for the sheer joy of it. My little boy knows neither fear nor danger and has never told me he loves me, but he looks at me with all the love in the world in his eyes.\n",
      "I have a little boy who is not different; he has autism. My little boy is unique, as we all are. With every move he makes, my boy lights up every room he walks into, as every person with autism does.\n",
      "On behalf of the Bloc Québécois, on World Autism Awareness Day, and as we do at every opportunity, I would like to shine a spotlight on all the joy these unique persons bring to our lives.\n",
      "\n",
      "\n",
      "Glen Motz\n",
      "\n",
      "Medicine Hat—Cardston—Warner, AB\n",
      "Conservative\n",
      "\n",
      "Madam Speaker, on April 1, the Liberal carbon tax will be increased to $65 a tonne. Unfortunately, that is not an April Fool's joke. This means the price of gasoline, home heating and other fuels will rise, making it even more expensive for Canadians to get to work, heat their homes or operate their businesses. Canadians already face a cost-of-living crisis and cannot afford more taxes.\n",
      "The Parliamentary Budget Officer reports that the carbon tax will cost the average family hundreds of dollars more than they receive back, and that is tens of thousands of dollars more for Canadian agricultural producers and small business operators.\n",
      "A recent survey of my constituents indicates that 78% support removing the carbon tax. Businesses are struggling with the extra burden of this tax and some are unsure if they will even be able to survive this year due to the rising costs.\n",
      "Overall, my constituents have no faith in the Liberal government's ability to offer hope for their financial stability or future prosperity. What Canadians need is a Conservative government that will axe the carbon tax.\n",
      "\n",
      "\n",
      "Francesco Sorbara\n",
      "\n",
      "Vaughan—Woodbridge, ON\n",
      "Liberal\n",
      "\n",
      "Madam Speaker, in the words of the newly installed Archbishop of Toronto, the Most Rev. Francis Leo, to our youth, “Do not be afraid of the world. Do not be afraid to give of your life in service for others. Do not be afraid to dream big dreams and to want to transform the world. Do not be afraid to commit to Jesus and to his Gospel. Do not be afraid to love the Church”.\n",
      "A week from today, Christians in Canada and around the world will observe the culmination of Lent, a time of prayer, fasting and almsgiving that prepares us for the resurrection of Jesus Christ.\n",
      "From Good Friday to Easter Monday, family and friends will gather to reflect on the values of sacrifice, good stewardship and copious love. This is a time of renewal and hope, when we give thanks for our many blessings and recommit to being there for one another, spread kindness and, yes, indulge in delicious Easter eggs.\n",
      "This Easter, I am thinking of the countless Christians who are persecuted around the world because of their faith.\n",
      " Buona Pasqua a tutti. Happy Easter.\n",
      "\n",
      "\n",
      "Pierre Poilievre\n",
      "Leader of the Opposition\n",
      "Conservative\n",
      "\n",
      "Madam Speaker, we can imagine the conversation between the Prime Minister and the minister: “Mr. Minister, how can we avoid being found guilty of breaking ethics laws? Oh, I know, Mr. Prime Minister, I will appoint my sister-in-law as the commissioner and we can discuss each case around the supper table. That's a brilliant idea. I like appointing our family members and friends as independent officers to investigate us.”\n",
      "There is just one problem. Having already appointed three people who are friends and members of the family, will they run out of family members and friends for these positions?\n",
      "\n",
      "\n",
      "Kevin Lamoureux\n",
      "Madam Speaker, the interim Ethics Commissioner is a career public servant who has served in a senior role in the Ethics Commissioner's office for more than 10 years, beginning when the Harper government was in office.\n",
      "\n",
      "\n",
      "Pierre Poilievre\n",
      "Madam Speaker, Liberals love to suck up to big, oligopolistic corporations that raise prices for consumers and make life less affordable. They get lots of support from the NDP for this corporatist agenda. Lately, the Liberals have been on a real ride. Today, they announced that they think there is too much competition in the wireless and Internet business and that they have allowed for a massive merger.\n",
      "When will the Liberals start standing up for consumers instead of standing up for price raising and high-cost corporate oligarchs?\n",
      "\n",
      "\n",
      "François-Philippe Champagne\n",
      "Madam Speaker, we will take no lessons from the Conservatives and their leader, that is for sure. We listen to Canadians, and I think they should do that more often. Canadians have told us one thing: they want lower prices. The way to have lower prices is through competition. The way to have more competition is to have a strong, fourth national player that will bring prices down. That is why the transfer of licence will go forward with 21 conditions. They have made a contract with Canadians, which is enforceable and with penalties. That is what Canadians want; they want lower prices.\n",
      "\n",
      "\n",
      "Pierre Poilievre\n",
      "Madam Speaker, despite that, the Liberals' policy on energy is to deliberately raise prices. At midnight tonight, 12:01 a.m. to be precise, the carbon tax will rise on gas, heat and groceries.\n",
      "The Liberals originally said it would cost less, but just yesterday, a report from their own Parliamentary Budget Officer demonstrated that 80% of Canadians will pay more in tax. On average, it will be $1,500 more. Tomorrow morning, they are going to wake up to higher prices. It is April Fool's Day and the joke will be on Canadians.\n",
      "Why will the Liberals not cancel this tax?\n",
      "\n",
      "\n",
      "Terry Duguid\n",
      "Parliamentary Secretary to the Minister of Environment and Climate Change\n",
      "Liberal\n",
      "\n",
      "Madam Speaker, as much as the bench opposite would like to deny it, climate change is real. Do members know what else is real? The cheques that will arrive in people's mailboxes over the next few weeks are real. This will mean $1,000 to residents in Manitoba. Those cheques will arrive quarterly. This is going to help with affordability. This is going to help with cash flow. The Conservatives are doing nothing for affordability and they are certainly doing nothing on climate change.\n",
      "\n",
      "\n",
      "Pierre Poilievre\n",
      "Madam Speaker, it has been three years since a killer went on a rampage in Nova Scotia. We now know of the incredible incompetence at the top of the RCMP that has raged on ever since the Prime Minister took office. He named an incompetent commissioner and has tried to destroy our national police force, with deadly consequences. Worse yet, the commission ignored the victims and he has done nothing to reverse the original cause of the violence in the first place.\n",
      "Will the Prime Minister reverse the damage he has done so Canadians can live in safety and peace?\n",
      "\n",
      "\n",
      "Pam Damoff\n",
      "Madam Speaker, although the work of the commission has concluded, we know that the grief and loss of the families and communities will remain forever.\n",
      "Yesterday, we received the report from the commission. It is a road map to pursue necessary changes, whether within the RCMP or in regard to semi-automatic firearms or gender-based violence. We will work closely with all involved to pursue these reforms, because that is what Canadians expect and deserve.\n",
      "\n",
      "\n",
      "Pierre Poilievre\n",
      "Madam Speaker, on Tuesday, I said there was a crisis with stabbings across the country. People are being stabbed in broad daylight. The Prime Minister stood up and said not to worry; he is going to ban hunting rifles, even though it is knives that do stabbings, not hunting rifles. It is not the Inuit hunter in Nunavut who is causing stabbings in downtown Vancouver.\n",
      "All of these facts angered and frustrated the Prime Minister. He became visibly upset and ran out the back door. He has not been back since. The Prime Minister was obviously frightened and concerned by that debate—\n",
      "\n",
      "\n",
      "The Assistant Deputy Speaker (Mrs. Alexandra Mendès)\n",
      "The hon. Leader of the Opposition knows the rules and that we do not mention the presence or absence of members in the House.\n",
      "\n",
      "\n",
      "Pierre Poilievre\n",
      "Madam Speaker, is the Prime Minister okay, and will he ever be back in the House of Commons to debate me?\n",
      "\n",
      "\n",
      "The Assistant Deputy Speaker (Mrs. Alexandra Mendès)\n",
      "I asked the hon. member to be wary of the rules, and the hon. member repeated comments that he knows are against the rules. We will take one question out of the next round of Conservative questions.\n",
      "The hon. member for Manicouagan.\n",
      "\n",
      "\n",
      "Marilène Gill\n",
      " Madam Speaker, the IPCC has just tabled its synthesis report on climate change, which it called a “survival guide for humanity”.\n",
      "Greenpeace said, “This is the final warning...for this decade [which] will have impacts for thousands of years”.\n",
      "However, the federal budget still provides at least $37 billion in fossil fuel subsidies. Ottawa is still trying to greenwash pollution from dirty energy.\n",
      "When will the federal government realize that its short-sighted budgets risk ruining the planet for thousands of years?\n",
      "\n",
      "\n",
      "Terry Duguid\n",
      "Madam Speaker, all members of this House know that we are working very hard to reduce emissions from the oil and gas sector. We are going to be capping oil and gas emissions. We will be implementing a clean fuel standard and a clean electricity standard. We are going to be investing in carbon capture and storage. Very importantly, we are going to be eliminating fossil fuel subsidies, and we are going to be doing that two years in advance of the predicted schedule.\n",
      "\n",
      "\n",
      "Marilène Gill\n",
      "Madam Speaker, not only does this budget not decrease fossil fuel production, but it relies on climate change for future fossil fuel extraction in the Arctic.\n",
      "Équiterre stated, “We are deeply concerned about planned investments in future Arctic offshore oil and gas development.”\n",
      " Greenpeace said, “We are concerned to see new subsidies for oil and gas companies making record profits.”\n",
      "When will Canada stop driving the planet into the ground for the benefit of oil companies?\n",
      "\n",
      "\n",
      "Randy Boissonnault\n",
      "Minister of Tourism and Associate Minister of Finance\n",
      "Liberal\n",
      "\n",
      "Madam Speaker, I thank my hon. colleague for her question. The fact of the matter is that the government has already invested over $100 billion in this country's clean economy.\n",
      "In the budget tabled this week, we committed to increasing the country's clean electricity capacity. We are going to harness hydrogen as another source of clean energy.\n",
      "We are here to build the economy of the future with Canadian workers, and we will continue to use—\n",
      "\n",
      "\n",
      "The Assistant Deputy Speaker (Mrs. Alexandra Mendès)\n",
      "The hon. member for New Westminster—Burnaby.\n",
      "\n",
      "\n",
      "Peter Julian\n",
      "\n",
      "New Westminster—Burnaby, BC\n",
      "NDP\n",
      "\n",
      "Madam Speaker, with prices skyrocketing, Canadians expect this government to work to make their life more affordable, but the Liberals have let families down time and time again.\n",
      "This time, they gave Rogers and Shaw the green light to continue gouging Canadians on their Internet and cellphone bills. We are already paying some of the highest prices in the world for these services. The Liberals are letting business leaders get rich at the expense of Canadian families.\n",
      "Why did the minister and the government let Canadians down?\n",
      "\n",
      "\n",
      "François-Philippe Champagne\n",
      "Madam Speaker, I thank my colleague for his question. However, I think he missed this morning's press conference. This morning, we said that Canadians asked us for one thing: to lower the price of telecommunications services in Canada.\n",
      "The best way to do that is to have competition, and we need a fourth national player to do that. Not only will we have a fourth national player, but we also imposed 21 conditions in an unprecedented contract with Canadians. We will be there to ensure that this contract is respected to lower prices in Canada.\n",
      "\n",
      "\n",
      "Brian Masse\n",
      "Madam Speaker, I know the minister has said he is going to watch this Frankenstein deal like a hawk, but he has left Canadian consumers to the buzzards. In fact, the minister has given the green light to Rogers and at the same time given the red light to his own industry committee and the Competition Bureau, which has been opposed to this. \n",
      "For decades, Liberal and Conservative governments have allowed these massive telco companies to make huge profits off the backs of hard-working Canadians. This is a disaster that will end with less competition, massive layoffs and higher prices. Why have the Liberals thrown in the towel, sided with the telco CEOs and stuck Canadian families with higher prices and the bill?\n",
      "\n",
      "\n",
      "François-Philippe Champagne\n",
      "Madam Speaker, I have enormous respect for my colleague, but when we gave the red light, we did not approve the transfer of licence from Shaw to Rogers. That was very clear. Instead, we listened to Canadians, something that everyone in this House should do. Canadians have told us one thing: Bring prices down and have more competition. The way to do that in Canada is to have a fourth national player. That is why we imposed conditions. We want lower prices for Canadians, and we will be watching them like a hawk.\n",
      "\n",
      "\n",
      "The Assistant Deputy Speaker (Mrs. Alexandra Mendès)\n",
      "The hon. member Dauphin—Swan River—Neepawa.\n",
      "\n",
      "\n",
      "Jeremy Patzer\n",
      "\n",
      "Cypress Hills—Grasslands, SK\n",
      "Conservative\n",
      "\n",
      "Madam Speaker, as farmers look to begin seeding, input costs—\n",
      "\n",
      "\n",
      "The Assistant Deputy Speaker (Mrs. Alexandra Mendès)\n",
      "I advised members that I was going to take out the next question from the Conservatives and I am taking it out. As members know, it is the prerogative of the Chair to determine who the next speaker is, and my prerogative is to choose the hon. member for Dauphin—Swan River—Neepawa.\n",
      "\n",
      "\n",
      "Dan Mazier\n",
      "\n",
      "Dauphin—Swan River—Neepawa, MB\n",
      "Conservative\n",
      "\n",
      " Madam Speaker, the Liberals are tripling their carbon tax, and tonight at midnight they will carry out their plan by raising the carbon tax again. Gas is going up, home heating is going up and groceries are going up.\n",
      " Gladys emailed me the other day saying that she cannot afford this tax hike. She said, “We cannot afford more useless taxes.”\n",
      "Will the Liberals stand up for Canadians like Gladys and cancel their plan to increase the carbon tax tonight at midnight?\n",
      "\n",
      "\n",
      "Terry Duguid\n",
      "Madam Speaker, the hon. member is from my home province of Manitoba and will know that Manitobans will receive $1,000 in climate rebate cheques over the next year. They will receive those cheques quarterly.\n",
      "The hon. member will also know that there is a cost to climate change. We in Manitoba have had two one-in-300-year floods, costing $1 billion each. Agriculture has been dramatically impacted. We have had 1,700 people driven from their homes due to floods. There is a cost to climate change and we are addressing—\n",
      "\n",
      "\n",
      "The Assistant Deputy Speaker (Mrs. Alexandra Mendès)\n",
      "The hon. member for Cypress Hills—Grasslands.\n",
      "\n",
      "\n",
      "Jeremy Patzer\n",
      "Madam Speaker, as farmers look to begin seeding, input costs are top of mind. They have already been losing tons of money under the carbon tax, but the Liberals are going to raise it again at midnight tonight.\n",
      "What makes it worse is that the Minister of Agriculture voted this week against an exemption for on-farm fuels. Even the Liberal chair of the agriculture committee voted with the Conservatives. He gets it, so why does the minister keep voting against farmers but is supporting the increase in the carbon tax at midnight tonight?\n",
      "\n",
      "\n",
      "Francis Drouin\n",
      "Parliamentary Secretary to the Minister of Agriculture and Agri-Food\n",
      "Liberal\n",
      "\n",
      "Madam Speaker, I am glad to hear my colleague talk about input costs. Input costs have risen, and not because of any taxes but because of demand. \n",
      "I hope the hon. member will support the budget, as we have increased interest-free advance payment programs by up to $350,000, something the Conservative members have supported in the past. I hope they will support the budget.\n",
      "\n",
      "\n",
      "Arnold Viersen\n",
      "\n",
      "Peace River—Westlock, AB\n",
      "Conservative\n",
      "\n",
      "Madam Speaker, the Conservatives know that technology, not carbon taxes, will improve our environment, yet every time the Conservatives question the carbon tax or point out the costs, the Liberals stand up and point out some person who has lost their house in a recent fire, flood or hurricane as a reason to raise the carbon tax. The carbon tax will only make these people poorer. \n",
      "The Liberals tell us that effective tonight, they will be raising the carbon tax again. When will they cancel this disastrous plan?\n",
      "\n",
      "\n",
      "Terry Duguid\n",
      "Madam Speaker, as I said yesterday, something is not sinking in. The climate rebate will make eight out of 10 families better off. That is in a PBO report.\n",
      "What will not leave people better off is investing in cryptocurrency. I gave the Leader of the Opposition two or three times to apologize for his very reckless advice to Canadians, but it really underlines that the opposition has no plan for the economy, no plan for the environment and certainly no plan for climate change.\n",
      "\n",
      "\n",
      "Colin Carrie\n",
      "\n",
      "Oshawa, ON\n",
      "Conservative\n",
      "\n",
      "Madam Speaker, while the Prime Minister stays in a swanky $6,000-a-night hotel struggling with just one butler, Sue, a senior in my riding, sees herself working three days a week. Why? It is because this costly NDP-Liberal coalition is set to raise its carbon tax again at midnight, meaning that Sue and all Canadians are going to pay more for heating, eating, driving and living. Perhaps it should focus on a real climate plan instead of punishing Canadians with a carbon tax.\n",
      "Why will this costly coalition—\n",
      "\n",
      "\n",
      "The Assistant Deputy Speaker (Mrs. Alexandra Mendès)\n",
      "The hon. Parliamentary Secretary to the Minister of Environment and Climate Change.\n",
      "\n",
      "\n",
      "Terry Duguid\n",
      "Madam Speaker, it is really puzzling. Every single person on that side of the aisle campaigned in 2021 on putting a price on pollution. Stephen Harper was in favour of a carbon tax before he was against it. The member for Wellington—Halton Hills made it the centrepiece of his leadership campaign in 2017. The MP for Pitt Meadows—Maple Ridge, as a member of the B.C. government, actually introduced the first carbon price in North America.\n",
      "The Conservatives need to stop flip-flopping, get serious about climate change and present their own plan.\n",
      "\n",
      "\n",
      "Gérard Deltell\n",
      "\n",
      "Louis-Saint-Laurent, QC\n",
      "Conservative\n",
      "\n",
      "Madam Speaker, tonight, 12:01 a.m. will spell very bad news for Canadians from coast to coast to coast. The Liberal carbon tax is going up.\n",
      "This is going to have a direct impact on every family in Canada, as the Parliamentary Budget Officer demonstrated yesterday, with numbers to prove it. Transportation, food, heating—they will all cost more.\n",
      "Why is the government once again punishing Canadian workers and families?\n",
      "\n",
      "\n",
      "Randy Boissonnault\n",
      "Madam Speaker, as my hon. colleague knows very well, the price on pollution does not apply in Quebec. Quebec is a leader in managing the clean economy.\n",
      "Every time we have cut taxes for workers, the Conservatives have voted against it, whether it was a tax rebate for workers or a tax cut for Canadians.\n",
      "With this budget, we already know that they are going to vote against workers. They are the ones voting against it, and we are the ones supporting Canadians.\n",
      "\n",
      "\n",
      "Gérard Deltell\n",
      "Madam Speaker, that clearly shows that this government is completely out of touch with reality.\n",
      " In a March 15 interview with the Journal de Québec, Groupe Robert, a well-established Quebec transport company, stated that this will have a direct impact on everything that comes from British Columbia, Alberta, Saskatchewan and Manitoba.\n",
      "Not only do the Liberals not know what they are talking about, but everything will cost more for all Canadians, including Quebeckers.\n",
      "\n",
      "\n",
      "Randy Boissonnault\n",
      "Madam Speaker, what we must be clear about is that climate change has a cost for Canadians.\n",
      "We all remember the wildfires in Fort McMurray. We all remember the floods in Calgary. We all remember the flooding that happened across the country.\n",
      "We must fight climate change. Economists have said that the best mechanism in our system is a price on pollution to combat climate change. That is what we are implementing. We will fight climate change.\n",
      "\n",
      "\n",
      "René Villemure\n",
      "\n",
      "Trois-Rivières, QC\n",
      "Bloc\n",
      "\n",
      "Madam Speaker, if there is one role that must be free from any and all appearance of conflict of interest, it is the Conflict of Interest and Ethics Commissioner.\n",
      "The Liberals are proving their total lack of judgment once again by appointing a minister's sister-in-law as interim commissioner. We are not questioning her competence or integrity. Cabinet is the one at fault for choosing to appoint a family member of one of their own.\n",
      "The appearance of conflict of interest is obvious. Even though they do not seem to know what a conflict of interest is, we are asking the Liberals to reconsider this appointment.\n",
      "Will they reconsider this appointment?\n",
      "\n",
      "\n",
      "Kevin Lamoureux\n",
      "Madam Speaker, I would emphasize that the interim Ethics Commissioner is a career public servant who has served in a senior role in the Ethics Commissioner's office for more than 10 years. That is beginning when the Harper government was actually in office.\n",
      "\n",
      "\n",
      "René Villemure\n",
      "Madam Speaker, this is just another in a long list of Liberal ethical lapses.\n",
      "They appointed one of the Prime Minister's neighbours from the cottage as special rapporteur on Chinese interference. They appointed a Liberal staffer to head the commission on Ottawa's protest convoy. Today, they appointed a minister's sister-in-law as Conflict of Interest and Ethics Commissioner.\n",
      "No one is questioning her qualifications. That said, there are 39 million Canadians out there, so why does every Liberal appointment always go to someone with Liberal Party connections?\n",
      "\n",
      "\n",
      "Kevin Lamoureux\n",
      "Madam Speaker, once again, I would like to put an emphasis on the importance of recognizing the fine work that our civil servants do. I would just say that the interim Ethics Commissioner who is being referenced is a career public servant. She has served in a senior role in the Ethics Commissioner's office for more than 10 years, beginning when the Harper government was in office. We owe a great deal to our professional civil servants.\n",
      "\n",
      "\n",
      "Ryan Williams\n",
      "\n",
      "Bay of Quinte, ON\n",
      "Conservative\n",
      "\n",
      "Madam Speaker, Canadians pay the highest cellphone prices in the world. In fact, Rogers telecommunications is the most expensive telecommunications carrier in the world. How expensive is it? It is three times as expensive as Australia and twice as expensive as the U.S. and Europe. The Rogers-Shaw deal will only make the priciest and the biggest company only bigger. We need more competition in Canada, which means not just a fourth carrier, but 40 carriers to supply more choice to Canadians, and lower prices. When will the minister get serious about competition instead of pandering to just one monopoly?\n",
      "\n",
      "\n",
      "François-Philippe Champagne\n",
      "Madam Speaker, I am very pleased with the question from my colleague. Perhaps he did not fully listen to the press conference this morning. If he looks at the contract the prices that we see in Quebec, which are on average 20% lower than in the rest of Canada, now will have to be offered in Ontario, Manitoba, British Columbia and Alberta. In addition to that, we got commitments to have a headquarters in Calgary, Alberta and 3,000 new jobs in western Canada. Canadians know that we have their backs and western Canadians understand that.\n",
      "\n",
      "\n",
      "Rick Perkins\n",
      "Madam Speaker, in fact, Videotron's prices are higher than Freedom Mobile's prices, so if Liberals really believed in competition they would have let a competitive bidding process happen for Freedom. The Liberals are in the back pocket of Rogers. They allowed Rogers to ignore three higher bidders from Freedom. These Liberals and the PMO were lobbied more than 60 times by Videotron and Rogers during the sales process, but did not meet once with any other bidder. Why did Rogers get privileged access to the Liberals that other bidders did not?\n",
      "\n",
      "\n",
      "François-Philippe Champagne\n",
      "Madam Speaker, I have enormous respect for my colleague and my critic. One thing he would know is that, as the regulator, they do not meet with the parties. That is a basic principle in due process. What Canadians, particularly western Canadians, understood this morning is that we have their backs because what they want is lower prices. The way to do that is to have competition and the way to do that is for a fourth national player. Members on the other side who may not have had a chance can read the contract with Canadians. That is the way that we bring lower prices in Canada.\n",
      "\n",
      "\n",
      "Rick Perkins\n",
      "Madam Speaker, the minister only needs to check the lobbyist registry to see more than 65 meetings with his department and the PMO. In December, this Liberal minister said he would not rule on the sale until the legal challenges were over. There is a legal challenge before the CRTC currently on this deal where Rogers is providing preferential rates to Videotron for access to its network that no other cellphone provider can get. Why has this minister flip-flopped on his commitment to wait for the legal challenges to be over? Is it because Rogers set today as the deadline?\n",
      "\n",
      "\n",
      "François-Philippe Champagne\n",
      "Madam Speaker, I am so happy that my colleagues ask questions. I look forward to more questions because one thing that people at home understand is that we are fighting every step of the way to bring prices lower in Canada. What we have achieved today is a new chapter in telecom in Canada. For the first time in Canada's history, more than 150 years, we have binding legal commitments by telecom in a contract with Canada to bring prices lower in Canada. It is this government that did that. Canadians know we have their backs. We will fight for them every step of the way.\n",
      "\n",
      "\n",
      "Bernard Généreux\n",
      "Madam Speaker, today the Minister of Innovation, Science and Industry announced the merger of Rogers and Shaw, communications companies, which forces Vidéotron, another company involved in the transaction, to lower its prices in Quebec. However, the other companies involved in this transaction were not forced to lower their wireless prices.\n",
      "Why?\n",
      "\n",
      "\n",
      "François-Philippe Champagne\n",
      "Madam Speaker, I thank my colleague for his question. It is fairly straightforward. We are the regulator and there are two parties involved, which is why we were able to get commitments from both Vidéotron and Rogers.\n",
      "There is one thing Canadians understand, and it is very simple. If Vidéotron adds pricing pressure in western Canadian markets, it will cause the other telecoms to lower their prices as well. Boosting competition brings prices down. That is exactly what we did today for Canadians.\n",
      "\n",
      "\n",
      "Charlie Angus\n",
      "\n",
      "Timmins—James Bay, ON\n",
      "NDP\n",
      "\n",
      "Madam Speaker, I have been speaking with energy workers, miners, auto workers and innovators who are more than ready to make Canada a world leader in clean energy, but to get cheap and renewable energy to market requires massive investments in the national energy grid.\n",
      " Now, New Democrats worked with this government and we have pushed this government to get serious about sustainable jobs that are tied to obligations for good union wages and apprenticeships. What kind of funding will the government put in place to build the electricity grid that Canadians need for a sustainable 21st century? \n",
      "\n",
      "\n",
      "Julie Dabrusin\n",
      "Parliamentary Secretary to the Minister of Natural Resources and to the Minister of Environment and Climate Change\n",
      "Liberal\n",
      "\n",
      "Madam Speaker, I am very happy that the member opposite asked that question, because this budget that we tabled this week shows exactly our commitment to a strong, sustainable electrical grid. We know that union workers and good-paying jobs are part of that work that we need to get done.\n",
      "We are supporting strong, sustainable jobs right across this country, and we know that our union workers are the backbone of the work we need to do.\n",
      "\n",
      "\n",
      "Laurel Collins\n",
      "\n",
      "Victoria, BC\n",
      "NDP\n",
      "\n",
      "Madam Speaker, Canadians want to see their government take leadership on tackling the climate crisis and creating good union jobs. New Democrats forced the Liberals to do just that in this year's budget, but more needs to be done. \n",
      "For eight years, the Liberals have missed the mark by handing out billions to rich oil and gas CEOs who are jacking up prices for people and polluting our planet. Will the Liberals finally stand up to big oil, eliminate fossil fuel subsidies and create a green industrial strategy?\n",
      "\n",
      "\n",
      "Seamus O'Regan\n",
      "Minister of Labour\n",
      "Liberal\n",
      "\n",
      "Madam Speaker, I think the budget speaks for itself. \n",
      "I would say “forced” is a little harsh. Some of us have been on this for quite some time, making sure that workers are at the centre of this energy transition that is occurring, which involves not only building up renewables but also lowering emissions in the oil and gas sector itself.\n",
      " It is Canada's largest industry. It is something that we cannot ignore. The only ones who know how to lower emissions, and the only ones who know how to build up renewables, are the workers in those industries. Not only do we support them, but we will insist that they lead this transition everywhere across this country.\n",
      "\n",
      "\n",
      "Brenda Shanahan\n",
      "\n",
      "Châteauguay—Lacolle, QC\n",
      "Liberal\n",
      "\n",
      "Madam Speaker, on International Transgender Day of Visibility, let us stand up for the protection and promotion of the human rights of people in Canada who are transgender, queer, non-binary and two-spirit. \n",
      "Can the Parliamentary Secretary to the Minister for Women and Gender Equality and Youth share what our government is doing to lift up transgender voices and be allies to the transgender community?\n",
      "\n",
      "\n",
      "Jenna Sudds\n",
      "Parliamentary Secretary to the Minister for Women and Gender Equality and Youth\n",
      "Liberal\n",
      "\n",
      "Madam Speaker, on this day, I am thinking of Emma Wakelin, a trans woman who shared that “It feels like every day we awake to a new law being proposed to strip us of our human rights, or more violence that extinguishes yet another trans life.” \n",
      "As the trans community members face attacks against their identity, dignity and existence, we, as a government, will continue to stand with them today and every day.\n",
      "\n",
      "\n",
      "Shannon Stubbs\n",
      "\n",
      "Lakeland, AB\n",
      "Conservative\n",
      "\n",
      "Madam Speaker, Liberals chose a top minister's family member as the interim Ethics Commissioner. Of course, they gave millions of tax dollars and contracts to close friends and staff's relatives. This Prime Minister is the only one ever to break ethics laws twice and some of his MPs have too, four more times, for vacations and perks for their pals. \n",
      "After eight years, Canadians have never struggled so much, but Liberals have never had it so good. Is that why the Liberals thought that Canadians would not see their ethics pick as anything other than trying to cover their own butts in the future?\n",
      "\n",
      "\n",
      "Kevin Lamoureux\n",
      "Madam Speaker, there is actually a very simple answer for the member opposite. The interim Ethics Commissioner is a career public servant who has served in a senior role in the Ethics Commissioner's office for more than 10 years, and that began when the Harper government was in office.\n",
      "\n",
      "\n",
      "Mel Arnold\n",
      "\n",
      "North Okanagan—Shuswap, BC\n",
      "Conservative\n",
      "\n",
      "Madam Speaker, we should all remember clam scam, when the then fisheries minister was found guilt of an ethics breach for awarding a $24-million licence to a company to be ran by his wife's cousin. Now the Liberals have appointed the same cabinet minister's sister-in-law as the Ethics Commissioner. Really?\n",
      "Can they only find family and insiders willing to work for them, or is this another attempt to censor disclosure of their ongoing ethics issues? Which is it?\n",
      "\n",
      "\n",
      "Kevin Lamoureux\n",
      "Madam Speaker, the Minister of Intergovernmental Affairs recused himself from all deliberations and decisions related to the appointment of the interim Ethics Commissioner.\n",
      "\n",
      "\n",
      "Michael Chong\n",
      "\n",
      "Wellington—Halton Hills, ON\n",
      "Conservative\n",
      "\n",
      "Madam Speaker, members of this House have worked for years on funding and governance for the Great Lakes Fishery Commission. As a result, the budget last year promised $44.9 million to DFO for the commission. However, every step of the way it seems like DFO is obstructing the will of Parliament. Last year, it dragged its heels in transferring that money to the commission. \n",
      "When will the President of the Treasury Board crack the whip and ensure DFO complies with the will of Parliament and best practices on governance? \n",
      "\n",
      "\n",
      "Jennifer O'Connell\n",
      "Parliamentary Secretary to the Minister of Intergovernmental Affairs\n",
      "Liberal\n",
      "\n",
      "Madam Speaker, it is interesting that the Conservatives raised this question, because it was in fact Conservative members who underfunded and did not increase funding to the Great Lakes Fishery Commission.\n",
      "There is good news. In this budget, we corrected the previous mistakes of the Conservatives—\n",
      "\n",
      "\n",
      "Some hon. members\n",
      "N/A\n",
      "N/A\n",
      " Oh, oh!\n",
      "\n",
      "\n",
      "Jennifer O'Connell\n",
      "They can continue to heckle me because they do not like the facts. The fact is that we are actually investing in our Great Lakes. We are going to continue to protect them, while the Conservatives allowed them to be underfunded and did not take the protection of our Great Lakes seriously.\n",
      "\n",
      "\n",
      "Michael Chong\n",
      "Madam Speaker, in the year before Russia's invasion of Ukraine, Canada was spending 1.28% of GDP on defence. According to NATO last week, in the year since Russia's invasion of Ukraine, Canada has spent 1.29% of GDP. I read the budget document, but I could not find any information about defence expenditure as a per cent of GDP over the next five years.\n",
      "Will the government commit to providing this very important information to the House as soon as possible?\n",
      "\n",
      "\n",
      "Bryan May\n",
      "Parliamentary Secretary to the Minister of National Defence\n",
      "Liberal\n",
      "\n",
      "Madam Speaker, the Canadian Armed Forces plays an essential role in defending Canadians and supporting global security. We have been consistent in supporting its work, starting with our 2017 defence policy, which increased spending by over 70%. \n",
      "In the past year, we have made new investments in Canadian national defence totalling more than $55 million. We are also undertaking a review of our defence policy in the face of a changing global environment. Rest assured that we will keep making necessary smart investments in our forces.\n",
      "\n",
      "\n",
      "Louise Chabot\n",
      "\n",
      "Thérèse-De Blainville, QC\n",
      "Bloc\n",
      "\n",
      "Madam Speaker, the budget proves that Ottawa has not learned from its mistakes. If there is one lesson to be learned from the pandemic, it is that EI is failing most people who lose their jobs. In spite of that, the government is abandoning the reform it has been promising since 2015. Even today, 60% of people who lose their jobs will be left with nothing, particularly seasonal workers, the self-employed and those in non-standard jobs.\n",
      "Why does the government still refuse to help people who lose their jobs?\n",
      "\n",
      "\n",
      "Irek Kusmierczyk\n",
      "Parliamentary Secretary to the Minister of Employment\n",
      "Liberal\n",
      "\n",
      "Madam Speaker, budget 2023 invests in seasonal workers so they have five additional weeks of coverage for a total of 45 weeks. Also, in budget 2023, we propose establishing a new independent tripartite board of appeal to hear cases regarding employment insurance claims. \n",
      "We know Canada's EI system is complex, and that is why we are focused on improving it. In the past two years, the minister has led more than 35 virtual, national and regional round tables with workers, employers and academics. EI reform is a priority of this government. We are on it and we will get it done.\n",
      "\n",
      "\n",
      "Louise Chabot\n",
      "Madam Speaker, the only thing Ottawa took away from the pandemic is debt. The budget passes that debt on to workers.\n",
      "Ottawa expects to collect an extra $24 billion in workers' EI premiums. However, the government is not putting that money towards EI reform. It is taking workers' money and using it to pay off $24 billion in pandemic debt.\n",
      "Why not use workers' money to protect them rather than paying off pandemic debt at their expense?\n",
      "\n",
      "\n",
      "Randy Boissonnault\n",
      "Madam Speaker, we have a great deal of respect for the workers in this country. We supported them during the pandemic. We take the entire EI system very seriously. The minister has been focusing on the modernization of the EI system. \n",
      "We will continue this work and we will have a solid plan to respond to workers' needs.\n",
      "\n",
      "\n",
      "Pat Kelly\n",
      "\n",
      "Calgary Rocky Ridge, AB\n",
      "Conservative\n",
      "\n",
      "Madam Speaker, the budget still allows the automatic tax increase to take place tonight on beer, wine and spirits. Under this Liberal government, simple pleasures like enjoying beer with friends after work or a bottle of wine over dinner with a loved one have become unaffordable luxuries for working Canadians.\n",
      "Will the government commit today to support my bill, Bill C-266, and cancel the automatic annual tax increase on beer, wine and spirits?\n",
      "\n",
      "\n",
      "Randy Boissonnault\n",
      "Madam Speaker, I have said it in the House already this week, and I will say it again. We listened to Canadians, we worked with the industry, we worked with our Liberal caucus, which leaned in on this issue, and we are going to pause the escalator tax on beer, wine and spirits for one year at 2%. It was going to be less than a cent for a can of beer, and now it is going to be even less for a can of beer.\n",
      "We are with the tourism industry. We are with this sector. We are going to support them. We have heard from Canadians. We made the right move.\n",
      "\n",
      "\n",
      "Pat Kelly\n",
      "Madam Speaker, we are in the middle of an affordability crisis. Any tax increase is too much. The tax was too high to begin with. There is no room for any more tax. The budget adds $4,200 in new costs for every Canadian family, more spending, more taxes, more debt. That means more inflation.\n",
      "Canadians cannot even afford basic necessities like food, housing and transportation, and tonight the tax on beer, wine and spirits is going up, just as it does every year automatically under the current government.\n",
      "Why will the Liberal government not commit today that it will cancel the automatic annual tax increase on beer, wine and spirits?\n",
      "\n",
      "\n",
      "Randy Boissonnault\n",
      "Madam Speaker, the Conservative opposition has a golden opportunity to support Canadians at a time of high inflation by supporting our budget. Conservatives have no record to stand on when it comes to taxes. When we lowered, not once, not twice but three times, taxes on middle-class Canadians, how did the Conservatives vote? They voted against. When we reduced taxes on workers, how did the Conservatives vote? They voted against. When we lowered taxes across the board, once again they voted against.\n",
      "They have a phobia of us supporting Canadians. Thank goodness, we have got Canadians' backs.\n",
      "\n",
      "\n",
      "Scott Reid\n",
      "\n",
      "Lanark—Frontenac—Kingston, ON\n",
      "Conservative\n",
      "\n",
      "Madam Speaker, the immigration minister's program to admit the families of language and cultural advisers who assisted our troops in Afghanistan has such rigid criteria that it will freeze out almost everybody it should be helping.\n",
      "For example, only those who were still in Afghanistan after July 22, 2021 are eligible, so this rules out the Afghans who were in the most dangerous parts of the country and who therefore had to flee their homes before the Taliban overran their regions. These family members are now trapped in third countries and are in danger of being transported back to Afghanistan, where they will be killed.\n",
      "Will the minister change these restrictive criteria to fix the mess he has created?\n",
      "\n",
      "\n",
      "Marie-France Lalonde\n",
      "Parliamentary Secretary to the Minister of Immigration\n",
      "Liberal\n",
      "\n",
      "Madam Speaker, I want to thank the hon. member for his advocacy. I have said it in the House, and I will say it again today: If it were a matter of will, there would be 40,000 Afghan refugees here already, but we know that in reality, with everything that has been happening, there have been challenges and obstacles. We are working very hard in addressing those, for instance through Bill C-41. There are a number of factors that we do not fully control, including safe passage.\n",
      "\n",
      "\n",
      "Sameer Zuberi\n",
      "\n",
      "Pierrefonds—Dollard, QC\n",
      "Liberal\n",
      "\n",
      "Madam Speaker, Canada's innovation and economic priorities are evolving. We will continue to prioritize clean growth, good jobs and investments for the future.\n",
      "Budget 2023 announced many innovative new measures that will enable Canada to play a leadership role on the international stage. Can the Minister of Innovation, Science and Industry tell us about these important measures?\n",
      "\n",
      "\n",
      "François-Philippe Champagne\n",
      "Madam Speaker, I thank my colleague for his excellent question, which gives me an opportunity to talk about the budget measures.\n",
      "My colleague is right. We have taken action to achieve our ambitious goals by introducing initiatives like a tax credit for clean technology manufacturing, a tax credit for clean hydrogen and a tax credit for electricity.\n",
      "The people I want to thank today are Canadian workers. It is thanks to their expertise, know-how and excellence that we are able to attract record investments to our country, like the recent investments by Volkswagen.\n",
      "\n",
      "\n",
      "Michael Cooper\n",
      "\n",
      "St. Albert—Edmonton, AB\n",
      "Conservative\n",
      "\n",
      "Madam Speaker, the cover-up continues. It has been a month since the Prime Minister's national security adviser and the director of CSIS committed to providing the dates on which the Prime Minister was briefed about Beijing's election interference. One month later, there is still no response. All the Prime Minister needs to do is check his calendar.\n",
      "When will the Prime Minister stop the obstruction, stop the cover-up and give us the dates?\n",
      "\n",
      "\n",
      "Jennifer O'Connell\n",
      "Madam Speaker, on the contrary, the PROC committee has been working diligently on this issue, continuing to hold more meetings to bring in more witnesses as opposition members have requested, and we support that. We will continue to work with the committee to find the most appropriate time, because the committee has other business as well, but this is a top priority to ensure that we are dealing with the issues of foreign interference, and we will continue to work hard on that.\n",
      "\n",
      "\n",
      "Luc Berthold\n",
      "\n",
      "Mégantic—L'Érable, QC\n",
      "Conservative\n",
      "\n",
      "Madam Speaker, ethics violations do not seem to be a problem for the Liberals, as long as they stay in the family.\n",
      "If there is any position where independence must not merely be presumed but be a certainty, it is that of Ethics Commissioner. Someone at the Office of the Prime Minister, however, thought that it would be a good idea to temporarily appoint a Liberal minister's sister-in-law to rule on the ethics of ministers in the Liberal government.\n",
      "When will the Prime Minister put a stop to his hypocrisy and revoke the interim appointment of the sister-in-law of his best friend, the minister?\n",
      "\n",
      "\n",
      "Kevin Lamoureux\n",
      "Madam Speaker, I will emphasize once again that the interim Ethics Commissioner is a career public servant who has served in a senior role in the Ethics Commissioner's office for more than 10 years, beginning when the Harper government was in office.\n",
      "\n",
      "\n",
      "Heath MacDonald\n",
      "\n",
      "Malpeque, PE\n",
      "Liberal\n",
      "\n",
      "Madam Speaker, families in my riding of Malpeque are benefiting from important, significant savings thanks to our government's early learning and child care program, but they are concerned that in the future another government, like the one that campaigned against their child care program, would cut the program.\n",
      "Can the Parliamentary Secretary to the Minister of Families, Children and Social Development highlight to this House how it is supporting families across P.E.I. and also how we are progressing in enacting this important social program into legislation?\n",
      "\n",
      "\n",
      "Ya'ara Saks\n",
      "Parliamentary Secretary to the Minister of Families\n",
      "Liberal\n",
      "\n",
      "Madam Speaker, I am so glad to report that Prince Edward Island, as well as provinces and territories across the country, is taking important steps to make child care affordable for Canadian families. In fact, P.E.I. announced that it cut fees by 50% last December. Day care fees are coming down, and new spaces are being created. Wages are increasing for early childhood educators, and we know how critical this is, because the childhood educator workforce is the foundation of our system. We need to make sure that the people who take care of our children are respected and well compensated.\n",
      "\n",
      "\n",
      "Leah Gazan\n",
      "\n",
      "Winnipeg Centre, MB\n",
      "NDP\n",
      "\n",
      "Madam Speaker, the Mass Casualty Commission released a scathing report yesterday. It made clear that gender-based violence is not treated with the urgency and seriousness it deserves. To save lives, police must change the way they respond to reports of gender-based violence. We cannot remain idle. Lives are at risk. The government has an obligation to act with meaningful police reform, including addressing the culture of systemic racism within the RCMP.\n",
      " Will the Liberals implement these recommendations without delay?\n",
      "\n",
      "\n",
      "Jenna Sudds\n",
      "Madam Speaker, of course the tragic events in Nova Scotia nearly three years ago devastated the nation. Our government is working hard to ensure that every woman has the support she needs and a place to sleep each and every night. We continue to make investments to ensure that this is the case, including in the budget just announced the other day, with $160 million, starting this year, for women's programs to ensure we are supporting shelters and women fleeing violence.\n",
      "\n",
      "\n",
      "Alain Rayes\n",
      "\n",
      "Richmond—Arthabaska, QC\n",
      "Independent\n",
      "\n",
      "Madam Speaker, we have learned that the Governor General spent $700,000 on a four-day trip to Germany. This included more than $75,000 for four nights in the region's most luxurious hotels. This is on top of the $80,000 spent during another trip to the Middle East, just for in-flight meals for the Governor General and her 29 guests. This works out to $2,600 per person for food during the flight alone.\n",
      "That is obscene. Can the Prime Minister tell us whether he approves of that kind of spending? If not, has he taken the necessary steps to put an end to such wastefulness, once and for all?\n",
      "\n",
      "\n",
      "Greg Fergus\n",
      "Parliamentary Secretary to the Prime Minister and to the President of the Treasury Board\n",
      "Liberal\n",
      "\n",
      "Madam Speaker, it is very important to remember that the expenses related to this trip by the Governor General were similar to other trips made by previous governors general. We must always recognize that when the Governor General represents our country, she brings a delegation to represent the best of Canada on many issues.\n",
      "We are aware of this, as is the Governor General herself. She will continue to monitor her spending. \n",
      "\n",
      "\n",
      "Laila Goodridge\n",
      "Madam Speaker, I rise on a point of order. Today, during question period, the member for Pickering—Uxbridge said, “I am very concerned about the health of your baby” to me. It was an absolutely inappropriate and unparliamentary term.\n",
      "Quite frankly, I am proud to be here, 32 weeks pregnant, fighting for my constituents. I demand an apology.\n",
      "\n",
      "\n",
      "Jennifer O'Connell\n",
      "Madam Speaker, I am absolutely disgusted that the member opposite would outright lie, and yes, I am saying “outright lie”. I absolutely said—\n",
      "\n",
      "\n",
      "Some hon. members\n",
      " Oh, oh!\n",
      "\n",
      "\n",
      "The Assistant Deputy Speaker (Mrs. Alexandra Mendès)\n",
      "We do not use that language in the House, as the hon. member well knows. The same thing could be said in different ways.\n",
      "\n",
      "\n",
      "Jennifer O'Connell\n",
      "Madam Speaker, the exchange that happened was that the member opposite said to me, “You know, you don't have to be so mean all the time”, and I responded, “Like I care about your opinion of me.”\n",
      "For the member to actually use such a disgusting lie to try to defame—\n",
      "\n",
      "\n",
      "The Assistant Deputy Speaker (Mrs. Alexandra Mendès)\n",
      "The hon. member will be invited to rethink her choice of words. The hon. member will be invited to exercise judgment in the use of words, and please consider that it is not a parliamentary acceptable word.\n",
      " I would invite her to apologize and retract that word from the record.\n",
      "\n",
      "\n",
      "Jennifer O'Connell\n",
      "Madam Speaker, I will withdraw the word but the sentiment remains, that it absolutely did not—\n",
      "\n",
      "\n",
      "Some hon. members\n",
      " Oh, oh!\n",
      "\n",
      "\n",
      "The Assistant Deputy Speaker (Mrs. Alexandra Mendès)\n",
      "Withdraw the words—\n",
      "\n",
      "\n",
      "Some hon. members\n",
      " Oh, oh!\n",
      "\n",
      "\n",
      "The Assistant Deputy Speaker (Mrs. Alexandra Mendès)\n",
      " Order, order. This will be looked at in Hansard, to answer the hon. member for Fort McMurray—Cold Lake. We will get back to the hon. member on what happened.\n",
      "The hon. member for Mégantic—L'Érable on a point of order.\n",
      "\n",
      "\n",
      "Luc Berthold\n",
      "Madam Speaker, during question period, you decided to take out a question from the official opposition. Without calling your decision into question, I would like to ask the Table for clarification about the application of the decision. \n",
      "As you know, you have a list in your hands to help you announce the members who will be speaking. I do not believe that there is any standing order of the House that permits you to decide to take out a specific question based on a list provided to you. The list is there as a guide to make the House run smoothly.\n",
      "I would like the Table to tell us exactly how to proceed if such a situation were to arise again. I think we need to know. As you noted, it made the opposition members uneasy. We want to follow the rules of the House, as does the Leader of the Opposition. We need some clarification about how such decisions will be applied in future.\n",
      "\n",
      "\n",
      "Some hon. members\n",
      " Oh, oh!\n",
      "\n",
      "\n",
      "The Assistant Deputy Speaker (Mrs. Alexandra Mendès)\n",
      "I am sorry, I did not hear what was said.\n",
      "\n",
      "\n",
      "Laila Goodridge\n",
      "Madam Speaker, I think this is absolutely shameful. The comments that were just made by the member for Pickering—Uxbridge, yet again, denigrate women. We need to be supporting women in politics and not doing things like that.\n",
      "I asked for an apology. She has called me a liar in this chamber four times now today. This is absolutely inappropriate, and I demand an apology.\n",
      "\n",
      "\n",
      "Some hon. members\n",
      " Oh, oh!\n",
      "\n",
      "\n",
      "The Assistant Deputy Speaker (Mrs. Alexandra Mendès)\n",
      "Order. As I told the hon. member for Fort McMurray—Cold Lake, we will listen. I did not hear it right now. I was discussing—\n",
      "\n",
      "\n",
      "Some hon. members\n",
      " Oh, oh!\n",
      "\n",
      "\n",
      "The Assistant Deputy Speaker (Mrs. Alexandra Mendès)\n",
      " I do not dispute it. I am just saying that we will look at Hansard, and we will get back to the hon. member on what is found. I cannot rule on this right now. I have to wait until we look at what Hansard and the tapes will tell us.\n",
      "\n",
      "\n",
      "Leslyn Lewis\n",
      "\n",
      "Haldimand—Norfolk, ON\n",
      "Conservative\n",
      "\n",
      "Madam Speaker, justice does not only have to be done but also be seen to have been done in order to uphold the dignity of the House.\n",
      "When a member, four times, says something so patently offensive as calling another hon. member a liar, it must be dealt with. Our member said it once and was removed from the House. Justice has to be seen to be done in the House.\n",
      "\n",
      "\n",
      "Karen Vecchio\n",
      "\n",
      "Elgin—Middlesex—London, ON\n",
      "Conservative\n",
      "\n",
      "Madam Speaker, the member for Haldimand—Norfolk said it very well, and I do appreciate that. I just want to second what she said.\n",
      "\n",
      "\n",
      "Kevin Lamoureux\n",
      "Madam Speaker, prior to the interaction that took place, you were making a ruling on another point of order. I think it is best that you conclude the first point of order.\n",
      "I know there are one or two members who might want to address the second point of order raised, but maybe we can put to rest the first point of order and then go on to the second one.\n",
      "\n",
      "\n",
      "The Assistant Deputy Speaker (Mrs. Alexandra Mendès)\n",
      "Indeed, I will continue on the point of order raised by the member for Mégantic—L'Érable regarding the list used during oral question period. The lists provided by the parties are only used as a guide. The Chair has no obligation to follow them.\n",
      "After I decided to take out the question, I discussed the matter with the clerks. An exchange took place with the individuals working with the official opposition whip in order to reach an agreement. It is really at the Chair's discretion as to whether to follow the order on the list when taking out a question.\n",
      "The hon. member for Mégantic—L'Érable.\n",
      "\n",
      "\n",
      "Luc Berthold\n",
      "Madam Speaker, I understand, but I wanted to know one thing specifically. One of our members rose to speak when none of our other members were rising. However, you gave the floor to the next member on the list. That is why I think it is important to get clarification.\n",
      "The member we chose to ask the question was entitled, in my opinion, to ask it, because he was the only member rising to be recognized and able to ask the question.\n",
      "For your information, there should be no list, so you could not have asked the next member to rise in place of another, since this list normally does not exist, according to the rules.\n",
      "\n",
      "\n",
      "The Assistant Deputy Speaker (Mrs. Alexandra Mendès)\n",
      "The member is absolutely right. It is true that, technically, there is no list. There is just an agreement among the parties. That is why we consulted the whip's office to sort this out. Thank you.\n",
      "On the other point of order, the hon. member for Longueuil—Charles-LeMoyne.\n",
      "\n",
      "\n",
      "Sherry Romanado\n",
      "\n",
      "Longueuil—Charles-LeMoyne, QC\n",
      "Liberal\n",
      "\n",
      "Madam Speaker, I just wanted to clarify something on the original point of order. I was literally sitting in front of the member and heard the exchange. I can attest that what the member for Pickering—Uxbridge said was not what was said by the member opposite. I can attest that the member, in no way, ever referenced that, but I understand—\n",
      "\n",
      "\n",
      "The Assistant Deputy Speaker (Mrs. Alexandra Mendès)\n",
      "We are not going to debate what the initial point of order was, which is what happened during Oral Questions. It was more on the use of the words “liar” or “lies” afterward, which is truly the unparliamentary part of the issue.\n",
      "On the exchange that happened during question period, I did not hear what was said. We will have to go back to the recordings and Hansard. I am talking about the initial comments. I am not talking about the word “lies”. Everybody heard that, and that is certainly not parliamentary language.\n",
      "The hon. member for Pontiac on the same point of order.\n",
      "\n",
      "\n",
      "Sophie Chatel\n",
      "\n",
      "Pontiac, QC\n",
      "Liberal\n",
      "\n",
      "Madam Speaker, I want to say that I was here too. Like my colleague, I clearly heard the words that were said. I am the mother of twins. I have been pregnant too. I do not understand how someone can exploit that for political purposes. Frankly, it is disappointing.\n",
      "\n",
      "\n",
      "The Assistant Deputy Speaker (Mrs. Alexandra Mendès)\n",
      "We are not debating the issue that gave rise to the point of order, but rather what followed. That is what needs to be addressed.\n",
      "We will continue, and I will come back to the hon. member with a resolution.\n",
      "\n",
      "\n",
      "Kevin Lamoureux\n",
      "Madam Speaker, pursuant to Standing Order 36(8)(a) I have the honour to table, in both official languages, the government's response to 10 petitions. \n",
      "These returns will be tabled in an electronic format.\n",
      "\n",
      "\n",
      "Karen Vecchio\n",
      "Madam Speaker, it is my privilege to present the sixth report of the Standing Committee on the Status of Women, entitled “A Step-by-Step Approach to Supporting the Mental Health of Young Women and Girls in Canada”. \n",
      "This was one of the most difficult studies the committee has done in my years in the House of Commons. It was done with incredible collaboration from the staff, including Alexie, Dominique, Clare and our new clerk Danielle, the incredible staff of members of Parliament who worked on this and everybody in the room. However, most of all, it was the 11 members of Parliament who sat around the table to make sure that we were presenting a study that was good for women and girls. We worked to make sure the recommendations are things that should be listened to.\n",
      "I thank my incredible colleagues for putting forward this unanimous report and putting the welfare of women and girls first.\n",
      "\n",
      "\n",
      "Brenda Shanahan\n",
      "Madam Speaker, I am honoured to present a petition signed by citizens of Chateauguay—Lacolle that has collected over 180 signatures and focuses on Canadian-based companies that contribute to human rights abuses and environmental damage around the world. Unfortunately, people who protest these abuses and stand up for their rights are often harassed, attacked or killed.\n",
      "The petition calls on the House of Commons to pass human rights and environmental due diligence legislation that would require companies to prevent negative impacts throughout their global operations and their supply chains and require companies to exercise and report on due diligence.\n",
      "I would like to thank Linda Bergeron, Micheline St-Arnaud and Josianne Leblanc for their long-standing work on this important issue.\n",
      "\n",
      "\n",
      "Brian Masse\n",
      "Madam Speaker, I have two petitions to table.\n",
      "The first involves a sports inquiry. Over 700 petitioners have called for children and youth to have the right to participate in sports in Canada without maltreatment, abuse and harm. The athletes are asking the House of Commons to have judicial inquiry into the sports system. \n",
      "I would like to thank Victoria Paraschack, a retired professor in Windsor, for doing this across Canada.\n",
      "\n",
      "\n",
      "Brian Masse\n",
      "Madam Speaker, the second petition is with regard to taxation for those who work in the United States. Over 500 petitioners are affected by the tax rules of the Canada Revenue Agency and have almost double the tax. \n",
      "They are calling upon the Government of Canada to extend the commuters a full grant of foreign tax credits for the withholdings, to make sure the CRA's 2020 temporary international income tax relief from section VII become permanent and to enact measures that the U.S. companies employing Canadian commuters are not required to hold a separate Canadian payroll for their taxation as it affects our economy.\n",
      "\n",
      "\n",
      "Randy Hoback\n",
      "\n",
      "Prince Albert, SK\n",
      "Conservative\n",
      "\n",
      "Madam Speaker, I rise today to present 12 petitions signed by residents of my constituency and surrounding communities.\n",
      "The first seven petitions, signed by 1,287 residents, call upon the Parliament of Canada to stop the Liberal government's ban on hunting rifles.\n",
      "\n",
      "\n",
      "Randy Hoback\n",
      "Madam Speaker, the next four petitions, signed by 115 residents, call upon the Government of Canada to delay its expansion of medical assistance in dying.\n",
      "\n",
      "\n",
      "Randy Hoback\n",
      "Madam Speaker, the final petition, signed by 173 residents, calls upon the Parliament of Canada to remove the Prime Minister and his government from office.\n",
      "\n",
      "\n",
      "Brad Vis\n",
      "Madam Speaker, today I am pleased to table three petitions on behalf of constituents in Mission—Matsqui—Fraser Canyon.\n",
      "The first petition calls upon the government to repeal Bill C-21. Hunting has a long-standing history in Canada for both indigenous and non-indigenous Canadians, and needlessly revoking citizens' firearms erases and discounts our history and traditions.\n",
      "\n",
      "\n",
      "Brad Vis\n",
      "Madam Speaker, the second petition calls upon the government to do more to combat human trafficking.\n",
      "Petitioners are particularly displeased about the egregious action the Government of Canada took in Bill C-5, which reduced sentencing and allows for house arrest for the crime of human trafficking. They want to see that aspect of Bill C-5 repealed.\n",
      "\n",
      "\n",
      "Brad Vis\n",
      "Madam Speaker, the third petition I am presenting today is calling upon the government to actually fulfill its commitment to allow for direct flights to Amritsar international through changes to the Canada-India Air Transport Agreement. We know the Government of Canada recently made amendments to the ATA with India, but it did not take that initial step of including Amritsar specifically in the agreement.\n",
      "\n",
      "\n",
      "Blake Desjarlais\n",
      "Mr. Speaker, it is a pleasure to table these petitions.\n",
      "I speak on behalf of Canadians who are calling for action on the opioid crisis. It is no secret to Canadians that the opioid crisis is one of the most deadly crises we are facing in Canada. During the period between January 2016 and March 2020, over 30,000 Canadians died to the opioid epidemic. \n",
      "These petitioners are calling for an end to the overdose crisis, ensuring that we have legal regulation of drugs, and ensuring the decriminalization of personal to end the stigma and save lives because we cannot, in fact, treat those who are dead.\n",
      "\n",
      "\n",
      "Blake Desjarlais\n",
      "Mr. Speaker, the second petition I am standing on behalf of is calling, on behalf of Canadians, for just transition legislation in the face of the climate emergency. It is no secret that the climate emergency is a serious issue here in Canada and across the world, and these petitioners are calling for action.\n",
      "\n",
      "\n",
      "Frank Caputo\n",
      "\n",
      "Kamloops—Thompson—Cariboo, BC\n",
      "Conservative\n",
      "\n",
      "Mr. Speaker, it is always a pleasure to rise on behalf of the people of Kamloops—Thompson—Cariboo.\n",
      "It is a tremendous honour to rise today and present petition e-4155 on behalf of the people from Kamloops—Thompson—Cariboo. This is a petition that advocates for a change to the Income Tax Act that would reflect community land trusts and beneficial tax interests for people who are donating land for the betterment of the community as a whole. This would be a game changer, when it comes to donations and building, to the benefit of all people in Kamloops—Thompson—Cariboo and throughout Canada.\n",
      "I want to thank the person who has been behind this drive with the Kamloops and District Chamber of Commerce and Colin O'Leary. I also want to thank Acacia Pangilinan and Brian Jones with the Kamloops and District Chamber of Commerce for their service. It is an honour to table this petition.\n",
      "Given that Kamloops was the birthplace of the tax-free savings account, I hope we can have something as significant as that.\n",
      "\n",
      "\n",
      "The Acting Speaker \n",
      "\n",
      "Mike Morrice\n",
      "Green\n",
      "\n",
      "I will remind members that they are meant to stick to the words on the petitions in front of them.\n",
      "The hon. member for Spadina—Fort York.\n",
      "\n",
      "\n",
      "Kevin Vuong\n",
      "\n",
      "Spadina—Fort York, ON\n",
      "Independent\n",
      "\n",
      "Mr. Speaker, I have the honour to present a petition from many concerned citizens of Toronto who are extremely upset by Harbourfront Centre's lack of public consultation in undertaking repairs to a cultural landmark. When Heritage Canada provided Harbourfront Centre with $20 million in repair and upgrade funding, it included the replacement of a much beloved and popular skating rink. Harbourfront, behind closed doors and without public consultation, decided to rip up this landmark's community skating rink.\n",
      "The petitioners call upon the Government of Canada to review its financial commitment to Harbourfront and its obligations. They also want the government to advise the centre that it has deviated from its initial goals and request the centre consult area residents on its new priorities, including maintaining the skating facility.\n",
      "I thank the petitioners, especially Carol McCanse, for their hard work on this important issue. Harbourfront Centre should throw open its doors and listen to the voices of our community and the taxpayers who provided this $20 million.\n",
      "\n",
      "\n",
      "The Acting Speaker \n",
      "I will again remind members they are meant to stick to the words written on the petition from petitioners.\n",
      "The next petition is from the member for Kanata—Carleton\n",
      "\n",
      "\n",
      "Jenna Sudds\n",
      "Mr. Speaker, I rise today to present two petitions from constituents in my riding.\n",
      "The first petition was signed by 25 constituents in my riding of Kanata—Carleton. They would like to see the federal government do more to protect consumers, and as a result, want to see consumers reflected in important policy, regulatory and legislated decisions. To that end, the petitioners are calling on the government to establish an independent Canadian consumer advocate who would be answerable to government.\n",
      "\n",
      "\n",
      "Jenna Sudds\n",
      "Mr. Speaker, the second petition I would like to present today is signed by 644 of my constituents, on Canada's democratic process. The petitioners are a group of passionate high school students from Earl of March Secondary School and these young people believe that youth possess the knowledge and experience to take part in the most important responsibility in a democracy and that is voting in elections.\n",
      "In this petition, they call on the government to lower the minimum voting age to 16.\n",
      "\n",
      "\n",
      "Jenny Kwan\n",
      "\n",
      "Vancouver East, BC\n",
      "NDP\n",
      "\n",
      "Mr. Speaker, I rise to table a petition calling on the Government of Canada to urgently end the legislative poverty that 1.5 million disabled Canadians live with every day and to establish a Canada disability benefit that upholds human rights and the UN Convention on the Rights of Persons with Disabilities.\n",
      "Two Vancouver East constituents, Harris Taylor and Jan Nathanson spoke with their neighbours to gather signatures and show the deep support in our community for lifting all disabled people out of poverty immediately.\n",
      "I hope the government will heed their call and that all parties will work collaboratively together to swiftly establish an adequate benefit.\n",
      "\n",
      "\n",
      "Cheryl Gallant\n",
      "\n",
      "Renfrew—Nipissing—Pembroke, ON\n",
      "Conservative\n",
      "\n",
      "Mr. Speaker, I have three petitions.\n",
      "The first is to ensure that Bill C-21 does not get passed. It was the RCMP incompetence that led to punishing farmers and hunters.\n",
      "\n",
      "\n",
      "Cheryl Gallant\n",
      "Mr. Speaker, we have a request to condemn the unscientific mandates that kicked heroic members of the Canadian Armed Forces out after years of service because they were unable to take the shots.\n",
      "\n",
      "\n",
      "Cheryl Gallant\n",
      "Mr. Speaker, I have an e-petition with over 1,000 signatures in support of the near surface disposal facility at the Chalk River Laboratories.\n",
      "\n",
      "\n",
      "Andy Fillmore\n",
      "Mr. Speaker, it is my honour to present a petition signed by over 800 Canadians from all 10 provinces and three territories, initiated by the African Nova Scotian Decade for People of African Descent Coalition.\n",
      "The petitioners call upon the House of Commons to pass a resolution for the Government of Canada to apologize for Canada's role in the enslavement of African people and their descendants, create legislation recognizing Black Canadians as unique groups and renew Canada's commitment to addressing the generational effects of enslavement, segregation and systemic anti-Black racism.\n",
      "The petitioners note that the UN has called for nations to acknowledge and apologize for the suffering and evils of the enslavement of African people and, as such, they urge the government to take action.\n",
      "\n",
      "\n",
      "Arnold Viersen\n",
      "Mr. Speaker, the first petition I have to present today is from Canadians from across the country who are celebrating the release of the Michaels from China. However, they want to raise the fact that there are still 115 Canadians being detained in China, including Huseyin Celil, who has been detained for over 5,000 days. The Chinese government is refusing to recognize Mr. Celil's Canadian citizenship and is denying access to family, lawyers and Canadian officials.\n",
      "The petitioners are calling on the government to demand that the Chinese government recognize Mr. Celil's Canadian citizenship, provide him with consular service and legal services in accordance with international law, formally state the release of Mr. Celil from Chinese detention and his return to Canada as a priority, and appoint a special envoy to work on Mr. Celil's release and to seek the assistance of the Americans and other allies around the world in obtaining Mr. Celil's release.\n",
      "\n",
      "\n",
      "Arnold Viersen\n",
      "Mr. Speaker, the next petition I have is from folks from across Canada who are concerned about the defence advisory panel's report on systemic racism and discrimination in early 2022. This report calls for clergy from religious organizations who have a different view than the government on gender and sexuality to be banned as chaplains in the Canadian Armed Forces.\n",
      "This report slanders mainstream Canadian religions as discriminatory, misogynist and sexist. All Canadians, including members of the armed forces, are entitled to charter right guarantees of freedom of religion.\n",
      "Therefore, the undersigned of this petition call for a rejection of these recommendations and an affirmation that all Canadians, including members of the armed forces, have the right to freedom of religion.\n",
      "\n",
      "\n",
      "Arnold Viersen\n",
      "Mr. Speaker, the final petition I present today is from petitioners from across Canada who are concerned about the Liberal Party's platform in 2021 denying the charitable status to organizations that have convictions about abortion which the Liberal Party disagrees with. This could jeopardize the charitable status of many hospitals, houses of worship, schools, homeless shelters and other charitable organizations that do not agree with the Liberal Party on this matter for reasons of conscience.\n",
      "Therefore, the petitioners are calling on the government to protect and preserve the application of charitable status on a politically and ideologically neutral basis, without discrimination on the basis of political and religious views nor the imposition of another values test, and to affirm the right of Canadians to freedom of expression.\n",
      "\n",
      "\n",
      "Kevin Lamoureux\n",
      "Mr. Speaker, I have had these concerns expressed to me personally as people are genuinely and legitimately concerned about what is happening in Bangladesh today.\n",
      "The concerns and allegations, which have been reported on in great detail, refer to the Bangladesh government's crackdown on opposition political parties, critical intellectuals, news media and journalists to shut their voices, take away their citizen and democratic rights, and forcibly remain in power. The government has also been accused of instituting a system of forced disappearance, extrajudicial killings, false lawsuits and all means of intimidation through its aligned forces and armed activists, dealing with issues such as corruption, rape, torture, killings, kidnapping and other undemocratic actions beyond one's imagination.\n",
      "The petitioners are asking the House of Commons to review the human rights violations and undemocratic actions of what is happening in Bangladesh and take all possible measures to support democracy, human rights and justice.\n",
      "\n",
      "\n",
      "Kevin Lamoureux\n",
      "Mr. Speaker, the following questions will be answered today: Nos. 1246 to 1252. \n",
      "\n",
      "\n",
      "Michael Kram\n",
      "\n",
      "Regina—Wascana, SK\n",
      "Conservative\n",
      "\n",
      "With regard to the government’s rejection of Sunwing Airlines’ application to hire 63 pilots, as testified by Sunwing Airlines’ president, Len Corrado, at the meeting of the Standing Committee on Transport, Infrastructure and Communities, on January 12, 2023: (a) what are the details of all discussions or meetings that took place regarding this application; (b) what departments, agencies, offices and individuals were involved in the review and rejection of this application; and (c) what supporting documents exist regarding this application, including, but not limited to, emails, texts, briefing notes, memos and reports, and what are the details of such documents?\n",
      "\n",
      "\n",
      "Irek Kusmierczyk\n",
      "Mr. Speaker, due to privacy considerations, Employment and Social Development Canada, or ESDC, does not disclose information regarding specific cases to anyone other than the employer and its authorized third parties.\n",
      "Every quarter, the temporary foreign worker program publishes the list of employers that were issued a positive or negative labour market impact assessment, or LMIA, decision through Open Government. Lists of employers are currently available from 2014 to Q3 of 2022, up to the end of September, at the following links: https://open.canada.ca/data/en/dataset/90fed587-1364-4f33-a9ee-208181dc0b97 and https://open.canada.ca/data/en/dataset/f82f66f2-a22b-4511-bccf-e1d74db39ae5.\n",
      "New quarterly data is typically published within three months following the completion of the final month of the quarter. Q4 of 2022, from October to December, is tentatively scheduled to be published by the end of March 2023.\n",
      "\n",
      "\n",
      "Michael Kram\n",
      "With regard to the government’s rejection of Sunwing Airlines’ application to hire pilots, as testified by Sunwing Airlines’ president, Len Corrado, at the meeting of the Standing Committee on Transport, Infrastructure and Communities, on January 12, 2023: why did the government reject the application?\n",
      "\n",
      "\n",
      "Irek Kusmierczyk\n",
      "Mr. Speaker, due to privacy considerations, Employment and Social Development Canada, or ESDC, does not disclose information regarding specific cases to anyone other than the employer and its authorized third parties.\n",
      "Every quarter, the temporary foreign worker program publishes the list of employers that were issued a positive or negative labour market impact assessment, or LMIA, decision through Open Government. Lists of employers are currently available from 2014 to Q3 of 2022, up to the end of September, at the following links: https://open.canada.ca/data/en/dataset/90fed587-1364-4f33-a9ee-208181dc0b97 and https://open.canada.ca/data/en/dataset/f82f66f2-a22b-4511-bccf-e1d74db39ae5.\n",
      "New quarterly data is typically published within three months following the completion of the final month of the quarter. Q4 of 2022, from October to December, is tentatively scheduled to be published by the end of March 2023.\n",
      "\n",
      "\n",
      "Laila Goodridge\n",
      "With regard to the government's response to the harms caused by tobacco and since November 4, 2015: has the government joined or participated in legal action against any tobacco companies in relation to the harm caused by tobacco usage, and, if so, what are the details of each case, including the outcome?\n",
      "\n",
      "\n",
      "Élisabeth Brière\n",
      "Parliamentary Secretary to the Minister of Mental Health and Addictions and Associate Minister of Health\n",
      "Liberal\n",
      "\n",
      "Mr. Speaker, the Government of Canada has not joined or participated in any legal action against any tobacco company in relation to the harm caused by tobacco usage since November 4, 2015.\n",
      "\n",
      "\n",
      "Laila Goodridge\n",
      "With regard to the government's response to the opioid crisis and since November 4, 2015: has the government joined or participated in any legal action against (i) Purdue Pharma, (ii) McKinsey & Company, (iii) any other pharmaceutical companies, in relation to how their activities may have contributed to the opioid crisis, and, if so, what are the details of each case, including the outcome?\n",
      "\n",
      "\n",
      "Élisabeth Brière\n",
      "Mr. Speaker, provincial and territorial governments, along with the Government of Canada, are part of the proposed class action commenced by British Columbia against 50 opioid manufacturers and distributors that allegedly acted inappropriately in the marketing and distribution of opioids. The defendant companies are listed in the attached addendum. One of those defendants was the Canadian entity of Purdue Pharma. In June 2022, British Columbia announced that it had reached a settlement with Purdue Pharma wherein Purdue agreed to pay $150 million for the Canadian governments’ claims. In December 2022, the B.C. court approved this Purdue settlement, as well as another out-of-court settlement negotiated by B.C. with the Roxane group of defendants. This legal action by British Columbia is ongoing as it relates to the remaining defendants, with multiple court hearings currently scheduled. British Columbia’s application to certify this proposed class action lawsuit in the B.C. Supreme Court is scheduled to be heard in the fall of 2023.\n",
      "Provincial and territorial governments, along with the Government of Canada, are also part of the proposed class action commenced by British Columbia against McKinsey & Company, which allegedly acted inappropriately in the course of providing consulting services to opioid manufacturers and distributors. British Columbia commenced this proposed class action on behalf of all Canadian governments in December 2021. This legal action by British Columbia is still at a very early stage and is ongoing.\n",
      "The list of defendants in British Columbia’s proposed class action is as follows: Sanis Health Inc., Shoppers Drug Mart Inc., McKesson Canada Corporation, Mylan Pharmaceuticals ULC, Sandoz Canada Inc., Apotex Inc., Apotex Pharmaceutical Holdings, Inc., Bristol-Myers Squibb Canada, Bristol Myers Squibb Company, Paladin Labs Inc., Endo Pharmaceuticals Inc., Endo International PLC, Endo ventures Ltd., Ethypharm Inc., Janssen Inc., Johnson & Johnson, Pharmascience Inc., Joddes Limited, Pro Doc Limitee, Le Groupe Jean Coutu (PJC) Inc., Purdue Pharma Inc., Purdue Pharma L.P., The Purdue Frederick Company Inc., Purdue Frederick Inc., Ranbaxy Pharmaceuticals Canada Inc., Sun Pharmaceutical Industries Ltd., Hikma Labs Ink., Hikma Pharmaceuticals PLC, Roxane Laboratories Inc., Boehringer Ingelheim Canada Ltd. or Boehringer Ingelheim Canada Ltee., West-Ward Columbus Inc., Teva Canada Innovation G.P.- S.E.N.C., Teva Canada Limited, Teva Pharmaceuticals USA, Inc., Teva Pharmaceutical Industries Ltd., Actavis Pharma Company, Valeant Canada LP or Valeant Canada S.E.C., Bausch Health Companies Inc., Imperial Distributors Canada Inc., Amerisourcebergen Canada Corporation, Kohl & Frisch Limited, Kohl & Frisch Distribution Inc., McKesson Corporation, Nu-Quest Distribution Inc., United Pharmacists Manitoba Inc., Procurity Inc., Procurity Pharmacy Services, Unipharm Wholesale Drugs, LPG Inventory Solutions and Normaco Inc.\n",
      "\n",
      "\n",
      "Michelle Ferreri\n",
      "\n",
      "Peterborough—Kawartha, ON\n",
      "Conservative\n",
      "\n",
      "With regard to the tender put out by the government on or around June 30, 2022, for chairs for passport offices: what are the details of the resulting contract, including the (i) vendor, (ii) value, (iii) number of chairs purchased, and the price per unit, broken down by type of chair, (iv) date the chairs were delivered, including the passport or government offices they were delivered to, (v) number of bids received?\n",
      "\n",
      "\n",
      "Irek Kusmierczyk\n",
      "Mr. Speaker, Employment and Social Development Canada, or ESDC, put out a tender around June 30, 2022, for chairs for passport offices. The details of the contract are as follows. With regard to part (i), the vendor is Ameublement Bureau Intérieur. With regard to part (ii), the contract value is $87,740. With regard to part (iii), a total of 801 chairs were purchased, of which 535 are without armrests and 266 are with armrests. With regard to part (iv), a total of 511 chairs were delivered to our ESDC warehouse in Montreal on July 15, 2022. A total of 290 chairs were delivered to the Passport Canada office in Ville Saint-Laurent on July 14, 2022. With regard to part (v), a total of two tenders were received.\n",
      "\n",
      "\n",
      "Adam Chambers\n",
      "\n",
      "Simcoe North, ON\n",
      "Conservative\n",
      "\n",
      "With regard to the government's response to Order Paper question Q-908 and the statement that approximately $320 million had been spent on integrity activities associated with various COVID-19 relief programs, as of March 31, 2022, and that approximately $556 million is estimated to be spent from fiscal year 2022-23 through 2025-26 on integrity activities associated with various COVID-19 relief programs: what is the return on investment, including the costs of the integrity activities, compared to the revenue collected as a result of such integrity activities, broken down by the each of the initiatives and costs listed in part (c) of the government's response to Order Paper question Q-908?\n",
      "\n",
      "\n",
      "Diane Lebouthillier\n",
      "Minister of National Revenue\n",
      "Liberal\n",
      "\n",
      "Mr. Speaker, with respect to the above-noted question, what follows is the response from the Canada Revenue Agency, or CRA, as of February 13, 2023, the date of the question.\n",
      "Regarding anticipated revenue collections, the CRA uses accrual accounting to report on administered activities. The CRA departmental financial accounting system for administered activities, the revenue ledger, collects information on amounts of benefits paid. Such amounts may be subject to redetermination due to integrity activities such as compliance reviews, adjustments and cancellations. Receipts and refund information are recorded in processing systems and cannot be traced back to specific integrity activities related to COVID-19 relief programs in the CRA revenue ledger.\n",
      "At this time, the CRA is unable to report on the recoveries in relation to the emergency benefits administered by the CRA, as it is developing its new reporting solution.\n",
      "For these reasons, the CRA is unable to respond in the manner requested with respect to return on investment.\n",
      "\n",
      "\n",
      "Dan Albas\n",
      "\n",
      "Central Okanagan—Similkameen—Nicola, BC\n",
      "Conservative\n",
      "\n",
      "With regard to the government's reaction to reports that U.S. customs and border officials are transporting migrants from Plattsburg, in New York State, to the Canadian border at Roxham Road: (a) when did the Canada Border Services Agency first become aware of these reports; (b) how long does the government estimate that this has been happening; (c) has the government taken any action to stop this from happening, and, if so, what are the details of the action, including (i) the date, (ii) who took the action, (iii) what specific action was taken; (d) since January 1, 2021, broken down by month, how many people crossed the border into Canada at Roxham Road; and (e) does the government have any estimates on the percentage of migrants who have crossed at Roxham Road, after receiving a ride to the border from a U.S. customs or border official?\n",
      "\n",
      "\n",
      "Pam Damoff\n",
      "Mr. Speaker, with regard to part (a), the Canada Border Services Agency, or CBSA, first became aware of bus tickets being distributed to asylum seekers on February 6, 2023, when they were reported in the media. The CBSA became aware of reports from the media about U.S. customs and border officials transporting migrants from Plattsburg to Roxham Road on February 7, 2023, when media asked the CBSA to comment on it.\n",
      "With regard to part (b), the CBSA is unable to provide an estimate regarding how long this has been happening.\n",
      "With regard to part (c), out of respect for the law and for the personal safety of individuals, we encourage anyone entering Canada to do so at an official port of entry. We continue to work closely with Canadian and U.S. partners to ensure the lawful, safe and humane treatment of asylum seekers while maintaining the security of our borders. U.S. Customs and Border Protection, or CPB, confirmed that it has opened an investigation into the potential involvement of U.S. officials in the movement of individuals to Roxham Road.\n",
      "With regard to part (d), CBSA systems do not extract data by specific locations. However, in the province of Quebec, the vast majority of people enter Quebec through Roxham Road.\n",
      "With regard to part (e), the CBSA does not have this information. CBP confirmed that it has opened an investigation into the potential involvement of U.S. officials in the movement of individuals to Roxham Road.\n",
      "\n",
      "\n",
      "Kevin Lamoureux\n",
      "Mr. Speaker, if the government's response to Questions Nos. 1245 and 1253 could be made orders for returns, these returns would be tabled immediately.\n",
      "\n",
      "\n",
      "The Acting Speaker \n",
      "Is that agreed?\n",
      "\n",
      "\n",
      "Some hon. members\n",
      " Agreed.\n",
      "\n",
      "\n",
      "Michelle Rempel\n",
      "\n",
      "Calgary Nose Hill, AB\n",
      "Conservative\n",
      "\n",
      "With regard to Public Services and Procurement Canada and the Integrity Regime, since November 4, 2015: (a) what are the details of any memorandums, briefing notes, or other similar type of documents which discussed the status of McKinsey & Company’s acceptability to receive contracts under the Integrity Regime, including, for each, the (i) date, (ii) sender, (iii) recipient, (iv) type of document, (v) title, (vi) file number; (b) does the government consider McKinsey & Company to have met the Integrity Regime’s definition of an ethical supplier; (c) has any government official ever raised the issue of McKinsey’s eligibility under the Integrity Regime, and, if so, what are the details of each instance, including (i) the date, (ii) who raised the issue, (iii) who the issue was raised with, (iv) the concerns raised, (v) the reason the concerns were dismissed; and (d) has the registrar received notification from McKinsey & Company per the Ineligibility and Suspension Policy of any criminal charges or convictions or other relevant circumstances with respect to any of their work abroad, and, if so, on what dates?\n",
      "\n",
      "\n",
      "Clifford Small\n",
      "\n",
      "Coast of Bays—Central—Notre Dame, NL\n",
      "Conservative\n",
      "\n",
      "With regard to the Department of Fisheries and Oceans: (a) what is the amount of northern cod that was caught and reported as bycatch, broken down by year for each of the last three years; (b) what is the breakdown of (a) by each country that is a member of the Northwest Atlantic Fisheries Organization; and (c) why were the northern cod and northern shrimp trawl surveys cancelled for 2023, and who made that decision?\n",
      "\n",
      "\n",
      "Kevin Lamoureux\n",
      "Mr. Speaker, I would ask that all remaining questions be allowed to stand.\n",
      "\n",
      "\n",
      "The Acting Speaker \n",
      "Is that agreed?\n",
      "\n",
      "\n",
      "Some hon. members\n",
      " Agreed.\n",
      "\n",
      "\n",
      "The Acting Speaker \n",
      "Is the House ready for the question?\n",
      "\n",
      "\n",
      "Some hon. members\n",
      " Question.\n",
      "\n",
      "\n",
      "The Acting Speaker \n",
      " The question is on the motion.\n",
      "If a member of a recognized party present in the House wishes that the motion be carried or carried on division, or wishes to request a recorded division, I invite them to rise and indicate it to the Chair.\n",
      "\n",
      "\n",
      "Rick Perkins\n",
      "Mr. Speaker, we request a recorded division.\n",
      "\n",
      "\n",
      "The Acting Speaker \n",
      "Pursuant to order made on Thursday, June 23, 2022, the recorded division stands deferred until Monday, April 17, at the expiry of the time provided for Oral Questions.\n",
      "\n",
      "\n",
      "Sherry Romanado\n",
      "Mr. Speaker, I am sure that if you canvass the House, you will find unanimous consent to see the clock at the start of Private Members' Business hour.\n",
      "\n",
      "\n",
      "The Acting Speaker \n",
      "Is that agreed?\n",
      "\n",
      "\n",
      "Some hon. members\n",
      " Agreed.\n",
      "\n",
      "\n",
      "John Aldag\n",
      " moved that Bill S-202, An Act to amend the Parliament of Canada Act (Parliamentary Visual Artist Laureate), be read the second time and referred to a committee. \n",
      "Mr. Speaker, it is a great honour to rise today in the House to speak to Bill S-202, an act to amend the Parliament of Canada Act to create a parliamentary visual artist laureate. This bill was first introduced and passed through the Senate by my good friend Senator Patricia Bovey. I would like to thank my friend and colleague, the MP for Bow River, for allowing me to take the lead at second reading of this bill.\n",
      "To provide some historical context, Bill S-202 was first introduced during the 42nd Parliament as Bill S-234 by Senator Wilfred Moore in 2016. It was adopted at all stages in the Senate before dying on the House of Commons Order Paper. It was subsequently reintroduced by Senator Bovey in the 43rd Parliament as Bill S-210 and then again after prorogation as Bill S-205.\n",
      "When this previous rendition was introduced, former MP Lenore Zann acknowledged artist Peter Gough of Nova Scotia, who was the originator of this wonderful idea. Sadly, Peter passed away before he could see his idea become reality. I should mention that the House heard several wonderful speeches here when MPs debated Bill S-205. It was clear that the House supported the bill, and it was very interesting to hear the importance of the arts from MPs of different parties.\n",
      "This bill has reached the House of Commons three times previously and at various points has received unanimous support. The most recent time this bill was before the House was in the 43rd Parliament. On the day this bill was to be voted on for the third time, Parliament was dissolved, and now I am able to bring this bill back again, hopefully for its final time, to see it through to its successful conclusion.\n",
      "Bill S-202 seeks to create the position of a parliamentary visual artist laureate. The artist laureate would be an officer of the Library of Parliament, similar to that of the parliamentary poet laureate position. The position of parliamentary poet laureate was created in 2001 through Bill S-10, which included similar amendments to the Parliament of Canada Act. Bill S-10 gathered broad support from senators, and in the House of Commons, Bill S-10 was supported by a majority of MPs.\n",
      "The selection process would consist of the Speaker of the Senate and the Speaker of the House of Commons acting together to select a parliamentary visual artist laureate from a list of three names reflective of Canada's diversity, including indigenous representation. These names would then be submitted by a committee chaired by the Parliamentary Librarian and composed of the director of the National Gallery of Canada, the Commissioner of Official Languages of Canada, the chairperson of the Canada Council for the Arts and the president of the Royal Canadian Academy of Arts, or their designates. As for the tenure of office, the parliamentary visual artist laureate would hold office “for a term not exceeding two years, at the pleasure of the Speaker of the Senate and the Speaker of the House of Commons acting together.”\n",
      "The mandate for this laureate position is to “promote the arts in Canada, through Parliament, including by fostering knowledge, enjoyment, awareness and development of the arts.” In carrying out their mandate, the laureate may “produce or cause to be produced artistic creations, at the request of either Speaker, especially for use in Parliament on occasions of state.” They may also sponsor artistic events such as art competitions or exhibitions. The laureate could also “give advice to the Parliamentary Librarian regarding the collection of the Library and acquisitions to enrich the Library’s cultural holdings”.\n",
      "In this bill, arts are defined as “drawing, painting, sculpture, printmaking, design, crafts, photography, videography and filmmaking.”\n",
      "\n",
      "\n",
      "The Acting Speaker \n",
      "On a point of order, I recognize the member for Edmonton West.\n",
      "\n",
      "\n",
      "Kelly McCauley\n",
      "\n",
      "Edmonton West, AB\n",
      "Conservative\n",
      "\n",
      "Mr. Speaker, this being such an important private member's bill, we should have quorum here.\n",
      " And the count having been taken: \n",
      "\n",
      "\n",
      "The Acting Speaker \n",
      "It is clear we have quorum in the House.\n",
      "\n",
      "\n",
      "Heath MacDonald\n",
      "Mr. Speaker, on a point of order, someone in the official opposition referred to us as rats. I think that is pretty unparliamentary.\n",
      "\n",
      "\n",
      "The Acting Speaker \n",
      "I did not hear that term. We will have to check Hansard for the use of that term. I will give a general reminder to be respectful, particularly as we close out this week of Parliament.\n",
      "I will return the floor to the member for Cloverdale—Langley City.\n",
      "\n",
      "\n",
      "John Aldag\n",
      "Mr. Speaker, going back to where I was, I would like to reference that arts are defined in this bill as “drawing, painting, sculpture, printmaking, design, crafts, photography, videography and filmmaking”.\n",
      "The contributions Canadians artists make to our society and our national identity cannot be overstated. Art comes in all forms, and this legislation's definition of art broadly encompasses what the artist laureate would be focused on.\n",
      "These last two years have been a trying time for Canadians. As we struggled through COVID, many of us turned to the arts to cope with the loneliness, fear and anxiety that came with the pandemic. The arts provided a respite during this time and continue to do so. We should keep in mind that Canada's arts community suffered these same symptoms and continued to produce works for us to enjoy.\n",
      "We should also keep in mind that the economic downturn affected our cultural community in quite a drastic manner. According to Hill Strategies Research Inc., between 2019 and 2020, over half of the businesses and organizations in the arts, entertainment and recreation sector saw a 50% loss in revenue. Performing arts and festivals lost over half of their revenues and some 35% of total jobs during that period. However, the arts are resurging and have been recovering slowly but surely. Canada's government has been there for the sector and will continue to do so. Canada needs a strong and vibrant arts sector.\n",
      "Part of the power of the arts is their way of breaking down barriers between people. Canada is a multicultural country, and art provides a creative outlet to help us understand each other. Artistic expression can be understood without the use of words, and this gives us the ability to learn and understand stories and perspectives across linguistic barriers. As Senator Bovey put it, “Artists have always depicted or discussed contemporary issues in their work and drawn attention to critical concerns. It is clear, for instance, that understanding each other will play a key role in reconciliation, for which cultural understanding is essential.” \n",
      "Allow me to take a moment now to explain why art is so important to me and to my constituents. There is a rich arts scene in my riding of Cloverdale—Langley City, sure to be excited about this amendment to the Parliament Act. I want to bring attention to Lucy Fournier’s mural work titled “The Sunshine Circle” for bringing community together. I also want to recognize Councillor Rosemary Wallace for creating an entirely free event called “Arts Alive”, which proves to be a very impactful experience for artists coming together to share, inspire, and connect each year in Langley City. \n",
      "In addition to the specific Cloverdale and Langley City art examples just mentioned, Surrey overall has a history of being a community that supports its artists. In 1964, the Surrey Art Society advocated for a centre for the arts in Surrey. The proposal was to build a space that would not only showcase the artistic talent in Surrey but also give space for artists to learn and hone their talents. The Surrey Art Gallery was built and is an important art space in Surrey. Additionally, the Arts Council of Surrey operates every day out of a repurposed fire hall, which further reinforces the history that the arts council has with the Surrey community.\n",
      "Is this not the power of art and creativity? The Arts Council of Surrey took an old building and gave it new life as a safe place for artists to express themselves in their own community. It has had markets for artisans and indigenous artists to sell their arts and crafts. This is just one example of how the arts are an integral part of Surrey and how it demonstrates how legislation like the one before us today, now more than ever, is so important.\n",
      "This past year, I had the pleasure of meeting Sandy Dimond. She had her first exhibition at the Surrey Art Gallery. Sandy only recently started painting after she retired from training horses professionally. It was something she had always played around with, but after she had some time on her hands, she finally picked up the brush full time. Sandy paints beautifully and her art ranges from trains making their way through the Canadian landscape, to horses she used to train, and to amazing landscapes. I personally love her painting of trees. The gallery showing was fantastic. \n",
      "When Sandy reached out to my office, she did not know if I would come. I had not met her before, but the arts are important to her and she wanted that shared with everyone. What she did not know was how important the arts are to me and my family. There were many who showed up to her gallery exhibition, including me, but also the mayor of Langley City, a member of the Fraser Valley Heritage Railway Society and local media. This shows again how important the arts are to Cloverdale—Langley City. \n",
      "The creation of a parliamentary artist laureate would build on the government’s support for the arts since 2015. The parliamentary visual artist laureate would complement these commitments by creating an opportunity to celebrate Canadian visual arts and artists, and projecting a—\n",
      "\n",
      "\n",
      "The Assistant Deputy Speaker (Mrs. Alexandra Mendès)\n",
      "That is very disturbing for the interpreters. Please have no phones on.\n",
      "\n",
      "\n",
      "John Aldag\n",
      "Madam Speaker, the parliamentary artist laureate would complement these commitments by creating an opportunity to celebrate Canadian visual arts and artists, and by projecting a global image of open-mindedness, creativity and innovation.\n",
      " Canadian artists from across the country, whether they be lifelong Canadians, immigrants or indigenous peoples, would benefit from having a parliamentary artist laureate here in Ottawa. The appreciation of the arts unites us, and in a multicultural country such as Canada, we should be promoting our many different forms of art at every given opportunity.\n",
      " In summary, supporting Bill S-202 recognizes the importance of visual arts to the Canadian creative economy, supports diverse artistic expression by Canadian artists, raises the profile of Canadian visual arts in Canada and abroad, and demonstrates that the government values the contributions made by contemporary Canadian visual artists.\n",
      "I look forward to the discussion we will have here today, and I am hopeful Bill S-202 will receive support from all the parties represented here in the House of Commons. I hope all members will join me in celebrating the arts in our country.\n",
      "\n",
      "\n",
      "Gabriel Ste-Marie\n",
      "Madam Speaker, I thank my hon. colleague for his speech, which was very interesting. During his speech, he reminded the House that similar bills have been debated in this place, but they never made it through the legislative process and never passed, because an election was called and a new Parliament began.\n",
      "Can the hon. member tell us if his government intends to call an election before this bill receives royal assent?\n",
      "\n",
      "\n",
      "John Aldag\n",
      "Madam Speaker, this is another great opportunity to talk about the importance of the arts in our country and the support our government gives to the artistic community. We have seen many investments made, particularly during the pandemic and through pandemic recovery, and I am sure we are going to see, through the support of the House, this legislation finally implemented. Therefore, we can then have a visual artist laureate who will help further celebrate the arts within Canada.\n",
      "\n",
      "\n",
      "Lori Idlout\n",
      "\n",
      "Nunavut, NU\n",
      "NDP\n",
      "\n",
      " Uqaqtittiji, I wonder, given that Canada is founded on indigenous peoples' lands, if this bill does pass, whether maybe the first laureate should be indigenous. Does my colleague agree?\n",
      "\n",
      "\n",
      "John Aldag\n",
      "Madam Speaker, I have the opportunity of working with my colleague on the indigenous affairs committee. Although I am new to it, it has been wonderful getting to know her and her passion for indigenous communities and the indigenous peoples in our country.\n",
      "As I noted in my speech, it would be important to have the diversity of our country represented. That includes indigenous artists. The selection committee would be drawing from a diversity of artists within the country. Although I would not be part of that selection committee myself, I strongly hope there would be an indigenous visual artist laureate. Perhaps that could be the first one.\n",
      "That is a wonderful suggestion and something for the eventual selection committee to consider.\n",
      "\n",
      "\n",
      "Brenda Shanahan\n",
      "Madam Speaker, I would like to thank my hon. colleague for his work on this bill, especially since we already tried to pass it at least twice. Could he talk a little about the influence that this person will have? How can this person help youth with their careers or their artistic aspirations?\n",
      "\n",
      "\n",
      "John Aldag\n",
      "Madam Speaker, the member and I have spoken previously about this legislation. She has a family member who is a visual artist, so I appreciate all her support for this.\n",
      "I think the intent of the position would be to create and curate art exhibitions, and bring forward the diversity within our country. I think the engagement with young people across the realm of cultures, including, as we heard previously, indigenous artists, would be so important in order to highlight the amazing diversity we have in this country and really engage young, aspiring artists.\n",
      "It can be a tough world. I spoke in my comments about some of the challenges artists have had during the pandemic and the recovery. It has always been a bit of a challenging world; I hear that from artists all the time. The importance of this position is to help bring attention every day to visual artists and not only the struggles but also the successes they have. I hope that would involve young Canadians as well.\n",
      "\n",
      "\n",
      "Kevin Waugh\n",
      "\n",
      "Saskatoon—Grasswood, SK\n",
      "Conservative\n",
      "\n",
      "Madam Speaker, I say good day to everyone. It is a pleasure to rise in the House this afternoon to talk about Bill S-202, an act that would amend the Parliament of Canada Act and that is better known as the parliamentary visual artist laureate.\n",
      "This Senate bill proposes to establish a new officer of the Library of Parliament called the parliamentary visual artist laureate and to give that position a term of up to two years. This new officer would be tasked with creating works of art for Parliament and engaging with visual arts communities from coast to coast.\n",
      "The Parliamentary Budget Officer assumes that the overall cost of a visual artist laureate would be in the neighbourhood of $100,000. This is based on the cost of the established parliamentary poet laureate position we already have. \n",
      "My Conservative colleagues and I support the arts in this country, as well as the culture and diverse heritage of Canada. Through my work over the past eight years on the Standing Committee on Canadian Heritage, I have had many opportunities to learn from Canadians and demonstrate that support. My colleagues on this side of the House and I, on the heritage committee, have heard many witnesses testify from the arts community who are struggling financially. We have made common sense suggestions to the government for legislation to support these artists in our country.\n",
      "Unfortunately, I have been disappointed by the lack of support by the Liberal government for online content creators; let us make no mistake, they are really artists themselves. Bill C-11 threatens some of these artists, and no amount of testimony or discussion has caused the government to even give this issue a second look. This is an avoidable mistake.\n",
      "Many artists came to committee to talk about the online streaming bill that gave them the opportunity to connect not only in their community and this country of Canada but worldwide. These are the same artists and creators who have made a name for themselves but are now being censored, and last night, the government moved closure on Bill C-11.\n",
      "The Senate looked over Bill C-11 for months and recommended 26 amendments. Even the Senate agreed that this was a huge issue in the red chamber. However, the government refused eight amendments that dealt with censorship. These are artists who may never have a chance to make $100,000 a year, but like this Senate bill, it is all about freedom of expression.\n",
      "It is interesting that Bill S-202 does not refer to it, because when another creative bill was being studied, it was all about limiting the freedom of expression. With regard to this legislation, Bill S-202, I will remain optimistic and open-minded. I will listen to members, who will no doubt deliver thoughtful remarks, and I will listen to all Canadians. However, I will remind everyone that it is Canadians who will bear the brunt of the cost of this bill, and I will listen closely to hear their thoughtful views. \n",
      "I regularly send information into my riding requesting feedback. I am never disappointed by the range of opinions and carefully considered comments we get back. I learn something every time we send out a mailer and interact with constituents. Canadians, as we all know, are very smart, and I trust them to make good decisions about how we spend their money here in Parliament.\n",
      "We will get the opportunity to hear from Canadians when this bill goes to committee. We will hear from witnesses and gather more information. For example, was there a demand for the creation of this position in the first place? What work is expected to be produced by the individual in this position? How would this individual be selected? Would the work produced reflect Canadian values we can be proud of? Are there any limitations on their work? \n",
      "Some of the questions we are talking about here today are about what we need to find out in committee. These are just a few important considerations. As we all know, Canada is rich in talent in every artistic field.\n",
      "I have been privileged to travel to every coast of this country, and I can say that Canadians are creating art every day in every way across this great country. My office in Saskatoon, in fact, is decorated with meaningful art pieces by talented Canadians, including my own wife, Ann.\n",
      "The late Bob Pitzel from Humboldt made a number of paintings that I have in Saskatoon and here in my Ottawa office, and I cherish them. Ann and I have supported artists for years by buying their treasures and helping non-profit organizations like Artists Against Hunger, which raises money for local charities in our city of Saskatoon.\n",
      "There is no shortage of creativity and talent in Canada. In fact, I had an opportunity to visit Stornoway just before Christmas. That is the residence of the Leader of the Opposition. On the wall, I was pleased to see a painting by the late Allen Sapp, an artist from Saskatchewan. It was a painting from his catalogue that I had tried to purchase for myself, but it was not available; then I saw it on the wall at Stornoway. I guess I cannot take that picture back home with me.\n",
      "Allen Sapp, who unfortunately passed away in 2015, was an indigenous artist; he really set the table in our province for art. In fact, in the city of North Battleford, there is a museum that all Canadians should go to. Allen Sapp was one of the finest painters that this country has ever seen.\n",
      "Could a collection of artists who are already creating art contribute their work in order to fulfill the goal of Bill S-202? I just throw that question out there. These are options that we might consider before creating a new exclusive post.\n",
      "This bill proposes mandating a visual artist laureate to promote arts here in Canada. Canadians have been doing this since the birth of this nation, some 150-plus years, without a mandate. Art is an amazing thing. Creativity does not need to be mandated.\n",
      "COVID was particularly difficult for artists in this country. It was difficult for everyone, but certainly in the area of the arts. Artists could not show their work, and it was very tough on them. We heard from them at heritage committee. This is a sector that I would like to hear from on the idea of a visual arts laureate. They would provide a level of understanding that should be heard.\n",
      "With the reckless spending and the runaway debt under the current government, it makes sense to hear from Canadians what they want. Do they feel this is value for money, or do they have other priorities for arts funding in this country? Is this the best way to support artists in Canada, and is it the best time to create new expenses?\n",
      "I would like to thank my hon. colleague from the other place, the senator from Manitoba, for this bill. I think we can all agree that members in the House support the arts, culture and diversity. There are many ways to support that priority in Canada.\n",
      " I would like to thank some of the artists from my city. There is the late Hugo Alvarado. Cam Forrester has a group in our city called Men Who Paint. It has several exhibitions. It is a fabulous group of artists in Saskatoon. It does tremendous work, and its members volunteer their time for workshops, which helps younger artists get involved.\n",
      "We have Cheryl Tuck Tallon. Ernie Scoles is indigenous, and he does so much in our city, like volunteering items for promotion at fundraising events. We also have Lorna Lamothe, Laurel Schenstead-Smith, Marian Phaneuf and I could go on.\n",
      "I thank members for their time on Bill S-202.\n",
      "\n",
      "\n",
      "Christine Normandin\n",
      "\n",
      "Saint-Jean, QC\n",
      "Bloc\n",
      "\n",
      "Madam Speaker, I am pleased to rise this last Friday before the break to speak to Bill S‑202, which would create the position of visual artist laureate for the House. I want to draw some parallels to something similar that we are already familiar with and that my colleagues mentioned, the position of poet laureate. I will even refer to some speeches that were made at the time. We will go back to 2001 when that position was created, and I will speak about certain differences and also certain similarities between the two positions.\n",
      " When the position of poet laureate was first created, the Bloc Québécois was concerned about the language issue. Indeed, a poem in its original language is never the same as its translation. We used to joke that in this chamber there are always two official languages, English and simultaneous translation.\n",
      "Other than the fact that we do not anticipate any linguistic issues with the visual arts, one of those differences is that the role being created does not have the same scope. Back when there was a poet, that person was asked to try to poetically express the rhythm of Parliament, which is in itself an enormous task, consisting of bringing our work to life artistically. However, the poet also faced a challenge to create works destined to be read in the House or during official events.\n",
      " In this case, the artist will have a somewhat different role. The artist will be able to produce works themselves, but they will also be able to cause work to be produced, sponsor artistic events, give advice to the Parliamentary Librarian, in particular, regarding acquisitions. They will also be able to perform such other related duties as are requested by the Senate or the House of Commons. The role of the future visual artist is, then, slightly different from that of the poet.\n",
      "The nature of the art will also be different. Poetry is a bit more limited in terms of scope, whereas, here, the visual arts can include drawing, painting, sculpture, printmaking, design, crafts, photography, videography and filmmaking. The choice of medium that the artist can use is much broader than words, which is what the parliamentary poet laureate uses.\n",
      "Our Conservative colleague mentioned the matter of cost. We are not really bothered by that because, for $100,000 a year, we expect the parliamentary visual artist to be much more cost-effective in terms of productivity than the Governor General, for example. The Bloc Québécois therefore does not feel the cost to taxpayers is an issue here, and we are hoping that the works that are produced will be a great source of inspiration for everyone.\n",
      "There are perhaps some things, however, that might bother me about the position. Art can be an extremely effective political weapon, so I hope that the position of visual artist will not be politicized. We do not want there to be a mandate to politicize the art, and we hope that the artist will have as much freedom as possible in their work.\n",
      "I am indulging in some wishful thinking about the artist's work. If their art is meant to reflect the diversity of Canada, I would hope that the diversity will include the fact that there is a francophone minority outside of Quebec and that Quebec itself is a francophone minority within Canada. That should not be forgotten; it is part of Canadian diversity. We dare to hope that this will be reflected in the artist's work. \n",
      "I was talking about politicizing art and here is an example. As recently as last December, we were in the midst of a pre-holiday discussion, if not storm, in the House about the role that the National Gallery had taken on in decolonizing art. There, in the middle of Riopelle's centennial year, members ruled out the idea of having an exhibition dedicated to this artist. When I talk about politicizing art, that is exactly what I am hoping will not happen with the role of the visual artist.\n",
      "I was also talking about the freedom that an artist has if we avoid giving mandates. I will take the liberty of quoting from a speech by Madeleine d'Alfond-Guiral, who spoke about creating the position of poet at the time. I understand that this speech earned her the biggest laugh from the current member for Montarville in the House. I have promised myself that I will look up the video excerpt of that speech someday. I would like to read a more serious portion of it.\n",
      " The second question concerns me most. Is freedom the poet's most precious asset? \n",
      " I know that it is for me, and there is no end to the number of people who have chosen to die for freedom. \n",
      " What about poets? Some of the greatest have mouldered in prison in the defence of freedom. As prisoners, they were no less free. Who can name a single poet who agreed to trade freedom for money or power? Honestly, I cannot think of one. \n",
      " It is true that Bill S-10 would give the poet laureate the great responsibility of writing poems to be read in parliament at official ceremonies. \n",
      " Could we conclude that the poet laureate is non partisan? Probably. And yet, it is hard not to imagine that finding oneself promoted to the position of poet laureate of parliament for two years would not of necessity create obstacles that, insidiously, would limit later speech and give it serious bias. \n",
      " How to be free when the choice of poet laureate would be made by a few persons, some of whom had received political appointments? As the saying goes, “Don't bite the hand that feeds you”. “Elementary, my dear Watson”. \n",
      "I hope that a mandate that would undermine their freedom would not explicitly or implicitly be imposed on the artist. \n",
      "Still, good things will result from creating this position. In the context of a pandemic that made life difficult for artists, it is a good thing to promote the work of artists. I will give a few examples. We know that, during the pandemic, many cultural events were cancelled and exhibit spaces were limited or even closed to the public. There were problems with funding for artists. Even artists experienced psychological distress because they were unable to work and earn a living with dignity.\n",
      "We know that the income of artists is often much lower than that of the rest of the population. Many live below the poverty line. There is still a power imbalance between broadcasters and artists. Their precarious financial situation worsened even before the pandemic. We may have lost our sense of philanthropy and desire to fund the arts.\n",
      "As to the precarious situation of artists, I think the beauty of the bill is that it sends a message to artists. I only hope that it will not be the only one and that arts funding will never be a partisan issue in the House, although that might just be wishful thinking. In this context, creating this position is a beautiful thing. I wonder what impact creating this position will have on the House of Commons.\n",
      " I want to quote two people who lived in very different eras. The first, Hippocrates, said, “Life is short, and art is long”. A more contemporary take on this comes from Bob Dylan, who said, “The purpose of art is to stop time”.\n",
      "We have an incredible ability in the House to play with time. We could say right now that it is June 23 at 2:00 p.m. and that we are all going home to celebrate our national holiday. We have a lot of latitude in the House when it comes to time, but we do not have the power to stop it entirely. Who knows, perhaps, with the arrival of the new visual artist in the House, we will have given ourselves one more way to play with time.\n",
      "\n",
      "\n",
      "Lori Idlout\n",
      " Uqaqtittiji, I am happy to rise today representing Nunavummiut on the importance of Bill S-202, an act to amend the Parliament of Canada Act, sponsored by the member of Parliament for Bow River in Alberta. The bill proposes to create a position called the parliamentary visual artist laureate. The person holding this position would then be an officer of the Library of Parliament, promoting the arts in Canada.\n",
      "Before I begin, I would like to acknowledge that today is National Indigenous Languages Day. I thank Her Excellency the Governor General for raising awareness on this day. Today on her website, she educated us about the word “ajuinnata”. Translated into English from her Nunavik dialect, ajuinnata “means to never give up, no matter how difficult the task ahead might be.” \n",
      "One word I will remind the House of is the word I start with every day in my speeches in the chambers. I say “Uqaqtittiji” all the time, and people still ask me what that means. Uqaqtittiji means the one who gives space to speak. The term has no gender attached to it, so when I say it, I do not need to worry if it is the member for Algoma—Manitoulin—Kapuskasing, the member for West Nova or the member for Brossard—Saint-Lambert sitting in the chair.\n",
      " To get back to Bill S-202, visual arts are an important expression of identity, both individually and collectively. Individual artists are lucky enough to have the talent and skills to express any and all of the emotions those of us who are less talented wish we could express. Indeed, I share gratitude for their talents.\n",
      "The collective identity comes from different backgrounds. Predictably, I will speak to the Inuit and indigenous contributions to Canada’s national identity. The contributions by Inuit and indigenous visual artists to Canada’s collective identity are vast and expansive. I have only to mention Qinnuajuaq, or as non-Inuit say her name, Kenojuak Ashevak, for members to imagine her beautiful owl prints, which are so commonly sold in museums today. Qinnuajuaq was said to have been born on October 3, 1927. She died on January 8, 2013.\n",
      "Qinnuajuaq was born in an igloo at a camp called Ikirasaq at the southern coast of Baffin Island. In the 1950s, Qinnuajuaq was sent to a hospital in Quebec City against her will after having tested positive for tuberculosis. Because of the adversity and strength she had, Qinnuajuaq became an icon for sharing her talents.\n",
      "When I mention Germaine Arnaktauyok, members can imagine the design on the iconic two-dollar coin that was issued by the Royal Canadian Mint in 1999. Germaine showcases the beauty of Inuit in her artwork. Germaine is an Inuk, and she has illustrated several books. I am inspired by her, as she always expresses the strength of Inuit in her works.\n",
      "I love the artwork of Tanya Tagaq. She is more well known for her modern throat singing, which is just as powerful as her visual art. The last time I watched Tanya perform, I had goosebumps. When I read her book, Split Tooth, I felt surrounded by her enthralling expressions. I look up to her for her courage and for being an Inuk warrior.\n",
      "Blake Angeconeb is a talented Anishnaabe artist who was commissioned by Google, and worked with Danielle Morrison, to commemorate the great works of Norval Morrisseau. Thinking of Norval always reminds me of discovering the use of his works in the iconic movie The Shining.\n",
      "Blake, by the way, has a great collection of works available on his website, including a description of Moving Forward, Together, which was commissioned by Bimbo Canada as part of a five-year commitment with the Gord Downie and Chanie Wenjack Fund. It is within “a Legacy Space to build cultural understanding, connections and a path to reconciliation between Indigenous and non-Indigenous peoples.”\n",
      "Another great visual artist is Christi Belcourt, a Métis visual artist who is best known for her acrylic paintings. Christi is an amazing activist. Through her works, she leads us to do better for our environment. I love particularly that she worked in solidarity with Inuit hunters from Pond Inlet and Arctic Bay and created “Respect Inuit or Leave”. This work was particularly important as it helped contribute to the protection of Inuit rights and values to protect the environment and wildlife surrounding Baffinland Iron Mines' proposal to expand its Mary River iron ore project, which is having a targeted impact on five communities in the Qikiqtani region.\n",
      "COVID-19 left such a huge impact on Canada and the world. Many artists were particularly impacted. According to research from Hill Strategies Research in October 2021, there was a 25% decrease in employment levels, including self-employment, in the arts, entertainment and recreation, higher than any other industry in 2020. Yet COVID-19 showed us just how important visual art is. As we all turned to Zoom, Teams and other software to join in meetings, we all became purposive in what we would show as our background. At one point, I remember specifically wanting to showcase the beautiful artwork of Madeleine Qumuatuq as she uses her surroundings to express her works, including the beautiful tundra she is surrounded by in Pangnirtung.\n",
      "If Bill S-202 passes, we must ensure that when the House of Commons Speaker and the Speaker of the Senate, acting together, select Parliamentary visual artist laureates, they are indigenous. Canada enjoys its diversity because of indigenous peoples. Canada enjoys its diversity on indigenous people's lands. Canada must express its commitment to ongoing reconciliation by ensuring that among its first Parliamentary visual artist laureates will be Inuit, Métis and first nations.\n",
      "\n",
      "\n",
      "Sherry Romanado\n",
      "Madam Speaker, before I begin my speech, I want to assure the member for Joliette that we are not planning to call an election this year.\n",
      "I am rising today to express my support for Bill S‑202, an act to amend the Parliament of Canada Act with regard to a parliamentary visual artist laureate. This bill recognizes that we do our best work as legislators when we are informed by many types of knowledge and that visual arts are included in the essential foundation of thinking and understanding that the Library of Parliament represents.\n",
      "As the official representative of the Library of Parliament, the visual artist laureate would create works of art, organize events and enrich the Library of Parliament's holdings in order to promote the arts in Canada. Like our poet laureate, who condenses big revelations into small constellations of carefully chosen words, a visual artist laureate would, through their creations, not only give us something new to see but also give us new ways of seeing things. We could certainly use that right now. \n",
      "I have had the privilege of serving Canadians in Parliament over the course of the COVID-19 pandemic, and the experience has allowed me to confirm, on a large scale, many of the ideas I have long held about the people living across this country: their resilience, their stamina, their care for one another and their incredible hard work. I have also seen some breathtaking reminders of Canadians' imagination and creativity, extraordinary artwork that has revitalized our hopes, enlivened our thinking and allowed us to remain connected to our common humanity despite the distance between us. \n",
      "While it is definitely not my goal to minimize the painful feelings of separation and isolation that so many Canadians experienced during the early days of the pandemic, I have had the pleasure of meeting many people who are making deep connections with each other that are not solely based on being in the same place at the same time.\n",
      "We bear witness to one other when we communicate what we really care about, and today we have many ways to convey those thoughts and feelings. Some choose new technologies, which have reached heights we never thought possible before the pandemic, but many people choose to do things differently. For example, the information communicated through a letter is very different from a live dialogue between two people.\n",
      "Similarly, the arts represent a beautiful language for expressing ourselves and showing others what gives meaning to our lives. Art is also a powerful means of expressing the important issues that are at the heart of our experiences. It is an extremely effective tool for understanding and resisting the tumultuous times we are living in and for imagining a better world.\n",
      "These new visions that Canadian artists could offer are not bound by the constraints of literal eyesight. Take Bruce Horak, for example, a Calgary-born visual and performing artist. He had a cancer in childhood that took most of his eyesight. Since then, he has been legally blind.\n",
      "Speaking of his journey to painting in one of a series of interviews with artists from the Disability Arts Movement, presented by Tangled Art + Disability and the Art Gallery of Ontario, Mr. Horak said, “People would ask me how I see, how I am able to do what I do with 9% vision, so I started painting portraits to try to capture the way I see the world. That includes auras and halos and floaters and a lot of distortions...I painted a portrait a day for a full year and really enjoyed the connection that happened between myself and my subject.”\n",
      "Since beginning this project in 2011, he has painted over 600 individual portraits from live and virtual sessions, giving his subjects the opportunity to see themselves in a new way. Similarly, the visual artist laureate could facilitate more of these perceptual transformations, changing how Canadians see themselves and demonstrating the inherent richness that every different way of seeing brings to our collective.\n",
      "That richness has so often been squandered, whenever different ways of seeing have been shut out, cut down or marginalized. We lawmakers must take action to see our country's problems from other perspectives. Our vision captures only a pinhole of the bigger picture. For us to make just laws, we must work harder at seeing everyone and everything as they truly are.\n",
      " In an inspiring artwork from 2019, Montreal artist Michaëlle Sergile used Maya Angelou's voice reciting The Mask, which is a mash-up of We Wear the Mask by Paul Laurence Dunbar, a 19th century Black poet, and Angelou's own poem For Old Black Men, to translate sound into something visible, tactile and entirely new.\n",
      " The sound waves of Angelou's masterful and devastating performance of this piece, which speaks to the pain and injustice Black people have had to mask with laughter, is mapped with a spectrograph into a visual pattern. It is then transformed again into something new and richly layered by weaving that pattern into a black and white mix of cotton, alpaca and acrylic, with these broad, shawl-like ribbons of Maya Angelou's voice in fabric, cascading down the gallery wall. How would it change us if we could literally wrap the sound of those words around our shoulders?\n",
      "A visual artist laureate could open up a gateway to transformative experiences such as these, not just for legislators, but for all Canadians.\n",
      "When Gabrielle Roy, one of the most celebrated authors of 20th century French-Canadian literature, asks, “Could we ever know each other in the slightest without the arts?”, she reminds us that certain parts of ourselves can only be reached by taking detours, through metaphors and representations, through poetry and art.\n",
      "No matter how many people we share our time and space with, we live most of our lives inside our own heads. I would never call this a small space, though. Our inner world is like an ocean, full of mysterious, undiscovered spaces.\n",
      "Even though most of us know the path that runs along the shore, we are not comfortable spending time on the other side of the sandbar, beyond where our feet can touch the bottom, all alone, deep underwater, under pressure, in the unfathomable valleys of our being.\n",
      "Still, it is in these strange and isolated places that artists create most of their work. Their creations allow us to escape the confines of our consciousness, if only for a brief moment, and see life through the eyes of another person, in order to connect the submerged continents that separate our many ways of being.\n",
      "We must take every opportunity to enjoy the discoveries we make on these introspective journeys and recognize the courage of artists who resist the pressure to explore the deepest parts of their souls. We must examine, with courage and curiosity, both the treasures and the ruins they bring to the surface, in order to better understand who we are and where we come from. We need to pass Bill S-202 and create the position of parliamentary visual artist laureate.\n",
      "\n",
      "\n",
      "Kelly McCauley\n",
      "Madam Speaker, I appreciate the opportunity to speak to this today. I want to thank my colleagues. There were a lot of really heartfelt speeches. I have asked the member before about when she opens her remarks. It was hilarious. It was a great story about the general neutrality of it, so I want to say thanks and to thank my colleagues today for some really great speeches. I hope that we could actually see that in other speeches, not just my own, going forward.\n",
      "I have limited time today, so I want to talk about some of the great events going on in my own city around art. However, before I do, I wish to point out that when we look at the Treasury Board contributions page for grants to the arts and culture, per capita, Alberta and Edmonton are receiving far less than other provinces are. I hope that the government will take a serious look at that and provide equal funding to the arts on a per capita basis.\n",
      "One of the programs we support is the Edmonton Opera. It does phenomenal work and provides a lot of jobs in the arts and culture industry, but we see a struggle for Alberta organizations to receive federal funding. I hope that the government will address that.\n",
      "I know that my time is very short, but I just want to talk about some of the things going on in Edmonton right now.\n",
      "People like to make fun of Edmonton. They call it “Deadmonton”. We actually have a coffee called Deadmonton coffee. They think it is kind of a backwater for arts and culture, but I think that people would be surprised by what goes on in our city.\n",
      "We are called the “Festival City” for a reason, with all the events going on in the summer. I just want to point out events for this week alone, and I am going to read out some of the things going on in Edmonton to do with visual arts.\n",
      "We have a paint night with Red Pepper Painting Parties, and that is at the Anvil Coffee House in the Ottewell area. We have a “Sip & Paint Night” with Viniology Art, which should be great because my wife is in the wine business, and being in politics, I am in the wine-drinking business. That is at the Stanhope Eatery just off of Whitemud.\n",
      "We have “Weekend with the Model” going on at Harcourt House. Again, this is all in just one weekend in Edmonton.\n",
      "We have a paint night with the Pub N Paint at Western Barcode. I want to bring out this specific location because it is in my riding. For people in Edmonton looking for something to do, it is at 20130 Lessard Road, so that is a free plug for Western Barcode in my riding.\n",
      "There is “Paint Night in the Secret Garden” going on at the Brew+Bloom Café.\n",
      "There is a great one at Pure Casino, and I love this one: “Art Battle Edmonton”. It is described as 12 artists, three rounds and one champion. That sounds like some artist Lord of the Flies-type event. I look forward to going to that.\n",
      "As well, actually going on tonight is “Gallery '23” at the Dinwoodie Lounge near the University of Alberta; it is a music, art and research event with formal dress. I can go if Air Canada actually obliges me, which I doubt. It has delayed me twice, and it looks like I am missing my connecting flight tonight. \n",
      "We see that this is, again, one small capsule of time in Edmonton. This is just in painting. Edmonton has a flourishing visual arts district and community as well, whether it is in video games or YouTube production.\n",
      "There are lots of events, and I am glad that the bill brought up this opportunity to perhaps celebrate and grow the arts industry. Again, I hope that we can approach arts and culture funding in Alberta, and I am sure, probably in the other western provinces, with a more fair and equitable funding process. That way, arts and culture in Alberta and especially in Edmonton West, where it is more important than the other areas, is treated fairly and equally as if they were perhaps in downtown Toronto or Vancouver.\n",
      "The jobs that they create in Edmonton and in Alberta are just as important as the jobs created in the rest of the country and just as important to the people of Edmonton.\n",
      "\n",
      "\n",
      "The Assistant Deputy Speaker (Mrs. Alexandra Mendès)\n",
      "The time provided for the consideration of Private Members' Business has now expired, and the order is dropped to the bottom of the order of precedence on the Order Paper.\n",
      " It being 1:41 p.m. the House stands adjourned until Monday, April 17, at 11 a.m. pursuant to Standing Orders 28(2) and 24(1).\n",
      "I wish everyone a happy Easter.\n",
      "(The House adjourned at 1:41 p.m.)\n",
      "\n",
      "\n",
      "{'Name': ['Ziad Aboultaif', 'François-Philippe Champagne', 'Gabriel Ste-Marie', 'Daniel Blaikie', 'Brad Vis', 'Chandra Arya', 'The Assistant Deputy Speaker (Mrs. Alexandra Mendès)', 'Marty Morantz', 'Mike Morrice', 'Kevin Lamoureux', 'Brad Redekopp', 'Adam van Koeverden', 'Blake Desjarlais', 'Andy Fillmore', 'Rick Perkins', 'John Aldag', 'Pam Damoff', 'Vance Badawey', 'Bernard Généreux', 'Laila Goodridge', 'Steven MacKinnon', 'Brian Masse', 'Marilène Gill', 'Glen Motz', 'Francesco Sorbara', 'Pierre Poilievre', 'Terry Duguid', 'Randy Boissonnault', 'Peter Julian', 'Jeremy Patzer', 'Dan Mazier', 'Francis Drouin', 'Arnold Viersen', 'Colin Carrie', 'Gérard Deltell', 'René Villemure', 'Ryan Williams', 'Charlie Angus', 'Julie Dabrusin', 'Laurel Collins', \"Seamus O'Regan\", 'Brenda Shanahan', 'Jenna Sudds', 'Shannon Stubbs', 'Mel Arnold', 'Michael Chong', \"Jennifer O'Connell\", 'Some hon. members', 'Bryan May', 'Louise Chabot', 'Irek Kusmierczyk', 'Pat Kelly', 'Scott Reid', 'Marie-France Lalonde', 'Sameer Zuberi', 'Michael Cooper', 'Luc Berthold', 'Heath MacDonald', \"Ya'ara Saks\", 'Leah Gazan', 'Alain Rayes', 'Greg Fergus', 'Leslyn Lewis', 'Karen Vecchio', 'Sherry Romanado', 'Sophie Chatel', 'Randy Hoback', 'Frank Caputo', 'The Acting Speaker ', 'Kevin Vuong', 'Jenny Kwan', 'Cheryl Gallant', 'Michael Kram', 'Élisabeth Brière', 'Michelle Ferreri', 'Adam Chambers', 'Diane Lebouthillier', 'Dan Albas', 'Michelle Rempel', 'Clifford Small', 'Kelly McCauley', 'Lori Idlout', 'Kevin Waugh', 'Christine Normandin'], 'Party': ['Conservative\\n', 'Liberal\\n', 'Bloc\\n', 'NDP\\n', 'Conservative\\n', 'Liberal\\n', 'Liberal\\n', 'Conservative\\n', 'Green\\n', 'Liberal\\n', 'Conservative\\n', 'Liberal\\n', 'NDP\\n', 'Liberal\\n', 'Conservative\\n', 'Liberal\\n', 'Liberal\\n', 'Liberal\\n', 'Conservative\\n', 'Conservative\\n', 'Liberal\\n', 'NDP\\n', 'Bloc\\n', 'Conservative\\n', 'Liberal\\n', 'Conservative\\n', 'Liberal\\n', 'Liberal\\n', 'NDP\\n', 'Conservative\\n', 'Conservative\\n', 'Liberal\\n', 'Conservative\\n', 'Conservative\\n', 'Conservative\\n', 'Bloc\\n', 'Conservative\\n', 'NDP\\n', 'Liberal\\n', 'NDP\\n', 'Liberal\\n', 'Liberal\\n', 'Liberal\\n', 'Conservative\\n', 'Conservative\\n', 'Conservative\\n', 'Liberal\\n', 'N/A', 'Liberal\\n', 'Bloc\\n', 'Liberal\\n', 'Conservative\\n', 'Conservative\\n', 'Liberal\\n', 'Liberal\\n', 'Conservative\\n', 'Conservative\\n', 'Liberal\\n', 'Liberal\\n', 'NDP\\n', 'Independent\\n', 'Liberal\\n', 'Conservative\\n', 'Conservative\\n', 'Liberal\\n', 'Liberal\\n', 'Conservative\\n', 'Conservative\\n', 'Green\\n', 'Independent\\n', 'NDP\\n', 'Conservative\\n', 'Conservative\\n', 'Liberal\\n', 'Conservative\\n', 'Conservative\\n', 'Liberal\\n', 'Conservative\\n', 'Conservative\\n', 'Conservative\\n', 'Conservative\\n', 'NDP\\n', 'Conservative\\n', 'Bloc\\n'], 'Affiliation': ['\\nEdmonton Manning, AB', '\\nSaint-Maurice—Champlain, QC', '\\nJoliette, QC', '\\nElmwood—Transcona, MB', '\\nMission—Matsqui—Fraser Canyon, BC', '\\nNepean, ON', '\\nAlexandra Mendes', '\\nCharleswood—St. James—Assiniboia—Headingley, MB', '\\nKitchener Centre, ON', '\\nWinnipeg North, MB', '\\nSaskatoon West, SK', '\\nMilton, ON', '\\nEdmonton Griesbach, AB', '\\nHalifax, NS', '\\nSouth Shore—St. Margarets, NS', '\\nCloverdale—Langley City, BC', '\\nOakville North—Burlington, ON', '\\nNiagara Centre, ON', \"\\nMontmagny—L'Islet—Kamouraska—Rivière-du-Loup, QC\", '\\nFort McMurray—Cold Lake, AB', '\\nGatineau, QC', '\\nWindsor West, ON', '\\nManicouagan, QC', '\\nMedicine Hat—Cardston—Warner, AB', '\\nVaughan—Woodbridge, ON', 'Leader of the Opposition', 'Parliamentary Secretary to the Minister of Environment and Climate Change', 'Minister of Tourism and Associate Minister of Finance', '\\nNew Westminster—Burnaby, BC', '\\nCypress Hills—Grasslands, SK', '\\nDauphin—Swan River—Neepawa, MB', 'Parliamentary Secretary to the Minister of Agriculture and Agri-Food', '\\nPeace River—Westlock, AB', '\\nOshawa, ON', '\\nLouis-Saint-Laurent, QC', '\\nTrois-Rivières, QC', '\\nBay of Quinte, ON', '\\nTimmins—James Bay, ON', 'Parliamentary Secretary to the Minister of Natural Resources and to the Minister of Environment and Climate Change', '\\nVictoria, BC', 'Minister of Labour', '\\nChâteauguay—Lacolle, QC', 'Parliamentary Secretary to the Minister for Women and Gender Equality and Youth', '\\nLakeland, AB', '\\nNorth Okanagan—Shuswap, BC', '\\nWellington—Halton Hills, ON', 'Parliamentary Secretary to the Minister of Intergovernmental Affairs', 'N/A', 'Parliamentary Secretary to the Minister of National Defence', '\\nThérèse-De Blainville, QC', 'Parliamentary Secretary to the Minister of Employment', '\\nCalgary Rocky Ridge, AB', '\\nLanark—Frontenac—Kingston, ON', 'Parliamentary Secretary to the Minister of Immigration', '\\nPierrefonds—Dollard, QC', '\\nSt. Albert—Edmonton, AB', \"\\nMégantic—L'Érable, QC\", '\\nMalpeque, PE', 'Parliamentary Secretary to the Minister of Families', '\\nWinnipeg Centre, MB', '\\nRichmond—Arthabaska, QC', 'Parliamentary Secretary to the Prime Minister and to the President of the Treasury Board', '\\nHaldimand—Norfolk, ON', '\\nElgin—Middlesex—London, ON', '\\nLongueuil—Charles-LeMoyne, QC', '\\nPontiac, QC', '\\nPrince Albert, SK', '\\nKamloops—Thompson—Cariboo, BC', '\\nMike Morrice', '\\nSpadina—Fort York, ON', '\\nVancouver East, BC', '\\nRenfrew—Nipissing—Pembroke, ON', '\\nRegina—Wascana, SK', 'Parliamentary Secretary to the Minister of Mental Health and Addictions and Associate Minister of Health', '\\nPeterborough—Kawartha, ON', '\\nSimcoe North, ON', 'Minister of National Revenue', '\\nCentral Okanagan—Similkameen—Nicola, BC', '\\nCalgary Nose Hill, AB', '\\nCoast of Bays—Central—Notre Dame, NL', '\\nEdmonton West, AB', '\\nNunavut, NU', '\\nSaskatoon—Grasswood, SK', '\\nSaint-Jean, QC'], 'Said': ['Madam Speaker, Canada is a safe haven for money laundering. It is a known fact, and it is getting worse by the day. \\nWould the minister be able to advise us of the following? First, how much would this bill limit or downsize the money laundering market in Canada and, second, what is the amount of money laundering in Canada that is known to the minister or the government?', \"Madam Speaker, my hon. colleague knows I have enormous respect for him, and I take it from his comments that he will be supporting Bill C-42.\\nThe genesis of Bill C-42 is to combat money laundering. It is to make Canada best in class. It is to make Canada a leader in the G7. The faster this House can pass Bill C-42, the better off we will all be. I dream that we could even do that by unanimous consent so that we can move to phase this in very quickly. The reason is that the longer we wait, the less we will be capable of fighting the fight that we need to fight, not only domestically but internationally. We want the public registry to be operational by the end of 2023.Madam Speaker, I want to thank my colleague. Every one of his colleagues holds him in high esteem, and he is always there to defend Quebec's interests and to help advance all financial matters and tax measures in the House.\\nOn behalf of the government, I want to note his support for Bill C-42, which is important, because the more time that goes by, the longer we delay implementing measures to combat fraud and various crimes.\\nTo answer his question, I will say that there are now 112 countries that have committed to implementing similar measures to combat illegal activities—that is, various types of fraud—and to ensure greater rigour and enable different organizations to identify the beneficial owners.\\nThe act provides for measures requiring heads of corporations to trace beneficial owners with a positive obligation to ask questions and obtain that information.\\nIt is clear that we will need to continue working with our partners around the world. Madam Speaker, I thank my colleague for his important question. This is an esteemed colleague who, I believe, is also prepared to move this bill forward quickly. As I was saying, it is in Canada's best interest for us to adopt such a framework.\\nMy colleague will have noticed that we ensured that this registry would be capable of what is known as interoperability. We chose to adopt a standard, in fact, the international standard, to enable this interoperability, not only with the registries that we hope the provinces and territories will adopt but also with international registries.\\nAs my colleague was saying earlier, there may be businesses located in other administrative regions. Canada is positioning itself as a leader. Obviously, the House will send a strong message to the provinces and territories. Consequently, I implore my colleagues from all parties to support this bill. I think we will be able to count on support from the NDP and the Bloc Québécois, as well as, I hope, our Conservative colleagues to take a step in the right direction so that we have measures to ensure transparency and allow us to fight tax evasion.Madam Speaker, I would like to thank my esteemed colleague for his contribution, and I think his words lead us to believe that the Conservatives will be supportive. \\nOn the first issue, there are some exemptions. One that comes to mind is around minors, for example, and other people who could be at risk when providing that information. What we need to know is that what would be public and searchable would be the name and address of the beneficial owner. What law enforcement authorities would have access to, in addition to that, would be the date of birth and citizenship. We can have a split to make sure that we provide as much relevant information as possible to the public and other entities to be able to search, but I would be open to see what we can do on that, with the caveat that we go fast. The number of exclusions is very limited and they are based on consultation.\\nWith respect to interoperability, my colleague will have noted that we developed and used the beneficial ownership data standard, or what we call BODS, which is the international standard, exactly to make sure we can have as many people as possible be able to contribute and ultimately provide the level of accuracy and searchability that we would want to see. \\nI welcome the member's contribution.Madam Speaker, my hon. colleague is a key member of our team and is always there to make sure that when it comes to financial matters, this government listens to different stakeholders.\\nWhat we see is a kind of compromise that we have been able to draw based on best practices, also with the OECD. What is going to be made public is the name and address. What law enforcement authorities will have access to is date of birth and citizenship.\\nThere are reasons for that in terms of discrimination and misuse of information. I think that, on balance, we strike the right balance in the act, but I take the member's point and I want to thank him for his contribution. He is a very esteemed member of our team.Madam Speaker, my hon. colleague mentioned a number of things that are really fundamental in illicit money being used in real estate, for example, in the city of Vancouver, which he mentioned.\\nI want to thank the member for being on board with Bill C-42. The best way to do more to combat illegal activities and increase corporation accountability is to adopt Bill C-42. How quickly are the Conservatives prepared to work with the government to put an end to money laundering in Canada and adopt Bill C-42?Madam Speaker, we will take no lessons from the Conservatives and their leader, that is for sure. We listen to Canadians, and I think they should do that more often. Canadians have told us one thing: they want lower prices. The way to have lower prices is through competition. The way to have more competition is to have a strong, fourth national player that will bring prices down. That is why the transfer of licence will go forward with 21 conditions. They have made a contract with Canadians, which is enforceable and with penalties. That is what Canadians want; they want lower prices.Madam Speaker, I thank my colleague for his question. However, I think he missed this morning's press conference. This morning, we said that Canadians asked us for one thing: to lower the price of telecommunications services in Canada.\\nThe best way to do that is to have competition, and we need a fourth national player to do that. Not only will we have a fourth national player, but we also imposed 21 conditions in an unprecedented contract with Canadians. We will be there to ensure that this contract is respected to lower prices in Canada.Madam Speaker, I have enormous respect for my colleague, but when we gave the red light, we did not approve the transfer of licence from Shaw to Rogers. That was very clear. Instead, we listened to Canadians, something that everyone in this House should do. Canadians have told us one thing: Bring prices down and have more competition. The way to do that in Canada is to have a fourth national player. That is why we imposed conditions. We want lower prices for Canadians, and we will be watching them like a hawk.Madam Speaker, I am very pleased with the question from my colleague. Perhaps he did not fully listen to the press conference this morning. If he looks at the contract the prices that we see in Quebec, which are on average 20% lower than in the rest of Canada, now will have to be offered in Ontario, Manitoba, British Columbia and Alberta. In addition to that, we got commitments to have a headquarters in Calgary, Alberta and 3,000 new jobs in western Canada. Canadians know that we have their backs and western Canadians understand that.Madam Speaker, I have enormous respect for my colleague and my critic. One thing he would know is that, as the regulator, they do not meet with the parties. That is a basic principle in due process. What Canadians, particularly western Canadians, understood this morning is that we have their backs because what they want is lower prices. The way to do that is to have competition and the way to do that is for a fourth national player. Members on the other side who may not have had a chance can read the contract with Canadians. That is the way that we bring lower prices in Canada.Madam Speaker, I am so happy that my colleagues ask questions. I look forward to more questions because one thing that people at home understand is that we are fighting every step of the way to bring prices lower in Canada. What we have achieved today is a new chapter in telecom in Canada. For the first time in Canada's history, more than 150 years, we have binding legal commitments by telecom in a contract with Canada to bring prices lower in Canada. It is this government that did that. Canadians know we have their backs. We will fight for them every step of the way.Madam Speaker, I thank my colleague for his question. It is fairly straightforward. We are the regulator and there are two parties involved, which is why we were able to get commitments from both Vidéotron and Rogers.\\nThere is one thing Canadians understand, and it is very simple. If Vidéotron adds pricing pressure in western Canadian markets, it will cause the other telecoms to lower their prices as well. Boosting competition brings prices down. That is exactly what we did today for Canadians.Madam Speaker, I thank my colleague for his excellent question, which gives me an opportunity to talk about the budget measures.\\nMy colleague is right. We have taken action to achieve our ambitious goals by introducing initiatives like a tax credit for clean technology manufacturing, a tax credit for clean hydrogen and a tax credit for electricity.\\nThe people I want to thank today are Canadian workers. It is thanks to their expertise, know-how and excellence that we are able to attract record investments to our country, like the recent investments by Volkswagen.\", \"Madam Speaker, I thank the hon. minister for this important bill and for his speech, which was very informative. We learned a lot, which is good. Obviously, the Bloc Québécois supports Bill C-42, and we are prepared to do what it takes to get it passed more quickly.\\nWe were concerned about respect for jurisdictions and the different securities, but everything is there. As the minister said, this has been a successful collaboration. As I told him, the registry has been online in Quebec since 9 o'clock this morning. The Government of Quebec is the first government in North America to do this.\\nI have a bit of a technical question. If company A is owned by company B, which is owned by company C, then we can track down who the beneficial owner is, but what happens if a company is in another less co-operative country where there is no automatic information sharing, such as a tax haven? Will Bill C-42 make it possible to identify the real owner?Madam Speaker, I thank my colleague for his speech. I want to point out that his French is very good, and tell him that I really appreciate the fact that he gave part of his speech in French.\\nI was also impressed with the quality of his speech and the research and thought that went into it. Like him, I recognize that Bill C‑42 is a step in the right direction, but that there is still much to do to tackle money laundering, crime and the use of tax havens.\\nMy colleague raised certain concerns. He spoke about possible amendments to be made to Bill C‑42 to improve it. I would like him to present them again and provide a brief explanation.Madam Speaker, what do the Panama papers, the Pandora papers and the Paradise papers all have in common? They are leaks that revealed who was hiding behind shell corporations in tax havens, those anonymous companies for which it would be otherwise impossible to determine actual ownership. Without those leaks, it was only possible to identify the names of the administrators, typically a big corporate law or accounting firm.\\nBy lifting the corporate veil, these leaks helped identify wealthy fraudsters hiding money from the tax man or criminals hiding dirty money out of sight. When it is impossible to identify who is hiding behind a shell company, that opens the door for profiteers and fraudsters of all kinds, people who refuse to pay their fair share of taxes at the expense of everyone else, people who recirculate ill-gotten gains in the real economy by hiding behind secret companies. It is not normal to need to rely on leaks, whistle-blowers, hackers or journalists to find out what is behind these companies. That information should be public.\\nThere is nothing like transparency for combatting fraud. That is essentially what Bill C-42 addresses. It amends the Canada Business Corporations Act to force the directors of federally incorporated businesses to report their real owners to Corporations Canada. Then, Corporations Canada can create a registry of the real company owners, a public registry that anyone can consult. Bill C‑42 will introduce a bit of transparency, which is a good thing. The Bloc Québécois supports the principle of Bill C‑42, and I encourage all parliamentarians to do the same.\\nBefore I get into the details of the bill, I want to tell members a secret. When I saw that the government had introduced a bill to amend the Canada Business Corporations Act, I was worried. As members know, business ownership and property rights fall under provincial jurisdiction. In Quebec, these things are governed by the Civil Code. Every province has its own securities commission. In Quebec, we have the Autorité des marchés financiers. \\nHowever, over the last several years, Quebec and the provinces decided to coordinate and harmonize their respective laws. Since they all have very similar legislation, registration with the Autorité des marchés financiers is automatically recognized by all of the provinces. That means that a Quebec company can easily raise capital and do business outside Quebec through mutual recognition under what is known as the passport system.\\nSince this works well, Ottawa has no reason to interfere, there is no need for federal securities regulations, and Quebec's jurisdiction over financial matters would be respected. Without that respect, we would likely see Toronto become the centre of financial activity at the expense of Quebec, particularly Montreal's financial sector.\\nHowever, this is viable only if governments continue to work together and essentially harmonize their laws. That is why I was concerned when I saw that the government wanted to change the Canada Business Corporations Act. If Ottawa acts unilaterally, as this government all too often does, if it has not aligned its efforts with Quebec and the Canadian provinces, if the laws are no longer similar, the mutual recognition system will not be as successful. Ottawa will then have the excuse it is looking for to justify its desire to centralize everything, as it has been trying to do for three decades. \\nHowever, I did breathe a huge sigh of relief when I saw Bill C-42. As I mentioned earlier, Bill C‑42 will establish a searchable public registry of the real owners of businesses. This commitment to transparency reflects a unanimous decision made at the G20. It has been implemented properly in Canada in a manner that respects each party, so I say bravo. The federal government and the finance ministers of Quebec and all the provinces have coordinated their efforts and agreed to work together, while respecting one another's independence.\\nIn 2017, they all independently agreed to change their respective laws to require companies to collect, in their own registries, the data needed to identify the real owners. At the federal level, this was done in June 2022 with the passage of Bill C-19, a budget implementation bill. This data is beginning to be collated and made available to the authorities in the event of suspected fraud.\\nIn 2018, they came to an agreement on how companies were to share this data with their respective governments and how the governments were to make the data public. That is what we are debating today. There was no need for federal standards where Ottawa would put itself in charge and tell Quebec what to do. Everything was done respectfully. \\nThe National Assembly of Quebec passed Bill 78 in June 2021. This legislation reflects the agreements made in 2017 and 2018. Quebec was the first government in America to pass such legislation. It is interesting that this debate is being held today, on March 31, 2023, because Quebec's Bill 78 goes into force today. Since nine o'clock this morning, the registry of real owners can be consulted in Quebec on the site of the Enterprise Registrar.\\n Since not all businesses have provided their information as yet, the search engine is not yet active, but it will be soon. It will be operational within the year. With the passage of Bill C‑42, the federal government will do the same for federally incorporated businesses. The provinces have passed or are preparing to pass similar legislation.\\nI see that members' statements will commence momentarily. I will continue my speech once we resume debate on this bill.Madam Speaker, I thank my hon. colleague for his speech, which was very interesting. During his speech, he reminded the House that similar bills have been debated in this place, but they never made it through the legislative process and never passed, because an election was called and a new Parliament began.\\nCan the hon. member tell us if his government intends to call an election before this bill receives royal assent?\", \"Madam Speaker, we know that a well-designed registry is needed to facilitate the enforcement of sanctions, as in the case of Vladimir Putin and his Russian oligarchs.\\nWe also know that it is important to ensure that the most wealthy Canadians pay their fair share. I am very pleased to see progress in that regard. We also know that the participation of the provinces and territories is vital to the success of this type of registry. Could the minister provide an update on the state of negotiations between the federal government and the provinces and territories?\\nDoes he have some idea of when all the provinces and territories will be contributing to the federal registry? Madam Speaker, I would like to thank the hon. member for Mission—Matsqui—Fraser Canyon for his remarks, both for their substance as well as for their tone. So far, this morning's debate has been a great example of what we could accomplish as legislators if we avoided the temptation of hyperbole and we focused on the content of legislation.\\nThe member talked a little about penalties and judging whether the penalties that are in the initial draft of the legislation are adequate. I wonder if he wants to speak a little more to that question. Perhaps he could give the House some sense of whether there are existing standards he thinks we should be looking to in order to come up with appropriate penalties and how we might determine adequate penalties.\", \"Madam Speaker, proposed subsection 21.\\u200d303(3), “Exemption on application”, notes, “the Director may choose to not make it available to the public, subject to any terms that the Director thinks fit”. Under proposed subparagraph 21.\\u200d303(3)(b)(iii), at the top of page 4, it says, “prescribed circumstances apply to the individual.” There is a lot of leeway in the bill, as it is currently written, for the director of Corporations Canada to determine what information could be exempt. \\nI am wondering if the government is open to some clarification or any type of schedule that we could develop to ensure that the maximum number of corporations that should be in the registry are in fact covered. I would also note that the points on interoperability with the province will likely need some clarification as well, just to ensure that the registry is in fact pan-Canadian.Madam Speaker, I thank the minister for tabling this bill today.\\nWe are here today to debate Bill C-42, an act to amend the Canada Business Corporations Act and to make consequential and related amendments to other acts. The government's stated objective in introducing this legislation is to protect Canadians against money laundering and terrorist financing, deter tax evasion and tax avoidance, and make sure Canada is an attractive place to conduct business.\\nThe Conservatives support the concept of a national public registry of beneficial owners of companies. This is an important tool in the fight against money laundering and terrorist financing. The Cullen commission in British Columbia has also called for the creation of such a registry. Created in 2019 by Premier John Horgan in response to four reports highlighting the alarming number of money laundering cases in my province, the Cullen commission made 101 recommendations. Recommendation 52 called on the province to work with its federal, provincial and territorial partners to ensure that, by the end of 2023, a publicly accessible, pan-Canadian corporate beneficial ownership registry is in place.\\nHowever, much can be done to improve this bill and guarantee that it is effective. The Conservatives believe that in order to reach the objectives of this registry, the bill must be amended. First, the government must work with the provinces and territories to ensure that it is a pan‑Canadian registry. Second, there must be harsher sanctions for contravening the Canada Business Corporations Act, or the CBCA. Third, the threshold for significant control must be lowered. Fourth, the functionality of the public registry must be clarified.\\nIn budget 2018, as the minister noted, the government amended the CBCA to introduce requirements for corporations to maintain a registry of individuals with significant control of the corporation. “Significant control” is defined as someone owning or controlling at least 25% of a corporation's shares. Budget 2022 added a requirement that corporations provide their registers to the government every year and to report any new information to the registry within 15 days. This bill would require Corporations Canada to make public some of the information collected under the 2022 reporting requirements.\\nConservatives have long called for more action to combat money laundering and terrorist financing, so it is good to see the bill tabled in Parliament today. However, as I noted in French, there are many gaps in the legislation, and it is our objective to see some concrete amendments and considerations brought forward to this bill at the committee stage.\\nI wanted to take a minute to talk about the impact and history of money laundering. For far too long, Canada has had a reputation as a safe haven for dirty money. Our current laws that in place to combat money laundering and the proceeds of crime are perceived internationally as being weak. This has led to a wave of dirty money being laundered in Canada, particularly in my home province of British Columbia. Casinos, real estate, businesses and more have long been used to launder money in B.C., and the RCMP, local law enforcement and FINTRAC, in some cases, have been almost powerless to stop it.\\nWhen the Panama papers were leaked in 2016, it was exposed that international criminals have long exploited the gaps in Canada's corporate beneficial ownership regulatory scheme to engage in corrupt conduct through federally, provincially and territorially administered corporations. Organizations such as Transparency International have been calling on Canada to create a public registry of corporate beneficial ownership for a long time. As I noted in French, the Cullen Commission in B.C. has also called for this registry. Among the recommendations was a pan-Canadian registry to be established in 2023.\\nThe commission's report highlighted how drug dealers utilize numbered corporations to stash death money from the fentanyl trade, then take that drug money and put it into the housing market in British Columbia, which has led, in some cases, to prices being driven up. Had a registry been in place sooner, perhaps less money from drug deals would have been laundered and perhaps it could have prevented lives from being lost. A corporate registry does have a lot of consequences, and that is why our party supports it.\\nNow I will briefly get into some of the shortcomings we see in this bill. The first is the lack of any requirement of the government to seek information-sharing agreements with the provinces and territories so the registry can be effective. The corporate registry will be only as strong as the provinces and territories that opt into it. Without them on board, this registry would only apply to about 5% of corporations in Canada. Thankfully, some provinces and territories have already taken the lead on this front and have been implementing registries since the changes to the CBCA were announced in last year's budget. Without all of them on board, criminals will just take their dirty money to the jurisdiction with the least strongest regulations.\\nIt is my hope that, at committee, amendments will be adopted to ensure the federal government is required to pursue agreements with the provinces and territories on information sharing to ensure the registry is truly pan-Canadian and interoperable. I can note that, with many of the registries in place, there is a varying degree of information shared. Many do follow the amendments put forward in budget 2022, but I still think there is a lot of work we can do to make sure our registry is comprehensive.\\nThe second is that we need to look at strengthening some of the penalties. Parliament needs to consider the registry in the context of the ability of law enforcement to combat the use of illegal funds. The current penalties under the CBCA, and the new ones proposed in Bill C-42, may be too weak to have the desired effect. We must ensure that corporations are compliant with the rules for the registry to be effective. The government should consider strengthening the penalties and making some offences indictable. Many of the fines could simply now be perceived by some corporations using illicit funds as the cost of doing business.\\nAnother issue with the penalties is that they do not punish corporations that violate the act nearly as strongly as they do individuals. All of the offences that currently exist, and those proposed in this bill that apply to corporations, are punishable by a fine of I believe $5,000. However, the strongest penalty applying to individuals is found under section 21.4 of the CBCA, which has a fine not exceeding $200,000 and a term of imprisonment of six months, as the minister also mentioned. We must ensure that corporations that do not comply with these regulations are held just as accountable as the individuals involved. A $5,000 fine would be chump change for some people who would be affected under this proposed bill.\\nWe need to also look at the threshold for disclosure. The CBCA currently defines significant control under section 2.1 as an individual who owns or controls a significant number of shares in a corporation, which is defined as 25% or more. This is quite a high threshold. Currently, security regulators in Canada, for example, Ontario Securities Commission, have a set threshold of just 10% for public disclosure requirements. Regardless of where we set the threshold, people will try to avoid reporting by ensuring their ownership or control is slightly below it. There are lots of ways for individuals with significant control to pass by the threshold. However, a lower threshold means fewer opportunities for criminals to simply slip under the radar.\\nWe also need to be cognizant of how this will apply in the context of stacked ownership structures and trusts. It would be wise of the House to consider aligning these regulations with those currently imposed on publicly traded companies by amending this bill to change the threshold to 10% and look at the impact of trusts in very close detail at the committee stage.\\nWe also need to look at the functionality of the registry. When it comes to how this registry will work and what information will be made available to the public, this bill is concerningly quiet. It does outline in section 21.303:\\n (1) The Director shall make available to the public the following information sent to the Director under section 21.\\u200d21 for each individual with significant control: \\n (a) their name; \\n (b) their address for service, if it has been provided to the corporation; \\n (c) their residential address, if their address for service has not been provided to the corporation; \\n (d) the information referred to in paragraphs 21.\\u200d1(1)\\u200d(c) and (d); and \\n (e) any other prescribed information. \\nThe first issue here lies in paragraph (e). What exactly does it mean by “prescribed information”? This needs clarification, as the information made publicly available must keep in mind privacy interests. I will note the minister did partially answer my question during his debate when he said citizenship would not be required in the registry. I will take a moment to comment on that.\\nWhat if an individual in another country who does not reside in Canada has a corporation in Canada? Should citizenship information in the context of a foreign owner of a Canadian corporation apply or, as another member in the House of Commons mentioned, in the case of a stacked corporation where certain shares of the company are owned by an individual in another country, should citizenship information be applied in that context? In the context of terrorism and money laundering, perhaps it would be to our benefit in some cases where citizenship is, indeed, known.\\nI look forward at the committee stage to really delve into this in detail because I think everyone in Canada wants to get this registry right. Everyone in Canada wants to give our law enforcement the tools it needs to finally begin combatting money laundering. We have seen the impact of it in British Columbia. We have seen the empty condos and the illicit funds from the drug trade being used, through corporations, to launder that money. We need to move away from what many people call the “Vancouver model” to take action right now. The commitment of the Conservative Party is to work with the government to ensure that our laws are strengthened, and that fewer lives are lost because of the drug trade, by establishing some form of a beneficial ownership registry.\\nFinally, I would like to touch upon how the registry would function. The bill is very vague in what prescribed circumstances would be. Will law enforcement still be able to access the information of those exempted for the purposes of an investigation? Another issue with the guidelines for the registry are the exemptions that have been put in place. We do know, as the minister mentioned after my question, that it would not apply to people 18 years of age or younger, but we need to strengthen the language around exemptions.\\nIn closing, this bill is a good first step. That is why the Conservatives will be supporting it at second reading. However, key oversights must be addressed during the committee process. We must ensure that the penalties for violating the act are strong enough, and I am not certain that summary convictions are strong enough. We must ensure that law enforcement and FINTRAC have the ability to easily access the information they need to track down those laundering money and financing terrorism. We must ensure that corporations involved in criminal activities are held just as accountable as individuals, and for the registry to be effective, we must make the participation of provinces and territories a key priority.\\nI look forward to working with my colleagues on the industry committee to strengthen this bill and ensure it truly provides transparency to the public and gives law enforcement the tools necessary to track down money launderers and those funding terrorism. More must be done to reduce the risk of corporations being misused for illicit activities such as money laundering and tax evasion.Madam Speaker, the objective of the Conservative Party on this legislation is to have a robust debate, in good faith, at second reading. There are a lot of experts in every party who have information on corporate trusts and how corporations are structured in Canada, and I think every party has something to contribute on that. We want to move quickly on this bill, but we also want to have a robust debate.\\nOur objective is to get the bill to committee where we can have a robust study. I could perhaps share more with the minister, and maybe our House leaders can determine what the priority of the House of Commons is with respect to seeing this bill pass. Madam Speaker, some of these amendments would seek to determine the role of the provinces and territories in guaranteeing the interoperability of this registry. We must also study the Canada Corporations Act threshold.Madam Speaker, regarding penalties, I want to think of the worst-case scenarios. For years, we have heard so many stories in British Columbia about why the Cullen Commission was put in place, about the impact of money laundering and the billions of dollars that have been laundered into corporations, largely at the provincial level.\\nI do not want any fees or penalties to be seen as the cost of doing business for certain corporations. We need to look at strengthening those penalties. We need to hear from a suite of experts in law enforcement, maybe experts from FINTRAC and law enforcement at CSIS, to ensure that we get this right and that we use this tool to provide some trust for Canadians in our law enforcement institutions to be able to make a difference.\\nI do not have specifics. All I know is that, at $200,000 or in some cases $5,000, it would be seen as the cost of doing business. We want to make it actually hurt when someone tries to break the law in Canada.Madam Speaker, I appreciate that very important question from my colleague from Winnipeg. One of the big gaps in this legislation is in clarifying the relationship between significant interests and the role trusts play in corporate structures at all levels of corporate registries in Canada right now and the impact that would have on the interoperability and the overall effectiveness of a corporate registry as we move forward. The member also pointed out the significance of this registry in the context of those provincial bodies. We need to make sure that there is interoperability, of course, to ensure its effectiveness in completing its stated goals.Madam Speaker, I appreciate that my colleague from Nepean outlined the issue that probably needs to be studied the most in this legislation, and that is significant interest. I do not have a specific answer to his question right now, but we need to have that debate in Parliament about the impact of significant interest and corporate stacked ownership structures that need to be viewed in the light of money laundering and tax avoidance or tax evasion.\\nI will just quickly touch upon the impact of addresses as well, which is another point of this bill, and it relates to citizenship. We need to clarify our charter obligations regarding individual privacy, but we also need to make sure to be practical that in some cases Canadian corporations are used for illicit purposes and in some cases we should know the citizenship of those individuals who are using said corporations.Madam Speaker, today I am pleased to table three petitions on behalf of constituents in Mission—Matsqui—Fraser Canyon.\\nThe first petition calls upon the government to repeal Bill C-21. Hunting has a long-standing history in Canada for both indigenous and non-indigenous Canadians, and needlessly revoking citizens' firearms erases and discounts our history and traditions.Madam Speaker, the second petition calls upon the government to do more to combat human trafficking.\\nPetitioners are particularly displeased about the egregious action the Government of Canada took in Bill C-5, which reduced sentencing and allows for house arrest for the crime of human trafficking. They want to see that aspect of Bill C-5 repealed.Madam Speaker, the third petition I am presenting today is calling upon the government to actually fulfill its commitment to allow for direct flights to Amritsar international through changes to the Canada-India Air Transport Agreement. We know the Government of Canada recently made amendments to the ATA with India, but it did not take that initial step of including Amritsar specifically in the agreement.\", 'Madam Speaker, corporations exist basically to allow individuals to channel their capital for the benefit of making profits. I think the corporation as we know it came into existence in the 1844 act in Britain, and the shareholders were granted limited liabilities in 1855. In 1866, the United States code declared that a corporation is a natural person.\\nThe key thing that I want to focus on is the tax evasion and tax avoidance. Supreme courts around the world have ruled on the difference between tax avoidance and tax evasion and identified that if there is any transaction in the process followed by an individual or a corporation that does not have any impact other than to reduce or eliminate tax, the transaction can be declared null and void.\\nComing back to the corporations here, why should the public not be aware of individuals who are investing money into corporations, including their citizenship being known? It is not the fundamental right of any individual that he or she can be a shareholder. It is a privilege offered by the states through various acts, so why should the public not be aware of individuals who are the shareholders, including their citizenship—Madam Speaker, I agree with my hon. colleague on the question of disclosing the citizenship of the shareholders of a corporation. There should not be any legal protection offered to foreigners who invest in Canadian corporations. We have been seeing that corporations are being incorporated with no other purpose than to have transactions and processes that lead to nothing but tax avoidance and, in some cases, even to money laundering.\\nI want to touch on something the member mentioned about the significant shareholding and the threshold, which is 25% in some jurisdictions and 10% in some jurisdictions. As the member very clearly stated, that is a loophole where, very easily, five people could form a corporation with 20% each or 11 people could form a corporation. Therefore, should there be any threshold at all that prevents the disclosure of the beneficiary?', \"I have to give the minister time to answer.\\nThe hon. minister.I have to give the hon. member for Mission—Matsqui—Fraser Canyon the time to answer.The hon. Leader of the Opposition knows the rules and that we do not mention the presence or absence of members in the House.I asked the hon. member to be wary of the rules, and the hon. member repeated comments that he knows are against the rules. We will take one question out of the next round of Conservative questions.\\nThe hon. member for Manicouagan.The hon. member for New Westminster—Burnaby.The hon. member Dauphin—Swan River—Neepawa.I advised members that I was going to take out the next question from the Conservatives and I am taking it out. As members know, it is the prerogative of the Chair to determine who the next speaker is, and my prerogative is to choose the hon. member for Dauphin—Swan River—Neepawa.The hon. member for Cypress Hills—Grasslands.The hon. Parliamentary Secretary to the Minister of Environment and Climate Change.We do not use that language in the House, as the hon. member well knows. The same thing could be said in different ways.The hon. member will be invited to rethink her choice of words. The hon. member will be invited to exercise judgment in the use of words, and please consider that it is not a parliamentary acceptable word.\\n I would invite her to apologize and retract that word from the record.Withdraw the words— Order, order. This will be looked at in Hansard, to answer the hon. member for Fort McMurray—Cold Lake. We will get back to the hon. member on what happened.\\nThe hon. member for Mégantic—L'Érable on a point of order.I am sorry, I did not hear what was said.Order. As I told the hon. member for Fort McMurray—Cold Lake, we will listen. I did not hear it right now. I was discussing— I do not dispute it. I am just saying that we will look at Hansard, and we will get back to the hon. member on what is found. I cannot rule on this right now. I have to wait until we look at what Hansard and the tapes will tell us.Indeed, I will continue on the point of order raised by the member for Mégantic—L'Érable regarding the list used during oral question period. The lists provided by the parties are only used as a guide. The Chair has no obligation to follow them.\\nAfter I decided to take out the question, I discussed the matter with the clerks. An exchange took place with the individuals working with the official opposition whip in order to reach an agreement. It is really at the Chair's discretion as to whether to follow the order on the list when taking out a question.\\nThe hon. member for Mégantic—L'Érable.The member is absolutely right. It is true that, technically, there is no list. There is just an agreement among the parties. That is why we consulted the whip's office to sort this out. Thank you.\\nOn the other point of order, the hon. member for Longueuil—Charles-LeMoyne.We are not going to debate what the initial point of order was, which is what happened during Oral Questions. It was more on the use of the words “liar” or “lies” afterward, which is truly the unparliamentary part of the issue.\\nOn the exchange that happened during question period, I did not hear what was said. We will have to go back to the recordings and Hansard. I am talking about the initial comments. I am not talking about the word “lies”. Everybody heard that, and that is certainly not parliamentary language.\\nThe hon. member for Pontiac on the same point of order.We are not debating the issue that gave rise to the point of order, but rather what followed. That is what needs to be addressed.\\nWe will continue, and I will come back to the hon. member with a resolution.That is very disturbing for the interpreters. Please have no phones on.The time provided for the consideration of Private Members' Business has now expired, and the order is dropped to the bottom of the order of precedence on the Order Paper.\\n It being 1:41 p.m. the House stands adjourned until Monday, April 17, at 11 a.m. pursuant to Standing Orders 28(2) and 24(1).\\nI wish everyone a happy Easter.\\n(The House adjourned at 1:41 p.m.)\", \"Madam Speaker, there are a number of areas of clarification, in my mind, that need to be addressed, and perhaps it would be done through committee.\\nOne is the type of asset that is caught by this legislation. For example, a beneficial owner is someone for whom an asset is held in trust. There could be shares of a corporation held in trust by a shareholder for someone else, whether that shareholder is an individual or a corporation. Also, the assets of a corporation could be held in trust for an owner or a group of owners.\\nOne of the things that I would like to have clarified is whether this just applies to shares being held in trust for beneficial owners or if it actually applies to the assets of a corporation that are held in trust for owners. What happens, for example, when those beneficial owners, in turn, decide to set up trust arrangements with other people holding their beneficial ownerships in trust for others?\\nSecond, there are 500,000 corporations under the CBCA. There could literally be tens of millions of these trust arrangements in existence across the country. What resources would be dedicated to making sure we could track them?\\nFinally, I was a little concerned that personal addresses would be published. Most of these trust arrangements are legitimate business practices and a much smaller number are for money laundering. I just want to highlight that—Madam Speaker, I rise today to celebrate Education and Sharing Day.\\nEducation and Sharing Day is a day established in honour of Rabbi Menachem Mendel Schneerson, recognizing his lifelong efforts towards improving education. He was an advocate for children and spoke out about the need for each child to be given an education that would offer them the opportunities to succeed. He often spoke about the need for education to focus not only on academic achievements but also on character building.\\nThe rabbi's emissaries established a network of several thousand Jewish schools and education centres around the globe. They sought to empower young people and inspire individuals of all ages. A high-quality education develops the mind, opens the heart, nurtures our talents and fortifies our character. We owe a tremendous debt to Rabbi Schneerson and to all those who promote education that embraces moral and ethical values.\\nThis year, let us rededicate ourselves to teaching the love of learning that was championed by Rabbi Schneerson.\", 'Madam Speaker, around the world we are seeing a rise in anti-trans rhetoric and legislation. This includes in the U.S., where this year alone, over 400 bills have been proposed or passed that attack trans human rights. Here at home, the rise in anti-trans hate has advocates saying it has never been as scary as it is now.\\n We must do better. I am grateful to organizations like SPECTRUM, Waterloo Region’s first-ever rainbow community space, that serve, affirm and support the well-being of 2SLGBTQ+ people in my community.\\nFormer SPECTRUM President and trans activist Caitlin Glasson recently initiated a petition that I have sponsored, calling for the federal government to be more open to transgender and non-binary asylum seekers from around the world. It has been widely amplified by the trans community, with over 145,000 signatures.\\nOn this International Transgender Day of Visibility, let us recognize how much work we need to do and celebrate the power of the trans community in having their voices heard.', \"Madam Speaker, budget 2023 continues to demonstrate that the government truly cares about people and that we are building a stronger and healthier country. From helping people fight inflation by bringing in a grocery rebate to introducing a national dental program and supporting a greener economy, this year's budget reflects Canadians' interests and their expectations of the government.\\nTo me, caring for people means lifting seniors and children out of poverty by increasing things like the GIS and the Canada child benefit program. It means investing $198 billion over 10 years to secure health care services for future generations. It is about building a national child care program and a stronger economy employing two million additional people.Madam Speaker, the interim Ethics Commissioner is a career public servant who has served in a senior role in the Ethics Commissioner's office for more than 10 years, beginning when the Harper government was in office.Madam Speaker, I would emphasize that the interim Ethics Commissioner is a career public servant who has served in a senior role in the Ethics Commissioner's office for more than 10 years. That is beginning when the Harper government was actually in office.Madam Speaker, once again, I would like to put an emphasis on the importance of recognizing the fine work that our civil servants do. I would just say that the interim Ethics Commissioner who is being referenced is a career public servant. She has served in a senior role in the Ethics Commissioner's office for more than 10 years, beginning when the Harper government was in office. We owe a great deal to our professional civil servants.Madam Speaker, there is actually a very simple answer for the member opposite. The interim Ethics Commissioner is a career public servant who has served in a senior role in the Ethics Commissioner's office for more than 10 years, and that began when the Harper government was in office.Madam Speaker, the Minister of Intergovernmental Affairs recused himself from all deliberations and decisions related to the appointment of the interim Ethics Commissioner.Madam Speaker, I will emphasize once again that the interim Ethics Commissioner is a career public servant who has served in a senior role in the Ethics Commissioner's office for more than 10 years, beginning when the Harper government was in office.Madam Speaker, prior to the interaction that took place, you were making a ruling on another point of order. I think it is best that you conclude the first point of order.\\nI know there are one or two members who might want to address the second point of order raised, but maybe we can put to rest the first point of order and then go on to the second one.Madam Speaker, pursuant to Standing Order 36(8)(a) I have the honour to table, in both official languages, the government's response to 10 petitions. \\nThese returns will be tabled in an electronic format.Mr. Speaker, I have had these concerns expressed to me personally as people are genuinely and legitimately concerned about what is happening in Bangladesh today.\\nThe concerns and allegations, which have been reported on in great detail, refer to the Bangladesh government's crackdown on opposition political parties, critical intellectuals, news media and journalists to shut their voices, take away their citizen and democratic rights, and forcibly remain in power. The government has also been accused of instituting a system of forced disappearance, extrajudicial killings, false lawsuits and all means of intimidation through its aligned forces and armed activists, dealing with issues such as corruption, rape, torture, killings, kidnapping and other undemocratic actions beyond one's imagination.\\nThe petitioners are asking the House of Commons to review the human rights violations and undemocratic actions of what is happening in Bangladesh and take all possible measures to support democracy, human rights and justice.Mr. Speaker, the following questions will be answered today: Nos. 1246 to 1252. Mr. Speaker, if the government's response to Questions Nos. 1245 and 1253 could be made orders for returns, these returns would be tabled immediately.Mr. Speaker, I would ask that all remaining questions be allowed to stand.\", 'Madam Speaker, soon Christians around the world will be celebrating Easter. Good Friday marks the crucifixion of Jesus Christ at the hands of the Romans. The resurrection of Christ on Easter Sunday fulfills his promise to the people of the world that he is indeed the son and living embodiment of God on earth. All Christians, Protestants, Catholics and Orthodox will come together over Easter weekend to celebrate the most important days in the Christian calendar. For some of us, this means attending church services; for others, it means attending a big family party.\\nFor some, like the Ukrainians fleeing the war crimes of Vladimir Putin, it will be the first Easter not in their home country, but here in Canada instead. Regardless of how we celebrate, Easter is a reminder of how Christ sacrificed his life for us and made a way for each of us to know God personally.\\n I look forward to Easter Sunday when Christians around the world will say in Ukrainian:\\n[Member spoke in Ukrainian and provided the following translation:]\\nHe is risen. He is risen indeed.', \"Madam Speaker, a little over a decade ago, Patrick and Brian Burke launched “You Can Play”, a social activism campaign dedicated to the eradication of homophobia in sports, particularly hockey. The campaign uses the slogan, “If you can play, you can play”. \\nMost people have also seen pride tape on hockey sticks, a initiative co-founded by Dr. Kris Wells. These are meaningful steps in the right direction for inclusion in sport in this country and around the world for the 2SLGBTQ+ community.\\n Unfortunately, some NHL players have recently decided not to wear pride-themed warm-up jerseys for their games on pride nights or the league's “Hockey is for Everyone” campaign, saying it is contrary to their religious beliefs. A rainbow jersey is a simple but compassionate sign of solidarity and a way to say, “Hockey is a sport for everyone. You matter, and you are welcome here.” While there has been a lot of progress, it is clear there is still much work to be done.\\nI grew up Catholic and attended Sunday school and catechism. If I know one thing about Jesus Christ, it is that he loved everybody. He would be marching on the front line in pride parades if he were alive today.\\nSport is for everyone. To every young player out there I want to say this: Regardless of their race, gender or sexuality, hockey is a sport for them.\", 'Madam Speaker, today we join trans folks from around the globe in recognizing the International Transgender Day of Visibility. From Stonewall to Edmonton, the trans community has and continues to contribute greatly to a better and more just society. They have shown us the strength of community resilience, and they remind us of our everlasting pursuit of justice, even as our institutions and society continue to fail them.\\nEvery member of the House has a responsibility to stand up and speak out against the bigotry that is threatening the safety of trans people across Canada and the globe. Rising violence and extreme hatred against the trans community is a gruesome reality and a threat to democracy and freedom everywhere. A truly free society is one where everyone has the freedom to be who they are, love who they love and pursue happiness. The trans community has a right to joy, but this joy is under threat. We can and must do more.Mr. Speaker, it is a pleasure to table these petitions.\\nI speak on behalf of Canadians who are calling for action on the opioid crisis. It is no secret to Canadians that the opioid crisis is one of the most deadly crises we are facing in Canada. During the period between January 2016 and March 2020, over 30,000 Canadians died to the opioid epidemic. \\nThese petitioners are calling for an end to the overdose crisis, ensuring that we have legal regulation of drugs, and ensuring the decriminalization of personal to end the stigma and save lives because we cannot, in fact, treat those who are dead.Mr. Speaker, the second petition I am standing on behalf of is calling, on behalf of Canadians, for just transition legislation in the face of the climate emergency. It is no secret that the climate emergency is a serious issue here in Canada and across the world, and these petitioners are calling for action.', \"Madam Speaker, I rise today to recognize my friend, Carol Young, a community leader, women's advocate and lifelong volunteer in Halifax. Sadly, she passed away over the weekend\\nCarol is remembered for her unwavering commitment to advancing women in the workforce, in boardrooms and in politics. She worked right here on Parliament Hill for the first Trudeau government as the first female special assistant to a cabinet minister. She was one half of a dynamic power couple; she met her late husband, the renowned lawyer, John Young, here on the Hill when he was working for Allan J. MacEachen. The pair set down roots in Nova Scotia, where Carol would work on many important boards, including those of Dalhousie University, Neptune Theatre and the Pier 21 Society.\\nCarol also devoted herself to many philanthropic endeavours, including Ronald McDonald House, the children's Discovery Centre and the Mental Health Foundation of Nova Scotia. She also played a key role in the creation of the IWK children's hospital telethon.\\nFor all this, she earned appointment to the Order of Canada and an honorary doctorate from St. Mary's University. She leaves behind a wonderful legacy, and I send my condolences to her family and all those whose lives she touched.Mr. Speaker, it is my honour to present a petition signed by over 800 Canadians from all 10 provinces and three territories, initiated by the African Nova Scotian Decade for People of African Descent Coalition.\\nThe petitioners call upon the House of Commons to pass a resolution for the Government of Canada to apologize for Canada's role in the enslavement of African people and their descendants, create legislation recognizing Black Canadians as unique groups and renew Canada's commitment to addressing the generational effects of enslavement, segregation and systemic anti-Black racism.\\nThe petitioners note that the UN has called for nations to acknowledge and apologize for the suffering and evils of the enslavement of African people and, as such, they urge the government to take action.\", \"Madam Speaker, I rise in the House because tomorrow is the 150th anniversary of the sinking of the SS Atlantic, the biggest shipwreck in Nova Scotia and the biggest marine disaster in North America before the Titanic.\\nWith nearly 1,000 people on board, the greatest passenger liner of her day left Liverpool for New York on March 20, 1873. Running low on coal, she diverted to Halifax to refuel. In unfamiliar waters on a stormy night with heavy seas, she went off course, hit Golden Rule Rock and rapidly sank. More than 500 people lost their lives that night, including all women and children aboard but one. My communities of Lower Prospect and Terence Bay rallied to rescue 439 survivors. They brought them into their homes and nursed the injured back to health.\\nOn this anniversary of the disaster of the SS Atlantic, we remember the tragic loss of so many lives and take inspiration from the courageous actions of the communities of Lower Prospect and Terrence Bay.Madam Speaker, in fact, Videotron's prices are higher than Freedom Mobile's prices, so if Liberals really believed in competition they would have let a competitive bidding process happen for Freedom. The Liberals are in the back pocket of Rogers. They allowed Rogers to ignore three higher bidders from Freedom. These Liberals and the PMO were lobbied more than 60 times by Videotron and Rogers during the sales process, but did not meet once with any other bidder. Why did Rogers get privileged access to the Liberals that other bidders did not?Madam Speaker, the minister only needs to check the lobbyist registry to see more than 65 meetings with his department and the PMO. In December, this Liberal minister said he would not rule on the sale until the legal challenges were over. There is a legal challenge before the CRTC currently on this deal where Rogers is providing preferential rates to Videotron for access to its network that no other cellphone provider can get. Why has this minister flip-flopped on his commitment to wait for the legal challenges to be over? Is it because Rogers set today as the deadline?Mr. Speaker, we request a recorded division.\", \"Madam Speaker, Sikhs across the world and in Canada are preparing to celebrate Vaisakhi. The celebration of Vaisakhi marks the founding of the community of baptized Sikhs, known as the Khalsa Panth. This year, the celebration will be held on April 14.\\nCanada is home to one of the largest Sikh diasporas in the world. More than 500,000 Canadians of the Sikh faith have helped make our country what it is today. The vibrant festival of Vaisakhi is a spring festival marking the solar new year for Sikhs and Hindus. Vaisakhi is also a time to reflect on the importance of upholding justice and promoting equality.\\nTogether, let us celebrate the importance of the Sikh community within Cloverdale—Langley City, across Surrey and across Canada as well. One can also join me at the Surrey Vaisakhi parade on April 22. I would like to take this opportunity to wish all those celebrating this special occasion a very happy Vaisakhi. moved that Bill S-202, An Act to amend the Parliament of Canada Act (Parliamentary Visual Artist Laureate), be read the second time and referred to a committee. \\nMr. Speaker, it is a great honour to rise today in the House to speak to Bill S-202, an act to amend the Parliament of Canada Act to create a parliamentary visual artist laureate. This bill was first introduced and passed through the Senate by my good friend Senator Patricia Bovey. I would like to thank my friend and colleague, the MP for Bow River, for allowing me to take the lead at second reading of this bill.\\nTo provide some historical context, Bill S-202 was first introduced during the 42nd Parliament as Bill S-234 by Senator Wilfred Moore in 2016. It was adopted at all stages in the Senate before dying on the House of Commons Order Paper. It was subsequently reintroduced by Senator Bovey in the 43rd Parliament as Bill S-210 and then again after prorogation as Bill S-205.\\nWhen this previous rendition was introduced, former MP Lenore Zann acknowledged artist Peter Gough of Nova Scotia, who was the originator of this wonderful idea. Sadly, Peter passed away before he could see his idea become reality. I should mention that the House heard several wonderful speeches here when MPs debated Bill S-205. It was clear that the House supported the bill, and it was very interesting to hear the importance of the arts from MPs of different parties.\\nThis bill has reached the House of Commons three times previously and at various points has received unanimous support. The most recent time this bill was before the House was in the 43rd Parliament. On the day this bill was to be voted on for the third time, Parliament was dissolved, and now I am able to bring this bill back again, hopefully for its final time, to see it through to its successful conclusion.\\nBill S-202 seeks to create the position of a parliamentary visual artist laureate. The artist laureate would be an officer of the Library of Parliament, similar to that of the parliamentary poet laureate position. The position of parliamentary poet laureate was created in 2001 through Bill S-10, which included similar amendments to the Parliament of Canada Act. Bill S-10 gathered broad support from senators, and in the House of Commons, Bill S-10 was supported by a majority of MPs.\\nThe selection process would consist of the Speaker of the Senate and the Speaker of the House of Commons acting together to select a parliamentary visual artist laureate from a list of three names reflective of Canada's diversity, including indigenous representation. These names would then be submitted by a committee chaired by the Parliamentary Librarian and composed of the director of the National Gallery of Canada, the Commissioner of Official Languages of Canada, the chairperson of the Canada Council for the Arts and the president of the Royal Canadian Academy of Arts, or their designates. As for the tenure of office, the parliamentary visual artist laureate would hold office “for a term not exceeding two years, at the pleasure of the Speaker of the Senate and the Speaker of the House of Commons acting together.”\\nThe mandate for this laureate position is to “promote the arts in Canada, through Parliament, including by fostering knowledge, enjoyment, awareness and development of the arts.” In carrying out their mandate, the laureate may “produce or cause to be produced artistic creations, at the request of either Speaker, especially for use in Parliament on occasions of state.” They may also sponsor artistic events such as art competitions or exhibitions. The laureate could also “give advice to the Parliamentary Librarian regarding the collection of the Library and acquisitions to enrich the Library’s cultural holdings”.\\nIn this bill, arts are defined as “drawing, painting, sculpture, printmaking, design, crafts, photography, videography and filmmaking.”Mr. Speaker, going back to where I was, I would like to reference that arts are defined in this bill as “drawing, painting, sculpture, printmaking, design, crafts, photography, videography and filmmaking”.\\nThe contributions Canadians artists make to our society and our national identity cannot be overstated. Art comes in all forms, and this legislation's definition of art broadly encompasses what the artist laureate would be focused on.\\nThese last two years have been a trying time for Canadians. As we struggled through COVID, many of us turned to the arts to cope with the loneliness, fear and anxiety that came with the pandemic. The arts provided a respite during this time and continue to do so. We should keep in mind that Canada's arts community suffered these same symptoms and continued to produce works for us to enjoy.\\nWe should also keep in mind that the economic downturn affected our cultural community in quite a drastic manner. According to Hill Strategies Research Inc., between 2019 and 2020, over half of the businesses and organizations in the arts, entertainment and recreation sector saw a 50% loss in revenue. Performing arts and festivals lost over half of their revenues and some 35% of total jobs during that period. However, the arts are resurging and have been recovering slowly but surely. Canada's government has been there for the sector and will continue to do so. Canada needs a strong and vibrant arts sector.\\nPart of the power of the arts is their way of breaking down barriers between people. Canada is a multicultural country, and art provides a creative outlet to help us understand each other. Artistic expression can be understood without the use of words, and this gives us the ability to learn and understand stories and perspectives across linguistic barriers. As Senator Bovey put it, “Artists have always depicted or discussed contemporary issues in their work and drawn attention to critical concerns. It is clear, for instance, that understanding each other will play a key role in reconciliation, for which cultural understanding is essential.” \\nAllow me to take a moment now to explain why art is so important to me and to my constituents. There is a rich arts scene in my riding of Cloverdale—Langley City, sure to be excited about this amendment to the Parliament Act. I want to bring attention to Lucy Fournier’s mural work titled “The Sunshine Circle” for bringing community together. I also want to recognize Councillor Rosemary Wallace for creating an entirely free event called “Arts Alive”, which proves to be a very impactful experience for artists coming together to share, inspire, and connect each year in Langley City. \\nIn addition to the specific Cloverdale and Langley City art examples just mentioned, Surrey overall has a history of being a community that supports its artists. In 1964, the Surrey Art Society advocated for a centre for the arts in Surrey. The proposal was to build a space that would not only showcase the artistic talent in Surrey but also give space for artists to learn and hone their talents. The Surrey Art Gallery was built and is an important art space in Surrey. Additionally, the Arts Council of Surrey operates every day out of a repurposed fire hall, which further reinforces the history that the arts council has with the Surrey community.\\nIs this not the power of art and creativity? The Arts Council of Surrey took an old building and gave it new life as a safe place for artists to express themselves in their own community. It has had markets for artisans and indigenous artists to sell their arts and crafts. This is just one example of how the arts are an integral part of Surrey and how it demonstrates how legislation like the one before us today, now more than ever, is so important.\\nThis past year, I had the pleasure of meeting Sandy Dimond. She had her first exhibition at the Surrey Art Gallery. Sandy only recently started painting after she retired from training horses professionally. It was something she had always played around with, but after she had some time on her hands, she finally picked up the brush full time. Sandy paints beautifully and her art ranges from trains making their way through the Canadian landscape, to horses she used to train, and to amazing landscapes. I personally love her painting of trees. The gallery showing was fantastic. \\nWhen Sandy reached out to my office, she did not know if I would come. I had not met her before, but the arts are important to her and she wanted that shared with everyone. What she did not know was how important the arts are to me and my family. There were many who showed up to her gallery exhibition, including me, but also the mayor of Langley City, a member of the Fraser Valley Heritage Railway Society and local media. This shows again how important the arts are to Cloverdale—Langley City. \\nThe creation of a parliamentary artist laureate would build on the government’s support for the arts since 2015. The parliamentary visual artist laureate would complement these commitments by creating an opportunity to celebrate Canadian visual arts and artists, and projecting a—Madam Speaker, the parliamentary artist laureate would complement these commitments by creating an opportunity to celebrate Canadian visual arts and artists, and by projecting a global image of open-mindedness, creativity and innovation.\\n Canadian artists from across the country, whether they be lifelong Canadians, immigrants or indigenous peoples, would benefit from having a parliamentary artist laureate here in Ottawa. The appreciation of the arts unites us, and in a multicultural country such as Canada, we should be promoting our many different forms of art at every given opportunity.\\n In summary, supporting Bill S-202 recognizes the importance of visual arts to the Canadian creative economy, supports diverse artistic expression by Canadian artists, raises the profile of Canadian visual arts in Canada and abroad, and demonstrates that the government values the contributions made by contemporary Canadian visual artists.\\nI look forward to the discussion we will have here today, and I am hopeful Bill S-202 will receive support from all the parties represented here in the House of Commons. I hope all members will join me in celebrating the arts in our country.Madam Speaker, this is another great opportunity to talk about the importance of the arts in our country and the support our government gives to the artistic community. We have seen many investments made, particularly during the pandemic and through pandemic recovery, and I am sure we are going to see, through the support of the House, this legislation finally implemented. Therefore, we can then have a visual artist laureate who will help further celebrate the arts within Canada.Madam Speaker, I have the opportunity of working with my colleague on the indigenous affairs committee. Although I am new to it, it has been wonderful getting to know her and her passion for indigenous communities and the indigenous peoples in our country.\\nAs I noted in my speech, it would be important to have the diversity of our country represented. That includes indigenous artists. The selection committee would be drawing from a diversity of artists within the country. Although I would not be part of that selection committee myself, I strongly hope there would be an indigenous visual artist laureate. Perhaps that could be the first one.\\nThat is a wonderful suggestion and something for the eventual selection committee to consider.Madam Speaker, the member and I have spoken previously about this legislation. She has a family member who is a visual artist, so I appreciate all her support for this.\\nI think the intent of the position would be to create and curate art exhibitions, and bring forward the diversity within our country. I think the engagement with young people across the realm of cultures, including, as we heard previously, indigenous artists, would be so important in order to highlight the amazing diversity we have in this country and really engage young, aspiring artists.\\nIt can be a tough world. I spoke in my comments about some of the challenges artists have had during the pandemic and the recovery. It has always been a bit of a challenging world; I hear that from artists all the time. The importance of this position is to help bring attention every day to visual artists and not only the struggles but also the successes they have. I hope that would involve young Canadians as well.\", \"Madam Speaker, Canada is a global leader in the production of life-saving medical isotopes, which are used in medical imaging, cancer therapy, disease prevention and medical device sterilization. Canada's isotopes sterilize over 25 billion pieces of medical equipment a year, making up 70% of the world market. I have seen our leadership first-hand at Bruce Power. In a partnership, Bruce Power and the Ojibway Nation of Saugeen will jointly market a new isotope, lutetium-177, in support of the global fight against cancer.\\nEarlier this week I attended an event with the Canadian Nuclear Isotope Council to launch “Isotopes for Hope: Canada's Leadership Needed Now More Than Ever”. This is a road map to strengthen Canada's global role in the isotope supply chain and double production by 2030.\\nCountries around the world depend on Canada for its expertise in the production of medical isotopes. Canada can support almost the entire supply chain for medical isotopes. We must remain a world leader and pursue innovative solutions to save lives.Madam Speaker, although the work of the commission has concluded, we know that the grief and loss of the families and communities will remain forever.\\nYesterday, we received the report from the commission. It is a road map to pursue necessary changes, whether within the RCMP or in regard to semi-automatic firearms or gender-based violence. We will work closely with all involved to pursue these reforms, because that is what Canadians expect and deserve.Mr. Speaker, with regard to part (a), the Canada Border Services Agency, or CBSA, first became aware of bus tickets being distributed to asylum seekers on February 6, 2023, when they were reported in the media. The CBSA became aware of reports from the media about U.S. customs and border officials transporting migrants from Plattsburg to Roxham Road on February 7, 2023, when media asked the CBSA to comment on it.\\nWith regard to part (b), the CBSA is unable to provide an estimate regarding how long this has been happening.\\nWith regard to part (c), out of respect for the law and for the personal safety of individuals, we encourage anyone entering Canada to do so at an official port of entry. We continue to work closely with Canadian and U.S. partners to ensure the lawful, safe and humane treatment of asylum seekers while maintaining the security of our borders. U.S. Customs and Border Protection, or CPB, confirmed that it has opened an investigation into the potential involvement of U.S. officials in the movement of individuals to Roxham Road.\\nWith regard to part (d), CBSA systems do not extract data by specific locations. However, in the province of Quebec, the vast majority of people enter Quebec through Roxham Road.\\nWith regard to part (e), the CBSA does not have this information. CBP confirmed that it has opened an investigation into the potential involvement of U.S. officials in the movement of individuals to Roxham Road.\", 'Madam Speaker, it is my pleasure to rise in the House today on National Indigenous Languages Day. This is a day to bring attention to the critical endangerment of indigenous languages and to celebrate the rich and diverse heritage they bring to our country.\\nToday, there are at least 70 distinct indigenous languages spoken in Canada, and every one of them is fundamental to the identity, culture, spirituality and self-determination of first nations, Inuit and Métis. It is an inherent right to pass their knowledge, their stories and their histories in their own voices to all future generations.\\nThis is a goal we are working toward in partnership through Bill C-91, an act respecting indigenous languages, to protect, preserve and revitalize indigenous languages throughout this great nation.', \"Madam Speaker, our streets are becoming more and more unsafe. People are afraid to go out alone and to take public transportation. That clashes with people's opinion of Canada.\\nSince the Prime Minister  took office, violent crime has increased by 32% and crime related to street gangs has doubled. Rather than taking real action to address this problem, the government is making things worse.\\nThanks to flawed legislation, dangerous criminals are being released, often the same day they are arrested. The only punishment for gun crime is a minimum sentence or even no sentence at all. A change is long overdue.\\nA Conservative government will bring back mandatory prison sentences for serious violent crimes. We will implement bail rules that will guarantee that those who commit serious, repeat and violent crimes will remain behind bars while awaiting trial.\\nA Conservative government will do what it takes to keep violent criminals where they should be, behind bars.Madam Speaker, today the Minister of Innovation, Science and Industry announced the merger of Rogers and Shaw, communications companies, which forces Vidéotron, another company involved in the transaction, to lower its prices in Quebec. However, the other companies involved in this transaction were not forced to lower their wireless prices.\\nWhy?\", \"Madam Speaker, a home is a haven where we feel safe, build memories and raise our families. It is the foundation of our lives and the place where we plan our futures, but for far too many Canadians, the dream of owning a home is completely out of reach. Even if someone works hard and does everything right, a home seems out of sight, and nine in 10 Canadians who do not own homes say they never will. \\nIn eight years under the Liberal Prime Minister, rent has doubled and mortgage payments have doubled, leaving so many to wonder how they will ever get ahead. \\nAll is not lost. Conservatives have a plan to build more homes and make housing more affordable. We will get rid of the gatekeepers preventing housing from being built, we will reverse the disastrous Liberal housing policies and we will tackle record-breaking inflation and rising interest rates. \\nConservatives will restore the dream that home ownership is indeed possible. It is time to get to work and bring it home.Madam Speaker, I rise on a point of order. Today, during question period, the member for Pickering—Uxbridge said, “I am very concerned about the health of your baby” to me. It was an absolutely inappropriate and unparliamentary term.\\nQuite frankly, I am proud to be here, 32 weeks pregnant, fighting for my constituents. I demand an apology.Madam Speaker, I think this is absolutely shameful. The comments that were just made by the member for Pickering—Uxbridge, yet again, denigrate women. We need to be supporting women in politics and not doing things like that.\\nI asked for an apology. She has called me a liar in this chamber four times now today. This is absolutely inappropriate, and I demand an apology.With regard to the government's response to the harms caused by tobacco and since November 4, 2015: has the government joined or participated in legal action against any tobacco companies in relation to the harm caused by tobacco usage, and, if so, what are the details of each case, including the outcome?With regard to the government's response to the opioid crisis and since November 4, 2015: has the government joined or participated in any legal action against (i) Purdue Pharma, (ii) McKinsey & Company, (iii) any other pharmaceutical companies, in relation to how their activities may have contributed to the opioid crisis, and, if so, what are the details of each case, including the outcome?\", \"Madam Speaker, this morning, I was thrilled to attend the launch of the Hydro-Québec Science Fair finale in the Outaouais region.\\nOver the next two days, more than 50 students from the Outaouais region will be exhibiting their science projects. It is inspiring, to say the least.\\nThis science fair would not be possible without the invaluable support of the teachers in our region's schools. I want to say a huge thank you to them for engaging our youth in science.\\nI would also like to thank Technoscience Outaouais, an organization that is doing excellent work to promote the fields of science, technology and innovation. We have a new generation of scientists who are making their mark, and I am very proud of them.\\nI congratulate all the exhibitors and wish them success.\", \"Madam Speaker, scandals in the sports world continue to plague our country. The scale of these abuses against athletes needs immediate attention. Athletes should have the right to participate in any sport free of maltreatment, abuse or harm. \\nToday, I stand up for my constituents, some of whom are survivors of abuse and help shed light on the seriousness of the issue. \\nI would like to thank Dr. Victoria Paraschak from the University of Windsor and many other advocates and sports organizations from across Canada working together to ensure the government recognizes the scope, urgency and importance of protecting our athletes from abuse in sport. They know we need a preventive approach to justice for survivors that examines these problems systematically, not on a case-by-case basis. \\n I proudly stand, together with these leaders and survivors in sport, to request that the government call a judicial inquiry that is completely independent of sport and that outlines a clear and consistent approach that is fair and immediate for these survivors. Without this transparent mechanism available in the form of a judicial inquiry, we will continue to see complaints, maltreatment and no justice. \\nIt is time to protect our Canadian youth and athletes today.Madam Speaker, I know the minister has said he is going to watch this Frankenstein deal like a hawk, but he has left Canadian consumers to the buzzards. In fact, the minister has given the green light to Rogers and at the same time given the red light to his own industry committee and the Competition Bureau, which has been opposed to this. \\nFor decades, Liberal and Conservative governments have allowed these massive telco companies to make huge profits off the backs of hard-working Canadians. This is a disaster that will end with less competition, massive layoffs and higher prices. Why have the Liberals thrown in the towel, sided with the telco CEOs and stuck Canadian families with higher prices and the bill?Madam Speaker, I have two petitions to table.\\nThe first involves a sports inquiry. Over 700 petitioners have called for children and youth to have the right to participate in sports in Canada without maltreatment, abuse and harm. The athletes are asking the House of Commons to have judicial inquiry into the sports system. \\nI would like to thank Victoria Paraschack, a retired professor in Windsor, for doing this across Canada.Madam Speaker, the second petition is with regard to taxation for those who work in the United States. Over 500 petitioners are affected by the tax rules of the Canada Revenue Agency and have almost double the tax. \\nThey are calling upon the Government of Canada to extend the commuters a full grant of foreign tax credits for the withholdings, to make sure the CRA's 2020 temporary international income tax relief from section VII become permanent and to enact measures that the U.S. companies employing Canadian commuters are not required to hold a separate Canadian payroll for their taxation as it affects our economy.\", \"Madam Speaker, I have a little boy who wakes up before sun-up, who would eat nothing but shepherd's pie, cereal and ketchup if he could, and who likes to dunk his toys in my coffee cup, to the point where I have nearly swallowed several dinosaurs. My little boy will run the equivalent of several miles through the house, just for the sheer joy of it. My little boy knows neither fear nor danger and has never told me he loves me, but he looks at me with all the love in the world in his eyes.\\nI have a little boy who is not different; he has autism. My little boy is unique, as we all are. With every move he makes, my boy lights up every room he walks into, as every person with autism does.\\nOn behalf of the Bloc Québécois, on World Autism Awareness Day, and as we do at every opportunity, I would like to shine a spotlight on all the joy these unique persons bring to our lives. Madam Speaker, the IPCC has just tabled its synthesis report on climate change, which it called a “survival guide for humanity”.\\nGreenpeace said, “This is the final warning...for this decade [which] will have impacts for thousands of years”.\\nHowever, the federal budget still provides at least $37 billion in fossil fuel subsidies. Ottawa is still trying to greenwash pollution from dirty energy.\\nWhen will the federal government realize that its short-sighted budgets risk ruining the planet for thousands of years?Madam Speaker, not only does this budget not decrease fossil fuel production, but it relies on climate change for future fossil fuel extraction in the Arctic.\\nÉquiterre stated, “We are deeply concerned about planned investments in future Arctic offshore oil and gas development.”\\n Greenpeace said, “We are concerned to see new subsidies for oil and gas companies making record profits.”\\nWhen will Canada stop driving the planet into the ground for the benefit of oil companies?\", \"Madam Speaker, on April 1, the Liberal carbon tax will be increased to $65 a tonne. Unfortunately, that is not an April Fool's joke. This means the price of gasoline, home heating and other fuels will rise, making it even more expensive for Canadians to get to work, heat their homes or operate their businesses. Canadians already face a cost-of-living crisis and cannot afford more taxes.\\nThe Parliamentary Budget Officer reports that the carbon tax will cost the average family hundreds of dollars more than they receive back, and that is tens of thousands of dollars more for Canadian agricultural producers and small business operators.\\nA recent survey of my constituents indicates that 78% support removing the carbon tax. Businesses are struggling with the extra burden of this tax and some are unsure if they will even be able to survive this year due to the rising costs.\\nOverall, my constituents have no faith in the Liberal government's ability to offer hope for their financial stability or future prosperity. What Canadians need is a Conservative government that will axe the carbon tax.\", 'Madam Speaker, in the words of the newly installed Archbishop of Toronto, the Most Rev. Francis Leo, to our youth, “Do not be afraid of the world. Do not be afraid to give of your life in service for others. Do not be afraid to dream big dreams and to want to transform the world. Do not be afraid to commit to Jesus and to his Gospel. Do not be afraid to love the Church”.\\nA week from today, Christians in Canada and around the world will observe the culmination of Lent, a time of prayer, fasting and almsgiving that prepares us for the resurrection of Jesus Christ.\\nFrom Good Friday to Easter Monday, family and friends will gather to reflect on the values of sacrifice, good stewardship and copious love. This is a time of renewal and hope, when we give thanks for our many blessings and recommit to being there for one another, spread kindness and, yes, indulge in delicious Easter eggs.\\nThis Easter, I am thinking of the countless Christians who are persecuted around the world because of their faith.\\n Buona Pasqua a tutti. Happy Easter.', \"Madam Speaker, we can imagine the conversation between the Prime Minister and the minister: “Mr. Minister, how can we avoid being found guilty of breaking ethics laws? Oh, I know, Mr. Prime Minister, I will appoint my sister-in-law as the commissioner and we can discuss each case around the supper table. That's a brilliant idea. I like appointing our family members and friends as independent officers to investigate us.”\\nThere is just one problem. Having already appointed three people who are friends and members of the family, will they run out of family members and friends for these positions?Madam Speaker, Liberals love to suck up to big, oligopolistic corporations that raise prices for consumers and make life less affordable. They get lots of support from the NDP for this corporatist agenda. Lately, the Liberals have been on a real ride. Today, they announced that they think there is too much competition in the wireless and Internet business and that they have allowed for a massive merger.\\nWhen will the Liberals start standing up for consumers instead of standing up for price raising and high-cost corporate oligarchs?Madam Speaker, despite that, the Liberals' policy on energy is to deliberately raise prices. At midnight tonight, 12:01 a.m. to be precise, the carbon tax will rise on gas, heat and groceries.\\nThe Liberals originally said it would cost less, but just yesterday, a report from their own Parliamentary Budget Officer demonstrated that 80% of Canadians will pay more in tax. On average, it will be $1,500 more. Tomorrow morning, they are going to wake up to higher prices. It is April Fool's Day and the joke will be on Canadians.\\nWhy will the Liberals not cancel this tax?Madam Speaker, it has been three years since a killer went on a rampage in Nova Scotia. We now know of the incredible incompetence at the top of the RCMP that has raged on ever since the Prime Minister took office. He named an incompetent commissioner and has tried to destroy our national police force, with deadly consequences. Worse yet, the commission ignored the victims and he has done nothing to reverse the original cause of the violence in the first place.\\nWill the Prime Minister reverse the damage he has done so Canadians can live in safety and peace?Madam Speaker, on Tuesday, I said there was a crisis with stabbings across the country. People are being stabbed in broad daylight. The Prime Minister stood up and said not to worry; he is going to ban hunting rifles, even though it is knives that do stabbings, not hunting rifles. It is not the Inuit hunter in Nunavut who is causing stabbings in downtown Vancouver.\\nAll of these facts angered and frustrated the Prime Minister. He became visibly upset and ran out the back door. He has not been back since. The Prime Minister was obviously frightened and concerned by that debate—Madam Speaker, is the Prime Minister okay, and will he ever be back in the House of Commons to debate me?\", \"Madam Speaker, as much as the bench opposite would like to deny it, climate change is real. Do members know what else is real? The cheques that will arrive in people's mailboxes over the next few weeks are real. This will mean $1,000 to residents in Manitoba. Those cheques will arrive quarterly. This is going to help with affordability. This is going to help with cash flow. The Conservatives are doing nothing for affordability and they are certainly doing nothing on climate change.Madam Speaker, all members of this House know that we are working very hard to reduce emissions from the oil and gas sector. We are going to be capping oil and gas emissions. We will be implementing a clean fuel standard and a clean electricity standard. We are going to be investing in carbon capture and storage. Very importantly, we are going to be eliminating fossil fuel subsidies, and we are going to be doing that two years in advance of the predicted schedule.Madam Speaker, the hon. member is from my home province of Manitoba and will know that Manitobans will receive $1,000 in climate rebate cheques over the next year. They will receive those cheques quarterly.\\nThe hon. member will also know that there is a cost to climate change. We in Manitoba have had two one-in-300-year floods, costing $1 billion each. Agriculture has been dramatically impacted. We have had 1,700 people driven from their homes due to floods. There is a cost to climate change and we are addressing—Madam Speaker, as I said yesterday, something is not sinking in. The climate rebate will make eight out of 10 families better off. That is in a PBO report.\\nWhat will not leave people better off is investing in cryptocurrency. I gave the Leader of the Opposition two or three times to apologize for his very reckless advice to Canadians, but it really underlines that the opposition has no plan for the economy, no plan for the environment and certainly no plan for climate change.Madam Speaker, it is really puzzling. Every single person on that side of the aisle campaigned in 2021 on putting a price on pollution. Stephen Harper was in favour of a carbon tax before he was against it. The member for Wellington—Halton Hills made it the centrepiece of his leadership campaign in 2017. The MP for Pitt Meadows—Maple Ridge, as a member of the B.C. government, actually introduced the first carbon price in North America.\\nThe Conservatives need to stop flip-flopping, get serious about climate change and present their own plan.\", \"Madam Speaker, I thank my hon. colleague for her question. The fact of the matter is that the government has already invested over $100 billion in this country's clean economy.\\nIn the budget tabled this week, we committed to increasing the country's clean electricity capacity. We are going to harness hydrogen as another source of clean energy.\\nWe are here to build the economy of the future with Canadian workers, and we will continue to use—Madam Speaker, as my hon. colleague knows very well, the price on pollution does not apply in Quebec. Quebec is a leader in managing the clean economy.\\nEvery time we have cut taxes for workers, the Conservatives have voted against it, whether it was a tax rebate for workers or a tax cut for Canadians.\\nWith this budget, we already know that they are going to vote against workers. They are the ones voting against it, and we are the ones supporting Canadians.Madam Speaker, what we must be clear about is that climate change has a cost for Canadians.\\nWe all remember the wildfires in Fort McMurray. We all remember the floods in Calgary. We all remember the flooding that happened across the country.\\nWe must fight climate change. Economists have said that the best mechanism in our system is a price on pollution to combat climate change. That is what we are implementing. We will fight climate change.Madam Speaker, we have a great deal of respect for the workers in this country. We supported them during the pandemic. We take the entire EI system very seriously. The minister has been focusing on the modernization of the EI system. \\nWe will continue this work and we will have a solid plan to respond to workers' needs.Madam Speaker, I have said it in the House already this week, and I will say it again. We listened to Canadians, we worked with the industry, we worked with our Liberal caucus, which leaned in on this issue, and we are going to pause the escalator tax on beer, wine and spirits for one year at 2%. It was going to be less than a cent for a can of beer, and now it is going to be even less for a can of beer.\\nWe are with the tourism industry. We are with this sector. We are going to support them. We have heard from Canadians. We made the right move.Madam Speaker, the Conservative opposition has a golden opportunity to support Canadians at a time of high inflation by supporting our budget. Conservatives have no record to stand on when it comes to taxes. When we lowered, not once, not twice but three times, taxes on middle-class Canadians, how did the Conservatives vote? They voted against. When we reduced taxes on workers, how did the Conservatives vote? They voted against. When we lowered taxes across the board, once again they voted against.\\nThey have a phobia of us supporting Canadians. Thank goodness, we have got Canadians' backs.\", 'Madam Speaker, with prices skyrocketing, Canadians expect this government to work to make their life more affordable, but the Liberals have let families down time and time again.\\nThis time, they gave Rogers and Shaw the green light to continue gouging Canadians on their Internet and cellphone bills. We are already paying some of the highest prices in the world for these services. The Liberals are letting business leaders get rich at the expense of Canadian families.\\nWhy did the minister and the government let Canadians down?', 'Madam Speaker, as farmers look to begin seeding, input costs—Madam Speaker, as farmers look to begin seeding, input costs are top of mind. They have already been losing tons of money under the carbon tax, but the Liberals are going to raise it again at midnight tonight.\\nWhat makes it worse is that the Minister of Agriculture voted this week against an exemption for on-farm fuels. Even the Liberal chair of the agriculture committee voted with the Conservatives. He gets it, so why does the minister keep voting against farmers but is supporting the increase in the carbon tax at midnight tonight?', ' Madam Speaker, the Liberals are tripling their carbon tax, and tonight at midnight they will carry out their plan by raising the carbon tax again. Gas is going up, home heating is going up and groceries are going up.\\n Gladys emailed me the other day saying that she cannot afford this tax hike. She said, “We cannot afford more useless taxes.”\\nWill the Liberals stand up for Canadians like Gladys and cancel their plan to increase the carbon tax tonight at midnight?', 'Madam Speaker, I am glad to hear my colleague talk about input costs. Input costs have risen, and not because of any taxes but because of demand. \\nI hope the hon. member will support the budget, as we have increased interest-free advance payment programs by up to $350,000, something the Conservative members have supported in the past. I hope they will support the budget.', \"Madam Speaker, the Conservatives know that technology, not carbon taxes, will improve our environment, yet every time the Conservatives question the carbon tax or point out the costs, the Liberals stand up and point out some person who has lost their house in a recent fire, flood or hurricane as a reason to raise the carbon tax. The carbon tax will only make these people poorer. \\nThe Liberals tell us that effective tonight, they will be raising the carbon tax again. When will they cancel this disastrous plan?Mr. Speaker, the first petition I have to present today is from Canadians from across the country who are celebrating the release of the Michaels from China. However, they want to raise the fact that there are still 115 Canadians being detained in China, including Huseyin Celil, who has been detained for over 5,000 days. The Chinese government is refusing to recognize Mr. Celil's Canadian citizenship and is denying access to family, lawyers and Canadian officials.\\nThe petitioners are calling on the government to demand that the Chinese government recognize Mr. Celil's Canadian citizenship, provide him with consular service and legal services in accordance with international law, formally state the release of Mr. Celil from Chinese detention and his return to Canada as a priority, and appoint a special envoy to work on Mr. Celil's release and to seek the assistance of the Americans and other allies around the world in obtaining Mr. Celil's release.Mr. Speaker, the next petition I have is from folks from across Canada who are concerned about the defence advisory panel's report on systemic racism and discrimination in early 2022. This report calls for clergy from religious organizations who have a different view than the government on gender and sexuality to be banned as chaplains in the Canadian Armed Forces.\\nThis report slanders mainstream Canadian religions as discriminatory, misogynist and sexist. All Canadians, including members of the armed forces, are entitled to charter right guarantees of freedom of religion.\\nTherefore, the undersigned of this petition call for a rejection of these recommendations and an affirmation that all Canadians, including members of the armed forces, have the right to freedom of religion.Mr. Speaker, the final petition I present today is from petitioners from across Canada who are concerned about the Liberal Party's platform in 2021 denying the charitable status to organizations that have convictions about abortion which the Liberal Party disagrees with. This could jeopardize the charitable status of many hospitals, houses of worship, schools, homeless shelters and other charitable organizations that do not agree with the Liberal Party on this matter for reasons of conscience.\\nTherefore, the petitioners are calling on the government to protect and preserve the application of charitable status on a politically and ideologically neutral basis, without discrimination on the basis of political and religious views nor the imposition of another values test, and to affirm the right of Canadians to freedom of expression.\", 'Madam Speaker, while the Prime Minister stays in a swanky $6,000-a-night hotel struggling with just one butler, Sue, a senior in my riding, sees herself working three days a week. Why? It is because this costly NDP-Liberal coalition is set to raise its carbon tax again at midnight, meaning that Sue and all Canadians are going to pay more for heating, eating, driving and living. Perhaps it should focus on a real climate plan instead of punishing Canadians with a carbon tax.\\nWhy will this costly coalition—', 'Madam Speaker, tonight, 12:01 a.m. will spell very bad news for Canadians from coast to coast to coast. The Liberal carbon tax is going up.\\nThis is going to have a direct impact on every family in Canada, as the Parliamentary Budget Officer demonstrated yesterday, with numbers to prove it. Transportation, food, heating—they will all cost more.\\nWhy is the government once again punishing Canadian workers and families?Madam Speaker, that clearly shows that this government is completely out of touch with reality.\\n In a March 15 interview with the Journal de Québec, Groupe Robert, a well-established Quebec transport company, stated that this will have a direct impact on everything that comes from British Columbia, Alberta, Saskatchewan and Manitoba.\\nNot only do the Liberals not know what they are talking about, but everything will cost more for all Canadians, including Quebeckers.', \"Madam Speaker, if there is one role that must be free from any and all appearance of conflict of interest, it is the Conflict of Interest and Ethics Commissioner.\\nThe Liberals are proving their total lack of judgment once again by appointing a minister's sister-in-law as interim commissioner. We are not questioning her competence or integrity. Cabinet is the one at fault for choosing to appoint a family member of one of their own.\\nThe appearance of conflict of interest is obvious. Even though they do not seem to know what a conflict of interest is, we are asking the Liberals to reconsider this appointment.\\nWill they reconsider this appointment?Madam Speaker, this is just another in a long list of Liberal ethical lapses.\\nThey appointed one of the Prime Minister's neighbours from the cottage as special rapporteur on Chinese interference. They appointed a Liberal staffer to head the commission on Ottawa's protest convoy. Today, they appointed a minister's sister-in-law as Conflict of Interest and Ethics Commissioner.\\nNo one is questioning her qualifications. That said, there are 39 million Canadians out there, so why does every Liberal appointment always go to someone with Liberal Party connections?\", 'Madam Speaker, Canadians pay the highest cellphone prices in the world. In fact, Rogers telecommunications is the most expensive telecommunications carrier in the world. How expensive is it? It is three times as expensive as Australia and twice as expensive as the U.S. and Europe. The Rogers-Shaw deal will only make the priciest and the biggest company only bigger. We need more competition in Canada, which means not just a fourth carrier, but 40 carriers to supply more choice to Canadians, and lower prices. When will the minister get serious about competition instead of pandering to just one monopoly?', 'Madam Speaker, I have been speaking with energy workers, miners, auto workers and innovators who are more than ready to make Canada a world leader in clean energy, but to get cheap and renewable energy to market requires massive investments in the national energy grid.\\n Now, New Democrats worked with this government and we have pushed this government to get serious about sustainable jobs that are tied to obligations for good union wages and apprenticeships. What kind of funding will the government put in place to build the electricity grid that Canadians need for a sustainable 21st century? ', 'Madam Speaker, I am very happy that the member opposite asked that question, because this budget that we tabled this week shows exactly our commitment to a strong, sustainable electrical grid. We know that union workers and good-paying jobs are part of that work that we need to get done.\\nWe are supporting strong, sustainable jobs right across this country, and we know that our union workers are the backbone of the work we need to do.', \"Madam Speaker, Canadians want to see their government take leadership on tackling the climate crisis and creating good union jobs. New Democrats forced the Liberals to do just that in this year's budget, but more needs to be done. \\nFor eight years, the Liberals have missed the mark by handing out billions to rich oil and gas CEOs who are jacking up prices for people and polluting our planet. Will the Liberals finally stand up to big oil, eliminate fossil fuel subsidies and create a green industrial strategy?\", \"Madam Speaker, I think the budget speaks for itself. \\nI would say “forced” is a little harsh. Some of us have been on this for quite some time, making sure that workers are at the centre of this energy transition that is occurring, which involves not only building up renewables but also lowering emissions in the oil and gas sector itself.\\n It is Canada's largest industry. It is something that we cannot ignore. The only ones who know how to lower emissions, and the only ones who know how to build up renewables, are the workers in those industries. Not only do we support them, but we will insist that they lead this transition everywhere across this country.\", 'Madam Speaker, on International Transgender Day of Visibility, let us stand up for the protection and promotion of the human rights of people in Canada who are transgender, queer, non-binary and two-spirit. \\nCan the Parliamentary Secretary to the Minister for Women and Gender Equality and Youth share what our government is doing to lift up transgender voices and be allies to the transgender community?Madam Speaker, I am honoured to present a petition signed by citizens of Chateauguay—Lacolle that has collected over 180 signatures and focuses on Canadian-based companies that contribute to human rights abuses and environmental damage around the world. Unfortunately, people who protest these abuses and stand up for their rights are often harassed, attacked or killed.\\nThe petition calls on the House of Commons to pass human rights and environmental due diligence legislation that would require companies to prevent negative impacts throughout their global operations and their supply chains and require companies to exercise and report on due diligence.\\nI would like to thank Linda Bergeron, Micheline St-Arnaud and Josianne Leblanc for their long-standing work on this important issue.Madam Speaker, I would like to thank my hon. colleague for his work on this bill, especially since we already tried to pass it at least twice. Could he talk a little about the influence that this person will have? How can this person help youth with their careers or their artistic aspirations?', \"Madam Speaker, on this day, I am thinking of Emma Wakelin, a trans woman who shared that “It feels like every day we awake to a new law being proposed to strip us of our human rights, or more violence that extinguishes yet another trans life.” \\nAs the trans community members face attacks against their identity, dignity and existence, we, as a government, will continue to stand with them today and every day.Madam Speaker, of course the tragic events in Nova Scotia nearly three years ago devastated the nation. Our government is working hard to ensure that every woman has the support she needs and a place to sleep each and every night. We continue to make investments to ensure that this is the case, including in the budget just announced the other day, with $160 million, starting this year, for women's programs to ensure we are supporting shelters and women fleeing violence.Mr. Speaker, I rise today to present two petitions from constituents in my riding.\\nThe first petition was signed by 25 constituents in my riding of Kanata—Carleton. They would like to see the federal government do more to protect consumers, and as a result, want to see consumers reflected in important policy, regulatory and legislated decisions. To that end, the petitioners are calling on the government to establish an independent Canadian consumer advocate who would be answerable to government.Mr. Speaker, the second petition I would like to present today is signed by 644 of my constituents, on Canada's democratic process. The petitioners are a group of passionate high school students from Earl of March Secondary School and these young people believe that youth possess the knowledge and experience to take part in the most important responsibility in a democracy and that is voting in elections.\\nIn this petition, they call on the government to lower the minimum voting age to 16.\", \"Madam Speaker, Liberals chose a top minister's family member as the interim Ethics Commissioner. Of course, they gave millions of tax dollars and contracts to close friends and staff's relatives. This Prime Minister is the only one ever to break ethics laws twice and some of his MPs have too, four more times, for vacations and perks for their pals. \\nAfter eight years, Canadians have never struggled so much, but Liberals have never had it so good. Is that why the Liberals thought that Canadians would not see their ethics pick as anything other than trying to cover their own butts in the future?\", \"Madam Speaker, we should all remember clam scam, when the then fisheries minister was found guilt of an ethics breach for awarding a $24-million licence to a company to be ran by his wife's cousin. Now the Liberals have appointed the same cabinet minister's sister-in-law as the Ethics Commissioner. Really?\\nCan they only find family and insiders willing to work for them, or is this another attempt to censor disclosure of their ongoing ethics issues? Which is it?\", \"Madam Speaker, members of this House have worked for years on funding and governance for the Great Lakes Fishery Commission. As a result, the budget last year promised $44.9 million to DFO for the commission. However, every step of the way it seems like DFO is obstructing the will of Parliament. Last year, it dragged its heels in transferring that money to the commission. \\nWhen will the President of the Treasury Board crack the whip and ensure DFO complies with the will of Parliament and best practices on governance? Madam Speaker, in the year before Russia's invasion of Ukraine, Canada was spending 1.28% of GDP on defence. According to NATO last week, in the year since Russia's invasion of Ukraine, Canada has spent 1.29% of GDP. I read the budget document, but I could not find any information about defence expenditure as a per cent of GDP over the next five years.\\nWill the government commit to providing this very important information to the House as soon as possible?\", \"Madam Speaker, it is interesting that the Conservatives raised this question, because it was in fact Conservative members who underfunded and did not increase funding to the Great Lakes Fishery Commission.\\nThere is good news. In this budget, we corrected the previous mistakes of the Conservatives—They can continue to heckle me because they do not like the facts. The fact is that we are actually investing in our Great Lakes. We are going to continue to protect them, while the Conservatives allowed them to be underfunded and did not take the protection of our Great Lakes seriously.Madam Speaker, on the contrary, the PROC committee has been working diligently on this issue, continuing to hold more meetings to bring in more witnesses as opposition members have requested, and we support that. We will continue to work with the committee to find the most appropriate time, because the committee has other business as well, but this is a top priority to ensure that we are dealing with the issues of foreign interference, and we will continue to work hard on that.Madam Speaker, I am absolutely disgusted that the member opposite would outright lie, and yes, I am saying “outright lie”. I absolutely said—Madam Speaker, the exchange that happened was that the member opposite said to me, “You know, you don't have to be so mean all the time”, and I responded, “Like I care about your opinion of me.”\\nFor the member to actually use such a disgusting lie to try to defame—Madam Speaker, I will withdraw the word but the sentiment remains, that it absolutely did not—\", ' Oh, oh! Oh, oh! Oh, oh! Oh, oh! Oh, oh! Oh, oh! Oh, oh! Agreed. Agreed. Question. Agreed.', 'Madam Speaker, the Canadian Armed Forces plays an essential role in defending Canadians and supporting global security. We have been consistent in supporting its work, starting with our 2017 defence policy, which increased spending by over 70%. \\nIn the past year, we have made new investments in Canadian national defence totalling more than $55 million. We are also undertaking a review of our defence policy in the face of a changing global environment. Rest assured that we will keep making necessary smart investments in our forces.', \"Madam Speaker, the budget proves that Ottawa has not learned from its mistakes. If there is one lesson to be learned from the pandemic, it is that EI is failing most people who lose their jobs. In spite of that, the government is abandoning the reform it has been promising since 2015. Even today, 60% of people who lose their jobs will be left with nothing, particularly seasonal workers, the self-employed and those in non-standard jobs.\\nWhy does the government still refuse to help people who lose their jobs?Madam Speaker, the only thing Ottawa took away from the pandemic is debt. The budget passes that debt on to workers.\\nOttawa expects to collect an extra $24 billion in workers' EI premiums. However, the government is not putting that money towards EI reform. It is taking workers' money and using it to pay off $24 billion in pandemic debt.\\nWhy not use workers' money to protect them rather than paying off pandemic debt at their expense?\", \"Madam Speaker, budget 2023 invests in seasonal workers so they have five additional weeks of coverage for a total of 45 weeks. Also, in budget 2023, we propose establishing a new independent tripartite board of appeal to hear cases regarding employment insurance claims. \\nWe know Canada's EI system is complex, and that is why we are focused on improving it. In the past two years, the minister has led more than 35 virtual, national and regional round tables with workers, employers and academics. EI reform is a priority of this government. We are on it and we will get it done.Mr. Speaker, due to privacy considerations, Employment and Social Development Canada, or ESDC, does not disclose information regarding specific cases to anyone other than the employer and its authorized third parties.\\nEvery quarter, the temporary foreign worker program publishes the list of employers that were issued a positive or negative labour market impact assessment, or LMIA, decision through Open Government. Lists of employers are currently available from 2014 to Q3 of 2022, up to the end of September, at the following links: https://open.canada.ca/data/en/dataset/90fed587-1364-4f33-a9ee-208181dc0b97 and https://open.canada.ca/data/en/dataset/f82f66f2-a22b-4511-bccf-e1d74db39ae5.\\nNew quarterly data is typically published within three months following the completion of the final month of the quarter. Q4 of 2022, from October to December, is tentatively scheduled to be published by the end of March 2023.Mr. Speaker, due to privacy considerations, Employment and Social Development Canada, or ESDC, does not disclose information regarding specific cases to anyone other than the employer and its authorized third parties.\\nEvery quarter, the temporary foreign worker program publishes the list of employers that were issued a positive or negative labour market impact assessment, or LMIA, decision through Open Government. Lists of employers are currently available from 2014 to Q3 of 2022, up to the end of September, at the following links: https://open.canada.ca/data/en/dataset/90fed587-1364-4f33-a9ee-208181dc0b97 and https://open.canada.ca/data/en/dataset/f82f66f2-a22b-4511-bccf-e1d74db39ae5.\\nNew quarterly data is typically published within three months following the completion of the final month of the quarter. Q4 of 2022, from October to December, is tentatively scheduled to be published by the end of March 2023.Mr. Speaker, Employment and Social Development Canada, or ESDC, put out a tender around June 30, 2022, for chairs for passport offices. The details of the contract are as follows. With regard to part (i), the vendor is Ameublement Bureau Intérieur. With regard to part (ii), the contract value is $87,740. With regard to part (iii), a total of 801 chairs were purchased, of which 535 are without armrests and 266 are with armrests. With regard to part (iv), a total of 511 chairs were delivered to our ESDC warehouse in Montreal on July 15, 2022. A total of 290 chairs were delivered to the Passport Canada office in Ville Saint-Laurent on July 14, 2022. With regard to part (v), a total of two tenders were received.\", 'Madam Speaker, the budget still allows the automatic tax increase to take place tonight on beer, wine and spirits. Under this Liberal government, simple pleasures like enjoying beer with friends after work or a bottle of wine over dinner with a loved one have become unaffordable luxuries for working Canadians.\\nWill the government commit today to support my bill, Bill C-266, and cancel the automatic annual tax increase on beer, wine and spirits?Madam Speaker, we are in the middle of an affordability crisis. Any tax increase is too much. The tax was too high to begin with. There is no room for any more tax. The budget adds $4,200 in new costs for every Canadian family, more spending, more taxes, more debt. That means more inflation.\\nCanadians cannot even afford basic necessities like food, housing and transportation, and tonight the tax on beer, wine and spirits is going up, just as it does every year automatically under the current government.\\nWhy will the Liberal government not commit today that it will cancel the automatic annual tax increase on beer, wine and spirits?', \"Madam Speaker, the immigration minister's program to admit the families of language and cultural advisers who assisted our troops in Afghanistan has such rigid criteria that it will freeze out almost everybody it should be helping.\\nFor example, only those who were still in Afghanistan after July 22, 2021 are eligible, so this rules out the Afghans who were in the most dangerous parts of the country and who therefore had to flee their homes before the Taliban overran their regions. These family members are now trapped in third countries and are in danger of being transported back to Afghanistan, where they will be killed.\\nWill the minister change these restrictive criteria to fix the mess he has created?\", 'Madam Speaker, I want to thank the hon. member for his advocacy. I have said it in the House, and I will say it again today: If it were a matter of will, there would be 40,000 Afghan refugees here already, but we know that in reality, with everything that has been happening, there have been challenges and obstacles. We are working very hard in addressing those, for instance through Bill C-41. There are a number of factors that we do not fully control, including safe passage.', \"Madam Speaker, Canada's innovation and economic priorities are evolving. We will continue to prioritize clean growth, good jobs and investments for the future.\\nBudget 2023 announced many innovative new measures that will enable Canada to play a leadership role on the international stage. Can the Minister of Innovation, Science and Industry tell us about these important measures?\", \"Madam Speaker, the cover-up continues. It has been a month since the Prime Minister's national security adviser and the director of CSIS committed to providing the dates on which the Prime Minister was briefed about Beijing's election interference. One month later, there is still no response. All the Prime Minister needs to do is check his calendar.\\nWhen will the Prime Minister stop the obstruction, stop the cover-up and give us the dates?\", \"Madam Speaker, ethics violations do not seem to be a problem for the Liberals, as long as they stay in the family.\\nIf there is any position where independence must not merely be presumed but be a certainty, it is that of Ethics Commissioner. Someone at the Office of the Prime Minister, however, thought that it would be a good idea to temporarily appoint a Liberal minister's sister-in-law to rule on the ethics of ministers in the Liberal government.\\nWhen will the Prime Minister put a stop to his hypocrisy and revoke the interim appointment of the sister-in-law of his best friend, the minister?Madam Speaker, during question period, you decided to take out a question from the official opposition. Without calling your decision into question, I would like to ask the Table for clarification about the application of the decision. \\nAs you know, you have a list in your hands to help you announce the members who will be speaking. I do not believe that there is any standing order of the House that permits you to decide to take out a specific question based on a list provided to you. The list is there as a guide to make the House run smoothly.\\nI would like the Table to tell us exactly how to proceed if such a situation were to arise again. I think we need to know. As you noted, it made the opposition members uneasy. We want to follow the rules of the House, as does the Leader of the Opposition. We need some clarification about how such decisions will be applied in future.Madam Speaker, I understand, but I wanted to know one thing specifically. One of our members rose to speak when none of our other members were rising. However, you gave the floor to the next member on the list. That is why I think it is important to get clarification.\\nThe member we chose to ask the question was entitled, in my opinion, to ask it, because he was the only member rising to be recognized and able to ask the question.\\nFor your information, there should be no list, so you could not have asked the next member to rise in place of another, since this list normally does not exist, according to the rules.\", \"Madam Speaker, families in my riding of Malpeque are benefiting from important, significant savings thanks to our government's early learning and child care program, but they are concerned that in the future another government, like the one that campaigned against their child care program, would cut the program.\\nCan the Parliamentary Secretary to the Minister of Families, Children and Social Development highlight to this House how it is supporting families across P.E.I. and also how we are progressing in enacting this important social program into legislation?Mr. Speaker, on a point of order, someone in the official opposition referred to us as rats. I think that is pretty unparliamentary.\", 'Madam Speaker, I am so glad to report that Prince Edward Island, as well as provinces and territories across the country, is taking important steps to make child care affordable for Canadian families. In fact, P.E.I. announced that it cut fees by 50% last December. Day care fees are coming down, and new spaces are being created. Wages are increasing for early childhood educators, and we know how critical this is, because the childhood educator workforce is the foundation of our system. We need to make sure that the people who take care of our children are respected and well compensated.', 'Madam Speaker, the Mass Casualty Commission released a scathing report yesterday. It made clear that gender-based violence is not treated with the urgency and seriousness it deserves. To save lives, police must change the way they respond to reports of gender-based violence. We cannot remain idle. Lives are at risk. The government has an obligation to act with meaningful police reform, including addressing the culture of systemic racism within the RCMP.\\n Will the Liberals implement these recommendations without delay?', \"Madam Speaker, we have learned that the Governor General spent $700,000 on a four-day trip to Germany. This included more than $75,000 for four nights in the region's most luxurious hotels. This is on top of the $80,000 spent during another trip to the Middle East, just for in-flight meals for the Governor General and her 29 guests. This works out to $2,600 per person for food during the flight alone.\\nThat is obscene. Can the Prime Minister tell us whether he approves of that kind of spending? If not, has he taken the necessary steps to put an end to such wastefulness, once and for all?\", 'Madam Speaker, it is very important to remember that the expenses related to this trip by the Governor General were similar to other trips made by previous governors general. We must always recognize that when the Governor General represents our country, she brings a delegation to represent the best of Canada on many issues.\\nWe are aware of this, as is the Governor General herself. She will continue to monitor her spending. ', 'Madam Speaker, justice does not only have to be done but also be seen to have been done in order to uphold the dignity of the House.\\nWhen a member, four times, says something so patently offensive as calling another hon. member a liar, it must be dealt with. Our member said it once and was removed from the House. Justice has to be seen to be done in the House.', 'Madam Speaker, the member for Haldimand—Norfolk said it very well, and I do appreciate that. I just want to second what she said.Madam Speaker, it is my privilege to present the sixth report of the Standing Committee on the Status of Women, entitled “A Step-by-Step Approach to Supporting the Mental Health of Young Women and Girls in Canada”. \\nThis was one of the most difficult studies the committee has done in my years in the House of Commons. It was done with incredible collaboration from the staff, including Alexie, Dominique, Clare and our new clerk Danielle, the incredible staff of members of Parliament who worked on this and everybody in the room. However, most of all, it was the 11 members of Parliament who sat around the table to make sure that we were presenting a study that was good for women and girls. We worked to make sure the recommendations are things that should be listened to.\\nI thank my incredible colleagues for putting forward this unanimous report and putting the welfare of women and girls first.', \"Madam Speaker, I just wanted to clarify something on the original point of order. I was literally sitting in front of the member and heard the exchange. I can attest that what the member for Pickering—Uxbridge said was not what was said by the member opposite. I can attest that the member, in no way, ever referenced that, but I understand—Mr. Speaker, I am sure that if you canvass the House, you will find unanimous consent to see the clock at the start of Private Members' Business hour.Madam Speaker, before I begin my speech, I want to assure the member for Joliette that we are not planning to call an election this year.\\nI am rising today to express my support for Bill S‑202, an act to amend the Parliament of Canada Act with regard to a parliamentary visual artist laureate. This bill recognizes that we do our best work as legislators when we are informed by many types of knowledge and that visual arts are included in the essential foundation of thinking and understanding that the Library of Parliament represents.\\nAs the official representative of the Library of Parliament, the visual artist laureate would create works of art, organize events and enrich the Library of Parliament's holdings in order to promote the arts in Canada. Like our poet laureate, who condenses big revelations into small constellations of carefully chosen words, a visual artist laureate would, through their creations, not only give us something new to see but also give us new ways of seeing things. We could certainly use that right now. \\nI have had the privilege of serving Canadians in Parliament over the course of the COVID-19 pandemic, and the experience has allowed me to confirm, on a large scale, many of the ideas I have long held about the people living across this country: their resilience, their stamina, their care for one another and their incredible hard work. I have also seen some breathtaking reminders of Canadians' imagination and creativity, extraordinary artwork that has revitalized our hopes, enlivened our thinking and allowed us to remain connected to our common humanity despite the distance between us. \\nWhile it is definitely not my goal to minimize the painful feelings of separation and isolation that so many Canadians experienced during the early days of the pandemic, I have had the pleasure of meeting many people who are making deep connections with each other that are not solely based on being in the same place at the same time.\\nWe bear witness to one other when we communicate what we really care about, and today we have many ways to convey those thoughts and feelings. Some choose new technologies, which have reached heights we never thought possible before the pandemic, but many people choose to do things differently. For example, the information communicated through a letter is very different from a live dialogue between two people.\\nSimilarly, the arts represent a beautiful language for expressing ourselves and showing others what gives meaning to our lives. Art is also a powerful means of expressing the important issues that are at the heart of our experiences. It is an extremely effective tool for understanding and resisting the tumultuous times we are living in and for imagining a better world.\\nThese new visions that Canadian artists could offer are not bound by the constraints of literal eyesight. Take Bruce Horak, for example, a Calgary-born visual and performing artist. He had a cancer in childhood that took most of his eyesight. Since then, he has been legally blind.\\nSpeaking of his journey to painting in one of a series of interviews with artists from the Disability Arts Movement, presented by Tangled Art + Disability and the Art Gallery of Ontario, Mr. Horak said, “People would ask me how I see, how I am able to do what I do with 9% vision, so I started painting portraits to try to capture the way I see the world. That includes auras and halos and floaters and a lot of distortions...I painted a portrait a day for a full year and really enjoyed the connection that happened between myself and my subject.”\\nSince beginning this project in 2011, he has painted over 600 individual portraits from live and virtual sessions, giving his subjects the opportunity to see themselves in a new way. Similarly, the visual artist laureate could facilitate more of these perceptual transformations, changing how Canadians see themselves and demonstrating the inherent richness that every different way of seeing brings to our collective.\\nThat richness has so often been squandered, whenever different ways of seeing have been shut out, cut down or marginalized. We lawmakers must take action to see our country's problems from other perspectives. Our vision captures only a pinhole of the bigger picture. For us to make just laws, we must work harder at seeing everyone and everything as they truly are.\\n In an inspiring artwork from 2019, Montreal artist Michaëlle Sergile used Maya Angelou's voice reciting The Mask, which is a mash-up of We Wear the Mask by Paul Laurence Dunbar, a 19th century Black poet, and Angelou's own poem For Old Black Men, to translate sound into something visible, tactile and entirely new.\\n The sound waves of Angelou's masterful and devastating performance of this piece, which speaks to the pain and injustice Black people have had to mask with laughter, is mapped with a spectrograph into a visual pattern. It is then transformed again into something new and richly layered by weaving that pattern into a black and white mix of cotton, alpaca and acrylic, with these broad, shawl-like ribbons of Maya Angelou's voice in fabric, cascading down the gallery wall. How would it change us if we could literally wrap the sound of those words around our shoulders?\\nA visual artist laureate could open up a gateway to transformative experiences such as these, not just for legislators, but for all Canadians.\\nWhen Gabrielle Roy, one of the most celebrated authors of 20th century French-Canadian literature, asks, “Could we ever know each other in the slightest without the arts?”, she reminds us that certain parts of ourselves can only be reached by taking detours, through metaphors and representations, through poetry and art.\\nNo matter how many people we share our time and space with, we live most of our lives inside our own heads. I would never call this a small space, though. Our inner world is like an ocean, full of mysterious, undiscovered spaces.\\nEven though most of us know the path that runs along the shore, we are not comfortable spending time on the other side of the sandbar, beyond where our feet can touch the bottom, all alone, deep underwater, under pressure, in the unfathomable valleys of our being.\\nStill, it is in these strange and isolated places that artists create most of their work. Their creations allow us to escape the confines of our consciousness, if only for a brief moment, and see life through the eyes of another person, in order to connect the submerged continents that separate our many ways of being.\\nWe must take every opportunity to enjoy the discoveries we make on these introspective journeys and recognize the courage of artists who resist the pressure to explore the deepest parts of their souls. We must examine, with courage and curiosity, both the treasures and the ruins they bring to the surface, in order to better understand who we are and where we come from. We need to pass Bill S-202 and create the position of parliamentary visual artist laureate.\", 'Madam Speaker, I want to say that I was here too. Like my colleague, I clearly heard the words that were said. I am the mother of twins. I have been pregnant too. I do not understand how someone can exploit that for political purposes. Frankly, it is disappointing.', \"Madam Speaker, I rise today to present 12 petitions signed by residents of my constituency and surrounding communities.\\nThe first seven petitions, signed by 1,287 residents, call upon the Parliament of Canada to stop the Liberal government's ban on hunting rifles.Madam Speaker, the next four petitions, signed by 115 residents, call upon the Government of Canada to delay its expansion of medical assistance in dying.Madam Speaker, the final petition, signed by 173 residents, calls upon the Parliament of Canada to remove the Prime Minister and his government from office.\", \"Mr. Speaker, it is always a pleasure to rise on behalf of the people of Kamloops—Thompson—Cariboo.\\nIt is a tremendous honour to rise today and present petition e-4155 on behalf of the people from Kamloops—Thompson—Cariboo. This is a petition that advocates for a change to the Income Tax Act that would reflect community land trusts and beneficial tax interests for people who are donating land for the betterment of the community as a whole. This would be a game changer, when it comes to donations and building, to the benefit of all people in Kamloops—Thompson—Cariboo and throughout Canada.\\nI want to thank the person who has been behind this drive with the Kamloops and District Chamber of Commerce and Colin O'Leary. I also want to thank Acacia Pangilinan and Brian Jones with the Kamloops and District Chamber of Commerce for their service. It is an honour to table this petition.\\nGiven that Kamloops was the birthplace of the tax-free savings account, I hope we can have something as significant as that.\", 'I will remind members that they are meant to stick to the words on the petitions in front of them.\\nThe hon. member for Spadina—Fort York.I will again remind members they are meant to stick to the words written on the petition from petitioners.\\nThe next petition is from the member for Kanata—CarletonIs that agreed?Is that agreed?Is the House ready for the question? The question is on the motion.\\nIf a member of a recognized party present in the House wishes that the motion be carried or carried on division, or wishes to request a recorded division, I invite them to rise and indicate it to the Chair.Pursuant to order made on Thursday, June 23, 2022, the recorded division stands deferred until Monday, April 17, at the expiry of the time provided for Oral Questions.Is that agreed?On a point of order, I recognize the member for Edmonton West.It is clear we have quorum in the House.I did not hear that term. We will have to check Hansard for the use of that term. I will give a general reminder to be respectful, particularly as we close out this week of Parliament.\\nI will return the floor to the member for Cloverdale—Langley City.', \"Mr. Speaker, I have the honour to present a petition from many concerned citizens of Toronto who are extremely upset by Harbourfront Centre's lack of public consultation in undertaking repairs to a cultural landmark. When Heritage Canada provided Harbourfront Centre with $20 million in repair and upgrade funding, it included the replacement of a much beloved and popular skating rink. Harbourfront, behind closed doors and without public consultation, decided to rip up this landmark's community skating rink.\\nThe petitioners call upon the Government of Canada to review its financial commitment to Harbourfront and its obligations. They also want the government to advise the centre that it has deviated from its initial goals and request the centre consult area residents on its new priorities, including maintaining the skating facility.\\nI thank the petitioners, especially Carol McCanse, for their hard work on this important issue. Harbourfront Centre should throw open its doors and listen to the voices of our community and the taxpayers who provided this $20 million.\", 'Mr. Speaker, I rise to table a petition calling on the Government of Canada to urgently end the legislative poverty that 1.5 million disabled Canadians live with every day and to establish a Canada disability benefit that upholds human rights and the UN Convention on the Rights of Persons with Disabilities.\\nTwo Vancouver East constituents, Harris Taylor and Jan Nathanson spoke with their neighbours to gather signatures and show the deep support in our community for lifting all disabled people out of poverty immediately.\\nI hope the government will heed their call and that all parties will work collaboratively together to swiftly establish an adequate benefit.', 'Mr. Speaker, I have three petitions.\\nThe first is to ensure that Bill C-21 does not get passed. It was the RCMP incompetence that led to punishing farmers and hunters.Mr. Speaker, we have a request to condemn the unscientific mandates that kicked heroic members of the Canadian Armed Forces out after years of service because they were unable to take the shots.Mr. Speaker, I have an e-petition with over 1,000 signatures in support of the near surface disposal facility at the Chalk River Laboratories.', 'With regard to the government’s rejection of Sunwing Airlines’ application to hire 63 pilots, as testified by Sunwing Airlines’ president, Len Corrado, at the meeting of the Standing Committee on Transport, Infrastructure and Communities, on January 12, 2023: (a) what are the details of all discussions or meetings that took place regarding this application; (b) what departments, agencies, offices and individuals were involved in the review and rejection of this application; and (c) what supporting documents exist regarding this application, including, but not limited to, emails, texts, briefing notes, memos and reports, and what are the details of such documents?With regard to the government’s rejection of Sunwing Airlines’ application to hire pilots, as testified by Sunwing Airlines’ president, Len Corrado, at the meeting of the Standing Committee on Transport, Infrastructure and Communities, on January 12, 2023: why did the government reject the application?', 'Mr. Speaker, the Government of Canada has not joined or participated in any legal action against any tobacco company in relation to the harm caused by tobacco usage since November 4, 2015.Mr. Speaker, provincial and territorial governments, along with the Government of Canada, are part of the proposed class action commenced by British Columbia against 50 opioid manufacturers and distributors that allegedly acted inappropriately in the marketing and distribution of opioids. The defendant companies are listed in the attached addendum. One of those defendants was the Canadian entity of Purdue Pharma. In June 2022, British Columbia announced that it had reached a settlement with Purdue Pharma wherein Purdue agreed to pay $150 million for the Canadian governments’ claims. In December 2022, the B.C. court approved this Purdue settlement, as well as another out-of-court settlement negotiated by B.C. with the Roxane group of defendants. This legal action by British Columbia is ongoing as it relates to the remaining defendants, with multiple court hearings currently scheduled. British Columbia’s application to certify this proposed class action lawsuit in the B.C. Supreme Court is scheduled to be heard in the fall of 2023.\\nProvincial and territorial governments, along with the Government of Canada, are also part of the proposed class action commenced by British Columbia against McKinsey & Company, which allegedly acted inappropriately in the course of providing consulting services to opioid manufacturers and distributors. British Columbia commenced this proposed class action on behalf of all Canadian governments in December 2021. This legal action by British Columbia is still at a very early stage and is ongoing.\\nThe list of defendants in British Columbia’s proposed class action is as follows: Sanis Health Inc., Shoppers Drug Mart Inc., McKesson Canada Corporation, Mylan Pharmaceuticals ULC, Sandoz Canada Inc., Apotex Inc., Apotex Pharmaceutical Holdings, Inc., Bristol-Myers Squibb Canada, Bristol Myers Squibb Company, Paladin Labs Inc., Endo Pharmaceuticals Inc., Endo International PLC, Endo ventures Ltd., Ethypharm Inc., Janssen Inc., Johnson & Johnson, Pharmascience Inc., Joddes Limited, Pro Doc Limitee, Le Groupe Jean Coutu (PJC) Inc., Purdue Pharma Inc., Purdue Pharma L.P., The Purdue Frederick Company Inc., Purdue Frederick Inc., Ranbaxy Pharmaceuticals Canada Inc., Sun Pharmaceutical Industries Ltd., Hikma Labs Ink., Hikma Pharmaceuticals PLC, Roxane Laboratories Inc., Boehringer Ingelheim Canada Ltd. or Boehringer Ingelheim Canada Ltee., West-Ward Columbus Inc., Teva Canada Innovation G.P.- S.E.N.C., Teva Canada Limited, Teva Pharmaceuticals USA, Inc., Teva Pharmaceutical Industries Ltd., Actavis Pharma Company, Valeant Canada LP or Valeant Canada S.E.C., Bausch Health Companies Inc., Imperial Distributors Canada Inc., Amerisourcebergen Canada Corporation, Kohl & Frisch Limited, Kohl & Frisch Distribution Inc., McKesson Corporation, Nu-Quest Distribution Inc., United Pharmacists Manitoba Inc., Procurity Inc., Procurity Pharmacy Services, Unipharm Wholesale Drugs, LPG Inventory Solutions and Normaco Inc.', 'With regard to the tender put out by the government on or around June 30, 2022, for chairs for passport offices: what are the details of the resulting contract, including the (i) vendor, (ii) value, (iii) number of chairs purchased, and the price per unit, broken down by type of chair, (iv) date the chairs were delivered, including the passport or government offices they were delivered to, (v) number of bids received?', \"With regard to the government's response to Order Paper question Q-908 and the statement that approximately $320 million had been spent on integrity activities associated with various COVID-19 relief programs, as of March 31, 2022, and that approximately $556 million is estimated to be spent from fiscal year 2022-23 through 2025-26 on integrity activities associated with various COVID-19 relief programs: what is the return on investment, including the costs of the integrity activities, compared to the revenue collected as a result of such integrity activities, broken down by the each of the initiatives and costs listed in part (c) of the government's response to Order Paper question Q-908?\", 'Mr. Speaker, with respect to the above-noted question, what follows is the response from the Canada Revenue Agency, or CRA, as of February 13, 2023, the date of the question.\\nRegarding anticipated revenue collections, the CRA uses accrual accounting to report on administered activities. The CRA departmental financial accounting system for administered activities, the revenue ledger, collects information on amounts of benefits paid. Such amounts may be subject to redetermination due to integrity activities such as compliance reviews, adjustments and cancellations. Receipts and refund information are recorded in processing systems and cannot be traced back to specific integrity activities related to COVID-19 relief programs in the CRA revenue ledger.\\nAt this time, the CRA is unable to report on the recoveries in relation to the emergency benefits administered by the CRA, as it is developing its new reporting solution.\\nFor these reasons, the CRA is unable to respond in the manner requested with respect to return on investment.', \"With regard to the government's reaction to reports that U.S. customs and border officials are transporting migrants from Plattsburg, in New York State, to the Canadian border at Roxham Road: (a) when did the Canada Border Services Agency first become aware of these reports; (b) how long does the government estimate that this has been happening; (c) has the government taken any action to stop this from happening, and, if so, what are the details of the action, including (i) the date, (ii) who took the action, (iii) what specific action was taken; (d) since January 1, 2021, broken down by month, how many people crossed the border into Canada at Roxham Road; and (e) does the government have any estimates on the percentage of migrants who have crossed at Roxham Road, after receiving a ride to the border from a U.S. customs or border official?\", 'With regard to Public Services and Procurement Canada and the Integrity Regime, since November 4, 2015: (a) what are the details of any memorandums, briefing notes, or other similar type of documents which discussed the status of McKinsey & Company’s acceptability to receive contracts under the Integrity Regime, including, for each, the (i) date, (ii) sender, (iii) recipient, (iv) type of document, (v) title, (vi) file number; (b) does the government consider McKinsey & Company to have met the Integrity Regime’s definition of an ethical supplier; (c) has any government official ever raised the issue of McKinsey’s eligibility under the Integrity Regime, and, if so, what are the details of each instance, including (i) the date, (ii) who raised the issue, (iii) who the issue was raised with, (iv) the concerns raised, (v) the reason the concerns were dismissed; and (d) has the registrar received notification from McKinsey & Company per the Ineligibility and Suspension Policy of any criminal charges or convictions or other relevant circumstances with respect to any of their work abroad, and, if so, on what dates?', 'With regard to the Department of Fisheries and Oceans: (a) what is the amount of northern cod that was caught and reported as bycatch, broken down by year for each of the last three years; (b) what is the breakdown of (a) by each country that is a member of the Northwest Atlantic Fisheries Organization; and (c) why were the northern cod and northern shrimp trawl surveys cancelled for 2023, and who made that decision?', \"Mr. Speaker, this being such an important private member's bill, we should have quorum here.\\n And the count having been taken: Madam Speaker, I appreciate the opportunity to speak to this today. I want to thank my colleagues. There were a lot of really heartfelt speeches. I have asked the member before about when she opens her remarks. It was hilarious. It was a great story about the general neutrality of it, so I want to say thanks and to thank my colleagues today for some really great speeches. I hope that we could actually see that in other speeches, not just my own, going forward.\\nI have limited time today, so I want to talk about some of the great events going on in my own city around art. However, before I do, I wish to point out that when we look at the Treasury Board contributions page for grants to the arts and culture, per capita, Alberta and Edmonton are receiving far less than other provinces are. I hope that the government will take a serious look at that and provide equal funding to the arts on a per capita basis.\\nOne of the programs we support is the Edmonton Opera. It does phenomenal work and provides a lot of jobs in the arts and culture industry, but we see a struggle for Alberta organizations to receive federal funding. I hope that the government will address that.\\nI know that my time is very short, but I just want to talk about some of the things going on in Edmonton right now.\\nPeople like to make fun of Edmonton. They call it “Deadmonton”. We actually have a coffee called Deadmonton coffee. They think it is kind of a backwater for arts and culture, but I think that people would be surprised by what goes on in our city.\\nWe are called the “Festival City” for a reason, with all the events going on in the summer. I just want to point out events for this week alone, and I am going to read out some of the things going on in Edmonton to do with visual arts.\\nWe have a paint night with Red Pepper Painting Parties, and that is at the Anvil Coffee House in the Ottewell area. We have a “Sip & Paint Night” with Viniology Art, which should be great because my wife is in the wine business, and being in politics, I am in the wine-drinking business. That is at the Stanhope Eatery just off of Whitemud.\\nWe have “Weekend with the Model” going on at Harcourt House. Again, this is all in just one weekend in Edmonton.\\nWe have a paint night with the Pub N Paint at Western Barcode. I want to bring out this specific location because it is in my riding. For people in Edmonton looking for something to do, it is at 20130 Lessard Road, so that is a free plug for Western Barcode in my riding.\\nThere is “Paint Night in the Secret Garden” going on at the Brew+Bloom Café.\\nThere is a great one at Pure Casino, and I love this one: “Art Battle Edmonton”. It is described as 12 artists, three rounds and one champion. That sounds like some artist Lord of the Flies-type event. I look forward to going to that.\\nAs well, actually going on tonight is “Gallery '23” at the Dinwoodie Lounge near the University of Alberta; it is a music, art and research event with formal dress. I can go if Air Canada actually obliges me, which I doubt. It has delayed me twice, and it looks like I am missing my connecting flight tonight. \\nWe see that this is, again, one small capsule of time in Edmonton. This is just in painting. Edmonton has a flourishing visual arts district and community as well, whether it is in video games or YouTube production.\\nThere are lots of events, and I am glad that the bill brought up this opportunity to perhaps celebrate and grow the arts industry. Again, I hope that we can approach arts and culture funding in Alberta, and I am sure, probably in the other western provinces, with a more fair and equitable funding process. That way, arts and culture in Alberta and especially in Edmonton West, where it is more important than the other areas, is treated fairly and equally as if they were perhaps in downtown Toronto or Vancouver.\\nThe jobs that they create in Edmonton and in Alberta are just as important as the jobs created in the rest of the country and just as important to the people of Edmonton.\", \" Uqaqtittiji, I wonder, given that Canada is founded on indigenous peoples' lands, if this bill does pass, whether maybe the first laureate should be indigenous. Does my colleague agree? Uqaqtittiji, I am happy to rise today representing Nunavummiut on the importance of Bill S-202, an act to amend the Parliament of Canada Act, sponsored by the member of Parliament for Bow River in Alberta. The bill proposes to create a position called the parliamentary visual artist laureate. The person holding this position would then be an officer of the Library of Parliament, promoting the arts in Canada.\\nBefore I begin, I would like to acknowledge that today is National Indigenous Languages Day. I thank Her Excellency the Governor General for raising awareness on this day. Today on her website, she educated us about the word “ajuinnata”. Translated into English from her Nunavik dialect, ajuinnata “means to never give up, no matter how difficult the task ahead might be.” \\nOne word I will remind the House of is the word I start with every day in my speeches in the chambers. I say “Uqaqtittiji” all the time, and people still ask me what that means. Uqaqtittiji means the one who gives space to speak. The term has no gender attached to it, so when I say it, I do not need to worry if it is the member for Algoma—Manitoulin—Kapuskasing, the member for West Nova or the member for Brossard—Saint-Lambert sitting in the chair.\\n To get back to Bill S-202, visual arts are an important expression of identity, both individually and collectively. Individual artists are lucky enough to have the talent and skills to express any and all of the emotions those of us who are less talented wish we could express. Indeed, I share gratitude for their talents.\\nThe collective identity comes from different backgrounds. Predictably, I will speak to the Inuit and indigenous contributions to Canada’s national identity. The contributions by Inuit and indigenous visual artists to Canada’s collective identity are vast and expansive. I have only to mention Qinnuajuaq, or as non-Inuit say her name, Kenojuak Ashevak, for members to imagine her beautiful owl prints, which are so commonly sold in museums today. Qinnuajuaq was said to have been born on October 3, 1927. She died on January 8, 2013.\\nQinnuajuaq was born in an igloo at a camp called Ikirasaq at the southern coast of Baffin Island. In the 1950s, Qinnuajuaq was sent to a hospital in Quebec City against her will after having tested positive for tuberculosis. Because of the adversity and strength she had, Qinnuajuaq became an icon for sharing her talents.\\nWhen I mention Germaine Arnaktauyok, members can imagine the design on the iconic two-dollar coin that was issued by the Royal Canadian Mint in 1999. Germaine showcases the beauty of Inuit in her artwork. Germaine is an Inuk, and she has illustrated several books. I am inspired by her, as she always expresses the strength of Inuit in her works.\\nI love the artwork of Tanya Tagaq. She is more well known for her modern throat singing, which is just as powerful as her visual art. The last time I watched Tanya perform, I had goosebumps. When I read her book, Split Tooth, I felt surrounded by her enthralling expressions. I look up to her for her courage and for being an Inuk warrior.\\nBlake Angeconeb is a talented Anishnaabe artist who was commissioned by Google, and worked with Danielle Morrison, to commemorate the great works of Norval Morrisseau. Thinking of Norval always reminds me of discovering the use of his works in the iconic movie The Shining.\\nBlake, by the way, has a great collection of works available on his website, including a description of Moving Forward, Together, which was commissioned by Bimbo Canada as part of a five-year commitment with the Gord Downie and Chanie Wenjack Fund. It is within “a Legacy Space to build cultural understanding, connections and a path to reconciliation between Indigenous and non-Indigenous peoples.”\\nAnother great visual artist is Christi Belcourt, a Métis visual artist who is best known for her acrylic paintings. Christi is an amazing activist. Through her works, she leads us to do better for our environment. I love particularly that she worked in solidarity with Inuit hunters from Pond Inlet and Arctic Bay and created “Respect Inuit or Leave”. This work was particularly important as it helped contribute to the protection of Inuit rights and values to protect the environment and wildlife surrounding Baffinland Iron Mines' proposal to expand its Mary River iron ore project, which is having a targeted impact on five communities in the Qikiqtani region.\\nCOVID-19 left such a huge impact on Canada and the world. Many artists were particularly impacted. According to research from Hill Strategies Research in October 2021, there was a 25% decrease in employment levels, including self-employment, in the arts, entertainment and recreation, higher than any other industry in 2020. Yet COVID-19 showed us just how important visual art is. As we all turned to Zoom, Teams and other software to join in meetings, we all became purposive in what we would show as our background. At one point, I remember specifically wanting to showcase the beautiful artwork of Madeleine Qumuatuq as she uses her surroundings to express her works, including the beautiful tundra she is surrounded by in Pangnirtung.\\nIf Bill S-202 passes, we must ensure that when the House of Commons Speaker and the Speaker of the Senate, acting together, select Parliamentary visual artist laureates, they are indigenous. Canada enjoys its diversity because of indigenous peoples. Canada enjoys its diversity on indigenous people's lands. Canada must express its commitment to ongoing reconciliation by ensuring that among its first Parliamentary visual artist laureates will be Inuit, Métis and first nations.\", 'Madam Speaker, I say good day to everyone. It is a pleasure to rise in the House this afternoon to talk about Bill S-202, an act that would amend the Parliament of Canada Act and that is better known as the parliamentary visual artist laureate.\\nThis Senate bill proposes to establish a new officer of the Library of Parliament called the parliamentary visual artist laureate and to give that position a term of up to two years. This new officer would be tasked with creating works of art for Parliament and engaging with visual arts communities from coast to coast.\\nThe Parliamentary Budget Officer assumes that the overall cost of a visual artist laureate would be in the neighbourhood of $100,000. This is based on the cost of the established parliamentary poet laureate position we already have. \\nMy Conservative colleagues and I support the arts in this country, as well as the culture and diverse heritage of Canada. Through my work over the past eight years on the Standing Committee on Canadian Heritage, I have had many opportunities to learn from Canadians and demonstrate that support. My colleagues on this side of the House and I, on the heritage committee, have heard many witnesses testify from the arts community who are struggling financially. We have made common sense suggestions to the government for legislation to support these artists in our country.\\nUnfortunately, I have been disappointed by the lack of support by the Liberal government for online content creators; let us make no mistake, they are really artists themselves. Bill C-11 threatens some of these artists, and no amount of testimony or discussion has caused the government to even give this issue a second look. This is an avoidable mistake.\\nMany artists came to committee to talk about the online streaming bill that gave them the opportunity to connect not only in their community and this country of Canada but worldwide. These are the same artists and creators who have made a name for themselves but are now being censored, and last night, the government moved closure on Bill C-11.\\nThe Senate looked over Bill C-11 for months and recommended 26 amendments. Even the Senate agreed that this was a huge issue in the red chamber. However, the government refused eight amendments that dealt with censorship. These are artists who may never have a chance to make $100,000 a year, but like this Senate bill, it is all about freedom of expression.\\nIt is interesting that Bill S-202 does not refer to it, because when another creative bill was being studied, it was all about limiting the freedom of expression. With regard to this legislation, Bill S-202, I will remain optimistic and open-minded. I will listen to members, who will no doubt deliver thoughtful remarks, and I will listen to all Canadians. However, I will remind everyone that it is Canadians who will bear the brunt of the cost of this bill, and I will listen closely to hear their thoughtful views. \\nI regularly send information into my riding requesting feedback. I am never disappointed by the range of opinions and carefully considered comments we get back. I learn something every time we send out a mailer and interact with constituents. Canadians, as we all know, are very smart, and I trust them to make good decisions about how we spend their money here in Parliament.\\nWe will get the opportunity to hear from Canadians when this bill goes to committee. We will hear from witnesses and gather more information. For example, was there a demand for the creation of this position in the first place? What work is expected to be produced by the individual in this position? How would this individual be selected? Would the work produced reflect Canadian values we can be proud of? Are there any limitations on their work? \\nSome of the questions we are talking about here today are about what we need to find out in committee. These are just a few important considerations. As we all know, Canada is rich in talent in every artistic field.\\nI have been privileged to travel to every coast of this country, and I can say that Canadians are creating art every day in every way across this great country. My office in Saskatoon, in fact, is decorated with meaningful art pieces by talented Canadians, including my own wife, Ann.\\nThe late Bob Pitzel from Humboldt made a number of paintings that I have in Saskatoon and here in my Ottawa office, and I cherish them. Ann and I have supported artists for years by buying their treasures and helping non-profit organizations like Artists Against Hunger, which raises money for local charities in our city of Saskatoon.\\nThere is no shortage of creativity and talent in Canada. In fact, I had an opportunity to visit Stornoway just before Christmas. That is the residence of the Leader of the Opposition. On the wall, I was pleased to see a painting by the late Allen Sapp, an artist from Saskatchewan. It was a painting from his catalogue that I had tried to purchase for myself, but it was not available; then I saw it on the wall at Stornoway. I guess I cannot take that picture back home with me.\\nAllen Sapp, who unfortunately passed away in 2015, was an indigenous artist; he really set the table in our province for art. In fact, in the city of North Battleford, there is a museum that all Canadians should go to. Allen Sapp was one of the finest painters that this country has ever seen.\\nCould a collection of artists who are already creating art contribute their work in order to fulfill the goal of Bill S-202? I just throw that question out there. These are options that we might consider before creating a new exclusive post.\\nThis bill proposes mandating a visual artist laureate to promote arts here in Canada. Canadians have been doing this since the birth of this nation, some 150-plus years, without a mandate. Art is an amazing thing. Creativity does not need to be mandated.\\nCOVID was particularly difficult for artists in this country. It was difficult for everyone, but certainly in the area of the arts. Artists could not show their work, and it was very tough on them. We heard from them at heritage committee. This is a sector that I would like to hear from on the idea of a visual arts laureate. They would provide a level of understanding that should be heard.\\nWith the reckless spending and the runaway debt under the current government, it makes sense to hear from Canadians what they want. Do they feel this is value for money, or do they have other priorities for arts funding in this country? Is this the best way to support artists in Canada, and is it the best time to create new expenses?\\nI would like to thank my hon. colleague from the other place, the senator from Manitoba, for this bill. I think we can all agree that members in the House support the arts, culture and diversity. There are many ways to support that priority in Canada.\\n I would like to thank some of the artists from my city. There is the late Hugo Alvarado. Cam Forrester has a group in our city called Men Who Paint. It has several exhibitions. It is a fabulous group of artists in Saskatoon. It does tremendous work, and its members volunteer their time for workshops, which helps younger artists get involved.\\nWe have Cheryl Tuck Tallon. Ernie Scoles is indigenous, and he does so much in our city, like volunteering items for promotion at fundraising events. We also have Lorna Lamothe, Laurel Schenstead-Smith, Marian Phaneuf and I could go on.\\nI thank members for their time on Bill S-202.', \"Madam Speaker, I am pleased to rise this last Friday before the break to speak to Bill S‑202, which would create the position of visual artist laureate for the House. I want to draw some parallels to something similar that we are already familiar with and that my colleagues mentioned, the position of poet laureate. I will even refer to some speeches that were made at the time. We will go back to 2001 when that position was created, and I will speak about certain differences and also certain similarities between the two positions.\\n When the position of poet laureate was first created, the Bloc Québécois was concerned about the language issue. Indeed, a poem in its original language is never the same as its translation. We used to joke that in this chamber there are always two official languages, English and simultaneous translation.\\nOther than the fact that we do not anticipate any linguistic issues with the visual arts, one of those differences is that the role being created does not have the same scope. Back when there was a poet, that person was asked to try to poetically express the rhythm of Parliament, which is in itself an enormous task, consisting of bringing our work to life artistically. However, the poet also faced a challenge to create works destined to be read in the House or during official events.\\n In this case, the artist will have a somewhat different role. The artist will be able to produce works themselves, but they will also be able to cause work to be produced, sponsor artistic events, give advice to the Parliamentary Librarian, in particular, regarding acquisitions. They will also be able to perform such other related duties as are requested by the Senate or the House of Commons. The role of the future visual artist is, then, slightly different from that of the poet.\\nThe nature of the art will also be different. Poetry is a bit more limited in terms of scope, whereas, here, the visual arts can include drawing, painting, sculpture, printmaking, design, crafts, photography, videography and filmmaking. The choice of medium that the artist can use is much broader than words, which is what the parliamentary poet laureate uses.\\nOur Conservative colleague mentioned the matter of cost. We are not really bothered by that because, for $100,000 a year, we expect the parliamentary visual artist to be much more cost-effective in terms of productivity than the Governor General, for example. The Bloc Québécois therefore does not feel the cost to taxpayers is an issue here, and we are hoping that the works that are produced will be a great source of inspiration for everyone.\\nThere are perhaps some things, however, that might bother me about the position. Art can be an extremely effective political weapon, so I hope that the position of visual artist will not be politicized. We do not want there to be a mandate to politicize the art, and we hope that the artist will have as much freedom as possible in their work.\\nI am indulging in some wishful thinking about the artist's work. If their art is meant to reflect the diversity of Canada, I would hope that the diversity will include the fact that there is a francophone minority outside of Quebec and that Quebec itself is a francophone minority within Canada. That should not be forgotten; it is part of Canadian diversity. We dare to hope that this will be reflected in the artist's work. \\nI was talking about politicizing art and here is an example. As recently as last December, we were in the midst of a pre-holiday discussion, if not storm, in the House about the role that the National Gallery had taken on in decolonizing art. There, in the middle of Riopelle's centennial year, members ruled out the idea of having an exhibition dedicated to this artist. When I talk about politicizing art, that is exactly what I am hoping will not happen with the role of the visual artist.\\nI was also talking about the freedom that an artist has if we avoid giving mandates. I will take the liberty of quoting from a speech by Madeleine d'Alfond-Guiral, who spoke about creating the position of poet at the time. I understand that this speech earned her the biggest laugh from the current member for Montarville in the House. I have promised myself that I will look up the video excerpt of that speech someday. I would like to read a more serious portion of it.\\n The second question concerns me most. Is freedom the poet's most precious asset? \\n I know that it is for me, and there is no end to the number of people who have chosen to die for freedom. \\n What about poets? Some of the greatest have mouldered in prison in the defence of freedom. As prisoners, they were no less free. Who can name a single poet who agreed to trade freedom for money or power? Honestly, I cannot think of one. \\n It is true that Bill S-10 would give the poet laureate the great responsibility of writing poems to be read in parliament at official ceremonies. \\n Could we conclude that the poet laureate is non partisan? Probably. And yet, it is hard not to imagine that finding oneself promoted to the position of poet laureate of parliament for two years would not of necessity create obstacles that, insidiously, would limit later speech and give it serious bias. \\n How to be free when the choice of poet laureate would be made by a few persons, some of whom had received political appointments? As the saying goes, “Don't bite the hand that feeds you”. “Elementary, my dear Watson”. \\nI hope that a mandate that would undermine their freedom would not explicitly or implicitly be imposed on the artist. \\nStill, good things will result from creating this position. In the context of a pandemic that made life difficult for artists, it is a good thing to promote the work of artists. I will give a few examples. We know that, during the pandemic, many cultural events were cancelled and exhibit spaces were limited or even closed to the public. There were problems with funding for artists. Even artists experienced psychological distress because they were unable to work and earn a living with dignity.\\nWe know that the income of artists is often much lower than that of the rest of the population. Many live below the poverty line. There is still a power imbalance between broadcasters and artists. Their precarious financial situation worsened even before the pandemic. We may have lost our sense of philanthropy and desire to fund the arts.\\nAs to the precarious situation of artists, I think the beauty of the bill is that it sends a message to artists. I only hope that it will not be the only one and that arts funding will never be a partisan issue in the House, although that might just be wishful thinking. In this context, creating this position is a beautiful thing. I wonder what impact creating this position will have on the House of Commons.\\n I want to quote two people who lived in very different eras. The first, Hippocrates, said, “Life is short, and art is long”. A more contemporary take on this comes from Bob Dylan, who said, “The purpose of art is to stop time”.\\nWe have an incredible ability in the House to play with time. We could say right now that it is June 23 at 2:00 p.m. and that we are all going home to celebrate our national holiday. We have a lot of latitude in the House when it comes to time, but we do not have the power to stop it entirely. Who knows, perhaps, with the arrival of the new visual artist in the House, we will have given ourselves one more way to play with time.\"]}\n"
     ]
    }
   ],
   "source": [
    "# i is item in list\n",
    "# row statement_browser statement - is the block of code that allows me to find the Name; Party and What They Said\n",
    "debateDict = {'Name': [],\n",
    "              'Party' : [],\n",
    "              'Affiliation' : [],\n",
    "              'Said' : []\n",
    "             }\n",
    "for i in data.findAll(\"div\", class_=\"row statement_browser statement\"):\n",
    "    #getting the name of the speaker\n",
    "    try:\n",
    "        name = i.find('span', class_='pol_name').text\n",
    "        name = str(name)\n",
    "    except AttributeError:\n",
    "        continue\n",
    "    \n",
    "    print(name)\n",
    "    #Try is to find if they have spoken already, if they have, we do not find their party or affiliation\n",
    "    try:\n",
    "        index = debateDict['Name'].index(name)\n",
    "        indexFound = True\n",
    "    # If it throws an error, then they are not pre-existing in the dict\n",
    "    except ValueError:\n",
    "        indexFound = False\n",
    "        # Finding the affiliation\n",
    "        try:\n",
    "            affiliation = i.find('span', class_=\"pol_affil\").text\n",
    "            affiliation = str(affiliation)\n",
    "            affiliation = affiliation.replace(\"\t\t\t\t\t\t\", \"\")\n",
    "        except AttributeError:\n",
    "            affiliation = 'N/A'\n",
    "        print(affiliation)\n",
    "        #\n",
    "        # For speakers without party tags\n",
    "        try:\n",
    "            party = i.find('p', class_='partytag').text\n",
    "            party = str(party)\n",
    "\n",
    "        except AttributeError:\n",
    "            party = 'N/A'\n",
    "        print(party)\n",
    "    \n",
    "    said = i.find('div', class_='text').text\n",
    "    print(said)\n",
    "    print('\\n')\n",
    "    \n",
    "    if indexFound:\n",
    "        debateDict[\"Said\"][index] = debateDict[\"Said\"][index] + said\n",
    "    else:\n",
    "        debateDict['Name'].append(name)\n",
    "        debateDict['Party'].append(party)\n",
    "        debateDict['Affiliation'].append(affiliation)\n",
    "        debateDict['Said'].append(said)\n",
    "        \n",
    "print(debateDict)\n",
    "    \n",
    "    #As it grabs each piece of data ( The speaker; the party; the affiliation; and what they said)"
   ]
  },
  {
   "attachments": {},
   "cell_type": "markdown",
   "id": "0f7be726",
   "metadata": {},
   "source": [
    "Let's visualize what we scraped in a *dataframe*. "
   ]
  },
  {
   "cell_type": "code",
   "execution_count": 28,
   "id": "d933714e",
   "metadata": {
    "scrolled": true
   },
   "outputs": [
    {
     "data": {
      "text/html": [
       "<div>\n",
       "<style scoped>\n",
       "    .dataframe tbody tr th:only-of-type {\n",
       "        vertical-align: middle;\n",
       "    }\n",
       "\n",
       "    .dataframe tbody tr th {\n",
       "        vertical-align: top;\n",
       "    }\n",
       "\n",
       "    .dataframe thead th {\n",
       "        text-align: right;\n",
       "    }\n",
       "</style>\n",
       "<table border=\"1\" class=\"dataframe\">\n",
       "  <thead>\n",
       "    <tr style=\"text-align: right;\">\n",
       "      <th></th>\n",
       "      <th>Name</th>\n",
       "      <th>Party</th>\n",
       "      <th>Affiliation</th>\n",
       "      <th>Said</th>\n",
       "    </tr>\n",
       "  </thead>\n",
       "  <tbody>\n",
       "    <tr>\n",
       "      <th>0</th>\n",
       "      <td>Ziad Aboultaif</td>\n",
       "      <td>Conservative\\n</td>\n",
       "      <td>\\nEdmonton Manning, AB</td>\n",
       "      <td>Madam Speaker, Canada is a safe haven for mone...</td>\n",
       "    </tr>\n",
       "    <tr>\n",
       "      <th>1</th>\n",
       "      <td>François-Philippe Champagne</td>\n",
       "      <td>Liberal\\n</td>\n",
       "      <td>\\nSaint-Maurice—Champlain, QC</td>\n",
       "      <td>Madam Speaker, my hon. colleague knows I have ...</td>\n",
       "    </tr>\n",
       "    <tr>\n",
       "      <th>2</th>\n",
       "      <td>Gabriel Ste-Marie</td>\n",
       "      <td>Bloc\\n</td>\n",
       "      <td>\\nJoliette, QC</td>\n",
       "      <td>Madam Speaker, I thank the hon. minister for t...</td>\n",
       "    </tr>\n",
       "    <tr>\n",
       "      <th>3</th>\n",
       "      <td>Daniel Blaikie</td>\n",
       "      <td>NDP\\n</td>\n",
       "      <td>\\nElmwood—Transcona, MB</td>\n",
       "      <td>Madam Speaker, we know that a well-designed re...</td>\n",
       "    </tr>\n",
       "    <tr>\n",
       "      <th>4</th>\n",
       "      <td>Brad Vis</td>\n",
       "      <td>Conservative\\n</td>\n",
       "      <td>\\nMission—Matsqui—Fraser Canyon, BC</td>\n",
       "      <td>Madam Speaker, proposed subsection 21.‍303(3),...</td>\n",
       "    </tr>\n",
       "    <tr>\n",
       "      <th>5</th>\n",
       "      <td>Chandra Arya</td>\n",
       "      <td>Liberal\\n</td>\n",
       "      <td>\\nNepean, ON</td>\n",
       "      <td>Madam Speaker, corporations exist basically to...</td>\n",
       "    </tr>\n",
       "    <tr>\n",
       "      <th>6</th>\n",
       "      <td>The Assistant Deputy Speaker (Mrs. Alexandra M...</td>\n",
       "      <td>Liberal\\n</td>\n",
       "      <td>\\nAlexandra Mendes</td>\n",
       "      <td>I have to give the minister time to answer.\\nT...</td>\n",
       "    </tr>\n",
       "    <tr>\n",
       "      <th>7</th>\n",
       "      <td>Marty Morantz</td>\n",
       "      <td>Conservative\\n</td>\n",
       "      <td>\\nCharleswood—St. James—Assiniboia—Headingley, MB</td>\n",
       "      <td>Madam Speaker, there are a number of areas of ...</td>\n",
       "    </tr>\n",
       "    <tr>\n",
       "      <th>8</th>\n",
       "      <td>Mike Morrice</td>\n",
       "      <td>Green\\n</td>\n",
       "      <td>\\nKitchener Centre, ON</td>\n",
       "      <td>Madam Speaker, around the world we are seeing ...</td>\n",
       "    </tr>\n",
       "    <tr>\n",
       "      <th>9</th>\n",
       "      <td>Kevin Lamoureux</td>\n",
       "      <td>Liberal\\n</td>\n",
       "      <td>\\nWinnipeg North, MB</td>\n",
       "      <td>Madam Speaker, budget 2023 continues to demons...</td>\n",
       "    </tr>\n",
       "    <tr>\n",
       "      <th>10</th>\n",
       "      <td>Brad Redekopp</td>\n",
       "      <td>Conservative\\n</td>\n",
       "      <td>\\nSaskatoon West, SK</td>\n",
       "      <td>Madam Speaker, soon Christians around the worl...</td>\n",
       "    </tr>\n",
       "    <tr>\n",
       "      <th>11</th>\n",
       "      <td>Adam van Koeverden</td>\n",
       "      <td>Liberal\\n</td>\n",
       "      <td>\\nMilton, ON</td>\n",
       "      <td>Madam Speaker, a little over a decade ago, Pat...</td>\n",
       "    </tr>\n",
       "    <tr>\n",
       "      <th>12</th>\n",
       "      <td>Blake Desjarlais</td>\n",
       "      <td>NDP\\n</td>\n",
       "      <td>\\nEdmonton Griesbach, AB</td>\n",
       "      <td>Madam Speaker, today we join trans folks from ...</td>\n",
       "    </tr>\n",
       "    <tr>\n",
       "      <th>13</th>\n",
       "      <td>Andy Fillmore</td>\n",
       "      <td>Liberal\\n</td>\n",
       "      <td>\\nHalifax, NS</td>\n",
       "      <td>Madam Speaker, I rise today to recognize my fr...</td>\n",
       "    </tr>\n",
       "    <tr>\n",
       "      <th>14</th>\n",
       "      <td>Rick Perkins</td>\n",
       "      <td>Conservative\\n</td>\n",
       "      <td>\\nSouth Shore—St. Margarets, NS</td>\n",
       "      <td>Madam Speaker, I rise in the House because tom...</td>\n",
       "    </tr>\n",
       "    <tr>\n",
       "      <th>15</th>\n",
       "      <td>John Aldag</td>\n",
       "      <td>Liberal\\n</td>\n",
       "      <td>\\nCloverdale—Langley City, BC</td>\n",
       "      <td>Madam Speaker, Sikhs across the world and in C...</td>\n",
       "    </tr>\n",
       "    <tr>\n",
       "      <th>16</th>\n",
       "      <td>Pam Damoff</td>\n",
       "      <td>Liberal\\n</td>\n",
       "      <td>\\nOakville North—Burlington, ON</td>\n",
       "      <td>Madam Speaker, Canada is a global leader in th...</td>\n",
       "    </tr>\n",
       "    <tr>\n",
       "      <th>17</th>\n",
       "      <td>Vance Badawey</td>\n",
       "      <td>Liberal\\n</td>\n",
       "      <td>\\nNiagara Centre, ON</td>\n",
       "      <td>Madam Speaker, it is my pleasure to rise in th...</td>\n",
       "    </tr>\n",
       "    <tr>\n",
       "      <th>18</th>\n",
       "      <td>Bernard Généreux</td>\n",
       "      <td>Conservative\\n</td>\n",
       "      <td>\\nMontmagny—L'Islet—Kamouraska—Rivière-du-Loup...</td>\n",
       "      <td>Madam Speaker, our streets are becoming more a...</td>\n",
       "    </tr>\n",
       "    <tr>\n",
       "      <th>19</th>\n",
       "      <td>Laila Goodridge</td>\n",
       "      <td>Conservative\\n</td>\n",
       "      <td>\\nFort McMurray—Cold Lake, AB</td>\n",
       "      <td>Madam Speaker, a home is a haven where we feel...</td>\n",
       "    </tr>\n",
       "    <tr>\n",
       "      <th>20</th>\n",
       "      <td>Steven MacKinnon</td>\n",
       "      <td>Liberal\\n</td>\n",
       "      <td>\\nGatineau, QC</td>\n",
       "      <td>Madam Speaker, this morning, I was thrilled to...</td>\n",
       "    </tr>\n",
       "    <tr>\n",
       "      <th>21</th>\n",
       "      <td>Brian Masse</td>\n",
       "      <td>NDP\\n</td>\n",
       "      <td>\\nWindsor West, ON</td>\n",
       "      <td>Madam Speaker, scandals in the sports world co...</td>\n",
       "    </tr>\n",
       "    <tr>\n",
       "      <th>22</th>\n",
       "      <td>Marilène Gill</td>\n",
       "      <td>Bloc\\n</td>\n",
       "      <td>\\nManicouagan, QC</td>\n",
       "      <td>Madam Speaker, I have a little boy who wakes u...</td>\n",
       "    </tr>\n",
       "    <tr>\n",
       "      <th>23</th>\n",
       "      <td>Glen Motz</td>\n",
       "      <td>Conservative\\n</td>\n",
       "      <td>\\nMedicine Hat—Cardston—Warner, AB</td>\n",
       "      <td>Madam Speaker, on April 1, the Liberal carbon ...</td>\n",
       "    </tr>\n",
       "    <tr>\n",
       "      <th>24</th>\n",
       "      <td>Francesco Sorbara</td>\n",
       "      <td>Liberal\\n</td>\n",
       "      <td>\\nVaughan—Woodbridge, ON</td>\n",
       "      <td>Madam Speaker, in the words of the newly insta...</td>\n",
       "    </tr>\n",
       "    <tr>\n",
       "      <th>25</th>\n",
       "      <td>Pierre Poilievre</td>\n",
       "      <td>Conservative\\n</td>\n",
       "      <td>Leader of the Opposition</td>\n",
       "      <td>Madam Speaker, we can imagine the conversation...</td>\n",
       "    </tr>\n",
       "    <tr>\n",
       "      <th>26</th>\n",
       "      <td>Terry Duguid</td>\n",
       "      <td>Liberal\\n</td>\n",
       "      <td>Parliamentary Secretary to the Minister of Env...</td>\n",
       "      <td>Madam Speaker, as much as the bench opposite w...</td>\n",
       "    </tr>\n",
       "    <tr>\n",
       "      <th>27</th>\n",
       "      <td>Randy Boissonnault</td>\n",
       "      <td>Liberal\\n</td>\n",
       "      <td>Minister of Tourism and Associate Minister of ...</td>\n",
       "      <td>Madam Speaker, I thank my hon. colleague for h...</td>\n",
       "    </tr>\n",
       "    <tr>\n",
       "      <th>28</th>\n",
       "      <td>Peter Julian</td>\n",
       "      <td>NDP\\n</td>\n",
       "      <td>\\nNew Westminster—Burnaby, BC</td>\n",
       "      <td>Madam Speaker, with prices skyrocketing, Canad...</td>\n",
       "    </tr>\n",
       "    <tr>\n",
       "      <th>29</th>\n",
       "      <td>Jeremy Patzer</td>\n",
       "      <td>Conservative\\n</td>\n",
       "      <td>\\nCypress Hills—Grasslands, SK</td>\n",
       "      <td>Madam Speaker, as farmers look to begin seedin...</td>\n",
       "    </tr>\n",
       "    <tr>\n",
       "      <th>30</th>\n",
       "      <td>Dan Mazier</td>\n",
       "      <td>Conservative\\n</td>\n",
       "      <td>\\nDauphin—Swan River—Neepawa, MB</td>\n",
       "      <td>Madam Speaker, the Liberals are tripling thei...</td>\n",
       "    </tr>\n",
       "    <tr>\n",
       "      <th>31</th>\n",
       "      <td>Francis Drouin</td>\n",
       "      <td>Liberal\\n</td>\n",
       "      <td>Parliamentary Secretary to the Minister of Agr...</td>\n",
       "      <td>Madam Speaker, I am glad to hear my colleague ...</td>\n",
       "    </tr>\n",
       "    <tr>\n",
       "      <th>32</th>\n",
       "      <td>Arnold Viersen</td>\n",
       "      <td>Conservative\\n</td>\n",
       "      <td>\\nPeace River—Westlock, AB</td>\n",
       "      <td>Madam Speaker, the Conservatives know that tec...</td>\n",
       "    </tr>\n",
       "    <tr>\n",
       "      <th>33</th>\n",
       "      <td>Colin Carrie</td>\n",
       "      <td>Conservative\\n</td>\n",
       "      <td>\\nOshawa, ON</td>\n",
       "      <td>Madam Speaker, while the Prime Minister stays ...</td>\n",
       "    </tr>\n",
       "    <tr>\n",
       "      <th>34</th>\n",
       "      <td>Gérard Deltell</td>\n",
       "      <td>Conservative\\n</td>\n",
       "      <td>\\nLouis-Saint-Laurent, QC</td>\n",
       "      <td>Madam Speaker, tonight, 12:01 a.m. will spell ...</td>\n",
       "    </tr>\n",
       "    <tr>\n",
       "      <th>35</th>\n",
       "      <td>René Villemure</td>\n",
       "      <td>Bloc\\n</td>\n",
       "      <td>\\nTrois-Rivières, QC</td>\n",
       "      <td>Madam Speaker, if there is one role that must ...</td>\n",
       "    </tr>\n",
       "    <tr>\n",
       "      <th>36</th>\n",
       "      <td>Ryan Williams</td>\n",
       "      <td>Conservative\\n</td>\n",
       "      <td>\\nBay of Quinte, ON</td>\n",
       "      <td>Madam Speaker, Canadians pay the highest cellp...</td>\n",
       "    </tr>\n",
       "    <tr>\n",
       "      <th>37</th>\n",
       "      <td>Charlie Angus</td>\n",
       "      <td>NDP\\n</td>\n",
       "      <td>\\nTimmins—James Bay, ON</td>\n",
       "      <td>Madam Speaker, I have been speaking with energ...</td>\n",
       "    </tr>\n",
       "    <tr>\n",
       "      <th>38</th>\n",
       "      <td>Julie Dabrusin</td>\n",
       "      <td>Liberal\\n</td>\n",
       "      <td>Parliamentary Secretary to the Minister of Nat...</td>\n",
       "      <td>Madam Speaker, I am very happy that the member...</td>\n",
       "    </tr>\n",
       "    <tr>\n",
       "      <th>39</th>\n",
       "      <td>Laurel Collins</td>\n",
       "      <td>NDP\\n</td>\n",
       "      <td>\\nVictoria, BC</td>\n",
       "      <td>Madam Speaker, Canadians want to see their gov...</td>\n",
       "    </tr>\n",
       "    <tr>\n",
       "      <th>40</th>\n",
       "      <td>Seamus O'Regan</td>\n",
       "      <td>Liberal\\n</td>\n",
       "      <td>Minister of Labour</td>\n",
       "      <td>Madam Speaker, I think the budget speaks for i...</td>\n",
       "    </tr>\n",
       "    <tr>\n",
       "      <th>41</th>\n",
       "      <td>Brenda Shanahan</td>\n",
       "      <td>Liberal\\n</td>\n",
       "      <td>\\nChâteauguay—Lacolle, QC</td>\n",
       "      <td>Madam Speaker, on International Transgender Da...</td>\n",
       "    </tr>\n",
       "    <tr>\n",
       "      <th>42</th>\n",
       "      <td>Jenna Sudds</td>\n",
       "      <td>Liberal\\n</td>\n",
       "      <td>Parliamentary Secretary to the Minister for Wo...</td>\n",
       "      <td>Madam Speaker, on this day, I am thinking of E...</td>\n",
       "    </tr>\n",
       "    <tr>\n",
       "      <th>43</th>\n",
       "      <td>Shannon Stubbs</td>\n",
       "      <td>Conservative\\n</td>\n",
       "      <td>\\nLakeland, AB</td>\n",
       "      <td>Madam Speaker, Liberals chose a top minister's...</td>\n",
       "    </tr>\n",
       "    <tr>\n",
       "      <th>44</th>\n",
       "      <td>Mel Arnold</td>\n",
       "      <td>Conservative\\n</td>\n",
       "      <td>\\nNorth Okanagan—Shuswap, BC</td>\n",
       "      <td>Madam Speaker, we should all remember clam sca...</td>\n",
       "    </tr>\n",
       "    <tr>\n",
       "      <th>45</th>\n",
       "      <td>Michael Chong</td>\n",
       "      <td>Conservative\\n</td>\n",
       "      <td>\\nWellington—Halton Hills, ON</td>\n",
       "      <td>Madam Speaker, members of this House have work...</td>\n",
       "    </tr>\n",
       "    <tr>\n",
       "      <th>46</th>\n",
       "      <td>Jennifer O'Connell</td>\n",
       "      <td>Liberal\\n</td>\n",
       "      <td>Parliamentary Secretary to the Minister of Int...</td>\n",
       "      <td>Madam Speaker, it is interesting that the Cons...</td>\n",
       "    </tr>\n",
       "    <tr>\n",
       "      <th>47</th>\n",
       "      <td>Some hon. members</td>\n",
       "      <td>N/A</td>\n",
       "      <td>N/A</td>\n",
       "      <td>Oh, oh! Oh, oh! Oh, oh! Oh, oh! Oh, oh! Oh, o...</td>\n",
       "    </tr>\n",
       "    <tr>\n",
       "      <th>48</th>\n",
       "      <td>Bryan May</td>\n",
       "      <td>Liberal\\n</td>\n",
       "      <td>Parliamentary Secretary to the Minister of Nat...</td>\n",
       "      <td>Madam Speaker, the Canadian Armed Forces plays...</td>\n",
       "    </tr>\n",
       "    <tr>\n",
       "      <th>49</th>\n",
       "      <td>Louise Chabot</td>\n",
       "      <td>Bloc\\n</td>\n",
       "      <td>\\nThérèse-De Blainville, QC</td>\n",
       "      <td>Madam Speaker, the budget proves that Ottawa h...</td>\n",
       "    </tr>\n",
       "    <tr>\n",
       "      <th>50</th>\n",
       "      <td>Irek Kusmierczyk</td>\n",
       "      <td>Liberal\\n</td>\n",
       "      <td>Parliamentary Secretary to the Minister of Emp...</td>\n",
       "      <td>Madam Speaker, budget 2023 invests in seasonal...</td>\n",
       "    </tr>\n",
       "    <tr>\n",
       "      <th>51</th>\n",
       "      <td>Pat Kelly</td>\n",
       "      <td>Conservative\\n</td>\n",
       "      <td>\\nCalgary Rocky Ridge, AB</td>\n",
       "      <td>Madam Speaker, the budget still allows the aut...</td>\n",
       "    </tr>\n",
       "    <tr>\n",
       "      <th>52</th>\n",
       "      <td>Scott Reid</td>\n",
       "      <td>Conservative\\n</td>\n",
       "      <td>\\nLanark—Frontenac—Kingston, ON</td>\n",
       "      <td>Madam Speaker, the immigration minister's prog...</td>\n",
       "    </tr>\n",
       "    <tr>\n",
       "      <th>53</th>\n",
       "      <td>Marie-France Lalonde</td>\n",
       "      <td>Liberal\\n</td>\n",
       "      <td>Parliamentary Secretary to the Minister of Imm...</td>\n",
       "      <td>Madam Speaker, I want to thank the hon. member...</td>\n",
       "    </tr>\n",
       "    <tr>\n",
       "      <th>54</th>\n",
       "      <td>Sameer Zuberi</td>\n",
       "      <td>Liberal\\n</td>\n",
       "      <td>\\nPierrefonds—Dollard, QC</td>\n",
       "      <td>Madam Speaker, Canada's innovation and economi...</td>\n",
       "    </tr>\n",
       "    <tr>\n",
       "      <th>55</th>\n",
       "      <td>Michael Cooper</td>\n",
       "      <td>Conservative\\n</td>\n",
       "      <td>\\nSt. Albert—Edmonton, AB</td>\n",
       "      <td>Madam Speaker, the cover-up continues. It has ...</td>\n",
       "    </tr>\n",
       "    <tr>\n",
       "      <th>56</th>\n",
       "      <td>Luc Berthold</td>\n",
       "      <td>Conservative\\n</td>\n",
       "      <td>\\nMégantic—L'Érable, QC</td>\n",
       "      <td>Madam Speaker, ethics violations do not seem t...</td>\n",
       "    </tr>\n",
       "    <tr>\n",
       "      <th>57</th>\n",
       "      <td>Heath MacDonald</td>\n",
       "      <td>Liberal\\n</td>\n",
       "      <td>\\nMalpeque, PE</td>\n",
       "      <td>Madam Speaker, families in my riding of Malpeq...</td>\n",
       "    </tr>\n",
       "    <tr>\n",
       "      <th>58</th>\n",
       "      <td>Ya'ara Saks</td>\n",
       "      <td>Liberal\\n</td>\n",
       "      <td>Parliamentary Secretary to the Minister of Fam...</td>\n",
       "      <td>Madam Speaker, I am so glad to report that Pri...</td>\n",
       "    </tr>\n",
       "    <tr>\n",
       "      <th>59</th>\n",
       "      <td>Leah Gazan</td>\n",
       "      <td>NDP\\n</td>\n",
       "      <td>\\nWinnipeg Centre, MB</td>\n",
       "      <td>Madam Speaker, the Mass Casualty Commission re...</td>\n",
       "    </tr>\n",
       "    <tr>\n",
       "      <th>60</th>\n",
       "      <td>Alain Rayes</td>\n",
       "      <td>Independent\\n</td>\n",
       "      <td>\\nRichmond—Arthabaska, QC</td>\n",
       "      <td>Madam Speaker, we have learned that the Govern...</td>\n",
       "    </tr>\n",
       "    <tr>\n",
       "      <th>61</th>\n",
       "      <td>Greg Fergus</td>\n",
       "      <td>Liberal\\n</td>\n",
       "      <td>Parliamentary Secretary to the Prime Minister ...</td>\n",
       "      <td>Madam Speaker, it is very important to remembe...</td>\n",
       "    </tr>\n",
       "    <tr>\n",
       "      <th>62</th>\n",
       "      <td>Leslyn Lewis</td>\n",
       "      <td>Conservative\\n</td>\n",
       "      <td>\\nHaldimand—Norfolk, ON</td>\n",
       "      <td>Madam Speaker, justice does not only have to b...</td>\n",
       "    </tr>\n",
       "    <tr>\n",
       "      <th>63</th>\n",
       "      <td>Karen Vecchio</td>\n",
       "      <td>Conservative\\n</td>\n",
       "      <td>\\nElgin—Middlesex—London, ON</td>\n",
       "      <td>Madam Speaker, the member for Haldimand—Norfol...</td>\n",
       "    </tr>\n",
       "    <tr>\n",
       "      <th>64</th>\n",
       "      <td>Sherry Romanado</td>\n",
       "      <td>Liberal\\n</td>\n",
       "      <td>\\nLongueuil—Charles-LeMoyne, QC</td>\n",
       "      <td>Madam Speaker, I just wanted to clarify someth...</td>\n",
       "    </tr>\n",
       "    <tr>\n",
       "      <th>65</th>\n",
       "      <td>Sophie Chatel</td>\n",
       "      <td>Liberal\\n</td>\n",
       "      <td>\\nPontiac, QC</td>\n",
       "      <td>Madam Speaker, I want to say that I was here t...</td>\n",
       "    </tr>\n",
       "    <tr>\n",
       "      <th>66</th>\n",
       "      <td>Randy Hoback</td>\n",
       "      <td>Conservative\\n</td>\n",
       "      <td>\\nPrince Albert, SK</td>\n",
       "      <td>Madam Speaker, I rise today to present 12 peti...</td>\n",
       "    </tr>\n",
       "    <tr>\n",
       "      <th>67</th>\n",
       "      <td>Frank Caputo</td>\n",
       "      <td>Conservative\\n</td>\n",
       "      <td>\\nKamloops—Thompson—Cariboo, BC</td>\n",
       "      <td>Mr. Speaker, it is always a pleasure to rise o...</td>\n",
       "    </tr>\n",
       "    <tr>\n",
       "      <th>68</th>\n",
       "      <td>The Acting Speaker</td>\n",
       "      <td>Green\\n</td>\n",
       "      <td>\\nMike Morrice</td>\n",
       "      <td>I will remind members that they are meant to s...</td>\n",
       "    </tr>\n",
       "    <tr>\n",
       "      <th>69</th>\n",
       "      <td>Kevin Vuong</td>\n",
       "      <td>Independent\\n</td>\n",
       "      <td>\\nSpadina—Fort York, ON</td>\n",
       "      <td>Mr. Speaker, I have the honour to present a pe...</td>\n",
       "    </tr>\n",
       "    <tr>\n",
       "      <th>70</th>\n",
       "      <td>Jenny Kwan</td>\n",
       "      <td>NDP\\n</td>\n",
       "      <td>\\nVancouver East, BC</td>\n",
       "      <td>Mr. Speaker, I rise to table a petition callin...</td>\n",
       "    </tr>\n",
       "    <tr>\n",
       "      <th>71</th>\n",
       "      <td>Cheryl Gallant</td>\n",
       "      <td>Conservative\\n</td>\n",
       "      <td>\\nRenfrew—Nipissing—Pembroke, ON</td>\n",
       "      <td>Mr. Speaker, I have three petitions.\\nThe firs...</td>\n",
       "    </tr>\n",
       "    <tr>\n",
       "      <th>72</th>\n",
       "      <td>Michael Kram</td>\n",
       "      <td>Conservative\\n</td>\n",
       "      <td>\\nRegina—Wascana, SK</td>\n",
       "      <td>With regard to the government’s rejection of S...</td>\n",
       "    </tr>\n",
       "    <tr>\n",
       "      <th>73</th>\n",
       "      <td>Élisabeth Brière</td>\n",
       "      <td>Liberal\\n</td>\n",
       "      <td>Parliamentary Secretary to the Minister of Men...</td>\n",
       "      <td>Mr. Speaker, the Government of Canada has not ...</td>\n",
       "    </tr>\n",
       "    <tr>\n",
       "      <th>74</th>\n",
       "      <td>Michelle Ferreri</td>\n",
       "      <td>Conservative\\n</td>\n",
       "      <td>\\nPeterborough—Kawartha, ON</td>\n",
       "      <td>With regard to the tender put out by the gover...</td>\n",
       "    </tr>\n",
       "    <tr>\n",
       "      <th>75</th>\n",
       "      <td>Adam Chambers</td>\n",
       "      <td>Conservative\\n</td>\n",
       "      <td>\\nSimcoe North, ON</td>\n",
       "      <td>With regard to the government's response to Or...</td>\n",
       "    </tr>\n",
       "    <tr>\n",
       "      <th>76</th>\n",
       "      <td>Diane Lebouthillier</td>\n",
       "      <td>Liberal\\n</td>\n",
       "      <td>Minister of National Revenue</td>\n",
       "      <td>Mr. Speaker, with respect to the above-noted q...</td>\n",
       "    </tr>\n",
       "    <tr>\n",
       "      <th>77</th>\n",
       "      <td>Dan Albas</td>\n",
       "      <td>Conservative\\n</td>\n",
       "      <td>\\nCentral Okanagan—Similkameen—Nicola, BC</td>\n",
       "      <td>With regard to the government's reaction to re...</td>\n",
       "    </tr>\n",
       "    <tr>\n",
       "      <th>78</th>\n",
       "      <td>Michelle Rempel</td>\n",
       "      <td>Conservative\\n</td>\n",
       "      <td>\\nCalgary Nose Hill, AB</td>\n",
       "      <td>With regard to Public Services and Procurement...</td>\n",
       "    </tr>\n",
       "    <tr>\n",
       "      <th>79</th>\n",
       "      <td>Clifford Small</td>\n",
       "      <td>Conservative\\n</td>\n",
       "      <td>\\nCoast of Bays—Central—Notre Dame, NL</td>\n",
       "      <td>With regard to the Department of Fisheries and...</td>\n",
       "    </tr>\n",
       "    <tr>\n",
       "      <th>80</th>\n",
       "      <td>Kelly McCauley</td>\n",
       "      <td>Conservative\\n</td>\n",
       "      <td>\\nEdmonton West, AB</td>\n",
       "      <td>Mr. Speaker, this being such an important priv...</td>\n",
       "    </tr>\n",
       "    <tr>\n",
       "      <th>81</th>\n",
       "      <td>Lori Idlout</td>\n",
       "      <td>NDP\\n</td>\n",
       "      <td>\\nNunavut, NU</td>\n",
       "      <td>Uqaqtittiji, I wonder, given that Canada is f...</td>\n",
       "    </tr>\n",
       "    <tr>\n",
       "      <th>82</th>\n",
       "      <td>Kevin Waugh</td>\n",
       "      <td>Conservative\\n</td>\n",
       "      <td>\\nSaskatoon—Grasswood, SK</td>\n",
       "      <td>Madam Speaker, I say good day to everyone. It ...</td>\n",
       "    </tr>\n",
       "    <tr>\n",
       "      <th>83</th>\n",
       "      <td>Christine Normandin</td>\n",
       "      <td>Bloc\\n</td>\n",
       "      <td>\\nSaint-Jean, QC</td>\n",
       "      <td>Madam Speaker, I am pleased to rise this last ...</td>\n",
       "    </tr>\n",
       "  </tbody>\n",
       "</table>\n",
       "</div>"
      ],
      "text/plain": [
       "                                                 Name           Party  \\\n",
       "0                                      Ziad Aboultaif  Conservative\\n   \n",
       "1                         François-Philippe Champagne       Liberal\\n   \n",
       "2                                   Gabriel Ste-Marie          Bloc\\n   \n",
       "3                                      Daniel Blaikie           NDP\\n   \n",
       "4                                            Brad Vis  Conservative\\n   \n",
       "5                                        Chandra Arya       Liberal\\n   \n",
       "6   The Assistant Deputy Speaker (Mrs. Alexandra M...       Liberal\\n   \n",
       "7                                       Marty Morantz  Conservative\\n   \n",
       "8                                        Mike Morrice         Green\\n   \n",
       "9                                     Kevin Lamoureux       Liberal\\n   \n",
       "10                                      Brad Redekopp  Conservative\\n   \n",
       "11                                 Adam van Koeverden       Liberal\\n   \n",
       "12                                   Blake Desjarlais           NDP\\n   \n",
       "13                                      Andy Fillmore       Liberal\\n   \n",
       "14                                       Rick Perkins  Conservative\\n   \n",
       "15                                         John Aldag       Liberal\\n   \n",
       "16                                         Pam Damoff       Liberal\\n   \n",
       "17                                      Vance Badawey       Liberal\\n   \n",
       "18                                   Bernard Généreux  Conservative\\n   \n",
       "19                                    Laila Goodridge  Conservative\\n   \n",
       "20                                   Steven MacKinnon       Liberal\\n   \n",
       "21                                        Brian Masse           NDP\\n   \n",
       "22                                      Marilène Gill          Bloc\\n   \n",
       "23                                          Glen Motz  Conservative\\n   \n",
       "24                                  Francesco Sorbara       Liberal\\n   \n",
       "25                                   Pierre Poilievre  Conservative\\n   \n",
       "26                                       Terry Duguid       Liberal\\n   \n",
       "27                                 Randy Boissonnault       Liberal\\n   \n",
       "28                                       Peter Julian           NDP\\n   \n",
       "29                                      Jeremy Patzer  Conservative\\n   \n",
       "30                                         Dan Mazier  Conservative\\n   \n",
       "31                                     Francis Drouin       Liberal\\n   \n",
       "32                                     Arnold Viersen  Conservative\\n   \n",
       "33                                       Colin Carrie  Conservative\\n   \n",
       "34                                     Gérard Deltell  Conservative\\n   \n",
       "35                                     René Villemure          Bloc\\n   \n",
       "36                                      Ryan Williams  Conservative\\n   \n",
       "37                                      Charlie Angus           NDP\\n   \n",
       "38                                     Julie Dabrusin       Liberal\\n   \n",
       "39                                     Laurel Collins           NDP\\n   \n",
       "40                                     Seamus O'Regan       Liberal\\n   \n",
       "41                                    Brenda Shanahan       Liberal\\n   \n",
       "42                                        Jenna Sudds       Liberal\\n   \n",
       "43                                     Shannon Stubbs  Conservative\\n   \n",
       "44                                         Mel Arnold  Conservative\\n   \n",
       "45                                      Michael Chong  Conservative\\n   \n",
       "46                                 Jennifer O'Connell       Liberal\\n   \n",
       "47                                  Some hon. members             N/A   \n",
       "48                                          Bryan May       Liberal\\n   \n",
       "49                                      Louise Chabot          Bloc\\n   \n",
       "50                                   Irek Kusmierczyk       Liberal\\n   \n",
       "51                                          Pat Kelly  Conservative\\n   \n",
       "52                                         Scott Reid  Conservative\\n   \n",
       "53                               Marie-France Lalonde       Liberal\\n   \n",
       "54                                      Sameer Zuberi       Liberal\\n   \n",
       "55                                     Michael Cooper  Conservative\\n   \n",
       "56                                       Luc Berthold  Conservative\\n   \n",
       "57                                    Heath MacDonald       Liberal\\n   \n",
       "58                                        Ya'ara Saks       Liberal\\n   \n",
       "59                                         Leah Gazan           NDP\\n   \n",
       "60                                        Alain Rayes   Independent\\n   \n",
       "61                                        Greg Fergus       Liberal\\n   \n",
       "62                                       Leslyn Lewis  Conservative\\n   \n",
       "63                                      Karen Vecchio  Conservative\\n   \n",
       "64                                    Sherry Romanado       Liberal\\n   \n",
       "65                                      Sophie Chatel       Liberal\\n   \n",
       "66                                       Randy Hoback  Conservative\\n   \n",
       "67                                       Frank Caputo  Conservative\\n   \n",
       "68                                The Acting Speaker          Green\\n   \n",
       "69                                        Kevin Vuong   Independent\\n   \n",
       "70                                         Jenny Kwan           NDP\\n   \n",
       "71                                     Cheryl Gallant  Conservative\\n   \n",
       "72                                       Michael Kram  Conservative\\n   \n",
       "73                                   Élisabeth Brière       Liberal\\n   \n",
       "74                                   Michelle Ferreri  Conservative\\n   \n",
       "75                                      Adam Chambers  Conservative\\n   \n",
       "76                                Diane Lebouthillier       Liberal\\n   \n",
       "77                                          Dan Albas  Conservative\\n   \n",
       "78                                    Michelle Rempel  Conservative\\n   \n",
       "79                                     Clifford Small  Conservative\\n   \n",
       "80                                     Kelly McCauley  Conservative\\n   \n",
       "81                                        Lori Idlout           NDP\\n   \n",
       "82                                        Kevin Waugh  Conservative\\n   \n",
       "83                                Christine Normandin          Bloc\\n   \n",
       "\n",
       "                                          Affiliation  \\\n",
       "0                              \\nEdmonton Manning, AB   \n",
       "1                       \\nSaint-Maurice—Champlain, QC   \n",
       "2                                      \\nJoliette, QC   \n",
       "3                             \\nElmwood—Transcona, MB   \n",
       "4                 \\nMission—Matsqui—Fraser Canyon, BC   \n",
       "5                                        \\nNepean, ON   \n",
       "6                                  \\nAlexandra Mendes   \n",
       "7   \\nCharleswood—St. James—Assiniboia—Headingley, MB   \n",
       "8                              \\nKitchener Centre, ON   \n",
       "9                                \\nWinnipeg North, MB   \n",
       "10                               \\nSaskatoon West, SK   \n",
       "11                                       \\nMilton, ON   \n",
       "12                           \\nEdmonton Griesbach, AB   \n",
       "13                                      \\nHalifax, NS   \n",
       "14                    \\nSouth Shore—St. Margarets, NS   \n",
       "15                      \\nCloverdale—Langley City, BC   \n",
       "16                    \\nOakville North—Burlington, ON   \n",
       "17                               \\nNiagara Centre, ON   \n",
       "18  \\nMontmagny—L'Islet—Kamouraska—Rivière-du-Loup...   \n",
       "19                      \\nFort McMurray—Cold Lake, AB   \n",
       "20                                     \\nGatineau, QC   \n",
       "21                                 \\nWindsor West, ON   \n",
       "22                                  \\nManicouagan, QC   \n",
       "23                 \\nMedicine Hat—Cardston—Warner, AB   \n",
       "24                           \\nVaughan—Woodbridge, ON   \n",
       "25                           Leader of the Opposition   \n",
       "26  Parliamentary Secretary to the Minister of Env...   \n",
       "27  Minister of Tourism and Associate Minister of ...   \n",
       "28                      \\nNew Westminster—Burnaby, BC   \n",
       "29                     \\nCypress Hills—Grasslands, SK   \n",
       "30                   \\nDauphin—Swan River—Neepawa, MB   \n",
       "31  Parliamentary Secretary to the Minister of Agr...   \n",
       "32                         \\nPeace River—Westlock, AB   \n",
       "33                                       \\nOshawa, ON   \n",
       "34                          \\nLouis-Saint-Laurent, QC   \n",
       "35                               \\nTrois-Rivières, QC   \n",
       "36                                \\nBay of Quinte, ON   \n",
       "37                            \\nTimmins—James Bay, ON   \n",
       "38  Parliamentary Secretary to the Minister of Nat...   \n",
       "39                                     \\nVictoria, BC   \n",
       "40                                 Minister of Labour   \n",
       "41                          \\nChâteauguay—Lacolle, QC   \n",
       "42  Parliamentary Secretary to the Minister for Wo...   \n",
       "43                                     \\nLakeland, AB   \n",
       "44                       \\nNorth Okanagan—Shuswap, BC   \n",
       "45                      \\nWellington—Halton Hills, ON   \n",
       "46  Parliamentary Secretary to the Minister of Int...   \n",
       "47                                                N/A   \n",
       "48  Parliamentary Secretary to the Minister of Nat...   \n",
       "49                        \\nThérèse-De Blainville, QC   \n",
       "50  Parliamentary Secretary to the Minister of Emp...   \n",
       "51                          \\nCalgary Rocky Ridge, AB   \n",
       "52                    \\nLanark—Frontenac—Kingston, ON   \n",
       "53  Parliamentary Secretary to the Minister of Imm...   \n",
       "54                          \\nPierrefonds—Dollard, QC   \n",
       "55                          \\nSt. Albert—Edmonton, AB   \n",
       "56                            \\nMégantic—L'Érable, QC   \n",
       "57                                     \\nMalpeque, PE   \n",
       "58  Parliamentary Secretary to the Minister of Fam...   \n",
       "59                              \\nWinnipeg Centre, MB   \n",
       "60                          \\nRichmond—Arthabaska, QC   \n",
       "61  Parliamentary Secretary to the Prime Minister ...   \n",
       "62                            \\nHaldimand—Norfolk, ON   \n",
       "63                       \\nElgin—Middlesex—London, ON   \n",
       "64                    \\nLongueuil—Charles-LeMoyne, QC   \n",
       "65                                      \\nPontiac, QC   \n",
       "66                                \\nPrince Albert, SK   \n",
       "67                    \\nKamloops—Thompson—Cariboo, BC   \n",
       "68                                     \\nMike Morrice   \n",
       "69                            \\nSpadina—Fort York, ON   \n",
       "70                               \\nVancouver East, BC   \n",
       "71                   \\nRenfrew—Nipissing—Pembroke, ON   \n",
       "72                               \\nRegina—Wascana, SK   \n",
       "73  Parliamentary Secretary to the Minister of Men...   \n",
       "74                        \\nPeterborough—Kawartha, ON   \n",
       "75                                 \\nSimcoe North, ON   \n",
       "76                       Minister of National Revenue   \n",
       "77          \\nCentral Okanagan—Similkameen—Nicola, BC   \n",
       "78                            \\nCalgary Nose Hill, AB   \n",
       "79             \\nCoast of Bays—Central—Notre Dame, NL   \n",
       "80                                \\nEdmonton West, AB   \n",
       "81                                      \\nNunavut, NU   \n",
       "82                          \\nSaskatoon—Grasswood, SK   \n",
       "83                                   \\nSaint-Jean, QC   \n",
       "\n",
       "                                                 Said  \n",
       "0   Madam Speaker, Canada is a safe haven for mone...  \n",
       "1   Madam Speaker, my hon. colleague knows I have ...  \n",
       "2   Madam Speaker, I thank the hon. minister for t...  \n",
       "3   Madam Speaker, we know that a well-designed re...  \n",
       "4   Madam Speaker, proposed subsection 21.‍303(3),...  \n",
       "5   Madam Speaker, corporations exist basically to...  \n",
       "6   I have to give the minister time to answer.\\nT...  \n",
       "7   Madam Speaker, there are a number of areas of ...  \n",
       "8   Madam Speaker, around the world we are seeing ...  \n",
       "9   Madam Speaker, budget 2023 continues to demons...  \n",
       "10  Madam Speaker, soon Christians around the worl...  \n",
       "11  Madam Speaker, a little over a decade ago, Pat...  \n",
       "12  Madam Speaker, today we join trans folks from ...  \n",
       "13  Madam Speaker, I rise today to recognize my fr...  \n",
       "14  Madam Speaker, I rise in the House because tom...  \n",
       "15  Madam Speaker, Sikhs across the world and in C...  \n",
       "16  Madam Speaker, Canada is a global leader in th...  \n",
       "17  Madam Speaker, it is my pleasure to rise in th...  \n",
       "18  Madam Speaker, our streets are becoming more a...  \n",
       "19  Madam Speaker, a home is a haven where we feel...  \n",
       "20  Madam Speaker, this morning, I was thrilled to...  \n",
       "21  Madam Speaker, scandals in the sports world co...  \n",
       "22  Madam Speaker, I have a little boy who wakes u...  \n",
       "23  Madam Speaker, on April 1, the Liberal carbon ...  \n",
       "24  Madam Speaker, in the words of the newly insta...  \n",
       "25  Madam Speaker, we can imagine the conversation...  \n",
       "26  Madam Speaker, as much as the bench opposite w...  \n",
       "27  Madam Speaker, I thank my hon. colleague for h...  \n",
       "28  Madam Speaker, with prices skyrocketing, Canad...  \n",
       "29  Madam Speaker, as farmers look to begin seedin...  \n",
       "30   Madam Speaker, the Liberals are tripling thei...  \n",
       "31  Madam Speaker, I am glad to hear my colleague ...  \n",
       "32  Madam Speaker, the Conservatives know that tec...  \n",
       "33  Madam Speaker, while the Prime Minister stays ...  \n",
       "34  Madam Speaker, tonight, 12:01 a.m. will spell ...  \n",
       "35  Madam Speaker, if there is one role that must ...  \n",
       "36  Madam Speaker, Canadians pay the highest cellp...  \n",
       "37  Madam Speaker, I have been speaking with energ...  \n",
       "38  Madam Speaker, I am very happy that the member...  \n",
       "39  Madam Speaker, Canadians want to see their gov...  \n",
       "40  Madam Speaker, I think the budget speaks for i...  \n",
       "41  Madam Speaker, on International Transgender Da...  \n",
       "42  Madam Speaker, on this day, I am thinking of E...  \n",
       "43  Madam Speaker, Liberals chose a top minister's...  \n",
       "44  Madam Speaker, we should all remember clam sca...  \n",
       "45  Madam Speaker, members of this House have work...  \n",
       "46  Madam Speaker, it is interesting that the Cons...  \n",
       "47   Oh, oh! Oh, oh! Oh, oh! Oh, oh! Oh, oh! Oh, o...  \n",
       "48  Madam Speaker, the Canadian Armed Forces plays...  \n",
       "49  Madam Speaker, the budget proves that Ottawa h...  \n",
       "50  Madam Speaker, budget 2023 invests in seasonal...  \n",
       "51  Madam Speaker, the budget still allows the aut...  \n",
       "52  Madam Speaker, the immigration minister's prog...  \n",
       "53  Madam Speaker, I want to thank the hon. member...  \n",
       "54  Madam Speaker, Canada's innovation and economi...  \n",
       "55  Madam Speaker, the cover-up continues. It has ...  \n",
       "56  Madam Speaker, ethics violations do not seem t...  \n",
       "57  Madam Speaker, families in my riding of Malpeq...  \n",
       "58  Madam Speaker, I am so glad to report that Pri...  \n",
       "59  Madam Speaker, the Mass Casualty Commission re...  \n",
       "60  Madam Speaker, we have learned that the Govern...  \n",
       "61  Madam Speaker, it is very important to remembe...  \n",
       "62  Madam Speaker, justice does not only have to b...  \n",
       "63  Madam Speaker, the member for Haldimand—Norfol...  \n",
       "64  Madam Speaker, I just wanted to clarify someth...  \n",
       "65  Madam Speaker, I want to say that I was here t...  \n",
       "66  Madam Speaker, I rise today to present 12 peti...  \n",
       "67  Mr. Speaker, it is always a pleasure to rise o...  \n",
       "68  I will remind members that they are meant to s...  \n",
       "69  Mr. Speaker, I have the honour to present a pe...  \n",
       "70  Mr. Speaker, I rise to table a petition callin...  \n",
       "71  Mr. Speaker, I have three petitions.\\nThe firs...  \n",
       "72  With regard to the government’s rejection of S...  \n",
       "73  Mr. Speaker, the Government of Canada has not ...  \n",
       "74  With regard to the tender put out by the gover...  \n",
       "75  With regard to the government's response to Or...  \n",
       "76  Mr. Speaker, with respect to the above-noted q...  \n",
       "77  With regard to the government's reaction to re...  \n",
       "78  With regard to Public Services and Procurement...  \n",
       "79  With regard to the Department of Fisheries and...  \n",
       "80  Mr. Speaker, this being such an important priv...  \n",
       "81   Uqaqtittiji, I wonder, given that Canada is f...  \n",
       "82  Madam Speaker, I say good day to everyone. It ...  \n",
       "83  Madam Speaker, I am pleased to rise this last ...  "
      ]
     },
     "execution_count": 28,
     "metadata": {},
     "output_type": "execute_result"
    }
   ],
   "source": [
    "dataFrame = pd.DataFrame.from_dict(debateDict)\n",
    "dataFrame"
   ]
  },
  {
   "attachments": {},
   "cell_type": "markdown",
   "id": "531d11d4",
   "metadata": {},
   "source": [
    "Notice how in some of our columns, there appears to be a '\\n'. In Python, this represents a **newline character**, which essentially represents a line break. Treat it as if you're starting a new paragraph when you see a '\\n'. For our purposes, we're going to remove this newline character for the sake of continuity of our dataframe. "
   ]
  },
  {
   "cell_type": "code",
   "execution_count": 29,
   "id": "7f96b2a1",
   "metadata": {},
   "outputs": [
    {
     "data": {
      "text/html": [
       "<div>\n",
       "<style scoped>\n",
       "    .dataframe tbody tr th:only-of-type {\n",
       "        vertical-align: middle;\n",
       "    }\n",
       "\n",
       "    .dataframe tbody tr th {\n",
       "        vertical-align: top;\n",
       "    }\n",
       "\n",
       "    .dataframe thead th {\n",
       "        text-align: right;\n",
       "    }\n",
       "</style>\n",
       "<table border=\"1\" class=\"dataframe\">\n",
       "  <thead>\n",
       "    <tr style=\"text-align: right;\">\n",
       "      <th></th>\n",
       "      <th>Name</th>\n",
       "      <th>Party</th>\n",
       "      <th>Affiliation</th>\n",
       "      <th>Said</th>\n",
       "    </tr>\n",
       "  </thead>\n",
       "  <tbody>\n",
       "    <tr>\n",
       "      <th>0</th>\n",
       "      <td>Ziad Aboultaif</td>\n",
       "      <td>Conservative</td>\n",
       "      <td>Edmonton Manning, AB</td>\n",
       "      <td>Madam Speaker, Canada is a safe haven for mone...</td>\n",
       "    </tr>\n",
       "    <tr>\n",
       "      <th>1</th>\n",
       "      <td>François-Philippe Champagne</td>\n",
       "      <td>Liberal</td>\n",
       "      <td>Saint-Maurice—Champlain, QC</td>\n",
       "      <td>Madam Speaker, my hon. colleague knows I have ...</td>\n",
       "    </tr>\n",
       "    <tr>\n",
       "      <th>2</th>\n",
       "      <td>Gabriel Ste-Marie</td>\n",
       "      <td>Bloc</td>\n",
       "      <td>Joliette, QC</td>\n",
       "      <td>Madam Speaker, I thank the hon. minister for t...</td>\n",
       "    </tr>\n",
       "    <tr>\n",
       "      <th>3</th>\n",
       "      <td>Daniel Blaikie</td>\n",
       "      <td>NDP</td>\n",
       "      <td>Elmwood—Transcona, MB</td>\n",
       "      <td>Madam Speaker, we know that a well-designed re...</td>\n",
       "    </tr>\n",
       "    <tr>\n",
       "      <th>4</th>\n",
       "      <td>Brad Vis</td>\n",
       "      <td>Conservative</td>\n",
       "      <td>Mission—Matsqui—Fraser Canyon, BC</td>\n",
       "      <td>Madam Speaker, proposed subsection 21.‍303(3),...</td>\n",
       "    </tr>\n",
       "    <tr>\n",
       "      <th>5</th>\n",
       "      <td>Chandra Arya</td>\n",
       "      <td>Liberal</td>\n",
       "      <td>Nepean, ON</td>\n",
       "      <td>Madam Speaker, corporations exist basically to...</td>\n",
       "    </tr>\n",
       "    <tr>\n",
       "      <th>6</th>\n",
       "      <td>The Assistant Deputy Speaker (Mrs. Alexandra M...</td>\n",
       "      <td>Liberal</td>\n",
       "      <td>Alexandra Mendes</td>\n",
       "      <td>I have to give the minister time to answer.\\nT...</td>\n",
       "    </tr>\n",
       "    <tr>\n",
       "      <th>7</th>\n",
       "      <td>Marty Morantz</td>\n",
       "      <td>Conservative</td>\n",
       "      <td>Charleswood—St. James—Assiniboia—Headingley, MB</td>\n",
       "      <td>Madam Speaker, there are a number of areas of ...</td>\n",
       "    </tr>\n",
       "    <tr>\n",
       "      <th>8</th>\n",
       "      <td>Mike Morrice</td>\n",
       "      <td>Green</td>\n",
       "      <td>Kitchener Centre, ON</td>\n",
       "      <td>Madam Speaker, around the world we are seeing ...</td>\n",
       "    </tr>\n",
       "    <tr>\n",
       "      <th>9</th>\n",
       "      <td>Kevin Lamoureux</td>\n",
       "      <td>Liberal</td>\n",
       "      <td>Winnipeg North, MB</td>\n",
       "      <td>Madam Speaker, budget 2023 continues to demons...</td>\n",
       "    </tr>\n",
       "    <tr>\n",
       "      <th>10</th>\n",
       "      <td>Brad Redekopp</td>\n",
       "      <td>Conservative</td>\n",
       "      <td>Saskatoon West, SK</td>\n",
       "      <td>Madam Speaker, soon Christians around the worl...</td>\n",
       "    </tr>\n",
       "    <tr>\n",
       "      <th>11</th>\n",
       "      <td>Adam van Koeverden</td>\n",
       "      <td>Liberal</td>\n",
       "      <td>Milton, ON</td>\n",
       "      <td>Madam Speaker, a little over a decade ago, Pat...</td>\n",
       "    </tr>\n",
       "    <tr>\n",
       "      <th>12</th>\n",
       "      <td>Blake Desjarlais</td>\n",
       "      <td>NDP</td>\n",
       "      <td>Edmonton Griesbach, AB</td>\n",
       "      <td>Madam Speaker, today we join trans folks from ...</td>\n",
       "    </tr>\n",
       "    <tr>\n",
       "      <th>13</th>\n",
       "      <td>Andy Fillmore</td>\n",
       "      <td>Liberal</td>\n",
       "      <td>Halifax, NS</td>\n",
       "      <td>Madam Speaker, I rise today to recognize my fr...</td>\n",
       "    </tr>\n",
       "    <tr>\n",
       "      <th>14</th>\n",
       "      <td>Rick Perkins</td>\n",
       "      <td>Conservative</td>\n",
       "      <td>South Shore—St. Margarets, NS</td>\n",
       "      <td>Madam Speaker, I rise in the House because tom...</td>\n",
       "    </tr>\n",
       "    <tr>\n",
       "      <th>15</th>\n",
       "      <td>John Aldag</td>\n",
       "      <td>Liberal</td>\n",
       "      <td>Cloverdale—Langley City, BC</td>\n",
       "      <td>Madam Speaker, Sikhs across the world and in C...</td>\n",
       "    </tr>\n",
       "    <tr>\n",
       "      <th>16</th>\n",
       "      <td>Pam Damoff</td>\n",
       "      <td>Liberal</td>\n",
       "      <td>Oakville North—Burlington, ON</td>\n",
       "      <td>Madam Speaker, Canada is a global leader in th...</td>\n",
       "    </tr>\n",
       "    <tr>\n",
       "      <th>17</th>\n",
       "      <td>Vance Badawey</td>\n",
       "      <td>Liberal</td>\n",
       "      <td>Niagara Centre, ON</td>\n",
       "      <td>Madam Speaker, it is my pleasure to rise in th...</td>\n",
       "    </tr>\n",
       "    <tr>\n",
       "      <th>18</th>\n",
       "      <td>Bernard Généreux</td>\n",
       "      <td>Conservative</td>\n",
       "      <td>Montmagny—L'Islet—Kamouraska—Rivière-du-Loup, QC</td>\n",
       "      <td>Madam Speaker, our streets are becoming more a...</td>\n",
       "    </tr>\n",
       "    <tr>\n",
       "      <th>19</th>\n",
       "      <td>Laila Goodridge</td>\n",
       "      <td>Conservative</td>\n",
       "      <td>Fort McMurray—Cold Lake, AB</td>\n",
       "      <td>Madam Speaker, a home is a haven where we feel...</td>\n",
       "    </tr>\n",
       "    <tr>\n",
       "      <th>20</th>\n",
       "      <td>Steven MacKinnon</td>\n",
       "      <td>Liberal</td>\n",
       "      <td>Gatineau, QC</td>\n",
       "      <td>Madam Speaker, this morning, I was thrilled to...</td>\n",
       "    </tr>\n",
       "    <tr>\n",
       "      <th>21</th>\n",
       "      <td>Brian Masse</td>\n",
       "      <td>NDP</td>\n",
       "      <td>Windsor West, ON</td>\n",
       "      <td>Madam Speaker, scandals in the sports world co...</td>\n",
       "    </tr>\n",
       "    <tr>\n",
       "      <th>22</th>\n",
       "      <td>Marilène Gill</td>\n",
       "      <td>Bloc</td>\n",
       "      <td>Manicouagan, QC</td>\n",
       "      <td>Madam Speaker, I have a little boy who wakes u...</td>\n",
       "    </tr>\n",
       "    <tr>\n",
       "      <th>23</th>\n",
       "      <td>Glen Motz</td>\n",
       "      <td>Conservative</td>\n",
       "      <td>Medicine Hat—Cardston—Warner, AB</td>\n",
       "      <td>Madam Speaker, on April 1, the Liberal carbon ...</td>\n",
       "    </tr>\n",
       "    <tr>\n",
       "      <th>24</th>\n",
       "      <td>Francesco Sorbara</td>\n",
       "      <td>Liberal</td>\n",
       "      <td>Vaughan—Woodbridge, ON</td>\n",
       "      <td>Madam Speaker, in the words of the newly insta...</td>\n",
       "    </tr>\n",
       "    <tr>\n",
       "      <th>25</th>\n",
       "      <td>Pierre Poilievre</td>\n",
       "      <td>Conservative</td>\n",
       "      <td>Leader of the Opposition</td>\n",
       "      <td>Madam Speaker, we can imagine the conversation...</td>\n",
       "    </tr>\n",
       "    <tr>\n",
       "      <th>26</th>\n",
       "      <td>Terry Duguid</td>\n",
       "      <td>Liberal</td>\n",
       "      <td>Parliamentary Secretary to the Minister of Env...</td>\n",
       "      <td>Madam Speaker, as much as the bench opposite w...</td>\n",
       "    </tr>\n",
       "    <tr>\n",
       "      <th>27</th>\n",
       "      <td>Randy Boissonnault</td>\n",
       "      <td>Liberal</td>\n",
       "      <td>Minister of Tourism and Associate Minister of ...</td>\n",
       "      <td>Madam Speaker, I thank my hon. colleague for h...</td>\n",
       "    </tr>\n",
       "    <tr>\n",
       "      <th>28</th>\n",
       "      <td>Peter Julian</td>\n",
       "      <td>NDP</td>\n",
       "      <td>New Westminster—Burnaby, BC</td>\n",
       "      <td>Madam Speaker, with prices skyrocketing, Canad...</td>\n",
       "    </tr>\n",
       "    <tr>\n",
       "      <th>29</th>\n",
       "      <td>Jeremy Patzer</td>\n",
       "      <td>Conservative</td>\n",
       "      <td>Cypress Hills—Grasslands, SK</td>\n",
       "      <td>Madam Speaker, as farmers look to begin seedin...</td>\n",
       "    </tr>\n",
       "    <tr>\n",
       "      <th>30</th>\n",
       "      <td>Dan Mazier</td>\n",
       "      <td>Conservative</td>\n",
       "      <td>Dauphin—Swan River—Neepawa, MB</td>\n",
       "      <td>Madam Speaker, the Liberals are tripling thei...</td>\n",
       "    </tr>\n",
       "    <tr>\n",
       "      <th>31</th>\n",
       "      <td>Francis Drouin</td>\n",
       "      <td>Liberal</td>\n",
       "      <td>Parliamentary Secretary to the Minister of Agr...</td>\n",
       "      <td>Madam Speaker, I am glad to hear my colleague ...</td>\n",
       "    </tr>\n",
       "    <tr>\n",
       "      <th>32</th>\n",
       "      <td>Arnold Viersen</td>\n",
       "      <td>Conservative</td>\n",
       "      <td>Peace River—Westlock, AB</td>\n",
       "      <td>Madam Speaker, the Conservatives know that tec...</td>\n",
       "    </tr>\n",
       "    <tr>\n",
       "      <th>33</th>\n",
       "      <td>Colin Carrie</td>\n",
       "      <td>Conservative</td>\n",
       "      <td>Oshawa, ON</td>\n",
       "      <td>Madam Speaker, while the Prime Minister stays ...</td>\n",
       "    </tr>\n",
       "    <tr>\n",
       "      <th>34</th>\n",
       "      <td>Gérard Deltell</td>\n",
       "      <td>Conservative</td>\n",
       "      <td>Louis-Saint-Laurent, QC</td>\n",
       "      <td>Madam Speaker, tonight, 12:01 a.m. will spell ...</td>\n",
       "    </tr>\n",
       "    <tr>\n",
       "      <th>35</th>\n",
       "      <td>René Villemure</td>\n",
       "      <td>Bloc</td>\n",
       "      <td>Trois-Rivières, QC</td>\n",
       "      <td>Madam Speaker, if there is one role that must ...</td>\n",
       "    </tr>\n",
       "    <tr>\n",
       "      <th>36</th>\n",
       "      <td>Ryan Williams</td>\n",
       "      <td>Conservative</td>\n",
       "      <td>Bay of Quinte, ON</td>\n",
       "      <td>Madam Speaker, Canadians pay the highest cellp...</td>\n",
       "    </tr>\n",
       "    <tr>\n",
       "      <th>37</th>\n",
       "      <td>Charlie Angus</td>\n",
       "      <td>NDP</td>\n",
       "      <td>Timmins—James Bay, ON</td>\n",
       "      <td>Madam Speaker, I have been speaking with energ...</td>\n",
       "    </tr>\n",
       "    <tr>\n",
       "      <th>38</th>\n",
       "      <td>Julie Dabrusin</td>\n",
       "      <td>Liberal</td>\n",
       "      <td>Parliamentary Secretary to the Minister of Nat...</td>\n",
       "      <td>Madam Speaker, I am very happy that the member...</td>\n",
       "    </tr>\n",
       "    <tr>\n",
       "      <th>39</th>\n",
       "      <td>Laurel Collins</td>\n",
       "      <td>NDP</td>\n",
       "      <td>Victoria, BC</td>\n",
       "      <td>Madam Speaker, Canadians want to see their gov...</td>\n",
       "    </tr>\n",
       "    <tr>\n",
       "      <th>40</th>\n",
       "      <td>Seamus O'Regan</td>\n",
       "      <td>Liberal</td>\n",
       "      <td>Minister of Labour</td>\n",
       "      <td>Madam Speaker, I think the budget speaks for i...</td>\n",
       "    </tr>\n",
       "    <tr>\n",
       "      <th>41</th>\n",
       "      <td>Brenda Shanahan</td>\n",
       "      <td>Liberal</td>\n",
       "      <td>Châteauguay—Lacolle, QC</td>\n",
       "      <td>Madam Speaker, on International Transgender Da...</td>\n",
       "    </tr>\n",
       "    <tr>\n",
       "      <th>42</th>\n",
       "      <td>Jenna Sudds</td>\n",
       "      <td>Liberal</td>\n",
       "      <td>Parliamentary Secretary to the Minister for Wo...</td>\n",
       "      <td>Madam Speaker, on this day, I am thinking of E...</td>\n",
       "    </tr>\n",
       "    <tr>\n",
       "      <th>43</th>\n",
       "      <td>Shannon Stubbs</td>\n",
       "      <td>Conservative</td>\n",
       "      <td>Lakeland, AB</td>\n",
       "      <td>Madam Speaker, Liberals chose a top minister's...</td>\n",
       "    </tr>\n",
       "    <tr>\n",
       "      <th>44</th>\n",
       "      <td>Mel Arnold</td>\n",
       "      <td>Conservative</td>\n",
       "      <td>North Okanagan—Shuswap, BC</td>\n",
       "      <td>Madam Speaker, we should all remember clam sca...</td>\n",
       "    </tr>\n",
       "    <tr>\n",
       "      <th>45</th>\n",
       "      <td>Michael Chong</td>\n",
       "      <td>Conservative</td>\n",
       "      <td>Wellington—Halton Hills, ON</td>\n",
       "      <td>Madam Speaker, members of this House have work...</td>\n",
       "    </tr>\n",
       "    <tr>\n",
       "      <th>46</th>\n",
       "      <td>Jennifer O'Connell</td>\n",
       "      <td>Liberal</td>\n",
       "      <td>Parliamentary Secretary to the Minister of Int...</td>\n",
       "      <td>Madam Speaker, it is interesting that the Cons...</td>\n",
       "    </tr>\n",
       "    <tr>\n",
       "      <th>47</th>\n",
       "      <td>Some hon. members</td>\n",
       "      <td>N/A</td>\n",
       "      <td>N/A</td>\n",
       "      <td>Oh, oh! Oh, oh! Oh, oh! Oh, oh! Oh, oh! Oh, o...</td>\n",
       "    </tr>\n",
       "    <tr>\n",
       "      <th>48</th>\n",
       "      <td>Bryan May</td>\n",
       "      <td>Liberal</td>\n",
       "      <td>Parliamentary Secretary to the Minister of Nat...</td>\n",
       "      <td>Madam Speaker, the Canadian Armed Forces plays...</td>\n",
       "    </tr>\n",
       "    <tr>\n",
       "      <th>49</th>\n",
       "      <td>Louise Chabot</td>\n",
       "      <td>Bloc</td>\n",
       "      <td>Thérèse-De Blainville, QC</td>\n",
       "      <td>Madam Speaker, the budget proves that Ottawa h...</td>\n",
       "    </tr>\n",
       "    <tr>\n",
       "      <th>50</th>\n",
       "      <td>Irek Kusmierczyk</td>\n",
       "      <td>Liberal</td>\n",
       "      <td>Parliamentary Secretary to the Minister of Emp...</td>\n",
       "      <td>Madam Speaker, budget 2023 invests in seasonal...</td>\n",
       "    </tr>\n",
       "    <tr>\n",
       "      <th>51</th>\n",
       "      <td>Pat Kelly</td>\n",
       "      <td>Conservative</td>\n",
       "      <td>Calgary Rocky Ridge, AB</td>\n",
       "      <td>Madam Speaker, the budget still allows the aut...</td>\n",
       "    </tr>\n",
       "    <tr>\n",
       "      <th>52</th>\n",
       "      <td>Scott Reid</td>\n",
       "      <td>Conservative</td>\n",
       "      <td>Lanark—Frontenac—Kingston, ON</td>\n",
       "      <td>Madam Speaker, the immigration minister's prog...</td>\n",
       "    </tr>\n",
       "    <tr>\n",
       "      <th>53</th>\n",
       "      <td>Marie-France Lalonde</td>\n",
       "      <td>Liberal</td>\n",
       "      <td>Parliamentary Secretary to the Minister of Imm...</td>\n",
       "      <td>Madam Speaker, I want to thank the hon. member...</td>\n",
       "    </tr>\n",
       "    <tr>\n",
       "      <th>54</th>\n",
       "      <td>Sameer Zuberi</td>\n",
       "      <td>Liberal</td>\n",
       "      <td>Pierrefonds—Dollard, QC</td>\n",
       "      <td>Madam Speaker, Canada's innovation and economi...</td>\n",
       "    </tr>\n",
       "    <tr>\n",
       "      <th>55</th>\n",
       "      <td>Michael Cooper</td>\n",
       "      <td>Conservative</td>\n",
       "      <td>St. Albert—Edmonton, AB</td>\n",
       "      <td>Madam Speaker, the cover-up continues. It has ...</td>\n",
       "    </tr>\n",
       "    <tr>\n",
       "      <th>56</th>\n",
       "      <td>Luc Berthold</td>\n",
       "      <td>Conservative</td>\n",
       "      <td>Mégantic—L'Érable, QC</td>\n",
       "      <td>Madam Speaker, ethics violations do not seem t...</td>\n",
       "    </tr>\n",
       "    <tr>\n",
       "      <th>57</th>\n",
       "      <td>Heath MacDonald</td>\n",
       "      <td>Liberal</td>\n",
       "      <td>Malpeque, PE</td>\n",
       "      <td>Madam Speaker, families in my riding of Malpeq...</td>\n",
       "    </tr>\n",
       "    <tr>\n",
       "      <th>58</th>\n",
       "      <td>Ya'ara Saks</td>\n",
       "      <td>Liberal</td>\n",
       "      <td>Parliamentary Secretary to the Minister of Fam...</td>\n",
       "      <td>Madam Speaker, I am so glad to report that Pri...</td>\n",
       "    </tr>\n",
       "    <tr>\n",
       "      <th>59</th>\n",
       "      <td>Leah Gazan</td>\n",
       "      <td>NDP</td>\n",
       "      <td>Winnipeg Centre, MB</td>\n",
       "      <td>Madam Speaker, the Mass Casualty Commission re...</td>\n",
       "    </tr>\n",
       "    <tr>\n",
       "      <th>60</th>\n",
       "      <td>Alain Rayes</td>\n",
       "      <td>Independent</td>\n",
       "      <td>Richmond—Arthabaska, QC</td>\n",
       "      <td>Madam Speaker, we have learned that the Govern...</td>\n",
       "    </tr>\n",
       "    <tr>\n",
       "      <th>61</th>\n",
       "      <td>Greg Fergus</td>\n",
       "      <td>Liberal</td>\n",
       "      <td>Parliamentary Secretary to the Prime Minister ...</td>\n",
       "      <td>Madam Speaker, it is very important to remembe...</td>\n",
       "    </tr>\n",
       "    <tr>\n",
       "      <th>62</th>\n",
       "      <td>Leslyn Lewis</td>\n",
       "      <td>Conservative</td>\n",
       "      <td>Haldimand—Norfolk, ON</td>\n",
       "      <td>Madam Speaker, justice does not only have to b...</td>\n",
       "    </tr>\n",
       "    <tr>\n",
       "      <th>63</th>\n",
       "      <td>Karen Vecchio</td>\n",
       "      <td>Conservative</td>\n",
       "      <td>Elgin—Middlesex—London, ON</td>\n",
       "      <td>Madam Speaker, the member for Haldimand—Norfol...</td>\n",
       "    </tr>\n",
       "    <tr>\n",
       "      <th>64</th>\n",
       "      <td>Sherry Romanado</td>\n",
       "      <td>Liberal</td>\n",
       "      <td>Longueuil—Charles-LeMoyne, QC</td>\n",
       "      <td>Madam Speaker, I just wanted to clarify someth...</td>\n",
       "    </tr>\n",
       "    <tr>\n",
       "      <th>65</th>\n",
       "      <td>Sophie Chatel</td>\n",
       "      <td>Liberal</td>\n",
       "      <td>Pontiac, QC</td>\n",
       "      <td>Madam Speaker, I want to say that I was here t...</td>\n",
       "    </tr>\n",
       "    <tr>\n",
       "      <th>66</th>\n",
       "      <td>Randy Hoback</td>\n",
       "      <td>Conservative</td>\n",
       "      <td>Prince Albert, SK</td>\n",
       "      <td>Madam Speaker, I rise today to present 12 peti...</td>\n",
       "    </tr>\n",
       "    <tr>\n",
       "      <th>67</th>\n",
       "      <td>Frank Caputo</td>\n",
       "      <td>Conservative</td>\n",
       "      <td>Kamloops—Thompson—Cariboo, BC</td>\n",
       "      <td>Mr. Speaker, it is always a pleasure to rise o...</td>\n",
       "    </tr>\n",
       "    <tr>\n",
       "      <th>68</th>\n",
       "      <td>The Acting Speaker</td>\n",
       "      <td>Green</td>\n",
       "      <td>Mike Morrice</td>\n",
       "      <td>I will remind members that they are meant to s...</td>\n",
       "    </tr>\n",
       "    <tr>\n",
       "      <th>69</th>\n",
       "      <td>Kevin Vuong</td>\n",
       "      <td>Independent</td>\n",
       "      <td>Spadina—Fort York, ON</td>\n",
       "      <td>Mr. Speaker, I have the honour to present a pe...</td>\n",
       "    </tr>\n",
       "    <tr>\n",
       "      <th>70</th>\n",
       "      <td>Jenny Kwan</td>\n",
       "      <td>NDP</td>\n",
       "      <td>Vancouver East, BC</td>\n",
       "      <td>Mr. Speaker, I rise to table a petition callin...</td>\n",
       "    </tr>\n",
       "    <tr>\n",
       "      <th>71</th>\n",
       "      <td>Cheryl Gallant</td>\n",
       "      <td>Conservative</td>\n",
       "      <td>Renfrew—Nipissing—Pembroke, ON</td>\n",
       "      <td>Mr. Speaker, I have three petitions.\\nThe firs...</td>\n",
       "    </tr>\n",
       "    <tr>\n",
       "      <th>72</th>\n",
       "      <td>Michael Kram</td>\n",
       "      <td>Conservative</td>\n",
       "      <td>Regina—Wascana, SK</td>\n",
       "      <td>With regard to the government’s rejection of S...</td>\n",
       "    </tr>\n",
       "    <tr>\n",
       "      <th>73</th>\n",
       "      <td>Élisabeth Brière</td>\n",
       "      <td>Liberal</td>\n",
       "      <td>Parliamentary Secretary to the Minister of Men...</td>\n",
       "      <td>Mr. Speaker, the Government of Canada has not ...</td>\n",
       "    </tr>\n",
       "    <tr>\n",
       "      <th>74</th>\n",
       "      <td>Michelle Ferreri</td>\n",
       "      <td>Conservative</td>\n",
       "      <td>Peterborough—Kawartha, ON</td>\n",
       "      <td>With regard to the tender put out by the gover...</td>\n",
       "    </tr>\n",
       "    <tr>\n",
       "      <th>75</th>\n",
       "      <td>Adam Chambers</td>\n",
       "      <td>Conservative</td>\n",
       "      <td>Simcoe North, ON</td>\n",
       "      <td>With regard to the government's response to Or...</td>\n",
       "    </tr>\n",
       "    <tr>\n",
       "      <th>76</th>\n",
       "      <td>Diane Lebouthillier</td>\n",
       "      <td>Liberal</td>\n",
       "      <td>Minister of National Revenue</td>\n",
       "      <td>Mr. Speaker, with respect to the above-noted q...</td>\n",
       "    </tr>\n",
       "    <tr>\n",
       "      <th>77</th>\n",
       "      <td>Dan Albas</td>\n",
       "      <td>Conservative</td>\n",
       "      <td>Central Okanagan—Similkameen—Nicola, BC</td>\n",
       "      <td>With regard to the government's reaction to re...</td>\n",
       "    </tr>\n",
       "    <tr>\n",
       "      <th>78</th>\n",
       "      <td>Michelle Rempel</td>\n",
       "      <td>Conservative</td>\n",
       "      <td>Calgary Nose Hill, AB</td>\n",
       "      <td>With regard to Public Services and Procurement...</td>\n",
       "    </tr>\n",
       "    <tr>\n",
       "      <th>79</th>\n",
       "      <td>Clifford Small</td>\n",
       "      <td>Conservative</td>\n",
       "      <td>Coast of Bays—Central—Notre Dame, NL</td>\n",
       "      <td>With regard to the Department of Fisheries and...</td>\n",
       "    </tr>\n",
       "    <tr>\n",
       "      <th>80</th>\n",
       "      <td>Kelly McCauley</td>\n",
       "      <td>Conservative</td>\n",
       "      <td>Edmonton West, AB</td>\n",
       "      <td>Mr. Speaker, this being such an important priv...</td>\n",
       "    </tr>\n",
       "    <tr>\n",
       "      <th>81</th>\n",
       "      <td>Lori Idlout</td>\n",
       "      <td>NDP</td>\n",
       "      <td>Nunavut, NU</td>\n",
       "      <td>Uqaqtittiji, I wonder, given that Canada is f...</td>\n",
       "    </tr>\n",
       "    <tr>\n",
       "      <th>82</th>\n",
       "      <td>Kevin Waugh</td>\n",
       "      <td>Conservative</td>\n",
       "      <td>Saskatoon—Grasswood, SK</td>\n",
       "      <td>Madam Speaker, I say good day to everyone. It ...</td>\n",
       "    </tr>\n",
       "    <tr>\n",
       "      <th>83</th>\n",
       "      <td>Christine Normandin</td>\n",
       "      <td>Bloc</td>\n",
       "      <td>Saint-Jean, QC</td>\n",
       "      <td>Madam Speaker, I am pleased to rise this last ...</td>\n",
       "    </tr>\n",
       "  </tbody>\n",
       "</table>\n",
       "</div>"
      ],
      "text/plain": [
       "                                                 Name         Party  \\\n",
       "0                                      Ziad Aboultaif  Conservative   \n",
       "1                         François-Philippe Champagne       Liberal   \n",
       "2                                   Gabriel Ste-Marie          Bloc   \n",
       "3                                      Daniel Blaikie           NDP   \n",
       "4                                            Brad Vis  Conservative   \n",
       "5                                        Chandra Arya       Liberal   \n",
       "6   The Assistant Deputy Speaker (Mrs. Alexandra M...       Liberal   \n",
       "7                                       Marty Morantz  Conservative   \n",
       "8                                        Mike Morrice         Green   \n",
       "9                                     Kevin Lamoureux       Liberal   \n",
       "10                                      Brad Redekopp  Conservative   \n",
       "11                                 Adam van Koeverden       Liberal   \n",
       "12                                   Blake Desjarlais           NDP   \n",
       "13                                      Andy Fillmore       Liberal   \n",
       "14                                       Rick Perkins  Conservative   \n",
       "15                                         John Aldag       Liberal   \n",
       "16                                         Pam Damoff       Liberal   \n",
       "17                                      Vance Badawey       Liberal   \n",
       "18                                   Bernard Généreux  Conservative   \n",
       "19                                    Laila Goodridge  Conservative   \n",
       "20                                   Steven MacKinnon       Liberal   \n",
       "21                                        Brian Masse           NDP   \n",
       "22                                      Marilène Gill          Bloc   \n",
       "23                                          Glen Motz  Conservative   \n",
       "24                                  Francesco Sorbara       Liberal   \n",
       "25                                   Pierre Poilievre  Conservative   \n",
       "26                                       Terry Duguid       Liberal   \n",
       "27                                 Randy Boissonnault       Liberal   \n",
       "28                                       Peter Julian           NDP   \n",
       "29                                      Jeremy Patzer  Conservative   \n",
       "30                                         Dan Mazier  Conservative   \n",
       "31                                     Francis Drouin       Liberal   \n",
       "32                                     Arnold Viersen  Conservative   \n",
       "33                                       Colin Carrie  Conservative   \n",
       "34                                     Gérard Deltell  Conservative   \n",
       "35                                     René Villemure          Bloc   \n",
       "36                                      Ryan Williams  Conservative   \n",
       "37                                      Charlie Angus           NDP   \n",
       "38                                     Julie Dabrusin       Liberal   \n",
       "39                                     Laurel Collins           NDP   \n",
       "40                                     Seamus O'Regan       Liberal   \n",
       "41                                    Brenda Shanahan       Liberal   \n",
       "42                                        Jenna Sudds       Liberal   \n",
       "43                                     Shannon Stubbs  Conservative   \n",
       "44                                         Mel Arnold  Conservative   \n",
       "45                                      Michael Chong  Conservative   \n",
       "46                                 Jennifer O'Connell       Liberal   \n",
       "47                                  Some hon. members           N/A   \n",
       "48                                          Bryan May       Liberal   \n",
       "49                                      Louise Chabot          Bloc   \n",
       "50                                   Irek Kusmierczyk       Liberal   \n",
       "51                                          Pat Kelly  Conservative   \n",
       "52                                         Scott Reid  Conservative   \n",
       "53                               Marie-France Lalonde       Liberal   \n",
       "54                                      Sameer Zuberi       Liberal   \n",
       "55                                     Michael Cooper  Conservative   \n",
       "56                                       Luc Berthold  Conservative   \n",
       "57                                    Heath MacDonald       Liberal   \n",
       "58                                        Ya'ara Saks       Liberal   \n",
       "59                                         Leah Gazan           NDP   \n",
       "60                                        Alain Rayes   Independent   \n",
       "61                                        Greg Fergus       Liberal   \n",
       "62                                       Leslyn Lewis  Conservative   \n",
       "63                                      Karen Vecchio  Conservative   \n",
       "64                                    Sherry Romanado       Liberal   \n",
       "65                                      Sophie Chatel       Liberal   \n",
       "66                                       Randy Hoback  Conservative   \n",
       "67                                       Frank Caputo  Conservative   \n",
       "68                                The Acting Speaker          Green   \n",
       "69                                        Kevin Vuong   Independent   \n",
       "70                                         Jenny Kwan           NDP   \n",
       "71                                     Cheryl Gallant  Conservative   \n",
       "72                                       Michael Kram  Conservative   \n",
       "73                                   Élisabeth Brière       Liberal   \n",
       "74                                   Michelle Ferreri  Conservative   \n",
       "75                                      Adam Chambers  Conservative   \n",
       "76                                Diane Lebouthillier       Liberal   \n",
       "77                                          Dan Albas  Conservative   \n",
       "78                                    Michelle Rempel  Conservative   \n",
       "79                                     Clifford Small  Conservative   \n",
       "80                                     Kelly McCauley  Conservative   \n",
       "81                                        Lori Idlout           NDP   \n",
       "82                                        Kevin Waugh  Conservative   \n",
       "83                                Christine Normandin          Bloc   \n",
       "\n",
       "                                          Affiliation  \\\n",
       "0                                Edmonton Manning, AB   \n",
       "1                         Saint-Maurice—Champlain, QC   \n",
       "2                                        Joliette, QC   \n",
       "3                               Elmwood—Transcona, MB   \n",
       "4                   Mission—Matsqui—Fraser Canyon, BC   \n",
       "5                                          Nepean, ON   \n",
       "6                                    Alexandra Mendes   \n",
       "7     Charleswood—St. James—Assiniboia—Headingley, MB   \n",
       "8                                Kitchener Centre, ON   \n",
       "9                                  Winnipeg North, MB   \n",
       "10                                 Saskatoon West, SK   \n",
       "11                                         Milton, ON   \n",
       "12                             Edmonton Griesbach, AB   \n",
       "13                                        Halifax, NS   \n",
       "14                      South Shore—St. Margarets, NS   \n",
       "15                        Cloverdale—Langley City, BC   \n",
       "16                      Oakville North—Burlington, ON   \n",
       "17                                 Niagara Centre, ON   \n",
       "18   Montmagny—L'Islet—Kamouraska—Rivière-du-Loup, QC   \n",
       "19                        Fort McMurray—Cold Lake, AB   \n",
       "20                                       Gatineau, QC   \n",
       "21                                   Windsor West, ON   \n",
       "22                                    Manicouagan, QC   \n",
       "23                   Medicine Hat—Cardston—Warner, AB   \n",
       "24                             Vaughan—Woodbridge, ON   \n",
       "25                           Leader of the Opposition   \n",
       "26  Parliamentary Secretary to the Minister of Env...   \n",
       "27  Minister of Tourism and Associate Minister of ...   \n",
       "28                        New Westminster—Burnaby, BC   \n",
       "29                       Cypress Hills—Grasslands, SK   \n",
       "30                     Dauphin—Swan River—Neepawa, MB   \n",
       "31  Parliamentary Secretary to the Minister of Agr...   \n",
       "32                           Peace River—Westlock, AB   \n",
       "33                                         Oshawa, ON   \n",
       "34                            Louis-Saint-Laurent, QC   \n",
       "35                                 Trois-Rivières, QC   \n",
       "36                                  Bay of Quinte, ON   \n",
       "37                              Timmins—James Bay, ON   \n",
       "38  Parliamentary Secretary to the Minister of Nat...   \n",
       "39                                       Victoria, BC   \n",
       "40                                 Minister of Labour   \n",
       "41                            Châteauguay—Lacolle, QC   \n",
       "42  Parliamentary Secretary to the Minister for Wo...   \n",
       "43                                       Lakeland, AB   \n",
       "44                         North Okanagan—Shuswap, BC   \n",
       "45                        Wellington—Halton Hills, ON   \n",
       "46  Parliamentary Secretary to the Minister of Int...   \n",
       "47                                                N/A   \n",
       "48  Parliamentary Secretary to the Minister of Nat...   \n",
       "49                          Thérèse-De Blainville, QC   \n",
       "50  Parliamentary Secretary to the Minister of Emp...   \n",
       "51                            Calgary Rocky Ridge, AB   \n",
       "52                      Lanark—Frontenac—Kingston, ON   \n",
       "53  Parliamentary Secretary to the Minister of Imm...   \n",
       "54                            Pierrefonds—Dollard, QC   \n",
       "55                            St. Albert—Edmonton, AB   \n",
       "56                              Mégantic—L'Érable, QC   \n",
       "57                                       Malpeque, PE   \n",
       "58  Parliamentary Secretary to the Minister of Fam...   \n",
       "59                                Winnipeg Centre, MB   \n",
       "60                            Richmond—Arthabaska, QC   \n",
       "61  Parliamentary Secretary to the Prime Minister ...   \n",
       "62                              Haldimand—Norfolk, ON   \n",
       "63                         Elgin—Middlesex—London, ON   \n",
       "64                      Longueuil—Charles-LeMoyne, QC   \n",
       "65                                        Pontiac, QC   \n",
       "66                                  Prince Albert, SK   \n",
       "67                      Kamloops—Thompson—Cariboo, BC   \n",
       "68                                       Mike Morrice   \n",
       "69                              Spadina—Fort York, ON   \n",
       "70                                 Vancouver East, BC   \n",
       "71                     Renfrew—Nipissing—Pembroke, ON   \n",
       "72                                 Regina—Wascana, SK   \n",
       "73  Parliamentary Secretary to the Minister of Men...   \n",
       "74                          Peterborough—Kawartha, ON   \n",
       "75                                   Simcoe North, ON   \n",
       "76                       Minister of National Revenue   \n",
       "77            Central Okanagan—Similkameen—Nicola, BC   \n",
       "78                              Calgary Nose Hill, AB   \n",
       "79               Coast of Bays—Central—Notre Dame, NL   \n",
       "80                                  Edmonton West, AB   \n",
       "81                                        Nunavut, NU   \n",
       "82                            Saskatoon—Grasswood, SK   \n",
       "83                                     Saint-Jean, QC   \n",
       "\n",
       "                                                 Said  \n",
       "0   Madam Speaker, Canada is a safe haven for mone...  \n",
       "1   Madam Speaker, my hon. colleague knows I have ...  \n",
       "2   Madam Speaker, I thank the hon. minister for t...  \n",
       "3   Madam Speaker, we know that a well-designed re...  \n",
       "4   Madam Speaker, proposed subsection 21.‍303(3),...  \n",
       "5   Madam Speaker, corporations exist basically to...  \n",
       "6   I have to give the minister time to answer.\\nT...  \n",
       "7   Madam Speaker, there are a number of areas of ...  \n",
       "8   Madam Speaker, around the world we are seeing ...  \n",
       "9   Madam Speaker, budget 2023 continues to demons...  \n",
       "10  Madam Speaker, soon Christians around the worl...  \n",
       "11  Madam Speaker, a little over a decade ago, Pat...  \n",
       "12  Madam Speaker, today we join trans folks from ...  \n",
       "13  Madam Speaker, I rise today to recognize my fr...  \n",
       "14  Madam Speaker, I rise in the House because tom...  \n",
       "15  Madam Speaker, Sikhs across the world and in C...  \n",
       "16  Madam Speaker, Canada is a global leader in th...  \n",
       "17  Madam Speaker, it is my pleasure to rise in th...  \n",
       "18  Madam Speaker, our streets are becoming more a...  \n",
       "19  Madam Speaker, a home is a haven where we feel...  \n",
       "20  Madam Speaker, this morning, I was thrilled to...  \n",
       "21  Madam Speaker, scandals in the sports world co...  \n",
       "22  Madam Speaker, I have a little boy who wakes u...  \n",
       "23  Madam Speaker, on April 1, the Liberal carbon ...  \n",
       "24  Madam Speaker, in the words of the newly insta...  \n",
       "25  Madam Speaker, we can imagine the conversation...  \n",
       "26  Madam Speaker, as much as the bench opposite w...  \n",
       "27  Madam Speaker, I thank my hon. colleague for h...  \n",
       "28  Madam Speaker, with prices skyrocketing, Canad...  \n",
       "29  Madam Speaker, as farmers look to begin seedin...  \n",
       "30   Madam Speaker, the Liberals are tripling thei...  \n",
       "31  Madam Speaker, I am glad to hear my colleague ...  \n",
       "32  Madam Speaker, the Conservatives know that tec...  \n",
       "33  Madam Speaker, while the Prime Minister stays ...  \n",
       "34  Madam Speaker, tonight, 12:01 a.m. will spell ...  \n",
       "35  Madam Speaker, if there is one role that must ...  \n",
       "36  Madam Speaker, Canadians pay the highest cellp...  \n",
       "37  Madam Speaker, I have been speaking with energ...  \n",
       "38  Madam Speaker, I am very happy that the member...  \n",
       "39  Madam Speaker, Canadians want to see their gov...  \n",
       "40  Madam Speaker, I think the budget speaks for i...  \n",
       "41  Madam Speaker, on International Transgender Da...  \n",
       "42  Madam Speaker, on this day, I am thinking of E...  \n",
       "43  Madam Speaker, Liberals chose a top minister's...  \n",
       "44  Madam Speaker, we should all remember clam sca...  \n",
       "45  Madam Speaker, members of this House have work...  \n",
       "46  Madam Speaker, it is interesting that the Cons...  \n",
       "47   Oh, oh! Oh, oh! Oh, oh! Oh, oh! Oh, oh! Oh, o...  \n",
       "48  Madam Speaker, the Canadian Armed Forces plays...  \n",
       "49  Madam Speaker, the budget proves that Ottawa h...  \n",
       "50  Madam Speaker, budget 2023 invests in seasonal...  \n",
       "51  Madam Speaker, the budget still allows the aut...  \n",
       "52  Madam Speaker, the immigration minister's prog...  \n",
       "53  Madam Speaker, I want to thank the hon. member...  \n",
       "54  Madam Speaker, Canada's innovation and economi...  \n",
       "55  Madam Speaker, the cover-up continues. It has ...  \n",
       "56  Madam Speaker, ethics violations do not seem t...  \n",
       "57  Madam Speaker, families in my riding of Malpeq...  \n",
       "58  Madam Speaker, I am so glad to report that Pri...  \n",
       "59  Madam Speaker, the Mass Casualty Commission re...  \n",
       "60  Madam Speaker, we have learned that the Govern...  \n",
       "61  Madam Speaker, it is very important to remembe...  \n",
       "62  Madam Speaker, justice does not only have to b...  \n",
       "63  Madam Speaker, the member for Haldimand—Norfol...  \n",
       "64  Madam Speaker, I just wanted to clarify someth...  \n",
       "65  Madam Speaker, I want to say that I was here t...  \n",
       "66  Madam Speaker, I rise today to present 12 peti...  \n",
       "67  Mr. Speaker, it is always a pleasure to rise o...  \n",
       "68  I will remind members that they are meant to s...  \n",
       "69  Mr. Speaker, I have the honour to present a pe...  \n",
       "70  Mr. Speaker, I rise to table a petition callin...  \n",
       "71  Mr. Speaker, I have three petitions.\\nThe firs...  \n",
       "72  With regard to the government’s rejection of S...  \n",
       "73  Mr. Speaker, the Government of Canada has not ...  \n",
       "74  With regard to the tender put out by the gover...  \n",
       "75  With regard to the government's response to Or...  \n",
       "76  Mr. Speaker, with respect to the above-noted q...  \n",
       "77  With regard to the government's reaction to re...  \n",
       "78  With regard to Public Services and Procurement...  \n",
       "79  With regard to the Department of Fisheries and...  \n",
       "80  Mr. Speaker, this being such an important priv...  \n",
       "81   Uqaqtittiji, I wonder, given that Canada is f...  \n",
       "82  Madam Speaker, I say good day to everyone. It ...  \n",
       "83  Madam Speaker, I am pleased to rise this last ...  "
      ]
     },
     "execution_count": 29,
     "metadata": {},
     "output_type": "execute_result"
    }
   ],
   "source": [
    "dataFrame['Party'].replace('\\n', '', regex=True, inplace=True)\n",
    "dataFrame['Affiliation'].replace('\\n', '', regex=True, inplace=True)\n",
    "dataFrame"
   ]
  },
  {
   "attachments": {},
   "cell_type": "markdown",
   "id": "35b2ff44",
   "metadata": {},
   "source": [
    "Now let's define a way to find nouns for our dataframe. The easiest way to do this is through the use of a **function**. \n",
    "\n",
    "In Python, a function is a named block of code that performs a specific task or operation. It is like a reusable recipe or set of instructions that you can give to the computer to perform a certain action.\n",
    "\n",
    "Functions are useful because they allow you to organize your code into smaller, manageable pieces. Instead of writing the same code over and over again, you can define a function and reuse it whenever needed by calling it with different inputs. This promotes code reusability, modularity, and makes your code easier to read and maintain."
   ]
  },
  {
   "cell_type": "code",
   "execution_count": 30,
   "id": "ff3c5780",
   "metadata": {},
   "outputs": [
    {
     "name": "stdout",
     "output_type": "stream",
     "text": [
      "Requirement already satisfied: spacy in c:\\users\\calga\\appdata\\local\\programs\\python\\python310\\lib\\site-packages (3.4.3)\n",
      "Requirement already satisfied: spacy-loggers<2.0.0,>=1.0.0 in c:\\users\\calga\\appdata\\local\\programs\\python\\python310\\lib\\site-packages (from spacy) (1.0.3)\n",
      "Requirement already satisfied: murmurhash<1.1.0,>=0.28.0 in c:\\users\\calga\\appdata\\local\\programs\\python\\python310\\lib\\site-packages (from spacy) (1.0.9)\n",
      "Requirement already satisfied: catalogue<2.1.0,>=2.0.6 in c:\\users\\calga\\appdata\\local\\programs\\python\\python310\\lib\\site-packages (from spacy) (2.0.8)\n",
      "Requirement already satisfied: thinc<8.2.0,>=8.1.0 in c:\\users\\calga\\appdata\\local\\programs\\python\\python310\\lib\\site-packages (from spacy) (8.1.5)\n",
      "Requirement already satisfied: preshed<3.1.0,>=3.0.2 in c:\\users\\calga\\appdata\\local\\programs\\python\\python310\\lib\\site-packages (from spacy) (3.0.8)\n",
      "Requirement already satisfied: pathy>=0.3.5 in c:\\users\\calga\\appdata\\local\\programs\\python\\python310\\lib\\site-packages (from spacy) (0.8.1)\n",
      "Requirement already satisfied: jinja2 in c:\\users\\calga\\appdata\\local\\programs\\python\\python310\\lib\\site-packages (from spacy) (3.1.2)\n",
      "Requirement already satisfied: typer<0.8.0,>=0.3.0 in c:\\users\\calga\\appdata\\local\\programs\\python\\python310\\lib\\site-packages (from spacy) (0.7.0)\n",
      "Requirement already satisfied: numpy>=1.15.0 in c:\\users\\calga\\appdata\\local\\programs\\python\\python310\\lib\\site-packages (from spacy) (1.23.4)\n",
      "Requirement already satisfied: spacy-legacy<3.1.0,>=3.0.10 in c:\\users\\calga\\appdata\\local\\programs\\python\\python310\\lib\\site-packages (from spacy) (3.0.10)\n",
      "Requirement already satisfied: srsly<3.0.0,>=2.4.3 in c:\\users\\calga\\appdata\\local\\programs\\python\\python310\\lib\\site-packages (from spacy) (2.4.5)\n",
      "Requirement already satisfied: cymem<2.1.0,>=2.0.2 in c:\\users\\calga\\appdata\\local\\programs\\python\\python310\\lib\\site-packages (from spacy) (2.0.7)\n",
      "Requirement already satisfied: tqdm<5.0.0,>=4.38.0 in c:\\users\\calga\\appdata\\local\\programs\\python\\python310\\lib\\site-packages (from spacy) (4.64.1)\n",
      "Requirement already satisfied: requests<3.0.0,>=2.13.0 in c:\\users\\calga\\appdata\\local\\programs\\python\\python310\\lib\\site-packages (from spacy) (2.28.1)\n",
      "Requirement already satisfied: wasabi<1.1.0,>=0.9.1 in c:\\users\\calga\\appdata\\local\\programs\\python\\python310\\lib\\site-packages (from spacy) (0.10.1)\n",
      "Requirement already satisfied: pydantic!=1.8,!=1.8.1,<1.11.0,>=1.7.4 in c:\\users\\calga\\appdata\\local\\programs\\python\\python310\\lib\\site-packages (from spacy) (1.10.2)\n",
      "Requirement already satisfied: packaging>=20.0 in c:\\users\\calga\\appdata\\local\\programs\\python\\python310\\lib\\site-packages (from spacy) (21.3)\n",
      "Requirement already satisfied: langcodes<4.0.0,>=3.2.0 in c:\\users\\calga\\appdata\\local\\programs\\python\\python310\\lib\\site-packages (from spacy) (3.3.0)\n",
      "Requirement already satisfied: setuptools in c:\\users\\calga\\appdata\\local\\programs\\python\\python310\\lib\\site-packages (from spacy) (63.2.0)\n",
      "Requirement already satisfied: pyparsing!=3.0.5,>=2.0.2 in c:\\users\\calga\\appdata\\local\\programs\\python\\python310\\lib\\site-packages (from packaging>=20.0->spacy) (3.0.9)\n",
      "Requirement already satisfied: smart-open<6.0.0,>=5.2.1 in c:\\users\\calga\\appdata\\local\\programs\\python\\python310\\lib\\site-packages (from pathy>=0.3.5->spacy) (5.2.1)\n",
      "Requirement already satisfied: typing-extensions>=4.1.0 in c:\\users\\calga\\appdata\\local\\programs\\python\\python310\\lib\\site-packages (from pydantic!=1.8,!=1.8.1,<1.11.0,>=1.7.4->spacy) (4.4.0)\n",
      "Requirement already satisfied: idna<4,>=2.5 in c:\\users\\calga\\appdata\\local\\programs\\python\\python310\\lib\\site-packages (from requests<3.0.0,>=2.13.0->spacy) (3.4)\n",
      "Requirement already satisfied: charset-normalizer<3,>=2 in c:\\users\\calga\\appdata\\local\\programs\\python\\python310\\lib\\site-packages (from requests<3.0.0,>=2.13.0->spacy) (2.1.1)\n",
      "Requirement already satisfied: certifi>=2017.4.17 in c:\\users\\calga\\appdata\\local\\programs\\python\\python310\\lib\\site-packages (from requests<3.0.0,>=2.13.0->spacy) (2022.9.24)\n",
      "Requirement already satisfied: urllib3<1.27,>=1.21.1 in c:\\users\\calga\\appdata\\local\\programs\\python\\python310\\lib\\site-packages (from requests<3.0.0,>=2.13.0->spacy) (1.26.12)\n",
      "Requirement already satisfied: blis<0.8.0,>=0.7.8 in c:\\users\\calga\\appdata\\local\\programs\\python\\python310\\lib\\site-packages (from thinc<8.2.0,>=8.1.0->spacy) (0.7.9)\n",
      "Requirement already satisfied: confection<1.0.0,>=0.0.1 in c:\\users\\calga\\appdata\\local\\programs\\python\\python310\\lib\\site-packages (from thinc<8.2.0,>=8.1.0->spacy) (0.0.3)\n",
      "Requirement already satisfied: colorama in c:\\users\\calga\\appdata\\local\\programs\\python\\python310\\lib\\site-packages (from tqdm<5.0.0,>=4.38.0->spacy) (0.4.5)\n",
      "Requirement already satisfied: click<9.0.0,>=7.1.1 in c:\\users\\calga\\appdata\\local\\programs\\python\\python310\\lib\\site-packages (from typer<0.8.0,>=0.3.0->spacy) (8.1.3)\n",
      "Requirement already satisfied: MarkupSafe>=2.0 in c:\\users\\calga\\appdata\\local\\programs\\python\\python310\\lib\\site-packages (from jinja2->spacy) (2.1.1)\n"
     ]
    },
    {
     "name": "stderr",
     "output_type": "stream",
     "text": [
      "\n",
      "[notice] A new release of pip available: 22.3.1 -> 23.1.2\n",
      "[notice] To update, run: python.exe -m pip install --upgrade pip\n",
      "2023-06-09 18:53:06.274305: W tensorflow/stream_executor/platform/default/dso_loader.cc:64] Could not load dynamic library 'cudart64_110.dll'; dlerror: cudart64_110.dll not found\n",
      "2023-06-09 18:53:06.274681: I tensorflow/stream_executor/cuda/cudart_stub.cc:29] Ignore above cudart dlerror if you do not have a GPU set up on your machine.\n",
      "Traceback (most recent call last):\n",
      "  File \"c:\\Users\\calga\\AppData\\Local\\Programs\\Python\\Python310\\lib\\runpy.py\", line 187, in _run_module_as_main\n",
      "    mod_name, mod_spec, code = _get_module_details(mod_name, _Error)\n",
      "  File \"c:\\Users\\calga\\AppData\\Local\\Programs\\Python\\Python310\\lib\\runpy.py\", line 146, in _get_module_details\n",
      "    return _get_module_details(pkg_main_name, error)\n",
      "  File \"c:\\Users\\calga\\AppData\\Local\\Programs\\Python\\Python310\\lib\\runpy.py\", line 110, in _get_module_details\n",
      "    __import__(pkg_name)\n",
      "  File \"c:\\Users\\calga\\AppData\\Local\\Programs\\Python\\Python310\\lib\\site-packages\\spacy\\__init__.py\", line 6, in <module>\n",
      "    from .errors import setup_default_warnings\n",
      "  File \"c:\\Users\\calga\\AppData\\Local\\Programs\\Python\\Python310\\lib\\site-packages\\spacy\\errors.py\", line 2, in <module>\n",
      "    from .compat import Literal\n",
      "  File \"c:\\Users\\calga\\AppData\\Local\\Programs\\Python\\Python310\\lib\\site-packages\\spacy\\compat.py\", line 3, in <module>\n",
      "    from thinc.util import copy_array\n",
      "  File \"c:\\Users\\calga\\AppData\\Local\\Programs\\Python\\Python310\\lib\\site-packages\\thinc\\__init__.py\", line 5, in <module>\n",
      "    from .config import registry\n",
      "  File \"c:\\Users\\calga\\AppData\\Local\\Programs\\Python\\Python310\\lib\\site-packages\\thinc\\config.py\", line 4, in <module>\n",
      "    from .types import Decorator\n",
      "  File \"c:\\Users\\calga\\AppData\\Local\\Programs\\Python\\Python310\\lib\\site-packages\\thinc\\types.py\", line 7, in <module>\n",
      "    from .compat import has_cupy, cupy\n",
      "  File \"c:\\Users\\calga\\AppData\\Local\\Programs\\Python\\Python310\\lib\\site-packages\\thinc\\compat.py\", line 56, in <module>\n",
      "    import tensorflow.experimental.dlpack\n",
      "  File \"C:\\Users\\calga\\AppData\\Roaming\\Python\\Python310\\site-packages\\tensorflow\\__init__.py\", line 469, in <module>\n",
      "    _keras._load()\n",
      "  File \"C:\\Users\\calga\\AppData\\Roaming\\Python\\Python310\\site-packages\\tensorflow\\python\\util\\lazy_loader.py\", line 41, in _load\n",
      "    module = importlib.import_module(self.__name__)\n",
      "  File \"c:\\Users\\calga\\AppData\\Local\\Programs\\Python\\Python310\\lib\\importlib\\__init__.py\", line 126, in import_module\n",
      "    return _bootstrap._gcd_import(name[level:], package, level)\n",
      "  File \"c:\\Users\\calga\\AppData\\Local\\Programs\\Python\\Python310\\lib\\site-packages\\keras\\__init__.py\", line 21, in <module>\n",
      "    from keras import models\n",
      "  File \"c:\\Users\\calga\\AppData\\Local\\Programs\\Python\\Python310\\lib\\site-packages\\keras\\models\\__init__.py\", line 18, in <module>\n",
      "    from keras.engine.functional import Functional\n",
      "  File \"c:\\Users\\calga\\AppData\\Local\\Programs\\Python\\Python310\\lib\\site-packages\\keras\\engine\\functional.py\", line 34, in <module>\n",
      "    from keras.engine import training as training_lib\n",
      "  File \"c:\\Users\\calga\\AppData\\Local\\Programs\\Python\\Python310\\lib\\site-packages\\keras\\engine\\training.py\", line 45, in <module>\n",
      "    from keras.saving.legacy import save\n",
      "  File \"c:\\Users\\calga\\AppData\\Local\\Programs\\Python\\Python310\\lib\\site-packages\\keras\\saving\\legacy\\save.py\", line 24, in <module>\n",
      "    from keras.saving.legacy.saved_model import load_context\n",
      "  File \"c:\\Users\\calga\\AppData\\Local\\Programs\\Python\\Python310\\lib\\site-packages\\keras\\saving\\legacy\\saved_model\\load_context.py\", line 68, in <module>\n",
      "    tf.__internal__.register_load_context_function(in_load_context)\n",
      "AttributeError: module 'tensorflow.compat.v2.__internal__' has no attribute 'register_load_context_function'. Did you mean: 'register_call_context_function'?\n"
     ]
    },
    {
     "ename": "AttributeError",
     "evalue": "module 'tensorflow._api.v2.compat.v2.__internal__' has no attribute 'register_load_context_function'",
     "output_type": "error",
     "traceback": [
      "\u001b[1;31m---------------------------------------------------------------------------\u001b[0m",
      "\u001b[1;31mAttributeError\u001b[0m                            Traceback (most recent call last)",
      "\u001b[1;32md:\\curriculum-notebooks\\SocialStudies\\OpenParliament\\open-parliament.ipynb Cell 70\u001b[0m in \u001b[0;36m7\n\u001b[0;32m      <a href='vscode-notebook-cell:/d%3A/curriculum-notebooks/SocialStudies/OpenParliament/open-parliament.ipynb#Y126sZmlsZQ%3D%3D?line=5'>6</a>\u001b[0m \u001b[39mtry\u001b[39;00m:\n\u001b[1;32m----> <a href='vscode-notebook-cell:/d%3A/curriculum-notebooks/SocialStudies/OpenParliament/open-parliament.ipynb#Y126sZmlsZQ%3D%3D?line=6'>7</a>\u001b[0m     \u001b[39mimport\u001b[39;00m \u001b[39mspacy\u001b[39;00m\n\u001b[0;32m      <a href='vscode-notebook-cell:/d%3A/curriculum-notebooks/SocialStudies/OpenParliament/open-parliament.ipynb#Y126sZmlsZQ%3D%3D?line=7'>8</a>\u001b[0m     nlp \u001b[39m=\u001b[39m spacy\u001b[39m.\u001b[39mload(\u001b[39m'\u001b[39m\u001b[39men_core_web_sm\u001b[39m\u001b[39m'\u001b[39m)\n",
      "File \u001b[1;32mc:\\Users\\calga\\AppData\\Local\\Programs\\Python\\Python310\\lib\\site-packages\\spacy\\__init__.py:6\u001b[0m\n\u001b[0;32m      5\u001b[0m \u001b[39m# set library-specific custom warning handling before doing anything else\u001b[39;00m\n\u001b[1;32m----> 6\u001b[0m \u001b[39mfrom\u001b[39;00m \u001b[39m.\u001b[39;00m\u001b[39merrors\u001b[39;00m \u001b[39mimport\u001b[39;00m setup_default_warnings\n\u001b[0;32m      8\u001b[0m setup_default_warnings()  \u001b[39m# noqa: E402\u001b[39;00m\n",
      "File \u001b[1;32mc:\\Users\\calga\\AppData\\Local\\Programs\\Python\\Python310\\lib\\site-packages\\spacy\\errors.py:2\u001b[0m\n\u001b[0;32m      1\u001b[0m \u001b[39mimport\u001b[39;00m \u001b[39mwarnings\u001b[39;00m\n\u001b[1;32m----> 2\u001b[0m \u001b[39mfrom\u001b[39;00m \u001b[39m.\u001b[39;00m\u001b[39mcompat\u001b[39;00m \u001b[39mimport\u001b[39;00m Literal\n\u001b[0;32m      5\u001b[0m \u001b[39mclass\u001b[39;00m \u001b[39mErrorsWithCodes\u001b[39;00m(\u001b[39mtype\u001b[39m):\n",
      "File \u001b[1;32mc:\\Users\\calga\\AppData\\Local\\Programs\\Python\\Python310\\lib\\site-packages\\spacy\\compat.py:3\u001b[0m\n\u001b[0;32m      2\u001b[0m \u001b[39mimport\u001b[39;00m \u001b[39msys\u001b[39;00m\n\u001b[1;32m----> 3\u001b[0m \u001b[39mfrom\u001b[39;00m \u001b[39mthinc\u001b[39;00m\u001b[39m.\u001b[39;00m\u001b[39mutil\u001b[39;00m \u001b[39mimport\u001b[39;00m copy_array\n\u001b[0;32m      5\u001b[0m \u001b[39mtry\u001b[39;00m:\n",
      "File \u001b[1;32mc:\\Users\\calga\\AppData\\Local\\Programs\\Python\\Python310\\lib\\site-packages\\thinc\\__init__.py:5\u001b[0m\n\u001b[0;32m      4\u001b[0m \u001b[39mfrom\u001b[39;00m \u001b[39m.\u001b[39;00m\u001b[39mabout\u001b[39;00m \u001b[39mimport\u001b[39;00m __version__\n\u001b[1;32m----> 5\u001b[0m \u001b[39mfrom\u001b[39;00m \u001b[39m.\u001b[39;00m\u001b[39mconfig\u001b[39;00m \u001b[39mimport\u001b[39;00m registry\n\u001b[0;32m      8\u001b[0m \u001b[39m# fmt: off\u001b[39;00m\n",
      "File \u001b[1;32mc:\\Users\\calga\\AppData\\Local\\Programs\\Python\\Python310\\lib\\site-packages\\thinc\\config.py:4\u001b[0m\n\u001b[0;32m      3\u001b[0m \u001b[39mfrom\u001b[39;00m \u001b[39mconfection\u001b[39;00m \u001b[39mimport\u001b[39;00m Config, ConfigValidationError, Promise, VARIABLE_RE\n\u001b[1;32m----> 4\u001b[0m \u001b[39mfrom\u001b[39;00m \u001b[39m.\u001b[39;00m\u001b[39mtypes\u001b[39;00m \u001b[39mimport\u001b[39;00m Decorator\n\u001b[0;32m      7\u001b[0m \u001b[39mclass\u001b[39;00m \u001b[39mregistry\u001b[39;00m(confection\u001b[39m.\u001b[39mregistry):\n\u001b[0;32m      8\u001b[0m     \u001b[39m# fmt: off\u001b[39;00m\n",
      "File \u001b[1;32mc:\\Users\\calga\\AppData\\Local\\Programs\\Python\\Python310\\lib\\site-packages\\thinc\\types.py:7\u001b[0m\n\u001b[0;32m      6\u001b[0m \u001b[39mimport\u001b[39;00m \u001b[39msys\u001b[39;00m\n\u001b[1;32m----> 7\u001b[0m \u001b[39mfrom\u001b[39;00m \u001b[39m.\u001b[39;00m\u001b[39mcompat\u001b[39;00m \u001b[39mimport\u001b[39;00m has_cupy, cupy\n\u001b[0;32m      9\u001b[0m \u001b[39mif\u001b[39;00m has_cupy:\n",
      "File \u001b[1;32mc:\\Users\\calga\\AppData\\Local\\Programs\\Python\\Python310\\lib\\site-packages\\thinc\\compat.py:56\u001b[0m\n\u001b[0;32m     55\u001b[0m \u001b[39mtry\u001b[39;00m:  \u001b[39m# pragma: no cover\u001b[39;00m\n\u001b[1;32m---> 56\u001b[0m     \u001b[39mimport\u001b[39;00m \u001b[39mtensorflow\u001b[39;00m\u001b[39m.\u001b[39;00m\u001b[39mexperimental\u001b[39;00m\u001b[39m.\u001b[39;00m\u001b[39mdlpack\u001b[39;00m\n\u001b[0;32m     57\u001b[0m     \u001b[39mimport\u001b[39;00m \u001b[39mtensorflow\u001b[39;00m\n",
      "File \u001b[1;32m~\\AppData\\Roaming\\Python\\Python310\\site-packages\\tensorflow\\__init__.py:469\u001b[0m\n\u001b[0;32m    468\u001b[0m \u001b[39mtry\u001b[39;00m:\n\u001b[1;32m--> 469\u001b[0m   _keras\u001b[39m.\u001b[39;49m_load()\n\u001b[0;32m    470\u001b[0m \u001b[39mexcept\u001b[39;00m \u001b[39mImportError\u001b[39;00m:\n",
      "File \u001b[1;32m~\\AppData\\Roaming\\Python\\Python310\\site-packages\\tensorflow\\python\\util\\lazy_loader.py:41\u001b[0m, in \u001b[0;36mLazyLoader._load\u001b[1;34m(self)\u001b[0m\n\u001b[0;32m     40\u001b[0m \u001b[39m# Import the target module and insert it into the parent's namespace\u001b[39;00m\n\u001b[1;32m---> 41\u001b[0m module \u001b[39m=\u001b[39m importlib\u001b[39m.\u001b[39;49mimport_module(\u001b[39mself\u001b[39;49m\u001b[39m.\u001b[39;49m\u001b[39m__name__\u001b[39;49m)\n\u001b[0;32m     42\u001b[0m \u001b[39mself\u001b[39m\u001b[39m.\u001b[39m_parent_module_globals[\u001b[39mself\u001b[39m\u001b[39m.\u001b[39m_local_name] \u001b[39m=\u001b[39m module\n",
      "File \u001b[1;32mc:\\Users\\calga\\AppData\\Local\\Programs\\Python\\Python310\\lib\\importlib\\__init__.py:126\u001b[0m, in \u001b[0;36mimport_module\u001b[1;34m(name, package)\u001b[0m\n\u001b[0;32m    125\u001b[0m         level \u001b[39m+\u001b[39m\u001b[39m=\u001b[39m \u001b[39m1\u001b[39m\n\u001b[1;32m--> 126\u001b[0m \u001b[39mreturn\u001b[39;00m _bootstrap\u001b[39m.\u001b[39;49m_gcd_import(name[level:], package, level)\n",
      "File \u001b[1;32mc:\\Users\\calga\\AppData\\Local\\Programs\\Python\\Python310\\lib\\site-packages\\keras\\__init__.py:21\u001b[0m\n\u001b[0;32m     20\u001b[0m \u001b[39mfrom\u001b[39;00m \u001b[39mkeras\u001b[39;00m \u001b[39mimport\u001b[39;00m distribute\n\u001b[1;32m---> 21\u001b[0m \u001b[39mfrom\u001b[39;00m \u001b[39mkeras\u001b[39;00m \u001b[39mimport\u001b[39;00m models\n\u001b[0;32m     22\u001b[0m \u001b[39mfrom\u001b[39;00m \u001b[39mkeras\u001b[39;00m\u001b[39m.\u001b[39;00m\u001b[39mengine\u001b[39;00m\u001b[39m.\u001b[39;00m\u001b[39minput_layer\u001b[39;00m \u001b[39mimport\u001b[39;00m Input\n",
      "File \u001b[1;32mc:\\Users\\calga\\AppData\\Local\\Programs\\Python\\Python310\\lib\\site-packages\\keras\\models\\__init__.py:18\u001b[0m\n\u001b[0;32m     15\u001b[0m \u001b[39m\"\"\"Keras models API.\"\"\"\u001b[39;00m\n\u001b[1;32m---> 18\u001b[0m \u001b[39mfrom\u001b[39;00m \u001b[39mkeras\u001b[39;00m\u001b[39m.\u001b[39;00m\u001b[39mengine\u001b[39;00m\u001b[39m.\u001b[39;00m\u001b[39mfunctional\u001b[39;00m \u001b[39mimport\u001b[39;00m Functional\n\u001b[0;32m     19\u001b[0m \u001b[39mfrom\u001b[39;00m \u001b[39mkeras\u001b[39;00m\u001b[39m.\u001b[39;00m\u001b[39mengine\u001b[39;00m\u001b[39m.\u001b[39;00m\u001b[39msequential\u001b[39;00m \u001b[39mimport\u001b[39;00m Sequential\n",
      "File \u001b[1;32mc:\\Users\\calga\\AppData\\Local\\Programs\\Python\\Python310\\lib\\site-packages\\keras\\engine\\functional.py:34\u001b[0m\n\u001b[0;32m     33\u001b[0m \u001b[39mfrom\u001b[39;00m \u001b[39mkeras\u001b[39;00m\u001b[39m.\u001b[39;00m\u001b[39mengine\u001b[39;00m \u001b[39mimport\u001b[39;00m node \u001b[39mas\u001b[39;00m node_module\n\u001b[1;32m---> 34\u001b[0m \u001b[39mfrom\u001b[39;00m \u001b[39mkeras\u001b[39;00m\u001b[39m.\u001b[39;00m\u001b[39mengine\u001b[39;00m \u001b[39mimport\u001b[39;00m training \u001b[39mas\u001b[39;00m training_lib\n\u001b[0;32m     35\u001b[0m \u001b[39mfrom\u001b[39;00m \u001b[39mkeras\u001b[39;00m\u001b[39m.\u001b[39;00m\u001b[39mengine\u001b[39;00m \u001b[39mimport\u001b[39;00m training_utils\n",
      "File \u001b[1;32mc:\\Users\\calga\\AppData\\Local\\Programs\\Python\\Python310\\lib\\site-packages\\keras\\engine\\training.py:45\u001b[0m\n\u001b[0;32m     44\u001b[0m \u001b[39mfrom\u001b[39;00m \u001b[39mkeras\u001b[39;00m\u001b[39m.\u001b[39;00m\u001b[39msaving\u001b[39;00m\u001b[39m.\u001b[39;00m\u001b[39mlegacy\u001b[39;00m \u001b[39mimport\u001b[39;00m hdf5_format\n\u001b[1;32m---> 45\u001b[0m \u001b[39mfrom\u001b[39;00m \u001b[39mkeras\u001b[39;00m\u001b[39m.\u001b[39;00m\u001b[39msaving\u001b[39;00m\u001b[39m.\u001b[39;00m\u001b[39mlegacy\u001b[39;00m \u001b[39mimport\u001b[39;00m save\n\u001b[0;32m     46\u001b[0m \u001b[39mfrom\u001b[39;00m \u001b[39mkeras\u001b[39;00m\u001b[39m.\u001b[39;00m\u001b[39msaving\u001b[39;00m\u001b[39m.\u001b[39;00m\u001b[39mlegacy\u001b[39;00m \u001b[39mimport\u001b[39;00m saving_utils\n",
      "File \u001b[1;32mc:\\Users\\calga\\AppData\\Local\\Programs\\Python\\Python310\\lib\\site-packages\\keras\\saving\\legacy\\save.py:24\u001b[0m\n\u001b[0;32m     23\u001b[0m \u001b[39mfrom\u001b[39;00m \u001b[39mkeras\u001b[39;00m\u001b[39m.\u001b[39;00m\u001b[39msaving\u001b[39;00m\u001b[39m.\u001b[39;00m\u001b[39mlegacy\u001b[39;00m\u001b[39m.\u001b[39;00m\u001b[39msaved_model\u001b[39;00m \u001b[39mimport\u001b[39;00m load \u001b[39mas\u001b[39;00m saved_model_load\n\u001b[1;32m---> 24\u001b[0m \u001b[39mfrom\u001b[39;00m \u001b[39mkeras\u001b[39;00m\u001b[39m.\u001b[39;00m\u001b[39msaving\u001b[39;00m\u001b[39m.\u001b[39;00m\u001b[39mlegacy\u001b[39;00m\u001b[39m.\u001b[39;00m\u001b[39msaved_model\u001b[39;00m \u001b[39mimport\u001b[39;00m load_context\n\u001b[0;32m     25\u001b[0m \u001b[39mfrom\u001b[39;00m \u001b[39mkeras\u001b[39;00m\u001b[39m.\u001b[39;00m\u001b[39msaving\u001b[39;00m\u001b[39m.\u001b[39;00m\u001b[39mlegacy\u001b[39;00m\u001b[39m.\u001b[39;00m\u001b[39msaved_model\u001b[39;00m \u001b[39mimport\u001b[39;00m save \u001b[39mas\u001b[39;00m saved_model_save\n",
      "File \u001b[1;32mc:\\Users\\calga\\AppData\\Local\\Programs\\Python\\Python310\\lib\\site-packages\\keras\\saving\\legacy\\saved_model\\load_context.py:68\u001b[0m\n\u001b[0;32m     65\u001b[0m     \u001b[39mreturn\u001b[39;00m _load_context\u001b[39m.\u001b[39min_load_context()\n\u001b[1;32m---> 68\u001b[0m tf\u001b[39m.\u001b[39;49m__internal__\u001b[39m.\u001b[39;49mregister_load_context_function(in_load_context)\n",
      "\u001b[1;31mAttributeError\u001b[0m: module 'tensorflow.compat.v2.__internal__' has no attribute 'register_load_context_function'",
      "\nDuring handling of the above exception, another exception occurred:\n",
      "\u001b[1;31mAttributeError\u001b[0m                            Traceback (most recent call last)",
      "\u001b[1;32md:\\curriculum-notebooks\\SocialStudies\\OpenParliament\\open-parliament.ipynb Cell 70\u001b[0m in \u001b[0;36m1\n\u001b[0;32m     <a href='vscode-notebook-cell:/d%3A/curriculum-notebooks/SocialStudies/OpenParliament/open-parliament.ipynb#Y126sZmlsZQ%3D%3D?line=9'>10</a>\u001b[0m     get_ipython()\u001b[39m.\u001b[39msystem(\u001b[39m'\u001b[39m\u001b[39mpip install spacy --user\u001b[39m\u001b[39m'\u001b[39m)\n\u001b[0;32m     <a href='vscode-notebook-cell:/d%3A/curriculum-notebooks/SocialStudies/OpenParliament/open-parliament.ipynb#Y126sZmlsZQ%3D%3D?line=10'>11</a>\u001b[0m     get_ipython()\u001b[39m.\u001b[39msystem(\u001b[39m'\u001b[39m\u001b[39mpython -m spacy download en_core_web_sm\u001b[39m\u001b[39m'\u001b[39m)\n\u001b[1;32m---> <a href='vscode-notebook-cell:/d%3A/curriculum-notebooks/SocialStudies/OpenParliament/open-parliament.ipynb#Y126sZmlsZQ%3D%3D?line=11'>12</a>\u001b[0m     \u001b[39mimport\u001b[39;00m \u001b[39mspacy\u001b[39;00m\n\u001b[0;32m     <a href='vscode-notebook-cell:/d%3A/curriculum-notebooks/SocialStudies/OpenParliament/open-parliament.ipynb#Y126sZmlsZQ%3D%3D?line=12'>13</a>\u001b[0m     nlp \u001b[39m=\u001b[39m spacy\u001b[39m.\u001b[39mload(\u001b[39m'\u001b[39m\u001b[39men_core_web_sm\u001b[39m\u001b[39m'\u001b[39m)\n\u001b[0;32m     <a href='vscode-notebook-cell:/d%3A/curriculum-notebooks/SocialStudies/OpenParliament/open-parliament.ipynb#Y126sZmlsZQ%3D%3D?line=13'>14</a>\u001b[0m \u001b[39mfrom\u001b[39;00m \u001b[39mIPython\u001b[39;00m\u001b[39m.\u001b[39;00m\u001b[39mdisplay\u001b[39;00m \u001b[39mimport\u001b[39;00m clear_output\n",
      "File \u001b[1;32mc:\\Users\\calga\\AppData\\Local\\Programs\\Python\\Python310\\lib\\site-packages\\spacy\\__init__.py:6\u001b[0m\n\u001b[0;32m      3\u001b[0m \u001b[39mimport\u001b[39;00m \u001b[39msys\u001b[39;00m\n\u001b[0;32m      5\u001b[0m \u001b[39m# set library-specific custom warning handling before doing anything else\u001b[39;00m\n\u001b[1;32m----> 6\u001b[0m \u001b[39mfrom\u001b[39;00m \u001b[39m.\u001b[39;00m\u001b[39merrors\u001b[39;00m \u001b[39mimport\u001b[39;00m setup_default_warnings\n\u001b[0;32m      8\u001b[0m setup_default_warnings()  \u001b[39m# noqa: E402\u001b[39;00m\n\u001b[0;32m     10\u001b[0m \u001b[39m# These are imported as part of the API\u001b[39;00m\n",
      "File \u001b[1;32mc:\\Users\\calga\\AppData\\Local\\Programs\\Python\\Python310\\lib\\site-packages\\spacy\\errors.py:2\u001b[0m\n\u001b[0;32m      1\u001b[0m \u001b[39mimport\u001b[39;00m \u001b[39mwarnings\u001b[39;00m\n\u001b[1;32m----> 2\u001b[0m \u001b[39mfrom\u001b[39;00m \u001b[39m.\u001b[39;00m\u001b[39mcompat\u001b[39;00m \u001b[39mimport\u001b[39;00m Literal\n\u001b[0;32m      5\u001b[0m \u001b[39mclass\u001b[39;00m \u001b[39mErrorsWithCodes\u001b[39;00m(\u001b[39mtype\u001b[39m):\n\u001b[0;32m      6\u001b[0m     \u001b[39mdef\u001b[39;00m \u001b[39m__getattribute__\u001b[39m(\u001b[39mself\u001b[39m, code):\n",
      "File \u001b[1;32mc:\\Users\\calga\\AppData\\Local\\Programs\\Python\\Python310\\lib\\site-packages\\spacy\\compat.py:3\u001b[0m\n\u001b[0;32m      1\u001b[0m \u001b[39m\"\"\"Helpers for Python and platform compatibility.\"\"\"\u001b[39;00m\n\u001b[0;32m      2\u001b[0m \u001b[39mimport\u001b[39;00m \u001b[39msys\u001b[39;00m\n\u001b[1;32m----> 3\u001b[0m \u001b[39mfrom\u001b[39;00m \u001b[39mthinc\u001b[39;00m\u001b[39m.\u001b[39;00m\u001b[39mutil\u001b[39;00m \u001b[39mimport\u001b[39;00m copy_array\n\u001b[0;32m      5\u001b[0m \u001b[39mtry\u001b[39;00m:\n\u001b[0;32m      6\u001b[0m     \u001b[39mimport\u001b[39;00m \u001b[39mcPickle\u001b[39;00m \u001b[39mas\u001b[39;00m \u001b[39mpickle\u001b[39;00m\n",
      "File \u001b[1;32mc:\\Users\\calga\\AppData\\Local\\Programs\\Python\\Python310\\lib\\site-packages\\thinc\\__init__.py:5\u001b[0m\n\u001b[0;32m      2\u001b[0m \u001b[39mimport\u001b[39;00m \u001b[39mnumpy\u001b[39;00m\n\u001b[0;32m      4\u001b[0m \u001b[39mfrom\u001b[39;00m \u001b[39m.\u001b[39;00m\u001b[39mabout\u001b[39;00m \u001b[39mimport\u001b[39;00m __version__\n\u001b[1;32m----> 5\u001b[0m \u001b[39mfrom\u001b[39;00m \u001b[39m.\u001b[39;00m\u001b[39mconfig\u001b[39;00m \u001b[39mimport\u001b[39;00m registry\n\u001b[0;32m      8\u001b[0m \u001b[39m# fmt: off\u001b[39;00m\n\u001b[0;32m      9\u001b[0m __all__ \u001b[39m=\u001b[39m [\n\u001b[0;32m     10\u001b[0m     \u001b[39m\"\u001b[39m\u001b[39mregistry\u001b[39m\u001b[39m\"\u001b[39m,\n\u001b[0;32m     11\u001b[0m     \u001b[39m\"\u001b[39m\u001b[39m__version__\u001b[39m\u001b[39m\"\u001b[39m,\n\u001b[0;32m     12\u001b[0m ]\n",
      "File \u001b[1;32mc:\\Users\\calga\\AppData\\Local\\Programs\\Python\\Python310\\lib\\site-packages\\thinc\\config.py:4\u001b[0m\n\u001b[0;32m      2\u001b[0m \u001b[39mimport\u001b[39;00m \u001b[39mconfection\u001b[39;00m\n\u001b[0;32m      3\u001b[0m \u001b[39mfrom\u001b[39;00m \u001b[39mconfection\u001b[39;00m \u001b[39mimport\u001b[39;00m Config, ConfigValidationError, Promise, VARIABLE_RE\n\u001b[1;32m----> 4\u001b[0m \u001b[39mfrom\u001b[39;00m \u001b[39m.\u001b[39;00m\u001b[39mtypes\u001b[39;00m \u001b[39mimport\u001b[39;00m Decorator\n\u001b[0;32m      7\u001b[0m \u001b[39mclass\u001b[39;00m \u001b[39mregistry\u001b[39;00m(confection\u001b[39m.\u001b[39mregistry):\n\u001b[0;32m      8\u001b[0m     \u001b[39m# fmt: off\u001b[39;00m\n\u001b[0;32m      9\u001b[0m     optimizers: Decorator \u001b[39m=\u001b[39m catalogue\u001b[39m.\u001b[39mcreate(\u001b[39m\"\u001b[39m\u001b[39mthinc\u001b[39m\u001b[39m\"\u001b[39m, \u001b[39m\"\u001b[39m\u001b[39moptimizers\u001b[39m\u001b[39m\"\u001b[39m, entry_points\u001b[39m=\u001b[39m\u001b[39mTrue\u001b[39;00m)\n",
      "File \u001b[1;32mc:\\Users\\calga\\AppData\\Local\\Programs\\Python\\Python310\\lib\\site-packages\\thinc\\types.py:7\u001b[0m\n\u001b[0;32m      5\u001b[0m \u001b[39mimport\u001b[39;00m \u001b[39mnumpy\u001b[39;00m\n\u001b[0;32m      6\u001b[0m \u001b[39mimport\u001b[39;00m \u001b[39msys\u001b[39;00m\n\u001b[1;32m----> 7\u001b[0m \u001b[39mfrom\u001b[39;00m \u001b[39m.\u001b[39;00m\u001b[39mcompat\u001b[39;00m \u001b[39mimport\u001b[39;00m has_cupy, cupy\n\u001b[0;32m      9\u001b[0m \u001b[39mif\u001b[39;00m has_cupy:\n\u001b[0;32m     10\u001b[0m     get_array_module \u001b[39m=\u001b[39m cupy\u001b[39m.\u001b[39mget_array_module\n",
      "File \u001b[1;32mc:\\Users\\calga\\AppData\\Local\\Programs\\Python\\Python310\\lib\\site-packages\\thinc\\compat.py:56\u001b[0m\n\u001b[0;32m     53\u001b[0m     torch_version \u001b[39m=\u001b[39m Version(\u001b[39m\"\u001b[39m\u001b[39m0.0.0\u001b[39m\u001b[39m\"\u001b[39m)\n\u001b[0;32m     55\u001b[0m \u001b[39mtry\u001b[39;00m:  \u001b[39m# pragma: no cover\u001b[39;00m\n\u001b[1;32m---> 56\u001b[0m     \u001b[39mimport\u001b[39;00m \u001b[39mtensorflow\u001b[39;00m\u001b[39m.\u001b[39;00m\u001b[39mexperimental\u001b[39;00m\u001b[39m.\u001b[39;00m\u001b[39mdlpack\u001b[39;00m\n\u001b[0;32m     57\u001b[0m     \u001b[39mimport\u001b[39;00m \u001b[39mtensorflow\u001b[39;00m\n\u001b[0;32m     59\u001b[0m     has_tensorflow \u001b[39m=\u001b[39m \u001b[39mTrue\u001b[39;00m\n",
      "File \u001b[1;32m~\\AppData\\Roaming\\Python\\Python310\\site-packages\\tensorflow\\__init__.py:469\u001b[0m\n\u001b[0;32m    467\u001b[0m \u001b[39mif\u001b[39;00m \u001b[39mhasattr\u001b[39m(_current_module, \u001b[39m\"\u001b[39m\u001b[39mkeras\u001b[39m\u001b[39m\"\u001b[39m):\n\u001b[0;32m    468\u001b[0m   \u001b[39mtry\u001b[39;00m:\n\u001b[1;32m--> 469\u001b[0m     _keras\u001b[39m.\u001b[39;49m_load()\n\u001b[0;32m    470\u001b[0m   \u001b[39mexcept\u001b[39;00m \u001b[39mImportError\u001b[39;00m:\n\u001b[0;32m    471\u001b[0m     \u001b[39mpass\u001b[39;00m\n",
      "File \u001b[1;32m~\\AppData\\Roaming\\Python\\Python310\\site-packages\\tensorflow\\python\\util\\lazy_loader.py:41\u001b[0m, in \u001b[0;36mLazyLoader._load\u001b[1;34m(self)\u001b[0m\n\u001b[0;32m     39\u001b[0m \u001b[39m\"\"\"Load the module and insert it into the parent's globals.\"\"\"\u001b[39;00m\n\u001b[0;32m     40\u001b[0m \u001b[39m# Import the target module and insert it into the parent's namespace\u001b[39;00m\n\u001b[1;32m---> 41\u001b[0m module \u001b[39m=\u001b[39m importlib\u001b[39m.\u001b[39;49mimport_module(\u001b[39mself\u001b[39;49m\u001b[39m.\u001b[39;49m\u001b[39m__name__\u001b[39;49m)\n\u001b[0;32m     42\u001b[0m \u001b[39mself\u001b[39m\u001b[39m.\u001b[39m_parent_module_globals[\u001b[39mself\u001b[39m\u001b[39m.\u001b[39m_local_name] \u001b[39m=\u001b[39m module\n\u001b[0;32m     44\u001b[0m \u001b[39m# Emit a warning if one was specified\u001b[39;00m\n",
      "File \u001b[1;32mc:\\Users\\calga\\AppData\\Local\\Programs\\Python\\Python310\\lib\\importlib\\__init__.py:126\u001b[0m, in \u001b[0;36mimport_module\u001b[1;34m(name, package)\u001b[0m\n\u001b[0;32m    124\u001b[0m             \u001b[39mbreak\u001b[39;00m\n\u001b[0;32m    125\u001b[0m         level \u001b[39m+\u001b[39m\u001b[39m=\u001b[39m \u001b[39m1\u001b[39m\n\u001b[1;32m--> 126\u001b[0m \u001b[39mreturn\u001b[39;00m _bootstrap\u001b[39m.\u001b[39;49m_gcd_import(name[level:], package, level)\n",
      "File \u001b[1;32mc:\\Users\\calga\\AppData\\Local\\Programs\\Python\\Python310\\lib\\site-packages\\keras\\__init__.py:21\u001b[0m\n\u001b[0;32m     15\u001b[0m \u001b[39m\"\"\"Implementation of the Keras API, the high-level API of TensorFlow.\u001b[39;00m\n\u001b[0;32m     16\u001b[0m \n\u001b[0;32m     17\u001b[0m \u001b[39mDetailed documentation and user guides are available at\u001b[39;00m\n\u001b[0;32m     18\u001b[0m \u001b[39m[keras.io](https://keras.io).\u001b[39;00m\n\u001b[0;32m     19\u001b[0m \u001b[39m\"\"\"\u001b[39;00m\n\u001b[0;32m     20\u001b[0m \u001b[39mfrom\u001b[39;00m \u001b[39mkeras\u001b[39;00m \u001b[39mimport\u001b[39;00m distribute\n\u001b[1;32m---> 21\u001b[0m \u001b[39mfrom\u001b[39;00m \u001b[39mkeras\u001b[39;00m \u001b[39mimport\u001b[39;00m models\n\u001b[0;32m     22\u001b[0m \u001b[39mfrom\u001b[39;00m \u001b[39mkeras\u001b[39;00m\u001b[39m.\u001b[39;00m\u001b[39mengine\u001b[39;00m\u001b[39m.\u001b[39;00m\u001b[39minput_layer\u001b[39;00m \u001b[39mimport\u001b[39;00m Input\n\u001b[0;32m     23\u001b[0m \u001b[39mfrom\u001b[39;00m \u001b[39mkeras\u001b[39;00m\u001b[39m.\u001b[39;00m\u001b[39mengine\u001b[39;00m\u001b[39m.\u001b[39;00m\u001b[39msequential\u001b[39;00m \u001b[39mimport\u001b[39;00m Sequential\n",
      "File \u001b[1;32mc:\\Users\\calga\\AppData\\Local\\Programs\\Python\\Python310\\lib\\site-packages\\keras\\models\\__init__.py:18\u001b[0m\n\u001b[0;32m      1\u001b[0m \u001b[39m# Copyright 2022 The TensorFlow Authors. All Rights Reserved.\u001b[39;00m\n\u001b[0;32m      2\u001b[0m \u001b[39m#\u001b[39;00m\n\u001b[0;32m      3\u001b[0m \u001b[39m# Licensed under the Apache License, Version 2.0 (the \"License\");\u001b[39;00m\n\u001b[1;32m   (...)\u001b[0m\n\u001b[0;32m     13\u001b[0m \u001b[39m# limitations under the License.\u001b[39;00m\n\u001b[0;32m     14\u001b[0m \u001b[39m# ==============================================================================\u001b[39;00m\n\u001b[0;32m     15\u001b[0m \u001b[39m\"\"\"Keras models API.\"\"\"\u001b[39;00m\n\u001b[1;32m---> 18\u001b[0m \u001b[39mfrom\u001b[39;00m \u001b[39mkeras\u001b[39;00m\u001b[39m.\u001b[39;00m\u001b[39mengine\u001b[39;00m\u001b[39m.\u001b[39;00m\u001b[39mfunctional\u001b[39;00m \u001b[39mimport\u001b[39;00m Functional\n\u001b[0;32m     19\u001b[0m \u001b[39mfrom\u001b[39;00m \u001b[39mkeras\u001b[39;00m\u001b[39m.\u001b[39;00m\u001b[39mengine\u001b[39;00m\u001b[39m.\u001b[39;00m\u001b[39msequential\u001b[39;00m \u001b[39mimport\u001b[39;00m Sequential\n\u001b[0;32m     20\u001b[0m \u001b[39mfrom\u001b[39;00m \u001b[39mkeras\u001b[39;00m\u001b[39m.\u001b[39;00m\u001b[39mengine\u001b[39;00m\u001b[39m.\u001b[39;00m\u001b[39mtraining\u001b[39;00m \u001b[39mimport\u001b[39;00m Model\n",
      "File \u001b[1;32mc:\\Users\\calga\\AppData\\Local\\Programs\\Python\\Python310\\lib\\site-packages\\keras\\engine\\functional.py:34\u001b[0m\n\u001b[0;32m     32\u001b[0m \u001b[39mfrom\u001b[39;00m \u001b[39mkeras\u001b[39;00m\u001b[39m.\u001b[39;00m\u001b[39mengine\u001b[39;00m \u001b[39mimport\u001b[39;00m input_spec\n\u001b[0;32m     33\u001b[0m \u001b[39mfrom\u001b[39;00m \u001b[39mkeras\u001b[39;00m\u001b[39m.\u001b[39;00m\u001b[39mengine\u001b[39;00m \u001b[39mimport\u001b[39;00m node \u001b[39mas\u001b[39;00m node_module\n\u001b[1;32m---> 34\u001b[0m \u001b[39mfrom\u001b[39;00m \u001b[39mkeras\u001b[39;00m\u001b[39m.\u001b[39;00m\u001b[39mengine\u001b[39;00m \u001b[39mimport\u001b[39;00m training \u001b[39mas\u001b[39;00m training_lib\n\u001b[0;32m     35\u001b[0m \u001b[39mfrom\u001b[39;00m \u001b[39mkeras\u001b[39;00m\u001b[39m.\u001b[39;00m\u001b[39mengine\u001b[39;00m \u001b[39mimport\u001b[39;00m training_utils\n\u001b[0;32m     36\u001b[0m \u001b[39mfrom\u001b[39;00m \u001b[39mkeras\u001b[39;00m\u001b[39m.\u001b[39;00m\u001b[39msaving\u001b[39;00m\u001b[39m.\u001b[39;00m\u001b[39mlegacy\u001b[39;00m \u001b[39mimport\u001b[39;00m serialization\n",
      "File \u001b[1;32mc:\\Users\\calga\\AppData\\Local\\Programs\\Python\\Python310\\lib\\site-packages\\keras\\engine\\training.py:45\u001b[0m\n\u001b[0;32m     43\u001b[0m \u001b[39mfrom\u001b[39;00m \u001b[39mkeras\u001b[39;00m\u001b[39m.\u001b[39;00m\u001b[39msaving\u001b[39;00m\u001b[39m.\u001b[39;00m\u001b[39mexperimental\u001b[39;00m \u001b[39mimport\u001b[39;00m saving_lib\n\u001b[0;32m     44\u001b[0m \u001b[39mfrom\u001b[39;00m \u001b[39mkeras\u001b[39;00m\u001b[39m.\u001b[39;00m\u001b[39msaving\u001b[39;00m\u001b[39m.\u001b[39;00m\u001b[39mlegacy\u001b[39;00m \u001b[39mimport\u001b[39;00m hdf5_format\n\u001b[1;32m---> 45\u001b[0m \u001b[39mfrom\u001b[39;00m \u001b[39mkeras\u001b[39;00m\u001b[39m.\u001b[39;00m\u001b[39msaving\u001b[39;00m\u001b[39m.\u001b[39;00m\u001b[39mlegacy\u001b[39;00m \u001b[39mimport\u001b[39;00m save\n\u001b[0;32m     46\u001b[0m \u001b[39mfrom\u001b[39;00m \u001b[39mkeras\u001b[39;00m\u001b[39m.\u001b[39;00m\u001b[39msaving\u001b[39;00m\u001b[39m.\u001b[39;00m\u001b[39mlegacy\u001b[39;00m \u001b[39mimport\u001b[39;00m saving_utils\n\u001b[0;32m     47\u001b[0m \u001b[39mfrom\u001b[39;00m \u001b[39mkeras\u001b[39;00m\u001b[39m.\u001b[39;00m\u001b[39msaving\u001b[39;00m\u001b[39m.\u001b[39;00m\u001b[39mlegacy\u001b[39;00m \u001b[39mimport\u001b[39;00m serialization\n",
      "File \u001b[1;32mc:\\Users\\calga\\AppData\\Local\\Programs\\Python\\Python310\\lib\\site-packages\\keras\\saving\\legacy\\save.py:24\u001b[0m\n\u001b[0;32m     22\u001b[0m \u001b[39mfrom\u001b[39;00m \u001b[39mkeras\u001b[39;00m\u001b[39m.\u001b[39;00m\u001b[39msaving\u001b[39;00m\u001b[39m.\u001b[39;00m\u001b[39mlegacy\u001b[39;00m \u001b[39mimport\u001b[39;00m serialization\n\u001b[0;32m     23\u001b[0m \u001b[39mfrom\u001b[39;00m \u001b[39mkeras\u001b[39;00m\u001b[39m.\u001b[39;00m\u001b[39msaving\u001b[39;00m\u001b[39m.\u001b[39;00m\u001b[39mlegacy\u001b[39;00m\u001b[39m.\u001b[39;00m\u001b[39msaved_model\u001b[39;00m \u001b[39mimport\u001b[39;00m load \u001b[39mas\u001b[39;00m saved_model_load\n\u001b[1;32m---> 24\u001b[0m \u001b[39mfrom\u001b[39;00m \u001b[39mkeras\u001b[39;00m\u001b[39m.\u001b[39;00m\u001b[39msaving\u001b[39;00m\u001b[39m.\u001b[39;00m\u001b[39mlegacy\u001b[39;00m\u001b[39m.\u001b[39;00m\u001b[39msaved_model\u001b[39;00m \u001b[39mimport\u001b[39;00m load_context\n\u001b[0;32m     25\u001b[0m \u001b[39mfrom\u001b[39;00m \u001b[39mkeras\u001b[39;00m\u001b[39m.\u001b[39;00m\u001b[39msaving\u001b[39;00m\u001b[39m.\u001b[39;00m\u001b[39mlegacy\u001b[39;00m\u001b[39m.\u001b[39;00m\u001b[39msaved_model\u001b[39;00m \u001b[39mimport\u001b[39;00m save \u001b[39mas\u001b[39;00m saved_model_save\n\u001b[0;32m     26\u001b[0m \u001b[39mfrom\u001b[39;00m \u001b[39mkeras\u001b[39;00m\u001b[39m.\u001b[39;00m\u001b[39mutils\u001b[39;00m \u001b[39mimport\u001b[39;00m traceback_utils\n",
      "File \u001b[1;32mc:\\Users\\calga\\AppData\\Local\\Programs\\Python\\Python310\\lib\\site-packages\\keras\\saving\\legacy\\saved_model\\load_context.py:68\u001b[0m\n\u001b[0;32m     64\u001b[0m     \u001b[39m\"\"\"Returns whether under a load context.\"\"\"\u001b[39;00m\n\u001b[0;32m     65\u001b[0m     \u001b[39mreturn\u001b[39;00m _load_context\u001b[39m.\u001b[39min_load_context()\n\u001b[1;32m---> 68\u001b[0m tf\u001b[39m.\u001b[39;49m__internal__\u001b[39m.\u001b[39;49mregister_load_context_function(in_load_context)\n",
      "\u001b[1;31mAttributeError\u001b[0m: module 'tensorflow._api.v2.compat.v2.__internal__' has no attribute 'register_load_context_function'"
     ]
    }
   ],
   "source": [
    "# api problem\n",
    "'''here is the problem\n",
    "2023-05-17 18:24:38.251539: I tensorflow/core/platform/cpu_feature_guard.cc:193] This TensorFlow binary is optimized with oneAPI Deep Neural Network Library (oneDNN) to use the following CPU instructions in performance-critical operations:  SSE4.1 SSE4.2 AVX AVX2 FMA\n",
    "To enable them in other operations, rebuild TensorFlow with the appropriate compiler flags.\n",
    "'''\n",
    "try:\n",
    "    import spacy\n",
    "    nlp = spacy.load('en_core_web_sm')\n",
    "except:\n",
    "    !pip install spacy --user\n",
    "    !python -m spacy download en_core_web_sm\n",
    "    import spacy\n",
    "    nlp = spacy.load('en_core_web_sm')\n",
    "from IPython.display import clear_output\n",
    "clear_output()\n",
    "\n",
    "def find_nouns(text):\n",
    "    nouns = []\n",
    "    try:\n",
    "        for token in nlp(text):\n",
    "            if token.pos_ == 'NOUN':\n",
    "                nouns.append(token.lemma_)\n",
    "    except:\n",
    "        pass\n",
    "    return nouns"
   ]
  },
  {
   "attachments": {},
   "cell_type": "markdown",
   "id": "f19f2b43",
   "metadata": {},
   "source": [
    "## What Every Party Said"
   ]
  },
  {
   "attachments": {},
   "cell_type": "markdown",
   "id": "5e6dfcda",
   "metadata": {},
   "source": [
    "Using our function defined earlier, let's look at the top 25 nouns spoken by each party in Parliament. You can also alter the variable `n` below to look at the top `n` nouns spoken by a party. "
   ]
  },
  {
   "cell_type": "code",
   "execution_count": null,
   "id": "13834d51",
   "metadata": {},
   "outputs": [],
   "source": [
    "# Alter this variable n if you'd like to see other top 'n' values \n",
    "# For example, changing '25' for '30' would give you the top 30 nouns spoken by a party\n",
    "n = 25"
   ]
  },
  {
   "cell_type": "code",
   "execution_count": null,
   "id": "6824f17d",
   "metadata": {},
   "outputs": [],
   "source": [
    "party = 'Liberal'\n",
    "pos = 'NOUN'\n",
    "\n",
    "exclude_words = ['government', 'member', 'people', 'time', 'year', 'legislation', 'bill', 'madam']\n",
    "\n",
    "word_list = []\n",
    "index = dataFrame[dataFrame[\"Party\"]==party].index.values\n",
    "cell_values = ''\n",
    "for item in index:\n",
    "    cell_values = cell_values + dataFrame.iloc[item][\"Said\"]\n",
    "for words in cell_values.split(' '):\n",
    "    for word in find_nouns(words):\n",
    "        if word not in exclude_words:\n",
    "            word_list.append(word)\n",
    "common_words = pd.DataFrame.from_dict(Counter(word_list), orient='index').sort_values(0, ascending=False).head(n)\n",
    "title = 'Top '+str(n)+' '+pos.lower()+'s'+' spoken by the '+party+' Party'\n",
    "lib_fig = px.bar(common_words, title=title, labels={'index':pos.capitalize(), 'value':'Count'}).update_layout(showlegend=False)\n",
    "lib_fig.update_traces(marker_color='red')"
   ]
  },
  {
   "cell_type": "code",
   "execution_count": null,
   "id": "7bb2ee23",
   "metadata": {},
   "outputs": [],
   "source": [
    "party = 'Conservative'\n",
    "pos = 'NOUN'\n",
    "\n",
    "exclude_words = ['government', 'member', 'people', 'time', 'year', 'legislation', 'bill', 'madam']\n",
    "\n",
    "word_list = []\n",
    "index = dataFrame[dataFrame[\"Party\"]==party].index.values\n",
    "cell_values = ''\n",
    "for item in index:\n",
    "    cell_values = cell_values + dataFrame.iloc[item][\"Said\"]\n",
    "for words in cell_values.split(' '):\n",
    "    for word in find_nouns(words):\n",
    "        if word not in exclude_words:\n",
    "            word_list.append(word)\n",
    "common_words = pd.DataFrame.from_dict(Counter(word_list), orient='index').sort_values(0, ascending=False).head(n)\n",
    "title = 'Top '+str(n)+' '+pos.lower()+'s'+' spoken by the '+party+' Party'\n",
    "con_fig = px.bar(common_words, title=title, labels={'index':pos.capitalize(), 'value':'Count'}).update_layout(showlegend=False)\n",
    "con_fig.update_traces(marker_color='blue')"
   ]
  },
  {
   "cell_type": "code",
   "execution_count": null,
   "id": "b7256494",
   "metadata": {},
   "outputs": [],
   "source": [
    "party = 'NDP'\n",
    "pos = 'NOUN'\n",
    "\n",
    "exclude_words = ['government', 'member', 'people', 'time', 'year', 'legislation', 'bill', 'madam']\n",
    "\n",
    "word_list = []\n",
    "index = dataFrame[dataFrame[\"Party\"]==party].index.values\n",
    "cell_values = ''\n",
    "for item in index:\n",
    "    cell_values = cell_values + dataFrame.iloc[item][\"Said\"]\n",
    "for words in cell_values.split(' '):\n",
    "    for word in find_nouns(words):\n",
    "        if word not in exclude_words:\n",
    "            word_list.append(word)\n",
    "common_words = pd.DataFrame.from_dict(Counter(word_list), orient='index').sort_values(0, ascending=False).head(n)\n",
    "title = 'Top '+str(n)+' '+pos.lower()+'s'+' spoken by the '+party+' Party'\n",
    "ndp_fig = px.bar(common_words, title=title, labels={'index':pos.capitalize(), 'value':'Count'}).update_layout(showlegend=False)\n",
    "ndp_fig.update_traces(marker_color='orange')"
   ]
  },
  {
   "cell_type": "code",
   "execution_count": null,
   "id": "884c675d",
   "metadata": {},
   "outputs": [],
   "source": [
    "party = 'Bloc'\n",
    "pos = 'NOUN'\n",
    "\n",
    "exclude_words = ['government', 'member', 'people', 'time', 'year', 'legislation', 'bill', 'madam']\n",
    "\n",
    "word_list = []\n",
    "index = dataFrame[dataFrame[\"Party\"]==party].index.values\n",
    "cell_values = ''\n",
    "for item in index:\n",
    "    cell_values = cell_values + dataFrame.iloc[item][\"Said\"]\n",
    "for words in cell_values.split(' '):\n",
    "    for word in find_nouns(words):\n",
    "        if word not in exclude_words:\n",
    "            word_list.append(word)\n",
    "common_words = pd.DataFrame.from_dict(Counter(word_list), orient='index').sort_values(0, ascending=False).head(n)\n",
    "title = 'Top '+str(n)+' '+pos.lower()+'s'+' spoken by the '+party+' Party'\n",
    "bloc_fig = px.bar(common_words, title=title, labels={'index':pos.capitalize(), 'value':'Count'}).update_layout(showlegend=False)\n",
    "bloc_fig.update_traces(marker_color='lightblue')"
   ]
  },
  {
   "cell_type": "code",
   "execution_count": null,
   "id": "59e259ea",
   "metadata": {},
   "outputs": [],
   "source": [
    "party = 'Green'\n",
    "pos = 'NOUN'\n",
    "\n",
    "exclude_words = ['government', 'member', 'people', 'time', 'year', 'legislation', 'bill', 'madam']\n",
    "\n",
    "word_list = []\n",
    "index = dataFrame[dataFrame[\"Party\"]==party].index.values\n",
    "cell_values = ''\n",
    "for item in index:\n",
    "    cell_values = cell_values + dataFrame.iloc[item][\"Said\"]\n",
    "for words in cell_values.split(' '):\n",
    "    for word in find_nouns(words):\n",
    "        if word not in exclude_words:\n",
    "            word_list.append(word)\n",
    "common_words = pd.DataFrame.from_dict(Counter(word_list), orient='index').sort_values(0, ascending=False).head(n)\n",
    "title = 'Top '+str(n)+' '+pos.lower()+'s'+' spoken by the '+party+' Party'\n",
    "grn_fig = px.bar(common_words, title=title, labels={'index':pos.capitalize(), 'value':'Count'}).update_layout(showlegend=False)\n",
    "grn_fig.update_traces(marker_color='green')"
   ]
  },
  {
   "attachments": {},
   "cell_type": "markdown",
   "id": "21eb8dec",
   "metadata": {},
   "source": [
    "## What Your Representitive Said"
   ]
  },
  {
   "attachments": {},
   "cell_type": "markdown",
   "id": "208cd298",
   "metadata": {},
   "source": [
    "What can also look at the `Name` column in our dataframe to see what nouns are common in our members of Parliament."
   ]
  },
  {
   "cell_type": "code",
   "execution_count": null,
   "id": "23e2bb6d",
   "metadata": {},
   "outputs": [],
   "source": [
    "# Change the value of speaker in order to find different common nouns\n",
    "# For example, instead of 'Clifford Small', you can input 'Jenny Kwan'\n",
    "speaker = 'Clifford Small'\n",
    "\n",
    "pos = 'NOUN'\n",
    "# Alter this variable n if you'd like to see other top 'n' values \n",
    "# For example, changing '25' for '30' would give you the top 30 nouns spoken by an speaker\n",
    "n = 25\n",
    "exclude_words = ['government', 'member', 'people', 'time', 'year', 'legislation', 'bill', 'madam']\n",
    "\n",
    "word_list = []\n",
    "index = dataFrame[dataFrame[\"Name\"]==speaker].index.values\n",
    "cell_value = ''\n",
    "for item in index:\n",
    "    cell_value = cell_value + dataFrame.iloc[item][\"Said\"]\n",
    "for words in cell_value.split(\" \"):\n",
    "    for word in find_nouns(words):\n",
    "        if word not in exclude_words:\n",
    "            word_list.append(word)\n",
    "common_words = pd.DataFrame.from_dict(Counter(word_list), orient='index').sort_values(0, ascending=False).head(n)\n",
    "title = 'Top '+str(n)+' '+speaker+' '+pos.lower()+'s'\n",
    "px.bar(common_words, title=title, labels={'index': 'Word', 'value': 'Count'}).update_layout(showlegend=False, height=300).show()"
   ]
  },
  {
   "attachments": {},
   "cell_type": "markdown",
   "id": "812c0192",
   "metadata": {},
   "source": [
    "## By Area"
   ]
  },
  {
   "attachments": {},
   "cell_type": "markdown",
   "id": "7dc88550",
   "metadata": {},
   "source": [
    "Lastly, we can also find the common nouns of representatives in certain `provinces`, `cities`, or `ridings`."
   ]
  },
  {
   "cell_type": "code",
   "execution_count": null,
   "id": "6e46c44b",
   "metadata": {},
   "outputs": [],
   "source": [
    "# area can be city, riding, or province; it is just looking for a sub-string in the Affiliation cell\n",
    "# For example, instead of 'AB', you can insert 'Edmonton'\n",
    "area = 'AB'\n",
    "pos = 'NOUN'\n",
    "n = 25\n",
    "exclude_words = ['government', 'member', 'people', 'time', 'year', 'legislation', 'bill', 'madam']\n",
    "\n",
    "word_list = []\n",
    "cell_values = ''\n",
    "for item in range(len(dataFrame.index)):\n",
    "    if area in dataFrame.iloc[item][\"Affiliation\"]:\n",
    "        cell_values = cell_values + dataFrame.iloc[item][\"Said\"]\n",
    "    else:\n",
    "        continue\n",
    "for words in cell_values.split(' '):\n",
    "    for word in find_nouns(words):\n",
    "        if word not in exclude_words:\n",
    "            word_list.append(word)\n",
    "common_words = pd.DataFrame.from_dict(Counter(word_list), orient='index').sort_values(0, ascending=False).head(n)\n",
    "title = 'Top '+str(n)+' '+pos.lower()+'s'+' spoken by the representitives for '+area\n",
    "px.bar(common_words, title=title, labels={'index':pos.capitalize(), 'value':'Count'}).update_layout(showlegend=False)"
   ]
  },
  {
   "attachments": {},
   "cell_type": "markdown",
   "id": "f3eccb70",
   "metadata": {},
   "source": [
    "### Questions:\n",
    "\n",
    "1. What are the benefits and limitations of web scraping as a method to collect data from online sources, such as the debates in the Canadian Parliament?\n",
    "2. How can the analysis of debates and identification of common nouns be used to compare and contrast the priorities of different political parties over time?\n",
    "3. Can the analysis of common nouns in the debates help us understand the language and rhetoric used by political parties and its impact on public discourse?\n",
    "4. What are the potential biases or limitations in analyzing debates and identifying common nouns, and how can they be addressed to ensure the accuracy and reliability of the findings?"
   ]
  },
  {
   "attachments": {},
   "cell_type": "markdown",
   "id": "29c80828",
   "metadata": {},
   "source": [
    "# Conclusion\n",
    "\n",
    "The Canadian government provides transcripts of debates in the House of Commons, called the [Hansard](https://en.wikipedia.org/wiki/Hansard). In this notebook we imported the Hansard data from 2020 and identified the frequencies of some [parts of speech](https://universaldependencies.org/docs/u/pos) using [natural language processing]([spaCy](https://spacy.io)). We also found which parties spoke the most relative to their seats alongside how often certain members of Parliament spoke. \n",
    "\n",
    "We also used the Hansard to find out which topics each party prioritized and experimented if you were able to identify parties based on the top 10 topics they spoke about. \n",
    "\n",
    "Lastly, using [openparliament.ca](https:https://openparliament.ca/), we identified trends of bill voting, specifically how certain members/parties of Parliament voted on certain bills alongside trends on which bills passed or failed. \n",
    "\n",
    "Perhaps you can try extension activities such as investigating predictions on which bills pass or fail in Parliament, identifying the most common [named entities](https://www.geeksforgeeks.org/python-named-entity-recognition-ner-using-spacy), or creating [word clouds](https://github.com/callysto/curriculum-notebooks/blob/master/EnglishLanguageArts/WordClouds/word-clouds.ipynb)"
   ]
  },
  {
   "attachments": {},
   "cell_type": "markdown",
   "id": "d6428782",
   "metadata": {},
   "source": [
    "[![Callysto.ca License](https://github.com/callysto/curriculum-notebooks/blob/master/callysto-notebook-banner-bottom.jpg?raw=true)](https://github.com/callysto/curriculum-notebooks/blob/master/LICENSE.md)"
   ]
  }
 ],
 "metadata": {
  "kernelspec": {
   "display_name": "Python 3 (ipykernel)",
   "language": "python",
   "name": "python3"
  },
  "language_info": {
   "codemirror_mode": {
    "name": "ipython",
    "version": 3
   },
   "file_extension": ".py",
   "mimetype": "text/x-python",
   "name": "python",
   "nbconvert_exporter": "python",
   "pygments_lexer": "ipython3",
   "version": "3.10.8"
  }
 },
 "nbformat": 4,
 "nbformat_minor": 5
}
