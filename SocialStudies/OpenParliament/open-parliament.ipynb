{
 "cells": [
  {
   "attachments": {},
   "cell_type": "markdown",
   "id": "2b49707a",
   "metadata": {},
   "source": [
    "![Callysto.ca Banner](https://github.com/callysto/curriculum-notebooks/blob/master/callysto-notebook-banner-top.jpg?raw=true)\n",
    "\n",
    "<a href=\"https://hub.callysto.ca/jupyter/hub/user-redirect/git-pull?repo=https%3A%2F%2Fgithub.com%2Fcallysto%2Fcurriculum-notebooks&branch=master&urlpath=notebooks/curriculum-notebooks/SocialStudies/OpenParliament/open-parliament.ipynb&depth=1\" target=\"_parent\"><img src=\"https://raw.githubusercontent.com/callysto/curriculum-notebooks/master/open-in-callysto-button.svg?sanitize=true\" width=\"123\" height=\"24\" alt=\"Open in Callysto\"></a>"
   ]
  },
  {
   "attachments": {},
   "cell_type": "markdown",
   "id": "9952767c",
   "metadata": {},
   "source": [
    "# Open Parliament\n",
    "\n",
    "The [Hansard](https://en.wikipedia.org/wiki/Hansard) is a transcript of debates in the Canadian Parliament. It is available from the official [Parliament of Canada website](https://www.parl.ca) as well as other sources such as [Open Parliament](https://openparliament.ca) and [LiPaD: The Linked Parliamentary Data Project](https://www.lipad.ca).\n",
    "\n",
    "Later on during this notebook, we'll be also be using information from [openparliament.ca](https://openparliament.ca/) which sources modern data in regard to government-related information.\n",
    "\n",
    "We have downloaded the 2019 files from LiPaD, and can load them by selecting the following code cell and clicking the `▶Run` button."
   ]
  },
  {
   "cell_type": "code",
   "execution_count": null,
   "id": "3e9bb5cc",
   "metadata": {},
   "outputs": [],
   "source": [
    "import pandas as pd\n",
    "import plotly.express as px\n",
    "import numpy as np\n",
    "import requests\n",
    "from collections import Counter\n",
    "import re\n",
    "import json\n",
    "try:  # attempt to import BeautifulSoup\n",
    "    import bs4\n",
    "    from bs4 import BeautifulSoup\n",
    "except:\n",
    "    %pip install --user bs4\n",
    "    import bs4\n",
    "    from bs4 import BeautifulSoup\n",
    "try:\n",
    "    import spacy\n",
    "    nlp = spacy.load('en_core_web_sm')\n",
    "except:\n",
    "    !pip install spacy --user\n",
    "    !python -m spacy download en_core_web_sm\n",
    "    import spacy\n",
    "    nlp = spacy.load('en_core_web_sm')\n",
    "#import warnings\n",
    "#warnings.simplefilter(action='ignore', category=FutureWarning)\n",
    "\n",
    "hansard = pd.read_csv('https://raw.githubusercontent.com/callysto/data-files/main/SocialStudies/HansardAnalysis/proceedings2020.csv')\n",
    "print(f'There are {hansard.shape[0]} rows and {hansard.shape[1]} columns of data:')\n",
    "hansard.columns"
   ]
  },
  {
   "attachments": {},
   "cell_type": "markdown",
   "id": "2a8ec490",
   "metadata": {},
   "source": [
    "###  Topics of Importance\n",
    "Let's begin by taking a look at specific topics spoke in Parliament through the [Hansard](https://en.wikipedia.org/wiki/Hansard) and then compare current-day topics using data from [Open Parliament](https://openparliament.ca/)."
   ]
  },
  {
   "cell_type": "code",
   "execution_count": null,
   "id": "e843d156",
   "metadata": {},
   "outputs": [],
   "source": [
    "hansard_topics = pd.DataFrame(hansard.groupby('subtopic')['subtopic'].aggregate('count').reset_index(name='count'))\n",
    "hansard_topics = hansard_topics.sort_values(by=['count']).reset_index()\n",
    "display(hansard_topics)"
   ]
  },
  {
   "attachments": {},
   "cell_type": "markdown",
   "id": "9230ded1",
   "metadata": {},
   "source": [
    "We can take a look at what the top 10 *most spoken* topics, alongside the top 10 *least spoken* topics at Parliament."
   ]
  },
  {
   "cell_type": "code",
   "execution_count": null,
   "id": "b223c236",
   "metadata": {},
   "outputs": [],
   "source": [
    "top_10_fig = px.bar(hansard_topics.tail(10), title=\"Top 10 Topics spoken in Parliament\", y=\"subtopic\", x=\"count\", labels={'subtopic': \"Topic\"}, orientation='h', color='count')\n",
    "top_10_fig.update_layout(showlegend=False).update_layout(yaxis_title=None).show()\n",
    "\n",
    "bot_10_fig = px.bar(hansard_topics.head(10), title=\"Bottom 10 Topics spoken in Parliament\", y=\"subtopic\", x=\"count\", labels={'subtopic': \"Topic\"}, orientation='h')\n",
    "bot_10_fig.update_layout(showlegend=False).update_layout(yaxis_title=None).show()"
   ]
  },
  {
   "attachments": {},
   "cell_type": "markdown",
   "id": "086d4fbe",
   "metadata": {},
   "source": [
    "Looking at both bar charts, are certain topics *not* being addressed as much? Vice-versa, are certain topics you think are being addressed too often?\n",
    "\n",
    "We can also look at which *members of Parliament* speak on topics that you find *important*. In the cell below, input different `subtopic` names in the cell below and see which members of Parliament talk about your particular topic!"
   ]
  },
  {
   "cell_type": "code",
   "execution_count": null,
   "id": "108379d3",
   "metadata": {},
   "outputs": [],
   "source": [
    "list_of_topics = hansard_topics['subtopic'].unique()\n",
    "print(list_of_topics)"
   ]
  },
  {
   "attachments": {},
   "cell_type": "markdown",
   "id": "c64b498b",
   "metadata": {},
   "source": [
    "The cell above holds all the subtopics spoken in Parliament. The various subtopics can be inputted in the `topic` variable in the code cell below.\n",
    "\n",
    "You can change the topic to anything you're interested in. For example, instead of `topic = 'Health'` you can input `topic = 'Petitions'`"
   ]
  },
  {
   "cell_type": "code",
   "execution_count": null,
   "id": "f333ef4e",
   "metadata": {},
   "outputs": [],
   "source": [
    "topic = 'Health'\n",
    "\n",
    "members_by_topic = pd.DataFrame(hansard.loc[hansard['subtopic'] == topic]) \n",
    "members_by_topic = members_by_topic.drop_duplicates(subset=['speakername']) \n",
    "members_by_topic = members_by_topic.drop(columns=['basepk', 'hid', 'speechdate', 'pid', 'opid', 'speakerposition', 'subsubtopic', 'speechtext', 'speechtext', 'speakeroldname', 'speakerurl', 'speakerriding']).reset_index(drop=True) \n",
    "if members_by_topic.empty:\n",
    "    print('No matches. Did you make sure to capitalize and space correctly?')\n",
    "else:\n",
    "    display(members_by_topic)"
   ]
  },
  {
   "attachments": {},
   "cell_type": "markdown",
   "id": "158e31bd",
   "metadata": {},
   "source": [
    "<div class=\"alert alert-block alert-info\">\n",
    "<b>Optional:</b> The below code cell randomly replaces the name of each party in the dataframe with a letter, allowing you to guess the party based on their topic 10 most spoken topics! Another cell after the plots reveals which party is which letter.\n",
    "\n",
    "If you want to use the party name in the plots you can comment out the code in the cell below (place a <tt>#</tt> at the beginning of each line) or not run it.\n",
    "</div>"
   ]
  },
  {
   "cell_type": "code",
   "execution_count": null,
   "id": "db54d8e3",
   "metadata": {},
   "outputs": [],
   "source": [
    "import random \n",
    "letters = ['Party A', 'Party B', 'Party C', 'Party D', 'Party E', 'Party F']\n",
    "parties = hansard['speakerparty'].dropna().unique().tolist()\n",
    "random.shuffle(letters)\n",
    "random.shuffle(parties)\n",
    "\n",
    "mapping = {}\n",
    "for key in parties:\n",
    "    for value in letters:\n",
    "        mapping[key] = value\n",
    "        letters.remove(value)\n",
    "        break\n",
    "        \n",
    "hansard['speakerparty'] = hansard['speakerparty'].replace(mapping)\n",
    "hansard['speakerparty'].unique()"
   ]
  },
  {
   "attachments": {},
   "cell_type": "markdown",
   "id": "9ac35f60",
   "metadata": {},
   "source": [
    "We can investigate this concept by looking at each party's most important topics using the `speakerparty` column."
   ]
  },
  {
   "cell_type": "code",
   "execution_count": null,
   "id": "0aac0837",
   "metadata": {},
   "outputs": [],
   "source": [
    "colors = ['red', 'orange', 'green', 'blue', 'lightblue', 'lightseagreen']\n",
    "for index, party in enumerate(hansard['speakerparty'].dropna().unique()):\n",
    "    party_topics = pd.DataFrame(hansard.groupby(['subtopic', 'speakerparty'])['subtopic'].aggregate('count').reset_index(name='count'))\n",
    "    party_topics = party_topics.sort_values(by=['count'])\n",
    "    party_topics = party_topics[party_topics['speakerparty'] == party]\n",
    "    fig = px.bar(party_topics.tail(10), title=f\"{party}'s Top 10 Topics\", y='subtopic', x='count', orientation='h')\n",
    "    fig.update_traces(marker_color=colors[index]).update_layout(yaxis_title=None, showlegend=False, height=500).show()"
   ]
  },
  {
   "attachments": {},
   "cell_type": "markdown",
   "id": "4180efd5",
   "metadata": {},
   "source": [
    "Uncomment the code line in the cell below (remove the `#`) to reveal the party names:"
   ]
  },
  {
   "cell_type": "code",
   "execution_count": null,
   "id": "a10dbcdd",
   "metadata": {},
   "outputs": [],
   "source": [
    "#mapping"
   ]
  },
  {
   "attachments": {},
   "cell_type": "markdown",
   "id": "0aa33429",
   "metadata": {},
   "source": [
    "Now that we've uncovered information based on the Hansard, let's utilize Open Parliament's API (**Application Programming Interface**) to obtain information on current-day debate topics. With this, we can compare topics that were spoken about in 2019 to current topics.\n",
    "\n",
    "We have data on the past current debate topics spoken in Parliament, let's keep just the English portions and visualize the most and least common topics."
   ]
  },
  {
   "cell_type": "code",
   "execution_count": null,
   "id": "1bda3aa0",
   "metadata": {},
   "outputs": [],
   "source": [
    "debate_info = requests.get('http://api.openparliament.ca/debates/?limit=10&format=json')\n",
    "data = debate_info.json()\n",
    "debate_df = pd.DataFrame(data['objects'])\n",
    "\n",
    "speech_urls = []\n",
    "for value in debate_df['url'].values:\n",
    "    speech_urls.append(requests.get(f'http://api.openparliament.ca{value}?format=json').json()['related']['speeches_url'])\n",
    "combined_topics = pd.DataFrame()\n",
    "for i, url in enumerate(speech_urls):\n",
    "    topics = requests.get(f'http://api.openparliament.ca{url}&format=json&limit=100')\n",
    "    topics_df = pd.DataFrame(topics.json()['objects'])\n",
    "    extracted_col = topics_df['h2']\n",
    "    extracted_df = pd.DataFrame({f'Col{i}': extracted_col})\n",
    "    combined_topics = pd.concat([combined_topics, extracted_df], axis=1)\n",
    "def extract_translation(value):\n",
    "    if isinstance(value, dict):\n",
    "        return value.get('en', '').strip('{}')\n",
    "    else:\n",
    "        return ''\n",
    "combined_topics = combined_topics.map(extract_translation)\n",
    "flatten_series = combined_topics.stack()\n",
    "value_counts = flatten_series.value_counts().reset_index()\n",
    "value_counts.columns = ['Value', 'Count']\n",
    "\n",
    "common_topics = value_counts.query('Count > 10')\n",
    "px.pie(common_topics, values='Count', names='Value', title=\"Common Topics\").update_traces(textposition='inside').show()\n",
    "uncommon_topics = value_counts.query('Count < 5')\n",
    "px.pie(uncommon_topics, values='Count', names='Value', title='Uncommon Topics').update_traces(textposition='inside').show()"
   ]
  },
  {
   "attachments": {},
   "cell_type": "markdown",
   "id": "f2ba21f9",
   "metadata": {},
   "source": [
    "### Questions:\n",
    "\n",
    "1. Which topics stand out between the different parties of Parliament?\n",
    "2. What is the significance of studying and analyzing the topics discussed by members of Parliament in Canadian politics?\n",
    "3. How might the frequency of discussions on specific topics reflect the priorities or concerns of the government and the society?\n",
    "4. What challenges might arise when analyzing and interpreting data on the topics discussed in Parliament?"
   ]
  },
  {
   "attachments": {},
   "cell_type": "markdown",
   "id": "47981834",
   "metadata": {},
   "source": [
    "### Investigating Canadian Parliament's API\n",
    "\n",
    "An API, which stands for **Application Programming Interface**, is like a bridge that allows different software applications to communicate and interact with each other. \n",
    "\n",
    "Imagine you're at a restaurant. The _menu_ acts as an API because it provides an simplfied way for you to interact with the kitchen. Instead of going into the kitchen directly and asking the chef how to cook your dish, you simply order off the menu. The kitchen staff then uses the instructions provided on the menu to prepare and serve your menu. \n",
    "\n",
    "Earlier in the notebook, we used [Open Parliament's](https://openparliament.ca) API in order to obtain information on current-day topics spoken during debates.\n",
    "\n",
    "Let's obtain information from _openparliament_ by making a request to a specific web address. "
   ]
  },
  {
   "cell_type": "code",
   "execution_count": null,
   "id": "ecf0d31d",
   "metadata": {},
   "outputs": [],
   "source": [
    "r = requests.get('http://api.openparliament.ca/votes/?format=json&limit=100')\n",
    "df = pd.DataFrame(r.json()['objects'])\n",
    "df"
   ]
  },
  {
   "attachments": {},
   "cell_type": "markdown",
   "id": "999c892c",
   "metadata": {},
   "source": [
    "Here we have information of the past 100 bills that have been in circulation in Parliament. However, some of the data we obtained isn't in the correct format we want it in. We want our dataframe to be _clean_ in order to use it in an effective manner. Data cleaning refers to the process of identifying and/or correcting errors, inconsistencies, and inaccuracies in a dataframe. This could in the form of removing missing values, standardizing formats, and dealing with any inconsistencies.\n",
    "\n",
    "In our first step of data cleaning, let's separate the `description` column to two different columns, `english_desc` and `french_desc`."
   ]
  },
  {
   "cell_type": "code",
   "execution_count": null,
   "id": "af5149f8",
   "metadata": {},
   "outputs": [],
   "source": [
    "df['english_desc'] = df['description'].apply(lambda x: x['en'])\n",
    "df['french_desc'] = df['description'].apply(lambda x: x['fr'])\n",
    "df = df.drop(columns=['description'])\n",
    "df"
   ]
  },
  {
   "attachments": {},
   "cell_type": "markdown",
   "id": "da662c82",
   "metadata": {},
   "source": [
    "Next, let's remove any bills that don't have an `url` or a *None* as a value for their `url`."
   ]
  },
  {
   "cell_type": "code",
   "execution_count": null,
   "id": "239683dc",
   "metadata": {},
   "outputs": [],
   "source": [
    "pd.set_option(\"display.max_rows\", None)\n",
    "temp_fig = df.dropna().reset_index(drop=True)\n",
    "bill_names = [re.search(f\"/bills/{session_name}/(.*)/\", bill_url).group(1)\n",
    "              for bill_url, session_name in zip(temp_fig['bill_url'], temp_fig['session'])]\n",
    "temp_fig['bill_name'] = bill_names\n",
    "temp_fig"
   ]
  },
  {
   "attachments": {},
   "cell_type": "markdown",
   "id": "3d190b17",
   "metadata": {},
   "source": [
    "Perfect! Now we have *clean* data in the correct format.\n",
    "\n",
    "We can find the total percentage of bills in Parliament that have either **passed** or **failed** alongside the individual bills.  "
   ]
  },
  {
   "cell_type": "code",
   "execution_count": null,
   "id": "35477245",
   "metadata": {},
   "outputs": [],
   "source": [
    "px.pie(temp_fig['result'].value_counts().reset_index(), values='count', names='result', title='Percentage of Bills that have Passed or Failed').show()\n",
    "px.bar(temp_fig, x='bill_name', y='number', color='result', hover_data=['yea_total', 'nay_total'],  height=400, title='Bills')"
   ]
  },
  {
   "attachments": {},
   "cell_type": "markdown",
   "id": "812a4431",
   "metadata": {},
   "source": [
    "Looking at the figures above, is the percentage of bills that pass/fail surprising? Think about the government that has the majority of seats and the bills that are frequently being passed. Is there a correlation between these factors?\n",
    "\n",
    "Let's take a deeper look at bills that have passed/failed multiple times. This is usually the result of bills having multiple readings or being at different stages, thus being altered at each step.\n",
    "\n",
    "You can change the `name_of_bill` variable to look at a different bill, for example `name_of_bill = 'C-11'`"
   ]
  },
  {
   "cell_type": "code",
   "execution_count": null,
   "id": "f406accf",
   "metadata": {},
   "outputs": [],
   "source": [
    "name_of_bill = 'C-21'\n",
    "\n",
    "party_names = ['Green Party of Canada', \"Liberal Party of Canada\", \"Bloc Québécoi\", \"New Democratic Party\", \"Conservative Party of Canada\"]\n",
    "df_with_bill = temp_fig.loc[temp_fig['bill_name'] == name_of_bill]\n",
    "if len(df_with_bill) == 0:\n",
    "    print(\"No results, use the plots above to find a bill to investigate.\")\n",
    "for index, row in df_with_bill.iterrows():\n",
    "    r = requests.get(f\"http://api.openparliament.ca{row['url']}?format=json\")\n",
    "    data = r.json()\n",
    "    vote_info = pd.DataFrame(data['party_votes'])\n",
    "    vote_info.drop(columns=['party'])\n",
    "    vote_info['party'] = party_names\n",
    "    voter_percentage = vote_info['vote'].value_counts(normalize=True)\n",
    "    vote_info = vote_info.style.set_caption(row['english_desc'])\n",
    "    display(vote_info)\n",
    "    print(\"Percentage of parties who voted yes/no:\\n\", voter_percentage.to_string(),'\\n')"
   ]
  },
  {
   "attachments": {},
   "cell_type": "markdown",
   "id": "15d4d69e",
   "metadata": {},
   "source": [
    "Looking again at all the bills, we can take a deeper dive at the different bills voted in Parliament. Specifically, we can look at how different members in Parliament voted."
   ]
  },
  {
   "cell_type": "code",
   "execution_count": null,
   "id": "26969523",
   "metadata": {},
   "outputs": [],
   "source": [
    "temp_fig[['url', 'english_desc']]"
   ]
  },
  {
   "attachments": {},
   "cell_type": "markdown",
   "id": "89ea7489",
   "metadata": {},
   "source": [
    "Listed above are a list of `urls` of bills and their corresponding descriptions. You can use this list of `urls` to find a particular bill to explore in the cell below.\n",
    "\n",
    "Change `bill_to_explore` to take a look at the different bills members of Parliament voted on.\n",
    "\n",
    "For example, `bill_to_explore = '/votes/44-1/279/'`"
   ]
  },
  {
   "cell_type": "code",
   "execution_count": null,
   "id": "855c4338",
   "metadata": {},
   "outputs": [],
   "source": [
    "bill_to_explore = '/votes/44-1/333/'\n",
    "\n",
    "r = requests.get(f\"http://api.openparliament.ca/votes/ballots/?format=json&vote={bill_to_explore}\")\n",
    "data = r.json()\n",
    "politician_vote_info = pd.DataFrame(data['objects'])\n",
    "\n",
    "politician_urls = politician_vote_info['politician_url']\n",
    "membership_urls = [f\"http://api.openparliament.ca{url}?format=json\" for url in politician_urls]\n",
    "\n",
    "responses = [requests.get(url) for url in membership_urls]\n",
    "data = [response.json() for response in responses]\n",
    "parties = [d['memberships'][0]['party']['name']['en'] for d in data]\n",
    "provinces = [d['memberships'][0]['riding']['province'] for d in data]\n",
    "politician_vote_info['party'] = np.array(parties)\n",
    "politician_vote_info['province_info'] = np.array(provinces)\n",
    "politician_vote_info['name'] = politician_vote_info['politician_url'].str.extract(\"/politicians/(.*)/\", expand=False)\n",
    "politician_vote_info"
   ]
  },
  {
   "attachments": {},
   "cell_type": "markdown",
   "id": "75dfa696",
   "metadata": {},
   "source": [
    "Looking at the description of the `url` for */votes/44-1/333/*, it states:\n",
    "> 3rd reading and adoption of Bill C-21, An Act to amend certain Acts and to make certain consequential amendments (firearms)\n",
    "\n",
    "Now we can look more in depth on why potential members of Parliament chose to vote the way they did on this particular bill.\n",
    "\n",
    "We can also look at how parties voted on certain bills by combining members of Parliament who share the same party."
   ]
  },
  {
   "cell_type": "code",
   "execution_count": null,
   "id": "7ed2bdb9",
   "metadata": {},
   "outputs": [],
   "source": [
    "party_counts = politician_vote_info.groupby(['party', 'ballot'])['name'].agg('count').reset_index()\n",
    "party_counts.rename(columns={\"name\": \"count\"}, inplace=True)\n",
    "px.bar(party_counts, x='party', y='count', color='ballot', title='Ballot votes of each Party')"
   ]
  },
  {
   "attachments": {},
   "cell_type": "markdown",
   "id": "cf41e149",
   "metadata": {},
   "source": [
    "### Questions:\n",
    "\n",
    "1. What factors do you think influence how political parties decide to vote on specific bills?\n",
    "2. How can data science techniques be used to analyze and predict how certain parties may vote on a particular bill?\n",
    "3. Why is it important for political parties to have a consistent voting pattern on bills in Parliament?\n",
    "4. In what ways can the study of party voting patterns help citizens understand the political landscape and hold their representatives accountable?"
   ]
  },
  {
   "attachments": {},
   "cell_type": "markdown",
   "id": "4eaf1803",
   "metadata": {},
   "source": [
    "---\n",
    "\n",
    "### Web Scraping\n",
    "\n",
    "To get the Hansard Data we will be scraping from the website https://openparliament.ca (we previously used openparliament's API). To do this, we use the requests module to get the HTML for a web page. To understand the markup, we will be using [Beautiful Soup](https://beautiful-soup-4.readthedocs.io/en/latest/).\n",
    "\n",
    "The cell below will look for certain elements on the page and collects it such as the name of the speaker, their political party, their affiliation, and what they said during the debate.\n",
    "\n",
    "If you want to chnage the date of the debate, change `'2023/03/31'` to another valid date in the format YYYY/MM/DD"
   ]
  },
  {
   "cell_type": "code",
   "execution_count": null,
   "id": "12791fce",
   "metadata": {},
   "outputs": [],
   "source": [
    "dateOfDebate = ('2023/03/31/')\n",
    "\n",
    "page = requests.get('https://openparliament.ca/debates/' + dateOfDebate + '?singlepage=1').text  #?singlepage=1' gets all of the speakers\n",
    "data = BeautifulSoup(page, 'html.parser')\n",
    "debateDict = {'Name': [],\n",
    "              'Party' : [],\n",
    "              'Affiliation' : [],\n",
    "              'Said' : []\n",
    "             }\n",
    "for i in data.findAll(\"div\", class_=\"row statement_browser statement\"):\n",
    "    try:  # getting the name of the speaker\n",
    "        name = i.find('span', class_='pol_name').text\n",
    "        name = str(name)\n",
    "    except AttributeError:\n",
    "        continue\n",
    "    try:  # if they have spoken already, we do not find their party or affiliation\n",
    "        index = debateDict['Name'].index(name)\n",
    "        indexFound = True\n",
    "    except ValueError:\n",
    "        indexFound = False\n",
    "        try:  # finding the affiliation\n",
    "            affiliation = i.find('span', class_=\"pol_affil\").text\n",
    "            affiliation = str(affiliation)\n",
    "            affiliation = affiliation.replace(\"\t\t\t\t\t\t\", \"\")\n",
    "        except AttributeError:\n",
    "            affiliation = 'N/A'\n",
    "        try:  # For speakers without party tags\n",
    "            party = i.find('p', class_='partytag').text\n",
    "            party = str(party)\n",
    "        except AttributeError:\n",
    "            party = 'N/A'\n",
    "    said = i.find('div', class_='text').text\n",
    "    if indexFound:\n",
    "        debateDict[\"Said\"][index] = debateDict[\"Said\"][index] + said\n",
    "    else:\n",
    "        debateDict['Name'].append(name)\n",
    "        debateDict['Party'].append(party)\n",
    "        debateDict['Affiliation'].append(affiliation)\n",
    "        debateDict['Said'].append(said)\n",
    "\n",
    "if debateDict == {'Name': [], 'Party': [], 'Affiliation': [], 'Said': []}:\n",
    "    print(\"Error: Please input a valid date for the variable dateOfDebate.\")\n",
    "else:\n",
    "    dataFrame = pd.DataFrame.from_dict(debateDict)\n",
    "    dataFrame['Party'].replace('\\n', '', regex=True, inplace=True)\n",
    "    dataFrame['Affiliation'].replace('\\n', '', regex=True, inplace=True)\n",
    "    display(dataFrame)"
   ]
  },
  {
   "attachments": {},
   "cell_type": "markdown",
   "id": "f19f2b43",
   "metadata": {},
   "source": [
    "## What Each Party Said\n",
    "\n",
    "Let's look at the top 25 nouns spoken by each party in Parliament.\n",
    "\n",
    "You can also alter the variable `n` below to look at the top `n` nouns spoken by a party. "
   ]
  },
  {
   "cell_type": "code",
   "execution_count": null,
   "id": "13834d51",
   "metadata": {},
   "outputs": [],
   "source": [
    "n = 25\n",
    "\n",
    "def find_nouns(text):\n",
    "    nouns = []\n",
    "    try:\n",
    "        for token in nlp(text):\n",
    "            if token.pos_ == 'NOUN':\n",
    "                nouns.append(token.lemma_)\n",
    "    except:\n",
    "        pass\n",
    "    return nouns\n",
    "\n",
    "parties = {'Liberal':'red', 'Conservative':'blue', 'NDP':'orange', 'Bloc':'lightblue', 'Green':'green'}\n",
    "for party, color in parties.items():\n",
    "    pos = 'NOUN'\n",
    "    exclude_words = ['government', 'member', 'people', 'time', 'year', 'legislation', 'bill', 'madam']\n",
    "    word_list = []\n",
    "    index = dataFrame[dataFrame[\"Party\"]==party].index.values\n",
    "    cell_values = ''\n",
    "    for item in index:\n",
    "        cell_values = cell_values + dataFrame.iloc[item][\"Said\"]\n",
    "    for words in cell_values.split(' '):\n",
    "        for word in find_nouns(words):\n",
    "            if word not in exclude_words:\n",
    "                word_list.append(word)\n",
    "    common_words = pd.DataFrame.from_dict(Counter(word_list), orient='index').sort_values(0, ascending=False).head(n)\n",
    "    title = 'Top '+str(n)+' '+pos.lower()+'s'+' spoken by the '+party+' Party'\n",
    "    fig = px.bar(common_words, title=title, labels={'index':pos.capitalize(), 'value':'Count'}).update_layout(showlegend=False)\n",
    "    fig.update_traces(marker_color=color).show()"
   ]
  },
  {
   "attachments": {},
   "cell_type": "markdown",
   "id": "21eb8dec",
   "metadata": {},
   "source": [
    "## What Your Representative Said\n",
    "\n",
    "What can also look at the `Name` column in our dataframe to see what nouns are common in our members of Parliament.\n",
    "\n",
    "You can change the name of the speaker, for example `speaker = 'Jenny Kwan'` , or the part of speech, e.g. `pos = 'VERB'`"
   ]
  },
  {
   "cell_type": "code",
   "execution_count": null,
   "id": "23e2bb6d",
   "metadata": {},
   "outputs": [],
   "source": [
    "speaker = 'Clifford Small'\n",
    "n = 25\n",
    "pos = 'NOUN'\n",
    "\n",
    "exclude_words = ['government', 'member', 'people', 'time', 'year', 'legislation', 'bill', 'madam']\n",
    "word_list = []\n",
    "index = dataFrame[dataFrame[\"Name\"]==speaker].index.values\n",
    "cell_value = ''\n",
    "for item in index:\n",
    "    cell_value = cell_value + dataFrame.iloc[item][\"Said\"]\n",
    "for words in cell_value.split(\" \"):\n",
    "    for word in find_nouns(words):\n",
    "        if word not in exclude_words:\n",
    "            word_list.append(word)\n",
    "common_words = pd.DataFrame.from_dict(Counter(word_list), orient='index').sort_values(0, ascending=False).head(n)\n",
    "title = speaker+\"'s \"+'Top '+str(n)+' '+pos.title()+'s'\n",
    "px.bar(common_words, title=title, labels={'index': 'Word', 'value': 'Count'}).update_layout(showlegend=False, height=300)"
   ]
  },
  {
   "attachments": {},
   "cell_type": "markdown",
   "id": "812c0192",
   "metadata": {},
   "source": [
    "## By Area\n",
    "\n",
    "Lastly, we can also find the common nouns of representatives in certain `provinces`, `cities`, or `ridings`.\n",
    "\n",
    "You can change the `area = ` to any city, riding, or province. For example, `area = 'Edmonton'`"
   ]
  },
  {
   "cell_type": "code",
   "execution_count": null,
   "id": "6e46c44b",
   "metadata": {},
   "outputs": [],
   "source": [
    "area = 'AB'\n",
    "n = 25\n",
    "pos = 'NOUN'\n",
    "\n",
    "exclude_words = ['government', 'member', 'people', 'time', 'year', 'legislation', 'bill', 'madam']\n",
    "word_list = []\n",
    "cell_values = ''\n",
    "for item in range(len(dataFrame.index)):\n",
    "    if area in dataFrame.iloc[item][\"Affiliation\"]:\n",
    "        cell_values = cell_values + dataFrame.iloc[item][\"Said\"]\n",
    "    else:\n",
    "        continue\n",
    "for words in cell_values.split(' '):\n",
    "    for word in find_nouns(words):\n",
    "        if word not in exclude_words:\n",
    "            word_list.append(word)\n",
    "common_words = pd.DataFrame.from_dict(Counter(word_list), orient='index').sort_values(0, ascending=False).head(n)\n",
    "title = 'Top '+str(n)+' '+pos+'s'+' spoken by the representitives for '+area\n",
    "px.bar(common_words, title=title.title(), labels={'index':pos.capitalize(), 'value':'Count'}).update_layout(showlegend=False)"
   ]
  },
  {
   "attachments": {},
   "cell_type": "markdown",
   "id": "f3eccb70",
   "metadata": {},
   "source": [
    "### Questions:\n",
    "\n",
    "1. What are the benefits and limitations of web scraping as a method to collect data from online sources, such as the debates in the Canadian Parliament?\n",
    "2. How can the analysis of debates and identification of common nouns be used to compare and contrast the priorities of different political parties over time?\n",
    "3. Can the analysis of common nouns in the debates help us understand the language and rhetoric used by political parties and its impact on public discourse?\n",
    "4. What are the potential biases or limitations in analyzing debates and identifying common nouns, and how can they be addressed to ensure the accuracy and reliability of the findings?"
   ]
  },
  {
   "attachments": {},
   "cell_type": "markdown",
   "id": "29c80828",
   "metadata": {},
   "source": [
    "# Conclusion\n",
    "\n",
    "The Canadian government provides transcripts of debates in the House of Commons, called the [Hansard](https://en.wikipedia.org/wiki/Hansard). In this notebook we imported the Hansard data from 2020 and identified the frequencies of some [parts of speech](https://universaldependencies.org/docs/u/pos) using [natural language processing]([spaCy](https://spacy.io)). We also found which parties spoke the most relative to their seats alongside how often certain members of Parliament spoke. \n",
    "\n",
    "We also used the Hansard to find out which topics each party prioritized and experimented if you were able to identify parties based on the top 10 topics they spoke about. \n",
    "\n",
    "Lastly, using [openparliament.ca](https:https://openparliament.ca/), we identified trends of bill voting, specifically how certain members/parties of Parliament voted on certain bills alongside trends on which bills passed or failed. \n",
    "\n",
    "Perhaps you can try extension activities such as investigating predictions on which bills pass or fail in Parliament, identifying the most common [named entities](https://www.geeksforgeeks.org/python-named-entity-recognition-ner-using-spacy), or creating [word clouds](https://github.com/callysto/curriculum-notebooks/blob/master/EnglishLanguageArts/WordClouds/word-clouds.ipynb)"
   ]
  },
  {
   "attachments": {},
   "cell_type": "markdown",
   "id": "d6428782",
   "metadata": {},
   "source": [
    "[![Callysto.ca License](https://github.com/callysto/curriculum-notebooks/blob/master/callysto-notebook-banner-bottom.jpg?raw=true)](https://github.com/callysto/curriculum-notebooks/blob/master/LICENSE.md)"
   ]
  }
 ],
 "metadata": {
  "kernelspec": {
   "display_name": "Python 3 (ipykernel)",
   "language": "python",
   "name": "python3"
  },
  "language_info": {
   "codemirror_mode": {
    "name": "ipython",
    "version": 3
   },
   "file_extension": ".py",
   "mimetype": "text/x-python",
   "name": "python",
   "nbconvert_exporter": "python",
   "pygments_lexer": "ipython3",
   "version": "3.10.12"
  }
 },
 "nbformat": 4,
 "nbformat_minor": 5
}
