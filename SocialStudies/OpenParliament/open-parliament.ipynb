{
 "cells": [
  {
   "attachments": {},
   "cell_type": "markdown",
   "id": "2b49707a",
   "metadata": {},
   "source": [
    "![Callysto.ca Banner](https://github.com/callysto/curriculum-notebooks/blob/master/callysto-notebook-banner-top.jpg?raw=true)\n",
    "\n",
    "<a href=\"https://hub.callysto.ca/jupyter/hub/user-redirect/git-pull?repo=https%3A%2F%2Fgithub.com%2Fcallysto%2Fcurriculum-notebooks&branch=master&subPath=SocialStudies/HansardAnalysis/hansard-analysis.ipynb&depth=1\" target=\"_parent\"><img src=\"https://raw.githubusercontent.com/callysto/curriculum-notebooks/master/open-in-callysto-button.svg?sanitize=true\" width=\"123\" height=\"24\" alt=\"Open in Callysto\"/></a>"
   ]
  },
  {
   "attachments": {},
   "cell_type": "markdown",
   "id": "9952767c",
   "metadata": {},
   "source": [
    "# Open Parliament\n",
    "\n",
    "The [Hansard](https://en.wikipedia.org/wiki/Hansard) is a transcript of debates in the Canadian Parliament. It is available from the official [Parliament of Canada website](https://www.parl.ca) as well as other sources such as [Open Parliament](https://openparliament.ca) and [LiPaD: The Linked Parliamentary Data Project](https://www.lipad.ca).\n",
    "\n",
    "Later on during this notebook, we'll be also be using information from [openparliament.ca](https://openparliament.ca/) which sources modern data in regard to government-related information.\n",
    "\n",
    "We have downloaded the 2020 files from LiPaD, and can load them by selecting the following code cell and clicking the `▶Run` button."
   ]
  },
  {
   "cell_type": "code",
   "execution_count": null,
   "id": "3e9bb5cc",
   "metadata": {},
   "outputs": [],
   "source": [
    "# Python libraries\n",
    "\n",
    "from collections import Counter\n",
    "import re\n",
    "import plotly.express as px\n",
    "import pandas as pd\n",
    "import json\n",
    "import re\n",
    "import numpy as np\n",
    "\n",
    "# attempt to import requests\n",
    "# installing requests - if Jupyter Notebook does not have the package\n",
    "\n",
    "try:\n",
    "    import requests\n",
    "except:\n",
    "    %pip conda requests\n",
    "    import requests\n",
    "    \n",
    "# attempt to import BeautifulSoup\n",
    "# installing BeautifulSoup - if Jupyter Notebook does not have the package\n",
    "    \n",
    "try:\n",
    "    import bs4\n",
    "    from bs4 import BeautifulSoup\n",
    "except:\n",
    "    %pip conda bs4\n",
    "    import bs4\n",
    "    from bs4 import BeautifulSoup\n",
    "\n",
    "import pandas as pd\n",
    "import plotly.express as px\n",
    "\n",
    "try:\n",
    "    from wordcloud import WordCloud\n",
    "except:\n",
    "    %pip install wordcloud\n",
    "    from wordcloud import WordCloud\n",
    "    \n",
    "hansard = pd.read_csv('https://raw.githubusercontent.com/callysto/data-files/main/SocialStudies/HansardAnalysis/proceedings2020.csv')\n",
    "print(f'There are {hansard.shape[0]} rows and {hansard.shape[1]} columns of data:')\n",
    "hansard.columns"
   ]
  },
  {
   "attachments": {},
   "cell_type": "markdown",
   "id": "10295b0a",
   "metadata": {},
   "source": [
    "## Who Spoke?\n",
    "\n",
    "Let's have a look at who spoke during these debates."
   ]
  },
  {
   "cell_type": "code",
   "execution_count": null,
   "id": "89a9ccb8",
   "metadata": {},
   "outputs": [],
   "source": [
    "speakers = hansard.drop_duplicates(subset=['speakername'])[['speakername','speakerparty','speakerriding','speakerurl']]\n",
    "speakers = speakers.dropna().reset_index().drop(columns=['index'])\n",
    "print('There were',speakers.shape[0],'speakers from the',speakers['speakerparty'].unique(),'parties.')"
   ]
  },
  {
   "attachments": {},
   "cell_type": "markdown",
   "id": "3de3d6e5",
   "metadata": {},
   "source": [
    "We can compare that to the list of Members of Parliament from the [43rd Parliament](https://en.wikipedia.org/wiki/43rd_Canadian_Parliament) that started on December 5, 2019."
   ]
  },
  {
   "cell_type": "code",
   "execution_count": null,
   "id": "c895d14d",
   "metadata": {},
   "outputs": [],
   "source": [
    "members = pd.read_csv('https://www.ourcommons.ca/members/en/search/csv?parliament=43')\n",
    "print('There were',members.shape[0],'Members from the',members['Political Affiliation'].unique(),'parties.')"
   ]
  },
  {
   "attachments": {},
   "cell_type": "markdown",
   "id": "dfe870b4",
   "metadata": {},
   "source": [
    "So of the 338 Members of Parliament we had 312 unique speakers, meaning that 26 Members are not recorded as speaking during 2020. Let's see if we can identify who are they were."
   ]
  },
  {
   "cell_type": "code",
   "execution_count": null,
   "id": "30e18a00",
   "metadata": {},
   "outputs": [],
   "source": [
    "members['Name'] = members['First Name'] +' '+ members['Last Name']\n",
    "silent = []\n",
    "for member in members['Name']:\n",
    "    if member not in speakers['speakername'].values:\n",
    "        silent.append(member)\n",
    "print('That is',len(silent),'Members not recorded as speaking in 2020:')\n",
    "print(silent)"
   ]
  },
  {
   "attachments": {},
   "cell_type": "markdown",
   "id": "8a16961f",
   "metadata": {},
   "source": [
    "Of course 36 is not equal to 26, but we will leave it to you to compare the list `silent` to the list from `speakers['speakername'].unique()` if you are interested."
   ]
  },
  {
   "attachments": {},
   "cell_type": "markdown",
   "id": "776781f0",
   "metadata": {},
   "source": [
    "## Who Spoke Most?\n",
    "\n",
    "We can check how many times each speaker is recorded in the Hansard."
   ]
  },
  {
   "cell_type": "code",
   "execution_count": null,
   "id": "8856c29f",
   "metadata": {},
   "outputs": [],
   "source": [
    "hansard_speakers = pd.DataFrame(hansard['speakername'].value_counts())\n",
    "hansard_speakers"
   ]
  },
  {
   "attachments": {},
   "cell_type": "markdown",
   "id": "3e445be0",
   "metadata": {},
   "source": [
    "Let's also calculate the length (number of characters) of each of those speeches, and sort them by who said the most."
   ]
  },
  {
   "cell_type": "code",
   "execution_count": null,
   "id": "9a502497",
   "metadata": {},
   "outputs": [],
   "source": [
    "hansard['speechlength'] = hansard['speechtext'].str.len()\n",
    "hansard.groupby('speakername').sum(numeric_only=True).sort_values('speechlength', ascending=False)"
   ]
  },
  {
   "attachments": {},
   "cell_type": "markdown",
   "id": "b70cef2f",
   "metadata": {},
   "source": [
    "We can also visualize the number of times *any* MP spoke with a histogram:"
   ]
  },
  {
   "cell_type": "code",
   "execution_count": null,
   "id": "2fd8562d",
   "metadata": {},
   "outputs": [],
   "source": [
    "px.histogram(hansard_speakers, title='Histogram of Number of Speeches by Member', labels={'value':'Number of times speaking'}).update(layout_showlegend=False)"
   ]
  },
  {
   "attachments": {},
   "cell_type": "markdown",
   "id": "69131ed3",
   "metadata": {},
   "source": [
    "### Thinking Proportionally\n",
    "Now, the above plots are useful in finding out which parties spoke the most, but it would be pretty reasonable to expect the parties with the most members to have the longest or most frequent speeches. In the next step, we'll look at the composition of the 43rd Parliament, and normalize the above two plots to the number of members each party has in Parliament:"
   ]
  },
  {
   "cell_type": "code",
   "execution_count": null,
   "id": "78a2c41a",
   "metadata": {},
   "outputs": [],
   "source": [
    "seats = pd.DataFrame(list(zip(['Liberal', 'Conservative', 'New Democratic Party', 'Bloc Québécois', 'Green Party', 'Independent'],[157, 121, 32, 24, 3, 1])), columns=['Party', 'Seats']).set_index('Party')\n",
    "px.bar(seats, x=seats.index, y='Seats', title='Number of Seats in 43rd Parliament, by Party', color= seats.index, color_discrete_map={'Liberal': 'red', 'Conservative': 'blue', 'New Democratic Party': 'orange', \"Bloc Québécois\": 'lightblue', 'Green Party': 'green', 'Independent': 'lightseagreen'}).update(layout_showlegend=False)"
   ]
  },
  {
   "cell_type": "code",
   "execution_count": null,
   "id": "ced22f91",
   "metadata": {},
   "outputs": [],
   "source": [
    "freq_norm = hansard['speakerparty'].value_counts().div(seats['Seats'], axis=0)\n",
    "freq_norm = pd.DataFrame({'party':freq_norm.index, 'frequency':freq_norm.values})\n",
    "px.bar(freq_norm, x='party', y='frequency', title='Hansard Speaker Frequency by Party (Normalized by Number of Seats)', color='party', color_discrete_map={'Liberal': 'red', 'Conservative': 'blue', 'New Democratic Party': 'orange', \"Bloc Québécois\": 'lightblue', 'Green Party': 'green', 'Independent': 'lightseagreen'}).update(layout_showlegend=False)"
   ]
  },
  {
   "attachments": {},
   "cell_type": "markdown",
   "id": "7a953543",
   "metadata": {},
   "source": [
    "### Questions:\n",
    "\n",
    "1. Can you think of any reasons why certain people in Parliament might speak more than others?\n",
    "2. How might the number of times someone speaks in Parliament relate to their influence or effectiveness as a representative?\n",
    "3. Why do you think certain parties speak more than others? Vice-versa, why do you think certain parties speak less than others?\n",
    "4. What ethical considerations should be taken into account when analyzing and interpreting data on parliamentary speeches?"
   ]
  },
  {
   "attachments": {},
   "cell_type": "markdown",
   "id": "2a8ec490",
   "metadata": {},
   "source": [
    "###  Topics of Importance\n",
    "We can also look at specific topics that are being addressed the most and vice versa, alongside a particular member of Parliament's topic."
   ]
  },
  {
   "cell_type": "code",
   "execution_count": null,
   "id": "e843d156",
   "metadata": {},
   "outputs": [],
   "source": [
    "hansard_topics = pd.DataFrame(hansard.groupby('subtopic')['subtopic'].aggregate('count').reset_index(name='count'))\n",
    "hansard_topics = hansard_topics.sort_values(by=['count']).reset_index()\n",
    "display(hansard_topics)"
   ]
  },
  {
   "attachments": {},
   "cell_type": "markdown",
   "id": "9230ded1",
   "metadata": {},
   "source": [
    "We can take a look at what the top 10 *most spoken* topics, alongside the top 10 *least spoken* topics at Parliament."
   ]
  },
  {
   "cell_type": "code",
   "execution_count": null,
   "id": "b223c236",
   "metadata": {},
   "outputs": [],
   "source": [
    "top_10_fig = px.bar(hansard_topics.tail(10), title=\"Top 10 Topics spoken in Parliament\", y=\"subtopic\", x=\"count\", labels={'subtopic': \"Topic\"}, orientation='h', color='count')\n",
    "top_10_fig.update_layout(showlegend=False).update_layout(yaxis_title=None).show()\n",
    "\n",
    "bot_10_fig = px.bar(hansard_topics.head(10), title=\"Bottom 10 Topics spoken in Parliament\", y=\"subtopic\", x=\"count\", labels={'subtopic': \"Topic\"}, orientation='h')\n",
    "bot_10_fig.update_layout(showlegend=False).update_layout(yaxis_title=None).show()"
   ]
  },
  {
   "attachments": {},
   "cell_type": "markdown",
   "id": "086d4fbe",
   "metadata": {},
   "source": [
    "Looking at both bar charts, are certain topics *not* being addressed as much? Vice-versa, are certain topics you think are being addressed too often?"
   ]
  },
  {
   "attachments": {},
   "cell_type": "markdown",
   "id": "80513df8",
   "metadata": {},
   "source": [
    "We can also look at which *members of Parliament* speak on topics that you find *important*. In the cell below, input different `subtopic` names in the cell below and see which members of Parliament talk about your particular topic!"
   ]
  },
  {
   "cell_type": "code",
   "execution_count": null,
   "id": "108379d3",
   "metadata": {},
   "outputs": [],
   "source": [
    "list_of_topics = hansard_topics['subtopic'].unique()\n",
    "print(list_of_topics)"
   ]
  },
  {
   "attachments": {},
   "cell_type": "markdown",
   "id": "c64b498b",
   "metadata": {},
   "source": [
    "The cell above holds all the subtopics spoken in Parliament. The various subtopics can be inputted in the `usr_input` variable in the code cell below."
   ]
  },
  {
   "cell_type": "code",
   "execution_count": null,
   "id": "f333ef4e",
   "metadata": {},
   "outputs": [],
   "source": [
    "topic = 'Health'\n",
    "\n",
    "members_by_topic = pd.DataFrame(hansard.loc[hansard['subtopic'] == topic]) \n",
    "members_by_topic = members_by_topic.drop_duplicates(subset=['speakername']) \n",
    "members_by_topic = members_by_topic.drop(columns=['basepk', 'hid', 'speechdate', 'pid', 'opid', 'speakerposition', 'subsubtopic', 'speechtext', 'speechtext', 'speakeroldname', 'speakerurl', 'speakerriding']).reset_index(drop=True) \n",
    "if members_by_topic.empty:\n",
    "    print('No matches. Did you make sure to capitalize and space correctly?')\n",
    "else:\n",
    "    display(members_by_topic)"
   ]
  },
  {
   "attachments": {},
   "cell_type": "markdown",
   "id": "158e31bd",
   "metadata": {},
   "source": [
    "<div class=\"alert alert-block alert-info\">\n",
    "<b>Optional:</b> The below code cell randomly replaces the name of each party in the dataframe with a letter, allowing you to guess the party based on their topic 10 most spoken topics! Another cell after the plots reveals which party is which letter, but if you want to use the party name in the plots you can comment out (place a <tt>#</tt> at the beginning of each line) the below cell.\n",
    "</div>"
   ]
  },
  {
   "cell_type": "code",
   "execution_count": null,
   "id": "db54d8e3",
   "metadata": {},
   "outputs": [],
   "source": [
    "# Obscure party names\n",
    "# Note, if you don't want to randomize the parties, add a # on each of the lines below. A quick short-cut to do this is to select everything below and press (Ctrl + /)\n",
    "\n",
    "import random \n",
    "letters = ['Party A', 'Party B', 'Party C', 'Party D', 'Party E', 'Party F']\n",
    "parties = hansard['speakerparty'].dropna().unique().tolist()\n",
    "random.shuffle(letters)\n",
    "random.shuffle(parties)\n",
    "\n",
    "mapping = {}\n",
    "for key in parties:\n",
    "    for value in letters:\n",
    "        mapping[key] = value\n",
    "        letters.remove(value)\n",
    "        break\n",
    "        \n",
    "hansard['speakerparty'] = hansard['speakerparty'].replace(mapping)"
   ]
  },
  {
   "attachments": {},
   "cell_type": "markdown",
   "id": "9ac35f60",
   "metadata": {},
   "source": [
    "We can investigate this concept by looking at each party's most important topics using the `speakerparty` column."
   ]
  },
  {
   "cell_type": "code",
   "execution_count": null,
   "id": "0aac0837",
   "metadata": {},
   "outputs": [],
   "source": [
    "colors = ['red', 'orange', 'green', 'blue', 'lightblue', 'lightseagreen']\n",
    "for index, party in enumerate(hansard['speakerparty'].dropna().unique()):\n",
    "    party_topics = pd.DataFrame(hansard.groupby(['subtopic', 'speakerparty'])['subtopic'].aggregate('count').reset_index(name='count'))\n",
    "    party_topics = party_topics.sort_values(by=['count'])\n",
    "    party_topics = party_topics[party_topics['speakerparty'] == party]\n",
    "    fig = px.bar(party_topics.tail(10), title=f\"{party}'s Top 10 Topics\", y='subtopic', x='count', orientation='h')\n",
    "    fig.update_traces(marker_color=colors[index]).update_layout(yaxis_title=None, showlegend=False, height=500).show()\n"
   ]
  },
  {
   "attachments": {},
   "cell_type": "markdown",
   "id": "4180efd5",
   "metadata": {},
   "source": [
    "Uncomment the below cell (remove the `#`) to reveal the party names:"
   ]
  },
  {
   "cell_type": "code",
   "execution_count": null,
   "id": "a10dbcdd",
   "metadata": {},
   "outputs": [],
   "source": [
    "# mapping"
   ]
  },
  {
   "attachments": {},
   "cell_type": "markdown",
   "id": "f2ba21f9",
   "metadata": {},
   "source": [
    "### Questions:\n",
    "\n",
    "1. Which topics stand out between the different parties of Parliament?\n",
    "2. What is the significance of studying and analyzing the topics discussed by members of Parliament in Canadian politics?\n",
    "3. How might the frequency of discussions on specific topics reflect the priorities or concerns of the government and the society?\n",
    "4. What challenges might arise when analyzing and interpreting data on the topics discussed in Parliament?"
   ]
  },
  {
   "attachments": {},
   "cell_type": "markdown",
   "id": "47981834",
   "metadata": {},
   "source": [
    "### Investigating Canadian Parliament's 'Eh'-Pi"
   ]
  },
  {
   "attachments": {},
   "cell_type": "markdown",
   "id": "e752cc74",
   "metadata": {},
   "source": [
    "An API, which stands for **Application Programming Interface**, is like a bridge that allows different software applications to communicate and interact with each other. \n",
    "\n",
    "Imagine you're at a restaurant. The _menu_ acts as an API because it provides an simplfied way for you to interact with the kitchen. Instead of going into the kitchen directly and asking the chef how to cook your dish, you simply order off the menu. The kitchen staff then uses the instructions provided on the menu to prepare and serve your menu."
   ]
  },
  {
   "attachments": {},
   "cell_type": "markdown",
   "id": "b1d0cc13",
   "metadata": {},
   "source": [
    "The API we'll be using is from [openparliament.ca](https://openparliament.ca)"
   ]
  },
  {
   "attachments": {},
   "cell_type": "markdown",
   "id": "9119cd45",
   "metadata": {},
   "source": [
    "Let's obtain information from _openparliament_ by making a request to a specific web address. "
   ]
  },
  {
   "cell_type": "code",
   "execution_count": null,
   "id": "ecf0d31d",
   "metadata": {},
   "outputs": [],
   "source": [
    "r = requests.get('http://api.openparliament.ca/votes/?format=json&limit=100')\n",
    "data = r.json()\n",
    "\n",
    "df = pd.DataFrame(data['objects'])\n",
    "display(df)"
   ]
  },
  {
   "attachments": {},
   "cell_type": "markdown",
   "id": "999c892c",
   "metadata": {},
   "source": [
    "Here we have information of the past 100 bills that have been in circulation in Parliament. However, some of the data we obtained isn't in the correct format we want it in. We want our dataframe to be _clean_ in order to use it in an effective manner. Data cleaning refers to the process of identifying and/or correcting errors, inconsistencies, and inaccuracies in a dataframe. This could in the form of removing missing values, standardizing formats, and dealing with any inconsistencies.\n",
    "\n",
    "In our first step of data cleaning, let's separate the `description` column to two different columns, `english_desc` and `french_desc`."
   ]
  },
  {
   "cell_type": "code",
   "execution_count": null,
   "id": "af5149f8",
   "metadata": {},
   "outputs": [],
   "source": [
    "df['english_desc'] = df['description'].apply(lambda x: x['en'])\n",
    "df['french_desc'] = df['description'].apply(lambda x: x['fr'])\n",
    "df = df.drop(columns=['description'])\n",
    "display(df)"
   ]
  },
  {
   "attachments": {},
   "cell_type": "markdown",
   "id": "da662c82",
   "metadata": {},
   "source": [
    "Next, let's remove any bills that don't have an `url` or a *None* as a value for their `url`."
   ]
  },
  {
   "cell_type": "code",
   "execution_count": null,
   "id": "239683dc",
   "metadata": {},
   "outputs": [],
   "source": [
    "temp_fig = df.dropna().reset_index(drop=True)\n",
    "\n",
    "bill_names = [re.search(f\"/bills/{session_name}/(.*)/\", bill_url).group(1)\n",
    "              for bill_url, session_name in zip(temp_fig['bill_url'], temp_fig['session'])]\n",
    "\n",
    "temp_fig['bill_name'] = bill_names\n",
    "display(temp_fig)"
   ]
  },
  {
   "attachments": {},
   "cell_type": "markdown",
   "id": "64b5936d",
   "metadata": {},
   "source": [
    "Perfect! Now we have _clean_ data in the correct format in which we can use it properly. "
   ]
  },
  {
   "attachments": {},
   "cell_type": "markdown",
   "id": "3d190b17",
   "metadata": {},
   "source": [
    "We can find the total percentage of bills in Parliament that have either **passed** or **failed** alongside the individual bills.  "
   ]
  },
  {
   "cell_type": "code",
   "execution_count": null,
   "id": "35477245",
   "metadata": {},
   "outputs": [],
   "source": [
    "res = temp_fig['result'].value_counts().reset_index()\n",
    "total_percentage = px.pie(res, values='result', names='index', title=\"Percentage of Bills that have Passed/Failed\").show()\n",
    "vote_fig = px.bar(temp_fig, x='bill_name', y='number', color='result',hover_data=['yea_total', 'nay_total'],  height=400, title=\"Bills that have Passed/Failed\").show()"
   ]
  },
  {
   "attachments": {},
   "cell_type": "markdown",
   "id": "aa11affa",
   "metadata": {},
   "source": [
    "  Looking at the figures above, is the percentage of bills that pass/fail surprising? Think about the government that has the majority of seats and the bills that are frequently being passed. Is there a correlation between these factors?"
   ]
  },
  {
   "attachments": {},
   "cell_type": "markdown",
   "id": "812a4431",
   "metadata": {},
   "source": [
    "Let's take a deeper look at bills that have passed/failed multiple times. This is usually the result of bills having multiple readings/being at different stages, thus being altered at each step to suit the needs of every party in Parliament."
   ]
  },
  {
   "cell_type": "code",
   "execution_count": null,
   "id": "f406accf",
   "metadata": {},
   "outputs": [],
   "source": [
    "# Change name_of_bill to take a look at the different readings/stages of bills in Parliament\n",
    "# In order to look at different bills, change \"C-21\". For example, you can input \"C-11\" in place of \"C-21\"\n",
    "name_of_bill = \"C-21\" \n",
    "\n",
    "party_names = ['Green Party of Canada', \"Liberal Party of Canada\", \"Bloc Québécoi\", \"New Democratic Party\", \"Conservative Party of Canada\"]\n",
    "df_with_bill = temp_fig.loc[temp_fig['bill_name'] == name_of_bill]\n",
    "\n",
    "if len(df_with_bill) == 0:\n",
    "    print(\"No results, use the plots above to find a bill to investigate.\")\n",
    "\n",
    "for index, row in df_with_bill.iterrows():\n",
    "    r = requests.get(f\"http://api.openparliament.ca{row['url']}?format=json\")\n",
    "    data = r.json()\n",
    "    vote_info = pd.DataFrame(data['party_votes'])\n",
    "    vote_info.drop(columns=['party'])\n",
    "    vote_info['party'] = party_names\n",
    "    \n",
    "    voter_percentage = vote_info['vote'].value_counts(normalize=True)\n",
    "    vote_info = vote_info.style.set_caption(row['english_desc'])\n",
    "    display(vote_info)\n",
    "    print(\"Percentage of parties who voted yes/no:\\n\", voter_percentage.to_string(),'\\n')"
   ]
  },
  {
   "attachments": {},
   "cell_type": "markdown",
   "id": "15d4d69e",
   "metadata": {},
   "source": [
    "We can take a deeper dive and see how different members of Parliament vote on certain bills. "
   ]
  },
  {
   "cell_type": "code",
   "execution_count": null,
   "id": "26969523",
   "metadata": {},
   "outputs": [],
   "source": [
    "pd.set_option('display.max_rows', None)\n",
    "display(temp_fig[['url', 'english_desc']].head(None))"
   ]
  },
  {
   "attachments": {},
   "cell_type": "markdown",
   "id": "89ea7489",
   "metadata": {},
   "source": [
    "Listed above are a list of `urls` of bills and their corresponding descriptions. You can use this list of `urls` to find a particular bill to explore in the cell below."
   ]
  },
  {
   "cell_type": "code",
   "execution_count": null,
   "id": "855c4338",
   "metadata": {},
   "outputs": [],
   "source": [
    "# Change bill_to_explore to take a look at the different bills members of Parliament voted on.\n",
    "# In order to look at different bills, change \"/votes/44-1/333/\". For example, you can input \"/votes/44-1/279/\" in place of \"/votes/44-1/333/\"\n",
    "bill_to_explore = '/votes/44-1/333/'\n",
    "\n",
    "r = requests.get(f\"http://api.openparliament.ca/votes/ballots/?format=json&vote={bill_to_explore}\")\n",
    "data = r.json()\n",
    "politician_vote_info = pd.DataFrame(data['objects'])\n",
    "\n",
    "politician_urls = politician_vote_info['politician_url']\n",
    "membership_urls = [f\"http://api.openparliament.ca{url}?format=json\" for url in politician_urls]\n",
    "\n",
    "responses = [requests.get(url) for url in membership_urls]\n",
    "data = [response.json() for response in responses]\n",
    "\n",
    "parties = [d['memberships'][0]['party']['name']['en'] for d in data]\n",
    "provinces = [d['memberships'][0]['riding']['province'] for d in data]\n",
    "\n",
    "politician_vote_info['party'] = np.array(parties)\n",
    "politician_vote_info['province_info'] = np.array(provinces)\n",
    "\n",
    "politician_vote_info['name'] = politician_vote_info['politician_url'].str.extract(\"/politicians/(.*)/\", expand=False)\n",
    "display(politician_vote_info)\n"
   ]
  },
  {
   "attachments": {},
   "cell_type": "markdown",
   "id": "75dfa696",
   "metadata": {},
   "source": [
    "Looking at the description of the `url` for */votes/44-1/333/*, it states:\n",
    "> 3rd reading and adoption of Bill C-21, An Act to amend certain Acts and to make certain consequential amendments (firearms)\n",
    "> \n",
    "Now we can look more in depth on why potential members of Parliament chose to vote the way they did on this particular bill."
   ]
  },
  {
   "attachments": {},
   "cell_type": "markdown",
   "id": "11afc039",
   "metadata": {},
   "source": [
    "We can also look at how parties voted on certain bills by combining members of Parliament whom share the same party."
   ]
  },
  {
   "cell_type": "code",
   "execution_count": null,
   "id": "7ed2bdb9",
   "metadata": {},
   "outputs": [],
   "source": [
    "party_counts = politician_vote_info.groupby(['party', 'ballot'])['name'].agg('count').reset_index()\n",
    "party_counts.rename(columns={\"name\": \"count\"}, inplace=True)\n",
    "display(party_counts)"
   ]
  },
  {
   "cell_type": "code",
   "execution_count": null,
   "id": "b146d39b",
   "metadata": {},
   "outputs": [],
   "source": [
    "party_fig = px.bar(party_counts, x='party', y='count', color='ballot', title='Ballot votes of each Party').show()"
   ]
  },
  {
   "attachments": {},
   "cell_type": "markdown",
   "id": "cf41e149",
   "metadata": {},
   "source": [
    "### Questions:\n",
    "\n",
    "1. What factors do you think influence how political parties decide to vote on specific bills?\n",
    "2. How can data science techniques be used to analyze and predict how certain parties may vote on a particular bill?\n",
    "3. Why is it important for political parties to have a consistent voting pattern on bills in Parliament?\n",
    "4. In what ways can the study of party voting patterns help citizens understand the political landscape and hold their representatives accountable?"
   ]
  },
  {
   "attachments": {},
   "cell_type": "markdown",
   "id": "4eaf1803",
   "metadata": {},
   "source": [
    "### Making Soup\n",
    "To get the Hansard Data we will be scraping from the website https://openparliament.ca (we previously used openparliament's API). To do this, we use the requests module to send a request. It returns the HTML markup for the web page. To understand the markup, we will be using BS4. This is a module that sorts through the markup and allows us to pull specific data that we need."
   ]
  },
  {
   "cell_type": "code",
   "execution_count": null,
   "id": "12791fce",
   "metadata": {},
   "outputs": [],
   "source": [
    "# You have to hard code in the date of the debate\n",
    "# If you want to chnage the date of the debate, change '2023/03/31' with another valid date using the format YYYY/MM/DD\n",
    "dateOfDebate = ('2023/03/31/')\n",
    "# url is https://openparliament.ca/debates/2023/02/17/?singlepage=1\n",
    "page = requests.get('https://openparliament.ca/debates/' + dateOfDebate + '?singlepage=1').text\n",
    "# data is soup\n",
    "#?singlepage=1' gets all of the speakers\n",
    "data = BeautifulSoup(page, 'html.parser')\n",
    "print(data)"
   ]
  },
  {
   "attachments": {},
   "cell_type": "markdown",
   "id": "2fedefc7",
   "metadata": {},
   "source": [
    "Now let's start scraping! The cell below is extracting information from your inputted webpage about a debate. Specifically, it's looking for certain elements on the page and collects it such as the name of the speaker, their political party, their affiliation, and what they said during the debate. "
   ]
  },
  {
   "cell_type": "code",
   "execution_count": null,
   "id": "79e5af73",
   "metadata": {},
   "outputs": [],
   "source": [
    "# i is item in list\n",
    "# row statement_browser statement - is the block of code that allows me to find the Name; Party and What They Said\n",
    "debateDict = {'Name': [],\n",
    "              'Party' : [],\n",
    "              'Affiliation' : [],\n",
    "              'Said' : []\n",
    "             }\n",
    "for i in data.findAll(\"div\", class_=\"row statement_browser statement\"):\n",
    "    #getting the name of the speaker\n",
    "    try:\n",
    "        name = i.find('span', class_='pol_name').text\n",
    "        name = str(name)\n",
    "    except AttributeError:\n",
    "        continue\n",
    "    \n",
    "    print(name)\n",
    "    #Try is to find if they have spoken already, if they have, we do not find their party or affiliation\n",
    "    try:\n",
    "        index = debateDict['Name'].index(name)\n",
    "        indexFound = True\n",
    "    # If it throws an error, then they are not pre-existing in the dict\n",
    "    except ValueError:\n",
    "        indexFound = False\n",
    "        # Finding the affiliation\n",
    "        try:\n",
    "            affiliation = i.find('span', class_=\"pol_affil\").text\n",
    "            affiliation = str(affiliation)\n",
    "            affiliation = affiliation.replace(\"\t\t\t\t\t\t\", \"\")\n",
    "        except AttributeError:\n",
    "            affiliation = 'N/A'\n",
    "        print(affiliation)\n",
    "        #\n",
    "        # For speakers without party tags\n",
    "        try:\n",
    "            party = i.find('p', class_='partytag').text\n",
    "            party = str(party)\n",
    "\n",
    "        except AttributeError:\n",
    "            party = 'N/A'\n",
    "        print(party)\n",
    "    \n",
    "    said = i.find('div', class_='text').text\n",
    "    print(said)\n",
    "    print('\\n')\n",
    "    \n",
    "    if indexFound:\n",
    "        debateDict[\"Said\"][index] = debateDict[\"Said\"][index] + said\n",
    "    else:\n",
    "        debateDict['Name'].append(name)\n",
    "        debateDict['Party'].append(party)\n",
    "        debateDict['Affiliation'].append(affiliation)\n",
    "        debateDict['Said'].append(said)\n",
    "        \n",
    "print(debateDict)\n",
    "    \n",
    "    #As it grabs each piece of data ( The speaker; the party; the affiliation; and what they said)"
   ]
  },
  {
   "attachments": {},
   "cell_type": "markdown",
   "id": "0f7be726",
   "metadata": {},
   "source": [
    "Let's visualize what we scraped in a *dataframe*. "
   ]
  },
  {
   "cell_type": "code",
   "execution_count": null,
   "id": "d933714e",
   "metadata": {
    "scrolled": true
   },
   "outputs": [],
   "source": [
    "dataFrame = pd.DataFrame.from_dict(debateDict)\n",
    "dataFrame"
   ]
  },
  {
   "attachments": {},
   "cell_type": "markdown",
   "id": "531d11d4",
   "metadata": {},
   "source": [
    "Notice how in some of our columns, there appears to be a '\\n'. In Python, this represents a **newline character**, which essentially represents a line break. Treat it as if you're starting a new paragraph when you see a '\\n'. For our purposes, we're going to remove this newline character for the sake of continuity of our dataframe. "
   ]
  },
  {
   "cell_type": "code",
   "execution_count": null,
   "id": "7f96b2a1",
   "metadata": {},
   "outputs": [],
   "source": [
    "dataFrame['Party'].replace('\\n', '', regex=True, inplace=True)\n",
    "dataFrame['Affiliation'].replace('\\n', '', regex=True, inplace=True)\n",
    "dataFrame"
   ]
  },
  {
   "attachments": {},
   "cell_type": "markdown",
   "id": "35b2ff44",
   "metadata": {},
   "source": [
    "Now let's define a way to find nouns for our dataframe. The easiest way to do this is through the use of a **function**. \n",
    "\n",
    "In Python, a function is a named block of code that performs a specific task or operation. It is like a reusable recipe or set of instructions that you can give to the computer to perform a certain action.\n",
    "\n",
    "Functions are useful because they allow you to organize your code into smaller, manageable pieces. Instead of writing the same code over and over again, you can define a function and reuse it whenever needed by calling it with different inputs. This promotes code reusability, modularity, and makes your code easier to read and maintain."
   ]
  },
  {
   "cell_type": "code",
   "execution_count": null,
   "id": "ff3c5780",
   "metadata": {},
   "outputs": [],
   "source": [
    "# api problem\n",
    "'''here is the problem\n",
    "2023-05-17 18:24:38.251539: I tensorflow/core/platform/cpu_feature_guard.cc:193] This TensorFlow binary is optimized with oneAPI Deep Neural Network Library (oneDNN) to use the following CPU instructions in performance-critical operations:  SSE4.1 SSE4.2 AVX AVX2 FMA\n",
    "To enable them in other operations, rebuild TensorFlow with the appropriate compiler flags.\n",
    "'''\n",
    "try:\n",
    "    import spacy\n",
    "    nlp = spacy.load('en_core_web_sm')\n",
    "except:\n",
    "    !pip install spacy --user\n",
    "    !python -m spacy download en_core_web_sm\n",
    "    import spacy\n",
    "    nlp = spacy.load('en_core_web_sm')\n",
    "from IPython.display import clear_output\n",
    "clear_output()\n",
    "\n",
    "def find_nouns(text):\n",
    "    nouns = []\n",
    "    try:\n",
    "        for token in nlp(text):\n",
    "            if token.pos_ == 'NOUN':\n",
    "                nouns.append(token.lemma_)\n",
    "    except:\n",
    "        pass\n",
    "    return nouns"
   ]
  },
  {
   "attachments": {},
   "cell_type": "markdown",
   "id": "f19f2b43",
   "metadata": {},
   "source": [
    "## What Every Party Said"
   ]
  },
  {
   "attachments": {},
   "cell_type": "markdown",
   "id": "5e6dfcda",
   "metadata": {},
   "source": [
    "Using our function defined earlier, let's look at the top 25 nouns spoken by each party in Parliament. You can also alter the variable `n` below to look at the top `n` nouns spoken by a party. "
   ]
  },
  {
   "cell_type": "code",
   "execution_count": null,
   "id": "13834d51",
   "metadata": {},
   "outputs": [],
   "source": [
    "# Alter this variable n if you'd like to see other top 'n' values \n",
    "# For example, changing '25' for '30' would give you the top 30 nouns spoken by a party\n",
    "n = 25"
   ]
  },
  {
   "cell_type": "code",
   "execution_count": null,
   "id": "6824f17d",
   "metadata": {},
   "outputs": [],
   "source": [
    "party = 'Liberal'\n",
    "pos = 'NOUN'\n",
    "\n",
    "exclude_words = ['government', 'member', 'people', 'time', 'year', 'legislation', 'bill', 'madam']\n",
    "\n",
    "word_list = []\n",
    "index = dataFrame[dataFrame[\"Party\"]==party].index.values\n",
    "cell_values = ''\n",
    "for item in index:\n",
    "    cell_values = cell_values + dataFrame.iloc[item][\"Said\"]\n",
    "for words in cell_values.split(' '):\n",
    "    for word in find_nouns(words):\n",
    "        if word not in exclude_words:\n",
    "            word_list.append(word)\n",
    "common_words = pd.DataFrame.from_dict(Counter(word_list), orient='index').sort_values(0, ascending=False).head(n)\n",
    "title = 'Top '+str(n)+' '+pos.lower()+'s'+' spoken by the '+party+' Party'\n",
    "lib_fig = px.bar(common_words, title=title, labels={'index':pos.capitalize(), 'value':'Count'}).update_layout(showlegend=False)\n",
    "lib_fig.update_traces(marker_color='red')"
   ]
  },
  {
   "cell_type": "code",
   "execution_count": null,
   "id": "7bb2ee23",
   "metadata": {},
   "outputs": [],
   "source": [
    "party = 'Conservative'\n",
    "pos = 'NOUN'\n",
    "\n",
    "exclude_words = ['government', 'member', 'people', 'time', 'year', 'legislation', 'bill', 'madam']\n",
    "\n",
    "word_list = []\n",
    "index = dataFrame[dataFrame[\"Party\"]==party].index.values\n",
    "cell_values = ''\n",
    "for item in index:\n",
    "    cell_values = cell_values + dataFrame.iloc[item][\"Said\"]\n",
    "for words in cell_values.split(' '):\n",
    "    for word in find_nouns(words):\n",
    "        if word not in exclude_words:\n",
    "            word_list.append(word)\n",
    "common_words = pd.DataFrame.from_dict(Counter(word_list), orient='index').sort_values(0, ascending=False).head(n)\n",
    "title = 'Top '+str(n)+' '+pos.lower()+'s'+' spoken by the '+party+' Party'\n",
    "con_fig = px.bar(common_words, title=title, labels={'index':pos.capitalize(), 'value':'Count'}).update_layout(showlegend=False)\n",
    "con_fig.update_traces(marker_color='blue')"
   ]
  },
  {
   "cell_type": "code",
   "execution_count": null,
   "id": "b7256494",
   "metadata": {},
   "outputs": [],
   "source": [
    "party = 'NDP'\n",
    "pos = 'NOUN'\n",
    "\n",
    "exclude_words = ['government', 'member', 'people', 'time', 'year', 'legislation', 'bill', 'madam']\n",
    "\n",
    "word_list = []\n",
    "index = dataFrame[dataFrame[\"Party\"]==party].index.values\n",
    "cell_values = ''\n",
    "for item in index:\n",
    "    cell_values = cell_values + dataFrame.iloc[item][\"Said\"]\n",
    "for words in cell_values.split(' '):\n",
    "    for word in find_nouns(words):\n",
    "        if word not in exclude_words:\n",
    "            word_list.append(word)\n",
    "common_words = pd.DataFrame.from_dict(Counter(word_list), orient='index').sort_values(0, ascending=False).head(n)\n",
    "title = 'Top '+str(n)+' '+pos.lower()+'s'+' spoken by the '+party+' Party'\n",
    "ndp_fig = px.bar(common_words, title=title, labels={'index':pos.capitalize(), 'value':'Count'}).update_layout(showlegend=False)\n",
    "ndp_fig.update_traces(marker_color='orange')"
   ]
  },
  {
   "cell_type": "code",
   "execution_count": null,
   "id": "884c675d",
   "metadata": {},
   "outputs": [],
   "source": [
    "party = 'Bloc'\n",
    "pos = 'NOUN'\n",
    "\n",
    "exclude_words = ['government', 'member', 'people', 'time', 'year', 'legislation', 'bill', 'madam']\n",
    "\n",
    "word_list = []\n",
    "index = dataFrame[dataFrame[\"Party\"]==party].index.values\n",
    "cell_values = ''\n",
    "for item in index:\n",
    "    cell_values = cell_values + dataFrame.iloc[item][\"Said\"]\n",
    "for words in cell_values.split(' '):\n",
    "    for word in find_nouns(words):\n",
    "        if word not in exclude_words:\n",
    "            word_list.append(word)\n",
    "common_words = pd.DataFrame.from_dict(Counter(word_list), orient='index').sort_values(0, ascending=False).head(n)\n",
    "title = 'Top '+str(n)+' '+pos.lower()+'s'+' spoken by the '+party+' Party'\n",
    "bloc_fig = px.bar(common_words, title=title, labels={'index':pos.capitalize(), 'value':'Count'}).update_layout(showlegend=False)\n",
    "bloc_fig.update_traces(marker_color='lightblue')"
   ]
  },
  {
   "cell_type": "code",
   "execution_count": null,
   "id": "59e259ea",
   "metadata": {},
   "outputs": [],
   "source": [
    "party = 'Green'\n",
    "pos = 'NOUN'\n",
    "\n",
    "exclude_words = ['government', 'member', 'people', 'time', 'year', 'legislation', 'bill', 'madam']\n",
    "\n",
    "word_list = []\n",
    "index = dataFrame[dataFrame[\"Party\"]==party].index.values\n",
    "cell_values = ''\n",
    "for item in index:\n",
    "    cell_values = cell_values + dataFrame.iloc[item][\"Said\"]\n",
    "for words in cell_values.split(' '):\n",
    "    for word in find_nouns(words):\n",
    "        if word not in exclude_words:\n",
    "            word_list.append(word)\n",
    "common_words = pd.DataFrame.from_dict(Counter(word_list), orient='index').sort_values(0, ascending=False).head(n)\n",
    "title = 'Top '+str(n)+' '+pos.lower()+'s'+' spoken by the '+party+' Party'\n",
    "grn_fig = px.bar(common_words, title=title, labels={'index':pos.capitalize(), 'value':'Count'}).update_layout(showlegend=False)\n",
    "grn_fig.update_traces(marker_color='green')"
   ]
  },
  {
   "attachments": {},
   "cell_type": "markdown",
   "id": "21eb8dec",
   "metadata": {},
   "source": [
    "## What Your Representitive Said"
   ]
  },
  {
   "attachments": {},
   "cell_type": "markdown",
   "id": "208cd298",
   "metadata": {},
   "source": [
    "What can also look at the `Name` column in our dataframe to see what nouns are common in our members of Parliament."
   ]
  },
  {
   "cell_type": "code",
   "execution_count": null,
   "id": "23e2bb6d",
   "metadata": {},
   "outputs": [],
   "source": [
    "# Change the value of speaker in order to find different common nouns\n",
    "# For example, instead of 'Clifford Small', you can input 'Jenny Kwan'\n",
    "speaker = 'Clifford Small'\n",
    "\n",
    "pos = 'NOUN'\n",
    "# Alter this variable n if you'd like to see other top 'n' values \n",
    "# For example, changing '25' for '30' would give you the top 30 nouns spoken by an speaker\n",
    "n = 25\n",
    "exclude_words = ['government', 'member', 'people', 'time', 'year', 'legislation', 'bill', 'madam']\n",
    "\n",
    "word_list = []\n",
    "index = dataFrame[dataFrame[\"Name\"]==speaker].index.values\n",
    "cell_value = ''\n",
    "for item in index:\n",
    "    cell_value = cell_value + dataFrame.iloc[item][\"Said\"]\n",
    "for words in cell_value.split(\" \"):\n",
    "    for word in find_nouns(words):\n",
    "        if word not in exclude_words:\n",
    "            word_list.append(word)\n",
    "common_words = pd.DataFrame.from_dict(Counter(word_list), orient='index').sort_values(0, ascending=False).head(n)\n",
    "title = 'Top '+str(n)+' '+speaker+' '+pos.lower()+'s'\n",
    "px.bar(common_words, title=title, labels={'index': 'Word', 'value': 'Count'}).update_layout(showlegend=False, height=300).show()"
   ]
  },
  {
   "attachments": {},
   "cell_type": "markdown",
   "id": "812c0192",
   "metadata": {},
   "source": [
    "## By Area"
   ]
  },
  {
   "attachments": {},
   "cell_type": "markdown",
   "id": "7dc88550",
   "metadata": {},
   "source": [
    "Lastly, we can also find the common nouns of representatives in certain `provinces`, `cities`, or `ridings`."
   ]
  },
  {
   "cell_type": "code",
   "execution_count": null,
   "id": "6e46c44b",
   "metadata": {},
   "outputs": [],
   "source": [
    "# area can be city, riding, or province; it is just looking for a sub-string in the Affiliation cell\n",
    "# For example, instead of 'AB', you can insert 'Edmonton'\n",
    "area = 'AB'\n",
    "pos = 'NOUN'\n",
    "n = 25\n",
    "exclude_words = ['government', 'member', 'people', 'time', 'year', 'legislation', 'bill', 'madam']\n",
    "\n",
    "word_list = []\n",
    "cell_values = ''\n",
    "for item in range(len(dataFrame.index)):\n",
    "    if area in dataFrame.iloc[item][\"Affiliation\"]:\n",
    "        cell_values = cell_values + dataFrame.iloc[item][\"Said\"]\n",
    "    else:\n",
    "        continue\n",
    "for words in cell_values.split(' '):\n",
    "    for word in find_nouns(words):\n",
    "        if word not in exclude_words:\n",
    "            word_list.append(word)\n",
    "common_words = pd.DataFrame.from_dict(Counter(word_list), orient='index').sort_values(0, ascending=False).head(n)\n",
    "title = 'Top '+str(n)+' '+pos.lower()+'s'+' spoken by the representitives for '+area\n",
    "px.bar(common_words, title=title, labels={'index':pos.capitalize(), 'value':'Count'}).update_layout(showlegend=False)"
   ]
  },
  {
   "attachments": {},
   "cell_type": "markdown",
   "id": "f3eccb70",
   "metadata": {},
   "source": [
    "### Questions:\n",
    "\n",
    "1. What are the benefits and limitations of web scraping as a method to collect data from online sources, such as the debates in the Canadian Parliament?\n",
    "2. How can the analysis of debates and identification of common nouns be used to compare and contrast the priorities of different political parties over time?\n",
    "3. Can the analysis of common nouns in the debates help us understand the language and rhetoric used by political parties and its impact on public discourse?\n",
    "4. What are the potential biases or limitations in analyzing debates and identifying common nouns, and how can they be addressed to ensure the accuracy and reliability of the findings?"
   ]
  },
  {
   "attachments": {},
   "cell_type": "markdown",
   "id": "29c80828",
   "metadata": {},
   "source": [
    "# Conclusion\n",
    "\n",
    "The Canadian government provides transcripts of debates in the House of Commons, called the [Hansard](https://en.wikipedia.org/wiki/Hansard). In this notebook we imported the Hansard data from 2020 and identified the frequencies of some [parts of speech](https://universaldependencies.org/docs/u/pos) using [natural language processing]([spaCy](https://spacy.io)). We also found which parties spoke the most relative to their seats alongside how often certain members of Parliament spoke. \n",
    "\n",
    "We also used the Hansard to find out which topics each party prioritized and experimented if you were able to identify parties based on the top 10 topics they spoke about. \n",
    "\n",
    "Lastly, using [openparliament.ca](https:https://openparliament.ca/), we identified trends of bill voting, specifically how certain members/parties of Parliament voted on certain bills alongside trends on which bills passed or failed. \n",
    "\n",
    "Perhaps you can try extension activities such as investigating predictions on which bills pass or fail in Parliament, identifying the most common [named entities](https://www.geeksforgeeks.org/python-named-entity-recognition-ner-using-spacy), or creating [word clouds](https://github.com/callysto/curriculum-notebooks/blob/master/EnglishLanguageArts/WordClouds/word-clouds.ipynb)"
   ]
  },
  {
   "attachments": {},
   "cell_type": "markdown",
   "id": "d6428782",
   "metadata": {},
   "source": [
    "[![Callysto.ca License](https://github.com/callysto/curriculum-notebooks/blob/master/callysto-notebook-banner-bottom.jpg?raw=true)](https://github.com/callysto/curriculum-notebooks/blob/master/LICENSE.md)"
   ]
  }
 ],
 "metadata": {
  "kernelspec": {
   "display_name": "Python 3 (ipykernel)",
   "language": "python",
   "name": "python3"
  },
  "language_info": {
   "codemirror_mode": {
    "name": "ipython",
    "version": 3
   },
   "file_extension": ".py",
   "mimetype": "text/x-python",
   "name": "python",
   "nbconvert_exporter": "python",
   "pygments_lexer": "ipython3",
   "version": "3.10.8"
  }
 },
 "nbformat": 4,
 "nbformat_minor": 5
}
