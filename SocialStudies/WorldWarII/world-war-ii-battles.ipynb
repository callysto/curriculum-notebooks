{
 "cells": [
  {
   "cell_type": "code",
   "execution_count": null,
   "id": "cf0aab1f-f6ac-4ab3-8526-28bfdeb2b598",
   "metadata": {},
   "outputs": [],
   "source": [
    "import pandas as pd\n",
    "import plotly.express as px"
   ]
  },
  {
   "cell_type": "code",
   "execution_count": null,
   "id": "51c7f397-3cfc-4190-9cbb-a35ece8acdb2",
   "metadata": {},
   "outputs": [],
   "source": [
    "data = pd.read_excel('data/whbd_v11.xlsx')\n",
    "data"
   ]
  },
  {
   "cell_type": "code",
   "execution_count": null,
   "id": "d5196387-3e2a-4b56-8cb1-578ba668b01e",
   "metadata": {},
   "outputs": [],
   "source": [
    "data.columns"
   ]
  },
  {
   "cell_type": "code",
   "execution_count": null,
   "id": "7daa5f3e-5eda-4854-abd0-c26f7f7cbd4c",
   "metadata": {},
   "outputs": [],
   "source": [
    "candata = data[data['bell']=='Canada'].drop(['uk', 'fr', 'de', 'sp', 'sw', 'tr', 'at', 'ru', 'nl', 'it', 'pt', 'dk', 'habsburg', 'hre'], axis=1)\n",
    "with pd.option_context('display.max_rows', None, 'display.max_columns', None): \n",
    "    display(candata)"
   ]
  },
  {
   "cell_type": "code",
   "execution_count": null,
   "id": "6ab9604e-9202-4c88-af24-fa26c5cd3ac1",
   "metadata": {},
   "outputs": [],
   "source": [
    "px.scatter_geo(candata, lat='lat', lon='lng', height=800, hover_name='bname', hover_data=['war', 'year'])"
   ]
  },
  {
   "cell_type": "code",
   "execution_count": null,
   "id": "268415dd-5f20-4c2b-ba0b-cca82870c586",
   "metadata": {},
   "outputs": [],
   "source": [
    "candata['war'].unique()"
   ]
  },
  {
   "cell_type": "code",
   "execution_count": null,
   "id": "31ffc125-709e-4411-b9ef-19bc93f1a74f",
   "metadata": {},
   "outputs": [],
   "source": []
  }
 ],
 "metadata": {
  "kernelspec": {
   "display_name": "Python 3 (ipykernel)",
   "language": "python",
   "name": "python3"
  },
  "language_info": {
   "codemirror_mode": {
    "name": "ipython",
    "version": 3
   },
   "file_extension": ".py",
   "mimetype": "text/x-python",
   "name": "python",
   "nbconvert_exporter": "python",
   "pygments_lexer": "ipython3",
   "version": "3.9.12"
  }
 },
 "nbformat": 4,
 "nbformat_minor": 5
}
