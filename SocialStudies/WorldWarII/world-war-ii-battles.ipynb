{
 "cells": [
  {
   "cell_type": "markdown",
   "id": "4727ca18-153d-4f5a-b578-3c7815446594",
   "metadata": {},
   "source": [
    "# Exploring World Historical Battle Database\n",
    "Access to this database was granted by its creator and curator, [Dr. Shuhei Kitamura of Osaka University](https://osf.io/j357k). It's important we acknowledge his generosity. \n",
    "\n",
    "In the interest of looking at applying data science to social studies topics, Canada's involvement in world conflict is an important part of Canadian history. This database allows us to explore battles from throughout human history, and across the world."
   ]
  },
  {
   "cell_type": "code",
   "execution_count": 104,
   "id": "cf0aab1f-f6ac-4ab3-8526-28bfdeb2b598",
   "metadata": {},
   "outputs": [],
   "source": [
    "import pandas as pd\n",
    "import plotly.express as px"
   ]
  },
  {
   "cell_type": "code",
   "execution_count": 105,
   "id": "51c7f397-3cfc-4190-9cbb-a35ece8acdb2",
   "metadata": {},
   "outputs": [
    {
     "data": {
      "text/html": [
       "<div>\n",
       "<style scoped>\n",
       "    .dataframe tbody tr th:only-of-type {\n",
       "        vertical-align: middle;\n",
       "    }\n",
       "\n",
       "    .dataframe tbody tr th {\n",
       "        vertical-align: top;\n",
       "    }\n",
       "\n",
       "    .dataframe thead th {\n",
       "        text-align: right;\n",
       "    }\n",
       "</style>\n",
       "<table border=\"1\" class=\"dataframe\">\n",
       "  <thead>\n",
       "    <tr style=\"text-align: right;\">\n",
       "      <th></th>\n",
       "      <th>uid</th>\n",
       "      <th>bid</th>\n",
       "      <th>lr</th>\n",
       "      <th>bname</th>\n",
       "      <th>year</th>\n",
       "      <th>year_end</th>\n",
       "      <th>war</th>\n",
       "      <th>bell</th>\n",
       "      <th>mult_sides</th>\n",
       "      <th>win</th>\n",
       "      <th>...</th>\n",
       "      <th>lake</th>\n",
       "      <th>air</th>\n",
       "      <th>multiple</th>\n",
       "      <th>entire</th>\n",
       "      <th>unknown</th>\n",
       "      <th>ongoing</th>\n",
       "      <th>plan</th>\n",
       "      <th>nopage</th>\n",
       "      <th>wd_url</th>\n",
       "      <th>wp_url</th>\n",
       "    </tr>\n",
       "  </thead>\n",
       "  <tbody>\n",
       "    <tr>\n",
       "      <th>0</th>\n",
       "      <td>1</td>\n",
       "      <td>1</td>\n",
       "      <td>l</td>\n",
       "      <td>Battle of Novšiće</td>\n",
       "      <td>1879.0</td>\n",
       "      <td>NaN</td>\n",
       "      <td>Battles for Plav and Gusinje</td>\n",
       "      <td>Principality of Montenegro</td>\n",
       "      <td>NaN</td>\n",
       "      <td>loss</td>\n",
       "      <td>...</td>\n",
       "      <td>NaN</td>\n",
       "      <td>NaN</td>\n",
       "      <td>NaN</td>\n",
       "      <td>NaN</td>\n",
       "      <td>NaN</td>\n",
       "      <td>NaN</td>\n",
       "      <td>NaN</td>\n",
       "      <td>NaN</td>\n",
       "      <td>http://www.wikidata.org/entity/Q1001069</td>\n",
       "      <td>https://en.wikipedia.org/wiki/Battle_of_Nov%C5...</td>\n",
       "    </tr>\n",
       "    <tr>\n",
       "      <th>1</th>\n",
       "      <td>2</td>\n",
       "      <td>1</td>\n",
       "      <td>r</td>\n",
       "      <td>Battle of Novšiće</td>\n",
       "      <td>1879.0</td>\n",
       "      <td>NaN</td>\n",
       "      <td>Battles for Plav and Gusinje</td>\n",
       "      <td>League of Prizren</td>\n",
       "      <td>NaN</td>\n",
       "      <td>win</td>\n",
       "      <td>...</td>\n",
       "      <td>NaN</td>\n",
       "      <td>NaN</td>\n",
       "      <td>NaN</td>\n",
       "      <td>NaN</td>\n",
       "      <td>NaN</td>\n",
       "      <td>NaN</td>\n",
       "      <td>NaN</td>\n",
       "      <td>NaN</td>\n",
       "      <td>http://www.wikidata.org/entity/Q1001069</td>\n",
       "      <td>https://en.wikipedia.org/wiki/Battle_of_Nov%C5...</td>\n",
       "    </tr>\n",
       "    <tr>\n",
       "      <th>2</th>\n",
       "      <td>3</td>\n",
       "      <td>1</td>\n",
       "      <td>r</td>\n",
       "      <td>Battle of Novšiće</td>\n",
       "      <td>1879.0</td>\n",
       "      <td>NaN</td>\n",
       "      <td>Battles for Plav and Gusinje</td>\n",
       "      <td>Ottoman Empire</td>\n",
       "      <td>NaN</td>\n",
       "      <td>win</td>\n",
       "      <td>...</td>\n",
       "      <td>NaN</td>\n",
       "      <td>NaN</td>\n",
       "      <td>NaN</td>\n",
       "      <td>NaN</td>\n",
       "      <td>NaN</td>\n",
       "      <td>NaN</td>\n",
       "      <td>NaN</td>\n",
       "      <td>NaN</td>\n",
       "      <td>http://www.wikidata.org/entity/Q1001069</td>\n",
       "      <td>https://en.wikipedia.org/wiki/Battle_of_Nov%C5...</td>\n",
       "    </tr>\n",
       "    <tr>\n",
       "      <th>3</th>\n",
       "      <td>4</td>\n",
       "      <td>2</td>\n",
       "      <td>l</td>\n",
       "      <td>Battle of Turckheim</td>\n",
       "      <td>1675.0</td>\n",
       "      <td>NaN</td>\n",
       "      <td>Franco-Dutch War</td>\n",
       "      <td>France</td>\n",
       "      <td>NaN</td>\n",
       "      <td>win</td>\n",
       "      <td>...</td>\n",
       "      <td>NaN</td>\n",
       "      <td>NaN</td>\n",
       "      <td>NaN</td>\n",
       "      <td>NaN</td>\n",
       "      <td>NaN</td>\n",
       "      <td>NaN</td>\n",
       "      <td>NaN</td>\n",
       "      <td>NaN</td>\n",
       "      <td>http://www.wikidata.org/entity/Q1001093</td>\n",
       "      <td>https://en.wikipedia.org/wiki/Battle_of_Turckheim</td>\n",
       "    </tr>\n",
       "    <tr>\n",
       "      <th>4</th>\n",
       "      <td>5</td>\n",
       "      <td>2</td>\n",
       "      <td>r</td>\n",
       "      <td>Battle of Turckheim</td>\n",
       "      <td>1675.0</td>\n",
       "      <td>NaN</td>\n",
       "      <td>Franco-Dutch War</td>\n",
       "      <td>Holy Roman Empire</td>\n",
       "      <td>NaN</td>\n",
       "      <td>loss</td>\n",
       "      <td>...</td>\n",
       "      <td>NaN</td>\n",
       "      <td>NaN</td>\n",
       "      <td>NaN</td>\n",
       "      <td>NaN</td>\n",
       "      <td>NaN</td>\n",
       "      <td>NaN</td>\n",
       "      <td>NaN</td>\n",
       "      <td>NaN</td>\n",
       "      <td>http://www.wikidata.org/entity/Q1001093</td>\n",
       "      <td>https://en.wikipedia.org/wiki/Battle_of_Turckheim</td>\n",
       "    </tr>\n",
       "    <tr>\n",
       "      <th>...</th>\n",
       "      <td>...</td>\n",
       "      <td>...</td>\n",
       "      <td>...</td>\n",
       "      <td>...</td>\n",
       "      <td>...</td>\n",
       "      <td>...</td>\n",
       "      <td>...</td>\n",
       "      <td>...</td>\n",
       "      <td>...</td>\n",
       "      <td>...</td>\n",
       "      <td>...</td>\n",
       "      <td>...</td>\n",
       "      <td>...</td>\n",
       "      <td>...</td>\n",
       "      <td>...</td>\n",
       "      <td>...</td>\n",
       "      <td>...</td>\n",
       "      <td>...</td>\n",
       "      <td>...</td>\n",
       "      <td>...</td>\n",
       "      <td>...</td>\n",
       "    </tr>\n",
       "    <tr>\n",
       "      <th>22825</th>\n",
       "      <td>22826</td>\n",
       "      <td>10126</td>\n",
       "      <td>l</td>\n",
       "      <td>NaN</td>\n",
       "      <td>1941.0</td>\n",
       "      <td>NaN</td>\n",
       "      <td>Western Desert campaign</td>\n",
       "      <td>Germany</td>\n",
       "      <td>NaN</td>\n",
       "      <td>win</td>\n",
       "      <td>...</td>\n",
       "      <td>NaN</td>\n",
       "      <td>NaN</td>\n",
       "      <td>NaN</td>\n",
       "      <td>1.0</td>\n",
       "      <td>NaN</td>\n",
       "      <td>NaN</td>\n",
       "      <td>NaN</td>\n",
       "      <td>NaN</td>\n",
       "      <td>http://www.wikidata.org/entity/Q708223</td>\n",
       "      <td>https://en.wikipedia.org/wiki/Operation_Sonnen...</td>\n",
       "    </tr>\n",
       "    <tr>\n",
       "      <th>22826</th>\n",
       "      <td>22827</td>\n",
       "      <td>10126</td>\n",
       "      <td>l</td>\n",
       "      <td>NaN</td>\n",
       "      <td>1941.0</td>\n",
       "      <td>NaN</td>\n",
       "      <td>Western Desert campaign</td>\n",
       "      <td>Italy</td>\n",
       "      <td>NaN</td>\n",
       "      <td>win</td>\n",
       "      <td>...</td>\n",
       "      <td>NaN</td>\n",
       "      <td>NaN</td>\n",
       "      <td>NaN</td>\n",
       "      <td>1.0</td>\n",
       "      <td>NaN</td>\n",
       "      <td>NaN</td>\n",
       "      <td>NaN</td>\n",
       "      <td>NaN</td>\n",
       "      <td>http://www.wikidata.org/entity/Q708223</td>\n",
       "      <td>https://en.wikipedia.org/wiki/Operation_Sonnen...</td>\n",
       "    </tr>\n",
       "    <tr>\n",
       "      <th>22827</th>\n",
       "      <td>22828</td>\n",
       "      <td>10126</td>\n",
       "      <td>r</td>\n",
       "      <td>NaN</td>\n",
       "      <td>1941.0</td>\n",
       "      <td>NaN</td>\n",
       "      <td>Western Desert campaign</td>\n",
       "      <td>United Kingdom</td>\n",
       "      <td>NaN</td>\n",
       "      <td>loss</td>\n",
       "      <td>...</td>\n",
       "      <td>NaN</td>\n",
       "      <td>NaN</td>\n",
       "      <td>NaN</td>\n",
       "      <td>1.0</td>\n",
       "      <td>NaN</td>\n",
       "      <td>NaN</td>\n",
       "      <td>NaN</td>\n",
       "      <td>NaN</td>\n",
       "      <td>http://www.wikidata.org/entity/Q708223</td>\n",
       "      <td>https://en.wikipedia.org/wiki/Operation_Sonnen...</td>\n",
       "    </tr>\n",
       "    <tr>\n",
       "      <th>22828</th>\n",
       "      <td>22829</td>\n",
       "      <td>10126</td>\n",
       "      <td>r</td>\n",
       "      <td>NaN</td>\n",
       "      <td>1941.0</td>\n",
       "      <td>NaN</td>\n",
       "      <td>Western Desert campaign</td>\n",
       "      <td>British Raj</td>\n",
       "      <td>NaN</td>\n",
       "      <td>loss</td>\n",
       "      <td>...</td>\n",
       "      <td>NaN</td>\n",
       "      <td>NaN</td>\n",
       "      <td>NaN</td>\n",
       "      <td>1.0</td>\n",
       "      <td>NaN</td>\n",
       "      <td>NaN</td>\n",
       "      <td>NaN</td>\n",
       "      <td>NaN</td>\n",
       "      <td>http://www.wikidata.org/entity/Q708223</td>\n",
       "      <td>https://en.wikipedia.org/wiki/Operation_Sonnen...</td>\n",
       "    </tr>\n",
       "    <tr>\n",
       "      <th>22829</th>\n",
       "      <td>22830</td>\n",
       "      <td>10126</td>\n",
       "      <td>r</td>\n",
       "      <td>NaN</td>\n",
       "      <td>1941.0</td>\n",
       "      <td>NaN</td>\n",
       "      <td>Western Desert campaign</td>\n",
       "      <td>Australia</td>\n",
       "      <td>NaN</td>\n",
       "      <td>loss</td>\n",
       "      <td>...</td>\n",
       "      <td>NaN</td>\n",
       "      <td>NaN</td>\n",
       "      <td>NaN</td>\n",
       "      <td>1.0</td>\n",
       "      <td>NaN</td>\n",
       "      <td>NaN</td>\n",
       "      <td>NaN</td>\n",
       "      <td>NaN</td>\n",
       "      <td>http://www.wikidata.org/entity/Q708223</td>\n",
       "      <td>https://en.wikipedia.org/wiki/Operation_Sonnen...</td>\n",
       "    </tr>\n",
       "  </tbody>\n",
       "</table>\n",
       "<p>22830 rows × 39 columns</p>\n",
       "</div>"
      ],
      "text/plain": [
       "         uid    bid lr                bname    year  year_end  \\\n",
       "0          1      1  l    Battle of Novšiće  1879.0       NaN   \n",
       "1          2      1  r    Battle of Novšiće  1879.0       NaN   \n",
       "2          3      1  r    Battle of Novšiće  1879.0       NaN   \n",
       "3          4      2  l  Battle of Turckheim  1675.0       NaN   \n",
       "4          5      2  r  Battle of Turckheim  1675.0       NaN   \n",
       "...      ...    ... ..                  ...     ...       ...   \n",
       "22825  22826  10126  l                  NaN  1941.0       NaN   \n",
       "22826  22827  10126  l                  NaN  1941.0       NaN   \n",
       "22827  22828  10126  r                  NaN  1941.0       NaN   \n",
       "22828  22829  10126  r                  NaN  1941.0       NaN   \n",
       "22829  22830  10126  r                  NaN  1941.0       NaN   \n",
       "\n",
       "                                war                        bell  mult_sides  \\\n",
       "0      Battles for Plav and Gusinje  Principality of Montenegro         NaN   \n",
       "1      Battles for Plav and Gusinje           League of Prizren         NaN   \n",
       "2      Battles for Plav and Gusinje              Ottoman Empire         NaN   \n",
       "3                  Franco-Dutch War                      France         NaN   \n",
       "4                  Franco-Dutch War           Holy Roman Empire         NaN   \n",
       "...                             ...                         ...         ...   \n",
       "22825       Western Desert campaign                     Germany         NaN   \n",
       "22826       Western Desert campaign                       Italy         NaN   \n",
       "22827       Western Desert campaign              United Kingdom         NaN   \n",
       "22828       Western Desert campaign                 British Raj         NaN   \n",
       "22829       Western Desert campaign                   Australia         NaN   \n",
       "\n",
       "        win  ...  lake  air  multiple  entire  unknown  ongoing  plan  nopage  \\\n",
       "0      loss  ...   NaN  NaN       NaN     NaN      NaN      NaN   NaN     NaN   \n",
       "1       win  ...   NaN  NaN       NaN     NaN      NaN      NaN   NaN     NaN   \n",
       "2       win  ...   NaN  NaN       NaN     NaN      NaN      NaN   NaN     NaN   \n",
       "3       win  ...   NaN  NaN       NaN     NaN      NaN      NaN   NaN     NaN   \n",
       "4      loss  ...   NaN  NaN       NaN     NaN      NaN      NaN   NaN     NaN   \n",
       "...     ...  ...   ...  ...       ...     ...      ...      ...   ...     ...   \n",
       "22825   win  ...   NaN  NaN       NaN     1.0      NaN      NaN   NaN     NaN   \n",
       "22826   win  ...   NaN  NaN       NaN     1.0      NaN      NaN   NaN     NaN   \n",
       "22827  loss  ...   NaN  NaN       NaN     1.0      NaN      NaN   NaN     NaN   \n",
       "22828  loss  ...   NaN  NaN       NaN     1.0      NaN      NaN   NaN     NaN   \n",
       "22829  loss  ...   NaN  NaN       NaN     1.0      NaN      NaN   NaN     NaN   \n",
       "\n",
       "                                        wd_url  \\\n",
       "0      http://www.wikidata.org/entity/Q1001069   \n",
       "1      http://www.wikidata.org/entity/Q1001069   \n",
       "2      http://www.wikidata.org/entity/Q1001069   \n",
       "3      http://www.wikidata.org/entity/Q1001093   \n",
       "4      http://www.wikidata.org/entity/Q1001093   \n",
       "...                                        ...   \n",
       "22825   http://www.wikidata.org/entity/Q708223   \n",
       "22826   http://www.wikidata.org/entity/Q708223   \n",
       "22827   http://www.wikidata.org/entity/Q708223   \n",
       "22828   http://www.wikidata.org/entity/Q708223   \n",
       "22829   http://www.wikidata.org/entity/Q708223   \n",
       "\n",
       "                                                  wp_url  \n",
       "0      https://en.wikipedia.org/wiki/Battle_of_Nov%C5...  \n",
       "1      https://en.wikipedia.org/wiki/Battle_of_Nov%C5...  \n",
       "2      https://en.wikipedia.org/wiki/Battle_of_Nov%C5...  \n",
       "3      https://en.wikipedia.org/wiki/Battle_of_Turckheim  \n",
       "4      https://en.wikipedia.org/wiki/Battle_of_Turckheim  \n",
       "...                                                  ...  \n",
       "22825  https://en.wikipedia.org/wiki/Operation_Sonnen...  \n",
       "22826  https://en.wikipedia.org/wiki/Operation_Sonnen...  \n",
       "22827  https://en.wikipedia.org/wiki/Operation_Sonnen...  \n",
       "22828  https://en.wikipedia.org/wiki/Operation_Sonnen...  \n",
       "22829  https://en.wikipedia.org/wiki/Operation_Sonnen...  \n",
       "\n",
       "[22830 rows x 39 columns]"
      ]
     },
     "execution_count": 105,
     "metadata": {},
     "output_type": "execute_result"
    }
   ],
   "source": [
    "# Read in the data\n",
    "data = pd.read_excel('data/whbd_v11.xlsx')\n",
    "data"
   ]
  },
  {
   "cell_type": "code",
   "execution_count": 106,
   "id": "d5196387-3e2a-4b56-8cb1-578ba668b01e",
   "metadata": {},
   "outputs": [
    {
     "data": {
      "text/plain": [
       "Index(['uid', 'bid', 'lr', 'bname', 'year', 'year_end', 'war', 'bell',\n",
       "       'mult_sides', 'win', 'uk', 'fr', 'de', 'sp', 'sw', 'tr', 'at', 'ru',\n",
       "       'nl', 'it', 'pt', 'dk', 'habsburg', 'hre', 'lat', 'lng', 'locn',\n",
       "       'naval', 'river', 'lake', 'air', 'multiple', 'entire', 'unknown',\n",
       "       'ongoing', 'plan', 'nopage', 'wd_url', 'wp_url'],\n",
       "      dtype='object')"
      ]
     },
     "execution_count": 106,
     "metadata": {},
     "output_type": "execute_result"
    }
   ],
   "source": [
    "# See what the columns contain\n",
    "data.columns"
   ]
  },
  {
   "cell_type": "code",
   "execution_count": 107,
   "id": "7daa5f3e-5eda-4854-abd0-c26f7f7cbd4c",
   "metadata": {},
   "outputs": [
    {
     "data": {
      "text/html": [
       "<div>\n",
       "<style scoped>\n",
       "    .dataframe tbody tr th:only-of-type {\n",
       "        vertical-align: middle;\n",
       "    }\n",
       "\n",
       "    .dataframe tbody tr th {\n",
       "        vertical-align: top;\n",
       "    }\n",
       "\n",
       "    .dataframe thead th {\n",
       "        text-align: right;\n",
       "    }\n",
       "</style>\n",
       "<table border=\"1\" class=\"dataframe\">\n",
       "  <thead>\n",
       "    <tr style=\"text-align: right;\">\n",
       "      <th></th>\n",
       "      <th>uid</th>\n",
       "      <th>bid</th>\n",
       "      <th>lr</th>\n",
       "      <th>bname</th>\n",
       "      <th>year</th>\n",
       "      <th>year_end</th>\n",
       "      <th>war</th>\n",
       "      <th>bell</th>\n",
       "      <th>mult_sides</th>\n",
       "      <th>win</th>\n",
       "      <th>lat</th>\n",
       "      <th>lng</th>\n",
       "      <th>locn</th>\n",
       "      <th>wd_url</th>\n",
       "      <th>wp_url</th>\n",
       "    </tr>\n",
       "  </thead>\n",
       "  <tbody>\n",
       "    <tr>\n",
       "      <th>134</th>\n",
       "      <td>135</td>\n",
       "      <td>51</td>\n",
       "      <td>l</td>\n",
       "      <td>Second Battle of the Somme</td>\n",
       "      <td>1918.0</td>\n",
       "      <td>NaN</td>\n",
       "      <td>Western Front of World War I</td>\n",
       "      <td>Canada</td>\n",
       "      <td>NaN</td>\n",
       "      <td>win</td>\n",
       "      <td>49.968971</td>\n",
       "      <td>2.373859</td>\n",
       "      <td>Somme River, France</td>\n",
       "      <td>http://www.wikidata.org/entity/Q1063735</td>\n",
       "      <td>https://en.wikipedia.org/wiki/Second_Battle_of...</td>\n",
       "    </tr>\n",
       "    <tr>\n",
       "      <th>242</th>\n",
       "      <td>243</td>\n",
       "      <td>92</td>\n",
       "      <td>l</td>\n",
       "      <td>Battle of the Lys</td>\n",
       "      <td>1918.0</td>\n",
       "      <td>NaN</td>\n",
       "      <td>Spring Offensive</td>\n",
       "      <td>Canada</td>\n",
       "      <td>NaN</td>\n",
       "      <td>Germans retreat</td>\n",
       "      <td>50.705556</td>\n",
       "      <td>2.900000</td>\n",
       "      <td>Flanders, northeast France</td>\n",
       "      <td>http://www.wikidata.org/entity/Q1088364</td>\n",
       "      <td>https://en.wikipedia.org/wiki/Battle_of_the_Ly...</td>\n",
       "    </tr>\n",
       "    <tr>\n",
       "      <th>474</th>\n",
       "      <td>475</td>\n",
       "      <td>165</td>\n",
       "      <td>l</td>\n",
       "      <td>Battle of Messines</td>\n",
       "      <td>1917.0</td>\n",
       "      <td>NaN</td>\n",
       "      <td>Western Front of World War I</td>\n",
       "      <td>Canada</td>\n",
       "      <td>NaN</td>\n",
       "      <td>win</td>\n",
       "      <td>50.762500</td>\n",
       "      <td>2.895278</td>\n",
       "      <td>Flanders, Belgium</td>\n",
       "      <td>http://www.wikidata.org/entity/Q1144824</td>\n",
       "      <td>https://en.wikipedia.org/wiki/Battle_of_Messin...</td>\n",
       "    </tr>\n",
       "    <tr>\n",
       "      <th>1007</th>\n",
       "      <td>1008</td>\n",
       "      <td>354</td>\n",
       "      <td>l</td>\n",
       "      <td>Battle of Kitcheners' Wood</td>\n",
       "      <td>1915.0</td>\n",
       "      <td>NaN</td>\n",
       "      <td>Western Front of World War I</td>\n",
       "      <td>Canada</td>\n",
       "      <td>NaN</td>\n",
       "      <td>win</td>\n",
       "      <td>50.890000</td>\n",
       "      <td>2.922000</td>\n",
       "      <td>Ypres, Belgium</td>\n",
       "      <td>http://www.wikidata.org/entity/Q129117</td>\n",
       "      <td>https://en.wikipedia.org/wiki/Battle_of_Kitche...</td>\n",
       "    </tr>\n",
       "    <tr>\n",
       "      <th>1095</th>\n",
       "      <td>1096</td>\n",
       "      <td>385</td>\n",
       "      <td>l</td>\n",
       "      <td>Battle of the Somme</td>\n",
       "      <td>1916.0</td>\n",
       "      <td>NaN</td>\n",
       "      <td>Western Front of World War I</td>\n",
       "      <td>Canada</td>\n",
       "      <td>NaN</td>\n",
       "      <td>win</td>\n",
       "      <td>50.015500</td>\n",
       "      <td>2.697420</td>\n",
       "      <td>Somme River, north-central Somme and south-eas...</td>\n",
       "      <td>http://www.wikidata.org/entity/Q132568</td>\n",
       "      <td>https://en.wikipedia.org/wiki/Battle_of_the_Somme</td>\n",
       "    </tr>\n",
       "    <tr>\n",
       "      <th>...</th>\n",
       "      <td>...</td>\n",
       "      <td>...</td>\n",
       "      <td>...</td>\n",
       "      <td>...</td>\n",
       "      <td>...</td>\n",
       "      <td>...</td>\n",
       "      <td>...</td>\n",
       "      <td>...</td>\n",
       "      <td>...</td>\n",
       "      <td>...</td>\n",
       "      <td>...</td>\n",
       "      <td>...</td>\n",
       "      <td>...</td>\n",
       "      <td>...</td>\n",
       "      <td>...</td>\n",
       "    </tr>\n",
       "    <tr>\n",
       "      <th>22599</th>\n",
       "      <td>22600</td>\n",
       "      <td>10063</td>\n",
       "      <td>l</td>\n",
       "      <td>NaN</td>\n",
       "      <td>1942.0</td>\n",
       "      <td>1945.0</td>\n",
       "      <td>World War II</td>\n",
       "      <td>Canada</td>\n",
       "      <td>NaN</td>\n",
       "      <td>win</td>\n",
       "      <td>NaN</td>\n",
       "      <td>NaN</td>\n",
       "      <td>Coral Sea, New Guinea, Solomon Islands and Aus...</td>\n",
       "      <td>http://www.wikidata.org/entity/Q2890968</td>\n",
       "      <td>https://en.wikipedia.org/wiki/Battle_for_Austr...</td>\n",
       "    </tr>\n",
       "    <tr>\n",
       "      <th>22619</th>\n",
       "      <td>22620</td>\n",
       "      <td>10067</td>\n",
       "      <td>l</td>\n",
       "      <td>NaN</td>\n",
       "      <td>1945.0</td>\n",
       "      <td>NaN</td>\n",
       "      <td>World War II</td>\n",
       "      <td>Canada</td>\n",
       "      <td>NaN</td>\n",
       "      <td>NaN</td>\n",
       "      <td>NaN</td>\n",
       "      <td>NaN</td>\n",
       "      <td>Japan</td>\n",
       "      <td>http://www.wikidata.org/entity/Q300879</td>\n",
       "      <td>https://en.wikipedia.org/wiki/Operation_Downfall</td>\n",
       "    </tr>\n",
       "    <tr>\n",
       "      <th>22699</th>\n",
       "      <td>22700</td>\n",
       "      <td>10090</td>\n",
       "      <td>l</td>\n",
       "      <td>NaN</td>\n",
       "      <td>1944.0</td>\n",
       "      <td>1945.0</td>\n",
       "      <td>NaN</td>\n",
       "      <td>Canada</td>\n",
       "      <td>NaN</td>\n",
       "      <td>win</td>\n",
       "      <td>NaN</td>\n",
       "      <td>NaN</td>\n",
       "      <td>Along and around the Siegfried Line, (France, ...</td>\n",
       "      <td>http://www.wikidata.org/entity/Q4872994</td>\n",
       "      <td>https://en.wikipedia.org/wiki/Battle_of_the_Rh...</td>\n",
       "    </tr>\n",
       "    <tr>\n",
       "      <th>22753</th>\n",
       "      <td>22754</td>\n",
       "      <td>10104</td>\n",
       "      <td>l</td>\n",
       "      <td>NaN</td>\n",
       "      <td>1944.0</td>\n",
       "      <td>NaN</td>\n",
       "      <td>World War II</td>\n",
       "      <td>Canada</td>\n",
       "      <td>NaN</td>\n",
       "      <td>win</td>\n",
       "      <td>NaN</td>\n",
       "      <td>NaN</td>\n",
       "      <td>Dutch Zeeland and northern Belgium</td>\n",
       "      <td>http://www.wikidata.org/entity/Q697022</td>\n",
       "      <td>https://en.wikipedia.org/wiki/Battle_of_the_Sc...</td>\n",
       "    </tr>\n",
       "    <tr>\n",
       "      <th>22782</th>\n",
       "      <td>22783</td>\n",
       "      <td>10109</td>\n",
       "      <td>l</td>\n",
       "      <td>NaN</td>\n",
       "      <td>1945.0</td>\n",
       "      <td>NaN</td>\n",
       "      <td>NaN</td>\n",
       "      <td>Canada</td>\n",
       "      <td>NaN</td>\n",
       "      <td>pyrrhic loss (tactical) win (Germany failed)</td>\n",
       "      <td>NaN</td>\n",
       "      <td>NaN</td>\n",
       "      <td>Belgium, the Netherlands and France</td>\n",
       "      <td>http://www.wikidata.org/entity/Q835881</td>\n",
       "      <td>https://en.wikipedia.org/wiki/Operation_Bodenp...</td>\n",
       "    </tr>\n",
       "  </tbody>\n",
       "</table>\n",
       "<p>115 rows × 15 columns</p>\n",
       "</div>"
      ],
      "text/plain": [
       "         uid    bid lr                       bname    year  year_end  \\\n",
       "134      135     51  l  Second Battle of the Somme  1918.0       NaN   \n",
       "242      243     92  l           Battle of the Lys  1918.0       NaN   \n",
       "474      475    165  l          Battle of Messines  1917.0       NaN   \n",
       "1007    1008    354  l  Battle of Kitcheners' Wood  1915.0       NaN   \n",
       "1095    1096    385  l         Battle of the Somme  1916.0       NaN   \n",
       "...      ...    ... ..                         ...     ...       ...   \n",
       "22599  22600  10063  l                         NaN  1942.0    1945.0   \n",
       "22619  22620  10067  l                         NaN  1945.0       NaN   \n",
       "22699  22700  10090  l                         NaN  1944.0    1945.0   \n",
       "22753  22754  10104  l                         NaN  1944.0       NaN   \n",
       "22782  22783  10109  l                         NaN  1945.0       NaN   \n",
       "\n",
       "                                war    bell  mult_sides  \\\n",
       "134    Western Front of World War I  Canada         NaN   \n",
       "242                Spring Offensive  Canada         NaN   \n",
       "474    Western Front of World War I  Canada         NaN   \n",
       "1007   Western Front of World War I  Canada         NaN   \n",
       "1095   Western Front of World War I  Canada         NaN   \n",
       "...                             ...     ...         ...   \n",
       "22599                  World War II  Canada         NaN   \n",
       "22619                  World War II  Canada         NaN   \n",
       "22699                           NaN  Canada         NaN   \n",
       "22753                  World War II  Canada         NaN   \n",
       "22782                           NaN  Canada         NaN   \n",
       "\n",
       "                                                win        lat       lng  \\\n",
       "134                                             win  49.968971  2.373859   \n",
       "242                                 Germans retreat  50.705556  2.900000   \n",
       "474                                             win  50.762500  2.895278   \n",
       "1007                                            win  50.890000  2.922000   \n",
       "1095                                            win  50.015500  2.697420   \n",
       "...                                             ...        ...       ...   \n",
       "22599                                           win        NaN       NaN   \n",
       "22619                                           NaN        NaN       NaN   \n",
       "22699                                           win        NaN       NaN   \n",
       "22753                                           win        NaN       NaN   \n",
       "22782  pyrrhic loss (tactical) win (Germany failed)        NaN       NaN   \n",
       "\n",
       "                                                    locn  \\\n",
       "134                                  Somme River, France   \n",
       "242                           Flanders, northeast France   \n",
       "474                                    Flanders, Belgium   \n",
       "1007                                      Ypres, Belgium   \n",
       "1095   Somme River, north-central Somme and south-eas...   \n",
       "...                                                  ...   \n",
       "22599  Coral Sea, New Guinea, Solomon Islands and Aus...   \n",
       "22619                                              Japan   \n",
       "22699  Along and around the Siegfried Line, (France, ...   \n",
       "22753                 Dutch Zeeland and northern Belgium   \n",
       "22782                Belgium, the Netherlands and France   \n",
       "\n",
       "                                        wd_url  \\\n",
       "134    http://www.wikidata.org/entity/Q1063735   \n",
       "242    http://www.wikidata.org/entity/Q1088364   \n",
       "474    http://www.wikidata.org/entity/Q1144824   \n",
       "1007    http://www.wikidata.org/entity/Q129117   \n",
       "1095    http://www.wikidata.org/entity/Q132568   \n",
       "...                                        ...   \n",
       "22599  http://www.wikidata.org/entity/Q2890968   \n",
       "22619   http://www.wikidata.org/entity/Q300879   \n",
       "22699  http://www.wikidata.org/entity/Q4872994   \n",
       "22753   http://www.wikidata.org/entity/Q697022   \n",
       "22782   http://www.wikidata.org/entity/Q835881   \n",
       "\n",
       "                                                  wp_url  \n",
       "134    https://en.wikipedia.org/wiki/Second_Battle_of...  \n",
       "242    https://en.wikipedia.org/wiki/Battle_of_the_Ly...  \n",
       "474    https://en.wikipedia.org/wiki/Battle_of_Messin...  \n",
       "1007   https://en.wikipedia.org/wiki/Battle_of_Kitche...  \n",
       "1095   https://en.wikipedia.org/wiki/Battle_of_the_Somme  \n",
       "...                                                  ...  \n",
       "22599  https://en.wikipedia.org/wiki/Battle_for_Austr...  \n",
       "22619   https://en.wikipedia.org/wiki/Operation_Downfall  \n",
       "22699  https://en.wikipedia.org/wiki/Battle_of_the_Rh...  \n",
       "22753  https://en.wikipedia.org/wiki/Battle_of_the_Sc...  \n",
       "22782  https://en.wikipedia.org/wiki/Operation_Bodenp...  \n",
       "\n",
       "[115 rows x 15 columns]"
      ]
     },
     "metadata": {},
     "output_type": "display_data"
    }
   ],
   "source": [
    "# Filter to only look at the battles that specify Canada as a combatant. Drop unused columns\n",
    "candata = data[data['bell']=='Canada'].drop(['uk', 'fr', 'de', 'sp', 'sw', 'tr', 'at', \n",
    "                                             'ru', 'nl', 'it', 'pt', 'dk', 'habsburg', 'hre',\n",
    "                                             'naval', 'river', 'lake', 'air', 'multiple', 'entire',\n",
    "                                             'ongoing', 'plan', 'nopage', 'unknown'], axis=1)\n",
    "display(candata)"
   ]
  },
  {
   "cell_type": "markdown",
   "id": "4b843a51-d9c0-42fc-a963-fe60c528c5ed",
   "metadata": {},
   "source": [
    "We can take the data and consider only the wars that list Canada as a participant:"
   ]
  },
  {
   "cell_type": "code",
   "execution_count": 108,
   "id": "268415dd-5f20-4c2b-ba0b-cca82870c586",
   "metadata": {},
   "outputs": [
    {
     "data": {
      "text/plain": [
       "['2011 Libyan Civil War',\n",
       " 'American-led intervention in Iraq (2014–present)',\n",
       " 'Anbar offensive',\n",
       " 'Battle of Monte Cassino',\n",
       " 'Battle of Passchendaele',\n",
       " 'Battle of the Scheldt',\n",
       " 'Battle of the Somme',\n",
       " 'Fenian raids',\n",
       " 'Gulf War',\n",
       " 'Hundred Days Offensive',\n",
       " 'Invasion of Normandy',\n",
       " 'Iraqi Civil War (2014–2017)',\n",
       " 'Italian campaign',\n",
       " 'Korean War',\n",
       " 'Mediterranean and Middle East theatre of World War II',\n",
       " 'Middle Eastern theatre of World War I',\n",
       " 'Moro River Campaign',\n",
       " 'Normandy landings',\n",
       " 'North Russia Intervention',\n",
       " 'North West Europe Campaign',\n",
       " 'North-West Rebellion',\n",
       " 'Northern Mali conflict',\n",
       " 'Operation Overlord',\n",
       " 'Pacific War',\n",
       " 'Russian Civil War',\n",
       " 'Second Boer War',\n",
       " 'Spring Offensive',\n",
       " 'War in Afghanistan',\n",
       " 'Western Front of World War I',\n",
       " 'World War I',\n",
       " 'World War II',\n",
       " 'strategic bombing during World War II',\n",
       " nan]"
      ]
     },
     "execution_count": 108,
     "metadata": {},
     "output_type": "execute_result"
    }
   ],
   "source": [
    "list(candata['war'].sort_values().unique())"
   ]
  },
  {
   "cell_type": "markdown",
   "id": "d3b48797-c270-473b-a0ed-a97e0c40a689",
   "metadata": {},
   "source": [
    "We can plot the battles on a map with their lattitude and longitude coordinates.\n",
    "\n",
    "You can drag to move around the map, zoom in and out to get more clarity. Hovering over each data point lists the name of the battle, as well as the war in which the battle was fought."
   ]
  },
  {
   "cell_type": "code",
   "execution_count": 109,
   "id": "6ab9604e-9202-4c88-af24-fa26c5cd3ac1",
   "metadata": {},
   "outputs": [
    {
     "data": {
      "application/vnd.plotly.v1+json": {
       "config": {
        "plotlyServerURL": "https://plot.ly"
       },
       "data": [
        {
         "customdata": [
          [
           "Western Front of World War I",
           1918
          ],
          [
           "Spring Offensive",
           1918
          ],
          [
           "Western Front of World War I",
           1917
          ],
          [
           "Western Front of World War I",
           1915
          ],
          [
           "Western Front of World War I",
           1916
          ],
          [
           "War in Afghanistan",
           2002
          ],
          [
           "Battle of the Somme",
           1916
          ],
          [
           null,
           1944
          ],
          [
           "Spring Offensive",
           1918
          ],
          [
           "World War II",
           1945
          ],
          [
           "War in Afghanistan",
           2007
          ],
          [
           "Moro River Campaign",
           1943
          ],
          [
           "Invasion of Normandy",
           1944
          ],
          [
           "Operation Overlord",
           1944
          ],
          [
           "Fenian raids",
           1870
          ],
          [
           "Normandy landings",
           1944
          ],
          [
           "Iraqi Civil War (2014–2017)",
           2014
          ],
          [
           "War in Afghanistan",
           2006
          ],
          [
           "Western Front of World War I",
           1915
          ],
          [
           "Anbar offensive",
           2014
          ],
          [
           "Korean War",
           1952
          ],
          [
           "Pacific War",
           1945
          ],
          [
           "World War I",
           1915
          ],
          [
           "World War I",
           1918
          ],
          [
           "World War II",
           1942
          ],
          [
           "Western Front of World War I",
           1916
          ],
          [
           "War in Afghanistan",
           2010
          ],
          [
           "World War I",
           1914
          ],
          [
           "World War II",
           1940
          ],
          [
           "Iraqi Civil War (2014–2017)",
           2015
          ],
          [
           null,
           1942
          ],
          [
           "Western Front of World War I",
           1915
          ],
          [
           "World War II",
           1945
          ],
          [
           null,
           1945
          ],
          [
           "Second Boer War",
           1900
          ],
          [
           "2011 Libyan Civil War",
           2011
          ],
          [
           "Western Front of World War I",
           1915
          ],
          [
           "Western Front of World War I",
           1915
          ],
          [
           "World War I",
           1917
          ],
          [
           "Western Front of World War I",
           1917
          ],
          [
           "Italian campaign",
           1944
          ],
          [
           "World War I",
           1918
          ],
          [
           "North West Europe Campaign",
           1942
          ],
          [
           "American-led intervention in Iraq (2014–present)",
           2016
          ],
          [
           "World War II",
           1945
          ],
          [
           "Middle Eastern theatre of World War I",
           1917
          ],
          [
           "North-West Rebellion",
           1885
          ],
          [
           "Second Boer War",
           1900
          ],
          [
           "War in Afghanistan",
           2006
          ],
          [
           "Second Boer War",
           1900
          ],
          [
           "Korean War",
           1951
          ],
          [
           "Battle of the Scheldt",
           1944
          ],
          [
           "Battle of the Somme",
           1916
          ],
          [
           "World War II",
           1944
          ],
          [
           "War in Afghanistan",
           2008
          ],
          [
           "strategic bombing during World War II",
           1943
          ],
          [
           null,
           1944
          ],
          [
           "War in Afghanistan",
           2006
          ],
          [
           "Battle of the Somme",
           1916
          ],
          [
           "Italian campaign",
           1943
          ],
          [
           "Battle of the Somme",
           1916
          ],
          [
           "Middle Eastern theatre of World War I",
           1917
          ],
          [
           "World War I",
           1917
          ],
          [
           "Western Front of World War I",
           1917
          ],
          [
           "World War II",
           1941
          ],
          [
           "North Russia Intervention",
           1919
          ],
          [
           "Korean War",
           1950
          ],
          [
           "Gulf War",
           1991
          ],
          [
           "World War II",
           1944
          ],
          [
           "Korean War",
           1951
          ],
          [
           "Second Boer War",
           1900
          ],
          [
           "North-West Rebellion",
           1885
          ],
          [
           "Battle of the Somme",
           1916
          ],
          [
           "Korean War",
           1951
          ],
          [
           null,
           1944
          ],
          [
           "Western Front of World War I",
           1916
          ],
          [
           "World War II",
           1944
          ],
          [
           "Russian Civil War",
           1918
          ],
          [
           "Second Boer War",
           1900
          ],
          [
           "Western Front of World War I",
           1918
          ],
          [
           "Second Boer War",
           1900
          ],
          [
           "World War I",
           1918
          ],
          [
           "Western Front of World War I",
           1918
          ],
          [
           "Operation Overlord",
           1944
          ],
          [
           "Mediterranean and Middle East theatre of World War II",
           1944
          ],
          [
           "Hundred Days Offensive",
           1918
          ],
          [
           "Korean War",
           1950
          ],
          [
           null,
           1945
          ],
          [
           "Operation Overlord",
           1944
          ],
          [
           "Italian campaign",
           1944
          ],
          [
           "Pacific War",
           1941
          ],
          [
           null,
           1943
          ],
          [
           "Battle of Monte Cassino",
           1944
          ],
          [
           "Korean War",
           1951
          ],
          [
           "World War II",
           1944
          ],
          [
           "Italian campaign",
           1943
          ],
          [
           "World War II",
           1943
          ],
          [
           "Battle of the Somme",
           1916
          ],
          [
           "Battle of Passchendaele",
           1917
          ],
          [
           "War in Afghanistan",
           2010
          ],
          [
           "War in Afghanistan",
           2006
          ],
          [
           "Western Front of World War I",
           1918
          ],
          [
           "World War II",
           1944
          ],
          [
           "North-West Rebellion",
           1885
          ],
          [
           "North-West Rebellion",
           1885
          ],
          [
           "North-West Rebellion",
           1885
          ],
          [
           "North-West Rebellion",
           1885
          ],
          [
           "North-West Rebellion",
           1885
          ],
          [
           "Northern Mali conflict",
           2013
          ],
          [
           null,
           1945
          ],
          [
           "World War II",
           1942
          ],
          [
           "World War II",
           1945
          ],
          [
           null,
           1944
          ],
          [
           "World War II",
           1944
          ],
          [
           null,
           1945
          ]
         ],
         "geo": "geo",
         "hovertemplate": "<b>%{hovertext}</b><br><br>lat=%{lat}<br>lng=%{lon}<br>war=%{customdata[0]}<br>year=%{customdata[1]}<extra></extra>",
         "hovertext": [
          "Second Battle of the Somme",
          "Battle of the Lys",
          "Battle of Messines",
          "Battle of Kitcheners' Wood",
          "Battle of the Somme",
          "Operation Anaconda",
          "Battle of Flers–Courcelette",
          "Battle of the Bulge",
          "Operation Michael",
          "Operation Teardrop",
          "Operation Achilles",
          "Battle of Ortona",
          "Normandy landings",
          "Invasion of Normandy",
          "Battle of Trout River",
          "Operation Tonga",
          "Battle of Baiji",
          "Operation Medusa",
          "Battle of Hill 60",
          "Battle of Ramadi",
          "Second Battle of the Hook",
          "Battle of Okinawa",
          "Battle of Festubert",
          "Battle of Moreuil Wood",
          "Battle of the St. Lawrence",
          "Battle of Thiepval Ridge",
          "Operation Dragon Strike",
          "Battle of Givenchy",
          "Battle of Dunkirk",
          "Battle of Ramadi",
          "Battle of the Bell Islands",
          "Second Battle of Artois",
          "Battle of Groningen",
          "Battle for the Kapelsche Veer",
          "Battle of Paardeberg",
          "Battle of Misrata",
          "Battle of Neuve Chapelle",
          "Second Battle of Ypres",
          "Battle of Hill 70",
          "Battle of Arras",
          "Battle of Rimini",
          "Battle of Cambrai",
          "Dieppe Raid",
          "Battle of Mosul (2016–17)",
          "Black Friday",
          "First Battle of Gaza",
          "Battle of Batoche",
          "Battle of Diamond Hill",
          "Friendly fire incident at Sangin",
          "Battle of Leliefontein",
          "First Battle of Maryang-san",
          "Battle of Walcheren Causeway",
          "Battle of Mouquet Farm",
          "Battle of Verrières Ridge",
          "Battle of Arghandab",
          "Battle of the Ruhr",
          "Battle of Monte Cassino",
          "Battle of Panjwaii",
          "Battle of the Ancre Heights",
          "Monte la Difensa",
          "Battle of Morval",
          "Second Battle of Gaza",
          "Battle of Vimy Ridge",
          "Battle of Passchendaele",
          "Battle of the Caribbean",
          "Battle of Shenkursk",
          "Battle of Inchon",
          "Battle of Bubiyan",
          "Battle of Chambois",
          "Battle of Chuam-ni",
          "Battle of Elands River",
          "Battle of Fort Pitt",
          "Battle of Le Transloy",
          "Battle of Maehwa-san",
          "battle of Moerbrugge",
          "Battle of Mont Sorrel",
          "Battle of Pierres Noires",
          "Battle of Tulgas",
          "Battle of Witpoort",
          "Battle of the Scarpe",
          "Bloody Sunday",
          "Battle of Drocourt-Quéant Line",
          "Fifth Battle of Ypres",
          "Falaise Pocket",
          "Battle of Port Cros",
          "Battle of the Canal du Nord",
          "Second Battle of Seoul",
          "Liberation of Arnhem",
          "Battle for Caen",
          "Battle of Anzio",
          "Battle of Hong Kong",
          "Battle of Attu",
          "Operation Diadem",
          "Battle of Kapyong",
          "Battle of Le Mesnil-Patry",
          "Bernhardt Line",
          "Allied invasion of Italy",
          "Regina Trench",
          "Second Battle of Passchendaele",
          "Operation Moshtarak",
          "Operation Mountain Fury",
          "Battle of Amiens",
          "Action of 26 April 1944",
          "Battle of Frenchman's Butte",
          "Battle of Loon Lake",
          "Battle of Fish Creek",
          "Battle of Duck Lake",
          "Battle of Cut Knife",
          null,
          null,
          null,
          null,
          null,
          null,
          null
         ],
         "lat": [
          49.968971252441406,
          50.70555556,
          50.7625,
          50.89,
          50.0155,
          33.366666666667,
          50.05888889,
          50.6243,
          49.85,
          40,
          32.07333333,
          42.35,
          49.333333333333,
          49.333333333333,
          45.087337493896484,
          49.18100357055664,
          34.933333333333,
          31.547777777778,
          50.821388888889,
          33.416666666667,
          38.029111,
          26.5,
          50.54388889,
          49.7831,
          48.90331268310547,
          50.054527777778,
          31.620643615722656,
          50.5294,
          51.0343,
          33.416666666667,
          47.625511169433594,
          50.5,
          53.2186,
          51.708,
          -28.9825,
          32.37753333,
          50.585,
          50.899444444444,
          50.45555556,
          50.289722222222,
          43.94709777832031,
          50.1767,
          49.933333333333,
          36.337222222222,
          61.46666667,
          31.4893,
          52.75600814819336,
          -25.783333333333,
          31.589166666667,
          -25.96666667,
          38.135,
          51.5031,
          50.051111,
          49.11038,
          31.654722222222,
          51.5,
          41.49,
          31.546222686767578,
          49.9067,
          41.3833,
          50.0316,
          31.4893,
          50.379,
          50.900277777778,
          15,
          62.1,
          37.48333333,
          27.238235473632812,
          48.8058,
          36.293739318847656,
          -25.649444,
          53.65018,
          50.057388888889,
          37.016667,
          51.162322998046875,
          50.8464,
          48.21166667,
          62.594388,
          -29.913196563720703,
          50.270556,
          -28.9825,
          50.391944444444,
          50.9003,
          48.892777777778,
          43.005,
          50.283333,
          37.566680908203125,
          51.9833,
          49.186111111111,
          41.443022,
          22.2819,
          52.879075,
          41.96673583984375,
          37.883333333333,
          49.19583333,
          41.40591812133789,
          40.679,
          50.0717,
          50.90027778,
          31.516667,
          32.39362335205078,
          49.893913888889,
          48.89720916748047,
          53.62722396850586,
          54.04055404663086,
          52.60194396972656,
          52.81650924682617,
          52.74530792236328,
          null,
          null,
          null,
          null,
          null,
          null,
          null
         ],
         "legendgroup": "",
         "lon": [
          2.37385892868042,
          2.9,
          2.8952777777778,
          2.922,
          2.69742,
          69.183333333333,
          2.74777778,
          6.13724,
          3.28333,
          -40,
          64.83388889,
          14.4,
          -0.56694444444444,
          -0.56666666666667,
          -74.1738510131836,
          -0.369891494512558,
          43.483333333333,
          65.454166666667,
          2.9316666666667,
          43.3,
          126.8425,
          128,
          2.73611111,
          2.5,
          -61.373878479003906,
          2.6883888888889,
          65.7157211303711,
          2.75861,
          2.3768194444444,
          43.3,
          -52.96726608276367,
          2.75,
          6.56722,
          4.929,
          25.09305556,
          15.09201667,
          2.7775,
          2.9405555555556,
          2.81902778,
          2.7808333333333,
          12.630768775939941,
          3.23556,
          1.0833333333333,
          43.135833333333,
          5.65,
          34.4737,
          -106.11793518066406,
          28.466666666667,
          64.363333333333,
          30.05,
          126.92083333333,
          3.705,
          2.712778,
          -0.33236,
          65.649444444444,
          7.5,
          13.813888888889,
          65.45999145507812,
          2.47583,
          13.93326944,
          2.8424,
          34.4737,
          2.774,
          3.0211111111111,
          -75,
          42.91666667,
          126.63333333,
          51.197181701660156,
          0.106111,
          126.77681732177734,
          26.706667,
          -109.75154,
          2.8877222222222,
          127.45,
          3.2631185054779053,
          2.94361,
          -4.91472222,
          43.507833,
          23.604339599609375,
          2.894167,
          25.093055555556,
          2.9275,
          3.02111,
          -0.19194444444444,
          6.398611,
          3.116667,
          126.9782943725586,
          5.91667,
          -0.3625,
          12.624979,
          114.162,
          173.15688889,
          13.370064735412598,
          127.53333333333,
          -0.54361111,
          13.985516548156738,
          14.7566,
          2.78139,
          3.02111111,
          64.116667,
          68.70365142822266,
          2.29425,
          -3.4731099605560303,
          -109.5758361816406,
          -109.0008316040039,
          -105.9472198486328,
          -106.2327270507812,
          -109.0277633666992,
          null,
          null,
          null,
          null,
          null,
          null,
          null
         ],
         "marker": {
          "color": "#636efa",
          "symbol": "circle"
         },
         "mode": "markers",
         "name": "",
         "showlegend": false,
         "type": "scattergeo"
        }
       ],
       "layout": {
        "autosize": true,
        "geo": {
         "center": {},
         "domain": {
          "x": [
           0,
           1
          ],
          "y": [
           0,
           1
          ]
         }
        },
        "legend": {
         "tracegroupgap": 0
        },
        "template": {
         "data": {
          "bar": [
           {
            "error_x": {
             "color": "#2a3f5f"
            },
            "error_y": {
             "color": "#2a3f5f"
            },
            "marker": {
             "line": {
              "color": "#E5ECF6",
              "width": 0.5
             },
             "pattern": {
              "fillmode": "overlay",
              "size": 10,
              "solidity": 0.2
             }
            },
            "type": "bar"
           }
          ],
          "barpolar": [
           {
            "marker": {
             "line": {
              "color": "#E5ECF6",
              "width": 0.5
             },
             "pattern": {
              "fillmode": "overlay",
              "size": 10,
              "solidity": 0.2
             }
            },
            "type": "barpolar"
           }
          ],
          "carpet": [
           {
            "aaxis": {
             "endlinecolor": "#2a3f5f",
             "gridcolor": "white",
             "linecolor": "white",
             "minorgridcolor": "white",
             "startlinecolor": "#2a3f5f"
            },
            "baxis": {
             "endlinecolor": "#2a3f5f",
             "gridcolor": "white",
             "linecolor": "white",
             "minorgridcolor": "white",
             "startlinecolor": "#2a3f5f"
            },
            "type": "carpet"
           }
          ],
          "choropleth": [
           {
            "colorbar": {
             "outlinewidth": 0,
             "ticks": ""
            },
            "type": "choropleth"
           }
          ],
          "contour": [
           {
            "colorbar": {
             "outlinewidth": 0,
             "ticks": ""
            },
            "colorscale": [
             [
              0,
              "#0d0887"
             ],
             [
              0.1111111111111111,
              "#46039f"
             ],
             [
              0.2222222222222222,
              "#7201a8"
             ],
             [
              0.3333333333333333,
              "#9c179e"
             ],
             [
              0.4444444444444444,
              "#bd3786"
             ],
             [
              0.5555555555555556,
              "#d8576b"
             ],
             [
              0.6666666666666666,
              "#ed7953"
             ],
             [
              0.7777777777777778,
              "#fb9f3a"
             ],
             [
              0.8888888888888888,
              "#fdca26"
             ],
             [
              1,
              "#f0f921"
             ]
            ],
            "type": "contour"
           }
          ],
          "contourcarpet": [
           {
            "colorbar": {
             "outlinewidth": 0,
             "ticks": ""
            },
            "type": "contourcarpet"
           }
          ],
          "heatmap": [
           {
            "colorbar": {
             "outlinewidth": 0,
             "ticks": ""
            },
            "colorscale": [
             [
              0,
              "#0d0887"
             ],
             [
              0.1111111111111111,
              "#46039f"
             ],
             [
              0.2222222222222222,
              "#7201a8"
             ],
             [
              0.3333333333333333,
              "#9c179e"
             ],
             [
              0.4444444444444444,
              "#bd3786"
             ],
             [
              0.5555555555555556,
              "#d8576b"
             ],
             [
              0.6666666666666666,
              "#ed7953"
             ],
             [
              0.7777777777777778,
              "#fb9f3a"
             ],
             [
              0.8888888888888888,
              "#fdca26"
             ],
             [
              1,
              "#f0f921"
             ]
            ],
            "type": "heatmap"
           }
          ],
          "heatmapgl": [
           {
            "colorbar": {
             "outlinewidth": 0,
             "ticks": ""
            },
            "colorscale": [
             [
              0,
              "#0d0887"
             ],
             [
              0.1111111111111111,
              "#46039f"
             ],
             [
              0.2222222222222222,
              "#7201a8"
             ],
             [
              0.3333333333333333,
              "#9c179e"
             ],
             [
              0.4444444444444444,
              "#bd3786"
             ],
             [
              0.5555555555555556,
              "#d8576b"
             ],
             [
              0.6666666666666666,
              "#ed7953"
             ],
             [
              0.7777777777777778,
              "#fb9f3a"
             ],
             [
              0.8888888888888888,
              "#fdca26"
             ],
             [
              1,
              "#f0f921"
             ]
            ],
            "type": "heatmapgl"
           }
          ],
          "histogram": [
           {
            "marker": {
             "pattern": {
              "fillmode": "overlay",
              "size": 10,
              "solidity": 0.2
             }
            },
            "type": "histogram"
           }
          ],
          "histogram2d": [
           {
            "colorbar": {
             "outlinewidth": 0,
             "ticks": ""
            },
            "colorscale": [
             [
              0,
              "#0d0887"
             ],
             [
              0.1111111111111111,
              "#46039f"
             ],
             [
              0.2222222222222222,
              "#7201a8"
             ],
             [
              0.3333333333333333,
              "#9c179e"
             ],
             [
              0.4444444444444444,
              "#bd3786"
             ],
             [
              0.5555555555555556,
              "#d8576b"
             ],
             [
              0.6666666666666666,
              "#ed7953"
             ],
             [
              0.7777777777777778,
              "#fb9f3a"
             ],
             [
              0.8888888888888888,
              "#fdca26"
             ],
             [
              1,
              "#f0f921"
             ]
            ],
            "type": "histogram2d"
           }
          ],
          "histogram2dcontour": [
           {
            "colorbar": {
             "outlinewidth": 0,
             "ticks": ""
            },
            "colorscale": [
             [
              0,
              "#0d0887"
             ],
             [
              0.1111111111111111,
              "#46039f"
             ],
             [
              0.2222222222222222,
              "#7201a8"
             ],
             [
              0.3333333333333333,
              "#9c179e"
             ],
             [
              0.4444444444444444,
              "#bd3786"
             ],
             [
              0.5555555555555556,
              "#d8576b"
             ],
             [
              0.6666666666666666,
              "#ed7953"
             ],
             [
              0.7777777777777778,
              "#fb9f3a"
             ],
             [
              0.8888888888888888,
              "#fdca26"
             ],
             [
              1,
              "#f0f921"
             ]
            ],
            "type": "histogram2dcontour"
           }
          ],
          "mesh3d": [
           {
            "colorbar": {
             "outlinewidth": 0,
             "ticks": ""
            },
            "type": "mesh3d"
           }
          ],
          "parcoords": [
           {
            "line": {
             "colorbar": {
              "outlinewidth": 0,
              "ticks": ""
             }
            },
            "type": "parcoords"
           }
          ],
          "pie": [
           {
            "automargin": true,
            "type": "pie"
           }
          ],
          "scatter": [
           {
            "fillpattern": {
             "fillmode": "overlay",
             "size": 10,
             "solidity": 0.2
            },
            "type": "scatter"
           }
          ],
          "scatter3d": [
           {
            "line": {
             "colorbar": {
              "outlinewidth": 0,
              "ticks": ""
             }
            },
            "marker": {
             "colorbar": {
              "outlinewidth": 0,
              "ticks": ""
             }
            },
            "type": "scatter3d"
           }
          ],
          "scattercarpet": [
           {
            "marker": {
             "colorbar": {
              "outlinewidth": 0,
              "ticks": ""
             }
            },
            "type": "scattercarpet"
           }
          ],
          "scattergeo": [
           {
            "marker": {
             "colorbar": {
              "outlinewidth": 0,
              "ticks": ""
             }
            },
            "type": "scattergeo"
           }
          ],
          "scattergl": [
           {
            "marker": {
             "colorbar": {
              "outlinewidth": 0,
              "ticks": ""
             }
            },
            "type": "scattergl"
           }
          ],
          "scattermapbox": [
           {
            "marker": {
             "colorbar": {
              "outlinewidth": 0,
              "ticks": ""
             }
            },
            "type": "scattermapbox"
           }
          ],
          "scatterpolar": [
           {
            "marker": {
             "colorbar": {
              "outlinewidth": 0,
              "ticks": ""
             }
            },
            "type": "scatterpolar"
           }
          ],
          "scatterpolargl": [
           {
            "marker": {
             "colorbar": {
              "outlinewidth": 0,
              "ticks": ""
             }
            },
            "type": "scatterpolargl"
           }
          ],
          "scatterternary": [
           {
            "marker": {
             "colorbar": {
              "outlinewidth": 0,
              "ticks": ""
             }
            },
            "type": "scatterternary"
           }
          ],
          "surface": [
           {
            "colorbar": {
             "outlinewidth": 0,
             "ticks": ""
            },
            "colorscale": [
             [
              0,
              "#0d0887"
             ],
             [
              0.1111111111111111,
              "#46039f"
             ],
             [
              0.2222222222222222,
              "#7201a8"
             ],
             [
              0.3333333333333333,
              "#9c179e"
             ],
             [
              0.4444444444444444,
              "#bd3786"
             ],
             [
              0.5555555555555556,
              "#d8576b"
             ],
             [
              0.6666666666666666,
              "#ed7953"
             ],
             [
              0.7777777777777778,
              "#fb9f3a"
             ],
             [
              0.8888888888888888,
              "#fdca26"
             ],
             [
              1,
              "#f0f921"
             ]
            ],
            "type": "surface"
           }
          ],
          "table": [
           {
            "cells": {
             "fill": {
              "color": "#EBF0F8"
             },
             "line": {
              "color": "white"
             }
            },
            "header": {
             "fill": {
              "color": "#C8D4E3"
             },
             "line": {
              "color": "white"
             }
            },
            "type": "table"
           }
          ]
         },
         "layout": {
          "annotationdefaults": {
           "arrowcolor": "#2a3f5f",
           "arrowhead": 0,
           "arrowwidth": 1
          },
          "autotypenumbers": "strict",
          "coloraxis": {
           "colorbar": {
            "outlinewidth": 0,
            "ticks": ""
           }
          },
          "colorscale": {
           "diverging": [
            [
             0,
             "#8e0152"
            ],
            [
             0.1,
             "#c51b7d"
            ],
            [
             0.2,
             "#de77ae"
            ],
            [
             0.3,
             "#f1b6da"
            ],
            [
             0.4,
             "#fde0ef"
            ],
            [
             0.5,
             "#f7f7f7"
            ],
            [
             0.6,
             "#e6f5d0"
            ],
            [
             0.7,
             "#b8e186"
            ],
            [
             0.8,
             "#7fbc41"
            ],
            [
             0.9,
             "#4d9221"
            ],
            [
             1,
             "#276419"
            ]
           ],
           "sequential": [
            [
             0,
             "#0d0887"
            ],
            [
             0.1111111111111111,
             "#46039f"
            ],
            [
             0.2222222222222222,
             "#7201a8"
            ],
            [
             0.3333333333333333,
             "#9c179e"
            ],
            [
             0.4444444444444444,
             "#bd3786"
            ],
            [
             0.5555555555555556,
             "#d8576b"
            ],
            [
             0.6666666666666666,
             "#ed7953"
            ],
            [
             0.7777777777777778,
             "#fb9f3a"
            ],
            [
             0.8888888888888888,
             "#fdca26"
            ],
            [
             1,
             "#f0f921"
            ]
           ],
           "sequentialminus": [
            [
             0,
             "#0d0887"
            ],
            [
             0.1111111111111111,
             "#46039f"
            ],
            [
             0.2222222222222222,
             "#7201a8"
            ],
            [
             0.3333333333333333,
             "#9c179e"
            ],
            [
             0.4444444444444444,
             "#bd3786"
            ],
            [
             0.5555555555555556,
             "#d8576b"
            ],
            [
             0.6666666666666666,
             "#ed7953"
            ],
            [
             0.7777777777777778,
             "#fb9f3a"
            ],
            [
             0.8888888888888888,
             "#fdca26"
            ],
            [
             1,
             "#f0f921"
            ]
           ]
          },
          "colorway": [
           "#636efa",
           "#EF553B",
           "#00cc96",
           "#ab63fa",
           "#FFA15A",
           "#19d3f3",
           "#FF6692",
           "#B6E880",
           "#FF97FF",
           "#FECB52"
          ],
          "font": {
           "color": "#2a3f5f"
          },
          "geo": {
           "bgcolor": "white",
           "lakecolor": "white",
           "landcolor": "#E5ECF6",
           "showlakes": true,
           "showland": true,
           "subunitcolor": "white"
          },
          "hoverlabel": {
           "align": "left"
          },
          "hovermode": "closest",
          "mapbox": {
           "style": "light"
          },
          "paper_bgcolor": "white",
          "plot_bgcolor": "#E5ECF6",
          "polar": {
           "angularaxis": {
            "gridcolor": "white",
            "linecolor": "white",
            "ticks": ""
           },
           "bgcolor": "#E5ECF6",
           "radialaxis": {
            "gridcolor": "white",
            "linecolor": "white",
            "ticks": ""
           }
          },
          "scene": {
           "xaxis": {
            "backgroundcolor": "#E5ECF6",
            "gridcolor": "white",
            "gridwidth": 2,
            "linecolor": "white",
            "showbackground": true,
            "ticks": "",
            "zerolinecolor": "white"
           },
           "yaxis": {
            "backgroundcolor": "#E5ECF6",
            "gridcolor": "white",
            "gridwidth": 2,
            "linecolor": "white",
            "showbackground": true,
            "ticks": "",
            "zerolinecolor": "white"
           },
           "zaxis": {
            "backgroundcolor": "#E5ECF6",
            "gridcolor": "white",
            "gridwidth": 2,
            "linecolor": "white",
            "showbackground": true,
            "ticks": "",
            "zerolinecolor": "white"
           }
          },
          "shapedefaults": {
           "line": {
            "color": "#2a3f5f"
           }
          },
          "ternary": {
           "aaxis": {
            "gridcolor": "white",
            "linecolor": "white",
            "ticks": ""
           },
           "baxis": {
            "gridcolor": "white",
            "linecolor": "white",
            "ticks": ""
           },
           "bgcolor": "#E5ECF6",
           "caxis": {
            "gridcolor": "white",
            "linecolor": "white",
            "ticks": ""
           }
          },
          "title": {
           "x": 0.05
          },
          "xaxis": {
           "automargin": true,
           "gridcolor": "white",
           "linecolor": "white",
           "ticks": "",
           "title": {
            "standoff": 15
           },
           "zerolinecolor": "white",
           "zerolinewidth": 2
          },
          "yaxis": {
           "automargin": true,
           "gridcolor": "white",
           "linecolor": "white",
           "ticks": "",
           "title": {
            "standoff": 15
           },
           "zerolinecolor": "white",
           "zerolinewidth": 2
          }
         }
        },
        "title": {
         "text": "Battles participated in by post-Confederation Canada"
        }
       }
      },
      "image/png": "[encoded data removed]",
      "text/html": [
       "<div>                            <div id=\"5cdd06fe-06b0-4ae4-9166-c0716a9abaf6\" class=\"plotly-graph-div\" style=\"height:800px; width:100%;\"></div>            <script type=\"text/javascript\">                require([\"plotly\"], function(Plotly) {                    window.PLOTLYENV=window.PLOTLYENV || {};                                    if (document.getElementById(\"5cdd06fe-06b0-4ae4-9166-c0716a9abaf6\")) {                    Plotly.newPlot(                        \"5cdd06fe-06b0-4ae4-9166-c0716a9abaf6\",                        [{\"customdata\":[[\"Western Front of World War I\",1918.0],[\"Spring Offensive\",1918.0],[\"Western Front of World War I\",1917.0],[\"Western Front of World War I\",1915.0],[\"Western Front of World War I\",1916.0],[\"War in Afghanistan\",2002.0],[\"Battle of the Somme\",1916.0],[null,1944.0],[\"Spring Offensive\",1918.0],[\"World War II\",1945.0],[\"War in Afghanistan\",2007.0],[\"Moro River Campaign\",1943.0],[\"Invasion of Normandy\",1944.0],[\"Operation Overlord\",1944.0],[\"Fenian raids\",1870.0],[\"Normandy landings\",1944.0],[\"Iraqi Civil War (2014\\u20132017)\",2014.0],[\"War in Afghanistan\",2006.0],[\"Western Front of World War I\",1915.0],[\"Anbar offensive\",2014.0],[\"Korean War\",1952.0],[\"Pacific War\",1945.0],[\"World War I\",1915.0],[\"World War I\",1918.0],[\"World War II\",1942.0],[\"Western Front of World War I\",1916.0],[\"War in Afghanistan\",2010.0],[\"World War I\",1914.0],[\"World War II\",1940.0],[\"Iraqi Civil War (2014\\u20132017)\",2015.0],[null,1942.0],[\"Western Front of World War I\",1915.0],[\"World War II\",1945.0],[null,1945.0],[\"Second Boer War\",1900.0],[\"2011 Libyan Civil War\",2011.0],[\"Western Front of World War I\",1915.0],[\"Western Front of World War I\",1915.0],[\"World War I\",1917.0],[\"Western Front of World War I\",1917.0],[\"Italian campaign\",1944.0],[\"World War I\",1918.0],[\"North West Europe Campaign\",1942.0],[\"American-led intervention in Iraq (2014\\u2013present)\",2016.0],[\"World War II\",1945.0],[\"Middle Eastern theatre of World War I\",1917.0],[\"North-West Rebellion\",1885.0],[\"Second Boer War\",1900.0],[\"War in Afghanistan\",2006.0],[\"Second Boer War\",1900.0],[\"Korean War\",1951.0],[\"Battle of the Scheldt\",1944.0],[\"Battle of the Somme\",1916.0],[\"World War II\",1944.0],[\"War in Afghanistan\",2008.0],[\"strategic bombing during World War II\",1943.0],[null,1944.0],[\"War in Afghanistan\",2006.0],[\"Battle of the Somme\",1916.0],[\"Italian campaign\",1943.0],[\"Battle of the Somme\",1916.0],[\"Middle Eastern theatre of World War I\",1917.0],[\"World War I\",1917.0],[\"Western Front of World War I\",1917.0],[\"World War II\",1941.0],[\"North Russia Intervention\",1919.0],[\"Korean War\",1950.0],[\"Gulf War\",1991.0],[\"World War II\",1944.0],[\"Korean War\",1951.0],[\"Second Boer War\",1900.0],[\"North-West Rebellion\",1885.0],[\"Battle of the Somme\",1916.0],[\"Korean War\",1951.0],[null,1944.0],[\"Western Front of World War I\",1916.0],[\"World War II\",1944.0],[\"Russian Civil War\",1918.0],[\"Second Boer War\",1900.0],[\"Western Front of World War I\",1918.0],[\"Second Boer War\",1900.0],[\"World War I\",1918.0],[\"Western Front of World War I\",1918.0],[\"Operation Overlord\",1944.0],[\"Mediterranean and Middle East theatre of World War II\",1944.0],[\"Hundred Days Offensive\",1918.0],[\"Korean War\",1950.0],[null,1945.0],[\"Operation Overlord\",1944.0],[\"Italian campaign\",1944.0],[\"Pacific War\",1941.0],[null,1943.0],[\"Battle of Monte Cassino\",1944.0],[\"Korean War\",1951.0],[\"World War II\",1944.0],[\"Italian campaign\",1943.0],[\"World War II\",1943.0],[\"Battle of the Somme\",1916.0],[\"Battle of Passchendaele\",1917.0],[\"War in Afghanistan\",2010.0],[\"War in Afghanistan\",2006.0],[\"Western Front of World War I\",1918.0],[\"World War II\",1944.0],[\"North-West Rebellion\",1885.0],[\"North-West Rebellion\",1885.0],[\"North-West Rebellion\",1885.0],[\"North-West Rebellion\",1885.0],[\"North-West Rebellion\",1885.0],[\"Northern Mali conflict\",2013.0],[null,1945.0],[\"World War II\",1942.0],[\"World War II\",1945.0],[null,1944.0],[\"World War II\",1944.0],[null,1945.0]],\"geo\":\"geo\",\"hovertemplate\":\"<b>%{hovertext}</b><br><br>lat=%{lat}<br>lng=%{lon}<br>war=%{customdata[0]}<br>year=%{customdata[1]}<extra></extra>\",\"hovertext\":[\"Second Battle of the Somme\",\"Battle of the Lys\",\"Battle of Messines\",\"Battle of Kitcheners' Wood\",\"Battle of the Somme\",\"Operation Anaconda\",\"Battle of Flers\\u2013Courcelette\",\"Battle of the Bulge\",\"Operation Michael\",\"Operation Teardrop\",\"Operation Achilles\",\"Battle of Ortona\",\"Normandy landings\",\"Invasion of Normandy\",\"Battle of Trout River\",\"Operation Tonga\",\"Battle of Baiji\",\"Operation Medusa\",\"Battle of Hill 60\",\"Battle of Ramadi\",\"Second Battle of the Hook\",\"Battle of Okinawa\",\"Battle of Festubert\",\"Battle of Moreuil Wood\",\"Battle of the St. Lawrence\",\"Battle of Thiepval Ridge\",\"Operation Dragon Strike\",\"Battle of Givenchy\",\"Battle of Dunkirk\",\"Battle of Ramadi\",\"Battle of the Bell Islands\",\"Second Battle of Artois\",\"Battle of Groningen\",\"Battle for the Kapelsche Veer\",\"Battle of Paardeberg\",\"Battle of Misrata\",\"Battle of Neuve Chapelle\",\"Second Battle of Ypres\",\"Battle of Hill 70\",\"Battle of Arras\",\"Battle of Rimini\",\"Battle of Cambrai\",\"Dieppe Raid\",\"Battle of Mosul (2016\\u201317)\",\"Black Friday\",\"First Battle of Gaza\",\"Battle of Batoche\",\"Battle of Diamond Hill\",\"Friendly fire incident at Sangin\",\"Battle of Leliefontein\",\"First Battle of Maryang-san\",\"Battle of Walcheren Causeway\",\"Battle of Mouquet Farm\",\"Battle of Verri\\u00e8res Ridge\",\"Battle of Arghandab\",\"Battle of the Ruhr\",\"Battle of Monte Cassino\",\"Battle of Panjwaii\",\"Battle of the Ancre Heights\",\"Monte la Difensa\",\"Battle of Morval\",\"Second Battle of Gaza\",\"Battle of Vimy Ridge\",\"Battle of Passchendaele\",\"Battle of the Caribbean\",\"Battle of Shenkursk\",\"Battle of Inchon\",\"Battle of Bubiyan\",\"Battle of Chambois\",\"Battle of Chuam-ni\",\"Battle of Elands River\",\"Battle of Fort Pitt\",\"Battle of Le Transloy\",\"Battle of Maehwa-san\",\"battle of Moerbrugge\",\"Battle of Mont Sorrel\",\"Battle of Pierres Noires\",\"Battle of Tulgas\",\"Battle of Witpoort\",\"Battle of the Scarpe\",\"Bloody Sunday\",\"Battle of Drocourt-Qu\\u00e9ant Line\",\"Fifth Battle of Ypres\",\"Falaise Pocket\",\"Battle of Port Cros\",\"Battle of the Canal du Nord\",\"Second Battle of Seoul\",\"Liberation of Arnhem\",\"Battle for Caen\",\"Battle of Anzio\",\"Battle of Hong Kong\",\"Battle of Attu\",\"Operation Diadem\",\"Battle of Kapyong\",\"Battle of Le Mesnil-Patry\",\"Bernhardt Line\",\"Allied invasion of Italy\",\"Regina Trench\",\"Second Battle of Passchendaele\",\"Operation Moshtarak\",\"Operation Mountain Fury\",\"Battle of Amiens\",\"Action of 26 April 1944\",\"Battle of Frenchman's Butte\",\"Battle of Loon Lake\",\"Battle of Fish Creek\",\"Battle of Duck Lake\",\"Battle of Cut Knife\",null,null,null,null,null,null,null],\"lat\":[49.968971252441406,50.70555556,50.7625,50.89,50.0155,33.366666666667,50.05888889,50.6243,49.85,40.0,32.07333333,42.35,49.333333333333,49.333333333333,45.087337493896484,49.18100357055664,34.933333333333,31.547777777778,50.821388888889,33.416666666667,38.029111,26.5,50.54388889,49.7831,48.90331268310547,50.054527777778,31.620643615722656,50.5294,51.0343,33.416666666667,47.625511169433594,50.5,53.2186,51.708,-28.9825,32.37753333,50.585,50.899444444444,50.45555556,50.289722222222,43.94709777832031,50.1767,49.933333333333,36.337222222222,61.46666667,31.4893,52.75600814819336,-25.783333333333,31.589166666667,-25.96666667,38.135,51.5031,50.051111,49.11038,31.654722222222,51.5,41.49,31.546222686767578,49.9067,41.3833,50.0316,31.4893,50.379,50.900277777778,15.0,62.1,37.48333333,27.238235473632812,48.8058,36.293739318847656,-25.649444,53.65018,50.057388888889,37.016667,51.162322998046875,50.8464,48.21166667,62.594388,-29.913196563720703,50.270556,-28.9825,50.391944444444,50.9003,48.892777777778,43.005,50.283333,37.566680908203125,51.9833,49.186111111111,41.443022,22.2819,52.879075,41.96673583984375,37.883333333333,49.19583333,41.40591812133789,40.679,50.0717,50.90027778,31.516667,32.39362335205078,49.893913888889,48.89720916748047,53.62722396850586,54.04055404663086,52.60194396972656,52.81650924682617,52.74530792236328,null,null,null,null,null,null,null],\"legendgroup\":\"\",\"lon\":[2.37385892868042,2.9,2.8952777777778,2.922,2.69742,69.183333333333,2.74777778,6.13724,3.28333,-40.0,64.83388889,14.4,-0.56694444444444,-0.56666666666667,-74.1738510131836,-0.369891494512558,43.483333333333,65.454166666667,2.9316666666667,43.3,126.8425,128.0,2.73611111,2.5,-61.373878479003906,2.6883888888889,65.7157211303711,2.75861,2.3768194444444,43.3,-52.96726608276367,2.75,6.56722,4.929,25.09305556,15.09201667,2.7775,2.9405555555556,2.81902778,2.7808333333333,12.630768775939941,3.23556,1.0833333333333,43.135833333333,5.65,34.4737,-106.11793518066406,28.466666666667,64.363333333333,30.05,126.92083333333,3.705,2.712778,-0.33236,65.649444444444,7.5,13.813888888889,65.45999145507812,2.47583,13.93326944,2.8424,34.4737,2.774,3.0211111111111,-75.0,42.91666667,126.63333333,51.197181701660156,0.106111,126.77681732177734,26.706667,-109.75154,2.8877222222222,127.45,3.2631185054779053,2.94361,-4.91472222,43.507833,23.604339599609375,2.894167,25.093055555556,2.9275,3.02111,-0.19194444444444,6.398611,3.116667,126.9782943725586,5.91667,-0.3625,12.624979,114.162,173.15688889,13.370064735412598,127.53333333333,-0.54361111,13.985516548156738,14.7566,2.78139,3.02111111,64.116667,68.70365142822266,2.29425,-3.4731099605560303,-109.5758361816406,-109.0008316040039,-105.9472198486328,-106.2327270507812,-109.0277633666992,null,null,null,null,null,null,null],\"marker\":{\"color\":\"#636efa\",\"symbol\":\"circle\"},\"mode\":\"markers\",\"name\":\"\",\"showlegend\":false,\"type\":\"scattergeo\"}],                        {\"template\":{\"data\":{\"histogram2dcontour\":[{\"type\":\"histogram2dcontour\",\"colorbar\":{\"outlinewidth\":0,\"ticks\":\"\"},\"colorscale\":[[0.0,\"#0d0887\"],[0.1111111111111111,\"#46039f\"],[0.2222222222222222,\"#7201a8\"],[0.3333333333333333,\"#9c179e\"],[0.4444444444444444,\"#bd3786\"],[0.5555555555555556,\"#d8576b\"],[0.6666666666666666,\"#ed7953\"],[0.7777777777777778,\"#fb9f3a\"],[0.8888888888888888,\"#fdca26\"],[1.0,\"#f0f921\"]]}],\"choropleth\":[{\"type\":\"choropleth\",\"colorbar\":{\"outlinewidth\":0,\"ticks\":\"\"}}],\"histogram2d\":[{\"type\":\"histogram2d\",\"colorbar\":{\"outlinewidth\":0,\"ticks\":\"\"},\"colorscale\":[[0.0,\"#0d0887\"],[0.1111111111111111,\"#46039f\"],[0.2222222222222222,\"#7201a8\"],[0.3333333333333333,\"#9c179e\"],[0.4444444444444444,\"#bd3786\"],[0.5555555555555556,\"#d8576b\"],[0.6666666666666666,\"#ed7953\"],[0.7777777777777778,\"#fb9f3a\"],[0.8888888888888888,\"#fdca26\"],[1.0,\"#f0f921\"]]}],\"heatmap\":[{\"type\":\"heatmap\",\"colorbar\":{\"outlinewidth\":0,\"ticks\":\"\"},\"colorscale\":[[0.0,\"#0d0887\"],[0.1111111111111111,\"#46039f\"],[0.2222222222222222,\"#7201a8\"],[0.3333333333333333,\"#9c179e\"],[0.4444444444444444,\"#bd3786\"],[0.5555555555555556,\"#d8576b\"],[0.6666666666666666,\"#ed7953\"],[0.7777777777777778,\"#fb9f3a\"],[0.8888888888888888,\"#fdca26\"],[1.0,\"#f0f921\"]]}],\"heatmapgl\":[{\"type\":\"heatmapgl\",\"colorbar\":{\"outlinewidth\":0,\"ticks\":\"\"},\"colorscale\":[[0.0,\"#0d0887\"],[0.1111111111111111,\"#46039f\"],[0.2222222222222222,\"#7201a8\"],[0.3333333333333333,\"#9c179e\"],[0.4444444444444444,\"#bd3786\"],[0.5555555555555556,\"#d8576b\"],[0.6666666666666666,\"#ed7953\"],[0.7777777777777778,\"#fb9f3a\"],[0.8888888888888888,\"#fdca26\"],[1.0,\"#f0f921\"]]}],\"contourcarpet\":[{\"type\":\"contourcarpet\",\"colorbar\":{\"outlinewidth\":0,\"ticks\":\"\"}}],\"contour\":[{\"type\":\"contour\",\"colorbar\":{\"outlinewidth\":0,\"ticks\":\"\"},\"colorscale\":[[0.0,\"#0d0887\"],[0.1111111111111111,\"#46039f\"],[0.2222222222222222,\"#7201a8\"],[0.3333333333333333,\"#9c179e\"],[0.4444444444444444,\"#bd3786\"],[0.5555555555555556,\"#d8576b\"],[0.6666666666666666,\"#ed7953\"],[0.7777777777777778,\"#fb9f3a\"],[0.8888888888888888,\"#fdca26\"],[1.0,\"#f0f921\"]]}],\"surface\":[{\"type\":\"surface\",\"colorbar\":{\"outlinewidth\":0,\"ticks\":\"\"},\"colorscale\":[[0.0,\"#0d0887\"],[0.1111111111111111,\"#46039f\"],[0.2222222222222222,\"#7201a8\"],[0.3333333333333333,\"#9c179e\"],[0.4444444444444444,\"#bd3786\"],[0.5555555555555556,\"#d8576b\"],[0.6666666666666666,\"#ed7953\"],[0.7777777777777778,\"#fb9f3a\"],[0.8888888888888888,\"#fdca26\"],[1.0,\"#f0f921\"]]}],\"mesh3d\":[{\"type\":\"mesh3d\",\"colorbar\":{\"outlinewidth\":0,\"ticks\":\"\"}}],\"scatter\":[{\"fillpattern\":{\"fillmode\":\"overlay\",\"size\":10,\"solidity\":0.2},\"type\":\"scatter\"}],\"parcoords\":[{\"type\":\"parcoords\",\"line\":{\"colorbar\":{\"outlinewidth\":0,\"ticks\":\"\"}}}],\"scatterpolargl\":[{\"type\":\"scatterpolargl\",\"marker\":{\"colorbar\":{\"outlinewidth\":0,\"ticks\":\"\"}}}],\"bar\":[{\"error_x\":{\"color\":\"#2a3f5f\"},\"error_y\":{\"color\":\"#2a3f5f\"},\"marker\":{\"line\":{\"color\":\"#E5ECF6\",\"width\":0.5},\"pattern\":{\"fillmode\":\"overlay\",\"size\":10,\"solidity\":0.2}},\"type\":\"bar\"}],\"scattergeo\":[{\"type\":\"scattergeo\",\"marker\":{\"colorbar\":{\"outlinewidth\":0,\"ticks\":\"\"}}}],\"scatterpolar\":[{\"type\":\"scatterpolar\",\"marker\":{\"colorbar\":{\"outlinewidth\":0,\"ticks\":\"\"}}}],\"histogram\":[{\"marker\":{\"pattern\":{\"fillmode\":\"overlay\",\"size\":10,\"solidity\":0.2}},\"type\":\"histogram\"}],\"scattergl\":[{\"type\":\"scattergl\",\"marker\":{\"colorbar\":{\"outlinewidth\":0,\"ticks\":\"\"}}}],\"scatter3d\":[{\"type\":\"scatter3d\",\"line\":{\"colorbar\":{\"outlinewidth\":0,\"ticks\":\"\"}},\"marker\":{\"colorbar\":{\"outlinewidth\":0,\"ticks\":\"\"}}}],\"scattermapbox\":[{\"type\":\"scattermapbox\",\"marker\":{\"colorbar\":{\"outlinewidth\":0,\"ticks\":\"\"}}}],\"scatterternary\":[{\"type\":\"scatterternary\",\"marker\":{\"colorbar\":{\"outlinewidth\":0,\"ticks\":\"\"}}}],\"scattercarpet\":[{\"type\":\"scattercarpet\",\"marker\":{\"colorbar\":{\"outlinewidth\":0,\"ticks\":\"\"}}}],\"carpet\":[{\"aaxis\":{\"endlinecolor\":\"#2a3f5f\",\"gridcolor\":\"white\",\"linecolor\":\"white\",\"minorgridcolor\":\"white\",\"startlinecolor\":\"#2a3f5f\"},\"baxis\":{\"endlinecolor\":\"#2a3f5f\",\"gridcolor\":\"white\",\"linecolor\":\"white\",\"minorgridcolor\":\"white\",\"startlinecolor\":\"#2a3f5f\"},\"type\":\"carpet\"}],\"table\":[{\"cells\":{\"fill\":{\"color\":\"#EBF0F8\"},\"line\":{\"color\":\"white\"}},\"header\":{\"fill\":{\"color\":\"#C8D4E3\"},\"line\":{\"color\":\"white\"}},\"type\":\"table\"}],\"barpolar\":[{\"marker\":{\"line\":{\"color\":\"#E5ECF6\",\"width\":0.5},\"pattern\":{\"fillmode\":\"overlay\",\"size\":10,\"solidity\":0.2}},\"type\":\"barpolar\"}],\"pie\":[{\"automargin\":true,\"type\":\"pie\"}]},\"layout\":{\"autotypenumbers\":\"strict\",\"colorway\":[\"#636efa\",\"#EF553B\",\"#00cc96\",\"#ab63fa\",\"#FFA15A\",\"#19d3f3\",\"#FF6692\",\"#B6E880\",\"#FF97FF\",\"#FECB52\"],\"font\":{\"color\":\"#2a3f5f\"},\"hovermode\":\"closest\",\"hoverlabel\":{\"align\":\"left\"},\"paper_bgcolor\":\"white\",\"plot_bgcolor\":\"#E5ECF6\",\"polar\":{\"bgcolor\":\"#E5ECF6\",\"angularaxis\":{\"gridcolor\":\"white\",\"linecolor\":\"white\",\"ticks\":\"\"},\"radialaxis\":{\"gridcolor\":\"white\",\"linecolor\":\"white\",\"ticks\":\"\"}},\"ternary\":{\"bgcolor\":\"#E5ECF6\",\"aaxis\":{\"gridcolor\":\"white\",\"linecolor\":\"white\",\"ticks\":\"\"},\"baxis\":{\"gridcolor\":\"white\",\"linecolor\":\"white\",\"ticks\":\"\"},\"caxis\":{\"gridcolor\":\"white\",\"linecolor\":\"white\",\"ticks\":\"\"}},\"coloraxis\":{\"colorbar\":{\"outlinewidth\":0,\"ticks\":\"\"}},\"colorscale\":{\"sequential\":[[0.0,\"#0d0887\"],[0.1111111111111111,\"#46039f\"],[0.2222222222222222,\"#7201a8\"],[0.3333333333333333,\"#9c179e\"],[0.4444444444444444,\"#bd3786\"],[0.5555555555555556,\"#d8576b\"],[0.6666666666666666,\"#ed7953\"],[0.7777777777777778,\"#fb9f3a\"],[0.8888888888888888,\"#fdca26\"],[1.0,\"#f0f921\"]],\"sequentialminus\":[[0.0,\"#0d0887\"],[0.1111111111111111,\"#46039f\"],[0.2222222222222222,\"#7201a8\"],[0.3333333333333333,\"#9c179e\"],[0.4444444444444444,\"#bd3786\"],[0.5555555555555556,\"#d8576b\"],[0.6666666666666666,\"#ed7953\"],[0.7777777777777778,\"#fb9f3a\"],[0.8888888888888888,\"#fdca26\"],[1.0,\"#f0f921\"]],\"diverging\":[[0,\"#8e0152\"],[0.1,\"#c51b7d\"],[0.2,\"#de77ae\"],[0.3,\"#f1b6da\"],[0.4,\"#fde0ef\"],[0.5,\"#f7f7f7\"],[0.6,\"#e6f5d0\"],[0.7,\"#b8e186\"],[0.8,\"#7fbc41\"],[0.9,\"#4d9221\"],[1,\"#276419\"]]},\"xaxis\":{\"gridcolor\":\"white\",\"linecolor\":\"white\",\"ticks\":\"\",\"title\":{\"standoff\":15},\"zerolinecolor\":\"white\",\"automargin\":true,\"zerolinewidth\":2},\"yaxis\":{\"gridcolor\":\"white\",\"linecolor\":\"white\",\"ticks\":\"\",\"title\":{\"standoff\":15},\"zerolinecolor\":\"white\",\"automargin\":true,\"zerolinewidth\":2},\"scene\":{\"xaxis\":{\"backgroundcolor\":\"#E5ECF6\",\"gridcolor\":\"white\",\"linecolor\":\"white\",\"showbackground\":true,\"ticks\":\"\",\"zerolinecolor\":\"white\",\"gridwidth\":2},\"yaxis\":{\"backgroundcolor\":\"#E5ECF6\",\"gridcolor\":\"white\",\"linecolor\":\"white\",\"showbackground\":true,\"ticks\":\"\",\"zerolinecolor\":\"white\",\"gridwidth\":2},\"zaxis\":{\"backgroundcolor\":\"#E5ECF6\",\"gridcolor\":\"white\",\"linecolor\":\"white\",\"showbackground\":true,\"ticks\":\"\",\"zerolinecolor\":\"white\",\"gridwidth\":2}},\"shapedefaults\":{\"line\":{\"color\":\"#2a3f5f\"}},\"annotationdefaults\":{\"arrowcolor\":\"#2a3f5f\",\"arrowhead\":0,\"arrowwidth\":1},\"geo\":{\"bgcolor\":\"white\",\"landcolor\":\"#E5ECF6\",\"subunitcolor\":\"white\",\"showland\":true,\"showlakes\":true,\"lakecolor\":\"white\"},\"title\":{\"x\":0.05},\"mapbox\":{\"style\":\"light\"}}},\"geo\":{\"domain\":{\"x\":[0.0,1.0],\"y\":[0.0,1.0]},\"center\":{}},\"legend\":{\"tracegroupgap\":0},\"title\":{\"text\":\"Battles participated in by post-Confederation Canada\"},\"height\":800},                        {\"responsive\": true}                    ).then(function(){\n",
       "                            \n",
       "var gd = document.getElementById('5cdd06fe-06b0-4ae4-9166-c0716a9abaf6');\n",
       "var x = new MutationObserver(function (mutations, observer) {{\n",
       "        var display = window.getComputedStyle(gd).display;\n",
       "        if (!display || display === 'none') {{\n",
       "            console.log([gd, 'removed!']);\n",
       "            Plotly.purge(gd);\n",
       "            observer.disconnect();\n",
       "        }}\n",
       "}});\n",
       "\n",
       "// Listen for the removal of the full notebook cells\n",
       "var notebookContainer = gd.closest('#notebook-container');\n",
       "if (notebookContainer) {{\n",
       "    x.observe(notebookContainer, {childList: true});\n",
       "}}\n",
       "\n",
       "// Listen for the clearing of the current output cell\n",
       "var outputEl = gd.closest('.output');\n",
       "if (outputEl) {{\n",
       "    x.observe(outputEl, {childList: true});\n",
       "}}\n",
       "\n",
       "                        })                };                });            </script>        </div>"
      ]
     },
     "metadata": {},
     "output_type": "display_data"
    }
   ],
   "source": [
    "px.scatter_geo(candata, lat='lat', lon='lng', \n",
    "               height=800, hover_name='bname', \n",
    "               hover_data=['war', 'year'],\n",
    "               title='Battles participated in by post-Confederation Canada')"
   ]
  },
  {
   "cell_type": "markdown",
   "id": "2cbfd8e0-57bf-4f1b-9172-c414470e4326",
   "metadata": {},
   "source": [
    "But these only consider battles that happened after Confederation, as the sovereign state of Canada didn't exist yet. We can also look at battles that happened in geographic Canada by only considering lattitude and longitude values in that region:"
   ]
  },
  {
   "cell_type": "code",
   "execution_count": 110,
   "id": "50474b15-0c5f-44a1-9015-9b08d5e21f28",
   "metadata": {},
   "outputs": [
    {
     "data": {
      "application/vnd.plotly.v1+json": {
       "config": {
        "plotlyServerURL": "https://plot.ly"
       },
       "data": [
        {
         "customdata": [
          [
           "French and Indian War",
           1758
          ],
          [
           "French and Indian War",
           1758
          ],
          [
           "War of 1812",
           1812
          ],
          [
           "War of 1812",
           1812
          ],
          [
           "War of 1812",
           1812
          ],
          [
           "War of 1812",
           1812
          ],
          [
           "War of 1812",
           1812
          ],
          [
           "War of 1812",
           1812
          ],
          [
           "War of 1812",
           1813
          ],
          [
           "War of 1812",
           1813
          ],
          [
           "War of 1812",
           1813
          ],
          [
           "War of 1812",
           1812
          ],
          [
           "War of 1812",
           1812
          ],
          [
           "Beaver Wars",
           1610
          ],
          [
           "Beaver Wars",
           1610
          ],
          [
           "Beaver Wars",
           1610
          ],
          [
           "Beaver Wars",
           1610
          ],
          [
           "Beaver Wars",
           1610
          ],
          [
           "Beaver Wars",
           1689
          ],
          [
           "Beaver Wars",
           1689
          ],
          [
           "Fenian raids",
           1870
          ],
          [
           "Fenian raids",
           1870
          ],
          [
           "King William's War",
           1690
          ],
          [
           "King William's War",
           1690
          ],
          [
           "King William's War",
           1690
          ],
          [
           "King William's War",
           1690
          ],
          [
           "War of 1812",
           1813
          ],
          [
           "War of 1812",
           1813
          ],
          [
           "World War II",
           1942
          ],
          [
           "World War II",
           1942
          ],
          [
           "World War II",
           1942
          ],
          [
           "War of 1812",
           1812
          ],
          [
           "War of 1812",
           1812
          ],
          [
           "War of 1812",
           1812
          ],
          [
           "Seven Years' War",
           1757
          ],
          [
           "Seven Years' War",
           1757
          ],
          [
           "Seven Years' War",
           1757
          ],
          [
           "War of 1812",
           1814
          ],
          [
           "War of 1812",
           1814
          ],
          [
           "War of 1812",
           1814
          ],
          [
           "War of 1812",
           1814
          ],
          [
           "War of 1812",
           1814
          ],
          [
           "War of 1812",
           1814
          ],
          [
           "Seven Years' War",
           1755
          ],
          [
           "Seven Years' War",
           1755
          ],
          [
           "Seven Years' War",
           1755
          ],
          [
           "Seven Years' War",
           1755
          ],
          [
           "Norse colonization of the Americas",
           1010
          ],
          [
           "Norse colonization of the Americas",
           1010
          ],
          [
           "Norse colonization of the Americas",
           1003
          ],
          [
           "Norse colonization of the Americas",
           1003
          ],
          [
           "Seven Years' War",
           1759
          ],
          [
           "Seven Years' War",
           1759
          ],
          [
           "Seven Years' War",
           1759
          ],
          [
           "Father Rale's War",
           1722
          ],
          [
           "Father Rale's War",
           1722
          ],
          [
           "Queen Anne's War",
           1704
          ],
          [
           "Queen Anne's War",
           1704
          ],
          [
           "Queen Anne's War",
           1704
          ],
          [
           "Lower Canada Rebellion",
           1838
          ],
          [
           "Lower Canada Rebellion",
           1838
          ],
          [
           "War of 1812",
           1813
          ],
          [
           "War of 1812",
           1813
          ],
          [
           "Lower Canada Rebellion",
           1838
          ],
          [
           "Lower Canada Rebellion",
           1838
          ],
          [
           "North-West Rebellion",
           1885
          ],
          [
           "North-West Rebellion",
           1885
          ],
          [
           "Lower Canada Rebellion",
           1838
          ],
          [
           "Lower Canada Rebellion",
           1838
          ],
          [
           "Lower Canada Rebellion",
           1838
          ],
          [
           "Lower Canada Rebellion",
           1838
          ],
          [
           "War of 1812",
           1812
          ],
          [
           "War of 1812",
           1812
          ],
          [
           "Seven Years' War",
           1756
          ],
          [
           "Seven Years' War",
           1756
          ],
          [
           "Seven Years' War",
           1756
          ],
          [
           "Seven Years' War",
           1758
          ],
          [
           "Seven Years' War",
           1758
          ],
          [
           "Seven Years' War",
           1758
          ],
          [
           "French and Indian War",
           1759
          ],
          [
           "French and Indian War",
           1759
          ],
          [
           "French and Indian War",
           1759
          ],
          [
           "French and Indian War",
           1759
          ],
          [
           "French and Indian War",
           1759
          ],
          [
           "Seven Years' War",
           1756
          ],
          [
           "Seven Years' War",
           1756
          ],
          [
           "Seven Years' War",
           1756
          ],
          [
           "King George's War",
           1747
          ],
          [
           "King George's War",
           1747
          ],
          [
           "King George's War",
           1747
          ],
          [
           "King George's War",
           1747
          ],
          [
           "Lower Canada Rebellion",
           1838
          ],
          [
           "Lower Canada Rebellion",
           1838
          ],
          [
           "Seven Years' War",
           1755
          ],
          [
           "Seven Years' War",
           1755
          ],
          [
           "Seven Years' War",
           1755
          ],
          [
           "Seven Years' War",
           1755
          ],
          [
           "Fenian raids",
           1866
          ],
          [
           "Fenian raids",
           1866
          ],
          [
           "Lower Canada Rebellion",
           1837
          ],
          [
           "Lower Canada Rebellion",
           1837
          ],
          [
           "Lower Canada Rebellion",
           1837
          ],
          [
           "Lower Canada Rebellion",
           1837
          ],
          [
           "War of 1812",
           1814
          ],
          [
           "War of 1812",
           1814
          ],
          [
           "War of 1812",
           1814
          ],
          [
           "King William's War",
           1696
          ],
          [
           "King William's War",
           1696
          ],
          [
           "Nine Years' War",
           1697
          ],
          [
           "Nine Years' War",
           1697
          ],
          [
           "Seven Years' War",
           1760
          ],
          [
           "Seven Years' War",
           1760
          ],
          [
           "Seven Years' War",
           1760
          ],
          [
           "Seven Years' War",
           1760
          ],
          [
           "Seven Years' War",
           1760
          ],
          [
           "Upper Canada Rebellion",
           1838
          ],
          [
           "Upper Canada Rebellion",
           1838
          ],
          [
           "Upper Canada Rebellion",
           1838
          ],
          [
           "Upper Canada Rebellion",
           1838
          ],
          [
           "Seven Years' War",
           1763
          ],
          [
           "Seven Years' War",
           1763
          ],
          [
           "Seven Years' War",
           1763
          ],
          [
           "Queen Anne's War",
           1704
          ],
          [
           "Queen Anne's War",
           1704
          ],
          [
           "Queen Anne's War",
           1704
          ],
          [
           "Queen Anne's War",
           1704
          ],
          [
           "Queen Anne's War",
           1704
          ],
          [
           "Queen Anne's War",
           1704
          ],
          [
           "Queen Anne's War",
           1704
          ],
          [
           "French and Indian War",
           1758
          ],
          [
           "French and Indian War",
           1758
          ],
          [
           "French and Indian War",
           1758
          ],
          [
           "French and Indian War",
           1758
          ],
          [
           "French and Indian War",
           1758
          ],
          [
           "Seven Years' War",
           1759
          ],
          [
           "Seven Years' War",
           1759
          ],
          [
           "Seven Years' War",
           1759
          ],
          [
           "Seven Years' War",
           1759
          ],
          [
           "French and Indian War",
           1759
          ],
          [
           "French and Indian War",
           1759
          ],
          [
           "French and Indian War",
           1759
          ],
          [
           "French and Indian War",
           1759
          ],
          [
           "French and Indian War",
           1759
          ],
          [
           "Queen Anne's War",
           1709
          ],
          [
           "Queen Anne's War",
           1709
          ],
          [
           "Queen Anne's War",
           1709
          ],
          [
           "Queen Anne's War",
           1709
          ],
          [
           "Seven Years' War",
           1763
          ],
          [
           "Seven Years' War",
           1763
          ],
          [
           "War of 1812",
           1813
          ],
          [
           "War of 1812",
           1813
          ],
          [
           "War of 1812",
           1813
          ],
          [
           "War of 1812",
           1813
          ],
          [
           "French and Indian War",
           1755
          ],
          [
           "French and Indian War",
           1755
          ],
          [
           "King George's War",
           1746
          ],
          [
           "King George's War",
           1746
          ],
          [
           "King George's War",
           1746
          ],
          [
           "King George's War",
           1746
          ],
          [
           "King George's War",
           1746
          ],
          [
           "Father Le Loutre's War",
           1750
          ],
          [
           "Father Le Loutre's War",
           1750
          ],
          [
           "Father Le Loutre's War",
           1750
          ],
          [
           "Father Le Loutre's War",
           1750
          ],
          [
           "War of 1812",
           1814
          ],
          [
           "War of 1812",
           1814
          ],
          [
           "French and Indian War",
           1757
          ],
          [
           "French and Indian War",
           1757
          ],
          [
           "French and Indian War",
           1757
          ],
          [
           "French and Indian War",
           1757
          ],
          [
           "Queen Anne's War",
           1711
          ],
          [
           "Queen Anne's War",
           1711
          ],
          [
           "Queen Anne's War",
           1711
          ],
          [
           "Queen Anne's War",
           1711
          ],
          [
           "War of 1812",
           1812
          ],
          [
           "War of 1812",
           1812
          ],
          [
           "War of 1812",
           1813
          ],
          [
           "War of 1812",
           1813
          ],
          [
           "King William's War",
           1690
          ],
          [
           "King William's War",
           1690
          ],
          [
           "Queen Anne's War",
           1709
          ],
          [
           "Queen Anne's War",
           1709
          ],
          [
           "Fenian raids",
           1866
          ],
          [
           "Fenian raids",
           1866
          ],
          [
           "War of 1812",
           1814
          ],
          [
           "War of 1812",
           1814
          ],
          [
           "North-West Rebellion",
           1885
          ],
          [
           "North-West Rebellion",
           1885
          ],
          [
           "King William's War",
           1690
          ],
          [
           "King William's War",
           1690
          ],
          [
           "King William's War",
           1690
          ],
          [
           "War of 1812",
           1814
          ],
          [
           "War of 1812",
           1814
          ],
          [
           "War of 1812",
           1814
          ],
          [
           "War of 1812",
           1814
          ],
          [
           "War of 1812",
           1814
          ],
          [
           "War of 1812",
           1814
          ],
          [
           "War of 1812",
           1812
          ],
          [
           "War of 1812",
           1812
          ],
          [
           "War of 1812",
           1812
          ],
          [
           "War of 1812",
           1812
          ],
          [
           "War of 1812",
           1814
          ],
          [
           "War of 1812",
           1814
          ],
          [
           "War of 1812",
           1814
          ],
          [
           "Father Rale's War",
           1724
          ],
          [
           "Father Rale's War",
           1724
          ],
          [
           "Upper Canada Rebellion",
           1838
          ],
          [
           "Upper Canada Rebellion",
           1838
          ],
          [
           "Upper Canada Rebellion",
           1838
          ],
          [
           "Upper Canada Rebellion",
           1838
          ],
          [
           "Upper Canada Rebellion",
           1838
          ],
          [
           "Father Rale's War",
           1725
          ],
          [
           "Father Rale's War",
           1725
          ],
          [
           "King William's War",
           1690
          ],
          [
           "King William's War",
           1690
          ],
          [
           "French and Indian War",
           1757
          ],
          [
           "French and Indian War",
           1757
          ],
          [
           "French and Indian War",
           1757
          ],
          [
           "Patriot War",
           1838
          ],
          [
           "Patriot War",
           1838
          ],
          [
           "Patriot War",
           1838
          ],
          [
           "Patriot War",
           1838
          ],
          [
           "French and Indian War",
           1758
          ],
          [
           "French and Indian War",
           1758
          ],
          [
           "French and Indian War",
           1757
          ],
          [
           "French and Indian War",
           1757
          ],
          [
           "French and Indian War",
           1757
          ],
          [
           "Seven Years' War",
           1755
          ],
          [
           "Seven Years' War",
           1755
          ],
          [
           "Seven Years' War",
           1755
          ],
          [
           "Seven Years' War",
           1755
          ],
          [
           "Seven Years' War",
           1755
          ],
          [
           "War of 1812",
           1813
          ],
          [
           "War of 1812",
           1813
          ],
          [
           "War of 1812",
           1813
          ],
          [
           "King William's War",
           1692
          ],
          [
           "King William's War",
           1692
          ],
          [
           "King William's War",
           1692
          ],
          [
           "King William's War",
           1692
          ],
          [
           "King William's War",
           1696
          ],
          [
           "King William's War",
           1696
          ],
          [
           "King William's War",
           1696
          ],
          [
           "War of 1812",
           1813
          ],
          [
           "War of 1812",
           1813
          ],
          [
           "War of 1812",
           1813
          ],
          [
           "Seven Years' War",
           1759
          ],
          [
           "Seven Years' War",
           1759
          ],
          [
           "Seven Years' War",
           1759
          ],
          [
           "Seven Years' War",
           1760
          ],
          [
           "Seven Years' War",
           1760
          ],
          [
           "Seven Years' War",
           1760
          ],
          [
           "Seven Years' War",
           1758
          ],
          [
           "Seven Years' War",
           1758
          ],
          [
           "Seven Years' War",
           1758
          ],
          [
           "Seven Years' War",
           1758
          ],
          [
           "King George's War",
           1745
          ],
          [
           "King George's War",
           1745
          ],
          [
           "King George's War",
           1745
          ],
          [
           "King George's War",
           1745
          ],
          [
           "War of 1812",
           1813
          ],
          [
           "War of 1812",
           1813
          ],
          [
           "Father Le Loutre's War",
           1749
          ],
          [
           "Father Le Loutre's War",
           1749
          ],
          [
           "Father Le Loutre's War",
           1749
          ],
          [
           "Father Le Loutre's War",
           1751
          ],
          [
           "Father Le Loutre's War",
           1751
          ],
          [
           "Father Le Loutre's War",
           1751
          ],
          [
           "French and Indian War",
           1759
          ],
          [
           "French and Indian War",
           1759
          ],
          [
           "French and Indian War",
           1759
          ],
          [
           "French and Indian War",
           1609
          ],
          [
           "French and Indian War",
           1609
          ],
          [
           "French and Indian War",
           1609
          ],
          [
           "French and Indian War",
           1609
          ],
          [
           "French and Indian War",
           1609
          ],
          [
           "Lower Canada Rebellion",
           1837
          ],
          [
           "Lower Canada Rebellion",
           1837
          ],
          [
           "War of 1812",
           1813
          ],
          [
           "War of 1812",
           1813
          ],
          [
           "War of 1812",
           1813
          ],
          [
           "War of 1812",
           1813
          ],
          [
           "War of 1812",
           1813
          ],
          [
           "War of 1812",
           1813
          ],
          [
           "Pemmican War",
           1816
          ],
          [
           "Pemmican War",
           1816
          ],
          [
           "Invasion of Canada (1775)",
           1776
          ],
          [
           "Invasion of Canada (1775)",
           1776
          ],
          [
           "Invasion of Canada (1775)",
           1776
          ],
          [
           "Invasion of Canada (1775)",
           1776
          ],
          [
           "Invasion of Canada (1775)",
           1776
          ],
          [
           "War of 1812",
           1814
          ],
          [
           "War of 1812",
           1814
          ],
          [
           "Seven Years' War",
           1762
          ],
          [
           "Seven Years' War",
           1762
          ],
          [
           "Fenian raids",
           1870
          ],
          [
           "Fenian raids",
           1870
          ],
          [
           "War of 1812",
           1814
          ],
          [
           "War of 1812",
           1814
          ],
          [
           "War of 1812",
           1814
          ],
          [
           "Nine Years' War",
           1688
          ],
          [
           "Nine Years' War",
           1688
          ],
          [
           "North-West Rebellion",
           1885
          ],
          [
           "North-West Rebellion",
           1885
          ],
          [
           "King William's War",
           1691
          ],
          [
           "King William's War",
           1691
          ],
          [
           "North-West Rebellion",
           1885
          ],
          [
           "North-West Rebellion",
           1885
          ],
          [
           "North-West Rebellion",
           1885
          ],
          [
           "North-West Rebellion",
           1885
          ],
          [
           "North-West Rebellion",
           1885
          ],
          [
           "North-West Rebellion",
           1885
          ],
          [
           "North-West Rebellion",
           1885
          ],
          [
           "North-West Rebellion",
           1885
          ],
          [
           "Seven Years' War",
           1760
          ],
          [
           "Seven Years' War",
           1760
          ],
          [
           "Seven Years' War",
           1760
          ],
          [
           "Seven Years' War",
           1760
          ],
          [
           "War of 1812",
           1813
          ],
          [
           "War of 1812",
           1813
          ],
          [
           "War of 1812",
           1813
          ],
          [
           "War of 1812",
           1814
          ],
          [
           "War of 1812",
           1814
          ],
          [
           "War of 1812",
           1814
          ],
          [
           "War of 1812",
           1813
          ],
          [
           "War of 1812",
           1813
          ],
          [
           "War of 1812",
           1813
          ],
          [
           "Upper Canada Rebellion",
           1837
          ],
          [
           "Upper Canada Rebellion",
           1837
          ],
          [
           "King William's War",
           1693
          ],
          [
           "King William's War",
           1693
          ],
          [
           "North-West Rebellion",
           1885
          ],
          [
           "North-West Rebellion",
           1885
          ],
          [
           "North-West Rebellion",
           1885
          ]
         ],
         "geo": "geo",
         "hovertemplate": "<b>%{hovertext}</b><br><br>lat=%{lat}<br>lng=%{lon}<br>war=%{customdata[0]}<br>year=%{customdata[1]}<extra></extra>",
         "hovertext": [
          "Gulf of St. Lawrence Campaign",
          "Gulf of St. Lawrence Campaign",
          "Battle of Lacolle Mills",
          "Battle of Lacolle Mills",
          "Battle of Lacolle Mills",
          "Battle of Frenchman's Creek",
          "Battle of Frenchman's Creek",
          "Battle of Frenchman's Creek",
          "Battle of Crysler's Farm",
          "Battle of Crysler's Farm",
          "Battle of Crysler's Farm",
          "Battle of River Canard",
          "Battle of River Canard",
          "Battle of Sorel",
          "Battle of Sorel",
          "Battle of Sorel",
          "Battle of Sorel",
          "Battle of Sorel",
          "Battle of the Lake of Two Mountains",
          "Battle of the Lake of Two Mountains",
          "Battle of Trout River",
          "Battle of Trout River",
          "Battle of Quebec",
          "Battle of Quebec",
          "Battle of Quebec",
          "Battle of Quebec",
          "Battle of Stoney Creek",
          "Battle of Stoney Creek",
          "Battle of the St. Lawrence",
          "Battle of the St. Lawrence",
          "Battle of the St. Lawrence",
          "Battle of Queenston Heights",
          "Battle of Queenston Heights",
          "Battle of Queenston Heights",
          "Siege of Fort William Henry",
          "Siege of Fort William Henry",
          "Siege of Fort William Henry",
          "Battle of Plattsburgh",
          "Battle of Plattsburgh",
          "Battle of Plattsburgh",
          "Battle of Lacolle Mills",
          "Battle of Lacolle Mills",
          "Battle of Lacolle Mills",
          "Battle of Fort Beauséjour",
          "Battle of Fort Beauséjour",
          "Battle of Fort Beauséjour",
          "Battle of Fort Beauséjour",
          "Battle of Vinland",
          "Battle of Vinland",
          "Battle of Vinland",
          "Battle of Vinland",
          "Battle of Beauport",
          "Battle of Beauport",
          "Battle of Beauport",
          "Battle of Winnepang",
          "Battle of Winnepang",
          "Raid on Grand Pré",
          "Raid on Grand Pré",
          "Raid on Grand Pré",
          "Battle of Odelltown",
          "Battle of Odelltown",
          "Battle of Ogdensburg",
          "Battle of Ogdensburg",
          "Battle of Baker's Farm",
          "Battle of Baker's Farm",
          "Battle of Batoche",
          "Battle of Batoche",
          "Battle of Beauharnois",
          "Battle of Beauharnois",
          "Battle of Beauharnois",
          "Battle of Beauharnois",
          "Battle of Fort Dearborn",
          "Battle of Fort Dearborn",
          "Battle of Fort Bull",
          "Battle of Fort Bull",
          "Battle of Fort Bull",
          "Battle of Fort Frontenac",
          "Battle of Fort Frontenac",
          "Battle of Fort Frontenac",
          "Battle of Fort Niagara",
          "Battle of Fort Niagara",
          "Battle of Fort Niagara",
          "Battle of Fort Niagara",
          "Battle of Fort Niagara",
          "Battle of Fort Oswego",
          "Battle of Fort Oswego",
          "Battle of Fort Oswego",
          "Battle of Grand Pré",
          "Battle of Grand Pré",
          "Battle of Grand Pré",
          "Battle of Grand Pré",
          "Battle of Lacolle",
          "Battle of Lacolle",
          "Battle of Petitcodiac",
          "Battle of Petitcodiac",
          "Battle of Petitcodiac",
          "Battle of Petitcodiac",
          "Battle of Ridgeway",
          "Battle of Ridgeway",
          "Battle of Saint-Charles",
          "Battle of Saint-Charles",
          "Battle of Saint-Denis",
          "Battle of Saint-Denis",
          "Battle of Mackinac Island",
          "Battle of Mackinac Island",
          "Battle of Mackinac Island",
          "Battle of Fundy Bay",
          "Battle of Fundy Bay",
          "Battle of Hudson's Bay",
          "Battle of Hudson's Bay",
          "Battle of the Thousand Islands",
          "Battle of the Thousand Islands",
          "Battle of the Thousand Islands",
          "Battle of the Thousand Islands",
          "Battle of the Thousand Islands",
          "Battle of the Windmill",
          "Battle of the Windmill",
          "Battle of the Windmill",
          "Battle of the Windmill",
          "Battle of Devil's Hole",
          "Battle of Devil's Hole",
          "Battle of Devil's Hole",
          "Raid on Deerfield",
          "Raid on Deerfield",
          "Raid on Deerfield",
          "Raid on Deerfield",
          "Raid on Deerfield",
          "Raid on Deerfield",
          "Raid on Deerfield",
          "Siege of Louisbourg",
          "Siege of Louisbourg",
          "Siege of Louisbourg",
          "Siege of Louisbourg",
          "Siege of Louisbourg",
          "Battle of the Plains of Abraham",
          "Battle of the Plains of Abraham",
          "Battle of the Plains of Abraham",
          "Battle of the Plains of Abraham",
          "Battle of La Belle-Famille",
          "Battle of La Belle-Famille",
          "Battle of La Belle-Famille",
          "Battle of La Belle-Famille",
          "Battle of La Belle-Famille",
          "Battle of St. John's",
          "Battle of St. John's",
          "Battle of St. John's",
          "Battle of St. John's",
          "Siege of Fort Detroit",
          "Siege of Fort Detroit",
          "Battle of York",
          "Battle of York",
          "Battle of York",
          "Battle of York",
          "Action of 8 June 1755",
          "Action of 8 June 1755",
          "Battle at Port-la-Joye",
          "Battle at Port-la-Joye",
          "Battle at Port-la-Joye",
          "Battle at Port-la-Joye",
          "Battle at Port-la-Joye",
          "Battle at St. Croix",
          "Battle at St. Croix",
          "Battle at St. Croix",
          "Battle at St. Croix",
          "Battle of Big Sandy Creek",
          "Battle of Big Sandy Creek",
          "Battle of Bloody Creek",
          "Battle of Bloody Creek",
          "Battle of Bloody Creek",
          "Battle of Bloody Creek",
          "Battle of Bloody Creek",
          "Battle of Bloody Creek",
          "Battle of Bloody Creek",
          "Battle of Bloody Creek",
          "Battle of Brownstown",
          "Battle of Brownstown",
          "Battle of Buffalo",
          "Battle of Buffalo",
          "Battle of Chedabucto",
          "Battle of Chedabucto",
          "Battle of Fort Albany",
          "Battle of Fort Albany",
          "Battle of Fort Erie",
          "Battle of Fort Erie",
          "Battle of Fort Oswego",
          "Battle of Fort Oswego",
          "Battle of Fort Pitt",
          "Battle of Fort Pitt",
          "Battle of Fort Loyal",
          "Battle of Fort Loyal",
          "Battle of Fort Loyal",
          "Battle of Hampden",
          "Battle of Hampden",
          "Battle of Longwoods",
          "Battle of Longwoods",
          "Battle of Longwoods",
          "Battle of Longwoods",
          "Battle of Maguaga",
          "Battle of Maguaga",
          "Battle of Maguaga",
          "Battle of Maguaga",
          "Battle of Malcolm's Mills",
          "Battle of Malcolm's Mills",
          "Battle of Malcolm's Mills",
          "Battle of Norridgewock",
          "Battle of Norridgewock",
          "Battle of Pelee Island",
          "Battle of Pelee Island",
          "Battle of Pelee Island",
          "Battle of Pelee Island",
          "Battle of Pelee Island",
          "Battle of Pequawket",
          "Battle of Pequawket",
          "Battle of Port Royal",
          "Battle of Port Royal",
          "Battle of Sabbath Day Point",
          "Battle of Sabbath Day Point",
          "Battle of Sabbath Day Point",
          "Battle of Windsor",
          "Battle of Windsor",
          "Battle of Windsor",
          "Battle of Windsor",
          "Battle on Snowshoes",
          "Battle on Snowshoes",
          "Battle on Snowshoes",
          "Battle on Snowshoes",
          "Battle on Snowshoes",
          "Battle of Lake George",
          "Battle of Lake George",
          "Battle of Lake George",
          "Battle of Lake George",
          "Battle of Lake George",
          "Battle of Frenchtown",
          "Battle of Frenchtown",
          "Battle of Frenchtown",
          "Raid on Wells",
          "Raid on Wells",
          "Raid on Wells",
          "Raid on Wells",
          "Raid on Chignecto",
          "Raid on Chignecto",
          "Raid on Chignecto",
          "Battle of the Thames",
          "Battle of the Thames",
          "Battle of the Thames",
          "Battle of Ticonderoga",
          "Battle of Ticonderoga",
          "Battle of Ticonderoga",
          "Battle of Sainte-Foy",
          "Battle of Sainte-Foy",
          "Battle of Sainte-Foy",
          "Battle of Carillon",
          "Battle of Carillon",
          "Battle of Carillon",
          "Battle of Carillon",
          "Naval battle off Tatamagouche",
          "Naval battle off Tatamagouche",
          "Naval battle off Tatamagouche",
          "Naval battle off Tatamagouche",
          "Raid on Black Rock",
          "Raid on Black Rock",
          "Raid on Dartmouth",
          "Raid on Dartmouth",
          "Raid on Dartmouth",
          "Raid on Dartmouth",
          "Raid on Dartmouth",
          "Raid on Dartmouth",
          "St. Francis Raid",
          "St. Francis Raid",
          "St. Francis Raid",
          "Beaver Wars",
          "Beaver Wars",
          "Beaver Wars",
          "Beaver Wars",
          "Beaver Wars",
          "Battle of Saint-Eustache",
          "Battle of Saint-Eustache",
          "Battle of Lake Erie",
          "Battle of Lake Erie",
          "Battle of the Chateauguay",
          "Battle of the Chateauguay",
          "Battle of the Chateauguay",
          "Battle of the Chateauguay",
          "Battle of Seven Oaks",
          "Battle of Seven Oaks",
          "Battle of The Cedars",
          "Battle of The Cedars",
          "Battle of The Cedars",
          "Battle of The Cedars",
          "Battle of The Cedars",
          "Battle of Chippawa",
          "Battle of Chippawa",
          "Battle of Signal Hill",
          "Battle of Signal Hill",
          "Battle of Eccles Hill",
          "Battle of Eccles Hill",
          "Battle of Cook's Mills",
          "Battle of Cook's Mills",
          "Battle of Cook's Mills",
          "Battle of Fort Albany",
          "Battle of Fort Albany",
          "Battle of Frenchman's Butte",
          "Battle of Frenchman's Butte",
          "Battle of La Prairie",
          "Battle of La Prairie",
          "Battle of Loon Lake",
          "Battle of Loon Lake",
          "Battle of Fish Creek",
          "Battle of Fish Creek",
          "Battle of Fish Creek",
          "Battle of Fish Creek",
          "Battle of Duck Lake",
          "Battle of Duck Lake",
          "Battle of Restigouche",
          "Battle of Restigouche",
          "Battle of Restigouche",
          "Battle of Restigouche",
          "Battle of Fort George",
          "Battle of Fort George",
          "Battle of Fort George",
          "Battle of Lundy's Lane",
          "Battle of Lundy's Lane",
          "Battle of Lundy's Lane",
          "Battle of Beaver Dams",
          "Battle of Beaver Dams",
          "Battle of Beaver Dams",
          "Battle of Montgomery's Tavern",
          "Battle of Montgomery's Tavern",
          "Battle of Fort Albany",
          "Battle of Fort Albany",
          "Battle of Cut Knife",
          "Battle of Cut Knife",
          "Battle of Cut Knife"
         ],
         "lat": [
          46.500282287597656,
          46.500282287597656,
          45.081309,
          45.081309,
          45.081309,
          42.94227,
          42.94227,
          42.94227,
          44.941977777778,
          44.941977777778,
          44.941977777778,
          42.1884,
          42.1884,
          46.0333,
          46.0333,
          46.0333,
          46.0333,
          46.0333,
          45.45,
          45.45,
          45.087337493896484,
          45.087337493896484,
          46.9667,
          46.9667,
          46.9667,
          46.9667,
          43.218333333333,
          43.218333333333,
          48.90331268310547,
          48.90331268310547,
          48.90331268310547,
          43.16192,
          43.16192,
          43.16192,
          43.42027778,
          43.42027778,
          43.42027778,
          44.6804,
          44.6804,
          44.6804,
          45.067564,
          45.067564,
          45.067564,
          45.86550833,
          45.86550833,
          45.86550833,
          45.86550833,
          49.12120819091797,
          49.12120819091797,
          49.12120819091797,
          49.12120819091797,
          46.89018,
          46.89018,
          46.89018,
          44.77555556,
          44.77555556,
          45.10503889,
          45.10503889,
          45.10503889,
          45.0355,
          45.0355,
          44.69428634643555,
          44.69428634643555,
          45.2205,
          45.2205,
          52.75600814819336,
          52.75600814819336,
          45.314,
          45.314,
          45.314,
          45.314,
          41.857777777778,
          41.857777777778,
          43.22416667,
          43.22416667,
          43.22416667,
          44.23333333,
          44.23333333,
          44.23333333,
          43.26269,
          43.26269,
          43.26269,
          43.26269,
          43.26269,
          43.461666666667,
          43.461666666667,
          43.461666666667,
          45.1011,
          45.1011,
          45.1011,
          45.1011,
          45.083333,
          45.083333,
          45.93222222,
          45.93222222,
          45.93222222,
          45.93222222,
          42.90434,
          42.90434,
          45.683333,
          45.683333,
          45.7861328125,
          45.7861328125,
          45.853056,
          45.853056,
          45.853056,
          45.27330556,
          45.27330556,
          57.009889,
          57.009889,
          44.33388889,
          44.33388889,
          44.33388889,
          44.33388889,
          44.33388889,
          44.7209,
          44.7209,
          44.7209,
          44.7209,
          43.13388889,
          43.13388889,
          43.13388889,
          42.5486,
          42.5486,
          42.5486,
          42.5486,
          42.5486,
          42.5486,
          42.5486,
          45.92138889,
          45.92138889,
          45.92138889,
          45.92138889,
          45.92138889,
          46.803,
          46.803,
          46.803,
          46.803,
          43.261329650878906,
          43.261329650878906,
          43.261329650878906,
          43.261329650878906,
          43.261329650878906,
          47.5708,
          47.5708,
          47.5708,
          47.5708,
          42.3289,
          42.3289,
          43.63887,
          43.63887,
          43.63887,
          43.63887,
          46.0587,
          46.0587,
          46.197222,
          46.197222,
          46.197222,
          46.197222,
          46.197222,
          44.96191667,
          44.96191667,
          44.96191667,
          44.96191667,
          43.732845306396484,
          43.732845306396484,
          44.8224,
          44.8224,
          44.8224,
          44.8224,
          44.8224,
          44.8224,
          44.8224,
          44.8224,
          42.094417,
          42.094417,
          42.9364,
          42.9364,
          45.38666667,
          45.38666667,
          52.2511,
          52.2511,
          42.89667,
          42.89667,
          43.41129684448242,
          43.41129684448242,
          53.65018,
          53.65018,
          43.6615,
          43.6615,
          43.6615,
          44.74451446533203,
          44.74451446533203,
          42.69416667,
          42.69416667,
          42.69416667,
          42.69416667,
          42.13609,
          42.13609,
          42.13609,
          42.13609,
          43.028469,
          43.028469,
          43.028469,
          44.767,
          44.767,
          41.7667,
          41.7667,
          41.7667,
          41.7667,
          41.7667,
          44.021,
          44.021,
          44.7111,
          44.7111,
          43.6675,
          43.6675,
          43.6675,
          42.283333333333,
          42.283333333333,
          42.283333333333,
          42.283333333333,
          43.42611111,
          43.42611111,
          43.84138889,
          43.84138889,
          43.84138889,
          43.429,
          43.429,
          43.429,
          43.429,
          43.429,
          41.913611111111,
          41.913611111111,
          41.913611111111,
          43.32222222,
          43.32222222,
          43.32222222,
          43.32222222,
          45.9167,
          45.9167,
          45.9167,
          42.5625,
          42.5625,
          42.5625,
          43.841388888889,
          43.841388888889,
          43.841388888889,
          46.802333333333,
          46.802333333333,
          46.802333333333,
          43.841666666667,
          43.841666666667,
          43.841666666667,
          43.841666666667,
          45.7167,
          45.7167,
          45.7167,
          45.7167,
          42.928117,
          42.928117,
          44.6639,
          44.6639,
          44.6639,
          44.6929,
          44.6929,
          44.6929,
          46.0661,
          46.0661,
          46.0661,
          43.73695755004883,
          43.73695755004883,
          43.73695755004883,
          43.73695755004883,
          43.73695755004883,
          45.5575,
          45.5575,
          41.662222,
          41.662222,
          45.15861129760742,
          45.15861129760742,
          45.15861129760742,
          45.15861129760742,
          49.93199920654297,
          49.93199920654297,
          45.30622100830078,
          45.30622100830078,
          45.30622100830078,
          45.30622100830078,
          45.30622100830078,
          43.05212783813477,
          43.05212783813477,
          47.56972122192383,
          47.56972122192383,
          45.01992797851562,
          45.01992797851562,
          42.99789047241211,
          42.99789047241211,
          42.99789047241211,
          52.2511100769043,
          52.2511100769043,
          53.62722396850586,
          53.62722396850586,
          45.40370178222656,
          45.40370178222656,
          54.04055404663086,
          54.04055404663086,
          52.60194396972656,
          52.60194396972656,
          52.60194396972656,
          52.60194396972656,
          52.81650924682617,
          52.81650924682617,
          48.00472259521484,
          48.00472259521484,
          48.00472259521484,
          48.00472259521484,
          43.25075149536133,
          43.25075149536133,
          43.25075149536133,
          43.08915328979492,
          43.08915328979492,
          43.08915328979492,
          43.11780166625977,
          43.11780166625977,
          43.11780166625977,
          43.70949935913086,
          43.70949935913086,
          52.2511100769043,
          52.2511100769043,
          52.74530792236328,
          52.74530792236328,
          52.74530792236328
         ],
         "legendgroup": "",
         "lon": [
          -66.75018310546875,
          -66.75018310546875,
          -73.372633,
          -73.372633,
          -73.372633,
          -78.92645,
          -78.92645,
          -78.92645,
          -75.070172222222,
          -75.070172222222,
          -75.070172222222,
          -83.0925,
          -83.0925,
          -73.1167,
          -73.1167,
          -73.1167,
          -73.1167,
          -73.1167,
          -73.94,
          -73.94,
          -74.1738510131836,
          -74.1738510131836,
          -71.2667,
          -71.2667,
          -71.2667,
          -71.2667,
          -79.764166666667,
          -79.764166666667,
          -61.373878479003906,
          -61.373878479003906,
          -61.373878479003906,
          -79.05049,
          -79.05049,
          -79.05049,
          -73.71111111,
          -73.71111111,
          -73.71111111,
          -73.3756,
          -73.3756,
          -73.3756,
          -73.343809,
          -73.343809,
          -73.343809,
          -64.29079167,
          -64.29079167,
          -64.29079167,
          -64.29079167,
          -56.69629669189453,
          -56.69629669189453,
          -56.69629669189453,
          -56.69629669189453,
          -71.14726,
          -71.14726,
          -71.14726,
          -63.05527778,
          -63.05527778,
          -64.29868333,
          -64.29868333,
          -64.29868333,
          -73.390639,
          -73.390639,
          -75.48637390136719,
          -75.48637390136719,
          -73.839278,
          -73.839278,
          -106.11793518066406,
          -106.11793518066406,
          -73.877,
          -73.877,
          -73.877,
          -73.877,
          -87.619166666667,
          -87.619166666667,
          -75.5025,
          -75.5025,
          -75.5025,
          -76.47861111,
          -76.47861111,
          -76.47861111,
          -79.06331,
          -79.06331,
          -79.06331,
          -79.06331,
          -79.06331,
          -76.514166666667,
          -76.514166666667,
          -76.514166666667,
          -64.3072,
          -64.3072,
          -64.3072,
          -64.3072,
          -73.366667,
          -73.366667,
          -65.17472222,
          -65.17472222,
          -65.17472222,
          -65.17472222,
          -79.04164,
          -79.04164,
          -73.183333,
          -73.183333,
          -73.15717315673828,
          -73.15717315673828,
          -84.6175,
          -84.6175,
          -84.6175,
          -66.06330556,
          -66.06330556,
          -92.181744,
          -92.181744,
          -75.99472222,
          -75.99472222,
          -75.99472222,
          -75.99472222,
          -75.99472222,
          -75.4871,
          -75.4871,
          -75.4871,
          -75.4871,
          -79.04555556,
          -79.04555556,
          -79.04555556,
          -72.6071,
          -72.6071,
          -72.6071,
          -72.6071,
          -72.6071,
          -72.6071,
          -72.6071,
          -59.97027778,
          -59.97027778,
          -59.97027778,
          -59.97027778,
          -59.97027778,
          -71.215,
          -71.215,
          -71.215,
          -71.215,
          -79.0535659790039,
          -79.0535659790039,
          -79.0535659790039,
          -79.0535659790039,
          -79.0535659790039,
          -52.6991,
          -52.6991,
          -52.6991,
          -52.6991,
          -83.0458,
          -83.0458,
          -79.40403,
          -79.40403,
          -79.40403,
          -79.40403,
          -53.5029,
          -53.5029,
          -63.136944,
          -63.136944,
          -63.136944,
          -63.136944,
          -63.136944,
          -64.03377778,
          -64.03377778,
          -64.03377778,
          -64.03377778,
          -76.13603973388672,
          -76.13603973388672,
          -65.3095,
          -65.3095,
          -65.3095,
          -65.3095,
          -65.3095,
          -65.3095,
          -65.3095,
          -65.3095,
          -83.199168,
          -83.199168,
          -78.8978,
          -78.8978,
          -61.50555556,
          -61.50555556,
          -81.5011,
          -81.5011,
          -78.92515,
          -78.92515,
          -76.12798309326172,
          -76.12798309326172,
          -109.75154,
          -109.75154,
          -70.2553,
          -70.2553,
          -70.2553,
          -68.83698272705078,
          -68.83698272705078,
          -81.705,
          -81.705,
          -81.705,
          -81.705,
          -83.18285,
          -83.18285,
          -83.18285,
          -83.18285,
          -80.330089,
          -80.330089,
          -80.330089,
          -69.883306,
          -69.883306,
          -82.6409,
          -82.6409,
          -82.6409,
          -82.6409,
          -82.6409,
          -70.936,
          -70.936,
          -65.61,
          -65.61,
          -73.5139,
          -73.5139,
          -73.5139,
          -83,
          -83,
          -83,
          -83,
          -73.71222222,
          -73.71222222,
          -73.3875,
          -73.3875,
          -73.3875,
          -73.68,
          -73.68,
          -73.68,
          -73.68,
          -73.68,
          -83.378333333333,
          -83.378333333333,
          -83.378333333333,
          -70.58055556,
          -70.58055556,
          -70.58055556,
          -70.58055556,
          -64.1667,
          -64.1667,
          -64.1667,
          -81.931388888889,
          -81.931388888889,
          -81.931388888889,
          -73.388055555556,
          -73.388055555556,
          -73.388055555556,
          -71.242138888889,
          -71.242138888889,
          -71.242138888889,
          -73.3875,
          -73.3875,
          -73.3875,
          -73.3875,
          -63.2833,
          -63.2833,
          -63.2833,
          -63.2833,
          -78.898058,
          -78.898058,
          -63.5682,
          -63.5682,
          -63.5682,
          -63.6,
          -63.6,
          -63.6,
          -72.8261,
          -72.8261,
          -72.8261,
          -79.76631164550781,
          -79.76631164550781,
          -79.76631164550781,
          -79.76631164550781,
          -79.76631164550781,
          -73.8897,
          -73.8897,
          -82.825,
          -82.825,
          -73.9286117553711,
          -73.9286117553711,
          -73.9286117553711,
          -73.9286117553711,
          -97.12100219726562,
          -97.12100219726562,
          -74.05461120605469,
          -74.05461120605469,
          -74.05461120605469,
          -74.05461120605469,
          -74.05461120605469,
          -79.02471923828125,
          -79.02471923828125,
          -52.68194580078125,
          -52.68194580078125,
          -72.9043960571289,
          -72.9043960571289,
          -79.17491149902344,
          -79.17491149902344,
          -79.17491149902344,
          -81.50111389160156,
          -81.50111389160156,
          -109.5758361816406,
          -109.5758361816406,
          -73.4543685913086,
          -73.4543685913086,
          -109.0008316040039,
          -109.0008316040039,
          -105.9472198486328,
          -105.9472198486328,
          -105.9472198486328,
          -105.9472198486328,
          -106.2327270507812,
          -106.2327270507812,
          -66.72083282470703,
          -66.72083282470703,
          -66.72083282470703,
          -66.72083282470703,
          -79.06111145019531,
          -79.06111145019531,
          -79.06111145019531,
          -79.095458984375,
          -79.095458984375,
          -79.095458984375,
          -79.1854019165039,
          -79.1854019165039,
          -79.1854019165039,
          -79.39900207519531,
          -79.39900207519531,
          -81.50111389160156,
          -81.50111389160156,
          -109.0277633666992,
          -109.0277633666992,
          -109.0277633666992
         ],
         "marker": {
          "color": "#636efa",
          "symbol": "circle"
         },
         "mode": "markers",
         "name": "",
         "showlegend": false,
         "type": "scattergeo"
        }
       ],
       "layout": {
        "autosize": true,
        "geo": {
         "center": {},
         "domain": {
          "x": [
           0,
           1
          ],
          "y": [
           0,
           1
          ]
         },
         "fitbounds": "locations"
        },
        "legend": {
         "tracegroupgap": 0
        },
        "template": {
         "data": {
          "bar": [
           {
            "error_x": {
             "color": "#2a3f5f"
            },
            "error_y": {
             "color": "#2a3f5f"
            },
            "marker": {
             "line": {
              "color": "#E5ECF6",
              "width": 0.5
             },
             "pattern": {
              "fillmode": "overlay",
              "size": 10,
              "solidity": 0.2
             }
            },
            "type": "bar"
           }
          ],
          "barpolar": [
           {
            "marker": {
             "line": {
              "color": "#E5ECF6",
              "width": 0.5
             },
             "pattern": {
              "fillmode": "overlay",
              "size": 10,
              "solidity": 0.2
             }
            },
            "type": "barpolar"
           }
          ],
          "carpet": [
           {
            "aaxis": {
             "endlinecolor": "#2a3f5f",
             "gridcolor": "white",
             "linecolor": "white",
             "minorgridcolor": "white",
             "startlinecolor": "#2a3f5f"
            },
            "baxis": {
             "endlinecolor": "#2a3f5f",
             "gridcolor": "white",
             "linecolor": "white",
             "minorgridcolor": "white",
             "startlinecolor": "#2a3f5f"
            },
            "type": "carpet"
           }
          ],
          "choropleth": [
           {
            "colorbar": {
             "outlinewidth": 0,
             "ticks": ""
            },
            "type": "choropleth"
           }
          ],
          "contour": [
           {
            "colorbar": {
             "outlinewidth": 0,
             "ticks": ""
            },
            "colorscale": [
             [
              0,
              "#0d0887"
             ],
             [
              0.1111111111111111,
              "#46039f"
             ],
             [
              0.2222222222222222,
              "#7201a8"
             ],
             [
              0.3333333333333333,
              "#9c179e"
             ],
             [
              0.4444444444444444,
              "#bd3786"
             ],
             [
              0.5555555555555556,
              "#d8576b"
             ],
             [
              0.6666666666666666,
              "#ed7953"
             ],
             [
              0.7777777777777778,
              "#fb9f3a"
             ],
             [
              0.8888888888888888,
              "#fdca26"
             ],
             [
              1,
              "#f0f921"
             ]
            ],
            "type": "contour"
           }
          ],
          "contourcarpet": [
           {
            "colorbar": {
             "outlinewidth": 0,
             "ticks": ""
            },
            "type": "contourcarpet"
           }
          ],
          "heatmap": [
           {
            "colorbar": {
             "outlinewidth": 0,
             "ticks": ""
            },
            "colorscale": [
             [
              0,
              "#0d0887"
             ],
             [
              0.1111111111111111,
              "#46039f"
             ],
             [
              0.2222222222222222,
              "#7201a8"
             ],
             [
              0.3333333333333333,
              "#9c179e"
             ],
             [
              0.4444444444444444,
              "#bd3786"
             ],
             [
              0.5555555555555556,
              "#d8576b"
             ],
             [
              0.6666666666666666,
              "#ed7953"
             ],
             [
              0.7777777777777778,
              "#fb9f3a"
             ],
             [
              0.8888888888888888,
              "#fdca26"
             ],
             [
              1,
              "#f0f921"
             ]
            ],
            "type": "heatmap"
           }
          ],
          "heatmapgl": [
           {
            "colorbar": {
             "outlinewidth": 0,
             "ticks": ""
            },
            "colorscale": [
             [
              0,
              "#0d0887"
             ],
             [
              0.1111111111111111,
              "#46039f"
             ],
             [
              0.2222222222222222,
              "#7201a8"
             ],
             [
              0.3333333333333333,
              "#9c179e"
             ],
             [
              0.4444444444444444,
              "#bd3786"
             ],
             [
              0.5555555555555556,
              "#d8576b"
             ],
             [
              0.6666666666666666,
              "#ed7953"
             ],
             [
              0.7777777777777778,
              "#fb9f3a"
             ],
             [
              0.8888888888888888,
              "#fdca26"
             ],
             [
              1,
              "#f0f921"
             ]
            ],
            "type": "heatmapgl"
           }
          ],
          "histogram": [
           {
            "marker": {
             "pattern": {
              "fillmode": "overlay",
              "size": 10,
              "solidity": 0.2
             }
            },
            "type": "histogram"
           }
          ],
          "histogram2d": [
           {
            "colorbar": {
             "outlinewidth": 0,
             "ticks": ""
            },
            "colorscale": [
             [
              0,
              "#0d0887"
             ],
             [
              0.1111111111111111,
              "#46039f"
             ],
             [
              0.2222222222222222,
              "#7201a8"
             ],
             [
              0.3333333333333333,
              "#9c179e"
             ],
             [
              0.4444444444444444,
              "#bd3786"
             ],
             [
              0.5555555555555556,
              "#d8576b"
             ],
             [
              0.6666666666666666,
              "#ed7953"
             ],
             [
              0.7777777777777778,
              "#fb9f3a"
             ],
             [
              0.8888888888888888,
              "#fdca26"
             ],
             [
              1,
              "#f0f921"
             ]
            ],
            "type": "histogram2d"
           }
          ],
          "histogram2dcontour": [
           {
            "colorbar": {
             "outlinewidth": 0,
             "ticks": ""
            },
            "colorscale": [
             [
              0,
              "#0d0887"
             ],
             [
              0.1111111111111111,
              "#46039f"
             ],
             [
              0.2222222222222222,
              "#7201a8"
             ],
             [
              0.3333333333333333,
              "#9c179e"
             ],
             [
              0.4444444444444444,
              "#bd3786"
             ],
             [
              0.5555555555555556,
              "#d8576b"
             ],
             [
              0.6666666666666666,
              "#ed7953"
             ],
             [
              0.7777777777777778,
              "#fb9f3a"
             ],
             [
              0.8888888888888888,
              "#fdca26"
             ],
             [
              1,
              "#f0f921"
             ]
            ],
            "type": "histogram2dcontour"
           }
          ],
          "mesh3d": [
           {
            "colorbar": {
             "outlinewidth": 0,
             "ticks": ""
            },
            "type": "mesh3d"
           }
          ],
          "parcoords": [
           {
            "line": {
             "colorbar": {
              "outlinewidth": 0,
              "ticks": ""
             }
            },
            "type": "parcoords"
           }
          ],
          "pie": [
           {
            "automargin": true,
            "type": "pie"
           }
          ],
          "scatter": [
           {
            "fillpattern": {
             "fillmode": "overlay",
             "size": 10,
             "solidity": 0.2
            },
            "type": "scatter"
           }
          ],
          "scatter3d": [
           {
            "line": {
             "colorbar": {
              "outlinewidth": 0,
              "ticks": ""
             }
            },
            "marker": {
             "colorbar": {
              "outlinewidth": 0,
              "ticks": ""
             }
            },
            "type": "scatter3d"
           }
          ],
          "scattercarpet": [
           {
            "marker": {
             "colorbar": {
              "outlinewidth": 0,
              "ticks": ""
             }
            },
            "type": "scattercarpet"
           }
          ],
          "scattergeo": [
           {
            "marker": {
             "colorbar": {
              "outlinewidth": 0,
              "ticks": ""
             }
            },
            "type": "scattergeo"
           }
          ],
          "scattergl": [
           {
            "marker": {
             "colorbar": {
              "outlinewidth": 0,
              "ticks": ""
             }
            },
            "type": "scattergl"
           }
          ],
          "scattermapbox": [
           {
            "marker": {
             "colorbar": {
              "outlinewidth": 0,
              "ticks": ""
             }
            },
            "type": "scattermapbox"
           }
          ],
          "scatterpolar": [
           {
            "marker": {
             "colorbar": {
              "outlinewidth": 0,
              "ticks": ""
             }
            },
            "type": "scatterpolar"
           }
          ],
          "scatterpolargl": [
           {
            "marker": {
             "colorbar": {
              "outlinewidth": 0,
              "ticks": ""
             }
            },
            "type": "scatterpolargl"
           }
          ],
          "scatterternary": [
           {
            "marker": {
             "colorbar": {
              "outlinewidth": 0,
              "ticks": ""
             }
            },
            "type": "scatterternary"
           }
          ],
          "surface": [
           {
            "colorbar": {
             "outlinewidth": 0,
             "ticks": ""
            },
            "colorscale": [
             [
              0,
              "#0d0887"
             ],
             [
              0.1111111111111111,
              "#46039f"
             ],
             [
              0.2222222222222222,
              "#7201a8"
             ],
             [
              0.3333333333333333,
              "#9c179e"
             ],
             [
              0.4444444444444444,
              "#bd3786"
             ],
             [
              0.5555555555555556,
              "#d8576b"
             ],
             [
              0.6666666666666666,
              "#ed7953"
             ],
             [
              0.7777777777777778,
              "#fb9f3a"
             ],
             [
              0.8888888888888888,
              "#fdca26"
             ],
             [
              1,
              "#f0f921"
             ]
            ],
            "type": "surface"
           }
          ],
          "table": [
           {
            "cells": {
             "fill": {
              "color": "#EBF0F8"
             },
             "line": {
              "color": "white"
             }
            },
            "header": {
             "fill": {
              "color": "#C8D4E3"
             },
             "line": {
              "color": "white"
             }
            },
            "type": "table"
           }
          ]
         },
         "layout": {
          "annotationdefaults": {
           "arrowcolor": "#2a3f5f",
           "arrowhead": 0,
           "arrowwidth": 1
          },
          "autotypenumbers": "strict",
          "coloraxis": {
           "colorbar": {
            "outlinewidth": 0,
            "ticks": ""
           }
          },
          "colorscale": {
           "diverging": [
            [
             0,
             "#8e0152"
            ],
            [
             0.1,
             "#c51b7d"
            ],
            [
             0.2,
             "#de77ae"
            ],
            [
             0.3,
             "#f1b6da"
            ],
            [
             0.4,
             "#fde0ef"
            ],
            [
             0.5,
             "#f7f7f7"
            ],
            [
             0.6,
             "#e6f5d0"
            ],
            [
             0.7,
             "#b8e186"
            ],
            [
             0.8,
             "#7fbc41"
            ],
            [
             0.9,
             "#4d9221"
            ],
            [
             1,
             "#276419"
            ]
           ],
           "sequential": [
            [
             0,
             "#0d0887"
            ],
            [
             0.1111111111111111,
             "#46039f"
            ],
            [
             0.2222222222222222,
             "#7201a8"
            ],
            [
             0.3333333333333333,
             "#9c179e"
            ],
            [
             0.4444444444444444,
             "#bd3786"
            ],
            [
             0.5555555555555556,
             "#d8576b"
            ],
            [
             0.6666666666666666,
             "#ed7953"
            ],
            [
             0.7777777777777778,
             "#fb9f3a"
            ],
            [
             0.8888888888888888,
             "#fdca26"
            ],
            [
             1,
             "#f0f921"
            ]
           ],
           "sequentialminus": [
            [
             0,
             "#0d0887"
            ],
            [
             0.1111111111111111,
             "#46039f"
            ],
            [
             0.2222222222222222,
             "#7201a8"
            ],
            [
             0.3333333333333333,
             "#9c179e"
            ],
            [
             0.4444444444444444,
             "#bd3786"
            ],
            [
             0.5555555555555556,
             "#d8576b"
            ],
            [
             0.6666666666666666,
             "#ed7953"
            ],
            [
             0.7777777777777778,
             "#fb9f3a"
            ],
            [
             0.8888888888888888,
             "#fdca26"
            ],
            [
             1,
             "#f0f921"
            ]
           ]
          },
          "colorway": [
           "#636efa",
           "#EF553B",
           "#00cc96",
           "#ab63fa",
           "#FFA15A",
           "#19d3f3",
           "#FF6692",
           "#B6E880",
           "#FF97FF",
           "#FECB52"
          ],
          "font": {
           "color": "#2a3f5f"
          },
          "geo": {
           "bgcolor": "white",
           "lakecolor": "white",
           "landcolor": "#E5ECF6",
           "showlakes": true,
           "showland": true,
           "subunitcolor": "white"
          },
          "hoverlabel": {
           "align": "left"
          },
          "hovermode": "closest",
          "mapbox": {
           "style": "light"
          },
          "paper_bgcolor": "white",
          "plot_bgcolor": "#E5ECF6",
          "polar": {
           "angularaxis": {
            "gridcolor": "white",
            "linecolor": "white",
            "ticks": ""
           },
           "bgcolor": "#E5ECF6",
           "radialaxis": {
            "gridcolor": "white",
            "linecolor": "white",
            "ticks": ""
           }
          },
          "scene": {
           "xaxis": {
            "backgroundcolor": "#E5ECF6",
            "gridcolor": "white",
            "gridwidth": 2,
            "linecolor": "white",
            "showbackground": true,
            "ticks": "",
            "zerolinecolor": "white"
           },
           "yaxis": {
            "backgroundcolor": "#E5ECF6",
            "gridcolor": "white",
            "gridwidth": 2,
            "linecolor": "white",
            "showbackground": true,
            "ticks": "",
            "zerolinecolor": "white"
           },
           "zaxis": {
            "backgroundcolor": "#E5ECF6",
            "gridcolor": "white",
            "gridwidth": 2,
            "linecolor": "white",
            "showbackground": true,
            "ticks": "",
            "zerolinecolor": "white"
           }
          },
          "shapedefaults": {
           "line": {
            "color": "#2a3f5f"
           }
          },
          "ternary": {
           "aaxis": {
            "gridcolor": "white",
            "linecolor": "white",
            "ticks": ""
           },
           "baxis": {
            "gridcolor": "white",
            "linecolor": "white",
            "ticks": ""
           },
           "bgcolor": "#E5ECF6",
           "caxis": {
            "gridcolor": "white",
            "linecolor": "white",
            "ticks": ""
           }
          },
          "title": {
           "x": 0.05
          },
          "xaxis": {
           "automargin": true,
           "gridcolor": "white",
           "linecolor": "white",
           "ticks": "",
           "title": {
            "standoff": 15
           },
           "zerolinecolor": "white",
           "zerolinewidth": 2
          },
          "yaxis": {
           "automargin": true,
           "gridcolor": "white",
           "linecolor": "white",
           "ticks": "",
           "title": {
            "standoff": 15
           },
           "zerolinecolor": "white",
           "zerolinewidth": 2
          }
         }
        },
        "title": {
         "text": "Historical battles fought in present-day Canada"
        }
       }
      },
      "image/png": "[encoded data removed]",
      "text/html": [
       "<div>                            <div id=\"ce4021c1-766f-41af-ae41-7f75f5f2f112\" class=\"plotly-graph-div\" style=\"height:800px; width:100%;\"></div>            <script type=\"text/javascript\">                require([\"plotly\"], function(Plotly) {                    window.PLOTLYENV=window.PLOTLYENV || {};                                    if (document.getElementById(\"ce4021c1-766f-41af-ae41-7f75f5f2f112\")) {                    Plotly.newPlot(                        \"ce4021c1-766f-41af-ae41-7f75f5f2f112\",                        [{\"customdata\":[[\"French and Indian War\",1758.0],[\"French and Indian War\",1758.0],[\"War of 1812\",1812.0],[\"War of 1812\",1812.0],[\"War of 1812\",1812.0],[\"War of 1812\",1812.0],[\"War of 1812\",1812.0],[\"War of 1812\",1812.0],[\"War of 1812\",1813.0],[\"War of 1812\",1813.0],[\"War of 1812\",1813.0],[\"War of 1812\",1812.0],[\"War of 1812\",1812.0],[\"Beaver Wars\",1610.0],[\"Beaver Wars\",1610.0],[\"Beaver Wars\",1610.0],[\"Beaver Wars\",1610.0],[\"Beaver Wars\",1610.0],[\"Beaver Wars\",1689.0],[\"Beaver Wars\",1689.0],[\"Fenian raids\",1870.0],[\"Fenian raids\",1870.0],[\"King William's War\",1690.0],[\"King William's War\",1690.0],[\"King William's War\",1690.0],[\"King William's War\",1690.0],[\"War of 1812\",1813.0],[\"War of 1812\",1813.0],[\"World War II\",1942.0],[\"World War II\",1942.0],[\"World War II\",1942.0],[\"War of 1812\",1812.0],[\"War of 1812\",1812.0],[\"War of 1812\",1812.0],[\"Seven Years' War\",1757.0],[\"Seven Years' War\",1757.0],[\"Seven Years' War\",1757.0],[\"War of 1812\",1814.0],[\"War of 1812\",1814.0],[\"War of 1812\",1814.0],[\"War of 1812\",1814.0],[\"War of 1812\",1814.0],[\"War of 1812\",1814.0],[\"Seven Years' War\",1755.0],[\"Seven Years' War\",1755.0],[\"Seven Years' War\",1755.0],[\"Seven Years' War\",1755.0],[\"Norse colonization of the Americas\",1010.0],[\"Norse colonization of the Americas\",1010.0],[\"Norse colonization of the Americas\",1003.0],[\"Norse colonization of the Americas\",1003.0],[\"Seven Years' War\",1759.0],[\"Seven Years' War\",1759.0],[\"Seven Years' War\",1759.0],[\"Father Rale's War\",1722.0],[\"Father Rale's War\",1722.0],[\"Queen Anne's War\",1704.0],[\"Queen Anne's War\",1704.0],[\"Queen Anne's War\",1704.0],[\"Lower Canada Rebellion\",1838.0],[\"Lower Canada Rebellion\",1838.0],[\"War of 1812\",1813.0],[\"War of 1812\",1813.0],[\"Lower Canada Rebellion\",1838.0],[\"Lower Canada Rebellion\",1838.0],[\"North-West Rebellion\",1885.0],[\"North-West Rebellion\",1885.0],[\"Lower Canada Rebellion\",1838.0],[\"Lower Canada Rebellion\",1838.0],[\"Lower Canada Rebellion\",1838.0],[\"Lower Canada Rebellion\",1838.0],[\"War of 1812\",1812.0],[\"War of 1812\",1812.0],[\"Seven Years' War\",1756.0],[\"Seven Years' War\",1756.0],[\"Seven Years' War\",1756.0],[\"Seven Years' War\",1758.0],[\"Seven Years' War\",1758.0],[\"Seven Years' War\",1758.0],[\"French and Indian War\",1759.0],[\"French and Indian War\",1759.0],[\"French and Indian War\",1759.0],[\"French and Indian War\",1759.0],[\"French and Indian War\",1759.0],[\"Seven Years' War\",1756.0],[\"Seven Years' War\",1756.0],[\"Seven Years' War\",1756.0],[\"King George's War\",1747.0],[\"King George's War\",1747.0],[\"King George's War\",1747.0],[\"King George's War\",1747.0],[\"Lower Canada Rebellion\",1838.0],[\"Lower Canada Rebellion\",1838.0],[\"Seven Years' War\",1755.0],[\"Seven Years' War\",1755.0],[\"Seven Years' War\",1755.0],[\"Seven Years' War\",1755.0],[\"Fenian raids\",1866.0],[\"Fenian raids\",1866.0],[\"Lower Canada Rebellion\",1837.0],[\"Lower Canada Rebellion\",1837.0],[\"Lower Canada Rebellion\",1837.0],[\"Lower Canada Rebellion\",1837.0],[\"War of 1812\",1814.0],[\"War of 1812\",1814.0],[\"War of 1812\",1814.0],[\"King William's War\",1696.0],[\"King William's War\",1696.0],[\"Nine Years' War\",1697.0],[\"Nine Years' War\",1697.0],[\"Seven Years' War\",1760.0],[\"Seven Years' War\",1760.0],[\"Seven Years' War\",1760.0],[\"Seven Years' War\",1760.0],[\"Seven Years' War\",1760.0],[\"Upper Canada Rebellion\",1838.0],[\"Upper Canada Rebellion\",1838.0],[\"Upper Canada Rebellion\",1838.0],[\"Upper Canada Rebellion\",1838.0],[\"Seven Years' War\",1763.0],[\"Seven Years' War\",1763.0],[\"Seven Years' War\",1763.0],[\"Queen Anne's War\",1704.0],[\"Queen Anne's War\",1704.0],[\"Queen Anne's War\",1704.0],[\"Queen Anne's War\",1704.0],[\"Queen Anne's War\",1704.0],[\"Queen Anne's War\",1704.0],[\"Queen Anne's War\",1704.0],[\"French and Indian War\",1758.0],[\"French and Indian War\",1758.0],[\"French and Indian War\",1758.0],[\"French and Indian War\",1758.0],[\"French and Indian War\",1758.0],[\"Seven Years' War\",1759.0],[\"Seven Years' War\",1759.0],[\"Seven Years' War\",1759.0],[\"Seven Years' War\",1759.0],[\"French and Indian War\",1759.0],[\"French and Indian War\",1759.0],[\"French and Indian War\",1759.0],[\"French and Indian War\",1759.0],[\"French and Indian War\",1759.0],[\"Queen Anne's War\",1709.0],[\"Queen Anne's War\",1709.0],[\"Queen Anne's War\",1709.0],[\"Queen Anne's War\",1709.0],[\"Seven Years' War\",1763.0],[\"Seven Years' War\",1763.0],[\"War of 1812\",1813.0],[\"War of 1812\",1813.0],[\"War of 1812\",1813.0],[\"War of 1812\",1813.0],[\"French and Indian War\",1755.0],[\"French and Indian War\",1755.0],[\"King George's War\",1746.0],[\"King George's War\",1746.0],[\"King George's War\",1746.0],[\"King George's War\",1746.0],[\"King George's War\",1746.0],[\"Father Le Loutre's War\",1750.0],[\"Father Le Loutre's War\",1750.0],[\"Father Le Loutre's War\",1750.0],[\"Father Le Loutre's War\",1750.0],[\"War of 1812\",1814.0],[\"War of 1812\",1814.0],[\"French and Indian War\",1757.0],[\"French and Indian War\",1757.0],[\"French and Indian War\",1757.0],[\"French and Indian War\",1757.0],[\"Queen Anne's War\",1711.0],[\"Queen Anne's War\",1711.0],[\"Queen Anne's War\",1711.0],[\"Queen Anne's War\",1711.0],[\"War of 1812\",1812.0],[\"War of 1812\",1812.0],[\"War of 1812\",1813.0],[\"War of 1812\",1813.0],[\"King William's War\",1690.0],[\"King William's War\",1690.0],[\"Queen Anne's War\",1709.0],[\"Queen Anne's War\",1709.0],[\"Fenian raids\",1866.0],[\"Fenian raids\",1866.0],[\"War of 1812\",1814.0],[\"War of 1812\",1814.0],[\"North-West Rebellion\",1885.0],[\"North-West Rebellion\",1885.0],[\"King William's War\",1690.0],[\"King William's War\",1690.0],[\"King William's War\",1690.0],[\"War of 1812\",1814.0],[\"War of 1812\",1814.0],[\"War of 1812\",1814.0],[\"War of 1812\",1814.0],[\"War of 1812\",1814.0],[\"War of 1812\",1814.0],[\"War of 1812\",1812.0],[\"War of 1812\",1812.0],[\"War of 1812\",1812.0],[\"War of 1812\",1812.0],[\"War of 1812\",1814.0],[\"War of 1812\",1814.0],[\"War of 1812\",1814.0],[\"Father Rale's War\",1724.0],[\"Father Rale's War\",1724.0],[\"Upper Canada Rebellion\",1838.0],[\"Upper Canada Rebellion\",1838.0],[\"Upper Canada Rebellion\",1838.0],[\"Upper Canada Rebellion\",1838.0],[\"Upper Canada Rebellion\",1838.0],[\"Father Rale's War\",1725.0],[\"Father Rale's War\",1725.0],[\"King William's War\",1690.0],[\"King William's War\",1690.0],[\"French and Indian War\",1757.0],[\"French and Indian War\",1757.0],[\"French and Indian War\",1757.0],[\"Patriot War\",1838.0],[\"Patriot War\",1838.0],[\"Patriot War\",1838.0],[\"Patriot War\",1838.0],[\"French and Indian War\",1758.0],[\"French and Indian War\",1758.0],[\"French and Indian War\",1757.0],[\"French and Indian War\",1757.0],[\"French and Indian War\",1757.0],[\"Seven Years' War\",1755.0],[\"Seven Years' War\",1755.0],[\"Seven Years' War\",1755.0],[\"Seven Years' War\",1755.0],[\"Seven Years' War\",1755.0],[\"War of 1812\",1813.0],[\"War of 1812\",1813.0],[\"War of 1812\",1813.0],[\"King William's War\",1692.0],[\"King William's War\",1692.0],[\"King William's War\",1692.0],[\"King William's War\",1692.0],[\"King William's War\",1696.0],[\"King William's War\",1696.0],[\"King William's War\",1696.0],[\"War of 1812\",1813.0],[\"War of 1812\",1813.0],[\"War of 1812\",1813.0],[\"Seven Years' War\",1759.0],[\"Seven Years' War\",1759.0],[\"Seven Years' War\",1759.0],[\"Seven Years' War\",1760.0],[\"Seven Years' War\",1760.0],[\"Seven Years' War\",1760.0],[\"Seven Years' War\",1758.0],[\"Seven Years' War\",1758.0],[\"Seven Years' War\",1758.0],[\"Seven Years' War\",1758.0],[\"King George's War\",1745.0],[\"King George's War\",1745.0],[\"King George's War\",1745.0],[\"King George's War\",1745.0],[\"War of 1812\",1813.0],[\"War of 1812\",1813.0],[\"Father Le Loutre's War\",1749.0],[\"Father Le Loutre's War\",1749.0],[\"Father Le Loutre's War\",1749.0],[\"Father Le Loutre's War\",1751.0],[\"Father Le Loutre's War\",1751.0],[\"Father Le Loutre's War\",1751.0],[\"French and Indian War\",1759.0],[\"French and Indian War\",1759.0],[\"French and Indian War\",1759.0],[\"French and Indian War\",1609.0],[\"French and Indian War\",1609.0],[\"French and Indian War\",1609.0],[\"French and Indian War\",1609.0],[\"French and Indian War\",1609.0],[\"Lower Canada Rebellion\",1837.0],[\"Lower Canada Rebellion\",1837.0],[\"War of 1812\",1813.0],[\"War of 1812\",1813.0],[\"War of 1812\",1813.0],[\"War of 1812\",1813.0],[\"War of 1812\",1813.0],[\"War of 1812\",1813.0],[\"Pemmican War\",1816.0],[\"Pemmican War\",1816.0],[\"Invasion of Canada (1775)\",1776.0],[\"Invasion of Canada (1775)\",1776.0],[\"Invasion of Canada (1775)\",1776.0],[\"Invasion of Canada (1775)\",1776.0],[\"Invasion of Canada (1775)\",1776.0],[\"War of 1812\",1814.0],[\"War of 1812\",1814.0],[\"Seven Years' War\",1762.0],[\"Seven Years' War\",1762.0],[\"Fenian raids\",1870.0],[\"Fenian raids\",1870.0],[\"War of 1812\",1814.0],[\"War of 1812\",1814.0],[\"War of 1812\",1814.0],[\"Nine Years' War\",1688.0],[\"Nine Years' War\",1688.0],[\"North-West Rebellion\",1885.0],[\"North-West Rebellion\",1885.0],[\"King William's War\",1691.0],[\"King William's War\",1691.0],[\"North-West Rebellion\",1885.0],[\"North-West Rebellion\",1885.0],[\"North-West Rebellion\",1885.0],[\"North-West Rebellion\",1885.0],[\"North-West Rebellion\",1885.0],[\"North-West Rebellion\",1885.0],[\"North-West Rebellion\",1885.0],[\"North-West Rebellion\",1885.0],[\"Seven Years' War\",1760.0],[\"Seven Years' War\",1760.0],[\"Seven Years' War\",1760.0],[\"Seven Years' War\",1760.0],[\"War of 1812\",1813.0],[\"War of 1812\",1813.0],[\"War of 1812\",1813.0],[\"War of 1812\",1814.0],[\"War of 1812\",1814.0],[\"War of 1812\",1814.0],[\"War of 1812\",1813.0],[\"War of 1812\",1813.0],[\"War of 1812\",1813.0],[\"Upper Canada Rebellion\",1837.0],[\"Upper Canada Rebellion\",1837.0],[\"King William's War\",1693.0],[\"King William's War\",1693.0],[\"North-West Rebellion\",1885.0],[\"North-West Rebellion\",1885.0],[\"North-West Rebellion\",1885.0]],\"geo\":\"geo\",\"hovertemplate\":\"<b>%{hovertext}</b><br><br>lat=%{lat}<br>lng=%{lon}<br>war=%{customdata[0]}<br>year=%{customdata[1]}<extra></extra>\",\"hovertext\":[\"Gulf of St. Lawrence Campaign\",\"Gulf of St. Lawrence Campaign\",\"Battle of Lacolle Mills\",\"Battle of Lacolle Mills\",\"Battle of Lacolle Mills\",\"Battle of Frenchman's Creek\",\"Battle of Frenchman's Creek\",\"Battle of Frenchman's Creek\",\"Battle of Crysler's Farm\",\"Battle of Crysler's Farm\",\"Battle of Crysler's Farm\",\"Battle of River Canard\",\"Battle of River Canard\",\"Battle of Sorel\",\"Battle of Sorel\",\"Battle of Sorel\",\"Battle of Sorel\",\"Battle of Sorel\",\"Battle of the Lake of Two Mountains\",\"Battle of the Lake of Two Mountains\",\"Battle of Trout River\",\"Battle of Trout River\",\"Battle of Quebec\",\"Battle of Quebec\",\"Battle of Quebec\",\"Battle of Quebec\",\"Battle of Stoney Creek\",\"Battle of Stoney Creek\",\"Battle of the St. Lawrence\",\"Battle of the St. Lawrence\",\"Battle of the St. Lawrence\",\"Battle of Queenston Heights\",\"Battle of Queenston Heights\",\"Battle of Queenston Heights\",\"Siege of Fort William Henry\",\"Siege of Fort William Henry\",\"Siege of Fort William Henry\",\"Battle of Plattsburgh\",\"Battle of Plattsburgh\",\"Battle of Plattsburgh\",\"Battle of Lacolle Mills\",\"Battle of Lacolle Mills\",\"Battle of Lacolle Mills\",\"Battle of Fort Beaus\\u00e9jour\",\"Battle of Fort Beaus\\u00e9jour\",\"Battle of Fort Beaus\\u00e9jour\",\"Battle of Fort Beaus\\u00e9jour\",\"Battle of Vinland\",\"Battle of Vinland\",\"Battle of Vinland\",\"Battle of Vinland\",\"Battle of Beauport\",\"Battle of Beauport\",\"Battle of Beauport\",\"Battle of Winnepang\",\"Battle of Winnepang\",\"Raid on Grand Pr\\u00e9\",\"Raid on Grand Pr\\u00e9\",\"Raid on Grand Pr\\u00e9\",\"Battle of Odelltown\",\"Battle of Odelltown\",\"Battle of Ogdensburg\",\"Battle of Ogdensburg\",\"Battle of Baker's Farm\",\"Battle of Baker's Farm\",\"Battle of Batoche\",\"Battle of Batoche\",\"Battle of Beauharnois\",\"Battle of Beauharnois\",\"Battle of Beauharnois\",\"Battle of Beauharnois\",\"Battle of Fort Dearborn\",\"Battle of Fort Dearborn\",\"Battle of Fort Bull\",\"Battle of Fort Bull\",\"Battle of Fort Bull\",\"Battle of Fort Frontenac\",\"Battle of Fort Frontenac\",\"Battle of Fort Frontenac\",\"Battle of Fort Niagara\",\"Battle of Fort Niagara\",\"Battle of Fort Niagara\",\"Battle of Fort Niagara\",\"Battle of Fort Niagara\",\"Battle of Fort Oswego\",\"Battle of Fort Oswego\",\"Battle of Fort Oswego\",\"Battle of Grand Pr\\u00e9\",\"Battle of Grand Pr\\u00e9\",\"Battle of Grand Pr\\u00e9\",\"Battle of Grand Pr\\u00e9\",\"Battle of Lacolle\",\"Battle of Lacolle\",\"Battle of Petitcodiac\",\"Battle of Petitcodiac\",\"Battle of Petitcodiac\",\"Battle of Petitcodiac\",\"Battle of Ridgeway\",\"Battle of Ridgeway\",\"Battle of Saint-Charles\",\"Battle of Saint-Charles\",\"Battle of Saint-Denis\",\"Battle of Saint-Denis\",\"Battle of Mackinac Island\",\"Battle of Mackinac Island\",\"Battle of Mackinac Island\",\"Battle of Fundy Bay\",\"Battle of Fundy Bay\",\"Battle of Hudson's Bay\",\"Battle of Hudson's Bay\",\"Battle of the Thousand Islands\",\"Battle of the Thousand Islands\",\"Battle of the Thousand Islands\",\"Battle of the Thousand Islands\",\"Battle of the Thousand Islands\",\"Battle of the Windmill\",\"Battle of the Windmill\",\"Battle of the Windmill\",\"Battle of the Windmill\",\"Battle of Devil's Hole\",\"Battle of Devil's Hole\",\"Battle of Devil's Hole\",\"Raid on Deerfield\",\"Raid on Deerfield\",\"Raid on Deerfield\",\"Raid on Deerfield\",\"Raid on Deerfield\",\"Raid on Deerfield\",\"Raid on Deerfield\",\"Siege of Louisbourg\",\"Siege of Louisbourg\",\"Siege of Louisbourg\",\"Siege of Louisbourg\",\"Siege of Louisbourg\",\"Battle of the Plains of Abraham\",\"Battle of the Plains of Abraham\",\"Battle of the Plains of Abraham\",\"Battle of the Plains of Abraham\",\"Battle of La Belle-Famille\",\"Battle of La Belle-Famille\",\"Battle of La Belle-Famille\",\"Battle of La Belle-Famille\",\"Battle of La Belle-Famille\",\"Battle of St. John's\",\"Battle of St. John's\",\"Battle of St. John's\",\"Battle of St. John's\",\"Siege of Fort Detroit\",\"Siege of Fort Detroit\",\"Battle of York\",\"Battle of York\",\"Battle of York\",\"Battle of York\",\"Action of 8 June 1755\",\"Action of 8 June 1755\",\"Battle at Port-la-Joye\",\"Battle at Port-la-Joye\",\"Battle at Port-la-Joye\",\"Battle at Port-la-Joye\",\"Battle at Port-la-Joye\",\"Battle at St. Croix\",\"Battle at St. Croix\",\"Battle at St. Croix\",\"Battle at St. Croix\",\"Battle of Big Sandy Creek\",\"Battle of Big Sandy Creek\",\"Battle of Bloody Creek\",\"Battle of Bloody Creek\",\"Battle of Bloody Creek\",\"Battle of Bloody Creek\",\"Battle of Bloody Creek\",\"Battle of Bloody Creek\",\"Battle of Bloody Creek\",\"Battle of Bloody Creek\",\"Battle of Brownstown\",\"Battle of Brownstown\",\"Battle of Buffalo\",\"Battle of Buffalo\",\"Battle of Chedabucto\",\"Battle of Chedabucto\",\"Battle of Fort Albany\",\"Battle of Fort Albany\",\"Battle of Fort Erie\",\"Battle of Fort Erie\",\"Battle of Fort Oswego\",\"Battle of Fort Oswego\",\"Battle of Fort Pitt\",\"Battle of Fort Pitt\",\"Battle of Fort Loyal\",\"Battle of Fort Loyal\",\"Battle of Fort Loyal\",\"Battle of Hampden\",\"Battle of Hampden\",\"Battle of Longwoods\",\"Battle of Longwoods\",\"Battle of Longwoods\",\"Battle of Longwoods\",\"Battle of Maguaga\",\"Battle of Maguaga\",\"Battle of Maguaga\",\"Battle of Maguaga\",\"Battle of Malcolm's Mills\",\"Battle of Malcolm's Mills\",\"Battle of Malcolm's Mills\",\"Battle of Norridgewock\",\"Battle of Norridgewock\",\"Battle of Pelee Island\",\"Battle of Pelee Island\",\"Battle of Pelee Island\",\"Battle of Pelee Island\",\"Battle of Pelee Island\",\"Battle of Pequawket\",\"Battle of Pequawket\",\"Battle of Port Royal\",\"Battle of Port Royal\",\"Battle of Sabbath Day Point\",\"Battle of Sabbath Day Point\",\"Battle of Sabbath Day Point\",\"Battle of Windsor\",\"Battle of Windsor\",\"Battle of Windsor\",\"Battle of Windsor\",\"Battle on Snowshoes\",\"Battle on Snowshoes\",\"Battle on Snowshoes\",\"Battle on Snowshoes\",\"Battle on Snowshoes\",\"Battle of Lake George\",\"Battle of Lake George\",\"Battle of Lake George\",\"Battle of Lake George\",\"Battle of Lake George\",\"Battle of Frenchtown\",\"Battle of Frenchtown\",\"Battle of Frenchtown\",\"Raid on Wells\",\"Raid on Wells\",\"Raid on Wells\",\"Raid on Wells\",\"Raid on Chignecto\",\"Raid on Chignecto\",\"Raid on Chignecto\",\"Battle of the Thames\",\"Battle of the Thames\",\"Battle of the Thames\",\"Battle of Ticonderoga\",\"Battle of Ticonderoga\",\"Battle of Ticonderoga\",\"Battle of Sainte-Foy\",\"Battle of Sainte-Foy\",\"Battle of Sainte-Foy\",\"Battle of Carillon\",\"Battle of Carillon\",\"Battle of Carillon\",\"Battle of Carillon\",\"Naval battle off Tatamagouche\",\"Naval battle off Tatamagouche\",\"Naval battle off Tatamagouche\",\"Naval battle off Tatamagouche\",\"Raid on Black Rock\",\"Raid on Black Rock\",\"Raid on Dartmouth\",\"Raid on Dartmouth\",\"Raid on Dartmouth\",\"Raid on Dartmouth\",\"Raid on Dartmouth\",\"Raid on Dartmouth\",\"St. Francis Raid\",\"St. Francis Raid\",\"St. Francis Raid\",\"Beaver Wars\",\"Beaver Wars\",\"Beaver Wars\",\"Beaver Wars\",\"Beaver Wars\",\"Battle of Saint-Eustache\",\"Battle of Saint-Eustache\",\"Battle of Lake Erie\",\"Battle of Lake Erie\",\"Battle of the Chateauguay\",\"Battle of the Chateauguay\",\"Battle of the Chateauguay\",\"Battle of the Chateauguay\",\"Battle of Seven Oaks\",\"Battle of Seven Oaks\",\"Battle of The Cedars\",\"Battle of The Cedars\",\"Battle of The Cedars\",\"Battle of The Cedars\",\"Battle of The Cedars\",\"Battle of Chippawa\",\"Battle of Chippawa\",\"Battle of Signal Hill\",\"Battle of Signal Hill\",\"Battle of Eccles Hill\",\"Battle of Eccles Hill\",\"Battle of Cook's Mills\",\"Battle of Cook's Mills\",\"Battle of Cook's Mills\",\"Battle of Fort Albany\",\"Battle of Fort Albany\",\"Battle of Frenchman's Butte\",\"Battle of Frenchman's Butte\",\"Battle of La Prairie\",\"Battle of La Prairie\",\"Battle of Loon Lake\",\"Battle of Loon Lake\",\"Battle of Fish Creek\",\"Battle of Fish Creek\",\"Battle of Fish Creek\",\"Battle of Fish Creek\",\"Battle of Duck Lake\",\"Battle of Duck Lake\",\"Battle of Restigouche\",\"Battle of Restigouche\",\"Battle of Restigouche\",\"Battle of Restigouche\",\"Battle of Fort George\",\"Battle of Fort George\",\"Battle of Fort George\",\"Battle of Lundy's Lane\",\"Battle of Lundy's Lane\",\"Battle of Lundy's Lane\",\"Battle of Beaver Dams\",\"Battle of Beaver Dams\",\"Battle of Beaver Dams\",\"Battle of Montgomery's Tavern\",\"Battle of Montgomery's Tavern\",\"Battle of Fort Albany\",\"Battle of Fort Albany\",\"Battle of Cut Knife\",\"Battle of Cut Knife\",\"Battle of Cut Knife\"],\"lat\":[46.500282287597656,46.500282287597656,45.081309,45.081309,45.081309,42.94227,42.94227,42.94227,44.941977777778,44.941977777778,44.941977777778,42.1884,42.1884,46.0333,46.0333,46.0333,46.0333,46.0333,45.45,45.45,45.087337493896484,45.087337493896484,46.9667,46.9667,46.9667,46.9667,43.218333333333,43.218333333333,48.90331268310547,48.90331268310547,48.90331268310547,43.16192,43.16192,43.16192,43.42027778,43.42027778,43.42027778,44.6804,44.6804,44.6804,45.067564,45.067564,45.067564,45.86550833,45.86550833,45.86550833,45.86550833,49.12120819091797,49.12120819091797,49.12120819091797,49.12120819091797,46.89018,46.89018,46.89018,44.77555556,44.77555556,45.10503889,45.10503889,45.10503889,45.0355,45.0355,44.69428634643555,44.69428634643555,45.2205,45.2205,52.75600814819336,52.75600814819336,45.314,45.314,45.314,45.314,41.857777777778,41.857777777778,43.22416667,43.22416667,43.22416667,44.23333333,44.23333333,44.23333333,43.26269,43.26269,43.26269,43.26269,43.26269,43.461666666667,43.461666666667,43.461666666667,45.1011,45.1011,45.1011,45.1011,45.083333,45.083333,45.93222222,45.93222222,45.93222222,45.93222222,42.90434,42.90434,45.683333,45.683333,45.7861328125,45.7861328125,45.853056,45.853056,45.853056,45.27330556,45.27330556,57.009889,57.009889,44.33388889,44.33388889,44.33388889,44.33388889,44.33388889,44.7209,44.7209,44.7209,44.7209,43.13388889,43.13388889,43.13388889,42.5486,42.5486,42.5486,42.5486,42.5486,42.5486,42.5486,45.92138889,45.92138889,45.92138889,45.92138889,45.92138889,46.803,46.803,46.803,46.803,43.261329650878906,43.261329650878906,43.261329650878906,43.261329650878906,43.261329650878906,47.5708,47.5708,47.5708,47.5708,42.3289,42.3289,43.63887,43.63887,43.63887,43.63887,46.0587,46.0587,46.197222,46.197222,46.197222,46.197222,46.197222,44.96191667,44.96191667,44.96191667,44.96191667,43.732845306396484,43.732845306396484,44.8224,44.8224,44.8224,44.8224,44.8224,44.8224,44.8224,44.8224,42.094417,42.094417,42.9364,42.9364,45.38666667,45.38666667,52.2511,52.2511,42.89667,42.89667,43.41129684448242,43.41129684448242,53.65018,53.65018,43.6615,43.6615,43.6615,44.74451446533203,44.74451446533203,42.69416667,42.69416667,42.69416667,42.69416667,42.13609,42.13609,42.13609,42.13609,43.028469,43.028469,43.028469,44.767,44.767,41.7667,41.7667,41.7667,41.7667,41.7667,44.021,44.021,44.7111,44.7111,43.6675,43.6675,43.6675,42.283333333333,42.283333333333,42.283333333333,42.283333333333,43.42611111,43.42611111,43.84138889,43.84138889,43.84138889,43.429,43.429,43.429,43.429,43.429,41.913611111111,41.913611111111,41.913611111111,43.32222222,43.32222222,43.32222222,43.32222222,45.9167,45.9167,45.9167,42.5625,42.5625,42.5625,43.841388888889,43.841388888889,43.841388888889,46.802333333333,46.802333333333,46.802333333333,43.841666666667,43.841666666667,43.841666666667,43.841666666667,45.7167,45.7167,45.7167,45.7167,42.928117,42.928117,44.6639,44.6639,44.6639,44.6929,44.6929,44.6929,46.0661,46.0661,46.0661,43.73695755004883,43.73695755004883,43.73695755004883,43.73695755004883,43.73695755004883,45.5575,45.5575,41.662222,41.662222,45.15861129760742,45.15861129760742,45.15861129760742,45.15861129760742,49.93199920654297,49.93199920654297,45.30622100830078,45.30622100830078,45.30622100830078,45.30622100830078,45.30622100830078,43.05212783813477,43.05212783813477,47.56972122192383,47.56972122192383,45.01992797851562,45.01992797851562,42.99789047241211,42.99789047241211,42.99789047241211,52.2511100769043,52.2511100769043,53.62722396850586,53.62722396850586,45.40370178222656,45.40370178222656,54.04055404663086,54.04055404663086,52.60194396972656,52.60194396972656,52.60194396972656,52.60194396972656,52.81650924682617,52.81650924682617,48.00472259521484,48.00472259521484,48.00472259521484,48.00472259521484,43.25075149536133,43.25075149536133,43.25075149536133,43.08915328979492,43.08915328979492,43.08915328979492,43.11780166625977,43.11780166625977,43.11780166625977,43.70949935913086,43.70949935913086,52.2511100769043,52.2511100769043,52.74530792236328,52.74530792236328,52.74530792236328],\"legendgroup\":\"\",\"lon\":[-66.75018310546875,-66.75018310546875,-73.372633,-73.372633,-73.372633,-78.92645,-78.92645,-78.92645,-75.070172222222,-75.070172222222,-75.070172222222,-83.0925,-83.0925,-73.1167,-73.1167,-73.1167,-73.1167,-73.1167,-73.94,-73.94,-74.1738510131836,-74.1738510131836,-71.2667,-71.2667,-71.2667,-71.2667,-79.764166666667,-79.764166666667,-61.373878479003906,-61.373878479003906,-61.373878479003906,-79.05049,-79.05049,-79.05049,-73.71111111,-73.71111111,-73.71111111,-73.3756,-73.3756,-73.3756,-73.343809,-73.343809,-73.343809,-64.29079167,-64.29079167,-64.29079167,-64.29079167,-56.69629669189453,-56.69629669189453,-56.69629669189453,-56.69629669189453,-71.14726,-71.14726,-71.14726,-63.05527778,-63.05527778,-64.29868333,-64.29868333,-64.29868333,-73.390639,-73.390639,-75.48637390136719,-75.48637390136719,-73.839278,-73.839278,-106.11793518066406,-106.11793518066406,-73.877,-73.877,-73.877,-73.877,-87.619166666667,-87.619166666667,-75.5025,-75.5025,-75.5025,-76.47861111,-76.47861111,-76.47861111,-79.06331,-79.06331,-79.06331,-79.06331,-79.06331,-76.514166666667,-76.514166666667,-76.514166666667,-64.3072,-64.3072,-64.3072,-64.3072,-73.366667,-73.366667,-65.17472222,-65.17472222,-65.17472222,-65.17472222,-79.04164,-79.04164,-73.183333,-73.183333,-73.15717315673828,-73.15717315673828,-84.6175,-84.6175,-84.6175,-66.06330556,-66.06330556,-92.181744,-92.181744,-75.99472222,-75.99472222,-75.99472222,-75.99472222,-75.99472222,-75.4871,-75.4871,-75.4871,-75.4871,-79.04555556,-79.04555556,-79.04555556,-72.6071,-72.6071,-72.6071,-72.6071,-72.6071,-72.6071,-72.6071,-59.97027778,-59.97027778,-59.97027778,-59.97027778,-59.97027778,-71.215,-71.215,-71.215,-71.215,-79.0535659790039,-79.0535659790039,-79.0535659790039,-79.0535659790039,-79.0535659790039,-52.6991,-52.6991,-52.6991,-52.6991,-83.0458,-83.0458,-79.40403,-79.40403,-79.40403,-79.40403,-53.5029,-53.5029,-63.136944,-63.136944,-63.136944,-63.136944,-63.136944,-64.03377778,-64.03377778,-64.03377778,-64.03377778,-76.13603973388672,-76.13603973388672,-65.3095,-65.3095,-65.3095,-65.3095,-65.3095,-65.3095,-65.3095,-65.3095,-83.199168,-83.199168,-78.8978,-78.8978,-61.50555556,-61.50555556,-81.5011,-81.5011,-78.92515,-78.92515,-76.12798309326172,-76.12798309326172,-109.75154,-109.75154,-70.2553,-70.2553,-70.2553,-68.83698272705078,-68.83698272705078,-81.705,-81.705,-81.705,-81.705,-83.18285,-83.18285,-83.18285,-83.18285,-80.330089,-80.330089,-80.330089,-69.883306,-69.883306,-82.6409,-82.6409,-82.6409,-82.6409,-82.6409,-70.936,-70.936,-65.61,-65.61,-73.5139,-73.5139,-73.5139,-83.0,-83.0,-83.0,-83.0,-73.71222222,-73.71222222,-73.3875,-73.3875,-73.3875,-73.68,-73.68,-73.68,-73.68,-73.68,-83.378333333333,-83.378333333333,-83.378333333333,-70.58055556,-70.58055556,-70.58055556,-70.58055556,-64.1667,-64.1667,-64.1667,-81.931388888889,-81.931388888889,-81.931388888889,-73.388055555556,-73.388055555556,-73.388055555556,-71.242138888889,-71.242138888889,-71.242138888889,-73.3875,-73.3875,-73.3875,-73.3875,-63.2833,-63.2833,-63.2833,-63.2833,-78.898058,-78.898058,-63.5682,-63.5682,-63.5682,-63.6,-63.6,-63.6,-72.8261,-72.8261,-72.8261,-79.76631164550781,-79.76631164550781,-79.76631164550781,-79.76631164550781,-79.76631164550781,-73.8897,-73.8897,-82.825,-82.825,-73.9286117553711,-73.9286117553711,-73.9286117553711,-73.9286117553711,-97.12100219726562,-97.12100219726562,-74.05461120605469,-74.05461120605469,-74.05461120605469,-74.05461120605469,-74.05461120605469,-79.02471923828125,-79.02471923828125,-52.68194580078125,-52.68194580078125,-72.9043960571289,-72.9043960571289,-79.17491149902344,-79.17491149902344,-79.17491149902344,-81.50111389160156,-81.50111389160156,-109.5758361816406,-109.5758361816406,-73.4543685913086,-73.4543685913086,-109.0008316040039,-109.0008316040039,-105.9472198486328,-105.9472198486328,-105.9472198486328,-105.9472198486328,-106.2327270507812,-106.2327270507812,-66.72083282470703,-66.72083282470703,-66.72083282470703,-66.72083282470703,-79.06111145019531,-79.06111145019531,-79.06111145019531,-79.095458984375,-79.095458984375,-79.095458984375,-79.1854019165039,-79.1854019165039,-79.1854019165039,-79.39900207519531,-79.39900207519531,-81.50111389160156,-81.50111389160156,-109.0277633666992,-109.0277633666992,-109.0277633666992],\"marker\":{\"color\":\"#636efa\",\"symbol\":\"circle\"},\"mode\":\"markers\",\"name\":\"\",\"showlegend\":false,\"type\":\"scattergeo\"}],                        {\"template\":{\"data\":{\"histogram2dcontour\":[{\"type\":\"histogram2dcontour\",\"colorbar\":{\"outlinewidth\":0,\"ticks\":\"\"},\"colorscale\":[[0.0,\"#0d0887\"],[0.1111111111111111,\"#46039f\"],[0.2222222222222222,\"#7201a8\"],[0.3333333333333333,\"#9c179e\"],[0.4444444444444444,\"#bd3786\"],[0.5555555555555556,\"#d8576b\"],[0.6666666666666666,\"#ed7953\"],[0.7777777777777778,\"#fb9f3a\"],[0.8888888888888888,\"#fdca26\"],[1.0,\"#f0f921\"]]}],\"choropleth\":[{\"type\":\"choropleth\",\"colorbar\":{\"outlinewidth\":0,\"ticks\":\"\"}}],\"histogram2d\":[{\"type\":\"histogram2d\",\"colorbar\":{\"outlinewidth\":0,\"ticks\":\"\"},\"colorscale\":[[0.0,\"#0d0887\"],[0.1111111111111111,\"#46039f\"],[0.2222222222222222,\"#7201a8\"],[0.3333333333333333,\"#9c179e\"],[0.4444444444444444,\"#bd3786\"],[0.5555555555555556,\"#d8576b\"],[0.6666666666666666,\"#ed7953\"],[0.7777777777777778,\"#fb9f3a\"],[0.8888888888888888,\"#fdca26\"],[1.0,\"#f0f921\"]]}],\"heatmap\":[{\"type\":\"heatmap\",\"colorbar\":{\"outlinewidth\":0,\"ticks\":\"\"},\"colorscale\":[[0.0,\"#0d0887\"],[0.1111111111111111,\"#46039f\"],[0.2222222222222222,\"#7201a8\"],[0.3333333333333333,\"#9c179e\"],[0.4444444444444444,\"#bd3786\"],[0.5555555555555556,\"#d8576b\"],[0.6666666666666666,\"#ed7953\"],[0.7777777777777778,\"#fb9f3a\"],[0.8888888888888888,\"#fdca26\"],[1.0,\"#f0f921\"]]}],\"heatmapgl\":[{\"type\":\"heatmapgl\",\"colorbar\":{\"outlinewidth\":0,\"ticks\":\"\"},\"colorscale\":[[0.0,\"#0d0887\"],[0.1111111111111111,\"#46039f\"],[0.2222222222222222,\"#7201a8\"],[0.3333333333333333,\"#9c179e\"],[0.4444444444444444,\"#bd3786\"],[0.5555555555555556,\"#d8576b\"],[0.6666666666666666,\"#ed7953\"],[0.7777777777777778,\"#fb9f3a\"],[0.8888888888888888,\"#fdca26\"],[1.0,\"#f0f921\"]]}],\"contourcarpet\":[{\"type\":\"contourcarpet\",\"colorbar\":{\"outlinewidth\":0,\"ticks\":\"\"}}],\"contour\":[{\"type\":\"contour\",\"colorbar\":{\"outlinewidth\":0,\"ticks\":\"\"},\"colorscale\":[[0.0,\"#0d0887\"],[0.1111111111111111,\"#46039f\"],[0.2222222222222222,\"#7201a8\"],[0.3333333333333333,\"#9c179e\"],[0.4444444444444444,\"#bd3786\"],[0.5555555555555556,\"#d8576b\"],[0.6666666666666666,\"#ed7953\"],[0.7777777777777778,\"#fb9f3a\"],[0.8888888888888888,\"#fdca26\"],[1.0,\"#f0f921\"]]}],\"surface\":[{\"type\":\"surface\",\"colorbar\":{\"outlinewidth\":0,\"ticks\":\"\"},\"colorscale\":[[0.0,\"#0d0887\"],[0.1111111111111111,\"#46039f\"],[0.2222222222222222,\"#7201a8\"],[0.3333333333333333,\"#9c179e\"],[0.4444444444444444,\"#bd3786\"],[0.5555555555555556,\"#d8576b\"],[0.6666666666666666,\"#ed7953\"],[0.7777777777777778,\"#fb9f3a\"],[0.8888888888888888,\"#fdca26\"],[1.0,\"#f0f921\"]]}],\"mesh3d\":[{\"type\":\"mesh3d\",\"colorbar\":{\"outlinewidth\":0,\"ticks\":\"\"}}],\"scatter\":[{\"fillpattern\":{\"fillmode\":\"overlay\",\"size\":10,\"solidity\":0.2},\"type\":\"scatter\"}],\"parcoords\":[{\"type\":\"parcoords\",\"line\":{\"colorbar\":{\"outlinewidth\":0,\"ticks\":\"\"}}}],\"scatterpolargl\":[{\"type\":\"scatterpolargl\",\"marker\":{\"colorbar\":{\"outlinewidth\":0,\"ticks\":\"\"}}}],\"bar\":[{\"error_x\":{\"color\":\"#2a3f5f\"},\"error_y\":{\"color\":\"#2a3f5f\"},\"marker\":{\"line\":{\"color\":\"#E5ECF6\",\"width\":0.5},\"pattern\":{\"fillmode\":\"overlay\",\"size\":10,\"solidity\":0.2}},\"type\":\"bar\"}],\"scattergeo\":[{\"type\":\"scattergeo\",\"marker\":{\"colorbar\":{\"outlinewidth\":0,\"ticks\":\"\"}}}],\"scatterpolar\":[{\"type\":\"scatterpolar\",\"marker\":{\"colorbar\":{\"outlinewidth\":0,\"ticks\":\"\"}}}],\"histogram\":[{\"marker\":{\"pattern\":{\"fillmode\":\"overlay\",\"size\":10,\"solidity\":0.2}},\"type\":\"histogram\"}],\"scattergl\":[{\"type\":\"scattergl\",\"marker\":{\"colorbar\":{\"outlinewidth\":0,\"ticks\":\"\"}}}],\"scatter3d\":[{\"type\":\"scatter3d\",\"line\":{\"colorbar\":{\"outlinewidth\":0,\"ticks\":\"\"}},\"marker\":{\"colorbar\":{\"outlinewidth\":0,\"ticks\":\"\"}}}],\"scattermapbox\":[{\"type\":\"scattermapbox\",\"marker\":{\"colorbar\":{\"outlinewidth\":0,\"ticks\":\"\"}}}],\"scatterternary\":[{\"type\":\"scatterternary\",\"marker\":{\"colorbar\":{\"outlinewidth\":0,\"ticks\":\"\"}}}],\"scattercarpet\":[{\"type\":\"scattercarpet\",\"marker\":{\"colorbar\":{\"outlinewidth\":0,\"ticks\":\"\"}}}],\"carpet\":[{\"aaxis\":{\"endlinecolor\":\"#2a3f5f\",\"gridcolor\":\"white\",\"linecolor\":\"white\",\"minorgridcolor\":\"white\",\"startlinecolor\":\"#2a3f5f\"},\"baxis\":{\"endlinecolor\":\"#2a3f5f\",\"gridcolor\":\"white\",\"linecolor\":\"white\",\"minorgridcolor\":\"white\",\"startlinecolor\":\"#2a3f5f\"},\"type\":\"carpet\"}],\"table\":[{\"cells\":{\"fill\":{\"color\":\"#EBF0F8\"},\"line\":{\"color\":\"white\"}},\"header\":{\"fill\":{\"color\":\"#C8D4E3\"},\"line\":{\"color\":\"white\"}},\"type\":\"table\"}],\"barpolar\":[{\"marker\":{\"line\":{\"color\":\"#E5ECF6\",\"width\":0.5},\"pattern\":{\"fillmode\":\"overlay\",\"size\":10,\"solidity\":0.2}},\"type\":\"barpolar\"}],\"pie\":[{\"automargin\":true,\"type\":\"pie\"}]},\"layout\":{\"autotypenumbers\":\"strict\",\"colorway\":[\"#636efa\",\"#EF553B\",\"#00cc96\",\"#ab63fa\",\"#FFA15A\",\"#19d3f3\",\"#FF6692\",\"#B6E880\",\"#FF97FF\",\"#FECB52\"],\"font\":{\"color\":\"#2a3f5f\"},\"hovermode\":\"closest\",\"hoverlabel\":{\"align\":\"left\"},\"paper_bgcolor\":\"white\",\"plot_bgcolor\":\"#E5ECF6\",\"polar\":{\"bgcolor\":\"#E5ECF6\",\"angularaxis\":{\"gridcolor\":\"white\",\"linecolor\":\"white\",\"ticks\":\"\"},\"radialaxis\":{\"gridcolor\":\"white\",\"linecolor\":\"white\",\"ticks\":\"\"}},\"ternary\":{\"bgcolor\":\"#E5ECF6\",\"aaxis\":{\"gridcolor\":\"white\",\"linecolor\":\"white\",\"ticks\":\"\"},\"baxis\":{\"gridcolor\":\"white\",\"linecolor\":\"white\",\"ticks\":\"\"},\"caxis\":{\"gridcolor\":\"white\",\"linecolor\":\"white\",\"ticks\":\"\"}},\"coloraxis\":{\"colorbar\":{\"outlinewidth\":0,\"ticks\":\"\"}},\"colorscale\":{\"sequential\":[[0.0,\"#0d0887\"],[0.1111111111111111,\"#46039f\"],[0.2222222222222222,\"#7201a8\"],[0.3333333333333333,\"#9c179e\"],[0.4444444444444444,\"#bd3786\"],[0.5555555555555556,\"#d8576b\"],[0.6666666666666666,\"#ed7953\"],[0.7777777777777778,\"#fb9f3a\"],[0.8888888888888888,\"#fdca26\"],[1.0,\"#f0f921\"]],\"sequentialminus\":[[0.0,\"#0d0887\"],[0.1111111111111111,\"#46039f\"],[0.2222222222222222,\"#7201a8\"],[0.3333333333333333,\"#9c179e\"],[0.4444444444444444,\"#bd3786\"],[0.5555555555555556,\"#d8576b\"],[0.6666666666666666,\"#ed7953\"],[0.7777777777777778,\"#fb9f3a\"],[0.8888888888888888,\"#fdca26\"],[1.0,\"#f0f921\"]],\"diverging\":[[0,\"#8e0152\"],[0.1,\"#c51b7d\"],[0.2,\"#de77ae\"],[0.3,\"#f1b6da\"],[0.4,\"#fde0ef\"],[0.5,\"#f7f7f7\"],[0.6,\"#e6f5d0\"],[0.7,\"#b8e186\"],[0.8,\"#7fbc41\"],[0.9,\"#4d9221\"],[1,\"#276419\"]]},\"xaxis\":{\"gridcolor\":\"white\",\"linecolor\":\"white\",\"ticks\":\"\",\"title\":{\"standoff\":15},\"zerolinecolor\":\"white\",\"automargin\":true,\"zerolinewidth\":2},\"yaxis\":{\"gridcolor\":\"white\",\"linecolor\":\"white\",\"ticks\":\"\",\"title\":{\"standoff\":15},\"zerolinecolor\":\"white\",\"automargin\":true,\"zerolinewidth\":2},\"scene\":{\"xaxis\":{\"backgroundcolor\":\"#E5ECF6\",\"gridcolor\":\"white\",\"linecolor\":\"white\",\"showbackground\":true,\"ticks\":\"\",\"zerolinecolor\":\"white\",\"gridwidth\":2},\"yaxis\":{\"backgroundcolor\":\"#E5ECF6\",\"gridcolor\":\"white\",\"linecolor\":\"white\",\"showbackground\":true,\"ticks\":\"\",\"zerolinecolor\":\"white\",\"gridwidth\":2},\"zaxis\":{\"backgroundcolor\":\"#E5ECF6\",\"gridcolor\":\"white\",\"linecolor\":\"white\",\"showbackground\":true,\"ticks\":\"\",\"zerolinecolor\":\"white\",\"gridwidth\":2}},\"shapedefaults\":{\"line\":{\"color\":\"#2a3f5f\"}},\"annotationdefaults\":{\"arrowcolor\":\"#2a3f5f\",\"arrowhead\":0,\"arrowwidth\":1},\"geo\":{\"bgcolor\":\"white\",\"landcolor\":\"#E5ECF6\",\"subunitcolor\":\"white\",\"showland\":true,\"showlakes\":true,\"lakecolor\":\"white\"},\"title\":{\"x\":0.05},\"mapbox\":{\"style\":\"light\"}}},\"geo\":{\"domain\":{\"x\":[0.0,1.0],\"y\":[0.0,1.0]},\"center\":{},\"fitbounds\":\"locations\"},\"legend\":{\"tracegroupgap\":0},\"title\":{\"text\":\"Historical battles fought in present-day Canada\"},\"height\":800},                        {\"responsive\": true}                    ).then(function(){\n",
       "                            \n",
       "var gd = document.getElementById('ce4021c1-766f-41af-ae41-7f75f5f2f112');\n",
       "var x = new MutationObserver(function (mutations, observer) {{\n",
       "        var display = window.getComputedStyle(gd).display;\n",
       "        if (!display || display === 'none') {{\n",
       "            console.log([gd, 'removed!']);\n",
       "            Plotly.purge(gd);\n",
       "            observer.disconnect();\n",
       "        }}\n",
       "}});\n",
       "\n",
       "// Listen for the removal of the full notebook cells\n",
       "var notebookContainer = gd.closest('#notebook-container');\n",
       "if (notebookContainer) {{\n",
       "    x.observe(notebookContainer, {childList: true});\n",
       "}}\n",
       "\n",
       "// Listen for the clearing of the current output cell\n",
       "var outputEl = gd.closest('.output');\n",
       "if (outputEl) {{\n",
       "    x.observe(outputEl, {childList: true});\n",
       "}}\n",
       "\n",
       "                        })                };                });            </script>        </div>"
      ]
     },
     "metadata": {},
     "output_type": "display_data"
    }
   ],
   "source": [
    "# Southernmost point of Canada is Lake Erie, ON, at 41°40' N; easternmost is Cape Spear, NL, at 52°37' W\n",
    "# We also need to exclude a single WWII Pacific battle that happened off the coast of Alaska that didn't involve Canada\n",
    "NA_data = data[(data['lat']>41.6) & \n",
    "               (data['lng']<-52.6) & \n",
    "               (data['lng']>-160)]\n",
    "\n",
    "# There's also many wars in this subset that don't feature Canada, so we can list them here to remove:\n",
    "remove = ['American Revolutionary War',\n",
    "          'Sioux Wars',\n",
    "          \"Red Cloud's War\",\n",
    "          'Dakota War of 1862',\n",
    "          'Russo-Tlingit War',\n",
    "          'Great Sioux War of 1876',\n",
    "          'Powder River Expedition',\n",
    "          'American Civil War',\n",
    "          'Yellowstone Expedition of 1873',\n",
    "          'Nez Perce War',\n",
    "          'Comanche Campaign',\n",
    "          'Boston campaign',\n",
    "          'Modoc War',\n",
    "          'American Revolution',\n",
    "          \"King Philip's War\",\n",
    "          'Black Hawk War',\n",
    "          'Colorado War',\n",
    "          'American Indian Wars',\n",
    "          'Forage War',\n",
    "          \"Coeur d'Alene War\",\n",
    "          'Yakima War',\n",
    "          'Philadelphia campaign',\n",
    "          'Ghost Dance War']\n",
    "\n",
    "# Remove wars listed above, as well as battles without a specific war (that all happened in the USA)\n",
    "NA_data = NA_data[(~NA_data['war'].isin(remove)) & (~NA_data['war'].isnull())]\n",
    "          \n",
    "          \n",
    "          \n",
    "px.scatter_geo(NA_data, lat='lat', lon='lng', \n",
    "               height=800, hover_name='bname', \n",
    "               hover_data=['war', 'year'], \n",
    "               fitbounds='locations',\n",
    "               title='Historical battles fought in present-day Canada')"
   ]
  },
  {
   "cell_type": "markdown",
   "id": "64e56392-db90-49c4-a062-f4ac7a183ca0",
   "metadata": {},
   "source": [
    "## Next Steps\n",
    "\n",
    "Though the data can be kind of spotty for some battles, it could be interesting to bring in the number (or rate) of casualities for each battle, and size the markers proportional to that. It's only an estimate of the importance of the battle, but it's a good first step.\n",
    "\n",
    "We could also use the plotting function to animate the conflicts throughout Canadian history.\n",
    "\n",
    "Lastly, we could focus on WWI or WWII data and look at the advance of the Allied gains in Europe, highlighting battles that Canada was a major part of."
   ]
  },
  {
   "cell_type": "code",
   "execution_count": null,
   "id": "d4cac778-f69d-4fc6-934a-ebe83bcc5f3e",
   "metadata": {},
   "outputs": [],
   "source": []
  }
 ],
 "metadata": {
  "kernelspec": {
   "display_name": "Python 3 (ipykernel)",
   "language": "python",
   "name": "python3"
  },
  "language_info": {
   "codemirror_mode": {
    "name": "ipython",
    "version": 3
   },
   "file_extension": ".py",
   "mimetype": "text/x-python",
   "name": "python",
   "nbconvert_exporter": "python",
   "pygments_lexer": "ipython3",
   "version": "3.9.12"
  }
 },
 "nbformat": 4,
 "nbformat_minor": 5
}
