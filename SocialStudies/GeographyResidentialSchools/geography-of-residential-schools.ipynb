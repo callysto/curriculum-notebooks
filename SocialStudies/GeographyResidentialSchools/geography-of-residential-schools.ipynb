{
 "cells": [
  {
   "cell_type": "markdown",
   "metadata": {},
   "source": [
    "![Callysto.ca Banner](https://github.com/callysto/curriculum-notebooks/blob/master/callysto-notebook-banner-top.jpg?raw=true)\n",
    "\n",
    "<a href=\"https://hub.callysto.ca/jupyter/hub/user-redirect/git-pull?repo=https%3A%2F%2Fgithub.com%2Fcallysto%2Fcurriculum-notebooks&branch=master&subPath=SocialStudies/GeographyResidentialSchools/geography-of-residential-schools.ipynb&depth=1\" target=\"_parent\"><img src=\"https://raw.githubusercontent.com/callysto/curriculum-notebooks/master/open-in-callysto-button.svg?sanitize=true\" width=\"123\" height=\"24\" alt=\"Open in Callysto\"/></a>"
   ]
  },
  {
   "cell_type": "markdown",
   "metadata": {},
   "source": [
    "# Canada's Residential Schools"
   ]
  },
  {
   "cell_type": "markdown",
   "metadata": {},
   "source": [
    "The [Truth and Reconciliation Commission of Canada](https://www.rcaanc-cirnac.gc.ca/eng/1450124405592/1529106060525) [(TRC)](http://www.trc.ca) was created in 2008 to bring to light the experiences of Indigenous students in residential schools. In December 2015 TRC came up with the final report which gave in detail the history of residential schools, their devastating legacy, and the abuse left by these residential schools. The intention of this notebook is to raise awareness about residential schools and why it is important to be supportive and inclusive of different groups of people, languages, and cultures."
   ]
  },
  {
   "cell_type": "markdown",
   "metadata": {},
   "source": [
    "## What is a residential school?"
   ]
  },
  {
   "cell_type": "markdown",
   "metadata": {},
   "source": [
    "![Study time in residential school](images/study-time.jpg)\n",
    "<center>Study time in a residential school.</center>\n",
    "<center>Source: Library and Archives Canada, PA-042133</center>"
   ]
  },
  {
   "cell_type": "markdown",
   "metadata": {},
   "source": [
    "The Canadian government in the 19th century decided that it was responsible for providing education and care for the aboriginal people of the country in order to assimilate them into the Canadian society. The government believed that the only way to achieve this is by separating the students from their families and denying access to their own culture, language, and traditions. The government also believed that the best chance of success for these students was to learn English and to adopt Christianity and Canadian customs. This way the students will pass on the newly adopted lifestyle, language and culture to their children which would completely abolish the native traditions in a few generations.\n",
    "\n",
    "In order to put these into action, the Canadian government developed a policy called \"aggressive assimilation\" to be taught at the government-funded educational institutions which were church-run and provided the Indigenous children with rudimentary training in the trades and agriculture. The government believed that the children were easier to mold than adults and the concept of boarding school with compulsory attendance where children were separated from their families and communities was the best way to prepare them for life in the mainstream society."
   ]
  },
  {
   "cell_type": "markdown",
   "metadata": {},
   "source": [
    "## Students at the residential school"
   ]
  },
  {
   "cell_type": "markdown",
   "metadata": {},
   "source": [
    "It is estimated that about 150,000 First Nations, Métis, and Inuit children attended these residential schools. \n",
    "\n",
    "**First Nations:** A term used to refer to about 1.3 million Aboriginal people in Canada who are not Métis or Inuit and who are the original inhabitants of the land that is now called Canada. There are [634 First nations governments or bands](https://en.wikipedia.org/wiki/List_of_First_Nations_governments) in Canada, who speak more than 50 different languages.\n",
    "\n",
    "**Métis:** Métis Nation's political organization, The Métis National Council (MNC), defines “Metis” as: “a person who self-identifies as Métis, is distinct from other Aboriginal Peoples, is of historic Métis Nation ancestry and who is accepted by the Métis Nation.” Métis people are a mix of European and Indigenous ancestry who trace their origin to Red River valley and the prairies including Ontario, British Columbia, the Northwest Territories and the northern United States.\n",
    "\n",
    "**Inuit:** Inhabitants of North American Arctic, covering a distance of 6,000 kilometres from the Bering Strait to East Greenland were termed as Inuit, which simply means \"the people\". Inuit also live in northern Alaska, Greenland and some even in Russia who have culturally common heritage and a common language. The term \"Eskimo\" was used to identify the Inuit people until recently."
   ]
  },
  {
   "cell_type": "markdown",
   "metadata": {},
   "source": [
    "### Question\n",
    "\n",
    "1. Identify a recognized First Nations government in your province or territory."
   ]
  },
  {
   "cell_type": "markdown",
   "metadata": {},
   "source": [
    "## Issues at residential schools"
   ]
  },
  {
   "cell_type": "markdown",
   "metadata": {},
   "source": [
    "### Quality of Education:"
   ]
  },
  {
   "cell_type": "markdown",
   "metadata": {},
   "source": [
    "The quality of education and skills that were taught at the residential schools were generally substandard. The students were often trained for menial labor positions that many were not able to adapt or function in an urban setting."
   ]
  },
  {
   "cell_type": "markdown",
   "metadata": {},
   "source": [
    "### Language, Values, beliefs, culture and traditions:"
   ]
  },
  {
   "cell_type": "markdown",
   "metadata": {},
   "source": [
    "The schools were increasingly run by well-established churches in Canada, which meant the students were exposed to Christian values, beliefs, and traditions. The students were not allowed to wear traditional clothing or accessories. They were given uniform clothing (mostly of substandard quality) and a number or a Christian name. Children were punished if they were found using their traditional names, which further separated the children from their culture and idenitities.\n",
    "\n",
    "Students were encouraged to speak in either English or French and were restrained from speaking their first language or even practice any native traditions. The students were belittled and punished when they were found speaking in their first language or practicing their traditions. As a result of this students were deprived of speaking and learning their first language and made them feel like they didn't belong in their own family whenever they went back to their reserves and made them feel ashamed of their native heritage. Without the knowledge of their first language comes the loss of the ability to understand the teachings and stories that were passed down in Indigenous cultures that value oral tradition."
   ]
  },
  {
   "cell_type": "markdown",
   "metadata": {},
   "source": [
    "### Separation from family:"
   ]
  },
  {
   "cell_type": "markdown",
   "metadata": {},
   "source": [
    "Attendance was initially voluntary but later the government became more stringent and attendance was made compulsory. The idea was to separate the children as far away as possible from their family and communities to sever connections to their roots. Students never got to experience the normal life outside these schools as most students in these residential schools spent almost 10months of a year in the school, away from their parents; some even stayed all year round. Students were also forced to have all correspondence sent to their parents be written in English, which many parents couldn't read, which further broke ties with their families."
   ]
  },
  {
   "cell_type": "markdown",
   "metadata": {},
   "source": [
    "### Poor nutrition:"
   ]
  },
  {
   "cell_type": "markdown",
   "metadata": {},
   "source": [
    "Dr. Peter Bryce reported in 1907, medical inspector for the Department of Indian affairs, found that the students were not given nutritious food, the living conditions were often very poor and the schools were overcrowded. It was also noted that the school buildings were often poorly constructed with bad ventilation and poor heating which paved way for various disease outbreaks."
   ]
  },
  {
   "cell_type": "markdown",
   "metadata": {},
   "source": [
    "### Abuse:"
   ]
  },
  {
   "cell_type": "markdown",
   "metadata": {},
   "source": [
    "Students were often subject to emotional, physical and sexual abuse. Since the schools were overcrowded the students did not receive any personal attention and the lack of love or care from family and the fear of being punished for making mistakes contributed to long-term depression, anxiety, and disconnect. About half of the 80,000 survivors of the residential school system reported of being seriously abused either physically or sexually. These cases went unreported or often ignored by the institutions in order to save their own face than protecting the children."
   ]
  },
  {
   "cell_type": "markdown",
   "metadata": {},
   "source": [
    "### Missing or gone:"
   ]
  },
  {
   "cell_type": "markdown",
   "metadata": {},
   "source": [
    "Many students tried to escape these residential schools, the harsh punishments and abuse to be back with their parents often risking their own lives without supplies, help or proper clothing. Children were often caught by officials and brought back to the schools to be severely punished. A number of children even lost their lives trying to escape the horrible conditions to return to their loved ones."
   ]
  },
  {
   "cell_type": "markdown",
   "metadata": {},
   "source": [
    "### Questions\n",
    "\n",
    "1. Can you relate a time where a relative passed on a particular skill on to you?\n",
    "2. Think about a story that has been passed down to you from an older generation that you would be able to tell the next generation. What can be learned from that story?"
   ]
  },
  {
   "cell_type": "markdown",
   "metadata": {},
   "source": [
    "### Activity"
   ]
  },
  {
   "cell_type": "markdown",
   "metadata": {},
   "source": [
    "Below is a video interview of one of the survivors of the residential school system. Watch the video carefully and answer the questions that follow.\n",
    "\n",
    "Video source: http://www.cbc.ca/player/play/1178497603731/"
   ]
  },
  {
   "cell_type": "code",
   "execution_count": null,
   "metadata": {},
   "outputs": [],
   "source": [
    "from IPython.display import IFrame\n",
    "IFrame(src=\"https://www.cbc.ca/i/caffeine/syndicate/?mediaId=1178497603731\", width=\"640\", height=\"360\")"
   ]
  },
  {
   "cell_type": "markdown",
   "metadata": {},
   "source": [
    "### Questions\n",
    "\n",
    "1. What key issues did Wanbdi discuss in the video?\n",
    "2. What consequences did Wanbdi face for running away from residential school?\n",
    "3. What are his recommendations to Canadians on reconciliation?"
   ]
  },
  {
   "cell_type": "markdown",
   "metadata": {},
   "source": [
    "## Geographic locations of residential schools"
   ]
  },
  {
   "cell_type": "markdown",
   "metadata": {},
   "source": [
    "![Mohawk School](images/mohawk-school.jpg)\n",
    "<center>The first residential school - Mohawk Institute Residential School in Ontario</center>\n",
    "<center>Source: Library and Archives Canada</center>"
   ]
  },
  {
   "cell_type": "markdown",
   "metadata": {},
   "source": [
    "In order to understand and acknowledge the truth behind these devastating residential schools, it is important to know the locations of such schools. From this, we can understand how and where it all began, which was the first residential school and how the idea quickly progressed to other provinces. Knowing the history of the place you live is important to give the respect that the place and people that belong to that place deserve and also critical to form meaningful relationships with them.\n",
    "\n",
    "We are going to create a map of residential school locations, similar to [this one from the National Centre for Truth and Reconciliation](https://nctr.ca/records/view-your-records/archival-map/). We have downloaded an open data set that contains [information about the residential schools](http://hesperus-wild.org/GIS_carto/IRS.html). Click on the following code cell, then click the `▶Run` button to create the map."
   ]
  },
  {
   "cell_type": "code",
   "execution_count": null,
   "metadata": {},
   "outputs": [],
   "source": [
    "import pandas as pd\n",
    "rsl_data = pd.read_csv('https://raw.githubusercontent.com/callysto/data-files/main/SocialStudies/GeographyResidentialSchools/RSLlistv2.csv', encoding='latin1', skiprows=18)\n",
    "rsl_data.replace({'Qu\\x8ebec':'Quebec'}, inplace=True)\n",
    "# create a map centered on the centre of Canada\n",
    "import folium\n",
    "latlon = [64.319832, -96.020912]\n",
    "rsl_map = folium.Map(location=latlon, zoom_start=3)\n",
    "# add markers to the map\n",
    "for i, row in rsl_data.iterrows():\n",
    "    location = [row['Latitude'],row['Longitude']]\n",
    "    name = row['Name']\n",
    "    #description = row['Description of location']\n",
    "    description = str(row['From'])+' to '+str(row['To'])\n",
    "    rsl_map.add_child(folium.Marker(location=location, tooltip=name, popup=description,\n",
    "                                   icon=folium.Icon(color='orange', icon='glyphicon-plus')))\n",
    "# display the map\n",
    "rsl_map"
   ]
  },
  {
   "cell_type": "markdown",
   "metadata": {},
   "source": [
    "### Map Question\n",
    "\n",
    "1. Locate a residential school that is close to where you currently live or go to school. Write down the name of the school and years of operation. On the map you can find the name by hovering your mouse, and the years by clicking on the map marker.\n",
    "\n",
    "### Data Science Questions\n",
    "To answer these data science questions, edit and run the code cells below.\n",
    "\n",
    "1. How many schools were there in the province or territory where you live?\n",
    "2. Which was the last residential school to be closed and in which province was it located?\n",
    "\n",
    "Because programming can be pretty unforgiving with typos, here are the provinces and territories in this dataset:"
   ]
  },
  {
   "cell_type": "code",
   "execution_count": null,
   "metadata": {},
   "outputs": [],
   "source": [
    "rsl_data['Province or Territory'].unique().tolist()"
   ]
  },
  {
   "cell_type": "code",
   "execution_count": null,
   "metadata": {},
   "outputs": [],
   "source": [
    "region = 'Alberta' # you can change this to your province or territory\n",
    "regional_data = rsl_data[rsl_data['Province or Territory']==region]\n",
    "print('There were', len(regional_data), 'residential schools in', region+':')\n",
    "regional_data"
   ]
  },
  {
   "cell_type": "markdown",
   "metadata": {},
   "source": [
    "To see how many residential schools were in each province or territory, we can group the data by `Province or Territory`, then count and sort the values, and display just one column."
   ]
  },
  {
   "cell_type": "code",
   "execution_count": null,
   "metadata": {},
   "outputs": [],
   "source": [
    "rsl_data.groupby('Province or Territory').count().sort_values('School_num', ascending=False)['School_num']"
   ]
  },
  {
   "cell_type": "markdown",
   "metadata": {},
   "source": [
    "The resulting table shows that the province with fewest residential schools was Nova Scotia with only 1 school, and Alberta had the most with 33 residential schools.\n",
    "\n",
    "The second question is \"What was the last residential school to be closed and in which province was it located?\" To answer this we can sort the values by when the residential schools were closed, the `To` column in our dataframe. We'll also use `.head(10)` to display just the first 10 values, but you can change that number to display as many (or as few) rows as you'd like."
   ]
  },
  {
   "cell_type": "code",
   "execution_count": null,
   "metadata": {},
   "outputs": [],
   "source": [
    "display(rsl_data.sort_values('To', ascending=False).head(10))\n",
    "print(f'The total size of this dataset is {rsl_data.shape[0]} rows and {rsl_data.shape[1]} columns')"
   ]
  },
  {
   "cell_type": "markdown",
   "metadata": {},
   "source": [
    "The [Shingwauk Residential School Centre at Algoma University](https://www.algomau.ca/research/shingwauk-residential-schools-centre) has put together a dataset with list of residential schools with information about their names, location, dates of operation, religion that the school followed, and some notes about them. It is to be noted that this may not be a definitive or complete list as it was created as part of their work in process as a community archive.\n",
    "\n",
    "We have used **geocoding**, converting addresses into coordinates, to add `Latitude` and `Longitude` values to this dataset. There may be some errors in the geocoding, we'd appreciate some help identifying them."
   ]
  },
  {
   "cell_type": "code",
   "execution_count": null,
   "metadata": {},
   "outputs": [],
   "source": [
    "shingwauk_df = pd.read_csv('https://raw.githubusercontent.com/callysto/data-files/main/SocialStudies/GeographyResidentialSchools/IRSlist_with_latlng.txt', sep = '\\t')\n",
    "shingwauk_df"
   ]
  },
  {
   "cell_type": "markdown",
   "metadata": {},
   "source": [
    "### Questions\n",
    "\n",
    "1. Can you identify two differences between this dataset and the previous one?\n",
    "2. Are there the same number of rows in each dataset?\n",
    "\n",
    "To compare the two datasets, let's add this new dataset to the previous map."
   ]
  },
  {
   "cell_type": "code",
   "execution_count": null,
   "metadata": {},
   "outputs": [],
   "source": [
    "for i, row in shingwauk_df.iterrows():\n",
    "    location = [row['Latitude'],row['Longitude']]\n",
    "    name = row['School Name']\n",
    "    #description = row['Dates']\n",
    "    description = row['Latitude']\n",
    "    rsl_map.add_child(folium.Marker(location=location, tooltip=name, popup=description))\n",
    "rsl_map"
   ]
  },
  {
   "cell_type": "markdown",
   "metadata": {},
   "source": [
    "The orange markers represent the residential schools listed in the first dataset while blue markers represent the schools from the second dataset. \n",
    "\n",
    "Since we geolocated the latitude and longitude values in the second dataset to their nearest city or town listed in the location column, they may not represent the precise location of the school. If you hover over the data points on the map you'll see that some of schools from the two datasets align perfectly at the same location while some do not.\n",
    "\n",
    "We can also create a map with the markers clustered together. Clicking on a cluster will expand it."
   ]
  },
  {
   "cell_type": "code",
   "execution_count": null,
   "metadata": {},
   "outputs": [],
   "source": [
    "from folium.plugins import MarkerCluster\n",
    "rsl_map2 = folium.Map(location=latlon, zoom_start=3)\n",
    "\n",
    "marker_cluster1 = MarkerCluster()\n",
    "for i, row in rsl_data.iterrows():\n",
    "    location = [row['Latitude'],row['Longitude']]\n",
    "    name = row['Name']\n",
    "    description = str(row['From'])+' to '+str(row['To'])\n",
    "    marker_cluster1.add_child(folium.Marker(location=location, tooltip=name, popup=description,\n",
    "                                   icon=folium.Icon(color='orange', icon='glyphicon-plus')))\n",
    "rsl_map2.add_child(marker_cluster1)\n",
    "\n",
    "marker_cluster2 = MarkerCluster()\n",
    "for i, row in shingwauk_df.iterrows():\n",
    "    location = [row['Latitude'],row['Longitude']]\n",
    "    name = row['School Name']\n",
    "    description = row['Dates']\n",
    "    marker_cluster2.add_child(folium.Marker(location=location, tooltip=name, popup=description))\n",
    "rsl_map2.add_child(marker_cluster2)\n",
    "rsl_map2"
   ]
  },
  {
   "cell_type": "markdown",
   "metadata": {},
   "source": [
    "### Questions\n",
    "\n",
    "1. Identify 1 school in your province or territory (if any) that has locations slightly different in the two datasets and note the geographic coordinates.\n",
    "2. Identify 1 school in your province or territory (if any) whose location information match pretty closely in the two datasets and note the geographic coordinates. \n",
    "3. Why is it important to have precise location information?\n",
    "\n",
    "## Calls to Action\n",
    "\n",
    "The report that the Truth and Reconciliation Commission published after listening to thousands of residential school survivors paved way to 94 Calls to Action. These are individual instructions to guide governments, communities, and faith groups down the road to reconciliation. These 94 Calls to Action can be categorized into six themes: Child Welfare, Education, Language & Culture, Health, Justice, and Reconciliation.\n",
    "\n",
    "CBC News has an interactive webpage called [Beyond94](https://www.cbc.ca/beyond94) dedicated to track the progress of these 94 Calls to Action. This webpage gives detailed information on all of these 94 Calls to Action and CBC's analysis on what has been acheived so for, what is in progress, and what is yet to be started.\n",
    "\n",
    "### Questions\n",
    "\n",
    "Take a look at [Beyond94](https://newsinteractives.cbc.ca/longform-single/beyond-94) to answer the following questions.\n",
    "\n",
    "1. How many Calls to Action are in progress? \n",
    "2. Which Calls to Actions have already been completed?\n",
    "3. Pick any one Call to Action under the theme \"Justice\" and summarize what it means as well as any progress.\n"
   ]
  },
  {
   "cell_type": "markdown",
   "metadata": {},
   "source": [
    "[![Callysto.ca License](https://github.com/callysto/curriculum-notebooks/blob/master/callysto-notebook-banner-bottom.jpg?raw=true)](https://github.com/callysto/curriculum-notebooks/blob/master/LICENSE.md)"
   ]
  }
 ],
 "metadata": {
  "kernelspec": {
   "display_name": "Python 3.10.1 64-bit",
   "language": "python",
   "name": "python3"
  },
  "language_info": {
   "codemirror_mode": {
    "name": "ipython",
    "version": 3
   },
   "file_extension": ".py",
   "mimetype": "text/x-python",
   "name": "python",
   "nbconvert_exporter": "python",
   "pygments_lexer": "ipython3",
   "version": "3.10.1"
  },
  "vscode": {
   "interpreter": {
    "hash": "d1ca6d17674200220921376aaeb3d36cffe15ecab2470a9a5e7a456cdbf61425"
   }
  }
 },
 "nbformat": 4,
 "nbformat_minor": 4
}
