{
 "cells": [
  {
   "cell_type": "markdown",
   "metadata": {},
   "source": [
    "![Callysto.ca Banner](https://github.com/callysto/curriculum-notebooks/blob/master/callysto-notebook-banner-top.jpg?raw=true)"
   ]
  },
  {
   "cell_type": "markdown",
   "metadata": {},
   "source": [
    "# United Nations - Part 2"
   ]
  },
  {
   "cell_type": "markdown",
   "metadata": {},
   "source": [
    "This is the second notebook in the United Nations notebook series. In this second notebook, we'll be focusing on expanding on the topic of HDI a.k.a. Human Development Index. The [Human Development Index](https://hdr.undp.org/data-center/human-development-index#/indicies/HDI) (HDI) defined by the United Nations (UN) is: \n",
    "\n",
    "*\"a summary measure of average achievement in key dimensions of human development: a long and healthy life, being knowledgeable and having a decent stand of living.\"*\n",
    "\n",
    "To follow-up on this idea of HDI, in this notebook we'll be mainly exploring dimensions that adjust this HDI value. Specifically, this will be in the form of any inequalities (**Inequality-adjusted Human Development Index** or **IHDI**) and factors of poverty (**Multidimensional Poverty Index** or **MPI**). "
   ]
  },
  {
   "cell_type": "markdown",
   "metadata": {},
   "source": [
    "A more thorough analysis can be found using the UN's [technical notes](https://hdr.undp.org/sites/default/files/2021-22_HDR/hdr2021-22_technical_notes.pdf) diagrams below:\n",
    "\n",
    "<div style=\"text-align:center\"><img src=\"images/IHDI.png\" alt=\"HDI Diagram\" /></div>\n",
    "<div style=\"text-align:center\"><img src=\"images/MPI.png\" alt=\"HDI Diagram\" /></div>"
   ]
  },
  {
   "cell_type": "markdown",
   "metadata": {},
   "source": [
    "### Code: "
   ]
  },
  {
   "cell_type": "markdown",
   "metadata": {},
   "source": [
    "Run the code cells below to import the libraries we need for this project. Libraries are pre-made code that make it easier to analyze our data."
   ]
  },
  {
   "cell_type": "code",
   "execution_count": null,
   "metadata": {},
   "outputs": [],
   "source": [
    "import pandas as pd\n",
    "import plotly.express as px\n",
    "import warnings\n",
    "warnings.filterwarnings(\"ignore\")\n",
    "print(\"Libraries imported.\")"
   ]
  },
  {
   "cell_type": "code",
   "execution_count": null,
   "metadata": {},
   "outputs": [],
   "source": [
    "IHDI = pd.read_excel('https://raw.githubusercontent.com/callysto/data-files/main/SocialStudies/UnitedNations/HDI_inequality_adjusted.xlsx')\n",
    "display(IHDI)\n",
    "\n",
    "temp = pd.read_excel('https://raw.githubusercontent.com/callysto/data-files/main/SocialStudies/UnitedNations/HDI_multidimensional_poverty.xlsx', sheet_name=None)\n",
    "sheet_names = list(temp.keys())\n",
    "\n",
    "MPI_1 = temp[sheet_names[0]]\n",
    "MPI_2 = temp[sheet_names[1]]\n",
    "\n",
    "print(\"Sheet 1 Data:\")\n",
    "display(MPI_1)\n",
    "\n",
    "print(\"Sheet 2 Data:\")\n",
    "display(MPI_2)"
   ]
  }
 ],
 "metadata": {
  "kernelspec": {
   "display_name": "Python 3",
   "language": "python",
   "name": "python3"
  },
  "language_info": {
   "codemirror_mode": {
    "name": "ipython",
    "version": 3
   },
   "file_extension": ".py",
   "mimetype": "text/x-python",
   "name": "python",
   "nbconvert_exporter": "python",
   "pygments_lexer": "ipython3",
   "version": "3.10.8"
  }
 },
 "nbformat": 4,
 "nbformat_minor": 2
}
