{
 "cells": [
  {
   "cell_type": "markdown",
   "metadata": {},
   "source": [
    "![Callysto.ca Banner](https://github.com/callysto/curriculum-notebooks/blob/master/callysto-notebook-banner-top.jpg?raw=true)\n",
    "\n",
    "<a href=\"https://hub.callysto.ca/jupyter/hub/user-redirect/git-pull?repo=https%3A%2F%2Fgithub.com%2Fcallysto%2Fcurriculum-notebooks&branch=master&subPath=SocialStudies&depth=1\" target=\"_parent\"><img src=\"https://raw.githubusercontent.com/callysto/curriculum-notebooks/master/open-in-callysto-button.svg?sanitize=true\" width=\"123\" height=\"24\" alt=\"Open in Callysto\"></a>"
   ]
  },
  {
   "cell_type": "markdown",
   "metadata": {},
   "source": [
    "# United Nations\n",
    "\n"
   ]
  },
  {
   "attachments": {},
   "cell_type": "markdown",
   "metadata": {},
   "source": [
    "The [Human Development Index](https://hdr.undp.org/data-center/human-development-index#/indicies/HDI) (HDI) stands as a pivotal tool designed by the United Nations to provide a comprehensive assessment of a nation's development. The emphasis behind the HDI is the fundamental principle that the well-being and capabilities of individuals should serve as the primary indicators of a country's progress, rather than relying solely on economic growth. Comprised of various key dimensions, the HDI aims to offer a holistic perspective on human development by evaluating the average progress on three fundamental aspects:\n",
    "\n",
    "1. **A Long and Healthy Life**: This dimension encompasses the evaluation of life expectancy, reflecting the overall health and well-being of the population within a nation.\n",
    "\n",
    "2. **Knowledge**: This dimension takes into account factors such as educational attainment and the overall accessibility to education, indicating the level of intellectual development within a society.\n",
    "\n",
    "3. **A Decent Standard of Living**: The HDI also considers the standard of living within a country, taking into account various socioeconomic factors that contribute to the quality of life, such as income, employment opportunities, and access to basic amenities.\n",
    "\n",
    "A more thorough analysis can be found using the UN's [technical notes](https://hdr.undp.org/sites/default/files/2021-22_HDR/hdr2021-22_technical_notes.pdf) diagram on how they developed their HDI scoring model: \n",
    "\n",
    "<div style=\"text-align:center\"><img src=\"images/HDI_diagram.png\" alt=\"HDI Diagram\" /></div>\n",
    "\n",
    "\n",
    "Throughout this notebook, we will be examining both HDI trends throughout different time periods (1990-2021) and the factors which contribute to a country's HDI score."
   ]
  },
  {
   "cell_type": "markdown",
   "metadata": {},
   "source": [
    "### Code: "
   ]
  },
  {
   "cell_type": "markdown",
   "metadata": {},
   "source": [
    "Run the code cells below to import the libraries we need for this project. Libraries are pre-made code that make it easier to analyze our data."
   ]
  },
  {
   "cell_type": "code",
   "execution_count": 100,
   "metadata": {},
   "outputs": [
    {
     "name": "stdout",
     "output_type": "stream",
     "text": [
      "Libraries imported.\n"
     ]
    }
   ],
   "source": [
    "import pandas as pd\n",
    "import plotly_express as px\n",
    "from plotly.subplots import make_subplots\n",
    "import folium\n",
    "import geopandas as gpd\n",
    "import plotly.graph_objs as go\n",
    "import ipywidgets\n",
    "from ipywidgets import interact\n",
    "from sklearn.model_selection import train_test_split\n",
    "from sklearn.linear_model import LinearRegression\n",
    "from sklearn.impute import SimpleImputer\n",
    "from sklearn.metrics import r2_score\n",
    "import warnings\n",
    "import math\n",
    "warnings.filterwarnings(\"ignore\")\n",
    "print(\"Libraries imported.\")"
   ]
  },
  {
   "cell_type": "markdown",
   "metadata": {},
   "source": [
    "### Download the Data\n",
    "\n",
    "Let's begin by downloading the Human Development Index (HDI) datasets. "
   ]
  },
  {
   "cell_type": "code",
   "execution_count": 101,
   "metadata": {},
   "outputs": [
    {
     "data": {
      "text/html": [
       "<div>\n",
       "<style scoped>\n",
       "    .dataframe tbody tr th:only-of-type {\n",
       "        vertical-align: middle;\n",
       "    }\n",
       "\n",
       "    .dataframe tbody tr th {\n",
       "        vertical-align: top;\n",
       "    }\n",
       "\n",
       "    .dataframe thead th {\n",
       "        text-align: right;\n",
       "    }\n",
       "</style>\n",
       "<table border=\"1\" class=\"dataframe\">\n",
       "  <thead>\n",
       "    <tr style=\"text-align: right;\">\n",
       "      <th></th>\n",
       "      <th>HDI rank</th>\n",
       "      <th>Country</th>\n",
       "      <th>Human Development Index (HDI)</th>\n",
       "      <th>Life expectancy at birth (years)</th>\n",
       "      <th>Expected years of schooling (years)</th>\n",
       "      <th>Mean years of schooling (years)</th>\n",
       "      <th>Gross national income (GNI) per capita (2017 PPP $)</th>\n",
       "      <th>GNI per capita rank minus HDI rank</th>\n",
       "      <th>HDI rank.1</th>\n",
       "    </tr>\n",
       "  </thead>\n",
       "  <tbody>\n",
       "    <tr>\n",
       "      <th>0</th>\n",
       "      <td>1.0</td>\n",
       "      <td>Switzerland</td>\n",
       "      <td>0.962</td>\n",
       "      <td>83.9872</td>\n",
       "      <td>16.500299</td>\n",
       "      <td>13.85966</td>\n",
       "      <td>66933.00454</td>\n",
       "      <td>5</td>\n",
       "      <td>3</td>\n",
       "    </tr>\n",
       "    <tr>\n",
       "      <th>1</th>\n",
       "      <td>2.0</td>\n",
       "      <td>Norway</td>\n",
       "      <td>0.961</td>\n",
       "      <td>83.2339</td>\n",
       "      <td>18.1852</td>\n",
       "      <td>13.00363</td>\n",
       "      <td>64660.10622</td>\n",
       "      <td>6</td>\n",
       "      <td>1</td>\n",
       "    </tr>\n",
       "    <tr>\n",
       "      <th>2</th>\n",
       "      <td>3.0</td>\n",
       "      <td>Iceland</td>\n",
       "      <td>0.959</td>\n",
       "      <td>82.6782</td>\n",
       "      <td>19.163059</td>\n",
       "      <td>13.76717</td>\n",
       "      <td>55782.04981</td>\n",
       "      <td>11</td>\n",
       "      <td>2</td>\n",
       "    </tr>\n",
       "    <tr>\n",
       "      <th>3</th>\n",
       "      <td>4.0</td>\n",
       "      <td>Hong Kong, China (SAR)</td>\n",
       "      <td>0.952</td>\n",
       "      <td>85.4734</td>\n",
       "      <td>17.27817</td>\n",
       "      <td>12.22621</td>\n",
       "      <td>62606.8454</td>\n",
       "      <td>6</td>\n",
       "      <td>4</td>\n",
       "    </tr>\n",
       "    <tr>\n",
       "      <th>4</th>\n",
       "      <td>5.0</td>\n",
       "      <td>Australia</td>\n",
       "      <td>0.951</td>\n",
       "      <td>84.5265</td>\n",
       "      <td>21.05459</td>\n",
       "      <td>12.72682</td>\n",
       "      <td>49238.43335</td>\n",
       "      <td>18</td>\n",
       "      <td>5</td>\n",
       "    </tr>\n",
       "    <tr>\n",
       "      <th>...</th>\n",
       "      <td>...</td>\n",
       "      <td>...</td>\n",
       "      <td>...</td>\n",
       "      <td>...</td>\n",
       "      <td>...</td>\n",
       "      <td>...</td>\n",
       "      <td>...</td>\n",
       "      <td>...</td>\n",
       "      <td>...</td>\n",
       "    </tr>\n",
       "    <tr>\n",
       "      <th>190</th>\n",
       "      <td>191.0</td>\n",
       "      <td>South Sudan</td>\n",
       "      <td>0.385</td>\n",
       "      <td>54.9752</td>\n",
       "      <td>5.54251</td>\n",
       "      <td>5.72614</td>\n",
       "      <td>767.787</td>\n",
       "      <td>-1</td>\n",
       "      <td>191</td>\n",
       "    </tr>\n",
       "    <tr>\n",
       "      <th>191</th>\n",
       "      <td>NaN</td>\n",
       "      <td>Korea (Democratic People's Rep. of)</td>\n",
       "      <td>..</td>\n",
       "      <td>73.2845</td>\n",
       "      <td>10.78317</td>\n",
       "      <td>..</td>\n",
       "      <td>..</td>\n",
       "      <td>..</td>\n",
       "      <td>..</td>\n",
       "    </tr>\n",
       "    <tr>\n",
       "      <th>192</th>\n",
       "      <td>NaN</td>\n",
       "      <td>Monaco</td>\n",
       "      <td>..</td>\n",
       "      <td>85.9463</td>\n",
       "      <td>..</td>\n",
       "      <td>..</td>\n",
       "      <td>..</td>\n",
       "      <td>..</td>\n",
       "      <td>..</td>\n",
       "    </tr>\n",
       "    <tr>\n",
       "      <th>193</th>\n",
       "      <td>NaN</td>\n",
       "      <td>Nauru</td>\n",
       "      <td>..</td>\n",
       "      <td>63.6170</td>\n",
       "      <td>11.69042</td>\n",
       "      <td>..</td>\n",
       "      <td>17729.74084</td>\n",
       "      <td>..</td>\n",
       "      <td>..</td>\n",
       "    </tr>\n",
       "    <tr>\n",
       "      <th>194</th>\n",
       "      <td>NaN</td>\n",
       "      <td>Somalia</td>\n",
       "      <td>..</td>\n",
       "      <td>55.2803</td>\n",
       "      <td>..</td>\n",
       "      <td>..</td>\n",
       "      <td>1017.96785</td>\n",
       "      <td>..</td>\n",
       "      <td>..</td>\n",
       "    </tr>\n",
       "  </tbody>\n",
       "</table>\n",
       "<p>195 rows × 9 columns</p>\n",
       "</div>"
      ],
      "text/plain": [
       "     HDI rank                              Country  \\\n",
       "0         1.0                          Switzerland   \n",
       "1         2.0                               Norway   \n",
       "2         3.0                              Iceland   \n",
       "3         4.0               Hong Kong, China (SAR)   \n",
       "4         5.0                            Australia   \n",
       "..        ...                                  ...   \n",
       "190     191.0                          South Sudan   \n",
       "191       NaN  Korea (Democratic People's Rep. of)   \n",
       "192       NaN                               Monaco   \n",
       "193       NaN                                Nauru   \n",
       "194       NaN                              Somalia   \n",
       "\n",
       "    Human Development Index (HDI)   Life expectancy at birth (years)  \\\n",
       "0                            0.962                           83.9872   \n",
       "1                            0.961                           83.2339   \n",
       "2                            0.959                           82.6782   \n",
       "3                            0.952                           85.4734   \n",
       "4                            0.951                           84.5265   \n",
       "..                             ...                               ...   \n",
       "190                          0.385                           54.9752   \n",
       "191                             ..                           73.2845   \n",
       "192                             ..                           85.9463   \n",
       "193                             ..                           63.6170   \n",
       "194                             ..                           55.2803   \n",
       "\n",
       "    Expected years of schooling (years) Mean years of schooling (years)  \\\n",
       "0                             16.500299                        13.85966   \n",
       "1                               18.1852                        13.00363   \n",
       "2                             19.163059                        13.76717   \n",
       "3                              17.27817                        12.22621   \n",
       "4                              21.05459                        12.72682   \n",
       "..                                  ...                             ...   \n",
       "190                             5.54251                         5.72614   \n",
       "191                            10.78317                              ..   \n",
       "192                                  ..                              ..   \n",
       "193                            11.69042                              ..   \n",
       "194                                  ..                              ..   \n",
       "\n",
       "    Gross national income (GNI) per capita (2017 PPP $)  \\\n",
       "0                                          66933.00454    \n",
       "1                                          64660.10622    \n",
       "2                                          55782.04981    \n",
       "3                                           62606.8454    \n",
       "4                                          49238.43335    \n",
       "..                                                 ...    \n",
       "190                                            767.787    \n",
       "191                                                 ..    \n",
       "192                                                 ..    \n",
       "193                                        17729.74084    \n",
       "194                                         1017.96785    \n",
       "\n",
       "    GNI per capita rank minus HDI rank HDI rank.1  \n",
       "0                                    5          3  \n",
       "1                                    6          1  \n",
       "2                                   11          2  \n",
       "3                                    6          4  \n",
       "4                                   18          5  \n",
       "..                                 ...        ...  \n",
       "190                                 -1        191  \n",
       "191                                 ..         ..  \n",
       "192                                 ..         ..  \n",
       "193                                 ..         ..  \n",
       "194                                 ..         ..  \n",
       "\n",
       "[195 rows x 9 columns]"
      ]
     },
     "metadata": {},
     "output_type": "display_data"
    },
    {
     "data": {
      "text/html": [
       "<div>\n",
       "<style scoped>\n",
       "    .dataframe tbody tr th:only-of-type {\n",
       "        vertical-align: middle;\n",
       "    }\n",
       "\n",
       "    .dataframe tbody tr th {\n",
       "        vertical-align: top;\n",
       "    }\n",
       "\n",
       "    .dataframe thead th {\n",
       "        text-align: right;\n",
       "    }\n",
       "</style>\n",
       "<table border=\"1\" class=\"dataframe\">\n",
       "  <thead>\n",
       "    <tr style=\"text-align: right;\">\n",
       "      <th></th>\n",
       "      <th>HDI rank</th>\n",
       "      <th>Country</th>\n",
       "      <th>HDI 1990</th>\n",
       "      <th>HDI 2000</th>\n",
       "      <th>HDI 2010</th>\n",
       "      <th>HDI 2015</th>\n",
       "      <th>HDI 2018</th>\n",
       "      <th>HDI 2019</th>\n",
       "      <th>HDI 2020</th>\n",
       "      <th>HDI 2021</th>\n",
       "      <th>Change in HDI rank 2015-2021</th>\n",
       "      <th>Average annual HDI growth (%) 1990-2000</th>\n",
       "      <th>Average annual HDI growth (%) 2000-2010</th>\n",
       "      <th>Average annual HDI growth (%) 2010-2021</th>\n",
       "      <th>Average annual HDI growth (%) 1990-2021</th>\n",
       "    </tr>\n",
       "  </thead>\n",
       "  <tbody>\n",
       "    <tr>\n",
       "      <th>0</th>\n",
       "      <td>1.0</td>\n",
       "      <td>Switzerland</td>\n",
       "      <td>0.851</td>\n",
       "      <td>0.887</td>\n",
       "      <td>0.942</td>\n",
       "      <td>0.954</td>\n",
       "      <td>0.959</td>\n",
       "      <td>0.962</td>\n",
       "      <td>0.956</td>\n",
       "      <td>0.962</td>\n",
       "      <td>0</td>\n",
       "      <td>0.415188</td>\n",
       "      <td>0.603416</td>\n",
       "      <td>0.191175</td>\n",
       "      <td>0.396274</td>\n",
       "    </tr>\n",
       "    <tr>\n",
       "      <th>1</th>\n",
       "      <td>2.0</td>\n",
       "      <td>Norway</td>\n",
       "      <td>0.838</td>\n",
       "      <td>0.913</td>\n",
       "      <td>0.941</td>\n",
       "      <td>0.953</td>\n",
       "      <td>0.962</td>\n",
       "      <td>0.961</td>\n",
       "      <td>0.959</td>\n",
       "      <td>0.961</td>\n",
       "      <td>0</td>\n",
       "      <td>0.860862</td>\n",
       "      <td>0.302529</td>\n",
       "      <td>0.191376</td>\n",
       "      <td>0.442772</td>\n",
       "    </tr>\n",
       "    <tr>\n",
       "      <th>2</th>\n",
       "      <td>3.0</td>\n",
       "      <td>Iceland</td>\n",
       "      <td>0.811</td>\n",
       "      <td>0.871</td>\n",
       "      <td>0.902</td>\n",
       "      <td>0.945</td>\n",
       "      <td>0.959</td>\n",
       "      <td>0.96</td>\n",
       "      <td>0.957</td>\n",
       "      <td>0.959</td>\n",
       "      <td>0</td>\n",
       "      <td>0.716292</td>\n",
       "      <td>0.350338</td>\n",
       "      <td>0.558614</td>\n",
       "      <td>0.542184</td>\n",
       "    </tr>\n",
       "    <tr>\n",
       "      <th>3</th>\n",
       "      <td>4.0</td>\n",
       "      <td>Hong Kong, China (SAR)</td>\n",
       "      <td>0.788</td>\n",
       "      <td>0.851</td>\n",
       "      <td>0.907</td>\n",
       "      <td>0.935</td>\n",
       "      <td>0.949</td>\n",
       "      <td>0.952</td>\n",
       "      <td>0.949</td>\n",
       "      <td>0.952</td>\n",
       "      <td>3</td>\n",
       "      <td>0.772106</td>\n",
       "      <td>0.639338</td>\n",
       "      <td>0.441176</td>\n",
       "      <td>0.611757</td>\n",
       "    </tr>\n",
       "    <tr>\n",
       "      <th>4</th>\n",
       "      <td>5.0</td>\n",
       "      <td>Australia</td>\n",
       "      <td>0.865</td>\n",
       "      <td>0.896</td>\n",
       "      <td>0.923</td>\n",
       "      <td>0.933</td>\n",
       "      <td>0.941</td>\n",
       "      <td>0.941</td>\n",
       "      <td>0.947</td>\n",
       "      <td>0.951</td>\n",
       "      <td>3</td>\n",
       "      <td>0.35273</td>\n",
       "      <td>0.297329</td>\n",
       "      <td>0.27205</td>\n",
       "      <td>0.306225</td>\n",
       "    </tr>\n",
       "    <tr>\n",
       "      <th>...</th>\n",
       "      <td>...</td>\n",
       "      <td>...</td>\n",
       "      <td>...</td>\n",
       "      <td>...</td>\n",
       "      <td>...</td>\n",
       "      <td>...</td>\n",
       "      <td>...</td>\n",
       "      <td>...</td>\n",
       "      <td>...</td>\n",
       "      <td>...</td>\n",
       "      <td>...</td>\n",
       "      <td>...</td>\n",
       "      <td>...</td>\n",
       "      <td>...</td>\n",
       "      <td>...</td>\n",
       "    </tr>\n",
       "    <tr>\n",
       "      <th>190</th>\n",
       "      <td>191.0</td>\n",
       "      <td>South Sudan</td>\n",
       "      <td>..</td>\n",
       "      <td>..</td>\n",
       "      <td>0.43</td>\n",
       "      <td>0.412</td>\n",
       "      <td>0.395</td>\n",
       "      <td>0.393</td>\n",
       "      <td>0.386</td>\n",
       "      <td>0.385</td>\n",
       "      <td>-3</td>\n",
       "      <td>..</td>\n",
       "      <td>..</td>\n",
       "      <td>-0.999894</td>\n",
       "      <td>..</td>\n",
       "    </tr>\n",
       "    <tr>\n",
       "      <th>191</th>\n",
       "      <td>NaN</td>\n",
       "      <td>Korea (Democratic People's Rep. of)</td>\n",
       "      <td>..</td>\n",
       "      <td>..</td>\n",
       "      <td>..</td>\n",
       "      <td>..</td>\n",
       "      <td>..</td>\n",
       "      <td>..</td>\n",
       "      <td>..</td>\n",
       "      <td>..</td>\n",
       "      <td>..</td>\n",
       "      <td>..</td>\n",
       "      <td>..</td>\n",
       "      <td>..</td>\n",
       "      <td>..</td>\n",
       "    </tr>\n",
       "    <tr>\n",
       "      <th>192</th>\n",
       "      <td>NaN</td>\n",
       "      <td>Monaco</td>\n",
       "      <td>..</td>\n",
       "      <td>..</td>\n",
       "      <td>..</td>\n",
       "      <td>..</td>\n",
       "      <td>..</td>\n",
       "      <td>..</td>\n",
       "      <td>..</td>\n",
       "      <td>..</td>\n",
       "      <td>..</td>\n",
       "      <td>..</td>\n",
       "      <td>..</td>\n",
       "      <td>..</td>\n",
       "      <td>..</td>\n",
       "    </tr>\n",
       "    <tr>\n",
       "      <th>193</th>\n",
       "      <td>NaN</td>\n",
       "      <td>Nauru</td>\n",
       "      <td>..</td>\n",
       "      <td>..</td>\n",
       "      <td>..</td>\n",
       "      <td>..</td>\n",
       "      <td>..</td>\n",
       "      <td>..</td>\n",
       "      <td>..</td>\n",
       "      <td>..</td>\n",
       "      <td>..</td>\n",
       "      <td>..</td>\n",
       "      <td>..</td>\n",
       "      <td>..</td>\n",
       "      <td>..</td>\n",
       "    </tr>\n",
       "    <tr>\n",
       "      <th>194</th>\n",
       "      <td>NaN</td>\n",
       "      <td>Somalia</td>\n",
       "      <td>..</td>\n",
       "      <td>..</td>\n",
       "      <td>..</td>\n",
       "      <td>..</td>\n",
       "      <td>..</td>\n",
       "      <td>..</td>\n",
       "      <td>..</td>\n",
       "      <td>..</td>\n",
       "      <td>..</td>\n",
       "      <td>..</td>\n",
       "      <td>..</td>\n",
       "      <td>..</td>\n",
       "      <td>..</td>\n",
       "    </tr>\n",
       "  </tbody>\n",
       "</table>\n",
       "<p>195 rows × 15 columns</p>\n",
       "</div>"
      ],
      "text/plain": [
       "     HDI rank                              Country HDI 1990 HDI 2000 HDI 2010  \\\n",
       "0         1.0                          Switzerland    0.851    0.887    0.942   \n",
       "1         2.0                               Norway    0.838    0.913    0.941   \n",
       "2         3.0                              Iceland    0.811    0.871    0.902   \n",
       "3         4.0               Hong Kong, China (SAR)    0.788    0.851    0.907   \n",
       "4         5.0                            Australia    0.865    0.896    0.923   \n",
       "..        ...                                  ...      ...      ...      ...   \n",
       "190     191.0                          South Sudan       ..       ..     0.43   \n",
       "191       NaN  Korea (Democratic People's Rep. of)       ..       ..       ..   \n",
       "192       NaN                               Monaco       ..       ..       ..   \n",
       "193       NaN                                Nauru       ..       ..       ..   \n",
       "194       NaN                              Somalia       ..       ..       ..   \n",
       "\n",
       "    HDI 2015 HDI 2018 HDI 2019 HDI 2020 HDI 2021 Change in HDI rank 2015-2021  \\\n",
       "0      0.954    0.959    0.962    0.956    0.962                            0   \n",
       "1      0.953    0.962    0.961    0.959    0.961                            0   \n",
       "2      0.945    0.959     0.96    0.957    0.959                            0   \n",
       "3      0.935    0.949    0.952    0.949    0.952                            3   \n",
       "4      0.933    0.941    0.941    0.947    0.951                            3   \n",
       "..       ...      ...      ...      ...      ...                          ...   \n",
       "190    0.412    0.395    0.393    0.386    0.385                           -3   \n",
       "191       ..       ..       ..       ..       ..                           ..   \n",
       "192       ..       ..       ..       ..       ..                           ..   \n",
       "193       ..       ..       ..       ..       ..                           ..   \n",
       "194       ..       ..       ..       ..       ..                           ..   \n",
       "\n",
       "    Average annual HDI growth (%) 1990-2000  \\\n",
       "0                                  0.415188   \n",
       "1                                  0.860862   \n",
       "2                                  0.716292   \n",
       "3                                  0.772106   \n",
       "4                                   0.35273   \n",
       "..                                      ...   \n",
       "190                                      ..   \n",
       "191                                      ..   \n",
       "192                                      ..   \n",
       "193                                      ..   \n",
       "194                                      ..   \n",
       "\n",
       "    Average annual HDI growth (%) 2000-2010  \\\n",
       "0                                  0.603416   \n",
       "1                                  0.302529   \n",
       "2                                  0.350338   \n",
       "3                                  0.639338   \n",
       "4                                  0.297329   \n",
       "..                                      ...   \n",
       "190                                      ..   \n",
       "191                                      ..   \n",
       "192                                      ..   \n",
       "193                                      ..   \n",
       "194                                      ..   \n",
       "\n",
       "    Average annual HDI growth (%) 2010-2021  \\\n",
       "0                                  0.191175   \n",
       "1                                  0.191376   \n",
       "2                                  0.558614   \n",
       "3                                  0.441176   \n",
       "4                                   0.27205   \n",
       "..                                      ...   \n",
       "190                               -0.999894   \n",
       "191                                      ..   \n",
       "192                                      ..   \n",
       "193                                      ..   \n",
       "194                                      ..   \n",
       "\n",
       "    Average annual HDI growth (%) 1990-2021  \n",
       "0                                  0.396274  \n",
       "1                                  0.442772  \n",
       "2                                  0.542184  \n",
       "3                                  0.611757  \n",
       "4                                  0.306225  \n",
       "..                                      ...  \n",
       "190                                      ..  \n",
       "191                                      ..  \n",
       "192                                      ..  \n",
       "193                                      ..  \n",
       "194                                      ..  \n",
       "\n",
       "[195 rows x 15 columns]"
      ]
     },
     "metadata": {},
     "output_type": "display_data"
    }
   ],
   "source": [
    "HDI_components = pd.read_excel(\"https://raw.githubusercontent.com/callysto/data-files/main/SocialStudies/UnitedNations/HDI_components.xlsx\")\n",
    "HDI_years = pd.read_excel(\"https://raw.githubusercontent.com/callysto/data-files/main/SocialStudies/UnitedNations/HDI_years.xlsx\")\n",
    "\n",
    "display(HDI_components, HDI_years)"
   ]
  },
  {
   "attachments": {},
   "cell_type": "markdown",
   "metadata": {},
   "source": [
    "### Examining HDI Trends\n",
    "Let's begin our analysis using the `HDI_years` dataset; dataset in this case has been converted into a *dataframe*. \n",
    "\n",
    "Think of a dataframe as similar to a [*spreadsheet*](https://en.wikipedia.org/wiki/Spreadsheet), much like the ones you might use in programs like Microsoft Excel or Google Sheets. It's a table-like structure where data is organized into rows and columns. Each row corresponds to an individual record or observation, while each column represents a specific attribute or characteristic. "
   ]
  },
  {
   "cell_type": "code",
   "execution_count": 102,
   "metadata": {},
   "outputs": [
    {
     "data": {
      "text/html": [
       "<div>\n",
       "<style scoped>\n",
       "    .dataframe tbody tr th:only-of-type {\n",
       "        vertical-align: middle;\n",
       "    }\n",
       "\n",
       "    .dataframe tbody tr th {\n",
       "        vertical-align: top;\n",
       "    }\n",
       "\n",
       "    .dataframe thead th {\n",
       "        text-align: right;\n",
       "    }\n",
       "</style>\n",
       "<table border=\"1\" class=\"dataframe\">\n",
       "  <thead>\n",
       "    <tr style=\"text-align: right;\">\n",
       "      <th></th>\n",
       "      <th>HDI rank</th>\n",
       "      <th>Country</th>\n",
       "      <th>HDI 1990</th>\n",
       "      <th>HDI 2000</th>\n",
       "      <th>HDI 2010</th>\n",
       "      <th>HDI 2015</th>\n",
       "      <th>HDI 2018</th>\n",
       "      <th>HDI 2019</th>\n",
       "      <th>HDI 2020</th>\n",
       "      <th>HDI 2021</th>\n",
       "      <th>Change in HDI rank 2015-2021</th>\n",
       "      <th>Average annual HDI growth (%) 1990-2000</th>\n",
       "      <th>Average annual HDI growth (%) 2000-2010</th>\n",
       "      <th>Average annual HDI growth (%) 2010-2021</th>\n",
       "      <th>Average annual HDI growth (%) 1990-2021</th>\n",
       "    </tr>\n",
       "  </thead>\n",
       "  <tbody>\n",
       "    <tr>\n",
       "      <th>0</th>\n",
       "      <td>1.0</td>\n",
       "      <td>Switzerland</td>\n",
       "      <td>0.851</td>\n",
       "      <td>0.887</td>\n",
       "      <td>0.942</td>\n",
       "      <td>0.954</td>\n",
       "      <td>0.959</td>\n",
       "      <td>0.962</td>\n",
       "      <td>0.956</td>\n",
       "      <td>0.962</td>\n",
       "      <td>0</td>\n",
       "      <td>0.415188</td>\n",
       "      <td>0.603416</td>\n",
       "      <td>0.191175</td>\n",
       "      <td>0.396274</td>\n",
       "    </tr>\n",
       "    <tr>\n",
       "      <th>1</th>\n",
       "      <td>2.0</td>\n",
       "      <td>Norway</td>\n",
       "      <td>0.838</td>\n",
       "      <td>0.913</td>\n",
       "      <td>0.941</td>\n",
       "      <td>0.953</td>\n",
       "      <td>0.962</td>\n",
       "      <td>0.961</td>\n",
       "      <td>0.959</td>\n",
       "      <td>0.961</td>\n",
       "      <td>0</td>\n",
       "      <td>0.860862</td>\n",
       "      <td>0.302529</td>\n",
       "      <td>0.191376</td>\n",
       "      <td>0.442772</td>\n",
       "    </tr>\n",
       "    <tr>\n",
       "      <th>2</th>\n",
       "      <td>3.0</td>\n",
       "      <td>Iceland</td>\n",
       "      <td>0.811</td>\n",
       "      <td>0.871</td>\n",
       "      <td>0.902</td>\n",
       "      <td>0.945</td>\n",
       "      <td>0.959</td>\n",
       "      <td>0.96</td>\n",
       "      <td>0.957</td>\n",
       "      <td>0.959</td>\n",
       "      <td>0</td>\n",
       "      <td>0.716292</td>\n",
       "      <td>0.350338</td>\n",
       "      <td>0.558614</td>\n",
       "      <td>0.542184</td>\n",
       "    </tr>\n",
       "    <tr>\n",
       "      <th>3</th>\n",
       "      <td>4.0</td>\n",
       "      <td>Hong Kong, China (SAR)</td>\n",
       "      <td>0.788</td>\n",
       "      <td>0.851</td>\n",
       "      <td>0.907</td>\n",
       "      <td>0.935</td>\n",
       "      <td>0.949</td>\n",
       "      <td>0.952</td>\n",
       "      <td>0.949</td>\n",
       "      <td>0.952</td>\n",
       "      <td>3</td>\n",
       "      <td>0.772106</td>\n",
       "      <td>0.639338</td>\n",
       "      <td>0.441176</td>\n",
       "      <td>0.611757</td>\n",
       "    </tr>\n",
       "    <tr>\n",
       "      <th>4</th>\n",
       "      <td>5.0</td>\n",
       "      <td>Australia</td>\n",
       "      <td>0.865</td>\n",
       "      <td>0.896</td>\n",
       "      <td>0.923</td>\n",
       "      <td>0.933</td>\n",
       "      <td>0.941</td>\n",
       "      <td>0.941</td>\n",
       "      <td>0.947</td>\n",
       "      <td>0.951</td>\n",
       "      <td>3</td>\n",
       "      <td>0.35273</td>\n",
       "      <td>0.297329</td>\n",
       "      <td>0.27205</td>\n",
       "      <td>0.306225</td>\n",
       "    </tr>\n",
       "    <tr>\n",
       "      <th>...</th>\n",
       "      <td>...</td>\n",
       "      <td>...</td>\n",
       "      <td>...</td>\n",
       "      <td>...</td>\n",
       "      <td>...</td>\n",
       "      <td>...</td>\n",
       "      <td>...</td>\n",
       "      <td>...</td>\n",
       "      <td>...</td>\n",
       "      <td>...</td>\n",
       "      <td>...</td>\n",
       "      <td>...</td>\n",
       "      <td>...</td>\n",
       "      <td>...</td>\n",
       "      <td>...</td>\n",
       "    </tr>\n",
       "    <tr>\n",
       "      <th>190</th>\n",
       "      <td>191.0</td>\n",
       "      <td>South Sudan</td>\n",
       "      <td>..</td>\n",
       "      <td>..</td>\n",
       "      <td>0.43</td>\n",
       "      <td>0.412</td>\n",
       "      <td>0.395</td>\n",
       "      <td>0.393</td>\n",
       "      <td>0.386</td>\n",
       "      <td>0.385</td>\n",
       "      <td>-3</td>\n",
       "      <td>..</td>\n",
       "      <td>..</td>\n",
       "      <td>-0.999894</td>\n",
       "      <td>..</td>\n",
       "    </tr>\n",
       "    <tr>\n",
       "      <th>191</th>\n",
       "      <td>NaN</td>\n",
       "      <td>Korea (Democratic People's Rep. of)</td>\n",
       "      <td>..</td>\n",
       "      <td>..</td>\n",
       "      <td>..</td>\n",
       "      <td>..</td>\n",
       "      <td>..</td>\n",
       "      <td>..</td>\n",
       "      <td>..</td>\n",
       "      <td>..</td>\n",
       "      <td>..</td>\n",
       "      <td>..</td>\n",
       "      <td>..</td>\n",
       "      <td>..</td>\n",
       "      <td>..</td>\n",
       "    </tr>\n",
       "    <tr>\n",
       "      <th>192</th>\n",
       "      <td>NaN</td>\n",
       "      <td>Monaco</td>\n",
       "      <td>..</td>\n",
       "      <td>..</td>\n",
       "      <td>..</td>\n",
       "      <td>..</td>\n",
       "      <td>..</td>\n",
       "      <td>..</td>\n",
       "      <td>..</td>\n",
       "      <td>..</td>\n",
       "      <td>..</td>\n",
       "      <td>..</td>\n",
       "      <td>..</td>\n",
       "      <td>..</td>\n",
       "      <td>..</td>\n",
       "    </tr>\n",
       "    <tr>\n",
       "      <th>193</th>\n",
       "      <td>NaN</td>\n",
       "      <td>Nauru</td>\n",
       "      <td>..</td>\n",
       "      <td>..</td>\n",
       "      <td>..</td>\n",
       "      <td>..</td>\n",
       "      <td>..</td>\n",
       "      <td>..</td>\n",
       "      <td>..</td>\n",
       "      <td>..</td>\n",
       "      <td>..</td>\n",
       "      <td>..</td>\n",
       "      <td>..</td>\n",
       "      <td>..</td>\n",
       "      <td>..</td>\n",
       "    </tr>\n",
       "    <tr>\n",
       "      <th>194</th>\n",
       "      <td>NaN</td>\n",
       "      <td>Somalia</td>\n",
       "      <td>..</td>\n",
       "      <td>..</td>\n",
       "      <td>..</td>\n",
       "      <td>..</td>\n",
       "      <td>..</td>\n",
       "      <td>..</td>\n",
       "      <td>..</td>\n",
       "      <td>..</td>\n",
       "      <td>..</td>\n",
       "      <td>..</td>\n",
       "      <td>..</td>\n",
       "      <td>..</td>\n",
       "      <td>..</td>\n",
       "    </tr>\n",
       "  </tbody>\n",
       "</table>\n",
       "<p>195 rows × 15 columns</p>\n",
       "</div>"
      ],
      "text/plain": [
       "     HDI rank                              Country HDI 1990 HDI 2000 HDI 2010  \\\n",
       "0         1.0                          Switzerland    0.851    0.887    0.942   \n",
       "1         2.0                               Norway    0.838    0.913    0.941   \n",
       "2         3.0                              Iceland    0.811    0.871    0.902   \n",
       "3         4.0               Hong Kong, China (SAR)    0.788    0.851    0.907   \n",
       "4         5.0                            Australia    0.865    0.896    0.923   \n",
       "..        ...                                  ...      ...      ...      ...   \n",
       "190     191.0                          South Sudan       ..       ..     0.43   \n",
       "191       NaN  Korea (Democratic People's Rep. of)       ..       ..       ..   \n",
       "192       NaN                               Monaco       ..       ..       ..   \n",
       "193       NaN                                Nauru       ..       ..       ..   \n",
       "194       NaN                              Somalia       ..       ..       ..   \n",
       "\n",
       "    HDI 2015 HDI 2018 HDI 2019 HDI 2020 HDI 2021 Change in HDI rank 2015-2021  \\\n",
       "0      0.954    0.959    0.962    0.956    0.962                            0   \n",
       "1      0.953    0.962    0.961    0.959    0.961                            0   \n",
       "2      0.945    0.959     0.96    0.957    0.959                            0   \n",
       "3      0.935    0.949    0.952    0.949    0.952                            3   \n",
       "4      0.933    0.941    0.941    0.947    0.951                            3   \n",
       "..       ...      ...      ...      ...      ...                          ...   \n",
       "190    0.412    0.395    0.393    0.386    0.385                           -3   \n",
       "191       ..       ..       ..       ..       ..                           ..   \n",
       "192       ..       ..       ..       ..       ..                           ..   \n",
       "193       ..       ..       ..       ..       ..                           ..   \n",
       "194       ..       ..       ..       ..       ..                           ..   \n",
       "\n",
       "    Average annual HDI growth (%) 1990-2000  \\\n",
       "0                                  0.415188   \n",
       "1                                  0.860862   \n",
       "2                                  0.716292   \n",
       "3                                  0.772106   \n",
       "4                                   0.35273   \n",
       "..                                      ...   \n",
       "190                                      ..   \n",
       "191                                      ..   \n",
       "192                                      ..   \n",
       "193                                      ..   \n",
       "194                                      ..   \n",
       "\n",
       "    Average annual HDI growth (%) 2000-2010  \\\n",
       "0                                  0.603416   \n",
       "1                                  0.302529   \n",
       "2                                  0.350338   \n",
       "3                                  0.639338   \n",
       "4                                  0.297329   \n",
       "..                                      ...   \n",
       "190                                      ..   \n",
       "191                                      ..   \n",
       "192                                      ..   \n",
       "193                                      ..   \n",
       "194                                      ..   \n",
       "\n",
       "    Average annual HDI growth (%) 2010-2021  \\\n",
       "0                                  0.191175   \n",
       "1                                  0.191376   \n",
       "2                                  0.558614   \n",
       "3                                  0.441176   \n",
       "4                                   0.27205   \n",
       "..                                      ...   \n",
       "190                               -0.999894   \n",
       "191                                      ..   \n",
       "192                                      ..   \n",
       "193                                      ..   \n",
       "194                                      ..   \n",
       "\n",
       "    Average annual HDI growth (%) 1990-2021  \n",
       "0                                  0.396274  \n",
       "1                                  0.442772  \n",
       "2                                  0.542184  \n",
       "3                                  0.611757  \n",
       "4                                  0.306225  \n",
       "..                                      ...  \n",
       "190                                      ..  \n",
       "191                                      ..  \n",
       "192                                      ..  \n",
       "193                                      ..  \n",
       "194                                      ..  \n",
       "\n",
       "[195 rows x 15 columns]"
      ]
     },
     "execution_count": 102,
     "metadata": {},
     "output_type": "execute_result"
    }
   ],
   "source": [
    "HDI_years"
   ]
  },
  {
   "cell_type": "markdown",
   "metadata": {},
   "source": [
    "Looking at our dataframe output above, we see that this dataframe contains information regarding the HDI values for various countries across the years *1990-2021*. It also offers insights into the changes in *HDI rankings*, the *average annual HDI growth rates* during specific periods, and the overall *progress of countries* in terms of human development."
   ]
  },
  {
   "cell_type": "markdown",
   "metadata": {},
   "source": [
    "### Taking a Deeper Look\n",
    "Let's start with some basic analysis by taking a deeper look into the different changes in HDI rankings of the countries in our dataframe using the `Change in HDI rank 2015-2021` column."
   ]
  },
  {
   "cell_type": "code",
   "execution_count": 103,
   "metadata": {},
   "outputs": [
    {
     "name": "stdout",
     "output_type": "stream",
     "text": [
      "Country Name: Switzerland, Change in HDI Ranking: 0\n",
      "Country Name: Norway, Change in HDI Ranking: 0\n",
      "Country Name: Iceland, Change in HDI Ranking: 0\n",
      "Country Name: Hong Kong, China (SAR), Change in HDI Ranking: 3\n",
      "Country Name: Australia, Change in HDI Ranking: 3\n",
      "Country Name: Denmark, Change in HDI Ranking: 0\n",
      "Country Name: Sweden, Change in HDI Ranking: -2\n",
      "Country Name: Ireland, Change in HDI Ranking: 6\n",
      "Country Name: Germany, Change in HDI Ranking: -5\n",
      "Country Name: Netherlands, Change in HDI Ranking: -1\n",
      "Country Name: Finland, Change in HDI Ranking: 0\n",
      "Country Name: Singapore, Change in HDI Ranking: -1\n",
      "Country Name: Belgium, Change in HDI Ranking: 2\n",
      "Country Name: New Zealand, Change in HDI Ranking: -3\n",
      "Country Name: Canada, Change in HDI Ranking: -2\n",
      "Country Name: Liechtenstein, Change in HDI Ranking: -1\n",
      "Country Name: Luxembourg, Change in HDI Ranking: 3\n",
      "Country Name: United Kingdom, Change in HDI Ranking: -3\n",
      "Country Name: Japan, Change in HDI Ranking: 0\n",
      "Country Name: Korea (Republic of), Change in HDI Ranking: 3\n",
      "Country Name: United States, Change in HDI Ranking: -3\n",
      "Country Name: Israel, Change in HDI Ranking: 0\n",
      "Country Name: Malta, Change in HDI Ranking: 4\n",
      "Country Name: Slovenia, Change in HDI Ranking: 1\n",
      "Country Name: Austria, Change in HDI Ranking: -4\n",
      "Country Name: United Arab Emirates, Change in HDI Ranking: 9\n",
      "Country Name: Spain, Change in HDI Ranking: 0\n",
      "Country Name: France, Change in HDI Ranking: -3\n",
      "Country Name: Cyprus, Change in HDI Ranking: 3\n",
      "Country Name: Italy, Change in HDI Ranking: -1\n",
      "Country Name: Estonia, Change in HDI Ranking: -2\n",
      "Country Name: Czechia, Change in HDI Ranking: -6\n",
      "Country Name: Greece, Change in HDI Ranking: -2\n",
      "Country Name: Poland, Change in HDI Ranking: -1\n",
      "Country Name: Bahrain, Change in HDI Ranking: 3\n",
      "Country Name: Lithuania, Change in HDI Ranking: 1\n",
      "Country Name: Saudi Arabia, Change in HDI Ranking: 2\n",
      "Country Name: Portugal, Change in HDI Ranking: 2\n",
      "Country Name: Latvia, Change in HDI Ranking: 1\n",
      "Country Name: Andorra, Change in HDI Ranking: -6\n",
      "Country Name: Croatia, Change in HDI Ranking: 5\n",
      "Country Name: Chile, Change in HDI Ranking: 1\n",
      "Country Name: Qatar, Change in HDI Ranking: 1\n",
      "Country Name: San Marino, Change in HDI Ranking: ..\n",
      "Country Name: Slovakia, Change in HDI Ranking: -5\n",
      "Country Name: Hungary, Change in HDI Ranking: 1\n",
      "Country Name: Argentina, Change in HDI Ranking: -4\n",
      "Country Name: Türkiye, Change in HDI Ranking: 6\n",
      "Country Name: Montenegro, Change in HDI Ranking: 3\n",
      "Country Name: Kuwait, Change in HDI Ranking: -1\n",
      "Country Name: Brunei Darussalam, Change in HDI Ranking: -3\n",
      "Country Name: Russian Federation, Change in HDI Ranking: -2\n",
      "Country Name: Romania, Change in HDI Ranking: 3\n",
      "Country Name: Oman, Change in HDI Ranking: -3\n",
      "Country Name: Bahamas, Change in HDI Ranking: -2\n",
      "Country Name: Kazakhstan, Change in HDI Ranking: 4\n",
      "Country Name: Trinidad and Tobago, Change in HDI Ranking: -2\n",
      "Country Name: Costa Rica, Change in HDI Ranking: 4\n",
      "Country Name: Uruguay, Change in HDI Ranking: 0\n",
      "Country Name: Belarus, Change in HDI Ranking: -3\n",
      "Country Name: Panama, Change in HDI Ranking: 0\n",
      "Country Name: Malaysia, Change in HDI Ranking: 1\n",
      "Country Name: Georgia, Change in HDI Ranking: 7\n",
      "Country Name: Mauritius, Change in HDI Ranking: 2\n",
      "Country Name: Serbia, Change in HDI Ranking: 4\n",
      "Country Name: Thailand, Change in HDI Ranking: 6\n",
      "Country Name: Albania, Change in HDI Ranking: -2\n",
      "Country Name: Bulgaria, Change in HDI Ranking: -9\n",
      "Country Name: Grenada, Change in HDI Ranking: 2\n",
      "Country Name: Barbados, Change in HDI Ranking: -2\n",
      "Country Name: Antigua and Barbuda, Change in HDI Ranking: -3\n",
      "Country Name: Seychelles, Change in HDI Ranking: -8\n",
      "Country Name: Sri Lanka, Change in HDI Ranking: 9\n",
      "Country Name: Bosnia and Herzegovina, Change in HDI Ranking: 10\n",
      "Country Name: Saint Kitts and Nevis, Change in HDI Ranking: 2\n",
      "Country Name: Iran (Islamic Republic of), Change in HDI Ranking: -2\n",
      "Country Name: Ukraine, Change in HDI Ranking: -2\n",
      "Country Name: North Macedonia, Change in HDI Ranking: 5\n",
      "Country Name: China, Change in HDI Ranking: 19\n",
      "Country Name: Dominican Republic, Change in HDI Ranking: 16\n",
      "Country Name: Moldova (Republic of), Change in HDI Ranking: 9\n",
      "Country Name: Palau, Change in HDI Ranking: -7\n",
      "Country Name: Cuba, Change in HDI Ranking: -7\n",
      "Country Name: Peru, Change in HDI Ranking: 1\n",
      "Country Name: Armenia, Change in HDI Ranking: -5\n",
      "Country Name: Mexico, Change in HDI Ranking: -8\n",
      "Country Name: Brazil, Change in HDI Ranking: 1\n",
      "Country Name: Colombia, Change in HDI Ranking: -1\n",
      "Country Name: Saint Vincent and the Grenadines, Change in HDI Ranking: -4\n",
      "Country Name: Maldives, Change in HDI Ranking: 6\n",
      "Country Name: Algeria, Change in HDI Ranking: 2\n",
      "Country Name: Azerbaijan, Change in HDI Ranking: -1\n",
      "Country Name: Tonga, Change in HDI Ranking: 10\n",
      "Country Name: Turkmenistan, Change in HDI Ranking: 2\n",
      "Country Name: Ecuador, Change in HDI Ranking: -14\n",
      "Country Name: Mongolia, Change in HDI Ranking: 4\n",
      "Country Name: Egypt, Change in HDI Ranking: 13\n",
      "Country Name: Tunisia, Change in HDI Ranking: 1\n",
      "Country Name: Fiji, Change in HDI Ranking: 3\n",
      "Country Name: Suriname, Change in HDI Ranking: -7\n",
      "Country Name: Uzbekistan, Change in HDI Ranking: 11\n",
      "Country Name: Dominica, Change in HDI Ranking: 11\n",
      "Country Name: Jordan, Change in HDI Ranking: 2\n",
      "Country Name: Libya, Change in HDI Ranking: 10\n",
      "Country Name: Paraguay, Change in HDI Ranking: -2\n",
      "Country Name: Palestine, State of, Change in HDI Ranking: 2\n",
      "Country Name: Saint Lucia, Change in HDI Ranking: -11\n",
      "Country Name: Guyana, Change in HDI Ranking: 12\n",
      "Country Name: South Africa, Change in HDI Ranking: -4\n",
      "Country Name: Jamaica, Change in HDI Ranking: -3\n",
      "Country Name: Samoa, Change in HDI Ranking: -6\n",
      "Country Name: Gabon, Change in HDI Ranking: 2\n",
      "Country Name: Lebanon, Change in HDI Ranking: -21\n",
      "Country Name: Indonesia, Change in HDI Ranking: 3\n",
      "Country Name: Viet Nam, Change in HDI Ranking: 5\n",
      "Country Name: Philippines, Change in HDI Ranking: 0\n",
      "Country Name: Botswana, Change in HDI Ranking: -6\n",
      "Country Name: Bolivia (Plurinational State of), Change in HDI Ranking: 0\n",
      "Country Name: Kyrgyzstan, Change in HDI Ranking: 0\n",
      "Country Name: Venezuela (Bolivarian Republic of), Change in HDI Ranking: -41\n",
      "Country Name: Iraq, Change in HDI Ranking: 1\n",
      "Country Name: Tajikistan, Change in HDI Ranking: 3\n",
      "Country Name: Belize, Change in HDI Ranking: -14\n",
      "Country Name: Morocco, Change in HDI Ranking: 3\n",
      "Country Name: El Salvador, Change in HDI Ranking: -2\n",
      "Country Name: Nicaragua, Change in HDI Ranking: 1\n",
      "Country Name: Bhutan, Change in HDI Ranking: 6\n",
      "Country Name: Cabo Verde, Change in HDI Ranking: -4\n",
      "Country Name: Bangladesh, Change in HDI Ranking: 11\n",
      "Country Name: Tuvalu, Change in HDI Ranking: -2\n",
      "Country Name: Marshall Islands, Change in HDI Ranking: -1\n",
      "Country Name: India, Change in HDI Ranking: -1\n",
      "Country Name: Ghana, Change in HDI Ranking: 5\n",
      "Country Name: Micronesia (Federated States of), Change in HDI Ranking: 0\n",
      "Country Name: Guatemala, Change in HDI Ranking: -6\n",
      "Country Name: Kiribati, Change in HDI Ranking: -1\n",
      "Country Name: Honduras, Change in HDI Ranking: 0\n",
      "Country Name: Sao Tome and Principe, Change in HDI Ranking: 4\n",
      "Country Name: Namibia, Change in HDI Ranking: -7\n",
      "Country Name: Lao People's Democratic Republic, Change in HDI Ranking: 1\n",
      "Country Name: Timor-Leste, Change in HDI Ranking: -4\n",
      "Country Name: Vanuatu, Change in HDI Ranking: 3\n",
      "Country Name: Nepal, Change in HDI Ranking: 4\n",
      "Country Name: Eswatini (Kingdom of), Change in HDI Ranking: 4\n",
      "Country Name: Equatorial Guinea, Change in HDI Ranking: -6\n",
      "Country Name: Cambodia, Change in HDI Ranking: 3\n",
      "Country Name: Zimbabwe, Change in HDI Ranking: -1\n",
      "Country Name: Angola, Change in HDI Ranking: -3\n",
      "Country Name: Myanmar, Change in HDI Ranking: 1\n",
      "Country Name: Syrian Arab Republic, Change in HDI Ranking: 5\n",
      "Country Name: Cameroon, Change in HDI Ranking: 2\n",
      "Country Name: Kenya, Change in HDI Ranking: 0\n",
      "Country Name: Congo, Change in HDI Ranking: -9\n",
      "Country Name: Zambia, Change in HDI Ranking: -4\n",
      "Country Name: Solomon Islands, Change in HDI Ranking: -1\n",
      "Country Name: Comoros, Change in HDI Ranking: 0\n",
      "Country Name: Papua New Guinea, Change in HDI Ranking: 2\n",
      "Country Name: Mauritania, Change in HDI Ranking: -2\n",
      "Country Name: Côte d'Ivoire, Change in HDI Ranking: 8\n",
      "Country Name: Tanzania (United Republic of), Change in HDI Ranking: 2\n",
      "Country Name: Pakistan, Change in HDI Ranking: -2\n",
      "Country Name: Togo, Change in HDI Ranking: 4\n",
      "Country Name: Haiti, Change in HDI Ranking: -3\n",
      "Country Name: Nigeria, Change in HDI Ranking: 1\n",
      "Country Name: Rwanda, Change in HDI Ranking: 0\n",
      "Country Name: Benin, Change in HDI Ranking: -6\n",
      "Country Name: Uganda, Change in HDI Ranking: -3\n",
      "Country Name: Lesotho, Change in HDI Ranking: 3\n",
      "Country Name: Malawi, Change in HDI Ranking: 4\n",
      "Country Name: Senegal, Change in HDI Ranking: -1\n",
      "Country Name: Djibouti, Change in HDI Ranking: 1\n",
      "Country Name: Sudan, Change in HDI Ranking: -4\n",
      "Country Name: Madagascar, Change in HDI Ranking: -3\n",
      "Country Name: Gambia, Change in HDI Ranking: 1\n",
      "Country Name: Ethiopia, Change in HDI Ranking: 6\n",
      "Country Name: Eritrea, Change in HDI Ranking: -2\n",
      "Country Name: Guinea-Bissau, Change in HDI Ranking: 2\n",
      "Country Name: Liberia, Change in HDI Ranking: 0\n",
      "Country Name: Congo (Democratic Republic of the), Change in HDI Ranking: 1\n",
      "Country Name: Afghanistan, Change in HDI Ranking: -5\n",
      "Country Name: Sierra Leone, Change in HDI Ranking: 1\n",
      "Country Name: Guinea, Change in HDI Ranking: 1\n",
      "Country Name: Yemen, Change in HDI Ranking: -6\n",
      "Country Name: Burkina Faso, Change in HDI Ranking: 2\n",
      "Country Name: Mozambique, Change in HDI Ranking: -2\n",
      "Country Name: Mali, Change in HDI Ranking: 1\n",
      "Country Name: Burundi, Change in HDI Ranking: -2\n",
      "Country Name: Central African Republic, Change in HDI Ranking: 2\n",
      "Country Name: Niger, Change in HDI Ranking: 2\n",
      "Country Name: Chad, Change in HDI Ranking: -1\n",
      "Country Name: South Sudan, Change in HDI Ranking: -3\n",
      "Country Name: Korea (Democratic People's Rep. of), Change in HDI Ranking: ..\n",
      "Country Name: Monaco, Change in HDI Ranking: ..\n",
      "Country Name: Nauru, Change in HDI Ranking: ..\n",
      "Country Name: Somalia, Change in HDI Ranking: ..\n"
     ]
    }
   ],
   "source": [
    "for index in HDI_years.index:\n",
    "    print(f\"Country Name: {HDI_years['Country'][index]}, Change in HDI Ranking: {HDI_years['Change in HDI rank 2015-2021'][index]}\")"
   ]
  },
  {
   "cell_type": "markdown",
   "metadata": {},
   "source": [
    "Interesting! However, the output above is extremely long. Instead, let's just try to find the largest positive and negative ranking changes."
   ]
  },
  {
   "cell_type": "code",
   "execution_count": 104,
   "metadata": {},
   "outputs": [
    {
     "name": "stdout",
     "output_type": "stream",
     "text": [
      "Values in `Change in HDI rank 2015-2021` column are not numeric. Let's convert them to numeric.\n"
     ]
    }
   ],
   "source": [
    "try:\n",
    "    maximum_change = HDI_years['Change in HDI rank 2015-2021'].max()\n",
    "    minimum_change = HDI_years['Change in HDI rank 2015-2021'].min()\n",
    "except TypeError:\n",
    "    print(\"Values in `Change in HDI rank 2015-2021` column are not numeric. Let's convert them to numeric.\")"
   ]
  },
  {
   "cell_type": "markdown",
   "metadata": {},
   "source": [
    "### Data-Cleaning\n",
    "We ran into an error! We tried to find the maximum and minimum values in the column `Changes in HDI rank 2015-2021` but it appears the values are not considered **numerical** (in coding terms this would be considered an *int* or *float*). We have to perform **data-cleaning**. \n",
    "\n",
    "Data cleaning is an essential process in data analysis that involves identifying and changing any inaccuracies, inconsistencies, or errors within a dataframe.  In this particular context, the column `Change in HDI rank 2015-2021` contains non-numeric values. To address this issue, we will convert the values in this column to numeric format, allowing us to perform meaningful data analysis and interpretation moving forward."
   ]
  },
  {
   "cell_type": "code",
   "execution_count": 105,
   "metadata": {},
   "outputs": [
    {
     "name": "stdout",
     "output_type": "stream",
     "text": [
      "Largest Positive Change: 19.0, Country: China\n",
      "Largest Negative Change: -41.0, Country: Venezuela (Bolivarian Republic of)\n"
     ]
    }
   ],
   "source": [
    "# The line of code below is converting the values in our column into numerical values\n",
    "HDI_years['Change in HDI rank 2015-2021'] = pd.to_numeric(HDI_years['Change in HDI rank 2015-2021'], errors='coerce')\n",
    "\n",
    "maximum_change = HDI_years['Change in HDI rank 2015-2021'].max()\n",
    "minimum_change = HDI_years['Change in HDI rank 2015-2021'].min()\n",
    "\n",
    "max_country = HDI_years.loc[HDI_years['Change in HDI rank 2015-2021'].idxmax()]['Country']\n",
    "min_country = HDI_years.loc[HDI_years['Change in HDI rank 2015-2021'].idxmin()]['Country']\n",
    "\n",
    "print(f\"Largest Positive Change: {maximum_change}, Country: {max_country}\")\n",
    "print(f\"Largest Negative Change: {minimum_change}, Country: {min_country}\")"
   ]
  },
  {
   "cell_type": "markdown",
   "metadata": {},
   "source": [
    "Perfect! We have now found which country has had the largest positive ranking change (*China*), alongside the country which has had the largest negative ranking change (*Venezuela*). "
   ]
  },
  {
   "cell_type": "markdown",
   "metadata": {},
   "source": [
    "### Reflection Questions\n",
    "\n",
    "1. What factors might have contributed to China's substantial positive ranking change over the years? On the flip-side, what potential factors could have led to Venezuela's lowered ranking? \n",
    "   \n",
    "2. How do changes in HDI rankings reflect a country's progress in terms of various aspects of human development? What are the key indicators that contribute to these changes, and how do they shape a nation's trajectory over time?"
   ]
  },
  {
   "cell_type": "markdown",
   "metadata": {},
   "source": [
    "### Finding more Trends\n",
    "Similarly, we can also find the highest and lowest annual HDI growth between certain time-periods. "
   ]
  },
  {
   "cell_type": "code",
   "execution_count": 106,
   "metadata": {},
   "outputs": [
    {
     "name": "stdout",
     "output_type": "stream",
     "text": [
      "Values in Average annual HDI growth (%) 1990-2000 column are not numeric. Let's convert them to numeric.\n",
      "\n",
      "Highest Average annual HDI growth (%) 1990-2000: 2.9511237865603723 Country: Mali \n",
      "Lowest Average annual HDI growth (%) 1990-2000: -1.4486811630783025 Country: Eswatini (Kingdom of)\n",
      "\n",
      "Values in Average annual HDI growth (%) 2000-2010 column are not numeric. Let's convert them to numeric.\n",
      "\n",
      "Highest Average annual HDI growth (%) 2000-2010: 3.7010119032192312 Country: Rwanda \n",
      "Lowest Average annual HDI growth (%) 2000-2010: -0.8165972487055861 Country: Haiti\n",
      "\n",
      "Values in Average annual HDI growth (%) 2010-2021 column are not numeric. Let's convert them to numeric.\n",
      "\n",
      "Highest Average annual HDI growth (%) 2010-2021: 1.9415996432767146 Country: Haiti \n",
      "Lowest Average annual HDI growth (%) 2010-2021: -1.2143624544819653 Country: Syrian Arab Republic\n",
      "\n",
      "Values in Average annual HDI growth (%) 1990-2021 column are not numeric. Let's convert them to numeric.\n",
      "\n",
      "Highest Average annual HDI growth (%) 1990-2021: 2.0466241004446717 Country: Mozambique \n",
      "Lowest Average annual HDI growth (%) 1990-2021: 0.08500519480711954 Country: Syrian Arab Republic\n",
      "\n"
     ]
    }
   ],
   "source": [
    "for col in HDI_years.columns[11:15]:\n",
    "    try:\n",
    "        highest_val = HDI_years[col].max()\n",
    "        lowest_val = HDI_years[col].min()\n",
    "    except:\n",
    "        print(f\"Values in {col} column are not numeric. Let's convert them to numeric.\\n\")\n",
    "        HDI_years[col] = pd.to_numeric(HDI_years[col], errors='coerce')\n",
    "        highest_val = HDI_years[col].max()\n",
    "        lowest_val = HDI_years[col].min()\n",
    "\n",
    "    index_highest_val = HDI_years.loc[HDI_years[col].idxmax()]['Country']\n",
    "    index_lowest_val = HDI_years.loc[HDI_years[col].idxmin()]['Country']\n",
    "\n",
    "    print(f\"Highest {col}: {highest_val} Country: {index_highest_val} \\nLowest {col}: {lowest_val} Country: {index_lowest_val}\\n\")"
   ]
  },
  {
   "attachments": {},
   "cell_type": "markdown",
   "metadata": {},
   "source": [
    "Examining the data output above, the biggest take-away appears to be that the overall percentages of *annual HDI growth* are not that large. \n",
    "\n",
    "The relatively modest percentages of annual HDI growth seem to align with the idea that significant changes in human development typically occur *gradually over time* rather than through *abrupt shifts*. \n",
    "\n",
    "Enhancing various aspects of people's lives, such as their *health*, *education*, and *living standards*, is a process that takes time and persistent effort. Achieving significant improvements in these areas involves addressing complex societal challenges and implementing long-term strategies. Additionally, considering the diverse obstacles that nations may encounter, like economic or political instabilities, it becomes clear that making substantial advancements in human development is a slow process."
   ]
  },
  {
   "cell_type": "markdown",
   "metadata": {},
   "source": [
    "### Visualizing Changes\n",
    "We can also convey information using visualizations. The visualization below shows the highest HDI values found in each year spanning from 1990-2021. "
   ]
  },
  {
   "cell_type": "code",
   "execution_count": 107,
   "metadata": {},
   "outputs": [
    {
     "data": {
      "application/vnd.plotly.v1+json": {
       "config": {
        "plotlyServerURL": "https://plot.ly"
       },
       "data": [
        {
         "hovertemplate": "Country=%{x}<br>Max HDI Value=%{y}<br>Year=%{text}<extra></extra>",
         "legendgroup": "",
         "marker": {
          "color": "#636efa",
          "symbol": "circle"
         },
         "mode": "markers+text",
         "name": "",
         "orientation": "v",
         "showlegend": false,
         "text": [
          "HDI 1990",
          "HDI 2000",
          "HDI 2010",
          "HDI 2015",
          "HDI 2018",
          "HDI 2019",
          "HDI 2020",
          "HDI 2021"
         ],
         "type": "scatter",
         "x": [
          "United States",
          "Norway",
          "Switzerland",
          "Switzerland",
          "Norway",
          "Switzerland",
          "Norway",
          "Switzerland"
         ],
         "xaxis": "x",
         "y": [
          0.872,
          0.913,
          0.942,
          0.954,
          0.962,
          0.962,
          0.959,
          0.962
         ],
         "yaxis": "y"
        }
       ],
       "layout": {
        "legend": {
         "tracegroupgap": 0
        },
        "template": {
         "data": {
          "bar": [
           {
            "error_x": {
             "color": "#2a3f5f"
            },
            "error_y": {
             "color": "#2a3f5f"
            },
            "marker": {
             "line": {
              "color": "#E5ECF6",
              "width": 0.5
             },
             "pattern": {
              "fillmode": "overlay",
              "size": 10,
              "solidity": 0.2
             }
            },
            "type": "bar"
           }
          ],
          "barpolar": [
           {
            "marker": {
             "line": {
              "color": "#E5ECF6",
              "width": 0.5
             },
             "pattern": {
              "fillmode": "overlay",
              "size": 10,
              "solidity": 0.2
             }
            },
            "type": "barpolar"
           }
          ],
          "carpet": [
           {
            "aaxis": {
             "endlinecolor": "#2a3f5f",
             "gridcolor": "white",
             "linecolor": "white",
             "minorgridcolor": "white",
             "startlinecolor": "#2a3f5f"
            },
            "baxis": {
             "endlinecolor": "#2a3f5f",
             "gridcolor": "white",
             "linecolor": "white",
             "minorgridcolor": "white",
             "startlinecolor": "#2a3f5f"
            },
            "type": "carpet"
           }
          ],
          "choropleth": [
           {
            "colorbar": {
             "outlinewidth": 0,
             "ticks": ""
            },
            "type": "choropleth"
           }
          ],
          "contour": [
           {
            "colorbar": {
             "outlinewidth": 0,
             "ticks": ""
            },
            "colorscale": [
             [
              0,
              "#0d0887"
             ],
             [
              0.1111111111111111,
              "#46039f"
             ],
             [
              0.2222222222222222,
              "#7201a8"
             ],
             [
              0.3333333333333333,
              "#9c179e"
             ],
             [
              0.4444444444444444,
              "#bd3786"
             ],
             [
              0.5555555555555556,
              "#d8576b"
             ],
             [
              0.6666666666666666,
              "#ed7953"
             ],
             [
              0.7777777777777778,
              "#fb9f3a"
             ],
             [
              0.8888888888888888,
              "#fdca26"
             ],
             [
              1,
              "#f0f921"
             ]
            ],
            "type": "contour"
           }
          ],
          "contourcarpet": [
           {
            "colorbar": {
             "outlinewidth": 0,
             "ticks": ""
            },
            "type": "contourcarpet"
           }
          ],
          "heatmap": [
           {
            "colorbar": {
             "outlinewidth": 0,
             "ticks": ""
            },
            "colorscale": [
             [
              0,
              "#0d0887"
             ],
             [
              0.1111111111111111,
              "#46039f"
             ],
             [
              0.2222222222222222,
              "#7201a8"
             ],
             [
              0.3333333333333333,
              "#9c179e"
             ],
             [
              0.4444444444444444,
              "#bd3786"
             ],
             [
              0.5555555555555556,
              "#d8576b"
             ],
             [
              0.6666666666666666,
              "#ed7953"
             ],
             [
              0.7777777777777778,
              "#fb9f3a"
             ],
             [
              0.8888888888888888,
              "#fdca26"
             ],
             [
              1,
              "#f0f921"
             ]
            ],
            "type": "heatmap"
           }
          ],
          "heatmapgl": [
           {
            "colorbar": {
             "outlinewidth": 0,
             "ticks": ""
            },
            "colorscale": [
             [
              0,
              "#0d0887"
             ],
             [
              0.1111111111111111,
              "#46039f"
             ],
             [
              0.2222222222222222,
              "#7201a8"
             ],
             [
              0.3333333333333333,
              "#9c179e"
             ],
             [
              0.4444444444444444,
              "#bd3786"
             ],
             [
              0.5555555555555556,
              "#d8576b"
             ],
             [
              0.6666666666666666,
              "#ed7953"
             ],
             [
              0.7777777777777778,
              "#fb9f3a"
             ],
             [
              0.8888888888888888,
              "#fdca26"
             ],
             [
              1,
              "#f0f921"
             ]
            ],
            "type": "heatmapgl"
           }
          ],
          "histogram": [
           {
            "marker": {
             "pattern": {
              "fillmode": "overlay",
              "size": 10,
              "solidity": 0.2
             }
            },
            "type": "histogram"
           }
          ],
          "histogram2d": [
           {
            "colorbar": {
             "outlinewidth": 0,
             "ticks": ""
            },
            "colorscale": [
             [
              0,
              "#0d0887"
             ],
             [
              0.1111111111111111,
              "#46039f"
             ],
             [
              0.2222222222222222,
              "#7201a8"
             ],
             [
              0.3333333333333333,
              "#9c179e"
             ],
             [
              0.4444444444444444,
              "#bd3786"
             ],
             [
              0.5555555555555556,
              "#d8576b"
             ],
             [
              0.6666666666666666,
              "#ed7953"
             ],
             [
              0.7777777777777778,
              "#fb9f3a"
             ],
             [
              0.8888888888888888,
              "#fdca26"
             ],
             [
              1,
              "#f0f921"
             ]
            ],
            "type": "histogram2d"
           }
          ],
          "histogram2dcontour": [
           {
            "colorbar": {
             "outlinewidth": 0,
             "ticks": ""
            },
            "colorscale": [
             [
              0,
              "#0d0887"
             ],
             [
              0.1111111111111111,
              "#46039f"
             ],
             [
              0.2222222222222222,
              "#7201a8"
             ],
             [
              0.3333333333333333,
              "#9c179e"
             ],
             [
              0.4444444444444444,
              "#bd3786"
             ],
             [
              0.5555555555555556,
              "#d8576b"
             ],
             [
              0.6666666666666666,
              "#ed7953"
             ],
             [
              0.7777777777777778,
              "#fb9f3a"
             ],
             [
              0.8888888888888888,
              "#fdca26"
             ],
             [
              1,
              "#f0f921"
             ]
            ],
            "type": "histogram2dcontour"
           }
          ],
          "mesh3d": [
           {
            "colorbar": {
             "outlinewidth": 0,
             "ticks": ""
            },
            "type": "mesh3d"
           }
          ],
          "parcoords": [
           {
            "line": {
             "colorbar": {
              "outlinewidth": 0,
              "ticks": ""
             }
            },
            "type": "parcoords"
           }
          ],
          "pie": [
           {
            "automargin": true,
            "type": "pie"
           }
          ],
          "scatter": [
           {
            "fillpattern": {
             "fillmode": "overlay",
             "size": 10,
             "solidity": 0.2
            },
            "type": "scatter"
           }
          ],
          "scatter3d": [
           {
            "line": {
             "colorbar": {
              "outlinewidth": 0,
              "ticks": ""
             }
            },
            "marker": {
             "colorbar": {
              "outlinewidth": 0,
              "ticks": ""
             }
            },
            "type": "scatter3d"
           }
          ],
          "scattercarpet": [
           {
            "marker": {
             "colorbar": {
              "outlinewidth": 0,
              "ticks": ""
             }
            },
            "type": "scattercarpet"
           }
          ],
          "scattergeo": [
           {
            "marker": {
             "colorbar": {
              "outlinewidth": 0,
              "ticks": ""
             }
            },
            "type": "scattergeo"
           }
          ],
          "scattergl": [
           {
            "marker": {
             "colorbar": {
              "outlinewidth": 0,
              "ticks": ""
             }
            },
            "type": "scattergl"
           }
          ],
          "scattermapbox": [
           {
            "marker": {
             "colorbar": {
              "outlinewidth": 0,
              "ticks": ""
             }
            },
            "type": "scattermapbox"
           }
          ],
          "scatterpolar": [
           {
            "marker": {
             "colorbar": {
              "outlinewidth": 0,
              "ticks": ""
             }
            },
            "type": "scatterpolar"
           }
          ],
          "scatterpolargl": [
           {
            "marker": {
             "colorbar": {
              "outlinewidth": 0,
              "ticks": ""
             }
            },
            "type": "scatterpolargl"
           }
          ],
          "scatterternary": [
           {
            "marker": {
             "colorbar": {
              "outlinewidth": 0,
              "ticks": ""
             }
            },
            "type": "scatterternary"
           }
          ],
          "surface": [
           {
            "colorbar": {
             "outlinewidth": 0,
             "ticks": ""
            },
            "colorscale": [
             [
              0,
              "#0d0887"
             ],
             [
              0.1111111111111111,
              "#46039f"
             ],
             [
              0.2222222222222222,
              "#7201a8"
             ],
             [
              0.3333333333333333,
              "#9c179e"
             ],
             [
              0.4444444444444444,
              "#bd3786"
             ],
             [
              0.5555555555555556,
              "#d8576b"
             ],
             [
              0.6666666666666666,
              "#ed7953"
             ],
             [
              0.7777777777777778,
              "#fb9f3a"
             ],
             [
              0.8888888888888888,
              "#fdca26"
             ],
             [
              1,
              "#f0f921"
             ]
            ],
            "type": "surface"
           }
          ],
          "table": [
           {
            "cells": {
             "fill": {
              "color": "#EBF0F8"
             },
             "line": {
              "color": "white"
             }
            },
            "header": {
             "fill": {
              "color": "#C8D4E3"
             },
             "line": {
              "color": "white"
             }
            },
            "type": "table"
           }
          ]
         },
         "layout": {
          "annotationdefaults": {
           "arrowcolor": "#2a3f5f",
           "arrowhead": 0,
           "arrowwidth": 1
          },
          "autotypenumbers": "strict",
          "coloraxis": {
           "colorbar": {
            "outlinewidth": 0,
            "ticks": ""
           }
          },
          "colorscale": {
           "diverging": [
            [
             0,
             "#8e0152"
            ],
            [
             0.1,
             "#c51b7d"
            ],
            [
             0.2,
             "#de77ae"
            ],
            [
             0.3,
             "#f1b6da"
            ],
            [
             0.4,
             "#fde0ef"
            ],
            [
             0.5,
             "#f7f7f7"
            ],
            [
             0.6,
             "#e6f5d0"
            ],
            [
             0.7,
             "#b8e186"
            ],
            [
             0.8,
             "#7fbc41"
            ],
            [
             0.9,
             "#4d9221"
            ],
            [
             1,
             "#276419"
            ]
           ],
           "sequential": [
            [
             0,
             "#0d0887"
            ],
            [
             0.1111111111111111,
             "#46039f"
            ],
            [
             0.2222222222222222,
             "#7201a8"
            ],
            [
             0.3333333333333333,
             "#9c179e"
            ],
            [
             0.4444444444444444,
             "#bd3786"
            ],
            [
             0.5555555555555556,
             "#d8576b"
            ],
            [
             0.6666666666666666,
             "#ed7953"
            ],
            [
             0.7777777777777778,
             "#fb9f3a"
            ],
            [
             0.8888888888888888,
             "#fdca26"
            ],
            [
             1,
             "#f0f921"
            ]
           ],
           "sequentialminus": [
            [
             0,
             "#0d0887"
            ],
            [
             0.1111111111111111,
             "#46039f"
            ],
            [
             0.2222222222222222,
             "#7201a8"
            ],
            [
             0.3333333333333333,
             "#9c179e"
            ],
            [
             0.4444444444444444,
             "#bd3786"
            ],
            [
             0.5555555555555556,
             "#d8576b"
            ],
            [
             0.6666666666666666,
             "#ed7953"
            ],
            [
             0.7777777777777778,
             "#fb9f3a"
            ],
            [
             0.8888888888888888,
             "#fdca26"
            ],
            [
             1,
             "#f0f921"
            ]
           ]
          },
          "colorway": [
           "#636efa",
           "#EF553B",
           "#00cc96",
           "#ab63fa",
           "#FFA15A",
           "#19d3f3",
           "#FF6692",
           "#B6E880",
           "#FF97FF",
           "#FECB52"
          ],
          "font": {
           "color": "#2a3f5f"
          },
          "geo": {
           "bgcolor": "white",
           "lakecolor": "white",
           "landcolor": "#E5ECF6",
           "showlakes": true,
           "showland": true,
           "subunitcolor": "white"
          },
          "hoverlabel": {
           "align": "left"
          },
          "hovermode": "closest",
          "mapbox": {
           "style": "light"
          },
          "paper_bgcolor": "white",
          "plot_bgcolor": "#E5ECF6",
          "polar": {
           "angularaxis": {
            "gridcolor": "white",
            "linecolor": "white",
            "ticks": ""
           },
           "bgcolor": "#E5ECF6",
           "radialaxis": {
            "gridcolor": "white",
            "linecolor": "white",
            "ticks": ""
           }
          },
          "scene": {
           "xaxis": {
            "backgroundcolor": "#E5ECF6",
            "gridcolor": "white",
            "gridwidth": 2,
            "linecolor": "white",
            "showbackground": true,
            "ticks": "",
            "zerolinecolor": "white"
           },
           "yaxis": {
            "backgroundcolor": "#E5ECF6",
            "gridcolor": "white",
            "gridwidth": 2,
            "linecolor": "white",
            "showbackground": true,
            "ticks": "",
            "zerolinecolor": "white"
           },
           "zaxis": {
            "backgroundcolor": "#E5ECF6",
            "gridcolor": "white",
            "gridwidth": 2,
            "linecolor": "white",
            "showbackground": true,
            "ticks": "",
            "zerolinecolor": "white"
           }
          },
          "shapedefaults": {
           "line": {
            "color": "#2a3f5f"
           }
          },
          "ternary": {
           "aaxis": {
            "gridcolor": "white",
            "linecolor": "white",
            "ticks": ""
           },
           "baxis": {
            "gridcolor": "white",
            "linecolor": "white",
            "ticks": ""
           },
           "bgcolor": "#E5ECF6",
           "caxis": {
            "gridcolor": "white",
            "linecolor": "white",
            "ticks": ""
           }
          },
          "title": {
           "x": 0.05
          },
          "xaxis": {
           "automargin": true,
           "gridcolor": "white",
           "linecolor": "white",
           "ticks": "",
           "title": {
            "standoff": 15
           },
           "zerolinecolor": "white",
           "zerolinewidth": 2
          },
          "yaxis": {
           "automargin": true,
           "gridcolor": "white",
           "linecolor": "white",
           "ticks": "",
           "title": {
            "standoff": 15
           },
           "zerolinecolor": "white",
           "zerolinewidth": 2
          }
         }
        },
        "title": {
         "text": "Highest HDI Value by Country from 1990-2021"
        },
        "xaxis": {
         "anchor": "y",
         "domain": [
          0,
          1
         ],
         "title": {
          "text": "Country"
         }
        },
        "yaxis": {
         "anchor": "x",
         "domain": [
          0,
          1
         ],
         "title": {
          "text": "Max HDI Value"
         }
        }
       }
      }
     },
     "metadata": {},
     "output_type": "display_data"
    }
   ],
   "source": [
    "HDI_cols = HDI_years.columns[2:10]\n",
    "for column in HDI_cols:\n",
    "    HDI_years[column] = pd.to_numeric(HDI_years[column], errors='coerce')\n",
    "\n",
    "temp_data = []\n",
    "for col in HDI_cols:\n",
    "    max_country = HDI_years.loc[HDI_years[col].idxmax()]['Country']\n",
    "    max_value = HDI_years[col].max()\n",
    "    temp_data.append({'Country': max_country, 'Max HDI Value': max_value, 'Year': col})\n",
    "\n",
    "highest_HDI_vals = pd.DataFrame(temp_data)\n",
    "\n",
    "highest_HDI_fig = px.scatter(highest_HDI_vals, x='Country', y='Max HDI Value', text='Year',\n",
    "                 labels=dict(x=\"Country\", y=\"Highest HDI Value\"),\n",
    "                 title=\"Highest HDI Value by Country from 1990-2021\").show()"
   ]
  },
  {
   "attachments": {},
   "cell_type": "markdown",
   "metadata": {},
   "source": [
    "Looking at the visualization above, *Norway* and *Switzerland* appear to have multiple years when they were considered to have the highest HDI value. \n",
    "\n",
    "The recurring presence of Norway and Switzerland with some of the highest HDI values suggests their consistent strong performance in various aspects of development over the years. Countries with continued high HDI scores usually have *robust systems* in healthcare, education, and other systems that support living standards. Their stable and effective governance, strong economies, and fair distribution of resources contribute to their ability to sustain these high rankings. This shows that their consistent focus on meeting the diverse needs of their people is essential for maintaining long-term progress in human development."
   ]
  },
  {
   "cell_type": "markdown",
   "metadata": {},
   "source": [
    "We can also categorize countries based on their HDI value. The [UN](https://hdr.undp.org/data-center/human-development-index#/indicies/HDI) separates countries based on their HDI scores as follows:\n",
    "\n",
    "- Countries that are considered \"Very High\" have an HDI value of 0.8 or higher\n",
    "- Countries that are considered \"High\" have an HDI value between 0.7-0.799\n",
    "- Countries that are considered \"Medium\" have an HDI value between 0.55-0.699\n",
    "- Countries that are considered \"Low\" have an HDI value below 0.55\n",
    "\n",
    "We can implement this same categorization system and filter our countries based on this system. \n",
    "\n",
    "You can change the figure you want to visualize by changing the variable `which_fig` below. For example, instead of `which_fig = 'Medium` you can input `which_fig = 'Very High`."
   ]
  },
  {
   "cell_type": "code",
   "execution_count": 108,
   "metadata": {},
   "outputs": [
    {
     "data": {
      "application/vnd.plotly.v1+json": {
       "config": {
        "plotlyServerURL": "https://plot.ly"
       },
       "data": [
        {
         "mode": "lines+markers",
         "name": "Tanzania (United Republic of)",
         "type": "scatter",
         "x": [
          "HDI 1990",
          "HDI 2000",
          "HDI 2010",
          "HDI 2015",
          "HDI 2018",
          "HDI 2019",
          "HDI 2020",
          "HDI 2021"
         ],
         "y": [
          0.371,
          0.398,
          0.493,
          0.52,
          0.538,
          0.548,
          0.548,
          0.549
         ]
        },
        {
         "mode": "lines+markers",
         "name": "Pakistan",
         "type": "scatter",
         "x": [
          "HDI 1990",
          "HDI 2000",
          "HDI 2010",
          "HDI 2015",
          "HDI 2018",
          "HDI 2019",
          "HDI 2020",
          "HDI 2021"
         ],
         "y": [
          0.4,
          0.441,
          0.505,
          0.534,
          0.545,
          0.546,
          0.543,
          0.544
         ]
        },
        {
         "mode": "lines+markers",
         "name": "Togo",
         "type": "scatter",
         "x": [
          "HDI 1990",
          "HDI 2000",
          "HDI 2010",
          "HDI 2015",
          "HDI 2018",
          "HDI 2019",
          "HDI 2020",
          "HDI 2021"
         ],
         "y": [
          0.41,
          0.446,
          0.477,
          0.514,
          0.528,
          0.535,
          0.535,
          0.539
         ]
        },
        {
         "mode": "lines+markers",
         "name": "Haiti",
         "type": "scatter",
         "x": [
          "HDI 1990",
          "HDI 2000",
          "HDI 2010",
          "HDI 2015",
          "HDI 2018",
          "HDI 2019",
          "HDI 2020",
          "HDI 2021"
         ],
         "y": [
          0.429,
          0.47,
          0.433,
          0.529,
          0.541,
          0.543,
          0.54,
          0.535
         ]
        },
        {
         "mode": "lines+markers",
         "name": "Nigeria",
         "type": "scatter",
         "x": [
          "HDI 1990",
          "HDI 2000",
          "HDI 2010",
          "HDI 2015",
          "HDI 2018",
          "HDI 2019",
          "HDI 2020",
          "HDI 2021"
         ],
         "y": [
          null,
          null,
          0.482,
          0.516,
          0.531,
          0.538,
          0.535,
          0.535
         ]
        },
        {
         "mode": "lines+markers",
         "name": "Rwanda",
         "type": "scatter",
         "x": [
          "HDI 1990",
          "HDI 2000",
          "HDI 2010",
          "HDI 2015",
          "HDI 2018",
          "HDI 2019",
          "HDI 2020",
          "HDI 2021"
         ],
         "y": [
          0.319,
          0.34,
          0.489,
          0.515,
          0.528,
          0.534,
          0.532,
          0.534
         ]
        },
        {
         "mode": "lines+markers",
         "name": "Benin",
         "type": "scatter",
         "x": [
          "HDI 1990",
          "HDI 2000",
          "HDI 2010",
          "HDI 2015",
          "HDI 2018",
          "HDI 2019",
          "HDI 2020",
          "HDI 2021"
         ],
         "y": [
          0.359,
          0.416,
          0.492,
          0.529,
          0.53,
          0.53,
          0.524,
          0.525
         ]
        },
        {
         "mode": "lines+markers",
         "name": "Uganda",
         "type": "scatter",
         "x": [
          "HDI 1990",
          "HDI 2000",
          "HDI 2010",
          "HDI 2015",
          "HDI 2018",
          "HDI 2019",
          "HDI 2020",
          "HDI 2021"
         ],
         "y": [
          0.329,
          0.394,
          0.502,
          0.517,
          0.522,
          0.525,
          0.524,
          0.525
         ]
        },
        {
         "mode": "lines+markers",
         "name": "Lesotho",
         "type": "scatter",
         "x": [
          "HDI 1990",
          "HDI 2000",
          "HDI 2010",
          "HDI 2015",
          "HDI 2018",
          "HDI 2019",
          "HDI 2020",
          "HDI 2021"
         ],
         "y": [
          0.479,
          0.452,
          0.467,
          0.503,
          0.522,
          0.524,
          0.521,
          0.514
         ]
        },
        {
         "mode": "lines+markers",
         "name": "Malawi",
         "type": "scatter",
         "x": [
          "HDI 1990",
          "HDI 2000",
          "HDI 2010",
          "HDI 2015",
          "HDI 2018",
          "HDI 2019",
          "HDI 2020",
          "HDI 2021"
         ],
         "y": [
          0.303,
          0.374,
          0.456,
          0.491,
          0.51,
          0.519,
          0.516,
          0.512
         ]
        },
        {
         "mode": "lines+markers",
         "name": "Senegal",
         "type": "scatter",
         "x": [
          "HDI 1990",
          "HDI 2000",
          "HDI 2010",
          "HDI 2015",
          "HDI 2018",
          "HDI 2019",
          "HDI 2020",
          "HDI 2021"
         ],
         "y": [
          0.373,
          0.388,
          0.468,
          0.505,
          0.512,
          0.513,
          0.513,
          0.511
         ]
        },
        {
         "mode": "lines+markers",
         "name": "Djibouti",
         "type": "scatter",
         "x": [
          "HDI 1990",
          "HDI 2000",
          "HDI 2010",
          "HDI 2015",
          "HDI 2018",
          "HDI 2019",
          "HDI 2020",
          "HDI 2021"
         ],
         "y": [
          null,
          0.361,
          0.458,
          0.493,
          0.506,
          0.512,
          0.51,
          0.509
         ]
        },
        {
         "mode": "lines+markers",
         "name": "Sudan",
         "type": "scatter",
         "x": [
          "HDI 1990",
          "HDI 2000",
          "HDI 2010",
          "HDI 2015",
          "HDI 2018",
          "HDI 2019",
          "HDI 2020",
          "HDI 2021"
         ],
         "y": [
          0.336,
          0.424,
          0.486,
          0.508,
          0.514,
          0.514,
          0.51,
          0.508
         ]
        },
        {
         "mode": "lines+markers",
         "name": "Madagascar",
         "type": "scatter",
         "x": [
          "HDI 1990",
          "HDI 2000",
          "HDI 2010",
          "HDI 2015",
          "HDI 2018",
          "HDI 2019",
          "HDI 2020",
          "HDI 2021"
         ],
         "y": [
          null,
          0.443,
          0.492,
          0.504,
          0.507,
          0.51,
          0.501,
          0.501
         ]
        },
        {
         "mode": "lines+markers",
         "name": "Gambia",
         "type": "scatter",
         "x": [
          "HDI 1990",
          "HDI 2000",
          "HDI 2010",
          "HDI 2015",
          "HDI 2018",
          "HDI 2019",
          "HDI 2020",
          "HDI 2021"
         ],
         "y": [
          0.343,
          0.404,
          0.46,
          0.478,
          0.495,
          0.503,
          0.501,
          0.5
         ]
        },
        {
         "mode": "lines+markers",
         "name": "Ethiopia",
         "type": "scatter",
         "x": [
          "HDI 1990",
          "HDI 2000",
          "HDI 2010",
          "HDI 2015",
          "HDI 2018",
          "HDI 2019",
          "HDI 2020",
          "HDI 2021"
         ],
         "y": [
          null,
          0.287,
          0.412,
          0.46,
          0.489,
          0.498,
          0.498,
          0.498
         ]
        },
        {
         "mode": "lines+markers",
         "name": "Eritrea",
         "type": "scatter",
         "x": [
          "HDI 1990",
          "HDI 2000",
          "HDI 2010",
          "HDI 2015",
          "HDI 2018",
          "HDI 2019",
          "HDI 2020",
          "HDI 2021"
         ],
         "y": [
          null,
          null,
          0.463,
          0.483,
          0.493,
          0.495,
          0.494,
          0.492
         ]
        },
        {
         "mode": "lines+markers",
         "name": "Guinea-Bissau",
         "type": "scatter",
         "x": [
          "HDI 1990",
          "HDI 2000",
          "HDI 2010",
          "HDI 2015",
          "HDI 2018",
          "HDI 2019",
          "HDI 2020",
          "HDI 2021"
         ],
         "y": [
          null,
          null,
          0.443,
          0.472,
          0.482,
          0.49,
          0.483,
          0.483
         ]
        },
        {
         "mode": "lines+markers",
         "name": "Liberia",
         "type": "scatter",
         "x": [
          "HDI 1990",
          "HDI 2000",
          "HDI 2010",
          "HDI 2015",
          "HDI 2018",
          "HDI 2019",
          "HDI 2020",
          "HDI 2021"
         ],
         "y": [
          null,
          0.438,
          0.46,
          0.473,
          0.483,
          0.484,
          0.48,
          0.481
         ]
        },
        {
         "mode": "lines+markers",
         "name": "Congo (Democratic Republic of the)",
         "type": "scatter",
         "x": [
          "HDI 1990",
          "HDI 2000",
          "HDI 2010",
          "HDI 2015",
          "HDI 2018",
          "HDI 2019",
          "HDI 2020",
          "HDI 2021"
         ],
         "y": [
          0.386,
          0.376,
          0.429,
          0.463,
          0.48,
          0.482,
          0.479,
          0.479
         ]
        },
        {
         "mode": "lines+markers",
         "name": "Afghanistan",
         "type": "scatter",
         "x": [
          "HDI 1990",
          "HDI 2000",
          "HDI 2010",
          "HDI 2015",
          "HDI 2018",
          "HDI 2019",
          "HDI 2020",
          "HDI 2021"
         ],
         "y": [
          0.273,
          0.335,
          0.448,
          0.478,
          0.483,
          0.488,
          0.483,
          0.478
         ]
        },
        {
         "mode": "lines+markers",
         "name": "Sierra Leone",
         "type": "scatter",
         "x": [
          "HDI 1990",
          "HDI 2000",
          "HDI 2010",
          "HDI 2015",
          "HDI 2018",
          "HDI 2019",
          "HDI 2020",
          "HDI 2021"
         ],
         "y": [
          0.312,
          0.318,
          0.427,
          0.453,
          0.47,
          0.48,
          0.475,
          0.477
         ]
        },
        {
         "mode": "lines+markers",
         "name": "Guinea",
         "type": "scatter",
         "x": [
          "HDI 1990",
          "HDI 2000",
          "HDI 2010",
          "HDI 2015",
          "HDI 2018",
          "HDI 2019",
          "HDI 2020",
          "HDI 2021"
         ],
         "y": [
          0.269,
          0.345,
          0.415,
          0.44,
          0.462,
          0.467,
          0.466,
          0.465
         ]
        },
        {
         "mode": "lines+markers",
         "name": "Yemen",
         "type": "scatter",
         "x": [
          "HDI 1990",
          "HDI 2000",
          "HDI 2010",
          "HDI 2015",
          "HDI 2018",
          "HDI 2019",
          "HDI 2020",
          "HDI 2021"
         ],
         "y": [
          0.383,
          0.45,
          0.51,
          0.477,
          0.459,
          0.461,
          0.46,
          0.455
         ]
        },
        {
         "mode": "lines+markers",
         "name": "Burkina Faso",
         "type": "scatter",
         "x": [
          "HDI 1990",
          "HDI 2000",
          "HDI 2010",
          "HDI 2015",
          "HDI 2018",
          "HDI 2019",
          "HDI 2020",
          "HDI 2021"
         ],
         "y": [
          null,
          0.296,
          0.372,
          0.418,
          0.449,
          0.452,
          0.449,
          0.449
         ]
        },
        {
         "mode": "lines+markers",
         "name": "Mozambique",
         "type": "scatter",
         "x": [
          "HDI 1990",
          "HDI 2000",
          "HDI 2010",
          "HDI 2015",
          "HDI 2018",
          "HDI 2019",
          "HDI 2020",
          "HDI 2021"
         ],
         "y": [
          0.238,
          0.303,
          0.402,
          0.44,
          0.451,
          0.456,
          0.453,
          0.446
         ]
        },
        {
         "mode": "lines+markers",
         "name": "Mali",
         "type": "scatter",
         "x": [
          "HDI 1990",
          "HDI 2000",
          "HDI 2010",
          "HDI 2015",
          "HDI 2018",
          "HDI 2019",
          "HDI 2020",
          "HDI 2021"
         ],
         "y": [
          0.237,
          0.317,
          0.404,
          0.416,
          0.43,
          0.433,
          0.427,
          0.428
         ]
        },
        {
         "mode": "lines+markers",
         "name": "Burundi",
         "type": "scatter",
         "x": [
          "HDI 1990",
          "HDI 2000",
          "HDI 2010",
          "HDI 2015",
          "HDI 2018",
          "HDI 2019",
          "HDI 2020",
          "HDI 2021"
         ],
         "y": [
          0.29,
          0.297,
          0.405,
          0.428,
          0.428,
          0.431,
          0.426,
          0.426
         ]
        },
        {
         "mode": "lines+markers",
         "name": "Central African Republic",
         "type": "scatter",
         "x": [
          "HDI 1990",
          "HDI 2000",
          "HDI 2010",
          "HDI 2015",
          "HDI 2018",
          "HDI 2019",
          "HDI 2020",
          "HDI 2021"
         ],
         "y": [
          0.338,
          0.329,
          0.372,
          0.384,
          0.405,
          0.411,
          0.407,
          0.404
         ]
        },
        {
         "mode": "lines+markers",
         "name": "Niger",
         "type": "scatter",
         "x": [
          "HDI 1990",
          "HDI 2000",
          "HDI 2010",
          "HDI 2015",
          "HDI 2018",
          "HDI 2019",
          "HDI 2020",
          "HDI 2021"
         ],
         "y": [
          0.216,
          0.262,
          0.338,
          0.376,
          0.399,
          0.406,
          0.401,
          0.4
         ]
        },
        {
         "mode": "lines+markers",
         "name": "Chad",
         "type": "scatter",
         "x": [
          "HDI 1990",
          "HDI 2000",
          "HDI 2010",
          "HDI 2015",
          "HDI 2018",
          "HDI 2019",
          "HDI 2020",
          "HDI 2021"
         ],
         "y": [
          null,
          0.291,
          0.362,
          0.389,
          0.398,
          0.403,
          0.397,
          0.394
         ]
        },
        {
         "mode": "lines+markers",
         "name": "South Sudan",
         "type": "scatter",
         "x": [
          "HDI 1990",
          "HDI 2000",
          "HDI 2010",
          "HDI 2015",
          "HDI 2018",
          "HDI 2019",
          "HDI 2020",
          "HDI 2021"
         ],
         "y": [
          null,
          null,
          0.43,
          0.412,
          0.395,
          0.393,
          0.386,
          0.385
         ]
        }
       ],
       "layout": {
        "height": 1000,
        "template": {
         "data": {
          "bar": [
           {
            "error_x": {
             "color": "#2a3f5f"
            },
            "error_y": {
             "color": "#2a3f5f"
            },
            "marker": {
             "line": {
              "color": "#E5ECF6",
              "width": 0.5
             },
             "pattern": {
              "fillmode": "overlay",
              "size": 10,
              "solidity": 0.2
             }
            },
            "type": "bar"
           }
          ],
          "barpolar": [
           {
            "marker": {
             "line": {
              "color": "#E5ECF6",
              "width": 0.5
             },
             "pattern": {
              "fillmode": "overlay",
              "size": 10,
              "solidity": 0.2
             }
            },
            "type": "barpolar"
           }
          ],
          "carpet": [
           {
            "aaxis": {
             "endlinecolor": "#2a3f5f",
             "gridcolor": "white",
             "linecolor": "white",
             "minorgridcolor": "white",
             "startlinecolor": "#2a3f5f"
            },
            "baxis": {
             "endlinecolor": "#2a3f5f",
             "gridcolor": "white",
             "linecolor": "white",
             "minorgridcolor": "white",
             "startlinecolor": "#2a3f5f"
            },
            "type": "carpet"
           }
          ],
          "choropleth": [
           {
            "colorbar": {
             "outlinewidth": 0,
             "ticks": ""
            },
            "type": "choropleth"
           }
          ],
          "contour": [
           {
            "colorbar": {
             "outlinewidth": 0,
             "ticks": ""
            },
            "colorscale": [
             [
              0,
              "#0d0887"
             ],
             [
              0.1111111111111111,
              "#46039f"
             ],
             [
              0.2222222222222222,
              "#7201a8"
             ],
             [
              0.3333333333333333,
              "#9c179e"
             ],
             [
              0.4444444444444444,
              "#bd3786"
             ],
             [
              0.5555555555555556,
              "#d8576b"
             ],
             [
              0.6666666666666666,
              "#ed7953"
             ],
             [
              0.7777777777777778,
              "#fb9f3a"
             ],
             [
              0.8888888888888888,
              "#fdca26"
             ],
             [
              1,
              "#f0f921"
             ]
            ],
            "type": "contour"
           }
          ],
          "contourcarpet": [
           {
            "colorbar": {
             "outlinewidth": 0,
             "ticks": ""
            },
            "type": "contourcarpet"
           }
          ],
          "heatmap": [
           {
            "colorbar": {
             "outlinewidth": 0,
             "ticks": ""
            },
            "colorscale": [
             [
              0,
              "#0d0887"
             ],
             [
              0.1111111111111111,
              "#46039f"
             ],
             [
              0.2222222222222222,
              "#7201a8"
             ],
             [
              0.3333333333333333,
              "#9c179e"
             ],
             [
              0.4444444444444444,
              "#bd3786"
             ],
             [
              0.5555555555555556,
              "#d8576b"
             ],
             [
              0.6666666666666666,
              "#ed7953"
             ],
             [
              0.7777777777777778,
              "#fb9f3a"
             ],
             [
              0.8888888888888888,
              "#fdca26"
             ],
             [
              1,
              "#f0f921"
             ]
            ],
            "type": "heatmap"
           }
          ],
          "heatmapgl": [
           {
            "colorbar": {
             "outlinewidth": 0,
             "ticks": ""
            },
            "colorscale": [
             [
              0,
              "#0d0887"
             ],
             [
              0.1111111111111111,
              "#46039f"
             ],
             [
              0.2222222222222222,
              "#7201a8"
             ],
             [
              0.3333333333333333,
              "#9c179e"
             ],
             [
              0.4444444444444444,
              "#bd3786"
             ],
             [
              0.5555555555555556,
              "#d8576b"
             ],
             [
              0.6666666666666666,
              "#ed7953"
             ],
             [
              0.7777777777777778,
              "#fb9f3a"
             ],
             [
              0.8888888888888888,
              "#fdca26"
             ],
             [
              1,
              "#f0f921"
             ]
            ],
            "type": "heatmapgl"
           }
          ],
          "histogram": [
           {
            "marker": {
             "pattern": {
              "fillmode": "overlay",
              "size": 10,
              "solidity": 0.2
             }
            },
            "type": "histogram"
           }
          ],
          "histogram2d": [
           {
            "colorbar": {
             "outlinewidth": 0,
             "ticks": ""
            },
            "colorscale": [
             [
              0,
              "#0d0887"
             ],
             [
              0.1111111111111111,
              "#46039f"
             ],
             [
              0.2222222222222222,
              "#7201a8"
             ],
             [
              0.3333333333333333,
              "#9c179e"
             ],
             [
              0.4444444444444444,
              "#bd3786"
             ],
             [
              0.5555555555555556,
              "#d8576b"
             ],
             [
              0.6666666666666666,
              "#ed7953"
             ],
             [
              0.7777777777777778,
              "#fb9f3a"
             ],
             [
              0.8888888888888888,
              "#fdca26"
             ],
             [
              1,
              "#f0f921"
             ]
            ],
            "type": "histogram2d"
           }
          ],
          "histogram2dcontour": [
           {
            "colorbar": {
             "outlinewidth": 0,
             "ticks": ""
            },
            "colorscale": [
             [
              0,
              "#0d0887"
             ],
             [
              0.1111111111111111,
              "#46039f"
             ],
             [
              0.2222222222222222,
              "#7201a8"
             ],
             [
              0.3333333333333333,
              "#9c179e"
             ],
             [
              0.4444444444444444,
              "#bd3786"
             ],
             [
              0.5555555555555556,
              "#d8576b"
             ],
             [
              0.6666666666666666,
              "#ed7953"
             ],
             [
              0.7777777777777778,
              "#fb9f3a"
             ],
             [
              0.8888888888888888,
              "#fdca26"
             ],
             [
              1,
              "#f0f921"
             ]
            ],
            "type": "histogram2dcontour"
           }
          ],
          "mesh3d": [
           {
            "colorbar": {
             "outlinewidth": 0,
             "ticks": ""
            },
            "type": "mesh3d"
           }
          ],
          "parcoords": [
           {
            "line": {
             "colorbar": {
              "outlinewidth": 0,
              "ticks": ""
             }
            },
            "type": "parcoords"
           }
          ],
          "pie": [
           {
            "automargin": true,
            "type": "pie"
           }
          ],
          "scatter": [
           {
            "fillpattern": {
             "fillmode": "overlay",
             "size": 10,
             "solidity": 0.2
            },
            "type": "scatter"
           }
          ],
          "scatter3d": [
           {
            "line": {
             "colorbar": {
              "outlinewidth": 0,
              "ticks": ""
             }
            },
            "marker": {
             "colorbar": {
              "outlinewidth": 0,
              "ticks": ""
             }
            },
            "type": "scatter3d"
           }
          ],
          "scattercarpet": [
           {
            "marker": {
             "colorbar": {
              "outlinewidth": 0,
              "ticks": ""
             }
            },
            "type": "scattercarpet"
           }
          ],
          "scattergeo": [
           {
            "marker": {
             "colorbar": {
              "outlinewidth": 0,
              "ticks": ""
             }
            },
            "type": "scattergeo"
           }
          ],
          "scattergl": [
           {
            "marker": {
             "colorbar": {
              "outlinewidth": 0,
              "ticks": ""
             }
            },
            "type": "scattergl"
           }
          ],
          "scattermapbox": [
           {
            "marker": {
             "colorbar": {
              "outlinewidth": 0,
              "ticks": ""
             }
            },
            "type": "scattermapbox"
           }
          ],
          "scatterpolar": [
           {
            "marker": {
             "colorbar": {
              "outlinewidth": 0,
              "ticks": ""
             }
            },
            "type": "scatterpolar"
           }
          ],
          "scatterpolargl": [
           {
            "marker": {
             "colorbar": {
              "outlinewidth": 0,
              "ticks": ""
             }
            },
            "type": "scatterpolargl"
           }
          ],
          "scatterternary": [
           {
            "marker": {
             "colorbar": {
              "outlinewidth": 0,
              "ticks": ""
             }
            },
            "type": "scatterternary"
           }
          ],
          "surface": [
           {
            "colorbar": {
             "outlinewidth": 0,
             "ticks": ""
            },
            "colorscale": [
             [
              0,
              "#0d0887"
             ],
             [
              0.1111111111111111,
              "#46039f"
             ],
             [
              0.2222222222222222,
              "#7201a8"
             ],
             [
              0.3333333333333333,
              "#9c179e"
             ],
             [
              0.4444444444444444,
              "#bd3786"
             ],
             [
              0.5555555555555556,
              "#d8576b"
             ],
             [
              0.6666666666666666,
              "#ed7953"
             ],
             [
              0.7777777777777778,
              "#fb9f3a"
             ],
             [
              0.8888888888888888,
              "#fdca26"
             ],
             [
              1,
              "#f0f921"
             ]
            ],
            "type": "surface"
           }
          ],
          "table": [
           {
            "cells": {
             "fill": {
              "color": "#EBF0F8"
             },
             "line": {
              "color": "white"
             }
            },
            "header": {
             "fill": {
              "color": "#C8D4E3"
             },
             "line": {
              "color": "white"
             }
            },
            "type": "table"
           }
          ]
         },
         "layout": {
          "annotationdefaults": {
           "arrowcolor": "#2a3f5f",
           "arrowhead": 0,
           "arrowwidth": 1
          },
          "autotypenumbers": "strict",
          "coloraxis": {
           "colorbar": {
            "outlinewidth": 0,
            "ticks": ""
           }
          },
          "colorscale": {
           "diverging": [
            [
             0,
             "#8e0152"
            ],
            [
             0.1,
             "#c51b7d"
            ],
            [
             0.2,
             "#de77ae"
            ],
            [
             0.3,
             "#f1b6da"
            ],
            [
             0.4,
             "#fde0ef"
            ],
            [
             0.5,
             "#f7f7f7"
            ],
            [
             0.6,
             "#e6f5d0"
            ],
            [
             0.7,
             "#b8e186"
            ],
            [
             0.8,
             "#7fbc41"
            ],
            [
             0.9,
             "#4d9221"
            ],
            [
             1,
             "#276419"
            ]
           ],
           "sequential": [
            [
             0,
             "#0d0887"
            ],
            [
             0.1111111111111111,
             "#46039f"
            ],
            [
             0.2222222222222222,
             "#7201a8"
            ],
            [
             0.3333333333333333,
             "#9c179e"
            ],
            [
             0.4444444444444444,
             "#bd3786"
            ],
            [
             0.5555555555555556,
             "#d8576b"
            ],
            [
             0.6666666666666666,
             "#ed7953"
            ],
            [
             0.7777777777777778,
             "#fb9f3a"
            ],
            [
             0.8888888888888888,
             "#fdca26"
            ],
            [
             1,
             "#f0f921"
            ]
           ],
           "sequentialminus": [
            [
             0,
             "#0d0887"
            ],
            [
             0.1111111111111111,
             "#46039f"
            ],
            [
             0.2222222222222222,
             "#7201a8"
            ],
            [
             0.3333333333333333,
             "#9c179e"
            ],
            [
             0.4444444444444444,
             "#bd3786"
            ],
            [
             0.5555555555555556,
             "#d8576b"
            ],
            [
             0.6666666666666666,
             "#ed7953"
            ],
            [
             0.7777777777777778,
             "#fb9f3a"
            ],
            [
             0.8888888888888888,
             "#fdca26"
            ],
            [
             1,
             "#f0f921"
            ]
           ]
          },
          "colorway": [
           "#636efa",
           "#EF553B",
           "#00cc96",
           "#ab63fa",
           "#FFA15A",
           "#19d3f3",
           "#FF6692",
           "#B6E880",
           "#FF97FF",
           "#FECB52"
          ],
          "font": {
           "color": "#2a3f5f"
          },
          "geo": {
           "bgcolor": "white",
           "lakecolor": "white",
           "landcolor": "#E5ECF6",
           "showlakes": true,
           "showland": true,
           "subunitcolor": "white"
          },
          "hoverlabel": {
           "align": "left"
          },
          "hovermode": "closest",
          "mapbox": {
           "style": "light"
          },
          "paper_bgcolor": "white",
          "plot_bgcolor": "#E5ECF6",
          "polar": {
           "angularaxis": {
            "gridcolor": "white",
            "linecolor": "white",
            "ticks": ""
           },
           "bgcolor": "#E5ECF6",
           "radialaxis": {
            "gridcolor": "white",
            "linecolor": "white",
            "ticks": ""
           }
          },
          "scene": {
           "xaxis": {
            "backgroundcolor": "#E5ECF6",
            "gridcolor": "white",
            "gridwidth": 2,
            "linecolor": "white",
            "showbackground": true,
            "ticks": "",
            "zerolinecolor": "white"
           },
           "yaxis": {
            "backgroundcolor": "#E5ECF6",
            "gridcolor": "white",
            "gridwidth": 2,
            "linecolor": "white",
            "showbackground": true,
            "ticks": "",
            "zerolinecolor": "white"
           },
           "zaxis": {
            "backgroundcolor": "#E5ECF6",
            "gridcolor": "white",
            "gridwidth": 2,
            "linecolor": "white",
            "showbackground": true,
            "ticks": "",
            "zerolinecolor": "white"
           }
          },
          "shapedefaults": {
           "line": {
            "color": "#2a3f5f"
           }
          },
          "ternary": {
           "aaxis": {
            "gridcolor": "white",
            "linecolor": "white",
            "ticks": ""
           },
           "baxis": {
            "gridcolor": "white",
            "linecolor": "white",
            "ticks": ""
           },
           "bgcolor": "#E5ECF6",
           "caxis": {
            "gridcolor": "white",
            "linecolor": "white",
            "ticks": ""
           }
          },
          "title": {
           "x": 0.05
          },
          "xaxis": {
           "automargin": true,
           "gridcolor": "white",
           "linecolor": "white",
           "ticks": "",
           "title": {
            "standoff": 15
           },
           "zerolinecolor": "white",
           "zerolinewidth": 2
          },
          "yaxis": {
           "automargin": true,
           "gridcolor": "white",
           "linecolor": "white",
           "ticks": "",
           "title": {
            "standoff": 15
           },
           "zerolinecolor": "white",
           "zerolinewidth": 2
          }
         }
        },
        "title": {
         "text": "HDI values for Countries in the Low Category"
        },
        "xaxis": {
         "title": {
          "text": "Year"
         }
        },
        "yaxis": {
         "title": {
          "text": "HDI"
         }
        }
       }
      }
     },
     "metadata": {},
     "output_type": "display_data"
    }
   ],
   "source": [
    "# Change this value out of 4 categories: Very High, High, Medium, and Low. \n",
    "which_fig = 'Low'  \n",
    "\n",
    "def create_hdi_fig(category, HDI_years):\n",
    "    categories = {\n",
    "        'Very High': HDI_years[HDI_years['HDI 2021'] >= 0.8],\n",
    "        'High': HDI_years[(HDI_years['HDI 2021'] >= 0.7) & (HDI_years['HDI 2021'] < 0.8)],\n",
    "        'Medium': HDI_years[(HDI_years['HDI 2021'] >= 0.55) & (HDI_years['HDI 2021'] < 0.7)],\n",
    "        'Low': HDI_years[HDI_years['HDI 2021'] < 0.55]\n",
    "    }\n",
    "\n",
    "    selected_category = categories.get(category)\n",
    "\n",
    "    if selected_category is not None:\n",
    "        fig = go.Figure()\n",
    "        for index, row in selected_category.iterrows():\n",
    "            country = row['Country']\n",
    "            hdi_values = [row[col] for col in HDI_cols]\n",
    "            fig.add_trace(go.Scatter(x=HDI_cols, y=hdi_values, mode='lines+markers', name=country))\n",
    "        fig.update_layout(title=f'HDI values for Countries in the {category} Category', xaxis_title='Year', yaxis_title='HDI', height=1000)\n",
    "        return fig\n",
    "    else:\n",
    "        return None\n",
    "\n",
    "selected_fig = create_hdi_fig(which_fig, HDI_years)\n",
    "\n",
    "if selected_fig:\n",
    "    selected_fig.show()\n",
    "else:\n",
    "    print(\"Invalid value for which_fig. Please select a valid option.\")"
   ]
  },
  {
   "cell_type": "markdown",
   "metadata": {},
   "source": [
    "Visualizing the data above can be a bit difficult considering the various number of different points that can overlap due to similar HDI scores. We can solve this issue by creating a figure based on *year*. "
   ]
  },
  {
   "cell_type": "code",
   "execution_count": 109,
   "metadata": {},
   "outputs": [
    {
     "data": {
      "application/vnd.plotly.v1+json": {
       "config": {
        "plotlyServerURL": "https://plot.ly"
       },
       "data": [
        {
         "mode": "markers",
         "name": "Switzerland",
         "type": "scatter",
         "x": [
          "Switzerland"
         ],
         "y": [
          0.851
         ]
        },
        {
         "mode": "markers",
         "name": "Norway",
         "type": "scatter",
         "x": [
          "Norway"
         ],
         "y": [
          0.838
         ]
        },
        {
         "mode": "markers",
         "name": "Iceland",
         "type": "scatter",
         "x": [
          "Iceland"
         ],
         "y": [
          0.811
         ]
        },
        {
         "mode": "markers",
         "name": "Hong Kong, China (SAR)",
         "type": "scatter",
         "x": [
          "Hong Kong, China (SAR)"
         ],
         "y": [
          0.788
         ]
        },
        {
         "mode": "markers",
         "name": "Australia",
         "type": "scatter",
         "x": [
          "Australia"
         ],
         "y": [
          0.865
         ]
        },
        {
         "mode": "markers",
         "name": "Denmark",
         "type": "scatter",
         "x": [
          "Denmark"
         ],
         "y": [
          0.834
         ]
        },
        {
         "mode": "markers",
         "name": "Sweden",
         "type": "scatter",
         "x": [
          "Sweden"
         ],
         "y": [
          0.81
         ]
        },
        {
         "mode": "markers",
         "name": "Ireland",
         "type": "scatter",
         "x": [
          "Ireland"
         ],
         "y": [
          0.737
         ]
        },
        {
         "mode": "markers",
         "name": "Germany",
         "type": "scatter",
         "x": [
          "Germany"
         ],
         "y": [
          0.829
         ]
        },
        {
         "mode": "markers",
         "name": "Netherlands",
         "type": "scatter",
         "x": [
          "Netherlands"
         ],
         "y": [
          0.847
         ]
        },
        {
         "mode": "markers",
         "name": "Finland",
         "type": "scatter",
         "x": [
          "Finland"
         ],
         "y": [
          0.814
         ]
        },
        {
         "mode": "markers",
         "name": "Singapore",
         "type": "scatter",
         "x": [
          "Singapore"
         ],
         "y": [
          0.727
         ]
        },
        {
         "mode": "markers",
         "name": "Belgium",
         "type": "scatter",
         "x": [
          "Belgium"
         ],
         "y": [
          0.816
         ]
        },
        {
         "mode": "markers",
         "name": "New Zealand",
         "type": "scatter",
         "x": [
          "New Zealand"
         ],
         "y": [
          0.806
         ]
        },
        {
         "mode": "markers",
         "name": "Canada",
         "type": "scatter",
         "x": [
          "Canada"
         ],
         "y": [
          0.86
         ]
        },
        {
         "mode": "markers",
         "name": "Liechtenstein",
         "type": "scatter",
         "x": [
          "Liechtenstein"
         ],
         "y": [
          null
         ]
        },
        {
         "mode": "markers",
         "name": "Luxembourg",
         "type": "scatter",
         "x": [
          "Luxembourg"
         ],
         "y": [
          0.786
         ]
        },
        {
         "mode": "markers",
         "name": "United Kingdom",
         "type": "scatter",
         "x": [
          "United Kingdom"
         ],
         "y": [
          0.804
         ]
        },
        {
         "mode": "markers",
         "name": "Japan",
         "type": "scatter",
         "x": [
          "Japan"
         ],
         "y": [
          0.845
         ]
        },
        {
         "mode": "markers",
         "name": "Korea (Republic of)",
         "type": "scatter",
         "x": [
          "Korea (Republic of)"
         ],
         "y": [
          0.737
         ]
        },
        {
         "mode": "markers",
         "name": "United States",
         "type": "scatter",
         "x": [
          "United States"
         ],
         "y": [
          0.872
         ]
        },
        {
         "mode": "markers",
         "name": "Israel",
         "type": "scatter",
         "x": [
          "Israel"
         ],
         "y": [
          0.787
         ]
        },
        {
         "mode": "markers",
         "name": "Malta",
         "type": "scatter",
         "x": [
          "Malta"
         ],
         "y": [
          0.73
         ]
        },
        {
         "mode": "markers",
         "name": "Slovenia",
         "type": "scatter",
         "x": [
          "Slovenia"
         ],
         "y": [
          null
         ]
        },
        {
         "mode": "markers",
         "name": "Austria",
         "type": "scatter",
         "x": [
          "Austria"
         ],
         "y": [
          0.825
         ]
        },
        {
         "mode": "markers",
         "name": "United Arab Emirates",
         "type": "scatter",
         "x": [
          "United Arab Emirates"
         ],
         "y": [
          0.728
         ]
        },
        {
         "mode": "markers",
         "name": "Spain",
         "type": "scatter",
         "x": [
          "Spain"
         ],
         "y": [
          0.757
         ]
        },
        {
         "mode": "markers",
         "name": "France",
         "type": "scatter",
         "x": [
          "France"
         ],
         "y": [
          0.791
         ]
        },
        {
         "mode": "markers",
         "name": "Cyprus",
         "type": "scatter",
         "x": [
          "Cyprus"
         ],
         "y": [
          0.716
         ]
        },
        {
         "mode": "markers",
         "name": "Italy",
         "type": "scatter",
         "x": [
          "Italy"
         ],
         "y": [
          0.778
         ]
        },
        {
         "mode": "markers",
         "name": "Estonia",
         "type": "scatter",
         "x": [
          "Estonia"
         ],
         "y": [
          0.732
         ]
        },
        {
         "mode": "markers",
         "name": "Czechia",
         "type": "scatter",
         "x": [
          "Czechia"
         ],
         "y": [
          0.742
         ]
        },
        {
         "mode": "markers",
         "name": "Greece",
         "type": "scatter",
         "x": [
          "Greece"
         ],
         "y": [
          0.759
         ]
        },
        {
         "mode": "markers",
         "name": "Poland",
         "type": "scatter",
         "x": [
          "Poland"
         ],
         "y": [
          0.716
         ]
        },
        {
         "mode": "markers",
         "name": "Bahrain",
         "type": "scatter",
         "x": [
          "Bahrain"
         ],
         "y": [
          0.742
         ]
        },
        {
         "mode": "markers",
         "name": "Lithuania",
         "type": "scatter",
         "x": [
          "Lithuania"
         ],
         "y": [
          0.734
         ]
        },
        {
         "mode": "markers",
         "name": "Saudi Arabia",
         "type": "scatter",
         "x": [
          "Saudi Arabia"
         ],
         "y": [
          0.678
         ]
        },
        {
         "mode": "markers",
         "name": "Portugal",
         "type": "scatter",
         "x": [
          "Portugal"
         ],
         "y": [
          0.701
         ]
        },
        {
         "mode": "markers",
         "name": "Latvia",
         "type": "scatter",
         "x": [
          "Latvia"
         ],
         "y": [
          0.73
         ]
        },
        {
         "mode": "markers",
         "name": "Andorra",
         "type": "scatter",
         "x": [
          "Andorra"
         ],
         "y": [
          null
         ]
        },
        {
         "mode": "markers",
         "name": "Croatia",
         "type": "scatter",
         "x": [
          "Croatia"
         ],
         "y": [
          null
         ]
        },
        {
         "mode": "markers",
         "name": "Chile",
         "type": "scatter",
         "x": [
          "Chile"
         ],
         "y": [
          0.706
         ]
        },
        {
         "mode": "markers",
         "name": "Qatar",
         "type": "scatter",
         "x": [
          "Qatar"
         ],
         "y": [
          0.758
         ]
        },
        {
         "mode": "markers",
         "name": "San Marino",
         "type": "scatter",
         "x": [
          "San Marino"
         ],
         "y": [
          null
         ]
        },
        {
         "mode": "markers",
         "name": "Slovakia",
         "type": "scatter",
         "x": [
          "Slovakia"
         ],
         "y": [
          0.692
         ]
        },
        {
         "mode": "markers",
         "name": "Hungary",
         "type": "scatter",
         "x": [
          "Hungary"
         ],
         "y": [
          0.72
         ]
        },
        {
         "mode": "markers",
         "name": "Argentina",
         "type": "scatter",
         "x": [
          "Argentina"
         ],
         "y": [
          0.723
         ]
        },
        {
         "mode": "markers",
         "name": "Türkiye",
         "type": "scatter",
         "x": [
          "Türkiye"
         ],
         "y": [
          0.6
         ]
        },
        {
         "mode": "markers",
         "name": "Montenegro",
         "type": "scatter",
         "x": [
          "Montenegro"
         ],
         "y": [
          null
         ]
        },
        {
         "mode": "markers",
         "name": "Kuwait",
         "type": "scatter",
         "x": [
          "Kuwait"
         ],
         "y": [
          0.718
         ]
        },
        {
         "mode": "markers",
         "name": "Brunei Darussalam",
         "type": "scatter",
         "x": [
          "Brunei Darussalam"
         ],
         "y": [
          0.77
         ]
        },
        {
         "mode": "markers",
         "name": "Russian Federation",
         "type": "scatter",
         "x": [
          "Russian Federation"
         ],
         "y": [
          0.743
         ]
        },
        {
         "mode": "markers",
         "name": "Romania",
         "type": "scatter",
         "x": [
          "Romania"
         ],
         "y": [
          0.703
         ]
        },
        {
         "mode": "markers",
         "name": "Oman",
         "type": "scatter",
         "x": [
          "Oman"
         ],
         "y": [
          null
         ]
        },
        {
         "mode": "markers",
         "name": "Bahamas",
         "type": "scatter",
         "x": [
          "Bahamas"
         ],
         "y": [
          null
         ]
        },
        {
         "mode": "markers",
         "name": "Kazakhstan",
         "type": "scatter",
         "x": [
          "Kazakhstan"
         ],
         "y": [
          0.673
         ]
        },
        {
         "mode": "markers",
         "name": "Trinidad and Tobago",
         "type": "scatter",
         "x": [
          "Trinidad and Tobago"
         ],
         "y": [
          0.66
         ]
        },
        {
         "mode": "markers",
         "name": "Costa Rica",
         "type": "scatter",
         "x": [
          "Costa Rica"
         ],
         "y": [
          0.66
         ]
        },
        {
         "mode": "markers",
         "name": "Uruguay",
         "type": "scatter",
         "x": [
          "Uruguay"
         ],
         "y": [
          0.701
         ]
        },
        {
         "mode": "markers",
         "name": "Belarus",
         "type": "scatter",
         "x": [
          "Belarus"
         ],
         "y": [
          null
         ]
        },
        {
         "mode": "markers",
         "name": "Panama",
         "type": "scatter",
         "x": [
          "Panama"
         ],
         "y": [
          0.669
         ]
        },
        {
         "mode": "markers",
         "name": "Malaysia",
         "type": "scatter",
         "x": [
          "Malaysia"
         ],
         "y": [
          0.64
         ]
        },
        {
         "mode": "markers",
         "name": "Georgia",
         "type": "scatter",
         "x": [
          "Georgia"
         ],
         "y": [
          null
         ]
        },
        {
         "mode": "markers",
         "name": "Mauritius",
         "type": "scatter",
         "x": [
          "Mauritius"
         ],
         "y": [
          0.626
         ]
        },
        {
         "mode": "markers",
         "name": "Serbia",
         "type": "scatter",
         "x": [
          "Serbia"
         ],
         "y": [
          null
         ]
        },
        {
         "mode": "markers",
         "name": "Thailand",
         "type": "scatter",
         "x": [
          "Thailand"
         ],
         "y": [
          0.576
         ]
        },
        {
         "mode": "markers",
         "name": "Albania",
         "type": "scatter",
         "x": [
          "Albania"
         ],
         "y": [
          0.647
         ]
        },
        {
         "mode": "markers",
         "name": "Bulgaria",
         "type": "scatter",
         "x": [
          "Bulgaria"
         ],
         "y": [
          0.684
         ]
        },
        {
         "mode": "markers",
         "name": "Grenada",
         "type": "scatter",
         "x": [
          "Grenada"
         ],
         "y": [
          null
         ]
        },
        {
         "mode": "markers",
         "name": "Barbados",
         "type": "scatter",
         "x": [
          "Barbados"
         ],
         "y": [
          0.725
         ]
        },
        {
         "mode": "markers",
         "name": "Antigua and Barbuda",
         "type": "scatter",
         "x": [
          "Antigua and Barbuda"
         ],
         "y": [
          null
         ]
        },
        {
         "mode": "markers",
         "name": "Seychelles",
         "type": "scatter",
         "x": [
          "Seychelles"
         ],
         "y": [
          null
         ]
        },
        {
         "mode": "markers",
         "name": "Sri Lanka",
         "type": "scatter",
         "x": [
          "Sri Lanka"
         ],
         "y": [
          0.636
         ]
        },
        {
         "mode": "markers",
         "name": "Bosnia and Herzegovina",
         "type": "scatter",
         "x": [
          "Bosnia and Herzegovina"
         ],
         "y": [
          null
         ]
        },
        {
         "mode": "markers",
         "name": "Saint Kitts and Nevis",
         "type": "scatter",
         "x": [
          "Saint Kitts and Nevis"
         ],
         "y": [
          null
         ]
        },
        {
         "mode": "markers",
         "name": "Iran (Islamic Republic of)",
         "type": "scatter",
         "x": [
          "Iran (Islamic Republic of)"
         ],
         "y": [
          0.601
         ]
        },
        {
         "mode": "markers",
         "name": "Ukraine",
         "type": "scatter",
         "x": [
          "Ukraine"
         ],
         "y": [
          0.729
         ]
        },
        {
         "mode": "markers",
         "name": "North Macedonia",
         "type": "scatter",
         "x": [
          "North Macedonia"
         ],
         "y": [
          null
         ]
        },
        {
         "mode": "markers",
         "name": "China",
         "type": "scatter",
         "x": [
          "China"
         ],
         "y": [
          0.484
         ]
        },
        {
         "mode": "markers",
         "name": "Dominican Republic",
         "type": "scatter",
         "x": [
          "Dominican Republic"
         ],
         "y": [
          0.577
         ]
        },
        {
         "mode": "markers",
         "name": "Moldova (Republic of)",
         "type": "scatter",
         "x": [
          "Moldova (Republic of)"
         ],
         "y": [
          0.653
         ]
        },
        {
         "mode": "markers",
         "name": "Palau",
         "type": "scatter",
         "x": [
          "Palau"
         ],
         "y": [
          null
         ]
        },
        {
         "mode": "markers",
         "name": "Cuba",
         "type": "scatter",
         "x": [
          "Cuba"
         ],
         "y": [
          0.68
         ]
        },
        {
         "mode": "markers",
         "name": "Peru",
         "type": "scatter",
         "x": [
          "Peru"
         ],
         "y": [
          0.621
         ]
        },
        {
         "mode": "markers",
         "name": "Armenia",
         "type": "scatter",
         "x": [
          "Armenia"
         ],
         "y": [
          0.656
         ]
        },
        {
         "mode": "markers",
         "name": "Mexico",
         "type": "scatter",
         "x": [
          "Mexico"
         ],
         "y": [
          0.662
         ]
        },
        {
         "mode": "markers",
         "name": "Brazil",
         "type": "scatter",
         "x": [
          "Brazil"
         ],
         "y": [
          0.61
         ]
        },
        {
         "mode": "markers",
         "name": "Colombia",
         "type": "scatter",
         "x": [
          "Colombia"
         ],
         "y": [
          0.61
         ]
        },
        {
         "mode": "markers",
         "name": "Saint Vincent and the Grenadines",
         "type": "scatter",
         "x": [
          "Saint Vincent and the Grenadines"
         ],
         "y": [
          null
         ]
        },
        {
         "mode": "markers",
         "name": "Maldives",
         "type": "scatter",
         "x": [
          "Maldives"
         ],
         "y": [
          null
         ]
        },
        {
         "mode": "markers",
         "name": "Algeria",
         "type": "scatter",
         "x": [
          "Algeria"
         ],
         "y": [
          0.591
         ]
        },
        {
         "mode": "markers",
         "name": "Azerbaijan",
         "type": "scatter",
         "x": [
          "Azerbaijan"
         ],
         "y": [
          null
         ]
        },
        {
         "mode": "markers",
         "name": "Tonga",
         "type": "scatter",
         "x": [
          "Tonga"
         ],
         "y": [
          0.645
         ]
        },
        {
         "mode": "markers",
         "name": "Turkmenistan",
         "type": "scatter",
         "x": [
          "Turkmenistan"
         ],
         "y": [
          null
         ]
        },
        {
         "mode": "markers",
         "name": "Ecuador",
         "type": "scatter",
         "x": [
          "Ecuador"
         ],
         "y": [
          0.651
         ]
        },
        {
         "mode": "markers",
         "name": "Mongolia",
         "type": "scatter",
         "x": [
          "Mongolia"
         ],
         "y": [
          0.579
         ]
        },
        {
         "mode": "markers",
         "name": "Egypt",
         "type": "scatter",
         "x": [
          "Egypt"
         ],
         "y": [
          0.572
         ]
        },
        {
         "mode": "markers",
         "name": "Tunisia",
         "type": "scatter",
         "x": [
          "Tunisia"
         ],
         "y": [
          0.576
         ]
        },
        {
         "mode": "markers",
         "name": "Fiji",
         "type": "scatter",
         "x": [
          "Fiji"
         ],
         "y": [
          0.642
         ]
        },
        {
         "mode": "markers",
         "name": "Suriname",
         "type": "scatter",
         "x": [
          "Suriname"
         ],
         "y": [
          null
         ]
        },
        {
         "mode": "markers",
         "name": "Uzbekistan",
         "type": "scatter",
         "x": [
          "Uzbekistan"
         ],
         "y": [
          null
         ]
        },
        {
         "mode": "markers",
         "name": "Dominica",
         "type": "scatter",
         "x": [
          "Dominica"
         ],
         "y": [
          null
         ]
        },
        {
         "mode": "markers",
         "name": "Jordan",
         "type": "scatter",
         "x": [
          "Jordan"
         ],
         "y": [
          0.622
         ]
        },
        {
         "mode": "markers",
         "name": "Libya",
         "type": "scatter",
         "x": [
          "Libya"
         ],
         "y": [
          0.666
         ]
        },
        {
         "mode": "markers",
         "name": "Paraguay",
         "type": "scatter",
         "x": [
          "Paraguay"
         ],
         "y": [
          0.595
         ]
        },
        {
         "mode": "markers",
         "name": "Palestine, State of",
         "type": "scatter",
         "x": [
          "Palestine, State of"
         ],
         "y": [
          null
         ]
        },
        {
         "mode": "markers",
         "name": "Saint Lucia",
         "type": "scatter",
         "x": [
          "Saint Lucia"
         ],
         "y": [
          0.69
         ]
        },
        {
         "mode": "markers",
         "name": "Guyana",
         "type": "scatter",
         "x": [
          "Guyana"
         ],
         "y": [
          0.509
         ]
        },
        {
         "mode": "markers",
         "name": "South Africa",
         "type": "scatter",
         "x": [
          "South Africa"
         ],
         "y": [
          0.632
         ]
        },
        {
         "mode": "markers",
         "name": "Jamaica",
         "type": "scatter",
         "x": [
          "Jamaica"
         ],
         "y": [
          0.659
         ]
        },
        {
         "mode": "markers",
         "name": "Samoa",
         "type": "scatter",
         "x": [
          "Samoa"
         ],
         "y": [
          null
         ]
        },
        {
         "mode": "markers",
         "name": "Gabon",
         "type": "scatter",
         "x": [
          "Gabon"
         ],
         "y": [
          0.61
         ]
        },
        {
         "mode": "markers",
         "name": "Lebanon",
         "type": "scatter",
         "x": [
          "Lebanon"
         ],
         "y": [
          null
         ]
        },
        {
         "mode": "markers",
         "name": "Indonesia",
         "type": "scatter",
         "x": [
          "Indonesia"
         ],
         "y": [
          0.526
         ]
        },
        {
         "mode": "markers",
         "name": "Viet Nam",
         "type": "scatter",
         "x": [
          "Viet Nam"
         ],
         "y": [
          0.482
         ]
        },
        {
         "mode": "markers",
         "name": "Philippines",
         "type": "scatter",
         "x": [
          "Philippines"
         ],
         "y": [
          0.598
         ]
        },
        {
         "mode": "markers",
         "name": "Botswana",
         "type": "scatter",
         "x": [
          "Botswana"
         ],
         "y": [
          0.586
         ]
        },
        {
         "mode": "markers",
         "name": "Bolivia (Plurinational State of)",
         "type": "scatter",
         "x": [
          "Bolivia (Plurinational State of)"
         ],
         "y": [
          0.55
         ]
        },
        {
         "mode": "markers",
         "name": "Kyrgyzstan",
         "type": "scatter",
         "x": [
          "Kyrgyzstan"
         ],
         "y": [
          0.638
         ]
        },
        {
         "mode": "markers",
         "name": "Venezuela (Bolivarian Republic of)",
         "type": "scatter",
         "x": [
          "Venezuela (Bolivarian Republic of)"
         ],
         "y": [
          0.659
         ]
        },
        {
         "mode": "markers",
         "name": "Iraq",
         "type": "scatter",
         "x": [
          "Iraq"
         ],
         "y": [
          0.528
         ]
        },
        {
         "mode": "markers",
         "name": "Tajikistan",
         "type": "scatter",
         "x": [
          "Tajikistan"
         ],
         "y": [
          0.628
         ]
        },
        {
         "mode": "markers",
         "name": "Belize",
         "type": "scatter",
         "x": [
          "Belize"
         ],
         "y": [
          0.593
         ]
        },
        {
         "mode": "markers",
         "name": "Morocco",
         "type": "scatter",
         "x": [
          "Morocco"
         ],
         "y": [
          0.447
         ]
        },
        {
         "mode": "markers",
         "name": "El Salvador",
         "type": "scatter",
         "x": [
          "El Salvador"
         ],
         "y": [
          0.525
         ]
        },
        {
         "mode": "markers",
         "name": "Nicaragua",
         "type": "scatter",
         "x": [
          "Nicaragua"
         ],
         "y": [
          0.49
         ]
        },
        {
         "mode": "markers",
         "name": "Bhutan",
         "type": "scatter",
         "x": [
          "Bhutan"
         ],
         "y": [
          null
         ]
        },
        {
         "mode": "markers",
         "name": "Cabo Verde",
         "type": "scatter",
         "x": [
          "Cabo Verde"
         ],
         "y": [
          null
         ]
        },
        {
         "mode": "markers",
         "name": "Bangladesh",
         "type": "scatter",
         "x": [
          "Bangladesh"
         ],
         "y": [
          0.397
         ]
        },
        {
         "mode": "markers",
         "name": "Tuvalu",
         "type": "scatter",
         "x": [
          "Tuvalu"
         ],
         "y": [
          0.559
         ]
        },
        {
         "mode": "markers",
         "name": "Marshall Islands",
         "type": "scatter",
         "x": [
          "Marshall Islands"
         ],
         "y": [
          null
         ]
        },
        {
         "mode": "markers",
         "name": "India",
         "type": "scatter",
         "x": [
          "India"
         ],
         "y": [
          0.434
         ]
        },
        {
         "mode": "markers",
         "name": "Ghana",
         "type": "scatter",
         "x": [
          "Ghana"
         ],
         "y": [
          0.46
         ]
        },
        {
         "mode": "markers",
         "name": "Micronesia (Federated States of)",
         "type": "scatter",
         "x": [
          "Micronesia (Federated States of)"
         ],
         "y": [
          null
         ]
        },
        {
         "mode": "markers",
         "name": "Guatemala",
         "type": "scatter",
         "x": [
          "Guatemala"
         ],
         "y": [
          0.484
         ]
        },
        {
         "mode": "markers",
         "name": "Kiribati",
         "type": "scatter",
         "x": [
          "Kiribati"
         ],
         "y": [
          null
         ]
        },
        {
         "mode": "markers",
         "name": "Honduras",
         "type": "scatter",
         "x": [
          "Honduras"
         ],
         "y": [
          0.516
         ]
        },
        {
         "mode": "markers",
         "name": "Sao Tome and Principe",
         "type": "scatter",
         "x": [
          "Sao Tome and Principe"
         ],
         "y": [
          0.485
         ]
        },
        {
         "mode": "markers",
         "name": "Namibia",
         "type": "scatter",
         "x": [
          "Namibia"
         ],
         "y": [
          0.579
         ]
        },
        {
         "mode": "markers",
         "name": "Lao People's Democratic Republic",
         "type": "scatter",
         "x": [
          "Lao People's Democratic Republic"
         ],
         "y": [
          0.405
         ]
        },
        {
         "mode": "markers",
         "name": "Timor-Leste",
         "type": "scatter",
         "x": [
          "Timor-Leste"
         ],
         "y": [
          null
         ]
        },
        {
         "mode": "markers",
         "name": "Vanuatu",
         "type": "scatter",
         "x": [
          "Vanuatu"
         ],
         "y": [
          null
         ]
        },
        {
         "mode": "markers",
         "name": "Nepal",
         "type": "scatter",
         "x": [
          "Nepal"
         ],
         "y": [
          0.399
         ]
        },
        {
         "mode": "markers",
         "name": "Eswatini (Kingdom of)",
         "type": "scatter",
         "x": [
          "Eswatini (Kingdom of)"
         ],
         "y": [
          0.545
         ]
        },
        {
         "mode": "markers",
         "name": "Equatorial Guinea",
         "type": "scatter",
         "x": [
          "Equatorial Guinea"
         ],
         "y": [
          null
         ]
        },
        {
         "mode": "markers",
         "name": "Cambodia",
         "type": "scatter",
         "x": [
          "Cambodia"
         ],
         "y": [
          0.378
         ]
        },
        {
         "mode": "markers",
         "name": "Zimbabwe",
         "type": "scatter",
         "x": [
          "Zimbabwe"
         ],
         "y": [
          0.509
         ]
        },
        {
         "mode": "markers",
         "name": "Angola",
         "type": "scatter",
         "x": [
          "Angola"
         ],
         "y": [
          null
         ]
        },
        {
         "mode": "markers",
         "name": "Myanmar",
         "type": "scatter",
         "x": [
          "Myanmar"
         ],
         "y": [
          0.333
         ]
        },
        {
         "mode": "markers",
         "name": "Syrian Arab Republic",
         "type": "scatter",
         "x": [
          "Syrian Arab Republic"
         ],
         "y": [
          0.562
         ]
        },
        {
         "mode": "markers",
         "name": "Cameroon",
         "type": "scatter",
         "x": [
          "Cameroon"
         ],
         "y": [
          0.452
         ]
        },
        {
         "mode": "markers",
         "name": "Kenya",
         "type": "scatter",
         "x": [
          "Kenya"
         ],
         "y": [
          0.474
         ]
        },
        {
         "mode": "markers",
         "name": "Congo",
         "type": "scatter",
         "x": [
          "Congo"
         ],
         "y": [
          0.522
         ]
        },
        {
         "mode": "markers",
         "name": "Zambia",
         "type": "scatter",
         "x": [
          "Zambia"
         ],
         "y": [
          0.412
         ]
        },
        {
         "mode": "markers",
         "name": "Solomon Islands",
         "type": "scatter",
         "x": [
          "Solomon Islands"
         ],
         "y": [
          null
         ]
        },
        {
         "mode": "markers",
         "name": "Comoros",
         "type": "scatter",
         "x": [
          "Comoros"
         ],
         "y": [
          null
         ]
        },
        {
         "mode": "markers",
         "name": "Papua New Guinea",
         "type": "scatter",
         "x": [
          "Papua New Guinea"
         ],
         "y": [
          0.37
         ]
        },
        {
         "mode": "markers",
         "name": "Mauritania",
         "type": "scatter",
         "x": [
          "Mauritania"
         ],
         "y": [
          0.397
         ]
        },
        {
         "mode": "markers",
         "name": "Côte d'Ivoire",
         "type": "scatter",
         "x": [
          "Côte d'Ivoire"
         ],
         "y": [
          0.427
         ]
        },
        {
         "mode": "markers",
         "name": "Tanzania (United Republic of)",
         "type": "scatter",
         "x": [
          "Tanzania (United Republic of)"
         ],
         "y": [
          0.371
         ]
        },
        {
         "mode": "markers",
         "name": "Pakistan",
         "type": "scatter",
         "x": [
          "Pakistan"
         ],
         "y": [
          0.4
         ]
        },
        {
         "mode": "markers",
         "name": "Togo",
         "type": "scatter",
         "x": [
          "Togo"
         ],
         "y": [
          0.41
         ]
        },
        {
         "mode": "markers",
         "name": "Haiti",
         "type": "scatter",
         "x": [
          "Haiti"
         ],
         "y": [
          0.429
         ]
        },
        {
         "mode": "markers",
         "name": "Nigeria",
         "type": "scatter",
         "x": [
          "Nigeria"
         ],
         "y": [
          null
         ]
        },
        {
         "mode": "markers",
         "name": "Rwanda",
         "type": "scatter",
         "x": [
          "Rwanda"
         ],
         "y": [
          0.319
         ]
        },
        {
         "mode": "markers",
         "name": "Benin",
         "type": "scatter",
         "x": [
          "Benin"
         ],
         "y": [
          0.359
         ]
        },
        {
         "mode": "markers",
         "name": "Uganda",
         "type": "scatter",
         "x": [
          "Uganda"
         ],
         "y": [
          0.329
         ]
        },
        {
         "mode": "markers",
         "name": "Lesotho",
         "type": "scatter",
         "x": [
          "Lesotho"
         ],
         "y": [
          0.479
         ]
        },
        {
         "mode": "markers",
         "name": "Malawi",
         "type": "scatter",
         "x": [
          "Malawi"
         ],
         "y": [
          0.303
         ]
        },
        {
         "mode": "markers",
         "name": "Senegal",
         "type": "scatter",
         "x": [
          "Senegal"
         ],
         "y": [
          0.373
         ]
        },
        {
         "mode": "markers",
         "name": "Djibouti",
         "type": "scatter",
         "x": [
          "Djibouti"
         ],
         "y": [
          null
         ]
        },
        {
         "mode": "markers",
         "name": "Sudan",
         "type": "scatter",
         "x": [
          "Sudan"
         ],
         "y": [
          0.336
         ]
        },
        {
         "mode": "markers",
         "name": "Madagascar",
         "type": "scatter",
         "x": [
          "Madagascar"
         ],
         "y": [
          null
         ]
        },
        {
         "mode": "markers",
         "name": "Gambia",
         "type": "scatter",
         "x": [
          "Gambia"
         ],
         "y": [
          0.343
         ]
        },
        {
         "mode": "markers",
         "name": "Ethiopia",
         "type": "scatter",
         "x": [
          "Ethiopia"
         ],
         "y": [
          null
         ]
        },
        {
         "mode": "markers",
         "name": "Eritrea",
         "type": "scatter",
         "x": [
          "Eritrea"
         ],
         "y": [
          null
         ]
        },
        {
         "mode": "markers",
         "name": "Guinea-Bissau",
         "type": "scatter",
         "x": [
          "Guinea-Bissau"
         ],
         "y": [
          null
         ]
        },
        {
         "mode": "markers",
         "name": "Liberia",
         "type": "scatter",
         "x": [
          "Liberia"
         ],
         "y": [
          null
         ]
        },
        {
         "mode": "markers",
         "name": "Congo (Democratic Republic of the)",
         "type": "scatter",
         "x": [
          "Congo (Democratic Republic of the)"
         ],
         "y": [
          0.386
         ]
        },
        {
         "mode": "markers",
         "name": "Afghanistan",
         "type": "scatter",
         "x": [
          "Afghanistan"
         ],
         "y": [
          0.273
         ]
        },
        {
         "mode": "markers",
         "name": "Sierra Leone",
         "type": "scatter",
         "x": [
          "Sierra Leone"
         ],
         "y": [
          0.312
         ]
        },
        {
         "mode": "markers",
         "name": "Guinea",
         "type": "scatter",
         "x": [
          "Guinea"
         ],
         "y": [
          0.269
         ]
        },
        {
         "mode": "markers",
         "name": "Yemen",
         "type": "scatter",
         "x": [
          "Yemen"
         ],
         "y": [
          0.383
         ]
        },
        {
         "mode": "markers",
         "name": "Burkina Faso",
         "type": "scatter",
         "x": [
          "Burkina Faso"
         ],
         "y": [
          null
         ]
        },
        {
         "mode": "markers",
         "name": "Mozambique",
         "type": "scatter",
         "x": [
          "Mozambique"
         ],
         "y": [
          0.238
         ]
        },
        {
         "mode": "markers",
         "name": "Mali",
         "type": "scatter",
         "x": [
          "Mali"
         ],
         "y": [
          0.237
         ]
        },
        {
         "mode": "markers",
         "name": "Burundi",
         "type": "scatter",
         "x": [
          "Burundi"
         ],
         "y": [
          0.29
         ]
        },
        {
         "mode": "markers",
         "name": "Central African Republic",
         "type": "scatter",
         "x": [
          "Central African Republic"
         ],
         "y": [
          0.338
         ]
        },
        {
         "mode": "markers",
         "name": "Niger",
         "type": "scatter",
         "x": [
          "Niger"
         ],
         "y": [
          0.216
         ]
        },
        {
         "mode": "markers",
         "name": "Chad",
         "type": "scatter",
         "x": [
          "Chad"
         ],
         "y": [
          null
         ]
        },
        {
         "mode": "markers",
         "name": "South Sudan",
         "type": "scatter",
         "x": [
          "South Sudan"
         ],
         "y": [
          null
         ]
        },
        {
         "mode": "markers",
         "name": "Korea (Democratic People's Rep. of)",
         "type": "scatter",
         "x": [
          "Korea (Democratic People's Rep. of)"
         ],
         "y": [
          null
         ]
        },
        {
         "mode": "markers",
         "name": "Monaco",
         "type": "scatter",
         "x": [
          "Monaco"
         ],
         "y": [
          null
         ]
        },
        {
         "mode": "markers",
         "name": "Nauru",
         "type": "scatter",
         "x": [
          "Nauru"
         ],
         "y": [
          null
         ]
        },
        {
         "mode": "markers",
         "name": "Somalia",
         "type": "scatter",
         "x": [
          "Somalia"
         ],
         "y": [
          null
         ]
        }
       ],
       "layout": {
        "template": {
         "data": {
          "bar": [
           {
            "error_x": {
             "color": "#2a3f5f"
            },
            "error_y": {
             "color": "#2a3f5f"
            },
            "marker": {
             "line": {
              "color": "#E5ECF6",
              "width": 0.5
             },
             "pattern": {
              "fillmode": "overlay",
              "size": 10,
              "solidity": 0.2
             }
            },
            "type": "bar"
           }
          ],
          "barpolar": [
           {
            "marker": {
             "line": {
              "color": "#E5ECF6",
              "width": 0.5
             },
             "pattern": {
              "fillmode": "overlay",
              "size": 10,
              "solidity": 0.2
             }
            },
            "type": "barpolar"
           }
          ],
          "carpet": [
           {
            "aaxis": {
             "endlinecolor": "#2a3f5f",
             "gridcolor": "white",
             "linecolor": "white",
             "minorgridcolor": "white",
             "startlinecolor": "#2a3f5f"
            },
            "baxis": {
             "endlinecolor": "#2a3f5f",
             "gridcolor": "white",
             "linecolor": "white",
             "minorgridcolor": "white",
             "startlinecolor": "#2a3f5f"
            },
            "type": "carpet"
           }
          ],
          "choropleth": [
           {
            "colorbar": {
             "outlinewidth": 0,
             "ticks": ""
            },
            "type": "choropleth"
           }
          ],
          "contour": [
           {
            "colorbar": {
             "outlinewidth": 0,
             "ticks": ""
            },
            "colorscale": [
             [
              0,
              "#0d0887"
             ],
             [
              0.1111111111111111,
              "#46039f"
             ],
             [
              0.2222222222222222,
              "#7201a8"
             ],
             [
              0.3333333333333333,
              "#9c179e"
             ],
             [
              0.4444444444444444,
              "#bd3786"
             ],
             [
              0.5555555555555556,
              "#d8576b"
             ],
             [
              0.6666666666666666,
              "#ed7953"
             ],
             [
              0.7777777777777778,
              "#fb9f3a"
             ],
             [
              0.8888888888888888,
              "#fdca26"
             ],
             [
              1,
              "#f0f921"
             ]
            ],
            "type": "contour"
           }
          ],
          "contourcarpet": [
           {
            "colorbar": {
             "outlinewidth": 0,
             "ticks": ""
            },
            "type": "contourcarpet"
           }
          ],
          "heatmap": [
           {
            "colorbar": {
             "outlinewidth": 0,
             "ticks": ""
            },
            "colorscale": [
             [
              0,
              "#0d0887"
             ],
             [
              0.1111111111111111,
              "#46039f"
             ],
             [
              0.2222222222222222,
              "#7201a8"
             ],
             [
              0.3333333333333333,
              "#9c179e"
             ],
             [
              0.4444444444444444,
              "#bd3786"
             ],
             [
              0.5555555555555556,
              "#d8576b"
             ],
             [
              0.6666666666666666,
              "#ed7953"
             ],
             [
              0.7777777777777778,
              "#fb9f3a"
             ],
             [
              0.8888888888888888,
              "#fdca26"
             ],
             [
              1,
              "#f0f921"
             ]
            ],
            "type": "heatmap"
           }
          ],
          "heatmapgl": [
           {
            "colorbar": {
             "outlinewidth": 0,
             "ticks": ""
            },
            "colorscale": [
             [
              0,
              "#0d0887"
             ],
             [
              0.1111111111111111,
              "#46039f"
             ],
             [
              0.2222222222222222,
              "#7201a8"
             ],
             [
              0.3333333333333333,
              "#9c179e"
             ],
             [
              0.4444444444444444,
              "#bd3786"
             ],
             [
              0.5555555555555556,
              "#d8576b"
             ],
             [
              0.6666666666666666,
              "#ed7953"
             ],
             [
              0.7777777777777778,
              "#fb9f3a"
             ],
             [
              0.8888888888888888,
              "#fdca26"
             ],
             [
              1,
              "#f0f921"
             ]
            ],
            "type": "heatmapgl"
           }
          ],
          "histogram": [
           {
            "marker": {
             "pattern": {
              "fillmode": "overlay",
              "size": 10,
              "solidity": 0.2
             }
            },
            "type": "histogram"
           }
          ],
          "histogram2d": [
           {
            "colorbar": {
             "outlinewidth": 0,
             "ticks": ""
            },
            "colorscale": [
             [
              0,
              "#0d0887"
             ],
             [
              0.1111111111111111,
              "#46039f"
             ],
             [
              0.2222222222222222,
              "#7201a8"
             ],
             [
              0.3333333333333333,
              "#9c179e"
             ],
             [
              0.4444444444444444,
              "#bd3786"
             ],
             [
              0.5555555555555556,
              "#d8576b"
             ],
             [
              0.6666666666666666,
              "#ed7953"
             ],
             [
              0.7777777777777778,
              "#fb9f3a"
             ],
             [
              0.8888888888888888,
              "#fdca26"
             ],
             [
              1,
              "#f0f921"
             ]
            ],
            "type": "histogram2d"
           }
          ],
          "histogram2dcontour": [
           {
            "colorbar": {
             "outlinewidth": 0,
             "ticks": ""
            },
            "colorscale": [
             [
              0,
              "#0d0887"
             ],
             [
              0.1111111111111111,
              "#46039f"
             ],
             [
              0.2222222222222222,
              "#7201a8"
             ],
             [
              0.3333333333333333,
              "#9c179e"
             ],
             [
              0.4444444444444444,
              "#bd3786"
             ],
             [
              0.5555555555555556,
              "#d8576b"
             ],
             [
              0.6666666666666666,
              "#ed7953"
             ],
             [
              0.7777777777777778,
              "#fb9f3a"
             ],
             [
              0.8888888888888888,
              "#fdca26"
             ],
             [
              1,
              "#f0f921"
             ]
            ],
            "type": "histogram2dcontour"
           }
          ],
          "mesh3d": [
           {
            "colorbar": {
             "outlinewidth": 0,
             "ticks": ""
            },
            "type": "mesh3d"
           }
          ],
          "parcoords": [
           {
            "line": {
             "colorbar": {
              "outlinewidth": 0,
              "ticks": ""
             }
            },
            "type": "parcoords"
           }
          ],
          "pie": [
           {
            "automargin": true,
            "type": "pie"
           }
          ],
          "scatter": [
           {
            "fillpattern": {
             "fillmode": "overlay",
             "size": 10,
             "solidity": 0.2
            },
            "type": "scatter"
           }
          ],
          "scatter3d": [
           {
            "line": {
             "colorbar": {
              "outlinewidth": 0,
              "ticks": ""
             }
            },
            "marker": {
             "colorbar": {
              "outlinewidth": 0,
              "ticks": ""
             }
            },
            "type": "scatter3d"
           }
          ],
          "scattercarpet": [
           {
            "marker": {
             "colorbar": {
              "outlinewidth": 0,
              "ticks": ""
             }
            },
            "type": "scattercarpet"
           }
          ],
          "scattergeo": [
           {
            "marker": {
             "colorbar": {
              "outlinewidth": 0,
              "ticks": ""
             }
            },
            "type": "scattergeo"
           }
          ],
          "scattergl": [
           {
            "marker": {
             "colorbar": {
              "outlinewidth": 0,
              "ticks": ""
             }
            },
            "type": "scattergl"
           }
          ],
          "scattermapbox": [
           {
            "marker": {
             "colorbar": {
              "outlinewidth": 0,
              "ticks": ""
             }
            },
            "type": "scattermapbox"
           }
          ],
          "scatterpolar": [
           {
            "marker": {
             "colorbar": {
              "outlinewidth": 0,
              "ticks": ""
             }
            },
            "type": "scatterpolar"
           }
          ],
          "scatterpolargl": [
           {
            "marker": {
             "colorbar": {
              "outlinewidth": 0,
              "ticks": ""
             }
            },
            "type": "scatterpolargl"
           }
          ],
          "scatterternary": [
           {
            "marker": {
             "colorbar": {
              "outlinewidth": 0,
              "ticks": ""
             }
            },
            "type": "scatterternary"
           }
          ],
          "surface": [
           {
            "colorbar": {
             "outlinewidth": 0,
             "ticks": ""
            },
            "colorscale": [
             [
              0,
              "#0d0887"
             ],
             [
              0.1111111111111111,
              "#46039f"
             ],
             [
              0.2222222222222222,
              "#7201a8"
             ],
             [
              0.3333333333333333,
              "#9c179e"
             ],
             [
              0.4444444444444444,
              "#bd3786"
             ],
             [
              0.5555555555555556,
              "#d8576b"
             ],
             [
              0.6666666666666666,
              "#ed7953"
             ],
             [
              0.7777777777777778,
              "#fb9f3a"
             ],
             [
              0.8888888888888888,
              "#fdca26"
             ],
             [
              1,
              "#f0f921"
             ]
            ],
            "type": "surface"
           }
          ],
          "table": [
           {
            "cells": {
             "fill": {
              "color": "#EBF0F8"
             },
             "line": {
              "color": "white"
             }
            },
            "header": {
             "fill": {
              "color": "#C8D4E3"
             },
             "line": {
              "color": "white"
             }
            },
            "type": "table"
           }
          ]
         },
         "layout": {
          "annotationdefaults": {
           "arrowcolor": "#2a3f5f",
           "arrowhead": 0,
           "arrowwidth": 1
          },
          "autotypenumbers": "strict",
          "coloraxis": {
           "colorbar": {
            "outlinewidth": 0,
            "ticks": ""
           }
          },
          "colorscale": {
           "diverging": [
            [
             0,
             "#8e0152"
            ],
            [
             0.1,
             "#c51b7d"
            ],
            [
             0.2,
             "#de77ae"
            ],
            [
             0.3,
             "#f1b6da"
            ],
            [
             0.4,
             "#fde0ef"
            ],
            [
             0.5,
             "#f7f7f7"
            ],
            [
             0.6,
             "#e6f5d0"
            ],
            [
             0.7,
             "#b8e186"
            ],
            [
             0.8,
             "#7fbc41"
            ],
            [
             0.9,
             "#4d9221"
            ],
            [
             1,
             "#276419"
            ]
           ],
           "sequential": [
            [
             0,
             "#0d0887"
            ],
            [
             0.1111111111111111,
             "#46039f"
            ],
            [
             0.2222222222222222,
             "#7201a8"
            ],
            [
             0.3333333333333333,
             "#9c179e"
            ],
            [
             0.4444444444444444,
             "#bd3786"
            ],
            [
             0.5555555555555556,
             "#d8576b"
            ],
            [
             0.6666666666666666,
             "#ed7953"
            ],
            [
             0.7777777777777778,
             "#fb9f3a"
            ],
            [
             0.8888888888888888,
             "#fdca26"
            ],
            [
             1,
             "#f0f921"
            ]
           ],
           "sequentialminus": [
            [
             0,
             "#0d0887"
            ],
            [
             0.1111111111111111,
             "#46039f"
            ],
            [
             0.2222222222222222,
             "#7201a8"
            ],
            [
             0.3333333333333333,
             "#9c179e"
            ],
            [
             0.4444444444444444,
             "#bd3786"
            ],
            [
             0.5555555555555556,
             "#d8576b"
            ],
            [
             0.6666666666666666,
             "#ed7953"
            ],
            [
             0.7777777777777778,
             "#fb9f3a"
            ],
            [
             0.8888888888888888,
             "#fdca26"
            ],
            [
             1,
             "#f0f921"
            ]
           ]
          },
          "colorway": [
           "#636efa",
           "#EF553B",
           "#00cc96",
           "#ab63fa",
           "#FFA15A",
           "#19d3f3",
           "#FF6692",
           "#B6E880",
           "#FF97FF",
           "#FECB52"
          ],
          "font": {
           "color": "#2a3f5f"
          },
          "geo": {
           "bgcolor": "white",
           "lakecolor": "white",
           "landcolor": "#E5ECF6",
           "showlakes": true,
           "showland": true,
           "subunitcolor": "white"
          },
          "hoverlabel": {
           "align": "left"
          },
          "hovermode": "closest",
          "mapbox": {
           "style": "light"
          },
          "paper_bgcolor": "white",
          "plot_bgcolor": "#E5ECF6",
          "polar": {
           "angularaxis": {
            "gridcolor": "white",
            "linecolor": "white",
            "ticks": ""
           },
           "bgcolor": "#E5ECF6",
           "radialaxis": {
            "gridcolor": "white",
            "linecolor": "white",
            "ticks": ""
           }
          },
          "scene": {
           "xaxis": {
            "backgroundcolor": "#E5ECF6",
            "gridcolor": "white",
            "gridwidth": 2,
            "linecolor": "white",
            "showbackground": true,
            "ticks": "",
            "zerolinecolor": "white"
           },
           "yaxis": {
            "backgroundcolor": "#E5ECF6",
            "gridcolor": "white",
            "gridwidth": 2,
            "linecolor": "white",
            "showbackground": true,
            "ticks": "",
            "zerolinecolor": "white"
           },
           "zaxis": {
            "backgroundcolor": "#E5ECF6",
            "gridcolor": "white",
            "gridwidth": 2,
            "linecolor": "white",
            "showbackground": true,
            "ticks": "",
            "zerolinecolor": "white"
           }
          },
          "shapedefaults": {
           "line": {
            "color": "#2a3f5f"
           }
          },
          "ternary": {
           "aaxis": {
            "gridcolor": "white",
            "linecolor": "white",
            "ticks": ""
           },
           "baxis": {
            "gridcolor": "white",
            "linecolor": "white",
            "ticks": ""
           },
           "bgcolor": "#E5ECF6",
           "caxis": {
            "gridcolor": "white",
            "linecolor": "white",
            "ticks": ""
           }
          },
          "title": {
           "x": 0.05
          },
          "xaxis": {
           "automargin": true,
           "gridcolor": "white",
           "linecolor": "white",
           "ticks": "",
           "title": {
            "standoff": 15
           },
           "zerolinecolor": "white",
           "zerolinewidth": 2
          },
          "yaxis": {
           "automargin": true,
           "gridcolor": "white",
           "linecolor": "white",
           "ticks": "",
           "title": {
            "standoff": 15
           },
           "zerolinecolor": "white",
           "zerolinewidth": 2
          }
         }
        },
        "title": {
         "text": "HDI Scatter Plot (HDI 1990)"
        },
        "xaxis": {
         "showticklabels": false,
         "title": {
          "text": "Country"
         }
        },
        "yaxis": {
         "title": {
          "text": "HDI"
         }
        }
       }
      }
     },
     "metadata": {},
     "output_type": "display_data"
    },
    {
     "data": {
      "application/vnd.jupyter.widget-view+json": {
       "model_id": "648afa612339457ba67b02c66245b2a2",
       "version_major": 2,
       "version_minor": 0
      },
      "text/plain": [
       "interactive(children=(Dropdown(description='selected_year', options=('HDI 1990', 'HDI 2000', 'HDI 2010', 'HDI …"
      ]
     },
     "metadata": {},
     "output_type": "display_data"
    },
    {
     "data": {
      "text/plain": [
       "<function __main__.update_scatter_plot(selected_year)>"
      ]
     },
     "execution_count": 109,
     "metadata": {},
     "output_type": "execute_result"
    }
   ],
   "source": [
    "def update_scatter_plot(selected_year):\n",
    "    data = []\n",
    "    for country in HDI_years['Country']:\n",
    "        trace = go.Scatter(x=[country], y=[HDI_years.loc[HDI_years['Country'] == country, selected_year].values[0]], mode='markers', name=country)\n",
    "        data.append(trace)\n",
    "\n",
    "    layout = go.Layout(title=f'HDI Scatter Plot ({selected_year})', xaxis=dict(showticklabels=False, title='Country'), yaxis=dict(title='HDI'))\n",
    "    selected_year_fig = go.Figure(data=data, layout=layout)\n",
    "    selected_year_fig.show()\n",
    "\n",
    "interact(update_scatter_plot, selected_year=HDI_cols)"
   ]
  },
  {
   "attachments": {},
   "cell_type": "markdown",
   "metadata": {},
   "source": [
    "### Reflection Questions\n",
    "\n",
    "1. Choose two country that are near each other on the map. Analyze the trends between these countries. Do you notice any similarities or differences in their HDI scores, and what factors could potentially account for these variations?\n",
    "   \n",
    "2. Reflect on countries that have experienced low growth in their HDI rankings. What potential factors might have influenced their stagnated rank, and what can they do to potentially experience growth?\n",
    "\n",
    "3. What impact might external factors such as global economic fluctuations or environmental challenges, on a country's HDI growth. How might these external influences shape a nation's development trajectory, and what measures can be implemented to mitigate potential negative effects?"
   ]
  },
  {
   "cell_type": "markdown",
   "metadata": {},
   "source": [
    "### Map of Countries\n",
    "In this next section, we'll be focusing on using *geojson* information to visualize our countries using a **Folium** map. "
   ]
  },
  {
   "cell_type": "code",
   "execution_count": 110,
   "metadata": {},
   "outputs": [
    {
     "data": {
      "text/html": [
       "<div>\n",
       "<style scoped>\n",
       "    .dataframe tbody tr th:only-of-type {\n",
       "        vertical-align: middle;\n",
       "    }\n",
       "\n",
       "    .dataframe tbody tr th {\n",
       "        vertical-align: top;\n",
       "    }\n",
       "\n",
       "    .dataframe thead th {\n",
       "        text-align: right;\n",
       "    }\n",
       "</style>\n",
       "<table border=\"1\" class=\"dataframe\">\n",
       "  <thead>\n",
       "    <tr style=\"text-align: right;\">\n",
       "      <th></th>\n",
       "      <th>ADMIN</th>\n",
       "      <th>ISO_A3</th>\n",
       "      <th>geometry</th>\n",
       "    </tr>\n",
       "  </thead>\n",
       "  <tbody>\n",
       "    <tr>\n",
       "      <th>0</th>\n",
       "      <td>Aruba</td>\n",
       "      <td>ABW</td>\n",
       "      <td>POLYGON ((-69.99694 12.57758, -69.93639 12.531...</td>\n",
       "    </tr>\n",
       "    <tr>\n",
       "      <th>1</th>\n",
       "      <td>Afghanistan</td>\n",
       "      <td>AFG</td>\n",
       "      <td>POLYGON ((71.04980 38.40866, 71.05714 38.40903...</td>\n",
       "    </tr>\n",
       "    <tr>\n",
       "      <th>2</th>\n",
       "      <td>Angola</td>\n",
       "      <td>AGO</td>\n",
       "      <td>MULTIPOLYGON (((11.73752 -16.69258, 11.73851 -...</td>\n",
       "    </tr>\n",
       "    <tr>\n",
       "      <th>3</th>\n",
       "      <td>Anguilla</td>\n",
       "      <td>AIA</td>\n",
       "      <td>MULTIPOLYGON (((-63.03767 18.21296, -63.09952 ...</td>\n",
       "    </tr>\n",
       "    <tr>\n",
       "      <th>4</th>\n",
       "      <td>Albania</td>\n",
       "      <td>ALB</td>\n",
       "      <td>POLYGON ((19.74777 42.57890, 19.74601 42.57993...</td>\n",
       "    </tr>\n",
       "    <tr>\n",
       "      <th>...</th>\n",
       "      <td>...</td>\n",
       "      <td>...</td>\n",
       "      <td>...</td>\n",
       "    </tr>\n",
       "    <tr>\n",
       "      <th>250</th>\n",
       "      <td>Samoa</td>\n",
       "      <td>WSM</td>\n",
       "      <td>MULTIPOLYGON (((-171.57002 -13.93816, -171.564...</td>\n",
       "    </tr>\n",
       "    <tr>\n",
       "      <th>251</th>\n",
       "      <td>Yemen</td>\n",
       "      <td>YEM</td>\n",
       "      <td>MULTIPOLYGON (((53.30824 12.11839, 53.31027 12...</td>\n",
       "    </tr>\n",
       "    <tr>\n",
       "      <th>252</th>\n",
       "      <td>South Africa</td>\n",
       "      <td>ZAF</td>\n",
       "      <td>MULTIPOLYGON (((37.86378 -46.94085, 37.83644 -...</td>\n",
       "    </tr>\n",
       "    <tr>\n",
       "      <th>253</th>\n",
       "      <td>Zambia</td>\n",
       "      <td>ZMB</td>\n",
       "      <td>POLYGON ((31.11984 -8.61663, 31.14102 -8.60619...</td>\n",
       "    </tr>\n",
       "    <tr>\n",
       "      <th>254</th>\n",
       "      <td>Zimbabwe</td>\n",
       "      <td>ZWE</td>\n",
       "      <td>POLYGON ((30.01065 -15.64623, 30.05024 -15.640...</td>\n",
       "    </tr>\n",
       "  </tbody>\n",
       "</table>\n",
       "<p>255 rows × 3 columns</p>\n",
       "</div>"
      ],
      "text/plain": [
       "            ADMIN ISO_A3                                           geometry\n",
       "0           Aruba    ABW  POLYGON ((-69.99694 12.57758, -69.93639 12.531...\n",
       "1     Afghanistan    AFG  POLYGON ((71.04980 38.40866, 71.05714 38.40903...\n",
       "2          Angola    AGO  MULTIPOLYGON (((11.73752 -16.69258, 11.73851 -...\n",
       "3        Anguilla    AIA  MULTIPOLYGON (((-63.03767 18.21296, -63.09952 ...\n",
       "4         Albania    ALB  POLYGON ((19.74777 42.57890, 19.74601 42.57993...\n",
       "..            ...    ...                                                ...\n",
       "250         Samoa    WSM  MULTIPOLYGON (((-171.57002 -13.93816, -171.564...\n",
       "251         Yemen    YEM  MULTIPOLYGON (((53.30824 12.11839, 53.31027 12...\n",
       "252  South Africa    ZAF  MULTIPOLYGON (((37.86378 -46.94085, 37.83644 -...\n",
       "253        Zambia    ZMB  POLYGON ((31.11984 -8.61663, 31.14102 -8.60619...\n",
       "254      Zimbabwe    ZWE  POLYGON ((30.01065 -15.64623, 30.05024 -15.640...\n",
       "\n",
       "[255 rows x 3 columns]"
      ]
     },
     "execution_count": 110,
     "metadata": {},
     "output_type": "execute_result"
    }
   ],
   "source": [
    "countries_geojson = gpd.read_file('https://raw.githubusercontent.com/callysto/data-files/main/SocialStudies/UnitedNations/countries.geojson')\n",
    "countries_geojson"
   ]
  },
  {
   "cell_type": "markdown",
   "metadata": {},
   "source": [
    "Before we visualize our Folium map, it's important to ensure that the data we have is *compatible*. Essentially, we need to *map* the countries found in the geojson file with our `HDI_years` dataframe so that later we can match the corresponding countries with their correct `geometries`. The `geometry` column in this case contains information about a specific country's latitude, longitude, and borders so they can be accurately displayed on an map. "
   ]
  },
  {
   "cell_type": "markdown",
   "metadata": {},
   "source": [
    "After mapping, we have to perform some more data-cleaning, specifically checking to see if the countries are named the same in both dataframes. Ensuring that the countries share the same names in both dataframes is vital because we intend to map and merge the datasets based on the common identifier, which is the `Country` name. In this case, a mismatching country name means a country will not be mapped properly. "
   ]
  },
  {
   "cell_type": "code",
   "execution_count": 111,
   "metadata": {},
   "outputs": [
    {
     "name": "stdout",
     "output_type": "stream",
     "text": [
      "Non-matching geojson: {'Macedonia', 'Democratic Republic of the Congo', 'Taiwan', 'Laos', 'French Polynesia', 'Clipperton Island', 'Western Sahara', 'Federated States of Micronesia', 'Sint Maarten', 'Vatican', 'Saint Martin', 'Cayman Islands', 'United States Virgin Islands', 'East Timor', 'Norfolk Island', 'Scarborough Reef', 'American Samoa', 'Vietnam', 'Somaliland', 'Serranilla Bank', 'Hong Kong S.A.R.', 'Aland', 'Russia', 'The Bahamas', 'Turks and Caicos Islands', 'Dhekelia Sovereign Base Area', 'Aruba', 'Antarctica', 'Bermuda', 'Czech Republic', 'Saint Pierre and Miquelon', 'Falkland Islands', 'Cyprus No Mans Area', 'US Naval Base Guantanamo Bay', 'Niue', 'French Southern and Antarctic Lands', 'British Virgin Islands', 'North Korea', 'British Indian Ocean Territory', 'Ivory Coast', 'Indian Ocean Territories', 'Northern Mariana Islands', 'Anguilla', 'Spratly Islands', 'Akrotiri Sovereign Base Area', 'Puerto Rico', 'Iran', 'Gibraltar', 'Brunei', 'New Caledonia', 'Guam', 'Heard Island and McDonald Islands', 'Kosovo', 'United States Minor Outlying Islands', 'Montserrat', 'Pitcairn Islands', 'Republic of Congo', 'Faroe Islands', 'Republic of Serbia', 'Wallis and Futuna', 'Bolivia', 'Guinea Bissau', 'Palestine', 'Venezuela', 'United Republic of Tanzania', 'Ashmore and Cartier Islands', 'Macao S.A.R', 'Guernsey', 'Northern Cyprus', 'Turkey', 'Bajo Nuevo Bank (Petrel Is.)', 'Swaziland', 'Coral Sea Islands', 'Jersey', 'Siachen Glacier', 'Baykonur Cosmodrome', 'Cape Verde', 'Isle of Man', 'South Korea', 'Syria', 'United States of America', 'Cook Islands', 'Moldova', 'Greenland', 'Saint Barthelemy', 'Curaçao', 'Saint Helena', 'South Georgia and South Sandwich Islands'}\n",
      "Non-matching dataframe countries: {'Cabo Verde', 'Iran (Islamic Republic of)', \"Côte d'Ivoire\", 'United States', 'Hong Kong, China (SAR)', 'Bahamas', 'Guinea-Bissau', 'Viet Nam', \"Korea (Democratic People's Rep. of)\", 'Czechia', 'Eswatini (Kingdom of)', 'Venezuela (Bolivarian Republic of)', \"Lao People's Democratic Republic\", 'Syrian Arab Republic', 'Tanzania (United Republic of)', 'Congo', 'Palestine, State of', 'Congo (Democratic Republic of the)', 'Russian Federation', 'Türkiye', 'Micronesia (Federated States of)', 'Serbia', 'Brunei Darussalam', 'Moldova (Republic of)', 'Korea (Republic of)', 'Bolivia (Plurinational State of)', 'Timor-Leste', 'North Macedonia'}\n"
     ]
    }
   ],
   "source": [
    "geojson_country_names = countries_geojson['ADMIN']\n",
    "\n",
    "hdi_country_names = HDI_years['Country']\n",
    "\n",
    "matching_countries = set(geojson_country_names).intersection(hdi_country_names)\n",
    "non_matching_countries = set(hdi_country_names) - matching_countries\n",
    "non_matching_countries_geojson = set(geojson_country_names) - matching_countries\n",
    "\n",
    "print(f'Non-matching geojson: {non_matching_countries_geojson}')\n",
    "print(f'Non-matching dataframe countries: {non_matching_countries}')"
   ]
  },
  {
   "cell_type": "markdown",
   "metadata": {},
   "source": [
    "Looking at the output, the important information to check is the *non-matching* names in the `HDI_years` dataframe (the bottom text output). Luckily, it appears that every country in the bottom-output has a corresponding match in the top output. \n",
    "\n",
    "Therefore, we can just change the names of the `HDI_years` dataframe to match the `countries_geojson` dataframe, resulting in matching country names in both dataframes."
   ]
  },
  {
   "cell_type": "code",
   "execution_count": 112,
   "metadata": {},
   "outputs": [],
   "source": [
    "mapping = {\n",
    "    'Russian Federation': 'Russia',\n",
    "    'Micronesia (Federated States of)': 'Federated States of Micronesia',\n",
    "    'Cabo Verde': 'Cape Verde',\n",
    "    \"Korea (Democratic People's Rep. of)\": 'North Korea',\n",
    "    'North Macedonia': 'Macedonia',\n",
    "    'Bahamas': 'The Bahamas',\n",
    "    'Tanzania (United Republic of)': 'United Republic of Tanzania',\n",
    "    'Türkiye': 'Turkey',\n",
    "    'Serbia': 'Republic of Serbia',\n",
    "    'Eswatini (Kingdom of)': 'Swaziland',\n",
    "    'Guinea-Bissau': 'Guinea Bissau',\n",
    "    'Timor-Leste': 'East Timor',\n",
    "    \"Lao People's Democratic Republic\": 'Laos',\n",
    "    'Congo': 'Republic of Congo',\n",
    "    'Syrian Arab Republic': 'Syria',\n",
    "    'Brunei Darussalam': 'Brunei',\n",
    "    'Viet Nam': 'Vietnam',\n",
    "    'Iran (Islamic Republic of)': 'Iran',\n",
    "    'Czechia': 'Czech Republic',\n",
    "    'Congo (Democratic Republic of the)': 'Democratic Republic of the Congo',\n",
    "    'Bolivia (Plurinational State of)': 'Bolivia',\n",
    "    'Moldova (Republic of)': 'Moldova',\n",
    "    'Korea (Republic of)': 'South Korea',\n",
    "    \"Côte d'Ivoire\": 'Ivory Coast',\n",
    "    'Palestine, State of': 'Palestine',\n",
    "    'Venezuela (Bolivarian Republic of)': 'Venezuela',\n",
    "    'Hong Kong, China (SAR)': 'Hong Kong S.A.R.',\n",
    "    'United States': 'United States of America'\n",
    "}\n",
    "\n",
    "HDI_years['Country'] = HDI_years['Country'].replace(mapping)"
   ]
  },
  {
   "cell_type": "markdown",
   "metadata": {},
   "source": [
    "The final step in our data-cleaning for our Folium map is to remove any countries that do not have a `HDI rank`. Showing these countries would be pointless, as they have an HDI value of 0."
   ]
  },
  {
   "cell_type": "code",
   "execution_count": 113,
   "metadata": {},
   "outputs": [
    {
     "data": {
      "text/html": [
       "<div>\n",
       "<style scoped>\n",
       "    .dataframe tbody tr th:only-of-type {\n",
       "        vertical-align: middle;\n",
       "    }\n",
       "\n",
       "    .dataframe tbody tr th {\n",
       "        vertical-align: top;\n",
       "    }\n",
       "\n",
       "    .dataframe thead th {\n",
       "        text-align: right;\n",
       "    }\n",
       "</style>\n",
       "<table border=\"1\" class=\"dataframe\">\n",
       "  <thead>\n",
       "    <tr style=\"text-align: right;\">\n",
       "      <th></th>\n",
       "      <th>HDI rank</th>\n",
       "      <th>Country</th>\n",
       "      <th>HDI 1990</th>\n",
       "      <th>HDI 2000</th>\n",
       "      <th>HDI 2010</th>\n",
       "      <th>HDI 2015</th>\n",
       "      <th>HDI 2018</th>\n",
       "      <th>HDI 2019</th>\n",
       "      <th>HDI 2020</th>\n",
       "      <th>HDI 2021</th>\n",
       "      <th>Change in HDI rank 2015-2021</th>\n",
       "      <th>Average annual HDI growth (%) 1990-2000</th>\n",
       "      <th>Average annual HDI growth (%) 2000-2010</th>\n",
       "      <th>Average annual HDI growth (%) 2010-2021</th>\n",
       "      <th>Average annual HDI growth (%) 1990-2021</th>\n",
       "    </tr>\n",
       "  </thead>\n",
       "  <tbody>\n",
       "    <tr>\n",
       "      <th>191</th>\n",
       "      <td>NaN</td>\n",
       "      <td>North Korea</td>\n",
       "      <td>NaN</td>\n",
       "      <td>NaN</td>\n",
       "      <td>NaN</td>\n",
       "      <td>NaN</td>\n",
       "      <td>NaN</td>\n",
       "      <td>NaN</td>\n",
       "      <td>NaN</td>\n",
       "      <td>NaN</td>\n",
       "      <td>NaN</td>\n",
       "      <td>NaN</td>\n",
       "      <td>NaN</td>\n",
       "      <td>NaN</td>\n",
       "      <td>NaN</td>\n",
       "    </tr>\n",
       "    <tr>\n",
       "      <th>192</th>\n",
       "      <td>NaN</td>\n",
       "      <td>Monaco</td>\n",
       "      <td>NaN</td>\n",
       "      <td>NaN</td>\n",
       "      <td>NaN</td>\n",
       "      <td>NaN</td>\n",
       "      <td>NaN</td>\n",
       "      <td>NaN</td>\n",
       "      <td>NaN</td>\n",
       "      <td>NaN</td>\n",
       "      <td>NaN</td>\n",
       "      <td>NaN</td>\n",
       "      <td>NaN</td>\n",
       "      <td>NaN</td>\n",
       "      <td>NaN</td>\n",
       "    </tr>\n",
       "    <tr>\n",
       "      <th>193</th>\n",
       "      <td>NaN</td>\n",
       "      <td>Nauru</td>\n",
       "      <td>NaN</td>\n",
       "      <td>NaN</td>\n",
       "      <td>NaN</td>\n",
       "      <td>NaN</td>\n",
       "      <td>NaN</td>\n",
       "      <td>NaN</td>\n",
       "      <td>NaN</td>\n",
       "      <td>NaN</td>\n",
       "      <td>NaN</td>\n",
       "      <td>NaN</td>\n",
       "      <td>NaN</td>\n",
       "      <td>NaN</td>\n",
       "      <td>NaN</td>\n",
       "    </tr>\n",
       "    <tr>\n",
       "      <th>194</th>\n",
       "      <td>NaN</td>\n",
       "      <td>Somalia</td>\n",
       "      <td>NaN</td>\n",
       "      <td>NaN</td>\n",
       "      <td>NaN</td>\n",
       "      <td>NaN</td>\n",
       "      <td>NaN</td>\n",
       "      <td>NaN</td>\n",
       "      <td>NaN</td>\n",
       "      <td>NaN</td>\n",
       "      <td>NaN</td>\n",
       "      <td>NaN</td>\n",
       "      <td>NaN</td>\n",
       "      <td>NaN</td>\n",
       "      <td>NaN</td>\n",
       "    </tr>\n",
       "  </tbody>\n",
       "</table>\n",
       "</div>"
      ],
      "text/plain": [
       "     HDI rank      Country  HDI 1990  HDI 2000  HDI 2010  HDI 2015  HDI 2018  \\\n",
       "191       NaN  North Korea       NaN       NaN       NaN       NaN       NaN   \n",
       "192       NaN       Monaco       NaN       NaN       NaN       NaN       NaN   \n",
       "193       NaN        Nauru       NaN       NaN       NaN       NaN       NaN   \n",
       "194       NaN      Somalia       NaN       NaN       NaN       NaN       NaN   \n",
       "\n",
       "     HDI 2019  HDI 2020  HDI 2021  Change in HDI rank 2015-2021  \\\n",
       "191       NaN       NaN       NaN                           NaN   \n",
       "192       NaN       NaN       NaN                           NaN   \n",
       "193       NaN       NaN       NaN                           NaN   \n",
       "194       NaN       NaN       NaN                           NaN   \n",
       "\n",
       "     Average annual HDI growth (%) 1990-2000  \\\n",
       "191                                      NaN   \n",
       "192                                      NaN   \n",
       "193                                      NaN   \n",
       "194                                      NaN   \n",
       "\n",
       "     Average annual HDI growth (%) 2000-2010  \\\n",
       "191                                      NaN   \n",
       "192                                      NaN   \n",
       "193                                      NaN   \n",
       "194                                      NaN   \n",
       "\n",
       "     Average annual HDI growth (%) 2010-2021  \\\n",
       "191                                      NaN   \n",
       "192                                      NaN   \n",
       "193                                      NaN   \n",
       "194                                      NaN   \n",
       "\n",
       "     Average annual HDI growth (%) 1990-2021  \n",
       "191                                      NaN  \n",
       "192                                      NaN  \n",
       "193                                      NaN  \n",
       "194                                      NaN  "
      ]
     },
     "metadata": {},
     "output_type": "display_data"
    }
   ],
   "source": [
    "no_HDI_years = HDI_years[HDI_years['HDI rank'].isnull()]\n",
    "display(no_HDI_years)\n",
    "HDI_years.dropna(subset=['HDI rank'], inplace=True)"
   ]
  },
  {
   "cell_type": "markdown",
   "metadata": {},
   "source": [
    "We can now finally merge our two dataframes, `HDI_rank` and `countries_geojson`. By merging the two dataframes, we can obtain the latitude, longitude, and borders of each country alongside the country's HDI values from 1990-2021. "
   ]
  },
  {
   "cell_type": "code",
   "execution_count": 114,
   "metadata": {},
   "outputs": [
    {
     "data": {
      "text/html": [
       "<div>\n",
       "<style scoped>\n",
       "    .dataframe tbody tr th:only-of-type {\n",
       "        vertical-align: middle;\n",
       "    }\n",
       "\n",
       "    .dataframe tbody tr th {\n",
       "        vertical-align: top;\n",
       "    }\n",
       "\n",
       "    .dataframe thead th {\n",
       "        text-align: right;\n",
       "    }\n",
       "</style>\n",
       "<table border=\"1\" class=\"dataframe\">\n",
       "  <thead>\n",
       "    <tr style=\"text-align: right;\">\n",
       "      <th></th>\n",
       "      <th>HDI rank</th>\n",
       "      <th>Country</th>\n",
       "      <th>HDI 1990</th>\n",
       "      <th>HDI 2000</th>\n",
       "      <th>HDI 2010</th>\n",
       "      <th>HDI 2015</th>\n",
       "      <th>HDI 2018</th>\n",
       "      <th>HDI 2019</th>\n",
       "      <th>HDI 2020</th>\n",
       "      <th>HDI 2021</th>\n",
       "      <th>Change in HDI rank 2015-2021</th>\n",
       "      <th>Average annual HDI growth (%) 1990-2000</th>\n",
       "      <th>Average annual HDI growth (%) 2000-2010</th>\n",
       "      <th>Average annual HDI growth (%) 2010-2021</th>\n",
       "      <th>Average annual HDI growth (%) 1990-2021</th>\n",
       "      <th>ADMIN</th>\n",
       "      <th>ISO_A3</th>\n",
       "      <th>geometry</th>\n",
       "    </tr>\n",
       "  </thead>\n",
       "  <tbody>\n",
       "    <tr>\n",
       "      <th>0</th>\n",
       "      <td>1.0</td>\n",
       "      <td>Switzerland</td>\n",
       "      <td>0.851</td>\n",
       "      <td>0.887</td>\n",
       "      <td>0.942</td>\n",
       "      <td>0.954</td>\n",
       "      <td>0.959</td>\n",
       "      <td>0.962</td>\n",
       "      <td>0.956</td>\n",
       "      <td>0.962</td>\n",
       "      <td>0.0</td>\n",
       "      <td>0.415188</td>\n",
       "      <td>0.603416</td>\n",
       "      <td>0.191175</td>\n",
       "      <td>0.396274</td>\n",
       "      <td>Switzerland</td>\n",
       "      <td>CHE</td>\n",
       "      <td>POLYGON ((8.61744 47.75732, 8.62984 47.76280, ...</td>\n",
       "    </tr>\n",
       "    <tr>\n",
       "      <th>1</th>\n",
       "      <td>2.0</td>\n",
       "      <td>Norway</td>\n",
       "      <td>0.838</td>\n",
       "      <td>0.913</td>\n",
       "      <td>0.941</td>\n",
       "      <td>0.953</td>\n",
       "      <td>0.962</td>\n",
       "      <td>0.961</td>\n",
       "      <td>0.959</td>\n",
       "      <td>0.961</td>\n",
       "      <td>0.0</td>\n",
       "      <td>0.860862</td>\n",
       "      <td>0.302529</td>\n",
       "      <td>0.191376</td>\n",
       "      <td>0.442772</td>\n",
       "      <td>Norway</td>\n",
       "      <td>NOR</td>\n",
       "      <td>MULTIPOLYGON (((3.38258 -54.44931, 3.36451 -54...</td>\n",
       "    </tr>\n",
       "    <tr>\n",
       "      <th>2</th>\n",
       "      <td>3.0</td>\n",
       "      <td>Iceland</td>\n",
       "      <td>0.811</td>\n",
       "      <td>0.871</td>\n",
       "      <td>0.902</td>\n",
       "      <td>0.945</td>\n",
       "      <td>0.959</td>\n",
       "      <td>0.960</td>\n",
       "      <td>0.957</td>\n",
       "      <td>0.959</td>\n",
       "      <td>0.0</td>\n",
       "      <td>0.716292</td>\n",
       "      <td>0.350338</td>\n",
       "      <td>0.558614</td>\n",
       "      <td>0.542184</td>\n",
       "      <td>Iceland</td>\n",
       "      <td>ISL</td>\n",
       "      <td>MULTIPOLYGON (((-20.26964 63.40913, -20.27953 ...</td>\n",
       "    </tr>\n",
       "    <tr>\n",
       "      <th>3</th>\n",
       "      <td>4.0</td>\n",
       "      <td>Hong Kong S.A.R.</td>\n",
       "      <td>0.788</td>\n",
       "      <td>0.851</td>\n",
       "      <td>0.907</td>\n",
       "      <td>0.935</td>\n",
       "      <td>0.949</td>\n",
       "      <td>0.952</td>\n",
       "      <td>0.949</td>\n",
       "      <td>0.952</td>\n",
       "      <td>3.0</td>\n",
       "      <td>0.772106</td>\n",
       "      <td>0.639338</td>\n",
       "      <td>0.441176</td>\n",
       "      <td>0.611757</td>\n",
       "      <td>Hong Kong S.A.R.</td>\n",
       "      <td>HKG</td>\n",
       "      <td>MULTIPOLYGON (((114.11744 22.22187, 114.12574 ...</td>\n",
       "    </tr>\n",
       "    <tr>\n",
       "      <th>4</th>\n",
       "      <td>5.0</td>\n",
       "      <td>Australia</td>\n",
       "      <td>0.865</td>\n",
       "      <td>0.896</td>\n",
       "      <td>0.923</td>\n",
       "      <td>0.933</td>\n",
       "      <td>0.941</td>\n",
       "      <td>0.941</td>\n",
       "      <td>0.947</td>\n",
       "      <td>0.951</td>\n",
       "      <td>3.0</td>\n",
       "      <td>0.352730</td>\n",
       "      <td>0.297329</td>\n",
       "      <td>0.272050</td>\n",
       "      <td>0.306225</td>\n",
       "      <td>Australia</td>\n",
       "      <td>AUS</td>\n",
       "      <td>MULTIPOLYGON (((158.86573 -54.74993, 158.83823...</td>\n",
       "    </tr>\n",
       "    <tr>\n",
       "      <th>...</th>\n",
       "      <td>...</td>\n",
       "      <td>...</td>\n",
       "      <td>...</td>\n",
       "      <td>...</td>\n",
       "      <td>...</td>\n",
       "      <td>...</td>\n",
       "      <td>...</td>\n",
       "      <td>...</td>\n",
       "      <td>...</td>\n",
       "      <td>...</td>\n",
       "      <td>...</td>\n",
       "      <td>...</td>\n",
       "      <td>...</td>\n",
       "      <td>...</td>\n",
       "      <td>...</td>\n",
       "      <td>...</td>\n",
       "      <td>...</td>\n",
       "      <td>...</td>\n",
       "    </tr>\n",
       "    <tr>\n",
       "      <th>186</th>\n",
       "      <td>187.0</td>\n",
       "      <td>Burundi</td>\n",
       "      <td>0.290</td>\n",
       "      <td>0.297</td>\n",
       "      <td>0.405</td>\n",
       "      <td>0.428</td>\n",
       "      <td>0.428</td>\n",
       "      <td>0.431</td>\n",
       "      <td>0.426</td>\n",
       "      <td>0.426</td>\n",
       "      <td>-2.0</td>\n",
       "      <td>0.238797</td>\n",
       "      <td>3.150148</td>\n",
       "      <td>0.460624</td>\n",
       "      <td>1.248237</td>\n",
       "      <td>Burundi</td>\n",
       "      <td>BDI</td>\n",
       "      <td>POLYGON ((30.41507 -2.31309, 30.41848 -2.31185...</td>\n",
       "    </tr>\n",
       "    <tr>\n",
       "      <th>187</th>\n",
       "      <td>188.0</td>\n",
       "      <td>Central African Republic</td>\n",
       "      <td>0.338</td>\n",
       "      <td>0.329</td>\n",
       "      <td>0.372</td>\n",
       "      <td>0.384</td>\n",
       "      <td>0.405</td>\n",
       "      <td>0.411</td>\n",
       "      <td>0.407</td>\n",
       "      <td>0.404</td>\n",
       "      <td>2.0</td>\n",
       "      <td>-0.269518</td>\n",
       "      <td>1.235936</td>\n",
       "      <td>0.753012</td>\n",
       "      <td>0.577042</td>\n",
       "      <td>Central African Republic</td>\n",
       "      <td>CAF</td>\n",
       "      <td>POLYGON ((22.55576 10.97897, 22.57705 10.98512...</td>\n",
       "    </tr>\n",
       "    <tr>\n",
       "      <th>188</th>\n",
       "      <td>189.0</td>\n",
       "      <td>Niger</td>\n",
       "      <td>0.216</td>\n",
       "      <td>0.262</td>\n",
       "      <td>0.338</td>\n",
       "      <td>0.376</td>\n",
       "      <td>0.399</td>\n",
       "      <td>0.406</td>\n",
       "      <td>0.401</td>\n",
       "      <td>0.400</td>\n",
       "      <td>2.0</td>\n",
       "      <td>1.949419</td>\n",
       "      <td>2.579727</td>\n",
       "      <td>1.542860</td>\n",
       "      <td>2.007583</td>\n",
       "      <td>Niger</td>\n",
       "      <td>NER</td>\n",
       "      <td>POLYGON ((14.21622 22.61630, 14.23172 22.61795...</td>\n",
       "    </tr>\n",
       "    <tr>\n",
       "      <th>189</th>\n",
       "      <td>190.0</td>\n",
       "      <td>Chad</td>\n",
       "      <td>NaN</td>\n",
       "      <td>0.291</td>\n",
       "      <td>0.362</td>\n",
       "      <td>0.389</td>\n",
       "      <td>0.398</td>\n",
       "      <td>0.403</td>\n",
       "      <td>0.397</td>\n",
       "      <td>0.394</td>\n",
       "      <td>-1.0</td>\n",
       "      <td>NaN</td>\n",
       "      <td>2.207216</td>\n",
       "      <td>0.773033</td>\n",
       "      <td>NaN</td>\n",
       "      <td>Chad</td>\n",
       "      <td>TCD</td>\n",
       "      <td>POLYGON ((23.98131 19.49612, 23.98151 19.26384...</td>\n",
       "    </tr>\n",
       "    <tr>\n",
       "      <th>190</th>\n",
       "      <td>191.0</td>\n",
       "      <td>South Sudan</td>\n",
       "      <td>NaN</td>\n",
       "      <td>NaN</td>\n",
       "      <td>0.430</td>\n",
       "      <td>0.412</td>\n",
       "      <td>0.395</td>\n",
       "      <td>0.393</td>\n",
       "      <td>0.386</td>\n",
       "      <td>0.385</td>\n",
       "      <td>-3.0</td>\n",
       "      <td>NaN</td>\n",
       "      <td>NaN</td>\n",
       "      <td>-0.999894</td>\n",
       "      <td>NaN</td>\n",
       "      <td>South Sudan</td>\n",
       "      <td>SSD</td>\n",
       "      <td>POLYGON ((33.96912 9.83834, 33.90489 9.71070, ...</td>\n",
       "    </tr>\n",
       "  </tbody>\n",
       "</table>\n",
       "<p>191 rows × 18 columns</p>\n",
       "</div>"
      ],
      "text/plain": [
       "     HDI rank                   Country  HDI 1990  HDI 2000  HDI 2010  \\\n",
       "0         1.0               Switzerland     0.851     0.887     0.942   \n",
       "1         2.0                    Norway     0.838     0.913     0.941   \n",
       "2         3.0                   Iceland     0.811     0.871     0.902   \n",
       "3         4.0          Hong Kong S.A.R.     0.788     0.851     0.907   \n",
       "4         5.0                 Australia     0.865     0.896     0.923   \n",
       "..        ...                       ...       ...       ...       ...   \n",
       "186     187.0                   Burundi     0.290     0.297     0.405   \n",
       "187     188.0  Central African Republic     0.338     0.329     0.372   \n",
       "188     189.0                     Niger     0.216     0.262     0.338   \n",
       "189     190.0                      Chad       NaN     0.291     0.362   \n",
       "190     191.0               South Sudan       NaN       NaN     0.430   \n",
       "\n",
       "     HDI 2015  HDI 2018  HDI 2019  HDI 2020  HDI 2021  \\\n",
       "0       0.954     0.959     0.962     0.956     0.962   \n",
       "1       0.953     0.962     0.961     0.959     0.961   \n",
       "2       0.945     0.959     0.960     0.957     0.959   \n",
       "3       0.935     0.949     0.952     0.949     0.952   \n",
       "4       0.933     0.941     0.941     0.947     0.951   \n",
       "..        ...       ...       ...       ...       ...   \n",
       "186     0.428     0.428     0.431     0.426     0.426   \n",
       "187     0.384     0.405     0.411     0.407     0.404   \n",
       "188     0.376     0.399     0.406     0.401     0.400   \n",
       "189     0.389     0.398     0.403     0.397     0.394   \n",
       "190     0.412     0.395     0.393     0.386     0.385   \n",
       "\n",
       "     Change in HDI rank 2015-2021  Average annual HDI growth (%) 1990-2000  \\\n",
       "0                             0.0                                 0.415188   \n",
       "1                             0.0                                 0.860862   \n",
       "2                             0.0                                 0.716292   \n",
       "3                             3.0                                 0.772106   \n",
       "4                             3.0                                 0.352730   \n",
       "..                            ...                                      ...   \n",
       "186                          -2.0                                 0.238797   \n",
       "187                           2.0                                -0.269518   \n",
       "188                           2.0                                 1.949419   \n",
       "189                          -1.0                                      NaN   \n",
       "190                          -3.0                                      NaN   \n",
       "\n",
       "     Average annual HDI growth (%) 2000-2010  \\\n",
       "0                                   0.603416   \n",
       "1                                   0.302529   \n",
       "2                                   0.350338   \n",
       "3                                   0.639338   \n",
       "4                                   0.297329   \n",
       "..                                       ...   \n",
       "186                                 3.150148   \n",
       "187                                 1.235936   \n",
       "188                                 2.579727   \n",
       "189                                 2.207216   \n",
       "190                                      NaN   \n",
       "\n",
       "     Average annual HDI growth (%) 2010-2021  \\\n",
       "0                                   0.191175   \n",
       "1                                   0.191376   \n",
       "2                                   0.558614   \n",
       "3                                   0.441176   \n",
       "4                                   0.272050   \n",
       "..                                       ...   \n",
       "186                                 0.460624   \n",
       "187                                 0.753012   \n",
       "188                                 1.542860   \n",
       "189                                 0.773033   \n",
       "190                                -0.999894   \n",
       "\n",
       "     Average annual HDI growth (%) 1990-2021                     ADMIN ISO_A3  \\\n",
       "0                                   0.396274               Switzerland    CHE   \n",
       "1                                   0.442772                    Norway    NOR   \n",
       "2                                   0.542184                   Iceland    ISL   \n",
       "3                                   0.611757          Hong Kong S.A.R.    HKG   \n",
       "4                                   0.306225                 Australia    AUS   \n",
       "..                                       ...                       ...    ...   \n",
       "186                                 1.248237                   Burundi    BDI   \n",
       "187                                 0.577042  Central African Republic    CAF   \n",
       "188                                 2.007583                     Niger    NER   \n",
       "189                                      NaN                      Chad    TCD   \n",
       "190                                      NaN               South Sudan    SSD   \n",
       "\n",
       "                                              geometry  \n",
       "0    POLYGON ((8.61744 47.75732, 8.62984 47.76280, ...  \n",
       "1    MULTIPOLYGON (((3.38258 -54.44931, 3.36451 -54...  \n",
       "2    MULTIPOLYGON (((-20.26964 63.40913, -20.27953 ...  \n",
       "3    MULTIPOLYGON (((114.11744 22.22187, 114.12574 ...  \n",
       "4    MULTIPOLYGON (((158.86573 -54.74993, 158.83823...  \n",
       "..                                                 ...  \n",
       "186  POLYGON ((30.41507 -2.31309, 30.41848 -2.31185...  \n",
       "187  POLYGON ((22.55576 10.97897, 22.57705 10.98512...  \n",
       "188  POLYGON ((14.21622 22.61630, 14.23172 22.61795...  \n",
       "189  POLYGON ((23.98131 19.49612, 23.98151 19.26384...  \n",
       "190  POLYGON ((33.96912 9.83834, 33.90489 9.71070, ...  \n",
       "\n",
       "[191 rows x 18 columns]"
      ]
     },
     "execution_count": 114,
     "metadata": {},
     "output_type": "execute_result"
    }
   ],
   "source": [
    "merged_data = pd.merge(HDI_years, countries_geojson, left_on='Country', right_on='ADMIN', how='left')\n",
    "merged_data"
   ]
  },
  {
   "cell_type": "markdown",
   "metadata": {},
   "source": [
    "Let's display our newly merged dataframe `merged_data`. Using the drop-down menu at the top, you can select a particular column year to visualize. Do certain years contain drastic differences than others? Similarly, are there particular years where countries have HDI rankings, but do not have them for other years?"
   ]
  },
  {
   "cell_type": "code",
   "execution_count": 115,
   "metadata": {},
   "outputs": [
    {
     "data": {
      "application/vnd.jupyter.widget-view+json": {
       "model_id": "18a25a4ce9a24e9e908eedfd7a0bdd9d",
       "version_major": 2,
       "version_minor": 0
      },
      "text/plain": [
       "Dropdown(description='Column:', options=('HDI 1990', 'HDI 2000', 'HDI 2010', 'HDI 2015', 'HDI 2018', 'HDI 2019…"
      ]
     },
     "metadata": {},
     "output_type": "display_data"
    },
    {
     "data": {
      "application/vnd.jupyter.widget-view+json": {
       "model_id": "72c7b2af0d2d4124b89e283e64867019",
       "version_major": 2,
       "version_minor": 0
      },
      "text/plain": [
       "Output(layout=Layout(border_bottom='1px solid black', border_left='1px solid black', border_right='1px solid b…"
      ]
     },
     "execution_count": 115,
     "metadata": {},
     "output_type": "execute_result"
    }
   ],
   "source": [
    "HDI_by_country = ipywidgets.Output(layout={'border': '1px solid black'})\n",
    "\n",
    "column_names = merged_data.columns[2:10].tolist()\n",
    "dropdown_options = ipywidgets.Dropdown(\n",
    "    options=column_names,\n",
    "    value=column_names[0],\n",
    "    description='Column:',\n",
    "    disabled=False\n",
    ")\n",
    "\n",
    "def update_choropleth(change):\n",
    "    HDI_by_country.clear_output()\n",
    "    with HDI_by_country:\n",
    "        m = folium.Map()\n",
    "        folium.Choropleth(\n",
    "            geo_data=countries_geojson,\n",
    "            data=merged_data,\n",
    "            columns=['ADMIN', dropdown_options.value],  \n",
    "            key_on='feature.properties.ADMIN',  \n",
    "            fill_color='YlGn',\n",
    "            fill_opacity=0.7,\n",
    "            line_opacity=0.2,\n",
    "            legend_name=f'{dropdown_options.value} per Country',\n",
    "        ).add_to(m)\n",
    "        display(m)\n",
    "\n",
    "dropdown_options.observe(update_choropleth, names='value')\n",
    "display(dropdown_options)\n",
    "update_choropleth({'new': column_names[0]})\n",
    "\n",
    "HDI_by_country"
   ]
  },
  {
   "cell_type": "markdown",
   "metadata": {},
   "source": [
    "### Reflection Questions\n",
    "\n",
    "1. How do the *HDI values* of countries change over time? Are there discernible patterns or trends that emerge over the years?\n",
    "\n",
    "2. How do the *geographical locations* of countries correlate with their HDI values? Are there any noticeable differences in HDI scores based on *regions* or geographical locations?\n",
    "   \n",
    "3. Considering the *average annual HDI growth percentages*, what can be inferred about the overall *progress* of countries in terms of human development? Are there *specific time period*s that exhibit notable improvements or setbacks in human development across various nations?"
   ]
  },
  {
   "cell_type": "markdown",
   "metadata": {},
   "source": [
    "### Factors of Importance for HDI\n",
    "Moving on from HDI yearly trends, we can now examine what *factors/components* directly contribute to a country's HDI score. "
   ]
  },
  {
   "cell_type": "code",
   "execution_count": 116,
   "metadata": {},
   "outputs": [
    {
     "data": {
      "text/html": [
       "<div>\n",
       "<style scoped>\n",
       "    .dataframe tbody tr th:only-of-type {\n",
       "        vertical-align: middle;\n",
       "    }\n",
       "\n",
       "    .dataframe tbody tr th {\n",
       "        vertical-align: top;\n",
       "    }\n",
       "\n",
       "    .dataframe thead th {\n",
       "        text-align: right;\n",
       "    }\n",
       "</style>\n",
       "<table border=\"1\" class=\"dataframe\">\n",
       "  <thead>\n",
       "    <tr style=\"text-align: right;\">\n",
       "      <th></th>\n",
       "      <th>HDI rank</th>\n",
       "      <th>Country</th>\n",
       "      <th>Human Development Index (HDI)</th>\n",
       "      <th>Life expectancy at birth (years)</th>\n",
       "      <th>Expected years of schooling (years)</th>\n",
       "      <th>Mean years of schooling (years)</th>\n",
       "      <th>Gross national income (GNI) per capita (2017 PPP $)</th>\n",
       "      <th>GNI per capita rank minus HDI rank</th>\n",
       "      <th>HDI rank.1</th>\n",
       "    </tr>\n",
       "  </thead>\n",
       "  <tbody>\n",
       "    <tr>\n",
       "      <th>0</th>\n",
       "      <td>1.0</td>\n",
       "      <td>Switzerland</td>\n",
       "      <td>0.962</td>\n",
       "      <td>83.9872</td>\n",
       "      <td>16.500299</td>\n",
       "      <td>13.85966</td>\n",
       "      <td>66933.00454</td>\n",
       "      <td>5</td>\n",
       "      <td>3</td>\n",
       "    </tr>\n",
       "    <tr>\n",
       "      <th>1</th>\n",
       "      <td>2.0</td>\n",
       "      <td>Norway</td>\n",
       "      <td>0.961</td>\n",
       "      <td>83.2339</td>\n",
       "      <td>18.1852</td>\n",
       "      <td>13.00363</td>\n",
       "      <td>64660.10622</td>\n",
       "      <td>6</td>\n",
       "      <td>1</td>\n",
       "    </tr>\n",
       "    <tr>\n",
       "      <th>2</th>\n",
       "      <td>3.0</td>\n",
       "      <td>Iceland</td>\n",
       "      <td>0.959</td>\n",
       "      <td>82.6782</td>\n",
       "      <td>19.163059</td>\n",
       "      <td>13.76717</td>\n",
       "      <td>55782.04981</td>\n",
       "      <td>11</td>\n",
       "      <td>2</td>\n",
       "    </tr>\n",
       "    <tr>\n",
       "      <th>3</th>\n",
       "      <td>4.0</td>\n",
       "      <td>Hong Kong, China (SAR)</td>\n",
       "      <td>0.952</td>\n",
       "      <td>85.4734</td>\n",
       "      <td>17.27817</td>\n",
       "      <td>12.22621</td>\n",
       "      <td>62606.8454</td>\n",
       "      <td>6</td>\n",
       "      <td>4</td>\n",
       "    </tr>\n",
       "    <tr>\n",
       "      <th>4</th>\n",
       "      <td>5.0</td>\n",
       "      <td>Australia</td>\n",
       "      <td>0.951</td>\n",
       "      <td>84.5265</td>\n",
       "      <td>21.05459</td>\n",
       "      <td>12.72682</td>\n",
       "      <td>49238.43335</td>\n",
       "      <td>18</td>\n",
       "      <td>5</td>\n",
       "    </tr>\n",
       "    <tr>\n",
       "      <th>...</th>\n",
       "      <td>...</td>\n",
       "      <td>...</td>\n",
       "      <td>...</td>\n",
       "      <td>...</td>\n",
       "      <td>...</td>\n",
       "      <td>...</td>\n",
       "      <td>...</td>\n",
       "      <td>...</td>\n",
       "      <td>...</td>\n",
       "    </tr>\n",
       "    <tr>\n",
       "      <th>190</th>\n",
       "      <td>191.0</td>\n",
       "      <td>South Sudan</td>\n",
       "      <td>0.385</td>\n",
       "      <td>54.9752</td>\n",
       "      <td>5.54251</td>\n",
       "      <td>5.72614</td>\n",
       "      <td>767.787</td>\n",
       "      <td>-1</td>\n",
       "      <td>191</td>\n",
       "    </tr>\n",
       "    <tr>\n",
       "      <th>191</th>\n",
       "      <td>NaN</td>\n",
       "      <td>Korea (Democratic People's Rep. of)</td>\n",
       "      <td>..</td>\n",
       "      <td>73.2845</td>\n",
       "      <td>10.78317</td>\n",
       "      <td>..</td>\n",
       "      <td>..</td>\n",
       "      <td>..</td>\n",
       "      <td>..</td>\n",
       "    </tr>\n",
       "    <tr>\n",
       "      <th>192</th>\n",
       "      <td>NaN</td>\n",
       "      <td>Monaco</td>\n",
       "      <td>..</td>\n",
       "      <td>85.9463</td>\n",
       "      <td>..</td>\n",
       "      <td>..</td>\n",
       "      <td>..</td>\n",
       "      <td>..</td>\n",
       "      <td>..</td>\n",
       "    </tr>\n",
       "    <tr>\n",
       "      <th>193</th>\n",
       "      <td>NaN</td>\n",
       "      <td>Nauru</td>\n",
       "      <td>..</td>\n",
       "      <td>63.6170</td>\n",
       "      <td>11.69042</td>\n",
       "      <td>..</td>\n",
       "      <td>17729.74084</td>\n",
       "      <td>..</td>\n",
       "      <td>..</td>\n",
       "    </tr>\n",
       "    <tr>\n",
       "      <th>194</th>\n",
       "      <td>NaN</td>\n",
       "      <td>Somalia</td>\n",
       "      <td>..</td>\n",
       "      <td>55.2803</td>\n",
       "      <td>..</td>\n",
       "      <td>..</td>\n",
       "      <td>1017.96785</td>\n",
       "      <td>..</td>\n",
       "      <td>..</td>\n",
       "    </tr>\n",
       "  </tbody>\n",
       "</table>\n",
       "<p>195 rows × 9 columns</p>\n",
       "</div>"
      ],
      "text/plain": [
       "     HDI rank                              Country  \\\n",
       "0         1.0                          Switzerland   \n",
       "1         2.0                               Norway   \n",
       "2         3.0                              Iceland   \n",
       "3         4.0               Hong Kong, China (SAR)   \n",
       "4         5.0                            Australia   \n",
       "..        ...                                  ...   \n",
       "190     191.0                          South Sudan   \n",
       "191       NaN  Korea (Democratic People's Rep. of)   \n",
       "192       NaN                               Monaco   \n",
       "193       NaN                                Nauru   \n",
       "194       NaN                              Somalia   \n",
       "\n",
       "    Human Development Index (HDI)   Life expectancy at birth (years)  \\\n",
       "0                            0.962                           83.9872   \n",
       "1                            0.961                           83.2339   \n",
       "2                            0.959                           82.6782   \n",
       "3                            0.952                           85.4734   \n",
       "4                            0.951                           84.5265   \n",
       "..                             ...                               ...   \n",
       "190                          0.385                           54.9752   \n",
       "191                             ..                           73.2845   \n",
       "192                             ..                           85.9463   \n",
       "193                             ..                           63.6170   \n",
       "194                             ..                           55.2803   \n",
       "\n",
       "    Expected years of schooling (years) Mean years of schooling (years)  \\\n",
       "0                             16.500299                        13.85966   \n",
       "1                               18.1852                        13.00363   \n",
       "2                             19.163059                        13.76717   \n",
       "3                              17.27817                        12.22621   \n",
       "4                              21.05459                        12.72682   \n",
       "..                                  ...                             ...   \n",
       "190                             5.54251                         5.72614   \n",
       "191                            10.78317                              ..   \n",
       "192                                  ..                              ..   \n",
       "193                            11.69042                              ..   \n",
       "194                                  ..                              ..   \n",
       "\n",
       "    Gross national income (GNI) per capita (2017 PPP $)  \\\n",
       "0                                          66933.00454    \n",
       "1                                          64660.10622    \n",
       "2                                          55782.04981    \n",
       "3                                           62606.8454    \n",
       "4                                          49238.43335    \n",
       "..                                                 ...    \n",
       "190                                            767.787    \n",
       "191                                                 ..    \n",
       "192                                                 ..    \n",
       "193                                        17729.74084    \n",
       "194                                         1017.96785    \n",
       "\n",
       "    GNI per capita rank minus HDI rank HDI rank.1  \n",
       "0                                    5          3  \n",
       "1                                    6          1  \n",
       "2                                   11          2  \n",
       "3                                    6          4  \n",
       "4                                   18          5  \n",
       "..                                 ...        ...  \n",
       "190                                 -1        191  \n",
       "191                                 ..         ..  \n",
       "192                                 ..         ..  \n",
       "193                                 ..         ..  \n",
       "194                                 ..         ..  \n",
       "\n",
       "[195 rows x 9 columns]"
      ]
     },
     "execution_count": 116,
     "metadata": {},
     "output_type": "execute_result"
    }
   ],
   "source": [
    "HDI_components"
   ]
  },
  {
   "cell_type": "markdown",
   "metadata": {},
   "source": [
    "Looking at the dataframe `HDI_components` above, we see there are 4 main components that contribute to a country's HDI score. The UN column descriptions defines these columns as the following:\n",
    "\n",
    "| Column Name | Description |\n",
    "| --- | --- |\n",
    "| Life expectancy at birth (years) | Number of years a newborn infant could expect to live if prevailing patterns of age-specific mortality rates at the time of birth stay the same throughout the infant’s life. |\n",
    "| Expected years of schooling (years) | Number of years of schooling that a child of school entrance age can expect to receive if prevailing patterns of age-specific enrolment rates persist throughout the child’s life. |\n",
    "| Mean years of schooling (years) | Average number of years of education received by people ages 25 and older, converted from education attainment levels using official durations of each level. |\n",
    "| Gross national income (GNI) per capita (2017 PPP $) | Aggregate income of an economy generated by its production and its ownership of factors of production, less the incomes paid for the use of factors of production owned by the rest of the world, converted to international dollars using PPP rates, divided by midyear population. |"
   ]
  },
  {
   "cell_type": "markdown",
   "metadata": {},
   "source": [
    "Similarly to before, we need to perform some *data-cleaning* before getting into any analysis of our dataframe. Let's start simple by changing the column names into more appriopriate column names. \n",
    "\n",
    "First, `HDI rank 1.` is supposed to refer to the HDI rank of the country in 2020. Let's change the name to `HDI rank 2020` to better reflect what this column means. Next, the column `Human Development Index (HDI)` contains an extra space at the end of the column name. Let's remove this space for ease of work later on. "
   ]
  },
  {
   "cell_type": "code",
   "execution_count": 117,
   "metadata": {},
   "outputs": [
    {
     "data": {
      "text/html": [
       "<div>\n",
       "<style scoped>\n",
       "    .dataframe tbody tr th:only-of-type {\n",
       "        vertical-align: middle;\n",
       "    }\n",
       "\n",
       "    .dataframe tbody tr th {\n",
       "        vertical-align: top;\n",
       "    }\n",
       "\n",
       "    .dataframe thead th {\n",
       "        text-align: right;\n",
       "    }\n",
       "</style>\n",
       "<table border=\"1\" class=\"dataframe\">\n",
       "  <thead>\n",
       "    <tr style=\"text-align: right;\">\n",
       "      <th></th>\n",
       "      <th>HDI rank</th>\n",
       "      <th>Country</th>\n",
       "      <th>Human Development Index (HDI)</th>\n",
       "      <th>Life expectancy at birth (years)</th>\n",
       "      <th>Expected years of schooling (years)</th>\n",
       "      <th>Mean years of schooling (years)</th>\n",
       "      <th>Gross national income (GNI) per capita (2017 PPP $)</th>\n",
       "      <th>GNI per capita rank minus HDI rank</th>\n",
       "      <th>HDI rank 2020</th>\n",
       "    </tr>\n",
       "  </thead>\n",
       "  <tbody>\n",
       "    <tr>\n",
       "      <th>0</th>\n",
       "      <td>1.0</td>\n",
       "      <td>Switzerland</td>\n",
       "      <td>0.962</td>\n",
       "      <td>83.9872</td>\n",
       "      <td>16.500299</td>\n",
       "      <td>13.85966</td>\n",
       "      <td>66933.00454</td>\n",
       "      <td>5</td>\n",
       "      <td>3</td>\n",
       "    </tr>\n",
       "    <tr>\n",
       "      <th>1</th>\n",
       "      <td>2.0</td>\n",
       "      <td>Norway</td>\n",
       "      <td>0.961</td>\n",
       "      <td>83.2339</td>\n",
       "      <td>18.1852</td>\n",
       "      <td>13.00363</td>\n",
       "      <td>64660.10622</td>\n",
       "      <td>6</td>\n",
       "      <td>1</td>\n",
       "    </tr>\n",
       "    <tr>\n",
       "      <th>2</th>\n",
       "      <td>3.0</td>\n",
       "      <td>Iceland</td>\n",
       "      <td>0.959</td>\n",
       "      <td>82.6782</td>\n",
       "      <td>19.163059</td>\n",
       "      <td>13.76717</td>\n",
       "      <td>55782.04981</td>\n",
       "      <td>11</td>\n",
       "      <td>2</td>\n",
       "    </tr>\n",
       "    <tr>\n",
       "      <th>3</th>\n",
       "      <td>4.0</td>\n",
       "      <td>Hong Kong, China (SAR)</td>\n",
       "      <td>0.952</td>\n",
       "      <td>85.4734</td>\n",
       "      <td>17.27817</td>\n",
       "      <td>12.22621</td>\n",
       "      <td>62606.8454</td>\n",
       "      <td>6</td>\n",
       "      <td>4</td>\n",
       "    </tr>\n",
       "    <tr>\n",
       "      <th>4</th>\n",
       "      <td>5.0</td>\n",
       "      <td>Australia</td>\n",
       "      <td>0.951</td>\n",
       "      <td>84.5265</td>\n",
       "      <td>21.05459</td>\n",
       "      <td>12.72682</td>\n",
       "      <td>49238.43335</td>\n",
       "      <td>18</td>\n",
       "      <td>5</td>\n",
       "    </tr>\n",
       "    <tr>\n",
       "      <th>...</th>\n",
       "      <td>...</td>\n",
       "      <td>...</td>\n",
       "      <td>...</td>\n",
       "      <td>...</td>\n",
       "      <td>...</td>\n",
       "      <td>...</td>\n",
       "      <td>...</td>\n",
       "      <td>...</td>\n",
       "      <td>...</td>\n",
       "    </tr>\n",
       "    <tr>\n",
       "      <th>190</th>\n",
       "      <td>191.0</td>\n",
       "      <td>South Sudan</td>\n",
       "      <td>0.385</td>\n",
       "      <td>54.9752</td>\n",
       "      <td>5.54251</td>\n",
       "      <td>5.72614</td>\n",
       "      <td>767.787</td>\n",
       "      <td>-1</td>\n",
       "      <td>191</td>\n",
       "    </tr>\n",
       "    <tr>\n",
       "      <th>191</th>\n",
       "      <td>NaN</td>\n",
       "      <td>Korea (Democratic People's Rep. of)</td>\n",
       "      <td>..</td>\n",
       "      <td>73.2845</td>\n",
       "      <td>10.78317</td>\n",
       "      <td>..</td>\n",
       "      <td>..</td>\n",
       "      <td>..</td>\n",
       "      <td>..</td>\n",
       "    </tr>\n",
       "    <tr>\n",
       "      <th>192</th>\n",
       "      <td>NaN</td>\n",
       "      <td>Monaco</td>\n",
       "      <td>..</td>\n",
       "      <td>85.9463</td>\n",
       "      <td>..</td>\n",
       "      <td>..</td>\n",
       "      <td>..</td>\n",
       "      <td>..</td>\n",
       "      <td>..</td>\n",
       "    </tr>\n",
       "    <tr>\n",
       "      <th>193</th>\n",
       "      <td>NaN</td>\n",
       "      <td>Nauru</td>\n",
       "      <td>..</td>\n",
       "      <td>63.6170</td>\n",
       "      <td>11.69042</td>\n",
       "      <td>..</td>\n",
       "      <td>17729.74084</td>\n",
       "      <td>..</td>\n",
       "      <td>..</td>\n",
       "    </tr>\n",
       "    <tr>\n",
       "      <th>194</th>\n",
       "      <td>NaN</td>\n",
       "      <td>Somalia</td>\n",
       "      <td>..</td>\n",
       "      <td>55.2803</td>\n",
       "      <td>..</td>\n",
       "      <td>..</td>\n",
       "      <td>1017.96785</td>\n",
       "      <td>..</td>\n",
       "      <td>..</td>\n",
       "    </tr>\n",
       "  </tbody>\n",
       "</table>\n",
       "<p>195 rows × 9 columns</p>\n",
       "</div>"
      ],
      "text/plain": [
       "     HDI rank                              Country  \\\n",
       "0         1.0                          Switzerland   \n",
       "1         2.0                               Norway   \n",
       "2         3.0                              Iceland   \n",
       "3         4.0               Hong Kong, China (SAR)   \n",
       "4         5.0                            Australia   \n",
       "..        ...                                  ...   \n",
       "190     191.0                          South Sudan   \n",
       "191       NaN  Korea (Democratic People's Rep. of)   \n",
       "192       NaN                               Monaco   \n",
       "193       NaN                                Nauru   \n",
       "194       NaN                              Somalia   \n",
       "\n",
       "    Human Development Index (HDI)  Life expectancy at birth (years)  \\\n",
       "0                           0.962                           83.9872   \n",
       "1                           0.961                           83.2339   \n",
       "2                           0.959                           82.6782   \n",
       "3                           0.952                           85.4734   \n",
       "4                           0.951                           84.5265   \n",
       "..                            ...                               ...   \n",
       "190                         0.385                           54.9752   \n",
       "191                            ..                           73.2845   \n",
       "192                            ..                           85.9463   \n",
       "193                            ..                           63.6170   \n",
       "194                            ..                           55.2803   \n",
       "\n",
       "    Expected years of schooling (years) Mean years of schooling (years)  \\\n",
       "0                             16.500299                        13.85966   \n",
       "1                               18.1852                        13.00363   \n",
       "2                             19.163059                        13.76717   \n",
       "3                              17.27817                        12.22621   \n",
       "4                              21.05459                        12.72682   \n",
       "..                                  ...                             ...   \n",
       "190                             5.54251                         5.72614   \n",
       "191                            10.78317                              ..   \n",
       "192                                  ..                              ..   \n",
       "193                            11.69042                              ..   \n",
       "194                                  ..                              ..   \n",
       "\n",
       "    Gross national income (GNI) per capita (2017 PPP $)  \\\n",
       "0                                          66933.00454    \n",
       "1                                          64660.10622    \n",
       "2                                          55782.04981    \n",
       "3                                           62606.8454    \n",
       "4                                          49238.43335    \n",
       "..                                                 ...    \n",
       "190                                            767.787    \n",
       "191                                                 ..    \n",
       "192                                                 ..    \n",
       "193                                        17729.74084    \n",
       "194                                         1017.96785    \n",
       "\n",
       "    GNI per capita rank minus HDI rank HDI rank 2020  \n",
       "0                                    5             3  \n",
       "1                                    6             1  \n",
       "2                                   11             2  \n",
       "3                                    6             4  \n",
       "4                                   18             5  \n",
       "..                                 ...           ...  \n",
       "190                                 -1           191  \n",
       "191                                 ..            ..  \n",
       "192                                 ..            ..  \n",
       "193                                 ..            ..  \n",
       "194                                 ..            ..  \n",
       "\n",
       "[195 rows x 9 columns]"
      ]
     },
     "execution_count": 117,
     "metadata": {},
     "output_type": "execute_result"
    }
   ],
   "source": [
    "HDI_components.rename(columns={'HDI rank.1': 'HDI rank 2020', 'Human Development Index (HDI) ': 'Human Development Index (HDI)'}, inplace=True)\n",
    "HDI_components"
   ]
  },
  {
   "cell_type": "markdown",
   "metadata": {},
   "source": [
    "Similarly to before, let's also remove any countries that do not have a `HDI rank`. We will, however, be using these countries in a later part of analysis. "
   ]
  },
  {
   "cell_type": "code",
   "execution_count": 118,
   "metadata": {},
   "outputs": [
    {
     "data": {
      "text/html": [
       "<div>\n",
       "<style scoped>\n",
       "    .dataframe tbody tr th:only-of-type {\n",
       "        vertical-align: middle;\n",
       "    }\n",
       "\n",
       "    .dataframe tbody tr th {\n",
       "        vertical-align: top;\n",
       "    }\n",
       "\n",
       "    .dataframe thead th {\n",
       "        text-align: right;\n",
       "    }\n",
       "</style>\n",
       "<table border=\"1\" class=\"dataframe\">\n",
       "  <thead>\n",
       "    <tr style=\"text-align: right;\">\n",
       "      <th></th>\n",
       "      <th>HDI rank</th>\n",
       "      <th>Country</th>\n",
       "      <th>Human Development Index (HDI)</th>\n",
       "      <th>Life expectancy at birth (years)</th>\n",
       "      <th>Expected years of schooling (years)</th>\n",
       "      <th>Mean years of schooling (years)</th>\n",
       "      <th>Gross national income (GNI) per capita (2017 PPP $)</th>\n",
       "      <th>GNI per capita rank minus HDI rank</th>\n",
       "      <th>HDI rank 2020</th>\n",
       "    </tr>\n",
       "  </thead>\n",
       "  <tbody>\n",
       "    <tr>\n",
       "      <th>191</th>\n",
       "      <td>NaN</td>\n",
       "      <td>Korea (Democratic People's Rep. of)</td>\n",
       "      <td>..</td>\n",
       "      <td>73.2845</td>\n",
       "      <td>10.78317</td>\n",
       "      <td>..</td>\n",
       "      <td>..</td>\n",
       "      <td>..</td>\n",
       "      <td>..</td>\n",
       "    </tr>\n",
       "    <tr>\n",
       "      <th>192</th>\n",
       "      <td>NaN</td>\n",
       "      <td>Monaco</td>\n",
       "      <td>..</td>\n",
       "      <td>85.9463</td>\n",
       "      <td>..</td>\n",
       "      <td>..</td>\n",
       "      <td>..</td>\n",
       "      <td>..</td>\n",
       "      <td>..</td>\n",
       "    </tr>\n",
       "    <tr>\n",
       "      <th>193</th>\n",
       "      <td>NaN</td>\n",
       "      <td>Nauru</td>\n",
       "      <td>..</td>\n",
       "      <td>63.6170</td>\n",
       "      <td>11.69042</td>\n",
       "      <td>..</td>\n",
       "      <td>17729.74084</td>\n",
       "      <td>..</td>\n",
       "      <td>..</td>\n",
       "    </tr>\n",
       "    <tr>\n",
       "      <th>194</th>\n",
       "      <td>NaN</td>\n",
       "      <td>Somalia</td>\n",
       "      <td>..</td>\n",
       "      <td>55.2803</td>\n",
       "      <td>..</td>\n",
       "      <td>..</td>\n",
       "      <td>1017.96785</td>\n",
       "      <td>..</td>\n",
       "      <td>..</td>\n",
       "    </tr>\n",
       "  </tbody>\n",
       "</table>\n",
       "</div>"
      ],
      "text/plain": [
       "     HDI rank                              Country  \\\n",
       "191       NaN  Korea (Democratic People's Rep. of)   \n",
       "192       NaN                               Monaco   \n",
       "193       NaN                                Nauru   \n",
       "194       NaN                              Somalia   \n",
       "\n",
       "    Human Development Index (HDI)  Life expectancy at birth (years)  \\\n",
       "191                            ..                           73.2845   \n",
       "192                            ..                           85.9463   \n",
       "193                            ..                           63.6170   \n",
       "194                            ..                           55.2803   \n",
       "\n",
       "    Expected years of schooling (years) Mean years of schooling (years)  \\\n",
       "191                            10.78317                              ..   \n",
       "192                                  ..                              ..   \n",
       "193                            11.69042                              ..   \n",
       "194                                  ..                              ..   \n",
       "\n",
       "    Gross national income (GNI) per capita (2017 PPP $)  \\\n",
       "191                                                 ..    \n",
       "192                                                 ..    \n",
       "193                                        17729.74084    \n",
       "194                                         1017.96785    \n",
       "\n",
       "    GNI per capita rank minus HDI rank HDI rank 2020  \n",
       "191                                 ..            ..  \n",
       "192                                 ..            ..  \n",
       "193                                 ..            ..  \n",
       "194                                 ..            ..  "
      ]
     },
     "execution_count": 118,
     "metadata": {},
     "output_type": "execute_result"
    }
   ],
   "source": [
    "no_HDI = HDI_components[HDI_components['HDI rank'].isnull()]\n",
    "no_HDI"
   ]
  },
  {
   "cell_type": "markdown",
   "metadata": {},
   "source": [
    "Now that we've finished data-cleaning, let's perform similar analysis to our `HDI_years` dataframe. Let's find the *maximum*, *minimum*, and *mean* values in our 4 columns that contribute to a country's HDI score so that we can get a better understanding of the boundaries and trends within the dataframe. Furthermore, if these values are not numerical, we can also convert them here for future analysis."
   ]
  },
  {
   "cell_type": "code",
   "execution_count": 119,
   "metadata": {},
   "outputs": [
    {
     "name": "stdout",
     "output_type": "stream",
     "text": [
      "Values in Human Development Index (HDI) column are not numeric. Let's convert them to numeric.\n",
      "\n",
      "Maximum Human Development Index (HDI): 0.962, Country: Switzerland\n",
      "Minimum Human Development Index (HDI): 0.385, Country: South Sudan\n",
      "Mean Human Development Index (HDI): 0.7205759162303664\n",
      "\n",
      "Maximum Life expectancy at birth (years): 85.9463, Country: Monaco\n",
      "Minimum Life expectancy at birth (years): 52.5254, Country: Chad\n",
      "Mean Life expectancy at birth (years): 71.27633025641026\n",
      "\n",
      "Values in Expected years of schooling (years) column are not numeric. Let's convert them to numeric.\n",
      "\n",
      "Maximum Expected years of schooling (years): 21.05459023, Country: Australia\n",
      "Minimum Expected years of schooling (years): 5.54251, Country: South Sudan\n",
      "Mean Expected years of schooling (years): 13.510846074849743\n",
      "\n",
      "Values in Mean years of schooling (years) column are not numeric. Let's convert them to numeric.\n",
      "\n",
      "Maximum Mean years of schooling (years): 14.09096691, Country: Germany\n",
      "Minimum Mean years of schooling (years): 2.114962259, Country: Burkina Faso\n",
      "Mean Mean years of schooling (years): 8.986916457607329\n",
      "\n",
      "Values in Gross national income (GNI) per capita (2017 PPP $) column are not numeric. Let's convert them to numeric.\n",
      "\n",
      "Maximum Gross national income (GNI) per capita (2017 PPP $): 146829.7006, Country: Liechtenstein\n",
      "Minimum Gross national income (GNI) per capita (2017 PPP $): 731.7867086, Country: Burundi\n",
      "Mean Gross national income (GNI) per capita (2017 PPP $): 20136.391498581866\n",
      "\n"
     ]
    }
   ],
   "source": [
    "for col in HDI_components.columns[2:7]:\n",
    "    try:\n",
    "        HDI_components[col].max()\n",
    "        HDI_components[col].min()\n",
    "        HDI_components[col].mean()\n",
    "    except:\n",
    "        print(f\"Values in {col} column are not numeric. Let's convert them to numeric.\\n\")\n",
    "        HDI_components[col] = pd.to_numeric(HDI_components[col], errors='coerce')\n",
    "        HDI_components[col].max()\n",
    "        HDI_components[col].min()\n",
    "        HDI_components[col].mean()\n",
    "    \n",
    "    max_country = HDI_components.loc[HDI_components[col].idxmax()]['Country']\n",
    "    min_country = HDI_components.loc[HDI_components[col].idxmin()]['Country']\n",
    "    print(f\"Maximum {col}: {HDI_components[col].max()}, Country: {max_country}\")\n",
    "    print(f\"Minimum {col}: {HDI_components[col].min()}, Country: {min_country}\")\n",
    "    print(f\"Mean {col}: {HDI_components[col].mean()}\\n\")"
   ]
  },
  {
   "cell_type": "markdown",
   "metadata": {},
   "source": [
    "Looking at the output above, we can get a better sense of what values are considered great and now so great in the context of determining a country's HDI score. One interesting thing to point out is the average HDI score across all countries being 0.72. This is a surprisingly high score, as this score would be graded *High* based on the UN's own ranking system. There are 2 scenarios on why this could occur:\n",
    "\n",
    "1. There are many countries that are highly ranked in the dataframe, leading to an overall higher average than expected.\n",
    "2. There are few countries that are lowly ranked in the dataframe, leading to an overall higher average than expected.\n",
    "\n",
    "Both scenario's lead to great outcomes, which is always a positive sight to see. "
   ]
  },
  {
   "cell_type": "markdown",
   "metadata": {},
   "source": [
    "### Gross National Income (GNI) compared to Human Development Index (HDI)"
   ]
  },
  {
   "cell_type": "markdown",
   "metadata": {},
   "source": [
    "We can also perform some analysis in finding the correlation between a country's GNI ranking and their HDI ranking. Specifically, let's see if there are more countries that have a higher GNI ranking than HDI ranking, and vice-versa. \n",
    "\n",
    "Note: A country with a negative `GNI per capital rank minus HDI rank` means the country is better ranked by GNI than by HDI value."
   ]
  },
  {
   "cell_type": "code",
   "execution_count": 120,
   "metadata": {},
   "outputs": [
    {
     "name": "stdout",
     "output_type": "stream",
     "text": [
      "Number of Countries with a GNI ranking lower than their HDI ranking 104\n",
      "Number of Countries with a GNI ranking higher than their HDI ranking: 91\n"
     ]
    }
   ],
   "source": [
    "try:\n",
    "    counts = HDI_components['GNI per capita rank minus HDI rank'].apply(lambda x: 'positive' if x > 0 else 'negative').value_counts()\n",
    "    print(\"Values are not numeric. Let's convert them to numeric. Converting...\\n\")\n",
    "except:\n",
    "    HDI_components['GNI per capita rank minus HDI rank'] = pd.to_numeric(HDI_components['GNI per capita rank minus HDI rank'], errors='coerce')\n",
    "    counts = HDI_components['GNI per capita rank minus HDI rank'].apply(lambda x: 'positive' if x > 0 else 'negative').value_counts()\n",
    "    positive_count = counts.get('positive', 0)\n",
    "    negative_count = counts.get('negative', 0)\n",
    "\n",
    "print(\"Number of Countries with a GNI ranking lower than their HDI ranking\", positive_count)\n",
    "print(\"Number of Countries with a GNI ranking higher than their HDI ranking:\", negative_count)"
   ]
  },
  {
   "cell_type": "markdown",
   "metadata": {},
   "source": [
    "Looking at the output above, the split between higher GNI and HDI values is very close. This would indicate a relatively balanced distribution, indicating that on average, a country's GNI rank correspond closely to their HDI rank."
   ]
  },
  {
   "cell_type": "markdown",
   "metadata": {},
   "source": [
    "We can visualize these differences side-by-side using two figures below."
   ]
  },
  {
   "cell_type": "code",
   "execution_count": 121,
   "metadata": {},
   "outputs": [
    {
     "data": {
      "application/vnd.plotly.v1+json": {
       "config": {
        "plotlyServerURL": "https://plot.ly"
       },
       "data": [
        {
         "hovertemplate": "Country: %{x}<br>GNI per capita rank minus HDI rank: %{y}",
         "mode": "markers",
         "name": "GNI Fig",
         "type": "scatter",
         "x": [
          "Switzerland",
          "Norway",
          "Iceland",
          "Hong Kong, China (SAR)",
          "Australia",
          "Denmark",
          "Sweden",
          "Ireland",
          "Germany",
          "Netherlands",
          "Finland",
          "Singapore",
          "Belgium",
          "New Zealand",
          "Canada",
          "Liechtenstein",
          "Luxembourg",
          "United Kingdom",
          "Japan",
          "Korea (Republic of)",
          "United States",
          "Israel",
          "Malta",
          "Slovenia",
          "Austria",
          "United Arab Emirates",
          "Spain",
          "France",
          "Cyprus",
          "Italy",
          "Estonia",
          "Czechia",
          "Greece",
          "Poland",
          "Bahrain",
          "Lithuania",
          "Saudi Arabia",
          "Portugal",
          "Latvia",
          "Andorra",
          "Croatia",
          "Chile",
          "Qatar",
          "San Marino",
          "Slovakia",
          "Hungary",
          "Argentina",
          "Türkiye",
          "Montenegro",
          "Kuwait",
          "Brunei Darussalam",
          "Russian Federation",
          "Romania",
          "Oman",
          "Bahamas",
          "Kazakhstan",
          "Trinidad and Tobago",
          "Costa Rica",
          "Uruguay",
          "Belarus",
          "Panama",
          "Malaysia",
          "Georgia",
          "Mauritius",
          "Serbia",
          "Thailand",
          "Albania",
          "Bulgaria",
          "Grenada",
          "Barbados",
          "Antigua and Barbuda",
          "Seychelles",
          "Sri Lanka",
          "Bosnia and Herzegovina",
          "Saint Kitts and Nevis",
          "Iran (Islamic Republic of)",
          "Ukraine",
          "North Macedonia",
          "China",
          "Dominican Republic",
          "Moldova (Republic of)",
          "Palau",
          "Cuba",
          "Peru",
          "Armenia",
          "Mexico",
          "Brazil",
          "Colombia",
          "Saint Vincent and the Grenadines",
          "Maldives",
          "Algeria",
          "Azerbaijan",
          "Tonga",
          "Turkmenistan",
          "Ecuador",
          "Mongolia",
          "Egypt",
          "Tunisia",
          "Fiji",
          "Suriname",
          "Uzbekistan",
          "Dominica",
          "Jordan",
          "Libya",
          "Paraguay",
          "Palestine, State of",
          "Saint Lucia",
          "Guyana",
          "South Africa",
          "Jamaica",
          "Samoa",
          "Gabon",
          "Lebanon",
          "Indonesia",
          "Viet Nam",
          "Philippines",
          "Botswana",
          "Bolivia (Plurinational State of)",
          "Kyrgyzstan",
          "Venezuela (Bolivarian Republic of)",
          "Iraq",
          "Tajikistan",
          "Belize",
          "Morocco",
          "El Salvador",
          "Nicaragua",
          "Bhutan",
          "Cabo Verde",
          "Bangladesh",
          "Tuvalu",
          "Marshall Islands",
          "India",
          "Ghana",
          "Micronesia (Federated States of)",
          "Guatemala",
          "Kiribati",
          "Honduras",
          "Sao Tome and Principe",
          "Namibia",
          "Lao People's Democratic Republic",
          "Timor-Leste",
          "Vanuatu",
          "Nepal",
          "Eswatini (Kingdom of)",
          "Equatorial Guinea",
          "Cambodia",
          "Zimbabwe",
          "Angola",
          "Myanmar",
          "Syrian Arab Republic",
          "Cameroon",
          "Kenya",
          "Congo",
          "Zambia",
          "Solomon Islands",
          "Comoros",
          "Papua New Guinea",
          "Mauritania",
          "Côte d'Ivoire",
          "Tanzania (United Republic of)",
          "Pakistan",
          "Togo",
          "Haiti",
          "Nigeria",
          "Rwanda",
          "Benin",
          "Uganda",
          "Lesotho",
          "Malawi",
          "Senegal",
          "Djibouti",
          "Sudan",
          "Madagascar",
          "Gambia",
          "Ethiopia",
          "Eritrea",
          "Guinea-Bissau",
          "Liberia",
          "Congo (Democratic Republic of the)",
          "Afghanistan",
          "Sierra Leone",
          "Guinea",
          "Yemen",
          "Burkina Faso",
          "Mozambique",
          "Mali",
          "Burundi",
          "Central African Republic",
          "Niger",
          "Chad",
          "South Sudan",
          "Korea (Democratic People's Rep. of)",
          "Monaco",
          "Nauru",
          "Somalia"
         ],
         "xaxis": "x",
         "y": [
          5,
          6,
          11,
          6,
          18,
          6,
          9,
          -3,
          6,
          3,
          11,
          -10,
          7,
          16,
          9,
          -15,
          -13,
          9,
          12,
          9,
          -14,
          10,
          12,
          10,
          -8,
          -15,
          10,
          -2,
          9,
          0,
          8,
          4,
          17,
          8,
          -1,
          5,
          -10,
          3,
          4,
          -19,
          8,
          14,
          -39,
          -25,
          1,
          -2,
          17,
          -3,
          16,
          -32,
          -42,
          -1,
          -4,
          -2,
          -8,
          1,
          1,
          8,
          5,
          8,
          -8,
          -8,
          17,
          -1,
          4,
          6,
          17,
          -8,
          18,
          26,
          2,
          -17,
          21,
          4,
          -16,
          15,
          11,
          -3,
          -8,
          -11,
          -1,
          5,
          37,
          13,
          4,
          -16,
          -5,
          -7,
          11,
          -14,
          13,
          -8,
          34,
          -1,
          11,
          9,
          4,
          10,
          9,
          -6,
          18,
          0,
          8,
          -27,
          -10,
          21,
          -7,
          -47,
          -17,
          4,
          24,
          -25,
          -1,
          -11,
          6,
          -3,
          -43,
          0,
          26,
          20,
          -12,
          23,
          6,
          1,
          -8,
          6,
          -15,
          2,
          4,
          -2,
          12,
          -6,
          -2,
          22,
          -20,
          14,
          -1,
          13,
          -23,
          -18,
          7,
          23,
          10,
          -21,
          -47,
          3,
          9,
          -14,
          5,
          -2,
          6,
          -6,
          11,
          7,
          13,
          6,
          -4,
          -20,
          -22,
          7,
          -19,
          12,
          2,
          -22,
          6,
          -7,
          6,
          -2,
          13,
          -10,
          -32,
          -14,
          8,
          -1,
          -5,
          3,
          0,
          7,
          9,
          -2,
          -1,
          -13,
          1,
          -8,
          2,
          -11,
          4,
          1,
          -3,
          -7,
          -1,
          null,
          null,
          null,
          null
         ],
         "yaxis": "y"
        },
        {
         "hovertemplate": "Country: %{x}<br>HDI rank: %{y}",
         "mode": "markers",
         "name": "HDI Fig",
         "type": "scatter",
         "x": [
          "Switzerland",
          "Norway",
          "Iceland",
          "Hong Kong, China (SAR)",
          "Australia",
          "Denmark",
          "Sweden",
          "Ireland",
          "Germany",
          "Netherlands",
          "Finland",
          "Singapore",
          "Belgium",
          "New Zealand",
          "Canada",
          "Liechtenstein",
          "Luxembourg",
          "United Kingdom",
          "Japan",
          "Korea (Republic of)",
          "United States",
          "Israel",
          "Malta",
          "Slovenia",
          "Austria",
          "United Arab Emirates",
          "Spain",
          "France",
          "Cyprus",
          "Italy",
          "Estonia",
          "Czechia",
          "Greece",
          "Poland",
          "Bahrain",
          "Lithuania",
          "Saudi Arabia",
          "Portugal",
          "Latvia",
          "Andorra",
          "Croatia",
          "Chile",
          "Qatar",
          "San Marino",
          "Slovakia",
          "Hungary",
          "Argentina",
          "Türkiye",
          "Montenegro",
          "Kuwait",
          "Brunei Darussalam",
          "Russian Federation",
          "Romania",
          "Oman",
          "Bahamas",
          "Kazakhstan",
          "Trinidad and Tobago",
          "Costa Rica",
          "Uruguay",
          "Belarus",
          "Panama",
          "Malaysia",
          "Georgia",
          "Mauritius",
          "Serbia",
          "Thailand",
          "Albania",
          "Bulgaria",
          "Grenada",
          "Barbados",
          "Antigua and Barbuda",
          "Seychelles",
          "Sri Lanka",
          "Bosnia and Herzegovina",
          "Saint Kitts and Nevis",
          "Iran (Islamic Republic of)",
          "Ukraine",
          "North Macedonia",
          "China",
          "Dominican Republic",
          "Moldova (Republic of)",
          "Palau",
          "Cuba",
          "Peru",
          "Armenia",
          "Mexico",
          "Brazil",
          "Colombia",
          "Saint Vincent and the Grenadines",
          "Maldives",
          "Algeria",
          "Azerbaijan",
          "Tonga",
          "Turkmenistan",
          "Ecuador",
          "Mongolia",
          "Egypt",
          "Tunisia",
          "Fiji",
          "Suriname",
          "Uzbekistan",
          "Dominica",
          "Jordan",
          "Libya",
          "Paraguay",
          "Palestine, State of",
          "Saint Lucia",
          "Guyana",
          "South Africa",
          "Jamaica",
          "Samoa",
          "Gabon",
          "Lebanon",
          "Indonesia",
          "Viet Nam",
          "Philippines",
          "Botswana",
          "Bolivia (Plurinational State of)",
          "Kyrgyzstan",
          "Venezuela (Bolivarian Republic of)",
          "Iraq",
          "Tajikistan",
          "Belize",
          "Morocco",
          "El Salvador",
          "Nicaragua",
          "Bhutan",
          "Cabo Verde",
          "Bangladesh",
          "Tuvalu",
          "Marshall Islands",
          "India",
          "Ghana",
          "Micronesia (Federated States of)",
          "Guatemala",
          "Kiribati",
          "Honduras",
          "Sao Tome and Principe",
          "Namibia",
          "Lao People's Democratic Republic",
          "Timor-Leste",
          "Vanuatu",
          "Nepal",
          "Eswatini (Kingdom of)",
          "Equatorial Guinea",
          "Cambodia",
          "Zimbabwe",
          "Angola",
          "Myanmar",
          "Syrian Arab Republic",
          "Cameroon",
          "Kenya",
          "Congo",
          "Zambia",
          "Solomon Islands",
          "Comoros",
          "Papua New Guinea",
          "Mauritania",
          "Côte d'Ivoire",
          "Tanzania (United Republic of)",
          "Pakistan",
          "Togo",
          "Haiti",
          "Nigeria",
          "Rwanda",
          "Benin",
          "Uganda",
          "Lesotho",
          "Malawi",
          "Senegal",
          "Djibouti",
          "Sudan",
          "Madagascar",
          "Gambia",
          "Ethiopia",
          "Eritrea",
          "Guinea-Bissau",
          "Liberia",
          "Congo (Democratic Republic of the)",
          "Afghanistan",
          "Sierra Leone",
          "Guinea",
          "Yemen",
          "Burkina Faso",
          "Mozambique",
          "Mali",
          "Burundi",
          "Central African Republic",
          "Niger",
          "Chad",
          "South Sudan",
          "Korea (Democratic People's Rep. of)",
          "Monaco",
          "Nauru",
          "Somalia"
         ],
         "xaxis": "x2",
         "y": [
          1,
          2,
          3,
          4,
          5,
          6,
          7,
          8,
          9,
          10,
          11,
          12,
          13,
          13,
          15,
          16,
          17,
          18,
          19,
          19,
          21,
          22,
          23,
          23,
          25,
          26,
          27,
          28,
          29,
          30,
          31,
          32,
          33,
          34,
          35,
          35,
          35,
          38,
          39,
          40,
          40,
          42,
          42,
          44,
          45,
          46,
          47,
          48,
          49,
          50,
          51,
          52,
          53,
          54,
          55,
          56,
          57,
          58,
          58,
          60,
          61,
          62,
          63,
          63,
          63,
          66,
          67,
          68,
          68,
          70,
          71,
          72,
          73,
          74,
          75,
          76,
          77,
          78,
          79,
          80,
          80,
          80,
          83,
          84,
          85,
          86,
          87,
          88,
          89,
          90,
          91,
          91,
          91,
          91,
          95,
          96,
          97,
          97,
          99,
          99,
          101,
          102,
          102,
          104,
          105,
          106,
          106,
          108,
          109,
          110,
          111,
          112,
          112,
          114,
          115,
          116,
          117,
          118,
          118,
          120,
          121,
          122,
          123,
          123,
          125,
          126,
          127,
          128,
          129,
          130,
          131,
          132,
          133,
          134,
          135,
          136,
          137,
          138,
          139,
          140,
          140,
          140,
          143,
          144,
          145,
          146,
          146,
          148,
          149,
          150,
          151,
          152,
          153,
          154,
          155,
          156,
          156,
          158,
          159,
          160,
          161,
          162,
          163,
          163,
          165,
          166,
          166,
          168,
          169,
          170,
          171,
          172,
          173,
          174,
          175,
          176,
          177,
          178,
          179,
          180,
          181,
          182,
          183,
          184,
          185,
          186,
          187,
          188,
          189,
          190,
          191,
          null,
          null,
          null,
          null
         ],
         "yaxis": "y2"
        }
       ],
       "layout": {
        "annotations": [
         {
          "font": {
           "size": 16
          },
          "showarrow": false,
          "text": "GNI per Capita Rank (without HDI rank) per Country",
          "x": 0.225,
          "xanchor": "center",
          "xref": "paper",
          "y": 1,
          "yanchor": "bottom",
          "yref": "paper"
         },
         {
          "font": {
           "size": 16
          },
          "showarrow": false,
          "text": "HDI Rank per Country",
          "x": 0.775,
          "xanchor": "center",
          "xref": "paper",
          "y": 1,
          "yanchor": "bottom",
          "yref": "paper"
         }
        ],
        "showlegend": false,
        "template": {
         "data": {
          "bar": [
           {
            "error_x": {
             "color": "#2a3f5f"
            },
            "error_y": {
             "color": "#2a3f5f"
            },
            "marker": {
             "line": {
              "color": "#E5ECF6",
              "width": 0.5
             },
             "pattern": {
              "fillmode": "overlay",
              "size": 10,
              "solidity": 0.2
             }
            },
            "type": "bar"
           }
          ],
          "barpolar": [
           {
            "marker": {
             "line": {
              "color": "#E5ECF6",
              "width": 0.5
             },
             "pattern": {
              "fillmode": "overlay",
              "size": 10,
              "solidity": 0.2
             }
            },
            "type": "barpolar"
           }
          ],
          "carpet": [
           {
            "aaxis": {
             "endlinecolor": "#2a3f5f",
             "gridcolor": "white",
             "linecolor": "white",
             "minorgridcolor": "white",
             "startlinecolor": "#2a3f5f"
            },
            "baxis": {
             "endlinecolor": "#2a3f5f",
             "gridcolor": "white",
             "linecolor": "white",
             "minorgridcolor": "white",
             "startlinecolor": "#2a3f5f"
            },
            "type": "carpet"
           }
          ],
          "choropleth": [
           {
            "colorbar": {
             "outlinewidth": 0,
             "ticks": ""
            },
            "type": "choropleth"
           }
          ],
          "contour": [
           {
            "colorbar": {
             "outlinewidth": 0,
             "ticks": ""
            },
            "colorscale": [
             [
              0,
              "#0d0887"
             ],
             [
              0.1111111111111111,
              "#46039f"
             ],
             [
              0.2222222222222222,
              "#7201a8"
             ],
             [
              0.3333333333333333,
              "#9c179e"
             ],
             [
              0.4444444444444444,
              "#bd3786"
             ],
             [
              0.5555555555555556,
              "#d8576b"
             ],
             [
              0.6666666666666666,
              "#ed7953"
             ],
             [
              0.7777777777777778,
              "#fb9f3a"
             ],
             [
              0.8888888888888888,
              "#fdca26"
             ],
             [
              1,
              "#f0f921"
             ]
            ],
            "type": "contour"
           }
          ],
          "contourcarpet": [
           {
            "colorbar": {
             "outlinewidth": 0,
             "ticks": ""
            },
            "type": "contourcarpet"
           }
          ],
          "heatmap": [
           {
            "colorbar": {
             "outlinewidth": 0,
             "ticks": ""
            },
            "colorscale": [
             [
              0,
              "#0d0887"
             ],
             [
              0.1111111111111111,
              "#46039f"
             ],
             [
              0.2222222222222222,
              "#7201a8"
             ],
             [
              0.3333333333333333,
              "#9c179e"
             ],
             [
              0.4444444444444444,
              "#bd3786"
             ],
             [
              0.5555555555555556,
              "#d8576b"
             ],
             [
              0.6666666666666666,
              "#ed7953"
             ],
             [
              0.7777777777777778,
              "#fb9f3a"
             ],
             [
              0.8888888888888888,
              "#fdca26"
             ],
             [
              1,
              "#f0f921"
             ]
            ],
            "type": "heatmap"
           }
          ],
          "heatmapgl": [
           {
            "colorbar": {
             "outlinewidth": 0,
             "ticks": ""
            },
            "colorscale": [
             [
              0,
              "#0d0887"
             ],
             [
              0.1111111111111111,
              "#46039f"
             ],
             [
              0.2222222222222222,
              "#7201a8"
             ],
             [
              0.3333333333333333,
              "#9c179e"
             ],
             [
              0.4444444444444444,
              "#bd3786"
             ],
             [
              0.5555555555555556,
              "#d8576b"
             ],
             [
              0.6666666666666666,
              "#ed7953"
             ],
             [
              0.7777777777777778,
              "#fb9f3a"
             ],
             [
              0.8888888888888888,
              "#fdca26"
             ],
             [
              1,
              "#f0f921"
             ]
            ],
            "type": "heatmapgl"
           }
          ],
          "histogram": [
           {
            "marker": {
             "pattern": {
              "fillmode": "overlay",
              "size": 10,
              "solidity": 0.2
             }
            },
            "type": "histogram"
           }
          ],
          "histogram2d": [
           {
            "colorbar": {
             "outlinewidth": 0,
             "ticks": ""
            },
            "colorscale": [
             [
              0,
              "#0d0887"
             ],
             [
              0.1111111111111111,
              "#46039f"
             ],
             [
              0.2222222222222222,
              "#7201a8"
             ],
             [
              0.3333333333333333,
              "#9c179e"
             ],
             [
              0.4444444444444444,
              "#bd3786"
             ],
             [
              0.5555555555555556,
              "#d8576b"
             ],
             [
              0.6666666666666666,
              "#ed7953"
             ],
             [
              0.7777777777777778,
              "#fb9f3a"
             ],
             [
              0.8888888888888888,
              "#fdca26"
             ],
             [
              1,
              "#f0f921"
             ]
            ],
            "type": "histogram2d"
           }
          ],
          "histogram2dcontour": [
           {
            "colorbar": {
             "outlinewidth": 0,
             "ticks": ""
            },
            "colorscale": [
             [
              0,
              "#0d0887"
             ],
             [
              0.1111111111111111,
              "#46039f"
             ],
             [
              0.2222222222222222,
              "#7201a8"
             ],
             [
              0.3333333333333333,
              "#9c179e"
             ],
             [
              0.4444444444444444,
              "#bd3786"
             ],
             [
              0.5555555555555556,
              "#d8576b"
             ],
             [
              0.6666666666666666,
              "#ed7953"
             ],
             [
              0.7777777777777778,
              "#fb9f3a"
             ],
             [
              0.8888888888888888,
              "#fdca26"
             ],
             [
              1,
              "#f0f921"
             ]
            ],
            "type": "histogram2dcontour"
           }
          ],
          "mesh3d": [
           {
            "colorbar": {
             "outlinewidth": 0,
             "ticks": ""
            },
            "type": "mesh3d"
           }
          ],
          "parcoords": [
           {
            "line": {
             "colorbar": {
              "outlinewidth": 0,
              "ticks": ""
             }
            },
            "type": "parcoords"
           }
          ],
          "pie": [
           {
            "automargin": true,
            "type": "pie"
           }
          ],
          "scatter": [
           {
            "fillpattern": {
             "fillmode": "overlay",
             "size": 10,
             "solidity": 0.2
            },
            "type": "scatter"
           }
          ],
          "scatter3d": [
           {
            "line": {
             "colorbar": {
              "outlinewidth": 0,
              "ticks": ""
             }
            },
            "marker": {
             "colorbar": {
              "outlinewidth": 0,
              "ticks": ""
             }
            },
            "type": "scatter3d"
           }
          ],
          "scattercarpet": [
           {
            "marker": {
             "colorbar": {
              "outlinewidth": 0,
              "ticks": ""
             }
            },
            "type": "scattercarpet"
           }
          ],
          "scattergeo": [
           {
            "marker": {
             "colorbar": {
              "outlinewidth": 0,
              "ticks": ""
             }
            },
            "type": "scattergeo"
           }
          ],
          "scattergl": [
           {
            "marker": {
             "colorbar": {
              "outlinewidth": 0,
              "ticks": ""
             }
            },
            "type": "scattergl"
           }
          ],
          "scattermapbox": [
           {
            "marker": {
             "colorbar": {
              "outlinewidth": 0,
              "ticks": ""
             }
            },
            "type": "scattermapbox"
           }
          ],
          "scatterpolar": [
           {
            "marker": {
             "colorbar": {
              "outlinewidth": 0,
              "ticks": ""
             }
            },
            "type": "scatterpolar"
           }
          ],
          "scatterpolargl": [
           {
            "marker": {
             "colorbar": {
              "outlinewidth": 0,
              "ticks": ""
             }
            },
            "type": "scatterpolargl"
           }
          ],
          "scatterternary": [
           {
            "marker": {
             "colorbar": {
              "outlinewidth": 0,
              "ticks": ""
             }
            },
            "type": "scatterternary"
           }
          ],
          "surface": [
           {
            "colorbar": {
             "outlinewidth": 0,
             "ticks": ""
            },
            "colorscale": [
             [
              0,
              "#0d0887"
             ],
             [
              0.1111111111111111,
              "#46039f"
             ],
             [
              0.2222222222222222,
              "#7201a8"
             ],
             [
              0.3333333333333333,
              "#9c179e"
             ],
             [
              0.4444444444444444,
              "#bd3786"
             ],
             [
              0.5555555555555556,
              "#d8576b"
             ],
             [
              0.6666666666666666,
              "#ed7953"
             ],
             [
              0.7777777777777778,
              "#fb9f3a"
             ],
             [
              0.8888888888888888,
              "#fdca26"
             ],
             [
              1,
              "#f0f921"
             ]
            ],
            "type": "surface"
           }
          ],
          "table": [
           {
            "cells": {
             "fill": {
              "color": "#EBF0F8"
             },
             "line": {
              "color": "white"
             }
            },
            "header": {
             "fill": {
              "color": "#C8D4E3"
             },
             "line": {
              "color": "white"
             }
            },
            "type": "table"
           }
          ]
         },
         "layout": {
          "annotationdefaults": {
           "arrowcolor": "#2a3f5f",
           "arrowhead": 0,
           "arrowwidth": 1
          },
          "autotypenumbers": "strict",
          "coloraxis": {
           "colorbar": {
            "outlinewidth": 0,
            "ticks": ""
           }
          },
          "colorscale": {
           "diverging": [
            [
             0,
             "#8e0152"
            ],
            [
             0.1,
             "#c51b7d"
            ],
            [
             0.2,
             "#de77ae"
            ],
            [
             0.3,
             "#f1b6da"
            ],
            [
             0.4,
             "#fde0ef"
            ],
            [
             0.5,
             "#f7f7f7"
            ],
            [
             0.6,
             "#e6f5d0"
            ],
            [
             0.7,
             "#b8e186"
            ],
            [
             0.8,
             "#7fbc41"
            ],
            [
             0.9,
             "#4d9221"
            ],
            [
             1,
             "#276419"
            ]
           ],
           "sequential": [
            [
             0,
             "#0d0887"
            ],
            [
             0.1111111111111111,
             "#46039f"
            ],
            [
             0.2222222222222222,
             "#7201a8"
            ],
            [
             0.3333333333333333,
             "#9c179e"
            ],
            [
             0.4444444444444444,
             "#bd3786"
            ],
            [
             0.5555555555555556,
             "#d8576b"
            ],
            [
             0.6666666666666666,
             "#ed7953"
            ],
            [
             0.7777777777777778,
             "#fb9f3a"
            ],
            [
             0.8888888888888888,
             "#fdca26"
            ],
            [
             1,
             "#f0f921"
            ]
           ],
           "sequentialminus": [
            [
             0,
             "#0d0887"
            ],
            [
             0.1111111111111111,
             "#46039f"
            ],
            [
             0.2222222222222222,
             "#7201a8"
            ],
            [
             0.3333333333333333,
             "#9c179e"
            ],
            [
             0.4444444444444444,
             "#bd3786"
            ],
            [
             0.5555555555555556,
             "#d8576b"
            ],
            [
             0.6666666666666666,
             "#ed7953"
            ],
            [
             0.7777777777777778,
             "#fb9f3a"
            ],
            [
             0.8888888888888888,
             "#fdca26"
            ],
            [
             1,
             "#f0f921"
            ]
           ]
          },
          "colorway": [
           "#636efa",
           "#EF553B",
           "#00cc96",
           "#ab63fa",
           "#FFA15A",
           "#19d3f3",
           "#FF6692",
           "#B6E880",
           "#FF97FF",
           "#FECB52"
          ],
          "font": {
           "color": "#2a3f5f"
          },
          "geo": {
           "bgcolor": "white",
           "lakecolor": "white",
           "landcolor": "#E5ECF6",
           "showlakes": true,
           "showland": true,
           "subunitcolor": "white"
          },
          "hoverlabel": {
           "align": "left"
          },
          "hovermode": "closest",
          "mapbox": {
           "style": "light"
          },
          "paper_bgcolor": "white",
          "plot_bgcolor": "#E5ECF6",
          "polar": {
           "angularaxis": {
            "gridcolor": "white",
            "linecolor": "white",
            "ticks": ""
           },
           "bgcolor": "#E5ECF6",
           "radialaxis": {
            "gridcolor": "white",
            "linecolor": "white",
            "ticks": ""
           }
          },
          "scene": {
           "xaxis": {
            "backgroundcolor": "#E5ECF6",
            "gridcolor": "white",
            "gridwidth": 2,
            "linecolor": "white",
            "showbackground": true,
            "ticks": "",
            "zerolinecolor": "white"
           },
           "yaxis": {
            "backgroundcolor": "#E5ECF6",
            "gridcolor": "white",
            "gridwidth": 2,
            "linecolor": "white",
            "showbackground": true,
            "ticks": "",
            "zerolinecolor": "white"
           },
           "zaxis": {
            "backgroundcolor": "#E5ECF6",
            "gridcolor": "white",
            "gridwidth": 2,
            "linecolor": "white",
            "showbackground": true,
            "ticks": "",
            "zerolinecolor": "white"
           }
          },
          "shapedefaults": {
           "line": {
            "color": "#2a3f5f"
           }
          },
          "ternary": {
           "aaxis": {
            "gridcolor": "white",
            "linecolor": "white",
            "ticks": ""
           },
           "baxis": {
            "gridcolor": "white",
            "linecolor": "white",
            "ticks": ""
           },
           "bgcolor": "#E5ECF6",
           "caxis": {
            "gridcolor": "white",
            "linecolor": "white",
            "ticks": ""
           }
          },
          "title": {
           "x": 0.05
          },
          "xaxis": {
           "automargin": true,
           "gridcolor": "white",
           "linecolor": "white",
           "ticks": "",
           "title": {
            "standoff": 15
           },
           "zerolinecolor": "white",
           "zerolinewidth": 2
          },
          "yaxis": {
           "automargin": true,
           "gridcolor": "white",
           "linecolor": "white",
           "ticks": "",
           "title": {
            "standoff": 15
           },
           "zerolinecolor": "white",
           "zerolinewidth": 2
          }
         }
        },
        "title": {
         "text": "Comparison of GNI per capita rank minus HDI rank and HDI rank for Different Countries"
        },
        "xaxis": {
         "anchor": "y",
         "domain": [
          0,
          0.45
         ]
        },
        "xaxis2": {
         "anchor": "y2",
         "domain": [
          0.55,
          1
         ]
        },
        "yaxis": {
         "anchor": "x",
         "domain": [
          0,
          1
         ],
         "title": {
          "text": "GNI per capita rank minus HDI rank"
         }
        },
        "yaxis2": {
         "anchor": "x2",
         "domain": [
          0,
          1
         ],
         "title": {
          "text": "HDI rank"
         }
        }
       }
      }
     },
     "metadata": {},
     "output_type": "display_data"
    }
   ],
   "source": [
    "rankings_fig = make_subplots(rows=1, cols=2, subplot_titles=(\"GNI per Capita Rank (without HDI rank) per Country\", \"HDI Rank per Country\"))\n",
    "\n",
    "rankings_fig.add_trace(go.Scatter(x=HDI_components['Country'], y=HDI_components['GNI per capita rank minus HDI rank'], mode='markers', name='GNI Fig'), row=1, col=1)\n",
    "rankings_fig.add_trace(go.Scatter(x=HDI_components['Country'], y=HDI_components['HDI rank'], mode='markers', name='HDI Fig'), row=1, col=2)\n",
    "\n",
    "rankings_fig.update_traces(hovertemplate='Country: %{x}<br>GNI per capita rank minus HDI rank: %{y}', \n",
    "                           row=1, col=1)\n",
    "\n",
    "rankings_fig.update_traces(hovertemplate='Country: %{x}<br>HDI rank: %{y}', \n",
    "                           row=1, col=2)\n",
    "\n",
    "rankings_fig.update_layout(title_text=\"Comparison of GNI per capita rank minus HDI rank and HDI rank for Different Countries\",\n",
    "                  showlegend=False)\n",
    "\n",
    "rankings_fig.update_yaxes(title_text=\"GNI per capita rank minus HDI rank\", row=1, col=1)\n",
    "rankings_fig.update_yaxes(title_text=\"HDI rank\", row=1, col=2)\n",
    "rankings_fig.show()"
   ]
  },
  {
   "cell_type": "markdown",
   "metadata": {},
   "source": [
    "A notable point to mention is that the `GNI per capital rank minus HDI rank` is mostly dependent on the *context* of the country's HDI.\n",
    "\n",
    "A rank that is close to 0 for a country with a high HDI (ranking-wise, HDI is flipped, meaning 1 is the highest) would indicate a fairly high GNI value as well. However, if a country has a relatively low HDI score (ranking-wise, HDI is flipped, meaning 191 is the lowest) and also has a `GNI per capital rank minus HDI rank` close to 0, it means they have both a fairly bad HDI and GNI score. "
   ]
  },
  {
   "cell_type": "markdown",
   "metadata": {},
   "source": [
    "### Predicting HDI using Machine-Learning\n",
    "We can investigate HDI more thoroughly by also trying to predict a country's HDI score using **machine-learning**. \n",
    "\n",
    "Machine learning is a powerful tool that enables computers to learn from data and make decisions without being explicitly programmed. It involves creating algorithms that can recognize patterns and make predictions or decisions based on those patterns. Think of it as a way for computers to learn from experience and improve over time. These algorithms are used in various applications, such as *recommendation systems*, *image and speech recognition*, and even *self-driving cars*, making them an essential part of our modern technological landscape.\n",
    "\n",
    "**Note**: HDI can actually be calculated using a *formula* which will be implemented later in this notebook. The machine-learning portion is mainly meant to show how it is possible to create ways to accurately predict scores for metrics that do not have a scoring system in place. "
   ]
  },
  {
   "cell_type": "markdown",
   "metadata": {},
   "source": [
    "We'll be doing some machine-learning based on the columns: `Life expectancy at birth (years)`, `Expected years of schooling (years)`, `Mean years of schooling (years)`, `Gross national income (GNI) per capita (2017 PPP $)`. These will be called **features**. Features are essentially the *variables* or *attributes* that are analyzed and processed by a machine learning algorithm to produce an **output**. \n",
    "\n",
    "We'll also be using an **imputer** in our machine-learning analysis. An imputer is a technique/estimator used in machine learning to handle missing data by substituting missing values with estimated or calculated ones. It helps ensure that dataframes are complete and suitable for analysis, thereby improving the accuracy and reliability of the resulting models."
   ]
  },
  {
   "cell_type": "code",
   "execution_count": 122,
   "metadata": {},
   "outputs": [
    {
     "name": "stdout",
     "output_type": "stream",
     "text": [
      "R-squared value of our model: 0.9797228339381083\n"
     ]
    }
   ],
   "source": [
    "no_HDI = HDI_components[HDI_components['HDI rank'].notnull()]\n",
    "features = ['Life expectancy at birth (years)', 'Expected years of schooling (years)', 'Mean years of schooling (years)', 'Gross national income (GNI) per capita (2017 PPP $)']\n",
    "\n",
    "X = no_HDI[features]\n",
    "y = no_HDI['Human Development Index (HDI)']\n",
    "\n",
    "imputer = SimpleImputer(strategy='mean')\n",
    "X = imputer.fit_transform(X)\n",
    "\n",
    "X_train, X_test, y_train, y_test = train_test_split(X, y, test_size=0.2, random_state=42)\n",
    "\n",
    "model = LinearRegression()\n",
    "model.fit(X_train, y_train)\n",
    "\n",
    "# Make predictions\n",
    "y_pred = model.predict(X_test)\n",
    "y_pred = [1.0 if pred > 1.0 else pred for pred in y_pred]\n",
    "\n",
    "r2 = r2_score(y_test, y_pred)\n",
    "print(\"R-squared value of our model:\", r2)"
   ]
  },
  {
   "cell_type": "markdown",
   "metadata": {},
   "source": [
    "Looking at the output above, we have successfully obtained an **r-squared** value for our machine-learning model. This r-squared value (also known as the coefficient of determination) refers to how well the line drawn in a graph fits the data points. A value *close to 1* means the line fits the points very well, while a value *closer to 0* means the line doesn't fit the points as well. \n",
    "\n",
    "An r-squared value of **0.973** is great for our model, indicating an extremely strong fit of the line to the data points. "
   ]
  },
  {
   "cell_type": "markdown",
   "metadata": {},
   "source": [
    "Remember how we mentioned that the HDI score actually has a formula? This formula can be created in Python as well. The UN's [technical notes](https://hdr.undp.org/sites/default/files/2021-22_HDR/hdr2021-22_technical_notes.pdf) supplies diagrams that accurately portray how HDI scores are calculated:\n",
    "\n",
    "\n",
    "<div style=\"text-align:center\"><img src=\"images/table_vals.png\" alt=\"HDI Diagram\" /></div>\n",
    "\n",
    "First, there are boundaries to the different *indicators* when calculating each dimensional index. If a value goes below the minimum, then it is rounded up to the minimum (resulting in an HDI score of 0 based on the calculation of a dimensional index). Similarly, if a value goes above the maximum, then it rounded to the maximum (resulting in a score of 1.0 or a perfect score). The reasoning of why they set boundaries to these dimensional indices is further elaborated by the United Nations (2022): \n",
    "\n",
    "\"Minimum and maximum values (goalposts) are set in order to transform the indicators expressed in different units into indices between 0 and 1. These goalposts act as ‘the natural zeros’ and ‘aspirational targets,’ respectively, from which component indicators are standardized\" (p. 2).\n",
    "\n",
    "<div style=\"text-align:center\"><img src=\"images/dimensional_index.png\" alt=\"HDI Diagram\" /></div>\n",
    "\n",
    "This value is then calculated using the formula above. \n",
    "\n",
    "<div style=\"text-align:center\"><img src=\"images/HDI_score.png\" alt=\"HDI Diagram\" /></div>\n",
    "\n",
    "Each dimensional index is then multipled together and then taken to the 1/3rd power, resulting in the final HDI score.\n",
    "\n",
    "An example of calculation can be found below: \n",
    "\n",
    "<div style=\"text-align:center\"><img src=\"images/example.png\" alt=\"HDI Diagram\" /></div>"
   ]
  },
  {
   "cell_type": "code",
   "execution_count": 123,
   "metadata": {},
   "outputs": [],
   "source": [
    "def get_index(value, min_val, max_val, is_income_index=False):\n",
    "    if is_income_index:\n",
    "        return (math.log(value) - math.log(min_val)) / (math.log(max_val) - math.log(min_val))\n",
    "    else:\n",
    "        return (value - min_val) / (max_val - min_val)\n",
    "\n",
    "def calculate_index(life_expectancy, expected_schooling, mean_schooling, gni_per_capita):\n",
    "    variables = [\n",
    "        ('Life expectancy', life_expectancy, 20, 85),\n",
    "        ('Expected schooling', expected_schooling, 0, 18),\n",
    "        ('Mean schooling', mean_schooling, 0, 15),\n",
    "        ('GNI per capita', gni_per_capita, 100, 75000)\n",
    "    ]\n",
    "\n",
    "    for i, (variable_name, value, min_val, max_val) in enumerate(variables):\n",
    "        if value < min_val:\n",
    "            variables[i] = (variable_name, min_val, min_val, max_val)\n",
    "        elif value > max_val:\n",
    "            variables[i] = (variable_name, max_val, min_val, max_val)\n",
    "\n",
    "    life_expectancy, expected_schooling, mean_schooling, gni_per_capita = [v[1] for v in variables]\n",
    "\n",
    "    health_index = get_index(life_expectancy, 20, 85)\n",
    "    expected_schooling_index = get_index(expected_schooling, 0, 18)\n",
    "    mean_schooling_index = get_index(mean_schooling, 0, 15)\n",
    "    income_index = get_index(gni_per_capita, 100, 75000, True)\n",
    "    return health_index, expected_schooling_index, mean_schooling_index, income_index\n",
    "\n",
    "def calculate_hdi(life_expectancy, expected_schooling, mean_schooling, gni_per_capita):\n",
    "    health_index, expected_schooling_index, mean_schooling_index, income_index = calculate_index(\n",
    "        life_expectancy, expected_schooling, mean_schooling, gni_per_capita\n",
    "    )\n",
    "\n",
    "    index_education = (expected_schooling_index + mean_schooling_index) / 2\n",
    "    hdi = (health_index * index_education * income_index) ** (1 / 3)\n",
    "    return round(hdi, 3)"
   ]
  },
  {
   "cell_type": "markdown",
   "metadata": {},
   "source": [
    "We can test our own implementation by taking values found in our dataframe and testing to see if they match up correctly. "
   ]
  },
  {
   "cell_type": "code",
   "execution_count": 124,
   "metadata": {},
   "outputs": [
    {
     "name": "stdout",
     "output_type": "stream",
     "text": [
      "Switzerland HDI score: 0.962\n",
      "Calculated HDI score (should be 0): 0.0\n"
     ]
    }
   ],
   "source": [
    "# Example usage for Switzerland, a valid HDI score\n",
    "life_expectancy = 83.9872\n",
    "expected_schooling = 16.500299\n",
    "mean_schooling = 13.85966\n",
    "gni_per_capita = 66933.00454\t\n",
    "\n",
    "hdi = calculate_hdi(life_expectancy, expected_schooling, mean_schooling, gni_per_capita)\n",
    "print(f\"Switzerland HDI score: {hdi}\")\n",
    "\n",
    "# Example usage for an invalid HDI score\n",
    "life_expectancy = 5\n",
    "expected_schooling = 20\n",
    "mean_schooling = 8\n",
    "gni_per_capita = 80000\n",
    "\n",
    "nonvalid_hdi = calculate_hdi(life_expectancy, expected_schooling, mean_schooling, gni_per_capita)\n",
    "print(f\"Calculated HDI score (should be 0): {nonvalid_hdi}\")"
   ]
  },
  {
   "cell_type": "markdown",
   "metadata": {},
   "source": [
    "Nice! These values are correct. We can now get back to our machine-learning implementations and use our derived formula to see if there are any significant deviations from our predicted scores. Let's use both values in a comparison visualization below. "
   ]
  },
  {
   "cell_type": "code",
   "execution_count": 125,
   "metadata": {},
   "outputs": [
    {
     "data": {
      "application/vnd.plotly.v1+json": {
       "config": {
        "plotlyServerURL": "https://plot.ly"
       },
       "data": [
        {
         "marker": {
          "color": [
           "salmon",
           "salmon"
          ]
         },
         "name": "Australia",
         "orientation": "h",
         "showlegend": false,
         "text": [
          "Predicted",
          "Actual"
         ],
         "textfont": {
          "color": "black"
         },
         "textposition": "auto",
         "type": "bar",
         "x": [
          1.0032802566755694,
          0.951
         ],
         "y": [
          "Predicted",
          "Actual"
         ]
        },
        {
         "marker": {
          "color": [
           "plum",
           "plum"
          ]
         },
         "name": "South Sudan",
         "orientation": "h",
         "showlegend": false,
         "text": [
          "Predicted",
          "Actual"
         ],
         "textfont": {
          "color": "black"
         },
         "textposition": "auto",
         "type": "bar",
         "x": [
          0.43406923267375597,
          0.385
         ],
         "y": [
          "Predicted",
          "Actual"
         ]
        }
       ],
       "layout": {
        "barmode": "group",
        "template": {
         "data": {
          "bar": [
           {
            "error_x": {
             "color": "#2a3f5f"
            },
            "error_y": {
             "color": "#2a3f5f"
            },
            "marker": {
             "line": {
              "color": "#E5ECF6",
              "width": 0.5
             },
             "pattern": {
              "fillmode": "overlay",
              "size": 10,
              "solidity": 0.2
             }
            },
            "type": "bar"
           }
          ],
          "barpolar": [
           {
            "marker": {
             "line": {
              "color": "#E5ECF6",
              "width": 0.5
             },
             "pattern": {
              "fillmode": "overlay",
              "size": 10,
              "solidity": 0.2
             }
            },
            "type": "barpolar"
           }
          ],
          "carpet": [
           {
            "aaxis": {
             "endlinecolor": "#2a3f5f",
             "gridcolor": "white",
             "linecolor": "white",
             "minorgridcolor": "white",
             "startlinecolor": "#2a3f5f"
            },
            "baxis": {
             "endlinecolor": "#2a3f5f",
             "gridcolor": "white",
             "linecolor": "white",
             "minorgridcolor": "white",
             "startlinecolor": "#2a3f5f"
            },
            "type": "carpet"
           }
          ],
          "choropleth": [
           {
            "colorbar": {
             "outlinewidth": 0,
             "ticks": ""
            },
            "type": "choropleth"
           }
          ],
          "contour": [
           {
            "colorbar": {
             "outlinewidth": 0,
             "ticks": ""
            },
            "colorscale": [
             [
              0,
              "#0d0887"
             ],
             [
              0.1111111111111111,
              "#46039f"
             ],
             [
              0.2222222222222222,
              "#7201a8"
             ],
             [
              0.3333333333333333,
              "#9c179e"
             ],
             [
              0.4444444444444444,
              "#bd3786"
             ],
             [
              0.5555555555555556,
              "#d8576b"
             ],
             [
              0.6666666666666666,
              "#ed7953"
             ],
             [
              0.7777777777777778,
              "#fb9f3a"
             ],
             [
              0.8888888888888888,
              "#fdca26"
             ],
             [
              1,
              "#f0f921"
             ]
            ],
            "type": "contour"
           }
          ],
          "contourcarpet": [
           {
            "colorbar": {
             "outlinewidth": 0,
             "ticks": ""
            },
            "type": "contourcarpet"
           }
          ],
          "heatmap": [
           {
            "colorbar": {
             "outlinewidth": 0,
             "ticks": ""
            },
            "colorscale": [
             [
              0,
              "#0d0887"
             ],
             [
              0.1111111111111111,
              "#46039f"
             ],
             [
              0.2222222222222222,
              "#7201a8"
             ],
             [
              0.3333333333333333,
              "#9c179e"
             ],
             [
              0.4444444444444444,
              "#bd3786"
             ],
             [
              0.5555555555555556,
              "#d8576b"
             ],
             [
              0.6666666666666666,
              "#ed7953"
             ],
             [
              0.7777777777777778,
              "#fb9f3a"
             ],
             [
              0.8888888888888888,
              "#fdca26"
             ],
             [
              1,
              "#f0f921"
             ]
            ],
            "type": "heatmap"
           }
          ],
          "heatmapgl": [
           {
            "colorbar": {
             "outlinewidth": 0,
             "ticks": ""
            },
            "colorscale": [
             [
              0,
              "#0d0887"
             ],
             [
              0.1111111111111111,
              "#46039f"
             ],
             [
              0.2222222222222222,
              "#7201a8"
             ],
             [
              0.3333333333333333,
              "#9c179e"
             ],
             [
              0.4444444444444444,
              "#bd3786"
             ],
             [
              0.5555555555555556,
              "#d8576b"
             ],
             [
              0.6666666666666666,
              "#ed7953"
             ],
             [
              0.7777777777777778,
              "#fb9f3a"
             ],
             [
              0.8888888888888888,
              "#fdca26"
             ],
             [
              1,
              "#f0f921"
             ]
            ],
            "type": "heatmapgl"
           }
          ],
          "histogram": [
           {
            "marker": {
             "pattern": {
              "fillmode": "overlay",
              "size": 10,
              "solidity": 0.2
             }
            },
            "type": "histogram"
           }
          ],
          "histogram2d": [
           {
            "colorbar": {
             "outlinewidth": 0,
             "ticks": ""
            },
            "colorscale": [
             [
              0,
              "#0d0887"
             ],
             [
              0.1111111111111111,
              "#46039f"
             ],
             [
              0.2222222222222222,
              "#7201a8"
             ],
             [
              0.3333333333333333,
              "#9c179e"
             ],
             [
              0.4444444444444444,
              "#bd3786"
             ],
             [
              0.5555555555555556,
              "#d8576b"
             ],
             [
              0.6666666666666666,
              "#ed7953"
             ],
             [
              0.7777777777777778,
              "#fb9f3a"
             ],
             [
              0.8888888888888888,
              "#fdca26"
             ],
             [
              1,
              "#f0f921"
             ]
            ],
            "type": "histogram2d"
           }
          ],
          "histogram2dcontour": [
           {
            "colorbar": {
             "outlinewidth": 0,
             "ticks": ""
            },
            "colorscale": [
             [
              0,
              "#0d0887"
             ],
             [
              0.1111111111111111,
              "#46039f"
             ],
             [
              0.2222222222222222,
              "#7201a8"
             ],
             [
              0.3333333333333333,
              "#9c179e"
             ],
             [
              0.4444444444444444,
              "#bd3786"
             ],
             [
              0.5555555555555556,
              "#d8576b"
             ],
             [
              0.6666666666666666,
              "#ed7953"
             ],
             [
              0.7777777777777778,
              "#fb9f3a"
             ],
             [
              0.8888888888888888,
              "#fdca26"
             ],
             [
              1,
              "#f0f921"
             ]
            ],
            "type": "histogram2dcontour"
           }
          ],
          "mesh3d": [
           {
            "colorbar": {
             "outlinewidth": 0,
             "ticks": ""
            },
            "type": "mesh3d"
           }
          ],
          "parcoords": [
           {
            "line": {
             "colorbar": {
              "outlinewidth": 0,
              "ticks": ""
             }
            },
            "type": "parcoords"
           }
          ],
          "pie": [
           {
            "automargin": true,
            "type": "pie"
           }
          ],
          "scatter": [
           {
            "fillpattern": {
             "fillmode": "overlay",
             "size": 10,
             "solidity": 0.2
            },
            "type": "scatter"
           }
          ],
          "scatter3d": [
           {
            "line": {
             "colorbar": {
              "outlinewidth": 0,
              "ticks": ""
             }
            },
            "marker": {
             "colorbar": {
              "outlinewidth": 0,
              "ticks": ""
             }
            },
            "type": "scatter3d"
           }
          ],
          "scattercarpet": [
           {
            "marker": {
             "colorbar": {
              "outlinewidth": 0,
              "ticks": ""
             }
            },
            "type": "scattercarpet"
           }
          ],
          "scattergeo": [
           {
            "marker": {
             "colorbar": {
              "outlinewidth": 0,
              "ticks": ""
             }
            },
            "type": "scattergeo"
           }
          ],
          "scattergl": [
           {
            "marker": {
             "colorbar": {
              "outlinewidth": 0,
              "ticks": ""
             }
            },
            "type": "scattergl"
           }
          ],
          "scattermapbox": [
           {
            "marker": {
             "colorbar": {
              "outlinewidth": 0,
              "ticks": ""
             }
            },
            "type": "scattermapbox"
           }
          ],
          "scatterpolar": [
           {
            "marker": {
             "colorbar": {
              "outlinewidth": 0,
              "ticks": ""
             }
            },
            "type": "scatterpolar"
           }
          ],
          "scatterpolargl": [
           {
            "marker": {
             "colorbar": {
              "outlinewidth": 0,
              "ticks": ""
             }
            },
            "type": "scatterpolargl"
           }
          ],
          "scatterternary": [
           {
            "marker": {
             "colorbar": {
              "outlinewidth": 0,
              "ticks": ""
             }
            },
            "type": "scatterternary"
           }
          ],
          "surface": [
           {
            "colorbar": {
             "outlinewidth": 0,
             "ticks": ""
            },
            "colorscale": [
             [
              0,
              "#0d0887"
             ],
             [
              0.1111111111111111,
              "#46039f"
             ],
             [
              0.2222222222222222,
              "#7201a8"
             ],
             [
              0.3333333333333333,
              "#9c179e"
             ],
             [
              0.4444444444444444,
              "#bd3786"
             ],
             [
              0.5555555555555556,
              "#d8576b"
             ],
             [
              0.6666666666666666,
              "#ed7953"
             ],
             [
              0.7777777777777778,
              "#fb9f3a"
             ],
             [
              0.8888888888888888,
              "#fdca26"
             ],
             [
              1,
              "#f0f921"
             ]
            ],
            "type": "surface"
           }
          ],
          "table": [
           {
            "cells": {
             "fill": {
              "color": "#EBF0F8"
             },
             "line": {
              "color": "white"
             }
            },
            "header": {
             "fill": {
              "color": "#C8D4E3"
             },
             "line": {
              "color": "white"
             }
            },
            "type": "table"
           }
          ]
         },
         "layout": {
          "annotationdefaults": {
           "arrowcolor": "#2a3f5f",
           "arrowhead": 0,
           "arrowwidth": 1
          },
          "autotypenumbers": "strict",
          "coloraxis": {
           "colorbar": {
            "outlinewidth": 0,
            "ticks": ""
           }
          },
          "colorscale": {
           "diverging": [
            [
             0,
             "#8e0152"
            ],
            [
             0.1,
             "#c51b7d"
            ],
            [
             0.2,
             "#de77ae"
            ],
            [
             0.3,
             "#f1b6da"
            ],
            [
             0.4,
             "#fde0ef"
            ],
            [
             0.5,
             "#f7f7f7"
            ],
            [
             0.6,
             "#e6f5d0"
            ],
            [
             0.7,
             "#b8e186"
            ],
            [
             0.8,
             "#7fbc41"
            ],
            [
             0.9,
             "#4d9221"
            ],
            [
             1,
             "#276419"
            ]
           ],
           "sequential": [
            [
             0,
             "#0d0887"
            ],
            [
             0.1111111111111111,
             "#46039f"
            ],
            [
             0.2222222222222222,
             "#7201a8"
            ],
            [
             0.3333333333333333,
             "#9c179e"
            ],
            [
             0.4444444444444444,
             "#bd3786"
            ],
            [
             0.5555555555555556,
             "#d8576b"
            ],
            [
             0.6666666666666666,
             "#ed7953"
            ],
            [
             0.7777777777777778,
             "#fb9f3a"
            ],
            [
             0.8888888888888888,
             "#fdca26"
            ],
            [
             1,
             "#f0f921"
            ]
           ],
           "sequentialminus": [
            [
             0,
             "#0d0887"
            ],
            [
             0.1111111111111111,
             "#46039f"
            ],
            [
             0.2222222222222222,
             "#7201a8"
            ],
            [
             0.3333333333333333,
             "#9c179e"
            ],
            [
             0.4444444444444444,
             "#bd3786"
            ],
            [
             0.5555555555555556,
             "#d8576b"
            ],
            [
             0.6666666666666666,
             "#ed7953"
            ],
            [
             0.7777777777777778,
             "#fb9f3a"
            ],
            [
             0.8888888888888888,
             "#fdca26"
            ],
            [
             1,
             "#f0f921"
            ]
           ]
          },
          "colorway": [
           "#636efa",
           "#EF553B",
           "#00cc96",
           "#ab63fa",
           "#FFA15A",
           "#19d3f3",
           "#FF6692",
           "#B6E880",
           "#FF97FF",
           "#FECB52"
          ],
          "font": {
           "color": "#2a3f5f"
          },
          "geo": {
           "bgcolor": "white",
           "lakecolor": "white",
           "landcolor": "#E5ECF6",
           "showlakes": true,
           "showland": true,
           "subunitcolor": "white"
          },
          "hoverlabel": {
           "align": "left"
          },
          "hovermode": "closest",
          "mapbox": {
           "style": "light"
          },
          "paper_bgcolor": "white",
          "plot_bgcolor": "#E5ECF6",
          "polar": {
           "angularaxis": {
            "gridcolor": "white",
            "linecolor": "white",
            "ticks": ""
           },
           "bgcolor": "#E5ECF6",
           "radialaxis": {
            "gridcolor": "white",
            "linecolor": "white",
            "ticks": ""
           }
          },
          "scene": {
           "xaxis": {
            "backgroundcolor": "#E5ECF6",
            "gridcolor": "white",
            "gridwidth": 2,
            "linecolor": "white",
            "showbackground": true,
            "ticks": "",
            "zerolinecolor": "white"
           },
           "yaxis": {
            "backgroundcolor": "#E5ECF6",
            "gridcolor": "white",
            "gridwidth": 2,
            "linecolor": "white",
            "showbackground": true,
            "ticks": "",
            "zerolinecolor": "white"
           },
           "zaxis": {
            "backgroundcolor": "#E5ECF6",
            "gridcolor": "white",
            "gridwidth": 2,
            "linecolor": "white",
            "showbackground": true,
            "ticks": "",
            "zerolinecolor": "white"
           }
          },
          "shapedefaults": {
           "line": {
            "color": "#2a3f5f"
           }
          },
          "ternary": {
           "aaxis": {
            "gridcolor": "white",
            "linecolor": "white",
            "ticks": ""
           },
           "baxis": {
            "gridcolor": "white",
            "linecolor": "white",
            "ticks": ""
           },
           "bgcolor": "#E5ECF6",
           "caxis": {
            "gridcolor": "white",
            "linecolor": "white",
            "ticks": ""
           }
          },
          "title": {
           "x": 0.05
          },
          "xaxis": {
           "automargin": true,
           "gridcolor": "white",
           "linecolor": "white",
           "ticks": "",
           "title": {
            "standoff": 15
           },
           "zerolinecolor": "white",
           "zerolinewidth": 2
          },
          "yaxis": {
           "automargin": true,
           "gridcolor": "white",
           "linecolor": "white",
           "ticks": "",
           "title": {
            "standoff": 15
           },
           "zerolinecolor": "white",
           "zerolinewidth": 2
          }
         }
        },
        "title": {
         "text": "Comparison of Actual and Predicted HDI Scores"
        },
        "xaxis": {
         "title": {
          "text": "HDI Score"
         }
        },
        "yaxis": {
         "autorange": "reversed",
         "title": {
          "text": "Country"
         }
        }
       }
      }
     },
     "metadata": {},
     "output_type": "display_data"
    }
   ],
   "source": [
    "australia = HDI_components.loc[HDI_components['Country'] == 'Australia']\n",
    "south_sudan = HDI_components.loc[HDI_components['Country'] == 'South Sudan']\n",
    "\n",
    "australia_hdi = calculate_hdi(australia['Life expectancy at birth (years)'].values[0], australia['Expected years of schooling (years)'].values[0],\n",
    "                              australia['Mean years of schooling (years)'].values[0], australia['Gross national income (GNI) per capita (2017 PPP $)'].values[0])\n",
    "south_sudan_hdi = calculate_hdi(south_sudan['Life expectancy at birth (years)'].values[0], south_sudan['Expected years of schooling (years)'].values[0],\n",
    "                               south_sudan['Mean years of schooling (years)'].values[0], south_sudan['Gross national income (GNI) per capita (2017 PPP $)'].values[0])\n",
    "\n",
    "predicted_australia = model.predict(australia[features])\n",
    "predicted_south_sudan = model.predict(south_sudan[features])\n",
    "\n",
    "actual_predicted_fig = go.Figure()\n",
    "\n",
    "actual_predicted_fig.add_trace(go.Bar(x=[predicted_australia[0], australia_hdi], y=['Predicted', 'Actual'],\n",
    "                     orientation='h', name='Australia', text=['Predicted', 'Actual'],\n",
    "                     marker=dict(color=['salmon', 'salmon']),\n",
    "                     textposition='auto', textfont=dict(color='black'),\n",
    "                     showlegend=False))\n",
    "\n",
    "\n",
    "actual_predicted_fig.add_trace(go.Bar(x=[predicted_south_sudan[0], south_sudan_hdi], y=['Predicted', 'Actual'],\n",
    "                     orientation='h', name='South Sudan', text=['Predicted', 'Actual'],\n",
    "                     marker=dict(color=['plum', 'plum']),\n",
    "                     textposition='auto', textfont=dict(color='black'),\n",
    "                     showlegend=False))\n",
    "\n",
    "actual_predicted_fig.update_layout(title_text=\"Comparison of Actual and Predicted HDI Scores\",\n",
    "                  xaxis_title=\"HDI Score\",\n",
    "                  yaxis_title=\"Country\",\n",
    "                  barmode='group',\n",
    "                  yaxis=dict(autorange=\"reversed\")).show()"
   ]
  },
  {
   "cell_type": "markdown",
   "metadata": {},
   "source": [
    "Looking at our visualization output, it appears that both the *predicted* high-scoring HDI values and the low-scoring HDI values are relatively close their actual values. This suggests that the model's predictions for both high and low HDI values are fairly accurate and reliable. "
   ]
  },
  {
   "cell_type": "markdown",
   "metadata": {},
   "source": [
    "We can also apply our machine-learning model to all the countries in our dataframe. The visualization below will show the *actual* HDI values of the country on the left, and their *predicted* values using machine-learning on the right. "
   ]
  },
  {
   "cell_type": "code",
   "execution_count": 126,
   "metadata": {},
   "outputs": [
    {
     "data": {
      "application/vnd.plotly.v1+json": {
       "config": {
        "plotlyServerURL": "https://plot.ly"
       },
       "data": [
        {
         "name": "Actual HDI Value",
         "type": "scatter",
         "x": [
          "Switzerland",
          "Norway",
          "Iceland",
          "Hong Kong, China (SAR)",
          "Australia",
          "Denmark",
          "Sweden",
          "Ireland",
          "Germany",
          "Netherlands",
          "Finland",
          "Singapore",
          "Belgium",
          "New Zealand",
          "Canada",
          "Liechtenstein",
          "Luxembourg",
          "United Kingdom",
          "Japan",
          "Korea (Republic of)",
          "United States",
          "Israel",
          "Malta",
          "Slovenia",
          "Austria",
          "United Arab Emirates",
          "Spain",
          "France",
          "Cyprus",
          "Italy",
          "Estonia",
          "Czechia",
          "Greece",
          "Poland",
          "Bahrain",
          "Lithuania",
          "Saudi Arabia",
          "Portugal",
          "Latvia",
          "Andorra",
          "Croatia",
          "Chile",
          "Qatar",
          "San Marino",
          "Slovakia",
          "Hungary",
          "Argentina",
          "Türkiye",
          "Montenegro",
          "Kuwait",
          "Brunei Darussalam",
          "Russian Federation",
          "Romania",
          "Oman",
          "Bahamas",
          "Kazakhstan",
          "Trinidad and Tobago",
          "Costa Rica",
          "Uruguay",
          "Belarus",
          "Panama",
          "Malaysia",
          "Georgia",
          "Mauritius",
          "Serbia",
          "Thailand",
          "Albania",
          "Bulgaria",
          "Grenada",
          "Barbados",
          "Antigua and Barbuda",
          "Seychelles",
          "Sri Lanka",
          "Bosnia and Herzegovina",
          "Saint Kitts and Nevis",
          "Iran (Islamic Republic of)",
          "Ukraine",
          "North Macedonia",
          "China",
          "Dominican Republic",
          "Moldova (Republic of)",
          "Palau",
          "Cuba",
          "Peru",
          "Armenia",
          "Mexico",
          "Brazil",
          "Colombia",
          "Saint Vincent and the Grenadines",
          "Maldives",
          "Algeria",
          "Azerbaijan",
          "Tonga",
          "Turkmenistan",
          "Ecuador",
          "Mongolia",
          "Egypt",
          "Tunisia",
          "Fiji",
          "Suriname",
          "Uzbekistan",
          "Dominica",
          "Jordan",
          "Libya",
          "Paraguay",
          "Palestine, State of",
          "Saint Lucia",
          "Guyana",
          "South Africa",
          "Jamaica",
          "Samoa",
          "Gabon",
          "Lebanon",
          "Indonesia",
          "Viet Nam",
          "Philippines",
          "Botswana",
          "Bolivia (Plurinational State of)",
          "Kyrgyzstan",
          "Venezuela (Bolivarian Republic of)",
          "Iraq",
          "Tajikistan",
          "Belize",
          "Morocco",
          "El Salvador",
          "Nicaragua",
          "Bhutan",
          "Cabo Verde",
          "Bangladesh",
          "Tuvalu",
          "Marshall Islands",
          "India",
          "Ghana",
          "Micronesia (Federated States of)",
          "Guatemala",
          "Kiribati",
          "Honduras",
          "Sao Tome and Principe",
          "Namibia",
          "Lao People's Democratic Republic",
          "Timor-Leste",
          "Vanuatu",
          "Nepal",
          "Eswatini (Kingdom of)",
          "Equatorial Guinea",
          "Cambodia",
          "Zimbabwe",
          "Angola",
          "Myanmar",
          "Syrian Arab Republic",
          "Cameroon",
          "Kenya",
          "Congo",
          "Zambia",
          "Solomon Islands",
          "Comoros",
          "Papua New Guinea",
          "Mauritania",
          "Côte d'Ivoire",
          "Tanzania (United Republic of)",
          "Pakistan",
          "Togo",
          "Haiti",
          "Nigeria",
          "Rwanda",
          "Benin",
          "Uganda",
          "Lesotho",
          "Malawi",
          "Senegal",
          "Djibouti",
          "Sudan",
          "Madagascar",
          "Gambia",
          "Ethiopia",
          "Eritrea",
          "Guinea-Bissau",
          "Liberia",
          "Congo (Democratic Republic of the)",
          "Afghanistan",
          "Sierra Leone",
          "Guinea",
          "Yemen",
          "Burkina Faso",
          "Mozambique",
          "Mali",
          "Burundi",
          "Central African Republic",
          "Niger",
          "Chad",
          "South Sudan"
         ],
         "xaxis": "x",
         "y": [
          0.962,
          0.961,
          0.959,
          0.952,
          0.951,
          0.948,
          0.947,
          0.945,
          0.942,
          0.941,
          0.94,
          0.939,
          0.937,
          0.937,
          0.936,
          0.935,
          0.93,
          0.929,
          0.925,
          0.925,
          0.921,
          0.919,
          0.918,
          0.918,
          0.916,
          0.911,
          0.905,
          0.903,
          0.896,
          0.895,
          0.89,
          0.889,
          0.887,
          0.876,
          0.875,
          0.875,
          0.875,
          0.866,
          0.863,
          0.858,
          0.858,
          0.855,
          0.855,
          0.853,
          0.848,
          0.846,
          0.842,
          0.838,
          0.832,
          0.831,
          0.829,
          0.822,
          0.821,
          0.816,
          0.812,
          0.811,
          0.81,
          0.809,
          0.809,
          0.808,
          0.805,
          0.803,
          0.802,
          0.802,
          0.802,
          0.8,
          0.796,
          0.795,
          0.795,
          0.79,
          0.788,
          0.785,
          0.782,
          0.78,
          0.777,
          0.774,
          0.773,
          0.77,
          0.768,
          0.767,
          0.767,
          0.767,
          0.764,
          0.762,
          0.759,
          0.758,
          0.754,
          0.752,
          0.751,
          0.747,
          0.745,
          0.745,
          0.745,
          0.745,
          0.74,
          0.739,
          0.731,
          0.731,
          0.73,
          0.73,
          0.727,
          0.72,
          0.72,
          0.718,
          0.717,
          0.715,
          0.715,
          0.714,
          0.713,
          0.709,
          0.707,
          0.706,
          0.706,
          0.705,
          0.703,
          0.699,
          0.693,
          0.692,
          0.692,
          0.691,
          0.686,
          0.685,
          0.683,
          0.683,
          0.675,
          0.667,
          0.666,
          0.662,
          0.661,
          0.641,
          0.639,
          0.633,
          0.632,
          0.628,
          0.627,
          0.624,
          0.621,
          0.618,
          0.615,
          0.607,
          0.607,
          0.607,
          0.602,
          0.597,
          0.596,
          0.593,
          0.593,
          0.586,
          0.585,
          0.577,
          0.576,
          0.575,
          0.571,
          0.565,
          0.564,
          0.558,
          0.558,
          0.556,
          0.55,
          0.549,
          0.544,
          0.539,
          0.535,
          0.535,
          0.534,
          0.525,
          0.525,
          0.514,
          0.512,
          0.511,
          0.509,
          0.508,
          0.501,
          0.5,
          0.498,
          0.492,
          0.483,
          0.481,
          0.479,
          0.478,
          0.477,
          0.465,
          0.455,
          0.449,
          0.446,
          0.428,
          0.426,
          0.404,
          0.4,
          0.394,
          0.385
         ],
         "yaxis": "y"
        },
        {
         "name": "Predicted HDI Value",
         "type": "scatter",
         "x": [
          "Switzerland",
          "Norway",
          "Iceland",
          "Hong Kong, China (SAR)",
          "Australia",
          "Denmark",
          "Sweden",
          "Ireland",
          "Germany",
          "Netherlands",
          "Finland",
          "Singapore",
          "Belgium",
          "New Zealand",
          "Canada",
          "Liechtenstein",
          "Luxembourg",
          "United Kingdom",
          "Japan",
          "Korea (Republic of)",
          "United States",
          "Israel",
          "Malta",
          "Slovenia",
          "Austria",
          "United Arab Emirates",
          "Spain",
          "France",
          "Cyprus",
          "Italy",
          "Estonia",
          "Czechia",
          "Greece",
          "Poland",
          "Bahrain",
          "Lithuania",
          "Saudi Arabia",
          "Portugal",
          "Latvia",
          "Andorra",
          "Croatia",
          "Chile",
          "Qatar",
          "San Marino",
          "Slovakia",
          "Hungary",
          "Argentina",
          "Türkiye",
          "Montenegro",
          "Kuwait",
          "Brunei Darussalam",
          "Russian Federation",
          "Romania",
          "Oman",
          "Bahamas",
          "Kazakhstan",
          "Trinidad and Tobago",
          "Costa Rica",
          "Uruguay",
          "Belarus",
          "Panama",
          "Malaysia",
          "Georgia",
          "Mauritius",
          "Serbia",
          "Thailand",
          "Albania",
          "Bulgaria",
          "Grenada",
          "Barbados",
          "Antigua and Barbuda",
          "Seychelles",
          "Sri Lanka",
          "Bosnia and Herzegovina",
          "Saint Kitts and Nevis",
          "Iran (Islamic Republic of)",
          "Ukraine",
          "North Macedonia",
          "China",
          "Dominican Republic",
          "Moldova (Republic of)",
          "Palau",
          "Cuba",
          "Peru",
          "Armenia",
          "Mexico",
          "Brazil",
          "Colombia",
          "Saint Vincent and the Grenadines",
          "Maldives",
          "Algeria",
          "Azerbaijan",
          "Tonga",
          "Turkmenistan",
          "Ecuador",
          "Mongolia",
          "Egypt",
          "Tunisia",
          "Fiji",
          "Suriname",
          "Uzbekistan",
          "Dominica",
          "Jordan",
          "Libya",
          "Paraguay",
          "Palestine, State of",
          "Saint Lucia",
          "Guyana",
          "South Africa",
          "Jamaica",
          "Samoa",
          "Gabon",
          "Lebanon",
          "Indonesia",
          "Viet Nam",
          "Philippines",
          "Botswana",
          "Bolivia (Plurinational State of)",
          "Kyrgyzstan",
          "Venezuela (Bolivarian Republic of)",
          "Iraq",
          "Tajikistan",
          "Belize",
          "Morocco",
          "El Salvador",
          "Nicaragua",
          "Bhutan",
          "Cabo Verde",
          "Bangladesh",
          "Tuvalu",
          "Marshall Islands",
          "India",
          "Ghana",
          "Micronesia (Federated States of)",
          "Guatemala",
          "Kiribati",
          "Honduras",
          "Sao Tome and Principe",
          "Namibia",
          "Lao People's Democratic Republic",
          "Timor-Leste",
          "Vanuatu",
          "Nepal",
          "Eswatini (Kingdom of)",
          "Equatorial Guinea",
          "Cambodia",
          "Zimbabwe",
          "Angola",
          "Myanmar",
          "Syrian Arab Republic",
          "Cameroon",
          "Kenya",
          "Congo",
          "Zambia",
          "Solomon Islands",
          "Comoros",
          "Papua New Guinea",
          "Mauritania",
          "Côte d'Ivoire",
          "Tanzania (United Republic of)",
          "Pakistan",
          "Togo",
          "Haiti",
          "Nigeria",
          "Rwanda",
          "Benin",
          "Uganda",
          "Lesotho",
          "Malawi",
          "Senegal",
          "Djibouti",
          "Sudan",
          "Madagascar",
          "Gambia",
          "Ethiopia",
          "Eritrea",
          "Guinea-Bissau",
          "Liberia",
          "Congo (Democratic Republic of the)",
          "Afghanistan",
          "Sierra Leone",
          "Guinea",
          "Yemen",
          "Burkina Faso",
          "Mozambique",
          "Mali",
          "Burundi",
          "Central African Republic",
          "Niger",
          "Chad",
          "South Sudan"
         ],
         "xaxis": "x2",
         "y": [
          0.9805652309728752,
          0.9810678657808147,
          0.9925054951696701,
          0.9669430359096571,
          1.0032802566755694,
          0.9705683685046003,
          0.9765258853973877,
          0.9739853751892542,
          0.9550321829078616,
          0.9602471730912221,
          0.9639419019307081,
          0.9706583737620231,
          0.96547181322659,
          0.9773737675747192,
          0.945214187147134,
          1.0366136626277058,
          0.9520641708231554,
          0.9363821675072361,
          0.9289440293171172,
          0.927966386586115,
          0.9301198410579405,
          0.923160793046936,
          0.920480867897913,
          0.9235554162747961,
          0.915188113925193,
          0.9123423514678314,
          0.9022711313202714,
          0.8975783326154265,
          0.8917467681413203,
          0.8866208028753463,
          0.8891447796049575,
          0.8859820433773163,
          0.9145229533851978,
          0.8734063202249424,
          0.8633857083262044,
          0.8718309520801932,
          0.862795490898916,
          0.8521669004429139,
          0.8592342875481053,
          0.8395520520949252,
          0.8479032301336737,
          0.8496140668062795,
          0.8597313406386112,
          0.8349178713007805,
          0.836384079770232,
          0.8324150718851769,
          0.8420545477259086,
          0.8222579674112194,
          0.8279263535008248,
          0.8036150270116977,
          0.8064510296002818,
          0.8125775428982025,
          0.799522846328895,
          0.7966853053739483,
          0.7895874925306592,
          0.8009075870979174,
          0.793477231361629,
          0.7933641481612111,
          0.7920866744110003,
          0.8020081568438416,
          0.7800648851245967,
          0.7770301478494622,
          0.8090079626788267,
          0.783810836582192,
          0.7897239904945459,
          0.7893852106024979,
          0.7966388222625986,
          0.773977504429068,
          0.8045154123243698,
          0.7937520575628569,
          0.7751655721872583,
          0.7557538922794991,
          0.782378894522529,
          0.7694842882547023,
          0.7473965373376843,
          0.7704897048237253,
          0.769920394523947,
          0.7537765227607974,
          0.7462420884872734,
          0.7444564545040936,
          0.7595718704769768,
          0.7702889823228508,
          0.7921492909650276,
          0.7579019098386705,
          0.7511498751786502,
          0.7334175918835627,
          0.7358833422649461,
          0.7333856202333052,
          0.7471495917105783,
          0.7280399853129723,
          0.7397004015536363,
          0.7277717768661466,
          0.7769268647227126,
          0.7339544882066842,
          0.7350813824197742,
          0.7339006302996323,
          0.7172641513878618,
          0.7228364855631736,
          0.7315322537529363,
          0.7121961201396334,
          0.738319140010698,
          0.7023843880449071,
          0.7126694938309839,
          0.6862518001118141,
          0.6955442619515378,
          0.7312728707666513,
          0.693388625512575,
          0.6693989930799061,
          0.6989361965074166,
          0.7031327223140653,
          0.7376396240015048,
          0.6790925176520811,
          0.6962548178222318,
          0.682857253283015,
          0.7017363415331338,
          0.6887738485457348,
          0.6596685754294802,
          0.6919794343962922,
          0.7294096955405205,
          0.7236642595106383,
          0.6649991713627582,
          0.718023567340035,
          0.6890270574434701,
          0.6780226395434187,
          0.6601579313139964,
          0.6752908943206802,
          0.6419487997865025,
          0.6616822337167346,
          0.6674613129800825,
          0.6339359370105503,
          0.652628235734435,
          0.6173446545701232,
          0.625820267201778,
          0.6502321528407156,
          0.5982471142441056,
          0.636847468294525,
          0.617528742040752,
          0.6287490709791664,
          0.5806677720001283,
          0.5788014882027609,
          0.60695986529306,
          0.6351044791677903,
          0.6088870176083472,
          0.5631120257493392,
          0.5420951112395731,
          0.5965685699519284,
          0.60273536527203,
          0.5644479174824396,
          0.5866066247579248,
          0.5813720036181387,
          0.5790422491370337,
          0.5631174604254476,
          0.5875772274257375,
          0.5724439702742533,
          0.5946188845351714,
          0.5633793979677829,
          0.5497135803381619,
          0.534848916502324,
          0.5216732055489883,
          0.5657352808082795,
          0.5288650527583131,
          0.5637561617873583,
          0.5399465746957786,
          0.510991900564278,
          0.5581858314591873,
          0.5129603723625499,
          0.5451257684499532,
          0.5164481802353097,
          0.5582057342951964,
          0.5103303793150157,
          0.4822285703319058,
          0.5007322481267604,
          0.5446462955218101,
          0.5129475070850483,
          0.5097210736266774,
          0.5259306695651937,
          0.49573866421814594,
          0.5245590684559469,
          0.5395345217686891,
          0.49514497686370573,
          0.5008430707269211,
          0.45752755689852465,
          0.49347191415295666,
          0.44904540978253316,
          0.4810069013994248,
          0.42736547372046507,
          0.5003855677480739,
          0.437438229883103,
          0.43294975497613586,
          0.39957553115755845,
          0.43406923267375586
         ],
         "yaxis": "y2"
        }
       ],
       "layout": {
        "annotations": [
         {
          "font": {
           "size": 16
          },
          "showarrow": false,
          "text": "Actual HDI Value",
          "x": 0.225,
          "xanchor": "center",
          "xref": "paper",
          "y": 1,
          "yanchor": "bottom",
          "yref": "paper"
         },
         {
          "font": {
           "size": 16
          },
          "showarrow": false,
          "text": "Predicted HDI Value",
          "x": 0.775,
          "xanchor": "center",
          "xref": "paper",
          "y": 1,
          "yanchor": "bottom",
          "yref": "paper"
         }
        ],
        "showlegend": true,
        "template": {
         "data": {
          "bar": [
           {
            "error_x": {
             "color": "#2a3f5f"
            },
            "error_y": {
             "color": "#2a3f5f"
            },
            "marker": {
             "line": {
              "color": "#E5ECF6",
              "width": 0.5
             },
             "pattern": {
              "fillmode": "overlay",
              "size": 10,
              "solidity": 0.2
             }
            },
            "type": "bar"
           }
          ],
          "barpolar": [
           {
            "marker": {
             "line": {
              "color": "#E5ECF6",
              "width": 0.5
             },
             "pattern": {
              "fillmode": "overlay",
              "size": 10,
              "solidity": 0.2
             }
            },
            "type": "barpolar"
           }
          ],
          "carpet": [
           {
            "aaxis": {
             "endlinecolor": "#2a3f5f",
             "gridcolor": "white",
             "linecolor": "white",
             "minorgridcolor": "white",
             "startlinecolor": "#2a3f5f"
            },
            "baxis": {
             "endlinecolor": "#2a3f5f",
             "gridcolor": "white",
             "linecolor": "white",
             "minorgridcolor": "white",
             "startlinecolor": "#2a3f5f"
            },
            "type": "carpet"
           }
          ],
          "choropleth": [
           {
            "colorbar": {
             "outlinewidth": 0,
             "ticks": ""
            },
            "type": "choropleth"
           }
          ],
          "contour": [
           {
            "colorbar": {
             "outlinewidth": 0,
             "ticks": ""
            },
            "colorscale": [
             [
              0,
              "#0d0887"
             ],
             [
              0.1111111111111111,
              "#46039f"
             ],
             [
              0.2222222222222222,
              "#7201a8"
             ],
             [
              0.3333333333333333,
              "#9c179e"
             ],
             [
              0.4444444444444444,
              "#bd3786"
             ],
             [
              0.5555555555555556,
              "#d8576b"
             ],
             [
              0.6666666666666666,
              "#ed7953"
             ],
             [
              0.7777777777777778,
              "#fb9f3a"
             ],
             [
              0.8888888888888888,
              "#fdca26"
             ],
             [
              1,
              "#f0f921"
             ]
            ],
            "type": "contour"
           }
          ],
          "contourcarpet": [
           {
            "colorbar": {
             "outlinewidth": 0,
             "ticks": ""
            },
            "type": "contourcarpet"
           }
          ],
          "heatmap": [
           {
            "colorbar": {
             "outlinewidth": 0,
             "ticks": ""
            },
            "colorscale": [
             [
              0,
              "#0d0887"
             ],
             [
              0.1111111111111111,
              "#46039f"
             ],
             [
              0.2222222222222222,
              "#7201a8"
             ],
             [
              0.3333333333333333,
              "#9c179e"
             ],
             [
              0.4444444444444444,
              "#bd3786"
             ],
             [
              0.5555555555555556,
              "#d8576b"
             ],
             [
              0.6666666666666666,
              "#ed7953"
             ],
             [
              0.7777777777777778,
              "#fb9f3a"
             ],
             [
              0.8888888888888888,
              "#fdca26"
             ],
             [
              1,
              "#f0f921"
             ]
            ],
            "type": "heatmap"
           }
          ],
          "heatmapgl": [
           {
            "colorbar": {
             "outlinewidth": 0,
             "ticks": ""
            },
            "colorscale": [
             [
              0,
              "#0d0887"
             ],
             [
              0.1111111111111111,
              "#46039f"
             ],
             [
              0.2222222222222222,
              "#7201a8"
             ],
             [
              0.3333333333333333,
              "#9c179e"
             ],
             [
              0.4444444444444444,
              "#bd3786"
             ],
             [
              0.5555555555555556,
              "#d8576b"
             ],
             [
              0.6666666666666666,
              "#ed7953"
             ],
             [
              0.7777777777777778,
              "#fb9f3a"
             ],
             [
              0.8888888888888888,
              "#fdca26"
             ],
             [
              1,
              "#f0f921"
             ]
            ],
            "type": "heatmapgl"
           }
          ],
          "histogram": [
           {
            "marker": {
             "pattern": {
              "fillmode": "overlay",
              "size": 10,
              "solidity": 0.2
             }
            },
            "type": "histogram"
           }
          ],
          "histogram2d": [
           {
            "colorbar": {
             "outlinewidth": 0,
             "ticks": ""
            },
            "colorscale": [
             [
              0,
              "#0d0887"
             ],
             [
              0.1111111111111111,
              "#46039f"
             ],
             [
              0.2222222222222222,
              "#7201a8"
             ],
             [
              0.3333333333333333,
              "#9c179e"
             ],
             [
              0.4444444444444444,
              "#bd3786"
             ],
             [
              0.5555555555555556,
              "#d8576b"
             ],
             [
              0.6666666666666666,
              "#ed7953"
             ],
             [
              0.7777777777777778,
              "#fb9f3a"
             ],
             [
              0.8888888888888888,
              "#fdca26"
             ],
             [
              1,
              "#f0f921"
             ]
            ],
            "type": "histogram2d"
           }
          ],
          "histogram2dcontour": [
           {
            "colorbar": {
             "outlinewidth": 0,
             "ticks": ""
            },
            "colorscale": [
             [
              0,
              "#0d0887"
             ],
             [
              0.1111111111111111,
              "#46039f"
             ],
             [
              0.2222222222222222,
              "#7201a8"
             ],
             [
              0.3333333333333333,
              "#9c179e"
             ],
             [
              0.4444444444444444,
              "#bd3786"
             ],
             [
              0.5555555555555556,
              "#d8576b"
             ],
             [
              0.6666666666666666,
              "#ed7953"
             ],
             [
              0.7777777777777778,
              "#fb9f3a"
             ],
             [
              0.8888888888888888,
              "#fdca26"
             ],
             [
              1,
              "#f0f921"
             ]
            ],
            "type": "histogram2dcontour"
           }
          ],
          "mesh3d": [
           {
            "colorbar": {
             "outlinewidth": 0,
             "ticks": ""
            },
            "type": "mesh3d"
           }
          ],
          "parcoords": [
           {
            "line": {
             "colorbar": {
              "outlinewidth": 0,
              "ticks": ""
             }
            },
            "type": "parcoords"
           }
          ],
          "pie": [
           {
            "automargin": true,
            "type": "pie"
           }
          ],
          "scatter": [
           {
            "fillpattern": {
             "fillmode": "overlay",
             "size": 10,
             "solidity": 0.2
            },
            "type": "scatter"
           }
          ],
          "scatter3d": [
           {
            "line": {
             "colorbar": {
              "outlinewidth": 0,
              "ticks": ""
             }
            },
            "marker": {
             "colorbar": {
              "outlinewidth": 0,
              "ticks": ""
             }
            },
            "type": "scatter3d"
           }
          ],
          "scattercarpet": [
           {
            "marker": {
             "colorbar": {
              "outlinewidth": 0,
              "ticks": ""
             }
            },
            "type": "scattercarpet"
           }
          ],
          "scattergeo": [
           {
            "marker": {
             "colorbar": {
              "outlinewidth": 0,
              "ticks": ""
             }
            },
            "type": "scattergeo"
           }
          ],
          "scattergl": [
           {
            "marker": {
             "colorbar": {
              "outlinewidth": 0,
              "ticks": ""
             }
            },
            "type": "scattergl"
           }
          ],
          "scattermapbox": [
           {
            "marker": {
             "colorbar": {
              "outlinewidth": 0,
              "ticks": ""
             }
            },
            "type": "scattermapbox"
           }
          ],
          "scatterpolar": [
           {
            "marker": {
             "colorbar": {
              "outlinewidth": 0,
              "ticks": ""
             }
            },
            "type": "scatterpolar"
           }
          ],
          "scatterpolargl": [
           {
            "marker": {
             "colorbar": {
              "outlinewidth": 0,
              "ticks": ""
             }
            },
            "type": "scatterpolargl"
           }
          ],
          "scatterternary": [
           {
            "marker": {
             "colorbar": {
              "outlinewidth": 0,
              "ticks": ""
             }
            },
            "type": "scatterternary"
           }
          ],
          "surface": [
           {
            "colorbar": {
             "outlinewidth": 0,
             "ticks": ""
            },
            "colorscale": [
             [
              0,
              "#0d0887"
             ],
             [
              0.1111111111111111,
              "#46039f"
             ],
             [
              0.2222222222222222,
              "#7201a8"
             ],
             [
              0.3333333333333333,
              "#9c179e"
             ],
             [
              0.4444444444444444,
              "#bd3786"
             ],
             [
              0.5555555555555556,
              "#d8576b"
             ],
             [
              0.6666666666666666,
              "#ed7953"
             ],
             [
              0.7777777777777778,
              "#fb9f3a"
             ],
             [
              0.8888888888888888,
              "#fdca26"
             ],
             [
              1,
              "#f0f921"
             ]
            ],
            "type": "surface"
           }
          ],
          "table": [
           {
            "cells": {
             "fill": {
              "color": "#EBF0F8"
             },
             "line": {
              "color": "white"
             }
            },
            "header": {
             "fill": {
              "color": "#C8D4E3"
             },
             "line": {
              "color": "white"
             }
            },
            "type": "table"
           }
          ]
         },
         "layout": {
          "annotationdefaults": {
           "arrowcolor": "#2a3f5f",
           "arrowhead": 0,
           "arrowwidth": 1
          },
          "autotypenumbers": "strict",
          "coloraxis": {
           "colorbar": {
            "outlinewidth": 0,
            "ticks": ""
           }
          },
          "colorscale": {
           "diverging": [
            [
             0,
             "#8e0152"
            ],
            [
             0.1,
             "#c51b7d"
            ],
            [
             0.2,
             "#de77ae"
            ],
            [
             0.3,
             "#f1b6da"
            ],
            [
             0.4,
             "#fde0ef"
            ],
            [
             0.5,
             "#f7f7f7"
            ],
            [
             0.6,
             "#e6f5d0"
            ],
            [
             0.7,
             "#b8e186"
            ],
            [
             0.8,
             "#7fbc41"
            ],
            [
             0.9,
             "#4d9221"
            ],
            [
             1,
             "#276419"
            ]
           ],
           "sequential": [
            [
             0,
             "#0d0887"
            ],
            [
             0.1111111111111111,
             "#46039f"
            ],
            [
             0.2222222222222222,
             "#7201a8"
            ],
            [
             0.3333333333333333,
             "#9c179e"
            ],
            [
             0.4444444444444444,
             "#bd3786"
            ],
            [
             0.5555555555555556,
             "#d8576b"
            ],
            [
             0.6666666666666666,
             "#ed7953"
            ],
            [
             0.7777777777777778,
             "#fb9f3a"
            ],
            [
             0.8888888888888888,
             "#fdca26"
            ],
            [
             1,
             "#f0f921"
            ]
           ],
           "sequentialminus": [
            [
             0,
             "#0d0887"
            ],
            [
             0.1111111111111111,
             "#46039f"
            ],
            [
             0.2222222222222222,
             "#7201a8"
            ],
            [
             0.3333333333333333,
             "#9c179e"
            ],
            [
             0.4444444444444444,
             "#bd3786"
            ],
            [
             0.5555555555555556,
             "#d8576b"
            ],
            [
             0.6666666666666666,
             "#ed7953"
            ],
            [
             0.7777777777777778,
             "#fb9f3a"
            ],
            [
             0.8888888888888888,
             "#fdca26"
            ],
            [
             1,
             "#f0f921"
            ]
           ]
          },
          "colorway": [
           "#636efa",
           "#EF553B",
           "#00cc96",
           "#ab63fa",
           "#FFA15A",
           "#19d3f3",
           "#FF6692",
           "#B6E880",
           "#FF97FF",
           "#FECB52"
          ],
          "font": {
           "color": "#2a3f5f"
          },
          "geo": {
           "bgcolor": "white",
           "lakecolor": "white",
           "landcolor": "#E5ECF6",
           "showlakes": true,
           "showland": true,
           "subunitcolor": "white"
          },
          "hoverlabel": {
           "align": "left"
          },
          "hovermode": "closest",
          "mapbox": {
           "style": "light"
          },
          "paper_bgcolor": "white",
          "plot_bgcolor": "#E5ECF6",
          "polar": {
           "angularaxis": {
            "gridcolor": "white",
            "linecolor": "white",
            "ticks": ""
           },
           "bgcolor": "#E5ECF6",
           "radialaxis": {
            "gridcolor": "white",
            "linecolor": "white",
            "ticks": ""
           }
          },
          "scene": {
           "xaxis": {
            "backgroundcolor": "#E5ECF6",
            "gridcolor": "white",
            "gridwidth": 2,
            "linecolor": "white",
            "showbackground": true,
            "ticks": "",
            "zerolinecolor": "white"
           },
           "yaxis": {
            "backgroundcolor": "#E5ECF6",
            "gridcolor": "white",
            "gridwidth": 2,
            "linecolor": "white",
            "showbackground": true,
            "ticks": "",
            "zerolinecolor": "white"
           },
           "zaxis": {
            "backgroundcolor": "#E5ECF6",
            "gridcolor": "white",
            "gridwidth": 2,
            "linecolor": "white",
            "showbackground": true,
            "ticks": "",
            "zerolinecolor": "white"
           }
          },
          "shapedefaults": {
           "line": {
            "color": "#2a3f5f"
           }
          },
          "ternary": {
           "aaxis": {
            "gridcolor": "white",
            "linecolor": "white",
            "ticks": ""
           },
           "baxis": {
            "gridcolor": "white",
            "linecolor": "white",
            "ticks": ""
           },
           "bgcolor": "#E5ECF6",
           "caxis": {
            "gridcolor": "white",
            "linecolor": "white",
            "ticks": ""
           }
          },
          "title": {
           "x": 0.05
          },
          "xaxis": {
           "automargin": true,
           "gridcolor": "white",
           "linecolor": "white",
           "ticks": "",
           "title": {
            "standoff": 15
           },
           "zerolinecolor": "white",
           "zerolinewidth": 2
          },
          "yaxis": {
           "automargin": true,
           "gridcolor": "white",
           "linecolor": "white",
           "ticks": "",
           "title": {
            "standoff": 15
           },
           "zerolinecolor": "white",
           "zerolinewidth": 2
          }
         }
        },
        "title": {
         "text": "Actual vs Predicted HDI Value"
        },
        "xaxis": {
         "anchor": "y",
         "domain": [
          0,
          0.45
         ]
        },
        "xaxis2": {
         "anchor": "y2",
         "domain": [
          0.55,
          1
         ]
        },
        "yaxis": {
         "anchor": "x",
         "domain": [
          0,
          1
         ]
        },
        "yaxis2": {
         "anchor": "x2",
         "domain": [
          0,
          1
         ]
        }
       }
      }
     },
     "metadata": {},
     "output_type": "display_data"
    }
   ],
   "source": [
    "X_test = imputer.fit_transform(no_HDI[features])\n",
    "\n",
    "no_HDI['Predicted HDI'] = model.predict(X_test)\n",
    "ml_fig = make_subplots(rows=1, cols=2, subplot_titles=(\"Actual HDI Value\", \"Predicted HDI Value\"))\n",
    "\n",
    "ml_fig.add_trace(go.Scatter(x=no_HDI['Country'], y=no_HDI['Human Development Index (HDI)'], name=\"Actual HDI Value\"), row=1, col=1)\n",
    "ml_fig.add_trace(go.Scatter(x=no_HDI['Country'], y=no_HDI['Predicted HDI'], name=\"Predicted HDI Value\"), row=1, col=2)\n",
    "\n",
    "ml_fig.update_layout(title_text=\"Actual vs Predicted HDI Value\",\n",
    "                  showlegend=True)\n",
    "\n",
    "ml_fig.show()"
   ]
  },
  {
   "cell_type": "markdown",
   "metadata": {},
   "source": [
    "Examining the presented graph, we can observe that the model has pretty accurately estimated each country's HDI score. There are some anomalies in our machine-learning graph, such as HDI values greater than 1.0 (which are impossible in our HDI scoring formula) but other than these slight differences, the model appears to worked successfully. "
   ]
  },
  {
   "cell_type": "markdown",
   "metadata": {},
   "source": [
    "### Reflection Questions\n",
    "\n",
    "1. What *potential* benefits could arise from integrating machine-learning methodologies into *existing scoring systems*, such as the HDI, to gain deeper insights or improve accuracy?\n",
    "   \n",
    "2. How can the integration of machine-learning models help in identifying *patterns* or *trends* within the data that may not be immediately apparent through *traditional* analysis methods?\n",
    "   \n",
    "3. What *challenges* or *limitations* might arise when implementing machine-learning techniques in the context of *well-established scoring systems*, and how can these challenges be addressed effectively?"
   ]
  },
  {
   "cell_type": "markdown",
   "metadata": {},
   "source": [
    "### Examining Non-HDI Countries\n",
    "\n",
    "In the final part of our notebook, we will be examining countries that have no HDI rank, and try to accurately rank them based on their *feature* values, despite some of them being **null**. Null values refer to the absence of any particular value. "
   ]
  },
  {
   "cell_type": "code",
   "execution_count": 127,
   "metadata": {},
   "outputs": [
    {
     "data": {
      "text/html": [
       "<div>\n",
       "<style scoped>\n",
       "    .dataframe tbody tr th:only-of-type {\n",
       "        vertical-align: middle;\n",
       "    }\n",
       "\n",
       "    .dataframe tbody tr th {\n",
       "        vertical-align: top;\n",
       "    }\n",
       "\n",
       "    .dataframe thead th {\n",
       "        text-align: right;\n",
       "    }\n",
       "</style>\n",
       "<table border=\"1\" class=\"dataframe\">\n",
       "  <thead>\n",
       "    <tr style=\"text-align: right;\">\n",
       "      <th></th>\n",
       "      <th>HDI rank</th>\n",
       "      <th>Country</th>\n",
       "      <th>Human Development Index (HDI)</th>\n",
       "      <th>Life expectancy at birth (years)</th>\n",
       "      <th>Expected years of schooling (years)</th>\n",
       "      <th>Mean years of schooling (years)</th>\n",
       "      <th>Gross national income (GNI) per capita (2017 PPP $)</th>\n",
       "      <th>GNI per capita rank minus HDI rank</th>\n",
       "      <th>HDI rank 2020</th>\n",
       "    </tr>\n",
       "  </thead>\n",
       "  <tbody>\n",
       "    <tr>\n",
       "      <th>191</th>\n",
       "      <td>NaN</td>\n",
       "      <td>Korea (Democratic People's Rep. of)</td>\n",
       "      <td>NaN</td>\n",
       "      <td>73.2845</td>\n",
       "      <td>10.78317</td>\n",
       "      <td>NaN</td>\n",
       "      <td>NaN</td>\n",
       "      <td>NaN</td>\n",
       "      <td>..</td>\n",
       "    </tr>\n",
       "    <tr>\n",
       "      <th>192</th>\n",
       "      <td>NaN</td>\n",
       "      <td>Monaco</td>\n",
       "      <td>NaN</td>\n",
       "      <td>85.9463</td>\n",
       "      <td>NaN</td>\n",
       "      <td>NaN</td>\n",
       "      <td>NaN</td>\n",
       "      <td>NaN</td>\n",
       "      <td>..</td>\n",
       "    </tr>\n",
       "    <tr>\n",
       "      <th>193</th>\n",
       "      <td>NaN</td>\n",
       "      <td>Nauru</td>\n",
       "      <td>NaN</td>\n",
       "      <td>63.6170</td>\n",
       "      <td>11.69042</td>\n",
       "      <td>NaN</td>\n",
       "      <td>17729.74084</td>\n",
       "      <td>NaN</td>\n",
       "      <td>..</td>\n",
       "    </tr>\n",
       "    <tr>\n",
       "      <th>194</th>\n",
       "      <td>NaN</td>\n",
       "      <td>Somalia</td>\n",
       "      <td>NaN</td>\n",
       "      <td>55.2803</td>\n",
       "      <td>NaN</td>\n",
       "      <td>NaN</td>\n",
       "      <td>1017.96785</td>\n",
       "      <td>NaN</td>\n",
       "      <td>..</td>\n",
       "    </tr>\n",
       "  </tbody>\n",
       "</table>\n",
       "</div>"
      ],
      "text/plain": [
       "     HDI rank                              Country  \\\n",
       "191       NaN  Korea (Democratic People's Rep. of)   \n",
       "192       NaN                               Monaco   \n",
       "193       NaN                                Nauru   \n",
       "194       NaN                              Somalia   \n",
       "\n",
       "     Human Development Index (HDI)  Life expectancy at birth (years)  \\\n",
       "191                            NaN                           73.2845   \n",
       "192                            NaN                           85.9463   \n",
       "193                            NaN                           63.6170   \n",
       "194                            NaN                           55.2803   \n",
       "\n",
       "     Expected years of schooling (years)  Mean years of schooling (years)  \\\n",
       "191                             10.78317                              NaN   \n",
       "192                                  NaN                              NaN   \n",
       "193                             11.69042                              NaN   \n",
       "194                                  NaN                              NaN   \n",
       "\n",
       "     Gross national income (GNI) per capita (2017 PPP $)  \\\n",
       "191                                                NaN     \n",
       "192                                                NaN     \n",
       "193                                        17729.74084     \n",
       "194                                         1017.96785     \n",
       "\n",
       "     GNI per capita rank minus HDI rank HDI rank 2020  \n",
       "191                                 NaN            ..  \n",
       "192                                 NaN            ..  \n",
       "193                                 NaN            ..  \n",
       "194                                 NaN            ..  "
      ]
     },
     "execution_count": 127,
     "metadata": {},
     "output_type": "execute_result"
    }
   ],
   "source": [
    "null_countries = HDI_components[HDI_components['HDI rank'].isnull()]\n",
    "null_countries"
   ]
  },
  {
   "cell_type": "markdown",
   "metadata": {},
   "source": [
    "Now that we've identified which countries need predicted HDI values, let's use our machine-learning model to predict their HDI values, and plot them in a visualization."
   ]
  },
  {
   "cell_type": "code",
   "execution_count": 128,
   "metadata": {},
   "outputs": [
    {
     "data": {
      "application/vnd.plotly.v1+json": {
       "config": {
        "plotlyServerURL": "https://plot.ly"
       },
       "data": [
        {
         "marker": {
          "size": 9.752334308482604
         },
         "mode": "markers",
         "name": "Korea (Democratic People's Rep. of)",
         "type": "scatter",
         "x": [
          "Korea (Democratic People's Rep. of)"
         ],
         "y": [
          0.6965953077487574
         ]
        },
        {
         "marker": {
          "size": 11.354214186796883
         },
         "mode": "markers",
         "name": "Monaco",
         "type": "scatter",
         "x": [
          "Monaco"
         ],
         "y": [
          0.8110152990569202
         ]
        },
        {
         "marker": {
          "size": 9.046610466508689
         },
         "mode": "markers",
         "name": "Nauru",
         "type": "scatter",
         "x": [
          "Nauru"
         ],
         "y": [
          0.6461864618934778
         ]
        },
        {
         "marker": {
          "size": 8.374373016274848
         },
         "mode": "markers",
         "name": "Somalia",
         "type": "scatter",
         "x": [
          "Somalia"
         ],
         "y": [
          0.5981695011624892
         ]
        }
       ],
       "layout": {
        "template": {
         "data": {
          "bar": [
           {
            "error_x": {
             "color": "#2a3f5f"
            },
            "error_y": {
             "color": "#2a3f5f"
            },
            "marker": {
             "line": {
              "color": "#E5ECF6",
              "width": 0.5
             },
             "pattern": {
              "fillmode": "overlay",
              "size": 10,
              "solidity": 0.2
             }
            },
            "type": "bar"
           }
          ],
          "barpolar": [
           {
            "marker": {
             "line": {
              "color": "#E5ECF6",
              "width": 0.5
             },
             "pattern": {
              "fillmode": "overlay",
              "size": 10,
              "solidity": 0.2
             }
            },
            "type": "barpolar"
           }
          ],
          "carpet": [
           {
            "aaxis": {
             "endlinecolor": "#2a3f5f",
             "gridcolor": "white",
             "linecolor": "white",
             "minorgridcolor": "white",
             "startlinecolor": "#2a3f5f"
            },
            "baxis": {
             "endlinecolor": "#2a3f5f",
             "gridcolor": "white",
             "linecolor": "white",
             "minorgridcolor": "white",
             "startlinecolor": "#2a3f5f"
            },
            "type": "carpet"
           }
          ],
          "choropleth": [
           {
            "colorbar": {
             "outlinewidth": 0,
             "ticks": ""
            },
            "type": "choropleth"
           }
          ],
          "contour": [
           {
            "colorbar": {
             "outlinewidth": 0,
             "ticks": ""
            },
            "colorscale": [
             [
              0,
              "#0d0887"
             ],
             [
              0.1111111111111111,
              "#46039f"
             ],
             [
              0.2222222222222222,
              "#7201a8"
             ],
             [
              0.3333333333333333,
              "#9c179e"
             ],
             [
              0.4444444444444444,
              "#bd3786"
             ],
             [
              0.5555555555555556,
              "#d8576b"
             ],
             [
              0.6666666666666666,
              "#ed7953"
             ],
             [
              0.7777777777777778,
              "#fb9f3a"
             ],
             [
              0.8888888888888888,
              "#fdca26"
             ],
             [
              1,
              "#f0f921"
             ]
            ],
            "type": "contour"
           }
          ],
          "contourcarpet": [
           {
            "colorbar": {
             "outlinewidth": 0,
             "ticks": ""
            },
            "type": "contourcarpet"
           }
          ],
          "heatmap": [
           {
            "colorbar": {
             "outlinewidth": 0,
             "ticks": ""
            },
            "colorscale": [
             [
              0,
              "#0d0887"
             ],
             [
              0.1111111111111111,
              "#46039f"
             ],
             [
              0.2222222222222222,
              "#7201a8"
             ],
             [
              0.3333333333333333,
              "#9c179e"
             ],
             [
              0.4444444444444444,
              "#bd3786"
             ],
             [
              0.5555555555555556,
              "#d8576b"
             ],
             [
              0.6666666666666666,
              "#ed7953"
             ],
             [
              0.7777777777777778,
              "#fb9f3a"
             ],
             [
              0.8888888888888888,
              "#fdca26"
             ],
             [
              1,
              "#f0f921"
             ]
            ],
            "type": "heatmap"
           }
          ],
          "heatmapgl": [
           {
            "colorbar": {
             "outlinewidth": 0,
             "ticks": ""
            },
            "colorscale": [
             [
              0,
              "#0d0887"
             ],
             [
              0.1111111111111111,
              "#46039f"
             ],
             [
              0.2222222222222222,
              "#7201a8"
             ],
             [
              0.3333333333333333,
              "#9c179e"
             ],
             [
              0.4444444444444444,
              "#bd3786"
             ],
             [
              0.5555555555555556,
              "#d8576b"
             ],
             [
              0.6666666666666666,
              "#ed7953"
             ],
             [
              0.7777777777777778,
              "#fb9f3a"
             ],
             [
              0.8888888888888888,
              "#fdca26"
             ],
             [
              1,
              "#f0f921"
             ]
            ],
            "type": "heatmapgl"
           }
          ],
          "histogram": [
           {
            "marker": {
             "pattern": {
              "fillmode": "overlay",
              "size": 10,
              "solidity": 0.2
             }
            },
            "type": "histogram"
           }
          ],
          "histogram2d": [
           {
            "colorbar": {
             "outlinewidth": 0,
             "ticks": ""
            },
            "colorscale": [
             [
              0,
              "#0d0887"
             ],
             [
              0.1111111111111111,
              "#46039f"
             ],
             [
              0.2222222222222222,
              "#7201a8"
             ],
             [
              0.3333333333333333,
              "#9c179e"
             ],
             [
              0.4444444444444444,
              "#bd3786"
             ],
             [
              0.5555555555555556,
              "#d8576b"
             ],
             [
              0.6666666666666666,
              "#ed7953"
             ],
             [
              0.7777777777777778,
              "#fb9f3a"
             ],
             [
              0.8888888888888888,
              "#fdca26"
             ],
             [
              1,
              "#f0f921"
             ]
            ],
            "type": "histogram2d"
           }
          ],
          "histogram2dcontour": [
           {
            "colorbar": {
             "outlinewidth": 0,
             "ticks": ""
            },
            "colorscale": [
             [
              0,
              "#0d0887"
             ],
             [
              0.1111111111111111,
              "#46039f"
             ],
             [
              0.2222222222222222,
              "#7201a8"
             ],
             [
              0.3333333333333333,
              "#9c179e"
             ],
             [
              0.4444444444444444,
              "#bd3786"
             ],
             [
              0.5555555555555556,
              "#d8576b"
             ],
             [
              0.6666666666666666,
              "#ed7953"
             ],
             [
              0.7777777777777778,
              "#fb9f3a"
             ],
             [
              0.8888888888888888,
              "#fdca26"
             ],
             [
              1,
              "#f0f921"
             ]
            ],
            "type": "histogram2dcontour"
           }
          ],
          "mesh3d": [
           {
            "colorbar": {
             "outlinewidth": 0,
             "ticks": ""
            },
            "type": "mesh3d"
           }
          ],
          "parcoords": [
           {
            "line": {
             "colorbar": {
              "outlinewidth": 0,
              "ticks": ""
             }
            },
            "type": "parcoords"
           }
          ],
          "pie": [
           {
            "automargin": true,
            "type": "pie"
           }
          ],
          "scatter": [
           {
            "fillpattern": {
             "fillmode": "overlay",
             "size": 10,
             "solidity": 0.2
            },
            "type": "scatter"
           }
          ],
          "scatter3d": [
           {
            "line": {
             "colorbar": {
              "outlinewidth": 0,
              "ticks": ""
             }
            },
            "marker": {
             "colorbar": {
              "outlinewidth": 0,
              "ticks": ""
             }
            },
            "type": "scatter3d"
           }
          ],
          "scattercarpet": [
           {
            "marker": {
             "colorbar": {
              "outlinewidth": 0,
              "ticks": ""
             }
            },
            "type": "scattercarpet"
           }
          ],
          "scattergeo": [
           {
            "marker": {
             "colorbar": {
              "outlinewidth": 0,
              "ticks": ""
             }
            },
            "type": "scattergeo"
           }
          ],
          "scattergl": [
           {
            "marker": {
             "colorbar": {
              "outlinewidth": 0,
              "ticks": ""
             }
            },
            "type": "scattergl"
           }
          ],
          "scattermapbox": [
           {
            "marker": {
             "colorbar": {
              "outlinewidth": 0,
              "ticks": ""
             }
            },
            "type": "scattermapbox"
           }
          ],
          "scatterpolar": [
           {
            "marker": {
             "colorbar": {
              "outlinewidth": 0,
              "ticks": ""
             }
            },
            "type": "scatterpolar"
           }
          ],
          "scatterpolargl": [
           {
            "marker": {
             "colorbar": {
              "outlinewidth": 0,
              "ticks": ""
             }
            },
            "type": "scatterpolargl"
           }
          ],
          "scatterternary": [
           {
            "marker": {
             "colorbar": {
              "outlinewidth": 0,
              "ticks": ""
             }
            },
            "type": "scatterternary"
           }
          ],
          "surface": [
           {
            "colorbar": {
             "outlinewidth": 0,
             "ticks": ""
            },
            "colorscale": [
             [
              0,
              "#0d0887"
             ],
             [
              0.1111111111111111,
              "#46039f"
             ],
             [
              0.2222222222222222,
              "#7201a8"
             ],
             [
              0.3333333333333333,
              "#9c179e"
             ],
             [
              0.4444444444444444,
              "#bd3786"
             ],
             [
              0.5555555555555556,
              "#d8576b"
             ],
             [
              0.6666666666666666,
              "#ed7953"
             ],
             [
              0.7777777777777778,
              "#fb9f3a"
             ],
             [
              0.8888888888888888,
              "#fdca26"
             ],
             [
              1,
              "#f0f921"
             ]
            ],
            "type": "surface"
           }
          ],
          "table": [
           {
            "cells": {
             "fill": {
              "color": "#EBF0F8"
             },
             "line": {
              "color": "white"
             }
            },
            "header": {
             "fill": {
              "color": "#C8D4E3"
             },
             "line": {
              "color": "white"
             }
            },
            "type": "table"
           }
          ]
         },
         "layout": {
          "annotationdefaults": {
           "arrowcolor": "#2a3f5f",
           "arrowhead": 0,
           "arrowwidth": 1
          },
          "autotypenumbers": "strict",
          "coloraxis": {
           "colorbar": {
            "outlinewidth": 0,
            "ticks": ""
           }
          },
          "colorscale": {
           "diverging": [
            [
             0,
             "#8e0152"
            ],
            [
             0.1,
             "#c51b7d"
            ],
            [
             0.2,
             "#de77ae"
            ],
            [
             0.3,
             "#f1b6da"
            ],
            [
             0.4,
             "#fde0ef"
            ],
            [
             0.5,
             "#f7f7f7"
            ],
            [
             0.6,
             "#e6f5d0"
            ],
            [
             0.7,
             "#b8e186"
            ],
            [
             0.8,
             "#7fbc41"
            ],
            [
             0.9,
             "#4d9221"
            ],
            [
             1,
             "#276419"
            ]
           ],
           "sequential": [
            [
             0,
             "#0d0887"
            ],
            [
             0.1111111111111111,
             "#46039f"
            ],
            [
             0.2222222222222222,
             "#7201a8"
            ],
            [
             0.3333333333333333,
             "#9c179e"
            ],
            [
             0.4444444444444444,
             "#bd3786"
            ],
            [
             0.5555555555555556,
             "#d8576b"
            ],
            [
             0.6666666666666666,
             "#ed7953"
            ],
            [
             0.7777777777777778,
             "#fb9f3a"
            ],
            [
             0.8888888888888888,
             "#fdca26"
            ],
            [
             1,
             "#f0f921"
            ]
           ],
           "sequentialminus": [
            [
             0,
             "#0d0887"
            ],
            [
             0.1111111111111111,
             "#46039f"
            ],
            [
             0.2222222222222222,
             "#7201a8"
            ],
            [
             0.3333333333333333,
             "#9c179e"
            ],
            [
             0.4444444444444444,
             "#bd3786"
            ],
            [
             0.5555555555555556,
             "#d8576b"
            ],
            [
             0.6666666666666666,
             "#ed7953"
            ],
            [
             0.7777777777777778,
             "#fb9f3a"
            ],
            [
             0.8888888888888888,
             "#fdca26"
            ],
            [
             1,
             "#f0f921"
            ]
           ]
          },
          "colorway": [
           "#636efa",
           "#EF553B",
           "#00cc96",
           "#ab63fa",
           "#FFA15A",
           "#19d3f3",
           "#FF6692",
           "#B6E880",
           "#FF97FF",
           "#FECB52"
          ],
          "font": {
           "color": "#2a3f5f"
          },
          "geo": {
           "bgcolor": "white",
           "lakecolor": "white",
           "landcolor": "#E5ECF6",
           "showlakes": true,
           "showland": true,
           "subunitcolor": "white"
          },
          "hoverlabel": {
           "align": "left"
          },
          "hovermode": "closest",
          "mapbox": {
           "style": "light"
          },
          "paper_bgcolor": "white",
          "plot_bgcolor": "#E5ECF6",
          "polar": {
           "angularaxis": {
            "gridcolor": "white",
            "linecolor": "white",
            "ticks": ""
           },
           "bgcolor": "#E5ECF6",
           "radialaxis": {
            "gridcolor": "white",
            "linecolor": "white",
            "ticks": ""
           }
          },
          "scene": {
           "xaxis": {
            "backgroundcolor": "#E5ECF6",
            "gridcolor": "white",
            "gridwidth": 2,
            "linecolor": "white",
            "showbackground": true,
            "ticks": "",
            "zerolinecolor": "white"
           },
           "yaxis": {
            "backgroundcolor": "#E5ECF6",
            "gridcolor": "white",
            "gridwidth": 2,
            "linecolor": "white",
            "showbackground": true,
            "ticks": "",
            "zerolinecolor": "white"
           },
           "zaxis": {
            "backgroundcolor": "#E5ECF6",
            "gridcolor": "white",
            "gridwidth": 2,
            "linecolor": "white",
            "showbackground": true,
            "ticks": "",
            "zerolinecolor": "white"
           }
          },
          "shapedefaults": {
           "line": {
            "color": "#2a3f5f"
           }
          },
          "ternary": {
           "aaxis": {
            "gridcolor": "white",
            "linecolor": "white",
            "ticks": ""
           },
           "baxis": {
            "gridcolor": "white",
            "linecolor": "white",
            "ticks": ""
           },
           "bgcolor": "#E5ECF6",
           "caxis": {
            "gridcolor": "white",
            "linecolor": "white",
            "ticks": ""
           }
          },
          "title": {
           "x": 0.05
          },
          "xaxis": {
           "automargin": true,
           "gridcolor": "white",
           "linecolor": "white",
           "ticks": "",
           "title": {
            "standoff": 15
           },
           "zerolinecolor": "white",
           "zerolinewidth": 2
          },
          "yaxis": {
           "automargin": true,
           "gridcolor": "white",
           "linecolor": "white",
           "ticks": "",
           "title": {
            "standoff": 15
           },
           "zerolinecolor": "white",
           "zerolinewidth": 2
          }
         }
        },
        "title": {
         "text": "Predicted HDI Values for Countries without HDI Values"
        },
        "xaxis": {
         "title": {
          "text": "Country"
         }
        },
        "yaxis": {
         "title": {
          "text": "Predicted HDI Value"
         }
        }
       }
      }
     },
     "metadata": {},
     "output_type": "display_data"
    }
   ],
   "source": [
    "temp = HDI_components.copy()\n",
    "X_test = imputer.fit_transform(temp[features])\n",
    "temp['Predicted HDI'] = model.predict(X_test)\n",
    "null_countries = temp[temp['HDI rank'].isnull()]\n",
    "\n",
    "null_countries_fig = go.Figure()\n",
    "for index, row in null_countries.iterrows():\n",
    "    null_countries_fig.add_trace(go.Scatter(x=[row['Country']], y=[row['Predicted HDI']], mode='markers', name=row['Country'], marker=dict(size=row['Predicted HDI']*14)))\n",
    "\n",
    "null_countries_fig.update_layout(title_text=\"Predicted HDI Values for Countries without HDI Values\",\n",
    "                  xaxis_title=\"Country\",\n",
    "                  yaxis_title=\"Predicted HDI Value\")\n",
    "\n",
    "null_countries_fig.show()"
   ]
  },
  {
   "cell_type": "markdown",
   "metadata": {},
   "source": [
    "### Reflection Questions\n",
    "\n",
    "1. Do you think the *predicted* HDI values for the countries without HDI values are *accurate*? Are there any *external* factors to these countries that could be significantly biasing a country's HDI score?\n",
    "\n",
    "2. What *additional* data points or variables could be included to provide a more *comprehensive* understanding of a country's HDI score?\n",
    "   \n",
    "3. In what ways might *cultural* or *historical* contexts impact the evaluation of different dimensions of the HDI?"
   ]
  },
  {
   "cell_type": "markdown",
   "metadata": {},
   "source": [
    "# Conclusion\n",
    "\n",
    "In this notebook, we imported data from the United Nations based on their research on [Human Development Index](https://hdr.undp.org/data-center/human-development-index#/indicies/HDI) to gain valuable insights into the developmental aspects of various countries. We were able to uncover *trends* and *patterns* in HDI scores across different time periods and visualized these trends. \n",
    "\n",
    "By delving into the dimensions that contribute to the HDI, such as life expectancy, education, and standard of living, we gained a *comprehensive* understanding of how these factors collectively shape a country's development landscape.\n",
    "\n",
    "We also utilized the application of *machine-learning* techniques to make predictions and assess the performance of our model in estimating HDI scores. We extended our usage of our machine-learning model by predicting the HDI scores of countries that could not be scored using the formula the United Nations developed. \n",
    "\n",
    "Perhaps you can try *extension* activities such as investigating factors that would *decrease* a country's HDI score. "
   ]
  },
  {
   "cell_type": "markdown",
   "metadata": {},
   "source": [
    "If you'd like to learn more about extensions of HDI provided by the United Nations, see their [technical notes](https://hdr.undp.org/sites/default/files/2021-22_HDR/hdr2021-22_technical_notes.pdf). Some of these extensions include multi-dimensional poverty adjustment and adjusting for inequalities. "
   ]
  },
  {
   "cell_type": "markdown",
   "metadata": {},
   "source": [
    "[![Callysto.ca License](https://github.com/callysto/curriculum-notebooks/blob/master/callysto-notebook-banner-bottom.jpg?raw=true)](https://github.com/callysto/curriculum-notebooks/blob/master/LICENSE.md)"
   ]
  }
 ],
 "metadata": {
  "kernelspec": {
   "display_name": "Python 3",
   "language": "python",
   "name": "python3"
  },
  "language_info": {
   "codemirror_mode": {
    "name": "ipython",
    "version": 3
   },
   "file_extension": ".py",
   "mimetype": "text/x-python",
   "name": "python",
   "nbconvert_exporter": "python",
   "pygments_lexer": "ipython3",
   "version": "3.10.9"
  }
 },
 "nbformat": 4,
 "nbformat_minor": 2
}
