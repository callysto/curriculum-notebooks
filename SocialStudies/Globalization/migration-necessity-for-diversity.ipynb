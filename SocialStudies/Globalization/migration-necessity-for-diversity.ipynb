{
 "cells": [
  {
   "cell_type": "markdown",
   "metadata": {},
   "source": [
    "![Callysto.ca Banner](https://github.com/callysto/curriculum-notebooks/blob/master/callysto-notebook-banner-top.jpg?raw=true)\n",
    "\n",
    "<a href=\"https://hub.callysto.ca/jupyter/hub/user-redirect/git-pull?repo=https%3A%2F%2Fgithub.com%2Fcallysto%2Fcurriculum-notebooks&branch=master&subPath=SocialStudies/Globalization/migration-necessity-for-diversity.ipynb&depth=1\" target=\"_parent\"><img src=\"https://raw.githubusercontent.com/callysto/curriculum-notebooks/master/open-in-callysto-button.svg?sanitize=true\" width=\"123\" height=\"24\" alt=\"Open in Callysto\"/></a>"
   ]
  },
  {
   "cell_type": "markdown",
   "metadata": {},
   "source": [
    "# Migration: Necessity for diversity\n",
    "\n",
    "Early trade routes such as the Silk Road existed in the third century BCE. Not only goods, but also people and ideas travelled those routes. However migration rates increased in 1492 when Columbus made a maiden voyage to the Caribbean. Post World War II, with the evolution of technology, people have been travelling around the world - an era which is often referred to as **Contemporary Globalization**.\n",
    "\n",
    "Let's analyze the current trends of migration around the world. [Organisation for Economic Co-operation and Development (OECD)](https://www.oecd.org/) maintains an [International Migration Database](https://stats.oecd.org/Index.aspx?DataSetCode=MIG#) for member countries. The dataset used in this notebook is a customized version downloaded from that database."
   ]
  },
  {
   "cell_type": "markdown",
   "metadata": {},
   "source": [
    "## Migration chart for various countries\n",
    "Let's first check out what information is available in our dataset. Run the code cells below to see the top 5 rows."
   ]
  },
  {
   "cell_type": "code",
   "execution_count": null,
   "metadata": {},
   "outputs": [],
   "source": [
    "# Import Python libraries\n",
    "import pandas as pd\n",
    "import plotly.express as px\n",
    "import plotly.graph_objects as go\n",
    "from ipywidgets import interact, fixed, widgets, Layout, Button, Box, fixed, HBox, VBox\n",
    "from IPython.display import clear_output\n",
    "\n",
    "# Don't show warnings in output\n",
    "import warnings\n",
    "warnings.filterwarnings('ignore')\n",
    "print('Libraries successfully imported.')"
   ]
  },
  {
   "cell_type": "code",
   "execution_count": null,
   "metadata": {},
   "outputs": [],
   "source": [
    "# Import the dataset (remove rows with missing entries)\n",
    "df = pd.read_csv('https://raw.githubusercontent.com/callysto/data-files/main/SocialStudies/Globalization/OECD_Full_Data.csv')\n",
    "\n",
    "# Data clean up - remove the rows for which countries are not available, rename columns\n",
    "df = df[~df['Country of birth/nationality'].isin(['Unknown','Not stated','Stateless','Total'])]\\\n",
    "       .rename(columns={'Value':'Migrated Population','CO2':'Country Code'})\n",
    "\n",
    "# Display the top 5 rows\n",
    "df.head()"
   ]
  },
  {
   "cell_type": "markdown",
   "metadata": {},
   "source": [
    "The dataset comprises of *inflow of foreign population (along with their nationalities)* in a country for various years. \n",
    "\n",
    "Run the code cells below and select the **Country** and **Year** for which you want to analyze data. Then click on `Show Migration Chart` button to see the [choropleth map](https://en.wikipedia.org/wiki/Choropleth_map)."
   ]
  },
  {
   "cell_type": "code",
   "execution_count": null,
   "metadata": {},
   "outputs": [],
   "source": [
    "# Define a callback function for \"Show Migration Chart\" button\n",
    "def show_migration_chart(ev):\n",
    "    \n",
    "    clear_output(wait=True)\n",
    "    \n",
    "    # Define display order for the buttons and menus\n",
    "    display(Box(children = [country_menu, year_menu], layout = box_layout))\n",
    "    display(VBox(children = [show_button], layout = Layout(display= 'flex', flex_flow= 'column', align_items= 'center', width='100%', justify_content = 'center')))\n",
    "\n",
    "    # Find rows in the dataset for user-selected country and year\n",
    "    subset = df[df['Country'] == country_menu.value][df['Year'] == year_menu.value]\n",
    "    \n",
    "    # Is data available for user-selected entries?\n",
    "    if(subset.shape[0] == 0):\n",
    "        print('Data not available... :-(')\n",
    "    else:\n",
    "        # Plot choropleth map\n",
    "        fig = px.choropleth(subset,   # dataframe with required data \n",
    "                    locations=\"Country Code\",   # Column containing country codes\n",
    "                    color=\"Migrated Population\",   # Color of country should be based on population migrated\n",
    "                    hover_name=\"Country of birth/nationality\", # title to add to hover information\n",
    "                    hover_data=[\"Migrated Population\"],   # data to add to hover information\n",
    "                    color_continuous_scale=px.colors.sequential.Reds,\n",
    "                            \n",
    "                    # Title of the chart\n",
    "                    title='Inflow of foreign population to {} (Year {})<br>\\\n",
    "Source: <a href=\"https://stats.oecd.org/Index.aspx?DataSetCode=MIG#\">OECD</a>'\\\n",
    ".format(country_menu.value, year_menu.value)\n",
    "                   )\n",
    "        \n",
    "        # Show the figure\n",
    "        fig.show()\n",
    "print('Successfully defined the show_migration_chart, now run the next cell and click the button to see the map.')"
   ]
  },
  {
   "cell_type": "code",
   "execution_count": null,
   "metadata": {},
   "outputs": [],
   "source": [
    "# Layout for widgets\n",
    "box_layout = Layout(display='flex', flex_flow='row', align_items='center', width='100%', justify_content = 'center')\n",
    "style = {'description_width': 'initial'}\n",
    "\n",
    "# Create dropdown menu for Country and Year\n",
    "country_menu = widgets.Dropdown(options = df['Country'].unique(), description ='Country: ', style = style, disabled=False)\n",
    "year_menu = widgets.Dropdown(options = df['Year'].unique(), description ='Year: ', style = style, disabled=False)\n",
    "\n",
    "# Create Show Migration Flow button and define click events\n",
    "show_button = widgets.Button(button_style= 'info', description=\"Show Migration Chart\")\n",
    "show_button.on_click(show_migration_chart)\n",
    "\n",
    "# Define display order for the buttons and menus\n",
    "display(Box(children = [country_menu, year_menu], layout = box_layout))\n",
    "display(VBox(children = [show_button], layout = Layout(display= 'flex', flex_flow= 'column', align_items= 'center', width='100%', justify_content = 'center')))"
   ]
  },
  {
   "cell_type": "markdown",
   "metadata": {},
   "source": [
    "Hover the mouse around and check out how many people migrated to your selected country.\n",
    "\n",
    "### Questions:\n",
    "1. List the top 3 countries with most inflow of population to Canada in 2017. (Hint: One of the countries is an island)\n",
    "\n",
    "#### Discussion Questions:\n",
    "2. How have immigrants contributed economically, politically, and socially in Canada? \n",
    "3. Why do people migrate to another country despite the various challenges associated with migration? Discuss how those reasons present bright ro dark side of globalization."
   ]
  },
  {
   "cell_type": "markdown",
   "metadata": {},
   "source": [
    "## Migration statistics for Alberta\n",
    "\n",
    "Let's take a look at the migration data for Alberta made available by the [Alberta Government](https://open.alberta.ca/dataset/mobility-migrants-alberta-census-divisions-and-economic-regions/resource/f4832d23-430e-4b49-a324-560e6a404efb). First we'll see what parameters are in the dataset."
   ]
  },
  {
   "cell_type": "code",
   "execution_count": null,
   "metadata": {
    "scrolled": true
   },
   "outputs": [],
   "source": [
    "# Import the dataset (remove unnecessary columns)\n",
    "df2 = pd.read_csv('https://raw.githubusercontent.com/callysto/data-files/main/SocialStudies/Globalization/AB_Migrants_Data.csv').dropna().drop(columns=['Net Intraprovincial Migrants','SGC'])\n",
    "\n",
    "# Convert \"Year\" in the data from interval format to a number\n",
    "df2['Year'] = df2['Year'].str[-4:].astype('int')\n",
    "\n",
    "# Show top 5 rows\n",
    "df2.head()"
   ]
  },
  {
   "cell_type": "markdown",
   "metadata": {},
   "source": [
    "Before we go ahead, it would be helpful to understand each parameter in the dataset. Please go through the [glossary](https://www150.statcan.gc.ca/n1/pub/91-528-x/2015001/gloss-eng.htm) page of [Statistics Canada](https://www.statcan.gc.ca/eng/start) to get familiar with the parameters. If you are interested in how they are calculated, more information is available [here](https://www150.statcan.gc.ca/n1/en/pub/91-528-x/91-528-x2015001-eng.pdf?st=iYlctk02)."
   ]
  },
  {
   "cell_type": "code",
   "execution_count": null,
   "metadata": {},
   "outputs": [],
   "source": [
    "# Create a plotly figure object (like an empty figure)\n",
    "fig = go.Figure()\n",
    "\n",
    "# Create traces\n",
    "for i in df2.columns[1:]:\n",
    "    \n",
    "    # Add trace for each column (variable) in dataset\n",
    "    fig.add_trace(go.Scatter(x=df2['Year'], y=df2[i],\n",
    "                    mode='lines+markers',\n",
    "                    name=i))\n",
    "\n",
    "# Change the figure layout\n",
    "fig.update_layout(\n",
    "    \n",
    "    # Change properties of x-axis\n",
    "    xaxis=dict(\n",
    "        linecolor='rgb(204, 204, 204)',   # color of x-axis\n",
    "        mirror=True,   # should axis be mirrored?\n",
    "        linewidth=2,   # width of x-axis\n",
    "        ticks='outside',   # location of x-ticks\n",
    "        tickfont=dict(\n",
    "            size=14,   # size of x-ticks\n",
    "            color='rgb(82, 82, 82)',   # color of x-ticks\n",
    "        ),\n",
    "    ),\n",
    "    \n",
    "    # Change properties of y-axis\n",
    "    yaxis=dict(\n",
    "        title=dict(   \n",
    "            text = 'Migrant Population<br>(in thousands)',   # y-axis title\n",
    "            font=dict(\n",
    "                size=16,   # size of y-axis title\n",
    "            )\n",
    "        ),\n",
    "        linecolor='rgb(204, 204, 204)',   # color of y-axis\n",
    "        mirror=True,   # should axis be mirrored?\n",
    "        linewidth=2,   # width of y-axis\n",
    "        ticks='outside',   # location of y-ticks\n",
    "        tickfont=dict(\n",
    "            size=14,   # size of y-ticks\n",
    "            color='rgb(82, 82, 82)',   # color of y-ticks\n",
    "        ),\n",
    "    ),\n",
    "    plot_bgcolor='white',   # Background color\n",
    "    legend_orientation=\"h\",   # Orientation of legend\n",
    "    \n",
    "    # Title for the figure (as an annotation)\n",
    "    annotations=[dict(xref='paper',   \n",
    "                      yref='paper', \n",
    "                      x=0.5, y=1.2,   # Position of the title\n",
    "                      xanchor='center', yanchor='top',\n",
    "                      text='Migration Statistics for Alberta<br>(1971-2019)',   # Text of the title\n",
    "                      font=dict(size=18),   # Font size of the title\n",
    "                      showarrow=False)]\n",
    ")\n",
    "\n",
    "# Show the figure\n",
    "fig.show()"
   ]
  },
  {
   "cell_type": "markdown",
   "metadata": {},
   "source": [
    "Hover the mouse around the graph to see the annual data for the parameter you like. Also, you can enable or disable particular dataset by clicking on the legend for that dataset. "
   ]
  },
  {
   "cell_type": "markdown",
   "metadata": {},
   "source": [
    "### Questions\n",
    "\n",
    "1. Which two parameters have similar trends? Why do you think that might be?\n",
    "2. Which trend has mostly gone upwards since the year 2000?"
   ]
  },
  {
   "cell_type": "markdown",
   "metadata": {},
   "source": [
    "[![Callysto.ca License](https://github.com/callysto/curriculum-notebooks/blob/master/callysto-notebook-banner-bottom.jpg?raw=true)](https://github.com/callysto/curriculum-notebooks/blob/master/LICENSE.md)"
   ]
  }
 ],
 "metadata": {
  "interpreter": {
   "hash": "d1ca6d17674200220921376aaeb3d36cffe15ecab2470a9a5e7a456cdbf61425"
  },
  "kernelspec": {
   "display_name": "Python 3.10.1 64-bit",
   "language": "python",
   "name": "python3"
  },
  "language_info": {
   "codemirror_mode": {
    "name": "ipython",
    "version": 3
   },
   "file_extension": ".py",
   "mimetype": "text/x-python",
   "name": "python",
   "nbconvert_exporter": "python",
   "pygments_lexer": "ipython3",
   "version": "3.10.1"
  },
  "nbTranslate": {
   "displayLangs": [
    "*"
   ],
   "hotkey": "alt-t",
   "langInMainMenu": true,
   "sourceLang": "en",
   "targetLang": "fr",
   "useGoogleTranslate": true
  }
 },
 "nbformat": 4,
 "nbformat_minor": 2
}
