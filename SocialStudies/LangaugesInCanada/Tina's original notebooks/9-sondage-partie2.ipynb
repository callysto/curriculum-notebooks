{
 "cells": [
  {
   "cell_type": "markdown",
   "id": "07312eca-4cc2-480a-a831-d300141955e0",
   "metadata": {},
   "source": [
    "![Callysto.ca Banner](https://github.com/callysto/curriculum-notebooks/blob/master/callysto-notebook-banner-top.jpg?raw=true)"
   ]
  },
  {
   "cell_type": "markdown",
   "id": "61d762aa-7656-4bc7-9c86-68913e3e327a",
   "metadata": {
    "tags": []
   },
   "source": [
    "# L'analyse de sondage : Partie II<br><br>Les perceptions sur la langue et l'appartenance<br><br>"
   ]
  },
  {
   "cell_type": "markdown",
   "id": "a98d956d-a9cc-4b82-be8b-606cc1846981",
   "metadata": {},
   "source": [
    "Bievenue au deuxième notebook d'analyse de sondage dans lequel nous transformerons les données."
   ]
  },
  {
   "cell_type": "markdown",
   "id": "705f70e8-30b0-4788-a793-cdcc2f9277e6",
   "metadata": {},
   "source": [
    "Pour démarrer le notebook et effectuer le code dans toutes les cellules, cliquez sur `Cell` dans le menu et sélectionnez `Run All`. Retournez en haut da la page après le chargement des cellules.\n",
    "\n",
    "![instructions](https://github.com/callysto/data-viz-of-the-week/blob/main/images/instructions.png?raw=true)\n",
    "\n",
    "Veuillez envoyer un courriel à l'adresse contact@callysto.ca si vous rencontrez des problèmes avec le notebook.\n",
    "<br><br>"
   ]
  },
  {
   "cell_type": "markdown",
   "id": "c470c33c-96e5-4922-99cf-d013bf566923",
   "metadata": {
    "jp-MarkdownHeadingCollapsed": true,
    "tags": []
   },
   "source": [
    "## La démarche: les étapes d'analyses des données\n",
    "\n",
    "Rechargement de la Partie I\n",
    "1. **Questionner** - Formuler la question de recherche.\n",
    "2. **Sélectionner** - Trouver les bibliothèques de python et les sources de données pour répondre à la question de recherche.\n",
    "3. **Organiser** - Mettre en forme les données afin de les préparer pour l'exploration.\n",
    "<br><br>\n",
    "Partie II\n",
    "4. **Explorer** - Analyser les données et les représenter par les visualisations.\n",
    "5. **Interpréter** - Expliquer les observations obtenues à partir des visualisations.\n",
    "6. **Communiquer** - Tirer une conclusion à la question, basée sur l'interprétation des données.\n",
    "<br><br>"
   ]
  },
  {
   "cell_type": "markdown",
   "id": "90309745-6959-4a0b-8957-78301295a2d4",
   "metadata": {},
   "source": [
    "## Questionner"
   ]
  },
  {
   "cell_type": "markdown",
   "id": "95ea320b-7497-45b9-9bc8-65d1795b9e3b",
   "metadata": {},
   "source": [
    "**Comment détermine-t'on l'impact des interactions sur les perceptions d'identité?**\n",
    "<br><br>"
   ]
  },
  {
   "cell_type": "markdown",
   "id": "bff95950-f9ea-4f77-91eb-38fcd831c232",
   "metadata": {},
   "source": [
    "## Sélectionner"
   ]
  },
  {
   "cell_type": "markdown",
   "id": "6c87c50f-a914-40a3-ab3f-77bdd7d3ba4a",
   "metadata": {
    "tags": []
   },
   "source": [
    "### Le chargement des bibliothèques"
   ]
  },
  {
   "cell_type": "code",
   "execution_count": null,
   "id": "6979054f-292a-4a51-90e0-971b7771c3dd",
   "metadata": {},
   "outputs": [],
   "source": [
    "import pandas as pd\n",
    "import numpy as np\n",
    "import plotly.express as px\n",
    "import warnings\n",
    "warnings.filterwarnings(\"ignore\")"
   ]
  },
  {
   "cell_type": "markdown",
   "id": "feb0691b-aef1-4182-afa0-58ab4ea56af2",
   "metadata": {},
   "source": [
    "### La source de données\n",
    "\n",
    "📕 "
   ]
  },
  {
   "cell_type": "markdown",
   "id": "10f48e57-f9a7-41a4-ab89-cb4d6f5c7555",
   "metadata": {},
   "source": [
    "**Données ouvertes** [Attribution (CC-BY 4.0)](https://www.donneesquebec.ca/licence/#cc-by)\n",
    "<br><br>Ville de Montréal. (2020). Sondage Écho sur l'inclusion des personnes immigrantes. [Jeu de données]. Partenariat Données Québec. https://www.donneesquebec.ca/recherche/dataset/vmtl-sondage-inclusion-personnes-immigrantes\n",
    "<br><br>"
   ]
  },
  {
   "cell_type": "markdown",
   "id": "2ca0d714-fd79-44de-bdc1-fce097deec82",
   "metadata": {},
   "source": [
    "### Le chargement des données"
   ]
  },
  {
   "cell_type": "code",
   "execution_count": null,
   "id": "72cea243-6a15-4157-b352-19c05efc44a6",
   "metadata": {},
   "outputs": [],
   "source": [
    "data = pd.read_csv(\"data/2020-sondage-echo-recodage.csv\")\n",
    "data"
   ]
  },
  {
   "cell_type": "markdown",
   "id": "b81e9c8b-9cca-417c-99b1-df9f59af2f20",
   "metadata": {},
   "source": [
    "L'ensemble de données fait 2 421 lignes après la suppression des lignes avec les questions non répondues. Il y a 28 colonnes au lieu de 36 colonnes après la mise en forme, ce qui fait 67 788 points de données."
   ]
  },
  {
   "cell_type": "markdown",
   "id": "8b457a61-cf29-45a7-86b1-d98aefd89299",
   "metadata": {},
   "source": [
    "Nous chargeons également un ensemble de données des langues parlées à Montréal selon le recensement de 2021."
   ]
  },
  {
   "cell_type": "code",
   "execution_count": null,
   "id": "d406ef3a-8c85-416c-88d9-3e068b68c150",
   "metadata": {},
   "outputs": [],
   "source": [
    "data_langues = pd.read_csv(\"data/2021-langues-montreal.csv\")\n",
    "data_langues.head()"
   ]
  },
  {
   "cell_type": "markdown",
   "id": "94bc820f-1b6a-404f-8e19-7bd757ad0e17",
   "metadata": {},
   "source": [
    "## Organiser"
   ]
  },
  {
   "cell_type": "markdown",
   "id": "b2e7b8ad-aeae-40cf-871a-09092e43c11e",
   "metadata": {},
   "source": [
    "📕 Revenons à la question de recherche de l'impact des interactions sur les perceptions d'identité, il faut identifier et comprendre les variables liées afin d'organiser les données pour l'exploration.\n",
    "\n",
    "Pour obtenir plus de renseignements sur la Ville de Montréal, consultez [https://fr.wikipedia.org/wiki/Montréal](https://fr.wikipedia.org/wiki/Montréal)."
   ]
  },
  {
   "cell_type": "markdown",
   "id": "652c52b9-e913-4bfb-98c8-c707a77e64f0",
   "metadata": {},
   "source": [
    "## Les variables visées après le recodage dans le notebook de la Partie I"
   ]
  },
  {
   "cell_type": "markdown",
   "id": "d202c16b-d075-42c3-bf36-2bd73c676ab9",
   "metadata": {
    "tags": []
   },
   "source": [
    "|Variable     |Question |Réponse  |\n",
    "|:-------------|:-------------|:-------------|\n",
    "|record|identifiant unique du répondant||\n",
    "|sexe|Vous identifiez-vous comme:|Un homme, Une femme|6 Autre|\n",
    "|age|Quel âge avez-vous?|Moins de 18 ans, De 18 à 24 ans, De 25 à 34 ans, De 35 à 44 ans, De 45 à 54 ans, De 55 à 64 ans, De 65 à 74 ans, 75 ans ou plus|\n",
    "|NAISS|NAISSANCE: Êtes-vous né au Canada?|Oui,  Non|\n",
    "|LANGUE|LANGUE: Quelle est la langue que vous avez apprise en premier lieu à la maison dans votre enfance et que vous comprenez toujours?|Français, Anglais, Autre, Je préfère ne pas répondre|\n",
    "|MINO|Considérez-vous appartenir à une minorité visible?|Oui, Non, Je préfère ne pas répondre|\n",
    "|Q2r1|Je comprends le français|5 Parfaitement, 4 Très bien, 3 Plutôt bien, 2 Pas très bien, 1 Pas du tout|\n",
    "|Q2r2|Je parle le français|5 Parfaitement, 4 Très bien, 3 Plutôt bien, 2 Pas très bien, 1 Pas du tout|\n",
    "|Q2r3|Je lis en français|5 Parfaitement, 4 Très bien, 3 Plutôt bien, 2 Pas très bien, 1 Pas du tout|\n",
    "|Q2r4|J’écris en français|5 Parfaitement, 4 Très bien, 3 Plutôt bien, 2 Pas très bien, 1 Pas du tout|\n",
    "|Q2r5|Je comprends l’anglais|5 Parfaitement, 4 Très bien, 3 Plutôt bien, 2 Pas très bien, 1 Pas du tout|\n",
    "|Q2r6|Je parle l’anglais|5 Parfaitement, 4 Très bien, 3 Plutôt bien, 2 Pas très bien, 1 Pas du tout|\n",
    "|Q2r7|Je lis l’anglais|5 Parfaitement, 4 Très bien, 3 Plutôt bien, 2 Pas très bien, 1 Pas du tout|\n",
    "|Q2r8|J’écris en anglais|5 Parfaitement, 4 Très bien, 3 Plutôt bien, 2 Pas très bien, 1 Pas du tout|\n",
    "|Q42|Vous sentez-vous Montréalais.e?|5 Oui, je me sens tout à fait Montréalais.e, 4 Oui, je me sens plutôt Montréalais.e, 3 Je ne sais pas, 2 Je ne me sens pas vraiment, 1 Je ne me sens pas du tout Montréalais.eMontréalais.e|\n",
    "|Q46|Vous sentez-vous isolé à Montréal?|Codée à l'envers: 1 Beaucoup, 2 Assez, 3 Je ne sais pas, 4 Peu, 5 Pas du tout|\n",
    "|Q47|Parmi tous vos amis, combien d’entre eux/elles ont la même langue maternelle que vous?|5 Tous/Toutes, 4 La majorité, 3 À peu près la moitié, 2 Quelques-uns / Quelques-unes, 1 Aucun(e)|\n",
    "|Q52r1|Votre sexe? - Au cours des cinq dernières années, ou depuis votre arrivée à Montréal, croyez-vous avoir été victime de discrimination ou traité injustement par d’autres personnes, à Montréal, à cause de...|Oui, Non, Je ne sais pas, Je préfère ne pas répondre|\n",
    "|Q52r2|Votre appartenance ethnique ou nationale? - Au cours des cinq dernières années, ou depuis votre arrivée à Montréal, croyez-vous avoir été victime de discrimination ou traité injustement par d’autres personnes, à Montréal, à cause de...|Oui, Non, Je ne sais pas, Je préfère ne pas répondre|\n",
    "|Q52r3|La couleur de votre peau? - Au cours des cinq dernières années, ou depuis votre arrivée à Montréal, croyez-vous avoir été victime de discrimination ou traité injustement par d’autres personnes, à Montréal, à cause de...|Oui, Non, Je ne sais pas, Je préfère ne pas répondre|\n",
    "|Q52r4|Votre condition sociale? - Au cours des cinq dernières années, ou depuis votre arrivée à Montréal, croyez-vous avoir été victime de discrimination ou traité injustement par d’autres personnes, à Montréal, à cause de...|Oui, Non, Je ne sais pas, Je préfère ne pas répondre|\n",
    "|Q52r5|Votre religion? - Au cours des cinq dernières années, ou depuis votre arrivée à Montréal, croyez-vous avoir été victime de discrimination ou traité injustement par d’autres personnes, à Montréal, à cause de...|Oui, Non, Je ne sais pas, Je préfère ne pas répondre|\n",
    "|Q52r6|Votre orientation sexuelle? - Au cours des cinq dernières années, ou depuis votre arrivée à Montréal, croyez-vous avoir été victime de discrimination ou traité injustement par d’autres personnes, à Montréal, à cause de...|Oui, Non, Je ne sais pas, Je préfère ne pas répondre|\n",
    "|Q52r7|Votre âge? - Au cours des cinq dernières années, ou depuis votre arrivée à Montréal, croyez-vous avoir été victime de discrimination ou traité injustement par d’autres personnes, à Montréal, à cause de...|Oui, Non, Je ne sais pas, Je préfère ne pas répondre|\n",
    "|Q52r8|Une limitation fonctionnelle? - Au cours des cinq dernières années, ou depuis votre arrivée à Montréal, croyez-vous avoir été victime de discrimination ou traité injustement par d’autres personnes, à Montréal, à cause de...|Oui, Non, Je ne sais pas, Je préfère ne pas répondre|\n",
    "|Q52r9|Votre langue ou votre accent? - Au cours des cinq dernières années, ou depuis votre arrivée à Montréal, croyez-vous avoir été victime de discrimination ou traité injustement par d’autres personnes, à Montréal, à cause de...|Oui, Non, Je ne sais pas, Je préfère ne pas répondre|"
   ]
  },
  {
   "cell_type": "markdown",
   "id": "84db6dbd-6d2a-4a04-b6a5-8187f4372574",
   "metadata": {},
   "source": [
    "🔎 Quelles sont les variables sociodémographiques?\n",
    "\n",
    "🔎 Quelles sont les variables linguistiques?\n",
    "\n",
    "🔎 Quelles variables représentent les interactions?\n",
    "\n",
    "🔎 Quelles variables représentent les sentiments?\n",
    "\n",
    "🔎 Quelles variables représentent l'identité?\n",
    "\n",
    "🔎 Comment est-ce que l'intersectionnalité est représentée?\n",
    "\n",
    "🔎 Quelles sont les variables ordinales (exhibent un ordre)? et nominales (décrivent des noms sans ordre)? Pouvez-vous commencer à voir comment vous pouvez analyser ces types de variables?\n",
    "\n",
    "🔎 Les variables seront-elles toutes utiles pour répondre à la question de recherche? "
   ]
  },
  {
   "cell_type": "markdown",
   "id": "3729f2e1-69b5-4c43-ac31-82ab49ab1c46",
   "metadata": {},
   "source": [
    "🔎 Quels sont les impacts potentiels de la représentation des données de ces questions?"
   ]
  },
  {
   "cell_type": "markdown",
   "id": "368f402f-ed16-46c6-89df-aed5e5edea6c",
   "metadata": {},
   "source": [
    "✏️"
   ]
  },
  {
   "cell_type": "markdown",
   "id": "6552ef03-ebca-4c2d-b776-92c3cdfd1944",
   "metadata": {},
   "source": [
    "## Explorer"
   ]
  },
  {
   "cell_type": "markdown",
   "id": "3887b0cd-c183-4748-99f3-36fef6dcd21a",
   "metadata": {},
   "source": [
    "Vous trouverez les notes sur le code dans la cellule en italique vert après le `#`."
   ]
  },
  {
   "cell_type": "markdown",
   "id": "1e880ca3-ba11-4ff3-8533-6348931c3b73",
   "metadata": {},
   "source": [
    "### L'échantillon"
   ]
  },
  {
   "cell_type": "code",
   "execution_count": null,
   "id": "2d5e5a00-ed2d-4a57-b03b-c0ad007b75c2",
   "metadata": {},
   "outputs": [],
   "source": [
    "premiere_langue__echantillon_bandes = px.histogram(data, x=\"LANGUE\",color=\"LANGUE\", \n",
    "                                      color_discrete_sequence=px.colors.diverging.Portland, \n",
    "                                      title=\"Montréal en 2020: La(les) première(s) langue(s) parlée(s) par les répondant.e.s du sondage\")\n",
    "premiere_langue__echantillon_bandes.update_layout(xaxis={\"categoryorder\":\"total descending\"})\n",
    "premiere_langue__echantillon_bandes.update_layout(autosize=True, height=800)"
   ]
  },
  {
   "cell_type": "markdown",
   "id": "87317372-b433-4d84-a6e4-8f0ec20b74e1",
   "metadata": {},
   "source": [
    "🔎 Quelle est la langue majoritaire de l'échantillon?\n",
    "\n",
    "🔎 Quelles sont les cinq autres premières langues parlées plus fréquemment?\n",
    "\n",
    "🔎 Examinez comment les répondants eux-mêmes ont rapporté leurs langues. Que remarquez-vous?"
   ]
  },
  {
   "cell_type": "code",
   "execution_count": null,
   "id": "fcc290a1-192c-469d-b8e6-9e304c91f2d6",
   "metadata": {},
   "outputs": [],
   "source": [
    "df_langue_maternelle = data_langues.loc[data_langues[\"QUESTION\"] == \"Langue maternelle\"]\n",
    "df_langue_maternelle = df_langue_maternelle.sort_values(\"LANGUE\", ascending=True)\n",
    "\n",
    "langues_maternelles_recensement_bandes = px.histogram(df_langue_maternelle, x=\"LANGUE\", y=\"CHIFFRE_TOTAL\", color=\"LANGUE\", \n",
    "                                      color_discrete_sequence=px.colors.diverging.Portland, \n",
    "                                      title=\"Montréal en 2021: La(les) langue(s) maternelle(s) selon le recensement\")\n",
    "langues_maternelles_recensement_bandes.update_layout(xaxis={\"categoryorder\":\"total descending\"})\n",
    "langues_maternelles_recensement_bandes.update_layout(autosize=True, height=800)"
   ]
  },
  {
   "cell_type": "markdown",
   "id": "f8aff4cb-fae4-4cda-981f-46aaac7c7e4e",
   "metadata": {},
   "source": [
    "🔎 Quelle est la langue majoritaire à Montréal selon le recensement?\n",
    "\n",
    "🔎 Quelles sont les cinq autres langues maternelles plus fréquentes?\n",
    "\n",
    "🔎 Examinez comment Statistique Canada a rapporté les langues. Que remarquez-vous?"
   ]
  },
  {
   "cell_type": "markdown",
   "id": "874aa56c-23ef-4099-926d-30f8db870f6e",
   "metadata": {},
   "source": [
    "💻 Calculez le pourcentage de l'échantillon de la population de Montréal. Ensuite, calculez les pourcentages des langues plus fréquentes afin de comparer l'échantillon et le recensement. Selon [le recensement de 2021](https://census.gc.ca/census-recensement/2021/dp-pd/prof/details/page.cfm?LANG=F&GENDERlist=1,2,3&STATISTIClist=1,4&DGUIDlist=2021S0503462&HEADERlist=22,,54,53,14,,21,19&SearchText=montreal), la population à Montréal est 4 246 060."
   ]
  },
  {
   "cell_type": "code",
   "execution_count": null,
   "id": "234d489a-9c27-4fcf-b542-d6ea16b03af0",
   "metadata": {},
   "outputs": [],
   "source": [
    "# L'échantillon: le nombre de répondants qui ont répondu au sondage divisé par `/` la population de Montréal multiplié par `*` 100 pour le pourcentage\n",
    "\n",
    "2421 / 4246060 * 100"
   ]
  },
  {
   "cell_type": "code",
   "execution_count": null,
   "id": "91e909e0-22db-4959-99d2-a9042057d05d",
   "metadata": {},
   "outputs": [],
   "source": [
    "# Le nombre de répondants qui ont rapporté le français comme première langue parlée divisé par le nombre de répondants qui ont participé dans le sondage nous donne le pourcentage des répondants avec le français comme première langue\n",
    "\n",
    "1488 / 2421 *100"
   ]
  },
  {
   "cell_type": "code",
   "execution_count": null,
   "id": "2365f657-9a2d-4466-88fe-11ef2d7f9e33",
   "metadata": {
    "tags": []
   },
   "outputs": [],
   "source": [
    "# Le nombre de la population de Montréal qui ont rapporté le français comme langue maternelle divisé par la population de Montréal nous donne le pourcentage des Montréalais.e.s avec le français comme langue maternelle\n",
    "\n",
    "2543265 / 4246060 * 100"
   ]
  },
  {
   "cell_type": "markdown",
   "id": "9d2d865b-748e-4643-afc6-922dc55db8c9",
   "metadata": {
    "tags": []
   },
   "source": [
    "## Interpréter"
   ]
  },
  {
   "cell_type": "markdown",
   "id": "ac9d0c26-f146-4909-b842-b1ff079eb452",
   "metadata": {},
   "source": [
    "🔎 De côté linguistique, l'échantillon est-il représentatif de la population?"
   ]
  },
  {
   "cell_type": "markdown",
   "id": "2da4dc98-ed7f-46dd-b670-15da9a4fc0f3",
   "metadata": {},
   "source": [
    "✏️"
   ]
  },
  {
   "cell_type": "markdown",
   "id": "57090f68-63a0-410c-adc9-34d0edc2b16f",
   "metadata": {},
   "source": [
    "### L'exploration des variables ordinales sur les compétences langagières et le sentiment d'appartenance"
   ]
  },
  {
   "cell_type": "markdown",
   "id": "d0ead3c8-6697-455f-9b57-70d1142c5438",
   "metadata": {},
   "source": [
    "Formatons un dataframe du court au long pour générer les fréquences des sélections."
   ]
  },
  {
   "cell_type": "code",
   "execution_count": null,
   "id": "d6f2c931-df58-431d-a353-2071018b936f",
   "metadata": {},
   "outputs": [],
   "source": [
    "df_court_long = pd.melt(data, id_vars =[\"record\"], value_vars =(data.loc[:, \"Q2r1\" : \"Q47\"]), var_name=\"Question\", value_name=\"Réponse\")\n",
    "df_ascendant = df_court_long.sort_values([\"record\",\"Réponse\"])\n",
    "df_questions = df_ascendant.rename(columns={\"record\": \"Participant\"})\n",
    "df_questions.head()"
   ]
  },
  {
   "cell_type": "markdown",
   "id": "599073de-1136-4a34-81bd-a8b3d8964506",
   "metadata": {},
   "source": [
    "Nous vérifions les sélections dans la colonne `Réponse` avec leurs fréquences."
   ]
  },
  {
   "cell_type": "code",
   "execution_count": null,
   "id": "9b874e25-8342-4a56-9cd1-fe7a9477eb24",
   "metadata": {},
   "outputs": [],
   "source": [
    "df_valeurs = df_questions[\"Réponse\"]\n",
    "df_valeurs.value_counts()"
   ]
  },
  {
   "cell_type": "markdown",
   "id": "8d3c9668-059d-4647-a2f0-0fb68841f118",
   "metadata": {},
   "source": [
    "📕 Nous créons une visualisation pour afficher toutes les données des variables ordinales. Notons les espaces vides dans le diagramme à lignes brisées ci-dessous. Il y a 2 451 lignes, une ligne pour chaque participant qui a répondu à ces questions du sondage. \n",
    "\n",
    "Nous voyons que la majorité des sélections des quatre premières questions sur les compétences en français (Q2r1-Q2r4) sont entre 3 et 5. "
   ]
  },
  {
   "cell_type": "code",
   "execution_count": null,
   "id": "d1592810-31df-4995-92b5-f7b20f3b2ec7",
   "metadata": {},
   "outputs": [],
   "source": [
    "sondage_participant = px.line(df_questions, y=\"Réponse\", x=\"Question\", \n",
    "                              color=\"Participant\", color_discrete_sequence=px.colors.diverging.Portland, \n",
    "                              title=\"Le français et l'anglais:<br>les sélections des participants sur les compétences langagières et le sentiment d'appartenance\")\n",
    "sondage_participant.update_layout(showlegend=False, hovermode=False)\n",
    "sondage_participant.update_xaxes(categoryorder=\"array\", categoryarray= [\"Q2r1\", \"Q2r2\", \"Q2r3\", \"Q2r4\", \"Q2r5\", \"Q2r6\", \"Q2r7\", \"Q2r8\", \"Q42\", \"Q46\", \"Q47\"])\n",
    "sondage_participant.update_layout(autosize=True, height=450)\n",
    "sondage_participant.show()"
   ]
  },
  {
   "cell_type": "markdown",
   "id": "a1fd8cee-b988-4fea-ac2f-52b169b3485d",
   "metadata": {},
   "source": [
    "🔎 Pouvez-vous voir d'autres tendances?"
   ]
  },
  {
   "cell_type": "markdown",
   "id": "698a8cb0-8725-42ac-b8bb-c4e8be91112f",
   "metadata": {},
   "source": [
    "✏️"
   ]
  },
  {
   "cell_type": "markdown",
   "id": "e838f58b-0ee0-4cf7-a418-2e58c669a168",
   "metadata": {},
   "source": [
    "📕 Nous générons un tableau croisé pour calculer les fréquences de chaque sélection de chaque question. Notons les totaux pour chaque sélection de 1 à 5."
   ]
  },
  {
   "cell_type": "code",
   "execution_count": null,
   "id": "429fba47-1ad4-4687-810b-7ad3477c02a2",
   "metadata": {},
   "outputs": [],
   "source": [
    "tableau_croise = pd.crosstab(df_questions[\"Question\"], df_questions[\"Réponse\"], colnames=[\"Question\"], rownames=[\"Réponse\"], margins=True, margins_name=\"Total\") # normalize=\"all\" pour les pourcentages\n",
    "tableau_croise"
   ]
  },
  {
   "cell_type": "markdown",
   "id": "22afae42-48d3-44b0-9227-ca912e08b7e0",
   "metadata": {},
   "source": [
    "🔎 Notez-vous d'autres tendances sur les totaux des sélections des questions?"
   ]
  },
  {
   "cell_type": "markdown",
   "id": "a3d3f354-7384-4737-8f12-2bc9262d6ba7",
   "metadata": {},
   "source": [
    "✏️"
   ]
  },
  {
   "cell_type": "markdown",
   "id": "fede1286-7bd7-4c32-9e2c-f80187a89643",
   "metadata": {},
   "source": [
    "📕 Nous examinons plus précisement les huit questions sur les compétences linguistiques (Q2r1 - Q2r8).\n",
    "\n",
    "Commençons par les mesures de tendances centrales."
   ]
  },
  {
   "cell_type": "code",
   "execution_count": null,
   "id": "535cb5e4-053d-40b7-b45f-b216841a61fe",
   "metadata": {},
   "outputs": [],
   "source": [
    "df_competences = df_questions.loc[lambda df: (df[\"Réponse\"]!= \"Q42\") &(df[\"Réponse\"]!= \"Q46\")];\n",
    "df_competences[[\"Réponse\"]].describe()"
   ]
  },
  {
   "cell_type": "markdown",
   "id": "fd7cfe3f-fe49-4007-ac0d-79bd824334f3",
   "metadata": {},
   "source": [
    "📕 Pour voir la distribution des sélections, nous générons une carte thermique avec un histogramme. La distribution est décalée à droite. La médiane est 5, ce qui représente *Parfaitement*."
   ]
  },
  {
   "cell_type": "code",
   "execution_count": null,
   "id": "12f64804-2633-44fe-abf4-22fe61487e97",
   "metadata": {},
   "outputs": [],
   "source": [
    "carte_questions = px.density_heatmap(df_questions, x=\"Réponse\", y=\"Question\", marginal_x=\"histogram\", \n",
    "                                     color_continuous_scale=px.colors.diverging.Portland,\n",
    "                                     title=\"Les fréquences des sélections sur les compétences langagières et le sentiment d'appartenance\")\n",
    "carte_questions.update_yaxes(categoryorder=\"category descending\")\n",
    "carte_questions.update_layout(autosize=True, height=500)\n",
    "carte_questions.show()"
   ]
  },
  {
   "cell_type": "markdown",
   "id": "b66facc9-d830-4219-952b-d1e140a8c4a1",
   "metadata": {},
   "source": [
    "💻 Lorsque les participants sont nombreux, nous pouvons comparer les distributions par la Naissance au Canada pour chaque compétence. Modifiez l'histogramme ci-dessous pour explorer les données.\n",
    "\n",
    "Modifiez d'autres variables dans l'histogramme ci-dessous pour explorer les données. Comparez les nouvelles distributions à celle de toutes les questions dans la carte thermique en haut."
   ]
  },
  {
   "cell_type": "code",
   "execution_count": null,
   "id": "0d60f5bd-fdd5-4d80-952f-60acbadce1b4",
   "metadata": {},
   "outputs": [],
   "source": [
    "premiere_langue_bandes = px.histogram(data, x=\"Q2r8\", #Changez la variable avec \"Q2r1\" Je comprends le français, \"Q2r2\" Je parle le français, \"Q2r3\" Je lis en français, \"Q2r4\" J’écris en français, \"Q2r5\" Je comprends l’anglais, \"Q2r6\" Je parle l’anglais, \"Q2r7\" Je lis l’anglais, \"Q2r8\" J’écris en anglais\n",
    "                                      color=\"LANGUE\", #Changez la variable couleur \"LANGUE\" avec \"NAISS\", ou \"MINO\" pour la minorité visible\n",
    "                                      labels={\"LANGUE\": \"Langue\", \"NAISS\": \"Naissance au Canada\", \"MINO\": \"Minorité visible\", \"Q47\": \"Amis avec la même langue maternelle\"}, color_discrete_sequence=px.colors.diverging.Portland, \n",
    "                                      title=\"La perception de la compétence langagière\") #Mettez à jour le titre si vous modifiez la variable x ou la variable y\n",
    "premiere_langue_bandes.update_layout(xaxis={\"categoryorder\":\"total descending\"})\n",
    "premiere_langue_bandes"
   ]
  },
  {
   "cell_type": "markdown",
   "id": "8c335fb7-6a0c-4a64-8e93-c3216c8dd2d1",
   "metadata": {},
   "source": [
    "✏️ Notez les combinaisons explorées ici"
   ]
  },
  {
   "cell_type": "markdown",
   "id": "74522701-52da-4356-bc73-25c1bf3eeca8",
   "metadata": {},
   "source": [
    "💻 Pour aider avec la compréhension des histogrammes, vous pouvez également explorer des fréquences de différentes combinaisons de variables."
   ]
  },
  {
   "cell_type": "markdown",
   "id": "0e8aed59-2869-420e-82a6-967fc04aec04",
   "metadata": {},
   "source": [
    "🔎 Avez-vous trouvé une distribution normale? Pouvez-vous offrir une raison pour laquelle cette distribution est normale?\n",
    "\n",
    "🔎 Quelles distributions sont similaires?\n",
    "\n",
    "🔎 Comment diffèrent les distributions? Que veut dire ces différences?"
   ]
  },
  {
   "cell_type": "code",
   "execution_count": null,
   "id": "a2cf5d4e-26b7-4909-8b74-b67c46243ec8",
   "metadata": {},
   "outputs": [],
   "source": [
    "heatmap_items_satisfaction = px.density_heatmap(data, x=\"LANGUE\", # Changez la variable x \"LANGUE\" avec \"NAISS\", ou \"MINO\" pour la minorité visible\n",
    "                                                y=\"Q2r8\", # Changez la variable y avec \"Q2r1\" Je comprends le français, \"Q2r2\" Je parle le français, \"Q2r3\" Je lis en français, \"Q2r4\" J’écris en français, \"Q2r5\" Je comprends l’anglais, \"Q2r6\" Je parle l’anglais, \"Q2r7\" Je lis l’anglais, \"Q2r8\" J’écris en anglais \n",
    "                                                color_continuous_scale=px.colors.diverging.Portland,\n",
    "                                                title=\"La perception de la compétence langagière\") # Mettez à jour le titre si vous modifiez la variable x ou la variable y\n",
    "heatmap_items_satisfaction.update_yaxes(categoryorder=\"category descending\")\n",
    "heatmap_items_satisfaction.update_layout(autosize=True, height=600)\n",
    "heatmap_items_satisfaction.show()"
   ]
  },
  {
   "cell_type": "markdown",
   "id": "cd56f74f-c9ad-4170-ab1e-a6da851cb208",
   "metadata": {},
   "source": [
    "🔎 Comment changent le diagramme selon les différentes variables nominales de l'axe des x?"
   ]
  },
  {
   "cell_type": "markdown",
   "id": "2d60d748-71a7-4aae-9c28-b20c25e40321",
   "metadata": {},
   "source": [
    "✏️ "
   ]
  },
  {
   "cell_type": "markdown",
   "id": "7995d39e-01dc-45f9-98e8-e5999af98a46",
   "metadata": {
    "tags": []
   },
   "source": [
    "## Interpréter"
   ]
  },
  {
   "cell_type": "markdown",
   "id": "a32586da-938c-46e8-91b3-5ff94793d3a4",
   "metadata": {},
   "source": [
    "🔎 Quelles sont les tendances similaires et différentes?\n",
    "\n",
    "🔎 Quels pourraient être les impacts à court et à long terme de ces relations?\n",
    "\n",
    "🔎 Comment pouvons-nous considérer les responsabilités individuelles et collectives?"
   ]
  },
  {
   "cell_type": "markdown",
   "id": "918f7ff1-eff7-42f3-be72-17caf0a696b8",
   "metadata": {},
   "source": [
    "## Explorer"
   ]
  },
  {
   "cell_type": "markdown",
   "id": "1df3c81e-e76d-45ab-9182-a0b4ea1604b1",
   "metadata": {},
   "source": [
    "📕 Après avoir exploré les questions et quelques variables nominales sur les démographies, nous voulons examiner la Q46 (le sentiment d'isolement) selon les variables nominales."
   ]
  },
  {
   "cell_type": "markdown",
   "id": "216b43f5-8746-4646-a06c-0b8fc7667f8b",
   "metadata": {},
   "source": [
    "### L'exploration des variables nominales"
   ]
  },
  {
   "cell_type": "markdown",
   "id": "d99bb2d1-a8de-49d5-9c48-012c63ec582d",
   "metadata": {
    "tags": []
   },
   "source": [
    "#### L'identité "
   ]
  },
  {
   "cell_type": "code",
   "execution_count": null,
   "id": "06c3c778-5b43-4214-8fb0-f59f3eff359b",
   "metadata": {},
   "outputs": [],
   "source": [
    "heatmap_items_satisfaction = px.density_heatmap(data, x=\"LANGUE\", \n",
    "                                                y=\"NAISS\", # Changez la variable y avec \"MINO\" pour la minorité visible\n",
    "                                                labels={\"LANGUE\": \"Langue\", \"NAISS\": \"Naissance au Canada\", \"MINO\": \"Minorité visible\", \"Q47\": \"Amis avec la même langue maternelle\"}, text_auto=True, color_continuous_scale=px.colors.diverging.Portland,\n",
    "                                                title=\"La(les) première(s) langue(s) parlée(s) selon les fréquences de la naissance au Canada\") # Mettez à jour le titre si vous modifiez la variable y\n",
    "heatmap_items_satisfaction.update_layout(autosize=True, height=600)\n",
    "heatmap_items_satisfaction.show()"
   ]
  },
  {
   "cell_type": "markdown",
   "id": "5cfb6797-097a-4b3d-986f-1fdd4979b5c6",
   "metadata": {
    "tags": []
   },
   "source": [
    "#### L'interaction et le sentiment d'isolement"
   ]
  },
  {
   "cell_type": "markdown",
   "id": "14a3448b-aeb6-4c7d-b166-0fdb79f43e69",
   "metadata": {},
   "source": [
    "📕 `Q46` Vous sentez-vous isolé à Montréal? Codée à l'envers: 1 Beaucoup, 2 Assez, 3 Je ne sais pas, 4 Peu, 5 Pas du tout"
   ]
  },
  {
   "cell_type": "code",
   "execution_count": null,
   "id": "e4002bb1-94a8-432d-9aa9-8b612023372f",
   "metadata": {},
   "outputs": [],
   "source": [
    "data.loc[:, \"Q46\"].median()"
   ]
  },
  {
   "cell_type": "code",
   "execution_count": null,
   "id": "1eb0b140-d13c-4f5a-bf7f-7ef68d34aff8",
   "metadata": {
    "tags": []
   },
   "outputs": [],
   "source": [
    "Q46 = px.histogram(data, x=\"Q46\", color_discrete_sequence=px.colors.diverging.Portland, title=\"Amis avec la même langue maternelle\")\n",
    "Q46"
   ]
  },
  {
   "cell_type": "markdown",
   "id": "b13c1053-0198-4ba8-b575-ce24da3fd16a",
   "metadata": {},
   "source": [
    "💻 Entrez le(s) sous-groupe(s) \n",
    "\n",
    "`Q47` Parmi tous vos amis, combien d’entre eux/elles ont la même langue maternelle que vous? 1 Aucun(e), 2 Quelques-uns / Quelques-unes, 3 À peu près la moitié, 4 La majorité, 5 Tous/Toutes\n",
    " \n",
    "`Q2r2` Je parle le français 1 Pas du tout, 2 Pas très bien, 3 Plutôt bien, 4 Très bien, 5 Parfaitement\n",
    "\n",
    "`Q2r6` Je parle l’anglais 1 Pas du tout, 2 Pas très bien, 3 Plutôt bien, 4 Très bien, 5 Parfaitement"
   ]
  },
  {
   "cell_type": "code",
   "execution_count": null,
   "id": "4cf65da5-43e2-46ba-b21c-47fdc782ddbd",
   "metadata": {},
   "outputs": [],
   "source": [
    "profile_dispersion_Q47 = px.box(data, x=\"Q47\", # Changez la variable x avec `Q47`, `Q2r2`, et `Q2r6`\n",
    "                                y=\"Q46\", \n",
    "                                color=\"Q47\", # Mettez la variable x comme la couleur\n",
    "                                points=\"all\", \n",
    "                                labels={\"Q46\": \"Isolement\"}, \n",
    "                                hover_data=[\"NAISS\",\"MINO\",\"Q52r9\",\"LANGUE\"],\n",
    "                                color_discrete_sequence=px.colors.diverging.Portland,\n",
    "                                title=\"Le sentiment d'isolement (1 beacoup à 5 un peu)\") # Modifiez le titre\n",
    "profile_dispersion_Q47.update_layout(showlegend=False)\n",
    "profile_dispersion_Q47.show()"
   ]
  },
  {
   "cell_type": "markdown",
   "id": "b6db0686-aa6c-4d16-af56-0ba4f95b2cb8",
   "metadata": {},
   "source": [
    "🔎 Quels sous-groupes se situent au-dessous de la médiane?"
   ]
  },
  {
   "cell_type": "markdown",
   "id": "6434325c-1cf0-4ae4-a413-91547f892031",
   "metadata": {},
   "source": [
    "✏️"
   ]
  },
  {
   "cell_type": "markdown",
   "id": "cdee91ab-d416-4b53-8aa0-1cde89f8336b",
   "metadata": {},
   "source": [
    "💻 Entrez le(s) sous-groupe(s) dans la cellule de code ci-dessous."
   ]
  },
  {
   "cell_type": "code",
   "execution_count": null,
   "id": "bfc043e3-27cf-4d8c-a5ef-a8f1b3ff2e1b",
   "metadata": {},
   "outputs": [],
   "source": [
    "df_matrices = data.loc[lambda df: (df[\"MINO\"]!= \"Je préfère ne pas répondre\")];\n",
    "df_matrices = data.loc[lambda df: (df[\"Q52r9\"]!= \"Je préfère ne pas répondre\")];\n",
    "\n",
    "reco_Q46 = {\n",
    "    1:\"Beaucoup\", \n",
    "    2:\"Assez\",\n",
    "    3:\"Je ne sais pas\",\n",
    "    4:\"Peu\",\n",
    "    5:\"Pas du tout\"\n",
    "   \n",
    "}\n",
    "\n",
    "df_matrices[\"Q46\"] = df_matrices[\"Q46\"].replace(reco_Q46)\n",
    "\n",
    "matrice_bandes = px.bar(df_matrices, \n",
    "                        x=\"MINO\", # Changez la variable x avec `'MINO`, `NAISS`, `Q52r9`,\n",
    "                        color = \"Q46\", \n",
    "                        facet_col=\"Q47\", # Changez la variable avec `Q47`, `Q2r2`, et `Q2r6`\n",
    "                        labels={\"Q46\": \"Isolement\", \"Q47\": \"Amis avec la même langue\", \"Q2r2\": \"Je parle le français\", \"Q2r6\": \"Je parle l'anglais\", \"Q52r9\": \"Discrimination contre la langue\"},\n",
    "                        color_discrete_sequence=px.colors.diverging.Portland,\n",
    "                        title=\" \") # Mettez le titre\n",
    "\n",
    "matrice_bandes.update_layout(autosize=True, height=600)\n",
    "matrice_bandes.update_xaxes(categoryorder='array', categoryarray= ['Non','Oui'])\n",
    "matrice_bandes.show()"
   ]
  },
  {
   "cell_type": "markdown",
   "id": "ac37760c-f5d3-4f8f-a34a-05b93d2f0f99",
   "metadata": {},
   "source": [
    "🔎 Quelles sont les similarités et les différences?"
   ]
  },
  {
   "cell_type": "markdown",
   "id": "3dd82b4a-1ace-4e1b-af8c-95910595c47e",
   "metadata": {},
   "source": [
    "✏️"
   ]
  },
  {
   "cell_type": "markdown",
   "id": "6c93bc29-f7dd-4afc-a6d3-62e4fa89762f",
   "metadata": {},
   "source": [
    "## Interpréter"
   ]
  },
  {
   "cell_type": "markdown",
   "id": "551d21f4-dda5-40eb-8695-9cad3616eb69",
   "metadata": {},
   "source": [
    "🔎 Comment est-ce que les identités (ethno)linguistiques sont représentées par les données?\n",
    "\n",
    "🔎 Ajouteriez-vous une autre variable à l'ensemble des données?\n",
    "\n",
    "🔎 Avez-vous d'autres questions à poser?"
   ]
  },
  {
   "cell_type": "markdown",
   "id": "a31438a1-6625-4b37-afba-2482c7d8da26",
   "metadata": {},
   "source": [
    "✏️"
   ]
  },
  {
   "cell_type": "markdown",
   "id": "f6e3fa5c-ccf4-4cc1-94f4-eb2dec88bf44",
   "metadata": {},
   "source": [
    "## Communiquer"
   ]
  },
  {
   "cell_type": "markdown",
   "id": "6ae8d4f1-cb6b-4c09-a0c9-49d3e33acd02",
   "metadata": {},
   "source": [
    "🔎 Comment est-ce que l'exploration des données du sondage vous a aidé à déterminer l'impact des interactions sur les perceptions d'identité? \n",
    "\n",
    "🔎 Selon vous, quels sont les résultats qui ont le plus d'impact? Expliquez. Si vous n'avez pas trouvé les résultats concluants, expliquez cette importance.\n",
    "\n",
    "🔎 Avez-vous toujours des questions sur le sentiment d'appartenance? Quelles sont vos questions? Quels types de données pourraient aborder vos questions?"
   ]
  },
  {
   "cell_type": "markdown",
   "id": "44312d6f-d775-454e-9599-c042e83e401b",
   "metadata": {},
   "source": [
    "✏️"
   ]
  },
  {
   "cell_type": "markdown",
   "id": "b63ef64c-e075-4a42-bc79-ac3135367107",
   "metadata": {},
   "source": [
    "# La fin"
   ]
  },
  {
   "cell_type": "markdown",
   "id": "9cd09ff1-b09d-4653-bec5-f40f02f12455",
   "metadata": {},
   "source": [
    "[![Callysto.ca License](https://github.com/callysto/curriculum-notebooks/blob/master/callysto-notebook-banner-bottom.jpg?raw=true)](https://github.com/callysto/curriculum-notebooks/blob/master/LICENSE.md)"
   ]
  }
 ],
 "metadata": {
  "kernelspec": {
   "display_name": "Python 3 (ipykernel)",
   "language": "python",
   "name": "python3"
  },
  "language_info": {
   "codemirror_mode": {
    "name": "ipython",
    "version": 3
   },
   "file_extension": ".py",
   "mimetype": "text/x-python",
   "name": "python",
   "nbconvert_exporter": "python",
   "pygments_lexer": "ipython3",
   "version": "3.11.6"
  }
 },
 "nbformat": 4,
 "nbformat_minor": 5
}
