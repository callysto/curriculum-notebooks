{
 "cells": [
  {
   "cell_type": "markdown",
   "id": "7433301b-42cc-45b0-b961-82fc03822357",
   "metadata": {},
   "source": [
    "![Callysto.ca Banner](https://github.com/callysto/curriculum-notebooks/blob/master/callysto-notebook-banner-top.jpg?raw=true)"
   ]
  },
  {
   "cell_type": "markdown",
   "id": "8d0229a9-fef4-4272-9e2f-27f64109715b",
   "metadata": {},
   "source": [
    "# Les langues parlées<br><br>Appréciation de la diversité du (bi)multilinguisme<br><br>Pratiquer : le niveau débutant de la programmation en python"
   ]
  },
  {
   "cell_type": "markdown",
   "id": "a856aa6f-bc8b-4442-8100-ab085c3877df",
   "metadata": {},
   "source": [
    "Bienvenue à ce notebook Jupyter. Ce notebook est gratuit et fait partie de la collection de Callysto, un projet promouvant la science des données dans les salles de classe de la 5e à la 12e année.\n",
    "\n",
    "Dans ce notebook, nous utiliserons le python pour réaliser les différentes étapes d'analyse des données afin d'interpréter les données et de les représenter par les visualisations. Le python est un langage de programmation qui nous permet de communiquer avec l'ordinateur. Le python contient la langue anglaise, mais la grammaire diffère considérablement."
   ]
  },
  {
   "cell_type": "markdown",
   "id": "a4ceaad1-0bbc-471c-a43e-8ec0379352c5",
   "metadata": {
    "tags": []
   },
   "source": [
    "## La démarche: les étapes d'analyses des données\n",
    "1. **Questionner** - Formuler la question de recherche.\n",
    "2. **Sélectionner** - Trouver les bibliothèques de python et les sources de données pour répondre à la question de recherche.\n",
    "3. **Organiser** - Mettre en forme les données afin de les préparer pour l'exploration.\n",
    "4. **Explorer** - Analyser les données et les représenter par les visualisations.\n",
    "5. **Interpréter** - Expliquer les observations obtenues à partir des visualisations.\n",
    "6. **Communiquer** - Tirer une conclusion à la question, basée sur l'interprétation des données.\n",
    "<br><br>"
   ]
  },
  {
   "cell_type": "markdown",
   "id": "302d0581-b199-408f-b244-9421c7797899",
   "metadata": {
    "tags": []
   },
   "source": [
    "## Questionner"
   ]
  },
  {
   "cell_type": "markdown",
   "id": "f5169b46-86b6-4107-8fa5-e584020111fe",
   "metadata": {},
   "source": [
    "✏️ Cliquez ici pour un espace pour formuler la(les) question(s) sur le (bi)multilinguisme avec le but de sonder des gens.\n",
    "\n",
    "\n",
    "\n",
    "\n"
   ]
  },
  {
   "cell_type": "markdown",
   "id": "f39a2fde-2f01-4688-89f9-b11abcb60932",
   "metadata": {},
   "source": [
    "## Sélectionner"
   ]
  },
  {
   "cell_type": "markdown",
   "id": "8979ad29-4713-46c8-a5ed-72ffa274d730",
   "metadata": {
    "tags": []
   },
   "source": [
    "### Le chargement des bibliothèques"
   ]
  },
  {
   "cell_type": "markdown",
   "id": "ba5882d6-2ebd-4222-9aa0-86ab281d9047",
   "metadata": {},
   "source": [
    "Les bibliothèques sont les outils qui permettent à manipuler plus facilement le langage de programmation python.\n",
    "\n",
    "Vous trouverez les notes sur le code dans la cellule en italique vert après le `#`."
   ]
  },
  {
   "cell_type": "code",
   "execution_count": null,
   "id": "f47ec635-f4d3-4037-a208-a9989d71ec10",
   "metadata": {},
   "outputs": [],
   "source": [
    "# Pour la manipulation de tableaux, importez la bibliothèque pandas sous l'alias pd\n",
    "import pandas as pd\n",
    "\n",
    "#Pour les visualisations, importez les bibliothèques plotly express sous l'alias px et plotly graph objects sous l'alias go\n",
    "import plotly.graph_objects as go\n",
    "import plotly.express as px"
   ]
  },
  {
   "cell_type": "markdown",
   "id": "a6930f65-2a9b-4042-be23-c95eb086f190",
   "metadata": {},
   "source": [
    "## Organiser"
   ]
  },
  {
   "cell_type": "markdown",
   "id": "2af551c1-b469-4daa-9826-475dc190867d",
   "metadata": {},
   "source": [
    "✏️ Cliquez ici pour un espace pour définir les variables afin de répondre à votre question de recherche. Expliquez le contexte d'une ou de deux variables. Regardez les cellules de code dans ce notebook pour aider avec la planification des variables.\n",
    "\n",
    "\n",
    "\n",
    "\n"
   ]
  },
  {
   "cell_type": "markdown",
   "id": "14139bca-f741-43f3-a662-702c1eff5d67",
   "metadata": {},
   "source": [
    "✏️ Cliquez ici pour un espace pour créer un plan de collecte de données.\n",
    "\n",
    "\n",
    "\n"
   ]
  },
  {
   "cell_type": "markdown",
   "id": "faaac774-f26a-478d-a7ff-1185823af5ba",
   "metadata": {},
   "source": [
    "✏️ Cliquez ici pour un espace pour prendre des notes sur la collecte des données. \n",
    "\n",
    "\n"
   ]
  },
  {
   "cell_type": "markdown",
   "id": "f9a439ea-6a11-4307-89ac-80439adba995",
   "metadata": {},
   "source": [
    "💻 Tapez les données pour l'axe des x et l'axe des y dans la cellule de code ci-dessous."
   ]
  },
  {
   "cell_type": "code",
   "execution_count": null,
   "id": "f3fd1d78-2da7-4cd4-9c63-961964d27bf9",
   "metadata": {
    "tags": []
   },
   "outputs": [],
   "source": [
    "# Tapez les données entre les guillemets pour l'axe des x et ajouter plus si c'est nécessaire\n",
    "x = [\"Français\", \" \", \" \", \" \"] \n",
    "\n",
    "# Voici l'axe des y pour un diagramme à bandes\n",
    "y = [25, , , ] # Tapez les fréquences entre les virgules et en ordre correspondant à l'axe des x\n",
    "\n",
    "# Voici l'axe des y pour un diagramme à bandes multiples\n",
    "y1 = [6, , , ] # Tapez les fréquences entre les virgules et en ordre correspondant à l'axe des y1\n",
    "y2 = [12, , , ] # Tapez les fréquences entre les virgules et en ordre correspondant à l'axe des y2\n",
    "\n",
    "# Tapez shift + return/enter pour charger la cellule"
   ]
  },
  {
   "cell_type": "markdown",
   "id": "777d0c4b-ed6c-4846-862a-93bba2b5aa35",
   "metadata": {
    "tags": []
   },
   "source": [
    "## Explorer"
   ]
  },
  {
   "cell_type": "markdown",
   "id": "3a915aa2-94e8-477e-b74d-6a223aca90cc",
   "metadata": {},
   "source": [
    "💻 Créez un diagramme à bandes dans la cellule de code ci-dessous."
   ]
  },
  {
   "cell_type": "code",
   "execution_count": null,
   "id": "06f41545-6822-425e-ab4e-28e378228958",
   "metadata": {},
   "outputs": [],
   "source": [
    "# Voici le code pour la définition des variables pour un diagramme à bandes\n",
    "px.bar(x=x, \n",
    "       y=y, \n",
    "       title=\" \", # Ajoutez un titre pour le diagramme\n",
    "       labels={'x':'Langues', 'y':'Fréquences'}) # Donnez les titres pour les variables x et y\n",
    "\n",
    "# Tapez shift + return/enter pour charger la cellule et afficher le diagramme"
   ]
  },
  {
   "cell_type": "markdown",
   "id": "09e0d2d1-9b2c-464e-b145-e5bb8e18e43d",
   "metadata": {},
   "source": [
    "💻 Créez un diagramme à bandes multiples dans la cellule de code ci-dessous."
   ]
  },
  {
   "cell_type": "code",
   "execution_count": null,
   "id": "60609540-cd8d-4df2-944a-636ece12d219",
   "metadata": {},
   "outputs": [],
   "source": [
    "# Voici le code pour la fonction pour le diagramme\n",
    "diagramme = go.Figure()\n",
    "\n",
    "# Voici la définition des variables pour un diagramme à bandes multiples\n",
    "diagramme.add_trace(go.Bar(x=x, y=y1, name=\" \")) # Donnez un titre pour la variable y1 entre les guillemets\n",
    "diagramme.add_trace(go.Bar(x=x, y=y2, name=\" \")) # Donnez un titre pour la variable y2 entre les guillemets\n",
    "\n",
    "# Voici l'affichage du digramme\n",
    "diagramme.update_layout(title_text = \" \", # Tapez le titre du diagramme entre les guillemets\n",
    "                        xaxis_title = \" \", # Tapez le titre de l'axe des x entre les guillemets\n",
    "                        yaxis_title = \" \") # Tapez le titre de l'axe des y entre les guillemets\n",
    "\n",
    "\n",
    "# Tapez shift + return/enter pour charger la cellule et afficher le diagramme       \n",
    "diagramme.show()                       "
   ]
  },
  {
   "cell_type": "markdown",
   "id": "2976d60c-13af-4010-abd1-30db8d089ca3",
   "metadata": {},
   "source": [
    "💻 Créez un diagramme de dispersion dans la cellule de code ci-dessous."
   ]
  },
  {
   "cell_type": "code",
   "execution_count": null,
   "id": "c8df4f30-2a93-45d5-9138-3becde52484e",
   "metadata": {},
   "outputs": [],
   "source": [
    "dispersion = px.scatter (x=y, y=y1) # Changez les variables y\n",
    "\n",
    "# Tapez shift + return/enter pour charger la cellule et afficher le diagramme   \n",
    "dispersion .show()"
   ]
  },
  {
   "cell_type": "markdown",
   "id": "8d0d24eb-6127-4bf4-bfcd-aafe2b58c2d4",
   "metadata": {
    "tags": []
   },
   "source": [
    "## Interpréter"
   ]
  },
  {
   "cell_type": "markdown",
   "id": "7edec8f2-3cdc-46a0-a594-9eb04ecca085",
   "metadata": {},
   "source": [
    "🔎 Quelles sont les tendances similaires et différentes?\n",
    "\n",
    "🔎 Quels pourraient être les impacts à court et à long terme?\n",
    "\n",
    "🔎 Comment pouvez-vous considérer les responsabilités individuelles et collectives?"
   ]
  },
  {
   "cell_type": "markdown",
   "id": "edd5e1d7-0d09-46e3-8a8b-cf8ad0106eec",
   "metadata": {
    "tags": []
   },
   "source": [
    "## Communiquer"
   ]
  },
  {
   "cell_type": "markdown",
   "id": "845efdd9-8254-428a-9955-42c6c2d56a9f",
   "metadata": {},
   "source": [
    "✏️ Cliquez ici pour un espace pour écrire une conclusion \n",
    "\n",
    "\n",
    "\n",
    "\n",
    "\n"
   ]
  },
  {
   "cell_type": "markdown",
   "id": "b2a2db1e-db82-4c62-814f-a279cb2a2a7b",
   "metadata": {},
   "source": [
    "# La fin"
   ]
  },
  {
   "cell_type": "markdown",
   "id": "a9714f7a-20ad-4d1d-bdef-705edb1b41ad",
   "metadata": {},
   "source": [
    "[![Callysto.ca License](https://github.com/callysto/curriculum-notebooks/blob/master/callysto-notebook-banner-bottom.jpg?raw=true)](https://github.com/callysto/curriculum-notebooks/blob/master/LICENSE.md)"
   ]
  }
 ],
 "metadata": {
  "kernelspec": {
   "display_name": "Python 3 (ipykernel)",
   "language": "python",
   "name": "python3"
  },
  "language_info": {
   "codemirror_mode": {
    "name": "ipython",
    "version": 3
   },
   "file_extension": ".py",
   "mimetype": "text/x-python",
   "name": "python",
   "nbconvert_exporter": "python",
   "pygments_lexer": "ipython3",
   "version": "3.11.6"
  }
 },
 "nbformat": 4,
 "nbformat_minor": 5
}
