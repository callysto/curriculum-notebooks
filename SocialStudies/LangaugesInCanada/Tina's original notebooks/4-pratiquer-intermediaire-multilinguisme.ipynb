{
 "cells": [
  {
   "cell_type": "markdown",
   "id": "061ca560-c384-4b09-a2ce-ca383af80906",
   "metadata": {},
   "source": [
    "![Callysto.ca Banner](https://github.com/callysto/curriculum-notebooks/blob/master/callysto-notebook-banner-top.jpg?raw=true)"
   ]
  },
  {
   "cell_type": "markdown",
   "id": "cb7da4fd-2b2b-4a01-b58a-f8b845bd82a0",
   "metadata": {},
   "source": [
    "# Les langues parlées au Canada<br><br>Appréciation de la diversité du (bi)multilinguisme<br><br>Pratiquer : le niveau intermédiaire de la programmation en python"
   ]
  },
  {
   "cell_type": "markdown",
   "id": "d6aaeddd-d915-4179-ac57-8da8ad754d6c",
   "metadata": {},
   "source": [
    "Bienvenue à ce notebook Jupyter. Ce notebook est gratuit et fait partie de la collection de Callysto, un projet promouvant la science des données dans les salles de classe de la 5e à la 12e année.\n",
    "\n",
    "Dans ce notebook, nous utiliserons le python pour réaliser les différentes étapes d'analyse des données afin d'interpréter les données et de les représenter par les visualisations. Le python est un langage de programmation qui nous permet de communiquer avec l'ordinateur. Le python contient la langue anglaise, mais la grammaire diffère considérablement."
   ]
  },
  {
   "cell_type": "markdown",
   "id": "5ac877b7-5ba9-4737-81e0-e0f663c0b17d",
   "metadata": {},
   "source": [
    "Veuillez envoyer un courriel à l'adresse contact@callysto.ca si vous rencontrez des problèmes avec le notebook.\n",
    "<br><br>"
   ]
  },
  {
   "cell_type": "markdown",
   "id": "a1b07bd0-53d1-4dd8-822c-b3d68f92b8d2",
   "metadata": {
    "jp-MarkdownHeadingCollapsed": true,
    "tags": []
   },
   "source": [
    "## La démarche: les étapes d'analyses des données\n",
    "1. **Questionner** - Formuler la question de recherche.\n",
    "2. **Sélectionner** - Trouver les bibliothèques de python et les sources de données pour répondre à la question de recherche.\n",
    "3. **Organiser** - Mettre en forme les données afin de les préparer pour l'exploration.\n",
    "4. **Explorer** - Analyser les données et les représenter par les visualisations.\n",
    "5. **Interpréter** - Expliquer les observations obtenues à partir des visualisations.\n",
    "6. **Communiquer** - Tirer une conclusion à la question, basée sur l'interprétation des données.\n",
    "<br><br>"
   ]
  },
  {
   "cell_type": "markdown",
   "id": "e053ccf5-cb4f-47f5-9956-27ec2017267a",
   "metadata": {},
   "source": [
    "## Questionner"
   ]
  },
  {
   "cell_type": "markdown",
   "id": "25002d19-127e-4cc4-9b2a-f940e3affa21",
   "metadata": {},
   "source": [
    "**Comment découvert-on ce que le (bi)multilinguisme veut dire?**\n",
    "<br><br>"
   ]
  },
  {
   "cell_type": "markdown",
   "id": "989dc63e-28cc-4e71-a431-ae0571e7e483",
   "metadata": {},
   "source": [
    "## Sélectionner"
   ]
  },
  {
   "cell_type": "markdown",
   "id": "14d36a72-6b7c-412a-828a-0e541b221398",
   "metadata": {
    "tags": []
   },
   "source": [
    "### Le chargement des bibliothèques"
   ]
  },
  {
   "cell_type": "markdown",
   "id": "3c8d50ea-5688-4bd9-8873-de8d1a87f37b",
   "metadata": {},
   "source": [
    "Les bibliothèques sont les outils qui permettent à manipuler plus facilement le langage de programmation python.\n",
    "\n",
    "Vous trouverez les notes sur le code dans la cellule en italique vert après le `#`."
   ]
  },
  {
   "cell_type": "code",
   "execution_count": null,
   "id": "d31204f2-6da4-441f-bdb7-5384c04a6053",
   "metadata": {},
   "outputs": [],
   "source": [
    "# Pour la manipulation de tableaux, importez la bibliothèque pandas sous l'alias pd\n",
    "import pandas as pd\n",
    "\n",
    "# Pour la manipulation de chiffres, importez la bibliothèque numpy sous l'alias np\n",
    "import numpy as np\n",
    "\n",
    "# Pour les visualisations, importez la bibliothèque plotly express sous l'alias px et la bibliothèque matplotlib sous l'alias plt\n",
    "import plotly.express as px\n",
    "import matplotlib.pyplot as plt"
   ]
  },
  {
   "cell_type": "markdown",
   "id": "9919e12b-b456-4479-9fea-3fd6c7eb8d12",
   "metadata": {},
   "source": [
    "### Les sources de données"
   ]
  },
  {
   "cell_type": "markdown",
   "id": "7d6e423e-8a90-4ead-8505-0042f0a5f445",
   "metadata": {
    "tags": []
   },
   "source": [
    "[Licence du gouvernement ouvert – Canada](https://ouvert.canada.ca/fr/licence-du-gouvernement-ouvert-canada)\n",
    "\n",
    "Statistique Canada. (2023). Profil du recensement. Recensement de la population de 2021. [Jeu de données 98-316-X2021001]. \n",
    "https://www12.statcan.gc.ca/census-recensement/2021/dp-pd/prof/index.cfm?Lang=F\n",
    "\n",
    "Document connexe du recensement: https://www12.statcan.gc.ca/census-recensement/2021/dp-pd/prof/about-apropos/about-apropos.cfm?Lang=F"
   ]
  },
  {
   "cell_type": "markdown",
   "id": "b9cdc9f3-2853-4a4f-bc65-a59f2fd5af12",
   "metadata": {
    "tags": []
   },
   "source": [
    "### Le chargement des données"
   ]
  },
  {
   "cell_type": "markdown",
   "id": "30565292-7846-41a9-a23f-6ede0971f75a",
   "metadata": {},
   "source": [
    "Nous accédons aux données en format csv (comma-separated values) et les chargeons avec la bibliothèque pandas en utilisant la fonction `read_csv`.\n",
    "\n",
    "Le fichier `2021-langues-provinces-territoires.csv` dans le dossier `data` rapporte les chiffres des langues maternelles, des langues parlées le plus souvent à la maison, et des langues utilisées au travail dans les provinces et aux territoires en 2021.\n",
    "\n",
    "Nous chargeons l'ensemble de données dans la variable `data_prov_terr` et nous utilisons pandas sous l'alias `pd` pour lire à travers la fonction `read_csv`."
   ]
  },
  {
   "cell_type": "code",
   "execution_count": null,
   "id": "96dd7a93-0646-42bd-99cf-c54424edb96d",
   "metadata": {},
   "outputs": [],
   "source": [
    "# Pour le chargement de données en format csv, un format délimité par des virgules\n",
    "data = pd.read_csv(\"data/2021-langues-provinces-territoires.csv\")\n",
    "data"
   ]
  },
  {
   "cell_type": "markdown",
   "id": "9aee3db2-863d-4ce4-ac97-2b94df8dfb18",
   "metadata": {},
   "source": [
    "L'ensemble de données `data` fait 10 755 lignes et 5 colonnes, ce qui fait 64 530 points de données.\n",
    "<br><br>"
   ]
  },
  {
   "cell_type": "markdown",
   "id": "64316187-e27e-4401-a923-2fe52284ca87",
   "metadata": {},
   "source": [
    "## Organiser"
   ]
  },
  {
   "cell_type": "markdown",
   "id": "6395d05c-ff60-42be-8ad7-a9b4715a7afc",
   "metadata": {},
   "source": [
    "📕 Revenons à la question de recherche de ce que veut dire le (bi)multilinguisme, il faut identifier et comprendre les variables liées afin d'organiser les données pour l'exploration.\n",
    "\n",
    "Pour obtenir plus de renseignements sur les variables relatives à la langue, consultons le [Guide de référence sur les langues, Recensement de la population de 2021](https://www12.statcan.gc.ca/census-recensement/2021/ref/98-500/003/98-500-x2021003-fra.cfm)."
   ]
  },
  {
   "cell_type": "markdown",
   "id": "343277df-1c0e-41a2-ac1e-b18c7e216154",
   "metadata": {},
   "source": [
    "### Les sous-ensembles de données "
   ]
  },
  {
   "cell_type": "markdown",
   "id": "c3ce76d8-def4-4e59-81d3-52d90f409b5e",
   "metadata": {},
   "source": [
    "📕 Remarquons que les questions posées identifient la langue maternelle, la langue parlée le plus souvent à la maison, et la langue utilisée le plus souvent au travail. "
   ]
  },
  {
   "cell_type": "markdown",
   "id": "48f8ba83-3ae9-48a0-9704-a976a2770115",
   "metadata": {},
   "source": [
    "Pour découvrir la diversité des langues, nous viserons les langues elles-mêmes."
   ]
  },
  {
   "cell_type": "markdown",
   "id": "828ee0f4-f717-40e3-b798-f00d8b6d56ef",
   "metadata": {},
   "source": [
    "Définissons les sous-ensembles de données pour chaque type de question. \n",
    "\n",
    "Nous utilisons `df` pour désigner le sous-ensemble, ou le **d**ata**f**rame, suivant d'une description. Cette pratique nous aidera à suivre tous les sous-ensembles ; les ensembles de données commencent avec `data`."
   ]
  },
  {
   "cell_type": "code",
   "execution_count": null,
   "id": "8bb7e2c3-cdae-42c0-a980-40737ef4e094",
   "metadata": {},
   "outputs": [],
   "source": [
    "# Changer l'ensemble entre `data_prov_terr`\n",
    "df_langue_maternelle = data.loc[data[\"QUESTION\"] == \"Langue maternelle\"]\n",
    "\n",
    "# Mettre les valeurs de la colonne \"LANGUE\" en ordre croissant\n",
    "df_langue_maternelle = df_langue_maternelle.sort_values(\"LANGUE\", ascending=True)\n",
    "\n",
    "# Afficher les cinq premières lignes du sous-ensemble avec la fonction head()\n",
    "df_langue_maternelle.head()"
   ]
  },
  {
   "cell_type": "code",
   "execution_count": null,
   "id": "61bd27bd-fc2a-4d53-9352-671543fe47dd",
   "metadata": {
    "tags": []
   },
   "outputs": [],
   "source": [
    "# Changez l'ensemble entre `data_prov_terr`\n",
    "df_langue_maison = data.loc[lambda df: (df[\"QUESTION\"]==\"Langue parlée le plus souvent à la maison\")]; \n",
    "\n",
    "# Mettre les valeurs de la colonne \"LANGUE\" en ordre croissant\n",
    "df_langue_maison = df_langue_maison.sort_values(\"LANGUE\", ascending=True)\n",
    "\n",
    "# Afficher les cinq premières lignes du sous-ensemble avec la fonction head()\n",
    "df_langue_maison.head()"
   ]
  },
  {
   "cell_type": "code",
   "execution_count": null,
   "id": "3ece231c-478e-4a6c-bb84-f5811c1bd580",
   "metadata": {},
   "outputs": [],
   "source": [
    "# Changer l'ensemble entre `data_prov_terr`\n",
    "df_langue_travail = data.loc[lambda df: (df[\"QUESTION\"]==\"Langue utilisée le plus souvent au travail\")];\n",
    "\n",
    "# Mettre les valeurs de la colonne \"LANGUE\" en ordre croissant\n",
    "df_langue_travail = df_langue_travail.sort_values(\"LANGUE\", ascending=True)\n",
    "\n",
    "# Afficher les cinq premières lignes du sous-ensemble avec la fonction head()\n",
    "df_langue_travail.head()"
   ]
  },
  {
   "cell_type": "markdown",
   "id": "d3b97b00-6f81-4a5d-89eb-b5ac09a50709",
   "metadata": {},
   "source": [
    "## Explorer"
   ]
  },
  {
   "cell_type": "markdown",
   "id": "2fe2e4cf-df58-43a9-a218-05f63a3cca15",
   "metadata": {},
   "source": [
    "💻 Nous commençons l'exploration en visualisant tous les points de données. \n",
    "\n",
    "Vous pouvez changer le sous-ensemble pour afficher les données pour la langue maternelle, la langue parlée plus souvent à la maison, ou la langue utilisée le plus souvent au travail."
   ]
  },
  {
   "cell_type": "code",
   "execution_count": null,
   "id": "830148cc-6591-45f6-81da-5d4f1de7ec35",
   "metadata": {},
   "outputs": [],
   "source": [
    "# Tapez une province ou un territoire entre les guillemets pour définir un sous-ensemble\n",
    "# \"Île-du-Prince-Édouard\", \"Québec\", \"Terre-Neuve-et-Labrador\", \"Alberta\", \"Nouveau-Brunswick\", \"Yukon\", \"Canada\", \"Colombie-Britannique\", \"Nouvelle-Écosse\", \"Saskatchewan\", \"Territoires du Nord-Ouest\", \"Ontario\", \"Nunavut\", \"Manitoba\"\n",
    "# Tapez le sous-ensemble df_langue_maternelle, df_langue_maison, ou df_langue_travail avant .loc\n",
    "\n",
    "df_bandes_prov_terr = df_langue_maternelle.loc[lambda df: (df[\"GÉO\"]==\"Alberta\")]; "
   ]
  },
  {
   "cell_type": "code",
   "execution_count": null,
   "id": "9b9ad6b3-39a7-4224-9ab5-69443e5e0288",
   "metadata": {
    "tags": []
   },
   "outputs": [],
   "source": [
    "# Voici le code pour la variable langue_bandes comme un diagramme à bandes avec l'axe des x LANGUE\n",
    "langue_bandes = px.bar(df_bandes_prov_terr, \n",
    "                                  x=\"LANGUE\", y=\"CHIFFRE_TOTAL\", color=\"LANGUE\", \n",
    "                                  title=\" \", # Tapez un titre pour le diagramme entre les guillemets\n",
    "                                  color_discrete_sequence=px.colors.diverging.Portland)\n",
    "\n",
    "# Voici le code pour l'affichage des bandes en ordre décroissant\n",
    "langue_bandes.update_layout(xaxis={\"categoryorder\":\"total descending\"})\n",
    "\n",
    "# Voici le code pour l'affichage du diagramme à bandes\n",
    "langue_bandes.update_layout(autosize=True, height=800)"
   ]
  },
  {
   "cell_type": "markdown",
   "id": "1a57d0ea-4505-4fe6-af57-e5c1b9622c31",
   "metadata": {},
   "source": [
    "📕 Examinez les hauteurs des bandes. Enlevez les langues officielles en désélectionnant `Anglais` et `Français` de la légende. Vous pouvez également zoomer en sélectionnant l'outil dans le menu à droite en haut de la visualisation et remettre les axes avec l'icône de maison.\n",
    "\n",
    "🔎 Pouvez-vous établir des changements notables entre les fréquences? Expliquez. Où se divisent les données? Y-a-t'il des explications pour ces divisions?"
   ]
  },
  {
   "cell_type": "markdown",
   "id": "2f35e057-35a9-4e3f-9da4-b28fc30ceb8d",
   "metadata": {},
   "source": [
    "Après avoir visualisé les fréquences d'une variable de la langue à la fois, nous pouvons explorer les relations entre deux variables de langue avec un diagramme de dispersion."
   ]
  },
  {
   "cell_type": "markdown",
   "id": "aaa01a2b-3a2c-46fa-937a-ad3faf68faea",
   "metadata": {},
   "source": [
    "💻 D'abord, pour comparer les trois questions sur la langue, nous devons créer un sous-ensemble en utilisant la fonction `pivot` afin de mettre `LANGUE` dans les lignes et les questions dans les colonnes. "
   ]
  },
  {
   "cell_type": "code",
   "execution_count": null,
   "id": "eb548470-0f54-47e2-9eed-0d7d6e311958",
   "metadata": {},
   "outputs": [],
   "source": [
    "# Tapez une province, un territoire, ou même le Canada entre les guillemets pour définir un sous-ensemble\n",
    "# \"Île-du-Prince-Édouard\", \"Québec\", \"Terre-Neuve-et-Labrador\", \"Alberta\", \"Nouveau-Brunswick\", \"Yukon\", \"Colombie-Britannique\", \"Nouvelle-Écosse\", \"Saskatchewan\", \"Territoires du Nord-Ouest\", \"Ontario\", \"Nunavut\", \"Manitoba\", \"Canada\"\n",
    "df = data.loc[lambda df: (df[\"GÉO\"]==\"Alberta\")];\n",
    "\n",
    "# Voici le code pour pivoter les colonnes et les lignes\n",
    "reorg = df.pivot_table(index=[df.index, \"LANGUE\"], values=\"CHIFFRE_TOTAL\", columns=\"QUESTION\")\n",
    "\n",
    "# Voici le code pour grouper les colonnes par LANGUE\n",
    "langues_tableau = reorg.groupby([\"LANGUE\"], as_index=True).first()\n",
    "langues_tableau.reset_index(inplace=True)\n",
    "\n",
    "# Voici le code pour l'affichage des premières cinq lignes du tableau\n",
    "langues_tableau.head()"
   ]
  },
  {
   "cell_type": "code",
   "execution_count": null,
   "id": "9fdff3c7",
   "metadata": {},
   "outputs": [],
   "source": [
    "langue_dispersion = px.scatter(langues_tableau, \n",
    "                           x=\"Langue parlée le plus souvent à la maison\", # Changez la question entre \"Langue parlée le plus souvent à la maison\" et \"Langue utilisée le plus souvent au travail\"\n",
    "                           y=\"Langue maternelle\", \n",
    "                           color=\"LANGUE\", color_discrete_sequence=px.colors.diverging.Portland, \n",
    "                           title=\" \")\n",
    "langue_dispersion.show()"
   ]
  },
  {
   "cell_type": "markdown",
   "id": "9ef0b65d-299b-4ad0-a616-43497f704726",
   "metadata": {},
   "source": [
    "🔎 Y-a-t'il une relation linéaire ou non linéaire? Une relation positive ou négative?\n",
    "\n",
    "🔎 Quelles points de langues sont les valeurs extrêmes? Pouvez-vous offrir une explication plausible pour ces valeurs? \n",
    "\n",
    "🔎 Pourquoi pensez-vous qu'il y a une concentration des autres langues?"
   ]
  },
  {
   "cell_type": "markdown",
   "id": "ebbfe07f-00f8-4867-bc32-e9244c721d2d",
   "metadata": {
    "tags": []
   },
   "source": [
    "## Interpréter"
   ]
  },
  {
   "cell_type": "markdown",
   "id": "46e942d5-e423-4cf1-b830-d24d49c2b062",
   "metadata": {},
   "source": [
    "🔎 Quelles sont les tendances similaires et différentes dans les nuages de points?\n",
    "\n",
    "🔎 Quels pourraient être les impacts à court et à long terme de ces relations?\n",
    "\n",
    "🔎 Comment pouvons-nous considérer les responsabilités individuelles et collectives?"
   ]
  },
  {
   "cell_type": "markdown",
   "id": "c68d37f8-ca77-42fe-9419-239e0f414959",
   "metadata": {},
   "source": [
    "## Communiquer"
   ]
  },
  {
   "cell_type": "markdown",
   "id": "2502c732-5dc9-4725-b899-68871132099f",
   "metadata": {},
   "source": [
    "🔎 Comment est-ce que l'exploration des données de recensement vous a aidé à découvrir ce que le (bi)multilinguisme veut dire? \n",
    "\n",
    "🔎 Selon vous, quels sont les résultats qui ont le plus d'impact? Expliquez.\n",
    "\n",
    "🔎 Avez-vous toujours des questions sur le (bi)multilinguisme? Quelles sont vos questions? Quels types de données pourraient aborder vos questions?"
   ]
  },
  {
   "cell_type": "markdown",
   "id": "8909e30d-45f9-4779-9bdb-00a7cf64cfe4",
   "metadata": {},
   "source": [
    "# La fin"
   ]
  },
  {
   "cell_type": "markdown",
   "id": "11a94d15-4e12-4495-9ab6-5be60dfd2ea4",
   "metadata": {},
   "source": [
    "[![Callysto.ca License](https://github.com/callysto/curriculum-notebooks/blob/master/callysto-notebook-banner-bottom.jpg?raw=true)](https://github.com/callysto/curriculum-notebooks/blob/master/LICENSE.md)"
   ]
  }
 ],
 "metadata": {
  "kernelspec": {
   "display_name": "Python 3 (ipykernel)",
   "language": "python",
   "name": "python3"
  },
  "language_info": {
   "codemirror_mode": {
    "name": "ipython",
    "version": 3
   },
   "file_extension": ".py",
   "mimetype": "text/x-python",
   "name": "python",
   "nbconvert_exporter": "python",
   "pygments_lexer": "ipython3",
   "version": "3.11.6"
  }
 },
 "nbformat": 4,
 "nbformat_minor": 5
}
