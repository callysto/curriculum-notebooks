{
 "cells": [
  {
   "cell_type": "markdown",
   "id": "07312eca-4cc2-480a-a831-d300141955e0",
   "metadata": {},
   "source": [
    "![Callysto.ca Banner](https://github.com/callysto/curriculum-notebooks/blob/master/callysto-notebook-banner-top.jpg?raw=true)"
   ]
  },
  {
   "cell_type": "markdown",
   "id": "61d762aa-7656-4bc7-9c86-68913e3e327a",
   "metadata": {
    "tags": []
   },
   "source": [
    "# Les perceptions sur la langue et l'appartenance<br><br>La mise en forme des données de sondage: Partie I"
   ]
  },
  {
   "cell_type": "markdown",
   "id": "a98d956d-a9cc-4b82-be8b-606cc1846981",
   "metadata": {},
   "source": [
    "Bienvenue à ce notebook Jupyter. Ce notebook est gratuit et fait partie de la collection de Callysto, un projet promouvant la science des données dans les salles de classe de la 5e à la 12e année.\n",
    "\n",
    "Dans ce notebook, nous utiliserons le python pour réaliser les différentes étapes d'analyse des données afin d'interpréter les données et de les représenter par les visualisations. Le python est un langage de programmation qui nous permet de communiquer avec l'ordinateur. Le python contient la langue anglaise, mais la grammaire diffère considérablement."
   ]
  },
  {
   "cell_type": "markdown",
   "id": "705f70e8-30b0-4788-a793-cdcc2f9277e6",
   "metadata": {},
   "source": [
    "Pour démarrer le notebook et effectuer le code dans toutes les cellules, cliquez sur `Cell` dans le menu et sélectionnez `Run All`. Retournez en haut da la page après le chargement des cellules.\n",
    "\n",
    "![instructions](https://github.com/callysto/data-viz-of-the-week/blob/main/images/instructions.png?raw=true)\n",
    "\n",
    "Veuillez envoyer un courriel à l'adresse contact@callysto.ca si vous rencontrez des problèmes avec le notebook.\n",
    "<br><br>"
   ]
  },
  {
   "cell_type": "markdown",
   "id": "5a5ef61a-ba29-4873-9c65-584ad7e55480",
   "metadata": {
    "jp-MarkdownHeadingCollapsed": true,
    "tags": []
   },
   "source": [
    "## La démarche: les étapes d'analyses des données\n",
    "1. **Questionner** - Formuler la question de recherche.\n",
    "2. **Sélectionner** - Trouver les bibliothèques de python et les sources de données pour répondre à la question de recherche.\n",
    "3. **Organiser** - Mettre en forme les données afin de les préparer pour l'exploration.\n",
    "<br><br>"
   ]
  },
  {
   "cell_type": "markdown",
   "id": "90309745-6959-4a0b-8957-78301295a2d4",
   "metadata": {},
   "source": [
    "## Questionner"
   ]
  },
  {
   "cell_type": "markdown",
   "id": "95ea320b-7497-45b9-9bc8-65d1795b9e3b",
   "metadata": {},
   "source": [
    "**Comment détermine-t'on l'impact des interactions sur les perceptions d'identité?**\n",
    "<br><br>"
   ]
  },
  {
   "cell_type": "markdown",
   "id": "bff95950-f9ea-4f77-91eb-38fcd831c232",
   "metadata": {},
   "source": [
    "## Sélectionner"
   ]
  },
  {
   "cell_type": "markdown",
   "id": "6c87c50f-a914-40a3-ab3f-77bdd7d3ba4a",
   "metadata": {
    "tags": []
   },
   "source": [
    "### Le chargement des bibliothèques"
   ]
  },
  {
   "cell_type": "markdown",
   "id": "e3127a47-735f-48aa-b225-bbdefd3ded26",
   "metadata": {},
   "source": [
    "Les bibliothèques sont les outils qui permettent à manipuler plus facilement le langage de programmation python.\n",
    "\n",
    "Vous trouverez les notes sur le code dans la cellule en italique vert après le `#`."
   ]
  },
  {
   "cell_type": "code",
   "execution_count": null,
   "id": "6979054f-292a-4a51-90e0-971b7771c3dd",
   "metadata": {},
   "outputs": [],
   "source": [
    "# Pour la manipulation de tableaux et les statistiques, importez la bibliothèque pandas sous l'alias pd\n",
    "import pandas as pd\n",
    "\n",
    "# Pour la manipulation de chiffres, importez la bibliothèque numpy sous l'alias np\n",
    "import numpy as np\n",
    "\n",
    "# Enlever les warnings\n",
    "import warnings\n",
    "warnings.filterwarnings(\"ignore\")"
   ]
  },
  {
   "cell_type": "markdown",
   "id": "feb0691b-aef1-4182-afa0-58ab4ea56af2",
   "metadata": {},
   "source": [
    "### La source de données"
   ]
  },
  {
   "cell_type": "markdown",
   "id": "10f48e57-f9a7-41a4-ab89-cb4d6f5c7555",
   "metadata": {},
   "source": [
    "**Données ouvertes** [Attribution (CC-BY 4.0)](https://www.donneesquebec.ca/licence/#cc-by)\n",
    "<br><br>Ville de Montréal. (2020). Sondage Écho sur l'inclusion des personnes immigrantes. [Jeu de données]. Partenariat Données Québec. https://www.donneesquebec.ca/recherche/dataset/vmtl-sondage-inclusion-personnes-immigrantes\n",
    "\n",
    "Pour en savoir plus sur le jeu de données, veuillez consulter la page web."
   ]
  },
  {
   "cell_type": "markdown",
   "id": "2ca0d714-fd79-44de-bdc1-fce097deec82",
   "metadata": {},
   "source": [
    "### Le chargement des données"
   ]
  },
  {
   "cell_type": "markdown",
   "id": "32991cb4-391a-4ad4-ae04-75ec7157d7bf",
   "metadata": {},
   "source": [
    "Il y a deux fichiers disponibles : un pour les données et un pour les descriptions des variables.\n",
    "\n",
    "Nous accédons aux données en format csv (comma-separated values) et les chargeons avec la bibliothèque pandas en utilisant la fonction `read_csv`. \n",
    "\n",
    "Nous chargeons l'ensemble de données dans la variable `data` et nous utilisons pandas sous l'alias `pd` pour lire à travers la fonction `read_csv`, dans le dossier `data`, le fichier `2020-sondage-echo-donnees.csv`."
   ]
  },
  {
   "cell_type": "markdown",
   "id": "698577b4-b4b9-4f34-b290-b11575260811",
   "metadata": {},
   "source": [
    "#### Les données"
   ]
  },
  {
   "cell_type": "code",
   "execution_count": null,
   "id": "72cea243-6a15-4157-b352-19c05efc44a6",
   "metadata": {},
   "outputs": [],
   "source": [
    "# Pour le chargement de données en format csv, un format délimité par des virgules\n",
    "data = pd.read_csv(\"data/2020-sondage-echo-donnees.csv\")\n",
    "data"
   ]
  },
  {
   "cell_type": "markdown",
   "id": "b81e9c8b-9cca-417c-99b1-df9f59af2f20",
   "metadata": {},
   "source": [
    "L'ensemble de données fait 2 503 lignes et 361 colonnes, ce qui fait environ 900 000 points de données, une estimation car `NaN` remplit plusieurs cellules. `NaN` veut dire *not a number* et indique que la cellule est vide.\n",
    "\n",
    "Regardons aussi les descriptions des variables qui sont une forme de métadonnées, données sur les données !"
   ]
  },
  {
   "cell_type": "markdown",
   "id": "fbe4b21c-6ed0-4cbc-b377-c6b5187541ec",
   "metadata": {},
   "source": [
    "#### Les métadonnées"
   ]
  },
  {
   "cell_type": "code",
   "execution_count": null,
   "id": "e7630da6-7cd7-4231-8d85-30e1455a17ee",
   "metadata": {},
   "outputs": [],
   "source": [
    "# Pour le chargement de metadonnées en format csv \n",
    "metadata = pd.read_csv(\"data/2020-sondage-echo-variables.csv\")\n",
    "metadata.head()"
   ]
  },
  {
   "cell_type": "markdown",
   "id": "19bffe75-c8f0-48dc-8856-0649fe0c1da6",
   "metadata": {},
   "source": [
    "Remarquons que les métadonnées sont moins organisées dans le format tabulaire. Retirons les colonnes et lignes utiles liées à la question de recherche."
   ]
  },
  {
   "cell_type": "code",
   "execution_count": null,
   "id": "1d213e33-fa99-4f4d-b9c5-4824f92158fc",
   "metadata": {},
   "outputs": [],
   "source": [
    "questions = metadata[[\"champ\", \"description_question\", \"variable_reponse\", \"description_reponse\"]]  # Garder les quatre premières colonnes\n",
    "questions.columns = [\"variable\", \"question\", \"reponse\", \"description\"]  # Renommer les colonnes\n",
    "questions.set_index(\"variable\")  # Mettre le nom en index\n",
    "questions = questions.loc[lambda df: (df[\"variable\"].isin([\"record\", \"sexe\", \"age\", \"NAISS\", \"LANGU\", \"LANGUr96oe\", \"MINO\", \"Q2r1\", \"Q2r2\", \"Q2r3\", \"Q2r4\", \"Q2r5\", \"Q2r6\", \"Q2r7\", \"Q2r8\", \"Q42\", \"Q46\", \"Q47\", \"Q47B\", \"Q52r1\", \"Q52r2\", \"Q52r3\", \"Q52r4\", \"Q52r5\", \"Q52r6\", \"Q52r7\", \"Q52r8\", \"Q52r9\"]))]; # garder les lignes avec ces variables\n",
    "questions.head() # Afficher les métadonnées visées"
   ]
  },
  {
   "cell_type": "markdown",
   "id": "3248a35c-4159-4941-b8c0-738a115334cd",
   "metadata": {},
   "source": [
    "Nous listons les questions."
   ]
  },
  {
   "cell_type": "code",
   "execution_count": null,
   "id": "5e1be109-93e6-4fd2-a881-75197155264b",
   "metadata": {},
   "outputs": [],
   "source": [
    "questions.question.unique()"
   ]
  },
  {
   "cell_type": "markdown",
   "id": "a577e0c8-7d72-4be5-b4e4-229ecf3a416d",
   "metadata": {},
   "source": [
    "## Organiser"
   ]
  },
  {
   "cell_type": "markdown",
   "id": "8909b93c-f863-43c7-b765-b07c1c2d4423",
   "metadata": {},
   "source": [
    "Nous récupérons l'information dans les colonnes qui s'appliquent à la question de recherche et nous affichons le tableau."
   ]
  },
  {
   "cell_type": "code",
   "execution_count": null,
   "id": "38abc972-c58e-4869-877c-3b705faeec4b",
   "metadata": {},
   "outputs": [],
   "source": [
    "selections = data[[\"record\", \"sexe\", \"age\", \"NAISS\", \"LANGU\", \"LANGUr96oe\", \"MINO\", \"Q2r1\", \"Q2r2\", \"Q2r3\", \"Q2r4\", \"Q2r5\", \"Q2r6\", \"Q2r7\", \"Q2r8\", \"Q42\", \"Q46\", \"Q47\", \"Q47B\", \"Q52r1\", \"Q52r2\", \"Q52r3\", \"Q52r4\", \"Q52r5\", \"Q52r6\", \"Q52r7\", \"Q52r8\", \"Q52r9\"]]\n",
    "selections.head()"
   ]
  },
  {
   "cell_type": "markdown",
   "id": "4b1b1aef-647d-4d5f-9e2d-a1197ac69c84",
   "metadata": {},
   "source": [
    "Nous éliminons la sélection Je préfère de ne pas répondre dans les questions 42, 46, and 47."
   ]
  },
  {
   "cell_type": "code",
   "execution_count": null,
   "id": "65506c2a-65b6-4a78-8b85-628942521c1f",
   "metadata": {},
   "outputs": [],
   "source": [
    "selections = selections.loc[lambda df: (df[\"Q42\"] != 9) ];\n",
    "selections = selections.loc[lambda df: (df[\"Q46\"] != 9) ];\n",
    "selections = selections.loc[lambda df: (df[\"Q47\"] != 98) &(df[\"Q47\"] != 99)];"
   ]
  },
  {
   "cell_type": "markdown",
   "id": "319d9c2a-4215-40a8-b244-c05243a60211",
   "metadata": {},
   "source": [
    "Nous remplissons les NaNs dans la colonne `LANGUr96oe` avec l'information dans la colonne `LANGU`."
   ]
  },
  {
   "cell_type": "code",
   "execution_count": null,
   "id": "5deb708e-08a8-4214-9111-f9ec343ded13",
   "metadata": {},
   "outputs": [],
   "source": [
    "selections[\"LANGUr96oe\"] = selections[\"LANGUr96oe\"].fillna(selections[\"LANGU\"])\n",
    "selections.head()"
   ]
  },
  {
   "cell_type": "markdown",
   "id": "45edf4a7-a09a-450d-a2f7-d0d6b45f02c6",
   "metadata": {},
   "source": [
    "Nous supprimons la colonne `LANGU` qui a maintenant la même information que la colonne `LANGUr96oe`."
   ]
  },
  {
   "cell_type": "code",
   "execution_count": null,
   "id": "103db273-7c95-46af-8e5e-ed70a3db880d",
   "metadata": {},
   "outputs": [],
   "source": [
    "selections_langue = selections.drop(columns=[\"LANGU\"])\n",
    "selections_langue.head()"
   ]
  },
  {
   "cell_type": "markdown",
   "id": "f9ad3bff-1082-478e-a678-5afddc368ab6",
   "metadata": {},
   "source": [
    "Nous recodons les chiffres représentants la langue en mots et nous renommons la colonne `LANGUr96oe` en `LANGUE`."
   ]
  },
  {
   "cell_type": "code",
   "execution_count": null,
   "id": "7d3ad19c-1d1c-4cdb-a111-96642dffcfe6",
   "metadata": {},
   "outputs": [],
   "source": [
    "# Recodage de la langue\n",
    "reco_langue = {\n",
    "    1:\"Français\",\n",
    "    2:\"Anglais\",\n",
    "    96:\"Autre\",\n",
    "    99:\"Je préfère ne pas répondre\",\n",
    "}\n",
    "\n",
    "selections_langue[\"LANGUr96oe\"] = selections_langue[\"LANGUr96oe\"].replace(reco_langue)\n",
    "recodage = selections_langue.rename(columns={\"LANGUr96oe\": \"LANGUE\"})\n",
    "recodage.head()"
   ]
  },
  {
   "cell_type": "markdown",
   "id": "c4ed4f61-9b39-4cc9-b703-e82c5445d82d",
   "metadata": {},
   "source": [
    "Nous recodons les autres variables."
   ]
  },
  {
   "cell_type": "code",
   "execution_count": null,
   "id": "11b83aa0-6ee6-4b5f-929e-55ed4f62f97b",
   "metadata": {},
   "outputs": [],
   "source": [
    "# Recodage du sexe\n",
    "reco = {\n",
    "    1:\"Un homme\",\n",
    "    2:\"Une femme\",\n",
    "    6:\"Autre\",\n",
    "}\n",
    "\n",
    "recodage[\"sexe\"] = recodage[\"sexe\"].replace(reco)\n",
    "\n",
    "# Recodage de l'âge\n",
    "reco = {\n",
    "    0:\"Moins de 18 ans\",\n",
    "    1:\"De 18 à 24 ans\",\n",
    "    2:\"De 25 à 34 ans\",\n",
    "    3:\"De 35 à 44 ans\",\n",
    "    4:\"De 45 à 54 ans\",\n",
    "    5:\"De 55 à 64 ans\",\n",
    "    6:\"De 65 à 74 ans\",\n",
    "    7:\"75 ans ou plus\",\n",
    "}\n",
    "\n",
    "recodage[\"age\"] = recodage[\"age\"].replace(reco)\n",
    "\n",
    "# Recodage de la naissance\n",
    "reco_NAISS = {\n",
    "    1:\"Oui\",\n",
    "    2:\"Non\",\n",
    "}\n",
    "\n",
    "recodage[\"NAISS\"] = recodage[\"NAISS\"].replace(reco_NAISS)\n",
    "\n",
    "# Recodage de la minorité visible\n",
    "reco_MINO = {\n",
    "    1:\"Oui\",\n",
    "    2:\"Non\",\n",
    "    9:\"Je préfère ne pas répondre\",\n",
    "}\n",
    "\n",
    "recodage[\"MINO\"] = recodage[\"MINO\"].replace(reco_MINO)\n",
    "\n",
    "# Inversion de l'échelle de la langue de la Q2r1 à la Q2r8\n",
    "reco_Q2 = {\n",
    "    1:5, \"1\":5,\n",
    "    2:4, \"2\":4,\n",
    "    4:2, \"4\":2,\n",
    "    5:1, \"5\":1,\n",
    "\n",
    "}\n",
    "\n",
    "recodage.loc[:, \"Q2r1\":\"Q2r8\"] = recodage.loc[:, \"Q2r1\":\"Q2r8\"].replace(reco_Q2)\n",
    "\n",
    "# Inversion de l'échelle de l'appartenance de la Q42\n",
    "reco_Q42_str = {\n",
    "    1:5, \n",
    "    2:4, \n",
    "    8:3, \n",
    "    3:2, \n",
    "    4:1, \n",
    "    \"1\":5,\n",
    "    \"2\":4,\n",
    "    \"8\":3,\n",
    "    \"3\":2,\n",
    "    \"4\":1,\n",
    "}\n",
    "    \n",
    "recodage[\"Q42\"] = recodage[\"Q42\"].replace(reco_Q42_str)\n",
    "\n",
    "#Recodage de l'échelle de l'appartenance de la Q46\n",
    "reco_Q46 = {\n",
    "    8:3, \n",
    "    3:4, \n",
    "    4:5, \n",
    "   \n",
    "}\n",
    "\n",
    "recodage[\"Q46\"] = recodage[\"Q46\"].replace(reco_Q46)\n",
    "\n",
    "# Recodage de la Q47\n",
    "reco_Q47 = {\n",
    "    1:5,\n",
    "    2:4,\n",
    "    4:2,\n",
    "    97:1,\n",
    "}\n",
    "\n",
    "recodage[\"Q47\"] = recodage[\"Q47\"].replace(reco_Q47)\n",
    "\n",
    "# Recodage de la discrimination de la Q52r1 à la Q52r9\n",
    "reco_Q52 = {\n",
    "    1:\"Oui\",\n",
    "    2:\"Non\",\n",
    "    8:\"Je ne sais pas\",\n",
    "    9:\"Je préfère ne pas répondre\",\n",
    "}\n",
    "\n",
    "recodage.loc[:, \"Q52r1\":\"Q52r9\"] = recodage.loc[:, \"Q52r1\":\"Q52r9\"].replace(reco_Q52)\n",
    "\n",
    "recodage.head()"
   ]
  },
  {
   "cell_type": "markdown",
   "id": "ac278e86-c3a5-409f-ab11-d0d84b0c1bc1",
   "metadata": {},
   "source": [
    "Nous décrivons les variables."
   ]
  },
  {
   "cell_type": "code",
   "execution_count": null,
   "id": "b6916b77-725e-4052-943c-697f7197ce5b",
   "metadata": {},
   "outputs": [],
   "source": [
    "recodage.describe(include=[\"object\"])"
   ]
  },
  {
   "cell_type": "markdown",
   "id": "3832bd8c-519b-4a0e-b3c7-2959215fe485",
   "metadata": {},
   "source": [
    "Nous écrivons les données en un nouveau fichier."
   ]
  },
  {
   "cell_type": "code",
   "execution_count": null,
   "id": "3b58985a-58a1-44d5-a993-417d91a44c81",
   "metadata": {},
   "outputs": [],
   "source": [
    "# Créer un nouveau fichier (2020-sondage-echo-recodage.csv) dans le dossier data\n",
    "recodage.to_csv(\"data/2020-sondage-echo-recodage.csv\") "
   ]
  },
  {
   "cell_type": "markdown",
   "id": "652c52b9-e913-4bfb-98c8-c707a77e64f0",
   "metadata": {},
   "source": [
    "## Les variables visées après le recodage"
   ]
  },
  {
   "cell_type": "markdown",
   "id": "d202c16b-d075-42c3-bf36-2bd73c676ab9",
   "metadata": {
    "tags": []
   },
   "source": [
    "|Variable     |Question |Réponse  |\n",
    "|:-------------|:-------------|:-------------|\n",
    "|record|identifiant unique du répondant||\n",
    "|sexe|Vous identifiez-vous comme:|Un homme, Une femme|6 Autre|\n",
    "|age|Quel âge avez-vous?|Moins de 18 ans, De 18 à 24 ans, De 25 à 34 ans, De 35 à 44 ans, De 45 à 54 ans, De 55 à 64 ans, De 65 à 74 ans, 75 ans ou plus|\n",
    "|NAISS|NAISSANCE: Êtes-vous né au Canada?|Oui,  Non|\n",
    "|LANGUE|LANGUE: Quelle est la langue que vous avez apprise en premier lieu à la maison dans votre enfance et que vous comprenez toujours?|Français, Anglais, Autre, Je préfère ne pas répondre|\n",
    "|MINO|Considérez-vous appartenir à une minorité visible?|Oui, Non, Je préfère ne pas répondre|\n",
    "|Q2r1|Je comprends le français|5 Parfaitement, 4 Très bien, 3 Plutôt bien, 2 Pas très bien, 1 Pas du tout|\n",
    "|Q2r2|Je parle le français|5 Parfaitement, 4 Très bien, 3 Plutôt bien, 2 Pas très bien, 1 Pas du tout|\n",
    "|Q2r3|Je lis en français|5 Parfaitement, 4 Très bien, 3 Plutôt bien, 2 Pas très bien, 1 Pas du tout|\n",
    "|Q2r4|J’écris en français|5 Parfaitement, 4 Très bien, 3 Plutôt bien, 2 Pas très bien, 1 Pas du tout|\n",
    "|Q2r5|Je comprends l’anglais|5 Parfaitement, 4 Très bien, 3 Plutôt bien, 2 Pas très bien, 1 Pas du tout|\n",
    "|Q2r6|Je parle l’anglais|5 Parfaitement, 4 Très bien, 3 Plutôt bien, 2 Pas très bien, 1 Pas du tout|\n",
    "|Q2r7|Je lis l’anglais|5 Parfaitement, 4 Très bien, 3 Plutôt bien, 2 Pas très bien, 1 Pas du tout|\n",
    "|Q2r8|J’écris en anglais|5 Parfaitement, 4 Très bien, 3 Plutôt bien, 2 Pas très bien, 1 Pas du tout|\n",
    "|Q42|Vous sentez-vous Montréalais.e?|5 Oui, je me sens tout à fait Montréalais.e, 4 Oui, je me sens plutôt Montréalais.e, 3 Je ne sais pas, 2 Je ne me sens pas vraiment, 1 Je ne me sens pas du tout Montréalais.eMontréalais.e|\n",
    "|Q46|Vous sentez-vous isolé à Montréal?|1 Beaucoup, 2 Assez, 3 Je ne sais pas, 4 Peu, 5 Pas du tout|\n",
    "|Q47|Parmi tous vos amis, combien d’entre eux/elles ont la même langue maternelle que vous?|Tous/Toutes, La majorité, À peu près la moitié, Quelques-uns / Quelques-unes, Aucun(e), Je ne sais pas, Je préfère ne pas répondre|\n",
    "|Q52r1|Votre sexe? - Au cours des cinq dernières années, ou depuis votre arrivée à Montréal, croyez-vous avoir été victime de discrimination ou traité injustement par d’autres personnes, à Montréal, à cause de...|Oui, Non, Je ne sais pas, Je préfère ne pas répondre|\n",
    "|Q52r2|Votre appartenance ethnique ou nationale? - Au cours des cinq dernières années, ou depuis votre arrivée à Montréal, croyez-vous avoir été victime de discrimination ou traité injustement par d’autres personnes, à Montréal, à cause de...|Oui, Non, Je ne sais pas, Je préfère ne pas répondre|\n",
    "|Q52r3|La couleur de votre peau? - Au cours des cinq dernières années, ou depuis votre arrivée à Montréal, croyez-vous avoir été victime de discrimination ou traité injustement par d’autres personnes, à Montréal, à cause de...|Oui, Non, Je ne sais pas, Je préfère ne pas répondre|\n",
    "|Q52r4|Votre condition sociale? - Au cours des cinq dernières années, ou depuis votre arrivée à Montréal, croyez-vous avoir été victime de discrimination ou traité injustement par d’autres personnes, à Montréal, à cause de...|Oui, Non, Je ne sais pas, Je préfère ne pas répondre|\n",
    "|Q52r5|Votre religion? - Au cours des cinq dernières années, ou depuis votre arrivée à Montréal, croyez-vous avoir été victime de discrimination ou traité injustement par d’autres personnes, à Montréal, à cause de...|Oui, Non, Je ne sais pas, Je préfère ne pas répondre|\n",
    "|Q52r6|Votre orientation sexuelle? - Au cours des cinq dernières années, ou depuis votre arrivée à Montréal, croyez-vous avoir été victime de discrimination ou traité injustement par d’autres personnes, à Montréal, à cause de...|Oui, Non, Je ne sais pas, Je préfère ne pas répondre|\n",
    "|Q52r7|Votre âge? - Au cours des cinq dernières années, ou depuis votre arrivée à Montréal, croyez-vous avoir été victime de discrimination ou traité injustement par d’autres personnes, à Montréal, à cause de...|Oui, Non, Je ne sais pas, Je préfère ne pas répondre|\n",
    "|Q52r8|Une limitation fonctionnelle? - Au cours des cinq dernières années, ou depuis votre arrivée à Montréal, croyez-vous avoir été victime de discrimination ou traité injustement par d’autres personnes, à Montréal, à cause de...|Oui, Non, Je ne sais pas, Je préfère ne pas répondre|\n",
    "|Q52r9|Votre langue ou votre accent? - Au cours des cinq dernières années, ou depuis votre arrivée à Montréal, croyez-vous avoir été victime de discrimination ou traité injustement par d’autres personnes, à Montréal, à cause de...|Oui, Non, Je ne sais pas, Je préfère ne pas répondre|"
   ]
  },
  {
   "cell_type": "markdown",
   "id": "b63ef64c-e075-4a42-bc79-ac3135367107",
   "metadata": {},
   "source": [
    "# La fin"
   ]
  },
  {
   "cell_type": "markdown",
   "id": "9cd09ff1-b09d-4653-bec5-f40f02f12455",
   "metadata": {},
   "source": [
    "[![Callysto.ca License](https://github.com/callysto/curriculum-notebooks/blob/master/callysto-notebook-banner-bottom.jpg?raw=true)](https://github.com/callysto/curriculum-notebooks/blob/master/LICENSE.md)"
   ]
  }
 ],
 "metadata": {
  "kernelspec": {
   "display_name": "Python 3 (ipykernel)",
   "language": "python",
   "name": "python3"
  },
  "language_info": {
   "codemirror_mode": {
    "name": "ipython",
    "version": 3
   },
   "file_extension": ".py",
   "mimetype": "text/x-python",
   "name": "python",
   "nbconvert_exporter": "python",
   "pygments_lexer": "ipython3",
   "version": "3.11.6"
  }
 },
 "nbformat": 4,
 "nbformat_minor": 5
}
