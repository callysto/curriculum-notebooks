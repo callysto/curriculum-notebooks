{
 "cells": [
  {
   "cell_type": "markdown",
   "id": "7433301b-42cc-45b0-b961-82fc03822357",
   "metadata": {},
   "source": [
    "![Callysto.ca Banner](https://github.com/callysto/curriculum-notebooks/blob/master/callysto-notebook-banner-top.jpg?raw=true)"
   ]
  },
  {
   "cell_type": "markdown",
   "id": "8d0229a9-fef4-4272-9e2f-27f64109715b",
   "metadata": {},
   "source": [
    "# Les messages et l'inclusion<br><br>Pratiquer"
   ]
  },
  {
   "cell_type": "markdown",
   "id": "a856aa6f-bc8b-4442-8100-ab085c3877df",
   "metadata": {},
   "source": [
    "Bienvenue à ce notebook Jupyter. Ce notebook est gratuit et fait partie de la collection de Callysto, un projet promouvant la science des données dans les salles de classe de la 5e à la 12e année.\n",
    "\n",
    "Dans ce notebook, nous utiliserons le python pour réaliser les différentes étapes d'analyse des données afin d'interpréter les données et de les représenter par les visualisations. Le python est un langage de programmation qui nous permet de communiquer avec l'ordinateur. Le python contient la langue anglaise, mais la grammaire diffère considérablement."
   ]
  },
  {
   "cell_type": "markdown",
   "id": "a4ceaad1-0bbc-471c-a43e-8ec0379352c5",
   "metadata": {
    "tags": []
   },
   "source": [
    "## La démarche: les étapes d'analyses des données\n",
    "1. **Questionner** - Formuler la question de recherche.\n",
    "2. **Sélectionner** - Trouver les bibliothèques de python et les sources de données pour répondre à la question de recherche.\n",
    "3. **Organiser** - Mettre en forme les données afin de les préparer pour l'exploration.\n",
    "4. **Explorer** - Analyser les données et les représenter par les visualisations.\n",
    "5. **Interpréter** - Expliquer les observations obtenues à partir des visualisations.\n",
    "6. **Communiquer** - Tirer une conclusion à la question, basée sur l'interprétation des données.\n",
    "<br><br>"
   ]
  },
  {
   "cell_type": "markdown",
   "id": "302d0581-b199-408f-b244-9421c7797899",
   "metadata": {
    "tags": []
   },
   "source": [
    "## Questionner"
   ]
  },
  {
   "cell_type": "markdown",
   "id": "8681c7c8-2e40-445e-8732-605a1c970121",
   "metadata": {},
   "source": [
    "Le but est de définir une communauté ou un endroit et de collecter des données sur les messages d'inclusion dans l'endroit."
   ]
  },
  {
   "cell_type": "markdown",
   "id": "f5169b46-86b6-4107-8fa5-e584020111fe",
   "metadata": {},
   "source": [
    "✏️ Cliquez ici pour un espace pour formuler la(les) question(s) sur les messages. \n",
    "\n",
    "\n",
    "\n",
    "\n"
   ]
  },
  {
   "cell_type": "markdown",
   "id": "f39a2fde-2f01-4688-89f9-b11abcb60932",
   "metadata": {},
   "source": [
    "## Sélectionner"
   ]
  },
  {
   "cell_type": "markdown",
   "id": "8979ad29-4713-46c8-a5ed-72ffa274d730",
   "metadata": {
    "tags": []
   },
   "source": [
    "### Le chargement des bibliothèques"
   ]
  },
  {
   "cell_type": "markdown",
   "id": "ba5882d6-2ebd-4222-9aa0-86ab281d9047",
   "metadata": {},
   "source": [
    "Les bibliothèques sont les outils qui permettent à manipuler plus facilement le langage de programmation python.\n",
    "\n",
    "Vous trouverez les notes sur le code dans la cellule en italique vert après le `#`."
   ]
  },
  {
   "cell_type": "code",
   "execution_count": null,
   "id": "f47ec635-f4d3-4037-a208-a9989d71ec10",
   "metadata": {},
   "outputs": [],
   "source": [
    "# Pour la manipulation de tableaux, importez la bibliothèque pandas sous l'alias pd\n",
    "import pandas as pd\n",
    "\n",
    "# Pour les visualisations, importez les bibliothèques plotly express sous l'alias px et plotly graph objects sous l'alias go\n",
    "import plotly.express as px\n",
    "import matplotlib.pyplot as plt\n",
    "\n",
    "# Pour les nuage de mots\n",
    "from wordcloud import WordCloud\n",
    "\n",
    "# Tapez shift + return/enter pour charger les bibliothèques"
   ]
  },
  {
   "cell_type": "markdown",
   "id": "a6930f65-2a9b-4042-be23-c95eb086f190",
   "metadata": {},
   "source": [
    "## Organiser"
   ]
  },
  {
   "cell_type": "markdown",
   "id": "2af551c1-b469-4daa-9826-475dc190867d",
   "metadata": {},
   "source": [
    "✏️ Cliquez ici pour un espace pour définir les variables afin de répondre à votre question de recherche. \n",
    "\n",
    "\n",
    "\n"
   ]
  },
  {
   "cell_type": "markdown",
   "id": "e91ee1cc-a0cf-48b8-aac1-ac4b3075bcbb",
   "metadata": {},
   "source": [
    "Prenez des notes sur la collecte des données à la main, dans une feuille de calcul, ou même dans la cellule de code ci-dessous. \n",
    "\n",
    "Quand vous avez fini de collecter des données, essayez de les regrouper pour rendre l'analyse plus facile. Par exemple, nous pouvons regrouper un guichet automatique et un écran dans un nouveau groupe *électronique* pour le type de message. Ce regroupement nous donnera les fréquences plus élevées dans la colonne."
   ]
  },
  {
   "cell_type": "markdown",
   "id": "f9a439ea-6a11-4307-89ac-80439adba995",
   "metadata": {},
   "source": [
    "💻 Tapez les données pour créer l'ensemble de données `data` dans la cellule de code ci-dessous. Vous compterez vos observations sur les messages dans un tableau comme tel."
   ]
  },
  {
   "cell_type": "code",
   "execution_count": null,
   "id": "f3fd1d78-2da7-4cd4-9c63-961964d27bf9",
   "metadata": {
    "tags": []
   },
   "outputs": [],
   "source": [
    "# Initialisez la liste. Mettez vos propres données\n",
    "data = [\n",
    "    [\"1\", \"LRT\", \"mardi\", \"bienvenue\", \"multilingue\", \"un guichet automatique\", \"oui\"],\n",
    "    [\"2\", \"LRT\", \"vendredi\", \"invitation\", \"l'anglais\", \"une affiche\", \"oui\"],\n",
    "    [\" \", \" \", \" \", \" \", \" \", \" \", \" \"],\n",
    "    [\" \", \" \", \" \", \" \", \" \", \" \", \" \"],\n",
    "    [\" \", \" \", \" \", \" \", \" \", \" \", \" \"]\n",
    "]\n",
    "\n",
    "# Créez le sous-ensemble de données. Mettez vos propres colonnes\n",
    "df = pd.DataFrame(data, \n",
    "                  columns=[\"Observation\", \n",
    "                           \"Endroit\", \n",
    "                           \"Jour\", \n",
    "                           \"Message\", \n",
    "                           \"Langue(s)\", \n",
    "                           \"Type de message\", \n",
    "                           \"Inclusion\"])\n",
    "\n",
    "# Affichez le sous-ensemble de données\n",
    "df\n",
    "\n",
    "# Tapez shift + return/enter pour charger l'ensemble de données"
   ]
  },
  {
   "cell_type": "code",
   "execution_count": null,
   "id": "be83cbe6-72b4-4578-b300-4ebed87306d9",
   "metadata": {},
   "outputs": [],
   "source": [
    "# Si vous avez créé une feuille de calcul, téléversez le fichier dans le dossier `data` et importez votre fichier csv avec le code ci-dessous\n",
    "#df = pd.read_csv('data/messages.csv')"
   ]
  },
  {
   "cell_type": "markdown",
   "id": "777d0c4b-ed6c-4846-862a-93bba2b5aa35",
   "metadata": {
    "tags": []
   },
   "source": [
    "## Explorer"
   ]
  },
  {
   "cell_type": "markdown",
   "id": "60caac0a-643d-4f21-8a91-67e98052c737",
   "metadata": {},
   "source": [
    "💻 Commençons par visualiser les fréquences de l'ensemble de données dans un diagramme de catégories. Le diagramme représente les fréquences pour chaque variable catégorique (chaque colonne) et ses catégories. Lorsque l'ensemble de données ne contient que des mots, nous choisirons des diagrammes qui montra les fréquences de ces mots. Le diagramme de catégories est interactif, et vous pouvez déplacer les colonnes pour réorganiser vos données."
   ]
  },
  {
   "cell_type": "code",
   "execution_count": null,
   "id": "179ac362-7d56-4004-9cf6-c65e463d438e",
   "metadata": {},
   "outputs": [],
   "source": [
    "px.parallel_categories(df)\n",
    "\n",
    "# Tapez shift + return/enter pour charger la cellule et afficher le diagramme"
   ]
  },
  {
   "cell_type": "markdown",
   "id": "1d614ae5-499a-4354-90a9-3319a68d4ba4",
   "metadata": {},
   "source": [
    "💻 Codons une carte thermique avec les fréquences de deux colonnes visées."
   ]
  },
  {
   "cell_type": "code",
   "execution_count": null,
   "id": "06f41545-6822-425e-ab4e-28e378228958",
   "metadata": {},
   "outputs": [],
   "source": [
    "# Voici le code pour la définition des variables pour un carte thermique\n",
    "px.density_heatmap(df, \n",
    "            x=\"Message\", # Mettez une colonne pour l'axe des x\n",
    "            marginal_x=\"histogram\",\n",
    "            y=\"Inclusion\", # Mettez une colonne pour l'axe des y\n",
    "            marginal_y=\"histogram\",\n",
    "            title=\" \") # Ajoutez un titre pour le diagramme\n",
    "\n",
    "# Tapez shift + return/enter pour charger la cellule et afficher le diagramme"
   ]
  },
  {
   "cell_type": "markdown",
   "id": "2976d60c-13af-4010-abd1-30db8d089ca3",
   "metadata": {},
   "source": [
    "💻 Créez un histogramme pour une variable dans la cellule de code ci-dessous."
   ]
  },
  {
   "cell_type": "code",
   "execution_count": null,
   "id": "c8df4f30-2a93-45d5-9138-3becde52484e",
   "metadata": {},
   "outputs": [],
   "source": [
    "px.histogram(df,\n",
    "        x=\"Inclusion\", # Changez les variables x\n",
    "        title=\"\") # Ajoutez un titre pour le diagramme\n",
    "\n",
    "# Tapez shift + return/enter pour charger la cellule et afficher le diagramme   "
   ]
  },
  {
   "cell_type": "markdown",
   "id": "8d0d24eb-6127-4bf4-bfcd-aafe2b58c2d4",
   "metadata": {
    "tags": []
   },
   "source": [
    "## Interpréter"
   ]
  },
  {
   "cell_type": "markdown",
   "id": "7edec8f2-3cdc-46a0-a594-9eb04ecca085",
   "metadata": {},
   "source": [
    "🔎 Quelles sont les tendances similaires et différentes?\n",
    "\n",
    "🔎 Quels pourraient être les impacts à court et à long terme?\n",
    "\n",
    "🔎 Comment pouvez-vous considérer les responsabilités individuelles et collectives?"
   ]
  },
  {
   "cell_type": "markdown",
   "id": "edd5e1d7-0d09-46e3-8a8b-cf8ad0106eec",
   "metadata": {
    "tags": []
   },
   "source": [
    "## Communiquer"
   ]
  },
  {
   "cell_type": "markdown",
   "id": "845efdd9-8254-428a-9955-42c6c2d56a9f",
   "metadata": {},
   "source": [
    "✏️ Cliquez ici pour un espace pour écrire une conclusion \n",
    "\n",
    "\n",
    "\n",
    "\n",
    "\n"
   ]
  },
  {
   "cell_type": "markdown",
   "id": "60dfc222-2e84-4963-8f5f-2278e8f0d0c0",
   "metadata": {},
   "source": [
    "💻 Créez un nuage de mots dans la cellule de code ci-dessous pour exprimer vos idées."
   ]
  },
  {
   "cell_type": "code",
   "execution_count": null,
   "id": "d42b7d27-5030-4a95-b587-a3c0d3e22fbb",
   "metadata": {
    "tags": []
   },
   "outputs": [],
   "source": [
    "# Initialisez la liste. Mettez vos propres données. \n",
    "# Si vous avez pris des notes sur les messages des observations, vous pouvez les incorporer ici.\n",
    "# Décidez sur une échelle pour le sentiment 1 = un peu, 2 = pas mal, 3 = ni ici ni là, 4 = assez, 5 = beaucoup\n",
    "\n",
    "texte = [\n",
    "    [\"1\", \"Bonjour\", 3],\n",
    "    [\"2\", \"C'est beau!\", 4],\n",
    "    [\"3\", \"C'est ça\", 2],\n",
    "    [\"4\", \"Bilingue :)\", 5],\n",
    "    [\"5\", \"Dommage\", 1] # Ajoutez plus de données, si c'est nécessaire\n",
    "]\n",
    "\n",
    "# Créez le sous-ensemble de données. Mettez vos propres colonnes\n",
    "texte = pd.DataFrame(texte, \n",
    "                  columns=[\"Observation\", \n",
    "                           \"Mots\",\n",
    "                          \"Sentiment\"])\n",
    "\n",
    "# Affichez le sous-ensemble de données\n",
    "texte\n",
    "\n",
    "# Tapez shift + return/enter pour charger l'ensemble de donner"
   ]
  },
  {
   "cell_type": "code",
   "execution_count": null,
   "id": "1142b4d7-14fb-47d0-a0c8-19350e2923c5",
   "metadata": {},
   "outputs": [],
   "source": [
    "# Voici la définition de la variable `mots`\n",
    "mots = texte.set_index(\"Mots\")[\"Sentiment\"].to_dict()"
   ]
  },
  {
   "cell_type": "code",
   "execution_count": null,
   "id": "e44688a7-d096-48de-afa5-e0a0ad6a2c04",
   "metadata": {},
   "outputs": [],
   "source": [
    "# Voici le code pour un nuage de mots\n",
    "\n",
    "wc = WordCloud(background_color=\"white\", # La couleur du fond d'image\n",
    "               colormap=\"rainbow\", # Spécifiez d'autres couleurs telles que \"hot\",\"Reds\",\"rainbow\"\n",
    "              ) \n",
    "wc.fit_words(mots) # Voici l'affichage des mots de la variable `texte`\n",
    "plt.imshow(wc) #  L'affichage des couleurs\n",
    "plt.axis(\"off\") # Les axes fermés\n",
    "\n",
    "plt.title(\" \") # Ajoutez un titre\n",
    "\n",
    "plt.show() # L'affichage du nuage des mots"
   ]
  },
  {
   "cell_type": "markdown",
   "id": "b2a2db1e-db82-4c62-814f-a279cb2a2a7b",
   "metadata": {},
   "source": [
    "# La fin"
   ]
  },
  {
   "cell_type": "markdown",
   "id": "a9714f7a-20ad-4d1d-bdef-705edb1b41ad",
   "metadata": {},
   "source": [
    "[![Callysto.ca License](https://github.com/callysto/curriculum-notebooks/blob/master/callysto-notebook-banner-bottom.jpg?raw=true)](https://github.com/callysto/curriculum-notebooks/blob/master/LICENSE.md)"
   ]
  }
 ],
 "metadata": {
  "kernelspec": {
   "display_name": "Python 3 (ipykernel)",
   "language": "python",
   "name": "python3"
  },
  "language_info": {
   "codemirror_mode": {
    "name": "ipython",
    "version": 3
   },
   "file_extension": ".py",
   "mimetype": "text/x-python",
   "name": "python",
   "nbconvert_exporter": "python",
   "pygments_lexer": "ipython3",
   "version": "3.11.6"
  }
 },
 "nbformat": 4,
 "nbformat_minor": 5
}
