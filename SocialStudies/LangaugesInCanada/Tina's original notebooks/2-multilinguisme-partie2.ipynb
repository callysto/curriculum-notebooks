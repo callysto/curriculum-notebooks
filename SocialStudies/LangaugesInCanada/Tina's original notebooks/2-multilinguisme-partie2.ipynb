{
 "cells": [
  {
   "cell_type": "markdown",
   "id": "061ca560-c384-4b09-a2ce-ca383af80906",
   "metadata": {},
   "source": [
    "![Callysto.ca Banner](https://github.com/callysto/curriculum-notebooks/blob/master/callysto-notebook-banner-top.jpg?raw=true)"
   ]
  },
  {
   "cell_type": "markdown",
   "id": "cb7da4fd-2b2b-4a01-b58a-f8b845bd82a0",
   "metadata": {},
   "source": [
    "# Les langues parlées au Canada : Partie 2<br><br>Appréciation de la diversité du (bi)multilinguisme<br><br>"
   ]
  },
  {
   "cell_type": "markdown",
   "id": "d6aaeddd-d915-4179-ac57-8da8ad754d6c",
   "metadata": {},
   "source": [
    "Bienvenue à ce notebook Jupyter. Ce notebook est gratuit et fait partie de la collection de Callysto, un projet promouvant la science des données dans les salles de classe de la 5e à la 12e année.\n",
    "\n",
    "Dans ce notebook, nous utiliserons le python pour réaliser les différentes étapes d'analyse des données afin d'interpréter les données et de les représenter par les visualisations. Le python est un langage de programmation qui nous permet de communiquer avec l'ordinateur. Le python contient la langue anglaise, mais la grammaire diffère considérablement."
   ]
  },
  {
   "cell_type": "markdown",
   "id": "5ac877b7-5ba9-4737-81e0-e0f663c0b17d",
   "metadata": {},
   "source": [
    "Pour démarrer le notebook et effectuer le code dans toutes les cellules, cliquez sur `Cell` dans le menu et sélectionnez `Run All`. Retournez en haut da la page après le chargement des cellules.\n",
    "\n",
    "![instructions](https://github.com/callysto/data-viz-of-the-week/blob/main/images/instructions.png?raw=true)\n",
    "\n",
    "Veuillez envoyer un courriel à l'adresse contact@callysto.ca si vous rencontrez des problèmes avec le notebook.\n",
    "<br><br>"
   ]
  },
  {
   "cell_type": "markdown",
   "id": "a1b07bd0-53d1-4dd8-822c-b3d68f92b8d2",
   "metadata": {
    "tags": []
   },
   "source": [
    "## La démarche: les étapes d'analyses des données\n",
    "Rechargement de la Partie I\n",
    "1. **Questionner** - Formuler la question de recherche.\n",
    "2. **Sélectionner** - Trouver les bibliothèques de python et les sources de données pour répondre à la question de recherche.\n",
    "3. **Organiser** - Mettre en forme les données afin de les préparer pour l'exploration.\n",
    "\n",
    "Partie II<br>\n",
    "4. **Explorer** - Analyser les données et les représenter par les visualisations.<br>\n",
    "5. **Interpréter** - Expliquer les observations obtenues à partir des visualisations.<br>\n",
    "6. **Communiquer** - Tirer une conclusion à la question, basée sur l'interprétation des données.\n",
    "<br><br>"
   ]
  },
  {
   "cell_type": "markdown",
   "id": "e053ccf5-cb4f-47f5-9956-27ec2017267a",
   "metadata": {
    "tags": []
   },
   "source": [
    "## Questionner"
   ]
  },
  {
   "cell_type": "markdown",
   "id": "25002d19-127e-4cc4-9b2a-f940e3affa21",
   "metadata": {},
   "source": [
    "🔎 **Comment découvert-on ce que le (bi)multilinguisme veut dire?**\n",
    "<br><br>"
   ]
  },
  {
   "cell_type": "markdown",
   "id": "989dc63e-28cc-4e71-a431-ae0571e7e483",
   "metadata": {},
   "source": [
    "## Sélectionner"
   ]
  },
  {
   "cell_type": "markdown",
   "id": "14d36a72-6b7c-412a-828a-0e541b221398",
   "metadata": {
    "tags": []
   },
   "source": [
    "### Le chargement des bibliothèques"
   ]
  },
  {
   "cell_type": "markdown",
   "id": "3c8d50ea-5688-4bd9-8873-de8d1a87f37b",
   "metadata": {},
   "source": [
    "Les bibliothèques sont les outils qui permettent à manipuler plus facilement le langage de programmation python."
   ]
  },
  {
   "cell_type": "code",
   "execution_count": null,
   "id": "d31204f2-6da4-441f-bdb7-5384c04a6053",
   "metadata": {},
   "outputs": [],
   "source": [
    "# Pour la manipulation de tableaux, importez la bibliothèque pandas sous l'alias pd\n",
    "import pandas as pd\n",
    "\n",
    "# Pour la manipulation de chiffres, importez la bibliothèque numpy sous l'alias np\n",
    "import numpy as np\n",
    "\n",
    "# Pour les visualisations, importez la bibliothèque plotly express sous l'alias px et la bibliothèque matplotlib sous l'alias plt\n",
    "import plotly.express as px\n",
    "import matplotlib.pyplot as plt\n",
    "\n",
    "# Pour les nuage de mots\n",
    "from wordcloud import WordCloud"
   ]
  },
  {
   "cell_type": "markdown",
   "id": "9919e12b-b456-4479-9fea-3fd6c7eb8d12",
   "metadata": {},
   "source": [
    "### Les sources de données\n",
    "\n",
    "📕 "
   ]
  },
  {
   "cell_type": "markdown",
   "id": "7d6e423e-8a90-4ead-8505-0042f0a5f445",
   "metadata": {},
   "source": [
    "[Licence du gouvernement ouvert – Canada](https://ouvert.canada.ca/fr/licence-du-gouvernement-ouvert-canada)\n",
    "\n",
    "Statistique Canada. (2023). Profil du recensement. Recensement de la population de 2021. [Jeu de données 98-316-X2021001]. \n",
    "https://www12.statcan.gc.ca/census-recensement/2021/dp-pd/prof/index.cfm?Lang=F\n",
    "\n",
    "Document connexe du recensement: https://www12.statcan.gc.ca/census-recensement/2021/dp-pd/prof/about-apropos/about-apropos.cfm?Lang=F\n",
    "\n",
    "Statistique Canada. (2023). Population selon la connaissance des langues officielles et la géographie, 1951 à 2021. [Jeu de données 15100004].  https://ouvert.canada.ca/data/fr/dataset/ca075a79-5962-4fc0-9a51-7439f659ea62 \n",
    "<br><br>"
   ]
  },
  {
   "cell_type": "markdown",
   "id": "b9cdc9f3-2853-4a4f-bc65-a59f2fd5af12",
   "metadata": {
    "tags": []
   },
   "source": [
    "### Le chargement des données"
   ]
  },
  {
   "cell_type": "markdown",
   "id": "30565292-7846-41a9-a23f-6ede0971f75a",
   "metadata": {},
   "source": [
    "Il y a deux sources de données. \n",
    "\n",
    "Le premier fichier `2021-langues-canada.csv` dans le dossier `data` rapporte les chiffres des langues maternelles, des langues parlées le plus souvent à la maison, et des langues utilisées au travail au Canada en 2021.\n",
    "\n",
    "Nous chargeons l'ensemble de données dans la variable `data_langues`."
   ]
  },
  {
   "cell_type": "code",
   "execution_count": null,
   "id": "96dd7a93-0646-42bd-99cf-c54424edb96d",
   "metadata": {},
   "outputs": [],
   "source": [
    "data_langues = pd.read_csv(\"data/2021-langues-canada.csv\")\n",
    "data_langues"
   ]
  },
  {
   "cell_type": "markdown",
   "id": "9aee3db2-863d-4ce4-ac97-2b94df8dfb18",
   "metadata": {},
   "source": [
    "L'ensemble de données `data_langues` fait 803 lignes et 5 colonnes, ce qui fait 4 015 points de données.\n",
    "<br><br>"
   ]
  },
  {
   "cell_type": "markdown",
   "id": "e58b8de6-ad4f-45ee-93f4-39f8b5dc494e",
   "metadata": {},
   "source": [
    "<br><br>\n",
    "Le deuxième fichier `1951-2021-langue-maternelle.csv` dans le dossier `data ` donne les chiffres des langues maternelles au Canada, dans les provinces, et aux territoires entre 1951 et 2021.\n",
    "\n",
    "Nous chargeons l'ensemble de données dans la variable `data_langue_maternelle_periode`."
   ]
  },
  {
   "cell_type": "code",
   "execution_count": null,
   "id": "00b2b92e-4477-47b0-b084-18de97808c13",
   "metadata": {},
   "outputs": [],
   "source": [
    "data_langue_maternelle_periode = pd.read_csv(\"data/1951-2021-langue-maternelle.csv\")\n",
    "data_langue_maternelle_periode"
   ]
  },
  {
   "cell_type": "markdown",
   "id": "ce691e62-e2f9-4f98-b36a-018994082fad",
   "metadata": {},
   "source": [
    "L'ensemble de données `data_langue_maternelle_periode` fait 2 920 lignes et 17 colonnes, ce qui fait moins de 49 000 points de données car `NaN` remplit plusieurs cellules et colonnes. `NaN` veut dire *Not a Number* et indique que la cellule est vide. Il faut mettre en forme cet ensemble de données dans l'étape d'Organiser.\n",
    "<br><br>"
   ]
  },
  {
   "cell_type": "markdown",
   "id": "64316187-e27e-4401-a923-2fe52284ca87",
   "metadata": {},
   "source": [
    "## Organiser"
   ]
  },
  {
   "cell_type": "markdown",
   "id": "6395d05c-ff60-42be-8ad7-a9b4715a7afc",
   "metadata": {},
   "source": [
    "Revenons à la question de recherche de ce que veut dire le (bi)multilinguisme, il faut identifier et comprendre les variables liées afin d'organiser les données pour l'exploration.\n",
    "\n",
    "Pour obtenir plus de renseignements sur les variables relatives à la langue, consultons le [Guide de référence sur les langues, Recensement de la population de 2021](https://www12.statcan.gc.ca/census-recensement/2021/ref/98-500/003/98-500-x2021003-fra.cfm)."
   ]
  },
  {
   "cell_type": "markdown",
   "id": "862db375-11d2-4b4b-9b8b-ca2cf14c8642",
   "metadata": {
    "tags": []
   },
   "source": [
    "### Note sur les données de langue des ensembles de données\n",
    "\n",
    "Voici les questions liées à notre question de recherche et à la langue qui ont été posées aux Canadien.ne.s pendant le recensement de 2021 :\n",
    "\n",
    ">La question sur la langue **maternelle** était le suivant:\n",
    ">\n",
    ">Quelle est la langue que cette personne a apprise en premier lieu à la maison dans son enfance et qu’elle comprend encore?\n",
    ">\n",
    ">La question sur les langues parlées **à la maison** était divisée en deux parties:\n",
    ">\n",
    ">a) Quelle(s) langue(s) cette personne parle-t-elle régulièrement à la maison?\n",
    ">b) Parmi ces langues, laquelle cette personne parle-t-elle le plus souvent à la maison?\n",
    ">\n",
    ">La question sur les langues **de travail** était divisée en deux parties:\n",
    ">\n",
    ">a) Dans cet emploi, quelle(s) langue(s) cette personne utilisait-elle régulièrement?\n",
    ">b) Parmi ces langues, laquelle cette personne utilisait-elle le plus souvent dans cet emploi?"
   ]
  },
  {
   "cell_type": "markdown",
   "id": "7c304b8b-a5da-41ec-a49b-bd1ebf8e93f5",
   "metadata": {},
   "source": [
    "### L'ensemble de données `data_langues`"
   ]
  },
  {
   "cell_type": "markdown",
   "id": "1e86feb6-b153-4d70-a18d-1e1935340331",
   "metadata": {},
   "source": [
    "#### Le sous-ensemble `df_langue_maternelle`"
   ]
  },
  {
   "cell_type": "code",
   "execution_count": null,
   "id": "8bb7e2c3-cdae-42c0-a980-40737ef4e094",
   "metadata": {},
   "outputs": [],
   "source": [
    "df_langue_maternelle = data_langues.loc[data_langues[\"QUESTION\"] == \"Langue maternelle\"]\n",
    "df_langue_maternelle = df_langue_maternelle.sort_values(\"LANGUE\", ascending=True)"
   ]
  },
  {
   "cell_type": "markdown",
   "id": "8030f0e5-0977-4aa5-b9ed-aac0d173df97",
   "metadata": {},
   "source": [
    "#### Le sous-ensemble `df_langue_maison`"
   ]
  },
  {
   "cell_type": "code",
   "execution_count": null,
   "id": "61bd27bd-fc2a-4d53-9352-671543fe47dd",
   "metadata": {
    "tags": []
   },
   "outputs": [],
   "source": [
    "df_langue_maison = data_langues.loc[lambda df: (df[\"QUESTION\"]==\"Langue parlée le plus souvent à la maison\")]; \n",
    "df_langue_maison = df_langue_maison.sort_values(\"LANGUE\", ascending=True)"
   ]
  },
  {
   "cell_type": "markdown",
   "id": "57cfaa08-6528-43d2-858e-025dad994f34",
   "metadata": {},
   "source": [
    "#### Le sous-ensemble `df_langue_travail`"
   ]
  },
  {
   "cell_type": "code",
   "execution_count": null,
   "id": "3ece231c-478e-4a6c-bb84-f5811c1bd580",
   "metadata": {},
   "outputs": [],
   "source": [
    "df_langue_travail = data_langues.loc[lambda df: (df[\"QUESTION\"]==\"Langue utilisée le plus souvent au travail\")];\n",
    "df_langue_travail = df_langue_travail.sort_values(\"LANGUE\", ascending=True)"
   ]
  },
  {
   "cell_type": "markdown",
   "id": "b28ae919-c130-40a6-b2d9-ebf0cb43ec01",
   "metadata": {},
   "source": [
    "#### Le sous-ensemble `langues_tableau`"
   ]
  },
  {
   "cell_type": "code",
   "execution_count": null,
   "id": "4e643335-6a64-4432-987f-34af3ebf6873",
   "metadata": {},
   "outputs": [],
   "source": [
    "reorg = data_langues.pivot_table(index=[data_langues.index, \"LANGUE\"], values=\"CHIFFRE_TOTAL\", columns=\"QUESTION\")\n",
    "langues_tableau = reorg.groupby([\"LANGUE\"], as_index=True).first()\n",
    "langues_tableau.reset_index(inplace=True)"
   ]
  },
  {
   "cell_type": "markdown",
   "id": "fe424bdc-f9d6-4a3c-8cc1-4aee82d6f9e7",
   "metadata": {},
   "source": [
    "### L'ensemble de données `data_langue_maternelle_periode`"
   ]
  },
  {
   "cell_type": "markdown",
   "id": "d30d4a71-a858-4fc3-abf8-cd1187bb8a43",
   "metadata": {},
   "source": [
    "#### Le sous-ensemble `df_langue_maternelle_periode`"
   ]
  },
  {
   "cell_type": "code",
   "execution_count": null,
   "id": "a476e5c5-5b27-4a11-9152-568e368d1cd1",
   "metadata": {},
   "outputs": [],
   "source": [
    "df_langue_maternelle_periode = data_langue_maternelle_periode.drop(columns=[\"DGUID\", \"Réponses multiples\", \"UNITÉ DE MESURE\", \"IDENTIFICATEUR D'UNITÉ DE MESURE\", \"FACTEUR SCALAIRE\", \"IDENTIFICATEUR SCALAIRE\", \"VECTEUR\", \"COORDONNÉES\", \"STATUS\", \"SYMBOLE\", \"TERMINÉ\", \"DÉCIMALES\"])\n",
    "df_pourcent_maternelle_periode = df_langue_maternelle_periode.loc[df_langue_maternelle_periode[\"Statistiques\"] == \"Pourcentage\"]\n",
    "df_langue_maternelle_reorg = df_pourcent_maternelle_periode[df_pourcent_maternelle_periode[\"Langue maternelle\"].str.contains(\"Total\") == False]"
   ]
  },
  {
   "cell_type": "markdown",
   "id": "d3b97b00-6f81-4a5d-89eb-b5ac09a50709",
   "metadata": {
    "tags": []
   },
   "source": [
    "## Explorer"
   ]
  },
  {
   "cell_type": "markdown",
   "id": "c93052b6-4d9a-45e1-97c0-f26685a71fa7",
   "metadata": {},
   "source": [
    "📕 Nous commençons l'exploration en visualisant tous les points de données. Créons un nuage de mots pour représenter les chiffres avec une correspondance entre le chiffre total de chaque langue et la taille du mot de la même langue. Nous transformons les données quantitatives (les chiffres) aux qualitatives (les mots)."
   ]
  },
  {
   "cell_type": "code",
   "execution_count": null,
   "id": "1ba38a97-f7fa-477b-85b1-f323cba04e42",
   "metadata": {},
   "outputs": [],
   "source": [
    "# Définir la variable `texte`\n",
    "texte = df_langue_maternelle.set_index(\"LANGUE\")[\"CHIFFRE_TOTAL\"].to_dict() # Changer le sous-ensemble de données :  df_langue_maternelle, df_langue_maison, ou df_langue_travail"
   ]
  },
  {
   "cell_type": "code",
   "execution_count": null,
   "id": "843129d0-ee7e-4703-ab8c-a7ab54d1adc0",
   "metadata": {},
   "outputs": [],
   "source": [
    "wc = WordCloud(background_color=\"white\", # Définir la couleur du fond d'image\n",
    "               colormap=\"RdBu\",# Spécifier d'autres couleurs telles que \"OrRd\",\"autumn\",\"copper\",\"gist_heat\",\"hot\",\"Reds\",\"rainbow\"\n",
    "              ) \n",
    "wc.fit_words(texte) # Afficher les mots de la variable `texte`\n",
    "plt.imshow(wc) # Mettre les couleurs\n",
    "plt.axis(\"off\") # Éteindre les axes\n",
    "plt.title(\"Les langues maternelles au Canada\") # Définir un titre\n",
    "plt.show() # Afficher le nuage des mots"
   ]
  },
  {
   "cell_type": "markdown",
   "id": "be38fb67-3c00-4166-87a9-2fcac51dd7a5",
   "metadata": {},
   "source": [
    "🔎 Comment est le bilinguisme représenté? Et le multilinguisme? "
   ]
  },
  {
   "cell_type": "markdown",
   "id": "977a2960-6957-4125-9fdf-00795decaa77",
   "metadata": {},
   "source": [
    "📕 Nous choisissons une autre visualisation, le diagramme à bandes, pour voir les fréquences de la variable `LANGUE`. Les nombres sur l'axe des y nous donnent l'échelle pour l'axe des x qui liste les langues du `df_langue_maternelle`.\n",
    "\n",
    "Des fois, les langues contiennent des abréviations :\n",
    "n.i.a. = non incluses ailleurs\n",
    "<br>n.d.a. = non déclaré ailleurs"
   ]
  },
  {
   "cell_type": "code",
   "execution_count": null,
   "id": "57e155ec-a9a0-4245-b104-9fef52041ca5",
   "metadata": {
    "tags": []
   },
   "outputs": [],
   "source": [
    "# Définir la variable langue_maternelle_bandes comme un diagramme à bandes avec l'axe des x LANGUE\n",
    "langue_maternelle_bandes = px.bar(df_langue_maternelle, x=\"LANGUE\", y=\"CHIFFRE_TOTAL\", color=\"LANGUE\", title=\" \", color_discrete_sequence=px.colors.diverging.Portland)\n",
    "\n",
    "# Afficher les bandes en ordre décroissant\n",
    "langue_maternelle_bandes.update_layout(xaxis={\"categoryorder\":\"total descending\"})\n",
    "\n",
    "# Afficher le diagramme à bandes\n",
    "langue_maternelle_bandes.update_layout(autosize=True, height=800)"
   ]
  },
  {
   "cell_type": "markdown",
   "id": "3ae59f50-6f2d-4506-8e83-a2ec4229b074",
   "metadata": {},
   "source": [
    "🔎 Dans le code de ce diagramme, nous avons indiqué la variable x et la variable y. Que représente la variable y? Examinons une ou deux variables ici?\n",
    "\n",
    "Examinez les hauteurs des bandes. Enlevez les langues officielles en désélectionnant `Anglais` et `Français` de la légende. Vous pouvez également zoomer en sélectionnant l'outil dans le menu à droite en haut de la visualisation et remettre les axes avec l'icône de maison.\n",
    "\n",
    "🔎 Pouvez-vous établir des changements notables entre les fréquences? Où se divisent les données? Y-a-t'il des explications pour ces divisions?\n",
    "\n",
    "🔎 Quel titre donneriez-vous à la visualisation? Que signifie votre titre?"
   ]
  },
  {
   "cell_type": "markdown",
   "id": "a6e9aaa6-4b86-43bd-a522-9a03c10be103",
   "metadata": {},
   "source": [
    "📕 Nous continuons l'exploration avec un diagramme à bandes avec les fréquences de la variable `LANGUE` dans le sous-ensemble `df_langue_maison`."
   ]
  },
  {
   "cell_type": "code",
   "execution_count": null,
   "id": "27baa1a3-a90d-44b7-96d2-1a131cd374d6",
   "metadata": {
    "tags": []
   },
   "outputs": [],
   "source": [
    "langue_maison_bandes = px.bar(df_langue_maison, x=\"LANGUE\", y=\"CHIFFRE_TOTAL\", color=\"LANGUE\", title=\" \", color_discrete_sequence=px.colors.diverging.Portland)\n",
    "langue_maison_bandes.update_layout(xaxis={\"categoryorder\":\"total descending\"}) \n",
    "langue_maison_bandes.update_layout(autosize=True, height=800)"
   ]
  },
  {
   "cell_type": "markdown",
   "id": "c59181c7-2587-4ae2-9ea9-8f2eca84d576",
   "metadata": {},
   "source": [
    "🔎 Quelle est la différence entre l'anglais comme langue maternelle dans le premier diagramme à bandes que nous avons exploré et l'anglais parlée à la maison dans ce graphique? \n",
    "\n",
    "🔎 Quelles sont les différences pour les autres langues? Pourriez-vous constater des raisons pour lesquelles les chiffres pour les langues maternelles et les langues parlées le plus souvent à la maison diffèrent?\n",
    "\n",
    "🔎 Quel titre donneriez-vous à la visualisation? Que signifie votre titre?"
   ]
  },
  {
   "cell_type": "markdown",
   "id": "a0efa712-96d8-4480-a3b5-3d86a22d9987",
   "metadata": {},
   "source": [
    "📕 Ensuite, nous explorons le diagramme à bandes avec les fréquences de la variable `LANGUE` dans le sous-ensemble `df_langue_travail`."
   ]
  },
  {
   "cell_type": "code",
   "execution_count": null,
   "id": "b6d3f573-8b67-4398-b109-d96acfe2583d",
   "metadata": {
    "tags": []
   },
   "outputs": [],
   "source": [
    "langue_travail_bandes = px.bar(df_langue_travail, x=\"LANGUE\", y=\"CHIFFRE_TOTAL\", title=\" \", color=\"LANGUE\", color_discrete_sequence=px.colors.diverging.Portland)\n",
    "langue_travail_bandes.update_layout(xaxis={\"categoryorder\":\"total descending\"})\n",
    "langue_travail_bandes.update_layout(autosize=True, height=800)"
   ]
  },
  {
   "cell_type": "markdown",
   "id": "3165569e-4ca9-4013-a424-5b0f67ed758c",
   "metadata": {},
   "source": [
    "Comparez l'axe des x de chacun des trois graphiques à barres. Chaque axe liste les fréquences de langues en ordre décroissant.\n",
    "\n",
    "🔎 Trouvez-vous utile de placer toutes les langues sur l'axe des x? Expliquez. Comment affecte l'interactivité de la visualisation sur l'interprétation?"
   ]
  },
  {
   "cell_type": "markdown",
   "id": "8d04f481-cf89-4cc8-b93d-328e371927c0",
   "metadata": {},
   "source": [
    "📕 Après avoir visualisé les fréquences d'une variable de la langue à la fois, nous pouvons explorer les relations entre deux variables de langue. Le diagramme de dispersion ci-dessous présente Langue maternelle sur l'axe des y et Langue parlée le plus souvent à la maison sur l'axe des x. Une liste de toutes les langues est dans la légende interactive."
   ]
  },
  {
   "cell_type": "code",
   "execution_count": null,
   "id": "420b3393-ce14-40b7-ba89-89d18107961c",
   "metadata": {},
   "outputs": [],
   "source": [
    "# Définir la variable langue_maternelle_maison comme un diagramme de dispersion avec l'axe des x Langue parlée le plus souvent à la maison et l'axe des y Lange maternelle\n",
    "langue_maternelle_maison = px.scatter(langues_tableau, x=\"Langue parlée le plus souvent à la maison\", y=\"Langue maternelle\", color=\"LANGUE\", color_discrete_sequence=px.colors.diverging.Portland, title=\" \")\n",
    "\n",
    "# Afficher le diagramme de dispersion\n",
    "langue_maternelle_maison.show()"
   ]
  },
  {
   "cell_type": "markdown",
   "id": "6ce403ca-f77b-4e88-ae0d-33b1f4ea065e",
   "metadata": {},
   "source": [
    "📕 Examinez la dispersion des données, le nuage de points. Cliquez sur les langues dans la légende pour les (dé)sélectionner. Mettez votre pointeur sur un point de donnée pour voir ses détails. Vous pouvez également zoomer en sélectionnant l'outil dans le menu à droite en haut de la visualisation et remettre les axes avec l'icône de maison."
   ]
  },
  {
   "cell_type": "markdown",
   "id": "9a4c5f92-a7b0-4f88-9f9d-906a080d3ad0",
   "metadata": {},
   "source": [
    "🔎 Est-ce que la Langue parlée le plus souvent à la maison est fréquemment la Langue maternelle? Y-a-t'il une relation linéaire ou non linéaire? Une relation positive ou négative?\n",
    "\n",
    "🔎 Quelles trois points de langues ont les valeurs extrêmes? Pouvez-vous offrir une explication potentielle pour ces valeurs? \n",
    "\n",
    "🔎 Pourquoi pensez-vous qu'il y a une concentration des autres langues? Quels points de langues ont les valeurs plus hautes pour la Langue maternelle que pour la Langue parlée le plus souvent à la maison? Indice: Zoomer vers les coordonnées (0, 0) et mettre votre pointeur sur les points de données pour leurs détails."
   ]
  },
  {
   "cell_type": "markdown",
   "id": "99673994-4042-4fe7-b5e5-5b5ba52a4bea",
   "metadata": {},
   "source": [
    "📕 Explorons la dépendance de la Langue maternelle, l'axe des y, sur la Langue utilisée le plus souvent au travail, l'axe des x, dans le nuage des points ci-dessous."
   ]
  },
  {
   "cell_type": "code",
   "execution_count": null,
   "id": "9f6d22a1-5ce2-4f91-82fe-11e13ee2603e",
   "metadata": {},
   "outputs": [],
   "source": [
    "langue_maternelle_travail = px.scatter(langues_tableau, x=\"Langue utilisée le plus souvent au travail\", y=\"Langue maternelle\", color=\"LANGUE\", color_discrete_sequence=px.colors.diverging.Portland, title=\" \")\n",
    "langue_maternelle_travail.show()"
   ]
  },
  {
   "cell_type": "markdown",
   "id": "5866aa70-6e6b-4c09-a174-7a9adefec002",
   "metadata": {},
   "source": [
    "🔎 Est-ce que la Langue utilisée le plus souvent au travail est fréquemment la Langue maternelle? Y-a-t'il une relation linéaire ou non linéaire? Une relation positive ou négative?\n",
    "\n",
    "🔎 Quelles trois points de langues sont les valeurs extrêmes? Pouvez-vous offrir une explication potentielle pour ces valeurs? \n",
    "\n",
    "🔎 Pourquoi pensez-vous qu'il y a une concentration des autres langues? Quels points de langues ont les valeurs plus hautes pour la Langue maternelle que pour la Langue utilisée le plus souvent au travail? Indice: Zoomer vers les coordonnées (0, 0) et mettre votre pointeur sur les points de données pour les détails."
   ]
  },
  {
   "cell_type": "markdown",
   "id": "1b4cfd6b-7743-4c1d-ac5c-f7e2b312908e",
   "metadata": {
    "tags": []
   },
   "source": [
    "## Interpréter"
   ]
  },
  {
   "cell_type": "markdown",
   "id": "a6f6708d-dbf2-494d-991a-cb07484083f1",
   "metadata": {},
   "source": [
    "🔎 Quelles sont les tendances similaires et différentes dans les deux nuages de points?\n",
    "\n",
    "🔎 Quels pourraient être les impacts à court et à long terme de ces relations?\n",
    "\n",
    "🔎 Comment pouvons-nous considérer les responsabilités individuelles et collectives?"
   ]
  },
  {
   "cell_type": "markdown",
   "id": "375721c4-3c15-4949-b946-173e6d49235c",
   "metadata": {},
   "source": [
    "## Explorer"
   ]
  },
  {
   "cell_type": "markdown",
   "id": "e064923e-4cad-40e4-80d8-dcc38ebd9105",
   "metadata": {},
   "source": [
    "📕 Les cartes proportionnelles, ou les treemaps, suivantes sont interactives. Cliquer sur les rectangles pour zoomer et explorer. Les cartes représentent hiérarchiquement les catégories et proportionnellement le chiffre total de chaque langue."
   ]
  },
  {
   "cell_type": "code",
   "execution_count": null,
   "id": "f3a2eb6d-e8b0-4876-8559-21338266f91c",
   "metadata": {},
   "outputs": [],
   "source": [
    "# Définir la variable langue_maternelle_classification avec les titres plus précis pour les catégories de langues\n",
    "langue_maternelle_classification = df_langue_maternelle.replace([\"officielle\", \"autochtone\", \"non officielle\", \"responses multiples\"], [\"Langues officielles\", \"Langues autochtones\", \"Langues non officielles\", \"Réponses multiples\"])\n",
    "\n",
    "# Définir la variable langues_maternelle_treemap comme un treemap avec les voies CLASSIFICATION et LANGUE\n",
    "langues_maternelle_treemap = px.treemap(langue_maternelle_classification, path=[px.Constant(\"<b>Langues maternelles au Canada</b>\"), \"CLASSIFICATION\", \"LANGUE\"], values=\"CHIFFRE_TOTAL\",\n",
    "                  color=\"LANGUE\", color_discrete_sequence=px.colors.diverging.Portland, hover_data=[\"CHIFFRE_TOTAL\"])\n",
    "\n",
    "# Afficher le treemap\n",
    "langues_maternelle_treemap.show()"
   ]
  },
  {
   "cell_type": "markdown",
   "id": "4d47aa52-65a0-4d9e-82e1-8efcd3b469e0",
   "metadata": {},
   "source": [
    "🔎 Où se trouvent les quatre classifications: les langues officielles, les langues non officielles, les langues autochtones, et les réponses multiples?"
   ]
  },
  {
   "cell_type": "code",
   "execution_count": null,
   "id": "c806366c-3a4f-4012-a127-5dcf98523953",
   "metadata": {},
   "outputs": [],
   "source": [
    "langue_maison_classification = df_langue_maison.replace([\"officielle\", \"autochtone\", \"non officielle\", \"responses multiples\"], [\"Langues officielles\", \"Langues autochtones\", \"Langues non officielles\", \"Réponses multiples\"])\n",
    "langues_maison_treemap = px.treemap(langue_maison_classification, path=[px.Constant(\"<b>Langues parlées le plus souvent à la maison au Canada</b>\"), \"CLASSIFICATION\", \"LANGUE\"], values=\"CHIFFRE_TOTAL\",\n",
    "                  color=\"LANGUE\", color_discrete_sequence=px.colors.diverging.Portland, hover_data=[\"CHIFFRE_TOTAL\"])\n",
    "langues_maison_treemap.show()"
   ]
  },
  {
   "cell_type": "markdown",
   "id": "996d0b4b-4992-41e0-b3dd-f8cf41c85a0d",
   "metadata": {},
   "source": [
    "🔎 Où se trouvent les quatre classifications: les langues officielles, les langues non officielles, les langues autochtones, et les réponses multiples? "
   ]
  },
  {
   "cell_type": "code",
   "execution_count": null,
   "id": "9bd87858-dc4a-409d-b7c8-8a920e34328b",
   "metadata": {},
   "outputs": [],
   "source": [
    "langue_travail_classification = df_langue_travail.replace([\"officielle\", \"autochtone\", \"non officielle\", \"responses multiples\"], [\"Langues officielles\", \"Langues autochtones\", \"Langues non officielles\", \"Réponses multiples\"])\n",
    "langues_travail_treemap = px.treemap(langue_travail_classification, path=[px.Constant(\"<b>Langues utilisées le plus souvent au travail au Canada</b>\"), \"CLASSIFICATION\", \"LANGUE\"], values=\"CHIFFRE_TOTAL\",\n",
    "                  color=\"LANGUE\", color_discrete_sequence=px.colors.diverging.Portland, hover_data=[\"CHIFFRE_TOTAL\"])\n",
    "langues_travail_treemap.show()"
   ]
  },
  {
   "cell_type": "markdown",
   "id": "ea7b72fe-2914-4038-9d54-76377f8c21af",
   "metadata": {},
   "source": [
    "🔎 Où se trouvent les quatre classifications: les langues officielles, les langues non officielles, les langues autochtones, et les réponses multiples? "
   ]
  },
  {
   "cell_type": "markdown",
   "id": "81a7266b-e211-48a9-af09-4ae824e0f497",
   "metadata": {
    "tags": []
   },
   "source": [
    "## Interpréter"
   ]
  },
  {
   "cell_type": "markdown",
   "id": "79f638da-c0fa-42b8-8a95-02e7cf5cb47b",
   "metadata": {
    "tags": []
   },
   "source": [
    "🔎 Quels changements voyez-vous des représentations des classifications (les langues officielles, les langues non officielles, les langues autochtones, et les réponses multiples) à travers les trois treemaps? Quelles sont vos explications des changements? \n",
    "\n",
    "🔎 Y-a-t'il des variables qui ne changent pas?"
   ]
  },
  {
   "cell_type": "markdown",
   "id": "dd4e39f0-afd1-415a-9ced-06fd1e136ba7",
   "metadata": {},
   "source": [
    "## Explorer"
   ]
  },
  {
   "cell_type": "markdown",
   "id": "872c5dd9-4702-406d-b2f8-c0225749aac4",
   "metadata": {},
   "source": [
    "Nous venons d'établir que l'utilisation des langues dépend du contexte. Nous explorons maintenant le pourcentage des langues maternelles déclarées chaque année entre 1951 et 2021 dans le diagramme à lignes brisées ci-dessous. \n",
    "\n",
    "Les classifications sont dans la légende: \n",
    "- Français\n",
    "- Anglais\n",
    "- Langue non officielle y compris les langues autochtones\n",
    "- Français et anglais\n",
    "- Anglais et langue(s) non officielle(s)\n",
    "- Français et langue(s) non officielle(s)\n",
    "- Français, anglais et langue(s) non officielle(s)\n",
    "\n",
    "L'axe des y contient les pourcentages, et l'axe des x comprend l'année."
   ]
  },
  {
   "cell_type": "code",
   "execution_count": null,
   "id": "b08cd0bb-29ae-4e41-a7f5-2af92de49b19",
   "metadata": {},
   "outputs": [],
   "source": [
    "# Définir le sous-ensemble df_geo pour Canada\n",
    "df_geo = df_langue_maternelle_reorg.loc[lambda df: (df[\"GÉO\"]==\"Canada\")];\n",
    "\n",
    "# Définir la variable langue_maternelle_lignes comme un diagramme à lignes brisées avec l'axe des y VALEUR et la variable color Langue maternelle\n",
    "langue_maternelle_lignes = px.line(df_geo, x=\"PÉRIODE DE RÉFÉRENCE\", y=\"VALEUR\", color=\"Langue maternelle\", color_discrete_sequence=px.colors.diverging.Portland, title=\"Langues maternelles au Canada entre 1951 et 2021\")\n",
    "\n",
    "# Afficher le diagramme à lignes brisées\n",
    "langue_maternelle_lignes.show()"
   ]
  },
  {
   "cell_type": "markdown",
   "id": "4155bc27-46cf-4cee-aa44-80a59b57c42b",
   "metadata": {},
   "source": [
    "🔎 Quelles langues sont représentées dès 1991 quand un plus grand choix a été ajouté aux questions sur la langue du recensement?"
   ]
  },
  {
   "cell_type": "markdown",
   "id": "cdd326b6-105b-4513-ae6c-2d6310d55ac9",
   "metadata": {
    "tags": []
   },
   "source": [
    "## Interpréter"
   ]
  },
  {
   "cell_type": "markdown",
   "id": "7da259a8-943b-4e5d-ac4c-9cef8ca3ac41",
   "metadata": {},
   "source": [
    "🔎 Quelle catégorie de langue maternelle connaît une tendance à la hausse même avec l'ajout de réponses multiples en 1991?"
   ]
  },
  {
   "cell_type": "markdown",
   "id": "c68d37f8-ca77-42fe-9419-239e0f414959",
   "metadata": {
    "tags": []
   },
   "source": [
    "## Communiquer"
   ]
  },
  {
   "cell_type": "markdown",
   "id": "8eb8f3aa-081e-4e18-9707-298e239b913e",
   "metadata": {},
   "source": [
    "🔎 Comment est-ce que l'exploration des données de recensements vous a aidé à découvrir ce que le (bi)multilinguisme veut dire? \n",
    "\n",
    "🔎 Selon vous, quels sont les résultats qui ont le plus d'impact? Expliquez.\n",
    "\n",
    "🔎 Avez-vous toujours des questions sur le (bi)multilinguisme? Quelles sont vos questions? Quels types de données pourraient aborder vos questions?"
   ]
  },
  {
   "cell_type": "markdown",
   "id": "8909e30d-45f9-4779-9bdb-00a7cf64cfe4",
   "metadata": {},
   "source": [
    "# La fin"
   ]
  },
  {
   "cell_type": "markdown",
   "id": "11a94d15-4e12-4495-9ab6-5be60dfd2ea4",
   "metadata": {},
   "source": [
    "[![Callysto.ca License](https://github.com/callysto/curriculum-notebooks/blob/master/callysto-notebook-banner-bottom.jpg?raw=true)](https://github.com/callysto/curriculum-notebooks/blob/master/LICENSE.md)"
   ]
  }
 ],
 "metadata": {
  "kernelspec": {
   "display_name": "Python 3 (ipykernel)",
   "language": "python",
   "name": "python3"
  },
  "language_info": {
   "codemirror_mode": {
    "name": "ipython",
    "version": 3
   },
   "file_extension": ".py",
   "mimetype": "text/x-python",
   "name": "python",
   "nbconvert_exporter": "python",
   "pygments_lexer": "ipython3",
   "version": "3.11.6"
  }
 },
 "nbformat": 4,
 "nbformat_minor": 5
}
