{
 "cells": [
  {
   "cell_type": "markdown",
   "id": "bea830a3-9eef-44ea-8d34-1dd7df1e3a05",
   "metadata": {
    "tags": []
   },
   "source": [
    "![Callysto.ca Banner](https://github.com/callysto/curriculum-notebooks/blob/master/callysto-notebook-banner-top.jpg?raw=true)"
   ]
  },
  {
   "cell_type": "markdown",
   "id": "09b86fb8-f341-4cab-b2cc-17aa428f6d58",
   "metadata": {},
   "source": [
    "# Les messages d'exclusion<br><br>Les crimes haineux déclarées au Canada en 2020"
   ]
  },
  {
   "cell_type": "markdown",
   "id": "1c180b79-1de8-4b07-8a11-52e7faa489e0",
   "metadata": {},
   "source": [
    "Bienvenue à ce notebook Jupyter. Ce notebook est gratuit et fait partie de la collection de Callysto, un projet promouvant la science des données dans les salles de classe de la 5e à la 12e année.\n",
    "\n",
    "Dans ce notebook, nous utiliserons le python pour réaliser les différentes étapes d'analyse des données afin d'interpréter les données et de les représenter par les visualisations. Le python est un langage de programmation qui nous permet de communiquer avec l'ordinateur. Le python contient la langue anglaise, mais la grammaire diffère considérablement."
   ]
  },
  {
   "cell_type": "markdown",
   "id": "845b121d-4f00-40b5-be36-3a5f8fc6c400",
   "metadata": {},
   "source": [
    "Pour démarrer le notebook et effectuer le code dans toutes les cellules, cliquez sur `Cell` dans le menu et sélectionnez `Run All`. Retournez en haut da la page après le chargement des cellules.\n",
    "\n",
    "![instructions](https://github.com/callysto/data-viz-of-the-week/blob/main/images/instructions.png?raw=true)\n",
    "\n",
    "Veuillez envoyer un courriel à l'adresse contact@callysto.ca si vous rencontrez des problèmes avec le notebook.\n",
    "<br><br>"
   ]
  },
  {
   "cell_type": "markdown",
   "id": "9e0c9384-5ff7-4d54-a55b-82cd274a8815",
   "metadata": {
    "jp-MarkdownHeadingCollapsed": true,
    "tags": []
   },
   "source": [
    "## La démarche: les étapes d'analyses des données\n",
    "1. **Questionner** - Formuler la question de recherche.\n",
    "2. **Sélectionner** - Trouver les bibliothèques de python et les sources de données pour répondre à la question de recherche.\n",
    "3. **Organiser** - Mettre en forme les données afin de les préparer pour l'exploration.\n",
    "4. **Explorer** - Analyser les données et les représenter par les visualisations.\n",
    "5. **Interpréter** - Expliquer les observations obtenues à partir des visualisations.\n",
    "6. **Communiquer** - Tirer une conclusion à la question, basée sur l'interprétation des données.\n",
    "<br><br>"
   ]
  },
  {
   "cell_type": "markdown",
   "id": "19dc2425-a18e-455e-9288-e7f3279688d4",
   "metadata": {},
   "source": [
    "## Questionner"
   ]
  },
  {
   "cell_type": "markdown",
   "id": "f6bc2259-1af0-498f-b35b-7623589717b8",
   "metadata": {},
   "source": [
    "**Comment détermine-t'on l'impact des messages sur les perceptions d'identité?**\n",
    "<br><br>"
   ]
  },
  {
   "cell_type": "markdown",
   "id": "0b99e0e2-84bc-4906-aa35-f51dd204316e",
   "metadata": {},
   "source": [
    "## Sélectionner"
   ]
  },
  {
   "cell_type": "markdown",
   "id": "428a986e-3e7f-4037-97bf-15acdd3b193f",
   "metadata": {
    "tags": []
   },
   "source": [
    "### Le chargement des bibliothèques"
   ]
  },
  {
   "cell_type": "markdown",
   "id": "8a9aa31a-8b62-40ba-9879-0e61c4955638",
   "metadata": {},
   "source": [
    "Les bibliothèques sont les outils qui permettent à manipuler plus facilement le langage de programmation python.\n",
    "\n",
    "Vous trouverez les notes sur le code dans la cellule en italique vert après le `#`."
   ]
  },
  {
   "cell_type": "code",
   "execution_count": null,
   "id": "8940f0d8-fc5a-4a57-bd9b-1842d6cd2915",
   "metadata": {},
   "outputs": [],
   "source": [
    "# Pour la manipulation de tableaux, importez la bibliothèque pandas sous l'alias pd\n",
    "import pandas as pd\n",
    "\n",
    "# Pour la manipulation de chiffres, importez la bibliothèque numpy sous l'alias np\n",
    "import numpy as np\n",
    "\n",
    "# Pour les visualisations, importez la bibliothèque plotly express sous l'alias px\n",
    "import plotly.express as px"
   ]
  },
  {
   "cell_type": "markdown",
   "id": "ecce4157-b407-4e02-beef-c539763af6d3",
   "metadata": {},
   "source": [
    "### La source de données\n",
    "\n",
    "📕 "
   ]
  },
  {
   "cell_type": "markdown",
   "id": "7f3d7bce-0046-46df-9940-7e4025a10dd5",
   "metadata": {},
   "source": [
    "[Licence du gouvernement ouvert – Canada](https://ouvert.canada.ca/fr/licence-du-gouvernement-ouvert-canada)\n",
    "\n",
    "Statistique Canada. (2023). Crimes haineux déclarés par la police, selon le type de motif, Canada (certains services de police). [Jeu de données 35-10-0066-01]. https://www150.statcan.gc.ca/t1/tbl1/fr/tv.action?pid=3510006601\n",
    "\n",
    "Informations supplémentaires : https://www150.statcan.gc.ca/n1/pub/85-002-x/2022001/article/00005-fra.htm\n",
    "<br><br>"
   ]
  },
  {
   "cell_type": "markdown",
   "id": "995952db-3bfe-47a7-9a03-2d22306bbb82",
   "metadata": {
    "tags": []
   },
   "source": [
    "### Le chargement des données"
   ]
  },
  {
   "cell_type": "markdown",
   "id": "dfdae0c6-5287-41d3-ae0b-19aaebe2d063",
   "metadata": {},
   "source": [
    "Nous accédons aux données en format csv (comma-separated values) et les chargeons avec la bibliothèque pandas en utilisant la fonction `read_csv`.\n",
    "\n",
    "Le fichier `2014-2020-langue-haine.csv` dans le dossier `data` rapporte les nombres et les pourcentages par l'année des crimes haineux rapportées au Canada selon le type de motif entre 2014 et 2020.\n",
    "\n",
    "Nous chargeons l'ensemble de données dans la variable `data` et nous utilisons pandas sous l'alias `pd` pour lire à travers la fonction `read_csv`."
   ]
  },
  {
   "cell_type": "code",
   "execution_count": null,
   "id": "946f81a6-3b44-4c3f-b819-4e51016e5604",
   "metadata": {},
   "outputs": [],
   "source": [
    "# Pour le chargement de données en format csv, un format délimité par des virgules\n",
    "data = pd.read_csv(\"data/2014-2020-langue-haine.csv\")\n",
    "data"
   ]
  },
  {
   "cell_type": "markdown",
   "id": "4a79f462-65ec-4c32-bc0d-2aeeee8e928e",
   "metadata": {},
   "source": [
    "L'ensemble de données `data` fait 414 lignes et 6 colonnes, ce qui fait 2 484 points de données."
   ]
  },
  {
   "cell_type": "markdown",
   "id": "25881110-21f7-46c1-a4b0-263b092909ae",
   "metadata": {},
   "source": [
    "## Organiser"
   ]
  },
  {
   "cell_type": "markdown",
   "id": "12ae5434-a046-4397-983c-38b947e1bc93",
   "metadata": {},
   "source": [
    "📕 Revenons à la question de recherche de l'impact des messages sur l'identité, il faut identifier et comprendre les variables liées afin d'organiser les données pour l'exploration.\n",
    "\n",
    "Pour examiner l'impact des crimes haineux, nous viserons les types de motif afin de passer les variables représentantes de l'identité par ces motifs."
   ]
  },
  {
   "cell_type": "markdown",
   "id": "46a1c4f7-6554-4c32-a71a-2758e8cee84a",
   "metadata": {
    "tags": []
   },
   "source": [
    "### La défintion des crimes haineux du jeu de données\n",
    "\n",
    "« Un crime haineux déclaré par la police est une infraction criminelle commise contre une personne ou un bien et motivée par la haine de la race, de l’origine nationale ou ethnique, de la langue, de la couleur, de la religion, du sexe, de l’âge, de l’incapacité mentale ou physique, de l’orientation sexuelle, ou de l’identité ou expression de genre, ou de tout autre facteur semblable. »"
   ]
  },
  {
   "cell_type": "markdown",
   "id": "9d02e6a2-4025-4c46-9816-c0b6669a6d0a",
   "metadata": {},
   "source": [
    "🔎 Quels sont les impacts potentiels de la représentation des données de ces crimes?"
   ]
  },
  {
   "cell_type": "markdown",
   "id": "b0912c43-ef57-4571-869c-7095c3e99e3f",
   "metadata": {},
   "source": [
    "Définissons les sous-ensembles de données pour chaque indicateur. \n",
    "\n",
    "Nous utilisons `df` pour désigner le sous-ensemble, ou le **d**ata**f**rame, suivant d'une description pour nous donner `df_langue_haine_crimes`, `df_langue_haine_race_2020`, et `df_langue_haine_2020`, `df_langue_haine_langue`, et `df_appartenance_Canada`. Cette pratique nous aiderons à suivre tous les sous-ensembles ; les ensembles de données commencent avec `data`."
   ]
  },
  {
   "cell_type": "markdown",
   "id": "941ffcf7-86d4-4266-b410-ddd66c849828",
   "metadata": {},
   "source": [
    "Nous définissons les sous-ensembles par les paramètres. Nous définissons les paramètres en limitant les données dans les colonnes avec les opérateurs:\n",
    "\n",
    "| Opérateurs utilisés |   |\n",
    "|---|---|\n",
    "|==|est égal à|\n",
    "|!=|n'est pas égal à|\n",
    "|&|et|\n"
   ]
  },
  {
   "cell_type": "markdown",
   "id": "5c6eb0d3-7739-4e8c-9f05-f5c4684181e3",
   "metadata": {},
   "source": [
    "#### Le sous-ensemble `df_langue_haine_crimes`"
   ]
  },
  {
   "cell_type": "code",
   "execution_count": null,
   "id": "e8b82f1e-fc73-4c47-bb29-110b195f78da",
   "metadata": {
    "tags": []
   },
   "outputs": [],
   "source": [
    "df_langue_haine_crimes = data.loc[lambda df: (df[\"PÉRIODE DE RÉFÉRENCE\"]==2020) &(df[\"CATÉGORIE\"] != \"Crimes\") &(df[\"TYPE DE MOTIF\"].isin([\"Race ou origine ethnique\", \"Religion\", \"Orientation sexuelle\", \"Langue\", \"Incapacité\", \"Sex et genre\", \"Âge\" ,\"Autre facteur semblable\", \"Motivation inconnue\"]))];\n",
    "df_langue_haine_crimes.head()"
   ]
  },
  {
   "cell_type": "markdown",
   "id": "dd6eb88a-8005-4af9-a0a5-1a95f4d92294",
   "metadata": {},
   "source": [
    "#### Le sous-ensemble `df_langue_haine_race_2020`"
   ]
  },
  {
   "cell_type": "code",
   "execution_count": null,
   "id": "af290860-f700-4c66-a6c4-a1fbbaa569bb",
   "metadata": {},
   "outputs": [],
   "source": [
    "df_langue_haine_race_2020 = data.loc[lambda df: (df[\"PÉRIODE DE RÉFÉRENCE\"]==2020) &(df[\"CATÉGORIE\"] == \"Race ou origine ethnique\") &(df[\"TYPE DE MOTIF\"] != \"Race ou origine ethnique\")];\n",
    "df_langue_haine_race_2020.head()"
   ]
  },
  {
   "cell_type": "markdown",
   "id": "c7dab3cc-d485-49e1-bc0b-46549cc689f2",
   "metadata": {},
   "source": [
    "#### Le sous-ensemble `df_langue_haine_2020`"
   ]
  },
  {
   "cell_type": "code",
   "execution_count": null,
   "id": "f95224a4-f487-4294-bca3-6c40acaa7bf9",
   "metadata": {},
   "outputs": [],
   "source": [
    "df_langue_haine_2020 = data.loc[lambda df: (df[\"PÉRIODE DE RÉFÉRENCE\"]==2020) &(df[\"CATÉGORIE\"] == \"Langue\") &(df[\"TYPE DE MOTIF\"] != \"Langue\")];\n",
    "df_langue_haine_2020"
   ]
  },
  {
   "cell_type": "markdown",
   "id": "9fbbd25a-cb62-47e8-94d6-223830163122",
   "metadata": {},
   "source": [
    "#### Le sous-ensemble `df_langue_haine_langue`"
   ]
  },
  {
   "cell_type": "code",
   "execution_count": null,
   "id": "25ac3e38-3195-4ddd-b6a3-c9b1f402b9a7",
   "metadata": {},
   "outputs": [],
   "source": [
    "df_langue_haine_langue = data.loc[lambda df: (df[\"CATÉGORIE\"].isin([\"Langue\"])) &(df[\"TYPE DE MOTIF\"] != \"Langue\")];\n",
    "df_langue_haine_langue.head()"
   ]
  },
  {
   "cell_type": "markdown",
   "id": "f3570ffa-8ee7-4c0f-a819-19440b74f79e",
   "metadata": {},
   "source": [
    "#### Le sous-ensemble `df_langue_haine_langue_race`"
   ]
  },
  {
   "cell_type": "code",
   "execution_count": null,
   "id": "8c3bb044-6bb6-4b52-a041-5dcd94297117",
   "metadata": {},
   "outputs": [],
   "source": [
    "df_langue_haine_langue_race = data.loc[lambda df: (df[\"CATÉGORIE\"].isin([\"Langue\", \"Race ou origine ethnique\"])) &(df[\"TYPE DE MOTIF\"] != \"Langue\") &(df[\"TYPE DE MOTIF\"] != \"Race ou origine ethnique\")];\n",
    "df_langue_haine_langue_race.head()"
   ]
  },
  {
   "cell_type": "markdown",
   "id": "91579991-24a9-488b-8d16-adfc5b22e0a4",
   "metadata": {},
   "source": [
    "## Explorer"
   ]
  },
  {
   "cell_type": "markdown",
   "id": "9262a160-c521-4267-b67b-7a47f0b5ae57",
   "metadata": {},
   "source": [
    "### Crimes haineux au Canada en 2020"
   ]
  },
  {
   "cell_type": "markdown",
   "id": "4d2ec5cf-6301-4386-9496-12485e3652df",
   "metadata": {},
   "source": [
    "📕 Nous commençons en situant la catégorie Langue parmi les autres catégories des crimes haineux déclarés par la police au Canada en 2020."
   ]
  },
  {
   "cell_type": "code",
   "execution_count": null,
   "id": "cd808084-fb1c-4cd4-a385-38ba3f22750c",
   "metadata": {},
   "outputs": [],
   "source": [
    "# Voici les mesures de tendances centrales pour le nombre des crimes haineux déclarés par la police au Canada en 2020\n",
    "df_langue_haine_crimes[\"NOMBRE\"].describe()"
   ]
  },
  {
   "cell_type": "markdown",
   "id": "b205ddae-b772-4c80-9abf-6a7ea54a5fe7",
   "metadata": {},
   "source": [
    "🔎 Quelle est la moyenne? Quelle est la médiane?\n",
    "\n",
    "🔎 Quelles sont les valeurs minimum et maximum? Calculez l'étendue dans la cellule de code ci-dessous. Quel pourrait être l'impact que représente l'étendue?"
   ]
  },
  {
   "cell_type": "code",
   "execution_count": null,
   "id": "97b52aea-d987-4162-b89e-adf9ceda2889",
   "metadata": {},
   "outputs": [],
   "source": [
    "# Soustrayez la valeur maximum de la valeur minimum\n",
    "10-4"
   ]
  },
  {
   "cell_type": "code",
   "execution_count": null,
   "id": "285bbdef-35e7-4475-91fc-e5815a40b3c2",
   "metadata": {},
   "outputs": [],
   "source": [
    "data_crimes_bandes = px.bar(df_langue_haine_crimes, x=\"NOMBRE\", \n",
    "                            y=\"CATÉGORIE\", barmode=\"group\", \n",
    "                            title=\" \", # Tapez un titre pour le diagramme entre les guillemets\n",
    "                            color_discrete_sequence=px.colors.diverging.Portland)\n",
    "data_crimes_bandes.update_layout(autosize=True, height=500)\n",
    "data_crimes_bandes.update_layout(yaxis={\"categoryorder\":\"total ascending\"})\n",
    "data_crimes_bandes.show()"
   ]
  },
  {
   "cell_type": "markdown",
   "id": "0c2c238b-e6e5-44c9-93fc-256553c6bd28",
   "metadata": {},
   "source": [
    "🔎 Quelles sont les catégories qui sont plus de la médiane? Où se situe la langue?\n",
    "\n",
    "🔎 Selon les données, comment est-ce les autres reconnaissent nos identités?\n",
    "\n",
    "🔎 Quel titre donneriez-vous à la visualisation? Que signifie votre titre?"
   ]
  },
  {
   "cell_type": "code",
   "execution_count": null,
   "id": "113ef515-0f6d-47b2-80b4-fc87845ae18b",
   "metadata": {},
   "outputs": [],
   "source": [
    "data_crimes_bandes = px.bar(df_langue_haine_race_2020, x=\"NOMBRE\", \n",
    "                            y=\"TYPE DE MOTIF\", barmode=\"group\", \n",
    "                            title=\"Crimes haineux au Canada contre la race ou l'origine ethnique en 2020\", \n",
    "                            color_discrete_sequence=px.colors.diverging.Portland)\n",
    "data_crimes_bandes.update_layout(autosize=True, height=500)\n",
    "data_crimes_bandes.update_layout(yaxis={\"categoryorder\":\"total ascending\"})\n",
    "data_crimes_bandes.show()"
   ]
  },
  {
   "cell_type": "code",
   "execution_count": null,
   "id": "2b67b0c1-b3e4-47e8-a8a8-0b34910fb746",
   "metadata": {},
   "outputs": [],
   "source": [
    "data_crimes_bandes = px.bar(df_langue_haine_2020, x=\"NOMBRE\", \n",
    "                            y=\"TYPE DE MOTIF\", \n",
    "                            barmode=\"group\", \n",
    "                            title=\"Crimes haineux contre la langue au Canada en 2020\", \n",
    "                            color_discrete_sequence=px.colors.diverging.Portland)\n",
    "data_crimes_bandes.update_layout(autosize=True, height=500)\n",
    "data_crimes_bandes.update_layout(yaxis={\"categoryorder\":\"total ascending\"})\n",
    "data_crimes_bandes.show()"
   ]
  },
  {
   "cell_type": "markdown",
   "id": "dd64d668-7161-48bc-bf3a-599da9f433fa",
   "metadata": {},
   "source": [
    "🔎 Comment est-ce que les identités (ethno)linguistiques sont représentées par les données?\n",
    "\n",
    "🔎 Comment comparent ces nombres aux mesures de tendances centrales pour le nombre des crimes haineux déclarés par la police au Canada en 2020?\n",
    "\n",
    "🔎 Comment est-ce que ces diagrammes se comparent à ceux des langues et du sentiment d'appartenance et les minorités visibles?\n",
    "\n",
    "🔎 Quelle est une raison plausible pour expliquer la fréquence de crimes contre les personnes qui parlent l'anglais?\n",
    "\n",
    "🔎 Avez-vous d'autres questions à poser?"
   ]
  },
  {
   "cell_type": "markdown",
   "id": "8699f08f-278a-412c-9553-17e3a16851f6",
   "metadata": {},
   "source": [
    "### Crimes haineux au Canada de 2014 au 2022, selon le type de motif"
   ]
  },
  {
   "cell_type": "code",
   "execution_count": null,
   "id": "feaab810-6794-4a59-b130-0707ffa773d5",
   "metadata": {},
   "outputs": [],
   "source": [
    "langue_haine_pourcentage_lignes = px.line(df_langue_haine_langue, x=\"PÉRIODE DE RÉFÉRENCE\", \n",
    "                                          y=\"POURCENTAGE CRIMES\", \n",
    "                                          color=\"TYPE DE MOTIF\", \n",
    "                                          title=\" \", # Tapez un titre pour le diagramme entre les guillemets\n",
    "                                          color_discrete_sequence=px.colors.diverging.Portland)\n",
    "langue_haine_pourcentage_lignes.show()"
   ]
  },
  {
   "cell_type": "code",
   "execution_count": null,
   "id": "faeb12be-c908-440a-9689-ab1a4ddaed8e",
   "metadata": {
    "tags": []
   },
   "outputs": [],
   "source": [
    "langue_haine_nombre_lignes = px.line(df_langue_haine_langue, \n",
    "                                     x=\"PÉRIODE DE RÉFÉRENCE\", \n",
    "                                     y=\"NOMBRE\", \n",
    "                                     color=\"TYPE DE MOTIF\", \n",
    "                                     title=\" \", # Tapez un titre pour le diagramme entre les guillemets\n",
    "                                     color_discrete_sequence=px.colors.diverging.Portland)\n",
    "langue_haine_nombre_lignes.show()"
   ]
  },
  {
   "cell_type": "markdown",
   "id": "b7d260ed-683d-4714-a11e-6a1216d4adee",
   "metadata": {},
   "source": [
    "🔎 Comparez les deux diagrammes à lignes brisées pour les mêmes types de motifs. Pourquoi sont-ils différents?"
   ]
  },
  {
   "cell_type": "code",
   "execution_count": null,
   "id": "05e53675-c7de-4f0a-a65f-5165e6546c62",
   "metadata": {},
   "outputs": [],
   "source": [
    "langue_race_haine_pourcentage_lignes = px.line(df_langue_haine_langue_race, \n",
    "                                               x=\"PÉRIODE DE RÉFÉRENCE\", \n",
    "                                               y=\"POURCENTAGE CRIMES\", \n",
    "                                               color=\"TYPE DE MOTIF\", \n",
    "                                               title=\" \", # Tapez un titre pour le diagramme entre les guillemets\n",
    "                                               color_discrete_sequence=px.colors.diverging.Portland)\n",
    "langue_race_haine_pourcentage_lignes.show()"
   ]
  },
  {
   "cell_type": "code",
   "execution_count": null,
   "id": "9d8b39c9-492b-4013-a904-ca96cbd47534",
   "metadata": {
    "tags": []
   },
   "outputs": [],
   "source": [
    "langue_race_haine_nombre_lignes = px.line(df_langue_haine_langue_race, \n",
    "                                          x=\"PÉRIODE DE RÉFÉRENCE\", \n",
    "                                          y=\"NOMBRE\", \n",
    "                                          color=\"TYPE DE MOTIF\", \n",
    "                                          title=\" \", # Tapez un titre pour le diagramme entre les guillemets\n",
    "                                          color_discrete_sequence=px.colors.diverging.Portland)\n",
    "langue_race_haine_nombre_lignes.show()"
   ]
  },
  {
   "cell_type": "markdown",
   "id": "8eb2d1e7-6c61-4e8b-913d-85045a3a40df",
   "metadata": {},
   "source": [
    "🔎 Comparez les deux diagrammes à lignes brisées pour les mêmes types de motifs. Pourquoi sont-ils différents? Vous pouvez cliquer sur la légende interactive pour viser les types de motif.\n",
    "\n",
    "🔎 Quel titres donneriez-vous aux visualisations? Que signifient vos titres?"
   ]
  },
  {
   "cell_type": "markdown",
   "id": "cb67c4c5-6a77-4d90-afeb-97985bd6c95c",
   "metadata": {},
   "source": [
    "## Interpréter"
   ]
  },
  {
   "cell_type": "markdown",
   "id": "7b84779b-426d-4b4c-8581-458c45c93639",
   "metadata": {},
   "source": [
    "🔎 Quelles sont les tendances similaires et différentes?\n",
    "\n",
    "🔎 Quels messages pourraient symboliser les motifs?\n",
    "\n",
    "🔎 Quels pourraient être les impacts à court et à long terme de ces relations?\n",
    "\n",
    "🔎 Comment pouvons-nous considérer les responsabilités individuelles et collectives?"
   ]
  },
  {
   "cell_type": "markdown",
   "id": "61c92acc-66a7-4918-9a66-2651c3f4837f",
   "metadata": {},
   "source": [
    "## Communiquer"
   ]
  },
  {
   "cell_type": "markdown",
   "id": "7a2fea57-f450-4f43-b5f4-1d3c52c7eca1",
   "metadata": {},
   "source": [
    "📕 Lorsque les données sont sensibles, il est utile de les situer plus largement et faire des recommandations.\n",
    "\n",
    "| Matrice d'interprétation |   |   |\n",
    "|---|---|---|\n",
    "||Résultats négatives|Résultats positives|\n",
    "|Conclusions négatives|Manque d'amélioration<br>Perspective négative|Possibilité d'amélioration<br>Perspective positive|\n",
    "|Conclusions positives|Possibilité de détérioration<br>Perspective d'action|Manque de détérioration<br>Perspective de stabilisation et/ou d'amélioration|\n",
    "\n"
   ]
  },
  {
   "cell_type": "markdown",
   "id": "2e06723c-3249-42ef-ac75-128b594c0f33",
   "metadata": {},
   "source": [
    "🔎 Comment est-ce que l'exploration des données vous a aidé à déterminer l'impact des messages sur les perceptions d'identité?\n",
    "\n",
    "🔎 Selon vous, quels sont les résultats qui ont le plus d'impact? Expliquez les conclusions à partir de la matrice d'interprétation. Si vous avez des recommandations, proposez-les.\n",
    "\n",
    "🔎 Avez-vous toujours des questions sur les messages sur les perceptions d'identité? Quelles sont vos questions? Quels types de données pourraient aborder vos questions?"
   ]
  },
  {
   "cell_type": "markdown",
   "id": "fce0dd1a-5074-4455-9e0b-caa5b1938f55",
   "metadata": {},
   "source": [
    "# La fin"
   ]
  },
  {
   "cell_type": "markdown",
   "id": "105cd5a9-963d-4188-9f62-8d604833691d",
   "metadata": {},
   "source": [
    "[![Callysto.ca License](https://github.com/callysto/curriculum-notebooks/blob/master/callysto-notebook-banner-bottom.jpg?raw=true)](https://github.com/callysto/curriculum-notebooks/blob/master/LICENSE.md)"
   ]
  }
 ],
 "metadata": {
  "kernelspec": {
   "display_name": "Python 3 (ipykernel)",
   "language": "python",
   "name": "python3"
  },
  "language_info": {
   "codemirror_mode": {
    "name": "ipython",
    "version": 3
   },
   "file_extension": ".py",
   "mimetype": "text/x-python",
   "name": "python",
   "nbconvert_exporter": "python",
   "pygments_lexer": "ipython3",
   "version": "3.11.6"
  }
 },
 "nbformat": 4,
 "nbformat_minor": 5
}
