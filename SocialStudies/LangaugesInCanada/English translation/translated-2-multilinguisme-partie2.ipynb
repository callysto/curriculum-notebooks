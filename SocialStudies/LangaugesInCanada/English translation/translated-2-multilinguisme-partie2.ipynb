{
 "cells": [
  {
   "cell_type": "markdown",
   "id": "061ca560-c384-4b09-a2ce-ca383af80906",
   "metadata": {},
   "source": [
    "![Callysto.ca Banner](https://github.com/callysto/curriculum-notebooks/blob/master/callysto-notebook-banner-top.jpg?raw=true)"
   ]
  },
  {
   "cell_type": "markdown",
   "id": "cb7da4fd-2b2b-4a01-b58a-f8b845bd82a0",
   "metadata": {},
   "source": [
    "# Languages spoken in Canada : Part 2<br><br>Appreciation of the diversity of multilingualism<br><br>\n"
   ]
  },
  {
   "cell_type": "markdown",
   "id": "d6aaeddd-d915-4179-ac57-8da8ad754d6c",
   "metadata": {},
   "source": [
    "Welcome to this Jupyter notebook. This notebook is a free resource provided by the Callysto project which aims to promote data science in the grade 5 to 12 classroom.\n",
    "\n",
    "In this notebook, we will use Python to explore the different steps to data analysis, interpretation and visualization."
   ]
  },
  {
   "cell_type": "markdown",
   "id": "a1b07bd0-53d1-4dd8-822c-b3d68f92b8d2",
   "metadata": {
    "tags": []
   },
   "source": [
    "## Steps to analysing data\n",
    "1. **ask a question** - formulate a question to research.\n",
    "2. **select** - find a suitable data-base as well as the necessary Python libraries to answer the question.\n",
    "3. **organise** - clean and organize the data to prepare yourself for the data analysis\n",
    "4. **explore** - analyse the data and create data visualizations to represent the data\n",
    "5. **interpret** - explain the observation made through the visualizations. \n",
    "6.  **communicate** - form a conclusion to your initial question based on your observations"
   ]
  },
  {
   "cell_type": "markdown",
   "id": "e053ccf5-cb4f-47f5-9956-27ec2017267a",
   "metadata": {
    "tags": []
   },
   "source": [
    "## Question"
   ]
  },
  {
   "cell_type": "markdown",
   "id": "25002d19-127e-4cc4-9b2a-f940e3affa21",
   "metadata": {},
   "source": [
    "**How do we understand multilingualism in Canada?**"
   ]
  },
  {
   "cell_type": "markdown",
   "id": "989dc63e-28cc-4e71-a431-ae0571e7e483",
   "metadata": {},
   "source": [
    "## Selection"
   ]
  },
  {
   "cell_type": "markdown",
   "id": "14d36a72-6b7c-412a-828a-0e541b221398",
   "metadata": {
    "tags": []
   },
   "source": [
    "### Loading the libraries"
   ]
  },
  {
   "cell_type": "code",
   "execution_count": null,
   "id": "d31204f2-6da4-441f-bdb7-5384c04a6053",
   "metadata": {},
   "outputs": [],
   "source": [
    "# To create tables, import the pandas library under the label pd\n",
    "import pandas as pd\n",
    "\n",
    "# To manipulate numbers, import the numpy library under the label np\n",
    "import numpy as np\n",
    "\n",
    "# For the visualizations, import the plotly express library under the label px and the matplotlib library under the label plt\n",
    "import plotly.express as px\n",
    "import matplotlib.pyplot as plt\n",
    "\n",
    "print(\"Libraries have been imported.\")"
   ]
  },
  {
   "cell_type": "markdown",
   "id": "9919e12b-b456-4479-9fea-3fd6c7eb8d12",
   "metadata": {},
   "source": [
    "### Data sources\n",
    "\n",
    "📕 "
   ]
  },
  {
   "cell_type": "markdown",
   "id": "7d6e423e-8a90-4ead-8505-0042f0a5f445",
   "metadata": {},
   "source": [
    "[Open Government Licence - Canada](https://ouvert.canada.ca/fr/licence-du-gouvernement-ouvert-canada)\n",
    "\n",
    "Statistics Canada. (2023). Population by knowledges of official languages and geography, 1951 to 2021. [Series issue ID 15100004].  https://open.canada.ca/data/en/dataset/ca075a79-5962-4fc0-9a51-7439f659ea62 \n",
    "<br><br>"
   ]
  },
  {
   "cell_type": "markdown",
   "id": "b9cdc9f3-2853-4a4f-bc65-a59f2fd5af12",
   "metadata": {
    "tags": []
   },
   "source": [
    "### Loading in the data"
   ]
  },
  {
   "cell_type": "markdown",
   "id": "e58b8de6-ad4f-45ee-93f4-39f8b5dc494e",
   "metadata": {},
   "source": [
    "The dataset we will be using is called `1951-2021-langue-maternelle.csv` in the folder `data`. This dataset gives the mother languages in Canada, alongside giving information specifically within provinces and territories between 1951 and 2021. \n",
    "\n",
    "We will load the dataset in the variable `mother_language_data`."
   ]
  },
  {
   "cell_type": "code",
   "execution_count": null,
   "id": "00b2b92e-4477-47b0-b084-18de97808c13",
   "metadata": {},
   "outputs": [],
   "source": [
    "mother_language_data = pd.read_csv(\"data/1951-2021-mother-language.csv\")\n",
    "mother_language_data"
   ]
  },
  {
   "cell_type": "markdown",
   "id": "ce691e62-e2f9-4f98-b36a-018994082fad",
   "metadata": {},
   "source": [
    "The dataset `1951-2021-mother-language` is made of 2920 rows and 17 columns, which makes up about 49 000 data points as 'NaN' fills several cells and columns. 'NaN' means *Not a Number* and indicates that the cell is empty. We will need to clean this data in the next step: **organizing**. \n",
    "<br><br>"
   ]
  },
  {
   "cell_type": "markdown",
   "id": "64316187-e27e-4401-a923-2fe52284ca87",
   "metadata": {},
   "source": [
    "## Organize"
   ]
  },
  {
   "cell_type": "markdown",
   "id": "6395d05c-ff60-42be-8ad7-a9b4715a7afc",
   "metadata": {},
   "source": [
    "Let's return to the research question of how do we understand multilingualism. We will have to identify and understant the variables that are relavent in order to organize and explore the data. \n",
    "\n",
    "To get more information on the variables related to language, check the [language reference guide, census of population, 2021](https://www12.statcan.gc.ca/census-recensement/2021/ref/98-500/003/98-500-x2021003-eng.cfm)."
   ]
  },
  {
   "cell_type": "markdown",
   "id": "862db375-11d2-4b4b-9b8b-ca2cf14c8642",
   "metadata": {
    "tags": []
   },
   "source": [
    "### A note on the language data and the dataset\n",
    "\n",
    "Here are the questions relevant to our research that have been posed during the 2021 census :\n",
    "\n",
    ">The question regarding **mother tongue** is the following:\n",
    ">\n",
    ">What is the language that this person first learned at home in childhood and still understands?\n",
    ">\n",
    ">The question regarding the languages spoken **at home** was divided into two parts:\n",
    ">a) What language(s) does this person speak on a regular basis at home?\n",
    ">b) Of these languages, which one does this person speak most often at home?\n",
    ">\n",
    ">The question regarding the language spoken **at work** was divided into two parts:\n",
    ">\n",
    ">a) In this job, what language(s) did this person use on a regular basis?\n",
    ">b) Of these languages, which one did this person use most often in this job?"
   ]
  },
  {
   "cell_type": "markdown",
   "id": "fe424bdc-f9d6-4a3c-8cc1-4aee82d6f9e7",
   "metadata": {},
   "source": [
    "### The mother tongue period data set `mother_language_data`"
   ]
  },
  {
   "cell_type": "markdown",
   "id": "b9fd4ca6",
   "metadata": {},
   "source": [
    "Let's remove unnecessary columns and remove many of our \"NaN\" values in our dataset."
   ]
  },
  {
   "cell_type": "code",
   "execution_count": null,
   "id": "a476e5c5-5b27-4a11-9152-568e368d1cd1",
   "metadata": {},
   "outputs": [],
   "source": [
    "mother_language_data = mother_language_data.drop(columns=[\"DGUID\", \"UOM\", \"UOM_ID\", \"SCALAR_FACTOR\", \"SCALAR_ID\", \"VECTOR\", \"COORDINATE\", \"STATUS\", \"SYMBOL\", \"TERMINATED\", \"DECIMALS\"])"
   ]
  },
  {
   "cell_type": "markdown",
   "id": "2d14957f",
   "metadata": {},
   "source": [
    "Let's also only use the \"Percentage\" values in our column for future purposes in our visualizations."
   ]
  },
  {
   "cell_type": "code",
   "execution_count": null,
   "id": "58e55d71",
   "metadata": {},
   "outputs": [],
   "source": [
    "mother_language_data_percent = mother_language_data.loc[mother_language_data[\"Statistics\"] == \"Percentage\"]"
   ]
  },
  {
   "cell_type": "markdown",
   "id": "6255b8cb",
   "metadata": {},
   "source": [
    "We can first look at the different languages in our `Knowledge of official languages` column."
   ]
  },
  {
   "cell_type": "code",
   "execution_count": null,
   "id": "17758535",
   "metadata": {},
   "outputs": [],
   "source": [
    "mother_language_data['Knowledge of official languages'].unique()"
   ]
  },
  {
   "cell_type": "markdown",
   "id": "0fba88b5",
   "metadata": {},
   "source": [
    "Looking at the output above, we have *'Total, knowledge of official languages'* which is not an official language. Most likely, this is just a column header which was mistakenly added as a row value in our dataframe. Let's remove this value."
   ]
  },
  {
   "cell_type": "code",
   "execution_count": null,
   "id": "7d0bb5af",
   "metadata": {},
   "outputs": [],
   "source": [
    "mother_language_data_reorg = mother_language_data_percent[mother_language_data_percent[\"Knowledge of official languages\"].str.contains(\"Total\") == False]\n",
    "mother_language_data_reorg = mother_language_data_reorg.reset_index(drop=True)\n",
    "mother_language_data_reorg"
   ]
  },
  {
   "cell_type": "markdown",
   "id": "dd4e39f0-afd1-415a-9ced-06fd1e136ba7",
   "metadata": {},
   "source": [
    "## Explore"
   ]
  },
  {
   "cell_type": "markdown",
   "id": "872c5dd9-4702-406d-b2f8-c0225749aac4",
   "metadata": {},
   "source": [
    "We will see how the use of language depends on the context. We will explore the percentage of mother tongues declared every year between 1951 and 2021 in the line graph below. \n",
    "\n",
    "The classifications and in the legend: \n",
    "- French only\n",
    "- English only\n",
    "- English and French\n",
    "- Neither English nor French\n",
    "\n",
    "The y-axis represents the percentage and the x-axis represents the year"
   ]
  },
  {
   "cell_type": "code",
   "execution_count": null,
   "id": "8b43a1c8",
   "metadata": {},
   "outputs": [],
   "source": [
    "mother_language_data_reorg"
   ]
  },
  {
   "cell_type": "code",
   "execution_count": null,
   "id": "b08cd0bb-29ae-4e41-a7f5-2af92de49b19",
   "metadata": {},
   "outputs": [],
   "source": [
    "df_geo = mother_language_data_reorg.loc[lambda df: (df[\"GEO\"]==\"Canada\")]\n",
    "\n",
    "mother_language_fig = px.line(df_geo, x=\"REF_DATE\", y=\"VALUE\", color=\"Knowledge of official languages\", color_discrete_sequence=px.colors.diverging.Portland, title=\"Progression of people who know their mother language in Canada from 1951-2021, via percentage\")\n",
    "mother_language_fig.show()"
   ]
  },
  {
   "cell_type": "markdown",
   "id": "4155bc27-46cf-4cee-aa44-80a59b57c42b",
   "metadata": {},
   "source": [
    "🔎 Which languages began to be represented in 1991 when more choices have been added to the census questions? "
   ]
  },
  {
   "cell_type": "markdown",
   "id": "3dcb92bb",
   "metadata": {},
   "source": [
    "We can also look at our dataset in another lens. Instead of filtering on *Percentage*, let's take a look at the total value of **number** of people who speak a particular language in Canada."
   ]
  },
  {
   "cell_type": "code",
   "execution_count": null,
   "id": "b307d08b",
   "metadata": {},
   "outputs": [],
   "source": [
    "mother_language_data_number = mother_language_data.loc[mother_language_data[\"Statistics\"] == \"Number\"]\n",
    "\n",
    "mother_language_number_reorg = mother_language_data_number[mother_language_data_number[\"Knowledge of official languages\"].str.contains(\"Total\") == False]\n",
    "mother_language_number_reorg = mother_language_number_reorg.reset_index(drop=True)\n",
    "df_geo = mother_language_number_reorg.loc[lambda df: (df[\"GEO\"]==\"Canada\")]\n",
    "\n",
    "mother_language_fig = px.line(df_geo, x=\"REF_DATE\", y=\"VALUE\", color=\"Knowledge of official languages\", color_discrete_sequence=px.colors.diverging.Portland, title=\"Progression of people who know their mother language in Canada from 1951-2021, via numerical value\")\n",
    "mother_language_fig.show()"
   ]
  },
  {
   "cell_type": "markdown",
   "id": "b7e5df48",
   "metadata": {},
   "source": [
    "🔎 Which languages appear to grow faster/slower based on numerical visualization compared to percentage visualization?"
   ]
  },
  {
   "cell_type": "markdown",
   "id": "1209fda2",
   "metadata": {},
   "source": [
    "We can also take a look at the impact of separating within particular provinces/areas in Canada. Let's see what values we have within the `GEO` column."
   ]
  },
  {
   "cell_type": "code",
   "execution_count": null,
   "id": "134fb2aa",
   "metadata": {},
   "outputs": [],
   "source": [
    "mother_language_data['GEO'].unique()"
   ]
  },
  {
   "cell_type": "markdown",
   "id": "524731b3",
   "metadata": {},
   "source": [
    "Looking at our Python output, we see that we have the following provinces/areas:\n",
    "\n",
    "- \"Canada\"\n",
    "- 'Newfoundland and Labrador'\n",
    "- 'Prince Edward Island'\n",
    "- 'Nova Scotia'\n",
    "- 'New Brunswick'\n",
    "- 'Quebec'\n",
    "- 'Ontario'\n",
    "- 'Manitoba',\n",
    "- 'Saskatchewan'\n",
    "- 'Alberta'\n",
    "- 'British Columbia'\n",
    "- 'Yukon'\n",
    "- 'Northwest Territories including Nunavut'\n",
    "- 'Canada outside Quebec'\n",
    "- 'Northwest Territories'\n",
    "- 'Nunavut'"
   ]
  },
  {
   "cell_type": "markdown",
   "id": "b132af61",
   "metadata": {},
   "source": [
    "Let's take a look at which provinces have the highest number of purely English speakers. Afterwards, we can also take a look at which province has the highest number of purely French speaks. \n",
    "\n",
    "Since this dataset goes until 2021, let's use this year as our baseline to compare. \n",
    "\n",
    "We'll first filter for the year **2021**."
   ]
  },
  {
   "cell_type": "code",
   "execution_count": null,
   "id": "e1f392d0",
   "metadata": {},
   "outputs": [],
   "source": [
    "mother_language_2021 = mother_language_data_number[mother_language_data['REF_DATE'] == 2021]\n",
    "mother_language_2021 = mother_language_2021[mother_language_2021[\"Knowledge of official languages\"].str.contains(\"Total\") == False]\n",
    "\n",
    "mother_language_2021 = mother_language_2021.reset_index(drop=True)\n",
    "mother_language_2021"
   ]
  },
  {
   "cell_type": "markdown",
   "id": "8b364820",
   "metadata": {},
   "source": [
    "Now, we can find the highest **VALUE** for each province."
   ]
  },
  {
   "cell_type": "code",
   "execution_count": null,
   "id": "bd879de4",
   "metadata": {},
   "outputs": [],
   "source": [
    "province_fig = px.bar(mother_language_2021, x='GEO', y='VALUE', color='Knowledge of official languages',title='Number of people who know their mother language in Provinces in Canada (2021)', labels={'VALUE': 'Value', 'GEO': 'Province'},category_orders={'Knowledge of official languages': ['French only', 'English only', 'English and French', 'Neither English nor French']})\n",
    "province_fig.show()"
   ]
  },
  {
   "cell_type": "markdown",
   "id": "875335a5",
   "metadata": {},
   "source": [
    "🔎 Are there particular provinces that seem to go against the trend of other provinces? Can you identify reasons why this could be?"
   ]
  },
  {
   "cell_type": "markdown",
   "id": "cdd326b6-105b-4513-ae6c-2d6310d55ac9",
   "metadata": {
    "tags": []
   },
   "source": [
    "## Interpret"
   ]
  },
  {
   "cell_type": "markdown",
   "id": "7da259a8-943b-4e5d-ac4c-9cef8ca3ac41",
   "metadata": {},
   "source": [
    "🔎 Which category of mother tongue language has an increasing trend even with the addition of the extra responses in 1991?"
   ]
  },
  {
   "cell_type": "markdown",
   "id": "c68d37f8-ca77-42fe-9419-239e0f414959",
   "metadata": {
    "tags": []
   },
   "source": [
    "## Communicate"
   ]
  },
  {
   "cell_type": "markdown",
   "id": "8eb8f3aa-081e-4e18-9707-298e239b913e",
   "metadata": {},
   "source": [
    "🔎 How does the exploration of the census data help you in discovering what bilingualism and multilingualism mean? \n",
    "\n",
    "🔎 In your opinion, which results have the most impact? Explain.\n",
    "\n",
    "🔎 Do you have your own questions about multilingualism? What are your questions? What kind of data could help you answer your questions?"
   ]
  },
  {
   "cell_type": "markdown",
   "id": "11a94d15-4e12-4495-9ab6-5be60dfd2ea4",
   "metadata": {},
   "source": [
    "[![Callysto.ca License](https://github.com/callysto/curriculum-notebooks/blob/master/callysto-notebook-banner-bottom.jpg?raw=true)](https://github.com/callysto/curriculum-notebooks/blob/master/LICENSE.md)"
   ]
  }
 ],
 "metadata": {
  "kernelspec": {
   "display_name": "Python 3 (ipykernel)",
   "language": "python",
   "name": "python3"
  },
  "language_info": {
   "codemirror_mode": {
    "name": "ipython",
    "version": 3
   },
   "file_extension": ".py",
   "mimetype": "text/x-python",
   "name": "python",
   "nbconvert_exporter": "python",
   "pygments_lexer": "ipython3",
   "version": "3.10.8"
  }
 },
 "nbformat": 4,
 "nbformat_minor": 5
}
