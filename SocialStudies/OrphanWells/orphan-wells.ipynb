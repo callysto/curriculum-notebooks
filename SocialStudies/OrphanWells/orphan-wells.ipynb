{
 "cells": [
  {
   "cell_type": "markdown",
   "metadata": {},
   "source": [
    "![Callysto.ca Banner](https://github.com/callysto/curriculum-notebooks/blob/master/callysto-notebook-banner-top.jpg?raw=true)\n",
    "\n",
    "<a href=\"https://hub.callysto.ca/jupyter/hub/user-redirect/git-pull?repo=https%3A%2F%2Fgithub.com%2Fcallysto%2Fcurriculum-notebooks&branch=master&subPath=SocialStudies/OrphanWells/orphan-wells.ipynb&depth=1\" target=\"_parent\"><img src=\"https://raw.githubusercontent.com/callysto/curriculum-notebooks/master/open-in-callysto-button.svg?sanitize=true\" width=\"123\" height=\"24\" alt=\"Open in Callysto\"/></a>"
   ]
  },
  {
   "cell_type": "markdown",
   "metadata": {},
   "source": [
    "# Orphan Wells in Alberta\n",
    "\n",
    "In Alberta there are a number of oil and gas well sites that are no longer producing oil or gas. Well sites that don't have a company responsible for cleaning them up are called [orphan wells](https://en.wikipedia.org/wiki/Orphan_wells_in_Alberta,_Canada).\n",
    "\n",
    "## Orphan Well Association\n",
    "\n",
    "The [Orphan Well Association](https://www.orphanwell.ca) has been established to \"close wells, facilities and pipelines that do not have a solvent and responsible owner—known as orphans—to protect people and the environment, and remove the potential risk of unfunded liability.\" Using data from [orphanwell.ca](https://www.orphanwell.ca/about/orphan-inventory) as of 2021-12-14, we can visualize where these orphan wells are in Alberta.\n",
    "\n",
    "Select the following code cell, then click the `▶Run` button to load the data into a [DataFrame](https://pandas.pydata.org/pandas-docs/stable/reference/api/pandas.DataFrame.html)."
   ]
  },
  {
   "cell_type": "code",
   "execution_count": null,
   "metadata": {},
   "outputs": [],
   "source": [
    "import pandas as pd\n",
    "df = pd.read_csv('https://raw.githubusercontent.com/callysto/data-files/main/SocialStudies/OrphanWells/orphan-wells-alberta.csv')\n",
    "df"
   ]
  },
  {
   "cell_type": "markdown",
   "metadata": {},
   "source": [
    "There are 8683 rows, which means that 8683 orphan wells have been identified in Alberta.\n",
    "\n",
    "Of course there is a diclaimer about this data set:\n",
    "\n",
    "> *The Orphan Well Association or OWA makes no representation, warranties, or guarantees, expressed or implied, for the fitness of the data with respect to its use. The OWA is not responsible for any costs incurred from use of the information in this list.*\n",
    "*The AER Licence Details Report includes multiple events for individual wells in order to report production. Therefore there will be more entries than number of wells. Users of this list are advised that it does not necessarily reflect the current inventory of orphan wells held by the OWA and users are responsible for confirming any information used.*\n",
    "\n",
    "We can check how many wells there are in the data set with each status. “Closed” means it has been decommissioned, while “Active” means decommissioning is pending or it needs further downhole work."
   ]
  },
  {
   "cell_type": "code",
   "execution_count": null,
   "metadata": {},
   "outputs": [],
   "source": [
    "for status in df['Status'].unique():\n",
    "    print(status, df[df['Status'] == status].shape[0])"
   ]
  },
  {
   "cell_type": "markdown",
   "metadata": {},
   "source": [
    "### Map\n",
    "\n",
    "Let's generate an interactive map showing the locations of these sites. Sites designated `Closed` will have purple markers, and `Active` will be red.\n",
    "\n",
    "You can zoom in and out on the map. Clicking on a marker cluster will zoom in and expand it. Clicking on a marker will show you its [Unique Well Identifier](http://www.310sign.ca/blog/what-is-a-uwi-unique-well-identifier.html) and status."
   ]
  },
  {
   "cell_type": "code",
   "execution_count": null,
   "metadata": {},
   "outputs": [],
   "source": [
    "import folium\n",
    "from folium.plugins import MarkerCluster\n",
    "from folium.plugins import FastMarkerCluster\n",
    "m = folium.Map(location=[53.5,-114], zoom_start=5)\n",
    "mc = MarkerCluster()\n",
    "\n",
    "df['color'] = df['Status'].map(lambda x: \"purple\" if x=='Closed' else \"red\")\n",
    "\n",
    "callback = ('function (row) {' \n",
    "                'var marker = L.marker(new L.LatLng(row[0], row[1]), {color: \"red\"});'\n",
    "                'var icon = L.AwesomeMarkers.icon({'\n",
    "                \"icon: 'info-sign',\"\n",
    "                \"iconColor: 'white',\"\n",
    "                \"markerColor: row[4],\"\n",
    "                \"prefix: 'glyphicon',\"\n",
    "                \"extraClasses: 'fa-rotate-0'\"\n",
    "                    '});'\n",
    "                'marker.setIcon(icon);'\n",
    "                \"var popup = L.popup({maxWidth: '300'});\"\n",
    "                \"const display_text = {text: row[2]};\"\n",
    "                \"const display_text2 = {text: row[3]};\"\n",
    "                \"var mytext = $(`<div id='mytext' class='display_text' style='width: 100.0%; height: 100.0%;'> ${display_text.text} - ${display_text2.text}</div>`)[0];\"\n",
    "                \"popup.setContent(mytext);\"\n",
    "                \"marker.bindPopup(popup);\"\n",
    "               'return marker};')  \n",
    "             \n",
    "mc.add_child(FastMarkerCluster(df[['Surface Latitude','Surface Longitude','Unique Well Identifier','Status','color']].values.tolist(),callback=callback))\n",
    "m.add_child(mc)\n",
    "m"
   ]
  },
  {
   "cell_type": "markdown",
   "metadata": {},
   "source": [
    "## WellWiki\n",
    "\n",
    "Another website, [WellWiki](https://www.wellwiki.org), maintains information about oil and gas wells in Canada and the United States. There are currently [619 503 Alberta wells](https://www.wellwiki.org/wiki/Special:AlbertaAdvancedWellSearch) on the site.\n",
    "\n",
    "Let's load data about the wells that have a license status of \"Abandoned\". This will take about a minute to load, on the left of the cell you'll see `In [*]` which means that it is running."
   ]
  },
  {
   "cell_type": "code",
   "execution_count": null,
   "metadata": {},
   "outputs": [],
   "source": [
    "import warnings, requests\n",
    "url = 'https://www.wellwiki.org/wiki/Special:AlbertaAdvancedWellSearch?operatorfiltertype=matches&operatorfiltervalue=&countyfiltertype=matches&countyfiltervalue=&datefiltertype=matches&datefiltervalue=&licensefiltertype=matches&licensefiltervalue=Abandoned&meridianfiltertype=matches&meridianfiltervalue=&townshipfiltertype=matches&townshipfiltervalue=&rangefiltertype=matches&rangefiltervalue=&sectionfiltertype=matches&sectionfiltervalue=&pagenum=&pagesize=100000'\n",
    "\n",
    "with warnings.catch_warnings():\n",
    "    warnings.simplefilter(\"ignore\")\n",
    "    res = requests.get(url, verify=False)\n",
    "ww = pd.read_html(res.text)[1]\n",
    "ww.columns = ['UWI','Operator','County/Municipality','Meridian','Township','Range','Section','License Date','License Status']\n",
    "ww"
   ]
  },
  {
   "cell_type": "markdown",
   "metadata": {},
   "source": [
    "This data set shows 93 642 wells that have a license status of \"Abandoned\". If we want more information about an individual well, we can go to its page on the WellWiki site using the UWI (e.g. for well 0054022715000 it is https://www.wellwiki.org/wiki/0054022715000).\n",
    "\n",
    "Unfortunately the `UWI` column doesn't follow the same format as the `Unique Well Identifier` from the previous data set. However `UWI` does contain the information we need: sequence, location (Township, Meridian, Range, Section, and Legal Subdivision), and event.\n",
    "\n",
    "We'll use this information to create a new column in the `ww` DataFrame called `Unique Well Identifier`."
   ]
  },
  {
   "cell_type": "code",
   "execution_count": null,
   "metadata": {},
   "outputs": [],
   "source": [
    "def uwi_translator(UWI):\n",
    "    TWP = UWI[:3]\n",
    "    Meridian = UWI[3]\n",
    "    Range = UWI[4:6]\n",
    "    Section = UWI[6:8]\n",
    "    LSD = UWI[8:10]\n",
    "    Sequence = UWI[11]\n",
    "    Event = UWI[12]\n",
    "    new_uwi = '10'+Sequence+'/'+LSD+'-'+Section+'-'+TWP+'-'+Range+'W'+Meridian+'/'+Event\n",
    "    return new_uwi\n",
    "\n",
    "ww['Unique Well Identifier'] = ww['UWI'].map(lambda x: uwi_translator(x))\n",
    "ww"
   ]
  },
  {
   "cell_type": "markdown",
   "metadata": {},
   "source": [
    "### Unique Locations\n",
    "\n",
    "We can also create a new column called `Location Code` and create a new data set that includes only the first well with each location code."
   ]
  },
  {
   "cell_type": "code",
   "execution_count": null,
   "metadata": {},
   "outputs": [],
   "source": [
    "ww['Location Code'] = ww['UWI'].map(lambda x: x[2:11])\n",
    "ww_unique = ww.drop_duplicates(subset='Location Code', keep='first')\n",
    "ww_unique"
   ]
  },
  {
   "attachments": {},
   "cell_type": "markdown",
   "metadata": {},
   "source": [
    "Next we could load the WellWiki page for each of those `UWI` values and extract the latitude and longitude of the well using the following code:\n",
    "\n",
    "```python\n",
    "latitudes = []\n",
    "longitudes = []\n",
    "for row in ww_unique.itertuples():\n",
    "    site = pd.read_html('https://www.wellwiki.org/wiki/'+row.UWI)\n",
    "    latitudes.append(site[0][0][19].split(': ')[1])\n",
    "    longitudes.append(site[0][0][20].split(': ')[1])\n",
    "ww_unique['Latitude'] = latitudes\n",
    "ww_unique['Longitude'] = longitudes\n",
    "ww_unique\n",
    "```\n",
    "\n",
    "Unfortunately this would take quite a while, and the website might not appreciate all those page loads. Instead we will read the locations from a CSV file we have prepared, and then generate a map of these abandoned well locations."
   ]
  },
  {
   "cell_type": "code",
   "execution_count": null,
   "metadata": {},
   "outputs": [],
   "source": [
    "try:\n",
    "    wwu = pd.read_csv('wellwiki-abandoned-unique.csv')\n",
    "except:\n",
    "    wwu = pd.read_csv('https://raw.githubusercontent.com/callysto/data-files/main/SocialStudies/OrphanWells/wellwiki-abandoned-unique.csv')\n",
    "wwu = wwu.set_index('Unnamed: 0')\n",
    "wwu.index.name = None\n",
    "print('Generating a map of', wwu.shape[0], 'abandoned well locations.')\n",
    "m2 = folium.Map(location=[53.5,-114], zoom_start=5)\n",
    "mc2 = MarkerCluster()\n",
    "\n",
    "callback = ('function (row) {' \n",
    "                'var marker = L.marker(new L.LatLng(row[0], row[1]), {color: \"red\"});'\n",
    "                \"var popup = L.popup({maxWidth: '300'});\"\n",
    "                \"const display_text = {text: row[2]};\"\n",
    "                \"var mytext = $(`<div id='mytext' class='display_text' style='width: 100.0%; height: 100.0%;'> https://www.wellwiki.org/wiki/${display_text.text}</div>`)[0];\"\n",
    "                \"popup.setContent(mytext);\"\n",
    "                \"marker.bindPopup(popup);\"\n",
    "                'return marker};')\n",
    "\n",
    "mc2.add_child(FastMarkerCluster(wwu[['Latitude','Longitude','UWI']].values.tolist(),callback=callback))\n",
    "m2.add_child(mc2)\n",
    "m2"
   ]
  },
  {
   "attachments": {},
   "cell_type": "markdown",
   "metadata": {},
   "source": [
    "## Alberta Energy Regulator\n",
    "\n",
    "Another website, [Alberta Energy Regulator](https://www.aer.ca), maintains information about oil and gas wells as well as provides information on current events regarding the Oil & Gas industry in ALBERTA. Using data from [aer.ca](https://www.aer.ca/providing-information/data-and-reports/statistical-reports/st37), which contains well data as recent as 2023-05-01, we will be able to visualize where the abandoned wells are in Alberta.\n",
    "\n",
    "Let's load data about the wells. Additionally, we will also be using the uwi_translator method that we defined when using the WellWiki dataset to match the format found in OrphanWellAssociation's dataset. The Dataframe contains information on abandoned wells (ABD), abandoned zones (ABZONE), and wells that have been re-entered (ABRENT)"
   ]
  },
  {
   "cell_type": "code",
   "execution_count": null,
   "metadata": {},
   "outputs": [],
   "source": [
    "aer = pd.read_csv('https://raw.githubusercontent.com/callysto/data-files/main/SocialStudies/OrphanWells/AER-wells-list.csv',dtype='unicode')\n",
    "aer['Unique Well Identifier'] = aer['UWI'].map(lambda x: uwi_translator(x))\n",
    "aer"
   ]
  },
  {
   "attachments": {},
   "cell_type": "markdown",
   "metadata": {},
   "source": [
    "## Abandoned Wells\n",
    "\n",
    "Since we are only interested in the wells that have been abandoned, we need to filter the data to only include entries that have that specificed status. In this dataset, the status in indicated by the \"MODE\" column. Since we are interested in only abandoned wells, we will be filtering for the \"ABD\" keyword."
   ]
  },
  {
   "cell_type": "code",
   "execution_count": null,
   "metadata": {},
   "outputs": [],
   "source": [
    "aer = aer.loc[aer['MODE'].str.strip() == 'ABD']\n",
    "aer"
   ]
  },
  {
   "attachments": {},
   "cell_type": "markdown",
   "metadata": {},
   "source": [
    "## Mapping\n",
    "\n",
    "Similar to what we did with the other two datasets, let's create an interactive map to better understand where these sites are located. By clicking on a point on the map, you'll be able to see the name of the well that is located there."
   ]
  },
  {
   "cell_type": "code",
   "execution_count": null,
   "metadata": {},
   "outputs": [],
   "source": [
    "m3 = folium.Map(location=[53.5,-114], zoom_start=5)\n",
    "mc3 = MarkerCluster()\n",
    "\n",
    "callback = ('function (row) {' \n",
    "                'var marker = L.marker(new L.LatLng(row[0], row[1]), {color: \"red\"});'\n",
    "                \"var popup = L.popup({maxWidth: '300'});\"\n",
    "                \"const display_text = {text: row[2]};\"\n",
    "                \"var mytext = $(`<div id='mytext' class='display_text' style='width: 100.0%; height: 100.0%;'> ${display_text.text}</div>`)[0];\"\n",
    "                \"popup.setContent(mytext);\"\n",
    "                \"marker.bindPopup(popup);\"\n",
    "                'return marker};')\n",
    "\n",
    "mc3.add_child(FastMarkerCluster(aer[['LATITUDE','LONGITUDE','WELL NAME']].values.tolist(),callback=callback))\n",
    "m3.add_child(mc3)\n",
    "m3"
   ]
  },
  {
   "attachments": {},
   "cell_type": "markdown",
   "metadata": {},
   "source": [
    "## Conclusion\n",
    "\n",
    "In this notebook we generated interactive maps of orphan or abandoned wells in Alberta using data from [Orphan Well Association](https://www.orphanwell.ca), [WellWiki](https://www.wellwiki.org), and [Alberta Energy Regulator](https://www.aer.ca). How are the maps similar and different?"
   ]
  },
  {
   "cell_type": "markdown",
   "metadata": {},
   "source": [
    "[![Callysto.ca License](https://github.com/callysto/curriculum-notebooks/blob/master/callysto-notebook-banner-bottom.jpg?raw=true)](https://github.com/callysto/curriculum-notebooks/blob/master/LICENSE.md)"
   ]
  }
 ],
 "metadata": {
  "interpreter": {
   "hash": "d1ca6d17674200220921376aaeb3d36cffe15ecab2470a9a5e7a456cdbf61425"
  },
  "kernelspec": {
   "display_name": "Python 3.10.1 64-bit",
   "language": "python",
   "name": "python3"
  },
  "language_info": {
   "codemirror_mode": {
    "name": "ipython",
    "version": 3
   },
   "file_extension": ".py",
   "mimetype": "text/x-python",
   "name": "python",
   "nbconvert_exporter": "python",
   "pygments_lexer": "ipython3",
   "version": "3.11.3"
  }
 },
 "nbformat": 4,
 "nbformat_minor": 4
}
