{
 "cells": [
  {
   "cell_type": "markdown",
   "metadata": {},
   "source": [
    "![Callysto.ca Banner](https://github.com/callysto/curriculum-notebooks/blob/master/callysto-notebook-banner-top.jpg?raw=true)\n",
    "\n",
    "<a href=\"https://hub.callysto.ca/jupyter/hub/user-redirect/git-pull?repo=https%3A%2F%2Fgithub.com%2Fcallysto%2Fcurriculum-notebooks&branch=master&subPath=SocialStudies/OrphanWells/orphan-wells.ipynb&depth=1\" target=\"_parent\"><img src=\"https://raw.githubusercontent.com/callysto/curriculum-notebooks/master/open-in-callysto-button.svg?sanitize=true\" width=\"123\" height=\"24\" alt=\"Open in Callysto\"/></a>"
   ]
  },
  {
   "cell_type": "markdown",
   "metadata": {},
   "source": [
    "# Orphan Wells in Alberta\n",
    "\n",
    "In Alberta there are a number of oil and gas well sites that are no longer producing oil or gas. Well sites that don't have a company responsible for cleaning them up are called [orphan wells](https://en.wikipedia.org/wiki/Orphan_wells_in_Alberta,_Canada).\n",
    "\n",
    "## Orphan Well Association\n",
    "\n",
    "The [Orphan Well Association](https://www.orphanwell.ca) has been established to \"close wells, facilities and pipelines that do not have a solvent and responsible owner—known as orphans—to protect people and the environment, and remove the potential risk of unfunded liability.\" Using data from [orphanwell.ca](https://www.orphanwell.ca/about/orphan-inventory) as of 2021-12-14, we can visualize where these orphan wells are in Alberta.\n",
    "\n",
    "Select the following code cell, then click the `▶Run` button to load the data into a [DataFrame](https://pandas.pydata.org/pandas-docs/stable/reference/api/pandas.DataFrame.html)."
   ]
  },
  {
   "cell_type": "code",
   "execution_count": null,
   "metadata": {},
   "outputs": [],
   "source": [
    "import pandas as pd\n",
    "df = pd.read_csv('https://raw.githubusercontent.com/callysto/data-files/main/SocialStudies/OrphanWells/orphan-wells-alberta.csv')\n",
    "df"
   ]
  },
  {
   "cell_type": "markdown",
   "metadata": {},
   "source": [
    "There are 8683 rows, which means that 8683 orphan wells have been identified in Alberta.\n",
    "\n",
    "Of course there is a diclaimer about this data set:\n",
    "\n",
    "> *The Orphan Well Association or OWA makes no representation, warranties, or guarantees, expressed or implied, for the fitness of the data with respect to its use. The OWA is not responsible for any costs incurred from use of the information in this list.*\n",
    "*The AER Licence Details Report includes multiple events for individual wells in order to report production. Therefore there will be more entries than number of wells. Users of this list are advised that it does not necessarily reflect the current inventory of orphan wells held by the OWA and users are responsible for confirming any information used.*\n",
    "\n",
    "We can check how many wells there are in the data set with each status. “Closed” means it has been decommissioned, while “Active” means decommissioning is pending or it needs further downhole work."
   ]
  },
  {
   "cell_type": "code",
   "execution_count": null,
   "metadata": {},
   "outputs": [],
   "source": [
    "for status in df['Status'].unique():\n",
    "    print(status, df[df['Status'] == status].shape[0])"
   ]
  },
  {
   "cell_type": "markdown",
   "metadata": {},
   "source": [
    "### Map\n",
    "\n",
    "Let's generate an interactive map showing the locations of these sites. Sites designated `Closed` will have purple markers, and `Active` will be red.\n",
    "\n",
    "You can zoom in and out on the map. Clicking on a marker cluster will zoom in and expand it. Clicking on a marker will show you its [Unique Well Identifier](http://www.310sign.ca/blog/what-is-a-uwi-unique-well-identifier.html) and status."
   ]
  },
  {
   "cell_type": "code",
   "execution_count": null,
   "metadata": {},
   "outputs": [],
   "source": [
    "import folium\n",
    "from folium.plugins import MarkerCluster\n",
    "m = folium.Map(location=[53.5,-114], zoom_start=5)\n",
    "mc = MarkerCluster()\n",
    "for i, row in df.iterrows():\n",
    "    if row['Status'] == 'Closed':\n",
    "        color = 'purple'\n",
    "    if row['Status'] == 'Active':\n",
    "        color = 'red'\n",
    "    mc.add_child(folium.Marker(location=[row['Surface Latitude'], row['Surface Longitude']],\n",
    "                               popup=row['Unique Well Identifier'] + ' ' + row['Status'],\n",
    "                               icon=folium.Icon(color=color)))\n",
    "m.add_child(mc)\n",
    "m"
   ]
  },
  {
   "cell_type": "markdown",
   "metadata": {},
   "source": [
    "## WellWiki\n",
    "\n",
    "Another website, [WellWiki](https://www.wellwiki.org), maintains information about oil and gas wells in Canada and the United States. There are currently [619 503 Alberta wells](https://www.wellwiki.org/wiki/Special:AlbertaAdvancedWellSearch) on the site.\n",
    "\n",
    "Let's load data about the wells that have a license status of \"Abandoned\". This will take about a minute to load, on the left of the cell you'll see `In [*]` which means that it is running."
   ]
  },
  {
   "cell_type": "code",
   "execution_count": null,
   "metadata": {},
   "outputs": [],
   "source": [
    "import warnings, requests\n",
    "url = 'https://www.wellwiki.org/wiki/Special:AlbertaAdvancedWellSearch?operatorfiltertype=matches&operatorfiltervalue=&countyfiltertype=matches&countyfiltervalue=&datefiltertype=matches&datefiltervalue=&licensefiltertype=matches&licensefiltervalue=Abandoned&meridianfiltertype=matches&meridianfiltervalue=&townshipfiltertype=matches&townshipfiltervalue=&rangefiltertype=matches&rangefiltervalue=&sectionfiltertype=matches&sectionfiltervalue=&pagenum=&pagesize=100000'\n",
    "\n",
    "with warnings.catch_warnings():\n",
    "    warnings.simplefilter(\"ignore\")\n",
    "    res = requests.get(url, verify=False)\n",
    "ww = pd.read_html(res.text)[1]\n",
    "ww.columns = ['UWI','Operator','County/Municipality','Meridian','Township','Range','Section','License Date','License Status']\n",
    "ww"
   ]
  },
  {
   "cell_type": "markdown",
   "metadata": {},
   "source": [
    "This data set shows 93 642 wells that have a license status of \"Abandoned\". If we want more information about an individual well, we can go to its page on the WellWiki site using the UWI (e.g. for well 0054022715000 it is https://www.wellwiki.org/wiki/0054022715000).\n",
    "\n",
    "Unfortunately the `UWI` column doesn't follow the same format as the `Unique Well Identifier` from the previous data set. However `UWI` does contain the information we need: sequence, location (Township, Meridian, Range, Section, and Legal Subdivision), and event.\n",
    "\n",
    "We'll use this information to create a new column in the `ww` DataFrame called `Unique Well Identifier`."
   ]
  },
  {
   "cell_type": "code",
   "execution_count": null,
   "metadata": {},
   "outputs": [],
   "source": [
    "def uwi_translator(UWI):\n",
    "    TWP = UWI[:3]\n",
    "    Meridian = UWI[3]\n",
    "    Range = UWI[4:6]\n",
    "    Section = UWI[6:8]\n",
    "    LSD = UWI[8:10]\n",
    "    Sequence = UWI[11]\n",
    "    Event = UWI[12]\n",
    "    new_uwi = '10'+Sequence+'/'+LSD+'-'+Section+'-'+TWP+'-'+Range+'W'+Meridian+'/'+Event\n",
    "    return new_uwi\n",
    "\n",
    "well_ids = []\n",
    "for row in ww.itertuples():\n",
    "    well_ids.append(uwi_translator(row.UWI))\n",
    "ww['Unique Well Identifier'] = well_ids\n",
    "ww"
   ]
  },
  {
   "cell_type": "markdown",
   "metadata": {},
   "source": [
    "### Unique Locations\n",
    "\n",
    "We can also create a new column called `Location Code` and create a new data set that includes only the first well with each location code."
   ]
  },
  {
   "cell_type": "code",
   "execution_count": null,
   "metadata": {},
   "outputs": [],
   "source": [
    "locations = []\n",
    "for row in ww.itertuples():\n",
    "    locations.append(row.UWI[2:11])\n",
    "ww['Location Code'] = locations\n",
    "ww_unique = ww.drop_duplicates(subset='Location Code', keep='first')\n",
    "ww_unique"
   ]
  },
  {
   "cell_type": "markdown",
   "metadata": {},
   "source": [
    "Next we could load the WellWiki page for each of those `UWI` values and extract the latitude and longitude of the well using the following code:\n",
    "\n",
    "```python\n",
    "latitudes = []\n",
    "longitudes = []\n",
    "for row in ww_unique.itertuples():\n",
    "    site = pd.read_html('https://www.wellwiki.org/wiki/'+row.UWI)\n",
    "    latitudes.append(site[0][0][19].split(': ')[1])\n",
    "    longitudes.append(site[0][0][20].split(': ')[1])\n",
    "ww_unique['Latitude'] = latitudes\n",
    "ww_unique['Longitude'] = longitudes\n",
    "ww_unique\n",
    "```\n",
    "\n",
    "Unfortunately this would take quite a while, and the website might not appreciate all those page loads. Instead we will read the locations from a CSV file we have prepared, and then generate a map of these abandoned well locations.\n",
    "\n",
    "Since there are a lot of locations this will take a minute or two to generate and render. "
   ]
  },
  {
   "cell_type": "code",
   "execution_count": null,
   "metadata": {},
   "outputs": [],
   "source": [
    "try:\n",
    "    wwu = pd.read_csv('wellwiki-abandoned-unique.csv')\n",
    "except:\n",
    "    wwu = pd.read_csv('https://raw.githubusercontent.com/callysto/data-files/main/SocialStudies/OrphanWells/wellwiki-abandoned-unique.csv')\n",
    "wwu = wwu.set_index('Unnamed: 0')\n",
    "wwu.index.name = None\n",
    "print('Generating a map of', wwu.shape[0], 'abandoned well locations.')\n",
    "m2 = folium.Map(location=[53.5,-114], zoom_start=5)\n",
    "mc2 = MarkerCluster()\n",
    "for row in wwu.itertuples():\n",
    "    mc2.add_child(folium.Marker(location=[row.Latitude,row.Longitude], popup='https://www.wellwiki.org/wiki/'+row.UWI))\n",
    "m2.add_child(mc2)\n",
    "m2"
   ]
  },
  {
   "cell_type": "markdown",
   "metadata": {},
   "source": [
    "## Conclusion\n",
    "\n",
    "In this notebook we generated interactive maps of orphan or abandoned wells in Alberta using data from [Orphan Well Association](https://www.orphanwell.ca) and [WellWiki](https://www.wellwiki.org). How are the maps similar and different?"
   ]
  },
  {
   "cell_type": "markdown",
   "metadata": {},
   "source": [
    "[![Callysto.ca License](https://github.com/callysto/curriculum-notebooks/blob/master/callysto-notebook-banner-bottom.jpg?raw=true)](https://github.com/callysto/curriculum-notebooks/blob/master/LICENSE.md)"
   ]
  }
 ],
 "metadata": {
  "interpreter": {
   "hash": "d1ca6d17674200220921376aaeb3d36cffe15ecab2470a9a5e7a456cdbf61425"
  },
  "kernelspec": {
   "display_name": "Python 3.10.1 64-bit",
   "language": "python",
   "name": "python3"
  },
  "language_info": {
   "codemirror_mode": {
    "name": "ipython",
    "version": 3
   },
   "file_extension": ".py",
   "mimetype": "text/x-python",
   "name": "python",
   "nbconvert_exporter": "python",
   "pygments_lexer": "ipython3",
   "version": "3.10.1"
  }
 },
 "nbformat": 4,
 "nbformat_minor": 4
}
