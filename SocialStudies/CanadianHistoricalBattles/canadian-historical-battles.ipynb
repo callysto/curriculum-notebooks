{
 "cells": [
  {
   "cell_type": "markdown",
   "id": "4727ca18-153d-4f5a-b578-3c7815446594",
   "metadata": {},
   "source": [
    "# Exploring World Historical Battle Database\n",
    "Access to this database was granted by its creator and curator, [Dr. Shuhei Kitamura of Osaka University](https://osf.io/j357k). It's important we acknowledge his generosity. \n",
    "\n",
    "In the interest of looking at applying data science to social studies topics, Canada's involvement in world conflict is an important part of Canadian history. This database allows us to explore battles from throughout human history, and across the world."
   ]
  },
  {
   "cell_type": "code",
   "execution_count": null,
   "id": "cf0aab1f-f6ac-4ab3-8526-28bfdeb2b598",
   "metadata": {},
   "outputs": [],
   "source": [
    "import pandas as pd\n",
    "import plotly.express as px"
   ]
  },
  {
   "cell_type": "code",
   "execution_count": null,
   "id": "51c7f397-3cfc-4190-9cbb-a35ece8acdb2",
   "metadata": {},
   "outputs": [],
   "source": [
    "# Read in the data\n",
    "data = pd.read_excel('data/whbd_v11.xlsx')\n",
    "data"
   ]
  },
  {
   "cell_type": "code",
   "execution_count": null,
   "id": "d5196387-3e2a-4b56-8cb1-578ba668b01e",
   "metadata": {},
   "outputs": [],
   "source": [
    "# See what the columns contain\n",
    "data.columns"
   ]
  },
  {
   "cell_type": "code",
   "execution_count": null,
   "id": "7daa5f3e-5eda-4854-abd0-c26f7f7cbd4c",
   "metadata": {},
   "outputs": [],
   "source": [
    "# Filter to only look at the battles that specify Canada as a combatant. Drop unused columns\n",
    "candata = data[data['bell']=='Canada'].drop(['uk', 'fr', 'de', 'sp', 'sw', 'tr', 'at', \n",
    "                                             'ru', 'nl', 'it', 'pt', 'dk', 'habsburg', 'hre',\n",
    "                                             'naval', 'river', 'lake', 'air', 'multiple', 'entire',\n",
    "                                             'ongoing', 'plan', 'nopage', 'unknown'], axis=1)\n",
    "display(candata)"
   ]
  },
  {
   "cell_type": "markdown",
   "id": "4b843a51-d9c0-42fc-a963-fe60c528c5ed",
   "metadata": {},
   "source": [
    "We can take the data and consider only the wars that list Canada as a participant:"
   ]
  },
  {
   "cell_type": "code",
   "execution_count": null,
   "id": "268415dd-5f20-4c2b-ba0b-cca82870c586",
   "metadata": {},
   "outputs": [],
   "source": [
    "list(candata['war'].sort_values().unique())"
   ]
  },
  {
   "cell_type": "markdown",
   "id": "d3b48797-c270-473b-a0ed-a97e0c40a689",
   "metadata": {},
   "source": [
    "We can plot the battles on a map with their lattitude and longitude coordinates.\n",
    "\n",
    "You can drag to move around the map, zoom in and out to get more clarity. Hovering over each data point lists the name of the battle, as well as the war in which the battle was fought."
   ]
  },
  {
   "cell_type": "code",
   "execution_count": null,
   "id": "6ab9604e-9202-4c88-af24-fa26c5cd3ac1",
   "metadata": {},
   "outputs": [],
   "source": [
    "px.scatter_geo(candata, lat='lat', lon='lng', \n",
    "               height=800, hover_name='bname', \n",
    "               hover_data=['war', 'year'],\n",
    "               title='Battles participated in by post-Confederation Canada')"
   ]
  },
  {
   "cell_type": "markdown",
   "id": "2cbfd8e0-57bf-4f1b-9172-c414470e4326",
   "metadata": {},
   "source": [
    "But these only consider battles that happened after Confederation, as the sovereign state of Canada didn't exist yet. We can also look at battles that happened in geographic Canada by only considering lattitude and longitude values in that region:"
   ]
  },
  {
   "cell_type": "code",
   "execution_count": null,
   "id": "50474b15-0c5f-44a1-9015-9b08d5e21f28",
   "metadata": {},
   "outputs": [],
   "source": [
    "# Southernmost point of Canada is Lake Erie, ON, at 41°40' N; easternmost is Cape Spear, NL, at 52°37' W\n",
    "# We also need to exclude a single WWII Pacific battle that happened off the coast of Alaska that didn't involve Canada\n",
    "NA_data = data[(data['lat']>41.6) & \n",
    "               (data['lng']<-52.6) & \n",
    "               (data['lng']>-160)]\n",
    "\n",
    "# There's also many wars in this subset that don't feature Canada, so we can list them here to remove:\n",
    "remove = ['American Revolutionary War',\n",
    "          'Sioux Wars',\n",
    "          \"Red Cloud's War\",\n",
    "          'Dakota War of 1862',\n",
    "          'Russo-Tlingit War',\n",
    "          'Great Sioux War of 1876',\n",
    "          'Powder River Expedition',\n",
    "          'American Civil War',\n",
    "          'Yellowstone Expedition of 1873',\n",
    "          'Nez Perce War',\n",
    "          'Comanche Campaign',\n",
    "          'Boston campaign',\n",
    "          'Modoc War',\n",
    "          'American Revolution',\n",
    "          \"King Philip's War\",\n",
    "          'Black Hawk War',\n",
    "          'Colorado War',\n",
    "          'American Indian Wars',\n",
    "          'Forage War',\n",
    "          \"Coeur d'Alene War\",\n",
    "          'Yakima War',\n",
    "          'Philadelphia campaign',\n",
    "          'Ghost Dance War']\n",
    "\n",
    "# Remove wars listed above, as well as battles without a specific war (that all happened in the USA)\n",
    "NA_data = NA_data[(~NA_data['war'].isin(remove)) & (~NA_data['war'].isnull())]\n",
    "          \n",
    "          \n",
    "          \n",
    "px.scatter_geo(NA_data, lat='lat', lon='lng', \n",
    "               height=800, hover_name='bname', \n",
    "               hover_data=['war', 'year'], \n",
    "               fitbounds='locations',\n",
    "               title='Historical battles fought in present-day Canada')"
   ]
  },
  {
   "cell_type": "markdown",
   "id": "64e56392-db90-49c4-a062-f4ac7a183ca0",
   "metadata": {},
   "source": [
    "## Next Steps\n",
    "\n",
    "Though the data can be kind of spotty for some battles, it could be interesting to bring in the number (or rate) of casualities for each battle, and size the markers proportional to that. It's only an estimate of the importance of the battle, but it's a good first step.\n",
    "\n",
    "We could also use the plotting function to animate the conflicts throughout Canadian history.\n",
    "\n",
    "Lastly, we could focus on WWI or WWII data and look at the advance of the Allied gains in Europe, highlighting battles that Canada was a major part of."
   ]
  }
 ],
 "metadata": {
  "kernelspec": {
   "display_name": "Python 3 (ipykernel)",
   "language": "python",
   "name": "python3"
  },
  "language_info": {
   "codemirror_mode": {
    "name": "ipython",
    "version": 3
   },
   "file_extension": ".py",
   "mimetype": "text/x-python",
   "name": "python",
   "nbconvert_exporter": "python",
   "pygments_lexer": "ipython3",
   "version": "3.9.12"
  }
 },
 "nbformat": 4,
 "nbformat_minor": 5
}
