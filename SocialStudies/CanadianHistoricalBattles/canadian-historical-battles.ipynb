{
 "cells": [
  {
   "cell_type": "markdown",
   "id": "4727ca18-153d-4f5a-b578-3c7815446594",
   "metadata": {},
   "source": [
    "# Exploring World Historical Battle Database\n",
    "Access to this database was granted by its creator and curator, [Dr. Shuhei Kitamura of Osaka University](https://osf.io/j357k). It's important we acknowledge his generosity. \n",
    "\n",
    "In the interest of looking at applying data science to social studies topics, Canada's involvement in world conflict is an important part of Canadian history. This database allows us to explore battles from throughout human history, and across the world."
   ]
  },
  {
   "cell_type": "code",
   "execution_count": 2,
   "id": "cf0aab1f-f6ac-4ab3-8526-28bfdeb2b598",
   "metadata": {},
   "outputs": [],
   "source": [
    "import pandas as pd\n",
    "import numpy as np\n",
    "import plotly.express as px\n",
    "import warnings\n",
    "import pycountry_convert as pc\n",
    "import requests"
   ]
  },
  {
   "cell_type": "code",
   "execution_count": 3,
   "id": "51c7f397-3cfc-4190-9cbb-a35ece8acdb2",
   "metadata": {},
   "outputs": [
    {
     "data": {
      "text/html": [
       "<div>\n",
       "<style scoped>\n",
       "    .dataframe tbody tr th:only-of-type {\n",
       "        vertical-align: middle;\n",
       "    }\n",
       "\n",
       "    .dataframe tbody tr th {\n",
       "        vertical-align: top;\n",
       "    }\n",
       "\n",
       "    .dataframe thead th {\n",
       "        text-align: right;\n",
       "    }\n",
       "</style>\n",
       "<table border=\"1\" class=\"dataframe\">\n",
       "  <thead>\n",
       "    <tr style=\"text-align: right;\">\n",
       "      <th></th>\n",
       "      <th>uid</th>\n",
       "      <th>bid</th>\n",
       "      <th>lr</th>\n",
       "      <th>bname</th>\n",
       "      <th>year</th>\n",
       "      <th>year_end</th>\n",
       "      <th>war</th>\n",
       "      <th>bell</th>\n",
       "      <th>mult_sides</th>\n",
       "      <th>win</th>\n",
       "      <th>...</th>\n",
       "      <th>air</th>\n",
       "      <th>multiple</th>\n",
       "      <th>entire</th>\n",
       "      <th>unknown</th>\n",
       "      <th>ongoing</th>\n",
       "      <th>plan</th>\n",
       "      <th>nopage</th>\n",
       "      <th>wd_url</th>\n",
       "      <th>wp_url</th>\n",
       "      <th>casualties</th>\n",
       "    </tr>\n",
       "  </thead>\n",
       "  <tbody>\n",
       "    <tr>\n",
       "      <th>142</th>\n",
       "      <td>143</td>\n",
       "      <td>53</td>\n",
       "      <td>l</td>\n",
       "      <td>Battle of Zhuolu</td>\n",
       "      <td>-2500</td>\n",
       "      <td>NaN</td>\n",
       "      <td>NaN</td>\n",
       "      <td>Yanhuang tribe</td>\n",
       "      <td>NaN</td>\n",
       "      <td>win</td>\n",
       "      <td>...</td>\n",
       "      <td>NaN</td>\n",
       "      <td>NaN</td>\n",
       "      <td>NaN</td>\n",
       "      <td>NaN</td>\n",
       "      <td>NaN</td>\n",
       "      <td>NaN</td>\n",
       "      <td>NaN</td>\n",
       "      <td>http://www.wikidata.org/entity/Q1064923</td>\n",
       "      <td>https://en.wikipedia.org/wiki/Battle_of_Zhuolu</td>\n",
       "      <td>NaN</td>\n",
       "    </tr>\n",
       "    <tr>\n",
       "      <th>143</th>\n",
       "      <td>144</td>\n",
       "      <td>53</td>\n",
       "      <td>r</td>\n",
       "      <td>Battle of Zhuolu</td>\n",
       "      <td>-2500</td>\n",
       "      <td>NaN</td>\n",
       "      <td>NaN</td>\n",
       "      <td>Jiuli tribes</td>\n",
       "      <td>NaN</td>\n",
       "      <td>loss</td>\n",
       "      <td>...</td>\n",
       "      <td>NaN</td>\n",
       "      <td>NaN</td>\n",
       "      <td>NaN</td>\n",
       "      <td>NaN</td>\n",
       "      <td>NaN</td>\n",
       "      <td>NaN</td>\n",
       "      <td>NaN</td>\n",
       "      <td>http://www.wikidata.org/entity/Q1064923</td>\n",
       "      <td>https://en.wikipedia.org/wiki/Battle_of_Zhuolu</td>\n",
       "      <td>NaN</td>\n",
       "    </tr>\n",
       "    <tr>\n",
       "      <th>19448</th>\n",
       "      <td>19449</td>\n",
       "      <td>6850</td>\n",
       "      <td>l</td>\n",
       "      <td>Battle of Banquan</td>\n",
       "      <td>-2500</td>\n",
       "      <td>NaN</td>\n",
       "      <td>NaN</td>\n",
       "      <td>Shennong (tribe)</td>\n",
       "      <td>NaN</td>\n",
       "      <td>loss</td>\n",
       "      <td>...</td>\n",
       "      <td>NaN</td>\n",
       "      <td>NaN</td>\n",
       "      <td>NaN</td>\n",
       "      <td>NaN</td>\n",
       "      <td>NaN</td>\n",
       "      <td>NaN</td>\n",
       "      <td>NaN</td>\n",
       "      <td>http://www.wikidata.org/entity/Q755758</td>\n",
       "      <td>https://en.wikipedia.org/wiki/Battle_of_Banquan</td>\n",
       "      <td>NaN</td>\n",
       "    </tr>\n",
       "    <tr>\n",
       "      <th>19449</th>\n",
       "      <td>19450</td>\n",
       "      <td>6850</td>\n",
       "      <td>r</td>\n",
       "      <td>Battle of Banquan</td>\n",
       "      <td>-2500</td>\n",
       "      <td>NaN</td>\n",
       "      <td>NaN</td>\n",
       "      <td>Youxiong (tribe)</td>\n",
       "      <td>NaN</td>\n",
       "      <td>win</td>\n",
       "      <td>...</td>\n",
       "      <td>NaN</td>\n",
       "      <td>NaN</td>\n",
       "      <td>NaN</td>\n",
       "      <td>NaN</td>\n",
       "      <td>NaN</td>\n",
       "      <td>NaN</td>\n",
       "      <td>NaN</td>\n",
       "      <td>http://www.wikidata.org/entity/Q755758</td>\n",
       "      <td>https://en.wikipedia.org/wiki/Battle_of_Banquan</td>\n",
       "      <td>NaN</td>\n",
       "    </tr>\n",
       "    <tr>\n",
       "      <th>21481</th>\n",
       "      <td>21482</td>\n",
       "      <td>7590</td>\n",
       "      <td>r</td>\n",
       "      <td>Battle of Uruk</td>\n",
       "      <td>-2271</td>\n",
       "      <td>NaN</td>\n",
       "      <td>NaN</td>\n",
       "      <td>Sumerian provinces (?)</td>\n",
       "      <td>NaN</td>\n",
       "      <td>loss</td>\n",
       "      <td>...</td>\n",
       "      <td>NaN</td>\n",
       "      <td>NaN</td>\n",
       "      <td>NaN</td>\n",
       "      <td>NaN</td>\n",
       "      <td>NaN</td>\n",
       "      <td>NaN</td>\n",
       "      <td>NaN</td>\n",
       "      <td>http://www.wikidata.org/entity/Q3309009</td>\n",
       "      <td>https://en.wikipedia.org/wiki/Battle_of_Uruk</td>\n",
       "      <td>NaN</td>\n",
       "    </tr>\n",
       "    <tr>\n",
       "      <th>...</th>\n",
       "      <td>...</td>\n",
       "      <td>...</td>\n",
       "      <td>...</td>\n",
       "      <td>...</td>\n",
       "      <td>...</td>\n",
       "      <td>...</td>\n",
       "      <td>...</td>\n",
       "      <td>...</td>\n",
       "      <td>...</td>\n",
       "      <td>...</td>\n",
       "      <td>...</td>\n",
       "      <td>...</td>\n",
       "      <td>...</td>\n",
       "      <td>...</td>\n",
       "      <td>...</td>\n",
       "      <td>...</td>\n",
       "      <td>...</td>\n",
       "      <td>...</td>\n",
       "      <td>...</td>\n",
       "      <td>...</td>\n",
       "      <td>...</td>\n",
       "    </tr>\n",
       "    <tr>\n",
       "      <th>17506</th>\n",
       "      <td>17507</td>\n",
       "      <td>6213</td>\n",
       "      <td>l</td>\n",
       "      <td>Battle of Baghuz Fawqani</td>\n",
       "      <td>2019</td>\n",
       "      <td>NaN</td>\n",
       "      <td>Deir ez-Zor offensive</td>\n",
       "      <td>United Kingdom</td>\n",
       "      <td>NaN</td>\n",
       "      <td>win</td>\n",
       "      <td>...</td>\n",
       "      <td>NaN</td>\n",
       "      <td>NaN</td>\n",
       "      <td>NaN</td>\n",
       "      <td>NaN</td>\n",
       "      <td>NaN</td>\n",
       "      <td>NaN</td>\n",
       "      <td>NaN</td>\n",
       "      <td>http://www.wikidata.org/entity/Q61843818</td>\n",
       "      <td>https://en.wikipedia.org/wiki/Battle_of_Baghuz...</td>\n",
       "      <td>NaN</td>\n",
       "    </tr>\n",
       "    <tr>\n",
       "      <th>17505</th>\n",
       "      <td>17506</td>\n",
       "      <td>6213</td>\n",
       "      <td>l</td>\n",
       "      <td>Battle of Baghuz Fawqani</td>\n",
       "      <td>2019</td>\n",
       "      <td>NaN</td>\n",
       "      <td>Deir ez-Zor offensive</td>\n",
       "      <td>France</td>\n",
       "      <td>NaN</td>\n",
       "      <td>win</td>\n",
       "      <td>...</td>\n",
       "      <td>NaN</td>\n",
       "      <td>NaN</td>\n",
       "      <td>NaN</td>\n",
       "      <td>NaN</td>\n",
       "      <td>NaN</td>\n",
       "      <td>NaN</td>\n",
       "      <td>NaN</td>\n",
       "      <td>http://www.wikidata.org/entity/Q61843818</td>\n",
       "      <td>https://en.wikipedia.org/wiki/Battle_of_Baghuz...</td>\n",
       "      <td>NaN</td>\n",
       "    </tr>\n",
       "    <tr>\n",
       "      <th>17504</th>\n",
       "      <td>17505</td>\n",
       "      <td>6213</td>\n",
       "      <td>l</td>\n",
       "      <td>Battle of Baghuz Fawqani</td>\n",
       "      <td>2019</td>\n",
       "      <td>NaN</td>\n",
       "      <td>Deir ez-Zor offensive</td>\n",
       "      <td>United States</td>\n",
       "      <td>NaN</td>\n",
       "      <td>win</td>\n",
       "      <td>...</td>\n",
       "      <td>NaN</td>\n",
       "      <td>NaN</td>\n",
       "      <td>NaN</td>\n",
       "      <td>NaN</td>\n",
       "      <td>NaN</td>\n",
       "      <td>NaN</td>\n",
       "      <td>NaN</td>\n",
       "      <td>http://www.wikidata.org/entity/Q61843818</td>\n",
       "      <td>https://en.wikipedia.org/wiki/Battle_of_Baghuz...</td>\n",
       "      <td>NaN</td>\n",
       "    </tr>\n",
       "    <tr>\n",
       "      <th>17510</th>\n",
       "      <td>17511</td>\n",
       "      <td>6213</td>\n",
       "      <td>r</td>\n",
       "      <td>Battle of Baghuz Fawqani</td>\n",
       "      <td>2019</td>\n",
       "      <td>NaN</td>\n",
       "      <td>Deir ez-Zor offensive</td>\n",
       "      <td>Wilayat al-Sham</td>\n",
       "      <td>NaN</td>\n",
       "      <td>loss</td>\n",
       "      <td>...</td>\n",
       "      <td>NaN</td>\n",
       "      <td>NaN</td>\n",
       "      <td>NaN</td>\n",
       "      <td>NaN</td>\n",
       "      <td>NaN</td>\n",
       "      <td>NaN</td>\n",
       "      <td>NaN</td>\n",
       "      <td>http://www.wikidata.org/entity/Q61843818</td>\n",
       "      <td>https://en.wikipedia.org/wiki/Battle_of_Baghuz...</td>\n",
       "      <td>NaN</td>\n",
       "    </tr>\n",
       "    <tr>\n",
       "      <th>18987</th>\n",
       "      <td>18988</td>\n",
       "      <td>6693</td>\n",
       "      <td>l</td>\n",
       "      <td>Second Battle of Ras al-Ayn</td>\n",
       "      <td>2019</td>\n",
       "      <td>NaN</td>\n",
       "      <td>2019 Turkish offensive into north-eastern Syria</td>\n",
       "      <td>Turkey</td>\n",
       "      <td>NaN</td>\n",
       "      <td>win</td>\n",
       "      <td>...</td>\n",
       "      <td>NaN</td>\n",
       "      <td>NaN</td>\n",
       "      <td>NaN</td>\n",
       "      <td>NaN</td>\n",
       "      <td>NaN</td>\n",
       "      <td>NaN</td>\n",
       "      <td>NaN</td>\n",
       "      <td>http://www.wikidata.org/entity/Q71414999</td>\n",
       "      <td>https://en.wikipedia.org/wiki/Second_Battle_of...</td>\n",
       "      <td>NaN</td>\n",
       "    </tr>\n",
       "  </tbody>\n",
       "</table>\n",
       "<p>22750 rows × 40 columns</p>\n",
       "</div>"
      ],
      "text/plain": [
       "         uid   bid lr                        bname  year  year_end   \n",
       "142      143    53  l             Battle of Zhuolu -2500       NaN  \\\n",
       "143      144    53  r             Battle of Zhuolu -2500       NaN   \n",
       "19448  19449  6850  l            Battle of Banquan -2500       NaN   \n",
       "19449  19450  6850  r            Battle of Banquan -2500       NaN   \n",
       "21481  21482  7590  r               Battle of Uruk -2271       NaN   \n",
       "...      ...   ... ..                          ...   ...       ...   \n",
       "17506  17507  6213  l     Battle of Baghuz Fawqani  2019       NaN   \n",
       "17505  17506  6213  l     Battle of Baghuz Fawqani  2019       NaN   \n",
       "17504  17505  6213  l     Battle of Baghuz Fawqani  2019       NaN   \n",
       "17510  17511  6213  r     Battle of Baghuz Fawqani  2019       NaN   \n",
       "18987  18988  6693  l  Second Battle of Ras al-Ayn  2019       NaN   \n",
       "\n",
       "                                                   war   \n",
       "142                                                NaN  \\\n",
       "143                                                NaN   \n",
       "19448                                              NaN   \n",
       "19449                                              NaN   \n",
       "21481                                              NaN   \n",
       "...                                                ...   \n",
       "17506                            Deir ez-Zor offensive   \n",
       "17505                            Deir ez-Zor offensive   \n",
       "17504                            Deir ez-Zor offensive   \n",
       "17510                            Deir ez-Zor offensive   \n",
       "18987  2019 Turkish offensive into north-eastern Syria   \n",
       "\n",
       "                         bell  mult_sides   win  ...  air  multiple  entire   \n",
       "142            Yanhuang tribe         NaN   win  ...  NaN       NaN     NaN  \\\n",
       "143              Jiuli tribes         NaN  loss  ...  NaN       NaN     NaN   \n",
       "19448        Shennong (tribe)         NaN  loss  ...  NaN       NaN     NaN   \n",
       "19449        Youxiong (tribe)         NaN   win  ...  NaN       NaN     NaN   \n",
       "21481  Sumerian provinces (?)         NaN  loss  ...  NaN       NaN     NaN   \n",
       "...                       ...         ...   ...  ...  ...       ...     ...   \n",
       "17506          United Kingdom         NaN   win  ...  NaN       NaN     NaN   \n",
       "17505                  France         NaN   win  ...  NaN       NaN     NaN   \n",
       "17504           United States         NaN   win  ...  NaN       NaN     NaN   \n",
       "17510         Wilayat al-Sham         NaN  loss  ...  NaN       NaN     NaN   \n",
       "18987                  Turkey         NaN   win  ...  NaN       NaN     NaN   \n",
       "\n",
       "       unknown  ongoing  plan  nopage   \n",
       "142        NaN      NaN   NaN     NaN  \\\n",
       "143        NaN      NaN   NaN     NaN   \n",
       "19448      NaN      NaN   NaN     NaN   \n",
       "19449      NaN      NaN   NaN     NaN   \n",
       "21481      NaN      NaN   NaN     NaN   \n",
       "...        ...      ...   ...     ...   \n",
       "17506      NaN      NaN   NaN     NaN   \n",
       "17505      NaN      NaN   NaN     NaN   \n",
       "17504      NaN      NaN   NaN     NaN   \n",
       "17510      NaN      NaN   NaN     NaN   \n",
       "18987      NaN      NaN   NaN     NaN   \n",
       "\n",
       "                                         wd_url   \n",
       "142     http://www.wikidata.org/entity/Q1064923  \\\n",
       "143     http://www.wikidata.org/entity/Q1064923   \n",
       "19448    http://www.wikidata.org/entity/Q755758   \n",
       "19449    http://www.wikidata.org/entity/Q755758   \n",
       "21481   http://www.wikidata.org/entity/Q3309009   \n",
       "...                                         ...   \n",
       "17506  http://www.wikidata.org/entity/Q61843818   \n",
       "17505  http://www.wikidata.org/entity/Q61843818   \n",
       "17504  http://www.wikidata.org/entity/Q61843818   \n",
       "17510  http://www.wikidata.org/entity/Q61843818   \n",
       "18987  http://www.wikidata.org/entity/Q71414999   \n",
       "\n",
       "                                                  wp_url  casualties  \n",
       "142       https://en.wikipedia.org/wiki/Battle_of_Zhuolu         NaN  \n",
       "143       https://en.wikipedia.org/wiki/Battle_of_Zhuolu         NaN  \n",
       "19448    https://en.wikipedia.org/wiki/Battle_of_Banquan         NaN  \n",
       "19449    https://en.wikipedia.org/wiki/Battle_of_Banquan         NaN  \n",
       "21481       https://en.wikipedia.org/wiki/Battle_of_Uruk         NaN  \n",
       "...                                                  ...         ...  \n",
       "17506  https://en.wikipedia.org/wiki/Battle_of_Baghuz...         NaN  \n",
       "17505  https://en.wikipedia.org/wiki/Battle_of_Baghuz...         NaN  \n",
       "17504  https://en.wikipedia.org/wiki/Battle_of_Baghuz...         NaN  \n",
       "17510  https://en.wikipedia.org/wiki/Battle_of_Baghuz...         NaN  \n",
       "18987  https://en.wikipedia.org/wiki/Second_Battle_of...         NaN  \n",
       "\n",
       "[22750 rows x 40 columns]"
      ]
     },
     "execution_count": 3,
     "metadata": {},
     "output_type": "execute_result"
    }
   ],
   "source": [
    "# Read in the data\n",
    "data = pd.read_excel('data/whbd_v11-2.xlsx')\n",
    "data = data[data['year'].notna()]\n",
    "data['year'] = data['year'].map(lambda x: int(x))\n",
    "data.sort_values('year',inplace=True)\n",
    "data"
   ]
  },
  {
   "cell_type": "code",
   "execution_count": 4,
   "id": "d5196387-3e2a-4b56-8cb1-578ba668b01e",
   "metadata": {},
   "outputs": [
    {
     "data": {
      "text/plain": [
       "Index(['uid', 'bid', 'lr', 'bname', 'year', 'year_end', 'war', 'bell',\n",
       "       'mult_sides', 'win', 'uk', 'fr', 'de', 'sp', 'sw', 'tr', 'at', 'ru',\n",
       "       'nl', 'it', 'pt', 'dk', 'habsburg', 'hre', 'lat', 'lng', 'locn',\n",
       "       'naval', 'river', 'lake', 'air', 'multiple', 'entire', 'unknown',\n",
       "       'ongoing', 'plan', 'nopage', 'wd_url', 'wp_url', 'casualties'],\n",
       "      dtype='object')"
      ]
     },
     "execution_count": 4,
     "metadata": {},
     "output_type": "execute_result"
    }
   ],
   "source": [
    "# See what the columns contain\n",
    "data.columns"
   ]
  },
  {
   "cell_type": "code",
   "execution_count": 5,
   "id": "7daa5f3e-5eda-4854-abd0-c26f7f7cbd4c",
   "metadata": {},
   "outputs": [
    {
     "data": {
      "text/html": [
       "<div>\n",
       "<style scoped>\n",
       "    .dataframe tbody tr th:only-of-type {\n",
       "        vertical-align: middle;\n",
       "    }\n",
       "\n",
       "    .dataframe tbody tr th {\n",
       "        vertical-align: top;\n",
       "    }\n",
       "\n",
       "    .dataframe thead th {\n",
       "        text-align: right;\n",
       "    }\n",
       "</style>\n",
       "<table border=\"1\" class=\"dataframe\">\n",
       "  <thead>\n",
       "    <tr style=\"text-align: right;\">\n",
       "      <th></th>\n",
       "      <th>uid</th>\n",
       "      <th>bid</th>\n",
       "      <th>lr</th>\n",
       "      <th>bname</th>\n",
       "      <th>year</th>\n",
       "      <th>year_end</th>\n",
       "      <th>war</th>\n",
       "      <th>bell</th>\n",
       "      <th>mult_sides</th>\n",
       "      <th>win</th>\n",
       "      <th>lat</th>\n",
       "      <th>lng</th>\n",
       "      <th>locn</th>\n",
       "      <th>wd_url</th>\n",
       "      <th>wp_url</th>\n",
       "      <th>casualties</th>\n",
       "    </tr>\n",
       "  </thead>\n",
       "  <tbody>\n",
       "    <tr>\n",
       "      <th>2929</th>\n",
       "      <td>2930</td>\n",
       "      <td>986</td>\n",
       "      <td>r</td>\n",
       "      <td>Battle of Trout River</td>\n",
       "      <td>1870</td>\n",
       "      <td>NaN</td>\n",
       "      <td>Fenian raids</td>\n",
       "      <td>Canada</td>\n",
       "      <td>NaN</td>\n",
       "      <td>win</td>\n",
       "      <td>45.087337</td>\n",
       "      <td>-74.173851</td>\n",
       "      <td>Huntingdon, Quebec, Canada</td>\n",
       "      <td>http://www.wikidata.org/entity/Q16822756</td>\n",
       "      <td>https://en.wikipedia.org/wiki/Battle_of_Trout_...</td>\n",
       "      <td>4.0</td>\n",
       "    </tr>\n",
       "    <tr>\n",
       "      <th>21394</th>\n",
       "      <td>21395</td>\n",
       "      <td>7558</td>\n",
       "      <td>r</td>\n",
       "      <td>Battle of Fish Creek</td>\n",
       "      <td>1885</td>\n",
       "      <td>NaN</td>\n",
       "      <td>North-West Rebellion</td>\n",
       "      <td>Canada</td>\n",
       "      <td>NaN</td>\n",
       "      <td>loss</td>\n",
       "      <td>52.601944</td>\n",
       "      <td>-105.947220</td>\n",
       "      <td>NaN</td>\n",
       "      <td>http://www.wikidata.org/entity/Q2890611</td>\n",
       "      <td>https://en.wikipedia.org/wiki/Battle_of_Fish_C...</td>\n",
       "      <td>79.0</td>\n",
       "    </tr>\n",
       "    <tr>\n",
       "      <th>21359</th>\n",
       "      <td>21360</td>\n",
       "      <td>7544</td>\n",
       "      <td>r</td>\n",
       "      <td>Battle of Frenchman's Butte</td>\n",
       "      <td>1885</td>\n",
       "      <td>NaN</td>\n",
       "      <td>North-West Rebellion</td>\n",
       "      <td>Canada</td>\n",
       "      <td>NaN</td>\n",
       "      <td>loss</td>\n",
       "      <td>53.627224</td>\n",
       "      <td>-109.575836</td>\n",
       "      <td>NaN</td>\n",
       "      <td>http://www.wikidata.org/entity/Q2888576</td>\n",
       "      <td>https://en.wikipedia.org/wiki/Battle_of_French...</td>\n",
       "      <td>NaN</td>\n",
       "    </tr>\n",
       "    <tr>\n",
       "      <th>21407</th>\n",
       "      <td>21408</td>\n",
       "      <td>7560</td>\n",
       "      <td>r</td>\n",
       "      <td>Battle of Duck Lake</td>\n",
       "      <td>1885</td>\n",
       "      <td>NaN</td>\n",
       "      <td>North-West Rebellion</td>\n",
       "      <td>Canada</td>\n",
       "      <td>NaN</td>\n",
       "      <td>loss</td>\n",
       "      <td>52.816509</td>\n",
       "      <td>-106.232727</td>\n",
       "      <td>NaN</td>\n",
       "      <td>http://www.wikidata.org/entity/Q2890920</td>\n",
       "      <td>https://en.wikipedia.org/wiki/Battle_of_Duck_Lake</td>\n",
       "      <td>32.0</td>\n",
       "    </tr>\n",
       "    <tr>\n",
       "      <th>13132</th>\n",
       "      <td>13133</td>\n",
       "      <td>4613</td>\n",
       "      <td>r</td>\n",
       "      <td>Battle of Fort Pitt</td>\n",
       "      <td>1885</td>\n",
       "      <td>NaN</td>\n",
       "      <td>North-West Rebellion</td>\n",
       "      <td>Canada</td>\n",
       "      <td>NaN</td>\n",
       "      <td>loss</td>\n",
       "      <td>53.650180</td>\n",
       "      <td>-109.751540</td>\n",
       "      <td>Frenchman Butte No. 501, near Frenchman Butte,...</td>\n",
       "      <td>http://www.wikidata.org/entity/Q4871050</td>\n",
       "      <td>https://en.wikipedia.org/wiki/Battle_of_Fort_Pitt</td>\n",
       "      <td>6.0</td>\n",
       "    </tr>\n",
       "    <tr>\n",
       "      <th>...</th>\n",
       "      <td>...</td>\n",
       "      <td>...</td>\n",
       "      <td>...</td>\n",
       "      <td>...</td>\n",
       "      <td>...</td>\n",
       "      <td>...</td>\n",
       "      <td>...</td>\n",
       "      <td>...</td>\n",
       "      <td>...</td>\n",
       "      <td>...</td>\n",
       "      <td>...</td>\n",
       "      <td>...</td>\n",
       "      <td>...</td>\n",
       "      <td>...</td>\n",
       "      <td>...</td>\n",
       "      <td>...</td>\n",
       "    </tr>\n",
       "    <tr>\n",
       "      <th>22441</th>\n",
       "      <td>22442</td>\n",
       "      <td>10016</td>\n",
       "      <td>l</td>\n",
       "      <td>NaN</td>\n",
       "      <td>2013</td>\n",
       "      <td>2014.0</td>\n",
       "      <td>Northern Mali conflict</td>\n",
       "      <td>Canada</td>\n",
       "      <td>NaN</td>\n",
       "      <td>win</td>\n",
       "      <td>NaN</td>\n",
       "      <td>NaN</td>\n",
       "      <td>Mali</td>\n",
       "      <td>http://www.wikidata.org/entity/Q16627878</td>\n",
       "      <td>https://en.wikipedia.org/wiki/Battle_of_Dayet_...</td>\n",
       "      <td>NaN</td>\n",
       "    </tr>\n",
       "    <tr>\n",
       "      <th>3359</th>\n",
       "      <td>3360</td>\n",
       "      <td>1129</td>\n",
       "      <td>l</td>\n",
       "      <td>Battle of Baiji</td>\n",
       "      <td>2014</td>\n",
       "      <td>2015.0</td>\n",
       "      <td>Iraqi Civil War (2014–2017)</td>\n",
       "      <td>Canada</td>\n",
       "      <td>NaN</td>\n",
       "      <td>win</td>\n",
       "      <td>34.933333</td>\n",
       "      <td>43.483333</td>\n",
       "      <td>Baiji, Saladin Governorate, Iraq</td>\n",
       "      <td>http://www.wikidata.org/entity/Q17621839</td>\n",
       "      <td>https://en.wikipedia.org/wiki/Battle_of_Baiji_...</td>\n",
       "      <td>4846.0</td>\n",
       "    </tr>\n",
       "    <tr>\n",
       "      <th>3791</th>\n",
       "      <td>3792</td>\n",
       "      <td>1275</td>\n",
       "      <td>l</td>\n",
       "      <td>Battle of Ramadi</td>\n",
       "      <td>2014</td>\n",
       "      <td>2015.0</td>\n",
       "      <td>Anbar offensive</td>\n",
       "      <td>Canada</td>\n",
       "      <td>NaN</td>\n",
       "      <td>loss</td>\n",
       "      <td>33.416667</td>\n",
       "      <td>43.300000</td>\n",
       "      <td>Ramadi, Anbar Governorate, Iraq</td>\n",
       "      <td>http://www.wikidata.org/entity/Q18639122</td>\n",
       "      <td>https://en.wikipedia.org/wiki/Battle_of_Ramadi...</td>\n",
       "      <td>NaN</td>\n",
       "    </tr>\n",
       "    <tr>\n",
       "      <th>5014</th>\n",
       "      <td>5015</td>\n",
       "      <td>1682</td>\n",
       "      <td>l</td>\n",
       "      <td>Battle of Ramadi</td>\n",
       "      <td>2015</td>\n",
       "      <td>2016.0</td>\n",
       "      <td>Iraqi Civil War (2014–2017)</td>\n",
       "      <td>Canada</td>\n",
       "      <td>NaN</td>\n",
       "      <td>win</td>\n",
       "      <td>33.416667</td>\n",
       "      <td>43.300000</td>\n",
       "      <td>Ramadi, Anbar Governorate, Iraq</td>\n",
       "      <td>http://www.wikidata.org/entity/Q21685887</td>\n",
       "      <td>https://en.wikipedia.org/wiki/Battle_of_Ramadi...</td>\n",
       "      <td>3250.0</td>\n",
       "    </tr>\n",
       "    <tr>\n",
       "      <th>7228</th>\n",
       "      <td>7229</td>\n",
       "      <td>2480</td>\n",
       "      <td>l</td>\n",
       "      <td>Battle of Mosul (2016–17)</td>\n",
       "      <td>2016</td>\n",
       "      <td>2017.0</td>\n",
       "      <td>American-led intervention in Iraq (2014–present)</td>\n",
       "      <td>Canada</td>\n",
       "      <td>NaN</td>\n",
       "      <td>win</td>\n",
       "      <td>36.337222</td>\n",
       "      <td>43.135833</td>\n",
       "      <td>Northern Iraq • Southwest Erbil Governorate • ...</td>\n",
       "      <td>http://www.wikidata.org/entity/Q27429856</td>\n",
       "      <td>https://en.wikipedia.org/wiki/Battle_of_Mosul_...</td>\n",
       "      <td>17592.0</td>\n",
       "    </tr>\n",
       "  </tbody>\n",
       "</table>\n",
       "<p>115 rows × 16 columns</p>\n",
       "</div>"
      ],
      "text/plain": [
       "         uid    bid lr                        bname  year  year_end   \n",
       "2929    2930    986  r        Battle of Trout River  1870       NaN  \\\n",
       "21394  21395   7558  r         Battle of Fish Creek  1885       NaN   \n",
       "21359  21360   7544  r  Battle of Frenchman's Butte  1885       NaN   \n",
       "21407  21408   7560  r          Battle of Duck Lake  1885       NaN   \n",
       "13132  13133   4613  r          Battle of Fort Pitt  1885       NaN   \n",
       "...      ...    ... ..                          ...   ...       ...   \n",
       "22441  22442  10016  l                          NaN  2013    2014.0   \n",
       "3359    3360   1129  l              Battle of Baiji  2014    2015.0   \n",
       "3791    3792   1275  l             Battle of Ramadi  2014    2015.0   \n",
       "5014    5015   1682  l             Battle of Ramadi  2015    2016.0   \n",
       "7228    7229   2480  l    Battle of Mosul (2016–17)  2016    2017.0   \n",
       "\n",
       "                                                    war    bell  mult_sides   \n",
       "2929                                       Fenian raids  Canada         NaN  \\\n",
       "21394                              North-West Rebellion  Canada         NaN   \n",
       "21359                              North-West Rebellion  Canada         NaN   \n",
       "21407                              North-West Rebellion  Canada         NaN   \n",
       "13132                              North-West Rebellion  Canada         NaN   \n",
       "...                                                 ...     ...         ...   \n",
       "22441                            Northern Mali conflict  Canada         NaN   \n",
       "3359                        Iraqi Civil War (2014–2017)  Canada         NaN   \n",
       "3791                                    Anbar offensive  Canada         NaN   \n",
       "5014                        Iraqi Civil War (2014–2017)  Canada         NaN   \n",
       "7228   American-led intervention in Iraq (2014–present)  Canada         NaN   \n",
       "\n",
       "        win        lat         lng   \n",
       "2929    win  45.087337  -74.173851  \\\n",
       "21394  loss  52.601944 -105.947220   \n",
       "21359  loss  53.627224 -109.575836   \n",
       "21407  loss  52.816509 -106.232727   \n",
       "13132  loss  53.650180 -109.751540   \n",
       "...     ...        ...         ...   \n",
       "22441   win        NaN         NaN   \n",
       "3359    win  34.933333   43.483333   \n",
       "3791   loss  33.416667   43.300000   \n",
       "5014    win  33.416667   43.300000   \n",
       "7228    win  36.337222   43.135833   \n",
       "\n",
       "                                                    locn   \n",
       "2929                          Huntingdon, Quebec, Canada  \\\n",
       "21394                                                NaN   \n",
       "21359                                                NaN   \n",
       "21407                                                NaN   \n",
       "13132  Frenchman Butte No. 501, near Frenchman Butte,...   \n",
       "...                                                  ...   \n",
       "22441                                               Mali   \n",
       "3359                    Baiji, Saladin Governorate, Iraq   \n",
       "3791                     Ramadi, Anbar Governorate, Iraq   \n",
       "5014                     Ramadi, Anbar Governorate, Iraq   \n",
       "7228   Northern Iraq • Southwest Erbil Governorate • ...   \n",
       "\n",
       "                                         wd_url   \n",
       "2929   http://www.wikidata.org/entity/Q16822756  \\\n",
       "21394   http://www.wikidata.org/entity/Q2890611   \n",
       "21359   http://www.wikidata.org/entity/Q2888576   \n",
       "21407   http://www.wikidata.org/entity/Q2890920   \n",
       "13132   http://www.wikidata.org/entity/Q4871050   \n",
       "...                                         ...   \n",
       "22441  http://www.wikidata.org/entity/Q16627878   \n",
       "3359   http://www.wikidata.org/entity/Q17621839   \n",
       "3791   http://www.wikidata.org/entity/Q18639122   \n",
       "5014   http://www.wikidata.org/entity/Q21685887   \n",
       "7228   http://www.wikidata.org/entity/Q27429856   \n",
       "\n",
       "                                                  wp_url  casualties  \n",
       "2929   https://en.wikipedia.org/wiki/Battle_of_Trout_...         4.0  \n",
       "21394  https://en.wikipedia.org/wiki/Battle_of_Fish_C...        79.0  \n",
       "21359  https://en.wikipedia.org/wiki/Battle_of_French...         NaN  \n",
       "21407  https://en.wikipedia.org/wiki/Battle_of_Duck_Lake        32.0  \n",
       "13132  https://en.wikipedia.org/wiki/Battle_of_Fort_Pitt         6.0  \n",
       "...                                                  ...         ...  \n",
       "22441  https://en.wikipedia.org/wiki/Battle_of_Dayet_...         NaN  \n",
       "3359   https://en.wikipedia.org/wiki/Battle_of_Baiji_...      4846.0  \n",
       "3791   https://en.wikipedia.org/wiki/Battle_of_Ramadi...         NaN  \n",
       "5014   https://en.wikipedia.org/wiki/Battle_of_Ramadi...      3250.0  \n",
       "7228   https://en.wikipedia.org/wiki/Battle_of_Mosul_...     17592.0  \n",
       "\n",
       "[115 rows x 16 columns]"
      ]
     },
     "metadata": {},
     "output_type": "display_data"
    }
   ],
   "source": [
    "# Filter to only look at the battles that specify Canada as a combatant. Drop unused columns\n",
    "candata = data[data['bell']=='Canada'].drop(['uk', 'fr', 'de', 'sp', 'sw', 'tr', 'at', \n",
    "                                             'ru', 'nl', 'it', 'pt', 'dk', 'habsburg', 'hre',\n",
    "                                             'naval', 'river', 'lake', 'air', 'multiple', 'entire',\n",
    "                                             'ongoing', 'plan', 'nopage', 'unknown'], axis=1)\n",
    "display(candata)"
   ]
  },
  {
   "cell_type": "markdown",
   "id": "4b843a51-d9c0-42fc-a963-fe60c528c5ed",
   "metadata": {},
   "source": [
    "We can take the data and consider only the wars that list Canada as a participant:"
   ]
  },
  {
   "cell_type": "code",
   "execution_count": 6,
   "id": "268415dd-5f20-4c2b-ba0b-cca82870c586",
   "metadata": {},
   "outputs": [
    {
     "data": {
      "text/plain": [
       "['Action of 26 April 1944',\n",
       " 'Allied invasion of Italy',\n",
       " 'Battle for Caen',\n",
       " 'Battle for the Kapelsche Veer',\n",
       " 'Battle of Amiens',\n",
       " 'Battle of Anzio',\n",
       " 'Battle of Arghandab',\n",
       " 'Battle of Arras',\n",
       " 'Battle of Attu',\n",
       " 'Battle of Baiji',\n",
       " 'Battle of Batoche',\n",
       " 'Battle of Bubiyan',\n",
       " 'Battle of Cambrai',\n",
       " 'Battle of Chambois',\n",
       " 'Battle of Chuam-ni',\n",
       " 'Battle of Cut Knife',\n",
       " 'Battle of Diamond Hill',\n",
       " 'Battle of Drocourt-Quéant Line',\n",
       " 'Battle of Duck Lake',\n",
       " 'Battle of Dunkirk',\n",
       " 'Battle of Elands River',\n",
       " 'Battle of Festubert',\n",
       " 'Battle of Fish Creek',\n",
       " 'Battle of Flers–Courcelette',\n",
       " 'Battle of Fort Pitt',\n",
       " \"Battle of Frenchman's Butte\",\n",
       " 'Battle of Givenchy',\n",
       " 'Battle of Groningen',\n",
       " 'Battle of Hill 60',\n",
       " 'Battle of Hill 70',\n",
       " 'Battle of Hong Kong',\n",
       " 'Battle of Inchon',\n",
       " 'Battle of Kapyong',\n",
       " \"Battle of Kitcheners' Wood\",\n",
       " 'Battle of Le Mesnil-Patry',\n",
       " 'Battle of Le Transloy',\n",
       " 'Battle of Leliefontein',\n",
       " 'Battle of Loon Lake',\n",
       " 'Battle of Maehwa-san',\n",
       " 'Battle of Messines',\n",
       " 'Battle of Misrata',\n",
       " 'Battle of Mont Sorrel',\n",
       " 'Battle of Monte Cassino',\n",
       " 'Battle of Moreuil Wood',\n",
       " 'Battle of Morval',\n",
       " 'Battle of Mosul (2016–17)',\n",
       " 'Battle of Mouquet Farm',\n",
       " 'Battle of Neuve Chapelle',\n",
       " 'Battle of Okinawa',\n",
       " 'Battle of Ortona',\n",
       " 'Battle of Paardeberg',\n",
       " 'Battle of Panjwaii',\n",
       " 'Battle of Passchendaele',\n",
       " 'Battle of Pierres Noires',\n",
       " 'Battle of Port Cros',\n",
       " 'Battle of Ramadi',\n",
       " 'Battle of Rimini',\n",
       " 'Battle of Shenkursk',\n",
       " 'Battle of Thiepval Ridge',\n",
       " 'Battle of Trout River',\n",
       " 'Battle of Tulgas',\n",
       " 'Battle of Verrières Ridge',\n",
       " 'Battle of Vimy Ridge',\n",
       " 'Battle of Walcheren Causeway',\n",
       " 'Battle of Witpoort',\n",
       " 'Battle of the Ancre Heights',\n",
       " 'Battle of the Bell Islands',\n",
       " 'Battle of the Bulge',\n",
       " 'Battle of the Canal du Nord',\n",
       " 'Battle of the Caribbean',\n",
       " 'Battle of the Lys',\n",
       " 'Battle of the Ruhr',\n",
       " 'Battle of the Scarpe',\n",
       " 'Battle of the Somme',\n",
       " 'Battle of the St. Lawrence',\n",
       " 'Bernhardt Line',\n",
       " 'Black Friday',\n",
       " 'Bloody Sunday',\n",
       " 'Dieppe Raid',\n",
       " 'Falaise Pocket',\n",
       " 'Fifth Battle of Ypres',\n",
       " 'First Battle of Gaza',\n",
       " 'First Battle of Maryang-san',\n",
       " 'Friendly fire incident at Sangin',\n",
       " 'Invasion of Normandy',\n",
       " 'Liberation of Arnhem',\n",
       " 'Monte la Difensa',\n",
       " 'Normandy landings',\n",
       " 'Operation Achilles',\n",
       " 'Operation Anaconda',\n",
       " 'Operation Diadem',\n",
       " 'Operation Dragon Strike',\n",
       " 'Operation Medusa',\n",
       " 'Operation Michael',\n",
       " 'Operation Moshtarak',\n",
       " 'Operation Mountain Fury',\n",
       " 'Operation Teardrop',\n",
       " 'Operation Tonga',\n",
       " 'Regina Trench',\n",
       " 'Second Battle of Artois',\n",
       " 'Second Battle of Gaza',\n",
       " 'Second Battle of Passchendaele',\n",
       " 'Second Battle of Seoul',\n",
       " 'Second Battle of Ypres',\n",
       " 'Second Battle of the Hook',\n",
       " 'Second Battle of the Somme',\n",
       " 'battle of Moerbrugge']"
      ]
     },
     "execution_count": 6,
     "metadata": {},
     "output_type": "execute_result"
    }
   ],
   "source": [
    "candata = candata[candata['bname'].notna()]\n",
    "\n",
    "list(candata['bname'].sort_values().unique())"
   ]
  },
  {
   "attachments": {},
   "cell_type": "markdown",
   "id": "dece9169",
   "metadata": {},
   "source": [
    "We can plot the battles on a map with their lattitude and longitude coordinates.\n",
    "\n",
    "You can drag to move around the map, zoom in and out to get more clarity. Hovering over each data point lists the name of the battle, as well as the war in which the battle was fought."
   ]
  },
  {
   "cell_type": "code",
   "execution_count": 7,
   "id": "0e037b4c",
   "metadata": {},
   "outputs": [
    {
     "data": {
      "application/vnd.plotly.v1+json": {
       "config": {
        "plotlyServerURL": "https://plot.ly"
       },
       "data": [
        {
         "customdata": [
          [
           1870
          ]
         ],
         "geo": "geo",
         "hovertemplate": "<b>%{hovertext}</b><br><br>war=Fenian raids<br>lat=%{lat}<br>lng=%{lon}<br>year=%{customdata[0]}<extra></extra>",
         "hovertext": [
          "Battle of Trout River"
         ],
         "lat": [
          45.087337493896484
         ],
         "legendgroup": "Fenian raids",
         "lon": [
          -74.1738510131836
         ],
         "marker": {
          "color": "#636efa",
          "symbol": "circle"
         },
         "mode": "markers",
         "name": "Fenian raids",
         "showlegend": true,
         "type": "scattergeo"
        },
        {
         "customdata": [
          [
           1885
          ],
          [
           1885
          ],
          [
           1885
          ],
          [
           1885
          ],
          [
           1885
          ],
          [
           1885
          ],
          [
           1885
          ]
         ],
         "geo": "geo",
         "hovertemplate": "<b>%{hovertext}</b><br><br>war=North-West Rebellion<br>lat=%{lat}<br>lng=%{lon}<br>year=%{customdata[0]}<extra></extra>",
         "hovertext": [
          "Battle of Fish Creek",
          "Battle of Frenchman's Butte",
          "Battle of Duck Lake",
          "Battle of Fort Pitt",
          "Battle of Batoche",
          "Battle of Cut Knife",
          "Battle of Loon Lake"
         ],
         "lat": [
          52.60194396972656,
          53.62722396850586,
          52.81650924682617,
          53.65018,
          52.75600814819336,
          52.74530792236328,
          54.04055404663086
         ],
         "legendgroup": "North-West Rebellion",
         "lon": [
          -105.9472198486328,
          -109.5758361816406,
          -106.2327270507812,
          -109.75154,
          -106.11793518066406,
          -109.0277633666992,
          -109.0008316040039
         ],
         "marker": {
          "color": "#EF553B",
          "symbol": "circle"
         },
         "mode": "markers",
         "name": "North-West Rebellion",
         "showlegend": true,
         "type": "scattergeo"
        },
        {
         "customdata": [
          [
           1900
          ],
          [
           1900
          ],
          [
           1900
          ],
          [
           1900
          ],
          [
           1900
          ],
          [
           1900
          ]
         ],
         "geo": "geo",
         "hovertemplate": "<b>%{hovertext}</b><br><br>war=Second Boer War<br>lat=%{lat}<br>lng=%{lon}<br>year=%{customdata[0]}<extra></extra>",
         "hovertext": [
          "Bloody Sunday",
          "Battle of Witpoort",
          "Battle of Elands River",
          "Battle of Leliefontein",
          "Battle of Diamond Hill",
          "Battle of Paardeberg"
         ],
         "lat": [
          -28.9825,
          -29.913196563720703,
          -25.649444,
          -25.96666667,
          -25.783333333333,
          -28.9825
         ],
         "legendgroup": "Second Boer War",
         "lon": [
          25.093055555556,
          23.604339599609375,
          26.706667,
          30.05,
          28.466666666667,
          25.09305556
         ],
         "marker": {
          "color": "#00cc96",
          "symbol": "circle"
         },
         "mode": "markers",
         "name": "Second Boer War",
         "showlegend": true,
         "type": "scattergeo"
        },
        {
         "customdata": [
          [
           1914
          ],
          [
           1915
          ],
          [
           1917
          ],
          [
           1917
          ],
          [
           1918
          ],
          [
           1918
          ],
          [
           1918
          ]
         ],
         "geo": "geo",
         "hovertemplate": "<b>%{hovertext}</b><br><br>war=World War I<br>lat=%{lat}<br>lng=%{lon}<br>year=%{customdata[0]}<extra></extra>",
         "hovertext": [
          "Battle of Givenchy",
          "Battle of Festubert",
          "Battle of Vimy Ridge",
          "Battle of Hill 70",
          "Battle of Cambrai",
          "Battle of Drocourt-Quéant Line",
          "Battle of Moreuil Wood"
         ],
         "lat": [
          50.5294,
          50.54388889,
          50.379,
          50.45555556,
          50.1767,
          50.391944444444,
          49.7831
         ],
         "legendgroup": "World War I",
         "lon": [
          2.75861,
          2.73611111,
          2.774,
          2.81902778,
          3.23556,
          2.9275,
          2.5
         ],
         "marker": {
          "color": "#ab63fa",
          "symbol": "circle"
         },
         "mode": "markers",
         "name": "World War I",
         "showlegend": true,
         "type": "scattergeo"
        },
        {
         "customdata": [
          [
           1915
          ],
          [
           1915
          ],
          [
           1915
          ],
          [
           1915
          ],
          [
           1915
          ],
          [
           1916
          ],
          [
           1916
          ],
          [
           1916
          ],
          [
           1917
          ],
          [
           1917
          ],
          [
           1917
          ],
          [
           1918
          ],
          [
           1918
          ],
          [
           1918
          ],
          [
           1918
          ]
         ],
         "geo": "geo",
         "hovertemplate": "<b>%{hovertext}</b><br><br>war=Western Front of World War I<br>lat=%{lat}<br>lng=%{lon}<br>year=%{customdata[0]}<extra></extra>",
         "hovertext": [
          "Battle of Hill 60",
          "Second Battle of Artois",
          "Battle of Neuve Chapelle",
          "Battle of Kitcheners' Wood",
          "Second Battle of Ypres",
          "Battle of Thiepval Ridge",
          "Battle of Mont Sorrel",
          "Battle of the Somme",
          "Battle of Messines",
          "Battle of Passchendaele",
          "Battle of Arras",
          "Second Battle of the Somme",
          "Battle of Amiens",
          "Fifth Battle of Ypres",
          "Battle of the Scarpe"
         ],
         "lat": [
          50.821388888889,
          50.5,
          50.585,
          50.89,
          50.899444444444,
          50.054527777778,
          50.8464,
          50.0155,
          50.7625,
          50.900277777778,
          50.289722222222,
          49.968971252441406,
          49.893913888889,
          50.9003,
          50.270556
         ],
         "legendgroup": "Western Front of World War I",
         "lon": [
          2.9316666666667,
          2.75,
          2.7775,
          2.922,
          2.9405555555556,
          2.6883888888889,
          2.94361,
          2.69742,
          2.8952777777778,
          3.0211111111111,
          2.7808333333333,
          2.37385892868042,
          2.29425,
          3.02111,
          2.894167
         ],
         "marker": {
          "color": "#FFA15A",
          "symbol": "circle"
         },
         "mode": "markers",
         "name": "Western Front of World War I",
         "showlegend": true,
         "type": "scattergeo"
        },
        {
         "customdata": [
          [
           1916
          ],
          [
           1916
          ],
          [
           1916
          ],
          [
           1916
          ],
          [
           1916
          ],
          [
           1916
          ]
         ],
         "geo": "geo",
         "hovertemplate": "<b>%{hovertext}</b><br><br>war=Battle of the Somme<br>lat=%{lat}<br>lng=%{lon}<br>year=%{customdata[0]}<extra></extra>",
         "hovertext": [
          "Battle of Mouquet Farm",
          "Battle of the Ancre Heights",
          "Battle of Morval",
          "Battle of Le Transloy",
          "Regina Trench",
          "Battle of Flers–Courcelette"
         ],
         "lat": [
          50.051111,
          49.9067,
          50.0316,
          50.057388888889,
          50.0717,
          50.05888889
         ],
         "legendgroup": "Battle of the Somme",
         "lon": [
          2.712778,
          2.47583,
          2.8424,
          2.8877222222222,
          2.78139,
          2.74777778
         ],
         "marker": {
          "color": "#19d3f3",
          "symbol": "circle"
         },
         "mode": "markers",
         "name": "Battle of the Somme",
         "showlegend": true,
         "type": "scattergeo"
        },
        {
         "customdata": [
          [
           1917
          ]
         ],
         "geo": "geo",
         "hovertemplate": "<b>%{hovertext}</b><br><br>war=Battle of Passchendaele<br>lat=%{lat}<br>lng=%{lon}<br>year=%{customdata[0]}<extra></extra>",
         "hovertext": [
          "Second Battle of Passchendaele"
         ],
         "lat": [
          50.90027778
         ],
         "legendgroup": "Battle of Passchendaele",
         "lon": [
          3.02111111
         ],
         "marker": {
          "color": "#FF6692",
          "symbol": "circle"
         },
         "mode": "markers",
         "name": "Battle of Passchendaele",
         "showlegend": true,
         "type": "scattergeo"
        },
        {
         "customdata": [
          [
           1917
          ],
          [
           1917
          ]
         ],
         "geo": "geo",
         "hovertemplate": "<b>%{hovertext}</b><br><br>war=Middle Eastern theatre of World War I<br>lat=%{lat}<br>lng=%{lon}<br>year=%{customdata[0]}<extra></extra>",
         "hovertext": [
          "Second Battle of Gaza",
          "First Battle of Gaza"
         ],
         "lat": [
          31.4893,
          31.4893
         ],
         "legendgroup": "Middle Eastern theatre of World War I",
         "lon": [
          34.4737,
          34.4737
         ],
         "marker": {
          "color": "#B6E880",
          "symbol": "circle"
         },
         "mode": "markers",
         "name": "Middle Eastern theatre of World War I",
         "showlegend": true,
         "type": "scattergeo"
        },
        {
         "customdata": [
          [
           1918
          ]
         ],
         "geo": "geo",
         "hovertemplate": "<b>%{hovertext}</b><br><br>war=Russian Civil War<br>lat=%{lat}<br>lng=%{lon}<br>year=%{customdata[0]}<extra></extra>",
         "hovertext": [
          "Battle of Tulgas"
         ],
         "lat": [
          62.594388
         ],
         "legendgroup": "Russian Civil War",
         "lon": [
          43.507833
         ],
         "marker": {
          "color": "#FF97FF",
          "symbol": "circle"
         },
         "mode": "markers",
         "name": "Russian Civil War",
         "showlegend": true,
         "type": "scattergeo"
        },
        {
         "customdata": [
          [
           1918
          ]
         ],
         "geo": "geo",
         "hovertemplate": "<b>%{hovertext}</b><br><br>war=Hundred Days Offensive<br>lat=%{lat}<br>lng=%{lon}<br>year=%{customdata[0]}<extra></extra>",
         "hovertext": [
          "Battle of the Canal du Nord"
         ],
         "lat": [
          50.283333
         ],
         "legendgroup": "Hundred Days Offensive",
         "lon": [
          3.116667
         ],
         "marker": {
          "color": "#FECB52",
          "symbol": "circle"
         },
         "mode": "markers",
         "name": "Hundred Days Offensive",
         "showlegend": true,
         "type": "scattergeo"
        },
        {
         "customdata": [
          [
           1918
          ],
          [
           1918
          ]
         ],
         "geo": "geo",
         "hovertemplate": "<b>%{hovertext}</b><br><br>war=Spring Offensive<br>lat=%{lat}<br>lng=%{lon}<br>year=%{customdata[0]}<extra></extra>",
         "hovertext": [
          "Battle of the Lys",
          "Operation Michael"
         ],
         "lat": [
          50.70555556,
          49.85
         ],
         "legendgroup": "Spring Offensive",
         "lon": [
          2.9,
          3.28333
         ],
         "marker": {
          "color": "#636efa",
          "symbol": "circle"
         },
         "mode": "markers",
         "name": "Spring Offensive",
         "showlegend": true,
         "type": "scattergeo"
        },
        {
         "customdata": [
          [
           1919
          ]
         ],
         "geo": "geo",
         "hovertemplate": "<b>%{hovertext}</b><br><br>war=North Russia Intervention<br>lat=%{lat}<br>lng=%{lon}<br>year=%{customdata[0]}<extra></extra>",
         "hovertext": [
          "Battle of Shenkursk"
         ],
         "lat": [
          62.1
         ],
         "legendgroup": "North Russia Intervention",
         "lon": [
          42.91666667
         ],
         "marker": {
          "color": "#EF553B",
          "symbol": "circle"
         },
         "mode": "markers",
         "name": "North Russia Intervention",
         "showlegend": true,
         "type": "scattergeo"
        },
        {
         "customdata": [
          [
           1940
          ],
          [
           1941
          ],
          [
           1942
          ],
          [
           1943
          ],
          [
           1944
          ],
          [
           1944
          ],
          [
           1944
          ],
          [
           1944
          ],
          [
           1944
          ],
          [
           1945
          ],
          [
           1945
          ],
          [
           1945
          ]
         ],
         "geo": "geo",
         "hovertemplate": "<b>%{hovertext}</b><br><br>war=World War II<br>lat=%{lat}<br>lng=%{lon}<br>year=%{customdata[0]}<extra></extra>",
         "hovertext": [
          "Battle of Dunkirk",
          "Battle of the Caribbean",
          "Battle of the St. Lawrence",
          "Allied invasion of Italy",
          "Action of 26 April 1944",
          "Battle of Verrières Ridge",
          "Battle of Le Mesnil-Patry",
          "Battle of Chambois",
          "Battle of Pierres Noires",
          "Battle of Groningen",
          "Black Friday",
          "Operation Teardrop"
         ],
         "lat": [
          51.0343,
          15,
          48.90331268310547,
          40.679,
          48.89720916748047,
          49.11038,
          49.19583333,
          48.8058,
          48.21166667,
          53.2186,
          61.46666667,
          40
         ],
         "legendgroup": "World War II",
         "lon": [
          2.3768194444444,
          -75,
          -61.373878479003906,
          14.7566,
          -3.4731099605560303,
          -0.33236,
          -0.54361111,
          0.106111,
          -4.91472222,
          6.56722,
          5.65,
          -40
         ],
         "marker": {
          "color": "#00cc96",
          "symbol": "circle"
         },
         "mode": "markers",
         "name": "World War II",
         "showlegend": true,
         "type": "scattergeo"
        },
        {
         "customdata": [
          [
           1941
          ],
          [
           1945
          ]
         ],
         "geo": "geo",
         "hovertemplate": "<b>%{hovertext}</b><br><br>war=Pacific War<br>lat=%{lat}<br>lng=%{lon}<br>year=%{customdata[0]}<extra></extra>",
         "hovertext": [
          "Battle of Hong Kong",
          "Battle of Okinawa"
         ],
         "lat": [
          22.2819,
          26.5
         ],
         "legendgroup": "Pacific War",
         "lon": [
          114.162,
          128
         ],
         "marker": {
          "color": "#ab63fa",
          "symbol": "circle"
         },
         "mode": "markers",
         "name": "Pacific War",
         "showlegend": true,
         "type": "scattergeo"
        },
        {
         "customdata": [
          [
           1942
          ]
         ],
         "geo": "geo",
         "hovertemplate": "<b>%{hovertext}</b><br><br>war=North West Europe Campaign<br>lat=%{lat}<br>lng=%{lon}<br>year=%{customdata[0]}<extra></extra>",
         "hovertext": [
          "Dieppe Raid"
         ],
         "lat": [
          49.933333333333
         ],
         "legendgroup": "North West Europe Campaign",
         "lon": [
          1.0833333333333
         ],
         "marker": {
          "color": "#FFA15A",
          "symbol": "circle"
         },
         "mode": "markers",
         "name": "North West Europe Campaign",
         "showlegend": true,
         "type": "scattergeo"
        },
        {
         "customdata": [
          [
           1943
          ],
          [
           1943
          ],
          [
           1944
          ],
          [
           1944
          ]
         ],
         "geo": "geo",
         "hovertemplate": "<b>%{hovertext}</b><br><br>war=Italian campaign<br>lat=%{lat}<br>lng=%{lon}<br>year=%{customdata[0]}<extra></extra>",
         "hovertext": [
          "Bernhardt Line",
          "Monte la Difensa",
          "Battle of Anzio",
          "Battle of Rimini"
         ],
         "lat": [
          41.40591812133789,
          41.3833,
          41.443022,
          43.94709777832031
         ],
         "legendgroup": "Italian campaign",
         "lon": [
          13.985516548156738,
          13.93326944,
          12.624979,
          12.630768775939941
         ],
         "marker": {
          "color": "#FF6692",
          "symbol": "circle"
         },
         "mode": "markers",
         "name": "Italian campaign",
         "showlegend": true,
         "type": "scattergeo"
        },
        {
         "customdata": [
          [
           1943
          ]
         ],
         "geo": "geo",
         "hovertemplate": "<b>%{hovertext}</b><br><br>war=Moro River Campaign<br>lat=%{lat}<br>lng=%{lon}<br>year=%{customdata[0]}<extra></extra>",
         "hovertext": [
          "Battle of Ortona"
         ],
         "lat": [
          42.35
         ],
         "legendgroup": "Moro River Campaign",
         "lon": [
          14.4
         ],
         "marker": {
          "color": "#B6E880",
          "symbol": "circle"
         },
         "mode": "markers",
         "name": "Moro River Campaign",
         "showlegend": true,
         "type": "scattergeo"
        },
        {
         "customdata": [
          [
           1943
          ]
         ],
         "geo": "geo",
         "hovertemplate": "<b>%{hovertext}</b><br><br>war=strategic bombing during World War II<br>lat=%{lat}<br>lng=%{lon}<br>year=%{customdata[0]}<extra></extra>",
         "hovertext": [
          "Battle of the Ruhr"
         ],
         "lat": [
          51.5
         ],
         "legendgroup": "strategic bombing during World War II",
         "lon": [
          7.5
         ],
         "marker": {
          "color": "#FF97FF",
          "symbol": "circle"
         },
         "mode": "markers",
         "name": "strategic bombing during World War II",
         "showlegend": true,
         "type": "scattergeo"
        },
        {
         "customdata": [
          [
           1944
          ],
          [
           1944
          ],
          [
           1944
          ]
         ],
         "geo": "geo",
         "hovertemplate": "<b>%{hovertext}</b><br><br>war=Operation Overlord<br>lat=%{lat}<br>lng=%{lon}<br>year=%{customdata[0]}<extra></extra>",
         "hovertext": [
          "Battle for Caen",
          "Invasion of Normandy",
          "Falaise Pocket"
         ],
         "lat": [
          49.186111111111,
          49.333333333333,
          48.892777777778
         ],
         "legendgroup": "Operation Overlord",
         "lon": [
          -0.3625,
          -0.56666666666667,
          -0.19194444444444
         ],
         "marker": {
          "color": "#FECB52",
          "symbol": "circle"
         },
         "mode": "markers",
         "name": "Operation Overlord",
         "showlegend": true,
         "type": "scattergeo"
        },
        {
         "customdata": [
          [
           1944
          ]
         ],
         "geo": "geo",
         "hovertemplate": "<b>%{hovertext}</b><br><br>war=Battle of the Scheldt<br>lat=%{lat}<br>lng=%{lon}<br>year=%{customdata[0]}<extra></extra>",
         "hovertext": [
          "Battle of Walcheren Causeway"
         ],
         "lat": [
          51.5031
         ],
         "legendgroup": "Battle of the Scheldt",
         "lon": [
          3.705
         ],
         "marker": {
          "color": "#636efa",
          "symbol": "circle"
         },
         "mode": "markers",
         "name": "Battle of the Scheldt",
         "showlegend": true,
         "type": "scattergeo"
        },
        {
         "customdata": [
          [
           1944
          ]
         ],
         "geo": "geo",
         "hovertemplate": "<b>%{hovertext}</b><br><br>war=Battle of Monte Cassino<br>lat=%{lat}<br>lng=%{lon}<br>year=%{customdata[0]}<extra></extra>",
         "hovertext": [
          "Operation Diadem"
         ],
         "lat": [
          41.96673583984375
         ],
         "legendgroup": "Battle of Monte Cassino",
         "lon": [
          13.370064735412598
         ],
         "marker": {
          "color": "#EF553B",
          "symbol": "circle"
         },
         "mode": "markers",
         "name": "Battle of Monte Cassino",
         "showlegend": true,
         "type": "scattergeo"
        },
        {
         "customdata": [
          [
           1944
          ]
         ],
         "geo": "geo",
         "hovertemplate": "<b>%{hovertext}</b><br><br>war=Invasion of Normandy<br>lat=%{lat}<br>lng=%{lon}<br>year=%{customdata[0]}<extra></extra>",
         "hovertext": [
          "Normandy landings"
         ],
         "lat": [
          49.333333333333
         ],
         "legendgroup": "Invasion of Normandy",
         "lon": [
          -0.56694444444444
         ],
         "marker": {
          "color": "#00cc96",
          "symbol": "circle"
         },
         "mode": "markers",
         "name": "Invasion of Normandy",
         "showlegend": true,
         "type": "scattergeo"
        },
        {
         "customdata": [
          [
           1944
          ]
         ],
         "geo": "geo",
         "hovertemplate": "<b>%{hovertext}</b><br><br>war=Normandy landings<br>lat=%{lat}<br>lng=%{lon}<br>year=%{customdata[0]}<extra></extra>",
         "hovertext": [
          "Operation Tonga"
         ],
         "lat": [
          49.18100357055664
         ],
         "legendgroup": "Normandy landings",
         "lon": [
          -0.369891494512558
         ],
         "marker": {
          "color": "#ab63fa",
          "symbol": "circle"
         },
         "mode": "markers",
         "name": "Normandy landings",
         "showlegend": true,
         "type": "scattergeo"
        },
        {
         "customdata": [
          [
           1944
          ]
         ],
         "geo": "geo",
         "hovertemplate": "<b>%{hovertext}</b><br><br>war=Mediterranean and Middle East theatre of World War II<br>lat=%{lat}<br>lng=%{lon}<br>year=%{customdata[0]}<extra></extra>",
         "hovertext": [
          "Battle of Port Cros"
         ],
         "lat": [
          43.005
         ],
         "legendgroup": "Mediterranean and Middle East theatre of World War II",
         "lon": [
          6.398611
         ],
         "marker": {
          "color": "#FFA15A",
          "symbol": "circle"
         },
         "mode": "markers",
         "name": "Mediterranean and Middle East theatre of World War II",
         "showlegend": true,
         "type": "scattergeo"
        },
        {
         "customdata": [
          [
           1950
          ],
          [
           1950
          ],
          [
           1951
          ],
          [
           1951
          ],
          [
           1951
          ],
          [
           1951
          ],
          [
           1952
          ]
         ],
         "geo": "geo",
         "hovertemplate": "<b>%{hovertext}</b><br><br>war=Korean War<br>lat=%{lat}<br>lng=%{lon}<br>year=%{customdata[0]}<extra></extra>",
         "hovertext": [
          "Battle of Inchon",
          "Second Battle of Seoul",
          "First Battle of Maryang-san",
          "Battle of Kapyong",
          "Battle of Maehwa-san",
          "Battle of Chuam-ni",
          "Second Battle of the Hook"
         ],
         "lat": [
          37.48333333,
          37.566680908203125,
          38.135,
          37.883333333333,
          37.016667,
          36.293739318847656,
          38.029111
         ],
         "legendgroup": "Korean War",
         "lon": [
          126.63333333,
          126.9782943725586,
          126.92083333333,
          127.53333333333,
          127.45,
          126.77681732177734,
          126.8425
         ],
         "marker": {
          "color": "#19d3f3",
          "symbol": "circle"
         },
         "mode": "markers",
         "name": "Korean War",
         "showlegend": true,
         "type": "scattergeo"
        },
        {
         "customdata": [
          [
           1991
          ]
         ],
         "geo": "geo",
         "hovertemplate": "<b>%{hovertext}</b><br><br>war=Gulf War<br>lat=%{lat}<br>lng=%{lon}<br>year=%{customdata[0]}<extra></extra>",
         "hovertext": [
          "Battle of Bubiyan"
         ],
         "lat": [
          27.238235473632812
         ],
         "legendgroup": "Gulf War",
         "lon": [
          51.197181701660156
         ],
         "marker": {
          "color": "#FF6692",
          "symbol": "circle"
         },
         "mode": "markers",
         "name": "Gulf War",
         "showlegend": true,
         "type": "scattergeo"
        },
        {
         "customdata": [
          [
           2002
          ],
          [
           2006
          ],
          [
           2006
          ],
          [
           2006
          ],
          [
           2006
          ],
          [
           2007
          ],
          [
           2008
          ],
          [
           2010
          ],
          [
           2010
          ]
         ],
         "geo": "geo",
         "hovertemplate": "<b>%{hovertext}</b><br><br>war=War in Afghanistan<br>lat=%{lat}<br>lng=%{lon}<br>year=%{customdata[0]}<extra></extra>",
         "hovertext": [
          "Operation Anaconda",
          "Friendly fire incident at Sangin",
          "Battle of Panjwaii",
          "Operation Medusa",
          "Operation Mountain Fury",
          "Operation Achilles",
          "Battle of Arghandab",
          "Operation Moshtarak",
          "Operation Dragon Strike"
         ],
         "lat": [
          33.366666666667,
          31.589166666667,
          31.546222686767578,
          31.547777777778,
          32.39362335205078,
          32.07333333,
          31.654722222222,
          31.516667,
          31.620643615722656
         ],
         "legendgroup": "War in Afghanistan",
         "lon": [
          69.183333333333,
          64.363333333333,
          65.45999145507812,
          65.454166666667,
          68.70365142822266,
          64.83388889,
          65.649444444444,
          64.116667,
          65.7157211303711
         ],
         "marker": {
          "color": "#B6E880",
          "symbol": "circle"
         },
         "mode": "markers",
         "name": "War in Afghanistan",
         "showlegend": true,
         "type": "scattergeo"
        },
        {
         "customdata": [
          [
           2011
          ]
         ],
         "geo": "geo",
         "hovertemplate": "<b>%{hovertext}</b><br><br>war=2011 Libyan Civil War<br>lat=%{lat}<br>lng=%{lon}<br>year=%{customdata[0]}<extra></extra>",
         "hovertext": [
          "Battle of Misrata"
         ],
         "lat": [
          32.37753333
         ],
         "legendgroup": "2011 Libyan Civil War",
         "lon": [
          15.09201667
         ],
         "marker": {
          "color": "#FF97FF",
          "symbol": "circle"
         },
         "mode": "markers",
         "name": "2011 Libyan Civil War",
         "showlegend": true,
         "type": "scattergeo"
        },
        {
         "customdata": [
          [
           2014
          ],
          [
           2015
          ]
         ],
         "geo": "geo",
         "hovertemplate": "<b>%{hovertext}</b><br><br>war=Iraqi Civil War (2014–2017)<br>lat=%{lat}<br>lng=%{lon}<br>year=%{customdata[0]}<extra></extra>",
         "hovertext": [
          "Battle of Baiji",
          "Battle of Ramadi"
         ],
         "lat": [
          34.933333333333,
          33.416666666667
         ],
         "legendgroup": "Iraqi Civil War (2014–2017)",
         "lon": [
          43.483333333333,
          43.3
         ],
         "marker": {
          "color": "#FECB52",
          "symbol": "circle"
         },
         "mode": "markers",
         "name": "Iraqi Civil War (2014–2017)",
         "showlegend": true,
         "type": "scattergeo"
        },
        {
         "customdata": [
          [
           2014
          ]
         ],
         "geo": "geo",
         "hovertemplate": "<b>%{hovertext}</b><br><br>war=Anbar offensive<br>lat=%{lat}<br>lng=%{lon}<br>year=%{customdata[0]}<extra></extra>",
         "hovertext": [
          "Battle of Ramadi"
         ],
         "lat": [
          33.416666666667
         ],
         "legendgroup": "Anbar offensive",
         "lon": [
          43.3
         ],
         "marker": {
          "color": "#636efa",
          "symbol": "circle"
         },
         "mode": "markers",
         "name": "Anbar offensive",
         "showlegend": true,
         "type": "scattergeo"
        },
        {
         "customdata": [
          [
           2016
          ]
         ],
         "geo": "geo",
         "hovertemplate": "<b>%{hovertext}</b><br><br>war=American-led intervention in Iraq (2014–present)<br>lat=%{lat}<br>lng=%{lon}<br>year=%{customdata[0]}<extra></extra>",
         "hovertext": [
          "Battle of Mosul (2016–17)"
         ],
         "lat": [
          36.337222222222
         ],
         "legendgroup": "American-led intervention in Iraq (2014–present)",
         "lon": [
          43.135833333333
         ],
         "marker": {
          "color": "#EF553B",
          "symbol": "circle"
         },
         "mode": "markers",
         "name": "American-led intervention in Iraq (2014–present)",
         "showlegend": true,
         "type": "scattergeo"
        }
       ],
       "layout": {
        "geo": {
         "center": {},
         "domain": {
          "x": [
           0,
           1
          ],
          "y": [
           0,
           1
          ]
         }
        },
        "legend": {
         "title": {
          "text": "war"
         },
         "tracegroupgap": 0
        },
        "showlegend": false,
        "template": {
         "data": {
          "bar": [
           {
            "error_x": {
             "color": "#2a3f5f"
            },
            "error_y": {
             "color": "#2a3f5f"
            },
            "marker": {
             "line": {
              "color": "#E5ECF6",
              "width": 0.5
             },
             "pattern": {
              "fillmode": "overlay",
              "size": 10,
              "solidity": 0.2
             }
            },
            "type": "bar"
           }
          ],
          "barpolar": [
           {
            "marker": {
             "line": {
              "color": "#E5ECF6",
              "width": 0.5
             },
             "pattern": {
              "fillmode": "overlay",
              "size": 10,
              "solidity": 0.2
             }
            },
            "type": "barpolar"
           }
          ],
          "carpet": [
           {
            "aaxis": {
             "endlinecolor": "#2a3f5f",
             "gridcolor": "white",
             "linecolor": "white",
             "minorgridcolor": "white",
             "startlinecolor": "#2a3f5f"
            },
            "baxis": {
             "endlinecolor": "#2a3f5f",
             "gridcolor": "white",
             "linecolor": "white",
             "minorgridcolor": "white",
             "startlinecolor": "#2a3f5f"
            },
            "type": "carpet"
           }
          ],
          "choropleth": [
           {
            "colorbar": {
             "outlinewidth": 0,
             "ticks": ""
            },
            "type": "choropleth"
           }
          ],
          "contour": [
           {
            "colorbar": {
             "outlinewidth": 0,
             "ticks": ""
            },
            "colorscale": [
             [
              0,
              "#0d0887"
             ],
             [
              0.1111111111111111,
              "#46039f"
             ],
             [
              0.2222222222222222,
              "#7201a8"
             ],
             [
              0.3333333333333333,
              "#9c179e"
             ],
             [
              0.4444444444444444,
              "#bd3786"
             ],
             [
              0.5555555555555556,
              "#d8576b"
             ],
             [
              0.6666666666666666,
              "#ed7953"
             ],
             [
              0.7777777777777778,
              "#fb9f3a"
             ],
             [
              0.8888888888888888,
              "#fdca26"
             ],
             [
              1,
              "#f0f921"
             ]
            ],
            "type": "contour"
           }
          ],
          "contourcarpet": [
           {
            "colorbar": {
             "outlinewidth": 0,
             "ticks": ""
            },
            "type": "contourcarpet"
           }
          ],
          "heatmap": [
           {
            "colorbar": {
             "outlinewidth": 0,
             "ticks": ""
            },
            "colorscale": [
             [
              0,
              "#0d0887"
             ],
             [
              0.1111111111111111,
              "#46039f"
             ],
             [
              0.2222222222222222,
              "#7201a8"
             ],
             [
              0.3333333333333333,
              "#9c179e"
             ],
             [
              0.4444444444444444,
              "#bd3786"
             ],
             [
              0.5555555555555556,
              "#d8576b"
             ],
             [
              0.6666666666666666,
              "#ed7953"
             ],
             [
              0.7777777777777778,
              "#fb9f3a"
             ],
             [
              0.8888888888888888,
              "#fdca26"
             ],
             [
              1,
              "#f0f921"
             ]
            ],
            "type": "heatmap"
           }
          ],
          "heatmapgl": [
           {
            "colorbar": {
             "outlinewidth": 0,
             "ticks": ""
            },
            "colorscale": [
             [
              0,
              "#0d0887"
             ],
             [
              0.1111111111111111,
              "#46039f"
             ],
             [
              0.2222222222222222,
              "#7201a8"
             ],
             [
              0.3333333333333333,
              "#9c179e"
             ],
             [
              0.4444444444444444,
              "#bd3786"
             ],
             [
              0.5555555555555556,
              "#d8576b"
             ],
             [
              0.6666666666666666,
              "#ed7953"
             ],
             [
              0.7777777777777778,
              "#fb9f3a"
             ],
             [
              0.8888888888888888,
              "#fdca26"
             ],
             [
              1,
              "#f0f921"
             ]
            ],
            "type": "heatmapgl"
           }
          ],
          "histogram": [
           {
            "marker": {
             "pattern": {
              "fillmode": "overlay",
              "size": 10,
              "solidity": 0.2
             }
            },
            "type": "histogram"
           }
          ],
          "histogram2d": [
           {
            "colorbar": {
             "outlinewidth": 0,
             "ticks": ""
            },
            "colorscale": [
             [
              0,
              "#0d0887"
             ],
             [
              0.1111111111111111,
              "#46039f"
             ],
             [
              0.2222222222222222,
              "#7201a8"
             ],
             [
              0.3333333333333333,
              "#9c179e"
             ],
             [
              0.4444444444444444,
              "#bd3786"
             ],
             [
              0.5555555555555556,
              "#d8576b"
             ],
             [
              0.6666666666666666,
              "#ed7953"
             ],
             [
              0.7777777777777778,
              "#fb9f3a"
             ],
             [
              0.8888888888888888,
              "#fdca26"
             ],
             [
              1,
              "#f0f921"
             ]
            ],
            "type": "histogram2d"
           }
          ],
          "histogram2dcontour": [
           {
            "colorbar": {
             "outlinewidth": 0,
             "ticks": ""
            },
            "colorscale": [
             [
              0,
              "#0d0887"
             ],
             [
              0.1111111111111111,
              "#46039f"
             ],
             [
              0.2222222222222222,
              "#7201a8"
             ],
             [
              0.3333333333333333,
              "#9c179e"
             ],
             [
              0.4444444444444444,
              "#bd3786"
             ],
             [
              0.5555555555555556,
              "#d8576b"
             ],
             [
              0.6666666666666666,
              "#ed7953"
             ],
             [
              0.7777777777777778,
              "#fb9f3a"
             ],
             [
              0.8888888888888888,
              "#fdca26"
             ],
             [
              1,
              "#f0f921"
             ]
            ],
            "type": "histogram2dcontour"
           }
          ],
          "mesh3d": [
           {
            "colorbar": {
             "outlinewidth": 0,
             "ticks": ""
            },
            "type": "mesh3d"
           }
          ],
          "parcoords": [
           {
            "line": {
             "colorbar": {
              "outlinewidth": 0,
              "ticks": ""
             }
            },
            "type": "parcoords"
           }
          ],
          "pie": [
           {
            "automargin": true,
            "type": "pie"
           }
          ],
          "scatter": [
           {
            "fillpattern": {
             "fillmode": "overlay",
             "size": 10,
             "solidity": 0.2
            },
            "type": "scatter"
           }
          ],
          "scatter3d": [
           {
            "line": {
             "colorbar": {
              "outlinewidth": 0,
              "ticks": ""
             }
            },
            "marker": {
             "colorbar": {
              "outlinewidth": 0,
              "ticks": ""
             }
            },
            "type": "scatter3d"
           }
          ],
          "scattercarpet": [
           {
            "marker": {
             "colorbar": {
              "outlinewidth": 0,
              "ticks": ""
             }
            },
            "type": "scattercarpet"
           }
          ],
          "scattergeo": [
           {
            "marker": {
             "colorbar": {
              "outlinewidth": 0,
              "ticks": ""
             }
            },
            "type": "scattergeo"
           }
          ],
          "scattergl": [
           {
            "marker": {
             "colorbar": {
              "outlinewidth": 0,
              "ticks": ""
             }
            },
            "type": "scattergl"
           }
          ],
          "scattermapbox": [
           {
            "marker": {
             "colorbar": {
              "outlinewidth": 0,
              "ticks": ""
             }
            },
            "type": "scattermapbox"
           }
          ],
          "scatterpolar": [
           {
            "marker": {
             "colorbar": {
              "outlinewidth": 0,
              "ticks": ""
             }
            },
            "type": "scatterpolar"
           }
          ],
          "scatterpolargl": [
           {
            "marker": {
             "colorbar": {
              "outlinewidth": 0,
              "ticks": ""
             }
            },
            "type": "scatterpolargl"
           }
          ],
          "scatterternary": [
           {
            "marker": {
             "colorbar": {
              "outlinewidth": 0,
              "ticks": ""
             }
            },
            "type": "scatterternary"
           }
          ],
          "surface": [
           {
            "colorbar": {
             "outlinewidth": 0,
             "ticks": ""
            },
            "colorscale": [
             [
              0,
              "#0d0887"
             ],
             [
              0.1111111111111111,
              "#46039f"
             ],
             [
              0.2222222222222222,
              "#7201a8"
             ],
             [
              0.3333333333333333,
              "#9c179e"
             ],
             [
              0.4444444444444444,
              "#bd3786"
             ],
             [
              0.5555555555555556,
              "#d8576b"
             ],
             [
              0.6666666666666666,
              "#ed7953"
             ],
             [
              0.7777777777777778,
              "#fb9f3a"
             ],
             [
              0.8888888888888888,
              "#fdca26"
             ],
             [
              1,
              "#f0f921"
             ]
            ],
            "type": "surface"
           }
          ],
          "table": [
           {
            "cells": {
             "fill": {
              "color": "#EBF0F8"
             },
             "line": {
              "color": "white"
             }
            },
            "header": {
             "fill": {
              "color": "#C8D4E3"
             },
             "line": {
              "color": "white"
             }
            },
            "type": "table"
           }
          ]
         },
         "layout": {
          "annotationdefaults": {
           "arrowcolor": "#2a3f5f",
           "arrowhead": 0,
           "arrowwidth": 1
          },
          "autotypenumbers": "strict",
          "coloraxis": {
           "colorbar": {
            "outlinewidth": 0,
            "ticks": ""
           }
          },
          "colorscale": {
           "diverging": [
            [
             0,
             "#8e0152"
            ],
            [
             0.1,
             "#c51b7d"
            ],
            [
             0.2,
             "#de77ae"
            ],
            [
             0.3,
             "#f1b6da"
            ],
            [
             0.4,
             "#fde0ef"
            ],
            [
             0.5,
             "#f7f7f7"
            ],
            [
             0.6,
             "#e6f5d0"
            ],
            [
             0.7,
             "#b8e186"
            ],
            [
             0.8,
             "#7fbc41"
            ],
            [
             0.9,
             "#4d9221"
            ],
            [
             1,
             "#276419"
            ]
           ],
           "sequential": [
            [
             0,
             "#0d0887"
            ],
            [
             0.1111111111111111,
             "#46039f"
            ],
            [
             0.2222222222222222,
             "#7201a8"
            ],
            [
             0.3333333333333333,
             "#9c179e"
            ],
            [
             0.4444444444444444,
             "#bd3786"
            ],
            [
             0.5555555555555556,
             "#d8576b"
            ],
            [
             0.6666666666666666,
             "#ed7953"
            ],
            [
             0.7777777777777778,
             "#fb9f3a"
            ],
            [
             0.8888888888888888,
             "#fdca26"
            ],
            [
             1,
             "#f0f921"
            ]
           ],
           "sequentialminus": [
            [
             0,
             "#0d0887"
            ],
            [
             0.1111111111111111,
             "#46039f"
            ],
            [
             0.2222222222222222,
             "#7201a8"
            ],
            [
             0.3333333333333333,
             "#9c179e"
            ],
            [
             0.4444444444444444,
             "#bd3786"
            ],
            [
             0.5555555555555556,
             "#d8576b"
            ],
            [
             0.6666666666666666,
             "#ed7953"
            ],
            [
             0.7777777777777778,
             "#fb9f3a"
            ],
            [
             0.8888888888888888,
             "#fdca26"
            ],
            [
             1,
             "#f0f921"
            ]
           ]
          },
          "colorway": [
           "#636efa",
           "#EF553B",
           "#00cc96",
           "#ab63fa",
           "#FFA15A",
           "#19d3f3",
           "#FF6692",
           "#B6E880",
           "#FF97FF",
           "#FECB52"
          ],
          "font": {
           "color": "#2a3f5f"
          },
          "geo": {
           "bgcolor": "white",
           "lakecolor": "white",
           "landcolor": "#E5ECF6",
           "showlakes": true,
           "showland": true,
           "subunitcolor": "white"
          },
          "hoverlabel": {
           "align": "left"
          },
          "hovermode": "closest",
          "mapbox": {
           "style": "light"
          },
          "paper_bgcolor": "white",
          "plot_bgcolor": "#E5ECF6",
          "polar": {
           "angularaxis": {
            "gridcolor": "white",
            "linecolor": "white",
            "ticks": ""
           },
           "bgcolor": "#E5ECF6",
           "radialaxis": {
            "gridcolor": "white",
            "linecolor": "white",
            "ticks": ""
           }
          },
          "scene": {
           "xaxis": {
            "backgroundcolor": "#E5ECF6",
            "gridcolor": "white",
            "gridwidth": 2,
            "linecolor": "white",
            "showbackground": true,
            "ticks": "",
            "zerolinecolor": "white"
           },
           "yaxis": {
            "backgroundcolor": "#E5ECF6",
            "gridcolor": "white",
            "gridwidth": 2,
            "linecolor": "white",
            "showbackground": true,
            "ticks": "",
            "zerolinecolor": "white"
           },
           "zaxis": {
            "backgroundcolor": "#E5ECF6",
            "gridcolor": "white",
            "gridwidth": 2,
            "linecolor": "white",
            "showbackground": true,
            "ticks": "",
            "zerolinecolor": "white"
           }
          },
          "shapedefaults": {
           "line": {
            "color": "#2a3f5f"
           }
          },
          "ternary": {
           "aaxis": {
            "gridcolor": "white",
            "linecolor": "white",
            "ticks": ""
           },
           "baxis": {
            "gridcolor": "white",
            "linecolor": "white",
            "ticks": ""
           },
           "bgcolor": "#E5ECF6",
           "caxis": {
            "gridcolor": "white",
            "linecolor": "white",
            "ticks": ""
           }
          },
          "title": {
           "x": 0.05
          },
          "xaxis": {
           "automargin": true,
           "gridcolor": "white",
           "linecolor": "white",
           "ticks": "",
           "title": {
            "standoff": 15
           },
           "zerolinecolor": "white",
           "zerolinewidth": 2
          },
          "yaxis": {
           "automargin": true,
           "gridcolor": "white",
           "linecolor": "white",
           "ticks": "",
           "title": {
            "standoff": 15
           },
           "zerolinecolor": "white",
           "zerolinewidth": 2
          }
         }
        },
        "title": {
         "text": "Battles participated in by post-Confederation Canada"
        }
       }
      }
     },
     "metadata": {},
     "output_type": "display_data"
    }
   ],
   "source": [
    "fig = px.scatter_geo(candata, lat='lat', lon='lng', \n",
    "               hover_name='bname', \n",
    "               hover_data=['year'],\n",
    "               color= 'war',\n",
    "               title='Battles participated in by post-Confederation Canada')\n",
    "\n",
    "fig.update_layout(showlegend=False)\n",
    "fig.show()"
   ]
  },
  {
   "attachments": {},
   "cell_type": "markdown",
   "id": "2bd559ca",
   "metadata": {},
   "source": [
    "Let's animate through the years so see the wars that Canada has participated in"
   ]
  },
  {
   "cell_type": "code",
   "execution_count": 8,
   "id": "63f481d9",
   "metadata": {},
   "outputs": [],
   "source": [
    "warnings.filterwarnings(\"ignore\")\n",
    "years = list(candata['year'].unique())\n",
    "\n",
    "animate_candata = pd.DataFrame(candata)\n",
    "\n",
    "def animation_years(row):\n",
    "    global animate_candata\n",
    "   \n",
    "    df = pd.DataFrame(columns=animate_candata.columns)\n",
    "    index = years.index(row['year'])\n",
    "    for i in years[index+1:]:\n",
    "        row[4] = i\n",
    "        df.loc[len(df.index)] = row\n",
    "    \n",
    "    animate_candata = pd.concat([animate_candata,df],ignore_index=True)\n",
    "\n",
    "for i in range(len(candata.index)):\n",
    "    animation_years(candata.iloc[i])\n",
    "\n"
   ]
  },
  {
   "cell_type": "code",
   "execution_count": 9,
   "id": "8e4b7813",
   "metadata": {},
   "outputs": [
    {
     "data": {
      "text/html": [
       "<div>\n",
       "<style scoped>\n",
       "    .dataframe tbody tr th:only-of-type {\n",
       "        vertical-align: middle;\n",
       "    }\n",
       "\n",
       "    .dataframe tbody tr th {\n",
       "        vertical-align: top;\n",
       "    }\n",
       "\n",
       "    .dataframe thead th {\n",
       "        text-align: right;\n",
       "    }\n",
       "</style>\n",
       "<table border=\"1\" class=\"dataframe\">\n",
       "  <thead>\n",
       "    <tr style=\"text-align: right;\">\n",
       "      <th></th>\n",
       "      <th>uid</th>\n",
       "      <th>bid</th>\n",
       "      <th>lr</th>\n",
       "      <th>bname</th>\n",
       "      <th>year</th>\n",
       "      <th>year_end</th>\n",
       "      <th>war</th>\n",
       "      <th>bell</th>\n",
       "      <th>mult_sides</th>\n",
       "      <th>win</th>\n",
       "      <th>lat</th>\n",
       "      <th>lng</th>\n",
       "      <th>locn</th>\n",
       "      <th>wd_url</th>\n",
       "      <th>wp_url</th>\n",
       "      <th>casualties</th>\n",
       "      <th>sort_rank</th>\n",
       "    </tr>\n",
       "  </thead>\n",
       "  <tbody>\n",
       "    <tr>\n",
       "      <th>0</th>\n",
       "      <td>2930</td>\n",
       "      <td>986</td>\n",
       "      <td>r</td>\n",
       "      <td>Battle of Trout River</td>\n",
       "      <td>1870</td>\n",
       "      <td>NaN</td>\n",
       "      <td>Fenian raids</td>\n",
       "      <td>Canada</td>\n",
       "      <td>NaN</td>\n",
       "      <td>win</td>\n",
       "      <td>45.087337</td>\n",
       "      <td>-74.173851</td>\n",
       "      <td>Huntingdon, Quebec, Canada</td>\n",
       "      <td>http://www.wikidata.org/entity/Q16822756</td>\n",
       "      <td>https://en.wikipedia.org/wiki/Battle_of_Trout_...</td>\n",
       "      <td>4.0</td>\n",
       "      <td>1</td>\n",
       "    </tr>\n",
       "    <tr>\n",
       "      <th>108</th>\n",
       "      <td>2930</td>\n",
       "      <td>986</td>\n",
       "      <td>r</td>\n",
       "      <td>Battle of Trout River</td>\n",
       "      <td>1885</td>\n",
       "      <td>NaN</td>\n",
       "      <td>Fenian raids</td>\n",
       "      <td>Canada</td>\n",
       "      <td>NaN</td>\n",
       "      <td>win</td>\n",
       "      <td>45.087337</td>\n",
       "      <td>-74.173851</td>\n",
       "      <td>Huntingdon, Quebec, Canada</td>\n",
       "      <td>http://www.wikidata.org/entity/Q16822756</td>\n",
       "      <td>https://en.wikipedia.org/wiki/Battle_of_Trout_...</td>\n",
       "      <td>4.0</td>\n",
       "      <td>2</td>\n",
       "    </tr>\n",
       "    <tr>\n",
       "      <th>109</th>\n",
       "      <td>2930</td>\n",
       "      <td>986</td>\n",
       "      <td>r</td>\n",
       "      <td>Battle of Trout River</td>\n",
       "      <td>1900</td>\n",
       "      <td>NaN</td>\n",
       "      <td>Fenian raids</td>\n",
       "      <td>Canada</td>\n",
       "      <td>NaN</td>\n",
       "      <td>win</td>\n",
       "      <td>45.087337</td>\n",
       "      <td>-74.173851</td>\n",
       "      <td>Huntingdon, Quebec, Canada</td>\n",
       "      <td>http://www.wikidata.org/entity/Q16822756</td>\n",
       "      <td>https://en.wikipedia.org/wiki/Battle_of_Trout_...</td>\n",
       "      <td>4.0</td>\n",
       "      <td>3</td>\n",
       "    </tr>\n",
       "    <tr>\n",
       "      <th>110</th>\n",
       "      <td>2930</td>\n",
       "      <td>986</td>\n",
       "      <td>r</td>\n",
       "      <td>Battle of Trout River</td>\n",
       "      <td>1914</td>\n",
       "      <td>NaN</td>\n",
       "      <td>Fenian raids</td>\n",
       "      <td>Canada</td>\n",
       "      <td>NaN</td>\n",
       "      <td>win</td>\n",
       "      <td>45.087337</td>\n",
       "      <td>-74.173851</td>\n",
       "      <td>Huntingdon, Quebec, Canada</td>\n",
       "      <td>http://www.wikidata.org/entity/Q16822756</td>\n",
       "      <td>https://en.wikipedia.org/wiki/Battle_of_Trout_...</td>\n",
       "      <td>4.0</td>\n",
       "      <td>4</td>\n",
       "    </tr>\n",
       "    <tr>\n",
       "      <th>111</th>\n",
       "      <td>2930</td>\n",
       "      <td>986</td>\n",
       "      <td>r</td>\n",
       "      <td>Battle of Trout River</td>\n",
       "      <td>1915</td>\n",
       "      <td>NaN</td>\n",
       "      <td>Fenian raids</td>\n",
       "      <td>Canada</td>\n",
       "      <td>NaN</td>\n",
       "      <td>win</td>\n",
       "      <td>45.087337</td>\n",
       "      <td>-74.173851</td>\n",
       "      <td>Huntingdon, Quebec, Canada</td>\n",
       "      <td>http://www.wikidata.org/entity/Q16822756</td>\n",
       "      <td>https://en.wikipedia.org/wiki/Battle_of_Trout_...</td>\n",
       "      <td>4.0</td>\n",
       "      <td>5</td>\n",
       "    </tr>\n",
       "    <tr>\n",
       "      <th>...</th>\n",
       "      <td>...</td>\n",
       "      <td>...</td>\n",
       "      <td>...</td>\n",
       "      <td>...</td>\n",
       "      <td>...</td>\n",
       "      <td>...</td>\n",
       "      <td>...</td>\n",
       "      <td>...</td>\n",
       "      <td>...</td>\n",
       "      <td>...</td>\n",
       "      <td>...</td>\n",
       "      <td>...</td>\n",
       "      <td>...</td>\n",
       "      <td>...</td>\n",
       "      <td>...</td>\n",
       "      <td>...</td>\n",
       "      <td>...</td>\n",
       "    </tr>\n",
       "    <tr>\n",
       "      <th>1903</th>\n",
       "      <td>5015</td>\n",
       "      <td>1682</td>\n",
       "      <td>l</td>\n",
       "      <td>Battle of Ramadi</td>\n",
       "      <td>2016</td>\n",
       "      <td>2016.0</td>\n",
       "      <td>Iraqi Civil War (2014–2017)</td>\n",
       "      <td>Canada</td>\n",
       "      <td>NaN</td>\n",
       "      <td>win</td>\n",
       "      <td>33.416667</td>\n",
       "      <td>43.3</td>\n",
       "      <td>Ramadi, Anbar Governorate, Iraq</td>\n",
       "      <td>http://www.wikidata.org/entity/Q21685887</td>\n",
       "      <td>https://en.wikipedia.org/wiki/Battle_of_Ramadi...</td>\n",
       "      <td>3250.0</td>\n",
       "      <td>1900</td>\n",
       "    </tr>\n",
       "    <tr>\n",
       "      <th>104</th>\n",
       "      <td>3360</td>\n",
       "      <td>1129</td>\n",
       "      <td>l</td>\n",
       "      <td>Battle of Baiji</td>\n",
       "      <td>2014</td>\n",
       "      <td>2015.0</td>\n",
       "      <td>Iraqi Civil War (2014–2017)</td>\n",
       "      <td>Canada</td>\n",
       "      <td>NaN</td>\n",
       "      <td>win</td>\n",
       "      <td>34.933333</td>\n",
       "      <td>43.483333</td>\n",
       "      <td>Baiji, Saladin Governorate, Iraq</td>\n",
       "      <td>http://www.wikidata.org/entity/Q17621839</td>\n",
       "      <td>https://en.wikipedia.org/wiki/Battle_of_Baiji_...</td>\n",
       "      <td>4846.0</td>\n",
       "      <td>1901</td>\n",
       "    </tr>\n",
       "    <tr>\n",
       "      <th>1899</th>\n",
       "      <td>3360</td>\n",
       "      <td>1129</td>\n",
       "      <td>l</td>\n",
       "      <td>Battle of Baiji</td>\n",
       "      <td>2015</td>\n",
       "      <td>2015.0</td>\n",
       "      <td>Iraqi Civil War (2014–2017)</td>\n",
       "      <td>Canada</td>\n",
       "      <td>NaN</td>\n",
       "      <td>win</td>\n",
       "      <td>34.933333</td>\n",
       "      <td>43.483333</td>\n",
       "      <td>Baiji, Saladin Governorate, Iraq</td>\n",
       "      <td>http://www.wikidata.org/entity/Q17621839</td>\n",
       "      <td>https://en.wikipedia.org/wiki/Battle_of_Baiji_...</td>\n",
       "      <td>4846.0</td>\n",
       "      <td>1902</td>\n",
       "    </tr>\n",
       "    <tr>\n",
       "      <th>1900</th>\n",
       "      <td>3360</td>\n",
       "      <td>1129</td>\n",
       "      <td>l</td>\n",
       "      <td>Battle of Baiji</td>\n",
       "      <td>2016</td>\n",
       "      <td>2015.0</td>\n",
       "      <td>Iraqi Civil War (2014–2017)</td>\n",
       "      <td>Canada</td>\n",
       "      <td>NaN</td>\n",
       "      <td>win</td>\n",
       "      <td>34.933333</td>\n",
       "      <td>43.483333</td>\n",
       "      <td>Baiji, Saladin Governorate, Iraq</td>\n",
       "      <td>http://www.wikidata.org/entity/Q17621839</td>\n",
       "      <td>https://en.wikipedia.org/wiki/Battle_of_Baiji_...</td>\n",
       "      <td>4846.0</td>\n",
       "      <td>1903</td>\n",
       "    </tr>\n",
       "    <tr>\n",
       "      <th>107</th>\n",
       "      <td>7229</td>\n",
       "      <td>2480</td>\n",
       "      <td>l</td>\n",
       "      <td>Battle of Mosul (2016–17)</td>\n",
       "      <td>2016</td>\n",
       "      <td>2017.0</td>\n",
       "      <td>American-led intervention in Iraq (2014–present)</td>\n",
       "      <td>Canada</td>\n",
       "      <td>NaN</td>\n",
       "      <td>win</td>\n",
       "      <td>36.337222</td>\n",
       "      <td>43.135833</td>\n",
       "      <td>Northern Iraq • Southwest Erbil Governorate • ...</td>\n",
       "      <td>http://www.wikidata.org/entity/Q27429856</td>\n",
       "      <td>https://en.wikipedia.org/wiki/Battle_of_Mosul_...</td>\n",
       "      <td>17592.0</td>\n",
       "      <td>1904</td>\n",
       "    </tr>\n",
       "  </tbody>\n",
       "</table>\n",
       "<p>1904 rows × 17 columns</p>\n",
       "</div>"
      ],
      "text/plain": [
       "       uid   bid lr                      bname  year year_end   \n",
       "0     2930   986  r      Battle of Trout River  1870      NaN  \\\n",
       "108   2930   986  r      Battle of Trout River  1885      NaN   \n",
       "109   2930   986  r      Battle of Trout River  1900      NaN   \n",
       "110   2930   986  r      Battle of Trout River  1914      NaN   \n",
       "111   2930   986  r      Battle of Trout River  1915      NaN   \n",
       "...    ...   ... ..                        ...   ...      ...   \n",
       "1903  5015  1682  l           Battle of Ramadi  2016   2016.0   \n",
       "104   3360  1129  l            Battle of Baiji  2014   2015.0   \n",
       "1899  3360  1129  l            Battle of Baiji  2015   2015.0   \n",
       "1900  3360  1129  l            Battle of Baiji  2016   2015.0   \n",
       "107   7229  2480  l  Battle of Mosul (2016–17)  2016   2017.0   \n",
       "\n",
       "                                                   war    bell mult_sides   \n",
       "0                                         Fenian raids  Canada        NaN  \\\n",
       "108                                       Fenian raids  Canada        NaN   \n",
       "109                                       Fenian raids  Canada        NaN   \n",
       "110                                       Fenian raids  Canada        NaN   \n",
       "111                                       Fenian raids  Canada        NaN   \n",
       "...                                                ...     ...        ...   \n",
       "1903                       Iraqi Civil War (2014–2017)  Canada        NaN   \n",
       "104                        Iraqi Civil War (2014–2017)  Canada        NaN   \n",
       "1899                       Iraqi Civil War (2014–2017)  Canada        NaN   \n",
       "1900                       Iraqi Civil War (2014–2017)  Canada        NaN   \n",
       "107   American-led intervention in Iraq (2014–present)  Canada        NaN   \n",
       "\n",
       "      win        lat        lng   \n",
       "0     win  45.087337 -74.173851  \\\n",
       "108   win  45.087337 -74.173851   \n",
       "109   win  45.087337 -74.173851   \n",
       "110   win  45.087337 -74.173851   \n",
       "111   win  45.087337 -74.173851   \n",
       "...   ...        ...        ...   \n",
       "1903  win  33.416667       43.3   \n",
       "104   win  34.933333  43.483333   \n",
       "1899  win  34.933333  43.483333   \n",
       "1900  win  34.933333  43.483333   \n",
       "107   win  36.337222  43.135833   \n",
       "\n",
       "                                                   locn   \n",
       "0                            Huntingdon, Quebec, Canada  \\\n",
       "108                          Huntingdon, Quebec, Canada   \n",
       "109                          Huntingdon, Quebec, Canada   \n",
       "110                          Huntingdon, Quebec, Canada   \n",
       "111                          Huntingdon, Quebec, Canada   \n",
       "...                                                 ...   \n",
       "1903                    Ramadi, Anbar Governorate, Iraq   \n",
       "104                    Baiji, Saladin Governorate, Iraq   \n",
       "1899                   Baiji, Saladin Governorate, Iraq   \n",
       "1900                   Baiji, Saladin Governorate, Iraq   \n",
       "107   Northern Iraq • Southwest Erbil Governorate • ...   \n",
       "\n",
       "                                        wd_url   \n",
       "0     http://www.wikidata.org/entity/Q16822756  \\\n",
       "108   http://www.wikidata.org/entity/Q16822756   \n",
       "109   http://www.wikidata.org/entity/Q16822756   \n",
       "110   http://www.wikidata.org/entity/Q16822756   \n",
       "111   http://www.wikidata.org/entity/Q16822756   \n",
       "...                                        ...   \n",
       "1903  http://www.wikidata.org/entity/Q21685887   \n",
       "104   http://www.wikidata.org/entity/Q17621839   \n",
       "1899  http://www.wikidata.org/entity/Q17621839   \n",
       "1900  http://www.wikidata.org/entity/Q17621839   \n",
       "107   http://www.wikidata.org/entity/Q27429856   \n",
       "\n",
       "                                                 wp_url casualties  sort_rank  \n",
       "0     https://en.wikipedia.org/wiki/Battle_of_Trout_...        4.0          1  \n",
       "108   https://en.wikipedia.org/wiki/Battle_of_Trout_...        4.0          2  \n",
       "109   https://en.wikipedia.org/wiki/Battle_of_Trout_...        4.0          3  \n",
       "110   https://en.wikipedia.org/wiki/Battle_of_Trout_...        4.0          4  \n",
       "111   https://en.wikipedia.org/wiki/Battle_of_Trout_...        4.0          5  \n",
       "...                                                 ...        ...        ...  \n",
       "1903  https://en.wikipedia.org/wiki/Battle_of_Ramadi...     3250.0       1900  \n",
       "104   https://en.wikipedia.org/wiki/Battle_of_Baiji_...     4846.0       1901  \n",
       "1899  https://en.wikipedia.org/wiki/Battle_of_Baiji_...     4846.0       1902  \n",
       "1900  https://en.wikipedia.org/wiki/Battle_of_Baiji_...     4846.0       1903  \n",
       "107   https://en.wikipedia.org/wiki/Battle_of_Mosul_...    17592.0       1904  \n",
       "\n",
       "[1904 rows x 17 columns]"
      ]
     },
     "execution_count": 9,
     "metadata": {},
     "output_type": "execute_result"
    }
   ],
   "source": [
    "def rank_rows(df):\n",
    "    \n",
    "    df['sort_rank'] = 0\n",
    "    curr_rank = 1\n",
    "    for b in battles:\n",
    "        temp = df.loc[df['bname'] == b]\n",
    "        for i,rows in temp.iterrows():\n",
    "            \n",
    "            if df['sort_rank'][i] == 0:\n",
    "                df['sort_rank'][i] = curr_rank\n",
    "                curr_rank += 1\n",
    "    return df        \n",
    "            \n",
    "\n",
    "    \n",
    "animate_candata.sort_values(['year'],inplace=True)            \n",
    "battles = list(animate_candata.sort_values('year')['bname'].unique())\n",
    "animate_candata = rank_rows(animate_candata)\n",
    "\n",
    "animate_candata.sort_values('sort_rank',inplace=True)\n",
    "animate_candata"
   ]
  },
  {
   "attachments": {},
   "cell_type": "markdown",
   "id": "5320a661",
   "metadata": {},
   "source": [
    "By clicking on the \"play\" button on the bottom we'll be able to look at the wars that Canada has found throughout the years"
   ]
  },
  {
   "cell_type": "code",
   "execution_count": 10,
   "id": "afe0ae53",
   "metadata": {},
   "outputs": [
    {
     "data": {
      "application/vnd.plotly.v1+json": {
       "config": {
        "plotlyServerURL": "https://plot.ly"
       },
       "data": [
        {
         "geo": "geo",
         "hovertemplate": "<b>%{hovertext}</b><br><br>year=1870<br>lat=%{lat}<br>lng=%{lon}<extra></extra>",
         "hovertext": [
          "Battle of Trout River"
         ],
         "ids": [
          "Fenian raids"
         ],
         "lat": [
          45.087337493896484
         ],
         "legendgroup": "",
         "lon": [
          -74.1738510131836
         ],
         "marker": {
          "color": "#636efa",
          "symbol": "circle"
         },
         "mode": "markers",
         "name": "",
         "showlegend": false,
         "type": "scattergeo"
        }
       ],
       "frames": [
        {
         "data": [
          {
           "geo": "geo",
           "hovertemplate": "<b>%{hovertext}</b><br><br>year=1870<br>lat=%{lat}<br>lng=%{lon}<extra></extra>",
           "hovertext": [
            "Battle of Trout River"
           ],
           "ids": [
            "Fenian raids"
           ],
           "lat": [
            45.087337493896484
           ],
           "legendgroup": "",
           "lon": [
            -74.1738510131836
           ],
           "marker": {
            "color": "#636efa",
            "symbol": "circle"
           },
           "mode": "markers",
           "name": "",
           "showlegend": false,
           "type": "scattergeo"
          }
         ],
         "name": "1870"
        },
        {
         "data": [
          {
           "geo": "geo",
           "hovertemplate": "<b>%{hovertext}</b><br><br>year=1885<br>lat=%{lat}<br>lng=%{lon}<extra></extra>",
           "hovertext": [
            "Battle of Trout River",
            "Battle of Fish Creek",
            "Battle of Frenchman's Butte",
            "Battle of Duck Lake",
            "Battle of Fort Pitt",
            "Battle of Batoche",
            "Battle of Cut Knife",
            "Battle of Loon Lake"
           ],
           "ids": [
            "Fenian raids",
            "North-West Rebellion",
            "North-West Rebellion",
            "North-West Rebellion",
            "North-West Rebellion",
            "North-West Rebellion",
            "North-West Rebellion",
            "North-West Rebellion"
           ],
           "lat": [
            45.087337493896484,
            52.60194396972656,
            53.62722396850586,
            52.81650924682617,
            53.65018,
            52.75600814819336,
            52.74530792236328,
            54.04055404663086
           ],
           "legendgroup": "",
           "lon": [
            -74.1738510131836,
            -105.9472198486328,
            -109.5758361816406,
            -106.2327270507812,
            -109.75154,
            -106.11793518066406,
            -109.0277633666992,
            -109.0008316040039
           ],
           "marker": {
            "color": "#636efa",
            "symbol": "circle"
           },
           "mode": "markers",
           "name": "",
           "showlegend": false,
           "type": "scattergeo"
          }
         ],
         "name": "1885"
        },
        {
         "data": [
          {
           "geo": "geo",
           "hovertemplate": "<b>%{hovertext}</b><br><br>year=1900<br>lat=%{lat}<br>lng=%{lon}<extra></extra>",
           "hovertext": [
            "Battle of Trout River",
            "Battle of Fish Creek",
            "Battle of Frenchman's Butte",
            "Battle of Duck Lake",
            "Battle of Fort Pitt",
            "Battle of Batoche",
            "Battle of Cut Knife",
            "Battle of Loon Lake",
            "Battle of Diamond Hill",
            "Battle of Witpoort",
            "Battle of Paardeberg",
            "Battle of Leliefontein",
            "Battle of Elands River",
            "Bloody Sunday"
           ],
           "ids": [
            "Fenian raids",
            "North-West Rebellion",
            "North-West Rebellion",
            "North-West Rebellion",
            "North-West Rebellion",
            "North-West Rebellion",
            "North-West Rebellion",
            "North-West Rebellion",
            "Second Boer War",
            "Second Boer War",
            "Second Boer War",
            "Second Boer War",
            "Second Boer War",
            "Second Boer War"
           ],
           "lat": [
            45.087337493896484,
            52.60194396972656,
            53.62722396850586,
            52.81650924682617,
            53.65018,
            52.75600814819336,
            52.74530792236328,
            54.04055404663086,
            -25.783333333333,
            -29.913196563720703,
            -28.9825,
            -25.96666667,
            -25.649444,
            -28.9825
           ],
           "legendgroup": "",
           "lon": [
            -74.1738510131836,
            -105.9472198486328,
            -109.5758361816406,
            -106.2327270507812,
            -109.75154,
            -106.11793518066406,
            -109.0277633666992,
            -109.0008316040039,
            28.466666666667,
            23.604339599609375,
            25.09305556,
            30.05,
            26.706667,
            25.093055555556
           ],
           "marker": {
            "color": "#636efa",
            "symbol": "circle"
           },
           "mode": "markers",
           "name": "",
           "showlegend": false,
           "type": "scattergeo"
          }
         ],
         "name": "1900"
        },
        {
         "data": [
          {
           "geo": "geo",
           "hovertemplate": "<b>%{hovertext}</b><br><br>year=1914<br>lat=%{lat}<br>lng=%{lon}<extra></extra>",
           "hovertext": [
            "Battle of Trout River",
            "Battle of Fish Creek",
            "Battle of Frenchman's Butte",
            "Battle of Duck Lake",
            "Battle of Fort Pitt",
            "Battle of Batoche",
            "Battle of Cut Knife",
            "Battle of Loon Lake",
            "Battle of Diamond Hill",
            "Battle of Witpoort",
            "Battle of Paardeberg",
            "Battle of Leliefontein",
            "Battle of Elands River",
            "Bloody Sunday",
            "Battle of Givenchy"
           ],
           "ids": [
            "Fenian raids",
            "North-West Rebellion",
            "North-West Rebellion",
            "North-West Rebellion",
            "North-West Rebellion",
            "North-West Rebellion",
            "North-West Rebellion",
            "North-West Rebellion",
            "Second Boer War",
            "Second Boer War",
            "Second Boer War",
            "Second Boer War",
            "Second Boer War",
            "Second Boer War",
            "World War I"
           ],
           "lat": [
            45.087337493896484,
            52.60194396972656,
            53.62722396850586,
            52.81650924682617,
            53.65018,
            52.75600814819336,
            52.74530792236328,
            54.04055404663086,
            -25.783333333333,
            -29.913196563720703,
            -28.9825,
            -25.96666667,
            -25.649444,
            -28.9825,
            50.5294
           ],
           "legendgroup": "",
           "lon": [
            -74.1738510131836,
            -105.9472198486328,
            -109.5758361816406,
            -106.2327270507812,
            -109.75154,
            -106.11793518066406,
            -109.0277633666992,
            -109.0008316040039,
            28.466666666667,
            23.604339599609375,
            25.09305556,
            30.05,
            26.706667,
            25.093055555556,
            2.75861
           ],
           "marker": {
            "color": "#636efa",
            "symbol": "circle"
           },
           "mode": "markers",
           "name": "",
           "showlegend": false,
           "type": "scattergeo"
          }
         ],
         "name": "1914"
        },
        {
         "data": [
          {
           "geo": "geo",
           "hovertemplate": "<b>%{hovertext}</b><br><br>year=1915<br>lat=%{lat}<br>lng=%{lon}<extra></extra>",
           "hovertext": [
            "Battle of Trout River",
            "Battle of Fish Creek",
            "Battle of Frenchman's Butte",
            "Battle of Duck Lake",
            "Battle of Fort Pitt",
            "Battle of Batoche",
            "Battle of Cut Knife",
            "Battle of Loon Lake",
            "Battle of Diamond Hill",
            "Battle of Witpoort",
            "Battle of Paardeberg",
            "Battle of Leliefontein",
            "Battle of Elands River",
            "Bloody Sunday",
            "Battle of Givenchy",
            "Battle of Festubert",
            "Battle of Kitcheners' Wood",
            "Second Battle of Ypres",
            "Second Battle of Artois",
            "Battle of Hill 60",
            "Battle of Neuve Chapelle"
           ],
           "ids": [
            "Fenian raids",
            "North-West Rebellion",
            "North-West Rebellion",
            "North-West Rebellion",
            "North-West Rebellion",
            "North-West Rebellion",
            "North-West Rebellion",
            "North-West Rebellion",
            "Second Boer War",
            "Second Boer War",
            "Second Boer War",
            "Second Boer War",
            "Second Boer War",
            "Second Boer War",
            "World War I",
            "World War I",
            "Western Front of World War I",
            "Western Front of World War I",
            "Western Front of World War I",
            "Western Front of World War I",
            "Western Front of World War I"
           ],
           "lat": [
            45.087337493896484,
            52.60194396972656,
            53.62722396850586,
            52.81650924682617,
            53.65018,
            52.75600814819336,
            52.74530792236328,
            54.04055404663086,
            -25.783333333333,
            -29.913196563720703,
            -28.9825,
            -25.96666667,
            -25.649444,
            -28.9825,
            50.5294,
            50.54388889,
            50.89,
            50.899444444444,
            50.5,
            50.821388888889,
            50.585
           ],
           "legendgroup": "",
           "lon": [
            -74.1738510131836,
            -105.9472198486328,
            -109.5758361816406,
            -106.2327270507812,
            -109.75154,
            -106.11793518066406,
            -109.0277633666992,
            -109.0008316040039,
            28.466666666667,
            23.604339599609375,
            25.09305556,
            30.05,
            26.706667,
            25.093055555556,
            2.75861,
            2.73611111,
            2.922,
            2.9405555555556,
            2.75,
            2.9316666666667,
            2.7775
           ],
           "marker": {
            "color": "#636efa",
            "symbol": "circle"
           },
           "mode": "markers",
           "name": "",
           "showlegend": false,
           "type": "scattergeo"
          }
         ],
         "name": "1915"
        },
        {
         "data": [
          {
           "geo": "geo",
           "hovertemplate": "<b>%{hovertext}</b><br><br>year=1916<br>lat=%{lat}<br>lng=%{lon}<extra></extra>",
           "hovertext": [
            "Battle of Trout River",
            "Battle of Fish Creek",
            "Battle of Frenchman's Butte",
            "Battle of Duck Lake",
            "Battle of Fort Pitt",
            "Battle of Batoche",
            "Battle of Cut Knife",
            "Battle of Loon Lake",
            "Battle of Diamond Hill",
            "Battle of Witpoort",
            "Battle of Paardeberg",
            "Battle of Leliefontein",
            "Battle of Elands River",
            "Bloody Sunday",
            "Battle of Givenchy",
            "Battle of Festubert",
            "Battle of Kitcheners' Wood",
            "Second Battle of Ypres",
            "Second Battle of Artois",
            "Battle of Hill 60",
            "Battle of Neuve Chapelle",
            "Battle of Thiepval Ridge",
            "Battle of the Ancre Heights",
            "Battle of Mouquet Farm",
            "Battle of Morval",
            "Battle of Le Transloy",
            "Battle of Mont Sorrel",
            "Regina Trench",
            "Battle of the Somme",
            "Battle of Flers–Courcelette"
           ],
           "ids": [
            "Fenian raids",
            "North-West Rebellion",
            "North-West Rebellion",
            "North-West Rebellion",
            "North-West Rebellion",
            "North-West Rebellion",
            "North-West Rebellion",
            "North-West Rebellion",
            "Second Boer War",
            "Second Boer War",
            "Second Boer War",
            "Second Boer War",
            "Second Boer War",
            "Second Boer War",
            "World War I",
            "World War I",
            "Western Front of World War I",
            "Western Front of World War I",
            "Western Front of World War I",
            "Western Front of World War I",
            "Western Front of World War I",
            "Western Front of World War I",
            "Battle of the Somme",
            "Battle of the Somme",
            "Battle of the Somme",
            "Battle of the Somme",
            "Western Front of World War I",
            "Battle of the Somme",
            "Western Front of World War I",
            "Battle of the Somme"
           ],
           "lat": [
            45.087337493896484,
            52.60194396972656,
            53.62722396850586,
            52.81650924682617,
            53.65018,
            52.75600814819336,
            52.74530792236328,
            54.04055404663086,
            -25.783333333333,
            -29.913196563720703,
            -28.9825,
            -25.96666667,
            -25.649444,
            -28.9825,
            50.5294,
            50.54388889,
            50.89,
            50.899444444444,
            50.5,
            50.821388888889,
            50.585,
            50.054527777778,
            49.9067,
            50.051111,
            50.0316,
            50.057388888889,
            50.8464,
            50.0717,
            50.0155,
            50.05888889
           ],
           "legendgroup": "",
           "lon": [
            -74.1738510131836,
            -105.9472198486328,
            -109.5758361816406,
            -106.2327270507812,
            -109.75154,
            -106.11793518066406,
            -109.0277633666992,
            -109.0008316040039,
            28.466666666667,
            23.604339599609375,
            25.09305556,
            30.05,
            26.706667,
            25.093055555556,
            2.75861,
            2.73611111,
            2.922,
            2.9405555555556,
            2.75,
            2.9316666666667,
            2.7775,
            2.6883888888889,
            2.47583,
            2.712778,
            2.8424,
            2.8877222222222,
            2.94361,
            2.78139,
            2.69742,
            2.74777778
           ],
           "marker": {
            "color": "#636efa",
            "symbol": "circle"
           },
           "mode": "markers",
           "name": "",
           "showlegend": false,
           "type": "scattergeo"
          }
         ],
         "name": "1916"
        },
        {
         "data": [
          {
           "geo": "geo",
           "hovertemplate": "<b>%{hovertext}</b><br><br>year=1917<br>lat=%{lat}<br>lng=%{lon}<extra></extra>",
           "hovertext": [
            "Battle of Trout River",
            "Battle of Fish Creek",
            "Battle of Frenchman's Butte",
            "Battle of Duck Lake",
            "Battle of Fort Pitt",
            "Battle of Batoche",
            "Battle of Cut Knife",
            "Battle of Loon Lake",
            "Battle of Diamond Hill",
            "Battle of Witpoort",
            "Battle of Paardeberg",
            "Battle of Leliefontein",
            "Battle of Elands River",
            "Bloody Sunday",
            "Battle of Givenchy",
            "Battle of Festubert",
            "Battle of Kitcheners' Wood",
            "Second Battle of Ypres",
            "Second Battle of Artois",
            "Battle of Hill 60",
            "Battle of Neuve Chapelle",
            "Battle of Thiepval Ridge",
            "Battle of the Ancre Heights",
            "Battle of Mouquet Farm",
            "Battle of Morval",
            "Battle of Le Transloy",
            "Battle of Mont Sorrel",
            "Regina Trench",
            "Battle of the Somme",
            "Battle of Flers–Courcelette",
            "Battle of Passchendaele",
            "First Battle of Gaza",
            "Battle of Arras",
            "Battle of Hill 70",
            "Second Battle of Gaza",
            "Battle of Messines",
            "Second Battle of Passchendaele",
            "Battle of Vimy Ridge"
           ],
           "ids": [
            "Fenian raids",
            "North-West Rebellion",
            "North-West Rebellion",
            "North-West Rebellion",
            "North-West Rebellion",
            "North-West Rebellion",
            "North-West Rebellion",
            "North-West Rebellion",
            "Second Boer War",
            "Second Boer War",
            "Second Boer War",
            "Second Boer War",
            "Second Boer War",
            "Second Boer War",
            "World War I",
            "World War I",
            "Western Front of World War I",
            "Western Front of World War I",
            "Western Front of World War I",
            "Western Front of World War I",
            "Western Front of World War I",
            "Western Front of World War I",
            "Battle of the Somme",
            "Battle of the Somme",
            "Battle of the Somme",
            "Battle of the Somme",
            "Western Front of World War I",
            "Battle of the Somme",
            "Western Front of World War I",
            "Battle of the Somme",
            "Western Front of World War I",
            "Middle Eastern theatre of World War I",
            "Western Front of World War I",
            "World War I",
            "Middle Eastern theatre of World War I",
            "Western Front of World War I",
            "Battle of Passchendaele",
            "World War I"
           ],
           "lat": [
            45.087337493896484,
            52.60194396972656,
            53.62722396850586,
            52.81650924682617,
            53.65018,
            52.75600814819336,
            52.74530792236328,
            54.04055404663086,
            -25.783333333333,
            -29.913196563720703,
            -28.9825,
            -25.96666667,
            -25.649444,
            -28.9825,
            50.5294,
            50.54388889,
            50.89,
            50.899444444444,
            50.5,
            50.821388888889,
            50.585,
            50.054527777778,
            49.9067,
            50.051111,
            50.0316,
            50.057388888889,
            50.8464,
            50.0717,
            50.0155,
            50.05888889,
            50.900277777778,
            31.4893,
            50.289722222222,
            50.45555556,
            31.4893,
            50.7625,
            50.90027778,
            50.379
           ],
           "legendgroup": "",
           "lon": [
            -74.1738510131836,
            -105.9472198486328,
            -109.5758361816406,
            -106.2327270507812,
            -109.75154,
            -106.11793518066406,
            -109.0277633666992,
            -109.0008316040039,
            28.466666666667,
            23.604339599609375,
            25.09305556,
            30.05,
            26.706667,
            25.093055555556,
            2.75861,
            2.73611111,
            2.922,
            2.9405555555556,
            2.75,
            2.9316666666667,
            2.7775,
            2.6883888888889,
            2.47583,
            2.712778,
            2.8424,
            2.8877222222222,
            2.94361,
            2.78139,
            2.69742,
            2.74777778,
            3.0211111111111,
            34.4737,
            2.7808333333333,
            2.81902778,
            34.4737,
            2.8952777777778,
            3.02111111,
            2.774
           ],
           "marker": {
            "color": "#636efa",
            "symbol": "circle"
           },
           "mode": "markers",
           "name": "",
           "showlegend": false,
           "type": "scattergeo"
          }
         ],
         "name": "1917"
        },
        {
         "data": [
          {
           "geo": "geo",
           "hovertemplate": "<b>%{hovertext}</b><br><br>year=1918<br>lat=%{lat}<br>lng=%{lon}<extra></extra>",
           "hovertext": [
            "Battle of Trout River",
            "Battle of Fish Creek",
            "Battle of Frenchman's Butte",
            "Battle of Duck Lake",
            "Battle of Fort Pitt",
            "Battle of Batoche",
            "Battle of Cut Knife",
            "Battle of Loon Lake",
            "Battle of Diamond Hill",
            "Battle of Witpoort",
            "Battle of Paardeberg",
            "Battle of Leliefontein",
            "Battle of Elands River",
            "Bloody Sunday",
            "Battle of Givenchy",
            "Battle of Festubert",
            "Battle of Kitcheners' Wood",
            "Second Battle of Ypres",
            "Second Battle of Artois",
            "Battle of Hill 60",
            "Battle of Neuve Chapelle",
            "Battle of Thiepval Ridge",
            "Battle of the Ancre Heights",
            "Battle of Mouquet Farm",
            "Battle of Morval",
            "Battle of Le Transloy",
            "Battle of Mont Sorrel",
            "Regina Trench",
            "Battle of the Somme",
            "Battle of Flers–Courcelette",
            "Battle of Passchendaele",
            "First Battle of Gaza",
            "Battle of Arras",
            "Battle of Hill 70",
            "Second Battle of Gaza",
            "Battle of Messines",
            "Second Battle of Passchendaele",
            "Battle of Vimy Ridge",
            "Battle of the Lys",
            "Battle of the Canal du Nord",
            "Battle of Moreuil Wood",
            "Battle of Amiens",
            "Second Battle of the Somme",
            "Battle of Tulgas",
            "Fifth Battle of Ypres",
            "Operation Michael",
            "Battle of Drocourt-Quéant Line",
            "Battle of Cambrai",
            "Battle of the Scarpe"
           ],
           "ids": [
            "Fenian raids",
            "North-West Rebellion",
            "North-West Rebellion",
            "North-West Rebellion",
            "North-West Rebellion",
            "North-West Rebellion",
            "North-West Rebellion",
            "North-West Rebellion",
            "Second Boer War",
            "Second Boer War",
            "Second Boer War",
            "Second Boer War",
            "Second Boer War",
            "Second Boer War",
            "World War I",
            "World War I",
            "Western Front of World War I",
            "Western Front of World War I",
            "Western Front of World War I",
            "Western Front of World War I",
            "Western Front of World War I",
            "Western Front of World War I",
            "Battle of the Somme",
            "Battle of the Somme",
            "Battle of the Somme",
            "Battle of the Somme",
            "Western Front of World War I",
            "Battle of the Somme",
            "Western Front of World War I",
            "Battle of the Somme",
            "Western Front of World War I",
            "Middle Eastern theatre of World War I",
            "Western Front of World War I",
            "World War I",
            "Middle Eastern theatre of World War I",
            "Western Front of World War I",
            "Battle of Passchendaele",
            "World War I",
            "Spring Offensive",
            "Hundred Days Offensive",
            "World War I",
            "Western Front of World War I",
            "Western Front of World War I",
            "Russian Civil War",
            "Western Front of World War I",
            "Spring Offensive",
            "World War I",
            "World War I",
            "Western Front of World War I"
           ],
           "lat": [
            45.087337493896484,
            52.60194396972656,
            53.62722396850586,
            52.81650924682617,
            53.65018,
            52.75600814819336,
            52.74530792236328,
            54.04055404663086,
            -25.783333333333,
            -29.913196563720703,
            -28.9825,
            -25.96666667,
            -25.649444,
            -28.9825,
            50.5294,
            50.54388889,
            50.89,
            50.899444444444,
            50.5,
            50.821388888889,
            50.585,
            50.054527777778,
            49.9067,
            50.051111,
            50.0316,
            50.057388888889,
            50.8464,
            50.0717,
            50.0155,
            50.05888889,
            50.900277777778,
            31.4893,
            50.289722222222,
            50.45555556,
            31.4893,
            50.7625,
            50.90027778,
            50.379,
            50.70555556,
            50.283333,
            49.7831,
            49.893913888889,
            49.968971252441406,
            62.594388,
            50.9003,
            49.85,
            50.391944444444,
            50.1767,
            50.270556
           ],
           "legendgroup": "",
           "lon": [
            -74.1738510131836,
            -105.9472198486328,
            -109.5758361816406,
            -106.2327270507812,
            -109.75154,
            -106.11793518066406,
            -109.0277633666992,
            -109.0008316040039,
            28.466666666667,
            23.604339599609375,
            25.09305556,
            30.05,
            26.706667,
            25.093055555556,
            2.75861,
            2.73611111,
            2.922,
            2.9405555555556,
            2.75,
            2.9316666666667,
            2.7775,
            2.6883888888889,
            2.47583,
            2.712778,
            2.8424,
            2.8877222222222,
            2.94361,
            2.78139,
            2.69742,
            2.74777778,
            3.0211111111111,
            34.4737,
            2.7808333333333,
            2.81902778,
            34.4737,
            2.8952777777778,
            3.02111111,
            2.774,
            2.9,
            3.116667,
            2.5,
            2.29425,
            2.37385892868042,
            43.507833,
            3.02111,
            3.28333,
            2.9275,
            3.23556,
            2.894167
           ],
           "marker": {
            "color": "#636efa",
            "symbol": "circle"
           },
           "mode": "markers",
           "name": "",
           "showlegend": false,
           "type": "scattergeo"
          }
         ],
         "name": "1918"
        },
        {
         "data": [
          {
           "geo": "geo",
           "hovertemplate": "<b>%{hovertext}</b><br><br>year=1919<br>lat=%{lat}<br>lng=%{lon}<extra></extra>",
           "hovertext": [
            "Battle of Trout River",
            "Battle of Fish Creek",
            "Battle of Frenchman's Butte",
            "Battle of Duck Lake",
            "Battle of Fort Pitt",
            "Battle of Batoche",
            "Battle of Cut Knife",
            "Battle of Loon Lake",
            "Battle of Diamond Hill",
            "Battle of Witpoort",
            "Battle of Paardeberg",
            "Battle of Leliefontein",
            "Battle of Elands River",
            "Bloody Sunday",
            "Battle of Givenchy",
            "Battle of Festubert",
            "Battle of Kitcheners' Wood",
            "Second Battle of Ypres",
            "Second Battle of Artois",
            "Battle of Hill 60",
            "Battle of Neuve Chapelle",
            "Battle of Thiepval Ridge",
            "Battle of the Ancre Heights",
            "Battle of Mouquet Farm",
            "Battle of Morval",
            "Battle of Le Transloy",
            "Battle of Mont Sorrel",
            "Regina Trench",
            "Battle of the Somme",
            "Battle of Flers–Courcelette",
            "Battle of Passchendaele",
            "First Battle of Gaza",
            "Battle of Arras",
            "Battle of Hill 70",
            "Second Battle of Gaza",
            "Battle of Messines",
            "Second Battle of Passchendaele",
            "Battle of Vimy Ridge",
            "Battle of the Lys",
            "Battle of the Canal du Nord",
            "Battle of Moreuil Wood",
            "Battle of Amiens",
            "Second Battle of the Somme",
            "Battle of Tulgas",
            "Fifth Battle of Ypres",
            "Operation Michael",
            "Battle of Drocourt-Quéant Line",
            "Battle of Cambrai",
            "Battle of the Scarpe",
            "Battle of Shenkursk"
           ],
           "ids": [
            "Fenian raids",
            "North-West Rebellion",
            "North-West Rebellion",
            "North-West Rebellion",
            "North-West Rebellion",
            "North-West Rebellion",
            "North-West Rebellion",
            "North-West Rebellion",
            "Second Boer War",
            "Second Boer War",
            "Second Boer War",
            "Second Boer War",
            "Second Boer War",
            "Second Boer War",
            "World War I",
            "World War I",
            "Western Front of World War I",
            "Western Front of World War I",
            "Western Front of World War I",
            "Western Front of World War I",
            "Western Front of World War I",
            "Western Front of World War I",
            "Battle of the Somme",
            "Battle of the Somme",
            "Battle of the Somme",
            "Battle of the Somme",
            "Western Front of World War I",
            "Battle of the Somme",
            "Western Front of World War I",
            "Battle of the Somme",
            "Western Front of World War I",
            "Middle Eastern theatre of World War I",
            "Western Front of World War I",
            "World War I",
            "Middle Eastern theatre of World War I",
            "Western Front of World War I",
            "Battle of Passchendaele",
            "World War I",
            "Spring Offensive",
            "Hundred Days Offensive",
            "World War I",
            "Western Front of World War I",
            "Western Front of World War I",
            "Russian Civil War",
            "Western Front of World War I",
            "Spring Offensive",
            "World War I",
            "World War I",
            "Western Front of World War I",
            "North Russia Intervention"
           ],
           "lat": [
            45.087337493896484,
            52.60194396972656,
            53.62722396850586,
            52.81650924682617,
            53.65018,
            52.75600814819336,
            52.74530792236328,
            54.04055404663086,
            -25.783333333333,
            -29.913196563720703,
            -28.9825,
            -25.96666667,
            -25.649444,
            -28.9825,
            50.5294,
            50.54388889,
            50.89,
            50.899444444444,
            50.5,
            50.821388888889,
            50.585,
            50.054527777778,
            49.9067,
            50.051111,
            50.0316,
            50.057388888889,
            50.8464,
            50.0717,
            50.0155,
            50.05888889,
            50.900277777778,
            31.4893,
            50.289722222222,
            50.45555556,
            31.4893,
            50.7625,
            50.90027778,
            50.379,
            50.70555556,
            50.283333,
            49.7831,
            49.893913888889,
            49.968971252441406,
            62.594388,
            50.9003,
            49.85,
            50.391944444444,
            50.1767,
            50.270556,
            62.1
           ],
           "legendgroup": "",
           "lon": [
            -74.1738510131836,
            -105.9472198486328,
            -109.5758361816406,
            -106.2327270507812,
            -109.75154,
            -106.11793518066406,
            -109.0277633666992,
            -109.0008316040039,
            28.466666666667,
            23.604339599609375,
            25.09305556,
            30.05,
            26.706667,
            25.093055555556,
            2.75861,
            2.73611111,
            2.922,
            2.9405555555556,
            2.75,
            2.9316666666667,
            2.7775,
            2.6883888888889,
            2.47583,
            2.712778,
            2.8424,
            2.8877222222222,
            2.94361,
            2.78139,
            2.69742,
            2.74777778,
            3.0211111111111,
            34.4737,
            2.7808333333333,
            2.81902778,
            34.4737,
            2.8952777777778,
            3.02111111,
            2.774,
            2.9,
            3.116667,
            2.5,
            2.29425,
            2.37385892868042,
            43.507833,
            3.02111,
            3.28333,
            2.9275,
            3.23556,
            2.894167,
            42.91666667
           ],
           "marker": {
            "color": "#636efa",
            "symbol": "circle"
           },
           "mode": "markers",
           "name": "",
           "showlegend": false,
           "type": "scattergeo"
          }
         ],
         "name": "1919"
        },
        {
         "data": [
          {
           "geo": "geo",
           "hovertemplate": "<b>%{hovertext}</b><br><br>year=1940<br>lat=%{lat}<br>lng=%{lon}<extra></extra>",
           "hovertext": [
            "Battle of Trout River",
            "Battle of Fish Creek",
            "Battle of Frenchman's Butte",
            "Battle of Duck Lake",
            "Battle of Fort Pitt",
            "Battle of Batoche",
            "Battle of Cut Knife",
            "Battle of Loon Lake",
            "Battle of Diamond Hill",
            "Battle of Witpoort",
            "Battle of Paardeberg",
            "Battle of Leliefontein",
            "Battle of Elands River",
            "Bloody Sunday",
            "Battle of Givenchy",
            "Battle of Festubert",
            "Battle of Kitcheners' Wood",
            "Second Battle of Ypres",
            "Second Battle of Artois",
            "Battle of Hill 60",
            "Battle of Neuve Chapelle",
            "Battle of Thiepval Ridge",
            "Battle of the Ancre Heights",
            "Battle of Mouquet Farm",
            "Battle of Morval",
            "Battle of Le Transloy",
            "Battle of Mont Sorrel",
            "Regina Trench",
            "Battle of the Somme",
            "Battle of Flers–Courcelette",
            "Battle of Passchendaele",
            "First Battle of Gaza",
            "Battle of Arras",
            "Battle of Hill 70",
            "Second Battle of Gaza",
            "Battle of Messines",
            "Second Battle of Passchendaele",
            "Battle of Vimy Ridge",
            "Battle of the Lys",
            "Battle of the Canal du Nord",
            "Battle of Moreuil Wood",
            "Battle of Amiens",
            "Second Battle of the Somme",
            "Battle of Tulgas",
            "Fifth Battle of Ypres",
            "Operation Michael",
            "Battle of Drocourt-Quéant Line",
            "Battle of Cambrai",
            "Battle of the Scarpe",
            "Battle of Shenkursk",
            "Battle of Dunkirk"
           ],
           "ids": [
            "Fenian raids",
            "North-West Rebellion",
            "North-West Rebellion",
            "North-West Rebellion",
            "North-West Rebellion",
            "North-West Rebellion",
            "North-West Rebellion",
            "North-West Rebellion",
            "Second Boer War",
            "Second Boer War",
            "Second Boer War",
            "Second Boer War",
            "Second Boer War",
            "Second Boer War",
            "World War I",
            "World War I",
            "Western Front of World War I",
            "Western Front of World War I",
            "Western Front of World War I",
            "Western Front of World War I",
            "Western Front of World War I",
            "Western Front of World War I",
            "Battle of the Somme",
            "Battle of the Somme",
            "Battle of the Somme",
            "Battle of the Somme",
            "Western Front of World War I",
            "Battle of the Somme",
            "Western Front of World War I",
            "Battle of the Somme",
            "Western Front of World War I",
            "Middle Eastern theatre of World War I",
            "Western Front of World War I",
            "World War I",
            "Middle Eastern theatre of World War I",
            "Western Front of World War I",
            "Battle of Passchendaele",
            "World War I",
            "Spring Offensive",
            "Hundred Days Offensive",
            "World War I",
            "Western Front of World War I",
            "Western Front of World War I",
            "Russian Civil War",
            "Western Front of World War I",
            "Spring Offensive",
            "World War I",
            "World War I",
            "Western Front of World War I",
            "North Russia Intervention",
            "World War II"
           ],
           "lat": [
            45.087337493896484,
            52.60194396972656,
            53.62722396850586,
            52.81650924682617,
            53.65018,
            52.75600814819336,
            52.74530792236328,
            54.04055404663086,
            -25.783333333333,
            -29.913196563720703,
            -28.9825,
            -25.96666667,
            -25.649444,
            -28.9825,
            50.5294,
            50.54388889,
            50.89,
            50.899444444444,
            50.5,
            50.821388888889,
            50.585,
            50.054527777778,
            49.9067,
            50.051111,
            50.0316,
            50.057388888889,
            50.8464,
            50.0717,
            50.0155,
            50.05888889,
            50.900277777778,
            31.4893,
            50.289722222222,
            50.45555556,
            31.4893,
            50.7625,
            50.90027778,
            50.379,
            50.70555556,
            50.283333,
            49.7831,
            49.893913888889,
            49.968971252441406,
            62.594388,
            50.9003,
            49.85,
            50.391944444444,
            50.1767,
            50.270556,
            62.1,
            51.0343
           ],
           "legendgroup": "",
           "lon": [
            -74.1738510131836,
            -105.9472198486328,
            -109.5758361816406,
            -106.2327270507812,
            -109.75154,
            -106.11793518066406,
            -109.0277633666992,
            -109.0008316040039,
            28.466666666667,
            23.604339599609375,
            25.09305556,
            30.05,
            26.706667,
            25.093055555556,
            2.75861,
            2.73611111,
            2.922,
            2.9405555555556,
            2.75,
            2.9316666666667,
            2.7775,
            2.6883888888889,
            2.47583,
            2.712778,
            2.8424,
            2.8877222222222,
            2.94361,
            2.78139,
            2.69742,
            2.74777778,
            3.0211111111111,
            34.4737,
            2.7808333333333,
            2.81902778,
            34.4737,
            2.8952777777778,
            3.02111111,
            2.774,
            2.9,
            3.116667,
            2.5,
            2.29425,
            2.37385892868042,
            43.507833,
            3.02111,
            3.28333,
            2.9275,
            3.23556,
            2.894167,
            42.91666667,
            2.3768194444444
           ],
           "marker": {
            "color": "#636efa",
            "symbol": "circle"
           },
           "mode": "markers",
           "name": "",
           "showlegend": false,
           "type": "scattergeo"
          }
         ],
         "name": "1940"
        },
        {
         "data": [
          {
           "geo": "geo",
           "hovertemplate": "<b>%{hovertext}</b><br><br>year=1941<br>lat=%{lat}<br>lng=%{lon}<extra></extra>",
           "hovertext": [
            "Battle of Trout River",
            "Battle of Fish Creek",
            "Battle of Frenchman's Butte",
            "Battle of Duck Lake",
            "Battle of Fort Pitt",
            "Battle of Batoche",
            "Battle of Cut Knife",
            "Battle of Loon Lake",
            "Battle of Diamond Hill",
            "Battle of Witpoort",
            "Battle of Paardeberg",
            "Battle of Leliefontein",
            "Battle of Elands River",
            "Bloody Sunday",
            "Battle of Givenchy",
            "Battle of Festubert",
            "Battle of Kitcheners' Wood",
            "Second Battle of Ypres",
            "Second Battle of Artois",
            "Battle of Hill 60",
            "Battle of Neuve Chapelle",
            "Battle of Thiepval Ridge",
            "Battle of the Ancre Heights",
            "Battle of Mouquet Farm",
            "Battle of Morval",
            "Battle of Le Transloy",
            "Battle of Mont Sorrel",
            "Regina Trench",
            "Battle of the Somme",
            "Battle of Flers–Courcelette",
            "Battle of Passchendaele",
            "First Battle of Gaza",
            "Battle of Arras",
            "Battle of Hill 70",
            "Second Battle of Gaza",
            "Battle of Messines",
            "Second Battle of Passchendaele",
            "Battle of Vimy Ridge",
            "Battle of the Lys",
            "Battle of the Canal du Nord",
            "Battle of Moreuil Wood",
            "Battle of Amiens",
            "Second Battle of the Somme",
            "Battle of Tulgas",
            "Fifth Battle of Ypres",
            "Operation Michael",
            "Battle of Drocourt-Quéant Line",
            "Battle of Cambrai",
            "Battle of the Scarpe",
            "Battle of Shenkursk",
            "Battle of Dunkirk",
            "Battle of the Caribbean",
            "Battle of Hong Kong"
           ],
           "ids": [
            "Fenian raids",
            "North-West Rebellion",
            "North-West Rebellion",
            "North-West Rebellion",
            "North-West Rebellion",
            "North-West Rebellion",
            "North-West Rebellion",
            "North-West Rebellion",
            "Second Boer War",
            "Second Boer War",
            "Second Boer War",
            "Second Boer War",
            "Second Boer War",
            "Second Boer War",
            "World War I",
            "World War I",
            "Western Front of World War I",
            "Western Front of World War I",
            "Western Front of World War I",
            "Western Front of World War I",
            "Western Front of World War I",
            "Western Front of World War I",
            "Battle of the Somme",
            "Battle of the Somme",
            "Battle of the Somme",
            "Battle of the Somme",
            "Western Front of World War I",
            "Battle of the Somme",
            "Western Front of World War I",
            "Battle of the Somme",
            "Western Front of World War I",
            "Middle Eastern theatre of World War I",
            "Western Front of World War I",
            "World War I",
            "Middle Eastern theatre of World War I",
            "Western Front of World War I",
            "Battle of Passchendaele",
            "World War I",
            "Spring Offensive",
            "Hundred Days Offensive",
            "World War I",
            "Western Front of World War I",
            "Western Front of World War I",
            "Russian Civil War",
            "Western Front of World War I",
            "Spring Offensive",
            "World War I",
            "World War I",
            "Western Front of World War I",
            "North Russia Intervention",
            "World War II",
            "World War II",
            "Pacific War"
           ],
           "lat": [
            45.087337493896484,
            52.60194396972656,
            53.62722396850586,
            52.81650924682617,
            53.65018,
            52.75600814819336,
            52.74530792236328,
            54.04055404663086,
            -25.783333333333,
            -29.913196563720703,
            -28.9825,
            -25.96666667,
            -25.649444,
            -28.9825,
            50.5294,
            50.54388889,
            50.89,
            50.899444444444,
            50.5,
            50.821388888889,
            50.585,
            50.054527777778,
            49.9067,
            50.051111,
            50.0316,
            50.057388888889,
            50.8464,
            50.0717,
            50.0155,
            50.05888889,
            50.900277777778,
            31.4893,
            50.289722222222,
            50.45555556,
            31.4893,
            50.7625,
            50.90027778,
            50.379,
            50.70555556,
            50.283333,
            49.7831,
            49.893913888889,
            49.968971252441406,
            62.594388,
            50.9003,
            49.85,
            50.391944444444,
            50.1767,
            50.270556,
            62.1,
            51.0343,
            15,
            22.2819
           ],
           "legendgroup": "",
           "lon": [
            -74.1738510131836,
            -105.9472198486328,
            -109.5758361816406,
            -106.2327270507812,
            -109.75154,
            -106.11793518066406,
            -109.0277633666992,
            -109.0008316040039,
            28.466666666667,
            23.604339599609375,
            25.09305556,
            30.05,
            26.706667,
            25.093055555556,
            2.75861,
            2.73611111,
            2.922,
            2.9405555555556,
            2.75,
            2.9316666666667,
            2.7775,
            2.6883888888889,
            2.47583,
            2.712778,
            2.8424,
            2.8877222222222,
            2.94361,
            2.78139,
            2.69742,
            2.74777778,
            3.0211111111111,
            34.4737,
            2.7808333333333,
            2.81902778,
            34.4737,
            2.8952777777778,
            3.02111111,
            2.774,
            2.9,
            3.116667,
            2.5,
            2.29425,
            2.37385892868042,
            43.507833,
            3.02111,
            3.28333,
            2.9275,
            3.23556,
            2.894167,
            42.91666667,
            2.3768194444444,
            -75,
            114.162
           ],
           "marker": {
            "color": "#636efa",
            "symbol": "circle"
           },
           "mode": "markers",
           "name": "",
           "showlegend": false,
           "type": "scattergeo"
          }
         ],
         "name": "1941"
        },
        {
         "data": [
          {
           "geo": "geo",
           "hovertemplate": "<b>%{hovertext}</b><br><br>year=1942<br>lat=%{lat}<br>lng=%{lon}<extra></extra>",
           "hovertext": [
            "Battle of Trout River",
            "Battle of Fish Creek",
            "Battle of Frenchman's Butte",
            "Battle of Duck Lake",
            "Battle of Fort Pitt",
            "Battle of Batoche",
            "Battle of Cut Knife",
            "Battle of Loon Lake",
            "Battle of Diamond Hill",
            "Battle of Witpoort",
            "Battle of Paardeberg",
            "Battle of Leliefontein",
            "Battle of Elands River",
            "Bloody Sunday",
            "Battle of Givenchy",
            "Battle of Festubert",
            "Battle of Kitcheners' Wood",
            "Second Battle of Ypres",
            "Second Battle of Artois",
            "Battle of Hill 60",
            "Battle of Neuve Chapelle",
            "Battle of Thiepval Ridge",
            "Battle of the Ancre Heights",
            "Battle of Mouquet Farm",
            "Battle of Morval",
            "Battle of Le Transloy",
            "Battle of Mont Sorrel",
            "Regina Trench",
            "Battle of the Somme",
            "Battle of Flers–Courcelette",
            "Battle of Passchendaele",
            "First Battle of Gaza",
            "Battle of Arras",
            "Battle of Hill 70",
            "Second Battle of Gaza",
            "Battle of Messines",
            "Second Battle of Passchendaele",
            "Battle of Vimy Ridge",
            "Battle of the Lys",
            "Battle of the Canal du Nord",
            "Battle of Moreuil Wood",
            "Battle of Amiens",
            "Second Battle of the Somme",
            "Battle of Tulgas",
            "Fifth Battle of Ypres",
            "Operation Michael",
            "Battle of Drocourt-Quéant Line",
            "Battle of Cambrai",
            "Battle of the Scarpe",
            "Battle of Shenkursk",
            "Battle of Dunkirk",
            "Battle of the Caribbean",
            "Battle of Hong Kong",
            "Dieppe Raid",
            "Battle of the Bell Islands",
            "Battle of the St. Lawrence"
           ],
           "ids": [
            "Fenian raids",
            "North-West Rebellion",
            "North-West Rebellion",
            "North-West Rebellion",
            "North-West Rebellion",
            "North-West Rebellion",
            "North-West Rebellion",
            "North-West Rebellion",
            "Second Boer War",
            "Second Boer War",
            "Second Boer War",
            "Second Boer War",
            "Second Boer War",
            "Second Boer War",
            "World War I",
            "World War I",
            "Western Front of World War I",
            "Western Front of World War I",
            "Western Front of World War I",
            "Western Front of World War I",
            "Western Front of World War I",
            "Western Front of World War I",
            "Battle of the Somme",
            "Battle of the Somme",
            "Battle of the Somme",
            "Battle of the Somme",
            "Western Front of World War I",
            "Battle of the Somme",
            "Western Front of World War I",
            "Battle of the Somme",
            "Western Front of World War I",
            "Middle Eastern theatre of World War I",
            "Western Front of World War I",
            "World War I",
            "Middle Eastern theatre of World War I",
            "Western Front of World War I",
            "Battle of Passchendaele",
            "World War I",
            "Spring Offensive",
            "Hundred Days Offensive",
            "World War I",
            "Western Front of World War I",
            "Western Front of World War I",
            "Russian Civil War",
            "Western Front of World War I",
            "Spring Offensive",
            "World War I",
            "World War I",
            "Western Front of World War I",
            "North Russia Intervention",
            "World War II",
            "World War II",
            "Pacific War",
            "North West Europe Campaign",
            null,
            "World War II"
           ],
           "lat": [
            45.087337493896484,
            52.60194396972656,
            53.62722396850586,
            52.81650924682617,
            53.65018,
            52.75600814819336,
            52.74530792236328,
            54.04055404663086,
            -25.783333333333,
            -29.913196563720703,
            -28.9825,
            -25.96666667,
            -25.649444,
            -28.9825,
            50.5294,
            50.54388889,
            50.89,
            50.899444444444,
            50.5,
            50.821388888889,
            50.585,
            50.054527777778,
            49.9067,
            50.051111,
            50.0316,
            50.057388888889,
            50.8464,
            50.0717,
            50.0155,
            50.05888889,
            50.900277777778,
            31.4893,
            50.289722222222,
            50.45555556,
            31.4893,
            50.7625,
            50.90027778,
            50.379,
            50.70555556,
            50.283333,
            49.7831,
            49.893913888889,
            49.968971252441406,
            62.594388,
            50.9003,
            49.85,
            50.391944444444,
            50.1767,
            50.270556,
            62.1,
            51.0343,
            15,
            22.2819,
            49.933333333333,
            47.625511169433594,
            48.90331268310547
           ],
           "legendgroup": "",
           "lon": [
            -74.1738510131836,
            -105.9472198486328,
            -109.5758361816406,
            -106.2327270507812,
            -109.75154,
            -106.11793518066406,
            -109.0277633666992,
            -109.0008316040039,
            28.466666666667,
            23.604339599609375,
            25.09305556,
            30.05,
            26.706667,
            25.093055555556,
            2.75861,
            2.73611111,
            2.922,
            2.9405555555556,
            2.75,
            2.9316666666667,
            2.7775,
            2.6883888888889,
            2.47583,
            2.712778,
            2.8424,
            2.8877222222222,
            2.94361,
            2.78139,
            2.69742,
            2.74777778,
            3.0211111111111,
            34.4737,
            2.7808333333333,
            2.81902778,
            34.4737,
            2.8952777777778,
            3.02111111,
            2.774,
            2.9,
            3.116667,
            2.5,
            2.29425,
            2.37385892868042,
            43.507833,
            3.02111,
            3.28333,
            2.9275,
            3.23556,
            2.894167,
            42.91666667,
            2.3768194444444,
            -75,
            114.162,
            1.0833333333333,
            -52.96726608276367,
            -61.373878479003906
           ],
           "marker": {
            "color": "#636efa",
            "symbol": "circle"
           },
           "mode": "markers",
           "name": "",
           "showlegend": false,
           "type": "scattergeo"
          }
         ],
         "name": "1942"
        },
        {
         "data": [
          {
           "geo": "geo",
           "hovertemplate": "<b>%{hovertext}</b><br><br>year=1943<br>lat=%{lat}<br>lng=%{lon}<extra></extra>",
           "hovertext": [
            "Battle of Trout River",
            "Battle of Fish Creek",
            "Battle of Frenchman's Butte",
            "Battle of Duck Lake",
            "Battle of Fort Pitt",
            "Battle of Batoche",
            "Battle of Cut Knife",
            "Battle of Loon Lake",
            "Battle of Diamond Hill",
            "Battle of Witpoort",
            "Battle of Paardeberg",
            "Battle of Leliefontein",
            "Battle of Elands River",
            "Bloody Sunday",
            "Battle of Givenchy",
            "Battle of Festubert",
            "Battle of Kitcheners' Wood",
            "Second Battle of Ypres",
            "Second Battle of Artois",
            "Battle of Hill 60",
            "Battle of Neuve Chapelle",
            "Battle of Thiepval Ridge",
            "Battle of the Ancre Heights",
            "Battle of Mouquet Farm",
            "Battle of Morval",
            "Battle of Le Transloy",
            "Battle of Mont Sorrel",
            "Regina Trench",
            "Battle of the Somme",
            "Battle of Flers–Courcelette",
            "Battle of Passchendaele",
            "First Battle of Gaza",
            "Battle of Arras",
            "Battle of Hill 70",
            "Second Battle of Gaza",
            "Battle of Messines",
            "Second Battle of Passchendaele",
            "Battle of Vimy Ridge",
            "Battle of the Lys",
            "Battle of the Canal du Nord",
            "Battle of Moreuil Wood",
            "Battle of Amiens",
            "Second Battle of the Somme",
            "Battle of Tulgas",
            "Fifth Battle of Ypres",
            "Operation Michael",
            "Battle of Drocourt-Quéant Line",
            "Battle of Cambrai",
            "Battle of the Scarpe",
            "Battle of Shenkursk",
            "Battle of Dunkirk",
            "Battle of the Caribbean",
            "Battle of Hong Kong",
            "Dieppe Raid",
            "Battle of the Bell Islands",
            "Battle of the St. Lawrence",
            "Allied invasion of Italy",
            "Battle of Ortona",
            "Bernhardt Line",
            "Battle of the Ruhr",
            "Battle of Attu",
            "Monte la Difensa"
           ],
           "ids": [
            "Fenian raids",
            "North-West Rebellion",
            "North-West Rebellion",
            "North-West Rebellion",
            "North-West Rebellion",
            "North-West Rebellion",
            "North-West Rebellion",
            "North-West Rebellion",
            "Second Boer War",
            "Second Boer War",
            "Second Boer War",
            "Second Boer War",
            "Second Boer War",
            "Second Boer War",
            "World War I",
            "World War I",
            "Western Front of World War I",
            "Western Front of World War I",
            "Western Front of World War I",
            "Western Front of World War I",
            "Western Front of World War I",
            "Western Front of World War I",
            "Battle of the Somme",
            "Battle of the Somme",
            "Battle of the Somme",
            "Battle of the Somme",
            "Western Front of World War I",
            "Battle of the Somme",
            "Western Front of World War I",
            "Battle of the Somme",
            "Western Front of World War I",
            "Middle Eastern theatre of World War I",
            "Western Front of World War I",
            "World War I",
            "Middle Eastern theatre of World War I",
            "Western Front of World War I",
            "Battle of Passchendaele",
            "World War I",
            "Spring Offensive",
            "Hundred Days Offensive",
            "World War I",
            "Western Front of World War I",
            "Western Front of World War I",
            "Russian Civil War",
            "Western Front of World War I",
            "Spring Offensive",
            "World War I",
            "World War I",
            "Western Front of World War I",
            "North Russia Intervention",
            "World War II",
            "World War II",
            "Pacific War",
            "North West Europe Campaign",
            null,
            "World War II",
            "World War II",
            "Moro River Campaign",
            "Italian campaign",
            "strategic bombing during World War II",
            null,
            "Italian campaign"
           ],
           "lat": [
            45.087337493896484,
            52.60194396972656,
            53.62722396850586,
            52.81650924682617,
            53.65018,
            52.75600814819336,
            52.74530792236328,
            54.04055404663086,
            -25.783333333333,
            -29.913196563720703,
            -28.9825,
            -25.96666667,
            -25.649444,
            -28.9825,
            50.5294,
            50.54388889,
            50.89,
            50.899444444444,
            50.5,
            50.821388888889,
            50.585,
            50.054527777778,
            49.9067,
            50.051111,
            50.0316,
            50.057388888889,
            50.8464,
            50.0717,
            50.0155,
            50.05888889,
            50.900277777778,
            31.4893,
            50.289722222222,
            50.45555556,
            31.4893,
            50.7625,
            50.90027778,
            50.379,
            50.70555556,
            50.283333,
            49.7831,
            49.893913888889,
            49.968971252441406,
            62.594388,
            50.9003,
            49.85,
            50.391944444444,
            50.1767,
            50.270556,
            62.1,
            51.0343,
            15,
            22.2819,
            49.933333333333,
            47.625511169433594,
            48.90331268310547,
            40.679,
            42.35,
            41.40591812133789,
            51.5,
            52.879075,
            41.3833
           ],
           "legendgroup": "",
           "lon": [
            -74.1738510131836,
            -105.9472198486328,
            -109.5758361816406,
            -106.2327270507812,
            -109.75154,
            -106.11793518066406,
            -109.0277633666992,
            -109.0008316040039,
            28.466666666667,
            23.604339599609375,
            25.09305556,
            30.05,
            26.706667,
            25.093055555556,
            2.75861,
            2.73611111,
            2.922,
            2.9405555555556,
            2.75,
            2.9316666666667,
            2.7775,
            2.6883888888889,
            2.47583,
            2.712778,
            2.8424,
            2.8877222222222,
            2.94361,
            2.78139,
            2.69742,
            2.74777778,
            3.0211111111111,
            34.4737,
            2.7808333333333,
            2.81902778,
            34.4737,
            2.8952777777778,
            3.02111111,
            2.774,
            2.9,
            3.116667,
            2.5,
            2.29425,
            2.37385892868042,
            43.507833,
            3.02111,
            3.28333,
            2.9275,
            3.23556,
            2.894167,
            42.91666667,
            2.3768194444444,
            -75,
            114.162,
            1.0833333333333,
            -52.96726608276367,
            -61.373878479003906,
            14.7566,
            14.4,
            13.985516548156738,
            7.5,
            173.15688889,
            13.93326944
           ],
           "marker": {
            "color": "#636efa",
            "symbol": "circle"
           },
           "mode": "markers",
           "name": "",
           "showlegend": false,
           "type": "scattergeo"
          }
         ],
         "name": "1943"
        },
        {
         "data": [
          {
           "geo": "geo",
           "hovertemplate": "<b>%{hovertext}</b><br><br>year=1944<br>lat=%{lat}<br>lng=%{lon}<extra></extra>",
           "hovertext": [
            "Battle of Trout River",
            "Battle of Fish Creek",
            "Battle of Frenchman's Butte",
            "Battle of Duck Lake",
            "Battle of Fort Pitt",
            "Battle of Batoche",
            "Battle of Cut Knife",
            "Battle of Loon Lake",
            "Battle of Diamond Hill",
            "Battle of Witpoort",
            "Battle of Paardeberg",
            "Battle of Leliefontein",
            "Battle of Elands River",
            "Bloody Sunday",
            "Battle of Givenchy",
            "Battle of Festubert",
            "Battle of Kitcheners' Wood",
            "Second Battle of Ypres",
            "Second Battle of Artois",
            "Battle of Hill 60",
            "Battle of Neuve Chapelle",
            "Battle of Thiepval Ridge",
            "Battle of the Ancre Heights",
            "Battle of Mouquet Farm",
            "Battle of Morval",
            "Battle of Le Transloy",
            "Battle of Mont Sorrel",
            "Regina Trench",
            "Battle of the Somme",
            "Battle of Flers–Courcelette",
            "Battle of Passchendaele",
            "First Battle of Gaza",
            "Battle of Arras",
            "Battle of Hill 70",
            "Second Battle of Gaza",
            "Battle of Messines",
            "Second Battle of Passchendaele",
            "Battle of Vimy Ridge",
            "Battle of the Lys",
            "Battle of the Canal du Nord",
            "Battle of Moreuil Wood",
            "Battle of Amiens",
            "Second Battle of the Somme",
            "Battle of Tulgas",
            "Fifth Battle of Ypres",
            "Operation Michael",
            "Battle of Drocourt-Quéant Line",
            "Battle of Cambrai",
            "Battle of the Scarpe",
            "Battle of Shenkursk",
            "Battle of Dunkirk",
            "Battle of the Caribbean",
            "Battle of Hong Kong",
            "Dieppe Raid",
            "Battle of the Bell Islands",
            "Battle of the St. Lawrence",
            "Allied invasion of Italy",
            "Battle of Ortona",
            "Bernhardt Line",
            "Battle of the Ruhr",
            "Battle of Attu",
            "Monte la Difensa",
            "Battle of Anzio",
            "Operation Tonga",
            "Falaise Pocket",
            "Battle of Pierres Noires",
            "Operation Diadem",
            "Battle of the Bulge",
            "Normandy landings",
            "Battle of Chambois",
            "Battle of Port Cros",
            "Battle of Monte Cassino",
            "Battle of Rimini",
            "Battle for Caen",
            "Invasion of Normandy",
            "battle of Moerbrugge",
            "Battle of Verrières Ridge",
            "Battle of Walcheren Causeway",
            "Battle of Le Mesnil-Patry",
            "Action of 26 April 1944"
           ],
           "ids": [
            "Fenian raids",
            "North-West Rebellion",
            "North-West Rebellion",
            "North-West Rebellion",
            "North-West Rebellion",
            "North-West Rebellion",
            "North-West Rebellion",
            "North-West Rebellion",
            "Second Boer War",
            "Second Boer War",
            "Second Boer War",
            "Second Boer War",
            "Second Boer War",
            "Second Boer War",
            "World War I",
            "World War I",
            "Western Front of World War I",
            "Western Front of World War I",
            "Western Front of World War I",
            "Western Front of World War I",
            "Western Front of World War I",
            "Western Front of World War I",
            "Battle of the Somme",
            "Battle of the Somme",
            "Battle of the Somme",
            "Battle of the Somme",
            "Western Front of World War I",
            "Battle of the Somme",
            "Western Front of World War I",
            "Battle of the Somme",
            "Western Front of World War I",
            "Middle Eastern theatre of World War I",
            "Western Front of World War I",
            "World War I",
            "Middle Eastern theatre of World War I",
            "Western Front of World War I",
            "Battle of Passchendaele",
            "World War I",
            "Spring Offensive",
            "Hundred Days Offensive",
            "World War I",
            "Western Front of World War I",
            "Western Front of World War I",
            "Russian Civil War",
            "Western Front of World War I",
            "Spring Offensive",
            "World War I",
            "World War I",
            "Western Front of World War I",
            "North Russia Intervention",
            "World War II",
            "World War II",
            "Pacific War",
            "North West Europe Campaign",
            null,
            "World War II",
            "World War II",
            "Moro River Campaign",
            "Italian campaign",
            "strategic bombing during World War II",
            null,
            "Italian campaign",
            "Italian campaign",
            "Normandy landings",
            "Operation Overlord",
            "World War II",
            "Battle of Monte Cassino",
            null,
            "Invasion of Normandy",
            "World War II",
            "Mediterranean and Middle East theatre of World War II",
            null,
            "Italian campaign",
            "Operation Overlord",
            "Operation Overlord",
            null,
            "World War II",
            "Battle of the Scheldt",
            "World War II",
            "World War II"
           ],
           "lat": [
            45.087337493896484,
            52.60194396972656,
            53.62722396850586,
            52.81650924682617,
            53.65018,
            52.75600814819336,
            52.74530792236328,
            54.04055404663086,
            -25.783333333333,
            -29.913196563720703,
            -28.9825,
            -25.96666667,
            -25.649444,
            -28.9825,
            50.5294,
            50.54388889,
            50.89,
            50.899444444444,
            50.5,
            50.821388888889,
            50.585,
            50.054527777778,
            49.9067,
            50.051111,
            50.0316,
            50.057388888889,
            50.8464,
            50.0717,
            50.0155,
            50.05888889,
            50.900277777778,
            31.4893,
            50.289722222222,
            50.45555556,
            31.4893,
            50.7625,
            50.90027778,
            50.379,
            50.70555556,
            50.283333,
            49.7831,
            49.893913888889,
            49.968971252441406,
            62.594388,
            50.9003,
            49.85,
            50.391944444444,
            50.1767,
            50.270556,
            62.1,
            51.0343,
            15,
            22.2819,
            49.933333333333,
            47.625511169433594,
            48.90331268310547,
            40.679,
            42.35,
            41.40591812133789,
            51.5,
            52.879075,
            41.3833,
            41.443022,
            49.18100357055664,
            48.892777777778,
            48.21166667,
            41.96673583984375,
            50.6243,
            49.333333333333,
            48.8058,
            43.005,
            41.49,
            43.94709777832031,
            49.186111111111,
            49.333333333333,
            51.162322998046875,
            49.11038,
            51.5031,
            49.19583333,
            48.89720916748047
           ],
           "legendgroup": "",
           "lon": [
            -74.1738510131836,
            -105.9472198486328,
            -109.5758361816406,
            -106.2327270507812,
            -109.75154,
            -106.11793518066406,
            -109.0277633666992,
            -109.0008316040039,
            28.466666666667,
            23.604339599609375,
            25.09305556,
            30.05,
            26.706667,
            25.093055555556,
            2.75861,
            2.73611111,
            2.922,
            2.9405555555556,
            2.75,
            2.9316666666667,
            2.7775,
            2.6883888888889,
            2.47583,
            2.712778,
            2.8424,
            2.8877222222222,
            2.94361,
            2.78139,
            2.69742,
            2.74777778,
            3.0211111111111,
            34.4737,
            2.7808333333333,
            2.81902778,
            34.4737,
            2.8952777777778,
            3.02111111,
            2.774,
            2.9,
            3.116667,
            2.5,
            2.29425,
            2.37385892868042,
            43.507833,
            3.02111,
            3.28333,
            2.9275,
            3.23556,
            2.894167,
            42.91666667,
            2.3768194444444,
            -75,
            114.162,
            1.0833333333333,
            -52.96726608276367,
            -61.373878479003906,
            14.7566,
            14.4,
            13.985516548156738,
            7.5,
            173.15688889,
            13.93326944,
            12.624979,
            -0.369891494512558,
            -0.19194444444444,
            -4.91472222,
            13.370064735412598,
            6.13724,
            -0.56694444444444,
            0.106111,
            6.398611,
            13.813888888889,
            12.630768775939941,
            -0.3625,
            -0.56666666666667,
            3.2631185054779053,
            -0.33236,
            3.705,
            -0.54361111,
            -3.4731099605560303
           ],
           "marker": {
            "color": "#636efa",
            "symbol": "circle"
           },
           "mode": "markers",
           "name": "",
           "showlegend": false,
           "type": "scattergeo"
          }
         ],
         "name": "1944"
        },
        {
         "data": [
          {
           "geo": "geo",
           "hovertemplate": "<b>%{hovertext}</b><br><br>year=1945<br>lat=%{lat}<br>lng=%{lon}<extra></extra>",
           "hovertext": [
            "Battle of Trout River",
            "Battle of Fish Creek",
            "Battle of Frenchman's Butte",
            "Battle of Duck Lake",
            "Battle of Fort Pitt",
            "Battle of Batoche",
            "Battle of Cut Knife",
            "Battle of Loon Lake",
            "Battle of Diamond Hill",
            "Battle of Witpoort",
            "Battle of Paardeberg",
            "Battle of Leliefontein",
            "Battle of Elands River",
            "Bloody Sunday",
            "Battle of Givenchy",
            "Battle of Festubert",
            "Battle of Kitcheners' Wood",
            "Second Battle of Ypres",
            "Second Battle of Artois",
            "Battle of Hill 60",
            "Battle of Neuve Chapelle",
            "Battle of Thiepval Ridge",
            "Battle of the Ancre Heights",
            "Battle of Mouquet Farm",
            "Battle of Morval",
            "Battle of Le Transloy",
            "Battle of Mont Sorrel",
            "Regina Trench",
            "Battle of the Somme",
            "Battle of Flers–Courcelette",
            "Battle of Passchendaele",
            "First Battle of Gaza",
            "Battle of Arras",
            "Battle of Hill 70",
            "Second Battle of Gaza",
            "Battle of Messines",
            "Second Battle of Passchendaele",
            "Battle of Vimy Ridge",
            "Battle of the Lys",
            "Battle of the Canal du Nord",
            "Battle of Moreuil Wood",
            "Battle of Amiens",
            "Second Battle of the Somme",
            "Battle of Tulgas",
            "Fifth Battle of Ypres",
            "Operation Michael",
            "Battle of Drocourt-Quéant Line",
            "Battle of Cambrai",
            "Battle of the Scarpe",
            "Battle of Shenkursk",
            "Battle of Dunkirk",
            "Battle of the Caribbean",
            "Battle of Hong Kong",
            "Dieppe Raid",
            "Battle of the Bell Islands",
            "Battle of the St. Lawrence",
            "Allied invasion of Italy",
            "Battle of Ortona",
            "Bernhardt Line",
            "Battle of the Ruhr",
            "Battle of Attu",
            "Monte la Difensa",
            "Battle of Anzio",
            "Operation Tonga",
            "Falaise Pocket",
            "Battle of Pierres Noires",
            "Operation Diadem",
            "Battle of the Bulge",
            "Normandy landings",
            "Battle of Chambois",
            "Battle of Port Cros",
            "Battle of Monte Cassino",
            "Battle of Rimini",
            "Battle for Caen",
            "Invasion of Normandy",
            "battle of Moerbrugge",
            "Battle of Verrières Ridge",
            "Battle of Walcheren Causeway",
            "Battle of Le Mesnil-Patry",
            "Action of 26 April 1944",
            "Battle of Groningen",
            "Black Friday",
            "Operation Teardrop",
            "Battle of Okinawa",
            "Liberation of Arnhem",
            "Battle for the Kapelsche Veer"
           ],
           "ids": [
            "Fenian raids",
            "North-West Rebellion",
            "North-West Rebellion",
            "North-West Rebellion",
            "North-West Rebellion",
            "North-West Rebellion",
            "North-West Rebellion",
            "North-West Rebellion",
            "Second Boer War",
            "Second Boer War",
            "Second Boer War",
            "Second Boer War",
            "Second Boer War",
            "Second Boer War",
            "World War I",
            "World War I",
            "Western Front of World War I",
            "Western Front of World War I",
            "Western Front of World War I",
            "Western Front of World War I",
            "Western Front of World War I",
            "Western Front of World War I",
            "Battle of the Somme",
            "Battle of the Somme",
            "Battle of the Somme",
            "Battle of the Somme",
            "Western Front of World War I",
            "Battle of the Somme",
            "Western Front of World War I",
            "Battle of the Somme",
            "Western Front of World War I",
            "Middle Eastern theatre of World War I",
            "Western Front of World War I",
            "World War I",
            "Middle Eastern theatre of World War I",
            "Western Front of World War I",
            "Battle of Passchendaele",
            "World War I",
            "Spring Offensive",
            "Hundred Days Offensive",
            "World War I",
            "Western Front of World War I",
            "Western Front of World War I",
            "Russian Civil War",
            "Western Front of World War I",
            "Spring Offensive",
            "World War I",
            "World War I",
            "Western Front of World War I",
            "North Russia Intervention",
            "World War II",
            "World War II",
            "Pacific War",
            "North West Europe Campaign",
            null,
            "World War II",
            "World War II",
            "Moro River Campaign",
            "Italian campaign",
            "strategic bombing during World War II",
            null,
            "Italian campaign",
            "Italian campaign",
            "Normandy landings",
            "Operation Overlord",
            "World War II",
            "Battle of Monte Cassino",
            null,
            "Invasion of Normandy",
            "World War II",
            "Mediterranean and Middle East theatre of World War II",
            null,
            "Italian campaign",
            "Operation Overlord",
            "Operation Overlord",
            null,
            "World War II",
            "Battle of the Scheldt",
            "World War II",
            "World War II",
            "World War II",
            "World War II",
            "World War II",
            "Pacific War",
            null,
            null
           ],
           "lat": [
            45.087337493896484,
            52.60194396972656,
            53.62722396850586,
            52.81650924682617,
            53.65018,
            52.75600814819336,
            52.74530792236328,
            54.04055404663086,
            -25.783333333333,
            -29.913196563720703,
            -28.9825,
            -25.96666667,
            -25.649444,
            -28.9825,
            50.5294,
            50.54388889,
            50.89,
            50.899444444444,
            50.5,
            50.821388888889,
            50.585,
            50.054527777778,
            49.9067,
            50.051111,
            50.0316,
            50.057388888889,
            50.8464,
            50.0717,
            50.0155,
            50.05888889,
            50.900277777778,
            31.4893,
            50.289722222222,
            50.45555556,
            31.4893,
            50.7625,
            50.90027778,
            50.379,
            50.70555556,
            50.283333,
            49.7831,
            49.893913888889,
            49.968971252441406,
            62.594388,
            50.9003,
            49.85,
            50.391944444444,
            50.1767,
            50.270556,
            62.1,
            51.0343,
            15,
            22.2819,
            49.933333333333,
            47.625511169433594,
            48.90331268310547,
            40.679,
            42.35,
            41.40591812133789,
            51.5,
            52.879075,
            41.3833,
            41.443022,
            49.18100357055664,
            48.892777777778,
            48.21166667,
            41.96673583984375,
            50.6243,
            49.333333333333,
            48.8058,
            43.005,
            41.49,
            43.94709777832031,
            49.186111111111,
            49.333333333333,
            51.162322998046875,
            49.11038,
            51.5031,
            49.19583333,
            48.89720916748047,
            53.2186,
            61.46666667,
            40,
            26.5,
            51.9833,
            51.708
           ],
           "legendgroup": "",
           "lon": [
            -74.1738510131836,
            -105.9472198486328,
            -109.5758361816406,
            -106.2327270507812,
            -109.75154,
            -106.11793518066406,
            -109.0277633666992,
            -109.0008316040039,
            28.466666666667,
            23.604339599609375,
            25.09305556,
            30.05,
            26.706667,
            25.093055555556,
            2.75861,
            2.73611111,
            2.922,
            2.9405555555556,
            2.75,
            2.9316666666667,
            2.7775,
            2.6883888888889,
            2.47583,
            2.712778,
            2.8424,
            2.8877222222222,
            2.94361,
            2.78139,
            2.69742,
            2.74777778,
            3.0211111111111,
            34.4737,
            2.7808333333333,
            2.81902778,
            34.4737,
            2.8952777777778,
            3.02111111,
            2.774,
            2.9,
            3.116667,
            2.5,
            2.29425,
            2.37385892868042,
            43.507833,
            3.02111,
            3.28333,
            2.9275,
            3.23556,
            2.894167,
            42.91666667,
            2.3768194444444,
            -75,
            114.162,
            1.0833333333333,
            -52.96726608276367,
            -61.373878479003906,
            14.7566,
            14.4,
            13.985516548156738,
            7.5,
            173.15688889,
            13.93326944,
            12.624979,
            -0.369891494512558,
            -0.19194444444444,
            -4.91472222,
            13.370064735412598,
            6.13724,
            -0.56694444444444,
            0.106111,
            6.398611,
            13.813888888889,
            12.630768775939941,
            -0.3625,
            -0.56666666666667,
            3.2631185054779053,
            -0.33236,
            3.705,
            -0.54361111,
            -3.4731099605560303,
            6.56722,
            5.65,
            -40,
            128,
            5.91667,
            4.929
           ],
           "marker": {
            "color": "#636efa",
            "symbol": "circle"
           },
           "mode": "markers",
           "name": "",
           "showlegend": false,
           "type": "scattergeo"
          }
         ],
         "name": "1945"
        },
        {
         "data": [
          {
           "geo": "geo",
           "hovertemplate": "<b>%{hovertext}</b><br><br>year=1950<br>lat=%{lat}<br>lng=%{lon}<extra></extra>",
           "hovertext": [
            "Battle of Trout River",
            "Battle of Fish Creek",
            "Battle of Frenchman's Butte",
            "Battle of Duck Lake",
            "Battle of Fort Pitt",
            "Battle of Batoche",
            "Battle of Cut Knife",
            "Battle of Loon Lake",
            "Battle of Diamond Hill",
            "Battle of Witpoort",
            "Battle of Paardeberg",
            "Battle of Leliefontein",
            "Battle of Elands River",
            "Bloody Sunday",
            "Battle of Givenchy",
            "Battle of Festubert",
            "Battle of Kitcheners' Wood",
            "Second Battle of Ypres",
            "Second Battle of Artois",
            "Battle of Hill 60",
            "Battle of Neuve Chapelle",
            "Battle of Thiepval Ridge",
            "Battle of the Ancre Heights",
            "Battle of Mouquet Farm",
            "Battle of Morval",
            "Battle of Le Transloy",
            "Battle of Mont Sorrel",
            "Regina Trench",
            "Battle of the Somme",
            "Battle of Flers–Courcelette",
            "Battle of Passchendaele",
            "First Battle of Gaza",
            "Battle of Arras",
            "Battle of Hill 70",
            "Second Battle of Gaza",
            "Battle of Messines",
            "Second Battle of Passchendaele",
            "Battle of Vimy Ridge",
            "Battle of the Lys",
            "Battle of the Canal du Nord",
            "Battle of Moreuil Wood",
            "Battle of Amiens",
            "Second Battle of the Somme",
            "Battle of Tulgas",
            "Fifth Battle of Ypres",
            "Operation Michael",
            "Battle of Drocourt-Quéant Line",
            "Battle of Cambrai",
            "Battle of the Scarpe",
            "Battle of Shenkursk",
            "Battle of Dunkirk",
            "Battle of the Caribbean",
            "Battle of Hong Kong",
            "Dieppe Raid",
            "Battle of the Bell Islands",
            "Battle of the St. Lawrence",
            "Allied invasion of Italy",
            "Battle of Ortona",
            "Bernhardt Line",
            "Battle of the Ruhr",
            "Battle of Attu",
            "Monte la Difensa",
            "Battle of Anzio",
            "Operation Tonga",
            "Falaise Pocket",
            "Battle of Pierres Noires",
            "Operation Diadem",
            "Battle of the Bulge",
            "Normandy landings",
            "Battle of Chambois",
            "Battle of Port Cros",
            "Battle of Monte Cassino",
            "Battle of Rimini",
            "Battle for Caen",
            "Invasion of Normandy",
            "battle of Moerbrugge",
            "Battle of Verrières Ridge",
            "Battle of Walcheren Causeway",
            "Battle of Le Mesnil-Patry",
            "Action of 26 April 1944",
            "Battle of Groningen",
            "Black Friday",
            "Operation Teardrop",
            "Battle of Okinawa",
            "Liberation of Arnhem",
            "Battle for the Kapelsche Veer",
            "Second Battle of Seoul",
            "Battle of Inchon"
           ],
           "ids": [
            "Fenian raids",
            "North-West Rebellion",
            "North-West Rebellion",
            "North-West Rebellion",
            "North-West Rebellion",
            "North-West Rebellion",
            "North-West Rebellion",
            "North-West Rebellion",
            "Second Boer War",
            "Second Boer War",
            "Second Boer War",
            "Second Boer War",
            "Second Boer War",
            "Second Boer War",
            "World War I",
            "World War I",
            "Western Front of World War I",
            "Western Front of World War I",
            "Western Front of World War I",
            "Western Front of World War I",
            "Western Front of World War I",
            "Western Front of World War I",
            "Battle of the Somme",
            "Battle of the Somme",
            "Battle of the Somme",
            "Battle of the Somme",
            "Western Front of World War I",
            "Battle of the Somme",
            "Western Front of World War I",
            "Battle of the Somme",
            "Western Front of World War I",
            "Middle Eastern theatre of World War I",
            "Western Front of World War I",
            "World War I",
            "Middle Eastern theatre of World War I",
            "Western Front of World War I",
            "Battle of Passchendaele",
            "World War I",
            "Spring Offensive",
            "Hundred Days Offensive",
            "World War I",
            "Western Front of World War I",
            "Western Front of World War I",
            "Russian Civil War",
            "Western Front of World War I",
            "Spring Offensive",
            "World War I",
            "World War I",
            "Western Front of World War I",
            "North Russia Intervention",
            "World War II",
            "World War II",
            "Pacific War",
            "North West Europe Campaign",
            null,
            "World War II",
            "World War II",
            "Moro River Campaign",
            "Italian campaign",
            "strategic bombing during World War II",
            null,
            "Italian campaign",
            "Italian campaign",
            "Normandy landings",
            "Operation Overlord",
            "World War II",
            "Battle of Monte Cassino",
            null,
            "Invasion of Normandy",
            "World War II",
            "Mediterranean and Middle East theatre of World War II",
            null,
            "Italian campaign",
            "Operation Overlord",
            "Operation Overlord",
            null,
            "World War II",
            "Battle of the Scheldt",
            "World War II",
            "World War II",
            "World War II",
            "World War II",
            "World War II",
            "Pacific War",
            null,
            null,
            "Korean War",
            "Korean War"
           ],
           "lat": [
            45.087337493896484,
            52.60194396972656,
            53.62722396850586,
            52.81650924682617,
            53.65018,
            52.75600814819336,
            52.74530792236328,
            54.04055404663086,
            -25.783333333333,
            -29.913196563720703,
            -28.9825,
            -25.96666667,
            -25.649444,
            -28.9825,
            50.5294,
            50.54388889,
            50.89,
            50.899444444444,
            50.5,
            50.821388888889,
            50.585,
            50.054527777778,
            49.9067,
            50.051111,
            50.0316,
            50.057388888889,
            50.8464,
            50.0717,
            50.0155,
            50.05888889,
            50.900277777778,
            31.4893,
            50.289722222222,
            50.45555556,
            31.4893,
            50.7625,
            50.90027778,
            50.379,
            50.70555556,
            50.283333,
            49.7831,
            49.893913888889,
            49.968971252441406,
            62.594388,
            50.9003,
            49.85,
            50.391944444444,
            50.1767,
            50.270556,
            62.1,
            51.0343,
            15,
            22.2819,
            49.933333333333,
            47.625511169433594,
            48.90331268310547,
            40.679,
            42.35,
            41.40591812133789,
            51.5,
            52.879075,
            41.3833,
            41.443022,
            49.18100357055664,
            48.892777777778,
            48.21166667,
            41.96673583984375,
            50.6243,
            49.333333333333,
            48.8058,
            43.005,
            41.49,
            43.94709777832031,
            49.186111111111,
            49.333333333333,
            51.162322998046875,
            49.11038,
            51.5031,
            49.19583333,
            48.89720916748047,
            53.2186,
            61.46666667,
            40,
            26.5,
            51.9833,
            51.708,
            37.566680908203125,
            37.48333333
           ],
           "legendgroup": "",
           "lon": [
            -74.1738510131836,
            -105.9472198486328,
            -109.5758361816406,
            -106.2327270507812,
            -109.75154,
            -106.11793518066406,
            -109.0277633666992,
            -109.0008316040039,
            28.466666666667,
            23.604339599609375,
            25.09305556,
            30.05,
            26.706667,
            25.093055555556,
            2.75861,
            2.73611111,
            2.922,
            2.9405555555556,
            2.75,
            2.9316666666667,
            2.7775,
            2.6883888888889,
            2.47583,
            2.712778,
            2.8424,
            2.8877222222222,
            2.94361,
            2.78139,
            2.69742,
            2.74777778,
            3.0211111111111,
            34.4737,
            2.7808333333333,
            2.81902778,
            34.4737,
            2.8952777777778,
            3.02111111,
            2.774,
            2.9,
            3.116667,
            2.5,
            2.29425,
            2.37385892868042,
            43.507833,
            3.02111,
            3.28333,
            2.9275,
            3.23556,
            2.894167,
            42.91666667,
            2.3768194444444,
            -75,
            114.162,
            1.0833333333333,
            -52.96726608276367,
            -61.373878479003906,
            14.7566,
            14.4,
            13.985516548156738,
            7.5,
            173.15688889,
            13.93326944,
            12.624979,
            -0.369891494512558,
            -0.19194444444444,
            -4.91472222,
            13.370064735412598,
            6.13724,
            -0.56694444444444,
            0.106111,
            6.398611,
            13.813888888889,
            12.630768775939941,
            -0.3625,
            -0.56666666666667,
            3.2631185054779053,
            -0.33236,
            3.705,
            -0.54361111,
            -3.4731099605560303,
            6.56722,
            5.65,
            -40,
            128,
            5.91667,
            4.929,
            126.9782943725586,
            126.63333333
           ],
           "marker": {
            "color": "#636efa",
            "symbol": "circle"
           },
           "mode": "markers",
           "name": "",
           "showlegend": false,
           "type": "scattergeo"
          }
         ],
         "name": "1950"
        },
        {
         "data": [
          {
           "geo": "geo",
           "hovertemplate": "<b>%{hovertext}</b><br><br>year=1951<br>lat=%{lat}<br>lng=%{lon}<extra></extra>",
           "hovertext": [
            "Battle of Trout River",
            "Battle of Fish Creek",
            "Battle of Frenchman's Butte",
            "Battle of Duck Lake",
            "Battle of Fort Pitt",
            "Battle of Batoche",
            "Battle of Cut Knife",
            "Battle of Loon Lake",
            "Battle of Diamond Hill",
            "Battle of Witpoort",
            "Battle of Paardeberg",
            "Battle of Leliefontein",
            "Battle of Elands River",
            "Bloody Sunday",
            "Battle of Givenchy",
            "Battle of Festubert",
            "Battle of Kitcheners' Wood",
            "Second Battle of Ypres",
            "Second Battle of Artois",
            "Battle of Hill 60",
            "Battle of Neuve Chapelle",
            "Battle of Thiepval Ridge",
            "Battle of the Ancre Heights",
            "Battle of Mouquet Farm",
            "Battle of Morval",
            "Battle of Le Transloy",
            "Battle of Mont Sorrel",
            "Regina Trench",
            "Battle of the Somme",
            "Battle of Flers–Courcelette",
            "Battle of Passchendaele",
            "First Battle of Gaza",
            "Battle of Arras",
            "Battle of Hill 70",
            "Second Battle of Gaza",
            "Battle of Messines",
            "Second Battle of Passchendaele",
            "Battle of Vimy Ridge",
            "Battle of the Lys",
            "Battle of the Canal du Nord",
            "Battle of Moreuil Wood",
            "Battle of Amiens",
            "Second Battle of the Somme",
            "Battle of Tulgas",
            "Fifth Battle of Ypres",
            "Operation Michael",
            "Battle of Drocourt-Quéant Line",
            "Battle of Cambrai",
            "Battle of the Scarpe",
            "Battle of Shenkursk",
            "Battle of Dunkirk",
            "Battle of the Caribbean",
            "Battle of Hong Kong",
            "Dieppe Raid",
            "Battle of the Bell Islands",
            "Battle of the St. Lawrence",
            "Allied invasion of Italy",
            "Battle of Ortona",
            "Bernhardt Line",
            "Battle of the Ruhr",
            "Battle of Attu",
            "Monte la Difensa",
            "Battle of Anzio",
            "Operation Tonga",
            "Falaise Pocket",
            "Battle of Pierres Noires",
            "Operation Diadem",
            "Battle of the Bulge",
            "Normandy landings",
            "Battle of Chambois",
            "Battle of Port Cros",
            "Battle of Monte Cassino",
            "Battle of Rimini",
            "Battle for Caen",
            "Invasion of Normandy",
            "battle of Moerbrugge",
            "Battle of Verrières Ridge",
            "Battle of Walcheren Causeway",
            "Battle of Le Mesnil-Patry",
            "Action of 26 April 1944",
            "Battle of Groningen",
            "Black Friday",
            "Operation Teardrop",
            "Battle of Okinawa",
            "Liberation of Arnhem",
            "Battle for the Kapelsche Veer",
            "Second Battle of Seoul",
            "Battle of Inchon",
            "Battle of Kapyong",
            "Battle of Maehwa-san",
            "First Battle of Maryang-san",
            "Battle of Chuam-ni"
           ],
           "ids": [
            "Fenian raids",
            "North-West Rebellion",
            "North-West Rebellion",
            "North-West Rebellion",
            "North-West Rebellion",
            "North-West Rebellion",
            "North-West Rebellion",
            "North-West Rebellion",
            "Second Boer War",
            "Second Boer War",
            "Second Boer War",
            "Second Boer War",
            "Second Boer War",
            "Second Boer War",
            "World War I",
            "World War I",
            "Western Front of World War I",
            "Western Front of World War I",
            "Western Front of World War I",
            "Western Front of World War I",
            "Western Front of World War I",
            "Western Front of World War I",
            "Battle of the Somme",
            "Battle of the Somme",
            "Battle of the Somme",
            "Battle of the Somme",
            "Western Front of World War I",
            "Battle of the Somme",
            "Western Front of World War I",
            "Battle of the Somme",
            "Western Front of World War I",
            "Middle Eastern theatre of World War I",
            "Western Front of World War I",
            "World War I",
            "Middle Eastern theatre of World War I",
            "Western Front of World War I",
            "Battle of Passchendaele",
            "World War I",
            "Spring Offensive",
            "Hundred Days Offensive",
            "World War I",
            "Western Front of World War I",
            "Western Front of World War I",
            "Russian Civil War",
            "Western Front of World War I",
            "Spring Offensive",
            "World War I",
            "World War I",
            "Western Front of World War I",
            "North Russia Intervention",
            "World War II",
            "World War II",
            "Pacific War",
            "North West Europe Campaign",
            null,
            "World War II",
            "World War II",
            "Moro River Campaign",
            "Italian campaign",
            "strategic bombing during World War II",
            null,
            "Italian campaign",
            "Italian campaign",
            "Normandy landings",
            "Operation Overlord",
            "World War II",
            "Battle of Monte Cassino",
            null,
            "Invasion of Normandy",
            "World War II",
            "Mediterranean and Middle East theatre of World War II",
            null,
            "Italian campaign",
            "Operation Overlord",
            "Operation Overlord",
            null,
            "World War II",
            "Battle of the Scheldt",
            "World War II",
            "World War II",
            "World War II",
            "World War II",
            "World War II",
            "Pacific War",
            null,
            null,
            "Korean War",
            "Korean War",
            "Korean War",
            "Korean War",
            "Korean War",
            "Korean War"
           ],
           "lat": [
            45.087337493896484,
            52.60194396972656,
            53.62722396850586,
            52.81650924682617,
            53.65018,
            52.75600814819336,
            52.74530792236328,
            54.04055404663086,
            -25.783333333333,
            -29.913196563720703,
            -28.9825,
            -25.96666667,
            -25.649444,
            -28.9825,
            50.5294,
            50.54388889,
            50.89,
            50.899444444444,
            50.5,
            50.821388888889,
            50.585,
            50.054527777778,
            49.9067,
            50.051111,
            50.0316,
            50.057388888889,
            50.8464,
            50.0717,
            50.0155,
            50.05888889,
            50.900277777778,
            31.4893,
            50.289722222222,
            50.45555556,
            31.4893,
            50.7625,
            50.90027778,
            50.379,
            50.70555556,
            50.283333,
            49.7831,
            49.893913888889,
            49.968971252441406,
            62.594388,
            50.9003,
            49.85,
            50.391944444444,
            50.1767,
            50.270556,
            62.1,
            51.0343,
            15,
            22.2819,
            49.933333333333,
            47.625511169433594,
            48.90331268310547,
            40.679,
            42.35,
            41.40591812133789,
            51.5,
            52.879075,
            41.3833,
            41.443022,
            49.18100357055664,
            48.892777777778,
            48.21166667,
            41.96673583984375,
            50.6243,
            49.333333333333,
            48.8058,
            43.005,
            41.49,
            43.94709777832031,
            49.186111111111,
            49.333333333333,
            51.162322998046875,
            49.11038,
            51.5031,
            49.19583333,
            48.89720916748047,
            53.2186,
            61.46666667,
            40,
            26.5,
            51.9833,
            51.708,
            37.566680908203125,
            37.48333333,
            37.883333333333,
            37.016667,
            38.135,
            36.293739318847656
           ],
           "legendgroup": "",
           "lon": [
            -74.1738510131836,
            -105.9472198486328,
            -109.5758361816406,
            -106.2327270507812,
            -109.75154,
            -106.11793518066406,
            -109.0277633666992,
            -109.0008316040039,
            28.466666666667,
            23.604339599609375,
            25.09305556,
            30.05,
            26.706667,
            25.093055555556,
            2.75861,
            2.73611111,
            2.922,
            2.9405555555556,
            2.75,
            2.9316666666667,
            2.7775,
            2.6883888888889,
            2.47583,
            2.712778,
            2.8424,
            2.8877222222222,
            2.94361,
            2.78139,
            2.69742,
            2.74777778,
            3.0211111111111,
            34.4737,
            2.7808333333333,
            2.81902778,
            34.4737,
            2.8952777777778,
            3.02111111,
            2.774,
            2.9,
            3.116667,
            2.5,
            2.29425,
            2.37385892868042,
            43.507833,
            3.02111,
            3.28333,
            2.9275,
            3.23556,
            2.894167,
            42.91666667,
            2.3768194444444,
            -75,
            114.162,
            1.0833333333333,
            -52.96726608276367,
            -61.373878479003906,
            14.7566,
            14.4,
            13.985516548156738,
            7.5,
            173.15688889,
            13.93326944,
            12.624979,
            -0.369891494512558,
            -0.19194444444444,
            -4.91472222,
            13.370064735412598,
            6.13724,
            -0.56694444444444,
            0.106111,
            6.398611,
            13.813888888889,
            12.630768775939941,
            -0.3625,
            -0.56666666666667,
            3.2631185054779053,
            -0.33236,
            3.705,
            -0.54361111,
            -3.4731099605560303,
            6.56722,
            5.65,
            -40,
            128,
            5.91667,
            4.929,
            126.9782943725586,
            126.63333333,
            127.53333333333,
            127.45,
            126.92083333333,
            126.77681732177734
           ],
           "marker": {
            "color": "#636efa",
            "symbol": "circle"
           },
           "mode": "markers",
           "name": "",
           "showlegend": false,
           "type": "scattergeo"
          }
         ],
         "name": "1951"
        },
        {
         "data": [
          {
           "geo": "geo",
           "hovertemplate": "<b>%{hovertext}</b><br><br>year=1952<br>lat=%{lat}<br>lng=%{lon}<extra></extra>",
           "hovertext": [
            "Battle of Trout River",
            "Battle of Fish Creek",
            "Battle of Frenchman's Butte",
            "Battle of Duck Lake",
            "Battle of Fort Pitt",
            "Battle of Batoche",
            "Battle of Cut Knife",
            "Battle of Loon Lake",
            "Battle of Diamond Hill",
            "Battle of Witpoort",
            "Battle of Paardeberg",
            "Battle of Leliefontein",
            "Battle of Elands River",
            "Bloody Sunday",
            "Battle of Givenchy",
            "Battle of Festubert",
            "Battle of Kitcheners' Wood",
            "Second Battle of Ypres",
            "Second Battle of Artois",
            "Battle of Hill 60",
            "Battle of Neuve Chapelle",
            "Battle of Thiepval Ridge",
            "Battle of the Ancre Heights",
            "Battle of Mouquet Farm",
            "Battle of Morval",
            "Battle of Le Transloy",
            "Battle of Mont Sorrel",
            "Regina Trench",
            "Battle of the Somme",
            "Battle of Flers–Courcelette",
            "Battle of Passchendaele",
            "First Battle of Gaza",
            "Battle of Arras",
            "Battle of Hill 70",
            "Second Battle of Gaza",
            "Battle of Messines",
            "Second Battle of Passchendaele",
            "Battle of Vimy Ridge",
            "Battle of the Lys",
            "Battle of the Canal du Nord",
            "Battle of Moreuil Wood",
            "Battle of Amiens",
            "Second Battle of the Somme",
            "Battle of Tulgas",
            "Fifth Battle of Ypres",
            "Operation Michael",
            "Battle of Drocourt-Quéant Line",
            "Battle of Cambrai",
            "Battle of the Scarpe",
            "Battle of Shenkursk",
            "Battle of Dunkirk",
            "Battle of the Caribbean",
            "Battle of Hong Kong",
            "Dieppe Raid",
            "Battle of the Bell Islands",
            "Battle of the St. Lawrence",
            "Allied invasion of Italy",
            "Battle of Ortona",
            "Bernhardt Line",
            "Battle of the Ruhr",
            "Battle of Attu",
            "Monte la Difensa",
            "Battle of Anzio",
            "Operation Tonga",
            "Falaise Pocket",
            "Battle of Pierres Noires",
            "Operation Diadem",
            "Battle of the Bulge",
            "Normandy landings",
            "Battle of Chambois",
            "Battle of Port Cros",
            "Battle of Monte Cassino",
            "Battle of Rimini",
            "Battle for Caen",
            "Invasion of Normandy",
            "battle of Moerbrugge",
            "Battle of Verrières Ridge",
            "Battle of Walcheren Causeway",
            "Battle of Le Mesnil-Patry",
            "Action of 26 April 1944",
            "Battle of Groningen",
            "Black Friday",
            "Operation Teardrop",
            "Battle of Okinawa",
            "Liberation of Arnhem",
            "Battle for the Kapelsche Veer",
            "Second Battle of Seoul",
            "Battle of Inchon",
            "Battle of Kapyong",
            "Battle of Maehwa-san",
            "First Battle of Maryang-san",
            "Battle of Chuam-ni",
            "Second Battle of the Hook"
           ],
           "ids": [
            "Fenian raids",
            "North-West Rebellion",
            "North-West Rebellion",
            "North-West Rebellion",
            "North-West Rebellion",
            "North-West Rebellion",
            "North-West Rebellion",
            "North-West Rebellion",
            "Second Boer War",
            "Second Boer War",
            "Second Boer War",
            "Second Boer War",
            "Second Boer War",
            "Second Boer War",
            "World War I",
            "World War I",
            "Western Front of World War I",
            "Western Front of World War I",
            "Western Front of World War I",
            "Western Front of World War I",
            "Western Front of World War I",
            "Western Front of World War I",
            "Battle of the Somme",
            "Battle of the Somme",
            "Battle of the Somme",
            "Battle of the Somme",
            "Western Front of World War I",
            "Battle of the Somme",
            "Western Front of World War I",
            "Battle of the Somme",
            "Western Front of World War I",
            "Middle Eastern theatre of World War I",
            "Western Front of World War I",
            "World War I",
            "Middle Eastern theatre of World War I",
            "Western Front of World War I",
            "Battle of Passchendaele",
            "World War I",
            "Spring Offensive",
            "Hundred Days Offensive",
            "World War I",
            "Western Front of World War I",
            "Western Front of World War I",
            "Russian Civil War",
            "Western Front of World War I",
            "Spring Offensive",
            "World War I",
            "World War I",
            "Western Front of World War I",
            "North Russia Intervention",
            "World War II",
            "World War II",
            "Pacific War",
            "North West Europe Campaign",
            null,
            "World War II",
            "World War II",
            "Moro River Campaign",
            "Italian campaign",
            "strategic bombing during World War II",
            null,
            "Italian campaign",
            "Italian campaign",
            "Normandy landings",
            "Operation Overlord",
            "World War II",
            "Battle of Monte Cassino",
            null,
            "Invasion of Normandy",
            "World War II",
            "Mediterranean and Middle East theatre of World War II",
            null,
            "Italian campaign",
            "Operation Overlord",
            "Operation Overlord",
            null,
            "World War II",
            "Battle of the Scheldt",
            "World War II",
            "World War II",
            "World War II",
            "World War II",
            "World War II",
            "Pacific War",
            null,
            null,
            "Korean War",
            "Korean War",
            "Korean War",
            "Korean War",
            "Korean War",
            "Korean War",
            "Korean War"
           ],
           "lat": [
            45.087337493896484,
            52.60194396972656,
            53.62722396850586,
            52.81650924682617,
            53.65018,
            52.75600814819336,
            52.74530792236328,
            54.04055404663086,
            -25.783333333333,
            -29.913196563720703,
            -28.9825,
            -25.96666667,
            -25.649444,
            -28.9825,
            50.5294,
            50.54388889,
            50.89,
            50.899444444444,
            50.5,
            50.821388888889,
            50.585,
            50.054527777778,
            49.9067,
            50.051111,
            50.0316,
            50.057388888889,
            50.8464,
            50.0717,
            50.0155,
            50.05888889,
            50.900277777778,
            31.4893,
            50.289722222222,
            50.45555556,
            31.4893,
            50.7625,
            50.90027778,
            50.379,
            50.70555556,
            50.283333,
            49.7831,
            49.893913888889,
            49.968971252441406,
            62.594388,
            50.9003,
            49.85,
            50.391944444444,
            50.1767,
            50.270556,
            62.1,
            51.0343,
            15,
            22.2819,
            49.933333333333,
            47.625511169433594,
            48.90331268310547,
            40.679,
            42.35,
            41.40591812133789,
            51.5,
            52.879075,
            41.3833,
            41.443022,
            49.18100357055664,
            48.892777777778,
            48.21166667,
            41.96673583984375,
            50.6243,
            49.333333333333,
            48.8058,
            43.005,
            41.49,
            43.94709777832031,
            49.186111111111,
            49.333333333333,
            51.162322998046875,
            49.11038,
            51.5031,
            49.19583333,
            48.89720916748047,
            53.2186,
            61.46666667,
            40,
            26.5,
            51.9833,
            51.708,
            37.566680908203125,
            37.48333333,
            37.883333333333,
            37.016667,
            38.135,
            36.293739318847656,
            38.029111
           ],
           "legendgroup": "",
           "lon": [
            -74.1738510131836,
            -105.9472198486328,
            -109.5758361816406,
            -106.2327270507812,
            -109.75154,
            -106.11793518066406,
            -109.0277633666992,
            -109.0008316040039,
            28.466666666667,
            23.604339599609375,
            25.09305556,
            30.05,
            26.706667,
            25.093055555556,
            2.75861,
            2.73611111,
            2.922,
            2.9405555555556,
            2.75,
            2.9316666666667,
            2.7775,
            2.6883888888889,
            2.47583,
            2.712778,
            2.8424,
            2.8877222222222,
            2.94361,
            2.78139,
            2.69742,
            2.74777778,
            3.0211111111111,
            34.4737,
            2.7808333333333,
            2.81902778,
            34.4737,
            2.8952777777778,
            3.02111111,
            2.774,
            2.9,
            3.116667,
            2.5,
            2.29425,
            2.37385892868042,
            43.507833,
            3.02111,
            3.28333,
            2.9275,
            3.23556,
            2.894167,
            42.91666667,
            2.3768194444444,
            -75,
            114.162,
            1.0833333333333,
            -52.96726608276367,
            -61.373878479003906,
            14.7566,
            14.4,
            13.985516548156738,
            7.5,
            173.15688889,
            13.93326944,
            12.624979,
            -0.369891494512558,
            -0.19194444444444,
            -4.91472222,
            13.370064735412598,
            6.13724,
            -0.56694444444444,
            0.106111,
            6.398611,
            13.813888888889,
            12.630768775939941,
            -0.3625,
            -0.56666666666667,
            3.2631185054779053,
            -0.33236,
            3.705,
            -0.54361111,
            -3.4731099605560303,
            6.56722,
            5.65,
            -40,
            128,
            5.91667,
            4.929,
            126.9782943725586,
            126.63333333,
            127.53333333333,
            127.45,
            126.92083333333,
            126.77681732177734,
            126.8425
           ],
           "marker": {
            "color": "#636efa",
            "symbol": "circle"
           },
           "mode": "markers",
           "name": "",
           "showlegend": false,
           "type": "scattergeo"
          }
         ],
         "name": "1952"
        },
        {
         "data": [
          {
           "geo": "geo",
           "hovertemplate": "<b>%{hovertext}</b><br><br>year=1991<br>lat=%{lat}<br>lng=%{lon}<extra></extra>",
           "hovertext": [
            "Battle of Trout River",
            "Battle of Fish Creek",
            "Battle of Frenchman's Butte",
            "Battle of Duck Lake",
            "Battle of Fort Pitt",
            "Battle of Batoche",
            "Battle of Cut Knife",
            "Battle of Loon Lake",
            "Battle of Diamond Hill",
            "Battle of Witpoort",
            "Battle of Paardeberg",
            "Battle of Leliefontein",
            "Battle of Elands River",
            "Bloody Sunday",
            "Battle of Givenchy",
            "Battle of Festubert",
            "Battle of Kitcheners' Wood",
            "Second Battle of Ypres",
            "Second Battle of Artois",
            "Battle of Hill 60",
            "Battle of Neuve Chapelle",
            "Battle of Thiepval Ridge",
            "Battle of the Ancre Heights",
            "Battle of Mouquet Farm",
            "Battle of Morval",
            "Battle of Le Transloy",
            "Battle of Mont Sorrel",
            "Regina Trench",
            "Battle of the Somme",
            "Battle of Flers–Courcelette",
            "Battle of Passchendaele",
            "First Battle of Gaza",
            "Battle of Arras",
            "Battle of Hill 70",
            "Second Battle of Gaza",
            "Battle of Messines",
            "Second Battle of Passchendaele",
            "Battle of Vimy Ridge",
            "Battle of the Lys",
            "Battle of the Canal du Nord",
            "Battle of Moreuil Wood",
            "Battle of Amiens",
            "Second Battle of the Somme",
            "Battle of Tulgas",
            "Fifth Battle of Ypres",
            "Operation Michael",
            "Battle of Drocourt-Quéant Line",
            "Battle of Cambrai",
            "Battle of the Scarpe",
            "Battle of Shenkursk",
            "Battle of Dunkirk",
            "Battle of the Caribbean",
            "Battle of Hong Kong",
            "Dieppe Raid",
            "Battle of the Bell Islands",
            "Battle of the St. Lawrence",
            "Allied invasion of Italy",
            "Battle of Ortona",
            "Bernhardt Line",
            "Battle of the Ruhr",
            "Battle of Attu",
            "Monte la Difensa",
            "Battle of Anzio",
            "Operation Tonga",
            "Falaise Pocket",
            "Battle of Pierres Noires",
            "Operation Diadem",
            "Battle of the Bulge",
            "Normandy landings",
            "Battle of Chambois",
            "Battle of Port Cros",
            "Battle of Monte Cassino",
            "Battle of Rimini",
            "Battle for Caen",
            "Invasion of Normandy",
            "battle of Moerbrugge",
            "Battle of Verrières Ridge",
            "Battle of Walcheren Causeway",
            "Battle of Le Mesnil-Patry",
            "Action of 26 April 1944",
            "Battle of Groningen",
            "Black Friday",
            "Operation Teardrop",
            "Battle of Okinawa",
            "Liberation of Arnhem",
            "Battle for the Kapelsche Veer",
            "Second Battle of Seoul",
            "Battle of Inchon",
            "Battle of Kapyong",
            "Battle of Maehwa-san",
            "First Battle of Maryang-san",
            "Battle of Chuam-ni",
            "Second Battle of the Hook",
            "Battle of Bubiyan"
           ],
           "ids": [
            "Fenian raids",
            "North-West Rebellion",
            "North-West Rebellion",
            "North-West Rebellion",
            "North-West Rebellion",
            "North-West Rebellion",
            "North-West Rebellion",
            "North-West Rebellion",
            "Second Boer War",
            "Second Boer War",
            "Second Boer War",
            "Second Boer War",
            "Second Boer War",
            "Second Boer War",
            "World War I",
            "World War I",
            "Western Front of World War I",
            "Western Front of World War I",
            "Western Front of World War I",
            "Western Front of World War I",
            "Western Front of World War I",
            "Western Front of World War I",
            "Battle of the Somme",
            "Battle of the Somme",
            "Battle of the Somme",
            "Battle of the Somme",
            "Western Front of World War I",
            "Battle of the Somme",
            "Western Front of World War I",
            "Battle of the Somme",
            "Western Front of World War I",
            "Middle Eastern theatre of World War I",
            "Western Front of World War I",
            "World War I",
            "Middle Eastern theatre of World War I",
            "Western Front of World War I",
            "Battle of Passchendaele",
            "World War I",
            "Spring Offensive",
            "Hundred Days Offensive",
            "World War I",
            "Western Front of World War I",
            "Western Front of World War I",
            "Russian Civil War",
            "Western Front of World War I",
            "Spring Offensive",
            "World War I",
            "World War I",
            "Western Front of World War I",
            "North Russia Intervention",
            "World War II",
            "World War II",
            "Pacific War",
            "North West Europe Campaign",
            null,
            "World War II",
            "World War II",
            "Moro River Campaign",
            "Italian campaign",
            "strategic bombing during World War II",
            null,
            "Italian campaign",
            "Italian campaign",
            "Normandy landings",
            "Operation Overlord",
            "World War II",
            "Battle of Monte Cassino",
            null,
            "Invasion of Normandy",
            "World War II",
            "Mediterranean and Middle East theatre of World War II",
            null,
            "Italian campaign",
            "Operation Overlord",
            "Operation Overlord",
            null,
            "World War II",
            "Battle of the Scheldt",
            "World War II",
            "World War II",
            "World War II",
            "World War II",
            "World War II",
            "Pacific War",
            null,
            null,
            "Korean War",
            "Korean War",
            "Korean War",
            "Korean War",
            "Korean War",
            "Korean War",
            "Korean War",
            "Gulf War"
           ],
           "lat": [
            45.087337493896484,
            52.60194396972656,
            53.62722396850586,
            52.81650924682617,
            53.65018,
            52.75600814819336,
            52.74530792236328,
            54.04055404663086,
            -25.783333333333,
            -29.913196563720703,
            -28.9825,
            -25.96666667,
            -25.649444,
            -28.9825,
            50.5294,
            50.54388889,
            50.89,
            50.899444444444,
            50.5,
            50.821388888889,
            50.585,
            50.054527777778,
            49.9067,
            50.051111,
            50.0316,
            50.057388888889,
            50.8464,
            50.0717,
            50.0155,
            50.05888889,
            50.900277777778,
            31.4893,
            50.289722222222,
            50.45555556,
            31.4893,
            50.7625,
            50.90027778,
            50.379,
            50.70555556,
            50.283333,
            49.7831,
            49.893913888889,
            49.968971252441406,
            62.594388,
            50.9003,
            49.85,
            50.391944444444,
            50.1767,
            50.270556,
            62.1,
            51.0343,
            15,
            22.2819,
            49.933333333333,
            47.625511169433594,
            48.90331268310547,
            40.679,
            42.35,
            41.40591812133789,
            51.5,
            52.879075,
            41.3833,
            41.443022,
            49.18100357055664,
            48.892777777778,
            48.21166667,
            41.96673583984375,
            50.6243,
            49.333333333333,
            48.8058,
            43.005,
            41.49,
            43.94709777832031,
            49.186111111111,
            49.333333333333,
            51.162322998046875,
            49.11038,
            51.5031,
            49.19583333,
            48.89720916748047,
            53.2186,
            61.46666667,
            40,
            26.5,
            51.9833,
            51.708,
            37.566680908203125,
            37.48333333,
            37.883333333333,
            37.016667,
            38.135,
            36.293739318847656,
            38.029111,
            27.238235473632812
           ],
           "legendgroup": "",
           "lon": [
            -74.1738510131836,
            -105.9472198486328,
            -109.5758361816406,
            -106.2327270507812,
            -109.75154,
            -106.11793518066406,
            -109.0277633666992,
            -109.0008316040039,
            28.466666666667,
            23.604339599609375,
            25.09305556,
            30.05,
            26.706667,
            25.093055555556,
            2.75861,
            2.73611111,
            2.922,
            2.9405555555556,
            2.75,
            2.9316666666667,
            2.7775,
            2.6883888888889,
            2.47583,
            2.712778,
            2.8424,
            2.8877222222222,
            2.94361,
            2.78139,
            2.69742,
            2.74777778,
            3.0211111111111,
            34.4737,
            2.7808333333333,
            2.81902778,
            34.4737,
            2.8952777777778,
            3.02111111,
            2.774,
            2.9,
            3.116667,
            2.5,
            2.29425,
            2.37385892868042,
            43.507833,
            3.02111,
            3.28333,
            2.9275,
            3.23556,
            2.894167,
            42.91666667,
            2.3768194444444,
            -75,
            114.162,
            1.0833333333333,
            -52.96726608276367,
            -61.373878479003906,
            14.7566,
            14.4,
            13.985516548156738,
            7.5,
            173.15688889,
            13.93326944,
            12.624979,
            -0.369891494512558,
            -0.19194444444444,
            -4.91472222,
            13.370064735412598,
            6.13724,
            -0.56694444444444,
            0.106111,
            6.398611,
            13.813888888889,
            12.630768775939941,
            -0.3625,
            -0.56666666666667,
            3.2631185054779053,
            -0.33236,
            3.705,
            -0.54361111,
            -3.4731099605560303,
            6.56722,
            5.65,
            -40,
            128,
            5.91667,
            4.929,
            126.9782943725586,
            126.63333333,
            127.53333333333,
            127.45,
            126.92083333333,
            126.77681732177734,
            126.8425,
            51.197181701660156
           ],
           "marker": {
            "color": "#636efa",
            "symbol": "circle"
           },
           "mode": "markers",
           "name": "",
           "showlegend": false,
           "type": "scattergeo"
          }
         ],
         "name": "1991"
        },
        {
         "data": [
          {
           "geo": "geo",
           "hovertemplate": "<b>%{hovertext}</b><br><br>year=2002<br>lat=%{lat}<br>lng=%{lon}<extra></extra>",
           "hovertext": [
            "Battle of Trout River",
            "Battle of Fish Creek",
            "Battle of Frenchman's Butte",
            "Battle of Duck Lake",
            "Battle of Fort Pitt",
            "Battle of Batoche",
            "Battle of Cut Knife",
            "Battle of Loon Lake",
            "Battle of Diamond Hill",
            "Battle of Witpoort",
            "Battle of Paardeberg",
            "Battle of Leliefontein",
            "Battle of Elands River",
            "Bloody Sunday",
            "Battle of Givenchy",
            "Battle of Festubert",
            "Battle of Kitcheners' Wood",
            "Second Battle of Ypres",
            "Second Battle of Artois",
            "Battle of Hill 60",
            "Battle of Neuve Chapelle",
            "Battle of Thiepval Ridge",
            "Battle of the Ancre Heights",
            "Battle of Mouquet Farm",
            "Battle of Morval",
            "Battle of Le Transloy",
            "Battle of Mont Sorrel",
            "Regina Trench",
            "Battle of the Somme",
            "Battle of Flers–Courcelette",
            "Battle of Passchendaele",
            "First Battle of Gaza",
            "Battle of Arras",
            "Battle of Hill 70",
            "Second Battle of Gaza",
            "Battle of Messines",
            "Second Battle of Passchendaele",
            "Battle of Vimy Ridge",
            "Battle of the Lys",
            "Battle of the Canal du Nord",
            "Battle of Moreuil Wood",
            "Battle of Amiens",
            "Second Battle of the Somme",
            "Battle of Tulgas",
            "Fifth Battle of Ypres",
            "Operation Michael",
            "Battle of Drocourt-Quéant Line",
            "Battle of Cambrai",
            "Battle of the Scarpe",
            "Battle of Shenkursk",
            "Battle of Dunkirk",
            "Battle of the Caribbean",
            "Battle of Hong Kong",
            "Dieppe Raid",
            "Battle of the Bell Islands",
            "Battle of the St. Lawrence",
            "Allied invasion of Italy",
            "Battle of Ortona",
            "Bernhardt Line",
            "Battle of the Ruhr",
            "Battle of Attu",
            "Monte la Difensa",
            "Battle of Anzio",
            "Operation Tonga",
            "Falaise Pocket",
            "Battle of Pierres Noires",
            "Operation Diadem",
            "Battle of the Bulge",
            "Normandy landings",
            "Battle of Chambois",
            "Battle of Port Cros",
            "Battle of Monte Cassino",
            "Battle of Rimini",
            "Battle for Caen",
            "Invasion of Normandy",
            "battle of Moerbrugge",
            "Battle of Verrières Ridge",
            "Battle of Walcheren Causeway",
            "Battle of Le Mesnil-Patry",
            "Action of 26 April 1944",
            "Battle of Groningen",
            "Black Friday",
            "Operation Teardrop",
            "Battle of Okinawa",
            "Liberation of Arnhem",
            "Battle for the Kapelsche Veer",
            "Second Battle of Seoul",
            "Battle of Inchon",
            "Battle of Kapyong",
            "Battle of Maehwa-san",
            "First Battle of Maryang-san",
            "Battle of Chuam-ni",
            "Second Battle of the Hook",
            "Battle of Bubiyan",
            "Operation Anaconda"
           ],
           "ids": [
            "Fenian raids",
            "North-West Rebellion",
            "North-West Rebellion",
            "North-West Rebellion",
            "North-West Rebellion",
            "North-West Rebellion",
            "North-West Rebellion",
            "North-West Rebellion",
            "Second Boer War",
            "Second Boer War",
            "Second Boer War",
            "Second Boer War",
            "Second Boer War",
            "Second Boer War",
            "World War I",
            "World War I",
            "Western Front of World War I",
            "Western Front of World War I",
            "Western Front of World War I",
            "Western Front of World War I",
            "Western Front of World War I",
            "Western Front of World War I",
            "Battle of the Somme",
            "Battle of the Somme",
            "Battle of the Somme",
            "Battle of the Somme",
            "Western Front of World War I",
            "Battle of the Somme",
            "Western Front of World War I",
            "Battle of the Somme",
            "Western Front of World War I",
            "Middle Eastern theatre of World War I",
            "Western Front of World War I",
            "World War I",
            "Middle Eastern theatre of World War I",
            "Western Front of World War I",
            "Battle of Passchendaele",
            "World War I",
            "Spring Offensive",
            "Hundred Days Offensive",
            "World War I",
            "Western Front of World War I",
            "Western Front of World War I",
            "Russian Civil War",
            "Western Front of World War I",
            "Spring Offensive",
            "World War I",
            "World War I",
            "Western Front of World War I",
            "North Russia Intervention",
            "World War II",
            "World War II",
            "Pacific War",
            "North West Europe Campaign",
            null,
            "World War II",
            "World War II",
            "Moro River Campaign",
            "Italian campaign",
            "strategic bombing during World War II",
            null,
            "Italian campaign",
            "Italian campaign",
            "Normandy landings",
            "Operation Overlord",
            "World War II",
            "Battle of Monte Cassino",
            null,
            "Invasion of Normandy",
            "World War II",
            "Mediterranean and Middle East theatre of World War II",
            null,
            "Italian campaign",
            "Operation Overlord",
            "Operation Overlord",
            null,
            "World War II",
            "Battle of the Scheldt",
            "World War II",
            "World War II",
            "World War II",
            "World War II",
            "World War II",
            "Pacific War",
            null,
            null,
            "Korean War",
            "Korean War",
            "Korean War",
            "Korean War",
            "Korean War",
            "Korean War",
            "Korean War",
            "Gulf War",
            "War in Afghanistan"
           ],
           "lat": [
            45.087337493896484,
            52.60194396972656,
            53.62722396850586,
            52.81650924682617,
            53.65018,
            52.75600814819336,
            52.74530792236328,
            54.04055404663086,
            -25.783333333333,
            -29.913196563720703,
            -28.9825,
            -25.96666667,
            -25.649444,
            -28.9825,
            50.5294,
            50.54388889,
            50.89,
            50.899444444444,
            50.5,
            50.821388888889,
            50.585,
            50.054527777778,
            49.9067,
            50.051111,
            50.0316,
            50.057388888889,
            50.8464,
            50.0717,
            50.0155,
            50.05888889,
            50.900277777778,
            31.4893,
            50.289722222222,
            50.45555556,
            31.4893,
            50.7625,
            50.90027778,
            50.379,
            50.70555556,
            50.283333,
            49.7831,
            49.893913888889,
            49.968971252441406,
            62.594388,
            50.9003,
            49.85,
            50.391944444444,
            50.1767,
            50.270556,
            62.1,
            51.0343,
            15,
            22.2819,
            49.933333333333,
            47.625511169433594,
            48.90331268310547,
            40.679,
            42.35,
            41.40591812133789,
            51.5,
            52.879075,
            41.3833,
            41.443022,
            49.18100357055664,
            48.892777777778,
            48.21166667,
            41.96673583984375,
            50.6243,
            49.333333333333,
            48.8058,
            43.005,
            41.49,
            43.94709777832031,
            49.186111111111,
            49.333333333333,
            51.162322998046875,
            49.11038,
            51.5031,
            49.19583333,
            48.89720916748047,
            53.2186,
            61.46666667,
            40,
            26.5,
            51.9833,
            51.708,
            37.566680908203125,
            37.48333333,
            37.883333333333,
            37.016667,
            38.135,
            36.293739318847656,
            38.029111,
            27.238235473632812,
            33.366666666667
           ],
           "legendgroup": "",
           "lon": [
            -74.1738510131836,
            -105.9472198486328,
            -109.5758361816406,
            -106.2327270507812,
            -109.75154,
            -106.11793518066406,
            -109.0277633666992,
            -109.0008316040039,
            28.466666666667,
            23.604339599609375,
            25.09305556,
            30.05,
            26.706667,
            25.093055555556,
            2.75861,
            2.73611111,
            2.922,
            2.9405555555556,
            2.75,
            2.9316666666667,
            2.7775,
            2.6883888888889,
            2.47583,
            2.712778,
            2.8424,
            2.8877222222222,
            2.94361,
            2.78139,
            2.69742,
            2.74777778,
            3.0211111111111,
            34.4737,
            2.7808333333333,
            2.81902778,
            34.4737,
            2.8952777777778,
            3.02111111,
            2.774,
            2.9,
            3.116667,
            2.5,
            2.29425,
            2.37385892868042,
            43.507833,
            3.02111,
            3.28333,
            2.9275,
            3.23556,
            2.894167,
            42.91666667,
            2.3768194444444,
            -75,
            114.162,
            1.0833333333333,
            -52.96726608276367,
            -61.373878479003906,
            14.7566,
            14.4,
            13.985516548156738,
            7.5,
            173.15688889,
            13.93326944,
            12.624979,
            -0.369891494512558,
            -0.19194444444444,
            -4.91472222,
            13.370064735412598,
            6.13724,
            -0.56694444444444,
            0.106111,
            6.398611,
            13.813888888889,
            12.630768775939941,
            -0.3625,
            -0.56666666666667,
            3.2631185054779053,
            -0.33236,
            3.705,
            -0.54361111,
            -3.4731099605560303,
            6.56722,
            5.65,
            -40,
            128,
            5.91667,
            4.929,
            126.9782943725586,
            126.63333333,
            127.53333333333,
            127.45,
            126.92083333333,
            126.77681732177734,
            126.8425,
            51.197181701660156,
            69.183333333333
           ],
           "marker": {
            "color": "#636efa",
            "symbol": "circle"
           },
           "mode": "markers",
           "name": "",
           "showlegend": false,
           "type": "scattergeo"
          }
         ],
         "name": "2002"
        },
        {
         "data": [
          {
           "geo": "geo",
           "hovertemplate": "<b>%{hovertext}</b><br><br>year=2006<br>lat=%{lat}<br>lng=%{lon}<extra></extra>",
           "hovertext": [
            "Battle of Trout River",
            "Battle of Fish Creek",
            "Battle of Frenchman's Butte",
            "Battle of Duck Lake",
            "Battle of Fort Pitt",
            "Battle of Batoche",
            "Battle of Cut Knife",
            "Battle of Loon Lake",
            "Battle of Diamond Hill",
            "Battle of Witpoort",
            "Battle of Paardeberg",
            "Battle of Leliefontein",
            "Battle of Elands River",
            "Bloody Sunday",
            "Battle of Givenchy",
            "Battle of Festubert",
            "Battle of Kitcheners' Wood",
            "Second Battle of Ypres",
            "Second Battle of Artois",
            "Battle of Hill 60",
            "Battle of Neuve Chapelle",
            "Battle of Thiepval Ridge",
            "Battle of the Ancre Heights",
            "Battle of Mouquet Farm",
            "Battle of Morval",
            "Battle of Le Transloy",
            "Battle of Mont Sorrel",
            "Regina Trench",
            "Battle of the Somme",
            "Battle of Flers–Courcelette",
            "Battle of Passchendaele",
            "First Battle of Gaza",
            "Battle of Arras",
            "Battle of Hill 70",
            "Second Battle of Gaza",
            "Battle of Messines",
            "Second Battle of Passchendaele",
            "Battle of Vimy Ridge",
            "Battle of the Lys",
            "Battle of the Canal du Nord",
            "Battle of Moreuil Wood",
            "Battle of Amiens",
            "Second Battle of the Somme",
            "Battle of Tulgas",
            "Fifth Battle of Ypres",
            "Operation Michael",
            "Battle of Drocourt-Quéant Line",
            "Battle of Cambrai",
            "Battle of the Scarpe",
            "Battle of Shenkursk",
            "Battle of Dunkirk",
            "Battle of the Caribbean",
            "Battle of Hong Kong",
            "Dieppe Raid",
            "Battle of the Bell Islands",
            "Battle of the St. Lawrence",
            "Allied invasion of Italy",
            "Battle of Ortona",
            "Bernhardt Line",
            "Battle of the Ruhr",
            "Battle of Attu",
            "Monte la Difensa",
            "Battle of Anzio",
            "Operation Tonga",
            "Falaise Pocket",
            "Battle of Pierres Noires",
            "Operation Diadem",
            "Battle of the Bulge",
            "Normandy landings",
            "Battle of Chambois",
            "Battle of Port Cros",
            "Battle of Monte Cassino",
            "Battle of Rimini",
            "Battle for Caen",
            "Invasion of Normandy",
            "battle of Moerbrugge",
            "Battle of Verrières Ridge",
            "Battle of Walcheren Causeway",
            "Battle of Le Mesnil-Patry",
            "Action of 26 April 1944",
            "Battle of Groningen",
            "Black Friday",
            "Operation Teardrop",
            "Battle of Okinawa",
            "Liberation of Arnhem",
            "Battle for the Kapelsche Veer",
            "Second Battle of Seoul",
            "Battle of Inchon",
            "Battle of Kapyong",
            "Battle of Maehwa-san",
            "First Battle of Maryang-san",
            "Battle of Chuam-ni",
            "Second Battle of the Hook",
            "Battle of Bubiyan",
            "Operation Anaconda",
            "Battle of Panjwaii",
            "Operation Medusa",
            "Operation Mountain Fury",
            "Friendly fire incident at Sangin"
           ],
           "ids": [
            "Fenian raids",
            "North-West Rebellion",
            "North-West Rebellion",
            "North-West Rebellion",
            "North-West Rebellion",
            "North-West Rebellion",
            "North-West Rebellion",
            "North-West Rebellion",
            "Second Boer War",
            "Second Boer War",
            "Second Boer War",
            "Second Boer War",
            "Second Boer War",
            "Second Boer War",
            "World War I",
            "World War I",
            "Western Front of World War I",
            "Western Front of World War I",
            "Western Front of World War I",
            "Western Front of World War I",
            "Western Front of World War I",
            "Western Front of World War I",
            "Battle of the Somme",
            "Battle of the Somme",
            "Battle of the Somme",
            "Battle of the Somme",
            "Western Front of World War I",
            "Battle of the Somme",
            "Western Front of World War I",
            "Battle of the Somme",
            "Western Front of World War I",
            "Middle Eastern theatre of World War I",
            "Western Front of World War I",
            "World War I",
            "Middle Eastern theatre of World War I",
            "Western Front of World War I",
            "Battle of Passchendaele",
            "World War I",
            "Spring Offensive",
            "Hundred Days Offensive",
            "World War I",
            "Western Front of World War I",
            "Western Front of World War I",
            "Russian Civil War",
            "Western Front of World War I",
            "Spring Offensive",
            "World War I",
            "World War I",
            "Western Front of World War I",
            "North Russia Intervention",
            "World War II",
            "World War II",
            "Pacific War",
            "North West Europe Campaign",
            null,
            "World War II",
            "World War II",
            "Moro River Campaign",
            "Italian campaign",
            "strategic bombing during World War II",
            null,
            "Italian campaign",
            "Italian campaign",
            "Normandy landings",
            "Operation Overlord",
            "World War II",
            "Battle of Monte Cassino",
            null,
            "Invasion of Normandy",
            "World War II",
            "Mediterranean and Middle East theatre of World War II",
            null,
            "Italian campaign",
            "Operation Overlord",
            "Operation Overlord",
            null,
            "World War II",
            "Battle of the Scheldt",
            "World War II",
            "World War II",
            "World War II",
            "World War II",
            "World War II",
            "Pacific War",
            null,
            null,
            "Korean War",
            "Korean War",
            "Korean War",
            "Korean War",
            "Korean War",
            "Korean War",
            "Korean War",
            "Gulf War",
            "War in Afghanistan",
            "War in Afghanistan",
            "War in Afghanistan",
            "War in Afghanistan",
            "War in Afghanistan"
           ],
           "lat": [
            45.087337493896484,
            52.60194396972656,
            53.62722396850586,
            52.81650924682617,
            53.65018,
            52.75600814819336,
            52.74530792236328,
            54.04055404663086,
            -25.783333333333,
            -29.913196563720703,
            -28.9825,
            -25.96666667,
            -25.649444,
            -28.9825,
            50.5294,
            50.54388889,
            50.89,
            50.899444444444,
            50.5,
            50.821388888889,
            50.585,
            50.054527777778,
            49.9067,
            50.051111,
            50.0316,
            50.057388888889,
            50.8464,
            50.0717,
            50.0155,
            50.05888889,
            50.900277777778,
            31.4893,
            50.289722222222,
            50.45555556,
            31.4893,
            50.7625,
            50.90027778,
            50.379,
            50.70555556,
            50.283333,
            49.7831,
            49.893913888889,
            49.968971252441406,
            62.594388,
            50.9003,
            49.85,
            50.391944444444,
            50.1767,
            50.270556,
            62.1,
            51.0343,
            15,
            22.2819,
            49.933333333333,
            47.625511169433594,
            48.90331268310547,
            40.679,
            42.35,
            41.40591812133789,
            51.5,
            52.879075,
            41.3833,
            41.443022,
            49.18100357055664,
            48.892777777778,
            48.21166667,
            41.96673583984375,
            50.6243,
            49.333333333333,
            48.8058,
            43.005,
            41.49,
            43.94709777832031,
            49.186111111111,
            49.333333333333,
            51.162322998046875,
            49.11038,
            51.5031,
            49.19583333,
            48.89720916748047,
            53.2186,
            61.46666667,
            40,
            26.5,
            51.9833,
            51.708,
            37.566680908203125,
            37.48333333,
            37.883333333333,
            37.016667,
            38.135,
            36.293739318847656,
            38.029111,
            27.238235473632812,
            33.366666666667,
            31.546222686767578,
            31.547777777778,
            32.39362335205078,
            31.589166666667
           ],
           "legendgroup": "",
           "lon": [
            -74.1738510131836,
            -105.9472198486328,
            -109.5758361816406,
            -106.2327270507812,
            -109.75154,
            -106.11793518066406,
            -109.0277633666992,
            -109.0008316040039,
            28.466666666667,
            23.604339599609375,
            25.09305556,
            30.05,
            26.706667,
            25.093055555556,
            2.75861,
            2.73611111,
            2.922,
            2.9405555555556,
            2.75,
            2.9316666666667,
            2.7775,
            2.6883888888889,
            2.47583,
            2.712778,
            2.8424,
            2.8877222222222,
            2.94361,
            2.78139,
            2.69742,
            2.74777778,
            3.0211111111111,
            34.4737,
            2.7808333333333,
            2.81902778,
            34.4737,
            2.8952777777778,
            3.02111111,
            2.774,
            2.9,
            3.116667,
            2.5,
            2.29425,
            2.37385892868042,
            43.507833,
            3.02111,
            3.28333,
            2.9275,
            3.23556,
            2.894167,
            42.91666667,
            2.3768194444444,
            -75,
            114.162,
            1.0833333333333,
            -52.96726608276367,
            -61.373878479003906,
            14.7566,
            14.4,
            13.985516548156738,
            7.5,
            173.15688889,
            13.93326944,
            12.624979,
            -0.369891494512558,
            -0.19194444444444,
            -4.91472222,
            13.370064735412598,
            6.13724,
            -0.56694444444444,
            0.106111,
            6.398611,
            13.813888888889,
            12.630768775939941,
            -0.3625,
            -0.56666666666667,
            3.2631185054779053,
            -0.33236,
            3.705,
            -0.54361111,
            -3.4731099605560303,
            6.56722,
            5.65,
            -40,
            128,
            5.91667,
            4.929,
            126.9782943725586,
            126.63333333,
            127.53333333333,
            127.45,
            126.92083333333,
            126.77681732177734,
            126.8425,
            51.197181701660156,
            69.183333333333,
            65.45999145507812,
            65.454166666667,
            68.70365142822266,
            64.363333333333
           ],
           "marker": {
            "color": "#636efa",
            "symbol": "circle"
           },
           "mode": "markers",
           "name": "",
           "showlegend": false,
           "type": "scattergeo"
          }
         ],
         "name": "2006"
        },
        {
         "data": [
          {
           "geo": "geo",
           "hovertemplate": "<b>%{hovertext}</b><br><br>year=2007<br>lat=%{lat}<br>lng=%{lon}<extra></extra>",
           "hovertext": [
            "Battle of Trout River",
            "Battle of Fish Creek",
            "Battle of Frenchman's Butte",
            "Battle of Duck Lake",
            "Battle of Fort Pitt",
            "Battle of Batoche",
            "Battle of Cut Knife",
            "Battle of Loon Lake",
            "Battle of Diamond Hill",
            "Battle of Witpoort",
            "Battle of Paardeberg",
            "Battle of Leliefontein",
            "Battle of Elands River",
            "Bloody Sunday",
            "Battle of Givenchy",
            "Battle of Festubert",
            "Battle of Kitcheners' Wood",
            "Second Battle of Ypres",
            "Second Battle of Artois",
            "Battle of Hill 60",
            "Battle of Neuve Chapelle",
            "Battle of Thiepval Ridge",
            "Battle of the Ancre Heights",
            "Battle of Mouquet Farm",
            "Battle of Morval",
            "Battle of Le Transloy",
            "Battle of Mont Sorrel",
            "Regina Trench",
            "Battle of the Somme",
            "Battle of Flers–Courcelette",
            "Battle of Passchendaele",
            "First Battle of Gaza",
            "Battle of Arras",
            "Battle of Hill 70",
            "Second Battle of Gaza",
            "Battle of Messines",
            "Second Battle of Passchendaele",
            "Battle of Vimy Ridge",
            "Battle of the Lys",
            "Battle of the Canal du Nord",
            "Battle of Moreuil Wood",
            "Battle of Amiens",
            "Second Battle of the Somme",
            "Battle of Tulgas",
            "Fifth Battle of Ypres",
            "Operation Michael",
            "Battle of Drocourt-Quéant Line",
            "Battle of Cambrai",
            "Battle of the Scarpe",
            "Battle of Shenkursk",
            "Battle of Dunkirk",
            "Battle of the Caribbean",
            "Battle of Hong Kong",
            "Dieppe Raid",
            "Battle of the Bell Islands",
            "Battle of the St. Lawrence",
            "Allied invasion of Italy",
            "Battle of Ortona",
            "Bernhardt Line",
            "Battle of the Ruhr",
            "Battle of Attu",
            "Monte la Difensa",
            "Battle of Anzio",
            "Operation Tonga",
            "Falaise Pocket",
            "Battle of Pierres Noires",
            "Operation Diadem",
            "Battle of the Bulge",
            "Normandy landings",
            "Battle of Chambois",
            "Battle of Port Cros",
            "Battle of Monte Cassino",
            "Battle of Rimini",
            "Battle for Caen",
            "Invasion of Normandy",
            "battle of Moerbrugge",
            "Battle of Verrières Ridge",
            "Battle of Walcheren Causeway",
            "Battle of Le Mesnil-Patry",
            "Action of 26 April 1944",
            "Battle of Groningen",
            "Black Friday",
            "Operation Teardrop",
            "Battle of Okinawa",
            "Liberation of Arnhem",
            "Battle for the Kapelsche Veer",
            "Second Battle of Seoul",
            "Battle of Inchon",
            "Battle of Kapyong",
            "Battle of Maehwa-san",
            "First Battle of Maryang-san",
            "Battle of Chuam-ni",
            "Second Battle of the Hook",
            "Battle of Bubiyan",
            "Operation Anaconda",
            "Battle of Panjwaii",
            "Operation Medusa",
            "Operation Mountain Fury",
            "Friendly fire incident at Sangin",
            "Operation Achilles"
           ],
           "ids": [
            "Fenian raids",
            "North-West Rebellion",
            "North-West Rebellion",
            "North-West Rebellion",
            "North-West Rebellion",
            "North-West Rebellion",
            "North-West Rebellion",
            "North-West Rebellion",
            "Second Boer War",
            "Second Boer War",
            "Second Boer War",
            "Second Boer War",
            "Second Boer War",
            "Second Boer War",
            "World War I",
            "World War I",
            "Western Front of World War I",
            "Western Front of World War I",
            "Western Front of World War I",
            "Western Front of World War I",
            "Western Front of World War I",
            "Western Front of World War I",
            "Battle of the Somme",
            "Battle of the Somme",
            "Battle of the Somme",
            "Battle of the Somme",
            "Western Front of World War I",
            "Battle of the Somme",
            "Western Front of World War I",
            "Battle of the Somme",
            "Western Front of World War I",
            "Middle Eastern theatre of World War I",
            "Western Front of World War I",
            "World War I",
            "Middle Eastern theatre of World War I",
            "Western Front of World War I",
            "Battle of Passchendaele",
            "World War I",
            "Spring Offensive",
            "Hundred Days Offensive",
            "World War I",
            "Western Front of World War I",
            "Western Front of World War I",
            "Russian Civil War",
            "Western Front of World War I",
            "Spring Offensive",
            "World War I",
            "World War I",
            "Western Front of World War I",
            "North Russia Intervention",
            "World War II",
            "World War II",
            "Pacific War",
            "North West Europe Campaign",
            null,
            "World War II",
            "World War II",
            "Moro River Campaign",
            "Italian campaign",
            "strategic bombing during World War II",
            null,
            "Italian campaign",
            "Italian campaign",
            "Normandy landings",
            "Operation Overlord",
            "World War II",
            "Battle of Monte Cassino",
            null,
            "Invasion of Normandy",
            "World War II",
            "Mediterranean and Middle East theatre of World War II",
            null,
            "Italian campaign",
            "Operation Overlord",
            "Operation Overlord",
            null,
            "World War II",
            "Battle of the Scheldt",
            "World War II",
            "World War II",
            "World War II",
            "World War II",
            "World War II",
            "Pacific War",
            null,
            null,
            "Korean War",
            "Korean War",
            "Korean War",
            "Korean War",
            "Korean War",
            "Korean War",
            "Korean War",
            "Gulf War",
            "War in Afghanistan",
            "War in Afghanistan",
            "War in Afghanistan",
            "War in Afghanistan",
            "War in Afghanistan",
            "War in Afghanistan"
           ],
           "lat": [
            45.087337493896484,
            52.60194396972656,
            53.62722396850586,
            52.81650924682617,
            53.65018,
            52.75600814819336,
            52.74530792236328,
            54.04055404663086,
            -25.783333333333,
            -29.913196563720703,
            -28.9825,
            -25.96666667,
            -25.649444,
            -28.9825,
            50.5294,
            50.54388889,
            50.89,
            50.899444444444,
            50.5,
            50.821388888889,
            50.585,
            50.054527777778,
            49.9067,
            50.051111,
            50.0316,
            50.057388888889,
            50.8464,
            50.0717,
            50.0155,
            50.05888889,
            50.900277777778,
            31.4893,
            50.289722222222,
            50.45555556,
            31.4893,
            50.7625,
            50.90027778,
            50.379,
            50.70555556,
            50.283333,
            49.7831,
            49.893913888889,
            49.968971252441406,
            62.594388,
            50.9003,
            49.85,
            50.391944444444,
            50.1767,
            50.270556,
            62.1,
            51.0343,
            15,
            22.2819,
            49.933333333333,
            47.625511169433594,
            48.90331268310547,
            40.679,
            42.35,
            41.40591812133789,
            51.5,
            52.879075,
            41.3833,
            41.443022,
            49.18100357055664,
            48.892777777778,
            48.21166667,
            41.96673583984375,
            50.6243,
            49.333333333333,
            48.8058,
            43.005,
            41.49,
            43.94709777832031,
            49.186111111111,
            49.333333333333,
            51.162322998046875,
            49.11038,
            51.5031,
            49.19583333,
            48.89720916748047,
            53.2186,
            61.46666667,
            40,
            26.5,
            51.9833,
            51.708,
            37.566680908203125,
            37.48333333,
            37.883333333333,
            37.016667,
            38.135,
            36.293739318847656,
            38.029111,
            27.238235473632812,
            33.366666666667,
            31.546222686767578,
            31.547777777778,
            32.39362335205078,
            31.589166666667,
            32.07333333
           ],
           "legendgroup": "",
           "lon": [
            -74.1738510131836,
            -105.9472198486328,
            -109.5758361816406,
            -106.2327270507812,
            -109.75154,
            -106.11793518066406,
            -109.0277633666992,
            -109.0008316040039,
            28.466666666667,
            23.604339599609375,
            25.09305556,
            30.05,
            26.706667,
            25.093055555556,
            2.75861,
            2.73611111,
            2.922,
            2.9405555555556,
            2.75,
            2.9316666666667,
            2.7775,
            2.6883888888889,
            2.47583,
            2.712778,
            2.8424,
            2.8877222222222,
            2.94361,
            2.78139,
            2.69742,
            2.74777778,
            3.0211111111111,
            34.4737,
            2.7808333333333,
            2.81902778,
            34.4737,
            2.8952777777778,
            3.02111111,
            2.774,
            2.9,
            3.116667,
            2.5,
            2.29425,
            2.37385892868042,
            43.507833,
            3.02111,
            3.28333,
            2.9275,
            3.23556,
            2.894167,
            42.91666667,
            2.3768194444444,
            -75,
            114.162,
            1.0833333333333,
            -52.96726608276367,
            -61.373878479003906,
            14.7566,
            14.4,
            13.985516548156738,
            7.5,
            173.15688889,
            13.93326944,
            12.624979,
            -0.369891494512558,
            -0.19194444444444,
            -4.91472222,
            13.370064735412598,
            6.13724,
            -0.56694444444444,
            0.106111,
            6.398611,
            13.813888888889,
            12.630768775939941,
            -0.3625,
            -0.56666666666667,
            3.2631185054779053,
            -0.33236,
            3.705,
            -0.54361111,
            -3.4731099605560303,
            6.56722,
            5.65,
            -40,
            128,
            5.91667,
            4.929,
            126.9782943725586,
            126.63333333,
            127.53333333333,
            127.45,
            126.92083333333,
            126.77681732177734,
            126.8425,
            51.197181701660156,
            69.183333333333,
            65.45999145507812,
            65.454166666667,
            68.70365142822266,
            64.363333333333,
            64.83388889
           ],
           "marker": {
            "color": "#636efa",
            "symbol": "circle"
           },
           "mode": "markers",
           "name": "",
           "showlegend": false,
           "type": "scattergeo"
          }
         ],
         "name": "2007"
        },
        {
         "data": [
          {
           "geo": "geo",
           "hovertemplate": "<b>%{hovertext}</b><br><br>year=2008<br>lat=%{lat}<br>lng=%{lon}<extra></extra>",
           "hovertext": [
            "Battle of Trout River",
            "Battle of Fish Creek",
            "Battle of Frenchman's Butte",
            "Battle of Duck Lake",
            "Battle of Fort Pitt",
            "Battle of Batoche",
            "Battle of Cut Knife",
            "Battle of Loon Lake",
            "Battle of Diamond Hill",
            "Battle of Witpoort",
            "Battle of Paardeberg",
            "Battle of Leliefontein",
            "Battle of Elands River",
            "Bloody Sunday",
            "Battle of Givenchy",
            "Battle of Festubert",
            "Battle of Kitcheners' Wood",
            "Second Battle of Ypres",
            "Second Battle of Artois",
            "Battle of Hill 60",
            "Battle of Neuve Chapelle",
            "Battle of Thiepval Ridge",
            "Battle of the Ancre Heights",
            "Battle of Mouquet Farm",
            "Battle of Morval",
            "Battle of Le Transloy",
            "Battle of Mont Sorrel",
            "Regina Trench",
            "Battle of the Somme",
            "Battle of Flers–Courcelette",
            "Battle of Passchendaele",
            "First Battle of Gaza",
            "Battle of Arras",
            "Battle of Hill 70",
            "Second Battle of Gaza",
            "Battle of Messines",
            "Second Battle of Passchendaele",
            "Battle of Vimy Ridge",
            "Battle of the Lys",
            "Battle of the Canal du Nord",
            "Battle of Moreuil Wood",
            "Battle of Amiens",
            "Second Battle of the Somme",
            "Battle of Tulgas",
            "Fifth Battle of Ypres",
            "Operation Michael",
            "Battle of Drocourt-Quéant Line",
            "Battle of Cambrai",
            "Battle of the Scarpe",
            "Battle of Shenkursk",
            "Battle of Dunkirk",
            "Battle of the Caribbean",
            "Battle of Hong Kong",
            "Dieppe Raid",
            "Battle of the Bell Islands",
            "Battle of the St. Lawrence",
            "Allied invasion of Italy",
            "Battle of Ortona",
            "Bernhardt Line",
            "Battle of the Ruhr",
            "Battle of Attu",
            "Monte la Difensa",
            "Battle of Anzio",
            "Operation Tonga",
            "Falaise Pocket",
            "Battle of Pierres Noires",
            "Operation Diadem",
            "Battle of the Bulge",
            "Normandy landings",
            "Battle of Chambois",
            "Battle of Port Cros",
            "Battle of Monte Cassino",
            "Battle of Rimini",
            "Battle for Caen",
            "Invasion of Normandy",
            "battle of Moerbrugge",
            "Battle of Verrières Ridge",
            "Battle of Walcheren Causeway",
            "Battle of Le Mesnil-Patry",
            "Action of 26 April 1944",
            "Battle of Groningen",
            "Black Friday",
            "Operation Teardrop",
            "Battle of Okinawa",
            "Liberation of Arnhem",
            "Battle for the Kapelsche Veer",
            "Second Battle of Seoul",
            "Battle of Inchon",
            "Battle of Kapyong",
            "Battle of Maehwa-san",
            "First Battle of Maryang-san",
            "Battle of Chuam-ni",
            "Second Battle of the Hook",
            "Battle of Bubiyan",
            "Operation Anaconda",
            "Battle of Panjwaii",
            "Operation Medusa",
            "Operation Mountain Fury",
            "Friendly fire incident at Sangin",
            "Operation Achilles",
            "Battle of Arghandab"
           ],
           "ids": [
            "Fenian raids",
            "North-West Rebellion",
            "North-West Rebellion",
            "North-West Rebellion",
            "North-West Rebellion",
            "North-West Rebellion",
            "North-West Rebellion",
            "North-West Rebellion",
            "Second Boer War",
            "Second Boer War",
            "Second Boer War",
            "Second Boer War",
            "Second Boer War",
            "Second Boer War",
            "World War I",
            "World War I",
            "Western Front of World War I",
            "Western Front of World War I",
            "Western Front of World War I",
            "Western Front of World War I",
            "Western Front of World War I",
            "Western Front of World War I",
            "Battle of the Somme",
            "Battle of the Somme",
            "Battle of the Somme",
            "Battle of the Somme",
            "Western Front of World War I",
            "Battle of the Somme",
            "Western Front of World War I",
            "Battle of the Somme",
            "Western Front of World War I",
            "Middle Eastern theatre of World War I",
            "Western Front of World War I",
            "World War I",
            "Middle Eastern theatre of World War I",
            "Western Front of World War I",
            "Battle of Passchendaele",
            "World War I",
            "Spring Offensive",
            "Hundred Days Offensive",
            "World War I",
            "Western Front of World War I",
            "Western Front of World War I",
            "Russian Civil War",
            "Western Front of World War I",
            "Spring Offensive",
            "World War I",
            "World War I",
            "Western Front of World War I",
            "North Russia Intervention",
            "World War II",
            "World War II",
            "Pacific War",
            "North West Europe Campaign",
            null,
            "World War II",
            "World War II",
            "Moro River Campaign",
            "Italian campaign",
            "strategic bombing during World War II",
            null,
            "Italian campaign",
            "Italian campaign",
            "Normandy landings",
            "Operation Overlord",
            "World War II",
            "Battle of Monte Cassino",
            null,
            "Invasion of Normandy",
            "World War II",
            "Mediterranean and Middle East theatre of World War II",
            null,
            "Italian campaign",
            "Operation Overlord",
            "Operation Overlord",
            null,
            "World War II",
            "Battle of the Scheldt",
            "World War II",
            "World War II",
            "World War II",
            "World War II",
            "World War II",
            "Pacific War",
            null,
            null,
            "Korean War",
            "Korean War",
            "Korean War",
            "Korean War",
            "Korean War",
            "Korean War",
            "Korean War",
            "Gulf War",
            "War in Afghanistan",
            "War in Afghanistan",
            "War in Afghanistan",
            "War in Afghanistan",
            "War in Afghanistan",
            "War in Afghanistan",
            "War in Afghanistan"
           ],
           "lat": [
            45.087337493896484,
            52.60194396972656,
            53.62722396850586,
            52.81650924682617,
            53.65018,
            52.75600814819336,
            52.74530792236328,
            54.04055404663086,
            -25.783333333333,
            -29.913196563720703,
            -28.9825,
            -25.96666667,
            -25.649444,
            -28.9825,
            50.5294,
            50.54388889,
            50.89,
            50.899444444444,
            50.5,
            50.821388888889,
            50.585,
            50.054527777778,
            49.9067,
            50.051111,
            50.0316,
            50.057388888889,
            50.8464,
            50.0717,
            50.0155,
            50.05888889,
            50.900277777778,
            31.4893,
            50.289722222222,
            50.45555556,
            31.4893,
            50.7625,
            50.90027778,
            50.379,
            50.70555556,
            50.283333,
            49.7831,
            49.893913888889,
            49.968971252441406,
            62.594388,
            50.9003,
            49.85,
            50.391944444444,
            50.1767,
            50.270556,
            62.1,
            51.0343,
            15,
            22.2819,
            49.933333333333,
            47.625511169433594,
            48.90331268310547,
            40.679,
            42.35,
            41.40591812133789,
            51.5,
            52.879075,
            41.3833,
            41.443022,
            49.18100357055664,
            48.892777777778,
            48.21166667,
            41.96673583984375,
            50.6243,
            49.333333333333,
            48.8058,
            43.005,
            41.49,
            43.94709777832031,
            49.186111111111,
            49.333333333333,
            51.162322998046875,
            49.11038,
            51.5031,
            49.19583333,
            48.89720916748047,
            53.2186,
            61.46666667,
            40,
            26.5,
            51.9833,
            51.708,
            37.566680908203125,
            37.48333333,
            37.883333333333,
            37.016667,
            38.135,
            36.293739318847656,
            38.029111,
            27.238235473632812,
            33.366666666667,
            31.546222686767578,
            31.547777777778,
            32.39362335205078,
            31.589166666667,
            32.07333333,
            31.654722222222
           ],
           "legendgroup": "",
           "lon": [
            -74.1738510131836,
            -105.9472198486328,
            -109.5758361816406,
            -106.2327270507812,
            -109.75154,
            -106.11793518066406,
            -109.0277633666992,
            -109.0008316040039,
            28.466666666667,
            23.604339599609375,
            25.09305556,
            30.05,
            26.706667,
            25.093055555556,
            2.75861,
            2.73611111,
            2.922,
            2.9405555555556,
            2.75,
            2.9316666666667,
            2.7775,
            2.6883888888889,
            2.47583,
            2.712778,
            2.8424,
            2.8877222222222,
            2.94361,
            2.78139,
            2.69742,
            2.74777778,
            3.0211111111111,
            34.4737,
            2.7808333333333,
            2.81902778,
            34.4737,
            2.8952777777778,
            3.02111111,
            2.774,
            2.9,
            3.116667,
            2.5,
            2.29425,
            2.37385892868042,
            43.507833,
            3.02111,
            3.28333,
            2.9275,
            3.23556,
            2.894167,
            42.91666667,
            2.3768194444444,
            -75,
            114.162,
            1.0833333333333,
            -52.96726608276367,
            -61.373878479003906,
            14.7566,
            14.4,
            13.985516548156738,
            7.5,
            173.15688889,
            13.93326944,
            12.624979,
            -0.369891494512558,
            -0.19194444444444,
            -4.91472222,
            13.370064735412598,
            6.13724,
            -0.56694444444444,
            0.106111,
            6.398611,
            13.813888888889,
            12.630768775939941,
            -0.3625,
            -0.56666666666667,
            3.2631185054779053,
            -0.33236,
            3.705,
            -0.54361111,
            -3.4731099605560303,
            6.56722,
            5.65,
            -40,
            128,
            5.91667,
            4.929,
            126.9782943725586,
            126.63333333,
            127.53333333333,
            127.45,
            126.92083333333,
            126.77681732177734,
            126.8425,
            51.197181701660156,
            69.183333333333,
            65.45999145507812,
            65.454166666667,
            68.70365142822266,
            64.363333333333,
            64.83388889,
            65.649444444444
           ],
           "marker": {
            "color": "#636efa",
            "symbol": "circle"
           },
           "mode": "markers",
           "name": "",
           "showlegend": false,
           "type": "scattergeo"
          }
         ],
         "name": "2008"
        },
        {
         "data": [
          {
           "geo": "geo",
           "hovertemplate": "<b>%{hovertext}</b><br><br>year=2010<br>lat=%{lat}<br>lng=%{lon}<extra></extra>",
           "hovertext": [
            "Battle of Trout River",
            "Battle of Fish Creek",
            "Battle of Frenchman's Butte",
            "Battle of Duck Lake",
            "Battle of Fort Pitt",
            "Battle of Batoche",
            "Battle of Cut Knife",
            "Battle of Loon Lake",
            "Battle of Diamond Hill",
            "Battle of Witpoort",
            "Battle of Paardeberg",
            "Battle of Leliefontein",
            "Battle of Elands River",
            "Bloody Sunday",
            "Battle of Givenchy",
            "Battle of Festubert",
            "Battle of Kitcheners' Wood",
            "Second Battle of Ypres",
            "Second Battle of Artois",
            "Battle of Hill 60",
            "Battle of Neuve Chapelle",
            "Battle of Thiepval Ridge",
            "Battle of the Ancre Heights",
            "Battle of Mouquet Farm",
            "Battle of Morval",
            "Battle of Le Transloy",
            "Battle of Mont Sorrel",
            "Regina Trench",
            "Battle of the Somme",
            "Battle of Flers–Courcelette",
            "Battle of Passchendaele",
            "First Battle of Gaza",
            "Battle of Arras",
            "Battle of Hill 70",
            "Second Battle of Gaza",
            "Battle of Messines",
            "Second Battle of Passchendaele",
            "Battle of Vimy Ridge",
            "Battle of the Lys",
            "Battle of the Canal du Nord",
            "Battle of Moreuil Wood",
            "Battle of Amiens",
            "Second Battle of the Somme",
            "Battle of Tulgas",
            "Fifth Battle of Ypres",
            "Operation Michael",
            "Battle of Drocourt-Quéant Line",
            "Battle of Cambrai",
            "Battle of the Scarpe",
            "Battle of Shenkursk",
            "Battle of Dunkirk",
            "Battle of the Caribbean",
            "Battle of Hong Kong",
            "Dieppe Raid",
            "Battle of the Bell Islands",
            "Battle of the St. Lawrence",
            "Allied invasion of Italy",
            "Battle of Ortona",
            "Bernhardt Line",
            "Battle of the Ruhr",
            "Battle of Attu",
            "Monte la Difensa",
            "Battle of Anzio",
            "Operation Tonga",
            "Falaise Pocket",
            "Battle of Pierres Noires",
            "Operation Diadem",
            "Battle of the Bulge",
            "Normandy landings",
            "Battle of Chambois",
            "Battle of Port Cros",
            "Battle of Monte Cassino",
            "Battle of Rimini",
            "Battle for Caen",
            "Invasion of Normandy",
            "battle of Moerbrugge",
            "Battle of Verrières Ridge",
            "Battle of Walcheren Causeway",
            "Battle of Le Mesnil-Patry",
            "Action of 26 April 1944",
            "Battle of Groningen",
            "Black Friday",
            "Operation Teardrop",
            "Battle of Okinawa",
            "Liberation of Arnhem",
            "Battle for the Kapelsche Veer",
            "Second Battle of Seoul",
            "Battle of Inchon",
            "Battle of Kapyong",
            "Battle of Maehwa-san",
            "First Battle of Maryang-san",
            "Battle of Chuam-ni",
            "Second Battle of the Hook",
            "Battle of Bubiyan",
            "Operation Anaconda",
            "Battle of Panjwaii",
            "Operation Medusa",
            "Operation Mountain Fury",
            "Friendly fire incident at Sangin",
            "Operation Achilles",
            "Battle of Arghandab",
            "Operation Moshtarak",
            "Operation Dragon Strike"
           ],
           "ids": [
            "Fenian raids",
            "North-West Rebellion",
            "North-West Rebellion",
            "North-West Rebellion",
            "North-West Rebellion",
            "North-West Rebellion",
            "North-West Rebellion",
            "North-West Rebellion",
            "Second Boer War",
            "Second Boer War",
            "Second Boer War",
            "Second Boer War",
            "Second Boer War",
            "Second Boer War",
            "World War I",
            "World War I",
            "Western Front of World War I",
            "Western Front of World War I",
            "Western Front of World War I",
            "Western Front of World War I",
            "Western Front of World War I",
            "Western Front of World War I",
            "Battle of the Somme",
            "Battle of the Somme",
            "Battle of the Somme",
            "Battle of the Somme",
            "Western Front of World War I",
            "Battle of the Somme",
            "Western Front of World War I",
            "Battle of the Somme",
            "Western Front of World War I",
            "Middle Eastern theatre of World War I",
            "Western Front of World War I",
            "World War I",
            "Middle Eastern theatre of World War I",
            "Western Front of World War I",
            "Battle of Passchendaele",
            "World War I",
            "Spring Offensive",
            "Hundred Days Offensive",
            "World War I",
            "Western Front of World War I",
            "Western Front of World War I",
            "Russian Civil War",
            "Western Front of World War I",
            "Spring Offensive",
            "World War I",
            "World War I",
            "Western Front of World War I",
            "North Russia Intervention",
            "World War II",
            "World War II",
            "Pacific War",
            "North West Europe Campaign",
            null,
            "World War II",
            "World War II",
            "Moro River Campaign",
            "Italian campaign",
            "strategic bombing during World War II",
            null,
            "Italian campaign",
            "Italian campaign",
            "Normandy landings",
            "Operation Overlord",
            "World War II",
            "Battle of Monte Cassino",
            null,
            "Invasion of Normandy",
            "World War II",
            "Mediterranean and Middle East theatre of World War II",
            null,
            "Italian campaign",
            "Operation Overlord",
            "Operation Overlord",
            null,
            "World War II",
            "Battle of the Scheldt",
            "World War II",
            "World War II",
            "World War II",
            "World War II",
            "World War II",
            "Pacific War",
            null,
            null,
            "Korean War",
            "Korean War",
            "Korean War",
            "Korean War",
            "Korean War",
            "Korean War",
            "Korean War",
            "Gulf War",
            "War in Afghanistan",
            "War in Afghanistan",
            "War in Afghanistan",
            "War in Afghanistan",
            "War in Afghanistan",
            "War in Afghanistan",
            "War in Afghanistan",
            "War in Afghanistan",
            "War in Afghanistan"
           ],
           "lat": [
            45.087337493896484,
            52.60194396972656,
            53.62722396850586,
            52.81650924682617,
            53.65018,
            52.75600814819336,
            52.74530792236328,
            54.04055404663086,
            -25.783333333333,
            -29.913196563720703,
            -28.9825,
            -25.96666667,
            -25.649444,
            -28.9825,
            50.5294,
            50.54388889,
            50.89,
            50.899444444444,
            50.5,
            50.821388888889,
            50.585,
            50.054527777778,
            49.9067,
            50.051111,
            50.0316,
            50.057388888889,
            50.8464,
            50.0717,
            50.0155,
            50.05888889,
            50.900277777778,
            31.4893,
            50.289722222222,
            50.45555556,
            31.4893,
            50.7625,
            50.90027778,
            50.379,
            50.70555556,
            50.283333,
            49.7831,
            49.893913888889,
            49.968971252441406,
            62.594388,
            50.9003,
            49.85,
            50.391944444444,
            50.1767,
            50.270556,
            62.1,
            51.0343,
            15,
            22.2819,
            49.933333333333,
            47.625511169433594,
            48.90331268310547,
            40.679,
            42.35,
            41.40591812133789,
            51.5,
            52.879075,
            41.3833,
            41.443022,
            49.18100357055664,
            48.892777777778,
            48.21166667,
            41.96673583984375,
            50.6243,
            49.333333333333,
            48.8058,
            43.005,
            41.49,
            43.94709777832031,
            49.186111111111,
            49.333333333333,
            51.162322998046875,
            49.11038,
            51.5031,
            49.19583333,
            48.89720916748047,
            53.2186,
            61.46666667,
            40,
            26.5,
            51.9833,
            51.708,
            37.566680908203125,
            37.48333333,
            37.883333333333,
            37.016667,
            38.135,
            36.293739318847656,
            38.029111,
            27.238235473632812,
            33.366666666667,
            31.546222686767578,
            31.547777777778,
            32.39362335205078,
            31.589166666667,
            32.07333333,
            31.654722222222,
            31.516667,
            31.620643615722656
           ],
           "legendgroup": "",
           "lon": [
            -74.1738510131836,
            -105.9472198486328,
            -109.5758361816406,
            -106.2327270507812,
            -109.75154,
            -106.11793518066406,
            -109.0277633666992,
            -109.0008316040039,
            28.466666666667,
            23.604339599609375,
            25.09305556,
            30.05,
            26.706667,
            25.093055555556,
            2.75861,
            2.73611111,
            2.922,
            2.9405555555556,
            2.75,
            2.9316666666667,
            2.7775,
            2.6883888888889,
            2.47583,
            2.712778,
            2.8424,
            2.8877222222222,
            2.94361,
            2.78139,
            2.69742,
            2.74777778,
            3.0211111111111,
            34.4737,
            2.7808333333333,
            2.81902778,
            34.4737,
            2.8952777777778,
            3.02111111,
            2.774,
            2.9,
            3.116667,
            2.5,
            2.29425,
            2.37385892868042,
            43.507833,
            3.02111,
            3.28333,
            2.9275,
            3.23556,
            2.894167,
            42.91666667,
            2.3768194444444,
            -75,
            114.162,
            1.0833333333333,
            -52.96726608276367,
            -61.373878479003906,
            14.7566,
            14.4,
            13.985516548156738,
            7.5,
            173.15688889,
            13.93326944,
            12.624979,
            -0.369891494512558,
            -0.19194444444444,
            -4.91472222,
            13.370064735412598,
            6.13724,
            -0.56694444444444,
            0.106111,
            6.398611,
            13.813888888889,
            12.630768775939941,
            -0.3625,
            -0.56666666666667,
            3.2631185054779053,
            -0.33236,
            3.705,
            -0.54361111,
            -3.4731099605560303,
            6.56722,
            5.65,
            -40,
            128,
            5.91667,
            4.929,
            126.9782943725586,
            126.63333333,
            127.53333333333,
            127.45,
            126.92083333333,
            126.77681732177734,
            126.8425,
            51.197181701660156,
            69.183333333333,
            65.45999145507812,
            65.454166666667,
            68.70365142822266,
            64.363333333333,
            64.83388889,
            65.649444444444,
            64.116667,
            65.7157211303711
           ],
           "marker": {
            "color": "#636efa",
            "symbol": "circle"
           },
           "mode": "markers",
           "name": "",
           "showlegend": false,
           "type": "scattergeo"
          }
         ],
         "name": "2010"
        },
        {
         "data": [
          {
           "geo": "geo",
           "hovertemplate": "<b>%{hovertext}</b><br><br>year=2011<br>lat=%{lat}<br>lng=%{lon}<extra></extra>",
           "hovertext": [
            "Battle of Trout River",
            "Battle of Fish Creek",
            "Battle of Frenchman's Butte",
            "Battle of Duck Lake",
            "Battle of Fort Pitt",
            "Battle of Batoche",
            "Battle of Cut Knife",
            "Battle of Loon Lake",
            "Battle of Diamond Hill",
            "Battle of Witpoort",
            "Battle of Paardeberg",
            "Battle of Leliefontein",
            "Battle of Elands River",
            "Bloody Sunday",
            "Battle of Givenchy",
            "Battle of Festubert",
            "Battle of Kitcheners' Wood",
            "Second Battle of Ypres",
            "Second Battle of Artois",
            "Battle of Hill 60",
            "Battle of Neuve Chapelle",
            "Battle of Thiepval Ridge",
            "Battle of the Ancre Heights",
            "Battle of Mouquet Farm",
            "Battle of Morval",
            "Battle of Le Transloy",
            "Battle of Mont Sorrel",
            "Regina Trench",
            "Battle of the Somme",
            "Battle of Flers–Courcelette",
            "Battle of Passchendaele",
            "First Battle of Gaza",
            "Battle of Arras",
            "Battle of Hill 70",
            "Second Battle of Gaza",
            "Battle of Messines",
            "Second Battle of Passchendaele",
            "Battle of Vimy Ridge",
            "Battle of the Lys",
            "Battle of the Canal du Nord",
            "Battle of Moreuil Wood",
            "Battle of Amiens",
            "Second Battle of the Somme",
            "Battle of Tulgas",
            "Fifth Battle of Ypres",
            "Operation Michael",
            "Battle of Drocourt-Quéant Line",
            "Battle of Cambrai",
            "Battle of the Scarpe",
            "Battle of Shenkursk",
            "Battle of Dunkirk",
            "Battle of the Caribbean",
            "Battle of Hong Kong",
            "Dieppe Raid",
            "Battle of the Bell Islands",
            "Battle of the St. Lawrence",
            "Allied invasion of Italy",
            "Battle of Ortona",
            "Bernhardt Line",
            "Battle of the Ruhr",
            "Battle of Attu",
            "Monte la Difensa",
            "Battle of Anzio",
            "Operation Tonga",
            "Falaise Pocket",
            "Battle of Pierres Noires",
            "Operation Diadem",
            "Battle of the Bulge",
            "Normandy landings",
            "Battle of Chambois",
            "Battle of Port Cros",
            "Battle of Monte Cassino",
            "Battle of Rimini",
            "Battle for Caen",
            "Invasion of Normandy",
            "battle of Moerbrugge",
            "Battle of Verrières Ridge",
            "Battle of Walcheren Causeway",
            "Battle of Le Mesnil-Patry",
            "Action of 26 April 1944",
            "Battle of Groningen",
            "Black Friday",
            "Operation Teardrop",
            "Battle of Okinawa",
            "Liberation of Arnhem",
            "Battle for the Kapelsche Veer",
            "Second Battle of Seoul",
            "Battle of Inchon",
            "Battle of Kapyong",
            "Battle of Maehwa-san",
            "First Battle of Maryang-san",
            "Battle of Chuam-ni",
            "Second Battle of the Hook",
            "Battle of Bubiyan",
            "Operation Anaconda",
            "Battle of Panjwaii",
            "Operation Medusa",
            "Operation Mountain Fury",
            "Friendly fire incident at Sangin",
            "Operation Achilles",
            "Battle of Arghandab",
            "Operation Moshtarak",
            "Operation Dragon Strike",
            "Battle of Misrata"
           ],
           "ids": [
            "Fenian raids",
            "North-West Rebellion",
            "North-West Rebellion",
            "North-West Rebellion",
            "North-West Rebellion",
            "North-West Rebellion",
            "North-West Rebellion",
            "North-West Rebellion",
            "Second Boer War",
            "Second Boer War",
            "Second Boer War",
            "Second Boer War",
            "Second Boer War",
            "Second Boer War",
            "World War I",
            "World War I",
            "Western Front of World War I",
            "Western Front of World War I",
            "Western Front of World War I",
            "Western Front of World War I",
            "Western Front of World War I",
            "Western Front of World War I",
            "Battle of the Somme",
            "Battle of the Somme",
            "Battle of the Somme",
            "Battle of the Somme",
            "Western Front of World War I",
            "Battle of the Somme",
            "Western Front of World War I",
            "Battle of the Somme",
            "Western Front of World War I",
            "Middle Eastern theatre of World War I",
            "Western Front of World War I",
            "World War I",
            "Middle Eastern theatre of World War I",
            "Western Front of World War I",
            "Battle of Passchendaele",
            "World War I",
            "Spring Offensive",
            "Hundred Days Offensive",
            "World War I",
            "Western Front of World War I",
            "Western Front of World War I",
            "Russian Civil War",
            "Western Front of World War I",
            "Spring Offensive",
            "World War I",
            "World War I",
            "Western Front of World War I",
            "North Russia Intervention",
            "World War II",
            "World War II",
            "Pacific War",
            "North West Europe Campaign",
            null,
            "World War II",
            "World War II",
            "Moro River Campaign",
            "Italian campaign",
            "strategic bombing during World War II",
            null,
            "Italian campaign",
            "Italian campaign",
            "Normandy landings",
            "Operation Overlord",
            "World War II",
            "Battle of Monte Cassino",
            null,
            "Invasion of Normandy",
            "World War II",
            "Mediterranean and Middle East theatre of World War II",
            null,
            "Italian campaign",
            "Operation Overlord",
            "Operation Overlord",
            null,
            "World War II",
            "Battle of the Scheldt",
            "World War II",
            "World War II",
            "World War II",
            "World War II",
            "World War II",
            "Pacific War",
            null,
            null,
            "Korean War",
            "Korean War",
            "Korean War",
            "Korean War",
            "Korean War",
            "Korean War",
            "Korean War",
            "Gulf War",
            "War in Afghanistan",
            "War in Afghanistan",
            "War in Afghanistan",
            "War in Afghanistan",
            "War in Afghanistan",
            "War in Afghanistan",
            "War in Afghanistan",
            "War in Afghanistan",
            "War in Afghanistan",
            "2011 Libyan Civil War"
           ],
           "lat": [
            45.087337493896484,
            52.60194396972656,
            53.62722396850586,
            52.81650924682617,
            53.65018,
            52.75600814819336,
            52.74530792236328,
            54.04055404663086,
            -25.783333333333,
            -29.913196563720703,
            -28.9825,
            -25.96666667,
            -25.649444,
            -28.9825,
            50.5294,
            50.54388889,
            50.89,
            50.899444444444,
            50.5,
            50.821388888889,
            50.585,
            50.054527777778,
            49.9067,
            50.051111,
            50.0316,
            50.057388888889,
            50.8464,
            50.0717,
            50.0155,
            50.05888889,
            50.900277777778,
            31.4893,
            50.289722222222,
            50.45555556,
            31.4893,
            50.7625,
            50.90027778,
            50.379,
            50.70555556,
            50.283333,
            49.7831,
            49.893913888889,
            49.968971252441406,
            62.594388,
            50.9003,
            49.85,
            50.391944444444,
            50.1767,
            50.270556,
            62.1,
            51.0343,
            15,
            22.2819,
            49.933333333333,
            47.625511169433594,
            48.90331268310547,
            40.679,
            42.35,
            41.40591812133789,
            51.5,
            52.879075,
            41.3833,
            41.443022,
            49.18100357055664,
            48.892777777778,
            48.21166667,
            41.96673583984375,
            50.6243,
            49.333333333333,
            48.8058,
            43.005,
            41.49,
            43.94709777832031,
            49.186111111111,
            49.333333333333,
            51.162322998046875,
            49.11038,
            51.5031,
            49.19583333,
            48.89720916748047,
            53.2186,
            61.46666667,
            40,
            26.5,
            51.9833,
            51.708,
            37.566680908203125,
            37.48333333,
            37.883333333333,
            37.016667,
            38.135,
            36.293739318847656,
            38.029111,
            27.238235473632812,
            33.366666666667,
            31.546222686767578,
            31.547777777778,
            32.39362335205078,
            31.589166666667,
            32.07333333,
            31.654722222222,
            31.516667,
            31.620643615722656,
            32.37753333
           ],
           "legendgroup": "",
           "lon": [
            -74.1738510131836,
            -105.9472198486328,
            -109.5758361816406,
            -106.2327270507812,
            -109.75154,
            -106.11793518066406,
            -109.0277633666992,
            -109.0008316040039,
            28.466666666667,
            23.604339599609375,
            25.09305556,
            30.05,
            26.706667,
            25.093055555556,
            2.75861,
            2.73611111,
            2.922,
            2.9405555555556,
            2.75,
            2.9316666666667,
            2.7775,
            2.6883888888889,
            2.47583,
            2.712778,
            2.8424,
            2.8877222222222,
            2.94361,
            2.78139,
            2.69742,
            2.74777778,
            3.0211111111111,
            34.4737,
            2.7808333333333,
            2.81902778,
            34.4737,
            2.8952777777778,
            3.02111111,
            2.774,
            2.9,
            3.116667,
            2.5,
            2.29425,
            2.37385892868042,
            43.507833,
            3.02111,
            3.28333,
            2.9275,
            3.23556,
            2.894167,
            42.91666667,
            2.3768194444444,
            -75,
            114.162,
            1.0833333333333,
            -52.96726608276367,
            -61.373878479003906,
            14.7566,
            14.4,
            13.985516548156738,
            7.5,
            173.15688889,
            13.93326944,
            12.624979,
            -0.369891494512558,
            -0.19194444444444,
            -4.91472222,
            13.370064735412598,
            6.13724,
            -0.56694444444444,
            0.106111,
            6.398611,
            13.813888888889,
            12.630768775939941,
            -0.3625,
            -0.56666666666667,
            3.2631185054779053,
            -0.33236,
            3.705,
            -0.54361111,
            -3.4731099605560303,
            6.56722,
            5.65,
            -40,
            128,
            5.91667,
            4.929,
            126.9782943725586,
            126.63333333,
            127.53333333333,
            127.45,
            126.92083333333,
            126.77681732177734,
            126.8425,
            51.197181701660156,
            69.183333333333,
            65.45999145507812,
            65.454166666667,
            68.70365142822266,
            64.363333333333,
            64.83388889,
            65.649444444444,
            64.116667,
            65.7157211303711,
            15.09201667
           ],
           "marker": {
            "color": "#636efa",
            "symbol": "circle"
           },
           "mode": "markers",
           "name": "",
           "showlegend": false,
           "type": "scattergeo"
          }
         ],
         "name": "2011"
        },
        {
         "data": [
          {
           "geo": "geo",
           "hovertemplate": "<b>%{hovertext}</b><br><br>year=2014<br>lat=%{lat}<br>lng=%{lon}<extra></extra>",
           "hovertext": [
            "Battle of Trout River",
            "Battle of Fish Creek",
            "Battle of Frenchman's Butte",
            "Battle of Duck Lake",
            "Battle of Fort Pitt",
            "Battle of Batoche",
            "Battle of Cut Knife",
            "Battle of Loon Lake",
            "Battle of Diamond Hill",
            "Battle of Witpoort",
            "Battle of Paardeberg",
            "Battle of Leliefontein",
            "Battle of Elands River",
            "Bloody Sunday",
            "Battle of Givenchy",
            "Battle of Festubert",
            "Battle of Kitcheners' Wood",
            "Second Battle of Ypres",
            "Second Battle of Artois",
            "Battle of Hill 60",
            "Battle of Neuve Chapelle",
            "Battle of Thiepval Ridge",
            "Battle of the Ancre Heights",
            "Battle of Mouquet Farm",
            "Battle of Morval",
            "Battle of Le Transloy",
            "Battle of Mont Sorrel",
            "Regina Trench",
            "Battle of the Somme",
            "Battle of Flers–Courcelette",
            "Battle of Passchendaele",
            "First Battle of Gaza",
            "Battle of Arras",
            "Battle of Hill 70",
            "Second Battle of Gaza",
            "Battle of Messines",
            "Second Battle of Passchendaele",
            "Battle of Vimy Ridge",
            "Battle of the Lys",
            "Battle of the Canal du Nord",
            "Battle of Moreuil Wood",
            "Battle of Amiens",
            "Second Battle of the Somme",
            "Battle of Tulgas",
            "Fifth Battle of Ypres",
            "Operation Michael",
            "Battle of Drocourt-Quéant Line",
            "Battle of Cambrai",
            "Battle of the Scarpe",
            "Battle of Shenkursk",
            "Battle of Dunkirk",
            "Battle of the Caribbean",
            "Battle of Hong Kong",
            "Dieppe Raid",
            "Battle of the Bell Islands",
            "Battle of the St. Lawrence",
            "Allied invasion of Italy",
            "Battle of Ortona",
            "Bernhardt Line",
            "Battle of the Ruhr",
            "Battle of Attu",
            "Monte la Difensa",
            "Battle of Anzio",
            "Operation Tonga",
            "Falaise Pocket",
            "Battle of Pierres Noires",
            "Operation Diadem",
            "Battle of the Bulge",
            "Normandy landings",
            "Battle of Chambois",
            "Battle of Port Cros",
            "Battle of Monte Cassino",
            "Battle of Rimini",
            "Battle for Caen",
            "Invasion of Normandy",
            "battle of Moerbrugge",
            "Battle of Verrières Ridge",
            "Battle of Walcheren Causeway",
            "Battle of Le Mesnil-Patry",
            "Action of 26 April 1944",
            "Battle of Groningen",
            "Black Friday",
            "Operation Teardrop",
            "Battle of Okinawa",
            "Liberation of Arnhem",
            "Battle for the Kapelsche Veer",
            "Second Battle of Seoul",
            "Battle of Inchon",
            "Battle of Kapyong",
            "Battle of Maehwa-san",
            "First Battle of Maryang-san",
            "Battle of Chuam-ni",
            "Second Battle of the Hook",
            "Battle of Bubiyan",
            "Operation Anaconda",
            "Battle of Panjwaii",
            "Operation Medusa",
            "Operation Mountain Fury",
            "Friendly fire incident at Sangin",
            "Operation Achilles",
            "Battle of Arghandab",
            "Operation Moshtarak",
            "Operation Dragon Strike",
            "Battle of Misrata",
            "Battle of Ramadi",
            "Battle of Baiji"
           ],
           "ids": [
            "Fenian raids",
            "North-West Rebellion",
            "North-West Rebellion",
            "North-West Rebellion",
            "North-West Rebellion",
            "North-West Rebellion",
            "North-West Rebellion",
            "North-West Rebellion",
            "Second Boer War",
            "Second Boer War",
            "Second Boer War",
            "Second Boer War",
            "Second Boer War",
            "Second Boer War",
            "World War I",
            "World War I",
            "Western Front of World War I",
            "Western Front of World War I",
            "Western Front of World War I",
            "Western Front of World War I",
            "Western Front of World War I",
            "Western Front of World War I",
            "Battle of the Somme",
            "Battle of the Somme",
            "Battle of the Somme",
            "Battle of the Somme",
            "Western Front of World War I",
            "Battle of the Somme",
            "Western Front of World War I",
            "Battle of the Somme",
            "Western Front of World War I",
            "Middle Eastern theatre of World War I",
            "Western Front of World War I",
            "World War I",
            "Middle Eastern theatre of World War I",
            "Western Front of World War I",
            "Battle of Passchendaele",
            "World War I",
            "Spring Offensive",
            "Hundred Days Offensive",
            "World War I",
            "Western Front of World War I",
            "Western Front of World War I",
            "Russian Civil War",
            "Western Front of World War I",
            "Spring Offensive",
            "World War I",
            "World War I",
            "Western Front of World War I",
            "North Russia Intervention",
            "World War II",
            "World War II",
            "Pacific War",
            "North West Europe Campaign",
            null,
            "World War II",
            "World War II",
            "Moro River Campaign",
            "Italian campaign",
            "strategic bombing during World War II",
            null,
            "Italian campaign",
            "Italian campaign",
            "Normandy landings",
            "Operation Overlord",
            "World War II",
            "Battle of Monte Cassino",
            null,
            "Invasion of Normandy",
            "World War II",
            "Mediterranean and Middle East theatre of World War II",
            null,
            "Italian campaign",
            "Operation Overlord",
            "Operation Overlord",
            null,
            "World War II",
            "Battle of the Scheldt",
            "World War II",
            "World War II",
            "World War II",
            "World War II",
            "World War II",
            "Pacific War",
            null,
            null,
            "Korean War",
            "Korean War",
            "Korean War",
            "Korean War",
            "Korean War",
            "Korean War",
            "Korean War",
            "Gulf War",
            "War in Afghanistan",
            "War in Afghanistan",
            "War in Afghanistan",
            "War in Afghanistan",
            "War in Afghanistan",
            "War in Afghanistan",
            "War in Afghanistan",
            "War in Afghanistan",
            "War in Afghanistan",
            "2011 Libyan Civil War",
            "Anbar offensive",
            "Iraqi Civil War (2014–2017)"
           ],
           "lat": [
            45.087337493896484,
            52.60194396972656,
            53.62722396850586,
            52.81650924682617,
            53.65018,
            52.75600814819336,
            52.74530792236328,
            54.04055404663086,
            -25.783333333333,
            -29.913196563720703,
            -28.9825,
            -25.96666667,
            -25.649444,
            -28.9825,
            50.5294,
            50.54388889,
            50.89,
            50.899444444444,
            50.5,
            50.821388888889,
            50.585,
            50.054527777778,
            49.9067,
            50.051111,
            50.0316,
            50.057388888889,
            50.8464,
            50.0717,
            50.0155,
            50.05888889,
            50.900277777778,
            31.4893,
            50.289722222222,
            50.45555556,
            31.4893,
            50.7625,
            50.90027778,
            50.379,
            50.70555556,
            50.283333,
            49.7831,
            49.893913888889,
            49.968971252441406,
            62.594388,
            50.9003,
            49.85,
            50.391944444444,
            50.1767,
            50.270556,
            62.1,
            51.0343,
            15,
            22.2819,
            49.933333333333,
            47.625511169433594,
            48.90331268310547,
            40.679,
            42.35,
            41.40591812133789,
            51.5,
            52.879075,
            41.3833,
            41.443022,
            49.18100357055664,
            48.892777777778,
            48.21166667,
            41.96673583984375,
            50.6243,
            49.333333333333,
            48.8058,
            43.005,
            41.49,
            43.94709777832031,
            49.186111111111,
            49.333333333333,
            51.162322998046875,
            49.11038,
            51.5031,
            49.19583333,
            48.89720916748047,
            53.2186,
            61.46666667,
            40,
            26.5,
            51.9833,
            51.708,
            37.566680908203125,
            37.48333333,
            37.883333333333,
            37.016667,
            38.135,
            36.293739318847656,
            38.029111,
            27.238235473632812,
            33.366666666667,
            31.546222686767578,
            31.547777777778,
            32.39362335205078,
            31.589166666667,
            32.07333333,
            31.654722222222,
            31.516667,
            31.620643615722656,
            32.37753333,
            33.416666666667,
            34.933333333333
           ],
           "legendgroup": "",
           "lon": [
            -74.1738510131836,
            -105.9472198486328,
            -109.5758361816406,
            -106.2327270507812,
            -109.75154,
            -106.11793518066406,
            -109.0277633666992,
            -109.0008316040039,
            28.466666666667,
            23.604339599609375,
            25.09305556,
            30.05,
            26.706667,
            25.093055555556,
            2.75861,
            2.73611111,
            2.922,
            2.9405555555556,
            2.75,
            2.9316666666667,
            2.7775,
            2.6883888888889,
            2.47583,
            2.712778,
            2.8424,
            2.8877222222222,
            2.94361,
            2.78139,
            2.69742,
            2.74777778,
            3.0211111111111,
            34.4737,
            2.7808333333333,
            2.81902778,
            34.4737,
            2.8952777777778,
            3.02111111,
            2.774,
            2.9,
            3.116667,
            2.5,
            2.29425,
            2.37385892868042,
            43.507833,
            3.02111,
            3.28333,
            2.9275,
            3.23556,
            2.894167,
            42.91666667,
            2.3768194444444,
            -75,
            114.162,
            1.0833333333333,
            -52.96726608276367,
            -61.373878479003906,
            14.7566,
            14.4,
            13.985516548156738,
            7.5,
            173.15688889,
            13.93326944,
            12.624979,
            -0.369891494512558,
            -0.19194444444444,
            -4.91472222,
            13.370064735412598,
            6.13724,
            -0.56694444444444,
            0.106111,
            6.398611,
            13.813888888889,
            12.630768775939941,
            -0.3625,
            -0.56666666666667,
            3.2631185054779053,
            -0.33236,
            3.705,
            -0.54361111,
            -3.4731099605560303,
            6.56722,
            5.65,
            -40,
            128,
            5.91667,
            4.929,
            126.9782943725586,
            126.63333333,
            127.53333333333,
            127.45,
            126.92083333333,
            126.77681732177734,
            126.8425,
            51.197181701660156,
            69.183333333333,
            65.45999145507812,
            65.454166666667,
            68.70365142822266,
            64.363333333333,
            64.83388889,
            65.649444444444,
            64.116667,
            65.7157211303711,
            15.09201667,
            43.3,
            43.483333333333
           ],
           "marker": {
            "color": "#636efa",
            "symbol": "circle"
           },
           "mode": "markers",
           "name": "",
           "showlegend": false,
           "type": "scattergeo"
          }
         ],
         "name": "2014"
        },
        {
         "data": [
          {
           "geo": "geo",
           "hovertemplate": "<b>%{hovertext}</b><br><br>year=2015<br>lat=%{lat}<br>lng=%{lon}<extra></extra>",
           "hovertext": [
            "Battle of Trout River",
            "Battle of Fish Creek",
            "Battle of Frenchman's Butte",
            "Battle of Duck Lake",
            "Battle of Fort Pitt",
            "Battle of Batoche",
            "Battle of Cut Knife",
            "Battle of Loon Lake",
            "Battle of Diamond Hill",
            "Battle of Witpoort",
            "Battle of Paardeberg",
            "Battle of Leliefontein",
            "Battle of Elands River",
            "Bloody Sunday",
            "Battle of Givenchy",
            "Battle of Festubert",
            "Battle of Kitcheners' Wood",
            "Second Battle of Ypres",
            "Second Battle of Artois",
            "Battle of Hill 60",
            "Battle of Neuve Chapelle",
            "Battle of Thiepval Ridge",
            "Battle of the Ancre Heights",
            "Battle of Mouquet Farm",
            "Battle of Morval",
            "Battle of Le Transloy",
            "Battle of Mont Sorrel",
            "Regina Trench",
            "Battle of the Somme",
            "Battle of Flers–Courcelette",
            "Battle of Passchendaele",
            "First Battle of Gaza",
            "Battle of Arras",
            "Battle of Hill 70",
            "Second Battle of Gaza",
            "Battle of Messines",
            "Second Battle of Passchendaele",
            "Battle of Vimy Ridge",
            "Battle of the Lys",
            "Battle of the Canal du Nord",
            "Battle of Moreuil Wood",
            "Battle of Amiens",
            "Second Battle of the Somme",
            "Battle of Tulgas",
            "Fifth Battle of Ypres",
            "Operation Michael",
            "Battle of Drocourt-Quéant Line",
            "Battle of Cambrai",
            "Battle of the Scarpe",
            "Battle of Shenkursk",
            "Battle of Dunkirk",
            "Battle of the Caribbean",
            "Battle of Hong Kong",
            "Dieppe Raid",
            "Battle of the Bell Islands",
            "Battle of the St. Lawrence",
            "Allied invasion of Italy",
            "Battle of Ortona",
            "Bernhardt Line",
            "Battle of the Ruhr",
            "Battle of Attu",
            "Monte la Difensa",
            "Battle of Anzio",
            "Operation Tonga",
            "Falaise Pocket",
            "Battle of Pierres Noires",
            "Operation Diadem",
            "Battle of the Bulge",
            "Normandy landings",
            "Battle of Chambois",
            "Battle of Port Cros",
            "Battle of Monte Cassino",
            "Battle of Rimini",
            "Battle for Caen",
            "Invasion of Normandy",
            "battle of Moerbrugge",
            "Battle of Verrières Ridge",
            "Battle of Walcheren Causeway",
            "Battle of Le Mesnil-Patry",
            "Action of 26 April 1944",
            "Battle of Groningen",
            "Black Friday",
            "Operation Teardrop",
            "Battle of Okinawa",
            "Liberation of Arnhem",
            "Battle for the Kapelsche Veer",
            "Second Battle of Seoul",
            "Battle of Inchon",
            "Battle of Kapyong",
            "Battle of Maehwa-san",
            "First Battle of Maryang-san",
            "Battle of Chuam-ni",
            "Second Battle of the Hook",
            "Battle of Bubiyan",
            "Operation Anaconda",
            "Battle of Panjwaii",
            "Operation Medusa",
            "Operation Mountain Fury",
            "Friendly fire incident at Sangin",
            "Operation Achilles",
            "Battle of Arghandab",
            "Operation Moshtarak",
            "Operation Dragon Strike",
            "Battle of Misrata",
            "Battle of Ramadi",
            "Battle of Ramadi",
            "Battle of Baiji"
           ],
           "ids": [
            "Fenian raids",
            "North-West Rebellion",
            "North-West Rebellion",
            "North-West Rebellion",
            "North-West Rebellion",
            "North-West Rebellion",
            "North-West Rebellion",
            "North-West Rebellion",
            "Second Boer War",
            "Second Boer War",
            "Second Boer War",
            "Second Boer War",
            "Second Boer War",
            "Second Boer War",
            "World War I",
            "World War I",
            "Western Front of World War I",
            "Western Front of World War I",
            "Western Front of World War I",
            "Western Front of World War I",
            "Western Front of World War I",
            "Western Front of World War I",
            "Battle of the Somme",
            "Battle of the Somme",
            "Battle of the Somme",
            "Battle of the Somme",
            "Western Front of World War I",
            "Battle of the Somme",
            "Western Front of World War I",
            "Battle of the Somme",
            "Western Front of World War I",
            "Middle Eastern theatre of World War I",
            "Western Front of World War I",
            "World War I",
            "Middle Eastern theatre of World War I",
            "Western Front of World War I",
            "Battle of Passchendaele",
            "World War I",
            "Spring Offensive",
            "Hundred Days Offensive",
            "World War I",
            "Western Front of World War I",
            "Western Front of World War I",
            "Russian Civil War",
            "Western Front of World War I",
            "Spring Offensive",
            "World War I",
            "World War I",
            "Western Front of World War I",
            "North Russia Intervention",
            "World War II",
            "World War II",
            "Pacific War",
            "North West Europe Campaign",
            null,
            "World War II",
            "World War II",
            "Moro River Campaign",
            "Italian campaign",
            "strategic bombing during World War II",
            null,
            "Italian campaign",
            "Italian campaign",
            "Normandy landings",
            "Operation Overlord",
            "World War II",
            "Battle of Monte Cassino",
            null,
            "Invasion of Normandy",
            "World War II",
            "Mediterranean and Middle East theatre of World War II",
            null,
            "Italian campaign",
            "Operation Overlord",
            "Operation Overlord",
            null,
            "World War II",
            "Battle of the Scheldt",
            "World War II",
            "World War II",
            "World War II",
            "World War II",
            "World War II",
            "Pacific War",
            null,
            null,
            "Korean War",
            "Korean War",
            "Korean War",
            "Korean War",
            "Korean War",
            "Korean War",
            "Korean War",
            "Gulf War",
            "War in Afghanistan",
            "War in Afghanistan",
            "War in Afghanistan",
            "War in Afghanistan",
            "War in Afghanistan",
            "War in Afghanistan",
            "War in Afghanistan",
            "War in Afghanistan",
            "War in Afghanistan",
            "2011 Libyan Civil War",
            "Anbar offensive",
            "Iraqi Civil War (2014–2017)",
            "Iraqi Civil War (2014–2017)"
           ],
           "lat": [
            45.087337493896484,
            52.60194396972656,
            53.62722396850586,
            52.81650924682617,
            53.65018,
            52.75600814819336,
            52.74530792236328,
            54.04055404663086,
            -25.783333333333,
            -29.913196563720703,
            -28.9825,
            -25.96666667,
            -25.649444,
            -28.9825,
            50.5294,
            50.54388889,
            50.89,
            50.899444444444,
            50.5,
            50.821388888889,
            50.585,
            50.054527777778,
            49.9067,
            50.051111,
            50.0316,
            50.057388888889,
            50.8464,
            50.0717,
            50.0155,
            50.05888889,
            50.900277777778,
            31.4893,
            50.289722222222,
            50.45555556,
            31.4893,
            50.7625,
            50.90027778,
            50.379,
            50.70555556,
            50.283333,
            49.7831,
            49.893913888889,
            49.968971252441406,
            62.594388,
            50.9003,
            49.85,
            50.391944444444,
            50.1767,
            50.270556,
            62.1,
            51.0343,
            15,
            22.2819,
            49.933333333333,
            47.625511169433594,
            48.90331268310547,
            40.679,
            42.35,
            41.40591812133789,
            51.5,
            52.879075,
            41.3833,
            41.443022,
            49.18100357055664,
            48.892777777778,
            48.21166667,
            41.96673583984375,
            50.6243,
            49.333333333333,
            48.8058,
            43.005,
            41.49,
            43.94709777832031,
            49.186111111111,
            49.333333333333,
            51.162322998046875,
            49.11038,
            51.5031,
            49.19583333,
            48.89720916748047,
            53.2186,
            61.46666667,
            40,
            26.5,
            51.9833,
            51.708,
            37.566680908203125,
            37.48333333,
            37.883333333333,
            37.016667,
            38.135,
            36.293739318847656,
            38.029111,
            27.238235473632812,
            33.366666666667,
            31.546222686767578,
            31.547777777778,
            32.39362335205078,
            31.589166666667,
            32.07333333,
            31.654722222222,
            31.516667,
            31.620643615722656,
            32.37753333,
            33.416666666667,
            33.416666666667,
            34.933333333333
           ],
           "legendgroup": "",
           "lon": [
            -74.1738510131836,
            -105.9472198486328,
            -109.5758361816406,
            -106.2327270507812,
            -109.75154,
            -106.11793518066406,
            -109.0277633666992,
            -109.0008316040039,
            28.466666666667,
            23.604339599609375,
            25.09305556,
            30.05,
            26.706667,
            25.093055555556,
            2.75861,
            2.73611111,
            2.922,
            2.9405555555556,
            2.75,
            2.9316666666667,
            2.7775,
            2.6883888888889,
            2.47583,
            2.712778,
            2.8424,
            2.8877222222222,
            2.94361,
            2.78139,
            2.69742,
            2.74777778,
            3.0211111111111,
            34.4737,
            2.7808333333333,
            2.81902778,
            34.4737,
            2.8952777777778,
            3.02111111,
            2.774,
            2.9,
            3.116667,
            2.5,
            2.29425,
            2.37385892868042,
            43.507833,
            3.02111,
            3.28333,
            2.9275,
            3.23556,
            2.894167,
            42.91666667,
            2.3768194444444,
            -75,
            114.162,
            1.0833333333333,
            -52.96726608276367,
            -61.373878479003906,
            14.7566,
            14.4,
            13.985516548156738,
            7.5,
            173.15688889,
            13.93326944,
            12.624979,
            -0.369891494512558,
            -0.19194444444444,
            -4.91472222,
            13.370064735412598,
            6.13724,
            -0.56694444444444,
            0.106111,
            6.398611,
            13.813888888889,
            12.630768775939941,
            -0.3625,
            -0.56666666666667,
            3.2631185054779053,
            -0.33236,
            3.705,
            -0.54361111,
            -3.4731099605560303,
            6.56722,
            5.65,
            -40,
            128,
            5.91667,
            4.929,
            126.9782943725586,
            126.63333333,
            127.53333333333,
            127.45,
            126.92083333333,
            126.77681732177734,
            126.8425,
            51.197181701660156,
            69.183333333333,
            65.45999145507812,
            65.454166666667,
            68.70365142822266,
            64.363333333333,
            64.83388889,
            65.649444444444,
            64.116667,
            65.7157211303711,
            15.09201667,
            43.3,
            43.3,
            43.483333333333
           ],
           "marker": {
            "color": "#636efa",
            "symbol": "circle"
           },
           "mode": "markers",
           "name": "",
           "showlegend": false,
           "type": "scattergeo"
          }
         ],
         "name": "2015"
        },
        {
         "data": [
          {
           "geo": "geo",
           "hovertemplate": "<b>%{hovertext}</b><br><br>year=2016<br>lat=%{lat}<br>lng=%{lon}<extra></extra>",
           "hovertext": [
            "Battle of Trout River",
            "Battle of Fish Creek",
            "Battle of Frenchman's Butte",
            "Battle of Duck Lake",
            "Battle of Fort Pitt",
            "Battle of Batoche",
            "Battle of Cut Knife",
            "Battle of Loon Lake",
            "Battle of Diamond Hill",
            "Battle of Witpoort",
            "Battle of Paardeberg",
            "Battle of Leliefontein",
            "Battle of Elands River",
            "Bloody Sunday",
            "Battle of Givenchy",
            "Battle of Festubert",
            "Battle of Kitcheners' Wood",
            "Second Battle of Ypres",
            "Second Battle of Artois",
            "Battle of Hill 60",
            "Battle of Neuve Chapelle",
            "Battle of Thiepval Ridge",
            "Battle of the Ancre Heights",
            "Battle of Mouquet Farm",
            "Battle of Morval",
            "Battle of Le Transloy",
            "Battle of Mont Sorrel",
            "Regina Trench",
            "Battle of the Somme",
            "Battle of Flers–Courcelette",
            "Battle of Passchendaele",
            "First Battle of Gaza",
            "Battle of Arras",
            "Battle of Hill 70",
            "Second Battle of Gaza",
            "Battle of Messines",
            "Second Battle of Passchendaele",
            "Battle of Vimy Ridge",
            "Battle of the Lys",
            "Battle of the Canal du Nord",
            "Battle of Moreuil Wood",
            "Battle of Amiens",
            "Second Battle of the Somme",
            "Battle of Tulgas",
            "Fifth Battle of Ypres",
            "Operation Michael",
            "Battle of Drocourt-Quéant Line",
            "Battle of Cambrai",
            "Battle of the Scarpe",
            "Battle of Shenkursk",
            "Battle of Dunkirk",
            "Battle of the Caribbean",
            "Battle of Hong Kong",
            "Dieppe Raid",
            "Battle of the Bell Islands",
            "Battle of the St. Lawrence",
            "Allied invasion of Italy",
            "Battle of Ortona",
            "Bernhardt Line",
            "Battle of the Ruhr",
            "Battle of Attu",
            "Monte la Difensa",
            "Battle of Anzio",
            "Operation Tonga",
            "Falaise Pocket",
            "Battle of Pierres Noires",
            "Operation Diadem",
            "Battle of the Bulge",
            "Normandy landings",
            "Battle of Chambois",
            "Battle of Port Cros",
            "Battle of Monte Cassino",
            "Battle of Rimini",
            "Battle for Caen",
            "Invasion of Normandy",
            "battle of Moerbrugge",
            "Battle of Verrières Ridge",
            "Battle of Walcheren Causeway",
            "Battle of Le Mesnil-Patry",
            "Action of 26 April 1944",
            "Battle of Groningen",
            "Black Friday",
            "Operation Teardrop",
            "Battle of Okinawa",
            "Liberation of Arnhem",
            "Battle for the Kapelsche Veer",
            "Second Battle of Seoul",
            "Battle of Inchon",
            "Battle of Kapyong",
            "Battle of Maehwa-san",
            "First Battle of Maryang-san",
            "Battle of Chuam-ni",
            "Second Battle of the Hook",
            "Battle of Bubiyan",
            "Operation Anaconda",
            "Battle of Panjwaii",
            "Operation Medusa",
            "Operation Mountain Fury",
            "Friendly fire incident at Sangin",
            "Operation Achilles",
            "Battle of Arghandab",
            "Operation Moshtarak",
            "Operation Dragon Strike",
            "Battle of Misrata",
            "Battle of Ramadi",
            "Battle of Ramadi",
            "Battle of Baiji",
            "Battle of Mosul (2016–17)"
           ],
           "ids": [
            "Fenian raids",
            "North-West Rebellion",
            "North-West Rebellion",
            "North-West Rebellion",
            "North-West Rebellion",
            "North-West Rebellion",
            "North-West Rebellion",
            "North-West Rebellion",
            "Second Boer War",
            "Second Boer War",
            "Second Boer War",
            "Second Boer War",
            "Second Boer War",
            "Second Boer War",
            "World War I",
            "World War I",
            "Western Front of World War I",
            "Western Front of World War I",
            "Western Front of World War I",
            "Western Front of World War I",
            "Western Front of World War I",
            "Western Front of World War I",
            "Battle of the Somme",
            "Battle of the Somme",
            "Battle of the Somme",
            "Battle of the Somme",
            "Western Front of World War I",
            "Battle of the Somme",
            "Western Front of World War I",
            "Battle of the Somme",
            "Western Front of World War I",
            "Middle Eastern theatre of World War I",
            "Western Front of World War I",
            "World War I",
            "Middle Eastern theatre of World War I",
            "Western Front of World War I",
            "Battle of Passchendaele",
            "World War I",
            "Spring Offensive",
            "Hundred Days Offensive",
            "World War I",
            "Western Front of World War I",
            "Western Front of World War I",
            "Russian Civil War",
            "Western Front of World War I",
            "Spring Offensive",
            "World War I",
            "World War I",
            "Western Front of World War I",
            "North Russia Intervention",
            "World War II",
            "World War II",
            "Pacific War",
            "North West Europe Campaign",
            null,
            "World War II",
            "World War II",
            "Moro River Campaign",
            "Italian campaign",
            "strategic bombing during World War II",
            null,
            "Italian campaign",
            "Italian campaign",
            "Normandy landings",
            "Operation Overlord",
            "World War II",
            "Battle of Monte Cassino",
            null,
            "Invasion of Normandy",
            "World War II",
            "Mediterranean and Middle East theatre of World War II",
            null,
            "Italian campaign",
            "Operation Overlord",
            "Operation Overlord",
            null,
            "World War II",
            "Battle of the Scheldt",
            "World War II",
            "World War II",
            "World War II",
            "World War II",
            "World War II",
            "Pacific War",
            null,
            null,
            "Korean War",
            "Korean War",
            "Korean War",
            "Korean War",
            "Korean War",
            "Korean War",
            "Korean War",
            "Gulf War",
            "War in Afghanistan",
            "War in Afghanistan",
            "War in Afghanistan",
            "War in Afghanistan",
            "War in Afghanistan",
            "War in Afghanistan",
            "War in Afghanistan",
            "War in Afghanistan",
            "War in Afghanistan",
            "2011 Libyan Civil War",
            "Anbar offensive",
            "Iraqi Civil War (2014–2017)",
            "Iraqi Civil War (2014–2017)",
            "American-led intervention in Iraq (2014–present)"
           ],
           "lat": [
            45.087337493896484,
            52.60194396972656,
            53.62722396850586,
            52.81650924682617,
            53.65018,
            52.75600814819336,
            52.74530792236328,
            54.04055404663086,
            -25.783333333333,
            -29.913196563720703,
            -28.9825,
            -25.96666667,
            -25.649444,
            -28.9825,
            50.5294,
            50.54388889,
            50.89,
            50.899444444444,
            50.5,
            50.821388888889,
            50.585,
            50.054527777778,
            49.9067,
            50.051111,
            50.0316,
            50.057388888889,
            50.8464,
            50.0717,
            50.0155,
            50.05888889,
            50.900277777778,
            31.4893,
            50.289722222222,
            50.45555556,
            31.4893,
            50.7625,
            50.90027778,
            50.379,
            50.70555556,
            50.283333,
            49.7831,
            49.893913888889,
            49.968971252441406,
            62.594388,
            50.9003,
            49.85,
            50.391944444444,
            50.1767,
            50.270556,
            62.1,
            51.0343,
            15,
            22.2819,
            49.933333333333,
            47.625511169433594,
            48.90331268310547,
            40.679,
            42.35,
            41.40591812133789,
            51.5,
            52.879075,
            41.3833,
            41.443022,
            49.18100357055664,
            48.892777777778,
            48.21166667,
            41.96673583984375,
            50.6243,
            49.333333333333,
            48.8058,
            43.005,
            41.49,
            43.94709777832031,
            49.186111111111,
            49.333333333333,
            51.162322998046875,
            49.11038,
            51.5031,
            49.19583333,
            48.89720916748047,
            53.2186,
            61.46666667,
            40,
            26.5,
            51.9833,
            51.708,
            37.566680908203125,
            37.48333333,
            37.883333333333,
            37.016667,
            38.135,
            36.293739318847656,
            38.029111,
            27.238235473632812,
            33.366666666667,
            31.546222686767578,
            31.547777777778,
            32.39362335205078,
            31.589166666667,
            32.07333333,
            31.654722222222,
            31.516667,
            31.620643615722656,
            32.37753333,
            33.416666666667,
            33.416666666667,
            34.933333333333,
            36.337222222222
           ],
           "legendgroup": "",
           "lon": [
            -74.1738510131836,
            -105.9472198486328,
            -109.5758361816406,
            -106.2327270507812,
            -109.75154,
            -106.11793518066406,
            -109.0277633666992,
            -109.0008316040039,
            28.466666666667,
            23.604339599609375,
            25.09305556,
            30.05,
            26.706667,
            25.093055555556,
            2.75861,
            2.73611111,
            2.922,
            2.9405555555556,
            2.75,
            2.9316666666667,
            2.7775,
            2.6883888888889,
            2.47583,
            2.712778,
            2.8424,
            2.8877222222222,
            2.94361,
            2.78139,
            2.69742,
            2.74777778,
            3.0211111111111,
            34.4737,
            2.7808333333333,
            2.81902778,
            34.4737,
            2.8952777777778,
            3.02111111,
            2.774,
            2.9,
            3.116667,
            2.5,
            2.29425,
            2.37385892868042,
            43.507833,
            3.02111,
            3.28333,
            2.9275,
            3.23556,
            2.894167,
            42.91666667,
            2.3768194444444,
            -75,
            114.162,
            1.0833333333333,
            -52.96726608276367,
            -61.373878479003906,
            14.7566,
            14.4,
            13.985516548156738,
            7.5,
            173.15688889,
            13.93326944,
            12.624979,
            -0.369891494512558,
            -0.19194444444444,
            -4.91472222,
            13.370064735412598,
            6.13724,
            -0.56694444444444,
            0.106111,
            6.398611,
            13.813888888889,
            12.630768775939941,
            -0.3625,
            -0.56666666666667,
            3.2631185054779053,
            -0.33236,
            3.705,
            -0.54361111,
            -3.4731099605560303,
            6.56722,
            5.65,
            -40,
            128,
            5.91667,
            4.929,
            126.9782943725586,
            126.63333333,
            127.53333333333,
            127.45,
            126.92083333333,
            126.77681732177734,
            126.8425,
            51.197181701660156,
            69.183333333333,
            65.45999145507812,
            65.454166666667,
            68.70365142822266,
            64.363333333333,
            64.83388889,
            65.649444444444,
            64.116667,
            65.7157211303711,
            15.09201667,
            43.3,
            43.3,
            43.483333333333,
            43.135833333333
           ],
           "marker": {
            "color": "#636efa",
            "symbol": "circle"
           },
           "mode": "markers",
           "name": "",
           "showlegend": false,
           "type": "scattergeo"
          }
         ],
         "name": "2016"
        }
       ],
       "layout": {
        "geo": {
         "center": {},
         "domain": {
          "x": [
           0,
           1
          ],
          "y": [
           0,
           1
          ]
         }
        },
        "height": 800,
        "legend": {
         "tracegroupgap": 0
        },
        "sliders": [
         {
          "active": 0,
          "currentvalue": {
           "prefix": "year="
          },
          "len": 0.9,
          "pad": {
           "b": 10,
           "t": 60
          },
          "steps": [
           {
            "args": [
             [
              "1870"
             ],
             {
              "frame": {
               "duration": 0,
               "redraw": true
              },
              "fromcurrent": true,
              "mode": "immediate",
              "transition": {
               "duration": 0,
               "easing": "linear"
              }
             }
            ],
            "label": "1870",
            "method": "animate"
           },
           {
            "args": [
             [
              "1885"
             ],
             {
              "frame": {
               "duration": 0,
               "redraw": true
              },
              "fromcurrent": true,
              "mode": "immediate",
              "transition": {
               "duration": 0,
               "easing": "linear"
              }
             }
            ],
            "label": "1885",
            "method": "animate"
           },
           {
            "args": [
             [
              "1900"
             ],
             {
              "frame": {
               "duration": 0,
               "redraw": true
              },
              "fromcurrent": true,
              "mode": "immediate",
              "transition": {
               "duration": 0,
               "easing": "linear"
              }
             }
            ],
            "label": "1900",
            "method": "animate"
           },
           {
            "args": [
             [
              "1914"
             ],
             {
              "frame": {
               "duration": 0,
               "redraw": true
              },
              "fromcurrent": true,
              "mode": "immediate",
              "transition": {
               "duration": 0,
               "easing": "linear"
              }
             }
            ],
            "label": "1914",
            "method": "animate"
           },
           {
            "args": [
             [
              "1915"
             ],
             {
              "frame": {
               "duration": 0,
               "redraw": true
              },
              "fromcurrent": true,
              "mode": "immediate",
              "transition": {
               "duration": 0,
               "easing": "linear"
              }
             }
            ],
            "label": "1915",
            "method": "animate"
           },
           {
            "args": [
             [
              "1916"
             ],
             {
              "frame": {
               "duration": 0,
               "redraw": true
              },
              "fromcurrent": true,
              "mode": "immediate",
              "transition": {
               "duration": 0,
               "easing": "linear"
              }
             }
            ],
            "label": "1916",
            "method": "animate"
           },
           {
            "args": [
             [
              "1917"
             ],
             {
              "frame": {
               "duration": 0,
               "redraw": true
              },
              "fromcurrent": true,
              "mode": "immediate",
              "transition": {
               "duration": 0,
               "easing": "linear"
              }
             }
            ],
            "label": "1917",
            "method": "animate"
           },
           {
            "args": [
             [
              "1918"
             ],
             {
              "frame": {
               "duration": 0,
               "redraw": true
              },
              "fromcurrent": true,
              "mode": "immediate",
              "transition": {
               "duration": 0,
               "easing": "linear"
              }
             }
            ],
            "label": "1918",
            "method": "animate"
           },
           {
            "args": [
             [
              "1919"
             ],
             {
              "frame": {
               "duration": 0,
               "redraw": true
              },
              "fromcurrent": true,
              "mode": "immediate",
              "transition": {
               "duration": 0,
               "easing": "linear"
              }
             }
            ],
            "label": "1919",
            "method": "animate"
           },
           {
            "args": [
             [
              "1940"
             ],
             {
              "frame": {
               "duration": 0,
               "redraw": true
              },
              "fromcurrent": true,
              "mode": "immediate",
              "transition": {
               "duration": 0,
               "easing": "linear"
              }
             }
            ],
            "label": "1940",
            "method": "animate"
           },
           {
            "args": [
             [
              "1941"
             ],
             {
              "frame": {
               "duration": 0,
               "redraw": true
              },
              "fromcurrent": true,
              "mode": "immediate",
              "transition": {
               "duration": 0,
               "easing": "linear"
              }
             }
            ],
            "label": "1941",
            "method": "animate"
           },
           {
            "args": [
             [
              "1942"
             ],
             {
              "frame": {
               "duration": 0,
               "redraw": true
              },
              "fromcurrent": true,
              "mode": "immediate",
              "transition": {
               "duration": 0,
               "easing": "linear"
              }
             }
            ],
            "label": "1942",
            "method": "animate"
           },
           {
            "args": [
             [
              "1943"
             ],
             {
              "frame": {
               "duration": 0,
               "redraw": true
              },
              "fromcurrent": true,
              "mode": "immediate",
              "transition": {
               "duration": 0,
               "easing": "linear"
              }
             }
            ],
            "label": "1943",
            "method": "animate"
           },
           {
            "args": [
             [
              "1944"
             ],
             {
              "frame": {
               "duration": 0,
               "redraw": true
              },
              "fromcurrent": true,
              "mode": "immediate",
              "transition": {
               "duration": 0,
               "easing": "linear"
              }
             }
            ],
            "label": "1944",
            "method": "animate"
           },
           {
            "args": [
             [
              "1945"
             ],
             {
              "frame": {
               "duration": 0,
               "redraw": true
              },
              "fromcurrent": true,
              "mode": "immediate",
              "transition": {
               "duration": 0,
               "easing": "linear"
              }
             }
            ],
            "label": "1945",
            "method": "animate"
           },
           {
            "args": [
             [
              "1950"
             ],
             {
              "frame": {
               "duration": 0,
               "redraw": true
              },
              "fromcurrent": true,
              "mode": "immediate",
              "transition": {
               "duration": 0,
               "easing": "linear"
              }
             }
            ],
            "label": "1950",
            "method": "animate"
           },
           {
            "args": [
             [
              "1951"
             ],
             {
              "frame": {
               "duration": 0,
               "redraw": true
              },
              "fromcurrent": true,
              "mode": "immediate",
              "transition": {
               "duration": 0,
               "easing": "linear"
              }
             }
            ],
            "label": "1951",
            "method": "animate"
           },
           {
            "args": [
             [
              "1952"
             ],
             {
              "frame": {
               "duration": 0,
               "redraw": true
              },
              "fromcurrent": true,
              "mode": "immediate",
              "transition": {
               "duration": 0,
               "easing": "linear"
              }
             }
            ],
            "label": "1952",
            "method": "animate"
           },
           {
            "args": [
             [
              "1991"
             ],
             {
              "frame": {
               "duration": 0,
               "redraw": true
              },
              "fromcurrent": true,
              "mode": "immediate",
              "transition": {
               "duration": 0,
               "easing": "linear"
              }
             }
            ],
            "label": "1991",
            "method": "animate"
           },
           {
            "args": [
             [
              "2002"
             ],
             {
              "frame": {
               "duration": 0,
               "redraw": true
              },
              "fromcurrent": true,
              "mode": "immediate",
              "transition": {
               "duration": 0,
               "easing": "linear"
              }
             }
            ],
            "label": "2002",
            "method": "animate"
           },
           {
            "args": [
             [
              "2006"
             ],
             {
              "frame": {
               "duration": 0,
               "redraw": true
              },
              "fromcurrent": true,
              "mode": "immediate",
              "transition": {
               "duration": 0,
               "easing": "linear"
              }
             }
            ],
            "label": "2006",
            "method": "animate"
           },
           {
            "args": [
             [
              "2007"
             ],
             {
              "frame": {
               "duration": 0,
               "redraw": true
              },
              "fromcurrent": true,
              "mode": "immediate",
              "transition": {
               "duration": 0,
               "easing": "linear"
              }
             }
            ],
            "label": "2007",
            "method": "animate"
           },
           {
            "args": [
             [
              "2008"
             ],
             {
              "frame": {
               "duration": 0,
               "redraw": true
              },
              "fromcurrent": true,
              "mode": "immediate",
              "transition": {
               "duration": 0,
               "easing": "linear"
              }
             }
            ],
            "label": "2008",
            "method": "animate"
           },
           {
            "args": [
             [
              "2010"
             ],
             {
              "frame": {
               "duration": 0,
               "redraw": true
              },
              "fromcurrent": true,
              "mode": "immediate",
              "transition": {
               "duration": 0,
               "easing": "linear"
              }
             }
            ],
            "label": "2010",
            "method": "animate"
           },
           {
            "args": [
             [
              "2011"
             ],
             {
              "frame": {
               "duration": 0,
               "redraw": true
              },
              "fromcurrent": true,
              "mode": "immediate",
              "transition": {
               "duration": 0,
               "easing": "linear"
              }
             }
            ],
            "label": "2011",
            "method": "animate"
           },
           {
            "args": [
             [
              "2014"
             ],
             {
              "frame": {
               "duration": 0,
               "redraw": true
              },
              "fromcurrent": true,
              "mode": "immediate",
              "transition": {
               "duration": 0,
               "easing": "linear"
              }
             }
            ],
            "label": "2014",
            "method": "animate"
           },
           {
            "args": [
             [
              "2015"
             ],
             {
              "frame": {
               "duration": 0,
               "redraw": true
              },
              "fromcurrent": true,
              "mode": "immediate",
              "transition": {
               "duration": 0,
               "easing": "linear"
              }
             }
            ],
            "label": "2015",
            "method": "animate"
           },
           {
            "args": [
             [
              "2016"
             ],
             {
              "frame": {
               "duration": 0,
               "redraw": true
              },
              "fromcurrent": true,
              "mode": "immediate",
              "transition": {
               "duration": 0,
               "easing": "linear"
              }
             }
            ],
            "label": "2016",
            "method": "animate"
           }
          ],
          "x": 0.1,
          "xanchor": "left",
          "y": 0,
          "yanchor": "top"
         }
        ],
        "template": {
         "data": {
          "bar": [
           {
            "error_x": {
             "color": "#2a3f5f"
            },
            "error_y": {
             "color": "#2a3f5f"
            },
            "marker": {
             "line": {
              "color": "#E5ECF6",
              "width": 0.5
             },
             "pattern": {
              "fillmode": "overlay",
              "size": 10,
              "solidity": 0.2
             }
            },
            "type": "bar"
           }
          ],
          "barpolar": [
           {
            "marker": {
             "line": {
              "color": "#E5ECF6",
              "width": 0.5
             },
             "pattern": {
              "fillmode": "overlay",
              "size": 10,
              "solidity": 0.2
             }
            },
            "type": "barpolar"
           }
          ],
          "carpet": [
           {
            "aaxis": {
             "endlinecolor": "#2a3f5f",
             "gridcolor": "white",
             "linecolor": "white",
             "minorgridcolor": "white",
             "startlinecolor": "#2a3f5f"
            },
            "baxis": {
             "endlinecolor": "#2a3f5f",
             "gridcolor": "white",
             "linecolor": "white",
             "minorgridcolor": "white",
             "startlinecolor": "#2a3f5f"
            },
            "type": "carpet"
           }
          ],
          "choropleth": [
           {
            "colorbar": {
             "outlinewidth": 0,
             "ticks": ""
            },
            "type": "choropleth"
           }
          ],
          "contour": [
           {
            "colorbar": {
             "outlinewidth": 0,
             "ticks": ""
            },
            "colorscale": [
             [
              0,
              "#0d0887"
             ],
             [
              0.1111111111111111,
              "#46039f"
             ],
             [
              0.2222222222222222,
              "#7201a8"
             ],
             [
              0.3333333333333333,
              "#9c179e"
             ],
             [
              0.4444444444444444,
              "#bd3786"
             ],
             [
              0.5555555555555556,
              "#d8576b"
             ],
             [
              0.6666666666666666,
              "#ed7953"
             ],
             [
              0.7777777777777778,
              "#fb9f3a"
             ],
             [
              0.8888888888888888,
              "#fdca26"
             ],
             [
              1,
              "#f0f921"
             ]
            ],
            "type": "contour"
           }
          ],
          "contourcarpet": [
           {
            "colorbar": {
             "outlinewidth": 0,
             "ticks": ""
            },
            "type": "contourcarpet"
           }
          ],
          "heatmap": [
           {
            "colorbar": {
             "outlinewidth": 0,
             "ticks": ""
            },
            "colorscale": [
             [
              0,
              "#0d0887"
             ],
             [
              0.1111111111111111,
              "#46039f"
             ],
             [
              0.2222222222222222,
              "#7201a8"
             ],
             [
              0.3333333333333333,
              "#9c179e"
             ],
             [
              0.4444444444444444,
              "#bd3786"
             ],
             [
              0.5555555555555556,
              "#d8576b"
             ],
             [
              0.6666666666666666,
              "#ed7953"
             ],
             [
              0.7777777777777778,
              "#fb9f3a"
             ],
             [
              0.8888888888888888,
              "#fdca26"
             ],
             [
              1,
              "#f0f921"
             ]
            ],
            "type": "heatmap"
           }
          ],
          "heatmapgl": [
           {
            "colorbar": {
             "outlinewidth": 0,
             "ticks": ""
            },
            "colorscale": [
             [
              0,
              "#0d0887"
             ],
             [
              0.1111111111111111,
              "#46039f"
             ],
             [
              0.2222222222222222,
              "#7201a8"
             ],
             [
              0.3333333333333333,
              "#9c179e"
             ],
             [
              0.4444444444444444,
              "#bd3786"
             ],
             [
              0.5555555555555556,
              "#d8576b"
             ],
             [
              0.6666666666666666,
              "#ed7953"
             ],
             [
              0.7777777777777778,
              "#fb9f3a"
             ],
             [
              0.8888888888888888,
              "#fdca26"
             ],
             [
              1,
              "#f0f921"
             ]
            ],
            "type": "heatmapgl"
           }
          ],
          "histogram": [
           {
            "marker": {
             "pattern": {
              "fillmode": "overlay",
              "size": 10,
              "solidity": 0.2
             }
            },
            "type": "histogram"
           }
          ],
          "histogram2d": [
           {
            "colorbar": {
             "outlinewidth": 0,
             "ticks": ""
            },
            "colorscale": [
             [
              0,
              "#0d0887"
             ],
             [
              0.1111111111111111,
              "#46039f"
             ],
             [
              0.2222222222222222,
              "#7201a8"
             ],
             [
              0.3333333333333333,
              "#9c179e"
             ],
             [
              0.4444444444444444,
              "#bd3786"
             ],
             [
              0.5555555555555556,
              "#d8576b"
             ],
             [
              0.6666666666666666,
              "#ed7953"
             ],
             [
              0.7777777777777778,
              "#fb9f3a"
             ],
             [
              0.8888888888888888,
              "#fdca26"
             ],
             [
              1,
              "#f0f921"
             ]
            ],
            "type": "histogram2d"
           }
          ],
          "histogram2dcontour": [
           {
            "colorbar": {
             "outlinewidth": 0,
             "ticks": ""
            },
            "colorscale": [
             [
              0,
              "#0d0887"
             ],
             [
              0.1111111111111111,
              "#46039f"
             ],
             [
              0.2222222222222222,
              "#7201a8"
             ],
             [
              0.3333333333333333,
              "#9c179e"
             ],
             [
              0.4444444444444444,
              "#bd3786"
             ],
             [
              0.5555555555555556,
              "#d8576b"
             ],
             [
              0.6666666666666666,
              "#ed7953"
             ],
             [
              0.7777777777777778,
              "#fb9f3a"
             ],
             [
              0.8888888888888888,
              "#fdca26"
             ],
             [
              1,
              "#f0f921"
             ]
            ],
            "type": "histogram2dcontour"
           }
          ],
          "mesh3d": [
           {
            "colorbar": {
             "outlinewidth": 0,
             "ticks": ""
            },
            "type": "mesh3d"
           }
          ],
          "parcoords": [
           {
            "line": {
             "colorbar": {
              "outlinewidth": 0,
              "ticks": ""
             }
            },
            "type": "parcoords"
           }
          ],
          "pie": [
           {
            "automargin": true,
            "type": "pie"
           }
          ],
          "scatter": [
           {
            "fillpattern": {
             "fillmode": "overlay",
             "size": 10,
             "solidity": 0.2
            },
            "type": "scatter"
           }
          ],
          "scatter3d": [
           {
            "line": {
             "colorbar": {
              "outlinewidth": 0,
              "ticks": ""
             }
            },
            "marker": {
             "colorbar": {
              "outlinewidth": 0,
              "ticks": ""
             }
            },
            "type": "scatter3d"
           }
          ],
          "scattercarpet": [
           {
            "marker": {
             "colorbar": {
              "outlinewidth": 0,
              "ticks": ""
             }
            },
            "type": "scattercarpet"
           }
          ],
          "scattergeo": [
           {
            "marker": {
             "colorbar": {
              "outlinewidth": 0,
              "ticks": ""
             }
            },
            "type": "scattergeo"
           }
          ],
          "scattergl": [
           {
            "marker": {
             "colorbar": {
              "outlinewidth": 0,
              "ticks": ""
             }
            },
            "type": "scattergl"
           }
          ],
          "scattermapbox": [
           {
            "marker": {
             "colorbar": {
              "outlinewidth": 0,
              "ticks": ""
             }
            },
            "type": "scattermapbox"
           }
          ],
          "scatterpolar": [
           {
            "marker": {
             "colorbar": {
              "outlinewidth": 0,
              "ticks": ""
             }
            },
            "type": "scatterpolar"
           }
          ],
          "scatterpolargl": [
           {
            "marker": {
             "colorbar": {
              "outlinewidth": 0,
              "ticks": ""
             }
            },
            "type": "scatterpolargl"
           }
          ],
          "scatterternary": [
           {
            "marker": {
             "colorbar": {
              "outlinewidth": 0,
              "ticks": ""
             }
            },
            "type": "scatterternary"
           }
          ],
          "surface": [
           {
            "colorbar": {
             "outlinewidth": 0,
             "ticks": ""
            },
            "colorscale": [
             [
              0,
              "#0d0887"
             ],
             [
              0.1111111111111111,
              "#46039f"
             ],
             [
              0.2222222222222222,
              "#7201a8"
             ],
             [
              0.3333333333333333,
              "#9c179e"
             ],
             [
              0.4444444444444444,
              "#bd3786"
             ],
             [
              0.5555555555555556,
              "#d8576b"
             ],
             [
              0.6666666666666666,
              "#ed7953"
             ],
             [
              0.7777777777777778,
              "#fb9f3a"
             ],
             [
              0.8888888888888888,
              "#fdca26"
             ],
             [
              1,
              "#f0f921"
             ]
            ],
            "type": "surface"
           }
          ],
          "table": [
           {
            "cells": {
             "fill": {
              "color": "#EBF0F8"
             },
             "line": {
              "color": "white"
             }
            },
            "header": {
             "fill": {
              "color": "#C8D4E3"
             },
             "line": {
              "color": "white"
             }
            },
            "type": "table"
           }
          ]
         },
         "layout": {
          "annotationdefaults": {
           "arrowcolor": "#2a3f5f",
           "arrowhead": 0,
           "arrowwidth": 1
          },
          "autotypenumbers": "strict",
          "coloraxis": {
           "colorbar": {
            "outlinewidth": 0,
            "ticks": ""
           }
          },
          "colorscale": {
           "diverging": [
            [
             0,
             "#8e0152"
            ],
            [
             0.1,
             "#c51b7d"
            ],
            [
             0.2,
             "#de77ae"
            ],
            [
             0.3,
             "#f1b6da"
            ],
            [
             0.4,
             "#fde0ef"
            ],
            [
             0.5,
             "#f7f7f7"
            ],
            [
             0.6,
             "#e6f5d0"
            ],
            [
             0.7,
             "#b8e186"
            ],
            [
             0.8,
             "#7fbc41"
            ],
            [
             0.9,
             "#4d9221"
            ],
            [
             1,
             "#276419"
            ]
           ],
           "sequential": [
            [
             0,
             "#0d0887"
            ],
            [
             0.1111111111111111,
             "#46039f"
            ],
            [
             0.2222222222222222,
             "#7201a8"
            ],
            [
             0.3333333333333333,
             "#9c179e"
            ],
            [
             0.4444444444444444,
             "#bd3786"
            ],
            [
             0.5555555555555556,
             "#d8576b"
            ],
            [
             0.6666666666666666,
             "#ed7953"
            ],
            [
             0.7777777777777778,
             "#fb9f3a"
            ],
            [
             0.8888888888888888,
             "#fdca26"
            ],
            [
             1,
             "#f0f921"
            ]
           ],
           "sequentialminus": [
            [
             0,
             "#0d0887"
            ],
            [
             0.1111111111111111,
             "#46039f"
            ],
            [
             0.2222222222222222,
             "#7201a8"
            ],
            [
             0.3333333333333333,
             "#9c179e"
            ],
            [
             0.4444444444444444,
             "#bd3786"
            ],
            [
             0.5555555555555556,
             "#d8576b"
            ],
            [
             0.6666666666666666,
             "#ed7953"
            ],
            [
             0.7777777777777778,
             "#fb9f3a"
            ],
            [
             0.8888888888888888,
             "#fdca26"
            ],
            [
             1,
             "#f0f921"
            ]
           ]
          },
          "colorway": [
           "#636efa",
           "#EF553B",
           "#00cc96",
           "#ab63fa",
           "#FFA15A",
           "#19d3f3",
           "#FF6692",
           "#B6E880",
           "#FF97FF",
           "#FECB52"
          ],
          "font": {
           "color": "#2a3f5f"
          },
          "geo": {
           "bgcolor": "white",
           "lakecolor": "white",
           "landcolor": "#E5ECF6",
           "showlakes": true,
           "showland": true,
           "subunitcolor": "white"
          },
          "hoverlabel": {
           "align": "left"
          },
          "hovermode": "closest",
          "mapbox": {
           "style": "light"
          },
          "paper_bgcolor": "white",
          "plot_bgcolor": "#E5ECF6",
          "polar": {
           "angularaxis": {
            "gridcolor": "white",
            "linecolor": "white",
            "ticks": ""
           },
           "bgcolor": "#E5ECF6",
           "radialaxis": {
            "gridcolor": "white",
            "linecolor": "white",
            "ticks": ""
           }
          },
          "scene": {
           "xaxis": {
            "backgroundcolor": "#E5ECF6",
            "gridcolor": "white",
            "gridwidth": 2,
            "linecolor": "white",
            "showbackground": true,
            "ticks": "",
            "zerolinecolor": "white"
           },
           "yaxis": {
            "backgroundcolor": "#E5ECF6",
            "gridcolor": "white",
            "gridwidth": 2,
            "linecolor": "white",
            "showbackground": true,
            "ticks": "",
            "zerolinecolor": "white"
           },
           "zaxis": {
            "backgroundcolor": "#E5ECF6",
            "gridcolor": "white",
            "gridwidth": 2,
            "linecolor": "white",
            "showbackground": true,
            "ticks": "",
            "zerolinecolor": "white"
           }
          },
          "shapedefaults": {
           "line": {
            "color": "#2a3f5f"
           }
          },
          "ternary": {
           "aaxis": {
            "gridcolor": "white",
            "linecolor": "white",
            "ticks": ""
           },
           "baxis": {
            "gridcolor": "white",
            "linecolor": "white",
            "ticks": ""
           },
           "bgcolor": "#E5ECF6",
           "caxis": {
            "gridcolor": "white",
            "linecolor": "white",
            "ticks": ""
           }
          },
          "title": {
           "x": 0.05
          },
          "xaxis": {
           "automargin": true,
           "gridcolor": "white",
           "linecolor": "white",
           "ticks": "",
           "title": {
            "standoff": 15
           },
           "zerolinecolor": "white",
           "zerolinewidth": 2
          },
          "yaxis": {
           "automargin": true,
           "gridcolor": "white",
           "linecolor": "white",
           "ticks": "",
           "title": {
            "standoff": 15
           },
           "zerolinecolor": "white",
           "zerolinewidth": 2
          }
         }
        },
        "title": {
         "text": "Battles participated in by post-Confederation Canada"
        },
        "updatemenus": [
         {
          "buttons": [
           {
            "args": [
             null,
             {
              "frame": {
               "duration": 500,
               "redraw": true
              },
              "fromcurrent": true,
              "mode": "immediate",
              "transition": {
               "duration": 500,
               "easing": "linear"
              }
             }
            ],
            "label": "&#9654;",
            "method": "animate"
           },
           {
            "args": [
             [
              null
             ],
             {
              "frame": {
               "duration": 0,
               "redraw": true
              },
              "fromcurrent": true,
              "mode": "immediate",
              "transition": {
               "duration": 0,
               "easing": "linear"
              }
             }
            ],
            "label": "&#9724;",
            "method": "animate"
           }
          ],
          "direction": "left",
          "pad": {
           "r": 10,
           "t": 70
          },
          "showactive": false,
          "type": "buttons",
          "x": 0.1,
          "xanchor": "right",
          "y": 0,
          "yanchor": "top"
         }
        ]
       }
      }
     },
     "metadata": {},
     "output_type": "display_data"
    }
   ],
   "source": [
    "px.scatter_geo(animate_candata, lat='lat', lon='lng', \n",
    "               height=800, hover_name='bname', \n",
    "               animation_frame= 'year',\n",
    "               animation_group='war',\n",
    "               title='Battles participated in by post-Confederation Canada')"
   ]
  },
  {
   "attachments": {},
   "cell_type": "markdown",
   "id": "1cd7e7b8",
   "metadata": {},
   "source": [
    "Now let's add in the number of casualties of each battle that Canada has fought in. We will change the size of each bubble to match the number of casualties each battle had. Larger bubbles will indicate battles with more casualties."
   ]
  },
  {
   "cell_type": "code",
   "execution_count": 11,
   "id": "6f45cdf1",
   "metadata": {},
   "outputs": [
    {
     "data": {
      "application/vnd.plotly.v1+json": {
       "config": {
        "plotlyServerURL": "https://plot.ly"
       },
       "data": [
        {
         "customdata": [
          [
           "Fenian raids",
           1870
          ],
          [
           "North-West Rebellion",
           1885
          ],
          [
           "North-West Rebellion",
           1885
          ],
          [
           "North-West Rebellion",
           1885
          ],
          [
           "North-West Rebellion",
           1885
          ],
          [
           "North-West Rebellion",
           1885
          ],
          [
           "North-West Rebellion",
           1885
          ],
          [
           "Second Boer War",
           1900
          ],
          [
           "Second Boer War",
           1900
          ],
          [
           "Second Boer War",
           1900
          ],
          [
           "Second Boer War",
           1900
          ],
          [
           "World War I",
           1914
          ],
          [
           "Western Front of World War I",
           1915
          ],
          [
           "Western Front of World War I",
           1915
          ],
          [
           "World War I",
           1915
          ],
          [
           "Western Front of World War I",
           1915
          ],
          [
           "Battle of the Somme",
           1916
          ],
          [
           "Battle of the Somme",
           1916
          ],
          [
           "Western Front of World War I",
           1916
          ],
          [
           "Battle of the Somme",
           1916
          ],
          [
           "Battle of the Somme",
           1916
          ],
          [
           "Western Front of World War I",
           1916
          ],
          [
           "Western Front of World War I",
           1916
          ],
          [
           "Battle of the Somme",
           1916
          ],
          [
           "Battle of Passchendaele",
           1917
          ],
          [
           "Western Front of World War I",
           1917
          ],
          [
           "World War I",
           1917
          ],
          [
           "Western Front of World War I",
           1917
          ],
          [
           "Middle Eastern theatre of World War I",
           1917
          ],
          [
           "Middle Eastern theatre of World War I",
           1917
          ],
          [
           "Western Front of World War I",
           1917
          ],
          [
           "World War I",
           1917
          ],
          [
           "Russian Civil War",
           1918
          ],
          [
           "Hundred Days Offensive",
           1918
          ],
          [
           "World War I",
           1918
          ],
          [
           "Spring Offensive",
           1918
          ],
          [
           "Western Front of World War I",
           1918
          ],
          [
           "Western Front of World War I",
           1918
          ],
          [
           "Spring Offensive",
           1918
          ],
          [
           "Western Front of World War I",
           1918
          ],
          [
           "North Russia Intervention",
           1919
          ],
          [
           "World War II",
           1940
          ],
          [
           "Pacific War",
           1941
          ],
          [
           "North West Europe Campaign",
           1942
          ],
          [
           "World War II",
           1943
          ],
          [
           "Moro River Campaign",
           1943
          ],
          [
           null,
           1943
          ],
          [
           null,
           1944
          ],
          [
           "Battle of the Scheldt",
           1944
          ],
          [
           "World War II",
           1944
          ],
          [
           "Battle of Monte Cassino",
           1944
          ],
          [
           null,
           1944
          ],
          [
           "Invasion of Normandy",
           1944
          ],
          [
           "Operation Overlord",
           1944
          ],
          [
           "Normandy landings",
           1944
          ],
          [
           "Operation Overlord",
           1944
          ],
          [
           null,
           1945
          ],
          [
           "Pacific War",
           1945
          ],
          [
           "World War II",
           1945
          ],
          [
           null,
           1945
          ],
          [
           "World War II",
           1945
          ],
          [
           "Korean War",
           1950
          ],
          [
           "Korean War",
           1951
          ],
          [
           "Korean War",
           1951
          ],
          [
           "Korean War",
           1952
          ],
          [
           "War in Afghanistan",
           2002
          ],
          [
           "War in Afghanistan",
           2006
          ],
          [
           "War in Afghanistan",
           2006
          ],
          [
           "War in Afghanistan",
           2006
          ],
          [
           "War in Afghanistan",
           2006
          ],
          [
           "War in Afghanistan",
           2007
          ],
          [
           "War in Afghanistan",
           2008
          ],
          [
           "War in Afghanistan",
           2010
          ],
          [
           "2011 Libyan Civil War",
           2011
          ],
          [
           "Iraqi Civil War (2014–2017)",
           2014
          ],
          [
           "Iraqi Civil War (2014–2017)",
           2015
          ],
          [
           "American-led intervention in Iraq (2014–present)",
           2016
          ]
         ],
         "geo": "geo",
         "hovertemplate": "<b>%{hovertext}</b><br><br>casualties=%{marker.color}<br>lat=%{lat}<br>lng=%{lon}<br>war=%{customdata[0]}<br>year=%{customdata[1]}<extra></extra>",
         "hovertext": [
          "Battle of Trout River",
          "Battle of Fish Creek",
          "Battle of Duck Lake",
          "Battle of Fort Pitt",
          "Battle of Batoche",
          "Battle of Cut Knife",
          "Battle of Loon Lake",
          "Battle of Elands River",
          "Battle of Leliefontein",
          "Battle of Diamond Hill",
          "Battle of Paardeberg",
          "Battle of Givenchy",
          "Second Battle of Artois",
          "Battle of Neuve Chapelle",
          "Battle of Festubert",
          "Second Battle of Ypres",
          "Battle of Mouquet Farm",
          "Battle of Morval",
          "Battle of Thiepval Ridge",
          "Battle of Le Transloy",
          "Regina Trench",
          "Battle of Mont Sorrel",
          "Battle of the Somme",
          "Battle of Flers–Courcelette",
          "Second Battle of Passchendaele",
          "Battle of Messines",
          "Battle of Vimy Ridge",
          "Battle of Passchendaele",
          "Second Battle of Gaza",
          "First Battle of Gaza",
          "Battle of Arras",
          "Battle of Hill 70",
          "Battle of Tulgas",
          "Battle of the Canal du Nord",
          "Battle of Cambrai",
          "Battle of the Lys",
          "Battle of Amiens",
          "Fifth Battle of Ypres",
          "Operation Michael",
          "Battle of the Scarpe",
          "Battle of Shenkursk",
          "Battle of Dunkirk",
          "Battle of Hong Kong",
          "Dieppe Raid",
          "Allied invasion of Italy",
          "Battle of Ortona",
          "Battle of Attu",
          "battle of Moerbrugge",
          "Battle of Walcheren Causeway",
          "Battle of Le Mesnil-Patry",
          "Operation Diadem",
          "Battle of the Bulge",
          "Normandy landings",
          "Invasion of Normandy",
          "Operation Tonga",
          "Falaise Pocket",
          "Liberation of Arnhem",
          "Battle of Okinawa",
          "Battle of Groningen",
          "Battle for the Kapelsche Veer",
          "Operation Teardrop",
          "Battle of Inchon",
          "First Battle of Maryang-san",
          "Battle of Chuam-ni",
          "Second Battle of the Hook",
          "Operation Anaconda",
          "Friendly fire incident at Sangin",
          "Battle of Panjwaii",
          "Operation Medusa",
          "Operation Mountain Fury",
          "Operation Achilles",
          "Battle of Arghandab",
          "Operation Moshtarak",
          "Battle of Misrata",
          "Battle of Baiji",
          "Battle of Ramadi",
          "Battle of Mosul (2016–17)"
         ],
         "lat": [
          45.087337493896484,
          52.60194396972656,
          52.81650924682617,
          53.65018,
          52.75600814819336,
          52.74530792236328,
          54.04055404663086,
          -25.649444,
          -25.96666667,
          -25.783333333333,
          -28.9825,
          50.5294,
          50.5,
          50.585,
          50.54388889,
          50.899444444444,
          50.051111,
          50.0316,
          50.054527777778,
          50.057388888889,
          50.0717,
          50.8464,
          50.0155,
          50.05888889,
          50.90027778,
          50.7625,
          50.379,
          50.900277777778,
          31.4893,
          31.4893,
          50.289722222222,
          50.45555556,
          62.594388,
          50.283333,
          50.1767,
          50.70555556,
          49.893913888889,
          50.9003,
          49.85,
          50.270556,
          62.1,
          51.0343,
          22.2819,
          49.933333333333,
          40.679,
          42.35,
          52.879075,
          51.162322998046875,
          51.5031,
          49.19583333,
          41.96673583984375,
          50.6243,
          49.333333333333,
          49.333333333333,
          49.18100357055664,
          48.892777777778,
          51.9833,
          26.5,
          53.2186,
          51.708,
          40,
          37.48333333,
          38.135,
          36.293739318847656,
          38.029111,
          33.366666666667,
          31.589166666667,
          31.546222686767578,
          31.547777777778,
          32.39362335205078,
          32.07333333,
          31.654722222222,
          31.516667,
          32.37753333,
          34.933333333333,
          33.416666666667,
          36.337222222222
         ],
         "legendgroup": "",
         "lon": [
          -74.1738510131836,
          -105.9472198486328,
          -106.2327270507812,
          -109.75154,
          -106.11793518066406,
          -109.0277633666992,
          -109.0008316040039,
          26.706667,
          30.05,
          28.466666666667,
          25.09305556,
          2.75861,
          2.75,
          2.7775,
          2.73611111,
          2.9405555555556,
          2.712778,
          2.8424,
          2.6883888888889,
          2.8877222222222,
          2.78139,
          2.94361,
          2.69742,
          2.74777778,
          3.02111111,
          2.8952777777778,
          2.774,
          3.0211111111111,
          34.4737,
          34.4737,
          2.7808333333333,
          2.81902778,
          43.507833,
          3.116667,
          3.23556,
          2.9,
          2.29425,
          3.02111,
          3.28333,
          2.894167,
          42.91666667,
          2.3768194444444,
          114.162,
          1.0833333333333,
          14.7566,
          14.4,
          173.15688889,
          3.2631185054779053,
          3.705,
          -0.54361111,
          13.370064735412598,
          6.13724,
          -0.56694444444444,
          -0.56666666666667,
          -0.369891494512558,
          -0.19194444444444,
          5.91667,
          128,
          6.56722,
          4.929,
          -40,
          126.63333333,
          126.92083333333,
          126.77681732177734,
          126.8425,
          69.183333333333,
          64.363333333333,
          65.45999145507812,
          65.454166666667,
          68.70365142822266,
          64.83388889,
          65.649444444444,
          64.116667,
          15.09201667,
          43.483333333333,
          43.3,
          43.135833333333
         ],
         "marker": {
          "color": [
           4,
           79,
           32,
           6,
           100,
           30,
           100,
           67,
           14,
           203,
           5659,
           6000,
           203381,
           22000,
           21648,
           107275,
           6300,
           140000,
           14815,
           173848,
           14893,
           14195,
           1088907,
           60000,
           60654,
           46448,
           14602,
           25000,
           8541,
           5674,
           278000,
           18677,
           660,
           66500,
           22000,
           219000,
           45000,
           19200,
           494616,
           3300,
           140,
           81774,
           17054,
           6190,
           649000,
           4520,
           6383,
           950,
           220,
           362,
           380000,
           167450,
           17500,
           209935,
           1600,
           70829,
           796,
           127166,
           5551,
           1000,
           377,
           2383,
           457,
           232,
           807,
           897,
           47,
           1068,
           679,
           1238,
           913,
           107,
           249,
           6650,
           4846,
           3250,
           17592
          ],
          "coloraxis": "coloraxis",
          "size": [
           4,
           79,
           32,
           6,
           100,
           30,
           100,
           67,
           14,
           203,
           5659,
           6000,
           203381,
           22000,
           21648,
           107275,
           6300,
           140000,
           14815,
           173848,
           14893,
           14195,
           1088907,
           60000,
           60654,
           46448,
           14602,
           25000,
           8541,
           5674,
           278000,
           18677,
           660,
           66500,
           22000,
           219000,
           45000,
           19200,
           494616,
           3300,
           140,
           81774,
           17054,
           6190,
           649000,
           4520,
           6383,
           950,
           220,
           362,
           380000,
           167450,
           17500,
           209935,
           1600,
           70829,
           796,
           127166,
           5551,
           1000,
           377,
           2383,
           457,
           232,
           807,
           897,
           47,
           1068,
           679,
           1238,
           913,
           107,
           249,
           6650,
           4846,
           3250,
           17592
          ],
          "sizemode": "area",
          "sizeref": 2722.2675,
          "symbol": "circle"
         },
         "mode": "markers",
         "name": "",
         "showlegend": false,
         "type": "scattergeo"
        }
       ],
       "layout": {
        "coloraxis": {
         "colorbar": {
          "title": {
           "text": "casualties"
          }
         },
         "colorscale": [
          [
           0,
           "#0d0887"
          ],
          [
           0.1111111111111111,
           "#46039f"
          ],
          [
           0.2222222222222222,
           "#7201a8"
          ],
          [
           0.3333333333333333,
           "#9c179e"
          ],
          [
           0.4444444444444444,
           "#bd3786"
          ],
          [
           0.5555555555555556,
           "#d8576b"
          ],
          [
           0.6666666666666666,
           "#ed7953"
          ],
          [
           0.7777777777777778,
           "#fb9f3a"
          ],
          [
           0.8888888888888888,
           "#fdca26"
          ],
          [
           1,
           "#f0f921"
          ]
         ]
        },
        "geo": {
         "center": {},
         "domain": {
          "x": [
           0,
           1
          ],
          "y": [
           0,
           1
          ]
         }
        },
        "height": 800,
        "legend": {
         "itemsizing": "constant",
         "tracegroupgap": 0
        },
        "template": {
         "data": {
          "bar": [
           {
            "error_x": {
             "color": "#2a3f5f"
            },
            "error_y": {
             "color": "#2a3f5f"
            },
            "marker": {
             "line": {
              "color": "#E5ECF6",
              "width": 0.5
             },
             "pattern": {
              "fillmode": "overlay",
              "size": 10,
              "solidity": 0.2
             }
            },
            "type": "bar"
           }
          ],
          "barpolar": [
           {
            "marker": {
             "line": {
              "color": "#E5ECF6",
              "width": 0.5
             },
             "pattern": {
              "fillmode": "overlay",
              "size": 10,
              "solidity": 0.2
             }
            },
            "type": "barpolar"
           }
          ],
          "carpet": [
           {
            "aaxis": {
             "endlinecolor": "#2a3f5f",
             "gridcolor": "white",
             "linecolor": "white",
             "minorgridcolor": "white",
             "startlinecolor": "#2a3f5f"
            },
            "baxis": {
             "endlinecolor": "#2a3f5f",
             "gridcolor": "white",
             "linecolor": "white",
             "minorgridcolor": "white",
             "startlinecolor": "#2a3f5f"
            },
            "type": "carpet"
           }
          ],
          "choropleth": [
           {
            "colorbar": {
             "outlinewidth": 0,
             "ticks": ""
            },
            "type": "choropleth"
           }
          ],
          "contour": [
           {
            "colorbar": {
             "outlinewidth": 0,
             "ticks": ""
            },
            "colorscale": [
             [
              0,
              "#0d0887"
             ],
             [
              0.1111111111111111,
              "#46039f"
             ],
             [
              0.2222222222222222,
              "#7201a8"
             ],
             [
              0.3333333333333333,
              "#9c179e"
             ],
             [
              0.4444444444444444,
              "#bd3786"
             ],
             [
              0.5555555555555556,
              "#d8576b"
             ],
             [
              0.6666666666666666,
              "#ed7953"
             ],
             [
              0.7777777777777778,
              "#fb9f3a"
             ],
             [
              0.8888888888888888,
              "#fdca26"
             ],
             [
              1,
              "#f0f921"
             ]
            ],
            "type": "contour"
           }
          ],
          "contourcarpet": [
           {
            "colorbar": {
             "outlinewidth": 0,
             "ticks": ""
            },
            "type": "contourcarpet"
           }
          ],
          "heatmap": [
           {
            "colorbar": {
             "outlinewidth": 0,
             "ticks": ""
            },
            "colorscale": [
             [
              0,
              "#0d0887"
             ],
             [
              0.1111111111111111,
              "#46039f"
             ],
             [
              0.2222222222222222,
              "#7201a8"
             ],
             [
              0.3333333333333333,
              "#9c179e"
             ],
             [
              0.4444444444444444,
              "#bd3786"
             ],
             [
              0.5555555555555556,
              "#d8576b"
             ],
             [
              0.6666666666666666,
              "#ed7953"
             ],
             [
              0.7777777777777778,
              "#fb9f3a"
             ],
             [
              0.8888888888888888,
              "#fdca26"
             ],
             [
              1,
              "#f0f921"
             ]
            ],
            "type": "heatmap"
           }
          ],
          "heatmapgl": [
           {
            "colorbar": {
             "outlinewidth": 0,
             "ticks": ""
            },
            "colorscale": [
             [
              0,
              "#0d0887"
             ],
             [
              0.1111111111111111,
              "#46039f"
             ],
             [
              0.2222222222222222,
              "#7201a8"
             ],
             [
              0.3333333333333333,
              "#9c179e"
             ],
             [
              0.4444444444444444,
              "#bd3786"
             ],
             [
              0.5555555555555556,
              "#d8576b"
             ],
             [
              0.6666666666666666,
              "#ed7953"
             ],
             [
              0.7777777777777778,
              "#fb9f3a"
             ],
             [
              0.8888888888888888,
              "#fdca26"
             ],
             [
              1,
              "#f0f921"
             ]
            ],
            "type": "heatmapgl"
           }
          ],
          "histogram": [
           {
            "marker": {
             "pattern": {
              "fillmode": "overlay",
              "size": 10,
              "solidity": 0.2
             }
            },
            "type": "histogram"
           }
          ],
          "histogram2d": [
           {
            "colorbar": {
             "outlinewidth": 0,
             "ticks": ""
            },
            "colorscale": [
             [
              0,
              "#0d0887"
             ],
             [
              0.1111111111111111,
              "#46039f"
             ],
             [
              0.2222222222222222,
              "#7201a8"
             ],
             [
              0.3333333333333333,
              "#9c179e"
             ],
             [
              0.4444444444444444,
              "#bd3786"
             ],
             [
              0.5555555555555556,
              "#d8576b"
             ],
             [
              0.6666666666666666,
              "#ed7953"
             ],
             [
              0.7777777777777778,
              "#fb9f3a"
             ],
             [
              0.8888888888888888,
              "#fdca26"
             ],
             [
              1,
              "#f0f921"
             ]
            ],
            "type": "histogram2d"
           }
          ],
          "histogram2dcontour": [
           {
            "colorbar": {
             "outlinewidth": 0,
             "ticks": ""
            },
            "colorscale": [
             [
              0,
              "#0d0887"
             ],
             [
              0.1111111111111111,
              "#46039f"
             ],
             [
              0.2222222222222222,
              "#7201a8"
             ],
             [
              0.3333333333333333,
              "#9c179e"
             ],
             [
              0.4444444444444444,
              "#bd3786"
             ],
             [
              0.5555555555555556,
              "#d8576b"
             ],
             [
              0.6666666666666666,
              "#ed7953"
             ],
             [
              0.7777777777777778,
              "#fb9f3a"
             ],
             [
              0.8888888888888888,
              "#fdca26"
             ],
             [
              1,
              "#f0f921"
             ]
            ],
            "type": "histogram2dcontour"
           }
          ],
          "mesh3d": [
           {
            "colorbar": {
             "outlinewidth": 0,
             "ticks": ""
            },
            "type": "mesh3d"
           }
          ],
          "parcoords": [
           {
            "line": {
             "colorbar": {
              "outlinewidth": 0,
              "ticks": ""
             }
            },
            "type": "parcoords"
           }
          ],
          "pie": [
           {
            "automargin": true,
            "type": "pie"
           }
          ],
          "scatter": [
           {
            "fillpattern": {
             "fillmode": "overlay",
             "size": 10,
             "solidity": 0.2
            },
            "type": "scatter"
           }
          ],
          "scatter3d": [
           {
            "line": {
             "colorbar": {
              "outlinewidth": 0,
              "ticks": ""
             }
            },
            "marker": {
             "colorbar": {
              "outlinewidth": 0,
              "ticks": ""
             }
            },
            "type": "scatter3d"
           }
          ],
          "scattercarpet": [
           {
            "marker": {
             "colorbar": {
              "outlinewidth": 0,
              "ticks": ""
             }
            },
            "type": "scattercarpet"
           }
          ],
          "scattergeo": [
           {
            "marker": {
             "colorbar": {
              "outlinewidth": 0,
              "ticks": ""
             }
            },
            "type": "scattergeo"
           }
          ],
          "scattergl": [
           {
            "marker": {
             "colorbar": {
              "outlinewidth": 0,
              "ticks": ""
             }
            },
            "type": "scattergl"
           }
          ],
          "scattermapbox": [
           {
            "marker": {
             "colorbar": {
              "outlinewidth": 0,
              "ticks": ""
             }
            },
            "type": "scattermapbox"
           }
          ],
          "scatterpolar": [
           {
            "marker": {
             "colorbar": {
              "outlinewidth": 0,
              "ticks": ""
             }
            },
            "type": "scatterpolar"
           }
          ],
          "scatterpolargl": [
           {
            "marker": {
             "colorbar": {
              "outlinewidth": 0,
              "ticks": ""
             }
            },
            "type": "scatterpolargl"
           }
          ],
          "scatterternary": [
           {
            "marker": {
             "colorbar": {
              "outlinewidth": 0,
              "ticks": ""
             }
            },
            "type": "scatterternary"
           }
          ],
          "surface": [
           {
            "colorbar": {
             "outlinewidth": 0,
             "ticks": ""
            },
            "colorscale": [
             [
              0,
              "#0d0887"
             ],
             [
              0.1111111111111111,
              "#46039f"
             ],
             [
              0.2222222222222222,
              "#7201a8"
             ],
             [
              0.3333333333333333,
              "#9c179e"
             ],
             [
              0.4444444444444444,
              "#bd3786"
             ],
             [
              0.5555555555555556,
              "#d8576b"
             ],
             [
              0.6666666666666666,
              "#ed7953"
             ],
             [
              0.7777777777777778,
              "#fb9f3a"
             ],
             [
              0.8888888888888888,
              "#fdca26"
             ],
             [
              1,
              "#f0f921"
             ]
            ],
            "type": "surface"
           }
          ],
          "table": [
           {
            "cells": {
             "fill": {
              "color": "#EBF0F8"
             },
             "line": {
              "color": "white"
             }
            },
            "header": {
             "fill": {
              "color": "#C8D4E3"
             },
             "line": {
              "color": "white"
             }
            },
            "type": "table"
           }
          ]
         },
         "layout": {
          "annotationdefaults": {
           "arrowcolor": "#2a3f5f",
           "arrowhead": 0,
           "arrowwidth": 1
          },
          "autotypenumbers": "strict",
          "coloraxis": {
           "colorbar": {
            "outlinewidth": 0,
            "ticks": ""
           }
          },
          "colorscale": {
           "diverging": [
            [
             0,
             "#8e0152"
            ],
            [
             0.1,
             "#c51b7d"
            ],
            [
             0.2,
             "#de77ae"
            ],
            [
             0.3,
             "#f1b6da"
            ],
            [
             0.4,
             "#fde0ef"
            ],
            [
             0.5,
             "#f7f7f7"
            ],
            [
             0.6,
             "#e6f5d0"
            ],
            [
             0.7,
             "#b8e186"
            ],
            [
             0.8,
             "#7fbc41"
            ],
            [
             0.9,
             "#4d9221"
            ],
            [
             1,
             "#276419"
            ]
           ],
           "sequential": [
            [
             0,
             "#0d0887"
            ],
            [
             0.1111111111111111,
             "#46039f"
            ],
            [
             0.2222222222222222,
             "#7201a8"
            ],
            [
             0.3333333333333333,
             "#9c179e"
            ],
            [
             0.4444444444444444,
             "#bd3786"
            ],
            [
             0.5555555555555556,
             "#d8576b"
            ],
            [
             0.6666666666666666,
             "#ed7953"
            ],
            [
             0.7777777777777778,
             "#fb9f3a"
            ],
            [
             0.8888888888888888,
             "#fdca26"
            ],
            [
             1,
             "#f0f921"
            ]
           ],
           "sequentialminus": [
            [
             0,
             "#0d0887"
            ],
            [
             0.1111111111111111,
             "#46039f"
            ],
            [
             0.2222222222222222,
             "#7201a8"
            ],
            [
             0.3333333333333333,
             "#9c179e"
            ],
            [
             0.4444444444444444,
             "#bd3786"
            ],
            [
             0.5555555555555556,
             "#d8576b"
            ],
            [
             0.6666666666666666,
             "#ed7953"
            ],
            [
             0.7777777777777778,
             "#fb9f3a"
            ],
            [
             0.8888888888888888,
             "#fdca26"
            ],
            [
             1,
             "#f0f921"
            ]
           ]
          },
          "colorway": [
           "#636efa",
           "#EF553B",
           "#00cc96",
           "#ab63fa",
           "#FFA15A",
           "#19d3f3",
           "#FF6692",
           "#B6E880",
           "#FF97FF",
           "#FECB52"
          ],
          "font": {
           "color": "#2a3f5f"
          },
          "geo": {
           "bgcolor": "white",
           "lakecolor": "white",
           "landcolor": "#E5ECF6",
           "showlakes": true,
           "showland": true,
           "subunitcolor": "white"
          },
          "hoverlabel": {
           "align": "left"
          },
          "hovermode": "closest",
          "mapbox": {
           "style": "light"
          },
          "paper_bgcolor": "white",
          "plot_bgcolor": "#E5ECF6",
          "polar": {
           "angularaxis": {
            "gridcolor": "white",
            "linecolor": "white",
            "ticks": ""
           },
           "bgcolor": "#E5ECF6",
           "radialaxis": {
            "gridcolor": "white",
            "linecolor": "white",
            "ticks": ""
           }
          },
          "scene": {
           "xaxis": {
            "backgroundcolor": "#E5ECF6",
            "gridcolor": "white",
            "gridwidth": 2,
            "linecolor": "white",
            "showbackground": true,
            "ticks": "",
            "zerolinecolor": "white"
           },
           "yaxis": {
            "backgroundcolor": "#E5ECF6",
            "gridcolor": "white",
            "gridwidth": 2,
            "linecolor": "white",
            "showbackground": true,
            "ticks": "",
            "zerolinecolor": "white"
           },
           "zaxis": {
            "backgroundcolor": "#E5ECF6",
            "gridcolor": "white",
            "gridwidth": 2,
            "linecolor": "white",
            "showbackground": true,
            "ticks": "",
            "zerolinecolor": "white"
           }
          },
          "shapedefaults": {
           "line": {
            "color": "#2a3f5f"
           }
          },
          "ternary": {
           "aaxis": {
            "gridcolor": "white",
            "linecolor": "white",
            "ticks": ""
           },
           "baxis": {
            "gridcolor": "white",
            "linecolor": "white",
            "ticks": ""
           },
           "bgcolor": "#E5ECF6",
           "caxis": {
            "gridcolor": "white",
            "linecolor": "white",
            "ticks": ""
           }
          },
          "title": {
           "x": 0.05
          },
          "xaxis": {
           "automargin": true,
           "gridcolor": "white",
           "linecolor": "white",
           "ticks": "",
           "title": {
            "standoff": 15
           },
           "zerolinecolor": "white",
           "zerolinewidth": 2
          },
          "yaxis": {
           "automargin": true,
           "gridcolor": "white",
           "linecolor": "white",
           "ticks": "",
           "title": {
            "standoff": 15
           },
           "zerolinecolor": "white",
           "zerolinewidth": 2
          }
         }
        },
        "title": {
         "text": "Casualties of battles participated in by post-Confederation Canada"
        }
       }
      }
     },
     "metadata": {},
     "output_type": "display_data"
    }
   ],
   "source": [
    "casualties_can = candata[candata['casualties'].notna()]\n",
    "\n",
    "px.scatter_geo(casualties_can, lat='lat', lon='lng', \n",
    "               height=800, hover_name='bname', \n",
    "               hover_data=['war', 'year'],\n",
    "               size = 'casualties',\n",
    "               color='casualties',\n",
    "               title='Casualties of battles participated in by post-Confederation Canada')"
   ]
  },
  {
   "attachments": {},
   "cell_type": "markdown",
   "id": "72b91fac",
   "metadata": {},
   "source": [
    "We can also create a bar graph that shows the bloodiest wars that Canada has been a part of."
   ]
  },
  {
   "cell_type": "code",
   "execution_count": 12,
   "id": "9209a366",
   "metadata": {},
   "outputs": [],
   "source": [
    "can_bloodiest_war = candata.groupby('war',as_index=False)['casualties'].sum()\n",
    "can_bloodiest_war = can_bloodiest_war[can_bloodiest_war['casualties'] > 0]\n",
    "can_bloodiest_war.sort_values('casualties',inplace=True)"
   ]
  },
  {
   "cell_type": "code",
   "execution_count": 13,
   "id": "d191b59b",
   "metadata": {},
   "outputs": [
    {
     "data": {
      "application/vnd.plotly.v1+json": {
       "config": {
        "plotlyServerURL": "https://plot.ly"
       },
       "data": [
        {
         "alignmentgroup": "True",
         "hovertemplate": "war=%{x}<br>casualties=%{y}<extra></extra>",
         "legendgroup": "",
         "marker": {
          "color": "#636efa",
          "pattern": {
           "shape": ""
          }
         },
         "name": "",
         "offsetgroup": "",
         "orientation": "v",
         "showlegend": false,
         "textposition": "auto",
         "type": "bar",
         "x": [
          "Western Front of World War I",
          "World War II",
          "Spring Offensive",
          "Battle of the Somme",
          "Battle of Monte Cassino",
          "Operation Overlord",
          "Pacific War",
          "World War I",
          "Hundred Days Offensive",
          "Battle of Passchendaele",
          "American-led intervention in Iraq (2014–present)",
          "Invasion of Normandy",
          "Middle Eastern theatre of World War I",
          "Iraqi Civil War (2014–2017)",
          "2011 Libyan Civil War"
         ],
         "xaxis": "x",
         "y": [
          1867521,
          737064,
          713616,
          395041,
          380000,
          280764,
          144220,
          82927,
          66500,
          60654,
          17592,
          17500,
          14215,
          8096,
          6650
         ],
         "yaxis": "y"
        }
       ],
       "layout": {
        "barmode": "relative",
        "legend": {
         "tracegroupgap": 0
        },
        "template": {
         "data": {
          "bar": [
           {
            "error_x": {
             "color": "#2a3f5f"
            },
            "error_y": {
             "color": "#2a3f5f"
            },
            "marker": {
             "line": {
              "color": "#E5ECF6",
              "width": 0.5
             },
             "pattern": {
              "fillmode": "overlay",
              "size": 10,
              "solidity": 0.2
             }
            },
            "type": "bar"
           }
          ],
          "barpolar": [
           {
            "marker": {
             "line": {
              "color": "#E5ECF6",
              "width": 0.5
             },
             "pattern": {
              "fillmode": "overlay",
              "size": 10,
              "solidity": 0.2
             }
            },
            "type": "barpolar"
           }
          ],
          "carpet": [
           {
            "aaxis": {
             "endlinecolor": "#2a3f5f",
             "gridcolor": "white",
             "linecolor": "white",
             "minorgridcolor": "white",
             "startlinecolor": "#2a3f5f"
            },
            "baxis": {
             "endlinecolor": "#2a3f5f",
             "gridcolor": "white",
             "linecolor": "white",
             "minorgridcolor": "white",
             "startlinecolor": "#2a3f5f"
            },
            "type": "carpet"
           }
          ],
          "choropleth": [
           {
            "colorbar": {
             "outlinewidth": 0,
             "ticks": ""
            },
            "type": "choropleth"
           }
          ],
          "contour": [
           {
            "colorbar": {
             "outlinewidth": 0,
             "ticks": ""
            },
            "colorscale": [
             [
              0,
              "#0d0887"
             ],
             [
              0.1111111111111111,
              "#46039f"
             ],
             [
              0.2222222222222222,
              "#7201a8"
             ],
             [
              0.3333333333333333,
              "#9c179e"
             ],
             [
              0.4444444444444444,
              "#bd3786"
             ],
             [
              0.5555555555555556,
              "#d8576b"
             ],
             [
              0.6666666666666666,
              "#ed7953"
             ],
             [
              0.7777777777777778,
              "#fb9f3a"
             ],
             [
              0.8888888888888888,
              "#fdca26"
             ],
             [
              1,
              "#f0f921"
             ]
            ],
            "type": "contour"
           }
          ],
          "contourcarpet": [
           {
            "colorbar": {
             "outlinewidth": 0,
             "ticks": ""
            },
            "type": "contourcarpet"
           }
          ],
          "heatmap": [
           {
            "colorbar": {
             "outlinewidth": 0,
             "ticks": ""
            },
            "colorscale": [
             [
              0,
              "#0d0887"
             ],
             [
              0.1111111111111111,
              "#46039f"
             ],
             [
              0.2222222222222222,
              "#7201a8"
             ],
             [
              0.3333333333333333,
              "#9c179e"
             ],
             [
              0.4444444444444444,
              "#bd3786"
             ],
             [
              0.5555555555555556,
              "#d8576b"
             ],
             [
              0.6666666666666666,
              "#ed7953"
             ],
             [
              0.7777777777777778,
              "#fb9f3a"
             ],
             [
              0.8888888888888888,
              "#fdca26"
             ],
             [
              1,
              "#f0f921"
             ]
            ],
            "type": "heatmap"
           }
          ],
          "heatmapgl": [
           {
            "colorbar": {
             "outlinewidth": 0,
             "ticks": ""
            },
            "colorscale": [
             [
              0,
              "#0d0887"
             ],
             [
              0.1111111111111111,
              "#46039f"
             ],
             [
              0.2222222222222222,
              "#7201a8"
             ],
             [
              0.3333333333333333,
              "#9c179e"
             ],
             [
              0.4444444444444444,
              "#bd3786"
             ],
             [
              0.5555555555555556,
              "#d8576b"
             ],
             [
              0.6666666666666666,
              "#ed7953"
             ],
             [
              0.7777777777777778,
              "#fb9f3a"
             ],
             [
              0.8888888888888888,
              "#fdca26"
             ],
             [
              1,
              "#f0f921"
             ]
            ],
            "type": "heatmapgl"
           }
          ],
          "histogram": [
           {
            "marker": {
             "pattern": {
              "fillmode": "overlay",
              "size": 10,
              "solidity": 0.2
             }
            },
            "type": "histogram"
           }
          ],
          "histogram2d": [
           {
            "colorbar": {
             "outlinewidth": 0,
             "ticks": ""
            },
            "colorscale": [
             [
              0,
              "#0d0887"
             ],
             [
              0.1111111111111111,
              "#46039f"
             ],
             [
              0.2222222222222222,
              "#7201a8"
             ],
             [
              0.3333333333333333,
              "#9c179e"
             ],
             [
              0.4444444444444444,
              "#bd3786"
             ],
             [
              0.5555555555555556,
              "#d8576b"
             ],
             [
              0.6666666666666666,
              "#ed7953"
             ],
             [
              0.7777777777777778,
              "#fb9f3a"
             ],
             [
              0.8888888888888888,
              "#fdca26"
             ],
             [
              1,
              "#f0f921"
             ]
            ],
            "type": "histogram2d"
           }
          ],
          "histogram2dcontour": [
           {
            "colorbar": {
             "outlinewidth": 0,
             "ticks": ""
            },
            "colorscale": [
             [
              0,
              "#0d0887"
             ],
             [
              0.1111111111111111,
              "#46039f"
             ],
             [
              0.2222222222222222,
              "#7201a8"
             ],
             [
              0.3333333333333333,
              "#9c179e"
             ],
             [
              0.4444444444444444,
              "#bd3786"
             ],
             [
              0.5555555555555556,
              "#d8576b"
             ],
             [
              0.6666666666666666,
              "#ed7953"
             ],
             [
              0.7777777777777778,
              "#fb9f3a"
             ],
             [
              0.8888888888888888,
              "#fdca26"
             ],
             [
              1,
              "#f0f921"
             ]
            ],
            "type": "histogram2dcontour"
           }
          ],
          "mesh3d": [
           {
            "colorbar": {
             "outlinewidth": 0,
             "ticks": ""
            },
            "type": "mesh3d"
           }
          ],
          "parcoords": [
           {
            "line": {
             "colorbar": {
              "outlinewidth": 0,
              "ticks": ""
             }
            },
            "type": "parcoords"
           }
          ],
          "pie": [
           {
            "automargin": true,
            "type": "pie"
           }
          ],
          "scatter": [
           {
            "fillpattern": {
             "fillmode": "overlay",
             "size": 10,
             "solidity": 0.2
            },
            "type": "scatter"
           }
          ],
          "scatter3d": [
           {
            "line": {
             "colorbar": {
              "outlinewidth": 0,
              "ticks": ""
             }
            },
            "marker": {
             "colorbar": {
              "outlinewidth": 0,
              "ticks": ""
             }
            },
            "type": "scatter3d"
           }
          ],
          "scattercarpet": [
           {
            "marker": {
             "colorbar": {
              "outlinewidth": 0,
              "ticks": ""
             }
            },
            "type": "scattercarpet"
           }
          ],
          "scattergeo": [
           {
            "marker": {
             "colorbar": {
              "outlinewidth": 0,
              "ticks": ""
             }
            },
            "type": "scattergeo"
           }
          ],
          "scattergl": [
           {
            "marker": {
             "colorbar": {
              "outlinewidth": 0,
              "ticks": ""
             }
            },
            "type": "scattergl"
           }
          ],
          "scattermapbox": [
           {
            "marker": {
             "colorbar": {
              "outlinewidth": 0,
              "ticks": ""
             }
            },
            "type": "scattermapbox"
           }
          ],
          "scatterpolar": [
           {
            "marker": {
             "colorbar": {
              "outlinewidth": 0,
              "ticks": ""
             }
            },
            "type": "scatterpolar"
           }
          ],
          "scatterpolargl": [
           {
            "marker": {
             "colorbar": {
              "outlinewidth": 0,
              "ticks": ""
             }
            },
            "type": "scatterpolargl"
           }
          ],
          "scatterternary": [
           {
            "marker": {
             "colorbar": {
              "outlinewidth": 0,
              "ticks": ""
             }
            },
            "type": "scatterternary"
           }
          ],
          "surface": [
           {
            "colorbar": {
             "outlinewidth": 0,
             "ticks": ""
            },
            "colorscale": [
             [
              0,
              "#0d0887"
             ],
             [
              0.1111111111111111,
              "#46039f"
             ],
             [
              0.2222222222222222,
              "#7201a8"
             ],
             [
              0.3333333333333333,
              "#9c179e"
             ],
             [
              0.4444444444444444,
              "#bd3786"
             ],
             [
              0.5555555555555556,
              "#d8576b"
             ],
             [
              0.6666666666666666,
              "#ed7953"
             ],
             [
              0.7777777777777778,
              "#fb9f3a"
             ],
             [
              0.8888888888888888,
              "#fdca26"
             ],
             [
              1,
              "#f0f921"
             ]
            ],
            "type": "surface"
           }
          ],
          "table": [
           {
            "cells": {
             "fill": {
              "color": "#EBF0F8"
             },
             "line": {
              "color": "white"
             }
            },
            "header": {
             "fill": {
              "color": "#C8D4E3"
             },
             "line": {
              "color": "white"
             }
            },
            "type": "table"
           }
          ]
         },
         "layout": {
          "annotationdefaults": {
           "arrowcolor": "#2a3f5f",
           "arrowhead": 0,
           "arrowwidth": 1
          },
          "autotypenumbers": "strict",
          "coloraxis": {
           "colorbar": {
            "outlinewidth": 0,
            "ticks": ""
           }
          },
          "colorscale": {
           "diverging": [
            [
             0,
             "#8e0152"
            ],
            [
             0.1,
             "#c51b7d"
            ],
            [
             0.2,
             "#de77ae"
            ],
            [
             0.3,
             "#f1b6da"
            ],
            [
             0.4,
             "#fde0ef"
            ],
            [
             0.5,
             "#f7f7f7"
            ],
            [
             0.6,
             "#e6f5d0"
            ],
            [
             0.7,
             "#b8e186"
            ],
            [
             0.8,
             "#7fbc41"
            ],
            [
             0.9,
             "#4d9221"
            ],
            [
             1,
             "#276419"
            ]
           ],
           "sequential": [
            [
             0,
             "#0d0887"
            ],
            [
             0.1111111111111111,
             "#46039f"
            ],
            [
             0.2222222222222222,
             "#7201a8"
            ],
            [
             0.3333333333333333,
             "#9c179e"
            ],
            [
             0.4444444444444444,
             "#bd3786"
            ],
            [
             0.5555555555555556,
             "#d8576b"
            ],
            [
             0.6666666666666666,
             "#ed7953"
            ],
            [
             0.7777777777777778,
             "#fb9f3a"
            ],
            [
             0.8888888888888888,
             "#fdca26"
            ],
            [
             1,
             "#f0f921"
            ]
           ],
           "sequentialminus": [
            [
             0,
             "#0d0887"
            ],
            [
             0.1111111111111111,
             "#46039f"
            ],
            [
             0.2222222222222222,
             "#7201a8"
            ],
            [
             0.3333333333333333,
             "#9c179e"
            ],
            [
             0.4444444444444444,
             "#bd3786"
            ],
            [
             0.5555555555555556,
             "#d8576b"
            ],
            [
             0.6666666666666666,
             "#ed7953"
            ],
            [
             0.7777777777777778,
             "#fb9f3a"
            ],
            [
             0.8888888888888888,
             "#fdca26"
            ],
            [
             1,
             "#f0f921"
            ]
           ]
          },
          "colorway": [
           "#636efa",
           "#EF553B",
           "#00cc96",
           "#ab63fa",
           "#FFA15A",
           "#19d3f3",
           "#FF6692",
           "#B6E880",
           "#FF97FF",
           "#FECB52"
          ],
          "font": {
           "color": "#2a3f5f"
          },
          "geo": {
           "bgcolor": "white",
           "lakecolor": "white",
           "landcolor": "#E5ECF6",
           "showlakes": true,
           "showland": true,
           "subunitcolor": "white"
          },
          "hoverlabel": {
           "align": "left"
          },
          "hovermode": "closest",
          "mapbox": {
           "style": "light"
          },
          "paper_bgcolor": "white",
          "plot_bgcolor": "#E5ECF6",
          "polar": {
           "angularaxis": {
            "gridcolor": "white",
            "linecolor": "white",
            "ticks": ""
           },
           "bgcolor": "#E5ECF6",
           "radialaxis": {
            "gridcolor": "white",
            "linecolor": "white",
            "ticks": ""
           }
          },
          "scene": {
           "xaxis": {
            "backgroundcolor": "#E5ECF6",
            "gridcolor": "white",
            "gridwidth": 2,
            "linecolor": "white",
            "showbackground": true,
            "ticks": "",
            "zerolinecolor": "white"
           },
           "yaxis": {
            "backgroundcolor": "#E5ECF6",
            "gridcolor": "white",
            "gridwidth": 2,
            "linecolor": "white",
            "showbackground": true,
            "ticks": "",
            "zerolinecolor": "white"
           },
           "zaxis": {
            "backgroundcolor": "#E5ECF6",
            "gridcolor": "white",
            "gridwidth": 2,
            "linecolor": "white",
            "showbackground": true,
            "ticks": "",
            "zerolinecolor": "white"
           }
          },
          "shapedefaults": {
           "line": {
            "color": "#2a3f5f"
           }
          },
          "ternary": {
           "aaxis": {
            "gridcolor": "white",
            "linecolor": "white",
            "ticks": ""
           },
           "baxis": {
            "gridcolor": "white",
            "linecolor": "white",
            "ticks": ""
           },
           "bgcolor": "#E5ECF6",
           "caxis": {
            "gridcolor": "white",
            "linecolor": "white",
            "ticks": ""
           }
          },
          "title": {
           "x": 0.05
          },
          "xaxis": {
           "automargin": true,
           "gridcolor": "white",
           "linecolor": "white",
           "ticks": "",
           "title": {
            "standoff": 15
           },
           "zerolinecolor": "white",
           "zerolinewidth": 2
          },
          "yaxis": {
           "automargin": true,
           "gridcolor": "white",
           "linecolor": "white",
           "ticks": "",
           "title": {
            "standoff": 15
           },
           "zerolinecolor": "white",
           "zerolinewidth": 2
          }
         }
        },
        "title": {
         "text": "Canada's Bloodiest Wars"
        },
        "xaxis": {
         "anchor": "y",
         "domain": [
          0,
          1
         ],
         "title": {
          "text": "war"
         }
        },
        "yaxis": {
         "anchor": "x",
         "domain": [
          0,
          1
         ],
         "title": {
          "text": "casualties"
         }
        }
       }
      }
     },
     "metadata": {},
     "output_type": "display_data"
    }
   ],
   "source": [
    "top_10_bloddiest_can_wars = can_bloodiest_war[:10:-1]\n",
    "\n",
    "fig = px.bar(top_10_bloddiest_can_wars,x='war',y='casualties',title=\"Canada's Bloodiest Wars\")\n",
    "\n",
    "fig.show()"
   ]
  },
  {
   "attachments": {},
   "cell_type": "markdown",
   "id": "aa040ab2",
   "metadata": {},
   "source": [
    "We can also look at which continents Canada has fought the most in."
   ]
  },
  {
   "cell_type": "code",
   "execution_count": 23,
   "id": "6dcb20b4",
   "metadata": {},
   "outputs": [
    {
     "data": {
      "text/html": [
       "<div>\n",
       "<style scoped>\n",
       "    .dataframe tbody tr th:only-of-type {\n",
       "        vertical-align: middle;\n",
       "    }\n",
       "\n",
       "    .dataframe tbody tr th {\n",
       "        vertical-align: top;\n",
       "    }\n",
       "\n",
       "    .dataframe thead th {\n",
       "        text-align: right;\n",
       "    }\n",
       "</style>\n",
       "<table border=\"1\" class=\"dataframe\">\n",
       "  <thead>\n",
       "    <tr style=\"text-align: right;\">\n",
       "      <th></th>\n",
       "      <th>uid</th>\n",
       "      <th>bid</th>\n",
       "      <th>lr</th>\n",
       "      <th>bname</th>\n",
       "      <th>year</th>\n",
       "      <th>year_end</th>\n",
       "      <th>war</th>\n",
       "      <th>bell</th>\n",
       "      <th>mult_sides</th>\n",
       "      <th>win</th>\n",
       "      <th>...</th>\n",
       "      <th>multiple</th>\n",
       "      <th>entire</th>\n",
       "      <th>unknown</th>\n",
       "      <th>ongoing</th>\n",
       "      <th>plan</th>\n",
       "      <th>nopage</th>\n",
       "      <th>wd_url</th>\n",
       "      <th>wp_url</th>\n",
       "      <th>casualties</th>\n",
       "      <th>True Location</th>\n",
       "    </tr>\n",
       "  </thead>\n",
       "  <tbody>\n",
       "    <tr>\n",
       "      <th>19131</th>\n",
       "      <td>19132</td>\n",
       "      <td>6735</td>\n",
       "      <td>l</td>\n",
       "      <td>Battle of Mirăslău</td>\n",
       "      <td>1600</td>\n",
       "      <td>NaN</td>\n",
       "      <td>Long War</td>\n",
       "      <td>Székelys</td>\n",
       "      <td>NaN</td>\n",
       "      <td>loss</td>\n",
       "      <td>...</td>\n",
       "      <td>NaN</td>\n",
       "      <td>NaN</td>\n",
       "      <td>NaN</td>\n",
       "      <td>NaN</td>\n",
       "      <td>NaN</td>\n",
       "      <td>NaN</td>\n",
       "      <td>http://www.wikidata.org/entity/Q722205</td>\n",
       "      <td>https://en.wikipedia.org/wiki/Battle_of_Mir%C4...</td>\n",
       "      <td>NaN</td>\n",
       "      <td>{'country': 'Romania', 'country_code': 'ro'}</td>\n",
       "    </tr>\n",
       "    <tr>\n",
       "      <th>19130</th>\n",
       "      <td>19131</td>\n",
       "      <td>6735</td>\n",
       "      <td>l</td>\n",
       "      <td>Battle of Mirăslău</td>\n",
       "      <td>1600</td>\n",
       "      <td>NaN</td>\n",
       "      <td>Long War</td>\n",
       "      <td>Wallachia</td>\n",
       "      <td>NaN</td>\n",
       "      <td>loss</td>\n",
       "      <td>...</td>\n",
       "      <td>NaN</td>\n",
       "      <td>NaN</td>\n",
       "      <td>NaN</td>\n",
       "      <td>NaN</td>\n",
       "      <td>NaN</td>\n",
       "      <td>NaN</td>\n",
       "      <td>http://www.wikidata.org/entity/Q722205</td>\n",
       "      <td>https://en.wikipedia.org/wiki/Battle_of_Mir%C4...</td>\n",
       "      <td>NaN</td>\n",
       "      <td>{'country': 'Romania', 'country_code': 'ro'}</td>\n",
       "    </tr>\n",
       "    <tr>\n",
       "      <th>19132</th>\n",
       "      <td>19133</td>\n",
       "      <td>6735</td>\n",
       "      <td>l</td>\n",
       "      <td>Battle of Mirăslău</td>\n",
       "      <td>1600</td>\n",
       "      <td>NaN</td>\n",
       "      <td>Long War</td>\n",
       "      <td>Cossacks</td>\n",
       "      <td>NaN</td>\n",
       "      <td>loss</td>\n",
       "      <td>...</td>\n",
       "      <td>NaN</td>\n",
       "      <td>NaN</td>\n",
       "      <td>NaN</td>\n",
       "      <td>NaN</td>\n",
       "      <td>NaN</td>\n",
       "      <td>NaN</td>\n",
       "      <td>http://www.wikidata.org/entity/Q722205</td>\n",
       "      <td>https://en.wikipedia.org/wiki/Battle_of_Mir%C4...</td>\n",
       "      <td>NaN</td>\n",
       "      <td>{'country': 'Romania', 'country_code': 'ro'}</td>\n",
       "    </tr>\n",
       "    <tr>\n",
       "      <th>5838</th>\n",
       "      <td>5839</td>\n",
       "      <td>1965</td>\n",
       "      <td>r</td>\n",
       "      <td>Battle of Sekigahara</td>\n",
       "      <td>1600</td>\n",
       "      <td>NaN</td>\n",
       "      <td>NaN</td>\n",
       "      <td>forces loyal to Tokugawa Ieyasu</td>\n",
       "      <td>NaN</td>\n",
       "      <td>win</td>\n",
       "      <td>...</td>\n",
       "      <td>NaN</td>\n",
       "      <td>NaN</td>\n",
       "      <td>NaN</td>\n",
       "      <td>NaN</td>\n",
       "      <td>NaN</td>\n",
       "      <td>NaN</td>\n",
       "      <td>http://www.wikidata.org/entity/Q234188</td>\n",
       "      <td>https://en.wikipedia.org/wiki/Battle_of_Sekiga...</td>\n",
       "      <td>NaN</td>\n",
       "      <td>{'country': 'Japan', 'country_code': 'jp'}</td>\n",
       "    </tr>\n",
       "    <tr>\n",
       "      <th>19134</th>\n",
       "      <td>19135</td>\n",
       "      <td>6735</td>\n",
       "      <td>r</td>\n",
       "      <td>Battle of Mirăslău</td>\n",
       "      <td>1600</td>\n",
       "      <td>NaN</td>\n",
       "      <td>Long War</td>\n",
       "      <td>Holy Roman Empire</td>\n",
       "      <td>NaN</td>\n",
       "      <td>win</td>\n",
       "      <td>...</td>\n",
       "      <td>NaN</td>\n",
       "      <td>NaN</td>\n",
       "      <td>NaN</td>\n",
       "      <td>NaN</td>\n",
       "      <td>NaN</td>\n",
       "      <td>NaN</td>\n",
       "      <td>http://www.wikidata.org/entity/Q722205</td>\n",
       "      <td>https://en.wikipedia.org/wiki/Battle_of_Mir%C4...</td>\n",
       "      <td>NaN</td>\n",
       "      <td>{'country': 'Romania', 'country_code': 'ro'}</td>\n",
       "    </tr>\n",
       "    <tr>\n",
       "      <th>...</th>\n",
       "      <td>...</td>\n",
       "      <td>...</td>\n",
       "      <td>...</td>\n",
       "      <td>...</td>\n",
       "      <td>...</td>\n",
       "      <td>...</td>\n",
       "      <td>...</td>\n",
       "      <td>...</td>\n",
       "      <td>...</td>\n",
       "      <td>...</td>\n",
       "      <td>...</td>\n",
       "      <td>...</td>\n",
       "      <td>...</td>\n",
       "      <td>...</td>\n",
       "      <td>...</td>\n",
       "      <td>...</td>\n",
       "      <td>...</td>\n",
       "      <td>...</td>\n",
       "      <td>...</td>\n",
       "      <td>...</td>\n",
       "      <td>...</td>\n",
       "    </tr>\n",
       "    <tr>\n",
       "      <th>17506</th>\n",
       "      <td>17507</td>\n",
       "      <td>6213</td>\n",
       "      <td>l</td>\n",
       "      <td>Battle of Baghuz Fawqani</td>\n",
       "      <td>2019</td>\n",
       "      <td>NaN</td>\n",
       "      <td>Deir ez-Zor offensive</td>\n",
       "      <td>United Kingdom</td>\n",
       "      <td>NaN</td>\n",
       "      <td>win</td>\n",
       "      <td>...</td>\n",
       "      <td>NaN</td>\n",
       "      <td>NaN</td>\n",
       "      <td>NaN</td>\n",
       "      <td>NaN</td>\n",
       "      <td>NaN</td>\n",
       "      <td>NaN</td>\n",
       "      <td>http://www.wikidata.org/entity/Q61843818</td>\n",
       "      <td>https://en.wikipedia.org/wiki/Battle_of_Baghuz...</td>\n",
       "      <td>NaN</td>\n",
       "      <td>{'country': 'Syria', 'country_code': 'sy'}</td>\n",
       "    </tr>\n",
       "    <tr>\n",
       "      <th>17505</th>\n",
       "      <td>17506</td>\n",
       "      <td>6213</td>\n",
       "      <td>l</td>\n",
       "      <td>Battle of Baghuz Fawqani</td>\n",
       "      <td>2019</td>\n",
       "      <td>NaN</td>\n",
       "      <td>Deir ez-Zor offensive</td>\n",
       "      <td>France</td>\n",
       "      <td>NaN</td>\n",
       "      <td>win</td>\n",
       "      <td>...</td>\n",
       "      <td>NaN</td>\n",
       "      <td>NaN</td>\n",
       "      <td>NaN</td>\n",
       "      <td>NaN</td>\n",
       "      <td>NaN</td>\n",
       "      <td>NaN</td>\n",
       "      <td>http://www.wikidata.org/entity/Q61843818</td>\n",
       "      <td>https://en.wikipedia.org/wiki/Battle_of_Baghuz...</td>\n",
       "      <td>NaN</td>\n",
       "      <td>{'country': 'Syria', 'country_code': 'sy'}</td>\n",
       "    </tr>\n",
       "    <tr>\n",
       "      <th>17504</th>\n",
       "      <td>17505</td>\n",
       "      <td>6213</td>\n",
       "      <td>l</td>\n",
       "      <td>Battle of Baghuz Fawqani</td>\n",
       "      <td>2019</td>\n",
       "      <td>NaN</td>\n",
       "      <td>Deir ez-Zor offensive</td>\n",
       "      <td>United States</td>\n",
       "      <td>NaN</td>\n",
       "      <td>win</td>\n",
       "      <td>...</td>\n",
       "      <td>NaN</td>\n",
       "      <td>NaN</td>\n",
       "      <td>NaN</td>\n",
       "      <td>NaN</td>\n",
       "      <td>NaN</td>\n",
       "      <td>NaN</td>\n",
       "      <td>http://www.wikidata.org/entity/Q61843818</td>\n",
       "      <td>https://en.wikipedia.org/wiki/Battle_of_Baghuz...</td>\n",
       "      <td>NaN</td>\n",
       "      <td>{'country': 'Syria', 'country_code': 'sy'}</td>\n",
       "    </tr>\n",
       "    <tr>\n",
       "      <th>17510</th>\n",
       "      <td>17511</td>\n",
       "      <td>6213</td>\n",
       "      <td>r</td>\n",
       "      <td>Battle of Baghuz Fawqani</td>\n",
       "      <td>2019</td>\n",
       "      <td>NaN</td>\n",
       "      <td>Deir ez-Zor offensive</td>\n",
       "      <td>Wilayat al-Sham</td>\n",
       "      <td>NaN</td>\n",
       "      <td>loss</td>\n",
       "      <td>...</td>\n",
       "      <td>NaN</td>\n",
       "      <td>NaN</td>\n",
       "      <td>NaN</td>\n",
       "      <td>NaN</td>\n",
       "      <td>NaN</td>\n",
       "      <td>NaN</td>\n",
       "      <td>http://www.wikidata.org/entity/Q61843818</td>\n",
       "      <td>https://en.wikipedia.org/wiki/Battle_of_Baghuz...</td>\n",
       "      <td>NaN</td>\n",
       "      <td>{'country': 'Syria', 'country_code': 'sy'}</td>\n",
       "    </tr>\n",
       "    <tr>\n",
       "      <th>18987</th>\n",
       "      <td>18988</td>\n",
       "      <td>6693</td>\n",
       "      <td>l</td>\n",
       "      <td>Second Battle of Ras al-Ayn</td>\n",
       "      <td>2019</td>\n",
       "      <td>NaN</td>\n",
       "      <td>2019 Turkish offensive into north-eastern Syria</td>\n",
       "      <td>Turkey</td>\n",
       "      <td>NaN</td>\n",
       "      <td>win</td>\n",
       "      <td>...</td>\n",
       "      <td>NaN</td>\n",
       "      <td>NaN</td>\n",
       "      <td>NaN</td>\n",
       "      <td>NaN</td>\n",
       "      <td>NaN</td>\n",
       "      <td>NaN</td>\n",
       "      <td>http://www.wikidata.org/entity/Q71414999</td>\n",
       "      <td>https://en.wikipedia.org/wiki/Second_Battle_of...</td>\n",
       "      <td>NaN</td>\n",
       "      <td>{'country': 'Syria', 'country_code': 'sy'}</td>\n",
       "    </tr>\n",
       "  </tbody>\n",
       "</table>\n",
       "<p>15487 rows × 41 columns</p>\n",
       "</div>"
      ],
      "text/plain": [
       "         uid   bid lr                        bname  year  year_end   \n",
       "19131  19132  6735  l           Battle of Mirăslău  1600       NaN  \\\n",
       "19130  19131  6735  l           Battle of Mirăslău  1600       NaN   \n",
       "19132  19133  6735  l           Battle of Mirăslău  1600       NaN   \n",
       "5838    5839  1965  r         Battle of Sekigahara  1600       NaN   \n",
       "19134  19135  6735  r           Battle of Mirăslău  1600       NaN   \n",
       "...      ...   ... ..                          ...   ...       ...   \n",
       "17506  17507  6213  l     Battle of Baghuz Fawqani  2019       NaN   \n",
       "17505  17506  6213  l     Battle of Baghuz Fawqani  2019       NaN   \n",
       "17504  17505  6213  l     Battle of Baghuz Fawqani  2019       NaN   \n",
       "17510  17511  6213  r     Battle of Baghuz Fawqani  2019       NaN   \n",
       "18987  18988  6693  l  Second Battle of Ras al-Ayn  2019       NaN   \n",
       "\n",
       "                                                   war   \n",
       "19131                                         Long War  \\\n",
       "19130                                         Long War   \n",
       "19132                                         Long War   \n",
       "5838                                               NaN   \n",
       "19134                                         Long War   \n",
       "...                                                ...   \n",
       "17506                            Deir ez-Zor offensive   \n",
       "17505                            Deir ez-Zor offensive   \n",
       "17504                            Deir ez-Zor offensive   \n",
       "17510                            Deir ez-Zor offensive   \n",
       "18987  2019 Turkish offensive into north-eastern Syria   \n",
       "\n",
       "                                  bell  mult_sides   win  ...  multiple   \n",
       "19131                         Székelys         NaN  loss  ...       NaN  \\\n",
       "19130                        Wallachia         NaN  loss  ...       NaN   \n",
       "19132                         Cossacks         NaN  loss  ...       NaN   \n",
       "5838   forces loyal to Tokugawa Ieyasu         NaN   win  ...       NaN   \n",
       "19134                Holy Roman Empire         NaN   win  ...       NaN   \n",
       "...                                ...         ...   ...  ...       ...   \n",
       "17506                   United Kingdom         NaN   win  ...       NaN   \n",
       "17505                           France         NaN   win  ...       NaN   \n",
       "17504                    United States         NaN   win  ...       NaN   \n",
       "17510                  Wilayat al-Sham         NaN  loss  ...       NaN   \n",
       "18987                           Turkey         NaN   win  ...       NaN   \n",
       "\n",
       "       entire  unknown  ongoing  plan  nopage   \n",
       "19131     NaN      NaN      NaN   NaN     NaN  \\\n",
       "19130     NaN      NaN      NaN   NaN     NaN   \n",
       "19132     NaN      NaN      NaN   NaN     NaN   \n",
       "5838      NaN      NaN      NaN   NaN     NaN   \n",
       "19134     NaN      NaN      NaN   NaN     NaN   \n",
       "...       ...      ...      ...   ...     ...   \n",
       "17506     NaN      NaN      NaN   NaN     NaN   \n",
       "17505     NaN      NaN      NaN   NaN     NaN   \n",
       "17504     NaN      NaN      NaN   NaN     NaN   \n",
       "17510     NaN      NaN      NaN   NaN     NaN   \n",
       "18987     NaN      NaN      NaN   NaN     NaN   \n",
       "\n",
       "                                         wd_url   \n",
       "19131    http://www.wikidata.org/entity/Q722205  \\\n",
       "19130    http://www.wikidata.org/entity/Q722205   \n",
       "19132    http://www.wikidata.org/entity/Q722205   \n",
       "5838     http://www.wikidata.org/entity/Q234188   \n",
       "19134    http://www.wikidata.org/entity/Q722205   \n",
       "...                                         ...   \n",
       "17506  http://www.wikidata.org/entity/Q61843818   \n",
       "17505  http://www.wikidata.org/entity/Q61843818   \n",
       "17504  http://www.wikidata.org/entity/Q61843818   \n",
       "17510  http://www.wikidata.org/entity/Q61843818   \n",
       "18987  http://www.wikidata.org/entity/Q71414999   \n",
       "\n",
       "                                                  wp_url  casualties   \n",
       "19131  https://en.wikipedia.org/wiki/Battle_of_Mir%C4...         NaN  \\\n",
       "19130  https://en.wikipedia.org/wiki/Battle_of_Mir%C4...         NaN   \n",
       "19132  https://en.wikipedia.org/wiki/Battle_of_Mir%C4...         NaN   \n",
       "5838   https://en.wikipedia.org/wiki/Battle_of_Sekiga...         NaN   \n",
       "19134  https://en.wikipedia.org/wiki/Battle_of_Mir%C4...         NaN   \n",
       "...                                                  ...         ...   \n",
       "17506  https://en.wikipedia.org/wiki/Battle_of_Baghuz...         NaN   \n",
       "17505  https://en.wikipedia.org/wiki/Battle_of_Baghuz...         NaN   \n",
       "17504  https://en.wikipedia.org/wiki/Battle_of_Baghuz...         NaN   \n",
       "17510  https://en.wikipedia.org/wiki/Battle_of_Baghuz...         NaN   \n",
       "18987  https://en.wikipedia.org/wiki/Second_Battle_of...         NaN   \n",
       "\n",
       "                                      True Location  \n",
       "19131  {'country': 'Romania', 'country_code': 'ro'}  \n",
       "19130  {'country': 'Romania', 'country_code': 'ro'}  \n",
       "19132  {'country': 'Romania', 'country_code': 'ro'}  \n",
       "5838     {'country': 'Japan', 'country_code': 'jp'}  \n",
       "19134  {'country': 'Romania', 'country_code': 'ro'}  \n",
       "...                                             ...  \n",
       "17506    {'country': 'Syria', 'country_code': 'sy'}  \n",
       "17505    {'country': 'Syria', 'country_code': 'sy'}  \n",
       "17504    {'country': 'Syria', 'country_code': 'sy'}  \n",
       "17510    {'country': 'Syria', 'country_code': 'sy'}  \n",
       "18987    {'country': 'Syria', 'country_code': 'sy'}  \n",
       "\n",
       "[15487 rows x 41 columns]"
      ]
     },
     "execution_count": 23,
     "metadata": {},
     "output_type": "execute_result"
    }
   ],
   "source": [
    "headers = requests.utils.default_headers()\n",
    "headers.update(\n",
    "    {\n",
    "        'User-Agent': 'Callysto-Tornadoes',\n",
    "    }\n",
    ")\n",
    "\n",
    "curr_data = data.loc[data['year'] >= 1600]\n",
    "battles_continent = curr_data[(curr_data['lat'].notna()) & (curr_data['lng'].notna())]\n",
    "\n",
    "true_locations = []\n",
    "for i,row in battles_continent.iterrows():\n",
    "    url = \"https://nominatim.openstreetmap.org/reverse?format=jsonv2&lat=\" + str(row['lat']) + \"&lon=\" + str(row['lng'])  + \"&zoom=3&accept-language='en'\"\n",
    "    success = False\n",
    "    while not success:\n",
    "        try:\n",
    "            result = requests.get(url=url,headers=headers)\n",
    "            result_json = result.json()\n",
    "            location = result_json['address']\n",
    "            true_locations.append(location)\n",
    "            success = True\n",
    "        except:\n",
    "            true_locations.append('Unknown')\n",
    "            success = True\n",
    "\n",
    "battles_continent['True Location'] = true_locations\n",
    "battles_continent = battles_continent[battles_continent['True Location'] != 'Unknown']\n",
    "battles_continent"
   ]
  },
  {
   "cell_type": "code",
   "execution_count": 58,
   "id": "c32324df",
   "metadata": {},
   "outputs": [],
   "source": [
    "def FindContinent(location):\n",
    "   try:\n",
    "      country = location['country']\n",
    "      if country == 'The Bahamas':\n",
    "         country = 'Bahamas'\n",
    "      if country == 'Sahrawi Arab Democratic Republic' or country == 'Kosovo':\n",
    "         return 'N/A'\n",
    "   except:\n",
    "      country = islands[location['archipelago']]\n",
    "\n",
    "   \n",
    "   country_alpha2 = pc.country_name_to_country_alpha2(country)\n",
    "   if country_alpha2 == 'TL':\n",
    "      return 'N/A'\n",
    "   continent_code = pc.country_alpha2_to_continent_code(country_alpha2)\n",
    "   continent = pc.convert_continent_code_to_continent_name(continent_code)\n",
    "   return continent\n",
    "\n",
    "islands = {'Luzon':'Philippines','Mindanao':'Philippines','Visayas':'Philippines'}\n",
    "battles_continent['continent'] = battles_continent['True Location'].map(lambda x: FindContinent(x))\n",
    "battles_continent\n",
    "battles_continent.to_csv('historical_battles.csv',index=False)"
   ]
  },
  {
   "cell_type": "code",
   "execution_count": 59,
   "id": "f51cc262",
   "metadata": {},
   "outputs": [
    {
     "data": {
      "application/vnd.plotly.v1+json": {
       "config": {
        "plotlyServerURL": "https://plot.ly"
       },
       "data": [
        {
         "alignmentgroup": "True",
         "hovertemplate": "continent=%{x}<br>Number of Battles Fought=%{y}<extra></extra>",
         "legendgroup": "",
         "marker": {
          "color": "#636efa",
          "pattern": {
           "shape": ""
          }
         },
         "name": "",
         "offsetgroup": "",
         "orientation": "v",
         "showlegend": false,
         "textposition": "auto",
         "type": "bar",
         "x": [
          "Europe",
          "Asia",
          "North America",
          "Africa",
          "South America",
          "Oceania",
          "N/A"
         ],
         "xaxis": "x",
         "y": [
          6096,
          3914,
          2653,
          1228,
          448,
          212,
          29
         ],
         "yaxis": "y"
        }
       ],
       "layout": {
        "barmode": "relative",
        "legend": {
         "tracegroupgap": 0
        },
        "template": {
         "data": {
          "bar": [
           {
            "error_x": {
             "color": "#2a3f5f"
            },
            "error_y": {
             "color": "#2a3f5f"
            },
            "marker": {
             "line": {
              "color": "#E5ECF6",
              "width": 0.5
             },
             "pattern": {
              "fillmode": "overlay",
              "size": 10,
              "solidity": 0.2
             }
            },
            "type": "bar"
           }
          ],
          "barpolar": [
           {
            "marker": {
             "line": {
              "color": "#E5ECF6",
              "width": 0.5
             },
             "pattern": {
              "fillmode": "overlay",
              "size": 10,
              "solidity": 0.2
             }
            },
            "type": "barpolar"
           }
          ],
          "carpet": [
           {
            "aaxis": {
             "endlinecolor": "#2a3f5f",
             "gridcolor": "white",
             "linecolor": "white",
             "minorgridcolor": "white",
             "startlinecolor": "#2a3f5f"
            },
            "baxis": {
             "endlinecolor": "#2a3f5f",
             "gridcolor": "white",
             "linecolor": "white",
             "minorgridcolor": "white",
             "startlinecolor": "#2a3f5f"
            },
            "type": "carpet"
           }
          ],
          "choropleth": [
           {
            "colorbar": {
             "outlinewidth": 0,
             "ticks": ""
            },
            "type": "choropleth"
           }
          ],
          "contour": [
           {
            "colorbar": {
             "outlinewidth": 0,
             "ticks": ""
            },
            "colorscale": [
             [
              0,
              "#0d0887"
             ],
             [
              0.1111111111111111,
              "#46039f"
             ],
             [
              0.2222222222222222,
              "#7201a8"
             ],
             [
              0.3333333333333333,
              "#9c179e"
             ],
             [
              0.4444444444444444,
              "#bd3786"
             ],
             [
              0.5555555555555556,
              "#d8576b"
             ],
             [
              0.6666666666666666,
              "#ed7953"
             ],
             [
              0.7777777777777778,
              "#fb9f3a"
             ],
             [
              0.8888888888888888,
              "#fdca26"
             ],
             [
              1,
              "#f0f921"
             ]
            ],
            "type": "contour"
           }
          ],
          "contourcarpet": [
           {
            "colorbar": {
             "outlinewidth": 0,
             "ticks": ""
            },
            "type": "contourcarpet"
           }
          ],
          "heatmap": [
           {
            "colorbar": {
             "outlinewidth": 0,
             "ticks": ""
            },
            "colorscale": [
             [
              0,
              "#0d0887"
             ],
             [
              0.1111111111111111,
              "#46039f"
             ],
             [
              0.2222222222222222,
              "#7201a8"
             ],
             [
              0.3333333333333333,
              "#9c179e"
             ],
             [
              0.4444444444444444,
              "#bd3786"
             ],
             [
              0.5555555555555556,
              "#d8576b"
             ],
             [
              0.6666666666666666,
              "#ed7953"
             ],
             [
              0.7777777777777778,
              "#fb9f3a"
             ],
             [
              0.8888888888888888,
              "#fdca26"
             ],
             [
              1,
              "#f0f921"
             ]
            ],
            "type": "heatmap"
           }
          ],
          "heatmapgl": [
           {
            "colorbar": {
             "outlinewidth": 0,
             "ticks": ""
            },
            "colorscale": [
             [
              0,
              "#0d0887"
             ],
             [
              0.1111111111111111,
              "#46039f"
             ],
             [
              0.2222222222222222,
              "#7201a8"
             ],
             [
              0.3333333333333333,
              "#9c179e"
             ],
             [
              0.4444444444444444,
              "#bd3786"
             ],
             [
              0.5555555555555556,
              "#d8576b"
             ],
             [
              0.6666666666666666,
              "#ed7953"
             ],
             [
              0.7777777777777778,
              "#fb9f3a"
             ],
             [
              0.8888888888888888,
              "#fdca26"
             ],
             [
              1,
              "#f0f921"
             ]
            ],
            "type": "heatmapgl"
           }
          ],
          "histogram": [
           {
            "marker": {
             "pattern": {
              "fillmode": "overlay",
              "size": 10,
              "solidity": 0.2
             }
            },
            "type": "histogram"
           }
          ],
          "histogram2d": [
           {
            "colorbar": {
             "outlinewidth": 0,
             "ticks": ""
            },
            "colorscale": [
             [
              0,
              "#0d0887"
             ],
             [
              0.1111111111111111,
              "#46039f"
             ],
             [
              0.2222222222222222,
              "#7201a8"
             ],
             [
              0.3333333333333333,
              "#9c179e"
             ],
             [
              0.4444444444444444,
              "#bd3786"
             ],
             [
              0.5555555555555556,
              "#d8576b"
             ],
             [
              0.6666666666666666,
              "#ed7953"
             ],
             [
              0.7777777777777778,
              "#fb9f3a"
             ],
             [
              0.8888888888888888,
              "#fdca26"
             ],
             [
              1,
              "#f0f921"
             ]
            ],
            "type": "histogram2d"
           }
          ],
          "histogram2dcontour": [
           {
            "colorbar": {
             "outlinewidth": 0,
             "ticks": ""
            },
            "colorscale": [
             [
              0,
              "#0d0887"
             ],
             [
              0.1111111111111111,
              "#46039f"
             ],
             [
              0.2222222222222222,
              "#7201a8"
             ],
             [
              0.3333333333333333,
              "#9c179e"
             ],
             [
              0.4444444444444444,
              "#bd3786"
             ],
             [
              0.5555555555555556,
              "#d8576b"
             ],
             [
              0.6666666666666666,
              "#ed7953"
             ],
             [
              0.7777777777777778,
              "#fb9f3a"
             ],
             [
              0.8888888888888888,
              "#fdca26"
             ],
             [
              1,
              "#f0f921"
             ]
            ],
            "type": "histogram2dcontour"
           }
          ],
          "mesh3d": [
           {
            "colorbar": {
             "outlinewidth": 0,
             "ticks": ""
            },
            "type": "mesh3d"
           }
          ],
          "parcoords": [
           {
            "line": {
             "colorbar": {
              "outlinewidth": 0,
              "ticks": ""
             }
            },
            "type": "parcoords"
           }
          ],
          "pie": [
           {
            "automargin": true,
            "type": "pie"
           }
          ],
          "scatter": [
           {
            "fillpattern": {
             "fillmode": "overlay",
             "size": 10,
             "solidity": 0.2
            },
            "type": "scatter"
           }
          ],
          "scatter3d": [
           {
            "line": {
             "colorbar": {
              "outlinewidth": 0,
              "ticks": ""
             }
            },
            "marker": {
             "colorbar": {
              "outlinewidth": 0,
              "ticks": ""
             }
            },
            "type": "scatter3d"
           }
          ],
          "scattercarpet": [
           {
            "marker": {
             "colorbar": {
              "outlinewidth": 0,
              "ticks": ""
             }
            },
            "type": "scattercarpet"
           }
          ],
          "scattergeo": [
           {
            "marker": {
             "colorbar": {
              "outlinewidth": 0,
              "ticks": ""
             }
            },
            "type": "scattergeo"
           }
          ],
          "scattergl": [
           {
            "marker": {
             "colorbar": {
              "outlinewidth": 0,
              "ticks": ""
             }
            },
            "type": "scattergl"
           }
          ],
          "scattermapbox": [
           {
            "marker": {
             "colorbar": {
              "outlinewidth": 0,
              "ticks": ""
             }
            },
            "type": "scattermapbox"
           }
          ],
          "scatterpolar": [
           {
            "marker": {
             "colorbar": {
              "outlinewidth": 0,
              "ticks": ""
             }
            },
            "type": "scatterpolar"
           }
          ],
          "scatterpolargl": [
           {
            "marker": {
             "colorbar": {
              "outlinewidth": 0,
              "ticks": ""
             }
            },
            "type": "scatterpolargl"
           }
          ],
          "scatterternary": [
           {
            "marker": {
             "colorbar": {
              "outlinewidth": 0,
              "ticks": ""
             }
            },
            "type": "scatterternary"
           }
          ],
          "surface": [
           {
            "colorbar": {
             "outlinewidth": 0,
             "ticks": ""
            },
            "colorscale": [
             [
              0,
              "#0d0887"
             ],
             [
              0.1111111111111111,
              "#46039f"
             ],
             [
              0.2222222222222222,
              "#7201a8"
             ],
             [
              0.3333333333333333,
              "#9c179e"
             ],
             [
              0.4444444444444444,
              "#bd3786"
             ],
             [
              0.5555555555555556,
              "#d8576b"
             ],
             [
              0.6666666666666666,
              "#ed7953"
             ],
             [
              0.7777777777777778,
              "#fb9f3a"
             ],
             [
              0.8888888888888888,
              "#fdca26"
             ],
             [
              1,
              "#f0f921"
             ]
            ],
            "type": "surface"
           }
          ],
          "table": [
           {
            "cells": {
             "fill": {
              "color": "#EBF0F8"
             },
             "line": {
              "color": "white"
             }
            },
            "header": {
             "fill": {
              "color": "#C8D4E3"
             },
             "line": {
              "color": "white"
             }
            },
            "type": "table"
           }
          ]
         },
         "layout": {
          "annotationdefaults": {
           "arrowcolor": "#2a3f5f",
           "arrowhead": 0,
           "arrowwidth": 1
          },
          "autotypenumbers": "strict",
          "coloraxis": {
           "colorbar": {
            "outlinewidth": 0,
            "ticks": ""
           }
          },
          "colorscale": {
           "diverging": [
            [
             0,
             "#8e0152"
            ],
            [
             0.1,
             "#c51b7d"
            ],
            [
             0.2,
             "#de77ae"
            ],
            [
             0.3,
             "#f1b6da"
            ],
            [
             0.4,
             "#fde0ef"
            ],
            [
             0.5,
             "#f7f7f7"
            ],
            [
             0.6,
             "#e6f5d0"
            ],
            [
             0.7,
             "#b8e186"
            ],
            [
             0.8,
             "#7fbc41"
            ],
            [
             0.9,
             "#4d9221"
            ],
            [
             1,
             "#276419"
            ]
           ],
           "sequential": [
            [
             0,
             "#0d0887"
            ],
            [
             0.1111111111111111,
             "#46039f"
            ],
            [
             0.2222222222222222,
             "#7201a8"
            ],
            [
             0.3333333333333333,
             "#9c179e"
            ],
            [
             0.4444444444444444,
             "#bd3786"
            ],
            [
             0.5555555555555556,
             "#d8576b"
            ],
            [
             0.6666666666666666,
             "#ed7953"
            ],
            [
             0.7777777777777778,
             "#fb9f3a"
            ],
            [
             0.8888888888888888,
             "#fdca26"
            ],
            [
             1,
             "#f0f921"
            ]
           ],
           "sequentialminus": [
            [
             0,
             "#0d0887"
            ],
            [
             0.1111111111111111,
             "#46039f"
            ],
            [
             0.2222222222222222,
             "#7201a8"
            ],
            [
             0.3333333333333333,
             "#9c179e"
            ],
            [
             0.4444444444444444,
             "#bd3786"
            ],
            [
             0.5555555555555556,
             "#d8576b"
            ],
            [
             0.6666666666666666,
             "#ed7953"
            ],
            [
             0.7777777777777778,
             "#fb9f3a"
            ],
            [
             0.8888888888888888,
             "#fdca26"
            ],
            [
             1,
             "#f0f921"
            ]
           ]
          },
          "colorway": [
           "#636efa",
           "#EF553B",
           "#00cc96",
           "#ab63fa",
           "#FFA15A",
           "#19d3f3",
           "#FF6692",
           "#B6E880",
           "#FF97FF",
           "#FECB52"
          ],
          "font": {
           "color": "#2a3f5f"
          },
          "geo": {
           "bgcolor": "white",
           "lakecolor": "white",
           "landcolor": "#E5ECF6",
           "showlakes": true,
           "showland": true,
           "subunitcolor": "white"
          },
          "hoverlabel": {
           "align": "left"
          },
          "hovermode": "closest",
          "mapbox": {
           "style": "light"
          },
          "paper_bgcolor": "white",
          "plot_bgcolor": "#E5ECF6",
          "polar": {
           "angularaxis": {
            "gridcolor": "white",
            "linecolor": "white",
            "ticks": ""
           },
           "bgcolor": "#E5ECF6",
           "radialaxis": {
            "gridcolor": "white",
            "linecolor": "white",
            "ticks": ""
           }
          },
          "scene": {
           "xaxis": {
            "backgroundcolor": "#E5ECF6",
            "gridcolor": "white",
            "gridwidth": 2,
            "linecolor": "white",
            "showbackground": true,
            "ticks": "",
            "zerolinecolor": "white"
           },
           "yaxis": {
            "backgroundcolor": "#E5ECF6",
            "gridcolor": "white",
            "gridwidth": 2,
            "linecolor": "white",
            "showbackground": true,
            "ticks": "",
            "zerolinecolor": "white"
           },
           "zaxis": {
            "backgroundcolor": "#E5ECF6",
            "gridcolor": "white",
            "gridwidth": 2,
            "linecolor": "white",
            "showbackground": true,
            "ticks": "",
            "zerolinecolor": "white"
           }
          },
          "shapedefaults": {
           "line": {
            "color": "#2a3f5f"
           }
          },
          "ternary": {
           "aaxis": {
            "gridcolor": "white",
            "linecolor": "white",
            "ticks": ""
           },
           "baxis": {
            "gridcolor": "white",
            "linecolor": "white",
            "ticks": ""
           },
           "bgcolor": "#E5ECF6",
           "caxis": {
            "gridcolor": "white",
            "linecolor": "white",
            "ticks": ""
           }
          },
          "title": {
           "x": 0.05
          },
          "xaxis": {
           "automargin": true,
           "gridcolor": "white",
           "linecolor": "white",
           "ticks": "",
           "title": {
            "standoff": 15
           },
           "zerolinecolor": "white",
           "zerolinewidth": 2
          },
          "yaxis": {
           "automargin": true,
           "gridcolor": "white",
           "linecolor": "white",
           "ticks": "",
           "title": {
            "standoff": 15
           },
           "zerolinecolor": "white",
           "zerolinewidth": 2
          }
         }
        },
        "title": {
         "text": "Number of Battles fought by Canada in different Continents"
        },
        "xaxis": {
         "anchor": "y",
         "domain": [
          0,
          1
         ],
         "title": {
          "text": "continent"
         }
        },
        "yaxis": {
         "anchor": "x",
         "domain": [
          0,
          1
         ],
         "title": {
          "text": "Number of Battles Fought"
         }
        }
       }
      }
     },
     "metadata": {},
     "output_type": "display_data"
    }
   ],
   "source": [
    "continent_grouped = battles_continent.groupby('continent')['locn'].count().reset_index(name='Number of Battles Fought')\n",
    "continent_grouped.sort_values('Number of Battles Fought',ascending=False,inplace=True)\n",
    "fig = px.bar(continent_grouped,x='continent',y='Number of Battles Fought',title='Number of Battles fought by Canada in different Continents')\n",
    "\n",
    "fig.show()"
   ]
  },
  {
   "cell_type": "markdown",
   "id": "2cbfd8e0-57bf-4f1b-9172-c414470e4326",
   "metadata": {},
   "source": [
    "But these only consider battles that happened after Confederation, as the sovereign state of Canada didn't exist yet. We can also look at battles that happened in geographic Canada by only considering lattitude and longitude values in that region:"
   ]
  },
  {
   "cell_type": "code",
   "execution_count": null,
   "id": "50474b15-0c5f-44a1-9015-9b08d5e21f28",
   "metadata": {},
   "outputs": [],
   "source": [
    "# Southernmost point of Canada is Lake Erie, ON, at 41°40' N; easternmost is Cape Spear, NL, at 52°37' W\n",
    "# We also need to exclude a single WWII Pacific battle that happened off the coast of Alaska that didn't involve Canada\n",
    "NA_data = data[(data['lat']>41.6) & \n",
    "               (data['lng']<-52.6) & \n",
    "               (data['lng']>-160)]\n",
    "\n",
    "# There's also many wars in this subset that don't feature Canada, so we can list them here to remove:\n",
    "remove = ['American Revolutionary War',\n",
    "          'Sioux Wars',\n",
    "          \"Red Cloud's War\",\n",
    "          'Dakota War of 1862',\n",
    "          'Russo-Tlingit War',\n",
    "          'Great Sioux War of 1876',\n",
    "          'Powder River Expedition',\n",
    "          'American Civil War',\n",
    "          'Yellowstone Expedition of 1873',\n",
    "          'Nez Perce War',\n",
    "          'Comanche Campaign',\n",
    "          'Boston campaign',\n",
    "          'Modoc War',\n",
    "          'American Revolution',\n",
    "          \"King Philip's War\",\n",
    "          'Black Hawk War',\n",
    "          'Colorado War',\n",
    "          'American Indian Wars',\n",
    "          'Forage War',\n",
    "          \"Coeur d'Alene War\",\n",
    "          'Yakima War',\n",
    "          'Philadelphia campaign',\n",
    "          'Ghost Dance War']\n",
    "\n",
    "# Remove wars listed above, as well as battles without a specific war (that all happened in the USA)\n",
    "NA_data = NA_data[(~NA_data['war'].isin(remove)) & (~NA_data['war'].isnull())]\n",
    "          \n",
    "          \n",
    "          \n",
    "fig = px.scatter_geo(NA_data, lat='lat', lon='lng', \n",
    "               hover_name='bname', \n",
    "               color='war',\n",
    "               hover_data=['year'], \n",
    "               fitbounds='locations',\n",
    "               title='Historical battles fought in present-day Canada')\n",
    "\n",
    "fig.update_layout(showlegend=False)\n",
    "fig.show()"
   ]
  },
  {
   "cell_type": "code",
   "execution_count": null,
   "id": "84a6da56",
   "metadata": {},
   "outputs": [],
   "source": [
    "list(NA_data['bname'].sort_values().unique())"
   ]
  },
  {
   "attachments": {},
   "cell_type": "markdown",
   "id": "72b3564f",
   "metadata": {},
   "source": [
    "Similar to before, we can also include casualties into this and have the bubble sizes match the number of casualties"
   ]
  },
  {
   "cell_type": "code",
   "execution_count": null,
   "id": "76f0f985",
   "metadata": {},
   "outputs": [],
   "source": [
    "NA_casualties = NA_data[NA_data['casualties'].notna()]\n",
    "\n",
    "px.scatter_geo(NA_casualties, lat='lat', lon='lng', \n",
    "               height=800, hover_name='bname', \n",
    "               size = 'casualties',\n",
    "               size_max = 30,\n",
    "               color = 'casualties',\n",
    "               hover_data=['war','year'], \n",
    "               fitbounds='locations',\n",
    "               title='Historical battles fought in present-day Canada')"
   ]
  },
  {
   "cell_type": "code",
   "execution_count": null,
   "metadata": {},
   "outputs": [],
   "source": [
    "fig = px.scatter_mapbox(NA_data, lat=\"lat\", lon=\"lng\", hover_name=\"bname\", hover_data=['year'],\n",
    "                        color_discrete_sequence=[\"fuchsia\"],zoom=2.5)\n",
    "fig.update_layout(\n",
    "    mapbox_style=\"white-bg\",\n",
    "    mapbox_layers=[\n",
    "        {\n",
    "            \"below\": 'traces',\n",
    "            \"sourcetype\": \"raster\",\n",
    "            \"sourceattribution\": \"United States Geological Survey\",\n",
    "            \"source\": [\n",
    "                \"https://basemap.nationalmap.gov/arcgis/rest/services/USGSImageryOnly/MapServer/tile/{z}/{y}/{x}\"\n",
    "            ]\n",
    "        }\n",
    "      ])\n",
    "fig.update_layout(margin={\"r\":0,\"t\":0,\"l\":0,\"b\":0})\n",
    "fig.show()"
   ]
  },
  {
   "cell_type": "markdown",
   "id": "64e56392-db90-49c4-a062-f4ac7a183ca0",
   "metadata": {},
   "source": [
    "## Next Steps\n",
    "\n",
    "Though the data can be kind of spotty for some battles, it could be interesting to bring in the number (or rate) of casualities for each battle, and size the markers proportional to that. It's only an estimate of the importance of the battle, but it's a good first step.\n",
    "\n",
    "We could also use the plotting function to animate the conflicts throughout Canadian history.\n",
    "\n",
    "Lastly, we could focus on WWI or WWII data and look at the advance of the Allied gains in Europe, highlighting battles that Canada was a major part of."
   ]
  }
 ],
 "metadata": {
  "kernelspec": {
   "display_name": "Python 3 (ipykernel)",
   "language": "python",
   "name": "python3"
  },
  "language_info": {
   "codemirror_mode": {
    "name": "ipython",
    "version": 3
   },
   "file_extension": ".py",
   "mimetype": "text/x-python",
   "name": "python",
   "nbconvert_exporter": "python",
   "pygments_lexer": "ipython3",
   "version": "3.11.3"
  }
 },
 "nbformat": 4,
 "nbformat_minor": 5
}
