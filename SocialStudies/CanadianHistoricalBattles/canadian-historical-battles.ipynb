{
 "cells": [
  {
   "cell_type": "markdown",
   "id": "4727ca18-153d-4f5a-b578-3c7815446594",
   "metadata": {},
   "source": [
    "# Exploring World Historical Battle Database\n",
    "Access to this database was granted by its creator and curator, [Dr. Shuhei Kitamura of Osaka University](https://osf.io/j357k). It's important we acknowledge his generosity. \n",
    "\n",
    "In the interest of looking at applying data science to social studies topics, Canada's involvement in world conflict is an important part of Canadian history. This database allows us to explore battles from throughout human history, and across the world."
   ]
  },
  {
   "cell_type": "code",
   "execution_count": null,
   "id": "cf0aab1f-f6ac-4ab3-8526-28bfdeb2b598",
   "metadata": {},
   "outputs": [],
   "source": [
    "import pandas as pd\n",
    "import numpy as np\n",
    "import plotly.express as px\n",
    "import warnings\n",
    "import math\n",
    "import pycountry_convert as pc\n",
    "from geopy .geocoders import Nominatim"
   ]
  },
  {
   "cell_type": "code",
   "execution_count": null,
   "id": "51c7f397-3cfc-4190-9cbb-a35ece8acdb2",
   "metadata": {},
   "outputs": [],
   "source": [
    "# Read in the data\n",
    "data = pd.read_excel('data/whbd_v11-2.xlsx')\n",
    "data = data[data['year'].notna()]\n",
    "data['year'] = data['year'].map(lambda x: int(x))\n",
    "data.sort_values('year',inplace=True)\n",
    "data"
   ]
  },
  {
   "cell_type": "code",
   "execution_count": null,
   "id": "d5196387-3e2a-4b56-8cb1-578ba668b01e",
   "metadata": {},
   "outputs": [],
   "source": [
    "# See what the columns contain\n",
    "data.columns"
   ]
  },
  {
   "cell_type": "code",
   "execution_count": null,
   "id": "7daa5f3e-5eda-4854-abd0-c26f7f7cbd4c",
   "metadata": {},
   "outputs": [],
   "source": [
    "# Filter to only look at the battles that specify Canada as a combatant. Drop unused columns\n",
    "candata = data[data['bell']=='Canada'].drop(['uk', 'fr', 'de', 'sp', 'sw', 'tr', 'at', \n",
    "                                             'ru', 'nl', 'it', 'pt', 'dk', 'habsburg', 'hre',\n",
    "                                             'naval', 'river', 'lake', 'air', 'multiple', 'entire',\n",
    "                                             'ongoing', 'plan', 'nopage', 'unknown'], axis=1)\n",
    "display(candata)"
   ]
  },
  {
   "cell_type": "markdown",
   "id": "4b843a51-d9c0-42fc-a963-fe60c528c5ed",
   "metadata": {},
   "source": [
    "We can take the data and consider only the wars that list Canada as a participant:"
   ]
  },
  {
   "cell_type": "code",
   "execution_count": null,
   "id": "268415dd-5f20-4c2b-ba0b-cca82870c586",
   "metadata": {},
   "outputs": [],
   "source": [
    "candata = candata[candata['bname'].notna()]\n",
    "\n",
    "list(candata['bname'].sort_values().unique())"
   ]
  },
  {
   "attachments": {},
   "cell_type": "markdown",
   "id": "dece9169",
   "metadata": {},
   "source": [
    "We can plot the battles on a map with their lattitude and longitude coordinates.\n",
    "\n",
    "You can drag to move around the map, zoom in and out to get more clarity. Hovering over each data point lists the name of the battle, as well as the war in which the battle was fought."
   ]
  },
  {
   "cell_type": "code",
   "execution_count": null,
   "id": "0e037b4c",
   "metadata": {},
   "outputs": [],
   "source": [
    "fig = px.scatter_geo(candata, lat='lat', lon='lng', \n",
    "               hover_name='bname', \n",
    "               hover_data=['year'],\n",
    "               color= 'war',\n",
    "               title='Battles participated in by post-Confederation Canada')\n",
    "\n",
    "fig.update_layout(showlegend=False)\n",
    "fig.show()"
   ]
  },
  {
   "attachments": {},
   "cell_type": "markdown",
   "id": "2bd559ca",
   "metadata": {},
   "source": [
    "Let's animate through the years so see the wars that Canada has participated in"
   ]
  },
  {
   "cell_type": "code",
   "execution_count": null,
   "id": "63f481d9",
   "metadata": {},
   "outputs": [],
   "source": [
    "warnings.filterwarnings(\"ignore\")\n",
    "years = list(candata['year'].unique())\n",
    "\n",
    "animate_candata = pd.DataFrame(candata)\n",
    "\n",
    "def animation_years(row):\n",
    "    global animate_candata\n",
    "   \n",
    "    df = pd.DataFrame(columns=animate_candata.columns)\n",
    "    index = years.index(row['year'])\n",
    "    for i in years[index+1:]:\n",
    "        row[4] = i\n",
    "        df.loc[len(df.index)] = row\n",
    "    \n",
    "    animate_candata = pd.concat([animate_candata,df],ignore_index=True)\n",
    "\n",
    "for i in range(len(candata.index)):\n",
    "    animation_years(candata.iloc[i])\n",
    "\n"
   ]
  },
  {
   "cell_type": "code",
   "execution_count": null,
   "id": "8e4b7813",
   "metadata": {},
   "outputs": [],
   "source": [
    "def rank_rows(df):\n",
    "    \n",
    "    df['sort_rank'] = 0\n",
    "    curr_rank = 1\n",
    "    for b in battles:\n",
    "        temp = df.loc[df['bname'] == b]\n",
    "        for i,rows in temp.iterrows():\n",
    "            \n",
    "            if df['sort_rank'][i] == 0:\n",
    "                df['sort_rank'][i] = curr_rank\n",
    "                curr_rank += 1\n",
    "    return df        \n",
    "            \n",
    "\n",
    "    \n",
    "animate_candata.sort_values(['year'],inplace=True)            \n",
    "battles = list(animate_candata.sort_values('year')['bname'].unique())\n",
    "animate_candata = rank_rows(animate_candata)\n",
    "\n",
    "animate_candata.sort_values('sort_rank',inplace=True)\n",
    "animate_candata"
   ]
  },
  {
   "attachments": {},
   "cell_type": "markdown",
   "id": "5320a661",
   "metadata": {},
   "source": [
    "By clicking on the \"play\" button on the bottom we'll be able to look at the wars that Canada has found throughout the years"
   ]
  },
  {
   "cell_type": "code",
   "execution_count": null,
   "id": "afe0ae53",
   "metadata": {},
   "outputs": [],
   "source": [
    "px.scatter_geo(animate_candata, lat='lat', lon='lng', \n",
    "               height=800, hover_name='bname', \n",
    "               animation_frame= 'year',\n",
    "               animation_group='war',\n",
    "               title='Battles participated in by post-Confederation Canada')"
   ]
  },
  {
   "attachments": {},
   "cell_type": "markdown",
   "id": "1cd7e7b8",
   "metadata": {},
   "source": [
    "Now let's add in the number of casualties of each battle that Canada has fought in. We will change the size of each bubble to match the number of casualties each battle had. Larger bubbles will indicate battles with more casualties."
   ]
  },
  {
   "cell_type": "code",
   "execution_count": null,
   "id": "6f45cdf1",
   "metadata": {},
   "outputs": [],
   "source": [
    "casualties_can = candata[candata['casualties'].notna()]\n",
    "\n",
    "px.scatter_geo(casualties_can, lat='lat', lon='lng', \n",
    "               height=800, hover_name='bname', \n",
    "               hover_data=['war', 'year'],\n",
    "               size = 'casualties',\n",
    "               color='casualties',\n",
    "               title='Casualties of battles participated in by post-Confederation Canada')"
   ]
  },
  {
   "attachments": {},
   "cell_type": "markdown",
   "id": "72b91fac",
   "metadata": {},
   "source": [
    "We can also create a bar graph that shows the bloodiest wars that Canada has been a part of."
   ]
  },
  {
   "cell_type": "code",
   "execution_count": null,
   "id": "9209a366",
   "metadata": {},
   "outputs": [],
   "source": [
    "can_bloodiest_war = candata.groupby('war',as_index=False)['casualties'].sum()\n",
    "can_bloodiest_war = can_bloodiest_war[can_bloodiest_war['casualties'] > 0]\n",
    "can_bloodiest_war.sort_values('casualties',inplace=True)"
   ]
  },
  {
   "cell_type": "code",
   "execution_count": null,
   "id": "d191b59b",
   "metadata": {},
   "outputs": [],
   "source": [
    "top_10_bloddiest_can_wars = can_bloodiest_war[:10:-1]\n",
    "\n",
    "fig = px.bar(top_10_bloddiest_can_wars,x='war',y='casualties',title=\"Canada's Bloodiest Wars\")\n",
    "\n",
    "fig.show()"
   ]
  },
  {
   "attachments": {},
   "cell_type": "markdown",
   "id": "aa040ab2",
   "metadata": {},
   "source": [
    "We can also look at which continents Canada has fought the most in."
   ]
  },
  {
   "cell_type": "code",
   "execution_count": null,
   "id": "6dcb20b4",
   "metadata": {},
   "outputs": [],
   "source": [
    "locator = Nominatim(user_agent='battles')\n",
    "\n",
    "can_battles_continent = candata[candata['locn'].notna()]\n",
    "\n",
    "true_locations = []\n",
    "for i,row in can_battles_continent.iterrows():\n",
    "   true_locations.append(locator.reverse(str(row['lat']) + \",\" + str(row['lng']),language='en'))\n",
    "   #country = address.get('country','')\n",
    "\n",
    "can_battles_continent['True Location'] = true_locations\n",
    "can_battles_continent = can_battles_continent[can_battles_continent['True Location'].notna()]\n",
    "can_battles_continent"
   ]
  },
  {
   "cell_type": "code",
   "execution_count": null,
   "id": "a7453a83",
   "metadata": {},
   "outputs": [],
   "source": [
    "def FindContinent(location):\n",
    "   address = location.raw['address']\n",
    "   country = address.get('country','')\n",
    "   change = {'Palestinian Territory': 'Palestine'}\n",
    "   \n",
    "   if country in change:\n",
    "      country = change[country]\n",
    "      \n",
    "   country_alpha2 = pc.country_name_to_country_alpha2(country)\n",
    "   continent_code = pc.country_alpha2_to_continent_code(country_alpha2)\n",
    "   continent = pc.convert_continent_code_to_continent_name(continent_code)\n",
    "   return continent\n",
    "\n",
    "can_battles_continent['continent'] = can_battles_continent['True Location'].map(lambda x: FindContinent(x))\n",
    "can_battles_continent\n",
    "\n"
   ]
  },
  {
   "cell_type": "code",
   "execution_count": null,
   "id": "f51cc262",
   "metadata": {},
   "outputs": [],
   "source": [
    "continent_grouped = can_battles_continent.groupby('continent')['locn'].count().reset_index(name='Number of Battles Fought')\n",
    "continent_grouped.sort_values('Number of Battles Fought',ascending=False,inplace=True)\n",
    "fig = px.bar(continent_grouped,x='continent',y='Number of Battles Fought',title='Number of Battles fought by Canada in different Continents')\n",
    "\n",
    "fig.show()"
   ]
  },
  {
   "cell_type": "markdown",
   "id": "2cbfd8e0-57bf-4f1b-9172-c414470e4326",
   "metadata": {},
   "source": [
    "But these only consider battles that happened after Confederation, as the sovereign state of Canada didn't exist yet. We can also look at battles that happened in geographic Canada by only considering lattitude and longitude values in that region:"
   ]
  },
  {
   "cell_type": "code",
   "execution_count": null,
   "id": "50474b15-0c5f-44a1-9015-9b08d5e21f28",
   "metadata": {},
   "outputs": [],
   "source": [
    "# Southernmost point of Canada is Lake Erie, ON, at 41°40' N; easternmost is Cape Spear, NL, at 52°37' W\n",
    "# We also need to exclude a single WWII Pacific battle that happened off the coast of Alaska that didn't involve Canada\n",
    "NA_data = data[(data['lat']>41.6) & \n",
    "               (data['lng']<-52.6) & \n",
    "               (data['lng']>-160)]\n",
    "\n",
    "# There's also many wars in this subset that don't feature Canada, so we can list them here to remove:\n",
    "remove = ['American Revolutionary War',\n",
    "          'Sioux Wars',\n",
    "          \"Red Cloud's War\",\n",
    "          'Dakota War of 1862',\n",
    "          'Russo-Tlingit War',\n",
    "          'Great Sioux War of 1876',\n",
    "          'Powder River Expedition',\n",
    "          'American Civil War',\n",
    "          'Yellowstone Expedition of 1873',\n",
    "          'Nez Perce War',\n",
    "          'Comanche Campaign',\n",
    "          'Boston campaign',\n",
    "          'Modoc War',\n",
    "          'American Revolution',\n",
    "          \"King Philip's War\",\n",
    "          'Black Hawk War',\n",
    "          'Colorado War',\n",
    "          'American Indian Wars',\n",
    "          'Forage War',\n",
    "          \"Coeur d'Alene War\",\n",
    "          'Yakima War',\n",
    "          'Philadelphia campaign',\n",
    "          'Ghost Dance War']\n",
    "\n",
    "# Remove wars listed above, as well as battles without a specific war (that all happened in the USA)\n",
    "NA_data = NA_data[(~NA_data['war'].isin(remove)) & (~NA_data['war'].isnull())]\n",
    "          \n",
    "          \n",
    "          \n",
    "fig = px.scatter_geo(NA_data, lat='lat', lon='lng', \n",
    "               hover_name='bname', \n",
    "               color='war',\n",
    "               hover_data=['year'], \n",
    "               fitbounds='locations',\n",
    "               title='Historical battles fought in present-day Canada')\n",
    "\n",
    "fig.update_layout(showlegend=False)\n",
    "fig.show()"
   ]
  },
  {
   "cell_type": "code",
   "execution_count": null,
   "id": "84a6da56",
   "metadata": {},
   "outputs": [],
   "source": [
    "list(NA_data['bname'].sort_values().unique())"
   ]
  },
  {
   "attachments": {},
   "cell_type": "markdown",
   "id": "72b3564f",
   "metadata": {},
   "source": [
    "Similar to before, we can also include casualties into this and have the bubble sizes match the number of casualties"
   ]
  },
  {
   "cell_type": "code",
   "execution_count": null,
   "id": "76f0f985",
   "metadata": {},
   "outputs": [],
   "source": [
    "NA_casualties = NA_data[NA_data['casualties'].notna()]\n",
    "\n",
    "px.scatter_geo(NA_casualties, lat='lat', lon='lng', \n",
    "               height=800, hover_name='bname', \n",
    "               size = 'casualties',\n",
    "               size_max = 30,\n",
    "               color = 'casualties',\n",
    "               hover_data=['war','year'], \n",
    "               fitbounds='locations',\n",
    "               title='Historical battles fought in present-day Canada')"
   ]
  },
  {
   "cell_type": "code",
   "execution_count": 23,
   "metadata": {},
   "outputs": [
    {
     "data": {
      "application/vnd.plotly.v1+json": {
       "config": {
        "plotlyServerURL": "https://plot.ly"
       },
       "data": [
        {
         "customdata": [
          [
           1003
          ],
          [
           1003
          ],
          [
           1010
          ],
          [
           1010
          ],
          [
           1609
          ],
          [
           1609
          ],
          [
           1609
          ],
          [
           1609
          ],
          [
           1609
          ],
          [
           1610
          ],
          [
           1610
          ],
          [
           1610
          ],
          [
           1610
          ],
          [
           1610
          ],
          [
           1688
          ],
          [
           1688
          ],
          [
           1689
          ],
          [
           1689
          ],
          [
           1690
          ],
          [
           1690
          ],
          [
           1690
          ],
          [
           1690
          ],
          [
           1690
          ],
          [
           1690
          ],
          [
           1690
          ],
          [
           1690
          ],
          [
           1690
          ],
          [
           1690
          ],
          [
           1690
          ],
          [
           1691
          ],
          [
           1691
          ],
          [
           1692
          ],
          [
           1692
          ],
          [
           1692
          ],
          [
           1692
          ],
          [
           1693
          ],
          [
           1693
          ],
          [
           1696
          ],
          [
           1696
          ],
          [
           1696
          ],
          [
           1696
          ],
          [
           1696
          ],
          [
           1697
          ],
          [
           1697
          ],
          [
           1704
          ],
          [
           1704
          ],
          [
           1704
          ],
          [
           1704
          ],
          [
           1704
          ],
          [
           1704
          ],
          [
           1704
          ],
          [
           1704
          ],
          [
           1704
          ],
          [
           1704
          ],
          [
           1709
          ],
          [
           1709
          ],
          [
           1709
          ],
          [
           1709
          ],
          [
           1709
          ],
          [
           1709
          ],
          [
           1711
          ],
          [
           1711
          ],
          [
           1711
          ],
          [
           1711
          ],
          [
           1722
          ],
          [
           1722
          ],
          [
           1724
          ],
          [
           1724
          ],
          [
           1725
          ],
          [
           1725
          ],
          [
           1745
          ],
          [
           1745
          ],
          [
           1745
          ],
          [
           1745
          ],
          [
           1746
          ],
          [
           1746
          ],
          [
           1746
          ],
          [
           1746
          ],
          [
           1746
          ],
          [
           1747
          ],
          [
           1747
          ],
          [
           1747
          ],
          [
           1747
          ],
          [
           1749
          ],
          [
           1749
          ],
          [
           1749
          ],
          [
           1750
          ],
          [
           1750
          ],
          [
           1750
          ],
          [
           1750
          ],
          [
           1751
          ],
          [
           1751
          ],
          [
           1751
          ],
          [
           1755
          ],
          [
           1755
          ],
          [
           1755
          ],
          [
           1755
          ],
          [
           1755
          ],
          [
           1755
          ],
          [
           1755
          ],
          [
           1755
          ],
          [
           1755
          ],
          [
           1755
          ],
          [
           1755
          ],
          [
           1755
          ],
          [
           1755
          ],
          [
           1755
          ],
          [
           1755
          ],
          [
           1756
          ],
          [
           1756
          ],
          [
           1756
          ],
          [
           1756
          ],
          [
           1756
          ],
          [
           1756
          ],
          [
           1757
          ],
          [
           1757
          ],
          [
           1757
          ],
          [
           1757
          ],
          [
           1757
          ],
          [
           1757
          ],
          [
           1757
          ],
          [
           1757
          ],
          [
           1757
          ],
          [
           1757
          ],
          [
           1757
          ],
          [
           1757
          ],
          [
           1757
          ],
          [
           1758
          ],
          [
           1758
          ],
          [
           1758
          ],
          [
           1758
          ],
          [
           1758
          ],
          [
           1758
          ],
          [
           1758
          ],
          [
           1758
          ],
          [
           1758
          ],
          [
           1758
          ],
          [
           1758
          ],
          [
           1758
          ],
          [
           1758
          ],
          [
           1758
          ],
          [
           1758
          ],
          [
           1758
          ],
          [
           1759
          ],
          [
           1759
          ],
          [
           1759
          ],
          [
           1759
          ],
          [
           1759
          ],
          [
           1759
          ],
          [
           1759
          ],
          [
           1759
          ],
          [
           1759
          ],
          [
           1759
          ],
          [
           1759
          ],
          [
           1759
          ],
          [
           1759
          ],
          [
           1759
          ],
          [
           1759
          ],
          [
           1759
          ],
          [
           1759
          ],
          [
           1759
          ],
          [
           1759
          ],
          [
           1759
          ],
          [
           1759
          ],
          [
           1759
          ],
          [
           1759
          ],
          [
           1760
          ],
          [
           1760
          ],
          [
           1760
          ],
          [
           1760
          ],
          [
           1760
          ],
          [
           1760
          ],
          [
           1760
          ],
          [
           1760
          ],
          [
           1760
          ],
          [
           1760
          ],
          [
           1760
          ],
          [
           1760
          ],
          [
           1762
          ],
          [
           1762
          ],
          [
           1763
          ],
          [
           1763
          ],
          [
           1763
          ],
          [
           1763
          ],
          [
           1763
          ],
          [
           1776
          ],
          [
           1776
          ],
          [
           1776
          ],
          [
           1776
          ],
          [
           1776
          ],
          [
           1812
          ],
          [
           1812
          ],
          [
           1812
          ],
          [
           1812
          ],
          [
           1812
          ],
          [
           1812
          ],
          [
           1812
          ],
          [
           1812
          ],
          [
           1812
          ],
          [
           1812
          ],
          [
           1812
          ],
          [
           1812
          ],
          [
           1812
          ],
          [
           1812
          ],
          [
           1812
          ],
          [
           1812
          ],
          [
           1812
          ],
          [
           1812
          ],
          [
           1812
          ],
          [
           1813
          ],
          [
           1813
          ],
          [
           1813
          ],
          [
           1813
          ],
          [
           1813
          ],
          [
           1813
          ],
          [
           1813
          ],
          [
           1813
          ],
          [
           1813
          ],
          [
           1813
          ],
          [
           1813
          ],
          [
           1813
          ],
          [
           1813
          ],
          [
           1813
          ],
          [
           1813
          ],
          [
           1813
          ],
          [
           1813
          ],
          [
           1813
          ],
          [
           1813
          ],
          [
           1813
          ],
          [
           1813
          ],
          [
           1813
          ],
          [
           1813
          ],
          [
           1813
          ],
          [
           1813
          ],
          [
           1813
          ],
          [
           1813
          ],
          [
           1813
          ],
          [
           1813
          ],
          [
           1813
          ],
          [
           1813
          ],
          [
           1813
          ],
          [
           1813
          ],
          [
           1814
          ],
          [
           1814
          ],
          [
           1814
          ],
          [
           1814
          ],
          [
           1814
          ],
          [
           1814
          ],
          [
           1814
          ],
          [
           1814
          ],
          [
           1814
          ],
          [
           1814
          ],
          [
           1814
          ],
          [
           1814
          ],
          [
           1814
          ],
          [
           1814
          ],
          [
           1814
          ],
          [
           1814
          ],
          [
           1814
          ],
          [
           1814
          ],
          [
           1814
          ],
          [
           1814
          ],
          [
           1814
          ],
          [
           1814
          ],
          [
           1814
          ],
          [
           1814
          ],
          [
           1814
          ],
          [
           1814
          ],
          [
           1814
          ],
          [
           1814
          ],
          [
           1814
          ],
          [
           1814
          ],
          [
           1816
          ],
          [
           1816
          ],
          [
           1837
          ],
          [
           1837
          ],
          [
           1837
          ],
          [
           1837
          ],
          [
           1837
          ],
          [
           1837
          ],
          [
           1837
          ],
          [
           1837
          ],
          [
           1838
          ],
          [
           1838
          ],
          [
           1838
          ],
          [
           1838
          ],
          [
           1838
          ],
          [
           1838
          ],
          [
           1838
          ],
          [
           1838
          ],
          [
           1838
          ],
          [
           1838
          ],
          [
           1838
          ],
          [
           1838
          ],
          [
           1838
          ],
          [
           1838
          ],
          [
           1838
          ],
          [
           1838
          ],
          [
           1838
          ],
          [
           1838
          ],
          [
           1838
          ],
          [
           1838
          ],
          [
           1838
          ],
          [
           1838
          ],
          [
           1838
          ],
          [
           1866
          ],
          [
           1866
          ],
          [
           1866
          ],
          [
           1866
          ],
          [
           1870
          ],
          [
           1870
          ],
          [
           1870
          ],
          [
           1870
          ],
          [
           1885
          ],
          [
           1885
          ],
          [
           1885
          ],
          [
           1885
          ],
          [
           1885
          ],
          [
           1885
          ],
          [
           1885
          ],
          [
           1885
          ],
          [
           1885
          ],
          [
           1885
          ],
          [
           1885
          ],
          [
           1885
          ],
          [
           1885
          ],
          [
           1885
          ],
          [
           1885
          ],
          [
           1885
          ],
          [
           1885
          ],
          [
           1942
          ],
          [
           1942
          ],
          [
           1942
          ]
         ],
         "hovertemplate": "<b>%{hovertext}</b><br><br>lat=%{lat}<br>lng=%{lon}<br>year=%{customdata[0]}<extra></extra>",
         "hovertext": [
          "Battle of Vinland",
          "Battle of Vinland",
          "Battle of Vinland",
          "Battle of Vinland",
          "Beaver Wars",
          "Beaver Wars",
          "Beaver Wars",
          "Beaver Wars",
          "Beaver Wars",
          "Battle of Sorel",
          "Battle of Sorel",
          "Battle of Sorel",
          "Battle of Sorel",
          "Battle of Sorel",
          "Battle of Fort Albany",
          "Battle of Fort Albany",
          "Battle of the Lake of Two Mountains",
          "Battle of the Lake of Two Mountains",
          "Battle of Chedabucto",
          "Battle of Fort Loyal",
          "Battle of Chedabucto",
          "Battle of Fort Loyal",
          "Battle of Fort Loyal",
          "Battle of Port Royal",
          "Battle of Port Royal",
          "Battle of Quebec",
          "Battle of Quebec",
          "Battle of Quebec",
          "Battle of Quebec",
          "Battle of La Prairie",
          "Battle of La Prairie",
          "Raid on Wells",
          "Raid on Wells",
          "Raid on Wells",
          "Raid on Wells",
          "Battle of Fort Albany",
          "Battle of Fort Albany",
          "Battle of Fundy Bay",
          "Battle of Fundy Bay",
          "Raid on Chignecto",
          "Raid on Chignecto",
          "Raid on Chignecto",
          "Battle of Hudson's Bay",
          "Battle of Hudson's Bay",
          "Raid on Deerfield",
          "Raid on Deerfield",
          "Raid on Deerfield",
          "Raid on Deerfield",
          "Raid on Grand Pré",
          "Raid on Grand Pré",
          "Raid on Grand Pré",
          "Raid on Deerfield",
          "Raid on Deerfield",
          "Raid on Deerfield",
          "Battle of St. John's",
          "Battle of Fort Albany",
          "Battle of Fort Albany",
          "Battle of St. John's",
          "Battle of St. John's",
          "Battle of St. John's",
          "Battle of Bloody Creek",
          "Battle of Bloody Creek",
          "Battle of Bloody Creek",
          "Battle of Bloody Creek",
          "Battle of Winnepang",
          "Battle of Winnepang",
          "Battle of Norridgewock",
          "Battle of Norridgewock",
          "Battle of Pequawket",
          "Battle of Pequawket",
          "Naval battle off Tatamagouche",
          "Naval battle off Tatamagouche",
          "Naval battle off Tatamagouche",
          "Naval battle off Tatamagouche",
          "Battle at Port-la-Joye",
          "Battle at Port-la-Joye",
          "Battle at Port-la-Joye",
          "Battle at Port-la-Joye",
          "Battle at Port-la-Joye",
          "Battle of Grand Pré",
          "Battle of Grand Pré",
          "Battle of Grand Pré",
          "Battle of Grand Pré",
          "Raid on Dartmouth",
          "Raid on Dartmouth",
          "Raid on Dartmouth",
          "Battle at St. Croix",
          "Battle at St. Croix",
          "Battle at St. Croix",
          "Battle at St. Croix",
          "Raid on Dartmouth",
          "Raid on Dartmouth",
          "Raid on Dartmouth",
          "Battle of Fort Beauséjour",
          "Battle of Petitcodiac",
          "Action of 8 June 1755",
          "Battle of Petitcodiac",
          "Battle of Petitcodiac",
          "Battle of Lake George",
          "Battle of Lake George",
          "Battle of Fort Beauséjour",
          "Battle of Lake George",
          "Battle of Lake George",
          "Battle of Lake George",
          "Battle of Fort Beauséjour",
          "Battle of Fort Beauséjour",
          "Action of 8 June 1755",
          "Battle of Petitcodiac",
          "Battle of Fort Oswego",
          "Battle of Fort Oswego",
          "Battle of Fort Bull",
          "Battle of Fort Oswego",
          "Battle of Fort Bull",
          "Battle of Fort Bull",
          "Battle of Bloody Creek",
          "Battle on Snowshoes",
          "Siege of Fort William Henry",
          "Siege of Fort William Henry",
          "Battle on Snowshoes",
          "Battle of Bloody Creek",
          "Battle of Sabbath Day Point",
          "Battle of Sabbath Day Point",
          "Battle of Sabbath Day Point",
          "Battle on Snowshoes",
          "Siege of Fort William Henry",
          "Battle of Bloody Creek",
          "Battle of Bloody Creek",
          "Battle of Carillon",
          "Battle of Carillon",
          "Siege of Louisbourg",
          "Siege of Louisbourg",
          "Siege of Louisbourg",
          "Siege of Louisbourg",
          "Siege of Louisbourg",
          "Battle of Carillon",
          "Battle of Fort Frontenac",
          "Battle of Fort Frontenac",
          "Battle of Fort Frontenac",
          "Battle on Snowshoes",
          "Battle on Snowshoes",
          "Gulf of St. Lawrence Campaign",
          "Gulf of St. Lawrence Campaign",
          "Battle of Carillon",
          "Battle of the Plains of Abraham",
          "Battle of the Plains of Abraham",
          "Battle of Ticonderoga",
          "Battle of the Plains of Abraham",
          "Battle of Ticonderoga",
          "Battle of the Plains of Abraham",
          "St. Francis Raid",
          "Battle of Fort Niagara",
          "Battle of Fort Niagara",
          "Battle of Fort Niagara",
          "Battle of Fort Niagara",
          "Battle of Fort Niagara",
          "St. Francis Raid",
          "Battle of La Belle-Famille",
          "Battle of La Belle-Famille",
          "Battle of Ticonderoga",
          "St. Francis Raid",
          "Battle of La Belle-Famille",
          "Battle of La Belle-Famille",
          "Battle of Beauport",
          "Battle of Beauport",
          "Battle of La Belle-Famille",
          "Battle of Beauport",
          "Battle of Sainte-Foy",
          "Battle of Restigouche",
          "Battle of Restigouche",
          "Battle of Restigouche",
          "Battle of Restigouche",
          "Battle of the Thousand Islands",
          "Battle of the Thousand Islands",
          "Battle of the Thousand Islands",
          "Battle of the Thousand Islands",
          "Battle of the Thousand Islands",
          "Battle of Sainte-Foy",
          "Battle of Sainte-Foy",
          "Battle of Signal Hill",
          "Battle of Signal Hill",
          "Siege of Fort Detroit",
          "Siege of Fort Detroit",
          "Battle of Devil's Hole",
          "Battle of Devil's Hole",
          "Battle of Devil's Hole",
          "Battle of The Cedars",
          "Battle of The Cedars",
          "Battle of The Cedars",
          "Battle of The Cedars",
          "Battle of The Cedars",
          "Battle of Maguaga",
          "Battle of Maguaga",
          "Battle of Maguaga",
          "Battle of Maguaga",
          "Battle of Fort Dearborn",
          "Battle of River Canard",
          "Battle of River Canard",
          "Battle of Fort Dearborn",
          "Battle of Frenchman's Creek",
          "Battle of Frenchman's Creek",
          "Battle of Frenchman's Creek",
          "Battle of Brownstown",
          "Battle of Brownstown",
          "Battle of Lacolle Mills",
          "Battle of Lacolle Mills",
          "Battle of Queenston Heights",
          "Battle of Lacolle Mills",
          "Battle of Queenston Heights",
          "Battle of Queenston Heights",
          "Battle of Crysler's Farm",
          "Battle of Crysler's Farm",
          "Battle of Crysler's Farm",
          "Battle of Fort George",
          "Battle of Fort George",
          "Battle of Fort George",
          "Battle of Beaver Dams",
          "Battle of Buffalo",
          "Battle of Buffalo",
          "Battle of Beaver Dams",
          "Battle of Beaver Dams",
          "Battle of the Chateauguay",
          "Battle of Ogdensburg",
          "Battle of Ogdensburg",
          "Battle of York",
          "Battle of the Chateauguay",
          "Battle of York",
          "Battle of York",
          "Battle of Lake Erie",
          "Battle of Lake Erie",
          "Raid on Black Rock",
          "Raid on Black Rock",
          "Battle of York",
          "Battle of Frenchtown",
          "Battle of Stoney Creek",
          "Battle of Stoney Creek",
          "Battle of the Chateauguay",
          "Battle of the Thames",
          "Battle of Frenchtown",
          "Battle of Frenchtown",
          "Battle of the Thames",
          "Battle of the Chateauguay",
          "Battle of the Thames",
          "Battle of Lundy's Lane",
          "Battle of Lundy's Lane",
          "Battle of Plattsburgh",
          "Battle of Plattsburgh",
          "Battle of Plattsburgh",
          "Battle of Big Sandy Creek",
          "Battle of Big Sandy Creek",
          "Battle of Longwoods",
          "Battle of Longwoods",
          "Battle of Longwoods",
          "Battle of Longwoods",
          "Battle of Lundy's Lane",
          "Battle of Cook's Mills",
          "Battle of Cook's Mills",
          "Battle of Cook's Mills",
          "Battle of Lacolle Mills",
          "Battle of Lacolle Mills",
          "Battle of Chippawa",
          "Battle of Mackinac Island",
          "Battle of Mackinac Island",
          "Battle of Mackinac Island",
          "Battle of Lacolle Mills",
          "Battle of Fort Oswego",
          "Battle of Fort Oswego",
          "Battle of Malcolm's Mills",
          "Battle of Malcolm's Mills",
          "Battle of Hampden",
          "Battle of Hampden",
          "Battle of Malcolm's Mills",
          "Battle of Chippawa",
          "Battle of Seven Oaks",
          "Battle of Seven Oaks",
          "Battle of Saint-Denis",
          "Battle of Saint-Denis",
          "Battle of Saint-Charles",
          "Battle of Saint-Charles",
          "Battle of Montgomery's Tavern",
          "Battle of Saint-Eustache",
          "Battle of Saint-Eustache",
          "Battle of Montgomery's Tavern",
          "Battle of Windsor",
          "Battle of Pelee Island",
          "Battle of Beauharnois",
          "Battle of the Windmill",
          "Battle of Pelee Island",
          "Battle of Pelee Island",
          "Battle of Beauharnois",
          "Battle of Beauharnois",
          "Battle of Odelltown",
          "Battle of Lacolle",
          "Battle of Windsor",
          "Battle of Pelee Island",
          "Battle of Windsor",
          "Battle of Lacolle",
          "Battle of Pelee Island",
          "Battle of Beauharnois",
          "Battle of Windsor",
          "Battle of Odelltown",
          "Battle of Baker's Farm",
          "Battle of Baker's Farm",
          "Battle of the Windmill",
          "Battle of the Windmill",
          "Battle of the Windmill",
          "Battle of Ridgeway",
          "Battle of Fort Erie",
          "Battle of Fort Erie",
          "Battle of Ridgeway",
          "Battle of Eccles Hill",
          "Battle of Eccles Hill",
          "Battle of Trout River",
          "Battle of Trout River",
          "Battle of Fish Creek",
          "Battle of Fish Creek",
          "Battle of Fish Creek",
          "Battle of Fish Creek",
          "Battle of Frenchman's Butte",
          "Battle of Duck Lake",
          "Battle of Frenchman's Butte",
          "Battle of Fort Pitt",
          "Battle of Loon Lake",
          "Battle of Batoche",
          "Battle of Fort Pitt",
          "Battle of Batoche",
          "Battle of Cut Knife",
          "Battle of Cut Knife",
          "Battle of Cut Knife",
          "Battle of Loon Lake",
          "Battle of Duck Lake",
          "Battle of the St. Lawrence",
          "Battle of the St. Lawrence",
          "Battle of the St. Lawrence"
         ],
         "lat": [
          49.12120819091797,
          49.12120819091797,
          49.12120819091797,
          49.12120819091797,
          43.73695755004883,
          43.73695755004883,
          43.73695755004883,
          43.73695755004883,
          43.73695755004883,
          46.0333,
          46.0333,
          46.0333,
          46.0333,
          46.0333,
          52.2511100769043,
          52.2511100769043,
          45.45,
          45.45,
          45.38666667,
          43.6615,
          45.38666667,
          43.6615,
          43.6615,
          44.7111,
          44.7111,
          46.9667,
          46.9667,
          46.9667,
          46.9667,
          45.40370178222656,
          45.40370178222656,
          43.32222222,
          43.32222222,
          43.32222222,
          43.32222222,
          52.2511100769043,
          52.2511100769043,
          45.27330556,
          45.27330556,
          45.9167,
          45.9167,
          45.9167,
          57.009889,
          57.009889,
          42.5486,
          42.5486,
          42.5486,
          42.5486,
          45.10503889,
          45.10503889,
          45.10503889,
          42.5486,
          42.5486,
          42.5486,
          47.5708,
          52.2511,
          52.2511,
          47.5708,
          47.5708,
          47.5708,
          44.8224,
          44.8224,
          44.8224,
          44.8224,
          44.77555556,
          44.77555556,
          44.767,
          44.767,
          44.021,
          44.021,
          45.7167,
          45.7167,
          45.7167,
          45.7167,
          46.197222,
          46.197222,
          46.197222,
          46.197222,
          46.197222,
          45.1011,
          45.1011,
          45.1011,
          45.1011,
          44.6639,
          44.6639,
          44.6639,
          44.96191667,
          44.96191667,
          44.96191667,
          44.96191667,
          44.6929,
          44.6929,
          44.6929,
          45.86550833,
          45.93222222,
          46.0587,
          45.93222222,
          45.93222222,
          43.429,
          43.429,
          45.86550833,
          43.429,
          43.429,
          43.429,
          45.86550833,
          45.86550833,
          46.0587,
          45.93222222,
          43.461666666667,
          43.461666666667,
          43.22416667,
          43.461666666667,
          43.22416667,
          43.22416667,
          44.8224,
          43.84138889,
          43.42027778,
          43.42027778,
          43.84138889,
          44.8224,
          43.6675,
          43.6675,
          43.6675,
          43.84138889,
          43.42027778,
          44.8224,
          44.8224,
          43.841666666667,
          43.841666666667,
          45.92138889,
          45.92138889,
          45.92138889,
          45.92138889,
          45.92138889,
          43.841666666667,
          44.23333333,
          44.23333333,
          44.23333333,
          43.42611111,
          43.42611111,
          46.500282287597656,
          46.500282287597656,
          43.841666666667,
          46.803,
          46.803,
          43.841388888889,
          46.803,
          43.841388888889,
          46.803,
          46.0661,
          43.26269,
          43.26269,
          43.26269,
          43.26269,
          43.26269,
          46.0661,
          43.261329650878906,
          43.261329650878906,
          43.841388888889,
          46.0661,
          43.261329650878906,
          43.261329650878906,
          46.89018,
          46.89018,
          43.261329650878906,
          46.89018,
          46.802333333333,
          48.00472259521484,
          48.00472259521484,
          48.00472259521484,
          48.00472259521484,
          44.33388889,
          44.33388889,
          44.33388889,
          44.33388889,
          44.33388889,
          46.802333333333,
          46.802333333333,
          47.56972122192383,
          47.56972122192383,
          42.3289,
          42.3289,
          43.13388889,
          43.13388889,
          43.13388889,
          45.30622100830078,
          45.30622100830078,
          45.30622100830078,
          45.30622100830078,
          45.30622100830078,
          42.13609,
          42.13609,
          42.13609,
          42.13609,
          41.857777777778,
          42.1884,
          42.1884,
          41.857777777778,
          42.94227,
          42.94227,
          42.94227,
          42.094417,
          42.094417,
          45.081309,
          45.081309,
          43.16192,
          45.081309,
          43.16192,
          43.16192,
          44.941977777778,
          44.941977777778,
          44.941977777778,
          43.25075149536133,
          43.25075149536133,
          43.25075149536133,
          43.11780166625977,
          42.9364,
          42.9364,
          43.11780166625977,
          43.11780166625977,
          45.15861129760742,
          44.69428634643555,
          44.69428634643555,
          43.63887,
          45.15861129760742,
          43.63887,
          43.63887,
          41.662222,
          41.662222,
          42.928117,
          42.928117,
          43.63887,
          41.913611111111,
          43.218333333333,
          43.218333333333,
          45.15861129760742,
          42.5625,
          41.913611111111,
          41.913611111111,
          42.5625,
          45.15861129760742,
          42.5625,
          43.08915328979492,
          43.08915328979492,
          44.6804,
          44.6804,
          44.6804,
          43.732845306396484,
          43.732845306396484,
          42.69416667,
          42.69416667,
          42.69416667,
          42.69416667,
          43.08915328979492,
          42.99789047241211,
          42.99789047241211,
          42.99789047241211,
          45.067564,
          45.067564,
          43.05212783813477,
          45.853056,
          45.853056,
          45.853056,
          45.067564,
          43.41129684448242,
          43.41129684448242,
          43.028469,
          43.028469,
          44.74451446533203,
          44.74451446533203,
          43.028469,
          43.05212783813477,
          49.93199920654297,
          49.93199920654297,
          45.7861328125,
          45.7861328125,
          45.683333,
          45.683333,
          43.70949935913086,
          45.5575,
          45.5575,
          43.70949935913086,
          42.283333333333,
          41.7667,
          45.314,
          44.7209,
          41.7667,
          41.7667,
          45.314,
          45.314,
          45.0355,
          45.083333,
          42.283333333333,
          41.7667,
          42.283333333333,
          45.083333,
          41.7667,
          45.314,
          42.283333333333,
          45.0355,
          45.2205,
          45.2205,
          44.7209,
          44.7209,
          44.7209,
          42.90434,
          42.89667,
          42.89667,
          42.90434,
          45.01992797851562,
          45.01992797851562,
          45.087337493896484,
          45.087337493896484,
          52.60194396972656,
          52.60194396972656,
          52.60194396972656,
          52.60194396972656,
          53.62722396850586,
          52.81650924682617,
          53.62722396850586,
          53.65018,
          54.04055404663086,
          52.75600814819336,
          53.65018,
          52.75600814819336,
          52.74530792236328,
          52.74530792236328,
          52.74530792236328,
          54.04055404663086,
          52.81650924682617,
          48.90331268310547,
          48.90331268310547,
          48.90331268310547
         ],
         "legendgroup": "",
         "lon": [
          -56.69629669189453,
          -56.69629669189453,
          -56.69629669189453,
          -56.69629669189453,
          -79.76631164550781,
          -79.76631164550781,
          -79.76631164550781,
          -79.76631164550781,
          -79.76631164550781,
          -73.1167,
          -73.1167,
          -73.1167,
          -73.1167,
          -73.1167,
          -81.50111389160156,
          -81.50111389160156,
          -73.94,
          -73.94,
          -61.50555556,
          -70.2553,
          -61.50555556,
          -70.2553,
          -70.2553,
          -65.61,
          -65.61,
          -71.2667,
          -71.2667,
          -71.2667,
          -71.2667,
          -73.4543685913086,
          -73.4543685913086,
          -70.58055556,
          -70.58055556,
          -70.58055556,
          -70.58055556,
          -81.50111389160156,
          -81.50111389160156,
          -66.06330556,
          -66.06330556,
          -64.1667,
          -64.1667,
          -64.1667,
          -92.181744,
          -92.181744,
          -72.6071,
          -72.6071,
          -72.6071,
          -72.6071,
          -64.29868333,
          -64.29868333,
          -64.29868333,
          -72.6071,
          -72.6071,
          -72.6071,
          -52.6991,
          -81.5011,
          -81.5011,
          -52.6991,
          -52.6991,
          -52.6991,
          -65.3095,
          -65.3095,
          -65.3095,
          -65.3095,
          -63.05527778,
          -63.05527778,
          -69.883306,
          -69.883306,
          -70.936,
          -70.936,
          -63.2833,
          -63.2833,
          -63.2833,
          -63.2833,
          -63.136944,
          -63.136944,
          -63.136944,
          -63.136944,
          -63.136944,
          -64.3072,
          -64.3072,
          -64.3072,
          -64.3072,
          -63.5682,
          -63.5682,
          -63.5682,
          -64.03377778,
          -64.03377778,
          -64.03377778,
          -64.03377778,
          -63.6,
          -63.6,
          -63.6,
          -64.29079167,
          -65.17472222,
          -53.5029,
          -65.17472222,
          -65.17472222,
          -73.68,
          -73.68,
          -64.29079167,
          -73.68,
          -73.68,
          -73.68,
          -64.29079167,
          -64.29079167,
          -53.5029,
          -65.17472222,
          -76.514166666667,
          -76.514166666667,
          -75.5025,
          -76.514166666667,
          -75.5025,
          -75.5025,
          -65.3095,
          -73.3875,
          -73.71111111,
          -73.71111111,
          -73.3875,
          -65.3095,
          -73.5139,
          -73.5139,
          -73.5139,
          -73.3875,
          -73.71111111,
          -65.3095,
          -65.3095,
          -73.3875,
          -73.3875,
          -59.97027778,
          -59.97027778,
          -59.97027778,
          -59.97027778,
          -59.97027778,
          -73.3875,
          -76.47861111,
          -76.47861111,
          -76.47861111,
          -73.71222222,
          -73.71222222,
          -66.75018310546875,
          -66.75018310546875,
          -73.3875,
          -71.215,
          -71.215,
          -73.388055555556,
          -71.215,
          -73.388055555556,
          -71.215,
          -72.8261,
          -79.06331,
          -79.06331,
          -79.06331,
          -79.06331,
          -79.06331,
          -72.8261,
          -79.0535659790039,
          -79.0535659790039,
          -73.388055555556,
          -72.8261,
          -79.0535659790039,
          -79.0535659790039,
          -71.14726,
          -71.14726,
          -79.0535659790039,
          -71.14726,
          -71.242138888889,
          -66.72083282470703,
          -66.72083282470703,
          -66.72083282470703,
          -66.72083282470703,
          -75.99472222,
          -75.99472222,
          -75.99472222,
          -75.99472222,
          -75.99472222,
          -71.242138888889,
          -71.242138888889,
          -52.68194580078125,
          -52.68194580078125,
          -83.0458,
          -83.0458,
          -79.04555556,
          -79.04555556,
          -79.04555556,
          -74.05461120605469,
          -74.05461120605469,
          -74.05461120605469,
          -74.05461120605469,
          -74.05461120605469,
          -83.18285,
          -83.18285,
          -83.18285,
          -83.18285,
          -87.619166666667,
          -83.0925,
          -83.0925,
          -87.619166666667,
          -78.92645,
          -78.92645,
          -78.92645,
          -83.199168,
          -83.199168,
          -73.372633,
          -73.372633,
          -79.05049,
          -73.372633,
          -79.05049,
          -79.05049,
          -75.070172222222,
          -75.070172222222,
          -75.070172222222,
          -79.06111145019531,
          -79.06111145019531,
          -79.06111145019531,
          -79.1854019165039,
          -78.8978,
          -78.8978,
          -79.1854019165039,
          -79.1854019165039,
          -73.9286117553711,
          -75.48637390136719,
          -75.48637390136719,
          -79.40403,
          -73.9286117553711,
          -79.40403,
          -79.40403,
          -82.825,
          -82.825,
          -78.898058,
          -78.898058,
          -79.40403,
          -83.378333333333,
          -79.764166666667,
          -79.764166666667,
          -73.9286117553711,
          -81.931388888889,
          -83.378333333333,
          -83.378333333333,
          -81.931388888889,
          -73.9286117553711,
          -81.931388888889,
          -79.095458984375,
          -79.095458984375,
          -73.3756,
          -73.3756,
          -73.3756,
          -76.13603973388672,
          -76.13603973388672,
          -81.705,
          -81.705,
          -81.705,
          -81.705,
          -79.095458984375,
          -79.17491149902344,
          -79.17491149902344,
          -79.17491149902344,
          -73.343809,
          -73.343809,
          -79.02471923828125,
          -84.6175,
          -84.6175,
          -84.6175,
          -73.343809,
          -76.12798309326172,
          -76.12798309326172,
          -80.330089,
          -80.330089,
          -68.83698272705078,
          -68.83698272705078,
          -80.330089,
          -79.02471923828125,
          -97.12100219726562,
          -97.12100219726562,
          -73.15717315673828,
          -73.15717315673828,
          -73.183333,
          -73.183333,
          -79.39900207519531,
          -73.8897,
          -73.8897,
          -79.39900207519531,
          -83,
          -82.6409,
          -73.877,
          -75.4871,
          -82.6409,
          -82.6409,
          -73.877,
          -73.877,
          -73.390639,
          -73.366667,
          -83,
          -82.6409,
          -83,
          -73.366667,
          -82.6409,
          -73.877,
          -83,
          -73.390639,
          -73.839278,
          -73.839278,
          -75.4871,
          -75.4871,
          -75.4871,
          -79.04164,
          -78.92515,
          -78.92515,
          -79.04164,
          -72.9043960571289,
          -72.9043960571289,
          -74.1738510131836,
          -74.1738510131836,
          -105.9472198486328,
          -105.9472198486328,
          -105.9472198486328,
          -105.9472198486328,
          -109.5758361816406,
          -106.2327270507812,
          -109.5758361816406,
          -109.75154,
          -109.0008316040039,
          -106.11793518066406,
          -109.75154,
          -106.11793518066406,
          -109.0277633666992,
          -109.0277633666992,
          -109.0277633666992,
          -109.0008316040039,
          -106.2327270507812,
          -61.373878479003906,
          -61.373878479003906,
          -61.373878479003906
         ],
         "marker": {
          "color": "fuchsia"
         },
         "mode": "markers",
         "name": "",
         "showlegend": false,
         "subplot": "mapbox",
         "type": "scattermapbox"
        }
       ],
       "layout": {
        "legend": {
         "tracegroupgap": 0
        },
        "mapbox": {
         "center": {
          "lat": 45.18645456729014,
          "lon": -75.01607891750275
         },
         "domain": {
          "x": [
           0,
           1
          ],
          "y": [
           0,
           1
          ]
         },
         "layers": [
          {
           "below": "traces",
           "source": [
            "https://basemap.nationalmap.gov/arcgis/rest/services/USGSImageryOnly/MapServer/tile/{z}/{y}/{x}"
           ],
           "sourceattribution": "United States Geological Survey",
           "sourcetype": "raster"
          }
         ],
         "style": "white-bg",
         "zoom": 2.5
        },
        "margin": {
         "b": 0,
         "l": 0,
         "r": 0,
         "t": 0
        },
        "template": {
         "data": {
          "bar": [
           {
            "error_x": {
             "color": "#2a3f5f"
            },
            "error_y": {
             "color": "#2a3f5f"
            },
            "marker": {
             "line": {
              "color": "#E5ECF6",
              "width": 0.5
             },
             "pattern": {
              "fillmode": "overlay",
              "size": 10,
              "solidity": 0.2
             }
            },
            "type": "bar"
           }
          ],
          "barpolar": [
           {
            "marker": {
             "line": {
              "color": "#E5ECF6",
              "width": 0.5
             },
             "pattern": {
              "fillmode": "overlay",
              "size": 10,
              "solidity": 0.2
             }
            },
            "type": "barpolar"
           }
          ],
          "carpet": [
           {
            "aaxis": {
             "endlinecolor": "#2a3f5f",
             "gridcolor": "white",
             "linecolor": "white",
             "minorgridcolor": "white",
             "startlinecolor": "#2a3f5f"
            },
            "baxis": {
             "endlinecolor": "#2a3f5f",
             "gridcolor": "white",
             "linecolor": "white",
             "minorgridcolor": "white",
             "startlinecolor": "#2a3f5f"
            },
            "type": "carpet"
           }
          ],
          "choropleth": [
           {
            "colorbar": {
             "outlinewidth": 0,
             "ticks": ""
            },
            "type": "choropleth"
           }
          ],
          "contour": [
           {
            "colorbar": {
             "outlinewidth": 0,
             "ticks": ""
            },
            "colorscale": [
             [
              0,
              "#0d0887"
             ],
             [
              0.1111111111111111,
              "#46039f"
             ],
             [
              0.2222222222222222,
              "#7201a8"
             ],
             [
              0.3333333333333333,
              "#9c179e"
             ],
             [
              0.4444444444444444,
              "#bd3786"
             ],
             [
              0.5555555555555556,
              "#d8576b"
             ],
             [
              0.6666666666666666,
              "#ed7953"
             ],
             [
              0.7777777777777778,
              "#fb9f3a"
             ],
             [
              0.8888888888888888,
              "#fdca26"
             ],
             [
              1,
              "#f0f921"
             ]
            ],
            "type": "contour"
           }
          ],
          "contourcarpet": [
           {
            "colorbar": {
             "outlinewidth": 0,
             "ticks": ""
            },
            "type": "contourcarpet"
           }
          ],
          "heatmap": [
           {
            "colorbar": {
             "outlinewidth": 0,
             "ticks": ""
            },
            "colorscale": [
             [
              0,
              "#0d0887"
             ],
             [
              0.1111111111111111,
              "#46039f"
             ],
             [
              0.2222222222222222,
              "#7201a8"
             ],
             [
              0.3333333333333333,
              "#9c179e"
             ],
             [
              0.4444444444444444,
              "#bd3786"
             ],
             [
              0.5555555555555556,
              "#d8576b"
             ],
             [
              0.6666666666666666,
              "#ed7953"
             ],
             [
              0.7777777777777778,
              "#fb9f3a"
             ],
             [
              0.8888888888888888,
              "#fdca26"
             ],
             [
              1,
              "#f0f921"
             ]
            ],
            "type": "heatmap"
           }
          ],
          "heatmapgl": [
           {
            "colorbar": {
             "outlinewidth": 0,
             "ticks": ""
            },
            "colorscale": [
             [
              0,
              "#0d0887"
             ],
             [
              0.1111111111111111,
              "#46039f"
             ],
             [
              0.2222222222222222,
              "#7201a8"
             ],
             [
              0.3333333333333333,
              "#9c179e"
             ],
             [
              0.4444444444444444,
              "#bd3786"
             ],
             [
              0.5555555555555556,
              "#d8576b"
             ],
             [
              0.6666666666666666,
              "#ed7953"
             ],
             [
              0.7777777777777778,
              "#fb9f3a"
             ],
             [
              0.8888888888888888,
              "#fdca26"
             ],
             [
              1,
              "#f0f921"
             ]
            ],
            "type": "heatmapgl"
           }
          ],
          "histogram": [
           {
            "marker": {
             "pattern": {
              "fillmode": "overlay",
              "size": 10,
              "solidity": 0.2
             }
            },
            "type": "histogram"
           }
          ],
          "histogram2d": [
           {
            "colorbar": {
             "outlinewidth": 0,
             "ticks": ""
            },
            "colorscale": [
             [
              0,
              "#0d0887"
             ],
             [
              0.1111111111111111,
              "#46039f"
             ],
             [
              0.2222222222222222,
              "#7201a8"
             ],
             [
              0.3333333333333333,
              "#9c179e"
             ],
             [
              0.4444444444444444,
              "#bd3786"
             ],
             [
              0.5555555555555556,
              "#d8576b"
             ],
             [
              0.6666666666666666,
              "#ed7953"
             ],
             [
              0.7777777777777778,
              "#fb9f3a"
             ],
             [
              0.8888888888888888,
              "#fdca26"
             ],
             [
              1,
              "#f0f921"
             ]
            ],
            "type": "histogram2d"
           }
          ],
          "histogram2dcontour": [
           {
            "colorbar": {
             "outlinewidth": 0,
             "ticks": ""
            },
            "colorscale": [
             [
              0,
              "#0d0887"
             ],
             [
              0.1111111111111111,
              "#46039f"
             ],
             [
              0.2222222222222222,
              "#7201a8"
             ],
             [
              0.3333333333333333,
              "#9c179e"
             ],
             [
              0.4444444444444444,
              "#bd3786"
             ],
             [
              0.5555555555555556,
              "#d8576b"
             ],
             [
              0.6666666666666666,
              "#ed7953"
             ],
             [
              0.7777777777777778,
              "#fb9f3a"
             ],
             [
              0.8888888888888888,
              "#fdca26"
             ],
             [
              1,
              "#f0f921"
             ]
            ],
            "type": "histogram2dcontour"
           }
          ],
          "mesh3d": [
           {
            "colorbar": {
             "outlinewidth": 0,
             "ticks": ""
            },
            "type": "mesh3d"
           }
          ],
          "parcoords": [
           {
            "line": {
             "colorbar": {
              "outlinewidth": 0,
              "ticks": ""
             }
            },
            "type": "parcoords"
           }
          ],
          "pie": [
           {
            "automargin": true,
            "type": "pie"
           }
          ],
          "scatter": [
           {
            "fillpattern": {
             "fillmode": "overlay",
             "size": 10,
             "solidity": 0.2
            },
            "type": "scatter"
           }
          ],
          "scatter3d": [
           {
            "line": {
             "colorbar": {
              "outlinewidth": 0,
              "ticks": ""
             }
            },
            "marker": {
             "colorbar": {
              "outlinewidth": 0,
              "ticks": ""
             }
            },
            "type": "scatter3d"
           }
          ],
          "scattercarpet": [
           {
            "marker": {
             "colorbar": {
              "outlinewidth": 0,
              "ticks": ""
             }
            },
            "type": "scattercarpet"
           }
          ],
          "scattergeo": [
           {
            "marker": {
             "colorbar": {
              "outlinewidth": 0,
              "ticks": ""
             }
            },
            "type": "scattergeo"
           }
          ],
          "scattergl": [
           {
            "marker": {
             "colorbar": {
              "outlinewidth": 0,
              "ticks": ""
             }
            },
            "type": "scattergl"
           }
          ],
          "scattermapbox": [
           {
            "marker": {
             "colorbar": {
              "outlinewidth": 0,
              "ticks": ""
             }
            },
            "type": "scattermapbox"
           }
          ],
          "scatterpolar": [
           {
            "marker": {
             "colorbar": {
              "outlinewidth": 0,
              "ticks": ""
             }
            },
            "type": "scatterpolar"
           }
          ],
          "scatterpolargl": [
           {
            "marker": {
             "colorbar": {
              "outlinewidth": 0,
              "ticks": ""
             }
            },
            "type": "scatterpolargl"
           }
          ],
          "scatterternary": [
           {
            "marker": {
             "colorbar": {
              "outlinewidth": 0,
              "ticks": ""
             }
            },
            "type": "scatterternary"
           }
          ],
          "surface": [
           {
            "colorbar": {
             "outlinewidth": 0,
             "ticks": ""
            },
            "colorscale": [
             [
              0,
              "#0d0887"
             ],
             [
              0.1111111111111111,
              "#46039f"
             ],
             [
              0.2222222222222222,
              "#7201a8"
             ],
             [
              0.3333333333333333,
              "#9c179e"
             ],
             [
              0.4444444444444444,
              "#bd3786"
             ],
             [
              0.5555555555555556,
              "#d8576b"
             ],
             [
              0.6666666666666666,
              "#ed7953"
             ],
             [
              0.7777777777777778,
              "#fb9f3a"
             ],
             [
              0.8888888888888888,
              "#fdca26"
             ],
             [
              1,
              "#f0f921"
             ]
            ],
            "type": "surface"
           }
          ],
          "table": [
           {
            "cells": {
             "fill": {
              "color": "#EBF0F8"
             },
             "line": {
              "color": "white"
             }
            },
            "header": {
             "fill": {
              "color": "#C8D4E3"
             },
             "line": {
              "color": "white"
             }
            },
            "type": "table"
           }
          ]
         },
         "layout": {
          "annotationdefaults": {
           "arrowcolor": "#2a3f5f",
           "arrowhead": 0,
           "arrowwidth": 1
          },
          "autotypenumbers": "strict",
          "coloraxis": {
           "colorbar": {
            "outlinewidth": 0,
            "ticks": ""
           }
          },
          "colorscale": {
           "diverging": [
            [
             0,
             "#8e0152"
            ],
            [
             0.1,
             "#c51b7d"
            ],
            [
             0.2,
             "#de77ae"
            ],
            [
             0.3,
             "#f1b6da"
            ],
            [
             0.4,
             "#fde0ef"
            ],
            [
             0.5,
             "#f7f7f7"
            ],
            [
             0.6,
             "#e6f5d0"
            ],
            [
             0.7,
             "#b8e186"
            ],
            [
             0.8,
             "#7fbc41"
            ],
            [
             0.9,
             "#4d9221"
            ],
            [
             1,
             "#276419"
            ]
           ],
           "sequential": [
            [
             0,
             "#0d0887"
            ],
            [
             0.1111111111111111,
             "#46039f"
            ],
            [
             0.2222222222222222,
             "#7201a8"
            ],
            [
             0.3333333333333333,
             "#9c179e"
            ],
            [
             0.4444444444444444,
             "#bd3786"
            ],
            [
             0.5555555555555556,
             "#d8576b"
            ],
            [
             0.6666666666666666,
             "#ed7953"
            ],
            [
             0.7777777777777778,
             "#fb9f3a"
            ],
            [
             0.8888888888888888,
             "#fdca26"
            ],
            [
             1,
             "#f0f921"
            ]
           ],
           "sequentialminus": [
            [
             0,
             "#0d0887"
            ],
            [
             0.1111111111111111,
             "#46039f"
            ],
            [
             0.2222222222222222,
             "#7201a8"
            ],
            [
             0.3333333333333333,
             "#9c179e"
            ],
            [
             0.4444444444444444,
             "#bd3786"
            ],
            [
             0.5555555555555556,
             "#d8576b"
            ],
            [
             0.6666666666666666,
             "#ed7953"
            ],
            [
             0.7777777777777778,
             "#fb9f3a"
            ],
            [
             0.8888888888888888,
             "#fdca26"
            ],
            [
             1,
             "#f0f921"
            ]
           ]
          },
          "colorway": [
           "#636efa",
           "#EF553B",
           "#00cc96",
           "#ab63fa",
           "#FFA15A",
           "#19d3f3",
           "#FF6692",
           "#B6E880",
           "#FF97FF",
           "#FECB52"
          ],
          "font": {
           "color": "#2a3f5f"
          },
          "geo": {
           "bgcolor": "white",
           "lakecolor": "white",
           "landcolor": "#E5ECF6",
           "showlakes": true,
           "showland": true,
           "subunitcolor": "white"
          },
          "hoverlabel": {
           "align": "left"
          },
          "hovermode": "closest",
          "mapbox": {
           "style": "light"
          },
          "paper_bgcolor": "white",
          "plot_bgcolor": "#E5ECF6",
          "polar": {
           "angularaxis": {
            "gridcolor": "white",
            "linecolor": "white",
            "ticks": ""
           },
           "bgcolor": "#E5ECF6",
           "radialaxis": {
            "gridcolor": "white",
            "linecolor": "white",
            "ticks": ""
           }
          },
          "scene": {
           "xaxis": {
            "backgroundcolor": "#E5ECF6",
            "gridcolor": "white",
            "gridwidth": 2,
            "linecolor": "white",
            "showbackground": true,
            "ticks": "",
            "zerolinecolor": "white"
           },
           "yaxis": {
            "backgroundcolor": "#E5ECF6",
            "gridcolor": "white",
            "gridwidth": 2,
            "linecolor": "white",
            "showbackground": true,
            "ticks": "",
            "zerolinecolor": "white"
           },
           "zaxis": {
            "backgroundcolor": "#E5ECF6",
            "gridcolor": "white",
            "gridwidth": 2,
            "linecolor": "white",
            "showbackground": true,
            "ticks": "",
            "zerolinecolor": "white"
           }
          },
          "shapedefaults": {
           "line": {
            "color": "#2a3f5f"
           }
          },
          "ternary": {
           "aaxis": {
            "gridcolor": "white",
            "linecolor": "white",
            "ticks": ""
           },
           "baxis": {
            "gridcolor": "white",
            "linecolor": "white",
            "ticks": ""
           },
           "bgcolor": "#E5ECF6",
           "caxis": {
            "gridcolor": "white",
            "linecolor": "white",
            "ticks": ""
           }
          },
          "title": {
           "x": 0.05
          },
          "xaxis": {
           "automargin": true,
           "gridcolor": "white",
           "linecolor": "white",
           "ticks": "",
           "title": {
            "standoff": 15
           },
           "zerolinecolor": "white",
           "zerolinewidth": 2
          },
          "yaxis": {
           "automargin": true,
           "gridcolor": "white",
           "linecolor": "white",
           "ticks": "",
           "title": {
            "standoff": 15
           },
           "zerolinecolor": "white",
           "zerolinewidth": 2
          }
         }
        }
       }
      }
     },
     "metadata": {},
     "output_type": "display_data"
    }
   ],
   "source": [
    "fig = px.scatter_mapbox(NA_data, lat=\"lat\", lon=\"lng\", hover_name=\"bname\", hover_data=['year'],\n",
    "                        color_discrete_sequence=[\"fuchsia\"],zoom=2.5)\n",
    "fig.update_layout(\n",
    "    mapbox_style=\"white-bg\",\n",
    "    mapbox_layers=[\n",
    "        {\n",
    "            \"below\": 'traces',\n",
    "            \"sourcetype\": \"raster\",\n",
    "            \"sourceattribution\": \"United States Geological Survey\",\n",
    "            \"source\": [\n",
    "                \"https://basemap.nationalmap.gov/arcgis/rest/services/USGSImageryOnly/MapServer/tile/{z}/{y}/{x}\"\n",
    "            ]\n",
    "        }\n",
    "      ])\n",
    "fig.update_layout(margin={\"r\":0,\"t\":0,\"l\":0,\"b\":0})\n",
    "fig.show()"
   ]
  },
  {
   "cell_type": "markdown",
   "id": "64e56392-db90-49c4-a062-f4ac7a183ca0",
   "metadata": {},
   "source": [
    "## Next Steps\n",
    "\n",
    "Though the data can be kind of spotty for some battles, it could be interesting to bring in the number (or rate) of casualities for each battle, and size the markers proportional to that. It's only an estimate of the importance of the battle, but it's a good first step.\n",
    "\n",
    "We could also use the plotting function to animate the conflicts throughout Canadian history.\n",
    "\n",
    "Lastly, we could focus on WWI or WWII data and look at the advance of the Allied gains in Europe, highlighting battles that Canada was a major part of."
   ]
  }
 ],
 "metadata": {
  "kernelspec": {
   "display_name": "Python 3 (ipykernel)",
   "language": "python",
   "name": "python3"
  },
  "language_info": {
   "codemirror_mode": {
    "name": "ipython",
    "version": 3
   },
   "file_extension": ".py",
   "mimetype": "text/x-python",
   "name": "python",
   "nbconvert_exporter": "python",
   "pygments_lexer": "ipython3",
   "version": "3.11.3"
  }
 },
 "nbformat": 4,
 "nbformat_minor": 5
}
