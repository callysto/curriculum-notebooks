{
 "cells": [
  {
   "cell_type": "markdown",
   "id": "4727ca18-153d-4f5a-b578-3c7815446594",
   "metadata": {},
   "source": [
    "# Exploring World Historical Battle Database\n",
    "Access to this database was granted by its creator and curator, [Dr. Shuhei Kitamura of Osaka University](https://osf.io/j357k). It's important we acknowledge his generosity. \n",
    "\n",
    "In the interest of looking at applying data science to social studies topics, Canada's involvement in world conflict is an important part of Canadian history. This database allows us to explore battles from throughout human history, and across the world."
   ]
  },
  {
   "cell_type": "code",
   "execution_count": 2,
   "id": "cf0aab1f-f6ac-4ab3-8526-28bfdeb2b598",
   "metadata": {},
   "outputs": [],
   "source": [
    "import pandas as pd\n",
    "import plotly.express as px"
   ]
  },
  {
   "cell_type": "code",
   "execution_count": 14,
   "id": "51c7f397-3cfc-4190-9cbb-a35ece8acdb2",
   "metadata": {},
   "outputs": [
    {
     "data": {
      "text/html": [
       "<div>\n",
       "<style scoped>\n",
       "    .dataframe tbody tr th:only-of-type {\n",
       "        vertical-align: middle;\n",
       "    }\n",
       "\n",
       "    .dataframe tbody tr th {\n",
       "        vertical-align: top;\n",
       "    }\n",
       "\n",
       "    .dataframe thead th {\n",
       "        text-align: right;\n",
       "    }\n",
       "</style>\n",
       "<table border=\"1\" class=\"dataframe\">\n",
       "  <thead>\n",
       "    <tr style=\"text-align: right;\">\n",
       "      <th></th>\n",
       "      <th>uid</th>\n",
       "      <th>bid</th>\n",
       "      <th>lr</th>\n",
       "      <th>bname</th>\n",
       "      <th>year</th>\n",
       "      <th>year_end</th>\n",
       "      <th>war</th>\n",
       "      <th>bell</th>\n",
       "      <th>mult_sides</th>\n",
       "      <th>win</th>\n",
       "      <th>...</th>\n",
       "      <th>air</th>\n",
       "      <th>multiple</th>\n",
       "      <th>entire</th>\n",
       "      <th>unknown</th>\n",
       "      <th>ongoing</th>\n",
       "      <th>plan</th>\n",
       "      <th>nopage</th>\n",
       "      <th>wd_url</th>\n",
       "      <th>wp_url</th>\n",
       "      <th>casualties</th>\n",
       "    </tr>\n",
       "  </thead>\n",
       "  <tbody>\n",
       "    <tr>\n",
       "      <th>0</th>\n",
       "      <td>1</td>\n",
       "      <td>1</td>\n",
       "      <td>l</td>\n",
       "      <td>Battle of Novšiće</td>\n",
       "      <td>1879.0</td>\n",
       "      <td>NaN</td>\n",
       "      <td>Battles for Plav and Gusinje</td>\n",
       "      <td>Principality of Montenegro</td>\n",
       "      <td>NaN</td>\n",
       "      <td>loss</td>\n",
       "      <td>...</td>\n",
       "      <td>NaN</td>\n",
       "      <td>NaN</td>\n",
       "      <td>NaN</td>\n",
       "      <td>NaN</td>\n",
       "      <td>NaN</td>\n",
       "      <td>NaN</td>\n",
       "      <td>NaN</td>\n",
       "      <td>http://www.wikidata.org/entity/Q1001069</td>\n",
       "      <td>https://en.wikipedia.org/wiki/Battle_of_Nov%C5...</td>\n",
       "      <td>NaN</td>\n",
       "    </tr>\n",
       "    <tr>\n",
       "      <th>1</th>\n",
       "      <td>2</td>\n",
       "      <td>1</td>\n",
       "      <td>r</td>\n",
       "      <td>Battle of Novšiće</td>\n",
       "      <td>1879.0</td>\n",
       "      <td>NaN</td>\n",
       "      <td>Battles for Plav and Gusinje</td>\n",
       "      <td>League of Prizren</td>\n",
       "      <td>NaN</td>\n",
       "      <td>win</td>\n",
       "      <td>...</td>\n",
       "      <td>NaN</td>\n",
       "      <td>NaN</td>\n",
       "      <td>NaN</td>\n",
       "      <td>NaN</td>\n",
       "      <td>NaN</td>\n",
       "      <td>NaN</td>\n",
       "      <td>NaN</td>\n",
       "      <td>http://www.wikidata.org/entity/Q1001069</td>\n",
       "      <td>https://en.wikipedia.org/wiki/Battle_of_Nov%C5...</td>\n",
       "      <td>NaN</td>\n",
       "    </tr>\n",
       "    <tr>\n",
       "      <th>2</th>\n",
       "      <td>3</td>\n",
       "      <td>1</td>\n",
       "      <td>r</td>\n",
       "      <td>Battle of Novšiće</td>\n",
       "      <td>1879.0</td>\n",
       "      <td>NaN</td>\n",
       "      <td>Battles for Plav and Gusinje</td>\n",
       "      <td>Ottoman Empire</td>\n",
       "      <td>NaN</td>\n",
       "      <td>win</td>\n",
       "      <td>...</td>\n",
       "      <td>NaN</td>\n",
       "      <td>NaN</td>\n",
       "      <td>NaN</td>\n",
       "      <td>NaN</td>\n",
       "      <td>NaN</td>\n",
       "      <td>NaN</td>\n",
       "      <td>NaN</td>\n",
       "      <td>http://www.wikidata.org/entity/Q1001069</td>\n",
       "      <td>https://en.wikipedia.org/wiki/Battle_of_Nov%C5...</td>\n",
       "      <td>NaN</td>\n",
       "    </tr>\n",
       "    <tr>\n",
       "      <th>3</th>\n",
       "      <td>4</td>\n",
       "      <td>2</td>\n",
       "      <td>l</td>\n",
       "      <td>Battle of Turckheim</td>\n",
       "      <td>1675.0</td>\n",
       "      <td>NaN</td>\n",
       "      <td>Franco-Dutch War</td>\n",
       "      <td>France</td>\n",
       "      <td>NaN</td>\n",
       "      <td>win</td>\n",
       "      <td>...</td>\n",
       "      <td>NaN</td>\n",
       "      <td>NaN</td>\n",
       "      <td>NaN</td>\n",
       "      <td>NaN</td>\n",
       "      <td>NaN</td>\n",
       "      <td>NaN</td>\n",
       "      <td>NaN</td>\n",
       "      <td>http://www.wikidata.org/entity/Q1001093</td>\n",
       "      <td>https://en.wikipedia.org/wiki/Battle_of_Turckheim</td>\n",
       "      <td>NaN</td>\n",
       "    </tr>\n",
       "    <tr>\n",
       "      <th>4</th>\n",
       "      <td>5</td>\n",
       "      <td>2</td>\n",
       "      <td>r</td>\n",
       "      <td>Battle of Turckheim</td>\n",
       "      <td>1675.0</td>\n",
       "      <td>NaN</td>\n",
       "      <td>Franco-Dutch War</td>\n",
       "      <td>Holy Roman Empire</td>\n",
       "      <td>NaN</td>\n",
       "      <td>loss</td>\n",
       "      <td>...</td>\n",
       "      <td>NaN</td>\n",
       "      <td>NaN</td>\n",
       "      <td>NaN</td>\n",
       "      <td>NaN</td>\n",
       "      <td>NaN</td>\n",
       "      <td>NaN</td>\n",
       "      <td>NaN</td>\n",
       "      <td>http://www.wikidata.org/entity/Q1001093</td>\n",
       "      <td>https://en.wikipedia.org/wiki/Battle_of_Turckheim</td>\n",
       "      <td>NaN</td>\n",
       "    </tr>\n",
       "    <tr>\n",
       "      <th>...</th>\n",
       "      <td>...</td>\n",
       "      <td>...</td>\n",
       "      <td>...</td>\n",
       "      <td>...</td>\n",
       "      <td>...</td>\n",
       "      <td>...</td>\n",
       "      <td>...</td>\n",
       "      <td>...</td>\n",
       "      <td>...</td>\n",
       "      <td>...</td>\n",
       "      <td>...</td>\n",
       "      <td>...</td>\n",
       "      <td>...</td>\n",
       "      <td>...</td>\n",
       "      <td>...</td>\n",
       "      <td>...</td>\n",
       "      <td>...</td>\n",
       "      <td>...</td>\n",
       "      <td>...</td>\n",
       "      <td>...</td>\n",
       "      <td>...</td>\n",
       "    </tr>\n",
       "    <tr>\n",
       "      <th>22825</th>\n",
       "      <td>22826</td>\n",
       "      <td>10126</td>\n",
       "      <td>l</td>\n",
       "      <td>NaN</td>\n",
       "      <td>1941.0</td>\n",
       "      <td>NaN</td>\n",
       "      <td>Western Desert campaign</td>\n",
       "      <td>Germany</td>\n",
       "      <td>NaN</td>\n",
       "      <td>win</td>\n",
       "      <td>...</td>\n",
       "      <td>NaN</td>\n",
       "      <td>NaN</td>\n",
       "      <td>1.0</td>\n",
       "      <td>NaN</td>\n",
       "      <td>NaN</td>\n",
       "      <td>NaN</td>\n",
       "      <td>NaN</td>\n",
       "      <td>http://www.wikidata.org/entity/Q708223</td>\n",
       "      <td>https://en.wikipedia.org/wiki/Operation_Sonnen...</td>\n",
       "      <td>NaN</td>\n",
       "    </tr>\n",
       "    <tr>\n",
       "      <th>22826</th>\n",
       "      <td>22827</td>\n",
       "      <td>10126</td>\n",
       "      <td>l</td>\n",
       "      <td>NaN</td>\n",
       "      <td>1941.0</td>\n",
       "      <td>NaN</td>\n",
       "      <td>Western Desert campaign</td>\n",
       "      <td>Italy</td>\n",
       "      <td>NaN</td>\n",
       "      <td>win</td>\n",
       "      <td>...</td>\n",
       "      <td>NaN</td>\n",
       "      <td>NaN</td>\n",
       "      <td>1.0</td>\n",
       "      <td>NaN</td>\n",
       "      <td>NaN</td>\n",
       "      <td>NaN</td>\n",
       "      <td>NaN</td>\n",
       "      <td>http://www.wikidata.org/entity/Q708223</td>\n",
       "      <td>https://en.wikipedia.org/wiki/Operation_Sonnen...</td>\n",
       "      <td>NaN</td>\n",
       "    </tr>\n",
       "    <tr>\n",
       "      <th>22827</th>\n",
       "      <td>22828</td>\n",
       "      <td>10126</td>\n",
       "      <td>r</td>\n",
       "      <td>NaN</td>\n",
       "      <td>1941.0</td>\n",
       "      <td>NaN</td>\n",
       "      <td>Western Desert campaign</td>\n",
       "      <td>United Kingdom</td>\n",
       "      <td>NaN</td>\n",
       "      <td>loss</td>\n",
       "      <td>...</td>\n",
       "      <td>NaN</td>\n",
       "      <td>NaN</td>\n",
       "      <td>1.0</td>\n",
       "      <td>NaN</td>\n",
       "      <td>NaN</td>\n",
       "      <td>NaN</td>\n",
       "      <td>NaN</td>\n",
       "      <td>http://www.wikidata.org/entity/Q708223</td>\n",
       "      <td>https://en.wikipedia.org/wiki/Operation_Sonnen...</td>\n",
       "      <td>NaN</td>\n",
       "    </tr>\n",
       "    <tr>\n",
       "      <th>22828</th>\n",
       "      <td>22829</td>\n",
       "      <td>10126</td>\n",
       "      <td>r</td>\n",
       "      <td>NaN</td>\n",
       "      <td>1941.0</td>\n",
       "      <td>NaN</td>\n",
       "      <td>Western Desert campaign</td>\n",
       "      <td>British Raj</td>\n",
       "      <td>NaN</td>\n",
       "      <td>loss</td>\n",
       "      <td>...</td>\n",
       "      <td>NaN</td>\n",
       "      <td>NaN</td>\n",
       "      <td>1.0</td>\n",
       "      <td>NaN</td>\n",
       "      <td>NaN</td>\n",
       "      <td>NaN</td>\n",
       "      <td>NaN</td>\n",
       "      <td>http://www.wikidata.org/entity/Q708223</td>\n",
       "      <td>https://en.wikipedia.org/wiki/Operation_Sonnen...</td>\n",
       "      <td>NaN</td>\n",
       "    </tr>\n",
       "    <tr>\n",
       "      <th>22829</th>\n",
       "      <td>22830</td>\n",
       "      <td>10126</td>\n",
       "      <td>r</td>\n",
       "      <td>NaN</td>\n",
       "      <td>1941.0</td>\n",
       "      <td>NaN</td>\n",
       "      <td>Western Desert campaign</td>\n",
       "      <td>Australia</td>\n",
       "      <td>NaN</td>\n",
       "      <td>loss</td>\n",
       "      <td>...</td>\n",
       "      <td>NaN</td>\n",
       "      <td>NaN</td>\n",
       "      <td>1.0</td>\n",
       "      <td>NaN</td>\n",
       "      <td>NaN</td>\n",
       "      <td>NaN</td>\n",
       "      <td>NaN</td>\n",
       "      <td>http://www.wikidata.org/entity/Q708223</td>\n",
       "      <td>https://en.wikipedia.org/wiki/Operation_Sonnen...</td>\n",
       "      <td>NaN</td>\n",
       "    </tr>\n",
       "  </tbody>\n",
       "</table>\n",
       "<p>22830 rows × 40 columns</p>\n",
       "</div>"
      ],
      "text/plain": [
       "         uid    bid lr                bname    year  year_end   \n",
       "0          1      1  l    Battle of Novšiće  1879.0       NaN  \\\n",
       "1          2      1  r    Battle of Novšiće  1879.0       NaN   \n",
       "2          3      1  r    Battle of Novšiće  1879.0       NaN   \n",
       "3          4      2  l  Battle of Turckheim  1675.0       NaN   \n",
       "4          5      2  r  Battle of Turckheim  1675.0       NaN   \n",
       "...      ...    ... ..                  ...     ...       ...   \n",
       "22825  22826  10126  l                  NaN  1941.0       NaN   \n",
       "22826  22827  10126  l                  NaN  1941.0       NaN   \n",
       "22827  22828  10126  r                  NaN  1941.0       NaN   \n",
       "22828  22829  10126  r                  NaN  1941.0       NaN   \n",
       "22829  22830  10126  r                  NaN  1941.0       NaN   \n",
       "\n",
       "                                war                        bell  mult_sides   \n",
       "0      Battles for Plav and Gusinje  Principality of Montenegro         NaN  \\\n",
       "1      Battles for Plav and Gusinje           League of Prizren         NaN   \n",
       "2      Battles for Plav and Gusinje              Ottoman Empire         NaN   \n",
       "3                  Franco-Dutch War                      France         NaN   \n",
       "4                  Franco-Dutch War           Holy Roman Empire         NaN   \n",
       "...                             ...                         ...         ...   \n",
       "22825       Western Desert campaign                     Germany         NaN   \n",
       "22826       Western Desert campaign                       Italy         NaN   \n",
       "22827       Western Desert campaign              United Kingdom         NaN   \n",
       "22828       Western Desert campaign                 British Raj         NaN   \n",
       "22829       Western Desert campaign                   Australia         NaN   \n",
       "\n",
       "        win  ...  air  multiple  entire  unknown  ongoing  plan  nopage   \n",
       "0      loss  ...  NaN       NaN     NaN      NaN      NaN   NaN     NaN  \\\n",
       "1       win  ...  NaN       NaN     NaN      NaN      NaN   NaN     NaN   \n",
       "2       win  ...  NaN       NaN     NaN      NaN      NaN   NaN     NaN   \n",
       "3       win  ...  NaN       NaN     NaN      NaN      NaN   NaN     NaN   \n",
       "4      loss  ...  NaN       NaN     NaN      NaN      NaN   NaN     NaN   \n",
       "...     ...  ...  ...       ...     ...      ...      ...   ...     ...   \n",
       "22825   win  ...  NaN       NaN     1.0      NaN      NaN   NaN     NaN   \n",
       "22826   win  ...  NaN       NaN     1.0      NaN      NaN   NaN     NaN   \n",
       "22827  loss  ...  NaN       NaN     1.0      NaN      NaN   NaN     NaN   \n",
       "22828  loss  ...  NaN       NaN     1.0      NaN      NaN   NaN     NaN   \n",
       "22829  loss  ...  NaN       NaN     1.0      NaN      NaN   NaN     NaN   \n",
       "\n",
       "                                        wd_url   \n",
       "0      http://www.wikidata.org/entity/Q1001069  \\\n",
       "1      http://www.wikidata.org/entity/Q1001069   \n",
       "2      http://www.wikidata.org/entity/Q1001069   \n",
       "3      http://www.wikidata.org/entity/Q1001093   \n",
       "4      http://www.wikidata.org/entity/Q1001093   \n",
       "...                                        ...   \n",
       "22825   http://www.wikidata.org/entity/Q708223   \n",
       "22826   http://www.wikidata.org/entity/Q708223   \n",
       "22827   http://www.wikidata.org/entity/Q708223   \n",
       "22828   http://www.wikidata.org/entity/Q708223   \n",
       "22829   http://www.wikidata.org/entity/Q708223   \n",
       "\n",
       "                                                  wp_url  casualties  \n",
       "0      https://en.wikipedia.org/wiki/Battle_of_Nov%C5...         NaN  \n",
       "1      https://en.wikipedia.org/wiki/Battle_of_Nov%C5...         NaN  \n",
       "2      https://en.wikipedia.org/wiki/Battle_of_Nov%C5...         NaN  \n",
       "3      https://en.wikipedia.org/wiki/Battle_of_Turckheim         NaN  \n",
       "4      https://en.wikipedia.org/wiki/Battle_of_Turckheim         NaN  \n",
       "...                                                  ...         ...  \n",
       "22825  https://en.wikipedia.org/wiki/Operation_Sonnen...         NaN  \n",
       "22826  https://en.wikipedia.org/wiki/Operation_Sonnen...         NaN  \n",
       "22827  https://en.wikipedia.org/wiki/Operation_Sonnen...         NaN  \n",
       "22828  https://en.wikipedia.org/wiki/Operation_Sonnen...         NaN  \n",
       "22829  https://en.wikipedia.org/wiki/Operation_Sonnen...         NaN  \n",
       "\n",
       "[22830 rows x 40 columns]"
      ]
     },
     "execution_count": 14,
     "metadata": {},
     "output_type": "execute_result"
    }
   ],
   "source": [
    "# Read in the data\n",
    "data = pd.read_excel('data/whbd_v11-2.xlsx')\n",
    "data"
   ]
  },
  {
   "cell_type": "code",
   "execution_count": 15,
   "id": "d5196387-3e2a-4b56-8cb1-578ba668b01e",
   "metadata": {},
   "outputs": [
    {
     "data": {
      "text/plain": [
       "Index(['uid', 'bid', 'lr', 'bname', 'year', 'year_end', 'war', 'bell',\n",
       "       'mult_sides', 'win', 'uk', 'fr', 'de', 'sp', 'sw', 'tr', 'at', 'ru',\n",
       "       'nl', 'it', 'pt', 'dk', 'habsburg', 'hre', 'lat', 'lng', 'locn',\n",
       "       'naval', 'river', 'lake', 'air', 'multiple', 'entire', 'unknown',\n",
       "       'ongoing', 'plan', 'nopage', 'wd_url', 'wp_url', 'casualties'],\n",
       "      dtype='object')"
      ]
     },
     "execution_count": 15,
     "metadata": {},
     "output_type": "execute_result"
    }
   ],
   "source": [
    "# See what the columns contain\n",
    "data.columns"
   ]
  },
  {
   "cell_type": "code",
   "execution_count": 16,
   "id": "7daa5f3e-5eda-4854-abd0-c26f7f7cbd4c",
   "metadata": {},
   "outputs": [
    {
     "data": {
      "text/html": [
       "<div>\n",
       "<style scoped>\n",
       "    .dataframe tbody tr th:only-of-type {\n",
       "        vertical-align: middle;\n",
       "    }\n",
       "\n",
       "    .dataframe tbody tr th {\n",
       "        vertical-align: top;\n",
       "    }\n",
       "\n",
       "    .dataframe thead th {\n",
       "        text-align: right;\n",
       "    }\n",
       "</style>\n",
       "<table border=\"1\" class=\"dataframe\">\n",
       "  <thead>\n",
       "    <tr style=\"text-align: right;\">\n",
       "      <th></th>\n",
       "      <th>uid</th>\n",
       "      <th>bid</th>\n",
       "      <th>lr</th>\n",
       "      <th>bname</th>\n",
       "      <th>year</th>\n",
       "      <th>year_end</th>\n",
       "      <th>war</th>\n",
       "      <th>bell</th>\n",
       "      <th>mult_sides</th>\n",
       "      <th>win</th>\n",
       "      <th>lat</th>\n",
       "      <th>lng</th>\n",
       "      <th>locn</th>\n",
       "      <th>wd_url</th>\n",
       "      <th>wp_url</th>\n",
       "      <th>casualties</th>\n",
       "    </tr>\n",
       "  </thead>\n",
       "  <tbody>\n",
       "    <tr>\n",
       "      <th>134</th>\n",
       "      <td>135</td>\n",
       "      <td>51</td>\n",
       "      <td>l</td>\n",
       "      <td>Second Battle of the Somme</td>\n",
       "      <td>1918.0</td>\n",
       "      <td>NaN</td>\n",
       "      <td>Western Front of World War I</td>\n",
       "      <td>Canada</td>\n",
       "      <td>NaN</td>\n",
       "      <td>win</td>\n",
       "      <td>49.968971</td>\n",
       "      <td>2.373859</td>\n",
       "      <td>Somme River, France</td>\n",
       "      <td>http://www.wikidata.org/entity/Q1063735</td>\n",
       "      <td>https://en.wikipedia.org/wiki/Second_Battle_of...</td>\n",
       "      <td>NaN</td>\n",
       "    </tr>\n",
       "    <tr>\n",
       "      <th>242</th>\n",
       "      <td>243</td>\n",
       "      <td>92</td>\n",
       "      <td>l</td>\n",
       "      <td>Battle of the Lys</td>\n",
       "      <td>1918.0</td>\n",
       "      <td>NaN</td>\n",
       "      <td>Spring Offensive</td>\n",
       "      <td>Canada</td>\n",
       "      <td>NaN</td>\n",
       "      <td>Germans retreat</td>\n",
       "      <td>50.705556</td>\n",
       "      <td>2.900000</td>\n",
       "      <td>Flanders, northeast France</td>\n",
       "      <td>http://www.wikidata.org/entity/Q1088364</td>\n",
       "      <td>https://en.wikipedia.org/wiki/Battle_of_the_Ly...</td>\n",
       "      <td>219000.0</td>\n",
       "    </tr>\n",
       "    <tr>\n",
       "      <th>474</th>\n",
       "      <td>475</td>\n",
       "      <td>165</td>\n",
       "      <td>l</td>\n",
       "      <td>Battle of Messines</td>\n",
       "      <td>1917.0</td>\n",
       "      <td>NaN</td>\n",
       "      <td>Western Front of World War I</td>\n",
       "      <td>Canada</td>\n",
       "      <td>NaN</td>\n",
       "      <td>win</td>\n",
       "      <td>50.762500</td>\n",
       "      <td>2.895278</td>\n",
       "      <td>Flanders, Belgium</td>\n",
       "      <td>http://www.wikidata.org/entity/Q1144824</td>\n",
       "      <td>https://en.wikipedia.org/wiki/Battle_of_Messin...</td>\n",
       "      <td>46448.0</td>\n",
       "    </tr>\n",
       "    <tr>\n",
       "      <th>1007</th>\n",
       "      <td>1008</td>\n",
       "      <td>354</td>\n",
       "      <td>l</td>\n",
       "      <td>Battle of Kitcheners' Wood</td>\n",
       "      <td>1915.0</td>\n",
       "      <td>NaN</td>\n",
       "      <td>Western Front of World War I</td>\n",
       "      <td>Canada</td>\n",
       "      <td>NaN</td>\n",
       "      <td>win</td>\n",
       "      <td>50.890000</td>\n",
       "      <td>2.922000</td>\n",
       "      <td>Ypres, Belgium</td>\n",
       "      <td>http://www.wikidata.org/entity/Q129117</td>\n",
       "      <td>https://en.wikipedia.org/wiki/Battle_of_Kitche...</td>\n",
       "      <td>NaN</td>\n",
       "    </tr>\n",
       "    <tr>\n",
       "      <th>1095</th>\n",
       "      <td>1096</td>\n",
       "      <td>385</td>\n",
       "      <td>l</td>\n",
       "      <td>Battle of the Somme</td>\n",
       "      <td>1916.0</td>\n",
       "      <td>NaN</td>\n",
       "      <td>Western Front of World War I</td>\n",
       "      <td>Canada</td>\n",
       "      <td>NaN</td>\n",
       "      <td>win</td>\n",
       "      <td>50.015500</td>\n",
       "      <td>2.697420</td>\n",
       "      <td>Somme River, north-central Somme and south-eas...</td>\n",
       "      <td>http://www.wikidata.org/entity/Q132568</td>\n",
       "      <td>https://en.wikipedia.org/wiki/Battle_of_the_Somme</td>\n",
       "      <td>1088907.0</td>\n",
       "    </tr>\n",
       "    <tr>\n",
       "      <th>...</th>\n",
       "      <td>...</td>\n",
       "      <td>...</td>\n",
       "      <td>...</td>\n",
       "      <td>...</td>\n",
       "      <td>...</td>\n",
       "      <td>...</td>\n",
       "      <td>...</td>\n",
       "      <td>...</td>\n",
       "      <td>...</td>\n",
       "      <td>...</td>\n",
       "      <td>...</td>\n",
       "      <td>...</td>\n",
       "      <td>...</td>\n",
       "      <td>...</td>\n",
       "      <td>...</td>\n",
       "      <td>...</td>\n",
       "    </tr>\n",
       "    <tr>\n",
       "      <th>22599</th>\n",
       "      <td>22600</td>\n",
       "      <td>10063</td>\n",
       "      <td>l</td>\n",
       "      <td>NaN</td>\n",
       "      <td>1942.0</td>\n",
       "      <td>1945.0</td>\n",
       "      <td>World War II</td>\n",
       "      <td>Canada</td>\n",
       "      <td>NaN</td>\n",
       "      <td>win</td>\n",
       "      <td>NaN</td>\n",
       "      <td>NaN</td>\n",
       "      <td>Coral Sea, New Guinea, Solomon Islands and Aus...</td>\n",
       "      <td>http://www.wikidata.org/entity/Q2890968</td>\n",
       "      <td>https://en.wikipedia.org/wiki/Battle_for_Austr...</td>\n",
       "      <td>NaN</td>\n",
       "    </tr>\n",
       "    <tr>\n",
       "      <th>22619</th>\n",
       "      <td>22620</td>\n",
       "      <td>10067</td>\n",
       "      <td>l</td>\n",
       "      <td>NaN</td>\n",
       "      <td>1945.0</td>\n",
       "      <td>NaN</td>\n",
       "      <td>World War II</td>\n",
       "      <td>Canada</td>\n",
       "      <td>NaN</td>\n",
       "      <td>NaN</td>\n",
       "      <td>NaN</td>\n",
       "      <td>NaN</td>\n",
       "      <td>Japan</td>\n",
       "      <td>http://www.wikidata.org/entity/Q300879</td>\n",
       "      <td>https://en.wikipedia.org/wiki/Operation_Downfall</td>\n",
       "      <td>NaN</td>\n",
       "    </tr>\n",
       "    <tr>\n",
       "      <th>22699</th>\n",
       "      <td>22700</td>\n",
       "      <td>10090</td>\n",
       "      <td>l</td>\n",
       "      <td>NaN</td>\n",
       "      <td>1944.0</td>\n",
       "      <td>1945.0</td>\n",
       "      <td>NaN</td>\n",
       "      <td>Canada</td>\n",
       "      <td>NaN</td>\n",
       "      <td>win</td>\n",
       "      <td>NaN</td>\n",
       "      <td>NaN</td>\n",
       "      <td>Along and around the Siegfried Line, (France, ...</td>\n",
       "      <td>http://www.wikidata.org/entity/Q4872994</td>\n",
       "      <td>https://en.wikipedia.org/wiki/Battle_of_the_Rh...</td>\n",
       "      <td>NaN</td>\n",
       "    </tr>\n",
       "    <tr>\n",
       "      <th>22753</th>\n",
       "      <td>22754</td>\n",
       "      <td>10104</td>\n",
       "      <td>l</td>\n",
       "      <td>NaN</td>\n",
       "      <td>1944.0</td>\n",
       "      <td>NaN</td>\n",
       "      <td>World War II</td>\n",
       "      <td>Canada</td>\n",
       "      <td>NaN</td>\n",
       "      <td>win</td>\n",
       "      <td>NaN</td>\n",
       "      <td>NaN</td>\n",
       "      <td>Dutch Zeeland and northern Belgium</td>\n",
       "      <td>http://www.wikidata.org/entity/Q697022</td>\n",
       "      <td>https://en.wikipedia.org/wiki/Battle_of_the_Sc...</td>\n",
       "      <td>NaN</td>\n",
       "    </tr>\n",
       "    <tr>\n",
       "      <th>22782</th>\n",
       "      <td>22783</td>\n",
       "      <td>10109</td>\n",
       "      <td>l</td>\n",
       "      <td>NaN</td>\n",
       "      <td>1945.0</td>\n",
       "      <td>NaN</td>\n",
       "      <td>NaN</td>\n",
       "      <td>Canada</td>\n",
       "      <td>NaN</td>\n",
       "      <td>pyrrhic loss (tactical) win (Germany failed)</td>\n",
       "      <td>NaN</td>\n",
       "      <td>NaN</td>\n",
       "      <td>Belgium, the Netherlands and France</td>\n",
       "      <td>http://www.wikidata.org/entity/Q835881</td>\n",
       "      <td>https://en.wikipedia.org/wiki/Operation_Bodenp...</td>\n",
       "      <td>NaN</td>\n",
       "    </tr>\n",
       "  </tbody>\n",
       "</table>\n",
       "<p>115 rows × 16 columns</p>\n",
       "</div>"
      ],
      "text/plain": [
       "         uid    bid lr                       bname    year  year_end   \n",
       "134      135     51  l  Second Battle of the Somme  1918.0       NaN  \\\n",
       "242      243     92  l           Battle of the Lys  1918.0       NaN   \n",
       "474      475    165  l          Battle of Messines  1917.0       NaN   \n",
       "1007    1008    354  l  Battle of Kitcheners' Wood  1915.0       NaN   \n",
       "1095    1096    385  l         Battle of the Somme  1916.0       NaN   \n",
       "...      ...    ... ..                         ...     ...       ...   \n",
       "22599  22600  10063  l                         NaN  1942.0    1945.0   \n",
       "22619  22620  10067  l                         NaN  1945.0       NaN   \n",
       "22699  22700  10090  l                         NaN  1944.0    1945.0   \n",
       "22753  22754  10104  l                         NaN  1944.0       NaN   \n",
       "22782  22783  10109  l                         NaN  1945.0       NaN   \n",
       "\n",
       "                                war    bell  mult_sides   \n",
       "134    Western Front of World War I  Canada         NaN  \\\n",
       "242                Spring Offensive  Canada         NaN   \n",
       "474    Western Front of World War I  Canada         NaN   \n",
       "1007   Western Front of World War I  Canada         NaN   \n",
       "1095   Western Front of World War I  Canada         NaN   \n",
       "...                             ...     ...         ...   \n",
       "22599                  World War II  Canada         NaN   \n",
       "22619                  World War II  Canada         NaN   \n",
       "22699                           NaN  Canada         NaN   \n",
       "22753                  World War II  Canada         NaN   \n",
       "22782                           NaN  Canada         NaN   \n",
       "\n",
       "                                                win        lat       lng   \n",
       "134                                             win  49.968971  2.373859  \\\n",
       "242                                 Germans retreat  50.705556  2.900000   \n",
       "474                                             win  50.762500  2.895278   \n",
       "1007                                            win  50.890000  2.922000   \n",
       "1095                                            win  50.015500  2.697420   \n",
       "...                                             ...        ...       ...   \n",
       "22599                                           win        NaN       NaN   \n",
       "22619                                           NaN        NaN       NaN   \n",
       "22699                                           win        NaN       NaN   \n",
       "22753                                           win        NaN       NaN   \n",
       "22782  pyrrhic loss (tactical) win (Germany failed)        NaN       NaN   \n",
       "\n",
       "                                                    locn   \n",
       "134                                  Somme River, France  \\\n",
       "242                           Flanders, northeast France   \n",
       "474                                    Flanders, Belgium   \n",
       "1007                                      Ypres, Belgium   \n",
       "1095   Somme River, north-central Somme and south-eas...   \n",
       "...                                                  ...   \n",
       "22599  Coral Sea, New Guinea, Solomon Islands and Aus...   \n",
       "22619                                              Japan   \n",
       "22699  Along and around the Siegfried Line, (France, ...   \n",
       "22753                 Dutch Zeeland and northern Belgium   \n",
       "22782                Belgium, the Netherlands and France   \n",
       "\n",
       "                                        wd_url   \n",
       "134    http://www.wikidata.org/entity/Q1063735  \\\n",
       "242    http://www.wikidata.org/entity/Q1088364   \n",
       "474    http://www.wikidata.org/entity/Q1144824   \n",
       "1007    http://www.wikidata.org/entity/Q129117   \n",
       "1095    http://www.wikidata.org/entity/Q132568   \n",
       "...                                        ...   \n",
       "22599  http://www.wikidata.org/entity/Q2890968   \n",
       "22619   http://www.wikidata.org/entity/Q300879   \n",
       "22699  http://www.wikidata.org/entity/Q4872994   \n",
       "22753   http://www.wikidata.org/entity/Q697022   \n",
       "22782   http://www.wikidata.org/entity/Q835881   \n",
       "\n",
       "                                                  wp_url  casualties  \n",
       "134    https://en.wikipedia.org/wiki/Second_Battle_of...         NaN  \n",
       "242    https://en.wikipedia.org/wiki/Battle_of_the_Ly...    219000.0  \n",
       "474    https://en.wikipedia.org/wiki/Battle_of_Messin...     46448.0  \n",
       "1007   https://en.wikipedia.org/wiki/Battle_of_Kitche...         NaN  \n",
       "1095   https://en.wikipedia.org/wiki/Battle_of_the_Somme   1088907.0  \n",
       "...                                                  ...         ...  \n",
       "22599  https://en.wikipedia.org/wiki/Battle_for_Austr...         NaN  \n",
       "22619   https://en.wikipedia.org/wiki/Operation_Downfall         NaN  \n",
       "22699  https://en.wikipedia.org/wiki/Battle_of_the_Rh...         NaN  \n",
       "22753  https://en.wikipedia.org/wiki/Battle_of_the_Sc...         NaN  \n",
       "22782  https://en.wikipedia.org/wiki/Operation_Bodenp...         NaN  \n",
       "\n",
       "[115 rows x 16 columns]"
      ]
     },
     "metadata": {},
     "output_type": "display_data"
    }
   ],
   "source": [
    "# Filter to only look at the battles that specify Canada as a combatant. Drop unused columns\n",
    "candata = data[data['bell']=='Canada'].drop(['uk', 'fr', 'de', 'sp', 'sw', 'tr', 'at', \n",
    "                                             'ru', 'nl', 'it', 'pt', 'dk', 'habsburg', 'hre',\n",
    "                                             'naval', 'river', 'lake', 'air', 'multiple', 'entire',\n",
    "                                             'ongoing', 'plan', 'nopage', 'unknown'], axis=1)\n",
    "display(candata)"
   ]
  },
  {
   "cell_type": "markdown",
   "id": "4b843a51-d9c0-42fc-a963-fe60c528c5ed",
   "metadata": {},
   "source": [
    "We can take the data and consider only the wars that list Canada as a participant:"
   ]
  },
  {
   "cell_type": "code",
   "execution_count": 6,
   "id": "268415dd-5f20-4c2b-ba0b-cca82870c586",
   "metadata": {},
   "outputs": [
    {
     "data": {
      "text/plain": [
       "['Action of 26 April 1944',\n",
       " 'Allied invasion of Italy',\n",
       " 'Battle for Caen',\n",
       " 'Battle for the Kapelsche Veer',\n",
       " 'Battle of Amiens',\n",
       " 'Battle of Anzio',\n",
       " 'Battle of Arghandab',\n",
       " 'Battle of Arras',\n",
       " 'Battle of Attu',\n",
       " 'Battle of Baiji',\n",
       " 'Battle of Batoche',\n",
       " 'Battle of Bubiyan',\n",
       " 'Battle of Cambrai',\n",
       " 'Battle of Chambois',\n",
       " 'Battle of Chuam-ni',\n",
       " 'Battle of Cut Knife',\n",
       " 'Battle of Diamond Hill',\n",
       " 'Battle of Drocourt-Quéant Line',\n",
       " 'Battle of Duck Lake',\n",
       " 'Battle of Dunkirk',\n",
       " 'Battle of Elands River',\n",
       " 'Battle of Festubert',\n",
       " 'Battle of Fish Creek',\n",
       " 'Battle of Flers–Courcelette',\n",
       " 'Battle of Fort Pitt',\n",
       " \"Battle of Frenchman's Butte\",\n",
       " 'Battle of Givenchy',\n",
       " 'Battle of Groningen',\n",
       " 'Battle of Hill 60',\n",
       " 'Battle of Hill 70',\n",
       " 'Battle of Hong Kong',\n",
       " 'Battle of Inchon',\n",
       " 'Battle of Kapyong',\n",
       " \"Battle of Kitcheners' Wood\",\n",
       " 'Battle of Le Mesnil-Patry',\n",
       " 'Battle of Le Transloy',\n",
       " 'Battle of Leliefontein',\n",
       " 'Battle of Loon Lake',\n",
       " 'Battle of Maehwa-san',\n",
       " 'Battle of Messines',\n",
       " 'Battle of Misrata',\n",
       " 'Battle of Mont Sorrel',\n",
       " 'Battle of Monte Cassino',\n",
       " 'Battle of Moreuil Wood',\n",
       " 'Battle of Morval',\n",
       " 'Battle of Mosul (2016–17)',\n",
       " 'Battle of Mouquet Farm',\n",
       " 'Battle of Neuve Chapelle',\n",
       " 'Battle of Okinawa',\n",
       " 'Battle of Ortona',\n",
       " 'Battle of Paardeberg',\n",
       " 'Battle of Panjwaii',\n",
       " 'Battle of Passchendaele',\n",
       " 'Battle of Pierres Noires',\n",
       " 'Battle of Port Cros',\n",
       " 'Battle of Ramadi',\n",
       " 'Battle of Rimini',\n",
       " 'Battle of Shenkursk',\n",
       " 'Battle of Thiepval Ridge',\n",
       " 'Battle of Trout River',\n",
       " 'Battle of Tulgas',\n",
       " 'Battle of Verrières Ridge',\n",
       " 'Battle of Vimy Ridge',\n",
       " 'Battle of Walcheren Causeway',\n",
       " 'Battle of Witpoort',\n",
       " 'Battle of the Ancre Heights',\n",
       " 'Battle of the Bell Islands',\n",
       " 'Battle of the Bulge',\n",
       " 'Battle of the Canal du Nord',\n",
       " 'Battle of the Caribbean',\n",
       " 'Battle of the Lys',\n",
       " 'Battle of the Ruhr',\n",
       " 'Battle of the Scarpe',\n",
       " 'Battle of the Somme',\n",
       " 'Battle of the St. Lawrence',\n",
       " 'Bernhardt Line',\n",
       " 'Black Friday',\n",
       " 'Bloody Sunday',\n",
       " 'Dieppe Raid',\n",
       " 'Falaise Pocket',\n",
       " 'Fifth Battle of Ypres',\n",
       " 'First Battle of Gaza',\n",
       " 'First Battle of Maryang-san',\n",
       " 'Friendly fire incident at Sangin',\n",
       " 'Invasion of Normandy',\n",
       " 'Liberation of Arnhem',\n",
       " 'Monte la Difensa',\n",
       " 'Normandy landings',\n",
       " 'Operation Achilles',\n",
       " 'Operation Anaconda',\n",
       " 'Operation Diadem',\n",
       " 'Operation Dragon Strike',\n",
       " 'Operation Medusa',\n",
       " 'Operation Michael',\n",
       " 'Operation Moshtarak',\n",
       " 'Operation Mountain Fury',\n",
       " 'Operation Teardrop',\n",
       " 'Operation Tonga',\n",
       " 'Regina Trench',\n",
       " 'Second Battle of Artois',\n",
       " 'Second Battle of Gaza',\n",
       " 'Second Battle of Passchendaele',\n",
       " 'Second Battle of Seoul',\n",
       " 'Second Battle of Ypres',\n",
       " 'Second Battle of the Hook',\n",
       " 'Second Battle of the Somme',\n",
       " 'battle of Moerbrugge',\n",
       " nan]"
      ]
     },
     "execution_count": 6,
     "metadata": {},
     "output_type": "execute_result"
    }
   ],
   "source": [
    "list(candata['bname'].sort_values().unique())"
   ]
  },
  {
   "cell_type": "markdown",
   "id": "d3b48797-c270-473b-a0ed-a97e0c40a689",
   "metadata": {},
   "source": [
    "We can plot the battles on a map with their lattitude and longitude coordinates.\n",
    "\n",
    "You can drag to move around the map, zoom in and out to get more clarity. Hovering over each data point lists the name of the battle, as well as the war in which the battle was fought."
   ]
  },
  {
   "cell_type": "code",
   "execution_count": 26,
   "id": "6ab9604e-9202-4c88-af24-fa26c5cd3ac1",
   "metadata": {},
   "outputs": [
    {
     "data": {
      "application/vnd.plotly.v1+json": {
       "config": {
        "plotlyServerURL": "https://plot.ly"
       },
       "data": [
        {
         "customdata": [
          [
           "Western Front of World War I",
           1918
          ],
          [
           "Spring Offensive",
           1918
          ],
          [
           "Western Front of World War I",
           1917
          ],
          [
           "Western Front of World War I",
           1915
          ],
          [
           "Western Front of World War I",
           1916
          ],
          [
           "War in Afghanistan",
           2002
          ],
          [
           "Battle of the Somme",
           1916
          ],
          [
           null,
           1944
          ],
          [
           "Spring Offensive",
           1918
          ],
          [
           "World War II",
           1945
          ],
          [
           "War in Afghanistan",
           2007
          ],
          [
           "Moro River Campaign",
           1943
          ],
          [
           "Invasion of Normandy",
           1944
          ],
          [
           "Operation Overlord",
           1944
          ],
          [
           "Fenian raids",
           1870
          ],
          [
           "Normandy landings",
           1944
          ],
          [
           "Iraqi Civil War (2014–2017)",
           2014
          ],
          [
           "War in Afghanistan",
           2006
          ],
          [
           "Western Front of World War I",
           1915
          ],
          [
           "Anbar offensive",
           2014
          ],
          [
           "Korean War",
           1952
          ],
          [
           "Pacific War",
           1945
          ],
          [
           "World War I",
           1915
          ],
          [
           "World War I",
           1918
          ],
          [
           "World War II",
           1942
          ],
          [
           "Western Front of World War I",
           1916
          ],
          [
           "War in Afghanistan",
           2010
          ],
          [
           "World War I",
           1914
          ],
          [
           "World War II",
           1940
          ],
          [
           "Iraqi Civil War (2014–2017)",
           2015
          ],
          [
           null,
           1942
          ],
          [
           "Western Front of World War I",
           1915
          ],
          [
           "World War II",
           1945
          ],
          [
           null,
           1945
          ],
          [
           "Second Boer War",
           1900
          ],
          [
           "2011 Libyan Civil War",
           2011
          ],
          [
           "Western Front of World War I",
           1915
          ],
          [
           "Western Front of World War I",
           1915
          ],
          [
           "World War I",
           1917
          ],
          [
           "Western Front of World War I",
           1917
          ],
          [
           "Italian campaign",
           1944
          ],
          [
           "World War I",
           1918
          ],
          [
           "North West Europe Campaign",
           1942
          ],
          [
           "American-led intervention in Iraq (2014–present)",
           2016
          ],
          [
           "World War II",
           1945
          ],
          [
           "Middle Eastern theatre of World War I",
           1917
          ],
          [
           "North-West Rebellion",
           1885
          ],
          [
           "Second Boer War",
           1900
          ],
          [
           "War in Afghanistan",
           2006
          ],
          [
           "Second Boer War",
           1900
          ],
          [
           "Korean War",
           1951
          ],
          [
           "Battle of the Scheldt",
           1944
          ],
          [
           "Battle of the Somme",
           1916
          ],
          [
           "World War II",
           1944
          ],
          [
           "War in Afghanistan",
           2008
          ],
          [
           "strategic bombing during World War II",
           1943
          ],
          [
           null,
           1944
          ],
          [
           "War in Afghanistan",
           2006
          ],
          [
           "Battle of the Somme",
           1916
          ],
          [
           "Italian campaign",
           1943
          ],
          [
           "Battle of the Somme",
           1916
          ],
          [
           "Middle Eastern theatre of World War I",
           1917
          ],
          [
           "World War I",
           1917
          ],
          [
           "Western Front of World War I",
           1917
          ],
          [
           "World War II",
           1941
          ],
          [
           "North Russia Intervention",
           1919
          ],
          [
           "Korean War",
           1950
          ],
          [
           "Gulf War",
           1991
          ],
          [
           "World War II",
           1944
          ],
          [
           "Korean War",
           1951
          ],
          [
           "Second Boer War",
           1900
          ],
          [
           "North-West Rebellion",
           1885
          ],
          [
           "Battle of the Somme",
           1916
          ],
          [
           "Korean War",
           1951
          ],
          [
           null,
           1944
          ],
          [
           "Western Front of World War I",
           1916
          ],
          [
           "World War II",
           1944
          ],
          [
           "Russian Civil War",
           1918
          ],
          [
           "Second Boer War",
           1900
          ],
          [
           "Western Front of World War I",
           1918
          ],
          [
           "Second Boer War",
           1900
          ],
          [
           "World War I",
           1918
          ],
          [
           "Western Front of World War I",
           1918
          ],
          [
           "Operation Overlord",
           1944
          ],
          [
           "Mediterranean and Middle East theatre of World War II",
           1944
          ],
          [
           "Hundred Days Offensive",
           1918
          ],
          [
           "Korean War",
           1950
          ],
          [
           null,
           1945
          ],
          [
           "Operation Overlord",
           1944
          ],
          [
           "Italian campaign",
           1944
          ],
          [
           "Pacific War",
           1941
          ],
          [
           null,
           1943
          ],
          [
           "Battle of Monte Cassino",
           1944
          ],
          [
           "Korean War",
           1951
          ],
          [
           "World War II",
           1944
          ],
          [
           "Italian campaign",
           1943
          ],
          [
           "World War II",
           1943
          ],
          [
           "Battle of the Somme",
           1916
          ],
          [
           "Battle of Passchendaele",
           1917
          ],
          [
           "War in Afghanistan",
           2010
          ],
          [
           "War in Afghanistan",
           2006
          ],
          [
           "Western Front of World War I",
           1918
          ],
          [
           "World War II",
           1944
          ],
          [
           "North-West Rebellion",
           1885
          ],
          [
           "North-West Rebellion",
           1885
          ],
          [
           "North-West Rebellion",
           1885
          ],
          [
           "North-West Rebellion",
           1885
          ],
          [
           "North-West Rebellion",
           1885
          ],
          [
           "Northern Mali conflict",
           2013
          ],
          [
           null,
           1945
          ],
          [
           "World War II",
           1942
          ],
          [
           "World War II",
           1945
          ],
          [
           null,
           1944
          ],
          [
           "World War II",
           1944
          ],
          [
           null,
           1945
          ]
         ],
         "geo": "geo",
         "hovertemplate": "<b>%{hovertext}</b><br><br>lat=%{lat}<br>lng=%{lon}<br>war=%{customdata[0]}<br>year=%{customdata[1]}<extra></extra>",
         "hovertext": [
          "Second Battle of the Somme",
          "Battle of the Lys",
          "Battle of Messines",
          "Battle of Kitcheners' Wood",
          "Battle of the Somme",
          "Operation Anaconda",
          "Battle of Flers–Courcelette",
          "Battle of the Bulge",
          "Operation Michael",
          "Operation Teardrop",
          "Operation Achilles",
          "Battle of Ortona",
          "Normandy landings",
          "Invasion of Normandy",
          "Battle of Trout River",
          "Operation Tonga",
          "Battle of Baiji",
          "Operation Medusa",
          "Battle of Hill 60",
          "Battle of Ramadi",
          "Second Battle of the Hook",
          "Battle of Okinawa",
          "Battle of Festubert",
          "Battle of Moreuil Wood",
          "Battle of the St. Lawrence",
          "Battle of Thiepval Ridge",
          "Operation Dragon Strike",
          "Battle of Givenchy",
          "Battle of Dunkirk",
          "Battle of Ramadi",
          "Battle of the Bell Islands",
          "Second Battle of Artois",
          "Battle of Groningen",
          "Battle for the Kapelsche Veer",
          "Battle of Paardeberg",
          "Battle of Misrata",
          "Battle of Neuve Chapelle",
          "Second Battle of Ypres",
          "Battle of Hill 70",
          "Battle of Arras",
          "Battle of Rimini",
          "Battle of Cambrai",
          "Dieppe Raid",
          "Battle of Mosul (2016–17)",
          "Black Friday",
          "First Battle of Gaza",
          "Battle of Batoche",
          "Battle of Diamond Hill",
          "Friendly fire incident at Sangin",
          "Battle of Leliefontein",
          "First Battle of Maryang-san",
          "Battle of Walcheren Causeway",
          "Battle of Mouquet Farm",
          "Battle of Verrières Ridge",
          "Battle of Arghandab",
          "Battle of the Ruhr",
          "Battle of Monte Cassino",
          "Battle of Panjwaii",
          "Battle of the Ancre Heights",
          "Monte la Difensa",
          "Battle of Morval",
          "Second Battle of Gaza",
          "Battle of Vimy Ridge",
          "Battle of Passchendaele",
          "Battle of the Caribbean",
          "Battle of Shenkursk",
          "Battle of Inchon",
          "Battle of Bubiyan",
          "Battle of Chambois",
          "Battle of Chuam-ni",
          "Battle of Elands River",
          "Battle of Fort Pitt",
          "Battle of Le Transloy",
          "Battle of Maehwa-san",
          "battle of Moerbrugge",
          "Battle of Mont Sorrel",
          "Battle of Pierres Noires",
          "Battle of Tulgas",
          "Battle of Witpoort",
          "Battle of the Scarpe",
          "Bloody Sunday",
          "Battle of Drocourt-Quéant Line",
          "Fifth Battle of Ypres",
          "Falaise Pocket",
          "Battle of Port Cros",
          "Battle of the Canal du Nord",
          "Second Battle of Seoul",
          "Liberation of Arnhem",
          "Battle for Caen",
          "Battle of Anzio",
          "Battle of Hong Kong",
          "Battle of Attu",
          "Operation Diadem",
          "Battle of Kapyong",
          "Battle of Le Mesnil-Patry",
          "Bernhardt Line",
          "Allied invasion of Italy",
          "Regina Trench",
          "Second Battle of Passchendaele",
          "Operation Moshtarak",
          "Operation Mountain Fury",
          "Battle of Amiens",
          "Action of 26 April 1944",
          "Battle of Frenchman's Butte",
          "Battle of Loon Lake",
          "Battle of Fish Creek",
          "Battle of Duck Lake",
          "Battle of Cut Knife",
          null,
          null,
          null,
          null,
          null,
          null,
          null
         ],
         "lat": [
          49.968971252441406,
          50.70555556,
          50.7625,
          50.89,
          50.0155,
          33.366666666667,
          50.05888889,
          50.6243,
          49.85,
          40,
          32.07333333,
          42.35,
          49.333333333333,
          49.333333333333,
          45.087337493896484,
          49.18100357055664,
          34.933333333333,
          31.547777777778,
          50.821388888889,
          33.416666666667,
          38.029111,
          26.5,
          50.54388889,
          49.7831,
          48.90331268310547,
          50.054527777778,
          31.620643615722656,
          50.5294,
          51.0343,
          33.416666666667,
          47.625511169433594,
          50.5,
          53.2186,
          51.708,
          -28.9825,
          32.37753333,
          50.585,
          50.899444444444,
          50.45555556,
          50.289722222222,
          43.94709777832031,
          50.1767,
          49.933333333333,
          36.337222222222,
          61.46666667,
          31.4893,
          52.75600814819336,
          -25.783333333333,
          31.589166666667,
          -25.96666667,
          38.135,
          51.5031,
          50.051111,
          49.11038,
          31.654722222222,
          51.5,
          41.49,
          31.546222686767578,
          49.9067,
          41.3833,
          50.0316,
          31.4893,
          50.379,
          50.900277777778,
          15,
          62.1,
          37.48333333,
          27.238235473632812,
          48.8058,
          36.293739318847656,
          -25.649444,
          53.65018,
          50.057388888889,
          37.016667,
          51.162322998046875,
          50.8464,
          48.21166667,
          62.594388,
          -29.913196563720703,
          50.270556,
          -28.9825,
          50.391944444444,
          50.9003,
          48.892777777778,
          43.005,
          50.283333,
          37.566680908203125,
          51.9833,
          49.186111111111,
          41.443022,
          22.2819,
          52.879075,
          41.96673583984375,
          37.883333333333,
          49.19583333,
          41.40591812133789,
          40.679,
          50.0717,
          50.90027778,
          31.516667,
          32.39362335205078,
          49.893913888889,
          48.89720916748047,
          53.62722396850586,
          54.04055404663086,
          52.60194396972656,
          52.81650924682617,
          52.74530792236328,
          null,
          null,
          null,
          null,
          null,
          null,
          null
         ],
         "legendgroup": "",
         "lon": [
          2.37385892868042,
          2.9,
          2.8952777777778,
          2.922,
          2.69742,
          69.183333333333,
          2.74777778,
          6.13724,
          3.28333,
          -40,
          64.83388889,
          14.4,
          -0.56694444444444,
          -0.56666666666667,
          -74.1738510131836,
          -0.369891494512558,
          43.483333333333,
          65.454166666667,
          2.9316666666667,
          43.3,
          126.8425,
          128,
          2.73611111,
          2.5,
          -61.373878479003906,
          2.6883888888889,
          65.7157211303711,
          2.75861,
          2.3768194444444,
          43.3,
          -52.96726608276367,
          2.75,
          6.56722,
          4.929,
          25.09305556,
          15.09201667,
          2.7775,
          2.9405555555556,
          2.81902778,
          2.7808333333333,
          12.630768775939941,
          3.23556,
          1.0833333333333,
          43.135833333333,
          5.65,
          34.4737,
          -106.11793518066406,
          28.466666666667,
          64.363333333333,
          30.05,
          126.92083333333,
          3.705,
          2.712778,
          -0.33236,
          65.649444444444,
          7.5,
          13.813888888889,
          65.45999145507812,
          2.47583,
          13.93326944,
          2.8424,
          34.4737,
          2.774,
          3.0211111111111,
          -75,
          42.91666667,
          126.63333333,
          51.197181701660156,
          0.106111,
          126.77681732177734,
          26.706667,
          -109.75154,
          2.8877222222222,
          127.45,
          3.2631185054779053,
          2.94361,
          -4.91472222,
          43.507833,
          23.604339599609375,
          2.894167,
          25.093055555556,
          2.9275,
          3.02111,
          -0.19194444444444,
          6.398611,
          3.116667,
          126.9782943725586,
          5.91667,
          -0.3625,
          12.624979,
          114.162,
          173.15688889,
          13.370064735412598,
          127.53333333333,
          -0.54361111,
          13.985516548156738,
          14.7566,
          2.78139,
          3.02111111,
          64.116667,
          68.70365142822266,
          2.29425,
          -3.4731099605560303,
          -109.5758361816406,
          -109.0008316040039,
          -105.9472198486328,
          -106.2327270507812,
          -109.0277633666992,
          null,
          null,
          null,
          null,
          null,
          null,
          null
         ],
         "marker": {
          "color": "#636efa",
          "symbol": "circle"
         },
         "mode": "markers",
         "name": "",
         "showlegend": false,
         "type": "scattergeo"
        }
       ],
       "layout": {
        "geo": {
         "center": {},
         "domain": {
          "x": [
           0,
           1
          ],
          "y": [
           0,
           1
          ]
         }
        },
        "height": 800,
        "legend": {
         "tracegroupgap": 0
        },
        "template": {
         "data": {
          "bar": [
           {
            "error_x": {
             "color": "#2a3f5f"
            },
            "error_y": {
             "color": "#2a3f5f"
            },
            "marker": {
             "line": {
              "color": "#E5ECF6",
              "width": 0.5
             },
             "pattern": {
              "fillmode": "overlay",
              "size": 10,
              "solidity": 0.2
             }
            },
            "type": "bar"
           }
          ],
          "barpolar": [
           {
            "marker": {
             "line": {
              "color": "#E5ECF6",
              "width": 0.5
             },
             "pattern": {
              "fillmode": "overlay",
              "size": 10,
              "solidity": 0.2
             }
            },
            "type": "barpolar"
           }
          ],
          "carpet": [
           {
            "aaxis": {
             "endlinecolor": "#2a3f5f",
             "gridcolor": "white",
             "linecolor": "white",
             "minorgridcolor": "white",
             "startlinecolor": "#2a3f5f"
            },
            "baxis": {
             "endlinecolor": "#2a3f5f",
             "gridcolor": "white",
             "linecolor": "white",
             "minorgridcolor": "white",
             "startlinecolor": "#2a3f5f"
            },
            "type": "carpet"
           }
          ],
          "choropleth": [
           {
            "colorbar": {
             "outlinewidth": 0,
             "ticks": ""
            },
            "type": "choropleth"
           }
          ],
          "contour": [
           {
            "colorbar": {
             "outlinewidth": 0,
             "ticks": ""
            },
            "colorscale": [
             [
              0,
              "#0d0887"
             ],
             [
              0.1111111111111111,
              "#46039f"
             ],
             [
              0.2222222222222222,
              "#7201a8"
             ],
             [
              0.3333333333333333,
              "#9c179e"
             ],
             [
              0.4444444444444444,
              "#bd3786"
             ],
             [
              0.5555555555555556,
              "#d8576b"
             ],
             [
              0.6666666666666666,
              "#ed7953"
             ],
             [
              0.7777777777777778,
              "#fb9f3a"
             ],
             [
              0.8888888888888888,
              "#fdca26"
             ],
             [
              1,
              "#f0f921"
             ]
            ],
            "type": "contour"
           }
          ],
          "contourcarpet": [
           {
            "colorbar": {
             "outlinewidth": 0,
             "ticks": ""
            },
            "type": "contourcarpet"
           }
          ],
          "heatmap": [
           {
            "colorbar": {
             "outlinewidth": 0,
             "ticks": ""
            },
            "colorscale": [
             [
              0,
              "#0d0887"
             ],
             [
              0.1111111111111111,
              "#46039f"
             ],
             [
              0.2222222222222222,
              "#7201a8"
             ],
             [
              0.3333333333333333,
              "#9c179e"
             ],
             [
              0.4444444444444444,
              "#bd3786"
             ],
             [
              0.5555555555555556,
              "#d8576b"
             ],
             [
              0.6666666666666666,
              "#ed7953"
             ],
             [
              0.7777777777777778,
              "#fb9f3a"
             ],
             [
              0.8888888888888888,
              "#fdca26"
             ],
             [
              1,
              "#f0f921"
             ]
            ],
            "type": "heatmap"
           }
          ],
          "heatmapgl": [
           {
            "colorbar": {
             "outlinewidth": 0,
             "ticks": ""
            },
            "colorscale": [
             [
              0,
              "#0d0887"
             ],
             [
              0.1111111111111111,
              "#46039f"
             ],
             [
              0.2222222222222222,
              "#7201a8"
             ],
             [
              0.3333333333333333,
              "#9c179e"
             ],
             [
              0.4444444444444444,
              "#bd3786"
             ],
             [
              0.5555555555555556,
              "#d8576b"
             ],
             [
              0.6666666666666666,
              "#ed7953"
             ],
             [
              0.7777777777777778,
              "#fb9f3a"
             ],
             [
              0.8888888888888888,
              "#fdca26"
             ],
             [
              1,
              "#f0f921"
             ]
            ],
            "type": "heatmapgl"
           }
          ],
          "histogram": [
           {
            "marker": {
             "pattern": {
              "fillmode": "overlay",
              "size": 10,
              "solidity": 0.2
             }
            },
            "type": "histogram"
           }
          ],
          "histogram2d": [
           {
            "colorbar": {
             "outlinewidth": 0,
             "ticks": ""
            },
            "colorscale": [
             [
              0,
              "#0d0887"
             ],
             [
              0.1111111111111111,
              "#46039f"
             ],
             [
              0.2222222222222222,
              "#7201a8"
             ],
             [
              0.3333333333333333,
              "#9c179e"
             ],
             [
              0.4444444444444444,
              "#bd3786"
             ],
             [
              0.5555555555555556,
              "#d8576b"
             ],
             [
              0.6666666666666666,
              "#ed7953"
             ],
             [
              0.7777777777777778,
              "#fb9f3a"
             ],
             [
              0.8888888888888888,
              "#fdca26"
             ],
             [
              1,
              "#f0f921"
             ]
            ],
            "type": "histogram2d"
           }
          ],
          "histogram2dcontour": [
           {
            "colorbar": {
             "outlinewidth": 0,
             "ticks": ""
            },
            "colorscale": [
             [
              0,
              "#0d0887"
             ],
             [
              0.1111111111111111,
              "#46039f"
             ],
             [
              0.2222222222222222,
              "#7201a8"
             ],
             [
              0.3333333333333333,
              "#9c179e"
             ],
             [
              0.4444444444444444,
              "#bd3786"
             ],
             [
              0.5555555555555556,
              "#d8576b"
             ],
             [
              0.6666666666666666,
              "#ed7953"
             ],
             [
              0.7777777777777778,
              "#fb9f3a"
             ],
             [
              0.8888888888888888,
              "#fdca26"
             ],
             [
              1,
              "#f0f921"
             ]
            ],
            "type": "histogram2dcontour"
           }
          ],
          "mesh3d": [
           {
            "colorbar": {
             "outlinewidth": 0,
             "ticks": ""
            },
            "type": "mesh3d"
           }
          ],
          "parcoords": [
           {
            "line": {
             "colorbar": {
              "outlinewidth": 0,
              "ticks": ""
             }
            },
            "type": "parcoords"
           }
          ],
          "pie": [
           {
            "automargin": true,
            "type": "pie"
           }
          ],
          "scatter": [
           {
            "fillpattern": {
             "fillmode": "overlay",
             "size": 10,
             "solidity": 0.2
            },
            "type": "scatter"
           }
          ],
          "scatter3d": [
           {
            "line": {
             "colorbar": {
              "outlinewidth": 0,
              "ticks": ""
             }
            },
            "marker": {
             "colorbar": {
              "outlinewidth": 0,
              "ticks": ""
             }
            },
            "type": "scatter3d"
           }
          ],
          "scattercarpet": [
           {
            "marker": {
             "colorbar": {
              "outlinewidth": 0,
              "ticks": ""
             }
            },
            "type": "scattercarpet"
           }
          ],
          "scattergeo": [
           {
            "marker": {
             "colorbar": {
              "outlinewidth": 0,
              "ticks": ""
             }
            },
            "type": "scattergeo"
           }
          ],
          "scattergl": [
           {
            "marker": {
             "colorbar": {
              "outlinewidth": 0,
              "ticks": ""
             }
            },
            "type": "scattergl"
           }
          ],
          "scattermapbox": [
           {
            "marker": {
             "colorbar": {
              "outlinewidth": 0,
              "ticks": ""
             }
            },
            "type": "scattermapbox"
           }
          ],
          "scatterpolar": [
           {
            "marker": {
             "colorbar": {
              "outlinewidth": 0,
              "ticks": ""
             }
            },
            "type": "scatterpolar"
           }
          ],
          "scatterpolargl": [
           {
            "marker": {
             "colorbar": {
              "outlinewidth": 0,
              "ticks": ""
             }
            },
            "type": "scatterpolargl"
           }
          ],
          "scatterternary": [
           {
            "marker": {
             "colorbar": {
              "outlinewidth": 0,
              "ticks": ""
             }
            },
            "type": "scatterternary"
           }
          ],
          "surface": [
           {
            "colorbar": {
             "outlinewidth": 0,
             "ticks": ""
            },
            "colorscale": [
             [
              0,
              "#0d0887"
             ],
             [
              0.1111111111111111,
              "#46039f"
             ],
             [
              0.2222222222222222,
              "#7201a8"
             ],
             [
              0.3333333333333333,
              "#9c179e"
             ],
             [
              0.4444444444444444,
              "#bd3786"
             ],
             [
              0.5555555555555556,
              "#d8576b"
             ],
             [
              0.6666666666666666,
              "#ed7953"
             ],
             [
              0.7777777777777778,
              "#fb9f3a"
             ],
             [
              0.8888888888888888,
              "#fdca26"
             ],
             [
              1,
              "#f0f921"
             ]
            ],
            "type": "surface"
           }
          ],
          "table": [
           {
            "cells": {
             "fill": {
              "color": "#EBF0F8"
             },
             "line": {
              "color": "white"
             }
            },
            "header": {
             "fill": {
              "color": "#C8D4E3"
             },
             "line": {
              "color": "white"
             }
            },
            "type": "table"
           }
          ]
         },
         "layout": {
          "annotationdefaults": {
           "arrowcolor": "#2a3f5f",
           "arrowhead": 0,
           "arrowwidth": 1
          },
          "autotypenumbers": "strict",
          "coloraxis": {
           "colorbar": {
            "outlinewidth": 0,
            "ticks": ""
           }
          },
          "colorscale": {
           "diverging": [
            [
             0,
             "#8e0152"
            ],
            [
             0.1,
             "#c51b7d"
            ],
            [
             0.2,
             "#de77ae"
            ],
            [
             0.3,
             "#f1b6da"
            ],
            [
             0.4,
             "#fde0ef"
            ],
            [
             0.5,
             "#f7f7f7"
            ],
            [
             0.6,
             "#e6f5d0"
            ],
            [
             0.7,
             "#b8e186"
            ],
            [
             0.8,
             "#7fbc41"
            ],
            [
             0.9,
             "#4d9221"
            ],
            [
             1,
             "#276419"
            ]
           ],
           "sequential": [
            [
             0,
             "#0d0887"
            ],
            [
             0.1111111111111111,
             "#46039f"
            ],
            [
             0.2222222222222222,
             "#7201a8"
            ],
            [
             0.3333333333333333,
             "#9c179e"
            ],
            [
             0.4444444444444444,
             "#bd3786"
            ],
            [
             0.5555555555555556,
             "#d8576b"
            ],
            [
             0.6666666666666666,
             "#ed7953"
            ],
            [
             0.7777777777777778,
             "#fb9f3a"
            ],
            [
             0.8888888888888888,
             "#fdca26"
            ],
            [
             1,
             "#f0f921"
            ]
           ],
           "sequentialminus": [
            [
             0,
             "#0d0887"
            ],
            [
             0.1111111111111111,
             "#46039f"
            ],
            [
             0.2222222222222222,
             "#7201a8"
            ],
            [
             0.3333333333333333,
             "#9c179e"
            ],
            [
             0.4444444444444444,
             "#bd3786"
            ],
            [
             0.5555555555555556,
             "#d8576b"
            ],
            [
             0.6666666666666666,
             "#ed7953"
            ],
            [
             0.7777777777777778,
             "#fb9f3a"
            ],
            [
             0.8888888888888888,
             "#fdca26"
            ],
            [
             1,
             "#f0f921"
            ]
           ]
          },
          "colorway": [
           "#636efa",
           "#EF553B",
           "#00cc96",
           "#ab63fa",
           "#FFA15A",
           "#19d3f3",
           "#FF6692",
           "#B6E880",
           "#FF97FF",
           "#FECB52"
          ],
          "font": {
           "color": "#2a3f5f"
          },
          "geo": {
           "bgcolor": "white",
           "lakecolor": "white",
           "landcolor": "#E5ECF6",
           "showlakes": true,
           "showland": true,
           "subunitcolor": "white"
          },
          "hoverlabel": {
           "align": "left"
          },
          "hovermode": "closest",
          "mapbox": {
           "style": "light"
          },
          "paper_bgcolor": "white",
          "plot_bgcolor": "#E5ECF6",
          "polar": {
           "angularaxis": {
            "gridcolor": "white",
            "linecolor": "white",
            "ticks": ""
           },
           "bgcolor": "#E5ECF6",
           "radialaxis": {
            "gridcolor": "white",
            "linecolor": "white",
            "ticks": ""
           }
          },
          "scene": {
           "xaxis": {
            "backgroundcolor": "#E5ECF6",
            "gridcolor": "white",
            "gridwidth": 2,
            "linecolor": "white",
            "showbackground": true,
            "ticks": "",
            "zerolinecolor": "white"
           },
           "yaxis": {
            "backgroundcolor": "#E5ECF6",
            "gridcolor": "white",
            "gridwidth": 2,
            "linecolor": "white",
            "showbackground": true,
            "ticks": "",
            "zerolinecolor": "white"
           },
           "zaxis": {
            "backgroundcolor": "#E5ECF6",
            "gridcolor": "white",
            "gridwidth": 2,
            "linecolor": "white",
            "showbackground": true,
            "ticks": "",
            "zerolinecolor": "white"
           }
          },
          "shapedefaults": {
           "line": {
            "color": "#2a3f5f"
           }
          },
          "ternary": {
           "aaxis": {
            "gridcolor": "white",
            "linecolor": "white",
            "ticks": ""
           },
           "baxis": {
            "gridcolor": "white",
            "linecolor": "white",
            "ticks": ""
           },
           "bgcolor": "#E5ECF6",
           "caxis": {
            "gridcolor": "white",
            "linecolor": "white",
            "ticks": ""
           }
          },
          "title": {
           "x": 0.05
          },
          "xaxis": {
           "automargin": true,
           "gridcolor": "white",
           "linecolor": "white",
           "ticks": "",
           "title": {
            "standoff": 15
           },
           "zerolinecolor": "white",
           "zerolinewidth": 2
          },
          "yaxis": {
           "automargin": true,
           "gridcolor": "white",
           "linecolor": "white",
           "ticks": "",
           "title": {
            "standoff": 15
           },
           "zerolinecolor": "white",
           "zerolinewidth": 2
          }
         }
        },
        "title": {
         "text": "Battles participated in by post-Confederation Canada"
        }
       }
      }
     },
     "metadata": {},
     "output_type": "display_data"
    }
   ],
   "source": [
    "px.scatter_geo(candata, lat='lat', lon='lng', \n",
    "               height=800, hover_name='bname', \n",
    "               hover_data=['war','year'],\n",
    "               title='Battles participated in by post-Confederation Canada')"
   ]
  },
  {
   "cell_type": "code",
   "execution_count": 13,
   "id": "6f45cdf1",
   "metadata": {},
   "outputs": [
    {
     "data": {
      "application/vnd.plotly.v1+json": {
       "config": {
        "plotlyServerURL": "https://plot.ly"
       },
       "data": [
        {
         "customdata": [
          [
           "Spring Offensive",
           1918
          ],
          [
           "Western Front of World War I",
           1917
          ],
          [
           "Western Front of World War I",
           1916
          ],
          [
           "War in Afghanistan",
           2002
          ],
          [
           "Battle of the Somme",
           1916
          ],
          [
           null,
           1944
          ],
          [
           "Spring Offensive",
           1918
          ],
          [
           "World War II",
           1945
          ],
          [
           "War in Afghanistan",
           2007
          ],
          [
           "Moro River Campaign",
           1943
          ],
          [
           "Invasion of Normandy",
           1944
          ],
          [
           "Operation Overlord",
           1944
          ],
          [
           "Fenian raids",
           1870
          ],
          [
           "Normandy landings",
           1944
          ],
          [
           "Iraqi Civil War (2014–2017)",
           2014
          ],
          [
           "War in Afghanistan",
           2006
          ],
          [
           "Korean War",
           1952
          ],
          [
           "Pacific War",
           1945
          ],
          [
           "World War I",
           1915
          ],
          [
           "Western Front of World War I",
           1916
          ],
          [
           "World War I",
           1914
          ],
          [
           "World War II",
           1940
          ],
          [
           "Iraqi Civil War (2014–2017)",
           2015
          ],
          [
           "Western Front of World War I",
           1915
          ],
          [
           "World War II",
           1945
          ],
          [
           null,
           1945
          ],
          [
           "Second Boer War",
           1900
          ],
          [
           "2011 Libyan Civil War",
           2011
          ],
          [
           "Western Front of World War I",
           1915
          ],
          [
           "Western Front of World War I",
           1915
          ],
          [
           "World War I",
           1917
          ],
          [
           "Western Front of World War I",
           1917
          ],
          [
           "World War I",
           1918
          ],
          [
           "North West Europe Campaign",
           1942
          ],
          [
           "American-led intervention in Iraq (2014–present)",
           2016
          ],
          [
           "Middle Eastern theatre of World War I",
           1917
          ],
          [
           "North-West Rebellion",
           1885
          ],
          [
           "Second Boer War",
           1900
          ],
          [
           "War in Afghanistan",
           2006
          ],
          [
           "Second Boer War",
           1900
          ],
          [
           "Korean War",
           1951
          ],
          [
           "Battle of the Scheldt",
           1944
          ],
          [
           "Battle of the Somme",
           1916
          ],
          [
           "War in Afghanistan",
           2008
          ],
          [
           "War in Afghanistan",
           2006
          ],
          [
           "Battle of the Somme",
           1916
          ],
          [
           "Middle Eastern theatre of World War I",
           1917
          ],
          [
           "World War I",
           1917
          ],
          [
           "Western Front of World War I",
           1917
          ],
          [
           "North Russia Intervention",
           1919
          ],
          [
           "Korean War",
           1950
          ],
          [
           "Korean War",
           1951
          ],
          [
           "Second Boer War",
           1900
          ],
          [
           "North-West Rebellion",
           1885
          ],
          [
           "Battle of the Somme",
           1916
          ],
          [
           null,
           1944
          ],
          [
           "Western Front of World War I",
           1916
          ],
          [
           "Russian Civil War",
           1918
          ],
          [
           "Western Front of World War I",
           1918
          ],
          [
           "Western Front of World War I",
           1918
          ],
          [
           "Operation Overlord",
           1944
          ],
          [
           "Hundred Days Offensive",
           1918
          ],
          [
           null,
           1945
          ],
          [
           "Pacific War",
           1941
          ],
          [
           null,
           1943
          ],
          [
           "Battle of Monte Cassino",
           1944
          ],
          [
           "World War II",
           1944
          ],
          [
           "World War II",
           1943
          ],
          [
           "Battle of the Somme",
           1916
          ],
          [
           "Battle of Passchendaele",
           1917
          ],
          [
           "War in Afghanistan",
           2010
          ],
          [
           "War in Afghanistan",
           2006
          ],
          [
           "Western Front of World War I",
           1918
          ],
          [
           "North-West Rebellion",
           1885
          ],
          [
           "North-West Rebellion",
           1885
          ],
          [
           "North-West Rebellion",
           1885
          ],
          [
           "North-West Rebellion",
           1885
          ],
          [
           "North-West Rebellion",
           1885
          ]
         ],
         "geo": "geo",
         "hovertemplate": "<b>%{hovertext}</b><br><br>casualties=%{marker.color}<br>lat=%{lat}<br>lng=%{lon}<br>war=%{customdata[0]}<br>year=%{customdata[1]}<extra></extra>",
         "hovertext": [
          "Battle of the Lys",
          "Battle of Messines",
          "Battle of the Somme",
          "Operation Anaconda",
          "Battle of Flers–Courcelette",
          "Battle of the Bulge",
          "Operation Michael",
          "Operation Teardrop",
          "Operation Achilles",
          "Battle of Ortona",
          "Normandy landings",
          "Invasion of Normandy",
          "Battle of Trout River",
          "Operation Tonga",
          "Battle of Baiji",
          "Operation Medusa",
          "Second Battle of the Hook",
          "Battle of Okinawa",
          "Battle of Festubert",
          "Battle of Thiepval Ridge",
          "Battle of Givenchy",
          "Battle of Dunkirk",
          "Battle of Ramadi",
          "Second Battle of Artois",
          "Battle of Groningen",
          "Battle for the Kapelsche Veer",
          "Battle of Paardeberg",
          "Battle of Misrata",
          "Battle of Neuve Chapelle",
          "Second Battle of Ypres",
          "Battle of Hill 70",
          "Battle of Arras",
          "Battle of Cambrai",
          "Dieppe Raid",
          "Battle of Mosul (2016–17)",
          "First Battle of Gaza",
          "Battle of Batoche",
          "Battle of Diamond Hill",
          "Friendly fire incident at Sangin",
          "Battle of Leliefontein",
          "First Battle of Maryang-san",
          "Battle of Walcheren Causeway",
          "Battle of Mouquet Farm",
          "Battle of Arghandab",
          "Battle of Panjwaii",
          "Battle of Morval",
          "Second Battle of Gaza",
          "Battle of Vimy Ridge",
          "Battle of Passchendaele",
          "Battle of Shenkursk",
          "Battle of Inchon",
          "Battle of Chuam-ni",
          "Battle of Elands River",
          "Battle of Fort Pitt",
          "Battle of Le Transloy",
          "battle of Moerbrugge",
          "Battle of Mont Sorrel",
          "Battle of Tulgas",
          "Battle of the Scarpe",
          "Fifth Battle of Ypres",
          "Falaise Pocket",
          "Battle of the Canal du Nord",
          "Liberation of Arnhem",
          "Battle of Hong Kong",
          "Battle of Attu",
          "Operation Diadem",
          "Battle of Le Mesnil-Patry",
          "Allied invasion of Italy",
          "Regina Trench",
          "Second Battle of Passchendaele",
          "Operation Moshtarak",
          "Operation Mountain Fury",
          "Battle of Amiens",
          "Battle of Frenchman's Butte",
          "Battle of Loon Lake",
          "Battle of Fish Creek",
          "Battle of Duck Lake",
          "Battle of Cut Knife"
         ],
         "lat": [
          50.70555556,
          50.7625,
          50.0155,
          33.366666666667,
          50.05888889,
          50.6243,
          49.85,
          40,
          32.07333333,
          42.35,
          49.333333333333,
          49.333333333333,
          45.087337493896484,
          49.18100357055664,
          34.933333333333,
          31.547777777778,
          38.029111,
          26.5,
          50.54388889,
          50.054527777778,
          50.5294,
          51.0343,
          33.416666666667,
          50.5,
          53.2186,
          51.708,
          -28.9825,
          32.37753333,
          50.585,
          50.899444444444,
          50.45555556,
          50.289722222222,
          50.1767,
          49.933333333333,
          36.337222222222,
          31.4893,
          52.75600814819336,
          -25.783333333333,
          31.589166666667,
          -25.96666667,
          38.135,
          51.5031,
          50.051111,
          31.654722222222,
          31.546222686767578,
          50.0316,
          31.4893,
          50.379,
          50.900277777778,
          62.1,
          37.48333333,
          36.293739318847656,
          -25.649444,
          53.65018,
          50.057388888889,
          51.162322998046875,
          50.8464,
          62.594388,
          50.270556,
          50.9003,
          48.892777777778,
          50.283333,
          51.9833,
          22.2819,
          52.879075,
          41.96673583984375,
          49.19583333,
          40.679,
          50.0717,
          50.90027778,
          31.516667,
          32.39362335205078,
          49.893913888889,
          53.62722396850586,
          54.04055404663086,
          52.60194396972656,
          52.81650924682617,
          52.74530792236328
         ],
         "legendgroup": "",
         "lon": [
          2.9,
          2.8952777777778,
          2.69742,
          69.183333333333,
          2.74777778,
          6.13724,
          3.28333,
          -40,
          64.83388889,
          14.4,
          -0.56694444444444,
          -0.56666666666667,
          -74.1738510131836,
          -0.369891494512558,
          43.483333333333,
          65.454166666667,
          126.8425,
          128,
          2.73611111,
          2.6883888888889,
          2.75861,
          2.3768194444444,
          43.3,
          2.75,
          6.56722,
          4.929,
          25.09305556,
          15.09201667,
          2.7775,
          2.9405555555556,
          2.81902778,
          2.7808333333333,
          3.23556,
          1.0833333333333,
          43.135833333333,
          34.4737,
          -106.11793518066406,
          28.466666666667,
          64.363333333333,
          30.05,
          126.92083333333,
          3.705,
          2.712778,
          65.649444444444,
          65.45999145507812,
          2.8424,
          34.4737,
          2.774,
          3.0211111111111,
          42.91666667,
          126.63333333,
          126.77681732177734,
          26.706667,
          -109.75154,
          2.8877222222222,
          3.2631185054779053,
          2.94361,
          43.507833,
          2.894167,
          3.02111,
          -0.19194444444444,
          3.116667,
          5.91667,
          114.162,
          173.15688889,
          13.370064735412598,
          -0.54361111,
          14.7566,
          2.78139,
          3.02111111,
          64.116667,
          68.70365142822266,
          2.29425,
          -109.5758361816406,
          -109.0008316040039,
          -105.9472198486328,
          -106.2327270507812,
          -109.0277633666992
         ],
         "marker": {
          "color": [
           219000,
           46448,
           1088907,
           897,
           60000,
           167450,
           494616,
           377,
           913,
           4520,
           17500,
           209935,
           4,
           1600,
           4846,
           679,
           807,
           127166,
           21648,
           14815,
           6000,
           81774,
           3250,
           203381,
           5551,
           1000,
           5659,
           6650,
           22000,
           107275,
           18677,
           278000,
           22000,
           6190,
           17592,
           5674,
           100,
           203,
           47,
           14,
           457,
           220,
           6300,
           107,
           1068,
           140000,
           8541,
           14602,
           25000,
           140,
           2383,
           232,
           67,
           6,
           173848,
           950,
           14195,
           660,
           3300,
           19200,
           70829,
           66500,
           796,
           17054,
           6383,
           380000,
           362,
           649000,
           14893,
           60654,
           249,
           1238,
           45000,
           0,
           100,
           79,
           32,
           30
          ],
          "coloraxis": "coloraxis",
          "size": [
           219000,
           46448,
           1088907,
           897,
           60000,
           167450,
           494616,
           377,
           913,
           4520,
           17500,
           209935,
           4,
           1600,
           4846,
           679,
           807,
           127166,
           21648,
           14815,
           6000,
           81774,
           3250,
           203381,
           5551,
           1000,
           5659,
           6650,
           22000,
           107275,
           18677,
           278000,
           22000,
           6190,
           17592,
           5674,
           100,
           203,
           47,
           14,
           457,
           220,
           6300,
           107,
           1068,
           140000,
           8541,
           14602,
           25000,
           140,
           2383,
           232,
           67,
           6,
           173848,
           950,
           14195,
           660,
           3300,
           19200,
           70829,
           66500,
           796,
           17054,
           6383,
           380000,
           362,
           649000,
           14893,
           60654,
           249,
           1238,
           45000,
           0,
           100,
           79,
           32,
           30
          ],
          "sizemode": "area",
          "sizeref": 2722.2675,
          "symbol": "circle"
         },
         "mode": "markers",
         "name": "",
         "showlegend": false,
         "type": "scattergeo"
        }
       ],
       "layout": {
        "coloraxis": {
         "colorbar": {
          "title": {
           "text": "casualties"
          }
         },
         "colorscale": [
          [
           0,
           "#0d0887"
          ],
          [
           0.1111111111111111,
           "#46039f"
          ],
          [
           0.2222222222222222,
           "#7201a8"
          ],
          [
           0.3333333333333333,
           "#9c179e"
          ],
          [
           0.4444444444444444,
           "#bd3786"
          ],
          [
           0.5555555555555556,
           "#d8576b"
          ],
          [
           0.6666666666666666,
           "#ed7953"
          ],
          [
           0.7777777777777778,
           "#fb9f3a"
          ],
          [
           0.8888888888888888,
           "#fdca26"
          ],
          [
           1,
           "#f0f921"
          ]
         ]
        },
        "geo": {
         "center": {},
         "domain": {
          "x": [
           0,
           1
          ],
          "y": [
           0,
           1
          ]
         }
        },
        "height": 800,
        "legend": {
         "itemsizing": "constant",
         "tracegroupgap": 0
        },
        "template": {
         "data": {
          "bar": [
           {
            "error_x": {
             "color": "#2a3f5f"
            },
            "error_y": {
             "color": "#2a3f5f"
            },
            "marker": {
             "line": {
              "color": "#E5ECF6",
              "width": 0.5
             },
             "pattern": {
              "fillmode": "overlay",
              "size": 10,
              "solidity": 0.2
             }
            },
            "type": "bar"
           }
          ],
          "barpolar": [
           {
            "marker": {
             "line": {
              "color": "#E5ECF6",
              "width": 0.5
             },
             "pattern": {
              "fillmode": "overlay",
              "size": 10,
              "solidity": 0.2
             }
            },
            "type": "barpolar"
           }
          ],
          "carpet": [
           {
            "aaxis": {
             "endlinecolor": "#2a3f5f",
             "gridcolor": "white",
             "linecolor": "white",
             "minorgridcolor": "white",
             "startlinecolor": "#2a3f5f"
            },
            "baxis": {
             "endlinecolor": "#2a3f5f",
             "gridcolor": "white",
             "linecolor": "white",
             "minorgridcolor": "white",
             "startlinecolor": "#2a3f5f"
            },
            "type": "carpet"
           }
          ],
          "choropleth": [
           {
            "colorbar": {
             "outlinewidth": 0,
             "ticks": ""
            },
            "type": "choropleth"
           }
          ],
          "contour": [
           {
            "colorbar": {
             "outlinewidth": 0,
             "ticks": ""
            },
            "colorscale": [
             [
              0,
              "#0d0887"
             ],
             [
              0.1111111111111111,
              "#46039f"
             ],
             [
              0.2222222222222222,
              "#7201a8"
             ],
             [
              0.3333333333333333,
              "#9c179e"
             ],
             [
              0.4444444444444444,
              "#bd3786"
             ],
             [
              0.5555555555555556,
              "#d8576b"
             ],
             [
              0.6666666666666666,
              "#ed7953"
             ],
             [
              0.7777777777777778,
              "#fb9f3a"
             ],
             [
              0.8888888888888888,
              "#fdca26"
             ],
             [
              1,
              "#f0f921"
             ]
            ],
            "type": "contour"
           }
          ],
          "contourcarpet": [
           {
            "colorbar": {
             "outlinewidth": 0,
             "ticks": ""
            },
            "type": "contourcarpet"
           }
          ],
          "heatmap": [
           {
            "colorbar": {
             "outlinewidth": 0,
             "ticks": ""
            },
            "colorscale": [
             [
              0,
              "#0d0887"
             ],
             [
              0.1111111111111111,
              "#46039f"
             ],
             [
              0.2222222222222222,
              "#7201a8"
             ],
             [
              0.3333333333333333,
              "#9c179e"
             ],
             [
              0.4444444444444444,
              "#bd3786"
             ],
             [
              0.5555555555555556,
              "#d8576b"
             ],
             [
              0.6666666666666666,
              "#ed7953"
             ],
             [
              0.7777777777777778,
              "#fb9f3a"
             ],
             [
              0.8888888888888888,
              "#fdca26"
             ],
             [
              1,
              "#f0f921"
             ]
            ],
            "type": "heatmap"
           }
          ],
          "heatmapgl": [
           {
            "colorbar": {
             "outlinewidth": 0,
             "ticks": ""
            },
            "colorscale": [
             [
              0,
              "#0d0887"
             ],
             [
              0.1111111111111111,
              "#46039f"
             ],
             [
              0.2222222222222222,
              "#7201a8"
             ],
             [
              0.3333333333333333,
              "#9c179e"
             ],
             [
              0.4444444444444444,
              "#bd3786"
             ],
             [
              0.5555555555555556,
              "#d8576b"
             ],
             [
              0.6666666666666666,
              "#ed7953"
             ],
             [
              0.7777777777777778,
              "#fb9f3a"
             ],
             [
              0.8888888888888888,
              "#fdca26"
             ],
             [
              1,
              "#f0f921"
             ]
            ],
            "type": "heatmapgl"
           }
          ],
          "histogram": [
           {
            "marker": {
             "pattern": {
              "fillmode": "overlay",
              "size": 10,
              "solidity": 0.2
             }
            },
            "type": "histogram"
           }
          ],
          "histogram2d": [
           {
            "colorbar": {
             "outlinewidth": 0,
             "ticks": ""
            },
            "colorscale": [
             [
              0,
              "#0d0887"
             ],
             [
              0.1111111111111111,
              "#46039f"
             ],
             [
              0.2222222222222222,
              "#7201a8"
             ],
             [
              0.3333333333333333,
              "#9c179e"
             ],
             [
              0.4444444444444444,
              "#bd3786"
             ],
             [
              0.5555555555555556,
              "#d8576b"
             ],
             [
              0.6666666666666666,
              "#ed7953"
             ],
             [
              0.7777777777777778,
              "#fb9f3a"
             ],
             [
              0.8888888888888888,
              "#fdca26"
             ],
             [
              1,
              "#f0f921"
             ]
            ],
            "type": "histogram2d"
           }
          ],
          "histogram2dcontour": [
           {
            "colorbar": {
             "outlinewidth": 0,
             "ticks": ""
            },
            "colorscale": [
             [
              0,
              "#0d0887"
             ],
             [
              0.1111111111111111,
              "#46039f"
             ],
             [
              0.2222222222222222,
              "#7201a8"
             ],
             [
              0.3333333333333333,
              "#9c179e"
             ],
             [
              0.4444444444444444,
              "#bd3786"
             ],
             [
              0.5555555555555556,
              "#d8576b"
             ],
             [
              0.6666666666666666,
              "#ed7953"
             ],
             [
              0.7777777777777778,
              "#fb9f3a"
             ],
             [
              0.8888888888888888,
              "#fdca26"
             ],
             [
              1,
              "#f0f921"
             ]
            ],
            "type": "histogram2dcontour"
           }
          ],
          "mesh3d": [
           {
            "colorbar": {
             "outlinewidth": 0,
             "ticks": ""
            },
            "type": "mesh3d"
           }
          ],
          "parcoords": [
           {
            "line": {
             "colorbar": {
              "outlinewidth": 0,
              "ticks": ""
             }
            },
            "type": "parcoords"
           }
          ],
          "pie": [
           {
            "automargin": true,
            "type": "pie"
           }
          ],
          "scatter": [
           {
            "fillpattern": {
             "fillmode": "overlay",
             "size": 10,
             "solidity": 0.2
            },
            "type": "scatter"
           }
          ],
          "scatter3d": [
           {
            "line": {
             "colorbar": {
              "outlinewidth": 0,
              "ticks": ""
             }
            },
            "marker": {
             "colorbar": {
              "outlinewidth": 0,
              "ticks": ""
             }
            },
            "type": "scatter3d"
           }
          ],
          "scattercarpet": [
           {
            "marker": {
             "colorbar": {
              "outlinewidth": 0,
              "ticks": ""
             }
            },
            "type": "scattercarpet"
           }
          ],
          "scattergeo": [
           {
            "marker": {
             "colorbar": {
              "outlinewidth": 0,
              "ticks": ""
             }
            },
            "type": "scattergeo"
           }
          ],
          "scattergl": [
           {
            "marker": {
             "colorbar": {
              "outlinewidth": 0,
              "ticks": ""
             }
            },
            "type": "scattergl"
           }
          ],
          "scattermapbox": [
           {
            "marker": {
             "colorbar": {
              "outlinewidth": 0,
              "ticks": ""
             }
            },
            "type": "scattermapbox"
           }
          ],
          "scatterpolar": [
           {
            "marker": {
             "colorbar": {
              "outlinewidth": 0,
              "ticks": ""
             }
            },
            "type": "scatterpolar"
           }
          ],
          "scatterpolargl": [
           {
            "marker": {
             "colorbar": {
              "outlinewidth": 0,
              "ticks": ""
             }
            },
            "type": "scatterpolargl"
           }
          ],
          "scatterternary": [
           {
            "marker": {
             "colorbar": {
              "outlinewidth": 0,
              "ticks": ""
             }
            },
            "type": "scatterternary"
           }
          ],
          "surface": [
           {
            "colorbar": {
             "outlinewidth": 0,
             "ticks": ""
            },
            "colorscale": [
             [
              0,
              "#0d0887"
             ],
             [
              0.1111111111111111,
              "#46039f"
             ],
             [
              0.2222222222222222,
              "#7201a8"
             ],
             [
              0.3333333333333333,
              "#9c179e"
             ],
             [
              0.4444444444444444,
              "#bd3786"
             ],
             [
              0.5555555555555556,
              "#d8576b"
             ],
             [
              0.6666666666666666,
              "#ed7953"
             ],
             [
              0.7777777777777778,
              "#fb9f3a"
             ],
             [
              0.8888888888888888,
              "#fdca26"
             ],
             [
              1,
              "#f0f921"
             ]
            ],
            "type": "surface"
           }
          ],
          "table": [
           {
            "cells": {
             "fill": {
              "color": "#EBF0F8"
             },
             "line": {
              "color": "white"
             }
            },
            "header": {
             "fill": {
              "color": "#C8D4E3"
             },
             "line": {
              "color": "white"
             }
            },
            "type": "table"
           }
          ]
         },
         "layout": {
          "annotationdefaults": {
           "arrowcolor": "#2a3f5f",
           "arrowhead": 0,
           "arrowwidth": 1
          },
          "autotypenumbers": "strict",
          "coloraxis": {
           "colorbar": {
            "outlinewidth": 0,
            "ticks": ""
           }
          },
          "colorscale": {
           "diverging": [
            [
             0,
             "#8e0152"
            ],
            [
             0.1,
             "#c51b7d"
            ],
            [
             0.2,
             "#de77ae"
            ],
            [
             0.3,
             "#f1b6da"
            ],
            [
             0.4,
             "#fde0ef"
            ],
            [
             0.5,
             "#f7f7f7"
            ],
            [
             0.6,
             "#e6f5d0"
            ],
            [
             0.7,
             "#b8e186"
            ],
            [
             0.8,
             "#7fbc41"
            ],
            [
             0.9,
             "#4d9221"
            ],
            [
             1,
             "#276419"
            ]
           ],
           "sequential": [
            [
             0,
             "#0d0887"
            ],
            [
             0.1111111111111111,
             "#46039f"
            ],
            [
             0.2222222222222222,
             "#7201a8"
            ],
            [
             0.3333333333333333,
             "#9c179e"
            ],
            [
             0.4444444444444444,
             "#bd3786"
            ],
            [
             0.5555555555555556,
             "#d8576b"
            ],
            [
             0.6666666666666666,
             "#ed7953"
            ],
            [
             0.7777777777777778,
             "#fb9f3a"
            ],
            [
             0.8888888888888888,
             "#fdca26"
            ],
            [
             1,
             "#f0f921"
            ]
           ],
           "sequentialminus": [
            [
             0,
             "#0d0887"
            ],
            [
             0.1111111111111111,
             "#46039f"
            ],
            [
             0.2222222222222222,
             "#7201a8"
            ],
            [
             0.3333333333333333,
             "#9c179e"
            ],
            [
             0.4444444444444444,
             "#bd3786"
            ],
            [
             0.5555555555555556,
             "#d8576b"
            ],
            [
             0.6666666666666666,
             "#ed7953"
            ],
            [
             0.7777777777777778,
             "#fb9f3a"
            ],
            [
             0.8888888888888888,
             "#fdca26"
            ],
            [
             1,
             "#f0f921"
            ]
           ]
          },
          "colorway": [
           "#636efa",
           "#EF553B",
           "#00cc96",
           "#ab63fa",
           "#FFA15A",
           "#19d3f3",
           "#FF6692",
           "#B6E880",
           "#FF97FF",
           "#FECB52"
          ],
          "font": {
           "color": "#2a3f5f"
          },
          "geo": {
           "bgcolor": "white",
           "lakecolor": "white",
           "landcolor": "#E5ECF6",
           "showlakes": true,
           "showland": true,
           "subunitcolor": "white"
          },
          "hoverlabel": {
           "align": "left"
          },
          "hovermode": "closest",
          "mapbox": {
           "style": "light"
          },
          "paper_bgcolor": "white",
          "plot_bgcolor": "#E5ECF6",
          "polar": {
           "angularaxis": {
            "gridcolor": "white",
            "linecolor": "white",
            "ticks": ""
           },
           "bgcolor": "#E5ECF6",
           "radialaxis": {
            "gridcolor": "white",
            "linecolor": "white",
            "ticks": ""
           }
          },
          "scene": {
           "xaxis": {
            "backgroundcolor": "#E5ECF6",
            "gridcolor": "white",
            "gridwidth": 2,
            "linecolor": "white",
            "showbackground": true,
            "ticks": "",
            "zerolinecolor": "white"
           },
           "yaxis": {
            "backgroundcolor": "#E5ECF6",
            "gridcolor": "white",
            "gridwidth": 2,
            "linecolor": "white",
            "showbackground": true,
            "ticks": "",
            "zerolinecolor": "white"
           },
           "zaxis": {
            "backgroundcolor": "#E5ECF6",
            "gridcolor": "white",
            "gridwidth": 2,
            "linecolor": "white",
            "showbackground": true,
            "ticks": "",
            "zerolinecolor": "white"
           }
          },
          "shapedefaults": {
           "line": {
            "color": "#2a3f5f"
           }
          },
          "ternary": {
           "aaxis": {
            "gridcolor": "white",
            "linecolor": "white",
            "ticks": ""
           },
           "baxis": {
            "gridcolor": "white",
            "linecolor": "white",
            "ticks": ""
           },
           "bgcolor": "#E5ECF6",
           "caxis": {
            "gridcolor": "white",
            "linecolor": "white",
            "ticks": ""
           }
          },
          "title": {
           "x": 0.05
          },
          "xaxis": {
           "automargin": true,
           "gridcolor": "white",
           "linecolor": "white",
           "ticks": "",
           "title": {
            "standoff": 15
           },
           "zerolinecolor": "white",
           "zerolinewidth": 2
          },
          "yaxis": {
           "automargin": true,
           "gridcolor": "white",
           "linecolor": "white",
           "ticks": "",
           "title": {
            "standoff": 15
           },
           "zerolinecolor": "white",
           "zerolinewidth": 2
          }
         }
        },
        "title": {
         "text": "Casualties of battles participated in by post-Confederation Canada"
        }
       }
      }
     },
     "metadata": {},
     "output_type": "display_data"
    }
   ],
   "source": [
    "casualties_can = candata[candata['casualties'].notna()]\n",
    "\n",
    "px.scatter_geo(casualties_can, lat='lat', lon='lng', \n",
    "               height=800, hover_name='bname', \n",
    "               hover_data=['war', 'year'],\n",
    "               size = 'casualties',\n",
    "               color='casualties',\n",
    "               title='Casualties of battles participated in by post-Confederation Canada')"
   ]
  },
  {
   "cell_type": "markdown",
   "id": "2cbfd8e0-57bf-4f1b-9172-c414470e4326",
   "metadata": {},
   "source": [
    "But these only consider battles that happened after Confederation, as the sovereign state of Canada didn't exist yet. We can also look at battles that happened in geographic Canada by only considering lattitude and longitude values in that region:"
   ]
  },
  {
   "cell_type": "code",
   "execution_count": 32,
   "id": "50474b15-0c5f-44a1-9015-9b08d5e21f28",
   "metadata": {},
   "outputs": [
    {
     "data": {
      "application/vnd.plotly.v1+json": {
       "config": {
        "plotlyServerURL": "https://plot.ly"
       },
       "data": [
        {
         "customdata": [
          [
           1758
          ],
          [
           1758
          ],
          [
           1759
          ],
          [
           1759
          ],
          [
           1759
          ],
          [
           1759
          ],
          [
           1759
          ],
          [
           1758
          ],
          [
           1758
          ],
          [
           1758
          ],
          [
           1758
          ],
          [
           1758
          ],
          [
           1759
          ],
          [
           1759
          ],
          [
           1759
          ],
          [
           1759
          ],
          [
           1759
          ],
          [
           1755
          ],
          [
           1755
          ],
          [
           1757
          ],
          [
           1757
          ],
          [
           1757
          ],
          [
           1757
          ],
          [
           1757
          ],
          [
           1757
          ],
          [
           1757
          ],
          [
           1758
          ],
          [
           1758
          ],
          [
           1757
          ],
          [
           1757
          ],
          [
           1757
          ],
          [
           1759
          ],
          [
           1759
          ],
          [
           1759
          ],
          [
           1609
          ],
          [
           1609
          ],
          [
           1609
          ],
          [
           1609
          ],
          [
           1609
          ]
         ],
         "geo": "geo",
         "hovertemplate": "<b>%{hovertext}</b><br><br>war=French and Indian War<br>lat=%{lat}<br>lng=%{lon}<br>year=%{customdata[0]}<extra></extra>",
         "hovertext": [
          "Gulf of St. Lawrence Campaign",
          "Gulf of St. Lawrence Campaign",
          "Battle of Fort Niagara",
          "Battle of Fort Niagara",
          "Battle of Fort Niagara",
          "Battle of Fort Niagara",
          "Battle of Fort Niagara",
          "Siege of Louisbourg",
          "Siege of Louisbourg",
          "Siege of Louisbourg",
          "Siege of Louisbourg",
          "Siege of Louisbourg",
          "Battle of La Belle-Famille",
          "Battle of La Belle-Famille",
          "Battle of La Belle-Famille",
          "Battle of La Belle-Famille",
          "Battle of La Belle-Famille",
          "Action of 8 June 1755",
          "Action of 8 June 1755",
          "Battle of Bloody Creek",
          "Battle of Bloody Creek",
          "Battle of Bloody Creek",
          "Battle of Bloody Creek",
          "Battle of Sabbath Day Point",
          "Battle of Sabbath Day Point",
          "Battle of Sabbath Day Point",
          "Battle on Snowshoes",
          "Battle on Snowshoes",
          "Battle on Snowshoes",
          "Battle on Snowshoes",
          "Battle on Snowshoes",
          "St. Francis Raid",
          "St. Francis Raid",
          "St. Francis Raid",
          "Beaver Wars",
          "Beaver Wars",
          "Beaver Wars",
          "Beaver Wars",
          "Beaver Wars"
         ],
         "lat": [
          46.500282287597656,
          46.500282287597656,
          43.26269,
          43.26269,
          43.26269,
          43.26269,
          43.26269,
          45.92138889,
          45.92138889,
          45.92138889,
          45.92138889,
          45.92138889,
          43.261329650878906,
          43.261329650878906,
          43.261329650878906,
          43.261329650878906,
          43.261329650878906,
          46.0587,
          46.0587,
          44.8224,
          44.8224,
          44.8224,
          44.8224,
          43.6675,
          43.6675,
          43.6675,
          43.42611111,
          43.42611111,
          43.84138889,
          43.84138889,
          43.84138889,
          46.0661,
          46.0661,
          46.0661,
          43.73695755004883,
          43.73695755004883,
          43.73695755004883,
          43.73695755004883,
          43.73695755004883
         ],
         "legendgroup": "French and Indian War",
         "lon": [
          -66.75018310546875,
          -66.75018310546875,
          -79.06331,
          -79.06331,
          -79.06331,
          -79.06331,
          -79.06331,
          -59.97027778,
          -59.97027778,
          -59.97027778,
          -59.97027778,
          -59.97027778,
          -79.0535659790039,
          -79.0535659790039,
          -79.0535659790039,
          -79.0535659790039,
          -79.0535659790039,
          -53.5029,
          -53.5029,
          -65.3095,
          -65.3095,
          -65.3095,
          -65.3095,
          -73.5139,
          -73.5139,
          -73.5139,
          -73.71222222,
          -73.71222222,
          -73.3875,
          -73.3875,
          -73.3875,
          -72.8261,
          -72.8261,
          -72.8261,
          -79.76631164550781,
          -79.76631164550781,
          -79.76631164550781,
          -79.76631164550781,
          -79.76631164550781
         ],
         "marker": {
          "color": "#636efa",
          "symbol": "circle"
         },
         "mode": "markers",
         "name": "French and Indian War",
         "showlegend": true,
         "type": "scattergeo"
        },
        {
         "customdata": [
          [
           1812
          ],
          [
           1812
          ],
          [
           1812
          ],
          [
           1812
          ],
          [
           1812
          ],
          [
           1812
          ],
          [
           1813
          ],
          [
           1813
          ],
          [
           1813
          ],
          [
           1812
          ],
          [
           1812
          ],
          [
           1813
          ],
          [
           1813
          ],
          [
           1812
          ],
          [
           1812
          ],
          [
           1812
          ],
          [
           1814
          ],
          [
           1814
          ],
          [
           1814
          ],
          [
           1814
          ],
          [
           1814
          ],
          [
           1814
          ],
          [
           1813
          ],
          [
           1813
          ],
          [
           1812
          ],
          [
           1812
          ],
          [
           1814
          ],
          [
           1814
          ],
          [
           1814
          ],
          [
           1813
          ],
          [
           1813
          ],
          [
           1813
          ],
          [
           1813
          ],
          [
           1814
          ],
          [
           1814
          ],
          [
           1812
          ],
          [
           1812
          ],
          [
           1813
          ],
          [
           1813
          ],
          [
           1814
          ],
          [
           1814
          ],
          [
           1814
          ],
          [
           1814
          ],
          [
           1814
          ],
          [
           1814
          ],
          [
           1814
          ],
          [
           1814
          ],
          [
           1812
          ],
          [
           1812
          ],
          [
           1812
          ],
          [
           1812
          ],
          [
           1814
          ],
          [
           1814
          ],
          [
           1814
          ],
          [
           1813
          ],
          [
           1813
          ],
          [
           1813
          ],
          [
           1813
          ],
          [
           1813
          ],
          [
           1813
          ],
          [
           1813
          ],
          [
           1813
          ],
          [
           1813
          ],
          [
           1813
          ],
          [
           1813
          ],
          [
           1813
          ],
          [
           1813
          ],
          [
           1813
          ],
          [
           1814
          ],
          [
           1814
          ],
          [
           1814
          ],
          [
           1814
          ],
          [
           1814
          ],
          [
           1813
          ],
          [
           1813
          ],
          [
           1813
          ],
          [
           1814
          ],
          [
           1814
          ],
          [
           1814
          ],
          [
           1813
          ],
          [
           1813
          ],
          [
           1813
          ]
         ],
         "geo": "geo",
         "hovertemplate": "<b>%{hovertext}</b><br><br>war=War of 1812<br>lat=%{lat}<br>lng=%{lon}<br>year=%{customdata[0]}<extra></extra>",
         "hovertext": [
          "Battle of Lacolle Mills",
          "Battle of Lacolle Mills",
          "Battle of Lacolle Mills",
          "Battle of Frenchman's Creek",
          "Battle of Frenchman's Creek",
          "Battle of Frenchman's Creek",
          "Battle of Crysler's Farm",
          "Battle of Crysler's Farm",
          "Battle of Crysler's Farm",
          "Battle of River Canard",
          "Battle of River Canard",
          "Battle of Stoney Creek",
          "Battle of Stoney Creek",
          "Battle of Queenston Heights",
          "Battle of Queenston Heights",
          "Battle of Queenston Heights",
          "Battle of Plattsburgh",
          "Battle of Plattsburgh",
          "Battle of Plattsburgh",
          "Battle of Lacolle Mills",
          "Battle of Lacolle Mills",
          "Battle of Lacolle Mills",
          "Battle of Ogdensburg",
          "Battle of Ogdensburg",
          "Battle of Fort Dearborn",
          "Battle of Fort Dearborn",
          "Battle of Mackinac Island",
          "Battle of Mackinac Island",
          "Battle of Mackinac Island",
          "Battle of York",
          "Battle of York",
          "Battle of York",
          "Battle of York",
          "Battle of Big Sandy Creek",
          "Battle of Big Sandy Creek",
          "Battle of Brownstown",
          "Battle of Brownstown",
          "Battle of Buffalo",
          "Battle of Buffalo",
          "Battle of Fort Oswego",
          "Battle of Fort Oswego",
          "Battle of Hampden",
          "Battle of Hampden",
          "Battle of Longwoods",
          "Battle of Longwoods",
          "Battle of Longwoods",
          "Battle of Longwoods",
          "Battle of Maguaga",
          "Battle of Maguaga",
          "Battle of Maguaga",
          "Battle of Maguaga",
          "Battle of Malcolm's Mills",
          "Battle of Malcolm's Mills",
          "Battle of Malcolm's Mills",
          "Battle of Frenchtown",
          "Battle of Frenchtown",
          "Battle of Frenchtown",
          "Battle of the Thames",
          "Battle of the Thames",
          "Battle of the Thames",
          "Raid on Black Rock",
          "Raid on Black Rock",
          "Battle of Lake Erie",
          "Battle of Lake Erie",
          "Battle of the Chateauguay",
          "Battle of the Chateauguay",
          "Battle of the Chateauguay",
          "Battle of the Chateauguay",
          "Battle of Chippawa",
          "Battle of Chippawa",
          "Battle of Cook's Mills",
          "Battle of Cook's Mills",
          "Battle of Cook's Mills",
          "Battle of Fort George",
          "Battle of Fort George",
          "Battle of Fort George",
          "Battle of Lundy's Lane",
          "Battle of Lundy's Lane",
          "Battle of Lundy's Lane",
          "Battle of Beaver Dams",
          "Battle of Beaver Dams",
          "Battle of Beaver Dams"
         ],
         "lat": [
          45.081309,
          45.081309,
          45.081309,
          42.94227,
          42.94227,
          42.94227,
          44.941977777778,
          44.941977777778,
          44.941977777778,
          42.1884,
          42.1884,
          43.218333333333,
          43.218333333333,
          43.16192,
          43.16192,
          43.16192,
          44.6804,
          44.6804,
          44.6804,
          45.067564,
          45.067564,
          45.067564,
          44.69428634643555,
          44.69428634643555,
          41.857777777778,
          41.857777777778,
          45.853056,
          45.853056,
          45.853056,
          43.63887,
          43.63887,
          43.63887,
          43.63887,
          43.732845306396484,
          43.732845306396484,
          42.094417,
          42.094417,
          42.9364,
          42.9364,
          43.41129684448242,
          43.41129684448242,
          44.74451446533203,
          44.74451446533203,
          42.69416667,
          42.69416667,
          42.69416667,
          42.69416667,
          42.13609,
          42.13609,
          42.13609,
          42.13609,
          43.028469,
          43.028469,
          43.028469,
          41.913611111111,
          41.913611111111,
          41.913611111111,
          42.5625,
          42.5625,
          42.5625,
          42.928117,
          42.928117,
          41.662222,
          41.662222,
          45.15861129760742,
          45.15861129760742,
          45.15861129760742,
          45.15861129760742,
          43.05212783813477,
          43.05212783813477,
          42.99789047241211,
          42.99789047241211,
          42.99789047241211,
          43.25075149536133,
          43.25075149536133,
          43.25075149536133,
          43.08915328979492,
          43.08915328979492,
          43.08915328979492,
          43.11780166625977,
          43.11780166625977,
          43.11780166625977
         ],
         "legendgroup": "War of 1812",
         "lon": [
          -73.372633,
          -73.372633,
          -73.372633,
          -78.92645,
          -78.92645,
          -78.92645,
          -75.070172222222,
          -75.070172222222,
          -75.070172222222,
          -83.0925,
          -83.0925,
          -79.764166666667,
          -79.764166666667,
          -79.05049,
          -79.05049,
          -79.05049,
          -73.3756,
          -73.3756,
          -73.3756,
          -73.343809,
          -73.343809,
          -73.343809,
          -75.48637390136719,
          -75.48637390136719,
          -87.619166666667,
          -87.619166666667,
          -84.6175,
          -84.6175,
          -84.6175,
          -79.40403,
          -79.40403,
          -79.40403,
          -79.40403,
          -76.13603973388672,
          -76.13603973388672,
          -83.199168,
          -83.199168,
          -78.8978,
          -78.8978,
          -76.12798309326172,
          -76.12798309326172,
          -68.83698272705078,
          -68.83698272705078,
          -81.705,
          -81.705,
          -81.705,
          -81.705,
          -83.18285,
          -83.18285,
          -83.18285,
          -83.18285,
          -80.330089,
          -80.330089,
          -80.330089,
          -83.378333333333,
          -83.378333333333,
          -83.378333333333,
          -81.931388888889,
          -81.931388888889,
          -81.931388888889,
          -78.898058,
          -78.898058,
          -82.825,
          -82.825,
          -73.9286117553711,
          -73.9286117553711,
          -73.9286117553711,
          -73.9286117553711,
          -79.02471923828125,
          -79.02471923828125,
          -79.17491149902344,
          -79.17491149902344,
          -79.17491149902344,
          -79.06111145019531,
          -79.06111145019531,
          -79.06111145019531,
          -79.095458984375,
          -79.095458984375,
          -79.095458984375,
          -79.1854019165039,
          -79.1854019165039,
          -79.1854019165039
         ],
         "marker": {
          "color": "#EF553B",
          "symbol": "circle"
         },
         "mode": "markers",
         "name": "War of 1812",
         "showlegend": true,
         "type": "scattergeo"
        },
        {
         "customdata": [
          [
           1610
          ],
          [
           1610
          ],
          [
           1610
          ],
          [
           1610
          ],
          [
           1610
          ],
          [
           1689
          ],
          [
           1689
          ]
         ],
         "geo": "geo",
         "hovertemplate": "<b>%{hovertext}</b><br><br>war=Beaver Wars<br>lat=%{lat}<br>lng=%{lon}<br>year=%{customdata[0]}<extra></extra>",
         "hovertext": [
          "Battle of Sorel",
          "Battle of Sorel",
          "Battle of Sorel",
          "Battle of Sorel",
          "Battle of Sorel",
          "Battle of the Lake of Two Mountains",
          "Battle of the Lake of Two Mountains"
         ],
         "lat": [
          46.0333,
          46.0333,
          46.0333,
          46.0333,
          46.0333,
          45.45,
          45.45
         ],
         "legendgroup": "Beaver Wars",
         "lon": [
          -73.1167,
          -73.1167,
          -73.1167,
          -73.1167,
          -73.1167,
          -73.94,
          -73.94
         ],
         "marker": {
          "color": "#00cc96",
          "symbol": "circle"
         },
         "mode": "markers",
         "name": "Beaver Wars",
         "showlegend": true,
         "type": "scattergeo"
        },
        {
         "customdata": [
          [
           1870
          ],
          [
           1870
          ],
          [
           1866
          ],
          [
           1866
          ],
          [
           1866
          ],
          [
           1866
          ],
          [
           1870
          ],
          [
           1870
          ]
         ],
         "geo": "geo",
         "hovertemplate": "<b>%{hovertext}</b><br><br>war=Fenian raids<br>lat=%{lat}<br>lng=%{lon}<br>year=%{customdata[0]}<extra></extra>",
         "hovertext": [
          "Battle of Trout River",
          "Battle of Trout River",
          "Battle of Ridgeway",
          "Battle of Ridgeway",
          "Battle of Fort Erie",
          "Battle of Fort Erie",
          "Battle of Eccles Hill",
          "Battle of Eccles Hill"
         ],
         "lat": [
          45.087337493896484,
          45.087337493896484,
          42.90434,
          42.90434,
          42.89667,
          42.89667,
          45.01992797851562,
          45.01992797851562
         ],
         "legendgroup": "Fenian raids",
         "lon": [
          -74.1738510131836,
          -74.1738510131836,
          -79.04164,
          -79.04164,
          -78.92515,
          -78.92515,
          -72.9043960571289,
          -72.9043960571289
         ],
         "marker": {
          "color": "#ab63fa",
          "symbol": "circle"
         },
         "mode": "markers",
         "name": "Fenian raids",
         "showlegend": true,
         "type": "scattergeo"
        },
        {
         "customdata": [
          [
           1690
          ],
          [
           1690
          ],
          [
           1690
          ],
          [
           1690
          ],
          [
           1696
          ],
          [
           1696
          ],
          [
           1690
          ],
          [
           1690
          ],
          [
           1690
          ],
          [
           1690
          ],
          [
           1690
          ],
          [
           1690
          ],
          [
           1690
          ],
          [
           1692
          ],
          [
           1692
          ],
          [
           1692
          ],
          [
           1692
          ],
          [
           1696
          ],
          [
           1696
          ],
          [
           1696
          ],
          [
           1691
          ],
          [
           1691
          ],
          [
           1693
          ],
          [
           1693
          ]
         ],
         "geo": "geo",
         "hovertemplate": "<b>%{hovertext}</b><br><br>war=King William's War<br>lat=%{lat}<br>lng=%{lon}<br>year=%{customdata[0]}<extra></extra>",
         "hovertext": [
          "Battle of Quebec",
          "Battle of Quebec",
          "Battle of Quebec",
          "Battle of Quebec",
          "Battle of Fundy Bay",
          "Battle of Fundy Bay",
          "Battle of Chedabucto",
          "Battle of Chedabucto",
          "Battle of Fort Loyal",
          "Battle of Fort Loyal",
          "Battle of Fort Loyal",
          "Battle of Port Royal",
          "Battle of Port Royal",
          "Raid on Wells",
          "Raid on Wells",
          "Raid on Wells",
          "Raid on Wells",
          "Raid on Chignecto",
          "Raid on Chignecto",
          "Raid on Chignecto",
          "Battle of La Prairie",
          "Battle of La Prairie",
          "Battle of Fort Albany",
          "Battle of Fort Albany"
         ],
         "lat": [
          46.9667,
          46.9667,
          46.9667,
          46.9667,
          45.27330556,
          45.27330556,
          45.38666667,
          45.38666667,
          43.6615,
          43.6615,
          43.6615,
          44.7111,
          44.7111,
          43.32222222,
          43.32222222,
          43.32222222,
          43.32222222,
          45.9167,
          45.9167,
          45.9167,
          45.40370178222656,
          45.40370178222656,
          52.2511100769043,
          52.2511100769043
         ],
         "legendgroup": "King William's War",
         "lon": [
          -71.2667,
          -71.2667,
          -71.2667,
          -71.2667,
          -66.06330556,
          -66.06330556,
          -61.50555556,
          -61.50555556,
          -70.2553,
          -70.2553,
          -70.2553,
          -65.61,
          -65.61,
          -70.58055556,
          -70.58055556,
          -70.58055556,
          -70.58055556,
          -64.1667,
          -64.1667,
          -64.1667,
          -73.4543685913086,
          -73.4543685913086,
          -81.50111389160156,
          -81.50111389160156
         ],
         "marker": {
          "color": "#FFA15A",
          "symbol": "circle"
         },
         "mode": "markers",
         "name": "King William's War",
         "showlegend": true,
         "type": "scattergeo"
        },
        {
         "customdata": [
          [
           1942
          ],
          [
           1942
          ],
          [
           1942
          ]
         ],
         "geo": "geo",
         "hovertemplate": "<b>%{hovertext}</b><br><br>war=World War II<br>lat=%{lat}<br>lng=%{lon}<br>year=%{customdata[0]}<extra></extra>",
         "hovertext": [
          "Battle of the St. Lawrence",
          "Battle of the St. Lawrence",
          "Battle of the St. Lawrence"
         ],
         "lat": [
          48.90331268310547,
          48.90331268310547,
          48.90331268310547
         ],
         "legendgroup": "World War II",
         "lon": [
          -61.373878479003906,
          -61.373878479003906,
          -61.373878479003906
         ],
         "marker": {
          "color": "#19d3f3",
          "symbol": "circle"
         },
         "mode": "markers",
         "name": "World War II",
         "showlegend": true,
         "type": "scattergeo"
        },
        {
         "customdata": [
          [
           1757
          ],
          [
           1757
          ],
          [
           1757
          ],
          [
           1755
          ],
          [
           1755
          ],
          [
           1755
          ],
          [
           1755
          ],
          [
           1759
          ],
          [
           1759
          ],
          [
           1759
          ],
          [
           1756
          ],
          [
           1756
          ],
          [
           1756
          ],
          [
           1758
          ],
          [
           1758
          ],
          [
           1758
          ],
          [
           1756
          ],
          [
           1756
          ],
          [
           1756
          ],
          [
           1755
          ],
          [
           1755
          ],
          [
           1755
          ],
          [
           1755
          ],
          [
           1760
          ],
          [
           1760
          ],
          [
           1760
          ],
          [
           1760
          ],
          [
           1760
          ],
          [
           1763
          ],
          [
           1763
          ],
          [
           1763
          ],
          [
           1759
          ],
          [
           1759
          ],
          [
           1759
          ],
          [
           1759
          ],
          [
           1763
          ],
          [
           1763
          ],
          [
           1755
          ],
          [
           1755
          ],
          [
           1755
          ],
          [
           1755
          ],
          [
           1755
          ],
          [
           1759
          ],
          [
           1759
          ],
          [
           1759
          ],
          [
           1760
          ],
          [
           1760
          ],
          [
           1760
          ],
          [
           1758
          ],
          [
           1758
          ],
          [
           1758
          ],
          [
           1758
          ],
          [
           1762
          ],
          [
           1762
          ],
          [
           1760
          ],
          [
           1760
          ],
          [
           1760
          ],
          [
           1760
          ]
         ],
         "geo": "geo",
         "hovertemplate": "<b>%{hovertext}</b><br><br>war=Seven Years' War<br>lat=%{lat}<br>lng=%{lon}<br>year=%{customdata[0]}<extra></extra>",
         "hovertext": [
          "Siege of Fort William Henry",
          "Siege of Fort William Henry",
          "Siege of Fort William Henry",
          "Battle of Fort Beauséjour",
          "Battle of Fort Beauséjour",
          "Battle of Fort Beauséjour",
          "Battle of Fort Beauséjour",
          "Battle of Beauport",
          "Battle of Beauport",
          "Battle of Beauport",
          "Battle of Fort Bull",
          "Battle of Fort Bull",
          "Battle of Fort Bull",
          "Battle of Fort Frontenac",
          "Battle of Fort Frontenac",
          "Battle of Fort Frontenac",
          "Battle of Fort Oswego",
          "Battle of Fort Oswego",
          "Battle of Fort Oswego",
          "Battle of Petitcodiac",
          "Battle of Petitcodiac",
          "Battle of Petitcodiac",
          "Battle of Petitcodiac",
          "Battle of the Thousand Islands",
          "Battle of the Thousand Islands",
          "Battle of the Thousand Islands",
          "Battle of the Thousand Islands",
          "Battle of the Thousand Islands",
          "Battle of Devil's Hole",
          "Battle of Devil's Hole",
          "Battle of Devil's Hole",
          "Battle of the Plains of Abraham",
          "Battle of the Plains of Abraham",
          "Battle of the Plains of Abraham",
          "Battle of the Plains of Abraham",
          "Siege of Fort Detroit",
          "Siege of Fort Detroit",
          "Battle of Lake George",
          "Battle of Lake George",
          "Battle of Lake George",
          "Battle of Lake George",
          "Battle of Lake George",
          "Battle of Ticonderoga",
          "Battle of Ticonderoga",
          "Battle of Ticonderoga",
          "Battle of Sainte-Foy",
          "Battle of Sainte-Foy",
          "Battle of Sainte-Foy",
          "Battle of Carillon",
          "Battle of Carillon",
          "Battle of Carillon",
          "Battle of Carillon",
          "Battle of Signal Hill",
          "Battle of Signal Hill",
          "Battle of Restigouche",
          "Battle of Restigouche",
          "Battle of Restigouche",
          "Battle of Restigouche"
         ],
         "lat": [
          43.42027778,
          43.42027778,
          43.42027778,
          45.86550833,
          45.86550833,
          45.86550833,
          45.86550833,
          46.89018,
          46.89018,
          46.89018,
          43.22416667,
          43.22416667,
          43.22416667,
          44.23333333,
          44.23333333,
          44.23333333,
          43.461666666667,
          43.461666666667,
          43.461666666667,
          45.93222222,
          45.93222222,
          45.93222222,
          45.93222222,
          44.33388889,
          44.33388889,
          44.33388889,
          44.33388889,
          44.33388889,
          43.13388889,
          43.13388889,
          43.13388889,
          46.803,
          46.803,
          46.803,
          46.803,
          42.3289,
          42.3289,
          43.429,
          43.429,
          43.429,
          43.429,
          43.429,
          43.841388888889,
          43.841388888889,
          43.841388888889,
          46.802333333333,
          46.802333333333,
          46.802333333333,
          43.841666666667,
          43.841666666667,
          43.841666666667,
          43.841666666667,
          47.56972122192383,
          47.56972122192383,
          48.00472259521484,
          48.00472259521484,
          48.00472259521484,
          48.00472259521484
         ],
         "legendgroup": "Seven Years' War",
         "lon": [
          -73.71111111,
          -73.71111111,
          -73.71111111,
          -64.29079167,
          -64.29079167,
          -64.29079167,
          -64.29079167,
          -71.14726,
          -71.14726,
          -71.14726,
          -75.5025,
          -75.5025,
          -75.5025,
          -76.47861111,
          -76.47861111,
          -76.47861111,
          -76.514166666667,
          -76.514166666667,
          -76.514166666667,
          -65.17472222,
          -65.17472222,
          -65.17472222,
          -65.17472222,
          -75.99472222,
          -75.99472222,
          -75.99472222,
          -75.99472222,
          -75.99472222,
          -79.04555556,
          -79.04555556,
          -79.04555556,
          -71.215,
          -71.215,
          -71.215,
          -71.215,
          -83.0458,
          -83.0458,
          -73.68,
          -73.68,
          -73.68,
          -73.68,
          -73.68,
          -73.388055555556,
          -73.388055555556,
          -73.388055555556,
          -71.242138888889,
          -71.242138888889,
          -71.242138888889,
          -73.3875,
          -73.3875,
          -73.3875,
          -73.3875,
          -52.68194580078125,
          -52.68194580078125,
          -66.72083282470703,
          -66.72083282470703,
          -66.72083282470703,
          -66.72083282470703
         ],
         "marker": {
          "color": "#FF6692",
          "symbol": "circle"
         },
         "mode": "markers",
         "name": "Seven Years' War",
         "showlegend": true,
         "type": "scattergeo"
        },
        {
         "customdata": [
          [
           1010
          ],
          [
           1010
          ],
          [
           1003
          ],
          [
           1003
          ]
         ],
         "geo": "geo",
         "hovertemplate": "<b>%{hovertext}</b><br><br>war=Norse colonization of the Americas<br>lat=%{lat}<br>lng=%{lon}<br>year=%{customdata[0]}<extra></extra>",
         "hovertext": [
          "Battle of Vinland",
          "Battle of Vinland",
          "Battle of Vinland",
          "Battle of Vinland"
         ],
         "lat": [
          49.12120819091797,
          49.12120819091797,
          49.12120819091797,
          49.12120819091797
         ],
         "legendgroup": "Norse colonization of the Americas",
         "lon": [
          -56.69629669189453,
          -56.69629669189453,
          -56.69629669189453,
          -56.69629669189453
         ],
         "marker": {
          "color": "#B6E880",
          "symbol": "circle"
         },
         "mode": "markers",
         "name": "Norse colonization of the Americas",
         "showlegend": true,
         "type": "scattergeo"
        },
        {
         "customdata": [
          [
           1722
          ],
          [
           1722
          ],
          [
           1724
          ],
          [
           1724
          ],
          [
           1725
          ],
          [
           1725
          ]
         ],
         "geo": "geo",
         "hovertemplate": "<b>%{hovertext}</b><br><br>war=Father Rale's War<br>lat=%{lat}<br>lng=%{lon}<br>year=%{customdata[0]}<extra></extra>",
         "hovertext": [
          "Battle of Winnepang",
          "Battle of Winnepang",
          "Battle of Norridgewock",
          "Battle of Norridgewock",
          "Battle of Pequawket",
          "Battle of Pequawket"
         ],
         "lat": [
          44.77555556,
          44.77555556,
          44.767,
          44.767,
          44.021,
          44.021
         ],
         "legendgroup": "Father Rale's War",
         "lon": [
          -63.05527778,
          -63.05527778,
          -69.883306,
          -69.883306,
          -70.936,
          -70.936
         ],
         "marker": {
          "color": "#FF97FF",
          "symbol": "circle"
         },
         "mode": "markers",
         "name": "Father Rale's War",
         "showlegend": true,
         "type": "scattergeo"
        },
        {
         "customdata": [
          [
           1704
          ],
          [
           1704
          ],
          [
           1704
          ],
          [
           1704
          ],
          [
           1704
          ],
          [
           1704
          ],
          [
           1704
          ],
          [
           1704
          ],
          [
           1704
          ],
          [
           1704
          ],
          [
           1709
          ],
          [
           1709
          ],
          [
           1709
          ],
          [
           1709
          ],
          [
           1711
          ],
          [
           1711
          ],
          [
           1711
          ],
          [
           1711
          ],
          [
           1709
          ],
          [
           1709
          ]
         ],
         "geo": "geo",
         "hovertemplate": "<b>%{hovertext}</b><br><br>war=Queen Anne's War<br>lat=%{lat}<br>lng=%{lon}<br>year=%{customdata[0]}<extra></extra>",
         "hovertext": [
          "Raid on Grand Pré",
          "Raid on Grand Pré",
          "Raid on Grand Pré",
          "Raid on Deerfield",
          "Raid on Deerfield",
          "Raid on Deerfield",
          "Raid on Deerfield",
          "Raid on Deerfield",
          "Raid on Deerfield",
          "Raid on Deerfield",
          "Battle of St. John's",
          "Battle of St. John's",
          "Battle of St. John's",
          "Battle of St. John's",
          "Battle of Bloody Creek",
          "Battle of Bloody Creek",
          "Battle of Bloody Creek",
          "Battle of Bloody Creek",
          "Battle of Fort Albany",
          "Battle of Fort Albany"
         ],
         "lat": [
          45.10503889,
          45.10503889,
          45.10503889,
          42.5486,
          42.5486,
          42.5486,
          42.5486,
          42.5486,
          42.5486,
          42.5486,
          47.5708,
          47.5708,
          47.5708,
          47.5708,
          44.8224,
          44.8224,
          44.8224,
          44.8224,
          52.2511,
          52.2511
         ],
         "legendgroup": "Queen Anne's War",
         "lon": [
          -64.29868333,
          -64.29868333,
          -64.29868333,
          -72.6071,
          -72.6071,
          -72.6071,
          -72.6071,
          -72.6071,
          -72.6071,
          -72.6071,
          -52.6991,
          -52.6991,
          -52.6991,
          -52.6991,
          -65.3095,
          -65.3095,
          -65.3095,
          -65.3095,
          -81.5011,
          -81.5011
         ],
         "marker": {
          "color": "#FECB52",
          "symbol": "circle"
         },
         "mode": "markers",
         "name": "Queen Anne's War",
         "showlegend": true,
         "type": "scattergeo"
        },
        {
         "customdata": [
          [
           1838
          ],
          [
           1838
          ],
          [
           1838
          ],
          [
           1838
          ],
          [
           1838
          ],
          [
           1838
          ],
          [
           1838
          ],
          [
           1838
          ],
          [
           1838
          ],
          [
           1838
          ],
          [
           1837
          ],
          [
           1837
          ],
          [
           1837
          ],
          [
           1837
          ],
          [
           1837
          ],
          [
           1837
          ]
         ],
         "geo": "geo",
         "hovertemplate": "<b>%{hovertext}</b><br><br>war=Lower Canada Rebellion<br>lat=%{lat}<br>lng=%{lon}<br>year=%{customdata[0]}<extra></extra>",
         "hovertext": [
          "Battle of Odelltown",
          "Battle of Odelltown",
          "Battle of Baker's Farm",
          "Battle of Baker's Farm",
          "Battle of Beauharnois",
          "Battle of Beauharnois",
          "Battle of Beauharnois",
          "Battle of Beauharnois",
          "Battle of Lacolle",
          "Battle of Lacolle",
          "Battle of Saint-Charles",
          "Battle of Saint-Charles",
          "Battle of Saint-Denis",
          "Battle of Saint-Denis",
          "Battle of Saint-Eustache",
          "Battle of Saint-Eustache"
         ],
         "lat": [
          45.0355,
          45.0355,
          45.2205,
          45.2205,
          45.314,
          45.314,
          45.314,
          45.314,
          45.083333,
          45.083333,
          45.683333,
          45.683333,
          45.7861328125,
          45.7861328125,
          45.5575,
          45.5575
         ],
         "legendgroup": "Lower Canada Rebellion",
         "lon": [
          -73.390639,
          -73.390639,
          -73.839278,
          -73.839278,
          -73.877,
          -73.877,
          -73.877,
          -73.877,
          -73.366667,
          -73.366667,
          -73.183333,
          -73.183333,
          -73.15717315673828,
          -73.15717315673828,
          -73.8897,
          -73.8897
         ],
         "marker": {
          "color": "#636efa",
          "symbol": "circle"
         },
         "mode": "markers",
         "name": "Lower Canada Rebellion",
         "showlegend": true,
         "type": "scattergeo"
        },
        {
         "customdata": [
          [
           1885
          ],
          [
           1885
          ],
          [
           1885
          ],
          [
           1885
          ],
          [
           1885
          ],
          [
           1885
          ],
          [
           1885
          ],
          [
           1885
          ],
          [
           1885
          ],
          [
           1885
          ],
          [
           1885
          ],
          [
           1885
          ],
          [
           1885
          ],
          [
           1885
          ],
          [
           1885
          ],
          [
           1885
          ],
          [
           1885
          ]
         ],
         "geo": "geo",
         "hovertemplate": "<b>%{hovertext}</b><br><br>war=North-West Rebellion<br>lat=%{lat}<br>lng=%{lon}<br>year=%{customdata[0]}<extra></extra>",
         "hovertext": [
          "Battle of Batoche",
          "Battle of Batoche",
          "Battle of Fort Pitt",
          "Battle of Fort Pitt",
          "Battle of Frenchman's Butte",
          "Battle of Frenchman's Butte",
          "Battle of Loon Lake",
          "Battle of Loon Lake",
          "Battle of Fish Creek",
          "Battle of Fish Creek",
          "Battle of Fish Creek",
          "Battle of Fish Creek",
          "Battle of Duck Lake",
          "Battle of Duck Lake",
          "Battle of Cut Knife",
          "Battle of Cut Knife",
          "Battle of Cut Knife"
         ],
         "lat": [
          52.75600814819336,
          52.75600814819336,
          53.65018,
          53.65018,
          53.62722396850586,
          53.62722396850586,
          54.04055404663086,
          54.04055404663086,
          52.60194396972656,
          52.60194396972656,
          52.60194396972656,
          52.60194396972656,
          52.81650924682617,
          52.81650924682617,
          52.74530792236328,
          52.74530792236328,
          52.74530792236328
         ],
         "legendgroup": "North-West Rebellion",
         "lon": [
          -106.11793518066406,
          -106.11793518066406,
          -109.75154,
          -109.75154,
          -109.5758361816406,
          -109.5758361816406,
          -109.0008316040039,
          -109.0008316040039,
          -105.9472198486328,
          -105.9472198486328,
          -105.9472198486328,
          -105.9472198486328,
          -106.2327270507812,
          -106.2327270507812,
          -109.0277633666992,
          -109.0277633666992,
          -109.0277633666992
         ],
         "marker": {
          "color": "#EF553B",
          "symbol": "circle"
         },
         "mode": "markers",
         "name": "North-West Rebellion",
         "showlegend": true,
         "type": "scattergeo"
        },
        {
         "customdata": [
          [
           1747
          ],
          [
           1747
          ],
          [
           1747
          ],
          [
           1747
          ],
          [
           1746
          ],
          [
           1746
          ],
          [
           1746
          ],
          [
           1746
          ],
          [
           1746
          ],
          [
           1745
          ],
          [
           1745
          ],
          [
           1745
          ],
          [
           1745
          ]
         ],
         "geo": "geo",
         "hovertemplate": "<b>%{hovertext}</b><br><br>war=King George's War<br>lat=%{lat}<br>lng=%{lon}<br>year=%{customdata[0]}<extra></extra>",
         "hovertext": [
          "Battle of Grand Pré",
          "Battle of Grand Pré",
          "Battle of Grand Pré",
          "Battle of Grand Pré",
          "Battle at Port-la-Joye",
          "Battle at Port-la-Joye",
          "Battle at Port-la-Joye",
          "Battle at Port-la-Joye",
          "Battle at Port-la-Joye",
          "Naval battle off Tatamagouche",
          "Naval battle off Tatamagouche",
          "Naval battle off Tatamagouche",
          "Naval battle off Tatamagouche"
         ],
         "lat": [
          45.1011,
          45.1011,
          45.1011,
          45.1011,
          46.197222,
          46.197222,
          46.197222,
          46.197222,
          46.197222,
          45.7167,
          45.7167,
          45.7167,
          45.7167
         ],
         "legendgroup": "King George's War",
         "lon": [
          -64.3072,
          -64.3072,
          -64.3072,
          -64.3072,
          -63.136944,
          -63.136944,
          -63.136944,
          -63.136944,
          -63.136944,
          -63.2833,
          -63.2833,
          -63.2833,
          -63.2833
         ],
         "marker": {
          "color": "#00cc96",
          "symbol": "circle"
         },
         "mode": "markers",
         "name": "King George's War",
         "showlegend": true,
         "type": "scattergeo"
        },
        {
         "customdata": [
          [
           1697
          ],
          [
           1697
          ],
          [
           1688
          ],
          [
           1688
          ]
         ],
         "geo": "geo",
         "hovertemplate": "<b>%{hovertext}</b><br><br>war=Nine Years' War<br>lat=%{lat}<br>lng=%{lon}<br>year=%{customdata[0]}<extra></extra>",
         "hovertext": [
          "Battle of Hudson's Bay",
          "Battle of Hudson's Bay",
          "Battle of Fort Albany",
          "Battle of Fort Albany"
         ],
         "lat": [
          57.009889,
          57.009889,
          52.2511100769043,
          52.2511100769043
         ],
         "legendgroup": "Nine Years' War",
         "lon": [
          -92.181744,
          -92.181744,
          -81.50111389160156,
          -81.50111389160156
         ],
         "marker": {
          "color": "#ab63fa",
          "symbol": "circle"
         },
         "mode": "markers",
         "name": "Nine Years' War",
         "showlegend": true,
         "type": "scattergeo"
        },
        {
         "customdata": [
          [
           1838
          ],
          [
           1838
          ],
          [
           1838
          ],
          [
           1838
          ],
          [
           1838
          ],
          [
           1838
          ],
          [
           1838
          ],
          [
           1838
          ],
          [
           1838
          ],
          [
           1837
          ],
          [
           1837
          ]
         ],
         "geo": "geo",
         "hovertemplate": "<b>%{hovertext}</b><br><br>war=Upper Canada Rebellion<br>lat=%{lat}<br>lng=%{lon}<br>year=%{customdata[0]}<extra></extra>",
         "hovertext": [
          "Battle of the Windmill",
          "Battle of the Windmill",
          "Battle of the Windmill",
          "Battle of the Windmill",
          "Battle of Pelee Island",
          "Battle of Pelee Island",
          "Battle of Pelee Island",
          "Battle of Pelee Island",
          "Battle of Pelee Island",
          "Battle of Montgomery's Tavern",
          "Battle of Montgomery's Tavern"
         ],
         "lat": [
          44.7209,
          44.7209,
          44.7209,
          44.7209,
          41.7667,
          41.7667,
          41.7667,
          41.7667,
          41.7667,
          43.70949935913086,
          43.70949935913086
         ],
         "legendgroup": "Upper Canada Rebellion",
         "lon": [
          -75.4871,
          -75.4871,
          -75.4871,
          -75.4871,
          -82.6409,
          -82.6409,
          -82.6409,
          -82.6409,
          -82.6409,
          -79.39900207519531,
          -79.39900207519531
         ],
         "marker": {
          "color": "#FFA15A",
          "symbol": "circle"
         },
         "mode": "markers",
         "name": "Upper Canada Rebellion",
         "showlegend": true,
         "type": "scattergeo"
        },
        {
         "customdata": [
          [
           1750
          ],
          [
           1750
          ],
          [
           1750
          ],
          [
           1750
          ],
          [
           1749
          ],
          [
           1749
          ],
          [
           1749
          ],
          [
           1751
          ],
          [
           1751
          ],
          [
           1751
          ]
         ],
         "geo": "geo",
         "hovertemplate": "<b>%{hovertext}</b><br><br>war=Father Le Loutre's War<br>lat=%{lat}<br>lng=%{lon}<br>year=%{customdata[0]}<extra></extra>",
         "hovertext": [
          "Battle at St. Croix",
          "Battle at St. Croix",
          "Battle at St. Croix",
          "Battle at St. Croix",
          "Raid on Dartmouth",
          "Raid on Dartmouth",
          "Raid on Dartmouth",
          "Raid on Dartmouth",
          "Raid on Dartmouth",
          "Raid on Dartmouth"
         ],
         "lat": [
          44.96191667,
          44.96191667,
          44.96191667,
          44.96191667,
          44.6639,
          44.6639,
          44.6639,
          44.6929,
          44.6929,
          44.6929
         ],
         "legendgroup": "Father Le Loutre's War",
         "lon": [
          -64.03377778,
          -64.03377778,
          -64.03377778,
          -64.03377778,
          -63.5682,
          -63.5682,
          -63.5682,
          -63.6,
          -63.6,
          -63.6
         ],
         "marker": {
          "color": "#19d3f3",
          "symbol": "circle"
         },
         "mode": "markers",
         "name": "Father Le Loutre's War",
         "showlegend": true,
         "type": "scattergeo"
        },
        {
         "customdata": [
          [
           1838
          ],
          [
           1838
          ],
          [
           1838
          ],
          [
           1838
          ]
         ],
         "geo": "geo",
         "hovertemplate": "<b>%{hovertext}</b><br><br>war=Patriot War<br>lat=%{lat}<br>lng=%{lon}<br>year=%{customdata[0]}<extra></extra>",
         "hovertext": [
          "Battle of Windsor",
          "Battle of Windsor",
          "Battle of Windsor",
          "Battle of Windsor"
         ],
         "lat": [
          42.283333333333,
          42.283333333333,
          42.283333333333,
          42.283333333333
         ],
         "legendgroup": "Patriot War",
         "lon": [
          -83,
          -83,
          -83,
          -83
         ],
         "marker": {
          "color": "#FF6692",
          "symbol": "circle"
         },
         "mode": "markers",
         "name": "Patriot War",
         "showlegend": true,
         "type": "scattergeo"
        },
        {
         "customdata": [
          [
           1816
          ],
          [
           1816
          ]
         ],
         "geo": "geo",
         "hovertemplate": "<b>%{hovertext}</b><br><br>war=Pemmican War<br>lat=%{lat}<br>lng=%{lon}<br>year=%{customdata[0]}<extra></extra>",
         "hovertext": [
          "Battle of Seven Oaks",
          "Battle of Seven Oaks"
         ],
         "lat": [
          49.93199920654297,
          49.93199920654297
         ],
         "legendgroup": "Pemmican War",
         "lon": [
          -97.12100219726562,
          -97.12100219726562
         ],
         "marker": {
          "color": "#B6E880",
          "symbol": "circle"
         },
         "mode": "markers",
         "name": "Pemmican War",
         "showlegend": true,
         "type": "scattergeo"
        },
        {
         "customdata": [
          [
           1776
          ],
          [
           1776
          ],
          [
           1776
          ],
          [
           1776
          ],
          [
           1776
          ]
         ],
         "geo": "geo",
         "hovertemplate": "<b>%{hovertext}</b><br><br>war=Invasion of Canada (1775)<br>lat=%{lat}<br>lng=%{lon}<br>year=%{customdata[0]}<extra></extra>",
         "hovertext": [
          "Battle of The Cedars",
          "Battle of The Cedars",
          "Battle of The Cedars",
          "Battle of The Cedars",
          "Battle of The Cedars"
         ],
         "lat": [
          45.30622100830078,
          45.30622100830078,
          45.30622100830078,
          45.30622100830078,
          45.30622100830078
         ],
         "legendgroup": "Invasion of Canada (1775)",
         "lon": [
          -74.05461120605469,
          -74.05461120605469,
          -74.05461120605469,
          -74.05461120605469,
          -74.05461120605469
         ],
         "marker": {
          "color": "#FF97FF",
          "symbol": "circle"
         },
         "mode": "markers",
         "name": "Invasion of Canada (1775)",
         "showlegend": true,
         "type": "scattergeo"
        }
       ],
       "layout": {
        "geo": {
         "center": {},
         "domain": {
          "x": [
           0,
           1
          ],
          "y": [
           0,
           1
          ]
         },
         "fitbounds": "locations"
        },
        "height": 800,
        "legend": {
         "title": {
          "text": "war"
         },
         "tracegroupgap": 0
        },
        "template": {
         "data": {
          "bar": [
           {
            "error_x": {
             "color": "#2a3f5f"
            },
            "error_y": {
             "color": "#2a3f5f"
            },
            "marker": {
             "line": {
              "color": "#E5ECF6",
              "width": 0.5
             },
             "pattern": {
              "fillmode": "overlay",
              "size": 10,
              "solidity": 0.2
             }
            },
            "type": "bar"
           }
          ],
          "barpolar": [
           {
            "marker": {
             "line": {
              "color": "#E5ECF6",
              "width": 0.5
             },
             "pattern": {
              "fillmode": "overlay",
              "size": 10,
              "solidity": 0.2
             }
            },
            "type": "barpolar"
           }
          ],
          "carpet": [
           {
            "aaxis": {
             "endlinecolor": "#2a3f5f",
             "gridcolor": "white",
             "linecolor": "white",
             "minorgridcolor": "white",
             "startlinecolor": "#2a3f5f"
            },
            "baxis": {
             "endlinecolor": "#2a3f5f",
             "gridcolor": "white",
             "linecolor": "white",
             "minorgridcolor": "white",
             "startlinecolor": "#2a3f5f"
            },
            "type": "carpet"
           }
          ],
          "choropleth": [
           {
            "colorbar": {
             "outlinewidth": 0,
             "ticks": ""
            },
            "type": "choropleth"
           }
          ],
          "contour": [
           {
            "colorbar": {
             "outlinewidth": 0,
             "ticks": ""
            },
            "colorscale": [
             [
              0,
              "#0d0887"
             ],
             [
              0.1111111111111111,
              "#46039f"
             ],
             [
              0.2222222222222222,
              "#7201a8"
             ],
             [
              0.3333333333333333,
              "#9c179e"
             ],
             [
              0.4444444444444444,
              "#bd3786"
             ],
             [
              0.5555555555555556,
              "#d8576b"
             ],
             [
              0.6666666666666666,
              "#ed7953"
             ],
             [
              0.7777777777777778,
              "#fb9f3a"
             ],
             [
              0.8888888888888888,
              "#fdca26"
             ],
             [
              1,
              "#f0f921"
             ]
            ],
            "type": "contour"
           }
          ],
          "contourcarpet": [
           {
            "colorbar": {
             "outlinewidth": 0,
             "ticks": ""
            },
            "type": "contourcarpet"
           }
          ],
          "heatmap": [
           {
            "colorbar": {
             "outlinewidth": 0,
             "ticks": ""
            },
            "colorscale": [
             [
              0,
              "#0d0887"
             ],
             [
              0.1111111111111111,
              "#46039f"
             ],
             [
              0.2222222222222222,
              "#7201a8"
             ],
             [
              0.3333333333333333,
              "#9c179e"
             ],
             [
              0.4444444444444444,
              "#bd3786"
             ],
             [
              0.5555555555555556,
              "#d8576b"
             ],
             [
              0.6666666666666666,
              "#ed7953"
             ],
             [
              0.7777777777777778,
              "#fb9f3a"
             ],
             [
              0.8888888888888888,
              "#fdca26"
             ],
             [
              1,
              "#f0f921"
             ]
            ],
            "type": "heatmap"
           }
          ],
          "heatmapgl": [
           {
            "colorbar": {
             "outlinewidth": 0,
             "ticks": ""
            },
            "colorscale": [
             [
              0,
              "#0d0887"
             ],
             [
              0.1111111111111111,
              "#46039f"
             ],
             [
              0.2222222222222222,
              "#7201a8"
             ],
             [
              0.3333333333333333,
              "#9c179e"
             ],
             [
              0.4444444444444444,
              "#bd3786"
             ],
             [
              0.5555555555555556,
              "#d8576b"
             ],
             [
              0.6666666666666666,
              "#ed7953"
             ],
             [
              0.7777777777777778,
              "#fb9f3a"
             ],
             [
              0.8888888888888888,
              "#fdca26"
             ],
             [
              1,
              "#f0f921"
             ]
            ],
            "type": "heatmapgl"
           }
          ],
          "histogram": [
           {
            "marker": {
             "pattern": {
              "fillmode": "overlay",
              "size": 10,
              "solidity": 0.2
             }
            },
            "type": "histogram"
           }
          ],
          "histogram2d": [
           {
            "colorbar": {
             "outlinewidth": 0,
             "ticks": ""
            },
            "colorscale": [
             [
              0,
              "#0d0887"
             ],
             [
              0.1111111111111111,
              "#46039f"
             ],
             [
              0.2222222222222222,
              "#7201a8"
             ],
             [
              0.3333333333333333,
              "#9c179e"
             ],
             [
              0.4444444444444444,
              "#bd3786"
             ],
             [
              0.5555555555555556,
              "#d8576b"
             ],
             [
              0.6666666666666666,
              "#ed7953"
             ],
             [
              0.7777777777777778,
              "#fb9f3a"
             ],
             [
              0.8888888888888888,
              "#fdca26"
             ],
             [
              1,
              "#f0f921"
             ]
            ],
            "type": "histogram2d"
           }
          ],
          "histogram2dcontour": [
           {
            "colorbar": {
             "outlinewidth": 0,
             "ticks": ""
            },
            "colorscale": [
             [
              0,
              "#0d0887"
             ],
             [
              0.1111111111111111,
              "#46039f"
             ],
             [
              0.2222222222222222,
              "#7201a8"
             ],
             [
              0.3333333333333333,
              "#9c179e"
             ],
             [
              0.4444444444444444,
              "#bd3786"
             ],
             [
              0.5555555555555556,
              "#d8576b"
             ],
             [
              0.6666666666666666,
              "#ed7953"
             ],
             [
              0.7777777777777778,
              "#fb9f3a"
             ],
             [
              0.8888888888888888,
              "#fdca26"
             ],
             [
              1,
              "#f0f921"
             ]
            ],
            "type": "histogram2dcontour"
           }
          ],
          "mesh3d": [
           {
            "colorbar": {
             "outlinewidth": 0,
             "ticks": ""
            },
            "type": "mesh3d"
           }
          ],
          "parcoords": [
           {
            "line": {
             "colorbar": {
              "outlinewidth": 0,
              "ticks": ""
             }
            },
            "type": "parcoords"
           }
          ],
          "pie": [
           {
            "automargin": true,
            "type": "pie"
           }
          ],
          "scatter": [
           {
            "fillpattern": {
             "fillmode": "overlay",
             "size": 10,
             "solidity": 0.2
            },
            "type": "scatter"
           }
          ],
          "scatter3d": [
           {
            "line": {
             "colorbar": {
              "outlinewidth": 0,
              "ticks": ""
             }
            },
            "marker": {
             "colorbar": {
              "outlinewidth": 0,
              "ticks": ""
             }
            },
            "type": "scatter3d"
           }
          ],
          "scattercarpet": [
           {
            "marker": {
             "colorbar": {
              "outlinewidth": 0,
              "ticks": ""
             }
            },
            "type": "scattercarpet"
           }
          ],
          "scattergeo": [
           {
            "marker": {
             "colorbar": {
              "outlinewidth": 0,
              "ticks": ""
             }
            },
            "type": "scattergeo"
           }
          ],
          "scattergl": [
           {
            "marker": {
             "colorbar": {
              "outlinewidth": 0,
              "ticks": ""
             }
            },
            "type": "scattergl"
           }
          ],
          "scattermapbox": [
           {
            "marker": {
             "colorbar": {
              "outlinewidth": 0,
              "ticks": ""
             }
            },
            "type": "scattermapbox"
           }
          ],
          "scatterpolar": [
           {
            "marker": {
             "colorbar": {
              "outlinewidth": 0,
              "ticks": ""
             }
            },
            "type": "scatterpolar"
           }
          ],
          "scatterpolargl": [
           {
            "marker": {
             "colorbar": {
              "outlinewidth": 0,
              "ticks": ""
             }
            },
            "type": "scatterpolargl"
           }
          ],
          "scatterternary": [
           {
            "marker": {
             "colorbar": {
              "outlinewidth": 0,
              "ticks": ""
             }
            },
            "type": "scatterternary"
           }
          ],
          "surface": [
           {
            "colorbar": {
             "outlinewidth": 0,
             "ticks": ""
            },
            "colorscale": [
             [
              0,
              "#0d0887"
             ],
             [
              0.1111111111111111,
              "#46039f"
             ],
             [
              0.2222222222222222,
              "#7201a8"
             ],
             [
              0.3333333333333333,
              "#9c179e"
             ],
             [
              0.4444444444444444,
              "#bd3786"
             ],
             [
              0.5555555555555556,
              "#d8576b"
             ],
             [
              0.6666666666666666,
              "#ed7953"
             ],
             [
              0.7777777777777778,
              "#fb9f3a"
             ],
             [
              0.8888888888888888,
              "#fdca26"
             ],
             [
              1,
              "#f0f921"
             ]
            ],
            "type": "surface"
           }
          ],
          "table": [
           {
            "cells": {
             "fill": {
              "color": "#EBF0F8"
             },
             "line": {
              "color": "white"
             }
            },
            "header": {
             "fill": {
              "color": "#C8D4E3"
             },
             "line": {
              "color": "white"
             }
            },
            "type": "table"
           }
          ]
         },
         "layout": {
          "annotationdefaults": {
           "arrowcolor": "#2a3f5f",
           "arrowhead": 0,
           "arrowwidth": 1
          },
          "autotypenumbers": "strict",
          "coloraxis": {
           "colorbar": {
            "outlinewidth": 0,
            "ticks": ""
           }
          },
          "colorscale": {
           "diverging": [
            [
             0,
             "#8e0152"
            ],
            [
             0.1,
             "#c51b7d"
            ],
            [
             0.2,
             "#de77ae"
            ],
            [
             0.3,
             "#f1b6da"
            ],
            [
             0.4,
             "#fde0ef"
            ],
            [
             0.5,
             "#f7f7f7"
            ],
            [
             0.6,
             "#e6f5d0"
            ],
            [
             0.7,
             "#b8e186"
            ],
            [
             0.8,
             "#7fbc41"
            ],
            [
             0.9,
             "#4d9221"
            ],
            [
             1,
             "#276419"
            ]
           ],
           "sequential": [
            [
             0,
             "#0d0887"
            ],
            [
             0.1111111111111111,
             "#46039f"
            ],
            [
             0.2222222222222222,
             "#7201a8"
            ],
            [
             0.3333333333333333,
             "#9c179e"
            ],
            [
             0.4444444444444444,
             "#bd3786"
            ],
            [
             0.5555555555555556,
             "#d8576b"
            ],
            [
             0.6666666666666666,
             "#ed7953"
            ],
            [
             0.7777777777777778,
             "#fb9f3a"
            ],
            [
             0.8888888888888888,
             "#fdca26"
            ],
            [
             1,
             "#f0f921"
            ]
           ],
           "sequentialminus": [
            [
             0,
             "#0d0887"
            ],
            [
             0.1111111111111111,
             "#46039f"
            ],
            [
             0.2222222222222222,
             "#7201a8"
            ],
            [
             0.3333333333333333,
             "#9c179e"
            ],
            [
             0.4444444444444444,
             "#bd3786"
            ],
            [
             0.5555555555555556,
             "#d8576b"
            ],
            [
             0.6666666666666666,
             "#ed7953"
            ],
            [
             0.7777777777777778,
             "#fb9f3a"
            ],
            [
             0.8888888888888888,
             "#fdca26"
            ],
            [
             1,
             "#f0f921"
            ]
           ]
          },
          "colorway": [
           "#636efa",
           "#EF553B",
           "#00cc96",
           "#ab63fa",
           "#FFA15A",
           "#19d3f3",
           "#FF6692",
           "#B6E880",
           "#FF97FF",
           "#FECB52"
          ],
          "font": {
           "color": "#2a3f5f"
          },
          "geo": {
           "bgcolor": "white",
           "lakecolor": "white",
           "landcolor": "#E5ECF6",
           "showlakes": true,
           "showland": true,
           "subunitcolor": "white"
          },
          "hoverlabel": {
           "align": "left"
          },
          "hovermode": "closest",
          "mapbox": {
           "style": "light"
          },
          "paper_bgcolor": "white",
          "plot_bgcolor": "#E5ECF6",
          "polar": {
           "angularaxis": {
            "gridcolor": "white",
            "linecolor": "white",
            "ticks": ""
           },
           "bgcolor": "#E5ECF6",
           "radialaxis": {
            "gridcolor": "white",
            "linecolor": "white",
            "ticks": ""
           }
          },
          "scene": {
           "xaxis": {
            "backgroundcolor": "#E5ECF6",
            "gridcolor": "white",
            "gridwidth": 2,
            "linecolor": "white",
            "showbackground": true,
            "ticks": "",
            "zerolinecolor": "white"
           },
           "yaxis": {
            "backgroundcolor": "#E5ECF6",
            "gridcolor": "white",
            "gridwidth": 2,
            "linecolor": "white",
            "showbackground": true,
            "ticks": "",
            "zerolinecolor": "white"
           },
           "zaxis": {
            "backgroundcolor": "#E5ECF6",
            "gridcolor": "white",
            "gridwidth": 2,
            "linecolor": "white",
            "showbackground": true,
            "ticks": "",
            "zerolinecolor": "white"
           }
          },
          "shapedefaults": {
           "line": {
            "color": "#2a3f5f"
           }
          },
          "ternary": {
           "aaxis": {
            "gridcolor": "white",
            "linecolor": "white",
            "ticks": ""
           },
           "baxis": {
            "gridcolor": "white",
            "linecolor": "white",
            "ticks": ""
           },
           "bgcolor": "#E5ECF6",
           "caxis": {
            "gridcolor": "white",
            "linecolor": "white",
            "ticks": ""
           }
          },
          "title": {
           "x": 0.05
          },
          "xaxis": {
           "automargin": true,
           "gridcolor": "white",
           "linecolor": "white",
           "ticks": "",
           "title": {
            "standoff": 15
           },
           "zerolinecolor": "white",
           "zerolinewidth": 2
          },
          "yaxis": {
           "automargin": true,
           "gridcolor": "white",
           "linecolor": "white",
           "ticks": "",
           "title": {
            "standoff": 15
           },
           "zerolinecolor": "white",
           "zerolinewidth": 2
          }
         }
        },
        "title": {
         "text": "Historical battles fought in present-day Canada"
        }
       }
      }
     },
     "metadata": {},
     "output_type": "display_data"
    }
   ],
   "source": [
    "# Southernmost point of Canada is Lake Erie, ON, at 41°40' N; easternmost is Cape Spear, NL, at 52°37' W\n",
    "# We also need to exclude a single WWII Pacific battle that happened off the coast of Alaska that didn't involve Canada\n",
    "NA_data = data[(data['lat']>41.6) & \n",
    "               (data['lng']<-52.6) & \n",
    "               (data['lng']>-160)]\n",
    "\n",
    "# There's also many wars in this subset that don't feature Canada, so we can list them here to remove:\n",
    "remove = ['American Revolutionary War',\n",
    "          'Sioux Wars',\n",
    "          \"Red Cloud's War\",\n",
    "          'Dakota War of 1862',\n",
    "          'Russo-Tlingit War',\n",
    "          'Great Sioux War of 1876',\n",
    "          'Powder River Expedition',\n",
    "          'American Civil War',\n",
    "          'Yellowstone Expedition of 1873',\n",
    "          'Nez Perce War',\n",
    "          'Comanche Campaign',\n",
    "          'Boston campaign',\n",
    "          'Modoc War',\n",
    "          'American Revolution',\n",
    "          \"King Philip's War\",\n",
    "          'Black Hawk War',\n",
    "          'Colorado War',\n",
    "          'American Indian Wars',\n",
    "          'Forage War',\n",
    "          \"Coeur d'Alene War\",\n",
    "          'Yakima War',\n",
    "          'Philadelphia campaign',\n",
    "          'Ghost Dance War']\n",
    "\n",
    "# Remove wars listed above, as well as battles without a specific war (that all happened in the USA)\n",
    "NA_data = NA_data[(~NA_data['war'].isin(remove)) & (~NA_data['war'].isnull())]\n",
    "          \n",
    "          \n",
    "          \n",
    "px.scatter_geo(NA_data, lat='lat', lon='lng', \n",
    "               height=800, hover_name='bname', \n",
    "               color='war',\n",
    "               hover_data=['year'], \n",
    "               fitbounds='locations',\n",
    "               title='Historical battles fought in present-day Canada')"
   ]
  },
  {
   "cell_type": "code",
   "execution_count": 10,
   "id": "84a6da56",
   "metadata": {},
   "outputs": [
    {
     "data": {
      "text/plain": [
       "['Action of 8 June 1755',\n",
       " 'Battle at Port-la-Joye',\n",
       " 'Battle at St. Croix',\n",
       " \"Battle of Baker's Farm\",\n",
       " 'Battle of Batoche',\n",
       " 'Battle of Beauharnois',\n",
       " 'Battle of Beauport',\n",
       " 'Battle of Beaver Dams',\n",
       " 'Battle of Big Sandy Creek',\n",
       " 'Battle of Bloody Creek',\n",
       " 'Battle of Brownstown',\n",
       " 'Battle of Buffalo',\n",
       " 'Battle of Carillon',\n",
       " 'Battle of Chedabucto',\n",
       " 'Battle of Chippawa',\n",
       " \"Battle of Cook's Mills\",\n",
       " \"Battle of Crysler's Farm\",\n",
       " 'Battle of Cut Knife',\n",
       " \"Battle of Devil's Hole\",\n",
       " 'Battle of Duck Lake',\n",
       " 'Battle of Eccles Hill',\n",
       " 'Battle of Fish Creek',\n",
       " 'Battle of Fort Albany',\n",
       " 'Battle of Fort Beauséjour',\n",
       " 'Battle of Fort Bull',\n",
       " 'Battle of Fort Dearborn',\n",
       " 'Battle of Fort Erie',\n",
       " 'Battle of Fort Frontenac',\n",
       " 'Battle of Fort George',\n",
       " 'Battle of Fort Loyal',\n",
       " 'Battle of Fort Niagara',\n",
       " 'Battle of Fort Oswego',\n",
       " 'Battle of Fort Pitt',\n",
       " \"Battle of Frenchman's Butte\",\n",
       " \"Battle of Frenchman's Creek\",\n",
       " 'Battle of Frenchtown',\n",
       " 'Battle of Fundy Bay',\n",
       " 'Battle of Grand Pré',\n",
       " 'Battle of Hampden',\n",
       " \"Battle of Hudson's Bay\",\n",
       " 'Battle of La Belle-Famille',\n",
       " 'Battle of La Prairie',\n",
       " 'Battle of Lacolle',\n",
       " 'Battle of Lacolle Mills',\n",
       " 'Battle of Lake Erie',\n",
       " 'Battle of Lake George',\n",
       " 'Battle of Longwoods',\n",
       " 'Battle of Loon Lake',\n",
       " \"Battle of Lundy's Lane\",\n",
       " 'Battle of Mackinac Island',\n",
       " 'Battle of Maguaga',\n",
       " \"Battle of Malcolm's Mills\",\n",
       " \"Battle of Montgomery's Tavern\",\n",
       " 'Battle of Norridgewock',\n",
       " 'Battle of Odelltown',\n",
       " 'Battle of Ogdensburg',\n",
       " 'Battle of Pelee Island',\n",
       " 'Battle of Pequawket',\n",
       " 'Battle of Petitcodiac',\n",
       " 'Battle of Plattsburgh',\n",
       " 'Battle of Port Royal',\n",
       " 'Battle of Quebec',\n",
       " 'Battle of Queenston Heights',\n",
       " 'Battle of Restigouche',\n",
       " 'Battle of Ridgeway',\n",
       " 'Battle of River Canard',\n",
       " 'Battle of Sabbath Day Point',\n",
       " 'Battle of Saint-Charles',\n",
       " 'Battle of Saint-Denis',\n",
       " 'Battle of Saint-Eustache',\n",
       " 'Battle of Sainte-Foy',\n",
       " 'Battle of Seven Oaks',\n",
       " 'Battle of Signal Hill',\n",
       " 'Battle of Sorel',\n",
       " \"Battle of St. John's\",\n",
       " 'Battle of Stoney Creek',\n",
       " 'Battle of The Cedars',\n",
       " 'Battle of Ticonderoga',\n",
       " 'Battle of Trout River',\n",
       " 'Battle of Vinland',\n",
       " 'Battle of Windsor',\n",
       " 'Battle of Winnepang',\n",
       " 'Battle of York',\n",
       " 'Battle of the Chateauguay',\n",
       " 'Battle of the Lake of Two Mountains',\n",
       " 'Battle of the Plains of Abraham',\n",
       " 'Battle of the St. Lawrence',\n",
       " 'Battle of the Thames',\n",
       " 'Battle of the Thousand Islands',\n",
       " 'Battle of the Windmill',\n",
       " 'Battle on Snowshoes',\n",
       " 'Beaver Wars',\n",
       " 'Gulf of St. Lawrence Campaign',\n",
       " 'Naval battle off Tatamagouche',\n",
       " 'Raid on Black Rock',\n",
       " 'Raid on Chignecto',\n",
       " 'Raid on Dartmouth',\n",
       " 'Raid on Deerfield',\n",
       " 'Raid on Grand Pré',\n",
       " 'Raid on Wells',\n",
       " 'Siege of Fort Detroit',\n",
       " 'Siege of Fort William Henry',\n",
       " 'Siege of Louisbourg',\n",
       " 'St. Francis Raid']"
      ]
     },
     "execution_count": 10,
     "metadata": {},
     "output_type": "execute_result"
    }
   ],
   "source": [
    "list(NA_data['bname'].sort_values().unique())"
   ]
  },
  {
   "cell_type": "code",
   "execution_count": 25,
   "id": "76f0f985",
   "metadata": {},
   "outputs": [
    {
     "data": {
      "application/vnd.plotly.v1+json": {
       "config": {
        "plotlyServerURL": "https://plot.ly"
       },
       "data": [
        {
         "customdata": [
          [
           "War of 1812",
           1812
          ],
          [
           "War of 1812",
           1812
          ],
          [
           "War of 1812",
           1812
          ],
          [
           "War of 1812",
           1812
          ],
          [
           "War of 1812",
           1812
          ],
          [
           "War of 1812",
           1812
          ],
          [
           "War of 1812",
           1813
          ],
          [
           "War of 1812",
           1813
          ],
          [
           "War of 1812",
           1813
          ],
          [
           "War of 1812",
           1812
          ],
          [
           "War of 1812",
           1812
          ],
          [
           "Beaver Wars",
           1610
          ],
          [
           "Beaver Wars",
           1610
          ],
          [
           "Beaver Wars",
           1610
          ],
          [
           "Beaver Wars",
           1610
          ],
          [
           "Beaver Wars",
           1610
          ],
          [
           "Beaver Wars",
           1689
          ],
          [
           "Beaver Wars",
           1689
          ],
          [
           "Fenian raids",
           1870
          ],
          [
           "Fenian raids",
           1870
          ],
          [
           "King William's War",
           1690
          ],
          [
           "King William's War",
           1690
          ],
          [
           "King William's War",
           1690
          ],
          [
           "King William's War",
           1690
          ],
          [
           "War of 1812",
           1813
          ],
          [
           "War of 1812",
           1813
          ],
          [
           "War of 1812",
           1812
          ],
          [
           "War of 1812",
           1812
          ],
          [
           "War of 1812",
           1812
          ],
          [
           "War of 1812",
           1814
          ],
          [
           "War of 1812",
           1814
          ],
          [
           "War of 1812",
           1814
          ],
          [
           "War of 1812",
           1814
          ],
          [
           "War of 1812",
           1814
          ],
          [
           "War of 1812",
           1814
          ],
          [
           "Seven Years' War",
           1755
          ],
          [
           "Seven Years' War",
           1755
          ],
          [
           "Seven Years' War",
           1755
          ],
          [
           "Seven Years' War",
           1755
          ],
          [
           "Norse colonization of the Americas",
           1010
          ],
          [
           "Norse colonization of the Americas",
           1010
          ],
          [
           "Norse colonization of the Americas",
           1003
          ],
          [
           "Norse colonization of the Americas",
           1003
          ],
          [
           "Seven Years' War",
           1759
          ],
          [
           "Seven Years' War",
           1759
          ],
          [
           "Seven Years' War",
           1759
          ],
          [
           "Father Rale's War",
           1722
          ],
          [
           "Father Rale's War",
           1722
          ],
          [
           "Queen Anne's War",
           1704
          ],
          [
           "Queen Anne's War",
           1704
          ],
          [
           "Queen Anne's War",
           1704
          ],
          [
           "Lower Canada Rebellion",
           1838
          ],
          [
           "Lower Canada Rebellion",
           1838
          ],
          [
           "War of 1812",
           1813
          ],
          [
           "War of 1812",
           1813
          ],
          [
           "North-West Rebellion",
           1885
          ],
          [
           "North-West Rebellion",
           1885
          ],
          [
           "War of 1812",
           1812
          ],
          [
           "War of 1812",
           1812
          ],
          [
           "Seven Years' War",
           1756
          ],
          [
           "Seven Years' War",
           1756
          ],
          [
           "Seven Years' War",
           1756
          ],
          [
           "French and Indian War",
           1759
          ],
          [
           "French and Indian War",
           1759
          ],
          [
           "French and Indian War",
           1759
          ],
          [
           "French and Indian War",
           1759
          ],
          [
           "French and Indian War",
           1759
          ],
          [
           "Seven Years' War",
           1756
          ],
          [
           "Seven Years' War",
           1756
          ],
          [
           "Seven Years' War",
           1756
          ],
          [
           "King George's War",
           1747
          ],
          [
           "King George's War",
           1747
          ],
          [
           "King George's War",
           1747
          ],
          [
           "King George's War",
           1747
          ],
          [
           "Lower Canada Rebellion",
           1838
          ],
          [
           "Lower Canada Rebellion",
           1838
          ],
          [
           "Seven Years' War",
           1755
          ],
          [
           "Seven Years' War",
           1755
          ],
          [
           "Seven Years' War",
           1755
          ],
          [
           "Seven Years' War",
           1755
          ],
          [
           "Fenian raids",
           1866
          ],
          [
           "Fenian raids",
           1866
          ],
          [
           "Lower Canada Rebellion",
           1837
          ],
          [
           "Lower Canada Rebellion",
           1837
          ],
          [
           "Lower Canada Rebellion",
           1837
          ],
          [
           "Lower Canada Rebellion",
           1837
          ],
          [
           "War of 1812",
           1814
          ],
          [
           "War of 1812",
           1814
          ],
          [
           "War of 1812",
           1814
          ],
          [
           "Seven Years' War",
           1760
          ],
          [
           "Seven Years' War",
           1760
          ],
          [
           "Seven Years' War",
           1760
          ],
          [
           "Seven Years' War",
           1760
          ],
          [
           "Seven Years' War",
           1760
          ],
          [
           "Upper Canada Rebellion",
           1838
          ],
          [
           "Upper Canada Rebellion",
           1838
          ],
          [
           "Upper Canada Rebellion",
           1838
          ],
          [
           "Upper Canada Rebellion",
           1838
          ],
          [
           "Seven Years' War",
           1763
          ],
          [
           "Seven Years' War",
           1763
          ],
          [
           "Seven Years' War",
           1763
          ],
          [
           "Queen Anne's War",
           1704
          ],
          [
           "Queen Anne's War",
           1704
          ],
          [
           "Queen Anne's War",
           1704
          ],
          [
           "Queen Anne's War",
           1704
          ],
          [
           "Queen Anne's War",
           1704
          ],
          [
           "Queen Anne's War",
           1704
          ],
          [
           "Queen Anne's War",
           1704
          ],
          [
           "French and Indian War",
           1758
          ],
          [
           "French and Indian War",
           1758
          ],
          [
           "French and Indian War",
           1758
          ],
          [
           "French and Indian War",
           1758
          ],
          [
           "French and Indian War",
           1758
          ],
          [
           "Seven Years' War",
           1759
          ],
          [
           "Seven Years' War",
           1759
          ],
          [
           "Seven Years' War",
           1759
          ],
          [
           "Seven Years' War",
           1759
          ],
          [
           "French and Indian War",
           1759
          ],
          [
           "French and Indian War",
           1759
          ],
          [
           "French and Indian War",
           1759
          ],
          [
           "French and Indian War",
           1759
          ],
          [
           "French and Indian War",
           1759
          ],
          [
           "Queen Anne's War",
           1709
          ],
          [
           "Queen Anne's War",
           1709
          ],
          [
           "Queen Anne's War",
           1709
          ],
          [
           "Queen Anne's War",
           1709
          ],
          [
           "War of 1812",
           1813
          ],
          [
           "War of 1812",
           1813
          ],
          [
           "War of 1812",
           1813
          ],
          [
           "War of 1812",
           1813
          ],
          [
           "French and Indian War",
           1755
          ],
          [
           "French and Indian War",
           1755
          ],
          [
           "King George's War",
           1746
          ],
          [
           "King George's War",
           1746
          ],
          [
           "King George's War",
           1746
          ],
          [
           "King George's War",
           1746
          ],
          [
           "King George's War",
           1746
          ],
          [
           "Father Le Loutre's War",
           1750
          ],
          [
           "Father Le Loutre's War",
           1750
          ],
          [
           "Father Le Loutre's War",
           1750
          ],
          [
           "Father Le Loutre's War",
           1750
          ],
          [
           "War of 1812",
           1814
          ],
          [
           "War of 1812",
           1814
          ],
          [
           "French and Indian War",
           1757
          ],
          [
           "French and Indian War",
           1757
          ],
          [
           "French and Indian War",
           1757
          ],
          [
           "French and Indian War",
           1757
          ],
          [
           "War of 1812",
           1812
          ],
          [
           "War of 1812",
           1812
          ],
          [
           "War of 1812",
           1813
          ],
          [
           "War of 1812",
           1813
          ],
          [
           "Queen Anne's War",
           1709
          ],
          [
           "Queen Anne's War",
           1709
          ],
          [
           "Fenian raids",
           1866
          ],
          [
           "Fenian raids",
           1866
          ],
          [
           "North-West Rebellion",
           1885
          ],
          [
           "North-West Rebellion",
           1885
          ],
          [
           "War of 1812",
           1814
          ],
          [
           "War of 1812",
           1814
          ],
          [
           "War of 1812",
           1814
          ],
          [
           "War of 1812",
           1814
          ],
          [
           "War of 1812",
           1814
          ],
          [
           "War of 1812",
           1814
          ],
          [
           "War of 1812",
           1812
          ],
          [
           "War of 1812",
           1812
          ],
          [
           "War of 1812",
           1812
          ],
          [
           "War of 1812",
           1812
          ],
          [
           "War of 1812",
           1814
          ],
          [
           "War of 1812",
           1814
          ],
          [
           "War of 1812",
           1814
          ],
          [
           "Father Rale's War",
           1724
          ],
          [
           "Father Rale's War",
           1724
          ],
          [
           "Upper Canada Rebellion",
           1838
          ],
          [
           "Upper Canada Rebellion",
           1838
          ],
          [
           "Upper Canada Rebellion",
           1838
          ],
          [
           "Upper Canada Rebellion",
           1838
          ],
          [
           "Upper Canada Rebellion",
           1838
          ],
          [
           "King William's War",
           1690
          ],
          [
           "King William's War",
           1690
          ],
          [
           "French and Indian War",
           1757
          ],
          [
           "French and Indian War",
           1757
          ],
          [
           "French and Indian War",
           1757
          ],
          [
           "Patriot War",
           1838
          ],
          [
           "Patriot War",
           1838
          ],
          [
           "Patriot War",
           1838
          ],
          [
           "Patriot War",
           1838
          ],
          [
           "French and Indian War",
           1757
          ],
          [
           "French and Indian War",
           1757
          ],
          [
           "French and Indian War",
           1757
          ],
          [
           "Seven Years' War",
           1755
          ],
          [
           "Seven Years' War",
           1755
          ],
          [
           "Seven Years' War",
           1755
          ],
          [
           "Seven Years' War",
           1755
          ],
          [
           "Seven Years' War",
           1755
          ],
          [
           "War of 1812",
           1813
          ],
          [
           "War of 1812",
           1813
          ],
          [
           "War of 1812",
           1813
          ],
          [
           "War of 1812",
           1813
          ],
          [
           "War of 1812",
           1813
          ],
          [
           "War of 1812",
           1813
          ],
          [
           "Seven Years' War",
           1759
          ],
          [
           "Seven Years' War",
           1759
          ],
          [
           "Seven Years' War",
           1759
          ],
          [
           "Seven Years' War",
           1760
          ],
          [
           "Seven Years' War",
           1760
          ],
          [
           "Seven Years' War",
           1760
          ],
          [
           "Seven Years' War",
           1758
          ],
          [
           "Seven Years' War",
           1758
          ],
          [
           "Seven Years' War",
           1758
          ],
          [
           "Seven Years' War",
           1758
          ],
          [
           "War of 1812",
           1813
          ],
          [
           "War of 1812",
           1813
          ],
          [
           "Father Le Loutre's War",
           1749
          ],
          [
           "Father Le Loutre's War",
           1749
          ],
          [
           "Father Le Loutre's War",
           1749
          ],
          [
           "Father Le Loutre's War",
           1751
          ],
          [
           "Father Le Loutre's War",
           1751
          ],
          [
           "Father Le Loutre's War",
           1751
          ],
          [
           "French and Indian War",
           1759
          ],
          [
           "French and Indian War",
           1759
          ],
          [
           "French and Indian War",
           1759
          ],
          [
           "Lower Canada Rebellion",
           1837
          ],
          [
           "Lower Canada Rebellion",
           1837
          ],
          [
           "War of 1812",
           1813
          ],
          [
           "War of 1812",
           1813
          ],
          [
           "War of 1812",
           1813
          ],
          [
           "War of 1812",
           1813
          ],
          [
           "War of 1812",
           1813
          ],
          [
           "War of 1812",
           1813
          ],
          [
           "Pemmican War",
           1816
          ],
          [
           "Pemmican War",
           1816
          ],
          [
           "Invasion of Canada (1775)",
           1776
          ],
          [
           "Invasion of Canada (1775)",
           1776
          ],
          [
           "Invasion of Canada (1775)",
           1776
          ],
          [
           "Invasion of Canada (1775)",
           1776
          ],
          [
           "Invasion of Canada (1775)",
           1776
          ],
          [
           "War of 1812",
           1814
          ],
          [
           "War of 1812",
           1814
          ],
          [
           "Seven Years' War",
           1762
          ],
          [
           "Seven Years' War",
           1762
          ],
          [
           "Fenian raids",
           1870
          ],
          [
           "Fenian raids",
           1870
          ],
          [
           "War of 1812",
           1814
          ],
          [
           "War of 1812",
           1814
          ],
          [
           "War of 1812",
           1814
          ],
          [
           "King William's War",
           1691
          ],
          [
           "King William's War",
           1691
          ],
          [
           "North-West Rebellion",
           1885
          ],
          [
           "North-West Rebellion",
           1885
          ],
          [
           "North-West Rebellion",
           1885
          ],
          [
           "North-West Rebellion",
           1885
          ],
          [
           "North-West Rebellion",
           1885
          ],
          [
           "North-West Rebellion",
           1885
          ],
          [
           "North-West Rebellion",
           1885
          ],
          [
           "North-West Rebellion",
           1885
          ],
          [
           "Seven Years' War",
           1760
          ],
          [
           "Seven Years' War",
           1760
          ],
          [
           "Seven Years' War",
           1760
          ],
          [
           "Seven Years' War",
           1760
          ],
          [
           "War of 1812",
           1813
          ],
          [
           "War of 1812",
           1813
          ],
          [
           "War of 1812",
           1813
          ],
          [
           "War of 1812",
           1814
          ],
          [
           "War of 1812",
           1814
          ],
          [
           "War of 1812",
           1814
          ],
          [
           "War of 1812",
           1813
          ],
          [
           "War of 1812",
           1813
          ],
          [
           "War of 1812",
           1813
          ],
          [
           "Upper Canada Rebellion",
           1837
          ],
          [
           "Upper Canada Rebellion",
           1837
          ],
          [
           "North-West Rebellion",
           1885
          ],
          [
           "North-West Rebellion",
           1885
          ],
          [
           "North-West Rebellion",
           1885
          ]
         ],
         "geo": "geo",
         "hovertemplate": "<b>%{hovertext}</b><br><br>casualties=%{marker.color}<br>lat=%{lat}<br>lng=%{lon}<br>war=%{customdata[0]}<br>year=%{customdata[1]}<extra></extra>",
         "hovertext": [
          "Battle of Lacolle Mills",
          "Battle of Lacolle Mills",
          "Battle of Lacolle Mills",
          "Battle of Frenchman's Creek",
          "Battle of Frenchman's Creek",
          "Battle of Frenchman's Creek",
          "Battle of Crysler's Farm",
          "Battle of Crysler's Farm",
          "Battle of Crysler's Farm",
          "Battle of River Canard",
          "Battle of River Canard",
          "Battle of Sorel",
          "Battle of Sorel",
          "Battle of Sorel",
          "Battle of Sorel",
          "Battle of Sorel",
          "Battle of the Lake of Two Mountains",
          "Battle of the Lake of Two Mountains",
          "Battle of Trout River",
          "Battle of Trout River",
          "Battle of Quebec",
          "Battle of Quebec",
          "Battle of Quebec",
          "Battle of Quebec",
          "Battle of Stoney Creek",
          "Battle of Stoney Creek",
          "Battle of Queenston Heights",
          "Battle of Queenston Heights",
          "Battle of Queenston Heights",
          "Battle of Plattsburgh",
          "Battle of Plattsburgh",
          "Battle of Plattsburgh",
          "Battle of Lacolle Mills",
          "Battle of Lacolle Mills",
          "Battle of Lacolle Mills",
          "Battle of Fort Beauséjour",
          "Battle of Fort Beauséjour",
          "Battle of Fort Beauséjour",
          "Battle of Fort Beauséjour",
          "Battle of Vinland",
          "Battle of Vinland",
          "Battle of Vinland",
          "Battle of Vinland",
          "Battle of Beauport",
          "Battle of Beauport",
          "Battle of Beauport",
          "Battle of Winnepang",
          "Battle of Winnepang",
          "Raid on Grand Pré",
          "Raid on Grand Pré",
          "Raid on Grand Pré",
          "Battle of Odelltown",
          "Battle of Odelltown",
          "Battle of Ogdensburg",
          "Battle of Ogdensburg",
          "Battle of Batoche",
          "Battle of Batoche",
          "Battle of Fort Dearborn",
          "Battle of Fort Dearborn",
          "Battle of Fort Bull",
          "Battle of Fort Bull",
          "Battle of Fort Bull",
          "Battle of Fort Niagara",
          "Battle of Fort Niagara",
          "Battle of Fort Niagara",
          "Battle of Fort Niagara",
          "Battle of Fort Niagara",
          "Battle of Fort Oswego",
          "Battle of Fort Oswego",
          "Battle of Fort Oswego",
          "Battle of Grand Pré",
          "Battle of Grand Pré",
          "Battle of Grand Pré",
          "Battle of Grand Pré",
          "Battle of Lacolle",
          "Battle of Lacolle",
          "Battle of Petitcodiac",
          "Battle of Petitcodiac",
          "Battle of Petitcodiac",
          "Battle of Petitcodiac",
          "Battle of Ridgeway",
          "Battle of Ridgeway",
          "Battle of Saint-Charles",
          "Battle of Saint-Charles",
          "Battle of Saint-Denis",
          "Battle of Saint-Denis",
          "Battle of Mackinac Island",
          "Battle of Mackinac Island",
          "Battle of Mackinac Island",
          "Battle of the Thousand Islands",
          "Battle of the Thousand Islands",
          "Battle of the Thousand Islands",
          "Battle of the Thousand Islands",
          "Battle of the Thousand Islands",
          "Battle of the Windmill",
          "Battle of the Windmill",
          "Battle of the Windmill",
          "Battle of the Windmill",
          "Battle of Devil's Hole",
          "Battle of Devil's Hole",
          "Battle of Devil's Hole",
          "Raid on Deerfield",
          "Raid on Deerfield",
          "Raid on Deerfield",
          "Raid on Deerfield",
          "Raid on Deerfield",
          "Raid on Deerfield",
          "Raid on Deerfield",
          "Siege of Louisbourg",
          "Siege of Louisbourg",
          "Siege of Louisbourg",
          "Siege of Louisbourg",
          "Siege of Louisbourg",
          "Battle of the Plains of Abraham",
          "Battle of the Plains of Abraham",
          "Battle of the Plains of Abraham",
          "Battle of the Plains of Abraham",
          "Battle of La Belle-Famille",
          "Battle of La Belle-Famille",
          "Battle of La Belle-Famille",
          "Battle of La Belle-Famille",
          "Battle of La Belle-Famille",
          "Battle of St. John's",
          "Battle of St. John's",
          "Battle of St. John's",
          "Battle of St. John's",
          "Battle of York",
          "Battle of York",
          "Battle of York",
          "Battle of York",
          "Action of 8 June 1755",
          "Action of 8 June 1755",
          "Battle at Port-la-Joye",
          "Battle at Port-la-Joye",
          "Battle at Port-la-Joye",
          "Battle at Port-la-Joye",
          "Battle at Port-la-Joye",
          "Battle at St. Croix",
          "Battle at St. Croix",
          "Battle at St. Croix",
          "Battle at St. Croix",
          "Battle of Big Sandy Creek",
          "Battle of Big Sandy Creek",
          "Battle of Bloody Creek",
          "Battle of Bloody Creek",
          "Battle of Bloody Creek",
          "Battle of Bloody Creek",
          "Battle of Brownstown",
          "Battle of Brownstown",
          "Battle of Buffalo",
          "Battle of Buffalo",
          "Battle of Fort Albany",
          "Battle of Fort Albany",
          "Battle of Fort Erie",
          "Battle of Fort Erie",
          "Battle of Fort Pitt",
          "Battle of Fort Pitt",
          "Battle of Hampden",
          "Battle of Hampden",
          "Battle of Longwoods",
          "Battle of Longwoods",
          "Battle of Longwoods",
          "Battle of Longwoods",
          "Battle of Maguaga",
          "Battle of Maguaga",
          "Battle of Maguaga",
          "Battle of Maguaga",
          "Battle of Malcolm's Mills",
          "Battle of Malcolm's Mills",
          "Battle of Malcolm's Mills",
          "Battle of Norridgewock",
          "Battle of Norridgewock",
          "Battle of Pelee Island",
          "Battle of Pelee Island",
          "Battle of Pelee Island",
          "Battle of Pelee Island",
          "Battle of Pelee Island",
          "Battle of Port Royal",
          "Battle of Port Royal",
          "Battle of Sabbath Day Point",
          "Battle of Sabbath Day Point",
          "Battle of Sabbath Day Point",
          "Battle of Windsor",
          "Battle of Windsor",
          "Battle of Windsor",
          "Battle of Windsor",
          "Battle on Snowshoes",
          "Battle on Snowshoes",
          "Battle on Snowshoes",
          "Battle of Lake George",
          "Battle of Lake George",
          "Battle of Lake George",
          "Battle of Lake George",
          "Battle of Lake George",
          "Battle of Frenchtown",
          "Battle of Frenchtown",
          "Battle of Frenchtown",
          "Battle of the Thames",
          "Battle of the Thames",
          "Battle of the Thames",
          "Battle of Ticonderoga",
          "Battle of Ticonderoga",
          "Battle of Ticonderoga",
          "Battle of Sainte-Foy",
          "Battle of Sainte-Foy",
          "Battle of Sainte-Foy",
          "Battle of Carillon",
          "Battle of Carillon",
          "Battle of Carillon",
          "Battle of Carillon",
          "Raid on Black Rock",
          "Raid on Black Rock",
          "Raid on Dartmouth",
          "Raid on Dartmouth",
          "Raid on Dartmouth",
          "Raid on Dartmouth",
          "Raid on Dartmouth",
          "Raid on Dartmouth",
          "St. Francis Raid",
          "St. Francis Raid",
          "St. Francis Raid",
          "Battle of Saint-Eustache",
          "Battle of Saint-Eustache",
          "Battle of Lake Erie",
          "Battle of Lake Erie",
          "Battle of the Chateauguay",
          "Battle of the Chateauguay",
          "Battle of the Chateauguay",
          "Battle of the Chateauguay",
          "Battle of Seven Oaks",
          "Battle of Seven Oaks",
          "Battle of The Cedars",
          "Battle of The Cedars",
          "Battle of The Cedars",
          "Battle of The Cedars",
          "Battle of The Cedars",
          "Battle of Chippawa",
          "Battle of Chippawa",
          "Battle of Signal Hill",
          "Battle of Signal Hill",
          "Battle of Eccles Hill",
          "Battle of Eccles Hill",
          "Battle of Cook's Mills",
          "Battle of Cook's Mills",
          "Battle of Cook's Mills",
          "Battle of La Prairie",
          "Battle of La Prairie",
          "Battle of Loon Lake",
          "Battle of Loon Lake",
          "Battle of Fish Creek",
          "Battle of Fish Creek",
          "Battle of Fish Creek",
          "Battle of Fish Creek",
          "Battle of Duck Lake",
          "Battle of Duck Lake",
          "Battle of Restigouche",
          "Battle of Restigouche",
          "Battle of Restigouche",
          "Battle of Restigouche",
          "Battle of Fort George",
          "Battle of Fort George",
          "Battle of Fort George",
          "Battle of Lundy's Lane",
          "Battle of Lundy's Lane",
          "Battle of Lundy's Lane",
          "Battle of Beaver Dams",
          "Battle of Beaver Dams",
          "Battle of Beaver Dams",
          "Battle of Montgomery's Tavern",
          "Battle of Montgomery's Tavern",
          "Battle of Cut Knife",
          "Battle of Cut Knife",
          "Battle of Cut Knife"
         ],
         "lat": [
          45.081309,
          45.081309,
          45.081309,
          42.94227,
          42.94227,
          42.94227,
          44.941977777778,
          44.941977777778,
          44.941977777778,
          42.1884,
          42.1884,
          46.0333,
          46.0333,
          46.0333,
          46.0333,
          46.0333,
          45.45,
          45.45,
          45.087337493896484,
          45.087337493896484,
          46.9667,
          46.9667,
          46.9667,
          46.9667,
          43.218333333333,
          43.218333333333,
          43.16192,
          43.16192,
          43.16192,
          44.6804,
          44.6804,
          44.6804,
          45.067564,
          45.067564,
          45.067564,
          45.86550833,
          45.86550833,
          45.86550833,
          45.86550833,
          49.12120819091797,
          49.12120819091797,
          49.12120819091797,
          49.12120819091797,
          46.89018,
          46.89018,
          46.89018,
          44.77555556,
          44.77555556,
          45.10503889,
          45.10503889,
          45.10503889,
          45.0355,
          45.0355,
          44.69428634643555,
          44.69428634643555,
          52.75600814819336,
          52.75600814819336,
          41.857777777778,
          41.857777777778,
          43.22416667,
          43.22416667,
          43.22416667,
          43.26269,
          43.26269,
          43.26269,
          43.26269,
          43.26269,
          43.461666666667,
          43.461666666667,
          43.461666666667,
          45.1011,
          45.1011,
          45.1011,
          45.1011,
          45.083333,
          45.083333,
          45.93222222,
          45.93222222,
          45.93222222,
          45.93222222,
          42.90434,
          42.90434,
          45.683333,
          45.683333,
          45.7861328125,
          45.7861328125,
          45.853056,
          45.853056,
          45.853056,
          44.33388889,
          44.33388889,
          44.33388889,
          44.33388889,
          44.33388889,
          44.7209,
          44.7209,
          44.7209,
          44.7209,
          43.13388889,
          43.13388889,
          43.13388889,
          42.5486,
          42.5486,
          42.5486,
          42.5486,
          42.5486,
          42.5486,
          42.5486,
          45.92138889,
          45.92138889,
          45.92138889,
          45.92138889,
          45.92138889,
          46.803,
          46.803,
          46.803,
          46.803,
          43.261329650878906,
          43.261329650878906,
          43.261329650878906,
          43.261329650878906,
          43.261329650878906,
          47.5708,
          47.5708,
          47.5708,
          47.5708,
          43.63887,
          43.63887,
          43.63887,
          43.63887,
          46.0587,
          46.0587,
          46.197222,
          46.197222,
          46.197222,
          46.197222,
          46.197222,
          44.96191667,
          44.96191667,
          44.96191667,
          44.96191667,
          43.732845306396484,
          43.732845306396484,
          44.8224,
          44.8224,
          44.8224,
          44.8224,
          42.094417,
          42.094417,
          42.9364,
          42.9364,
          52.2511,
          52.2511,
          42.89667,
          42.89667,
          53.65018,
          53.65018,
          44.74451446533203,
          44.74451446533203,
          42.69416667,
          42.69416667,
          42.69416667,
          42.69416667,
          42.13609,
          42.13609,
          42.13609,
          42.13609,
          43.028469,
          43.028469,
          43.028469,
          44.767,
          44.767,
          41.7667,
          41.7667,
          41.7667,
          41.7667,
          41.7667,
          44.7111,
          44.7111,
          43.6675,
          43.6675,
          43.6675,
          42.283333333333,
          42.283333333333,
          42.283333333333,
          42.283333333333,
          43.84138889,
          43.84138889,
          43.84138889,
          43.429,
          43.429,
          43.429,
          43.429,
          43.429,
          41.913611111111,
          41.913611111111,
          41.913611111111,
          42.5625,
          42.5625,
          42.5625,
          43.841388888889,
          43.841388888889,
          43.841388888889,
          46.802333333333,
          46.802333333333,
          46.802333333333,
          43.841666666667,
          43.841666666667,
          43.841666666667,
          43.841666666667,
          42.928117,
          42.928117,
          44.6639,
          44.6639,
          44.6639,
          44.6929,
          44.6929,
          44.6929,
          46.0661,
          46.0661,
          46.0661,
          45.5575,
          45.5575,
          41.662222,
          41.662222,
          45.15861129760742,
          45.15861129760742,
          45.15861129760742,
          45.15861129760742,
          49.93199920654297,
          49.93199920654297,
          45.30622100830078,
          45.30622100830078,
          45.30622100830078,
          45.30622100830078,
          45.30622100830078,
          43.05212783813477,
          43.05212783813477,
          47.56972122192383,
          47.56972122192383,
          45.01992797851562,
          45.01992797851562,
          42.99789047241211,
          42.99789047241211,
          42.99789047241211,
          45.40370178222656,
          45.40370178222656,
          54.04055404663086,
          54.04055404663086,
          52.60194396972656,
          52.60194396972656,
          52.60194396972656,
          52.60194396972656,
          52.81650924682617,
          52.81650924682617,
          48.00472259521484,
          48.00472259521484,
          48.00472259521484,
          48.00472259521484,
          43.25075149536133,
          43.25075149536133,
          43.25075149536133,
          43.08915328979492,
          43.08915328979492,
          43.08915328979492,
          43.11780166625977,
          43.11780166625977,
          43.11780166625977,
          43.70949935913086,
          43.70949935913086,
          52.74530792236328,
          52.74530792236328,
          52.74530792236328
         ],
         "legendgroup": "",
         "lon": [
          -73.372633,
          -73.372633,
          -73.372633,
          -78.92645,
          -78.92645,
          -78.92645,
          -75.070172222222,
          -75.070172222222,
          -75.070172222222,
          -83.0925,
          -83.0925,
          -73.1167,
          -73.1167,
          -73.1167,
          -73.1167,
          -73.1167,
          -73.94,
          -73.94,
          -74.1738510131836,
          -74.1738510131836,
          -71.2667,
          -71.2667,
          -71.2667,
          -71.2667,
          -79.764166666667,
          -79.764166666667,
          -79.05049,
          -79.05049,
          -79.05049,
          -73.3756,
          -73.3756,
          -73.3756,
          -73.343809,
          -73.343809,
          -73.343809,
          -64.29079167,
          -64.29079167,
          -64.29079167,
          -64.29079167,
          -56.69629669189453,
          -56.69629669189453,
          -56.69629669189453,
          -56.69629669189453,
          -71.14726,
          -71.14726,
          -71.14726,
          -63.05527778,
          -63.05527778,
          -64.29868333,
          -64.29868333,
          -64.29868333,
          -73.390639,
          -73.390639,
          -75.48637390136719,
          -75.48637390136719,
          -106.11793518066406,
          -106.11793518066406,
          -87.619166666667,
          -87.619166666667,
          -75.5025,
          -75.5025,
          -75.5025,
          -79.06331,
          -79.06331,
          -79.06331,
          -79.06331,
          -79.06331,
          -76.514166666667,
          -76.514166666667,
          -76.514166666667,
          -64.3072,
          -64.3072,
          -64.3072,
          -64.3072,
          -73.366667,
          -73.366667,
          -65.17472222,
          -65.17472222,
          -65.17472222,
          -65.17472222,
          -79.04164,
          -79.04164,
          -73.183333,
          -73.183333,
          -73.15717315673828,
          -73.15717315673828,
          -84.6175,
          -84.6175,
          -84.6175,
          -75.99472222,
          -75.99472222,
          -75.99472222,
          -75.99472222,
          -75.99472222,
          -75.4871,
          -75.4871,
          -75.4871,
          -75.4871,
          -79.04555556,
          -79.04555556,
          -79.04555556,
          -72.6071,
          -72.6071,
          -72.6071,
          -72.6071,
          -72.6071,
          -72.6071,
          -72.6071,
          -59.97027778,
          -59.97027778,
          -59.97027778,
          -59.97027778,
          -59.97027778,
          -71.215,
          -71.215,
          -71.215,
          -71.215,
          -79.0535659790039,
          -79.0535659790039,
          -79.0535659790039,
          -79.0535659790039,
          -79.0535659790039,
          -52.6991,
          -52.6991,
          -52.6991,
          -52.6991,
          -79.40403,
          -79.40403,
          -79.40403,
          -79.40403,
          -53.5029,
          -53.5029,
          -63.136944,
          -63.136944,
          -63.136944,
          -63.136944,
          -63.136944,
          -64.03377778,
          -64.03377778,
          -64.03377778,
          -64.03377778,
          -76.13603973388672,
          -76.13603973388672,
          -65.3095,
          -65.3095,
          -65.3095,
          -65.3095,
          -83.199168,
          -83.199168,
          -78.8978,
          -78.8978,
          -81.5011,
          -81.5011,
          -78.92515,
          -78.92515,
          -109.75154,
          -109.75154,
          -68.83698272705078,
          -68.83698272705078,
          -81.705,
          -81.705,
          -81.705,
          -81.705,
          -83.18285,
          -83.18285,
          -83.18285,
          -83.18285,
          -80.330089,
          -80.330089,
          -80.330089,
          -69.883306,
          -69.883306,
          -82.6409,
          -82.6409,
          -82.6409,
          -82.6409,
          -82.6409,
          -65.61,
          -65.61,
          -73.5139,
          -73.5139,
          -73.5139,
          -83,
          -83,
          -83,
          -83,
          -73.3875,
          -73.3875,
          -73.3875,
          -73.68,
          -73.68,
          -73.68,
          -73.68,
          -73.68,
          -83.378333333333,
          -83.378333333333,
          -83.378333333333,
          -81.931388888889,
          -81.931388888889,
          -81.931388888889,
          -73.388055555556,
          -73.388055555556,
          -73.388055555556,
          -71.242138888889,
          -71.242138888889,
          -71.242138888889,
          -73.3875,
          -73.3875,
          -73.3875,
          -73.3875,
          -78.898058,
          -78.898058,
          -63.5682,
          -63.5682,
          -63.5682,
          -63.6,
          -63.6,
          -63.6,
          -72.8261,
          -72.8261,
          -72.8261,
          -73.8897,
          -73.8897,
          -82.825,
          -82.825,
          -73.9286117553711,
          -73.9286117553711,
          -73.9286117553711,
          -73.9286117553711,
          -97.12100219726562,
          -97.12100219726562,
          -74.05461120605469,
          -74.05461120605469,
          -74.05461120605469,
          -74.05461120605469,
          -74.05461120605469,
          -79.02471923828125,
          -79.02471923828125,
          -52.68194580078125,
          -52.68194580078125,
          -72.9043960571289,
          -72.9043960571289,
          -79.17491149902344,
          -79.17491149902344,
          -79.17491149902344,
          -73.4543685913086,
          -73.4543685913086,
          -109.0008316040039,
          -109.0008316040039,
          -105.9472198486328,
          -105.9472198486328,
          -105.9472198486328,
          -105.9472198486328,
          -106.2327270507812,
          -106.2327270507812,
          -66.72083282470703,
          -66.72083282470703,
          -66.72083282470703,
          -66.72083282470703,
          -79.06111145019531,
          -79.06111145019531,
          -79.06111145019531,
          -79.095458984375,
          -79.095458984375,
          -79.095458984375,
          -79.1854019165039,
          -79.1854019165039,
          -79.1854019165039,
          -79.39900207519531,
          -79.39900207519531,
          -109.0277633666992,
          -109.0277633666992,
          -109.0277633666992
         ],
         "marker": {
          "color": [
           10,
           10,
           10,
           209,
           209,
           209,
           600,
           600,
           600,
           2,
           2,
           182,
           182,
           182,
           182,
           182,
           21,
           21,
           4,
           4,
           1169,
           1169,
           1169,
           1169,
           371,
           371,
           1253,
           1253,
           1253,
           1159,
           1159,
           1159,
           213,
           213,
           213,
           34,
           34,
           34,
           34,
           63,
           63,
           63,
           63,
           503,
           503,
           503,
           40,
           40,
           57,
           57,
           57,
           40,
           40,
           146,
           146,
           100,
           100,
           108,
           108,
           114,
           114,
           114,
           725,
           725,
           725,
           725,
           725,
           1840,
           1840,
           1840,
           190,
           190,
           190,
           190,
           10,
           10,
           85,
           85,
           85,
           85,
           77,
           77,
           77,
           77,
           80,
           80,
           70,
           70,
           70,
           373,
           373,
           373,
           373,
           373,
           327,
           327,
           327,
           327,
           112,
           112,
           112,
           195,
           195,
           195,
           195,
           195,
           195,
           195,
           7532,
           7532,
           7532,
           7532,
           7532,
           1724,
           1724,
           1724,
           1724,
           500,
           500,
           500,
           500,
           500,
           494,
           494,
           494,
           494,
           795,
           795,
           795,
           795,
           2162,
           2162,
           85,
           85,
           85,
           85,
           85,
           4,
           4,
           4,
           4,
           155,
           155,
           36,
           36,
           36,
           36,
           101,
           101,
           281,
           281,
           20,
           20,
           83,
           83,
           6,
           6,
           128,
           128,
           74,
           74,
           74,
           74,
           111,
           111,
           111,
           111,
           610,
           610,
           610,
           83,
           83,
           73,
           73,
           73,
           73,
           73,
           60,
           60,
           251,
           251,
           251,
           90,
           90,
           90,
           90,
           67,
           67,
           67,
           680,
           680,
           680,
           680,
           680,
           1262,
           1262,
           1262,
           1070,
           1070,
           1070,
           76,
           76,
           76,
           1921,
           1921,
           1921,
           3350,
           3350,
           3350,
           3350,
           53,
           53,
           9,
           9,
           9,
           16,
           16,
           16,
           190,
           190,
           190,
           193,
           193,
           563,
           563,
           107,
           107,
           107,
           107,
           22,
           22,
           505,
           505,
           505,
           505,
           505,
           863,
           863,
           64,
           64,
           20,
           20,
           103,
           103,
           103,
           173,
           173,
           100,
           100,
           79,
           79,
           79,
           79,
           32,
           32,
           50,
           50,
           50,
           50,
           750,
           750,
           750,
           1720,
           1720,
           1720,
           569,
           569,
           569,
           14,
           14,
           30,
           30,
           30
          ],
          "coloraxis": "coloraxis",
          "size": [
           10,
           10,
           10,
           209,
           209,
           209,
           600,
           600,
           600,
           2,
           2,
           182,
           182,
           182,
           182,
           182,
           21,
           21,
           4,
           4,
           1169,
           1169,
           1169,
           1169,
           371,
           371,
           1253,
           1253,
           1253,
           1159,
           1159,
           1159,
           213,
           213,
           213,
           34,
           34,
           34,
           34,
           63,
           63,
           63,
           63,
           503,
           503,
           503,
           40,
           40,
           57,
           57,
           57,
           40,
           40,
           146,
           146,
           100,
           100,
           108,
           108,
           114,
           114,
           114,
           725,
           725,
           725,
           725,
           725,
           1840,
           1840,
           1840,
           190,
           190,
           190,
           190,
           10,
           10,
           85,
           85,
           85,
           85,
           77,
           77,
           77,
           77,
           80,
           80,
           70,
           70,
           70,
           373,
           373,
           373,
           373,
           373,
           327,
           327,
           327,
           327,
           112,
           112,
           112,
           195,
           195,
           195,
           195,
           195,
           195,
           195,
           7532,
           7532,
           7532,
           7532,
           7532,
           1724,
           1724,
           1724,
           1724,
           500,
           500,
           500,
           500,
           500,
           494,
           494,
           494,
           494,
           795,
           795,
           795,
           795,
           2162,
           2162,
           85,
           85,
           85,
           85,
           85,
           4,
           4,
           4,
           4,
           155,
           155,
           36,
           36,
           36,
           36,
           101,
           101,
           281,
           281,
           20,
           20,
           83,
           83,
           6,
           6,
           128,
           128,
           74,
           74,
           74,
           74,
           111,
           111,
           111,
           111,
           610,
           610,
           610,
           83,
           83,
           73,
           73,
           73,
           73,
           73,
           60,
           60,
           251,
           251,
           251,
           90,
           90,
           90,
           90,
           67,
           67,
           67,
           680,
           680,
           680,
           680,
           680,
           1262,
           1262,
           1262,
           1070,
           1070,
           1070,
           76,
           76,
           76,
           1921,
           1921,
           1921,
           3350,
           3350,
           3350,
           3350,
           53,
           53,
           9,
           9,
           9,
           16,
           16,
           16,
           190,
           190,
           190,
           193,
           193,
           563,
           563,
           107,
           107,
           107,
           107,
           22,
           22,
           505,
           505,
           505,
           505,
           505,
           863,
           863,
           64,
           64,
           20,
           20,
           103,
           103,
           103,
           173,
           173,
           100,
           100,
           79,
           79,
           79,
           79,
           32,
           32,
           50,
           50,
           50,
           50,
           750,
           750,
           750,
           1720,
           1720,
           1720,
           569,
           569,
           569,
           14,
           14,
           30,
           30,
           30
          ],
          "sizemode": "area",
          "sizeref": 8.36888888888889,
          "symbol": "circle"
         },
         "mode": "markers",
         "name": "",
         "showlegend": false,
         "type": "scattergeo"
        }
       ],
       "layout": {
        "coloraxis": {
         "colorbar": {
          "title": {
           "text": "casualties"
          }
         },
         "colorscale": [
          [
           0,
           "#0d0887"
          ],
          [
           0.1111111111111111,
           "#46039f"
          ],
          [
           0.2222222222222222,
           "#7201a8"
          ],
          [
           0.3333333333333333,
           "#9c179e"
          ],
          [
           0.4444444444444444,
           "#bd3786"
          ],
          [
           0.5555555555555556,
           "#d8576b"
          ],
          [
           0.6666666666666666,
           "#ed7953"
          ],
          [
           0.7777777777777778,
           "#fb9f3a"
          ],
          [
           0.8888888888888888,
           "#fdca26"
          ],
          [
           1,
           "#f0f921"
          ]
         ]
        },
        "geo": {
         "center": {},
         "domain": {
          "x": [
           0,
           1
          ],
          "y": [
           0,
           1
          ]
         },
         "fitbounds": "locations"
        },
        "height": 800,
        "legend": {
         "itemsizing": "constant",
         "tracegroupgap": 0
        },
        "template": {
         "data": {
          "bar": [
           {
            "error_x": {
             "color": "#2a3f5f"
            },
            "error_y": {
             "color": "#2a3f5f"
            },
            "marker": {
             "line": {
              "color": "#E5ECF6",
              "width": 0.5
             },
             "pattern": {
              "fillmode": "overlay",
              "size": 10,
              "solidity": 0.2
             }
            },
            "type": "bar"
           }
          ],
          "barpolar": [
           {
            "marker": {
             "line": {
              "color": "#E5ECF6",
              "width": 0.5
             },
             "pattern": {
              "fillmode": "overlay",
              "size": 10,
              "solidity": 0.2
             }
            },
            "type": "barpolar"
           }
          ],
          "carpet": [
           {
            "aaxis": {
             "endlinecolor": "#2a3f5f",
             "gridcolor": "white",
             "linecolor": "white",
             "minorgridcolor": "white",
             "startlinecolor": "#2a3f5f"
            },
            "baxis": {
             "endlinecolor": "#2a3f5f",
             "gridcolor": "white",
             "linecolor": "white",
             "minorgridcolor": "white",
             "startlinecolor": "#2a3f5f"
            },
            "type": "carpet"
           }
          ],
          "choropleth": [
           {
            "colorbar": {
             "outlinewidth": 0,
             "ticks": ""
            },
            "type": "choropleth"
           }
          ],
          "contour": [
           {
            "colorbar": {
             "outlinewidth": 0,
             "ticks": ""
            },
            "colorscale": [
             [
              0,
              "#0d0887"
             ],
             [
              0.1111111111111111,
              "#46039f"
             ],
             [
              0.2222222222222222,
              "#7201a8"
             ],
             [
              0.3333333333333333,
              "#9c179e"
             ],
             [
              0.4444444444444444,
              "#bd3786"
             ],
             [
              0.5555555555555556,
              "#d8576b"
             ],
             [
              0.6666666666666666,
              "#ed7953"
             ],
             [
              0.7777777777777778,
              "#fb9f3a"
             ],
             [
              0.8888888888888888,
              "#fdca26"
             ],
             [
              1,
              "#f0f921"
             ]
            ],
            "type": "contour"
           }
          ],
          "contourcarpet": [
           {
            "colorbar": {
             "outlinewidth": 0,
             "ticks": ""
            },
            "type": "contourcarpet"
           }
          ],
          "heatmap": [
           {
            "colorbar": {
             "outlinewidth": 0,
             "ticks": ""
            },
            "colorscale": [
             [
              0,
              "#0d0887"
             ],
             [
              0.1111111111111111,
              "#46039f"
             ],
             [
              0.2222222222222222,
              "#7201a8"
             ],
             [
              0.3333333333333333,
              "#9c179e"
             ],
             [
              0.4444444444444444,
              "#bd3786"
             ],
             [
              0.5555555555555556,
              "#d8576b"
             ],
             [
              0.6666666666666666,
              "#ed7953"
             ],
             [
              0.7777777777777778,
              "#fb9f3a"
             ],
             [
              0.8888888888888888,
              "#fdca26"
             ],
             [
              1,
              "#f0f921"
             ]
            ],
            "type": "heatmap"
           }
          ],
          "heatmapgl": [
           {
            "colorbar": {
             "outlinewidth": 0,
             "ticks": ""
            },
            "colorscale": [
             [
              0,
              "#0d0887"
             ],
             [
              0.1111111111111111,
              "#46039f"
             ],
             [
              0.2222222222222222,
              "#7201a8"
             ],
             [
              0.3333333333333333,
              "#9c179e"
             ],
             [
              0.4444444444444444,
              "#bd3786"
             ],
             [
              0.5555555555555556,
              "#d8576b"
             ],
             [
              0.6666666666666666,
              "#ed7953"
             ],
             [
              0.7777777777777778,
              "#fb9f3a"
             ],
             [
              0.8888888888888888,
              "#fdca26"
             ],
             [
              1,
              "#f0f921"
             ]
            ],
            "type": "heatmapgl"
           }
          ],
          "histogram": [
           {
            "marker": {
             "pattern": {
              "fillmode": "overlay",
              "size": 10,
              "solidity": 0.2
             }
            },
            "type": "histogram"
           }
          ],
          "histogram2d": [
           {
            "colorbar": {
             "outlinewidth": 0,
             "ticks": ""
            },
            "colorscale": [
             [
              0,
              "#0d0887"
             ],
             [
              0.1111111111111111,
              "#46039f"
             ],
             [
              0.2222222222222222,
              "#7201a8"
             ],
             [
              0.3333333333333333,
              "#9c179e"
             ],
             [
              0.4444444444444444,
              "#bd3786"
             ],
             [
              0.5555555555555556,
              "#d8576b"
             ],
             [
              0.6666666666666666,
              "#ed7953"
             ],
             [
              0.7777777777777778,
              "#fb9f3a"
             ],
             [
              0.8888888888888888,
              "#fdca26"
             ],
             [
              1,
              "#f0f921"
             ]
            ],
            "type": "histogram2d"
           }
          ],
          "histogram2dcontour": [
           {
            "colorbar": {
             "outlinewidth": 0,
             "ticks": ""
            },
            "colorscale": [
             [
              0,
              "#0d0887"
             ],
             [
              0.1111111111111111,
              "#46039f"
             ],
             [
              0.2222222222222222,
              "#7201a8"
             ],
             [
              0.3333333333333333,
              "#9c179e"
             ],
             [
              0.4444444444444444,
              "#bd3786"
             ],
             [
              0.5555555555555556,
              "#d8576b"
             ],
             [
              0.6666666666666666,
              "#ed7953"
             ],
             [
              0.7777777777777778,
              "#fb9f3a"
             ],
             [
              0.8888888888888888,
              "#fdca26"
             ],
             [
              1,
              "#f0f921"
             ]
            ],
            "type": "histogram2dcontour"
           }
          ],
          "mesh3d": [
           {
            "colorbar": {
             "outlinewidth": 0,
             "ticks": ""
            },
            "type": "mesh3d"
           }
          ],
          "parcoords": [
           {
            "line": {
             "colorbar": {
              "outlinewidth": 0,
              "ticks": ""
             }
            },
            "type": "parcoords"
           }
          ],
          "pie": [
           {
            "automargin": true,
            "type": "pie"
           }
          ],
          "scatter": [
           {
            "fillpattern": {
             "fillmode": "overlay",
             "size": 10,
             "solidity": 0.2
            },
            "type": "scatter"
           }
          ],
          "scatter3d": [
           {
            "line": {
             "colorbar": {
              "outlinewidth": 0,
              "ticks": ""
             }
            },
            "marker": {
             "colorbar": {
              "outlinewidth": 0,
              "ticks": ""
             }
            },
            "type": "scatter3d"
           }
          ],
          "scattercarpet": [
           {
            "marker": {
             "colorbar": {
              "outlinewidth": 0,
              "ticks": ""
             }
            },
            "type": "scattercarpet"
           }
          ],
          "scattergeo": [
           {
            "marker": {
             "colorbar": {
              "outlinewidth": 0,
              "ticks": ""
             }
            },
            "type": "scattergeo"
           }
          ],
          "scattergl": [
           {
            "marker": {
             "colorbar": {
              "outlinewidth": 0,
              "ticks": ""
             }
            },
            "type": "scattergl"
           }
          ],
          "scattermapbox": [
           {
            "marker": {
             "colorbar": {
              "outlinewidth": 0,
              "ticks": ""
             }
            },
            "type": "scattermapbox"
           }
          ],
          "scatterpolar": [
           {
            "marker": {
             "colorbar": {
              "outlinewidth": 0,
              "ticks": ""
             }
            },
            "type": "scatterpolar"
           }
          ],
          "scatterpolargl": [
           {
            "marker": {
             "colorbar": {
              "outlinewidth": 0,
              "ticks": ""
             }
            },
            "type": "scatterpolargl"
           }
          ],
          "scatterternary": [
           {
            "marker": {
             "colorbar": {
              "outlinewidth": 0,
              "ticks": ""
             }
            },
            "type": "scatterternary"
           }
          ],
          "surface": [
           {
            "colorbar": {
             "outlinewidth": 0,
             "ticks": ""
            },
            "colorscale": [
             [
              0,
              "#0d0887"
             ],
             [
              0.1111111111111111,
              "#46039f"
             ],
             [
              0.2222222222222222,
              "#7201a8"
             ],
             [
              0.3333333333333333,
              "#9c179e"
             ],
             [
              0.4444444444444444,
              "#bd3786"
             ],
             [
              0.5555555555555556,
              "#d8576b"
             ],
             [
              0.6666666666666666,
              "#ed7953"
             ],
             [
              0.7777777777777778,
              "#fb9f3a"
             ],
             [
              0.8888888888888888,
              "#fdca26"
             ],
             [
              1,
              "#f0f921"
             ]
            ],
            "type": "surface"
           }
          ],
          "table": [
           {
            "cells": {
             "fill": {
              "color": "#EBF0F8"
             },
             "line": {
              "color": "white"
             }
            },
            "header": {
             "fill": {
              "color": "#C8D4E3"
             },
             "line": {
              "color": "white"
             }
            },
            "type": "table"
           }
          ]
         },
         "layout": {
          "annotationdefaults": {
           "arrowcolor": "#2a3f5f",
           "arrowhead": 0,
           "arrowwidth": 1
          },
          "autotypenumbers": "strict",
          "coloraxis": {
           "colorbar": {
            "outlinewidth": 0,
            "ticks": ""
           }
          },
          "colorscale": {
           "diverging": [
            [
             0,
             "#8e0152"
            ],
            [
             0.1,
             "#c51b7d"
            ],
            [
             0.2,
             "#de77ae"
            ],
            [
             0.3,
             "#f1b6da"
            ],
            [
             0.4,
             "#fde0ef"
            ],
            [
             0.5,
             "#f7f7f7"
            ],
            [
             0.6,
             "#e6f5d0"
            ],
            [
             0.7,
             "#b8e186"
            ],
            [
             0.8,
             "#7fbc41"
            ],
            [
             0.9,
             "#4d9221"
            ],
            [
             1,
             "#276419"
            ]
           ],
           "sequential": [
            [
             0,
             "#0d0887"
            ],
            [
             0.1111111111111111,
             "#46039f"
            ],
            [
             0.2222222222222222,
             "#7201a8"
            ],
            [
             0.3333333333333333,
             "#9c179e"
            ],
            [
             0.4444444444444444,
             "#bd3786"
            ],
            [
             0.5555555555555556,
             "#d8576b"
            ],
            [
             0.6666666666666666,
             "#ed7953"
            ],
            [
             0.7777777777777778,
             "#fb9f3a"
            ],
            [
             0.8888888888888888,
             "#fdca26"
            ],
            [
             1,
             "#f0f921"
            ]
           ],
           "sequentialminus": [
            [
             0,
             "#0d0887"
            ],
            [
             0.1111111111111111,
             "#46039f"
            ],
            [
             0.2222222222222222,
             "#7201a8"
            ],
            [
             0.3333333333333333,
             "#9c179e"
            ],
            [
             0.4444444444444444,
             "#bd3786"
            ],
            [
             0.5555555555555556,
             "#d8576b"
            ],
            [
             0.6666666666666666,
             "#ed7953"
            ],
            [
             0.7777777777777778,
             "#fb9f3a"
            ],
            [
             0.8888888888888888,
             "#fdca26"
            ],
            [
             1,
             "#f0f921"
            ]
           ]
          },
          "colorway": [
           "#636efa",
           "#EF553B",
           "#00cc96",
           "#ab63fa",
           "#FFA15A",
           "#19d3f3",
           "#FF6692",
           "#B6E880",
           "#FF97FF",
           "#FECB52"
          ],
          "font": {
           "color": "#2a3f5f"
          },
          "geo": {
           "bgcolor": "white",
           "lakecolor": "white",
           "landcolor": "#E5ECF6",
           "showlakes": true,
           "showland": true,
           "subunitcolor": "white"
          },
          "hoverlabel": {
           "align": "left"
          },
          "hovermode": "closest",
          "mapbox": {
           "style": "light"
          },
          "paper_bgcolor": "white",
          "plot_bgcolor": "#E5ECF6",
          "polar": {
           "angularaxis": {
            "gridcolor": "white",
            "linecolor": "white",
            "ticks": ""
           },
           "bgcolor": "#E5ECF6",
           "radialaxis": {
            "gridcolor": "white",
            "linecolor": "white",
            "ticks": ""
           }
          },
          "scene": {
           "xaxis": {
            "backgroundcolor": "#E5ECF6",
            "gridcolor": "white",
            "gridwidth": 2,
            "linecolor": "white",
            "showbackground": true,
            "ticks": "",
            "zerolinecolor": "white"
           },
           "yaxis": {
            "backgroundcolor": "#E5ECF6",
            "gridcolor": "white",
            "gridwidth": 2,
            "linecolor": "white",
            "showbackground": true,
            "ticks": "",
            "zerolinecolor": "white"
           },
           "zaxis": {
            "backgroundcolor": "#E5ECF6",
            "gridcolor": "white",
            "gridwidth": 2,
            "linecolor": "white",
            "showbackground": true,
            "ticks": "",
            "zerolinecolor": "white"
           }
          },
          "shapedefaults": {
           "line": {
            "color": "#2a3f5f"
           }
          },
          "ternary": {
           "aaxis": {
            "gridcolor": "white",
            "linecolor": "white",
            "ticks": ""
           },
           "baxis": {
            "gridcolor": "white",
            "linecolor": "white",
            "ticks": ""
           },
           "bgcolor": "#E5ECF6",
           "caxis": {
            "gridcolor": "white",
            "linecolor": "white",
            "ticks": ""
           }
          },
          "title": {
           "x": 0.05
          },
          "xaxis": {
           "automargin": true,
           "gridcolor": "white",
           "linecolor": "white",
           "ticks": "",
           "title": {
            "standoff": 15
           },
           "zerolinecolor": "white",
           "zerolinewidth": 2
          },
          "yaxis": {
           "automargin": true,
           "gridcolor": "white",
           "linecolor": "white",
           "ticks": "",
           "title": {
            "standoff": 15
           },
           "zerolinecolor": "white",
           "zerolinewidth": 2
          }
         }
        },
        "title": {
         "text": "Historical battles fought in present-day Canada"
        }
       }
      }
     },
     "metadata": {},
     "output_type": "display_data"
    }
   ],
   "source": [
    "NA_casualties = NA_data[NA_data['casualties'].notna()]\n",
    "\n",
    "px.scatter_geo(NA_casualties, lat='lat', lon='lng', \n",
    "               height=800, hover_name='bname', \n",
    "               size = 'casualties',\n",
    "               size_max = 30,\n",
    "               color = 'casualties',\n",
    "               hover_data=['war','year'], \n",
    "               fitbounds='locations',\n",
    "               title='Historical battles fought in present-day Canada')"
   ]
  },
  {
   "cell_type": "markdown",
   "id": "64e56392-db90-49c4-a062-f4ac7a183ca0",
   "metadata": {},
   "source": [
    "## Next Steps\n",
    "\n",
    "Though the data can be kind of spotty for some battles, it could be interesting to bring in the number (or rate) of casualities for each battle, and size the markers proportional to that. It's only an estimate of the importance of the battle, but it's a good first step.\n",
    "\n",
    "We could also use the plotting function to animate the conflicts throughout Canadian history.\n",
    "\n",
    "Lastly, we could focus on WWI or WWII data and look at the advance of the Allied gains in Europe, highlighting battles that Canada was a major part of."
   ]
  }
 ],
 "metadata": {
  "kernelspec": {
   "display_name": "Python 3 (ipykernel)",
   "language": "python",
   "name": "python3"
  },
  "language_info": {
   "codemirror_mode": {
    "name": "ipython",
    "version": 3
   },
   "file_extension": ".py",
   "mimetype": "text/x-python",
   "name": "python",
   "nbconvert_exporter": "python",
   "pygments_lexer": "ipython3",
   "version": "3.11.3"
  }
 },
 "nbformat": 4,
 "nbformat_minor": 5
}
