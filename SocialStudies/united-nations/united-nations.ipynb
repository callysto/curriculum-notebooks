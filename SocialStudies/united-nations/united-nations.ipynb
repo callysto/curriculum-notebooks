{
 "cells": [
  {
   "cell_type": "markdown",
   "metadata": {},
   "source": [
    "![Callysto.ca Banner](https://github.com/callysto/curriculum-notebooks/blob/master/callysto-notebook-banner-top.jpg?raw=true)"
   ]
  },
  {
   "cell_type": "markdown",
   "metadata": {},
   "source": [
    "# United Nations\n",
    "\n"
   ]
  },
  {
   "cell_type": "markdown",
   "metadata": {},
   "source": [
    "### Code: "
   ]
  },
  {
   "cell_type": "markdown",
   "metadata": {},
   "source": [
    "Run the code cells below to import the libraries we need for this project. Libraries are pre-made code that make it easier to analyze our data."
   ]
  },
  {
   "cell_type": "code",
   "execution_count": null,
   "metadata": {},
   "outputs": [],
   "source": [
    "import pandas as pd\n",
    "import plotly_express as px\n",
    "import folium\n",
    "import geopandas as gpd\n",
    "import plotly.graph_objs as go\n",
    "from ipywidgets import interact\n",
    "print(\"Libraries imported.\")"
   ]
  },
  {
   "cell_type": "code",
   "execution_count": null,
   "metadata": {},
   "outputs": [],
   "source": [
    "HDI_components = pd.read_excel(\"https://raw.githubusercontent.com/callysto/data-files/main/SocialStudies/united-nations/HDI_components.xlsx\")\n",
    "HDI_inequality = pd.read_excel(\"https://raw.githubusercontent.com/callysto/data-files/main/SocialStudies/united-nations/HDI_inequality_adjusted.xlsx\")\n",
    "file_path = \"https://raw.githubusercontent.com/callysto/data-files/main/SocialStudies/united-nations/HDI_multidimensional_poverty.xlsx\"\n",
    "sheet1_name = 'table1'\n",
    "sheet2_name = 'table2'\n",
    "HDI_multidimensional_poverty = pd.read_excel(file_path, sheet_name=sheet1_name)\n",
    "HDI_multidimensional_poverty2 = pd.read_excel(file_path, sheet_name=sheet2_name)\n",
    "HDI_years = pd.read_excel(\"https://raw.githubusercontent.com/callysto/data-files/main/SocialStudies/united-nations/HDI_years.xlsx\")\n",
    "\n",
    "display(HDI_components)\n",
    "display(HDI_inequality)\n",
    "display(HDI_multidimensional_poverty)\n",
    "display(HDI_multidimensional_poverty2)\n",
    "display(HDI_years)"
   ]
  },
  {
   "cell_type": "markdown",
   "metadata": {},
   "source": [
    "### Examining HDI Trends"
   ]
  },
  {
   "cell_type": "code",
   "execution_count": null,
   "metadata": {},
   "outputs": [],
   "source": [
    "HDI_years"
   ]
  },
  {
   "cell_type": "code",
   "execution_count": null,
   "metadata": {},
   "outputs": [],
   "source": [
    "HDI_cols = HDI_years.columns[2:10]\n",
    "for column in HDI_cols:\n",
    "    HDI_years[column] = pd.to_numeric(HDI_years[column], errors='coerce')\n",
    "    print(f\"Maximum value in {column}: {HDI_years[column].max()}\")\n",
    "    max_hdi_country = HDI_years.loc[HDI_years[column].idxmax()]['Country']\n",
    "    print(f\"Country with the highest HDI: {max_hdi_country}\")"
   ]
  },
  {
   "cell_type": "code",
   "execution_count": null,
   "metadata": {},
   "outputs": [],
   "source": [
    "def update_scatter_plot(selected_year):\n",
    "    data = []\n",
    "    for country in HDI_years['Country']:\n",
    "        trace = go.Scatter(x=[country], y=[HDI_years.loc[HDI_years['Country'] == country, selected_year].values[0]], mode='markers', name=country)\n",
    "        data.append(trace)\n",
    "\n",
    "    layout = go.Layout(title=f'HDI Scatter Plot ({selected_year})', xaxis=dict(showticklabels=False, title='Country'), yaxis=dict(title='HDI'))\n",
    "    selected_year_fig = go.Figure(data=data, layout=layout)\n",
    "    selected_year_fig.show()\n",
    "\n",
    "interact(update_scatter_plot, selected_year=HDI_cols)"
   ]
  },
  {
   "cell_type": "code",
   "execution_count": null,
   "metadata": {},
   "outputs": [],
   "source": [
    "countries_geojson = gpd.read_file('countries.geojson')\n",
    "countries_geojson"
   ]
  },
  {
   "cell_type": "code",
   "execution_count": null,
   "metadata": {},
   "outputs": [],
   "source": [
    "no_HDI_years = HDI_years[HDI_years['HDI rank'].isnull()]\n",
    "no_HDI_years"
   ]
  },
  {
   "cell_type": "code",
   "execution_count": null,
   "metadata": {},
   "outputs": [],
   "source": []
  },
  {
   "cell_type": "code",
   "execution_count": null,
   "metadata": {},
   "outputs": [],
   "source": [
    "HDI_components"
   ]
  },
  {
   "cell_type": "code",
   "execution_count": null,
   "metadata": {},
   "outputs": [],
   "source": [
    "countries = HDI_components.Country.unique()\n",
    "for country in countries:\n",
    "    print(country)"
   ]
  },
  {
   "cell_type": "code",
   "execution_count": null,
   "metadata": {},
   "outputs": [],
   "source": [
    "no_HDI = HDI_components[HDI_components['HDI rank'].isnull()]\n",
    "no_HDI"
   ]
  }
 ],
 "metadata": {
  "kernelspec": {
   "display_name": "Python 3",
   "language": "python",
   "name": "python3"
  },
  "language_info": {
   "codemirror_mode": {
    "name": "ipython",
    "version": 3
   },
   "file_extension": ".py",
   "mimetype": "text/x-python",
   "name": "python",
   "nbconvert_exporter": "python",
   "pygments_lexer": "ipython3",
   "version": "3.10.8"
  }
 },
 "nbformat": 4,
 "nbformat_minor": 2
}
