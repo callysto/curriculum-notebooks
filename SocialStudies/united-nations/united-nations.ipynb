{
 "cells": [
  {
   "cell_type": "markdown",
   "metadata": {},
   "source": [
    "![Callysto.ca Banner](https://github.com/callysto/curriculum-notebooks/blob/master/callysto-notebook-banner-top.jpg?raw=true)"
   ]
  },
  {
   "cell_type": "markdown",
   "metadata": {},
   "source": [
    "# United Nations\n",
    "\n"
   ]
  },
  {
   "cell_type": "markdown",
   "metadata": {},
   "source": [
    "### Code: "
   ]
  },
  {
   "cell_type": "markdown",
   "metadata": {},
   "source": [
    "Run the code cells below to import the libraries we need for this project. Libraries are pre-made code that make it easier to analyze our data."
   ]
  },
  {
   "cell_type": "code",
   "execution_count": null,
   "metadata": {},
   "outputs": [],
   "source": [
    "import pandas as pd\n",
    "import plotly_express as px\n",
    "from plotly.subplots import make_subplots\n",
    "import folium\n",
    "import geopandas as gpd\n",
    "import plotly.graph_objs as go\n",
    "import ipywidgets\n",
    "from ipywidgets import interact\n",
    "from sklearn.model_selection import train_test_split\n",
    "from sklearn.linear_model import LinearRegression\n",
    "from sklearn.impute import SimpleImputer\n",
    "from sklearn.metrics import r2_score\n",
    "import warnings\n",
    "import math\n",
    "warnings.filterwarnings(\"ignore\")\n",
    "print(\"Libraries imported.\")"
   ]
  },
  {
   "cell_type": "code",
   "execution_count": null,
   "metadata": {},
   "outputs": [],
   "source": [
    "HDI_components = pd.read_excel(\"https://raw.githubusercontent.com/callysto/data-files/main/SocialStudies/UnitedNations/HDI_components.xlsx\")\n",
    "HDI_inequality = pd.read_excel(\"https://raw.githubusercontent.com/callysto/data-files/main/SocialStudies/UnitedNations/HDI_inequality_adjusted.xlsx\")\n",
    "HDI_years = pd.read_excel(\"https://raw.githubusercontent.com/callysto/data-files/main/SocialStudies/UnitedNations/HDI_years.xlsx\")\n",
    "\n",
    "display(HDI_components, HDI_inequality, HDI_years)"
   ]
  },
  {
   "cell_type": "markdown",
   "metadata": {},
   "source": [
    "### Examining HDI Trends"
   ]
  },
  {
   "cell_type": "code",
   "execution_count": null,
   "metadata": {},
   "outputs": [],
   "source": [
    "HDI_years"
   ]
  },
  {
   "cell_type": "code",
   "execution_count": null,
   "metadata": {},
   "outputs": [],
   "source": [
    "for index in HDI_years.index:\n",
    "    print(f\"Country Name: {HDI_years['Country'][index]}, Change in HDI Ranking: {HDI_years['Change in HDI rank 2015-2021'][index]}\")"
   ]
  },
  {
   "cell_type": "code",
   "execution_count": null,
   "metadata": {},
   "outputs": [],
   "source": [
    "for col in HDI_years.columns[11:15]:\n",
    "    try:\n",
    "        highest_val = HDI_years[col].max()\n",
    "        lowest_val = HDI_years[col].min()\n",
    "    except:\n",
    "        print(f\"Values in {col} column are not numeric. Let's convert them to numeric.\\n\")\n",
    "        HDI_years[col] = pd.to_numeric(HDI_years[col], errors='coerce')\n",
    "        highest_val = HDI_years[col].max()\n",
    "        lowest_val = HDI_years[col].min()\n",
    "\n",
    "    index_highest_val = HDI_years.loc[HDI_years[col].idxmax()]['Country']\n",
    "    index_lowest_val = HDI_years.loc[HDI_years[col].idxmin()]['Country']\n",
    "\n",
    "    print(f\"Highest {col}: {highest_val} Country: {index_highest_val} \\nLowest {col}: {lowest_val} Country: {index_lowest_val}\")"
   ]
  },
  {
   "cell_type": "code",
   "execution_count": null,
   "metadata": {},
   "outputs": [],
   "source": [
    "try:\n",
    "    maximum_change = HDI_years['Change in HDI rank 2015-2021'].max()\n",
    "    minimum_change = HDI_years['Change in HDI rank 2015-2021'].min()\n",
    "except TypeError:\n",
    "    print(\"Values in `Change in HDI rank 2015-2021` column are not numeric. Let's convert them to numeric.\")"
   ]
  },
  {
   "cell_type": "code",
   "execution_count": null,
   "metadata": {},
   "outputs": [],
   "source": [
    "# Now we can find the max and min values\n",
    "HDI_years['Change in HDI rank 2015-2021'] = pd.to_numeric(HDI_years['Change in HDI rank 2015-2021'], errors='coerce')\n",
    "\n",
    "maximum_change = HDI_years['Change in HDI rank 2015-2021'].max()\n",
    "minimum_change = HDI_years['Change in HDI rank 2015-2021'].min()\n",
    "\n",
    "max_country = HDI_years.loc[HDI_years['Change in HDI rank 2015-2021'].idxmax()]['Country']\n",
    "min_country = HDI_years.loc[HDI_years['Change in HDI rank 2015-2021'].idxmin()]['Country']\n",
    "\n",
    "print(f\"Maximum Change: {maximum_change}, Country: {max_country}\")\n",
    "print(f\"Minimum Change: {minimum_change}, Country: {min_country}\")"
   ]
  },
  {
   "cell_type": "code",
   "execution_count": null,
   "metadata": {},
   "outputs": [],
   "source": [
    "HDI_cols = HDI_years.columns[2:10]\n",
    "for column in HDI_cols:\n",
    "    HDI_years[column] = pd.to_numeric(HDI_years[column], errors='coerce')\n",
    "    print(f\"Maximum value in {column}: {HDI_years[column].max()}\")\n",
    "    max_hdi_country = HDI_years.loc[HDI_years[column].idxmax()]['Country']\n",
    "    print(f\"Country with the highest HDI: {max_hdi_country}\\n\")"
   ]
  },
  {
   "cell_type": "code",
   "execution_count": null,
   "metadata": {},
   "outputs": [],
   "source": [
    "def update_scatter_plot(selected_year):\n",
    "    data = []\n",
    "    for country in HDI_years['Country']:\n",
    "        trace = go.Scatter(x=[country], y=[HDI_years.loc[HDI_years['Country'] == country, selected_year].values[0]], mode='markers', name=country)\n",
    "        data.append(trace)\n",
    "\n",
    "    layout = go.Layout(title=f'HDI Scatter Plot ({selected_year})', xaxis=dict(showticklabels=False, title='Country'), yaxis=dict(title='HDI'))\n",
    "    selected_year_fig = go.Figure(data=data, layout=layout)\n",
    "    selected_year_fig.show()\n",
    "\n",
    "interact(update_scatter_plot, selected_year=HDI_cols)"
   ]
  },
  {
   "cell_type": "code",
   "execution_count": null,
   "metadata": {},
   "outputs": [],
   "source": [
    "countries_geojson = gpd.read_file('https://raw.githubusercontent.com/callysto/data-files/main/SocialStudies/UnitedNations/countries.geojson')\n",
    "countries_geojson"
   ]
  },
  {
   "cell_type": "code",
   "execution_count": null,
   "metadata": {},
   "outputs": [],
   "source": [
    "geojson_country_names = countries_geojson['ADMIN']\n",
    "\n",
    "hdi_country_names = HDI_years['Country']\n",
    "\n",
    "matching_countries = set(geojson_country_names).intersection(hdi_country_names)\n",
    "non_matching_countries = set(hdi_country_names) - matching_countries\n",
    "non_matching_countries_geojson = set(geojson_country_names) - matching_countries\n",
    "\n",
    "print(f'Non-matching geojson: {non_matching_countries_geojson}')\n",
    "print(f'Non-matching dataframe countries: {non_matching_countries}')"
   ]
  },
  {
   "cell_type": "code",
   "execution_count": null,
   "metadata": {},
   "outputs": [],
   "source": [
    "no_HDI_years = HDI_years[HDI_years['HDI rank'].isnull()]\n",
    "display(no_HDI_years)\n",
    "HDI_years.dropna(subset=['HDI rank'], inplace=True)"
   ]
  },
  {
   "cell_type": "code",
   "execution_count": null,
   "metadata": {},
   "outputs": [],
   "source": [
    "mapping = {\n",
    "    'Russian Federation': 'Russia',\n",
    "    'Micronesia (Federated States of)': 'Federated States of Micronesia',\n",
    "    'Cabo Verde': 'Cape Verde',\n",
    "    \"Korea (Democratic People's Rep. of)\": 'North Korea',\n",
    "    'North Macedonia': 'Macedonia',\n",
    "    'Bahamas': 'The Bahamas',\n",
    "    'Tanzania (United Republic of)': 'United Republic of Tanzania',\n",
    "    'Türkiye': 'Turkey',\n",
    "    'Serbia': 'Republic of Serbia',\n",
    "    'Eswatini (Kingdom of)': 'Swaziland',\n",
    "    'Guinea-Bissau': 'Guinea Bissau',\n",
    "    'Timor-Leste': 'East Timor',\n",
    "    \"Lao People's Democratic Republic\": 'Laos',\n",
    "    'Congo': 'Republic of Congo',\n",
    "    'Syrian Arab Republic': 'Syria',\n",
    "    'Brunei Darussalam': 'Brunei',\n",
    "    'Viet Nam': 'Vietnam',\n",
    "    'Iran (Islamic Republic of)': 'Iran',\n",
    "    'Czechia': 'Czech Republic',\n",
    "    'Congo (Democratic Republic of the)': 'Democratic Republic of the Congo',\n",
    "    'Bolivia (Plurinational State of)': 'Bolivia',\n",
    "    'Moldova (Republic of)': 'Moldova',\n",
    "    'Korea (Republic of)': 'South Korea',\n",
    "    \"Côte d'Ivoire\": 'Ivory Coast',\n",
    "    'Palestine, State of': 'Palestine',\n",
    "    'Venezuela (Bolivarian Republic of)': 'Venezuela',\n",
    "    'Hong Kong, China (SAR)': 'Hong Kong S.A.R.',\n",
    "    'United States': 'United States of America'\n",
    "}\n",
    "\n",
    "HDI_years['Country'] = HDI_years['Country'].replace(mapping)"
   ]
  },
  {
   "cell_type": "code",
   "execution_count": null,
   "metadata": {},
   "outputs": [],
   "source": [
    "merged_data = pd.merge(HDI_years, countries_geojson, left_on='Country', right_on='ADMIN', how='left')\n",
    "merged_data"
   ]
  },
  {
   "cell_type": "code",
   "execution_count": null,
   "metadata": {},
   "outputs": [],
   "source": [
    "HDI_by_country = ipywidgets.Output(layout={'border': '1px solid black'})\n",
    "\n",
    "column_names = merged_data.columns[2:10].tolist()\n",
    "dropdown_options = ipywidgets.Dropdown(\n",
    "    options=column_names,\n",
    "    value=column_names[0],\n",
    "    description='Column:',\n",
    "    disabled=False\n",
    ")\n",
    "\n",
    "def update_choropleth(change):\n",
    "    HDI_by_country.clear_output()\n",
    "    with HDI_by_country:\n",
    "        m = folium.Map()\n",
    "        folium.Choropleth(\n",
    "            geo_data=countries_geojson,\n",
    "            data=merged_data,\n",
    "            columns=['ADMIN', dropdown_options.value],  \n",
    "            key_on='feature.properties.ADMIN',  \n",
    "            fill_color='YlGn',\n",
    "            fill_opacity=0.7,\n",
    "            line_opacity=0.2,\n",
    "            legend_name=f'{dropdown_options.value} per Country',\n",
    "        ).add_to(m)\n",
    "        display(m)\n",
    "\n",
    "dropdown_options.observe(update_choropleth, names='value')\n",
    "display(dropdown_options)\n",
    "update_choropleth({'new': column_names[0]})\n",
    "\n",
    "HDI_by_country"
   ]
  },
  {
   "cell_type": "code",
   "execution_count": null,
   "metadata": {},
   "outputs": [],
   "source": [
    "HDI_components"
   ]
  },
  {
   "cell_type": "code",
   "execution_count": null,
   "metadata": {},
   "outputs": [],
   "source": [
    "HDI_components.rename(columns={'HDI rank.1': 'HDI rank 2020', 'Human Development Index (HDI) ': 'Human Development Index (HDI)'}, inplace=True)\n",
    "HDI_components"
   ]
  },
  {
   "cell_type": "code",
   "execution_count": null,
   "metadata": {},
   "outputs": [],
   "source": [
    "no_HDI = HDI_components[HDI_components['HDI rank'].isnull()]\n",
    "no_HDI"
   ]
  },
  {
   "cell_type": "code",
   "execution_count": null,
   "metadata": {},
   "outputs": [],
   "source": [
    "for col in HDI_components.columns[2:7]:\n",
    "    try:\n",
    "        HDI_components[col].max()\n",
    "        HDI_components[col].min()\n",
    "        HDI_components[col].mean()\n",
    "    except:\n",
    "        print(f\"Values in {col} column are not numeric. Let's convert them to numeric.\\n\")\n",
    "        HDI_components[col] = pd.to_numeric(HDI_components[col], errors='coerce')\n",
    "        HDI_components[col].max()\n",
    "        HDI_components[col].min()\n",
    "        HDI_components[col].mean()\n",
    "    \n",
    "    max_country = HDI_components.loc[HDI_components[col].idxmax()]['Country']\n",
    "    min_country = HDI_components.loc[HDI_components[col].idxmin()]['Country']\n",
    "    print(f\"Maximum {col}: {HDI_components[col].max()}, Country: {max_country}\")\n",
    "    print(f\"Minimum {col}: {HDI_components[col].min()}, Country: {min_country}\")\n",
    "    print(f\"Mean {col}: {HDI_components[col].mean()}\\n\")"
   ]
  },
  {
   "cell_type": "code",
   "execution_count": null,
   "metadata": {},
   "outputs": [],
   "source": [
    "try:\n",
    "    counts = HDI_components['GNI per capita rank minus HDI rank'].apply(lambda x: 'positive' if x > 0 else 'negative').value_counts()\n",
    "    print(\"Values are not numeric. Let's convert them to numeric. Converting...\\n\")\n",
    "except:\n",
    "    HDI_components['GNI per capita rank minus HDI rank'] = pd.to_numeric(HDI_components['GNI per capita rank minus HDI rank'], errors='coerce')\n",
    "    counts = HDI_components['GNI per capita rank minus HDI rank'].apply(lambda x: 'positive' if x > 0 else 'negative').value_counts()\n",
    "    positive_count = counts.get('positive', 0)\n",
    "    negative_count = counts.get('negative', 0)\n",
    "\n",
    "print(\"Number of Countries with a GNI ranking lower than their HDI ranking\", positive_count)\n",
    "print(\"Number of Countries with a GNI ranking higher than their HDI ranking:\", negative_count)"
   ]
  },
  {
   "cell_type": "code",
   "execution_count": null,
   "metadata": {},
   "outputs": [],
   "source": [
    "rankings_fig = make_subplots(rows=1, cols=2, subplot_titles=(\"GNI per Capita Rank (without HDI rank) per Country\", \"HDI Rank per Country\"))\n",
    "\n",
    "rankings_fig.add_trace(go.Scatter(x=HDI_components['Country'], y=HDI_components['GNI per capita rank minus HDI rank'], mode='markers', name='GNI Fig'), row=1, col=1)\n",
    "rankings_fig.add_trace(go.Scatter(x=HDI_components['Country'], y=HDI_components['HDI rank'], mode='markers', name='HDI Fig'), row=1, col=2)\n",
    "\n",
    "rankings_fig.update_traces(hovertemplate='Country: %{x}<br>GNI per capita rank minus HDI rank: %{y}', \n",
    "                           row=1, col=1)\n",
    "\n",
    "rankings_fig.update_traces(hovertemplate='Country: %{x}<br>HDI rank: %{y}', \n",
    "                           row=1, col=2)\n",
    "\n",
    "rankings_fig.update_layout(title_text=\"Comparison of GNI per capita rank minus HDI rank and HDI rank for Different Countries\",\n",
    "                  showlegend=False)\n",
    "\n",
    "rankings_fig.update_yaxes(title_text=\"GNI per capita rank minus HDI rank\", row=1, col=1)\n",
    "rankings_fig.update_yaxes(title_text=\"HDI rank\", row=1, col=2)\n",
    "rankings_fig.show()"
   ]
  },
  {
   "cell_type": "code",
   "execution_count": null,
   "metadata": {},
   "outputs": [],
   "source": [
    "no_HDI = HDI_components[HDI_components['HDI rank'].notnull()]\n",
    "features = ['Life expectancy at birth (years)', 'Expected years of schooling (years)', 'Mean years of schooling (years)', 'Gross national income (GNI) per capita (2017 PPP $)']\n",
    "\n",
    "X = no_HDI[features]\n",
    "y = no_HDI['Human Development Index (HDI)']\n",
    "\n",
    "imputer = SimpleImputer(strategy='mean')\n",
    "X = imputer.fit_transform(X)\n",
    "\n",
    "data = pd.concat([pd.DataFrame(X, columns=features), y], axis=1)\n",
    "data = data.dropna()\n",
    "\n",
    "X = data[features]\n",
    "y = data['Human Development Index (HDI)']\n",
    "\n",
    "X_train, X_test, y_train, y_test = train_test_split(X, y, test_size=0.2, random_state=42)\n",
    "\n",
    "model = LinearRegression()\n",
    "model.fit(X_train, y_train)\n",
    "\n",
    "# Make predictions\n",
    "y_pred = model.predict(X_test)\n",
    "\n",
    "r2 = r2_score(y_test, y_pred)\n",
    "print(\"R-squared:\", r2)"
   ]
  },
  {
   "cell_type": "code",
   "execution_count": null,
   "metadata": {},
   "outputs": [],
   "source": [
    "import math\n",
    "\n",
    "def get_index(value, min_val, max_val, is_income_index=False):\n",
    "    if is_income_index:\n",
    "        return (math.log(value) - math.log(min_val)) / (math.log(max_val) - math.log(min_val))\n",
    "    else:\n",
    "        return (value - min_val) / (max_val - min_val)\n",
    "\n",
    "def calculate_index(life_expectancy, expected_schooling, mean_schooling, gni_per_capita):\n",
    "    variables = [\n",
    "        ('Life expectancy', life_expectancy, 20, 85),\n",
    "        ('Expected schooling', expected_schooling, 0, 18),\n",
    "        ('Mean schooling', mean_schooling, 0, 15),\n",
    "        ('GNI per capita', gni_per_capita, 100, 75000)\n",
    "    ]\n",
    "\n",
    "    for i, (variable_name, value, min_val, max_val) in enumerate(variables):\n",
    "        if value < min_val:\n",
    "            variables[i] = (variable_name, min_val, min_val, max_val)\n",
    "        elif value > max_val:\n",
    "            variables[i] = (variable_name, max_val, min_val, max_val)\n",
    "\n",
    "    life_expectancy, expected_schooling, mean_schooling, gni_per_capita = [v[1] for v in variables]\n",
    "\n",
    "    health_index = get_index(life_expectancy, 20, 85)\n",
    "    expected_schooling_index = get_index(expected_schooling, 0, 18)\n",
    "    mean_schooling_index = get_index(mean_schooling, 0, 15)\n",
    "    income_index = get_index(gni_per_capita, 100, 75000, True)\n",
    "    return health_index, expected_schooling_index, mean_schooling_index, income_index\n",
    "\n",
    "def calculate_hdi(life_expectancy, expected_schooling, mean_schooling, gni_per_capita):\n",
    "    health_index, expected_schooling_index, mean_schooling_index, income_index = calculate_index(\n",
    "        life_expectancy, expected_schooling, mean_schooling, gni_per_capita\n",
    "    )\n",
    "\n",
    "    index_education = (expected_schooling_index + mean_schooling_index) / 2\n",
    "    hdi = (health_index * index_education * income_index) ** (1 / 3)\n",
    "    return round(hdi, 3)"
   ]
  },
  {
   "cell_type": "code",
   "execution_count": null,
   "metadata": {},
   "outputs": [],
   "source": [
    "# Example usage for Switzerland, a valid HDI score\n",
    "life_expectancy = 83.9872\n",
    "expected_schooling = 16.500299\n",
    "mean_schooling = 13.85966\n",
    "gni_per_capita = 66933.00454\t\n",
    "\n",
    "hdi = calculate_hdi(life_expectancy, expected_schooling, mean_schooling, gni_per_capita)\n",
    "print(f\"Switzerland HDI score: {hdi}\")\n",
    "\n",
    "# Example usage for an invalid HDI score\n",
    "life_expectancy = 5\n",
    "expected_schooling = 20\n",
    "mean_schooling = 8\n",
    "gni_per_capita = 80000\n",
    "\n",
    "nonvalid_hdi = calculate_hdi(life_expectancy, expected_schooling, mean_schooling, gni_per_capita)\n",
    "print(f\"Calculated HDI score (should be 0): {nonvalid_hdi}\")"
   ]
  },
  {
   "cell_type": "code",
   "execution_count": null,
   "metadata": {},
   "outputs": [],
   "source": [
    "australia = HDI_components.loc[HDI_components['Country'] == 'Australia']\n",
    "south_sudan = HDI_components.loc[HDI_components['Country'] == 'South Sudan']\n",
    "\n",
    "australia_hdi = calculate_hdi(australia['Life expectancy at birth (years)'].values[0], australia['Expected years of schooling (years)'].values[0],\n",
    "                              australia['Mean years of schooling (years)'].values[0], australia['Gross national income (GNI) per capita (2017 PPP $)'].values[0])\n",
    "south_sudan_hdi = calculate_hdi(south_sudan['Life expectancy at birth (years)'].values[0], south_sudan['Expected years of schooling (years)'].values[0],\n",
    "                               south_sudan['Mean years of schooling (years)'].values[0], south_sudan['Gross national income (GNI) per capita (2017 PPP $)'].values[0])\n",
    "\n",
    "predicted_australia = model.predict(australia[features])\n",
    "predicted_south_sudan = model.predict(south_sudan[features])\n",
    "print(f\"Australia Predicted HDI score (expected value high): {predicted_australia[0]}\")\n",
    "print(f\"South Sudan Predicted HDI score (expected value low): {predicted_south_sudan[0]}\\n\")\n",
    "\n",
    "print(f\"Australia Actual HDI score: {australia_hdi}\")\n",
    "print(f\"South Sudan Actual HDI score: {south_sudan_hdi}\")"
   ]
  },
  {
   "cell_type": "code",
   "execution_count": null,
   "metadata": {},
   "outputs": [],
   "source": [
    "X_test = imputer.fit_transform(no_HDI[features])\n",
    "\n",
    "no_HDI['Predicted HDI'] = model.predict(X_test)\n",
    "ml_fig = make_subplots(rows=1, cols=2, subplot_titles=(\"Actual HDI Value\", \"Predicted HDI Value\"))\n",
    "\n",
    "ml_fig.add_trace(go.Scatter(x=no_HDI['Country'], y=no_HDI['Human Development Index (HDI)'], name=\"Actual HDI Value\"), row=1, col=1)\n",
    "ml_fig.add_trace(go.Scatter(x=no_HDI['Country'], y=no_HDI['Predicted HDI'], name=\"Predicted HDI Value\"), row=1, col=2)\n",
    "\n",
    "ml_fig.update_layout(title_text=\"Actual vs Predicted HDI Value\",\n",
    "                  showlegend=True)\n",
    "\n",
    "ml_fig.show()"
   ]
  },
  {
   "cell_type": "code",
   "execution_count": null,
   "metadata": {},
   "outputs": [],
   "source": [
    "null_countries = HDI_components[HDI_components['HDI rank'].isnull()]\n",
    "null_countries"
   ]
  },
  {
   "cell_type": "code",
   "execution_count": null,
   "metadata": {},
   "outputs": [],
   "source": [
    "null_countries = HDI_components[HDI_components['HDI rank'].isnull()]\n",
    "\n",
    "features = ['Life expectancy at birth (years)', 'Expected years of schooling (years)', 'Mean years of schooling (years)', 'Gross national income (GNI) per capita (2017 PPP $)']\n",
    "imputer = SimpleImputer(strategy='mean')\n",
    "X_test = imputer.fit_transform(HDI_components[features])\n",
    "\n",
    "HDI_components['Predicted HDI'] = model.predict(X_test)\n",
    "\n",
    "null_countries_fig = go.Figure()\n",
    "for index, row in null_countries.iterrows():\n",
    "    null_countries_fig.add_trace(go.Scatter(x=[row['Country']], y=[row['Predicted HDI']], mode='markers', name=row['Country']))\n",
    "\n",
    "null_countries_fig.update_layout(title_text=\"Predicted HDI Values for Countries without HDI Values\",\n",
    "                  xaxis_title=\"Country\",\n",
    "                  yaxis_title=\"Predicted HDI Value\")\n",
    "\n",
    "null_countries_fig.show()"
   ]
  },
  {
   "cell_type": "code",
   "execution_count": null,
   "metadata": {},
   "outputs": [],
   "source": [
    "HDI_inequality"
   ]
  },
  {
   "cell_type": "code",
   "execution_count": null,
   "metadata": {},
   "outputs": [],
   "source": []
  }
 ],
 "metadata": {
  "kernelspec": {
   "display_name": "Python 3",
   "language": "python",
   "name": "python3"
  },
  "language_info": {
   "codemirror_mode": {
    "name": "ipython",
    "version": 3
   },
   "file_extension": ".py",
   "mimetype": "text/x-python",
   "name": "python",
   "nbconvert_exporter": "python",
   "pygments_lexer": "ipython3",
   "version": "3.10.8"
  }
 },
 "nbformat": 4,
 "nbformat_minor": 2
}
