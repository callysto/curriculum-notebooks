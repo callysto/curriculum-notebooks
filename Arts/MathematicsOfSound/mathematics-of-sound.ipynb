{
 "cells": [
  {
   "cell_type": "markdown",
   "metadata": {},
   "source": [
    "![Callysto.ca Banner](https://github.com/callysto/curriculum-notebooks/blob/master/callysto-notebook-banner-top.jpg?raw=true)\n",
    "\n",
    "<a href=\"https://hub.callysto.ca/jupyter/hub/user-redirect/git-pull?repo=https%3A%2F%2Fgithub.com%2Fcallysto%2Fcurriculum-notebooks&branch=master&subPath=Arts/MathematicsOfSound/mathematics-of-sound.ipynb&depth=1\" target=\"_parent\"><img src=\"https://raw.githubusercontent.com/callysto/curriculum-notebooks/master/open-in-callysto-button.svg?sanitize=true\" width=\"123\" height=\"24\" alt=\"Open in Callysto\"/></a>"
   ]
  },
  {
   "cell_type": "markdown",
   "metadata": {
    "slideshow": {
     "slide_type": "slide"
    }
   },
   "source": [
    "# Mathematics of Sound\n",
    "## What is sound?\n",
    "\n",
    "Rapid changes, or **vibrations** in air pressure are heard in our ears as sound. \n",
    "\n",
    "A computer creates sound by sending a list of numbers to a speaker, which then **vibrates**."
   ]
  },
  {
   "cell_type": "markdown",
   "metadata": {
    "slideshow": {
     "slide_type": "slide"
    }
   },
   "source": [
    "## Random numbers\n",
    "\n",
    "A list of random numbers, will create a sound. \n",
    "\n",
    "What do you think is will sound like?\n",
    "\n"
   ]
  },
  {
   "cell_type": "code",
   "execution_count": null,
   "metadata": {
    "slideshow": {
     "slide_type": "skip"
    }
   },
   "outputs": [],
   "source": [
    "import numpy as np\n",
    "from IPython.display import Audio\n",
    "Fs = 44100\n",
    "random_sound = np.random.randn(Fs)\n",
    "Audio(data=random_sound, rate=Fs)"
   ]
  },
  {
   "cell_type": "markdown",
   "metadata": {
    "slideshow": {
     "slide_type": "slide"
    }
   },
   "source": [
    "We can plot those random numbers, using [Plotly](https://plotly.com/python/), and even zoom in on the graph that is generated to see more detail."
   ]
  },
  {
   "cell_type": "code",
   "execution_count": null,
   "metadata": {
    "slideshow": {
     "slide_type": "fragment"
    }
   },
   "outputs": [],
   "source": [
    "import plotly.express as px\n",
    "px.line(random_sound)"
   ]
  },
  {
   "cell_type": "markdown",
   "metadata": {
    "slideshow": {
     "slide_type": "slide"
    }
   },
   "source": [
    "## Periodic vibrations\n",
    "\n",
    "A vibration that has a periodic vibration will sound like a tone to us. \n",
    "\n",
    "The sine function has a periodic cycle, and can be used to represent such a tone. \n"
   ]
  },
  {
   "cell_type": "code",
   "execution_count": null,
   "metadata": {
    "slideshow": {
     "slide_type": "skip"
    }
   },
   "outputs": [],
   "source": [
    "Fs, Len, f1 = 44100, 3, 440  ## sample rate, length in seconds, frequency\n",
    "t = np.linspace(0,Len,Fs*Len)  ## time variable\n",
    "sine_sound = np.sin(2*np.pi*440*t)\n",
    "Audio(data=sine_sound, rate=Fs)"
   ]
  },
  {
   "cell_type": "markdown",
   "metadata": {
    "slideshow": {
     "slide_type": "slide"
    }
   },
   "source": [
    "We can also visualize this sine sound. We'll include just the first `500` points."
   ]
  },
  {
   "cell_type": "code",
   "execution_count": null,
   "metadata": {
    "slideshow": {
     "slide_type": "fragment"
    }
   },
   "outputs": [],
   "source": [
    "px.line(sine_sound[0:500])"
   ]
  },
  {
   "cell_type": "markdown",
   "metadata": {
    "slideshow": {
     "slide_type": "slide"
    }
   },
   "source": [
    "By clipping the tops of the sine wave, we get a square wave.\n",
    "\n"
   ]
  },
  {
   "cell_type": "code",
   "execution_count": null,
   "metadata": {
    "slideshow": {
     "slide_type": "fragment"
    }
   },
   "outputs": [],
   "source": [
    "square_sound = np.minimum(.1, np.maximum(-.1, sine_sound))\n",
    "px.line(square_sound[0:500])"
   ]
  },
  {
   "cell_type": "markdown",
   "metadata": {},
   "source": [
    "What does a square wave sound like?"
   ]
  },
  {
   "cell_type": "code",
   "execution_count": null,
   "metadata": {
    "slideshow": {
     "slide_type": "slide"
    }
   },
   "outputs": [],
   "source": [
    "Audio(data=square_sound, rate=Fs)"
   ]
  },
  {
   "cell_type": "markdown",
   "metadata": {
    "slideshow": {
     "slide_type": "slide"
    }
   },
   "source": [
    "The Sine and Square waves have the same **pitch** (frequency) but different **timbres**.\n",
    "\n",
    "## Beats\n",
    "\n",
    "Playing two tones at similar frequencies results in **beats**. This is useful for tuning instruments!"
   ]
  },
  {
   "cell_type": "code",
   "execution_count": null,
   "metadata": {
    "slideshow": {
     "slide_type": "slide"
    }
   },
   "outputs": [],
   "source": [
    "sine2_sound = np.sin(2*np.pi*440*t) - np.sin(2*np.pi*442*t)\n",
    "Audio(data=sine2_sound, rate=Fs)"
   ]
  },
  {
   "cell_type": "markdown",
   "metadata": {
    "slideshow": {
     "slide_type": "slide"
    }
   },
   "source": [
    "We can plot to see the beats, or variations in amplitude, of those two waves overlapping.\n",
    "\n",
    "We are ploting the entire 3 seconds of the sound, and we see a beat frequency of two beats per second."
   ]
  },
  {
   "cell_type": "code",
   "execution_count": null,
   "metadata": {
    "slideshow": {
     "slide_type": "fragment"
    }
   },
   "outputs": [],
   "source": [
    "px.line(x=t, y=sine2_sound)"
   ]
  },
  {
   "cell_type": "markdown",
   "metadata": {
    "slideshow": {
     "slide_type": "slide"
    }
   },
   "source": [
    "## A chirp\n",
    "\n",
    "Bats use chirps, tones that rapidly increase in frequency, for echolocation like sonar.\n",
    "\n",
    "We can use a chirp to explore the range of frequencies that we can hear. Humans with very good ears can hear from 20 Hz to 20,000 Hz. "
   ]
  },
  {
   "cell_type": "code",
   "execution_count": null,
   "metadata": {
    "slideshow": {
     "slide_type": "slide"
    }
   },
   "outputs": [],
   "source": [
    "f = 20000/(2*Len)\n",
    "chirp_sound = np.sin(2*np.pi*f*t**2) ## t**2 creates the increasing freq's\n",
    "Audio(data=chirp_sound, rate=Fs)"
   ]
  },
  {
   "cell_type": "markdown",
   "metadata": {
    "slideshow": {
     "slide_type": "slide"
    }
   },
   "source": [
    "## Count the pulses\n",
    "\n",
    "We test how well you hear, by testing various frequencies.\n",
    "\n"
   ]
  },
  {
   "cell_type": "code",
   "execution_count": null,
   "metadata": {
    "slideshow": {
     "slide_type": "fragment"
    }
   },
   "outputs": [],
   "source": [
    "freq = 10000\n",
    "\n",
    "n = np.random.randint(1,5)\n",
    "test_sound = np.sin(2*np.pi*freq*t) * np.sin(np.pi*n*t/Len)\n",
    "Audio(data=test_sound, rate=Fs, autoplay=False)"
   ]
  },
  {
   "cell_type": "markdown",
   "metadata": {
    "slideshow": {
     "slide_type": "slide"
    }
   },
   "source": [
    "## More on chirps.\n",
    "\n",
    "We can vary the parameters, to vary the sounds"
   ]
  },
  {
   "cell_type": "code",
   "execution_count": null,
   "metadata": {
    "slideshow": {
     "slide_type": "fragment"
    }
   },
   "outputs": [],
   "source": [
    "Fs = 44100\n",
    "Len = 3\n",
    "t = np.linspace(0, Len, Fs*Len)\n",
    "fmax = 15000\n",
    "chirp2_sd = np.sin(np.pi*(fmax/Len) * t**2) \n",
    "Audio(data=chirp2_sd, rate=Fs, autoplay=False)"
   ]
  },
  {
   "cell_type": "markdown",
   "metadata": {},
   "source": [
    "## Summary\n",
    "\n",
    "This notebook was a brief introduction to the mathematics of sound.\n",
    "\n",
    "We generated vibrations in air pressure using code that the computer sent to speakers. This included sine and square waves, beats, and chirps."
   ]
  },
  {
   "cell_type": "markdown",
   "metadata": {},
   "source": [
    "[![Callysto.ca License](https://github.com/callysto/curriculum-notebooks/blob/master/callysto-notebook-banner-bottom.jpg?raw=true)](https://github.com/callysto/curriculum-notebooks/blob/master/LICENSE.md)"
   ]
  }
 ],
 "metadata": {
  "celltoolbar": "Slideshow",
  "kernelspec": {
   "display_name": "Python 3.10.1 64-bit",
   "language": "python",
   "name": "python3"
  },
  "language_info": {
   "codemirror_mode": {
    "name": "ipython",
    "version": 3
   },
   "file_extension": ".py",
   "mimetype": "text/x-python",
   "name": "python",
   "nbconvert_exporter": "python",
   "pygments_lexer": "ipython3",
   "version": "3.10.1"
  },
  "vscode": {
   "interpreter": {
    "hash": "d1ca6d17674200220921376aaeb3d36cffe15ecab2470a9a5e7a456cdbf61425"
   }
  }
 },
 "nbformat": 4,
 "nbformat_minor": 4
}
