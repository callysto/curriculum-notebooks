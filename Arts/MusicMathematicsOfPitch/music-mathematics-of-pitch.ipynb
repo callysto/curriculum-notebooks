{
 "cells": [
  {
   "cell_type": "markdown",
   "metadata": {},
   "source": [
    "![Callysto.ca Banner](https://github.com/callysto/curriculum-notebooks/blob/master/callysto-notebook-banner-top.jpg?raw=true)\n",
    "\n",
    "<a href=\"https://hub.callysto.ca/jupyter/hub/user-redirect/git-pull?repo=https%3A%2F%2Fgithub.com%2Fcallysto%2Fcurriculum-notebooks&branch=master&subPath=Arts/MusicMathematicsOfPitch/music-mathematics-of-pitch.ipynb&depth=1\" target=\"_parent\"><img src=\"https://raw.githubusercontent.com/callysto/curriculum-notebooks/master/open-in-callysto-button.svg?sanitize=true\" width=\"123\" height=\"24\" alt=\"Open in Callysto\"/></a>"
   ]
  },
  {
   "cell_type": "markdown",
   "metadata": {},
   "source": [
    "## Music - Mathematics of Pitch\n",
    "\n",
    "There are many connections between mathematics and music, ranging from how rhythms fit together, to how notes fit together in chords, to the structure of counterpoint, and more. \n",
    "\n",
    "We will focus on the connection between the pitch of notes and fractions. We will see that the idea of harmonious notes is closely connected to simplicity in fractions. We will also look at how a problem with these fractions was solved in the Baroque period by creating a well-tempered scale that made singers and instruments sound harmonious in all possible key signatures.  \n"
   ]
  },
  {
   "cell_type": "markdown",
   "metadata": {},
   "source": [
    "## Outline\n",
    "\n",
    "A quick overview of what will be covered in this notebook.\n",
    "\n",
    "- First, we test the sound system on your computer\n",
    "- Then we briefly discuss some of the characteristics of musical notes, including:\n",
    " - loudness\n",
    " - duration\n",
    " - pitch\n",
    " - timbre\n",
    " - envelope\n",
    "- We then look at the history of finding notes in a scale, using simple fractions\n",
    "- The Circle of Fifths method is discussed\n",
    "- We then look at the well-tempered tuning, which solved an important problem for musicians.\n",
    "\n",
    "Throughout we will use code to generate synthetic sounds on the computer to demonstrate many of these ideas.\n",
    " \n",
    "## Setting up\n",
    "\n",
    "This notebook will play sound through the speakers or headphones of your computer. To make sure this works, try clicking on the arrow of the audio icon below. You should hear some random noise.\n",
    "\n",
    "If you don't hear any sound at all, or it's too loud, try adjusting the volume and making sure that the audio devices are activated on your computer.\n",
    "\n",
    "Once you can get sound from the audio icon below, please continue to the notebook content below."
   ]
  },
  {
   "cell_type": "code",
   "execution_count": null,
   "metadata": {},
   "outputs": [],
   "source": [
    "import numpy as np\n",
    "from IPython.display import Audio, display\n",
    "Fs = 44100\n",
    "random_sound = np.random.randn(Fs)\n",
    "display(\"Click the play button to test sound.\")\n",
    "Audio(data=random_sound, rate=Fs)"
   ]
  },
  {
   "cell_type": "markdown",
   "metadata": {},
   "source": [
    "## Notes of the musical scale\n",
    "\n",
    "Music is make up of individual sounds often referred to as \"notes\". In the movie \"The Sound of Music,\" the children are taught a song that names the individual notes, as in these lyrics:\n",
    "```\n",
    "Do-re-mi-fa-so-la-ti-do\n",
    "\n",
    "Doe, a deer, a female deer\n",
    "Ray, a drop of golden sun\n",
    "Me, a name I call myself\n",
    "Far, a long, long way to run\n",
    "Sew, a needle pulling thread\n",
    "La, a note to follow Sew\n",
    "Tea, a drink with jam and bread\n",
    "That will bring us back to Doe.\n",
    "```\n",
    "If you haven't seen the movie, here is a clip from YouTube:"
   ]
  },
  {
   "cell_type": "code",
   "execution_count": null,
   "metadata": {},
   "outputs": [],
   "source": [
    "from IPython.display import YouTubeVideo\n",
    "YouTubeVideo('pLm07s8fnzM')"
   ]
  },
  {
   "cell_type": "markdown",
   "metadata": {},
   "source": [
    "The note names Do, Re, Mi, ... were originally Ut, Re, Mi, Fa, So, La, Si, ... and came from a hymn in Latin, circa the year 1000. The first stanza is:\n",
    "```\n",
    "Ut queant laxis\n",
    "resonare fibris,\n",
    "Mira gestorum\n",
    "famuli tuorum,\n",
    "Solve polluti\n",
    "labii reatum,\n",
    "Sancte Iohannes.\n",
    "```\n",
    "and the first two letters of each line gave the names of the notes. Except for the initials SI in the last line, for Saint Iohannes. The word \"Ut\" was eventually replaced with \"Do\" for Dominus. (of course)\n",
    "\n",
    "So there's a little Latin for you!\n",
    "\n",
    "Nowadays we usually refer to the notes in the scale by the letters C,D,E,F,G,A,B and return to C. \n",
    "These correspond to the white keys on the piano, while sharps and flats are the black keys.\n",
    "\n"
   ]
  },
  {
   "cell_type": "markdown",
   "metadata": {},
   "source": [
    "## Characteristics of notes in music\n",
    "\n",
    "Notes have a number of characteristics, including the loudness, the duration, the pitch, timbre, and envelope. Perhaps you already know what these mean: certainly the loudness and duration, or length in time,  should be clear. The pitch is basically whether a note sounds high (like a young child's voice) or low (like a man's voice). Timbre characterizes the difference between, say, a flute and an electric guitar, when the notes from the flute are very clean and pure sounding, while an electric guitar can sound harsh and rough. The envelope describes how the note evolves over time: does it have a sharp initial attack, is it sustained for a long period, does it decay slowly to silence or stop abruptly.\n",
    "\n",
    "Here are five different examples of sounds which vary the individual characteristics of the notes: loudness, duration, pitch, timbre, and envelope. Real sounds of course can vary much more than these synthetic notes. \n",
    "\n",
    "Click on the play button to hear each one."
   ]
  },
  {
   "cell_type": "code",
   "execution_count": null,
   "metadata": {},
   "outputs": [],
   "source": [
    "def heaviDecay(t):\n",
    "    return np.heaviside(t,1) * np.exp(-t)\n",
    "\n",
    "Fs = 44100\n",
    "Len = 3\n",
    "t = np.linspace(0, Len, Len*Fs)\n",
    "freq = 261.6 # middle C\n",
    "sineWave = np.sin(2*np.pi*freq*t)\n",
    "intSteps = np.floor(1+4*t/Len)\n",
    "varyLoudness = intSteps**2*sineWave\n",
    "varyDuration = np.maximum(0,np.sin(2*np.pi*4*(t/Len)**2))**.5*sineWave\n",
    "varyPitch = np.sin(2*np.pi*intSteps*freq*t)\n",
    "varyTimbre = np.maximum(-1, np.minimum(1,intSteps**2*sineWave))\n",
    "varyEnvelope = (heaviDecay(10*t)+heaviDecay(5*(t-1))+heaviDecay(t-2))*sineWave\n",
    "display(\"A sound with changing loudness.\",Audio(data=varyLoudness, rate=Fs), \n",
    "        \"Several notes with changing duration.\",Audio(data=varyDuration, rate=Fs),\n",
    "        \"A sound with changing pitch.\",Audio(data=varyPitch, rate=Fs),\n",
    "        \"A sound with changing timbre\",Audio(data=varyTimbre, rate=Fs),\n",
    "        \"Several notes with different envelopes.\",Audio(data=varyEnvelope, rate=Fs))\n"
   ]
  },
  {
   "cell_type": "markdown",
   "metadata": {},
   "source": [
    "## Sample notes\n",
    "\n",
    "Of course, when creating a note, there is the possibility of changing any or all of these characteristics. For instance, by adjusting these there sliders, you can alter the pitch, timbre and envelope of a note and hear what it sounds like.\n",
    "\n",
    "Try it out now: click on the sliders to move the buttons and hear the resulting sound. "
   ]
  },
  {
   "cell_type": "code",
   "execution_count": null,
   "metadata": {},
   "outputs": [],
   "source": [
    "from ipywidgets import interact, RadioButtons\n",
    "\n",
    "Fs = 44100\n",
    "Len3 = 3\n",
    "t3 = np.linspace(0,Len3,Len3*Fs)\n",
    "freq_c = 261.6 # middle C\n",
    "sineWave = np.sin(2*np.pi*freq_c*t3)\n",
    "intSteps = np.floor(1+4*t3/Len3)\n",
    "run_e = 0\n",
    "\n",
    "def play_e(pitch,timbre,envelope):\n",
    "    global run_e\n",
    "    if run_e == 0:\n",
    "        run_e = 1\n",
    "        return\n",
    "    data1 = heaviDecay(envelope*t3) * np.maximum(-1, np.minimum(1,timbre**2*np.sin(2*np.pi*pitch*t3)))\n",
    "    a1=Audio(data=data1, rate=Fs,autoplay=True)\n",
    "    display(a1)\n",
    "    \n",
    "interact(play_e,pitch=(200,400),timbre=(1,5),envelope=(1,10));\n"
   ]
  },
  {
   "cell_type": "markdown",
   "metadata": {},
   "source": [
    "## Pitch and harmony\n",
    "\n",
    "People in ancient civilizations noticed a long time ago that notes of certain pitches sound \"good\" together. We often say such notes sound harmonious. They also noticed that the pitch of sound produced by singers, or instruments, were somehow related to the size, shape and weight of the singer or instrument. For instance, a big man would typically sing in a low pitch, while a small woman or child would sing in a higher pitch. A large drum makes a deep, low sound while a small drum or wood block would make a high sound. \n",
    "\n",
    "Pitch is related to the rate of vibration of an object producing sounds. Although the ancients could not measure this directly, certainly they would have noticed by touching their throats while singing, that a low-pitched sound has a slow vibration, and a high-pitched sound has a faster vibration. \n",
    "\n",
    "We can now measure the frequency of notes, and discover that the range of human voices produce vibrations with frequency as low as 80 cycles per second (for a male bass singer) to as high as 1000 cycles per second (for a female soprano singer). \n",
    "\n",
    "Try this out with the slide below. Perhaps you can sing along to some of the notes!"
   ]
  },
  {
   "cell_type": "code",
   "execution_count": null,
   "metadata": {},
   "outputs": [],
   "source": [
    "## Code block F\n",
    "Fs = 44100\n",
    "Len3 = 3\n",
    "t3 = np.linspace(0,Len3,Len3*Fs)\n",
    "run_f = 0\n",
    "\n",
    "def play_f(pitch):\n",
    "    global run_f\n",
    "    if run_f == 0:\n",
    "        run_f = 1\n",
    "        return\n",
    "    a1=Audio(data=np.sin(2*np.pi*pitch*t3), rate=Fs,autoplay=True)\n",
    "    display(a1)\n",
    "    \n",
    "interact(play_f,pitch=(80,1000));\n"
   ]
  },
  {
   "cell_type": "markdown",
   "metadata": {},
   "source": [
    "## Harmony and arithmetic\n",
    "It was perhaps the ancient Greeks who first noticed a connection between harmonious notes and mathematics. They observed that strings of different lengths, but the same thickness and tension, would often produce harmonious pairs of tones if the string lengths were in the ratio of simple fractions. You may have noticed this yourself if you play a guitar or ukelele. \n",
    "\n",
    "For instance, one string that was half the length of another would produce a note that was an octave higher that the other string. A string that was two-thirds the length would produce the C-to-G interval, which we now call \"a fifth.\" \n",
    "\n",
    "The Greeks didn't know it, but the frequency (or pitch) was directly related to the reciprocal of these fractions. So the string of one-half (1/2) length would have 2 times the frequency. The string of two-thirds (2/3) length would have three-halves (3/2) the frequency. \n",
    "\n",
    "With this idea in mind, we can take a few fractions with a small denominator like 4, and get some really nice notes.\n",
    "\n",
    "Indeed, the fractions 4/4, 5/4, 6/4, 7/8 and 8/4 correspond to frequencies of the main notes in a Boogie-Woogie chord. In our modern notation, these are the notes C,E,G,B-flat and the C an octave higher.\n",
    "\n",
    "We can create these notes synthetically on the computer very easily. Try clicking on the controls below to hear these familiar notes. The relevant fraction is shown below, and is precisely the fraction we used to create the note."
   ]
  },
  {
   "cell_type": "code",
   "execution_count": null,
   "metadata": {},
   "outputs": [],
   "source": [
    "## Codeblock A\n",
    "Fs = 44100\n",
    "Len05 = 0.5\n",
    "t05 = np.linspace(0,Len05, int(Len05*Fs))\n",
    "freq_c = 261.6 # middle C\n",
    "\n",
    "notes_a = ['C (1)', 'E (5/4)', 'G (6/4)', 'B flat (7/4)','C (2)' ]\n",
    "fracs_a = np.array([1,5/4,3/2,7/4,2])\n",
    "run_a = 0\n",
    "\n",
    "def play_a(Note):\n",
    "    global run_a\n",
    "    if run_a == 0:\n",
    "        run_a = 1\n",
    "        return\n",
    "    i = notes_a.index(Note)\n",
    "    frac = fracs_a[i]\n",
    "    a1=Audio(data=np.sin(frac*2*np.pi*freq_c*t05)*heaviDecay(4*t05), rate=Fs,autoplay=True)\n",
    "    display(Note,a1)\n",
    "    \n",
    "interact(play_a,Note=RadioButtons(options=notes_a,value=notes_a[-1]));"
   ]
  },
  {
   "cell_type": "markdown",
   "metadata": {},
   "source": [
    "## Scales and fractions\n",
    "\n",
    "We can go further and create the full scale from C to C, using the small fractions 1, 9/8, 5/4, 4/3, 3/2, 5/3, 15/8, and 2. Granted, the fractions 9/8 and 15/8 stand out as a bit unusual, as they seem to have a pretty big denominator -- but these are the fractions that give us the familiar Western scale. \n",
    "\n",
    "Below, you can click on the radio buttons to see what those notes sound like. "
   ]
  },
  {
   "cell_type": "code",
   "execution_count": null,
   "metadata": {},
   "outputs": [],
   "source": [
    "## Codeblock B\n",
    "Fs = 44100\n",
    "Len05 = .5\n",
    "t05 = np.linspace(0,Len05,int(Len05*Fs))\n",
    "freq_c = 261.6 # middle C\n",
    "\n",
    "notes_b = ['C (1)', 'D (9/8)', 'E (5/4)', 'F (4/3)', 'G (3/2)', 'A (5/3)', 'B (15/8)', 'C (2)' ]\n",
    "fracs_b = np.array([1,9/8,5/4,4/3,3/2,5/3,15/8,16/8])\n",
    "run_b = 0\n",
    "\n",
    "def play_b(Note):\n",
    "    global run_b\n",
    "    if run_b == 0:\n",
    "        run_b = 1\n",
    "        return\n",
    "    i = notes_b.index(Note)\n",
    "    frac = fracs_b[i]\n",
    "    a1=Audio(data=np.sin(frac*2*np.pi*freq_c*t05)*heaviDecay(4*t05), rate=Fs,autoplay=True)\n",
    "    display(Note,a1)\n",
    "    \n",
    "interact(play_b,Note=RadioButtons(options=notes_b,value=notes_b[-1]));"
   ]
  },
  {
   "cell_type": "markdown",
   "metadata": {},
   "source": [
    "## Out of tune\n",
    "\n",
    "Do those notes sound right to you? If you are an experienced musician, they might seem a little off. \n",
    "\n",
    "In fact, there is a problem with these notes. Although they are designed to be harmonious (as the ancient Greeks felt they are), there is a problem when a musician starts to transpose notes to different keys. The problem is when you shift all those fractions up by a fixed amount, the new frequencies don't necessarily align with the old.\n",
    "\n",
    "For instance, if we take the C scale and shift to the G scale, we should take the fractions 1, 9/8, 5/4, 4/3, ... and multiply them all by 3/2 (making the base frequency 3/2). We end up with the fractions\n",
    "$$ \\frac{3}{2}\\times\\left[1, \\frac{9}{8}, \\frac{5}{4}, \\frac{4}{3}, \\frac{3}{2}, \\frac{5}{3}, \\frac{15}{8}, 2\\right] = \n",
    "\\left[\\frac{3}{2}, \\frac{27}{16}, \\frac{15}{8}, 2, \\frac{9}{4}, \\frac{15}{6}, \\frac{45}{16}, 3\\right].$$\n",
    "Now, on the right-hand side, we see the familiar fractions 3/2, 15/8 and 2. But in the middle is that 27/16 where we should be expecting a 5/3, corresponding to the A in our scale. It is out of tune, by quite a bit, because\n",
    "$$ \\frac{5}{3} = 1.6667  \\neq 1.6875 = \\frac{27}{16}.$$\n",
    "\n",
    "So this note might sound terribly out of tune. \n",
    "\n",
    "Perhaps this is most easily illustrated with the Circle of Fifths idea. "
   ]
  },
  {
   "cell_type": "markdown",
   "metadata": {},
   "source": [
    "## Circle of Fifths\n",
    "\n",
    "Here is an interesting method for creating the notes in our Western scales. The idea is that the interval C to G, can be used to generate all the notes in the Western tonal scale.\n",
    "\n",
    "Graphically, we can look at the following picture, which lists all the notes C,D,E,F,G, A, and B, as well as the sharps that can occur. Note that sharps correspond to the black keys on the piano.\n",
    "\n",
    "<img src=\"./images/CircleFifths.png\" alt=\"The Circle of Fifths.\" width=\"500\"/></img>\n",
    "<center> The Circle of Fifths. </center>\n",
    "\n",
    "The interval from C to G is called a \"fifth\" in western music, because G is the fifth note in the usual diatonic scale that goes C,D,E,F,G,A,B,C. This fifth is marked on the above circle by the blue arc going from C to G.\n",
    "\n",
    "We can also get from C to G on this circle by counting off \"ticks\" on the circle: it takes 7 ticks to go clockwise from C to G. Each tick corresponds to a semitone in music, so there are seven semitones in a fifth. \n",
    "\n",
    "If you count another seven ticks from G, it will bring you past the C at the top of the circle and get you to D. This is marked by the second arc, going from G to D. \n",
    "\n",
    "### Exercise:\n",
    "1. Continue this pattern. Count seven ticks clockwise from D, you should end up at A. Repeat the seven ticks: what comes after A? Then what comes after that?\n",
    "\n",
    "2. Repeat this pattern. After a total of 12 repeats, you should come back to the beginning note. What is the sequence of notes generated by following the circle of fifths? (Note: We saw above that the sequence starts as C, G, D, A, ...)\n",
    "\n",
    "3. Did you notice that the sharp notes all come at the end of the sequence? Why is that?\n",
    "\n",
    "4. Draw your own circle of fifths, and include all 12 arcs that move you across all the notes in the circle.\n",
    "\n",
    "5. The **Circle of Fourths**. The interval C to F is called a fourth, and consists of 5 semitones (moving clockwise by 5 ticks on the circle). Check yourself that by moving through a fourth each time in the circle, you  will eventually pass through every note on the circle. "
   ]
  },
  {
   "cell_type": "markdown",
   "metadata": {},
   "source": [
    "## Mathematics in the Circle of Fifths.\n",
    "\n",
    "We discussed earlier that the jump from C to G corresponds to increasing the frequency of our note by a factor 3/2.  This is true for any leap of a fifth: the frequencies increase by a factor of 3/2.  So, if we think of 1 as our base frequency for C, then 3/2 is the frequency for G, and (3/2)x(3/2) = 9/4 should correspond to the note D. \n",
    "\n",
    "But of course, this D is too high -- it is an octave higher than what we want, so divide by 2 to bring it down an octave, to get (9/4)/2 = 9/8. This agrees with our fractional scales discussed above.\n",
    "\n",
    "To go from D to A, we again multiply by 3/2, so (9/8)x(3/2) = 27/16. This is not quite 5/3 = 1.66667 but pretty close, as 27/16 = 1.6875. \n",
    "\n",
    "From A to E, we multiply again by 3/2 to get 81/32 and again this is too high by an octave, so we divide by 2 to get $$81/64 \\approx 80/64 = 5/4.$$\n",
    "\n",
    "We should be able to continue with these fractions to get all possible frequencies for the notes on the circle. Unfortunately, this is not quite right, as we will see in the next section."
   ]
  },
  {
   "cell_type": "markdown",
   "metadata": {},
   "source": [
    "## Well-tempered tuning and roots of two\n",
    "\n",
    "The problem with the fractional tuning is this Circle of Fifths doesn't bring you back to C, exactly. \n",
    "\n",
    "The math behind this is that each time you move by a fifth, the frequency will increase by exactly 3/2. So the frequencies increase like this pattern:\n",
    "$$ 1, (3/2), (3/2)^2, (3/2)^3, \\ldots, (3/2)^{12}.$$\n",
    "But we can compute $(3/2)^{12} = 129.746$. This is just a bit bigger than $128 = 2^7$, which is a power of two. Remember, powers of 2 give us octave jumps. So the circle of fifth brings us to a note slightly higher than the C which is seven octaves higher. \n",
    "\n",
    "This got to be such a problem for musicians that in Baroque period, various people proposed a \"well-tempered\" system of tuning for notes where the intervals for frequencies differences are given by powers of the number 2.\n",
    "\n",
    "You may have heard of Bach's composition \"The Well Tempered Clavier\" which is a collection of 24 pieces in all major and minor keys, demonstrating the utility of the well-tempering system."
   ]
  },
  {
   "cell_type": "code",
   "execution_count": null,
   "metadata": {},
   "outputs": [],
   "source": [
    "YouTubeVideo('ezZdbzreNcs')"
   ]
  },
  {
   "cell_type": "markdown",
   "metadata": {},
   "source": [
    "## Fixing the math\n",
    "\n",
    "The basic idea in well-tempering is to choose an number close to 3/2 = 1.5 so that its twelfth power is exactly 128. In fact, we find\n",
    "\n",
    "$$ 1.4983071^{12} = 128.$$\n",
    "\n",
    "Now when we go around the circle of fifths, we will come back exactly to C, in exact frequencies. \n",
    "\n",
    "If you know a bit of algebra, you might recognize this number 1.4983071 as the 12-th root of 128. \n",
    "\n",
    "Another way to describe the circle of fifths is to measure the size of the semitone. We need a number that solves $x^{12} = 2$\n",
    "which just says we need 12 semitones in an octave. The answer is the twelfth root of two, or approximately $ x= 1.0594631$.\n",
    "\n",
    "Now this has solved our problem with tuning. All our notes are related to each other by powers of 2. Shifting up and down the scale amounts to multiplying or dividing by some power of two, so every notes stays in the proper relationship to other notes. There are distinct 12 notes in this system. If we play them all, we get the chromatic scale which includes the notes\n",
    "- C, C#, D, D#, E, F, F#, G, G#, A, A#, B, and back to C.\n",
    "\n",
    "You might well ask, have we lost the exact harmony of the ancient Greeks? Well, indeed we have, but only approximately. See if you can hear the difference, by playing these well-tempered notes in the major C scale. Click on the radio buttons to hear the notes. "
   ]
  },
  {
   "cell_type": "code",
   "execution_count": null,
   "metadata": {},
   "outputs": [],
   "source": [
    "## Code block C\n",
    "Fs = 44100\n",
    "Len05 = .5\n",
    "t05 = np.linspace(0,Len05,int(Len05*Fs))\n",
    "freq_c = 261.6 # middle C\n",
    "\n",
    "notes_c = ['C (1.0)', 'D (1.0595)^2', 'E (1.0595)^4', 'F (1.0595)^5', 'G (1.0595)^7', 'A (1.0595)^9', 'B (1.0595)^11', 'C (2.0)' ]\n",
    "fracs_c = (2**(1/12))**(np.array([0,2,4,5,7,9,11,12]))\n",
    "run_c = 0\n",
    "\n",
    "def play_c(Note):\n",
    "    global run_c\n",
    "    if run_c == 0:\n",
    "        run_c = 1\n",
    "        return\n",
    "    i = notes_c.index(Note)\n",
    "    frac = fracs_c[i]\n",
    "    a1=Audio(data=np.sin(frac*2*np.pi*freq_c*t05)*heaviDecay(4*t05), rate=Fs,autoplay=True)\n",
    "    display(Note,a1)\n",
    "    \n",
    "interact(play_c,Note=RadioButtons(options=notes_c,value=notes_c[-1]));\n",
    "\n"
   ]
  },
  {
   "cell_type": "markdown",
   "metadata": {},
   "source": [
    "## Side by side comparison\n",
    "\n",
    "Here we have both the fractional scale, and the well-tempered scale.\n",
    "\n",
    "Click on the radio buttons, to see if you can hear the difference. Notice the display shows the exact value of the fraction and the power of two. In all cases, the difference is less than a percent, which is very difficult to hear unless you are a trained musician. (The A and the E sort of stand out as quite different.)"
   ]
  },
  {
   "cell_type": "code",
   "execution_count": null,
   "metadata": {},
   "outputs": [],
   "source": [
    "## Code block G\n",
    "Fs = 44100\n",
    "Len05 = .5\n",
    "t05 = np.linspace(0,Len05,int(Len05*Fs))\n",
    "freq_c = 261.6 # middle C\n",
    "\n",
    "notes_g = notes_b+notes_c\n",
    "fracs_g = np.append(fracs_b,fracs_c)\n",
    "run_g = 0\n",
    "\n",
    "def play_g(Note):\n",
    "    global run_g\n",
    "    if run_g == 0:\n",
    "        run_g = 1\n",
    "        return\n",
    "    i = notes_g.index(Note)\n",
    "    frac = fracs_g[i]\n",
    "    a1=Audio(data=np.sin(frac*2*np.pi*freq_c*t05)*heaviDecay(4*t05), rate=Fs,autoplay=True)\n",
    "    display(\"Note \"+Note,\"Decimal value: {:.6f}\".format(frac), a1)\n",
    "    \n",
    "interact(play_g,Note=RadioButtons(options=notes_g,value=notes_g[-1]));"
   ]
  },
  {
   "cell_type": "markdown",
   "metadata": {},
   "source": [
    "## Summary\n",
    "\n",
    "Musical notes have many characteristics, and an important one is the pitch. Pitch is related to the frequency of vibrations for whatever is creating the sound. Human singers can sing notes with frequencies ranging from about 80 cycles per second, to 1000 cycles per second.\n",
    "\n",
    "Scales for notes in Western music are based on the observation that notes of certain frequencies sound harmonious together. The key observation is that if the frequencies of the notes are in the ratio small integers (the fractions have a small numerator and denominator) then the notes often sound good together. \n",
    "\n",
    "The C major scale (C,D,E,F,G,A,B,C) is given by frequencies in the ratios 1, 9/8, 5/4, 4/3, 3/2, 5/3, 15/8, and 2. A major scale in any other key should have the same ratio of frequencies which are these small integers.\n",
    "\n",
    "The Circle of Fifths shows us that these fractions cannot work out exactly. This becomes a problem for musicians who must play music in different keys, with various instruments. The solution was to create the well-tempered scale, where notes are related to each other by fractional powers of two.\n",
    "\n",
    "Specifically, the well-tempered scale uses integer powers of $2^{1/12} = 1.0594631$, where the 2 comes from the fact that an octave represents a doubling in frequency, and the 12 represents the 12 distinct, evenly scaled notes in the chromatic scale. Using this well-tempered method gives a very good approximation to the simple fractions that the ancient Greeks preferred, but still sounds good to our ears. "
   ]
  },
  {
   "cell_type": "markdown",
   "metadata": {},
   "source": [
    "[![Callysto.ca License](https://github.com/callysto/curriculum-notebooks/blob/master/callysto-notebook-banner-bottom.jpg?raw=true)](https://github.com/callysto/curriculum-notebooks/blob/master/LICENSE.md)"
   ]
  }
 ],
 "metadata": {
  "kernelspec": {
   "display_name": "Python 3.10.1 64-bit",
   "language": "python",
   "name": "python3"
  },
  "language_info": {
   "codemirror_mode": {
    "name": "ipython",
    "version": 3
   },
   "file_extension": ".py",
   "mimetype": "text/x-python",
   "name": "python",
   "nbconvert_exporter": "python",
   "pygments_lexer": "ipython3",
   "version": "3.10.1"
  },
  "vscode": {
   "interpreter": {
    "hash": "d1ca6d17674200220921376aaeb3d36cffe15ecab2470a9a5e7a456cdbf61425"
   }
  }
 },
 "nbformat": 4,
 "nbformat_minor": 4
}
