{
 "cells": [
  {
   "cell_type": "markdown",
   "metadata": {},
   "source": [
    "![Callysto.ca Banner](https://github.com/callysto/curriculum-notebooks/blob/master/callysto-notebook-banner-top.jpg?raw=true)\n",
    "\n",
    "<a href=\"https://hub.callysto.ca/jupyter/hub/user-redirect/git-pull?repo=https%3A%2F%2Fgithub.com%2Fcallysto%2Fcurriculum-notebooks&branch=master&subPath=TechnologyStudies/IntroductionToPython/introduction-to-python.ipynb&depth=1\" target=\"_parent\"><img src=\"https://raw.githubusercontent.com/callysto/curriculum-notebooks/master/open-in-callysto-button.svg?sanitize=true\" width=\"123\" height=\"24\" alt=\"Open in Callysto\"/></a>"
   ]
  },
  {
   "cell_type": "markdown",
   "metadata": {},
   "source": [
    "# Introduction to Python\n",
    "\n",
    "Programming is a process that instructs the computer to perform a task. In this notebook, we will introduce some Python programming to solve simple real-life sequential algorithm-based problems using the input-process-output (IPO) approach. Each part of the IPO approach will be used to introduce introductory Python programming concepts.\n",
    "\n",
    "A tradition in computer science for your first program is to write a program to output the phrase `Hello World!`."
   ]
  },
  {
   "cell_type": "code",
   "execution_count": null,
   "metadata": {},
   "outputs": [],
   "source": [
    "print(\"Hello World!\")"
   ]
  },
  {
   "cell_type": "markdown",
   "metadata": {},
   "source": [
    "You can run the above cell with either pressing `Ctrl + Enter` or by selecting the cell and clicking `Run` at the top”, which will give the output: `Hello World!`. Here we have used the `print` statement, which can output a sentence enclosed within quotations to the screen."
   ]
  },
  {
   "cell_type": "markdown",
   "metadata": {},
   "source": [
    "### Variables and Input Reading\n",
    "\n",
    "#### Variables\n",
    "\n",
    "Let's imagine you have a pen and a pencil and you want to find out how many writing tools you have. You can display the output of this calculation by using the `print()` statement."
   ]
  },
  {
   "cell_type": "code",
   "execution_count": null,
   "metadata": {},
   "outputs": [],
   "source": [
    "print(1+1)"
   ]
  },
  {
   "cell_type": "markdown",
   "metadata": {},
   "source": [
    "Instead of using `print(1 + 1)`, you can give them a proper name such as `pen` and `pencil`. These `pen` and `pencil` are known as **variables**, and are Python's way of \"remembering\" a value. Variables can be numbers like integers or decimals  (for a computer, decimals are known as \"floating point numbers\"), or even words and characters, which are known as \"strings\".\n",
    "\n",
    "Let's write a program to find the total using variables."
   ]
  },
  {
   "cell_type": "code",
   "execution_count": null,
   "metadata": {},
   "outputs": [],
   "source": [
    "pen = 1\n",
    "pencil = 1\n",
    "total = pen + pencil\n",
    "print(total)"
   ]
  },
  {
   "cell_type": "markdown",
   "metadata": {},
   "source": [
    "#### Getting User Input\n",
    "\n",
    "In many programs we need to get some values from the user as the **input**, and store them in variables to use later. The input function always returns '*string*' which is a sequence of characters or words. Let's see the following example of taking an input variable as string type:\n",
    "\n",
    "```python\n",
    "color = input(\"Type your favourite color: \")\n",
    "```\n",
    "From the above expression, `color` input variable can be any string, such as `red`."
   ]
  },
  {
   "cell_type": "code",
   "execution_count": null,
   "metadata": {},
   "outputs": [],
   "source": [
    "color = input(\"Type your favourite color: \")\n",
    "print(\"your favourite color is: \" + color)"
   ]
  },
  {
   "cell_type": "markdown",
   "metadata": {},
   "source": [
    "We can also take any '*numerical*' input from the **input** function, but we need to convert the \"string\" to a number. The number can be an \"integer\", a whole number, or a \"floating point number\", a number with a decimal. We use `int` and `float` for these.\n",
    "\n",
    "```python\n",
    "price = int(input(\"Price of your pen: \"))\n",
    "```\n",
    "\n",
    "This would allow the `price` input variable to be any whole number such as $4$, but not be any decimal number such as $4.5$.\n",
    "\n",
    "```python\n",
    "price = float(input(\"Price of your pen: \"))\n",
    "```\n",
    "This allows the `price` variable to be decimal point number such as $4.5$ or a whole number such as $4$."
   ]
  },
  {
   "cell_type": "code",
   "execution_count": null,
   "metadata": {},
   "outputs": [],
   "source": [
    "price = int(input(\"Price of your pen (integer): \"))\n",
    "print(\"Your pen costs\", price)\n",
    "price = float(input(\"Price of your pen (float): \"))\n",
    "print(\"Your pen costs\", price)"
   ]
  },
  {
   "cell_type": "markdown",
   "metadata": {},
   "source": [
    "## Creating Algorithms\n",
    "\n",
    "An algorithm is a set of operations or steps to be performed to solve a problem or a task. Everything can be written as an algorithm, for example, let's write a simple algorithm of our daily morning life:\n",
    "\n",
    "1. Wake up\n",
    "2. Brush your teeth\n",
    "3. Take a shower\n",
    "4. Eat breakfast\n",
    "5. Go to school\n",
    "\n",
    "Let's write another simple algorithm to message your friend:\n",
    "\n",
    "1. Get your phone\n",
    "2. Go to your contact list\n",
    "3. Search your friend's name\n",
    "4. Start a new message\n",
    "5. Type your message\n",
    "6. Tap send\n",
    "\n",
    "In computing, programmers write algorithms for a computer to perform tasks.\n",
    "\n",
    "The input/process/output (IPO) approach is widely used to solve a computing problem:\n",
    "\n",
    "1. **Input** is data for the algorithm. In this notebook, input will be variables from user input.\n",
    "2. **Process** takes the input and performs some logical operations based on the goal of the algorithm.\n",
    "3. **Output** displays the result of the algorithm.\n",
    "\n",
    "### Example 1\n",
    "\n",
    "***Write an algorithm or program that will take numbers and display the average.***\n",
    "\n",
    "#### Solution\n",
    "\n",
    "* The goal of this algorithm is to compute the average of three numbers. So we need to obtain these three numbers, which will act as **input** of the algorithm. \n",
    "* We then have to perform following arithmetic operation to get the output, which will act as the **process** part of the algorithm. \n",
    "    * $\\text{avg} = \\frac{\\text{number1} + \\text{number2} + \\text{number3}}{3}$\n",
    "* Finally we will show the average of these three numbers as the **output**.\n",
    "\n",
    "#### Algorithm\n",
    "\n",
    "You can see the algorithm and IPO part of this problem in a video by running the following cell."
   ]
  },
  {
   "cell_type": "code",
   "execution_count": null,
   "metadata": {},
   "outputs": [],
   "source": [
    "from IPython.display import YouTubeVideo\n",
    "YouTubeVideo('dpBHmp6oEjs')"
   ]
  },
  {
   "cell_type": "code",
   "execution_count": null,
   "metadata": {},
   "outputs": [],
   "source": [
    "# Input\n",
    "num1 = int(input(\"Enter your number 1: \"))\n",
    "num2 = int(input(\"Enter your number 2: \"))\n",
    "num3 = int(input(\"Enter your number 3: \"))\n",
    "\n",
    "# Processing\n",
    "avg = (num1 + num2 + num3)/3\n",
    "\n",
    "# Output\n",
    "print(\"The average of the numbers:\", avg)"
   ]
  },
  {
   "cell_type": "markdown",
   "metadata": {},
   "source": [
    "#### Testing\n",
    "\n",
    "Testing is an important part of programming. Testing is performed to check whether the program is running expectedly or not. Let's test the above program using the following test cases:\n",
    "\n",
    "1. Case 1: **Input** = (0, 5, 7) -----> **Output** = 4\n",
    "2. Case 2: **Input** = (0, -2, 5)-----> **Output** = 1\n",
    "3. Case 3: **Input** = (1.5, 2, 7)-----> **Output** = `ValueError: invalid literal for int() with base 10: '1.5'`\n",
    "\n",
    "Since we used an input that was not an integer, we encountered an error.\n",
    "\n",
    "We can protect ourselves from this **`\"ValueError\"`** by instead taking the input as a float number. This will allow us to take both whole, decimal point, and negative numbers. Now let's see the revised program of this algorithm below."
   ]
  },
  {
   "cell_type": "code",
   "execution_count": null,
   "metadata": {},
   "outputs": [],
   "source": [
    "# Input\n",
    "num1 = float(input(\"Enter your number 1: \"))\n",
    "num2 = float(input(\"Enter your number 2: \"))\n",
    "num3 = float(input(\"Enter your number 3: \"))\n",
    "\n",
    "# Processing\n",
    "avg = (num1 + num2 + num3)/3\n",
    "\n",
    "# Output\n",
    "print(\"The average of the numbers:\", avg)"
   ]
  },
  {
   "cell_type": "markdown",
   "metadata": {},
   "source": [
    "### Example 2\n",
    "\n",
    "***Write an algorithm or program that will read seconds and then displays the equivalent hours, minutes, and remaining seconds.***\n",
    "\n",
    "#### Solution\n",
    "\n",
    "* Input: Number of seconds\n",
    "* Process: Arithmetic operations\n",
    "* Output: Equivalent hour(s), minute(s), and remaining seconds\n",
    "\n",
    "#### Algorithm\n",
    "\n",
    "Let's run the below cell to see the input, process, and output of this time conversion problem.\n"
   ]
  },
  {
   "cell_type": "code",
   "execution_count": null,
   "metadata": {},
   "outputs": [],
   "source": [
    "from IPython.display import YouTubeVideo\n",
    "YouTubeVideo('1hFQ-ysdZcE')"
   ]
  },
  {
   "cell_type": "code",
   "execution_count": null,
   "metadata": {},
   "outputs": [],
   "source": [
    "# Input\n",
    "second = int(input(\"Enter the time in seconds: \"))\n",
    "\n",
    "# Processing\n",
    "hour = second/3600\n",
    "second = second - (hour * 3600)\n",
    "minute = second/60\n",
    "second = second - (minute * 60)\n",
    "\n",
    "# Output\n",
    "print(\"Equivalent Time:\", hour , \"hours\", minute, \"minutes\", second, \"seconds\")"
   ]
  },
  {
   "cell_type": "markdown",
   "metadata": {},
   "source": [
    "### Testing\n",
    "\n",
    "Let's test the above program using the following test cases:\n",
    "\n",
    "1. Case 1: **Input** = (3600) -----> **Output** = 1 hours 0 minutes 0 seconds\n",
    "2. Case 2: **Input** = (3620) -----> **Output** = 1.005555 hours 0 minutes 0 seconds\n",
    "* but the output should be 1 hours 0 minutes 20 seconds\n",
    "3. Case 3: **Input** = (3690) -----> **Output** = 1.025 hours 7.57912e-15 minutes 0 seconds\n",
    "* but the output should be 1 hours 1 minutes 30 seconds\n",
    "\n",
    "Case 1 and 2 are not giving the expected outcomes. But no error is showing on the screen. The goal of the program is to convert the seconds into hours, minutes, and seconds, so hours and minutes cannot be decimal point float number. Let's see the following lines of the program:\n",
    "\n",
    "```python\n",
    "hour = second/3600\n",
    "minute = second/60\n",
    "```\n",
    "\n",
    "Since we have not indicated the type of the hour and minute variables, the program will take them as a float variable by default from the division. We want them to be integers, though.\n",
    "\n",
    "#### Revised Program"
   ]
  },
  {
   "cell_type": "code",
   "execution_count": null,
   "metadata": {},
   "outputs": [],
   "source": [
    "# Input\n",
    "second = int(input(\"Enter the time in seconds: \"))\n",
    "\n",
    "# Processing\n",
    "hour = int(second/3600)\n",
    "second = second - (hour * 3600)\n",
    "minute = int(second/60)\n",
    "second = second - (minute * 60)\n",
    "\n",
    "# Output\n",
    "print(\"Equivalent Time:\", hour , \"hours\", minute, \"minutes\", second, \"seconds\")"
   ]
  },
  {
   "cell_type": "markdown",
   "metadata": {},
   "source": [
    "### Exercise 1\n",
    "\n",
    "***Write a program that will calculate total cost of a restaurant bill. The program will read initial cost of the bill. Tax rate is $10\\%$, and tip is $5\\%$ of the initial cost (without tax). The program displays the output as tax, tip and overall cost of the meal.*** \n",
    "\n",
    "Test the program by taking the following inputs:\n",
    "1. Case 1: **Input** = initial cost: 120 ----> **Output** = Tax amount: $12$, Tip amount: $6$, Overall Cost: $138$\n",
    "2. Case 2: **Input** = initial cost: 150.5 ----> **Output** = Tax amount: $15.05$, Tip amount: $7.525$, Overall Cost: $173.075$"
   ]
  },
  {
   "cell_type": "code",
   "execution_count": null,
   "metadata": {},
   "outputs": [],
   "source": [
    "TAX_RATE = .1\n",
    "TIP_RATE = .05\n",
    "\n",
    "# Input\n",
    "initial_cost = float(input(\"Enter the initial cost: \"))\n",
    "\n",
    "# Processing\n",
    "\n",
    "# Output"
   ]
  },
  {
   "cell_type": "markdown",
   "metadata": {},
   "source": [
    "### Exercise 2\n",
    "\n",
    "***Let's imagine you are filling out an application form for a part-time job. In the application form, you have to fill the height in feet and inches. But you know your height in centimeters. Let's write a program to convert your height from centimeters to feet and inches.***\n",
    "\n",
    "**Hint**: 1 foot = 12 inches and 1 inch = 2.54 centimetres\n",
    "\n",
    "Test the program using the following inputs:\n",
    "1. Case 1: **Input** = centimetres: 183 -----> **Output** = Feet: 6, Inches: 0.0472\n",
    "2. Case 2: **Input** = centimetres: 182 -----> **Output** = Feet: 5, Inches: 11.6535"
   ]
  },
  {
   "cell_type": "code",
   "execution_count": null,
   "metadata": {},
   "outputs": [],
   "source": [
    "# Input\n",
    "\n",
    "# Processing\n",
    "\n",
    "# Output"
   ]
  },
  {
   "cell_type": "markdown",
   "metadata": {},
   "source": [
    "## Conclusion\n",
    "\n",
    "This notebook introduced Python programming with sequential algorithms using the IPO approach."
   ]
  },
  {
   "cell_type": "markdown",
   "metadata": {},
   "source": [
    "[![Callysto.ca License](https://github.com/callysto/curriculum-notebooks/blob/master/callysto-notebook-banner-bottom.jpg?raw=true)](https://github.com/callysto/curriculum-notebooks/blob/master/LICENSE.md)"
   ]
  }
 ],
 "metadata": {
  "interpreter": {
   "hash": "d1ca6d17674200220921376aaeb3d36cffe15ecab2470a9a5e7a456cdbf61425"
  },
  "kernelspec": {
   "display_name": "Python 3 (ipykernel)",
   "language": "python",
   "name": "python3"
  },
  "language_info": {
   "codemirror_mode": {
    "name": "ipython",
    "version": 3
   },
   "file_extension": ".py",
   "mimetype": "text/x-python",
   "name": "python",
   "nbconvert_exporter": "python",
   "pygments_lexer": "ipython3",
   "version": "3.9.12"
  }
 },
 "nbformat": 4,
 "nbformat_minor": 4
}
