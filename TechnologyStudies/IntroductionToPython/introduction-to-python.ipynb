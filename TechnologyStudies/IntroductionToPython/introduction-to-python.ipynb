{
 "cells": [
  {
   "cell_type": "markdown",
   "metadata": {},
   "source": [
    "![Callysto.ca Banner](https://github.com/callysto/curriculum-notebooks/blob/master/callysto-notebook-banner-top.jpg?raw=true)\n",
    "\n",
    "<a href=\"https://hub.callysto.ca/jupyter/hub/user-redirect/git-pull?repo=https%3A%2F%2Fgithub.com%2Fcallysto%2Fcurriculum-notebooks&branch=master&subPath=TechnologyStudies/IntroductionToPython/introduction-to-python.ipynb&depth=1\" target=\"_parent\"><img src=\"https://raw.githubusercontent.com/callysto/curriculum-notebooks/master/open-in-callysto-button.svg?sanitize=true\" width=\"123\" height=\"24\" alt=\"Open in Callysto\"/></a>"
   ]
  },
  {
   "cell_type": "markdown",
   "metadata": {},
   "source": [
    "# Introduction to Python\n",
    "\n",
    "Programming is a process that instructs the computer to perform a task. Let's think you have a task to write 1 to 1000. It will take a lot of time if you want to write this using pen and paper. But you can easily do it by writing a few lines of a program. Programming will make your life simple in complex work. There are so many programming languages have been demonstrated so far. Python is one of them, which is widely used and the most popular one. In fact, Python becomes the No. 1 programming language in 2017 based on [IEEE Spectrum](https://spectrum.ieee.org/computing/software/the-2017-top-programming-languages), and is used to build many popular websites like Youtube and Instagram. In this notebook, we will learn this python language to solve simple real-life sequential algorithm-based problems using the input-process-output (IPO) approach. The sequential algorithm performs it's each part of task sequentially, which is easy to implement in Python programming language. Each part of IPO approach will help us to learn the introductory Python programming knowledge. Thus, this notebook will give the user introductory level Python programming knowledge."
   ]
  },
  {
   "cell_type": "code",
   "execution_count": null,
   "metadata": {},
   "outputs": [],
   "source": [
    "from IPython.display import HTML\n",
    "import io\n",
    "import base64\n",
    "\n",
    "hide_me = ''\n",
    "HTML('''<script>\n",
    "code_show=true; \n",
    "function code_toggle() {\n",
    "  if (code_show) {\n",
    "    $('div.input').each(function(id) {\n",
    "      el = $(this).find('.cm-variable:first');\n",
    "      if (id == 0 || el.text() == 'hide_me') {\n",
    "        $(this).hide();\n",
    "      }\n",
    "    });\n",
    "    $('div.output_prompt').css('opacity', 0);\n",
    "  } else {\n",
    "    $('div.input').each(function(id) {\n",
    "      $(this).show();\n",
    "    });\n",
    "    $('div.output_prompt').css('opacity', 1);\n",
    "  }\n",
    "  code_show = !code_show\n",
    "} \n",
    "$( document ).ready(code_toggle);\n",
    "</script>\n",
    "<form action=\"javascript:code_toggle()\"><input style=\"opacity:0\" type=\"submit\" value=\"Click here to toggle on/off the raw code.\"></form>''')"
   ]
  },
  {
   "cell_type": "markdown",
   "metadata": {},
   "source": [
    "## Basic: Python Programming\n",
    "\n",
    "A tradition in computer science for your first program is to write a program which outputs a simple phrase: `Hello World!`. To complete this tradition, input the following into the cell below:\n",
    "\n",
    "```python\n",
    "print(\"Hello World!\")\n",
    " ```"
   ]
  },
  {
   "cell_type": "code",
   "execution_count": null,
   "metadata": {},
   "outputs": [],
   "source": []
  },
  {
   "cell_type": "markdown",
   "metadata": {},
   "source": [
    "You can run the above cell with either pressing `Ctrl + Enter` or by selecting the cell and clicking `Run` at the top”, which will give the output: `Hello World!`. Here we have used the `print` statement, which can output a sentence enclosed within quotations to the screen."
   ]
  },
  {
   "cell_type": "markdown",
   "metadata": {},
   "source": [
    "### Variables and Input Reading\n",
    "\n",
    "#### Variables\n",
    "\n",
    "Let's think, you have a pen and a pencil. Now, you want to find the total of these two items. You can do this thing like `print(1 + 1)`. This line of the program will execute $2$. Let's see this by running the following section: "
   ]
  },
  {
   "cell_type": "code",
   "execution_count": null,
   "metadata": {},
   "outputs": [],
   "source": [
    "print(1+1)"
   ]
  },
  {
   "cell_type": "markdown",
   "metadata": {},
   "source": [
    "Instead of using `print(1 + 1)`, you can give them a proper name such as `pen` and `pencil`. These `pen` and `pencil` are known as **variables**. This is Python’s way of “remembering” a value. Variables can be numbers like integers or decimals  (for a computer, decimals are known as “floating point numbers”), or even words and characters, which are known as “strings”. Let's write a program to find the total amount of your pen and pencil using variable concept."
   ]
  },
  {
   "cell_type": "code",
   "execution_count": null,
   "metadata": {},
   "outputs": [],
   "source": [
    "pen =1\n",
    "\n",
    "pencil = 1\n",
    "\n",
    "total = pen + pencil\n",
    "\n",
    "print(total)"
   ]
  },
  {
   "cell_type": "markdown",
   "metadata": {},
   "source": [
    "#### Reading Input from the Keyboard\n",
    "\n",
    "Almost in all programs, we need to read some values from the user as the **input**, and store them in some variables, so that we can use them later. The input function always returns '*string*' which is a sequence of characters or words. Let's see the following example of taking an input variable as string type:\n",
    "\n",
    "```python\n",
    "variable = input(\"Prompt message\")\n",
    "\n",
    "color = input(\"Your favourite color:\" )\n",
    "```\n",
    "From the above expression, `color` input variable can be any string such as `Red`.\n",
    "\n",
    "Let's try the above input function in the cell below, you can run it with either pressing `Ctrl + Enter` or by selecting the cell and clicking `Run` at the top”."
   ]
  },
  {
   "cell_type": "code",
   "execution_count": null,
   "metadata": {},
   "outputs": [],
   "source": [
    "#NBVAL_SKIP\n",
    "\n",
    "color = input(\"your favourite color: \")\n",
    "\n",
    "wish = input(\"Wish message of your friend's birthday: \")"
   ]
  },
  {
   "cell_type": "markdown",
   "metadata": {},
   "source": [
    "In the below cell, you can create your own input function based on the above example."
   ]
  },
  {
   "cell_type": "code",
   "execution_count": null,
   "metadata": {},
   "outputs": [],
   "source": []
  },
  {
   "cell_type": "markdown",
   "metadata": {},
   "source": [
    "We can also take any '*numerical*' input from the **input** function. But we have to initialize it before the input function. There are various types of numerical input. Here we will familiar with `integer` and `float` numbers. Integer is a whole number, and it can be positive, negative and zero. But integer can not be the fractional number. Float defines the number which has decimal point. We can take an integer and float input number by writing '`int`' and '`float`' just before the `input` function respectively. Float number will also work in case of the whole number, but integer number will not take float number. Let's see a couple of example of taking input using integer and float:\n",
    "\n",
    "```python\n",
    "price = int(input(\"Price of your pen: \"))\n",
    "```\n",
    "\n",
    "From the above expression, `price` input variable can be any whole number such as $4$. But it can not be any decimal point number such as $4.5$.\n",
    "\n",
    "```python\n",
    "price = float(input(\"Price of your pen: \"))\n",
    "```\n",
    "From the above expression. `price` variable will be decimal point number such as $4.5$. But, it will also work in case of whole number such as $4$.\n",
    "\n",
    "We have to decide the type of numerical input type based on our goal. Let's run the cell below as we did earlier to check the above examples:"
   ]
  },
  {
   "cell_type": "code",
   "execution_count": null,
   "metadata": {},
   "outputs": [],
   "source": [
    "#NBVAL_SKIP\n",
    "\n",
    "price = int(input(\"Price of your pen: \"))\n",
    "\n",
    "price = float(input(\"Price of your pen: \"))"
   ]
  },
  {
   "cell_type": "markdown",
   "metadata": {},
   "source": [
    "## Creating Your First Algorithm\n",
    "An algorithm is a set of operations or steps to be performed to solve a problem or a task. Everything can be written as an algorithm, for example, let's write a simple algorithm of our daily morning life:\n",
    "\n",
    "1. Wake up from sleep\n",
    "2. Brush your teeth\n",
    "3. Take a shower\n",
    "4. Take the breakfast\n",
    "5. Get into the car or bus for school\n",
    "\n",
    "Let's write another simple algorithm to call to your friend:\n",
    "\n",
    "1. Take your mobile phone\n",
    "2. Go to your contact list\n",
    "3. Search your friend's name\n",
    "4. Call your friend\n",
    "\n",
    "These two algorithms are the simple examples that we follow in our real life. In computing, programmers write the set of instructions of an algorithm that instructs computer to perform that task.\n",
    "\n",
    "A sequential algorithm performs the set of operations sequentially from start to finish. Sequential algorithm is easy to understand and implement. We will familiar with the basic level of python programming from this notebook using this sequential algorithm.\n",
    "\n",
    "The input/process/output (IPO) approach is widely used to solve a computing problem. We will also use this approach to solve the sequential algorithm computing problem using the python programming. This IPO approach will also help us to learn the introductory Python knowledge. Let's see the following points and it will give you the clear idea:\n",
    "\n",
    "* Input part will teach us how to take input for a problem.\n",
    "* Process part will teach us to perform any arithmetic operations.\n",
    "* Output part will help to display the output on the computer screen. \n",
    "\n",
    "Let's try to understand each part of a IPO approach.\n",
    "\n",
    "1. **Input** is pre-existing data of the algorithm, which has been provided by an external system. In this notebook, pre-existing data will be variable and external system will be you or reader. \n",
    "\n",
    "2. **Process** is the most important in this IPO approach. In another way, we can say that it is the heart of the algorithm. It takes the input and performs some logical operations based on the goal of the algorithm to transform it to the next output stage. Here, logical operation will be arithmetic operations based on the output of the algorithm. \n",
    "\n",
    "3. **Output** is the result of the algorithm which has been obtained by processing the input.\n",
    "\n",
    "In a sequential algorithm, operations have been performed sequentially. So, processing occurs only when all input required data are available and output occurs only after appropriate processing has occurred. Let's see the following example that will give you a clear idea of input, process, and output (IPO) approach of a sequential algorithm:\n",
    "\n",
    "### Example 1\n",
    "\n",
    "***Write an algorithm or program that will take numbers from you/user, and show the average of these three number.***\n",
    "\n",
    "### Solution\n",
    "\n",
    "To solve this algorithm or program, we first have to define the input, process and output. Let's see the following points to define them for this computing problem:\n",
    "\n",
    "* The goal of this algorithm is to compute the average of three numbers. So, we have to take these three numbers, which will act as **input** of the algorithm. \n",
    "\n",
    "* Now, we have to find the process part of the algorithm. To find that we have to think how you will get the average from these three numbers. We have to perform following arithmetic operation to get the output, which will act as **process** part of the algorithm. \n",
    "\n",
    "    \\begin{equation}\n",
    "    \\text{avg} = \\frac{\\text{num1} + \\text{num2} + \\text{num3}}{3}\n",
    "    \\end{equation}\n",
    "\n",
    "* Finally, we will get the average of these three numbers at the **output** stage from the process part.\n",
    "\n",
    "From the above explanation we can say that to define the input and process we can ask the following questions:\n",
    "\n",
    "* *Input*: **What do we need to obtain the output?**\n",
    "\n",
    "* *Process*: **How will we obtain the output from the input?**\n",
    "\n",
    "#### Algorithm\n",
    "\n",
    "Let's see the algorithm and IPO part of this problem by running the following cell: "
   ]
  },
  {
   "cell_type": "code",
   "execution_count": null,
   "metadata": {},
   "outputs": [],
   "source": [
    "from IPython.display import YouTubeVideo\n",
    "YouTubeVideo('dpBHmp6oEjs')"
   ]
  },
  {
   "cell_type": "code",
   "execution_count": null,
   "metadata": {},
   "outputs": [],
   "source": [
    "#NBVAL_SKIP\n",
    "\n",
    "#\n",
    "# Compute the average\n",
    "#\n",
    "\n",
    "# Read the input value from user : 3 numbers\n",
    "num1 = int(input(\"Enter your number 1: \"))\n",
    "num2 = int(input(\"Enter your number 2: \"))\n",
    "num3 = int(input(\"Enter your number 3: \"))\n",
    "\n",
    "# Compute the avaerage of the numbers : Processing\n",
    "avg = (num1 + num2 + num3)/3\n",
    "\n",
    "# Display the result : Output\n",
    "print(\"The average of the numbers:\", avg)"
   ]
  },
  {
   "cell_type": "markdown",
   "metadata": {},
   "source": [
    "#### Testing\n",
    "\n",
    "Testing is an important part of programming. Testing is performed to check whether the program is running expectedly or not. Let's test the above program using the following test cases:\n",
    "\n",
    "1. Case 1: **Input** = (0, 5, 7) -----> **Output** = 4\n",
    "\n",
    "2. Case 2: **Input** = (0, -2, 5)-----> **Output** = 1\n",
    "\n",
    "Input = (1.5,  , ) -----> Error will be shown after taking the first number as input. It will be shown as **`ValueError: invalid literal for int() with base 10: '1.5'`**. It will also indicate the line of the program that we are getting this error by showing an arrow in that line. In that line, we take integer as input and which is a whole number. But we are giving input $1.5$ which is a decimal point float number, not a whole number. That's why this value error is showing. \n",
    "\n",
    "#### Revised Program\n",
    "\n",
    "We can protect ourselves from this **`\"ValueError\"`** by building in some protection into the input statements. So, we will take the input as a float number. This will allow us to take both whole, decimal point, and negative numbers. Now let's see the revised program of this algorithm below:"
   ]
  },
  {
   "cell_type": "code",
   "execution_count": null,
   "metadata": {},
   "outputs": [],
   "source": [
    "#NBVAL_SKIP\n",
    "\n",
    "#\n",
    "# Compute the average\n",
    "#\n",
    "\n",
    "# Read the input value from user : 3 number\n",
    "num1 = float(input(\"Enter your number 1: \"))  #Change occurs\n",
    "num2 = float(input(\"Enter your number 2: \"))  #Change occurs\n",
    "num3 = float(input(\"Enter your number 3: \"))  #Change occurs\n",
    "\n",
    "# Compute the avaerage of the numbers : Processing\n",
    "avg = (num1 + num2 + num3)/3\n",
    "\n",
    "# Display the result : Output\n",
    "print(\"The average of the numbers:\", avg)"
   ]
  },
  {
   "cell_type": "markdown",
   "metadata": {},
   "source": [
    "Let's think another problem as read the three numbers and display these numbers in the output. \n",
    "\n",
    "**Is the above problem can be solved using the IPO approach?** \n",
    "\n",
    "Let's use the technique that we set earlier to obtain the input and process part. \n",
    "\n",
    "*Input*: *What do we need to obtain the output?*  \n",
    "\n",
    "We need three numbers from user to obtain the output. So, these three numbers will act as input.\n",
    "\n",
    "*Process*: *How will we obtain the output from the input?* \n",
    "\n",
    "Our goal is to display the three numbers that you get from the input. But we do not have to perform any operation from input to get the output. So, this problem does not have any process part. \n",
    "\n",
    "The above problem can not be solved using IPO approach as it does not have any process part. But this is a sequential algorithm. So, we have to decide by yourself that it can be solved using the IPO approach or not based on the problem. Let’s take a look at a more practical real-world example of a sequential algorithm that can be solved using the IPO approach.\n",
    "\n",
    "### Example 2\n",
    "\n",
    "***Write an algorithm or program that will read seconds and then displays the equivalent hours, minutes remaining seconds.***\n",
    "\n",
    "### Solution\n",
    "\n",
    "Let's compute the input and process part using the technique that we used earlier for this problem:\n",
    "\n",
    "* Input: Number of seconds.\n",
    "\n",
    "* Process: Arithmetic operations.\n",
    "\n",
    "* Output: Equivalent hour, minute and remaining seconds.\n",
    "\n",
    "\n",
    "#### Algorithm\n",
    "\n",
    "Let's run the below cell to see the input, process and output of this problem: \n"
   ]
  },
  {
   "cell_type": "code",
   "execution_count": null,
   "metadata": {},
   "outputs": [],
   "source": [
    "from IPython.display import YouTubeVideo\n",
    "YouTubeVideo('1hFQ-ysdZcE')"
   ]
  },
  {
   "cell_type": "code",
   "execution_count": null,
   "metadata": {},
   "outputs": [],
   "source": [
    "#NBVAL_SKIP\n",
    "\n",
    "#\n",
    "# Time conversion : Seconds to equivalent hours, minutes and remaining seconds\n",
    "#\n",
    "\n",
    "# Read the seconds from user : Input\n",
    "second = int(input(\"Enter the time in seconds: \"))\n",
    "\n",
    "# Compute the hours: Processing\n",
    "hour = second/3600\n",
    "second = second - (hour * 3600)\n",
    "\n",
    "# Compute the minutes and remaining seconds: Processing\n",
    "minute = second/60\n",
    "second = second - (minute * 60)\n",
    "\n",
    "# Display the result of Hours, Minutes and Seconds : Output\n",
    "print(\"Equivalent Time:\", hour , \"hours\", minute, \"minutes\", second, \"seconds\")"
   ]
  },
  {
   "cell_type": "markdown",
   "metadata": {},
   "source": [
    "### Testing\n",
    "\n",
    "Let's test the above program using the following test cases:\n",
    "\n",
    "1. Case 1: **Input** = (3600) -----> **Output** = 1 hours 0 minutes 0 seconds\n",
    "\n",
    "2. case 2: **Input** = (3620) -----> **Output** = 1.005555 hours 0 minutes 0 seconds, But the output should be 1 hours 0 minutes 20 seconds\n",
    "\n",
    "3. Case 3: **Input** = (3690) -----> **Output** = 1.025 hours 7.57912e-15 minutes 0 seconds, But the output should be 1 hours 1 minutes 30 seconds\n",
    "\n",
    "Case 1 and 2 are not giving the expected outcomes. But no error is showing on the screen. As the goal of the program is to convert the seconds into hours, minutes and seconds. So, hour and minute cannot be decimal point float number. Let's see the following lines of the program:\n",
    "\n",
    "```python\n",
    "hour = second/3600\n",
    "minute = second/60\n",
    "```\n",
    "\n",
    "In these two lines, we have not indicated the type of the hour and minute variables. So, the program will take them as a float variable by default from the division. But hour variable will be a whole number, not a decimal point number as remaining second from hour variable will go to calculate the minute. Same thing for the minute variable. So, these two variables (i.e. hour and minute) will be the integer type. We have to indicate it in the above lines of the program.\n",
    "\n",
    "#### Revised Program"
   ]
  },
  {
   "cell_type": "code",
   "execution_count": null,
   "metadata": {},
   "outputs": [],
   "source": [
    "#NBVAL_SKIP\n",
    "\n",
    "#\n",
    "# Time conversion : Seconds to equivalent hours, minutes and remaining seconds\n",
    "#\n",
    "\n",
    "# Read the seconds from user : Input\n",
    "second = int(input(\"Enter the time in seconds: \"))\n",
    "\n",
    "# Compute the hours: Processing\n",
    "hour = int(second/3600)         # Change occurs\n",
    "second = second - (hour * 3600)\n",
    "\n",
    "# Compute the minutes and remaining seconds: Processing\n",
    "minute = int(second/60)        # Change occur\n",
    "second = second - (minute * 60)\n",
    "\n",
    "# Display the result of Hours, Minutes and Seconds : Output\n",
    "print(\"Equivalent Time:\", hour , \"hours\", minute, \"minutes\", second, \"seconds\")"
   ]
  },
  {
   "cell_type": "markdown",
   "metadata": {},
   "source": [
    "The above two examples give you the clear idea of solving algorithm using the IPO approach of python programming. Let's try to solve following exercises from the knowledge of above examples. The python programs of the exercises are also given. It will be better if you solve these exercises by hiding the python programs. You can easily hide the program by clicking the first cell of this notebook and press '`ctrl + enter`'. Finally, check the output from the test cases. If you are not getting expected output, you can check the given program by doing the same thing at the first cell that you did earlier. Try to find out program error by comparing the given program.\n",
    "\n",
    "### Exercise 1\n",
    "***Write a program that will calculate total cost of a restaurant bill. The program will read initial cost of the bill. Tax rate is $10\\%$, and tip is $5\\%$ of the initial cost (without tax). The program displays the output as tax, tip and overall cost of the meal.*** \n",
    "\n",
    "Test the program by taking the following inputs:\n",
    "1. Case 1: **Input** = initial cost: 120 ----> **Output** = Tax amount: $12$, Tip amount: $6$, Overall Cost: $138$\n",
    "2. Case 2: **Input** = initial cost: 150.5 ----> **Output** = Tax amount: $15.05$, Tip amount: $7.525$, Overall Cost: $173.075$"
   ]
  },
  {
   "cell_type": "code",
   "execution_count": null,
   "metadata": {},
   "outputs": [],
   "source": [
    "#NBVAL_SKIP\n",
    "\n",
    "# Hide this part when you are solving the exercise\n",
    "# Hide Technique: Click the first cell and press 'ctrl + enter' or Select the first cell and press 'Run' at the top\n",
    "\n",
    "#\n",
    "# Restaurant bill : Compute the overall cost, tax and tip amount\n",
    "#\n",
    "\n",
    "TAX_RATE = .1\n",
    "TIP_RATE = .05\n",
    "\n",
    "# Read the seconds from user : Input\n",
    "initial_cost = float(input(\"Enter the initial cost: \"))\n",
    "\n",
    "# Compute the tax, tip and total: Processing\n",
    "tax = initial_cost * TAX_RATE         \n",
    "tip = initial_cost * TIP_RATE\n",
    "overall_cost = initial_cost + tax + tip\n",
    "\n",
    "# Display the result of tax, tip and overall cost : Output\n",
    "print(\"Tax amount:\", tax , \"\\nTip amount:\", tip, \"\\nOverall Cost:\", overall_cost) # \\n will display the output in a new line"
   ]
  },
  {
   "cell_type": "markdown",
   "metadata": {},
   "source": [
    "### Exercise 2\n",
    "***Write a program that will take a two digit number and display the sum of its two digits.*** \n",
    "\n",
    "Test the program using the following inputs:\n",
    "1. Case 1: **Input** = number: 10 -----> **Output** = Tens digit: 1, Ones digit: 0, Sum: 1\n",
    "2. Case 2: **Input** = number: 15 -----> **Output** = Tens digit: 1, Ones digit: 5, Sum: 6"
   ]
  },
  {
   "cell_type": "code",
   "execution_count": null,
   "metadata": {},
   "outputs": [],
   "source": [
    "#NBVAL_SKIP\n",
    "\n",
    "# Hide this part when you are solving the exercise\n",
    "# Hide Technique: Click the first cell and press 'ctrl + enter' or Select the first cell and press 'Run' at the top\n",
    "\n",
    "#\n",
    "# Adding the digits of a two digit number\n",
    "#\n",
    "\n",
    "# Read the number from user : Input\n",
    "num = int(input(\"Enter the number: \"))\n",
    "\n",
    "# Compute the tens, ones and add them: Processing\n",
    "tens = int(num/10)         \n",
    "ones = num - (tens * 10)\n",
    "add = tens + ones\n",
    "\n",
    "# Display the result of Hours, Minutes and Seconds : Output\n",
    "print(\"Tens digit:\", tens , \"\\nOnes digit:\", ones, \"\\nSum: \", add)"
   ]
  },
  {
   "cell_type": "markdown",
   "metadata": {},
   "source": [
    "If you have to see the python program to solve the above two exercises then try to solve the below real-world problem and check the result of your program with given test case result. The python program is not given for the below problem.\n",
    "\n",
    "### Exercise 3\n",
    "\n",
    "***Let's think you are filling an application form for a part-time job. In the application form, you have to fill the height in feet and inches. But you know your height in centimeters. Let's write a program to convert your height from centimeters to feet and inches.***\n",
    "\n",
    "**Hint**: 1 foot = 12 inches and 1 inch = 2.54 centimetres\n",
    "\n",
    "Test the program using the following inputs:\n",
    "1. Case 1: **Input** = centimetres: 183 -----> **Output** = Feet: 6, Inches: 0.0472\n",
    "2. Case 2: **Input** = centimetres: 182 -----> **Output** = Feet: 5, Inches: 11.6535"
   ]
  },
  {
   "cell_type": "markdown",
   "metadata": {},
   "source": [
    "## Conclusion\n",
    "\n",
    "This is an introductory level of python notebook. First, we introduced some fundamental knowledge of python programming as printing a statement using `print` command, familiar with various forms (i.e. string, integer, float) of variables, and how to a take various forms of variables as input from the user using `input` function. Then we familiarized with the sequential algorithm and the IPO approach to solve the algorithm. Each part of IPO approach was also discussed. Finally, we introduced two simple and real-life examples of the sequential algorithm using the IPO approach and solved them using the introductory knowledge of python programming that we learned earlier in this notebook. In those examples, we showed the technique to select the input and process unit, test cases to check the Python program, error from program, and revised program to overcome the error. We also introduced three exercises for practice purpose. The Python programs were also provided for the first two exercises for learning purposes. Various test cases are provided for each exercise to test the output. This notebook will help the user learning the introductory level python programming skill by solving sequential algorithms using the IPO approach."
   ]
  },
  {
   "cell_type": "markdown",
   "metadata": {},
   "source": [
    "[![Callysto.ca License](https://github.com/callysto/curriculum-notebooks/blob/master/callysto-notebook-banner-bottom.jpg?raw=true)](https://github.com/callysto/curriculum-notebooks/blob/master/LICENSE.md)"
   ]
  }
 ],
 "metadata": {
  "interpreter": {
   "hash": "d1ca6d17674200220921376aaeb3d36cffe15ecab2470a9a5e7a456cdbf61425"
  },
  "kernelspec": {
   "display_name": "Python 3.10.1 64-bit",
   "language": "python",
   "name": "python3"
  },
  "language_info": {
   "codemirror_mode": {
    "name": "ipython",
    "version": 3
   },
   "file_extension": ".py",
   "mimetype": "text/x-python",
   "name": "python",
   "nbconvert_exporter": "python",
   "pygments_lexer": "ipython3",
   "version": "3.10.1"
  }
 },
 "nbformat": 4,
 "nbformat_minor": 2
}
