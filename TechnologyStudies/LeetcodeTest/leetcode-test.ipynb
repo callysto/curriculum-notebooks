{
 "cells": [
  {
   "cell_type": "code",
   "execution_count": null,
   "metadata": {},
   "outputs": [],
   "source": [
    "import timeit\n",
    "import plotly.graph_objects as go\n",
    "from plotly.subplots import make_subplots\n",
    "import numpy as np\n",
    "import random\n",
    "from sklearn.linear_model import LinearRegression\n",
    "from sklearn.preprocessing import PolynomialFeatures"
   ]
  },
  {
   "cell_type": "code",
   "execution_count": null,
   "metadata": {},
   "outputs": [],
   "source": [
    "def containsDuplicate_On(nums):\n",
    "    num_set = set()\n",
    "    for num in nums:\n",
    "        if num in num_set:\n",
    "            return True\n",
    "        num_set.add(num)\n",
    "    return False\n",
    "\n",
    "def containsDuplicate_On2(nums):\n",
    "    for i in range(len(nums)):\n",
    "        for j in range(i + 1, len(nums)):\n",
    "            if nums[i] == nums[j]:\n",
    "                return True\n",
    "    return False"
   ]
  },
  {
   "cell_type": "code",
   "execution_count": null,
   "metadata": {},
   "outputs": [],
   "source": [
    "ns = np.linspace(10, 4000, 100, dtype=int)\n",
    "time_taken_On_avg = []\n",
    "time_taken_On2_avg = []\n",
    "\n",
    "for size in ns:\n",
    "    input_array = list(range(1, size + 1))\n",
    "    duplicate = random.randint(1, size)\n",
    "    index = random.randint(0, size - 1)\n",
    "    input_array.insert(index, duplicate)\n",
    " \n",
    "    time_On = timeit.timeit(lambda: containsDuplicate_On(input_array), number=100)\n",
    "\n",
    "    time_On2 = timeit.timeit(lambda: containsDuplicate_On2(input_array), number=5) \n",
    "\n",
    "    time_taken_On_avg.append(time_On)\n",
    "    time_taken_On2_avg.append(time_On2)\n",
    "\n",
    "fig_avg = make_subplots(rows=1, cols=2, subplot_titles=(\"O(n) Time Complexity - Avg Case\", \"O(n^2) Time Complexity - Avg Case\"))\n",
    "\n",
    "fig_avg.add_trace(go.Scatter(x=ns, y=time_taken_On_avg, mode='lines+markers', name='O(n)'), row=1, col=1)\n",
    "fig_avg.add_trace(go.Scatter(x=ns, y=time_taken_On2_avg, mode='lines+markers', name='O(n^2)'), row=1, col=2)\n",
    "\n",
    "fig_avg.update_xaxes(title_text=\"Size of Array\", row=1, col=1)\n",
    "fig_avg.update_xaxes(title_text=\"Size of Array\", row=1, col=2)\n",
    "fig_avg.update_yaxes(title_text=\"Time Taken (seconds)\", row=1, col=1)\n",
    "fig_avg.update_yaxes(title_text=\"Time Taken (seconds)\", row=1, col=2)\n",
    "fig_avg.update_layout(title_text=\"Average Time Complexities of O(n) and O(n^2)\", showlegend=True).show()"
   ]
  },
  {
   "cell_type": "code",
   "execution_count": null,
   "metadata": {},
   "outputs": [],
   "source": [
    "ns = np.linspace(10, 4000, 100, dtype=int)\n",
    "time_taken_On_worst = []\n",
    "time_taken_On2_worst = []\n",
    "\n",
    "for size in ns:\n",
    "    input_array = list(range(1, size + 1))\n",
    "\n",
    "    time_On = timeit.timeit(lambda: containsDuplicate_On(input_array), number=100) \n",
    "    time_On2 = timeit.timeit(lambda: containsDuplicate_On2(input_array), number=2) \n",
    "\n",
    "    time_taken_On_worst.append(time_On)\n",
    "    time_taken_On2_worst.append(time_On2)\n",
    "\n",
    "fig_worst = make_subplots(rows=1, cols=2, subplot_titles=(\"O(n) Time Complexity - Worst Case\", \"O(n^2) Time Complexity - Worst Case\"))\n",
    "\n",
    "fig_worst.add_trace(go.Scatter(x=ns, y=time_taken_On_worst, mode='lines+markers', name='O(n)'), row=1, col=1)\n",
    "fig_worst.add_trace(go.Scatter(x=ns, y=time_taken_On2_worst, mode='lines+markers', name='O(n^2)'), row=1, col=2)\n",
    "\n",
    "regression_On = LinearRegression().fit(np.array(ns).reshape(-1, 1), np.array(time_taken_On_worst))\n",
    "line_On = regression_On.predict(np.array(ns).reshape(-1, 1))\n",
    "\n",
    "poly_features = PolynomialFeatures(degree=2, include_bias=False)\n",
    "ns_poly = poly_features.fit_transform(np.array(ns).reshape(-1, 1))\n",
    "regression_On2 = LinearRegression().fit(ns_poly, np.array(time_taken_On2_worst))\n",
    "line_On2 = regression_On2.predict(ns_poly)\n",
    "\n",
    "fig_worst.add_trace(go.Scatter(x=ns, y=line_On2, mode='lines', name='O(n^2) - Line of Best Fit'), row=1, col=2)\n",
    "fig_worst.add_trace(go.Scatter(x=ns, y=line_On, mode='lines', name='O(n) - Line of Best Fit'), row=1, col=1)\n",
    "\n",
    "fig_worst.update_xaxes(title_text=\"Size of Array\", row=1, col=1)\n",
    "fig_worst.update_xaxes(title_text=\"Size of Array\", row=1, col=2)\n",
    "fig_worst.update_yaxes(title_text=\"Time Taken (seconds)\", row=1, col=1)\n",
    "fig_worst.update_yaxes(title_text=\"Time Taken (seconds)\", row=1, col=2)\n",
    "fig_worst.update_layout(title_text=\"Worst Case Time Complexities of O(n) and O(n^2)\", showlegend=True).show()"
   ]
  }
 ],
 "metadata": {
  "kernelspec": {
   "display_name": "Python 3",
   "language": "python",
   "name": "python3"
  },
  "language_info": {
   "codemirror_mode": {
    "name": "ipython",
    "version": 3
   },
   "file_extension": ".py",
   "mimetype": "text/x-python",
   "name": "python",
   "nbconvert_exporter": "python",
   "pygments_lexer": "ipython3",
   "version": "3.10.8"
  }
 },
 "nbformat": 4,
 "nbformat_minor": 2
}
