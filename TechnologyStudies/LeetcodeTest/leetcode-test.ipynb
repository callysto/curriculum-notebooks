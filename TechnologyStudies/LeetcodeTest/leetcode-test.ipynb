{
 "cells": [
  {
   "cell_type": "code",
   "execution_count": null,
   "metadata": {},
   "outputs": [],
   "source": [
    "import timeit\n",
    "import plotly.graph_objects as go\n",
    "from plotly.subplots import make_subplots\n",
    "import numpy as np\n",
    "import random"
   ]
  },
  {
   "cell_type": "code",
   "execution_count": null,
   "metadata": {},
   "outputs": [],
   "source": [
    "def containsDuplicate_On(nums):\n",
    "    num_set = set()\n",
    "    for num in nums:\n",
    "        if num in num_set:\n",
    "            return True\n",
    "        num_set.add(num)\n",
    "    return False\n",
    "\n",
    "def containsDuplicate_On2(nums):\n",
    "    for i in range(len(nums)):\n",
    "        for j in range(i + 1, len(nums)):\n",
    "            if nums[i] == nums[j]:\n",
    "                return True\n",
    "    return False"
   ]
  },
  {
   "cell_type": "code",
   "execution_count": null,
   "metadata": {},
   "outputs": [],
   "source": [
    "ns = np.linspace(10, 5000, 100, dtype=int)\n",
    "time_taken_On_avg = []\n",
    "time_taken_On2_avg = []\n",
    "\n",
    "for size in ns:\n",
    "    input_array = list(range(1, size + 1))\n",
    "    duplicate = random.randint(1, size)\n",
    "    index = random.randint(0, size - 1)\n",
    "    input_array.insert(index, duplicate)\n",
    " \n",
    "    time_On = timeit.timeit(lambda: containsDuplicate_On(input_array), number=3) / 3\n",
    "\n",
    "    time_On2 = timeit.timeit(lambda: containsDuplicate_On2(input_array), number=3) / 3\n",
    "\n",
    "    time_taken_On_avg.append(time_On)\n",
    "    time_taken_On2_avg.append(time_On2)\n",
    "\n",
    "fig_avg = make_subplots(rows=1, cols=2, subplot_titles=(\"O(n) Time Complexity - Avg\", \"O(n^2) Time Complexity - Avg\"))\n",
    "\n",
    "fig_avg.add_trace(go.Scatter(x=ns, y=time_taken_On_avg, mode='lines+markers', name='O(n)'), row=1, col=1)\n",
    "fig_avg.add_trace(go.Scatter(x=ns, y=time_taken_On2_avg, mode='lines+markers', name='O(n^2)'), row=1, col=2)\n",
    "\n",
    "fig_avg.update_xaxes(title_text=\"Size of Array\", row=1, col=1)\n",
    "fig_avg.update_xaxes(title_text=\"Size of Array\", row=1, col=2)\n",
    "fig_avg.update_yaxes(title_text=\"Time Taken (seconds)\", row=1, col=1)\n",
    "fig_avg.update_yaxes(title_text=\"Time Taken (seconds)\", row=1, col=2)\n",
    "fig_avg.update_layout(title_text=\"Average Time Complexities of O(n) and O(n^2)\", showlegend=True).show()"
   ]
  }
 ],
 "metadata": {
  "kernelspec": {
   "display_name": "Python 3",
   "language": "python",
   "name": "python3"
  },
  "language_info": {
   "codemirror_mode": {
    "name": "ipython",
    "version": 3
   },
   "file_extension": ".py",
   "mimetype": "text/x-python",
   "name": "python",
   "nbconvert_exporter": "python",
   "pygments_lexer": "ipython3",
   "version": "3.10.8"
  }
 },
 "nbformat": 4,
 "nbformat_minor": 2
}
