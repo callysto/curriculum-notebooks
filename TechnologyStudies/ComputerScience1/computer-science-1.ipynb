{
 "cells": [
  {
   "cell_type": "markdown",
   "metadata": {},
   "source": [
    "![Callysto.ca Banner](https://github.com/callysto/curriculum-notebooks/blob/master/callysto-notebook-banner-top.jpg?raw=true)\n",
    "\n",
    "<a href=\"https://hub.callysto.ca/jupyter/hub/user-redirect/git-pull?repo=https%3A%2F%2Fgithub.com%2Fcallysto%2Fcurriculum-notebooks&branch=master&subPath=TechnologyStudies/ComputerScience1/computer-science-1.ipynb&depth=1\" target=\"_parent\"><img src=\"https://raw.githubusercontent.com/callysto/curriculum-notebooks/master/open-in-callysto-button.svg?sanitize=true\" width=\"123\" height=\"24\" alt=\"Open in Callysto\"/></a>"
   ]
  },
  {
   "cell_type": "markdown",
   "metadata": {},
   "source": [
    "# Computer Science 1\n",
    "\n",
    "In this notebook we will look at some outcomes from the course [CSE1010](https://education.alberta.ca/media/159479/cse_pos.pdf). They are likely applicable to other courses as well.\n",
    "\n",
    "## Algorithms\n",
    "\n",
    "We'll first look at \"the nature, design and use of basic algorithms associated with problems involving the sequential inputting, processing and outputting of data\".\n",
    "\n",
    "An [algorithm](https://en.wikipedia.org/wiki/Algorithm) is a set of steps to follow in computing or solving a problem. They can be used for anything from baking to rocket science.\n",
    "\n",
    "### Accumulation\n",
    "\n",
    "An example of an algorithm is:\n",
    "\n",
    "1. start with an `amount` of 0\n",
    "2. add 1 to the `amount`\n",
    "3. print the `amount`\n",
    "4. repeat for a total of five times\n",
    "\n",
    "Click on the code cell below, then click the `▶Run` button to run the [Python](https://en.wikipedia.org/wiki/Python_(programming_language)) code."
   ]
  },
  {
   "cell_type": "code",
   "execution_count": null,
   "metadata": {},
   "outputs": [],
   "source": [
    "amount = 0\n",
    "for i in range(5):\n",
    "    amount = amount + 1\n",
    "    print(amount)"
   ]
  },
  {
   "cell_type": "markdown",
   "metadata": {},
   "source": [
    "Let's try a slightly more complicated algorithm to count the number of vowels in a word. `▶Run` the following code cell."
   ]
  },
  {
   "cell_type": "code",
   "execution_count": null,
   "metadata": {},
   "outputs": [],
   "source": [
    "word = 'onomatopoeia'\n",
    "number_of_vowels = 0\n",
    "for letter in word:\n",
    "    if letter in 'aeiou':\n",
    "        number_of_vowels = number_of_vowels + 1\n",
    "print(number_of_vowels)"
   ]
  },
  {
   "cell_type": "markdown",
   "metadata": {},
   "source": [
    "Try making some modifications to the code cell below to count how many vowels there are in [Shakespeare's Sonnet 18](https://www.poetryfoundation.org/poems/45087/sonnet-18-shall-i-compare-thee-to-a-summers-day)."
   ]
  },
  {
   "cell_type": "code",
   "execution_count": null,
   "metadata": {},
   "outputs": [],
   "source": [
    "sonnet = \"\"\"\n",
    "Shall I compare thee to a summer's day?\n",
    "Thou art more lovely and more temperate:\n",
    "Rough winds do shake the darling buds of May,\n",
    "And summer's lease hath all too short a date;\n",
    "Sometime too hot the eye of heaven shines,\n",
    "And often is his gold complexion dimm'd;\n",
    "And every fair from fair sometime declines,\n",
    "By chance or nature's changing course untrimm'd;\n",
    "But thy eternal summer shall not fade,\n",
    "Nor lose possession of that fair thou ow'st;\n",
    "Nor shall death brag thou wander'st in his shade,\n",
    "When in eternal lines to time thou grow'st:\n",
    "So long as men can breathe or eyes can see,\n",
    "So long lives this, and this gives life to thee.\n",
    "\"\"\"\n",
    "\n",
    "for letter in sonnet.lower():\n",
    "    print(letter)"
   ]
  },
  {
   "cell_type": "markdown",
   "metadata": {},
   "source": [
    "### Mean\n",
    "\n",
    "An algorithm to determine the [mean](https://en.wikipedia.org/wiki/Mean) of a set of numbers could be:\n",
    "\n",
    "1. add up the values\n",
    "2. divide by the number of values\n",
    "\n",
    "Let's try that."
   ]
  },
  {
   "cell_type": "code",
   "execution_count": null,
   "metadata": {},
   "outputs": [],
   "source": [
    "numbers = [4, 3, 6, 7]\n",
    "total = 0\n",
    "for n in numbers:\n",
    "    total = total + n\n",
    "mean_value = total / len(numbers)\n",
    "print(mean_value)"
   ]
  },
  {
   "cell_type": "markdown",
   "metadata": {},
   "source": [
    "We can also import the `mean` method from `statistics` to do the calculations for us."
   ]
  },
  {
   "cell_type": "code",
   "execution_count": null,
   "metadata": {},
   "outputs": [],
   "source": [
    "from statistics import mean\n",
    "numbers = [4, 3, 6, 7]\n",
    "mean(numbers)"
   ]
  },
  {
   "cell_type": "markdown",
   "metadata": {},
   "source": [
    "### Maximum and Minimum\n",
    "\n",
    "Here is an algorithm to find the largest (maximum) value in the [list](https://www.w3schools.com/python/python_lists.asp) of numbers. Can you modify it to find the minimum?"
   ]
  },
  {
   "cell_type": "code",
   "execution_count": null,
   "metadata": {},
   "outputs": [],
   "source": [
    "numbers = [4, 3, 6, 7]\n",
    "maximum = 0\n",
    "for n in numbers:\n",
    "    if n > maximum:\n",
    "        maximum = n\n",
    "print(maximum)"
   ]
  },
  {
   "cell_type": "markdown",
   "metadata": {},
   "source": [
    "Again, there are built-in ways to calculate `max` and `min`. Try `max(numbers)` and `min(numbers)`."
   ]
  },
  {
   "cell_type": "code",
   "execution_count": null,
   "metadata": {},
   "outputs": [],
   "source": [
    "numbers = [4, 3, 6, 7]\n"
   ]
  },
  {
   "cell_type": "markdown",
   "metadata": {},
   "source": [
    "Of course this is much more valuable if we have large data sets. Let's get the [hourly weather](https://climate.weather.gc.ca/) at the [Edmonton International Airport](https://www.climate.weather.gc.ca/climate_data/daily_data_e.html?StationID=50149) for July 2022."
   ]
  },
  {
   "cell_type": "code",
   "execution_count": null,
   "metadata": {},
   "outputs": [],
   "source": [
    "station_id = 50149\n",
    "year = 2022\n",
    "month = 7\n",
    "url_start = 'https://climate.weather.gc.ca/climate_data/bulk_data_e.html?format=csv&stationID='\n",
    "url = url_start+str(station_id)+'&Year='+str(year)+'&Month='+str(month)+'&Day=14&timeframe=1&submit=Download+Data'\n",
    "import pandas as pd\n",
    "weather = pd.read_csv(url)\n",
    "weather"
   ]
  },
  {
   "cell_type": "markdown",
   "metadata": {},
   "source": [
    "Now that we have the data in a [data frame](https://pandas.pydata.org/pandas-docs/stable/reference/api/pandas.DataFrame.html), we can find the mean, maximum, and minimum temperatures for July 2022."
   ]
  },
  {
   "cell_type": "code",
   "execution_count": null,
   "metadata": {},
   "outputs": [],
   "source": [
    "print('mean:', weather['Temp (°C)'].mean())\n",
    "print('maximum:', weather['Temp (°C)'].max())\n",
    "print('minimum:', weather['Temp (°C)'].min())"
   ]
  },
  {
   "cell_type": "markdown",
   "metadata": {},
   "source": [
    "Let's make a graph of the temperature data."
   ]
  },
  {
   "cell_type": "code",
   "execution_count": null,
   "metadata": {},
   "outputs": [],
   "source": [
    "import plotly.express as px\n",
    "px.line(weather, x='Date/Time (LST)', y='Temp (°C)', title='Edmonton International Airport Temperatures July 2022')"
   ]
  },
  {
   "cell_type": "markdown",
   "metadata": {},
   "source": [
    "We can also add horizontal lines for the mean, maximum, and minimum. The first two are done for you, write a line of code to add a `yellow` horizontal line at the minimum temperature value."
   ]
  },
  {
   "cell_type": "code",
   "execution_count": null,
   "metadata": {},
   "outputs": [],
   "source": [
    "fig = px.line(weather, x='Date/Time (LST)', y='Temp (°C)', title='Edmonton International Airport Temperatures July 2022')\n",
    "fig.add_hline(y=weather['Temp (°C)'].max(), line_color='red')\n",
    "fig.add_hline(y=weather['Temp (°C)'].mean(), line_color='green')\n",
    "\n",
    "fig.show()"
   ]
  },
  {
   "cell_type": "markdown",
   "metadata": {},
   "source": [
    "## Conclusion and Control Structures\n",
    "\n",
    "In this notebook we looked at [algorithms](https://en.wikipedia.org/wiki/Algorithm) for [accumulation](https://www.thefreedictionary.com/accumulation), [mean](https://en.wikipedia.org/wiki/Arithmetic_mean), [maximum, and minimum](https://en.wikipedia.org/wiki/Maxima_and_minima).\n",
    "\n",
    "We have been using [structured programming](https://en.wikipedia.org/wiki/Structured_programming) with sequential, decision, and iterative control structures.\n",
    "\n",
    "* **sequential** structures execute statements in the order they appear\n",
    "* **decision** structures usually use keywords like `if` and `else`. We used `if n > maximum:`\n",
    "* **iterative** structures use keywords like `for` or `while`. We used `for n in numbers:`\n",
    "\n",
    "Which of our algorithms used all three of these basic control structures?"
   ]
  },
  {
   "cell_type": "markdown",
   "metadata": {},
   "source": [
    "[![Callysto.ca License](https://github.com/callysto/curriculum-notebooks/blob/master/callysto-notebook-banner-bottom.jpg?raw=true)](https://github.com/callysto/curriculum-notebooks/blob/master/LICENSE.md)"
   ]
  }
 ],
 "metadata": {
  "kernelspec": {
   "display_name": "Python 3.10.1 64-bit",
   "language": "python",
   "name": "python3"
  },
  "language_info": {
   "codemirror_mode": {
    "name": "ipython",
    "version": 3
   },
   "file_extension": ".py",
   "mimetype": "text/x-python",
   "name": "python",
   "nbconvert_exporter": "python",
   "pygments_lexer": "ipython3",
   "version": "3.10.1"
  },
  "orig_nbformat": 4,
  "vscode": {
   "interpreter": {
    "hash": "d1ca6d17674200220921376aaeb3d36cffe15ecab2470a9a5e7a456cdbf61425"
   }
  }
 },
 "nbformat": 4,
 "nbformat_minor": 2
}
