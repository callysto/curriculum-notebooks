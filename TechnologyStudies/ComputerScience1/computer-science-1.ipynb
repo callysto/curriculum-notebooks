{
 "cells": [
  {
   "cell_type": "markdown",
   "metadata": {},
   "source": [
    "![Callysto.ca Banner](https://github.com/callysto/curriculum-notebooks/blob/master/callysto-notebook-banner-top.jpg?raw=true)\n",
    "\n",
    "<a href=\"https://hub.callysto.ca/jupyter/hub/user-redirect/git-pull?repo=https%3A%2F%2Fgithub.com%2Fcallysto%2Fcurriculum-notebooks&branch=master&subPath=TechnologyStudies/ComputerScience1/computer-science-1.ipynb&depth=1\" target=\"_parent\"><img src=\"https://raw.githubusercontent.com/callysto/curriculum-notebooks/master/open-in-callysto-button.svg?sanitize=true\" width=\"123\" height=\"24\" alt=\"Open in Callysto\"/></a>"
   ]
  },
  {
   "cell_type": "markdown",
   "metadata": {},
   "source": [
    "# Computer Science 1\n",
    "\n",
    "In this notebook we will look at some outcomes from the CTS (Career Technology Studies) Alberta course [CSE1010](https://education.alberta.ca/media/159479/cse_pos.pdf). They are likely applicable to other courses as well.\n",
    "\n",
    "## Algorithms\n",
    "\n",
    "We'll first look at \"the nature, design and use of basic algorithms associated with problems involving the sequential inputting, processing and outputting of data\" (Outcome 2).\n",
    "\n",
    "An [algorithm](https://en.wikipedia.org/wiki/Algorithm) is a set of steps to follow in computing or solving a problem. They can be used for anything from baking to rocket science.\n",
    "\n",
    "### Accumulation\n",
    "\n",
    "An example of an algorithm is:\n",
    "\n",
    "1. start with an `amount` of 0\n",
    "2. add 1 to the `amount`\n",
    "3. print the `amount`\n",
    "4. repeat for a total of five times\n",
    "\n",
    "Click on the code cell below, then click the `▶Run` button to run the [Python](https://en.wikipedia.org/wiki/Python_(programming_language)) code."
   ]
  },
  {
   "cell_type": "code",
   "execution_count": null,
   "metadata": {},
   "outputs": [],
   "source": [
    "amount = 0\n",
    "for i in range(5):\n",
    "    amount = amount + 1\n",
    "    print(amount)"
   ]
  },
  {
   "cell_type": "markdown",
   "metadata": {},
   "source": [
    "Let's try a slightly more complicated algorithm to count the number of vowels in a word. `▶Run` the following code cell."
   ]
  },
  {
   "cell_type": "code",
   "execution_count": null,
   "metadata": {},
   "outputs": [],
   "source": [
    "word = 'onomatopoeia'\n",
    "number_of_vowels = 0\n",
    "for letter in word:\n",
    "    if letter in 'aeiou':\n",
    "        number_of_vowels = number_of_vowels + 1\n",
    "print(number_of_vowels)"
   ]
  },
  {
   "cell_type": "markdown",
   "metadata": {},
   "source": [
    "Try making some modifications to the code cell below to count how many vowels there are in [Shakespeare's Sonnet 18](https://www.poetryfoundation.org/poems/45087/sonnet-18-shall-i-compare-thee-to-a-summers-day)."
   ]
  },
  {
   "cell_type": "code",
   "execution_count": null,
   "metadata": {},
   "outputs": [],
   "source": [
    "sonnet = \"\"\"\n",
    "Shall I compare thee to a summer's day?\n",
    "Thou art more lovely and more temperate:\n",
    "Rough winds do shake the darling buds of May,\n",
    "And summer's lease hath all too short a date;\n",
    "Sometime too hot the eye of heaven shines,\n",
    "And often is his gold complexion dimm'd;\n",
    "And every fair from fair sometime declines,\n",
    "By chance or nature's changing course untrimm'd;\n",
    "But thy eternal summer shall not fade,\n",
    "Nor lose possession of that fair thou ow'st;\n",
    "Nor shall death brag thou wander'st in his shade,\n",
    "When in eternal lines to time thou grow'st:\n",
    "So long as men can breathe or eyes can see,\n",
    "So long lives this, and this gives life to thee.\n",
    "\"\"\"\n",
    "\n",
    "for letter in sonnet.lower():\n",
    "    # add your code here\n",
    "    \n",
    "    number_of_vowels += 1"
   ]
  },
  {
   "cell_type": "markdown",
   "metadata": {},
   "source": [
    "### Mean\n",
    "\n",
    "An algorithm to determine the [mean](https://en.wikipedia.org/wiki/Mean) of a set of numbers could be:\n",
    "\n",
    "1. add up the values\n",
    "2. divide by the number of values\n",
    "\n",
    "Let's try that."
   ]
  },
  {
   "cell_type": "code",
   "execution_count": null,
   "metadata": {},
   "outputs": [],
   "source": [
    "numbers = [4, 3, 6, 7]\n",
    "total = 0\n",
    "for n in numbers:\n",
    "    total = total + n\n",
    "mean_value = total / len(numbers)\n",
    "print(mean_value)"
   ]
  },
  {
   "cell_type": "markdown",
   "metadata": {},
   "source": [
    "We can also import the `mean` method from `statistics` to do the calculations for us."
   ]
  },
  {
   "cell_type": "code",
   "execution_count": null,
   "metadata": {},
   "outputs": [],
   "source": [
    "from statistics import mean\n",
    "numbers = [4, 3, 6, 7]\n",
    "mean(numbers)"
   ]
  },
  {
   "cell_type": "markdown",
   "metadata": {},
   "source": [
    "### Maximum and Minimum\n",
    "\n",
    "Here is an algorithm to find the largest (maximum) value in the [list](https://www.w3schools.com/python/python_lists.asp) of numbers. Can you modify it to find the minimum?"
   ]
  },
  {
   "cell_type": "code",
   "execution_count": null,
   "metadata": {},
   "outputs": [],
   "source": [
    "numbers = [4, 3, 6, 7]\n",
    "maximum = 0\n",
    "for n in numbers:\n",
    "    if n > maximum:\n",
    "        maximum = n\n",
    "print(maximum)"
   ]
  },
  {
   "cell_type": "markdown",
   "metadata": {},
   "source": [
    "Again, there are built-in ways to calculate `max` and `min`. Try `max(numbers)` and `min(numbers)`."
   ]
  },
  {
   "cell_type": "code",
   "execution_count": null,
   "metadata": {},
   "outputs": [],
   "source": [
    "numbers = [4, 3, 6, 7]\n"
   ]
  },
  {
   "cell_type": "markdown",
   "metadata": {},
   "source": [
    "Of course this is much more valuable if we have large data sets. Let's get the [hourly weather](https://climate.weather.gc.ca/) at the [Edmonton International Airport](https://www.climate.weather.gc.ca/climate_data/daily_data_e.html?StationID=50149) for July 2022."
   ]
  },
  {
   "cell_type": "code",
   "execution_count": null,
   "metadata": {},
   "outputs": [],
   "source": [
    "station_id = 50149\n",
    "year = 2022\n",
    "month = 7\n",
    "url_start = 'https://climate.weather.gc.ca/climate_data/bulk_data_e.html?format=csv&stationID='\n",
    "url = url_start+str(station_id)+'&Year='+str(year)+'&Month='+str(month)+'&Day=14&timeframe=1&submit=Download+Data'\n",
    "import pandas as pd\n",
    "weather = pd.read_csv(url)\n",
    "weather"
   ]
  },
  {
   "cell_type": "markdown",
   "metadata": {},
   "source": [
    "Now that we have the data in a [data frame](https://pandas.pydata.org/pandas-docs/stable/reference/api/pandas.DataFrame.html), we can find the mean, maximum, and minimum temperatures for July 2022."
   ]
  },
  {
   "cell_type": "code",
   "execution_count": null,
   "metadata": {},
   "outputs": [],
   "source": [
    "print('mean:', weather['Temp (°C)'].mean())\n",
    "print('maximum:', weather['Temp (°C)'].max())\n",
    "print('minimum:', weather['Temp (°C)'].min())"
   ]
  },
  {
   "cell_type": "markdown",
   "metadata": {},
   "source": [
    "Let's make a graph of the temperature data."
   ]
  },
  {
   "cell_type": "code",
   "execution_count": null,
   "metadata": {},
   "outputs": [],
   "source": [
    "import plotly.express as px\n",
    "px.line(weather, x='Date/Time (LST)', y='Temp (°C)', title='Edmonton International Airport Temperatures July 2022')"
   ]
  },
  {
   "cell_type": "markdown",
   "metadata": {},
   "source": [
    "We can also add horizontal lines for the mean, maximum, and minimum. The first two are done for you, write a line of code to add a `yellow` horizontal line at the minimum temperature value."
   ]
  },
  {
   "cell_type": "code",
   "execution_count": null,
   "metadata": {},
   "outputs": [],
   "source": [
    "fig = px.line(weather, x='Date/Time (LST)', y='Temp (°C)', title='Edmonton International Airport Temperatures July 2022')\n",
    "fig.add_hline(y=weather['Temp (°C)'].max(), line_color='red')\n",
    "fig.add_hline(y=weather['Temp (°C)'].mean(), line_color='green')\n",
    "\n",
    "fig.show()"
   ]
  },
  {
   "cell_type": "markdown",
   "metadata": {},
   "source": [
    "## Control Structures\n",
    "\n",
    "We have been using [structured programming](https://en.wikipedia.org/wiki/Structured_programming) with sequential, decision, and iterative control structures (Outcome 3).\n",
    "\n",
    "* **sequential** structures execute statements in the order they appear\n",
    "* **decision** structures usually use keywords like `if` and `else`. We used\n",
    "\n",
    "     `if n > maximum:`\n",
    "\n",
    "* **iterative** structures use keywords like `for` or `while`. We used\n",
    "\n",
    " `for n in numbers:`\n",
    "\n",
    "Which of our algorithms used all three of these basic control structures?\n",
    "\n",
    "You can also watch this video for more information about structured programming."
   ]
  },
  {
   "cell_type": "code",
   "execution_count": 1,
   "metadata": {},
   "outputs": [
    {
     "data": {
      "image/jpeg": "[encoded data removed]",
      "text/html": [
       "\n",
       "        <iframe\n",
       "            width=\"400\"\n",
       "            height=\"300\"\n",
       "            src=\"https://www.youtube.com/embed/TmtyFcLWXwo\"\n",
       "            frameborder=\"0\"\n",
       "            allowfullscreen\n",
       "            \n",
       "        ></iframe>\n",
       "        "
      ],
      "text/plain": [
       "<IPython.lib.display.YouTubeVideo at 0x1bb20cf1cc0>"
      ]
     },
     "execution_count": 1,
     "metadata": {},
     "output_type": "execute_result"
    }
   ],
   "source": [
    "from IPython.display import YouTubeVideo\n",
    "YouTubeVideo('TmtyFcLWXwo')"
   ]
  },
  {
   "cell_type": "markdown",
   "metadata": {},
   "source": [
    "## Data Types and Data Representation\n",
    "\n",
    "Throughout this notebook we have been using variables, such as:\n",
    "\n",
    "`word = 'onomatopoeia'`\n",
    "\n",
    "`numbers = [4, 3, 6, 7]`\n",
    "\n",
    "`n in numbers`\n",
    "\n",
    "`station_id = 50149`\n",
    "\n",
    "`weather = pd.read_csv(url)`\n",
    "\n",
    "`fig = px.line()`\n",
    "\n",
    "Let's check what types of data are stored in those variables."
   ]
  },
  {
   "cell_type": "code",
   "execution_count": null,
   "metadata": {},
   "outputs": [],
   "source": [
    "print(word, type(word))\n",
    "print(numbers, type(numbers))\n",
    "print(n, type(n))\n",
    "print(station_id, type(station_id))\n",
    "print('')\n",
    "print('weather', type(weather))\n",
    "print('fig', type(fig))"
   ]
  },
  {
   "cell_type": "markdown",
   "metadata": {},
   "source": [
    "The first few are [standard data types](https://www.w3schools.com/python/python_datatypes.asp), such as [string](https://www.w3schools.com/python/python_strings.asp), [integer](https://www.w3schools.com/python/python_numbers.asp), and [list](https://www.w3schools.com/python/python_lists.asp).\n",
    "\n",
    "The variable `weather` is a [pandas](https://pandas.pydata.org/) data frame, and `fig` is a [Plotly](https://plotly.com/python/) figure.\n",
    "\n",
    "### Types of Numbers\n",
    "\n",
    "There are different ways that numbers can be represented in programming. In Python, [numbers](https://www.w3schools.com/python/python_numbers.asp) can be `int` (integers, also know as whole numbers), `float` (decimals, or [floating point numbers](https://en.wikipedia.org/wiki/Floating-point_arithmetic)), or `complex` (containing [real and imaginary parts](https://en.wikipedia.org/wiki/Complex_number)).\n",
    "\n",
    "Other languages, such as Java, have more [data types](https://www.w3schools.com/java/java_data_types.asp) for numbers, such as `short` (-32768 to 32767), `long` (-9223372036854775808 to 9223372036854775807), or `byte` (-128 to 127).\n",
    "\n",
    "#### Bytes, Binary, and Hexadecimal\n",
    "\n",
    "A [byte](https://en.wikipedia.org/wiki/Byte) is eight bits, a [bit](https://en.wikipedia.org/wiki/Bit) is a [binary](https://en.wikipedia.org/wiki/Binary_number) digit that can only be `0` or `1` (`off` or `on`). Computers store information in binary, usually as electricity off or on.\n",
    "\n",
    "##### Binary\n",
    "\n",
    "Binary (base 2) numbers can be converted to the decimal (base 10) numbers that we are more familiar with.\n",
    "\n",
    "|Decimal|Binary|\n",
    "|-|-|\n",
    "|0|0|\n",
    "|1|1|\n",
    "|2|10|\n",
    "|3|11|\n",
    "|4|100|\n",
    "|5|101|\n",
    "\n",
    "We can also write a [Python function](https://www.w3schools.com/python/python_functions.asp) with [`bin()`](https://www.w3schools.com/python/python_functions.asp)to convert decimal to binary numbers."
   ]
  },
  {
   "cell_type": "code",
   "execution_count": null,
   "metadata": {},
   "outputs": [],
   "source": [
    "def decimal_to_binary(n):\n",
    "    return bin(n)[2:]\n",
    "\n",
    "for x in range(20):\n",
    "    print('Decimal: {} = Binary: {}'.format(x, decimal_to_binary(x)))"
   ]
  },
  {
   "cell_type": "markdown",
   "metadata": {},
   "source": [
    "Use that function to find out what the decimal number `255` would be in binary."
   ]
  },
  {
   "cell_type": "code",
   "execution_count": null,
   "metadata": {},
   "outputs": [],
   "source": [
    "decimal_to_binary(200)"
   ]
  },
  {
   "cell_type": "markdown",
   "metadata": {},
   "source": [
    "Let's try converting a binary number to a decimal number."
   ]
  },
  {
   "cell_type": "code",
   "execution_count": null,
   "metadata": {},
   "outputs": [],
   "source": [
    "def binary_to_decimal(n):\n",
    "    return int(n, 2)\n",
    "\n",
    "binary_to_decimal('1101')"
   ]
  },
  {
   "cell_type": "markdown",
   "metadata": {},
   "source": [
    "As an advanced challenge, can you design an algorithm to convert a binary number to a decimal number without using `int()`?\n",
    "\n",
    "The largest number we can represent with eight bits is `11111111` in binary, or `255` in decimal. This means that one byte (eight bits) can store 256 different values (0 to 255).\n",
    "\n",
    "##### Hexadecimal\n",
    "\n",
    "Another number system that's useful in computing is [hexadecimal](https://en.wikipedia.org/wiki/Hexadecimal). For an example of how hexadecimal numbers are used in computing, check out [web colors](https://en.wikipedia.org/wiki/Web_colors).\n",
    "\n",
    "Single-digit hexadecimal (base 16) numbers are 0, 1, 2, 3, 4, 5, 6, 7, 8, 9, a, b, c, d, e, f. This means that one byte of information can be represented by a two-digit hexadecimal number.\n",
    "\n",
    "|Decimal|Binary|Hexadecimal|\n",
    "|-|-|-|\n",
    "|0|0|0|\n",
    "|1|1|1|\n",
    "|10|1010|a|\n",
    "|100|1100100|64|\n",
    "|125|1111101|7d|\n",
    "|255|11111111|ff|\n",
    "\n",
    "Let's write a conversion function for this."
   ]
  },
  {
   "cell_type": "code",
   "execution_count": null,
   "metadata": {},
   "outputs": [],
   "source": [
    "def dec_to_bin_and_hex(n):\n",
    "    return bin(n)[2:], hex(n)[2:]\n",
    "\n",
    "dec_to_bin_and_hex(255)"
   ]
  },
  {
   "cell_type": "markdown",
   "metadata": {},
   "source": [
    "As another advanced challenge, consider writing code that converts a hexadecimal number to a decimal number.\n",
    "\n",
    "# Conclusion\n",
    "\n",
    "In this notebook we looked at [algorithms](https://en.wikipedia.org/wiki/Algorithm) for [accumulation](https://www.thefreedictionary.com/accumulation), [mean](https://en.wikipedia.org/wiki/Arithmetic_mean), [maximum, and minimum](https://en.wikipedia.org/wiki/Maxima_and_minima).\n",
    "\n",
    "We used [structured programming](https://en.wikipedia.org/wiki/Structured_programming) with **sequential**, **decision**, and **iterative** control structures, and looked at data representation and number formats."
   ]
  },
  {
   "cell_type": "markdown",
   "metadata": {},
   "source": [
    "[![Callysto.ca License](https://github.com/callysto/curriculum-notebooks/blob/master/callysto-notebook-banner-bottom.jpg?raw=true)](https://github.com/callysto/curriculum-notebooks/blob/master/LICENSE.md)"
   ]
  }
 ],
 "metadata": {
  "kernelspec": {
   "display_name": "Python 3 (ipykernel)",
   "language": "python",
   "name": "python3"
  },
  "language_info": {
   "codemirror_mode": {
    "name": "ipython",
    "version": 3
   },
   "file_extension": ".py",
   "mimetype": "text/x-python",
   "name": "python",
   "nbconvert_exporter": "python",
   "pygments_lexer": "ipython3",
   "version": "3.10.1"
  },
  "vscode": {
   "interpreter": {
    "hash": "d1ca6d17674200220921376aaeb3d36cffe15ecab2470a9a5e7a456cdbf61425"
   }
  }
 },
 "nbformat": 4,
 "nbformat_minor": 4
}
