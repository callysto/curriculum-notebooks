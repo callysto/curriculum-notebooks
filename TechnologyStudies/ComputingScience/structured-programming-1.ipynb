{
 "cells": [
  {
   "attachments": {},
   "cell_type": "markdown",
   "metadata": {},
   "source": [
    "![Callysto.ca Banner](https://github.com/callysto/curriculum-notebooks/blob/master/callysto-notebook-banner-top.jpg?raw=true)\n",
    "\n",
    "<a href=\"https://hub.callysto.ca/jupyter/hub/user-redirect/git-pull?repo=https%3A%2F%2Fgithub.com%2Fcallysto%2Fcurriculum-notebooks&branch=master&subPath=TechnologyStudies/ComputingScience/structured-programming-1.ipynb&depth=1\"><img src=\"https://raw.githubusercontent.com/callysto/curriculum-notebooks/master/open-in-callysto-button.svg?sanitize=true\" width=\"123\" height=\"24\" alt=\"Open in Callysto\"/></a>"
   ]
  },
  {
   "attachments": {},
   "cell_type": "markdown",
   "metadata": {},
   "source": [
    "# CSE1110: Structured Programming 1\n",
    "\n",
    "Students are introduced to a general programming environment in which they write simple structured algorithms and programs that input, process and output data, use some of the more basic operators and data types, and follow a sequential flow of control.\n",
    "\n",
    "*Prerequisite: None*\n",
    "\n"
   ]
  },
  {
   "attachments": {},
   "cell_type": "markdown",
   "metadata": {},
   "source": [
    "Outcomes: The student will:\n",
    "\n",
    "1. demonstrate introductory structured programming skills by writing sequential algorithms to solve problems involving input, processing and output\n",
    "1.1 describe the purpose and nature of an algorithm\n",
    "1.2 analyze a variety of simple algorithms and describe the task or tasks the algorithms are attempting to carry out\n",
    "1.3 analyze problems and determine if they can be solved using algorithms that employ an input/processing/output (IPO) approach\n",
    "1.4 decompose the problem into its input, processing and output components, and identify what data is already available to the program and what must be inputted\n",
    "1.5 sequence components appropriately so that processing occurs only when all required data is available and output occurs only after appropriate processing has occurred\n",
    "1.6 write the algorithm in an acceptable format; e.g., pseudocode, structured chart\n",
    "1.7 test the algorithm for failure as well as success with appropriate data\n",
    "1.8 revise the algorithm, as required\n",
    "\n",
    "2. translate algorithms into source code, convert the source code into machine executable form, execute and debug, as required\n",
    "2.1 describe a typical programming development environment commenting on the role of the key components; e.g., the source code editor, code translator (compiler and/or interpreter), executor, debugger\n",
    "2.2 compare and contrast integrated development environments specifically developed for programming with user assembled collections of applications and system software; e.g., text processor for coding, command line compiler\n",
    "2.3 describe and demonstrate the use of key components in a programming development environment\n",
    "2.4convert algorithms into a sequence of statements in an appropriate programming language being sure to:\n",
    "2.4.1 maintain the IPO structure of the algorithm\n",
    "2.4.2 use appropriate internal and external documentation\n",
    "2.4.3 use appropriate data types such as integers, real numbers, characters and strings\n",
    "2.4.4 use appropriate variables and constants to hold data\n",
    "2.4.5 use literals and input commands, e.g., methods or operators, to provide data for processing\n",
    "2.4.6 use assignment, arithmetical and concatenation and interpolation operators, where appropriate, to process data\n",
    "2.4.7 use output commands; e.g., methods or operators, to display processed data\n",
    "2.5 test the algorithm for failure or success with appropriate data\n",
    "2.6 revise the algorithm, as required\n",
    "\n",
    "3. analyze and compare the results of the program with the intent of the algorithm and modify as required\n",
    "3.1 use appropriate test data and debugging techniques to track and correct errors including:\n",
    "3.1.1 run-time errors; e.g., compiler, linker, syntax\n",
    "3.1.2 logic errors\n",
    "\n",
    "4. demonstrate basic competencies\n",
    "4.1 demonstrate fundamental skills to:\n",
    "4.1.1 communicate\n",
    "4.1.2 manage information\n",
    "4.1.3 use numbers\n",
    "4.1.4 think and solve problems\n",
    "4.2 demonstrate personal management skills to:\n",
    "4.2.1 demonstrate positive attitudes and behaviours\n",
    "4.2.2 be responsible\n",
    "4.2.3 be adaptable\n",
    "4.2.4 learn continuously\n",
    "4.2.5 work safely\n",
    "4.3 demonstrate teamwork skills to:\n",
    "4.3.1 work with others\n",
    "4.3.2 participate in projects and tasks\n",
    "\n",
    "5. make personal connections to the cluster content and processes to inform possible pathway choices\n",
    "5.1 complete/update a personal inventory; e.g., interests, values, beliefs, resources, prior learning and experiences\n",
    "5.2 create a connection between a personal inventory and occupational choices"
   ]
  },
  {
   "attachments": {},
   "cell_type": "markdown",
   "metadata": {},
   "source": [
    "[![Callysto.ca License](https://github.com/callysto/curriculum-notebooks/blob/master/callysto-notebook-banner-bottom.jpg?raw=true)](https://github.com/callysto/curriculum-notebooks/blob/master/LICENSE.md)"
   ]
  }
 ],
 "metadata": {
  "language_info": {
   "name": "python"
  },
  "orig_nbformat": 4
 },
 "nbformat": 4,
 "nbformat_minor": 2
}
