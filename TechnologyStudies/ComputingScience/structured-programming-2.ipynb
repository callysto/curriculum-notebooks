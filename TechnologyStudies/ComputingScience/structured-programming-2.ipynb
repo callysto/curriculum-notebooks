{
 "cells": [
  {
   "attachments": {},
   "cell_type": "markdown",
   "metadata": {},
   "source": [
    "![Callysto.ca Banner](https://github.com/callysto/curriculum-notebooks/blob/master/callysto-notebook-banner-top.jpg?raw=true)\n",
    "\n",
    "<a href=\"https://hub.callysto.ca/jupyter/hub/user-redirect/git-pull?repo=https%3A%2F%2Fgithub.com%2Fcallysto%2Fcurriculum-notebooks&branch=master&subPath=TechnologyStudies/ComputingScience/structured-programming-2.ipynb&depth=1\"><img src=\"https://raw.githubusercontent.com/callysto/curriculum-notebooks/master/open-in-callysto-button.svg?sanitize=true\" width=\"123\" height=\"24\" alt=\"Open in Callysto\"/></a>"
   ]
  },
  {
   "attachments": {},
   "cell_type": "markdown",
   "metadata": {},
   "source": [
    "# CSE1120: Structured Programming 2\n",
    "\n",
    "Students work with structured programming constructs by adding the selection and iteration program control flow mechanisms to their programming repertoire. They write structured algorithms and programs that use blocks to introduce an element of modularity into their programming practice.\n",
    "\n",
    "*Prerequisite: [CSE1110: Structured Programming 1](structured-programming-1.ipynb)*\n",
    "\n"
   ]
  },
  {
   "attachments": {},
   "cell_type": "markdown",
   "metadata": {},
   "source": [
    "Outcomes: The student will:\n",
    "\n",
    "1. demonstrate basic structured programming skills by writing algorithms to solve problems involving selection (decision making) and iteration (repetition)\n",
    "1.1 analyze a problem and determine if it can be solved using an algorithm that employs an input/processing/output (IPO) approach\n",
    "1.2 determine if there is more than one IPO module present\n",
    "1.3 decompose the problem into its respective modules and identify the IPO components of each module\n",
    "1.4 identify what data is already available to the programmer and what must be inputted by the end user and organize into appropriate block or blocks using the appropriate program control structures\n",
    "1.5 identify the processing requirements and organize into appropriate blocks using the appropriate program control structures\n",
    "1.6 incorporate basic algorithmic idioms as required; e.g., accumulation, determining maximum or minimum values\n",
    "1.7 identify the output requirements and organize into appropriate blocks using the appropriate program control structures\n",
    "1.8 order components into an appropriate sequence where processing occurs only when all required data for a module is available and output occurs only after appropriate processing has occurred\n",
    "1.9 write the algorithm in an acceptable format; e.g., pseudocode, a structured chart\n",
    "\n",
    "2. translate algorithms into source code, convert the source code into machine executable form, execute and debug, as required\n",
    "\n",
    "2.1 maintain the IPO structure of the algorithm\n",
    "2.2 use appropriate internal and external documentation\n",
    "2.3 use appropriate basic (primitive) data types such as integers, real numbers, characters, strings, and Boolean values\n",
    "2.4 use appropriate variables and constants to hold data\n",
    "2.5 use literals and input commands, e.g., methods or operators, to provide data for processing\n",
    "2.6 use assignment, arithmetical, relational, Boolean, and concatenation and interpolation operators, where appropriate, to process data\n",
    "2.7 use basic processing idioms as required; e.g., accumulation, determining maximum or minimum values\n",
    "2.8 use appropriate selection and iteration structures to avoid unconditional branching or exiting from the interior of a block including:\n",
    "2.8.1 nested conditional blocks\n",
    "2.8.2 nested iterative blocks\n",
    "2.9 use output commands, e.g., methods or operators, to display processed data in an appropriately formatted form\n",
    "\n",
    "3. analyze and compare the results of the program with the intent of the algorithm and modify, as required\n",
    "3.1 use appropriate test data and debugging techniques to track and correct errors including:\n",
    "3.1.1 run-time errors; e.g., compiler, linker, syntax\n",
    "3.1.2 logic errors\n",
    "\n",
    "4. demonstrate basic competencies\n",
    "4.1 demonstrate fundamental skills to:\n",
    "4.1.1 communicate\n",
    "4.1.2 manage information\n",
    "4.1.3 use numbers\n",
    "4.1.4 think and solve problems\n",
    "4.2 demonstrate personal management skills to:\n",
    "4.2.1 demonstrate positive attitudes and behaviours\n",
    "4.2.2 be responsible\n",
    "4.2.3 be adaptable\n",
    "4.2.4 learn continuously\n",
    "4.2.5 work safely\n",
    "4.3 demonstrate teamwork skills to:\n",
    "4.3.1 work with others\n",
    "4.3.2 participate in projects and tasks\n",
    "\n",
    "5. make personal connections to the cluster content and processes to inform possible pathway choices\n",
    "5.1 complete/update a personal inventory; e.g., interests, values, beliefs, resources, prior learning and experiences\n",
    "5.2 create a connection between a personal inventory and occupational choices"
   ]
  },
  {
   "attachments": {},
   "cell_type": "markdown",
   "metadata": {},
   "source": [
    "[![Callysto.ca License](https://github.com/callysto/curriculum-notebooks/blob/master/callysto-notebook-banner-bottom.jpg?raw=true)](https://github.com/callysto/curriculum-notebooks/blob/master/LICENSE.md)"
   ]
  }
 ],
 "metadata": {
  "language_info": {
   "name": "python"
  },
  "orig_nbformat": 4
 },
 "nbformat": 4,
 "nbformat_minor": 2
}
