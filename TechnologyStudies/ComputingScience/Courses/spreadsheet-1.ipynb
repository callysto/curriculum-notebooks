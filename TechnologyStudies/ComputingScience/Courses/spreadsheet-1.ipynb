{
 "cells": [
  {
   "cell_type": "markdown",
   "metadata": {},
   "source": [
    "![Callysto.ca Banner](https://github.com/callysto/curriculum-notebooks/blob/master/callysto-notebook-banner-top.jpg?raw=true)\n",
    "\n",
    "<a href=\"https://hub.callysto.ca/jupyter/hub/user-redirect/git-pull?repo=https%3A%2F%2Fgithub.com%2Fcallysto%2Fcurriculum-notebooks&branch=master&subPath=TechnologyStudies/ComputingScience/Courses/spreadsheet-1.ipynb&depth=1\"><img src=\"https://raw.githubusercontent.com/callysto/curriculum-notebooks/master/open-in-callysto-button.svg?sanitize=true\" width=\"123\" height=\"24\" alt=\"Open in Callysto\"/></a>"
   ]
  },
  {
   "cell_type": "markdown",
   "metadata": {},
   "source": [
    "# INF1060: Spreadsheet 1\n",
    "\n",
    "*[Alberta Education Learning Outcomes-Business, Administration, Finance & Information Technology (BIT)](https://education.alberta.ca/media/3255946/inf_pos.pdf) Page 5*\n",
    "\n",
    "*Prerequisite: None*\n",
    "***\n",
    "\n",
    "Students develop skills in the proper use of spreadsheet software through general data manipulation and personal recordkeeping."
   ]
  },
  {
   "cell_type": "markdown",
   "metadata": {},
   "source": [
    "This course will make use of online spreadsheets such as [Google Sheets](https://sheets.google.com), [Microsoft Excel](https://www.office.com) or [EtherCalc](https://ethercalc.net). Then you will be able to use data from spreadsheets in the next notebook.\n",
    "\n",
    "It is expected that you will demonstrate good posture and [ergonomics](https://www.canada.ca/en/government/publicservice/wellness-inclusion-diversity-public-service/health-wellness-public-servants/disability-management/fundamentals-ergonomics.html), and follow proper [security practices](https://www.getcybersafe.gc.ca/en).\n",
    "\n",
    "You will also be assesed on your ability to:\n",
    "* communicate\n",
    "* manage information\n",
    "* use numbers\n",
    "* think and solve problems\n",
    "* demonstrate positive attitudes and behaviours\n",
    "* be responsible\n",
    "* be adaptable\n",
    "* learn continuously\n",
    "* work safely\n",
    "* work with others\n",
    "* participate in projects and tasks\n",
    "\n",
    "## Defining Spreadsheets\n",
    "\n",
    "1. What is the purpose of [spreadsheets](https://simple.wikipedia.org/wiki/Spreadsheet)?\n"
   ]
  },
  {
   "cell_type": "markdown",
   "metadata": {},
   "source": [
    "1. The purpose of spreadsheets is to..."
   ]
  },
  {
   "cell_type": "markdown",
   "metadata": {},
   "source": [
    "Using the spreadsheet program of your choice, perform each of the following tasks and be ready to describe how you did it. Remember that you can use search, [online references](https://support.google.com/a/users/answer/9282959), or [AI chatbots](https://huggingface.co/chat) for help with how to do any of these tasks. As an alternative to these tasks, you may instead complete the [T4T INF1060 activities](https://bev.facey.rocks/INF1060).\n",
    "\n",
    "## Cells, Rows, and Columns\n",
    "2. cut, copy, and paste cells\n",
    "3. change font, font size, and style\n",
    "4. add borders to cells\n",
    "5. show or hide gridlines\n",
    "6. add backgrounds to cells\n",
    "7. insert and delete rows and columns\n",
    "8. insert and delete cells\n",
    "9. edit, move and clear cell contents\n",
    "10. find and replace cell contents\n",
    "11. insert and edit hyperlinks\n",
    "12. split text to columns\n",
    "13. apply table styles\n",
    "14. sort and [Filter data](https://support.google.com/docs/answer/3540681)\n",
    "\n",
    "## Worksheets\n",
    "15. rename a worksheet\n",
    "16. [hide a worksheet](https://support.google.com/docs/answer/1218656)\n",
    "17. add a new worksheet\n",
    "18. delete a worksheet\n",
    "\n",
    "## Formulas\n",
    "19. create and modify formulas\n",
    "20. use functions to create formulas\n",
    "21. copy and move formulas\n",
    "22. use relative, absolute and mixed references\n",
    "23. enter a range into a formula by dragging\n",
    "24. summarize data using subtotals with various techniques; e.g., autosum, cell referencing\n",
    "25. display and print formulas\n",
    "\n",
    "## Visualizations\n",
    "26. create and format charts and diagrams\n",
    "27. modify and position chart elements\n",
    "28. insert, move and size graphics\n",
    "\n",
    "## Collaborating\n",
    "29. share a workbook\n",
    "30. use print preview\n",
    "31. change page orientation\n",
    "32. set print area\n",
    "33. create headers and footers\n",
    "34. set print options\n",
    "35. print workbook and selections"
   ]
  },
  {
   "cell_type": "markdown",
   "metadata": {},
   "source": [
    "There are a few different ways that you can now import data from your spreadsheet into a Jupyter notebook.\n",
    "\n",
    "### Method A: Google Sheets\n",
    "\n",
    "* Make your sheet public using [these instructions](https://support.google.com/docs/answer/183965)\n",
    "* Replace the `sheet_url = ` link in the code below with the link to your spreadsheet."
   ]
  },
  {
   "cell_type": "code",
   "execution_count": null,
   "metadata": {},
   "outputs": [],
   "source": [
    "sheet_url = 'https://docs.google.com/spreadsheets/d/11mulzUH3_cueq-V9D5KIlo9oHE9YYZrUSeVyCin7_rM/edit#gid=569008164'\n",
    "\n",
    "import pandas as pd\n",
    "spreadsheet_key = sheet_url.split('/d/')[1].split('/')[0]\n",
    "try:\n",
    "    spreadsheet_gid = sheet_url.split('gid=')[1]\n",
    "except:\n",
    "    spreadsheet_gid = '0'\n",
    "csv_url = 'https://docs.google.com/spreadsheets/d/'+spreadsheet_key+'/export?gid='+spreadsheet_gid+'&format=csv'\n",
    "data = pd.read_csv(csv_url)\n",
    "data"
   ]
  },
  {
   "cell_type": "markdown",
   "metadata": {},
   "source": [
    "### Method B: EtherCalc\n",
    "\n",
    "* Replace the `sheet_url = ` link in the code below with the link to your spreadsheet."
   ]
  },
  {
   "cell_type": "code",
   "execution_count": null,
   "metadata": {},
   "outputs": [],
   "source": [
    "sheet_url = 'https://ethercalc.net/31g43hj7j27i'\n",
    "\n",
    "import pandas as pd\n",
    "data = pd.read_excel(sheet_url+'.xlsx')\n",
    "data"
   ]
  },
  {
   "cell_type": "markdown",
   "metadata": {},
   "source": [
    "### Method C: Uploading an Excel File to the Callysto Hub\n",
    "\n",
    "If you don't want or need the data to be publicly accessible on the internet, a file can be uploaded to [this folder on the Callysto Hub](.) and then loaded as a local file.\n",
    "\n",
    "* Open [this folder on the Callysto Hub](.)\n",
    "* Click the `Upload`` button at the top right.\n",
    "* A file picker window will open, select the file from your computer and click the `Open` button.\n",
    "* Click the blue `Upload` button that appears next to the file.\n",
    "* Upload your Excel (or CSV) file.\n",
    "* Change `my_data_file.csv` in the code below to the name of your file, and change `read_csv` to `read_excel` if it is an Excel file."
   ]
  },
  {
   "cell_type": "code",
   "execution_count": null,
   "metadata": {},
   "outputs": [],
   "source": [
    "import pandas as pd\n",
    "data = pd.read_csv('my_data_file.csv')\n",
    "#data = pd.read_excel('my_data_file.xlsx')\n",
    "data"
   ]
  },
  {
   "cell_type": "markdown",
   "metadata": {},
   "source": [
    "37. Which of the data import methods did you use?\n",
    "38. Were you able to successfully import data into this Jupyter notebook? Why or why not?"
   ]
  },
  {
   "cell_type": "markdown",
   "metadata": {},
   "source": [
    "37. I used...\n",
    "\n",
    "38. I was..."
   ]
  },
  {
   "cell_type": "markdown",
   "metadata": {},
   "source": [
    "## Personal Connections and Career Pathways\n",
    "\n",
    "39. What are some of your interests, values, beliefs, resources, prior learning, and experiences that relate to what you are learning?\n",
    "40. Write a paragraph about how the knowledge and skills you are learning learning could relate to your future career choices."
   ]
  },
  {
   "cell_type": "markdown",
   "metadata": {},
   "source": [
    "39. \n",
    "\n",
    "40. The knowledge and skills I am learning..."
   ]
  },
  {
   "cell_type": "markdown",
   "metadata": {},
   "source": [
    "Now that you have completed this notebook, submit your work to your teacher by downloading this notebook or pasting your responses into a document."
   ]
  },
  {
   "cell_type": "markdown",
   "metadata": {},
   "source": [
    "---\n",
    "\n",
    "# Outcomes\n",
    "\n",
    "The student will:\n",
    "\n",
    "1. demonstrate basic electronic spreadsheet software competence\n",
    "    1. describe key features of the spreadsheet software\n",
    "    2. use help functions and references as appropriate\n",
    "<br><br>\n",
    "2. create and manipulate data\n",
    "    1. insert data using fill such as:\n",
    "        1. cut, copy and paste cells\n",
    "    2. modify cell contents and formulas by:\n",
    "        1. changing font, font size and style\n",
    "        2. applying borders and copying cell contents\n",
    "    3. change worksheet views\n",
    "    4. manage worksheets including:\n",
    "        1. rename a worksheet\n",
    "        2. hide and unhide a worksheet\n",
    "<br><br>\n",
    "3. format data and content\n",
    "    1. format worksheets including:\n",
    "        1. hide and show gridlines\n",
    "        2. create, rename and duplicate worksheets\n",
    "        3. add backgrounds\n",
    "    2. insert and modify rows and columns by:\n",
    "        1. deleting and inserting rows and columns\n",
    "        2. inserting and deleting cells\n",
    "    3. format cells and cell content including:\n",
    "        1. edit, move and clear cell contents\n",
    "        2. find and replace cell contents\n",
    "        3. insert and edit hyperlinks\n",
    "        4. convert text to columns\n",
    "    4. format data and tables by:\n",
    "        1. applying table styles\n",
    "        2. modifying and editing tables\n",
    "<br><br>\n",
    "4. create and modify formulas\n",
    "    1. reference data in formulas including:\n",
    "        1. key and edit basic formulas\n",
    "        2. use functions to create formulas\n",
    "        3. copy and move formulas\n",
    "        4. use relative, absolute and mixed references\n",
    "        5. enter a range into a formula by dragging\n",
    "    2. summarize data using subtotals with various techniques; e.g., autosum, cell referencing\n",
    "    3. display and print formulas\n",
    "<br><br>\n",
    "5. present data visually\n",
    "    1. create and format charts and diagrams\n",
    "    2. modify and position chart elements\n",
    "    3. insert and modify illustrations by:\n",
    "        1. inserting, moving and sizing graphics\n",
    "    4. sort and filter data using:\n",
    "        1. simple sorts and filter sorts\n",
    "<br><br>\n",
    "6. collaborate and secure data\n",
    "    1. save and print workbooks including:\n",
    "        1. use print preview\n",
    "        2. change page orientation\n",
    "        3. set print area\n",
    "        4. create headers and footers\n",
    "        5. set print options\n",
    "        6. print workbook and selections\n",
    "<br><br>\n",
    "7. apply consistent and appropriate work station routines\n",
    "    1. demonstrate good health and safety; e.g., posture, positioning of hardware and furniture\n",
    "    2. employ practices that provide security for hardware, software, supplies and personal work\n",
    "<br><br>\n",
    "8. demonstrate basic competencies\n",
    "    1. demonstrate fundamental skills to:\n",
    "        1. communicate\n",
    "        2. manage information\n",
    "        3. use numbers\n",
    "        4. think and solve problems\n",
    "    2. demonstrate personal management skills to:\n",
    "        1. demonstrate positive attitudes and behaviours\n",
    "        2. be responsible\n",
    "        3. be adaptable\n",
    "        4. learn continuously\n",
    "        5. work safely\n",
    "    3. demonstrate teamwork skills to:\n",
    "        1. work with others\n",
    "        2. participate in projects and tasks\n",
    "<br><br>\n",
    "9. make personal connections to the cluster content and processes to inform possible pathway choices\n",
    "    1. complete/update a personal inventory; e.g., interests, values, beliefs, resources, prior learning and experiences\n",
    "    2. create a connection between a personal inventory and occupational choices"
   ]
  },
  {
   "cell_type": "markdown",
   "metadata": {},
   "source": [
    "[![Callysto.ca License](https://github.com/callysto/curriculum-notebooks/blob/master/callysto-notebook-banner-bottom.jpg?raw=true)](https://github.com/callysto/curriculum-notebooks/blob/master/LICENSE.md)"
   ]
  }
 ],
 "metadata": {
  "kernelspec": {
   "display_name": "Python 3 (ipykernel)",
   "language": "python",
   "name": "python3"
  },
  "language_info": {
   "codemirror_mode": {
    "name": "ipython",
    "version": 3
   },
   "file_extension": ".py",
   "mimetype": "text/x-python",
   "name": "python",
   "nbconvert_exporter": "python",
   "pygments_lexer": "ipython3",
   "version": "3.9.12"
  }
 },
 "nbformat": 4,
 "nbformat_minor": 4
}
