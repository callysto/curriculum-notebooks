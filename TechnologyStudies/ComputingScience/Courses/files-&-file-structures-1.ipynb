{
 "cells": [
  {
   "cell_type": "markdown",
   "metadata": {},
   "source": [
    "![Callysto.ca Banner](https://github.com/callysto/curriculum-notebooks/blob/master/callysto-notebook-banner-top.jpg?raw=true)\n",
    "\n",
    "<a href=\"https://hub.callysto.ca/jupyter/hub/user-redirect/git-pull?repo=https%3A%2F%2Fgithub.com%2Fcallysto%2Fcurriculum-notebooks&branch=master&subPath=TechnologyStudies/ComputingScience/Courses/files-&-file-structures-1.ipynb&depth=1\"><img src=\"https://raw.githubusercontent.com/callysto/curriculum-notebooks/master/open-in-callysto-button.svg?sanitize=true\" width=\"123\" height=\"24\" alt=\"Open in Callysto\"/></a>"
   ]
  },
  {
   "cell_type": "markdown",
   "metadata": {},
   "source": [
    "# CSE2130: Files & File Structures 1\n",
    "\n",
    "*[Alberta Education Learning Outcomes-Business, Administration, Finance & Information Technology (BIT)](https://education.alberta.ca/media/159479/cse_pos.pdf)*\n",
    "\n",
    "*Computer Science-Page 27*\n",
    "\n",
    "*Prerequisite: [CSE2120: Data Structures 1](data-structures-1.ipynb)*\n",
    "\n",
    "***\n",
    "\n",
    "\n",
    "Students learn how to design, code and debug programs that use data files to store and retrieve data on secondary storage devices. Building on their knowledge of derived data structures, they learn how to use those structures to organize data for efficient file handling. As part of this process, they learn what types of problems benefit from the use of external files."
   ]
  },
  {
   "cell_type": "markdown",
   "metadata": {},
   "source": []
  },
  {
   "cell_type": "markdown",
   "metadata": {},
   "source": [
    "## Theory Questions\n",
    "\n",
    "1. Identify what each of the following file types is for, and whether it is text or binary format.\n",
    "    1. .txt\n",
    "    2. .gif\n",
    "    3. .png\n",
    "    4. .csv\n",
    "    5. .doc\n",
    "    6. .ipynb\n",
    "    7. .jpg\n",
    "    8. .key\n",
    "    9. .mp3\n",
    "    10. .mov\n",
    "    11. .svg\n",
    "    12. .stl\n",
    "\n",
    "5. describe and represent the relative advantages of text versus binary files including:\n",
    "    * access speed\n",
    "    * storage space requirement\n",
    "    * difficulty to implement\n",
    "    * maintainability\n",
    "\n",
    "2. When accessing online files, what are the differences amoung sequential, random, and indexed methods?\n",
    "\n",
    "3. Explain and represent the client/server relationship that exists between a file using application and the operating system with consideration to:\n",
    "    * how programming environments access secondary storage devices\n",
    "    * how operating systems handle the actual process of manipulating data in secondary memory\n",
    "    * how programming environments request file handling services from the operating system\n",
    "    * the use of a file buffer, data stream and file descriptor table\n",
    "\n",
    "4. Describe the main operations associated with text files including:\n",
    "    * creating a file buffer or stream\n",
    "    * opening an existing file\n",
    "    * creating a new file\n",
    "    * exporting data to a file\n",
    "    * importing data from a file\n",
    "    * appending data to a file\n",
    "    * closing a file\n",
    "    * comparing two files\n",
    "    * copying a file\n",
    "    * merging two files\n",
    " \n",
    "2. identify possible life roles related to the skills and content of this cluster\n",
    "    * recognize and then analyze the opportunities and barriers in the immediate environment\n",
    "    * identify potential resources to minimize barriers and maximize opportunities"
   ]
  },
  {
   "cell_type": "markdown",
   "metadata": {},
   "source": [
    "## Project 1 - Text Classification\n",
    "\n",
    "We are going to use [MediaPipe](https://developers.google.com/mediapipe) to classify text according to positivity and negativity."
   ]
  },
  {
   "cell_type": "code",
   "execution_count": null,
   "metadata": {},
   "outputs": [],
   "source": [
    "!pip install -q mediapipe==0.10.0\n",
    "!wget -O classifier.tflite -q https://storage.googleapis.com/mediapipe-models/text_classifier/bert_classifier/float32/1/bert_classifier.tflite\n",
    "\n",
    "from mediapipe.tasks import python\n",
    "from mediapipe.tasks.python import text\n",
    "options = text.TextClassifierOptions(base_options = python.BaseOptions(model_asset_path='classifier.tflite'))\n",
    "classifier = text.TextClassifier.create_from_options(options)\n",
    "print('Classifier created')"
   ]
  },
  {
   "cell_type": "markdown",
   "metadata": {},
   "source": [
    "Now that the MediaPipe text classifier is set up, we can classify a block of text."
   ]
  },
  {
   "cell_type": "code",
   "execution_count": null,
   "metadata": {},
   "outputs": [],
   "source": [
    "text = '''\n",
    "Shall I compare thee to a summer's day?\n",
    "Thou art more lovely and more temperate:\n",
    "Rough winds do shake the darling buds of May,\n",
    "And summer's lease hath all too short a date;\n",
    "Sometime too hot the eye of heaven shines,\n",
    "And often is his gold complexion dimm'd;\n",
    "And every fair from fair sometime declines,\n",
    "By chance or nature's changing course untrimm'd;\n",
    "But thy eternal summer shall not fade,\n",
    "Nor lose possession of that fair thou ow'st;\n",
    "Nor shall death brag thou wander'st in his shade,\n",
    "When in eternal lines to time thou grow'st:\n",
    "So long as men can breathe or eyes can see,\n",
    "So long lives this, and this gives life to thee.\n",
    "'''\n",
    "\n",
    "result = classifier.classify(text)\n",
    "display(result.classifications[0].categories)"
   ]
  },
  {
   "cell_type": "markdown",
   "metadata": {},
   "source": [
    "Now that we've seen how it can classify text, let's try a whole novel downloaded as a text file from [Project Gutenberg](https://www.gutenberg.org)."
   ]
  },
  {
   "cell_type": "code",
   "execution_count": null,
   "metadata": {},
   "outputs": [],
   "source": [
    "book_url = 'https://www.gutenberg.org/cache/epub/64317/pg64317.txt'\n",
    "import requests\n",
    "r = requests.get(book_url) # get the text from the url\n",
    "r.encoding = 'utf-8' # specify the type of text encoding in the file\n",
    "title = r.text.split('\\n')[0]\n",
    "text = r.text.split('***')[2] # get the part after the header\n",
    "print(title)\n",
    "\n",
    "result = classifier.classify(text)\n",
    "display(result.classifications[0].categories)"
   ]
  },
  {
   "cell_type": "markdown",
   "metadata": {},
   "source": [
    "To make it a little easier to use, let's create a function that returns a dictionary result."
   ]
  },
  {
   "cell_type": "code",
   "execution_count": null,
   "metadata": {},
   "outputs": [],
   "source": [
    "def classify_text(text):\n",
    "    result = classifier.classify(text)\n",
    "    rd = {}\n",
    "    rd[result.classifications[0].categories[0].category_name] = result.classifications[0].categories[0].score\n",
    "    rd[result.classifications[0].categories[1].category_name] = result.classifications[0].categories[1].score\n",
    "    return rd\n",
    "\n",
    "classify_text(text)"
   ]
  },
  {
   "cell_type": "markdown",
   "metadata": {},
   "source": [
    "Next find another book from [Project Gutenberg](https://www.gutenberg.org), copy the link to the `Plain Text UTF-8` file and paste that link into the `book_url = ` variable in the code cell below."
   ]
  },
  {
   "cell_type": "code",
   "execution_count": null,
   "metadata": {},
   "outputs": [],
   "source": [
    "book_url = ''\n",
    "r = requests.get(book_url)\n",
    "r.encoding = 'utf-8'\n",
    "title = r.text.split('\\n')[0]\n",
    "text = r.text.split('***')[2]\n",
    "print(title)\n",
    "\n",
    "result = classifier.classify(text)\n",
    "display(result.classifications[0].categories)"
   ]
  },
  {
   "cell_type": "markdown",
   "metadata": {},
   "source": [
    "1. How does your chosen book compare to \"The Great Gatsby\" in terms of positivity and negativity?"
   ]
  },
  {
   "cell_type": "markdown",
   "metadata": {},
   "source": [
    "1. My chosen book, "
   ]
  },
  {
   "cell_type": "markdown",
   "metadata": {},
   "source": [
    "### Sentiment Analysis Data Science\n",
    "\n",
    "Using the following code cell as an example, divide **your chosen book** into chapters and create a visualization of the positivity and negativity by chapter."
   ]
  },
  {
   "cell_type": "code",
   "execution_count": null,
   "metadata": {},
   "outputs": [],
   "source": [
    "book_url = 'https://www.gutenberg.org/cache/epub/64317/pg64317.txt'\n",
    "r = requests.get(book_url)\n",
    "r.encoding = 'utf-8'\n",
    "title = r.text.split('\\n')[0]\n",
    "text = r.text.split('***')[2]\n",
    "\n",
    "import pandas as pd\n",
    "ch = [] # create an empty list that we will append to\n",
    "for chapter in text.split('\\r\\n\\r\\n\\r\\n'):\n",
    "    chapter = chapter.replace('\\r','').replace('\\n',' ').replace('\\t','') # remove the newline characters\n",
    "    #chapter = chapter.replace('  ',' ').replace('  ',' ').strip() # remove extra spaces\n",
    "    #chapter = chapter.replace('--','') # remove extra dashes\n",
    "    ch.append(chapter) # append the chapter text to the list\n",
    "book = pd.DataFrame(ch, columns=['Text']) # create a dataframe from the list\n",
    "book = book[book['Text'].apply(lambda x: len(x)>250)] # drop any rows where the text column is shorter than 250 characters\n",
    "book[['Positive', 'Negative']] = pd.DataFrame(book['Text'].apply(classify_text).tolist(), index=book.index) # apply the classify_text function to each row\n",
    "\n",
    "import plotly.express as px\n",
    "fig = px.bar(book, x=book.index, y=['Positive', 'Negative'], title=title).update_layout(xaxis_title='Chapter', yaxis_title='Score')\n",
    "fig.add_hline(y=book['Positive'].mean(), line_color='blue')\n",
    "fig.add_hline(y=book['Negative'].mean(), line_color='red')\n",
    "fig.show()"
   ]
  },
  {
   "cell_type": "code",
   "execution_count": null,
   "metadata": {},
   "outputs": [],
   "source": []
  },
  {
   "cell_type": "markdown",
   "metadata": {},
   "source": [
    "Write a paragraph about how sentiment analysis could be used in other classes or jobs."
   ]
  },
  {
   "cell_type": "markdown",
   "metadata": {},
   "source": [
    "Sentiment analysis..."
   ]
  },
  {
   "cell_type": "markdown",
   "metadata": {},
   "source": [
    "## Project 2 - Image Classification\n",
    "\n",
    "Next we will train an AI system to recognize if an image contains a cat or a dog.\n",
    "\n",
    "### Training Data\n",
    "\n",
    "We will use images that are [public domain](https://en.wikipedia.org/wiki/Public_domain) or [Creative Commons](https://creativecommons.org/) because we are allowed to use them without purchasing a license.\n",
    "\n",
    "The more examples you have, the better the AI will be able to discriminate between cats and dogs.\n",
    "\n",
    "1. Create two folders on your computer, one called `cats` and one called `dogs`.\n",
    "1. Find and download at least 10 images of cats from [Pexels](https://www.pexels.com/search/cat/) or [Pixabay](https://pixabay.com/images/search/cat/). Put them in your `cats` folder.\n",
    "1. Find and download at least 10 images of dogs from [Pexels](https://www.pexels.com/search/dog/) or [Pixabay](https://pixabay.com/images/search/dog/). Put them in your `dogs` folder.\n",
    "\n",
    "### Teaching the Machine\n",
    "\n",
    "1. Open [Teachable Machine image training](https://teachablemachine.withgoogle.com/train/image)\n",
    "1. Rename `Class 1` and `Class 2` as `cat` and `dog` by clicking on the pencil icons.\n",
    "1. Upload your cat images to the `cat` class and your dog images to the `dog` class.\n",
    "1. Click the `Train model` button.\n",
    "1. After the training has finished, click the `Export Model` button, click the middle `Tensorflow` tab, then click the `Download my model` button.\n",
    "1. Upload your `converted_keras.zip` file to [the folder that this notebook is in](.).\n",
    "    * You can open the folder that this notebook is in by clicking on the logo at the top left of the page and then click on the `data-science-and-artificial-intelligence` folder.\n",
    "    * If you're running in Jupyter Lab the file browser is already on the left.\n",
    "\n",
    "After you have done all of those steps, run the following cell to set up the image classifier."
   ]
  },
  {
   "cell_type": "code",
   "execution_count": null,
   "metadata": {},
   "outputs": [],
   "source": [
    "from zipfile import ZipFile\n",
    "from keras.models import load_model\n",
    "from PIL import Image, ImageOps\n",
    "import numpy as np\n",
    "import requests, shutil, os\n",
    "from IPython.display import clear_output, display, HTML\n",
    "\n",
    "with ZipFile('converted_keras.zip', 'r') as zip_object:\n",
    "    zip_object.extractall()\n",
    "model = load_model('keras_model.h5', compile=False)\n",
    "class_names = open('labels.txt', 'r').readlines()\n",
    "os.remove('keras_model.h5')\n",
    "os.remove('labels.txt')\n",
    "ai_data = np.ndarray(shape=(1, 224, 224, 3), dtype=np.float32) # Create an array of the right shape to feed into the Keras model\n",
    "\n",
    "def classify_image(image_url, show_image=False):\n",
    "    filename = image_url.split('/')[-1]\n",
    "    r = requests.get(image_url, stream=True, headers={'User-Agent':'Mozilla/5.0'})\n",
    "    with open(filename, 'wb') as f:\n",
    "        shutil.copyfileobj(r.raw, f)\n",
    "    image = Image.open(filename).convert(\"RGB\")\n",
    "    os.remove(filename)\n",
    "    resized_image = ImageOps.fit(image, (224, 224), Image.Resampling.LANCZOS) # resize the image to 224x224\n",
    "    ai_data[0] = (np.asarray(resized_image).astype(np.float32) / 127.5) - 1  # normalize the image array and load it to the array\n",
    "    prediction = model.predict(ai_data)\n",
    "    index = np.argmax(prediction)\n",
    "    clear_output()\n",
    "    return class_names[index].strip()[2:], prediction[0][index], resized_image\n",
    "\n",
    "print('Model imported and classify_image(image_url) function defined')"
   ]
  },
  {
   "cell_type": "markdown",
   "metadata": {},
   "source": [
    "The function will return a classification and confidence level, and a resized version of the image.\n",
    "\n",
    "Now that we have set up the `classify_image()` function, we can load an image from a link and get its classification according to our trained AI.\n",
    "\n",
    "Change the string in the `image_url` variable to be a direct link to an online image. *Make sure you have copied the `image address` and that it is not a link to a webpage. The url should end with something like `.jpg`, `.gif`, or `.png`*"
   ]
  },
  {
   "cell_type": "code",
   "execution_count": null,
   "metadata": {},
   "outputs": [],
   "source": [
    "image_url = 'https://i.kinja-img.com/gawker-media/image/upload/c_fit,f_auto,g_center,q_60,w_965/arznjdijwqntcpbuwt5v.jpg'\n",
    "\n",
    "results = classify_image(image_url)\n",
    "results"
   ]
  },
  {
   "cell_type": "markdown",
   "metadata": {},
   "source": [
    "The first value returned is the classification, in our case `cat` or `dog`.\n",
    "\n",
    "The second is \"confidence score\" which is how sure the AI is of that classification, `1` means `100%` confident.\n",
    "\n",
    "The third value is the downloaded and resized image."
   ]
  },
  {
   "cell_type": "code",
   "execution_count": null,
   "metadata": {},
   "outputs": [],
   "source": [
    "results[2]"
   ]
  },
  {
   "cell_type": "markdown",
   "metadata": {},
   "source": [
    "Try this with some other image links to see how accurate it is. To increase the accuracy, retrain the model with more images.\n",
    "\n",
    "Answer the following questions.\n",
    "\n",
    "1. What file types were involved in training and deploying your AI model?\n",
    "\n",
    "2. Write a paragraph about some potential real-world applications of image classification."
   ]
  },
  {
   "cell_type": "markdown",
   "metadata": {},
   "source": [
    "1. The file types were...\n",
    "\n",
    "2. Some possible real-world applications of image classification are...\n"
   ]
  },
  {
   "cell_type": "markdown",
   "metadata": {},
   "source": [
    "## Competencies and Skills\n",
    "\n",
    "You will also be evaluated on your basic competencies such as your ability to:\n",
    "\n",
    "* communicate\n",
    "* manage information\n",
    "* use numbers\n",
    "* think and solve problems\n",
    "* demonstrate positive attitudes and behaviours\n",
    "* be responsible\n",
    "* be adaptable\n",
    "* learn continuously\n",
    "* work safely\n",
    "* work with others\n",
    "* participate in projects and tasks"
   ]
  },
  {
   "cell_type": "markdown",
   "metadata": {},
   "source": [
    "---\n",
    "\n",
    "# Outcomes:\n",
    "\n",
    "The student will:\n",
    "\n",
    "1. analyze and represent the nature, structure and utility of external data files\n",
    "    1. identify and illustrate the general characteristics of external data files including:\n",
    "        1. access methods; e.g., sequential, random, indexed\n",
    "        2. type of data; e.g., text (encoded in a format such as ASCII code), binary (encoded in binary code)\n",
    "        3. text files; e.g., data organization, access methods\n",
    "    2. explain and represent the client/server relationship that exists between a file using application and the operating system with consideration to:\n",
    "        1. how programming environments access secondary storage devices\n",
    "        2. how operating systems handle the actual process of manipulating data in secondary memory\n",
    "        3. how programming environments request file handling services from the operating system\n",
    "        4. the use of a file buffer, data stream and file descriptor table\n",
    "    3. describe and represent the logical structure of text files including:\n",
    "        1. sequential text\n",
    "        2. random-access text files\n",
    "        3. Indexed Sequential Access Method (ISAM) text files\n",
    "    4. describe the main operations associated with text files including:\n",
    "        1. creating a file buffer or stream\n",
    "        2. opening an existing file\n",
    "        3. creating a new file\n",
    "        4. exporting data to a file\n",
    "        5. importing data from a file\n",
    "        6. appending data to a file\n",
    "        7. closing a file\n",
    "        8. comparing two files\n",
    "        9. copying a file\n",
    "        0. merging two files\n",
    "    5. describe and represent the relative advantages of each file type including:\n",
    "        1. access speed\n",
    "        2. storage space requirement\n",
    "        3. difficulty to implement\n",
    "        4. maintainability\n",
    "<br><br>\n",
    "2. create and/or modify algorithms that make effective use of external data files\n",
    "    1. use appropriate general design techniques for a specific programming environment\n",
    "    2. analyze and decompose the problem into appropriate subsections using techniques appropriate for the chosen design approach\n",
    "    3. evaluate subsections and identify any that may require some type of external file capability, based on the nature and amount of the data to be processed and type of processing operations\n",
    "    4. identify and use or construct the appropriate external file structure based on:\n",
    "        1. storage space required\n",
    "        2. the number and speed of required operations\n",
    "        3. programmer efficiency\n",
    "    5. create sequential and random-access files, as required\n",
    "    6. identify and sequence the operations needed to process the data prior to export and/or process the data after import\n",
    "    7. test and modify the algorithm using appropriate “fail-on-paper” techniques\n",
    "<br><br>\n",
    "3. create and/or modify programs based on appropriate algorithms that make effective use of external data files\n",
    "    1. convert algorithms calling for the use of external data files into programs that reflect the algorithm’s design\n",
    "    2. use cohesive subprograms with helper subprograms, if required, to hide and/or protect data, and separate the implementation of the file handling code and attendant data structure and operations from its calling modules\n",
    "    3. use original (user-created) or built-in, environment supported file handling code segments and their attendant operations appropriate to the data being manipulated\n",
    "<br><br>\n",
    "4. compare program operation and outcomes with the intent of the algorithm and modify, as required\n",
    "    1. use appropriate error-trapping mechanisms built into the programming environment, as well as programmer-directed error-trapping techniques, to eliminate logic errors and debug the program\n",
    "    2. compare the congruency between the outcomes of the debugged program and the original intent of the algorithm and modify both, as required\n",
    "<br><br>\n",
    "5. demonstrate basic competencies\n",
    "    1. demonstrate fundamental skills to:\n",
    "        1. communicate\n",
    "        2. manage information\n",
    "        3. use numbers\n",
    "        4. think and solve problems\n",
    "    2. demonstrate personal management skills to:\n",
    "        1. demonstrate positive attitudes and behaviours\n",
    "        2. be responsible\n",
    "        3. be adaptable\n",
    "        4. learn continuously\n",
    "        5. work safely\n",
    "    3. demonstrate teamwork skills to:\n",
    "        1. work with others\n",
    "        2. participate in projects and tasks\n",
    "<br><br>\n",
    "6. identify possible life roles related to the skills and content of this cluster\n",
    "    1. recognize and then analyze the opportunities and barriers in the immediate environment\n",
    "    2. identify potential resources to minimize barriers and maximize opportunities"
   ]
  },
  {
   "cell_type": "markdown",
   "metadata": {},
   "source": [
    "[![Callysto.ca License](https://github.com/callysto/curriculum-notebooks/blob/master/callysto-notebook-banner-bottom.jpg?raw=true)](https://github.com/callysto/curriculum-notebooks/blob/master/LICENSE.md)"
   ]
  }
 ],
 "metadata": {
  "kernelspec": {
   "display_name": "Python 3 (ipykernel)",
   "language": "python",
   "name": "python3"
  },
  "language_info": {
   "codemirror_mode": {
    "name": "ipython",
    "version": 3
   },
   "file_extension": ".py",
   "mimetype": "text/x-python",
   "name": "python",
   "nbconvert_exporter": "python",
   "pygments_lexer": "ipython3",
   "version": "3.10.12"
  }
 },
 "nbformat": 4,
 "nbformat_minor": 4
}
