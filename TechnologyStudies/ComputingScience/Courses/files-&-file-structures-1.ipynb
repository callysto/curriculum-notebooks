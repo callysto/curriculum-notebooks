{
 "cells": [
  {
   "attachments": {},
   "cell_type": "markdown",
   "metadata": {},
   "source": [
    "![Callysto.ca Banner](https://github.com/callysto/curriculum-notebooks/blob/master/callysto-notebook-banner-top.jpg?raw=true)\n",
    "\n",
    "<a href=\"https://hub.callysto.ca/jupyter/hub/user-redirect/git-pull?repo=https%3A%2F%2Fgithub.com%2Fcallysto%2Fcurriculum-notebooks&branch=master&subPath=TechnologyStudies/ComputingScience/Courses/files-&-file-structures-1.ipynb&depth=1\"><img src=\"https://raw.githubusercontent.com/callysto/curriculum-notebooks/master/open-in-callysto-button.svg?sanitize=true\" width=\"123\" height=\"24\" alt=\"Open in Callysto\"/></a>"
   ]
  },
  {
   "attachments": {},
   "cell_type": "markdown",
   "metadata": {},
   "source": [
    "# CSE2130: Files & File Structures 1\n",
    "\n",
    "tudents learn how to design, code and debug programs that use data files to store and retrieve data on secondary storage devices. Building on their knowledge of derived data structures, they learn how to use those structures to organize data for efficient file handling. As part of this process, they learn what types of problems benefit from the use of external files.\n",
    "\n",
    "*Prerequisite: [CSE2120: Data Structures 1](data-structures-1.ipynb)*\n",
    "\n"
   ]
  },
  {
   "attachments": {},
   "cell_type": "markdown",
   "metadata": {},
   "source": [
    "Outcomes: The student will:\n",
    "\n",
    "1. analyze and represent the nature, structure and utility of external data files\n",
    "    1. identify and illustrate the general characteristics of external data files including:\n",
    "        1. access methods; e.g., sequential, random, indexed\n",
    "        2. type of data; e.g., text (encoded in a format such as ASCII code), binary (encoded in binary code)\n",
    "        3. text files; e.g., data organization, access methods\n",
    "    2. explain and represent the client/server relationship that exists between a file using application and the operating system with consideration to:\n",
    "        1. how programming environments access secondary storage devices\n",
    "        2. how operating systems handle the actual process of manipulating data in secondary memory\n",
    "        3. how programming environments request file handling services from the operating system\n",
    "        4. the use of a file buffer, data stream and file descriptor table\n",
    "    3. describe and represent the logical structure of text files including:\n",
    "        1. sequential text\n",
    "        2. random-access text files\n",
    "        3. Indexed Sequential Access Method (ISAM) text files\n",
    "    4. describe the main operations associated with text files including:\n",
    "        1. creating a file buffer or stream\n",
    "        2. opening an existing file\n",
    "        3. creating a new file\n",
    "        4. exporting data to a file\n",
    "        5. importing data from a file\n",
    "        6. appending data to a file\n",
    "        7. closing a file\n",
    "        8. comparing two files\n",
    "        9. copying a file\n",
    "        0. merging two files\n",
    "    5. describe and represent the relative advantages of each file type including:\n",
    "        1. access speed\n",
    "        2. storage space requirement\n",
    "        3. difficulty to implement\n",
    "        4. maintainability\n",
    "<br><br>\n",
    "2. create and/or modify algorithms that make effective use of external data files\n",
    "    1. use appropriate general design techniques for a specific programming environment\n",
    "    2. analyze and decompose the problem into appropriate subsections using techniques appropriate for the chosen design approach\n",
    "    3. evaluate subsections and identify any that may require some type of external file capability, based on the nature and amount of the data to be processed and type of processing operations\n",
    "    4. identify and use or construct the appropriate external file structure based on:\n",
    "        1. storage space required\n",
    "        2. the number and speed of required operations\n",
    "        3. programmer efficiency\n",
    "    5. create sequential and random-access files, as required\n",
    "    6. identify and sequence the operations needed to process the data prior to export and/or process the data after import\n",
    "    7. test and modify the algorithm using appropriate “fail-on-paper” techniques\n",
    "<br><br>\n",
    "3. create and/or modify programs based on appropriate algorithms that make effective use of external data files\n",
    "    1. convert algorithms calling for the use of external data files into programs that reflect the algorithm’s design\n",
    "    2. use cohesive subprograms with helper subprograms, if required, to hide and/or protect data, and separate the implementation of the file handling code and attendant data structure and operations from its calling modules\n",
    "    3. use original (user-created) or built-in, environment supported file handling code segments and their attendant operations appropriate to the data being manipulated\n",
    "<br><br>\n",
    "4. compare program operation and outcomes with the intent of the algorithm and modify, as required\n",
    "    1. use appropriate error-trapping mechanisms built into the programming environment, as well as programmer-directed error-trapping techniques, to eliminate logic errors and debug the program\n",
    "    2. compare the congruency between the outcomes of the debugged program and the original intent of the algorithm and modify both, as required\n",
    "<br><br>\n",
    "5. demonstrate basic competencies\n",
    "    1. demonstrate fundamental skills to:\n",
    "        1. communicate\n",
    "        2. manage information\n",
    "        3. use numbers\n",
    "        4. think and solve problems\n",
    "    2. demonstrate personal management skills to:\n",
    "        1. demonstrate positive attitudes and behaviours\n",
    "        2. be responsible\n",
    "        3. be adaptable\n",
    "        4. learn continuously\n",
    "        5. work safely\n",
    "    3. demonstrate teamwork skills to:\n",
    "        1. work with others\n",
    "        2. participate in projects and tasks\n",
    "<br><br>\n",
    "6. identify possible life roles related to the skills and content of this cluster\n",
    "    1. recognize and then analyze the opportunities and barriers in the immediate environment\n",
    "    2. identify potential resources to minimize barriers and maximize opportunities"
   ]
  },
  {
   "attachments": {},
   "cell_type": "markdown",
   "metadata": {},
   "source": [
    "[![Callysto.ca License](https://github.com/callysto/curriculum-notebooks/blob/master/callysto-notebook-banner-bottom.jpg?raw=true)](https://github.com/callysto/curriculum-notebooks/blob/master/LICENSE.md)"
   ]
  }
 ],
 "metadata": {
  "language_info": {
   "name": "python"
  },
  "orig_nbformat": 4
 },
 "nbformat": 4,
 "nbformat_minor": 2
}
