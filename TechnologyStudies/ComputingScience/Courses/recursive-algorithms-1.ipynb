{
 "cells": [
  {
   "cell_type": "markdown",
   "metadata": {},
   "source": [
    "![Callysto.ca Banner](https://github.com/callysto/curriculum-notebooks/blob/master/callysto-notebook-banner-top.jpg?raw=true)\n",
    "\n",
    "<a href=\"https://hub.callysto.ca/jupyter/hub/user-redirect/git-pull?repo=https%3A%2F%2Fgithub.com%2Fcallysto%2Fcurriculum-notebooks&branch=master&subPath=TechnologyStudies/ComputingScience/Courses/recursive-algorithms-1.ipynb&depth=1\"><img src=\"https://raw.githubusercontent.com/callysto/curriculum-notebooks/master/open-in-callysto-button.svg?sanitize=true\" width=\"123\" height=\"24\" alt=\"Open in Callysto\"/></a>"
   ]
  },
  {
   "cell_type": "markdown",
   "metadata": {},
   "source": [
    "# CSE3310: Recursive Algorithms 1\n",
    "\n",
    "*[Alberta Education Learning Outcomes-Business, Administration, Finance & Information Technology (BIT)](https://education.alberta.ca/media/159479/cse_pos.pdf)*\n",
    "\n",
    "*Computer Science-Page 69*\n",
    "\n",
    "*Prerequisite: [CSE3110: Iterative Algorithm 1 ](iterative-algorithm-1.ipynb)*, [CSE3120: Object-oriented Programming 1](https://education.alberta.ca/media/159479/cse_pos.pdf) (Page 55)\n",
    "\n",
    "***\n",
    "\n",
    "Students learn how to use a new program control flow mechanism called\n",
    "**recursion**. They then use this mechanism to write a number of basic recursive\n",
    "algorithms and programs such as a recursive version of the binary search, the\n",
    "quicksort and the merge sort. "
   ]
  },
  {
   "cell_type": "markdown",
   "metadata": {},
   "source": [
    "<div style=\"text-align: center;\">\n",
    "  <iframe width=\"500\" height=\"300\" src=\"https://www.youtube.com/embed/rf60MejMz3E\" frameborder=\"0\" allowfullscreen></iframe>\n",
    "</div>"
   ]
  },
  {
   "cell_type": "markdown",
   "metadata": {},
   "source": [
    "<div style=\"text-align: center;\">\n",
    "  Video by: <a href=\"https://www.youtube.com/@Fireship\" target=\"_blank\">Fireship</a>\n",
    "</div>"
   ]
  },
  {
   "cell_type": "code",
   "execution_count": null,
   "metadata": {},
   "outputs": [],
   "source": [
    "def simple_factorial(n):\n",
    "    # Base Case: return 1 if n is 0\n",
    "    if n == 0:\n",
    "        return 1\n",
    "    # Recursive Case: return n * factorial(n - 1)\n",
    "    else:\n",
    "        return n * simple_factorial(n - 1)\n",
    "\n",
    "simple_factorial(3)"
   ]
  },
  {
   "cell_type": "markdown",
   "metadata": {},
   "source": [
    "Let's break down this recursive implementation of `simple_factorial`. \n",
    "\n",
    "First, we implement a **base case** for our factorial implementation. In recursive functions, a base case is a condition or set of conditions that allows the function to halt the recursion and return a result without making further recursive calls. The base case(s) serve as a stopping criterion, preventing the function from infinitely calling itself.\n",
    "\n",
    "In the context of a recursive factorial function, the base case is often defined for the smallest input value, typically when the input reaches zero or one. For example:\n",
    "\n",
    "```python\n",
    "# Base Case: return 1 if n is 0\n",
    "if n == 0:\n",
    "```\n",
    "\n",
    "In our function above, once our number `n` reaches 0, we want to stop our recursion process.  This is because the factorial of 0 is defined as 1 by convention. If we allowed the recursion to continue beyond this point, it would result in unnecessary computations and could lead to infinite recursion."
   ]
  },
  {
   "cell_type": "markdown",
   "metadata": {},
   "source": [
    "Next, we need to look at the recursive part of our function. \n",
    "\n",
    "```python\n",
    "# Recursive Case: return n * factorial(n - 1)\n",
    "else:\n",
    "    return n * simple_factorial(n - 1)\n",
    "```\n",
    "\n",
    "The function returns the product of `n` and the result of calling `simple_factorial(n-1)` until the base case. \n",
    "\n",
    "```python\n",
    "simple_factorial(3) = 3 * simple_factorial(2)\n",
    "    simple_factorial(2) = 2 * simple_factorial(1)\n",
    "        simple_factorial(1) = 1 * simple_factorial(0)\n",
    "            simple_factorial(0) = 1 (base case)\n",
    "```\n",
    "\n",
    "After reaching the base case, the recursion unwinds:\n",
    "```python\n",
    "      simple_factorial(1) returns 1 * 1 = 1\n",
    "  simple_factorial(2) returns 2 * 1 = 2\n",
    "simple_factorial(3) returns 3 * 2 = 6\n",
    "```\n",
    "\n",
    "As a result, `simple_factorial(3)` returns 6, the value of *3!*. "
   ]
  },
  {
   "cell_type": "markdown",
   "metadata": {},
   "source": [
    "This simple example of a factorial problem also highlights the benefits of using recursion. First, the recursive solution is inherently elegant, meaning the nature of the code is easy to follow, and it contains only a few lines of code. Recursion follows a natural **\"divide and conquer\"** approach, breaking down complex problems into smaller, more manageable sub-problems. Moreover, although the factorial problem could be addressed iteratively with a comparable number of lines of code, generally recursive problems can significantly reduce the number of lines of code. \n",
    "\n",
    "However, it's crucial to acknowledge potential disadvantages. Recursion may lead to stack overflow and memory issues due to the accumulation of function call frames, and in certain cases, iterative solutions might offer better performance. Debugging recursive code can be challenging for some, as mismanagement of base cases and recursive calls may result in unexpected behavior. \n",
    " \n",
    "In summary, while recursion is a powerful tool for specific problems, careful consideration of potential drawbacks, particularly related to memory usage, is essential."
   ]
  },
  {
   "cell_type": "code",
   "execution_count": null,
   "metadata": {},
   "outputs": [],
   "source": [
    "def binary_search_recursive(arr, target, low, high):\n",
    "    # Base Case: If the search space is empty, the target is not in the array\n",
    "    if low > high:\n",
    "        return -1\n",
    "\n",
    "    # Calculate mid element\n",
    "    mid = (low + high) // 2\n",
    "\n",
    "    # Check if mid element is target\n",
    "    if arr[mid] == target:\n",
    "        return mid\n",
    "    \n",
    "    # Search in left half is target is less than the middle element \n",
    "    elif arr[mid] > target:\n",
    "        return binary_search_recursive(arr, target, low, mid - 1)\n",
    "    # Right half if target is greater than middle element\n",
    "    else:\n",
    "        return binary_search_recursive(arr, target, mid + 1, high)"
   ]
  },
  {
   "cell_type": "code",
   "execution_count": null,
   "metadata": {},
   "outputs": [],
   "source": [
    "# Example\n",
    "sorted_array = [1, 2, 3, 4, 5, 6, 7, 8, 9]\n",
    "target_value = 5\n",
    "result = binary_search_recursive(sorted_array, target_value, 0, len(sorted_array) - 1)\n",
    "\n",
    "if result != -1:\n",
    "    print(f'Target {target_value} found at index {result}.')\n",
    "else:\n",
    "    print(f'Target {target_value} not found in the array.')"
   ]
  },
  {
   "cell_type": "code",
   "execution_count": null,
   "metadata": {},
   "outputs": [],
   "source": [
    "def recursive_insertion_sort(arr):\n",
    "    # Base case: return if the array has 1 or fewer elements\n",
    "    if len(arr) <= 1:\n",
    "        return arr\n",
    "    \n",
    "    # Iterate through the array, starting with 2nd element\n",
    "    for current_index in range(1, len(arr)):\n",
    "        # Store the current value to be inserted\n",
    "        current_value = arr[current_index]\n",
    "        \n",
    "        # Find position to insert the current value\n",
    "        position = current_index - 1\n",
    "        while position >= 0 and arr[position] > current_value:\n",
    "            arr[position + 1] = arr[position]\n",
    "            position -= 1\n",
    "        \n",
    "        # Insert the current value\n",
    "        arr[position + 1] = current_value\n",
    "    \n",
    "    # Return the sorted array\n",
    "    return arr"
   ]
  },
  {
   "cell_type": "code",
   "execution_count": null,
   "metadata": {},
   "outputs": [],
   "source": [
    "def recursive_bubble_sort(arr, n=None):\n",
    "    if n is None:\n",
    "        n = len(arr)\n",
    "            \n",
    "    # Base Case: return if the length of the array is 1\n",
    "    if n == 1:\n",
    "        return arr\n",
    "    \n",
    "    # Pass for Bubble Sort\n",
    "    for i in range(n - 1):\n",
    "        if arr[i] > arr[i + 1]:\n",
    "            arr[i], arr[i + 1] = arr[i + 1], arr[i]\n",
    "    \n",
    "    # Recursive call for the next pass\n",
    "    return recursive_bubble_sort(arr, n - 1)"
   ]
  },
  {
   "cell_type": "code",
   "execution_count": null,
   "metadata": {},
   "outputs": [],
   "source": [
    "# Examples\n",
    "unsorted_list = [64, 34, 25, 12, 22, 11, 90]\n",
    "sorted_list = recursive_bubble_sort(unsorted_list)\n",
    "print(\"Sorted array:\", sorted_list)"
   ]
  },
  {
   "cell_type": "markdown",
   "metadata": {},
   "source": [
    "# Things to Do\n",
    "\n",
    "- HeapSort\n",
    "- Merge Sort\n",
    "- Quick Sort\n",
    "- Space vs Time Efficiency\n",
    "- Disadvantages and Advantages of Recursive vs Iterative\n",
    "- Recursive Binary Search"
   ]
  },
  {
   "cell_type": "markdown",
   "metadata": {},
   "source": [
    "1. analyze and represent the nature and utility of the recursive functions or procedures\n",
    "1.1 explain and represent the key features of recursive algorithms including:\n",
    "1.1.1 illustrate how recursive algorithms define themselves in terms of themselves\n",
    "1.1.2 illustrate the use and purpose of the base case in recursion\n",
    "1.2 describe and represent the “divide and conquer” approach to creating recursive algorithms\n",
    "1.3 describe and represent the interchangeability of recursive and iterative operations\n",
    "1.4 compare and contrast recursion and iteration highlighting:\n",
    "1.4.1 programmer efficiency\n",
    "1.4.2 space efficiency\n",
    "1.4.3 time efficiency\n",
    "1.5 outline the importance of recursion in creating dynamic data structures\n",
    "1.6 compare and contrast tail end and head end recursion\n",
    "1.7 explain and represent how the system stack (or equivalent structure) is used to carry out recursive operations\n",
    "\n",
    "2. analyze and represent the nature, structure and utility of recursive search and sort algorithms\n",
    "2.1 describe at least four recursive algorithms used in dynamic data manipulation\n",
    "2.2 compare and contrast iterative and recursive approaches to binary searching by:\n",
    "2.2.1 describing and representing iterative and recursive binary search algorithms\n",
    "2.2.2 explaining the advantages and disadvantages of iterative and recursive approaches to binary searching\n",
    "2.3 compare and contrast at least two recursive sorts by:\n",
    "2.3.1 describing and representing the quicksort and the merge sort\n",
    "2.3.2 describing and representing the heapsort\n",
    "2.3.3 explaining the advantages and disadvantages of the quicksort, merge sort and heapsort\n",
    "\n",
    "3. create and/or modify recursive algorithms to solve problems\n",
    "3.1 demonstrate the use of appropriate general design techniques to draft algorithms that use recursion\n",
    "3.2 analyze and decompose the problem into appropriate subsections using the decomposition techniques appropriate for the chosen design approach\n",
    "3.3 evaluate subsections and identify any that may require a recursive approach\n",
    "3.4 identify which recursive algorithms are appropriate\n",
    "3.5 sequence the various subsections appropriately\n",
    "3.6 test and modify the developing algorithm with appropriate data using a “fail-on-paper” process\n",
    "\n",
    "4. create and/or modify programs that use recursion\n",
    "4.1 convert algorithms calling for recursive structures into programs that reflect the algorithm’s design\n",
    "4.2 use original (user-created) or pre-existing recursive merge and/or sort algorithms appropriate to the data being manipulated\n",
    "4.3 utilize the appropriate operators, methods, functions or procedures required to carry out the recursive algorithms\n",
    "4.4 use internal and external documentation\n",
    "\n",
    "5. compare program operation and outcomes with the intent of the algorithm and modify, as required\n",
    "5.1 use appropriate error-trapping mechanisms built into the programming environment, as well as programmer-directed error-trapping techniques, to eliminate logic errors and debug the program\n",
    "5.2 compare the congruency between the outcomes of the debugged program and the original intent of the algorithm and modify both, as required\n",
    "\n",
    "6. demonstrate basic competencies\n",
    "6.1 demonstrate fundamental skills to:\n",
    "6.1.1 communicate\n",
    "6.1.2 manage information\n",
    "6.1.3 use numbers\n",
    "6.1.4 think and solve problems\n",
    "6.2 demonstrate personal management skills to:\n",
    "6.2.1 demonstrate positive attitudes and behaviours\n",
    "6.2.2 be responsible\n",
    "6.2.3 be adaptable\n",
    "6.2.4 learn continuously\n",
    "6.2.5 work safely\n",
    "6.3 demonstrate teamwork skills to:\n",
    "6.3.1 work with others\n",
    "6.3.2 participate in projects and tasks\n",
    "\n",
    "7. create a transitional strategy to accommodate personal changes and build personal values\n",
    "7.1 identify short-term and long-term goals\n",
    "7.2 identify steps to achieve goals"
   ]
  }
 ],
 "metadata": {
  "kernelspec": {
   "display_name": "Python 3",
   "language": "python",
   "name": "python3"
  },
  "language_info": {
   "codemirror_mode": {
    "name": "ipython",
    "version": 3
   },
   "file_extension": ".py",
   "mimetype": "text/x-python",
   "name": "python",
   "nbconvert_exporter": "python",
   "pygments_lexer": "ipython3",
   "version": "3.10.8"
  }
 },
 "nbformat": 4,
 "nbformat_minor": 2
}
