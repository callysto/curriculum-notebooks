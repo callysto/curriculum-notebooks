{
 "cells": [
  {
   "cell_type": "markdown",
   "metadata": {},
   "source": [
    "![Callysto.ca Banner](https://github.com/callysto/curriculum-notebooks/blob/master/callysto-notebook-banner-top.jpg?raw=true)\n",
    "\n",
    "<a href=\"https://hub.callysto.ca/jupyter/hub/user-redirect/git-pull?repo=https%3A%2F%2Fgithub.com%2Fcallysto%2Fcurriculum-notebooks&branch=master&subPath=TechnologyStudies/ComputingScience/Courses/recursive-algorithms-1.ipynb&depth=1\"><img src=\"https://raw.githubusercontent.com/callysto/curriculum-notebooks/master/open-in-callysto-button.svg?sanitize=true\" width=\"123\" height=\"24\" alt=\"Open in Callysto\"/></a>"
   ]
  },
  {
   "cell_type": "markdown",
   "metadata": {},
   "source": [
    "# CSE3310: Recursive Algorithms 1\n",
    "\n",
    "*[Alberta Education Learning Outcomes-Business, Administration, Finance & Information Technology (BIT)](https://education.alberta.ca/media/159479/cse_pos.pdf)*\n",
    "\n",
    "*Computer Science-Page 69*\n",
    "\n",
    "*Prerequisite: [CSE3110: Iterative Algorithm 1 ](iterative-algorithm-1.ipynb)*, [CSE3120: Object-oriented Programming 1](https://education.alberta.ca/media/159479/cse_pos.pdf) (Page 55)\n",
    "\n",
    "***\n",
    "\n",
    "Students learn how to use a new program control flow mechanism called\n",
    "**recursion**. They then use this mechanism to write a number of basic recursive\n",
    "algorithms and programs such as a recursive version of the binary search, the\n",
    "quicksort and the merge sort. "
   ]
  },
  {
   "cell_type": "markdown",
   "metadata": {},
   "source": [
    "<div style=\"text-align: center;\">\n",
    "  <iframe width=\"500\" height=\"300\" src=\"https://www.youtube.com/embed/rf60MejMz3E\" frameborder=\"0\" allowfullscreen></iframe>\n",
    "</div>"
   ]
  },
  {
   "cell_type": "markdown",
   "metadata": {},
   "source": [
    "<div style=\"text-align: center;\">\n",
    "  Video by: <a href=\"https://www.youtube.com/@Fireship\" target=\"_blank\">Fireship</a>\n",
    "</div>"
   ]
  },
  {
   "cell_type": "code",
   "execution_count": null,
   "metadata": {},
   "outputs": [],
   "source": [
    "def simple_factorial(n):\n",
    "    if n == 0:\n",
    "        return 1\n",
    "    else:\n",
    "        return n * simple_factorial(n - 1)\n",
    "\n",
    "simple_factorial(5)"
   ]
  },
  {
   "cell_type": "code",
   "execution_count": null,
   "metadata": {},
   "outputs": [],
   "source": [
    "def recursive_insertion_sort(arr):\n",
    "    # Base case: return if the array has 1 or fewer elements\n",
    "    if len(arr) <= 1:\n",
    "        return arr\n",
    "    \n",
    "    # Iterate through the array, starting with 2nd element\n",
    "    for current_index in range(1, len(arr)):\n",
    "        # Store the current value to be inserted\n",
    "        current_value = arr[current_index]\n",
    "        \n",
    "        # Find position to insert the current value\n",
    "        position = current_index - 1\n",
    "        while position >= 0 and arr[position] > current_value:\n",
    "            arr[position + 1] = arr[position]\n",
    "            position -= 1\n",
    "        \n",
    "        # Insert the current value\n",
    "        arr[position + 1] = current_value\n",
    "    \n",
    "    # Return the sorted array\n",
    "    return arr\n"
   ]
  },
  {
   "cell_type": "code",
   "execution_count": null,
   "metadata": {},
   "outputs": [],
   "source": [
    "def recursive_bubble_sort(arr, n=None):\n",
    "    if n is None:\n",
    "        n = len(arr)\n",
    "            \n",
    "    # Base Case: return if the length of the array is 1\n",
    "    if n == 1:\n",
    "        return arr\n",
    "    \n",
    "    # Pass for Bubble Sort\n",
    "    for i in range(n - 1):\n",
    "        if arr[i] > arr[i + 1]:\n",
    "            arr[i], arr[i + 1] = arr[i + 1], arr[i]\n",
    "    \n",
    "    # Recursive call for the next pass\n",
    "    return recursive_bubble_sort(arr, n - 1)"
   ]
  },
  {
   "cell_type": "code",
   "execution_count": null,
   "metadata": {},
   "outputs": [],
   "source": [
    "def dfs(graph, node, visited=None):\n",
    "    if visited is None:\n",
    "        visited = set()\n",
    "    \n",
    "    # Mark the current node as visited\n",
    "    visited.add(node)\n",
    "    print(node, end=\" \")  # Process the current node\n",
    "    \n",
    "    # Recur for all adjacent vertices not yet visited\n",
    "    for neighbor in graph[node]:\n",
    "        if neighbor not in visited:\n",
    "            dfs(graph, neighbor, visited)"
   ]
  },
  {
   "cell_type": "code",
   "execution_count": null,
   "metadata": {},
   "outputs": [],
   "source": [
    "# Example usage:\n",
    "graph = {\n",
    "    1: [2, 3],\n",
    "    2: [1, 4, 5],\n",
    "    3: [1, 6],\n",
    "    4: [2],\n",
    "    5: [2],\n",
    "    6: [3]\n",
    "}\n",
    "\n",
    "print(\"Depth-First Search:\")\n",
    "dfs(graph, 1)"
   ]
  },
  {
   "cell_type": "code",
   "execution_count": null,
   "metadata": {},
   "outputs": [],
   "source": [
    "# Examples\n",
    "\n",
    "unsorted_list = [64, 34, 25, 12, 22, 11, 90]\n",
    "sorted_list = recursive_bubble_sort(unsorted_list)\n",
    "print(\"Sorted array:\", sorted_list)"
   ]
  },
  {
   "cell_type": "markdown",
   "metadata": {},
   "source": [
    "1. analyze and represent the nature and utility of the recursive functions or procedures\n",
    "1.1 explain and represent the key features of recursive algorithms including:\n",
    "1.1.1 illustrate how recursive algorithms define themselves in terms of themselves\n",
    "1.1.2 illustrate the use and purpose of the base case in recursion\n",
    "1.2 describe and represent the “divide and conquer” approach to creating recursive algorithms\n",
    "1.3 describe and represent the interchangeability of recursive and iterative operations\n",
    "1.4 compare and contrast recursion and iteration highlighting:\n",
    "1.4.1 programmer efficiency\n",
    "1.4.2 space efficiency\n",
    "1.4.3 time efficiency\n",
    "1.5 outline the importance of recursion in creating dynamic data structures\n",
    "1.6 compare and contrast tail end and head end recursion\n",
    "1.7 explain and represent how the system stack (or equivalent structure) is used to carry out recursive operations\n",
    "\n",
    "2. analyze and represent the nature, structure and utility of recursive search and sort algorithms\n",
    "2.1 describe at least four recursive algorithms used in dynamic data manipulation\n",
    "2.2 compare and contrast iterative and recursive approaches to binary searching by:\n",
    "2.2.1 describing and representing iterative and recursive binary search algorithms\n",
    "2.2.2 explaining the advantages and disadvantages of iterative and recursive approaches to binary searching\n",
    "2.3 compare and contrast at least two recursive sorts by:\n",
    "2.3.1 describing and representing the quicksort and the merge sort\n",
    "2.3.2 describing and representing the heapsort\n",
    "2.3.3 explaining the advantages and disadvantages of the quicksort, merge sort and heapsort\n",
    "\n",
    "3. create and/or modify recursive algorithms to solve problems\n",
    "3.1 demonstrate the use of appropriate general design techniques to draft algorithms that use recursion\n",
    "3.2 analyze and decompose the problem into appropriate subsections using the decomposition techniques appropriate for the chosen design approach\n",
    "3.3 evaluate subsections and identify any that may require a recursive approach\n",
    "3.4 identify which recursive algorithms are appropriate\n",
    "3.5 sequence the various subsections appropriately\n",
    "3.6 test and modify the developing algorithm with appropriate data using a “fail-on-paper” process\n",
    "\n",
    "4. create and/or modify programs that use recursion\n",
    "4.1 convert algorithms calling for recursive structures into programs that reflect the algorithm’s design\n",
    "4.2 use original (user-created) or pre-existing recursive merge and/or sort algorithms appropriate to the data being manipulated\n",
    "4.3 utilize the appropriate operators, methods, functions or procedures required to carry out the recursive algorithms\n",
    "4.4 use internal and external documentation\n",
    "\n",
    "5. compare program operation and outcomes with the intent of the algorithm and modify, as required\n",
    "5.1 use appropriate error-trapping mechanisms built into the programming environment, as well as programmer-directed error-trapping techniques, to eliminate logic errors and debug the program\n",
    "5.2 compare the congruency between the outcomes of the debugged program and the original intent of the algorithm and modify both, as required\n",
    "\n",
    "6. demonstrate basic competencies\n",
    "6.1 demonstrate fundamental skills to:\n",
    "6.1.1 communicate\n",
    "6.1.2 manage information\n",
    "6.1.3 use numbers\n",
    "6.1.4 think and solve problems\n",
    "6.2 demonstrate personal management skills to:\n",
    "6.2.1 demonstrate positive attitudes and behaviours\n",
    "6.2.2 be responsible\n",
    "6.2.3 be adaptable\n",
    "6.2.4 learn continuously\n",
    "6.2.5 work safely\n",
    "6.3 demonstrate teamwork skills to:\n",
    "6.3.1 work with others\n",
    "6.3.2 participate in projects and tasks\n",
    "\n",
    "7. create a transitional strategy to accommodate personal changes and build personal values\n",
    "7.1 identify short-term and long-term goals\n",
    "7.2 identify steps to achieve goals"
   ]
  }
 ],
 "metadata": {
  "kernelspec": {
   "display_name": "Python 3",
   "language": "python",
   "name": "python3"
  },
  "language_info": {
   "codemirror_mode": {
    "name": "ipython",
    "version": 3
   },
   "file_extension": ".py",
   "mimetype": "text/x-python",
   "name": "python",
   "nbconvert_exporter": "python",
   "pygments_lexer": "ipython3",
   "version": "3.10.8"
  }
 },
 "nbformat": 4,
 "nbformat_minor": 2
}
