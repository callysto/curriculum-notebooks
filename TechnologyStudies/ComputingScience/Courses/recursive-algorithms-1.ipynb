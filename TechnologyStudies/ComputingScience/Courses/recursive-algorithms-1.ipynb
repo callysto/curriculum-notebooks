{
 "cells": [
  {
   "cell_type": "markdown",
   "metadata": {},
   "source": [
    "![Callysto.ca Banner](https://github.com/callysto/curriculum-notebooks/blob/master/callysto-notebook-banner-top.jpg?raw=true)\n",
    "\n",
    "<a href=\"https://hub.callysto.ca/jupyter/hub/user-redirect/git-pull?repo=https%3A%2F%2Fgithub.com%2Fcallysto%2Fcurriculum-notebooks&branch=master&subPath=TechnologyStudies/ComputingScience/Courses/recursive-algorithms-1.ipynb&depth=1\"><img src=\"https://raw.githubusercontent.com/callysto/curriculum-notebooks/master/open-in-callysto-button.svg?sanitize=true\" width=\"123\" height=\"24\" alt=\"Open in Callysto\"/></a>"
   ]
  },
  {
   "cell_type": "markdown",
   "metadata": {},
   "source": [
    "# CSE3310: Recursive Algorithms 1\n",
    "\n",
    "*[Alberta Education Learning Outcomes-Business, Administration, Finance & Information Technology (BIT)](https://education.alberta.ca/media/159479/cse_pos.pdf)*\n",
    "\n",
    "*Computer Science-Page 69*\n",
    "\n",
    "*Prerequisite: [CSE3110: Iterative Algorithm 1 ](iterative-algorithm-1.ipynb)*, [CSE3120: Object-oriented Programming 1](https://education.alberta.ca/media/159479/cse_pos.pdf) (Page 55)\n",
    "\n",
    "***\n",
    "\n",
    "Students learn how to use a new program control flow mechanism called\n",
    "**recursion**. They then use this mechanism to write a number of basic recursive\n",
    "algorithms and programs such as a recursive version of the binary search, the\n",
    "quicksort and the merge sort. "
   ]
  },
  {
   "cell_type": "markdown",
   "metadata": {},
   "source": [
    "<div style=\"text-align: center;\">\n",
    "  <iframe width=\"500\" height=\"300\" src=\"https://www.youtube.com/embed/rf60MejMz3E\" frameborder=\"0\" allowfullscreen></iframe>\n",
    "</div>"
   ]
  },
  {
   "cell_type": "markdown",
   "metadata": {},
   "source": [
    "<div style=\"text-align: center;\">\n",
    "  Video by: <a href=\"https://www.youtube.com/@Fireship\" target=\"_blank\">Fireship</a>\n",
    "</div>"
   ]
  },
  {
   "cell_type": "markdown",
   "metadata": {},
   "source": [
    "## Recursion: Recursion: Recursion...\n",
    "\n",
    "**Recursion** is a programming concept where a function calls itself in order to solve a problem. In other words, it involves breaking down a complex problem into simpler, similar sub-problems and solving each sub-problem by applying the same strategy. \n",
    "\n",
    "Let's create a function that uses recursion below.\n",
    "\n",
    "#### Factorial Example"
   ]
  },
  {
   "cell_type": "code",
   "execution_count": null,
   "metadata": {},
   "outputs": [],
   "source": [
    "def simple_factorial(n):\n",
    "    # Base Case: return 1 if n is 0\n",
    "    if n == 0:\n",
    "        return 1\n",
    "    # Recursive Case: return n * factorial(n - 1)\n",
    "    else:\n",
    "        return n * simple_factorial(n - 1)\n",
    "\n",
    "simple_factorial(3)"
   ]
  },
  {
   "cell_type": "markdown",
   "metadata": {},
   "source": [
    "Let's break down this recursive implementation of `simple_factorial`. \n",
    "\n",
    "First, we implement a **base case** for our factorial implementation. In recursive functions, a base case is a condition or set of conditions that allows the function to halt the recursion and return a result without making further recursive calls. The base case(s) serve as a stopping criterion, preventing the function from infinitely calling itself.\n",
    "\n",
    "In the context of a recursive factorial function, the base case is often defined for the smallest input value, typically when the input reaches zero or one. For example:\n",
    "\n",
    "```python\n",
    "# Base Case: return 1 if n is 0\n",
    "if n == 0:\n",
    "```\n",
    "\n",
    "In our function above, once our number `n` reaches 0, we want to stop our recursion process.  This is because the factorial of 0 is defined as 1 by convention. If we allowed the recursion to continue beyond this point, it would result in unnecessary computations and could lead to infinite recursion."
   ]
  },
  {
   "cell_type": "markdown",
   "metadata": {},
   "source": [
    "Next, we need to look at the recursive part of our function. \n",
    "\n",
    "```python\n",
    "# Recursive Case: return n * factorial(n - 1)\n",
    "else:\n",
    "    return n * simple_factorial(n - 1)\n",
    "```\n",
    "\n",
    "The function returns the product of `n` and the result of calling `simple_factorial(n-1)` until the base case. \n",
    "\n",
    "```python\n",
    "simple_factorial(3) = 3 * simple_factorial(2)\n",
    "    simple_factorial(2) = 2 * simple_factorial(1)\n",
    "        simple_factorial(1) = 1 * simple_factorial(0)\n",
    "            simple_factorial(0) = 1 (base case)\n",
    "```\n",
    "\n",
    "After reaching the base case, the recursion unwinds:\n",
    "```python\n",
    "      simple_factorial(1) returns 1 * 1 = 1\n",
    "  simple_factorial(2) returns 2 * 1 = 2\n",
    "simple_factorial(3) returns 3 * 2 = 6\n",
    "```\n",
    "\n",
    "As a result, `simple_factorial(3)` returns 6, the value of *3!*. "
   ]
  },
  {
   "cell_type": "markdown",
   "metadata": {},
   "source": [
    "We can also implement recursive functions that have **multiple** base cases or a single base case that checks for a boundary of values. Take the example of calculating Fibonacci numbers. \n",
    "\n",
    "The [Fibonacci](https://en.wikipedia.org/wiki/Fibonacci_sequence) sequence is a series of numbers where each number is the sum of the two preceding ones. Automatically, we can start to see a recursive pattern where we have to continue adding the sum of our function calls until we get to a base case. \n",
    "\n",
    "In this particular problem, since F(0) = 0 and F(1) = 1 and every preceding function call builds on these foundational base cases, we are able to simply recursively call the previous two Fibonacci numbers in our recursive portion of our algorithm. \n",
    "\n",
    "Below is an implementation of the Fibonacci sequence. \n",
    "\n",
    "#### Fibonacci Example"
   ]
  },
  {
   "cell_type": "code",
   "execution_count": null,
   "metadata": {},
   "outputs": [],
   "source": [
    "def fibonacci(number):\n",
    "    # Base Case: The fibonacci of 0 is 0\n",
    "    if number == 0:\n",
    "        return 0\n",
    "    # Base Case: The fibonacci of 1 is 1\n",
    "    elif number == 1:\n",
    "        return 1\n",
    "    # Recursive Case: The fibonacci of n is the sum of the previous two fibonacci numbers\n",
    "    # Example: fibonacci(3) = fibonacci(1) + fibonacci(2)\n",
    "    else:\n",
    "        return fibonacci(number-1) + fibonacci(number-2)"
   ]
  },
  {
   "cell_type": "code",
   "execution_count": null,
   "metadata": {},
   "outputs": [],
   "source": [
    "# Example Usage: You can change the value of n to see different fibonacci numbers\n",
    "n = 6\n",
    "result = fibonacci(n)\n",
    "\n",
    "# Fibonacci Series up to 6 is --> 0 1 1 2 3 5\n",
    "# 3+5 = 8\n",
    "print(f\"Fibonacci of {n} is:\", result)"
   ]
  },
  {
   "cell_type": "markdown",
   "metadata": {},
   "source": [
    "Now that you understand the basic structure of how a recursive function should be implemented, try to implement the Fibonacci sequence but instead of each number being the sum of the last two preceding ones, make it so that it is the sum of the last **three preceding numbers**. "
   ]
  },
  {
   "cell_type": "markdown",
   "metadata": {},
   "source": [
    "**Note**: When implementing your algorithm, remove the `pass` at the bottom of the function! This is a temporary placeholder."
   ]
  },
  {
   "cell_type": "code",
   "execution_count": null,
   "metadata": {},
   "outputs": [],
   "source": [
    "def fibonacci_preceding_three(number):\n",
    "    # TODO: Base Case: The fibonacci of 0 is 0\n",
    "        # TODO: Return F(0)\n",
    "\n",
    "    # TODO:Base Case: The fibonacci of 1 is 1\n",
    "        # TODO: Return F(1)\n",
    "\n",
    "    # TODO: Base Case: The fibonacci of 2 is 1\n",
    "        # TODO: Return F(2)\n",
    "\n",
    "    # Recursive Case: The fibonacci of n is the sum of the previous three fibonacci numbers\n",
    "        # TODO: Return the sum of the previous three fibonacci numbers\n",
    "    pass"
   ]
  },
  {
   "cell_type": "markdown",
   "metadata": {},
   "source": [
    "<details>\n",
    "<summary>Click here for code hints for the first 4 TODOs</summary>\n",
    "\n",
    "```python\n",
    "    # TODO: Base Case: The fibonacci of 0 is 0\n",
    "    if number == 0:\n",
    "        # TODO: Return F(0)\n",
    "        return 0\n",
    "        \n",
    "    # TODO:Base Case: The fibonacci of 1 is 1\n",
    "    elif number == 1:\n",
    "        # TODO: Return F(1)\n",
    "        return 1\n",
    "```"
   ]
  },
  {
   "cell_type": "markdown",
   "metadata": {},
   "source": [
    "<details>\n",
    "<summary>Click here for code hints for the rest of the TODOs</summary>\n",
    "\n",
    "```python\n",
    "    # TODO: Base Case: The fibonacci of 2 is 1\n",
    "    elif number == 2:\n",
    "        # TODO: Return F(2)\n",
    "        return 1\n",
    "    # Recursive Case: The fibonacci of n is the sum of the previous three fibonacci numbers\n",
    "    else:\n",
    "        # TODO: Return the sum of the previous three fibonacci numbers\n",
    "        return fibonacci_preceding_three(number-1) + fibonacci_preceding_three(number-2) + fibonacci_preceding_three(number-3)\n",
    "```"
   ]
  },
  {
   "cell_type": "markdown",
   "metadata": {},
   "source": [
    "#### Testing your Algorithm\n",
    "\n",
    "When developing algorithms, it's equally important to test your algorithm to see that it's working in a variety of different scenarios. These specific unlikely or out-of-the ordinary scenarios are called **edge cases**. These extreme scenarios can reveal vulnerabilities that aren't apparent during typical testing.\n",
    "\n",
    "Below are some examples of different forms your input list could be arranged so that it can cover a variety of different testing scenarios. Run the cell below to test your implementation of linear search.\n",
    "\n",
    "Test your implementation of `fibonacci_preceding_three` with pre-made test cases below. "
   ]
  },
  {
   "cell_type": "code",
   "execution_count": null,
   "metadata": {},
   "outputs": [],
   "source": [
    "def test_fib():\n",
    "    all_good = True\n",
    "\n",
    "    # Test Case 1: Fibonacci of 0\n",
    "    result_0 = fibonacci_preceding_three(0)\n",
    "    expected_0 = 0\n",
    "    print(f\"F(0) = {result_0}, Expected: {expected_0}\")\n",
    "    if result_0 != expected_0:\n",
    "        all_good = False\n",
    "\n",
    "    # Test Case 2: Fibonacci of 1\n",
    "    result_1 = fibonacci_preceding_three(1)\n",
    "    expected_1 = 1\n",
    "    print(f\"F(1) = {result_1}, Expected: {expected_1}\")\n",
    "    if result_1 != expected_1:\n",
    "        all_good = False\n",
    "\n",
    "    # Test Case 3: Fibonacci of 2\n",
    "    result_2 = fibonacci_preceding_three(2)\n",
    "    expected_2 = 1\n",
    "    print(f\"F(2) = {result_2}, Expected: {expected_2}\")\n",
    "    if result_2 != expected_2:\n",
    "        all_good = False\n",
    "\n",
    "    # Test Case 4: Fibonacci of 3\n",
    "    result_3 = fibonacci_preceding_three(3)\n",
    "    expected_3 = 2\n",
    "    print(f\"F(3) = {result_3}, Expected: {expected_3}\")\n",
    "    if result_3 != expected_3:\n",
    "        all_good = False\n",
    "\n",
    "    # Test Case 5: Fibonacci of 5\n",
    "    result_5 = fibonacci_preceding_three(5)\n",
    "    expected_5 = 7\n",
    "    print(f\"F(5) = {result_5}, Expected: {expected_5}\")\n",
    "    if result_5 != expected_5:\n",
    "        all_good = False\n",
    "\n",
    "    # Test Case 6: Fibonacci of 10\n",
    "    result_10 = fibonacci_preceding_three(10)\n",
    "    expected_10 = 149\n",
    "    print(f\"F(10) = {result_10}, Expected: {expected_10}\")\n",
    "    if result_10 != expected_10:\n",
    "        all_good = False\n",
    "\n",
    "    if not all_good:\n",
    "        print(\"Not all test-cases passed.\")\n",
    "\n",
    "test_fib()"
   ]
  },
  {
   "cell_type": "markdown",
   "metadata": {},
   "source": [
    "Both the factorial problem and Fibonacci problem highlight the benefits of using recursion. First, the recursive solution is inherently shorter, resulting in code which is generally easier to follow. Let's take a look at an iterative implementation of Fibonacci:\n",
    "\n",
    "```python\n",
    "def fibonacci(n):\n",
    "    # Initialize the first two Fibonacci numbers\n",
    "    current, next_number = 0, 1\n",
    "\n",
    "    elif n == 0:\n",
    "        return current\n",
    "    elif n == 1:\n",
    "        return next_number\n",
    "    else:\n",
    "        # Calculate Fibonacci number\n",
    "        for i in range(2, n + 1):\n",
    "            current, next_number = next_number, current + next_number\n",
    "\n",
    "        return next_number\n",
    "```\n",
    "While the implementation of this function may not be inherently complex, opting for a recursive approach can add a layer of elegance to its structure.\n",
    "\n",
    "However, it's crucial to acknowledge potential disadvantages. Recursion may lead to infinite loops (incorrect base-case implementation) and memory issues due to the accumulation of function call frames, and in certain cases, iterative solutions might offer better performance. Debugging recursive code can also be challenging, as mismanagement of base cases and recursive calls may result in unexpected behavior. "
   ]
  },
  {
   "cell_type": "markdown",
   "metadata": {},
   "source": [
    "## Searching\n",
    "\n",
    "### Binary Search: Recursively\n",
    "\n",
    "As you may know or not know, **binary search** is an effective searching algorithm designed for *sorted* lists. It works by repeatedly dividing the search interval in half by using two pointers (generally denoted as left and right). By comparing the *middle* element of the sorted list with the target value, it determines whether the target value is present in the *lower* or *upper* half of the interval. This process continues until the value is found, or the interval is empty.\n",
    "\n",
    "Here is a quick look of how binary-search works using visualizations."
   ]
  },
  {
   "cell_type": "markdown",
   "metadata": {},
   "source": [
    "<div align=\"center\">\n",
    "Initial List: [2, 4, 7, 6, 0]\n",
    "</div>"
   ]
  },
  {
   "cell_type": "markdown",
   "metadata": {},
   "source": [
    "<div style=\"text-align:center\">\n",
    "    <img src=\"images/binarysearch1.png\" />\n",
    "</div>\n",
    "\n",
    "Here is a quick look at our initial list before we get into the first iteration of our **binary search**. Our target value is **46**, which is highlighted in green. \n",
    "\n",
    "<div style=\"text-align:center\">\n",
    "    <img src=\"images/binarysearch2.png\" />\n",
    "</div>\n",
    "\n",
    "When we calculate the **middle** point of our bounds, we need to stick to a *consistent rounding system*. In our implementation of binary search, we'll be rounding **down**."
   ]
  },
  {
   "cell_type": "markdown",
   "metadata": {},
   "source": [
    "#### Iteration 1:\n",
    "\n",
    "In our first iteration, we have a **left** bound of 0 and a **right** bound of 11. The average of these bounds is 5 (rounded down). We then go to the 5th element in our list and then check if it's greater, lower, or equal to our target value. \n",
    "\n",
    "Since *33 is less than 46*, we eliminate all values to the left of 33, including 33 itself. We can do this because our list is **sorted**, and we know all values to the left of 33 are smaller than 33, meaning there is no chance 46 can be to the left of the 5th element in the list. \n",
    "\n",
    "Now, we update our *left pointer* **one** to the **right** of our *middle pointer*, so that we can calculate the new bounds of list.\n",
    "\n",
    "<div style=\"text-align:center\">\n",
    "    <img src=\"images/binarysearch3.png\" />\n",
    "</div>"
   ]
  },
  {
   "cell_type": "markdown",
   "metadata": {},
   "source": [
    "#### Iteration 2:\n",
    "\n",
    "In our second iteration, we have a **left** bound of 6 and a **right** bound of 11. The average of these bounds is 8 (rounded down). We then go to the 8th element in our list and check if it's greater, lower, or equal to our target.\n",
    "\n",
    "Since *57 is greater than 46*, we eliminate all values to the right of 57, including 57 itself. \n",
    "\n",
    "Now, we update our *right pointer* **one** to the **left** of our *middle pointer*, so that we can calculate the new bounds of list.\n",
    "\n",
    "<div style=\"text-align:center\">\n",
    "    <img src=\"images/binarysearch4.png\" />\n",
    "</div>"
   ]
  },
  {
   "cell_type": "markdown",
   "metadata": {},
   "source": [
    "#### Iteration 3:\n",
    "\n",
    "In our third iteration, we have a **left** bound of 6 and a **right** bound of 7. The average of these bounds is 6 (rounded down). We then go to the 6th element in our list and check if it's greater, lower, or equal to our target.\n",
    "\n",
    "Since *46 is equal to 46*, we know that we have now found our value. \n",
    "\n",
    "Since we have found our value, we can return the **middle pointer** as it was on the index where the target value was found.\n",
    "\n",
    "Now, you should know the fundamentals to building your own binary search algorithm. Below is a binary search algorithm template that you can fill out to finish your implementation, but **recursively**!"
   ]
  },
  {
   "cell_type": "markdown",
   "metadata": {},
   "source": [
    "**Note**: When implementing your algorithm, remove the `pass` at the bottom of the function! This is a temporary placeholder."
   ]
  },
  {
   "cell_type": "code",
   "execution_count": null,
   "metadata": {},
   "outputs": [],
   "source": [
    "def binary_search_recursive(arr, target, low, high):\n",
    "\n",
    "    # TODO: Base Case: If your left pointer is greater than your right pointer, the target is not in the array\n",
    "        # TODO: Return -1, indicating that the target is not in the array\n",
    "\n",
    "    # TODO: Calculate mid element index\n",
    "\n",
    "    # TODO: Check if mid element is target\n",
    "        # TODO: Return the index\n",
    "    \n",
    "    # TODO: Check if mid element is greater than target\n",
    "        # TODO: Recursively search the left half\n",
    "    \n",
    "    # TODO: Check if the mid element is less than target\n",
    "        # TODO: Recursively search the right half\n",
    "\n",
    "    pass"
   ]
  },
  {
   "cell_type": "markdown",
   "metadata": {},
   "source": [
    "<details>\n",
    "<summary>Click here for code hints for the first 5 TODOs</summary>\n",
    "\n",
    "```python\n",
    "    if low > high:\n",
    "        return -1\n",
    "\n",
    "    mid = (low + high) // 2\n",
    "\n",
    "    if arr[mid] == target:\n",
    "        return mid\n",
    "```"
   ]
  },
  {
   "cell_type": "markdown",
   "metadata": {},
   "source": [
    "<details>\n",
    "<summary>Click here for code hints for the rest of the TODOs</summary>\n",
    "\n",
    "```python\n",
    "    elif arr[mid] > target:\n",
    "        return binary_search_recursive(arr, target, low, mid - 1)\n",
    "    else:\n",
    "        return binary_search_recursive(arr, target, mid + 1, high)\n",
    "```"
   ]
  },
  {
   "cell_type": "code",
   "execution_count": null,
   "metadata": {},
   "outputs": [],
   "source": [
    "def test_binary_search_recursive():\n",
    "    all_good = True \n",
    "\n",
    "    # Test case 1: The target is in the middle of the array\n",
    "    array = [1, 2, 3, 4, 5]\n",
    "    target = 3\n",
    "    expected_output = 2\n",
    "    if binary_search_recursive(array, target, 0, len(array) - 1) != expected_output:\n",
    "        print(\"Test Case 1 Failed. Using [1, 2, 3, 4, 5] and target 3, expected index 2, but got\", binary_search_recursive(array, target, 0, len(array) - 1))\n",
    "        all_good = False\n",
    "\n",
    "    # Test case 2: The target is at the beginning of the array\n",
    "    array = [1, 2, 3, 4, 5]\n",
    "    target = 1\n",
    "    expected_output = 0\n",
    "    if binary_search_recursive(array, target, 0, len(array) - 1) != expected_output:\n",
    "        print(\"Test Case 2 Failed. Using [1, 2, 3, 4, 5] and target 1, expected index 0, but got\", binary_search_recursive(array, target, 0, len(array) - 1))\n",
    "        all_good = False\n",
    "\n",
    "    # Test case 3: The target is at the end of the array\n",
    "    array = [1, 2, 3, 4, 5]\n",
    "    target = 5\n",
    "    expected_output = 4\n",
    "    if binary_search_recursive(array, target, 0, len(array) - 1) != expected_output:\n",
    "        print(\"Test Case 3 Failed. Using [1, 2, 3, 4, 5] and target 5, expected index 4, but got\", binary_search_recursive(array, target, 0, len(array) - 1))\n",
    "        all_good = False\n",
    "\n",
    "    # Test case 4: The target is not in the array\n",
    "    array = [1, 2, 3, 4, 5]\n",
    "    target = 6\n",
    "    expected_output = -1\n",
    "    if binary_search_recursive(array, target, 0, len(array) - 1) != expected_output:\n",
    "        print(\"Test Case 4 Failed. Using [1, 2, 3, 4, 5] and target 6, expected -1, but got\", binary_search_recursive(array, target, 0, len(array) - 1))\n",
    "        all_good = False\n",
    "\n",
    "    # Test case 5: The array is empty\n",
    "    array = []\n",
    "    target = 1\n",
    "    expected_output = -1\n",
    "    if binary_search_recursive(array, target, 0, len(array) - 1) != expected_output:\n",
    "        print(\"Test Case 5 Failed. Using [] (empty list) and target 1, expected -1, but got\", binary_search_recursive(array, target, 0, len(array) - 1))\n",
    "        all_good = False\n",
    "        \n",
    "    if all_good:\n",
    "        print(\"All test cases passed!\")\n",
    "\n",
    "test_binary_search_recursive()"
   ]
  },
  {
   "cell_type": "markdown",
   "metadata": {},
   "source": [
    "## Time Complexity\n",
    "\n",
    "In computer science, time complexity is a concept used to describe the *amount of time* it takes for an algorithm to run as a **function** of the length of the input. It helps us understand how the algorithm's running time increases with the *size of the input*. Time complexity is usually expressed using **big O notation**, denoted as \"O\", which stands for the \"*order of complexity*\". Essentially, big O notation establishes an upper limit on the growth rate of the running time concerning the input size. \n",
    "\n",
    "For example, if an algorithm has a time complexity of **O(n)**, it means the algorithm's running time grows *linearly* with the size of the input. If it has a time complexity of **O(n^2)**, the running time grows quadratically with the input size, and so on. Understanding time complexity is essential for evaluating and comparing the efficiency of different algorithms, especially when dealing with large datasets.\n",
    "\n",
    "Refer to the provided image below, illustrating different time complexities, to gain a clearer understanding of how these complexities scale as the input size increases.\n",
    "\n",
    "<div style=\"text-align:center\">\n",
    "    <img src=\"images/timecomplexity.png\" />\n",
    "</div>"
   ]
  },
  {
   "cell_type": "markdown",
   "metadata": {},
   "source": [
    "## Space Complexity: Understanding Memory Usage\n",
    "\n",
    "Similarly to time complexity, in computer science, **space complexity** is a crucial metric that describes the amount of memory an algorithm requires as a function of the input size. It provides insights into how the algorithm's memory consumption increases with larger inputs. Similar to time complexity, space complexity is expressed using big O notation, denoted as \"O.\"\n",
    "\n",
    "### Balancing Time and Space Complexity\n",
    "In practice, there is often a *trade-off* between **time** and **space** complexity. Some algorithms optimize for faster execution at the cost of increased memory usage, while others prioritize minimizing memory requirements, even if it means slightly slower execution. Striking the right balance depends on the specific constraints of the problem at hand."
   ]
  },
  {
   "cell_type": "markdown",
   "metadata": {},
   "source": [
    "#### Time Complexity of Binary Search\n",
    "\n",
    "**Best Case Scenario**:\n",
    "The best-case scenario occurs when the target element is found at the middle of the array in the first comparison. In this case, the algorithm performs a constant number of comparisons, resulting in a time complexity of **O(1)**. \n",
    "\n",
    "**Worst Case Scenario**:\n",
    "The worst-case scenario for binary search happens when the target element is at one of the extremes of the array, or it is not present in the array at all. In this case, binary search will repeatedly divide the array until the search space is reduced to one element or none. The time complexity in the worst case is logarithmic, specifically **O(log n)**, where 'n' is the size of the array.\n",
    "\n",
    "Remember how we mentioned that in analyzing algorithms, we generally use the upper bound when calculating the running time of an algorithm? This means that when looking at binary search's time complexity, we would use the worst case scenario, meaning it has a time complexity of **O(log n)** time."
   ]
  },
  {
   "cell_type": "markdown",
   "metadata": {},
   "source": [
    "#### Space Complexity of Binary Search\n",
    "\n",
    "In a balanced binary search scenario, where the array is continually divided in half, the maximum depth of the recursion stack is logarithmic in relation to the size of the input array. As you traverse to n levels deep, each level corresponds to an additional stack frame, resulting in a space complexity that is directly proportional to the depth of the search. \n",
    "\n",
    "Therefore, the space complexity of recursive binary search is **O(log n)**, where 'n' is the size of the array."
   ]
  },
  {
   "cell_type": "markdown",
   "metadata": {},
   "source": [
    "## Sorting: Merge Sort"
   ]
  },
  {
   "cell_type": "markdown",
   "metadata": {},
   "source": [
    "Similarly to searching, you may already be familiar with sorting algorithms such as **merge sort**. As a quick rundown, **merge-sort** is an efficient divide-and-conquer sorting algorithm that operates on the principle of breaking down the input list into smaller sub-lists, sorting them individually, and then merging them to produce a sorted output. \n",
    "\n",
    "### Algorithm Steps\n",
    "\n",
    "1. **Divide:** The unsorted list is divided into two halves until each sub-list contains only one element.\n",
    "2. **Conquer:** The sub-lists are then merged back together in a sorted manner.\n",
    "3. **Combine:** During the merging process, the algorithm compares the elements of the two sub-lists and arranges them in the correct order.\n",
    "\n",
    "We will visualize these steps below.\n",
    "\n",
    "<div align=\"center\">\n",
    "Initial List: [4, 1, 9, 2, 3, 7, 5, 8]\n",
    "</div>"
   ]
  },
  {
   "cell_type": "markdown",
   "metadata": {},
   "source": [
    "1. **Divide**\n",
    "\n",
    "In the first step of merge-sort, you need to divide your initial list into smaller lists. This process continues until all elements are individually separated.\n",
    "<div style=\"text-align:center\">\n",
    "    <img src=\"images/mergesort0.png\" />\n",
    "</div>\n",
    "\n",
    "<div style=\"text-align:center\">\n",
    "    <img src=\"images/mergesort1.png\" />\n",
    "</div>\n",
    "\n",
    "<div style=\"text-align:center\">\n",
    "    <img src=\"images/mergesort2.png\" />\n",
    "</div>\n",
    "\n",
    "<div style=\"text-align:center\">\n",
    "    <img src=\"images/mergesort3.png\" />\n",
    "</div>"
   ]
  },
  {
   "cell_type": "markdown",
   "metadata": {},
   "source": [
    "2. **Conquer**\n",
    "\n",
    "Once we have each element in its own list, we can start the merging process of the sub-lists. The merging process begins with the smallest sub-lists and continues to combine them into larger *sorted* sub-lists.\n",
    "\n",
    "3. **Combine**\n",
    "\n",
    "During the conquer/merging process, the algorithm will also be comparing the elements of the sub-lists and will arrange them in the correct order. It will continually merge the sub-lists, comparing the elements at each step and place them into the correct position of the resulting sorted list.\n",
    "\n",
    "The **conquer** and **combine** steps are visualized below.\n",
    "\n",
    "<div style=\"text-align:center\">\n",
    "    <img src=\"images/mergesort4.png\" />\n",
    "</div>"
   ]
  },
  {
   "cell_type": "markdown",
   "metadata": {},
   "source": [
    "### Creating Merge-Sort: Step-by-Step\n",
    "\n",
    "Now let's try to implement **merge sort** below. Merge sort contains more steps to implement compared to the previous algorithms in this notebook, so we'll be helping you implement it by using comments in each of the code blocks to explain what the code is doing at each step. \n",
    "\n",
    "Note: Merge-sort contains 2 functions generally, one which recursively calls the merge function on the separated sub-lists, and another function that does the sorting. \n",
    "\n",
    "For the purposes of our demonstration, we will be calling these functions `merge_sort` and `merge`. "
   ]
  },
  {
   "cell_type": "markdown",
   "metadata": {},
   "source": [
    "## Merge Function\n",
    "\n",
    "#### Step 1. Initialize an empty list to store the merged elements and define indicies\n",
    "\n",
    "In the beginning of the `merge` function, you want to initialize an empty list alongside the beginning indices for both the **left** and **right** lists defined by the function [parameters](https://www.w3schools.com/python/python_functions.asp). "
   ]
  },
  {
   "cell_type": "markdown",
   "metadata": {},
   "source": [
    "#### Step 2. Compare elements from the left and right sub-lists\n",
    "\n",
    "Next, define a **while** loop which checks if our left and right indices are less than the length of their respective left and right sub-lists. An important thing to note here is that it is okay if the left and right index goes over the length of their respective sub-list. This is because when we define our comparison portion of our merge sort, if one sub-list is empty, that means all the other elements in the opposite sub-list can be appended to our initialized list. "
   ]
  },
  {
   "cell_type": "markdown",
   "metadata": {},
   "source": [
    "#### Step 3. Compare the current elements from the left and right sublists\n",
    "\n",
    "In the while loop, you'll need to *compare* the elements in each *sub-list*. You can set this condition to check either if the left element is greater than the right element or vice-versa. For example, if the left element in our left sub-list is less than the right element in our right sub-list, we would *append* the left element to our *initialized list* because it is smaller than the right element (we want to sort from lowest to highest). \n",
    "\n",
    "After comparing and appending our element, we need to *increase* the correct index so that we go through each element in our sub-lists. For example, if we appended the left element, we need to increase the left index, and vice-versa. \n",
    "\n",
    "In our example and in our hint, we will be checking if the left element is less than the right element, however, you are free to implement it the other way around."
   ]
  },
  {
   "cell_type": "markdown",
   "metadata": {},
   "source": [
    "#### Step 4. Append remaining elements from the left and right sub-lists, if any, and then return our merged list\n",
    "\n",
    "As mentioned before, once we are out of our while loop there are *two* potential scenarios. \n",
    "\n",
    "1. Our left and right sub-lists are empty and have appended each element to the sorted/merged list which we will return. \n",
    "   \n",
    "2. Either the left or right sub-list is empty meaning there are only elements left in the opposite sub-list. In this case, we can make the algorithm more efficient by simply adding the rest of the elements in the respective sub-list without any unnecessary comparisons. \n",
    "\n",
    "Doing this step is relatively simple. Assuming there is a sub-list that still contains elements, you will have to add the rest of the elements that are still in one sub-list to the merged sub-list. You don't have to worry whether these elements are in unsorted order, each sub-list is sorted before we merge them.There are a variety of ways to implement this step and there are many different types of solutions that work. \n",
    "\n",
    "Afterwards, **return** the merged/initialized list which is now sorted from the left and right sub-lists.\n",
    "\n",
    "**Note**: This step actually can be omitted from the algorithm and the merge sort algorithm would still work.  However, the algorithm would be less efficient as a result."
   ]
  },
  {
   "cell_type": "markdown",
   "metadata": {},
   "source": [
    "## Merge-Sort Function\n",
    "\n",
    "#### Before Starting ... (Think of the Base Case)\n",
    "\n",
    "For now, we will actually be *skipping* the implementation of our **base case** for our `merge_sort` function. This is because it may become more apparent what our base case should be after doing the other steps in our algorithm. If you already have a good idea of what our base case should be for our `merge_sort` function feel free to test your implementation.\n",
    "\n",
    "#### Step 5. Divide the array into two halves\n",
    "\n",
    "First, define the **midpoint** of the input array and separate the input array into **left** and **right** sub-lists using the midpoint.\n",
    "\n",
    "#### Step 6. Recursively separate the left and right halves\n",
    "\n",
    "Separate the left and right sub-lists by recursively calling your `merge_sort` function earlier on each of your sub-lists. Keep these values in two variables (you may name these variables any name that you deem appropriate).\n",
    "\n",
    "#### Step 7. Merge the sorted halves\n",
    "\n",
    "Now, return the merged sub-list using the `merge` function that you defined earlier. You should supply both the left and right variables that you defined in step 6 as arguments in the `merge` function.\n",
    "\n",
    "#### Step 8. Define our base case. \n",
    "\n",
    "We know that in our recursive function we are continuously splitting our input list into smaller and smaller sub-lists to sort. As a result, we want to stop the splitting process when we have only 1 element or less in our list, as it would be automatically (only 1 element present means the list is automatically sorted). As a result, as our base case, we should check if our list has either one element or less. "
   ]
  },
  {
   "cell_type": "markdown",
   "metadata": {},
   "source": [
    "Now that you have all the steps to implement "
   ]
  },
  {
   "cell_type": "code",
   "execution_count": 9,
   "metadata": {},
   "outputs": [],
   "source": [
    "def merge_sort(arr):\n",
    "    # Base case: \n",
    "\n",
    "    # Divide the array into two halves\n",
    "\n",
    "    # Recursively separate the left and right halves\n",
    "\n",
    "    # Merge the sorted halves\n",
    "    pass\n",
    "\n",
    "def merge(left, right):\n",
    "    # Initialize an empty list to store the merged elements and define indicies\n",
    "\n",
    "    # Compare elements from the left and right sub-lists\n",
    "    \n",
    "        # Compare the current elements from the left and right sub-lists\n",
    "\n",
    "    # Append remaining elements from the left and right sub-lists, if any, and then return our merged list\n",
    "    pass"
   ]
  },
  {
   "cell_type": "markdown",
   "metadata": {},
   "source": [
    "<details>\n",
    "<summary>Click here for the solution to step 1.</summary>\n",
    "\n",
    "```python\n",
    "# Initialize an empty list to store the merged elements and define indicies\n",
    "merged = []\n",
    "left_index = right_index = 0\n",
    "```"
   ]
  },
  {
   "cell_type": "markdown",
   "metadata": {},
   "source": [
    "<details>\n",
    "<summary>Click here for the solution to step 2.</summary>\n",
    "\n",
    "```python\n",
    "# Compare elements from the left and right sub-lists\n",
    "while left_index < len(left) and right_index < len(right):\n",
    "```"
   ]
  },
  {
   "cell_type": "markdown",
   "metadata": {},
   "source": [
    "<details>\n",
    "<summary>Click here for the solution to step 3.</summary>\n",
    "\n",
    "```python\n",
    "    # Compare the current elements from the left and right sub-lists\n",
    "    if left[left_index] < right[right_index]:\n",
    "        merged.append(left[left_index])\n",
    "        left_index += 1\n",
    "    else:\n",
    "        merged.append(right[right_index])\n",
    "        right_index += 1\n",
    "```"
   ]
  },
  {
   "cell_type": "markdown",
   "metadata": {},
   "source": [
    "<details>\n",
    "<summary>Click here for the solution to step 4.</summary>a\n",
    "\n",
    "```python\n",
    "# Append remaining elements from the left and right sub-lists, if any, and then return our merged list\n",
    "merged.extend(left[left_index:])\n",
    "merged.extend(right[right_index:])\n",
    "\n",
    "return merged\n",
    "```"
   ]
  },
  {
   "cell_type": "markdown",
   "metadata": {},
   "source": [
    "<details>\n",
    "<summary>Click here for the solution to step 5.</summary>\n",
    "\n",
    "```python\n",
    "# Divide the array into two halves\n",
    "mid = len(arr) // 2\n",
    "left_sublist = arr[:mid]\n",
    "right_sublist = arr[mid:]\n",
    "```"
   ]
  },
  {
   "cell_type": "markdown",
   "metadata": {},
   "source": [
    "<details>\n",
    "<summary>Click here for the solution to step 6.</summary>\n",
    "\n",
    "```python\n",
    "# Recursively sort each half\n",
    "left_sorted = merge_sort(left_sublist)\n",
    "right_sorted = merge_sort(right_sublist)\n",
    "```"
   ]
  },
  {
   "cell_type": "markdown",
   "metadata": {},
   "source": [
    "<details>\n",
    "<summary>Click here for the solution to step 7.</summary>\n",
    "\n",
    "```python\n",
    "# Merge the sorted halves\n",
    "return merge(left_sorted, right_sorted)\n",
    "```"
   ]
  },
  {
   "cell_type": "markdown",
   "metadata": {},
   "source": [
    "<details>\n",
    "<summary>Click here for the solution to step 8.</summary>\n",
    "\n",
    "```python\n",
    "# Base case: \n",
    "if len(arr) <= 1:\n",
    "    return arr\n",
    "```"
   ]
  },
  {
   "cell_type": "markdown",
   "metadata": {},
   "source": [
    "<details>\n",
    "<summary>Click here for the solution to Merge-Sort.</summary>\n",
    "\n",
    "```python\n",
    "def merge_sort(arr):\n",
    "    # Base case: \n",
    "    if len(arr) <= 1:\n",
    "        return arr\n",
    "\n",
    "    # Divide the array into two halves\n",
    "    mid = len(arr) // 2\n",
    "    left_sublist = arr[:mid]\n",
    "    right_sublist = arr[mid:]\n",
    "\n",
    "    # Recursively separate the left and right halves\n",
    "    left_sorted = merge_sort(left_sublist)\n",
    "    right_sorted = merge_sort(right_sublist)\n",
    "\n",
    "    # Merge the sorted halves\n",
    "    return merge(left_sorted, right_sorted)\n",
    "\n",
    "def merge(left, right):\n",
    "    # Initialize an empty list to store the merged elements and define indicies\n",
    "    merged = []\n",
    "    left_index = right_index = 0\n",
    "\n",
    "    # Compare elements from the left and right sub-lists\n",
    "    while left_index < len(left) and right_index < len(right):\n",
    "        # Compare the current elements from the left and right sub-lists\n",
    "        if left[left_index] < right[right_index]:\n",
    "            merged.append(left[left_index])\n",
    "            left_index += 1\n",
    "        else:\n",
    "            merged.append(right[right_index])\n",
    "            right_index += 1\n",
    "\n",
    "    # Append remaining elements from the left and right sub-lists, if any, and then return our merged list\n",
    "    merged += left[left_index:]\n",
    "    merged += right[right_index:]\n",
    "\n",
    "    return merged\n",
    "```"
   ]
  },
  {
   "cell_type": "code",
   "execution_count": null,
   "metadata": {},
   "outputs": [],
   "source": [
    "# Example usage:\n",
    "unsorted_array = [38, 27, 43, 3, 9, 82, 10]\n",
    "sorted_array = merge_sort(unsorted_array)\n",
    "print(sorted_array)"
   ]
  },
  {
   "cell_type": "markdown",
   "metadata": {},
   "source": [
    "# Things to Do\n",
    "\n",
    "- HeapSort\n",
    "- Quick Sort"
   ]
  },
  {
   "cell_type": "markdown",
   "metadata": {},
   "source": [
    "1. analyze and represent the nature and utility of the recursive functions or procedures\n",
    "1.1 explain and represent the key features of recursive algorithms including:\n",
    "1.1.1 illustrate how recursive algorithms define themselves in terms of themselves\n",
    "1.1.2 illustrate the use and purpose of the base case in recursion\n",
    "1.2 describe and represent the “divide and conquer” approach to creating recursive algorithms\n",
    "1.3 describe and represent the interchangeability of recursive and iterative operations\n",
    "1.4 compare and contrast recursion and iteration highlighting:\n",
    "1.4.1 programmer efficiency\n",
    "1.4.2 space efficiency\n",
    "1.4.3 time efficiency\n",
    "1.5 outline the importance of recursion in creating dynamic data structures\n",
    "1.6 compare and contrast tail end and head end recursion\n",
    "1.7 explain and represent how the system stack (or equivalent structure) is used to carry out recursive operations\n",
    "\n",
    "2. analyze and represent the nature, structure and utility of recursive search and sort algorithms\n",
    "2.1 describe at least four recursive algorithms used in dynamic data manipulation\n",
    "2.2 compare and contrast iterative and recursive approaches to binary searching by:\n",
    "2.2.1 describing and representing iterative and recursive binary search algorithms\n",
    "2.2.2 explaining the advantages and disadvantages of iterative and recursive approaches to binary searching\n",
    "2.3 compare and contrast at least two recursive sorts by:\n",
    "2.3.1 describing and representing the quicksort and the merge sort\n",
    "2.3.2 describing and representing the heapsort\n",
    "2.3.3 explaining the advantages and disadvantages of the quicksort, merge sort and heapsort\n",
    "\n",
    "3. create and/or modify recursive algorithms to solve problems\n",
    "3.1 demonstrate the use of appropriate general design techniques to draft algorithms that use recursion\n",
    "3.2 analyze and decompose the problem into appropriate subsections using the decomposition techniques appropriate for the chosen design approach\n",
    "3.3 evaluate subsections and identify any that may require a recursive approach\n",
    "3.4 identify which recursive algorithms are appropriate\n",
    "3.5 sequence the various subsections appropriately\n",
    "3.6 test and modify the developing algorithm with appropriate data using a “fail-on-paper” process\n",
    "\n",
    "4. create and/or modify programs that use recursion\n",
    "4.1 convert algorithms calling for recursive structures into programs that reflect the algorithm’s design\n",
    "4.2 use original (user-created) or pre-existing recursive merge and/or sort algorithms appropriate to the data being manipulated\n",
    "4.3 utilize the appropriate operators, methods, functions or procedures required to carry out the recursive algorithms\n",
    "4.4 use internal and external documentation\n",
    "\n",
    "5. compare program operation and outcomes with the intent of the algorithm and modify, as required\n",
    "5.1 use appropriate error-trapping mechanisms built into the programming environment, as well as programmer-directed error-trapping techniques, to eliminate logic errors and debug the program\n",
    "5.2 compare the congruency between the outcomes of the debugged program and the original intent of the algorithm and modify both, as required\n",
    "\n",
    "6. demonstrate basic competencies\n",
    "6.1 demonstrate fundamental skills to:\n",
    "6.1.1 communicate\n",
    "6.1.2 manage information\n",
    "6.1.3 use numbers\n",
    "6.1.4 think and solve problems\n",
    "6.2 demonstrate personal management skills to:\n",
    "6.2.1 demonstrate positive attitudes and behaviours\n",
    "6.2.2 be responsible\n",
    "6.2.3 be adaptable\n",
    "6.2.4 learn continuously\n",
    "6.2.5 work safely\n",
    "6.3 demonstrate teamwork skills to:\n",
    "6.3.1 work with others\n",
    "6.3.2 participate in projects and tasks\n",
    "\n",
    "7. create a transitional strategy to accommodate personal changes and build personal values\n",
    "7.1 identify short-term and long-term goals\n",
    "7.2 identify steps to achieve goals"
   ]
  }
 ],
 "metadata": {
  "kernelspec": {
   "display_name": "Python 3",
   "language": "python",
   "name": "python3"
  },
  "language_info": {
   "codemirror_mode": {
    "name": "ipython",
    "version": 3
   },
   "file_extension": ".py",
   "mimetype": "text/x-python",
   "name": "python",
   "nbconvert_exporter": "python",
   "pygments_lexer": "ipython3",
   "version": "3.10.8"
  }
 },
 "nbformat": 4,
 "nbformat_minor": 2
}
