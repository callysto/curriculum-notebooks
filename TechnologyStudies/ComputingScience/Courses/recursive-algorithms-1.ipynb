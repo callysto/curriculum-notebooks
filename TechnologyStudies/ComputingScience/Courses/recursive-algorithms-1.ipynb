{
 "cells": [
  {
   "cell_type": "markdown",
   "metadata": {},
   "source": [
    "![Callysto.ca Banner](https://github.com/callysto/curriculum-notebooks/blob/master/callysto-notebook-banner-top.jpg?raw=true)\n",
    "\n",
    "<a href=\"https://hub.callysto.ca/jupyter/hub/user-redirect/git-pull?repo=https%3A%2F%2Fgithub.com%2Fcallysto%2Fcurriculum-notebooks&branch=master&subPath=TechnologyStudies/ComputingScience/Courses/recursive-algorithms-1.ipynb&depth=1\"><img src=\"https://raw.githubusercontent.com/callysto/curriculum-notebooks/master/open-in-callysto-button.svg?sanitize=true\" width=\"123\" height=\"24\" alt=\"Open in Callysto\"/></a>"
   ]
  },
  {
   "cell_type": "markdown",
   "metadata": {},
   "source": [
    "# CSE3310: Recursive Algorithms 1\n",
    "\n",
    "*[Alberta Education Learning Outcomes-Business, Administration, Finance & Information Technology (BIT)](https://education.alberta.ca/media/159479/cse_pos.pdf)*\n",
    "\n",
    "*Computer Science-Page 69*\n",
    "\n",
    "*Prerequisite: [CSE3110: Iterative Algorithm 1 ](iterative-algorithm-1.ipynb)*, [CSE3120: Object-oriented Programming 1](https://education.alberta.ca/media/159479/cse_pos.pdf) (Page 55)\n",
    "\n",
    "***\n",
    "\n",
    "Students learn how to use a new program control flow mechanism called\n",
    "**recursion**. They then use this mechanism to write a number of basic recursive\n",
    "algorithms and programs such as a recursive version of the binary search, the\n",
    "quicksort and the merge sort. "
   ]
  },
  {
   "cell_type": "markdown",
   "metadata": {},
   "source": [
    "<div style=\"text-align: center;\">\n",
    "  <iframe width=\"500\" height=\"300\" src=\"https://www.youtube.com/embed/rf60MejMz3E\" frameborder=\"0\" allowfullscreen></iframe>\n",
    "</div>"
   ]
  },
  {
   "cell_type": "markdown",
   "metadata": {},
   "source": [
    "<div style=\"text-align: center;\">\n",
    "  Video by: <a href=\"https://www.youtube.com/@Fireship\" target=\"_blank\">Fireship</a>\n",
    "</div>"
   ]
  }
 ],
 "metadata": {
  "kernelspec": {
   "display_name": "Python 3",
   "language": "python",
   "name": "python3"
  },
  "language_info": {
   "name": "python",
   "version": "3.10.8"
  }
 },
 "nbformat": 4,
 "nbformat_minor": 2
}
