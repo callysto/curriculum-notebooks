{
 "cells": [
  {
   "cell_type": "markdown",
   "metadata": {},
   "source": [
    "![Callysto.ca Banner](https://github.com/callysto/curriculum-notebooks/blob/master/callysto-notebook-banner-top.jpg?raw=true)\n",
    "\n",
    "<a href=\"https://hub.callysto.ca/jupyter/hub/user-redirect/git-pull?repo=https%3A%2F%2Fgithub.com%2Fcallysto%2Fcurriculum-notebooks&branch=master&subPath=TechnologyStudies/ComputingScience/Courses/data-structures-1.ipynb&depth=1\"><img src=\"https://raw.githubusercontent.com/callysto/curriculum-notebooks/master/open-in-callysto-button.svg?sanitize=true\" width=\"123\" height=\"24\" alt=\"Open in Callysto\"/></a>"
   ]
  },
  {
   "cell_type": "markdown",
   "metadata": {},
   "source": [
    "# CSE2120: Data Structures 1\n",
    "\n",
    "*[Alberta Education Learning Outcomes-Business, Administration, Finance & Information Technology (BIT)](https://education.alberta.ca/media/159479/cse_pos.pdf)*\n",
    "\n",
    "*Computer Science-Page 25*\n",
    "\n",
    "\n",
    "*Prerequisite: [CSE2110: Procedural Programming 1](procedural-programming-1.ipynb)*\n",
    "\n",
    "***\n",
    "\n",
    "Students learn how to design code and debug programs that use a set of data structures that can be used to handle lists of related data. Building on their knowledge of basic or primitive data types, they learn how to work with fundamental data structures such as the array and the record. As part of this process, they learn what types of problems benefit from the use of these types of data structures.\n"
   ]
  },
  {
   "cell_type": "markdown",
   "metadata": {},
   "source": [
    "## Theory Questions\n",
    "\n",
    "1. Describe and represent the general nature of static data structures including:\n",
    "    * how data structures are stored in memory\n",
    "    * the advantages and disadvantages of fundamental data structures in relation to primitive data type\n",
    "    * the advantages and disadvantages of the various fundamental data structures\n",
    "\n",
    "2. Describe and represent the nature and mechanics of basic data structures including:\n",
    "    * the static array including: use of cells to store data, data homogeneity, use of an index (or indices) to identify the location of data elements, types; e.g., single dimensional arrays (lists), double dimensional arrays (tables) and parallel arrays (look-up or associative tables)\n",
    "    * the record including: the use of fields to store data, data heterogeneity, the use of field names to identify the location of data elements\n",
    "    * the dynamic array including: sizes, types; e.g., single dimensional arrays (lists), double dimensional arrays (tables) and parallel arrays (look-up or associative tables)\n",
    "\n",
    "3. Describe and represent the operations associated with data structures including:\n",
    "    * creating the structure\n",
    "    * inserting, deleting and replacing data in the structure\n",
    "    * searching, finding and retrieving data from the structure\n",
    "    * determining the size of the structure\n",
    "    * copying the structure\n",
    "    * comparing two structures of the same type"
   ]
  },
  {
   "cell_type": "markdown",
   "metadata": {},
   "source": [
    "1. \n",
    "\n",
    "\n",
    "2. \n",
    "\n",
    "\n",
    "3. \n",
    "\n"
   ]
  },
  {
   "cell_type": "markdown",
   "metadata": {},
   "source": [
    "## Practical\n",
    "\n",
    "1. Create a notebook that makes effective use of fundamental data structures to solve problems\n",
    "    * for example you could chooose one of these [interesting problems](https://github.com/callysto/interesting-problems)\n",
    "    * analyze and decompose the problem into appropriate subsections using techniques appropriate for the chosen design approach\n",
    "    * evaluate subsections and identify any that may require some type of fundamental data structure, based on the nature of the data to be processed and type of processing operations\n",
    "    * identify and use or construct the appropriate data structure; e.g., array, using appropriate variant or variants, where required\n",
    "    * identify and sequence the operations required to process the data to be contained in the data structure\n",
    "    * convert algorithms calling for the use of data structures into programs that reflect the algorithm’s design\n",
    "    * use cohesive subprograms with helper subprograms to hide and/or protect data and separate the implementation of the data structure and its operations from its calling modules\n",
    "    * use original (user-created) or built-in, environment supported data structures and their attendant operations appropriate to the data being manipulated\n",
    "    * use appropriate error-trapping mechanisms built into the programming environment, as well as programmer-directed error-trapping techniques, to eliminate logic errors and debug the program\n",
    "    * compare the congruency between the outcomes of the debugged program and the original intent of the algorithm and modify both, as required"
   ]
  },
  {
   "cell_type": "markdown",
   "metadata": {},
   "source": [
    "## Competencies and Skills\n",
    "\n",
    "You will also be evaluated on your basic competencies such as your ability to:\n",
    "\n",
    "* communicate\n",
    "* manage information\n",
    "* use numbers\n",
    "* think and solve problems\n",
    "* demonstrate positive attitudes and behaviours\n",
    "* be responsible\n",
    "* be adaptable\n",
    "* learn continuously\n",
    "* work safely\n",
    "* work with others\n",
    "* participate in projects and tasks"
   ]
  },
  {
   "cell_type": "markdown",
   "metadata": {},
   "source": [
    "---\n",
    "\n",
    "# Outcomes:\n",
    "\n",
    "The student will:\n",
    "\n",
    "1. analyze and represent the nature, structure and utility of fundamental data types\n",
    "    1. describe and represent the general nature of static data structures including:\n",
    "        1. how data structures are stored in memory\n",
    "        2. the advantages and disadvantages of fundamental data structures in relation to primitive data types\n",
    "        3. the advantages and disadvantages of the various fundamental data structures\n",
    "    2. describe and represent the nature and mechanics of basic data structures including:\n",
    "        1. the static array including: use of cells to store data, data homogeneity, use of an index (or indices) to identify the location of data elements, types; e.g., single dimensional arrays (lists), double dimensional arrays (tables) and parallel arrays (look-up or associative tables)\n",
    "        2. the record including: the use of fields to store data, data heterogeneity, the use of field names to identify the location of data elements\n",
    "        3. the dynamic array including: sizes, types; e.g., single dimensional arrays (lists), double dimensional arrays (tables) and parallel arrays (look-up or associative tables)\n",
    "    3. describe and represent the operations associated with data structures including:\n",
    "        1. creating the structure\n",
    "        2. inserting, deleting and replacing data in the structure\n",
    "        3. searching, finding and retrieving data from the structure\n",
    "        4. determining the size of the structure\n",
    "        5. copying the structure\n",
    "        6. comparing two structures of the same type\n",
    "<br><br>\n",
    "2. create and/or modify algorithms that make effective use of fundamental data structures to solve problems\n",
    "    1. use appropriate general design techniques for a specific programming environment\n",
    "    2. analyze and decompose the problem into appropriate subsections using techniques appropriate for the chosen design approach\n",
    "    3. evaluate subsections and identify any that may require some type of fundamental data structure, based on the nature of the data to be processed and type of processing operations\n",
    "    4. identify and use or construct the appropriate data structure; e.g., array, using appropriate variant or variants, where required\n",
    "    5. identify and sequence the operations required to process the data to be contained in the data structure\n",
    "    6. sequence the various subsections appropriately\n",
    "    7. test and modify the algorithm using appropriate “fail-on-paper” techniques\n",
    "<br><br>\n",
    "3. create and/or modify programs based on algorithms that make effective use of fundamental data structures\n",
    "    1. convert algorithms calling for the use of data structures into programs that reflect the algorithm’s design\n",
    "    2. use cohesive subprograms with helper subprograms to hide and/or protect data and separate the implementation of the data structure and its operations from its calling modules\n",
    "    3. use original (user-created) or built-in, environment supported data structures and their attendant operations appropriate to the data being manipulated\n",
    "<br><br>\n",
    "4. compare program operation and outcomes with the intent of the algorithm and modify, as required\n",
    "    1. use appropriate error-trapping mechanisms built into the programming environment, as well as programmer-directed error-trapping techniques, to eliminate logic errors and debug the program\n",
    "    2. compare the congruency between the outcomes of the debugged program and the original intent of the algorithm and modify both, as required\n",
    "<br><br>\n",
    "5. demonstrate basic competencies\n",
    "    1. demonstrate fundamental skills to:\n",
    "        1. communicate\n",
    "        2. manage information\n",
    "        3. use numbers\n",
    "        4. think and solve problems\n",
    "    2. demonstrate personal management skills to:\n",
    "        1. demonstrate positive attitudes and behaviours\n",
    "        2. be responsible\n",
    "        3. be adaptable\n",
    "        4. learn continuously\n",
    "        5. work safely\n",
    "    3. demonstrate teamwork skills to:\n",
    "        1. work with others\n",
    "        2. participate in projects and tasks\n",
    "<br><br>\n",
    "6. identify possible life roles related to the skills and content of this cluster\n",
    "    1. recognize and then analyze the opportunities and barriers in the immediate environment\n",
    "    2. identify potential resources to minimize barriers and maximize opportunities"
   ]
  },
  {
   "cell_type": "markdown",
   "metadata": {},
   "source": [
    "[![Callysto.ca License](https://github.com/callysto/curriculum-notebooks/blob/master/callysto-notebook-banner-bottom.jpg?raw=true)](https://github.com/callysto/curriculum-notebooks/blob/master/LICENSE.md)"
   ]
  }
 ],
 "metadata": {
  "kernelspec": {
   "display_name": "Python 3 (ipykernel)",
   "language": "python",
   "name": "python3"
  },
  "language_info": {
   "codemirror_mode": {
    "name": "ipython",
    "version": 3
   },
   "file_extension": ".py",
   "mimetype": "text/x-python",
   "name": "python",
   "nbconvert_exporter": "python",
   "pygments_lexer": "ipython3",
   "version": "3.9.12"
  }
 },
 "nbformat": 4,
 "nbformat_minor": 4
}
