{
 "cells": [
  {
   "attachments": {},
   "cell_type": "markdown",
   "metadata": {},
   "source": [
    "![Callysto.ca Banner](https://github.com/callysto/curriculum-notebooks/blob/master/callysto-notebook-banner-top.jpg?raw=true)\n",
    "\n",
    "<a href=\"https://hub.callysto.ca/jupyter/hub/user-redirect/git-pull?repo=https%3A%2F%2Fgithub.com%2Fcallysto%2Fcurriculum-notebooks&branch=master&subPath=TechnologyStudies/ComputingScience/Courses/structured-programming-1.ipynb&depth=1\"><img src=\"https://raw.githubusercontent.com/callysto/curriculum-notebooks/master/open-in-callysto-button.svg?sanitize=true\" width=\"123\" height=\"24\" alt=\"Open in Callysto\"/></a>"
   ]
  },
  {
   "attachments": {},
   "cell_type": "markdown",
   "metadata": {},
   "source": [
    "# CSE1110: Structured Programming 1\n",
    "\n",
    "Students are introduced to a general programming environment in which they write simple structured algorithms and programs that input, process and output data, use some of the more basic operators and data types, and follow a sequential flow of control.\n",
    "\n",
    "*Prerequisite: None*\n",
    "\n"
   ]
  },
  {
   "attachments": {},
   "cell_type": "markdown",
   "metadata": {},
   "source": [
    "---\n",
    "Outcomes: The student will:\n",
    "\n",
    "1. demonstrate introductory structured programming skills by writing sequential algorithms to solve problems involving input, processing and output\n",
    "    1. describe the purpose and nature of an algorithm\n",
    "    2. analyze a variety of simple algorithms and describe the task or tasks the algorithms are attempting to carry out\n",
    "    3. analyze problems and determine if they can be solved using algorithms that employ an input/processing/output (IPO) approach\n",
    "    4. decompose the problem into its input, processing and output components, and identify what data is already available to the program and what must be inputted\n",
    "    5. sequence components appropriately so that processing occurs only when all required data is available and output occurs only after appropriate processing has occurred\n",
    "    6. write the algorithm in an acceptable format; e.g., pseudocode, structured chart\n",
    "    7. test the algorithm for failure as well as success with appropriate data\n",
    "    8. revise the algorithm, as required\n",
    "<br><br>\n",
    "2. translate algorithms into source code, convert the source code into machine executable form, execute and debug, as required\n",
    "    1. describe a typical programming development environment commenting on the role of the key components; e.g., the source code editor, code translator (compiler and/or interpreter), executor, debugger\n",
    "    2. compare and contrast integrated development environments specifically developed for programming with user assembled collections of applications and system software; e.g., text processor for coding, command line compiler\n",
    "    3. describe and demonstrate the use of key components in a programming development environment\n",
    "    4. convert algorithms into a sequence of statements in an appropriate programming language being sure to:\n",
    "        1. maintain the IPO structure of the algorithm\n",
    "        2. use appropriate internal and external documentation\n",
    "        3. use appropriate data types such as integers, real numbers, characters and strings\n",
    "        4. use appropriate variables and constants to hold data\n",
    "        5. use literals and input commands, e.g., methods or operators, to provide data for processing\n",
    "        6. use assignment, arithmetical and concatenation and interpolation operators, where appropriate, to process data\n",
    "        7. use output commands; e.g., methods or operators, to display processed data\n",
    "    5. test the algorithm for failure or success with appropriate data\n",
    "    6. revise the algorithm, as required\n",
    "<br><br>\n",
    "3. analyze and compare the results of the program with the intent of the algorithm and modify as required\n",
    "    1. use appropriate test data and debugging techniques to track and correct errors including:\n",
    "        1. run-time errors; e.g., compiler, linker, syntax\n",
    "        2. logic errors\n",
    "<br><br>\n",
    "4. demonstrate basic competencies\n",
    "    1. demonstrate fundamental skills to:\n",
    "        1. communicate\n",
    "        2. manage information\n",
    "        3. use numbers\n",
    "        4. think and solve problems\n",
    "    2. demonstrate personal management skills to:\n",
    "        1. demonstrate positive attitudes and behaviours\n",
    "        2. be responsible\n",
    "        3. be adaptable\n",
    "        4. learn continuously\n",
    "        5. work safely\n",
    "    3. demonstrate teamwork skills to:\n",
    "        1. work with others\n",
    "        2. participate in projects and tasks\n",
    "<br><br>\n",
    "5. make personal connections to the cluster content and processes to inform possible pathway choices\n",
    "    1. complete/update a personal inventory; e.g., interests, values, beliefs, resources, prior learning and experiences\n",
    "    2. create a connection between a personal inventory and occupational choices\n",
    "---"
   ]
  },
  {
   "cell_type": "markdown",
   "metadata": {},
   "source": [
    "## Jupyter and Python\n",
    "\n",
    "This is a [Jupyter](https://jupyter.org) notebook that contains text and [Python](https://www.python.org) code.\n",
    "\n",
    "If you are viewing this on GitHub, you will need to first <a href=\"https://hub.callysto.ca/jupyter/hub/user-redirect/git-pull?repo=https%3A%2F%2Fgithub.com%2Fcallysto%2Fcurriculum-notebooks&branch=master&subPath=TechnologyStudies/ComputingScience/Courses/structured-programming-1.ipynb&depth=1\">click this link to open it on the Callysto Hub</a>. It will ask you to log in with a Google or Microsoft account, but it will not collect any of your personal data.\n",
    "\n",
    "This is a text cell, and the cell below is a code cell. Click on the code cell, then click the `▶Run` button to run it."
   ]
  },
  {
   "cell_type": "code",
   "execution_count": null,
   "metadata": {},
   "outputs": [],
   "source": [
    "print('hello world')"
   ]
  },
  {
   "cell_type": "markdown",
   "metadata": {},
   "source": [
    "## Algorithms\n",
    "\n",
    "An [algorithm](https://en.wikipedia.org/wiki/Algorithm) is a series of steps to follow.\n",
    "\n",
    "An example algorithm is \n",
    "\n",
    "1. start with an `amount` of 0\n",
    "2. add 1 to the `amount`\n",
    "3. print the `amount`\n",
    "4. repeat for a total of five times\n",
    "\n",
    "Click on the code cell below, then click the `▶Run` button to run some [Python](https://en.wikipedia.org/wiki/Python_(programming_language)) code for this algorithm."
   ]
  },
  {
   "cell_type": "code",
   "execution_count": null,
   "metadata": {},
   "outputs": [],
   "source": [
    "amount = 0\n",
    "for x in range(5):\n",
    "    amount = amount + 1\n",
    "    print(amount)"
   ]
  },
  {
   "cell_type": "markdown",
   "metadata": {},
   "source": [
    "Let's try another algorithm to count the number of vowels in a word. `▶Run` the following code cell."
   ]
  },
  {
   "cell_type": "code",
   "execution_count": null,
   "metadata": {},
   "outputs": [],
   "source": [
    "word = 'onomatopoeia'\n",
    "number_of_vowels = 0\n",
    "for letter in word:\n",
    "    if letter in 'aeiou':\n",
    "        number_of_vowels = number_of_vowels + 1\n",
    "print('There are', number_of_vowels, 'vowels in', word)"
   ]
  },
  {
   "cell_type": "markdown",
   "metadata": {},
   "source": [
    "Write some code in the cell below to count how many vowels there are in [Shakespeare's Sonnet 18](https://www.poetryfoundation.org/poems/45087/sonnet-18-shall-i-compare-thee-to-a-summers-day)."
   ]
  },
  {
   "cell_type": "code",
   "execution_count": null,
   "metadata": {},
   "outputs": [],
   "source": [
    "sonnet = '''\n",
    "Shall I compare thee to a summer's day?\n",
    "Thou art more lovely and more temperate:\n",
    "Rough winds do shake the darling buds of May,\n",
    "And summer's lease hath all too short a date;\n",
    "Sometime too hot the eye of heaven shines,\n",
    "And often is his gold complexion dimm'd;\n",
    "And every fair from fair sometime declines,\n",
    "By chance or nature's changing course untrimm'd;\n",
    "But thy eternal summer shall not fade,\n",
    "Nor lose possession of that fair thou ow'st;\n",
    "Nor shall death brag thou wander'st in his shade,\n",
    "When in eternal lines to time thou grow'st:\n",
    "So long as men can breathe or eyes can see,\n",
    "So long lives this, and this gives life to thee.\n",
    "'''\n",
    "\n",
    "\n"
   ]
  },
  {
   "cell_type": "markdown",
   "metadata": {},
   "source": [
    "1. How many vowels did you find? Remember to include capitalized vowels."
   ]
  },
  {
   "cell_type": "markdown",
   "metadata": {},
   "source": [
    "### Input Processing Output\n",
    "\n",
    "Algorithms usually involve an input/processing/output (IPO) approach. We can add some internal documentation (comments) to decompose a problem into those sections.\n",
    "\n",
    "Lines that begin with a `#` are for people to read and will be ignored by the computer."
   ]
  },
  {
   "cell_type": "code",
   "execution_count": null,
   "metadata": {},
   "outputs": [],
   "source": [
    "# input\n",
    "word = 'onomatopoeia'\n",
    "\n",
    "# processing\n",
    "number_of_vowels = 0\n",
    "for letter in word:\n",
    "    if letter in 'aeiou':\n",
    "        number_of_vowels = number_of_vowels + 1\n",
    "\n",
    "# output\n",
    "print('There are', number_of_vowels, 'vowels in', word)"
   ]
  },
  {
   "cell_type": "markdown",
   "metadata": {},
   "source": [
    "2. Identify the input, processing, and output sections in the following algorithm."
   ]
  },
  {
   "cell_type": "code",
   "execution_count": null,
   "metadata": {},
   "outputs": [],
   "source": [
    "numbers = [4, 3, 6, 7, 2]\n",
    "total = 0\n",
    "for n in numbers:\n",
    "    total = total + n\n",
    "mean_value = total / len(numbers)\n",
    "print(mean_value)"
   ]
  },
  {
   "cell_type": "markdown",
   "metadata": {},
   "source": [
    "3. What is the purpose of the above algorithm?"
   ]
  },
  {
   "cell_type": "markdown",
   "metadata": {},
   "source": [
    "## Getting User Input\n",
    "\n",
    "Python includes an `input` function that will ask for a value when it is run."
   ]
  },
  {
   "cell_type": "code",
   "execution_count": null,
   "metadata": {},
   "outputs": [],
   "source": [
    "x = input('Enter a number: ')\n",
    "print(x)"
   ]
  },
  {
   "cell_type": "markdown",
   "metadata": {},
   "source": [
    "Programming languages have different data types, such as integers, floating point (decimal) numbers, and character strings. We can print out the type stored in a variable using `type()`."
   ]
  },
  {
   "cell_type": "code",
   "execution_count": null,
   "metadata": {},
   "outputs": [],
   "source": [
    "x = 7\n",
    "print(x, 'is', type(x))\n",
    "\n",
    "y = 7.0\n",
    "print(y, 'is', type(y))"
   ]
  },
  {
   "cell_type": "markdown",
   "metadata": {},
   "source": [
    "We can check values that have been stored in variables from running previous code cells."
   ]
  },
  {
   "cell_type": "code",
   "execution_count": null,
   "metadata": {},
   "outputs": [],
   "source": [
    "print(word, 'is', type(word))\n",
    "print(numbers, 'is', type(numbers))"
   ]
  },
  {
   "cell_type": "markdown",
   "metadata": {},
   "source": [
    "4. If `z = True`, what [data type](https://docs.python.org/3/library/stdtypes.html) is stored in the `z` variable?"
   ]
  },
  {
   "cell_type": "code",
   "execution_count": null,
   "metadata": {},
   "outputs": [],
   "source": [
    "z = True\n"
   ]
  },
  {
   "cell_type": "markdown",
   "metadata": {},
   "source": [
    "Some operations need values to be a certain type. For example, the following code will result in a run-time error even if you input a number."
   ]
  },
  {
   "cell_type": "code",
   "execution_count": null,
   "metadata": {},
   "outputs": [],
   "source": [
    "n = input('Enter a number: ')\n",
    "\n",
    "output_value = n + 7\n",
    "\n",
    "print(output_value)"
   ]
  },
  {
   "cell_type": "markdown",
   "metadata": {},
   "source": [
    "Instead we need to have Python convert the input to an integer or float value to make that run."
   ]
  },
  {
   "cell_type": "code",
   "execution_count": null,
   "metadata": {},
   "outputs": [],
   "source": [
    "n = input('Enter a number: ')\n",
    "\n",
    "n = float(n)  # or n = int(n)\n",
    "output_value = n + 7\n",
    "\n",
    "print(output_value)"
   ]
  },
  {
   "cell_type": "markdown",
   "metadata": {},
   "source": [
    "5. Write some code in the cell below that asks for a number as an input, and then outputs the square of that number."
   ]
  },
  {
   "cell_type": "code",
   "execution_count": null,
   "metadata": {},
   "outputs": [],
   "source": []
  },
  {
   "cell_type": "markdown",
   "metadata": {},
   "source": [
    "## Loops and Conditionals\n",
    "\n",
    "We have seen a few examples of algorithms that use loop (`for` or `while`) or conditional (`if`, `elif`, `else`) statements. The following code cell uses both to find the maximum value in a [list](https://www.w3schools.com/python/python_lists.asp) of integers.\n",
    "\n",
    "6. Rewrite the code to find the minimum value from the list."
   ]
  },
  {
   "cell_type": "code",
   "execution_count": null,
   "metadata": {},
   "outputs": [],
   "source": [
    "numbers = [4, 3, 6, 7, 2, 9, 5, 8]\n",
    "\n",
    "maximum = 0\n",
    "for n in numbers:\n",
    "    if n > maximum:\n",
    "        maximum = n\n",
    "\n",
    "print('The maximum value is', maximum)"
   ]
  },
  {
   "cell_type": "markdown",
   "metadata": {},
   "source": [
    "7. The following algorithm designed to find the sum of the numbers contains a logic error, find and fix the error."
   ]
  },
  {
   "cell_type": "code",
   "execution_count": null,
   "metadata": {},
   "outputs": [],
   "source": [
    "numbers = [4, 3, 6, 7, 2, 9, 5, 8]\n",
    "\n",
    "total = 0\n",
    "for number in numbers:\n",
    "    total = number\n",
    "\n",
    "print(total)"
   ]
  },
  {
   "cell_type": "markdown",
   "metadata": {},
   "source": [
    "## Code Functions and Libraries\n",
    "\n",
    "Python has many functions and [libraries](https://en.wikipedia.org/wiki/Library_(computing)) (code written by other people that you can import and use). For example, we can use built-in functions to calculate maximum and minimum, and the [statistics](https://docs.python.org/3/library/statistics.html) library to calculate mean."
   ]
  },
  {
   "cell_type": "code",
   "execution_count": null,
   "metadata": {},
   "outputs": [],
   "source": [
    "numbers = [4, 3, 6, 7, 2, 9, 5, 8]\n",
    "\n",
    "print('Max:')\n",
    "print(max(numbers))\n",
    "print('Min:')\n",
    "print(min(numbers))\n",
    "print('Sum:')\n",
    "print(sum(numbers))\n",
    "\n",
    "import statistics\n",
    "print('Mean:')\n",
    "print(statistics.mean(numbers))"
   ]
  },
  {
   "cell_type": "markdown",
   "metadata": {},
   "source": [
    "Of course this is much more valuable if we have large data sets. Let's get the [hourly weather](https://climate.weather.gc.ca/) at the [Edmonton International Airport](https://www.climate.weather.gc.ca/climate_data/daily_data_e.html?StationID=50149) for July 2023 using the [pandas](https://pandas.pydata.org) library."
   ]
  },
  {
   "cell_type": "code",
   "execution_count": null,
   "metadata": {},
   "outputs": [],
   "source": [
    "station_id = 50149\n",
    "year = 2023\n",
    "month = 7\n",
    "url_start = 'https://climate.weather.gc.ca/climate_data/bulk_data_e.html?format=csv&stationID='\n",
    "url = url_start+str(station_id)+'&Year='+str(year)+'&Month='+str(month)+'&Day=1&timeframe=1&submit=Download+Data'\n",
    "import pandas as pd\n",
    "weather = pd.read_csv(url)\n",
    "weather"
   ]
  },
  {
   "cell_type": "markdown",
   "metadata": {},
   "source": [
    "Now that we have the data in a [data frame](https://pandas.pydata.org/pandas-docs/stable/reference/api/pandas.DataFrame.html), we can find the mean, maximum, and minimum observed temperatures."
   ]
  },
  {
   "cell_type": "code",
   "execution_count": null,
   "metadata": {},
   "outputs": [],
   "source": [
    "print('Mean:')\n",
    "print(weather['Temp (°C)'].mean())\n",
    "print('Maximum:')\n",
    "print(weather['Temp (°C)'].max())\n",
    "print('Minimum:')\n",
    "print(weather['Temp (°C)'].min())"
   ]
  },
  {
   "cell_type": "markdown",
   "metadata": {},
   "source": [
    "Let's make a graph of the temperature data."
   ]
  },
  {
   "cell_type": "code",
   "execution_count": null,
   "metadata": {},
   "outputs": [],
   "source": [
    "import plotly.express as px\n",
    "px.line(weather, x='Date/Time (LST)', y='Temp (°C)', title='Edmonton International Airport Temperatures July 2023')"
   ]
  },
  {
   "cell_type": "markdown",
   "metadata": {},
   "source": [
    "We can also add horizontal lines for the mean, maximum, and minimum. The first two are done for you.\n",
    "\n",
    "8. Write a line of code to add a `blue` horizontal line at the minimum temperature value."
   ]
  },
  {
   "cell_type": "code",
   "execution_count": null,
   "metadata": {},
   "outputs": [],
   "source": [
    "fig = px.line(weather, x='Date/Time (LST)', y='Temp (°C)', title='Edmonton International Airport Temperatures July 2022')\n",
    "fig.add_hline(y=weather['Temp (°C)'].max(), line_color='red')\n",
    "fig.add_hline(y=weather['Temp (°C)'].mean(), line_color='green')\n",
    "\n",
    "fig.show()"
   ]
  },
  {
   "cell_type": "markdown",
   "metadata": {},
   "source": [
    "## Integrated Development Environment\n",
    "\n",
    "We have been using this Jupyter notebook, running on a [Jupyter Hub](https://jupyter.org/hub), to write an run code. It has an integrated [editor](https://simple.wikipedia.org/wiki/Text_editor) and [interpreter](https://en.wikipedia.org/wiki/Interpreter_(computing)) (for running code), but doesn't really have [debugging](https://simple.wikipedia.org/wiki/Debugger) tools.\n",
    "\n",
    "9. How is an IDE different from a text editor?\n",
    "10. What is the purpose of a [debugger](https://simple.wikipedia.org/wiki/Debugger)?\n",
    "11. What is the difference between [run-time errors](https://www.geeksforgeeks.org/runtime-errors/) and [logic errors](https://en.wikipedia.org/wiki/Logic_error)?\n",
    "12. Python is an interpreted language, how is this [different from a compiled language?](https://www.geeksforgeeks.org/difference-between-compiled-and-interpreted-language)?"
   ]
  },
  {
   "cell_type": "markdown",
   "metadata": {},
   "source": [
    "# Insert Data Science Challenges Here, maybe from https://github.com/callysto/hackathon/blob/master/HackathonNotebooks/data.ipynb"
   ]
  },
  {
   "cell_type": "markdown",
   "metadata": {},
   "source": [
    "## Personal Connections and Career Pathways\n",
    "\n",
    "5. make personal connections to the cluster content and processes to inform possible pathway choices\n",
    "    1. complete/update a personal inventory; e.g., interests, values, beliefs, resources, prior learning and experiences\n",
    "    2. create a connection between a personal inventory and occupational choices"
   ]
  },
  {
   "attachments": {},
   "cell_type": "markdown",
   "metadata": {},
   "source": [
    "[![Callysto.ca License](https://github.com/callysto/curriculum-notebooks/blob/master/callysto-notebook-banner-bottom.jpg?raw=true)](https://github.com/callysto/curriculum-notebooks/blob/master/LICENSE.md)"
   ]
  }
 ],
 "metadata": {
  "kernelspec": {
   "display_name": "Python 3",
   "language": "python",
   "name": "python3"
  },
  "language_info": {
   "codemirror_mode": {
    "name": "ipython",
    "version": 3
   },
   "file_extension": ".py",
   "mimetype": "text/x-python",
   "name": "python",
   "nbconvert_exporter": "python",
   "pygments_lexer": "ipython3",
   "version": "3.10.1"
  },
  "orig_nbformat": 4
 },
 "nbformat": 4,
 "nbformat_minor": 2
}
