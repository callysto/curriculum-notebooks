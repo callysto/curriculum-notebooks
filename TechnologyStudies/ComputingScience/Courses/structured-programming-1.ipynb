{
 "cells": [
  {
   "cell_type": "markdown",
   "metadata": {},
   "source": [
    "![Callysto.ca Banner](https://github.com/callysto/curriculum-notebooks/blob/master/callysto-notebook-banner-top.jpg?raw=true)\n",
    "\n",
    "<a href=\"https://hub.callysto.ca/jupyter/hub/user-redirect/git-pull?repo=https%3A%2F%2Fgithub.com%2Fcallysto%2Fcurriculum-notebooks&branch=master&subPath=TechnologyStudies/ComputingScience/Courses/structured-programming-1.ipynb&depth=1\"><img src=\"https://raw.githubusercontent.com/callysto/curriculum-notebooks/master/open-in-callysto-button.svg?sanitize=true\" width=\"123\" height=\"24\" alt=\"Open in Callysto\"/></a>"
   ]
  },
  {
   "cell_type": "markdown",
   "metadata": {},
   "source": [
    "# CSE1110: Structured Programming 1\n",
    "\n",
    "\n",
    "*[Alberta Education Learning Outcomes-Business, Administration, Finance & Information Technology (BIT)](https://education.alberta.ca/media/159479/cse_pos.pdf)*  \n",
    "\n",
    "*Computer Science-Page 3*\n",
    "\n",
    "*Prerequisite: None*\n",
    "***\n",
    "\n",
    "Students are introduced to a general programming environment in which they write simple structured algorithms and programs that input, process and output data, use some of the more basic operators and data types, and follow a sequential flow of control.\n"
   ]
  },
  {
   "cell_type": "markdown",
   "metadata": {},
   "source": [
    "## Jupyter and Python\n",
    "\n",
    "This is a [Jupyter](https://jupyter.org) notebook that contains text and [Python](https://www.python.org) code.\n",
    "\n",
    "If you are viewing this on GitHub, you will need to first <a href=\"https://hub.callysto.ca/jupyter/hub/user-redirect/git-pull?repo=https%3A%2F%2Fgithub.com%2Fcallysto%2Fcurriculum-notebooks&branch=master&subPath=TechnologyStudies/ComputingScience/Courses/structured-programming-1.ipynb&depth=1\">click this link to open it on the Callysto Hub</a>. It will ask you to log in with a Google or Microsoft account, but it will not collect any of your personal data.\n",
    "\n",
    "Click the save icon `💾` at the top left so you don't lose any work.\n",
    "\n",
    "This is a text cell, and the cell below is a code cell. Click on the code cell, then click the `▶Run` button to run it."
   ]
  },
  {
   "cell_type": "code",
   "execution_count": null,
   "metadata": {},
   "outputs": [],
   "source": [
    "print('hello world')"
   ]
  },
  {
   "cell_type": "markdown",
   "metadata": {},
   "source": [
    "## Variables\n",
    "\n",
    "Imagine you have two pens and three pencils, and you want to add up how many writing implements you have. You could use `print(2 + 3)`.\n",
    "\n",
    "Click on the code cell below, then click the `▶Run` button."
   ]
  },
  {
   "cell_type": "code",
   "execution_count": null,
   "metadata": {},
   "outputs": [],
   "source": [
    "print(2 + 3)"
   ]
  },
  {
   "cell_type": "markdown",
   "metadata": {},
   "source": [
    "Or you could declare [variables](https://en.wikipedia.org/wiki/Variable_(computer_science)), which are storage locations for values such as numbers, words, or other data.\n",
    "\n",
    "`▶Run` the following code cell."
   ]
  },
  {
   "cell_type": "code",
   "execution_count": null,
   "metadata": {},
   "outputs": [],
   "source": [
    "pens = 2\n",
    "pencils = 3\n",
    "total = pens + pencils\n",
    "print(total)"
   ]
  },
  {
   "cell_type": "markdown",
   "metadata": {},
   "source": [
    "## Getting Input\n",
    "\n",
    "Sometimes we need to get input (and store it in a variable) while a program is running."
   ]
  },
  {
   "cell_type": "code",
   "execution_count": null,
   "metadata": {},
   "outputs": [],
   "source": [
    "color = input('What is your favorite color? ')\n",
    "print('Your favorite color is ' + color)"
   ]
  },
  {
   "cell_type": "markdown",
   "metadata": {},
   "source": [
    "By default, input will be stored as a string. Let's try converting it to an integer."
   ]
  },
  {
   "cell_type": "code",
   "execution_count": null,
   "metadata": {},
   "outputs": [],
   "source": [
    "pens = int(input('How many pens do you have? '))\n",
    "pencils = int(input('How many pencils do you have? '))\n",
    "total = pens + pencils\n",
    "print('You have ' + str(total) + ' writing implements.')"
   ]
  },
  {
   "cell_type": "markdown",
   "metadata": {},
   "source": [
    "## Algorithms\n",
    "\n",
    "An [algorithm](https://en.wikipedia.org/wiki/Algorithm) is a series of steps to follow.\n",
    "\n",
    "One type of algorithm is to find the average of three numbers by adding them all up and dividing by 3."
   ]
  },
  {
   "cell_type": "code",
   "execution_count": null,
   "metadata": {},
   "outputs": [],
   "source": [
    "num1 = 8\n",
    "num2 = 3\n",
    "num3 = 5\n",
    "\n",
    "total = num1 + num2 + num3\n",
    "average = total / 3\n",
    "\n",
    "print(average)"
   ]
  },
  {
   "cell_type": "markdown",
   "metadata": {},
   "source": [
    "Another example algorithm is \n",
    "\n",
    "1. start with an `amount` of 0\n",
    "2. add 1 to the `amount`\n",
    "3. print the `amount`\n",
    "4. repeat for a total of five times\n",
    "\n",
    "`▶Run` the code cell below for this algorithm."
   ]
  },
  {
   "cell_type": "code",
   "execution_count": null,
   "metadata": {},
   "outputs": [],
   "source": [
    "amount = 0\n",
    "for x in range(5):\n",
    "    amount = amount + 1\n",
    "    print(amount)"
   ]
  },
  {
   "cell_type": "markdown",
   "metadata": {},
   "source": [
    "1. We want an algorithm to take number of seconds as an input and then calculate and display the equivalent `hours`, `minutes`, and `remaining_seconds`. The following code is incomplete, paste it into the code cell below and complete it so that it displays the correct output.\n",
    "\n",
    "```\n",
    "seconds = 80000\n",
    "\n",
    "hours = seconds / 3600\n",
    "minutes = \n",
    "remaining_seconds = \n",
    "\n",
    "print(f'{seconds} seconds is {hours} hours and {minutes} minutes and {remaining_seconds} seconds.')\n",
    "```"
   ]
  },
  {
   "cell_type": "code",
   "execution_count": null,
   "metadata": {},
   "outputs": [],
   "source": [
    "seconds = 80000\n",
    "\n"
   ]
  },
  {
   "cell_type": "markdown",
   "metadata": {},
   "source": [
    "Let's try another algorithm to count the number of vowels in a word. `▶Run` the following code cell."
   ]
  },
  {
   "cell_type": "code",
   "execution_count": null,
   "metadata": {},
   "outputs": [],
   "source": [
    "word = 'onomatopoeia'\n",
    "number_of_vowels = 0\n",
    "for letter in word:\n",
    "    if letter in 'aeiou':\n",
    "        number_of_vowels = number_of_vowels + 1\n",
    "print('There are', number_of_vowels, 'vowels in', word)"
   ]
  },
  {
   "cell_type": "markdown",
   "metadata": {},
   "source": [
    "Write some code in the cell below to count how many vowels there are in [Shakespeare's Sonnet 18](https://www.poetryfoundation.org/poems/45087/sonnet-18-shall-i-compare-thee-to-a-summers-day)."
   ]
  },
  {
   "cell_type": "code",
   "execution_count": null,
   "metadata": {},
   "outputs": [],
   "source": [
    "sonnet = '''\n",
    "Shall I compare thee to a summer's day?\n",
    "Thou art more lovely and more temperate:\n",
    "Rough winds do shake the darling buds of May,\n",
    "And summer's lease hath all too short a date;\n",
    "Sometime too hot the eye of heaven shines,\n",
    "And often is his gold complexion dimm'd;\n",
    "And every fair from fair sometime declines,\n",
    "By chance or nature's changing course untrimm'd;\n",
    "But thy eternal summer shall not fade,\n",
    "Nor lose possession of that fair thou ow'st;\n",
    "Nor shall death brag thou wander'st in his shade,\n",
    "When in eternal lines to time thou grow'st:\n",
    "So long as men can breathe or eyes can see,\n",
    "So long lives this, and this gives life to thee.\n",
    "'''\n",
    "\n",
    "\n"
   ]
  },
  {
   "cell_type": "markdown",
   "metadata": {},
   "source": [
    "2. How many vowels did you find? Remember to include capitalized vowels.\n",
    "\n",
    "*Double-click the markdown cell below to edit it and add your answer.*"
   ]
  },
  {
   "cell_type": "markdown",
   "metadata": {},
   "source": [
    "We found..."
   ]
  },
  {
   "cell_type": "markdown",
   "metadata": {},
   "source": [
    "### Input Processing Output\n",
    "\n",
    "Algorithms usually involve an input/processing/output (IPO) approach. We can add some internal documentation (comments) to decompose a problem into those sections.\n",
    "\n",
    "Lines that begin with a `#` are for people to read and will be ignored by the computer."
   ]
  },
  {
   "cell_type": "code",
   "execution_count": null,
   "metadata": {},
   "outputs": [],
   "source": [
    "# input\n",
    "word = 'onomatopoeia'\n",
    "\n",
    "# processing\n",
    "number_of_vowels = 0\n",
    "for letter in word:\n",
    "    if letter in 'aeiou':\n",
    "        number_of_vowels = number_of_vowels + 1\n",
    "\n",
    "# output\n",
    "print('There are', number_of_vowels, 'vowels in', word)"
   ]
  },
  {
   "cell_type": "markdown",
   "metadata": {},
   "source": [
    "3. Label the input, processing, and output sections in the following algorithm by adding comments to the code cell."
   ]
  },
  {
   "cell_type": "code",
   "execution_count": null,
   "metadata": {},
   "outputs": [],
   "source": [
    "numbers = [4, 3, 6, 7, 2]\n",
    "total = 0\n",
    "for n in numbers:\n",
    "    total = total + n\n",
    "mean_value = total / len(numbers)\n",
    "print(mean_value)"
   ]
  },
  {
   "cell_type": "markdown",
   "metadata": {},
   "source": [
    "4. What is the purpose of the above algorithm?"
   ]
  },
  {
   "cell_type": "markdown",
   "metadata": {},
   "source": [
    "The purpose of the algorithm is to..."
   ]
  },
  {
   "cell_type": "markdown",
   "metadata": {},
   "source": [
    "## Getting User Input\n",
    "\n",
    "Python includes an `input` function that will ask for a value when it is run."
   ]
  },
  {
   "cell_type": "code",
   "execution_count": null,
   "metadata": {},
   "outputs": [],
   "source": [
    "x = input('Enter a number: ')\n",
    "print(x)"
   ]
  },
  {
   "cell_type": "markdown",
   "metadata": {},
   "source": [
    "Programming languages have different data types, such as integers, floating point (decimal) numbers, and character strings. We can print out the type stored in a variable using `type()`."
   ]
  },
  {
   "cell_type": "code",
   "execution_count": null,
   "metadata": {},
   "outputs": [],
   "source": [
    "x = 7\n",
    "print(x, 'is', type(x))\n",
    "\n",
    "y = 7.0\n",
    "print(y, 'is', type(y))"
   ]
  },
  {
   "cell_type": "markdown",
   "metadata": {},
   "source": [
    "We can check values that have been stored in variables from running previous code cells."
   ]
  },
  {
   "cell_type": "code",
   "execution_count": null,
   "metadata": {},
   "outputs": [],
   "source": [
    "print(word, 'is', type(word))\n",
    "print(numbers, 'is', type(numbers))"
   ]
  },
  {
   "cell_type": "markdown",
   "metadata": {},
   "source": [
    "5. If `z = True`, find which [data type](https://docs.python.org/3/library/stdtypes.html) is stored in the `z` variable."
   ]
  },
  {
   "cell_type": "code",
   "execution_count": null,
   "metadata": {},
   "outputs": [],
   "source": [
    "z = True\n"
   ]
  },
  {
   "cell_type": "markdown",
   "metadata": {},
   "source": [
    "The data type of the variable `z` is..."
   ]
  },
  {
   "cell_type": "markdown",
   "metadata": {},
   "source": [
    "Some operations need values to be a certain type. For example, the following code will result in a run-time error even if you input a number because `input()` values will be stored as strings (and we can't add an integer to a string).\n",
    "\n",
    "```\n",
    "n = input('Enter a number: ')\n",
    "\n",
    "output_value = n + 7\n",
    "\n",
    "print(output_value)\n",
    "```\n",
    "\n",
    "You can try it by pasting the code into the cell below."
   ]
  },
  {
   "cell_type": "code",
   "execution_count": null,
   "metadata": {},
   "outputs": [],
   "source": []
  },
  {
   "cell_type": "markdown",
   "metadata": {},
   "source": [
    "Instead we need to have Python convert the input to an integer or float value. The following code should run without error if you input a number."
   ]
  },
  {
   "cell_type": "code",
   "execution_count": null,
   "metadata": {},
   "outputs": [],
   "source": [
    "n = input('Enter a number: ')\n",
    "\n",
    "n = float(n)\n",
    "output_value = n + 7\n",
    "\n",
    "print(output_value)"
   ]
  },
  {
   "cell_type": "markdown",
   "metadata": {},
   "source": [
    "6. Write some code in the cell below that asks for a number as an input, and then outputs the square of that number."
   ]
  },
  {
   "cell_type": "code",
   "execution_count": null,
   "metadata": {},
   "outputs": [],
   "source": []
  },
  {
   "cell_type": "markdown",
   "metadata": {},
   "source": [
    "### Types of Numbers\n",
    "\n",
    "There are different ways that numbers can be represented in programming. In Python, [numbers](https://www.w3schools.com/python/python_numbers.asp) can be `int` (integers, also know as whole numbers), `float` (decimals, or [floating point numbers](https://en.wikipedia.org/wiki/Floating-point_arithmetic)), or `complex` (containing [real and imaginary parts](https://en.wikipedia.org/wiki/Complex_number)).\n",
    "\n",
    "Other languages, such as Java, have more [data types](https://www.w3schools.com/java/java_data_types.asp) for numbers, such as `short` (-32768 to 32767), `long` (-9223372036854775808 to 9223372036854775807), or `byte` (-128 to 127).\n",
    "\n",
    "#### Bytes, Binary, and Hexadecimal\n",
    "\n",
    "A [byte](https://en.wikipedia.org/wiki/Byte) is eight bits, a [bit](https://en.wikipedia.org/wiki/Bit) is a [binary digit](https://en.wikipedia.org/wiki/Binary_number) that can only be `0` or `1` (`off` or `on`). Computers store information in binary, usually as electricity off or on.\n",
    "\n",
    "Binary (base 2) numbers can be converted to the decimal (base 10) numbers that we are more familiar with.\n",
    "\n",
    "|Decimal|Binary|\n",
    "|-|-|\n",
    "|0|0|\n",
    "|1|1|\n",
    "|2|10|\n",
    "|3|11|\n",
    "|4|100|\n",
    "|5|101|\n",
    "\n",
    "If you would like more information about binary values, watch [this video on representing numbers and letters with binary](https://www.youtube.com/watch?v=1GSjbWt0c9M).\n",
    "\n",
    "We can also write a [Python function](https://www.w3schools.com/python/python_functions.asp) with [`bin()`](https://www.w3schools.com/python/python_functions.asp)to convert decimal to binary numbers."
   ]
  },
  {
   "cell_type": "code",
   "execution_count": null,
   "metadata": {},
   "outputs": [],
   "source": [
    "for x in range(20):\n",
    "    print(f'Decimal {x}, Binary {bin(x)}')"
   ]
  },
  {
   "cell_type": "markdown",
   "metadata": {},
   "source": [
    "To convert a binary number to a decimal number, we can use the `int` function again but specify that it is a base 2 number. For example, `int('1101', 2)` would convert the binary number `1101`.\n",
    "\n",
    "7. Use the code cell below to convert the binary number `11111111` to a decimal integer. This has eight bits that are all `1`, so it is the largest possible number that can be stored in one byte."
   ]
  },
  {
   "cell_type": "code",
   "execution_count": null,
   "metadata": {},
   "outputs": [],
   "source": []
  },
  {
   "cell_type": "markdown",
   "metadata": {},
   "source": [
    "Another number system that's useful in computing is [hexadecimal](https://en.wikipedia.org/wiki/Hexadecimal). For an example of how hexadecimal numbers are used in computing, check out [web colors](https://en.wikipedia.org/wiki/Web_colors) and [this video on HEX color codes](https://www.youtube.com/watch?v=c56x1aj2CPA).\n",
    "\n",
    "Single-digit hexadecimal (base 16) numbers are 0, 1, 2, 3, 4, 5, 6, 7, 8, 9, a, b, c, d, e, f. This means that one byte of information can be represented by a two-digit hexadecimal number.\n",
    "\n",
    "|Decimal|Binary|Hexadecimal|\n",
    "|-|-|-|\n",
    "|0|0|0|\n",
    "|1|1|1|\n",
    "|10|1010|a|\n",
    "|100|1100100|64|\n",
    "|125|1111101|7d|\n",
    "|255|11111111|ff|\n",
    "\n",
    "8. Use `hex(n)` to convert the decimal number `n = 100` to a hexadecimal number."
   ]
  },
  {
   "cell_type": "code",
   "execution_count": null,
   "metadata": {},
   "outputs": [],
   "source": []
  },
  {
   "cell_type": "markdown",
   "metadata": {},
   "source": [
    "Once again we can use `int(h, 16)` to convert a hexidecimal number such as `h = 'f3'` to a decimal number.\n",
    "\n",
    "9. Use the code cell below to find the largest possible number that can be represented with two hexadecimal digits."
   ]
  },
  {
   "cell_type": "code",
   "execution_count": null,
   "metadata": {},
   "outputs": [],
   "source": []
  },
  {
   "cell_type": "markdown",
   "metadata": {},
   "source": [
    "## Loops and Conditionals\n",
    "\n",
    "We have seen a few examples of algorithms that use loop (`for` or `while`) or conditional (`if`, `elif`, `else`) statements. The following code cell uses both to find the maximum value in a [list](https://www.w3schools.com/python/python_lists.asp) of integers.\n",
    "\n",
    "10. Rewrite the code to find the **minimum** value from the list. Add a comment (internal documentation) before each line of code to describe that that line does."
   ]
  },
  {
   "cell_type": "code",
   "execution_count": null,
   "metadata": {},
   "outputs": [],
   "source": [
    "# declare a list of numbers\n",
    "numbers = [4, 3, 6, 7, 2, 9, 5, 8]\n",
    "\n",
    "# \n",
    "maximum = 0\n",
    "# \n",
    "for n in numbers:\n",
    "    # \n",
    "    if n > maximum:\n",
    "        # \n",
    "        maximum = n\n",
    "\n",
    "# \n",
    "print('The maximum value is', maximum)"
   ]
  },
  {
   "cell_type": "markdown",
   "metadata": {},
   "source": [
    "## Debugging\n",
    "\n",
    "11. The following algorithm designed to find the sum of the numbers contains a logic error, find and fix the error."
   ]
  },
  {
   "cell_type": "code",
   "execution_count": null,
   "metadata": {},
   "outputs": [],
   "source": [
    "numbers = [4, 3, 6, 7, 2, 9, 5, 8]\n",
    "\n",
    "total = 0\n",
    "for number in numbers:\n",
    "    total = number\n",
    "\n",
    "print(total)"
   ]
  },
  {
   "cell_type": "markdown",
   "metadata": {},
   "source": [
    "## Code Functions and Libraries\n",
    "\n",
    "Python has many functions and [libraries](https://en.wikipedia.org/wiki/Library_(computing)) (code written by other people that you can import and use). This is one of the most powerful and useful features of Python.\n",
    "\n",
    "For example, we can use built-in functions to calculate maximum and minimum, and the [statistics](https://docs.python.org/3/library/statistics.html) library to calculate mean."
   ]
  },
  {
   "cell_type": "code",
   "execution_count": null,
   "metadata": {},
   "outputs": [],
   "source": [
    "numbers = [4, 3, 6, 7, 2, 9, 5, 8]\n",
    "\n",
    "print('Max:')\n",
    "print(max(numbers))\n",
    "print('Min:')\n",
    "print(min(numbers))\n",
    "print('Sum:')\n",
    "print(sum(numbers))\n",
    "\n",
    "import statistics\n",
    "print('Mean:')\n",
    "print(statistics.mean(numbers))"
   ]
  },
  {
   "cell_type": "markdown",
   "metadata": {},
   "source": [
    "Of course this is much more valuable if we have large data sets. Let's get the [hourly weather](https://climate.weather.gc.ca/) at the [Edmonton International Airport](https://www.climate.weather.gc.ca/climate_data/daily_data_e.html?StationID=50149) for July 2023 using the [pandas](https://pandas.pydata.org) library."
   ]
  },
  {
   "cell_type": "code",
   "execution_count": null,
   "metadata": {},
   "outputs": [],
   "source": [
    "station_id = 50149\n",
    "year = 2023\n",
    "month = 7\n",
    "url_start = 'https://climate.weather.gc.ca/climate_data/bulk_data_e.html?format=csv&stationID='\n",
    "url = url_start+str(station_id)+'&Year='+str(year)+'&Month='+str(month)+'&Day=1&timeframe=1&submit=Download+Data'\n",
    "import pandas as pd\n",
    "weather = pd.read_csv(url)\n",
    "weather"
   ]
  },
  {
   "cell_type": "markdown",
   "metadata": {},
   "source": [
    "Now that we have the data in a [data frame](https://pandas.pydata.org/pandas-docs/stable/reference/api/pandas.DataFrame.html), we can find the mean, maximum, and minimum observed temperatures."
   ]
  },
  {
   "cell_type": "code",
   "execution_count": null,
   "metadata": {},
   "outputs": [],
   "source": [
    "print('Mean:')\n",
    "print(weather['Temp (°C)'].mean())\n",
    "print('Maximum:')\n",
    "print(weather['Temp (°C)'].max())\n",
    "print('Minimum:')\n",
    "print(weather['Temp (°C)'].min())"
   ]
  },
  {
   "cell_type": "markdown",
   "metadata": {},
   "source": [
    "Let's make a graph of the temperature data."
   ]
  },
  {
   "cell_type": "code",
   "execution_count": null,
   "metadata": {},
   "outputs": [],
   "source": [
    "import plotly.express as px\n",
    "px.line(weather, x='Date/Time (LST)', y='Temp (°C)', title='Edmonton International Airport Temperatures July 2023')"
   ]
  },
  {
   "cell_type": "markdown",
   "metadata": {},
   "source": [
    "We can also add horizontal lines for the mean, maximum, and minimum. The first two are done for you.\n",
    "\n",
    "12. Write a line of code to add a `blue` horizontal line at the minimum temperature value."
   ]
  },
  {
   "cell_type": "code",
   "execution_count": null,
   "metadata": {},
   "outputs": [],
   "source": [
    "fig = px.line(weather, x='Date/Time (LST)', y='Temp (°C)', title='Edmonton International Airport Temperatures July 2022')\n",
    "fig.add_hline(y=weather['Temp (°C)'].max(), line_color='red')\n",
    "fig.add_hline(y=weather['Temp (°C)'].mean(), line_color='green')\n",
    "\n",
    "fig.show()"
   ]
  },
  {
   "cell_type": "markdown",
   "metadata": {},
   "source": [
    "Now that you have seen some examples of data analysis and visualization, let's look at a data set about *hypothetical* pets for adoption from our friends at [Bootstrap](https://www.bootstrapworld.org/materials/data-science)."
   ]
  },
  {
   "cell_type": "code",
   "execution_count": null,
   "metadata": {},
   "outputs": [],
   "source": [
    "import pandas as pd\n",
    "pets = pd.read_csv('data/pets.csv')\n",
    "pets"
   ]
  },
  {
   "cell_type": "markdown",
   "metadata": {},
   "source": [
    "13. Create a bar graph by filling in column titles such as `y='Age (years)'`.\n",
    "\n",
    "If you get an error, double-check your spelling, make sure you have copied and pasted the column title exactly as it appears in the dataframe."
   ]
  },
  {
   "cell_type": "code",
   "execution_count": null,
   "metadata": {},
   "outputs": [],
   "source": [
    "px.bar(pets, x='', y='', title='')"
   ]
  },
  {
   "cell_type": "markdown",
   "metadata": {},
   "source": [
    "14. Create a scatter plot comparing `Weight (lbs)` to `Time to Adoption (weeks)`."
   ]
  },
  {
   "cell_type": "code",
   "execution_count": null,
   "metadata": {},
   "outputs": [],
   "source": []
  },
  {
   "cell_type": "markdown",
   "metadata": {},
   "source": [
    "## Integrated Development Environment\n",
    "\n",
    "We have been using this Jupyter notebook, running on a [Jupyter Hub](https://jupyter.org/hub), to write an run code. It has an integrated [editor](https://simple.wikipedia.org/wiki/Text_editor) and [interpreter](https://en.wikipedia.org/wiki/Interpreter_(computing)) (for running code), but doesn't really have [debugging](https://simple.wikipedia.org/wiki/Debugger) tools.\n",
    "\n",
    "15. How is an IDE different from a text editor?\n",
    "16. What is the purpose of a [debugger](https://simple.wikipedia.org/wiki/Debugger)?\n",
    "17. What is the difference between [run-time errors](https://www.geeksforgeeks.org/runtime-errors/) and [logic errors](https://en.wikipedia.org/wiki/Logic_error)?\n",
    "18. Python is an interpreted language, how is this [different from a compiled language?](https://www.geeksforgeeks.org/difference-between-compiled-and-interpreted-language)?\n",
    "\n",
    "## Personal Connections and Career Pathways\n",
    "\n",
    "19. What are some of your interests, values, beliefs, resources, prior learning, and experiences that relate to what you are learning about computing science?\n",
    "20. Write a paragraph about how the knowledge and skills you are learning learning could relate to your future career choices."
   ]
  },
  {
   "cell_type": "markdown",
   "metadata": {},
   "source": [
    "15. \n",
    "\n",
    "16. \n",
    "\n",
    "17. \n",
    "\n",
    "18. \n",
    "\n",
    "19. \n",
    "\n",
    "20.  "
   ]
  },
  {
   "cell_type": "markdown",
   "metadata": {},
   "source": [
    "Now that you have completed this notebook, submit your work to your teacher by downloading this notebook or pasting your responses into a document."
   ]
  },
  {
   "cell_type": "markdown",
   "metadata": {},
   "source": [
    "---\n",
    "# Course Outcomes\n",
    "\n",
    "The student will:\n",
    "\n",
    "1. demonstrate introductory structured programming skills by writing sequential algorithms to solve problems involving input, processing and output\n",
    "    1. describe the purpose and nature of an algorithm\n",
    "    2. analyze a variety of simple algorithms and describe the task or tasks the algorithms are attempting to carry out\n",
    "    3. analyze problems and determine if they can be solved using algorithms that employ an input/processing/output (IPO) approach\n",
    "    4. decompose the problem into its input, processing and output components, and identify what data is already available to the program and what must be inputted\n",
    "    5. sequence components appropriately so that processing occurs only when all required data is available and output occurs only after appropriate processing has occurred\n",
    "    6. write the algorithm in an acceptable format; e.g., pseudocode, structured chart\n",
    "    7. test the algorithm for failure as well as success with appropriate data\n",
    "    8. revise the algorithm, as required\n",
    "<br><br>\n",
    "2. translate algorithms into source code, convert the source code into machine executable form, execute and debug, as required\n",
    "    1. describe a typical programming development environment commenting on the role of the key components; e.g., the source code editor, code translator (compiler and/or interpreter), executor, debugger\n",
    "    2. compare and contrast integrated development environments specifically developed for programming with user assembled collections of applications and system software; e.g., text processor for coding, command line compiler\n",
    "    3. describe and demonstrate the use of key components in a programming development environment\n",
    "    4. convert algorithms into a sequence of statements in an appropriate programming language being sure to:\n",
    "        1. maintain the IPO structure of the algorithm\n",
    "        2. use appropriate internal and external documentation\n",
    "        3. use appropriate data types such as integers, real numbers, characters and strings\n",
    "        4. use appropriate variables and constants to hold data\n",
    "        5. use literals and input commands, e.g., methods or operators, to provide data for processing\n",
    "        6. use assignment, arithmetical and concatenation and interpolation operators, where appropriate, to process data\n",
    "        7. use output commands; e.g., methods or operators, to display processed data\n",
    "    5. test the algorithm for failure or success with appropriate data\n",
    "    6. revise the algorithm, as required\n",
    "<br><br>\n",
    "3. analyze and compare the results of the program with the intent of the algorithm and modify as required\n",
    "    1. use appropriate test data and debugging techniques to track and correct errors including:\n",
    "        1. run-time errors; e.g., compiler, linker, syntax\n",
    "        2. logic errors\n",
    "<br><br>\n",
    "4. demonstrate basic competencies\n",
    "    1. demonstrate fundamental skills to:\n",
    "        1. communicate\n",
    "        2. manage information\n",
    "        3. use numbers\n",
    "        4. think and solve problems\n",
    "    2. demonstrate personal management skills to:\n",
    "        1. demonstrate positive attitudes and behaviours\n",
    "        2. be responsible\n",
    "        3. be adaptable\n",
    "        4. learn continuously\n",
    "        5. work safely\n",
    "    3. demonstrate teamwork skills to:\n",
    "        1. work with others\n",
    "        2. participate in projects and tasks\n",
    "<br><br>\n",
    "5. make personal connections to the cluster content and processes to inform possible pathway choices\n",
    "    1. complete/update a personal inventory; e.g., interests, values, beliefs, resources, prior learning and experiences\n",
    "    2. create a connection between a personal inventory and occupational choices\n",
    "---"
   ]
  },
  {
   "cell_type": "markdown",
   "metadata": {},
   "source": [
    "[![Callysto.ca License](https://github.com/callysto/curriculum-notebooks/blob/master/callysto-notebook-banner-bottom.jpg?raw=true)](https://github.com/callysto/curriculum-notebooks/blob/master/LICENSE.md)"
   ]
  }
 ],
 "metadata": {
  "kernelspec": {
   "display_name": "Python 3 (ipykernel)",
   "language": "python",
   "name": "python3"
  },
  "language_info": {
   "codemirror_mode": {
    "name": "ipython",
    "version": 3
   },
   "file_extension": ".py",
   "mimetype": "text/x-python",
   "name": "python",
   "nbconvert_exporter": "python",
   "pygments_lexer": "ipython3",
   "version": "3.10.1"
  }
 },
 "nbformat": 4,
 "nbformat_minor": 4
}
