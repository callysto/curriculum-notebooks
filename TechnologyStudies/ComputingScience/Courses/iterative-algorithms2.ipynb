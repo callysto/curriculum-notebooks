{
 "cells": [
  {
   "cell_type": "markdown",
   "metadata": {},
   "source": [
    "# CSE3110: Iterative Algorithms 1\n",
    "\n",
    "### Note: This is the second-notebook in the iterative-algorithm notebook series. \n",
    "If you have not completed the first notebook, it can be found [here](./iterative-algorithms.ipynb). \n",
    "\n",
    "*[Alberta Education Learning Outcomes-Business, Administration, Finance & Information Technology (BIT)](https://education.alberta.ca/media/159479/cse_pos.pdf)*\n",
    "\n",
    "*Computer Science-Page 25*\n",
    "\n",
    "\n",
    "*Prerequisite: [CSE2120: Data Structures 1](data-structures-1.ipynb)*\n",
    "\n",
    "***\n",
    "\n",
    "Students learn a number of standard iterative data processing algorithms\n",
    "useful for working with data structures such as arrays. These include an\n",
    "iterative version of the binary search, the three basic sorts—exchange\n",
    "(bubble), insertion and selection, and a simple merge. In the process, they\n",
    "learn when and where to apply these algorithms. "
   ]
  },
  {
   "cell_type": "markdown",
   "metadata": {},
   "source": [
    "The student will:\n",
    "\n",
    "1.  analyze and represent the nature, structure and utility of common iterative algorithms\n",
    "    1. compare and contrast search, sort and merge algorithms\n",
    "    1. explain the way in which search, sort and merge algorithms manipulate data\n",
    "    1. describe the data structures required by search, sort and merge algorithms\n",
    "    1. describe how search, sort and merge algorithms are implemented in a programming environment\n",
    "    1. describe and represent iterative search algorithms including:\n",
    "       1. linear search\n",
    "        1. binary search\n",
    "        2. compare and contrast how linear and binary searches manipulate data\n",
    "        3. compare and contrast the data structures required and the computational efficiencies of linear and binary searches\n",
    "    1. describe and represent basic iterative sort algorithms including:\n",
    "        1. exchange sort; e.g., bubble sort, cocktail sort, gnome sort, comb sort\n",
    "        2. selection sort; e.g., selection sort, strand sort\n",
    "        3. insertion sort; e.g., insertion sort, library sort\n",
    "        4. comparing and contrasting how different classes of sorts manipulate data\n",
    "        5. comparing and contrasting the data structures required and the computational efficiencies of different classes of sorts\n",
    "    1. describe and represent simple iterative merge algorithms\n",
    "<br><br>\n",
    "1. create and/or modify algorithms that use searches, sorts and merges to solve problems\n",
    "   1. demonstrate the use of appropriate general design techniques for the programming environment being considered for implementation\n",
    "   2. analyze and decompose the problem into appropriate subsections using the decomposition techniques appropriate for the chosen design approach\n",
    "   3. evaluate subsections and identify any that may require some type of search, sort and/or merge algorithm, based on the nature of the data to be processed and the type of processing operations\n",
    "   4. identify which algorithms are appropriate or required to search, sort and/or merge data\n",
    "   5. sequence the various subsections appropriately\n",
    "   6. test and modify the developing algorithm with appropriate data using a “fail-on-paper” process\n",
    "<br><br>\n",
    "1. create and/or modify programs that use searches, sorts and merges to solve problems\n",
    "   1. convert algorithms calling for standard iterative structures into programs that reflect the algorithm’s design\n",
    "   2. use original (user-created) or pre-existing search, sort and/or merge algorithms appropriate to the data being manipulated\n",
    "   3. utilize the appropriate operators, methods, functions or procedures required to carry out the standard algorithms\n",
    "   4. use internal and external documentation\n",
    "<br><br>\n",
    "4. compare program operation and outcomes with the intent of the algorithm and modify, as required\n",
    "   1. use appropriate error-trapping mechanisms built into the programming environment, as well as programmer-directed error-trapping techniques, to eliminate logic errors and debug the program\n",
    "   2. compare the congruency between the outcomes of the debugged program and the original intent of the algorithm and modify both, as required\n",
    "<br><br>\n",
    "5. demonstrate basic competencies\n",
    "   1. demonstrate fundamental skills to:\n",
    "      1. communicate\n",
    "      2. manage information\n",
    "      3. use numbers\n",
    "      4. think and solve problems\n",
    "   2. demonstrate personal management skills to:\n",
    "      1. demonstrate positive attitudes and behaviours\n",
    "      2. be responsible\n",
    "      3. be adaptable\n",
    "      4. learn continuously\n",
    "      5.  work safely\n",
    "   3. demonstrate teamwork skills to:\n",
    "      1. work with others\n",
    "      2. participate in projects and tasks\n",
    "<br><br>\n",
    "6. create a transitional strategy to accommodate personal changes and build personal values\n",
    "   1. identify short-term and long-term goals\n",
    "   2. identify steps to achieve goals"
   ]
  },
  {
   "cell_type": "markdown",
   "metadata": {},
   "source": [
    "## Sorting: Bubble Sort"
   ]
  },
  {
   "cell_type": "markdown",
   "metadata": {},
   "source": [
    "**Bubble sort** is a simple sorting algorithm that repeatedly steps through the list to be sorted, compares each *pair* of *adjacent items*, and *swaps* them if they are in the wrong order. The pass through the list is repeated until the list is sorted. \n",
    "\n",
    "It is called \"bubble\" sort because smaller elements gradually \"bubble\" to the top of the list. Similarly to **selection sort**, it is not efficient for large lists and is generally not used in practice for sorting large datasets due to its slow performance. However, studying bubble sort can be beneficial for understanding sorting concepts and the basics of algorithmic design."
   ]
  },
  {
   "cell_type": "markdown",
   "metadata": {},
   "source": [
    "In every iteration of our algorithm, we will be comparing pairs of elements. If the first element is smaller than the second element, we do not perform any swaps as the number is in order. If the first element is bigger than the second element, we swap the elements. \n",
    "\n",
    "Let's visualize how **bubble-sort** works. "
   ]
  },
  {
   "cell_type": "markdown",
   "metadata": {},
   "source": [
    "<div align=\"center\">\n",
    "Initial List: [0, 9, 3, 7, 4]\n",
    "</div>"
   ]
  },
  {
   "cell_type": "markdown",
   "metadata": {},
   "source": [
    "In the visualization below, <span style=\"color: red;\">red</span> represents elements that are being compared, <span style=\"color: blue;\">blue</span> represents elements being swapped, and <span style=\"color: green;\">green</span> represents elements in the list that are sorted.\n"
   ]
  },
  {
   "cell_type": "markdown",
   "metadata": {},
   "source": [
    "### Pass 1.\n",
    "\n",
    "- [<span style=\"color:red\">0, 9</span>, 3, 7, 4] ---> **Elements Compared** = 0, 9\n",
    "  \n",
    "- [0, <span style=\"color:red\">9, 3</span>, 7, 4] ---> **Elements Compared** = 9, 3\n",
    "  \n",
    "- [0, <span style=\"color:blue\">3, 9</span>, 7, 4] ---> **Elements Swapped** = 3, 9\n",
    "\n",
    "- [0, 3, <span style=\"color:red\">9, 7</span>, 4] ---> **Elements Compared** = 9, 7\n",
    "\n",
    "- [0, 3, <span style=\"color:blue\">7, 9</span>, 4] ---> **Elements Swapped** = 7, 9\n",
    "\n",
    "- [0, 3, 7, <span style=\"color:red\">9, 4</span>] ---> **Elements Compared** = 9, 4\n",
    "\n",
    "- [0, 3, 7, <span style=\"color:blue\">4, 9</span>] ---> **Elements Swapped** = 4, 9\n",
    "\n",
    "- Sorted: [0, 3, 7, 4, <span style=\"color:green\">9</span>]"
   ]
  },
  {
   "cell_type": "markdown",
   "metadata": {},
   "source": [
    "### Pass 2.\n",
    "\n",
    "- [<span style=\"color:red\">0, 3</span>, 7, 4, <span style=\"color:green\">9</span>] ---> **Elements Compared** = 0, 3\n",
    "\n",
    "- [0, <span style=\"color:red\">3, 7</span>, 4, <span style=\"color:green\">9</span>] ---> **Elements Compared** = 3, 7\n",
    "\n",
    "- [0, 3, <span style=\"color:red\">7, 4</span>, <span style=\"color:green\">9</span>] ---> **Elements Compared** = 7, 4\n",
    "\n",
    "- [0, 3, <span style=\"color:blue\">4, 7</span>, <span style=\"color:green\">9</span>] ---> **Elements Swapped** = 4, 7\n",
    "\n",
    "- Sorted: [0, 3, 4, <span style=\"color:green\">7, 9</span>] "
   ]
  },
  {
   "cell_type": "markdown",
   "metadata": {},
   "source": [
    "### Pass 3.\n",
    "\n",
    "- [<span style=\"color:red\">0, 3</span>, 4, <span style=\"color:green\">7, 9</span>] --> **Elements Compared** = 0, 3\n",
    "\n",
    "- [0, <span style=\"color:red\">3, 4, </span> <span style=\"color:green\">7, 9</span>] --> **Elements Compared** = 3, 4\n",
    "\n",
    "- Sorted: [0, 3, <span style=\"color:green\">4, 7, 9</span>] "
   ]
  },
  {
   "cell_type": "markdown",
   "metadata": {},
   "source": [
    "### Pass 4.\n",
    "\n",
    "- [<span style=\"color:red\">0, 3</span>, <span style=\"color:green\">4, 7, 9</span>] --> **Elements Compared** = 0, 3\n",
    "\n",
    "- Sorted: [<span style=\"color:green\">0, 3, 4, 7, 9</span>] "
   ]
  },
  {
   "cell_type": "markdown",
   "metadata": {},
   "source": [
    "Now, create your own implementation of bubble-sort based using the hints provided below.\n",
    "\n",
    "**Note**: There are additional hints showing the actual code blocks provided further below as well."
   ]
  },
  {
   "cell_type": "markdown",
   "metadata": {},
   "source": [
    "- Start with a list of items to be sorted.\n",
    "- Compare each pair of adjacent items in the list.\n",
    "- If the items are in the wrong order, swap them.\n",
    "- Repeat this process for each element in the list until the entire list is sorted."
   ]
  },
  {
   "cell_type": "code",
   "execution_count": null,
   "metadata": {},
   "outputs": [],
   "source": [
    "def bubble_sort(arr):\n",
    "    # TODO: Iterate over the elements in the array\n",
    "    \n",
    "        # TODO: Create a second loop to compare the adjacent elements\n",
    "\n",
    "            # TODO: Compare the adjacent elements\n",
    "\n",
    "                # TODO: Swap the elements if the first element is greater than the second\n",
    "    \n",
    "    # Return the sorted list\n",
    "    return arr"
   ]
  },
  {
   "cell_type": "markdown",
   "metadata": {},
   "source": [
    "<details>\n",
    "<summary>Click here for code hints for the first 2 TODOs</summary>\n",
    "\n",
    "```python\n",
    "    for i in range(len(arr)):\n",
    "        for j in range(0, len(arr)-i-1):"
   ]
  },
  {
   "cell_type": "markdown",
   "metadata": {},
   "source": [
    "<details>\n",
    "<summary>Click here for code hints for the last 2 TODOs</summary>\n",
    "\n",
    "```python\n",
    "if arr[j] > arr[j+1]:\n",
    "    arr[j], arr[j+1] = arr[j+1], arr[j]"
   ]
  },
  {
   "cell_type": "code",
   "execution_count": null,
   "metadata": {},
   "outputs": [],
   "source": [
    "def test_bubble_sort():\n",
    "    all_good = True \n",
    "    \n",
    "    # Test case 1: Unsorted list\n",
    "    arr1 = [64, 25, 12, 22, 11]\n",
    "    sorted_arr1 = bubble_sort(arr1)\n",
    "    if sorted_arr1 != [11, 12, 22, 25, 64]:\n",
    "        print(f\"Test case 1 failed: Expected [11, 12, 22, 25, 64], but got {sorted_arr1}\")\n",
    "        all_good = False\n",
    "\n",
    "    # Test case 2: Already sorted list\n",
    "    arr2 = [1, 2, 3, 4, 5]\n",
    "    sorted_arr2 = bubble_sort(arr2)\n",
    "    if sorted_arr2 != [1, 2, 3, 4, 5]:\n",
    "        print(f\"Test case 2 failed: Expected [1, 2, 3, 4, 5], but got {sorted_arr2}\")\n",
    "        all_good = False\n",
    "\n",
    "    # Test case 3: List with negative numbers\n",
    "    arr3 = [0, -1, -4, 3, -2]\n",
    "    sorted_arr3 = bubble_sort(arr3)\n",
    "    if sorted_arr3 != [-4, -2, -1, 0, 3]:\n",
    "        print(f\"Test case 3 failed: Expected [-4, -2, -1, 0, 3], but got {sorted_arr3}\")\n",
    "        all_good = False\n",
    "        \n",
    "    # Test case 4: List with duplicate elements\n",
    "    arr4 = [5, 5, 4, 3, 2, 1]\n",
    "    sorted_arr4 = bubble_sort(arr4)\n",
    "    if sorted_arr4 != [1, 2, 3, 4, 5, 5]:\n",
    "        print(f\"Test case 4 failed: Expected [1, 2, 3, 4, 5, 5], but got {sorted_arr4}\")\n",
    "        all_good = False\n",
    "    \n",
    "    if all_good:\n",
    "        print(\"All test cases passed!\")\n",
    "\n",
    "test_bubble_sort()"
   ]
  },
  {
   "cell_type": "markdown",
   "metadata": {},
   "source": [
    "## Problem-Solving: Debugging\n",
    "\n",
    "**Debugging** is a crucial aspect of the software development process that involves identifying and fixing errors or bugs in a program's code. It is an often neglected skill that can significantly impact the efficiency, reliability, and effectiveness of software. Understanding common types of bugs, such as syntax errors, logical errors, and human/typographical errors is crucial to successful debugging.\n",
    "\n",
    "Let's go through a simple debugging example by solving a coding problem, **\"Contains Duplicate\"**. Here is a quick problem description:\n",
    "\n",
    "<div style=\"background-color: #1E90FF; color: #FFFFFF; border: 1px solid #000080; border-left: 5px solid #000080; padding: 10px;\">\n",
    "    <strong>Problem Description: Contains Duplicate</strong>\n",
    "    <p style=\"margin-top: 10px;\">\n",
    "        Given a list of integers <i>nums</i>, determine whether there are any duplicate values in the list. Return <i>true</i> if any value appears at least twice, and <i>false</i> if every element is distinct.\n",
    "    </p>\n",
    "</div>"
   ]
  },
  {
   "cell_type": "markdown",
   "metadata": {},
   "source": [
    "```python\n",
    "def contains_duplicate_error(arr):\n",
    "    hashset = set()\n",
    "    for element in arr:\n",
    "        if element in hashset:  \n",
    "            hashset.add(element)  ---> Error \n",
    "        else:\n",
    "            return False ---> Error\n",
    "    return True  ---> Error"
   ]
  },
  {
   "cell_type": "markdown",
   "metadata": {},
   "source": [
    "Given this example, fix the errors in the `contains_duplicate_error` function using the pre-made `contains_duplicate_proper` function below. \n",
    "\n",
    "Note: If you are unfamiliar with what a **set** is, you can find more about them [here](https://www.w3schools.com/python/python_sets.asp)."
   ]
  },
  {
   "cell_type": "code",
   "execution_count": null,
   "metadata": {},
   "outputs": [],
   "source": [
    "def contains_duplicate_proper(arr):\n",
    "    # Write your code here --> delete the pass line below when you start coding\n",
    "    \n",
    "    pass # <--- delete this line when you create your code"
   ]
  },
  {
   "cell_type": "markdown",
   "metadata": {},
   "source": [
    "Using the tests below, see if your debugged `contains_duplicate_proper` is working!"
   ]
  },
  {
   "cell_type": "code",
   "execution_count": null,
   "metadata": {},
   "outputs": [],
   "source": [
    "def contains_dup_tests():\n",
    "    all_good = True \n",
    "    # Test Case 1: No duplicate elements\n",
    "    arr1 = [1, 2, 3, 4, 5]\n",
    "\n",
    "    if contains_duplicate_proper(arr1) != False:\n",
    "        all_good = False\n",
    "        print(f\"Test Case 1 Failed!, Supposed to be False, output was {contains_duplicate_proper(arr1)}\")  \n",
    "\n",
    "    # Test Case 2: Contains duplicate elements\n",
    "    arr2 = [1, 2, 3, 2, 4, 5]\n",
    "    if contains_duplicate_proper(arr2) != True:\n",
    "        all_good = False\n",
    "        print(\"Test Case 2 Failed!, Supposed to be True, output was\", contains_duplicate_proper(arr2))\n",
    "\n",
    "    # Test Case 3: Empty list\n",
    "    arr3 = []\n",
    "    if contains_duplicate_proper(arr3) != False:\n",
    "        all_good = False\n",
    "        print(\"Test Case 3 Failed!, Supposed to be False, output was\", contains_duplicate_proper(arr3))\n",
    "\n",
    "    if all_good:\n",
    "        print(\"All test cases passed!\")\n",
    "\n",
    "contains_dup_tests()"
   ]
  },
  {
   "cell_type": "markdown",
   "metadata": {},
   "source": [
    "### Time Complexity of Bubble Sort\n",
    "\n",
    "**Best Case Scenario**: If the list is already sorted, then the best case time complexity of bubble sort is O(n), where n is the number of elements. This is because the algorithm will only need to pass through the list once without any swaps. \n",
    "\n",
    "**Worst Case Time Complexity**: The worst case occurs when the list is in *reverse-order*. In this scenario, the time complexity is O(n²), where n is the number of elements. This is because on each pass, we have the swap every element in the list as each element will be of lower-value to it's right element. "
   ]
  },
  {
   "cell_type": "markdown",
   "metadata": {},
   "source": [
    "## Extended Sorting: Insertion Sort\n",
    "\n",
    "Next, we'll be exploring another algorithm called **insertion sort**. Similar to our other sorting algorithms, this sorting algorithm also works by forming *sorted* and *unsorted* partitions. However, in this algorithm we'll be working left to right. Specifically, this works by examining each element and compare it to the elements on its left. By doing so, we can insert the element in the correct position in the list.\n",
    "\n",
    "Similarly, we will create a visualization of how insertion sort works."
   ]
  },
  {
   "cell_type": "markdown",
   "metadata": {},
   "source": [
    "<div align=\"center\">\n",
    "Initial List: [6, 2, 9, 8, 1, 5]\n",
    "</div>"
   ]
  },
  {
   "cell_type": "markdown",
   "metadata": {},
   "source": [
    "### Iteration 1:\n",
    "\n",
    "In our first pass, since we are at our first index, there are no elements to check to the left of index 0. This means that no matter what, the first element is automatically sorted. "
   ]
  },
  {
   "cell_type": "markdown",
   "metadata": {},
   "source": [
    "<table>\n",
    "  <tr>\n",
    "    <td>\n",
    "      <img src=\"./images/insertionsort0.png\" alt=\"Image 1\" style=\"max-width:100%;\">\n",
    "    </td>\n",
    "    <td>\n",
    "      <img src=\"./images/insertionsort1.png\" alt=\"Image 2\" style=\"max-width:100%;\">\n",
    "    </td>\n",
    "  </tr>\n",
    "</table>"
   ]
  },
  {
   "cell_type": "markdown",
   "metadata": {},
   "source": [
    "### Iteration 2:\n",
    "\n",
    "We can start to see how our algorithm really works starting in the second pass. Now we are at index 1 (2nd element) and check if 2 is less than 6, which is true. We then swap the elements. "
   ]
  },
  {
   "cell_type": "markdown",
   "metadata": {},
   "source": [
    "<table>\n",
    "  <tr>\n",
    "    <td>\n",
    "      <img src=\"./images/insertionsort2.png\" alt=\"Image 1\" style=\"max-width:100%;\">\n",
    "    </td>\n",
    "    <td>\n",
    "      <img src=\"./images/insertionsort3.png\" alt=\"Image 2\" style=\"max-width:100%;\">\n",
    "    </td>\n",
    "    <td>\n",
    "      <img src=\"./images/insertionsort4.png\" alt=\"Image 2\" style=\"max-width:100%;\">\n",
    "    </td>\n",
    "  </tr>\n",
    "</table>"
   ]
  },
  {
   "cell_type": "markdown",
   "metadata": {},
   "source": [
    "### Iteration 3:\n",
    "\n",
    "In the third pass we check if the element at index 2 (3rd element) is less than the element at the previous index. Since 9 is greater than 6, we keep 9 in its current index."
   ]
  },
  {
   "cell_type": "markdown",
   "metadata": {},
   "source": [
    "<table>\n",
    "  <tr>\n",
    "    <td>\n",
    "      <img src=\"./images/insertionsort5.png\" alt=\"Image 1\" style=\"max-width:100%;\">\n",
    "    </td>\n",
    "    <td>\n",
    "      <img src=\"./images/insertionsort6.png\" alt=\"Image 2\" style=\"max-width:100%;\">\n",
    "    </td>\n",
    "  </tr>\n",
    "</table>"
   ]
  },
  {
   "cell_type": "markdown",
   "metadata": {},
   "source": [
    "### Iteration 4:\n",
    "\n",
    "In the fourth pass we check if the element at index 3 (4th element) is less than the element at the previous index. Since 8 is less than 9, we swap the elements. We continue checking to see if there are any elements greater than 8. Since 6 is greater than 8, we keep 8 in its new index and stop swapping.  "
   ]
  },
  {
   "cell_type": "markdown",
   "metadata": {},
   "source": [
    "<table>\n",
    "  <tr>\n",
    "    <td>\n",
    "      <img src=\"./images/insertionsort7.png\" alt=\"Image 1\" style=\"max-width:100%;\">\n",
    "    </td>\n",
    "    <td>\n",
    "      <img src=\"./images/insertionsort8.png\" alt=\"Image 2\" style=\"max-width:100%;\">\n",
    "    </td>\n",
    "    <td>\n",
    "      <img src=\"./images/insertionsort9.png\" alt=\"Image 2\" style=\"max-width:100%;\">\n",
    "    </td>\n",
    "    <td>\n",
    "      <img src=\"./images/insertionsort10.png\" alt=\"Image 2\" style=\"max-width:100%;\">\n",
    "    </td>\n",
    "  </tr>\n",
    "</table>"
   ]
  },
  {
   "cell_type": "markdown",
   "metadata": {},
   "source": [
    "### Iteration 5:\n",
    "\n",
    "In the fifth pass we check if the element at index 4 (5th element) is less than the element at the previous index. Since 1 is less than 9, we swap the elements. We continue checking to see if there are any elements greater than 1, which in this case is all elements. As a result, we continue to swap 1 with the elements in previous indices until it is at the 0th index. "
   ]
  },
  {
   "cell_type": "markdown",
   "metadata": {},
   "source": [
    "<table>\n",
    "  <tr>\n",
    "    <td>\n",
    "      <img src=\"./images/insertionsort11.png\" alt=\"Image 1\" style=\"max-width:100%;\">\n",
    "    </td>\n",
    "    <td>\n",
    "      <img src=\"./images/insertionsort12.png\" alt=\"Image 2\" style=\"max-width:100%;\">\n",
    "    </td>\n",
    "    <td>\n",
    "      <img src=\"./images/insertionsort13.png\" alt=\"Image 2\" style=\"max-width:100%;\">\n",
    "    </td>\n",
    "  </tr>\n",
    "</table>\n",
    "\n",
    "<table>\n",
    "  <tr>\n",
    "    <td>\n",
    "      <img src=\"./images/insertionsort14.png\" alt=\"Image 1\" style=\"max-width:100%;\">\n",
    "    </td>\n",
    "    <td>\n",
    "      <img src=\"./images/insertionsort15.png\" alt=\"Image 2\" style=\"max-width:100%;\">\n",
    "    </td>\n",
    "    <td>\n",
    "      <img src=\"./images/insertionsort16.png\" alt=\"Image 2\" style=\"max-width:100%;\">\n",
    "    </td>\n",
    "    <td>\n",
    "      <img src=\"./images/insertionsort17.png\" alt=\"Image 2\" style=\"max-width:100%;\">\n",
    "    </td>\n",
    "  </tr>\n",
    "</table>"
   ]
  },
  {
   "cell_type": "markdown",
   "metadata": {},
   "source": [
    "### Iteration 6:\n",
    "\n",
    "In the sixth and final pass we check if the element at index 5 (6th element) is less than the element at the previous index. Since 5 is less than 9, we swap the elements. We continue checking to see if there are any elements greater than 5 and swap accordingly, which is true for elements 8 and 6. This slots 5 at the 2nd index. \n",
    "\n",
    "Since we are at our last index, we finish our sorting. "
   ]
  },
  {
   "cell_type": "markdown",
   "metadata": {},
   "source": [
    "<table>\n",
    "  <tr>\n",
    "    <td>\n",
    "      <img src=\"./images/insertionsort18.png\" alt=\"Image 1\" style=\"max-width:100%;\">\n",
    "    </td>\n",
    "    <td>\n",
    "      <img src=\"./images/insertionsort19.png\" alt=\"Image 2\" style=\"max-width:100%;\">\n",
    "    </td>\n",
    "    <td>\n",
    "      <img src=\"./images/insertionsort20.png\" alt=\"Image 2\" style=\"max-width:100%;\">\n",
    "    </td>\n",
    "  </tr>\n",
    "</table>\n",
    "\n",
    "<table>\n",
    "  <tr>\n",
    "    <td>\n",
    "      <img src=\"./images/insertionsort21.png\" alt=\"Image 1\" style=\"max-width:100%;\">\n",
    "    </td>\n",
    "    <td>\n",
    "      <img src=\"./images/insertionsort22.png\" alt=\"Image 2\" style=\"max-width:100%;\">\n",
    "    </td>\n",
    "    <td>\n",
    "      <img src=\"./images/insertionsort23.png\" alt=\"Image 2\" style=\"max-width:100%;\">\n",
    "    </td>\n",
    "  </tr>\n",
    "</table>"
   ]
  }
 ],
 "metadata": {
  "kernelspec": {
   "display_name": "Python 3",
   "language": "python",
   "name": "python3"
  },
  "language_info": {
   "codemirror_mode": {
    "name": "ipython",
    "version": 3
   },
   "file_extension": ".py",
   "mimetype": "text/x-python",
   "name": "python",
   "nbconvert_exporter": "python",
   "pygments_lexer": "ipython3",
   "version": "3.10.8"
  }
 },
 "nbformat": 4,
 "nbformat_minor": 2
}
