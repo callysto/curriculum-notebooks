{
 "cells": [
  {
   "cell_type": "markdown",
   "metadata": {},
   "source": [
    "# CSE3110: Iterative Algorithms 1\n",
    "\n",
    "### Note: This is the second-notebook in the iterative-algorithm notebook series. \n",
    "If you have not completed the first notebook, it can be found [here](./iterative-algorithms.ipynb). \n",
    "\n",
    "*[Alberta Education Learning Outcomes-Business, Administration, Finance & Information Technology (BIT)](https://education.alberta.ca/media/159479/cse_pos.pdf)*\n",
    "\n",
    "*Computer Science-Page 25*\n",
    "\n",
    "\n",
    "*Prerequisite: [CSE2120: Data Structures 1](data-structures-1.ipynb)*\n",
    "\n",
    "***\n",
    "\n",
    "Students learn a number of standard iterative data processing algorithms\n",
    "useful for working with data structures such as arrays. These include an\n",
    "iterative version of the binary search, the three basic sorts—exchange\n",
    "(bubble), insertion and selection, and a simple merge. In the process, they\n",
    "learn when and where to apply these algorithms. "
   ]
  },
  {
   "cell_type": "markdown",
   "metadata": {},
   "source": [
    "The student will:\n",
    "\n",
    "1.  analyze and represent the nature, structure and utility of common iterative algorithms\n",
    "    1. compare and contrast search, sort and merge algorithms\n",
    "    1. explain the way in which search, sort and merge algorithms manipulate data\n",
    "    1. describe the data structures required by search, sort and merge algorithms\n",
    "    1. describe how search, sort and merge algorithms are implemented in a programming environment\n",
    "    1. describe and represent iterative search algorithms including:\n",
    "       1. linear search\n",
    "        1. binary search\n",
    "        2. compare and contrast how linear and binary searches manipulate data\n",
    "        3. compare and contrast the data structures required and the computational efficiencies of linear and binary searches\n",
    "    1. describe and represent basic iterative sort algorithms including:\n",
    "        1. exchange sort; e.g., bubble sort, cocktail sort, gnome sort, comb sort\n",
    "        2. selection sort; e.g., selection sort, strand sort\n",
    "        3. insertion sort; e.g., insertion sort, library sort\n",
    "        4. comparing and contrasting how different classes of sorts manipulate data\n",
    "        5. comparing and contrasting the data structures required and the computational efficiencies of different classes of sorts\n",
    "    1. describe and represent simple iterative merge algorithms\n",
    "<br><br>\n",
    "1. create and/or modify algorithms that use searches, sorts and merges to solve problems\n",
    "   1. demonstrate the use of appropriate general design techniques for the programming environment being considered for implementation\n",
    "   2. analyze and decompose the problem into appropriate subsections using the decomposition techniques appropriate for the chosen design approach\n",
    "   3. evaluate subsections and identify any that may require some type of search, sort and/or merge algorithm, based on the nature of the data to be processed and the type of processing operations\n",
    "   4. identify which algorithms are appropriate or required to search, sort and/or merge data\n",
    "   5. sequence the various subsections appropriately\n",
    "   6. test and modify the developing algorithm with appropriate data using a “fail-on-paper” process\n",
    "<br><br>\n",
    "1. create and/or modify programs that use searches, sorts and merges to solve problems\n",
    "   1. convert algorithms calling for standard iterative structures into programs that reflect the algorithm’s design\n",
    "   2. use original (user-created) or pre-existing search, sort and/or merge algorithms appropriate to the data being manipulated\n",
    "   3. utilize the appropriate operators, methods, functions or procedures required to carry out the standard algorithms\n",
    "   4. use internal and external documentation\n",
    "<br><br>\n",
    "4. compare program operation and outcomes with the intent of the algorithm and modify, as required\n",
    "   1. use appropriate error-trapping mechanisms built into the programming environment, as well as programmer-directed error-trapping techniques, to eliminate logic errors and debug the program\n",
    "   2. compare the congruency between the outcomes of the debugged program and the original intent of the algorithm and modify both, as required\n",
    "<br><br>\n",
    "5. demonstrate basic competencies\n",
    "   1. demonstrate fundamental skills to:\n",
    "      1. communicate\n",
    "      2. manage information\n",
    "      3. use numbers\n",
    "      4. think and solve problems\n",
    "   2. demonstrate personal management skills to:\n",
    "      1. demonstrate positive attitudes and behaviours\n",
    "      2. be responsible\n",
    "      3. be adaptable\n",
    "      4. learn continuously\n",
    "      5.  work safely\n",
    "   3. demonstrate teamwork skills to:\n",
    "      1. work with others\n",
    "      2. participate in projects and tasks\n",
    "<br><br>\n",
    "6. create a transitional strategy to accommodate personal changes and build personal values\n",
    "   1. identify short-term and long-term goals\n",
    "   2. identify steps to achieve goals"
   ]
  },
  {
   "cell_type": "markdown",
   "metadata": {},
   "source": [
    "## Extended Sorting: Bubble Sort"
   ]
  },
  {
   "cell_type": "markdown",
   "metadata": {},
   "source": [
    "**Bubble sort** is a simple sorting algorithm that repeatedly steps through the list to be sorted, compares each *pair* of *adjacent items*, and *swaps* them if they are in the wrong order. The pass through the list is repeated until the list is sorted. \n",
    "\n",
    "It is called \"bubble\" sort because smaller elements gradually \"bubble\" to the top of the list. Similarly to **selection sort**, it is not efficient for large lists and is generally not used in practice for sorting large datasets due to its slow performance. However, studying bubble sort can be beneficial for understanding sorting concepts and the basics of algorithmic design."
   ]
  },
  {
   "cell_type": "markdown",
   "metadata": {},
   "source": [
    "In every iteration of our algorithm, we will be comparing pairs of elements. If the first element is smaller than the second element, we do not perform any swaps as the number is in order. If the first element is bigger than the second element, we swap the elements. \n",
    "\n",
    "Let's visualize how **bubble-sort** works. "
   ]
  },
  {
   "cell_type": "markdown",
   "metadata": {},
   "source": [
    "<div align=\"center\">\n",
    "Initial List: [0, 9, 3, 7, 4]\n",
    "</div>"
   ]
  },
  {
   "cell_type": "markdown",
   "metadata": {},
   "source": [
    "In the visualization below, <span style=\"color: red;\">red</span> represents elements that are being compared, <span style=\"color: blue;\">blue</span> represents elements being swapped, and <span style=\"color: green;\">green</span> represents elements in the list that are sorted.\n"
   ]
  },
  {
   "cell_type": "markdown",
   "metadata": {},
   "source": [
    "### Pass 1.\n",
    "\n",
    "- [<span style=\"color:red\">0, 9</span>, 3, 7, 4] ---> **Elements Compared** = 0, 9\n",
    "  \n",
    "- [0, <span style=\"color:red\">9, 3</span>, 7, 4] ---> **Elements Compared** = 9, 3\n",
    "  \n",
    "- [0, <span style=\"color:blue\">3, 9</span>, 7, 4] ---> **Elements Swapped** = 3, 9\n",
    "\n",
    "- [0, 3, <span style=\"color:red\">9, 7</span>, 4] ---> **Elements Compared** = 9, 7\n",
    "\n",
    "- [0, 3, <span style=\"color:blue\">7, 9</span>, 4] ---> **Elements Swapped** = 7, 9\n",
    "\n",
    "- [0, 3, 7, <span style=\"color:red\">9, 4</span>] ---> **Elements Compared** = 9, 4\n",
    "\n",
    "- [0, 3, 7, <span style=\"color:blue\">4, 9</span>] ---> **Elements Swapped** = 4, 9\n",
    "\n",
    "- Sorted: [0, 3, 7, 4, <span style=\"color:green\">9</span>]"
   ]
  },
  {
   "cell_type": "markdown",
   "metadata": {},
   "source": [
    "### Pass 2.\n",
    "\n",
    "- [<span style=\"color:red\">0, 3</span>, 7, 4, <span style=\"color:green\">9</span>] ---> **Elements Compared** = 0, 3\n",
    "\n",
    "- [0, <span style=\"color:red\">3, 7</span>, 4, <span style=\"color:green\">9</span>] ---> **Elements Compared** = 3, 7\n",
    "\n",
    "- [0, 3, <span style=\"color:red\">7, 4</span>, <span style=\"color:green\">9</span>] ---> **Elements Compared** = 7, 4\n",
    "\n",
    "- [0, 3, <span style=\"color:blue\">4, 7</span>, <span style=\"color:green\">9</span>] ---> **Elements Swapped** = 4, 7\n",
    "\n",
    "- Sorted: [0, 3, 4, <span style=\"color:green\">7, 9</span>] "
   ]
  },
  {
   "cell_type": "markdown",
   "metadata": {},
   "source": [
    "### Pass 3.\n",
    "\n",
    "- [<span style=\"color:red\">0, 3</span>, 4, <span style=\"color:green\">7, 9</span>] --> **Elements Compared** = 0, 3\n",
    "\n",
    "- [0, <span style=\"color:red\">3, 4, </span> <span style=\"color:green\">7, 9</span>] --> **Elements Compared** = 3, 4\n",
    "\n",
    "- Sorted: [0, 3, <span style=\"color:green\">4, 7, 9</span>] "
   ]
  },
  {
   "cell_type": "markdown",
   "metadata": {},
   "source": [
    "### Pass 4.\n",
    "\n",
    "- [<span style=\"color:red\">0, 3</span>, <span style=\"color:green\">4, 7, 9</span>] --> **Elements Compared** = 0, 3\n",
    "\n",
    "- Sorted: [<span style=\"color:green\">0, 3, 4, 7, 9</span>] "
   ]
  },
  {
   "cell_type": "markdown",
   "metadata": {},
   "source": [
    "Now, create your own implementation of bubble-sort based using the hints provided below."
   ]
  },
  {
   "cell_type": "markdown",
   "metadata": {},
   "source": [
    "- Start with a list of items to be sorted.\n",
    "- Compare each pair of adjacent items in the list.\n",
    "- If the items are in the wrong order, swap them.\n",
    "- Repeat this process for each element in the list until the entire list is sorted."
   ]
  },
  {
   "cell_type": "code",
   "execution_count": null,
   "metadata": {},
   "outputs": [],
   "source": [
    "def bubble_sort(arr):\n",
    "    for i in range(len(arr)):\n",
    "        for j in range(0, len(arr) - i - 1):\n",
    "            if arr[j] > arr[j + 1]:\n",
    "                arr[j], arr[j + 1] = arr[j + 1], arr[j]\n",
    "    return arr"
   ]
  }
 ],
 "metadata": {
  "kernelspec": {
   "display_name": "Python 3",
   "language": "python",
   "name": "python3"
  },
  "language_info": {
   "codemirror_mode": {
    "name": "ipython",
    "version": 3
   },
   "file_extension": ".py",
   "mimetype": "text/x-python",
   "name": "python",
   "nbconvert_exporter": "python",
   "pygments_lexer": "ipython3",
   "version": "3.10.8"
  }
 },
 "nbformat": 4,
 "nbformat_minor": 2
}
