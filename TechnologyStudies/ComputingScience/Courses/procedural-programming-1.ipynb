{
 "cells": [
  {
   "attachments": {},
   "cell_type": "markdown",
   "metadata": {},
   "source": [
    "![Callysto.ca Banner](https://github.com/callysto/curriculum-notebooks/blob/master/callysto-notebook-banner-top.jpg?raw=true)\n",
    "\n",
    "<a href=\"https://hub.callysto.ca/jupyter/hub/user-redirect/git-pull?repo=https%3A%2F%2Fgithub.com%2Fcallysto%2Fcurriculum-notebooks&branch=master&subPath=TechnologyStudies/ComputingScience/Courses/procedural-programming-1.ipynb&depth=1\"><img src=\"https://raw.githubusercontent.com/callysto/curriculum-notebooks/master/open-in-callysto-button.svg?sanitize=true\" width=\"123\" height=\"24\" alt=\"Open in Callysto\"/></a>"
   ]
  },
  {
   "attachments": {},
   "cell_type": "markdown",
   "metadata": {},
   "source": [
    "# CSE2110: Procedural Programming 1\n",
    "\n",
    "Students develop their understanding of the procedural programming paradigm. They move from a structured programming approach in which modules were handled through the use of program blocks to a more formal modular programming approach in which they are handled through subprograms. In the process, students also learn to use a number of new design approaches made possible by the new paradigms. As part of this process, they also learn what types of problems are amenable to modular algorithms and programs.\n",
    "\n",
    "*Prerequisite: [CSE1120: Structured Programming 2](structured-programming-2.ipynb)*\n",
    "\n"
   ]
  },
  {
   "attachments": {},
   "cell_type": "markdown",
   "metadata": {},
   "source": [
    "Outcomes: The student will:\n",
    "\n",
    "1. demonstrate an understanding of modular programming\n",
    "    1. describe the advantages of programming with modules or subroutines including:\n",
    "        1. reducing the duplication of code in a program\n",
    "        2. enabling the reuse of code in more than one program\n",
    "        3. decomposing complex problems into simpler pieces to improve maintainability and extendibility\n",
    "        4. improving the readability of a program\n",
    "        5. hiding or protecting the program data\n",
    "    2. select a programming environment and describe how it supports procedural programming including:\n",
    "        1. the type of subprograms supported; e.g., procedures, functions, methods\n",
    "        2. the level or type of modularity provided\n",
    "        3. the level of protection provided from unwanted side-effects\n",
    "<br><br>\n",
    "2. demonstrate basic procedural programming skills by writing algorithms employing a modular approach to solve problems\n",
    "    1. analyze a data processing problem and use a top-down design approach to decompose it into discreet input, processing and output modules\n",
    "    2. analyze and refine modules into submodules that are a manageable size for each process; e.g., input submodules, processing submodules and output submodules\n",
    "    3. describe and represent, using pseudocode or an appropriate diagramming approach, the relationship among the modules\n",
    "    4. analyze and rewrite algorithms for each module identifying the pre- and post-conditions and required program control of flow mechanisms.\n",
    "    5. analyze and evaluate algorithms for each developing module with appropriate data and revise, as required\n",
    "<br><br>\n",
    "3. translate algorithms into source code, convert the source code into machine executable form, execute and debug, as required\n",
    "    1. convert an algorithm into a program of linked subprograms with a main or client module calling other modules in a manner that reflects the structure of the algorithm\n",
    "    2. use appropriate types of subprograms to implement the various sections of the algorithm; e.g., functions (subprograms that return a value) and procedures (subprograms that do not return a value)\n",
    "    3. analyze and determine the type of scope required to protect and/or hide data and keep implementation decoupled from the calling modules and to avoid unwanted side-effects with consideration to:\n",
    "        1. use of appropriate parameters for importing and exporting data to and from subprograms\n",
    "        2. use of local variables and nested subprograms to enhance cohesion\n",
    "        3. one- and two-way parameter passing for importing and exporting data to and from subprograms\n",
    "    4. analyze for, and maintain, an appropriate balance between the coupling or dependency and cohesion or focus of subprograms\n",
    "    5. create both internal and external documentation\n",
    "    6. analyze the program and eliminate syntax, run-time and logic errors by using appropriate test data for each programming task at each stage of development\n",
    "<br><br>\n",
    "4. compare the results of the program with the intent of the algorithm and modify, as required\n",
    "    1. use appropriate error trapping mechanisms built into the programming environment, as well as programmer-directed error-trapping techniques, to eliminate logic errors and debug the program\n",
    "    2. compare the congruency between the outcomes of the debugged program and the original intent of the algorithm and modify, as required\n",
    "<br><br>\n",
    "5. demonstrate basic competencies\n",
    "    1. demonstrate fundamental skills to:\n",
    "        1. communicate\n",
    "        2. manage information\n",
    "        3. use numbers\n",
    "        4. think and solve problems\n",
    "    2. demonstrate personal management skills to:\n",
    "        1. demonstrate positive attitudes and behaviours\n",
    "        2. be responsible\n",
    "        3. be adaptable\n",
    "        4. learn continuously\n",
    "        5. work safely\n",
    "    3. demonstrate teamwork skills to:\n",
    "        1. work with others\n",
    "        2. participate in projects and tasks\n",
    "<br><br>\n",
    "6. identify possible life roles related to the skills and content of this cluster\n",
    "    1. recognize and then analyze the opportunities and barriers in the immediate environment\n",
    "    2. identify potential resources to minimize barriers and maximize opportunities"
   ]
  },
  {
   "attachments": {},
   "cell_type": "markdown",
   "metadata": {},
   "source": [
    "[![Callysto.ca License](https://github.com/callysto/curriculum-notebooks/blob/master/callysto-notebook-banner-bottom.jpg?raw=true)](https://github.com/callysto/curriculum-notebooks/blob/master/LICENSE.md)"
   ]
  }
 ],
 "metadata": {
  "language_info": {
   "name": "python"
  },
  "orig_nbformat": 4
 },
 "nbformat": 4,
 "nbformat_minor": 2
}
