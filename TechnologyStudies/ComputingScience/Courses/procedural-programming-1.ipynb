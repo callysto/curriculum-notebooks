{
 "cells": [
  {
   "cell_type": "markdown",
   "metadata": {},
   "source": [
    "![Callysto.ca Banner](https://github.com/callysto/curriculum-notebooks/blob/master/callysto-notebook-banner-top.jpg?raw=true)\n",
    "\n",
    "<a href=\"https://hub.callysto.ca/jupyter/hub/user-redirect/git-pull?repo=https%3A%2F%2Fgithub.com%2Fcallysto%2Fcurriculum-notebooks&branch=master&subPath=TechnologyStudies/ComputingScience/Courses/procedural-programming-1.ipynb&depth=1\"><img src=\"https://raw.githubusercontent.com/callysto/curriculum-notebooks/master/open-in-callysto-button.svg?sanitize=true\" width=\"123\" height=\"24\" alt=\"Open in Callysto\"/></a>"
   ]
  },
  {
   "cell_type": "markdown",
   "metadata": {},
   "source": [
    "# CSE2110: Procedural Programming 1\n",
    "\n",
    "*[Alberta Education Learning Outcomes-Business, Administration, Finance & Information Technology (BIT)](https://education.alberta.ca/media/159479/cse_pos.pdf)*\n",
    "\n",
    "*Computer Science-Page 5*\n",
    "\n",
    "\n",
    "*Prerequisite: [CSE1120: Structured Programming 2](structured-programming-2.ipynb)*\n",
    "\n",
    "***\n",
    "\n",
    "Students develop their understanding of the procedural programming paradigm. They move from a structured programming approach in which modules were handled through the use of program blocks to a more formal modular programming approach in which they are handled through subprograms. In the process, students also learn to use a number of new design approaches made possible by the new paradigms. As part of this process, they also learn what types of problems are amenable to modular algorithms and programs.\n",
    "\n"
   ]
  },
  {
   "cell_type": "markdown",
   "metadata": {},
   "source": [
    "## APIs and Modules\n",
    "\n",
    "We are going to explore the use of the [Requests](https://docs.python-requests.org/en/latest/index.html) library with an [API](https://en.wikipedia.org/wiki/API) (Application Programming Interface) to get data that we can analyse."
   ]
  },
  {
   "cell_type": "code",
   "execution_count": 4,
   "metadata": {},
   "outputs": [
    {
     "data": {
      "image/jpeg": "[encoded data removed]",
      "text/html": [
       "\n",
       "        <iframe\n",
       "            width=\"400\"\n",
       "            height=\"300\"\n",
       "            src=\"https://www.youtube.com/embed/OVvTv9Hy91Q\"\n",
       "            frameborder=\"0\"\n",
       "            allowfullscreen\n",
       "            \n",
       "        ></iframe>\n",
       "        "
      ],
      "text/plain": [
       "<IPython.lib.display.YouTubeVideo at 0x7f9560439af0>"
      ]
     },
     "execution_count": 4,
     "metadata": {},
     "output_type": "execute_result"
    }
   ],
   "source": [
    "from IPython.display import YouTubeVideo\n",
    "\n",
    "video_id = \"OVvTv9Hy91Q\"\n",
    "\n",
    "# Display the YouTube video\n",
    "YouTubeVideo(video_id)\n"
   ]
  },
  {
   "cell_type": "markdown",
   "metadata": {},
   "source": [
    "Since the required code is much longer, we are going to import it from a module (a `.py` file stored in the [same folder as this notebook](.)).\n",
    "\n",
    "There are two different APIs for you to choose from, either Pokémon ([PokéAPI](https://pokeapi.co)) or Music ([Spotify API](https://developer.spotify.com/documentation/web-api))."
   ]
  },
  {
   "cell_type": "markdown",
   "metadata": {},
   "source": [
    "### Option A: PokéAPI\n",
    "\n",
    "We'll use code from the [get_pokemon.py](get_pokemon.py) file to get data from PokéAPI. Since we are getting data about all of the Pokémon this will take a few minutes to run."
   ]
  },
  {
   "cell_type": "code",
   "execution_count": null,
   "metadata": {},
   "outputs": [],
   "source": [
    "import get_pokemon\n",
    "pokemon = get_pokemon.get_pokemon_data()\n",
    "pokemon"
   ]
  },
  {
   "cell_type": "markdown",
   "metadata": {},
   "source": [
    "There is also a function in the `get_pokemon.py` file to get a link to the an image of a Pokémon."
   ]
  },
  {
   "cell_type": "code",
   "execution_count": null,
   "metadata": {},
   "outputs": [],
   "source": [
    "sprite_url = get_pokemon.get_sprite_url(3)\n",
    "\n",
    "from IPython.display import Image\n",
    "Image(sprite_url)"
   ]
  },
  {
   "cell_type": "markdown",
   "metadata": {},
   "source": [
    "### Option B: Spotify API\n",
    "\n",
    "The Spotify Web API allows us to get information about songs, albums, and artists. If you want to retireve more data and have a [Spotify account](https://www.spotify.com/us/signup), you can sign in to the [Developers Dashboard](https://developer.spotify.com/dashboard/login).\n",
    "\n",
    "From the Dashboard, you can click the `CREATE AN APP` button, type a name and description, and then click `CREATE`. Clicking on your new app in the Dashboard will show you the `Client ID` and `CLIENT SECRET` that you can paste into the code cell below.\n",
    "\n",
    "The code cell below will use code from the [get_spotify.py](get_spotify.py) file to get data about music tracks from the Spotify API."
   ]
  },
  {
   "cell_type": "code",
   "execution_count": null,
   "metadata": {},
   "outputs": [],
   "source": [
    "CLIENT_ID = 'PASTE_YOUR_CLIENT_ID_HERE'\n",
    "CLIENT_SECRET = 'PASTE_YOUR_CLIENT_SECRET_HERE'\n",
    "\n",
    "from get_spotify import *\n",
    "spotify_setup(CLIENT_ID, CLIENT_SECRET)"
   ]
  },
  {
   "cell_type": "markdown",
   "metadata": {},
   "source": [
    "Tet a data set from playlist, either one you created or someone else's playlist, you need the playlist ID [from the playlist link](https://clients.caster.fm/knowledgebase/110/How-to-find-Spotify-playlist-ID.html)."
   ]
  },
  {
   "cell_type": "code",
   "execution_count": null,
   "metadata": {},
   "outputs": [],
   "source": [
    "playlist_id = '37i9dQZF1DX7iB3RCnBnN4'\n",
    "\n",
    "playlist = get_playlist(playlist_id)\n",
    "playlist"
   ]
  },
  {
   "cell_type": "markdown",
   "metadata": {},
   "source": [
    "---\n",
    "1. Which of the following are advantages of programming with modules or subroutines like this?\n",
    "\n",
    "    a. reducing the duplication of code in a program\n",
    "\n",
    "    b. enabling the reuse of code in more than one program\n",
    "    \n",
    "    c. decomposing complex problems into simpler pieces to improve maintainability and extendibility\n",
    "    \n",
    "    d. improving the readability of a program\n",
    "    \n",
    "    e. hiding or protecting the program data\n",
    "\n",
    "    f. all of the above\n",
    "\n",
    "2. Look through the Python code in the [get_pokemon.py](get_pokemon.py) or the [get_spotify.py](get_spotify.py) and answer the following questions.\n",
    "\n",
    "    i. Python supports [functions](https://www.w3schools.com/python/python_functions.asp), [lambda functions](https://www.w3schools.com/python/python_lambda.asp), [classes](https://www.w3schools.com/python/python_classes.asp), and [generators](https://wiki.python.org/moin/Generators). Which of those do you see in the `.py` file you looked at?\n",
    "\n",
    "    ii. How is using one of these files similar to and different from using a built-in library such as [statistics](https://docs.python.org/3/library/statistics.html) or someone else's library such as [Requests](https://docs.python-requests.org/en/latest/index.html)?\n",
    "\n",
    "    iii. What is the purpose of using the `try:` and `except:` lines in the code? What would happen if they were not included?\n",
    "\n",
    "    iv. What does a `return` line do in Python?\n",
    "\n",
    "    v. What is a [parameter or argument](https://www.w3schools.com/python/gloss_python_function_arguments.asp) in Python? Give an example of how that is used in [get_pokemon.py](get_pokemon.py) or [get_spotify.py](get_spotify.py)\n",
    "\n",
    "## Personal Connections and Career Pathways\n",
    "\n",
    "3. What are some of your interests, values, beliefs, resources, prior learning, and experiences that relate to what you are learning about computing science?\n",
    "\n",
    "4. Write a paragraph about how the knowledge and skills you are learning learning could relate to your future career choices."
   ]
  },
  {
   "cell_type": "markdown",
   "metadata": {},
   "source": [
    "---\n",
    "## Data Science\n",
    "\n",
    "Now that you have data in `pokemon` or `playlist`, use what you learned in [Structured Programming 1](structured-programming-1.ipynb) and [Structured Programming 2](structured-programming-2.ipynb) to find and communicate insights from the data.\n",
    "\n",
    "Add more code and markdown cells as necessary. You must include at least two different visualizations, and text in markdown cells to communicate what your code is doing as well as the insights you are extracting."
   ]
  },
  {
   "cell_type": "markdown",
   "metadata": {},
   "source": []
  },
  {
   "cell_type": "code",
   "execution_count": null,
   "metadata": {},
   "outputs": [],
   "source": []
  },
  {
   "cell_type": "markdown",
   "metadata": {},
   "source": []
  },
  {
   "cell_type": "code",
   "execution_count": null,
   "metadata": {},
   "outputs": [],
   "source": []
  },
  {
   "cell_type": "markdown",
   "metadata": {},
   "source": [
    "Now that you have completed this notebook, submit your work to your teacher by downloading this notebook."
   ]
  },
  {
   "cell_type": "markdown",
   "metadata": {},
   "source": [
    "---\n",
    "\n",
    "# Outcomes:\n",
    "\n",
    "The student will:\n",
    "\n",
    "1. demonstrate an understanding of modular programming\n",
    "    1. describe the advantages of programming with modules or subroutines including:\n",
    "        1. reducing the duplication of code in a program\n",
    "        2. enabling the reuse of code in more than one program\n",
    "        3. decomposing complex problems into simpler pieces to improve maintainability and extendibility\n",
    "        4. improving the readability of a program\n",
    "        5. hiding or protecting the program data\n",
    "    2. select a programming environment and describe how it supports procedural programming including:\n",
    "        1. the type of subprograms supported; e.g., procedures, functions, methods\n",
    "        2. the level or type of modularity provided\n",
    "        3. the level of protection provided from unwanted side-effects\n",
    "<br><br>\n",
    "2. demonstrate basic procedural programming skills by writing algorithms employing a modular approach to solve problems\n",
    "    1. analyze a data processing problem and use a top-down design approach to decompose it into discreet input, processing and output modules\n",
    "    2. analyze and refine modules into submodules that are a manageable size for each process; e.g., input submodules, processing submodules and output submodules\n",
    "    3. describe and represent, using pseudocode or an appropriate diagramming approach, the relationship among the modules\n",
    "    4. analyze and rewrite algorithms for each module identifying the pre- and post-conditions and required program control of flow mechanisms.\n",
    "    5. analyze and evaluate algorithms for each developing module with appropriate data and revise, as required\n",
    "<br><br>\n",
    "3. translate algorithms into source code, convert the source code into machine executable form, execute and debug, as required\n",
    "    1. convert an algorithm into a program of linked subprograms with a main or client module calling other modules in a manner that reflects the structure of the algorithm\n",
    "    2. use appropriate types of subprograms to implement the various sections of the algorithm; e.g., functions (subprograms that return a value) and procedures (subprograms that do not return a value)\n",
    "    3. analyze and determine the type of scope required to protect and/or hide data and keep implementation decoupled from the calling modules and to avoid unwanted side-effects with consideration to:\n",
    "        1. use of appropriate parameters for importing and exporting data to and from subprograms\n",
    "        2. use of local variables and nested subprograms to enhance cohesion\n",
    "        3. one- and two-way parameter passing for importing and exporting data to and from subprograms\n",
    "    4. analyze for, and maintain, an appropriate balance between the coupling or dependency and cohesion or focus of subprograms\n",
    "    5. create both internal and external documentation\n",
    "    6. analyze the program and eliminate syntax, run-time and logic errors by using appropriate test data for each programming task at each stage of development\n",
    "<br><br>\n",
    "4. compare the results of the program with the intent of the algorithm and modify, as required\n",
    "    1. use appropriate error trapping mechanisms built into the programming environment, as well as programmer-directed error-trapping techniques, to eliminate logic errors and debug the program\n",
    "    2. compare the congruency between the outcomes of the debugged program and the original intent of the algorithm and modify, as required\n",
    "<br><br>\n",
    "5. demonstrate basic competencies\n",
    "    1. demonstrate fundamental skills to:\n",
    "        1. communicate\n",
    "        2. manage information\n",
    "        3. use numbers\n",
    "        4. think and solve problems\n",
    "    2. demonstrate personal management skills to:\n",
    "        1. demonstrate positive attitudes and behaviours\n",
    "        2. be responsible\n",
    "        3. be adaptable\n",
    "        4. learn continuously\n",
    "        5. work safely\n",
    "    3. demonstrate teamwork skills to:\n",
    "        1. work with others\n",
    "        2. participate in projects and tasks\n",
    "<br><br>\n",
    "6. identify possible life roles related to the skills and content of this cluster\n",
    "    1. recognize and then analyze the opportunities and barriers in the immediate environment\n",
    "    2. identify potential resources to minimize barriers and maximize opportunities"
   ]
  },
  {
   "cell_type": "markdown",
   "metadata": {},
   "source": [
    "[![Callysto.ca License](https://github.com/callysto/curriculum-notebooks/blob/master/callysto-notebook-banner-bottom.jpg?raw=true)](https://github.com/callysto/curriculum-notebooks/blob/master/LICENSE.md)"
   ]
  }
 ],
 "metadata": {
  "kernelspec": {
   "display_name": "Python 3 (ipykernel)",
   "language": "python",
   "name": "python3"
  },
  "language_info": {
   "codemirror_mode": {
    "name": "ipython",
    "version": 3
   },
   "file_extension": ".py",
   "mimetype": "text/x-python",
   "name": "python",
   "nbconvert_exporter": "python",
   "pygments_lexer": "ipython3",
   "version": "3.9.12"
  }
 },
 "nbformat": 4,
 "nbformat_minor": 4
}
