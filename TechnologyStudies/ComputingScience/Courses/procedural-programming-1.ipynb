{
 "cells": [
  {
   "cell_type": "markdown",
   "metadata": {},
   "source": [
    "![Callysto.ca Banner](https://github.com/callysto/curriculum-notebooks/blob/master/callysto-notebook-banner-top.jpg?raw=true)\n",
    "\n",
    "<a href=\"https://hub.callysto.ca/jupyter/hub/user-redirect/git-pull?repo=https%3A%2F%2Fgithub.com%2Fcallysto%2Fcurriculum-notebooks&branch=master&subPath=TechnologyStudies/ComputingScience/Courses/procedural-programming-1.ipynb&depth=1\"><img src=\"https://raw.githubusercontent.com/callysto/curriculum-notebooks/master/open-in-callysto-button.svg?sanitize=true\" width=\"123\" height=\"24\" alt=\"Open in Callysto\"/></a>"
   ]
  },
  {
   "cell_type": "markdown",
   "metadata": {},
   "source": [
    "# CSE2110: Procedural Programming 1\n",
    "\n",
    "*[Alberta Education Learning Outcomes-Business, Administration, Finance & Information Technology (BIT)](https://education.alberta.ca/media/159479/cse_pos.pdf)*\n",
    "\n",
    "*Computer Science-Page 5*\n",
    "\n",
    "\n",
    "*Prerequisite: [CSE1120: Structured Programming 2](structured-programming-2.ipynb)*\n",
    "\n",
    "***\n",
    "\n",
    "Students develop their understanding of the procedural programming paradigm. They move from a structured programming approach in which modules were handled through the use of program blocks to a more formal modular programming approach in which they are handled through subprograms. In the process, students also learn to use a number of new design approaches made possible by the new paradigms. As part of this process, they also learn what types of problems are amenable to modular algorithms and programs.\n",
    "\n"
   ]
  },
  {
   "cell_type": "markdown",
   "metadata": {},
   "source": [
    "## APIs and Modules\n",
    "\n",
    "We are going to explore the use of the [Requests](https://docs.python-requests.org/en/latest/index.html) library with an [API](https://en.wikipedia.org/wiki/API) (Application Programming Interface) to get data that we can analyse.\n",
    "\n",
    "For more information, check out [this video about APIs](https://www.youtube.com/watch?v=OVvTv9Hy91Q).\n",
    "\n",
    "Since the required code is somewhat long, we are going to import it from a module (a `.py` file stored in the [same folder as this notebook](.)).\n",
    "\n",
    "There are two different APIs for you to choose from, either Weather ([wttr.in](https://wttr.in/)) or Pokémon ([PokéAPI](https://pokeapi.co))."
   ]
  },
  {
   "cell_type": "markdown",
   "metadata": {},
   "source": [
    "### Option A: Weather API\n",
    "\n",
    "We can use the site [wttr.in](https://wttr.in/) to see the local weather, and we can also use it as an API to get weather data.\n",
    "\n",
    "The code cell below will get weather data for [Edmonton](https://en.wikipedia.org/wiki/Edmonton) and display it."
   ]
  },
  {
   "cell_type": "code",
   "execution_count": null,
   "metadata": {},
   "outputs": [],
   "source": [
    "import requests\n",
    "\n",
    "data = requests.get('https://wttr.in/Edmonton?format=j1').json()\n",
    "data"
   ]
  },
  {
   "cell_type": "markdown",
   "metadata": {},
   "source": [
    "We can also define a function to accept a parameter called *city* and return weather data for that city."
   ]
  },
  {
   "cell_type": "code",
   "execution_count": null,
   "metadata": {},
   "outputs": [],
   "source": [
    "def get_weather(city):\n",
    "    data = requests.get(f'https://wttr.in/{city}?format=j1').json()\n",
    "    return data\n",
    "\n",
    "data = get_weather('Edmonton')\n",
    "data"
   ]
  },
  {
   "cell_type": "markdown",
   "metadata": {},
   "source": [
    "We can see that there are some categories (keys) of data that are returned from that API:"
   ]
  },
  {
   "cell_type": "code",
   "execution_count": null,
   "metadata": {},
   "outputs": [],
   "source": [
    "for key in data:\n",
    "    print(key)"
   ]
  },
  {
   "cell_type": "markdown",
   "metadata": {},
   "source": [
    "Let's print what is in each of those categories."
   ]
  },
  {
   "cell_type": "code",
   "execution_count": null,
   "metadata": {},
   "outputs": [],
   "source": [
    "for key in data:\n",
    "    print(key)\n",
    "    print(data[key])\n",
    "    print('--------------')"
   ]
  },
  {
   "cell_type": "markdown",
   "metadata": {},
   "source": [
    "To access any of those values, we can use `[]` notation. For example to get the current temperature:"
   ]
  },
  {
   "cell_type": "code",
   "execution_count": null,
   "metadata": {},
   "outputs": [],
   "source": [
    "data['current_condition'][0]['temp_C']"
   ]
  },
  {
   "cell_type": "markdown",
   "metadata": {},
   "source": [
    "The data also includes hourly weather that we can parse through and append to a list."
   ]
  },
  {
   "cell_type": "code",
   "execution_count": null,
   "metadata": {},
   "outputs": [],
   "source": [
    "temperatures = []\n",
    "\n",
    "for hour_data in data['weather'][0]['hourly']:\n",
    "    temperature = int(hour_data['tempC'])\n",
    "    temperatures.append(temperature)\n",
    "\n",
    "temperatures"
   ]
  },
  {
   "cell_type": "markdown",
   "metadata": {},
   "source": [
    "Then we can create a scatterplot of those data."
   ]
  },
  {
   "cell_type": "code",
   "execution_count": null,
   "metadata": {},
   "outputs": [],
   "source": [
    "import plotly.express as px\n",
    "px.scatter(y=temperatures, title='Hourly Temperatures in Edmonton', labels={'x': 'Hour', 'y': 'Temperature (°C)'})"
   ]
  },
  {
   "cell_type": "markdown",
   "metadata": {},
   "source": [
    "There are a lot of other values in the weather data to explore.\n",
    "\n",
    "We can also compare the current weather for a number of different locations. Add more cities to the list in the code cell below."
   ]
  },
  {
   "cell_type": "code",
   "execution_count": null,
   "metadata": {},
   "outputs": [],
   "source": [
    "locations = ['Edmonton', 'Calgary']\n",
    "\n",
    "city_temps = []\n",
    "\n",
    "for location in locations:\n",
    "    data = get_weather(location)\n",
    "    city_temps.append(int(data['current_condition'][0]['temp_C']))\n",
    "\n",
    "px.scatter(x=locations, y=city_temps, title='Current Temperatures', labels={'x': 'City', 'y': 'Temperature (°C)'})"
   ]
  },
  {
   "cell_type": "markdown",
   "metadata": {},
   "source": [
    "### Option B: PokéAPI\n",
    "\n",
    "We'll define a function to get data from PokéAPI. Since we are getting data about all of the Pokémon this will take a few minutes to run."
   ]
  },
  {
   "cell_type": "code",
   "execution_count": null,
   "metadata": {},
   "outputs": [],
   "source": [
    "import requests\n",
    "import pandas as pd\n",
    "\n",
    "def get_pokemon_data():\n",
    "    try:\n",
    "        r = requests.get('https://pokeapi.co/api/v2/pokemon?limit=100000')\n",
    "        df = pd.DataFrame(r.json()['results'])\n",
    "\n",
    "        abilities = []\n",
    "        base_experience = []\n",
    "        forms = []\n",
    "        height = []\n",
    "        held_items = []\n",
    "        id = []\n",
    "        is_default = []\n",
    "        location_area_encounters = []\n",
    "        moves = []\n",
    "        order = []\n",
    "        species = []\n",
    "        sprites = []\n",
    "        stats = []\n",
    "        types = []\n",
    "        weight = []\n",
    "        for i in range(len(df)):\n",
    "            print(df['name'][i])\n",
    "            try:\n",
    "                r = requests.get(df['url'][i])\n",
    "                abilities.append(r.json()['abilities'])\n",
    "                base_experience.append(r.json()['base_experience'])\n",
    "                forms.append(r.json()['forms'])\n",
    "                height.append(r.json()['height'])\n",
    "                held_items.append(r.json()['held_items'])\n",
    "                id.append(r.json()['id'])\n",
    "                is_default.append(r.json()['is_default'])\n",
    "                location_area_encounters.append(r.json()['location_area_encounters'])\n",
    "                moves.append(r.json()['moves'])\n",
    "                order.append(r.json()['order'])\n",
    "                species.append(r.json()['species'])\n",
    "                sprites.append(r.json()['sprites'])\n",
    "                stats.append(r.json()['stats'])\n",
    "                types.append(r.json()['types'])\n",
    "                weight.append(r.json()['weight'])\n",
    "            except:\n",
    "                abilities.append(None)\n",
    "                base_experience.append(None)\n",
    "                forms.append(None)\n",
    "                height.append(None)\n",
    "                held_items.append(None)\n",
    "                id.append(None)\n",
    "                is_default.append(None)\n",
    "                location_area_encounters.append(None)\n",
    "                moves.append(None)\n",
    "                order.append(None)\n",
    "                species.append(None)\n",
    "                sprites.append(None)\n",
    "                stats.append(None)\n",
    "                types.append(None)\n",
    "                weight.append(None)\n",
    "        df['id'] = id\n",
    "        df['height'] = height\n",
    "        df['weight'] = weight\n",
    "        df['base_experience'] = base_experience\n",
    "        df['abilities'] = abilities\n",
    "        df['forms'] = forms\n",
    "        df['species'] = species\n",
    "        df['is_default'] = is_default\n",
    "        df['location_area_encounters'] = location_area_encounters\n",
    "        df['order'] = order\n",
    "        df['stats'] = stats\n",
    "        df['types'] = types\n",
    "        df = df.drop('url', axis=1) # drop url column\n",
    "\n",
    "        # split the stats column into multiple columns\n",
    "        df_stats = pd.DataFrame(df['stats'].tolist())\n",
    "        df_stats.columns = ['hp','attack','defense','special-attack','special-defense','speed']\n",
    "        for column in df_stats.columns:\n",
    "            df_stats[column] = df_stats[column].apply(lambda x: x['base_stat'] if x is not None else None)\n",
    "        # join with the main dataframe\n",
    "        df = df.join(df_stats)\n",
    "        df = df.drop('stats', axis=1)\n",
    "        df = df.drop('location_area_encounters', axis=1)\n",
    "\n",
    "        # try to split the abilities to three columns\n",
    "        abilities_lists = [[],[],[]]\n",
    "        for i in range(len(df)):\n",
    "            for n in range(3):\n",
    "                try:\n",
    "                    ability = df['abilities'][i][n]['ability']['name']\n",
    "                except:\n",
    "                    ability = None\n",
    "                abilities_lists[n].append(ability)\n",
    "        df['ability1'] = abilities_lists[0]\n",
    "        df['ability2'] = abilities_lists[1]\n",
    "        df['ability3'] = abilities_lists[2]\n",
    "        df = df.drop('abilities', axis=1)\n",
    "\n",
    "        # species column is a dictionary, so we need to extract the name\n",
    "        df['species'] = df['species'].apply(lambda x: x['name'] if x is not None else None)\n",
    "\n",
    "        # convert the forms column to a string\n",
    "        df['forms'] = df['forms'].apply(lambda x: x[0]['name'] if x is not None else None)\n",
    "\n",
    "        # split the types to two columns\n",
    "        types_lists = [[],[]]\n",
    "        for i in range(len(df)):\n",
    "            for n in range(2):\n",
    "                try:\n",
    "                    type = df['types'][i][n]['type']['name']\n",
    "                except:\n",
    "                    type = None\n",
    "                types_lists[n].append(type)\n",
    "        df['type1'] = types_lists[0]\n",
    "        df['type2'] = types_lists[1]\n",
    "        df = df.drop('types', axis=1)\n",
    "\n",
    "        # reorder the columns\n",
    "        df = df[['id','name','base_experience','height','weight','speed','hp','attack','defense','special-attack','special-defense','forms','species','is_default','order','type1','type2','ability1','ability2','ability3']]\n",
    "\n",
    "    except:\n",
    "        # if something didn't work, then just read the existing csv file\n",
    "        df = pd.read_csv('data/pokemon.csv')\n",
    "    \n",
    "    # return the dataframe\n",
    "    return df\n",
    "\n",
    "# get the data\n",
    "pokemon = get_pokemon_data()\n",
    "\n",
    "# write the data to a csv file\n",
    "pokemon.to_csv('pokemon.csv', index=False)\n",
    "\n",
    "pokemon"
   ]
  },
  {
   "cell_type": "markdown",
   "metadata": {},
   "source": [
    "We can also define a function to get a link to the an image of a Pokémon, then display it with `Image(sprite_url)`."
   ]
  },
  {
   "cell_type": "code",
   "execution_count": null,
   "metadata": {},
   "outputs": [],
   "source": [
    "from IPython.display import Image\n",
    "\n",
    "def get_sprite_url(id):\n",
    "    image_url = 'https://raw.githubusercontent.com/PokeAPI/sprites/master/sprites/pokemon/other/official-artwork/'+str(id)+'.png'\n",
    "    return image_url\n",
    "\n",
    "sprite_url = get_sprite_url(3)\n",
    "display(Image(sprite_url))"
   ]
  },
  {
   "cell_type": "markdown",
   "metadata": {},
   "source": [
    "---\n",
    "## Questions\n",
    "\n",
    "By double clicking on the cell below, you will be able to add your answers, personal reflections, and comments.\n",
    "\n",
    "1. Which of the following are advantages of programming with modules or subroutines like this?\n",
    "\n",
    "    a. reducing the duplication of code in a program\n",
    "\n",
    "    b. enabling the reuse of code in more than one program\n",
    "    \n",
    "    c. decomposing complex problems into simpler pieces to improve maintainability and extendibility\n",
    "    \n",
    "    d. improving the readability of a program\n",
    "    \n",
    "    e. hiding or protecting the program data\n",
    "\n",
    "    f. all of the above\n",
    "\n",
    "2. Based on the Python code above, answer the following questions.\n",
    "\n",
    "    i. Python supports [functions](https://www.w3schools.com/python/python_functions.asp), [lambda functions](https://www.w3schools.com/python/python_lambda.asp), [classes](https://www.w3schools.com/python/python_classes.asp), and [generators](https://wiki.python.org/moin/Generators). Which of those do you see in the `.py` file you looked at?\n",
    "\n",
    "    ii. How is using one of these files similar to and different from using a built-in library such as [statistics](https://docs.python.org/3/library/statistics.html) or someone else's library such as [Requests](https://docs.python-requests.org/en/latest/index.html)?\n",
    "\n",
    "    iii. What is the purpose of using the `try:` and `except:` lines in the code? What would happen if they were not included?\n",
    "\n",
    "    iv. What does a `return` line do in Python?\n",
    "\n",
    "    v. What is a [parameter or argument](https://www.w3schools.com/python/gloss_python_function_arguments.asp) in Python? Give an example of how that is used above.\n",
    "\n",
    "## Personal Connections and Career Pathways\n",
    "\n",
    "3. What are some of your interests, values, beliefs, resources, prior learning, and experiences that relate to what you are learning about computing science?\n",
    "\n",
    "4. Write a paragraph about how the knowledge and skills you are learning learning could relate to your future career choices."
   ]
  },
  {
   "cell_type": "markdown",
   "metadata": {},
   "source": [
    "1. \n",
    "\n",
    "\n",
    "2. \n",
    "\n",
    "\n",
    "3. \n",
    "\n",
    "\n",
    "4. \n",
    "\n"
   ]
  },
  {
   "cell_type": "markdown",
   "metadata": {},
   "source": [
    "---\n",
    "## Data Science\n",
    "\n",
    "Now that you have weather or Pokémon data, use what you learned in [Structured Programming 1](structured-programming-1.ipynb) and [Structured Programming 2](structured-programming-2.ipynb) to find and communicate insights from the data.\n",
    "\n",
    "Add more code and markdown cells as necessary. You must include at least **two** different visualizations, as well as text in **markdown cells** to communicate what your code is doing as well as the insights you are extracting."
   ]
  },
  {
   "cell_type": "markdown",
   "metadata": {},
   "source": []
  },
  {
   "cell_type": "code",
   "execution_count": null,
   "metadata": {},
   "outputs": [],
   "source": []
  },
  {
   "cell_type": "markdown",
   "metadata": {},
   "source": [
    "Once you have completed this notebook, submit your work to your teacher by downloading this notebook.\n",
    "\n",
    "This can be done in the following ways:\n",
    "\n",
    "- .ipynb extension\n",
    "- .html\n",
    "- .pdf\n"
   ]
  },
  {
   "cell_type": "markdown",
   "metadata": {},
   "source": [
    "---\n",
    "\n",
    "# Outcomes:\n",
    "\n",
    "The student will:\n",
    "\n",
    "1. demonstrate an understanding of modular programming\n",
    "    1. describe the advantages of programming with modules or subroutines including:\n",
    "        1. reducing the duplication of code in a program\n",
    "        2. enabling the reuse of code in more than one program\n",
    "        3. decomposing complex problems into simpler pieces to improve maintainability and extendibility\n",
    "        4. improving the readability of a program\n",
    "        5. hiding or protecting the program data\n",
    "    2. select a programming environment and describe how it supports procedural programming including:\n",
    "        1. the type of subprograms supported; e.g., procedures, functions, methods\n",
    "        2. the level or type of modularity provided\n",
    "        3. the level of protection provided from unwanted side-effects\n",
    "<br><br>\n",
    "2. demonstrate basic procedural programming skills by writing algorithms employing a modular approach to solve problems\n",
    "    1. analyze a data processing problem and use a top-down design approach to decompose it into discreet input, processing and output modules\n",
    "    2. analyze and refine modules into submodules that are a manageable size for each process; e.g., input submodules, processing submodules and output submodules\n",
    "    3. describe and represent, using pseudocode or an appropriate diagramming approach, the relationship among the modules\n",
    "    4. analyze and rewrite algorithms for each module identifying the pre- and post-conditions and required program control of flow mechanisms.\n",
    "    5. analyze and evaluate algorithms for each developing module with appropriate data and revise, as required\n",
    "<br><br>\n",
    "3. translate algorithms into source code, convert the source code into machine executable form, execute and debug, as required\n",
    "    1. convert an algorithm into a program of linked subprograms with a main or client module calling other modules in a manner that reflects the structure of the algorithm\n",
    "    2. use appropriate types of subprograms to implement the various sections of the algorithm; e.g., functions (subprograms that return a value) and procedures (subprograms that do not return a value)\n",
    "    3. analyze and determine the type of scope required to protect and/or hide data and keep implementation decoupled from the calling modules and to avoid unwanted side-effects with consideration to:\n",
    "        1. use of appropriate parameters for importing and exporting data to and from subprograms\n",
    "        2. use of local variables and nested subprograms to enhance cohesion\n",
    "        3. one- and two-way parameter passing for importing and exporting data to and from subprograms\n",
    "    4. analyze for, and maintain, an appropriate balance between the coupling or dependency and cohesion or focus of subprograms\n",
    "    5. create both internal and external documentation\n",
    "    6. analyze the program and eliminate syntax, run-time and logic errors by using appropriate test data for each programming task at each stage of development\n",
    "<br><br>\n",
    "4. compare the results of the program with the intent of the algorithm and modify, as required\n",
    "    1. use appropriate error trapping mechanisms built into the programming environment, as well as programmer-directed error-trapping techniques, to eliminate logic errors and debug the program\n",
    "    2. compare the congruency between the outcomes of the debugged program and the original intent of the algorithm and modify, as required\n",
    "<br><br>\n",
    "5. demonstrate basic competencies\n",
    "    1. demonstrate fundamental skills to:\n",
    "        1. communicate\n",
    "        2. manage information\n",
    "        3. use numbers\n",
    "        4. think and solve problems\n",
    "    2. demonstrate personal management skills to:\n",
    "        1. demonstrate positive attitudes and behaviours\n",
    "        2. be responsible\n",
    "        3. be adaptable\n",
    "        4. learn continuously\n",
    "        5. work safely\n",
    "    3. demonstrate teamwork skills to:\n",
    "        1. work with others\n",
    "        2. participate in projects and tasks\n",
    "<br><br>\n",
    "6. identify possible life roles related to the skills and content of this cluster\n",
    "    1. recognize and then analyze the opportunities and barriers in the immediate environment\n",
    "    2. identify potential resources to minimize barriers and maximize opportunities"
   ]
  },
  {
   "cell_type": "markdown",
   "metadata": {},
   "source": [
    "[![Callysto.ca License](https://github.com/callysto/curriculum-notebooks/blob/master/callysto-notebook-banner-bottom.jpg?raw=true)](https://github.com/callysto/curriculum-notebooks/blob/master/LICENSE.md)"
   ]
  }
 ],
 "metadata": {
  "kernelspec": {
   "display_name": "Python 3",
   "language": "python",
   "name": "python3"
  },
  "language_info": {
   "codemirror_mode": {
    "name": "ipython",
    "version": 3
   },
   "file_extension": ".py",
   "mimetype": "text/x-python",
   "name": "python",
   "nbconvert_exporter": "python",
   "pygments_lexer": "ipython3",
   "version": "3.13.3"
  }
 },
 "nbformat": 4,
 "nbformat_minor": 4
}
