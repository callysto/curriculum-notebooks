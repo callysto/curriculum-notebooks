{
 "cells": [
  {
   "cell_type": "markdown",
   "metadata": {},
   "source": [
    "# CSE3110: Iterative Algorithms 1\n",
    "\n",
    "*[Alberta Education Learning Outcomes-Business, Administration, Finance & Information Technology (BIT)](https://education.alberta.ca/media/159479/cse_pos.pdf)*\n",
    "\n",
    "*Computer Science-Page 25*\n",
    "\n",
    "\n",
    "*Prerequisite: [CSE2120: Data Structures 1](data-structures-1.ipynb)*\n",
    "\n",
    "***\n",
    "\n",
    "Students learn a number of standard iterative data processing algorithms\n",
    "useful for working with data structures such as arrays. These include an\n",
    "iterative version of the binary search, the three basic sorts—exchange\n",
    "(bubble), insertion and selection, and a simple merge. In the process, they\n",
    "learn when and where to apply these algorithms. "
   ]
  },
  {
   "cell_type": "markdown",
   "metadata": {},
   "source": [
    "The student will:\n",
    "\n",
    "1.  analyze and represent the nature, structure and utility of common iterative algorithms\n",
    "    1. compare and contrast search, sort and merge algorithms\n",
    "    1. explain the way in which search, sort and merge algorithms manipulate data\n",
    "    1. describe the data structures required by search, sort and merge algorithms\n",
    "    1. describe how search, sort and merge algorithms are implemented in a programming environment\n",
    "    1. describe and represent iterative search algorithms including:\n",
    "       1. linear search\n",
    "        1. binary search\n",
    "        2. compare and contrast how linear and binary searches manipulate data\n",
    "        3. compare and contrast the data structures required and the computational efficiencies of linear and binary searches\n",
    "    1. describe and represent basic iterative sort algorithms including:\n",
    "        1. exchange sort; e.g., bubble sort, cocktail sort, gnome sort, comb sort\n",
    "        2. selection sort; e.g., selection sort, strand sort\n",
    "        3. insertion sort; e.g., insertion sort, library sort\n",
    "        4. comparing and contrasting how different classes of sorts manipulate data\n",
    "        5. comparing and contrasting the data structures required and the computational efficiencies of different classes of sorts\n",
    "    1. describe and represent simple iterative merge algorithms\n",
    "<br><br>\n",
    "1. create and/or modify algorithms that use searches, sorts and merges to solve problems\n",
    "   1. demonstrate the use of appropriate general design techniques for the programming environment being considered for implementation\n",
    "   2. analyze and decompose the problem into appropriate subsections using the decomposition techniques appropriate for the chosen design approach\n",
    "   3. evaluate subsections and identify any that may require some type of search, sort and/or merge algorithm, based on the nature of the data to be processed and the type of processing operations\n",
    "   4. identify which algorithms are appropriate or required to search, sort and/or merge data\n",
    "   5. sequence the various subsections appropriately\n",
    "   6. test and modify the developing algorithm with appropriate data using a “fail-on-paper” process\n",
    "<br><br>\n",
    "1. create and/or modify programs that use searches, sorts and merges to solve problems\n",
    "   1. convert algorithms calling for standard iterative structures into programs that reflect the algorithm’s design\n",
    "   2. use original (user-created) or pre-existing search, sort and/or merge algorithms appropriate to the data being manipulated\n",
    "   3. utilize the appropriate operators, methods, functions or procedures required to carry out the standard algorithms\n",
    "   4. use internal and external documentation\n",
    "<br><br>\n",
    "4. compare program operation and outcomes with the intent of the algorithm and modify, as required\n",
    "   1. use appropriate error-trapping mechanisms built into the programming environment, as well as programmer-directed error-trapping techniques, to eliminate logic errors and debug the program\n",
    "   2. compare the congruency between the outcomes of the debugged program and the original intent of the algorithm and modify both, as required\n",
    "<br><br>\n",
    "5. demonstrate basic competencies\n",
    "   1. demonstrate fundamental skills to:\n",
    "      1. communicate\n",
    "      2. manage information\n",
    "      3. use numbers\n",
    "      4. think and solve problems\n",
    "   2. demonstrate personal management skills to:\n",
    "      1. demonstrate positive attitudes and behaviours\n",
    "      2. be responsible\n",
    "      3. be adaptable\n",
    "      4. learn continuously\n",
    "      5.  work safely\n",
    "   3. demonstrate teamwork skills to:\n",
    "      1. work with others\n",
    "      2. participate in projects and tasks\n",
    "<br><br>\n",
    "6. create a transitional strategy to accommodate personal changes and build personal values\n",
    "   1. identify short-term and long-term goals\n",
    "   2. identify steps to achieve goals"
   ]
  },
  {
   "cell_type": "markdown",
   "metadata": {},
   "source": [
    "## Algorithms"
   ]
  },
  {
   "cell_type": "markdown",
   "metadata": {},
   "source": [
    "We'll begin this notebook by describing what an **algorithm** is. [Merriam-Webster](https://www.merriam-webster.com/dictionary/algorithm) broadly defines it as:\n",
    "\n",
    "<div class=\"alert alert-block alert-info\">\n",
    "<b>Definition:</b> a step-by-step procedure for solving a problem or accomplishing some end\n",
    "</div>\n",
    "\n",
    "Now, why are algorithms so crucial? Well, they play a significant role in solving problems effectively and swiftly. Consider them as the **intricate instructions** that guide a computer to perform tasks. \n",
    "\n",
    "For instance, imagine you're planning the most *efficient* route to visit a friend's house in another part of town. Algorithms are like the GPS system that calculates the *quickest* path, helping you avoid traffic and reach your destination in the *shortest* time possible."
   ]
  },
  {
   "cell_type": "markdown",
   "metadata": {},
   "source": [
    "## Linear Search \n",
    "\n",
    "The **linear search** algorithm is one of the most straightforward and fundamental algorithms in computer science. This is a great starting point to begin explaining the nature of algorithms and how different algorithms are improved based on this template. \n",
    "\n",
    "The **linear search** algorithm involves sequentially checking each element of a list to find a specific target value. This process continues until the target is found, or the entire list has been traversed."
   ]
  },
  {
   "cell_type": "markdown",
   "metadata": {},
   "source": [
    "Suppose we have a list of numbers:"
   ]
  },
  {
   "cell_type": "code",
   "execution_count": null,
   "metadata": {},
   "outputs": [],
   "source": [
    "list_of_nums = [3, 5, 2, 8, 1, 9, 4, 6]"
   ]
  },
  {
   "cell_type": "markdown",
   "metadata": {},
   "source": [
    "We can implement a linear search algorithm to find the index of a specific target value within the list:"
   ]
  },
  {
   "cell_type": "code",
   "execution_count": null,
   "metadata": {},
   "outputs": [],
   "source": [
    "def linear_search(arr, target):\n",
    "    for element in arr: # Iterate over the list/array\n",
    "        if element == target: # Check if the element is equal to the target\n",
    "            return True # If it is, return True\n",
    "    return False # Otherwise, return False"
   ]
  },
  {
   "cell_type": "markdown",
   "metadata": {},
   "source": [
    "Let's go through each line of code in the algorithm one-by-one. \n",
    "```python\n",
    "def linear_search(arr, target): \n",
    "```\n",
    "- This line defines a function named **linear_search** that takes in two **parameters**: *arr*, which represents the list to be searched, and target, which represents the *value* we are searching for.\n",
    "\n",
    "```python\n",
    "for element in arr:\n",
    "```\n",
    "- This line initiates a loop that iterates over each element in the list *arr*, ensuring that the loop iterates until the end of the list.\n",
    "\n",
    "```python\n",
    "if element == target:\n",
    "```\n",
    "- This line checks if the current element in the list is equal to the target value we are searching for.\n",
    "\n",
    "```python\n",
    "return element\n",
    "```\n",
    "- If the target value is found, then we are able to confirm the *target* exists in the list, returning **True**.\n",
    "\n",
    "```python\n",
    "return False \n",
    "```\n",
    "- If the *target* value is not found after checking all elements, this line returns **False** to indicate that the target value is not present in the list."
   ]
  },
  {
   "cell_type": "markdown",
   "metadata": {},
   "source": [
    "Let's test our algorithm. "
   ]
  },
  {
   "cell_type": "code",
   "execution_count": null,
   "metadata": {},
   "outputs": [],
   "source": [
    "# Test case 1: Search for the target value 8\n",
    "true_case = linear_search(list_of_nums, 8)\n",
    "print(f\"Result for target value 8: {true_case}\")\n",
    "\n",
    "# Test case 2: Search for the target value 'hello'\n",
    "false_case = linear_search(list_of_nums, 'hello')\n",
    "print(f\"Result for target value 'hello': {false_case}\")"
   ]
  },
  {
   "cell_type": "markdown",
   "metadata": {},
   "source": [
    "It appears that our algorithm is working properly! Now it's your turn to make an adjustment. \n",
    "\n",
    "Modify the `linear_search` function to not only determine if the target value is present in the list but also to return the **index** at which the target value is located. "
   ]
  },
  {
   "cell_type": "code",
   "execution_count": null,
   "metadata": {},
   "outputs": [],
   "source": [
    "def linear_search(arr, target):\n",
    "    # TODO: Write your code here\n",
    "    pass"
   ]
  },
  {
   "cell_type": "code",
   "execution_count": null,
   "metadata": {},
   "outputs": [],
   "source": [
    "list_of_nums = [1, 5, -8, 9, 2, 10]\n",
    "\n",
    "# Test case 1: Search for the target value\n",
    "true_case = linear_search(list_of_nums, None)  # TODO: Add your target value here\n",
    "print(f\"Index of target value: {true_case}\")\n",
    "\n",
    "# Test case 2: Search for another target value\n",
    "false_case = linear_search(list_of_nums, None)  # TODO: Add another target value here\n",
    "print(f\"Index of another target value: {false_case}\")"
   ]
  }
 ],
 "metadata": {
  "kernelspec": {
   "display_name": "Python 3",
   "language": "python",
   "name": "python3"
  },
  "language_info": {
   "codemirror_mode": {
    "name": "ipython",
    "version": 3
   },
   "file_extension": ".py",
   "mimetype": "text/x-python",
   "name": "python",
   "nbconvert_exporter": "python",
   "pygments_lexer": "ipython3",
   "version": "3.10.8"
  }
 },
 "nbformat": 4,
 "nbformat_minor": 2
}
