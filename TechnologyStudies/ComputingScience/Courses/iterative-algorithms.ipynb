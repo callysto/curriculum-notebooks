{
 "cells": [
  {
   "cell_type": "markdown",
   "metadata": {},
   "source": [
    "# CSE3110: Iterative Algorithms 1\n",
    "\n",
    "*[Alberta Education Learning Outcomes-Business, Administration, Finance & Information Technology (BIT)](https://education.alberta.ca/media/159479/cse_pos.pdf)*\n",
    "\n",
    "*Computer Science-Page 25*\n",
    "\n",
    "\n",
    "*Prerequisite: [CSE2120: Data Structures 1](data-structures-1.ipynb)*\n",
    "\n",
    "***\n",
    "\n",
    "Students learn a number of standard iterative data processing algorithms\n",
    "useful for working with data structures such as arrays. These include an\n",
    "iterative version of the binary search, the three basic sorts—exchange\n",
    "(bubble), insertion and selection, and a simple merge. In the process, they\n",
    "learn when and where to apply these algorithms. "
   ]
  },
  {
   "cell_type": "markdown",
   "metadata": {},
   "source": [
    "The student will:\n",
    "\n",
    "1.  analyze and represent the nature, structure and utility of common iterative algorithms\n",
    "    1. compare and contrast search, sort and merge algorithms\n",
    "    1. explain the way in which search, sort and merge algorithms manipulate data\n",
    "    1. describe the data structures required by search, sort and merge algorithms\n",
    "    1. describe how search, sort and merge algorithms are implemented in a programming environment\n",
    "    1. describe and represent iterative search algorithms including:\n",
    "       1. linear search\n",
    "        1. binary search\n",
    "        2. compare and contrast how linear and binary searches manipulate data\n",
    "        3. compare and contrast the data structures required and the computational efficiencies of linear and binary searches\n",
    "    1. describe and represent basic iterative sort algorithms including:\n",
    "        1. exchange sort; e.g., bubble sort, cocktail sort, gnome sort, comb sort\n",
    "        2. selection sort; e.g., selection sort, strand sort\n",
    "        3. insertion sort; e.g., insertion sort, library sort\n",
    "        4. comparing and contrasting how different classes of sorts manipulate data\n",
    "        5. comparing and contrasting the data structures required and the computational efficiencies of different classes of sorts\n",
    "    1. describe and represent simple iterative merge algorithms\n",
    "<br><br>\n",
    "1. create and/or modify algorithms that use searches, sorts and merges to solve problems\n",
    "   1. demonstrate the use of appropriate general design techniques for the programming environment being considered for implementation\n",
    "   2. analyze and decompose the problem into appropriate subsections using the decomposition techniques appropriate for the chosen design approach\n",
    "   3. evaluate subsections and identify any that may require some type of search, sort and/or merge algorithm, based on the nature of the data to be processed and the type of processing operations\n",
    "   4. identify which algorithms are appropriate or required to search, sort and/or merge data\n",
    "   5. sequence the various subsections appropriately\n",
    "   6. test and modify the developing algorithm with appropriate data using a “fail-on-paper” process\n",
    "<br><br>\n",
    "1. create and/or modify programs that use searches, sorts and merges to solve problems\n",
    "   1. convert algorithms calling for standard iterative structures into programs that reflect the algorithm’s design\n",
    "   2. use original (user-created) or pre-existing search, sort and/or merge algorithms appropriate to the data being manipulated\n",
    "   3. utilize the appropriate operators, methods, functions or procedures required to carry out the standard algorithms\n",
    "   4. use internal and external documentation\n",
    "<br><br>\n",
    "4. compare program operation and outcomes with the intent of the algorithm and modify, as required\n",
    "   1. use appropriate error-trapping mechanisms built into the programming environment, as well as programmer-directed error-trapping techniques, to eliminate logic errors and debug the program\n",
    "   2. compare the congruency between the outcomes of the debugged program and the original intent of the algorithm and modify both, as required\n",
    "<br><br>\n",
    "5. demonstrate basic competencies\n",
    "   1. demonstrate fundamental skills to:\n",
    "      1. communicate\n",
    "      2. manage information\n",
    "      3. use numbers\n",
    "      4. think and solve problems\n",
    "   2. demonstrate personal management skills to:\n",
    "      1. demonstrate positive attitudes and behaviours\n",
    "      2. be responsible\n",
    "      3. be adaptable\n",
    "      4. learn continuously\n",
    "      5.  work safely\n",
    "   3. demonstrate teamwork skills to:\n",
    "      1. work with others\n",
    "      2. participate in projects and tasks\n",
    "<br><br>\n",
    "6. create a transitional strategy to accommodate personal changes and build personal values\n",
    "   1. identify short-term and long-term goals\n",
    "   2. identify steps to achieve goals"
   ]
  },
  {
   "cell_type": "markdown",
   "metadata": {},
   "source": [
    "## Algorithms"
   ]
  },
  {
   "cell_type": "markdown",
   "metadata": {},
   "source": [
    "We'll begin this notebook by describing what an **algorithm** is. [Merriam-Webster](https://www.merriam-webster.com/dictionary/algorithm) broadly defines it as:\n",
    "\n",
    "<div class=\"alert alert-block alert-info\">\n",
    "<b>Definition:</b> a step-by-step procedure for solving a problem or accomplishing some end\n",
    "</div>\n",
    "\n",
    "Now, why are algorithms so crucial? Well, they play a significant role in solving problems effectively and swiftly. Consider them as the **intricate instructions** that guide a computer to perform tasks. \n",
    "\n",
    "For instance, imagine you're planning the most *efficient* route to visit a friend's house in another part of town. Algorithms are like the GPS system that calculates the *quickest* path, helping you avoid traffic and reach your destination in the *shortest* time possible."
   ]
  },
  {
   "cell_type": "markdown",
   "metadata": {},
   "source": [
    "## Linear Search \n",
    "\n",
    "The **linear search** algorithm is one of the most straightforward and fundamental algorithms in computer science. This is a great starting point to begin explaining the nature of algorithms and how different algorithms are improved based on this template. \n",
    "\n",
    "The **linear search** algorithm involves sequentially checking each element of a list to find a specific target value. This process continues until the target is found, or the entire list has been traversed."
   ]
  },
  {
   "cell_type": "markdown",
   "metadata": {},
   "source": [
    "Suppose we have a list of numbers:"
   ]
  },
  {
   "cell_type": "code",
   "execution_count": null,
   "metadata": {},
   "outputs": [],
   "source": [
    "list_of_nums = [3, 5, 2, 8, 1, 9, 4, 6]"
   ]
  },
  {
   "cell_type": "markdown",
   "metadata": {},
   "source": [
    "We can implement a linear search algorithm to find the index of a specific target value within the list:"
   ]
  },
  {
   "cell_type": "code",
   "execution_count": null,
   "metadata": {},
   "outputs": [],
   "source": [
    "def linear_search_proper(arr, target):\n",
    "    for element in arr: # Iterate over the list/array\n",
    "        if element == target: # Check if the element is equal to the target\n",
    "            return True # If it is, return True\n",
    "    return False # Otherwise, return False"
   ]
  },
  {
   "cell_type": "markdown",
   "metadata": {},
   "source": [
    "Let's go through each line of code in the algorithm one-by-one. \n",
    "```python\n",
    "def linear_search(arr, target): \n",
    "```\n",
    "- This line defines a function named **linear_search** that takes in two **parameters**: *arr*, which represents the list to be searched, and target, which represents the *value* we are searching for.\n",
    "\n",
    "```python\n",
    "for element in arr:\n",
    "```\n",
    "- This line initiates a loop that iterates over each element in the list *arr*, ensuring that the loop iterates until the end of the list.\n",
    "\n",
    "```python\n",
    "if element == target:\n",
    "```\n",
    "- This line checks if the current element in the list is equal to the target value we are searching for.\n",
    "\n",
    "```python\n",
    "return element\n",
    "```\n",
    "- If the target value is found, then we are able to confirm the *target* exists in the list, returning **True**.\n",
    "\n",
    "```python\n",
    "return False \n",
    "```\n",
    "- If the *target* value is not found after checking all elements, this line returns **False** to indicate that the target value is not present in the list."
   ]
  },
  {
   "cell_type": "markdown",
   "metadata": {},
   "source": [
    "Let's test our algorithm. "
   ]
  },
  {
   "cell_type": "code",
   "execution_count": null,
   "metadata": {},
   "outputs": [],
   "source": [
    "# Test case 1: Search for the target value 8\n",
    "true_case = linear_search_proper(list_of_nums, 8)\n",
    "print(f\"Result for target value 8: {true_case}\")\n",
    "\n",
    "# Test case 2: Search for the target value 'hello'\n",
    "false_case = linear_search_proper(list_of_nums, 'hello')\n",
    "print(f\"Result for target value 'hello': {false_case}\")"
   ]
  },
  {
   "cell_type": "markdown",
   "metadata": {},
   "source": [
    "It appears that our algorithm is working properly! Now it's your turn to make an adjustment. \n",
    "\n",
    "Modify the `linear_search` function to not only determine if the target value is present, but to return the **index** at which the target value is located. If the target value is not in the list, return **False**. "
   ]
  },
  {
   "cell_type": "code",
   "execution_count": null,
   "metadata": {},
   "outputs": [],
   "source": [
    "def linear_search(arr, target):\n",
    "    # TODO: Write your code here\n",
    "    pass"
   ]
  },
  {
   "cell_type": "markdown",
   "metadata": {},
   "source": [
    "## Time Complexity\n",
    "\n",
    "In computer science, time complexity is a concept used to describe the *amount of time* it takes for an algorithm to run as a **function** of the length of the input. It helps us understand how the algorithm's running time increases with the *size of the input*. Time complexity is usually expressed using **big O notation**, which provides an upper bound on the growth rate of the running time in terms of the input size.\n",
    "\n",
    "For example, if an algorithm has a time complexity of **O(n)**, it means the algorithm's running time grows linearly with the size of the input. If it has a time complexity of **O(n^2)**, the running time grows quadratically with the input size, and so on. Understanding time complexity is essential for evaluating and comparing the efficiency of different algorithms, especially when dealing with large datasets.\n",
    "\n",
    "Refer to the provided image below, illustrating different time complexities, to gain a clearer understanding of how these complexities scale as the input size increases."
   ]
  },
  {
   "cell_type": "markdown",
   "metadata": {},
   "source": [
    "<div style=\"text-align:center\">\n",
    "    <img src=\"images/timecomplexity.png\" />\n",
    "</div>"
   ]
  },
  {
   "cell_type": "markdown",
   "metadata": {},
   "source": [
    "### Time Complexity of Linear Search\n",
    "\n",
    "**Best Case Scenario**:\n",
    "In the best case, the element being searched is found at the beginning of the list. In this scenario, the time complexity of the Linear Search algorithm is O(1) because it only requires one comparison to find the desired element.\n",
    "\n",
    "**Average Case Scenario**:\n",
    "In the average case, the element being searched is equally likely to be present at any position in the list. Therefore, on average, the algorithm needs to search through half of the list, resulting in a time complexity of O(n/2), where *n* is the length of the input list. However, in algorithmic analysis, this simplifies to O(n).\n",
    "\n",
    "**Worst Case Scenario**:\n",
    "In the worst case, the element being searched is not present in the list, or it is present at the end of the list. In this scenario, the algorithm needs to iterate through the entire list of size n to determine that the element is not present, resulting in a time complexity of O(n).\n",
    "\n",
    "Remember how we mentioned that in analyzing algorithms, we generally use the upper bound when calculating the running time of an algorithm? This means that when looking at linear search's time complexity, we would use the worst case scenario, meaning it has a time complexity of O(n) time."
   ]
  },
  {
   "cell_type": "code",
   "execution_count": null,
   "metadata": {},
   "outputs": [],
   "source": [
    "def test_linear_search():\n",
    "    all_good = True\n",
    "    \n",
    "    # Test case 1: Target exists in the list\n",
    "    arr1 = [3, 5, 2, 8, 4, 7]\n",
    "    target1 = 4\n",
    "    if linear_search(arr1, target1) != 4:\n",
    "        print(f\"Test case 1 failed: Expected index 4, but got {linear_search(arr1, target1)}\")\n",
    "        all_good = False\n",
    "\n",
    "    # Test case 2: Target does not exist in the list\n",
    "    arr2 = [1, 2, 3, 4, 5]\n",
    "    target2 = 6\n",
    "    if linear_search(arr2, target2) != False:\n",
    "        print(f\"Test case 2 failed: Expected False, but got {linear_search(arr2, target2)}\")\n",
    "        all_good = False\n",
    "    \n",
    "    # Test case 3: Target is the first element in the list\n",
    "    arr3 = [5, 3, 8, 2, 9]\n",
    "    target3 = 5\n",
    "    if linear_search(arr3, target3) != 0:\n",
    "        print(f\"Test case 3 failed: Expected index 0, but got {linear_search(arr3, target3)}\")\n",
    "        all_good = False\n",
    "    \n",
    "    # Test case 4: Empty list\n",
    "    arr4 = []\n",
    "    target4 = 5\n",
    "    if linear_search(arr4, target4) != False:\n",
    "        print(f\"Test case 4 failed: Expected False, but got {linear_search(arr4, target4)}\")\n",
    "        all_good = False\n",
    "    \n",
    "    if all_good:\n",
    "        print(\"All test cases pased! \")\n",
    "\n",
    "test_linear_search()"
   ]
  },
  {
   "cell_type": "markdown",
   "metadata": {},
   "source": [
    "## Time to Sort!"
   ]
  },
  {
   "cell_type": "markdown",
   "metadata": {},
   "source": [
    "Now that we've explored the concept of linear search and searching algorithms, let's flip sides and talk about **sorting** algorithms. These algorithms are used to arrange elements in a specific order, making it easier to search, analyze, and process data more efficiently."
   ]
  },
  {
   "cell_type": "markdown",
   "metadata": {},
   "source": [
    "### The Basic Sorting Algorithm: Selection Sort\n",
    "\n",
    "One of the fundamental sorting algorithms is the **Selection Sort**. It works by *dividing* the input list into two parts: the sublist of *items already sorted* and the sublist of *items remaining to be sorted*. The algorithm repeatedly finds the smallest element from the unsorted sublist and swaps it with the leftmost unsorted element. Selection Sort is straightforward to understand, but it is not efficient for large datasets. "
   ]
  },
  {
   "cell_type": "markdown",
   "metadata": {},
   "source": [
    "Let's demonstrate the selection sort process. In this example, we're to write beside each pass what the **minimum value** and the index we are currently on in each iteration will be lighlighted in **blue**. The sublist of items that are already sorted will be highlighted in **red**. \n",
    "\n",
    "<div align=\"center\">\n",
    "Initial List: [2, 4, 7, 6, 0]\n",
    "</div>\n",
    "\n",
    "1. In the first iteration, we're going to find the smallest value in the sublist of *items that remain to be sorted*. In this case, since we haven't sorted any items, this is the entire list. \n",
    "- Pass 1. [<span style=\"color:blue\">2</span>, 4, 7, 6, 0] ---> **Minimum** = 2\n",
    "  \n",
    "- Pass 2. [2, <span style=\"color:blue\">4</span>, 7, 6, 0] ---> **Minimum** = 2, \n",
    "  \n",
    "- Pass 3. [2, 4, <span style=\"color:blue\">7</span>, 6, 0] ---> **Minimum** = 2\n",
    "  \n",
    "- Pass 4. [2, 4, 7, <span style=\"color:blue\">6</span>, 0] ---> **Minimum** = 2\n",
    "  \n",
    "- Pass 5. [2, 4, 7, 6, <span style=\"color:blue\">0</span>] ---> **Minimum** = 0\n",
    "  \n",
    "- Swap. [<span style=\"color:red\">0</span>, 4, 7, 6, 2] (Swap: 0 and 2)\n",
    "<br><br>\n",
    "2. We now have 1 item in our sorted partition. Let's continue by finding the second-smallest item in our *unsorted* sublist. \n",
    "\n",
    "- Pass 1. [<span style=\"color:red\">0</span>, <span style=\"color:blue\">4</span>, 7, 6, 2] ---> **Minimum** = 4\n",
    "\n",
    "- Pass 2. [<span style=\"color:red\">0</span>, 4, <span style=\"color:blue\">7</span>, 6, 2] ---> **Minimum** = 4\n",
    "  \n",
    "- Pass 3 [<span style=\"color:red\">0</span>, 4, 7, <span style=\"color:blue\">6</span>, 2] ---> **Minimum** = 4\n",
    "\n",
    "- Pass 4 [<span style=\"color:red\">0</span>, 4, 7, 6, <span style=\"color:blue\">2</span>] ---> **Minimum** = 2\n",
    "\n",
    "- Swap [<span style=\"color:red\">0, 2</span>, 7, 6, 4] (Swap 2 and 4)\n",
    "<br><br>\n",
    "3. We now have 2 items that are sorted in our list. We continue our swapping process until the rest of our items are sorted.\n",
    "\n",
    "- Pass 1 [<span style=\"color:red\">0, 2</span>, <span style=\"color:blue\">7</span>, 6, 4] ---> **Minimum** = 7\n",
    "\n",
    "- Pass 2 [<span style=\"color:red\">0, 2</span>, 7, <span style=\"color:blue\">6</span>, 4] ---> **Minimum** = 6\n",
    "\n",
    "- Pass 3 [<span style=\"color:red\">0, 2</span>, 7, 6, <span style=\"color:blue\">4</span>] ---> **Minimum** = 4\n",
    "\n",
    "- Swap [<span style=\"color:red\">0, 2, 4</span>, 6, 7] (Swap 4 and 7)\n",
    "<br><br>\n",
    "4. Now more than half of our items in our list is sorted. We are almost finished sorting. \n",
    "\n",
    "- Pass 1 [<span style=\"color:red\">0, 2, 4</span>, <span style=\"color:blue\">6</span>, 7] ---> **Minimum** = 6\n",
    "\n",
    "- Pass 2 [<span style=\"color:red\">0, 2, 4</span>, 6, <span style=\"color:blue\">7</span>] ---> **Minimum** = 7\n",
    "\n",
    "- Swap [<span style=\"color:red\">0, 2, 4, 6</span>, 7] (No swap occurs, our initial element **(6)** was the minimum in the unsorted sublist)\n",
    "<br><br>\n",
    "5. We have 1 element left in our unsorted sublist. Let's finish our sorting. \n",
    "\n",
    "- Pass 1 [<span style=\"color:red\">0, 2, 4, 6</span>, <span style=\"color:blue\">7</span>] ---> **Minimum** = 7\n",
    "\n",
    "- Swap [<span style=\"color:red\">0, 2, 4, 6, 7</span>] (No swap occurs, our initial element **(7)** was the minimum in the unsorted sublist)\n",
    "\n",
    "<div align=\"center\">\n",
    "Now our list is sorted: [0, 2, 4, 6, 7]\n",
    "</div>"
   ]
  },
  {
   "cell_type": "markdown",
   "metadata": {},
   "source": [
    "Now it's your turn to implement the algorithm! Using the hints below, try to implement **selection sort**. \n",
    "\n",
    "Note: To add your portions of code below, remove the *#* or *comment tag* and then insert your code in the corresponding line. "
   ]
  },
  {
   "cell_type": "code",
   "execution_count": null,
   "metadata": {},
   "outputs": [],
   "source": [
    "def selection_sort(list_of_nums):\n",
    "    length_of_nums = len(list_of_nums)\n",
    "\n",
    "    for index in range(length_of_nums): \n",
    "        # TODO: What is the minimum index initially set to?\n",
    "\n",
    "        # TODO: Iterate over the remaining indices of the list. How is this done?\n",
    "        \n",
    "            # TODO: What is the condition that we need to check?\n",
    "            \n",
    "                # TODO: What is done after this condition?\n",
    "        \n",
    "        # TODO: What is done after the minimum index is found?\n",
    "        \n",
    "    return list_of_nums"
   ]
  },
  {
   "cell_type": "markdown",
   "metadata": {},
   "source": [
    "<details>\n",
    "<summary>Click here for code hints for the first 3 TODOs</summary>\n",
    "\n",
    "```python\n",
    "min_index = index\n",
    "\n",
    "for swap_index in range(index + 1, length_of_nums):\n",
    "    \n",
    "    if list_of_nums[swap_index] < list_of_nums[min_index]:"
   ]
  },
  {
   "cell_type": "markdown",
   "metadata": {},
   "source": [
    "<details>\n",
    "<summary>Click here for code hints for the rest of the TODOs</summary>\n",
    "\n",
    "```python\n",
    "min_index = swap_index\n",
    "\n",
    "list_of_nums[index], list_of_nums[min_index] = list_of_nums[min_index], list_of_nums[index]\n"
   ]
  },
  {
   "cell_type": "code",
   "execution_count": null,
   "metadata": {},
   "outputs": [],
   "source": [
    "def test_selection_sort():\n",
    "    all_good = True \n",
    "    \n",
    "    # Test case 1: Unsorted array\n",
    "    arr1 = [64, 25, 12, 22, 11]\n",
    "    sorted_arr1 = selection_sort(arr1)\n",
    "    if sorted_arr1 != [11, 12, 22, 25, 64]:\n",
    "        print(f\"Test case 1 failed: Expected [11, 12, 22, 25, 64], but got {sorted_arr1}\")\n",
    "        all_good = False\n",
    "\n",
    "    # Test case 2: Already sorted array\n",
    "    arr2 = [1, 2, 3, 4, 5]\n",
    "    sorted_arr2 = selection_sort(arr2)\n",
    "    if sorted_arr2 != [1, 2, 3, 4, 5]:\n",
    "        print(f\"Test case 2 failed: Expected [1, 2, 3, 4, 5], but got {sorted_arr2}\")\n",
    "        all_good = False\n",
    "\n",
    "    # Test case 3: Array with negative numbers\n",
    "    arr3 = [0, -1, -4, 3, -2]\n",
    "    sorted_arr3 = selection_sort(arr3)\n",
    "    if sorted_arr3 != [-4, -2, -1, 0, 3]:\n",
    "        print(f\"Test case 3 failed: Expected [-4, -2, -1, 0, 3], but got {sorted_arr3}\")\n",
    "        all_good = False\n",
    "        \n",
    "    # Test case 4: Array with duplicate elements\n",
    "    arr4 = [5, 5, 4, 3, 2, 1]\n",
    "    sorted_arr4 = selection_sort(arr4)\n",
    "    if sorted_arr4 != [1, 2, 3, 4, 5, 5]:\n",
    "        print(f\"Test case 4 failed: Expected [1, 2, 3, 4, 5, 5], but got {sorted_arr4}\")\n",
    "        all_good = False\n",
    "    \n",
    "    if all_good:\n",
    "        print(\"All test cases passed!\")\n",
    "\n",
    "test_selection_sort()"
   ]
  },
  {
   "cell_type": "markdown",
   "metadata": {},
   "source": [
    "### Time Complexity of Selection Sort\n",
    "\n",
    "**Best Case Scenario:**\n",
    "In the best case, the time complexity of Selection Sort is O(n²). Even if the array is already sorted, the algorithm must perform the same number of comparisons and swaps as it would for an unsorted array.\n",
    "\n",
    "**Average Case Scenario:**\n",
    "In the average case, the time complexity remains O(n²). Selection Sort's performance is consistent and does not improve with an increase in the input size.\n",
    "\n",
    "**Worst Case Scenario:**\n",
    "In the worst case, the time complexity of Selection Sort is O(n²). This occurs when the array is in reverse order or in a completely unsorted state. The algorithm will perform the maximum number of comparisons and swaps.\n",
    "\n",
    "Selection Sort's time complexity is relatively poor, especially for large datasets, as it has to perform a significant number of comparisons and swaps regardless of the initial order of the elements. As a result, it is not suitable for sorting large datasets efficiently."
   ]
  },
  {
   "cell_type": "markdown",
   "metadata": {},
   "source": [
    "## Putting it All Together: Binary Search"
   ]
  },
  {
   "cell_type": "markdown",
   "metadata": {},
   "source": [
    "Now that we've learned some basic sorting and searching, let's put it all together. Let's say that we have an already sorted list as an input, is it possible to improve our searching efficiency so that our time complexity lowers? We can, and this is achieved through **binary search**.\n",
    "\n",
    "### Binary Search: Improving Search Efficiency\n",
    "\n",
    "**Binary Search** is an efficient searching algorithm specifically designed for sorted lists. It works by repeatedly dividing the search interval in half by using two pointers (generally denoted as left and right). By comparing the *middle* element of the sorted list with the target value, it determines whether the target value is present in the *lower* or *upper* half of the interval. This process continues until the value is found, or the interval is empty.\n",
    "\n",
    "Using binary search also offers a significant improvement in search efficiency, with a time complexity of **O(log n)** in the *worst case*, where **n** is the *number of elements in the list*. This logarithmic time complexity makes it highly efficient, especially for large datasets, compared to linear search algorithms. Let's showcase a visualization of how binary search works."
   ]
  },
  {
   "cell_type": "markdown",
   "metadata": {},
   "source": [
    "<div align=\"center\">\n",
    "Initial List: [2, 4, 7, 6, 0]\n",
    "</div>"
   ]
  },
  {
   "cell_type": "markdown",
   "metadata": {},
   "source": [
    "<div style=\"text-align:center\">\n",
    "    <img src=\"images/binarysearch1.png\" />\n",
    "</div>"
   ]
  },
  {
   "cell_type": "markdown",
   "metadata": {},
   "source": [
    "Here is a quick look at our initial list before we get into the first iteration of our **binary search**. Our target value is **46**, which is highlighted in green. "
   ]
  },
  {
   "cell_type": "markdown",
   "metadata": {},
   "source": [
    "<div style=\"text-align:center\">\n",
    "    <img src=\"images/binarysearch2.png\" />\n",
    "</div>"
   ]
  },
  {
   "cell_type": "markdown",
   "metadata": {},
   "source": [
    "When we calculate the **middle** point of our bounds, we need to stick to a *consistent rounding system*. In our implementation of binary search, we'll be rounding **down**.\n",
    "\n",
    "### Iteration 1:\n",
    "In our first iteration, we have a **left** bound of 0 and a **right** bound of 11. The average of these bounds is 5 (rounded down). We then go to the 5th element in our list and then check if it's greater, lower, or equal to our target value. \n",
    "\n",
    "Since *33 is less than 46*, we eliminate all values to the left of 33, including 33 itself. We can do this because our list is **sorted**, and we know all values to the left of 33 are smaller than 33, meaning there is no chance 46 can be to the left of the 5th element in the list. \n",
    "\n",
    "Now, we update our *left pointer* **one** to the **right** of our *middle pointer*, so that we can calculate the new bounds of list. "
   ]
  },
  {
   "cell_type": "markdown",
   "metadata": {},
   "source": [
    "<div style=\"text-align:center\">\n",
    "    <img src=\"images/binarysearch3.png\" />\n",
    "</div>"
   ]
  },
  {
   "cell_type": "markdown",
   "metadata": {},
   "source": [
    "### Iteration 2:\n",
    "\n",
    "In our second iteration, we have a **left** bound of 6 and a **right** bound of 11. The average of these bounds is 8 (rounded down). We then go to the 8th element in our list and check if it's greater, lower, or equal to our target.\n",
    "\n",
    "Since *57 is greater than 46*, we eliminate all values to the right of 57, including 57 itself. \n",
    "\n",
    "Now, we update our *right pointer* **one** to the **left** of our *middle pointer*, so that we can calculate the new bounds of list. "
   ]
  },
  {
   "cell_type": "markdown",
   "metadata": {},
   "source": [
    "<div style=\"text-align:center\">\n",
    "    <img src=\"images/binarysearch4.png\" />\n",
    "</div>"
   ]
  },
  {
   "cell_type": "markdown",
   "metadata": {},
   "source": [
    "### Iteration 3:\n",
    "In our third iteration, we have a **left** bound of 6 and a **right** bound of 7. The average of these bounds is 6 (rounded down). We then go to the 6th element in our list and check if it's greater, lower, or equal to our target.\n",
    "\n",
    "Since *46 is equal to 46*, we know that we have now found our value. \n",
    "\n",
    "Since we have found our value, we can return the **middle pointer** as it was on the index where the target value was found. "
   ]
  },
  {
   "cell_type": "code",
   "execution_count": null,
   "metadata": {},
   "outputs": [],
   "source": [
    "def binary_search(array, target):\n",
    "    left, right = 0 ,len(array)-1\n",
    "    while left <= right:\n",
    "        mid = (left+right)//2\n",
    "        if target == array[mid]:\n",
    "            return mid\n",
    "        elif target < array[mid]:\n",
    "            right = mid - 1\n",
    "        else:\n",
    "            left = mid + 1\n",
    "    return -1"
   ]
  }
 ],
 "metadata": {
  "kernelspec": {
   "display_name": "Python 3",
   "language": "python",
   "name": "python3"
  },
  "language_info": {
   "codemirror_mode": {
    "name": "ipython",
    "version": 3
   },
   "file_extension": ".py",
   "mimetype": "text/x-python",
   "name": "python",
   "nbconvert_exporter": "python",
   "pygments_lexer": "ipython3",
   "version": "3.10.8"
  }
 },
 "nbformat": 4,
 "nbformat_minor": 2
}
