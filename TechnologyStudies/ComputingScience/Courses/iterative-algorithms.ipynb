{
 "cells": [
  {
   "cell_type": "markdown",
   "metadata": {},
   "source": [
    "# CSE3110: Iterative Algorithms 1\n",
    "\n",
    "*[Alberta Education Learning Outcomes-Business, Administration, Finance & Information Technology (BIT)](https://education.alberta.ca/media/159479/cse_pos.pdf)*\n",
    "\n",
    "*Computer Science-Page 25*\n",
    "\n",
    "\n",
    "*Prerequisite: [CSE2120: Data Structures 1](data-structures-1.ipynb)*\n",
    "\n",
    "***\n",
    "\n",
    "Students learn how to design code and debug programs that use a set of data structures that can be used to handle lists of related data. Building on their knowledge of basic or primitive data types, they learn how to work with fundamental data structures such as the array and the record. As part of this process, they learn what types of problems benefit from the use of these types of data structures.\n"
   ]
  }
 ],
 "metadata": {
  "language_info": {
   "name": "python"
  }
 },
 "nbformat": 4,
 "nbformat_minor": 2
}
