{
 "cells": [
  {
   "cell_type": "markdown",
   "metadata": {},
   "source": [
    "# CSE3110: Iterative Algorithms 1\n",
    "\n",
    "*[Alberta Education Learning Outcomes-Business, Administration, Finance & Information Technology (BIT)](https://education.alberta.ca/media/159479/cse_pos.pdf)*\n",
    "\n",
    "*Computer Science-Page 25*\n",
    "\n",
    "\n",
    "*Prerequisite: [CSE2120: Data Structures 1](data-structures-1.ipynb)*\n",
    "\n",
    "***\n",
    "\n",
    "Students learn a number of standard iterative data processing algorithms\n",
    "useful for working with data structures such as arrays. These include an\n",
    "iterative version of the binary search, the three basic sorts—exchange\n",
    "(bubble), insertion and selection, and a simple merge. In the process, they\n",
    "learn when and where to apply these algorithms. "
   ]
  },
  {
   "cell_type": "markdown",
   "metadata": {},
   "source": [
    "The student will:\n",
    "\n",
    "1.  analyze and represent the nature, structure and utility of common iterative algorithms\n",
    "    1. compare and contrast search, sort and merge algorithms\n",
    "    1. explain the way in which search, sort and merge algorithms manipulate data\n",
    "    1. describe the data structures required by search, sort and merge algorithms\n",
    "    1. describe how search, sort and merge algorithms are implemented in a programming environment\n",
    "    1. describe and represent iterative search algorithms including:\n",
    "       1. linear search\n",
    "        1. binary search\n",
    "        2. compare and contrast how linear and binary searches manipulate data\n",
    "        3. compare and contrast the data structures required and the computational efficiencies of linear and binary searches\n",
    "    1. describe and represent basic iterative sort algorithms including:\n",
    "        1. exchange sort; e.g., bubble sort, cocktail sort, gnome sort, comb sort\n",
    "        2. selection sort; e.g., selection sort, strand sort\n",
    "        3. insertion sort; e.g., insertion sort, library sort\n",
    "        4. comparing and contrasting how different classes of sorts manipulate data\n",
    "        5. comparing and contrasting the data structures required and the computational efficiencies of different classes of sorts\n",
    "    1. describe and represent simple iterative merge algorithms\n",
    "<br><br>\n",
    "1. create and/or modify algorithms that use searches, sorts and merges to solve problems\n",
    "   1. demonstrate the use of appropriate general design techniques for the programming environment being considered for implementation\n",
    "   2. analyze and decompose the problem into appropriate subsections using the decomposition techniques appropriate for the chosen design approach\n",
    "   3. evaluate subsections and identify any that may require some type of search, sort and/or merge algorithm, based on the nature of the data to be processed and the type of processing operations\n",
    "   4. identify which algorithms are appropriate or required to search, sort and/or merge data\n",
    "   5. sequence the various subsections appropriately\n",
    "   6. test and modify the developing algorithm with appropriate data using a “fail-on-paper” process\n",
    "<br><br>\n",
    "1. create and/or modify programs that use searches, sorts and merges to solve problems\n",
    "   1. convert algorithms calling for standard iterative structures into programs that reflect the algorithm’s design\n",
    "   2. use original (user-created) or pre-existing search, sort and/or merge algorithms appropriate to the data being manipulated\n",
    "   3. utilize the appropriate operators, methods, functions or procedures required to carry out the standard algorithms\n",
    "   4. use internal and external documentation\n",
    "<br><br>\n",
    "4. compare program operation and outcomes with the intent of the algorithm and modify, as required\n",
    "   1. use appropriate error-trapping mechanisms built into the programming environment, as well as programmer-directed error-trapping techniques, to eliminate logic errors and debug the program\n",
    "   2. compare the congruency between the outcomes of the debugged program and the original intent of the algorithm and modify both, as required\n",
    "<br><br>\n",
    "5. demonstrate basic competencies\n",
    "   1. demonstrate fundamental skills to:\n",
    "      1. communicate\n",
    "      2. manage information\n",
    "      3. use numbers\n",
    "      4. think and solve problems\n",
    "   2. demonstrate personal management skills to:\n",
    "      1. demonstrate positive attitudes and behaviours\n",
    "      2. be responsible\n",
    "      3. be adaptable\n",
    "      4. learn continuously\n",
    "      5.  work safely\n",
    "   3. demonstrate teamwork skills to:\n",
    "      1. work with others\n",
    "      2. participate in projects and tasks\n",
    "<br><br>\n",
    "6. create a transitional strategy to accommodate personal changes and build personal values\n",
    "   1. identify short-term and long-term goals\n",
    "   2. identify steps to achieve goals"
   ]
  },
  {
   "cell_type": "markdown",
   "metadata": {},
   "source": [
    "## Algorithms"
   ]
  },
  {
   "cell_type": "markdown",
   "metadata": {},
   "source": [
    "We'll begin this notebook by describing what an **algorithm** is. Merriam-Webster broadly defines it as:\n",
    "\n",
    "<div class=\"alert alert-block alert-info\">\n",
    "<b>Definition:</b> a step-by-step procedure for solving a problem or accomplishing some end\n",
    "</div>\n",
    "\n",
    "Now, why are algorithms so crucial? Well, they play a significant role in solving problems effectively and swiftly. Consider them as the **intricate instructions** that guide a computer to perform tasks. \n",
    "\n",
    "For instance, imagine you're planning the most *efficient* route to visit a friend's house in another part of town. Algorithms are like the GPS system that calculates the *quickest* path, helping you avoid traffic and reach your destination in the *shortest* time possible."
   ]
  },
  {
   "cell_type": "markdown",
   "metadata": {},
   "source": [
    "## Linear Search \n",
    "\n",
    "The **linear search** algorithm is one of the most straightforward and fundamental algorithms in computer science. This is a great starting point to begin explaining the nature of algorithms and how different algorithms are improved based on this template. \n",
    "\n",
    "The **linear search** algorithm involves sequentially checking each element of a list to find a specific target value. This process continues until the target is found, or the entire list has been traversed."
   ]
  },
  {
   "cell_type": "markdown",
   "metadata": {},
   "source": [
    "Suppose we have a list of numbers:"
   ]
  },
  {
   "cell_type": "code",
   "execution_count": null,
   "metadata": {},
   "outputs": [],
   "source": [
    "list_of_nums = [3, 5, 2, 8, 1, 9, 4, 6]"
   ]
  },
  {
   "cell_type": "markdown",
   "metadata": {},
   "source": [
    "We can implement a linear search algorithm to find the index of a specific target value within the list:"
   ]
  },
  {
   "cell_type": "code",
   "execution_count": null,
   "metadata": {},
   "outputs": [],
   "source": [
    "def linear_search(arr, target):\n",
    "    for element in range(len(arr)):\n",
    "        if arr[element] == target:\n",
    "            return element\n",
    "    return -1"
   ]
  }
 ],
 "metadata": {
  "kernelspec": {
   "display_name": "Python 3",
   "language": "python",
   "name": "python3"
  },
  "language_info": {
   "name": "python",
   "version": "3.10.8"
  }
 },
 "nbformat": 4,
 "nbformat_minor": 2
}
