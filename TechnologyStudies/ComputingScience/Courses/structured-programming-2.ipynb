{
 "cells": [
  {
   "cell_type": "markdown",
   "metadata": {},
   "source": [
    "![Callysto.ca Banner](https://github.com/callysto/curriculum-notebooks/blob/master/callysto-notebook-banner-top.jpg?raw=true)\n",
    "\n",
    "<a href=\"https://hub.callysto.ca/jupyter/hub/user-redirect/git-pull?repo=https%3A%2F%2Fgithub.com%2Fcallysto%2Fcurriculum-notebooks&branch=master&subPath=TechnologyStudies/ComputingScience/Courses/structured-programming-2.ipynb&depth=1\"><img src=\"https://raw.githubusercontent.com/callysto/curriculum-notebooks/master/open-in-callysto-button.svg?sanitize=true\" width=\"123\" height=\"24\" alt=\"Open in Callysto\"/></a>"
   ]
  },
  {
   "cell_type": "markdown",
   "metadata": {},
   "source": [
    "# CSE1120: Structured Programming 2\n",
    "\n",
    "*[Alberta Education Learning Outcomes-Business, Administration, Finance & Information Technology (BIT)](https://education.alberta.ca/media/159479/cse_pos.pdf)*\n",
    "\n",
    "*Computer Science-Page 5*\n",
    "\n",
    "\n",
    "*Prerequisite: [CSE1110: Structured Programming 1](structured-programming-1.ipynb)*\n",
    "\n",
    "***\n",
    "\n",
    "Students work with structured programming constructs by adding the selection and iteration program control flow mechanisms to their programming repertoire. They write structured algorithms and programs that use blocks to introduce an element of modularity into their programming practice.\n"
   ]
  },
  {
   "cell_type": "markdown",
   "metadata": {},
   "source": [
    "## Functions\n",
    "\n",
    "We have used functions in Python such `print()` and `range()`, but we can also define our own functions. A function, or subroutine, is a set of instructions for performing a task.\n",
    "\n",
    "As an example, let's create a function that converts temperature values in Celsius to Fahrenheit. The equation should be $ F = (C \\times 9/5) + 32 $"
   ]
  },
  {
   "cell_type": "code",
   "execution_count": null,
   "metadata": {},
   "outputs": [],
   "source": [
    "def convert_celsius(c):\n",
    "    f = (c * 9 / 5) + 32\n",
    "    return f\n",
    "\n",
    "# call the function with 20 degrees Celsius\n",
    "convert_celsius(20)"
   ]
  },
  {
   "cell_type": "markdown",
   "metadata": {},
   "source": [
    "Now that the `convert_celsius` function has been defined, we can use it in other code cells."
   ]
  },
  {
   "cell_type": "code",
   "execution_count": null,
   "metadata": {},
   "outputs": [],
   "source": [
    "print(convert_celsius(0))\n",
    "\n",
    "for c in range(20, 30):\n",
    "    f = convert_celsius(c)\n",
    "    print(f'{c} °C = {f} °F')"
   ]
  },
  {
   "cell_type": "markdown",
   "metadata": {},
   "source": [
    "1. Using the `convert_celsius` function as an example, write a new function to convert °F to °C. The equation should be $ C = (F - 32) \\times 9/5 $"
   ]
  },
  {
   "cell_type": "code",
   "execution_count": null,
   "metadata": {},
   "outputs": [],
   "source": []
  },
  {
   "cell_type": "markdown",
   "metadata": {},
   "source": [
    "## Visualizing with Functions\n",
    "\n",
    "Now that we have functions to convert temperatures, we can create a [dictionary](https://realpython.com/python-dicts) of Celsius temperatures and their Fahrenheit equivalents."
   ]
  },
  {
   "cell_type": "code",
   "execution_count": null,
   "metadata": {},
   "outputs": [],
   "source": [
    "temperatures = {}\n",
    "for c in range(-273, 150):\n",
    "    temperatures[c] = convert_celsius(c)\n",
    "\n",
    "temperatures"
   ]
  },
  {
   "cell_type": "markdown",
   "metadata": {},
   "source": [
    "From that dictionary we can create a [dataframe](https://pandas.pydata.org/pandas-docs/stable/reference/api/pandas.DataFrame.html) and then a [scatter plot](https://plotly.com/python/line-and-scatter)."
   ]
  },
  {
   "cell_type": "code",
   "execution_count": null,
   "metadata": {},
   "outputs": [],
   "source": [
    "import pandas as pd\n",
    "import plotly.express as px\n",
    "\n",
    "df = pd.DataFrame()\n",
    "df['Celsius'] = temperatures.keys()\n",
    "df['Fahrenheit'] = temperatures.values()\n",
    "\n",
    "px.scatter(df, title='Celsius and Fahrenheit Temperatures')"
   ]
  },
  {
   "cell_type": "markdown",
   "metadata": {},
   "source": [
    "2. Project A: Game Creation\n",
    "\n",
    "Create a basic text-based game, such as [Rock paper scissors](https://en.wikipedia.org/wiki/Rock_paper_scissors) or [Mad Libs](https://en.wikipedia.org/wiki/Mad_Libs). Your game must include:\n",
    "\n",
    "* getting input from the player\n",
    "* processing the input\n",
    "* producing some output\n",
    "* variables\n",
    "* iteration or conditional statements\n",
    "\n",
    "Make sure you include documentation, such as code comments or markdown cells, to explain each step of what your code is doing."
   ]
  },
  {
   "cell_type": "code",
   "execution_count": null,
   "metadata": {},
   "outputs": [],
   "source": []
  },
  {
   "cell_type": "markdown",
   "metadata": {},
   "source": [
    "3. Project B: Interesting Problem\n",
    "\n",
    "Choose one of the following problems to solve using Python code:\n",
    "\n",
    "* How many three-digit [prime numbers](https://en.wikipedia.org/wiki/Prime_number) are there?\n",
    "* What is the sum of all the even two-digit integers?\n",
    "* Which two-digit number has the most factors?\n",
    "* What is the largest possible number you can get from adding two three-digit integers with no duplicate digits? e.g. 123 + 456 = 579\n",
    "* How many possible arrangements of integers will fill the blanks in `_ _ × _ _ = _ _ _ _` with no duplicate digits?\n",
    "* What is the 1000th [prime number](https://en.wikipedia.org/wiki/Prime_number)?\n",
    "* Find the [product](https://en.wikipedia.org/wiki/Product_(mathematics)) of the first 100 numbers in the [Fibonacci sequence](https://en.wikipedia.org/wiki/Fibonacci_sequence).\n",
    "* or another interesting problem of your choice\n",
    "\n",
    "Make sure you include documentation, such as code comments or markdown cells, to explain each step of what your code is doing."
   ]
  },
  {
   "cell_type": "code",
   "execution_count": null,
   "metadata": {},
   "outputs": [],
   "source": []
  },
  {
   "cell_type": "markdown",
   "metadata": {},
   "source": [
    "4. Write a paragraph about either how you created your game or how you solved the interesting problem. Be sure to also include what went well and what could be improved. Double-click the markdown cell below to edit it and add your paragraph."
   ]
  },
  {
   "cell_type": "markdown",
   "metadata": {},
   "source": [
    "For this project..."
   ]
  },
  {
   "cell_type": "markdown",
   "metadata": {},
   "source": [
    "5. Write a paragraph in the cell below about how the knowledge and skills you are learning learning could relate to your future career choices."
   ]
  },
  {
   "cell_type": "markdown",
   "metadata": {},
   "source": [
    "The knowledge and skills..."
   ]
  },
  {
   "cell_type": "markdown",
   "metadata": {},
   "source": [
    "Now that you have completed this notebook, submit your work to your teacher by downloading this notebook or pasting your responses into a document."
   ]
  },
  {
   "cell_type": "markdown",
   "metadata": {},
   "source": [
    "---\n",
    "\n",
    "# Outcomes:\n",
    "\n",
    "The student will:\n",
    "\n",
    "1. demonstrate basic structured programming skills by writing algorithms to solve problems involving selection (decision making) and iteration (repetition)\n",
    "    1. analyze a problem and determine if it can be solved using an algorithm that employs an input/processing/output (IPO) approach\n",
    "    2. determine if there is more than one IPO module present\n",
    "    3. decompose the problem into its respective modules and identify the IPO components of each module\n",
    "    4. identify what data is already available to the programmer and what must be inputted by the end user and organize into appropriate block or blocks using the appropriate program control structures\n",
    "    5. identify the processing requirements and organize into appropriate blocks using the appropriate program control structures\n",
    "    6. incorporate basic algorithmic idioms as required; e.g., accumulation, determining maximum or minimum values\n",
    "    7. identify the output requirements and organize into appropriate blocks using the appropriate program control structures\n",
    "    8. order components into an appropriate sequence where processing occurs only when all required data for a module is available and output occurs only after appropriate processing has occurred\n",
    "    9. write the algorithm in an acceptable format; e.g., pseudocode, a structured chart\n",
    "<br><br>\n",
    "2. translate algorithms into source code, convert the source code into machine executable form, execute and debug, as required\n",
    "<br><br>\n",
    "    1. maintain the IPO structure of the algorithm\n",
    "    2. use appropriate internal and external documentation\n",
    "    3. use appropriate basic (primitive) data types such as integers, real numbers, characters, strings, and Boolean values\n",
    "    4. use appropriate variables and constants to hold data\n",
    "    5. use literals and input commands, e.g., methods or operators, to provide data for processing\n",
    "    6. use assignment, arithmetical, relational, Boolean, and concatenation and interpolation operators, where appropriate, to process data\n",
    "    7. use basic processing idioms as required; e.g., accumulation, determining maximum or minimum values\n",
    "    8. use appropriate selection and iteration structures to avoid unconditional branching or exiting from the interior of a block including:\n",
    "        1. nested conditional blocks\n",
    "        2. nested iterative blocks\n",
    "    9. use output commands, e.g., methods or operators, to display processed data in an appropriately formatted form\n",
    "<br><br>\n",
    "3. analyze and compare the results of the program with the intent of the algorithm and modify, as required\n",
    "    1. use appropriate test data and debugging techniques to track and correct errors including:\n",
    "        1. run-time errors; e.g., compiler, linker, syntax\n",
    "        2. logic errors\n",
    "<br><br>\n",
    "4. demonstrate basic competencies\n",
    "    1. demonstrate fundamental skills to:\n",
    "        1. communicate\n",
    "        2. manage information\n",
    "        3. use numbers\n",
    "        4. think and solve problems\n",
    "    2. demonstrate personal management skills to:\n",
    "        1. demonstrate positive attitudes and behaviours\n",
    "        2. be responsible\n",
    "        3. be adaptable\n",
    "        4. learn continuously\n",
    "        5. work safely\n",
    "    3. demonstrate teamwork skills to:\n",
    "        1. work with others\n",
    "        2. participate in projects and tasks\n",
    "<br><br>\n",
    "5. make personal connections to the cluster content and processes to inform possible pathway choices\n",
    "    1. complete/update a personal inventory; e.g., interests, values, beliefs, resources, prior learning and experiences\n",
    "    2. create a connection between a personal inventory and occupational choices"
   ]
  },
  {
   "cell_type": "markdown",
   "metadata": {},
   "source": [
    "[![Callysto.ca License](https://github.com/callysto/curriculum-notebooks/blob/master/callysto-notebook-banner-bottom.jpg?raw=true)](https://github.com/callysto/curriculum-notebooks/blob/master/LICENSE.md)"
   ]
  }
 ],
 "metadata": {
  "kernelspec": {
   "display_name": "Python 3 (ipykernel)",
   "language": "python",
   "name": "python3"
  },
  "language_info": {
   "codemirror_mode": {
    "name": "ipython",
    "version": 3
   },
   "file_extension": ".py",
   "mimetype": "text/x-python",
   "name": "python",
   "nbconvert_exporter": "python",
   "pygments_lexer": "ipython3",
   "version": "3.9.12"
  }
 },
 "nbformat": 4,
 "nbformat_minor": 4
}
