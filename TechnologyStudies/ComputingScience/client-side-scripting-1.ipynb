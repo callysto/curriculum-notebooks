{
 "cells": [
  {
   "attachments": {},
   "cell_type": "markdown",
   "metadata": {},
   "source": [
    "![Callysto.ca Banner](https://github.com/callysto/curriculum-notebooks/blob/master/callysto-notebook-banner-top.jpg?raw=true)\n",
    "\n",
    "<a href=\"https://hub.callysto.ca/jupyter/hub/user-redirect/git-pull?repo=https%3A%2F%2Fgithub.com%2Fcallysto%2Fcurriculum-notebooks&branch=master&subPath=TechnologyStudies/ComputingScience/client-side-scripting-1.ipynb&depth=1\"><img src=\"https://raw.githubusercontent.com/callysto/curriculum-notebooks/master/open-in-callysto-button.svg?sanitize=true\" width=\"123\" height=\"24\" alt=\"Open in Callysto\"/></a>"
   ]
  },
  {
   "attachments": {},
   "cell_type": "markdown",
   "metadata": {},
   "source": [
    "# CSE1210: Client-Side Scripting 1\n",
    "\n",
    "Students are introduced to Internet computing through the use of one or more Web-specific markup languages. As part of this process, students learn how the Web uses markup languages to provide a client-side approach to display static information. Students also learn how to analyze, modify, write and debug algorithms and documents that use a markup language.\n",
    "\n",
    "*Prerequisite: None*\n",
    "\n"
   ]
  },
  {
   "attachments": {},
   "cell_type": "markdown",
   "metadata": {},
   "source": [
    "Outcomes: The student will:\n",
    "\n",
    "1. demonstrate an understanding of the general architecture of the Internet as it pertains to client-side scripting\n",
    "1.1 explain and demonstrate the client/server nature of the Internet including:\n",
    "1.1.1 describe the internetworked nature of the Internet\n",
    "1.1.2 illustrate the client/server relationship that exists among the work stations, stub networks, mid-level networks, regional networks and the backbone that makes up the Internet\n",
    "1.1.3 describe and illustrate how servers, routers, switches, work stations and other hardware components are used to provide the physical matrix required for client/server relationships\n",
    "1.1.4 describe and illustrate the Internet Protocol Suite (TCP/IP) model of networking, in general terms, outlining how this protocol provides the data transfer mechanism required to establish client/server relationships\n",
    "1.1.5 illustrate the client/server relationships set up when a user makes a request for an Internet service and that request is carried out\n",
    "1.1.6 describe at least three examples of Internet services that rely on client/server relationships\n",
    "1.2 explain and demonstrate the client/server nature of the Web including:\n",
    "1.2.1 describe the hypertext-based nature of the Web\n",
    "1.2.2 describe the relationship between the Web and the Internet as a whole\n",
    "1.2.3 explain why the Web can be thought of as a network of hyperlinked documents\n",
    "1.2.4 describe and illustrate the client/server relationship that allows user agents to interact with the origin servers that make up the information repository components of the Web\n",
    "1.2.5 describe how the Hypertext Transfer Protocol (HTTP) is used to facilitate client/server interaction\n",
    "1.2.6 describe and illustrate the general flow of information through the Internet when a user agent uses a Web browser to interact with origin servers\n",
    "1.2.7 explain how HTTP is used to protect the transmission of data through the Web\n",
    "1.2.8 describe and illustrate the development of the Web in general terms using the Web 1.0, Web 2.0 and Web 3.0 generational paradigms\n",
    "1.2.9 compare and contrast the Web 1.0, Web 2.0 and Web 3.0 stages of development\n",
    "\n",
    "2. demonstrate an understanding of the general nature and purpose of Internet-oriented markup languages\n",
    "2.1 describe the role markup languages play in the Web\n",
    "2.2 compare and contrast markup and scripting languages\n",
    "2.3 describe and illustrate the development of Internet-oriented markup languages in general terms including:\n",
    "2.3.1 explain the relationship between Standard Generalized Markup Language (SGML), Extensible Markup Language (XML), Hypertext Markup Language (HTML), Extensible Hypertext Markup Language (XHTML) and Dynamic Hypertext Markup Language (DHTML)\n",
    "2.3.2 explain at least two specialized Internet markup languages\n",
    "\n",
    "3. design, write and debug code using an appropriate Internet markup language\n",
    "\n",
    "3.1 demonstrate the ability to use an appropriate markup language coding environment\n",
    "3.2 use appropriate techniques to design a markup language document including:\n",
    "3.2.1 determine and outline the intent of the document\n",
    "3.2.2 organize the document into appropriate subsections or pages\n",
    "3.2.3 describe the content to be carried on each page\n",
    "3.2.4 illustrate how the content is to be displayed\n",
    "3.2.5 identify the locations of the required anchors and links\n",
    "3.3 translate design documents into hypertext documents using code elements such as tags, attributes and hyperlinks to:\n",
    "3.3.1 mark off the various parts of the document\n",
    "3.3.2 display text and visual data in a variety of formats\n",
    "3.3.3 create specialized formats such as lists, tables and frames\n",
    "3.3.4 create both textual and image-based hyperlinks; e.g., both single images and mapped images\n",
    "3.4 compare the results of the script with the intent of the design document and modify, as required, including:\n",
    "3.4.1 use appropriate debugging techniques to compare the original design with the implemented document\n",
    "3.4.2 make changes, as required, to either the design and/or the document to bring both in line with the original intent\n",
    "\n",
    "4. demonstrate basic competencies\n",
    "4.1 demonstrate fundamental skills to:\n",
    "4.1.1 communicate\n",
    "4.1.2 manage information\n",
    "4.1.3 use numbers\n",
    "4.1.4 think and solve problems\n",
    "4.2 demonstrate personal management skills to:\n",
    "4.2.1 demonstrate positive attitudes and behaviours\n",
    "4.2.2 be responsible\n",
    "4.2.3 be adaptable\n",
    "4.2.4 learn continuously\n",
    "4.2.5 work safely\n",
    "4.3 demonstrate teamwork skills to:\n",
    "4.3.1 work with others\n",
    "4.3.2 participate in projects and tasks\n",
    "\n",
    "5. make personal connections to the cluster content and processes to inform possible pathway choices\n",
    "5.1 complete/update a personal inventory; e.g., interests, values, beliefs, resources, prior learning and experiences\n",
    "5.2 create a connection between a personal inventory and occupational choices"
   ]
  },
  {
   "attachments": {},
   "cell_type": "markdown",
   "metadata": {},
   "source": [
    "[![Callysto.ca License](https://github.com/callysto/curriculum-notebooks/blob/master/callysto-notebook-banner-bottom.jpg?raw=true)](https://github.com/callysto/curriculum-notebooks/blob/master/LICENSE.md)"
   ]
  }
 ],
 "metadata": {
  "language_info": {
   "name": "python"
  },
  "orig_nbformat": 4
 },
 "nbformat": 4,
 "nbformat_minor": 2
}
