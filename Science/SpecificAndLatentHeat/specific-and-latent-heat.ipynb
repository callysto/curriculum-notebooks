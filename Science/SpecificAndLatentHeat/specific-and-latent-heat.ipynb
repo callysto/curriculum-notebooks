{
 "cells": [
  {
   "cell_type": "markdown",
   "metadata": {},
   "source": [
    "![Callysto.ca Banner](https://github.com/callysto/curriculum-notebooks/blob/master/callysto-notebook-banner-top.jpg?raw=true)\n",
    "\n",
    "<a href=\"https://hub.callysto.ca/jupyter/hub/user-redirect/git-pull?repo=https%3A%2F%2Fgithub.com%2Fcallysto%2Fcurriculum-notebooks&branch=master&subPath=Science/SpecificAndLatentHeat/specific-and-latent-heat.ipynb&depth=1\" target=\"_parent\"><img src=\"https://raw.githubusercontent.com/callysto/curriculum-notebooks/master/open-in-callysto-button.svg?sanitize=true\" width=\"123\" height=\"24\" alt=\"Open in Callysto\"/></a>"
   ]
  },
  {
   "cell_type": "markdown",
   "metadata": {},
   "source": [
    "# Specific and Latent Heat\n",
    "\n",
    "**Heat** is defined as the *transfer of energy* from one object to another due to a difference in their temperatures. As heat flows from one object into another, the temperatures of both objects change. \n",
    "\n",
    "<img src=\"images/heat.svg\" width=\"55%\"/>\n",
    "\n",
    "### Specific Heat Capacity\n",
    "\n",
    "The amount of heat required to change the temperature of a given material is given by the following equation:\n",
    "\n",
    "$$Q = m C \\Delta T$$\n",
    "\n",
    "where $Q$ represents heat in joules (J), $m$ represents mass kilograms (kg), and $\\Delta T$ represents the change in temperature in Celsius (°C) or kelvin (K).\n",
    "\n",
    "The $C$ is an experimentally determined value for a particular material, called the **specific heat** or **specific heat capacity** (J/kg$\\cdot$°C). The specific heat capacity of a material is determined by measuring the amount of heat required to raise the temperature of 1 kg of the material by 1 °C.\n",
    "\n",
    "At ordinary temperatures and pressures, the value of $C$ is considered constant. Values for the specific heat capacity of common materials are:\n",
    "\n",
    " Material                  | Specific Heat Capacity (J/kg$\\cdot$°C)\n",
    " ---                       | ---\n",
    " Aluminum                  | 903\n",
    " Brass                     | 376\n",
    " Carbon                    | 710\n",
    " Copper                    | 385\n",
    " Glass                     | 664\n",
    " Ice                       | 2060\n",
    " Iron                      | 450\n",
    " Lead                      | 130\n",
    " Methanol                  | 2450\n",
    " Silver                    | 235\n",
    " Stainless Steal           | 460\n",
    " Steam                     | 2020\n",
    " Tin                       | 217\n",
    " Water                     | 4180\n",
    " Zinc                      | 388\n",
    "\n",
    "Use the slider below to observe the relationship between the specific heat capacity and the amount of heat required to raise the temperature of a 5 kg mass by 50 °C."
   ]
  },
  {
   "cell_type": "code",
   "execution_count": null,
   "metadata": {},
   "outputs": [],
   "source": [
    "from ipywidgets import IntSlider, Output, interactive_output, VBox, HBox\n",
    "\n",
    "mass_1 = 5\n",
    "delta_temperature = 50\n",
    "specific_heat_capacity = IntSlider(description=\"C (J/kg⋅°C)\",min=100,max=1000)\n",
    "\n",
    "def f(specific_heat_capacity):\n",
    "    heat_J = int((mass_1 * specific_heat_capacity * delta_temperature))\n",
    "    heat_kJ = int(heat_J/1000)\n",
    "    print(\"Heat = (mass) × (specific heat capacity) × (change in temperature)\")\n",
    "    print(\"Heat = ({} × {} × {}) J = {} J = {} kJ\".format(mass_1, specific_heat_capacity, delta_temperature, heat_J, heat_kJ))\n",
    "\n",
    "out1 = interactive_output(f,{'specific_heat_capacity': specific_heat_capacity,})\n",
    "\n",
    "HBox([VBox([specific_heat_capacity]), out1])"
   ]
  },
  {
   "cell_type": "markdown",
   "metadata": {},
   "source": [
    "## Change of Phase\n",
    "\n",
    "The addition or subtraction of heat can also cause a **phase change**. The three most common phases are solid, liquid, and gas:\n",
    "\n",
    "<img src=\"images/phase_change.svg\" width=\"75%\"/>\n",
    "\n",
    "### Experiment\n",
    "\n",
    "Let's say we conducted an experiment involving adding heat and temperature and phase changes. We will start with a 100 g sample of ice at -20 °C, and then add heat until the entire sample is converted to steam at 200 °C. Every minute we will take the temperature of the sample."
   ]
  },
  {
   "cell_type": "code",
   "execution_count": null,
   "metadata": {},
   "outputs": [],
   "source": [
    "import plotly.graph_objects as go\n",
    "from plotly.subplots import make_subplots\n",
    "\n",
    "times = list(range(28))\n",
    "heats = [i*13.021 for i in times]\n",
    "temperatures = [-20, -10, 0, 0, 0, 0, 10, 40, 80, 100, 100, 100, 100, 100, 100, 100, 100, 100, 100, 100, 100, 100, 100, 120, 140, 160, 180, 200]\n",
    "\n",
    "fig = make_subplots(cols=2, specs=[[{\"secondary_y\": True}, {\"secondary_y\": True}]])\n",
    "fig.add_trace(go.Scatter(x=times, y=heats, mode='markers', name='Heat'), row=1, col=1, secondary_y=False)\n",
    "fig.add_trace(go.Scatter(x=times, y=temperatures, mode='markers', name='Temperature'), row=1, col=2, secondary_y=True)\n",
    "fig.update_yaxes(title_text='Heat (kJ)', secondary_y=False)\n",
    "fig.update_yaxes(title_text='Temperature (°C)', secondary_y=True)\n",
    "fig.update_xaxes(title_text='Time')\n",
    "fig.update_layout(title_text='Heat and Temperature over Time')\n",
    "fig.show()"
   ]
  },
  {
   "cell_type": "markdown",
   "metadata": {},
   "source": [
    "### Experimental Results\n",
    "\n",
    "Our experimental data indicates that our calculation of 66.1 kJ is incorrect and that it in fact takes around 325 kJ to heat ice from -20 °C to steam at 200 °C.\n",
    "\n",
    "What did we miss? Why do you think we saw the temperature remain constant for some time?\n",
    "\n",
    "**Answer:** The *phase changes*.\n",
    "\n",
    "The graph on the left shows us that heat was added constantly, yet the temperature remained the same at two points for some time (0 °C and 100 °C).\n",
    "\n",
    "Every material has two common \"critical temperature points\". These are the points at which the *state* of the material *changes*. For water, these points are at 0 °C and 100 °C. Heat energy added during a phase change overcomes the intermolecular forces between the molecules of the material.\n",
    "\n",
    "For water at 0 °C the molecules are moving (vibrating) at the same average speed as before the intermolecular bonds were broken, and so their average kinetic energy (temperature) remains the same.\n",
    "\n",
    "### Latent Heat of Fusion and Vaporization\n",
    "\n",
    "The **latent heat of fusion ($H_f$)** is the amount of heat needed to melt 1 kg of a solid to a liquid without a change in temperature.\n",
    "\n",
    "<img src=\"Images/latent_heat_fusion.svg\" width=\"65%\"/>\n",
    "\n",
    "The **latent heat of vaporization ($H_v$)** is the amount of heat needed to vaporise 1 kg of a liquid to a gas without a change in temperature.\n",
    "\n",
    "<img src=\"Images/latent_heat_vaporization.svg\" width=\"65%\"/>\n",
    "\n",
    "The latent heats of fusion and vaporization must be experimentally determined. Values for the latent heats of fusion and vaporization of common materials are shown in the table below:\n",
    "\n",
    "Materials                  | Heat of Fusion (J/kg) |Heat of Vaporization (J/kg)\n",
    " ---                       | ---                         | ---\n",
    " Copper                    | $2.05 \\times 10^5$          | $5.07 \\times 10^6$\n",
    " Gold                      | $6.03 \\times 10^4$          | $1.64 \\times 10^6$\n",
    " Iron                      | $2.66 \\times 10^5$          | $6.29 \\times 10^6$\n",
    " Lead                      | $2.04 \\times 10^4$          | $8.64 \\times 10^5$\n",
    " Mercury                   | $1.15 \\times 10^4$          | $2.72 \\times 10^5$\n",
    " Methanol                  | $1.09 \\times 10^5$          | $8.78 \\times 10^5$\n",
    " Silver                    | $1.04 \\times 10^4$          | $2.36 \\times 10^6$\n",
    " Water (ice)               | $3.34 \\times 10^5$          | $2.26 \\times 10^6$\n",
    "\n",
    "**Note** that the *state* of a material can include more than one *phase*. For example, at 0 °C, water exists in both solid (ice) and liquid (water) phases. At 100 °C, the state of water includes both liquid (water) and gas (steam) phases.\n",
    "\n",
    "<img src=\"Images/phase_diagram_1_0.svg\" width=\"65%\"/>\n",
    "\n",
    "The following formulas are used to calculate the amount of heat needed to change a material from a solid to a liquid (fusion), or from a liquid to a gas (vaporization):\n",
    "\n",
    "$Q_f = mH_f \\qquad Q_v = mH_v$\n",
    "\n",
    "If heat is being taken away, then a negative sign must be placed in front of $H_f$ and $H_v$, and we would see a temperature pattern like the following graph:"
   ]
  },
  {
   "cell_type": "code",
   "execution_count": null,
   "metadata": {},
   "outputs": [],
   "source": [
    "import plotly.express as px\n",
    "temperatures = [120, 110, 100, 100, 100, 100, 100, 100, 100, 100, 100, 90, 80, 70, 60, 50, 40, 30, 20, 10, 0, 0, 0, -10]\n",
    "times = list(range(len(temperatures)))\n",
    "px.scatter(x=times, y=temperatures, title='Temperature over Time for Water Cooling', labels={'x':'Time','y':'Temperature (°C)'})"
   ]
  },
  {
   "cell_type": "markdown",
   "metadata": {},
   "source": [
    "## Conclusions\n",
    "\n",
    "* The **specific heat capacity** of a material is an empirically determined value characteristic of a particular material. It is defined as the amount of heat needed to raise the temperature of 1 kg of the material by 1 °C.\n",
    "* We use the formula $Q=mc\\Delta T$ to calculate the amount of heat required to change the temperature of a material in which there is no change of phase.\n",
    "* The **latent heat of fusion** ($H_f$) is defined as the amount of heat needed to melt 1 kg of a solid without a change in temperature.\n",
    "* The **latent heat of vaporization** ($H_v$) is define as the amount of heat needed to vaporise 1 kg of a liquid without a change in temperature.\n",
    "* We use the formula $Q=mH_f$ to calculate the heat required to change a material from a solid to a liquid, or from a liquid to a solid.\n",
    "* We use the formula $Q=mH_v$ to calculate the heat required to change a material from a liquid to a gas, or from a gas to a liquid.\n",
    "* If heat is being taken away, then a negative sign must be placed in front of $H_f$ and $H_v$.\n",
    "* We use a combination of the above formulae to calculate the heat required to change a material from an initial temperature to a final temperature when at least one phase change occurs.\n",
    "\n",
    "Images in this notebook are original artwork."
   ]
  },
  {
   "cell_type": "markdown",
   "metadata": {},
   "source": [
    "[![Callysto.ca License](https://github.com/callysto/curriculum-notebooks/blob/master/callysto-notebook-banner-bottom.jpg?raw=true)](https://github.com/callysto/curriculum-notebooks/blob/master/LICENSE.md)"
   ]
  }
 ],
 "metadata": {
  "kernelspec": {
   "display_name": "Python 3 (ipykernel)",
   "language": "python",
   "name": "python3"
  },
  "language_info": {
   "codemirror_mode": {
    "name": "ipython",
    "version": 3
   },
   "file_extension": ".py",
   "mimetype": "text/x-python",
   "name": "python",
   "nbconvert_exporter": "python",
   "pygments_lexer": "ipython3",
   "version": "3.9.12"
  },
  "vscode": {
   "interpreter": {
    "hash": "aee8b7b246df8f9039afb4144a1f6fd8d2ca17a180786b69acc140d282b71a49"
   }
  }
 },
 "nbformat": 4,
 "nbformat_minor": 4
}
