{
 "cells": [
  {
   "cell_type": "markdown",
   "metadata": {},
   "source": [
    "![logo](https://callysto.ca/wp-content/uploads/2018/06/Callysto_Notebook-Banner_Top_06.06.18.jpg)"
   ]
  },
  {
   "cell_type": "code",
   "execution_count": null,
   "metadata": {},
   "outputs": [],
   "source": [
    "%%html\n",
    "\n",
    "<script>\n",
    "  function code_toggle() {\n",
    "    if (code_shown){\n",
    "      $('div.input').hide('500');\n",
    "      $('#toggleButton').val('Show Code')\n",
    "    } else {\n",
    "      $('div.input').show('500');\n",
    "      $('#toggleButton').val('Hide Code')\n",
    "    }\n",
    "    code_shown = !code_shown\n",
    "  }\n",
    "\n",
    "  $( document ).ready(function(){\n",
    "    code_shown=false;\n",
    "    $('div.input').hide()\n",
    "  });\n",
    "</script>\n",
    "<form action=\"javascript:code_toggle()\"><input type=\"submit\" id=\"toggleButton\" value=\"Show Code\"></form>"
   ]
  },
  {
   "cell_type": "code",
   "execution_count": null,
   "metadata": {},
   "outputs": [],
   "source": [
    "import ipywidgets as widgets\n",
    "import IPython\n",
    "from IPython.display import HTML"
   ]
  },
  {
   "cell_type": "code",
   "execution_count": null,
   "metadata": {},
   "outputs": [],
   "source": [
    "%%javascript\n",
    "\n",
    "require.config({\n",
    "    paths: {\n",
    "        d3: \"https://d3js.org/d3.v3.min\"\n",
    "     }\n",
    "});\n",
    "\n",
    "require([\"d3\"], function(d3) {\n",
    "    window.d3 = d3;\n",
    "});"
   ]
  },
  {
   "cell_type": "markdown",
   "metadata": {},
   "source": [
    "# Concentration and pH\n",
    "\n",
    "##### Grade 9 curriculum\n",
    "\n",
    "This is a jupyter notebook about how to measure the quantity of different substances in the environment. This includes measuring air and water quality. This notebook will focus on what the concentration and pH of different substances means for the environment. You will be able to:\n",
    "* apply and interpret meausres of chemical concentration\n",
    "* find the pH of a solution using an indicator solution and litmus paper\n",
    "* identify acids, bases, and neutral substances based on pH\n",
    "* apply this knowledge to help determine the health of an environment"
   ]
  },
  {
   "cell_type": "markdown",
   "metadata": {},
   "source": [
    "### Concentration\n",
    "\n",
    "For many of the products that you use or buy, the manufacturer tells us how much of a substance is present by giving the percentage (%) of weight or volume it represents. \n",
    "\n",
    "Take milk for example. The label 1% on a carton of milk tells us that 1% of the milk is milk fat.<br>\n",
    "This means that in every 100 ml of milk, there is 1 ml of milk fat.<br>\n",
    "So a 1 litre (1000 ml) carton contains 10 ml of milk fat. \n",
    "\n",
    "![milk](https://www.healthyeating.org/portals/0/Gallery/Album/Milk-Dairy/MD_types-of-milk.png)\n",
    "[source](https://www.healthyeating.org/Milk-Dairy/Dairy-Facts/Types-of-Milk)\n",
    "\n",
    "\n",
    "When we say how much of one substance is contained in a certain amount of another, we are giving a **concentration**.<br>\n",
    "Percentage is actually decribing \"parts per hundred\".\n",
    "The concentration 10% is the same as 10 parts per hundred or $\\dfrac{10}{100}$.<br>\n",
    "This is very helpful for many everyday substances, but many substances are in much smaller concentrations than 1%.<br>\n",
    "\n",
    "We could give a concentration like 0.00001%, but there's a simpler way to express this.<br>\n",
    "This percentage represents $\\dfrac{1}{1,000,000}$ which has its own unit, called parts per million (ppm).<br>\n",
    "Later in this notebook, we will talk a little bit about a pesticide called DDT. Its concentration is measured in parts per billion (ppb) because it can be deadly in even smaller concentrations. \n",
    "\n",
    "    Just like how 1000 g is equal to 1 kg, 1 ppm is equal to 1 mg/kg (milligram per kilogram). There are 1000 milligrams\n",
    "    in a gram and 1000 grams in a kilogram, so there's 1,000,000 milligrams in a kilogram, making one milligram per \n",
    "    kilogram one part per million. \n",
    "    \n",
    "    When the substance is in water, 1 ppm is equal to 1 mg/L (milligram per litre). This only works for water because \n",
    "    water's density is 1 kg/L. Other liquids have different densities, so the concentration needs to be calculated \n",
    "    differently in other solutions.\n",
    "\n",
    "### Let's look at an example of how to calculate ppm of a substance.\n",
    "\n",
    "Example:\n",
    "If the nutritional information label on a container of yogurt specifies that each 125 g serving contains 7 mg of cholesterol, what is the concentration of cholesterol in a serving of yogurt in parts per million (ppm)? [source](https://drive.google.com/file/d/1YJUpQYN2QlrzM0obSWKjdnMeFASNcKQb/view)\n",
    "\n",
    "Solution:\n",
    "1. First, state your information as a ratio.\n",
    "\n",
    "    $\\frac{7 \\text{ mg cholesterol}}{125 \\text{ g yogurt}} = 0.056 \\text{ mg/g}$\n",
    "    \n",
    "\n",
    "2. Second, express that ratio in the form of mg/kg\n",
    "\n",
    "    $ 0.056 \\text{ mg/g} \\times 1000 \\text{ g/kg} = 56 \\text{ mg/kg}$\n",
    "\n",
    "Since mg/kg is equivalent to ppm, there are 56 ppm of cholesterol in each serving of this yogurt."
   ]
  },
  {
   "cell_type": "markdown",
   "metadata": {},
   "source": [
    "### Why is this important?\n",
    "\n",
    "There are many substances that are toxic, meaning they are able to cause harm to organisms.<br>\n",
    "They cause harm, not by how an organism is exposed to it, nor how long, but by how much enters the organism.<br>\n",
    "But it's hard to determine the concentration of the substance which is toxic because many factors influence it.<br>\n",
    "Body mass and metabolism are two factors that affect when the concentration of a substance is considered toxic.<br>\n",
    "It is easier to say what concentration would likely kill 50% of the population to which it's applied.<br>\n",
    "This is called the **lethal dose 50** or **LD50**.\n",
    "\n",
    "Many scientists have done studies on what concentrations are harmful to humans. One of the first to do this was Paracelsus during the Renaissance. One of his famous quotes is *\"only the dose makes the poison\"*. \n",
    "\n",
    "Here is a table of the LD50 of different chemicals for humans:\n",
    "\n",
    "| Chemical        | Source | Concentration (ppm)|\n",
    "|-----------------|--------|--------------------|\n",
    "|botulinum toxin A|Clostridium botulinum bacterium|0.00000003|\n",
    "|   dioxin |contaminant in some herbicides and in PCBs|0.03|\n",
    "|  nicotine  |cigarette smoke|0.86|\n",
    "|  solanine  |green parts of potatoes|6.0|\n",
    "|  caffeine  |coffee, tea, chocolate|150-200|\n",
    "| NaCl | table salt | 12,357 |\n",
    "| glucose | sugar | 30,000 *(for rats)*|\n",
    "| H<sub>2</sub>O | water | 90,000 *(for rats)*|\n",
    "\n",
    "*Most of these are extrapolated from data of LD50 of rats or from observational data*\n",
    "\n",
    "You might notice that some things in this table you consume every day. Or you see other people consume these.<br>\n",
    "It turns out that too much of anything can kill an organism. 90,000 ppm of water is around 6 litres for a healthy average adult. 200 ppm of caffiene is about 100 cups of coffee for that same adult. It's very difficult to get that kind of concentration within our bodies, as it must be all in the same sitting (before it starts being digested), so we consider that an **acceptable risk**.\n",
    "\n",
    "### Case Study: DDT"
   ]
  },
  {
   "cell_type": "markdown",
   "metadata": {},
   "source": [
    "<img style=\"float: right;\" src=\"http://myriverside.sd43.bc.ca/fatimay2014/files/2015/11/ddt-biomagnification-20t5iak.jpg\" width=\"300\" height=\"700\">\n",
    "\n",
    "DDT, or dichlorodiphenyltrichloroethane, is a pesticide originally created to kill lice, which spread the disease typhus.\n",
    "It was so effective that it was also used to kill mosquitoes to reduce malaria.<br>\n",
    "But what people didn't know when they were using it, was that this pesticide is *persistent in the environment*, which means that it stays in the environment for really long periods or time.<br>\n",
    "\n",
    "When DDT was used to control insect damage on crops, it got into water supplies and eventually into the ocean.\n",
    "In the ocean, the concentration of DDT is pretty low, but then small sea life such as zooplankton consume it.\n",
    "Instead of being digested, the pestiside stays in their system and accumulates as they consume it.\n",
    "\n",
    "Then the small fish that eat zooplankton and plankton consume the DDT as well, and accumulate an even higher concentration within their fat cells. This goes all the way up the food chain, increasing the concentration in each organism, which is called <strong>biomagnification</strong>. \n",
    "\n",
    "At each step in the food chain, some of these organisms die because they consumed too much DDT and couldn't digest it.\n",
    "Humans have even been found to have small concentrations of DDT in our systems too, as we eat animals which have ingested DDT. We track the spread of DDT by calculating its concentration in certain areas and species."
   ]
  },
  {
   "cell_type": "markdown",
   "metadata": {},
   "source": [
    "***********\n",
    "\n",
    "# Acids and Bases\n",
    "\n",
    "The main factor that defines an acid or a base is its pH. pH stands for \"power of hydrogen\", and it measures the concentration of hydrogen ions (H+) in a solution. The more hydrogen ions there are in a solution, the more acidic a solution is. The pH scale is from 0 to 14 to indicate how strong or weak an acid or base is.\n",
    "\n",
    ">A solution with a pH between 0 and 6 is considered an acid. \n",
    ">\n",
    ">A pH of 7 is considered neutral.\n",
    ">\n",
    ">A solution with a pH between 8 and 14 is considered a base. \n",
    " \n",
    "\n",
    "This scale is a logarithmic scale, meaning each number is 10 times stronger or weaker than the number next to it. For example: an acid with a pH of 3 is 10 times stronger than one with a pH of 4.\n",
    "\n",
    "## Acids\n",
    "\n",
    "An acid is a compound that dissolves in water and forms a solution with pH less than 7. Acids are **sour** and react with bases, neutralizing both to a pH around 7. Acids can be strong like stomach acid, or weak like citric acid (found in sour fruits). You can turn a strong acidic solution into a weak acidic solution by diluting the solution with pure or distilled water (which is a neutral solution)."
   ]
  },
  {
   "cell_type": "code",
   "execution_count": null,
   "metadata": {},
   "outputs": [],
   "source": [
    "answers1 = widgets.SelectMultiple(options=['Vinegar', 'Tums/Antacids', 'Pure Water', 'Tomatoes', 'Soap'],\n",
    "            value=[], description='Substances')\n",
    "\n",
    "def display1():\n",
    "    print(\"Which of these household substances do you think contain an acid?\")\n",
    "    print(\"You can select more than one by holding 'crtl' while selecting.\")\n",
    "    IPython.display.display(answers1)\n",
    "    \n",
    "def check1(a):\n",
    "    IPython.display.clear_output()\n",
    "    display1()\n",
    "    if answers1.value == ('Vinegar', 'Tomatoes'):\n",
    "        print(\"Awesome! You found the acids!\")\n",
    "        print(\"Vinegar has acetic acid in it, making it sour.\")\n",
    "        print(\"Tomatoes have citric acid in them, also making them a little sour.\")\n",
    "    else:\n",
    "        if answers1.value == ('Vinegar',) or answers1.value == ('Tomatoes',):\n",
    "            print(\"You're right, but there's one more that contains an acid. Look at the definition again.\")\n",
    "        else:\n",
    "            print(\"You've selected at least one substance that is not an acid. Look at the definition again.\")\n",
    "        \n",
    "display1()\n",
    "answers1.observe(check1, 'value')"
   ]
  },
  {
   "cell_type": "markdown",
   "metadata": {},
   "source": [
    "## Bases\n",
    "\n",
    "A base is a compound that dissolves in water and forms a solution with pH greater than 7. Bases are **bitter and slippery** and react with acids, neutralizing both to a pH around 7. Bases can be strong like many household cleaners such as bleach, or weak like baking soda (used in baking and cleaning). You can turn a strong basic solution into a weak basic solution by diluting the solution with pure or distilled water (which is a neutral solution). A basic solution is also called an **alkaline** solution."
   ]
  },
  {
   "cell_type": "code",
   "execution_count": null,
   "metadata": {},
   "outputs": [],
   "source": [
    "answers2 = widgets.SelectMultiple(options=['Vinegar', 'Tums/Antacids', 'Pure Water', 'Tomatoes', 'Soap'],\n",
    "            value=[], description='Substances')\n",
    "\n",
    "def display2():\n",
    "    print(\"From the same list as above, which of these household substances do you think contain a base?\")\n",
    "    print(\"Once again, you can select more than one by holding down 'crtl' while selecting.\")\n",
    "    IPython.display.display(answers2)\n",
    "    \n",
    "def check2(a):\n",
    "    IPython.display.clear_output()\n",
    "    display2()\n",
    "    if answers2.value == ('Tums/Antacids','Soap'):\n",
    "        print(\"Well done! You found the substances that contain a base!\")\n",
    "        print(\"When you eat an antacid, it neutralizes the stomach acid that's giving you heart burn.\")\n",
    "        print(\"Soap contains a small amount of base to make it slippery and able to clean well.\")\n",
    "    else:\n",
    "        if answers2.value == ('Tums/Antacids',) or answers2.value == ('Soap',):\n",
    "            print(\"You're right, but there's another substance that contains a base. Look at the definition again.\")\n",
    "        else:\n",
    "            print(\"You've selected one or more substances that do not contain a base. Look at the definition again.\")\n",
    "\n",
    "display2()\n",
    "answers2.observe(check2, 'value')"
   ]
  },
  {
   "cell_type": "markdown",
   "metadata": {},
   "source": [
    "### Apply your knowledge\n",
    "\n",
    "Answer the questions below about whether each substance is an acid, a base, or neutral based on their pH."
   ]
  },
  {
   "cell_type": "code",
   "execution_count": null,
   "metadata": {},
   "outputs": [],
   "source": [
    "answers3 = widgets.RadioButtons(options=['An acid', 'A base', 'Neutral'],\n",
    "            value=None)\n",
    "\n",
    "def display3():\n",
    "    print(\"Orange juice has a pH around 3. What is it?\")\n",
    "    IPython.display.display(answers3)\n",
    "    \n",
    "def check3(a):\n",
    "    IPython.display.clear_output()\n",
    "    display3()\n",
    "    if answers3.value == 'An acid':\n",
    "        print(\"Great job! Because the pH is less than 7, it's an acid!\")\n",
    "    else:\n",
    "        print(\"That's not right, remember what the definitions of acids and bases are.\")\n",
    "\n",
    "display3()\n",
    "answers3.observe(check3, 'value')"
   ]
  },
  {
   "cell_type": "code",
   "execution_count": null,
   "metadata": {},
   "outputs": [],
   "source": [
    "answers5 = widgets.RadioButtons(options=['An acid', 'A base', 'Neutral'],\n",
    "            value=None)\n",
    "\n",
    "def display5():\n",
    "    print(\"Baking soda has a pH around 9. What is it?\")\n",
    "    IPython.display.display(answers5)\n",
    "    \n",
    "def check5(a):\n",
    "    IPython.display.clear_output()\n",
    "    display5()\n",
    "    if answers5.value == 'A base':\n",
    "        print(\"That's right! Because the pH is bigger than 7, it's a base!\")\n",
    "    else:\n",
    "        print(\"That's not right, remember what the definitions of acids and bases are.\")\n",
    "\n",
    "display5()\n",
    "answers5.observe(check5, 'value')"
   ]
  },
  {
   "cell_type": "markdown",
   "metadata": {},
   "source": [
    "### pH in the Environment\n",
    "\n",
    "Now that we know a few acids and bases that you can find in your house, let's extend this to the environment. Normal rain has a pH of around 5.6, while pure water has a pH around 7, and ocean water has a pH around 8. Tap water has a pH around 7.5 to prevent corrosion of pipes, but varies because of human influence and natural processes. But sometimes air pollutants can create more acid when it reacts with water in the air, creating acid rain. Acid rain has a pH less than 5.6 and is not healthy for the environment. This video from National Geographic explains acid rain, its effects, and what we can do to help."
   ]
  },
  {
   "cell_type": "code",
   "execution_count": null,
   "metadata": {},
   "outputs": [],
   "source": [
    "HTML('<iframe width=\"560\" height=\"315\" src=\"https://www.youtube.com/embed/1PDjVDIrFec\" frameborder=\"0\" allow=\"autoplay; encrypted-media\" allowfullscreen></iframe>')"
   ]
  },
  {
   "cell_type": "code",
   "execution_count": null,
   "metadata": {},
   "outputs": [],
   "source": [
    "answers4 = widgets.RadioButtons(options=['Sea water', 'Fresh water', 'Pure/distilled water', 'Acid rain'],\n",
    "            value=None)\n",
    "\n",
    "def display4():\n",
    "    print(\"Which type of water has a neutral pH? (A pH around 7)\")\n",
    "    IPython.display.display(answers4)\n",
    "    \n",
    "def check4(a):\n",
    "    IPython.display.clear_output()\n",
    "    display4()\n",
    "    if answers4.value == 'Pure/distilled water':\n",
    "        print(\"That's right! pure water or distilled water has a pH close to 7. That makes it neither a base, nor an acid.\")\n",
    "    else:\n",
    "        print(\"That's not right, look back at the last block of text.\")\n",
    "\n",
    "display4()\n",
    "answers4.observe(check4, 'value')"
   ]
  },
  {
   "cell_type": "markdown",
   "metadata": {},
   "source": [
    "### How does changing the pH affect the enviroment?\n",
    "\n",
    "Every substance has a pH. If this pH is changed, it affects organisms that use or consume the substance by changing their pH. Changing an organism's pH will affect how it functions. For example, making soil more acidic detroys nutrients, making plants unable to grow healthy. Acidic water can poison fish as well as their eggs which prevents them from hatching. There's a lot of balance that goes on in nature and changing pH disturbs that balance which affects much more than just the original change."
   ]
  },
  {
   "cell_type": "markdown",
   "metadata": {},
   "source": [
    "### The full scale\n",
    "\n",
    "<img src=\"http://phhsbiology.weebly.com/uploads/3/0/1/0/30101179/ph_scale.jpg\" width=\"500\" height=\"600\">\n",
    "\n",
    "### How do we measure pH?\n",
    "\n",
    "There are lots of ways to meausre pH. There's even a meter that records the pH of a solution digitally, but those are expensive. There are lots of cheaper indicators that change colour when the pH changes past a specific limit. If you want to know if something is acidic or basic, but not the exact pH, there is a test called litmus paper. Litmus paper comes in blue and red. The blue litmus paper turns red if it's dipped in an acid. The red litmus paper turns blue if it's dipped in a base. There's also a universal indicator solution which changes colour at different pHs between 2 and 10. There's many more indicators such as phenolthalein, phenol red, bromothymol blue, and even cabbage juice. These all change colour at different points on the pH scale."
   ]
  },
  {
   "cell_type": "markdown",
   "metadata": {},
   "source": [
    "## Lab\n",
    "\n",
    "Let's test a mystery solution with litmus paper to determine if it's an acid or a base. Drag the red and blue litmus paper strips into the liquid in the beaker one at a time. \n",
    "\n",
    "Remember, if the red litmus paper turns blue on the end that was dipped, it's a base. If the blue litmus paper turns red on the end that was dipped, it's an acid. If neither change colour when dipped, then it's neutral."
   ]
  },
  {
   "cell_type": "code",
   "execution_count": null,
   "metadata": {},
   "outputs": [],
   "source": [
    "%%html\n",
    "\n",
    "<script type = \"text/javascript\" src=\"sources/animation2.js\"></script>"
   ]
  },
  {
   "cell_type": "code",
   "execution_count": null,
   "metadata": {},
   "outputs": [],
   "source": [
    "%%html\n",
    "\n",
    "<div id=\"animation\"></div>\n",
    "\n",
    "<script>\n",
    "display(10);\n",
    "</script>\n",
    "\n",
    "<! -- 10 represents the pH of the solution in the beaker. \n",
    "If this is changed then the question below the lab might not have the right answer.-- >"
   ]
  },
  {
   "cell_type": "code",
   "execution_count": null,
   "metadata": {},
   "outputs": [],
   "source": [
    "answers6 = widgets.RadioButtons(options=['An acid', 'A base', 'Neutral'],\n",
    "            value=None)\n",
    "\n",
    "def display6():\n",
    "    print(\"Is the solution in the beaker an acid, a base, or neutral?\")\n",
    "    IPython.display.display(answers6)\n",
    "    \n",
    "def check6(a):\n",
    "    IPython.display.clear_output()\n",
    "    display6()\n",
    "    if answers6.value == 'A base': # Here's where it checks for the right answer\n",
    "        print(\"Great job! Because the red litmus paper turned blue on the end, it's a base!\")\n",
    "    else:\n",
    "        print(\"That's not right. Look at what the litmus paper tells you again.\")\n",
    "\n",
    "display6()\n",
    "answers6.observe(check6, 'value')"
   ]
  },
  {
   "cell_type": "markdown",
   "metadata": {},
   "source": [
    "### Universal indicator solution\n",
    "\n",
    "Universal indicator can come on paper like the litmus tests, or it can be in a solution that is put into the solution being tested. If you're using paper then the paper changes colour with respect to the scale below depending on the pH. If you use the solution in your tested solution using a dropper, then the whole tested solution changes colour with respect to the scale below depending on the solution's pH!\n",
    "\n",
    "![indicator](http://www.middleschoolchemistry.com/img/content/lessons/6.8/universal_indicator_chart.jpg)\n",
    "\n",
    "#### Try solutions with different pHs\n",
    "\n",
    "##### Instructions\n",
    "Slide the slider to change the pH of the solution in the beaker. Then add the universal indicator solution in the dropper over top the beaker. Then watch what colour the solution in the beaker changes to! If you want to try another pH, pick a new pH and drag the dropper over the beaker again!"
   ]
  },
  {
   "cell_type": "code",
   "execution_count": null,
   "metadata": {},
   "outputs": [],
   "source": [
    "%%html\n",
    "\n",
    "<link rel=\"stylesheet\" type=\"text/css\" href=\"sources/dropperstyle.css\">\n",
    "<script type = \"text/javascript\" src=\"sources/dropperAnimation.js\"></script>"
   ]
  },
  {
   "cell_type": "code",
   "execution_count": null,
   "metadata": {},
   "outputs": [],
   "source": [
    "%%html\n",
    "\n",
    "<div id=\"slider\"></div>\n",
    "<div id=\"beaker\">\n",
    "</div>\n",
    "\n",
    "<script>\n",
    "display2(7);\n",
    "</script>"
   ]
  },
  {
   "cell_type": "markdown",
   "metadata": {},
   "source": [
    "### How to measure water quality\n",
    "\n",
    "There are many factors that go into determining the quality of fresh and salt water, including acidity (pH), colour, concentration of disolved oxygen, and turbidity (the amount of suspended particles in the water). Let's apply our knowledge of concentration and pH to measuring water quality.\n",
    "\n",
    "Good quality fresh water usually has a pH around 6-7, and a concentration of dissolved oxygen around 9-10 ppm. Good quality sea water has a pH around 7-8.5, and a concentration of dissolved oxygen around 7-8 ppm. These measurements are taken at room temperature, as the temperature of water affects the amount of dissolved oxygen that can be found in water. [source](https://www.engineeringtoolbox.com/oxygen-solubility-water-d_841.html)"
   ]
  },
  {
   "cell_type": "code",
   "execution_count": null,
   "metadata": {},
   "outputs": [],
   "source": [
    "answers7 = widgets.RadioButtons(options=['pH will increase towards 14',\n",
    "                                         'pH will decrease towards 1',\n",
    "                                         'pH will because neutral (7)',\n",
    "                                         'pH will stay the same'],\n",
    "                                value=None)\n",
    "\n",
    "def display7():\n",
    "    print(\"What will happen to the pH of a pond if acid rain falls into it?\")\n",
    "    IPython.display.display(answers7)\n",
    "    \n",
    "def check7(a):\n",
    "    IPython.display.clear_output()\n",
    "    display7()\n",
    "    if answers7.value == 'pH will decrease towards 1':\n",
    "        print(\"That's right! Acid rain makes the pond more acidic, meaning it's pH is closer to 1.\")\n",
    "    else:\n",
    "        print(\"Sorry, try again. Remember what acid rain is.\")\n",
    "\n",
    "display7()\n",
    "answers7.observe(check7, 'value')"
   ]
  },
  {
   "cell_type": "markdown",
   "metadata": {},
   "source": [
    "### Water in the Edmonton Area\n",
    "\n",
    "Determining the quality of drinking water is a little different than that of fresh or sea water. Drinking water doesn't need a specific concentration of dissolved oxygen, and is instead tested for things like the concentration of calcuim carbonate (CaCO3) because it makes the water hard. However, pH is always used for determining the quality of water.\n",
    "\n",
    "Let's compare data from a water treatment plant in the Rossdale area of Edmonton to the average pH of distilled water, tap water, and salt/sea water that we learned in this notebook. Fill in the values of the average pH of each of these kinds of water by double clicking the appropriate box under Average pH. You can find this information earlier in the notebook.\n",
    "\n",
    "When you're done, make sure you're not on a editable cell, then press the \"click to save data\" button. "
   ]
  },
  {
   "cell_type": "code",
   "execution_count": null,
   "metadata": {},
   "outputs": [],
   "source": [
    "# same code from investigating electrical conductivity notebook\n",
    "import pandas as pd\n",
    "import numpy as np\n",
    "import qgrid\n",
    "df = pd.DataFrame(index=pd.Series(['Distilled Water', 'Tap Water', 'Salt Water']), columns=pd.Series(['Average pH']))\n",
    "df_widget = qgrid.QgridWidget(df =df, show_toolbar=False)\n",
    "df_widget"
   ]
  },
  {
   "cell_type": "code",
   "execution_count": null,
   "metadata": {},
   "outputs": [],
   "source": [
    "# same code from investigating electrical conductivity notebook\n",
    "from IPython.display import Javascript, display\n",
    "from ipywidgets import widgets\n",
    "\n",
    "def run_all(ev):\n",
    "    display(Javascript('IPython.notebook.execute_cell_range(IPython.notebook.get_selected_index()+1,IPython.notebook.get_selected_index()+2)'))\n",
    "\n",
    "button = widgets.Button(description=\"Click to save data\")\n",
    "button.on_click(run_all)\n",
    "display(button)"
   ]
  },
  {
   "cell_type": "code",
   "execution_count": null,
   "metadata": {},
   "outputs": [],
   "source": [
    "# same code from investigating electrical conductivity notebook\n",
    "output_data = df_widget.get_changed_df()"
   ]
  },
  {
   "cell_type": "markdown",
   "metadata": {},
   "source": [
    "Now that we have the averages, here is the collected data from Rossdale in the past week. Notice that column 2 is labelled pH. That is what we will be comparing to our averages. Click on the button below to compare the data in a graph."
   ]
  },
  {
   "cell_type": "code",
   "execution_count": null,
   "metadata": {},
   "outputs": [],
   "source": [
    "# same code from investigating electrical conductivity notebook\n",
    "url_ELS = \"http://apps.epcor.ca/DAilyWaterQuality/Default.aspx?zone=ELS\"\n",
    "url_RD = \"http://apps.epcor.ca/DAilyWaterQuality/Default.aspx?zone=Rossdale\"\n",
    "table_RD = pd.read_html(url_RD, header=0)\n",
    "table_ELS = pd.read_html(url_ELS, header=0)\n",
    "qgrid.QgridWidget(df = table_RD[0])"
   ]
  },
  {
   "cell_type": "code",
   "execution_count": null,
   "metadata": {},
   "outputs": [],
   "source": [
    "# same code from investigating electrical conductivity notebook\n",
    "button = widgets.Button(description=\"Update the plot\")\n",
    "button.on_click(run_all)\n",
    "display(button)"
   ]
  },
  {
   "cell_type": "code",
   "execution_count": null,
   "metadata": {},
   "outputs": [],
   "source": [
    "# same code from investigating electrical conductivity notebook\n",
    "import matplotlib.pyplot as plt\n",
    "from matplotlib.colors import Normalize\n",
    "import matplotlib.cm as cm\n",
    "import warnings\n",
    "# ignoring runtime warning from taking the mean of a single number\n",
    "# this also catches strings. \n",
    "np.warnings.filterwarnings('ignore')\n",
    "cmap = cm.Set1\n",
    "\n",
    "norm=Normalize(vmin=0, vmax=len(output_data.index)+1)\n",
    "\n",
    "for i in range(len(output_data.index)): \n",
    "    try:\n",
    "        sample_mean=float(output_data.iloc[i,0])\n",
    "        plt.axhline(y=sample_mean, c=cmap(norm(i)), ls='dashed', label='Average of ' + output_data.index[i], lw='3')\n",
    "\n",
    "    except ValueError as e:\n",
    "        # skip data that has strings in it. \n",
    "        continue\n",
    "\n",
    "\n",
    "plt.plot(table_RD[0].iloc[2, 1:8], 'bo-', label='Rossdale readings')\n",
    "#plt.plot(pd.DataFrame(table_RD[0].iloc[6, 1:8].apply(pd.to_numeric)))\n",
    "plt.xlabel('Day of Measurement')\n",
    "plt.ylabel('pH (pH)')\n",
    "plt.title('pH of treated waste water over the last week')\n",
    "plt.legend(bbox_to_anchor=(1.05, 1), loc=2)\n",
    "plt.show()"
   ]
  },
  {
   "cell_type": "code",
   "execution_count": null,
   "metadata": {},
   "outputs": [],
   "source": [
    "answers8 = widgets.RadioButtons(options=['An acid', 'A base', 'Neutral'],\n",
    "            value=None)\n",
    "\n",
    "def display8():\n",
    "    print(\"What should be added to Rossdale's water to make it more like tap water?\")\n",
    "    IPython.display.display(answers8)\n",
    "    \n",
    "def check8(a):\n",
    "    IPython.display.clear_output()\n",
    "    display8()\n",
    "    if table_RD[0].iloc[2, 7] >= 7.5 and answers8.value == 'An acid':\n",
    "        print(\"That's right! Adding an acid to Rossdale's water will make it more like tap water because it's too alkaline.\")\n",
    "    else:\n",
    "        if table_RD[0].iloc[2, 7] < 7.5 and answers8.value == 'An base':\n",
    "            print(\"That's right! Adding a base to Rossdale's water will make it more alkaline like tap water.\")\n",
    "        else:\n",
    "            print(\"That's not right, remember what happens when acids and bases react and a pH of 7 is neutral.\")\n",
    "\n",
    "display8()\n",
    "answers8.observe(check8, 'value')"
   ]
  },
  {
   "cell_type": "markdown",
   "metadata": {},
   "source": [
    "### How to measure air quality\n",
    "\n",
    "The video below is a company in Victoria, Australia that measures the air quality. Try to find all the substances they meausre the concentration of."
   ]
  },
  {
   "cell_type": "code",
   "execution_count": null,
   "metadata": {},
   "outputs": [],
   "source": [
    "HTML('<iframe width=\"560\" height=\"315\" src=\"https://www.youtube.com/embed/mp3kztZy7ow?start=19\" frameborder=\"0\" allow=\"autoplay; encrypted-media\" allowfullscreen></iframe>')"
   ]
  },
  {
   "cell_type": "markdown",
   "metadata": {},
   "source": [
    "They measure the concentration of carbon monoxide (from car exhaust) which is harmful in large amounts. They also measure the amount of ozone close to the earth. Ozone is good for us when it's 6-10 miles from the ground as it protects us from the sun's ultraviolet rays. But near the ground, ozone reacts with other chemicals to create harmful substances. If you've ever seen smog, ozone is one of its main components.\n",
    "\n",
    "Ozone at ground level naturally occurs in concentrations around 10 ppb, but becomes a health concern for sensitive organisms at concentrations higher than 85 ppb.\n",
    "\n",
    "Look at the graph below. Is the ozone concentration average in Canada a concern?\n",
    "\n",
    "![canada graph](images/CanadaAmbientAirQuality.gif)\n",
    "\n",
    "If you want to see more trends of air quality in Canada visit [www.cananda.ca](https://www.canada.ca/en/environment-climate-change/services/environmental-indicators/air-quality/ambient-levels-ozone.html) and scroll to the bottom and look under \"Related Indicators\"."
   ]
  },
  {
   "cell_type": "markdown",
   "metadata": {},
   "source": [
    "## Conclusion\n",
    "\n",
    "Let's summarize what we've learned in this notebook. We have learned:\n",
    "\n",
    "* Concentration is in ppm, ppb, or ppt\n",
    "* LD50 is what concentration kills 50% of organisms that consume a substance \n",
    "* DDT is an example of biomagnification\n",
    "* Acids are sour and have a pH less than 7\n",
    "* Bases are bitter and slippery and have a pH greater than 7\n",
    "* Concentration and pH are used to check the quality or water and air\n",
    "\n",
    "This notebook has a lot of content in it, so you might need to go through it a few more times to really remember all the details. If you want some more resources on this topic, check out these websites:\n",
    "\n",
    "https://colgan-science9.weebly.com/acids-and-bases.html\n",
    "\n",
    "http://www.k12science.org/materials/k12/science/environmental-science/"
   ]
  },
  {
   "cell_type": "markdown",
   "metadata": {},
   "source": [
    "![logo](https://callysto.ca/wp-content/uploads/2018/07/Callysto-Notebook-Banner_Bottom_07.30.18.jpg)"
   ]
  }
 ],
 "metadata": {
  "kernelspec": {
   "display_name": "Python 3",
   "language": "python",
   "name": "python3"
  },
  "language_info": {
   "codemirror_mode": {
    "name": "ipython",
    "version": 3
   },
   "file_extension": ".py",
   "mimetype": "text/x-python",
   "name": "python",
   "nbconvert_exporter": "python",
   "pygments_lexer": "ipython3",
   "version": "3.7.0"
  }
 },
 "nbformat": 4,
 "nbformat_minor": 2
}
