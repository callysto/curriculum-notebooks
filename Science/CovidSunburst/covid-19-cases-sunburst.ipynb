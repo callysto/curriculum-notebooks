{
 "cells": [
  {
   "cell_type": "markdown",
   "metadata": {},
   "source": [
    "![Callysto.ca Banner](https://github.com/callysto/curriculum-notebooks/blob/master/callysto-notebook-banner-top.jpg?raw=true)\n",
    " \n",
    "<a href=\"https://hub.callysto.ca/jupyter/hub/user-redirect/git-pull?repo=https%3A%2F%2Fgithub.com%2Fcallysto%2Fcurriculum-notebooks&branch=master&urlpath=notebooks/curriculum-notebooks/Science/CovidSunburst/covid-19-cases-sunburst.ipynb&depth=1\" target=\"_parent\"><img src=\"https://raw.githubusercontent.com/callysto/curriculum-notebooks/master/open-in-callysto-button.svg?sanitize=true\" width=\"123\" height=\"24\" alt=\"Open in Callysto\"></a>"
   ]
  },
  {
   "cell_type": "markdown",
   "metadata": {},
   "source": [
    "## Sunburst Visualization of COVID-19 Cases Data\n",
    "\n",
    "In this notebook we will visualize the number of COVID-19 cases around the world using a [sunburst chart](https://plotly.com/python/sunburst-charts/) by continent and country, and also talk about [data cleaning](https://en.wikipedia.org/wiki/Data_cleansing).\n",
    "\n",
    "Let's get [data](https://github.com/CSSEGISandData/COVID-19) provided by [Johns Hopkins University Center for Systems Science and Engineering (JHU CSSE)](https://systems.jhu.edu/).\n",
    "\n",
    "Click on the code cell below, then click the `▶Run` button to download and preview the data. You can also change the date, in `mm-dd-yyyy` format, to another date that has data [available](https://github.com/CSSEGISandData/COVID-19/tree/master/csse_covid_19_data#daily-reports-csse_covid_19_daily_reports)."
   ]
  },
  {
   "cell_type": "code",
   "execution_count": null,
   "metadata": {},
   "outputs": [],
   "source": [
    "date = '08-01-2022'\n",
    "\n",
    "import pandas as pd\n",
    "url = 'https://raw.githubusercontent.com/CSSEGISandData/COVID-19/master/csse_covid_19_data/csse_covid_19_daily_reports/'+date+'.csv'\n",
    "df = pd.read_csv(url)\n",
    "df"
   ]
  },
  {
   "cell_type": "markdown",
   "metadata": {},
   "source": [
    "## Data Cleaning\n",
    "\n",
    "In the dataframe we see a lot of missing values ([NaN or \"Not a Number\")](https://pandas.pydata.org/pandas-docs/stable/user_guide/missing_data.html)), we'll need to deal with some of those before we can create a visualization.\n",
    "\n",
    "The first step will be to see which rows don't have a `Lat` ([latitude](https://en.wikipedia.org/wiki/Latitude)) value."
   ]
  },
  {
   "cell_type": "code",
   "execution_count": null,
   "metadata": {},
   "outputs": [],
   "source": [
    "df[df['Lat'].isna()]['Country_Region'].unique()"
   ]
  },
  {
   "cell_type": "markdown",
   "metadata": {},
   "source": [
    "A couple of those are cruise ships, [Diamond Princess](https://en.wikipedia.org/wiki/Diamond_Princess_(ship)) and [MS Zaandam](https://en.wikipedia.org/wiki/MS_Zaandam), so we'll remove those rows."
   ]
  },
  {
   "cell_type": "code",
   "execution_count": null,
   "metadata": {},
   "outputs": [],
   "source": [
    "df.drop(df[(df['Country_Region'] == 'Diamond Princess') | (df['Country_Region'] == 'MS Zaandam')].index, inplace=True)\n",
    "df[df['Lat'].isna()]['Country_Region'].unique()"
   ]
  },
  {
   "cell_type": "markdown",
   "metadata": {},
   "source": [
    "The remaining rows that are missing latitude values are all countries, let's take a look at `Canada`."
   ]
  },
  {
   "cell_type": "code",
   "execution_count": null,
   "metadata": {},
   "outputs": [],
   "source": [
    "df[df['Country_Region'] == 'Canada']"
   ]
  },
  {
   "cell_type": "markdown",
   "metadata": {},
   "source": [
    "At least one of the \"provinces\" in Canada is also a cruise ship, so let's drop those and create a [pie chart](https://plotly.com/python/pie-charts/) of just the Canadian data."
   ]
  },
  {
   "cell_type": "code",
   "execution_count": null,
   "metadata": {},
   "outputs": [],
   "source": [
    "canada = df[df['Country_Region'] == 'Canada'].copy()\n",
    "canada.drop(canada[canada['Province_State'].str.contains('Princess')].index, inplace=True)\n",
    "canada.drop(canada[canada['Province_State'].str.contains('Travellers')].index, inplace=True)\n",
    "\n",
    "import plotly.express as px\n",
    "px.pie(canada, values='Confirmed', names='Province_State', title='Confirmed Cases in Canada')"
   ]
  },
  {
   "cell_type": "markdown",
   "metadata": {},
   "source": [
    "We don't have state or provincial data for every country, but let's create a sunburst chart for the countries in our data set that do include a `Province_State` value."
   ]
  },
  {
   "cell_type": "code",
   "execution_count": null,
   "metadata": {},
   "outputs": [],
   "source": [
    "px.sunburst(df[df['Province_State'].notna()], path=['Country_Region','Province_State'], values='Confirmed')"
   ]
  },
  {
   "cell_type": "markdown",
   "metadata": {},
   "source": [
    "The sunburst chart we generated is interactive, try clicking on different countries to expand and contract the chart.\n",
    "\n",
    "For countries without a `Province_State` value, let's just copy the `Country_Region` value so we can add them to our chart."
   ]
  },
  {
   "cell_type": "code",
   "execution_count": null,
   "metadata": {},
   "outputs": [],
   "source": [
    "df['Province_State'].fillna(df['Country_Region'], inplace=True)\n",
    "px.sunburst(df, path=['Country_Region','Province_State'], values='Confirmed')"
   ]
  },
  {
   "cell_type": "markdown",
   "metadata": {},
   "source": [
    "To add one more level to our sunburst chart, let's group the data by continent using the [pycountry-convert](https://pypi.org/project/pycountry-convert/) code library.\n",
    "\n",
    "The `country_to_continent` function will `try` to find the continent for a given country, but if there are any issues it will just output `Error`."
   ]
  },
  {
   "cell_type": "code",
   "execution_count": null,
   "metadata": {},
   "outputs": [],
   "source": [
    "import pycountry_convert as pc\n",
    "def country_to_continent(country):\n",
    "    try:\n",
    "        country_code = pc.country_name_to_country_alpha2(country, cn_name_format='default')\n",
    "        continent_code = pc.country_alpha2_to_continent_code(country_code)\n",
    "        continent_name = pc.convert_continent_code_to_continent_name(continent_code)\n",
    "    except:\n",
    "        continent_name = 'Error'\n",
    "    return(continent_name)\n",
    "\n",
    "df['Continent'] = [country_to_continent(country) for country in df['Country_Region']]\n",
    "px.sunburst(df, path=['Continent','Country_Region','Province_State'], values='Confirmed')"
   ]
  },
  {
   "cell_type": "markdown",
   "metadata": {},
   "source": [
    "Of course we don't actually want a continent named `Error`, so let's fix those values.\n",
    "\n",
    "The code library didn't recognize `US` (it would have worked with `United States`), but we know that `US` is in North America."
   ]
  },
  {
   "cell_type": "code",
   "execution_count": null,
   "metadata": {},
   "outputs": [],
   "source": [
    "df.loc[df['Country_Region']=='US','Continent'] = 'North America'\n",
    "df['Country_Region'] = df['Country_Region'].replace('US','United States')  # Replace US with United States\n",
    "px.sunburst(df, path=['Continent','Country_Region','Province_State'], values='Confirmed')"
   ]
  },
  {
   "cell_type": "markdown",
   "metadata": {},
   "source": [
    "Let's check out the rest of the continent errors."
   ]
  },
  {
   "cell_type": "code",
   "execution_count": null,
   "metadata": {},
   "outputs": [],
   "source": [
    "df[df['Continent']=='Error']['Country_Region']"
   ]
  },
  {
   "cell_type": "markdown",
   "metadata": {},
   "source": [
    "We can drop the `Summer Olympics 2020` and  `Winter Olympics 2022`."
   ]
  },
  {
   "cell_type": "code",
   "execution_count": null,
   "metadata": {},
   "outputs": [],
   "source": [
    "df.drop(df[df['Country_Region'].str.contains('Olympics')].index, inplace=True)\n",
    "df[df['Continent']=='Error']['Country_Region']"
   ]
  },
  {
   "cell_type": "markdown",
   "metadata": {},
   "source": [
    "Now let's set the continents for the rest of these."
   ]
  },
  {
   "cell_type": "code",
   "execution_count": null,
   "metadata": {},
   "outputs": [],
   "source": [
    "continents = {\n",
    "    'Antarctica':'Antarctica',\n",
    "    'Burma':'Asia',\n",
    "    'Congo':'Africa',\n",
    "    \"Cote d'Ivoire\":'Africa',\n",
    "    'Holy See':'Europe',\n",
    "    'Korea, North':'Asia',\n",
    "    'Korea, South':'Asia',\n",
    "    'Kosovo':'Europe',\n",
    "    'Taiwan*':'Asia',\n",
    "    'Timor-Leste':'Asia',\n",
    "    'West Bank and Gaza':'Asia',\n",
    "    }\n",
    "for cr, continent in continents.items():\n",
    "    df.loc[df['Country_Region']==cr, 'Continent'] = continent\n",
    "px.sunburst(df, path=['Continent','Country_Region','Province_State'], values='Confirmed')"
   ]
  },
  {
   "cell_type": "markdown",
   "metadata": {},
   "source": [
    "Some of those slices are very small, we increase the size of the chart to see more detail. We should also add a title to our chart."
   ]
  },
  {
   "cell_type": "code",
   "execution_count": null,
   "metadata": {},
   "outputs": [],
   "source": [
    "size = 1000\n",
    "title = 'Confimed COVID-19 Cases as of '+date\n",
    "px.sunburst(df, path=['Continent','Country_Region','Province_State'], values='Confirmed', title=title, width=size, height=size)"
   ]
  },
  {
   "cell_type": "markdown",
   "metadata": {},
   "source": [
    "# Conclusion\n",
    "\n",
    "In this notebook we cleaned and visualized [COVID-19 data](https://github.com/CSSEGISandData/COVID-19) provided by [Johns Hopkins University Center for Systems Science and Engineering (JHU CSSE)](https://systems.jhu.edu/)."
   ]
  },
  {
   "cell_type": "markdown",
   "metadata": {},
   "source": [
    "[![Callysto.ca License](https://github.com/callysto/curriculum-notebooks/blob/master/callysto-notebook-banner-bottom.jpg?raw=true)](https://github.com/callysto/curriculum-notebooks/blob/master/LICENSE.md)"
   ]
  }
 ],
 "metadata": {
  "kernelspec": {
   "display_name": "Python 3 (ipykernel)",
   "language": "python",
   "name": "python3"
  },
  "language_info": {
   "codemirror_mode": {
    "name": "ipython",
    "version": 3
   },
   "file_extension": ".py",
   "mimetype": "text/x-python",
   "name": "python",
   "nbconvert_exporter": "python",
   "pygments_lexer": "ipython3",
   "version": "3.9.12"
  },
  "vscode": {
   "interpreter": {
    "hash": "d1ca6d17674200220921376aaeb3d36cffe15ecab2470a9a5e7a456cdbf61425"
   }
  }
 },
 "nbformat": 4,
 "nbformat_minor": 4
}
