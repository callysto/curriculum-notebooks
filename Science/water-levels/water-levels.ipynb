{
 "cells": [
  {
   "attachments": {},
   "cell_type": "markdown",
   "metadata": {},
   "source": [
    "![Callysto.ca Banner](https://github.com/callysto/curriculum-notebooks/blob/master/callysto-notebook-banner-top.jpg?raw=true)"
   ]
  },
  {
   "attachments": {},
   "cell_type": "markdown",
   "metadata": {},
   "source": [
    "# River and Lake Water Levels\n",
    "\n",
    "\n",
    "### Recommended Grade levels: 6-12\n",
    "<br>"
   ]
  },
  {
   "attachments": {},
   "cell_type": "markdown",
   "metadata": {},
   "source": [
    "### Instructions\n",
    "#### “Run” the cells to see the graphs\n",
    "Click “Cell” and select “Run All”.<br> This will import the data and run all the code, so you can see this week's data visualization. Scroll to the top after you’ve run the cells.<br> \n",
    "\n",
    "![instructions](https://github.com/callysto/data-viz-of-the-week/blob/main/images/instructions.png?raw=true)\n",
    "\n",
    "**You don’t need to do any coding to view the visualizations**.\n",
    "The plots generated in this notebook are interactive. You can hover over and click on elements to see more information. \n",
    "\n",
    "Email contact@callysto.ca if you experience issues."
   ]
  },
  {
   "attachments": {},
   "cell_type": "markdown",
   "metadata": {},
   "source": [
    "### About this Notebook\n",
    "\n",
    "Callysto's Weekly Data Visualization is a learning resource that aims to develop data literacy skills. We provide Grades 5-12 teachers and students with a data visualization, like a graph, to interpret. This companion resource walks learners through how the data visualization is created and interpreted by a data scientist. \n",
    "\n",
    "The steps of the data analysis process are listed below and applied to each weekly topic.\n",
    "\n",
    "1. Question - What are we trying to answer? \n",
    "2. Gather - Find the data source(s) you will need. \n",
    "3. Organize - Arrange the data, so that you can easily explore it. \n",
    "4. Explore - Examine the data to look for evidence to answer the question. This includes creating visualizations. \n",
    "5. Interpret - Describe what's happening in the data visualization. \n",
    "6. Communicate - Explain how the evidence answers the question. "
   ]
  },
  {
   "attachments": {},
   "cell_type": "markdown",
   "metadata": {},
   "source": [
    "# Question\n",
    "\n",
    "Is water levels in Canada reaching *record* highs?\n",
    "\n",
    "### Goal\n",
    "Our goal is to show that water levels in Canada have reached record highs, based on all provinces with lakes and river.s\n",
    "\n",
    "We will use line graphs to visually represent the data in an informative way. "
   ]
  },
  {
   "attachments": {},
   "cell_type": "markdown",
   "metadata": {},
   "source": [
    "# Gather\n",
    "\n",
    "### Code:\n",
    "The code below will import the Python programming libraries we need to gather and organize the data to answer our question."
   ]
  },
  {
   "cell_type": "code",
   "execution_count": null,
   "metadata": {},
   "outputs": [],
   "source": [
    "## import libraries\n",
    "import pandas as pd\n",
    "import plotly.express as px"
   ]
  },
  {
   "attachments": {},
   "cell_type": "markdown",
   "metadata": {},
   "source": [
    "### Data:\n",
    "\n",
    "The Shuswap Lake is a popular and large lake in the Okanagan Region of the province of British Columbia. The water levels of this particular lake fluctuates over the year due to rain fall and snow run off coming from the mountains.\n",
    "\n",
    "[![Shuswap Lake](https://img.youtube.com/vi/1fJlFh4eJ08/0.jpg)](https://www.youtube.com/watch?v=1fJlFh4eJ08)"
   ]
  },
  {
   "attachments": {},
   "cell_type": "markdown",
   "metadata": {},
   "source": [
    "### Import the data"
   ]
  },
  {
   "cell_type": "code",
   "execution_count": null,
   "metadata": {},
   "outputs": [],
   "source": [
    "# import data\n",
    "#URL https://dd.weather.gc.ca/hydrometric/\n",
    "station = \"08LE070\"\n",
    "shuswap_data= pd.read_csv(f'https://dd.weather.gc.ca/hydrometric/csv/BC/daily/BC_{station}_daily_hydrometric.csv')\n",
    "shuswap_data"
   ]
  },
  {
   "attachments": {},
   "cell_type": "markdown",
   "metadata": {},
   "source": [
    "### Comment on the data\n"
   ]
  },
  {
   "cell_type": "code",
   "execution_count": null,
   "metadata": {},
   "outputs": [],
   "source": [
    "#Display the coloumn names\n",
    "print(*shuswap_data.columns, sep='\\n')"
   ]
  },
  {
   "cell_type": "code",
   "execution_count": null,
   "metadata": {},
   "outputs": [],
   "source": [
    "#Display dataframe by date and water level\n",
    "shuswap_data[[\"Date\", \"Water Level / Niveau d'eau (m)\"]]"
   ]
  },
  {
   "cell_type": "code",
   "execution_count": null,
   "metadata": {},
   "outputs": [],
   "source": [
    "from datetime import datetime\n",
    "from datetime import date\n",
    "shuswap_data['date_ordinal'] = pd.to_datetime(shuswap_data['Date']).apply(lambda date: date.toordinal())\n",
    "shuswap_data['date_ordinal']"
   ]
  },
  {
   "cell_type": "code",
   "execution_count": null,
   "metadata": {},
   "outputs": [],
   "source": [
    "average_of_dates = shuswap_data.groupby(['date_ordinal'], as_index=False)[\"Water Level / Niveau d'eau (m)\"].mean()"
   ]
  },
  {
   "cell_type": "code",
   "execution_count": null,
   "metadata": {},
   "outputs": [],
   "source": [
    "import numpy as np\n",
    "import matplotlib.pyplot as plt\n",
    "x_train = average_of_dates['date_ordinal'].to_numpy()\n",
    "y_train = average_of_dates[\"Water Level / Niveau d'eau (m)\"].to_numpy()\n",
    "print(f\"x_train = {x_train}\")\n",
    "print(f\"y_train = {y_train}\")"
   ]
  },
  {
   "cell_type": "code",
   "execution_count": null,
   "metadata": {},
   "outputs": [],
   "source": [
    "from sklearn.linear_model import LinearRegression\n",
    "from sklearn.preprocessing import PolynomialFeatures\n",
    "x_train = x_train.reshape(-1, 1)\n",
    "poly_reg = PolynomialFeatures(degree = 3)\n",
    "X_poly = poly_reg.fit_transform(x_train)\n",
    "lin_reg_2=LinearRegression().fit(X_poly, x_train)\n",
    "\n",
    "lin_reg_2.coef_"
   ]
  },
  {
   "cell_type": "code",
   "execution_count": null,
   "metadata": {},
   "outputs": [],
   "source": [
    "from sklearn.linear_model import LinearRegression\n",
    "from sklearn.preprocessing import PolynomialFeatures\n",
    "x_train = x_train.reshape(-1, 1)\n",
    "y_train = y_train.reshape(-1 ,1)\n",
    "\n",
    "poly_reg = PolynomialFeatures(degree = 3)\n",
    "X_poly = poly_reg.fit_transform(x_train)\n",
    "lin_reg_2=LinearRegression().fit(X_poly, y_train)\n",
    "\n",
    "print(lin_reg_2.coef_[0][1])\n",
    "print(lin_reg_2.intercept_)\n"
   ]
  },
  {
   "cell_type": "code",
   "execution_count": null,
   "metadata": {},
   "outputs": [],
   "source": [
    "import seaborn as sns\n",
    "from matplotlib import pyplot as plt\n",
    "\n",
    "water_pred = sns.regplot(\n",
    "    data=average_of_dates,\n",
    "    x='date_ordinal',\n",
    "    y=\"Water Level / Niveau d'eau (m)\",\n",
    "    order=3\n",
    ")\n",
    "\n",
    "new_labels = [date.fromordinal(int(item)) for item in water_pred.get_xticks()]\n",
    "water_pred.set_xticklabels(new_labels)\n",
    "\n",
    "plt.xlabel('date', fontsize=16)\n",
    "plt.title('Linear Regression for Water Levels', fontsize=20)\n",
    "plt.tick_params(axis='x', which='major', labelsize=8)"
   ]
  },
  {
   "cell_type": "code",
   "execution_count": null,
   "metadata": {},
   "outputs": [],
   "source": [
    "import scipy\n",
    "slope, intercept, r, p, sterr = scipy.stats.linregress(x=water_pred.get_lines()[0].get_xdata(),\n",
    "                                                       y=water_pred.get_lines()[0].get_ydata())\n",
    "print(slope, intercept)"
   ]
  },
  {
   "cell_type": "code",
   "execution_count": null,
   "metadata": {},
   "outputs": [],
   "source": [
    "def regression_line(x, slope1, slope2, slope3, intercept):\n",
    "    return(x**3 * slope3 + x**2 * slope2 + x * slope1 + intercept)\n",
    "\n",
    "regression_model = pd.DataFrame()\n",
    "regression_model['predicted_dates'] = average_of_dates['date_ordinal'] + 30\n",
    "regression_model['predicted_water_levels'] = np.vectorize(regression_line)(regression_model['predicted_dates'], lin_reg_2.coef_[0][1], lin_reg_2.coef_[0][2], lin_reg_2.coef_[0][3], lin_reg_2.intercept_[0])\n",
    "display(regression_model)"
   ]
  },
  {
   "cell_type": "code",
   "execution_count": null,
   "metadata": {},
   "outputs": [],
   "source": [
    "from plotly.subplots import make_subplots\n",
    "import plotly.graph_objects as go\n",
    "\n",
    "fig = make_subplots(rows=1, cols=2, shared_yaxes=True)\n",
    "\n",
    "fig.add_trace(\n",
    "    go.Scatter(x=average_of_dates['date_ordinal'].apply(datetime.fromordinal), y=average_of_dates[\"Water Level / Niveau d'eau (m)\"]),\n",
    "    row=1, col=1\n",
    ")\n",
    "\n",
    "fig.add_trace(\n",
    "    go.Scatter(x=regression_model['predicted_dates'].apply(datetime.fromordinal), y=regression_model['predicted_water_levels']),\n",
    "    row=1, col=2\n",
    ")\n",
    "\n",
    "fig.update_layout(title_text=\"Side By Side Waterlevels and Predicted Waterlevels\")\n",
    "fig.show()"
   ]
  },
  {
   "cell_type": "code",
   "execution_count": null,
   "metadata": {},
   "outputs": [],
   "source": [
    "x_train = x_train.flatten()\n",
    "y_train = y_train.flatten()\n",
    "fit = np.polyfit(np.log(x_train), y_train, 1)\n",
    "print(fit)"
   ]
  },
  {
   "cell_type": "code",
   "execution_count": null,
   "metadata": {},
   "outputs": [],
   "source": [
    "def logarithmic_reg(x, slope, intercept):\n",
    "    return(intercept + slope * np.log(x))\n",
    "\n",
    "log_model = pd.DataFrame()\n",
    "log_model['predicted_dates'] = average_of_dates['date_ordinal'] + 30\n",
    "log_model['predicted_water_levels'] = np.vectorize(logarithmic_reg)(log_model['predicted_dates'], fit[0], fit[1])\n",
    "display(log_model)"
   ]
  },
  {
   "cell_type": "code",
   "execution_count": null,
   "metadata": {},
   "outputs": [],
   "source": [
    "from plotly.subplots import make_subplots\n",
    "import plotly.graph_objects as go\n",
    "\n",
    "fig = make_subplots(rows=1, cols=2, shared_yaxes=True)\n",
    "\n",
    "fig.add_trace(\n",
    "    go.Scatter(x=average_of_dates['date_ordinal'].apply(datetime.fromordinal), y=average_of_dates[\"Water Level / Niveau d'eau (m)\"]),\n",
    "    row=1, col=1\n",
    ")\n",
    "\n",
    "fig.add_trace(\n",
    "    go.Scatter(x=log_model['predicted_dates'].apply(datetime.fromordinal), y=log_model['predicted_water_levels']),\n",
    "    row=1, col=2\n",
    ")\n",
    "\n",
    "fig.update_layout(title_text=\"Side By Side Waterlevels and Predicted Waterlevels\")\n",
    "fig.show()"
   ]
  },
  {
   "attachments": {},
   "cell_type": "markdown",
   "metadata": {},
   "source": [
    "# Visualization for Shuswap Lake Levels\n",
    "\n",
    "Real time data for the Shuswap Lake"
   ]
  },
  {
   "cell_type": "code",
   "execution_count": null,
   "metadata": {},
   "outputs": [],
   "source": [
    "px.line(shuswap_data, x=\"Date\", y=\"Water Level / Niveau d'eau (m)\",title=\"Shuswap Lake Level\")"
   ]
  },
  {
   "attachments": {},
   "cell_type": "markdown",
   "metadata": {},
   "source": [
    "#insert map of stations here\n",
    "#https://wateroffice.ec.gc.ca/map/index_e.html"
   ]
  },
  {
   "cell_type": "code",
   "execution_count": null,
   "metadata": {},
   "outputs": [],
   "source": [
    "import pandas as pd\n",
    "import folium\n",
    "from folium.plugins import MarkerCluster\n",
    "df = pd.read_csv('https://wateroffice.ec.gc.ca/map/download_e.html?type=real_time&filters=%7B%22station_id%22%3A%22%22%2C%22station_name%22%3A%22%22%2C%22province%22%3A%22all%22%2C%22region%22%3A%22CAN%22%2C%22basin%22%3A%22all%22%2C%22parameter%22%3A%22all%22%2C%22operation_schedule%22%3A%22all%22%2C%22operating_agency%22%3A%22all%22%7D')\n",
    "latitude = df['Latitude'].mean()\n",
    "longitude = df['Longitude'].mean()\n",
    "station_map = folium.Map(location=[latitude,longitude], zoom_start=3)\n",
    "marker_cluster = MarkerCluster()\n",
    "for row in df.iterrows():\n",
    "    marker_cluster.add_child(folium.Marker(location=[row[1]['Latitude'],row[1]['Longitude']], popup=[row[1]['Station Name'], row[1]['Station ID']]))\n",
    "station_map.add_child(marker_cluster)\n",
    "station_map"
   ]
  },
  {
   "cell_type": "code",
   "execution_count": null,
   "metadata": {},
   "outputs": [],
   "source": [
    "## import data\n",
    "station = \"05BJ004\"\n",
    "otherwater_data= pd.read_csv(f'https://dd.weather.gc.ca/hydrometric/csv/BC/daily/BC_{station}_daily_hydrometric.csv')\n",
    "otherwater_data"
   ]
  },
  {
   "cell_type": "code",
   "execution_count": null,
   "metadata": {},
   "outputs": [],
   "source": [
    "px.line(otherwater_data, x=\"Date\", y=\"Water Level / Niveau d'eau (m)\",title=\"Other Water Level\")"
   ]
  },
  {
   "attachments": {},
   "cell_type": "markdown",
   "metadata": {},
   "source": [
    "Comparison of water levels in the Shuswap Lake and other bodies of water"
   ]
  },
  {
   "cell_type": "code",
   "execution_count": null,
   "metadata": {},
   "outputs": [],
   "source": []
  },
  {
   "attachments": {},
   "cell_type": "markdown",
   "metadata": {},
   "source": [
    "# Communicate\n",
    "Below we will discuss the results of the data exploration.\n",
    "(How does our key evidence help answer our question?)"
   ]
  },
  {
   "attachments": {},
   "cell_type": "markdown",
   "metadata": {},
   "source": [
    "[![Callysto.ca License](https://github.com/callysto/curriculum-notebooks/blob/master/callysto-notebook-banner-bottom.jpg?raw=true)](https://github.com/callysto/curriculum-notebooks/blob/master/LICENSE.md)"
   ]
  }
 ],
 "metadata": {
  "kernelspec": {
   "display_name": "Python 3 (ipykernel)",
   "language": "python",
   "name": "python3"
  },
  "language_info": {
   "codemirror_mode": {
    "name": "ipython",
    "version": 3
   },
   "file_extension": ".py",
   "mimetype": "text/x-python",
   "name": "python",
   "nbconvert_exporter": "python",
   "pygments_lexer": "ipython3",
   "version": "3.10.8"
  }
 },
 "nbformat": 4,
 "nbformat_minor": 4
}
