{
 "cells": [
  {
   "attachments": {},
   "cell_type": "markdown",
   "metadata": {},
   "source": [
    "![Callysto.ca Banner](https://github.com/callysto/curriculum-notebooks/blob/master/callysto-notebook-banner-top.jpg?raw=true)"
   ]
  },
  {
   "attachments": {},
   "cell_type": "markdown",
   "metadata": {},
   "source": [
    "# River and Lake Water Levels"
   ]
  },
  {
   "attachments": {},
   "cell_type": "markdown",
   "metadata": {},
   "source": [
    "Have you ever wondered what a lake's water levels can reveal? Investigating a lake's water levels can provide valuable insight into its hydrological behaviour. By analyzing the fluctuations and patterns in water levels, we can gain a better sense of lake dynamics and make informed decisions in regard to the surrounding ecosystem.\n",
    "\n",
    "*Curriculum Connections*\n",
    "\n",
    "- [Freshwater and Saltwater Systems](https://education.alberta.ca/media/3069389/pos_science_7_9.pdf) \n",
    "- [Investigate Forces of Water, air including force lift and drag](https://www.alberta.ca/curriculum-science.aspx)\n",
    "\n",
    "*Investigating Questions*\n",
    "\n",
    "- What are the historical trends in water levels for specific water bodies in Canada, and how have they changed over time?\n",
    "- What factors influence the water levels in Canada's rivers, lakes, and reservoirs?\n",
    "- How do natural factors like evaporation and groundwater recharge influence water levels in Canada?"
   ]
  },
  {
   "attachments": {},
   "cell_type": "markdown",
   "metadata": {},
   "source": [
    "***\n",
    "The [Shuswap Lake](https://bcparks.ca/shuswap-lake-park/) is a beautiful and popular freshwater lake located in the Okanagan Region of British Columbia, and it will be the primary body of water that we'll be exploring throughout this notebook. The water levels of this particular lake fluctuates over the year due to rain fall and snow run off coming from the mountains.\n",
    "\n",
    "[![Shuswap Lake](https://img.youtube.com/vi/1fJlFh4eJ08/0.jpg)](https://www.youtube.com/watch?v=1fJlFh4eJ08)"
   ]
  },
  {
   "attachments": {},
   "cell_type": "markdown",
   "metadata": {},
   "source": [
    "### Import the Data\n",
    "The code below will import the Python programming libraries we need to gather and organize the data to answer our question. `▶Run` the code cell below "
   ]
  },
  {
   "cell_type": "code",
   "execution_count": null,
   "metadata": {},
   "outputs": [],
   "source": [
    "## import libraries\n",
    "import pandas as pd\n",
    "import plotly.express as px\n",
    "from plotly.subplots import make_subplots\n",
    "import plotly.graph_objects as go\n",
    "from sklearn.model_selection import train_test_split\n",
    "import numpy as np\n",
    "import matplotlib.pyplot as plt\n",
    "import pandas as pd\n",
    "import folium\n",
    "from folium.plugins import MarkerCluster\n",
    "print('Libraries imported.')"
   ]
  },
  {
   "attachments": {},
   "cell_type": "markdown",
   "metadata": {},
   "source": [
    "### Introductory Analysis"
   ]
  },
  {
   "attachments": {},
   "cell_type": "markdown",
   "metadata": {},
   "source": [
    "Let's take a look at the most recent water level data about the Shuswap Lake. Datasets were obtained from the [Government of Canada](https://dd.weather.gc.ca/hydrometric/)."
   ]
  },
  {
   "cell_type": "code",
   "execution_count": null,
   "metadata": {},
   "outputs": [],
   "source": [
    "station = \"08LE070\"\n",
    "shuswap_data= pd.read_csv(f'https://dd.weather.gc.ca/hydrometric/csv/BC/daily/BC_{station}_daily_hydrometric.csv')\n",
    "shuswap_data"
   ]
  },
  {
   "attachments": {},
   "cell_type": "markdown",
   "metadata": {},
   "source": [
    "We notice in our dataset that we have _10_ different columns. In particular, `Water Level / Niveau d'eau (m)` and `Date` appear to be the most important as we can investigate correlations on whether certain dates have ascending or descending water levels."
   ]
  },
  {
   "attachments": {},
   "cell_type": "markdown",
   "metadata": {},
   "source": [
    "For now, let's **plot** these important columns to see if there are any trends."
   ]
  },
  {
   "cell_type": "code",
   "execution_count": null,
   "metadata": {},
   "outputs": [],
   "source": [
    "px.line(shuswap_data, x=\"Date\", y=\"Water Level / Niveau d'eau (m)\",title=\"Shuswap Lake Levels\")"
   ]
  },
  {
   "attachments": {},
   "cell_type": "markdown",
   "metadata": {},
   "source": [
    "### Questions:\n",
    "\n",
    "1. Is there an ascending, (going upwards), descending (going downwards), or no trend in the visualization? \n",
    "1. Can you think of reasons why particular months would have ascending or descending trends?\n",
    "2. Does the rate of growth between water levels and months surprise you? Do you think the growth should be slower or faster? "
   ]
  },
  {
   "attachments": {},
   "cell_type": "markdown",
   "metadata": {},
   "source": [
    "### Exploring Extremities"
   ]
  },
  {
   "attachments": {},
   "cell_type": "markdown",
   "metadata": {},
   "source": [
    "Now that we have investigated correlations ranging in the past couple of months, let's delve into datasets that explore different attributes regarding water levels. In particular, by looking into specialized datasets from the [Government of Canada](https://wateroffice.ec.gc.ca/mainmenu/real_time_data_index_e.html)."
   ]
  },
  {
   "cell_type": "code",
   "execution_count": null,
   "metadata": {},
   "outputs": [],
   "source": [
    "extreme_data = pd.read_csv(\"https://raw.githubusercontent.com/callysto/data-files/main/Science/WaterLevels/annual_extremes.csv\", skiprows=1)\n",
    "extreme_data.head()"
   ]
  },
  {
   "attachments": {},
   "cell_type": "markdown",
   "metadata": {},
   "source": [
    "The dataset *extreme_data* obtained above explores the extremities of the Shuswap Lake, that being the `minimum` and `maximum` water levels throughout a year."
   ]
  },
  {
   "cell_type": "code",
   "execution_count": null,
   "metadata": {},
   "outputs": [],
   "source": [
    "shuswap_annual = pd.read_csv(\"https://raw.githubusercontent.com/callysto/data-files/main/Science/WaterLevels/shuswap_data.csv\", skiprows=1)\n",
    "shuswap_annual.head()"
   ]
  },
  {
   "attachments": {},
   "cell_type": "markdown",
   "metadata": {},
   "source": [
    "The dataset *shuswap_annual* obtained above explores the water level of the Shuswap Lake throughout an entire year spanning from *1951* to *2021*."
   ]
  },
  {
   "attachments": {},
   "cell_type": "markdown",
   "metadata": {},
   "source": [
    "### Data Cleaning"
   ]
  },
  {
   "attachments": {},
   "cell_type": "markdown",
   "metadata": {},
   "source": [
    "Data cleaning is like tidying up information to make it useful and accurate. Just like you clean and organize your room, data cleaning helps make data neat and organized.\n",
    "\n",
    "Imagine you have a bunch of information about your classmates, like their names, ages, and favorite colors. But sometimes, mistakes or errors can happen when collecting this information. For example, someone may have misspelled a name or entered the wrong age for a classmate.\n",
    "\n",
    "Data cleaning involves finding and fixing these mistakes. It's important because clean data helps us make better decisions and find meaningful patterns.\n",
    "\n",
    "In this particular situation, we want to remove the columns `SYM` and `SYM.1`. These columns are mainly composed of **NaN** values, or no value at all meaning many of the rows do not contain a value for these columns. This essentially means that `SYM` and `SYM.1` have almost nothing to do with water levels and most likely would lead to little insight. "
   ]
  },
  {
   "cell_type": "code",
   "execution_count": null,
   "metadata": {},
   "outputs": [],
   "source": [
    "# Drop the columns SYM, SYM.1\n",
    "extreme_data = extreme_data.drop(columns=['SYM', 'SYM.1']) \n",
    "shuswap_annual = shuswap_annual.drop(columns=['SYM'])"
   ]
  },
  {
   "attachments": {},
   "cell_type": "markdown",
   "metadata": {},
   "source": [
    "Now that our dataset has been *cleaned*, let's find the highest and lowest extremities within our dataset, that being the year, month, and day of when the highest/lowest water-level was recorded."
   ]
  },
  {
   "cell_type": "code",
   "execution_count": null,
   "metadata": {},
   "outputs": [],
   "source": [
    "max_level = extreme_data.query('MAX == MAX.max()')\n",
    "min_level = extreme_data.query('MIN == MIN.min()')\n",
    "\n",
    "maxvals = max_level.to_numpy()\n",
    "minvals = min_level.to_numpy()\n",
    "\n",
    "\n",
    "print(f\"The highest water-level recorded was {maxvals[0][4]} (meters) in {maxvals[0][2]}-{maxvals[0][3].replace('--', '-')}\")\n",
    "print(f\"The lowest water-level recorded was {minvals[0][4]} (meters) in {minvals[0][2]}-{minvals[0][5].replace('--', '-')}\")"
   ]
  },
  {
   "attachments": {},
   "cell_type": "markdown",
   "metadata": {},
   "source": [
    "Surprisingly, both the highest and lowest water-levels recorded was in late 1900s. The highest water-level recorded was on May 14th while the lowest water-level recorded was on February 27th. \n",
    "\n",
    "Can you think of any particular reasons why water-levels would be high during the month of May, and vice-versa, can you think of any reason why water-levels would be low during the month of February?"
   ]
  },
  {
   "attachments": {},
   "cell_type": "markdown",
   "metadata": {},
   "source": [
    "Now that we have the year, month, and date of the highest and lowest water-levels recorded, let's visualize the highest and lowest water-level years alongside the extremities from 1951-2021 and see if any trends are apparent."
   ]
  },
  {
   "attachments": {},
   "cell_type": "markdown",
   "metadata": {},
   "source": [
    "We also should define a function in order to convert our values we obtain in our dataset from integers (1-366) to actual dates. \n",
    "\n",
    "To clarify, a function is like a *specialized tool* that takes certain inputs and performs a specific task, producing a desired output or result. In this case, we're inputting our **dates** from 0-366 into the function, and it outputs an **actual date** that corresponds to that integer. "
   ]
  },
  {
   "cell_type": "code",
   "execution_count": null,
   "metadata": {},
   "outputs": [],
   "source": [
    "def convert_to_date(day_number):\n",
    "    if day_number < 1 or day_number > 366:\n",
    "        return \"Invalid day number. Please enter a number between 1 and 366.\"\n",
    "\n",
    "    days_in_month = [31, 28, 31, 30, 31, 30, 31, 31, 30, 31, 30, 31]\n",
    "    month_names = [\"January\", \"February\", \"March\", \"April\", \"May\", \"June\",\n",
    "                   \"July\", \"August\", \"September\", \"October\", \"November\", \"December\"]\n",
    "\n",
    "    if day_number == 366:\n",
    "        return \"December 31\"\n",
    "\n",
    "    date = None\n",
    "    month_index = 0\n",
    "\n",
    "    for days_in_current_month in days_in_month:\n",
    "        if day_number <= days_in_current_month:\n",
    "            date = day_number\n",
    "            break\n",
    "        else:\n",
    "            day_number -= days_in_current_month\n",
    "            month_index += 1\n",
    "\n",
    "    if date is not None:\n",
    "        return f\"{month_names[month_index]} {date}\"\n",
    "    else:\n",
    "        return \"Error: Could not determine the date.\"\n",
    "\n",
    "day_number = 365\n",
    "result = convert_to_date(day_number)\n",
    "print(f\"Day number {day_number} is {result}.\")"
   ]
  },
  {
   "cell_type": "code",
   "execution_count": null,
   "metadata": {},
   "outputs": [],
   "source": [
    "pd.options.mode.chained_assignment = None  \n",
    "\n",
    "max_year = shuswap_annual.query(f'YEAR == {maxvals[0][2]}')\n",
    "min_year = shuswap_annual.query(f'YEAR == {minvals[0][2]}')\n",
    "\n",
    "# Create new column Date for our DD column and apply our function defined above\n",
    "max_year['Date'] = max_year['DD'].apply(convert_to_date)\n",
    "min_year['Date'] = min_year['DD'].apply(convert_to_date)\n",
    "\n",
    "queried_fig = make_subplots(rows=1, cols=2, shared_yaxes=True, subplot_titles=(\"Highest Water Level Year (1972)\", \"Lowest Water Level Year (1980)\"), x_title=\"Days\", y_title=\"Water Level (m)\")\n",
    "\n",
    "queried_fig.add_trace(\n",
    "    go.Scatter(x=max_year['Date'], y=max_year['Value']),\n",
    "    row=1, col=1\n",
    ")\n",
    "\n",
    "queried_fig.add_trace(\n",
    "    go.Scatter(x=min_year['Date'], y=min_year['Value']),\n",
    "    row=1, col=2\n",
    ")\n",
    "\n",
    "queried_fig.update_layout(showlegend=False)\n",
    "queried_fig.show()"
   ]
  },
  {
   "attachments": {},
   "cell_type": "markdown",
   "metadata": {},
   "source": [
    "Looking at both plots, while it is clear that the highest and lowest extremities contain their respective maximums and minimums, it's also interesting to note that in the year of the lowest water-level, general trends of lower levels of water are apparent. \n",
    "\n",
    "Comparing maximums between the lowest and highest water-level years, the gap is significant and distinctly apparent. What do you think happened during the year of 1980 in Lake Shuswap which could have potentially caused these low water-levels?"
   ]
  },
  {
   "cell_type": "code",
   "execution_count": null,
   "metadata": {},
   "outputs": [],
   "source": [
    "max_data = extreme_data.dropna(subset=['MAX'])\n",
    "min_data = extreme_data.dropna(subset=['MIN'])\n",
    "\n",
    "max_min_fig = make_subplots(rows=1, cols=2, shared_yaxes=True, subplot_titles=(\"Highest Water Levels\", \"Lowest Water Levels\"), x_title=\"Year\", y_title=\"Water Level (m)\")\n",
    "\n",
    "max_min_fig.add_trace(\n",
    "    go.Scatter(x=max_data['Year'], y=max_data['MAX']),\n",
    "    row=1, col=1\n",
    ")\n",
    "\n",
    "max_min_fig.add_trace(\n",
    "    go.Scatter(x=min_data['Year'], y=min_data['MIN']),\n",
    "    row=1, col=2\n",
    ")\n",
    "max_min_fig.update_layout(showlegend=False)\n",
    "max_min_fig.show()"
   ]
  },
  {
   "attachments": {},
   "cell_type": "markdown",
   "metadata": {},
   "source": [
    "Surprisingly, despite the global sea-level rise of approximately 21-24 centimeters since the past 150 years, it appears that Lake Shuswap's minimum and maximum extremities haven't changed much despite the 70 year gap.  "
   ]
  },
  {
   "attachments": {},
   "cell_type": "markdown",
   "metadata": {},
   "source": [
    "To take a deeper look, let's compare the overall water-levels of years and see if we can compare any apparent differences."
   ]
  },
  {
   "cell_type": "code",
   "execution_count": null,
   "metadata": {},
   "outputs": [],
   "source": [
    "# Obtain 1/3rds of dates\n",
    "half_way1 = shuswap_annual.query('YEAR <= 1974')\n",
    "half_way2 = shuswap_annual.query('`YEAR` >= 1975 and `YEAR` <= 1997')\n",
    "half_way3 = shuswap_annual.query('`YEAR` >= 1998 and `YEAR` <= 2021')\n",
    "# Convert DD to Date\n",
    "half_way2['Date'] = half_way2['DD'].apply(convert_to_date)\n",
    "half_way3['Date'] = half_way3['DD'].apply(convert_to_date)"
   ]
  },
  {
   "attachments": {},
   "cell_type": "markdown",
   "metadata": {},
   "source": [
    "Note: For figure `Shuswap Lake Water-Levels from 1951 to 1974` the dates are posted from 1-365 where 1 is **January 1st**, and 365 is **December 31st**."
   ]
  },
  {
   "cell_type": "code",
   "execution_count": null,
   "metadata": {},
   "outputs": [],
   "source": [
    "half_way_fig1 = px.scatter(half_way1, x='DD', y='Value', color='YEAR', labels={'Value': 'Water Level (m)'}, title=\"Shuswap Lake Water-Levels from 1951 to 1974\").show()\n",
    "half_way_fig2 = px.scatter(half_way2, x='Date', y='Value', color='YEAR', labels={'Value': 'Water Level (m)'}, title=\"Shuswap Lake Water-Levels from 1975 to 1997\").show()\n",
    "half_way_fig3 = px.scatter(half_way3, x='Date', y='Value', color='YEAR', labels={'Value': 'Water Level (m)'}, title=\"Shuswap Lake Water-Levels from 1998 to 2021\").show()"
   ]
  },
  {
   "attachments": {},
   "cell_type": "markdown",
   "metadata": {},
   "source": [
    "From looking at all years, it appears that there still aren't any major differences that can lead to the conclusion to say Lake Shuswap water-levels are increasing or decreasing. \n",
    "\n",
    "This may come as surprising as global media has highlighted the dangers of the constantly rising sea-level but sometimes changes in local areas may not reflect changes seen in a global scale. This isn't to discredit the increases in sea-level as fictitious but conditions surrounding a particular area may make it less susceptible to change compared to other bodies of water."
   ]
  },
  {
   "attachments": {},
   "cell_type": "markdown",
   "metadata": {},
   "source": [
    "### Map of Stations"
   ]
  },
  {
   "attachments": {},
   "cell_type": "markdown",
   "metadata": {},
   "source": [
    "We can also compare water stations throughout Canada using real-time hydrometric data provided by the [Government of Canada](https://wateroffice.ec.gc.ca/map/index_e.html). \n",
    "\n",
    "sing the map provided below, find a particular water station you're interested in and take note of the **station number**"
   ]
  },
  {
   "cell_type": "code",
   "execution_count": null,
   "metadata": {},
   "outputs": [],
   "source": [
    "df = pd.read_csv('https://wateroffice.ec.gc.ca/map/download_e.html?type=real_time&filters=%7B%22station_id%22%3A%22%22%2C%22station_name%22%3A%22%22%2C%22province%22%3A%22all%22%2C%22region%22%3A%22CAN%22%2C%22basin%22%3A%22all%22%2C%22parameter%22%3A%22all%22%2C%22operation_schedule%22%3A%22all%22%2C%22operating_agency%22%3A%22all%22%7D')\n",
    "latitude = df['Latitude'].mean()\n",
    "longitude = df['Longitude'].mean()\n",
    "station_map = folium.Map(location=[latitude,longitude], zoom_start=3)\n",
    "marker_cluster = MarkerCluster()\n",
    "for row in df.iterrows():\n",
    "    marker_cluster.add_child(folium.Marker(location=[row[1]['Latitude'],row[1]['Longitude']], popup=[row[1]['Station Name'], row[1]['Station ID']]))\n",
    "station_map.add_child(marker_cluster)\n",
    "station_map"
   ]
  },
  {
   "attachments": {},
   "cell_type": "markdown",
   "metadata": {},
   "source": [
    "In the cell below, change the variable station_map_num1 and station_map_num2 to the numbers of the water stations you want to explore."
   ]
  },
  {
   "cell_type": "code",
   "execution_count": null,
   "metadata": {},
   "outputs": [],
   "source": [
    "station_map_num1 = '07ED001'\n",
    "station_map_num2 = '05BH004'\n",
    "\n",
    "\n",
    "row1 = df[df['Station ID']==station_map_num1]['Province'].index[0]\n",
    "row2 = df[df['Station ID']==station_map_num2]['Province'].index[0]\n",
    "\n",
    "province1 = df['Province'].loc[row1]\n",
    "province2 = df['Province'].loc[row2]\n",
    "name1 = df['Station Name'].loc[row1]\n",
    "name2 = df['Station Name'].loc[row2]\n",
    "\n",
    "otherwater_data1 = pd.read_csv(f'https://dd.weather.gc.ca/hydrometric/csv/{province1}/daily/{province1}_{station_map_num1}_daily_hydrometric.csv')\n",
    "otherwater_data2 = pd.read_csv(f'https://dd.weather.gc.ca/hydrometric/csv/{province2}/daily/{province2}_{station_map_num2}_daily_hydrometric.csv')\n",
    "compare_fig = make_subplots(rows=1, cols=2, subplot_titles=(name1, name2), x_title=\"Date\", y_title=\"Water Level (m)\")\n",
    "compare_fig.add_trace(\n",
    "    go.Scatter(x=otherwater_data1['Date'], y=otherwater_data1[\"Water Level / Niveau d'eau (m)\"]),\n",
    "    row=1, col=1\n",
    ")\n",
    "compare_fig.add_trace(\n",
    "    go.Scatter(x=otherwater_data2['Date'], y=otherwater_data2[\"Water Level / Niveau d'eau (m)\"]),\n",
    "    row=1, col=2\n",
    ")\n",
    "compare_fig.update_layout(showlegend=False)\n",
    "compare_fig.show()"
   ]
  },
  {
   "attachments": {},
   "cell_type": "markdown",
   "metadata": {},
   "source": [
    "### Questions:\n",
    "\n",
    "1. How do the plots of water levels between the two bodies of water differ? Similarly, how are the bodies of water similar? Are there any noticeable patterns or trends that stand out?\n",
    "2. What factors might contribute to the differences in water level plots between the two bodies of water? Consider geographical, environmental, or human-related factors.\n",
    "3. Reflect on the limitations and uncertainties in comparing water level plots between two bodies of water. What factors might introduce biases or errors in the comparison, and how can we account for these limitations?"
   ]
  },
  {
   "attachments": {},
   "cell_type": "markdown",
   "metadata": {},
   "source": [
    "### Predictions on Water-Levels: Machine Learning"
   ]
  },
  {
   "attachments": {},
   "cell_type": "markdown",
   "metadata": {},
   "source": [
    "Now that we've done analysis on the extremities within Lake Shuswap, let's see if we can *predict* what future water levels could potentially look like."
   ]
  },
  {
   "attachments": {},
   "cell_type": "markdown",
   "metadata": {},
   "source": [
    "To predict future water levels, we utilize what is known as **machine learning**. Machine learning is an interesting field where it focuses on teaching computers how to learn and make decisions without being explicitly programmed. It's like training a computer to think and make *predictions*, just like humans do.\n",
    "\n",
    "[![ML video](https://img.youtube.com/vi/f_uwKZIAeM0/0.jpg)](https://www.youtube.com/watch?v=f_uwKZIAeM0)\n",
    "\n"
   ]
  },
  {
   "attachments": {},
   "cell_type": "markdown",
   "metadata": {},
   "source": [
    "Let's obtain data from the year **2021** from the `YEAR` column. By doing so, we have access to all 365 days within the year, so we can give a variety of accurate data points for our model. "
   ]
  },
  {
   "cell_type": "code",
   "execution_count": null,
   "metadata": {},
   "outputs": [],
   "source": [
    "sect_shuswap_annual = shuswap_annual.query('YEAR == 2021')\n",
    "display(sect_shuswap_annual)"
   ]
  },
  {
   "attachments": {},
   "cell_type": "markdown",
   "metadata": {},
   "source": [
    "Having many data points in machine learning is like having a lot of examples to learn from. Imagine you're trying to learn how to identify different types of fruits. \n",
    "\n",
    "If you only have a *few* fruits to practice with, like an apple and a banana, it might be challenging to recognize other fruits like oranges or strawberries. But if you have a big basket filled with many different fruits, you can learn to recognize a *wider* variety. Furthermore, if you supply the basket with apples that are slightly different from one another, you could become more familiar with *distinguishing* what makes a fruit an apple or not due to knowing these slight differences."
   ]
  },
  {
   "attachments": {},
   "cell_type": "markdown",
   "metadata": {},
   "source": [
    "Now that we have the data points that we want to train our model on, let's see what visualization the model outputs. "
   ]
  },
  {
   "cell_type": "code",
   "execution_count": null,
   "metadata": {},
   "outputs": [],
   "source": [
    "X_data = sect_shuswap_annual['DD'].to_numpy()\n",
    "y_data = sect_shuswap_annual[\"Value\"].to_numpy()\n",
    "\n",
    "X_train, X_test, y_train, y_test = train_test_split(X_data, y_data, test_size=0.20)\n",
    "mymodel = np.poly1d(np.polyfit(X_train, y_train, 8))\n",
    "myline = np.linspace(min(X_train), max(X_train), 100)\n",
    "\n",
    "plt.scatter(X_train, y_train)\n",
    "plt.plot(myline, mymodel(myline))\n",
    "plt.xlabel(\"Date\")\n",
    "plt.ylabel(\"Water Level (m)\")\n",
    "plt.show()"
   ]
  },
  {
   "attachments": {},
   "cell_type": "markdown",
   "metadata": {},
   "source": [
    "Looking above, it appears that the curve that estimates where certain points would be on alongside the x or `Date` axis is estimating the data points fairly well. While certain points of the curve may be slightly off, this actually indicates that our model isn't performing overly too well as this would be considered **overfitting**. \n",
    "\n",
    "In machine learning, overfitting happens when a model gets too focused on the specific details of the training data, and it fails to generalize well to new, unseen data. In other words, the model becomes too *specialized* in the training data and doesn't understand the broader patterns and concepts that are necessary for making accurate predictions."
   ]
  },
  {
   "cell_type": "code",
   "execution_count": null,
   "metadata": {},
   "outputs": [],
   "source": [
    "from sklearn.metrics import r2_score\n",
    "\n",
    "error = r2_score(y_test, mymodel(X_test))\n",
    "print(f\"The R-Squared Error for this Model is {error}\")"
   ]
  },
  {
   "attachments": {},
   "cell_type": "markdown",
   "metadata": {},
   "source": [
    "Looking above, **R-Squared Error** is a term which essentially evaluates how well the model represented the data and how well our curve fit the data points we supplied it. A score of 0 means our curve didn't fit the data at all, while a score of 1 means that the curve perfectly fit every data point onto our curve. Generally, a score of 0.90 or 90% and above indicates a *very good* fit of the model to our data."
   ]
  },
  {
   "attachments": {},
   "cell_type": "markdown",
   "metadata": {},
   "source": [
    "Now, let's input some potential predicted values based on our model. In the code cell below, alter the value of `prediction` which is currently set to **1** and see what the model predicts."
   ]
  },
  {
   "cell_type": "code",
   "execution_count": null,
   "metadata": {},
   "outputs": [],
   "source": [
    "# Input a prediction from 1-365\n",
    "# For example, instead of setting prediction = 1, you could input prediction = 155\n",
    "prediction = 1 \n",
    "print(f\"The predicted value for a date of {prediction} is {mymodel(prediction)}\")"
   ]
  },
  {
   "attachments": {},
   "cell_type": "markdown",
   "metadata": {},
   "source": [
    "Using our new model, let's obtain all 365 days of a year and output a figure of what our model would predict certain water levels would be based on the training data we gave it. \n",
    "\n",
    "Let's also define another conversion function for our integer dates in order to visualize the plot clearly."
   ]
  },
  {
   "cell_type": "code",
   "execution_count": null,
   "metadata": {},
   "outputs": [],
   "source": [
    "def convert_list_to_dates(day_numbers):\n",
    "    if any(day_number < 1 or day_number > 366 for day_number in day_numbers):\n",
    "        return \"Invalid day number. Please enter numbers between 1 and 366.\"\n",
    "\n",
    "    days_in_month = [31, 28, 31, 30, 31, 30, 31, 31, 30, 31, 30, 31]\n",
    "    month_names = [\"January\", \"February\", \"March\", \"April\", \"May\", \"June\",\n",
    "                   \"July\", \"August\", \"September\", \"October\", \"November\", \"December\"]\n",
    "\n",
    "    dates = []\n",
    "\n",
    "    for day_number in day_numbers:\n",
    "        date = None\n",
    "        month_index = 0\n",
    "\n",
    "        for days_in_current_month in days_in_month:\n",
    "            if day_number <= days_in_current_month:\n",
    "                date = day_number\n",
    "                break\n",
    "            else:\n",
    "                day_number -= days_in_current_month\n",
    "                month_index += 1\n",
    "\n",
    "        if date is not None:\n",
    "            dates.append(f\"{month_names[month_index]} {date}\")\n",
    "        else:\n",
    "            dates.append(\"Error: Could not determine the date.\")\n",
    "\n",
    "    return dates"
   ]
  },
  {
   "cell_type": "code",
   "execution_count": null,
   "metadata": {},
   "outputs": [],
   "source": [
    "predicted_values = []\n",
    "predicted_dates = []\n",
    "for i in range(1, 366):\n",
    "    predicted_values.append(mymodel(i))\n",
    "    predicted_dates.append(i)\n",
    "    \n",
    "# Convert our integer dates to real dates defined from our function above\n",
    "predicted_dates_converted = convert_list_to_dates(predicted_dates)\n",
    "X_data_converted = convert_list_to_dates(X_data)\n",
    "\n",
    "fig = make_subplots(rows=1, cols=2, shared_xaxes=True, subplot_titles=(\"Actual Water Levels\", \"Predicted Water Levels\"), x_title=\"Date\", y_title=\"Water Level (m)\")\n",
    "\n",
    "fig.add_trace(\n",
    "    go.Scatter(x=X_data_converted, y=y_data),\n",
    "    row=1, col=1\n",
    ")\n",
    "\n",
    "fig.add_trace(\n",
    "    go.Scatter(x=predicted_dates_converted, y=predicted_values),\n",
    "    row=1, col=2\n",
    ")\n",
    "fig.update_layout(showlegend=False)\n",
    "fig.show()"
   ]
  },
  {
   "attachments": {},
   "cell_type": "markdown",
   "metadata": {},
   "source": [
    "### Questions:\n",
    "\n",
    "1. What are the potential benefits of using machine learning to analyze historical water level data of a lake? How could this information be valuable for managing water resources or planning activities around the lake?\n",
    "2. How could understanding the patterns and trends in lake water levels through machine learning help in mitigating natural disasters on surrounding ecosystem and communities?\n",
    "3. How could machine learning models that predict lake water levels be integrated into existing monitoring systems or early warning systems? What are the potential advantages and challenges of such integration?"
   ]
  },
  {
   "attachments": {},
   "cell_type": "markdown",
   "metadata": {},
   "source": [
    "# Conclusion\n",
    "\n",
    "The Canadian Government provides information in regard to large bodies of water, known as [hydrometric data](https://wateroffice.ec.gc.ca/mainmenu/real_time_data_index_e.html). In this notebook, we imported this data and identified potential trends apparent in water level data alongside predictions of future water levels through machine learning.\n",
    "\n",
    "Perhaps you can try extension activities such as utilizing machine learning to different fields of science, such as predicting a classmate's height, or seeing what a house would be priced at based on the size of the house."
   ]
  },
  {
   "attachments": {},
   "cell_type": "markdown",
   "metadata": {},
   "source": [
    "[![Callysto.ca License](https://github.com/callysto/curriculum-notebooks/blob/master/callysto-notebook-banner-bottom.jpg?raw=true)](https://github.com/callysto/curriculum-notebooks/blob/master/LICENSE.md)"
   ]
  }
 ],
 "metadata": {
  "kernelspec": {
   "display_name": "Python 3 (ipykernel)",
   "language": "python",
   "name": "python3"
  },
  "language_info": {
   "codemirror_mode": {
    "name": "ipython",
    "version": 3
   },
   "file_extension": ".py",
   "mimetype": "text/x-python",
   "name": "python",
   "nbconvert_exporter": "python",
   "pygments_lexer": "ipython3",
   "version": "3.10.6"
  }
 },
 "nbformat": 4,
 "nbformat_minor": 4
}
