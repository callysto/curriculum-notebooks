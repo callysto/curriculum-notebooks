{
 "cells": [
  {
   "cell_type": "markdown",
   "metadata": {},
   "source": [
    "![Callysto.ca Banner](https://github.com/callysto/curriculum-notebooks/blob/master/callysto-notebook-banner-top.jpg?raw=true)\n",
    "\n",
    "<a href=\"https://hub.callysto.ca/jupyter/hub/user-redirect/git-pull?repo=https%3A%2F%2Fgithub.com%2Fcallysto%2Fcurriculum-notebooks&branch=master&subPath=Science/BioinformaticsofGMOs/GMOs-in-space.ipynb&depth=1\" target=\"_parent\"><img src=\"https://raw.githubusercontent.com/callysto/curriculum-notebooks/master/open-in-callysto-button.svg?sanitize=true\" width=\"123\" height=\"24\" alt=\"Open in Callysto\"/></a>"
   ]
  },
  {
   "cell_type": "markdown",
   "metadata": {},
   "source": [
    "# 🚀 Spacer's Challenge : Using Data and Biology to Decide What We Should Grow On Mars\n",
    "\n",
    "\n",
    "## 📌 Mission Statement\n",
    "\n",
    "You are a top scientist sent from Earth tasked with the most important mission of all: ensuring our survival on other planets. Before sending you off to space, your team gave you a variety of crop seeds, however there's a problem! The bag containing the crop seeds split open and spilled everywhere during your space travel! You picked up the ones you could find, but you now have no idea what it grows or what is special about them.\n",
    "\n",
    "Now on Mars, it is your job to [decide which crops to grow](https://www.sciencealert.com/growing-potatoes-on-mars-might-actually-work-hints-a-new-experiment). Consider crops that are tolerant to extreme conditions like those they would experience on Mars. We will be using some basic bioinformatics concepts to try and find this out. To help you with this, you will work with a special robot-helper who will help write code for you, named ***Crop-3PO***.\n",
    "![](http://biowyse.eu/wp-content/uploads/2016/05/agrospace_01.jpg)"
   ]
  },
  {
   "cell_type": "markdown",
   "metadata": {},
   "source": [
    "\n",
    "**🤖 Crop-3PO:** Welcome! The people of Mars are counting on you! In order to use the special command, we need to import a special library by typing `import pandas`. We'll also need a few other libraries. \n",
    "\n",
    "**🤖 Crop-3PO:** I wrote it down in the code cell below, however because I'm just a robot I can't execute the code! I'll need your help to do that. The easiest way to do this is by clicking `cell -> Run All`. If you don't see anything or think something's broken, you can click `Run`in the toolbar above while you have the code cell selected.\n"
   ]
  },
  {
   "cell_type": "code",
   "execution_count": null,
   "metadata": {},
   "outputs": [],
   "source": [
    "# ❗️ Run this cell!\n",
    "# import libraries\n",
    "import pandas as pd\n",
    "import plotly.express as px\n",
    "import plotly.graph_objects as go\n",
    "from Bio import SeqIO"
   ]
  },
  {
   "cell_type": "markdown",
   "metadata": {},
   "source": [
    "### 📌 Data Sources\n",
    "\n",
    "Data in this learning module has been obtained from the following sources:\n",
    "1. Approval data [research article](https://doi.org/10.1080/21645698.2015.1056972).\n",
    "2. Crop data [research article](https://doi.org/10.1038/s41598-019-51668-x).\n",
    "3. Trait data from the International Service for the Acquisition of [Agri-Biotech Applications Genetically Modified Approval Database](https://www.isaaa.org/gmapprovaldatabase/geneslist/default.asp)."
   ]
  },
  {
   "cell_type": "code",
   "execution_count": null,
   "metadata": {},
   "outputs": [],
   "source": [
    "# ❗️ Run this cell!\n",
    "# import data\n",
    "approvaldata = pd.read_csv(\"https://raw.githubusercontent.com/callysto/data-files/main/Science/BioinformaticsofGMOs/data/foodapprovals.csv\")\n",
    "cropdata = pd.read_csv(\"https://raw.githubusercontent.com/callysto/data-files/main/Science/BioinformaticsofGMOs/data/cropdatafromearth.csv\")\n",
    "traitdata = pd.read_csv(\"https://raw.githubusercontent.com/callysto/data-files/main/Science/BioinformaticsofGMOs/data/isaaa_croptraits.csv\")\n",
    "print(\"Data imported\")"
   ]
  },
  {
   "cell_type": "markdown",
   "metadata": {},
   "source": [
    "## 🌽 Before we get started, what even is a GMO? \n",
    "\n",
    "*According to [gmotesting.com](http://www.gmotesting.com/GMOs/What-is-a-GMO):*\n",
    "\n",
    "> **GMO** is an acronym for **g**enetically **m**odified **o**rganism and is commonly used to refer to genetically altered crops that are grown in many areas around the globe.  Genetic engineering provides the ability to confer desired traits on plants such as herbicide tolerance and/or virus or insect resistance.  \n",
    "\n",
    "> The process of genetic modification involves splicing, or cutting, genes from one organism, such as a bacterium, virus, or animal, and inserting them into a recipient organism, such as a plant, so that the recipient is now able to express new traits provided by the donor genes.  The genetic material (commonly called a transgene) is inserted into the nucleus of a plant cell where it integrates into the plant DNA.  If integration of the DNA is successful, the plant cell, now described as a transgenic cell, divides and grows into a genetically modified (or transgenic) plant.  The genetic modification is permanent and will be passed on to the seeds of the transgenic (GMO) plant."
   ]
  },
  {
   "cell_type": "markdown",
   "metadata": {},
   "source": [
    "### **🤖 Crop-3PO:** GMOs have grown in popularity internationally over the last 30 years as our scientific methods become more reliable. Take a look at this chart that shows which countries have approved GMO crops for cultivation. "
   ]
  },
  {
   "cell_type": "code",
   "execution_count": null,
   "metadata": {},
   "outputs": [],
   "source": [
    "# ❗️ Run this cell!\n",
    "# Display a histogram of the number of approved GMOs by country\n",
    "fig = px.bar(approvaldata, x=\"Country\", y = 'Total', title=\"Number of Approved GMO Crops for Cultivation between 1992-2014\")\n",
    "fig.update_yaxes(range=[0, 400])\n",
    "fig.show()"
   ]
  },
  {
   "cell_type": "markdown",
   "metadata": {},
   "source": [
    "### 📚 Look at the trends of approved GMOs by countries over the last three decades. What differences do you see? Hover over the graph to see more details.\n",
    "\n",
    "Fill in the boxes marked with ✏️ by double clicking on it and filling in your answer. Remember to save your answers by clicking `File > Save and Checkpoint`!"
   ]
  },
  {
   "cell_type": "markdown",
   "metadata": {},
   "source": [
    "✏️\n",
    "\n",
    "✏️\n",
    "\n",
    "✏️"
   ]
  },
  {
   "cell_type": "markdown",
   "metadata": {},
   "source": [
    "### 📚 List some reasons why there might be differences in approved GMOs by countries.\n",
    "\n",
    "Fill in the boxes marked with ✏️ by double clicking on it and filling in your answer. Remember to save your answers by clicking `File > Save and Checkpoint`!"
   ]
  },
  {
   "cell_type": "markdown",
   "metadata": {},
   "source": [
    "✏️\n",
    "\n",
    "✏️\n",
    "\n",
    "✏️"
   ]
  },
  {
   "cell_type": "markdown",
   "metadata": {},
   "source": [
    "## 🌽 How are GMOs made?\n",
    "\n",
    "![](https://i1.wp.com/sitn.hms.harvard.edu/wp-content/uploads/2015/08/Untitled2.png?w=900)\n",
    "Image from: http://sitn.hms.harvard.edu/flash/2015/how-to-make-a-gmo/"
   ]
  },
  {
   "cell_type": "markdown",
   "metadata": {},
   "source": [
    "## 🌽  What are plant traits? How are traits selected for?\n",
    "\n",
    "Plant traits are desirable **phenotypes** (observable expression of a gene, it's functional use), and can be almost anything as long as they are useful. Century after century, farmers and botanists have selected plants that have desirable traits (sweet taste, size, etc) and cross bred them over time to produce more of that crop. With the use of modern technology however, we have successfully determined various genes that result in different plant traits. Some traits are not just the addition or enhancement of something, but can also be a suppression (for instead, delayed ripening). Instead of breeding over many generations, we can directly insert the gene to create a genetically engineered (GE) or modified plant, and have more direct and reliable results.\n",
    "\n",
    "To learn more about the science of how this is actually done, read here: https://www.nationalgeographic.com/environment/future-of-food/food-technology-gene-editing/"
   ]
  },
  {
   "cell_type": "code",
   "execution_count": null,
   "metadata": {
    "scrolled": false
   },
   "outputs": [],
   "source": [
    "# ❗️ Run this cell!\n",
    "# Display a histogram breaking down the GMO varieties in most popular crops\n",
    "fig = px.histogram(cropdata, x=\"Crop\", color=\"Variety\", title = \"Popular Plant Traits in Common GMO Crops\",\n",
    "                   labels={\"Variety\":\"Plant Traits\",\"Crop\":\"GMO Crop Types\"})\n",
    "fig.show()"
   ]
  },
  {
   "cell_type": "markdown",
   "metadata": {},
   "source": [
    "### 📚 Look at the number (count) of popular plant traits in common GMO crops. What differences in plant traits between GMO crops do you see? Hover over the graph to see more details. \n",
    "\n",
    "Note that GE is an acronym for genetically engineered.\n",
    "\n",
    "Fill in the boxes marked with ✏️ by double clicking on it and filling in your answer. Remember to save your answers by clicking `File > Save and Checkpoint`!"
   ]
  },
  {
   "cell_type": "markdown",
   "metadata": {},
   "source": [
    "✏️\n",
    "\n",
    "✏️\n",
    "\n",
    "✏️"
   ]
  },
  {
   "cell_type": "markdown",
   "metadata": {},
   "source": [
    "### 📚 List some reasons why there might be differences in popular plant traits between GMO crop types.\n",
    "\n",
    "Fill in the boxes marked with ✏️ by double clicking on it and filling in your answer. Remember to save your answers by clicking `File > Save and Checkpoint`!"
   ]
  },
  {
   "cell_type": "markdown",
   "metadata": {},
   "source": [
    "✏️\n",
    "\n",
    "✏️\n",
    "\n",
    "✏️"
   ]
  },
  {
   "cell_type": "markdown",
   "metadata": {},
   "source": [
    "## 🌽 How are plant genes and proteins related to traits? \n",
    "\n",
    "\n",
    "Genes are actually only one part of the story. The way a gene becomes useful is by being translated into a protein in the cell. This protein then goes on to have different functions based on it's physical properties. \n",
    "\n",
    "*From [The University of Kentucky's College of Agriculture:](https://entomology.ca.uky.edu/ef130)* \n",
    "> To transform a plant into a GMO plant, the gene that produces a genetic trait of interest is identified and separated from the rest of the genetic material from a donor organism. Most organisms have thousands of genes, a single gene represents only a tiny fraction of the total genetic makeup of an organism. \n",
    "\n",
    ">A donor organism may be a bacterium, fungus or even another plant. In the case of Bt corn, the donor organism is a naturally occurring soil bacterium, Bacillus thuringiensis, and the gene of interest produces a protein that kills Lepidoptera larvae, in particular, European corn borer. This protein is called the Bt delta endotoxin. Growers use Bt corn as an alternative to spraying insecticides for control of European and southwestern corn borer. "
   ]
  },
  {
   "cell_type": "code",
   "execution_count": null,
   "metadata": {
    "scrolled": false
   },
   "outputs": [],
   "source": [
    "# ❗️ Run this cell!\n",
    "# histogram of different genes associated with traits\n",
    "fig = px.histogram(traitdata, x=\"Trait\", title=\"Number of genes associated with traits\", \n",
    "                   labels={'Trait':'Phenotypic Trait'}).update_xaxes(categoryorder=\"total descending\")\n",
    "fig.show()"
   ]
  },
  {
   "cell_type": "markdown",
   "metadata": {},
   "source": [
    "### 📚 Look at the distribution of traits in the above graph. Which 3 traits are the most popular and why do you think that is?\n",
    "\n",
    "Fill in the boxes marked with ✏️ by double clicking on it and filling in your answer. Remember to save your answers by clicking `File > Save and Checkpoint`!"
   ]
  },
  {
   "cell_type": "markdown",
   "metadata": {},
   "source": [
    "✏️\n",
    "\n",
    "✏️\n",
    "\n",
    "✏️"
   ]
  },
  {
   "cell_type": "markdown",
   "metadata": {},
   "source": [
    "### **🤖 Crop-3PO:** As you can see below, there are MANY genes associated with traits! \n",
    "\n",
    "In this table, the columns are:\n",
    "- \"Trait\" - refers to the phenotypic trait that we are interested in.\n",
    "- \"Gene\" - refers to the name of the gene that codes for the phenotypic trait.\n",
    "- \"Source\" - refers to original source organism where this \"Gene\" comes from.\n",
    "- \"Product\" - refers to the protein that is translated from the \"Gene\". \n",
    "- \"Function\" - refers to what the \"Product\" or protein of interest actually does when expressed. This ability is then conferred to the genetically modified or engineered plant that expresses it.\n",
    "\n",
    "The table is sorted alphabetically (with numbers first) by the \"Trait\" column."
   ]
  },
  {
   "cell_type": "code",
   "execution_count": null,
   "metadata": {},
   "outputs": [],
   "source": [
    "# ❗️ Run this cell!\n",
    "# View the ENTIRE data frame\n",
    "#pd.set_option('display.max_rows', None)\n",
    "traitdata"
   ]
  },
  {
   "cell_type": "markdown",
   "metadata": {},
   "source": [
    "### 📚 Look at the \"Trait\" column in the table above. Look for the row(s) with the \"Lepidopteran insect resistance\" entry AND the \"cry1Ab\" gene. What is the \"Function\" (last column) associated with this trait?\n",
    "\n",
    "Fill in the boxes marked with ✏️ by double clicking on it and filling in your answer. Remember to save your answers by clicking `File > Save and Checkpoint`!"
   ]
  },
  {
   "cell_type": "markdown",
   "metadata": {},
   "source": [
    "✏️"
   ]
  },
  {
   "cell_type": "markdown",
   "metadata": {},
   "source": [
    "### 📚 Locate another \"Trait\" that caught your attention. Write down what the \"Trait\" is and why you think it might be useful for plants to have on Mars.\n",
    "\n",
    "Fill in the boxes marked with ✏️ by double clicking on it and filling in your answer. Remember to save your answers by clicking `File > Save and Checkpoint`!"
   ]
  },
  {
   "cell_type": "markdown",
   "metadata": {},
   "source": [
    "✏️"
   ]
  },
  {
   "cell_type": "markdown",
   "metadata": {},
   "source": [
    "# 🧬 💻  Bioinformatics Hands-on portion"
   ]
  },
  {
   "cell_type": "markdown",
   "metadata": {},
   "source": [
    "Now that you understand a little more of what GMO's are, it's time to try and find out what our seeds are. Luckily, you have a sequencing machine that can tell you the DNA sequence of a seed. Crop-3PO also has a list of genes, but only knows a few of their DNA sequences. (Note that these sequences are made up, and that actual DNA sequences are much longer!)\n",
    "\n",
    "You sort your seeds out into 10 different groups based on phenotypic traits (e.g. colour, size, and hardness). Since you only a few seeds in each group you don't want to waste them, so you tell Crop-3PO to sequence only one from each group. You call these your samples."
   ]
  },
  {
   "cell_type": "markdown",
   "metadata": {},
   "source": [
    "### **🤖 Crop-3PO:** I know lots of genes and sequences! Here is an example of what the `cry1Ab` gene DNA sequence looks like:"
   ]
  },
  {
   "cell_type": "code",
   "execution_count": null,
   "metadata": {},
   "outputs": [],
   "source": [
    "# ❗️ Run this cell!\n",
    "# Here, we can see a gene sequence associated with cry1AB_1\n",
    "genes_dict = SeqIO.to_dict(SeqIO.parse(\"https://raw.githubusercontent.com/callysto/data-files/main/Science/BioinformaticsofGMOs/data/genes.fa\", \"fasta\"))\n",
    "print(genes_dict[\"cry1Ab_1\"].format(\"fasta\"))"
   ]
  },
  {
   "cell_type": "markdown",
   "metadata": {},
   "source": [
    "### **🤖 Crop-3PO:** Here are all the genes I know, some I only know part of the sequence for. If it looks similar, you can act like they are the same as the trait. For instance `tNOS` can be considered `nos` for our purposes."
   ]
  },
  {
   "cell_type": "code",
   "execution_count": null,
   "metadata": {},
   "outputs": [],
   "source": [
    "# ❗️ Run this cell!\n",
    "#Here is a list of all the genes we are working with\n",
    "print(\"Here is a list of genes Crop-3PO knows:\")\n",
    "for key in genes_dict.keys():\n",
    "    print(key) "
   ]
  },
  {
   "cell_type": "markdown",
   "metadata": {},
   "source": [
    "### **🤖 Crop-3PO:** Here is a list of all the samples I successfully sequenced!"
   ]
  },
  {
   "cell_type": "code",
   "execution_count": null,
   "metadata": {},
   "outputs": [],
   "source": [
    "# ❗️ Run this cell!\n",
    "# list of our total samples\n",
    "samples_dict = SeqIO.to_dict(SeqIO.parse(\"https://raw.githubusercontent.com/callysto/data-files/main/Science/BioinformaticsofGMOs/data/samples.fa\", \"fasta\"))\n",
    "print(\"Here is a list of samples Crop-3PO sequenced:\")\n",
    "for key in samples_dict.keys():\n",
    "    print(key)"
   ]
  },
  {
   "cell_type": "markdown",
   "metadata": {},
   "source": [
    "### **🤖 Crop-3PO:** Here's an example of what the sequence for `sample1` looks like."
   ]
  },
  {
   "cell_type": "code",
   "execution_count": null,
   "metadata": {
    "scrolled": true
   },
   "outputs": [],
   "source": [
    "# ❗️ Run this cell!\n",
    "# let's look at some of the information in our first sample\n",
    "print(samples_dict[\"sample1\"].format(\"fasta\"))"
   ]
  },
  {
   "cell_type": "markdown",
   "metadata": {},
   "source": [
    "### **🤖 Crop-3PO:** That's probably pretty difficult for a human to read. Luckily, as a machine I can very quickly match the sequences of our genes and tell you whether a sample is likely to have the gene or not. Let me try doing this, and you can see my output down below."
   ]
  },
  {
   "cell_type": "code",
   "execution_count": null,
   "metadata": {
    "scrolled": true
   },
   "outputs": [],
   "source": [
    "# ❗️ Run this cell!\n",
    "# now we're going to match the genes to each sample\n",
    "x=[]\n",
    "y=[]\n",
    "for sample in samples_dict: \n",
    "    x.append(samples_dict[sample].name)\n",
    "    y.append(samples_dict[sample].seq)\n",
    "    temp2 = []\n",
    "    for gene in genes_dict:\n",
    "        temp1 = []\n",
    "        if genes_dict[gene].seq in samples_dict[sample].seq: \n",
    "            temp1.append(genes_dict[gene].name)\n",
    "            temp2.append(temp1)\n",
    "    print(\"🔬\\033[1;36m\", samples_dict[sample].name, \"\\033[1;0m contains matches for the genes \\033[1;32m\", temp2, \"\\033[1;0m\")"
   ]
  },
  {
   "cell_type": "markdown",
   "metadata": {},
   "source": [
    "### **🤖 Crop-3PO:** Pretty cool trick huh? Now all that's left to do is try to figure out which ones are useful for us. You'll probably want to look at the genes in each sample and think about which traits they're associated with, and whether or not that is useful for us to have here on Mars. I've listed them down below."
   ]
  },
  {
   "cell_type": "code",
   "execution_count": null,
   "metadata": {},
   "outputs": [],
   "source": [
    "# ❗️ Run this cell!\n",
    "# trait data narrowed down to our genes\n",
    "traitdata.loc[traitdata['Gene'].isin(['cry1Ab','nos','cry1Ac','cry2Ab2','epsps (Ag)','prsv_cp','cel1','bar','pat'])]"
   ]
  },
  {
   "cell_type": "markdown",
   "metadata": {},
   "source": [
    "### 📚 Based on the information available to us, what traits does each sample have?\n",
    "\n",
    "Fill in the boxes marked with ✏️ by double clicking on it and filling in your answer. Remember to save your answers by clicking `File > Save and Checkpoint`!"
   ]
  },
  {
   "cell_type": "markdown",
   "metadata": {},
   "source": [
    "✏️ sample1:\n",
    "\n",
    "✏️ sample2:\n",
    "\n",
    "✏️ sample3:\n",
    "\n",
    "✏️ sample4:\n",
    "\n",
    "✏️ sample5:\n",
    "\n",
    "✏️ sample6:\n",
    "\n",
    "✏️ sample7:\n",
    "\n",
    "✏️ sample8:\n",
    "\n",
    "✏️ sample9:\n",
    "\n",
    "✏️ sample10:"
   ]
  },
  {
   "cell_type": "markdown",
   "metadata": {},
   "source": [
    "### 📚 Out of all of our `samples`, which ones do you think would be most suitable to grow on Mars? Explain your reasoning. Keep in mind, what might be beneficial on Earth might not make much of a difference on Mars!\n",
    "\n",
    "Fill in the boxes marked with ✏️ by double clicking on it and filling in your answer. Remember to save your answers by clicking `File > Save and Checkpoint`!"
   ]
  },
  {
   "cell_type": "markdown",
   "metadata": {},
   "source": [
    "✏️\n",
    "\n",
    "✏️\n",
    "\n",
    "✏️"
   ]
  },
  {
   "cell_type": "markdown",
   "metadata": {},
   "source": [
    "### 📚 Assuming the `samples` are of the same plant species (e.g. Corn), explain which two `sample` plants would you try to cross first to achieve a \"stacked\" trait plant that can thrive on Mars? \n",
    "\n",
    "### [Gene stacking](https://www.isaaa.org/resources/publications/pocketk/42/#:~:text=Gene%20stacking%20refers%20to%20the,process%20are%20called%20stacked%20traits.) refers to combining multiple genes in a single GMO plant to confer multiple traits.\n",
    "\n",
    "Fill in the boxes marked with ✏️ by double clicking on it and filling in your answer. Remember to save your answers by clicking `File > Save and Checkpoint`!"
   ]
  },
  {
   "cell_type": "markdown",
   "metadata": {},
   "source": [
    "✏️\n"
   ]
  },
  {
   "cell_type": "markdown",
   "metadata": {},
   "source": [
    "[![Callysto.ca License](https://github.com/callysto/curriculum-notebooks/blob/master/callysto-notebook-banner-bottom.jpg?raw=true)](https://github.com/callysto/curriculum-notebooks/blob/master/LICENSE.md)"
   ]
  }
 ],
 "metadata": {
  "interpreter": {
   "hash": "aee8b7b246df8f9039afb4144a1f6fd8d2ca17a180786b69acc140d282b71a49"
  },
  "kernelspec": {
   "display_name": "Python 3.10.4 64-bit",
   "language": "python",
   "name": "python3"
  },
  "language_info": {
   "codemirror_mode": {
    "name": "ipython",
    "version": 3
   },
   "file_extension": ".py",
   "mimetype": "text/x-python",
   "name": "python",
   "nbconvert_exporter": "python",
   "pygments_lexer": "ipython3",
   "version": "3.10.4"
  }
 },
 "nbformat": 4,
 "nbformat_minor": 4
}
