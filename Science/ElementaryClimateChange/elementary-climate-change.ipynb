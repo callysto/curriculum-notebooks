{
 "cells": [
  {
   "attachments": {},
   "cell_type": "markdown",
   "metadata": {},
   "source": [
    "![Callysto.ca Banner](https://github.com/callysto/curriculum-notebooks/blob/master/callysto-notebook-banner-top.jpg?raw=true)"
   ]
  },
  {
   "attachments": {},
   "cell_type": "markdown",
   "metadata": {},
   "source": [
    "# Elementary Climate Change\n",
    "\n",
    "Climate change is a frequently discussed topic. [This TED-Ed video](https://www.youtube.com/watch?v=NCPTbfQyMt8) talks about weather becoming more extreme because of climate change.\n",
    "\n",
    "We can look at the extent of climate change by examining data such as:\n",
    "\n",
    "* duration and thickness of sea ice\n",
    "* ocean levels\n",
    "* frequency of forest fires\n",
    "\n",
    "In this notebok we will explore data on each of these indicators. At the end you will be asked to reflect on some questions to determine what you have learned based on the data.\n",
    "\n",
    "We retrieved data from the NASA [Global Climate Change-Vital Signs of the Planet](https://climate.nasa.gov/) website. This website has many other interesting details on it including other visualizations, facts, and information on how to mitigate climate change. On this website you can read about why climate change is happening, learn more about what is causing climate change and discover the effects the world is already seeing from climate change. The website also provides a chance to read about those that are working to help the world cope with climate change and slow the process down. \n",
    "\n",
    "Run the code cell below to import the libraries we need for this project. Libraries are pre-made code that make it easier to analyze our data. \n",
    "\n",
    "Pandas is a library that helps us with data analysis, the Plotly libraries help us to make visualizations."
   ]
  },
  {
   "cell_type": "code",
   "execution_count": null,
   "metadata": {},
   "outputs": [],
   "source": [
    "import pandas as pd\n",
    "import plotly.express as px\n",
    "import plotly.graph_objects as go\n",
    "ice_sheets = pd.read_csv('https://raw.githubusercontent.com/callysto/data-files/main/Science/ElementaryClimateChange/icesheets.csv')\n",
    "ocean_warming = pd.read_csv('https://raw.githubusercontent.com/callysto/data-files/main/Science/ElementaryClimateChange/oceanwarm.csv')\n",
    "temperature = pd.read_csv('https://raw.githubusercontent.com/callysto/data-files/main/Science/ElementaryClimateChange/temperature.csv')\n",
    "fires = pd.read_csv('https://raw.githubusercontent.com/callysto/data-files/main/Science/ElementaryClimateChange/nfd-fires-by-cause.csv')\n",
    "print('Libraries and data loaded successfully.')"
   ]
  },
  {
   "attachments": {},
   "cell_type": "markdown",
   "metadata": {},
   "source": [
    "## Sea Ice\n",
    "\n",
    "Sea ice is frozen sea water that exists in the northern parts of the world because of extremly cold temperatures. Sea ice is frozen for most of the year. \n",
    "Run the code block below to build a data frame from the data on sea ice. A data frame is a way that the python programming language that we use stores data. A data frame is kind of like a spreadsheet that shows us our data. \n"
   ]
  },
  {
   "cell_type": "code",
   "execution_count": null,
   "metadata": {},
   "outputs": [],
   "source": [
    "ice_sheets = pd.read_csv('https://raw.githubusercontent.com/callysto/data-files/main/Science/ElementaryClimateChange/icesheets.csv')\n",
    "ice_sheets"
   ]
  },
  {
   "attachments": {},
   "cell_type": "markdown",
   "metadata": {},
   "source": [
    "We can see the dataframe has 3 columns and 218 rows. Each row represents a data point.\n",
    "\n",
    "The first 5 and last 5 rows of data were displayed above. If we want to see the first twenty rows we can use `.head(20)`. "
   ]
  },
  {
   "cell_type": "code",
   "execution_count": null,
   "metadata": {},
   "outputs": [],
   "source": [
    "ice_sheets.head(20)"
   ]
  },
  {
   "attachments": {},
   "cell_type": "markdown",
   "metadata": {},
   "source": [
    "To view a number of rows at the bottom of the data frame we can use `.tail()`"
   ]
  },
  {
   "cell_type": "code",
   "execution_count": null,
   "metadata": {
    "scrolled": true
   },
   "outputs": [],
   "source": [
    "ice_sheets.tail(15)"
   ]
  },
  {
   "attachments": {},
   "cell_type": "markdown",
   "metadata": {},
   "source": [
    "* What is the span of time that the dataframe above shows data for?\n",
    "\n",
    "It is important to know that these years are not the only years we have data for as our data frame only shows a few entries at a time. Above we are only looking at the last 15 rows.  The data frame only shows a few rows at a time so we don't get overwhelmed looking at huge amounts of data. One of the best ways to look at data in a Jupyter notebook is through a data visualization, a graph is an example of a data visualization. A data visualization can be thought of as a way to look at data. "
   ]
  },
  {
   "attachments": {},
   "cell_type": "markdown",
   "metadata": {},
   "source": [
    "### Graphing the Sea Ice Sheet Data\n",
    "\n",
    "Run the code below to generate a line graph about the ice sheets. \n"
   ]
  },
  {
   "cell_type": "code",
   "execution_count": null,
   "metadata": {},
   "outputs": [],
   "source": [
    "fig_ice_sheet = px.line(ice_sheets, x='TIME (year.decimal)', y='Antarctic mass (Gigatonnes)', title='Mass of Antarctic Ice Sheets Over Time')\n",
    "fig_ice_sheet.update_xaxes(title_text='Date')\n",
    "fig_ice_sheet.update_yaxes(title_text='Antarctic ice mass (Gigatonnes)')\n",
    "fig_ice_sheet.show()"
   ]
  },
  {
   "attachments": {},
   "cell_type": "markdown",
   "metadata": {},
   "source": [
    "We can see that over time there is a general trend in the mass of ice sheets in the Antarctic. The graph shows that the mass of sea ice in Antarctica is getting smaller. This demonstrates that ice is melting in Antarctica. \n",
    "* What is the connection between sea ice melting in Antarctica and climate change? "
   ]
  },
  {
   "attachments": {},
   "cell_type": "markdown",
   "metadata": {},
   "source": [
    "## Ocean Levels"
   ]
  },
  {
   "attachments": {},
   "cell_type": "markdown",
   "metadata": {},
   "source": [
    "Run the code below to create a data frame using data on ocean levels. "
   ]
  },
  {
   "cell_type": "code",
   "execution_count": null,
   "metadata": {},
   "outputs": [],
   "source": [
    "sea_level = pd.read_csv('https://raw.githubusercontent.com/callysto/data-files/main/Science/ElementaryClimateChange/sealevel.csv')\n",
    "sea_level"
   ]
  },
  {
   "attachments": {},
   "cell_type": "markdown",
   "metadata": {},
   "source": [
    "What do you notice about the data in the data frame above? You can use the `.head` and `.tail` instructions from above if you wish. In order to do that insert a code block below by pressing the plus button in the tool bar and making sure that when you select that cell the drop down says 'code' instead of 'markdown'. Once you insert a code cell you can type the .head or .tail command that you wish to use. "
   ]
  },
  {
   "attachments": {},
   "cell_type": "markdown",
   "metadata": {},
   "source": [
    "### Graphing the Ocean Levels Data"
   ]
  },
  {
   "attachments": {},
   "cell_type": "markdown",
   "metadata": {},
   "source": [
    "The code cell below will generate a line graph of the ocean (sea) levels over time. "
   ]
  },
  {
   "cell_type": "code",
   "execution_count": null,
   "metadata": {},
   "outputs": [],
   "source": [
    "fig_ocean_level = px.line(sea_level, x='Year + Fraction of Year (Mid-Cycle)', y='GMSL - Gia Applied', title='Ocean Level Over Time')\n",
    "fig_ocean_level.update_xaxes(title_text='Year')\n",
    "fig_ocean_level.update_yaxes(title_text='Ocean Height Change (mm)')\n",
    "fig_ocean_level.show()"
   ]
  },
  {
   "attachments": {},
   "cell_type": "markdown",
   "metadata": {},
   "source": [
    "We can see that the general trend in the data is that ocean level is rising. Why do you think this is? How do you think that relates to climate change? \n",
    "\n",
    "As global temperature rises ice melt occurs which leads to increases in ocean levels. "
   ]
  },
  {
   "attachments": {},
   "cell_type": "markdown",
   "metadata": {},
   "source": [
    "## Forest Fires"
   ]
  },
  {
   "attachments": {},
   "cell_type": "markdown",
   "metadata": {},
   "source": [
    "Run the code below to create a data frame using forest fire data. There are several interesting columns in the data frame. The `year` column lists the year that the fire happened. The `jurisdiction` column lists the province that the fire happened. If a fire happened inside a national park then it looks like `Parks Canada` in that column. This data set also features some columns in English and then features that information in a seperate column in French; the `Number`, `Jurisdiction`, and `Year` columns are columns listed in English and then later in French. "
   ]
  },
  {
   "cell_type": "code",
   "execution_count": null,
   "metadata": {},
   "outputs": [],
   "source": [
    "forest_fires = pd.read_csv('https://raw.githubusercontent.com/callysto/data-files/main/Science/ElementaryClimateChange/nfd-fires-by-cause.csv')\n",
    "forest_fires"
   ]
  },
  {
   "attachments": {},
   "cell_type": "markdown",
   "metadata": {},
   "source": [
    "### Graphing the Forest Fire Data"
   ]
  },
  {
   "attachments": {},
   "cell_type": "markdown",
   "metadata": {},
   "source": [
    "Because this data listed number of forest fires by cause for each jurisdiction (area), we needed to use Python code to total some values.\n",
    "\n",
    "The line graph below has a line for each jurisdiction or area so it can be a bit hard to read. You can click on the legend to turn on and off lines."
   ]
  },
  {
   "cell_type": "code",
   "execution_count": null,
   "metadata": {},
   "outputs": [],
   "source": [
    "ff_totals = []\n",
    "for jurisdiction in forest_fires['Jurisdiction'].unique():\n",
    "    for year in forest_fires['Year'].unique():\n",
    "        total = forest_fires[(forest_fires['Jurisdiction'] == jurisdiction) & (forest_fires['Year'] == year)]['Number'].sum()\n",
    "        ff_totals.append([jurisdiction, year, total])\n",
    "ff = pd.DataFrame(ff_totals, columns=['Jurisdiction', 'Year', 'Number'])\n",
    "px.line(ff, x='Year', y='Number', color='Jurisdiction', title='Forest Fires Over Time by Jurisdiction')"
   ]
  },
  {
   "attachments": {},
   "cell_type": "markdown",
   "metadata": {},
   "source": [
    "## Questions to Consider\n"
   ]
  },
  {
   "attachments": {},
   "cell_type": "markdown",
   "metadata": {},
   "source": [
    "* Which data did you find most interesting? Why?\n",
    "\n",
    "* How would you describe the general trend of the graph on sea ice?\n",
    "* How would you describe the general trend of the graph on ocean levels?\n",
    "* How would you describe the general trend of the graph on forest fires? \n",
    "\n",
    "* What do you think would be the trend of these graphs if nothing were to change?\n",
    "* What does this data tell you about climate change? How can you support your answer?\n",
    "* What did you learn from looking at this data?\n",
    "\n",
    "* What actions can you take to help slow down climate change?\n",
    "\n",
    "\n",
    "How can you share what you have learned with your classmates and those around you? Can you make a poster, presentation, or video? What other methods could you consider?"
   ]
  },
  {
   "attachments": {},
   "cell_type": "markdown",
   "metadata": {},
   "source": [
    "## Climate Change Solutions\n",
    "\n",
    "There are many ways we can help reduce the effects of climate change. Helpful actions can be as simple as walking instead of using a car and turning off lights, or more complicated like trying to adopt different energy sources.\n",
    "\n",
    "Some actions can be taken by everyone regardless of age! Some ideas to help combat climate change are discussed [here](https://climatekids.nasa.gov/how-to-help/) and [here](https://kids.nationalgeographic.com/nature/save-the-earth/article/13-ways-to-save-the-earth-from-climate-change).\n",
    "\n",
    "* Do you think reducing the effects of climate change is important? Why or why not?\n",
    "* What do you think you can do to help combat climate change?\n",
    "* How can you share information you have learned with others in your life?"
   ]
  },
  {
   "attachments": {},
   "cell_type": "markdown",
   "metadata": {},
   "source": [
    "## More To Explore\n",
    "\n",
    "To explore further there are some additional Callysto resources you can investigate.\n",
    "\n",
    "* [Costliest disasters in recent history](https://hub.callysto.ca/jupyter/hub/user-redirect/git-pull?repo=https%3A%2F%2Fgithub.com%2Fcallysto%2Fdata-viz-of-the-week&branch=main&subPath=costliest-disasters/costliest-natural-disasters.ipynb&depth=1)\n",
    "\n",
    "* [Changes in sea ice](https://hub.callysto.ca/jupyter/hub/user-redirect/git-pull?repo=https%3A%2F%2Fgithub.com%2Fcallysto%2Fdata-viz-of-the-week&branch=main&subPath=ice-coverage-best-fit/sea-ice.ipynb&depth=1) \n",
    "\n",
    "* [Warmest January temperatures](https://hub.callysto.ca/jupyter/hub/user-redirect/git-pull?repo=https%3A%2F%2Fgithub.com%2Fcallysto%2Fdata-viz-of-the-week&branch=main&subPath=january-temperatures/january-temperatures.ipynb&depth=1)\n"
   ]
  },
  {
   "attachments": {},
   "cell_type": "markdown",
   "metadata": {},
   "source": [
    "[![Callysto.ca License](https://github.com/callysto/curriculum-notebooks/blob/master/callysto-notebook-banner-bottom.jpg?raw=true)](https://github.com/callysto/curriculum-notebooks/blob/master/LICENSE.md)"
   ]
  }
 ],
 "metadata": {
  "kernelspec": {
   "display_name": "Python 3 (ipykernel)",
   "language": "python",
   "name": "python3"
  },
  "language_info": {
   "codemirror_mode": {
    "name": "ipython",
    "version": 3
   },
   "file_extension": ".py",
   "mimetype": "text/x-python",
   "name": "python",
   "nbconvert_exporter": "python",
   "pygments_lexer": "ipython3",
   "version": "3.10.9"
  }
 },
 "nbformat": 4,
 "nbformat_minor": 2
}
