{
 "cells": [
  {
   "cell_type": "markdown",
   "metadata": {},
   "source": [
    "![Callysto.ca Banner](https://github.com/callysto/curriculum-notebooks/blob/master/callysto-notebook-banner-top.jpg?raw=true)"
   ]
  },
  {
   "cell_type": "markdown",
   "metadata": {},
   "source": [
    "# Elementary Climate Change\n",
    "\n",
    "A number of indicators in the environment around use can tell us about the extent of climate change in the world today.\n",
    "* Duration and Thickness of Sea Ice\n",
    "* Ocean Levels\n",
    "* Permafrost Changes\n",
    "* Number of Forest Fires\n",
    "\n",
    "In this notebok we will explore data on each of these indicators. At the end you will be asked to reflect on some questions to determine what you have learned based on the data. In order to examine this topic we took. data from the [Global Climte Change-Vital Signs of the Planet](https://climate.nasa.gov/) website published by NASA. This website has many other interesting details on it including other visualizations, facts and some information on how we can mitigate climate change. Parts of this website will be interesting to teachers and parts will also be useful for students to explore.\n",
    "\n",
    "Run the code cell below to import the libraries we need for this project. Libraries are pre-made code that make it easier to analyze our data. \n",
    "\n",
    "Pandas is a library that helps us with data analysis, and plotly express is a library that helps us to make visualizations. \n",
    "\n",
    "Without importing these libraries we would have to use much more code to analyze our data and generate visualizations. We import the libraries with abbreviations, or aliases, so that we have less typing to do in each line of our code below. The first two lines in the cell below import libraries. The cells below that import our data sets so that we can work with them to build visualizations. "
   ]
  },
  {
   "cell_type": "code",
   "execution_count": null,
   "metadata": {},
   "outputs": [],
   "source": [
    "import pandas as pd\n",
    "import plotly.express as px\n",
    "ice_sheets = pd.read_csv('https://raw.githubusercontent.com/callysto/data-files/main/Science/ElementaryClimateChange/icesheets.csv')\n",
    "ocean_warming = pd.read_csv('https://raw.githubusercontent.com/callysto/data-files/main/Science/ElementaryClimateChange/oceanwarm.csv')\n",
    "temperature = pd.read_csv('https://raw.githubusercontent.com/callysto/data-files/main/Science/ElementaryClimateChange/temperature.csv')\n",
    "fires = pd.read_csv('https://raw.githubusercontent.com/callysto/data-files/main/Science/ElementaryClimateChange/nfd-fires-by-cause.csv')"
   ]
  },
  {
   "cell_type": "markdown",
   "metadata": {},
   "source": [
    "## Sea Ice\n",
    "\n",
    "Run the code block below to build a data frame from the data on sea ice. A data frame is a way that the python programming language we use stores data. A data frame is kind of like a spreadsheet.\n"
   ]
  },
  {
   "cell_type": "code",
   "execution_count": null,
   "metadata": {},
   "outputs": [],
   "source": [
    "ice_sheets = pd.read_csv('https://raw.githubusercontent.com/callysto/data-files/main/Science/ElementaryClimateChange/icesheets.csv')\n",
    "ice_sheets"
   ]
  },
  {
   "cell_type": "markdown",
   "metadata": {},
   "source": [
    "What do you notice about the data frame we created with that code? \n",
    "\n",
    "From looking at the numbers at the data frame we can see it has 3 columns and 218 rows. Each row represents a data point. If you look at the last row in the data frame above you can see it is labelled 217 but the numbers below the data set say that we have 218 rows. That may seem a bit strange at first but that is because python starts counting at 0.\n",
    "\n",
    "We can see the first 5 rows and the last 5 rows of data in the data frame above. If we want to see the first twenty rows of data we can run the code cell with the instruction below. "
   ]
  },
  {
   "cell_type": "code",
   "execution_count": null,
   "metadata": {},
   "outputs": [],
   "source": [
    "ice_sheets.head(20)"
   ]
  },
  {
   "cell_type": "markdown",
   "metadata": {},
   "source": [
    "If we want to see the last twenty rows in the data set we can run the code with the instruction below. "
   ]
  },
  {
   "cell_type": "code",
   "execution_count": null,
   "metadata": {},
   "outputs": [],
   "source": [
    "ice_sheets.tail(20)"
   ]
  },
  {
   "cell_type": "markdown",
   "metadata": {},
   "source": [
    "What did you notice from looking at the data in the data frame above?\n",
    "\n",
    "You can view any number of rows starting from the beginning of the data frame by changing the number in the brackets in the cell with the word head.\n",
    "\n",
    "You can also change the number in the brackets in the cell with the word tail to view a different number of rows at the bottom of the data frame. \n",
    "\n",
    "Run the code below to generate a line graph about the ice sheets. "
   ]
  },
  {
   "cell_type": "code",
   "execution_count": null,
   "metadata": {},
   "outputs": [],
   "source": [
    "px.line(ice_sheets, x='TIME (year.decimal)', y='Antarctic mass (Gigatonnes)', title='Mass of Ice Sheets Over Time')"
   ]
  },
  {
   "cell_type": "markdown",
   "metadata": {},
   "source": [
    "The mass of the ice sheets in the Antarctic flunctates somewhat over time. What could you say about the genral trend of this graph?\n",
    "* How does this graph relate to climate change?"
   ]
  },
  {
   "cell_type": "markdown",
   "metadata": {},
   "source": [
    "## Permafrost Changes"
   ]
  },
  {
   "cell_type": "markdown",
   "metadata": {},
   "source": [
    "## Ocean Level"
   ]
  },
  {
   "cell_type": "code",
   "execution_count": null,
   "metadata": {},
   "outputs": [],
   "source": [
    "sea_level = pd.read_csv('https://raw.githubusercontent.com/callysto/data-files/main/Science/ElementaryClimateChange/sealevel.csv')\n",
    "sea_level"
   ]
  },
  {
   "cell_type": "code",
   "execution_count": null,
   "metadata": {},
   "outputs": [],
   "source": [
    "px.line(sea_level, x='Year + Fraction of Year (Mid-Cycle)', y='GMSL - Gia Applied', title='Ocean Level Over Time')"
   ]
  },
  {
   "cell_type": "markdown",
   "metadata": {},
   "source": [
    "We can see that the general trend in the data is that ocean level is rising. Why do you think this is? How do you think that relates to climate chnage? Read on to find out more about how climate change is related to sea level. \n",
    "\n",
    "**Sea Level and Climate Change**\n",
    "\n",
    "According to the [NASA Website](https://climate.nasa.gov/vital-signs/sea-level) that published our data sea levels and climte change are related in two ways. You can read more about it by clicking on the hyperlink.\n",
    "\n"
   ]
  },
  {
   "cell_type": "markdown",
   "metadata": {},
   "source": [
    "## Forest Fires"
   ]
  },
  {
   "cell_type": "code",
   "execution_count": null,
   "metadata": {},
   "outputs": [],
   "source": [
    "forest_fires = pd.read_csv('https://raw.githubusercontent.com/callysto/data-files/main/Science/ElementaryClimateChange/nfd-fires-by-cause.csv')\n",
    "forest_fires"
   ]
  },
  {
   "cell_type": "code",
   "execution_count": null,
   "metadata": {},
   "outputs": [],
   "source": [
    "fig = px.bar(forest_fires, x=\"Jurisdiction\", y=\"Year\", color=\"Cause\")\n",
    "fig.show()"
   ]
  },
  {
   "cell_type": "markdown",
   "metadata": {},
   "source": [
    "## Extreme Weather\n",
    "\n"
   ]
  },
  {
   "cell_type": "markdown",
   "metadata": {},
   "source": [
    "## Questions to Consider\n"
   ]
  },
  {
   "cell_type": "markdown",
   "metadata": {},
   "source": [
    "* Which data did you find most interesting? Why?\n",
    "* What do you think would be the trend of these graphs if nothing were to chjange?\n",
    "* What does this data tell you about climate change? How can you support your answer?\n",
    "* What actions can you take to help slow down climate change?\n",
    "\n",
    "How can you share what you have learned with your classmates and those around you? Can you make a poster, powerpoint presentation or give a speech? What other methods could you consider?"
   ]
  },
  {
   "cell_type": "markdown",
   "metadata": {},
   "source": [
    "## Climate Change Solutions\n",
    "\n",
    "There are many ways we can help reduce the effects of climate change. It can be as simple as walking instead of using a car and turning off lights or more complicated like trying to adopt different energy sources. Some actions can be taken by everyone regardless of age! Some ideas to help combat climaate change are discussed [here](https://climatekids.nasa.gov/how-to-help/) and [here](https://kids.nationalgeographic.com/nature/save-the-earth/article/13-ways-to-save-the-earth-from-climate-change).\n",
    "\n",
    "* Do you think reducing thing effects of climate change is important? Why or why not?\n",
    "* What do you think you can do to help combat climate change?\n",
    "* How can you share information you have learned with others in your life?\n",
    "\n"
   ]
  },
  {
   "cell_type": "markdown",
   "metadata": {},
   "source": [
    "## More Information To Explore\n",
    "\n",
    "Callysto has created other resources using data that is related to topics explored in this notebook. For an extension to this notebook you may want to check out the resources linked below. "
   ]
  },
  {
   "cell_type": "markdown",
   "metadata": {},
   "source": [
    " Check out the notebook Callysto created on the costliest disasters for an interesting [look at extreme weather events in recent history.](https://hub.callysto.ca/jupyter/hub/user-redirect/git-pull?repo=https%3A%2F%2Fgithub.com%2Fcallysto%2Fdata-viz-of-the-week&branch=main&subPath=costliest-disasters/costliest-natural-disasters.ipynb&depth=1)\n",
    "\n",
    "As the climate has been changing the level of sea ice has been changing in the world. Callysto created a data visualization on [changes in sea ice.](https://hub.callysto.ca/jupyter/hub/user-redirect/git-pull?repo=https%3A%2F%2Fgithub.com%2Fcallysto%2Fdata-viz-of-the-week&branch=main&subPath=ice-coverage-best-fit/sea-ice.ipynb&depth=1) \n",
    "\n",
    "You may also be interested in looking at our recent data visualizaton on the [warmest January temperatures.](https://hub.callysto.ca/jupyter/hub/user-redirect/git-pull?repo=https%3A%2F%2Fgithub.com%2Fcallysto%2Fdata-viz-of-the-week&branch=main&subPath=january-temperatures/january-temperatures.ipynb&depth=1)\n"
   ]
  },
  {
   "cell_type": "markdown",
   "metadata": {},
   "source": [
    "[![Callysto.ca License](https://github.com/callysto/curriculum-notebooks/blob/master/callysto-notebook-banner-bottom.jpg?raw=true)](https://github.com/callysto/curriculum-notebooks/blob/master/LICENSE.md)"
   ]
  },
  {
   "cell_type": "code",
   "execution_count": null,
   "metadata": {},
   "outputs": [],
   "source": []
  },
  {
   "cell_type": "code",
   "execution_count": null,
   "metadata": {},
   "outputs": [],
   "source": []
  }
 ],
 "metadata": {
  "kernelspec": {
   "display_name": "Python 3 (ipykernel)",
   "language": "python",
   "name": "python3"
  },
  "language_info": {
   "codemirror_mode": {
    "name": "ipython",
    "version": 3
   },
   "file_extension": ".py",
   "mimetype": "text/x-python",
   "name": "python",
   "nbconvert_exporter": "python",
   "pygments_lexer": "ipython3",
   "version": "3.10.9"
  }
 },
 "nbformat": 4,
 "nbformat_minor": 2
}
