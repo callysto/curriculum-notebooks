{
 "cells": [
  {
   "attachments": {},
   "cell_type": "markdown",
   "metadata": {},
   "source": [
    "![Callysto.ca Banner](https://github.com/callysto/curriculum-notebooks/blob/master/callysto-notebook-banner-top.jpg?raw=true)"
   ]
  },
  {
   "attachments": {},
   "cell_type": "markdown",
   "metadata": {},
   "source": [
    "# Elementary Climate Change\n",
    "\n",
    "Climate change is a frequently discussed topic. [This TED-Ed video](https://www.youtube.com/watch?v=NCPTbfQyMt8) talks about weather becoming more extreme because of climate change.\n",
    "\n",
    "We can look at the extent of climate change by examining data such as:\n",
    "\n",
    "* duration and thickness of sea ice\n",
    "* ocean levels\n",
    "* frequency of forest fires\n",
    "\n",
    "In this notebok we will explore data on each of these indicators. At the end you will be asked to reflect on some questions to determine what you have learned based on the data.\n",
    "\n",
    "We retrieved data from the NASA [Global Climate Change-Vital Signs of the Planet](https://climate.nasa.gov/) website. This website has many other interesting details on it including other visualizations, facts, and information on how to mitigate climate change.\n",
    "\n",
    "Run the code cell below to import the libraries we need for this project. Libraries are pre-made code that make it easier to analyze our data. \n",
    "\n",
    "Pandas is a library that helps us with data analysis, the Plotly libraries help us to make visualizations."
   ]
  },
  {
   "cell_type": "code",
   "execution_count": null,
   "metadata": {},
   "outputs": [],
   "source": [
    "import pandas as pd\n",
    "import plotly.express as px\n",
    "import plotly.graph_objects as go\n",
    "ice_sheets = pd.read_csv('https://raw.githubusercontent.com/callysto/data-files/main/Science/ElementaryClimateChange/icesheets.csv')\n",
    "ocean_warming = pd.read_csv('https://raw.githubusercontent.com/callysto/data-files/main/Science/ElementaryClimateChange/oceanwarm.csv')\n",
    "temperature = pd.read_csv('https://raw.githubusercontent.com/callysto/data-files/main/Science/ElementaryClimateChange/temperature.csv')\n",
    "fires = pd.read_csv('https://raw.githubusercontent.com/callysto/data-files/main/Science/ElementaryClimateChange/nfd-fires-by-cause.csv')\n",
    "print('Libraries and data loaded successfully.')"
   ]
  },
  {
   "attachments": {},
   "cell_type": "markdown",
   "metadata": {},
   "source": [
    "## Sea Ice\n",
    "\n",
    "Run the code block below to build a data frame from the data on sea ice. A data frame is a way that the python programming language we use stores data. A data frame is kind of like a spreadsheet.\n"
   ]
  },
  {
   "cell_type": "code",
   "execution_count": null,
   "metadata": {},
   "outputs": [],
   "source": [
    "ice_sheets = pd.read_csv('https://raw.githubusercontent.com/callysto/data-files/main/Science/ElementaryClimateChange/icesheets.csv')\n",
    "ice_sheets"
   ]
  },
  {
   "attachments": {},
   "cell_type": "markdown",
   "metadata": {},
   "source": [
    "We can see the dataframe has 3 columns and 218 rows. Each row represents a data point.\n",
    "\n",
    "The first 5 and last 5 rows of data were displayed above. If we want to see the first twenty rows we can use `.head(20)`. "
   ]
  },
  {
   "cell_type": "code",
   "execution_count": null,
   "metadata": {},
   "outputs": [],
   "source": [
    "ice_sheets.head(20)"
   ]
  },
  {
   "attachments": {},
   "cell_type": "markdown",
   "metadata": {},
   "source": [
    "To view a number of rows at the bottom of the data frame we can use `.tail()`"
   ]
  },
  {
   "cell_type": "code",
   "execution_count": null,
   "metadata": {
    "scrolled": true
   },
   "outputs": [],
   "source": [
    "ice_sheets.tail(15)"
   ]
  },
  {
   "attachments": {},
   "cell_type": "markdown",
   "metadata": {},
   "source": [
    "* What did you notice from looking at the data in the dataframe above?"
   ]
  },
  {
   "attachments": {},
   "cell_type": "markdown",
   "metadata": {},
   "source": [
    "### Graphing the Ice Sheet Data\n",
    "\n",
    "Run the code below to generate a line graph about the ice sheets. "
   ]
  },
  {
   "cell_type": "code",
   "execution_count": null,
   "metadata": {},
   "outputs": [],
   "source": [
    "px.line(ice_sheets, x='TIME (year.decimal)', y='Antarctic mass (Gigatonnes)', title='Mass of Antarctic Ice Sheets Over Time')"
   ]
  },
  {
   "attachments": {},
   "cell_type": "markdown",
   "metadata": {},
   "source": [
    "We can see that over time there is a general trend in the mass of ice sheets in the Antarctic. The graph shows that the mass of sea ice in Antarctica is getting smaller. This demonstratse that ice is melting in Antarctica? \n",
    "* How does this graph relate to climate change?"
   ]
  },
  {
   "attachments": {},
   "cell_type": "markdown",
   "metadata": {},
   "source": [
    "## Ocean Level"
   ]
  },
  {
   "attachments": {},
   "cell_type": "markdown",
   "metadata": {},
   "source": [
    "Run the code below to create a data frame using data on ocean levels. "
   ]
  },
  {
   "cell_type": "code",
   "execution_count": null,
   "metadata": {},
   "outputs": [],
   "source": [
    "sea_level = pd.read_csv('https://raw.githubusercontent.com/callysto/data-files/main/Science/ElementaryClimateChange/sealevel.csv')\n",
    "sea_level"
   ]
  },
  {
   "attachments": {},
   "cell_type": "markdown",
   "metadata": {},
   "source": [
    "What do you notice about the data in the data frame above? You can use the .head and .tail instructions from above if you wish. In order to do that insert a code block below by pressing the plus button in the tool bar and making sure that when you select that cell the drop down says 'code' instead of 'markdown'. Once you insert a code cell you can type the .head or .tail command that you wish to use. "
   ]
  },
  {
   "attachments": {},
   "cell_type": "markdown",
   "metadata": {},
   "source": [
    "### Graphing the Ocean Level Data"
   ]
  },
  {
   "attachments": {},
   "cell_type": "markdown",
   "metadata": {},
   "source": [
    "The code cell below will generate a line graph of the sea level over time. "
   ]
  },
  {
   "cell_type": "code",
   "execution_count": null,
   "metadata": {},
   "outputs": [],
   "source": [
    "px.line(sea_level, x='Year + Fraction of Year (Mid-Cycle)', y='GMSL - Gia Applied', title='Ocean Level Over Time')"
   ]
  },
  {
   "attachments": {},
   "cell_type": "markdown",
   "metadata": {},
   "source": [
    "We can see that the general trend in the data is that ocean level is rising. Why do you think this is? How do you think that relates to climate chnage? Read on to find out more about how climate change is related to sea level. \n",
    "\n",
    "## Sea Level and Climate Change\n",
    "\n",
    "According to the [NASA Website](https://climate.nasa.gov/vital-signs/sea-level), sea levels and climte change are related in two ways:\n",
    "\n",
    "* water from melting polar ice\n",
    "* ocean water expading as it warms"
   ]
  },
  {
   "attachments": {},
   "cell_type": "markdown",
   "metadata": {},
   "source": [
    "## Forest Fires"
   ]
  },
  {
   "cell_type": "code",
   "execution_count": null,
   "metadata": {},
   "outputs": [],
   "source": [
    "forest_fires = pd.read_csv('https://raw.githubusercontent.com/callysto/data-files/main/Science/ElementaryClimateChange/nfd-fires-by-cause.csv')\n",
    "forest_fires"
   ]
  },
  {
   "attachments": {},
   "cell_type": "markdown",
   "metadata": {},
   "source": [
    "### Graphing the Forest Fire Data"
   ]
  },
  {
   "attachments": {},
   "cell_type": "markdown",
   "metadata": {},
   "source": [
    "Because this data listed number of forest fires by cause for each jurisdiction (area), we needed to use Python code to total some values.\n",
    "\n",
    "The line graph below has a line for each jurisdiction or area so it can be a bit hard to read. You can click on the legend to turn on and off lines."
   ]
  },
  {
   "cell_type": "code",
   "execution_count": null,
   "metadata": {},
   "outputs": [],
   "source": [
    "ff_totals = []\n",
    "for jurisdiction in forest_fires['Jurisdiction'].unique():\n",
    "    for year in forest_fires['Year'].unique():\n",
    "        total = forest_fires[(forest_fires['Jurisdiction'] == jurisdiction) & (forest_fires['Year'] == year)]['Number'].sum()\n",
    "        ff_totals.append([jurisdiction, year, total])\n",
    "ff = pd.DataFrame(ff_totals, columns=['Jurisdiction', 'Year', 'Number'])\n",
    "px.line(ff, x='Year', y='Number', color='Jurisdiction', title='Forest Fires Over Time by Jurisdiction')"
   ]
  },
  {
   "attachments": {},
   "cell_type": "markdown",
   "metadata": {},
   "source": [
    "## Questions to Consider\n"
   ]
  },
  {
   "attachments": {},
   "cell_type": "markdown",
   "metadata": {},
   "source": [
    "* Which data did you find most interesting? Why?\n",
    "\n",
    "* How would you describe the general trend of the graph on sea ice?\n",
    "* How would you describe the general trend of the graph on ocean levels?\n",
    "* How would you describe the general trend of the graph on forest fires? \n",
    "\n",
    "* What do you think would be the trend of these graphs if nothing were to change?\n",
    "* What does this data tell you about climate change? How can you support your answer?\n",
    "* What did you learn from looking at this data?\n",
    "\n",
    "* What actions can you take to help slow down climate change?\n",
    "\n",
    "\n",
    "How can you share what you have learned with your classmates and those around you? Can you make a poster, presentation, or video? What other methods could you consider?"
   ]
  },
  {
   "attachments": {},
   "cell_type": "markdown",
   "metadata": {},
   "source": [
    "## Climate Change Solutions\n",
    "\n",
    "There are many ways we can help reduce the effects of climate change. Helpful actions can be as simple as walking instead of using a car and turning off lights, or more complicated like trying to adopt different energy sources.\n",
    "\n",
    "Some actions can be taken by everyone regardless of age! Some ideas to help combat climaate change are discussed [here](https://climatekids.nasa.gov/how-to-help/) and [here](https://kids.nationalgeographic.com/nature/save-the-earth/article/13-ways-to-save-the-earth-from-climate-change).\n",
    "\n",
    "* Do you think reducing the effects of climate change is important? Why or why not?\n",
    "* What do you think you can do to help combat climate change?\n",
    "* How can you share information you have learned with others in your life?"
   ]
  },
  {
   "attachments": {},
   "cell_type": "markdown",
   "metadata": {},
   "source": [
    "## More To Explore\n",
    "\n",
    "* [costliest disasters in recent history](https://hub.callysto.ca/jupyter/hub/user-redirect/git-pull?repo=https%3A%2F%2Fgithub.com%2Fcallysto%2Fdata-viz-of-the-week&branch=main&subPath=costliest-disasters/costliest-natural-disasters.ipynb&depth=1)\n",
    "\n",
    "* [changes in sea ice](https://hub.callysto.ca/jupyter/hub/user-redirect/git-pull?repo=https%3A%2F%2Fgithub.com%2Fcallysto%2Fdata-viz-of-the-week&branch=main&subPath=ice-coverage-best-fit/sea-ice.ipynb&depth=1) \n",
    "\n",
    "* [warmest January temperatures](https://hub.callysto.ca/jupyter/hub/user-redirect/git-pull?repo=https%3A%2F%2Fgithub.com%2Fcallysto%2Fdata-viz-of-the-week&branch=main&subPath=january-temperatures/january-temperatures.ipynb&depth=1)\n"
   ]
  },
  {
   "attachments": {},
   "cell_type": "markdown",
   "metadata": {},
   "source": []
  },
  {
   "attachments": {},
   "cell_type": "markdown",
   "metadata": {},
   "source": [
    "[![Callysto.ca License](https://github.com/callysto/curriculum-notebooks/blob/master/callysto-notebook-banner-bottom.jpg?raw=true)](https://github.com/callysto/curriculum-notebooks/blob/master/LICENSE.md)"
   ]
  }
 ],
 "metadata": {
  "kernelspec": {
   "display_name": "Python 3 (ipykernel)",
   "language": "python",
   "name": "python3"
  },
  "language_info": {
   "codemirror_mode": {
    "name": "ipython",
    "version": 3
   },
   "file_extension": ".py",
   "mimetype": "text/x-python",
   "name": "python",
   "nbconvert_exporter": "python",
   "pygments_lexer": "ipython3",
   "version": "3.10.9"
  }
 },
 "nbformat": 4,
 "nbformat_minor": 2
}
