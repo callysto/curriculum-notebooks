{
 "cells": [
  {
   "attachments": {},
   "cell_type": "markdown",
   "metadata": {},
   "source": [
    "![Callysto.ca Banner](https://github.com/callysto/curriculum-notebooks/blob/master/callysto-notebook-banner-top.jpg?raw=true)"
   ]
  },
  {
   "attachments": {},
   "cell_type": "markdown",
   "metadata": {},
   "source": [
    "# Elementary Climate Change\n",
    "\n",
    "Climate change is a frequently discussed topic. [This TED-Ed video](https://www.youtube.com/watch?v=NCPTbfQyMt8) talks about weather becoming more extreme because of climate change.\n",
    "\n",
    "We can look at data such as:\n",
    "\n",
    "* thickness and timing of sea ice\n",
    "* ocean levels\n",
    "* frequency of forest fires\n",
    "\n",
    "We have data from the NASA [Global Climate Change - Vital Signs of the Planet](https://climate.nasa.gov) website. In addition to information about climate change, this website also features those that are working to help make the world better. \n",
    "\n",
    "Click on the code cell below, then click the `▶Run` button. This will import the libraries (pre-made code) that we need for this project.\n",
    "\n",
    "[Pandas](https://pandas.pydata.org) is a library that helps us with data analysis, and [Plotly](https://plotly.com/python) allows us to make nice visualizations."
   ]
  },
  {
   "cell_type": "code",
   "execution_count": null,
   "metadata": {},
   "outputs": [],
   "source": [
    "import pandas as pd\n",
    "import plotly.express as px\n",
    "import plotly.graph_objects as go\n",
    "print('Libraries loaded successfully.')"
   ]
  },
  {
   "attachments": {},
   "cell_type": "markdown",
   "metadata": {},
   "source": [
    "## Sea Ice\n",
    "\n",
    "Sea ice is frozen sea water that exists around the poles of the Earth because of extremly cold temperatures. Sea ice is frozen for most of the year.\n",
    "\n",
    "Run the code block below to import and display sea ice data."
   ]
  },
  {
   "cell_type": "code",
   "execution_count": null,
   "metadata": {},
   "outputs": [],
   "source": [
    "ice_sheets = pd.read_csv('https://raw.githubusercontent.com/callysto/data-files/main/Science/ElementaryClimateChange/icesheets.csv')\n",
    "ice_sheets"
   ]
  },
  {
   "attachments": {},
   "cell_type": "markdown",
   "metadata": {},
   "source": [
    "We can see the dataframe has 3 columns and 218 rows. Each row represents a data point.\n",
    "\n",
    "The first 5 and last 5 rows of data were displayed above. If we want to see the first ten rows we can use `.head(10)`. "
   ]
  },
  {
   "cell_type": "code",
   "execution_count": null,
   "metadata": {},
   "outputs": [],
   "source": [
    "ice_sheets.head(10)"
   ]
  },
  {
   "attachments": {},
   "cell_type": "markdown",
   "metadata": {},
   "source": [
    "To view a number of rows at the bottom of the data frame we can use `.tail()`"
   ]
  },
  {
   "cell_type": "code",
   "execution_count": null,
   "metadata": {
    "scrolled": true
   },
   "outputs": [],
   "source": [
    "ice_sheets.tail(8)"
   ]
  },
  {
   "attachments": {},
   "cell_type": "markdown",
   "metadata": {},
   "source": [
    "### Graphing the Sea Ice Sheet Data\n",
    "\n",
    "One of the best ways to look at data is with graphs and other data visualizations. Run the code below to make a line graph about the ice sheets."
   ]
  },
  {
   "cell_type": "code",
   "execution_count": null,
   "metadata": {},
   "outputs": [],
   "source": [
    "px.line(ice_sheets, x='TIME (year.decimal)', y='Antarctic mass (Gigatonnes)', title='Mass of Antarctic Ice Sheets Over Time')"
   ]
  },
  {
   "attachments": {},
   "cell_type": "markdown",
   "metadata": {},
   "source": [
    "We can see that over time there is a decreasing trend in the mass of ice sheets in the Antarctic. This shows that ice is melting in Antarctica.\n",
    "\n",
    "What is the connection between sea ice melting in Antarctica and climate change?"
   ]
  },
  {
   "attachments": {},
   "cell_type": "markdown",
   "metadata": {},
   "source": [
    "## Sea Levels\n",
    "\n",
    "Run the code below to import and data on changes in sea levels."
   ]
  },
  {
   "cell_type": "code",
   "execution_count": null,
   "metadata": {},
   "outputs": [],
   "source": [
    "sea_level = pd.read_csv('https://raw.githubusercontent.com/callysto/data-files/main/Science/ElementaryClimateChange/sealevel.csv')\n",
    "sea_level"
   ]
  },
  {
   "attachments": {},
   "cell_type": "markdown",
   "metadata": {},
   "source": [
    "What do you notice about this data set?\n",
    "\n",
    "### Graphing the Ocean Levels Data\n",
    "\n",
    "The code cell below will generate a line graph of the ocean (sea) levels over time. "
   ]
  },
  {
   "cell_type": "code",
   "execution_count": null,
   "metadata": {},
   "outputs": [],
   "source": [
    "px.line(sea_level, x='Year + Fraction of Year (Mid-Cycle)', y='GMSL - Gia Applied', title='Ocean Level Over Time').update_xaxes(title_text='Year').update_yaxes(title_text='Ocean Height Change (mm)')"
   ]
  },
  {
   "attachments": {},
   "cell_type": "markdown",
   "metadata": {},
   "source": [
    "We can see that the general trend in the data is that ocean level is rising. Why do you think this is? How do you think that relates to climate change?"
   ]
  },
  {
   "attachments": {},
   "cell_type": "markdown",
   "metadata": {},
   "source": [
    "## Forest Fires"
   ]
  },
  {
   "attachments": {},
   "cell_type": "markdown",
   "metadata": {},
   "source": [
    "Run the code below to import forest fire data."
   ]
  },
  {
   "cell_type": "code",
   "execution_count": null,
   "metadata": {},
   "outputs": [],
   "source": [
    "forest_fires = pd.read_csv('https://raw.githubusercontent.com/callysto/data-files/main/Science/ElementaryClimateChange/nfd-fires-by-cause.csv')\n",
    "forest_fires"
   ]
  },
  {
   "attachments": {},
   "cell_type": "markdown",
   "metadata": {},
   "source": [
    "The columns are in English and then in French.\n",
    "\n",
    "The `Jurisdiction` column lists the province that the fire happened. If a fire happened inside a national park then it looks like `Parks Canada` in that column. \n",
    "\n",
    "### Graphing the Forest Fire Data\n",
    "\n",
    "Because this data listed number of forest fires by cause for each jurisdiction (area), we needed to use Python code to add up the values."
   ]
  },
  {
   "cell_type": "code",
   "execution_count": null,
   "metadata": {},
   "outputs": [],
   "source": [
    "ff_totals = []\n",
    "for jurisdiction in forest_fires['Jurisdiction'].unique():\n",
    "    for year in forest_fires['Year'].unique():\n",
    "        total = forest_fires[(forest_fires['Jurisdiction'] == jurisdiction) & (forest_fires['Year'] == year)]['Number'].sum()\n",
    "        ff_totals.append([jurisdiction, year, total])\n",
    "ff = pd.DataFrame(ff_totals, columns=['Jurisdiction', 'Year', 'Number'])\n",
    "px.line(ff, x='Year', y='Number', color='Jurisdiction', title='Forest Fires Over Time by Jurisdiction')"
   ]
  },
  {
   "attachments": {},
   "cell_type": "markdown",
   "metadata": {},
   "source": [
    "You can click on parts of the legend to turn on and off lines.\n",
    "\n",
    "## Questions to Consider\n",
    "\n",
    "1. Which data set did you find most interesting? Why?\n",
    "2. How would you describe the general trend of the graph on sea ice?\n",
    "3. How would you describe the general trend of the graph on ocean levels?\n",
    "4. How would you describe the general trend of the graph on forest fires? \n",
    "5. What do you think would be the trend of these graphs if nothing were to change?\n",
    "6. What does this data tell you about climate change? How can you support your answer?\n",
    "7. What did you learn from looking at this data?\n",
    "8. What actions can you take to help slow down climate change?\n",
    "9. How can you share what you have learned?\n",
    "10. Do you think reducing the effects of climate change is important? Why or why not?"
   ]
  },
  {
   "attachments": {},
   "cell_type": "markdown",
   "metadata": {},
   "source": [
    "## Climate Change Solutions\n",
    "\n",
    "There are many ways we can help reduce the effects of climate change. Some simple actions can be walking instead of using a car and turning off lights.\n",
    "\n",
    "Some actions can be taken by everyone regardless of age! Some ideas to help combat climate change are discussed [here](https://climatekids.nasa.gov/how-to-help) and [here](https://kids.nationalgeographic.com/nature/save-the-earth/article/13-ways-to-save-the-earth-from-climate-change)."
   ]
  },
  {
   "attachments": {},
   "cell_type": "markdown",
   "metadata": {},
   "source": [
    "## More To Explore\n",
    "\n",
    "To explore further there are some additional Callysto resources you can investigate.\n",
    "\n",
    "* [Costliest disasters in recent history](https://hub.callysto.ca/jupyter/hub/user-redirect/git-pull?repo=https%3A%2F%2Fgithub.com%2Fcallysto%2Fdata-viz-of-the-week&branch=main&subPath=costliest-disasters/costliest-natural-disasters.ipynb&depth=1)\n",
    "\n",
    "* [Changes in sea ice](https://hub.callysto.ca/jupyter/hub/user-redirect/git-pull?repo=https%3A%2F%2Fgithub.com%2Fcallysto%2Fdata-viz-of-the-week&branch=main&subPath=ice-coverage-best-fit/sea-ice.ipynb&depth=1) \n",
    "\n",
    "* [Warmest January temperatures](https://hub.callysto.ca/jupyter/hub/user-redirect/git-pull?repo=https%3A%2F%2Fgithub.com%2Fcallysto%2Fdata-viz-of-the-week&branch=main&subPath=january-temperatures/january-temperatures.ipynb&depth=1)\n"
   ]
  },
  {
   "attachments": {},
   "cell_type": "markdown",
   "metadata": {},
   "source": [
    "[![Callysto.ca License](https://github.com/callysto/curriculum-notebooks/blob/master/callysto-notebook-banner-bottom.jpg?raw=true)](https://github.com/callysto/curriculum-notebooks/blob/master/LICENSE.md)"
   ]
  }
 ],
 "metadata": {
  "kernelspec": {
   "display_name": "Python 3 (ipykernel)",
   "language": "python",
   "name": "python3"
  },
  "language_info": {
   "codemirror_mode": {
    "name": "ipython",
    "version": 3
   },
   "file_extension": ".py",
   "mimetype": "text/x-python",
   "name": "python",
   "nbconvert_exporter": "python",
   "pygments_lexer": "ipython3",
   "version": "3.10.4"
  }
 },
 "nbformat": 4,
 "nbformat_minor": 2
}
