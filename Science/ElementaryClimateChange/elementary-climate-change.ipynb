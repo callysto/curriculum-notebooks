{
 "cells": [
  {
   "cell_type": "markdown",
   "metadata": {},
   "source": [
    "![Callysto.ca Banner](https://github.com/callysto/curriculum-notebooks/blob/master/callysto-notebook-banner-top.jpg?raw=true)"
   ]
  },
  {
   "cell_type": "markdown",
   "metadata": {},
   "source": [
    "# Elementary Climate Change\n",
    "\n",
    "A number of indicators in the environment around use can tell us about the extent of climate change in the world today.\n",
    "* Duration and Thickness of Sea Ice\n",
    "* Ocean Levels\n",
    "* Permafrost Changes\n",
    "* Number of Forest Fires\n",
    "\n",
    "In this notebok we will explore data on each of these indicators. At the end you will be asked to reflect on some questions to determine what you have learned based on the data. In order to examine this topic we took. data from the [Global Climte Change-Vital Signs of the Planet](https://climate.nasa.gov/) website published by NASA. This website has many other interesting details on it including other visualizations, facts and some information on how we can mitigate climate change. Parts of this website will be interesting to teachers and parts will also be useful for students to explore.\n",
    "\n",
    "Run the code cell below to import the libraries we need for this project. Libraries are pre-made code that make it easier to analyze our data. \n",
    "\n",
    "Pandas is a library that helps us with data analysis, and plotly express is a library that helps us to make visualizations. \n",
    "\n",
    "Without importing these libraries we would have to use much more code to analyze our data and generate visualizations. We import the libraries with abbreviations, or aliases, so that we have less typing to do in each line of our code below. The first two lines in the cell below import libraries. The cells below that import our data sets so that we can work with them to build visualizations. "
   ]
  },
  {
   "cell_type": "code",
   "execution_count": 1,
   "metadata": {},
   "outputs": [],
   "source": [
    "import pandas as pd\n",
    "import plotly.express as px\n",
    "ice_sheets = pd.read_csv('https://raw.githubusercontent.com/callysto/data-files/main/Science/ElementaryClimateChange/icesheets.csv')\n",
    "ocean_warming = pd.read_csv('https://raw.githubusercontent.com/callysto/data-files/main/Science/ElementaryClimateChange/oceanwarm.csv')\n",
    "temperature = pd.read_csv('https://raw.githubusercontent.com/callysto/data-files/main/Science/ElementaryClimateChange/temperature.csv')"
   ]
  },
  {
   "cell_type": "markdown",
   "metadata": {},
   "source": [
    "## Sea Ice\n",
    "\n",
    "The code block below build a data frame from the data on sea ice. A data frame is a way that the python programming language we use stores data. A data frame is kind of like a spreadsheet.\n"
   ]
  },
  {
   "cell_type": "code",
   "execution_count": 2,
   "metadata": {},
   "outputs": [
    {
     "data": {
      "text/html": [
       "<div>\n",
       "<style scoped>\n",
       "    .dataframe tbody tr th:only-of-type {\n",
       "        vertical-align: middle;\n",
       "    }\n",
       "\n",
       "    .dataframe tbody tr th {\n",
       "        vertical-align: top;\n",
       "    }\n",
       "\n",
       "    .dataframe thead th {\n",
       "        text-align: right;\n",
       "    }\n",
       "</style>\n",
       "<table border=\"1\" class=\"dataframe\">\n",
       "  <thead>\n",
       "    <tr style=\"text-align: right;\">\n",
       "      <th></th>\n",
       "      <th>Time</th>\n",
       "      <th>Antarctic Mass</th>\n",
       "      <th>Antartic mass 1-sigma uncertainty</th>\n",
       "    </tr>\n",
       "  </thead>\n",
       "  <tbody>\n",
       "    <tr>\n",
       "      <th>0</th>\n",
       "      <td>2002.29</td>\n",
       "      <td>0.00</td>\n",
       "      <td>178.90</td>\n",
       "    </tr>\n",
       "    <tr>\n",
       "      <th>1</th>\n",
       "      <td>2002.35</td>\n",
       "      <td>17.63</td>\n",
       "      <td>102.47</td>\n",
       "    </tr>\n",
       "    <tr>\n",
       "      <th>2</th>\n",
       "      <td>2002.62</td>\n",
       "      <td>-62.83</td>\n",
       "      <td>83.09</td>\n",
       "    </tr>\n",
       "    <tr>\n",
       "      <th>3</th>\n",
       "      <td>2002.71</td>\n",
       "      <td>43.30</td>\n",
       "      <td>97.19</td>\n",
       "    </tr>\n",
       "    <tr>\n",
       "      <th>4</th>\n",
       "      <td>2002.79</td>\n",
       "      <td>59.90</td>\n",
       "      <td>61.82</td>\n",
       "    </tr>\n",
       "    <tr>\n",
       "      <th>...</th>\n",
       "      <td>...</td>\n",
       "      <td>...</td>\n",
       "      <td>...</td>\n",
       "    </tr>\n",
       "    <tr>\n",
       "      <th>213</th>\n",
       "      <td>2022.79</td>\n",
       "      <td>2415.28</td>\n",
       "      <td>33.54</td>\n",
       "    </tr>\n",
       "    <tr>\n",
       "      <th>214</th>\n",
       "      <td>2022.87</td>\n",
       "      <td>2349.74</td>\n",
       "      <td>39.99</td>\n",
       "    </tr>\n",
       "    <tr>\n",
       "      <th>215</th>\n",
       "      <td>2022.96</td>\n",
       "      <td>2352.28</td>\n",
       "      <td>47.38</td>\n",
       "    </tr>\n",
       "    <tr>\n",
       "      <th>216</th>\n",
       "      <td>2023.04</td>\n",
       "      <td>2425.63</td>\n",
       "      <td>55.48</td>\n",
       "    </tr>\n",
       "    <tr>\n",
       "      <th>217</th>\n",
       "      <td>2023.12</td>\n",
       "      <td>2481.37</td>\n",
       "      <td>65.02</td>\n",
       "    </tr>\n",
       "  </tbody>\n",
       "</table>\n",
       "<p>218 rows × 3 columns</p>\n",
       "</div>"
      ],
      "text/plain": [
       "        Time  Antarctic Mass  Antartic mass 1-sigma uncertainty\n",
       "0    2002.29            0.00                             178.90\n",
       "1    2002.35           17.63                             102.47\n",
       "2    2002.62          -62.83                              83.09\n",
       "3    2002.71           43.30                              97.19\n",
       "4    2002.79           59.90                              61.82\n",
       "..       ...             ...                                ...\n",
       "213  2022.79         2415.28                              33.54\n",
       "214  2022.87         2349.74                              39.99\n",
       "215  2022.96         2352.28                              47.38\n",
       "216  2023.04         2425.63                              55.48\n",
       "217  2023.12         2481.37                              65.02\n",
       "\n",
       "[218 rows x 3 columns]"
      ]
     },
     "execution_count": 2,
     "metadata": {},
     "output_type": "execute_result"
    }
   ],
   "source": [
    "ice_sheets = pd.read_csv('https://raw.githubusercontent.com/callysto/data-files/main/Science/ElementaryClimateChange/icesheets.csv')\n",
    "ice_sheets"
   ]
  },
  {
   "cell_type": "markdown",
   "metadata": {},
   "source": [
    "What do you notice about the data frame we created with that code? \n",
    "\n",
    "From looking at the numbers at the data frame we can see it has 3 columns and 218 rows. Each row represents a data point. If you look at the last row in the data frame above you can see it is labelled 217 but the numbers below the data set say that we have 218 rows. That may seem a bit strange at first but that is because python starts counting at 0.\n",
    "\n",
    "We can see the first 5 rows and the last 5 rows of data in the data frame above. If we want to see the first twenty rows of data we can run the code cell with the instruction below. "
   ]
  },
  {
   "cell_type": "code",
   "execution_count": 10,
   "metadata": {},
   "outputs": [
    {
     "data": {
      "text/html": [
       "<div>\n",
       "<style scoped>\n",
       "    .dataframe tbody tr th:only-of-type {\n",
       "        vertical-align: middle;\n",
       "    }\n",
       "\n",
       "    .dataframe tbody tr th {\n",
       "        vertical-align: top;\n",
       "    }\n",
       "\n",
       "    .dataframe thead th {\n",
       "        text-align: right;\n",
       "    }\n",
       "</style>\n",
       "<table border=\"1\" class=\"dataframe\">\n",
       "  <thead>\n",
       "    <tr style=\"text-align: right;\">\n",
       "      <th></th>\n",
       "      <th>Time</th>\n",
       "      <th>Antarctic Mass</th>\n",
       "      <th>Antartic mass 1-sigma uncertainty</th>\n",
       "    </tr>\n",
       "  </thead>\n",
       "  <tbody>\n",
       "    <tr>\n",
       "      <th>0</th>\n",
       "      <td>2002.29</td>\n",
       "      <td>0.00</td>\n",
       "      <td>178.90</td>\n",
       "    </tr>\n",
       "    <tr>\n",
       "      <th>1</th>\n",
       "      <td>2002.35</td>\n",
       "      <td>17.63</td>\n",
       "      <td>102.47</td>\n",
       "    </tr>\n",
       "    <tr>\n",
       "      <th>2</th>\n",
       "      <td>2002.62</td>\n",
       "      <td>-62.83</td>\n",
       "      <td>83.09</td>\n",
       "    </tr>\n",
       "    <tr>\n",
       "      <th>3</th>\n",
       "      <td>2002.71</td>\n",
       "      <td>43.30</td>\n",
       "      <td>97.19</td>\n",
       "    </tr>\n",
       "    <tr>\n",
       "      <th>4</th>\n",
       "      <td>2002.79</td>\n",
       "      <td>59.90</td>\n",
       "      <td>61.82</td>\n",
       "    </tr>\n",
       "    <tr>\n",
       "      <th>5</th>\n",
       "      <td>2002.87</td>\n",
       "      <td>-71.58</td>\n",
       "      <td>58.68</td>\n",
       "    </tr>\n",
       "    <tr>\n",
       "      <th>6</th>\n",
       "      <td>2002.96</td>\n",
       "      <td>-48.89</td>\n",
       "      <td>59.19</td>\n",
       "    </tr>\n",
       "    <tr>\n",
       "      <th>7</th>\n",
       "      <td>2003.04</td>\n",
       "      <td>-48.71</td>\n",
       "      <td>64.73</td>\n",
       "    </tr>\n",
       "    <tr>\n",
       "      <th>8</th>\n",
       "      <td>2003.12</td>\n",
       "      <td>-200.79</td>\n",
       "      <td>48.10</td>\n",
       "    </tr>\n",
       "    <tr>\n",
       "      <th>9</th>\n",
       "      <td>2003.20</td>\n",
       "      <td>-171.01</td>\n",
       "      <td>42.95</td>\n",
       "    </tr>\n",
       "    <tr>\n",
       "      <th>10</th>\n",
       "      <td>2003.29</td>\n",
       "      <td>-44.00</td>\n",
       "      <td>43.58</td>\n",
       "    </tr>\n",
       "    <tr>\n",
       "      <th>11</th>\n",
       "      <td>2003.36</td>\n",
       "      <td>1.53</td>\n",
       "      <td>48.24</td>\n",
       "    </tr>\n",
       "    <tr>\n",
       "      <th>12</th>\n",
       "      <td>2003.54</td>\n",
       "      <td>-130.07</td>\n",
       "      <td>37.86</td>\n",
       "    </tr>\n",
       "    <tr>\n",
       "      <th>13</th>\n",
       "      <td>2003.62</td>\n",
       "      <td>-123.81</td>\n",
       "      <td>39.87</td>\n",
       "    </tr>\n",
       "    <tr>\n",
       "      <th>14</th>\n",
       "      <td>2003.71</td>\n",
       "      <td>-133.11</td>\n",
       "      <td>39.61</td>\n",
       "    </tr>\n",
       "    <tr>\n",
       "      <th>15</th>\n",
       "      <td>2003.79</td>\n",
       "      <td>-50.21</td>\n",
       "      <td>40.19</td>\n",
       "    </tr>\n",
       "    <tr>\n",
       "      <th>16</th>\n",
       "      <td>2003.87</td>\n",
       "      <td>-110.16</td>\n",
       "      <td>40.89</td>\n",
       "    </tr>\n",
       "    <tr>\n",
       "      <th>17</th>\n",
       "      <td>2003.96</td>\n",
       "      <td>-275.30</td>\n",
       "      <td>39.82</td>\n",
       "    </tr>\n",
       "    <tr>\n",
       "      <th>18</th>\n",
       "      <td>2004.02</td>\n",
       "      <td>-331.67</td>\n",
       "      <td>43.72</td>\n",
       "    </tr>\n",
       "    <tr>\n",
       "      <th>19</th>\n",
       "      <td>2004.13</td>\n",
       "      <td>-490.94</td>\n",
       "      <td>40.46</td>\n",
       "    </tr>\n",
       "  </tbody>\n",
       "</table>\n",
       "</div>"
      ],
      "text/plain": [
       "       Time  Antarctic Mass  Antartic mass 1-sigma uncertainty\n",
       "0   2002.29            0.00                             178.90\n",
       "1   2002.35           17.63                             102.47\n",
       "2   2002.62          -62.83                              83.09\n",
       "3   2002.71           43.30                              97.19\n",
       "4   2002.79           59.90                              61.82\n",
       "5   2002.87          -71.58                              58.68\n",
       "6   2002.96          -48.89                              59.19\n",
       "7   2003.04          -48.71                              64.73\n",
       "8   2003.12         -200.79                              48.10\n",
       "9   2003.20         -171.01                              42.95\n",
       "10  2003.29          -44.00                              43.58\n",
       "11  2003.36            1.53                              48.24\n",
       "12  2003.54         -130.07                              37.86\n",
       "13  2003.62         -123.81                              39.87\n",
       "14  2003.71         -133.11                              39.61\n",
       "15  2003.79          -50.21                              40.19\n",
       "16  2003.87         -110.16                              40.89\n",
       "17  2003.96         -275.30                              39.82\n",
       "18  2004.02         -331.67                              43.72\n",
       "19  2004.13         -490.94                              40.46"
      ]
     },
     "execution_count": 10,
     "metadata": {},
     "output_type": "execute_result"
    }
   ],
   "source": [
    "ice_sheets.head(20)"
   ]
  },
  {
   "cell_type": "markdown",
   "metadata": {},
   "source": [
    "If we want to see the last twenty rows in the data set we can run the code with the instruction below. "
   ]
  },
  {
   "cell_type": "code",
   "execution_count": 11,
   "metadata": {},
   "outputs": [
    {
     "data": {
      "text/html": [
       "<div>\n",
       "<style scoped>\n",
       "    .dataframe tbody tr th:only-of-type {\n",
       "        vertical-align: middle;\n",
       "    }\n",
       "\n",
       "    .dataframe tbody tr th {\n",
       "        vertical-align: top;\n",
       "    }\n",
       "\n",
       "    .dataframe thead th {\n",
       "        text-align: right;\n",
       "    }\n",
       "</style>\n",
       "<table border=\"1\" class=\"dataframe\">\n",
       "  <thead>\n",
       "    <tr style=\"text-align: right;\">\n",
       "      <th></th>\n",
       "      <th>Time</th>\n",
       "      <th>Antarctic Mass</th>\n",
       "      <th>Antartic mass 1-sigma uncertainty</th>\n",
       "    </tr>\n",
       "  </thead>\n",
       "  <tbody>\n",
       "    <tr>\n",
       "      <th>198</th>\n",
       "      <td>2021.54</td>\n",
       "      <td>2675.54</td>\n",
       "      <td>26.69</td>\n",
       "    </tr>\n",
       "    <tr>\n",
       "      <th>199</th>\n",
       "      <td>2021.62</td>\n",
       "      <td>2615.17</td>\n",
       "      <td>26.73</td>\n",
       "    </tr>\n",
       "    <tr>\n",
       "      <th>200</th>\n",
       "      <td>2021.71</td>\n",
       "      <td>2702.15</td>\n",
       "      <td>26.69</td>\n",
       "    </tr>\n",
       "    <tr>\n",
       "      <th>201</th>\n",
       "      <td>2021.79</td>\n",
       "      <td>2504.48</td>\n",
       "      <td>26.69</td>\n",
       "    </tr>\n",
       "    <tr>\n",
       "      <th>202</th>\n",
       "      <td>2021.87</td>\n",
       "      <td>2743.28</td>\n",
       "      <td>26.78</td>\n",
       "    </tr>\n",
       "    <tr>\n",
       "      <th>203</th>\n",
       "      <td>2021.96</td>\n",
       "      <td>2646.60</td>\n",
       "      <td>26.71</td>\n",
       "    </tr>\n",
       "    <tr>\n",
       "      <th>204</th>\n",
       "      <td>2022.04</td>\n",
       "      <td>2740.35</td>\n",
       "      <td>26.73</td>\n",
       "    </tr>\n",
       "    <tr>\n",
       "      <th>205</th>\n",
       "      <td>2022.12</td>\n",
       "      <td>2699.54</td>\n",
       "      <td>26.86</td>\n",
       "    </tr>\n",
       "    <tr>\n",
       "      <th>206</th>\n",
       "      <td>2022.20</td>\n",
       "      <td>2623.45</td>\n",
       "      <td>27.50</td>\n",
       "    </tr>\n",
       "    <tr>\n",
       "      <th>207</th>\n",
       "      <td>2022.29</td>\n",
       "      <td>2384.55</td>\n",
       "      <td>28.26</td>\n",
       "    </tr>\n",
       "    <tr>\n",
       "      <th>208</th>\n",
       "      <td>2022.37</td>\n",
       "      <td>2289.38</td>\n",
       "      <td>29.08</td>\n",
       "    </tr>\n",
       "    <tr>\n",
       "      <th>209</th>\n",
       "      <td>2022.45</td>\n",
       "      <td>2310.88</td>\n",
       "      <td>29.87</td>\n",
       "    </tr>\n",
       "    <tr>\n",
       "      <th>210</th>\n",
       "      <td>2022.54</td>\n",
       "      <td>2419.74</td>\n",
       "      <td>30.71</td>\n",
       "    </tr>\n",
       "    <tr>\n",
       "      <th>211</th>\n",
       "      <td>2022.62</td>\n",
       "      <td>2374.28</td>\n",
       "      <td>31.80</td>\n",
       "    </tr>\n",
       "    <tr>\n",
       "      <th>212</th>\n",
       "      <td>2022.71</td>\n",
       "      <td>2359.21</td>\n",
       "      <td>32.68</td>\n",
       "    </tr>\n",
       "    <tr>\n",
       "      <th>213</th>\n",
       "      <td>2022.79</td>\n",
       "      <td>2415.28</td>\n",
       "      <td>33.54</td>\n",
       "    </tr>\n",
       "    <tr>\n",
       "      <th>214</th>\n",
       "      <td>2022.87</td>\n",
       "      <td>2349.74</td>\n",
       "      <td>39.99</td>\n",
       "    </tr>\n",
       "    <tr>\n",
       "      <th>215</th>\n",
       "      <td>2022.96</td>\n",
       "      <td>2352.28</td>\n",
       "      <td>47.38</td>\n",
       "    </tr>\n",
       "    <tr>\n",
       "      <th>216</th>\n",
       "      <td>2023.04</td>\n",
       "      <td>2425.63</td>\n",
       "      <td>55.48</td>\n",
       "    </tr>\n",
       "    <tr>\n",
       "      <th>217</th>\n",
       "      <td>2023.12</td>\n",
       "      <td>2481.37</td>\n",
       "      <td>65.02</td>\n",
       "    </tr>\n",
       "  </tbody>\n",
       "</table>\n",
       "</div>"
      ],
      "text/plain": [
       "        Time  Antarctic Mass  Antartic mass 1-sigma uncertainty\n",
       "198  2021.54         2675.54                              26.69\n",
       "199  2021.62         2615.17                              26.73\n",
       "200  2021.71         2702.15                              26.69\n",
       "201  2021.79         2504.48                              26.69\n",
       "202  2021.87         2743.28                              26.78\n",
       "203  2021.96         2646.60                              26.71\n",
       "204  2022.04         2740.35                              26.73\n",
       "205  2022.12         2699.54                              26.86\n",
       "206  2022.20         2623.45                              27.50\n",
       "207  2022.29         2384.55                              28.26\n",
       "208  2022.37         2289.38                              29.08\n",
       "209  2022.45         2310.88                              29.87\n",
       "210  2022.54         2419.74                              30.71\n",
       "211  2022.62         2374.28                              31.80\n",
       "212  2022.71         2359.21                              32.68\n",
       "213  2022.79         2415.28                              33.54\n",
       "214  2022.87         2349.74                              39.99\n",
       "215  2022.96         2352.28                              47.38\n",
       "216  2023.04         2425.63                              55.48\n",
       "217  2023.12         2481.37                              65.02"
      ]
     },
     "execution_count": 11,
     "metadata": {},
     "output_type": "execute_result"
    }
   ],
   "source": [
    "ice_sheets.tail(20)"
   ]
  },
  {
   "cell_type": "markdown",
   "metadata": {},
   "source": [
    "You can view any number of rows starting from the beginning of the data frame by changing the number in the brackets in the cell with the word head.\n",
    "\n",
    "You can also change the number in the brackets in the cell with the word tail to view a different number of rows at the bottom of the data frame. \n",
    "\n",
    "Run the code below to generate a line graph about the ice sheets. "
   ]
  },
  {
   "cell_type": "code",
   "execution_count": 14,
   "metadata": {},
   "outputs": [
    {
     "data": {
      "application/vnd.plotly.v1+json": {
       "config": {
        "plotlyServerURL": "https://plot.ly"
       },
       "data": [
        {
         "hovertemplate": "Time=%{x}<br>Antarctic Mass=%{y}<extra></extra>",
         "legendgroup": "",
         "line": {
          "color": "#636efa",
          "dash": "solid"
         },
         "marker": {
          "symbol": "circle"
         },
         "mode": "lines",
         "name": "",
         "orientation": "v",
         "showlegend": false,
         "type": "scatter",
         "x": [
          2002.29,
          2002.35,
          2002.62,
          2002.71,
          2002.79,
          2002.87,
          2002.96,
          2003.04,
          2003.12,
          2003.2,
          2003.29,
          2003.36,
          2003.54,
          2003.62,
          2003.71,
          2003.79,
          2003.87,
          2003.96,
          2004.02,
          2004.13,
          2004.21,
          2004.29,
          2004.37,
          2004.46,
          2004.54,
          2004.62,
          2004.71,
          2004.79,
          2004.87,
          2004.96,
          2005.04,
          2005.12,
          2005.2,
          2005.29,
          2005.37,
          2005.46,
          2005.54,
          2005.62,
          2005.71,
          2005.79,
          2005.87,
          2005.96,
          2006.04,
          2006.12,
          2006.2,
          2006.29,
          2006.37,
          2006.45,
          2006.54,
          2006.62,
          2006.71,
          2006.79,
          2006.87,
          2006.96,
          2007.04,
          2007.12,
          2007.2,
          2007.29,
          2007.37,
          2007.45,
          2007.54,
          2007.62,
          2007.71,
          2007.79,
          2007.87,
          2007.96,
          2008.04,
          2008.12,
          2008.21,
          2008.29,
          2008.37,
          2008.46,
          2008.54,
          2008.62,
          2008.71,
          2008.79,
          2008.87,
          2008.96,
          2009.04,
          2009.12,
          2009.2,
          2009.29,
          2009.37,
          2009.46,
          2009.54,
          2009.62,
          2009.71,
          2009.79,
          2009.87,
          2009.96,
          2010.04,
          2010.12,
          2010.2,
          2010.29,
          2010.37,
          2010.45,
          2010.54,
          2010.62,
          2010.71,
          2010.79,
          2010.87,
          2010.95,
          2011.13,
          2011.2,
          2011.29,
          2011.37,
          2011.54,
          2011.62,
          2011.71,
          2011.79,
          2011.83,
          2012,
          2012.04,
          2012.12,
          2012.21,
          2012.26,
          2012.46,
          2012.54,
          2012.62,
          2012.7,
          2012.88,
          2012.96,
          2013.04,
          2013.12,
          2013.3,
          2013.37,
          2013.46,
          2013.54,
          2013.79,
          2013.87,
          2013.96,
          2014.02,
          2014.2,
          2014.29,
          2014.37,
          2014.45,
          2014.62,
          2014.71,
          2014.79,
          2014.88,
          2015.06,
          2015.12,
          2015.2,
          2015.29,
          2015.32,
          2015.53,
          2015.62,
          2015.7,
          2015.98,
          2016.04,
          2016.12,
          2016.21,
          2016.38,
          2016.46,
          2016.54,
          2016.64,
          2016.91,
          2016.98,
          2017.06,
          2017.25,
          2017.31,
          2017.36,
          2017.44,
          2018.45,
          2018.52,
          2018.83,
          2018.87,
          2018.96,
          2019.04,
          2019.12,
          2019.2,
          2019.29,
          2019.37,
          2019.45,
          2019.54,
          2019.62,
          2019.71,
          2019.79,
          2019.87,
          2019.96,
          2020.04,
          2020.12,
          2020.21,
          2020.29,
          2020.37,
          2020.46,
          2020.54,
          2020.62,
          2020.71,
          2020.79,
          2020.87,
          2020.96,
          2021.04,
          2021.12,
          2021.2,
          2021.29,
          2021.37,
          2021.46,
          2021.54,
          2021.62,
          2021.71,
          2021.79,
          2021.87,
          2021.96,
          2022.04,
          2022.12,
          2022.2,
          2022.29,
          2022.37,
          2022.45,
          2022.54,
          2022.62,
          2022.71,
          2022.79,
          2022.87,
          2022.96,
          2023.04,
          2023.12
         ],
         "xaxis": "x",
         "y": [
          0,
          17.63,
          -62.83,
          43.3,
          59.9,
          -71.58,
          -48.89,
          -48.71,
          -200.79,
          -171.01,
          -44,
          1.53,
          -130.07,
          -123.81,
          -133.11,
          -50.21,
          -110.16,
          -275.3,
          -331.67,
          -490.94,
          -338.94,
          -386.59,
          -155.72,
          -188.84,
          -313.91,
          -168.33,
          -162.86,
          -88.73,
          -228.91,
          -307.51,
          -393.54,
          -456.47,
          -406.71,
          -252.41,
          -229.92,
          -205.36,
          -160.65,
          -211.25,
          -114.94,
          -108.78,
          -63.22,
          -160.96,
          -225.78,
          -319.08,
          -184.56,
          -160.6,
          -80.17,
          -51.7,
          -101.44,
          -14.97,
          -24.58,
          -98.54,
          -90.76,
          -235.65,
          -438.81,
          -429.73,
          -361.7,
          -338.02,
          -182.19,
          -192.97,
          -271.43,
          -234.8,
          -162.19,
          -249.88,
          -440.69,
          -522.81,
          -730.01,
          -608.04,
          -740.73,
          -565.26,
          -474.14,
          -558.42,
          -653.06,
          -605.65,
          -447.64,
          -536.02,
          -522.71,
          -626.98,
          -707.5,
          -681.43,
          -618.18,
          -582.4,
          -555.72,
          -542.25,
          -440.36,
          -472.49,
          -485.2,
          -540.91,
          -526.04,
          -634.1,
          -803.22,
          -809.92,
          -691.94,
          -762.56,
          -784.01,
          -795.89,
          -999.46,
          -930.01,
          -850.4,
          -883.03,
          -903.89,
          -916.62,
          1004.65,
          1021.39,
          1034.75,
          -967.44,
          -916.74,
          -932.65,
          -843.62,
          -890.1,
          -884.46,
          1151.81,
          1080.86,
          1144.18,
          1122.48,
          1062.48,
          1098.15,
          1066.04,
          -987.21,
          -954.97,
          1076.65,
          1122.36,
          1291.93,
          1398.62,
          1142.5,
          1244.13,
          1252.5,
          1217.02,
          1307.78,
          1354.04,
          1404.99,
          1513.63,
          1622.81,
          1540.82,
          1447.95,
          1492.11,
          1542.58,
          1370.94,
          1458.45,
          1533.54,
          1836.27,
          1912.27,
          1877.29,
          1856.22,
          1785.13,
          1756.97,
          1904.43,
          1857.23,
          1901.5,
          1922.85,
          1997.9,
          1934.54,
          1802.94,
          1783.09,
          1667.12,
          1621.49,
          1688.48,
          1599.71,
          1621.84,
          1951.16,
          1868.52,
          1831.21,
          1838.01,
          2014.54,
          2042.08,
          2185.17,
          2142.61,
          2282.43,
          2400.08,
          2459.7,
          2406.01,
          2372.62,
          2212.82,
          2268.82,
          2131.73,
          2293.55,
          2336.33,
          2318.38,
          2327.52,
          2434.39,
          2678.88,
          2781.45,
          2702.61,
          2579.73,
          2457.02,
          2399.26,
          2449.85,
          2411.53,
          2473.15,
          2535.98,
          2604.2,
          2651.17,
          2863.62,
          2651.85,
          2679.07,
          2463.17,
          2491.3,
          2664.7,
          2675.54,
          2615.17,
          2702.15,
          2504.48,
          2743.28,
          2646.6,
          2740.35,
          2699.54,
          2623.45,
          2384.55,
          2289.38,
          2310.88,
          2419.74,
          2374.28,
          2359.21,
          2415.28,
          2349.74,
          2352.28,
          2425.63,
          2481.37
         ],
         "yaxis": "y"
        }
       ],
       "layout": {
        "legend": {
         "tracegroupgap": 0
        },
        "template": {
         "data": {
          "bar": [
           {
            "error_x": {
             "color": "#2a3f5f"
            },
            "error_y": {
             "color": "#2a3f5f"
            },
            "marker": {
             "line": {
              "color": "#E5ECF6",
              "width": 0.5
             },
             "pattern": {
              "fillmode": "overlay",
              "size": 10,
              "solidity": 0.2
             }
            },
            "type": "bar"
           }
          ],
          "barpolar": [
           {
            "marker": {
             "line": {
              "color": "#E5ECF6",
              "width": 0.5
             },
             "pattern": {
              "fillmode": "overlay",
              "size": 10,
              "solidity": 0.2
             }
            },
            "type": "barpolar"
           }
          ],
          "carpet": [
           {
            "aaxis": {
             "endlinecolor": "#2a3f5f",
             "gridcolor": "white",
             "linecolor": "white",
             "minorgridcolor": "white",
             "startlinecolor": "#2a3f5f"
            },
            "baxis": {
             "endlinecolor": "#2a3f5f",
             "gridcolor": "white",
             "linecolor": "white",
             "minorgridcolor": "white",
             "startlinecolor": "#2a3f5f"
            },
            "type": "carpet"
           }
          ],
          "choropleth": [
           {
            "colorbar": {
             "outlinewidth": 0,
             "ticks": ""
            },
            "type": "choropleth"
           }
          ],
          "contour": [
           {
            "colorbar": {
             "outlinewidth": 0,
             "ticks": ""
            },
            "colorscale": [
             [
              0,
              "#0d0887"
             ],
             [
              0.1111111111111111,
              "#46039f"
             ],
             [
              0.2222222222222222,
              "#7201a8"
             ],
             [
              0.3333333333333333,
              "#9c179e"
             ],
             [
              0.4444444444444444,
              "#bd3786"
             ],
             [
              0.5555555555555556,
              "#d8576b"
             ],
             [
              0.6666666666666666,
              "#ed7953"
             ],
             [
              0.7777777777777778,
              "#fb9f3a"
             ],
             [
              0.8888888888888888,
              "#fdca26"
             ],
             [
              1,
              "#f0f921"
             ]
            ],
            "type": "contour"
           }
          ],
          "contourcarpet": [
           {
            "colorbar": {
             "outlinewidth": 0,
             "ticks": ""
            },
            "type": "contourcarpet"
           }
          ],
          "heatmap": [
           {
            "colorbar": {
             "outlinewidth": 0,
             "ticks": ""
            },
            "colorscale": [
             [
              0,
              "#0d0887"
             ],
             [
              0.1111111111111111,
              "#46039f"
             ],
             [
              0.2222222222222222,
              "#7201a8"
             ],
             [
              0.3333333333333333,
              "#9c179e"
             ],
             [
              0.4444444444444444,
              "#bd3786"
             ],
             [
              0.5555555555555556,
              "#d8576b"
             ],
             [
              0.6666666666666666,
              "#ed7953"
             ],
             [
              0.7777777777777778,
              "#fb9f3a"
             ],
             [
              0.8888888888888888,
              "#fdca26"
             ],
             [
              1,
              "#f0f921"
             ]
            ],
            "type": "heatmap"
           }
          ],
          "heatmapgl": [
           {
            "colorbar": {
             "outlinewidth": 0,
             "ticks": ""
            },
            "colorscale": [
             [
              0,
              "#0d0887"
             ],
             [
              0.1111111111111111,
              "#46039f"
             ],
             [
              0.2222222222222222,
              "#7201a8"
             ],
             [
              0.3333333333333333,
              "#9c179e"
             ],
             [
              0.4444444444444444,
              "#bd3786"
             ],
             [
              0.5555555555555556,
              "#d8576b"
             ],
             [
              0.6666666666666666,
              "#ed7953"
             ],
             [
              0.7777777777777778,
              "#fb9f3a"
             ],
             [
              0.8888888888888888,
              "#fdca26"
             ],
             [
              1,
              "#f0f921"
             ]
            ],
            "type": "heatmapgl"
           }
          ],
          "histogram": [
           {
            "marker": {
             "pattern": {
              "fillmode": "overlay",
              "size": 10,
              "solidity": 0.2
             }
            },
            "type": "histogram"
           }
          ],
          "histogram2d": [
           {
            "colorbar": {
             "outlinewidth": 0,
             "ticks": ""
            },
            "colorscale": [
             [
              0,
              "#0d0887"
             ],
             [
              0.1111111111111111,
              "#46039f"
             ],
             [
              0.2222222222222222,
              "#7201a8"
             ],
             [
              0.3333333333333333,
              "#9c179e"
             ],
             [
              0.4444444444444444,
              "#bd3786"
             ],
             [
              0.5555555555555556,
              "#d8576b"
             ],
             [
              0.6666666666666666,
              "#ed7953"
             ],
             [
              0.7777777777777778,
              "#fb9f3a"
             ],
             [
              0.8888888888888888,
              "#fdca26"
             ],
             [
              1,
              "#f0f921"
             ]
            ],
            "type": "histogram2d"
           }
          ],
          "histogram2dcontour": [
           {
            "colorbar": {
             "outlinewidth": 0,
             "ticks": ""
            },
            "colorscale": [
             [
              0,
              "#0d0887"
             ],
             [
              0.1111111111111111,
              "#46039f"
             ],
             [
              0.2222222222222222,
              "#7201a8"
             ],
             [
              0.3333333333333333,
              "#9c179e"
             ],
             [
              0.4444444444444444,
              "#bd3786"
             ],
             [
              0.5555555555555556,
              "#d8576b"
             ],
             [
              0.6666666666666666,
              "#ed7953"
             ],
             [
              0.7777777777777778,
              "#fb9f3a"
             ],
             [
              0.8888888888888888,
              "#fdca26"
             ],
             [
              1,
              "#f0f921"
             ]
            ],
            "type": "histogram2dcontour"
           }
          ],
          "mesh3d": [
           {
            "colorbar": {
             "outlinewidth": 0,
             "ticks": ""
            },
            "type": "mesh3d"
           }
          ],
          "parcoords": [
           {
            "line": {
             "colorbar": {
              "outlinewidth": 0,
              "ticks": ""
             }
            },
            "type": "parcoords"
           }
          ],
          "pie": [
           {
            "automargin": true,
            "type": "pie"
           }
          ],
          "scatter": [
           {
            "fillpattern": {
             "fillmode": "overlay",
             "size": 10,
             "solidity": 0.2
            },
            "type": "scatter"
           }
          ],
          "scatter3d": [
           {
            "line": {
             "colorbar": {
              "outlinewidth": 0,
              "ticks": ""
             }
            },
            "marker": {
             "colorbar": {
              "outlinewidth": 0,
              "ticks": ""
             }
            },
            "type": "scatter3d"
           }
          ],
          "scattercarpet": [
           {
            "marker": {
             "colorbar": {
              "outlinewidth": 0,
              "ticks": ""
             }
            },
            "type": "scattercarpet"
           }
          ],
          "scattergeo": [
           {
            "marker": {
             "colorbar": {
              "outlinewidth": 0,
              "ticks": ""
             }
            },
            "type": "scattergeo"
           }
          ],
          "scattergl": [
           {
            "marker": {
             "colorbar": {
              "outlinewidth": 0,
              "ticks": ""
             }
            },
            "type": "scattergl"
           }
          ],
          "scattermapbox": [
           {
            "marker": {
             "colorbar": {
              "outlinewidth": 0,
              "ticks": ""
             }
            },
            "type": "scattermapbox"
           }
          ],
          "scatterpolar": [
           {
            "marker": {
             "colorbar": {
              "outlinewidth": 0,
              "ticks": ""
             }
            },
            "type": "scatterpolar"
           }
          ],
          "scatterpolargl": [
           {
            "marker": {
             "colorbar": {
              "outlinewidth": 0,
              "ticks": ""
             }
            },
            "type": "scatterpolargl"
           }
          ],
          "scatterternary": [
           {
            "marker": {
             "colorbar": {
              "outlinewidth": 0,
              "ticks": ""
             }
            },
            "type": "scatterternary"
           }
          ],
          "surface": [
           {
            "colorbar": {
             "outlinewidth": 0,
             "ticks": ""
            },
            "colorscale": [
             [
              0,
              "#0d0887"
             ],
             [
              0.1111111111111111,
              "#46039f"
             ],
             [
              0.2222222222222222,
              "#7201a8"
             ],
             [
              0.3333333333333333,
              "#9c179e"
             ],
             [
              0.4444444444444444,
              "#bd3786"
             ],
             [
              0.5555555555555556,
              "#d8576b"
             ],
             [
              0.6666666666666666,
              "#ed7953"
             ],
             [
              0.7777777777777778,
              "#fb9f3a"
             ],
             [
              0.8888888888888888,
              "#fdca26"
             ],
             [
              1,
              "#f0f921"
             ]
            ],
            "type": "surface"
           }
          ],
          "table": [
           {
            "cells": {
             "fill": {
              "color": "#EBF0F8"
             },
             "line": {
              "color": "white"
             }
            },
            "header": {
             "fill": {
              "color": "#C8D4E3"
             },
             "line": {
              "color": "white"
             }
            },
            "type": "table"
           }
          ]
         },
         "layout": {
          "annotationdefaults": {
           "arrowcolor": "#2a3f5f",
           "arrowhead": 0,
           "arrowwidth": 1
          },
          "autotypenumbers": "strict",
          "coloraxis": {
           "colorbar": {
            "outlinewidth": 0,
            "ticks": ""
           }
          },
          "colorscale": {
           "diverging": [
            [
             0,
             "#8e0152"
            ],
            [
             0.1,
             "#c51b7d"
            ],
            [
             0.2,
             "#de77ae"
            ],
            [
             0.3,
             "#f1b6da"
            ],
            [
             0.4,
             "#fde0ef"
            ],
            [
             0.5,
             "#f7f7f7"
            ],
            [
             0.6,
             "#e6f5d0"
            ],
            [
             0.7,
             "#b8e186"
            ],
            [
             0.8,
             "#7fbc41"
            ],
            [
             0.9,
             "#4d9221"
            ],
            [
             1,
             "#276419"
            ]
           ],
           "sequential": [
            [
             0,
             "#0d0887"
            ],
            [
             0.1111111111111111,
             "#46039f"
            ],
            [
             0.2222222222222222,
             "#7201a8"
            ],
            [
             0.3333333333333333,
             "#9c179e"
            ],
            [
             0.4444444444444444,
             "#bd3786"
            ],
            [
             0.5555555555555556,
             "#d8576b"
            ],
            [
             0.6666666666666666,
             "#ed7953"
            ],
            [
             0.7777777777777778,
             "#fb9f3a"
            ],
            [
             0.8888888888888888,
             "#fdca26"
            ],
            [
             1,
             "#f0f921"
            ]
           ],
           "sequentialminus": [
            [
             0,
             "#0d0887"
            ],
            [
             0.1111111111111111,
             "#46039f"
            ],
            [
             0.2222222222222222,
             "#7201a8"
            ],
            [
             0.3333333333333333,
             "#9c179e"
            ],
            [
             0.4444444444444444,
             "#bd3786"
            ],
            [
             0.5555555555555556,
             "#d8576b"
            ],
            [
             0.6666666666666666,
             "#ed7953"
            ],
            [
             0.7777777777777778,
             "#fb9f3a"
            ],
            [
             0.8888888888888888,
             "#fdca26"
            ],
            [
             1,
             "#f0f921"
            ]
           ]
          },
          "colorway": [
           "#636efa",
           "#EF553B",
           "#00cc96",
           "#ab63fa",
           "#FFA15A",
           "#19d3f3",
           "#FF6692",
           "#B6E880",
           "#FF97FF",
           "#FECB52"
          ],
          "font": {
           "color": "#2a3f5f"
          },
          "geo": {
           "bgcolor": "white",
           "lakecolor": "white",
           "landcolor": "#E5ECF6",
           "showlakes": true,
           "showland": true,
           "subunitcolor": "white"
          },
          "hoverlabel": {
           "align": "left"
          },
          "hovermode": "closest",
          "mapbox": {
           "style": "light"
          },
          "paper_bgcolor": "white",
          "plot_bgcolor": "#E5ECF6",
          "polar": {
           "angularaxis": {
            "gridcolor": "white",
            "linecolor": "white",
            "ticks": ""
           },
           "bgcolor": "#E5ECF6",
           "radialaxis": {
            "gridcolor": "white",
            "linecolor": "white",
            "ticks": ""
           }
          },
          "scene": {
           "xaxis": {
            "backgroundcolor": "#E5ECF6",
            "gridcolor": "white",
            "gridwidth": 2,
            "linecolor": "white",
            "showbackground": true,
            "ticks": "",
            "zerolinecolor": "white"
           },
           "yaxis": {
            "backgroundcolor": "#E5ECF6",
            "gridcolor": "white",
            "gridwidth": 2,
            "linecolor": "white",
            "showbackground": true,
            "ticks": "",
            "zerolinecolor": "white"
           },
           "zaxis": {
            "backgroundcolor": "#E5ECF6",
            "gridcolor": "white",
            "gridwidth": 2,
            "linecolor": "white",
            "showbackground": true,
            "ticks": "",
            "zerolinecolor": "white"
           }
          },
          "shapedefaults": {
           "line": {
            "color": "#2a3f5f"
           }
          },
          "ternary": {
           "aaxis": {
            "gridcolor": "white",
            "linecolor": "white",
            "ticks": ""
           },
           "baxis": {
            "gridcolor": "white",
            "linecolor": "white",
            "ticks": ""
           },
           "bgcolor": "#E5ECF6",
           "caxis": {
            "gridcolor": "white",
            "linecolor": "white",
            "ticks": ""
           }
          },
          "title": {
           "x": 0.05
          },
          "xaxis": {
           "automargin": true,
           "gridcolor": "white",
           "linecolor": "white",
           "ticks": "",
           "title": {
            "standoff": 15
           },
           "zerolinecolor": "white",
           "zerolinewidth": 2
          },
          "yaxis": {
           "automargin": true,
           "gridcolor": "white",
           "linecolor": "white",
           "ticks": "",
           "title": {
            "standoff": 15
           },
           "zerolinecolor": "white",
           "zerolinewidth": 2
          }
         }
        },
        "title": {
         "text": "Mass of Ice Sheets Over Time"
        },
        "xaxis": {
         "anchor": "y",
         "domain": [
          0,
          1
         ],
         "title": {
          "text": "Time"
         }
        },
        "yaxis": {
         "anchor": "x",
         "domain": [
          0,
          1
         ],
         "title": {
          "text": "Antarctic Mass"
         }
        }
       }
      },
      "text/html": [
       "<div>                            <div id=\"359c5740-230f-4cb7-9363-6dc6f0f61181\" class=\"plotly-graph-div\" style=\"height:525px; width:100%;\"></div>            <script type=\"text/javascript\">                require([\"plotly\"], function(Plotly) {                    window.PLOTLYENV=window.PLOTLYENV || {};                                    if (document.getElementById(\"359c5740-230f-4cb7-9363-6dc6f0f61181\")) {                    Plotly.newPlot(                        \"359c5740-230f-4cb7-9363-6dc6f0f61181\",                        [{\"hovertemplate\":\"Time=%{x}<br>Antarctic Mass=%{y}<extra></extra>\",\"legendgroup\":\"\",\"line\":{\"color\":\"#636efa\",\"dash\":\"solid\"},\"marker\":{\"symbol\":\"circle\"},\"mode\":\"lines\",\"name\":\"\",\"orientation\":\"v\",\"showlegend\":false,\"x\":[2002.29,2002.35,2002.62,2002.71,2002.79,2002.87,2002.96,2003.04,2003.12,2003.2,2003.29,2003.36,2003.54,2003.62,2003.71,2003.79,2003.87,2003.96,2004.02,2004.13,2004.21,2004.29,2004.37,2004.46,2004.54,2004.62,2004.71,2004.79,2004.87,2004.96,2005.04,2005.12,2005.2,2005.29,2005.37,2005.46,2005.54,2005.62,2005.71,2005.79,2005.87,2005.96,2006.04,2006.12,2006.2,2006.29,2006.37,2006.45,2006.54,2006.62,2006.71,2006.79,2006.87,2006.96,2007.04,2007.12,2007.2,2007.29,2007.37,2007.45,2007.54,2007.62,2007.71,2007.79,2007.87,2007.96,2008.04,2008.12,2008.21,2008.29,2008.37,2008.46,2008.54,2008.62,2008.71,2008.79,2008.87,2008.96,2009.04,2009.12,2009.2,2009.29,2009.37,2009.46,2009.54,2009.62,2009.71,2009.79,2009.87,2009.96,2010.04,2010.12,2010.2,2010.29,2010.37,2010.45,2010.54,2010.62,2010.71,2010.79,2010.87,2010.95,2011.13,2011.2,2011.29,2011.37,2011.54,2011.62,2011.71,2011.79,2011.83,2012.0,2012.04,2012.12,2012.21,2012.26,2012.46,2012.54,2012.62,2012.7,2012.88,2012.96,2013.04,2013.12,2013.3,2013.37,2013.46,2013.54,2013.79,2013.87,2013.96,2014.02,2014.2,2014.29,2014.37,2014.45,2014.62,2014.71,2014.79,2014.88,2015.06,2015.12,2015.2,2015.29,2015.32,2015.53,2015.62,2015.7,2015.98,2016.04,2016.12,2016.21,2016.38,2016.46,2016.54,2016.64,2016.91,2016.98,2017.06,2017.25,2017.31,2017.36,2017.44,2018.45,2018.52,2018.83,2018.87,2018.96,2019.04,2019.12,2019.2,2019.29,2019.37,2019.45,2019.54,2019.62,2019.71,2019.79,2019.87,2019.96,2020.04,2020.12,2020.21,2020.29,2020.37,2020.46,2020.54,2020.62,2020.71,2020.79,2020.87,2020.96,2021.04,2021.12,2021.2,2021.29,2021.37,2021.46,2021.54,2021.62,2021.71,2021.79,2021.87,2021.96,2022.04,2022.12,2022.2,2022.29,2022.37,2022.45,2022.54,2022.62,2022.71,2022.79,2022.87,2022.96,2023.04,2023.12],\"xaxis\":\"x\",\"y\":[0.0,17.63,-62.83,43.3,59.9,-71.58,-48.89,-48.71,-200.79,-171.01,-44.0,1.53,-130.07,-123.81,-133.11,-50.21,-110.16,-275.3,-331.67,-490.94,-338.94,-386.59,-155.72,-188.84,-313.91,-168.33,-162.86,-88.73,-228.91,-307.51,-393.54,-456.47,-406.71,-252.41,-229.92,-205.36,-160.65,-211.25,-114.94,-108.78,-63.22,-160.96,-225.78,-319.08,-184.56,-160.6,-80.17,-51.7,-101.44,-14.97,-24.58,-98.54,-90.76,-235.65,-438.81,-429.73,-361.7,-338.02,-182.19,-192.97,-271.43,-234.8,-162.19,-249.88,-440.69,-522.81,-730.01,-608.04,-740.73,-565.26,-474.14,-558.42,-653.06,-605.65,-447.64,-536.02,-522.71,-626.98,-707.5,-681.43,-618.18,-582.4,-555.72,-542.25,-440.36,-472.49,-485.2,-540.91,-526.04,-634.1,-803.22,-809.92,-691.94,-762.56,-784.01,-795.89,-999.46,-930.01,-850.4,-883.03,-903.89,-916.62,1004.65,1021.39,1034.75,-967.44,-916.74,-932.65,-843.62,-890.1,-884.46,1151.81,1080.86,1144.18,1122.48,1062.48,1098.15,1066.04,-987.21,-954.97,1076.65,1122.36,1291.93,1398.62,1142.5,1244.13,1252.5,1217.02,1307.78,1354.04,1404.99,1513.63,1622.81,1540.82,1447.95,1492.11,1542.58,1370.94,1458.45,1533.54,1836.27,1912.27,1877.29,1856.22,1785.13,1756.97,1904.43,1857.23,1901.5,1922.85,1997.9,1934.54,1802.94,1783.09,1667.12,1621.49,1688.48,1599.71,1621.84,1951.16,1868.52,1831.21,1838.01,2014.54,2042.08,2185.17,2142.61,2282.43,2400.08,2459.7,2406.01,2372.62,2212.82,2268.82,2131.73,2293.55,2336.33,2318.38,2327.52,2434.39,2678.88,2781.45,2702.61,2579.73,2457.02,2399.26,2449.85,2411.53,2473.15,2535.98,2604.2,2651.17,2863.62,2651.85,2679.07,2463.17,2491.3,2664.7,2675.54,2615.17,2702.15,2504.48,2743.28,2646.6,2740.35,2699.54,2623.45,2384.55,2289.38,2310.88,2419.74,2374.28,2359.21,2415.28,2349.74,2352.28,2425.63,2481.37],\"yaxis\":\"y\",\"type\":\"scatter\"}],                        {\"template\":{\"data\":{\"histogram2dcontour\":[{\"type\":\"histogram2dcontour\",\"colorbar\":{\"outlinewidth\":0,\"ticks\":\"\"},\"colorscale\":[[0.0,\"#0d0887\"],[0.1111111111111111,\"#46039f\"],[0.2222222222222222,\"#7201a8\"],[0.3333333333333333,\"#9c179e\"],[0.4444444444444444,\"#bd3786\"],[0.5555555555555556,\"#d8576b\"],[0.6666666666666666,\"#ed7953\"],[0.7777777777777778,\"#fb9f3a\"],[0.8888888888888888,\"#fdca26\"],[1.0,\"#f0f921\"]]}],\"choropleth\":[{\"type\":\"choropleth\",\"colorbar\":{\"outlinewidth\":0,\"ticks\":\"\"}}],\"histogram2d\":[{\"type\":\"histogram2d\",\"colorbar\":{\"outlinewidth\":0,\"ticks\":\"\"},\"colorscale\":[[0.0,\"#0d0887\"],[0.1111111111111111,\"#46039f\"],[0.2222222222222222,\"#7201a8\"],[0.3333333333333333,\"#9c179e\"],[0.4444444444444444,\"#bd3786\"],[0.5555555555555556,\"#d8576b\"],[0.6666666666666666,\"#ed7953\"],[0.7777777777777778,\"#fb9f3a\"],[0.8888888888888888,\"#fdca26\"],[1.0,\"#f0f921\"]]}],\"heatmap\":[{\"type\":\"heatmap\",\"colorbar\":{\"outlinewidth\":0,\"ticks\":\"\"},\"colorscale\":[[0.0,\"#0d0887\"],[0.1111111111111111,\"#46039f\"],[0.2222222222222222,\"#7201a8\"],[0.3333333333333333,\"#9c179e\"],[0.4444444444444444,\"#bd3786\"],[0.5555555555555556,\"#d8576b\"],[0.6666666666666666,\"#ed7953\"],[0.7777777777777778,\"#fb9f3a\"],[0.8888888888888888,\"#fdca26\"],[1.0,\"#f0f921\"]]}],\"heatmapgl\":[{\"type\":\"heatmapgl\",\"colorbar\":{\"outlinewidth\":0,\"ticks\":\"\"},\"colorscale\":[[0.0,\"#0d0887\"],[0.1111111111111111,\"#46039f\"],[0.2222222222222222,\"#7201a8\"],[0.3333333333333333,\"#9c179e\"],[0.4444444444444444,\"#bd3786\"],[0.5555555555555556,\"#d8576b\"],[0.6666666666666666,\"#ed7953\"],[0.7777777777777778,\"#fb9f3a\"],[0.8888888888888888,\"#fdca26\"],[1.0,\"#f0f921\"]]}],\"contourcarpet\":[{\"type\":\"contourcarpet\",\"colorbar\":{\"outlinewidth\":0,\"ticks\":\"\"}}],\"contour\":[{\"type\":\"contour\",\"colorbar\":{\"outlinewidth\":0,\"ticks\":\"\"},\"colorscale\":[[0.0,\"#0d0887\"],[0.1111111111111111,\"#46039f\"],[0.2222222222222222,\"#7201a8\"],[0.3333333333333333,\"#9c179e\"],[0.4444444444444444,\"#bd3786\"],[0.5555555555555556,\"#d8576b\"],[0.6666666666666666,\"#ed7953\"],[0.7777777777777778,\"#fb9f3a\"],[0.8888888888888888,\"#fdca26\"],[1.0,\"#f0f921\"]]}],\"surface\":[{\"type\":\"surface\",\"colorbar\":{\"outlinewidth\":0,\"ticks\":\"\"},\"colorscale\":[[0.0,\"#0d0887\"],[0.1111111111111111,\"#46039f\"],[0.2222222222222222,\"#7201a8\"],[0.3333333333333333,\"#9c179e\"],[0.4444444444444444,\"#bd3786\"],[0.5555555555555556,\"#d8576b\"],[0.6666666666666666,\"#ed7953\"],[0.7777777777777778,\"#fb9f3a\"],[0.8888888888888888,\"#fdca26\"],[1.0,\"#f0f921\"]]}],\"mesh3d\":[{\"type\":\"mesh3d\",\"colorbar\":{\"outlinewidth\":0,\"ticks\":\"\"}}],\"scatter\":[{\"fillpattern\":{\"fillmode\":\"overlay\",\"size\":10,\"solidity\":0.2},\"type\":\"scatter\"}],\"parcoords\":[{\"type\":\"parcoords\",\"line\":{\"colorbar\":{\"outlinewidth\":0,\"ticks\":\"\"}}}],\"scatterpolargl\":[{\"type\":\"scatterpolargl\",\"marker\":{\"colorbar\":{\"outlinewidth\":0,\"ticks\":\"\"}}}],\"bar\":[{\"error_x\":{\"color\":\"#2a3f5f\"},\"error_y\":{\"color\":\"#2a3f5f\"},\"marker\":{\"line\":{\"color\":\"#E5ECF6\",\"width\":0.5},\"pattern\":{\"fillmode\":\"overlay\",\"size\":10,\"solidity\":0.2}},\"type\":\"bar\"}],\"scattergeo\":[{\"type\":\"scattergeo\",\"marker\":{\"colorbar\":{\"outlinewidth\":0,\"ticks\":\"\"}}}],\"scatterpolar\":[{\"type\":\"scatterpolar\",\"marker\":{\"colorbar\":{\"outlinewidth\":0,\"ticks\":\"\"}}}],\"histogram\":[{\"marker\":{\"pattern\":{\"fillmode\":\"overlay\",\"size\":10,\"solidity\":0.2}},\"type\":\"histogram\"}],\"scattergl\":[{\"type\":\"scattergl\",\"marker\":{\"colorbar\":{\"outlinewidth\":0,\"ticks\":\"\"}}}],\"scatter3d\":[{\"type\":\"scatter3d\",\"line\":{\"colorbar\":{\"outlinewidth\":0,\"ticks\":\"\"}},\"marker\":{\"colorbar\":{\"outlinewidth\":0,\"ticks\":\"\"}}}],\"scattermapbox\":[{\"type\":\"scattermapbox\",\"marker\":{\"colorbar\":{\"outlinewidth\":0,\"ticks\":\"\"}}}],\"scatterternary\":[{\"type\":\"scatterternary\",\"marker\":{\"colorbar\":{\"outlinewidth\":0,\"ticks\":\"\"}}}],\"scattercarpet\":[{\"type\":\"scattercarpet\",\"marker\":{\"colorbar\":{\"outlinewidth\":0,\"ticks\":\"\"}}}],\"carpet\":[{\"aaxis\":{\"endlinecolor\":\"#2a3f5f\",\"gridcolor\":\"white\",\"linecolor\":\"white\",\"minorgridcolor\":\"white\",\"startlinecolor\":\"#2a3f5f\"},\"baxis\":{\"endlinecolor\":\"#2a3f5f\",\"gridcolor\":\"white\",\"linecolor\":\"white\",\"minorgridcolor\":\"white\",\"startlinecolor\":\"#2a3f5f\"},\"type\":\"carpet\"}],\"table\":[{\"cells\":{\"fill\":{\"color\":\"#EBF0F8\"},\"line\":{\"color\":\"white\"}},\"header\":{\"fill\":{\"color\":\"#C8D4E3\"},\"line\":{\"color\":\"white\"}},\"type\":\"table\"}],\"barpolar\":[{\"marker\":{\"line\":{\"color\":\"#E5ECF6\",\"width\":0.5},\"pattern\":{\"fillmode\":\"overlay\",\"size\":10,\"solidity\":0.2}},\"type\":\"barpolar\"}],\"pie\":[{\"automargin\":true,\"type\":\"pie\"}]},\"layout\":{\"autotypenumbers\":\"strict\",\"colorway\":[\"#636efa\",\"#EF553B\",\"#00cc96\",\"#ab63fa\",\"#FFA15A\",\"#19d3f3\",\"#FF6692\",\"#B6E880\",\"#FF97FF\",\"#FECB52\"],\"font\":{\"color\":\"#2a3f5f\"},\"hovermode\":\"closest\",\"hoverlabel\":{\"align\":\"left\"},\"paper_bgcolor\":\"white\",\"plot_bgcolor\":\"#E5ECF6\",\"polar\":{\"bgcolor\":\"#E5ECF6\",\"angularaxis\":{\"gridcolor\":\"white\",\"linecolor\":\"white\",\"ticks\":\"\"},\"radialaxis\":{\"gridcolor\":\"white\",\"linecolor\":\"white\",\"ticks\":\"\"}},\"ternary\":{\"bgcolor\":\"#E5ECF6\",\"aaxis\":{\"gridcolor\":\"white\",\"linecolor\":\"white\",\"ticks\":\"\"},\"baxis\":{\"gridcolor\":\"white\",\"linecolor\":\"white\",\"ticks\":\"\"},\"caxis\":{\"gridcolor\":\"white\",\"linecolor\":\"white\",\"ticks\":\"\"}},\"coloraxis\":{\"colorbar\":{\"outlinewidth\":0,\"ticks\":\"\"}},\"colorscale\":{\"sequential\":[[0.0,\"#0d0887\"],[0.1111111111111111,\"#46039f\"],[0.2222222222222222,\"#7201a8\"],[0.3333333333333333,\"#9c179e\"],[0.4444444444444444,\"#bd3786\"],[0.5555555555555556,\"#d8576b\"],[0.6666666666666666,\"#ed7953\"],[0.7777777777777778,\"#fb9f3a\"],[0.8888888888888888,\"#fdca26\"],[1.0,\"#f0f921\"]],\"sequentialminus\":[[0.0,\"#0d0887\"],[0.1111111111111111,\"#46039f\"],[0.2222222222222222,\"#7201a8\"],[0.3333333333333333,\"#9c179e\"],[0.4444444444444444,\"#bd3786\"],[0.5555555555555556,\"#d8576b\"],[0.6666666666666666,\"#ed7953\"],[0.7777777777777778,\"#fb9f3a\"],[0.8888888888888888,\"#fdca26\"],[1.0,\"#f0f921\"]],\"diverging\":[[0,\"#8e0152\"],[0.1,\"#c51b7d\"],[0.2,\"#de77ae\"],[0.3,\"#f1b6da\"],[0.4,\"#fde0ef\"],[0.5,\"#f7f7f7\"],[0.6,\"#e6f5d0\"],[0.7,\"#b8e186\"],[0.8,\"#7fbc41\"],[0.9,\"#4d9221\"],[1,\"#276419\"]]},\"xaxis\":{\"gridcolor\":\"white\",\"linecolor\":\"white\",\"ticks\":\"\",\"title\":{\"standoff\":15},\"zerolinecolor\":\"white\",\"automargin\":true,\"zerolinewidth\":2},\"yaxis\":{\"gridcolor\":\"white\",\"linecolor\":\"white\",\"ticks\":\"\",\"title\":{\"standoff\":15},\"zerolinecolor\":\"white\",\"automargin\":true,\"zerolinewidth\":2},\"scene\":{\"xaxis\":{\"backgroundcolor\":\"#E5ECF6\",\"gridcolor\":\"white\",\"linecolor\":\"white\",\"showbackground\":true,\"ticks\":\"\",\"zerolinecolor\":\"white\",\"gridwidth\":2},\"yaxis\":{\"backgroundcolor\":\"#E5ECF6\",\"gridcolor\":\"white\",\"linecolor\":\"white\",\"showbackground\":true,\"ticks\":\"\",\"zerolinecolor\":\"white\",\"gridwidth\":2},\"zaxis\":{\"backgroundcolor\":\"#E5ECF6\",\"gridcolor\":\"white\",\"linecolor\":\"white\",\"showbackground\":true,\"ticks\":\"\",\"zerolinecolor\":\"white\",\"gridwidth\":2}},\"shapedefaults\":{\"line\":{\"color\":\"#2a3f5f\"}},\"annotationdefaults\":{\"arrowcolor\":\"#2a3f5f\",\"arrowhead\":0,\"arrowwidth\":1},\"geo\":{\"bgcolor\":\"white\",\"landcolor\":\"#E5ECF6\",\"subunitcolor\":\"white\",\"showland\":true,\"showlakes\":true,\"lakecolor\":\"white\"},\"title\":{\"x\":0.05},\"mapbox\":{\"style\":\"light\"}}},\"xaxis\":{\"anchor\":\"y\",\"domain\":[0.0,1.0],\"title\":{\"text\":\"Time\"}},\"yaxis\":{\"anchor\":\"x\",\"domain\":[0.0,1.0],\"title\":{\"text\":\"Antarctic Mass\"}},\"legend\":{\"tracegroupgap\":0},\"title\":{\"text\":\"Mass of Ice Sheets Over Time\"}},                        {\"responsive\": true}                    ).then(function(){\n",
       "                            \n",
       "var gd = document.getElementById('359c5740-230f-4cb7-9363-6dc6f0f61181');\n",
       "var x = new MutationObserver(function (mutations, observer) {{\n",
       "        var display = window.getComputedStyle(gd).display;\n",
       "        if (!display || display === 'none') {{\n",
       "            console.log([gd, 'removed!']);\n",
       "            Plotly.purge(gd);\n",
       "            observer.disconnect();\n",
       "        }}\n",
       "}});\n",
       "\n",
       "// Listen for the removal of the full notebook cells\n",
       "var notebookContainer = gd.closest('#notebook-container');\n",
       "if (notebookContainer) {{\n",
       "    x.observe(notebookContainer, {childList: true});\n",
       "}}\n",
       "\n",
       "// Listen for the clearing of the current output cell\n",
       "var outputEl = gd.closest('.output');\n",
       "if (outputEl) {{\n",
       "    x.observe(outputEl, {childList: true});\n",
       "}}\n",
       "\n",
       "                        })                };                });            </script>        </div>"
      ]
     },
     "metadata": {},
     "output_type": "display_data"
    }
   ],
   "source": [
    "px.line(ice_sheets, x='Time', y='Antarctic Mass', title='Mass of Ice Sheets Over Time')"
   ]
  },
  {
   "cell_type": "markdown",
   "metadata": {},
   "source": [
    "We can see that the mass of the ice sheets in the Antarctic are fluctuating. Why do you think this is? What does this tell you about climate change?\n",
    "* What kind of a research question could you pose to find an answer to this? \n",
    "* Where do you think you might find an answer to this question? What kind of sources should you look at?"
   ]
  },
  {
   "cell_type": "markdown",
   "metadata": {},
   "source": [
    "## Permafrost Changes"
   ]
  },
  {
   "cell_type": "markdown",
   "metadata": {},
   "source": [
    "## Ocean Level"
   ]
  },
  {
   "cell_type": "code",
   "execution_count": 4,
   "metadata": {},
   "outputs": [
    {
     "data": {
      "text/html": [
       "<div>\n",
       "<style scoped>\n",
       "    .dataframe tbody tr th:only-of-type {\n",
       "        vertical-align: middle;\n",
       "    }\n",
       "\n",
       "    .dataframe tbody tr th {\n",
       "        vertical-align: top;\n",
       "    }\n",
       "\n",
       "    .dataframe thead th {\n",
       "        text-align: right;\n",
       "    }\n",
       "</style>\n",
       "<table border=\"1\" class=\"dataframe\">\n",
       "  <thead>\n",
       "    <tr style=\"text-align: right;\">\n",
       "      <th></th>\n",
       "      <th>Altimeter Type</th>\n",
       "      <th>Merged File Cycle Number</th>\n",
       "      <th>Year + Fraction of Year (Mid-Cycle)</th>\n",
       "      <th>Observations</th>\n",
       "      <th>Weighted Observations</th>\n",
       "      <th>GMSL - Gia not Applied</th>\n",
       "      <th>Std Dev of GMSL - Gia not Applied</th>\n",
       "      <th>Smoothed GMSL - Gia not Applied</th>\n",
       "      <th>GMSL - Gia Applied</th>\n",
       "      <th>STd Dev of GMSL - Gia Applied</th>\n",
       "      <th>Smoothed GMSL - Gia Applied</th>\n",
       "      <th>Smoothed GMSL - Gia Applied Signal Removed</th>\n",
       "      <th>Smoothed GMSL - Gia not Applied Signal Removed</th>\n",
       "    </tr>\n",
       "  </thead>\n",
       "  <tbody>\n",
       "    <tr>\n",
       "      <th>0</th>\n",
       "      <td>0</td>\n",
       "      <td>11</td>\n",
       "      <td>1993.011526</td>\n",
       "      <td>452600</td>\n",
       "      <td>327401.31</td>\n",
       "      <td>-38.61</td>\n",
       "      <td>89.88</td>\n",
       "      <td>-38.78</td>\n",
       "      <td>-38.61</td>\n",
       "      <td>89.88</td>\n",
       "      <td>-38.78</td>\n",
       "      <td>-38.56</td>\n",
       "      <td>-38.57</td>\n",
       "    </tr>\n",
       "    <tr>\n",
       "      <th>1</th>\n",
       "      <td>0</td>\n",
       "      <td>12</td>\n",
       "      <td>1993.038692</td>\n",
       "      <td>447591</td>\n",
       "      <td>324498.41</td>\n",
       "      <td>-42.01</td>\n",
       "      <td>90.93</td>\n",
       "      <td>-39.80</td>\n",
       "      <td>-42.00</td>\n",
       "      <td>90.93</td>\n",
       "      <td>-39.80</td>\n",
       "      <td>-39.09</td>\n",
       "      <td>-39.10</td>\n",
       "    </tr>\n",
       "    <tr>\n",
       "      <th>2</th>\n",
       "      <td>0</td>\n",
       "      <td>13</td>\n",
       "      <td>1993.065858</td>\n",
       "      <td>459462</td>\n",
       "      <td>333018.19</td>\n",
       "      <td>-41.97</td>\n",
       "      <td>87.31</td>\n",
       "      <td>-39.65</td>\n",
       "      <td>-41.96</td>\n",
       "      <td>87.31</td>\n",
       "      <td>-39.64</td>\n",
       "      <td>-38.56</td>\n",
       "      <td>-38.58</td>\n",
       "    </tr>\n",
       "    <tr>\n",
       "      <th>3</th>\n",
       "      <td>0</td>\n",
       "      <td>14</td>\n",
       "      <td>1993.093025</td>\n",
       "      <td>410064</td>\n",
       "      <td>297483.19</td>\n",
       "      <td>-42.71</td>\n",
       "      <td>90.79</td>\n",
       "      <td>-39.69</td>\n",
       "      <td>-42.69</td>\n",
       "      <td>90.79</td>\n",
       "      <td>-39.67</td>\n",
       "      <td>-38.32</td>\n",
       "      <td>-38.35</td>\n",
       "    </tr>\n",
       "    <tr>\n",
       "      <th>4</th>\n",
       "      <td>0</td>\n",
       "      <td>15</td>\n",
       "      <td>1993.120191</td>\n",
       "      <td>446813</td>\n",
       "      <td>321635.81</td>\n",
       "      <td>-37.88</td>\n",
       "      <td>90.29</td>\n",
       "      <td>-38.78</td>\n",
       "      <td>-37.85</td>\n",
       "      <td>90.29</td>\n",
       "      <td>-38.75</td>\n",
       "      <td>-37.20</td>\n",
       "      <td>-37.24</td>\n",
       "    </tr>\n",
       "    <tr>\n",
       "      <th>...</th>\n",
       "      <td>...</td>\n",
       "      <td>...</td>\n",
       "      <td>...</td>\n",
       "      <td>...</td>\n",
       "      <td>...</td>\n",
       "      <td>...</td>\n",
       "      <td>...</td>\n",
       "      <td>...</td>\n",
       "      <td>...</td>\n",
       "      <td>...</td>\n",
       "      <td>...</td>\n",
       "      <td>...</td>\n",
       "      <td>...</td>\n",
       "    </tr>\n",
       "    <tr>\n",
       "      <th>1106</th>\n",
       "      <td>0</td>\n",
       "      <td>118</td>\n",
       "      <td>2023.065279</td>\n",
       "      <td>467851</td>\n",
       "      <td>337933.19</td>\n",
       "      <td>58.72</td>\n",
       "      <td>87.03</td>\n",
       "      <td>58.91</td>\n",
       "      <td>66.03</td>\n",
       "      <td>87.15</td>\n",
       "      <td>66.21</td>\n",
       "      <td>67.28</td>\n",
       "      <td>59.97</td>\n",
       "    </tr>\n",
       "    <tr>\n",
       "      <th>1107</th>\n",
       "      <td>0</td>\n",
       "      <td>119</td>\n",
       "      <td>2023.092445</td>\n",
       "      <td>467307</td>\n",
       "      <td>338525.91</td>\n",
       "      <td>58.05</td>\n",
       "      <td>86.63</td>\n",
       "      <td>58.59</td>\n",
       "      <td>65.34</td>\n",
       "      <td>86.65</td>\n",
       "      <td>65.89</td>\n",
       "      <td>67.23</td>\n",
       "      <td>59.92</td>\n",
       "    </tr>\n",
       "    <tr>\n",
       "      <th>1108</th>\n",
       "      <td>0</td>\n",
       "      <td>120</td>\n",
       "      <td>2023.119611</td>\n",
       "      <td>427658</td>\n",
       "      <td>309056.59</td>\n",
       "      <td>58.29</td>\n",
       "      <td>89.01</td>\n",
       "      <td>58.38</td>\n",
       "      <td>65.59</td>\n",
       "      <td>88.63</td>\n",
       "      <td>65.69</td>\n",
       "      <td>67.24</td>\n",
       "      <td>59.92</td>\n",
       "    </tr>\n",
       "    <tr>\n",
       "      <th>1109</th>\n",
       "      <td>0</td>\n",
       "      <td>121</td>\n",
       "      <td>2023.146777</td>\n",
       "      <td>470397</td>\n",
       "      <td>339192.31</td>\n",
       "      <td>57.34</td>\n",
       "      <td>90.25</td>\n",
       "      <td>58.26</td>\n",
       "      <td>64.67</td>\n",
       "      <td>89.81</td>\n",
       "      <td>65.57</td>\n",
       "      <td>67.28</td>\n",
       "      <td>59.97</td>\n",
       "    </tr>\n",
       "    <tr>\n",
       "      <th>1110</th>\n",
       "      <td>0</td>\n",
       "      <td>122</td>\n",
       "      <td>2023.173943</td>\n",
       "      <td>469810</td>\n",
       "      <td>338049.50</td>\n",
       "      <td>57.21</td>\n",
       "      <td>88.61</td>\n",
       "      <td>58.19</td>\n",
       "      <td>64.53</td>\n",
       "      <td>88.39</td>\n",
       "      <td>65.50</td>\n",
       "      <td>67.38</td>\n",
       "      <td>60.07</td>\n",
       "    </tr>\n",
       "  </tbody>\n",
       "</table>\n",
       "<p>1111 rows × 13 columns</p>\n",
       "</div>"
      ],
      "text/plain": [
       "      Altimeter Type  Merged File Cycle Number  \\\n",
       "0                  0                        11   \n",
       "1                  0                        12   \n",
       "2                  0                        13   \n",
       "3                  0                        14   \n",
       "4                  0                        15   \n",
       "...              ...                       ...   \n",
       "1106               0                       118   \n",
       "1107               0                       119   \n",
       "1108               0                       120   \n",
       "1109               0                       121   \n",
       "1110               0                       122   \n",
       "\n",
       "      Year + Fraction of Year (Mid-Cycle)  Observations  \\\n",
       "0                             1993.011526        452600   \n",
       "1                             1993.038692        447591   \n",
       "2                             1993.065858        459462   \n",
       "3                             1993.093025        410064   \n",
       "4                             1993.120191        446813   \n",
       "...                                   ...           ...   \n",
       "1106                          2023.065279        467851   \n",
       "1107                          2023.092445        467307   \n",
       "1108                          2023.119611        427658   \n",
       "1109                          2023.146777        470397   \n",
       "1110                          2023.173943        469810   \n",
       "\n",
       "      Weighted Observations  GMSL - Gia not Applied  \\\n",
       "0                 327401.31                  -38.61   \n",
       "1                 324498.41                  -42.01   \n",
       "2                 333018.19                  -41.97   \n",
       "3                 297483.19                  -42.71   \n",
       "4                 321635.81                  -37.88   \n",
       "...                     ...                     ...   \n",
       "1106              337933.19                   58.72   \n",
       "1107              338525.91                   58.05   \n",
       "1108              309056.59                   58.29   \n",
       "1109              339192.31                   57.34   \n",
       "1110              338049.50                   57.21   \n",
       "\n",
       "      Std Dev of GMSL - Gia not Applied  Smoothed GMSL - Gia not Applied  \\\n",
       "0                                 89.88                           -38.78   \n",
       "1                                 90.93                           -39.80   \n",
       "2                                 87.31                           -39.65   \n",
       "3                                 90.79                           -39.69   \n",
       "4                                 90.29                           -38.78   \n",
       "...                                 ...                              ...   \n",
       "1106                              87.03                            58.91   \n",
       "1107                              86.63                            58.59   \n",
       "1108                              89.01                            58.38   \n",
       "1109                              90.25                            58.26   \n",
       "1110                              88.61                            58.19   \n",
       "\n",
       "      GMSL - Gia Applied  STd Dev of GMSL - Gia Applied  \\\n",
       "0                 -38.61                          89.88   \n",
       "1                 -42.00                          90.93   \n",
       "2                 -41.96                          87.31   \n",
       "3                 -42.69                          90.79   \n",
       "4                 -37.85                          90.29   \n",
       "...                  ...                            ...   \n",
       "1106               66.03                          87.15   \n",
       "1107               65.34                          86.65   \n",
       "1108               65.59                          88.63   \n",
       "1109               64.67                          89.81   \n",
       "1110               64.53                          88.39   \n",
       "\n",
       "      Smoothed GMSL - Gia Applied  Smoothed GMSL - Gia Applied Signal Removed  \\\n",
       "0                          -38.78                                      -38.56   \n",
       "1                          -39.80                                      -39.09   \n",
       "2                          -39.64                                      -38.56   \n",
       "3                          -39.67                                      -38.32   \n",
       "4                          -38.75                                      -37.20   \n",
       "...                           ...                                         ...   \n",
       "1106                        66.21                                       67.28   \n",
       "1107                        65.89                                       67.23   \n",
       "1108                        65.69                                       67.24   \n",
       "1109                        65.57                                       67.28   \n",
       "1110                        65.50                                       67.38   \n",
       "\n",
       "      Smoothed GMSL - Gia not Applied Signal Removed  \n",
       "0                                             -38.57  \n",
       "1                                             -39.10  \n",
       "2                                             -38.58  \n",
       "3                                             -38.35  \n",
       "4                                             -37.24  \n",
       "...                                              ...  \n",
       "1106                                           59.97  \n",
       "1107                                           59.92  \n",
       "1108                                           59.92  \n",
       "1109                                           59.97  \n",
       "1110                                           60.07  \n",
       "\n",
       "[1111 rows x 13 columns]"
      ]
     },
     "execution_count": 4,
     "metadata": {},
     "output_type": "execute_result"
    }
   ],
   "source": [
    "sea_level = pd.read_csv('https://raw.githubusercontent.com/callysto/data-files/main/Science/ElementaryClimateChange/sealevel.csv')\n",
    "sea_level"
   ]
  },
  {
   "cell_type": "code",
   "execution_count": 7,
   "metadata": {},
   "outputs": [
    {
     "data": {
      "application/vnd.plotly.v1+json": {
       "config": {
        "plotlyServerURL": "https://plot.ly"
       },
       "data": [
        {
         "hovertemplate": "Year + Fraction of Year (Mid-Cycle)=%{x}<br>GMSL - Gia Applied=%{y}<extra></extra>",
         "legendgroup": "",
         "line": {
          "color": "#636efa",
          "dash": "solid"
         },
         "marker": {
          "symbol": "circle"
         },
         "mode": "lines",
         "name": "",
         "showlegend": false,
         "type": "scattergl",
         "x": [
          1993.011526,
          1993.038692,
          1993.065858,
          1993.093025,
          1993.120191,
          1993.147357,
          1993.174523,
          1993.201689,
          1993.228855,
          1993.256021,
          1993.283188,
          1993.310354,
          1993.33752,
          1993.364686,
          1993.391852,
          1993.419018,
          1993.446185,
          1993.473351,
          1993.500517,
          1993.527683,
          1993.554849,
          1993.582015,
          1993.609181,
          1993.636348,
          1993.663514,
          1993.69068,
          1993.717846,
          1993.745012,
          1993.772178,
          1993.799345,
          1993.826511,
          1993.853677,
          1993.880843,
          1993.908009,
          1993.935175,
          1993.962341,
          1993.989508,
          1994.016674,
          1994.04384,
          1994.071006,
          1994.098172,
          1994.125338,
          1994.152505,
          1994.179671,
          1994.206837,
          1994.234003,
          1994.261169,
          1994.288335,
          1994.315501,
          1994.342668,
          1994.369834,
          1994.397,
          1994.424166,
          1994.451332,
          1994.478498,
          1994.505664,
          1994.532831,
          1994.559997,
          1994.587163,
          1994.614329,
          1994.641495,
          1994.668661,
          1994.695828,
          1994.722994,
          1994.75016,
          1994.777326,
          1994.804492,
          1994.831658,
          1994.858824,
          1994.885991,
          1994.913157,
          1994.940323,
          1994.967489,
          1994.994655,
          1995.021821,
          1995.048988,
          1995.076154,
          1995.10332,
          1995.130486,
          1995.157652,
          1995.184818,
          1995.211984,
          1995.239151,
          1995.266317,
          1995.293483,
          1995.320649,
          1995.347815,
          1995.374981,
          1995.402148,
          1995.429314,
          1995.45648,
          1995.483646,
          1995.510812,
          1995.537978,
          1995.565144,
          1995.592311,
          1995.619477,
          1995.646643,
          1995.673809,
          1995.700975,
          1995.728141,
          1995.755307,
          1995.782474,
          1995.80964,
          1995.836806,
          1995.863972,
          1995.891138,
          1995.918304,
          1995.945471,
          1995.972637,
          1995.999803,
          1996.026895,
          1996.053987,
          1996.081079,
          1996.108171,
          1996.135263,
          1996.162355,
          1996.189447,
          1996.216539,
          1996.243631,
          1996.270723,
          1996.297815,
          1996.324907,
          1996.351998,
          1996.37909,
          1996.406182,
          1996.433274,
          1996.460366,
          1996.487458,
          1996.51455,
          1996.541642,
          1996.568734,
          1996.595826,
          1996.622918,
          1996.65001,
          1996.677102,
          1996.704194,
          1996.731285,
          1996.758377,
          1996.785469,
          1996.812561,
          1996.839653,
          1996.866745,
          1996.893837,
          1996.920929,
          1996.948021,
          1996.975113,
          1997.002211,
          1997.029377,
          1997.056543,
          1997.083709,
          1997.110875,
          1997.138042,
          1997.165208,
          1997.192374,
          1997.21954,
          1997.246706,
          1997.273872,
          1997.301038,
          1997.328205,
          1997.355371,
          1997.382537,
          1997.409703,
          1997.436869,
          1997.464035,
          1997.491202,
          1997.518368,
          1997.545534,
          1997.5727,
          1997.599866,
          1997.627032,
          1997.654198,
          1997.681365,
          1997.708531,
          1997.735697,
          1997.762863,
          1997.790029,
          1997.817195,
          1997.844362,
          1997.871528,
          1997.898694,
          1997.92586,
          1997.953026,
          1997.980192,
          1998.007358,
          1998.034525,
          1998.061691,
          1998.088857,
          1998.116023,
          1998.143189,
          1998.170355,
          1998.197521,
          1998.224688,
          1998.251854,
          1998.27902,
          1998.306186,
          1998.333352,
          1998.360518,
          1998.387685,
          1998.414851,
          1998.442017,
          1998.469183,
          1998.496349,
          1998.523515,
          1998.550681,
          1998.577848,
          1998.605014,
          1998.63218,
          1998.659346,
          1998.686512,
          1998.713678,
          1998.740845,
          1998.768011,
          1998.795177,
          1998.822343,
          1998.849509,
          1998.876675,
          1998.903841,
          1998.931008,
          1998.958174,
          1998.98534,
          1999.012506,
          1999.039672,
          1999.066838,
          1999.094005,
          1999.121171,
          1999.148337,
          1999.175503,
          1999.202669,
          1999.229835,
          1999.257001,
          1999.284168,
          1999.311334,
          1999.3385,
          1999.365666,
          1999.392832,
          1999.419998,
          1999.447164,
          1999.474331,
          1999.501497,
          1999.528663,
          1999.555829,
          1999.582995,
          1999.610161,
          1999.637328,
          1999.664494,
          1999.69166,
          1999.718826,
          1999.745992,
          1999.773158,
          1999.800324,
          1999.827491,
          1999.854657,
          1999.881823,
          1999.908989,
          1999.936155,
          1999.963321,
          1999.990488,
          2000.017605,
          2000.044697,
          2000.071789,
          2000.098881,
          2000.125973,
          2000.153065,
          2000.180157,
          2000.207249,
          2000.234341,
          2000.261433,
          2000.288525,
          2000.315617,
          2000.342709,
          2000.369801,
          2000.396892,
          2000.423984,
          2000.451076,
          2000.478168,
          2000.50526,
          2000.532352,
          2000.559444,
          2000.586536,
          2000.613628,
          2000.64072,
          2000.667812,
          2000.694904,
          2000.721996,
          2000.749088,
          2000.776179,
          2000.803271,
          2000.830363,
          2000.857455,
          2000.884547,
          2000.911639,
          2000.938731,
          2000.965823,
          2000.992915,
          2001.020062,
          2001.047228,
          2001.074394,
          2001.10156,
          2001.128726,
          2001.155892,
          2001.183059,
          2001.210225,
          2001.237391,
          2001.264557,
          2001.291723,
          2001.318889,
          2001.346055,
          2001.373222,
          2001.400388,
          2001.427554,
          2001.45472,
          2001.481886,
          2001.509052,
          2001.536218,
          2001.563385,
          2001.590551,
          2001.617717,
          2001.644883,
          2001.672049,
          2001.699215,
          2001.726382,
          2001.753548,
          2001.780714,
          2001.80788,
          2001.835046,
          2001.862212,
          2001.889378,
          2001.916545,
          2001.943711,
          2001.970877,
          2001.998043,
          2002.025209,
          2002.052375,
          2002.079542,
          2002.106708,
          2002.133874,
          2002.16104,
          2002.188206,
          2002.215372,
          2002.242538,
          2002.269705,
          2002.296871,
          2002.324037,
          2002.351203,
          2002.378369,
          2002.405535,
          2002.432702,
          2002.459868,
          2002.487034,
          2002.5142,
          2002.541366,
          2002.568532,
          2002.595698,
          2002.622865,
          2002.650031,
          2002.677197,
          2002.704363,
          2002.731529,
          2002.758695,
          2002.785861,
          2002.813028,
          2002.840194,
          2002.86736,
          2002.894526,
          2002.921692,
          2002.948858,
          2002.976025,
          2003.003191,
          2003.030357,
          2003.057523,
          2003.084689,
          2003.111855,
          2003.139021,
          2003.166188,
          2003.193354,
          2003.22052,
          2003.247686,
          2003.274852,
          2003.302018,
          2003.329185,
          2003.356351,
          2003.383517,
          2003.410683,
          2003.437849,
          2003.465015,
          2003.492181,
          2003.519348,
          2003.546514,
          2003.57368,
          2003.600846,
          2003.628012,
          2003.655178,
          2003.682345,
          2003.709511,
          2003.736677,
          2003.763843,
          2003.791009,
          2003.818175,
          2003.845341,
          2003.872508,
          2003.899674,
          2003.92684,
          2003.954006,
          2003.981172,
          2004.008316,
          2004.035407,
          2004.062499,
          2004.089591,
          2004.116683,
          2004.143775,
          2004.170867,
          2004.197959,
          2004.225051,
          2004.252143,
          2004.279235,
          2004.306327,
          2004.333419,
          2004.360511,
          2004.387603,
          2004.414694,
          2004.441786,
          2004.468878,
          2004.49597,
          2004.523062,
          2004.550154,
          2004.577246,
          2004.604338,
          2004.63143,
          2004.658522,
          2004.685614,
          2004.712706,
          2004.739798,
          2004.76689,
          2004.793981,
          2004.821073,
          2004.848165,
          2004.875257,
          2004.902349,
          2004.929441,
          2004.956533,
          2004.983625,
          2005.010746,
          2005.037912,
          2005.065079,
          2005.092245,
          2005.119411,
          2005.146577,
          2005.173743,
          2005.200909,
          2005.228075,
          2005.255242,
          2005.282408,
          2005.309574,
          2005.33674,
          2005.363906,
          2005.391072,
          2005.418239,
          2005.445405,
          2005.472571,
          2005.499737,
          2005.526903,
          2005.554069,
          2005.581235,
          2005.608402,
          2005.635568,
          2005.662734,
          2005.6899,
          2005.717066,
          2005.744232,
          2005.771399,
          2005.798565,
          2005.825731,
          2005.852897,
          2005.880063,
          2005.907229,
          2005.934395,
          2005.961562,
          2005.988728,
          2006.015894,
          2006.04306,
          2006.070226,
          2006.097392,
          2006.124559,
          2006.151725,
          2006.178891,
          2006.206057,
          2006.233223,
          2006.260389,
          2006.287555,
          2006.314722,
          2006.341888,
          2006.369054,
          2006.39622,
          2006.423386,
          2006.450552,
          2006.477718,
          2006.504885,
          2006.532051,
          2006.559217,
          2006.586383,
          2006.613549,
          2006.640715,
          2006.667882,
          2006.695048,
          2006.722214,
          2006.74938,
          2006.776546,
          2006.803712,
          2006.830878,
          2006.885211,
          2006.912377,
          2006.939543,
          2006.966709,
          2006.993875,
          2007.021042,
          2007.048208,
          2007.075374,
          2007.10254,
          2007.129706,
          2007.156872,
          2007.184038,
          2007.211205,
          2007.238371,
          2007.265537,
          2007.292703,
          2007.319869,
          2007.347035,
          2007.374202,
          2007.401368,
          2007.428534,
          2007.4557,
          2007.482866,
          2007.510032,
          2007.537198,
          2007.564365,
          2007.591531,
          2007.618697,
          2007.645863,
          2007.673029,
          2007.700195,
          2007.727361,
          2007.754528,
          2007.781694,
          2007.80886,
          2007.836026,
          2007.863192,
          2007.890358,
          2007.917525,
          2007.944691,
          2007.971857,
          2007.999023,
          2008.026118,
          2008.05321,
          2008.080301,
          2008.107393,
          2008.134485,
          2008.161577,
          2008.188669,
          2008.215761,
          2008.242853,
          2008.269945,
          2008.297037,
          2008.324129,
          2008.351221,
          2008.378313,
          2008.405405,
          2008.432497,
          2008.459588,
          2008.48668,
          2008.513772,
          2008.540864,
          2008.567956,
          2008.595048,
          2008.62214,
          2008.649232,
          2008.676324,
          2008.703416,
          2008.730508,
          2008.7576,
          2008.784692,
          2008.811784,
          2008.838875,
          2008.865967,
          2008.893059,
          2008.920151,
          2008.947243,
          2008.974335,
          2009.001431,
          2009.028597,
          2009.055763,
          2009.082929,
          2009.110096,
          2009.137262,
          2009.164428,
          2009.191594,
          2009.21876,
          2009.245926,
          2009.273092,
          2009.300259,
          2009.327425,
          2009.354591,
          2009.381757,
          2009.408923,
          2009.436089,
          2009.463256,
          2009.490422,
          2009.517588,
          2009.544754,
          2009.57192,
          2009.599086,
          2009.626252,
          2009.653419,
          2009.680585,
          2009.707751,
          2009.734917,
          2009.762083,
          2009.789249,
          2009.816415,
          2009.843582,
          2009.870748,
          2009.897914,
          2009.92508,
          2009.952246,
          2009.979412,
          2010.006579,
          2010.033745,
          2010.060911,
          2010.088077,
          2010.115243,
          2010.142409,
          2010.169575,
          2010.196742,
          2010.223908,
          2010.251074,
          2010.27824,
          2010.305406,
          2010.332572,
          2010.359739,
          2010.386905,
          2010.414071,
          2010.441237,
          2010.468403,
          2010.495569,
          2010.522735,
          2010.549902,
          2010.577068,
          2010.604234,
          2010.6314,
          2010.658566,
          2010.685732,
          2010.712899,
          2010.740065,
          2010.767231,
          2010.794397,
          2010.821563,
          2010.848729,
          2010.875895,
          2010.903062,
          2010.930228,
          2010.957394,
          2010.98456,
          2011.011726,
          2011.038892,
          2011.066059,
          2011.093225,
          2011.120391,
          2011.147557,
          2011.174723,
          2011.201889,
          2011.229055,
          2011.256222,
          2011.283388,
          2011.310554,
          2011.33772,
          2011.364886,
          2011.392052,
          2011.419218,
          2011.446385,
          2011.473551,
          2011.500717,
          2011.527883,
          2011.555049,
          2011.582215,
          2011.609382,
          2011.636548,
          2011.663714,
          2011.69088,
          2011.718046,
          2011.745212,
          2011.772378,
          2011.799545,
          2011.826711,
          2011.853877,
          2011.881043,
          2011.908209,
          2011.935375,
          2011.962542,
          2011.989708,
          2012.016828,
          2012.04392,
          2012.071012,
          2012.098104,
          2012.125195,
          2012.152287,
          2012.179379,
          2012.206471,
          2012.233563,
          2012.260655,
          2012.287747,
          2012.314839,
          2012.341931,
          2012.369023,
          2012.396115,
          2012.423207,
          2012.450299,
          2012.477391,
          2012.504482,
          2012.531574,
          2012.558666,
          2012.585758,
          2012.61285,
          2012.639942,
          2012.667034,
          2012.694126,
          2012.721218,
          2012.74831,
          2012.775402,
          2012.802494,
          2012.829586,
          2012.856677,
          2012.883769,
          2012.910861,
          2012.937953,
          2012.965045,
          2012.992137,
          2013.019282,
          2013.046448,
          2013.073614,
          2013.10078,
          2013.127946,
          2013.155113,
          2013.182279,
          2013.209445,
          2013.236611,
          2013.263777,
          2013.290943,
          2013.318109,
          2013.345276,
          2013.372442,
          2013.399608,
          2013.426774,
          2013.45394,
          2013.481106,
          2013.508272,
          2013.535439,
          2013.562605,
          2013.589771,
          2013.616937,
          2013.644103,
          2013.671269,
          2013.698436,
          2013.725602,
          2013.752768,
          2013.779934,
          2013.8071,
          2013.834266,
          2013.861432,
          2013.888599,
          2013.915765,
          2013.942931,
          2013.970097,
          2013.997263,
          2014.024429,
          2014.051596,
          2014.078762,
          2014.105928,
          2014.133094,
          2014.16026,
          2014.187426,
          2014.214592,
          2014.241759,
          2014.268925,
          2014.296091,
          2014.323257,
          2014.350423,
          2014.377589,
          2014.404756,
          2014.431922,
          2014.459088,
          2014.486254,
          2014.51342,
          2014.540586,
          2014.567752,
          2014.594919,
          2014.622085,
          2014.649251,
          2014.676417,
          2014.703583,
          2014.730749,
          2014.757915,
          2014.785082,
          2014.812248,
          2014.839414,
          2014.86658,
          2014.893746,
          2014.920912,
          2014.948079,
          2014.975245,
          2015.002411,
          2015.029577,
          2015.056743,
          2015.083909,
          2015.111075,
          2015.138242,
          2015.165408,
          2015.192574,
          2015.21974,
          2015.246906,
          2015.274072,
          2015.301239,
          2015.328405,
          2015.355571,
          2015.382737,
          2015.409903,
          2015.437069,
          2015.464235,
          2015.491402,
          2015.518568,
          2015.545734,
          2015.5729,
          2015.600066,
          2015.627232,
          2015.654399,
          2015.681565,
          2015.708731,
          2015.735897,
          2015.763063,
          2015.790229,
          2015.817395,
          2015.844562,
          2015.871728,
          2015.898894,
          2015.92606,
          2015.953226,
          2015.980392,
          2016.007538,
          2016.03463,
          2016.061722,
          2016.088814,
          2016.115906,
          2016.142997,
          2016.170089,
          2016.197181,
          2016.224273,
          2016.251365,
          2016.278457,
          2016.305549,
          2016.332641,
          2016.359733,
          2016.386825,
          2016.413917,
          2016.441009,
          2016.468101,
          2016.495193,
          2016.522284,
          2016.549376,
          2016.576468,
          2016.60356,
          2016.630652,
          2016.657744,
          2016.684836,
          2016.711928,
          2016.73902,
          2016.766112,
          2016.793204,
          2016.820296,
          2016.847388,
          2016.87448,
          2016.901571,
          2016.928663,
          2016.955755,
          2016.982847,
          2017.009966,
          2017.037133,
          2017.064299,
          2017.091465,
          2017.118631,
          2017.145797,
          2017.172963,
          2017.200129,
          2017.227296,
          2017.254462,
          2017.281628,
          2017.308794,
          2017.33596,
          2017.363126,
          2017.390293,
          2017.417459,
          2017.444625,
          2017.471791,
          2017.498957,
          2017.526123,
          2017.553289,
          2017.580456,
          2017.607622,
          2017.634788,
          2017.661954,
          2017.68912,
          2017.716286,
          2017.743453,
          2017.770619,
          2017.797785,
          2017.824951,
          2017.852117,
          2017.879283,
          2017.906449,
          2017.933616,
          2017.960782,
          2017.987948,
          2018.015114,
          2018.04228,
          2018.069446,
          2018.096613,
          2018.123779,
          2018.150945,
          2018.178111,
          2018.205277,
          2018.232443,
          2018.259609,
          2018.286776,
          2018.313942,
          2018.341108,
          2018.368274,
          2018.39544,
          2018.422606,
          2018.449772,
          2018.476939,
          2018.504105,
          2018.531271,
          2018.558437,
          2018.585603,
          2018.612769,
          2018.639936,
          2018.667102,
          2018.694268,
          2018.721434,
          2018.7486,
          2018.775766,
          2018.802932,
          2018.830099,
          2018.857265,
          2018.884431,
          2018.911597,
          2018.938763,
          2018.965929,
          2018.993096,
          2019.020262,
          2019.047428,
          2019.074594,
          2019.10176,
          2019.128926,
          2019.156092,
          2019.183259,
          2019.210425,
          2019.237591,
          2019.264757,
          2019.291923,
          2019.319089,
          2019.346256,
          2019.373422,
          2019.400588,
          2019.427754,
          2019.45492,
          2019.482086,
          2019.509252,
          2019.536419,
          2019.563585,
          2019.590751,
          2019.617917,
          2019.645083,
          2019.672249,
          2019.699415,
          2019.726582,
          2019.753748,
          2019.780914,
          2019.80808,
          2019.835246,
          2019.862412,
          2019.889579,
          2019.916745,
          2019.943911,
          2019.971077,
          2019.998243,
          2020.02534,
          2020.052432,
          2020.079524,
          2020.106616,
          2020.133708,
          2020.1608,
          2020.187891,
          2020.214983,
          2020.242075,
          2020.269167,
          2020.296259,
          2020.323351,
          2020.350443,
          2020.377535,
          2020.404627,
          2020.431719,
          2020.458811,
          2020.485903,
          2020.512995,
          2020.540087,
          2020.567178,
          2020.59427,
          2020.621362,
          2020.648454,
          2020.675546,
          2020.702638,
          2020.72973,
          2020.756822,
          2020.783914,
          2020.811006,
          2020.838098,
          2020.86519,
          2020.892282,
          2020.919374,
          2020.946465,
          2020.973557,
          2021.000651,
          2021.027817,
          2021.054983,
          2021.08215,
          2021.109316,
          2021.136482,
          2021.163648,
          2021.190814,
          2021.21798,
          2021.245146,
          2021.272313,
          2021.299479,
          2021.326645,
          2021.353811,
          2021.380977,
          2021.408143,
          2021.43531,
          2021.462476,
          2021.489642,
          2021.516808,
          2021.543974,
          2021.57114,
          2021.598306,
          2021.625473,
          2021.652639,
          2021.679805,
          2021.706971,
          2021.734137,
          2021.761303,
          2021.788469,
          2021.815636,
          2021.842802,
          2021.869968,
          2021.897134,
          2021.9243,
          2021.951466,
          2021.978633,
          2022.005799,
          2022.032965,
          2022.060131,
          2022.087297,
          2022.114463,
          2022.141629,
          2022.168796,
          2022.195962,
          2022.223128,
          2022.250294,
          2022.27746,
          2022.304626,
          2022.331793,
          2022.358959,
          2022.386125,
          2022.413291,
          2022.440457,
          2022.467623,
          2022.494789,
          2022.521956,
          2022.549122,
          2022.576288,
          2022.603454,
          2022.63062,
          2022.657786,
          2022.684953,
          2022.712119,
          2022.739285,
          2022.766451,
          2022.793617,
          2022.820783,
          2022.847949,
          2022.875116,
          2022.902282,
          2022.929448,
          2022.956614,
          2022.98378,
          2023.010946,
          2023.038113,
          2023.065279,
          2023.092445,
          2023.119611,
          2023.146777,
          2023.173943
         ],
         "xaxis": "x",
         "y": [
          -38.61,
          -42,
          -41.96,
          -42.69,
          -37.85,
          -36.07,
          -36.09,
          -35.5,
          -35.43,
          -39.21,
          -37.47,
          -34.46,
          -36.56,
          -38.71,
          -40.14,
          -38.25,
          -35.95,
          -35.12,
          -35.28,
          -35.69,
          -28.35,
          -35.58,
          -33.99,
          -30.12,
          -29.62,
          -30.38,
          -31.84,
          -28.64,
          -26.41,
          -29.17,
          -30.73,
          -31.3,
          -32.26,
          -34.1,
          -32.06,
          -28.15,
          -30.91,
          -33.1,
          -30.64,
          -29.07,
          -33.86,
          -37.16,
          -36.53,
          -31.99,
          -34.96,
          -28.4,
          -31.62,
          -31.4,
          -32.99,
          -34.3,
          -34.87,
          -37.61,
          -35.13,
          -32.29,
          -39.98,
          -38.25,
          -32.46,
          -31.11,
          -30.96,
          -31.29,
          -28.49,
          -26.62,
          -24.98,
          -25.76,
          -26.67,
          -25.14,
          -22.96,
          -25.19,
          -19.57,
          -27.94,
          -31.66,
          -27.4,
          -25.52,
          -24.48,
          -24.26,
          -27.11,
          -24.77,
          -29.99,
          -33.55,
          -28.4,
          -28.49,
          -23.39,
          -30.06,
          -30.81,
          -30.76,
          -29.6,
          -37.43,
          -32.9,
          -31.21,
          -28.53,
          -31.53,
          -32.77,
          -28.67,
          -31.78,
          -30.34,
          -29.58,
          -27.59,
          -26.46,
          -23.72,
          -22.19,
          -16.76,
          -22.36,
          -23.42,
          -29.67,
          -23.92,
          -24.9,
          -23.28,
          -43.2,
          -26.84,
          -21.14,
          -26.03,
          -29.86,
          -31.56,
          -32.91,
          -26.8,
          -30.42,
          -26.72,
          -30.09,
          -28.24,
          -28.28,
          -31.58,
          -31.62,
          -28.79,
          -28.75,
          -30.16,
          -28.27,
          -28.01,
          -32.87,
          -27.3,
          -26.89,
          -25.43,
          -21.24,
          -23.28,
          -23.11,
          -23.22,
          -24.34,
          -21.54,
          -19.13,
          -18.65,
          -25.77,
          -17.15,
          -13.08,
          -17.97,
          -23.05,
          -22.23,
          -21.68,
          -27.41,
          -28.54,
          -26.39,
          -29.03,
          -26.63,
          -33.85,
          -28.49,
          -28.28,
          -28.64,
          -26.34,
          -25.03,
          -23.94,
          -28.92,
          -27.71,
          -24.64,
          -28.64,
          -24.59,
          -29.7,
          -27.21,
          -24.31,
          -23.57,
          -18.78,
          -19.24,
          -23.84,
          -16.96,
          -14.78,
          -13.91,
          -11.27,
          -9.03,
          -7.28,
          -11,
          -12.06,
          -10.8,
          -14.67,
          -15.42,
          -13.84,
          -21.94,
          -20.15,
          -23.26,
          -19.58,
          -23.81,
          -20.97,
          -21.07,
          -22.24,
          -23.57,
          -20.99,
          -21.03,
          -21.81,
          -19.9,
          -22.39,
          -23.02,
          -25.66,
          -24.15,
          -28.62,
          -27.86,
          -29.1,
          -25.99,
          -26.41,
          -27.93,
          -26.56,
          -26.38,
          -26.62,
          -23.06,
          -21.81,
          -22.45,
          -22.29,
          -21.19,
          -22.79,
          -20.41,
          -22.61,
          -22.78,
          -26.51,
          -22.29,
          -26.23,
          -25.08,
          -26.81,
          -24.94,
          -26.99,
          -29.48,
          -18.93,
          -21.88,
          -20.26,
          -22.08,
          -21.03,
          -23.22,
          -22.15,
          -27.25,
          -25.28,
          -23.37,
          -24.54,
          -23.37,
          -26.83,
          -24.87,
          -23.68,
          -21.6,
          -21.7,
          -20.7,
          -21.92,
          -16.62,
          -19.83,
          -15.94,
          -12.49,
          -13.24,
          -9.93,
          -12.94,
          -13.57,
          -14.92,
          -14.11,
          -16.52,
          -14.43,
          -15.39,
          -15.94,
          -17.99,
          -17.02,
          -16.71,
          -20.47,
          -21.3,
          -17.93,
          -18.05,
          -20.1,
          -16.63,
          -21.92,
          -21.85,
          -20.76,
          -22.6,
          -21.54,
          -21.46,
          -21.59,
          -22.56,
          -23.15,
          -21.14,
          -19.27,
          -18.85,
          -21.41,
          -17.57,
          -12.62,
          -15.18,
          -14.02,
          -9.25,
          -6.82,
          -6.17,
          -8.95,
          -0.3,
          -8.17,
          -11.5,
          -12.79,
          -16.38,
          -16.6,
          -13.84,
          -15.14,
          -14.38,
          -15.48,
          -14.63,
          -17.11,
          -13.22,
          -10.23,
          -17.42,
          -13.71,
          -14.66,
          -12.08,
          -13.91,
          -16.57,
          -17,
          -17.25,
          -17.27,
          -17.63,
          -13.19,
          -10.64,
          -9.87,
          -13.63,
          -8.76,
          -10.15,
          -8.21,
          -6.16,
          -3.21,
          -2.02,
          0.02,
          -4.34,
          -8.23,
          -4.38,
          -3.11,
          -8.19,
          -9.7,
          -11.47,
          -10.65,
          -9.21,
          -13.56,
          -11.5,
          -8.38,
          -10.79,
          -11.41,
          -8.39,
          -14.08,
          -12.88,
          -11.96,
          -9.45,
          -13.3,
          -12.02,
          -13.92,
          -12.26,
          -12.35,
          -15.36,
          -14.21,
          -9.45,
          -10.29,
          -7.75,
          -5.96,
          -3.51,
          0.04,
          -2.91,
          -2.28,
          -0.68,
          0.23,
          -1,
          1.16,
          5.78,
          0.47,
          0.67,
          -0.03,
          -4.16,
          -4.64,
          -4.24,
          -7.01,
          -9.27,
          -2.26,
          -2.86,
          -1.02,
          -7.05,
          -6.92,
          -6.01,
          -4.77,
          -5.26,
          -4.76,
          -6.47,
          -7.91,
          -7.87,
          -7.86,
          -8.03,
          -10.63,
          -7.83,
          -8.81,
          -7.26,
          -3.89,
          -5.17,
          -3.37,
          -4.61,
          0.86,
          2.67,
          1.24,
          1.85,
          3.3,
          2.26,
          4.57,
          1.28,
          -1.28,
          -6.29,
          0.32,
          0.4,
          -3.65,
          -3.95,
          0.67,
          0.63,
          -1.91,
          -9.01,
          -4.25,
          -2.76,
          -4.69,
          -4.77,
          -3.16,
          -4.78,
          -3.13,
          -7.51,
          -9.05,
          -12.9,
          -9.33,
          -10.44,
          -7.95,
          -2.25,
          -1.97,
          -2.67,
          -3.47,
          -1.23,
          2.55,
          2.42,
          2.88,
          7.44,
          4.32,
          4.6,
          5.71,
          3.33,
          3.28,
          3.2,
          -0.45,
          3.42,
          1.64,
          5.32,
          -2.46,
          -3.15,
          0.52,
          1.51,
          1.3,
          0.06,
          4.31,
          3.1,
          -2.31,
          -0.47,
          2.9,
          -2.79,
          -1.63,
          -0.64,
          -0.49,
          -0.77,
          -0.66,
          0.53,
          -0.61,
          2.69,
          0.96,
          4.43,
          2.55,
          3.64,
          5.58,
          6.82,
          9.13,
          9.41,
          8.95,
          6.02,
          7.05,
          10.29,
          8.81,
          8.83,
          6.97,
          5.89,
          5.25,
          2.21,
          0.99,
          1.26,
          1.27,
          0.03,
          1.05,
          3.44,
          -2.79,
          -0.78,
          0.08,
          -1.95,
          -3.2,
          -3.2,
          -0.08,
          1.76,
          0.14,
          1.52,
          2.21,
          4.75,
          6.17,
          5.38,
          5.55,
          3.53,
          6.47,
          10.31,
          12.85,
          14.2,
          10.16,
          10.1,
          12.73,
          12.48,
          10.93,
          6.58,
          9.37,
          5.98,
          6,
          4.59,
          3.19,
          2.81,
          2.37,
          3.38,
          7.4,
          4.1,
          3.31,
          1.84,
          4.76,
          4.46,
          3.2,
          -1.8,
          1.27,
          1.74,
          1.77,
          1.48,
          2.85,
          3.54,
          2.35,
          1.17,
          2.97,
          8.94,
          6.46,
          5.61,
          6.8,
          10.66,
          8.86,
          8.38,
          11.35,
          9.05,
          10.86,
          11.95,
          9.91,
          8.47,
          3.28,
          2.56,
          4.95,
          6,
          4.81,
          0.89,
          3.38,
          0.82,
          3.14,
          3.5,
          1.39,
          0.86,
          0.84,
          -1.81,
          0.14,
          4.67,
          7.68,
          5.98,
          6.83,
          8.15,
          7.61,
          7.33,
          8.23,
          8.35,
          11.43,
          10.97,
          12.05,
          11.07,
          12.98,
          13.78,
          14.41,
          14.64,
          12.73,
          12.48,
          10.86,
          15.21,
          10.56,
          7.04,
          8.12,
          7.68,
          9.43,
          6.67,
          5.84,
          8.37,
          8.63,
          8.46,
          9.16,
          7.98,
          7.04,
          7.38,
          6.7,
          7.82,
          6.48,
          4.84,
          7.64,
          8.57,
          7.23,
          6.64,
          10.25,
          15.5,
          13.93,
          14.31,
          16.27,
          18.14,
          20.73,
          21.11,
          20.49,
          21.43,
          22.93,
          23.55,
          19.51,
          20.43,
          17.94,
          14.38,
          18.51,
          14.27,
          13.99,
          12.43,
          9.84,
          14.19,
          17.28,
          18.91,
          10.88,
          11.55,
          10.78,
          12.59,
          11.65,
          10.36,
          11.28,
          14.49,
          13.22,
          14.02,
          15.51,
          14.84,
          12.86,
          14.93,
          14.74,
          13.49,
          15.57,
          12.03,
          15.1,
          16.54,
          15.47,
          14.29,
          18.6,
          16.69,
          14.3,
          14.53,
          11.12,
          11.07,
          10.18,
          11.89,
          9.56,
          8.41,
          8.52,
          8.79,
          9.12,
          8.9,
          7.65,
          7.8,
          3.66,
          6.38,
          6.37,
          5.62,
          2.53,
          7.42,
          8.07,
          6.71,
          10.77,
          13.77,
          10.87,
          11.2,
          11.86,
          13.83,
          18.36,
          19.29,
          21.31,
          20.54,
          18.65,
          20.77,
          22.59,
          24.58,
          18.84,
          16.47,
          17.54,
          20.63,
          18.11,
          16.94,
          16.52,
          19.38,
          18.46,
          20.14,
          18.9,
          19.91,
          18.94,
          17.12,
          17.05,
          18.1,
          16.74,
          17.22,
          17.98,
          17.38,
          17.94,
          16.07,
          17.79,
          22.21,
          20.62,
          20.6,
          25.05,
          27.56,
          26.75,
          27.79,
          24.81,
          29.77,
          29.62,
          32.97,
          33.06,
          33.77,
          31.82,
          31.54,
          31.78,
          30.69,
          29.55,
          32.13,
          27.95,
          29.27,
          27.52,
          26.29,
          28.69,
          28.16,
          26.21,
          26.45,
          27.63,
          26.64,
          26.8,
          25.4,
          20.88,
          23.2,
          23.47,
          20.75,
          19.72,
          20.08,
          20.2,
          22.21,
          21.21,
          22.28,
          25.78,
          27.14,
          23.32,
          26.36,
          28.41,
          29.58,
          29.65,
          30.77,
          30.65,
          32.96,
          32.94,
          31,
          30.97,
          30.43,
          25.8,
          26.34,
          27.55,
          26.52,
          27.38,
          27.03,
          28.14,
          29.74,
          30.2,
          28.75,
          28.02,
          28.36,
          26.54,
          24.23,
          22.31,
          22.81,
          21.55,
          23.01,
          24.21,
          23.81,
          26.68,
          29.01,
          30.18,
          29.36,
          33.05,
          34.51,
          35.25,
          34.74,
          35.87,
          33.83,
          35.97,
          39.21,
          38.14,
          34.4,
          33.91,
          30.31,
          32.68,
          38.69,
          34.88,
          29.33,
          32.41,
          32.67,
          35.74,
          34.76,
          38.56,
          36.88,
          34.32,
          34.49,
          36.44,
          35.34,
          35.12,
          34.76,
          32.49,
          30.95,
          34.53,
          36.61,
          38.35,
          40.03,
          40.51,
          42.92,
          43.48,
          44.63,
          43.41,
          50.18,
          50.45,
          49.7,
          49.93,
          50.87,
          51.18,
          53.33,
          49.8,
          46.55,
          49.87,
          47.08,
          43.98,
          42.04,
          40.21,
          45.54,
          48.09,
          42.48,
          45.54,
          44.55,
          44.92,
          43.7,
          46.76,
          43.22,
          42.63,
          39.59,
          38.34,
          36.67,
          36.22,
          38.97,
          39.22,
          41.73,
          40.65,
          40.72,
          40.88,
          39.2,
          40.1,
          40.27,
          44.93,
          47.73,
          46.7,
          44.05,
          43.55,
          46.23,
          47.32,
          47.07,
          48.26,
          50.66,
          45.7,
          43.25,
          42.62,
          41.09,
          41.58,
          39.7,
          39.09,
          38.44,
          40.35,
          39.86,
          40.48,
          41.63,
          42.43,
          39.72,
          40.05,
          38.46,
          39.02,
          36.03,
          39.31,
          39.97,
          40.11,
          40.02,
          40.37,
          42.73,
          47.28,
          46.43,
          46.9,
          49.68,
          51.75,
          51.53,
          49.01,
          49.39,
          50.52,
          50.59,
          52.84,
          51.55,
          52.97,
          51.18,
          50.43,
          46.52,
          45.71,
          45.85,
          46.37,
          47.95,
          44.62,
          41.64,
          46.49,
          46.53,
          43.14,
          40.36,
          42.27,
          42.36,
          43.27,
          42.86,
          42.82,
          45.14,
          44.6,
          43.1,
          43.59,
          46.76,
          48.95,
          47.99,
          49.13,
          50.46,
          53.1,
          56.57,
          55.82,
          59.22,
          57.02,
          57.42,
          58.7,
          55.94,
          53.32,
          51.02,
          51.92,
          51.02,
          50.21,
          48.69,
          54.07,
          51.16,
          53.33,
          51.46,
          50.49,
          51.64,
          53.67,
          50.88,
          49.71,
          47.75,
          51.6,
          52.88,
          50.93,
          49.96,
          50.4,
          53.27,
          52.28,
          52.48,
          55.05,
          54.86,
          55.92,
          60.34,
          63.2,
          62.26,
          64.44,
          64.02,
          61.58,
          62.89,
          60,
          58.75,
          62.59,
          61.9,
          60.35,
          60.06,
          56.79,
          56,
          53.01,
          51.26,
          53.31,
          48.1,
          54.14,
          52.92,
          55.19,
          52.21,
          53.01,
          52.35,
          50.43,
          54.01,
          56.84,
          55.75,
          53,
          53.65,
          50.79,
          52.57,
          53.76,
          55.46,
          56.41,
          57.44,
          56.24,
          59.99,
          62.72,
          63.37,
          62.3,
          64.44,
          64.04,
          61.64,
          64.16,
          63.05,
          58.94,
          59.38,
          56.92,
          58.08,
          59.45,
          59.56,
          59.6,
          59.84,
          55.91,
          53.99,
          53.28,
          55.22,
          55.93,
          58.93,
          57.76,
          57.81,
          56.08,
          56.21,
          57.45,
          56.6,
          54.43,
          57.03,
          56.44,
          59.06,
          58.67,
          61.81,
          64.25,
          67.03,
          64.13,
          66.81,
          68.81,
          67.36,
          68.78,
          68.69,
          69.82,
          66.98,
          63.97,
          64.58,
          66.1,
          62.15,
          61.8,
          63.62,
          64.04,
          63.8,
          62.29,
          62.82,
          58.15,
          56.15,
          59.74,
          59.06,
          60.7,
          61.85,
          59.94,
          61.98,
          57.14,
          55.78,
          55.36,
          57.31,
          55.98,
          61.41,
          64.57,
          64.72,
          62.06,
          62.9,
          68.7,
          69.88,
          71.41,
          69.08,
          70.83,
          71.94,
          71.35,
          69.52,
          71.65,
          65.55,
          64.01,
          64.1,
          71.01,
          70.64,
          65.39,
          66.64,
          66.03,
          65.34,
          65.59,
          64.67,
          64.53
         ],
         "yaxis": "y"
        }
       ],
       "layout": {
        "legend": {
         "tracegroupgap": 0
        },
        "template": {
         "data": {
          "bar": [
           {
            "error_x": {
             "color": "#2a3f5f"
            },
            "error_y": {
             "color": "#2a3f5f"
            },
            "marker": {
             "line": {
              "color": "#E5ECF6",
              "width": 0.5
             },
             "pattern": {
              "fillmode": "overlay",
              "size": 10,
              "solidity": 0.2
             }
            },
            "type": "bar"
           }
          ],
          "barpolar": [
           {
            "marker": {
             "line": {
              "color": "#E5ECF6",
              "width": 0.5
             },
             "pattern": {
              "fillmode": "overlay",
              "size": 10,
              "solidity": 0.2
             }
            },
            "type": "barpolar"
           }
          ],
          "carpet": [
           {
            "aaxis": {
             "endlinecolor": "#2a3f5f",
             "gridcolor": "white",
             "linecolor": "white",
             "minorgridcolor": "white",
             "startlinecolor": "#2a3f5f"
            },
            "baxis": {
             "endlinecolor": "#2a3f5f",
             "gridcolor": "white",
             "linecolor": "white",
             "minorgridcolor": "white",
             "startlinecolor": "#2a3f5f"
            },
            "type": "carpet"
           }
          ],
          "choropleth": [
           {
            "colorbar": {
             "outlinewidth": 0,
             "ticks": ""
            },
            "type": "choropleth"
           }
          ],
          "contour": [
           {
            "colorbar": {
             "outlinewidth": 0,
             "ticks": ""
            },
            "colorscale": [
             [
              0,
              "#0d0887"
             ],
             [
              0.1111111111111111,
              "#46039f"
             ],
             [
              0.2222222222222222,
              "#7201a8"
             ],
             [
              0.3333333333333333,
              "#9c179e"
             ],
             [
              0.4444444444444444,
              "#bd3786"
             ],
             [
              0.5555555555555556,
              "#d8576b"
             ],
             [
              0.6666666666666666,
              "#ed7953"
             ],
             [
              0.7777777777777778,
              "#fb9f3a"
             ],
             [
              0.8888888888888888,
              "#fdca26"
             ],
             [
              1,
              "#f0f921"
             ]
            ],
            "type": "contour"
           }
          ],
          "contourcarpet": [
           {
            "colorbar": {
             "outlinewidth": 0,
             "ticks": ""
            },
            "type": "contourcarpet"
           }
          ],
          "heatmap": [
           {
            "colorbar": {
             "outlinewidth": 0,
             "ticks": ""
            },
            "colorscale": [
             [
              0,
              "#0d0887"
             ],
             [
              0.1111111111111111,
              "#46039f"
             ],
             [
              0.2222222222222222,
              "#7201a8"
             ],
             [
              0.3333333333333333,
              "#9c179e"
             ],
             [
              0.4444444444444444,
              "#bd3786"
             ],
             [
              0.5555555555555556,
              "#d8576b"
             ],
             [
              0.6666666666666666,
              "#ed7953"
             ],
             [
              0.7777777777777778,
              "#fb9f3a"
             ],
             [
              0.8888888888888888,
              "#fdca26"
             ],
             [
              1,
              "#f0f921"
             ]
            ],
            "type": "heatmap"
           }
          ],
          "heatmapgl": [
           {
            "colorbar": {
             "outlinewidth": 0,
             "ticks": ""
            },
            "colorscale": [
             [
              0,
              "#0d0887"
             ],
             [
              0.1111111111111111,
              "#46039f"
             ],
             [
              0.2222222222222222,
              "#7201a8"
             ],
             [
              0.3333333333333333,
              "#9c179e"
             ],
             [
              0.4444444444444444,
              "#bd3786"
             ],
             [
              0.5555555555555556,
              "#d8576b"
             ],
             [
              0.6666666666666666,
              "#ed7953"
             ],
             [
              0.7777777777777778,
              "#fb9f3a"
             ],
             [
              0.8888888888888888,
              "#fdca26"
             ],
             [
              1,
              "#f0f921"
             ]
            ],
            "type": "heatmapgl"
           }
          ],
          "histogram": [
           {
            "marker": {
             "pattern": {
              "fillmode": "overlay",
              "size": 10,
              "solidity": 0.2
             }
            },
            "type": "histogram"
           }
          ],
          "histogram2d": [
           {
            "colorbar": {
             "outlinewidth": 0,
             "ticks": ""
            },
            "colorscale": [
             [
              0,
              "#0d0887"
             ],
             [
              0.1111111111111111,
              "#46039f"
             ],
             [
              0.2222222222222222,
              "#7201a8"
             ],
             [
              0.3333333333333333,
              "#9c179e"
             ],
             [
              0.4444444444444444,
              "#bd3786"
             ],
             [
              0.5555555555555556,
              "#d8576b"
             ],
             [
              0.6666666666666666,
              "#ed7953"
             ],
             [
              0.7777777777777778,
              "#fb9f3a"
             ],
             [
              0.8888888888888888,
              "#fdca26"
             ],
             [
              1,
              "#f0f921"
             ]
            ],
            "type": "histogram2d"
           }
          ],
          "histogram2dcontour": [
           {
            "colorbar": {
             "outlinewidth": 0,
             "ticks": ""
            },
            "colorscale": [
             [
              0,
              "#0d0887"
             ],
             [
              0.1111111111111111,
              "#46039f"
             ],
             [
              0.2222222222222222,
              "#7201a8"
             ],
             [
              0.3333333333333333,
              "#9c179e"
             ],
             [
              0.4444444444444444,
              "#bd3786"
             ],
             [
              0.5555555555555556,
              "#d8576b"
             ],
             [
              0.6666666666666666,
              "#ed7953"
             ],
             [
              0.7777777777777778,
              "#fb9f3a"
             ],
             [
              0.8888888888888888,
              "#fdca26"
             ],
             [
              1,
              "#f0f921"
             ]
            ],
            "type": "histogram2dcontour"
           }
          ],
          "mesh3d": [
           {
            "colorbar": {
             "outlinewidth": 0,
             "ticks": ""
            },
            "type": "mesh3d"
           }
          ],
          "parcoords": [
           {
            "line": {
             "colorbar": {
              "outlinewidth": 0,
              "ticks": ""
             }
            },
            "type": "parcoords"
           }
          ],
          "pie": [
           {
            "automargin": true,
            "type": "pie"
           }
          ],
          "scatter": [
           {
            "fillpattern": {
             "fillmode": "overlay",
             "size": 10,
             "solidity": 0.2
            },
            "type": "scatter"
           }
          ],
          "scatter3d": [
           {
            "line": {
             "colorbar": {
              "outlinewidth": 0,
              "ticks": ""
             }
            },
            "marker": {
             "colorbar": {
              "outlinewidth": 0,
              "ticks": ""
             }
            },
            "type": "scatter3d"
           }
          ],
          "scattercarpet": [
           {
            "marker": {
             "colorbar": {
              "outlinewidth": 0,
              "ticks": ""
             }
            },
            "type": "scattercarpet"
           }
          ],
          "scattergeo": [
           {
            "marker": {
             "colorbar": {
              "outlinewidth": 0,
              "ticks": ""
             }
            },
            "type": "scattergeo"
           }
          ],
          "scattergl": [
           {
            "marker": {
             "colorbar": {
              "outlinewidth": 0,
              "ticks": ""
             }
            },
            "type": "scattergl"
           }
          ],
          "scattermapbox": [
           {
            "marker": {
             "colorbar": {
              "outlinewidth": 0,
              "ticks": ""
             }
            },
            "type": "scattermapbox"
           }
          ],
          "scatterpolar": [
           {
            "marker": {
             "colorbar": {
              "outlinewidth": 0,
              "ticks": ""
             }
            },
            "type": "scatterpolar"
           }
          ],
          "scatterpolargl": [
           {
            "marker": {
             "colorbar": {
              "outlinewidth": 0,
              "ticks": ""
             }
            },
            "type": "scatterpolargl"
           }
          ],
          "scatterternary": [
           {
            "marker": {
             "colorbar": {
              "outlinewidth": 0,
              "ticks": ""
             }
            },
            "type": "scatterternary"
           }
          ],
          "surface": [
           {
            "colorbar": {
             "outlinewidth": 0,
             "ticks": ""
            },
            "colorscale": [
             [
              0,
              "#0d0887"
             ],
             [
              0.1111111111111111,
              "#46039f"
             ],
             [
              0.2222222222222222,
              "#7201a8"
             ],
             [
              0.3333333333333333,
              "#9c179e"
             ],
             [
              0.4444444444444444,
              "#bd3786"
             ],
             [
              0.5555555555555556,
              "#d8576b"
             ],
             [
              0.6666666666666666,
              "#ed7953"
             ],
             [
              0.7777777777777778,
              "#fb9f3a"
             ],
             [
              0.8888888888888888,
              "#fdca26"
             ],
             [
              1,
              "#f0f921"
             ]
            ],
            "type": "surface"
           }
          ],
          "table": [
           {
            "cells": {
             "fill": {
              "color": "#EBF0F8"
             },
             "line": {
              "color": "white"
             }
            },
            "header": {
             "fill": {
              "color": "#C8D4E3"
             },
             "line": {
              "color": "white"
             }
            },
            "type": "table"
           }
          ]
         },
         "layout": {
          "annotationdefaults": {
           "arrowcolor": "#2a3f5f",
           "arrowhead": 0,
           "arrowwidth": 1
          },
          "autotypenumbers": "strict",
          "coloraxis": {
           "colorbar": {
            "outlinewidth": 0,
            "ticks": ""
           }
          },
          "colorscale": {
           "diverging": [
            [
             0,
             "#8e0152"
            ],
            [
             0.1,
             "#c51b7d"
            ],
            [
             0.2,
             "#de77ae"
            ],
            [
             0.3,
             "#f1b6da"
            ],
            [
             0.4,
             "#fde0ef"
            ],
            [
             0.5,
             "#f7f7f7"
            ],
            [
             0.6,
             "#e6f5d0"
            ],
            [
             0.7,
             "#b8e186"
            ],
            [
             0.8,
             "#7fbc41"
            ],
            [
             0.9,
             "#4d9221"
            ],
            [
             1,
             "#276419"
            ]
           ],
           "sequential": [
            [
             0,
             "#0d0887"
            ],
            [
             0.1111111111111111,
             "#46039f"
            ],
            [
             0.2222222222222222,
             "#7201a8"
            ],
            [
             0.3333333333333333,
             "#9c179e"
            ],
            [
             0.4444444444444444,
             "#bd3786"
            ],
            [
             0.5555555555555556,
             "#d8576b"
            ],
            [
             0.6666666666666666,
             "#ed7953"
            ],
            [
             0.7777777777777778,
             "#fb9f3a"
            ],
            [
             0.8888888888888888,
             "#fdca26"
            ],
            [
             1,
             "#f0f921"
            ]
           ],
           "sequentialminus": [
            [
             0,
             "#0d0887"
            ],
            [
             0.1111111111111111,
             "#46039f"
            ],
            [
             0.2222222222222222,
             "#7201a8"
            ],
            [
             0.3333333333333333,
             "#9c179e"
            ],
            [
             0.4444444444444444,
             "#bd3786"
            ],
            [
             0.5555555555555556,
             "#d8576b"
            ],
            [
             0.6666666666666666,
             "#ed7953"
            ],
            [
             0.7777777777777778,
             "#fb9f3a"
            ],
            [
             0.8888888888888888,
             "#fdca26"
            ],
            [
             1,
             "#f0f921"
            ]
           ]
          },
          "colorway": [
           "#636efa",
           "#EF553B",
           "#00cc96",
           "#ab63fa",
           "#FFA15A",
           "#19d3f3",
           "#FF6692",
           "#B6E880",
           "#FF97FF",
           "#FECB52"
          ],
          "font": {
           "color": "#2a3f5f"
          },
          "geo": {
           "bgcolor": "white",
           "lakecolor": "white",
           "landcolor": "#E5ECF6",
           "showlakes": true,
           "showland": true,
           "subunitcolor": "white"
          },
          "hoverlabel": {
           "align": "left"
          },
          "hovermode": "closest",
          "mapbox": {
           "style": "light"
          },
          "paper_bgcolor": "white",
          "plot_bgcolor": "#E5ECF6",
          "polar": {
           "angularaxis": {
            "gridcolor": "white",
            "linecolor": "white",
            "ticks": ""
           },
           "bgcolor": "#E5ECF6",
           "radialaxis": {
            "gridcolor": "white",
            "linecolor": "white",
            "ticks": ""
           }
          },
          "scene": {
           "xaxis": {
            "backgroundcolor": "#E5ECF6",
            "gridcolor": "white",
            "gridwidth": 2,
            "linecolor": "white",
            "showbackground": true,
            "ticks": "",
            "zerolinecolor": "white"
           },
           "yaxis": {
            "backgroundcolor": "#E5ECF6",
            "gridcolor": "white",
            "gridwidth": 2,
            "linecolor": "white",
            "showbackground": true,
            "ticks": "",
            "zerolinecolor": "white"
           },
           "zaxis": {
            "backgroundcolor": "#E5ECF6",
            "gridcolor": "white",
            "gridwidth": 2,
            "linecolor": "white",
            "showbackground": true,
            "ticks": "",
            "zerolinecolor": "white"
           }
          },
          "shapedefaults": {
           "line": {
            "color": "#2a3f5f"
           }
          },
          "ternary": {
           "aaxis": {
            "gridcolor": "white",
            "linecolor": "white",
            "ticks": ""
           },
           "baxis": {
            "gridcolor": "white",
            "linecolor": "white",
            "ticks": ""
           },
           "bgcolor": "#E5ECF6",
           "caxis": {
            "gridcolor": "white",
            "linecolor": "white",
            "ticks": ""
           }
          },
          "title": {
           "x": 0.05
          },
          "xaxis": {
           "automargin": true,
           "gridcolor": "white",
           "linecolor": "white",
           "ticks": "",
           "title": {
            "standoff": 15
           },
           "zerolinecolor": "white",
           "zerolinewidth": 2
          },
          "yaxis": {
           "automargin": true,
           "gridcolor": "white",
           "linecolor": "white",
           "ticks": "",
           "title": {
            "standoff": 15
           },
           "zerolinecolor": "white",
           "zerolinewidth": 2
          }
         }
        },
        "title": {
         "text": "Ocean Level Over Time"
        },
        "xaxis": {
         "anchor": "y",
         "domain": [
          0,
          1
         ],
         "title": {
          "text": "Year + Fraction of Year (Mid-Cycle)"
         }
        },
        "yaxis": {
         "anchor": "x",
         "domain": [
          0,
          1
         ],
         "title": {
          "text": "GMSL - Gia Applied"
         }
        }
       }
      },
      "text/html": [
       "<div>                            <div id=\"cfe54bbc-0ce5-4b36-bc02-2a6c821927a1\" class=\"plotly-graph-div\" style=\"height:525px; width:100%;\"></div>            <script type=\"text/javascript\">                require([\"plotly\"], function(Plotly) {                    window.PLOTLYENV=window.PLOTLYENV || {};                                    if (document.getElementById(\"cfe54bbc-0ce5-4b36-bc02-2a6c821927a1\")) {                    Plotly.newPlot(                        \"cfe54bbc-0ce5-4b36-bc02-2a6c821927a1\",                        [{\"hovertemplate\":\"Year + Fraction of Year (Mid-Cycle)=%{x}<br>GMSL - Gia Applied=%{y}<extra></extra>\",\"legendgroup\":\"\",\"line\":{\"color\":\"#636efa\",\"dash\":\"solid\"},\"marker\":{\"symbol\":\"circle\"},\"mode\":\"lines\",\"name\":\"\",\"showlegend\":false,\"x\":[1993.011526,1993.038692,1993.065858,1993.093025,1993.120191,1993.147357,1993.174523,1993.201689,1993.228855,1993.256021,1993.283188,1993.310354,1993.33752,1993.364686,1993.391852,1993.419018,1993.446185,1993.473351,1993.500517,1993.527683,1993.554849,1993.582015,1993.609181,1993.636348,1993.663514,1993.69068,1993.717846,1993.745012,1993.772178,1993.799345,1993.826511,1993.853677,1993.880843,1993.908009,1993.935175,1993.962341,1993.989508,1994.016674,1994.04384,1994.071006,1994.098172,1994.125338,1994.152505,1994.179671,1994.206837,1994.234003,1994.261169,1994.288335,1994.315501,1994.342668,1994.369834,1994.397,1994.424166,1994.451332,1994.478498,1994.505664,1994.532831,1994.559997,1994.587163,1994.614329,1994.641495,1994.668661,1994.695828,1994.722994,1994.75016,1994.777326,1994.804492,1994.831658,1994.858824,1994.885991,1994.913157,1994.940323,1994.967489,1994.994655,1995.021821,1995.048988,1995.076154,1995.10332,1995.130486,1995.157652,1995.184818,1995.211984,1995.239151,1995.266317,1995.293483,1995.320649,1995.347815,1995.374981,1995.402148,1995.429314,1995.45648,1995.483646,1995.510812,1995.537978,1995.565144,1995.592311,1995.619477,1995.646643,1995.673809,1995.700975,1995.728141,1995.755307,1995.782474,1995.80964,1995.836806,1995.863972,1995.891138,1995.918304,1995.945471,1995.972637,1995.999803,1996.026895,1996.053987,1996.081079,1996.108171,1996.135263,1996.162355,1996.189447,1996.216539,1996.243631,1996.270723,1996.297815,1996.324907,1996.351998,1996.37909,1996.406182,1996.433274,1996.460366,1996.487458,1996.51455,1996.541642,1996.568734,1996.595826,1996.622918,1996.65001,1996.677102,1996.704194,1996.731285,1996.758377,1996.785469,1996.812561,1996.839653,1996.866745,1996.893837,1996.920929,1996.948021,1996.975113,1997.002211,1997.029377,1997.056543,1997.083709,1997.110875,1997.138042,1997.165208,1997.192374,1997.21954,1997.246706,1997.273872,1997.301038,1997.328205,1997.355371,1997.382537,1997.409703,1997.436869,1997.464035,1997.491202,1997.518368,1997.545534,1997.5727,1997.599866,1997.627032,1997.654198,1997.681365,1997.708531,1997.735697,1997.762863,1997.790029,1997.817195,1997.844362,1997.871528,1997.898694,1997.92586,1997.953026,1997.980192,1998.007358,1998.034525,1998.061691,1998.088857,1998.116023,1998.143189,1998.170355,1998.197521,1998.224688,1998.251854,1998.27902,1998.306186,1998.333352,1998.360518,1998.387685,1998.414851,1998.442017,1998.469183,1998.496349,1998.523515,1998.550681,1998.577848,1998.605014,1998.63218,1998.659346,1998.686512,1998.713678,1998.740845,1998.768011,1998.795177,1998.822343,1998.849509,1998.876675,1998.903841,1998.931008,1998.958174,1998.98534,1999.012506,1999.039672,1999.066838,1999.094005,1999.121171,1999.148337,1999.175503,1999.202669,1999.229835,1999.257001,1999.284168,1999.311334,1999.3385,1999.365666,1999.392832,1999.419998,1999.447164,1999.474331,1999.501497,1999.528663,1999.555829,1999.582995,1999.610161,1999.637328,1999.664494,1999.69166,1999.718826,1999.745992,1999.773158,1999.800324,1999.827491,1999.854657,1999.881823,1999.908989,1999.936155,1999.963321,1999.990488,2000.017605,2000.044697,2000.071789,2000.098881,2000.125973,2000.153065,2000.180157,2000.207249,2000.234341,2000.261433,2000.288525,2000.315617,2000.342709,2000.369801,2000.396892,2000.423984,2000.451076,2000.478168,2000.50526,2000.532352,2000.559444,2000.586536,2000.613628,2000.64072,2000.667812,2000.694904,2000.721996,2000.749088,2000.776179,2000.803271,2000.830363,2000.857455,2000.884547,2000.911639,2000.938731,2000.965823,2000.992915,2001.020062,2001.047228,2001.074394,2001.10156,2001.128726,2001.155892,2001.183059,2001.210225,2001.237391,2001.264557,2001.291723,2001.318889,2001.346055,2001.373222,2001.400388,2001.427554,2001.45472,2001.481886,2001.509052,2001.536218,2001.563385,2001.590551,2001.617717,2001.644883,2001.672049,2001.699215,2001.726382,2001.753548,2001.780714,2001.80788,2001.835046,2001.862212,2001.889378,2001.916545,2001.943711,2001.970877,2001.998043,2002.025209,2002.052375,2002.079542,2002.106708,2002.133874,2002.16104,2002.188206,2002.215372,2002.242538,2002.269705,2002.296871,2002.324037,2002.351203,2002.378369,2002.405535,2002.432702,2002.459868,2002.487034,2002.5142,2002.541366,2002.568532,2002.595698,2002.622865,2002.650031,2002.677197,2002.704363,2002.731529,2002.758695,2002.785861,2002.813028,2002.840194,2002.86736,2002.894526,2002.921692,2002.948858,2002.976025,2003.003191,2003.030357,2003.057523,2003.084689,2003.111855,2003.139021,2003.166188,2003.193354,2003.22052,2003.247686,2003.274852,2003.302018,2003.329185,2003.356351,2003.383517,2003.410683,2003.437849,2003.465015,2003.492181,2003.519348,2003.546514,2003.57368,2003.600846,2003.628012,2003.655178,2003.682345,2003.709511,2003.736677,2003.763843,2003.791009,2003.818175,2003.845341,2003.872508,2003.899674,2003.92684,2003.954006,2003.981172,2004.008316,2004.035407,2004.062499,2004.089591,2004.116683,2004.143775,2004.170867,2004.197959,2004.225051,2004.252143,2004.279235,2004.306327,2004.333419,2004.360511,2004.387603,2004.414694,2004.441786,2004.468878,2004.49597,2004.523062,2004.550154,2004.577246,2004.604338,2004.63143,2004.658522,2004.685614,2004.712706,2004.739798,2004.76689,2004.793981,2004.821073,2004.848165,2004.875257,2004.902349,2004.929441,2004.956533,2004.983625,2005.010746,2005.037912,2005.065079,2005.092245,2005.119411,2005.146577,2005.173743,2005.200909,2005.228075,2005.255242,2005.282408,2005.309574,2005.33674,2005.363906,2005.391072,2005.418239,2005.445405,2005.472571,2005.499737,2005.526903,2005.554069,2005.581235,2005.608402,2005.635568,2005.662734,2005.6899,2005.717066,2005.744232,2005.771399,2005.798565,2005.825731,2005.852897,2005.880063,2005.907229,2005.934395,2005.961562,2005.988728,2006.015894,2006.04306,2006.070226,2006.097392,2006.124559,2006.151725,2006.178891,2006.206057,2006.233223,2006.260389,2006.287555,2006.314722,2006.341888,2006.369054,2006.39622,2006.423386,2006.450552,2006.477718,2006.504885,2006.532051,2006.559217,2006.586383,2006.613549,2006.640715,2006.667882,2006.695048,2006.722214,2006.74938,2006.776546,2006.803712,2006.830878,2006.885211,2006.912377,2006.939543,2006.966709,2006.993875,2007.021042,2007.048208,2007.075374,2007.10254,2007.129706,2007.156872,2007.184038,2007.211205,2007.238371,2007.265537,2007.292703,2007.319869,2007.347035,2007.374202,2007.401368,2007.428534,2007.4557,2007.482866,2007.510032,2007.537198,2007.564365,2007.591531,2007.618697,2007.645863,2007.673029,2007.700195,2007.727361,2007.754528,2007.781694,2007.80886,2007.836026,2007.863192,2007.890358,2007.917525,2007.944691,2007.971857,2007.999023,2008.026118,2008.05321,2008.080301,2008.107393,2008.134485,2008.161577,2008.188669,2008.215761,2008.242853,2008.269945,2008.297037,2008.324129,2008.351221,2008.378313,2008.405405,2008.432497,2008.459588,2008.48668,2008.513772,2008.540864,2008.567956,2008.595048,2008.62214,2008.649232,2008.676324,2008.703416,2008.730508,2008.7576,2008.784692,2008.811784,2008.838875,2008.865967,2008.893059,2008.920151,2008.947243,2008.974335,2009.001431,2009.028597,2009.055763,2009.082929,2009.110096,2009.137262,2009.164428,2009.191594,2009.21876,2009.245926,2009.273092,2009.300259,2009.327425,2009.354591,2009.381757,2009.408923,2009.436089,2009.463256,2009.490422,2009.517588,2009.544754,2009.57192,2009.599086,2009.626252,2009.653419,2009.680585,2009.707751,2009.734917,2009.762083,2009.789249,2009.816415,2009.843582,2009.870748,2009.897914,2009.92508,2009.952246,2009.979412,2010.006579,2010.033745,2010.060911,2010.088077,2010.115243,2010.142409,2010.169575,2010.196742,2010.223908,2010.251074,2010.27824,2010.305406,2010.332572,2010.359739,2010.386905,2010.414071,2010.441237,2010.468403,2010.495569,2010.522735,2010.549902,2010.577068,2010.604234,2010.6314,2010.658566,2010.685732,2010.712899,2010.740065,2010.767231,2010.794397,2010.821563,2010.848729,2010.875895,2010.903062,2010.930228,2010.957394,2010.98456,2011.011726,2011.038892,2011.066059,2011.093225,2011.120391,2011.147557,2011.174723,2011.201889,2011.229055,2011.256222,2011.283388,2011.310554,2011.33772,2011.364886,2011.392052,2011.419218,2011.446385,2011.473551,2011.500717,2011.527883,2011.555049,2011.582215,2011.609382,2011.636548,2011.663714,2011.69088,2011.718046,2011.745212,2011.772378,2011.799545,2011.826711,2011.853877,2011.881043,2011.908209,2011.935375,2011.962542,2011.989708,2012.016828,2012.04392,2012.071012,2012.098104,2012.125195,2012.152287,2012.179379,2012.206471,2012.233563,2012.260655,2012.287747,2012.314839,2012.341931,2012.369023,2012.396115,2012.423207,2012.450299,2012.477391,2012.504482,2012.531574,2012.558666,2012.585758,2012.61285,2012.639942,2012.667034,2012.694126,2012.721218,2012.74831,2012.775402,2012.802494,2012.829586,2012.856677,2012.883769,2012.910861,2012.937953,2012.965045,2012.992137,2013.019282,2013.046448,2013.073614,2013.10078,2013.127946,2013.155113,2013.182279,2013.209445,2013.236611,2013.263777,2013.290943,2013.318109,2013.345276,2013.372442,2013.399608,2013.426774,2013.45394,2013.481106,2013.508272,2013.535439,2013.562605,2013.589771,2013.616937,2013.644103,2013.671269,2013.698436,2013.725602,2013.752768,2013.779934,2013.8071,2013.834266,2013.861432,2013.888599,2013.915765,2013.942931,2013.970097,2013.997263,2014.024429,2014.051596,2014.078762,2014.105928,2014.133094,2014.16026,2014.187426,2014.214592,2014.241759,2014.268925,2014.296091,2014.323257,2014.350423,2014.377589,2014.404756,2014.431922,2014.459088,2014.486254,2014.51342,2014.540586,2014.567752,2014.594919,2014.622085,2014.649251,2014.676417,2014.703583,2014.730749,2014.757915,2014.785082,2014.812248,2014.839414,2014.86658,2014.893746,2014.920912,2014.948079,2014.975245,2015.002411,2015.029577,2015.056743,2015.083909,2015.111075,2015.138242,2015.165408,2015.192574,2015.21974,2015.246906,2015.274072,2015.301239,2015.328405,2015.355571,2015.382737,2015.409903,2015.437069,2015.464235,2015.491402,2015.518568,2015.545734,2015.5729,2015.600066,2015.627232,2015.654399,2015.681565,2015.708731,2015.735897,2015.763063,2015.790229,2015.817395,2015.844562,2015.871728,2015.898894,2015.92606,2015.953226,2015.980392,2016.007538,2016.03463,2016.061722,2016.088814,2016.115906,2016.142997,2016.170089,2016.197181,2016.224273,2016.251365,2016.278457,2016.305549,2016.332641,2016.359733,2016.386825,2016.413917,2016.441009,2016.468101,2016.495193,2016.522284,2016.549376,2016.576468,2016.60356,2016.630652,2016.657744,2016.684836,2016.711928,2016.73902,2016.766112,2016.793204,2016.820296,2016.847388,2016.87448,2016.901571,2016.928663,2016.955755,2016.982847,2017.009966,2017.037133,2017.064299,2017.091465,2017.118631,2017.145797,2017.172963,2017.200129,2017.227296,2017.254462,2017.281628,2017.308794,2017.33596,2017.363126,2017.390293,2017.417459,2017.444625,2017.471791,2017.498957,2017.526123,2017.553289,2017.580456,2017.607622,2017.634788,2017.661954,2017.68912,2017.716286,2017.743453,2017.770619,2017.797785,2017.824951,2017.852117,2017.879283,2017.906449,2017.933616,2017.960782,2017.987948,2018.015114,2018.04228,2018.069446,2018.096613,2018.123779,2018.150945,2018.178111,2018.205277,2018.232443,2018.259609,2018.286776,2018.313942,2018.341108,2018.368274,2018.39544,2018.422606,2018.449772,2018.476939,2018.504105,2018.531271,2018.558437,2018.585603,2018.612769,2018.639936,2018.667102,2018.694268,2018.721434,2018.7486,2018.775766,2018.802932,2018.830099,2018.857265,2018.884431,2018.911597,2018.938763,2018.965929,2018.993096,2019.020262,2019.047428,2019.074594,2019.10176,2019.128926,2019.156092,2019.183259,2019.210425,2019.237591,2019.264757,2019.291923,2019.319089,2019.346256,2019.373422,2019.400588,2019.427754,2019.45492,2019.482086,2019.509252,2019.536419,2019.563585,2019.590751,2019.617917,2019.645083,2019.672249,2019.699415,2019.726582,2019.753748,2019.780914,2019.80808,2019.835246,2019.862412,2019.889579,2019.916745,2019.943911,2019.971077,2019.998243,2020.02534,2020.052432,2020.079524,2020.106616,2020.133708,2020.1608,2020.187891,2020.214983,2020.242075,2020.269167,2020.296259,2020.323351,2020.350443,2020.377535,2020.404627,2020.431719,2020.458811,2020.485903,2020.512995,2020.540087,2020.567178,2020.59427,2020.621362,2020.648454,2020.675546,2020.702638,2020.72973,2020.756822,2020.783914,2020.811006,2020.838098,2020.86519,2020.892282,2020.919374,2020.946465,2020.973557,2021.000651,2021.027817,2021.054983,2021.08215,2021.109316,2021.136482,2021.163648,2021.190814,2021.21798,2021.245146,2021.272313,2021.299479,2021.326645,2021.353811,2021.380977,2021.408143,2021.43531,2021.462476,2021.489642,2021.516808,2021.543974,2021.57114,2021.598306,2021.625473,2021.652639,2021.679805,2021.706971,2021.734137,2021.761303,2021.788469,2021.815636,2021.842802,2021.869968,2021.897134,2021.9243,2021.951466,2021.978633,2022.005799,2022.032965,2022.060131,2022.087297,2022.114463,2022.141629,2022.168796,2022.195962,2022.223128,2022.250294,2022.27746,2022.304626,2022.331793,2022.358959,2022.386125,2022.413291,2022.440457,2022.467623,2022.494789,2022.521956,2022.549122,2022.576288,2022.603454,2022.63062,2022.657786,2022.684953,2022.712119,2022.739285,2022.766451,2022.793617,2022.820783,2022.847949,2022.875116,2022.902282,2022.929448,2022.956614,2022.98378,2023.010946,2023.038113,2023.065279,2023.092445,2023.119611,2023.146777,2023.173943],\"xaxis\":\"x\",\"y\":[-38.61,-42.0,-41.96,-42.69,-37.85,-36.07,-36.09,-35.5,-35.43,-39.21,-37.47,-34.46,-36.56,-38.71,-40.14,-38.25,-35.95,-35.12,-35.28,-35.69,-28.35,-35.58,-33.99,-30.12,-29.62,-30.38,-31.84,-28.64,-26.41,-29.17,-30.73,-31.3,-32.26,-34.1,-32.06,-28.15,-30.91,-33.1,-30.64,-29.07,-33.86,-37.16,-36.53,-31.99,-34.96,-28.4,-31.62,-31.4,-32.99,-34.3,-34.87,-37.61,-35.13,-32.29,-39.98,-38.25,-32.46,-31.11,-30.96,-31.29,-28.49,-26.62,-24.98,-25.76,-26.67,-25.14,-22.96,-25.19,-19.57,-27.94,-31.66,-27.4,-25.52,-24.48,-24.26,-27.11,-24.77,-29.99,-33.55,-28.4,-28.49,-23.39,-30.06,-30.81,-30.76,-29.6,-37.43,-32.9,-31.21,-28.53,-31.53,-32.77,-28.67,-31.78,-30.34,-29.58,-27.59,-26.46,-23.72,-22.19,-16.76,-22.36,-23.42,-29.67,-23.92,-24.9,-23.28,-43.2,-26.84,-21.14,-26.03,-29.86,-31.56,-32.91,-26.8,-30.42,-26.72,-30.09,-28.24,-28.28,-31.58,-31.62,-28.79,-28.75,-30.16,-28.27,-28.01,-32.87,-27.3,-26.89,-25.43,-21.24,-23.28,-23.11,-23.22,-24.34,-21.54,-19.13,-18.65,-25.77,-17.15,-13.08,-17.97,-23.05,-22.23,-21.68,-27.41,-28.54,-26.39,-29.03,-26.63,-33.85,-28.49,-28.28,-28.64,-26.34,-25.03,-23.94,-28.92,-27.71,-24.64,-28.64,-24.59,-29.7,-27.21,-24.31,-23.57,-18.78,-19.24,-23.84,-16.96,-14.78,-13.91,-11.27,-9.03,-7.28,-11.0,-12.06,-10.8,-14.67,-15.42,-13.84,-21.94,-20.15,-23.26,-19.58,-23.81,-20.97,-21.07,-22.24,-23.57,-20.99,-21.03,-21.81,-19.9,-22.39,-23.02,-25.66,-24.15,-28.62,-27.86,-29.1,-25.99,-26.41,-27.93,-26.56,-26.38,-26.62,-23.06,-21.81,-22.45,-22.29,-21.19,-22.79,-20.41,-22.61,-22.78,-26.51,-22.29,-26.23,-25.08,-26.81,-24.94,-26.99,-29.48,-18.93,-21.88,-20.26,-22.08,-21.03,-23.22,-22.15,-27.25,-25.28,-23.37,-24.54,-23.37,-26.83,-24.87,-23.68,-21.6,-21.7,-20.7,-21.92,-16.62,-19.83,-15.94,-12.49,-13.24,-9.93,-12.94,-13.57,-14.92,-14.11,-16.52,-14.43,-15.39,-15.94,-17.99,-17.02,-16.71,-20.47,-21.3,-17.93,-18.05,-20.1,-16.63,-21.92,-21.85,-20.76,-22.6,-21.54,-21.46,-21.59,-22.56,-23.15,-21.14,-19.27,-18.85,-21.41,-17.57,-12.62,-15.18,-14.02,-9.25,-6.82,-6.17,-8.95,-0.3,-8.17,-11.5,-12.79,-16.38,-16.6,-13.84,-15.14,-14.38,-15.48,-14.63,-17.11,-13.22,-10.23,-17.42,-13.71,-14.66,-12.08,-13.91,-16.57,-17.0,-17.25,-17.27,-17.63,-13.19,-10.64,-9.87,-13.63,-8.76,-10.15,-8.21,-6.16,-3.21,-2.02,0.02,-4.34,-8.23,-4.38,-3.11,-8.19,-9.7,-11.47,-10.65,-9.21,-13.56,-11.5,-8.38,-10.79,-11.41,-8.39,-14.08,-12.88,-11.96,-9.45,-13.3,-12.02,-13.92,-12.26,-12.35,-15.36,-14.21,-9.45,-10.29,-7.75,-5.96,-3.51,0.04,-2.91,-2.28,-0.68,0.23,-1.0,1.16,5.78,0.47,0.67,-0.03,-4.16,-4.64,-4.24,-7.01,-9.27,-2.26,-2.86,-1.02,-7.05,-6.92,-6.01,-4.77,-5.26,-4.76,-6.47,-7.91,-7.87,-7.86,-8.03,-10.63,-7.83,-8.81,-7.26,-3.89,-5.17,-3.37,-4.61,0.86,2.67,1.24,1.85,3.3,2.26,4.57,1.28,-1.28,-6.29,0.32,0.4,-3.65,-3.95,0.67,0.63,-1.91,-9.01,-4.25,-2.76,-4.69,-4.77,-3.16,-4.78,-3.13,-7.51,-9.05,-12.9,-9.33,-10.44,-7.95,-2.25,-1.97,-2.67,-3.47,-1.23,2.55,2.42,2.88,7.44,4.32,4.6,5.71,3.33,3.28,3.2,-0.45,3.42,1.64,5.32,-2.46,-3.15,0.52,1.51,1.3,0.06,4.31,3.1,-2.31,-0.47,2.9,-2.79,-1.63,-0.64,-0.49,-0.77,-0.66,0.53,-0.61,2.69,0.96,4.43,2.55,3.64,5.58,6.82,9.13,9.41,8.95,6.02,7.05,10.29,8.81,8.83,6.97,5.89,5.25,2.21,0.99,1.26,1.27,0.03,1.05,3.44,-2.79,-0.78,0.08,-1.95,-3.2,-3.2,-0.08,1.76,0.14,1.52,2.21,4.75,6.17,5.38,5.55,3.53,6.47,10.31,12.85,14.2,10.16,10.1,12.73,12.48,10.93,6.58,9.37,5.98,6.0,4.59,3.19,2.81,2.37,3.38,7.4,4.1,3.31,1.84,4.76,4.46,3.2,-1.8,1.27,1.74,1.77,1.48,2.85,3.54,2.35,1.17,2.97,8.94,6.46,5.61,6.8,10.66,8.86,8.38,11.35,9.05,10.86,11.95,9.91,8.47,3.28,2.56,4.95,6.0,4.81,0.89,3.38,0.82,3.14,3.5,1.39,0.86,0.84,-1.81,0.14,4.67,7.68,5.98,6.83,8.15,7.61,7.33,8.23,8.35,11.43,10.97,12.05,11.07,12.98,13.78,14.41,14.64,12.73,12.48,10.86,15.21,10.56,7.04,8.12,7.68,9.43,6.67,5.84,8.37,8.63,8.46,9.16,7.98,7.04,7.38,6.7,7.82,6.48,4.84,7.64,8.57,7.23,6.64,10.25,15.5,13.93,14.31,16.27,18.14,20.73,21.11,20.49,21.43,22.93,23.55,19.51,20.43,17.94,14.38,18.51,14.27,13.99,12.43,9.84,14.19,17.28,18.91,10.88,11.55,10.78,12.59,11.65,10.36,11.28,14.49,13.22,14.02,15.51,14.84,12.86,14.93,14.74,13.49,15.57,12.03,15.1,16.54,15.47,14.29,18.6,16.69,14.3,14.53,11.12,11.07,10.18,11.89,9.56,8.41,8.52,8.79,9.12,8.9,7.65,7.8,3.66,6.38,6.37,5.62,2.53,7.42,8.07,6.71,10.77,13.77,10.87,11.2,11.86,13.83,18.36,19.29,21.31,20.54,18.65,20.77,22.59,24.58,18.84,16.47,17.54,20.63,18.11,16.94,16.52,19.38,18.46,20.14,18.9,19.91,18.94,17.12,17.05,18.1,16.74,17.22,17.98,17.38,17.94,16.07,17.79,22.21,20.62,20.6,25.05,27.56,26.75,27.79,24.81,29.77,29.62,32.97,33.06,33.77,31.82,31.54,31.78,30.69,29.55,32.13,27.95,29.27,27.52,26.29,28.69,28.16,26.21,26.45,27.63,26.64,26.8,25.4,20.88,23.2,23.47,20.75,19.72,20.08,20.2,22.21,21.21,22.28,25.78,27.14,23.32,26.36,28.41,29.58,29.65,30.77,30.65,32.96,32.94,31.0,30.97,30.43,25.8,26.34,27.55,26.52,27.38,27.03,28.14,29.74,30.2,28.75,28.02,28.36,26.54,24.23,22.31,22.81,21.55,23.01,24.21,23.81,26.68,29.01,30.18,29.36,33.05,34.51,35.25,34.74,35.87,33.83,35.97,39.21,38.14,34.4,33.91,30.31,32.68,38.69,34.88,29.33,32.41,32.67,35.74,34.76,38.56,36.88,34.32,34.49,36.44,35.34,35.12,34.76,32.49,30.95,34.53,36.61,38.35,40.03,40.51,42.92,43.48,44.63,43.41,50.18,50.45,49.7,49.93,50.87,51.18,53.33,49.8,46.55,49.87,47.08,43.98,42.04,40.21,45.54,48.09,42.48,45.54,44.55,44.92,43.7,46.76,43.22,42.63,39.59,38.34,36.67,36.22,38.97,39.22,41.73,40.65,40.72,40.88,39.2,40.1,40.27,44.93,47.73,46.7,44.05,43.55,46.23,47.32,47.07,48.26,50.66,45.7,43.25,42.62,41.09,41.58,39.7,39.09,38.44,40.35,39.86,40.48,41.63,42.43,39.72,40.05,38.46,39.02,36.03,39.31,39.97,40.11,40.02,40.37,42.73,47.28,46.43,46.9,49.68,51.75,51.53,49.01,49.39,50.52,50.59,52.84,51.55,52.97,51.18,50.43,46.52,45.71,45.85,46.37,47.95,44.62,41.64,46.49,46.53,43.14,40.36,42.27,42.36,43.27,42.86,42.82,45.14,44.6,43.1,43.59,46.76,48.95,47.99,49.13,50.46,53.1,56.57,55.82,59.22,57.02,57.42,58.7,55.94,53.32,51.02,51.92,51.02,50.21,48.69,54.07,51.16,53.33,51.46,50.49,51.64,53.67,50.88,49.71,47.75,51.6,52.88,50.93,49.96,50.4,53.27,52.28,52.48,55.05,54.86,55.92,60.34,63.2,62.26,64.44,64.02,61.58,62.89,60.0,58.75,62.59,61.9,60.35,60.06,56.79,56.0,53.01,51.26,53.31,48.1,54.14,52.92,55.19,52.21,53.01,52.35,50.43,54.01,56.84,55.75,53.0,53.65,50.79,52.57,53.76,55.46,56.41,57.44,56.24,59.99,62.72,63.37,62.3,64.44,64.04,61.64,64.16,63.05,58.94,59.38,56.92,58.08,59.45,59.56,59.6,59.84,55.91,53.99,53.28,55.22,55.93,58.93,57.76,57.81,56.08,56.21,57.45,56.6,54.43,57.03,56.44,59.06,58.67,61.81,64.25,67.03,64.13,66.81,68.81,67.36,68.78,68.69,69.82,66.98,63.97,64.58,66.1,62.15,61.8,63.62,64.04,63.8,62.29,62.82,58.15,56.15,59.74,59.06,60.7,61.85,59.94,61.98,57.14,55.78,55.36,57.31,55.98,61.41,64.57,64.72,62.06,62.9,68.7,69.88,71.41,69.08,70.83,71.94,71.35,69.52,71.65,65.55,64.01,64.1,71.01,70.64,65.39,66.64,66.03,65.34,65.59,64.67,64.53],\"yaxis\":\"y\",\"type\":\"scattergl\"}],                        {\"template\":{\"data\":{\"histogram2dcontour\":[{\"type\":\"histogram2dcontour\",\"colorbar\":{\"outlinewidth\":0,\"ticks\":\"\"},\"colorscale\":[[0.0,\"#0d0887\"],[0.1111111111111111,\"#46039f\"],[0.2222222222222222,\"#7201a8\"],[0.3333333333333333,\"#9c179e\"],[0.4444444444444444,\"#bd3786\"],[0.5555555555555556,\"#d8576b\"],[0.6666666666666666,\"#ed7953\"],[0.7777777777777778,\"#fb9f3a\"],[0.8888888888888888,\"#fdca26\"],[1.0,\"#f0f921\"]]}],\"choropleth\":[{\"type\":\"choropleth\",\"colorbar\":{\"outlinewidth\":0,\"ticks\":\"\"}}],\"histogram2d\":[{\"type\":\"histogram2d\",\"colorbar\":{\"outlinewidth\":0,\"ticks\":\"\"},\"colorscale\":[[0.0,\"#0d0887\"],[0.1111111111111111,\"#46039f\"],[0.2222222222222222,\"#7201a8\"],[0.3333333333333333,\"#9c179e\"],[0.4444444444444444,\"#bd3786\"],[0.5555555555555556,\"#d8576b\"],[0.6666666666666666,\"#ed7953\"],[0.7777777777777778,\"#fb9f3a\"],[0.8888888888888888,\"#fdca26\"],[1.0,\"#f0f921\"]]}],\"heatmap\":[{\"type\":\"heatmap\",\"colorbar\":{\"outlinewidth\":0,\"ticks\":\"\"},\"colorscale\":[[0.0,\"#0d0887\"],[0.1111111111111111,\"#46039f\"],[0.2222222222222222,\"#7201a8\"],[0.3333333333333333,\"#9c179e\"],[0.4444444444444444,\"#bd3786\"],[0.5555555555555556,\"#d8576b\"],[0.6666666666666666,\"#ed7953\"],[0.7777777777777778,\"#fb9f3a\"],[0.8888888888888888,\"#fdca26\"],[1.0,\"#f0f921\"]]}],\"heatmapgl\":[{\"type\":\"heatmapgl\",\"colorbar\":{\"outlinewidth\":0,\"ticks\":\"\"},\"colorscale\":[[0.0,\"#0d0887\"],[0.1111111111111111,\"#46039f\"],[0.2222222222222222,\"#7201a8\"],[0.3333333333333333,\"#9c179e\"],[0.4444444444444444,\"#bd3786\"],[0.5555555555555556,\"#d8576b\"],[0.6666666666666666,\"#ed7953\"],[0.7777777777777778,\"#fb9f3a\"],[0.8888888888888888,\"#fdca26\"],[1.0,\"#f0f921\"]]}],\"contourcarpet\":[{\"type\":\"contourcarpet\",\"colorbar\":{\"outlinewidth\":0,\"ticks\":\"\"}}],\"contour\":[{\"type\":\"contour\",\"colorbar\":{\"outlinewidth\":0,\"ticks\":\"\"},\"colorscale\":[[0.0,\"#0d0887\"],[0.1111111111111111,\"#46039f\"],[0.2222222222222222,\"#7201a8\"],[0.3333333333333333,\"#9c179e\"],[0.4444444444444444,\"#bd3786\"],[0.5555555555555556,\"#d8576b\"],[0.6666666666666666,\"#ed7953\"],[0.7777777777777778,\"#fb9f3a\"],[0.8888888888888888,\"#fdca26\"],[1.0,\"#f0f921\"]]}],\"surface\":[{\"type\":\"surface\",\"colorbar\":{\"outlinewidth\":0,\"ticks\":\"\"},\"colorscale\":[[0.0,\"#0d0887\"],[0.1111111111111111,\"#46039f\"],[0.2222222222222222,\"#7201a8\"],[0.3333333333333333,\"#9c179e\"],[0.4444444444444444,\"#bd3786\"],[0.5555555555555556,\"#d8576b\"],[0.6666666666666666,\"#ed7953\"],[0.7777777777777778,\"#fb9f3a\"],[0.8888888888888888,\"#fdca26\"],[1.0,\"#f0f921\"]]}],\"mesh3d\":[{\"type\":\"mesh3d\",\"colorbar\":{\"outlinewidth\":0,\"ticks\":\"\"}}],\"scatter\":[{\"fillpattern\":{\"fillmode\":\"overlay\",\"size\":10,\"solidity\":0.2},\"type\":\"scatter\"}],\"parcoords\":[{\"type\":\"parcoords\",\"line\":{\"colorbar\":{\"outlinewidth\":0,\"ticks\":\"\"}}}],\"scatterpolargl\":[{\"type\":\"scatterpolargl\",\"marker\":{\"colorbar\":{\"outlinewidth\":0,\"ticks\":\"\"}}}],\"bar\":[{\"error_x\":{\"color\":\"#2a3f5f\"},\"error_y\":{\"color\":\"#2a3f5f\"},\"marker\":{\"line\":{\"color\":\"#E5ECF6\",\"width\":0.5},\"pattern\":{\"fillmode\":\"overlay\",\"size\":10,\"solidity\":0.2}},\"type\":\"bar\"}],\"scattergeo\":[{\"type\":\"scattergeo\",\"marker\":{\"colorbar\":{\"outlinewidth\":0,\"ticks\":\"\"}}}],\"scatterpolar\":[{\"type\":\"scatterpolar\",\"marker\":{\"colorbar\":{\"outlinewidth\":0,\"ticks\":\"\"}}}],\"histogram\":[{\"marker\":{\"pattern\":{\"fillmode\":\"overlay\",\"size\":10,\"solidity\":0.2}},\"type\":\"histogram\"}],\"scattergl\":[{\"type\":\"scattergl\",\"marker\":{\"colorbar\":{\"outlinewidth\":0,\"ticks\":\"\"}}}],\"scatter3d\":[{\"type\":\"scatter3d\",\"line\":{\"colorbar\":{\"outlinewidth\":0,\"ticks\":\"\"}},\"marker\":{\"colorbar\":{\"outlinewidth\":0,\"ticks\":\"\"}}}],\"scattermapbox\":[{\"type\":\"scattermapbox\",\"marker\":{\"colorbar\":{\"outlinewidth\":0,\"ticks\":\"\"}}}],\"scatterternary\":[{\"type\":\"scatterternary\",\"marker\":{\"colorbar\":{\"outlinewidth\":0,\"ticks\":\"\"}}}],\"scattercarpet\":[{\"type\":\"scattercarpet\",\"marker\":{\"colorbar\":{\"outlinewidth\":0,\"ticks\":\"\"}}}],\"carpet\":[{\"aaxis\":{\"endlinecolor\":\"#2a3f5f\",\"gridcolor\":\"white\",\"linecolor\":\"white\",\"minorgridcolor\":\"white\",\"startlinecolor\":\"#2a3f5f\"},\"baxis\":{\"endlinecolor\":\"#2a3f5f\",\"gridcolor\":\"white\",\"linecolor\":\"white\",\"minorgridcolor\":\"white\",\"startlinecolor\":\"#2a3f5f\"},\"type\":\"carpet\"}],\"table\":[{\"cells\":{\"fill\":{\"color\":\"#EBF0F8\"},\"line\":{\"color\":\"white\"}},\"header\":{\"fill\":{\"color\":\"#C8D4E3\"},\"line\":{\"color\":\"white\"}},\"type\":\"table\"}],\"barpolar\":[{\"marker\":{\"line\":{\"color\":\"#E5ECF6\",\"width\":0.5},\"pattern\":{\"fillmode\":\"overlay\",\"size\":10,\"solidity\":0.2}},\"type\":\"barpolar\"}],\"pie\":[{\"automargin\":true,\"type\":\"pie\"}]},\"layout\":{\"autotypenumbers\":\"strict\",\"colorway\":[\"#636efa\",\"#EF553B\",\"#00cc96\",\"#ab63fa\",\"#FFA15A\",\"#19d3f3\",\"#FF6692\",\"#B6E880\",\"#FF97FF\",\"#FECB52\"],\"font\":{\"color\":\"#2a3f5f\"},\"hovermode\":\"closest\",\"hoverlabel\":{\"align\":\"left\"},\"paper_bgcolor\":\"white\",\"plot_bgcolor\":\"#E5ECF6\",\"polar\":{\"bgcolor\":\"#E5ECF6\",\"angularaxis\":{\"gridcolor\":\"white\",\"linecolor\":\"white\",\"ticks\":\"\"},\"radialaxis\":{\"gridcolor\":\"white\",\"linecolor\":\"white\",\"ticks\":\"\"}},\"ternary\":{\"bgcolor\":\"#E5ECF6\",\"aaxis\":{\"gridcolor\":\"white\",\"linecolor\":\"white\",\"ticks\":\"\"},\"baxis\":{\"gridcolor\":\"white\",\"linecolor\":\"white\",\"ticks\":\"\"},\"caxis\":{\"gridcolor\":\"white\",\"linecolor\":\"white\",\"ticks\":\"\"}},\"coloraxis\":{\"colorbar\":{\"outlinewidth\":0,\"ticks\":\"\"}},\"colorscale\":{\"sequential\":[[0.0,\"#0d0887\"],[0.1111111111111111,\"#46039f\"],[0.2222222222222222,\"#7201a8\"],[0.3333333333333333,\"#9c179e\"],[0.4444444444444444,\"#bd3786\"],[0.5555555555555556,\"#d8576b\"],[0.6666666666666666,\"#ed7953\"],[0.7777777777777778,\"#fb9f3a\"],[0.8888888888888888,\"#fdca26\"],[1.0,\"#f0f921\"]],\"sequentialminus\":[[0.0,\"#0d0887\"],[0.1111111111111111,\"#46039f\"],[0.2222222222222222,\"#7201a8\"],[0.3333333333333333,\"#9c179e\"],[0.4444444444444444,\"#bd3786\"],[0.5555555555555556,\"#d8576b\"],[0.6666666666666666,\"#ed7953\"],[0.7777777777777778,\"#fb9f3a\"],[0.8888888888888888,\"#fdca26\"],[1.0,\"#f0f921\"]],\"diverging\":[[0,\"#8e0152\"],[0.1,\"#c51b7d\"],[0.2,\"#de77ae\"],[0.3,\"#f1b6da\"],[0.4,\"#fde0ef\"],[0.5,\"#f7f7f7\"],[0.6,\"#e6f5d0\"],[0.7,\"#b8e186\"],[0.8,\"#7fbc41\"],[0.9,\"#4d9221\"],[1,\"#276419\"]]},\"xaxis\":{\"gridcolor\":\"white\",\"linecolor\":\"white\",\"ticks\":\"\",\"title\":{\"standoff\":15},\"zerolinecolor\":\"white\",\"automargin\":true,\"zerolinewidth\":2},\"yaxis\":{\"gridcolor\":\"white\",\"linecolor\":\"white\",\"ticks\":\"\",\"title\":{\"standoff\":15},\"zerolinecolor\":\"white\",\"automargin\":true,\"zerolinewidth\":2},\"scene\":{\"xaxis\":{\"backgroundcolor\":\"#E5ECF6\",\"gridcolor\":\"white\",\"linecolor\":\"white\",\"showbackground\":true,\"ticks\":\"\",\"zerolinecolor\":\"white\",\"gridwidth\":2},\"yaxis\":{\"backgroundcolor\":\"#E5ECF6\",\"gridcolor\":\"white\",\"linecolor\":\"white\",\"showbackground\":true,\"ticks\":\"\",\"zerolinecolor\":\"white\",\"gridwidth\":2},\"zaxis\":{\"backgroundcolor\":\"#E5ECF6\",\"gridcolor\":\"white\",\"linecolor\":\"white\",\"showbackground\":true,\"ticks\":\"\",\"zerolinecolor\":\"white\",\"gridwidth\":2}},\"shapedefaults\":{\"line\":{\"color\":\"#2a3f5f\"}},\"annotationdefaults\":{\"arrowcolor\":\"#2a3f5f\",\"arrowhead\":0,\"arrowwidth\":1},\"geo\":{\"bgcolor\":\"white\",\"landcolor\":\"#E5ECF6\",\"subunitcolor\":\"white\",\"showland\":true,\"showlakes\":true,\"lakecolor\":\"white\"},\"title\":{\"x\":0.05},\"mapbox\":{\"style\":\"light\"}}},\"xaxis\":{\"anchor\":\"y\",\"domain\":[0.0,1.0],\"title\":{\"text\":\"Year + Fraction of Year (Mid-Cycle)\"}},\"yaxis\":{\"anchor\":\"x\",\"domain\":[0.0,1.0],\"title\":{\"text\":\"GMSL - Gia Applied\"}},\"legend\":{\"tracegroupgap\":0},\"title\":{\"text\":\"Ocean Level Over Time\"}},                        {\"responsive\": true}                    ).then(function(){\n",
       "                            \n",
       "var gd = document.getElementById('cfe54bbc-0ce5-4b36-bc02-2a6c821927a1');\n",
       "var x = new MutationObserver(function (mutations, observer) {{\n",
       "        var display = window.getComputedStyle(gd).display;\n",
       "        if (!display || display === 'none') {{\n",
       "            console.log([gd, 'removed!']);\n",
       "            Plotly.purge(gd);\n",
       "            observer.disconnect();\n",
       "        }}\n",
       "}});\n",
       "\n",
       "// Listen for the removal of the full notebook cells\n",
       "var notebookContainer = gd.closest('#notebook-container');\n",
       "if (notebookContainer) {{\n",
       "    x.observe(notebookContainer, {childList: true});\n",
       "}}\n",
       "\n",
       "// Listen for the clearing of the current output cell\n",
       "var outputEl = gd.closest('.output');\n",
       "if (outputEl) {{\n",
       "    x.observe(outputEl, {childList: true});\n",
       "}}\n",
       "\n",
       "                        })                };                });            </script>        </div>"
      ]
     },
     "metadata": {},
     "output_type": "display_data"
    }
   ],
   "source": [
    "px.line(sea_level, x='Year + Fraction of Year (Mid-Cycle)', y='GMSL - Gia Applied', title='Ocean Level Over Time')"
   ]
  },
  {
   "cell_type": "markdown",
   "metadata": {},
   "source": [
    "We can see that the general trend in the data is that ocean level is rising. Why do you think this is? How do you think that relates to climate chnage? Read on to find out more about how climate change is related to sea level. \n",
    "\n",
    "**Sea Level and Climate Change**\n",
    "\n",
    "According to the [NASA Website](https://climate.nasa.gov/vital-signs/sea-level) that published our data sea levels and climte change are related in two ways. You can read more about it by clicking on the hyperlink.\n",
    "\n"
   ]
  },
  {
   "cell_type": "markdown",
   "metadata": {},
   "source": [
    "## Forest Fires"
   ]
  },
  {
   "cell_type": "markdown",
   "metadata": {},
   "source": [
    "## Extreme Weather\n",
    "\n"
   ]
  },
  {
   "cell_type": "markdown",
   "metadata": {},
   "source": [
    "## Questions to Consider\n"
   ]
  },
  {
   "cell_type": "markdown",
   "metadata": {},
   "source": [
    "* Which data did you find most interesting? Why?\n",
    "* What does this data tell you about climate change? How can you support your answer?\n",
    "* What actions can you take to help slow down climate change?\n",
    "\n",
    "How can you share what you have learned with your classmates and those around you? Can you make a poster, powerpoint presentation or give a speech? What other methods could you consider?"
   ]
  },
  {
   "cell_type": "markdown",
   "metadata": {},
   "source": [
    "## More Information To Explore\n",
    "\n",
    "Callysto has created other resources using data that is related to topics explored in this notebook. For an extension to this notebook you may want to check out the resources linked below. "
   ]
  },
  {
   "cell_type": "markdown",
   "metadata": {},
   "source": [
    " Check out the notebook Callysto created on the costliest disasters for an interesting [look at extreme weather events in recent history.](https://hub.callysto.ca/jupyter/hub/user-redirect/git-pull?repo=https%3A%2F%2Fgithub.com%2Fcallysto%2Fdata-viz-of-the-week&branch=main&subPath=costliest-disasters/costliest-natural-disasters.ipynb&depth=1)\n",
    "\n",
    "As the climate has been changing the level of sea ice has been changing in the world. Callysto created a data visualization on [changes in sea ice.](https://hub.callysto.ca/jupyter/hub/user-redirect/git-pull?repo=https%3A%2F%2Fgithub.com%2Fcallysto%2Fdata-viz-of-the-week&branch=main&subPath=ice-coverage-best-fit/sea-ice.ipynb&depth=1) \n",
    "\n",
    "You may also be interested in looking at our recent data visualizaton on the [warmest January temperatures.](https://hub.callysto.ca/jupyter/hub/user-redirect/git-pull?repo=https%3A%2F%2Fgithub.com%2Fcallysto%2Fdata-viz-of-the-week&branch=main&subPath=january-temperatures/january-temperatures.ipynb&depth=1)\n"
   ]
  },
  {
   "cell_type": "markdown",
   "metadata": {},
   "source": [
    "[![Callysto.ca License](https://github.com/callysto/curriculum-notebooks/blob/master/callysto-notebook-banner-bottom.jpg?raw=true)](https://github.com/callysto/curriculum-notebooks/blob/master/LICENSE.md)"
   ]
  },
  {
   "cell_type": "code",
   "execution_count": null,
   "metadata": {},
   "outputs": [],
   "source": []
  }
 ],
 "metadata": {
  "kernelspec": {
   "display_name": "Python 3 (ipykernel)",
   "language": "python",
   "name": "python3"
  },
  "language_info": {
   "codemirror_mode": {
    "name": "ipython",
    "version": 3
   },
   "file_extension": ".py",
   "mimetype": "text/x-python",
   "name": "python",
   "nbconvert_exporter": "python",
   "pygments_lexer": "ipython3",
   "version": "3.10.9"
  }
 },
 "nbformat": 4,
 "nbformat_minor": 2
}
