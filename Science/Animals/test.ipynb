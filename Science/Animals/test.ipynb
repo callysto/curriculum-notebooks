{
 "cells": [
  {
   "cell_type": "code",
   "execution_count": 4,
   "metadata": {},
   "outputs": [
    {
     "name": "stdout",
     "output_type": "stream",
     "text": [
      "Predicted label: 0 whale\n"
     ]
    }
   ],
   "source": [
    "import numpy as np\n",
    "import tensorflow as tf\n",
    "from PIL import Image\n",
    "\n",
    "model_path = 'model.tflite'\n",
    "interpreter = tf.lite.Interpreter(model_path=model_path)\n",
    "interpreter.allocate_tensors()\n",
    "\n",
    "input_details = interpreter.get_input_details()\n",
    "output_details = interpreter.get_output_details()\n",
    "\n",
    "image_path = 'test.jpg' \n",
    "image = Image.open(image_path)\n",
    "image = image.resize((input_details[0]['shape'][1], input_details[0]['shape'][2]))\n",
    "input_data = np.expand_dims(np.array(image), axis=0)\n",
    "input_data = (np.array(input_data) - 127.5) / 127.5 \n",
    "input_data = input_data.astype(np.uint8)  \n",
    "\n",
    "interpreter.set_tensor(input_details[0]['index'], input_data)\n",
    "\n",
    "interpreter.invoke()\n",
    "\n",
    "output_data = interpreter.get_tensor(output_details[0]['index'])\n",
    "results = np.squeeze(output_data)\n",
    "\n",
    "with open('labels.txt', 'r') as f:\n",
    "    labels = f.read().splitlines()\n",
    "\n",
    "predicted_label = labels[np.argmax(results)]\n",
    "print(\"Predicted label:\", predicted_label)"
   ]
  }
 ],
 "metadata": {
  "kernelspec": {
   "display_name": "Python 3",
   "language": "python",
   "name": "python3"
  },
  "language_info": {
   "codemirror_mode": {
    "name": "ipython",
    "version": 3
   },
   "file_extension": ".py",
   "mimetype": "text/x-python",
   "name": "python",
   "nbconvert_exporter": "python",
   "pygments_lexer": "ipython3",
   "version": "3.10.9"
  }
 },
 "nbformat": 4,
 "nbformat_minor": 2
}
