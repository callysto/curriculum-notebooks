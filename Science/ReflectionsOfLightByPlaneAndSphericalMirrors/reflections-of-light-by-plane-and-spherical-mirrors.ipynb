{
 "cells": [
  {
   "cell_type": "markdown",
   "metadata": {},
   "source": [
    "![Callysto.ca Banner](https://github.com/callysto/curriculum-notebooks/blob/master/callysto-notebook-banner-top.jpg?raw=true)\n",
    "\n",
    "<a href=\"https://hub.callysto.ca/jupyter/hub/user-redirect/git-pull?repo=https%3A%2F%2Fgithub.com%2Fcallysto%2Fcurriculum-notebooks&branch=master&subPath=Science/ReflectionsOfLightByPlaneAndSphericalMirrors/reflections-of-light-by-plane-and-spherical-mirrors.ipynb&depth=1\" target=\"_parent\"><img src=\"https://raw.githubusercontent.com/callysto/curriculum-notebooks/master/open-in-callysto-button.svg?sanitize=true\" width=\"123\" height=\"24\" alt=\"Open in Callysto\"/></a>"
   ]
  },
  {
   "cell_type": "code",
   "execution_count": null,
   "metadata": {},
   "outputs": [],
   "source": [
    "import ipywidgets as widgets\n",
    "import matplotlib.pyplot as plt\n",
    "import math\n",
    "from IPython.display import clear_output, SVG, display, HTML\n",
    "%matplotlib inline"
   ]
  },
  {
   "cell_type": "markdown",
   "metadata": {},
   "source": [
    "# Reflection of Light by Plane and Spherical Mirrors\n",
    "\n",
    "## Introduction\n",
    "\n",
    "When light shines onto the surface of an object, some of the light is reflected, while the rest is either absorbed or transmitted. We can imagine the light consisting of many narrow beams that travel in straight-line paths called **rays**. The light rays that strike the surface are called the **incident rays**. The light rays that reflect off the surface are called the **reflected rays**. This model of light is called the **ray model**, and it can be used to describe many aspects of light, including the reflection and formation of images by plane and spherical mirrors.\n",
    "\n",
    "## Law of Reflection\n",
    "\n",
    "<img src=\"Images/law_of_reflection.svg\" width=\"50%\"/>\n",
    "\n",
    "To measure the angles of the incident and reflected rays, we first draw the **normal**, which is the line perpendicular to the surface. The **angle of incidence, $\\theta_{i}$,** is the angle between the incident ray and the normal. Likewise, the **angle of reflection, $\\theta_{r}$,** is the angle between the reflected ray and the normal. The incident ray, the reflected ray, and the normal to the reflecting surface all lie within the same plane. This is shown in the figure above. Notice that the angle of reflection is equal to the angle of incidence. This is known as the **law of reflection**, and it can be expressed by the following equation:\n",
    "\n",
    "$$\\theta_{r} = \\theta_{i}$$"
   ]
  },
  {
   "cell_type": "markdown",
   "metadata": {},
   "source": [
    "Use the slider below to change the angle of incidence. This changes the angle between the incident ray and the normal. Notice how the angle of reflection also changes when the slider is moved."
   ]
  },
  {
   "cell_type": "code",
   "execution_count": null,
   "metadata": {},
   "outputs": [],
   "source": [
    "# Define function for interactive plot using widget output for angle\n",
    "def angle_func(Angle=45):\n",
    "    angle_incidence = Angle\n",
    "    angle_incline = (90-angle_incidence)\n",
    "    slope = math.tan(math.radians(angle_incline))\n",
    "    reflected_ray = slope*50\n",
    "\n",
    "    plt.figure()\n",
    "\n",
    "    #Plot normal, incident ray, and reflected ray\n",
    "    plt.plot([0,0],[100,0], linestyle=\"dotted\", color=\"grey\")\n",
    "    plt.plot([0,-50],[0,reflected_ray], color=\"red\")\n",
    "    plt.plot([0,50],[0,reflected_ray], color=\"red\")\n",
    "\n",
    "    plt.ylim(0,100)\n",
    "    plt.xlim(-50,50)\n",
    "    plt.ylabel('Length')\n",
    "    plt.xlabel('Length')\n",
    "    plt.annotate(xy=[-35,90],text=\"Incident ray\")\n",
    "    plt.annotate(xy=[15,90],text=\"Reflected ray\")\n",
    "\n",
    "    plt.show()\n",
    "\n",
    "# Widget\n",
    "interactive_plot = widgets.interactive(angle_func, Angle=widgets.IntSlider(value=45,min=0,max=90,step=15,continuous_update=False))\n",
    "output = interactive_plot.children[-1]\n",
    "output.layout.height = '280px'\n",
    "interactive_plot"
   ]
  },
  {
   "cell_type": "markdown",
   "metadata": {},
   "source": [
    "## Specular and Diffuse Reflections\n",
    "\n",
    " For a very smooth surface, such as a mirror, almost all of the light is reflected to produce a **specular reflection**. In a specular reflection, the reflected light rays are parallel to one another and point in the same direction. This allows specular reflections to form images. If the surface is not very smooth, then the light may bounce off of the surface in various directions. This produces a **diffuse reflection**. Diffuse reflections cannot form images. \n",
    "\n",
    "<img src=\"Images/specular_diffuse_reflections.svg\" width=\"70%\"/>\n",
    "\n",
    "**Note:** The law of reflection still applies to diffuse reflections, even though the reflected rays are pointing in various directions. We can imagine that each small section of the rough surface is like a flat plane orientated differently than the sections around it. Since each of these sections is orientated differently, the angle of incidence is different at each section. This causes the reflected rays to scatter.\n"
   ]
  },
  {
   "cell_type": "markdown",
   "metadata": {},
   "source": [
    "## Image Formation by Plane Mirrors\n",
    "\n",
    "A **plane mirror** is simply a mirror made from a flat (or planar) surface. These types of mirrors are commonly found in bedroom or bathroom fixtures. When an object is reflected in a plane mirror, the image of the object appears to be located behind the mirror. This is because our brains interpret the reflected light rays entering our eyes as having travelled in straight-line paths. The light rays entering our eyes simply do not contain enough information for our brains to differentiate between a straight-line path and a path that changed direction due to a reflection.  \n",
    "\n",
    "<img src=\"Images/plane_mirror_reflection.svg\" width=\"60%\"/>\n",
    "\n",
    "Notice in the figure above that the light rays do not actually converge at the location where the image appears to be formed (behind the mirror). Since the light rays do not actually go behind the mirror, they are represented as projections using dashed lines. If a film were placed at the image location behind the mirror, it would not be able to capture the image. As a result, this type of image is called a **virtual image**. \n",
    "\n",
    "For objects reflected in a plane mirror, the distance of the image from the mirror, $d_{i}$, is always equal to the distance of the object from the mirror, $d_{o}$. If the object is moved toward the mirror, the image of the object will also move toward the mirror such that the object and the image are always equidistant from the surface of the mirror."
   ]
  },
  {
   "cell_type": "markdown",
   "metadata": {},
   "source": [
    "Use the slider below to change the object distance. Notice how the image distance also changes when the slider is moved."
   ]
  },
  {
   "cell_type": "code",
   "execution_count": null,
   "metadata": {
    "scrolled": true
   },
   "outputs": [],
   "source": [
    "# Define function for interactive plot using widget output for distance\n",
    "def dist_func(Distance=30):\n",
    "    object_distance = -Distance\n",
    "    image_distance = Distance\n",
    "\n",
    "    #y=mx+b\n",
    "    m_1 =(80-0)/(-60-image_distance)\n",
    "    b_1 = 80-(m_1*(-60))\n",
    "\n",
    "    m_2 =(90-0)/(-60-image_distance)\n",
    "    b_2 = 90-(m_2*(-60))\n",
    "\n",
    "    plt.figure()\n",
    "\n",
    "    #Plot incident ray, reflected ray, and projected ray\n",
    "    plt.plot([object_distance,0],[0,b_1], linewidth=2.0, color=\"red\")\n",
    "    plt.plot([0,-60],[b_1,80], linewidth=2.0, color=\"red\")\n",
    "    plt.plot([0,image_distance],[b_1,0], linewidth=2.0, linestyle=\"dotted\", color=\"red\")\n",
    "\n",
    "    plt.plot([object_distance,0],[0,b_2], linewidth=2.0, color=\"orange\")\n",
    "    plt.plot([0,-60],[b_2,90], linewidth=2.0, color=\"orange\")\n",
    "    plt.plot([0,image_distance],[b_2,0], linewidth=2.0, linestyle=\"dotted\", color=\"orange\")\n",
    "\n",
    "    #Plot mirror, object, and image\n",
    "    plt.plot([0,0],[100,0], linewidth=5.0, color=\"grey\")\n",
    "\n",
    "    plt.plot([object_distance,object_distance],[0,17], linewidth=4.0, color=\"black\")\n",
    "    plt.plot([(object_distance-2),(object_distance)],[14,17], linewidth=4.0, color=\"black\")\n",
    "    plt.plot([(object_distance),(object_distance+2)],[17,14], linewidth=4.0, color=\"black\")  \n",
    "\n",
    "    plt.plot([image_distance,image_distance],[0,17], linewidth=4.0, color=\"grey\")\n",
    "    plt.plot([(image_distance-2),(image_distance)],[14,17], linewidth=4.0, color=\"grey\")\n",
    "    plt.plot([(image_distance),(image_distance+2)],[17,14], linewidth=4.0, color=\"grey\")\n",
    "\n",
    "    plt.ylim(0,100)\n",
    "    plt.xlim(-60,60)\n",
    "    plt.ylabel('Length')\n",
    "    plt.xlabel('Length')\n",
    "    plt.annotate(xy=[-35,90],text=\"Object\")\n",
    "    plt.annotate(xy=[25,90],text=\"Image\")\n",
    "\n",
    "    plt.show()\n",
    "\n",
    "# Widget\n",
    "interactive_plot = widgets.interactive(dist_func,Distance=widgets.IntSlider(value=30,min=10,max=50,step=10,continuous_update=False))\n",
    "output = interactive_plot.children[-1]\n",
    "output.layout.height = '280px'\n",
    "interactive_plot"
   ]
  },
  {
   "cell_type": "markdown",
   "metadata": {},
   "source": [
    "## Spherical Mirrors\n",
    "\n",
    "Two common types of curved mirror are formed from a section of a sphere. If the reflection takes place on the inside of the spherical section, then the mirror is called a **concave mirror**. The reflecting surface of a concave mirror curves inward and away from the viewer. If the reflection takes place on the outside of the spherical section, then the mirror is called a **convex mirror**. The reflecting surface of a convex mirror curves outward and toward the viewer.\n",
    "\n",
    "<img src=\"Images/concave_convex_mirrors.svg\" width=\"75%\"/>\n",
    "\n",
    " The **centre of curvature, $C$,** is the point located at the centre of the sphere used to create the mirror. The **vertex, $V$,** is the point located at the geometric centre of the mirror itself. The **focus, $F$,** is the point located midway between the centre of curvature and the vertex. The line passing through the centre of curvature and the vertex is called the **principal axis**. Notice that the focus also lies on the principal axis."
   ]
  },
  {
   "cell_type": "markdown",
   "metadata": {},
   "source": [
    "When an incident ray parallel to the principle axis strikes the mirror, the reflected ray always passes through the focus. When an incident ray passes through the focus and strikes the mirror, the reflected ray is always parallel to the principle axis. (In the above diagrams, reverse the arrow directions to see this case). These properties make the focus particularly useful when examining spherical mirrors. \n",
    "\n",
    "**Note:** The distance from the centre of curvature to the vertex is equal to the **radius, $R$,** of the sphere used to create the mirror. Any straight line drawn from the centre to any point on the surface of a spherical mirror will have a length equal to the radius. The distance from the vertex to the focus is called the **focal length, $f$**. This distance is equal to half the distance of the radius.\n",
    "\n",
    "$$f = \\frac{R}{2}$$"
   ]
  },
  {
   "cell_type": "markdown",
   "metadata": {},
   "source": [
    "## Image Formation by Spherical Mirrors\n",
    "\n",
    "A simple way to determine the position and characteristics of an image formed by the rays reflected from a spherical mirror is to construct a **ray diagram**. A ray diagram is used to show the path taken by light rays as they reflect from an object or mirror. This was used to find the image created by a plane mirror in the previous section. When constructing a ray diagram, we need only consider ourselves with finding the location of a single point on the reflected image. To do this, any point on the object may be chosen, but for consistency, we will choose the topmost point for the diagrams shown below. Any rays may be chosen, but there are three particular rays that are easy to draw:\n",
    "\n",
    "* **Ray 1:** This ray is drawn parallel to the principle axis from a point on the object to the surface of the mirror. Since the incident ray is parallel to the principle axis, the reflected ray must pass through the focus. \n",
    "\n",
    "\n",
    "* **Ray 2:** This ray is drawn from a point on the object and through the focus. Since the incident ray passes through the focus, the reflected ray must be parallel to the principle axis. \n",
    "\n",
    "\n",
    "* **Ray 3:** This ray is drawn from a point on the object and through the centre of curvature. This ray is therefore perpendicular to the mirror's surface (incident angle = 0). As such, the reflected ray must return along the same path and pass through the centre of curvature. \n",
    "\n",
    "The point at which any two of these three rays converge can be used to find the location and characteristics of the reflected image."
   ]
  },
  {
   "cell_type": "markdown",
   "metadata": {},
   "source": [
    "### Concave Mirrors\n",
    "\n",
    "The characteristics of an image formed in a concave mirror depend on the position of the object. There are essentially five cases. Each of these five cases are demonstrated below:"
   ]
  },
  {
   "cell_type": "markdown",
   "metadata": {},
   "source": [
    "### Case 1: Object Located at a Distance Greater than $C$"
   ]
  },
  {
   "cell_type": "markdown",
   "metadata": {},
   "source": [
    "In the first case, the distance of the object from the mirror is greater than the radius used to define the centre of curvature. In other words, the object is further away from the mirror than the centre of curvature. In this example, we can draw any two of the three rays mentioned above to find the image of the reflected object. \n",
    "\n",
    "**Note:** You only need to draw two of the three rays to find the image of the reflected object."
   ]
  },
  {
   "cell_type": "code",
   "execution_count": null,
   "metadata": {
    "scrolled": true
   },
   "outputs": [],
   "source": [
    "output_case_1 = widgets.Output()\n",
    "frame_case_1 = 1\n",
    "\n",
    "#Toggle images\n",
    "def show_svg_case_1():\n",
    "    global frame_case_1\n",
    "    if frame_case_1 == 0:\n",
    "        display(SVG(\"Images/case_1_0.svg\"))\n",
    "        frame_case_1 = 1\n",
    "    elif frame_case_1 == 1:\n",
    "        display(SVG(\"Images/case_1_1.svg\"))\n",
    "        frame_case_1 = 2\n",
    "    elif frame_case_1 == 2:\n",
    "        display(SVG(\"Images/case_1_2.svg\"))\n",
    "        frame_case_1 = 3\n",
    "    elif frame_case_1 == 3:\n",
    "        display(SVG(\"Images/case_1_3.svg\"))\n",
    "        frame_case_1 = 0\n",
    "        \n",
    "button_case_1 = widgets.Button(description=\"Toggle rays\", button_style = 'success')\n",
    "display(button_case_1)\n",
    "\n",
    "def on_submit_button_case_1_clicked(b):\n",
    "    with output_case_1:\n",
    "        clear_output(wait=True)\n",
    "        show_svg_case_1()\n",
    "\n",
    "with output_case_1:\n",
    "    display(SVG(\"Images/case_1_0.svg\"))\n",
    "    \n",
    "button_case_1.on_click(on_submit_button_case_1_clicked)\n",
    "display(output_case_1)"
   ]
  },
  {
   "cell_type": "markdown",
   "metadata": {},
   "source": [
    "### Case 2: Object Located at $C$"
   ]
  },
  {
   "cell_type": "markdown",
   "metadata": {},
   "source": [
    "In the second case, the distance of the object from the mirror is equal to the radius used to define the centre of curvature.\n",
    "In other words, the object is located at the centre of curvature. In this case, we can draw only two rays to find the image of the reflected object. We cannot draw a ray passing through the centre of curvature because the object is located at $C$. "
   ]
  },
  {
   "cell_type": "code",
   "execution_count": null,
   "metadata": {},
   "outputs": [],
   "source": [
    "output_case_2 = widgets.Output()\n",
    "frame_case_2 = 1\n",
    "\n",
    "#Toggle images\n",
    "def show_svg_case_2():\n",
    "    global frame_case_2\n",
    "    if frame_case_2 == 0:\n",
    "        display(SVG(\"Images/case_2_0.svg\"))\n",
    "        frame_case_2 = 1\n",
    "    elif frame_case_2 == 1:\n",
    "        display(SVG(\"Images/case_2_1.svg\"))\n",
    "        frame_case_2 = 2\n",
    "    elif frame_case_2 == 2:\n",
    "        display(SVG(\"Images/case_2_2.svg\"))\n",
    "        frame_case_2 = 0\n",
    "        \n",
    "button_case_2 = widgets.Button(description=\"Toggle rays\", button_style = 'success')\n",
    "display(button_case_2)\n",
    "\n",
    "def on_submit_button_case_2_clicked(b):\n",
    "    with output_case_2:\n",
    "        clear_output(wait=True)\n",
    "        show_svg_case_2()\n",
    "\n",
    "with output_case_2:\n",
    "    display(SVG(\"Images/case_2_0.svg\"))\n",
    "    \n",
    "button_case_2.on_click(on_submit_button_case_2_clicked)\n",
    "display(output_case_2)"
   ]
  },
  {
   "cell_type": "markdown",
   "metadata": {},
   "source": [
    "### Case 3: Object Located between $C$ and $F$"
   ]
  },
  {
   "cell_type": "markdown",
   "metadata": {},
   "source": [
    "In the third case, the distance of the object from the mirror is less than the radius used to define the centre of curvature, but greater than the focal length. In other words, the object is located between $F$ and $C$. In this case, we can find the image of the reflected object using two rays as shown below. If the mirror is large enough, a third ray that passes through $C$ can also be drawn. "
   ]
  },
  {
   "cell_type": "code",
   "execution_count": null,
   "metadata": {},
   "outputs": [],
   "source": [
    "output_case_3 = widgets.Output()\n",
    "frame_case_3 = 1\n",
    "\n",
    "#Toggle images\n",
    "def show_svg_case_3():\n",
    "    global frame_case_3\n",
    "    if frame_case_3 == 0:\n",
    "        display(SVG(\"Images/case_3_0.svg\"))\n",
    "        frame_case_3 = 1\n",
    "    elif frame_case_3 == 1:\n",
    "        display(SVG(\"Images/case_3_1.svg\"))\n",
    "        frame_case_3 = 2\n",
    "    elif frame_case_3 == 2:\n",
    "        display(SVG(\"Images/case_3_2.svg\"))\n",
    "        frame_case_3 = 0\n",
    "        \n",
    "button_case_3 = widgets.Button(description=\"Toggle rays\", button_style = 'success')\n",
    "display(button_case_3)\n",
    "\n",
    "def on_submit_button_case_3_clicked(b):\n",
    "    with output_case_3:\n",
    "        clear_output(wait=True)\n",
    "        show_svg_case_3()\n",
    "\n",
    "with output_case_3:\n",
    "    display(SVG(\"Images/case_3_0.svg\"))\n",
    "    \n",
    "button_case_3.on_click(on_submit_button_case_3_clicked)\n",
    "display(output_case_3)"
   ]
  },
  {
   "cell_type": "markdown",
   "metadata": {},
   "source": [
    "### Case 4: Object Located at $F$"
   ]
  },
  {
   "cell_type": "markdown",
   "metadata": {},
   "source": [
    "In the fourth case, the distance of the object from the mirror is equal to the focal length. In other words, the object is located at the focus. In this case, we can draw only two rays to find the image of the reflected object. We cannot draw a ray passing through the focus because the object is located at $F$. Notice that the reflected rays are parallel and therefore do not intersect. As a consequence, no image is formed."
   ]
  },
  {
   "cell_type": "code",
   "execution_count": null,
   "metadata": {},
   "outputs": [],
   "source": [
    "output_case_4 = widgets.Output()\n",
    "frame_case_4 = 1\n",
    "\n",
    "#Toggle images\n",
    "def show_svg_case_4():\n",
    "    global frame_case_4\n",
    "    if frame_case_4 == 0:\n",
    "        display(SVG(\"Images/case_4_0.svg\"))\n",
    "        frame_case_4 = 1\n",
    "    elif frame_case_4 == 1:\n",
    "        display(SVG(\"Images/case_4_1.svg\"))\n",
    "        frame_case_4 = 2\n",
    "    elif frame_case_4 == 2:\n",
    "        display(SVG(\"Images/case_4_2.svg\"))\n",
    "        frame_case_4 = 0\n",
    "        \n",
    "button_case_4 = widgets.Button(description=\"Toggle rays\", button_style = 'success')\n",
    "display(button_case_4)\n",
    "\n",
    "def on_submit_button_case_4_clicked(b):\n",
    "    with output_case_4:\n",
    "        clear_output(wait=True)\n",
    "        show_svg_case_4()\n",
    "\n",
    "with output_case_4:\n",
    "    display(SVG(\"Images/case_4_0.svg\"))\n",
    "    \n",
    "button_case_4.on_click(on_submit_button_case_4_clicked)\n",
    "display(output_case_4)"
   ]
  },
  {
   "cell_type": "markdown",
   "metadata": {},
   "source": [
    "### Case 5: Object Located between $F$ and $V$"
   ]
  },
  {
   "cell_type": "markdown",
   "metadata": {},
   "source": [
    "In the fifth case, the distance of the object from the mirror is less than the focal length. In other words, the object is located between $F$ and $V$. In this case, we can find the image of the reflected object using two rays as shown below. Notice that the reflected rays do not actually converge. However, the projections of the reflected rays *do* converge behind the mirror. Therefore, a virtual image is formed."
   ]
  },
  {
   "cell_type": "code",
   "execution_count": null,
   "metadata": {},
   "outputs": [],
   "source": [
    "output_case_5 = widgets.Output()\n",
    "frame_case_5 = 1\n",
    "\n",
    "#Toggle images\n",
    "def show_svg_case_5():\n",
    "    global frame_case_5\n",
    "    if frame_case_5 == 0:\n",
    "        display(SVG(\"Images/case_5_0.svg\"))\n",
    "        frame_case_5 = 1\n",
    "    elif frame_case_5 == 1:\n",
    "        display(SVG(\"Images/case_5_1.svg\"))\n",
    "        frame_case_5 = 2\n",
    "    elif frame_case_5 == 2:\n",
    "        display(SVG(\"Images/case_5_2.svg\"))\n",
    "        frame_case_5 = 0\n",
    "        \n",
    "button_case_5 = widgets.Button(description=\"Toggle rays\", button_style = 'success')\n",
    "display(button_case_5)\n",
    "\n",
    "def on_submit_button_case_5_clicked(b):\n",
    "    with output_case_5:\n",
    "        clear_output(wait=True)\n",
    "        show_svg_case_5()\n",
    "\n",
    "with output_case_5:\n",
    "    display(SVG(\"Images/case_5_0.svg\"))\n",
    "    \n",
    "button_case_5.on_click(on_submit_button_case_5_clicked)\n",
    "display(output_case_5)"
   ]
  },
  {
   "cell_type": "markdown",
   "metadata": {},
   "source": [
    "### Convex Mirrors\n",
    "\n",
    "For reflections in convex mirrors, the location of the object does not change the general characteristics of the image. The image will always be between F and V, smaller than the object, upright, and virtual."
   ]
  },
  {
   "cell_type": "code",
   "execution_count": null,
   "metadata": {},
   "outputs": [],
   "source": [
    "output_convex = widgets.Output()\n",
    "frame_convex = 1\n",
    "\n",
    "#Toggle images\n",
    "def show_svg_convex():\n",
    "    global frame_convex\n",
    "    if frame_convex == 0:\n",
    "        display(SVG(\"Images/convex_mirror_reflection_0.svg\"))\n",
    "        frame_convex = 1\n",
    "    elif frame_convex == 1:\n",
    "        display(SVG(\"Images/convex_mirror_reflection_1.svg\"))\n",
    "        frame_convex = 2\n",
    "    elif frame_convex == 2:\n",
    "        display(SVG(\"Images/convex_mirror_reflection_2.svg\"))\n",
    "        frame_convex = 0\n",
    "        \n",
    "button_convex = widgets.Button(description=\"Toggle rays\", button_style = 'success')\n",
    "display(button_convex)\n",
    "\n",
    "def on_submit_button_convex_clicked(b):\n",
    "    with output_convex:\n",
    "        clear_output(wait=True)\n",
    "        show_svg_convex()\n",
    "\n",
    "with output_convex:\n",
    "    display(SVG(\"Images/convex_mirror_reflection_0.svg\"))\n",
    "    \n",
    "button_convex.on_click(on_submit_button_convex_clicked)\n",
    "display(output_convex)"
   ]
  },
  {
   "cell_type": "markdown",
   "metadata": {},
   "source": [
    "# Conclusions"
   ]
  },
  {
   "cell_type": "markdown",
   "metadata": {},
   "source": [
    "In this notebook, the reflection of light off of plane and spherical mirrors was examined. In summary:\n",
    "\n",
    "* Light can be thought of as a collection of narrow beams called **rays** which travel in straight-line paths. This conceptualization of light is called the **ray model**.\n",
    "\n",
    "* The **law of reflection** states that the angle of reflection is equal to the angle of incidence. \n",
    "\n",
    "$$\\theta_{r} = \\theta_{i}$$\n",
    "\n",
    "* A **specular reflection** is characterized by having reflected rays that are parallel and pointing in the same direction. \n",
    "\n",
    "* A **diffuse reflection** is characterized by having reflected rays pointing in various directions.\n",
    "\n",
    "* **Plane mirrors** always produce a virtual image behind the mirror. This image has the same size and orientation of the object, and the image and object are always equidistant from the mirror.\n",
    "\n",
    "* **A spherical mirror** is formed from a section of a sphere. If the reflecting surface is on the inside of the spherical section, the mirror is **concave**. If it is on the outside, the mirror is **convex**.\n",
    "\n",
    "* A **ray diagram** can be used to find the location and characteristics of a reflection in concave and convex mirrors. For concave mirrors, the characteristics of the possible images are summarized as follows: \n",
    "\n",
    "Object position | Image position  | Relative size           | Orientation | Type \n",
    "---             | ---             | ---                     | ---         | ---\n",
    "Beyond C        | Between C and F | Smaller than the object | Inverted    | Real\n",
    "At C            | At C            | Same size as the object | Inverted    | Real\n",
    "Between C and F | Beyond C        | Larger than the object  | Inverted    | Real\n",
    "At F            | (No image)      | (No image)              | (No image)  | (No image)\n",
    "Between F and V | Beyond V        | Larger than the object  | Upright     | Virtual\n",
    "\n",
    "* The images formed by a convex mirror are always between F and V, smaller than the object, upright, and virtual.\n",
    "\n",
    "Images in this notebook represent original artwork."
   ]
  },
  {
   "cell_type": "markdown",
   "metadata": {},
   "source": [
    "[![Callysto.ca License](https://github.com/callysto/curriculum-notebooks/blob/master/callysto-notebook-banner-bottom.jpg?raw=true)](https://github.com/callysto/curriculum-notebooks/blob/master/LICENSE.md)"
   ]
  }
 ],
 "metadata": {
  "kernelspec": {
   "display_name": "Python 3 (ipykernel)",
   "language": "python",
   "name": "python3"
  },
  "language_info": {
   "codemirror_mode": {
    "name": "ipython",
    "version": 3
   },
   "file_extension": ".py",
   "mimetype": "text/x-python",
   "name": "python",
   "nbconvert_exporter": "python",
   "pygments_lexer": "ipython3",
   "version": "3.9.12"
  },
  "latex_envs": {
   "LaTeX_envs_menu_present": true,
   "autoclose": false,
   "autocomplete": true,
   "bibliofile": "biblio.bib",
   "cite_by": "apalike",
   "current_citInitial": 1,
   "eqLabelWithNumbers": true,
   "eqNumInitial": 1,
   "hotkeys": {
    "equation": "Ctrl-E",
    "itemize": "Ctrl-I"
   },
   "labels_anchors": false,
   "latex_user_defs": false,
   "report_style_numbering": false,
   "user_envs_cfg": false
  },
  "nbTranslate": {
   "displayLangs": [
    "*"
   ],
   "hotkey": "alt-t",
   "langInMainMenu": true,
   "sourceLang": "en",
   "targetLang": "fr",
   "useGoogleTranslate": true
  }
 },
 "nbformat": 4,
 "nbformat_minor": 4
}
