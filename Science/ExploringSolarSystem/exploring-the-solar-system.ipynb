{
 "cells": [
  {
   "cell_type": "markdown",
   "metadata": {},
   "source": [
    "![Callysto.ca Banner](https://github.com/callysto/curriculum-notebooks/blob/master/callysto-notebook-banner-top.jpg?raw=true)\n",
    "\n",
    "<a href=\"https://hub.callysto.ca/jupyter/hub/user-redirect/git-pull?repo=https%3A%2F%2Fgithub.com%2Fcallysto%2Fcurriculum-notebooks&branch=master&subPath=Science/ExploringSolarSystem/exploring-the-solar-system.ipynb&depth=1\" target=\"_parent\"><img src=\"https://raw.githubusercontent.com/callysto/curriculum-notebooks/master/open-in-callysto-button.svg?sanitize=true\" width=\"123\" height=\"24\" alt=\"Open in Callysto\"/></a>"
   ]
  },
  {
   "cell_type": "markdown",
   "metadata": {},
   "source": [
    "# Exploring the Solar System\n",
    "\n",
    "## Introduction\n",
    "\n",
    "The **solar system** is the collection of objects orbiting the Sun.\n",
    "\n",
    "The main features of the solar system include the **sun**, the **planets**, and the **asteroid belts**. There are eight planets within the Solar System. The four closest to the sun are the **rocky inner planets**, named **Mercury**, **Venus**, **Earth**, and **Mars** and made mostly of rock and metals. The next two planets are **gas giants**, **Jupiter** and **Saturn**, called gas giants because more than 90% of their mass consists of hydrogen and helium. Beyond the gas giants are the two **ice giants**, **Uranus** and **Neptune**. Unlike the gas giants, the ice giants are only about 20% hydrogen and helium while the remaining mass is thought to consist of heavier elements, such as oxygen, carbon, nitrogen, and sulfur.\n",
    "\n",
    "## Measuring Distances in the Solar System\n",
    "\n",
    "One common unit used to measure distances in the solar system is the **astronomical unit (AU)**. One AU equals the average distance between the Sun and the Earth, or about 150 million kilometers. \n",
    "\n",
    "The code below generates a table showing the average distances of each planet from the sun in millions of kilometers and AU.\n",
    "\n",
    "Click the `▶▶` button to run all the code cells in this notebook."
   ]
  },
  {
   "cell_type": "code",
   "execution_count": null,
   "metadata": {},
   "outputs": [],
   "source": [
    "import pandas as pd\n",
    "names = ['Sun', 'Mercury', 'Venus', 'Earth', 'Mars', 'Jupiter', 'Saturn', 'Uranus', 'Neptune']\n",
    "diameter = [200000, 4878, 12104, 12756, 6787, 142796, 120660, 51118, 48600]\n",
    "diameter2 = [(i / 12756) for i in diameter]\n",
    "distance = [0, 58.1, 108.5, 150.0, 228.6, 780.5, 1425.0, 2880.0, 4515.0]\n",
    "distance_au = [(i / 150) for i in distance]\n",
    "df = pd.DataFrame(list(zip(names, diameter, diameter2, distance, distance_au)), \n",
    "                  columns = ['Object', 'Diameter (km)', 'Diameter (relative to earth)', 'Distance (millions of km)', 'Distance (AU)'])\n",
    "df"
   ]
  },
  {
   "cell_type": "markdown",
   "metadata": {},
   "source": [
    "## Interactive Orbits\n",
    "\n",
    "Use the visualization tool below, inspired by [Saul Dobilas](https://python.plainenglish.io/how-to-create-a-3d-model-of-the-solar-system-with-plotly-in-python-2a74e672b771), to look at the different planets and their orbits around the sun.\n",
    "\n",
    "For this visualization to be useable the sun has been scalled down (it really is *massive*). The orbits have also been made circular, despite them really being elliptical.\n",
    "\n",
    "You can zoom and pan around the visualization to explore it."
   ]
  },
  {
   "cell_type": "code",
   "execution_count": null,
   "metadata": {},
   "outputs": [],
   "source": [
    "import plotly.graph_objects as go\n",
    "import numpy as np\n",
    "import math\n",
    "\n",
    "df['Colour'] = ['#FFFF00', '#87877D', '#FFC649', '#325BFF', '#B20000', '#EBEBD2', '#EBCD82', '#37FFDA', '#2500AB']\n",
    "\n",
    "def spheres(size, clr, dist=0):\n",
    "    # Set up 100 points. First, do angles\n",
    "    theta = np.linspace(0,2*np.pi,100)\n",
    "    phi = np.linspace(0,np.pi,100)\n",
    "    \n",
    "    # Set up coordinates for points on the sphere\n",
    "    x0 = dist + size * np.outer(np.cos(theta),np.sin(phi))\n",
    "    y0 = size * np.outer(np.sin(theta),np.sin(phi))\n",
    "    z0 = size * np.outer(np.ones(100),np.cos(phi))\n",
    "    \n",
    "    # Set up trace\n",
    "    trace= go.Surface(x=x0, y=y0, z=z0, colorscale=[[0,clr], [1,clr]])\n",
    "    trace.update(showscale=False)\n",
    "\n",
    "    return trace\n",
    "\n",
    "def orbits(dist, offset=0, clr='white', wdth=2): \n",
    "    # Initialize empty lists for each set of coordinates\n",
    "    xcrd=[]\n",
    "    ycrd=[]\n",
    "    zcrd=[]\n",
    "    \n",
    "    # Calculate coordinates\n",
    "    for i in range(0,361):\n",
    "        xcrd=xcrd+[(round(np.cos(math.radians(i)),5)) * dist + offset]\n",
    "        ycrd=ycrd+[(round(np.sin(math.radians(i)),5)) * dist]\n",
    "        zcrd=zcrd+[0]\n",
    "    \n",
    "    trace = go.Scatter3d(x=xcrd, y=ycrd, z=zcrd, marker=dict(size=0.1), line=dict(color=clr,width=wdth))\n",
    "    return trace\n",
    "\n",
    "def annot(xcrd, zcrd, txt, xancr='center'):\n",
    "    strng=dict(showarrow=False, x=xcrd, y=0, z=zcrd, text=txt, xanchor=xancr, font=dict(color='white',size=12))\n",
    "    return strng\n",
    "\n",
    "# Create spheres for the Sun and planets\n",
    "trace0=spheres(df['Diameter (relative to earth)'][0], df['Colour'][0], df['Distance (millions of km)'][0]) # Sun\n",
    "trace1=spheres(df['Diameter (relative to earth)'][1], df['Colour'][1], df['Distance (millions of km)'][1]) # Mercury\n",
    "trace2=spheres(df['Diameter (relative to earth)'][2], df['Colour'][2], df['Distance (millions of km)'][2]) # Venus\n",
    "trace3=spheres(df['Diameter (relative to earth)'][3], df['Colour'][3], df['Distance (millions of km)'][3]) # Earth\n",
    "trace4=spheres(df['Diameter (relative to earth)'][4], df['Colour'][4], df['Distance (millions of km)'][4]) # Mars\n",
    "trace5=spheres(df['Diameter (relative to earth)'][5], df['Colour'][5], df['Distance (millions of km)'][5]) # Jupiter\n",
    "trace6=spheres(df['Diameter (relative to earth)'][6], df['Colour'][6], df['Distance (millions of km)'][6]) # Saturn\n",
    "trace7=spheres(df['Diameter (relative to earth)'][7], df['Colour'][7], df['Distance (millions of km)'][7]) # Uranus\n",
    "trace8=spheres(df['Diameter (relative to earth)'][8], df['Colour'][8], df['Distance (millions of km)'][8]) # Neptune\n",
    "\n",
    "# Set up orbit traces\n",
    "trace11 = orbits(df['Distance (millions of km)'][1], clr=df['Colour'][1]) # Mercury\n",
    "trace12 = orbits(df['Distance (millions of km)'][2], clr=df['Colour'][2]) # Venus\n",
    "trace13 = orbits(df['Distance (millions of km)'][3], clr=df['Colour'][3]) # Earth\n",
    "trace14 = orbits(df['Distance (millions of km)'][4], clr=df['Colour'][4]) # Mars\n",
    "trace15 = orbits(df['Distance (millions of km)'][5], clr=df['Colour'][5]) # Jupiter\n",
    "trace16 = orbits(df['Distance (millions of km)'][6], clr=df['Colour'][6]) # Saturn\n",
    "trace17 = orbits(df['Distance (millions of km)'][7], clr=df['Colour'][7]) # Uranus\n",
    "trace18 = orbits(df['Distance (millions of km)'][8], clr=df['Colour'][8]) # Neptune\n",
    "\n",
    "# Use the same to draw a few rings for Saturn\n",
    "trace21 = orbits(23, df['Distance (millions of km)'][6], '#827962', 3) \n",
    "trace22 = orbits(24, df['Distance (millions of km)'][6], '#827962', 3) \n",
    "trace23 = orbits(25, df['Distance (millions of km)'][6], '#827962', 3)\n",
    "trace24 = orbits(26, df['Distance (millions of km)'][6], '#827962', 3) \n",
    "trace25 = orbits(27, df['Distance (millions of km)'][6], '#827962', 3) \n",
    "trace26 = orbits(28, df['Distance (millions of km)'][6], '#827962', 3)\n",
    "\n",
    "layout=go.Layout(title = 'Solar System', showlegend=False, margin=dict(l=0, r=0, t=0, b=0),\n",
    "                  paper_bgcolor = 'black',\n",
    "                  scene = dict(xaxis=dict(title='Distance from the Sun', \n",
    "                                          titlefont_color='white', \n",
    "                                          range=[-7000,7000], \n",
    "                                          backgroundcolor='black',\n",
    "                                          color='white',\n",
    "                                          gridcolor='black'),\n",
    "                               yaxis=dict(title='Distance from the Sun',\n",
    "                                          titlefont_color='white',\n",
    "                                          range=[-7000,7000],\n",
    "                                          backgroundcolor='black',\n",
    "                                          color='white',\n",
    "                                          gridcolor='black'\n",
    "                                          ),\n",
    "                               zaxis=dict(title='', \n",
    "                                          range=[-7000,7000],\n",
    "                                          backgroundcolor='black',\n",
    "                                          color='black', \n",
    "                                          gridcolor='black'\n",
    "                                         ),\n",
    "                               annotations=[\n",
    "                                   annot(df['Distance (millions of km)'][0], 40, 'Sun', xancr='left'),\n",
    "                                   annot(df['Distance (millions of km)'][1], 5, 'Mercury'),\n",
    "                                   annot(df['Distance (millions of km)'][2], 9, 'Venus'),\n",
    "                                   annot(df['Distance (millions of km)'][3], 9, 'Earth'),\n",
    "                                   annot(df['Distance (millions of km)'][4], 7, 'Mars'),\n",
    "                                   annot(df['Distance (millions of km)'][5], 30, 'Jupiter'),\n",
    "                                   annot(df['Distance (millions of km)'][6], 28, 'Saturn'),\n",
    "                                   annot(df['Distance (millions of km)'][7], 20, 'Uranus'),\n",
    "                                   annot(df['Distance (millions of km)'][8], 20, 'Neptune'),\n",
    "                                   ]\n",
    "                               ))\n",
    "\n",
    "fig = go.Figure(data = [trace0, trace1, trace2, trace3, trace4, trace5, trace6, trace7, trace8,\n",
    "                        trace11, trace12, trace13, trace14, trace15, trace16, trace17, trace18,\n",
    "                        trace21, trace22, trace23, trace24, trace25, trace26],\n",
    "                layout = layout)\n",
    "\n",
    "fig.show()"
   ]
  },
  {
   "cell_type": "markdown",
   "metadata": {},
   "source": [
    "## Conclusion\n",
    "\n",
    "* The **solar system** is a term used to describe the collection of objects orbiting the Sun.\n",
    "* The four rocky inner planets are called **Mercury**, **Venus**, **Earth**, and **Mars**.\n",
    "* The two gas giants are called **Jupiter** and **Saturn**.\n",
    "* The two ice giants are called **Uranus** and **Neptune**.\n",
    "* **Astronomical units (AU)** are commonly used to measure distances in the Solar System."
   ]
  },
  {
   "cell_type": "markdown",
   "metadata": {},
   "source": [
    "[![Callysto.ca License](https://github.com/callysto/curriculum-notebooks/blob/master/callysto-notebook-banner-bottom.jpg?raw=true)](https://github.com/callysto/curriculum-notebooks/blob/master/LICENSE.md)"
   ]
  }
 ],
 "metadata": {
  "kernelspec": {
   "display_name": "Python 3.10.1 64-bit",
   "language": "python",
   "name": "python3"
  },
  "language_info": {
   "codemirror_mode": {
    "name": "ipython",
    "version": 3
   },
   "file_extension": ".py",
   "mimetype": "text/x-python",
   "name": "python",
   "nbconvert_exporter": "python",
   "pygments_lexer": "ipython3",
   "version": "3.10.1"
  },
  "vscode": {
   "interpreter": {
    "hash": "d1ca6d17674200220921376aaeb3d36cffe15ecab2470a9a5e7a456cdbf61425"
   }
  }
 },
 "nbformat": 4,
 "nbformat_minor": 4
}
