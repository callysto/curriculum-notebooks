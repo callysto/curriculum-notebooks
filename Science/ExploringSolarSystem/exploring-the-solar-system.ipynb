{
 "cells": [
  {
   "cell_type": "markdown",
   "metadata": {},
   "source": [
    "![Callysto.ca Banner](https://github.com/callysto/curriculum-notebooks/blob/master/callysto-notebook-banner-top.jpg?raw=true)\n",
    "\n",
    "<a href=\"https://hub.callysto.ca/jupyter/hub/user-redirect/git-pull?repo=https%3A%2F%2Fgithub.com%2Fcallysto%2Fcurriculum-notebooks&branch=master&subPath=Science/ExploringSolarSystem/exploring-the-solar-system.ipynb&depth=1\" target=\"_parent\"><img src=\"https://raw.githubusercontent.com/callysto/curriculum-notebooks/master/open-in-callysto-button.svg?sanitize=true\" width=\"123\" height=\"24\" alt=\"Open in Callysto\"/></a>"
   ]
  },
  {
   "cell_type": "markdown",
   "metadata": {},
   "source": [
    "# Exploring the Solar System\n",
    "\n",
    "## Introduction\n",
    "\n",
    "The **solar system** is the collection of objects orbiting the Sun.\n",
    "\n",
    "The main features of the solar system include the **sun**, the **planets**, and the **asteroid belts**. There are eight planets within the Solar System. The four closest to the sun are the **rocky inner planets**, named **Mercury**, **Venus**, **Earth**, and **Mars** and made mostly of rock and metals. The next two planets are **gas giants**, **Jupiter** and **Saturn**, called gas giants because more than 90% of their mass consists of hydrogen and helium. Beyond the gas giants are the two **ice giants**, **Uranus** and **Neptune**. Unlike the gas giants, the ice giants are only about 20% hydrogen and helium while the remaining mass is thought to consist of heavier elements, such as oxygen, carbon, nitrogen, and sulfur.\n",
    "\n",
    "## Measuring Distances in the Solar System\n",
    "\n",
    "One common unit used to measure distances in the solar system is the **astronomical unit (AU)**. One AU equals the average distance between the Sun and the Earth, or about 150 million kilometers. \n",
    "\n",
    "The code below generates a table showing the average distances of each planet from the sun in millions of kilometers and AU.\n",
    "\n",
    "Click the `▶▶` button to run all the code cells in this notebook."
   ]
  },
  {
   "cell_type": "code",
   "execution_count": null,
   "metadata": {},
   "outputs": [],
   "source": [
    "import pandas as pd\n",
    "names = ['Sun', 'Mercury', 'Venus', 'Earth', 'Mars', 'Jupiter', 'Saturn', 'Uranus', 'Neptune']\n",
    "diameter = [200000, 4878, 12104, 12756, 6787, 142796, 120660, 51118, 48600]\n",
    "diameter2 = [(i / 12756) for i in diameter]\n",
    "distance = [0, 58.1, 108.5, 150.0, 228.6, 780.5, 1425.0, 2880.0, 4515.0]\n",
    "distance_au = [(i / 150) for i in distance]\n",
    "solar_system = pd.DataFrame(list(zip(names, diameter, diameter2, distance, distance_au)), \n",
    "                  columns = ['Object', 'Diameter (km)', 'Diameter (relative to earth)', 'Distance (millions of km)', 'Distance (AU)'])\n",
    "solar_system"
   ]
  },
  {
   "cell_type": "markdown",
   "metadata": {},
   "source": [
    "## Interactive Orbits\n",
    "\n",
    "Use the visualization tool below, inspired by [Saul Dobilas](https://python.plainenglish.io/how-to-create-a-3d-model-of-the-solar-system-with-plotly-in-python-2a74e672b771), to look at the different planets and their orbits around the sun.\n",
    "\n",
    "For this visualization to be useable, the sun has been scalled down (it really is *massive*). The orbits have also been made circular, despite them really being elliptical.\n",
    "\n",
    "You can zoom and pan around the visualization to explore it."
   ]
  },
  {
   "cell_type": "code",
   "execution_count": null,
   "metadata": {},
   "outputs": [],
   "source": [
    "import plotly.graph_objects as go\n",
    "import numpy as np\n",
    "import math\n",
    "\n",
    "df = solar_system.rename(columns={'Diameter (relative to earth)':'Diameter', 'Distance (millions of km)':'Distance'})\n",
    "df['Colour'] = ['#FFFF00', '#87877D', '#FFC649', '#325BFF', '#B20000', '#EBEBD2', '#EBCD82', '#37FFDA', '#2500AB']\n",
    "df['AnnotationZ'] = [40, 5, 9, 9, 7, 30, 28, 20, 20]\n",
    "\n",
    "def spheres(size, clr, dist=0):\n",
    "    # Set up 100 points. First, do angles\n",
    "    theta = np.linspace(0,2*np.pi,100)\n",
    "    phi = np.linspace(0,np.pi,100)\n",
    "    # Set up coordinates for points on the sphere\n",
    "    x0 = dist + size * np.outer(np.cos(theta),np.sin(phi))\n",
    "    y0 = size * np.outer(np.sin(theta),np.sin(phi))\n",
    "    z0 = size * np.outer(np.ones(100),np.cos(phi))\n",
    "    # Set up trace\n",
    "    trace = go.Surface(x=x0, y=y0, z=z0, colorscale=[[0,clr], [1,clr]])\n",
    "    trace.update(showscale=False)\n",
    "    return trace\n",
    "\n",
    "def orbits(dist, offset=0, clr='white', wdth=2):\n",
    "    # Initialize empty lists for each set of coordinates\n",
    "    xcrd=[]\n",
    "    ycrd=[]\n",
    "    zcrd=[]\n",
    "    for i in range(0,361):  # Calculate coordinates\n",
    "        xcrd=xcrd+[(round(np.cos(math.radians(i)),5)) * dist + offset]\n",
    "        ycrd=ycrd+[(round(np.sin(math.radians(i)),5)) * dist]\n",
    "        zcrd=zcrd+[0]\n",
    "    trace = go.Scatter3d(x=xcrd, y=ycrd, z=zcrd, marker=dict(size=0.1), line=dict(color=clr,width=wdth))\n",
    "    return trace\n",
    "\n",
    "def annot(xcrd, zcrd, txt, xancr='center'):\n",
    "    strng = dict(showarrow=False, x=xcrd, y=0, z=zcrd, text=txt, xanchor=xancr, font=dict(color='white',size=12))\n",
    "    return strng\n",
    "\n",
    "data = []\n",
    "annotations = []\n",
    "for p in range(len(df)):\n",
    "    data.append(spheres(df['Diameter'][p], df['Colour'][p], df['Distance'][p]))\n",
    "    data.append(orbits(df['Distance'][p], clr=df['Colour'][p]))\n",
    "    annotations.append(annot(df['Distance'][p], df['AnnotationZ'][p], df['Object'][p]))\n",
    "annotations[0]['xanchor'] = 'left'  # Set the sun's annotation to the left\n",
    "\n",
    "# Draw a few rings for Saturn\n",
    "for r in range(23,29):\n",
    "    data.append(orbits(r, df['Distance'][6], '#827962', 3))\n",
    "\n",
    "layout=go.Layout(title = 'Solar System', showlegend=False, margin=dict(l=0, r=0, t=0, b=0),\n",
    "                  paper_bgcolor = 'black',\n",
    "                  scene = dict(xaxis=dict(title='Distance from the Sun', titlefont_color='white', range=[-7000,7000], backgroundcolor='black', color='white', gridcolor='black'),\n",
    "                               yaxis=dict(title='Distance from the Sun', titlefont_color='white', range=[-7000,7000], backgroundcolor='black', color='white', gridcolor='black'),\n",
    "                               zaxis=dict(title='', range=[-7000,7000], backgroundcolor='black', color='black', gridcolor='black'),\n",
    "                               annotations=annotations))\n",
    "\n",
    "fig = go.Figure(data = data, layout = layout)\n",
    "fig.show()"
   ]
  },
  {
   "cell_type": "markdown",
   "metadata": {},
   "source": [
    "## Conclusion\n",
    "\n",
    "* The **solar system** is a term used to describe the collection of objects orbiting the Sun.\n",
    "* The four rocky inner planets are called **Mercury**, **Venus**, **Earth**, and **Mars**.\n",
    "* The two gas giants are called **Jupiter** and **Saturn**.\n",
    "* The two ice giants are called **Uranus** and **Neptune**.\n",
    "* **Astronomical units (AU)** are commonly used to measure distances in the Solar System."
   ]
  },
  {
   "cell_type": "markdown",
   "metadata": {},
   "source": [
    "[![Callysto.ca License](https://github.com/callysto/curriculum-notebooks/blob/master/callysto-notebook-banner-bottom.jpg?raw=true)](https://github.com/callysto/curriculum-notebooks/blob/master/LICENSE.md)"
   ]
  }
 ],
 "metadata": {
  "kernelspec": {
   "display_name": "Python 3 (ipykernel)",
   "language": "python",
   "name": "python3"
  },
  "language_info": {
   "codemirror_mode": {
    "name": "ipython",
    "version": 3
   },
   "file_extension": ".py",
   "mimetype": "text/x-python",
   "name": "python",
   "nbconvert_exporter": "python",
   "pygments_lexer": "ipython3",
   "version": "3.9.12"
  },
  "vscode": {
   "interpreter": {
    "hash": "d1ca6d17674200220921376aaeb3d36cffe15ecab2470a9a5e7a456cdbf61425"
   }
  }
 },
 "nbformat": 4,
 "nbformat_minor": 4
}
