{
 "cells": [
  {
   "cell_type": "code",
   "execution_count": null,
   "metadata": {},
   "outputs": [],
   "source": [
    "import pandas as pd\n",
    "import numpy as np\n",
    "import plotly.express as px\n",
    "from sklearn.linear_model import LogisticRegression\n",
    "from sklearn.model_selection import train_test_split\n",
    "import plotly.graph_objects as go\n",
    "from sklearn.tree import DecisionTreeClassifier\n",
    "from sklearn.metrics import accuracy_score\n",
    "from sklearn.ensemble import RandomForestClassifier"
   ]
  },
  {
   "cell_type": "markdown",
   "metadata": {},
   "source": [
    "So far, this notebook has 3 topics:\n",
    "1. Basic Exploration\n",
    "2. Feature Importance for Kepler Identification\n",
    "3. Planet Habitability"
   ]
  },
  {
   "cell_type": "code",
   "execution_count": null,
   "metadata": {},
   "outputs": [],
   "source": [
    "exo = pd.read_csv(\"data/df.csv\", skiprows=125, delimiter=',')\n",
    "# exo = pd.read_csv(\"data/all_df.csv\", skiprows=319)\n",
    "print(exo.shape)\n",
    "exo.head()"
   ]
  },
  {
   "cell_type": "code",
   "execution_count": null,
   "metadata": {},
   "outputs": [],
   "source": [
    "exo.columns.tolist()"
   ]
  },
  {
   "cell_type": "markdown",
   "metadata": {},
   "source": [
    "## 1. Basic Exploration"
   ]
  },
  {
   "cell_type": "code",
   "execution_count": null,
   "metadata": {},
   "outputs": [],
   "source": [
    "def generalize_spectype(row):\n",
    "      if \"B\" in row[\"st_spectype\"]:\n",
    "            return \"B\"\n",
    "      elif \"A\" in row[\"st_spectype\"]:\n",
    "            return \"A\"\n",
    "      elif \"F\" in row[\"st_spectype\"]:\n",
    "            return \"F\"\n",
    "      elif \"G\" in row[\"st_spectype\"]:\n",
    "            return \"G\"\n",
    "      elif \"K\" in row[\"st_spectype\"]:\n",
    "            return \"K\"\n",
    "      elif \"M\" in row[\"st_spectype\"]:\n",
    "            return \"M\"\n",
    "      else:\n",
    "            return \"Undefined\"\n",
    "\n",
    "exo[\"st_spectype\"].fillna('', inplace=True)\n",
    "exo[\"generalized_spectype\"] = exo.apply(generalize_spectype, axis=1)\n",
    "exo"
   ]
  },
  {
   "cell_type": "code",
   "execution_count": null,
   "metadata": {},
   "outputs": [],
   "source": [
    "select_columns = [\"hostname\", \"st_spectype\", \"discoverymethod\"]\n",
    "def plot_basic_characteristic(column, data):\n",
    "\n",
    "      if column == \"st_spectype\":\n",
    "\n",
    "            def bolometric_cor_calc(row):\n",
    "                  if \"B\" in row[\"st_spectype\"]:\n",
    "                        return \"B\"\n",
    "                  elif \"A\" in row[\"st_spectype\"]:\n",
    "                        return \"A\"\n",
    "                  elif \"F\" in row[\"st_spectype\"]:\n",
    "                        return \"F\"\n",
    "                  elif \"G\" in row[\"st_spectype\"]:\n",
    "                        return \"G\"\n",
    "                  elif \"K\" in row[\"st_spectype\"]:\n",
    "                        return \"G\"\n",
    "                  elif \"M\" in row[\"st_spectype\"]:\n",
    "                        return \"M\"\n",
    "                  else:\n",
    "                        return \"Undefined\"\n",
    "\n",
    "            data[\"st_spectype\"].fillna('', inplace=True)\n",
    "            data[\"st_spectype_modified\"] = data.apply(bolometric_cor_calc, axis=1)\n",
    "            column = \"st_spectype_modified\"\n",
    "            \n",
    "      unique_c = data[column].unique().tolist()\n",
    "      findtop10 = exo.groupby([column]).size().to_frame()\n",
    "      findtop10 = findtop10.reset_index()\n",
    "      findtop10.columns = [column, \"count\"]\n",
    "      findtop10 = findtop10.sort_values(by=[\"count\"], ascending=False)\n",
    "      top10list = findtop10[column].iloc[0:10].tolist()\n",
    "      data = data[data[column].isin(top10list)]\n",
    "      values = [len(data[data[column] == item]) for item in top10list]\n",
    "      fig = px.pie(data, values=values, names=top10list)\n",
    "      fig.show()\n",
    "\n",
    "plot_basic_characteristic(\"disc_facility\", exo)"
   ]
  },
  {
   "cell_type": "code",
   "execution_count": null,
   "metadata": {},
   "outputs": [],
   "source": [
    "def exploratory_pie_chart(col_list):\n",
    "      pie_fig = go.Figure()\n",
    "      button_list = []\n",
    "      for ind, column in enumerate(col_list):\n",
    "            find_unique_cols = exo[column].nunique()\n",
    "            labels = list(set(exo[column].tolist()))\n",
    "            if find_unique_cols > 15:\n",
    "                findtop10 = exo.groupby([column]).size().to_frame()\n",
    "                findtop10 = findtop10.reset_index()\n",
    "                findtop10.columns = [column, \"count\"]\n",
    "                findtop10 = findtop10.sort_values(by=[\"count\"], ascending=False)\n",
    "                top10list = findtop10[column].iloc[0:15].tolist()\n",
    "                labels = top10list\n",
    "                values = [len(exo[exo[column] == item]) for item in top10list]\n",
    "                  \n",
    "            else:\n",
    "                values = [len(exo[exo[column] == item]) for item in labels]\n",
    "\n",
    "            pie_fig.add_trace(go.Pie(labels=labels, values=values, name=column, visible=True if ind == 0 else False))\n",
    "\n",
    "            col_count = [False] * len(col_list)\n",
    "            modified_list = []\n",
    "            for ind_count, col_name in enumerate(col_count):\n",
    "                  modified_list.append(True if ind_count == ind else False)\n",
    "            button = dict(label=column, args=[{\"visible\":modified_list, \"title\":column}], method=\"update\")\n",
    "            button_list.append(button)\n",
    "\n",
    "      pie_fig.update_layout(\n",
    "            updatemenus=[dict(buttons=list(button_list),\n",
    "                      direction=\"down\",\n",
    "                      showactive=True,\n",
    "                      x=-0.1,\n",
    "                      xanchor=\"left\",\n",
    "                      y=1.3,\n",
    "                      yanchor=\"top\"),\n",
    "                ],\n",
    "                title=go.layout.Title(text=\"Exoplanet Categorical Variable Observation\",\n",
    "                                            x=0.5,\n",
    "                                            y=0.95),\n",
    "                                            width=800,\n",
    "                                            height=500,\n",
    "                                            autosize=True\n",
    "                )\n",
    "                                         \n",
    "      pie_fig.show()\n",
    "\n",
    "exploratory_pie_chart([\"hostname\", \"generalized_spectype\", \"discoverymethod\"])"
   ]
  },
  {
   "cell_type": "markdown",
   "metadata": {},
   "source": [
    "### Exoplanet Classification\n",
    "- Gas Giant: planets the size of Saturn or Jupiter, the largest planet in our solar system, or much, much larger.\n",
    "- Neptunian: similar in size to Neptune or Uranus in our solar system. (Neptune is about four times the size, or radius, of Earth and almost 17 times its mass, or weight.)\n",
    "- Super-Earth: more massive than Earth, but lighter than Neptune.\n",
    "- Terrestrial: Earth sized and smaller, composed of rock, silicate, water or carbon.\n",
    "\n",
    "Source: \n",
    "- https://exoplanets.nasa.gov/what-is-an-exoplanet/planet-types/overview/#:~:text=So%20far%20scientists%20have%20categorized,%2C%20super%2DEarth%20and%20terrestrial.\n",
    "- https://iopscience.iop.org/article/10.3847/1538-4357/aab205#apjaab205s4"
   ]
  },
  {
   "cell_type": "code",
   "execution_count": null,
   "metadata": {},
   "outputs": [],
   "source": [
    "all_list = {\"rocky\" : np.arange(0.5, 1.0, step=0.1),\n",
    "            \"super_earth\" : np.arange(1.0, 1.75, step=0.1),\n",
    "            \"sub_neptune\" : np.arange(1.75, 3.5, step=0.1),\n",
    "            \"sub_jovian\" : np.arange(3.5, 6.0, step=0.1),\n",
    "            \"jovians\" : np.arange(6.0, 14.3, step=0.1)}\n",
    "\n",
    "def classify_on_rad(val):\n",
    "    if val in all_list[\"rocky\"]:\n",
    "        return \"Rocky\"\n",
    "    elif val in all_list[\"super_earth\"]:\n",
    "        return \"Super Earth\"\n",
    "    elif val in all_list[\"sub_neptune\"]:\n",
    "        return \"Sub Neptune\"\n",
    "    elif val in all_list[\"sub_jovian\"]:\n",
    "        return \"Sub Jovian\"\n",
    "    elif val in all_list[\"jovians\"]:\n",
    "        return \"Jovian\"\n",
    "    else:\n",
    "        return \"Undefined\"\n",
    "\n",
    "exo[\"rad_classification\"] = exo[\"pl_rade\"].apply(lambda row: classify_on_rad(row))\n",
    "display(exo.groupby([\"rad_classification\"]).size().to_frame())\n",
    "exo.head()"
   ]
  },
  {
   "cell_type": "code",
   "execution_count": null,
   "metadata": {},
   "outputs": [],
   "source": [
    "apply_koi = lambda row: \"KOI\" if \"Kepler\" in row[\"hostname\"] else \"Exoplanet\"\n",
    "exo[\"koi_classification\"] = exo.apply(apply_koi, axis=1)\n",
    "exo = exo.replace(np.nan, 0)\n",
    "display(exo.groupby([\"koi_classification\"]).size().to_frame())\n",
    "exo.head()"
   ]
  },
  {
   "cell_type": "code",
   "execution_count": null,
   "metadata": {},
   "outputs": [],
   "source": [
    "pie_fig = go.Figure()\n",
    "pie_fig.add_trace(go.Pie(labels=[\"Exoplanet\", \"KOI\"], values=exo[\"koi_classification\"].value_counts(), \n",
    "                         name=\"KOI\", visible=True))\n",
    "pie_fig.add_trace(go.Pie(labels=exo[\"rad_classification\"].unique().tolist(),\n",
    "                         values=exo[\"rad_classification\"].value_counts(),\n",
    "                        name=\"Mass\", visible=False))\n",
    "pie_fig.update_layout(\n",
    "    updatemenus=[dict(buttons=list([dict(label=\"KOI Classification\",\n",
    "                                         args=[{\"visible\": [True, False]},\n",
    "                                               {\"title\": \"KOI Classification\"}],\n",
    "                                         method=\"update\"),\n",
    "                                    dict(args=[{\"visible\": [False, True]},\n",
    "                                               {\"title\": \"Mass Classification\"}],\n",
    "                                         label=\"Mass Classification\",\n",
    "                                         method=\"update\")\n",
    "                                   ]),\n",
    "                      direction=\"down\",\n",
    "                      showactive=True,\n",
    "                      x=-0.1,\n",
    "                      xanchor=\"left\",\n",
    "                      y=1.3,\n",
    "                      yanchor=\"top\"),\n",
    "                ]\n",
    ")\n",
    "\n",
    "pie_fig.update_layout(title=go.layout.Title(text=\"Exoplanet Classifications\",\n",
    "                                            x=0.5,\n",
    "                                            y=0.95),\n",
    "                      width=700,\n",
    "                      height=500,\n",
    "                      autosize=False)\n",
    "                                            \n",
    "\n",
    "pie_fig.show()"
   ]
  },
  {
   "cell_type": "markdown",
   "metadata": {},
   "source": [
    "## 2. Distinguish KOI\n",
    "- What factor contributes the most in classifying an exoplanet as KOI?"
   ]
  },
  {
   "cell_type": "code",
   "execution_count": null,
   "metadata": {},
   "outputs": [],
   "source": [
    "all_int_cols = list(exo.select_dtypes(include=['int', 'float']).columns)\n",
    "all_int_cols.append(\"koi_classification\")\n",
    "koi = exo[all_int_cols]\n",
    "koi.head()"
   ]
  },
  {
   "cell_type": "code",
   "execution_count": null,
   "metadata": {},
   "outputs": [],
   "source": [
    "X_train, X_test, y_train, y_test =  train_test_split(koi.iloc[:, :-1],koi[\"koi_classification\"],test_size=0.3,random_state=0)\n",
    "# categorical_dtypes = list(X_train.select_dtypes(include=['object']).columns)\n",
    "# col_transformer = [(\"cat\", encoder, categorical_dtypes)]\n",
    "# col_transform = ColumnTransformer(transformers=col_transformer)\n"
   ]
  },
  {
   "cell_type": "markdown",
   "metadata": {},
   "source": [
    "#### Logistic Regression"
   ]
  },
  {
   "cell_type": "code",
   "execution_count": null,
   "metadata": {},
   "outputs": [],
   "source": [
    "def generate_h_bar_fig(df, model_type):\n",
    "      h_bar = px.bar(df,x=\"coef\", y=\"feature\", orientation=\"h\", height=600, color=\"color\",\n",
    "                        title=f\"{model_type} Feature Importance for KOI Classification\")\n",
    "      h_bar.update_layout(\n",
    "            title={'y':0.9,\n",
    "            'x':0.5,\n",
    "            'xanchor': 'center',\n",
    "            'yanchor': 'top'})\n",
    "      \n",
    "      h_bar.show()"
   ]
  },
  {
   "cell_type": "code",
   "execution_count": null,
   "metadata": {},
   "outputs": [],
   "source": [
    "lr_model = LogisticRegression(max_iter=2000)\n",
    "lr_model.fit(X_train,  y_train)\n",
    "lr_y_hat = lr_model.predict(X_test)\n",
    "print(f\"LR Model score is: {accuracy_score(y_test, lr_y_hat)}\")\n",
    "lr_importance = list(zip(lr_model.coef_[0], X_train.columns.tolist()))\n",
    "\n",
    "lr_df = pd.DataFrame(columns=[\"feature\", \"coef\"])\n",
    "for ind, item in lr_importance:\n",
    "    lr_df.loc[len(lr_df)] = item, ind\n",
    "color = lambda row: \"Positive\" if row[\"coef\"] >= 0 else \"Negative\"\n",
    "lr_df[\"color\"] = lr_df.apply(color, axis=1)\n",
    "    \n",
    "display(lr_df.sort_values(by=\"coef\", ascending=False))\n",
    "generate_h_bar_fig(lr_df.sort_values(by=\"coef\"), \"Logistic Regression\")"
   ]
  },
  {
   "cell_type": "markdown",
   "metadata": {},
   "source": [
    "#### Decision Tree"
   ]
  },
  {
   "cell_type": "code",
   "execution_count": null,
   "metadata": {},
   "outputs": [],
   "source": [
    "tree_model = DecisionTreeClassifier()\n",
    "tree_model.fit(X_train, y_train)\n",
    "tree_importance = list(zip(tree_model.feature_importances_, X_train.columns.tolist()))\n",
    "tree_y_hat = tree_model.predict(X_test)\n",
    "print(f\"Decision Tree Classifier Model score is: {accuracy_score(y_test, tree_y_hat)}\")\n",
    "\n",
    "tree_df = pd.DataFrame(columns=[\"feature\", \"coef\"])\n",
    "for ind, item in tree_importance:\n",
    "    tree_df.loc[len(tree_df)] = item, ind\n",
    "color = lambda row: \"Positive\" if row[\"coef\"] >= 0 else \"Negative\"\n",
    "tree_df[\"color\"] = tree_df.apply(color, axis=1)\n",
    "\n",
    "display(tree_df.sort_values(by=\"coef\", ascending=False))\n",
    "generate_h_bar_fig(tree_df.sort_values(by=\"coef\"), \"Decision Tree\")"
   ]
  },
  {
   "cell_type": "code",
   "execution_count": null,
   "metadata": {},
   "outputs": [],
   "source": [
    "r_tree_model = RandomForestClassifier()\n",
    "r_tree_model.fit(X_train, y_train)\n",
    "r_tree_importance = list(zip(r_tree_model.feature_importances_, X_train.columns.tolist()))\n",
    "r_tree_y_hat = r_tree_model.predict(X_test)\n",
    "print(f\"Decision Tree Classifier Model score is: {accuracy_score(y_test, r_tree_y_hat)}\")\n",
    "\n",
    "r_tree_df = pd.DataFrame(columns=[\"feature\", \"coef\"])\n",
    "for ind, item in r_tree_importance:\n",
    "    r_tree_df.loc[len(r_tree_df)] = item, ind\n",
    "color = lambda row: \"Positive\" if row[\"coef\"] >= 0 else \"Negative\"\n",
    "r_tree_df[\"color\"] = r_tree_df.apply(color, axis=1)\n",
    "\n",
    "r_tree_df.sort_values(by=\"coef\", ascending=False)\n",
    "generate_h_bar_fig(r_tree_df.sort_values(by=\"coef\"), \"Random Forest Classifier\")"
   ]
  },
  {
   "cell_type": "markdown",
   "metadata": {},
   "source": [
    "## 3. Define Habitable Zone\n",
    "![formula](data/hz_formula_with_e.png)\n",
    "- Source: https://www.planetarybiology.com/calculating_habitable_zone.html"
   ]
  },
  {
   "cell_type": "markdown",
   "metadata": {},
   "source": [
    "#### Based on Stellar Luminosity and Radius"
   ]
  },
  {
   "cell_type": "code",
   "execution_count": null,
   "metadata": {},
   "outputs": [],
   "source": [
    "solar_lum = np.log(3.828 * (10 ** 26))\n",
    "earth_rad = 6371000\n",
    "\n",
    "def revert_to_km_rade(value):\n",
    "    km_converted = value * 1.496 * (10 ** 8)\n",
    "    earth_converted = km_converted / earth_rad\n",
    "    return earth_converted\n",
    "\n",
    "def calculate_lum(df):\n",
    "    df[\"r_inner\"] = revert_to_km_rade((df[\"st_lum\"] / 1.1) ** (1/2))\n",
    "    df[\"r_outer\"] = revert_to_km_rade((df[\"st_lum\"] / 0.53) ** (1/2))\n",
    "    return df\n",
    "\n",
    "def identify_habitability(rade, r_inner, r_outer):\n",
    "    return True if (rade > r_inner) & (rade < r_outer) else False\n",
    "\n",
    "exo = calculate_lum(exo)\n",
    "exo[\"habitability\"] = exo.apply(lambda row: identify_habitability(row.pl_rade, row.r_inner, row.r_outer), axis=1)\n",
    "display(exo.groupby([\"habitability\"]).size().to_frame())\n",
    "exo.head()"
   ]
  },
  {
   "cell_type": "code",
   "execution_count": null,
   "metadata": {},
   "outputs": [],
   "source": [
    "exo_mass = pd.read_csv(\"data/planetary_data_with_mass.csv\", skiprows=50)\n",
    "exo_merge = exo.merge(exo_mass[[\"pl_name\", \"pl_msinie\", \"pl_masse\"]], on=\"pl_name\", how=\"outer\")\n",
    "print(exo_merge.shape)\n",
    "exo_merge[\"pl_msinie\"].count()\n",
    "exo_merge.head()"
   ]
  },
  {
   "cell_type": "code",
   "execution_count": null,
   "metadata": {},
   "outputs": [],
   "source": [
    "exo_masse_non=exo_merge[exo_merge[\"pl_masse\"].notna()]\n",
    "habitability_fig = px.scatter(exo_masse_non, x=\"st_lum\", y=\"pl_rade\", color=\"habitability\", size=\"pl_masse\", hover_data=[\"pl_name\"],\n",
    "                              color_discrete_sequence = [\"salmon\", \"blue\"],\n",
    "                              title=\"Relationship of Radius, Luminosity and Mass(in Earth Unit) in Determining Planet Habitability\",\n",
    "                              labels={\"st_lum\":\"Stellar Luminosity\",\n",
    "                                        \"pl_rade\": \"Planet Radius (in Earth Unit)\",\n",
    "                                        \"pl_masse\": \"Planet Mass (in Earth Unit)\",\n",
    "                                        \"habitability\": \"Habitability\"})\n",
    "\n",
    "habitability_fig.update_layout(\n",
    "    title={\n",
    "        'y':0.9,\n",
    "        'x':0.5,\n",
    "        'xanchor': 'center',\n",
    "        'yanchor': 'top'},\n",
    "        height=600)\n",
    "habitability_fig.show()"
   ]
  },
  {
   "cell_type": "code",
   "execution_count": null,
   "metadata": {},
   "outputs": [],
   "source": [
    "def apply_rocky(row):\n",
    "    return True if ((row[\"pl_rade\"] > 0.5) & (row[\"pl_rade\"] <= 1.6)) or ((row[\"pl_msinie\"] > 0.1) & (row[\"pl_msinie\"] <= 3)) else False\n",
    "\n",
    "exo_merge[\"rocky\"] = exo_merge.apply(apply_rocky, axis=1)\n",
    "display(exo_merge.groupby([\"rocky\"]).size().to_frame())\n",
    "exo_merge[(exo_merge[\"rocky\"] == True)]"
   ]
  },
  {
   "cell_type": "code",
   "execution_count": null,
   "metadata": {},
   "outputs": [],
   "source": [
    "df2 = exo_merge.query(\"habitability == True\")\n",
    "df2.hostname.value_counts()"
   ]
  },
  {
   "cell_type": "code",
   "execution_count": null,
   "metadata": {},
   "outputs": [],
   "source": [
    "from plotly.subplots import make_subplots\n",
    "\n",
    "def visualize_habitable_characteristics(df, columns):\n",
    "    df = df.query(\"habitability == True\")\n",
    "    cols = 2\n",
    "    rows = int(len(columns)/cols)\n",
    "    \n",
    "    fig = make_subplots(cols=cols, rows=rows,\n",
    "                       subplot_titles=columns)\n",
    "    \n",
    "    myrow = 1\n",
    "    mycol = 1\n",
    "    mynum = 0\n",
    "\n",
    "    while mynum < len(columns):\n",
    "        if myrow <= rows:\n",
    "            fig.add_trace(go.Histogram(name=columns[mynum], x=df[columns[mynum]]), row=myrow, col=mycol)\n",
    "            myrow += 1\n",
    "            mynum += 1\n",
    "        else: \n",
    "            myrow = 1\n",
    "            mycol = 2\n",
    "            \n",
    "    fig.update_layout(height=600, width=800, title_text=\"Habitable Exoplanets Characteristics\")\n",
    "    \n",
    "    fig.show()\n",
    "    \n",
    "visualize_habitable_characteristics(exo_merge, [\"pl_masse\", \"pl_rade\", \"pl_insol\", \"pl_eqt\"])    "
   ]
  },
  {
   "cell_type": "code",
   "execution_count": null,
   "metadata": {},
   "outputs": [],
   "source": [
    "habitable_df = exo_merge.query(\"habitability == True\")\n",
    "print(habitable_df.hostname.value_counts())\n",
    "habitable_df"
   ]
  },
  {
   "cell_type": "code",
   "execution_count": null,
   "metadata": {},
   "outputs": [],
   "source": [
    "star_list = habitable_df.hd_name.tolist()"
   ]
  },
  {
   "cell_type": "code",
   "execution_count": null,
   "metadata": {},
   "outputs": [],
   "source": [
    "star_df = pd.read_csv(\"data/star_df.csv\", skiprows=30)\n",
    "star_df"
   ]
  },
  {
   "cell_type": "code",
   "execution_count": null,
   "metadata": {},
   "outputs": [],
   "source": [
    "star_df.columns"
   ]
  },
  {
   "cell_type": "markdown",
   "metadata": {},
   "source": [
    "If we want to further investigate properties of the host stars, we can focus on the items above. "
   ]
  },
  {
   "cell_type": "code",
   "execution_count": null,
   "metadata": {},
   "outputs": [],
   "source": [
    "database_star_list = exo_merge.hd_name.tolist()\n",
    "\n",
    "present_star = []\n",
    "\n",
    "for star in star_list:\n",
    "    if star in database_star_list:\n",
    "        present_star.append(star)\n",
    "        \n",
    "star_df_filtered = star_df[star_df[\"hd_name\"].isin(present_star)]\n",
    "\n",
    "print(star_df_filtered.columns)\n",
    "star_df"
   ]
  },
  {
   "cell_type": "code",
   "execution_count": null,
   "metadata": {},
   "outputs": [],
   "source": [
    "hd_list = exo_merge.hd_name.unique().tolist()\n",
    "hip_list = exo_merge.hip_name.unique().tolist()\n",
    "hd_hip_list = hd_list + hip_list\n",
    "\n",
    "for ind, item in enumerate(hd_hip_list):\n",
    "    if str(item) == \"nan\":\n",
    "        hd_hip_list.pop(ind)\n",
    "    \n",
    "existing_list = []\n",
    "\n",
    "for ind, star in star_df.iterrows():\n",
    "    if (star[\"hd_name\"] in hd_hip_list):\n",
    "        existing_list.append(star[\"hd_name\"])\n",
    "    elif (star[\"hip_name\"] in hd_hip_list):\n",
    "        existing_list.append(star[\"hip_name\"])\n",
    "        \n",
    "print(len(existing_list))"
   ]
  },
  {
   "cell_type": "code",
   "execution_count": null,
   "metadata": {},
   "outputs": [],
   "source": [
    "habitable = lambda row: True if ((row[\"hd_name\"]) or (row[\"hip_name\"])) in existing_list else False\n",
    "star_df[\"habitability\"] = star_df.apply(habitable, axis=1)\n",
    "star_df"
   ]
  },
  {
   "cell_type": "code",
   "execution_count": null,
   "metadata": {},
   "outputs": [],
   "source": [
    "vmag_bmv = px.scatter(star_df, x=\"st_vmag\", y=\"st_bmv\", color=\"habitability\",\n",
    "                     color_discrete_sequence = [\"salmon\", \"blue\"],\n",
    "                     title=\"Brightness vs. Star Color based on Habitability\")\n",
    "vmag_bmv.show()"
   ]
  },
  {
   "cell_type": "markdown",
   "metadata": {},
   "source": [
    "In the figure above, I've selected the `brightness of the host star` and `color of the host star` to compare whether it has an impact on habitability.\n",
    "\n",
    "Description of the variables, retrieved from [NASA Exoplanet Database](https://exoplanetarchive.ipac.caltech.edu/docs/API_mission_stars.html).\n",
    "- `st_vmag`: Brightness of the host star as measured using the V band in the units of magintudes\n",
    "- `st_bmv`: Color of the star as measured by the difference between B and V bands"
   ]
  },
  {
   "cell_type": "code",
   "execution_count": null,
   "metadata": {},
   "outputs": [],
   "source": [
    "num_planets = px.strip(star_df, x=\"habitability\", y=\"st_ppnum\",\n",
    "                      width=600, height=400,\n",
    "                      title=\"Exoplanet Habitability Based on the Number of Planets in System\")\n",
    "num_planets.show()"
   ]
  },
  {
   "cell_type": "code",
   "execution_count": null,
   "metadata": {},
   "outputs": [],
   "source": [
    "num_planets = px.strip(star_df, x=\"habitability\", y=\"st_dist\",\n",
    "                      width=600, height=600, color=\"habitability\",\n",
    "                       color_discrete_sequence = [\"salmon\", \"blue\"],\n",
    "                       title=\"Exoplanet Habitability Based on the Distance to the System in parsecs\")\n",
    "\n",
    "num_planets.update_layout(title=dict(font=dict(size=15)))\n",
    "                          \n",
    "num_planets.show()"
   ]
  }
 ],
 "metadata": {
  "kernelspec": {
   "display_name": "Python 3 (ipykernel)",
   "language": "python",
   "name": "python3"
  },
  "language_info": {
   "codemirror_mode": {
    "name": "ipython",
    "version": 3
   },
   "file_extension": ".py",
   "mimetype": "text/x-python",
   "name": "python",
   "nbconvert_exporter": "python",
   "pygments_lexer": "ipython3",
   "version": "3.9.12"
  }
 },
 "nbformat": 4,
 "nbformat_minor": 4
}
