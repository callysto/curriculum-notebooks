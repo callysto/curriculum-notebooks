{
 "cells": [
  {
   "cell_type": "markdown",
   "metadata": {},
   "source": [
    "![Callysto.ca Banner](https://github.com/callysto/curriculum-notebooks/blob/master/callysto-notebook-banner-top.jpg?raw=true)"
   ]
  },
  {
   "cell_type": "markdown",
   "metadata": {},
   "source": [
    "## Plotting Daily and Cumulative COVID-19 Cases per Country on a Logarithmic Scale\n",
    "\n",
    "In this notebook we will explore the logarithmic scale (also known as the log scale) and we will explore how the log scale can help us determine if a country is experiencing exponential growth in the number of reported COVID-19 cases. \n",
    "\n",
    "### What is a logarithmic scale?\n",
    "\n",
    "A logarithmic scale is a nonlinear scale often used when analyzing a large range of quantities. Instead of increasing in equal increments, each interval is increased by a factor of the base of the logarithm. Typically, a base 10 and base $e$ scale are used. In this notebook, we will use base 10. \n",
    "\n",
    "Let's say you have a variable $y$ which [grows exponentially](https://en.wikipedia.org/wiki/Exponential_growth), that is, \n",
    "\n",
    "on the first day, $y=10$, \n",
    "\n",
    "on the second day, $y = 100$, \n",
    "\n",
    "on the third day, $y = 1000$...\n",
    "\n",
    "What this means is that every day, the value of y will increase by a factor of ten.\n",
    "\n",
    "Using a logarithmic scale is useful when the largest numbers in the data are hundreds or thousands of times larger than the smallest numbers. \n",
    "\n",
    "One application of the logarithmic scale is the Richter scale used to measure the power of an earthquake.\n"
   ]
  },
  {
   "cell_type": "code",
   "execution_count": null,
   "metadata": {
    "scrolled": true
   },
   "outputs": [],
   "source": [
    "from IPython.display import YouTubeVideo\n",
    "YouTubeVideo('RFn-IGlayAg')"
   ]
  },
  {
   "cell_type": "markdown",
   "metadata": {},
   "source": [
    "Let's play a bit more with this scale. We will first use a \"dummy\" data set with 10 data points, then we will look at a full dataset containing the number of reported COVID-19 cases in several countries. Run the cell below to import the necessary Python functions we will need."
   ]
  },
  {
   "cell_type": "code",
   "execution_count": null,
   "metadata": {},
   "outputs": [],
   "source": [
    "import plotly.express as px\n",
    "import plotly.offline as offline \n",
    "import plotly.graph_objs as go\n",
    "import numpy as np\n",
    "print(\"Success! Imported libraries successfully\")"
   ]
  },
  {
   "cell_type": "markdown",
   "metadata": {},
   "source": [
    "Run the cell below to generate the dummy dataset. "
   ]
  },
  {
   "cell_type": "code",
   "execution_count": null,
   "metadata": {},
   "outputs": [],
   "source": [
    "# Define x and y values \n",
    "y = 1\n",
    "y_vals = []\n",
    "for i in range(4):\n",
    "    y = y*10\n",
    "    y_vals.append(y)\n",
    "x = np.array([i for i in range(1,5)])\n",
    "y_vals = np.array(y_vals)\n",
    "print(\"Values for x\",x,\"Values for y\",y_vals)"
   ]
  },
  {
   "cell_type": "markdown",
   "metadata": {},
   "source": [
    "Let's plot. Run the cell below. "
   ]
  },
  {
   "cell_type": "code",
   "execution_count": null,
   "metadata": {},
   "outputs": [],
   "source": [
    "# Plot\n",
    "px.line(x=x,y=y_vals, title='Example of exponential growth')"
   ]
  },
  {
   "cell_type": "markdown",
   "metadata": {},
   "source": [
    "The plot above shows exponential growth. \n",
    "\n",
    "Namely, each time the value of x increases by 1, the value y(x) changes by a factor of 10. \n",
    "\n",
    "Let's modify our y values to compute the log scale of y. "
   ]
  },
  {
   "cell_type": "code",
   "execution_count": null,
   "metadata": {},
   "outputs": [],
   "source": [
    "# Take log base 10 of y \n",
    "npy =  np.array(y_vals, dtype=int)\n",
    "l_y = np.log10(npy, where=0<npy, out=np.nan*npy)\n",
    "\n",
    "print(\"X values\",x,\"Log of y values\",l_y)"
   ]
  },
  {
   "cell_type": "markdown",
   "metadata": {},
   "source": [
    "Let's plot."
   ]
  },
  {
   "cell_type": "code",
   "execution_count": null,
   "metadata": {},
   "outputs": [],
   "source": [
    "# Plot\n",
    "def plot_function_and_log(x,y,l_y):\n",
    "    \"\"\"This function creates a plot of an expontential function and its logarithmic scale\"\"\"\n",
    "    trace1 = go.Bar(x=x,y=y_vals,name=\"Function\")\n",
    "    trace2 = go.Scatter(x=x,y=l_y,name='Log of function',yaxis='y2')\n",
    "    layout = go.Layout(\n",
    "        title= ('Exponential function and logarithmic scale'),\n",
    "        yaxis=dict(title='Original function',\\\n",
    "                   titlefont=dict(color='blue'), tickfont=dict(color='blue')),\n",
    "        yaxis2=dict(title=' logarithmic scale', titlefont=dict(color='red'), \\\n",
    "                    tickfont=dict(color='red'), overlaying='y', side='right'),\n",
    "        showlegend=False)\n",
    "    fig = go.Figure(data=[trace1,trace2],layout=layout)\n",
    "    fig.update_yaxes(showgrid=True)\n",
    "    fig.show()   \n",
    "# Use function\n",
    "plot_function_and_log(x,y_vals,l_y)"
   ]
  },
  {
   "cell_type": "markdown",
   "metadata": {},
   "source": [
    "In the plot above the red line denotes the logarithmic scale. We are using log base 10. We see that when $x=1$, $y$ grows by a factor of 10, when $x=2$, $y$ increases by 2 factors of 10, etc. \n",
    "\n",
    "\n",
    "Let's add a few more values to the function y(x), so that\n",
    "\n",
    "| x | y |\n",
    "| - | - |\n",
    "|1 | 10|\n",
    "|2 | 100|\n",
    "|3| 1000|\n",
    "|4| 10000|\n",
    "|5| 10000|\n",
    "|6| 10000|\n",
    "|7| 1000|\n",
    "|8| 100|\n",
    "|9| 10|\n",
    "|10| 1|\n"
   ]
  },
  {
   "cell_type": "code",
   "execution_count": null,
   "metadata": {},
   "outputs": [],
   "source": [
    "# Add values to x and y arrays\n",
    "x = np.concatenate((x,np.array([5,6,7,8,9,10])), axis=0)\n",
    "y_vals = np.concatenate((y_vals,np.array([10000,10000,1000,100,10,1])),axis=0)\n",
    "npy =  np.array(y_vals, dtype=int)\n",
    "l_y = np.log10(npy, where=0<npy, out=np.nan*npy)\n",
    "# Use plot function to display function, along with log scale\n",
    "plot_function_and_log(x,y_vals,l_y)"
   ]
  },
  {
   "cell_type": "markdown",
   "metadata": {},
   "source": [
    "In the plot above we see that the function reaches a peak and stabilizes when x=4, and afterwards the values decrease. \n"
   ]
  },
  {
   "cell_type": "markdown",
   "metadata": {},
   "source": [
    "### COVID-19 number of confirmed cases grow exponentially\n",
    "\n",
    "Since the beginning of the COVID-19 outbreak, health authorities have been tracking the total number of confirmed cases on a daily basis. During the first few months, we can see exponential growth, followed by a decrease in the number of cases. \n",
    "\n",
    "Logarithmic scale charts can help show how fast the number of cases is increasing. \n",
    "\n",
    "Let's take a look at some data[1].\n",
    "\n",
    "[1] COVID-19 Data Repository by the Center for Systems Science and Engineering (CSSE) at Johns Hopkins University https://github.com/CSSEGISandData/COVID-19"
   ]
  },
  {
   "cell_type": "code",
   "execution_count": null,
   "metadata": {},
   "outputs": [],
   "source": [
    "%run -i ./scripts/download_and_parse_data.py\n",
    "print(\"Success!\")"
   ]
  },
  {
   "cell_type": "code",
   "execution_count": null,
   "metadata": {},
   "outputs": [],
   "source": [
    "country = \"Canada\"\n",
    "\n",
    "by_prov = final_confirmed[final_confirmed.index==country].set_index(\"province\").T.iloc[:-4,]\n",
    "by_prov[\"TotalDailyCase\"] = by_prov.sum(axis=1)\n",
    "\n",
    "# This variable contains data on COVID 19 daily cases\n",
    "non_cumulative_cases = by_prov.diff(axis=0)\n",
    "t = np.linspace(0, len(non_cumulative_cases[\"TotalDailyCase\"]), len(non_cumulative_cases[\"TotalDailyCase\"]))\n",
    "\n",
    "trace3 = go.Scatter(x = non_cumulative_cases.index,y=non_cumulative_cases[\"TotalDailyCase\"])\n",
    "layout = go.Layout(\n",
    "        title= ('Daily number of COVID-19 confirmed cases in' + str(country)),\n",
    "        yaxis=dict(title='Daily Number of  Reported Infections',\\\n",
    "                   titlefont=dict(color='blue'), tickfont=dict(color='blue')),\n",
    "            yaxis2=dict(title='Number of infectious members (our model)', titlefont=dict(color='red'), \\\n",
    "                        tickfont=dict(color='red'), overlaying='y', side='right'),\n",
    "            showlegend=False)\n",
    "fig = go.Figure(data=[trace3],layout=layout)\n",
    "    \n",
    "fig.show()"
   ]
  },
  {
   "cell_type": "markdown",
   "metadata": {},
   "source": [
    "We can see that in Canada between the months March through May, COVID-19 spread expoentially. Between May and July, the number of cases decreased. Between August and October 2020, the number of infections is increasing exponentially once more. \n",
    "\n",
    "\n",
    "Recall that on a logarithmic scale, numbers on the dependent variable y increases by a set factor – (though not always, this factor is usually 10). Estimating a factor (the average number of new infections deriving from an existing infection) in this scenario is challenging for a number of reasons. \n",
    "\n",
    "The article \"Why R0 Is Problematic for Predicting COVID-19 Spread\" Katarina Zimmer, Jul 13, 2020\n",
    " [link here](https://www.the-scientist.com/features/why-r0-is-problematic-for-predicting-covid-19-spread-67690) outlines some of those reasons.\n",
    "\n",
    "Even if we don't have the factor at which the function increases, the logarithmic scale is a great way to measure the rates of change of new confirmed infections. \n",
    "\n",
    "When we use the logarithmic scale of COVID-19 confirmed cases, we can see when the rate of infection starts to level off. This leveling off signals that exponential growth has stopped. We'll use a factor of 10 to identify when rate of infection is increasing exponentially. \n",
    "\n",
    "Let's take a look at this using a graph.\n"
   ]
  },
  {
   "cell_type": "markdown",
   "metadata": {},
   "source": [
    "Run the cell below to display the log curve of covid cases. \n",
    "\n",
    "<b>Notes: </b>\n",
    "\n",
    "a) Enter the name of a country using the text box. This will display the log curve for raw or cumulative number of cases per country. \n",
    "\n",
    "b) Toggle the \"Get cumulative results\" checkbox to see how the log scale changes when we compute the daily number of cases, vs the cumulative number of cases. \n",
    "\n",
    "c) To see results for a different country, use the backspace or delete key to remove the country selected at first, and type the name of a new country (use the drop down menu to help you find as well). \n"
   ]
  },
  {
   "cell_type": "code",
   "execution_count": null,
   "metadata": {},
   "outputs": [],
   "source": [
    "display(tab)"
   ]
  },
  {
   "cell_type": "markdown",
   "metadata": {},
   "source": [
    "The plots above contain the daily total number of confirmed cases and deaths (marked in blue), along with the logarithmic scale associated with those cases (marked in red). \n",
    "\n",
    "As an example, if in the box we select \"Canada\" and leave the box unchecked, we see that during the first few months since cases started being reported, the number of confirmed infections grew exponentially. \n",
    "\n",
    "Using a factor of 10 (similar to Richter scale), we see that during the 2020 Summer months we see that the growth reached a minimum level 2 and a maximum level 3 in logarithmic scale. This means that every day during the Summer months between 100 and 1000 cases were reported each day. On the other hand during the 2020 Fall months we see that the growth reached a minimum level 3 and maximum level 4 in logarithmic scale. This means that every day during the Fall months between 1000 and 10,00 cases were reported each day. \n",
    "\n",
    "This indicates that the number of cases increased by a factor of 10 from Summer to Fall, and thus, the number of confimed COVID-19 cases in Canada re-entered exponential growth. \n",
    "\n",
    "\n",
    "___\n",
    "\n",
    "### Further questions\n",
    "\n",
    "Use the widget above to explore how the number of COVID-19 cases in countries in different parts of the world does with respect to the log scale. Can you identify countries whose growth is exponential? \n",
    "\n",
    "Explore the cumulative number of cases for different countries. These plots can also indicate when the number of infections is growing exponentially. Identify countries whose log scale indicates exponential growth. \n",
    "\n",
    "<b>Notes: </b>\n",
    "\n",
    "a) Enter the name of a country using the text box. This will display the log curve for raw or cumulative number of cases per country. \n",
    "\n",
    "b) Toggle the \"Get cumulative results\" checkbox to see how the log scale changes when we compute the daily number of cases, vs the cumulative number of cases. \n",
    "\n",
    "c) To see results for a different country, use the backspace or delete key to remove the country selected at first, and type the name of a new country (use the drop down menu to help you find as well). \n"
   ]
  },
  {
   "cell_type": "markdown",
   "metadata": {},
   "source": [
    "[![Callysto.ca License](https://github.com/callysto/curriculum-notebooks/blob/master/callysto-notebook-banner-bottom.jpg?raw=true)](https://github.com/callysto/curriculum-notebooks/blob/master/LICENSE.md)"
   ]
  }
 ],
 "metadata": {
  "kernelspec": {
   "display_name": "Python 3",
   "language": "python",
   "name": "python3"
  },
  "language_info": {
   "codemirror_mode": {
    "name": "ipython",
    "version": 3
   },
   "file_extension": ".py",
   "mimetype": "text/x-python",
   "name": "python",
   "nbconvert_exporter": "python",
   "pygments_lexer": "ipython3",
   "version": "3.8.6"
  }
 },
 "nbformat": 4,
 "nbformat_minor": 4
}
