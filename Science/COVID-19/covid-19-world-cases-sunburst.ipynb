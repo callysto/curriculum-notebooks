{
 "cells": [
  {
   "cell_type": "markdown",
   "metadata": {},
   "source": [
    "![Callysto.ca Banner](https://github.com/callysto/curriculum-notebooks/blob/master/callysto-notebook-banner-top.jpg?raw=true)\n",
    "\n",
    "<a href=\"https://hub.callysto.ca/jupyter/hub/user-redirect/git-pull?repo=https%3A%2F%2Fgithub.com%2Fcallysto%2Fcurriculum-notebooks&branch=master&subPath=Science/COVID-19/world-cases/COVID-19-world-cases-sunburst.ipynb&depth=1\" target=\"_parent\"><img src=\"https://raw.githubusercontent.com/callysto/curriculum-notebooks/master/open-in-callysto-button.svg?sanitize=true\" width=\"123\" height=\"24\" alt=\"Open in Callysto\"/></a>"
   ]
  },
  {
   "cell_type": "markdown",
   "metadata": {},
   "source": [
    "## Visualizing live data for COVID-19 cases around the world\n",
    "\n",
    "In this notebook we will have an opportunity to visualize the latest number of confirmed cases of COVID-19 around the world. \n",
    "\n",
    "Use this notebook to explore each affected country and continent. \n",
    "\n",
    "Press the Run button to execute the next cell. This Python script contains code that downloads COVID-19 data[1].\n",
    "\n",
    "Let's take a look at some data[1].\n",
    "\n",
    "[1] COVID-19 Data Repository by the Center for Systems Science and Engineering (CSSE) at Johns Hopkins University https://github.com/CSSEGISandData/COVID-19"
   ]
  },
  {
   "cell_type": "code",
   "execution_count": null,
   "metadata": {
    "scrolled": true
   },
   "outputs": [],
   "source": [
    "%run -i ./scripts/download_and_parse_data.py\n",
    "print(\"Success!\")"
   ]
  },
  {
   "cell_type": "markdown",
   "metadata": {},
   "source": [
    "Once we have downloaded the data - we can take a look at it in DataFrame format. Press the run button to execute the code below. "
   ]
  },
  {
   "cell_type": "code",
   "execution_count": null,
   "metadata": {},
   "outputs": [],
   "source": [
    "print(\"Confirmed cases, first 5 entries\")\n",
    "confirmed_df.head(5)"
   ]
  },
  {
   "cell_type": "markdown",
   "metadata": {},
   "source": [
    "Confirmed deaths as a result of COVID-19 (first five entries). Press the run button to execute the code below. "
   ]
  },
  {
   "cell_type": "code",
   "execution_count": null,
   "metadata": {},
   "outputs": [],
   "source": [
    "print(\"Fatal cases, first 5 entries\")\n",
    "death_df.head(5)"
   ]
  },
  {
   "cell_type": "markdown",
   "metadata": {},
   "source": [
    "Time to visualize! \n",
    "\n",
    "We will build a [sunburst chart](https://plotly.com/python/sunburst-charts/), where we display the latest number of confirmed cases in each country, as well as the latest number of deaths in each continent. \n",
    "\n",
    "We will need to manipulate our data a bit to create a plot. It may look like overwhemlming at first, but don't worry - we separated each step. "
   ]
  },
  {
   "cell_type": "markdown",
   "metadata": {},
   "source": [
    "Run the cell below to display the sunburst plot. \n",
    "\n",
    "Click on each continent to look at each country's COVID-19 confirmed cases. To go back, click on the continent code. \n",
    "\n",
    "The codes are as follows:\n",
    "\n",
    "    EU: Europe\n",
    "    AS: Asia\n",
    "    NA: North America\n",
    "    SA: South America\n",
    "    AF: Africa\n",
    "    OC: Oceania\n",
    "    TL and XX contain various items not recognized by Python - the Diamond Princess Cruise ship can be found there. "
   ]
  },
  {
   "cell_type": "code",
   "execution_count": null,
   "metadata": {},
   "outputs": [],
   "source": [
    "#Sunburst plot\n",
    "all_levels = generate_levels(conf_df,\"Confirmed\")\n",
    "plot_sunburst(all_levels,'Confirmed')\n",
    "all_levels = generate_levels(deat_df,\"Death\")\n",
    "plot_sunburst(all_levels,'Death')"
   ]
  },
  {
   "cell_type": "markdown",
   "metadata": {},
   "source": [
    "Interact with the plots above (click on one of the continents, and hover over each country). \n",
    "\n",
    "Remember, the continents are encoded as follows.\n",
    "\n",
    "    EU: Europe\n",
    "    AS: Asia\n",
    "    NA: North America\n",
    "    SA: South America\n",
    "    AF: Africa\n",
    "    OC: Oceania\n",
    "    TL and XX contain various items not recognized by Python - the Diamond Princess Cruise ship can be found there.\n",
    "    \n",
    "Keep the following questions in mind:\n",
    "\n",
    "1. What continent has the highest and lowest number of confirmed cases? \n",
    "\n",
    "2. What country within that continent has the highest and lowest number of cases? \n",
    "\n",
    "3. What continent has the highest and lowest number of deaths? \n",
    "\n",
    "3. What country within that continent has the highest and lowest number of deaths?"
   ]
  },
  {
   "cell_type": "markdown",
   "metadata": {},
   "source": [
    "[![Callysto.ca License](https://github.com/callysto/curriculum-notebooks/blob/master/callysto-notebook-banner-bottom.jpg?raw=true)](https://github.com/callysto/curriculum-notebooks/blob/master/LICENSE.md)"
   ]
  }
 ],
 "metadata": {
  "kernelspec": {
   "display_name": "Python 3",
   "language": "python",
   "name": "python3"
  },
  "language_info": {
   "codemirror_mode": {
    "name": "ipython",
    "version": 3
   },
   "file_extension": ".py",
   "mimetype": "text/x-python",
   "name": "python",
   "nbconvert_exporter": "python",
   "pygments_lexer": "ipython3",
   "version": "3.8.6"
  }
 },
 "nbformat": 4,
 "nbformat_minor": 2
}
