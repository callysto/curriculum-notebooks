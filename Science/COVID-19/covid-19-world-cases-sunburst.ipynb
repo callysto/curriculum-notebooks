{
 "cells": [
  {
   "cell_type": "markdown",
   "metadata": {},
   "source": [
    "![Callysto.ca Banner](https://github.com/callysto/curriculum-notebooks/blob/master/callysto-notebook-banner-top.jpg?raw=true)\n",
    "\n",
    "<a href=\"https://hub.callysto.ca/jupyter/hub/user-redirect/git-pull?repo=https%3A%2F%2Fgithub.com%2Fcallysto%2Fcurriculum-notebooks&branch=master&subPath=Science/COVID-19/world-cases/COVID-19-world-cases-sunburst.ipynb&depth=1\" target=\"_parent\"><img src=\"https://raw.githubusercontent.com/callysto/curriculum-notebooks/master/open-in-callysto-button.svg?sanitize=true\" width=\"123\" height=\"24\" alt=\"Open in Callysto\"/></a>"
   ]
  },
  {
   "cell_type": "markdown",
   "metadata": {},
   "source": [
    "## Sunburst Visualization of COVID-19 Cases Data\n",
    "\n",
    "In this notebook we will visualize the number of COVID-19 cases around the world using a [sunburst chart](https://plotly.com/python/sunburst-charts/), and also talk about [data cleaning](https://en.wikipedia.org/wiki/Data_cleansing).\n",
    "\n",
    "Let's get [data](https://github.com/CSSEGISandData/COVID-19) provided by [Johns Hopkins University Center for Systems Science and Engineering (JHU CSSE)](https://systems.jhu.edu/).\n",
    "\n",
    "Click on the code cell below, then click the `▶Run` button to download and preview the data. You can also change the date, in `mm-dd-yyyy` format, to another date that has data [available](https://raw.githubusercontent.com/CSSEGISandData/COVID-19/master/csse_covid_19_data/csse_covid_19_daily_reports/)."
   ]
  },
  {
   "cell_type": "code",
   "execution_count": null,
   "metadata": {},
   "outputs": [],
   "source": [
    "date = '08-01-2022'\n",
    "\n",
    "import pandas as pd\n",
    "url = 'https://raw.githubusercontent.com/CSSEGISandData/COVID-19/master/csse_covid_19_data/csse_covid_19_daily_reports/'+date+'.csv'\n",
    "df = pd.read_csv(url)\n",
    "df"
   ]
  },
  {
   "cell_type": "markdown",
   "metadata": {},
   "source": [
    "## Data Cleaning\n",
    "\n",
    "Drop rows where `Country_Region == US` and there is a value in `Admin2` (data by county).\n",
    "\n",
    "Drop rows without a `Lat` value\n",
    "\n",
    "If there is no `Province_State` then copy value from `Country_Region`\n",
    "\n",
    "Get continent using `import pycountry_convert as pc` and `pc.country_alpha2_to_continent_code()`"
   ]
  },
  {
   "cell_type": "code",
   "execution_count": null,
   "metadata": {},
   "outputs": [],
   "source": [
    "county_data = df[(df['Country_Region']=='US') & (df['Admin2'].isna()!=True)]\n",
    "df = df.drop(county_data.index)\n",
    "df"
   ]
  },
  {
   "cell_type": "code",
   "execution_count": null,
   "metadata": {},
   "outputs": [],
   "source": []
  },
  {
   "cell_type": "code",
   "execution_count": null,
   "metadata": {},
   "outputs": [],
   "source": [
    "import pycountry_convert as pc\n",
    "def country_to_continent(country):\n",
    "    try:\n",
    "        country_code = pc.country_name_to_country_alpha2(country, cn_name_format='default')\n",
    "        continent_code = pc.country_alpha2_to_continent_code(country_code)\n",
    "        continent_name = pc.convert_continent_code_to_continent_name(continent_code)\n",
    "    except:\n",
    "        continent_name = 'Error'\n",
    "    return(continent_name)\n",
    "\n",
    "#df['Continent'] = df['Country_Region'].apply(lambda x: x.split(',')[-1])\n",
    "#print(country_to_continent('Bolivia'))\n",
    "df['Continent'] = [country_to_continent(country) for country in df['Country_Region']]\n",
    "df"
   ]
  },
  {
   "cell_type": "code",
   "execution_count": null,
   "metadata": {},
   "outputs": [],
   "source": [
    "df[df['Continent']=='Error']['Country_Region']"
   ]
  },
  {
   "cell_type": "markdown",
   "metadata": {},
   "source": [
    "## Sunburst Visualization\n",
    "\n",
    "\n",
    "\n",
    "We will need to manipulate our data a bit to create a plot. It may look like overwhemlming at first, but we'll take it step by step."
   ]
  },
  {
   "cell_type": "code",
   "execution_count": null,
   "metadata": {},
   "outputs": [],
   "source": [
    "df.columns"
   ]
  },
  {
   "cell_type": "code",
   "execution_count": null,
   "metadata": {},
   "outputs": [],
   "source": [
    "import plotly.express as px\n",
    "px.sunburst(df, path=['Continent', 'Country_Region', 'Province_State', 'Confirmed'])"
   ]
  },
  {
   "cell_type": "markdown",
   "metadata": {},
   "source": [
    "Run the cell below to display the sunburst plot. \n",
    "\n",
    "Click on each continent to look at each country's COVID-19 confirmed cases. To go back, click on the continent code. \n",
    "\n",
    "The codes are as follows:\n",
    "\n",
    "    EU: Europe\n",
    "    AS: Asia\n",
    "    NA: North America\n",
    "    SA: South America\n",
    "    AF: Africa\n",
    "    OC: Oceania\n",
    "    TL and XX contain various items not recognized by Python - the Diamond Princess Cruise ship can be found there. "
   ]
  },
  {
   "cell_type": "code",
   "execution_count": null,
   "metadata": {},
   "outputs": [],
   "source": [
    "#Sunburst plot\n",
    "all_levels = generate_levels(conf_df,\"Confirmed\")\n",
    "plot_sunburst(all_levels,'Confirmed')\n",
    "all_levels = generate_levels(deat_df,\"Death\")\n",
    "plot_sunburst(all_levels,'Death')"
   ]
  },
  {
   "cell_type": "markdown",
   "metadata": {},
   "source": [
    "Interact with the plots above (click on one of the continents, and hover over each country). \n",
    "\n",
    "Remember, the continents are encoded as follows.\n",
    "\n",
    "    EU: Europe\n",
    "    AS: Asia\n",
    "    NA: North America\n",
    "    SA: South America\n",
    "    AF: Africa\n",
    "    OC: Oceania\n",
    "    TL and XX contain various items not recognized by Python - the Diamond Princess Cruise ship can be found there.\n",
    "    \n",
    "Keep the following questions in mind:\n",
    "\n",
    "1. What continent has the highest and lowest number of confirmed cases? \n",
    "\n",
    "2. What country within that continent has the highest and lowest number of cases? \n",
    "\n",
    "3. What continent has the highest and lowest number of deaths? \n",
    "\n",
    "3. What country within that continent has the highest and lowest number of deaths?"
   ]
  },
  {
   "cell_type": "markdown",
   "metadata": {},
   "source": [
    "[![Callysto.ca License](https://github.com/callysto/curriculum-notebooks/blob/master/callysto-notebook-banner-bottom.jpg?raw=true)](https://github.com/callysto/curriculum-notebooks/blob/master/LICENSE.md)"
   ]
  }
 ],
 "metadata": {
  "kernelspec": {
   "display_name": "Python 3.10.4 64-bit",
   "language": "python",
   "name": "python3"
  },
  "language_info": {
   "codemirror_mode": {
    "name": "ipython",
    "version": 3
   },
   "file_extension": ".py",
   "mimetype": "text/x-python",
   "name": "python",
   "nbconvert_exporter": "python",
   "pygments_lexer": "ipython3",
   "version": "3.10.4"
  },
  "vscode": {
   "interpreter": {
    "hash": "aee8b7b246df8f9039afb4144a1f6fd8d2ca17a180786b69acc140d282b71a49"
   }
  }
 },
 "nbformat": 4,
 "nbformat_minor": 2
}
