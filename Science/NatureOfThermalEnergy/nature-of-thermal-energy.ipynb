{
 "cells": [
  {
   "cell_type": "markdown",
   "metadata": {},
   "source": [
    "![Callysto.ca Banner](https://github.com/callysto/curriculum-notebooks/blob/master/callysto-notebook-banner-top.jpg?raw=true)\n",
    "\n",
    "<a href=\"https://hub.callysto.ca/jupyter/hub/user-redirect/git-pull?repo=https%3A%2F%2Fgithub.com%2Fcallysto%2Fcurriculum-notebooks&branch=master&subPath=Science/NatureOfThermalEnergy/nature-of-thermal-energy.ipynb&depth=1\" target=\"_parent\"><img src=\"https://raw.githubusercontent.com/callysto/curriculum-notebooks/master/open-in-callysto-button.svg?sanitize=true\" width=\"123\" height=\"24\" alt=\"Open in Callysto\"/></a>"
   ]
  },
  {
   "cell_type": "markdown",
   "metadata": {
    "hidden": false
   },
   "source": [
    "# The Nature of Thermal Energy: Heat and Temperature\n",
    "\n",
    "In this Jupyter notebook we will explore the nature of thermal energy and how it affects particles in matter.\n",
    "\n",
    "## Heat and Temperature\n",
    "\n",
    "We often think of heat and temperature interchangeably but they have fundamentally different meanings.\n",
    "\n",
    "- **Temperature** is a measure of the average thermal energy of the particles in a substance.\n",
    "- **Heat** is a type of energy transfer, caused by a difference in temperature.\n",
    "\n",
    "## Particle Model of Matter\n",
    "\n",
    "The **particle model of matter** was first proposed by the Greek philosopher [Democritus](https://en.wikipedia.org/wiki/Democritus) over 2000 years ago. He thought of being able to cut up matter into smaller and smaller parts. Eventually you would reach the basic components, the particles that make up everything.\n",
    "\n",
    "As long as the temperature is above [absolute zero](https://en.wikipedia.org/wiki/Absolute_zero), those particles are always in motion.\n",
    "\n",
    "Click on the following code cell, then click the `⏵Run` button to show a 3D visualization of particles in a solid."
   ]
  },
  {
   "cell_type": "code",
   "execution_count": null,
   "metadata": {
    "hidden": false
   },
   "outputs": [],
   "source": [
    "from IPython.display import IFrame\n",
    "IFrame(\"animations/vibrating_cube.html\", width=450, height=420)"
   ]
  },
  {
   "cell_type": "markdown",
   "metadata": {
    "hidden": false
   },
   "source": [
    "#### The particles move faster as you heat them up\n",
    "\n",
    "As the temperature of a material increases, the particles move faster. This is because the particles have more heat energy, though what we measure is temperature. At certain points the material will undergo changes in the [state of matter](https://en.wikipedia.org/wiki/State_of_matter), or [phase](https://en.wikipedia.org/wiki/Phase_transition), such as from solid to liquid.\n",
    "\n",
    "`⏵Run` the following code cell to see an interactive visualization of heating and phase changes. Move the slider to change the temperature of the particles in the box, and observe how the particles gain more kinetic energy as the temperature increases, and where the changes of state occur."
   ]
  },
  {
   "cell_type": "code",
   "execution_count": null,
   "metadata": {
    "hidden": false
   },
   "outputs": [],
   "source": [
    "from IPython.display import IFrame\n",
    "IFrame(\"animations/changes_of_state.html\", width=500, height=420)\n",
    "         "
   ]
  },
  {
   "cell_type": "markdown",
   "metadata": {},
   "source": [
    "For more information about heat and temperature, `⏵Run` the following code cell and watch the embedded video."
   ]
  },
  {
   "cell_type": "code",
   "execution_count": null,
   "metadata": {
    "hidden": false,
    "scrolled": true,
    "slideshow": {
     "slide_type": "fragment"
    }
   },
   "outputs": [],
   "source": [
    "from IPython.display import YouTubeVideo\n",
    "YouTubeVideo('vqDbMEdLiCs')"
   ]
  },
  {
   "cell_type": "markdown",
   "metadata": {
    "hidden": false
   },
   "source": [
    "# Conclusion\n",
    "\n",
    "In this notebook we looked at animations that demonstrated heat and temperature and the paricle theory of matter. We also visualized how the particles within a material behave differently as they enter different phases."
   ]
  },
  {
   "cell_type": "markdown",
   "metadata": {},
   "source": [
    "[![Callysto.ca License](https://github.com/callysto/curriculum-notebooks/blob/master/callysto-notebook-banner-bottom.jpg?raw=true)](https://github.com/callysto/curriculum-notebooks/blob/master/LICENSE.md)"
   ]
  }
 ],
 "metadata": {
  "kernelspec": {
   "display_name": "Python 3 (ipykernel)",
   "language": "python",
   "name": "python3"
  },
  "language_info": {
   "codemirror_mode": {
    "name": "ipython",
    "version": 3
   },
   "file_extension": ".py",
   "mimetype": "text/x-python",
   "name": "python",
   "nbconvert_exporter": "python",
   "pygments_lexer": "ipython3",
   "version": "3.9.12"
  },
  "nbTranslate": {
   "displayLangs": [
    "*"
   ],
   "hotkey": "alt-t",
   "langInMainMenu": true,
   "sourceLang": "en",
   "targetLang": "fr",
   "useGoogleTranslate": true
  },
  "vscode": {
   "interpreter": {
    "hash": "d1ca6d17674200220921376aaeb3d36cffe15ecab2470a9a5e7a456cdbf61425"
   }
  }
 },
 "nbformat": 4,
 "nbformat_minor": 4
}
