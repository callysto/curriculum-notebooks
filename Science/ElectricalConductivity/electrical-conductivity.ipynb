{
 "cells": [
  {
   "cell_type": "markdown",
   "metadata": {},
   "source": [
    "![Callysto.ca Banner](https://github.com/callysto/curriculum-notebooks/blob/master/callysto-notebook-banner-top.jpg?raw=true)\n",
    "\n",
    "<a href=\"https://hub.callysto.ca/jupyter/hub/user-redirect/git-pull?repo=https%3A%2F%2Fgithub.com%2Fcallysto%2Fcurriculum-notebooks&branch=master&subPath=Science/ElectricalConductivity/electrical-conductivity.ipynb&depth=1\" target=\"_parent\"><img src=\"https://raw.githubusercontent.com/callysto/curriculum-notebooks/master/open-in-callysto-button.svg?sanitize=true\" width=\"123\" height=\"24\" alt=\"Open in Callysto\"/></a>"
   ]
  },
  {
   "cell_type": "markdown",
   "metadata": {
    "hide_input": true
   },
   "source": [
    "<img src=\"images/iStock-conductivity.jpg\" width=\"500px\" />\n",
    "\n",
    "# Electrical Conductivity\n",
    "\n",
    "Based on LibreTexts library experiment titled \"[Electical Conductivity of Aqueous Solutions](https://chem.libretexts.org/Bookshelves/Ancillary_Materials/Laboratory_Experiments/Wet_Lab_Experiments/General_Chemistry_Labs/Online_Chemistry_Lab_Manual/Chem_9_Experiments/07%3A_Electrical_Conductivity_of_Aqueous_Solutions_(Experiment))\" published under a [Creative Commons Attribution-NonCommercial-ShareAlike license](https://creativecommons.org/licenses/by-nc-sa/3.0/us/)."
   ]
  },
  {
   "cell_type": "markdown",
   "metadata": {},
   "source": [
    "## Background \n",
    "\n",
    "Electrical conductivity is based on the flow of electrons. Metals are good conductors of electricity because they allow electrons to flow through the entire piece of material. In comparison, distilled water is a very poor conductor of electricity since very little electricity flows through it. Dissolving ions in water changes this and allows electrons to travel through the solution. If the solution is able to conduct electricity, the current can be measured with a conductivity meter."
   ]
  },
  {
   "cell_type": "markdown",
   "metadata": {},
   "source": [
    "## The Question  \n",
    "How does the conductivity of different solutions compare?"
   ]
  },
  {
   "cell_type": "markdown",
   "metadata": {},
   "source": [
    "## The Hypothesis"
   ]
  },
  {
   "cell_type": "markdown",
   "metadata": {},
   "source": [
    "Enter your hypothesis by double clicking this text."
   ]
  },
  {
   "cell_type": "markdown",
   "metadata": {},
   "source": [
    "## Materials & Equipment\n",
    "\n",
    "* conductivity meter\n",
    "* wash bottle with distilled water\n",
    "* large beaker for rinsing/waste\n",
    "* sodium chloride\n",
    "* sugar\n",
    "* tissues \n",
    "\n",
    "Solutions: \n",
    "* acetic acid (vinegar) \n",
    "* tap water \n"
   ]
  },
  {
   "cell_type": "markdown",
   "metadata": {},
   "source": [
    "## Procedure\n",
    "1. Use a wash bottle with distilled water and a large beaker labeled “waste” to rinse the electrodes. Dry using a  tissue. When switched on, the meter should report 0 (or very close to it).\n",
    "2. Put 50 mL of distilled water into a beaker.  \n",
    "3. Place the metal tips of your conductivity tester in the solution.\n",
    "4. Record the conductivity reading of the distilled water in the table below.  \n",
    "5. Repeat steps 1-4 with samples of the other solutions. For example, take a spoonful of salt and dissolve it in water. After each conductivity measurement, empty the beaker and rinse it with distilled water. \n",
    "6. Clean up when done.\n",
    "\n",
    "Select the following code cell, then click the `▶Run` button to display a data table for recording your observations. Double-click on the `nan` values to put in your own observations."
   ]
  },
  {
   "cell_type": "code",
   "execution_count": null,
   "metadata": {
    "hide_input": true,
    "scrolled": false
   },
   "outputs": [],
   "source": [
    "import pandas as pd\n",
    "import numpy as np\n",
    "import ipydatagrid\n",
    "rows = ['Distilled Water', 'Tap Water', 'Salt Water', 'Vinegar']\n",
    "columns = ['Reading 1', 'Reading 2']\n",
    "df = pd.DataFrame(index=rows, columns=columns)\n",
    "data_entry_table = ipydatagrid.DataGrid(dataframe=df, show_toolbar=True, editable=True, auto_fit_columns=True, layout={'height': '150px'})\n",
    "data_entry_table"
   ]
  },
  {
   "cell_type": "markdown",
   "metadata": {},
   "source": [
    "After you have recorded your observations in the table above, `▶Run` the next cell to save and display your data."
   ]
  },
  {
   "cell_type": "code",
   "execution_count": null,
   "metadata": {},
   "outputs": [],
   "source": [
    "data = df\n",
    "data_entry_table.select(row1=0,column1=0,row2=3,column2=0,clear_mode='all')\n",
    "data['Reading 1'] = data_entry_table.selected_cell_values\n",
    "data_entry_table.select(row1=0,column1=1,row2=3,column2=1,clear_mode='all')\n",
    "data['Reading 2'] = data_entry_table.selected_cell_values\n",
    "data = data.replace('',np.nan)\n",
    "\n",
    "if not data.isnull().values.any():\n",
    "    data['Average'] = (data['Reading 1'].astype(int) + data['Reading 2'].astype(int))/ 2\n",
    "    display(data)\n",
    "else:\n",
    "    data['Average'] = 0\n",
    "    print('Remember to input data in the table above before running this cell.')"
   ]
  },
  {
   "cell_type": "markdown",
   "metadata": {},
   "source": [
    "## Questions\n",
    "\n",
    "1. Why must the conductivity electrodes and all the beakers be rinsed with distilled water after each conductivity test?\n",
    "2. Which solution conducted electricity the best? How can you tell? \n",
    "3. Why do you think different solutions conduct electricity differently?"
   ]
  },
  {
   "cell_type": "markdown",
   "metadata": {},
   "source": [
    "### Answers\n",
    "\n",
    "*Double-click this cell to edit it and add your answers.*\n",
    "\n",
    "1.  \n",
    "2.  \n",
    "3.  "
   ]
  },
  {
   "cell_type": "markdown",
   "metadata": {},
   "source": [
    "## Comparing to Water Treatment Plants\n",
    "\n",
    "`▶Run` the next cell to download data from two water treatment plants, Rossdale and E.L. Smith, for the last week and graph the water conductivity as it compares to your data."
   ]
  },
  {
   "cell_type": "code",
   "execution_count": null,
   "metadata": {},
   "outputs": [],
   "source": [
    "import plotly.express as px\n",
    "rossdale = pd.read_html('http://apps.epcor.ca/DailyWaterQuality/Default.aspx?zone=Rossdale', header=0)[0]\n",
    "els = pd.read_html('http://apps.epcor.ca/DailyWaterQuality/Default.aspx?zone=ELS', header=0)[0]\n",
    "combined_data = pd.DataFrame()\n",
    "combined_data['Rossdale'] = rossdale.iloc[2][1:]\n",
    "combined_data['ELS'] = els.iloc[2][1:]\n",
    "for i, row in data.iterrows():\n",
    "    combined_data[row.name] = row['Average']\n",
    "fig = px.line(combined_data.astype(float), x=combined_data.index, y=combined_data.columns, title='pH over Time')\n",
    "fig.update_layout(xaxis_title='Date', yaxis_title='pH').show()"
   ]
  },
  {
   "cell_type": "markdown",
   "metadata": {},
   "source": [
    "## Questions\n",
    "\n",
    "4. How do your observations compare to the water treatment plant values?\n",
    "5. What does this say about the water leaving the these water treatment plants?"
   ]
  },
  {
   "cell_type": "markdown",
   "metadata": {},
   "source": [
    "### Answers\n",
    "\n",
    "4. \n",
    "5. "
   ]
  },
  {
   "cell_type": "markdown",
   "metadata": {},
   "source": [
    "[![Callysto.ca License](https://github.com/callysto/curriculum-notebooks/blob/master/callysto-notebook-banner-bottom.jpg?raw=true)](https://github.com/callysto/curriculum-notebooks/blob/master/LICENSE.md)"
   ]
  }
 ],
 "metadata": {
  "kernelspec": {
   "display_name": "Python 3",
   "language": "python",
   "name": "python3"
  },
  "language_info": {
   "codemirror_mode": {
    "name": "ipython",
    "version": 3
   },
   "file_extension": ".py",
   "mimetype": "text/x-python",
   "name": "python",
   "nbconvert_exporter": "python",
   "pygments_lexer": "ipython3",
   "version": "3.10.1"
  }
 },
 "nbformat": 4,
 "nbformat_minor": 2
}
