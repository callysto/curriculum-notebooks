{
 "cells": [
  {
   "cell_type": "markdown",
   "metadata": {},
   "source": [
    "![Callysto.ca Banner](https://github.com/callysto/curriculum-notebooks/blob/master/callysto-notebook-banner-top.jpg?raw=true)\n",
    "\n",
    "<a href=\"https://hub.callysto.ca/jupyter/hub/user-redirect/git-pull?repo=https%3A%2F%2Fgithub.com%2Fcallysto%2Fcurriculum-notebooks&branch=master&subPath=Science/DigitalDataCollection/digital-data-collection.ipynb&depth=1\" target=\"_parent\"><img src=\"https://raw.githubusercontent.com/callysto/curriculum-notebooks/master/open-in-callysto-button.svg?sanitize=true\" width=\"123\" height=\"24\" alt=\"Open in Callysto\"/></a>"
   ]
  },
  {
   "cell_type": "markdown",
   "metadata": {},
   "source": [
    "# Digital Data Collection\n",
    "\n",
    "We can collect data in this notebook using a micorcontroller device like a [micro:bit](https://www.microbit.org), [Arduino](https://www.arduino.cc), [Raspberry Pi Pico](https://www.raspberrypi.org/products/raspberry-pi-pico), or anything that can connect to your computer and send [serial data](https://en.wikipedia.org/wiki/Serial_communication).\n",
    "\n",
    "Most of these devices have [onboard sensors or inputs](https://microbit.org/get-started/first-steps/sensors), and you can also connect [external sensors](https://pinouts.net/arduino-sensor-list). For this experiment we will be using the temperature sensor on a micro:bit.\n",
    "\n",
    "## Setting Up\n",
    "\n",
    "If you are not familiar with programming a micro:bit, follow the [first stesp](https://microbit.org/get-started/first-steps/set-up) instructions.\n",
    "\n"
   ]
  },
  {
   "cell_type": "code",
   "execution_count": 24,
   "metadata": {
    "scrolled": true
   },
   "outputs": [
    {
     "data": {
      "text/html": [
       "<body>\n",
       "    <div class=\"buttons\">\n",
       "        <button id=\"connect\" class=\"button\">Connect</button>\n",
       "        <button id=\"disconnect\" disabled class=\"button\">Disconnect</button>\n",
       "        <button id=\"clearData\" class=\"button\">Clear</button>\n",
       "        <button id=\"saveData\" class=\"button\">Save</button>\n",
       "        <button id=\"generateDemoData\" class=\"button\">Generate Demo Data</button>\n",
       "    </div>\n",
       "    <p id=\"dataArea\"></p>\n",
       "</body>\n",
       "<script type=\"text/javascript\">\n",
       "if (!('serial' in navigator)) {document.getElementById(\"dataArea\").innerText=\"This only works in Chrome or Edge browsers\";}\n",
       "var decoder = new TextDecoder();\n",
       "var connect = document.querySelector(\"#connect\");\n",
       "var disconnect = document.querySelector(\"#disconnect\");\n",
       "var port;\n",
       "var reader;\n",
       "var dataPoints;\n",
       "\n",
       "async function readLoop() {\n",
       "    while (true) {\n",
       "        var {value, done} = await reader.read();\n",
       "        if (decoder.decode(value) == \"Done\") {\n",
       "            reader.releaseLock();\n",
       "            break;\n",
       "        }\n",
       "        if (value) {\n",
       "            document.getElementById(\"dataArea\").innerText += decoder.decode(value);\n",
       "            dataPoints += decoder.decode(value)\n",
       "        }\n",
       "        if (done) {\n",
       "            reader.releaseLock();\n",
       "            break;\n",
       "        }\n",
       "    }\n",
       "}\n",
       "\n",
       "connect.addEventListener(\"click\", async () => {\n",
       "    port = await navigator.serial.requestPort();\n",
       "    await port.open({baudRate: 115200});\n",
       "    reader = port.readable.getReader();\n",
       "    connect.disabled = true;\n",
       "    disconnect.disabled = false;\n",
       "    readLoop();\n",
       "});\n",
       "\n",
       "disconnect.addEventListener(\"click\", async () => {\n",
       "    await reader.cancel();\n",
       "    await port.close();\n",
       "    disconnect.disabled = true;\n",
       "    connect.disabled = false;\n",
       "});\n",
       "\n",
       "clearData.addEventListener(\"click\", async () => {\n",
       "    document.getElementById(\"dataArea\").innerText = \"\";\n",
       "});\n",
       "\n",
       "saveData.addEventListener(\"click\", async () => {\n",
       "    //var dataFromDevice = document.getElementById(\"dataArea\").innerText;\n",
       "    var dataFromDevice = \"%%writefile data.csv\" + \"\\n\" + document.getElementById(\"dataArea\").innerText;\n",
       "    Jupyter.notebook.select_next().get_selected_cell().set_text(dataFromDevice);\n",
       "    Jupyter.notebook.execute_cell();\n",
       "    Jupyter.notebook.select_next();\n",
       "    Jupyter.notebook.execute_cell();\n",
       "    Jupyter.notebook.scroll_to_cell(Jupyter.notebook.get_selected_index(), 1000);\n",
       "});\n",
       "\n",
       "generateDemoData.addEventListener(\"click\", async () => {\n",
       "    document.getElementById(\"dataArea\").innerText = \"10756,16\\n11262,17\\n11769,17\\n12275,17\\n12782,17\\n13289,16\\n13796,16\";\n",
       "});\n",
       "\n",
       "</script>\n"
      ],
      "text/plain": [
       "<IPython.core.display.HTML object>"
      ]
     },
     "metadata": {},
     "output_type": "display_data"
    }
   ],
   "source": [
    "%%html\n",
    "<body>\n",
    "    <div class=\"buttons\">\n",
    "        <button id=\"connect\" class=\"button\">Connect</button>\n",
    "        <button id=\"disconnect\" disabled class=\"button\">Disconnect</button>\n",
    "        <button id=\"clearData\" class=\"button\">Clear</button>\n",
    "        <button id=\"saveData\" class=\"button\">Save</button>\n",
    "        <button id=\"generateDemoData\" class=\"button\">Generate Demo Data</button>\n",
    "    </div>\n",
    "    <p id=\"dataArea\"></p>\n",
    "</body>\n",
    "<script type=\"text/javascript\">\n",
    "if (!('serial' in navigator)) {document.getElementById(\"dataArea\").innerText=\"This only works in Chrome or Edge browsers\";}\n",
    "var decoder = new TextDecoder();\n",
    "var connect = document.querySelector(\"#connect\");\n",
    "var disconnect = document.querySelector(\"#disconnect\");\n",
    "var port;\n",
    "var reader;\n",
    "var dataPoints;\n",
    "\n",
    "async function readLoop() {\n",
    "    while (true) {\n",
    "        var {value, done} = await reader.read();\n",
    "        if (value) {\n",
    "            document.getElementById(\"dataArea\").innerText += decoder.decode(value);\n",
    "            dataPoints += decoder.decode(value)\n",
    "        }\n",
    "        if (done) {\n",
    "            reader.releaseLock();\n",
    "            break;\n",
    "        }\n",
    "    }\n",
    "}\n",
    "\n",
    "connect.addEventListener(\"click\", async () => {\n",
    "    port = await navigator.serial.requestPort();\n",
    "    await port.open({baudRate: 115200});\n",
    "    reader = port.readable.getReader();\n",
    "    connect.disabled = true;\n",
    "    disconnect.disabled = false;\n",
    "    readLoop();\n",
    "});\n",
    "\n",
    "disconnect.addEventListener(\"click\", async () => {\n",
    "    await reader.cancel();\n",
    "    await port.close();\n",
    "    disconnect.disabled = true;\n",
    "    connect.disabled = false;\n",
    "});\n",
    "\n",
    "clearData.addEventListener(\"click\", async () => {\n",
    "    document.getElementById(\"dataArea\").innerText = \"\";\n",
    "});\n",
    "\n",
    "saveData.addEventListener(\"click\", async () => {\n",
    "    var dataFromDevice = \"%%writefile data.csv\" + \"\\n\" + document.getElementById(\"dataArea\").innerText;\n",
    "    Jupyter.notebook.select_next().get_selected_cell().set_text(dataFromDevice);\n",
    "    Jupyter.notebook.execute_cell();\n",
    "    Jupyter.notebook.select_next();\n",
    "    Jupyter.notebook.execute_cell();\n",
    "    Jupyter.notebook.scroll_to_cell(Jupyter.notebook.get_selected_index(), 1000);\n",
    "});\n",
    "\n",
    "generateDemoData.addEventListener(\"click\", async () => {\n",
    "    document.getElementById(\"dataArea\").innerText = \"10756,16\\n11262,17\\n11769,17\\n12275,17\\n12782,17\\n13289,16\\n13796,16\";\n",
    "});\n",
    "\n",
    "</script>"
   ]
  },
  {
   "cell_type": "code",
   "execution_count": 25,
   "metadata": {},
   "outputs": [
    {
     "name": "stdout",
     "output_type": "stream",
     "text": [
      "Overwriting data.csv\n"
     ]
    }
   ],
   "source": [
    "%%writefile data.csv\n",
    "10756,16\n",
    "11262,17\n",
    "11769,17\n",
    "12275,17\n",
    "12782,17\n",
    "13289,16\n",
    "13796,16"
   ]
  },
  {
   "cell_type": "code",
   "execution_count": 26,
   "metadata": {},
   "outputs": [
    {
     "data": {
      "text/html": [
       "<div>\n",
       "<style scoped>\n",
       "    .dataframe tbody tr th:only-of-type {\n",
       "        vertical-align: middle;\n",
       "    }\n",
       "\n",
       "    .dataframe tbody tr th {\n",
       "        vertical-align: top;\n",
       "    }\n",
       "\n",
       "    .dataframe thead th {\n",
       "        text-align: right;\n",
       "    }\n",
       "</style>\n",
       "<table border=\"1\" class=\"dataframe\">\n",
       "  <thead>\n",
       "    <tr style=\"text-align: right;\">\n",
       "      <th></th>\n",
       "      <th>0</th>\n",
       "      <th>1</th>\n",
       "    </tr>\n",
       "  </thead>\n",
       "  <tbody>\n",
       "    <tr>\n",
       "      <th>0</th>\n",
       "      <td>10756</td>\n",
       "      <td>16</td>\n",
       "    </tr>\n",
       "    <tr>\n",
       "      <th>1</th>\n",
       "      <td>11262</td>\n",
       "      <td>17</td>\n",
       "    </tr>\n",
       "    <tr>\n",
       "      <th>2</th>\n",
       "      <td>11769</td>\n",
       "      <td>17</td>\n",
       "    </tr>\n",
       "    <tr>\n",
       "      <th>3</th>\n",
       "      <td>12275</td>\n",
       "      <td>17</td>\n",
       "    </tr>\n",
       "    <tr>\n",
       "      <th>4</th>\n",
       "      <td>12782</td>\n",
       "      <td>17</td>\n",
       "    </tr>\n",
       "    <tr>\n",
       "      <th>5</th>\n",
       "      <td>13289</td>\n",
       "      <td>16</td>\n",
       "    </tr>\n",
       "    <tr>\n",
       "      <th>6</th>\n",
       "      <td>13796</td>\n",
       "      <td>16</td>\n",
       "    </tr>\n",
       "  </tbody>\n",
       "</table>\n",
       "</div>"
      ],
      "text/plain": [
       "       0   1\n",
       "0  10756  16\n",
       "1  11262  17\n",
       "2  11769  17\n",
       "3  12275  17\n",
       "4  12782  17\n",
       "5  13289  16\n",
       "6  13796  16"
      ]
     },
     "execution_count": 26,
     "metadata": {},
     "output_type": "execute_result"
    }
   ],
   "source": [
    "import pandas as pd\n",
    "df = pd.read_csv('data.csv', header=None)\n",
    "df"
   ]
  },
  {
   "cell_type": "markdown",
   "metadata": {},
   "source": [
    "You now have your data in a DataFrame called `df`. If there were any errors, you can go back to the cell that starts with `%%writefile data.csv` and change values, then run that cell and the `import pandas as pd` cell again."
   ]
  },
  {
   "cell_type": "code",
   "execution_count": null,
   "metadata": {},
   "outputs": [],
   "source": []
  },
  {
   "cell_type": "code",
   "execution_count": null,
   "metadata": {},
   "outputs": [],
   "source": []
  },
  {
   "cell_type": "code",
   "execution_count": null,
   "metadata": {},
   "outputs": [],
   "source": []
  },
  {
   "cell_type": "markdown",
   "metadata": {},
   "source": [
    "[![Callysto.ca License](https://github.com/callysto/curriculum-notebooks/blob/master/callysto-notebook-banner-bottom.jpg?raw=true)](https://github.com/callysto/curriculum-notebooks/blob/master/LICENSE.md)"
   ]
  }
 ],
 "metadata": {
  "kernelspec": {
   "display_name": "Python 3",
   "language": "python",
   "name": "python3"
  },
  "language_info": {
   "codemirror_mode": {
    "name": "ipython",
    "version": 3
   },
   "file_extension": ".py",
   "mimetype": "text/x-python",
   "name": "python",
   "nbconvert_exporter": "python",
   "pygments_lexer": "ipython3",
   "version": "3.7.3"
  }
 },
 "nbformat": 4,
 "nbformat_minor": 5
}
