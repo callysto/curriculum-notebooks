{
 "cells": [
  {
   "cell_type": "markdown",
   "metadata": {},
   "source": [
    "![Callysto.ca Banner](https://github.com/callysto/curriculum-notebooks/blob/master/callysto-notebook-banner-top.jpg?raw=true)\n",
    "\n",
    "<a href=\"https://hub.callysto.ca/jupyter/hub/user-redirect/git-pull?repo=https%3A%2F%2Fgithub.com%2Fcallysto%2Fcurriculum-notebooks&branch=master&subPath=Science/DigitalDataCollection/digital-data-collection.ipynb&depth=1\" target=\"_parent\"><img src=\"https://raw.githubusercontent.com/callysto/curriculum-notebooks/master/open-in-callysto-button.svg?sanitize=true\" width=\"123\" height=\"24\" alt=\"Open in Callysto\"/></a>"
   ]
  },
  {
   "cell_type": "markdown",
   "metadata": {},
   "source": [
    "# Digital Data Collection\n",
    "\n",
    "We can collect data in this notebook using a micorcontroller device like a [micro:bit](https://www.microbit.org), [Arduino](https://www.arduino.cc), [Raspberry Pi Pico](https://www.raspberrypi.org/products/raspberry-pi-pico), or anything that can connect to your computer and send [serial data](https://en.wikipedia.org/wiki/Serial_communication).\n",
    "\n",
    "Most of these devices have [onboard sensors or inputs](https://microbit.org/get-started/first-steps/sensors), and you can also connect [external sensors](https://pinouts.net/arduino-sensor-list). For this experiment we will be using the temperature sensor on a micro:bit.\n",
    "\n",
    "## Setting Up\n",
    "\n",
    "If you are not familiar with programming a micro:bit, follow the [first steps](https://microbit.org/get-started/first-steps/set-up) instructions.\n",
    "\n",
    "We want to program the micro:bit to send time-stamped temperature readings using the following MakeCode blocks:\n",
    "\n",
    "[![temperature code](images/makecode-temperature.jpg)](https://makecode.microbit.org/_Kve3bF5ibEzz)\n",
    "\n",
    "If you prefer to program the micro:bit in Python, use the following code:\n",
    "\n",
    "```python\n",
    "def write_values():\n",
    "    serial.write_string(str(input.running_time()))\n",
    "    serial.write_string(',')\n",
    "    serial.write_string(str(input.temperature()))\n",
    "    serial.write_line('')\n",
    "    basic.pause(500)\n",
    "basic.forever(write_values)\n",
    "```\n",
    "\n",
    "## Collecting Data\n",
    "\n",
    "Once your device is sending data over the serial port, select the html code cell below and click the `▶Run` button."
   ]
  },
  {
   "cell_type": "code",
   "execution_count": null,
   "metadata": {
    "scrolled": true
   },
   "outputs": [],
   "source": [
    "%%html\n",
    "<body>\n",
    "    <div class=\"buttons\">\n",
    "        <button id=\"connect\" class=\"button\">Connect</button>\n",
    "        <button id=\"disconnect\" disabled class=\"button\">Disconnect</button>\n",
    "        <button id=\"clearData\" class=\"button\">Clear</button>\n",
    "        <button id=\"saveData\" class=\"button\">Save</button>\n",
    "        <button id=\"generateDemoData\" class=\"button\">Generate Demo Data</button>\n",
    "    </div>\n",
    "    <p id=\"dataArea\"></p>\n",
    "</body>\n",
    "<script type=\"text/javascript\">\n",
    "Jupyter.notebook.scroll_cell_percent(Jupyter.notebook.get_selected_index()+1, 50, 1000);\n",
    "if (!('serial' in navigator)) {document.getElementById(\"dataArea\").innerText=\"This data collection only works in Chrome or Edge browsers\";}\n",
    "var decoder = new TextDecoder();\n",
    "var connect = document.querySelector(\"#connect\");\n",
    "var disconnect = document.querySelector(\"#disconnect\");\n",
    "var port;\n",
    "var reader;\n",
    "var dataPoints;\n",
    "async function readLoop() {\n",
    "    while (true) {\n",
    "        var {value, done} = await reader.read();\n",
    "        if (value) {\n",
    "            document.getElementById(\"dataArea\").innerText += decoder.decode(value);\n",
    "            dataPoints += decoder.decode(value)\n",
    "        }\n",
    "        if (done) {\n",
    "            reader.releaseLock();\n",
    "            break;\n",
    "        }\n",
    "    }\n",
    "}\n",
    "connect.addEventListener(\"click\", async () => {\n",
    "    port = await navigator.serial.requestPort();\n",
    "    await port.open({baudRate: 115200}); // this number may need to be changed for devices other than micro:bit\n",
    "    reader = port.readable.getReader();\n",
    "    connect.disabled = true;\n",
    "    disconnect.disabled = false;\n",
    "    readLoop();\n",
    "});\n",
    "disconnect.addEventListener(\"click\", async () => {\n",
    "    await reader.cancel();\n",
    "    await port.close();\n",
    "    disconnect.disabled = true;\n",
    "    connect.disabled = false;\n",
    "});\n",
    "clearData.addEventListener(\"click\", async () => {\n",
    "    document.getElementById(\"dataArea\").innerText = \"\";\n",
    "});\n",
    "saveData.addEventListener(\"click\", async () => {\n",
    "    var dataFromDevice = \"%%writefile data.csv\" + \"\\n\" + document.getElementById(\"dataArea\").innerText;\n",
    "    Jupyter.notebook.select(4).get_selected_cell().set_text(dataFromDevice);\n",
    "    Jupyter.notebook.execute_cell();\n",
    "    Jupyter.notebook.select_next();\n",
    "    Jupyter.notebook.execute_cell();\n",
    "    Jupyter.notebook.scroll_to_cell(Jupyter.notebook.get_selected_index(), 1000);\n",
    "});\n",
    "generateDemoData.addEventListener(\"click\", async () => {\n",
    "    document.getElementById(\"dataArea\").innerText = \"10756,16\\n11262,17\\n11769,17\\n12275,17\\n12782,17\\n13289,16\\n13796,16\";\n",
    "});\n",
    "</script>"
   ]
  },
  {
   "cell_type": "markdown",
   "metadata": {},
   "source": [
    "The `Connect` button will prompt you connect your `USB Serial Device`. Once it is connected, you should start to see data streaming in.\n",
    "\n",
    "You can use the `Clear` button to restart the data collection, and the `Save` button when you have finished."
   ]
  },
  {
   "cell_type": "code",
   "execution_count": null,
   "metadata": {},
   "outputs": [],
   "source": [
    "%%writefile data.csv\n",
    "10756,16\n",
    "11262,17"
   ]
  },
  {
   "cell_type": "code",
   "execution_count": null,
   "metadata": {},
   "outputs": [],
   "source": [
    "import pandas as pd\n",
    "try:\n",
    "    df = pd.read_csv('data.csv', header=None)\n",
    "    print(df)\n",
    "except:\n",
    "    print('No data to import')"
   ]
  },
  {
   "cell_type": "markdown",
   "metadata": {},
   "source": [
    "You now have your data in a [DataFrame](https://www.geeksforgeeks.org/python-pandas-dataframe) called `df`. If there were any errors, you can go back to the cell that starts with `%%writefile data.csv` and change values, then run that cell and the `import pandas as pd` cell again.\n",
    "\n",
    "### Column Labels\n",
    "\n",
    "Use the following code cell to label the columns in your DataFrame."
   ]
  },
  {
   "cell_type": "code",
   "execution_count": null,
   "metadata": {},
   "outputs": [],
   "source": [
    "df.columns = ['Time', 'Temperature']\n",
    "df"
   ]
  },
  {
   "cell_type": "markdown",
   "metadata": {},
   "source": [
    "## Graphing Data\n",
    "\n",
    "We can now graph the data as a `scatter`, `line`, `bar`, or [many other types](https://plotly.com/python/plotly-express).\n",
    "\n",
    "The lines `x = 'Time'` and `y = 'Temperature'` should match your column titles above.\n",
    "\n",
    "Try changing the last line in the following code cell to `px.line(df, x=x, y=y, title=y+' versus '+x)`"
   ]
  },
  {
   "cell_type": "code",
   "execution_count": null,
   "metadata": {},
   "outputs": [],
   "source": [
    "import plotly.express as px\n",
    "x = 'Time'\n",
    "y = 'Temperature'\n",
    "px.scatter(df, x=x, y=y, title=y+' versus '+x)"
   ]
  },
  {
   "cell_type": "markdown",
   "metadata": {},
   "source": [
    "Use the following code to generate a graph with a linear trendline. For a non-linear trenline change `'ols'` to `'lowess'`."
   ]
  },
  {
   "cell_type": "code",
   "execution_count": null,
   "metadata": {},
   "outputs": [],
   "source": [
    "px.scatter(df, x=x, y=y, title=y+' versus '+x, trendline='ols')"
   ]
  },
  {
   "cell_type": "markdown",
   "metadata": {},
   "source": [
    "We can also calculate the slope and y-intercept of a linear trendline.\n",
    "\n",
    "You can change `, 1)` to `, 2)` for a quadratic fit."
   ]
  },
  {
   "cell_type": "code",
   "execution_count": null,
   "metadata": {},
   "outputs": [],
   "source": [
    "import numpy as np\n",
    "fit = np.polyfit(df[x], df[y], 1)\n",
    "print('Slope =', fit[0])\n",
    "print('y-intercept =', fit[1])"
   ]
  },
  {
   "cell_type": "markdown",
   "metadata": {},
   "source": [
    "# Conclusion\n",
    "\n",
    "This notebook demonstrated collecting data in Jupyter notebook using an internal sensor on a micro:bit, a similar process would be used for other internal or external sensors.\n",
    "\n",
    "You can also send serial data using Arduino's [Serial.write()](https://www.arduino.cc/reference/en/language/functions/communication/serial/write) or similar functions in other microcontrollers or robots."
   ]
  },
  {
   "cell_type": "markdown",
   "metadata": {},
   "source": [
    "[![Callysto.ca License](https://github.com/callysto/curriculum-notebooks/blob/master/callysto-notebook-banner-bottom.jpg?raw=true)](https://github.com/callysto/curriculum-notebooks/blob/master/LICENSE.md)"
   ]
  }
 ],
 "metadata": {
  "kernelspec": {
   "display_name": "Python 3",
   "language": "python",
   "name": "python3"
  },
  "language_info": {
   "codemirror_mode": {
    "name": "ipython",
    "version": 3
   },
   "file_extension": ".py",
   "mimetype": "text/x-python",
   "name": "python",
   "nbconvert_exporter": "python",
   "pygments_lexer": "ipython3",
   "version": "3.8.3"
  }
 },
 "nbformat": 4,
 "nbformat_minor": 5
}
