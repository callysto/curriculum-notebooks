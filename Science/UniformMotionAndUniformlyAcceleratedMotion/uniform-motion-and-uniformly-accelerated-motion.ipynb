{
 "cells": [
  {
   "cell_type": "markdown",
   "metadata": {},
   "source": [
    "![Callysto.ca Banner](https://github.com/callysto/curriculum-notebooks/blob/master/callysto-notebook-banner-top.jpg?raw=true)\n",
    "\n",
    "<a href=\"https://hub.callysto.ca/jupyter/hub/user-redirect/git-pull?repo=https%3A%2F%2Fgithub.com%2Fcallysto%2Fcurriculum-notebooks&branch=master&subPath=Science/UniformMotionAndUniformlyAcceleratedMotion/uniform-motion-and-uniformly-accelerated-motion.ipynb&depth=1\" target=\"_parent\"><img src=\"https://raw.githubusercontent.com/callysto/curriculum-notebooks/master/open-in-callysto-button.svg?sanitize=true\" width=\"123\" height=\"24\" alt=\"Open in Callysto\"/></a>"
   ]
  },
  {
   "cell_type": "markdown",
   "metadata": {},
   "source": [
    "# Uniform Motion and Uniformly Accelerated Motion\n",
    "\n",
    "## Introduction\n",
    "\n",
    "Everything in the universe is constantly moving. On the earth we are moving around the sun at approximately 108,000 km/h, the sun is orbiting the galactic center at approximately 720,000 km/h, and our Milky Way galaxy is moving at approximately 402,336 km/h towards the Andromeda galaxy.\n",
    "\n",
    "Motion is defined by the change of position of an object with respect to other objects or some reference frame. In this notebook, we will familiarize ourselves with two types of motion uniform motion and uniformly accelerated motion."
   ]
  },
  {
   "cell_type": "code",
   "execution_count": null,
   "metadata": {},
   "outputs": [],
   "source": [
    "import ipywidgets as widgets\n",
    "from IPython.display import display, Math, Latex, HTML, IFrame\n",
    "from ipywidgets import IntSlider, Label\n",
    "from ipywidgets import interact, interactive\n",
    "import numpy as np\n",
    "import matplotlib.pyplot as plt\n",
    "from matplotlib.animation import FuncAnimation\n",
    "import pandas as pd"
   ]
  },
  {
   "cell_type": "markdown",
   "metadata": {},
   "source": [
    "## Concepts of Uniform Motion\n",
    "\n",
    "Motion is described by three variables: distance ($d$), velocity ($\\vec{v}$), and acceleration ($\\vec{a}$). Let's define and explore these quantities below.\n",
    "\n",
    "### Distance Vs. Displacement\n",
    "To begin, let us outline the difference between distance and displacement. \n",
    "> Distance describes the length of the actual path travelled to travel from one point to another.\n",
    "\n",
    "> Displacement is identical to distance as it describes the amount of space between two points. However, displacement is a vector quantity which means it also specifies the _direction_ of travel, as well as the amount of space between two points​.\n",
    "\n",
    "Below is a video which demonstrates the difference between distance and displacement:"
   ]
  },
  {
   "cell_type": "code",
   "execution_count": null,
   "metadata": {},
   "outputs": [],
   "source": [
    "hide_me\n",
    "\n",
    "from IPython.display import HTML\n",
    "# Youtube\n",
    "HTML('<iframe width=\"560\" height=\"315\" src=\"https://www.youtube.com/embed/u60JlEAGGWM\" frameborder=\"0\" allow=\"autoplay; encrypted-media\" allowfullscreen></iframe>')"
   ]
  },
  {
   "cell_type": "markdown",
   "metadata": {},
   "source": [
    "**Practise**\n",
    "\n",
    "Calculate the distance and displacement based on the image below. Imagine you start at  point $\\textrm{A}$ and you move around the field in the following order $\\textrm{A} \\rightarrow \\textrm{B} \\rightarrow \\textrm{C} \\rightarrow \\textrm{D} \\rightarrow \\textrm{E} \\rightarrow \\textrm{A}$:"
   ]
  },
  {
   "cell_type": "markdown",
   "metadata": {},
   "source": [
    "<img src=\"images\\distance.JPG\" alt=\"Callysto\" width=700 height=500 align = \"left\">"
   ]
  },
  {
   "cell_type": "markdown",
   "metadata": {},
   "source": [
    "### Speed Vs. Velocity\n",
    "\n",
    "Analogous to distance and displacement are speed and velocity, however now these quantities also imply that the object's distance/displacement is _changing_. Let's take a look at how speed and velocity are defined.\n",
    "\n",
    "Speed is the rate of change of distance over time.\n",
    "\n",
    "\\begin{equation}\n",
    "\\textrm{speed } = \\frac{\\textrm{change} \\ \\textrm{of} \\ \\textrm{distance (m)}}{\\textrm{time (s)}}\n",
    "\\end{equation}\n",
    "\n",
    "Velocity is the rate of change of displacement over time.\n",
    "\n",
    "\\begin{equation}\n",
    "\\textrm{velocity, } \\vec{v} = \\frac{\\textrm{change} \\textrm{ of} \\textrm{ displacement (m)}}{\\textrm{time (s)}} \\\\\n",
    "\\textrm{m} = \\textrm{meter } \\textrm{and} \\textrm{ s} = \\textrm{second}\n",
    "\\end{equation}\n",
    "\n",
    "**Practise**\n",
    "\n",
    "Now, let's repeat a similar question as we did with displacement and distance, but now include velocity. The required time of one point to another point is given below:\n",
    "\n",
    "* $\\textrm{A} \\rightarrow \\textrm{C}: 4 \\textrm{ sec}$\n",
    "* $\\textrm{A} \\rightarrow \\textrm{D}: 10 \\textrm{ sec}$\n",
    "* $\\textrm{A} \\rightarrow \\textrm{E}: 16 \\textrm{ sec}$\n",
    "* $\\textrm{A} \\rightarrow \\textrm{A}: 20 \\textrm{ sec}$\n",
    "\n"
   ]
  },
  {
   "cell_type": "markdown",
   "metadata": {},
   "source": [
    "<img src=\"images\\speed.JPG\" alt=\"Callysto\" width=700 height=500 align = \"left\">"
   ]
  },
  {
   "cell_type": "markdown",
   "metadata": {},
   "source": [
    "### Acceleration\n",
    "\n",
    "Velocity can also change with respect to time. A change in velocity requires _acceleration_, which is defined as rate of change of velocity over time. As acceleration depends on the change in the vector quantity velocity, acceleration is also a vector. Below is an example of acceleration.\n",
    "\n",
    "<img src=\"images\\acceleration.gif\" width=\"500\" height=\"400\"/>\n",
    "<font size = 1 > <center>https://giphy.com/gifs/cell-concept-acceleration-139Qnnkbg2pefe</center> </font>\n",
    "\n",
    " Acceleration is the rate of change of velocity over time. Acceleration is a vector quantity as it depends on velocity. \n",
    "\n",
    "\\begin{equation}\n",
    "\\textrm{acceleration, } \\vec{a} = \\frac{\\textrm{change} \\textrm{ of} \\textrm{ velocity } (\\frac{\\text{m}}{\\text{s}}) } {\\textrm{time (s)}} \n",
    "\\end{equation}\n",
    "\n",
    "**Practice**\n",
    "\n",
    "Let's go back to our field example and think about where we may see acceleration. Once again we are traveling from $\\textrm{A} \\rightarrow \\textrm{B} \\rightarrow \\textrm{C} \\rightarrow \\textrm{D} \\rightarrow \\textrm{E} \\rightarrow \\textrm{A}$​: \n",
    "\n",
    "<img src=\"images\\acceleration-img.JPG\" alt=\"Callysto\" width=700 height=500 align = \"left\">\n"
   ]
  },
  {
   "cell_type": "markdown",
   "metadata": {},
   "source": [
    "### Uniform Motion\n",
    "\n",
    "Now that we have an understanding of distance, displacement, velocity and acceleration, let's use those quantities to describe \"uniform motion\".\n",
    "\n",
    "Uniform motion has the following two properties:\n",
    "\n",
    "* Motion is constant or steady that means object covers equal distance in equal time interval.\n",
    "\n",
    "* The object travels in a straight line.\n",
    "\n",
    "Consider the blue car in the animation below\n",
    "\n",
    "<img src=\"images\\uniform-motion.gif\" width=\"500\" height=\"400\"/>\n",
    "<font size = 1 > <center>http://www.ninetyeast.net/physics/grade-9-10-gcse-hsc/forces/newtons-laws-of-motion/newtons-first-law-of-motion</center> </font>\n",
    "\n",
    "The blue car is travelling at a velocity of $10 \\textrm{ ms}^{-1}$ to the right. That means every second the car is travelling $10 \\textrm{ m}$. If we record this car's displacement and velocity for $10 \\textrm{ sec}$, we get the following table. \n",
    "\n",
    "\n",
    "| Time $(sec$)  |  Displacement ($m$)   | Velocity ($ms^{-1}$)|\n",
    "|:-------------:|:-----------------:|:--------:|\n",
    "| $ 1$          | $ 10$             | $10$     | \n",
    "| $ 2$          |$ 20$             | $10$     | \n",
    "| $ 3$          |$30$              | $10$     | \n",
    "| $4$           |$40$              | $10$     | \n",
    "| $ 5$          | $ 50$            | $10$     | \n",
    "| $ 6$          |$ 60$             | $10$     | \n",
    "| $ 7$          |$70$              | $10$     | \n",
    "| $8$           |$80$              | $10$     | \n",
    "| $ 9$          |$90$              | $10$     | \n",
    "| $10$           |$100$              | $10$     |  \n",
    "\n",
    "We can also use this table to create the animation below:"
   ]
  },
  {
   "cell_type": "code",
   "execution_count": null,
   "metadata": {},
   "outputs": [],
   "source": [
    "import numpy as np\n",
    "import plotly.graph_objects as go\n",
    "import pandas as pd\n",
    "\n",
    "'''\n",
    "# Create a figure with two subplots\n",
    "fig, (ax1, ax2) = plt.subplots(1,2, figsize=(10, 4), dpi= 90, facecolor='w', edgecolor='k')\n",
    "\n",
    "# Same X axis limt and grid initalizations\n",
    "for ax in [ax1, ax2]:\n",
    "    ax.set_xlim(0, 10)\n",
    "    ax.grid()\n",
    "    \n",
    "ax1.set_ylim(0,100)\n",
    "ax2.set_ylim(0,20)    \n",
    "\n",
    "# Initialize the plot\n",
    "l1, = ax1.plot([],[], 'go-', label='Displacement', linewidth=2)\n",
    "leg = ax1.legend(loc='best')\n",
    "l2, = ax2.plot([],[],  'rs-', label='Velocity')\n",
    "leg = ax2.legend(loc='best')\n",
    "\n",
    "fig.suptitle('Uniform Motion')\n",
    "ax1.set_xlabel('Time (sec)')\n",
    "ax2.set_xlabel('Time (sec)')\n",
    "ax1.set_ylabel('Displacement (m)')\n",
    "ax2.set_ylabel (r'$\\mathrm{Velocity} \\ (\\mathrm{m/s})$')\n",
    "             \n",
    "# Initiate the animation\n",
    "def animate(i):   \n",
    "    l1.set_data(t[:i+1], d[:i+1])\n",
    "    l2.set_data(t[:i+1], v[:i+1])\n",
    "    \n",
    "ani = FuncAnimation(fig, animate, interval = 800, frames=len(t))\n",
    "plt.show()\n",
    "\n",
    "\n",
    "# Convert animation to video\n",
    "#from IPython.display import HTML\n",
    "#HTML(ani.to_html5_video())\n",
    "'''\n",
    "\n",
    "# Data\n",
    "t = np.linspace(0,10,11)\n",
    "d = np.linspace(0,100,11)\n",
    "v = np.linspace(10,10,11)\n",
    "\n",
    "df = pd.DataFrame({'Time':t,'Distance':d,'Speed':v})\n",
    "\n",
    "\n",
    "\n",
    "fig = go.Figure(\n",
    "    data=[go.Scatter(x=df['Time'][0], y=[0, 1])],\n",
    "    layout=go.Layout(\n",
    "        xaxis=dict(range=[0, 5], autorange=False),\n",
    "        yaxis=dict(range=[0, 5], autorange=False),\n",
    "        title=\"Start Title\",\n",
    "        updatemenus=[dict(\n",
    "            type=\"buttons\",\n",
    "            buttons=[dict(label=\"Play\",\n",
    "                          method=\"animate\",\n",
    "                          args=[None])])]\n",
    "    ),\n",
    "    frames=[go.Frame(data=[go.Scatter(x=[1, 2], y=[1, 2])]),\n",
    "            go.Frame(data=[go.Scatter(x=[1, 4], y=[1, 4])]),\n",
    "            go.Frame(data=[go.Scatter(x=[3, 4], y=[3, 4])],\n",
    "                     layout=go.Layout(title_text=\"End Title\"))]\n",
    ")\n",
    "\n",
    "fig.show()\n"
   ]
  },
  {
   "cell_type": "markdown",
   "metadata": {},
   "source": [
    "From the table and animations, we find that the blue car's displacement is changing and its velocity is constant. This is an example of uniform motion. The car travels equal distance in equal time.\n",
    "\n",
    "\\begin{equation}\n",
    "\\textrm{velocity, } \\vec{v} = \\frac{\\textrm{change} \\ \\textrm{of} \\ \\textrm{displacement (m)}}{\\textrm{time (s)}} = \\textrm{constant}\n",
    "\\end{equation}\n",
    "\n",
    "**Based on your knowledge of uniform motion, what is the blue car's acceleration?**\n"
   ]
  },
  {
   "cell_type": "markdown",
   "metadata": {},
   "source": [
    "### Uniform Accelerated Motion"
   ]
  },
  {
   "cell_type": "code",
   "execution_count": null,
   "metadata": {},
   "outputs": [],
   "source": [
    "\n",
    "from IPython.display import HTML\n",
    "# Youtube\n",
    "HTML('<iframe width=\"560\" height=\"315\" src=\"https://www.youtube.com/embed/JLm3JrCPtWs\" frameborder=\"0\" allow=\"autoplay; encrypted-media\" allowfullscreen></iframe>')"
   ]
  },
  {
   "cell_type": "markdown",
   "metadata": {},
   "source": [
    "Uniformly accelerated motion is a little different than the uniform motion we discussed earlier. In the case of uniformly accelerated motion, your velocity is increasing constantly and equally in time. Your velocity is changing in a way similar to how displacement changes if you're traveling at constant velocity. Suppose you start at rest and begin running in order to catch a ball. In this scenario, you will need to _accelerate_. Suppose after each second, you are traveling 2 $\\frac{\\textrm{m}}{\\textrm{s}}$ faster than the second previous. In such a case, you have a uniform acceleration of 2 $\\frac{\\textrm{m}}{\\textrm{s}^2}$ (the seconds are squared in the units of acceleration as you are increasing your velocity constantly - i.e. you gain more velocity per second). Let's write down displacement, velocity and acceleration as you try to catch this ball in a table:\n",
    "\n",
    "| Time $(\\textrm{sec}$)  |  Displacement ($\\textrm{m}$)   | Velocity ($\\textrm{ms}^{-1}$)| Acceleration ($\\textrm{ms}^{-2}$)   \n",
    "|:-------------:|:-----------------:|:--------:|:--------:|\n",
    "| $ 0$          | $ 0$             | $0$     | $2$      |\n",
    "| $ 1$          |$ 1$             | $2$     | $2$      |\n",
    "| $ 2$          |$4$              | $4$     | $2$      |\n",
    "| $3$           |$9$              | $6$     | $2$      |\n",
    "| $ 4$          |$16$              | $8$     | $2$     |\n",
    "| $5$           |$25$              | $10$     | $2$    |\n",
    "| $6$           |$36$              | $12$     | $2$      |\n",
    "| $ 7$          |$49$              | $14$     | $2$     |\n",
    "| $8$           |$64$              | $16$     | $2$    |\n",
    "\n",
    "Using the table, we can also create an animation"
   ]
  },
  {
   "cell_type": "code",
   "execution_count": null,
   "metadata": {},
   "outputs": [],
   "source": [
    "\n",
    "# Data\n",
    "t = np.linspace(0,8,9);\n",
    "d = ([0,1,4,9,16,25,36,49,64]);\n",
    "v = ([0,2,4,6,8,10,12,14,16]);\n",
    "a = np.linspace(2,2,9);\n",
    "\n",
    "# Create a figure with three subplots\n",
    "fig, (ax1, ax2, ax3) = plt.subplots(1,3, figsize=(12.5, 4), dpi= 80, facecolor='w', edgecolor='k')\n",
    "\n",
    "# Same X axis limt and grid initalizations\n",
    "for ax in [ax1, ax2, ax3]:\n",
    "    ax.set_xlim(0, 8);\n",
    "    ax.grid();\n",
    "    \n",
    "ax1.set_ylim(0,70);\n",
    "ax2.set_ylim(0,16);   \n",
    "ax3.set_ylim(0,5);\n",
    "\n",
    "# Initialize the plot\n",
    "l, = ax1.plot([],[], 'go-', label='Displacement', linewidth=2);\n",
    "leg = ax1.legend(loc='best');\n",
    "l1, = ax2.plot([],[],  'rs-', label='Velocity');\n",
    "leg = ax2.legend(loc='best');\n",
    "l2, = ax3.plot([],[], 'b*-', label='Acceleration', linewidth=2);\n",
    "leg = ax3.legend(loc='best');\n",
    "\n",
    "fig.suptitle('Uniformly Accelerated Motion');\n",
    "ax1.set_xlabel('Time (sec)');\n",
    "ax2.set_xlabel('Time (sec)');\n",
    "ax3.set_xlabel('Time (sec)');\n",
    "ax1.set_ylabel('Displacement (m)');\n",
    "ax2.set_ylabel (r'$\\mathrm{Velocity} \\ (\\mathrm{m/s})$');\n",
    "ax3.set_ylabel (r'$\\mathrm{Acceleration} \\ (\\mathrm{m/s}^{2})$');\n",
    "\n",
    "# Initiate the animation\n",
    "def animate(i):\n",
    "    l.set_data(t[:i+1], d[:i+1]);\n",
    "    l1.set_data(t[:i+1], v[:i+1]);\n",
    "    l2.set_data(t[:i+1], a[:i+1]);\n",
    "    \n",
    "ani=FuncAnimation(fig, animate, interval = 800, frames=len(t));\n",
    "plt.close()\n",
    "\n",
    "# Convert animation to video\n",
    "from IPython.display import HTML\n",
    "HTML(ani.to_html5_video())"
   ]
  },
  {
   "cell_type": "markdown",
   "metadata": {},
   "source": [
    "Notice how with constant acceleration, your velocity increases _linearly_. As well, when you're accelerating, your displacement changes _parabolically_. These relationships are explained further with the equations of motion below.\n",
    "\n",
    "\n",
    "## Equations of Motion\n",
    "\n",
    "Using our relationships between displacement, velocity, acceleration and time, we can define \"equations of motion\" for a moving object. There are four such equations relevant to the principles of uniform motion and uniform acceleration.\n",
    "\n",
    "Suppose an object with initial velocity $\\vec{\\textrm{v}}_i$ $\\textrm{ms}^{-1}$ is travelling with uniform acceleration $\\vec{\\textrm{a}}$ $\\textrm{ms}^{-2}$. After traveling a displacement $\\vec{\\textrm{s}}$ in time $\\textrm{t}$ the object's final velocity would be $\\vec{\\textrm{v}_f}$ $\\textrm{ms}^{-1}$, these quantities are described by the following equations\n",
    "\n",
    "\\begin{align}\n",
    "   \\vec{\\textrm{v}_f}=\\vec{\\textrm{v}_i}+\\vec{\\textrm{a}} \\textrm{t} \\ \\ \\ \\ \\ \\ \\ \\  (1) \\ \\ \\ \\ \\ \\ \\ \\ \\ \\ \\ \\ \\ \\ \\ \\ \\ \\ \\  \\ \\ \\ \\ \\ \\ \n",
    "   \\vec{\\textrm{s}} = (\\frac{\\vec{\\textrm{v}_i}+\\vec{\\textrm{v}_f}}{2})\\textrm{t} \\; \\; (2)\n",
    "\\end{align}\n",
    "\n",
    "\n",
    "\n",
    "\\begin{align}\n",
    "\\vec{\\textrm{s}} = \\vec{\\textrm{v}_i}\\textrm{t}+\\frac{1}{2}\\vec{\\textrm{a}}\\textrm{t}^{2} \\; (3) \\ \\ \\ \\ \\ \\ \\ \\ \\ \\ \\ \\ \\ \\ \\ \\ \\ \\ \\  \\ \\ \n",
    "\\vec{\\textrm{v}_f} = \\textrm{v}_i^{2}+2 \\vec{\\textrm{a}} \\; \\vec{\\textrm{s}} \\; \\; \\; \\;  (4)\n",
    "\\end{align}\n",
    "\n"
   ]
  },
  {
   "cell_type": "markdown",
   "metadata": {},
   "source": [
    "The equations above describe both uniform motion and uniformly accelerated motion. Equation (1) describes your final velocity given an intial velocity, and an acceleration over time. Notice how this is the equation of a line. This is what we see in the center plot of the animation above. Equation (3) describes your displacement moving at some initial velocity and accelerating uniformly for some time. Notice how time is squared in this equation. This means that this is the equation of a parabola. Equation (3) is what we see in the first plot of the animation above. "
   ]
  },
  {
   "cell_type": "markdown",
   "metadata": {},
   "source": [
    "#### Problem 1\n",
    "\n",
    "A bus  accelerates from rest at $4  \\textrm{ms}^{-2}$ until it reaches a final velocity of $40 \\ \\textrm{ms}^{-1}$. For how many seconds was the bus accelerating?\n",
    "\n",
    "#### Solution\n",
    "\n",
    "**Step 1:**\n",
    "\n",
    "Given,\n",
    "\n",
    "initial velocity, $\\vec{\\textrm{v}_i} = 0 \\ \\textrm{ms}^{-1}$ \n",
    "\n",
    "final velocity, $\\vec{\\textrm{v}_f} = 40 \\ \\textrm{ms}^{-1}$ \n",
    "\n",
    "acceleration, $\\vec{\\textrm{a}} = 4 \\ \\textrm{ms}^{-2}$\n",
    "\n",
    "time, $\\textrm{t} = ?$\n",
    "\n",
    "**Step 2:**\n",
    "\n",
    "In this problem, the value of $\\vec{\\textrm{v}_i}$, $\\vec{\\textrm{v}_f}$ and $\\vec{\\textrm{a}}$ are given and $\\textrm{t}$ is required. Now, check the above $4$ motion equations, find the equation is related to$\\vec{\\textrm{v}_i}$, $\\vec{\\textrm{v}_f}$ and $\\vec{\\textrm{a}}$ and $\\textrm{t}$. We find the equation and it is $\\vec{\\textrm{v}_f} = \\vec{\\textrm{v}_i}+\\vec{\\textrm{a}}\\textrm{t}$.\n",
    "\n",
    "**Step 3:** After checking all the units of the given variable $\\textrm{v}_i$, $\\textrm{v}_f$ and $\\textrm{a}$, we find that they are correct. Then fill them in selected equation:\n",
    "\n",
    "\\begin{equation}\n",
    "\\vec{\\textrm{v}_f} = \\vec{\\textrm{v}_i}+\\vec{\\textrm{a}}\\textrm{t} \\\\\n",
    "\\Rightarrow \\vec{\\textrm{a}}\\textrm{t} = \\vec{\\textrm{v}_f} - \\vec{\\textrm{v}_i} \\\\\n",
    "\\Rightarrow \\textrm{t} = \\frac{\\vec{\\textrm{v}_f}-\\vec{\\textrm{v}_i}}{\\vec{\\textrm{a}}} \\\\\n",
    "\\Rightarrow \\textrm{t} = \\frac{40\\textrm{ms}^{-1}-0\\textrm{ms}^{-1}}{4\\textrm{ms}^{-2}} \\\\\n",
    "\\Rightarrow \\textrm{t} = 10\\textrm{ s}\n",
    "\\end{equation}\n",
    "\n",
    "**Step 4:**\n",
    "\n",
    "time = $10\\textrm{ s}$ $(Ans)$\n",
    "\n",
    "This answer can be seen graphically in the animation below:\n"
   ]
  },
  {
   "cell_type": "code",
   "execution_count": null,
   "metadata": {},
   "outputs": [],
   "source": [
    "\n",
    "# Data frame to create table\n",
    "df = pd.DataFrame()\n",
    "df['Velocity'] = np.arange(0,41,4)\n",
    "df['Time'] = df['Velocity']/4\n",
    "\n",
    "# Create a figure with two subplots\n",
    "fig,(ax1,ax2) = plt.subplots(1,2,figsize=(6.8, 4), dpi= 100)\n",
    "\n",
    "# Limit and label axis\n",
    "ax1.set_ylim(0,10)\n",
    "ax1.set_xlim(0,40)\n",
    "ax1.set_xlabel('Velocity ($ms^{-1}$)')\n",
    "ax1.set_ylabel('Time (s)')\n",
    "ax1.grid()\n",
    "\n",
    "# Initiate table properties\n",
    "font_size=14\n",
    "bbox=[0, 0, 1, 1]\n",
    "ax2.axis('off')\n",
    "\n",
    "# Initialize the plot\n",
    "l, = ax1.plot([],[], 'go-', label='Time', linewidth=2)\n",
    "leg = ax1.legend(loc='best')\n",
    "\n",
    "# Initiate the animation\n",
    "def animate(i):\n",
    "    l.set_data(df['Velocity'][:i+1], df['Time'][:i+1])\n",
    "    table = ax2.table(cellText = df.values[:i+1],bbox=bbox, colLabels=df.columns)\n",
    "    \n",
    "    \n",
    "ani = FuncAnimation(fig, animate, interval = 800, frames=len(df.index))\n",
    "plt.close()\n",
    "\n",
    "# Convert animation to video\n",
    "from IPython.display import HTML\n",
    "HTML(ani.to_html5_video())"
   ]
  },
  {
   "cell_type": "markdown",
   "metadata": {},
   "source": [
    "## Conclusion\n",
    "\n",
    "In this notebook, we introduced two important concepts of motion: Uniform and Uniformly accelerated motion. We demonstrated how motion is related to distance, speed, velocity and acceleration. We also showed the various linear relationships between displacement, velocity and uniform acceleration using both the equations of motion, and the graphs of those functions. Using these equations, we then demonstrated several cases where they we can apply the ideas of uniform motion and uniformly accelerated motion to solve classic physics problems. This notebook serves as an introduction to the concept of uniform and uniformly accelerated motion, and will allow you to solve a great many problems using these concepts, and should act as a reasonable primer for more complex kinematic problems."
   ]
  },
  {
   "cell_type": "markdown",
   "metadata": {},
   "source": [
    "[![Callysto.ca License](https://github.com/callysto/curriculum-notebooks/blob/master/callysto-notebook-banner-bottom.jpg?raw=true)](https://github.com/callysto/curriculum-notebooks/blob/master/LICENSE.md)"
   ]
  }
 ],
 "metadata": {
  "kernelspec": {
   "display_name": "Python 3.10.1 64-bit",
   "language": "python",
   "name": "python3"
  },
  "language_info": {
   "codemirror_mode": {
    "name": "ipython",
    "version": 3
   },
   "file_extension": ".py",
   "mimetype": "text/x-python",
   "name": "python",
   "nbconvert_exporter": "python",
   "pygments_lexer": "ipython3",
   "version": "3.10.1"
  },
  "vscode": {
   "interpreter": {
    "hash": "d1ca6d17674200220921376aaeb3d36cffe15ecab2470a9a5e7a456cdbf61425"
   }
  }
 },
 "nbformat": 4,
 "nbformat_minor": 2
}
