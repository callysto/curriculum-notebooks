{
 "cells": [
  {
   "cell_type": "markdown",
   "metadata": {},
   "source": [
    "![Callysto.ca Banner](https://github.com/callysto/curriculum-notebooks/blob/master/callysto-notebook-banner-top.jpg?raw=true)\n",
    "\n",
    "<a href=\"https://hub.callysto.ca/jupyter/hub/user-redirect/git-pull?repo=https%3A%2F%2Fgithub.com%2Fcallysto%2Fcurriculum-notebooks&branch=master&subPath=Science/UniformMotionAndUniformlyAcceleratedMotion/uniform-motion-and-uniformly-accelerated-motion.ipynb&depth=1\" target=\"_parent\"><img src=\"https://raw.githubusercontent.com/callysto/curriculum-notebooks/master/open-in-callysto-button.svg?sanitize=true\" width=\"123\" height=\"24\" alt=\"Open in Callysto\"/></a>"
   ]
  },
  {
   "cell_type": "markdown",
   "metadata": {},
   "source": [
    "# Uniform Motion and Uniformly Accelerated Motion\n",
    "\n",
    "## Introduction\n",
    "\n",
    "Everything in the universe is constantly moving. On the earth we are moving around the sun at approximately 108,000 km/h, the sun is orbiting the galactic center at approximately 720,000 km/h, and our Milky Way galaxy is moving at approximately 402,336 km/h towards the Andromeda galaxy.\n",
    "\n",
    "Motion is defined by the change of position of an object with respect to other objects or some reference frame. In this notebook, we will familiarize ourselves with two types of motion: uniform motion, and uniformly accelerated motion.\n",
    "\n",
    "Motion is usually described by three variables:\n",
    "* distance or displacement ($\\vec{d}$)\n",
    "* speed or velocity ($\\vec{v}$)\n",
    "* acceleration ($\\vec{a}$)\n",
    "\n",
    "### Distance or Displacement\n",
    "\n",
    "**Distance** describes the length of the actual path travelled to travel from one point to another.\n",
    "\n",
    "**Displacement** describes the distance between two points, but since is a **vector** quantity it also specifies the *direction* of travel. We add an arrow over the variable to identify it as a vector (e.g. $\\vec{d}$).\n",
    "\n",
    "### Speed or Velocity\n",
    "\n",
    "**Speed** is the rate of change of distance over time ($t$).\n",
    "\n",
    "$v=\\frac{d}{t}$\n",
    "\n",
    "**Velocity** is the rate of change of displacement over time, which includes direction.\n",
    "\n",
    "$\\vec{v}=\\frac{\\vec{d}}{t}$\n",
    "\n",
    "### Acceleration\n",
    "\n",
    "**Acceleration** is the rate of change of speed or velocity over time.\n",
    "\n",
    "$a=\\frac{\\Delta v}{t}$\n",
    "\n",
    "or\n",
    "\n",
    "$\\vec{a}=\\frac{\\Delta \\vec{v}}{t}$\n",
    "\n",
    "## Uniform Motion\n",
    "\n",
    "**Uniform motion** means travelling at a constant speed in a straight line.\n",
    "\n",
    "An example is a car is travelling at a velocity of 10 m/s to the right. If we record this car's distance and speed every second for $10$ seconds, we get the following table.\n",
    "\n",
    "Click on the code cell below, then click the `▶Run` button on the toolbar."
   ]
  },
  {
   "cell_type": "code",
   "execution_count": null,
   "metadata": {},
   "outputs": [],
   "source": [
    "from numpy import linspace\n",
    "import pandas as pd\n",
    "t = linspace(0,10,11)\n",
    "d = linspace(0,100,11)\n",
    "v = linspace(10,10,11)\n",
    "df = pd.DataFrame({'Time (s)':t,'Distance (m)':d,'Speed (m/s)':v})\n",
    "df"
   ]
  },
  {
   "cell_type": "markdown",
   "metadata": {},
   "source": [
    "We can create animated charts to visualize the car's motion by `▶Run`ning the next code cell and then clicking the `Play` button."
   ]
  },
  {
   "cell_type": "code",
   "execution_count": null,
   "metadata": {},
   "outputs": [],
   "source": [
    "import plotly.graph_objects as go\n",
    "from plotly.subplots import make_subplots\n",
    "\n",
    "fig = make_subplots(rows=1, cols=2, subplot_titles=('Distance versus Time', 'Speed versus Time'))\n",
    "fig.add_trace(go.Scatter(x=[0], y=[d[0]], mode='lines+markers'), row=1, col=1)\n",
    "fig.add_trace(go.Scatter(x=[0], y=[v[0]], mode='lines+markers'), row=1, col=2)\n",
    "\n",
    "frames = []\n",
    "for i in range(len(t)):\n",
    "    frames.append(go.Frame(\n",
    "        data=[go.Scatter(x=df['Time (s)'].iloc[0:i+1], y=df['Speed (m/s)'].iloc[0:i+1], mode='lines+markers'),\n",
    "            go.Scatter(x=df['Time (s)'].iloc[0:i+1], y=df['Distance (m)'].iloc[0:i+1], mode='lines+markers')], \n",
    "            traces=[1, 0]))\n",
    "\n",
    "fig.frames = frames\n",
    "button = {'label':'Play', 'method':'animate', 'args':[None]}\n",
    "fig.update_layout(showlegend=False, updatemenus=[{'type':'buttons', 'buttons':[button]}])\n",
    "fig.update_xaxes(title_text='Time (s)', range=[0, t[-1]])\n",
    "fig.update_yaxes(title_text='Distance (m)', range=[0, d[-1]], row=1, col=1)\n",
    "fig.update_yaxes(title_text='Speed (m/s)', range=[0, v[-1]+1], row=1, col=2)\n",
    "fig.show()"
   ]
  },
  {
   "cell_type": "markdown",
   "metadata": {},
   "source": [
    "From the table and animations, we find that the blue car's distance travelled is changing, but its velocity is constant. This is an example of uniform motion.\n",
    "\n",
    "### Uniform Accelerated Motion\n",
    "\n",
    "If the speed or velocity of an object is changing at a constant rate, that is called **uniform accelerated motion**. The object will be undergoing constant acceleration. If it is speeding up, the acceleration is usually positive, slowing down usually means a negative acceleration.\n",
    "\n",
    "Here is a code cell that will generate a table of values for uniformly accelerated motion."
   ]
  },
  {
   "cell_type": "code",
   "execution_count": null,
   "metadata": {},
   "outputs": [],
   "source": [
    "from numpy import arange\n",
    "a = 4\n",
    "t = linspace(0,10,11)\n",
    "d2 = 0.5*a * t**2\n",
    "v2 = arange(0,11*a,a)\n",
    "df2 = pd.DataFrame({'Time (s)':t,'Distance (m)':d2,'Speed (m/s)':v2,'Acceleration (m/s^2)':[a]*11})\n",
    "df2"
   ]
  },
  {
   "cell_type": "markdown",
   "metadata": {},
   "source": [
    "And an animated chart visualization of that motion:"
   ]
  },
  {
   "cell_type": "code",
   "execution_count": null,
   "metadata": {},
   "outputs": [],
   "source": [
    "fig2 = make_subplots(rows=1, cols=3, subplot_titles=('Distance versus Time', 'Speed versus Time', 'Acceleration versus Time'))\n",
    "fig2.add_trace(go.Scatter(x=[0], y=[d[0]], mode='lines+markers'), row=1, col=1)\n",
    "fig2.add_trace(go.Scatter(x=[0], y=[v[0]], mode='lines+markers'), row=1, col=2)\n",
    "fig2.add_trace(go.Scatter(x=[0], y=[a], mode='lines+markers'), row=1, col=3)\n",
    "\n",
    "frames2 = []\n",
    "for i in range(len(t)):\n",
    "    frames2.append(go.Frame(\n",
    "        data=[go.Scatter(x=df2['Time (s)'].iloc[0:i+1], y=df2['Distance (m)'].iloc[0:i+1], mode='lines+markers'),\n",
    "            go.Scatter(x=df2['Time (s)'].iloc[0:i+1], y=df2['Speed (m/s)'].iloc[0:i+1], mode='lines+markers'),\n",
    "            go.Scatter(x=df2['Time (s)'].iloc[0:i+1], y=df2['Acceleration (m/s^2)'].iloc[0:i+1], mode='lines+markers'),], \n",
    "            traces=[0, 1, 2]))\n",
    "\n",
    "fig2.frames = frames2\n",
    "button = {'label':'Play', 'method':'animate', 'args':[None]}\n",
    "fig2.update_layout(showlegend=False, updatemenus=[{'type':'buttons', 'buttons':[button]}])\n",
    "fig2.update_xaxes(title_text='Time (s)', range=[0, t[-1]])\n",
    "fig2.update_yaxes(title_text='Distance (m)', range=[0, d2[-1]], row=1, col=1)\n",
    "fig2.update_yaxes(title_text='Speed (m/s)', range=[0, v2[-1]], row=1, col=2)\n",
    "fig2.update_yaxes(title_text='Acceleration (m/s^2)', range=[0, a+1], row=1, col=3)\n",
    "fig2.show()"
   ]
  },
  {
   "cell_type": "markdown",
   "metadata": {},
   "source": [
    "Notice that with constant acceleration the speed shows a linear increase and the distance shows an exponential increase.\n",
    "\n",
    "Some equations used to describe uniformly accelerated motion are:\n",
    "\n",
    "$d = v_i t + \\frac{1}{2} a t^2$\n",
    "\n",
    "$d = v_f t - \\frac{1}{2} a t^2$\n",
    "\n",
    "$d = (\\frac{v_f + v_i}{2}) t$\n",
    "\n",
    "$v_f^2 = v_i^2 + 2ad$\n",
    "\n",
    "$a = \\frac{v_f - v_i}{t}$\n",
    "\n",
    "Where $v_i$ and $v_f$ are **i**nitial and **f**inal velocity (or speed).\n",
    "\n",
    "In equations involving distance, time, and acceleration we have $t^2$, which reminds us that distance will increase exponentially over time.\n",
    "\n",
    "## Conclusion\n",
    "\n",
    "In this notebook we looked at both **uniform motion** and **uniformly accelerated motion**, and how **time**, **distance** (or **displacement**), **speed** (or **velocity**), and **acceleration** are related."
   ]
  },
  {
   "cell_type": "markdown",
   "metadata": {},
   "source": [
    "[![Callysto.ca License](https://github.com/callysto/curriculum-notebooks/blob/master/callysto-notebook-banner-bottom.jpg?raw=true)](https://github.com/callysto/curriculum-notebooks/blob/master/LICENSE.md)"
   ]
  }
 ],
 "metadata": {
  "kernelspec": {
   "display_name": "Python 3 (ipykernel)",
   "language": "python",
   "name": "python3"
  },
  "language_info": {
   "codemirror_mode": {
    "name": "ipython",
    "version": 3
   },
   "file_extension": ".py",
   "mimetype": "text/x-python",
   "name": "python",
   "nbconvert_exporter": "python",
   "pygments_lexer": "ipython3",
   "version": "3.9.12"
  },
  "vscode": {
   "interpreter": {
    "hash": "d1ca6d17674200220921376aaeb3d36cffe15ecab2470a9a5e7a456cdbf61425"
   }
  }
 },
 "nbformat": 4,
 "nbformat_minor": 4
}
