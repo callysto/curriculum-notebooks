{
 "cells": [
  {
   "cell_type": "markdown",
   "metadata": {},
   "source": [
    "![Callysto.ca Banner](https://github.com/callysto/curriculum-notebooks/blob/master/callysto-notebook-banner-top.jpg?raw=true)\n",
    "\n",
    "<a href=\"https://hub.callysto.ca/jupyter/hub/user-redirect/git-pull?repo=https%3A%2F%2Fgithub.com%2Fcallysto%2Fcurriculum-notebooks&branch=master&subPath=Science/BlockBasedComputerScienceIntro/block-based-computer-science-intro.ipynb&depth=1\" target=\"_parent\"><img src=\"https://raw.githubusercontent.com/callysto/curriculum-notebooks/master/open-in-callysto-button.svg?sanitize=true\" width=\"123\" height=\"24\" alt=\"Open in Callysto\"/></a>"
   ]
  },
  {
   "cell_type": "markdown",
   "metadata": {},
   "source": [
    "# Introduction to Computer Science with Block-Based Code\n",
    "\n",
    "Computer science is the study of algorithms or ways of calculating. It is about making instructions that a computer can follow.\n",
    "\n",
    "In this notebook we will use a code blocks to make instructions for your computer. These blocks are from Blockly by Google for beginner-friendly block-based programming.\n",
    "\n",
    "It will also show the Python code that would do the same thing as the blocks. Python is a popular text-based programming language.\n",
    "\n",
    "Click the cell below that starts with `from`, then click the `►Run` button to display the block-based code editors."
   ]
  },
  {
   "cell_type": "code",
   "execution_count": null,
   "metadata": {},
   "outputs": [],
   "source": [
    "from IPython.display import Javascript, IFrame\n",
    "Javascript('Jupyter.notebook.execute_cell_range(4, 16);')"
   ]
  },
  {
   "cell_type": "markdown",
   "metadata": {},
   "source": [
    "## Algorithm 1 - Loop\n",
    "\n",
    "The first algorithm we will use generates 8 random numbers between 1 and 25. **Your challenge is to change the code so that it generates 5 random numbers between 0 and 9.**"
   ]
  },
  {
   "cell_type": "code",
   "execution_count": null,
   "metadata": {},
   "outputs": [],
   "source": [
    "IFrame('blockly-loop.html', 800, 800)"
   ]
  },
  {
   "cell_type": "markdown",
   "metadata": {},
   "source": [
    "## Algorithm 2 - If Then\n",
    "\n",
    "Next try using block-based coding to print the word `yes` **if** a randomly-generated number between `0` and `9` is greater than `4`.\n",
    "\n",
    "In Python the code would be:\n",
    "\n",
    "```python\n",
    "import random\n",
    "if random.randint(0, 9) > 4:\n",
    "  print('yes')\n",
    "```\n",
    "\n",
    "You will need to use all of the available blocks in the editor below."
   ]
  },
  {
   "cell_type": "code",
   "execution_count": null,
   "metadata": {},
   "outputs": [],
   "source": [
    "IFrame('blockly-if.html', 800, 600)"
   ]
  },
  {
   "cell_type": "markdown",
   "metadata": {},
   "source": [
    "## Algorithm 3 - If Then Else\n",
    "\n",
    "Now we want to print the word `yes` **if** a randomly-generated number between `0` and `9` is greater than `4`, and **otherwise** print `no`.\n",
    "\n",
    "In Python the code would be:\n",
    "\n",
    "```python\n",
    "import random\n",
    "if random.randint(0, 9) > 4:\n",
    "  print('yes')\n",
    "else:\n",
    "  print('no')\n",
    "```"
   ]
  },
  {
   "cell_type": "code",
   "execution_count": null,
   "metadata": {},
   "outputs": [],
   "source": [
    "IFrame('blockly-if-else.html', 800, 600)"
   ]
  },
  {
   "cell_type": "markdown",
   "metadata": {},
   "source": [
    "## Algorithm 4 - Loop If Then\n",
    "\n",
    "We can combine loops with `if` statements. In the block editor below see if you can create the following algorithm.\n",
    "\n",
    "```python\n",
    "import random\n",
    "for count in range(5):\n",
    "  if random.randint(0, 9) > 4:\n",
    "    print('yes')\n",
    "  else:\n",
    "    print('no')\n",
    "```\n",
    "\n",
    "To get an `else`, click the `⚙️` on the `if` block and drag the `else` to under the `if`."
   ]
  },
  {
   "cell_type": "code",
   "execution_count": null,
   "metadata": {},
   "outputs": [],
   "source": [
    "IFrame('blockly-loop-if.html', 820, 800)"
   ]
  },
  {
   "cell_type": "markdown",
   "metadata": {},
   "source": [
    "## Explore\n",
    "\n",
    "Now that you know how loops and if statements work, here is a full Blockly toolbox to experiment with."
   ]
  },
  {
   "cell_type": "code",
   "execution_count": null,
   "metadata": {},
   "outputs": [],
   "source": [
    "IFrame('blockly.html', 800, 800)"
   ]
  },
  {
   "cell_type": "code",
   "execution_count": null,
   "metadata": {},
   "outputs": [],
   "source": [
    "Javascript('Jupyter.notebook.scroll_to_cell(3, 1000);')"
   ]
  },
  {
   "cell_type": "markdown",
   "metadata": {},
   "source": [
    "# Conclusion\n",
    "\n",
    "In this notebook we used Blockly blocks to explore algorithms with loops and if statements. We translated from block-based coding to Python and from Python to blocks."
   ]
  },
  {
   "cell_type": "markdown",
   "metadata": {},
   "source": [
    "[![Callysto.ca License](https://github.com/callysto/curriculum-notebooks/blob/master/callysto-notebook-banner-bottom.jpg?raw=true)](https://github.com/callysto/curriculum-notebooks/blob/master/LICENSE.md)"
   ]
  }
 ],
 "metadata": {
  "kernelspec": {
   "display_name": "Python 3",
   "language": "python",
   "name": "python3"
  },
  "language_info": {
   "codemirror_mode": {
    "name": "ipython",
    "version": 3
   },
   "file_extension": ".py",
   "mimetype": "text/x-python",
   "name": "python",
   "nbconvert_exporter": "python",
   "pygments_lexer": "ipython3",
   "version": "3.8.3"
  }
 },
 "nbformat": 4,
 "nbformat_minor": 2
}
