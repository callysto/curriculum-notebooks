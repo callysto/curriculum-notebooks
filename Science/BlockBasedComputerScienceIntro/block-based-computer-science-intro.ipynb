{
 "cells": [
  {
   "cell_type": "markdown",
   "metadata": {},
   "source": []
  },
  {
   "cell_type": "markdown",
   "metadata": {},
   "source": [
    "# Introduction to Computer Science with Block-Based Code\n",
    "\n"
   ]
  },
  {
   "cell_type": "code",
   "execution_count": null,
   "metadata": {
    "scrolled": false
   },
   "outputs": [],
   "source": [
    "%%html\n",
    "<iframe src=\"blockly.html\" id=\"blockly\" width=\"700\" height=\"800\"></iframe>"
   ]
  },
  {
   "cell_type": "code",
   "execution_count": null,
   "metadata": {},
   "outputs": [],
   "source": []
  },
  {
   "cell_type": "code",
   "execution_count": null,
   "metadata": {},
   "outputs": [],
   "source": [
    "from IPython.display import Javascript\n",
    "Javascript('''\n",
    "var iframeContent = document.getElementById(\"blockly\").contentWindow;\n",
    "var pythonCode = iframeContent.document.getElementById(\"codeDisplay\").innerText;\n",
    "element.text(pythonCode);\n",
    "''')"
   ]
  },
  {
   "cell_type": "code",
   "execution_count": null,
   "metadata": {},
   "outputs": [],
   "source": []
  },
  {
   "cell_type": "code",
   "execution_count": 4,
   "metadata": {},
   "outputs": [
    {
     "data": {
      "text/html": [
       "<pre id=\"codeDisplay2\"></pre>"
      ],
      "text/plain": [
       "<IPython.core.display.HTML object>"
      ]
     },
     "metadata": {},
     "output_type": "display_data"
    },
    {
     "data": {
      "application/javascript": [
       "\n",
       "$.ajaxSetup({async: false});\n",
       "//$.getScript(\"https://unpkg.com/blockly/blockly_compressed.js\");\n",
       "//$.getScript(\"https://unpkg.com/blockly/blocks_compressed.js\");\n",
       "//$.getScript(\"https://unpkg.com/blockly/python_compressed.js\");\n",
       "//$.getScript(\"https://unpkg.com/blockly/msg/en.js\");\n",
       "//$.getScript(\"testing.js\");\n",
       "$.getScript(\"https://gist.githubusercontent.com/misterhay/d5e6232a0c7da229432f3afba03c6e66/raw/826d4319d28c8af37468b944322a2de16b3cb82a/testing.js\");\n",
       "$.ajaxSetup({async: true});\n",
       "var code = test();\n",
       "document.getElementById(\"codeDisplay2\").innerText = code;\n"
      ],
      "text/plain": [
       "<IPython.core.display.Javascript object>"
      ]
     },
     "execution_count": 4,
     "metadata": {},
     "output_type": "execute_result"
    }
   ],
   "source": [
    "# this doesn't work to import external scripts, but $.getScript(\"testing.js\"); does work\n",
    "from IPython.display import HTML, Javascript\n",
    "display(HTML('<pre id=\"codeDisplay2\"></pre>'))\n",
    "Javascript('''\n",
    "$.ajaxSetup({async: false});\n",
    "//$.getScript(\"https://unpkg.com/blockly/blockly_compressed.js\");\n",
    "//$.getScript(\"https://unpkg.com/blockly/blocks_compressed.js\");\n",
    "//$.getScript(\"https://unpkg.com/blockly/python_compressed.js\");\n",
    "//$.getScript(\"https://unpkg.com/blockly/msg/en.js\");\n",
    "//$.getScript(\"testing.js\");\n",
    "$.getScript(\"https://gist.githubusercontent.com/misterhay/d5e6232a0c7da229432f3afba03c6e66/raw/826d4319d28c8af37468b944322a2de16b3cb82a/testing.js\");\n",
    "$.ajaxSetup({async: true});\n",
    "var code = test();\n",
    "document.getElementById(\"codeDisplay2\").innerText = code;\n",
    "''')"
   ]
  },
  {
   "cell_type": "code",
   "execution_count": 28,
   "metadata": {},
   "outputs": [
    {
     "data": {
      "text/html": [
       "<pre id=\"codeDisplay2\"></pre>"
      ],
      "text/plain": [
       "<IPython.core.display.HTML object>"
      ]
     },
     "metadata": {},
     "output_type": "display_data"
    },
    {
     "data": {
      "application/javascript": [
       "\n",
       "$.ajaxSetup({async: false});\n",
       "var script = document.createElement('script');\n",
       "script.src = \"https://gist.githubusercontent.com/misterhay/d5e6232a0c7da229432f3afba03c6e66/raw/826d4319d28c8af37468b944322a2de16b3cb82a/testing.js\";\n",
       "document.body.appendChild(script);\n",
       "script.onload = function() {var code = test();alert(code);}\n",
       "script.onerror = function() {alert('failure');}\n",
       "$.ajaxSetup({async: true});\n",
       "var code = test();\n",
       "document.getElementById(\"codeDisplay2\").innerText = code;\n"
      ],
      "text/plain": [
       "<IPython.core.display.Javascript object>"
      ]
     },
     "execution_count": 28,
     "metadata": {},
     "output_type": "execute_result"
    }
   ],
   "source": [
    "from IPython.display import HTML, Javascript\n",
    "display(HTML('<pre id=\"codeDisplay2\"></pre>'))\n",
    "Javascript('''\n",
    "$.ajaxSetup({async: false});\n",
    "var script = document.createElement('script');\n",
    "script.src = \"https://gist.githubusercontent.com/misterhay/d5e6232a0c7da229432f3afba03c6e66/raw/826d4319d28c8af37468b944322a2de16b3cb82a/testing.js\";\n",
    "document.body.appendChild(script);\n",
    "script.onload = function() {alert('success');}\n",
    "script.onerror = function() {alert('failure');}\n",
    "$.ajaxSetup({async: true});\n",
    "var code = test();\n",
    "document.getElementById(\"codeDisplay2\").innerText = code;\n",
    "''')"
   ]
  },
  {
   "cell_type": "code",
   "execution_count": null,
   "metadata": {},
   "outputs": [],
   "source": [
    "# download Blockly JavaScript files\n",
    "import requests\n",
    "scripts = ['blockly_compressed','blocks_compressed','python_compressed','javascript_compressed']\n",
    "for script in scripts:\n",
    "    r = requests.get('https://unpkg.com/blockly/'+script+'.js')\n",
    "    file = open(script+'.js', 'wb')\n",
    "    file.write(r.content)\n",
    "    file.close"
   ]
  },
  {
   "cell_type": "code",
   "execution_count": 5,
   "metadata": {},
   "outputs": [
    {
     "data": {
      "application/javascript": [
       "\n",
       "$.ajaxSetup({async: false});\n",
       "$.getScript(\"blockly_compressed.js\");\n",
       "$.getScript(\"blocks_compressed.js\");\n",
       "$.getScript(\"python_compressed.js\");\n",
       "//$.getScript(\"javascript_compressed.js\");\n",
       "//$.getScript(\"https://unpkg.com/blockly/msg/en.js\");\n",
       "$.ajaxSetup({async: true});\n"
      ],
      "text/plain": [
       "<IPython.core.display.Javascript object>"
      ]
     },
     "execution_count": 5,
     "metadata": {},
     "output_type": "execute_result"
    }
   ],
   "source": [
    "from IPython.display import HTML, Javascript\n",
    "\n",
    "Javascript('''\n",
    "$.ajaxSetup({async: false});\n",
    "$.getScript(\"blockly_compressed.js\");\n",
    "$.getScript(\"blocks_compressed.js\");\n",
    "$.getScript(\"python_compressed.js\");\n",
    "//$.getScript(\"javascript_compressed.js\");\n",
    "//$.getScript(\"https://unpkg.com/blockly/msg/en.js\");\n",
    "$.ajaxSetup({async: true});\n",
    "''')"
   ]
  },
  {
   "cell_type": "code",
   "execution_count": 15,
   "metadata": {},
   "outputs": [
    {
     "data": {
      "text/html": [
       "\n",
       "<div id=\"blocklyDiv\" style=\"height: 520px; width: 680px;\"></div>\n",
       "<pre id=\"codeDisplay\">Loaded</pre>\n",
       "<xml xmlns=\"https://developers.google.com/blockly/xml\" id=\"toolbox\" style=\"display: none\">\n",
       "    <block type=\"controls_repeat_ext\"></block>\n",
       "    <block type=\"controls_if\"></block>\n",
       "    <block type=\"logic_compare\"></block>\n",
       "    <block type=\"math_number\"><field name=\"NUM\">42</field></block>\n",
       "    <block type=\"math_arithmetic\"></block>\n",
       "    <block type=\"math_random_int\">\n",
       "        <value name=\"FROM\"><block type=\"math_number\"><field name=\"NUM\">1</field></block></value>\n",
       "        <value name=\"TO\"><block type=\"math_number\"><field name=\"NUM\">50</field></block></value>\n",
       "      </block>\n",
       "    <block type=\"text\"><field name=\"TEXT\">text</field></block>\n",
       "    <block type=\"text_print\"></block>\n",
       "    </category>\n",
       "</xml>\n"
      ],
      "text/plain": [
       "<IPython.core.display.HTML object>"
      ]
     },
     "metadata": {},
     "output_type": "display_data"
    },
    {
     "data": {
      "application/javascript": [
       "\n",
       "//alert('starting');\n",
       "$.ajaxSetup({async: false});\n",
       "var script = document.createElement('script');\n",
       "script.src = \"https://unpkg.com/blockly/blockly_compressed.js\";\n",
       "var script2 = document.createElement('script');\n",
       "script2.src = \"https://unpkg.com/blockly/blocks_compressed.js\";\n",
       "var script3 = document.createElement('script');\n",
       "script3.src = \"https://unpkg.com/blockly/python_compressed.js\";\n",
       "var script4 = document.createElement('script');\n",
       "script4.src = \"https://unpkg.com/blockly/javascript_compressed.js\";\n",
       "script4.onload = function() {alert('success');}\n",
       "script4.onerror = function() {alert('failure');}\n",
       "document.body.appendChild(script);\n",
       "document.body.appendChild(script2);\n",
       "document.body.appendChild(script3);\n",
       "document.body.appendChild(script4);\n",
       "$.ajaxSetup({async: true});\n",
       "//document.createElement('script').src = \"https://unpkg.com/blockly/blocks_compressed.js\";\n",
       "//document.createElement('script').src = \"https://unpkg.com/blockly/python_compressed.js\";\n",
       "//document.createElement('script').src = \"https://unpkg.com/blockly/javascript_compressed.js\";\n",
       "//document.createElement('script').src = \"https://unpkg.com/blockly/msg/en.js\";\n",
       "\n",
       "var workspace = Blockly.inject('blocklyDiv', \n",
       "    {media: 'https://unpkg.com/blockly/media/', \n",
       "    toolbox: document.getElementById('toolbox')});\n",
       "\n",
       "function showCode() {\n",
       "    var code = Blockly.Python.workspaceToCode(workspace);\n",
       "    document.getElementById(\"codeDisplay\").innerText = code;\n",
       "    }\n",
       "\n",
       "workspace.addChangeListener(showCode);\n",
       "\n"
      ],
      "text/plain": [
       "<IPython.core.display.Javascript object>"
      ]
     },
     "metadata": {},
     "output_type": "display_data"
    }
   ],
   "source": [
    "# not sure why this isn't loading Blockly\n",
    "\n",
    "from IPython.display import HTML, Javascript\n",
    "\n",
    "display(HTML('''\n",
    "<div id=\"blocklyDiv\" style=\"height: 520px; width: 680px;\"></div>\n",
    "<pre id=\"codeDisplay\">Loaded</pre>\n",
    "<xml xmlns=\"https://developers.google.com/blockly/xml\" id=\"toolbox\" style=\"display: none\">\n",
    "    <block type=\"controls_repeat_ext\"></block>\n",
    "    <block type=\"controls_if\"></block>\n",
    "    <block type=\"logic_compare\"></block>\n",
    "    <block type=\"math_number\"><field name=\"NUM\">42</field></block>\n",
    "    <block type=\"math_arithmetic\"></block>\n",
    "    <block type=\"math_random_int\">\n",
    "        <value name=\"FROM\"><block type=\"math_number\"><field name=\"NUM\">1</field></block></value>\n",
    "        <value name=\"TO\"><block type=\"math_number\"><field name=\"NUM\">50</field></block></value>\n",
    "      </block>\n",
    "    <block type=\"text\"><field name=\"TEXT\">text</field></block>\n",
    "    <block type=\"text_print\"></block>\n",
    "    </category>\n",
    "</xml>\n",
    "'''))\n",
    "\n",
    "display(Javascript('''\n",
    "//alert('starting');\n",
    "$.ajaxSetup({async: false});\n",
    "var script = document.createElement('script');\n",
    "script.src = \"https://unpkg.com/blockly/blockly_compressed.js\";\n",
    "var script2 = document.createElement('script');\n",
    "script2.src = \"https://unpkg.com/blockly/blocks_compressed.js\";\n",
    "var script3 = document.createElement('script');\n",
    "script3.src = \"https://unpkg.com/blockly/python_compressed.js\";\n",
    "var script4 = document.createElement('script');\n",
    "script4.src = \"https://unpkg.com/blockly/javascript_compressed.js\";\n",
    "script4.onload = function() {alert('success');}\n",
    "script4.onerror = function() {alert('failure');}\n",
    "document.body.appendChild(script);\n",
    "document.body.appendChild(script2);\n",
    "document.body.appendChild(script3);\n",
    "document.body.appendChild(script4);\n",
    "$.ajaxSetup({async: true});\n",
    "//document.createElement('script').src = \"https://unpkg.com/blockly/blocks_compressed.js\";\n",
    "//document.createElement('script').src = \"https://unpkg.com/blockly/python_compressed.js\";\n",
    "//document.createElement('script').src = \"https://unpkg.com/blockly/javascript_compressed.js\";\n",
    "//document.createElement('script').src = \"https://unpkg.com/blockly/msg/en.js\";\n",
    "\n",
    "var workspace = Blockly.inject('blocklyDiv', \n",
    "    {media: 'https://unpkg.com/blockly/media/', \n",
    "    toolbox: document.getElementById('toolbox')});\n",
    "\n",
    "function showCode() {\n",
    "    var code = Blockly.Python.workspaceToCode(workspace);\n",
    "    document.getElementById(\"codeDisplay\").innerText = code;\n",
    "    }\n",
    "\n",
    "workspace.addChangeListener(showCode);\n",
    "\n",
    "'''))"
   ]
  },
  {
   "cell_type": "code",
   "execution_count": null,
   "metadata": {},
   "outputs": [],
   "source": []
  },
  {
   "cell_type": "code",
   "execution_count": null,
   "metadata": {},
   "outputs": [],
   "source": []
  },
  {
   "cell_type": "markdown",
   "metadata": {},
   "source": []
  }
 ],
 "metadata": {
  "kernelspec": {
   "display_name": "Python 3",
   "language": "python",
   "name": "python3"
  },
  "language_info": {
   "codemirror_mode": {
    "name": "ipython",
    "version": 3
   },
   "file_extension": ".py",
   "mimetype": "text/x-python",
   "name": "python",
   "nbconvert_exporter": "python",
   "pygments_lexer": "ipython3",
   "version": "3.7.3"
  }
 },
 "nbformat": 4,
 "nbformat_minor": 2
}
