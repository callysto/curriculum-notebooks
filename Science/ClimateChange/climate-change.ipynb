{
 "cells": [
  {
   "cell_type": "markdown",
   "metadata": {},
   "source": [
    "![Callysto.ca Banner](https://github.com/callysto/curriculum-notebooks/blob/master/callysto-notebook-banner-top.jpg?raw=true)\n",
    " \n",
    "<a href=\"https://hub.callysto.ca/jupyter/hub/user-redirect/git-pull?repo=https%3A%2F%2Fgithub.com%2Fcallysto%2Fcurriculum-notebooks&branch=master&subPath=Science/ClimateChange/climate-change.ipynb&depth=1\" target=\"_parent\"><img src=\"https://raw.githubusercontent.com/callysto/curriculum-notebooks/master/open-in-callysto-button.svg?sanitize=true\" width=\"123\" height=\"24\" alt=\"Open in Callysto\"></a>"
   ]
  },
  {
   "cell_type": "markdown",
   "metadata": {},
   "source": [
    "# Climate Change\n",
    "\n",
    "## What do we know?\n",
    "\n",
    "The Earth's climate has been subject to changes throughout history and most of these can be attributed to variations in Earth's orbit resulting in the amount of solar energy that is received. The reason behind significant increase in warming trend since the industrial revolution is extremely likely to be the result of human activity.\n",
    "\n",
    "Earth is a complex integrated system of components and processes. A disturbance in one component can have unprecedented and irreversible effects over another component.\n",
    "\n",
    "## How do we know it?\n",
    "\n",
    "Earth-orbiting satellites and other scientific advancements have made it possible to understand Earth on a global scale and have enabled scientists to collect many different types of information about our planet, its climate and use it to analyze how it has changed over the years. \n",
    "\n",
    "It is important to understand the evidence available for global climate change and the potential impacts it can cause in order to address the challenges that we may face. Knowing how these Earth systems have changed in the past and how they are changing in response to climate change now will help us understand how they will likely change in the future.\n",
    "\n",
    "Scientists gather data on global temperature, Carbon dioxide in the atmosphere, Arctic sea ice, land ice and sea level on a regular basis to analyze and understand how climate is changing over the years."
   ]
  },
  {
   "cell_type": "markdown",
   "metadata": {},
   "source": [
    "## Evidence for rapid climate change\n",
    "\n",
    "### Evidence 1 : Global Land-Ocean Temperature index\n",
    "\n",
    "Data Source & Inspiration: [NASA Global Climate Change](https://climate.nasa.gov/vital-signs/global-temperature/).\n",
    "\n",
    "An increase in carbon dioxide and other human-made emissions into the atmosphere has caused our planet's average surface temperature to rise by 1.1 degrees Celsius since the late nineteenth century.\n",
    "\n",
    "`▶Run` the following code cell to see a visualization created by NASA's scientific visualization studio showing the Global temperature anomalies from 1880 to 2017."
   ]
  },
  {
   "cell_type": "code",
   "execution_count": null,
   "metadata": {},
   "outputs": [],
   "source": [
    "from IPython.display import YouTubeVideo\n",
    "YouTubeVideo('xlrFFiSROmg')"
   ]
  },
  {
   "cell_type": "markdown",
   "metadata": {},
   "source": [
    "#### Code Libraries\n",
    "\n",
    "The next code cell imports a number of code libraries that we will use in this notebook."
   ]
  },
  {
   "cell_type": "code",
   "execution_count": null,
   "metadata": {},
   "outputs": [],
   "source": [
    "import pandas as pd\n",
    "import matplotlib.pyplot as plt\n",
    "import matplotlib.animation as animation\n",
    "%matplotlib inline\n",
    "import plotly.graph_objs as go\n",
    "import cartopy.crs as ccrs\n",
    "import imageio\n",
    "import os\n",
    "import numpy as np\n",
    "from datetime import timedelta, datetime\n",
    "from IPython.display import Image\n",
    "\n",
    "print('Code libraries imported')"
   ]
  },
  {
   "cell_type": "code",
   "execution_count": null,
   "metadata": {},
   "outputs": [],
   "source": [
    "try:\n",
    "    climate_data_url = 'https://climate.nasa.gov/system/internal_resources/details/original/647_Global_Temperature_Data_File.txt'\n",
    "    global_temperature_df = pd.read_csv(climate_data_url, sep='\\s+', skiprows=[0, 1, 2, 4])\n",
    "except:\n",
    "    climate_data_url = 'https://raw.githubusercontent.com/callysto/data-files/main/Science/ClimateChange/data/647_Global_Temperature_Data_File.txt'\n",
    "    global_temperature_df = pd.read_csv(climate_data_url, sep='\\s+', skiprows=[0, 1, 2, 4])\n",
    "\n",
    "global_temperature_df.rename(columns={'No_Smoothing':'Annual Mean', 'Lowess(5)':'Lowess Smoothing'}, inplace=True)\n",
    "\n",
    "trace0 = go.Scatter(\n",
    "    x = global_temperature_df['Year'],\n",
    "    y = global_temperature_df['Annual Mean'],\n",
    "    mode = 'lines+markers',\n",
    "    name = 'Annual Mean'\n",
    ")\n",
    "\n",
    "trace1 = go.Scatter(\n",
    "    x = global_temperature_df['Year'],\n",
    "    y = global_temperature_df['Lowess Smoothing'],\n",
    "    mode = 'lines+markers',\n",
    "    name = 'Lowess Smoothing'\n",
    ")\n",
    "\n",
    "data = [trace0,trace1]\n",
    "layout = go.Layout(dict(title='Global Land-Ocean Temperature Index'),\n",
    "                   xaxis=dict(title='Year'),\n",
    "                   yaxis=dict(title='Temperature Anomaly')\n",
    ")\n",
    "fig = go.Figure(data=data,layout=layout)\n",
    "fig.show()"
   ]
  },
  {
   "cell_type": "markdown",
   "metadata": {},
   "source": [
    "This graph illustrates the change in global surface temperature relative to 1951-1980 average temperatures. Seventeen of the 18 warmest years in the 136-year record all have occurred since 2001, with the exception of 1998. The year 2016 ranks as the warmest on record.\n",
    "\n",
    "By looking at the graph above and the video, one can see that 2016 was the warmest year since modern record keeping began."
   ]
  },
  {
   "cell_type": "markdown",
   "metadata": {},
   "source": [
    "### Evidence 2: Decline in Extent and Thickness of Arctic Sea Ice\n",
    "\n",
    "Scientists keep a close eye on Arctic sea ice as it warms through the years and it is found to be shrinking by about 13.2% per decade, relative to the 1981 to 2010 average.\n",
    "\n",
    "Sea ice *area* and *extent* are two different measures and they provide different information. **Sea ice extent** is a measure of edges of sea ice and all of the space inside it, while **sea ice area** is a measure of where there is ice only, not including the areas that doesn't have ice. Extent is always a larger number than area when compared at the same period of time.\n",
    "\n",
    "Decreases in both sea ice extent and area impact a wide variety of marine life that sustain in the Arctic right from single-celled algae to bowhead whales, polar bears, and other mammals, as well as indigenous people who rely on sea ice for transportation and hunting.\n",
    "\n",
    "The data used below are curated by NASA's global climate change initiative, originally pulled from the [National Snow and Ice Data Center](https://nsidc.org/)."
   ]
  },
  {
   "cell_type": "code",
   "execution_count": null,
   "metadata": {},
   "outputs": [],
   "source": [
    "try:\n",
    "    url = 'https://climate.nasa.gov/system/internal_resources/details/original/1270_minimum_extents_and_area_north_SBA_reg_20171001_2_.txt'\n",
    "    arctic_ice_df = pd.read_csv(url, sep='\\s+', skiprows=[0,1,2,3],header=None, names=['Year', 'MN', 'DY', 'Ice Extent', 'Year1', 'MN1', 'DY1', 'Ice Area'])\n",
    "except:\n",
    "    url = 'https://raw.githubusercontent.com/callysto/data-files/main/Science/ClimateChange/data/1270_minimum_extents_and_area_north_SBA_reg_20171001_2_.txt'\n",
    "    arctic_ice_df = pd.read_csv(url, sep='\\s+', skiprows=[0,1,2,3],header=None, names=['Year', 'MN', 'DY', 'Ice Extent', 'Year1', 'MN1', 'DY1', 'Ice Area'])\n",
    "\n",
    "arctic_ice_df.head(10)"
   ]
  },
  {
   "cell_type": "code",
   "execution_count": null,
   "metadata": {},
   "outputs": [],
   "source": [
    "trace0 = go.Scatter(\n",
    "    x = arctic_ice_df['Year'],\n",
    "    y = arctic_ice_df['Ice Extent'],\n",
    "    mode = 'lines+markers',\n",
    "    name = 'Ice Extent'\n",
    ")\n",
    "\n",
    "trace1 = go.Scatter(\n",
    "x = arctic_ice_df['Year'],\n",
    "y = arctic_ice_df['Ice Area'],\n",
    "mode = 'lines+markers',\n",
    "#opacity = 0.5,\n",
    "name='Ice Area',\n",
    "#hoverinfo = 'none'\n",
    ")\n",
    "data = [trace0, trace1]\n",
    "layout = go.Layout(dict(title='Arctic Sea Ice Index'),\n",
    "                   xaxis=dict(title='Year'),\n",
    "                   yaxis=dict(title='Million Square Kilometers')\n",
    ")\n",
    "fig = go.Figure(data=data,layout=layout)\n",
    "fig.show()"
   ]
  },
  {
   "cell_type": "markdown",
   "metadata": {},
   "source": [
    "The code below generates an animation that represent sea ice concentration data from the [NASA Distributed Active Archive Center](https://nsidc.org/daac) at [National Snow & Ice Data Center](https://nsidc.org/).\n",
    "\n",
    "*Data Source: Maslanik, J. and J. Stroeve. 1999, updated daily. Near-Real-Time DMSP SSMIS Daily Polar Gridded Sea Ice Concentrations, Version 1. Boulder, Colorado USA. NASA National Snow and Ice Data Center Distributed Active Archive Center. doi: https://doi.org/10.5067/U8C09DWVX9LM. [April 2018]*"
   ]
  },
  {
   "cell_type": "code",
   "execution_count": null,
   "metadata": {},
   "outputs": [],
   "source": [
    "sea_ice = ['./data/nt_20150418_f17_nrt_n.bin','./data/nt_20160331_f17_nrt_n.bin','./data/nt_20170418_f18_nrt_n.bin','./data/nt_20180423_f18_nrt_n.bin']\n",
    "\n",
    "def prepare_data(ice_data):\n",
    "    with open(ice_data, 'rb') as fr:\n",
    "        hdr = fr.read(300)\n",
    "        ice = np.fromfile(fr, dtype=np.uint8)\n",
    "\n",
    "    ice = ice.reshape(448, 304)\n",
    "\n",
    "    ice = ice / 250.\n",
    "\n",
    "    ice = np.ma.masked_greater(ice, 1.0)\n",
    "    dx = dy = 25000\n",
    "    x = np.arange(-3850000, +3750000, +dx)\n",
    "    y = np.arange(+5850000, -5350000, -dy)\n",
    "    return x, y, ice\n",
    "\n",
    "fig = plt.figure(figsize=(9,9))\n",
    "ax = plt.axes(projection=ccrs.NorthPolarStereo(central_longitude=0))\n",
    "i=2015\n",
    "for ice_data in sea_ice:\n",
    "    x, y, ice = prepare_data(ice_data)\n",
    "    cs = ax.coastlines(resolution='110m', linewidth=0.5)\n",
    "    ax.gridlines()\n",
    "    ax.set_extent([-180, 180, 40, 90], crs=ccrs.PlateCarree())\n",
    "    kw = dict(central_latitude=90, central_longitude=-45, true_scale_latitude=70)\n",
    "    cs = ax.pcolormesh(x, y, ice, cmap=plt.cm.Blues,\n",
    "                   transform=ccrs.Stereographic(**kw))\n",
    "    fig.suptitle(\"April %s\" %(i))\n",
    "    fig.savefig(f'frames/frame_{i}.png', dpi=100, facecolor='white')\n",
    "    i+=1   \n",
    "plt.close(fig)\n",
    "\n",
    "png_dir = \"./frames/\"\n",
    "images = []\n",
    "for subdir, dirs, files in os.walk(png_dir):\n",
    "    files = sorted(files)\n",
    "    for file in files:\n",
    "        file_path = os.path.join(subdir, file)\n",
    "        if file_path.endswith(\".png\"):\n",
    "            images.append(imageio.v2.imread(file_path))\n",
    "kargs = { 'duration': 2 }\n",
    "imageio.mimsave('./gif/ice_concentration.gif', images, **kargs)\n",
    "\n",
    "image_animation = Image('gif/ice_concentration.gif')\n",
    "image_animation"
   ]
  },
  {
   "cell_type": "markdown",
   "metadata": {},
   "source": [
    "The animation shows visualization of sea ice concentration data taken in the month of April in the years 2015 to 2018. We can see the reduction in extent of sea ice over these years."
   ]
  },
  {
   "cell_type": "markdown",
   "metadata": {},
   "source": [
    "### Evidence 3: Sea Level Rise\n",
    "\n",
    "The Global Mean Sea Level (GMSL) increases due to thermal expansion of water and by melting of ice sheets and glaciers on land. As sea water levels increase and reach inland, it can cause erosion, more flooding, lost of habitat for fish, birds, and plants. It also affects lives of millions of people who live in sea water flood prone low lying islands and other coastal regions.\n",
    "\n",
    "The GMSL has risen about 80 mm since 1992 at an annual rate of about 2.9 mm. Below you will see [National Oceanic and Atmospheric Administration (NOAA)](https://www.noaa.gov) data that illustrate changes in the Global mean sea level since 1992.\n",
    "\n",
    "Data are acquired from satellite radar altimeter measurements from the TOPEX - Poseidon (TP), Jason-1, Jason-2, and Jason-3 Satellite missions. Altimetry data are provided by the [NOAA Laboratory for Satellite Altimetry](https://www.star.nesdis.noaa.gov/socd/lsa/)."
   ]
  },
  {
   "cell_type": "code",
   "execution_count": null,
   "metadata": {},
   "outputs": [],
   "source": [
    "try:\n",
    "    sea_level_url = 'https://www.star.nesdis.noaa.gov/sod/lsa/SeaLevelRise/slr/slr_sla_gbl_keep_all_66.csv' \n",
    "    sea_level_df = pd.read_csv(sea_level_url, sep=',', skiprows=[0,1,2,3,4,5],header=None, names=['Year', 'TP', 'Jason-1', 'Jason-2', 'Jason-3'])\n",
    "except:\n",
    "    sea_level_url = 'https://raw.githubusercontent.com/callysto/data-files/main/Science/ClimateChange/data/slr_sla_gbl_keep_all_66.csv' \n",
    "    sea_level_df = pd.read_csv(sea_level_url, sep=',', skiprows=[0,1,2,3,4,5],header=None, names=['Year', 'TP', 'Jason-1', 'Jason-2', 'Jason-3'])\n",
    "\n",
    "def convert_partial_year(number):\n",
    "    year = int(number)\n",
    "    d = timedelta(days=(number - year)*365)\n",
    "    day_one = datetime(year,1,1)\n",
    "    date = d + day_one\n",
    "    return date\n",
    "\n",
    "sea_level_df['Date'] = sea_level_df['Year'].apply(convert_partial_year)\n",
    "\n",
    "trace0 = go.Scatter(\n",
    "    x = sea_level_df['Date'],\n",
    "    y = sea_level_df['TP'],\n",
    "    mode = 'lines+markers',\n",
    "    name = 'TOPEX-Poseiden'\n",
    ")\n",
    "\n",
    "trace1 = go.Scatter(\n",
    "    x = sea_level_df['Date'],\n",
    "    y = sea_level_df['Jason-1'],\n",
    "    mode = 'lines+markers',\n",
    "    name = 'Jason-1'\n",
    ")\n",
    "\n",
    "trace2 = go.Scatter(\n",
    "    x = sea_level_df['Date'],\n",
    "    y = sea_level_df['Jason-2'],\n",
    "    mode = 'lines+markers',\n",
    "    name = 'Jason-2'\n",
    ")\n",
    "\n",
    "trace3 = go.Scatter(\n",
    "    x = sea_level_df['Date'],\n",
    "    y = sea_level_df['Jason-3'],\n",
    "    mode = 'lines+markers',\n",
    "    name = 'Jason-3'\n",
    ")\n",
    "\n",
    "data = [trace0,trace1,trace2,trace3]\n",
    "layout = go.Layout(dict(title='Change in Global Mean Sea Level from Satellite Altimetry'),\n",
    "                   xaxis=dict(title='Date'),\n",
    "                   yaxis=dict(title='Change in Mean Sea Level (mm)')\n",
    ")\n",
    "fig = go.Figure(data=data,layout=layout)\n",
    "fig.show()"
   ]
  },
  {
   "cell_type": "markdown",
   "metadata": {},
   "source": [
    "### Some Questions to Consider"
   ]
  },
  {
   "cell_type": "markdown",
   "metadata": {},
   "source": [
    "#### Temperature Anomalies Recorded in Canada:\n",
    "\n",
    "The graph below illustrates the change in annual average temperature compared to the 30 year average reference value (measured between 1961 - 1990). The data were obtained from Government of Canada's [Open Data Portal](https://open.canada.ca/data/en/dataset/49118c5d-850c-40bd-af75-4f47650a9800).\n",
    "\n",
    "Take a look at the graph and answer the questions that follow."
   ]
  },
  {
   "cell_type": "code",
   "execution_count": null,
   "metadata": {},
   "outputs": [],
   "source": [
    "try:\n",
    "    ca_url = 'https://www.canada.ca/content/dam/eccc/documents/csv/cesindicators/temperature-change/2019/Temperature-change-annual-en.csv'\n",
    "    ca_df = pd.read_csv(ca_url, encoding='iso-8859-1', skiprows=[0,1,74,75,76,77])\n",
    "except:\n",
    "    ca_url = 'https://raw.githubusercontent.com/callysto/data-files/main/Science/ClimateChange/data/Temperature-change-annual-en.csv'\n",
    "    ca_df = pd.read_csv(ca_url, encoding='iso-8859-1', skiprows=[0,1,74,75,76,77])\n",
    "\n",
    "trace0 = go.Scatter(\n",
    "    x = ca_df['Year'],\n",
    "    y = ca_df['Temperature departure (degree Celsius)'],\n",
    "    mode = 'lines+markers',\n",
    "    name = 'Annual Mean'\n",
    ")\n",
    "\n",
    "trace1 = go.Scatter(\n",
    "x = ca_df['Year'],\n",
    "y = [0]*len(ca_df['Temperature departure (degree Celsius)']),\n",
    "mode = 'lines',\n",
    "opacity = 0.5,\n",
    "name='Reference value',\n",
    "hoverinfo = 'none'\n",
    ")\n",
    "data = [trace0, trace1]\n",
    "layout = go.Layout(dict(title='Change in Annual Average Temperature in Canada'),\n",
    "                   xaxis=dict(title='Year'),\n",
    "                   yaxis=dict(title='Temperature Departure (Celsius)')\n",
    ")\n",
    "fig = go.Figure(data=data,layout=layout)\n",
    "fig.show()"
   ]
  },
  {
   "cell_type": "markdown",
   "metadata": {},
   "source": [
    "1. What was the warmest and coldest year in Canada and by how much was it above or below the reference value?"
   ]
  },
  {
   "cell_type": "markdown",
   "metadata": {},
   "source": [
    "_Type answers here._"
   ]
  },
  {
   "cell_type": "markdown",
   "metadata": {},
   "source": [
    "2. Do you see a trend in the annual average temperature departure? Is it an upward or downward trend and what does it signify?"
   ]
  },
  {
   "cell_type": "markdown",
   "metadata": {},
   "source": [
    "_Type answers here._"
   ]
  },
  {
   "cell_type": "markdown",
   "metadata": {},
   "source": [
    "### Looking towards the future\n",
    "\n",
    "Up until now we've looked at past data to see how we can measure humanity's impact on the earth's climate over the past few decades (or centuries), and the trend is noticeable.\n",
    "\n",
    "The Intergovernmental Panel on Climate Change (IPCC) released their [Sixth Assessment Report](https://www.ipcc.ch/assessment-report/ar6/) in 2021/2022 that laid out several scenarios ([Shared Socioeconomic Pathways](https://en.wikipedia.org/wiki/Shared_Socioeconomic_Pathways)) for the future of the planet, depending on what changes are made to slow climate change. The scenarios run from the most optimistic (i.e. the most drastic measures to limit climate change) to the most dire (i.e. fully embracing a fossil fuel-based economy):\n",
    "\n",
    "#### SSP1: Sustainability (Taking the Green Road)\n",
    "Immediate and widespread changes to how humans interact with the environment, focusing on reducing inequality and overall consumption.\n",
    "\n",
    "#### SSP2: Middle of the road\n",
    "Smaller changes to the status quo, with limited improvement and no special attention paid to addressing developing nations.\n",
    "\n",
    "#### SSP3: Regional rivalry (A Rocky Road)\n",
    "Further geographic isolation and competitiveness as nations place their domestic needs ahead of larger plans for worldwide strategies to address climate change.\n",
    "\n",
    "#### SSP5: Fossil-Fueled Development (Taking the Highway)\n",
    "Driven by the exploitation of natural resources, innovation is focused on addressing the effects of climate change instead of the causes\n",
    "\n",
    "\n",
    "Also included in these scenarios are predictions for the changing surface temperature of the earth between now and 2100. We can investigate those changes in the plot below:"
   ]
  },
  {
   "cell_type": "code",
   "execution_count": null,
   "metadata": {},
   "outputs": [],
   "source": [
    "# Download and wrangle data\n",
    "ssp1_url = 'https://raw.githubusercontent.com/IPCC-WG1/Atlas/main/datasets-aggregated-regionally/data/CMIP6/CMIP6_tas_land/CMIP6_MRI-ESM2-0_ssp126_r1i1p1f1.csv'\n",
    "ssp2_url = 'https://raw.githubusercontent.com/IPCC-WG1/Atlas/main/datasets-aggregated-regionally/data/CMIP6/CMIP6_tas_land/CMIP6_MRI-ESM2-0_ssp245_r1i1p1f1.csv'\n",
    "ssp3_url = 'https://raw.githubusercontent.com/IPCC-WG1/Atlas/main/datasets-aggregated-regionally/data/CMIP6/CMIP6_tas_land/CMIP6_MRI-ESM2-0_ssp370_r1i1p1f1.csv'\n",
    "ssp5_url = 'https://raw.githubusercontent.com/IPCC-WG1/Atlas/main/datasets-aggregated-regionally/data/CMIP6/CMIP6_tas_land/CMIP6_MRI-ESM2-0_ssp585_r1i1p1f1.csv'\n",
    "\n",
    "ssp1_df = pd.read_csv(ssp1_url,\n",
    "                      engine='python',\n",
    "                      skiprows=15,\n",
    "                      usecols=['date', 'world']\n",
    "                      )\n",
    "ssp2_df = pd.read_csv(ssp2_url,\n",
    "                      engine='python',\n",
    "                      skiprows=15,\n",
    "                      usecols=['date', 'world']\n",
    "                      )\n",
    "ssp3_df = pd.read_csv(ssp3_url,\n",
    "                      engine='python',\n",
    "                      skiprows=15,\n",
    "                      usecols=['date', 'world']\n",
    "                      )\n",
    "ssp5_df = pd.read_csv(ssp5_url,\n",
    "                      engine='python',\n",
    "                      skiprows=15,\n",
    "                      usecols=['date', 'world']\n",
    "                      )"
   ]
  },
  {
   "cell_type": "code",
   "execution_count": null,
   "metadata": {},
   "outputs": [],
   "source": [
    "fig = go.Figure(data=go.Scatter(x=ssp5_df.iloc[::12]['date'], \n",
    "                                y=ssp5_df.iloc[::12]['world'],\n",
    "                                name = 'SSP5: Fossil-fueled Development (Taking the Highway)'))\n",
    "fig.add_trace(go.Scatter(x=ssp3_df.iloc[::12]['date'], \n",
    "                         y=ssp3_df.iloc[::12]['world'],\n",
    "                         mode='lines',\n",
    "                         name='SSP3: Regional Rivalry (A Rocky Road)'))\n",
    "fig.add_trace(go.Scatter(x=ssp2_df.iloc[::12]['date'], \n",
    "                         y=ssp2_df.iloc[::12]['world'],\n",
    "                         mode='lines',\n",
    "                         name='SSP2: Middle of the Road'))\n",
    "\n",
    "fig.add_trace(go.Scatter(x=ssp1_df.iloc[::12]['date'], \n",
    "                         y=ssp1_df.iloc[::12]['world'],\n",
    "                         mode='lines',\n",
    "                         name='SSP1: Sustainability (Taking the Green Road)'))\n",
    "\n",
    "fig.update_layout(title='IPCC Predicted Mean World Surface Temperature (January)',\n",
    "                  xaxis_title='Year',\n",
    "                  yaxis_title='Temperature (degrees C)',\n",
    "                  legend_title_text='IPCC Scenario',\n",
    "                  legend=dict(x=0.015, y=0.985, bgcolor='rgba(0,0,0,0)'))\n",
    "\n",
    "fig.show()"
   ]
  },
  {
   "cell_type": "markdown",
   "metadata": {},
   "source": [
    "## Measure your own carbon footprint!\n",
    "\n",
    "Go to the tool below and enter your responses\n",
    "\n",
    "[Footprint Calculator](https://www.footprintcalculator.org/home/en)"
   ]
  },
  {
   "cell_type": "markdown",
   "metadata": {},
   "source": [
    "## Conclusion\n",
    "\n",
    "This notebook used data about global temperatures, arctic sea ice, and global sea level to demonstrate evidence for climate change due to human impact."
   ]
  },
  {
   "cell_type": "markdown",
   "metadata": {},
   "source": [
    "[![Callysto.ca License](https://github.com/callysto/curriculum-notebooks/blob/master/callysto-notebook-banner-bottom.jpg?raw=true)](https://github.com/callysto/curriculum-notebooks/blob/master/LICENSE.md)"
   ]
  }
 ],
 "metadata": {
  "kernelspec": {
   "display_name": "Python 3",
   "language": "python",
   "name": "python3"
  },
  "language_info": {
   "codemirror_mode": {
    "name": "ipython",
    "version": 3
   },
   "file_extension": ".py",
   "mimetype": "text/x-python",
   "name": "python",
   "nbconvert_exporter": "python",
   "pygments_lexer": "ipython3",
   "version": "3.10.6"
  },
  "vscode": {
   "interpreter": {
    "hash": "916dbcbb3f70747c44a77c7bcd40155683ae19c65e1c03b4aa3499c5328201f1"
   }
  }
 },
 "nbformat": 4,
 "nbformat_minor": 4
}
