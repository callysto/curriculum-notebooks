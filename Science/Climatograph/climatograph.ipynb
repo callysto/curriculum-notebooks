{
 "cells": [
  {
   "cell_type": "markdown",
   "metadata": {},
   "source": [
    "![Callysto.ca Banner](https://github.com/callysto/curriculum-notebooks/blob/master/callysto-notebook-banner-top.jpg?raw=true)\n",
    "\n",
    "<a href=\"https://hub.callysto.ca/jupyter/hub/user-redirect/git-pull?repo=https%3A%2F%2Fgithub.com%2Fcallysto%2Fcurriculum-notebooks&branch=master&subPath=Science/Climatograph/climatograph.ipynb&depth=1\" target=\"_parent\"><img src=\"https://raw.githubusercontent.com/callysto/curriculum-notebooks/master/open-in-callysto-button.svg?sanitize=true\" width=\"123\" height=\"24\" alt=\"Open in Callysto\"/></a>"
   ]
  },
  {
   "cell_type": "markdown",
   "metadata": {},
   "source": [
    "# Climatograph\n",
    "\n",
    "A climatograph (or [climograph](https://en.wikipedia.org/wiki/Climograph)) is a visualization of the monthly average [precipitation](https://simple.wikipedia.org/wiki/Precipitation) and [temperature](https://simple.wikipedia.org/wiki/Temperature) at a particular location to show the climate there.\n",
    "\n",
    "In this notebook we are using climate data from [The World Bank](https://www.worldbank.org/en/about/legal/terms-of-use-for-datasets) because we are [allowed to share and remix](https://creativecommons.org/licenses/by/4.0/) their content.\n",
    "\n",
    "## Data\n",
    "\n",
    "Select the next cell and click the `▶Run` button to download and show climate data for Canadian provinces and territories."
   ]
  },
  {
   "cell_type": "code",
   "execution_count": null,
   "metadata": {},
   "outputs": [],
   "source": [
    "import pandas as pd\n",
    "import numpy as np\n",
    "import plotly.graph_objects as go\n",
    "import plotly.express as px\n",
    "\n",
    "df = pd.read_csv('https://raw.githubusercontent.com/callysto/data-files/main/Science/Climatograph/world-bank-climate-data-canada.csv')\n",
    "# since we are working in English, remove the French names\n",
    "remove = [' / Territoires du Nord-Ouest',' / Nouvelle-Écosse',' / Colombie-Britannique',' / Nouveau-Brunswick',' / Île-du-Prince-Édouard',' / Terre-Neuve-et-Labrador',' / Québec']\n",
    "for r in remove:\n",
    "    df['Location'].replace(r,'',regex=True,inplace=True)\n",
    "df"
   ]
  },
  {
   "cell_type": "markdown",
   "metadata": {},
   "source": [
    "### Tidy the Data\n",
    "\n",
    "Since the data set is in wide format, we'll want to change it to [tidy data](https://en.wikipedia.org/wiki/Tidy_data) format to make it easier to create visualizations. `▶Run` the following cell to do this."
   ]
  },
  {
   "cell_type": "code",
   "execution_count": null,
   "metadata": {},
   "outputs": [],
   "source": [
    "dm = df.melt(id_vars=['Location','Type','Years'])\n",
    "dm"
   ]
  },
  {
   "cell_type": "markdown",
   "metadata": {},
   "source": [
    "### Select Data\n",
    "\n",
    "`▶Run` the next cell to see the possible locations and time frames that we can use."
   ]
  },
  {
   "cell_type": "code",
   "execution_count": null,
   "metadata": {},
   "outputs": [],
   "source": [
    "print(dm['Location'].unique())\n",
    "print(dm['Years'].unique())"
   ]
  },
  {
   "cell_type": "markdown",
   "metadata": {},
   "source": [
    "### Visualize Data\n",
    "\n",
    "We'll create a climatograph for the chosen location and set of years. In the code cell below you can can change `location = 'Alberta'` and `years = '1991-2020'` to any from the above lists."
   ]
  },
  {
   "cell_type": "code",
   "execution_count": null,
   "metadata": {},
   "outputs": [],
   "source": [
    "location = 'Alberta'\n",
    "years = '1991-2020'\n",
    "\n",
    "ppt = dm[(dm['Location']==location)&(dm['Type']=='precipitation')&(dm['Years']==years)&(dm['variable']!='Annual')]\n",
    "tem = dm[(dm['Location']==location)&(dm['Type']=='temperature')&(dm['Years']==years)&(dm['variable']!='Annual')]\n",
    "trace1 = go.Bar(x=ppt['variable'],y=ppt['value'],name='Precipitation')\n",
    "trace2 = go.Scatter(x=tem['variable'],y=tem['value'],mode='lines',name='Temperature',yaxis='y2')\n",
    "layout = go.Layout(\n",
    "    title= ('Climatograph for '+location+' in '+years),\n",
    "    yaxis=dict(title='Total Precipitation (mm)', titlefont=dict(color='blue'), tickfont=dict(color='blue')),\n",
    "    yaxis2=dict(title='Average Temperature (°C)', titlefont=dict(color='red'), tickfont=dict(color='red'), overlaying='y', side='right'),\n",
    "    showlegend=False)\n",
    "fig = go.Figure(data=[trace1, trace2], layout=layout)\n",
    "fig.update_yaxes(showgrid=False)\n",
    "fig.show()"
   ]
  },
  {
   "cell_type": "markdown",
   "metadata": {},
   "source": [
    "On the graph you can hover your mouse to check values and also zoom in and out.\n",
    "\n",
    "You can download your climatograph using the 📷 button near the top right."
   ]
  },
  {
   "cell_type": "markdown",
   "metadata": {},
   "source": [
    "### Comparing Climatographs\n",
    "\n",
    "#### Different Locations\n",
    "\n",
    "Use the following code cell to create multiple climatographs for locations from the data set."
   ]
  },
  {
   "cell_type": "code",
   "execution_count": null,
   "metadata": {},
   "outputs": [],
   "source": [
    "locations = ['Alberta', 'Canada']\n",
    "years = '1991-2020'\n",
    "\n",
    "for location in locations:\n",
    "    ppt = dm[(dm['Location']==location)&(dm['Type']=='precipitation')&(dm['Years']==years)&(dm['variable']!='Annual')]\n",
    "    tem = dm[(dm['Location']==location)&(dm['Type']=='temperature')&(dm['Years']==years)&(dm['variable']!='Annual')]\n",
    "    trace1 = go.Bar(x=ppt['variable'],y=ppt['value'],name='Precipitation')\n",
    "    trace2 = go.Scatter(x=tem['variable'],y=tem['value'],mode='lines',name='Temperature',yaxis='y2')\n",
    "    layout = go.Layout(\n",
    "        title= ('Climatograph for '+location+' in '+years),\n",
    "        yaxis=dict(title='Total Precipitation (mm)', titlefont=dict(color='blue'), tickfont=dict(color='blue')),\n",
    "        yaxis2=dict(title='Average Temperature (°C)', titlefont=dict(color='red'), tickfont=dict(color='red'), overlaying='y', side='right'),\n",
    "        showlegend=False)\n",
    "    fig = go.Figure(data=[trace1, trace2], layout=layout)\n",
    "    fig.update_yaxes(showgrid=False)\n",
    "    fig.show()"
   ]
  },
  {
   "cell_type": "markdown",
   "metadata": {},
   "source": [
    "#### Multiple Locations\n",
    "\n",
    "The next code cell will generate a climatograph that includes all of the different locations from the dataset. You'll be able to click on parts of the legend to toggle them on and off."
   ]
  },
  {
   "cell_type": "code",
   "execution_count": null,
   "metadata": {},
   "outputs": [],
   "source": [
    "years = '1991-2020'\n",
    "\n",
    "locations = dm['Location'].unique()\n",
    "blues = ['blue', 'navy', 'royalblue', 'skyblue']\n",
    "reds = ['red', 'firebrick', 'orange', 'salmon']\n",
    "fig = go.Figure()\n",
    "for i, location in enumerate(locations):\n",
    "    ppt = dm[(dm['Location']==location)&(dm['Type']=='precipitation')&(dm['Years']==years)&(dm['variable']!='Annual')]\n",
    "    fig.add_trace(go.Bar(name='P '+location, x=ppt['variable'], y=ppt['value'], marker_color=blues[i%len(blues)]))\n",
    "    tem = dm[(dm['Location']==location)&(dm['Type']=='temperature')&(dm['Years']==years)&(dm['variable']!='Annual')]\n",
    "    fig.add_trace(go.Scatter(name='T '+location, x=tem['variable'],y=tem['value'],mode='lines',marker_color=reds[i%len(reds)],yaxis='y2'))\n",
    "fig.update_layout(barmode='group', title='Climatograph for '+years,\n",
    "    yaxis=dict(title='Total Precipitation (mm)', titlefont=dict(color='blue'), tickfont=dict(color='blue')),\n",
    "    yaxis2=dict(title='Average Temperature (°C)', titlefont=dict(color='red'), tickfont=dict(color='red'), overlaying='y', side='right'),\n",
    "    legend=dict(orientation='h')).update_yaxes(showgrid=False)\n",
    "fig.show()"
   ]
  },
  {
   "cell_type": "markdown",
   "metadata": {},
   "source": [
    "#### Multiple Years\n",
    "\n",
    "The next code cell will generate a climatograph that includes all of the different year sets from the dataset."
   ]
  },
  {
   "cell_type": "code",
   "execution_count": null,
   "metadata": {},
   "outputs": [],
   "source": [
    "location = 'Alberta'\n",
    "\n",
    "yearset = dm['Years'].unique()\n",
    "blues = ['blue', 'navy', 'royalblue', 'skyblue']\n",
    "reds = ['red', 'firebrick', 'orange', 'salmon']\n",
    "fig = go.Figure()\n",
    "for i, years in enumerate(yearset):\n",
    "    ppt = dm[(dm['Location']==location)&(dm['Type']=='precipitation')&(dm['Years']==years)&(dm['variable']!='Annual')]\n",
    "    fig.add_trace(go.Bar(name='P '+years, x=ppt['variable'], y=ppt['value'], marker_color=blues[i]))\n",
    "    tem = dm[(dm['Location']==location)&(dm['Type']=='temperature')&(dm['Years']==years)&(dm['variable']!='Annual')]\n",
    "    fig.add_trace(go.Scatter(name='T '+years, x=tem['variable'],y=tem['value'],mode='lines',marker_color=reds[i],yaxis='y2'))\n",
    "fig.update_layout(barmode='group', title='Climatograph for '+location,\n",
    "    yaxis=dict(title='Total Precipitation (mm)', titlefont=dict(color='blue'), tickfont=dict(color='blue')),\n",
    "    yaxis2=dict(title='Average Temperature (°C)', titlefont=dict(color='red'), tickfont=dict(color='red'), overlaying='y', side='right'),\n",
    "    legend=dict(orientation='h')).update_yaxes(showgrid=False)\n",
    "fig.show()"
   ]
  },
  {
   "cell_type": "markdown",
   "metadata": {},
   "source": [
    "#### Animated Across Years\n",
    "\n"
   ]
  },
  {
   "cell_type": "code",
   "execution_count": null,
   "metadata": {},
   "outputs": [],
   "source": [
    "location = 'Alberta'\n",
    "\n",
    "ppt_data = dm[(dm['Location']==location)&(dm['Type']=='precipitation')&(dm['variable']!='Annual')]\n",
    "px.bar(ppt_data, x='variable', y='value', animation_frame='Years', range_y=[0,max(ppt_data['value'])], title='Precipitation in '+location).show()\n",
    "tem_data = dm[(dm['Location']==location)&(dm['Type']=='temperature')&(dm['variable']!='Annual')]\n",
    "px.line(tem_data, x='variable', y='value', animation_frame='Years', range_y=[min(tem_data['value']),max(tem_data['value'])], title='Temperature in '+location)"
   ]
  },
  {
   "cell_type": "markdown",
   "metadata": {},
   "source": [
    "## Conclusion\n",
    "\n",
    "Climatographs show us about the climate of an area by displaying its monthly average [precipitation](https://simple.wikipedia.org/wiki/Precipitation) and [temperature](https://simple.wikipedia.org/wiki/Temperature). The code used in this notebook to create climatographs using Canadian data could also be used with other climate datasets."
   ]
  },
  {
   "cell_type": "markdown",
   "metadata": {},
   "source": [
    "[![Callysto.ca License](https://github.com/callysto/curriculum-notebooks/blob/master/callysto-notebook-banner-bottom.jpg?raw=true)](https://github.com/callysto/curriculum-notebooks/blob/master/LICENSE.md)"
   ]
  }
 ],
 "metadata": {
  "interpreter": {
   "hash": "d1ca6d17674200220921376aaeb3d36cffe15ecab2470a9a5e7a456cdbf61425"
  },
  "kernelspec": {
   "display_name": "Python 3.10.1 64-bit",
   "language": "python",
   "name": "python3"
  },
  "language_info": {
   "codemirror_mode": {
    "name": "ipython",
    "version": 3
   },
   "file_extension": ".py",
   "mimetype": "text/x-python",
   "name": "python",
   "nbconvert_exporter": "python",
   "pygments_lexer": "ipython3",
   "version": "3.10.1"
  }
 },
 "nbformat": 4,
 "nbformat_minor": 4
}
