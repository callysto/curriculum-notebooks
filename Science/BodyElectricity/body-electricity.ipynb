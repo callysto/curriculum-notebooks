{
 "cells": [
  {
   "cell_type": "markdown",
   "metadata": {},
   "source": [
    "![Callysto.ca Banner](https://github.com/callysto/curriculum-notebooks/blob/master/callysto-notebook-banner-top.jpg?raw=true)\n",
    "\n",
    "<a href=\"https://hub.callysto.ca/jupyter/hub/user-redirect/git-pull?repo=https%3A%2F%2Fgithub.com%2Fcallysto%2Fcurriculum-notebooks&branch=master&subPath=Science/BodyElectricity/body-electricity.ipynb&depth=1\" target=\"_parent\"><img src=\"https://raw.githubusercontent.com/callysto/curriculum-notebooks/master/open-in-callysto-button.svg?sanitize=true\" width=\"123\" height=\"24\" alt=\"Open in Callysto\"/></a>"
   ]
  },
  {
   "cell_type": "markdown",
   "metadata": {},
   "source": [
    "# Body Electricity\n",
    "\n",
    "In this experiment we are going to investigate the body's electrical signals while exercising and at rest using a [micro:bit](https://www.microbit.org) to collect data, similar to [electrocardiography](https://en.wikipedia.org/wiki/Electrocardiography). This is adapted from from [“Body Electrical & Waves“](https://docs.google.com/document/d/1KofuOt0v1lmQhQyJux1XWDVoCDeslcjDFysjStFmo1w) by [Carl Lyman](https://sites.google.com/view/utahcodingproject).\n",
    "\n",
    "If you don't have access to a micro:bit, you can skip the **Procedure** section and use the example data provided for your **Observations and Analysis**.\n",
    "\n",
    "## Materials\n",
    "\n",
    "* micro:bit running the [latest firmware](https://microbit.org/get-started/user-guide/firmware)\n",
    "* USB cable\n",
    "* two wires (preferably with alligator clips)\n",
    "* tape (preferably skin tape or painter's tape)\n",
    "\n",
    "![micro:bit with wires](./images/microbit-with-wires.jpg)\n",
    "\n",
    "\n",
    "## Procedure\n",
    "\n",
    "### Setup\n",
    "1. Connect the micro:bit to your computer or Chromebook using the USB cable.\n",
    "2. Connect the wires to the micro:bit, one to **GND** and the other to **0**.\n",
    "3. Launch [Microsoft MakeCode with the ECG code](https://makecode.microbit.org/_DXa5vgUJpYzc).\n",
    "\n",
    "![MakeCode ECG](./images/makecode-ecg.jpg)\n",
    "\n",
    "4. Click the **↗Edit** button at the top right to open the code editor. If you prefer to program it in Python, the code should be:\n",
    "```python\n",
    "EKG = 0\n",
    "def on_forever():\n",
    "    global ECG\n",
    "    ECG = pins.analog_read_pin(AnalogPin.P0)\n",
    "    serial.write_value(\"ECG\", ECG)\n",
    "basic.forever(on_forever)\n",
    "```\n",
    "5. Near the bottom left, click the **`...`** button and select **Pair device**, then follow the directions to pair your micro:bit.\n",
    "6. Once your micro:bit is paired, click the **`...`** button again and select **Download to micro:bit** to send the code to your micro:bit.\n",
    "\n",
    "![MakeCode pair](./images/makecode-pair.jpg)\n",
    "\n",
    "### Collecting Data\n",
    "7. Click the **Show console Device** button.\n",
    "\n",
    "![MakeCode show console](./images/makecode-show-console.jpg)\n",
    "\n",
    "8. Tape the ends of the wire to the underside of your forearm, about 15 cm apart. Make sure that the exposed metal is touching your skin, you may need to hold them in place if the tape doesn't maintain contact between the metal and your skin.\n",
    "9. Sit still for about 5 seconds, then run in place for about 10 seconds, then sit still for another 5 seconds.\n",
    "10. Click the pause button at the top right.\n",
    "\n",
    "![MakeCode pause and download](./images/makecode-pause-download.jpg)\n",
    "\n",
    "11. Click the download button to download your data as a `csv` file. For more information on this check out the [documentation](https://makecode.microbit.org/device/data-analysis/viewing). You should now have a data file downloaded that is called something like `microbit-data-12-2021-21-32-29-0700.csv`.\n",
    "\n",
    "### Uploading Data\n",
    "12. [Click this link](https://hub.callysto.ca/jupyter/hub/user-redirect/git-pull?repo=https%3A%2F%2Fgithub.com%2Fcallysto%2Fcurriculum-notebooks&branch=master&subPath=Science/BodyElectricity&depth=1) to open the folder that this notebook is in. Sign in with your Google or Microsoft account if you haven't already.\n",
    "13. Click the `Upload` button at the top right to upload the `csv` file you downloaded in step 11, then click the blue `Upload` button.\n",
    "\n",
    "![Jupyter upload buttons](./images/jupyter-upload-buttons.jpg)\n",
    "\n",
    "14. [Click this link](https://hub.callysto.ca/jupyter/hub/user-redirect/git-pull?repo=https%3A%2F%2Fgithub.com%2Fcallysto%2Fcurriculum-notebooks&branch=master&subPath=Science/BodyElectricity/body-electricity.ipynb&depth=1) to open this notebook on the Callysto Hub, and continue there.\n",
    "\n",
    "## Observations and Analysis\n",
    "\n",
    "Click on the code cell below. If you uploaded a `csv` file, change the second line to the name of your file and remove the `#` from the front of the line.\n",
    "\n",
    "Click the `►Run` button to load and display the data."
   ]
  },
  {
   "cell_type": "code",
   "execution_count": null,
   "metadata": {},
   "outputs": [],
   "source": [
    "csv_file = 'https://raw.githubusercontent.com/callysto/data-files/main/Science/BodyElectricity/microbit-data-12-2020-14-30-15-0700.csv'\n",
    "#csv_file = 'microbit-data-12-2020-14-30-15-0700.csv'  # load from local storage\n",
    "\n",
    "import pandas as pd\n",
    "data = pd.read_csv(csv_file, sep='\\t', header=1)\n",
    "data.columns=['time (s)', 'ECG']\n",
    "data"
   ]
  },
  {
   "cell_type": "markdown",
   "metadata": {},
   "source": [
    "### Visualizing Data\n",
    "\n",
    "Now that the data file is loaded, `►Run` the following code cell to visualize the voltage readings over time."
   ]
  },
  {
   "cell_type": "code",
   "execution_count": null,
   "metadata": {},
   "outputs": [],
   "source": [
    "import plotly.express as px\n",
    "px.line(data, x='time (s)', y='ECG', title='ECG Voltage over Time')"
   ]
  },
  {
   "cell_type": "markdown",
   "metadata": {},
   "source": [
    "On the chart above you can zoom in on particular regions, and hover your mouse over the line to see the values.\n",
    "\n",
    "### Selecting Data\n",
    "\n",
    "Find the time that you started your first resting period, and the time that you finished your second resting period. In our example data, these are 4.5 seconds and 28 seconds. In the code cell below change these to the time values for your data, then `►Run` the cell to display only the data between those times."
   ]
  },
  {
   "cell_type": "code",
   "execution_count": null,
   "metadata": {},
   "outputs": [],
   "source": [
    "start_time = 4.5\n",
    "stop_time = 28\n",
    "\n",
    "selected_data = data[data['time (s)'].between(start_time, stop_time)]\n",
    "px.line(selected_data, x='time (s)', y='ECG', title='ECG Voltage over Time')"
   ]
  },
  {
   "cell_type": "markdown",
   "metadata": {},
   "source": [
    "### Labelling\n",
    "\n",
    "Edit the **x** and **y** values for the annotations in the following code cell to display labels for when you were resting and exercising, then `►Run` the cell."
   ]
  },
  {
   "cell_type": "code",
   "execution_count": null,
   "metadata": {},
   "outputs": [],
   "source": [
    "px.line(selected_data, x='time (s)', y='ECG', title='ECG Voltage over Time'\n",
    "        ).add_annotation(x=7, y=88, text='resting'\n",
    "        ).add_annotation(x=12, y=110, text='exercising'\n",
    "        ).add_annotation(x=23, y=96, text='resting')"
   ]
  },
  {
   "cell_type": "markdown",
   "metadata": {},
   "source": [
    "# Conclusion\n",
    "\n",
    "1. What were you measuring in this experiment?\n",
    "2. How did the resting periods compare to the exercising period?\n",
    "3. How did the resting periods compare to each other?\n",
    "4. Summarize what you learned in this experiment.\n",
    "5. What other experiments might you want to do with this apparatus?  \n",
    "(For example: Does it make a difference where on your skin the wires are touching? Does eating candy affect the results?)"
   ]
  },
  {
   "cell_type": "markdown",
   "metadata": {},
   "source": [
    "[![Callysto.ca License](https://github.com/callysto/curriculum-notebooks/blob/master/callysto-notebook-banner-bottom.jpg?raw=true)](https://github.com/callysto/curriculum-notebooks/blob/master/LICENSE.md)"
   ]
  }
 ],
 "metadata": {
  "interpreter": {
   "hash": "aee8b7b246df8f9039afb4144a1f6fd8d2ca17a180786b69acc140d282b71a49"
  },
  "kernelspec": {
   "display_name": "Python 3.10.4 64-bit",
   "language": "python",
   "name": "python3"
  },
  "language_info": {
   "codemirror_mode": {
    "name": "ipython",
    "version": 3
   },
   "file_extension": ".py",
   "mimetype": "text/x-python",
   "name": "python",
   "nbconvert_exporter": "python",
   "pygments_lexer": "ipython3",
   "version": "3.10.4"
  }
 },
 "nbformat": 4,
 "nbformat_minor": 4
}
