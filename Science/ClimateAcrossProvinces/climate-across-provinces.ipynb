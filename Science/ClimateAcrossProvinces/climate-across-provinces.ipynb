{
 "cells": [
  {
   "cell_type": "markdown",
   "metadata": {},
   "source": [
    "![Callysto.ca Banner](https://github.com/callysto/curriculum-notebooks/blob/master/callysto-notebook-banner-top.jpg?raw=true)\n",
    "\n",
    "<a href=\"https://hub.callysto.ca/jupyter/hub/user-redirect/git-pull?repo=https%3A%2F%2Fgithub.com%2Fcallysto%2Fcurriculum-notebooks&branch=master&subPath=Science/ClimateAcrossProvinces/climate-across-provinces.ipynb&depth=1\" target=\"_parent\"><img src=\"https://raw.githubusercontent.com/callysto/curriculum-notebooks/master/open-in-callysto-button.svg?sanitize=true\" width=\"123\" height=\"24\" alt=\"Open in Callysto\"></a>"
   ]
  },
  {
   "cell_type": "markdown",
   "metadata": {},
   "source": [
    "# Climate Across Provinces"
   ]
  },
  {
   "cell_type": "markdown",
   "metadata": {},
   "source": [
    "Studying climate patterns across Canadian provinces offers insights into diverse weather behaviors. By analyzing temperature shifts during specific months, we can reveal important information in regard to impacts on agriculture, biodiversity, and disaster preparedness. \n",
    "\n",
    "*Curriculum Connections*\n",
    "- [Investigating factors affecting Climate](https://www.alberta.ca/curriculum-science) \n",
    "\n",
    "*Investigating Questions*\n",
    "- Which provinces experience the highest and lowest annual temperatures? What geographical distinctions contribute to these temperature differences?\n",
    "- Does the variation in elevation significantly affect temperatures across provinces?\n",
    "- What natural elements, such as proximity to large water bodies or the presence of mountain ranges, can play a role in influencing temperatures across provinces?"
   ]
  },
  {
   "cell_type": "markdown",
   "metadata": {},
   "source": [
    "***"
   ]
  },
  {
   "cell_type": "markdown",
   "metadata": {},
   "source": [
    "### Import the Data\n",
    "The code below will import the Python programming libraries we need to gather and organize the data to answer our question. `▶Run` the code cell below "
   ]
  },
  {
   "cell_type": "code",
   "execution_count": null,
   "metadata": {},
   "outputs": [],
   "source": [
    "import pandas as pd\n",
    "import plotly.express as px \n",
    "import geopandas as gpd\n",
    "import folium\n",
    "print('Libraries imported.')"
   ]
  },
  {
   "cell_type": "markdown",
   "metadata": {},
   "source": [
    "### Analysis"
   ]
  },
  {
   "cell_type": "markdown",
   "metadata": {},
   "source": [
    "Let's begin exploring our dataset containing information about provincial temperatures across Canada. The dataset was obtained from [Kaggle](https://www.kaggle.com/datasets/hemil26/canada-weather), data being scraped from [Wikipedia](https://en.wikipedia.org/wiki/Temperature_in_Canada). \n",
    "\n",
    "The dataset when imported is also transformed into a dataframe. You can think of a dataframe as essentially a spreadsheet, where each row represents a record or an observation, while each column represents a different attribute or variable."
   ]
  },
  {
   "cell_type": "code",
   "execution_count": null,
   "metadata": {},
   "outputs": [],
   "source": [
    "climate_data = pd.read_csv('https://raw.githubusercontent.com/callysto/data-files/main/Science/ClimateAcrossProvinces/canada_weather.csv')\n",
    "climate_data"
   ]
  },
  {
   "cell_type": "markdown",
   "metadata": {},
   "source": [
    "We notice that in our dataset, we have *10* different columns. \n",
    "\n",
    "|Column|Description|\n",
    "|-|-|\n",
    "|Community|city and province of the climate data|\n",
    "|Weather station|3 digit airport code|\n",
    "|Location|latitude and longitude coordinates of the station|\n",
    "|Elevation|how far the station is from sea-level|\n",
    "\n",
    "The rest of the columns seems to refer specific month average temperatures, varying from high to low, or annual average temperatures, which also vary from high to low. "
   ]
  },
  {
   "cell_type": "markdown",
   "metadata": {},
   "source": [
    "### Data Cleaning"
   ]
  },
  {
   "cell_type": "markdown",
   "metadata": {},
   "source": [
    "Sometimes mistakes or errors can happen when collecting information. Data cleaning involves finding and fixing these mistakes. It's important because clean data helps us make better decisions and find meaningful patterns.\n",
    "\n",
    "In our particular situation, we have a couple of things we want to adjust within our dataframe. These include separating provincial codes (ex. AB, BC, NU) from cities and changing the temperature/elevation columns. We want the temperature and elevation columns to only show a single number to make working with these columns easier in the future. "
   ]
  },
  {
   "cell_type": "markdown",
   "metadata": {},
   "source": [
    "To begin, let's take the provincial codes from each city and put the codes into their own column. \n",
    "\n",
    "Note: To reduce showing large outputs of **climate_data** every time something is adjusted, we will be using *.sample(5)* to show a random sample of 5 different rows in the data as a means of showing change in the dataframe."
   ]
  },
  {
   "cell_type": "code",
   "execution_count": null,
   "metadata": {},
   "outputs": [],
   "source": [
    "climate_data['Province'] = climate_data.Community.str[-2:]\n",
    "climate_data.sample(5)"
   ]
  },
  {
   "cell_type": "markdown",
   "metadata": {},
   "source": [
    "Perfect! We now have a new column called `Province` which contains only provincial codes. The next issue we want to tackle is in regard to how our data is presented in columns, particularly the temperature-related columns. \n",
    "\n",
    "In these columns, we only want individual temperature values without brackets. This would allow us to define a specific number or float (decimal number) for each column entry instead of the entries being considered strings (words or letters). We can fix this by identifying the first `(`` bracket and then cutting off the string at this point. Afterwards, we can also replace the string negative sign with an actual negative sign. We can then convert our string to a float value."
   ]
  },
  {
   "cell_type": "code",
   "execution_count": null,
   "metadata": {},
   "outputs": [],
   "source": [
    "def clean_and_convert_to_float(s):\n",
    "    cleaned_value = s.split('(')[0].strip().replace('−', '-') # replace the dash with a negative symbol\n",
    "    try:\n",
    "        return float(cleaned_value)\n",
    "    except ValueError:\n",
    "        return None  \n",
    "\n",
    "columns_to_clean = [\n",
    "    'Annual(Avg. high °C (°F))',\n",
    "    'January(Avg. high °C (°F))',\n",
    "    'January(Avg. low °C (°F))',\n",
    "    'July(Avg. high °C (°F))',\n",
    "    'July(Avg. low °C (°F))',\n",
    "    'Annual(Avg. low °C (°F))'\n",
    "]\n",
    "\n",
    "for column in columns_to_clean:\n",
    "    climate_data[column] = climate_data[column].apply(clean_and_convert_to_float)\n",
    "climate_data.sample(5)"
   ]
  },
  {
   "cell_type": "markdown",
   "metadata": {},
   "source": [
    "Now our values are only single decimal-point numbers. The next thing we need to do is fix the `Elevation` column. \n",
    "\n",
    "Similarly to our temperature columns, we want to only have a single decimal-point number in these column entries for easier data manipulation later on. This is achieved similarly where we find the first instance of an *m* and then cut the string off from that point. We also have cases of numbers having commas in them such as 1,084m. This is an issue because Python identifies the comma as a string and defines 1,084m as a string despite being designed to being a number. To get around this, whenever we see a comma, we can replace it with an empty space.  "
   ]
  },
  {
   "cell_type": "code",
   "execution_count": null,
   "metadata": {},
   "outputs": [],
   "source": [
    "def fix_elevation(text):\n",
    "    new_elevation = text.split('m')[0].replace(',', '').strip()\n",
    "    try:\n",
    "        return float(new_elevation)\n",
    "    except ValueError:\n",
    "        return None\n",
    "\n",
    "climate_data['Elevation'] = climate_data['Elevation'].apply(fix_elevation)\n",
    "climate_data.sample(5)"
   ]
  },
  {
   "cell_type": "markdown",
   "metadata": {},
   "source": [
    "The last we need to do is separate the *latitude* and *longitude* values from the `Location` column. The process of separating is a bit complicated, but it can be summed up as identifying patterns in our columns. After obtaining our latitude and longitude values and converting them into numeric values, we can drop the `Location` column as we do not need to use it anymore. "
   ]
  },
  {
   "cell_type": "code",
   "execution_count": null,
   "metadata": {},
   "outputs": [],
   "source": [
    "location_parts = climate_data[\"Location\"].str.split(\"/\", expand=True)[1]\n",
    "\n",
    "latitude = location_parts.str.extract(r'(\\d+\\.\\d+)°N')[0]\n",
    "longitude = location_parts.str.extract(r'(\\d+\\.\\d+)°W')[0]\n",
    "\n",
    "latitude = pd.to_numeric(latitude)\n",
    "longitude = pd.to_numeric(longitude)\n",
    "\n",
    "climate_data[\"Latitude\"] = latitude\n",
    "climate_data[\"Longitude\"] = longitude\n",
    "\n",
    "climate_data = climate_data.drop(\"Location\", axis=1)\n",
    "climate_data.sample(5)"
   ]
  },
  {
   "cell_type": "markdown",
   "metadata": {},
   "source": [
    "### Highest and Lowest Temperatures"
   ]
  },
  {
   "cell_type": "markdown",
   "metadata": {},
   "source": [
    "Our data has been cleaned meaning we can move onto analyzing and visualizing our data. First, since we have access to months, January and July, that are correlated with *winter* and *summer* respectively, let's find which city/province contains the coldest and hottest temperatures in our dataframe.\n",
    "\n",
    "Let's do this by finding the lowest average temperature found in the column `January(Avg. low °C (°F))` (representing winter) and the highest average temperature found in the column `July(Avg. high °C (°F))`  (representing summer)."
   ]
  },
  {
   "cell_type": "code",
   "execution_count": null,
   "metadata": {},
   "outputs": [],
   "source": [
    "lowest_jan_temp_data = climate_data[climate_data['January(Avg. low °C (°F))'] == climate_data['January(Avg. low °C (°F))'].min()]\n",
    "highest_july_temp_data = climate_data[climate_data['July(Avg. high °C (°F))'] == climate_data['July(Avg. high °C (°F))'].max()]\n",
    "\n",
    "location_jan = lowest_jan_temp_data['Community'].to_string(index=False)\n",
    "location_july = highest_july_temp_data['Community'].to_string(index=False)\n",
    "\n",
    "jan_temp = lowest_jan_temp_data['January(Avg. low °C (°F))'].to_string(index=False)\n",
    "july_temp = highest_july_temp_data['July(Avg. high °C (°F))'].to_string(index=False)\n",
    "\n",
    "print(f\"The lowest average temperature recorded in January in the dataset was in {location_jan}, with a recorded temperature of {jan_temp}°C\")\n",
    "print(f\"The highest average temperature recorded in July in the dataset was in {location_july}, with a recorded temperature of {july_temp}°C\")"
   ]
  },
  {
   "cell_type": "markdown",
   "metadata": {},
   "source": [
    "It appears that the coldest recorded temperature in January was recorded in Resolute, Nunavut and the highest recorded temperature in July was recorded in Kamloops, British Columbia. \n",
    "\n",
    "This makes sense due to the geographical and climatic differences between Nunavut and British Columbia. Nunavut is a territory located in northern Canada, characterized by its high latitude and Arctic climate. In January, during the heart of winter, Nunavut experiences extreme cold temperatures due to its proximity to the Arctic Circle and its exposure to polar air masses.\n",
    "\n",
    "On the other hand, British Columbia is a province situated on the west coast of Canada, with a much lower latitude compared to Nunavut. It benefits from the moderating influence of the Pacific Ocean, which tends to keep its coastal regions milder in comparison to more inland areas. In July, during the summer months, British Columbia can experience higher temperatures due to the ocean's ability to store and release heat slowly, leading to warmer conditions along its coastline.\n",
    "\n",
    "However, considering the averages of the highest and lowest temperatures for each month might provide a more comprehensive understanding of the overall climate in these regions. Let's do this by taking the average between both the January and July temperature columns. Let's also take the average of annual temperatures for later use."
   ]
  },
  {
   "cell_type": "code",
   "execution_count": null,
   "metadata": {},
   "outputs": [],
   "source": [
    "climate_data['January Average'] = climate_data[['January(Avg. low °C (°F))', 'January(Avg. high °C (°F))']].mean(axis=1)\n",
    "climate_data['July Average'] = climate_data[['July(Avg. low °C (°F))', 'July(Avg. high °C (°F))']].mean(axis=1)\n",
    "climate_data['Annual Average'] = climate_data[['Annual(Avg. high °C (°F))', 'Annual(Avg. low °C (°F))']].mean(axis=1)\n",
    "\n",
    "climate_data.sample(5)"
   ]
  },
  {
   "cell_type": "code",
   "execution_count": null,
   "metadata": {},
   "outputs": [],
   "source": [
    "avg_jan_temp = climate_data[climate_data['January Average'] == climate_data['January Average'].min()]\n",
    "avg_july_temp = climate_data[climate_data['July Average'] == climate_data['July Average'].max()]\n",
    "\n",
    "location_jan = avg_jan_temp['Community'].to_string(index=False)\n",
    "location_july = avg_july_temp['Community'].to_string(index=False)\n",
    "\n",
    "jan_temp = avg_jan_temp['January Average'].to_string(index=False)\n",
    "july_temp = avg_july_temp['July Average'].to_string(index=False)\n",
    "\n",
    "print(f\"The lowest overall average temperature recorded in January in the dataset was in {location_jan}, with a recorded temperature of {jan_temp}°C\")\n",
    "print(f\"The highest overall average temperature recorded in July in the dataset was in {location_july}, with a recorded temperature of {july_temp}°C\")"
   ]
  },
  {
   "cell_type": "markdown",
   "metadata": {},
   "source": [
    "It appears that there is a difference in our output, with the highest overall average temperature in July now being Windsor, Ontario. This would mean that the reason why Windsor overall has a higher overall average temperature is due to a combination of either/both Windsor having a high `July(Avg. low °C (°F))` value or Kamloops having a low `July(Avg. low °C (°F))` value. \n",
    "\n",
    "As for general reasons why Windsor has a high overall average temperature, Windsor being situated in southern Ontario, is close to the Great Lakes, leading to similar effects onto the local climate like Kamloops, British Columbia. "
   ]
  },
  {
   "cell_type": "markdown",
   "metadata": {},
   "source": [
    "Let's also find the overall highest/lowest temperatures recorded in our dataframe and see if it differs to our findings in January and July. "
   ]
  },
  {
   "cell_type": "code",
   "execution_count": null,
   "metadata": {},
   "outputs": [],
   "source": [
    "overall_highest_temp = climate_data[climate_data['Annual Average'] == climate_data['Annual Average'].max()]\n",
    "overall_lowest_temp = climate_data[climate_data['Annual Average'] == climate_data['Annual Average'].min()]\n",
    "\n",
    "highest_overall_loc = overall_highest_temp['Community'].to_string(index=False)\n",
    "lowest_overall_loc = overall_lowest_temp['Community'].to_string(index=False)\n",
    "\n",
    "highest_temp = overall_highest_temp['Annual Average'].to_string(index=False)\n",
    "lowest_temp = overall_lowest_temp['Annual Average'].to_string(index=False)\n",
    "\n",
    "print(f\"The average lowest annual temperature recorded in the dataset was in {lowest_overall_loc}, with a recorded temperature of {lowest_temp}°C\")\n",
    "print(f\"The average highest annual temperature recorded in the dataset was in {highest_overall_loc}, with a recorded temperature of {highest_temp}°C\")"
   ]
  },
  {
   "cell_type": "markdown",
   "metadata": {},
   "source": [
    "Looking at the output, we see there is one difference with the average highest annual temperature recorded being in Vancouver, B.C. This isn't very surprising as Vancouver is in the same province as Kamloops, and presents very similar reasons to why it has an overall high temperature year-round.\n",
    "\n",
    "Aside from this minor difference, the output generally makes sense as the province that records the coldest temperature in January, a month characterized by winter, naturally tends to have a climate that sustains cold conditions throughout the year. In contrast, the province boasting the highest July temperatures, a month representing the peak of summer, naturally maintains a warmer climate on an annual basis. "
   ]
  },
  {
   "cell_type": "markdown",
   "metadata": {},
   "source": [
    "### Geographical Influences: Elevation, Latitude, and Longitude"
   ]
  },
  {
   "cell_type": "markdown",
   "metadata": {},
   "source": [
    "Exploring the provinces/cities with the coldest and hottest average temperatures has provided valuable insights. We can shift our focus to geographical influences to see if they have any significant influence to local climates. To start, we'll investigate whether *elevation* has any significant impact onto the overall temperatures in the dataframe. In this context, elevation refers to a city's height above sea level. This can be done by plotting the elevations of cities in the dataframe versus the overall annual average temperature. "
   ]
  },
  {
   "cell_type": "code",
   "execution_count": null,
   "metadata": {},
   "outputs": [],
   "source": [
    "px.scatter(climate_data, x='Elevation', y='Annual Average', color='Province', hover_data=['Community'], labels={'Elevation': 'Elevation (m)', 'Annual Average': 'Annual Average (°C)'}, title='Elevation Effects on Annual Average Temperature')"
   ]
  },
  {
   "cell_type": "markdown",
   "metadata": {},
   "source": [
    "Looking at the output of the figures, there doesn't seem to be a definitive case to say that elevation is a main cause of temperatures. There appears to be cities that have low elevation such as Resolute and Victoria but have staggeringly different annual highest temperatures. The former has an annual average of -15.65°C while the latter has an annual average high of 10°C.\n",
    "\n",
    "In our next visualizations, we'll shift our focus towards assessing whether latitude or longitude has any significant effects on temperature. *Latitude* refers to a city's position north or south of the equator, with higher latitudes being closer to the poles and lower latitudes closer to the equator. On the other hand, *longitude* represents a city's position east or west of the Prime Meridian. "
   ]
  },
  {
   "cell_type": "code",
   "execution_count": null,
   "metadata": {},
   "outputs": [],
   "source": [
    "px.scatter(climate_data, x='Latitude', y='Annual Average', color='Province', hover_data=['Community'], labels={'Latitude': 'Latitude °N', 'Annual Average': 'Annual Average (°C)'}, title='Latitude Effects on Annual Average Temperature').show()\n",
    "px.scatter(climate_data, x='Longitude', y='Annual Average', color='Province', hover_data=['Community'], labels={'Longitude': 'Longitude °W', 'Annual Average': 'Annual Average (°C)'}, title='Longitude Effects on Annual Average Temperature').show()"
   ]
  },
  {
   "cell_type": "markdown",
   "metadata": {},
   "source": [
    "Looking at the output of both figures, it appears that *latitude* has a significantly larger impact on climate compared to *longitude*. Many cities that have lower latitude values appear to average higher annual temperatures and vice-versa, cities with higher latitude values appear to average lower annual temperatures. As a result, it appears that longitude has an *inverse* relationship with temperature, meaning higher latitude values result in lower temperatures. However, it appears longitude does not have any significant relationship with temperature. Many cities that have higher longitude values such as Vancouver, Inuvik, and Whitehorse all average drastically different annual temperatures (10.35°C, -8.2°C, and -0.05°C respectively). \n",
    "\n",
    "\n",
    "Scientifically, this makes sense as latitude has more impact on climate because of the way solar energy is distributed across Earth's surface. The sun's rays near the equator strikes directly for more hours in a smaller area, leading to warmer temperatures. Near the poles, sunlight is spread over a larger area, resulting in colder temperatures. Longitude on the other hand focuses only on east and west directions, which does not affect the angle how of the sun hits the Earth. "
   ]
  },
  {
   "cell_type": "markdown",
   "metadata": {},
   "source": [
    "### Reflection Questions:\n",
    "\n",
    "1. How do the temperature differences between cities like Resolute and Victoria challenge the assumption that elevation is a major determinant of temperature?\n",
    "   \n",
    "2. What factors other than elevation, latitude, and longitude could contribute to the differences in temperature patterns between various cities?\n",
    "   \n",
    "3. Considering your own location, how does the combination of elevation, latitude, and longitude contribute to the climate you experience, and how does this compare to other regions?"
   ]
  },
  {
   "cell_type": "markdown",
   "metadata": {},
   "source": [
    "### Visualizing Provinces"
   ]
  },
  {
   "cell_type": "markdown",
   "metadata": {},
   "source": [
    "In this final section, we'll be visualizing climate differences between provinces, visualizing it through folium. To begin, let's read the geoJSON data of the provinces in Canada. GeoJSON in this context refers to representing the geographical boundaries and shapes between the different provinces in Canada. "
   ]
  },
  {
   "cell_type": "code",
   "execution_count": null,
   "metadata": {},
   "outputs": [],
   "source": [
    "prov_data = gpd.read_file('https://raw.githubusercontent.com/callysto/data-files/main/Science/ClimateAcrossProvinces/geopandas.geojson')\n",
    "prov_data"
   ]
  },
  {
   "cell_type": "markdown",
   "metadata": {},
   "source": [
    "Looking at the imported data, let's convert the names of the provinces to just the abbrevations of the provinces in order to match the format we have of our other *climate_data* dataframe."
   ]
  },
  {
   "cell_type": "code",
   "execution_count": null,
   "metadata": {},
   "outputs": [],
   "source": [
    "prov_data.prov_name_fr.replace(\n",
    "    {\n",
    "        'Alberta': 'AB',\n",
    "        'Manitoba': 'MB',\n",
    "        'Yukon': 'YT',\n",
    "        'Terre-Neuve-et-Labrador': 'NL',\n",
    "        'Nouveau-Brunswick': 'NB',\n",
    "        'Saskatchewan': 'SK',\n",
    "        'Nouvelle-Écosse': 'NS',\n",
    "        'Territoires du Nord-Ouest': 'NT',\n",
    "        'Île-du-Prince-Édouard': 'PE',\n",
    "        'Nunavut': 'NU',\n",
    "        'Québec': 'QC',\n",
    "        'Ontario': 'ON',\n",
    "        'Colombie-Britannique': 'BC'\n",
    "    },\n",
    "    inplace=True\n",
    ")\n",
    "\n",
    "prov_data.rename(columns={'prov_name_fr': \"Province\"}, inplace=True)  \n",
    "prov_data"
   ]
  },
  {
   "cell_type": "markdown",
   "metadata": {},
   "source": [
    "We can also merge our two dataframes *climate_data* and *prov_data* into one dataframe in order to get the right `geometry` data for each city/province as both dataframes contain a `Province` column. By   leveraging a left join approach, it ensures that every entry in the resulting dataframe, named data_w_climate, retains its geometry data while also incorporating climate-related details. "
   ]
  },
  {
   "cell_type": "code",
   "execution_count": null,
   "metadata": {},
   "outputs": [],
   "source": [
    "data_w_climate = prov_data.merge(climate_data, left_on='Province', right_on='Province', how='left')\n",
    "data_w_climate.sample(5)"
   ]
  },
  {
   "cell_type": "markdown",
   "metadata": {},
   "source": [
    "Now we have a merged dataframe that contains provincial geometry data for each entry. One last step before plotting our data is to take the average of each province so that we have individual numbers for each province. Afterwards, we can start visualize provincial differences, starting with `Annual(Avg. high °C (°F))`."
   ]
  },
  {
   "cell_type": "code",
   "execution_count": null,
   "metadata": {},
   "outputs": [],
   "source": [
    "agg_data = data_w_climate.groupby(\"Province\")[\"Annual Average\"].mean().reset_index()\n",
    "merged_data = prov_data.merge(agg_data, on=\"Province\")\n",
    "merged_data"
   ]
  },
  {
   "cell_type": "code",
   "execution_count": null,
   "metadata": {},
   "outputs": [],
   "source": [
    "# Initialize the map and store it in an m object\n",
    "annual_map = folium.Map(location=[50, -65], zoom_start=3)\n",
    "\n",
    "folium.Choropleth(\n",
    "    geo_data=prov_data,\n",
    "    data=merged_data,\n",
    "    name=\"choropleth\",\n",
    "    columns=[\"Province\", \"Annual Average\"],\n",
    "    fill_color=\"RdPu\",\n",
    "    key_on=\"feature.properties.Province\",\n",
    "    legend_name=\"Average Highest Temperature (Annual °C)\",\n",
    ").add_to(annual_map)\n",
    "\n",
    "folium.LayerControl().add_to(annual_map)\n",
    "annual_map"
   ]
  },
  {
   "cell_type": "markdown",
   "metadata": {},
   "source": [
    "Looking at the folium map, it appears that provinces like British Columbia, Ontario, Quebec, New Brunswick, and Nova Scotia all appear to have higher annual temperatures than other provinces. In comparison, provinces such as Nunavut and the Northwest Territories are light in colour, indicating an overall lower average annual temperature compared to others provinces.\n",
    "\n",
    "Immediate differences that are noticed between the colder provinces to the hotter provinces are that Nunavut and the Northwest Territories are higher in latitude (closer to the North Pole). This also makes lines up with our previous analysis where many cities that were higher in latitude had colder annual temperatures compared to cities that were lower in latitude. "
   ]
  },
  {
   "cell_type": "code",
   "execution_count": null,
   "metadata": {},
   "outputs": [],
   "source": [
    "agg_data = data_w_climate.groupby(\"Province\")[\"January Average\"].mean().reset_index()\n",
    "merged_data_january = prov_data.merge(agg_data, on=\"Province\")\n",
    "\n",
    "# Initialize the map and store it in an m object\n",
    "january_map = folium.Map(location=[50, -65], zoom_start=3)\n",
    "\n",
    "folium.Choropleth(\n",
    "    geo_data=prov_data,\n",
    "    data=merged_data_january,\n",
    "    name=\"choropleth\",\n",
    "    columns=[\"Province\", \"January Average\"],\n",
    "    fill_color=\"PuBu\",\n",
    "    key_on=\"feature.properties.Province\",\n",
    "    legend_name=\"Average Lowest Temperature (Annual °C)\",\n",
    ").add_to(january_map)\n",
    "\n",
    "folium.LayerControl().add_to(january_map)\n",
    "january_map"
   ]
  },
  {
   "cell_type": "code",
   "execution_count": null,
   "metadata": {},
   "outputs": [],
   "source": [
    "agg_data = data_w_climate.groupby(\"Province\")[\"July Average\"].mean().reset_index()\n",
    "merged_data_july = prov_data.merge(agg_data, on=\"Province\")\n",
    "\n",
    "# Initialize the map and store it in an m object\n",
    "july_map = folium.Map(location=[50, -65], zoom_start=3)\n",
    "\n",
    "folium.Choropleth(\n",
    "    geo_data=prov_data,\n",
    "    data=merged_data_july,\n",
    "    name=\"choropleth\",\n",
    "    columns=[\"Province\", \"July Average\"],\n",
    "    fill_color=\"YlOrRd\",\n",
    "    key_on=\"feature.properties.Province\",\n",
    "    legend_name=\"Average Lowest Temperature (Annual °C)\",\n",
    ").add_to(july_map)\n",
    "\n",
    "folium.LayerControl().add_to(july_map)\n",
    "july_map"
   ]
  },
  {
   "cell_type": "markdown",
   "metadata": {},
   "source": [
    "Looking at the January (winter) and July (summer) maps, there appears to be slight differences compared to the overall annual temperature map. \n",
    "\n",
    "Starting with the summer map, the obvious change is the overall temperature ranges have increased as in summer, temperatures naturally increase. Other than this, Ontario appears to have the highest overall temperature compared to the other provinces on the map. Provinces like Alberta and Saskatchewan have also shown comparable increases in temperature compared to their overall annual temperatures. Nunavut clearly also appears to have the lowest overall temperature in summer. \n",
    "\n",
    "Looking at the winter map, overall temperature ranges have decreased. Nunavut and the Northwest Territories appears to have the lowest overall temperatures with Yukon and Manitoba with slightly higher temperatures. British Columbia also appears to have the highest overall temperature in winter. "
   ]
  },
  {
   "cell_type": "markdown",
   "metadata": {},
   "source": [
    "### Reflection Questions:\n",
    "\n",
    "1. How do the temperature differences between winter and summer maps highlight the seasonal variability in the climate of different provinces?\n",
    "\n",
    "2. Can you identify any patterns or connections between the climatic characteristics of provinces during different seasons and the geographical features of these regions?\n",
    "\n",
    "3. Based on the observed patterns, what are the potential implications of climate change on provinces with higher and lower average temperatures? How might these changes impact their local ecosystems?"
   ]
  },
  {
   "cell_type": "markdown",
   "metadata": {},
   "source": [
    "# Conclusion\n",
    "\n",
    "In this notebook, we imported data that identifies climate trends in the provinces of Canada. We utilized data cleaning, compared different variables to climate, and visualized winter, summer, and annual temperature maps for all provinces. If you would like to learn more about climate data in Canada, the Canadian Government provides information about historical climate data, known as [historical climate data](https://climate.weather.gc.ca/). \n",
    "\n",
    "As an extension to this notebook, you can compare local climate differences to the provincial data represented and discover the variations in climate patterns that affect your city."
   ]
  },
  {
   "cell_type": "markdown",
   "metadata": {},
   "source": [
    "[![Callysto.ca License](https://github.com/callysto/curriculum-notebooks/blob/master/callysto-notebook-banner-bottom.jpg?raw=true)](https://github.com/callysto/curriculum-notebooks/blob/master/LICENSE.md)"
   ]
  }
 ],
 "metadata": {
  "kernelspec": {
   "display_name": "Python 3",
   "language": "python",
   "name": "python3"
  },
  "language_info": {
   "codemirror_mode": {
    "name": "ipython",
    "version": 3
   },
   "file_extension": ".py",
   "mimetype": "text/x-python",
   "name": "python",
   "nbconvert_exporter": "python",
   "pygments_lexer": "ipython3",
   "version": "3.10.12"
  },
  "orig_nbformat": 4
 },
 "nbformat": 4,
 "nbformat_minor": 2
}
