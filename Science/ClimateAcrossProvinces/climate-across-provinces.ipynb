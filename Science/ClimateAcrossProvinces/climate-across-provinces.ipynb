{
 "cells": [
  {
   "cell_type": "markdown",
   "metadata": {},
   "source": [
    "![Callysto.ca Banner](https://github.com/callysto/curriculum-notebooks/blob/master/callysto-notebook-banner-top.jpg?raw=true)"
   ]
  },
  {
   "cell_type": "markdown",
   "metadata": {},
   "source": [
    "# Climate Across Provinces"
   ]
  },
  {
   "cell_type": "markdown",
   "metadata": {},
   "source": [
    "Studying climate patterns across Canadian provinces offers insights into diverse weather behaviors. Analyzing temperature shifts during specific months can reveal important information in regard to impacts on agriculture, biodiversity, and disaster preparedness. Such data helps us understand regional climate variations and make informed decisions for managing resources and planning in the face of changing temperatures.\n",
    "\n",
    "*Curriculum Connections*\n",
    "- [Investigating factors affecting Climate](https://www.alberta.ca/curriculum-science) \n",
    "\n",
    "*Investigating Questions*\n",
    "- Which provinces experience the highest and lowest annual temperatures? What geographical distinctions contribute to these temperature differences?\n",
    "- Does the variation in elevation significantly affect temperatures across provinces?\n",
    "- What natural elements, such as proximity to large water bodies or the presence of mountain ranges, can play a role in influencing temperatures across provinces?"
   ]
  },
  {
   "cell_type": "markdown",
   "metadata": {},
   "source": [
    "***"
   ]
  },
  {
   "cell_type": "markdown",
   "metadata": {},
   "source": [
    "### Import the Data\n",
    "The code below will import the Python programming libraries we need to gather and organize the data to answer our question. `▶Run` the code cell below "
   ]
  },
  {
   "cell_type": "code",
   "execution_count": null,
   "metadata": {},
   "outputs": [],
   "source": [
    "import pandas as pd\n",
    "import plotly.express as px \n",
    "import geopandas as gpd\n",
    "import folium\n",
    "import re\n",
    "print(\"Libraries imported.\")"
   ]
  },
  {
   "cell_type": "markdown",
   "metadata": {},
   "source": [
    "### Analysis"
   ]
  },
  {
   "cell_type": "markdown",
   "metadata": {},
   "source": [
    "Let's begin exploring our dataset containing information about provincial temperatures across Canada. The dataset was obtained from [Kaggle](https://www.kaggle.com/datasets/hemil26/canada-weather), data being scraped from [Wikipedia](https://en.wikipedia.org/wiki/Temperature_in_Canada). \n",
    "\n",
    "The dataset when imported is also transformed into a dataframe. You can think of a dataframe as essentially a spreadsheet, where each row represents a record or an observation, while each column represents a different attribute or variable."
   ]
  },
  {
   "cell_type": "code",
   "execution_count": null,
   "metadata": {},
   "outputs": [],
   "source": [
    "climate_data = pd.read_csv('https://raw.githubusercontent.com/callysto/data-files/main/Science/ClimateAcrossProvinces/canada_weather.csv')\n",
    "climate_data"
   ]
  },
  {
   "cell_type": "markdown",
   "metadata": {},
   "source": [
    "We notice that in our dataset, we have *10* different columns. Going from left to right, `Community` refers to the city and province of the climate data, `Weather station` refers to the 3 digit airport code that represents a particular city, `Location` refers to the latitude and longitude coordinates of the particular weather station, and `Elevation` refers how far above each particular station is from sea-level. The rest of the columns seems to refer specific month average temperatures, varying from high to low, or annual average temperatures, which also vary from high to low. "
   ]
  },
  {
   "cell_type": "markdown",
   "metadata": {},
   "source": [
    "### Data Cleaning"
   ]
  },
  {
   "cell_type": "markdown",
   "metadata": {},
   "source": [
    "Now that we've gotten a better sense of what type of information is inside our dataset, let's perform data cleaning.\n",
    "\n",
    "Data cleaning is like tidying up information to make it useful and accurate. Just like you clean and organize your room, data cleaning helps make data neat and organized.\n",
    "\n",
    "Imagine you have a bunch of information about your classmates, like their names, ages, and favorite colors. But sometimes, mistakes or errors can happen when collecting this information. For example, someone may have misspelled a name or entered the wrong age for a classmate.\n",
    "\n",
    "Data cleaning involves finding and fixing these mistakes. It's important because clean data helps us make better decisions and find meaningful patterns.\n",
    "\n",
    "In our particular situation, we have a couple of things we want to adjust within our dataframe. These include separating provincial codes from cities and adjusting the temperature/elevation columns into only showing numbers for data manipulation later on. We'll go over these steps more in depth in the upcoming cells."
   ]
  },
  {
   "cell_type": "markdown",
   "metadata": {},
   "source": [
    "To begin, let's take the provincial codes from each city (which is found at the end of each city) and put the codes into their own column. \n",
    "\n",
    "Note: To reduce showing large outputs of **climate_data** every time something is adjusted, we will be using *.sample* to show a random sample of 5 different rows in the data as a means of showing change in the dataframe."
   ]
  },
  {
   "cell_type": "code",
   "execution_count": null,
   "metadata": {},
   "outputs": [],
   "source": [
    "climate_data['Province'] = climate_data.Community.str[-2:]\n",
    "climate_data.sample(5)"
   ]
  },
  {
   "cell_type": "markdown",
   "metadata": {},
   "source": [
    "Perfect! We now have a new column called `Province` which contains only provincial codes. The next issue we want to tackle is in regard to how our data is presented in columns, particularly the temperature-related columns. \n",
    "\n",
    "In these columns, we only want individual temperature values without brackets. This would allow us to define a specific value or float (decimal-point number) to each column entry instead of the entries being considered strings (words). We can fix this by identifying the first *(* bracket and then cutting off the string at this bracket point. Afterwards, we can also replace the string negative sign with an actual negative sign. We then can convert our string into a float as we would only have a string version of a number which can be easily converted by Python. \n"
   ]
  },
  {
   "cell_type": "code",
   "execution_count": null,
   "metadata": {},
   "outputs": [],
   "source": [
    "def clean_and_convert_to_float(s):\n",
    "    # replace to actual negative float symbol\n",
    "    cleaned_value = s.split('(')[0].strip().replace('−', '-')\n",
    "    try:\n",
    "        return float(cleaned_value)\n",
    "    except ValueError:\n",
    "        return None  "
   ]
  },
  {
   "cell_type": "code",
   "execution_count": null,
   "metadata": {},
   "outputs": [],
   "source": [
    "columns_to_clean = [\n",
    "    'Annual(Avg. high °C (°F))',\n",
    "    'January(Avg. high °C (°F))',\n",
    "    'January(Avg. low °C (°F))',\n",
    "    'July(Avg. high °C (°F))',\n",
    "    'July(Avg. low °C (°F))',\n",
    "    'Annual(Avg. low °C (°F))'\n",
    "]\n",
    "\n",
    "for column in columns_to_clean:\n",
    "    climate_data[column] = climate_data[column].apply(clean_and_convert_to_float)\n",
    "climate_data.sample(5)"
   ]
  },
  {
   "cell_type": "markdown",
   "metadata": {},
   "source": [
    "Now our values are only single decimal-point numbers, alongside negative numbers. The final thing we need to do is fix the `Elevation` column. Similarly to our temperature columns, we want to only have a single decimal-point number in these column entries for easier data manipulation later on. This is achieved similarly where we find the first instance of an *m* and then cut the string off from that point. We also have cases of numbers having commas in them such as 1,084m. To get around this, whenever we see a *,*, we can replace it with an empty space.  "
   ]
  },
  {
   "cell_type": "code",
   "execution_count": null,
   "metadata": {},
   "outputs": [],
   "source": [
    "def fix_elevation(text):\n",
    "    new_elevation = text.split('m')[0].replace(',', '').strip()\n",
    "    try:\n",
    "        return float(new_elevation)\n",
    "    except ValueError:\n",
    "        return None"
   ]
  },
  {
   "cell_type": "code",
   "execution_count": null,
   "metadata": {},
   "outputs": [],
   "source": [
    "climate_data['Elevation'] = climate_data['Elevation'].apply(fix_elevation)\n",
    "climate_data.sample(5)"
   ]
  },
  {
   "cell_type": "markdown",
   "metadata": {},
   "source": [
    "### Highest and Lowest Temperatures"
   ]
  },
  {
   "cell_type": "markdown",
   "metadata": {},
   "source": [
    "Perfect! Now that we're done cleaning our data, we can move onto analysis and visualizing our data. First, since we have access to months, January and July, that are correlated with *winter* and *summer* respectively, let's find which city/province contains the coldest and hottest temperatures in our dataframe.\n",
    "\n",
    "Let's do this by finding the lowest average temperature found in the column `January(Avg. low °C (°F))` (representing winter) and the highest average temperature found in the column `July(Avg. high °C (°F))`  (representing summer)."
   ]
  },
  {
   "cell_type": "code",
   "execution_count": null,
   "metadata": {},
   "outputs": [],
   "source": [
    "lowest_jan_temp_data = climate_data[climate_data['January(Avg. low °C (°F))'] == climate_data['January(Avg. low °C (°F))'].min()]\n",
    "highest_july_temp_data = climate_data[climate_data['July(Avg. high °C (°F))'] == climate_data['July(Avg. high °C (°F))'].max()]\n",
    "\n",
    "location_jan = lowest_jan_temp_data['Community'].to_string(index=False)\n",
    "location_july = highest_july_temp_data['Community'].to_string(index=False)\n",
    "\n",
    "jan_temp = lowest_jan_temp_data['January(Avg. low °C (°F))'].to_string(index=False)\n",
    "july_temp = highest_july_temp_data['July(Avg. high °C (°F))'].to_string(index=False)\n",
    "\n",
    "print(f\"The lowest average temperature recorded in January in the dataset was in {location_jan}, with a recorded temperature of {jan_temp}°C\")\n",
    "print(f\"The highest average temperature recorded in July in the dataset was in {location_july}, with a recorded temperature of {july_temp}°C\")"
   ]
  },
  {
   "cell_type": "markdown",
   "metadata": {},
   "source": [
    "It appears that the coldest recorded temperature in January was recorded in Resolute, Nunavut and the highest recorded temperature in July was recorded in Kamloops, British Columbia. \n",
    "\n",
    "This makes sense due to the geographical and climatic differences between Nunavut and British Columbia. Nunavut is a territory located in northern Canada, characterized by its high latitude and Arctic climate. In January, during the heart of winter, Nunavut experiences extreme cold temperatures due to its proximity to the Arctic Circle and its exposure to polar air masses.\n",
    "\n",
    "On the other hand, British Columbia is a province situated on the west coast of Canada. It benefits from the moderating influence of the Pacific Ocean, which tends to keep its coastal regions milder in comparison to more inland areas. In July, during the summer months, British Columbia can experience higher temperatures due to the ocean's ability to store and release heat slowly, leading to warmer conditions along its coastline.\n",
    "\n",
    "However, considering the averages of the highest and lowest temperatures for each month might provide a more comprehensive understanding of the overall climate in these regions. Let's do this by taking the average between both the January and July temperature columns. "
   ]
  },
  {
   "cell_type": "code",
   "execution_count": null,
   "metadata": {},
   "outputs": [],
   "source": [
    "climate_data['January Average'] = climate_data[['January(Avg. low °C (°F))', 'January(Avg. high °C (°F))']].mean(axis=1)\n",
    "climate_data['July Average'] = climate_data[['July(Avg. low °C (°F))', 'July(Avg. high °C (°F))']].mean(axis=1)\n",
    "climate_data.sample(5)"
   ]
  },
  {
   "cell_type": "code",
   "execution_count": null,
   "metadata": {},
   "outputs": [],
   "source": [
    "avg_jan_temp = climate_data[climate_data['January Average'] == climate_data['January Average'].min()]\n",
    "avg_july_temp = climate_data[climate_data['July Average'] == climate_data['July Average'].max()]\n",
    "\n",
    "location_jan = avg_jan_temp['Community'].to_string(index=False)\n",
    "location_july = avg_july_temp['Community'].to_string(index=False)\n",
    "\n",
    "jan_temp = avg_jan_temp['January Average'].to_string(index=False)\n",
    "july_temp = avg_july_temp['July Average'].to_string(index=False)\n",
    "\n",
    "print(f\"The lowest overall average temperature recorded in January in the dataset was in {location_jan}, with a recorded temperature of {jan_temp}°C\")\n",
    "print(f\"The highest overall average temperature recorded in July in the dataset was in {location_july}, with a recorded temperature of {july_temp}°C\")"
   ]
  },
  {
   "cell_type": "markdown",
   "metadata": {},
   "source": [
    "It appears that there is a difference in our output, with the highest overall average temperature in July now being Windsor, Ontario. This would mean that the reason why Windsor overall has a higher overall average temperature is due to a combination of either/both Windsor having a high `July(Avg. low °C (°F))` value or Kamloops having a low `July(Avg. low °C (°F))` value. \n",
    "\n",
    "As for general reasons why Windsor has a high overall average temperature, Windsor being situated in southern Ontario, is close to the Great Lakes, leading to similar effects onto the local climate like Kamloops, British Columbia. "
   ]
  },
  {
   "cell_type": "markdown",
   "metadata": {},
   "source": [
    "Let's also find the overall highest/lowest temperatures recorded in our dataframe and see if it differs to our findings in January and July. "
   ]
  },
  {
   "cell_type": "code",
   "execution_count": null,
   "metadata": {},
   "outputs": [],
   "source": [
    "overall_highest_temp = climate_data[climate_data['Annual(Avg. high °C (°F))'] == climate_data['Annual(Avg. high °C (°F))'].max()]\n",
    "overall_lowest_temp = climate_data[climate_data['Annual(Avg. low °C (°F))'] == climate_data['Annual(Avg. low °C (°F))'].min()]\n",
    "highest_overall_loc = overall_highest_temp['Community'].to_string(index=False)\n",
    "lowest_overall_loc = overall_lowest_temp['Community'].to_string(index=False)\n",
    "highest_temp = overall_highest_temp['Annual(Avg. high °C (°F))'].to_string(index=False)\n",
    "lowest_temp = overall_lowest_temp['Annual(Avg. high °C (°F))'].to_string(index=False)\n",
    "\n",
    "print(f\"The ovearll lowest annual temperature recorded in the dataset was in {lowest_overall_loc}, with a recorded temperature of {lowest_temp}°C\")\n",
    "print(f\"The overall highest annual temperature recorded in the dataset was in {highest_overall_loc}, with a recorded temperature of {highest_temp}°C\")"
   ]
  },
  {
   "cell_type": "markdown",
   "metadata": {},
   "source": [
    "Looking at the output, it appears there are no differences compared to the January and July outputs. This generally makes sense as the province that records the coldest temperature in January, a month characterized by winter, naturally tends to have a climate that sustains cold conditions throughout the year. In contrast, the province boasting the highest July temperatures, a month representing the peak of summer, naturally maintains a warmer climate on an annual basis. "
   ]
  },
  {
   "cell_type": "markdown",
   "metadata": {},
   "source": [
    "### Elevation Effects"
   ]
  },
  {
   "cell_type": "markdown",
   "metadata": {},
   "source": [
    "Now that we've taken a look into the provinces/cities that have the coldest/hottest average temperatures, let's see if *elevation* has any significant impact onto the overall temperatures in the dataframe. This can be done by plotting the elevations of cities in the dataframe versus the overall annual average temperatures (both high and low)."
   ]
  },
  {
   "cell_type": "code",
   "execution_count": null,
   "metadata": {},
   "outputs": [],
   "source": [
    "elevation_fig = px.scatter(climate_data, x='Elevation', y='Annual(Avg. high °C (°F))', color='Province', hover_data='Community').show()"
   ]
  },
  {
   "cell_type": "code",
   "execution_count": null,
   "metadata": {},
   "outputs": [],
   "source": [
    "elevation_fig = px.scatter(climate_data, x='Elevation', y='Annual(Avg. low °C (°F))', color='Province', hover_data='Community').show()"
   ]
  },
  {
   "cell_type": "markdown",
   "metadata": {},
   "source": [
    "Looking at the output of the figures, there doesn't seem to be a definitive case to say that elevation is a main cause of temperatures. Starting with the highest annual averages, there appears to be cities that have low elevation such as Resolute and Victoria but have staggeringly different annual highest temperatures. The former has an annual average high of -12.7°C while the latter has an annual average high of 14.4°C. This is reflected similarly in the annual lowest temperatures. "
   ]
  },
  {
   "cell_type": "markdown",
   "metadata": {},
   "source": [
    "### Visualizing Provinces"
   ]
  },
  {
   "cell_type": "markdown",
   "metadata": {},
   "source": [
    "In this final section, we'll be visualizing climate differences between provinces, visualizing it through folium. To begin, let's read the geoJSON data of the provinces in Canada. GeoJSON in this context refers to representing the geographical boundaries and shapes between the different provinces in Canada. "
   ]
  },
  {
   "cell_type": "code",
   "execution_count": null,
   "metadata": {},
   "outputs": [],
   "source": [
    "prov_data = gpd.read_file('https://raw.githubusercontent.com/callysto/data-files/main/Science/ClimateAcrossProvinces/geopandas.geojson')\n",
    "prov_data"
   ]
  },
  {
   "cell_type": "markdown",
   "metadata": {},
   "source": [
    "Looking at the imported data, the only columns of real importance are the geometries of each province, which refers to the boundaries for each province, and the actual province names. Let's get rid of the other columns to remove any unnecessary confusion in the dataframe. "
   ]
  },
  {
   "cell_type": "code",
   "execution_count": null,
   "metadata": {},
   "outputs": [],
   "source": [
    "prov_data.drop(columns=['prov_name_en', 'geo_point_2d', 'prov_area_code', 'year'],inplace=True)"
   ]
  },
  {
   "cell_type": "markdown",
   "metadata": {},
   "source": [
    "Furthermore, let's convert the names of the provinces to just the abbrevations of the provinces in order to match the format we have of our other *climate_data* dataframe."
   ]
  },
  {
   "cell_type": "code",
   "execution_count": null,
   "metadata": {},
   "outputs": [],
   "source": [
    "prov_data.prov_name_fr.replace(\n",
    "    {\n",
    "        'Alberta': 'AB',\n",
    "        'Manitoba': 'MB',\n",
    "        'Yukon': 'YT',\n",
    "        'Terre-Neuve-et-Labrador': 'NL',\n",
    "        'Nouveau-Brunswick': 'NB',\n",
    "        'Saskatchewan': 'SK',\n",
    "        'Nouvelle-Écosse': 'NS',\n",
    "        'Territoires du Nord-Ouest': 'NT',\n",
    "        'Île-du-Prince-Édouard': 'PE',\n",
    "        'Nunavut': 'NU',\n",
    "        'Québec': 'QC',\n",
    "        'Ontario': 'ON',\n",
    "        'Colombie-Britannique': 'BC'\n",
    "    },\n",
    "    inplace=True\n",
    ")\n",
    "\n",
    "prov_data.rename(columns={'prov_name_fr': \"Province\"}, inplace=True)  \n",
    "prov_data"
   ]
  },
  {
   "cell_type": "markdown",
   "metadata": {},
   "source": [
    "Now, we can merge our two dataframes *climate_data* and *prov_data* into one dataframe in order to get the right `geometry` data for each city/province as both dataframes contain a `Province` column. By   leveraging a left join approach, it ensures that every entry in the resulting dataframe, named data_w_climate, retains its geometry data while also incorporating climate-related details. "
   ]
  },
  {
   "cell_type": "code",
   "execution_count": null,
   "metadata": {},
   "outputs": [],
   "source": [
    "data_w_climate = prov_data.merge(climate_data, left_on='Province', right_on='Province', how='left')\n",
    "data_w_climate.sample(5)"
   ]
  },
  {
   "cell_type": "markdown",
   "metadata": {},
   "source": [
    "Perfect! Now we have a merged dataframe that contains provincial geometry data for each entry. One last step before plotting our data is to take the average of each province so that we have individual numbers for each province. Afterwards, we can start visualize provincial differences, starting with `Annual(Avg. high °C (°F))`."
   ]
  },
  {
   "cell_type": "code",
   "execution_count": null,
   "metadata": {},
   "outputs": [],
   "source": [
    "agg_data = data_w_climate.groupby(\"Province\")[\"Annual(Avg. high °C (°F))\"].mean().reset_index()\n",
    "merged_data = prov_data.merge(agg_data, on=\"Province\")\n",
    "merged_data"
   ]
  },
  {
   "cell_type": "code",
   "execution_count": null,
   "metadata": {},
   "outputs": [],
   "source": [
    "# Initialize the map and store it in an m object\n",
    "highest_temp_map = folium.Map(location=[50, -65], zoom_start=3)\n",
    "\n",
    "folium.Choropleth(\n",
    "    geo_data=prov_data,\n",
    "    data=merged_data,\n",
    "    name=\"choropleth\",\n",
    "    columns=[\"Province\", \"Annual(Avg. high °C (°F))\"],\n",
    "    fill_color=\"YlOrRd\",\n",
    "    key_on=\"feature.properties.Province\",\n",
    "    legend_name=\"Average Highest Temperature (Annual)\",\n",
    ").add_to(highest_temp_map)\n",
    "\n",
    "folium.LayerControl().add_to(highest_temp_map)\n",
    "highest_temp_map"
   ]
  },
  {
   "cell_type": "markdown",
   "metadata": {},
   "source": [
    "Looking at the folium map, it appears that provinces like British Columbia, Ontario, "
   ]
  },
  {
   "cell_type": "code",
   "execution_count": null,
   "metadata": {},
   "outputs": [],
   "source": [
    "agg_data = data_w_climate.groupby(\"Province\")[\"Annual(Avg. low °C (°F))\"].mean().reset_index()\n",
    "merged_data_low_temp = prov_data.merge(agg_data, on=\"Province\")\n",
    "\n",
    "# Initialize the map and store it in an m object\n",
    "lowest_temp_map = folium.Map(location=[50, -65], zoom_start=3)\n",
    "\n",
    "folium.Choropleth(\n",
    "    geo_data=prov_data,\n",
    "    data=merged_data_low_temp,\n",
    "    name=\"choropleth\",\n",
    "    columns=[\"Province\", \"Annual(Avg. low °C (°F))\"],\n",
    "    fill_color=\"PuBu\",\n",
    "    key_on=\"feature.properties.Province\",\n",
    "    legend_name=\"Average Lowest Temperature (Annual)\",\n",
    ").add_to(lowest_temp_map)\n",
    "\n",
    "folium.LayerControl().add_to(lowest_temp_map)\n",
    "lowest_temp_map"
   ]
  },
  {
   "cell_type": "markdown",
   "metadata": {},
   "source": [
    "# Conclusion\n",
    "\n",
    "The Canadian Government provides information in regard to large bodies of water, known as [hydrometric data](https://wateroffice.ec.gc.ca/mainmenu/real_time_data_index_e.html). In this notebook, we imported this data and identified potential trends apparent in water level data alongside predictions of future water levels through machine learning.\n",
    "\n",
    "Perhaps you can try extension activities such as utilizing machine learning to different fields of science, such as predicting a classmate's height, or seeing what a house would be priced at based on the size of the house."
   ]
  },
  {
   "cell_type": "markdown",
   "metadata": {},
   "source": [
    "[![Callysto.ca License](https://github.com/callysto/curriculum-notebooks/blob/master/callysto-notebook-banner-bottom.jpg?raw=true)](https://github.com/callysto/curriculum-notebooks/blob/master/LICENSE.md)"
   ]
  }
 ],
 "metadata": {
  "kernelspec": {
   "display_name": "Python 3",
   "language": "python",
   "name": "python3"
  },
  "language_info": {
   "codemirror_mode": {
    "name": "ipython",
    "version": 3
   },
   "file_extension": ".py",
   "mimetype": "text/x-python",
   "name": "python",
   "nbconvert_exporter": "python",
   "pygments_lexer": "ipython3",
   "version": "3.10.8"
  },
  "orig_nbformat": 4
 },
 "nbformat": 4,
 "nbformat_minor": 2
}
