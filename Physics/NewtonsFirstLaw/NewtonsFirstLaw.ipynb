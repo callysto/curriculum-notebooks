{
 "cells": [
  {
   "cell_type": "markdown",
   "metadata": {},
   "source": [
    "\n",
    "<div style=\"text-align: right\"> \n",
    "Callysto.ca \n",
    "<img style=\"float: right;\" width=\"100px\" src=\"C_logo.png\">\n",
    "</div>\n",
    "\n",
    "# Newton's First Law\n",
    "\n",
    "Callysto demo from Michael Lamoureux. 2018. "
   ]
  },
  {
   "cell_type": "code",
   "execution_count": 1,
   "metadata": {},
   "outputs": [
    {
     "data": {
      "text/html": [
       "\n",
       "<script>\n",
       "  function code_toggle() {\n",
       "    if (code_shown){\n",
       "      $('div.input').hide('500');\n",
       "      $('#toggleButton').val('Show Code')\n",
       "    } else {\n",
       "      $('div.input').show('500');\n",
       "      $('#toggleButton').val('Hide Code')\n",
       "    }\n",
       "    code_shown = !code_shown\n",
       "  }\n",
       "\n",
       "  $( document ).ready(function(){\n",
       "    code_shown=false;\n",
       "    $('div.input').hide()\n",
       "  });\n",
       "</script>\n",
       "\n",
       "<form action=\"javascript:code_toggle()\"><input type=\"submit\" id=\"toggleButton\" value=\"Show Code\"></form>"
      ],
      "text/plain": [
       "<IPython.core.display.HTML object>"
      ]
     },
     "metadata": {},
     "output_type": "display_data"
    }
   ],
   "source": [
    "%%html\n",
    "\n",
    "<script>\n",
    "  function code_toggle() {\n",
    "    if (code_shown){\n",
    "      $('div.input').hide('500');\n",
    "      $('#toggleButton').val('Show Code')\n",
    "    } else {\n",
    "      $('div.input').show('500');\n",
    "      $('#toggleButton').val('Hide Code')\n",
    "    }\n",
    "    code_shown = !code_shown\n",
    "  }\n",
    "\n",
    "  $( document ).ready(function(){\n",
    "    code_shown=false;\n",
    "    $('div.input').hide()\n",
    "  });\n",
    "</script>\n",
    "\n",
    "<form action=\"javascript:code_toggle()\"><input type=\"submit\" id=\"toggleButton\" value=\"Show Code\"></form>\n"
   ]
  },
  {
   "cell_type": "markdown",
   "metadata": {},
   "source": [
    "## Curling \n",
    "\n",
    "As a demonstration of Newton's laws. Watch how the rocks move in straight lines, then bounce when they hit."
   ]
  },
  {
   "cell_type": "code",
   "execution_count": 7,
   "metadata": {},
   "outputs": [
    {
     "data": {
      "text/html": [
       "<H1> Curling in Canada <p><iframe width=\"560\" height=\"315\" src=\"https://www.youtube.com/embed/Kwz-cicOUFk?rel=0&amp;start=9;showinfo=0\" frameborder=\"0\" allow=\"autoplay; encrypted-media\" allowfullscreen> </iframe></p>"
      ],
      "text/plain": [
       "<IPython.core.display.HTML object>"
      ]
     },
     "execution_count": 7,
     "metadata": {},
     "output_type": "execute_result"
    }
   ],
   "source": [
    "from IPython.display import HTML\n",
    "\n",
    "HTML('<H1> Curling in Canada <p><iframe width=\"560\" height=\"315\" src=\"https://www.youtube.com/embed/Kwz-cicOUFk?rel=0&amp;start=9;showinfo=0\" frameborder=\"0\" allow=\"autoplay; encrypted-media\" allowfullscreen> </iframe></p>' )"
   ]
  },
  {
   "cell_type": "markdown",
   "metadata": {},
   "source": [
    "### The curling video demonstrates Newton's three laws:\n",
    "\n",
    "1. A body at **rest** stays at **rest**. A body in **motion** stays in **motion**, with uniform speed in a straight line. A change happens only if a **force** acts on the body.\n",
    "\n",
    "2. The **force** on the body equals the rate of change of its **momentum** (mass times velocity). \n",
    "\n",
    "3. For every **action**, there is an equal and opposite **reaction**. \n",
    "    \n",
    "The curling video demonstrates Newton's three laws as a particular example. In these curling videos, we see:\n",
    "\n",
    "1. A rock that is not moving on the ice, stays still until something hits it. A rock sliding on the ice continues to slide until it hits something. You can sense the force at work if you imagine your hand stuck between two rocks as they hit. Ouch, that would hurt -- it is a strong force.\n",
    "\n",
    "2. When a fast rock hits another rock, you can imagine the force is bigger. Your hand stuck between would get hurt even more! We see the faster rock causes a bigger change in the motion as it hits. So a bigger force gives a bigger change in momentum.\n",
    "\n",
    "3. When two rocks hit each other, one moves one way, the other moves in a different direction. While we haven't put numbers onto the motion, we can see that one change in motion is opposite to the other. This is the equal and opposite reaction. \n",
    "\n",
    "And what's with the sweeping and the brooms? The sweepers are melting the ice, creating the thin layer of water on the surface to reduce the friction on the curling rock, allowing it to travel fast and straight. "
   ]
  },
  {
   "cell_type": "markdown",
   "metadata": {},
   "source": [
    "## Newton's first law\n",
    "\n",
    "Newton's first law would be a surprise to the ancient Greeks, and even to some of us today, becasue it goes against our experience. The ancients believed that for most objects, the natural state was rest. For instance, you slide a chair along the floor and then is comes to a stop. You drop a rock from your hand, and it falls to the ground and stops. You paddle a boat to get it moving, and when you stop paddling, the boat stops. Everything likes to stop. If you want something to move, you have to push it, and keep pushing if you want it to keep moving. \n",
    "\n",
    "Planets, and the moon, were considered special because they keep moving without anything obvious pushing them. At least to the ancients, they were considered special. \n",
    "\n",
    "Newton said **No**. Things that are moving, will keep moving, until something makes them stop. When you push a chair across the floor, the reason it stops is because of the force of friction from the floor acting on the chair's leg. A boat stops in the water because of the drag force of the water on the boat. Even a curling rock will eventually come to rest, because there is still a tiny bit of friction between the rock and the very slippery icy surface of the curling rink. Everything that comes to a stop does so because of some force acting on it. \n",
    "\n",
    "Planets, and the moon, don't stop moving because there is nothing in space acting as friction to slow down their motion. \n",
    "\n",
    "Newton also noted that moving objects will move in a straight line, with constant velocity, unless there is a force acting on it. So the curling rock moves straight until it hits something, resulting in a force that pushes it off course from a straight line. A rock that you throw would travel straight, until you notice that gravity is pulling it into a curved path as it falls to the ground. \n",
    "\n",
    "Even the planet, and moon, travel in curved paths (elllipses) because the force of gravity is causing them to move away from the straight line path they would take if there was no force on them.\n",
    "\n",
    "It was Newton who realized that the force that causes a rock to fall to the ground is the same force that keeps the moon going around the Earth.\n",
    "\n",
    "This property of a body to stay in uniform motion (or rest) is called inertia."
   ]
  },
  {
   "cell_type": "markdown",
   "metadata": {},
   "source": [
    "## Simulation of Newton's first law\n",
    "\n",
    "We can create a simulation of Newton's first law by doing a numerical simulation of curling.\n",
    "\n",
    "Below, we have four circles (curling stones) in a line. They will not move, until some force acts on them. (The first law).\n",
    "\n",
    "We see a fifth stone comes in from the left, hits the first stone in the line and causes it to move. Then one stone hits the other, and the other, and the other, until the last one shoots out the end.\n",
    "\n",
    "The simulations will repeat every few seconds. "
   ]
  },
  {
   "cell_type": "code",
   "execution_count": 3,
   "metadata": {},
   "outputs": [],
   "source": [
    "from IPython.display import IFrame"
   ]
  },
  {
   "cell_type": "code",
   "execution_count": 4,
   "metadata": {},
   "outputs": [
    {
     "data": {
      "text/html": [
       "\n",
       "        <iframe\n",
       "            width=\"500\"\n",
       "            height=\"500\"\n",
       "            src=\"C1.html\"\n",
       "            frameborder=\"0\"\n",
       "            allowfullscreen\n",
       "        ></iframe>\n",
       "        "
      ],
      "text/plain": [
       "<IPython.lib.display.IFrame at 0x7fef6d3efb38>"
      ]
     },
     "execution_count": 4,
     "metadata": {},
     "output_type": "execute_result"
    }
   ],
   "source": [
    "with open('Collision1.txt','r') as f:\n",
    "    s=f.read()\n",
    "    with open('C1.html','w') as g:\n",
    "        g.write(s)\n",
    "    \n",
    "IFrame('C1.html',500,500)"
   ]
  },
  {
   "cell_type": "markdown",
   "metadata": {},
   "source": [
    "## A better simulation\n",
    "\n",
    "Of course, this is a \"perfect\" simulation, where all five stones are in a perfectly straight line. A more realistic situation will have the stones slightly misaligned. In the simulation below, the first stone in the line is slighly out of place. A much more interesting collision is the result.\n",
    "\n",
    "Notice, however, once a stone is hit, it moves in a straight line, at a constant speed. This is also in the statement of Newton's first law. If there is no force acting on the object, it will move at uniform speed in a constant direction.\n",
    "\n"
   ]
  },
  {
   "cell_type": "code",
   "execution_count": 5,
   "metadata": {},
   "outputs": [
    {
     "data": {
      "text/html": [
       "\n",
       "        <iframe\n",
       "            width=\"500\"\n",
       "            height=\"500\"\n",
       "            src=\"C2.html\"\n",
       "            frameborder=\"0\"\n",
       "            allowfullscreen\n",
       "        ></iframe>\n",
       "        "
      ],
      "text/plain": [
       "<IPython.lib.display.IFrame at 0x7fef6d3efb70>"
      ]
     },
     "execution_count": 5,
     "metadata": {},
     "output_type": "execute_result"
    }
   ],
   "source": [
    "with open('Collision2.txt','r') as f:\n",
    "    s=f.read()\n",
    "    with open('C2.html','w') as g:\n",
    "        g.write(s)\n",
    "    \n",
    "IFrame('C2.html',500,500)"
   ]
  },
  {
   "cell_type": "markdown",
   "metadata": {},
   "source": [
    "## Consequence of the First Law\n",
    "\n",
    "An immediate consequence of the first law is that if an object is **NOT** moving at a uniform speed, or not in a straight line, there must be some force acting on it. It is interesting to look at many examples, and figure out what is the force on the object. Here are a few examples.\n",
    "\n"
   ]
  },
  {
   "cell_type": "markdown",
   "metadata": {},
   "source": [
    "**Human cannonball:**\n",
    "\n",
    "- the cannon forces her into the air at high speed\n",
    "- the arc of her motion shows there must be a force (gravity) making her path deviate from a straight line. \n",
    "\n",
    "![cannonball](images/cannonball.gif)"
   ]
  },
  {
   "cell_type": "markdown",
   "metadata": {},
   "source": [
    "**Soccer ball:**\n",
    "\n",
    "- the ball is falling towards the player, in a curve due to gravity\n",
    "- the force of his kick gets the ball moving towards the goal\n",
    "- the curve as the ball heads to the goal is from the air pushing unevening as the ball spins rapidly\n",
    "\n",
    "![soccer ball](images/wiffle.gif)"
   ]
  },
  {
   "cell_type": "markdown",
   "metadata": {},
   "source": [
    "**Planets:**\n",
    "\n",
    "The planets don't move in straight lines, so there must be some force causing them to deviate from the straight, uniform path. Newton's discovery of uniform gravitation was an application of his first law -- that something making the planets' path curve is gravity. The same force that causes soccer balls and cannon balls to fall. \n",
    "\n",
    "![planets](images/planets.gif)"
   ]
  },
  {
   "cell_type": "markdown",
   "metadata": {},
   "source": [
    "## Many forces simlulation\n",
    "\n",
    "In typical situations, there are many forces in action. In the following simulation of the famous *Newton's Cradle,* there are at least four forces at work:\n",
    "\n",
    "- gravity, which makes the pendulums swing back and force\n",
    "- collision force, when the balls hit each other\n",
    "- elastic force, where the wire connecting the balls to the anchor are actually springs\n",
    "- friction forces, which causes the pendulums to slowly die down and stop.\n",
    "\n",
    "Note you can use the mouse to \"grab\" a pendulum and position it where you want. See if you can cause motions that highlight each of these forces.\n",
    "\n"
   ]
  },
  {
   "cell_type": "code",
   "execution_count": 6,
   "metadata": {},
   "outputs": [
    {
     "data": {
      "text/html": [
       "\n",
       "        <iframe\n",
       "            width=\"500\"\n",
       "            height=\"500\"\n",
       "            src=\"C3.html\"\n",
       "            frameborder=\"0\"\n",
       "            allowfullscreen\n",
       "        ></iframe>\n",
       "        "
      ],
      "text/plain": [
       "<IPython.lib.display.IFrame at 0x7fef6d3efbe0>"
      ]
     },
     "execution_count": 6,
     "metadata": {},
     "output_type": "execute_result"
    }
   ],
   "source": [
    "with open('Cradle.txt','r') as f:\n",
    "    s=f.read()\n",
    "    with open('C3.html','w') as g:\n",
    "        g.write(s)\n",
    "    \n",
    "IFrame('C3.html',500,500)"
   ]
  },
  {
   "cell_type": "markdown",
   "metadata": {},
   "source": [
    "## Summary of Newton's first law\n",
    "\n",
    "The first law is a qualitative law -- there are no numbers here, no formula.\n",
    "\n",
    "It simply states that an object at rest stays at rest; a moving object moves in a straight line at uniform speed. **Unless there is a force acting on the object.**\n",
    "\n",
    "So if there are no forces, the motion is very simple. If the motion is not simple, there must be some force acting. So the interesting question is, what is the force causing a complicated motion.\n",
    "\n",
    "### Looking forward\n",
    "\n",
    "Newton's second and third las are *quantitative.* They tell us how the size and direction of a force affect the motion of the object, in a very precise manner. More on this in a later notebook."
   ]
  },
  {
   "cell_type": "code",
   "execution_count": null,
   "metadata": {},
   "outputs": [],
   "source": []
  }
 ],
 "metadata": {
  "kernelspec": {
   "display_name": "Python 3",
   "language": "python",
   "name": "python3"
  },
  "language_info": {
   "codemirror_mode": {
    "name": "ipython",
    "version": 3
   },
   "file_extension": ".py",
   "mimetype": "text/x-python",
   "name": "python",
   "nbconvert_exporter": "python",
   "pygments_lexer": "ipython3",
   "version": "3.6.5"
  }
 },
 "nbformat": 4,
 "nbformat_minor": 2
}
