{
 "cells": [
  {
   "cell_type": "markdown",
   "metadata": {},
   "source": [
    "![](https://github.com/callysto/callysto-sample-notebooks/blob/master/notebooks/images/Callysto_Notebook-Banner_Top_06.06.18.jpg?raw=true)"
   ]
  },
  {
   "cell_type": "code",
   "execution_count": 1,
   "metadata": {},
   "outputs": [
    {
     "data": {
      "text/html": [
       "<script>\n",
       "  function code_toggle() {\n",
       "    if (code_shown){\n",
       "      $('div.input').hide('500');\n",
       "      $('#toggleButton').val('Show Code')\n",
       "    } else {\n",
       "      $('div.input').show('500');\n",
       "      $('#toggleButton').val('Hide Code')\n",
       "    }\n",
       "    code_shown = !code_shown\n",
       "  }\n",
       "  \n",
       "  $( document ).ready(function(){\n",
       "    code_shown=false;\n",
       "    $('div.input').hide()\n",
       "  });\n",
       "</script>\n",
       "<form action=\"javascript:code_toggle()\"><input type=\"submit\" id=\"toggleButton\" value=\"Show Code\"></form>"
      ],
      "text/plain": [
       "<IPython.core.display.HTML object>"
      ]
     },
     "execution_count": 1,
     "metadata": {},
     "output_type": "execute_result"
    }
   ],
   "source": [
    "from IPython.display import display, Math, Latex, HTML\n",
    "HTML('''<script>\n",
    "  function code_toggle() {\n",
    "    if (code_shown){\n",
    "      $('div.input').hide('500');\n",
    "      $('#toggleButton').val('Show Code')\n",
    "    } else {\n",
    "      $('div.input').show('500');\n",
    "      $('#toggleButton').val('Hide Code')\n",
    "    }\n",
    "    code_shown = !code_shown\n",
    "  }\n",
    "  \n",
    "  $( document ).ready(function(){\n",
    "    code_shown=false;\n",
    "    $('div.input').hide()\n",
    "  });\n",
    "</script>\n",
    "<form action=\"javascript:code_toggle()\"><input type=\"submit\" id=\"toggleButton\" value=\"Show Code\"></form>''')"
   ]
  },
  {
   "cell_type": "code",
   "execution_count": 2,
   "metadata": {},
   "outputs": [],
   "source": [
    "from helper import *\n",
    "%matplotlib inline"
   ]
  },
  {
   "cell_type": "markdown",
   "metadata": {},
   "source": [
    "# Reflection of Light by Plane and Spherical Mirrors\n",
    "\n",
    "## Introduction\n",
    "\n",
    "When light shines onto the surface of an object, some of the light is reflected, while the rest is either absorbed or transmitted. We can imagine the light consisting of many narrow beams that travel in straight-line paths called **rays**. The light rays that strike the surface are called the **incident rays**. The light rays that reflect off the surface are called the **reflected rays**. This model of light is called the **ray model**, and it can be used to describe many aspects of light, including the reflection and formation of images by plane and spherical mirrors.\n",
    "\n",
    "## Law of Reflection\n",
    "\n",
    "<img src=\"Images/law_of_reflection.svg\" width=\"50%\"/>\n",
    "\n",
    "To measure the angles of the incident and reflected rays, we first draw the **normal**, which is the line perpendicular to the surface. The **angle of incidence, $\\theta_{i}$,** is the angle between the incident ray and the normal. Likewise, the **angle of reflection, $\\theta_{r}$,** is the angle between the reflected ray and the normal. The incident ray, the reflected ray, and the normal to the reflecting surface all lie within the same plane. This is shown in the figure above. Notice that the angle of reflection is equal to the angle of incidence. This is known as the **law of reflection**, and it can be expressed by the following equation:\n",
    "\n",
    "$$\\theta_{r} = \\theta_{i}$$"
   ]
  },
  {
   "cell_type": "markdown",
   "metadata": {},
   "source": [
    "Use the slider below to change the angle of incidence. This changes the angle between the incident ray and the normal. Notice how the angle of reflection also changes when the slider is moved."
   ]
  },
  {
   "cell_type": "code",
   "execution_count": 3,
   "metadata": {},
   "outputs": [
    {
     "data": {
      "application/vnd.jupyter.widget-view+json": {
       "model_id": "bb6c38bce86743cd8d60f8037768aa94",
       "version_major": 2,
       "version_minor": 0
      },
      "text/plain": [
       "interactive(children=(IntSlider(value=30, description='Distance', max=90, min=-30), Output(layout=Layout(heigh…"
      ]
     },
     "metadata": {},
     "output_type": "display_data"
    }
   ],
   "source": [
    "interactive_plot = widgets.interactive(f, Angle=widgets.IntSlider(value=45,min=0,max=90,step=15,continuous_update=False))\n",
    "output = interactive_plot.children[-1]\n",
    "output.layout.height = '280px'\n",
    "interactive_plot"
   ]
  },
  {
   "cell_type": "markdown",
   "metadata": {},
   "source": [
    "**Question:** *When the angle of incidence increases, what happens to the angle of reflection?* "
   ]
  },
  {
   "cell_type": "code",
   "execution_count": 4,
   "metadata": {
    "scrolled": true
   },
   "outputs": [
    {
     "name": "stdout",
     "output_type": "stream",
     "text": [
      "\u001b[1m(A) \u001b[0;0mThe angle of reflection remains constant.\n",
      "\u001b[1m(B) \u001b[0;0mThe angle of reflection equals zero.\n",
      "\u001b[1m(C) \u001b[0;0mThe angle of reflection decreases.\n",
      "\u001b[1m(D) \u001b[0;0mThe angle of reflection increases.\n"
     ]
    },
    {
     "data": {
      "application/vnd.jupyter.widget-view+json": {
       "model_id": "943aa4f92c164a6095f5c2ff7720160b",
       "version_major": 2,
       "version_minor": 0
      },
      "text/plain": [
       "HBox(children=(Button(description='(A)', style=ButtonStyle(button_color='Whitesmoke')), Button(description='(B…"
      ]
     },
     "metadata": {},
     "output_type": "display_data"
    },
    {
     "name": "stdout",
     "output_type": "stream",
     "text": [
      "Correct!    \r"
     ]
    }
   ],
   "source": [
    "#Assign each multiple choice to these four variables\n",
    "#Option_1 contains the answer\n",
    "option_1 = \"The angle of reflection increases.\" \n",
    "option_2 = \"The angle of reflection decreases.\"\n",
    "option_3 = \"The angle of reflection remains constant.\"\n",
    "option_4 = \"The angle of reflection equals zero.\"\n",
    "\n",
    "multiple_choice(option_1, option_2, option_3, option_4)"
   ]
  },
  {
   "cell_type": "markdown",
   "metadata": {},
   "source": [
    "## Specular and Diffuse Reflections\n",
    "\n",
    " For a very smooth surface, such as a mirror, almost all of the light is reflected to produce a **specular reflection**. In a specular reflection, the reflected light rays are parallel to one another and point in the same direction. This allows specular reflections to form images. If the surface is not very smooth, then the light may bounce off of the surface in various directions. This produces a **diffuse reflection**. Diffuse reflections cannot form images. \n",
    "\n",
    "<img src=\"Images/specular_diffuse_reflections.svg\" width=\"70%\"/>\n",
    "\n",
    "**Note:** The law of reflection still applies to diffuse reflections, even though the reflected rays are pointing in various directions. We can imagine that each small section of the rough surface is like a flat plane orientated differently than the sections around it. Since each of these sections is orientated differently, the angle of incidence is different at each section. This causes the reflected rays to scatter.\n"
   ]
  },
  {
   "cell_type": "markdown",
   "metadata": {},
   "source": [
    "**Question:** *Which of the following is an example of a specular reflection?* "
   ]
  },
  {
   "cell_type": "code",
   "execution_count": 5,
   "metadata": {},
   "outputs": [
    {
     "name": "stdout",
     "output_type": "stream",
     "text": [
      "\u001b[1m(A) \u001b[0;0mThe reflection off a clean window.\n",
      "\u001b[1m(B) \u001b[0;0mThe reflection off a wooden deck.\n",
      "\u001b[1m(C) \u001b[0;0mThe reflection off a table cloth.\n",
      "\u001b[1m(D) \u001b[0;0mThe reflection off a carpet floor.\n"
     ]
    },
    {
     "data": {
      "application/vnd.jupyter.widget-view+json": {
       "model_id": "5b1c1a215e4640618740824ee6e19be3",
       "version_major": 2,
       "version_minor": 0
      },
      "text/plain": [
       "HBox(children=(Button(description='(A)', style=ButtonStyle(button_color='Whitesmoke')), Button(description='(B…"
      ]
     },
     "metadata": {},
     "output_type": "display_data"
    },
    {
     "name": "stdout",
     "output_type": "stream",
     "text": [
      "Correct!    \r"
     ]
    }
   ],
   "source": [
    "#Assign each multiple choice to these four variables\n",
    "#Option_1 contains the answer\n",
    "option_1 = \"The reflection off a clean window.\" \n",
    "option_2 = \"The reflection off a wooden deck.\"\n",
    "option_3 = \"The reflection off a carpet floor.\"\n",
    "option_4 = \"The reflection off a table cloth.\"\n",
    "\n",
    "multiple_choice(option_1, option_2, option_3, option_4)"
   ]
  },
  {
   "cell_type": "markdown",
   "metadata": {},
   "source": [
    "**Question:** *Which of the following is an example of a diffuse reflection?* "
   ]
  },
  {
   "cell_type": "code",
   "execution_count": 6,
   "metadata": {},
   "outputs": [
    {
     "name": "stdout",
     "output_type": "stream",
     "text": [
      "\u001b[1m(A) \u001b[0;0mThe reflection off the surface of a still lake.\n",
      "\u001b[1m(B) \u001b[0;0mThe reflection off a concrete sidewalk.\n",
      "\u001b[1m(C) \u001b[0;0mThe reflection off a mirror.\n",
      "\u001b[1m(D) \u001b[0;0mThe reflection off a polished sheet of metal.\n"
     ]
    },
    {
     "data": {
      "application/vnd.jupyter.widget-view+json": {
       "model_id": "a9aa610cad77478cac9b6d13da6bbd71",
       "version_major": 2,
       "version_minor": 0
      },
      "text/plain": [
       "HBox(children=(Button(description='(A)', style=ButtonStyle(button_color='Whitesmoke')), Button(description='(B…"
      ]
     },
     "metadata": {},
     "output_type": "display_data"
    },
    {
     "name": "stdout",
     "output_type": "stream",
     "text": [
      "Try again.  \r"
     ]
    }
   ],
   "source": [
    "#Assign each multiple choice to these four variables\n",
    "#Option_1 contains the answer\n",
    "option_1 = \"The reflection off a concrete sidewalk.\" \n",
    "option_2 = \"The reflection off a mirror.\"\n",
    "option_3 = \"The reflection off the surface of a still lake.\"\n",
    "option_4 = \"The reflection off a polished sheet of metal.\"\n",
    "\n",
    "multiple_choice(option_1, option_2, option_3, option_4)"
   ]
  },
  {
   "cell_type": "markdown",
   "metadata": {},
   "source": [
    "## Image Formation by Plane Mirrors\n",
    "\n",
    "A **plane mirror** is simply a mirror made from a flat (or planar) surface. These types of mirrors are commonly found in bedroom or bathroom fixtures. When an object is reflected in a plane mirror, the image of the object appears to be located behind the mirror. This is because our brains interpret the reflected light rays entering our eyes as having traveled in straight-line paths. The light rays entering our eyes simply do not contain enough information for our brains to differentiate between a straight-line path and a path that changed direction due to a reflection.  \n",
    "\n",
    "<img src=\"Images/plane_mirror_reflection.svg\" width=\"60%\"/>\n",
    "\n",
    "Notice in the figure above that the light rays do not actually converge at the location where the image appears to be formed (behind the mirror). Since the light rays do not actually go behind the mirror, they are represented as projections using dashed lines. If a film were placed at the image location behind the mirror, it would not be able to capture the image. As a result, this type of image is called a **virtual image**. \n",
    "\n",
    "For objects reflected in a plane mirror, the distance of the image from the mirror, $d_{i}$, is always equal to the distance of the object from the mirror, $d_{o}$. If the object is moved toward the mirror, the image of the object will also move toward the mirror such that the object and the image are always equidistant from the surface of the mirror."
   ]
  },
  {
   "cell_type": "markdown",
   "metadata": {},
   "source": [
    "Use the slider below to change the object distance. Notice how the image distance also changes when the slider is moved."
   ]
  },
  {
   "cell_type": "code",
   "execution_count": 7,
   "metadata": {
    "scrolled": true
   },
   "outputs": [
    {
     "data": {
      "application/vnd.jupyter.widget-view+json": {
       "model_id": "0921efc289ef436abc3f444d0719ce7e",
       "version_major": 2,
       "version_minor": 0
      },
      "text/plain": [
       "interactive(children=(IntSlider(value=30, continuous_update=False, description='Distance', max=50, min=10, ste…"
      ]
     },
     "metadata": {},
     "output_type": "display_data"
    }
   ],
   "source": [
    "interactive_plot = widgets.interactive(f,Distance=widgets.IntSlider(value=30,min=10,max=50,step=10,continuous_update=False))\n",
    "output = interactive_plot.children[-1]\n",
    "output.layout.height = '280px'\n",
    "interactive_plot"
   ]
  },
  {
   "cell_type": "code",
   "execution_count": 8,
   "metadata": {},
   "outputs": [
    {
     "name": "stdout",
     "output_type": "stream",
     "text": [
      "If you stand 5.5 m in front of a plane mirror, how many metres behind the mirror is your virtual image?\n",
      "\u001b[1m(A) \u001b[0;0m2.8 m\n",
      "\u001b[1m(B) \u001b[0;0m11.0 m\n",
      "\u001b[1m(C) \u001b[0;0m5.5 m\n",
      "\u001b[1m(D) \u001b[0;0m1.4 m\n"
     ]
    },
    {
     "data": {
      "application/vnd.jupyter.widget-view+json": {
       "model_id": "c4e523e9b09e4ea486bc004d93ebfe62",
       "version_major": 2,
       "version_minor": 0
      },
      "text/plain": [
       "HBox(children=(Button(description='(A)', style=ButtonStyle(button_color='Whitesmoke')), Button(description='(B…"
      ]
     },
     "metadata": {},
     "output_type": "display_data"
    },
    {
     "name": "stdout",
     "output_type": "stream",
     "text": [
      "Try again.  \r"
     ]
    }
   ],
   "source": [
    "#Print question\n",
    "distance = round(random.uniform(5,10),1)\n",
    "print(\"If you stand \" + str(distance) + \" m in front of a plane mirror, how many metres behind the mirror is your virtual image?\")\n",
    "\n",
    "#Answer calculation\n",
    "answer = distance\n",
    "    \n",
    "#Assign each multiple choice to these four variables\n",
    "#Option_1 contains the answer\n",
    "option_1 = str(round((answer),1)) + \" m\" \n",
    "option_2 = str(round((answer * 2),1)) + \" m\"\n",
    "option_3 = str(round((answer / 2),1)) + \" m\"\n",
    "option_4 = str(round((answer / 4),1)) + \" m\"\n",
    "\n",
    "multiple_choice(option_1, option_2, option_3, option_4)"
   ]
  },
  {
   "cell_type": "code",
   "execution_count": 9,
   "metadata": {},
   "outputs": [
    {
     "name": "stdout",
     "output_type": "stream",
     "text": [
      "If you stand 6.9 m in front of a plane mirror, how many metres will separate you from your virtual image?\n",
      "\u001b[1m(A) \u001b[0;0m3.5 m\n",
      "\u001b[1m(B) \u001b[0;0m6.9 m\n",
      "\u001b[1m(C) \u001b[0;0m27.6 m\n",
      "\u001b[1m(D) \u001b[0;0m13.8 m\n"
     ]
    },
    {
     "data": {
      "application/vnd.jupyter.widget-view+json": {
       "model_id": "df61d48a7a9a437bbe1094702857c9b2",
       "version_major": 2,
       "version_minor": 0
      },
      "text/plain": [
       "HBox(children=(Button(description='(A)', style=ButtonStyle(button_color='Whitesmoke')), Button(description='(B…"
      ]
     },
     "metadata": {},
     "output_type": "display_data"
    },
    {
     "name": "stdout",
     "output_type": "stream",
     "text": [
      "Try again.  \r"
     ]
    }
   ],
   "source": [
    "#Print question\n",
    "distance = round(random.uniform(5,10),1)\n",
    "print(\"If you stand \" + str(distance) + \" m in front of a plane mirror, how many metres will separate you from your virtual image?\")\n",
    "\n",
    "#Answer calculation\n",
    "answer = (distance * 2)\n",
    "    \n",
    "#Assign each multiple choice to these four variables\n",
    "#Option_1 contains the answer\n",
    "option_1 = str(round((answer),1)) + \" m\" \n",
    "option_2 = str(round((answer * 2),1)) + \" m\"\n",
    "option_3 = str(round((answer / 2),1)) + \" m\"\n",
    "option_4 = str(round((answer / 4),1)) + \" m\"\n",
    "\n",
    "multiple_choice(option_1, option_2, option_3, option_4)"
   ]
  },
  {
   "cell_type": "markdown",
   "metadata": {},
   "source": [
    "## Spherical Mirrors\n",
    "\n",
    "Two common types of curved mirror are formed from a section of a sphere. If the reflection takes place on the inside of the spherical section, then the mirror is called a **concave mirror**. The reflecting surface of a concave mirror curves inward and away from the viewer. If the reflection takes place on the outside of the spherical section, then the mirror is called a **convex mirror**. The reflecting surface of a convex mirror curves outward and toward the viewer.\n",
    "\n",
    "<img src=\"Images/concave_convex_mirrors.svg\" width=\"75%\"/>\n",
    "\n",
    " The **centre of curvature, $C$,** is the point located at the centre of the sphere used to create the mirror. The **vertex, $V$,** is the point located at the geometric centre of the mirror itself. The **focus, $F$,** is the point located midway between the centre of curvature and the vertex. The line passing through the centre of curvature and the vertex is called the **principal axis**. Notice that the focus also lies on the principal axis."
   ]
  },
  {
   "cell_type": "markdown",
   "metadata": {},
   "source": [
    "When an incident ray parallel to the principle axis strikes the mirror, the reflected ray always passes through the focus. When an incident ray passes through the focus and strikes the mirror, the reflected ray is always parallel to the principle axis. (In the above diagrams, reverse the arrow directions to see this case). These properties make the focus particularly useful when examining spherical mirrors. \n",
    "\n",
    "**Note:** The distance from the centre of curvature to the vertex is equal to the **radius, $R$,** of the sphere used to create the mirror. Any straight line drawn from the centre to any point on the surface of a spherical mirror will have a length equal to the radius. The distance from the vertex to the focus is called the **focal length, $f$**. This distance is equal to half the distance of the radius.\n",
    "\n",
    "$$f = \\frac{R}{2}$$"
   ]
  },
  {
   "cell_type": "code",
   "execution_count": 10,
   "metadata": {},
   "outputs": [
    {
     "name": "stdout",
     "output_type": "stream",
     "text": [
      "If the radius of a curved mirror is 23.0 cm, how many centimetres is the focal length?\n",
      "\u001b[1m(A) \u001b[0;0m11.5 cm\n",
      "\u001b[1m(B) \u001b[0;0m46.0 cm\n",
      "\u001b[1m(C) \u001b[0;0m23.0 cm\n",
      "\u001b[1m(D) \u001b[0;0m5.8 cm\n"
     ]
    },
    {
     "data": {
      "application/vnd.jupyter.widget-view+json": {
       "model_id": "6aa85b1279ce4c42b3813a531a9a890e",
       "version_major": 2,
       "version_minor": 0
      },
      "text/plain": [
       "HBox(children=(Button(description='(A)', style=ButtonStyle(button_color='Whitesmoke')), Button(description='(B…"
      ]
     },
     "metadata": {},
     "output_type": "display_data"
    },
    {
     "name": "stdout",
     "output_type": "stream",
     "text": [
      "Try again.  \r"
     ]
    }
   ],
   "source": [
    "#Print question\n",
    "radius = round(random.uniform(10,30),1)\n",
    "print(\"If the radius of a curved mirror is \" + str(radius) + \" cm, how many centimetres is the focal length?\")\n",
    "\n",
    "#Answer calculation\n",
    "answer = radius/2\n",
    "    \n",
    "#Assign each multiple choice to these four variables\n",
    "#Option_1 contains the answer\n",
    "option_1 = str(round((answer),1)) + \" cm\" \n",
    "option_2 = str(round((answer * 2),1)) + \" cm\"\n",
    "option_3 = str(round((answer / 2),1)) + \" cm\"\n",
    "option_4 = str(round((answer * 4),1)) + \" cm\"\n",
    "\n",
    "multiple_choice(option_1, option_2, option_3, option_4)"
   ]
  },
  {
   "cell_type": "code",
   "execution_count": 11,
   "metadata": {},
   "outputs": [
    {
     "name": "stdout",
     "output_type": "stream",
     "text": [
      "If the focal length of a curved mirror is 5.3 cm, how many centimetres is the radius of curvature?\n",
      "\u001b[1m(A) \u001b[0;0m5.3 cm\n",
      "\u001b[1m(B) \u001b[0;0m10.6 cm\n",
      "\u001b[1m(C) \u001b[0;0m21.2 cm\n",
      "\u001b[1m(D) \u001b[0;0m2.6 cm\n"
     ]
    },
    {
     "data": {
      "application/vnd.jupyter.widget-view+json": {
       "model_id": "c8d898bfa4bf4e179a89b3a4f4509588",
       "version_major": 2,
       "version_minor": 0
      },
      "text/plain": [
       "HBox(children=(Button(description='(A)', style=ButtonStyle(button_color='Whitesmoke')), Button(description='(B…"
      ]
     },
     "metadata": {},
     "output_type": "display_data"
    },
    {
     "name": "stdout",
     "output_type": "stream",
     "text": [
      "Try again.  \r"
     ]
    }
   ],
   "source": [
    "#Print question\n",
    "focal_length = round(random.uniform(5,15),1)\n",
    "print(\"If the focal length of a curved mirror is \" + str(focal_length) + \" cm, how many centimetres is the radius of curvature?\")\n",
    "\n",
    "#Answer calculation\n",
    "answer = focal_length*2\n",
    "    \n",
    "#Assign each multiple choice to these four variables\n",
    "#Option_1 contains the answer\n",
    "option_1 = str(round((answer),1)) + \" cm\" \n",
    "option_2 = str(round((answer * 2),1)) + \" cm\"\n",
    "option_3 = str(round((answer / 2),1)) + \" cm\"\n",
    "option_4 = str(round((answer / 4),1)) + \" cm\"\n",
    "\n",
    "multiple_choice(option_1, option_2, option_3, option_4)"
   ]
  },
  {
   "cell_type": "markdown",
   "metadata": {},
   "source": [
    "## Image Formation by Spherical Mirrors\n",
    "\n",
    "A simple way to determine the position and characteristics of an image formed by the rays reflected from a spherical mirror is to construct a **ray diagram**. A ray diagram is used to shown the path taken by light rays as they reflect from an object or mirror. This was used to find the image created by a plane mirror in the previous section. When constructing a ray diagram, we need only consider ourselves with finding the location of a single point on the reflected image. To do this, any point on the object may be chosen, but for consistency, we will choose the topmost point for the diagrams shown below. Any rays may be chosen, but there are three particular rays that are easy to draw:\n",
    "\n",
    "* **Ray 1:** This ray is drawn parallel to the principle axis from a point on the object to the surface of the mirror. Since the incident ray is parallel to the principle axis, the reflected ray must pass through the focus. \n",
    "\n",
    "\n",
    "* **Ray 2:** This ray is drawn from a point on the object and through the focus. Since the incident ray passes through the focus, the reflected ray must be parallel to the principle axis. \n",
    "\n",
    "\n",
    "* **Ray 3:** This ray is drawn from a point on the object and through the centre of curvature. This ray is therefore perpendicular to the mirror's surface (incident angle = 0). As such, the reflected ray must return along the same path and pass through the centre of curvature. \n",
    "\n",
    "The point at which any two of these three rays converge can be used to find the location and characteristics of the reflected image."
   ]
  },
  {
   "cell_type": "markdown",
   "metadata": {},
   "source": [
    "### Concave Mirrors\n",
    "\n",
    "The characteristics of an image formed in a concave mirror depend on the position of the object. There are essentially five cases. Each of these five cases are demonstrated below:"
   ]
  },
  {
   "cell_type": "markdown",
   "metadata": {},
   "source": [
    "### Case 1: Object Located at a Distance Greater than $C$"
   ]
  },
  {
   "cell_type": "markdown",
   "metadata": {},
   "source": [
    "In the first case, the distance of the object from the mirror is greater than the radius used to define the centre of curvature. In other words, the object is further away from the mirror than the centre of curvature. In this example, we can draw any two of the three rays mentioned above to find the image of the reflected object. \n",
    "\n",
    "**Note:** You only need to draw two of the three rays to find the image of the reflected object."
   ]
  },
  {
   "cell_type": "code",
   "execution_count": 12,
   "metadata": {
    "scrolled": true
   },
   "outputs": [
    {
     "data": {
      "application/vnd.jupyter.widget-view+json": {
       "model_id": "c15b5f3b45394a8489e25319675d16f3",
       "version_major": 2,
       "version_minor": 0
      },
      "text/plain": [
       "Button(button_style='success', description='Toggle rays', style=ButtonStyle())"
      ]
     },
     "metadata": {},
     "output_type": "display_data"
    },
    {
     "data": {
      "application/vnd.jupyter.widget-view+json": {
       "model_id": "5749f7f0e4964c5d803347205a6332e8",
       "version_major": 2,
       "version_minor": 0
      },
      "text/plain": [
       "Output()"
      ]
     },
     "metadata": {},
     "output_type": "display_data"
    }
   ],
   "source": [
    "output_case_1 = widgets.Output()\n",
    "frame_case_1 = 1\n",
    "\n",
    "#Toggle images\n",
    "def show_svg_case_1():\n",
    "    global frame_case_1\n",
    "    if frame_case_1 == 0:\n",
    "        display(SVG(\"Images/case_1_0.svg\"))\n",
    "        frame_case_1 = 1\n",
    "    elif frame_case_1 == 1:\n",
    "        display(SVG(\"Images/case_1_1.svg\"))\n",
    "        frame_case_1 = 2\n",
    "    elif frame_case_1 == 2:\n",
    "        display(SVG(\"Images/case_1_2.svg\"))\n",
    "        frame_case_1 = 3\n",
    "    elif frame_case_1 == 3:\n",
    "        display(SVG(\"Images/case_1_3.svg\"))\n",
    "        frame_case_1 = 0\n",
    "        \n",
    "button_case_1 = widgets.Button(description=\"Toggle rays\", button_style = 'success')\n",
    "display(button_case_1)\n",
    "\n",
    "def on_submit_button_case_1_clicked(b):\n",
    "    with output_case_1:\n",
    "        clear_output(wait=True)\n",
    "        show_svg_case_1()\n",
    "\n",
    "with output_case_1:\n",
    "    display(SVG(\"Images/case_1_0.svg\"))\n",
    "    \n",
    "button_case_1.on_click(on_submit_button_case_1_clicked)\n",
    "display(output_case_1)"
   ]
  },
  {
   "cell_type": "markdown",
   "metadata": {},
   "source": [
    "**Question:** *Which options from the dropdown menus best describe the image formed by the reflected rays shown above?* "
   ]
  },
  {
   "cell_type": "code",
   "execution_count": 13,
   "metadata": {},
   "outputs": [
    {
     "data": {
      "application/vnd.jupyter.widget-view+json": {
       "model_id": "e2baf5def4a241a2b370b95f452bfc69",
       "version_major": 2,
       "version_minor": 0
      },
      "text/plain": [
       "HBox(children=(VBox(children=(Dropdown(description='Position', options={' ': 0, 'Beyond C': 1, 'At C': 2, 'Bet…"
      ]
     },
     "metadata": {},
     "output_type": "display_data"
    },
    {
     "name": "stdout",
     "output_type": "stream",
     "text": [
      "Try again.  \r"
     ]
    }
   ],
   "source": [
    "#Create dropdown menus\n",
    "dropdown1_1 = widgets.Dropdown(options={' ':0,'Beyond C': 1, 'At C': 2, 'Between C and F': 3, 'At F': 4, 'Between F and V': 5, 'Beyond V': 6, 'Not applicable (no image)': 7}, value=0, description='Position',)\n",
    "dropdown1_2 = widgets.Dropdown(options={' ':0,'Larger than the object': 1, 'Same size as the object': 2, 'Smaller than the object': 3, 'Not applicable (no image)': 4}, value=0, description='Relative size',)\n",
    "dropdown1_3 = widgets.Dropdown(options={' ':0,'Upright': 1, 'Inverted': 2, 'Not applicable (no image)': 3}, value=0, description='Orientation',)\n",
    "dropdown1_4 = widgets.Dropdown(options={' ':0,'Real': 1, 'Virtual': 2, 'Not applicable (no image)': 3}, value=0, description='Type',)\n",
    "\n",
    "#Display menus as 2x2 table\n",
    "container1_1 = widgets.VBox(children=[dropdown1_1,dropdown1_2])\n",
    "container1_2 = widgets.VBox(children=[dropdown1_3,dropdown1_4])\n",
    "display(widgets.HBox(children=[container1_1, container1_2])), print(\" \", end='\\r')\n",
    "\n",
    "#Evaluate input\n",
    "def check_answer1(b):\n",
    "    answer1_1 = dropdown1_1.label \n",
    "    answer1_2 = dropdown1_2.label\n",
    "    answer1_3 = dropdown1_3.label \n",
    "    answer1_4 = dropdown1_4.label\n",
    "    \n",
    "    if answer1_1 == \"Between C and F\" and answer1_2 == \"Smaller than the object\" and answer1_3 == \"Inverted\" and answer1_4 == \"Real\":\n",
    "        print(\"Correct!    \", end='\\r')\n",
    "    elif answer1_1 != ' ' and answer1_2 != ' ' and answer1_3 != ' ' and answer1_4 != ' ':\n",
    "        print(\"Try again.\", end='\\r')\n",
    "    else:\n",
    "        print(\"            \", end='\\r')\n",
    "\n",
    "dropdown1_1.observe(check_answer1, names='value')\n",
    "dropdown1_2.observe(check_answer1, names='value')\n",
    "dropdown1_3.observe(check_answer1, names='value')\n",
    "dropdown1_4.observe(check_answer1, names='value')"
   ]
  },
  {
   "cell_type": "markdown",
   "metadata": {},
   "source": [
    "### Case 2: Object Located at $C$"
   ]
  },
  {
   "cell_type": "markdown",
   "metadata": {},
   "source": [
    "In the second case, the distance of the object from the mirror is equal to the radius used to define the centre of curvature.\n",
    "In other words, the object is located at the centre of curvature. In this case, we can draw only two rays to find the image of the reflected object. We cannot draw a ray passing through the centre of curvature because the object is located at $C$. "
   ]
  },
  {
   "cell_type": "code",
   "execution_count": 14,
   "metadata": {},
   "outputs": [
    {
     "data": {
      "application/vnd.jupyter.widget-view+json": {
       "model_id": "648a5efcdb2041ceadbbf253e5bde3ca",
       "version_major": 2,
       "version_minor": 0
      },
      "text/plain": [
       "Button(button_style='success', description='Toggle rays', style=ButtonStyle())"
      ]
     },
     "metadata": {},
     "output_type": "display_data"
    },
    {
     "data": {
      "application/vnd.jupyter.widget-view+json": {
       "model_id": "56bc681eca0f44a5a516e2288b68a179",
       "version_major": 2,
       "version_minor": 0
      },
      "text/plain": [
       "Output()"
      ]
     },
     "metadata": {},
     "output_type": "display_data"
    }
   ],
   "source": [
    "output_case_2 = widgets.Output()\n",
    "frame_case_2 = 1\n",
    "\n",
    "#Toggle images\n",
    "def show_svg_case_2():\n",
    "    global frame_case_2\n",
    "    if frame_case_2 == 0:\n",
    "        display(SVG(\"Images/case_2_0.svg\"))\n",
    "        frame_case_2 = 1\n",
    "    elif frame_case_2 == 1:\n",
    "        display(SVG(\"Images/case_2_1.svg\"))\n",
    "        frame_case_2 = 2\n",
    "    elif frame_case_2 == 2:\n",
    "        display(SVG(\"Images/case_2_2.svg\"))\n",
    "        frame_case_2 = 0\n",
    "        \n",
    "button_case_2 = widgets.Button(description=\"Toggle rays\", button_style = 'success')\n",
    "display(button_case_2)\n",
    "\n",
    "def on_submit_button_case_2_clicked(b):\n",
    "    with output_case_2:\n",
    "        clear_output(wait=True)\n",
    "        show_svg_case_2()\n",
    "\n",
    "with output_case_2:\n",
    "    display(SVG(\"Images/case_2_0.svg\"))\n",
    "    \n",
    "button_case_2.on_click(on_submit_button_case_2_clicked)\n",
    "display(output_case_2)"
   ]
  },
  {
   "cell_type": "markdown",
   "metadata": {},
   "source": [
    "**Question:** *Which options from the dropdown menus best describe the image formed by the reflected rays shown above?*"
   ]
  },
  {
   "cell_type": "code",
   "execution_count": 15,
   "metadata": {},
   "outputs": [
    {
     "data": {
      "application/vnd.jupyter.widget-view+json": {
       "model_id": "47e1078c970242b2a99e3da24b460181",
       "version_major": 2,
       "version_minor": 0
      },
      "text/plain": [
       "HBox(children=(VBox(children=(Dropdown(description='Position', options={' ': 0, 'Beyond C': 1, 'At C': 2, 'Bet…"
      ]
     },
     "metadata": {},
     "output_type": "display_data"
    },
    {
     "name": "stdout",
     "output_type": "stream",
     "text": [
      "Try again.  \r"
     ]
    }
   ],
   "source": [
    "#Create dropdown menus\n",
    "dropdown2_1 = widgets.Dropdown(options={' ':0,'Beyond C': 1, 'At C': 2, 'Between C and F': 3, 'At F': 4, 'Between F and V': 5, 'Beyond V': 6, 'Not applicable (no image)': 7}, value=0, description='Position',)\n",
    "dropdown2_2 = widgets.Dropdown(options={' ':0,'Larger than the object': 1, 'Same size as the object': 2, 'Smaller than the object': 3, 'Not applicable (no image)': 4}, value=0, description='Relative size',)\n",
    "dropdown2_3 = widgets.Dropdown(options={' ':0,'Upright': 1, 'Inverted': 2, 'Not applicable (no image)': 3}, value=0, description='Orientation',)\n",
    "dropdown2_4 = widgets.Dropdown(options={' ':0,'Real': 1, 'Virtual': 2, 'Not applicable (no image)': 3}, value=0, description='Type',)\n",
    "\n",
    "#Display menus as 2x2 table\n",
    "container2_1 = widgets.VBox(children=[dropdown2_1,dropdown2_2])\n",
    "container2_2 = widgets.VBox(children=[dropdown2_3,dropdown2_4])\n",
    "display(widgets.HBox(children=[container2_1, container2_2])), print(\" \", end='\\r')\n",
    "\n",
    "#Evaluate input\n",
    "def check_answer2(b):\n",
    "    answer2_1 = dropdown2_1.label \n",
    "    answer2_2 = dropdown2_2.label\n",
    "    answer2_3 = dropdown2_3.label \n",
    "    answer2_4 = dropdown2_4.label\n",
    "    \n",
    "    if answer2_1 == \"At C\" and answer2_2 == \"Same size as the object\" and answer2_3 == \"Inverted\" and answer2_4 == \"Real\":\n",
    "        print(\"Correct!    \", end='\\r')\n",
    "    elif answer2_1 != ' ' and answer2_2 != ' ' and answer2_3 != ' ' and answer2_4 != ' ':\n",
    "        print(\"Try again.\", end='\\r')\n",
    "    else:\n",
    "        print(\"            \", end='\\r')\n",
    "\n",
    "dropdown2_1.observe(check_answer2, names='value')\n",
    "dropdown2_2.observe(check_answer2, names='value')\n",
    "dropdown2_3.observe(check_answer2, names='value')\n",
    "dropdown2_4.observe(check_answer2, names='value')"
   ]
  },
  {
   "cell_type": "markdown",
   "metadata": {},
   "source": [
    "### Case 3: Object Located between $C$ and $F$"
   ]
  },
  {
   "cell_type": "markdown",
   "metadata": {},
   "source": [
    "In the third case, the distance of the object from the mirror is less than the radius used to define the centre of curvature, but greater than the focal length. In other words, the object is located between $F$ and $C$. In this case, we can find the image of the reflected object using two rays as shown below. If the mirror is large enough, a third ray that passes through $C$ can also be drawn. "
   ]
  },
  {
   "cell_type": "code",
   "execution_count": 16,
   "metadata": {},
   "outputs": [
    {
     "data": {
      "application/vnd.jupyter.widget-view+json": {
       "model_id": "2bcf4ffeefe549bcb8c04fbfb8baca10",
       "version_major": 2,
       "version_minor": 0
      },
      "text/plain": [
       "Button(button_style='success', description='Toggle rays', style=ButtonStyle())"
      ]
     },
     "metadata": {},
     "output_type": "display_data"
    },
    {
     "data": {
      "application/vnd.jupyter.widget-view+json": {
       "model_id": "7eeb3de09245473b91d18c84f375063d",
       "version_major": 2,
       "version_minor": 0
      },
      "text/plain": [
       "Output()"
      ]
     },
     "metadata": {},
     "output_type": "display_data"
    }
   ],
   "source": [
    "output_case_3 = widgets.Output()\n",
    "frame_case_3 = 1\n",
    "\n",
    "#Toggle images\n",
    "def show_svg_case_3():\n",
    "    global frame_case_3\n",
    "    if frame_case_3 == 0:\n",
    "        display(SVG(\"Images/case_3_0.svg\"))\n",
    "        frame_case_3 = 1\n",
    "    elif frame_case_3 == 1:\n",
    "        display(SVG(\"Images/case_3_1.svg\"))\n",
    "        frame_case_3 = 2\n",
    "    elif frame_case_3 == 2:\n",
    "        display(SVG(\"Images/case_3_2.svg\"))\n",
    "        frame_case_3 = 0\n",
    "        \n",
    "button_case_3 = widgets.Button(description=\"Toggle rays\", button_style = 'success')\n",
    "display(button_case_3)\n",
    "\n",
    "def on_submit_button_case_3_clicked(b):\n",
    "    with output_case_3:\n",
    "        clear_output(wait=True)\n",
    "        show_svg_case_3()\n",
    "\n",
    "with output_case_3:\n",
    "    display(SVG(\"Images/case_3_0.svg\"))\n",
    "    \n",
    "button_case_3.on_click(on_submit_button_case_3_clicked)\n",
    "display(output_case_3)"
   ]
  },
  {
   "cell_type": "markdown",
   "metadata": {},
   "source": [
    "**Question:** *Which options from the dropdown menus best describe the image formed by the reflected rays shown above?*"
   ]
  },
  {
   "cell_type": "code",
   "execution_count": 17,
   "metadata": {},
   "outputs": [
    {
     "data": {
      "application/vnd.jupyter.widget-view+json": {
       "model_id": "897e7ec99f074f14b424b1976e2ecc65",
       "version_major": 2,
       "version_minor": 0
      },
      "text/plain": [
       "HBox(children=(VBox(children=(Dropdown(description='Position', options={' ': 0, 'Beyond C': 1, 'At C': 2, 'Bet…"
      ]
     },
     "metadata": {},
     "output_type": "display_data"
    },
    {
     "name": "stdout",
     "output_type": "stream",
     "text": [
      "Try again.  \r"
     ]
    }
   ],
   "source": [
    "#Create dropdown menus\n",
    "dropdown3_1 = widgets.Dropdown(options={' ':0,'Beyond C': 1, 'At C': 2, 'Between C and F': 3, 'At F': 4, 'Between F and V': 5, 'Beyond V': 6, 'Not applicable (no image)': 7}, value=0, description='Position',)\n",
    "dropdown3_2 = widgets.Dropdown(options={' ':0,'Larger than the object': 1, 'Same size as the object': 2, 'Smaller than the object': 3, 'Not applicable (no image)': 4}, value=0, description='Relative size',)\n",
    "dropdown3_3 = widgets.Dropdown(options={' ':0,'Upright': 1, 'Inverted': 2, 'Not applicable (no image)': 3}, value=0, description='Orientation',)\n",
    "dropdown3_4 = widgets.Dropdown(options={' ':0,'Real': 1, 'Virtual': 2, 'Not applicable (no image)': 3}, value=0, description='Type',)\n",
    "\n",
    "#Display menus as 2x2 table\n",
    "container3_1 = widgets.VBox(children=[dropdown3_1,dropdown3_2])\n",
    "container3_2 = widgets.VBox(children=[dropdown3_3,dropdown3_4])\n",
    "display(widgets.HBox(children=[container3_1, container3_2])), print(\" \", end='\\r')\n",
    "\n",
    "#Evaluate input\n",
    "def check_answer3(b):\n",
    "    answer3_1 = dropdown3_1.label \n",
    "    answer3_2 = dropdown3_2.label\n",
    "    answer3_3 = dropdown3_3.label \n",
    "    answer3_4 = dropdown3_4.label\n",
    "    \n",
    "    if answer3_1 == \"Beyond C\" and answer3_2 == \"Larger than the object\" and answer3_3 == \"Inverted\" and answer3_4 == \"Real\":\n",
    "        print(\"Correct!    \", end='\\r')\n",
    "    elif answer3_1 != ' ' and answer3_2 != ' ' and answer3_3 != ' ' and answer3_4 != ' ':\n",
    "        print(\"Try again.\", end='\\r')\n",
    "    else:\n",
    "        print(\"            \", end='\\r')\n",
    "\n",
    "dropdown3_1.observe(check_answer3, names='value')\n",
    "dropdown3_2.observe(check_answer3, names='value')\n",
    "dropdown3_3.observe(check_answer3, names='value')\n",
    "dropdown3_4.observe(check_answer3, names='value')"
   ]
  },
  {
   "cell_type": "markdown",
   "metadata": {},
   "source": [
    "### Case 4: Object Located at $F$"
   ]
  },
  {
   "cell_type": "markdown",
   "metadata": {},
   "source": [
    "In the fourth case, the distance of the object from the mirror is equal to the focal length. In other words, the object is located at the focus. In this case, we can draw only two rays to find the image of the reflected object. We cannot draw a ray passing through the focus because the object is located at $F$. Notice that the reflected rays are parallel and therefore do not intersect. As a consequence, no image is formed."
   ]
  },
  {
   "cell_type": "code",
   "execution_count": 18,
   "metadata": {},
   "outputs": [
    {
     "data": {
      "application/vnd.jupyter.widget-view+json": {
       "model_id": "14dafc8e69994c7cbead8a4af5368144",
       "version_major": 2,
       "version_minor": 0
      },
      "text/plain": [
       "Button(button_style='success', description='Toggle rays', style=ButtonStyle())"
      ]
     },
     "metadata": {},
     "output_type": "display_data"
    },
    {
     "data": {
      "application/vnd.jupyter.widget-view+json": {
       "model_id": "ddd13867eddc4e9abf9a3288fb204551",
       "version_major": 2,
       "version_minor": 0
      },
      "text/plain": [
       "Output()"
      ]
     },
     "metadata": {},
     "output_type": "display_data"
    }
   ],
   "source": [
    "output_case_4 = widgets.Output()\n",
    "frame_case_4 = 1\n",
    "\n",
    "#Toggle images\n",
    "def show_svg_case_4():\n",
    "    global frame_case_4\n",
    "    if frame_case_4 == 0:\n",
    "        display(SVG(\"Images/case_4_0.svg\"))\n",
    "        frame_case_4 = 1\n",
    "    elif frame_case_4 == 1:\n",
    "        display(SVG(\"Images/case_4_1.svg\"))\n",
    "        frame_case_4 = 2\n",
    "    elif frame_case_4 == 2:\n",
    "        display(SVG(\"Images/case_4_2.svg\"))\n",
    "        frame_case_4 = 0\n",
    "        \n",
    "button_case_4 = widgets.Button(description=\"Toggle rays\", button_style = 'success')\n",
    "display(button_case_4)\n",
    "\n",
    "def on_submit_button_case_4_clicked(b):\n",
    "    with output_case_4:\n",
    "        clear_output(wait=True)\n",
    "        show_svg_case_4()\n",
    "\n",
    "with output_case_4:\n",
    "    display(SVG(\"Images/case_4_0.svg\"))\n",
    "    \n",
    "button_case_4.on_click(on_submit_button_case_4_clicked)\n",
    "display(output_case_4)"
   ]
  },
  {
   "cell_type": "markdown",
   "metadata": {},
   "source": [
    "**Question:** *Which options from the dropdown menus best describe the image formed by the reflected rays shown above?*"
   ]
  },
  {
   "cell_type": "code",
   "execution_count": 19,
   "metadata": {},
   "outputs": [
    {
     "data": {
      "application/vnd.jupyter.widget-view+json": {
       "model_id": "dccd36e79835445daee6cb08212889fd",
       "version_major": 2,
       "version_minor": 0
      },
      "text/plain": [
       "HBox(children=(VBox(children=(Dropdown(description='Position', options={' ': 0, 'Beyond C': 1, 'At C': 2, 'Bet…"
      ]
     },
     "metadata": {},
     "output_type": "display_data"
    },
    {
     "name": "stdout",
     "output_type": "stream",
     "text": [
      "Try again.  \r"
     ]
    }
   ],
   "source": [
    "#import ipywidgets as widgets\n",
    "\n",
    "#Create dropdown menus\n",
    "dropdown4_1 = widgets.Dropdown(options={' ':0,'Beyond C': 1, 'At C': 2, 'Between C and F': 3, 'At F': 4, 'Between F and V': 5, 'Beyond V': 6, 'Not applicable (no image)': 7}, value=0, description='Position',)\n",
    "dropdown4_2 = widgets.Dropdown(options={' ':0,'Larger than the object': 1, 'Same size as the object': 2, 'Smaller than the object': 3, 'Not applicable (no image)': 4}, value=0, description='Relative size',)\n",
    "dropdown4_3 = widgets.Dropdown(options={' ':0,'Upright': 1, 'Inverted': 2, 'Not applicable (no image)': 3}, value=0, description='Orientation',)\n",
    "dropdown4_4 = widgets.Dropdown(options={' ':0,'Real': 1, 'Virtual': 2, 'Not applicable (no image)': 3}, value=0, description='Type',)\n",
    "\n",
    "#Display menus as 2x2 table\n",
    "container4_1 = widgets.VBox(children=[dropdown4_1,dropdown4_2])\n",
    "container4_2 = widgets.VBox(children=[dropdown4_3,dropdown4_4])\n",
    "display(widgets.HBox(children=[container4_1, container4_2])), print(\" \", end='\\r')\n",
    "\n",
    "#Evaluate input\n",
    "def check_answer4(b):\n",
    "    answer4_1 = dropdown4_1.label \n",
    "    answer4_2 = dropdown4_2.label\n",
    "    answer4_3 = dropdown4_3.label \n",
    "    answer4_4 = dropdown4_4.label\n",
    "    \n",
    "    if answer4_1 == \"Not applicable (no image)\" and answer4_2 == \"Not applicable (no image)\" and answer4_3 == \"Not applicable (no image)\" and answer4_4 == \"Not applicable (no image)\":\n",
    "        print(\"Correct!    \", end='\\r')\n",
    "    elif answer4_1 != ' ' and answer4_2 != ' ' and answer4_3 != ' ' and answer4_4 != ' ':\n",
    "        print(\"Try again.\", end='\\r')\n",
    "    else:\n",
    "        print(\"            \", end='\\r')\n",
    "\n",
    "dropdown4_1.observe(check_answer4, names='value')\n",
    "dropdown4_2.observe(check_answer4, names='value')\n",
    "dropdown4_3.observe(check_answer4, names='value')\n",
    "dropdown4_4.observe(check_answer4, names='value')"
   ]
  },
  {
   "cell_type": "markdown",
   "metadata": {},
   "source": [
    "### Case 5: Object Located between $F$ and $V$"
   ]
  },
  {
   "cell_type": "markdown",
   "metadata": {},
   "source": [
    "In the fifth case, the distance of the object from the mirror is less than the focal length. In other words, the object is located between $F$ and $V$. In this case, we can find the image of the reflected object using two rays as shown below. Notice that the reflected rays do not actually converge. However, the projections of the reflected rays *do* converge behind the mirror. Therefore, a virtual image is formed."
   ]
  },
  {
   "cell_type": "code",
   "execution_count": 20,
   "metadata": {},
   "outputs": [
    {
     "data": {
      "application/vnd.jupyter.widget-view+json": {
       "model_id": "3d14c701846249849128b252bc646004",
       "version_major": 2,
       "version_minor": 0
      },
      "text/plain": [
       "Button(button_style='success', description='Toggle rays', style=ButtonStyle())"
      ]
     },
     "metadata": {},
     "output_type": "display_data"
    },
    {
     "data": {
      "application/vnd.jupyter.widget-view+json": {
       "model_id": "c9a66a014b244cc0bc650df891ff5f0e",
       "version_major": 2,
       "version_minor": 0
      },
      "text/plain": [
       "Output()"
      ]
     },
     "metadata": {},
     "output_type": "display_data"
    }
   ],
   "source": [
    "output_case_5 = widgets.Output()\n",
    "frame_case_5 = 1\n",
    "\n",
    "#Toggle images\n",
    "def show_svg_case_5():\n",
    "    global frame_case_5\n",
    "    if frame_case_5 == 0:\n",
    "        display(SVG(\"Images/case_5_0.svg\"))\n",
    "        frame_case_5 = 1\n",
    "    elif frame_case_5 == 1:\n",
    "        display(SVG(\"Images/case_5_1.svg\"))\n",
    "        frame_case_5 = 2\n",
    "    elif frame_case_5 == 2:\n",
    "        display(SVG(\"Images/case_5_2.svg\"))\n",
    "        frame_case_5 = 0\n",
    "        \n",
    "button_case_5 = widgets.Button(description=\"Toggle rays\", button_style = 'success')\n",
    "display(button_case_5)\n",
    "\n",
    "def on_submit_button_case_5_clicked(b):\n",
    "    with output_case_5:\n",
    "        clear_output(wait=True)\n",
    "        show_svg_case_5()\n",
    "\n",
    "with output_case_5:\n",
    "    display(SVG(\"Images/case_5_0.svg\"))\n",
    "    \n",
    "button_case_5.on_click(on_submit_button_case_5_clicked)\n",
    "display(output_case_5)"
   ]
  },
  {
   "cell_type": "markdown",
   "metadata": {},
   "source": [
    "**Question:** *Which options from the dropdown menus best describe the image formed by the reflected rays shown above?*"
   ]
  },
  {
   "cell_type": "code",
   "execution_count": 21,
   "metadata": {},
   "outputs": [
    {
     "data": {
      "application/vnd.jupyter.widget-view+json": {
       "model_id": "cf9fac1b7a834d42b766ef1ef3eeaf4b",
       "version_major": 2,
       "version_minor": 0
      },
      "text/plain": [
       "HBox(children=(VBox(children=(Dropdown(description='Position', options={' ': 0, 'Beyond C': 1, 'At C': 2, 'Bet…"
      ]
     },
     "metadata": {},
     "output_type": "display_data"
    },
    {
     "name": "stdout",
     "output_type": "stream",
     "text": [
      "Try again.  \r"
     ]
    }
   ],
   "source": [
    "#Create dropdown menus\n",
    "dropdown5_1 = widgets.Dropdown(options={' ':0,'Beyond C': 1, 'At C': 2, 'Between C and F': 3, 'At F': 4, 'Between F and V': 5, 'Beyond V': 6, 'Not applicable (no image)': 7}, value=0, description='Position',)\n",
    "dropdown5_2 = widgets.Dropdown(options={' ':0,'Larger than the object': 1, 'Same size as the object': 2, 'Smaller than the object': 3, 'Not applicable (no image)': 4}, value=0, description='Relative size',)\n",
    "dropdown5_3 = widgets.Dropdown(options={' ':0,'Upright': 1, 'Inverted': 2, 'Not applicable (no image)': 3}, value=0, description='Orientation',)\n",
    "dropdown5_4 = widgets.Dropdown(options={' ':0,'Real': 1, 'Virtual': 2, 'Not applicable (no image)': 3}, value=0, description='Type',)\n",
    "\n",
    "#Display menus as 2x2 table\n",
    "container5_1 = widgets.VBox(children=[dropdown5_1,dropdown5_2])\n",
    "container5_2 = widgets.VBox(children=[dropdown5_3,dropdown5_4])\n",
    "display(widgets.HBox(children=[container5_1, container5_2])), print(\" \", end='\\r')\n",
    "\n",
    "#Evaluate input\n",
    "def check_answer5(b):\n",
    "    answer5_1 = dropdown5_1.label \n",
    "    answer5_2 = dropdown5_2.label\n",
    "    answer5_3 = dropdown5_3.label \n",
    "    answer5_4 = dropdown5_4.label\n",
    "    \n",
    "    if answer5_1 == \"Beyond V\" and answer5_2 == \"Larger than the object\" and answer5_3 == \"Upright\" and answer5_4 == \"Virtual\":\n",
    "        print(\"Correct!    \", end='\\r')\n",
    "    elif answer5_1 != ' ' and answer5_2 != ' ' and answer5_3 != ' ' and answer5_4 != ' ':\n",
    "        print(\"Try again.\", end='\\r')\n",
    "    else:\n",
    "        print(\"            \", end='\\r')\n",
    "\n",
    "dropdown5_1.observe(check_answer5, names='value')\n",
    "dropdown5_2.observe(check_answer5, names='value')\n",
    "dropdown5_3.observe(check_answer5, names='value')\n",
    "dropdown5_4.observe(check_answer5, names='value')"
   ]
  },
  {
   "cell_type": "markdown",
   "metadata": {},
   "source": [
    "### Convex Mirrors\n",
    "\n",
    "For reflections in convex mirrors, the location of the object does not change the general characteristics of the image. The image will always be between F and V, smaller than the object, upright, and virtual."
   ]
  },
  {
   "cell_type": "code",
   "execution_count": 22,
   "metadata": {},
   "outputs": [
    {
     "data": {
      "application/vnd.jupyter.widget-view+json": {
       "model_id": "483ed6ea7bf440bca1bbcd4817829eea",
       "version_major": 2,
       "version_minor": 0
      },
      "text/plain": [
       "Button(button_style='success', description='Toggle rays', style=ButtonStyle())"
      ]
     },
     "metadata": {},
     "output_type": "display_data"
    },
    {
     "data": {
      "application/vnd.jupyter.widget-view+json": {
       "model_id": "56dbb0b15eec4b8aab0c415ce311f656",
       "version_major": 2,
       "version_minor": 0
      },
      "text/plain": [
       "Output()"
      ]
     },
     "metadata": {},
     "output_type": "display_data"
    }
   ],
   "source": [
    "output_convex = widgets.Output()\n",
    "frame_convex = 1\n",
    "\n",
    "#Toggle images\n",
    "def show_svg_convex():\n",
    "    global frame_convex\n",
    "    if frame_convex == 0:\n",
    "        display(SVG(\"Images/convex_mirror_reflection_0.svg\"))\n",
    "        frame_convex = 1\n",
    "    elif frame_convex == 1:\n",
    "        display(SVG(\"Images/convex_mirror_reflection_1.svg\"))\n",
    "        frame_convex = 2\n",
    "    elif frame_convex == 2:\n",
    "        display(SVG(\"Images/convex_mirror_reflection_2.svg\"))\n",
    "        frame_convex = 0\n",
    "        \n",
    "button_convex = widgets.Button(description=\"Toggle rays\", button_style = 'success')\n",
    "display(button_convex)\n",
    "\n",
    "def on_submit_button_convex_clicked(b):\n",
    "    with output_convex:\n",
    "        clear_output(wait=True)\n",
    "        show_svg_convex()\n",
    "\n",
    "with output_convex:\n",
    "    display(SVG(\"Images/convex_mirror_reflection_0.svg\"))\n",
    "    \n",
    "button_convex.on_click(on_submit_button_convex_clicked)\n",
    "display(output_convex)"
   ]
  },
  {
   "cell_type": "markdown",
   "metadata": {},
   "source": [
    "**Question:** *Which options from the dropdown menus best describe the image formed by the reflected rays shown above?*"
   ]
  },
  {
   "cell_type": "code",
   "execution_count": 23,
   "metadata": {},
   "outputs": [
    {
     "data": {
      "application/vnd.jupyter.widget-view+json": {
       "model_id": "af3406adf13e425c8475cf273654bd3e",
       "version_major": 2,
       "version_minor": 0
      },
      "text/plain": [
       "HBox(children=(VBox(children=(Dropdown(description='Position', options={' ': 0, 'Beyond C': 1, 'At C': 2, 'Bet…"
      ]
     },
     "metadata": {},
     "output_type": "display_data"
    },
    {
     "name": "stdout",
     "output_type": "stream",
     "text": [
      "Try again.  \r"
     ]
    }
   ],
   "source": [
    "#Create dropdown menus\n",
    "dropdown6_1 = widgets.Dropdown(options={' ':0,'Beyond C': 1, 'At C': 2, 'Between C and F': 3, 'At F': 4, 'Between F and V': 5, 'Beyond V': 6, 'Not applicable (no image)': 7}, value=0, description='Position',)\n",
    "dropdown6_2 = widgets.Dropdown(options={' ':0,'Larger than the object': 1, 'Same size as the object': 2, 'Smaller than the object': 3, 'Not applicable (no image)': 4}, value=0, description='Relative size',)\n",
    "dropdown6_3 = widgets.Dropdown(options={' ':0,'Upright': 1, 'Inverted': 2, 'Not applicable (no image)': 3}, value=0, description='Orientation',)\n",
    "dropdown6_4 = widgets.Dropdown(options={' ':0,'Real': 1, 'Virtual': 2, 'Not applicable (no image)': 3}, value=0, description='Type',)\n",
    "\n",
    "#Display menus as 2x2 table\n",
    "container6_1 = widgets.VBox(children=[dropdown6_1,dropdown6_2])\n",
    "container6_2 = widgets.VBox(children=[dropdown6_3,dropdown6_4])\n",
    "display(widgets.HBox(children=[container6_1, container6_2])), print(\" \", end='\\r')\n",
    "\n",
    "#Evaluate input\n",
    "def check_answer6(b):\n",
    "    answer6_1 = dropdown6_1.label \n",
    "    answer6_2 = dropdown6_2.label\n",
    "    answer6_3 = dropdown6_3.label \n",
    "    answer6_4 = dropdown6_4.label\n",
    "    \n",
    "    if answer6_1 == \"Between F and V\" and answer6_2 == \"Smaller than the object\" and answer6_3 == \"Upright\" and answer6_4 == \"Virtual\":\n",
    "        print(\"Correct!    \", end='\\r')\n",
    "    elif answer6_1 != ' ' and answer6_2 != ' ' and answer6_3 != ' ' and answer6_4 != ' ':\n",
    "        print(\"Try again.\", end='\\r')\n",
    "    else:\n",
    "        print(\"            \", end='\\r')\n",
    "\n",
    "dropdown6_1.observe(check_answer6, names='value')\n",
    "dropdown6_2.observe(check_answer6, names='value')\n",
    "dropdown6_3.observe(check_answer6, names='value')\n",
    "dropdown6_4.observe(check_answer6, names='value')"
   ]
  },
  {
   "cell_type": "markdown",
   "metadata": {},
   "source": [
    "# Conclusions"
   ]
  },
  {
   "cell_type": "markdown",
   "metadata": {},
   "source": [
    "In this notebook, the reflection of light off of plane and spherical mirrors was examined. In summary:\n",
    "\n",
    "* Light can be thought of as a collection of narrow beams called **rays** which travel in straight-line paths. This conceptualization of light is called the **ray model**.\n",
    "\n",
    "* The **law of reflection** states that the angle of reflection is equal to the angle of incidence. \n",
    "\n",
    "$$\\theta_{r} = \\theta_{i}$$\n",
    "\n",
    "* A **specular reflection** is characterized by having reflected rays that are parallel and pointing in the same direction. \n",
    "\n",
    "* A **diffuse reflection** is characterized by having reflected rays pointing in various directions.\n",
    "\n",
    "* **Plane mirrors** always produce a virtual image behind the mirror. This image has the same size and orientation of the object, and the image and object are always equidistant from the mirror.\n",
    "\n",
    "* **A spherical mirror** is formed from a section of a sphere. If the reflecting surface is on the inside of the spherical section, the mirror is **concave**. If it is on the outside, the mirror is **convex**.\n",
    "\n",
    "* A **ray diagram** can be used to find the location and characteristics of a reflection in concave and convex mirrors. For concave mirrors, the characteristics of the possible images are summarized as follows: \n",
    "\n",
    "Object position | Image position  | Relative size           | Orientation | Type \n",
    "---             | ---             | ---                     | ---         | ---\n",
    "Beyond C        | Between C and F | Smaller than the object | Inverted    | Real\n",
    "At C            | At C            | Same size as the object | Inverted    | Real\n",
    "Between C and F | Beyond C        | Larger than the object  | Inverted    | Real\n",
    "At F            | (No image)      | (No image)              | (No image)  | (No image)\n",
    "Between F and V | Beyond V        | Larger than the object  | Upright     | Virtual\n",
    "\n",
    "* The images formed by a convex mirror are always between F and V, smaller than the object, upright, and virtual.\n"
   ]
  },
  {
   "cell_type": "markdown",
   "metadata": {},
   "source": [
    "![](https://github.com/callysto/callysto-sample-notebooks/blob/master/notebooks/images/Callysto_Notebook-Banners_Bottom_06.06.18.jpg?raw=true)"
   ]
  },
  {
   "cell_type": "code",
   "execution_count": null,
   "metadata": {},
   "outputs": [],
   "source": []
  }
 ],
 "metadata": {
  "kernelspec": {
   "display_name": "Python 3",
   "language": "python",
   "name": "python3"
  },
  "language_info": {
   "codemirror_mode": {
    "name": "ipython",
    "version": 3
   },
   "file_extension": ".py",
   "mimetype": "text/x-python",
   "name": "python",
   "nbconvert_exporter": "python",
   "pygments_lexer": "ipython3",
   "version": "3.6.8"
  },
  "latex_envs": {
   "LaTeX_envs_menu_present": true,
   "autoclose": false,
   "autocomplete": true,
   "bibliofile": "biblio.bib",
   "cite_by": "apalike",
   "current_citInitial": 1,
   "eqLabelWithNumbers": true,
   "eqNumInitial": 1,
   "hotkeys": {
    "equation": "Ctrl-E",
    "itemize": "Ctrl-I"
   },
   "labels_anchors": false,
   "latex_user_defs": false,
   "report_style_numbering": false,
   "user_envs_cfg": false
  },
  "nbTranslate": {
   "displayLangs": [
    "*"
   ],
   "hotkey": "alt-t",
   "langInMainMenu": true,
   "sourceLang": "en",
   "targetLang": "fr",
   "useGoogleTranslate": true
  }
 },
 "nbformat": 4,
 "nbformat_minor": 2
}
