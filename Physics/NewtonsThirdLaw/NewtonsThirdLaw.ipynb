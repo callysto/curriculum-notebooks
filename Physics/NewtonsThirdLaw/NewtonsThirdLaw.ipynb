{
 "cells": [
  {
   "cell_type": "markdown",
   "metadata": {},
   "source": [
    "![logo](https://callysto.ca/wp-content/uploads/2018/06/Callysto_Notebook-Banner_Top_06.06.18.jpg)"
   ]
  },
  {
   "cell_type": "markdown",
   "metadata": {},
   "source": [
    "# Newton's Third Law\n"
   ]
  },
  {
   "cell_type": "code",
   "execution_count": 1,
   "metadata": {},
   "outputs": [
    {
     "data": {
      "text/html": [
       "\n",
       "<script>\n",
       "  function code_toggle() {\n",
       "    if (code_shown){\n",
       "      $('div.input').hide('500');\n",
       "      $('#toggleButton').val('Show Code')\n",
       "    } else {\n",
       "      $('div.input').show('500');\n",
       "      $('#toggleButton').val('Hide Code')\n",
       "    }\n",
       "    code_shown = !code_shown\n",
       "  }\n",
       "\n",
       "  $( document ).ready(function(){\n",
       "    code_shown=false;\n",
       "    $('div.input').hide()\n",
       "  });\n",
       "</script>\n",
       "\n",
       "<form action=\"javascript:code_toggle()\"><input type=\"submit\" id=\"toggleButton\" value=\"Show Code\"></form>"
      ],
      "text/plain": [
       "<IPython.core.display.HTML object>"
      ]
     },
     "metadata": {},
     "output_type": "display_data"
    }
   ],
   "source": [
    "%%html\n",
    "\n",
    "<script>\n",
    "  function code_toggle() {\n",
    "    if (code_shown){\n",
    "      $('div.input').hide('500');\n",
    "      $('#toggleButton').val('Show Code')\n",
    "    } else {\n",
    "      $('div.input').show('500');\n",
    "      $('#toggleButton').val('Hide Code')\n",
    "    }\n",
    "    code_shown = !code_shown\n",
    "  }\n",
    "\n",
    "  $( document ).ready(function(){\n",
    "    code_shown=false;\n",
    "    $('div.input').hide()\n",
    "  });\n",
    "</script>\n",
    "\n",
    "<form action=\"javascript:code_toggle()\"><input type=\"submit\" id=\"toggleButton\" value=\"Show Code\"></form>\n"
   ]
  },
  {
   "cell_type": "markdown",
   "metadata": {},
   "source": [
    "## The Third Law\n",
    "\n",
    "Let's remind ourselves of the Three Laws of motion from Newton:\n",
    "\n",
    "1. A body at **rest** stays at **rest**. A body in **motion** stays in **motion**, with uniform speed in a straight line. A change happens only if a **force** acts on the body.\n",
    "\n",
    "2. The **force** on the body equals the rate of change of its **momentum** (mass times velocity). \n",
    "\n",
    "3. For every **action**, there is an equal and opposite **reaction**.\n",
    "\n",
    "In this notebook, we examine the Third Law:\n",
    "\n",
    "#3. For every **action**, there is an equal and opposite **reaction**."
   ]
  },
  {
   "cell_type": "markdown",
   "metadata": {},
   "source": [
    "### Example 1\n",
    "\n",
    "A familiar example of the Third Law we see often on TV or the Internet - a rocket blasting off to space.\n",
    "\n",
    "The rocket demonstrates Newton's Third Law. In a NASA rocket, as in the video below, some chemicals inside the the rocket body are burned, creating hot gases that shoot out the bottom of the rocket. That motion of hot gases is the **action**. The rocket responds by moving in the opposite direction. That rocket motion is the **reaction**.\n",
    "\n",
    "<img src=\"https://media.giphy.com/media/6yWV529bDk3WU/giphy.gif\" width=\"480\" height=\"350\" />\n",
    "\n",
    "(Image via Giphy.com)\n",
    "\n"
   ]
  },
  {
   "cell_type": "markdown",
   "metadata": {},
   "source": [
    "### Example 2\n",
    "\n",
    "A similar example is with a water bottle rocket, as in the video below. \n",
    "\n",
    "The child pumps air into the water bottle creating pressure inside the container. When the lid on the bottom open, the air pressure forces the water  out the bottom of the rocket. That motion of water is the **action.** The resulting **reaction** is the water bottle shooting up into the air.  \n",
    "\n",
    "<img src=\"https://media.giphy.com/media/qGQ7uiYh4II2k/giphy.gif\" width=\"480\" height=\"270\" />\n",
    "\n",
    "(Image via Giphy.com)\n"
   ]
  },
  {
   "cell_type": "markdown",
   "metadata": {},
   "source": [
    "### Example 3\n",
    "\n",
    "### Equal and opposite\n",
    "\n",
    "Equal reaction might not be obvious. In the video below, two people collide while holding big, bouncy balls. At the collision, one of them flies backwards (and lands comfortably on cushions). The other only slows down a bit.  The reaction seems opposite (goes in the reverse direction), but not really equal.\n",
    "\n",
    "<img src=\"https://media.giphy.com/media/ri4ux6gkNifIs/giphy.gif\" width=\"480\" height=\"280\" />\n",
    "\n",
    "(Image via Giphy.com)\n"
   ]
  },
  {
   "cell_type": "markdown",
   "metadata": {},
   "source": [
    "### Some details\n",
    "\n",
    "So, what's happening here?\n",
    "\n",
    "A more precise statement of Newton's Third Law is the following:\n",
    "\n",
    "> #3. When two objects interact, there are two forces acting, one on each object, that are equal strength and opposite in direction. \n",
    "\n",
    "In the video above with the two people colliding, each has a **force** on them (the force through the balls). These are equal and opposite **forces** acting on them. The person on the left is big, heavy, and moving quickly with his feet planting firmly on the ground. He will firmly absorb any force, and only slow down a bit. \n",
    "\n",
    "The person on the right is small, light-weight, not moving initially, and lifts her feet off the floor. When the equal-sized force hits her, she flies back quickly because her momentum, and her velocity must make a big change in reaction to the force of the collision.\n",
    "\n",
    "By the Second Law, a force causes a change in momentum (velocity times mass), so it is the change in **momentum** that must be equal. Here, the smaller person on the right, with lower mass, has to see a bigger change in velocity in the collision to have an equivalent change of momentum. So this person bounces back much faster.\n",
    "\n",
    " "
   ]
  },
  {
   "cell_type": "markdown",
   "metadata": {},
   "source": [
    "### Example 4\n",
    "\n",
    "### A train derailment \n",
    "\n",
    "Tragic accidents can happen when we forget Newton's Third Law. Here is an example of a train derailment, captured in the video below. The train is following Newton's laws of motion, but something went terribly wrong. \n",
    "\n",
    "<img src=\"https://media.giphy.com/media/oQLfkLMkDdfnG/giphy.gif\" width=\"480\" height=\"354\" />\n",
    "\n",
    "(Image via Giphy.com)"
   ]
  },
  {
   "cell_type": "markdown",
   "metadata": {},
   "source": [
    "So, what went wrong here?\n",
    "\n",
    "First, notice the train is turning in a curve - by Newton's First Law, there must be a force on the train causing it to deviate from a straight line. It's not hard to imagine that this force is the action of the rails on the ground pushing against the wheels of the train.\n",
    "\n",
    "By the Third Law, the wheels/train push back on the rails. This is the equal, opposite force. Because it is a fast, heavy train, this results in a very strong force pushing on the rails.\n",
    "\n",
    "Normally, the rails do not move (much) because they are cemented into the ground. In this derailment video, though, the force is so strong that the rails break! Once they are broken, there is nothing to push against the train. With no force, Newton's First Law says the train will have to move in a straight line. So it does, which means it leaves the curved track and crashes into the wall."
   ]
  },
  {
   "cell_type": "markdown",
   "metadata": {},
   "source": [
    "### A simulation\n",
    "\n",
    "Following is a bouncing ball simulation, based on code by Ziggy Jonsson [Click here for the original](http://bl.ocks.org/ZJONSSON/1706849). Details are in this [paper](http://www.vobarian.com/collisions/2dcollisions2.pdf).\n",
    "\n",
    "What we see in the animation is a collection of balls that bounce off each other in elastic collisions. Each ball has a different mass, proportional to the area of the ball. \n",
    "\n",
    "So when a small ball hits a big ball, there is a force acting on each ball, in equal and opposite directions. The difference in masses means the velocity of the small ball changes a lot, while the big ball only changes a little.\n",
    "\n"
   ]
  },
  {
   "cell_type": "code",
   "execution_count": 12,
   "metadata": {},
   "outputs": [
    {
     "data": {
      "text/html": [
       "\n",
       "        <iframe\n",
       "            width=\"500\"\n",
       "            height=\"500\"\n",
       "            src=\"C3.html\"\n",
       "            frameborder=\"0\"\n",
       "            allowfullscreen\n",
       "        ></iframe>\n",
       "        "
      ],
      "text/plain": [
       "<IPython.lib.display.IFrame at 0x107acd198>"
      ]
     },
     "execution_count": 12,
     "metadata": {},
     "output_type": "execute_result"
    }
   ],
   "source": [
    "from IPython.display import IFrame\n",
    "IFrame('C3.html',500,500)"
   ]
  },
  {
   "cell_type": "markdown",
   "metadata": {},
   "source": [
    "## Second and Third Law together\n",
    "\n",
    "\n",
    "When two balls hit, the Third Law tells us that the force each feels is equal and opposite. The Second Law tells us the rate of change in **momentum** for each ball is equal to this force. \n",
    "\n",
    "This means the total change in **momentum** for the two balls is equal and opposite. That is to say that the total change in total momentum between two objects is\n",
    "\n",
    "$$\\Delta \\vec{p}_1 = - \\Delta \\vec{p}_2, $$\n",
    "\n",
    "where delta $\\Delta$ means the ''change in'' the momentum $\\vec{p}$. \n",
    "So $\\Delta \\vec{p} = \\vec{p}(\\mbox{after}) - \\vec{p}(\\mbox{before}).$\n",
    "\n",
    "The letter $\\vec{p}$ stands for momentum (*petere* in Latin), and is just the product of mass times velocity. \n",
    "\n",
    "Rewriting momentum as mass times velocity,  for the two balls (1 and 2) we have\n",
    "$$ \\Delta \\left( m_1 \\cdot \\vec{v}_1 \\right) = - \\Delta \\left( m_2 \\cdot \\vec{v}_2\\right).$$\n",
    "The minus sign on the right is to remind us that the change is in opposite directions.\n",
    "\n",
    "For the balls in this simulation, the masses stay constant, and it is only the velocities that change, so we can write\n",
    "$$ m_1 \\cdot (\\Delta \\vec{v}_1) = - m_2 \\cdot (\\Delta  \\vec{v}_2).$$\n",
    "\n",
    "In other words, the relative change in velocities is related to the ratio of their masses,\n",
    "$$ \\Delta \\vec{v}_1 = - \\frac{m_2}{m_1} \\cdot \\Delta   \\vec{v}_2.$$\n",
    "\n",
    "So, if ball two has twice the mass of ball one, the change in speed of ball one is twice the change in ball two. \n",
    "\n",
    "## Example 3 - colliding people.\n",
    "\n",
    "Recall in the thrid video above, we had a boy colliding into a girl. Suppose \n",
    "- the boy weighs 80kg\n",
    "- the girl weighs 40kg\n",
    "- the boy is running at 5 meters per second, and after the collision, has stopped dead.\n",
    "How fast is the girl going?\n",
    "\n",
    "Well, if we ignore the forces of their feet on the floor, we see the boy's change in velocity is 5 m/s. Since the ratio of masses $m_2/m_1$ is 2, the change in the girl's velocity must be twice as great. So she goes from 0 m/s to 10 m/s (which is very fast).\n",
    "\n",
    "If you like, we can compute further:\n",
    "- the boy's initial momentum is $80\\times 5$ = $400$ kg m/s.\n",
    "- Going to a dead stop, his change in momentum is $- 400$ kg m/s.\n",
    "- The girl goes from zero to $40\\times 10$ = $+400$ kg m/s.\n",
    "\n",
    "So the change in momentum of the boy is equal and opposite the change in momentum of the girl.\n"
   ]
  },
  {
   "cell_type": "markdown",
   "metadata": {},
   "source": [
    "## Where's the force?\n",
    "\n",
    "Notice in the above example that we did not need to compute the force of the collision. This is one of the powerful aspects of Newton's Third Law. That is, without knowing any details of the forces involved, we can still figure out the change in velocities of the interacting bodies.\n",
    "\n",
    "In fact, the forces can be quite complicated. With the boy and girl colliding, the force is transmitted through the bouncy ball. So it is a small force, extended over a rather long time (a few tenths of a second). If they were holding hard steel balls, the force of collision would have been very large, over a short time (a hundreth of a second, say). Fortunately, we don't need to know these details to use the Third Law."
   ]
  },
  {
   "cell_type": "markdown",
   "metadata": {},
   "source": [
    "## Conservation law\n",
    "\n",
    "Newton's Third Law leads to the conservation of momentum law. This is a deeper physical result that holds true even in very complicated situations, with many bodies (not just two), and even for things like fluids, gases, and elastic solids.\n",
    "\n",
    "It is easy to see this conservation of total momentum for the bouncing balls. We write\n",
    "$$\\mbox{Total Momentum}, \\; \\vec{p} = m_1\\cdot \\vec{v}_1 + m_2\\cdot \\vec{v}_2 + m_3\\cdot \\vec{v}_3 + \\ldots$$\n",
    "as the sum of the momenta of all the balls. \n",
    "\n",
    "Now, if two balls collide, say one and two, then the momentum of first ball goes up by $\\mbox{ change in } (m_1 \\cdot v_1)$ while the momentum of the second ball goes down by the same amount. This is the **equal and opposite** part of the Third Law. The Total Momentum stays the same, since this increase and decrease cancels out in the total sum of momenta.\n"
   ]
  },
  {
   "cell_type": "markdown",
   "metadata": {},
   "source": [
    "## Summary of Newton's Third Law\n",
    "\n",
    "The Third Law really is a physical law. It says that when two objects interact, it is through forces. Each object experiences a force, that is equal to, and opposite to the force on the other object. \n",
    "\n",
    "From the First and Second Laws, we know there are consequences to these forces. The objects will change their motion, and the size of the change of their velocities will depend on their relative masses. \n",
    "\n",
    "So when big things hit small things, the small thing has a bigger change in velocity. \n",
    "\n",
    "One important consequence of Newtons' Third Law is the conservation of total momentum for a system of particles. "
   ]
  },
  {
   "cell_type": "markdown",
   "metadata": {},
   "source": [
    "## Exercises\n",
    "\n",
    "1. Suppose you are in your car, stopped at an intersection. A car hits you from behind (that is an action). What is the reaction? (What does your car do?)\n",
    "\n",
    "2. If the car hitting you from behind has the same mass as yours, is the force your car experiences the same as the force the other car feels?\n",
    "\n",
    "3. If the car hitting you from behind has 10 times the mass, is the force your car experiences the same as the force the other car feels? Explain. \n",
    "\n",
    "4. If the car hitting you from behind has 10 times the mass as yours, is the change in velocity your car experiences the same as the change in velocity the other car feels? Explain.\n",
    "\n",
    "5. From the passenger's point of view, any big increase in velocity is a problem because at some point in an accident, you get stopped (by an airbag, a windshield, or a road surface). Explain why getting hit by a heavy truck is worse than getting hit by a light car. \n",
    "\n",
    "6. You and a friend are on a skating rink that is perfectly smooth, and your skates move frictionlessly on the ice. Standing face to face, if you push against each other, do you move? In which direction do each of you move?\n",
    "\n",
    "7. As in 6, if you and your friend weigh the same, how fast do you move, compared to your friend?\n",
    "\n",
    "8. As in 6, if you weigh twice as much as your friend, do you move twice as fast? Four times as fast? How fast?\n",
    "\n",
    "6. A bird can lift itself into the sky by pushing the air with its wings. A rocket in outer space doesn't have air to push against -- so how does it move? (Hint -- think of the skaters. One skater could be like the rocket, the other skater is like the hot gases being pushed away from the rocket.)"
   ]
  },
  {
   "cell_type": "markdown",
   "metadata": {},
   "source": [
    "### License notice\n",
    "\n",
    "Callysto™ instructional material is made available under the [Creative Commons Attribution 4.0 license](https://creativecommons.org/licenses/by/4.0/), and the underlying software is made available under the [Open Source Initiative](https://opensource.org)-approved [MIT license](https://opensource.org/licenses/mit-license.html). Licensing details are [here](CallystoLicense.html).\n",
    "\n",
    "![logo](https://github.com/callysto/callysto-sample-notebooks/raw/master/notebooks/images/Callysto_Notebook-Banners_Bottom_06.06.18.jpg)"
   ]
  }
 ],
 "metadata": {
  "kernelspec": {
   "display_name": "Python 3",
   "language": "python",
   "name": "python3"
  },
  "language_info": {
   "codemirror_mode": {
    "name": "ipython",
    "version": 3
   },
   "file_extension": ".py",
   "mimetype": "text/x-python",
   "name": "python",
   "nbconvert_exporter": "python",
   "pygments_lexer": "ipython3",
   "version": "3.6.8"
  }
 },
 "nbformat": 4,
 "nbformat_minor": 2
}
