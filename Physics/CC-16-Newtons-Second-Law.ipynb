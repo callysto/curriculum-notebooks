{
 "cells": [
  {
   "cell_type": "markdown",
   "metadata": {},
   "source": [
    "<img src=\"images/Banner.JPG\">"
   ]
  },
  {
   "cell_type": "code",
   "execution_count": 1,
   "metadata": {},
   "outputs": [
    {
     "data": {
      "text/html": [
       "<script>\n",
       "  function code_toggle() {\n",
       "    if (code_shown){\n",
       "      $('div.input').hide('500');\n",
       "      $('#toggleButton').val('Show Code')\n",
       "    } else {\n",
       "      $('div.input').show('500');\n",
       "      $('#toggleButton').val('Hide Code')\n",
       "    }\n",
       "    code_shown = !code_shown\n",
       "  }\n",
       "  \n",
       "  $( document ).ready(function(){\n",
       "    code_shown=false;\n",
       "    $('div.input').hide()\n",
       "  });\n",
       "</script>\n",
       "<form action=\"javascript:code_toggle()\"><input type=\"submit\" id=\"toggleButton\" value=\"Show Code\"></form>"
      ],
      "text/plain": [
       "<IPython.core.display.HTML object>"
      ]
     },
     "execution_count": 1,
     "metadata": {},
     "output_type": "execute_result"
    }
   ],
   "source": [
    "from IPython.display import display, Math, Latex, HTML, clear_output, Markdown, IFrame\n",
    "import numpy as np\n",
    "import matplotlib.pyplot as plt\n",
    "from numpy import sqrt as sqrt\n",
    "import ipywidgets as widgets\n",
    "from ipywidgets import interact, interactive\n",
    "\n",
    "%matplotlib inline\n",
    "\n",
    "\n",
    "'''Above, we are importing all the necessary modules in order to run the notebook. \n",
    "Numpy allows us to define arrays of values for our variables to plot them\n",
    "matplotlib is what we use to create the figures\n",
    "the display and widgets are to make the notebook look neat\n",
    "'''\n",
    "\n",
    "HTML('''<script>\n",
    "  function code_toggle() {\n",
    "    if (code_shown){\n",
    "      $('div.input').hide('500');\n",
    "      $('#toggleButton').val('Show Code')\n",
    "    } else {\n",
    "      $('div.input').show('500');\n",
    "      $('#toggleButton').val('Hide Code')\n",
    "    }\n",
    "    code_shown = !code_shown\n",
    "  }\n",
    "  \n",
    "  $( document ).ready(function(){\n",
    "    code_shown=false;\n",
    "    $('div.input').hide()\n",
    "  });\n",
    "</script>\n",
    "<form action=\"javascript:code_toggle()\"><input type=\"submit\" id=\"toggleButton\" value=\"Show Code\"></form>''')"
   ]
  },
  {
   "cell_type": "markdown",
   "metadata": {},
   "source": [
    "# Introduction \n",
    "\n",
    "Newton's 3 laws of motion comprise some of the most foundational thinking for the progression of physics throughout our history. They tells us qualitatively and quantitatively what happens to an object (with mass) when a force has been acted on the object. Without these laws we wouldn't be able to send people (or Teslas) into space! In this notebook we will focus on the Newton's Second Law after first reviewing his First Law."
   ]
  },
  {
   "cell_type": "markdown",
   "metadata": {},
   "source": [
    "<img src = \"https://media.giphy.com/media/l4pTsJiBeF7WzuApy/giphy.gif\" >\n",
    "<font size = 1 > <center> https://giphy.com/gifs/franklininstitute-space-tesla-l4pTsJiBeF7WzuApy </center> </font>"
   ]
  },
  {
   "cell_type": "markdown",
   "metadata": {},
   "source": [
    "## Newton's First Law\n",
    "\n",
    "Latin: *Corpus omne perseverare in statu suo quiescendi vel movendi uniformiter in directum, nisi quatenus a viribus impressis cogitur statum illum mutare.*\n",
    "\n",
    "English Translation: **An object at rest will remain at rest unless acted upon by an external and unbalanced force . An object in motion will remain in motion unless acted upon by an external and unbalanced force.** \n",
    "\n",
    "Let's see if we can understand better what this means and checkout a real example.\n",
    "\n",
    "Imagine you have a ball floating in space, perfectly still, where Newton's $1^{\\rm st}$ law tells us it will remain motionless for eternity. It will remain this way unless a force acts on the ball. In the cell below, we can see this happening! The ball sits motionless *UNTIL* you apply the force. Likewise, once a force is applied and the ball starts to move it will continue to do so forever. Try it out below!"
   ]
  },
  {
   "cell_type": "code",
   "execution_count": 6,
   "metadata": {
    "scrolled": true
   },
   "outputs": [
    {
     "data": {
      "text/html": [
       "\n",
       "        <iframe\n",
       "            width=\"900\"\n",
       "            height=\"320\"\n",
       "            src=\"Newtons_First.html\"\n",
       "            frameborder=\"0\"\n",
       "            allowfullscreen\n",
       "        ></iframe>\n",
       "        "
      ],
      "text/plain": [
       "<IPython.lib.display.IFrame at 0x7f7874389518>"
      ]
     },
     "execution_count": 6,
     "metadata": {},
     "output_type": "execute_result"
    }
   ],
   "source": [
    "IFrame('Newtons_First.html',width = 900, height = 320)"
   ]
  },
  {
   "cell_type": "markdown",
   "metadata": {},
   "source": [
    "But how can we quantify what this force is doing when it acts on the ball? This can be described with Newton's Second Law. \n",
    "\n",
    "## Newton's Second Law\n",
    "\n",
    "Latin: *Mutationem motus proportionalem esse vi motrici impressae, et fieri secundum lineam rectam qua vis illa imprimitur.*\n",
    "\n",
    "English Translation: **The rate of change of momentum of a body is equal to the resultant force acting on the body and is in the same direction.**\n",
    "\n",
    "Another way to represent this law, and the most commonly used form, is with the equation\n",
    "\n",
    "$\\vec{F} = m\\vec{a}$\n",
    "\n",
    "where $\\vec{F}$ is the force, $m$ is the mass of the body which experiences the force and $\\vec{a}$ is the acceleration of that same body. This allows us to carefully analyze the motion of an object once it has been impacted by the force. An important aspect of understanding this motion is to be familiar with vectors and their notation, so before we get more in depth with Newton's $2^{\\rm nd}$ Law let's look at what vectors are!\n",
    "\n",
    "## Vectors and Their Notation\n",
    "\n",
    "The standard definiton for a vector says that they represent both the magnitude and direction of some physical quanity. These quantities can include forces, velocity, acceleration and electromagnetic fields, just to name a few. Vectors (we will use an arbitrary variable $v$) are often denoted as $\\vec{v}$ or as $\\boldsymbol{v}$. Both styles are valid choices when typing on a computer but of course by hand it is most acceptable to write vectors with the arrow notation. \n",
    "\n",
    "So now, what does a vector actually look like? Well when looking at the cartesian coordinate system (Euclidean space) we get the usual coordinate axis that looks something like this. \n",
    "\n",
    "<img src = \"images/Cartesian_axes.png\" height='500px' width = '500px'>\n",
    "\n",
    "Within these coordinates it is then very easy to generate a vector that has both *magnitude* and *direction*. Check it out!\n",
    "\n",
    "<img src = \"images/Vector_2.png\" heigh = '500px' width = '500px'>\n",
    "\n",
    "To obtain the magnitude of this vector it only takes simple trigonometry (only in cartesian coordinates for 2D space). We define the magnitude as \n",
    "\n",
    "$\\lvert\\lvert\\vec{v}\\rvert\\rvert = \\sqrt{v_x^2 + v_y^2}$ \n",
    "\n",
    "where $v_x$ and $v_y$ are the $x$ and $y$ components of a vector respectively. As you may have been able to tell, the magnitude of a vector is just found using the Pythagorean theorem. There can be many ways to write the components of a vector but in this notebook we will use the notation $\\vec{v} = (v_x,v_y)$ for vectors that begin at the origin. For the red vector shown above we get that \n",
    "\n",
    "$\\vec{v} = (2,6)$\n",
    "\n",
    "and the magnitude is\n",
    "\n",
    "$\\lvert\\lvert\\vec{v}\\rvert\\rvert = \\sqrt{2^2 + 6^2} = \\sqrt{40} \\approx 6.3$\n",
    "\n",
    "\n",
    "Next it is important to understand how to interpret the direction of a vector. This is of course, merely the direction that the arrow points in our diagram but it should be known that this direction comes from the $x$ and $y$ components that make up the vector. In this case this is $(v_x,v_y)$ where $v_x$ is in the $\\hat{x}$ direction and $v_y$ is in the $\\hat{y}$ direction. \n",
    "\n",
    "\n",
    "\n",
    "\n",
    "## Back to Newton's Second Law\n",
    "\n",
    "So now that we are familiar with vectors let's look at how Newton's Second law impacts the motion of objects."
   ]
  },
  {
   "cell_type": "code",
   "execution_count": null,
   "metadata": {},
   "outputs": [],
   "source": []
  }
 ],
 "metadata": {
  "kernelspec": {
   "display_name": "Python 3",
   "language": "python",
   "name": "python3"
  },
  "language_info": {
   "codemirror_mode": {
    "name": "ipython",
    "version": 3
   },
   "file_extension": ".py",
   "mimetype": "text/x-python",
   "name": "python",
   "nbconvert_exporter": "python",
   "pygments_lexer": "ipython3",
   "version": "3.6.5"
  }
 },
 "nbformat": 4,
 "nbformat_minor": 2
}
