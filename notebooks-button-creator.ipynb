{
 "cells": [
  {
   "cell_type": "markdown",
   "metadata": {},
   "source": [
    "![Callysto.ca Banner](https://github.com/callysto/curriculum-notebooks/blob/master/callysto-notebook-banner-top.jpg?raw=true)\n",
    "\n",
    "<a href=\"https://hub.callysto.ca/jupyter/hub/user-redirect/git-pull?repo=https%3A%2F%2Fgithub.com%2Fcallysto%2Fcahiers-de-programmes&branch=master&subPath=/testing/test.ipynb&depth=1\" target=\"_parent\"><img src=\"https://raw.githubusercontent.com/callysto/curriculum-notebooks/master/open-in-callysto-button.svg?sanitize=true\" width=\"123\" height=\"24\" alt=\"Open in Callysto\"/></a>"
   ]
  },
  {
   "cell_type": "markdown",
   "metadata": {},
   "source": [
    "# Adding Banners and Buttons to Notebooks\n",
    "\n",
    "This notebook iterates through the notebooks in this repository and replaces the first and last cells with the appropriate banners and buttons."
   ]
  },
  {
   "cell_type": "code",
   "execution_count": null,
   "metadata": {},
   "outputs": [],
   "source": [
    "import os\n",
    "import json\n",
    "import pandas as pd\n",
    "\n",
    "def button_code_generator(notebook_path, notebook_filename):\n",
    "    notebook_path = notebook_path.replace('./','')\n",
    "    button_image = 'https://raw.githubusercontent.com/callysto/curriculum-notebooks/master/open-in-callysto-button.svg?sanitize=true'\n",
    "    repo_path = 'https%3A%2F%2Fgithub.com%2Fcallysto%2Fcurriculum-notebooks&branch=master'\n",
    "    a = '<a href=\"https://hub.callysto.ca/jupyter/hub/user-redirect/git-pull?repo='\n",
    "    size_etc = '\" width=\"123\" height=\"24\" alt=\"Open in Callysto\"/></a>'\n",
    "    button_code = a+repo_path+'&subPath='+notebook_path+'/'+notebook_filename+'&depth=1\" target=\"_parent\"><img src=\"'+button_image+size_etc\n",
    "    return button_code\n",
    "\n",
    "def replace_first_cell(notebook_name_and_path, first_cell_code):\n",
    "    original_file = open(notebook_name_and_path, 'r')\n",
    "    notebook_contents = json.load(original_file)\n",
    "    original_file.close()\n",
    "    del notebook_contents['cells'][0]\n",
    "    notebook_contents['cells'].insert(0, first_cell_code)\n",
    "    with open(notebook_name_and_path, 'w') as notebook_file:\n",
    "        json.dump(notebook_contents, notebook_file)\n",
    "\n",
    "def replace_last_cell(notebook_name_and_path):\n",
    "    last_cell_data = {'cell_type': 'markdown','metadata': {},'source': ['[![Callysto.ca License](https://github.com/callysto/curriculum-notebooks/blob/master/callysto-notebook-banner-bottom.jpg?raw=true)](https://github.com/callysto/curriculum-notebooks/blob/master/LICENSE.md)']}\n",
    "    original_file = open(notebook_name_and_path, 'r')\n",
    "    notebook_contents = json.load(original_file)\n",
    "    original_file.close()\n",
    "    del notebook_contents['cells'][-1]\n",
    "    notebook_contents['cells'].append(last_cell_data)\n",
    "    with open(notebook_name_and_path, 'w') as notebook_file:\n",
    "        json.dump(notebook_contents, notebook_file)\n",
    "\n",
    "df = pd.DataFrame(columns=['Notebook', 'Button Code'])\n",
    "for root, dirs, files in os.walk(\".\"):\n",
    "    for filename in files:\n",
    "        if filename.endswith('.ipynb'):\n",
    "            if not 'checkpoint' in filename:\n",
    "                button_code = button_code_generator(root, filename)\n",
    "                notebook_name_and_path = os.path.join(root, filename)\n",
    "                notebook = json.load(open(notebook_name_and_path))\n",
    "                first_cell = notebook['cells'][0]['source'][0]\n",
    "                last_cell = notebook['cells'][-1]['source'][0]\n",
    "                button_code = button_code_generator(root, filename)\n",
    "                df = df.append({'Notebook':notebook_name_and_path,'Button Code':button_code,'First Cell':first_cell,'Last Cell':last_cell}, ignore_index=True)\n",
    "df"
   ]
  },
  {
   "cell_type": "markdown",
   "metadata": {},
   "source": [
    "## Iterate through the notebooks DataFrame\n",
    "\n",
    "Replace the first cell in each notebook with the top banner and button, and the last cell with the bottom banner."
   ]
  },
  {
   "cell_type": "code",
   "execution_count": null,
   "metadata": {},
   "outputs": [],
   "source": [
    "for i, row in df.iterrows():\n",
    "    banner_code = '![Callysto.ca Banner](https://github.com/callysto/curriculum-notebooks/blob/master/callysto-notebook-banner-top.jpg?raw=true)'\n",
    "    first_cell_code = {'cell_type': 'markdown', 'metadata': {}, 'source': [banner_code, '\\n', '\\n', row['Button Code']]}\n",
    "    notebook_name_and_path = row['Notebook']\n",
    "    if notebook_name_and_path != './notebooks-button-creator.ipynb':\n",
    "        if '![Callysto.ca Banner](https://github.com' not in row['First Cell']:\n",
    "            print(i, 'Replacing banners in', notebook_name_and_path)\n",
    "            replace_first_cell(notebook_name_and_path, first_cell_code)\n",
    "            replace_last_cell(notebook_name_and_path)"
   ]
  },
  {
   "cell_type": "markdown",
   "metadata": {},
   "source": [
    "## Check our Work\n",
    "\n",
    "Again we will iterate through the notebooks and check the contents of the first and last cells."
   ]
  },
  {
   "cell_type": "code",
   "execution_count": null,
   "metadata": {},
   "outputs": [],
   "source": [
    "df2 = pd.DataFrame(columns=['Name','First Cell','Last Cell'])\n",
    "for root, dirs, files in os.walk(\".\"):\n",
    "    for filename in files:\n",
    "        if filename.endswith('.ipynb'):\n",
    "            if not 'checkpoint' in filename:\n",
    "                notebook_name = filename[:-6]\n",
    "                notebook_name_and_path = os.path.join(root, filename)\n",
    "                notebook = json.load(open(notebook_name_and_path))\n",
    "                first_cell = notebook['cells'][0]['source']#[0]\n",
    "                last_cell = notebook['cells'][-1]['source']#[0]\n",
    "                button_code = button_code_generator(root, filename)\n",
    "                df2 = df2.append({'Name':notebook_name,'First Cell':first_cell,'Last Cell':last_cell}, ignore_index=True)\n",
    "df2"
   ]
  },
  {
   "cell_type": "code",
   "execution_count": null,
   "metadata": {},
   "outputs": [],
   "source": [
    "for i, row in df2.iterrows():\n",
    "    print(i, row['Name'])\n",
    "    #print(row['First Cell'])\n",
    "    #print('Last Cell:')\n",
    "    print(row['Last Cell'])\n",
    "    print('')"
   ]
  },
  {
   "cell_type": "code",
   "execution_count": null,
   "metadata": {},
   "outputs": [],
   "source": [
    "last_cell_contents = df2['Last Cell'][0][0]\n",
    "for i, row in df2.iterrows():\n",
    "    if row['Last Cell'][0] != last_cell_contents:\n",
    "        print(i, row['Name'])"
   ]
  },
  {
   "cell_type": "markdown",
   "metadata": {},
   "source": [
    "[![Callysto.ca License](https://github.com/callysto/curriculum-notebooks/blob/master/callysto-notebook-banner-bottom.jpg?raw=true)](https://github.com/callysto/curriculum-notebooks/blob/master/LICENSE.md)"
   ]
  }
 ],
 "metadata": {
  "kernelspec": {
   "display_name": "Python 3",
   "language": "python",
   "name": "python3"
  },
  "language_info": {
   "codemirror_mode": {
    "name": "ipython",
    "version": 3
   },
   "file_extension": ".py",
   "mimetype": "text/x-python",
   "name": "python",
   "nbconvert_exporter": "python",
   "pygments_lexer": "ipython3",
   "version": "3.8.3"
  }
 },
 "nbformat": 4,
 "nbformat_minor": 2
}
