{
 "cells": [
  {
   "cell_type": "code",
   "execution_count": 1,
   "metadata": {},
   "outputs": [],
   "source": [
    "from reflections_files.reflections import *"
   ]
  },
  {
   "cell_type": "markdown",
   "metadata": {},
   "source": [
    "# Reflections of Graphs\n",
    "\n",
    "## Introduction\n",
    "\n",
    "In this notebook we will see the reflection of a point, a graph, and a function across a line.\n",
    "We can reflect across any line, but we will only be looking at three common lines in this notebook:\n",
    "the $x$-axis, the $y$-axis, and the line $y = x$.\n",
    "\n",
    "Imagine looking into a large mirror.\n",
    "Your reflection appears to be on the other side of the mirror,\n",
    "and it appears to be as far from the mirror's surface as you are.\n",
    "In order to see your reflection, you have to look at the mirror straight on.\n",
    "\n",
    "Keep this imagine in your mind as we describe the reflection of a point across a line.\n",
    "If we have a point and a straight line, whatever side of the line the point is on, its reflection is on the opposite side.\n",
    "The reflection is as far from the line as the point is.\n",
    "If we were to trace a line from the point to its reflection, this line would intersect the line we reflected across at a right angle -- to \"see\" its reflection, the point has to look at the line straight on.\n",
    "\n",
    "## Reflections across the $x$-axis\n",
    "\n",
    "The easiest line to reflect across is the $x$-axis.\n",
    "A point and its reflection across the $x$-axis are on opposite sides of the $x$-axis.\n",
    "The line from a point to its reflection has to intersect the $x$-axis at a right angle.\n",
    "Since the $x$-axis traces out a line from left to right, the line from the point to its reflection must be going straight up and down.\n",
    "This means the point and its reflection must have the same $x$-coordinate.\n",
    "A point and its reflection are the same distance above or below the $x$-axis,\n",
    "so whatever the $y$-coordinate of the point is,\n",
    "the $y$-coordinate of its reflection is the negative of that.\n",
    "\n",
    "**Example:** Consider the point $P = (1, 3)$.\n",
    "Let's call its reflection $P'$.\n",
    "Then $P'$ has the same $x$-coordinate as $P$, but its $y$-coordinate is the negative of $P$'s.\n",
    "This means $P' = (1, -3)$.\n",
    "\n",
    "**Example:** Suppose we have instead the point $P = (2, 0)$.\n",
    "This point is *on* the $x$-axis.\n",
    "Since $-0 = 0$, its reflection is $P' = (2, 0)$.\n",
    "If we have a point on the $x$-axis and we reflect it across the $x$-axis, we get the same point back.\n",
    "It is its own reflection.\n",
    "\n",
    "**Rule:** For an arbitrary point $(x, y)$, its reflection across the $x$-axis is the point $(x, -y)$.\n",
    "\n",
    "Below is a graph of the points $(-1,-1)$, $(0,2)$, $(1,3)$, and $(2,0)$ in blue and their reflections in red.\n",
    "The point $(2,0)$ is its own reflection, so we drew it in magenta, since the blue and red dots overlap."
   ]
  },
  {
   "cell_type": "code",
   "execution_count": 2,
   "metadata": {},
   "outputs": [
    {
     "data": {
      "image/png": "[encoded data removed]",
      "text/plain": [
       "<matplotlib.figure.Figure at 0x7f6e41e12dd8>"
      ]
     },
     "metadata": {},
     "output_type": "display_data"
    }
   ],
   "source": [
    "pts = {(-1,-1), (0,2), (1,3), (2,0)}\n",
    "plot_and_reflect_points(pts, \"x-axis\")"
   ]
  },
  {
   "cell_type": "markdown",
   "metadata": {},
   "source": [
    "That covers the reflection of a point across the $x$-axis.\n",
    "Now let's talk about the reflection of a graph of a function.\n",
    "The graph of a function is just a bunch of points --\n",
    "so many points packed closely together that it looks like a single curve.\n",
    "To reflect the graph, we just have to reflect all of the points!\n",
    "\n",
    "Below, in blue, the graph of some function $y = f(x)$\n",
    "and a few of the points making up its graph.\n",
    "The reflection of these points is in red.\n",
    "Use the slider to see what happens when we take and reflect more and more points on the graph.\n"
   ]
  },
  {
   "cell_type": "code",
   "execution_count": 3,
   "metadata": {},
   "outputs": [
    {
     "data": {
      "application/vnd.jupyter.widget-view+json": {
       "model_id": "fd84013fda9240a1ac31e4485eaaaf3e",
       "version_major": 2,
       "version_minor": 0
      },
      "text/html": [
       "<p>Failed to display Jupyter Widget of type <code>interactive</code>.</p>\n",
       "<p>\n",
       "  If you're reading this message in the Jupyter Notebook or JupyterLab Notebook, it may mean\n",
       "  that the widgets JavaScript is still loading. If this message persists, it\n",
       "  likely means that the widgets JavaScript library is either not installed or\n",
       "  not enabled. See the <a href=\"https://ipywidgets.readthedocs.io/en/stable/user_install.html\">Jupyter\n",
       "  Widgets Documentation</a> for setup instructions.\n",
       "</p>\n",
       "<p>\n",
       "  If you're reading this message in another frontend (for example, a static\n",
       "  rendering on GitHub or <a href=\"https://nbviewer.jupyter.org/\">NBViewer</a>),\n",
       "  it may mean that your frontend doesn't currently support widgets.\n",
       "</p>\n"
      ],
      "text/plain": [
       "interactive(children=(IntSlider(value=7, continuous_update=False, description='n', min=2), Output()), _dom_classes=('widget-interact',))"
      ]
     },
     "metadata": {},
     "output_type": "display_data"
    },
    {
     "data": {
      "text/plain": [
       "<function __main__.draw1>"
      ]
     },
     "execution_count": 3,
     "metadata": {},
     "output_type": "execute_result"
    }
   ],
   "source": [
    "def draw1(xrange, yrange, n) :\n",
    "    def f(x):\n",
    "        return x*(x-4)*(x-5)*(x**2-71/18*x+73/18)\n",
    "    plot_graph(f, xrange, yrange)\n",
    "    plot_and_reflect_sample_points(f, xrange, n, \"x-axis\")\n",
    "    return\n",
    "\n",
    "interact(draw1,\n",
    "         xrange = fixed((0,5)),\n",
    "         yrange = fixed((-20,20)),\n",
    "         n = widgets.IntSlider(min = 2, max = 100, step = 1, value = 7, continuous_update = False))"
   ]
  },
  {
   "cell_type": "markdown",
   "metadata": {},
   "source": [
    "If we only reflect a few points, the red dots don't look like much,\n",
    "but as we reflect more and more points, the red dots start to resemble the blue curve but flipped upside-down.\n",
    "This is the reflection of the graph across the $x$-axis.\n",
    "Or more accurately, if we had the time to sample and reflect infinitely many points, we would get the reflection of the graph.\n",
    "Usually, it will suffice to sample and reflect a few points and connect the dots with a curve.\n",
    "\n",
    "**Example:** Let's reflect the graph of $y = \\log_2(x)$ across the $x$-axis.\n",
    "We start by identifying a few points on the graph of $y = \\log_2(x)$.\n",
    "We know, for example, that $(1,0)$, $(2,1)$, $(4,2)$, and $(8,3)$ are points on the graph.\n",
    "Their reflections are $(1, 0)$, $(2,-1)$, $(4,-2)$, and $(8,-3)$, respectively.\n",
    "Then we connect these points with a curve."
   ]
  },
  {
   "cell_type": "code",
   "execution_count": 4,
   "metadata": {},
   "outputs": [
    {
     "data": {
      "image/png": "[encoded data removed]",
      "text/plain": [
       "<matplotlib.figure.Figure at 0x7f6e394c8978>"
      ]
     },
     "metadata": {},
     "output_type": "display_data"
    }
   ],
   "source": [
    "\n",
    "def draw2():\n",
    "    def g(x):\n",
    "        return log(x,2)\n",
    "    f = np.vectorize(g)\n",
    "    xmin, xmax = 0.01, 10\n",
    "    nsamples = 100 #2*(xmax - xmin) - 1\n",
    "    x = np.linspace(xmin, xmax, nsamples)\n",
    "\n",
    "    plt.axhline(color=\"black\", linewidth=1)\n",
    "    plt.axvline(color=\"black\", linewidth=1)\n",
    "    plt.ylim(-5, 5)\n",
    "    plt.plot(x, f(x), label=\"$y = \\log_2(x)$\")\n",
    "    plt.plot(x, -f(x), label=\"Reflection of $y = \\log_2(x)$\", color=\"red\", sketch_params=0.8)\n",
    "    pts = {(1,0), (2,1), (4,2), (8,3)}\n",
    "    plot_and_reflect_points(pts, \"x-axis\", set_bounds=False)\n",
    "    plt.legend(loc='upper center', bbox_to_anchor=(1.45, 0.8))\n",
    "\n",
    "draw2()"
   ]
  },
  {
   "cell_type": "markdown",
   "metadata": {},
   "source": [
    "We have reflected points and graphs across the $x$-axis.\n",
    "These were both geometric ideas.\n",
    "Now we will reflect functions themselves,\n",
    "and we start with the observation that the reflection of the graph $y = \\log_2(x)$ in the last example\n",
    "is precisely the graph of the function $y = -\\log_2(x)$.\n",
    "\n",
    "If we have an arbitrary function $y = f(x)$,\n",
    "its graph is all of the points of the form $(x, f(x))$.\n",
    "To reflect these points across the $x$-axis, we negate their $y$-coordinates,\n",
    "so the reflection of the graph is all of the points of the form $(x, -f(x))$.\n",
    "But this is just the graph of the function $y = -f(x)$!\n",
    "\n",
    "**Rule:** The reflection of a function $y = f(x)$ across the $x$-axis is the function $y = -f(x)$.\n",
    "\n",
    "**Example:** Suppose we have the function $y = x^2$ and we want to reflect it across the $x$-axis.\n",
    "All we have to do is negate the right hand side of the equation.\n",
    "The reflection is simply\n",
    "    $$ y = -(x^2) = -x^2. $$\n",
    "\n",
    "**Example:** Suppose we have the function $y = \\sin(x) - x$ instead.\n",
    "Again, we just negate the right hand side of the equation,\n",
    "but make sure to negate *all* of the terms and be careful with double negatives.\n",
    "This time, the reflection across the $x$-axis is\n",
    "    $$ y = -(\\sin(x) - x) = -\\sin(x) + x. $$\n",
    "\n",
    "The interactive graph below allows you to enter an arbitrary function $f(x)$ and see its graph and its reflection across the $x$-axis."
   ]
  },
  {
   "cell_type": "code",
   "execution_count": 5,
   "metadata": {
    "scrolled": false
   },
   "outputs": [
    {
     "data": {
      "application/vnd.jupyter.widget-view+json": {
       "model_id": "f158b6e680774bdc9067d11e5f844eff",
       "version_major": 2,
       "version_minor": 0
      },
      "text/html": [
       "<p>Failed to display Jupyter Widget of type <code>interactive</code>.</p>\n",
       "<p>\n",
       "  If you're reading this message in the Jupyter Notebook or JupyterLab Notebook, it may mean\n",
       "  that the widgets JavaScript is still loading. If this message persists, it\n",
       "  likely means that the widgets JavaScript library is either not installed or\n",
       "  not enabled. See the <a href=\"https://ipywidgets.readthedocs.io/en/stable/user_install.html\">Jupyter\n",
       "  Widgets Documentation</a> for setup instructions.\n",
       "</p>\n",
       "<p>\n",
       "  If you're reading this message in another frontend (for example, a static\n",
       "  rendering on GitHub or <a href=\"https://nbviewer.jupyter.org/\">NBViewer</a>),\n",
       "  it may mean that your frontend doesn't currently support widgets.\n",
       "</p>\n"
      ],
      "text/plain": [
       "interactive(children=(Text(value='x**2', continuous_update=False, description='f(x) = '), IntSlider(value=10, continuous_update=False, description='xrange', min=1), IntSlider(value=10, continuous_update=False, description='yrange', min=1), Output()), _dom_classes=('widget-interact',))"
      ]
     },
     "metadata": {},
     "output_type": "display_data"
    },
    {
     "data": {
      "text/plain": [
       "<function reflections_files.reflections.graph_and_reflect_function>"
      ]
     },
     "execution_count": 5,
     "metadata": {},
     "output_type": "execute_result"
    }
   ],
   "source": [
    "interact(graph_and_reflect_function,\n",
    "         line = fixed(\"x-axis\"),\n",
    "         func = widgets.Text(\"x**2\", description=(\"f(x) = \"), continuous_update = False),\n",
    "         xrange = widgets.IntSlider(min = 1, max = 100, step = 1, value = 10, continuous_update = False),\n",
    "         yrange = widgets.IntSlider(min = 1, max = 100, step = 1, value = 10, continuous_update = False))"
   ]
  },
  {
   "cell_type": "markdown",
   "metadata": {},
   "source": [
    "## Reflections across the $y$-axis\n",
    "\n",
    "Now that we know how to reflect points, graphs, and functions across the $x$-axis,\n",
    "we will see how to reflect them across the $y$-axis instead.\n",
    "Geometrically, the idea is the same as before.\n",
    "A point and its reflection are on opposite sides of the $y$-axis,\n",
    "and both the same distance away from the $y$-axis.\n",
    "The line between them intersects the $y$-axis at a right angle,\n",
    "and since the the $y$-axis is going straight up and down,\n",
    "this means the the point's reflection must be directly to the left or right of it, so they have the same $y$-coordinate.\n",
    "Being the same distance away from the $y$-axis,\n",
    "the point and its reflection's $x$-coordinates are negatives of one another.\n",
    "\n",
    "**Example:** Consider the point $P = (1, 3)$ and its reflection across the $y$-axis, $P'$.\n",
    "The points $P$ and $P'$ have the same $y$-coordinates, but their $x$-coordinates are negatives of one another.\n",
    "So $P' = (-1, 3)$.\n",
    "\n",
    "**Example:** Suppose we have instead the point $P = (0, 2)$.\n",
    "This point is on the $y$-axis.\n",
    "Since $-0 = 0$, its reflection is $P' = (0, 2)$.\n",
    "If we have a point on the $y$-axis and we reflect it across the $y$-axis, we get the same point back.\n",
    "\n",
    "**Rule:** For an arbitrary point $(x, y)$, its reflection across the $y$-axis is the point $(-x, y)$.\n",
    "\n",
    "Below is a graph consisting of the points from before, but reflected across the $y$-axis instead.\n"
   ]
  },
  {
   "cell_type": "code",
   "execution_count": 6,
   "metadata": {},
   "outputs": [
    {
     "data": {
      "image/png": "[encoded data removed]",
      "text/plain": [
       "<matplotlib.figure.Figure at 0x7f6e41bfbd68>"
      ]
     },
     "metadata": {},
     "output_type": "display_data"
    }
   ],
   "source": [
    "pts = {(-1,-1), (0,2), (1,3), (2,0)}\n",
    "plot_and_reflect_points(pts, \"y-axis\")"
   ]
  },
  {
   "cell_type": "markdown",
   "metadata": {},
   "source": [
    "To reflect a graph across the $y$-axis, we do just like before.\n",
    "In theory, we think of the graph as consisting of infinitely many points,\n",
    "and we draw the reflection across the $y$-axis of each of these points to get the graphs reflection.\n",
    "In practice, because life is short, we reflect a few points and connect them by a curve.\n",
    "The more points we reflect, the more accurately we can draw the reflection of the graph."
   ]
  },
  {
   "cell_type": "code",
   "execution_count": 7,
   "metadata": {},
   "outputs": [
    {
     "data": {
      "application/vnd.jupyter.widget-view+json": {
       "model_id": "15ccfe43b2254e219c5a9fae42a38a1c",
       "version_major": 2,
       "version_minor": 0
      },
      "text/html": [
       "<p>Failed to display Jupyter Widget of type <code>interactive</code>.</p>\n",
       "<p>\n",
       "  If you're reading this message in the Jupyter Notebook or JupyterLab Notebook, it may mean\n",
       "  that the widgets JavaScript is still loading. If this message persists, it\n",
       "  likely means that the widgets JavaScript library is either not installed or\n",
       "  not enabled. See the <a href=\"https://ipywidgets.readthedocs.io/en/stable/user_install.html\">Jupyter\n",
       "  Widgets Documentation</a> for setup instructions.\n",
       "</p>\n",
       "<p>\n",
       "  If you're reading this message in another frontend (for example, a static\n",
       "  rendering on GitHub or <a href=\"https://nbviewer.jupyter.org/\">NBViewer</a>),\n",
       "  it may mean that your frontend doesn't currently support widgets.\n",
       "</p>\n"
      ],
      "text/plain": [
       "interactive(children=(IntSlider(value=7, continuous_update=False, description='n', min=2), Output()), _dom_classes=('widget-interact',))"
      ]
     },
     "metadata": {},
     "output_type": "display_data"
    },
    {
     "data": {
      "text/plain": [
       "<function __main__.draw3>"
      ]
     },
     "execution_count": 7,
     "metadata": {},
     "output_type": "execute_result"
    }
   ],
   "source": [
    "def draw3(xrange, yrange, n) :\n",
    "    def f(x):\n",
    "        return x**3 + 10\n",
    "    plot_graph(f, xrange, yrange)\n",
    "    plot_and_reflect_sample_points(f, xrange, n, \"y-axis\")\n",
    "    return\n",
    "\n",
    "interact(draw3,\n",
    "         xrange = fixed((-3,3)),\n",
    "         yrange = fixed((-20,40)),\n",
    "         n = widgets.IntSlider(min = 2, max = 100, step = 1, value = 7, continuous_update = False))"
   ]
  },
  {
   "cell_type": "markdown",
   "metadata": {},
   "source": [
    "In the same way that we reflected the function $y = f(x)$ across the $x$-axis to get $y = -f(x)$,\n",
    "we can also reflect the function across the $y$-axis.\n",
    "An arbitrary point on the graph of $y = f(x)$ has the form $(x, f(x)$.\n",
    "Using the rule above, the reflection of an arbitrary point on the graph is of the form $(-x, f(x))$.\n",
    "But $(-x, f(x))$ has the same \"form\" as $(x, f(-x))$, and points of *this* form make up the graph of $y = f(-x)$.\n",
    "\n",
    "**Rule:** The reflection of a function $y = f(x)$ across the $y$-axis is $y = f(-x)$.\n",
    "\n",
    "This means we just have to replace $x$ with $-x$ everywhere in our function.\n",
    "Let's do a couple of examples.\n",
    "We reflected the following functions across the $x$-axis before.\n",
    "Let's reflect them across the $y$-axis instead.\n",
    "\n",
    "**Example:** Let's reflect $y = x^2$ across the $y$-axis.\n",
    "According to our rule, we just replace $x$ with $-x$,\n",
    "but we should be carefule and put parentheses around it, like so: $(-x)$.\n",
    "The reflection is simply\n",
    "    $$ y = (-x)^2 = x^2. $$\n",
    "In this case, the reflection across the $y$-axis is the same as the original function.\n",
    "\n",
    "**Example:** Let's reflect function $y = \\sin(x) - x$ instead across the $y$-axis.\n",
    "We replace every $x$ with $-x$ to get\n",
    "    $$ y = \\sin(-x) - (-x) = \\sin(-x) + x. $$\n",
    "This is a perfectly acceptable answer.\n",
    "You might have learned that $\\sin(-x) = -sin(x)$,\n",
    "so we could also rewrite this as\n",
    "    $$ y = -\\sin(x) + x $$\n",
    "if we prefer.\n",
    "You might also notice that this is the same answer that we got when we reflected it across the $x$-axis.\n",
    "Both reflections are the same for this function.\n",
    "\n",
    "Use the interactive graph below to plot any function with its reflection across the $y$-axis.\n",
    "As usual, the function will be in blue and its reflection in red."
   ]
  },
  {
   "cell_type": "code",
   "execution_count": 8,
   "metadata": {},
   "outputs": [
    {
     "data": {
      "application/vnd.jupyter.widget-view+json": {
       "model_id": "7694b3565de84fe69288343fedfb11a0",
       "version_major": 2,
       "version_minor": 0
      },
      "text/html": [
       "<p>Failed to display Jupyter Widget of type <code>interactive</code>.</p>\n",
       "<p>\n",
       "  If you're reading this message in the Jupyter Notebook or JupyterLab Notebook, it may mean\n",
       "  that the widgets JavaScript is still loading. If this message persists, it\n",
       "  likely means that the widgets JavaScript library is either not installed or\n",
       "  not enabled. See the <a href=\"https://ipywidgets.readthedocs.io/en/stable/user_install.html\">Jupyter\n",
       "  Widgets Documentation</a> for setup instructions.\n",
       "</p>\n",
       "<p>\n",
       "  If you're reading this message in another frontend (for example, a static\n",
       "  rendering on GitHub or <a href=\"https://nbviewer.jupyter.org/\">NBViewer</a>),\n",
       "  it may mean that your frontend doesn't currently support widgets.\n",
       "</p>\n"
      ],
      "text/plain": [
       "interactive(children=(Text(value='sin(x) - x', continuous_update=False, description='f(x) = '), IntSlider(value=10, continuous_update=False, description='xrange', min=1), IntSlider(value=10, continuous_update=False, description='yrange', min=1), Output()), _dom_classes=('widget-interact',))"
      ]
     },
     "metadata": {},
     "output_type": "display_data"
    },
    {
     "data": {
      "text/plain": [
       "<function reflections_files.reflections.graph_and_reflect_function>"
      ]
     },
     "execution_count": 8,
     "metadata": {},
     "output_type": "execute_result"
    }
   ],
   "source": [
    "interact(graph_and_reflect_function,\n",
    "         line = fixed(\"y-axis\"),\n",
    "         func = widgets.Text(\"sin(x) - x\", description=(\"f(x) = \"), continuous_update = False),\n",
    "         xrange = widgets.IntSlider(min = 1, max = 100, step = 1, value = 10, continuous_update = False),\n",
    "         yrange = widgets.IntSlider(min = 1, max = 100, step = 1, value = 10, continuous_update = False))\n"
   ]
  },
  {
   "cell_type": "markdown",
   "metadata": {},
   "source": [
    "## Reflections across both axes\n",
    "\n",
    "If we reflect a point across the $x$-axis and then reflect it again, the twice-reflected point is in the same position as the original point.\n",
    "The same thing happens when we reflect a point twice across the $y$-axis.\n",
    "But what happens when we reflect a point across the $x$-axis and the across the $y$-axis?\n",
    "\n",
    "Let's work with an example.\n",
    "Suppose we start with the point $(1, 2)$.\n",
    "Its reflection across the $x$-axis is $(-1, 2)$.\n",
    "The reflection of *that* across the $y$-axis is $(-1, -2)$.\n",
    "\n",
    "What if we work with an arbitrary point whose coordinates we don't know?\n",
    "We start with the point $(x, y)$, then reflect it across the $x$-axis to get $(-x, y)$.\n",
    "The reflection of the new point across the $y$-axis is $(-x, -y)$.\n",
    "\n",
    "To reflect a point across the $x$-axis followed by the $y$-axis, we just negate both of the point's coordinates.\n",
    "Now check for yourself that if we reflected $(x, y)$ across the axes in the other order --\n",
    "the $y$-axis and then the $x$-axis --\n",
    "we still get the point $(-x, -y)$.\n",
    "The order we do the reflections in does not matter!\n",
    "\n",
    "Now let's look at what this means visually.\n",
    "To illustrate, let's take a bunch of points all in a straight line and look at where they go if we reflect them across both axes.\n",
    "The points we begin with are below in blue.\n",
    "Their reflections are in red."
   ]
  },
  {
   "cell_type": "code",
   "execution_count": 9,
   "metadata": {},
   "outputs": [
    {
     "data": {
      "image/png": "[encoded data removed]",
      "text/plain": [
       "<matplotlib.figure.Figure at 0x7f6e3965f4e0>"
      ]
     },
     "metadata": {},
     "output_type": "display_data"
    }
   ],
   "source": [
    "pts = {(0,0), (2,1), (4,2), (6,3), (8,4), (10,5)}\n",
    "plot_and_reflect_points(pts, \"both\")"
   ]
  },
  {
   "cell_type": "markdown",
   "metadata": {},
   "source": [
    "Let's try the same thing but with some points sitting on a curve instead of a straight line."
   ]
  },
  {
   "cell_type": "code",
   "execution_count": 10,
   "metadata": {},
   "outputs": [
    {
     "data": {
      "image/png": "[encoded data removed]",
      "text/plain": [
       "<matplotlib.figure.Figure at 0x7f6e39312fd0>"
      ]
     },
     "metadata": {},
     "output_type": "display_data"
    }
   ],
   "source": [
    "pts = {(0,0), (1,1), (2,4), (3,9), (4,16), (5, 25)}\n",
    "plot_and_reflect_points(pts, \"both\")"
   ]
  },
  {
   "cell_type": "markdown",
   "metadata": {},
   "source": [
    "Can you see what is happening?\n",
    "The points are being rotated 180 degrees around the origin, $(0, 0)$."
   ]
  },
  {
   "cell_type": "markdown",
   "metadata": {},
   "source": [
    "## Even and odd functions\n",
    "\n",
    "Functions that are their own reflections across the $y$-axis have a special name.\n",
    "These are called **even** functions.\n",
    "Geometrically, this means the graph of the function is the same after we reflect it across the $y$-axis.\n",
    "What does this mean algebraically?\n",
    "An arbitrary point on the graph of the function looks like $(x, f(x))$.\n",
    "When we reflect it across the $y$-axis, we get the point $(-x, f(x))$.\n",
    "But because the graph is its own reflection, this has to be the same as the point $(-x, f(-x))$.\n",
    "If $(-x, f(x))$ and $(-x, f(-x))$ are the same point, that means $f(x) = f(-x)$.\n",
    "An even function is a function for which $f(x) = f(-x)$.\n",
    "Some example of even functions are\n",
    "* $f(x) = c$, where $c$ is any constant;\n",
    "* $f(x) = |x|$;\n",
    "* $f(x) = x^2$;\n",
    "* $f(x) = x^a$ where $a$ is any even power; and\n",
    "* $f(x) = \\cos(x)$.\n",
    "Earlier in this notebook, there was an interactive graph allowing you to enter a function and see its reflection across the $y$-axis.\n",
    "Try entering these functions and see how the functions and their reflections overlap.\n",
    "\n",
    "Functions that are their own 180-degree rotations around the origin also have a special name.\n",
    "They are called **odd** functions.\n",
    "Geometrically, this means if we graph the function and the rotate the graph 180 degrees about the origin,\n",
    "we get the same image.\n",
    "Like before, let's consider what this means algebraically.\n",
    "We start with an arbitrary point on the graph of the function, $(x, f(x))$.\n",
    "We rotate it 180 degrees (or equivalently, we reflect across the $x$-axis and then the $y$-axis) and get the point $(-x, -f(x))$.\n",
    "But since the graph is its own rotation, this is the same point as $(-x, f(-x))$.\n",
    "This means that $f(-x) = -f(x)$.\n",
    "So an odd function is a function for which $f(-x) = -f(x)$.\n",
    "Some examples of odd functions are\n",
    "* $f(x) = 0$;\n",
    "* $f(x) = x$;\n",
    "* $f(x) = x^a$ where $a$ is any odd power; and\n",
    "* $f(x) = \\sin(x)$.\n",
    "\n",
    "We don't have a special name for functions that are their own reflections across the $x$-axis.\n",
    "Why not?\n",
    "Because other than the function $f(x) = 0$, there is no such thing as a function that is its own reflection across the $x$-axis!\n",
    "Such a \"function\" would not pass the vertical line test.\n",
    "\n",
    "The only function that is both even and odd at the same time is $y = 0$.\n",
    "\n",
    "We are used to calling integers even and odd.\n",
    "It is strange to call functions even and odd,\n",
    "but there is a relationship between the two.\n",
    "* The product and quotient of two even functions is even, just like the sum and difference of even numbers is even.\n",
    "* The product and quotient of two odd functions is even, just like the sum and difference of odd numbers is even.\n",
    "* The product and quotient of an even and odd function is odd, just like the sum and difference of an even and odd number is odd.\n",
    "Be careful though, because the sum of two odd functions is odd, whereas the sum of two odd numbers is even."
   ]
  },
  {
   "cell_type": "markdown",
   "metadata": {},
   "source": [
    "## Reflections across the line $y = x$\n",
    "\n",
    "The \"rule\" for reflecting across the line $y = x$ is not hard to use,\n",
    "but understanding why the rule works is harder to explain than for the previous two reflections.\n",
    "Let's state the rule first:\n",
    "\n",
    "**Rule:** The reflection of an arbitrary point $(x,y)$ across the line $y = x$ is the point $(y,x)$.\n",
    "\n",
    "we just swap the point's $x$- and $y$- coordinates.\n",
    "Let's try to understand why this rule works, though.\n",
    "\n",
    "Let's start by drawing a picture of the line $y = x$, a point $P$, and its reflection $P'$.\n",
    "The points $P$ and $P'$ are on opposite sides of the line $y = x$,\n",
    "and the line connecting them intersects $y = x$ at a right angle.\n",
    "Let's call the this point of intersection $Q$.\n",
    "The points $P$ and $P'$ are the same distance from $Q$.\n",
    "This is our picture so far:\n"
   ]
  },
  {
   "cell_type": "markdown",
   "metadata": {},
   "source": [
    "<img src=\"reflections_files/ggb1.png\",width=300,height=300>"
   ]
  },
  {
   "cell_type": "markdown",
   "metadata": {},
   "source": [
    "Draw a line segment from $P$ directly left until it intersects the line $y = x$.\n",
    "Draw another line segment from $P'$ directly down until it too intersects the line $y = x$.\n",
    "These two line segments and the line $y = x$ all meet at the same point.\n",
    "Let's call this point $R$."
   ]
  },
  {
   "cell_type": "markdown",
   "metadata": {},
   "source": [
    "<img src=\"reflections_files/ggb2.png\",width=300,height=300>"
   ]
  },
  {
   "cell_type": "markdown",
   "metadata": {},
   "source": [
    "Since the line segment $PR$ is going right to left and $P'R$ straight up and down,\n",
    "then angle $\\angle PRP'$ is a right angle.\n",
    "The other angles $\\angle RPP'$ and $\\angle RP'P$ are each 45 degrees, so this makes the triangle $\\angle PRP'$ an isosceles triangle.\n",
    "\n",
    "Now suppose $P$ has the coordinates $(a, b)$.\n",
    "Let's try to find the coordinates of $P'$.\n",
    "\n",
    "The triangle $\\triangle PRP'$ is an iscoceles triangle, so the lengths $\\overline{PR}$ and $\\overline{P'R}$ are equal.\n",
    "What's more, $R$ and $P$ have the same $y$-coordinate (we only moved in the $x$ direction to get to $R$)\n",
    "and $R$ and $P'$ have the same $x$-coordinate.\n",
    "We just need to determine how far $R$ is from $P$.\n",
    "To get from $P$ to $P'$, we subtract that distance from the $x$-coordinate and add it to the $y$-coordinate.\n",
    "\n",
    "Since $P = (a, b)$ is to the lower-right of $y = x$, its $x$-coordinate is larger than the $y$-coordinate, so $a > b$.\n",
    "Since $R$ is on the line $y = x$, its $x$- and $y$-coordinates are equal.\n",
    "But we know $R$ has the same $y$-coordinate as $P$, so $R = (b, b)$.\n",
    "The distance from $P$ to $R$ is just the difference between $a$ and $b$, so $\\overline{PR} = a - b$.\n",
    "\n",
    "Now\n",
    "\\begin{align*}\n",
    "    P'\n",
    "        &= (a - \\overline{PR}, b + \\overline{PR}) \\\\\n",
    "        &= (a - (a - b), b + (a - b)) \\\\\n",
    "        &= (a - a + b, b + a - b) \\\\\n",
    "        &= (b, a).\n",
    "\\end{align*}\n",
    "\n",
    "This argument depended on $P$ being to the lower-right of the line $y = x$.\n",
    "As an exercise, figure out how this argument has to change if $P$ is to the upper-left instead.\n",
    "\n",
    "Below is a plot of several points and their reflections across the line $y = x$."
   ]
  },
  {
   "cell_type": "code",
   "execution_count": 11,
   "metadata": {},
   "outputs": [
    {
     "data": {
      "image/png": "[encoded data removed]",
      "text/plain": [
       "<matplotlib.figure.Figure at 0x7f6e395fe518>"
      ]
     },
     "metadata": {},
     "output_type": "display_data"
    }
   ],
   "source": [
    "pts = {(-1,-1), (0,2), (1,3), (2,1)}\n",
    "plot_and_reflect_points(pts, \"y=x\")"
   ]
  },
  {
   "cell_type": "markdown",
   "metadata": {},
   "source": [
    "Now let's reflect the graph of a function across the line $y = x$.\n",
    "As always, we sample a bunch of points on the curve, and reflect them each across the line $y = x$.\n",
    "See what happens when we sample more and more points on the graph of $y = x^2$."
   ]
  },
  {
   "cell_type": "code",
   "execution_count": 12,
   "metadata": {},
   "outputs": [
    {
     "data": {
      "application/vnd.jupyter.widget-view+json": {
       "model_id": "87585fddd4744fe2b002d4dfc9ea2f40",
       "version_major": 2,
       "version_minor": 0
      },
      "text/html": [
       "<p>Failed to display Jupyter Widget of type <code>interactive</code>.</p>\n",
       "<p>\n",
       "  If you're reading this message in the Jupyter Notebook or JupyterLab Notebook, it may mean\n",
       "  that the widgets JavaScript is still loading. If this message persists, it\n",
       "  likely means that the widgets JavaScript library is either not installed or\n",
       "  not enabled. See the <a href=\"https://ipywidgets.readthedocs.io/en/stable/user_install.html\">Jupyter\n",
       "  Widgets Documentation</a> for setup instructions.\n",
       "</p>\n",
       "<p>\n",
       "  If you're reading this message in another frontend (for example, a static\n",
       "  rendering on GitHub or <a href=\"https://nbviewer.jupyter.org/\">NBViewer</a>),\n",
       "  it may mean that your frontend doesn't currently support widgets.\n",
       "</p>\n"
      ],
      "text/plain": [
       "interactive(children=(IntSlider(value=7, continuous_update=False, description='n', min=2), Output()), _dom_classes=('widget-interact',))"
      ]
     },
     "metadata": {},
     "output_type": "display_data"
    },
    {
     "data": {
      "text/plain": [
       "<function __main__.draw4>"
      ]
     },
     "execution_count": 12,
     "metadata": {},
     "output_type": "execute_result"
    }
   ],
   "source": [
    "def draw4(xrange, yrange, n) :\n",
    "    def f(x):\n",
    "        return x**2\n",
    "    plot_graph(f, xrange, yrange)\n",
    "    plot_and_reflect_sample_points(f, xrange, n, \"y=x\")\n",
    "    return\n",
    "\n",
    "interact(draw4,\n",
    "         xrange = fixed((-1,1)),\n",
    "         yrange = fixed((-1,1)),\n",
    "         n = widgets.IntSlider(min = 2, max = 100, step = 1, value = 7, continuous_update = False))"
   ]
  },
  {
   "cell_type": "markdown",
   "metadata": {},
   "source": [
    "We started with a parabola opening upwards.\n",
    "Its reflection is a parabola opening sideways.\n",
    "This has an important implication:\n",
    "*the reflection of a function across $y = x$ might not pass the vertical line test!*\n",
    "\n",
    "Keep this in mind while we see how to reflect a function across $y = x$.\n",
    "Points on the graph of an arbitrary function $y = f(x)$ have the form $(x, f(x))$.\n",
    "Their reflections have the form $(f(x), x)$, but this is the same \"form\" as $(f(y), y)$.\n",
    "Points of that form are just the points on the graph of $x = f(y)$.\n",
    "\n",
    "**Rule:** The reflection of a function $y = f(x)$ across the line $y = x$ is the function $x = f(y)$.\n",
    "\n",
    "This rule tells us that we only need to swap the $x$'s and $y$'s in our function to get its reflection across $y = x$.\n",
    "\n",
    "**Example:** Let's reflect the function $y = x^2$ across the line $y = x$.\n",
    "According to our rule, we just swap the $x$'s and $y$'s.\n",
    "So the reflection is\n",
    "    $$ x = y^2. $$\n",
    "The problem is solved at this point, but suppose we try to solve for $y$.\n",
    "We get either\n",
    "    $$ y = \\sqrt x $$\n",
    "or\n",
    "    $$ y = -\\sqrt x. $$\n",
    "How do the graphs of $x = y^2$, $y = \\sqrt x$, and $y = -\\sqrt x$ compare to one another?\n",
    "The graph of $x = y^2$ is a sideways parabola and does not pass the vertical line test.\n",
    "The graph of $y = \\sqrt x$ is just the top half of that parabola and therefore *does* pass the vertical line test.\n",
    "The graph of $y = -\\sqrt x$ is the bottom half of the parabola and also passes the vertical line test.\n",
    "\n",
    "**Example:** Now let's reflect the straight line $y = \\frac 1 2 x + 1$ across the line $y = x$.\n",
    "Our rule says we just need to swap the $x$'s and $y$'s, so we get\n",
    "    $$ x = \\frac 1 2 y + 1. $$\n",
    "Once again, the problem is solved at this point, but let's try solving for $y$:\n",
    "    $$ y = 2 x - 2. $$\n",
    "The reflection of the line $x = \\frac 1 2 y + 1$ across the line $y = x$ is the line $y = 2 x - 2$.\n",
    "This is a case of a function whose reflection actually does pass the vertical line test\n",
    "and can be written in the form $y = f(x)$.\n",
    "\n",
    "Use the interactive graph below to plot functions and their reflections across $y = x$."
   ]
  },
  {
   "cell_type": "code",
   "execution_count": 13,
   "metadata": {},
   "outputs": [
    {
     "data": {
      "application/vnd.jupyter.widget-view+json": {
       "model_id": "44a6b3fbf4fd43ffb65ae5ec2e2425b9",
       "version_major": 2,
       "version_minor": 0
      },
      "text/html": [
       "<p>Failed to display Jupyter Widget of type <code>interactive</code>.</p>\n",
       "<p>\n",
       "  If you're reading this message in the Jupyter Notebook or JupyterLab Notebook, it may mean\n",
       "  that the widgets JavaScript is still loading. If this message persists, it\n",
       "  likely means that the widgets JavaScript library is either not installed or\n",
       "  not enabled. See the <a href=\"https://ipywidgets.readthedocs.io/en/stable/user_install.html\">Jupyter\n",
       "  Widgets Documentation</a> for setup instructions.\n",
       "</p>\n",
       "<p>\n",
       "  If you're reading this message in another frontend (for example, a static\n",
       "  rendering on GitHub or <a href=\"https://nbviewer.jupyter.org/\">NBViewer</a>),\n",
       "  it may mean that your frontend doesn't currently support widgets.\n",
       "</p>\n"
      ],
      "text/plain": [
       "interactive(children=(Text(value='sin(x) + x', continuous_update=False, description='f(x) = '), IntSlider(value=10, continuous_update=False, description='xrange', min=1), IntSlider(value=10, continuous_update=False, description='yrange', min=1), Output()), _dom_classes=('widget-interact',))"
      ]
     },
     "metadata": {},
     "output_type": "display_data"
    },
    {
     "data": {
      "text/plain": [
       "<function reflections_files.reflections.graph_and_reflect_function>"
      ]
     },
     "execution_count": 13,
     "metadata": {},
     "output_type": "execute_result"
    }
   ],
   "source": [
    "interact(graph_and_reflect_function,\n",
    "         line = fixed(\"y=x\"),\n",
    "         func = widgets.Text(\"sin(x) + x\", description=(\"f(x) = \"), continuous_update = False),\n",
    "         xrange = widgets.IntSlider(min = 1, max = 100, step = 1, value = 10, continuous_update = False),\n",
    "         yrange = widgets.IntSlider(min = 1, max = 100, step = 1, value = 10, continuous_update = False))\n"
   ]
  },
  {
   "cell_type": "markdown",
   "metadata": {},
   "source": [
    "## Reflections combined with function operations\n",
    "\n",
    "We might be asked to reflect a function after performing some function operations.\n",
    "For example, we might be asked to add two functions and the reflect them across the $x$-axis,\n",
    "or reflect the composition of two functions across the $y$-axis.\n",
    "Well, the sum of two functions, for instance, is a function and we know how to reflect functions now,\n",
    "so we ought to be able to do this.\n",
    "\n",
    "**Problem:**\n",
    "Reflect $f(x) + g(x)$ across the $x$-axis, where\n",
    "    $$ f(x) = x^2 + 1 \\text{ and } g(x) = x^3 + 1. $$\n",
    "\n",
    "**Solution:**\n",
    "To do this, let's add $f(x)$ and $g(x)$ and call their sum $h(x)$. So\n",
    "\\begin{align*}\n",
    "    h(x)\n",
    "        &= f(x) + g(x) \\\\\n",
    "        &= (x^2 + 1) + (x^3 + 1) \\\\\n",
    "        &= x^3 + x^2 + 2.\n",
    "\\end{align*}\n",
    "Now we just need to reflect $h(x)$ across the $x$-axis.\n",
    "Its reflection is $y = -h(x)$, so\n",
    "\\begin{align*}\n",
    "    y\n",
    "        &= -h(x) \\\\\n",
    "        &= -(x^3 + x^2 + 2) \\\\\n",
    "        &= -x^3 - x^2 - 2.\n",
    "\\end{align*}\n",
    "\n",
    "**Problem:**\n",
    "Reflect $f(g(x))$ across the $y$-axis, where\n",
    "    $$ f(x) = \\sin(x) \\text{ and } g(x) = x^2. $$\n",
    "\n",
    "**Solution:**\n",
    "Like before, let's compose $f(x)$ and $g(x)$ and call their composite $h(x)$. So\n",
    "\\begin{align*}\n",
    "    h(x)\n",
    "        &= f(g(x)) \\\\\n",
    "        &= f(x^2) \\\\\n",
    "        &= \\sin(x^2).\n",
    "\\end{align*}\n",
    "Now we reflect $h(x)$ across the $y$-axis.\n",
    "The reflection of $h(x)$ is $y = h(-x)$, so\n",
    "\\begin{align*}\n",
    "    y\n",
    "        &= h(-x) \\\\\n",
    "        &= \\sin((-x)^2) \\\\\n",
    "        &= \\sin(x^2).\n",
    "\\end{align*}"
   ]
  },
  {
   "cell_type": "markdown",
   "metadata": {},
   "source": [
    "## Reflections combined with translations\n",
    "\n",
    "We can apply the same idea above to reflect translations of graphs.\n",
    "\n",
    "**Problem:**\n",
    "Translate the function $y = f(x)$ left by three units, then reflect across the $y$-axis,\n",
    "where $y = |2x|$.\n",
    "\n",
    "**Solution:**\n",
    "Let's label by $g(x)$ the translation of $f(x)$ left by three units.\n",
    "Then we just have to reflect $g(x)$ across the $y$-axis.\n",
    "So\n",
    "\\begin{align*}\n",
    "    g(x)\n",
    "        &= f(x+3) \\\\\n",
    "        &= |2(x+3)| \\\\\n",
    "        &= |2x + 6|.\n",
    "\\end{align*}\n",
    "Its reflection across the $y$-axis is\n",
    "\\begin{align*}\n",
    "    y\n",
    "        &= g(-x) \\\\\n",
    "        &= |2(-x) + 6| \\\\\n",
    "        &= |-2x + 6|.\n",
    "\\end{align*}"
   ]
  },
  {
   "cell_type": "markdown",
   "metadata": {},
   "source": [
    "## Conclusion\n",
    "\n",
    "In this notebook, we saw how to reflect over the $x$-axis, the $y$-axis, the line $y = x$, and combining reflection.\n",
    "We've also made a distinction between reflecting a point, reflecting the graph of a function, and reflecting the function itself.\n",
    "Reflections of points and graphs are geometric ideas, manipulating plots;\n",
    "reflections of functions is about manipulating equations,\n",
    "although\n",
    "\n",
    "The studies of statistics and of the sciences depend heavily on the skills learned in later math courses, especially Calculus courses.\n",
    "A lot of time is spent in Calculus courses analyzing functions and to do this, it is usually helpful to have a clear image in one's mind of the function being analyzed.\n",
    "Understanding reflections of graphs and functions is one step towards forming such a clear image.\n",
    "For instance, you might already know what the graph of $y = 10^x$ looks like,\n",
    "but using the techniques covered in this notebook,\n",
    "you can also tell what $y = -10^x$, $y = 10^{-x}$, $y = -10^{-x}$, and $x = 10^y$ look like.\n",
    "\n",
    "Recognizing when a function is \"even\" or \"odd\" also has its uses.\n",
    "A typical question in a Calculus class is to find the area underneath a curve and above the $x$-axis.\n",
    "If the curve is given by an even function, then the area to the right of the $y$-axis is the same as the area to the left.\n",
    "That means we can get away with only calculating half the area and then doubling the result.\n",
    "Doubling a number is easier than most things in math, so this can be a time saver."
   ]
  },
  {
   "cell_type": "markdown",
   "metadata": {},
   "source": [
    "## Exercises\n",
    "\n",
    "* Plot the point $(1, 2)$ as well as its reflections across the $x$-axis, the $y$-axis, both axes, and the line $y = x$.\n",
    "* Graph the function $y = x^2 - 2x$. Plot its reflection across the $x$-axis and the $y$-axis. What are the equations of these reflections?\n",
    "* Graph the function $y = e^x$. Plot its reflection across the line $y = x$. Does the reflected function pass the vertical line test? What is the equation of its reflection (in the form $x = f(y)$ and in the form $y = f(x)$)?"
   ]
  }
 ],
 "metadata": {
  "kernelspec": {
   "display_name": "Python 3",
   "language": "python",
   "name": "python3"
  },
  "language_info": {
   "codemirror_mode": {
    "name": "ipython",
    "version": 3
   },
   "file_extension": ".py",
   "mimetype": "text/x-python",
   "name": "python",
   "nbconvert_exporter": "python",
   "pygments_lexer": "ipython3",
   "version": "3.6.5"
  }
 },
 "nbformat": 4,
 "nbformat_minor": 2
}
