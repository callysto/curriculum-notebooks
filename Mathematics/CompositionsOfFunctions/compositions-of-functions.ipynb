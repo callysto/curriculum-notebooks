{
 "cells": [
  {
   "cell_type": "markdown",
   "metadata": {},
   "source": [
    "![Callysto.ca Banner](https://github.com/callysto/curriculum-notebooks/blob/master/callysto-notebook-banner-top.jpg?raw=true)\n",
    "\n",
    "<a href=\"https://hub.callysto.ca/jupyter/hub/user-redirect/git-pull?repo=https%3A%2F%2Fgithub.com%2Fcallysto%2Fcurriculum-notebooks&branch=master&subPath=Mathematics/CompositionsOfFunctions/compositions-of-functions.ipynb&depth=1\" target=\"_parent\"><img src=\"https://raw.githubusercontent.com/callysto/curriculum-notebooks/master/open-in-callysto-button.svg?sanitize=true\" width=\"123\" height=\"24\" alt=\"Open in Callysto\"/></a>"
   ]
  },
  {
   "cell_type": "markdown",
   "metadata": {},
   "source": [
    "# Compositions of Functions\n",
    "\n",
    "## Mathematical Functions\n",
    "\n",
    "Compositions of functions may sound complicated, but it basically means a \"function of a function\". As with most mathematical language, that description isn't particularily enlightening. So, let's start with an example. Suppose you have two functions:\n",
    "\n",
    "$f(x) = 2x$\n",
    "\n",
    "and\n",
    "\n",
    "$g(x) = 3$\n",
    "\n",
    "While keeping these simple functions in mind, let's work our way through a few definitions. A composition of functions defined as\n",
    "\n",
    "$f \\circ g = f[g(x)]$\n",
    "\n",
    "where this is read as $f$ of $g$ of $x$. This notation is telling us to write $f(x)$ as a function of $g(x)$, so rather than a function of a variable, it's becoming a function of a function.\n",
    "\n",
    "$f[g(x)] = \\underset{\\substack{\\downarrow \\\\ \\text{Inserted g(x) at x}}}{2 \\times g(x)} = 6$\n",
    "\n",
    "Let's try it with more complex functions:\n",
    "\n",
    "$f(x) = x + 5$\n",
    "\n",
    "and\n",
    "\n",
    "$g(x) = x^2 - 4$\n",
    "\n",
    "So $f \\circ g$ with these functions becomes: \n",
    "\n",
    "$f[g(x)] =\\underset{\\substack{\\downarrow \\\\ \\text{inserted g(x) at x}}}{g(x)} + \n",
    "\\overset{\\substack{\\text{a constant} \\\\ \\uparrow} }{5} = \n",
    "\\underbrace{x^2 - 4}_\\text{insert definition of g(x) for x} + 5 = x^2 + 1$\n",
    "\n",
    "and $g \\circ f$ would become:\n",
    "\n",
    "$g[f(x)] = f^2(x) - 4 = (x+5)^2 - 4 = x^2 + 10x + 25 - 4 = x^2 + 10x + 21$\n",
    "\n",
    "If you have a composition of functions all you need to do is place the \"inner\" function everywhere you see the variable in the \"outer\" function exactly as you'd put a number into the formula.\n",
    "\n",
    "Let's try plotting the function $g(x) = x^2 - 4$ using Python code, with the [Plotly](https://plotly.com/python/) code library. Click on the code cell below, then click the `▶Run` button to run the code."
   ]
  },
  {
   "cell_type": "code",
   "execution_count": null,
   "metadata": {},
   "outputs": [],
   "source": [
    "import plotly.express as px\n",
    "import numpy as np\n",
    "\n",
    "x = np.linspace(-10,10,500)\n",
    "y = x**2 - 4\n",
    "px.scatter(x=x, y=y, title='$g(x) = x^2 - 4$')"
   ]
  },
  {
   "cell_type": "markdown",
   "metadata": {},
   "source": [
    "And let's make another plot, this time of $f(x) = x + 5$."
   ]
  },
  {
   "cell_type": "code",
   "execution_count": null,
   "metadata": {},
   "outputs": [],
   "source": [
    "x = np.linspace(-10,10,500)\n",
    "y2 = x + 5\n",
    "px.scatter(x=x, y=y2, title='$f(x) = x + 5$')"
   ]
  },
  {
   "cell_type": "markdown",
   "metadata": {},
   "source": [
    "We now have two functions: one linear and one parabolic. But what would the composition of these two functions look like?"
   ]
  },
  {
   "cell_type": "code",
   "execution_count": null,
   "metadata": {},
   "outputs": [],
   "source": [
    "import plotly.graph_objects as go\n",
    "\n",
    "x = np.linspace(-10,10,500)\n",
    "fig = go.Figure()\n",
    "fig.add_trace(go.Scatter(x=x, y=x + 5, mode='lines', name='$f(x) = x + 5$'))\n",
    "fig.add_trace(go.Scatter(x=x, y=x**2 - 4, mode='lines', name='$g(x) = x^2 - 4$'))\n",
    "fig.add_trace(go.Scatter(x=x, y=x**2 + 1, mode='lines', name='$f[g(x)] = x^2 + 1$'))\n",
    "fig.add_trace(go.Scatter(x=x, y=(x+5)**2 - 4, mode='lines', name='$g[f(x)] = (x+5)^2 - 4$'))\n",
    "fig.update_xaxes(range=[-10,5])\n",
    "fig.update_yaxes(range=[-5,10])\n",
    "fig.show()"
   ]
  },
  {
   "cell_type": "markdown",
   "metadata": {},
   "source": [
    "We see in the plot above that depending on the order of the function of functions we get a different graph. You can click on the trace in the legend on the right to turn them off and on.\n",
    "\n",
    "## Python Functions\n",
    "\n",
    "In Python we can **def**ine a function as a set of instructions. For example:"
   ]
  },
  {
   "cell_type": "code",
   "execution_count": null,
   "metadata": {},
   "outputs": [],
   "source": [
    "def f(x):\n",
    "    return x + 5\n",
    "\n",
    "def g(x):\n",
    "    return x**2 - 4\n",
    "\n",
    "print('functions defined')"
   ]
  },
  {
   "cell_type": "markdown",
   "metadata": {},
   "source": [
    "Then we can use these functions to calculate values:"
   ]
  },
  {
   "cell_type": "code",
   "execution_count": null,
   "metadata": {},
   "outputs": [],
   "source": [
    "f(6)"
   ]
  },
  {
   "cell_type": "markdown",
   "metadata": {},
   "source": [
    "We can also combine the functions, so the output of one function is the input of another:"
   ]
  },
  {
   "cell_type": "code",
   "execution_count": null,
   "metadata": {},
   "outputs": [],
   "source": [
    "f(g(6))"
   ]
  },
  {
   "cell_type": "markdown",
   "metadata": {},
   "source": [
    "Now let's try our visualization again using the Python functions we've defined."
   ]
  },
  {
   "cell_type": "code",
   "execution_count": null,
   "metadata": {},
   "outputs": [],
   "source": [
    "x = np.linspace(-10,10,500)\n",
    "fig = go.Figure()\n",
    "fig.add_trace(go.Scatter(x=x, y=f(x), mode='lines', name='$f(x)$'))\n",
    "fig.add_trace(go.Scatter(x=x, y=g(x), mode='lines', name='$g(x)$'))\n",
    "fig.add_trace(go.Scatter(x=x, y=f(g(x)), mode='lines', name='$f[g(x)]$'))\n",
    "fig.add_trace(go.Scatter(x=x, y=g(f(x)), mode='lines', name='$g[f(x)]$'))\n",
    "fig.update_xaxes(range=[-10,5])\n",
    "fig.update_yaxes(range=[-5,10])\n",
    "fig.show()"
   ]
  },
  {
   "cell_type": "markdown",
   "metadata": {},
   "source": [
    "So that visualization looks the same, but the code was a little less complex because we were using the functions that we had defined.\n",
    "\n",
    "# Real Life Examples\n",
    "\n",
    "Compositions of functions are used in disciplines such as physics and engineering. Whenever you make a substitution in your analysis you are using compositions of functions. \n",
    "\n",
    "For example, to calculate the kinetic energy of an object undergoing uniform circular motion we can use the formula:\n",
    "\n",
    "$T(v) = \\frac{1}{2} m v^2.$\n",
    "\n",
    "Where $T$ is the object's kinetic energy, $v$ is its speed, and $m$ is its mass. For circular motion the formula for speed is \n",
    "\n",
    "$v = \\omega r$\n",
    "\n",
    "where $\\omega$ is the angular speed, or how quickly the angle changes as a function of time, and $r$ is the radius of the circle. \n",
    "\n",
    "To find the kinetic energy of an object in uniform circular motion, we use composition of functions. Looking for the kinetic energy as a function of angular speed (or kinetic energy of speed of angular speed):\n",
    "\n",
    "$T(v(\\omega)) = \\frac{1}{2} m \\left(\\omega r \\right)^2 = \\frac{1}{2} m \\omega^2 r^2$\n",
    "\n",
    "# Conclusion\n",
    "\n",
    "Compositions of functions come down to making a substitution. We can also use those compositions of functions to visualize them in Python.\n",
    "\n",
    "Essentially, if you ever hear the phrase \"make a substitution\" you should be thinking \"composition of functions\"."
   ]
  },
  {
   "cell_type": "markdown",
   "metadata": {},
   "source": [
    "[![Callysto.ca License](https://github.com/callysto/curriculum-notebooks/blob/master/callysto-notebook-banner-bottom.jpg?raw=true)](https://github.com/callysto/curriculum-notebooks/blob/master/LICENSE.md)"
   ]
  }
 ],
 "metadata": {
  "kernelspec": {
   "display_name": "Python 3 (ipykernel)",
   "language": "python",
   "name": "python3"
  },
  "language_info": {
   "codemirror_mode": {
    "name": "ipython",
    "version": 3
   },
   "file_extension": ".py",
   "mimetype": "text/x-python",
   "name": "python",
   "nbconvert_exporter": "python",
   "pygments_lexer": "ipython3",
   "version": "3.9.12"
  },
  "vscode": {
   "interpreter": {
    "hash": "aee8b7b246df8f9039afb4144a1f6fd8d2ca17a180786b69acc140d282b71a49"
   }
  }
 },
 "nbformat": 4,
 "nbformat_minor": 4
}
