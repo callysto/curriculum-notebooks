{
 "cells": [
  {
   "cell_type": "markdown",
   "metadata": {},
   "source": [
    "![logo](https://callysto.ca/wp-content/uploads/2018/06/Callysto_Notebook-Banner_Top_06.06.18.jpg)"
   ]
  },
  {
   "cell_type": "code",
   "execution_count": 1,
   "metadata": {},
   "outputs": [
    {
     "data": {
      "text/html": [
       "<script>\n",
       "code_show=true; \n",
       "function code_toggle() {\n",
       "  if (code_show) {\n",
       "    $('div.input').each(function(id) {\n",
       "      el = $(this).find('.cm-variable:first');\n",
       "      if (id == 0 || el.text() == 'hide_me') {\n",
       "        $(this).hide();\n",
       "      }\n",
       "    });\n",
       "    $('div.output_prompt').css('opacity', 0);\n",
       "  } else {\n",
       "    $('div.input').each(function(id) {\n",
       "      $(this).show();\n",
       "    });\n",
       "    $('div.output_prompt').css('opacity', 1);\n",
       "  }\n",
       "  code_show = !code_show\n",
       "} \n",
       "$( document ).ready(code_toggle);\n",
       "</script>\n",
       "<form action=\"javascript:code_toggle()\"><input style=\"opacity:1\" type=\"submit\" value=\"Click here to show the code.\"></form>"
      ],
      "text/plain": [
       "<IPython.core.display.HTML object>"
      ]
     },
     "execution_count": 1,
     "metadata": {},
     "output_type": "execute_result"
    }
   ],
   "source": [
    "from IPython.display import HTML\n",
    "hide_me = ''\n",
    "HTML('''<script>\n",
    "code_show=true; \n",
    "function code_toggle() {\n",
    "  if (code_show) {\n",
    "    $('div.input').each(function(id) {\n",
    "      el = $(this).find('.cm-variable:first');\n",
    "      if (id == 0 || el.text() == 'hide_me') {\n",
    "        $(this).hide();\n",
    "      }\n",
    "    });\n",
    "    $('div.output_prompt').css('opacity', 0);\n",
    "  } else {\n",
    "    $('div.input').each(function(id) {\n",
    "      $(this).show();\n",
    "    });\n",
    "    $('div.output_prompt').css('opacity', 1);\n",
    "  }\n",
    "  code_show = !code_show\n",
    "} \n",
    "$( document ).ready(code_toggle);\n",
    "</script>\n",
    "<form action=\"javascript:code_toggle()\"><input style=\"opacity:1\" type=\"submit\" value=\"Click here to show the code.\"></form>''')"
   ]
  },
  {
   "cell_type": "markdown",
   "metadata": {},
   "source": [
    "# Order of Operations\n",
    "\n",
    "#### Grade 9 curriculum\n",
    "\n",
    "A Jupyter notebook to explore order of operations conventions for arithmetic operations."
   ]
  },
  {
   "cell_type": "markdown",
   "metadata": {},
   "source": [
    "## Introduction\n",
    "\n",
    "In elementary mathematics, we have two basic operations: addition and multiplication. Each of these operations comes with an \"opposite\" (or, as a mathematician might say, an *inverse*) operation. The opposite of addition is subtraction, and the opposite of multiplication is division.\n",
    "\n",
    "When there is a single operation to perform, we all know what to do, including the computer. For example, we could have the computer calculate the sum $3+7$ or the product $9\\times 3$:"
   ]
  },
  {
   "cell_type": "code",
   "execution_count": 2,
   "metadata": {},
   "outputs": [
    {
     "data": {
      "text/plain": [
       "10"
      ]
     },
     "execution_count": 2,
     "metadata": {},
     "output_type": "execute_result"
    }
   ],
   "source": [
    "3+7"
   ]
  },
  {
   "cell_type": "code",
   "execution_count": 3,
   "metadata": {},
   "outputs": [
    {
     "data": {
      "text/plain": [
       "27"
      ]
     },
     "execution_count": 3,
     "metadata": {},
     "output_type": "execute_result"
    }
   ],
   "source": [
    "9*3"
   ]
  },
  {
   "cell_type": "markdown",
   "metadata": {},
   "source": [
    "If you want to type your expressions into an input box, the operators are:\n",
    "* Brackets: `(` and `)`\n",
    "* Exponents: `**`\n",
    "* Division: `/`\n",
    "* Multiplication: `*`\n",
    "* Addition: `+`\n",
    "* Subtraction: `-`"
   ]
  },
  {
   "cell_type": "markdown",
   "metadata": {},
   "source": [
    "**Note:** all code in Jupyter is *live*, and *editable*. Feel free to go back to the last two lines and change the numbers. To get the computer to do the calculation, press `Shift`+`Enter` on your keyboard.\n",
    "\n",
    "If we wanted to undo either the addition or the multiplication, we can use their opposites:"
   ]
  },
  {
   "cell_type": "code",
   "execution_count": 4,
   "metadata": {},
   "outputs": [
    {
     "data": {
      "text/plain": [
       "3"
      ]
     },
     "execution_count": 4,
     "metadata": {},
     "output_type": "execute_result"
    }
   ],
   "source": [
    "10-7"
   ]
  },
  {
   "cell_type": "code",
   "execution_count": 5,
   "metadata": {},
   "outputs": [
    {
     "data": {
      "text/plain": [
       "9.0"
      ]
     },
     "execution_count": 5,
     "metadata": {},
     "output_type": "execute_result"
    }
   ],
   "source": [
    "27/3"
   ]
  },
  {
   "cell_type": "markdown",
   "metadata": {},
   "source": [
    "*You might be wondering why there is a decimal in the last output. Whenever the computer does division, it uses [floating point arithmetic](https://en.wikipedia.org/wiki/Floating-point_arithmetic), and it is allowing for the fact that division doesn't always return a whole number.*\n",
    "\n",
    "\n",
    "Now, if we need to add up a whole bunch of numbers (or multiply them), we don't have to worry about doing it wrong, thanks to a property of arithmetic called **associativity**. Basically, it means if we want to compute a sum like $5+9+7$, it doesn't matter if we first do $5+9$, and then add 7, or if we do $9+7$ and then add 5. In other words, it doesn't matter if we first *associate* 5 with 9, or *associate* 9 with 7—both ways give us the same result. (Because of this, we say addition is *associative*.) To distinguish between the two associations, we use parentheses like this:\n",
    "\n",
    "$$(5+9)+7 = 5+(9+7)$$\n",
    "\n",
    "In mathematics, using brackets (or parentheses) is a way of saying, \"Do this first!\"\n",
    "\n",
    "Go ahead and try this for yourself. Then, let the computer confirm it for you. We've entered the left-hand side of the above equality for you. To try the right-hand side, click on the $+$ sign in the tool bar at the top to add a new cell. Type in the right-hand side yourself, and press `Shift`+`Enter` to confirm the result."
   ]
  },
  {
   "cell_type": "code",
   "execution_count": 6,
   "metadata": {},
   "outputs": [
    {
     "data": {
      "text/plain": [
       "21"
      ]
     },
     "execution_count": 6,
     "metadata": {},
     "output_type": "execute_result"
    }
   ],
   "source": [
    "(5+9)+7"
   ]
  },
  {
   "cell_type": "markdown",
   "metadata": {},
   "source": [
    "The same thing works for multiplication. For example, $(2\\cdot 4)\\cdot 5 = 40 = 2\\cdot (4\\cdot 5)$. And of course, as well as being able to put brackets wherever we want, we can also change the order of the numbers without affecting the answer.\n",
    "\n",
    "Things get more complicated if we want to do both addition and multiplication in a single calculation, or if we want to bring subtraction or division into the picture. Consider this expression:\n",
    "\n",
    "$$3+7\\times 4$$\n",
    "\n",
    "Which operation should we do first? The addition, or the multiplication? Or does it matter? Let's try both ways using parentheses; as noted above, any operation in parentheses is always done first. We see the results in the two cells below:"
   ]
  },
  {
   "cell_type": "code",
   "execution_count": 7,
   "metadata": {},
   "outputs": [
    {
     "data": {
      "text/plain": [
       "40"
      ]
     },
     "execution_count": 7,
     "metadata": {},
     "output_type": "execute_result"
    }
   ],
   "source": [
    "(3+7)*4"
   ]
  },
  {
   "cell_type": "code",
   "execution_count": 8,
   "metadata": {},
   "outputs": [
    {
     "data": {
      "text/plain": [
       "31"
      ]
     },
     "execution_count": 8,
     "metadata": {},
     "output_type": "execute_result"
    }
   ],
   "source": [
    "3+(7*4)"
   ]
  },
  {
   "cell_type": "markdown",
   "metadata": {},
   "source": [
    "Interesting! Order *doesn't* matter when there's only addition or only multiplication involved, but as soon as we combine the two, the order (and hence, the placement of brackets) *does* make a difference.\n",
    "\n",
    "## Exercise\n",
    "\n",
    "Does order matter for subtraction or division? Let's see by using brackets again. In the code cells below, try a few examples to see what happens. We've done a couple for you to show you how they're written. Note that you can do more than one calculation in a cell by using a comma to separate them."
   ]
  },
  {
   "cell_type": "code",
   "execution_count": 9,
   "metadata": {},
   "outputs": [
    {
     "data": {
      "text/plain": [
       "(2, 12)"
      ]
     },
     "execution_count": 9,
     "metadata": {},
     "output_type": "execute_result"
    }
   ],
   "source": [
    "(10-3)-5, 10-(3-5)"
   ]
  },
  {
   "cell_type": "code",
   "execution_count": 10,
   "metadata": {},
   "outputs": [
    {
     "data": {
      "text/plain": [
       "(1.0, 4.0)"
      ]
     },
     "execution_count": 10,
     "metadata": {},
     "output_type": "execute_result"
    }
   ],
   "source": [
    "(12/6)/2, 12/(6/2)"
   ]
  },
  {
   "cell_type": "code",
   "execution_count": null,
   "metadata": {},
   "outputs": [],
   "source": []
  },
  {
   "cell_type": "code",
   "execution_count": null,
   "metadata": {},
   "outputs": [],
   "source": []
  },
  {
   "cell_type": "markdown",
   "metadata": {},
   "source": [
    "## The Problem\n",
    "\n",
    "How do we (or a computer) figure out the answer to a really complicated expression like this?\n",
    "\n",
    "$$8 + 5/3^{2} \\times (7 - 4)/(6 + 9)$$\n",
    "    \n",
    "The answer is the same for both humans and computers: we need to\n",
    "\n",
    "1. Break the problem down into simpler steps, and\n",
    "2. Determine the order in which those steps should be performed.\n",
    "\n",
    "We know what the simpler steps should be; these are the individual arithmetic operations. How do we determine the order? The short answer is that there is an agreed-upon convention. In other words, everybody agrees to do operations in the same order so that they always get the same answer.  This order is called (conveniently) the **order of operations**.\n"
   ]
  },
  {
   "cell_type": "markdown",
   "metadata": {},
   "source": [
    "### The Order of Operations is:\n",
    "\n",
    "* **B**rackets\n",
    "* **E**xponents\n",
    "* **D**ivision\n",
    "* **M**ultiplication\n",
    "* **A**ddition\n",
    "* **S**ubtraction\n",
    "\n",
    "This is commonly remembered by the acronym **BEDMAS**, or **PEMDAS** (if we use the word \"parentheses\" instead of \"brackets\") or even **BODMAS** (if we use \"orders\" instead of \"exponents\"). Some people remember this order by the phrase **P**lease **E**xcuse **M**y **D**ear **A**unt **S**ally.\n",
    "\n",
    "*Did you notice? the **D** and **M** in **PEMDAS** are switched around!  Doesn't that change things?  (The answer is coming up!)*\n",
    "\n",
    "Here's a way to visualize the order of operations.  Higher operations are done first.\n",
    "\n",
    "![Pyramid](http://4.bp.blogspot.com/-zfTGFH6aoZw/VU1oBBlxVVI/AAAAAAAACM0/kBKeNwlnMd0/s1600/Slide1.png)"
   ]
  },
  {
   "cell_type": "markdown",
   "metadata": {},
   "source": [
    "#### What happens if there are multiple operations on the same level of the pyramid?\n",
    "\n",
    "This means they have the same amount of importance, and so they're treated as if they were the same operation.  (Technically, it means they *are* the same operation—ask your teacher why!) In other words, we do **m**ultiplication and **d**ivision at the same time, left-to-right, then we do **a**ddition and **s**ubtraction at the same time, left-to-right."
   ]
  },
  {
   "cell_type": "markdown",
   "metadata": {},
   "source": [
    "### But why do we have the order of operations? And why not a different order?\n",
    "\n",
    "The short answer is because all operations boil down to addition and subtraction. It's true: exponents are repeated multiplication, and multiplication itself is repeated addition. So we want to do the most complex operations first before moving on to the simpler ones. Brackets are used to show associations that might break this order, which is why they must be done first. \n",
    "\n",
    "The long answer can be found here: http://mathforum.org/library/drmath/view/52582.html"
   ]
  },
  {
   "cell_type": "markdown",
   "metadata": {},
   "source": [
    "Let's try a simple calculation with two operations. If we want to explicitly tell the computer which operation to perform first, we can use brackets. First, we try doing the addition first:"
   ]
  },
  {
   "cell_type": "code",
   "execution_count": 11,
   "metadata": {},
   "outputs": [
    {
     "data": {
      "text/plain": [
       "48"
      ]
     },
     "execution_count": 11,
     "metadata": {},
     "output_type": "execute_result"
    }
   ],
   "source": [
    "(3 + 5) * 6"
   ]
  },
  {
   "cell_type": "markdown",
   "metadata": {},
   "source": [
    "Next, let's see what we get if we do the multiplication first:"
   ]
  },
  {
   "cell_type": "code",
   "execution_count": 12,
   "metadata": {},
   "outputs": [
    {
     "data": {
      "text/plain": [
       "33"
      ]
     },
     "execution_count": 12,
     "metadata": {},
     "output_type": "execute_result"
    }
   ],
   "source": [
    "3 + (5 * 6)"
   ]
  },
  {
   "cell_type": "markdown",
   "metadata": {},
   "source": [
    "Finally, let's input the expression without any brackets, and let the computer take care of the order."
   ]
  },
  {
   "cell_type": "code",
   "execution_count": 13,
   "metadata": {},
   "outputs": [
    {
     "data": {
      "text/plain": [
       "33"
      ]
     },
     "execution_count": 13,
     "metadata": {},
     "output_type": "execute_result"
    }
   ],
   "source": [
    "3 + 5 * 6"
   ]
  },
  {
   "cell_type": "markdown",
   "metadata": {},
   "source": [
    "What was the result? Did it match either of the calcuations above it? Based on this example, does it appear as though the computer is following the order of operations?\n",
    "\n",
    "*******"
   ]
  },
  {
   "cell_type": "markdown",
   "metadata": {},
   "source": [
    "Are all computer programs created equal? Here are two calculators, from the same company, with the same input, but different outputs! Based on the BEDMAS order, which answer is right?\n",
    "\n",
    "*Note: 2(2+1) is the same as 2x(2+1), it's just a different way to write it.*<br>\n",
    "\n",
    "<div style=\"width: 300px;\"> <img src=\"https://saravanderwerf.com/wp-content/uploads/2018/04/order-of-operations-on-calc.jpg\"></div>\n",
    "\n",
    "Can you figure out how to add additional brackets to reproduce each result?"
   ]
  },
  {
   "cell_type": "markdown",
   "metadata": {},
   "source": [
    "## Example\n",
    "\n",
    "How do we evaluate the expression $2^3 \\times (4 + 8)$?\n",
    "\n",
    "### Solution\n",
    "\n",
    "Here is a step-by-step walk-through of the calculation:\n",
    "\n",
    "$$\\begin{align*}\n",
    "2^3 \\times \\mathbf{(4+8)} & = 2^3\\times 12 \\tag{Brackets first!}\\\\\n",
    "\\mathbf{2^3}\\times 12 & = 8\\times 12 \\tag{Exponents come next}\\\\\n",
    "\\mathbf{8\\times 12} & = 96 \\tag{Finally, the multiplication}\n",
    "\\end{align*}$$\n",
    "\n",
    "On the computer, we expect the following steps to be carried out:\n",
    "\n",
    ">2^3 $\\times$ **(4 $+$ 8)**\n",
    ">\n",
    ">**2^3** $\\times$ 12\n",
    ">\n",
    "> **8  $\\times$ 12**\n",
    ">\n",
    ">   96"
   ]
  },
  {
   "cell_type": "markdown",
   "metadata": {},
   "source": [
    "Let's check to see if it works:"
   ]
  },
  {
   "cell_type": "code",
   "execution_count": 14,
   "metadata": {},
   "outputs": [
    {
     "data": {
      "text/plain": [
       "96"
      ]
     },
     "execution_count": 14,
     "metadata": {},
     "output_type": "execute_result"
    }
   ],
   "source": [
    "2**3 * (4 + 8)"
   ]
  },
  {
   "cell_type": "markdown",
   "metadata": {},
   "source": [
    "Want to see another example? Watch this and try to solve it before they get to the solution!"
   ]
  },
  {
   "cell_type": "code",
   "execution_count": 15,
   "metadata": {},
   "outputs": [
    {
     "name": "stderr",
     "output_type": "stream",
     "text": [
      "/opt/conda/lib/python3.6/site-packages/IPython/core/display.py:689: UserWarning: Consider using IPython.display.IFrame instead\n",
      "  warnings.warn(\"Consider using IPython.display.IFrame instead\")\n"
     ]
    },
    {
     "data": {
      "text/html": [
       "<iframe width=\"560\" height=\"315\" src=\"https://www.youtube.com/embed/Y3CZ_JBQ0do?rel=0&amp;start=17\" frameborder=\"0\" allow=\"autoplay; encrypted-media\" allowfullscreen></iframe>"
      ],
      "text/plain": [
       "<IPython.core.display.HTML object>"
      ]
     },
     "execution_count": 15,
     "metadata": {},
     "output_type": "execute_result"
    }
   ],
   "source": [
    "hide_me\n",
    "\n",
    "from IPython.display import HTML\n",
    "\n",
    "# Youtube\n",
    "HTML('<iframe width=\"560\" height=\"315\" src=\"https://www.youtube.com/embed/Y3CZ_JBQ0do?rel=0&amp;start=17\" frameborder=\"0\" allow=\"autoplay; encrypted-media\" allowfullscreen></iframe>')"
   ]
  },
  {
   "cell_type": "markdown",
   "metadata": {},
   "source": [
    "*****\n",
    "\n",
    "### Mixing things up\n",
    "\n",
    "Let's start with a number and 3 operations that can be applied to the number:\n",
    "\n",
    ">5\n",
    ">\n",
    ">_ `x` 4\n",
    ">\n",
    ">_ `+` 7\n",
    ">\n",
    ">_ `^` 2"
   ]
  },
  {
   "cell_type": "markdown",
   "metadata": {},
   "source": [
    "Let's say we want to do the addition, then the exponent, then the multiplication.  What's the answer?\n",
    "\n",
    "5 + 7 = <font color='green'>12</font>\n",
    "<font color='green'>12</font>^2 = <font color='blue'>144</font>\n",
    "<font color='blue'>144</font> x 4 = 576\n",
    "\n",
    "The answer is 576. But if we type the same series of operations into the computer, what do we get?"
   ]
  },
  {
   "cell_type": "code",
   "execution_count": 16,
   "metadata": {},
   "outputs": [
    {
     "data": {
      "text/plain": [
       "201"
      ]
     },
     "execution_count": 16,
     "metadata": {},
     "output_type": "execute_result"
    }
   ],
   "source": [
    "5+7**2*4"
   ]
  },
  {
   "cell_type": "markdown",
   "metadata": {},
   "source": [
    "That's not what we want! But we shouldn't expect it to be: order of operations requires that the addition be performed last, not first!\n",
    "\n",
    "### Exercise:\n",
    "Re-enter the above expression in the cell below, and then add brackets as needed to get the correct order of operations. Be sure that your output matches the correct answer!"
   ]
  },
  {
   "cell_type": "code",
   "execution_count": null,
   "metadata": {},
   "outputs": [],
   "source": []
  },
  {
   "cell_type": "markdown",
   "metadata": {},
   "source": [
    "What output do we get by doing the exponent, then the addition, then the mulitplication?\n",
    "\n",
    "5^2 = <font color='green'>25</font>\n",
    "<font color='green'>25</font> + 7 = <font color='blue'>32</font>\n",
    "<font color='blue'>32</font> x 4 = 128\n",
    "\n",
    "How can we write these expressions in one line to get this output?"
   ]
  },
  {
   "cell_type": "code",
   "execution_count": null,
   "metadata": {},
   "outputs": [],
   "source": []
  },
  {
   "cell_type": "markdown",
   "metadata": {},
   "source": [
    "Were you able to get 128 as your answer? Again, we see that the brackets are necessary. If we leave them out, then the computer follows the order of operations convention, and we get:"
   ]
  },
  {
   "cell_type": "code",
   "execution_count": 17,
   "metadata": {},
   "outputs": [
    {
     "data": {
      "text/plain": [
       "53"
      ]
     },
     "execution_count": 17,
     "metadata": {},
     "output_type": "execute_result"
    }
   ],
   "source": [
    "5**2+7*4"
   ]
  },
  {
   "cell_type": "markdown",
   "metadata": {},
   "source": [
    "Can you think of another order to write these operations in that gives a different output? "
   ]
  },
  {
   "cell_type": "code",
   "execution_count": null,
   "metadata": {},
   "outputs": [],
   "source": []
  },
  {
   "cell_type": "markdown",
   "metadata": {},
   "source": [
    "*********\n",
    "\n",
    "### Practice Questions"
   ]
  },
  {
   "cell_type": "markdown",
   "metadata": {},
   "source": [
    "### Try solving this:"
   ]
  },
  {
   "cell_type": "code",
   "execution_count": 18,
   "metadata": {},
   "outputs": [
    {
     "name": "stdout",
     "output_type": "stream",
     "text": [
      "Solve 7 * (9 - 4)/2 + 3 using the order of operations and write your answer below:\n"
     ]
    },
    {
     "data": {
      "application/vnd.jupyter.widget-view+json": {
       "model_id": "ff5eb9a0289b4863b66f3e8317e94c66",
       "version_major": 2,
       "version_minor": 0
      },
      "text/plain": [
       "FloatText(value=-20.5, description='Your Answer')"
      ]
     },
     "metadata": {},
     "output_type": "display_data"
    },
    {
     "name": "stdout",
     "output_type": "stream",
     "text": [
      "Sorry, that's not the right answer. Which operation did you do first?\n"
     ]
    },
    {
     "data": {
      "application/vnd.jupyter.widget-view+json": {
       "model_id": "3f4b7be49d0145e3bae9aabbd86c32ed",
       "version_major": 2,
       "version_minor": 0
      },
      "text/plain": [
       "Dropdown(description='First Operation:', options=('', 'Multiplication', 'Division', 'Brackets', 'Addition'), s…"
      ]
     },
     "metadata": {},
     "output_type": "display_data"
    }
   ],
   "source": [
    "hide_me\n",
    "\n",
    "import ipywidgets as widgets\n",
    "import IPython\n",
    "\n",
    "answer = widgets.FloatText(value = 0, description='Your Answer')\n",
    "op1 = widgets.Dropdown(value='', options={'Addition', 'Multiplication', 'Division', 'Brackets',''}, \n",
    "                         style={'description_width': 'initial'}, description='First Operation:',)\n",
    "op2 = widgets.Dropdown(value='', options={'Addition', 'Multiplication', 'Division',''}, \n",
    "                         style={'description_width': 'initial'}, description='Second Operation:',)\n",
    "op3 = widgets.Dropdown(value='', options={'Addition', 'Division',''}, \n",
    "                         style={'description_width': 'initial'}, description='Third Operation:',)\n",
    "def display():\n",
    "    print(\"Solve 7 * (9 - 4)/2 + 3 using the order of operations and write your answer below:\")\n",
    "    IPython.display.display(answer)\n",
    "    \n",
    "def check2(b):\n",
    "    if op1.value =='':\n",
    "        pass\n",
    "    if op1.value == 'Brackets':\n",
    "        print(\"Great! What did you do next?\")\n",
    "        IPython.display.display(op2)\n",
    "    else:\n",
    "        print(\"Remember the B in BEDMAS is for brackets, try the question again.\")\n",
    "        \n",
    "def check3(c):\n",
    "    if op2.value == '':\n",
    "        pass\n",
    "    if op2.value == 'Multiplication':\n",
    "        print(\"Awesome! What did you do next?\")\n",
    "        IPython.display.display(op3)\n",
    "    else:\n",
    "        print(\"Remember division and multiplication are done left to right when there's no brackets and before addition and subtraction.\\nTry the question again.\")\n",
    "        \n",
    "def check4(d):\n",
    "    if op3.value == '':\n",
    "        pass\n",
    "    if op3.value == 'Division':\n",
    "        print(\"Well done! If you did not get 20.5, it must have been a calculation error, try each step again.\")\n",
    "    else:\n",
    "        print(\"Remember division and multiplication are done before addition and subtraction, try the question again.\")\n",
    "        \n",
    "def check(a):\n",
    "    op1.value = ''\n",
    "    op2.value = ''\n",
    "    op3.value = ''\n",
    "    IPython.display.clear_output(wait=False)\n",
    "    display()\n",
    "    if answer.value == 20.5:\n",
    "        print(\"You are correct!\")\n",
    "    else:\n",
    "        print(\"Sorry, that's not the right answer. Which operation did you do first?\")\n",
    "        IPython.display.display(op1)\n",
    "\n",
    "display()\n",
    "answer.observe(check, 'value')\n",
    "op1.observe(check2, 'value')\n",
    "op2.observe(check3, 'value')\n",
    "op3.observe(check4, 'value')"
   ]
  },
  {
   "cell_type": "markdown",
   "metadata": {},
   "source": [
    "### A few more questions"
   ]
  },
  {
   "cell_type": "code",
   "execution_count": 19,
   "metadata": {},
   "outputs": [],
   "source": [
    "hide_me\n",
    "\n",
    "import ipywidgets as widgets\n",
    "import IPython"
   ]
  },
  {
   "cell_type": "code",
   "execution_count": 20,
   "metadata": {},
   "outputs": [
    {
     "data": {
      "application/vnd.jupyter.widget-view+json": {
       "model_id": "59022b72e3c54c6dbda0fcc8c12071e0",
       "version_major": 2,
       "version_minor": 0
      },
      "text/plain": [
       "Dropdown(description='Difficulty:', options=('Medium', 'Easy', 'Hard'), value='Medium')"
      ]
     },
     "metadata": {},
     "output_type": "display_data"
    },
    {
     "data": {
      "application/vnd.jupyter.widget-view+json": {
       "model_id": "5e87c8becfe5494e9754c13a67ed0c10",
       "version_major": 2,
       "version_minor": 0
      },
      "text/plain": [
       "Button(description='Start', style=ButtonStyle())"
      ]
     },
     "metadata": {},
     "output_type": "display_data"
    }
   ],
   "source": [
    "hide_me\n",
    "\n",
    "choice = widgets.Dropdown(\n",
    "    options={'Easy', 'Medium', 'Hard'},\n",
    "    description='Difficulty:',\n",
    ")\n",
    "Start = widgets.Button(description = \"Start\")\n",
    "ans = widgets.Button(description = \"Answer\")\n",
    "\n",
    "def reveal(choice):\n",
    "    click = False\n",
    "    if choice=='Easy':\n",
    "        print(\"2*5+3\")\n",
    "        print(\"10+3\")\n",
    "        print(\"13\")\n",
    "    else:\n",
    "        if choice=='Medium':\n",
    "            print(\"(1+6)*5+3\")\n",
    "            print(\"(7)*5+3\")\n",
    "            print(\"35+3\")\n",
    "            print(\"38\")\n",
    "        else:\n",
    "            print(\"(4^2-2)/2*3^2\")\n",
    "            print(\"(16-2)/2*3^2\")\n",
    "            print(\"(14)/2*3^2\")\n",
    "            print(\"(14)/2*9\")\n",
    "            print(\"7*9\")\n",
    "            print(\"63\") \n",
    "\n",
    "def create(choice):\n",
    "    #click = True\n",
    "    if choice=='Easy':\n",
    "        print(\"2*5+3\")\n",
    "    else:\n",
    "        if choice=='Medium':\n",
    "            print(\"(1+6)*5+3\")\n",
    "        else:\n",
    "            print(\"(4^2-2)/2*3^2\")\n",
    "            \n",
    "def on_button(a):\n",
    "    IPython.display.clear_output(wait=False)\n",
    "    IPython.display.display(choice, Start, ans)\n",
    "    reveal(choice.value)\n",
    "    \n",
    "            \n",
    "def display2(b):\n",
    "    IPython.display.clear_output(wait=False)\n",
    "    IPython.display.display(choice, Start)\n",
    "    create(choice.value)\n",
    "    IPython.display.display(ans)\n",
    "    ans.on_click(on_button)\n",
    "    \n",
    "    \n",
    "IPython.display.display(choice, Start)\n",
    "Start.on_click(display2)"
   ]
  },
  {
   "cell_type": "markdown",
   "metadata": {},
   "source": [
    "### Back to our first Problem\n",
    "\n",
    "Now that you have some examples under your belt, let's go back to the hard expression we saw earlier:\n",
    "\n",
    "$$8 + 5/3^{2} \\times (7 - 4)/(6 + 9)$$\n",
    "     \n",
    "What part of this problem do we do first?\n",
    "\n",
    "Can you write all the steps to solve this problem in order?\n",
    "\n",
    "What was your final answer?"
   ]
  },
  {
   "cell_type": "code",
   "execution_count": null,
   "metadata": {},
   "outputs": [],
   "source": []
  },
  {
   "cell_type": "markdown",
   "metadata": {},
   "source": [
    "## What did we learn?\n",
    "In this notebook, we learned:\n",
    "\n",
    "* There is a logical order to the operations\n",
    "* The order is:\n",
    "    * **B**rackets\n",
    "    * **E**xponents\n",
    "    * **D**ivision\n",
    "    * **M**ultiplication\n",
    "    * **A**ddition\n",
    "    * **S**ubtraction\n",
    "* Division and multiplication have the same priority\n",
    "* Addition and subtraction do too"
   ]
  },
  {
   "cell_type": "markdown",
   "metadata": {},
   "source": [
    "![logo](https://callysto.ca/wp-content/uploads/2018/07/Callysto-Notebook-Banner_Bottom_07.30.18.jpg)"
   ]
  }
 ],
 "metadata": {
  "kernelspec": {
   "display_name": "Python 3",
   "language": "python",
   "name": "python3"
  },
  "language_info": {
   "codemirror_mode": {
    "name": "ipython",
    "version": 3
   },
   "file_extension": ".py",
   "mimetype": "text/x-python",
   "name": "python",
   "nbconvert_exporter": "python",
   "pygments_lexer": "ipython3",
   "version": "3.6.7"
  }
 },
 "nbformat": 4,
 "nbformat_minor": 2
}
