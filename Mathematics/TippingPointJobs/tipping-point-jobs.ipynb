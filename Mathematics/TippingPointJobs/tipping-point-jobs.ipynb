{
 "cells": [
  {
   "cell_type": "markdown",
   "metadata": {},
   "source": [
    "![Callysto.ca Banner](https://github.com/callysto/curriculum-notebooks/blob/master/callysto-notebook-banner-top.jpg?raw=true)\n",
    "\n",
    "<a href=\"https://hub.callysto.ca/jupyter/hub/user-redirect/git-pull?repo=https%3A%2F%2Fgithub.com%2Fcallysto%2Fcurriculum-notebooks&branch=master&subPath=Mathematics/TippingPointJobs/tipping-point-jobs.ipynb&depth=1\" target=\"_parent\"><img src=\"https://raw.githubusercontent.com/callysto/curriculum-notebooks/master/open-in-callysto-button.svg?sanitize=true\" width=\"123\" height=\"24\" alt=\"Open in Callysto\"/></a>"
   ]
  },
  {
   "cell_type": "markdown",
   "metadata": {},
   "source": [
    "# The Tipping Point - Which job pays better?"
   ]
  },
  {
   "cell_type": "markdown",
   "metadata": {},
   "source": [
    "## Congratulations!\n",
    "\n",
    "So you've got a new job... Oh, wait, you have two job offers!?!  Well, congratulations twice!\n",
    "\n",
    "Let's take a look at the two companies offering a job:\n"
   ]
  },
  {
   "cell_type": "markdown",
   "metadata": {},
   "source": [
    "Job One            |  Job Two\n",
    ":-------------------------:|:-------------------------:\n",
    "![](images/Acme.png)  |  ![](images/Bigby.png)"
   ]
  },
  {
   "cell_type": "markdown",
   "metadata": {},
   "source": [
    "Both companies **Acme** and **Bigby** are Electronic Supply companies, and are offering you a sales position.\n",
    "\n",
    "**Which job should you take?** Well, let's look how much each job pays.\n",
    "\n",
    "1. Acme offers a base salary of $\\$$1200 per month, plus 3\\% commission on sales over $\\$$1000. \n",
    "2. Bigby offers a base salary of $\\$$250 per month, plus 18\\% commission on all sales.\n",
    " \n",
    " \n",
    "**Your Task:** Figure out which job pays better."
   ]
  },
  {
   "cell_type": "markdown",
   "metadata": {},
   "source": [
    "**Need a Hint?**\n",
    "\n",
    "It seems clear that your salary will depend on how much you sell each month. \n",
    "\n",
    "You can consider various sales amounts, and calculate how much you'd earn at either job with those same sales amounts. \n",
    "\n",
    "Since this notebook module can interpret basic math operations, we can type in the formulas for salary. \n",
    "\n",
    "Acme pays a base salary of $\\$$1200 plus 3\\% on sales, we can write this formula as\n",
    "$$ Acme\\ pay = 1200 + .03*(sales-1000). $$\n",
    "\n",
    "Meanwhile, Bigby pays a base salary of $\\$$250 plus 18\\% on sales, we can write this formula as\n",
    "$$ Bigby\\ pay = 250 + .18*sales.$$"
   ]
  },
  {
   "cell_type": "markdown",
   "metadata": {},
   "source": [
    "## Calculations with Python\n",
    "\n",
    "Consider the examples below.\n",
    "\n",
    "Let's start the calculation with no sales at all. You can do this in your head, but let's try it out in Python code."
   ]
  },
  {
   "cell_type": "code",
   "execution_count": null,
   "metadata": {},
   "outputs": [],
   "source": [
    "## For zero sales\n",
    "1200 + 0, 250 + 0"
   ]
  },
  {
   "cell_type": "markdown",
   "metadata": {},
   "source": [
    "The above calculation tells us that for zero sales, Acme pays $\\$$1200 and Bigby pays $\\$$250. So Acme pays better in this case.\n",
    "\n",
    "Let's next try sales of $\\$$2000"
   ]
  },
  {
   "cell_type": "code",
   "execution_count": null,
   "metadata": {},
   "outputs": [],
   "source": [
    "## For 2000 dollars in sales\n",
    "1200 + .03*(2000-1000), 250 + .18*2000"
   ]
  },
  {
   "cell_type": "markdown",
   "metadata": {},
   "source": [
    "That is, for $\\$$2000 in sales, Acme pays $\\$$1230 and Bigby pays $\\$$610. So Acme also pays better in this case.\n",
    "\n",
    "Now let's be more ambitious, and say you can make $\\$$10,000 in sales. How much will you make?"
   ]
  },
  {
   "cell_type": "code",
   "execution_count": null,
   "metadata": {},
   "outputs": [],
   "source": [
    "## for 10000 in sales\n",
    "1200 + .03*(10000-1000), 250 + .18*10000"
   ]
  },
  {
   "cell_type": "markdown",
   "metadata": {},
   "source": [
    "Here, for $\\$$10000 in sales, Acme pays $\\$$1470 and Bigby pays $\\$$2050. So this time, Bigby pays better!"
   ]
  },
  {
   "cell_type": "markdown",
   "metadata": {},
   "source": [
    "## Graphical Comparison\n",
    "\n",
    "It seems that once your sales are high enough, Bigby pays better than Acme does. \n",
    "\n",
    "Let's plot some curves to show this. We can use Python to make a quick plot, with a few lines of code as follows.\n",
    "\n",
    "\n",
    "First, we load in some code packages for plotting, in the following three lines."
   ]
  },
  {
   "cell_type": "code",
   "execution_count": null,
   "metadata": {},
   "outputs": [],
   "source": [
    "from numpy import linspace, maximum\n",
    "from ipywidgets import interact\n",
    "import plotly.graph_objects as go"
   ]
  },
  {
   "cell_type": "markdown",
   "metadata": {},
   "source": [
    "Now we define a few variables for sales and company pay, then plot the data in a scatter plot graph."
   ]
  },
  {
   "cell_type": "code",
   "execution_count": null,
   "metadata": {},
   "outputs": [],
   "source": [
    "sales = linspace(0,10000)\n",
    "bigby = 250 + .18*sales\n",
    "acme = 1200 + .03*maximum(sales-1000,0)\n",
    "go.Figure(go.Scatter(x=sales, y=acme, name='Acme')).add_trace(go.Scatter(x=sales,y=bigby,name=\"Bigby\"))"
   ]
  },
  {
   "cell_type": "markdown",
   "metadata": {},
   "source": [
    "### Comments on the code\n",
    "\n",
    "The variable **sales** is a list of possible sales values, from 0 to 10,000, set up using the **linspace** function.\n",
    "\n",
    "The variable **bigby** is the same formula we used above, adding 18\\% of sales to a base salary of $\\$$250. \n",
    "\n",
    "The variable **acme** is just a little more complicated. We use the **maximum** function to make sure we only get a commision on sales **over** $\\$$1000.\n",
    "\n",
    "The **go.Figure** command creates a scatter plot with the **Acme** data, overlaid with a second trace of the **Bigby** data.\n",
    "\n",
    "With this plot, you can pan and zoom in on the lines, to investigate the data more directly."
   ]
  },
  {
   "cell_type": "markdown",
   "metadata": {},
   "source": [
    "## The Tipping Point\n",
    "\n",
    "It seems clear from the calculations above, and from the graphs, that eventually Bigby pays more than Acme once the sales get high enough.\n",
    "\n",
    "The **tipping point** is the point where the sales are big enough that Bigby pays more. \n",
    "\n",
    "How can we find this tipping point?\n",
    "\n",
    "One way is to simply use Python. Type in a value for **sales** in the code below, replacing the number **4000** with a number of your choice. Try to find the number where these two pay values are equal.\n"
   ]
  },
  {
   "cell_type": "code",
   "execution_count": null,
   "metadata": {},
   "outputs": [],
   "source": [
    "sales = 4000\n",
    "1200 + .03*(sales-1000), 250 + .18*sales"
   ]
  },
  {
   "cell_type": "markdown",
   "metadata": {},
   "source": [
    "✏️ **Exercise:** Double click on this cell and enter the value(s) you find for **sales** where both pays are the same?"
   ]
  },
  {
   "cell_type": "markdown",
   "metadata": {},
   "source": [
    "## Tipping point with interactive tools\n",
    "Python lets you do this calculation automatically. Just type in the box below, and it will compute the Acme and Bigby pay. Again, try to find the value for **sales** so that the two pays are equal. **Note**, the following expressions use Python lambda functions and interactive Jupyter widgets; try these links to learn more about [lambda functions](https://realpython.com/python-lambda/) and [widgets](https://ipywidgets.readthedocs.io/en/latest/examples/Using%20Interact.html)."
   ]
  },
  {
   "cell_type": "code",
   "execution_count": null,
   "metadata": {},
   "outputs": [],
   "source": [
    "interact(lambda sales: [1200+.03*(float(sales)-1000),250+.18*float(sales)],sales='4000');"
   ]
  },
  {
   "cell_type": "markdown",
   "metadata": {},
   "source": [
    "You can also use a slider in Python to play around with the sales, as follows:\n",
    "\n",
    "Again, try to find the point where the two companies pay the same. "
   ]
  },
  {
   "cell_type": "code",
   "execution_count": null,
   "metadata": {},
   "outputs": [],
   "source": [
    "interact(lambda sales: [1200+.03*(sales-1000),250+.18*sales],sales=(6000,7000));"
   ]
  },
  {
   "cell_type": "markdown",
   "metadata": {},
   "source": [
    "✏️ **Exercise:** Double click on this cell and enter the value(s) you find for **sales** where both pays are the same?"
   ]
  },
  {
   "cell_type": "markdown",
   "metadata": {},
   "source": [
    "## Tipping point by algebra\n",
    "\n",
    "And a final way: set the two pay formulas to be equal, and solve for **sales**.\n",
    "    \n",
    "$$ 1200 + .03\\times (sales - 1000) = 250 + .18 \\times sales.$$\n",
    "    \n",
    "What do you find for **sales**?\n",
    "\n",
    "If you prefer to **solve for x**, try this formula:\n",
    "\n",
    "$$ 1200 + .03(x - 1000) = 250 + .18  x.$$\n",
    "\n",
    "The solution for **x** is the dollar value of sales where Bigby and Acme pay you the same. Any more sales, and Bigby pays more.\n",
    "\n"
   ]
  },
  {
   "cell_type": "markdown",
   "metadata": {},
   "source": [
    "✏️ **Exercise:** Double click on this cell and enter your answer for **x** which solves this equation.\n",
    "\n"
   ]
  },
  {
   "cell_type": "markdown",
   "metadata": {},
   "source": [
    "## Minimum wage\n",
    "\n",
    "The minimum wage is the lowest pay a company can pay you, per hour, and stay within the law. \n",
    "\n",
    "**Exercise:** How much do you need to sell, in order to get paid at least as much as a minimum wage salary?\n",
    "\n",
    "This is a challenging question, and an important one before you take on a new job. You must consider:\n",
    "- what is the minimum wage in your area?\n",
    "- how many hours would you typically work in a year?\n",
    "\n",
    "For instance, in Alberta, the minimum wage is $\\$$15 per hour. Most people work about 40 hours a week, for 50 weeks a year, which is 2000 hours per year. \n",
    "\n",
    "That results in an annual salary of $\\$$30,000 per year, or $\\$$2,500 per month.\n",
    "\n",
    "$$ 2,500 = 30,000 \\div 12.$$"
   ]
  },
  {
   "cell_type": "markdown",
   "metadata": {},
   "source": [
    "Working at Bigby gives you more money, so let's find out how many dollars in sales at Bigby are needed to make the same as minimum wage.  \n",
    "\n",
    "Remembering our formulas above are for monthly pay, we solve:\n",
    "$$ 2,500 = 250 + .18x.$$\n",
    "\n",
    "**Exercise:** What do you find for the value of **x**?"
   ]
  },
  {
   "cell_type": "code",
   "execution_count": null,
   "metadata": {},
   "outputs": [],
   "source": [
    "## ✏️ You can use this area to calculate the answer in Python. Solve for x in the above equation. \n",
    "\n"
   ]
  },
  {
   "cell_type": "markdown",
   "metadata": {},
   "source": [
    "## Sanity check\n",
    "\n",
    "You'll find $x$ is over $\\$$10,000 per month. That means you'll need to sell over a hundred and twenty thousand dollars worth of electronics every year, just to make minimum wage.\n",
    "\n",
    "Does that sound like a lot to sell?\n",
    "\n",
    "**Exercise:** Exactly how much in sales **per year** do you need to make minimum wage, in Alberta?\n"
   ]
  },
  {
   "cell_type": "code",
   "execution_count": null,
   "metadata": {},
   "outputs": [],
   "source": [
    "## ✏️ Use this area to calculate the answer in Python. \n",
    "## Take the answer x from the last Exercise, and convert from monthly to yearly sales.\n",
    "\n"
   ]
  },
  {
   "cell_type": "markdown",
   "metadata": {},
   "source": [
    "## Working hard at Acme\n",
    "\n",
    "It seems obvious that Acme pays much less than Bigby, when the sales are large. So let's check with this exercise.\n",
    "\n",
    "**Exercise:** Following the calculations as above, how many dollars in sales are needed at Acme to match the minimum wage month of $\\$$2,500?\n",
    "\n",
    "**Do you need a hint?** Try solving this equation for **x** (and explain why this is the one you want):\n",
    "$$ 2500 = 1200 + 0.03(x-1000)$$"
   ]
  },
  {
   "cell_type": "code",
   "execution_count": null,
   "metadata": {},
   "outputs": [],
   "source": [
    "## ✏️ Use this area to calculate your answer in Python. \n",
    "\n"
   ]
  },
  {
   "cell_type": "markdown",
   "metadata": {},
   "source": [
    "We can also use Python to solve for **x** in $$ 1200 + 0.03(x-1000) - 2500 = 0$$"
   ]
  },
  {
   "cell_type": "code",
   "execution_count": null,
   "metadata": {},
   "outputs": [],
   "source": [
    "from sympy import Symbol, solve\n",
    "x = Symbol('x')\n",
    "solve(1200 + 0.03*(x-1000) - 2500, x)"
   ]
  },
  {
   "cell_type": "markdown",
   "metadata": {},
   "source": [
    "**Exercise:** Given your answers, how much more do you need in sales at Acme than at Bigby to match the monthly minimum wage? (Bigby should be looking pretty good to you now!)"
   ]
  },
  {
   "cell_type": "code",
   "execution_count": null,
   "metadata": {},
   "outputs": [],
   "source": [
    "## ✏️ Use this area to calculate your answer in Python. \n",
    "\n"
   ]
  },
  {
   "cell_type": "markdown",
   "metadata": {},
   "source": [
    "## Another province.\n",
    "\n",
    "What is minimum wage in your province? (You can look it up on the internet.) For instance, in October of 2021 Saskatchewan's minimum wage increased to $\\$$11.81 per hour.\n",
    "\n",
    "**Exercise:** \n",
    "- Imitating the calculations above, what is the monthly minimum wage salary in your province?\n",
    "- How much product do you have to sell per month at Bigby, in order to match this month minimum wage salary?"
   ]
  },
  {
   "cell_type": "code",
   "execution_count": null,
   "metadata": {},
   "outputs": [],
   "source": [
    "## ✏️ Use this area to calculate your answer in Python. \n",
    "\n"
   ]
  },
  {
   "cell_type": "markdown",
   "metadata": {},
   "source": [
    "## Summary\n",
    "\n",
    "- We learned that different jobs can have different pay rates.\n",
    "- By creating formulas for the pay, we can determine which job pays better.\n",
    "- We can make the comparison by individual calculations, by plotting data, or using some algebra.\n",
    "- Knowing the minimum wage for your province gives you something to compare with, and perhaps aiming higher."
   ]
  },
  {
   "cell_type": "markdown",
   "metadata": {},
   "source": [
    "[![Callysto.ca License](https://github.com/callysto/curriculum-notebooks/blob/master/callysto-notebook-banner-bottom.jpg?raw=true)](https://github.com/callysto/curriculum-notebooks/blob/master/LICENSE.md)"
   ]
  }
 ],
 "metadata": {
  "interpreter": {
   "hash": "d1ca6d17674200220921376aaeb3d36cffe15ecab2470a9a5e7a456cdbf61425"
  },
  "kernelspec": {
   "display_name": "Python 3 (ipykernel)",
   "language": "python",
   "name": "python3"
  },
  "language_info": {
   "codemirror_mode": {
    "name": "ipython",
    "version": 3
   },
   "file_extension": ".py",
   "mimetype": "text/x-python",
   "name": "python",
   "nbconvert_exporter": "python",
   "pygments_lexer": "ipython3",
   "version": "3.10.1"
  }
 },
 "nbformat": 4,
 "nbformat_minor": 2
}
