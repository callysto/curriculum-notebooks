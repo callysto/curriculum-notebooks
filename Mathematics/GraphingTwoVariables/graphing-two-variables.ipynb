{
 "cells": [
  {
   "cell_type": "markdown",
   "metadata": {},
   "source": [
    "![](https://github.com/callysto/callysto-sample-notebooks/blob/master/notebooks/images/Callysto_Notebook-Banner_Top_06.06.18.jpg?raw=true)"
   ]
  },
  {
   "cell_type": "code",
   "execution_count": 1,
   "metadata": {},
   "outputs": [
    {
     "data": {
      "text/html": [
       "<script>\n",
       "  function code_toggle() {\n",
       "    if (code_shown){\n",
       "      $('div.input').hide('500');\n",
       "      $('#toggleButton').val('Show Code')\n",
       "    } else {\n",
       "      $('div.input').show('500');\n",
       "      $('#toggleButton').val('Hide Code')\n",
       "    }\n",
       "    code_shown = !code_shown\n",
       "  }\n",
       "  \n",
       "  $( document ).ready(function(){\n",
       "    code_shown=false;\n",
       "    $('div.input').hide()\n",
       "  });\n",
       "</script>\n",
       "<form action=\"javascript:code_toggle()\"><input type=\"submit\" id=\"toggleButton\" value=\"Show Code\"></form>"
      ],
      "text/plain": [
       "<IPython.core.display.HTML object>"
      ]
     },
     "execution_count": 1,
     "metadata": {},
     "output_type": "execute_result"
    }
   ],
   "source": [
    "from IPython.display import display, Math, Latex, HTML\n",
    "HTML('''<script>\n",
    "  function code_toggle() {\n",
    "    if (code_shown){\n",
    "      $('div.input').hide('500');\n",
    "      $('#toggleButton').val('Show Code')\n",
    "    } else {\n",
    "      $('div.input').show('500');\n",
    "      $('#toggleButton').val('Hide Code')\n",
    "    }\n",
    "    code_shown = !code_shown\n",
    "  }\n",
    "  \n",
    "  $( document ).ready(function(){\n",
    "    code_shown=false;\n",
    "    $('div.input').hide()\n",
    "  });\n",
    "</script>\n",
    "<form action=\"javascript:code_toggle()\"><input type=\"submit\" id=\"toggleButton\" value=\"Show Code\"></form>''') "
   ]
  },
  {
   "cell_type": "code",
   "execution_count": 2,
   "metadata": {},
   "outputs": [
    {
     "data": {
      "text/html": [
       "<script type=\"text/javascript\">window.PlotlyConfig = {MathJaxConfig: 'local'};</script><script type=\"text/javascript\">if (window.MathJax) {MathJax.Hub.Config({SVG: {font: \"STIX-Web\"}});}</script><script>requirejs.config({paths: { 'plotly': ['https://cdn.plot.ly/plotly-latest.min']},});if(!window._Plotly) {require(['plotly'],function(plotly) {window._Plotly=plotly;});}</script>"
      ],
      "text/vnd.plotly.v1+html": [
       "<script type=\"text/javascript\">window.PlotlyConfig = {MathJaxConfig: 'local'};</script><script type=\"text/javascript\">if (window.MathJax) {MathJax.Hub.Config({SVG: {font: \"STIX-Web\"}});}</script><script>requirejs.config({paths: { 'plotly': ['https://cdn.plot.ly/plotly-latest.min']},});if(!window._Plotly) {require(['plotly'],function(plotly) {window._Plotly=plotly;});}</script>"
      ]
     },
     "metadata": {},
     "output_type": "display_data"
    }
   ],
   "source": [
    "from helper import *\n",
    "%matplotlib inline"
   ]
  },
  {
   "cell_type": "markdown",
   "metadata": {},
   "source": [
    "<h1><center>  Understanding the Relationship Between Two Variables Using Graphs </center></h1>\n",
    "***\n",
    "\n",
    "\n",
    "\n",
    "\n",
    "![Math_Gif](https://media.giphy.com/media/BmmfETghGOPrW/giphy.gif)\n",
    "<center>*GIF taken from https://giphy.com/gifs/reaction-BmmfETghGOPrW, June 11th, 2018.*</center>\n",
    "\n",
    "***\n",
    "\n",
    "## **Introduction**\n",
    "\n",
    "You may have heard the old saying, \"you get what you give\".  It means what you get is worth the same as what you give up for it.  But have you ever noticed that if you *change* what you give, it can *change* what you get?  Like when you eat more food, you get more energy, or when you spend more time on homework, you get better grades.\n",
    "\n",
    "In these examples, the things you get (or give) are like **variables**—they are amounts that are allowed to change.  Sometimes, changing the value of one variable can affect the value of another.  Think about this example:\n",
    "\n",
    "> ### Example  \n",
    "> Say you have a job that pays you 10\\\\$ per hour. The amount of money you earn after working 5 hours depends on this wage (5 hours)x(10\\\\$ per hour) = 50\\\\$. If your wage goes up to 12\\\\$ per hour, the amount of money you would make in 5 hours would change as well (5 hours)x(12\\\\$ per hour) = 60\\\\$. So, your wage is a *variable* that determines how much money you are going to make.  \n",
    "\n",
    "Variables are a part of our lives every day, but their exact effect can be hard to understand on their own.  A useful tool to help us see how variables affect results is called a **graph**, which is simply a visual way to show how variables are related.\n",
    "\n",
    "This lesson will focus on how we can use graphs to improve our understanding of how two variables interact with each other. There are many different types of graphs, but we will focus on line graphs in this lesson to show you how to work with **linear functions**. We will go through:\n",
    "- how to create a graph of a linear function \n",
    "- how to analyze some important features of a graph\n",
    "\n",
    "Take a look at the graph shown below. This is a line graph that shows the relationship between a person's wage and how much money they earn after working 5 hours. You can use the toolbar at the top of the graph to play with it."
   ]
  },
  {
   "cell_type": "code",
   "execution_count": 3,
   "metadata": {},
   "outputs": [
    {
     "data": {
      "application/vnd.plotly.v1+json": {
       "config": {
        "linkText": "Export to plot.ly",
        "plotlyServerURL": "https://plot.ly",
        "showLink": false
       },
       "data": [
        {
         "line": {
          "color": "rgb(205, 12, 24)",
          "dash": "dot",
          "shape": "spline"
         },
         "mode": "lines+markers",
         "name": "Plot 1",
         "type": "scatter",
         "uid": "bfcaad0a-5cd1-49c9-b76e-1375bb24a35c",
         "x": [
          0,
          5,
          10,
          15,
          20,
          25,
          30,
          35,
          40,
          45,
          50
         ],
         "y": [
          0,
          25,
          50,
          75,
          100,
          125,
          150,
          175,
          200,
          225,
          250
         ]
        }
       ],
       "layout": {
        "title": {
         "text": "Money Earned After Working 5 Hours"
        },
        "xaxis": {
         "title": {
          "text": "Wage (Dollars per hour)"
         }
        },
        "yaxis": {
         "title": {
          "text": "Money Earned (Dollars)"
         }
        }
       }
      },
      "text/html": [
       "<div id=\"ede3cda4-ce46-4726-85ee-e89972fe8ac9\" style=\"height: 525px; width: 100%;\" class=\"plotly-graph-div\"></div><script type=\"text/javascript\">require([\"plotly\"], function(Plotly) { window.PLOTLYENV=window.PLOTLYENV || {};window.PLOTLYENV.BASE_URL=\"https://plot.ly\";Plotly.newPlot(\"ede3cda4-ce46-4726-85ee-e89972fe8ac9\", [{\"line\": {\"color\": \"rgb(205, 12, 24)\", \"dash\": \"dot\", \"shape\": \"spline\"}, \"mode\": \"lines+markers\", \"name\": \"Plot 1\", \"x\": [0.0, 5.0, 10.0, 15.0, 20.0, 25.0, 30.0, 35.0, 40.0, 45.0, 50.0], \"y\": [0.0, 25.0, 50.0, 75.0, 100.0, 125.0, 150.0, 175.0, 200.0, 225.0, 250.0], \"type\": \"scatter\", \"uid\": \"bfcaad0a-5cd1-49c9-b76e-1375bb24a35c\"}], {\"title\": {\"text\": \"Money Earned After Working 5 Hours\"}, \"xaxis\": {\"title\": {\"text\": \"Wage (Dollars per hour)\"}}, \"yaxis\": {\"title\": {\"text\": \"Money Earned (Dollars)\"}}}, {\"showLink\": false, \"linkText\": \"Export to plot.ly\", \"plotlyServerURL\": \"https://plot.ly\"})});</script><script type=\"text/javascript\">window.addEventListener(\"resize\", function(){window._Plotly.Plots.resize(document.getElementById(\"ede3cda4-ce46-4726-85ee-e89972fe8ac9\"));});</script>"
      ],
      "text/vnd.plotly.v1+html": [
       "<div id=\"ede3cda4-ce46-4726-85ee-e89972fe8ac9\" style=\"height: 525px; width: 100%;\" class=\"plotly-graph-div\"></div><script type=\"text/javascript\">require([\"plotly\"], function(Plotly) { window.PLOTLYENV=window.PLOTLYENV || {};window.PLOTLYENV.BASE_URL=\"https://plot.ly\";Plotly.newPlot(\"ede3cda4-ce46-4726-85ee-e89972fe8ac9\", [{\"line\": {\"color\": \"rgb(205, 12, 24)\", \"dash\": \"dot\", \"shape\": \"spline\"}, \"mode\": \"lines+markers\", \"name\": \"Plot 1\", \"x\": [0.0, 5.0, 10.0, 15.0, 20.0, 25.0, 30.0, 35.0, 40.0, 45.0, 50.0], \"y\": [0.0, 25.0, 50.0, 75.0, 100.0, 125.0, 150.0, 175.0, 200.0, 225.0, 250.0], \"type\": \"scatter\", \"uid\": \"bfcaad0a-5cd1-49c9-b76e-1375bb24a35c\"}], {\"title\": {\"text\": \"Money Earned After Working 5 Hours\"}, \"xaxis\": {\"title\": {\"text\": \"Wage (Dollars per hour)\"}}, \"yaxis\": {\"title\": {\"text\": \"Money Earned (Dollars)\"}}}, {\"showLink\": false, \"linkText\": \"Export to plot.ly\", \"plotlyServerURL\": \"https://plot.ly\"})});</script><script type=\"text/javascript\">window.addEventListener(\"resize\", function(){window._Plotly.Plots.resize(document.getElementById(\"ede3cda4-ce46-4726-85ee-e89972fe8ac9\"));});</script>"
      ]
     },
     "metadata": {},
     "output_type": "display_data"
    }
   ],
   "source": [
    "wages = np.linspace(0,50,11)\n",
    "money = []\n",
    "for item in wages:\n",
    "    y = item*5\n",
    "    money.append(y)\n",
    "\n",
    "layout = go.Layout(\n",
    "    title = \"Money Earned After Working 5 Hours\",\n",
    "    yaxis = dict(\n",
    "        title=\"Money Earned (Dollars)\"\n",
    "    ),\n",
    "    xaxis = dict(\n",
    "        title=\"Wage (Dollars per hour)\",\n",
    "    ),\n",
    ")\n",
    "\n",
    "trace1 = go.Scatter(\n",
    "    x = wages,\n",
    "    y = money,\n",
    "    mode = \"lines+markers\",\n",
    "    name = \"Plot 1\",\n",
    "    line=dict(\n",
    "        color = ('rgb(205, 12, 24)'),\n",
    "        shape = \"spline\",\n",
    "        dash = \"dot\"\n",
    "    )\n",
    "    \n",
    ")\n",
    "\n",
    "fig = go.Figure(data = [trace1], layout = layout)\n",
    "py.offline.iplot(fig)"
   ]
  },
  {
   "cell_type": "markdown",
   "metadata": {},
   "source": [
    "<center> Figure 1: This graph shows the relationship between a person's wage, and the money they will make after working for 5 hours. </center>\n"
   ]
  },
  {
   "cell_type": "markdown",
   "metadata": {},
   "source": [
    "***\n",
    "\n",
    "## **Background**\n",
    "\n",
    "### **Algebraic Equations**\n",
    "\n",
    "In mathematics, the relationship between variables can be written as an **equation**. An equation is like a sentence—it uses an 'equals' sign to connect two expressions, like how a sentence uses a verb to connect a subject and an object.  For example, the relationship between wage and the amount of money made after working for 5 hours, as described above, can be written like this:\n",
    "\n",
    "\\begin{equation} \n",
    "\\label{1}\n",
    "\\rm MONEY\\: MADE = 5\\: HOURS \\times WAGE\n",
    "\\end{equation}\n",
    "\n",
    "Here is the same equation, only now it is expressed using **algebra** (with letters in place of the words):\n",
    "\n",
    "\\begin{equation} \n",
    "\\label{2}\n",
    "M = 5W\n",
    "\\end{equation}\n",
    "\n",
    "This is an example of an **algebraic equation**.  It compresses all the information about the variables into a very small space that's easy to work with. The $W$ corresponds to wage, and the $M$ corresponds to the resulting amount of money made.\n",
    "\n",
    "When creating an algebraic expression, the letters that you use for variables really doesn't matter. A good choice is to use the first letter of the word (like how we used $M$ for money and $W$ for wage). However, in mathematics, the default letters are $x$ and $y$, especially when a graph will be used.\n",
    "\n",
    "In most of the equations you'll see in class, the variables may not have any real-world meaning, but that's okay. Take a look at the examples below—each one is an algebraic equation.\n",
    "\n",
    ">#### **Examples**\n",
    ">\n",
    ">\\begin{equation}\n",
    "y = 3x + 9\n",
    "\\end{equation}\n",
    ">\n",
    ">\\begin{equation}\n",
    "y = -5x\n",
    "\\end{equation}\n",
    ">\n",
    ">\\begin{equation}\n",
    "y = \\frac{x}{4} + 3\n",
    "\\end{equation}\n",
    ">\n",
    ">\\begin{equation}\n",
    "x = \\frac{y + 7}{2}\n",
    "\\end{equation}\n",
    "***\n",
    "\n",
    "### **Linear Functions**\n",
    "\n",
    "If an equation says a variable is equal to something that doesn't involve that variable, that equation is called a **function**. For example, the equation $y=2x-3$ says that $y$ (a variable) is equal to $2x-3$ (which uses $x$, but not $y$). In this case, we say $y$ is a *function* of $x$.  A **linear function** has the form\n",
    "\n",
    "\\begin{equation}\n",
    "y = mx + b\n",
    "\\end{equation}\n",
    "\n",
    "where both $x$ and $y$ are variables, while $m$ and $b$ are **constants**. A *constant* is a number in an equation that does not change—in other words, it is not a variable. A constant can be any number—positive, negative, a fraction, etc.  It can even be zero!\n",
    "\n",
    "Take another look at the equations shown in the section above, these are all linear functions! When a linear function is used to create a graph, the graph will look like a straight line (hence the name *linear* function).\n",
    "\n",
    "Use the section below to better your understanding of the difference between a *linear* function, and a *non-linear* function.\n",
    "\n",
    "\n",
    "\n"
   ]
  },
  {
   "cell_type": "code",
   "execution_count": 4,
   "metadata": {},
   "outputs": [
    {
     "data": {
      "text/latex": [
       "Is this function linear or non-linear?"
      ],
      "text/plain": [
       "<IPython.core.display.Latex object>"
      ]
     },
     "metadata": {},
     "output_type": "display_data"
    },
    {
     "data": {
      "text/latex": [
       "$\\displaystyle y = 12x -3$"
      ],
      "text/plain": [
       "<IPython.core.display.Math object>"
      ]
     },
     "metadata": {},
     "output_type": "display_data"
    },
    {
     "data": {
      "application/vnd.jupyter.widget-view+json": {
       "model_id": "6e49fccd82814e439dab6aa8fd765c1c",
       "version_major": 2,
       "version_minor": 0
      },
      "text/plain": [
       "interactive(children=(Dropdown(description='Choose One:', options=(' ', 'Linear', 'Non-Linear'), value=' '), O…"
      ]
     },
     "metadata": {},
     "output_type": "display_data"
    }
   ],
   "source": [
    "display(Latex(\"Is this function linear or non-linear?\"))\n",
    "display(Math('y = 12x -3'))\n",
    "\n",
    "interact(lin_or_non1, val = widgets.Dropdown(options=[' ', 'Linear', 'Non-Linear'],value = ' ',description = 'Choose One:',disabled = False));\n"
   ]
  },
  {
   "cell_type": "code",
   "execution_count": 5,
   "metadata": {},
   "outputs": [
    {
     "data": {
      "text/latex": [
       "Is this function linear or non-linear?"
      ],
      "text/plain": [
       "<IPython.core.display.Latex object>"
      ]
     },
     "metadata": {},
     "output_type": "display_data"
    },
    {
     "data": {
      "text/latex": [
       "$\\displaystyle y = 2x^2 + 17$"
      ],
      "text/plain": [
       "<IPython.core.display.Math object>"
      ]
     },
     "metadata": {},
     "output_type": "display_data"
    },
    {
     "data": {
      "application/vnd.jupyter.widget-view+json": {
       "model_id": "4338bf9205684b49a01f0b7fb4e66528",
       "version_major": 2,
       "version_minor": 0
      },
      "text/plain": [
       "interactive(children=(Dropdown(description='Choose One:', options=(' ', 'Linear', 'Non-Linear'), value=' '), O…"
      ]
     },
     "metadata": {},
     "output_type": "display_data"
    }
   ],
   "source": [
    "display(Latex(\"Is this function linear or non-linear?\"))\n",
    "display(Math('y = 2x^2 + 17'))\n",
    "    \n",
    "interact(lin_or_non2, val = widgets.Dropdown(options=[' ', 'Linear', 'Non-Linear'],value = ' ',description = 'Choose One:',disabled = False));\n"
   ]
  },
  {
   "cell_type": "code",
   "execution_count": 6,
   "metadata": {},
   "outputs": [
    {
     "data": {
      "application/vnd.plotly.v1+json": {
       "config": {
        "linkText": "Export to plot.ly",
        "plotlyServerURL": "https://plot.ly",
        "showLink": false
       },
       "data": [
        {
         "line": {
          "color": "rgb(22, 96, 167)",
          "dash": "dot",
          "shape": "spline"
         },
         "mode": "lines+markers",
         "name": "Plot 1",
         "type": "scatter",
         "uid": "ce3ce7b4-3b94-4f1a-970b-e5969be7969c",
         "x": [
          -10,
          -9,
          -8,
          -7,
          -6,
          -5,
          -4,
          -3,
          -2,
          -1,
          0,
          1,
          2,
          3,
          4,
          5,
          6,
          7,
          8,
          9,
          10
         ],
         "y": [
          100,
          81,
          64,
          49,
          36,
          25,
          16,
          9,
          4,
          1,
          0,
          1,
          4,
          9,
          16,
          25,
          36,
          49,
          64,
          81,
          100
         ]
        }
       ],
       "layout": {
        "title": {
         "text": "<i>Y</i> as a Function of <i>X</i>"
        },
        "xaxis": {
         "title": {
          "text": "<i>X</i> Values"
         }
        },
        "yaxis": {
         "title": {
          "text": "<i>Y</i> Values"
         }
        }
       }
      },
      "text/html": [
       "<div id=\"e835c453-6e44-4f8c-9fc7-9d163b51fbab\" style=\"height: 525px; width: 100%;\" class=\"plotly-graph-div\"></div><script type=\"text/javascript\">require([\"plotly\"], function(Plotly) { window.PLOTLYENV=window.PLOTLYENV || {};window.PLOTLYENV.BASE_URL=\"https://plot.ly\";Plotly.newPlot(\"e835c453-6e44-4f8c-9fc7-9d163b51fbab\", [{\"line\": {\"color\": \"rgb(22, 96, 167)\", \"dash\": \"dot\", \"shape\": \"spline\"}, \"mode\": \"lines+markers\", \"name\": \"Plot 1\", \"x\": [-10.0, -9.0, -8.0, -7.0, -6.0, -5.0, -4.0, -3.0, -2.0, -1.0, 0.0, 1.0, 2.0, 3.0, 4.0, 5.0, 6.0, 7.0, 8.0, 9.0, 10.0], \"y\": [100.0, 81.0, 64.0, 49.0, 36.0, 25.0, 16.0, 9.0, 4.0, 1.0, 0.0, 1.0, 4.0, 9.0, 16.0, 25.0, 36.0, 49.0, 64.0, 81.0, 100.0], \"type\": \"scatter\", \"uid\": \"ce3ce7b4-3b94-4f1a-970b-e5969be7969c\"}], {\"title\": {\"text\": \"<i>Y</i> as a Function of <i>X</i>\"}, \"xaxis\": {\"title\": {\"text\": \"<i>X</i> Values\"}}, \"yaxis\": {\"title\": {\"text\": \"<i>Y</i> Values\"}}}, {\"showLink\": false, \"linkText\": \"Export to plot.ly\", \"plotlyServerURL\": \"https://plot.ly\"})});</script><script type=\"text/javascript\">window.addEventListener(\"resize\", function(){window._Plotly.Plots.resize(document.getElementById(\"e835c453-6e44-4f8c-9fc7-9d163b51fbab\"));});</script>"
      ],
      "text/vnd.plotly.v1+html": [
       "<div id=\"e835c453-6e44-4f8c-9fc7-9d163b51fbab\" style=\"height: 525px; width: 100%;\" class=\"plotly-graph-div\"></div><script type=\"text/javascript\">require([\"plotly\"], function(Plotly) { window.PLOTLYENV=window.PLOTLYENV || {};window.PLOTLYENV.BASE_URL=\"https://plot.ly\";Plotly.newPlot(\"e835c453-6e44-4f8c-9fc7-9d163b51fbab\", [{\"line\": {\"color\": \"rgb(22, 96, 167)\", \"dash\": \"dot\", \"shape\": \"spline\"}, \"mode\": \"lines+markers\", \"name\": \"Plot 1\", \"x\": [-10.0, -9.0, -8.0, -7.0, -6.0, -5.0, -4.0, -3.0, -2.0, -1.0, 0.0, 1.0, 2.0, 3.0, 4.0, 5.0, 6.0, 7.0, 8.0, 9.0, 10.0], \"y\": [100.0, 81.0, 64.0, 49.0, 36.0, 25.0, 16.0, 9.0, 4.0, 1.0, 0.0, 1.0, 4.0, 9.0, 16.0, 25.0, 36.0, 49.0, 64.0, 81.0, 100.0], \"type\": \"scatter\", \"uid\": \"ce3ce7b4-3b94-4f1a-970b-e5969be7969c\"}], {\"title\": {\"text\": \"<i>Y</i> as a Function of <i>X</i>\"}, \"xaxis\": {\"title\": {\"text\": \"<i>X</i> Values\"}}, \"yaxis\": {\"title\": {\"text\": \"<i>Y</i> Values\"}}}, {\"showLink\": false, \"linkText\": \"Export to plot.ly\", \"plotlyServerURL\": \"https://plot.ly\"})});</script><script type=\"text/javascript\">window.addEventListener(\"resize\", function(){window._Plotly.Plots.resize(document.getElementById(\"e835c453-6e44-4f8c-9fc7-9d163b51fbab\"));});</script>"
      ]
     },
     "metadata": {},
     "output_type": "display_data"
    }
   ],
   "source": [
    "x = np.linspace(-10,10,21)\n",
    "y = []\n",
    "for num in x:\n",
    "    y_val = num**2\n",
    "    y.append(y_val)\n",
    "\n",
    "layout = go.Layout(\n",
    "    title = \"<i>Y</i> as a Function of <i>X</i>\",\n",
    "    yaxis = dict(\n",
    "        title=\"<i>Y</i> Values\"\n",
    "    ),\n",
    "    xaxis = dict(\n",
    "        title=\"<i>X</i> Values\"\n",
    "    ),\n",
    ")\n",
    "\n",
    "trace1 = go.Scatter(\n",
    "    x = x,\n",
    "    y = y,\n",
    "    mode = \"lines+markers\",\n",
    "    name = \"Plot 1\",\n",
    "    line=dict(\n",
    "        color = ('rgb(22, 96, 167)'),\n",
    "        shape = \"spline\",\n",
    "        dash = \"dot\"\n",
    "    )\n",
    "    \n",
    ")\n",
    "\n",
    "fig = go.Figure(data = [trace1], layout = layout)\n",
    "py.offline.iplot(fig)"
   ]
  },
  {
   "cell_type": "code",
   "execution_count": 7,
   "metadata": {
    "scrolled": true
   },
   "outputs": [
    {
     "data": {
      "text/latex": [
       "Is the above function linear or non-linear?"
      ],
      "text/plain": [
       "<IPython.core.display.Latex object>"
      ]
     },
     "metadata": {},
     "output_type": "display_data"
    },
    {
     "data": {
      "application/vnd.jupyter.widget-view+json": {
       "model_id": "809eabd3a0544f9fb8e5b1397a75ec6d",
       "version_major": 2,
       "version_minor": 0
      },
      "text/plain": [
       "interactive(children=(Dropdown(description='Choose One:', options=(' ', 'Linear', 'Non-Linear'), value=' '), O…"
      ]
     },
     "metadata": {},
     "output_type": "display_data"
    }
   ],
   "source": [
    "display(Latex(\"Is the above function linear or non-linear?\"))\n",
    "\n",
    "interact(lin_or_non3, val = widgets.Dropdown(options=[' ', 'Linear', 'Non-Linear'],value = ' ',description = 'Choose One:',disabled = False));"
   ]
  },
  {
   "cell_type": "code",
   "execution_count": 8,
   "metadata": {},
   "outputs": [
    {
     "data": {
      "application/vnd.plotly.v1+json": {
       "config": {
        "linkText": "Export to plot.ly",
        "plotlyServerURL": "https://plot.ly",
        "showLink": false
       },
       "data": [
        {
         "line": {
          "color": "rgb(100, 100, 100)",
          "dash": "dot",
          "shape": "spline"
         },
         "mode": "lines+markers",
         "name": "Plot 1",
         "type": "scatter",
         "uid": "9c9a47bd-4e5a-4974-86b2-0bd0d41dc252",
         "x": [
          -10,
          -8.444444444444445,
          -6.888888888888889,
          -5.333333333333333,
          -3.7777777777777777,
          -2.2222222222222223,
          -0.6666666666666661,
          0.8888888888888893,
          2.4444444444444446,
          4
         ],
         "y": [
          4,
          2.4444444444444446,
          0.8888888888888893,
          -0.666666666666667,
          -2.2222222222222223,
          -3.7777777777777777,
          -5.333333333333334,
          -6.888888888888889,
          -8.444444444444445,
          -10
         ]
        }
       ],
       "layout": {
        "title": {
         "text": "<i>Y</i> as a Function of <i>X</i>"
        },
        "xaxis": {
         "title": {
          "text": "<i>X</i> Values"
         }
        },
        "yaxis": {
         "title": {
          "text": "<i>Y</i> Values"
         }
        }
       }
      },
      "text/html": [
       "<div id=\"aa64caa4-de46-4cdb-a5f2-2f2a8a8727a1\" style=\"height: 525px; width: 100%;\" class=\"plotly-graph-div\"></div><script type=\"text/javascript\">require([\"plotly\"], function(Plotly) { window.PLOTLYENV=window.PLOTLYENV || {};window.PLOTLYENV.BASE_URL=\"https://plot.ly\";Plotly.newPlot(\"aa64caa4-de46-4cdb-a5f2-2f2a8a8727a1\", [{\"line\": {\"color\": \"rgb(100, 100, 100)\", \"dash\": \"dot\", \"shape\": \"spline\"}, \"mode\": \"lines+markers\", \"name\": \"Plot 1\", \"x\": [-10.0, -8.444444444444445, -6.888888888888889, -5.333333333333333, -3.7777777777777777, -2.2222222222222223, -0.6666666666666661, 0.8888888888888893, 2.4444444444444446, 4.0], \"y\": [4.0, 2.4444444444444446, 0.8888888888888893, -0.666666666666667, -2.2222222222222223, -3.7777777777777777, -5.333333333333334, -6.888888888888889, -8.444444444444445, -10.0], \"type\": \"scatter\", \"uid\": \"9c9a47bd-4e5a-4974-86b2-0bd0d41dc252\"}], {\"title\": {\"text\": \"<i>Y</i> as a Function of <i>X</i>\"}, \"xaxis\": {\"title\": {\"text\": \"<i>X</i> Values\"}}, \"yaxis\": {\"title\": {\"text\": \"<i>Y</i> Values\"}}}, {\"showLink\": false, \"linkText\": \"Export to plot.ly\", \"plotlyServerURL\": \"https://plot.ly\"})});</script><script type=\"text/javascript\">window.addEventListener(\"resize\", function(){window._Plotly.Plots.resize(document.getElementById(\"aa64caa4-de46-4cdb-a5f2-2f2a8a8727a1\"));});</script>"
      ],
      "text/vnd.plotly.v1+html": [
       "<div id=\"aa64caa4-de46-4cdb-a5f2-2f2a8a8727a1\" style=\"height: 525px; width: 100%;\" class=\"plotly-graph-div\"></div><script type=\"text/javascript\">require([\"plotly\"], function(Plotly) { window.PLOTLYENV=window.PLOTLYENV || {};window.PLOTLYENV.BASE_URL=\"https://plot.ly\";Plotly.newPlot(\"aa64caa4-de46-4cdb-a5f2-2f2a8a8727a1\", [{\"line\": {\"color\": \"rgb(100, 100, 100)\", \"dash\": \"dot\", \"shape\": \"spline\"}, \"mode\": \"lines+markers\", \"name\": \"Plot 1\", \"x\": [-10.0, -8.444444444444445, -6.888888888888889, -5.333333333333333, -3.7777777777777777, -2.2222222222222223, -0.6666666666666661, 0.8888888888888893, 2.4444444444444446, 4.0], \"y\": [4.0, 2.4444444444444446, 0.8888888888888893, -0.666666666666667, -2.2222222222222223, -3.7777777777777777, -5.333333333333334, -6.888888888888889, -8.444444444444445, -10.0], \"type\": \"scatter\", \"uid\": \"9c9a47bd-4e5a-4974-86b2-0bd0d41dc252\"}], {\"title\": {\"text\": \"<i>Y</i> as a Function of <i>X</i>\"}, \"xaxis\": {\"title\": {\"text\": \"<i>X</i> Values\"}}, \"yaxis\": {\"title\": {\"text\": \"<i>Y</i> Values\"}}}, {\"showLink\": false, \"linkText\": \"Export to plot.ly\", \"plotlyServerURL\": \"https://plot.ly\"})});</script><script type=\"text/javascript\">window.addEventListener(\"resize\", function(){window._Plotly.Plots.resize(document.getElementById(\"aa64caa4-de46-4cdb-a5f2-2f2a8a8727a1\"));});</script>"
      ]
     },
     "metadata": {},
     "output_type": "display_data"
    }
   ],
   "source": [
    "x = np.linspace(-10,4,10)\n",
    "y = []\n",
    "for num in x:\n",
    "    y_val = -num - 6\n",
    "    y.append(y_val)\n",
    "    \n",
    "    \n",
    "layout = go.Layout(\n",
    "    title = \"<i>Y</i> as a Function of <i>X</i>\",\n",
    "    yaxis = dict(\n",
    "        title=\"<i>Y</i> Values\"\n",
    "    ),\n",
    "    xaxis = dict(\n",
    "        title=\"<i>X</i> Values\"\n",
    "    ),\n",
    ")\n",
    "\n",
    "trace1 = go.Scatter(\n",
    "    x = x,\n",
    "    y = y,\n",
    "    mode = \"lines+markers\",\n",
    "    name = \"Plot 1\",\n",
    "    line=dict(\n",
    "        color = ('rgb(100, 100, 100)'),\n",
    "        shape = \"spline\",\n",
    "        dash = \"dot\"\n",
    "    )\n",
    "    \n",
    ")\n",
    "\n",
    "fig = go.Figure(data = [trace1], layout = layout)\n",
    "py.offline.iplot(fig)\n",
    "   "
   ]
  },
  {
   "cell_type": "code",
   "execution_count": 9,
   "metadata": {
    "scrolled": true
   },
   "outputs": [
    {
     "data": {
      "text/latex": [
       "Is the above function linear or non-linear?"
      ],
      "text/plain": [
       "<IPython.core.display.Latex object>"
      ]
     },
     "metadata": {},
     "output_type": "display_data"
    },
    {
     "data": {
      "application/vnd.jupyter.widget-view+json": {
       "model_id": "a6661e6c7d334084a9d326dff405db0f",
       "version_major": 2,
       "version_minor": 0
      },
      "text/plain": [
       "interactive(children=(Dropdown(description='Choose One:', options=(' ', 'Linear', 'Non-Linear'), value=' '), O…"
      ]
     },
     "metadata": {},
     "output_type": "display_data"
    }
   ],
   "source": [
    "display(Latex(\"Is the above function linear or non-linear?\"))\n",
    "    \n",
    "interact(lin_or_non4, val = widgets.Dropdown(options=[' ', 'Linear', 'Non-Linear'],value = ' ',description = 'Choose One:',disabled = False));"
   ]
  },
  {
   "cell_type": "markdown",
   "metadata": {},
   "source": [
    "Now that we know how linear functions can look, let's talk about how we can draw them on a graph!\n",
    "\n",
    "## **Creating a Graph**\n",
    "\n",
    "### **Independent and Dependent Variables**\n",
    "\n",
    "When you want to graph a linear function, you need to figure out which variable is **independent** and which one is **dependent**. The *independent* variable is the one that is allowed to change freely; the *dependent* variable is the one that responds to those changes—in other words, it *depends* on the independent variable. The two variables form an \"if-then\" pair: \"*IF* the independent variable is this, *THEN* the dependent variable must be that.\" The difference between the two types of variables may be difficult to understand at first, so here is an example that may help.\n",
    "***\n",
    ">#### **Example**\n",
    "Let's say you want to measure how many push-ups you can do in a certain amount of time. There are two variables here: the amount of time, and the number of push-ups you do in that time. In this scenario, you are able to freely change how much time you have to do push-ups. You could give yourself 30 seconds, an hour, or a day! Therefore, *time is the independent variable*. \n",
    "But the number of push-ups you are actually able to do *depends* on the amount of time you have to do them. If you give yourself more time, you can do more push-ups.  Therefore, the *dependent variable is the number of push-ups you do*. \n",
    "***\n",
    "When the two variables in an equation are $x$ and $y$, we usually treat $x$ as the independent variable, and $y$ as the dependent variable.\n",
    "***\n"
   ]
  },
  {
   "cell_type": "code",
   "execution_count": 10,
   "metadata": {},
   "outputs": [
    {
     "data": {
      "text/latex": [
       "From the wage example shown in the section above, which variable do you think is the independent variable?"
      ],
      "text/plain": [
       "<IPython.core.display.Latex object>"
      ]
     },
     "metadata": {},
     "output_type": "display_data"
    },
    {
     "data": {
      "text/latex": [
       "$\\displaystyle M = 5W$"
      ],
      "text/plain": [
       "<IPython.core.display.Math object>"
      ]
     },
     "metadata": {},
     "output_type": "display_data"
    },
    {
     "data": {
      "application/vnd.jupyter.widget-view+json": {
       "model_id": "9dbeb2644cb44847a6e4ec0731475e17",
       "version_major": 2,
       "version_minor": 0
      },
      "text/plain": [
       "interactive(children=(Dropdown(description='Choose One:', options=(' ', 'W (Wage)', 'M (Money Made)'), value='…"
      ]
     },
     "metadata": {},
     "output_type": "display_data"
    }
   ],
   "source": [
    "display(Latex(\"From the wage example shown in the section above, which variable do you think is the independent variable?\"))\n",
    "display(Math('M = 5W'))\n",
    "    \n",
    "interact(wage, val = widgets.Dropdown(options=[' ', 'W (Wage)', 'M (Money Made)'],value = ' ',description = 'Choose One:',disabled = False));\n"
   ]
  },
  {
   "cell_type": "markdown",
   "metadata": {},
   "source": [
    "***\n",
    "### **The Cartesian Plane**\n",
    "\n",
    "Once we have established the independent and dependent variables in our linear function, we are ready to set up a graph of their relationship. When graphing two variables, we use what is called the **Cartesian Plane**. You have probably seen a graph on the Cartesian Plane before, but here is what it looks like:"
   ]
  },
  {
   "cell_type": "code",
   "execution_count": 11,
   "metadata": {
    "scrolled": false
   },
   "outputs": [
    {
     "data": {
      "application/vnd.plotly.v1+json": {
       "config": {
        "linkText": "Export to plot.ly",
        "plotlyServerURL": "https://plot.ly",
        "showLink": false
       },
       "data": [
        {
         "mode": "markers+text",
         "name": "Plot 1",
         "text": [
          "Quadrant 1",
          "Quadrant 2",
          "Quadrant 3",
          "Quadrant 4"
         ],
         "textposition": "bottom center",
         "type": "scatter",
         "uid": "ee841b71-888e-432a-902d-252646a45248",
         "x": [
          5,
          -5,
          -5,
          5
         ],
         "y": [
          5,
          5,
          -5,
          -5
         ]
        }
       ],
       "layout": {
        "title": {
         "text": "The Cartesian Plane"
        },
        "xaxis": {
         "dtick": 1,
         "range": [
          -10,
          10
         ],
         "title": {
          "text": "<i>X</i> Axis"
         }
        },
        "yaxis": {
         "dtick": 1,
         "range": [
          -10,
          10
         ],
         "title": {
          "text": "<i>Y</i> Axis"
         }
        }
       }
      },
      "text/html": [
       "<div id=\"2667ca89-c719-4c9f-92fd-9837cf6c9c29\" style=\"height: 525px; width: 100%;\" class=\"plotly-graph-div\"></div><script type=\"text/javascript\">require([\"plotly\"], function(Plotly) { window.PLOTLYENV=window.PLOTLYENV || {};window.PLOTLYENV.BASE_URL=\"https://plot.ly\";Plotly.newPlot(\"2667ca89-c719-4c9f-92fd-9837cf6c9c29\", [{\"mode\": \"markers+text\", \"name\": \"Plot 1\", \"text\": [\"Quadrant 1\", \"Quadrant 2\", \"Quadrant 3\", \"Quadrant 4\"], \"textposition\": \"bottom center\", \"x\": [5, -5, -5, 5], \"y\": [5, 5, -5, -5], \"type\": \"scatter\", \"uid\": \"ee841b71-888e-432a-902d-252646a45248\"}], {\"title\": {\"text\": \"The Cartesian Plane\"}, \"xaxis\": {\"dtick\": 1.0, \"range\": [-10, 10], \"title\": {\"text\": \"<i>X</i> Axis\"}}, \"yaxis\": {\"dtick\": 1.0, \"range\": [-10, 10], \"title\": {\"text\": \"<i>Y</i> Axis\"}}}, {\"showLink\": false, \"linkText\": \"Export to plot.ly\", \"plotlyServerURL\": \"https://plot.ly\"})});</script><script type=\"text/javascript\">window.addEventListener(\"resize\", function(){window._Plotly.Plots.resize(document.getElementById(\"2667ca89-c719-4c9f-92fd-9837cf6c9c29\"));});</script>"
      ],
      "text/vnd.plotly.v1+html": [
       "<div id=\"2667ca89-c719-4c9f-92fd-9837cf6c9c29\" style=\"height: 525px; width: 100%;\" class=\"plotly-graph-div\"></div><script type=\"text/javascript\">require([\"plotly\"], function(Plotly) { window.PLOTLYENV=window.PLOTLYENV || {};window.PLOTLYENV.BASE_URL=\"https://plot.ly\";Plotly.newPlot(\"2667ca89-c719-4c9f-92fd-9837cf6c9c29\", [{\"mode\": \"markers+text\", \"name\": \"Plot 1\", \"text\": [\"Quadrant 1\", \"Quadrant 2\", \"Quadrant 3\", \"Quadrant 4\"], \"textposition\": \"bottom center\", \"x\": [5, -5, -5, 5], \"y\": [5, 5, -5, -5], \"type\": \"scatter\", \"uid\": \"ee841b71-888e-432a-902d-252646a45248\"}], {\"title\": {\"text\": \"The Cartesian Plane\"}, \"xaxis\": {\"dtick\": 1.0, \"range\": [-10, 10], \"title\": {\"text\": \"<i>X</i> Axis\"}}, \"yaxis\": {\"dtick\": 1.0, \"range\": [-10, 10], \"title\": {\"text\": \"<i>Y</i> Axis\"}}}, {\"showLink\": false, \"linkText\": \"Export to plot.ly\", \"plotlyServerURL\": \"https://plot.ly\"})});</script><script type=\"text/javascript\">window.addEventListener(\"resize\", function(){window._Plotly.Plots.resize(document.getElementById(\"2667ca89-c719-4c9f-92fd-9837cf6c9c29\"));});</script>"
      ]
     },
     "metadata": {},
     "output_type": "display_data"
    }
   ],
   "source": [
    "layout = go.Layout(\n",
    "    title = \"The Cartesian Plane\",\n",
    "    yaxis = dict(\n",
    "        title=\"<i>Y</i> Axis\",\n",
    "        range = [-10,10],\n",
    "        dtick = 1.00\n",
    "    ),\n",
    "    xaxis = dict(\n",
    "        title=\"<i>X</i> Axis\",\n",
    "        range = [-10,10],\n",
    "        dtick = 1.00\n",
    "    ),\n",
    ")\n",
    "\n",
    "trace1 = go.Scatter(\n",
    "    x = [5,-5,-5,5],\n",
    "    y = [5,5,-5,-5],\n",
    "    mode = \"markers+text\",\n",
    "    name = \"Plot 1\",\n",
    "    text=['Quadrant 1', 'Quadrant 2', 'Quadrant 3', 'Quadrant 4'],\n",
    "    textposition='bottom center'\n",
    ")\n",
    "\n",
    "fig = go.Figure(data = [trace1], layout = layout)\n",
    "py.offline.iplot(fig)"
   ]
  },
  {
   "cell_type": "markdown",
   "metadata": {},
   "source": [
    "<center> Figure 2: This is the standard layout for the Cartesian Plane, where you will plot all linear functions. The point where $x = 0$ and $y = 0$ is called the origin. </center>"
   ]
  },
  {
   "cell_type": "markdown",
   "metadata": {},
   "source": [
    "On the Cartesian Plane, there are two **axes**: the $x$ axis (horizontal), and the $y$ axis (vertical). When we want to graph a certain function, we label the $y$ axis with the dependent variable, and the $x$ axis with the independent variable. When you aren't given a specific name for what the independent and dependent variable represent, it is okay to just label the $x$ axis \"$X$\" and the $y$ axis \"$Y$\". \n",
    "\n",
    "When making a title for the graph, just describe what is being shown. Your title should allow whoever is looking at the graph to understand what is being shown. In most cases, you will describe the dependent variable as a function of the independent variable, or \"$Y$ as a Function of $X$\". \n",
    "\n",
    "The Cartesian Plane consists of four **quadrants**, or sections. The top right section, where both $x$ and $y$ are positive (+,+), is quadrant 1. Then going counter-clockwise, quadrant 2 is the section where $x$ is negative and $y$ is positive (-,+), in quadrant 3 both $x$ and $y$ are negative (-,-), and in quadrant 4, $x$ is positive and $y$ is negative (+,-).\n",
    "\n",
    "Now that we have established how a graph should look, let's talk about how we decide which values we want to plot on the graph!\n",
    "\n",
    "### **Finding the Data Points**\n",
    "\n",
    "The data points that are shown on a graph don't just appear out of nowhere; they can come from scientific observations, measurements, or mathematical relationships. When graphing on the Cartesian Plane, each data point has an $x$-value and a $y$-value (sometimes called an $x$-coordinate and a $y$-coordinate), and these values are what determine where the point will appear on the graph.\n",
    "\n",
    "The best way to describe how we find the $x$-value and $y$-value for each data point is through an example.\n",
    "\n",
    "***\n",
    "#### **Example:** Plot a graph of $y = 3x + 2$ with 5 data points, starting from $x = 1$ up to $x = 5$.\n",
    "\n",
    "To begin, we pick 5 $x$-values between $1$ and $5$. \n",
    "\n",
    "For simplicity, let's pick 1, 2, 3, 4, and 5.\n",
    "\n",
    "\\begin{array}{| c | c |}\n",
    "\\hline\n",
    "  X\\: Value & Y\\: Value  \\\\\n",
    "  \\hline\n",
    "  1 & ? \\\\\\hline\n",
    "  2 & ? \\\\\\hline\n",
    "  3 & ? \\\\\\hline\n",
    "  4 & ? \\\\\\hline\n",
    "  5 & ? \\\\\\hline\n",
    "\\end{array}\n",
    "\n",
    "Now we need to find the value of $y$ at each one of the chosen values for $x$. We can do this by plugging our chosen $x$-values into the equation that we have been given: $y = 3x + 2$.\n",
    "\n",
    "Let's take our first $x$-value, which is 1, and plug it into the equation:\n",
    "\n",
    "\\begin{equation} \n",
    "y = 3x + 2\n",
    "\\end{equation}\n",
    "\n",
    "\n",
    "\\begin{equation} \n",
    "y = 3(1) + 2\n",
    "\\end{equation}\n",
    "\\begin{equation}\n",
    "y = 3 + 2\n",
    "\\end{equation}\n",
    "\\begin{equation}\n",
    "y = 5\n",
    "\\end{equation}\n",
    "\n",
    "We now have the $y$-value of our first data point! When $x = 1$, $y = 5$. We would write this data point down as (1,5). Let's fill in the table so we can keep track of the data points we find:\n",
    "\n",
    "\\begin{array}{| c | c |}\n",
    "\\hline\n",
    "  X\\: Value  & Y\\: Value  \\\\\n",
    "  \\hline\n",
    "  1 & 5 \\\\\\hline\n",
    "  2 & ? \\\\\\hline\n",
    "  3 & ? \\\\\\hline\n",
    "  4 & ? \\\\\\hline\n",
    "  5 & ? \\\\\\hline\n",
    "\\end{array}\n",
    "\n",
    "\n",
    "In the section below, use the above method to find the remaining $y$ values."
   ]
  },
  {
   "cell_type": "code",
   "execution_count": 12,
   "metadata": {},
   "outputs": [
    {
     "name": "stdout",
     "output_type": "stream",
     "text": [
      "The equation is: y = 3x + 2\n"
     ]
    },
    {
     "data": {
      "application/vnd.jupyter.widget-view+json": {
       "model_id": "61785a9b14c048a5afc2b18a511e60c2",
       "version_major": 2,
       "version_minor": 0
      },
      "text/plain": [
       "IntText(value=5, description='When x = 1, y = ', style=DescriptionStyle(description_width='initial'))"
      ]
     },
     "metadata": {},
     "output_type": "display_data"
    },
    {
     "data": {
      "application/vnd.jupyter.widget-view+json": {
       "model_id": "64a65f6d12a74b8b8c8b2cfae3aa9fbe",
       "version_major": 2,
       "version_minor": 0
      },
      "text/plain": [
       "IntText(value=0, description='When x = 2, y = ', style=DescriptionStyle(description_width='initial'))"
      ]
     },
     "metadata": {},
     "output_type": "display_data"
    },
    {
     "data": {
      "application/vnd.jupyter.widget-view+json": {
       "model_id": "a73e5db5e39649d48bbe8ec628ef4cf6",
       "version_major": 2,
       "version_minor": 0
      },
      "text/plain": [
       "IntText(value=0, description='When x = 3, y = ', style=DescriptionStyle(description_width='initial'))"
      ]
     },
     "metadata": {},
     "output_type": "display_data"
    },
    {
     "data": {
      "application/vnd.jupyter.widget-view+json": {
       "model_id": "b529e720694248739b35f329fca661dd",
       "version_major": 2,
       "version_minor": 0
      },
      "text/plain": [
       "IntText(value=0, description='When x = 4, y = ', style=DescriptionStyle(description_width='initial'))"
      ]
     },
     "metadata": {},
     "output_type": "display_data"
    },
    {
     "data": {
      "application/vnd.jupyter.widget-view+json": {
       "model_id": "7fab4afa912e4cbd85c8c1ded3f08216",
       "version_major": 2,
       "version_minor": 0
      },
      "text/plain": [
       "IntText(value=0, description='When x = 5, y = ', style=DescriptionStyle(description_width='initial'))"
      ]
     },
     "metadata": {},
     "output_type": "display_data"
    },
    {
     "data": {
      "application/vnd.jupyter.widget-view+json": {
       "model_id": "d060095d1b584ea98e5b63ec5ec8b64f",
       "version_major": 2,
       "version_minor": 0
      },
      "text/plain": [
       "Button(description='Check results', style=ButtonStyle())"
      ]
     },
     "metadata": {},
     "output_type": "display_data"
    },
    {
     "data": {
      "application/vnd.jupyter.widget-view+json": {
       "model_id": "c838ed5a8dad4c52be401ea6602d4213",
       "version_major": 2,
       "version_minor": 0
      },
      "text/plain": [
       "HTML(value='')"
      ]
     },
     "metadata": {},
     "output_type": "display_data"
    }
   ],
   "source": [
    "check_input_numbers()"
   ]
  },
  {
   "cell_type": "markdown",
   "metadata": {},
   "source": [
    "Good job! Now that we have all of the data points, we are ready to plot them on the graph.\n",
    "\n",
    "\n",
    "### **Plotting the Data Points on the Graph**\n",
    "\n",
    "To plot our data points on a graph, we will need our Cartesian Plane, with the $x$-axis and $y$-axis labelled as follows:"
   ]
  },
  {
   "cell_type": "code",
   "execution_count": 13,
   "metadata": {},
   "outputs": [
    {
     "data": {
      "application/vnd.plotly.v1+json": {
       "config": {
        "linkText": "Export to plot.ly",
        "plotlyServerURL": "https://plot.ly",
        "showLink": false
       },
       "data": [
        {
         "line": {
          "color": "rgb(205, 12, 24)",
          "dash": "dot",
          "shape": "spline"
         },
         "mode": "lines+markers",
         "name": "Plot 1",
         "type": "scatter",
         "uid": "d8551a24-e195-44ea-bd2e-2c3c6c1293ab",
         "x": [],
         "y": []
        }
       ],
       "layout": {
        "title": {
         "text": "<i>Y</i> as a Function of <i>X</i>"
        },
        "xaxis": {
         "dtick": 1,
         "range": [
          -1,
          10
         ],
         "title": {
          "text": "<i>X</i> Values"
         }
        },
        "yaxis": {
         "dtick": 1,
         "range": [
          -1,
          20
         ],
         "title": {
          "text": "<i>Y</i> Values"
         }
        }
       }
      },
      "text/html": [
       "<div id=\"e8abde85-7987-49cd-8619-d33a5d20e5a7\" style=\"height: 525px; width: 100%;\" class=\"plotly-graph-div\"></div><script type=\"text/javascript\">require([\"plotly\"], function(Plotly) { window.PLOTLYENV=window.PLOTLYENV || {};window.PLOTLYENV.BASE_URL=\"https://plot.ly\";Plotly.newPlot(\"e8abde85-7987-49cd-8619-d33a5d20e5a7\", [{\"line\": {\"color\": \"rgb(205, 12, 24)\", \"dash\": \"dot\", \"shape\": \"spline\"}, \"mode\": \"lines+markers\", \"name\": \"Plot 1\", \"x\": [], \"y\": [], \"type\": \"scatter\", \"uid\": \"d8551a24-e195-44ea-bd2e-2c3c6c1293ab\"}], {\"title\": {\"text\": \"<i>Y</i> as a Function of <i>X</i>\"}, \"xaxis\": {\"dtick\": 1.0, \"range\": [-1, 10], \"title\": {\"text\": \"<i>X</i> Values\"}}, \"yaxis\": {\"dtick\": 1.0, \"range\": [-1, 20], \"title\": {\"text\": \"<i>Y</i> Values\"}}}, {\"showLink\": false, \"linkText\": \"Export to plot.ly\", \"plotlyServerURL\": \"https://plot.ly\"})});</script><script type=\"text/javascript\">window.addEventListener(\"resize\", function(){window._Plotly.Plots.resize(document.getElementById(\"e8abde85-7987-49cd-8619-d33a5d20e5a7\"));});</script>"
      ],
      "text/vnd.plotly.v1+html": [
       "<div id=\"e8abde85-7987-49cd-8619-d33a5d20e5a7\" style=\"height: 525px; width: 100%;\" class=\"plotly-graph-div\"></div><script type=\"text/javascript\">require([\"plotly\"], function(Plotly) { window.PLOTLYENV=window.PLOTLYENV || {};window.PLOTLYENV.BASE_URL=\"https://plot.ly\";Plotly.newPlot(\"e8abde85-7987-49cd-8619-d33a5d20e5a7\", [{\"line\": {\"color\": \"rgb(205, 12, 24)\", \"dash\": \"dot\", \"shape\": \"spline\"}, \"mode\": \"lines+markers\", \"name\": \"Plot 1\", \"x\": [], \"y\": [], \"type\": \"scatter\", \"uid\": \"d8551a24-e195-44ea-bd2e-2c3c6c1293ab\"}], {\"title\": {\"text\": \"<i>Y</i> as a Function of <i>X</i>\"}, \"xaxis\": {\"dtick\": 1.0, \"range\": [-1, 10], \"title\": {\"text\": \"<i>X</i> Values\"}}, \"yaxis\": {\"dtick\": 1.0, \"range\": [-1, 20], \"title\": {\"text\": \"<i>Y</i> Values\"}}}, {\"showLink\": false, \"linkText\": \"Export to plot.ly\", \"plotlyServerURL\": \"https://plot.ly\"})});</script><script type=\"text/javascript\">window.addEventListener(\"resize\", function(){window._Plotly.Plots.resize(document.getElementById(\"e8abde85-7987-49cd-8619-d33a5d20e5a7\"));});</script>"
      ]
     },
     "metadata": {},
     "output_type": "display_data"
    }
   ],
   "source": [
    "layout = go.Layout(\n",
    "    title = \"<i>Y</i> as a Function of <i>X</i>\",\n",
    "    yaxis = dict(\n",
    "        title=\"<i>Y</i> Values\",\n",
    "        range = [-1,20],\n",
    "        dtick = 1.00\n",
    "    ),\n",
    "    xaxis = dict(\n",
    "        title=\"<i>X</i> Values\",\n",
    "        range = [-1,10],\n",
    "        dtick = 1.00\n",
    "    )\n",
    ")\n",
    "\n",
    "trace1 = go.Scatter(\n",
    "    x = [],\n",
    "    y = [],\n",
    "    mode = \"lines+markers\",\n",
    "    name = \"Plot 1\",\n",
    "    line=dict(\n",
    "        color = ('rgb(205, 12, 24)'),\n",
    "        shape = \"spline\",\n",
    "        dash = \"dot\"\n",
    "    )\n",
    "    \n",
    ")\n",
    "\n",
    "fig = go.Figure(data = [trace1], layout = layout)\n",
    "py.offline.iplot(fig)\n"
   ]
  },
  {
   "cell_type": "markdown",
   "metadata": {},
   "source": [
    "<center> Figure 3: The layout of our graph. As all of our data points have positive $x$ and $y$ values, we only need to focus on the first quadrant (top right corner).</center>\n",
    "\n",
    "Now, using our chart of data points, let's plot our first point. The $x$-value of our first point is 1, and the $y$-value is 5. So let's find the point on the graph where $x=1$ and $y=5$ and mark this point\n"
   ]
  },
  {
   "cell_type": "code",
   "execution_count": 14,
   "metadata": {},
   "outputs": [
    {
     "data": {
      "application/vnd.plotly.v1+json": {
       "config": {
        "linkText": "Export to plot.ly",
        "plotlyServerURL": "https://plot.ly",
        "showLink": false
       },
       "data": [
        {
         "line": {
          "color": "rgb(205, 12, 24)",
          "dash": "dot",
          "shape": "spline"
         },
         "mode": "lines+markers",
         "name": "Plot 1",
         "type": "scatter",
         "uid": "0578e686-94c6-4a0d-8b28-d38a01fb2b27",
         "x": [
          1
         ],
         "y": [
          5
         ]
        }
       ],
       "layout": {
        "title": {
         "text": "<i>Y</i> as a Function of <i>X</i>"
        },
        "xaxis": {
         "dtick": 1,
         "range": [
          -1,
          10
         ],
         "title": {
          "text": "<i>X</i> Values"
         }
        },
        "yaxis": {
         "dtick": 1,
         "range": [
          -1,
          20
         ],
         "title": {
          "text": "<i>Y</i> Values"
         }
        }
       }
      },
      "text/html": [
       "<div id=\"5136b698-7a21-4ed7-9f18-e76100459061\" style=\"height: 525px; width: 100%;\" class=\"plotly-graph-div\"></div><script type=\"text/javascript\">require([\"plotly\"], function(Plotly) { window.PLOTLYENV=window.PLOTLYENV || {};window.PLOTLYENV.BASE_URL=\"https://plot.ly\";Plotly.newPlot(\"5136b698-7a21-4ed7-9f18-e76100459061\", [{\"line\": {\"color\": \"rgb(205, 12, 24)\", \"dash\": \"dot\", \"shape\": \"spline\"}, \"mode\": \"lines+markers\", \"name\": \"Plot 1\", \"x\": [1], \"y\": [5], \"type\": \"scatter\", \"uid\": \"0578e686-94c6-4a0d-8b28-d38a01fb2b27\"}], {\"title\": {\"text\": \"<i>Y</i> as a Function of <i>X</i>\"}, \"xaxis\": {\"dtick\": 1.0, \"range\": [-1, 10], \"title\": {\"text\": \"<i>X</i> Values\"}}, \"yaxis\": {\"dtick\": 1.0, \"range\": [-1, 20], \"title\": {\"text\": \"<i>Y</i> Values\"}}}, {\"showLink\": false, \"linkText\": \"Export to plot.ly\", \"plotlyServerURL\": \"https://plot.ly\"})});</script><script type=\"text/javascript\">window.addEventListener(\"resize\", function(){window._Plotly.Plots.resize(document.getElementById(\"5136b698-7a21-4ed7-9f18-e76100459061\"));});</script>"
      ],
      "text/vnd.plotly.v1+html": [
       "<div id=\"5136b698-7a21-4ed7-9f18-e76100459061\" style=\"height: 525px; width: 100%;\" class=\"plotly-graph-div\"></div><script type=\"text/javascript\">require([\"plotly\"], function(Plotly) { window.PLOTLYENV=window.PLOTLYENV || {};window.PLOTLYENV.BASE_URL=\"https://plot.ly\";Plotly.newPlot(\"5136b698-7a21-4ed7-9f18-e76100459061\", [{\"line\": {\"color\": \"rgb(205, 12, 24)\", \"dash\": \"dot\", \"shape\": \"spline\"}, \"mode\": \"lines+markers\", \"name\": \"Plot 1\", \"x\": [1], \"y\": [5], \"type\": \"scatter\", \"uid\": \"0578e686-94c6-4a0d-8b28-d38a01fb2b27\"}], {\"title\": {\"text\": \"<i>Y</i> as a Function of <i>X</i>\"}, \"xaxis\": {\"dtick\": 1.0, \"range\": [-1, 10], \"title\": {\"text\": \"<i>X</i> Values\"}}, \"yaxis\": {\"dtick\": 1.0, \"range\": [-1, 20], \"title\": {\"text\": \"<i>Y</i> Values\"}}}, {\"showLink\": false, \"linkText\": \"Export to plot.ly\", \"plotlyServerURL\": \"https://plot.ly\"})});</script><script type=\"text/javascript\">window.addEventListener(\"resize\", function(){window._Plotly.Plots.resize(document.getElementById(\"5136b698-7a21-4ed7-9f18-e76100459061\"));});</script>"
      ]
     },
     "metadata": {},
     "output_type": "display_data"
    }
   ],
   "source": [
    "layout = go.Layout(\n",
    "    title = \"<i>Y</i> as a Function of <i>X</i>\",\n",
    "    yaxis = dict(\n",
    "        title=\"<i>Y</i> Values\",\n",
    "        range = [-1,20],\n",
    "        dtick = 1.00\n",
    "    ),\n",
    "    xaxis = dict(\n",
    "        title=\"<i>X</i> Values\",\n",
    "        range = [-1,10],\n",
    "        dtick = 1.00\n",
    "    )\n",
    ")\n",
    "\n",
    "trace1 = go.Scatter(\n",
    "    x = [1],\n",
    "    y = [5],\n",
    "    mode = \"lines+markers\",\n",
    "    name = \"Plot 1\",\n",
    "    line=dict(\n",
    "        color = ('rgb(205, 12, 24)'),\n",
    "        shape = \"spline\",\n",
    "        dash = \"dot\"\n",
    "    )\n",
    "    \n",
    ")\n",
    "\n",
    "fig = go.Figure(data = [trace1], layout = layout)\n",
    "py.offline.iplot(fig)"
   ]
  },
  {
   "cell_type": "markdown",
   "metadata": {},
   "source": [
    "<center> Figure 4: Here is the location of our first data point.</center>"
   ]
  },
  {
   "cell_type": "markdown",
   "metadata": {},
   "source": [
    "That is your first data point!\n",
    "\n",
    "In the section below, use the above methods to create a graph and plot all of the data points.\n",
    "\n",
    "\\begin{array}{| c | c |}\n",
    "\\hline\n",
    "  X\\: Value & Y\\: Value \\\\\n",
    "  \\hline\n",
    "  1 & 5 \\\\\\hline\n",
    "  2 & 8 \\\\\\hline\n",
    "  3 & 11 \\\\\\hline\n",
    "  4 & 14 \\\\\\hline\n",
    "  5 & 17 \\\\\\hline\n",
    "\\end{array}"
   ]
  },
  {
   "cell_type": "code",
   "execution_count": 15,
   "metadata": {},
   "outputs": [
    {
     "name": "stdout",
     "output_type": "stream",
     "text": [
      "Enter the x-values as a list of the form [a,b,c,d,...]: \n"
     ]
    },
    {
     "data": {
      "application/vnd.jupyter.widget-view+json": {
       "model_id": "a6bccb7f67654d35be037c96fc9836c0",
       "version_major": 2,
       "version_minor": 0
      },
      "text/plain": [
       "Text(value='')"
      ]
     },
     "metadata": {},
     "output_type": "display_data"
    },
    {
     "name": "stdout",
     "output_type": "stream",
     "text": [
      "Enter the y-values as a list of the form [a,b,c,d,...]: \n"
     ]
    },
    {
     "data": {
      "application/vnd.jupyter.widget-view+json": {
       "model_id": "acfee8ec5aa84158b9549580c4f79983",
       "version_major": 2,
       "version_minor": 0
      },
      "text/plain": [
       "Text(value='')"
      ]
     },
     "metadata": {},
     "output_type": "display_data"
    },
    {
     "data": {
      "application/vnd.jupyter.widget-view+json": {
       "model_id": "e6f30759ba444734a34b81f721083a33",
       "version_major": 2,
       "version_minor": 0
      },
      "text/plain": [
       "Button(description='Generate plot', style=ButtonStyle())"
      ]
     },
     "metadata": {},
     "output_type": "display_data"
    },
    {
     "data": {
      "application/vnd.jupyter.widget-view+json": {
       "model_id": "2446d3bbbe244a7192127973d3f78d26",
       "version_major": 2,
       "version_minor": 0
      },
      "text/plain": [
       "HTML(value='')"
      ]
     },
     "metadata": {},
     "output_type": "display_data"
    },
    {
     "data": {
      "application/vnd.plotly.v1+json": {
       "config": {
        "linkText": "Export to plot.ly",
        "plotlyServerURL": "https://plot.ly",
        "showLink": false
       },
       "data": [
        {
         "line": {
          "color": "rgb(22, 96, 167)",
          "dash": "dot",
          "shape": "spline"
         },
         "mode": "lines+markers",
         "name": "extend plot",
         "type": "scatter",
         "uid": "b5f96a05-aef0-48a3-92ae-e1d9f1184997",
         "x": [
          1,
          2,
          3,
          4
         ],
         "y": [
          1,
          2,
          3,
          4
         ]
        }
       ],
       "layout": {
        "xaxis": {
         "range": [
          -1,
          10
         ],
         "title": {
          "text": "X Values"
         }
        },
        "yaxis": {
         "range": [
          -1,
          20
         ],
         "title": {
          "text": "Y Values"
         }
        }
       }
      },
      "text/html": [
       "<div id=\"631b89b8-ea0d-49d2-92bb-8929cf5243e7\" style=\"height: 525px; width: 100%;\" class=\"plotly-graph-div\"></div><script type=\"text/javascript\">require([\"plotly\"], function(Plotly) { window.PLOTLYENV=window.PLOTLYENV || {};window.PLOTLYENV.BASE_URL=\"https://plot.ly\";Plotly.newPlot(\"631b89b8-ea0d-49d2-92bb-8929cf5243e7\", [{\"line\": {\"color\": \"rgb(22, 96, 167)\", \"dash\": \"dot\", \"shape\": \"spline\"}, \"mode\": \"lines+markers\", \"name\": \"extend plot\", \"x\": [1.0, 2.0, 3.0, 4.0], \"y\": [1.0, 2.0, 3.0, 4.0], \"type\": \"scatter\", \"uid\": \"b5f96a05-aef0-48a3-92ae-e1d9f1184997\"}], {\"xaxis\": {\"range\": [-1, 10], \"title\": {\"text\": \"X Values\"}}, \"yaxis\": {\"range\": [-1, 20], \"title\": {\"text\": \"Y Values\"}}}, {\"showLink\": false, \"linkText\": \"Export to plot.ly\", \"plotlyServerURL\": \"https://plot.ly\"})});</script><script type=\"text/javascript\">window.addEventListener(\"resize\", function(){window._Plotly.Plots.resize(document.getElementById(\"631b89b8-ea0d-49d2-92bb-8929cf5243e7\"));});</script>"
      ],
      "text/vnd.plotly.v1+html": [
       "<div id=\"631b89b8-ea0d-49d2-92bb-8929cf5243e7\" style=\"height: 525px; width: 100%;\" class=\"plotly-graph-div\"></div><script type=\"text/javascript\">require([\"plotly\"], function(Plotly) { window.PLOTLYENV=window.PLOTLYENV || {};window.PLOTLYENV.BASE_URL=\"https://plot.ly\";Plotly.newPlot(\"631b89b8-ea0d-49d2-92bb-8929cf5243e7\", [{\"line\": {\"color\": \"rgb(22, 96, 167)\", \"dash\": \"dot\", \"shape\": \"spline\"}, \"mode\": \"lines+markers\", \"name\": \"extend plot\", \"x\": [1.0, 2.0, 3.0, 4.0], \"y\": [1.0, 2.0, 3.0, 4.0], \"type\": \"scatter\", \"uid\": \"b5f96a05-aef0-48a3-92ae-e1d9f1184997\"}], {\"xaxis\": {\"range\": [-1, 10], \"title\": {\"text\": \"X Values\"}}, \"yaxis\": {\"range\": [-1, 20], \"title\": {\"text\": \"Y Values\"}}}, {\"showLink\": false, \"linkText\": \"Export to plot.ly\", \"plotlyServerURL\": \"https://plot.ly\"})});</script><script type=\"text/javascript\">window.addEventListener(\"resize\", function(){window._Plotly.Plots.resize(document.getElementById(\"631b89b8-ea0d-49d2-92bb-8929cf5243e7\"));});</script>"
      ]
     },
     "metadata": {},
     "output_type": "display_data"
    }
   ],
   "source": [
    "g = User_Graph([-1,10],[-1,20])\n",
    "g.run_it()"
   ]
  },
  {
   "cell_type": "markdown",
   "metadata": {},
   "source": [
    "If done correctly, your graph should look something like this:"
   ]
  },
  {
   "cell_type": "code",
   "execution_count": 16,
   "metadata": {},
   "outputs": [
    {
     "data": {
      "application/vnd.plotly.v1+json": {
       "config": {
        "linkText": "Export to plot.ly",
        "plotlyServerURL": "https://plot.ly",
        "showLink": false
       },
       "data": [
        {
         "line": {
          "color": "rgb(205, 12, 24)",
          "dash": "dot",
          "shape": "spline"
         },
         "mode": "lines+markers",
         "name": "Plot 1",
         "type": "scatter",
         "uid": "0d332dbd-f725-4a73-ba4b-de99169fd446",
         "x": [
          1,
          2,
          3,
          4,
          5
         ],
         "y": [
          5,
          8,
          11,
          14,
          17
         ]
        }
       ],
       "layout": {
        "title": {
         "text": "<i>Y</i> as a Function of <i>X</i>"
        },
        "xaxis": {
         "range": [
          -1,
          10
         ],
         "title": {
          "text": "<i>X</i> Values"
         }
        },
        "yaxis": {
         "range": [
          -1,
          20
         ],
         "title": {
          "text": "<i>Y</i> Values"
         }
        }
       }
      },
      "text/html": [
       "<div id=\"2da20e68-3804-40e4-8bdc-d54920515430\" style=\"height: 525px; width: 100%;\" class=\"plotly-graph-div\"></div><script type=\"text/javascript\">require([\"plotly\"], function(Plotly) { window.PLOTLYENV=window.PLOTLYENV || {};window.PLOTLYENV.BASE_URL=\"https://plot.ly\";Plotly.newPlot(\"2da20e68-3804-40e4-8bdc-d54920515430\", [{\"line\": {\"color\": \"rgb(205, 12, 24)\", \"dash\": \"dot\", \"shape\": \"spline\"}, \"mode\": \"lines+markers\", \"name\": \"Plot 1\", \"x\": [1, 2, 3, 4, 5], \"y\": [5, 8, 11, 14, 17], \"type\": \"scatter\", \"uid\": \"0d332dbd-f725-4a73-ba4b-de99169fd446\"}], {\"title\": {\"text\": \"<i>Y</i> as a Function of <i>X</i>\"}, \"xaxis\": {\"range\": [-1, 10], \"title\": {\"text\": \"<i>X</i> Values\"}}, \"yaxis\": {\"range\": [-1, 20], \"title\": {\"text\": \"<i>Y</i> Values\"}}}, {\"showLink\": false, \"linkText\": \"Export to plot.ly\", \"plotlyServerURL\": \"https://plot.ly\"})});</script><script type=\"text/javascript\">window.addEventListener(\"resize\", function(){window._Plotly.Plots.resize(document.getElementById(\"2da20e68-3804-40e4-8bdc-d54920515430\"));});</script>"
      ],
      "text/vnd.plotly.v1+html": [
       "<div id=\"2da20e68-3804-40e4-8bdc-d54920515430\" style=\"height: 525px; width: 100%;\" class=\"plotly-graph-div\"></div><script type=\"text/javascript\">require([\"plotly\"], function(Plotly) { window.PLOTLYENV=window.PLOTLYENV || {};window.PLOTLYENV.BASE_URL=\"https://plot.ly\";Plotly.newPlot(\"2da20e68-3804-40e4-8bdc-d54920515430\", [{\"line\": {\"color\": \"rgb(205, 12, 24)\", \"dash\": \"dot\", \"shape\": \"spline\"}, \"mode\": \"lines+markers\", \"name\": \"Plot 1\", \"x\": [1, 2, 3, 4, 5], \"y\": [5, 8, 11, 14, 17], \"type\": \"scatter\", \"uid\": \"0d332dbd-f725-4a73-ba4b-de99169fd446\"}], {\"title\": {\"text\": \"<i>Y</i> as a Function of <i>X</i>\"}, \"xaxis\": {\"range\": [-1, 10], \"title\": {\"text\": \"<i>X</i> Values\"}}, \"yaxis\": {\"range\": [-1, 20], \"title\": {\"text\": \"<i>Y</i> Values\"}}}, {\"showLink\": false, \"linkText\": \"Export to plot.ly\", \"plotlyServerURL\": \"https://plot.ly\"})});</script><script type=\"text/javascript\">window.addEventListener(\"resize\", function(){window._Plotly.Plots.resize(document.getElementById(\"2da20e68-3804-40e4-8bdc-d54920515430\"));});</script>"
      ]
     },
     "metadata": {},
     "output_type": "display_data"
    }
   ],
   "source": [
    "layout = go.Layout(\n",
    "    title = \"<i>Y</i> as a Function of <i>X</i>\",\n",
    "    yaxis = dict(\n",
    "        title=\"<i>Y</i> Values\",\n",
    "        range = [-1,20]\n",
    "    ),\n",
    "    xaxis = dict(\n",
    "        title=\"<i>X</i> Values\",\n",
    "        range = [-1,10]\n",
    "    )\n",
    ")\n",
    "\n",
    "trace1 = go.Scatter(\n",
    "    x = [1,2,3,4,5],\n",
    "    y = [5,8,11,14,17],\n",
    "    mode = \"lines+markers\",\n",
    "    name = \"Plot 1\",\n",
    "    line=dict(\n",
    "        color = ('rgb(205, 12, 24)'),\n",
    "        shape = \"spline\",\n",
    "        dash = \"dot\"\n",
    "    )\n",
    "    \n",
    ")\n",
    "\n",
    "fig = go.Figure(data = [trace1], layout = layout)\n",
    "py.offline.iplot(fig)"
   ]
  },
  {
   "cell_type": "markdown",
   "metadata": {},
   "source": [
    "If the graph you made looks significantly different, try running the code segment again to re-try!\n",
    "\n",
    "\n",
    "Now that you know how to create a graph, let's talk about some of the important things that a graph can tell us.\n",
    "\n",
    "***"
   ]
  },
  {
   "cell_type": "markdown",
   "metadata": {},
   "source": [
    "**Features of a Linear Graph: Slope**\n",
    "\n",
    "An important characteristic of a linear function is **slope**. The *slope* of a function can be thought of as the steepness or the angle of the function as it appears on a graph. What it really represents is the **rate of change** as you move along the graph. \n",
    "\n",
    "That may sound complicated at first, but here is an example that might make it easier to understand what slope is.\n",
    "\n",
    "***\n",
    "\n",
    "> ### **Example**\n",
    "\n",
    "Say you have been given a set of data points describing how far a car has travelled in a given amount of time:\n",
    "\n",
    "\n",
    "\\begin{array}{| c | c |}\n",
    "\\hline\n",
    "  Time(seconds) & Distance Travelled(meters) \\\\\n",
    "  \\hline\n",
    "  0 & 0 \\\\\\hline\n",
    "  20 & 400 \\\\\\hline\n",
    "  40 & 800 \\\\\\hline\n",
    "  60 & 1200 \\\\\\hline\n",
    "  80 & 1600 \\\\\\hline\n",
    "  100 & 2000 \\\\\\hline\n",
    "  120 & 2400 \\\\\\hline\n",
    "  140 & 2800 \\\\\\hline\n",
    "  160 & 3200 \\\\\\hline\n",
    "  180 & 3600 \\\\\\hline\n",
    "  200 & 4000 \\\\\\hline\n",
    "\\end{array}\n",
    "\n",
    "\n",
    "If you want to find out how fast the car is travelling, you are really trying to find out how quickly the distance travelled increases, or rather, the **rate** at which it is changing. \n",
    "\n",
    "Let's set up a graph of this data to take a closer look.\n",
    "\n",
    "\n",
    "\n"
   ]
  },
  {
   "cell_type": "code",
   "execution_count": 17,
   "metadata": {},
   "outputs": [
    {
     "data": {
      "application/vnd.plotly.v1+json": {
       "config": {
        "linkText": "Export to plot.ly",
        "plotlyServerURL": "https://plot.ly",
        "showLink": false
       },
       "data": [
        {
         "line": {
          "color": "rgb(22, 96, 167)",
          "dash": "dot",
          "shape": "spline"
         },
         "mode": "lines+markers",
         "name": "Plot 1",
         "type": "scatter",
         "uid": "36e09bcd-d8e4-4011-a815-39cf14bb5339",
         "x": [
          0,
          20,
          40,
          60,
          80,
          100,
          120,
          140,
          160,
          180,
          200
         ],
         "y": [
          0,
          400,
          800,
          1200,
          1600,
          2000,
          2400,
          2800,
          3200,
          3600,
          4000
         ]
        }
       ],
       "layout": {
        "title": {
         "text": "Distance Travelled as a Function of Time"
        },
        "xaxis": {
         "title": {
          "text": "Time (Seconds)"
         }
        },
        "yaxis": {
         "title": {
          "text": "Distance Travelled (Meters)"
         }
        }
       }
      },
      "text/html": [
       "<div id=\"558d026d-71a9-4c0b-b7d2-faa080cdb8da\" style=\"height: 525px; width: 100%;\" class=\"plotly-graph-div\"></div><script type=\"text/javascript\">require([\"plotly\"], function(Plotly) { window.PLOTLYENV=window.PLOTLYENV || {};window.PLOTLYENV.BASE_URL=\"https://plot.ly\";Plotly.newPlot(\"558d026d-71a9-4c0b-b7d2-faa080cdb8da\", [{\"line\": {\"color\": \"rgb(22, 96, 167)\", \"dash\": \"dot\", \"shape\": \"spline\"}, \"mode\": \"lines+markers\", \"name\": \"Plot 1\", \"x\": [0.0, 20.0, 40.0, 60.0, 80.0, 100.0, 120.0, 140.0, 160.0, 180.0, 200.0], \"y\": [0.0, 400.0, 800.0, 1200.0, 1600.0, 2000.0, 2400.0, 2800.0, 3200.0, 3600.0, 4000.0], \"type\": \"scatter\", \"uid\": \"36e09bcd-d8e4-4011-a815-39cf14bb5339\"}], {\"title\": {\"text\": \"Distance Travelled as a Function of Time\"}, \"xaxis\": {\"title\": {\"text\": \"Time (Seconds)\"}}, \"yaxis\": {\"title\": {\"text\": \"Distance Travelled (Meters)\"}}}, {\"showLink\": false, \"linkText\": \"Export to plot.ly\", \"plotlyServerURL\": \"https://plot.ly\"})});</script><script type=\"text/javascript\">window.addEventListener(\"resize\", function(){window._Plotly.Plots.resize(document.getElementById(\"558d026d-71a9-4c0b-b7d2-faa080cdb8da\"));});</script>"
      ],
      "text/vnd.plotly.v1+html": [
       "<div id=\"558d026d-71a9-4c0b-b7d2-faa080cdb8da\" style=\"height: 525px; width: 100%;\" class=\"plotly-graph-div\"></div><script type=\"text/javascript\">require([\"plotly\"], function(Plotly) { window.PLOTLYENV=window.PLOTLYENV || {};window.PLOTLYENV.BASE_URL=\"https://plot.ly\";Plotly.newPlot(\"558d026d-71a9-4c0b-b7d2-faa080cdb8da\", [{\"line\": {\"color\": \"rgb(22, 96, 167)\", \"dash\": \"dot\", \"shape\": \"spline\"}, \"mode\": \"lines+markers\", \"name\": \"Plot 1\", \"x\": [0.0, 20.0, 40.0, 60.0, 80.0, 100.0, 120.0, 140.0, 160.0, 180.0, 200.0], \"y\": [0.0, 400.0, 800.0, 1200.0, 1600.0, 2000.0, 2400.0, 2800.0, 3200.0, 3600.0, 4000.0], \"type\": \"scatter\", \"uid\": \"36e09bcd-d8e4-4011-a815-39cf14bb5339\"}], {\"title\": {\"text\": \"Distance Travelled as a Function of Time\"}, \"xaxis\": {\"title\": {\"text\": \"Time (Seconds)\"}}, \"yaxis\": {\"title\": {\"text\": \"Distance Travelled (Meters)\"}}}, {\"showLink\": false, \"linkText\": \"Export to plot.ly\", \"plotlyServerURL\": \"https://plot.ly\"})});</script><script type=\"text/javascript\">window.addEventListener(\"resize\", function(){window._Plotly.Plots.resize(document.getElementById(\"558d026d-71a9-4c0b-b7d2-faa080cdb8da\"));});</script>"
      ]
     },
     "metadata": {},
     "output_type": "display_data"
    }
   ],
   "source": [
    "time = np.linspace(0,200,11)\n",
    "distance = np.linspace(0,4000,11)\n",
    "\n",
    "layout = go.Layout(\n",
    "    title = \"Distance Travelled as a Function of Time\",\n",
    "    yaxis = dict(\n",
    "        title=\"Distance Travelled (Meters)\"\n",
    "    ),\n",
    "    xaxis = dict(\n",
    "        title=\"Time (Seconds)\"\n",
    "    ),\n",
    ")\n",
    "\n",
    "trace1 = go.Scatter(\n",
    "    x = time,\n",
    "    y = distance,\n",
    "    mode = \"lines+markers\",\n",
    "    name = \"Plot 1\",\n",
    "    line=dict(\n",
    "        color = ('rgb(22, 96, 167)'),\n",
    "        shape = \"spline\",\n",
    "        dash = \"dot\"\n",
    "    )\n",
    "    \n",
    ")\n",
    "\n",
    "fig = go.Figure(data = [trace1], layout = layout)\n",
    "py.offline.iplot(fig)"
   ]
  },
  {
   "cell_type": "markdown",
   "metadata": {},
   "source": [
    "<center> Figure 6: This graph shows the distance a car travels after a given amount of time.</center>"
   ]
  },
  {
   "cell_type": "markdown",
   "metadata": {},
   "source": [
    "We want to find how fast the car is travelling. Knowing that speed is a measurement of distance over time, let's use the total distance travelled and the total amount of time to find the average speed of the car.\n",
    "From the graph, we can see that the car initially started at position 0 meters, and travelled a total of 4000 meters. We also know that the car started moving at time 0 seconds, and stopped moving after 200 seconds. Using this information, we can set up the following equations to find the speed of the car:\n",
    "\n",
    "\\begin{equation}\n",
    "Speed = \\frac{Total\\: Distance}{Total\\: Time}\n",
    "\\end{equation}\n",
    "\n",
    "and we know that:\n",
    "\n",
    "\\begin{equation}\n",
    "Total\\: Distance = Final\\: Distance - Initial\\: Distance\n",
    "\\end{equation}\n",
    "\\begin{equation}\n",
    "Total\\: Time = Final\\: Time - Initial\\: Time\n",
    "\\end{equation}\n",
    "\n",
    "so:\n",
    "\n",
    "\\begin{equation} \n",
    "Speed = \\frac{Final\\: Distance - Initial\\: Distance}{Final\\: Time - Initial\\: Time}\n",
    "\\end{equation}\n",
    "\n",
    "\\begin{equation} \n",
    "Speed = \\frac{4000m - 0m}{200s - 0s}\n",
    "\\end{equation}\n",
    "\n",
    "\\begin{equation}\n",
    "Speed = \\frac{4000m}{200s}\n",
    "\\end{equation}\n",
    "\n",
    "\\begin{equation} \n",
    " Speed = 20 m/s\n",
    "\\end{equation}\n",
    "\n",
    "\n",
    "\n",
    "From the equations above, we can see that the car travels 20 meters every second. While it may not be obvious, we just found the slope of the graph! By finding the average speed of the car, we identified the rate at which the dependent variable (Distance Travelled) changes with respect to the independent variable (Time).\n",
    "\n",
    "***\n",
    "\n",
    "\n",
    "When looking at a graph, the general equation used to find the slope of a linear function from one point: ($x_1$,$y_1$), to a second point: ($x_2$,$y_2$), is given as follows:\n",
    "\n",
    "\\begin{equation} \n",
    "Slope = \\frac{y_2 - y_1}{x_2 - x_1}\n",
    "\\end{equation}\n",
    "\n",
    "When looking at a linear function that has the form:\n",
    "\\begin{equation} \n",
    "y = mx + b\n",
    "\\end{equation}\n",
    "the value of the slope is the same as the value of $m$.\n",
    "\n",
    "Use the section below to see the effect that slope can have on a function."
   ]
  },
  {
   "cell_type": "code",
   "execution_count": 18,
   "metadata": {},
   "outputs": [
    {
     "data": {
      "application/vnd.jupyter.widget-view+json": {
       "model_id": "358f103e4da945118a2beb9780c0c764",
       "version_major": 2,
       "version_minor": 0
      },
      "text/plain": [
       "interactive(children=(FloatSlider(value=2.0, description='slope', max=5.0, step=0.5), Output()), _dom_classes=…"
      ]
     },
     "metadata": {},
     "output_type": "display_data"
    }
   ],
   "source": [
    "def slider(slope):\n",
    "    \n",
    "    x_list = [0,1,2,3,4,5,6,7,8,9,10]\n",
    "    y_list = []\n",
    "    for i in x_list:\n",
    "        y_val = slope*(i)\n",
    "        y_list.append(y_val)\n",
    "    \n",
    "    \n",
    "    layout = go.Layout(\n",
    "        showlegend = True,\n",
    "        title ='y = ' + str(slope) + 'x',\n",
    "        yaxis = dict(\n",
    "            title=\"<i>X</i> Values\",\n",
    "            range = [-1,20]\n",
    "        ),\n",
    "        xaxis = dict(\n",
    "            title=\"<i>Y</i> Values\",\n",
    "            range = [-1,20]\n",
    "        ),\n",
    "    )\n",
    "\n",
    "    trace1 = go.Scatter(\n",
    "        x = x_list,\n",
    "        y = y_list,\n",
    "        mode = \"lines+markers\",\n",
    "        name = str('$y = ' + str(slope) + 'x$'),\n",
    "        line=dict(\n",
    "            color = ('rgb(22, 96, 167)'),\n",
    "            shape = \"spline\",\n",
    "            dash = \"dot\"\n",
    "        )\n",
    "    \n",
    "    )\n",
    "\n",
    "    fig = go.Figure(data = [trace1], layout = layout)\n",
    "    py.offline.iplot(fig, filename = 'show-legend')\n",
    "    \n",
    "interactive(slider, slope=(0,5,0.5))\n",
    "\n"
   ]
  },
  {
   "cell_type": "markdown",
   "metadata": {},
   "source": [
    "<center> Figure 7: This graph shows the way in which slope can affect the shape of a function. The larger the slope, the \"steeper\" the graph is.</center>"
   ]
  },
  {
   "cell_type": "markdown",
   "metadata": {},
   "source": [
    "When dealing with a single linear function, the slope will be constant across the entire graph. However, if a graph consists of more than one linear function, the slope may change at some point. \n",
    "Take a look at the following graph to see what a graph with more than one linear function may look like:"
   ]
  },
  {
   "cell_type": "code",
   "execution_count": 19,
   "metadata": {},
   "outputs": [
    {
     "data": {
      "application/vnd.plotly.v1+json": {
       "config": {
        "linkText": "Export to plot.ly",
        "plotlyServerURL": "https://plot.ly",
        "showLink": false
       },
       "data": [
        {
         "line": {
          "color": "rgb(22, 96, 167)",
          "dash": "dot"
         },
         "mode": "lines+markers",
         "name": "Plot 1",
         "type": "scatter",
         "uid": "c811c8cb-be7a-42fd-80c9-3016ae81e352",
         "x": [
          0,
          1,
          2,
          3,
          4,
          5,
          6,
          7,
          8,
          9,
          10
         ],
         "y": [
          1,
          2,
          3,
          4,
          5,
          6,
          9,
          12,
          15,
          18,
          21
         ]
        }
       ],
       "layout": {
        "title": {
         "text": "<i>Y</i> as a Function of <i>X</i>"
        },
        "xaxis": {
         "title": {
          "text": "<i>X</i> Values"
         }
        },
        "yaxis": {
         "title": {
          "text": "<i>Y</i> Values"
         }
        }
       }
      },
      "text/html": [
       "<div id=\"eaf0ac11-9e35-491e-b914-2463f57cb823\" style=\"height: 525px; width: 100%;\" class=\"plotly-graph-div\"></div><script type=\"text/javascript\">require([\"plotly\"], function(Plotly) { window.PLOTLYENV=window.PLOTLYENV || {};window.PLOTLYENV.BASE_URL=\"https://plot.ly\";Plotly.newPlot(\"eaf0ac11-9e35-491e-b914-2463f57cb823\", [{\"line\": {\"color\": \"rgb(22, 96, 167)\", \"dash\": \"dot\"}, \"mode\": \"lines+markers\", \"name\": \"Plot 1\", \"x\": [0, 1, 2, 3, 4, 5, 6, 7, 8, 9, 10], \"y\": [1, 2, 3, 4, 5, 6, 9, 12, 15, 18, 21], \"type\": \"scatter\", \"uid\": \"c811c8cb-be7a-42fd-80c9-3016ae81e352\"}], {\"title\": {\"text\": \"<i>Y</i> as a Function of <i>X</i>\"}, \"xaxis\": {\"title\": {\"text\": \"<i>X</i> Values\"}}, \"yaxis\": {\"title\": {\"text\": \"<i>Y</i> Values\"}}}, {\"showLink\": false, \"linkText\": \"Export to plot.ly\", \"plotlyServerURL\": \"https://plot.ly\"})});</script><script type=\"text/javascript\">window.addEventListener(\"resize\", function(){window._Plotly.Plots.resize(document.getElementById(\"eaf0ac11-9e35-491e-b914-2463f57cb823\"));});</script>"
      ],
      "text/vnd.plotly.v1+html": [
       "<div id=\"eaf0ac11-9e35-491e-b914-2463f57cb823\" style=\"height: 525px; width: 100%;\" class=\"plotly-graph-div\"></div><script type=\"text/javascript\">require([\"plotly\"], function(Plotly) { window.PLOTLYENV=window.PLOTLYENV || {};window.PLOTLYENV.BASE_URL=\"https://plot.ly\";Plotly.newPlot(\"eaf0ac11-9e35-491e-b914-2463f57cb823\", [{\"line\": {\"color\": \"rgb(22, 96, 167)\", \"dash\": \"dot\"}, \"mode\": \"lines+markers\", \"name\": \"Plot 1\", \"x\": [0, 1, 2, 3, 4, 5, 6, 7, 8, 9, 10], \"y\": [1, 2, 3, 4, 5, 6, 9, 12, 15, 18, 21], \"type\": \"scatter\", \"uid\": \"c811c8cb-be7a-42fd-80c9-3016ae81e352\"}], {\"title\": {\"text\": \"<i>Y</i> as a Function of <i>X</i>\"}, \"xaxis\": {\"title\": {\"text\": \"<i>X</i> Values\"}}, \"yaxis\": {\"title\": {\"text\": \"<i>Y</i> Values\"}}}, {\"showLink\": false, \"linkText\": \"Export to plot.ly\", \"plotlyServerURL\": \"https://plot.ly\"})});</script><script type=\"text/javascript\">window.addEventListener(\"resize\", function(){window._Plotly.Plots.resize(document.getElementById(\"eaf0ac11-9e35-491e-b914-2463f57cb823\"));});</script>"
      ]
     },
     "metadata": {},
     "output_type": "display_data"
    }
   ],
   "source": [
    "x1 = [0,1,2,3,4,5]\n",
    "y1 = []\n",
    "\n",
    "for num in x1:\n",
    "    y1_val = num + 1\n",
    "    y1.append(y1_val)\n",
    "    \n",
    "x2 = [6,7,8,9,10]\n",
    "y2 = []\n",
    "\n",
    "for num in x2:\n",
    "    y2_val = 3*(num) - 9\n",
    "    y2.append(y2_val)\n",
    "\n",
    "x_list = x1 + x2\n",
    "y_list = y1 + y2\n",
    "    \n",
    "layout = go.Layout(\n",
    "    title = \"<i>Y</i> as a Function of <i>X</i>\",\n",
    "    yaxis = dict(\n",
    "        title=\"<i>Y</i> Values\"\n",
    "    ),\n",
    "    xaxis = dict(\n",
    "        title=\"<i>X</i> Values\"\n",
    "    ),\n",
    ")\n",
    "\n",
    "trace1 = go.Scatter(\n",
    "    x = x_list,\n",
    "    y = y_list,\n",
    "    mode = \"lines+markers\",\n",
    "    name = \"Plot 1\",\n",
    "    line=dict(\n",
    "        color = ('rgb(22, 96, 167)'),\n",
    "        dash = \"dot\"\n",
    "    )\n",
    "    \n",
    ")\n",
    "\n",
    "fig = go.Figure(data = [trace1], layout = layout)\n",
    "py.offline.iplot(fig)\n",
    "\n",
    "    "
   ]
  },
  {
   "cell_type": "markdown",
   "metadata": {},
   "source": [
    "<center> Figure 8: On this plot, notice the distinct change in steepness at $x = 5$. The slope increases at this point.</center>"
   ]
  },
  {
   "cell_type": "markdown",
   "metadata": {},
   "source": [
    "As you can see above, the graph has two distinct sections: one from $x = 0$ to $x = 5$, and the other from $x = 5$ to $x = 10$. As we have seen from the equations of linear functions, we know that the slope of one function has a constant value. Because these sections each have a different slope, they must represent two distinct linear functions.\n",
    "\n",
    "You may be wondering how one graph can show two different functions at the same time, but consider our example of the car shown above. What if halfway through the trip, the car began to move at a faster speed? If this were the case, the slope of the graph would increase at the halfway point, much like the graph shown above."
   ]
  },
  {
   "cell_type": "markdown",
   "metadata": {},
   "source": [
    "## **Questions**\n",
    "\n",
    "The following section is meant to test your understanding and improve your familiarity with the concepts we have gone over in this lesson.\n",
    "\n",
    "\n",
    "### **Question 1.**\n",
    "\n",
    "Use the following table of data points describing the motion of a car driving to a destination and complete the following tasks:\n",
    "- Plot a graph (be sure to label the axes, and to give the graph a title!)\n",
    "- Find the slope of the graph\n",
    "- Create an equation for the linear function\n",
    "\n",
    "\\begin{array}{| c | c |}\n",
    "\\hline\n",
    "  Time\\: (seconds) & Distance\\: Away\\: from\\: Destination\\: (meters) \\\\\n",
    "  \\hline\n",
    "  0 & 10 \\\\\\hline\n",
    "  1 & 8 \\\\\\hline\n",
    "  2 & 6 \\\\\\hline\n",
    "  3 & 4 \\\\\\hline\n",
    "  4 & 2 \\\\\\hline\n",
    "  5 & 0 \\\\\\hline\n",
    "  6 & -2 \\\\\\hline\n",
    "  7 & -4 \\\\\\hline\n",
    "  8 & -6 \\\\\\hline\n",
    "  9 & -8 \\\\\\hline\n",
    "\\end{array}\n"
   ]
  },
  {
   "cell_type": "markdown",
   "metadata": {},
   "source": [
    "Use the section below to create the graph:"
   ]
  },
  {
   "cell_type": "code",
   "execution_count": 20,
   "metadata": {},
   "outputs": [
    {
     "name": "stdout",
     "output_type": "stream",
     "text": [
      "Enter the x-values as a list of the form [a,b,c,d,...]: \n"
     ]
    },
    {
     "data": {
      "application/vnd.jupyter.widget-view+json": {
       "model_id": "c370b8e0de45469186958ce7ef015b88",
       "version_major": 2,
       "version_minor": 0
      },
      "text/plain": [
       "Text(value='')"
      ]
     },
     "metadata": {},
     "output_type": "display_data"
    },
    {
     "name": "stdout",
     "output_type": "stream",
     "text": [
      "Enter the y-values as a list of the form [a,b,c,d,...]: \n"
     ]
    },
    {
     "data": {
      "application/vnd.jupyter.widget-view+json": {
       "model_id": "e50beb5958534f5ba258eaeddb6e7e4e",
       "version_major": 2,
       "version_minor": 0
      },
      "text/plain": [
       "Text(value='')"
      ]
     },
     "metadata": {},
     "output_type": "display_data"
    },
    {
     "data": {
      "application/vnd.jupyter.widget-view+json": {
       "model_id": "705728bc2be74125a81e805e07bdad98",
       "version_major": 2,
       "version_minor": 0
      },
      "text/plain": [
       "Button(description='Generate plot', style=ButtonStyle())"
      ]
     },
     "metadata": {},
     "output_type": "display_data"
    },
    {
     "data": {
      "application/vnd.jupyter.widget-view+json": {
       "model_id": "892ae3ebe60d488898d3a7b420c9d760",
       "version_major": 2,
       "version_minor": 0
      },
      "text/plain": [
       "HTML(value='')"
      ]
     },
     "metadata": {},
     "output_type": "display_data"
    }
   ],
   "source": [
    "q1 = User_Graph([-1,10], [-10,12])\n",
    "q1.run_it()"
   ]
  },
  {
   "cell_type": "markdown",
   "metadata": {},
   "source": [
    "Use the following sections to answer some questions about the graph you just made:"
   ]
  },
  {
   "cell_type": "code",
   "execution_count": 21,
   "metadata": {},
   "outputs": [
    {
     "name": "stdout",
     "output_type": "stream",
     "text": [
      "What is the value of the slope of the above graph?\n"
     ]
    },
    {
     "data": {
      "application/vnd.jupyter.widget-view+json": {
       "model_id": "fc15e567eb904f68a52c9d91db16987d",
       "version_major": 2,
       "version_minor": 0
      },
      "text/plain": [
       "IntText(value=0)"
      ]
     },
     "metadata": {},
     "output_type": "display_data"
    },
    {
     "data": {
      "application/vnd.jupyter.widget-view+json": {
       "model_id": "b6b6ebb3694b48f7abea921a553f395d",
       "version_major": 2,
       "version_minor": 0
      },
      "text/plain": [
       "Button(description='Check results', style=ButtonStyle())"
      ]
     },
     "metadata": {},
     "output_type": "display_data"
    },
    {
     "data": {
      "application/vnd.jupyter.widget-view+json": {
       "model_id": "4f79518ef71e41a1a26f865858d36aff",
       "version_major": 2,
       "version_minor": 0
      },
      "text/plain": [
       "HTML(value='')"
      ]
     },
     "metadata": {},
     "output_type": "display_data"
    }
   ],
   "source": [
    "ask_slope()"
   ]
  },
  {
   "cell_type": "code",
   "execution_count": 22,
   "metadata": {},
   "outputs": [
    {
     "name": "stdout",
     "output_type": "stream",
     "text": [
      "What is the equation of the linear function shown on the graph? (Enter your answer as: y = mx + b)\n"
     ]
    },
    {
     "data": {
      "application/vnd.jupyter.widget-view+json": {
       "model_id": "1c50d52659ad44c1942eeb732bdc7b45",
       "version_major": 2,
       "version_minor": 0
      },
      "text/plain": [
       "Text(value='')"
      ]
     },
     "metadata": {},
     "output_type": "display_data"
    },
    {
     "data": {
      "application/vnd.jupyter.widget-view+json": {
       "model_id": "b4c8426cb115407e9366e154417033e5",
       "version_major": 2,
       "version_minor": 0
      },
      "text/plain": [
       "Button(description='Check results', style=ButtonStyle())"
      ]
     },
     "metadata": {},
     "output_type": "display_data"
    },
    {
     "data": {
      "application/vnd.jupyter.widget-view+json": {
       "model_id": "53670ceb852c47f990d0e79173819c39",
       "version_major": 2,
       "version_minor": 0
      },
      "text/plain": [
       "HTML(value='')"
      ]
     },
     "metadata": {},
     "output_type": "display_data"
    }
   ],
   "source": [
    "ask_equation()"
   ]
  },
  {
   "cell_type": "code",
   "execution_count": 23,
   "metadata": {},
   "outputs": [
    {
     "name": "stdout",
     "output_type": "stream",
     "text": [
      "At what point did the person walk past their destination? (Enter your answer as (x,y)) \n"
     ]
    },
    {
     "data": {
      "application/vnd.jupyter.widget-view+json": {
       "model_id": "55810bd01e2e45079375bbc59fb6aa06",
       "version_major": 2,
       "version_minor": 0
      },
      "text/plain": [
       "Text(value='')"
      ]
     },
     "metadata": {},
     "output_type": "display_data"
    },
    {
     "data": {
      "application/vnd.jupyter.widget-view+json": {
       "model_id": "3a69044248b5423b9f34ecfd6cc48609",
       "version_major": 2,
       "version_minor": 0
      },
      "text/plain": [
       "Button(description='Check results', style=ButtonStyle())"
      ]
     },
     "metadata": {},
     "output_type": "display_data"
    },
    {
     "data": {
      "application/vnd.jupyter.widget-view+json": {
       "model_id": "4cf8bf994a6c40b19dd4b8f41e601592",
       "version_major": 2,
       "version_minor": 0
      },
      "text/plain": [
       "HTML(value='')"
      ]
     },
     "metadata": {},
     "output_type": "display_data"
    }
   ],
   "source": [
    "ask_question1()"
   ]
  },
  {
   "cell_type": "markdown",
   "metadata": {},
   "source": [
    "###### Question 2.\n",
    "\n",
    "Quentin and Isabelle both earn their allowance by doing exercise. Quentins parents pay him $\\$8.00$ each time he goes for a run,  plus an additional $\\$0.50$ for every kilometer he runs.\n",
    "\n",
    "Isabelle gets paid $\\$5.00$ every time she goes for a run, and an additional $\\$1.00$ for every kilometer she runs.\n",
    "\n",
    "At what distance do Quentin and Isabelle make the same amount of money?\n",
    "Who makes the most money after running for 10 kilometers?\n",
    "\n",
    "\n",
    "To help answer these questions, here are the linear equations that describe Quentin and Isabelle's allowance:\n",
    "\n",
    "Quentin: \n",
    "\\begin{equation}\n",
    "y = \\frac{1}{2}x + 8\n",
    "\\end{equation}\n",
    "\n",
    "Isabelle:\n",
    "\\begin{equation}\n",
    "y = x + 5\n",
    "\\end{equation}\n",
    "\n",
    "Create a graph that shows both of these functions at the points: \n",
    "\n",
    "\\begin{array}{| c | c |}\n",
    "\\hline\n",
    "  Distance\\: (km) & Money\\: Made\\: (Dollars)\\\\\n",
    "  \\hline\n",
    "  0 & ? \\\\\\hline\n",
    "  1 & ? \\\\\\hline\n",
    "  2 & ? \\\\\\hline\n",
    "  3 & ? \\\\\\hline\n",
    "  4 & ? \\\\\\hline\n",
    "  5 & ? \\\\\\hline\n",
    "  6 & ? \\\\\\hline\n",
    "  7 & ? \\\\\\hline\n",
    "\\end{array}\n",
    "\n",
    "*Hint*: Create one table for each of the equations and find the corresponding $y$-values, then use the section below to enter the points."
   ]
  },
  {
   "cell_type": "code",
   "execution_count": 24,
   "metadata": {},
   "outputs": [
    {
     "name": "stdout",
     "output_type": "stream",
     "text": [
      "Please enter data points for Quentin:\n",
      "Enter the x-values as a list of the form [a,b,c,d,...]: \n"
     ]
    },
    {
     "data": {
      "application/vnd.jupyter.widget-view+json": {
       "model_id": "5619d634950140c9856830570e8d7ae1",
       "version_major": 2,
       "version_minor": 0
      },
      "text/plain": [
       "Text(value='')"
      ]
     },
     "metadata": {},
     "output_type": "display_data"
    },
    {
     "name": "stdout",
     "output_type": "stream",
     "text": [
      "Enter the y-values as a list of the form [a,b,c,d,...]: \n"
     ]
    },
    {
     "data": {
      "application/vnd.jupyter.widget-view+json": {
       "model_id": "6fdd1c05183e4d54b7c4474b30fe0d46",
       "version_major": 2,
       "version_minor": 0
      },
      "text/plain": [
       "Text(value='')"
      ]
     },
     "metadata": {},
     "output_type": "display_data"
    },
    {
     "name": "stdout",
     "output_type": "stream",
     "text": [
      "Please enter data points for Isabelle:\n",
      "Enter the x-values as a list of the form [a,b,c,d,...]: \n"
     ]
    },
    {
     "data": {
      "application/vnd.jupyter.widget-view+json": {
       "model_id": "16f894abeb824137b10f06fbca8bbb8f",
       "version_major": 2,
       "version_minor": 0
      },
      "text/plain": [
       "Text(value='')"
      ]
     },
     "metadata": {},
     "output_type": "display_data"
    },
    {
     "name": "stdout",
     "output_type": "stream",
     "text": [
      "Enter the y-values as a list of the form [a,b,c,d,...]: \n"
     ]
    },
    {
     "data": {
      "application/vnd.jupyter.widget-view+json": {
       "model_id": "e86da8b821c64cf4a03d24d5c1f1db00",
       "version_major": 2,
       "version_minor": 0
      },
      "text/plain": [
       "Text(value='')"
      ]
     },
     "metadata": {},
     "output_type": "display_data"
    },
    {
     "data": {
      "application/vnd.jupyter.widget-view+json": {
       "model_id": "13032debaa114ca3a49bde4fe5192823",
       "version_major": 2,
       "version_minor": 0
      },
      "text/plain": [
       "Button(description='Generate plot', style=ButtonStyle())"
      ]
     },
     "metadata": {},
     "output_type": "display_data"
    },
    {
     "data": {
      "application/vnd.jupyter.widget-view+json": {
       "model_id": "1742c328af004335a410ff102292993c",
       "version_major": 2,
       "version_minor": 0
      },
      "text/plain": [
       "HTML(value='')"
      ]
     },
     "metadata": {},
     "output_type": "display_data"
    }
   ],
   "source": [
    "D = Double_Graph([0,8],[0,15])\n",
    "D.run_it()"
   ]
  },
  {
   "cell_type": "code",
   "execution_count": 25,
   "metadata": {},
   "outputs": [
    {
     "name": "stdout",
     "output_type": "stream",
     "text": [
      "At what distance do Quentin and Isabelle make the same amount of money? (Enter your answer as a whole number) \n"
     ]
    },
    {
     "data": {
      "application/vnd.jupyter.widget-view+json": {
       "model_id": "20a39eb77a0c49c7a4ee29556e7d7a95",
       "version_major": 2,
       "version_minor": 0
      },
      "text/plain": [
       "IntText(value=0)"
      ]
     },
     "metadata": {},
     "output_type": "display_data"
    },
    {
     "data": {
      "application/vnd.jupyter.widget-view+json": {
       "model_id": "13696185e53d4d5e983976ec0fe9657d",
       "version_major": 2,
       "version_minor": 0
      },
      "text/plain": [
       "Button(description='Check results', style=ButtonStyle())"
      ]
     },
     "metadata": {},
     "output_type": "display_data"
    },
    {
     "data": {
      "application/vnd.jupyter.widget-view+json": {
       "model_id": "3869748757a544d1a0df3fb0fc64eb77",
       "version_major": 2,
       "version_minor": 0
      },
      "text/plain": [
       "HTML(value='')"
      ]
     },
     "metadata": {},
     "output_type": "display_data"
    }
   ],
   "source": [
    "ask_question2()"
   ]
  },
  {
   "cell_type": "code",
   "execution_count": 26,
   "metadata": {},
   "outputs": [
    {
     "name": "stdout",
     "output_type": "stream",
     "text": [
      "Who makes the most money after running 10 kilometers? (Enter: Quentin, or Isabelle) \n"
     ]
    },
    {
     "data": {
      "application/vnd.jupyter.widget-view+json": {
       "model_id": "e17f6ec476b749fab6946f5dd68bb9f9",
       "version_major": 2,
       "version_minor": 0
      },
      "text/plain": [
       "Text(value='')"
      ]
     },
     "metadata": {},
     "output_type": "display_data"
    },
    {
     "data": {
      "application/vnd.jupyter.widget-view+json": {
       "model_id": "343827488e03468bae504ec63f7de569",
       "version_major": 2,
       "version_minor": 0
      },
      "text/plain": [
       "Button(description='Check results', style=ButtonStyle())"
      ]
     },
     "metadata": {},
     "output_type": "display_data"
    },
    {
     "data": {
      "application/vnd.jupyter.widget-view+json": {
       "model_id": "bf0920ae022548b1be03bedfd2d8c941",
       "version_major": 2,
       "version_minor": 0
      },
      "text/plain": [
       "HTML(value='')"
      ]
     },
     "metadata": {},
     "output_type": "display_data"
    }
   ],
   "source": [
    "ask_question3()"
   ]
  },
  {
   "cell_type": "markdown",
   "metadata": {},
   "source": [
    "## **Conclusion**\n",
    "\n",
    "In this lesson, we have highlighted some of the many ways that a graph can help us understand the relationship between two variables in a linear function. Some of the important methods that you should remember include:\n",
    "\n",
    "- Defining a Linear Function\n",
    "- Identifying the Independent and Dependent Variables\n",
    "- Setting up a Graph on the Cartesian Plane\n",
    "- Creating and Plotting Data Points\n",
    "- Finding the slope of a graph\n",
    "\n",
    "Throughout your life, you will be presented with all sorts of statistics, data, charts and graphs. It is important that you have the skills required to analyze what a graph is trying to tell you, not just so you can pass your math class, but to enable you to make informed decisions when you need to consider how different variables can interact and affect results.\n",
    "\n"
   ]
  },
  {
   "cell_type": "markdown",
   "metadata": {},
   "source": [
    "![](https://github.com/callysto/callysto-sample-notebooks/blob/master/notebooks/images/Callysto_Notebook-Banners_Bottom_06.06.18.jpg?raw=true)"
   ]
  }
 ],
 "metadata": {
  "kernelspec": {
   "display_name": "Python 3",
   "language": "python",
   "name": "python3"
  },
  "language_info": {
   "codemirror_mode": {
    "name": "ipython",
    "version": 3
   },
   "file_extension": ".py",
   "mimetype": "text/x-python",
   "name": "python",
   "nbconvert_exporter": "python",
   "pygments_lexer": "ipython3",
   "version": "3.6.8"
  },
  "latex_envs": {
   "LaTeX_envs_menu_present": true,
   "autoclose": false,
   "autocomplete": true,
   "bibliofile": "biblio.bib",
   "cite_by": "apalike",
   "current_citInitial": 1,
   "eqLabelWithNumbers": true,
   "eqNumInitial": 1,
   "hotkeys": {
    "equation": "Ctrl-E",
    "itemize": "Ctrl-I"
   },
   "labels_anchors": false,
   "latex_user_defs": false,
   "report_style_numbering": false,
   "user_envs_cfg": false
  },
  "nbTranslate": {
   "displayLangs": [
    "*"
   ],
   "hotkey": "alt-t",
   "langInMainMenu": true,
   "sourceLang": "en",
   "targetLang": "fr",
   "useGoogleTranslate": true
  }
 },
 "nbformat": 4,
 "nbformat_minor": 2
}
