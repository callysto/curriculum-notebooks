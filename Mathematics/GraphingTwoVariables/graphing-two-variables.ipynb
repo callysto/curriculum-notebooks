{
 "cells": [
  {
   "cell_type": "markdown",
   "metadata": {},
   "source": [
    "![Callysto.ca Banner](https://github.com/callysto/curriculum-notebooks/blob/master/callysto-notebook-banner-top.jpg?raw=true)\n",
    "\n",
    "<a href=\"https://hub.callysto.ca/jupyter/hub/user-redirect/git-pull?repo=https%3A%2F%2Fgithub.com%2Fcallysto%2Fcurriculum-notebooks&branch=master&subPath=Mathematics/GraphingTwoVariables/graphing-two-variables.ipynb&depth=1\" target=\"_parent\"><img src=\"https://raw.githubusercontent.com/callysto/curriculum-notebooks/master/open-in-callysto-button.svg?sanitize=true\" width=\"123\" height=\"24\" alt=\"Open in Callysto\"/></a>"
   ]
  },
  {
   "cell_type": "markdown",
   "metadata": {},
   "source": [
    "# Understanding the Relationship Between Two Variables Using Graphs\n",
    "\n",
    "## Introduction\n",
    "\n",
    "If we want to see the relationship between two variables, we can create a graph using Python code.\n",
    "\n",
    "As an example, let's visualize the relationship between a person's **wage** (in dollars per hour) and how much money they **earn** after working for five hours. Select the code cell below, then click the `▶Run` button to create the graph."
   ]
  },
  {
   "cell_type": "code",
   "execution_count": null,
   "metadata": {},
   "outputs": [],
   "source": [
    "import plotly.express as px\n",
    "\n",
    "wages = range(15,51,5)\n",
    "money = [i*5 for i in wages]\n",
    "\n",
    "px.line(x=wages, y=money, title='Money Earned After 5 Hours', labels={'x':'Wage (dollars per hour)', 'y':'Amount Earned (dollars)'}).update_traces(mode='markers+lines')"
   ]
  },
  {
   "cell_type": "markdown",
   "metadata": {},
   "source": [
    "That relationship is a linear function with a positive slope. Let's create a graph with a negative slope ($y = -x$)"
   ]
  },
  {
   "cell_type": "code",
   "execution_count": null,
   "metadata": {},
   "outputs": [],
   "source": [
    "x = range(-10, 5, 1)\n",
    "y = [-i for i in x]\n",
    "px.line(x=x, y=y, title='y vs. x (negative slope)').update_traces(mode='markers+lines')"
   ]
  },
  {
   "cell_type": "markdown",
   "metadata": {},
   "source": [
    "As well, let's create a visualization showing different slopes."
   ]
  },
  {
   "cell_type": "code",
   "execution_count": null,
   "metadata": {},
   "outputs": [],
   "source": [
    "import plotly.graph_objects as go\n",
    "fig = go.Figure()\n",
    "for slope in range(0, 6):\n",
    "    x = [0,1,2,3,4,5,6,7,8,9,10]\n",
    "    y = [i*slope for i in x]\n",
    "    fig.add_trace(go.Scatter(x=x, y=y, mode='lines', name='m = {}'.format(slope)))\n",
    "fig.update_yaxes(range=[0,10], title='y = mx').update_xaxes(range=[0,10]).update_layout(title='y vs. x with different slopes')\n",
    "fig.show()"
   ]
  },
  {
   "cell_type": "markdown",
   "metadata": {},
   "source": [
    "We can also see what a non-linear function would look like, for example $y = x^2$."
   ]
  },
  {
   "cell_type": "code",
   "execution_count": null,
   "metadata": {},
   "outputs": [],
   "source": [
    "x = range(-10, 11, 1)\n",
    "y = [i**2 for i in x]\n",
    "px.line(x=x, y=y, title='y vs. x').update_traces(mode='markers+lines')"
   ]
  },
  {
   "cell_type": "markdown",
   "metadata": {},
   "source": [
    "### Cartesian Plane\n",
    "\n",
    "Once we have established the independent ($x$) and dependent ($y$) variables in our function or data set, we are ready to set up a graph of their relationship. When graphing two variables, we use what is called a **Cartesian plane**. We can label the *origin* and the four **quadrants** on a Cartesian plane."
   ]
  },
  {
   "cell_type": "code",
   "execution_count": null,
   "metadata": {},
   "outputs": [],
   "source": [
    "x = [0,5,-5,-5,5]\n",
    "y = [0,5,5,-5,-5]\n",
    "text = ['Origin','Quadrant 1','Quadrant 2','Quadrant 3','Quadrant 4']\n",
    "fig = px.scatter(x=x, y=y, text=text, title='The Cartesian Plane')\n",
    "fig.update_xaxes(range=[-10,10]).update_yaxes(range=[-10,10]).update_traces(textposition='top center')\n",
    "fig.add_hline(y=0)\n",
    "fig.add_vline(x=0)\n",
    "fig.show()"
   ]
  },
  {
   "cell_type": "markdown",
   "metadata": {},
   "source": [
    "## **Conclusion**\n",
    "\n",
    "This notebook introduced graphing of two variables, and showed some examples of graphs generated using Python code and the [Plotly graphing library](https://plotly.com/python/)."
   ]
  },
  {
   "cell_type": "markdown",
   "metadata": {},
   "source": [
    "[![Callysto.ca License](https://github.com/callysto/curriculum-notebooks/blob/master/callysto-notebook-banner-bottom.jpg?raw=true)](https://github.com/callysto/curriculum-notebooks/blob/master/LICENSE.md)"
   ]
  }
 ],
 "metadata": {
  "kernelspec": {
   "display_name": "Python 3 (ipykernel)",
   "language": "python",
   "name": "python3"
  },
  "language_info": {
   "codemirror_mode": {
    "name": "ipython",
    "version": 3
   },
   "file_extension": ".py",
   "mimetype": "text/x-python",
   "name": "python",
   "nbconvert_exporter": "python",
   "pygments_lexer": "ipython3",
   "version": "3.9.12"
  },
  "latex_envs": {
   "LaTeX_envs_menu_present": true,
   "autoclose": false,
   "autocomplete": true,
   "bibliofile": "biblio.bib",
   "cite_by": "apalike",
   "current_citInitial": 1,
   "eqLabelWithNumbers": true,
   "eqNumInitial": 1,
   "hotkeys": {
    "equation": "Ctrl-E",
    "itemize": "Ctrl-I"
   },
   "labels_anchors": false,
   "latex_user_defs": false,
   "report_style_numbering": false,
   "user_envs_cfg": false
  },
  "nbTranslate": {
   "displayLangs": [
    "*"
   ],
   "hotkey": "alt-t",
   "langInMainMenu": true,
   "sourceLang": "en",
   "targetLang": "fr",
   "useGoogleTranslate": true
  },
  "vscode": {
   "interpreter": {
    "hash": "d1ca6d17674200220921376aaeb3d36cffe15ecab2470a9a5e7a456cdbf61425"
   }
  }
 },
 "nbformat": 4,
 "nbformat_minor": 4
}
