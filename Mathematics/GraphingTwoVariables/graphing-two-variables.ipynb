{
 "cells": [
  {
   "cell_type": "markdown",
   "metadata": {},
   "source": [
    "![Callysto.ca Banner](https://github.com/callysto/curriculum-notebooks/blob/master/callysto-notebook-banner-top.jpg?raw=true)\n",
    "\n",
    "<a href=\"https://hub.callysto.ca/jupyter/hub/user-redirect/git-pull?repo=https%3A%2F%2Fgithub.com%2Fcallysto%2Fcurriculum-notebooks&branch=master&subPath=Mathematics/GraphingTwoVariables/graphing-two-variables.ipynb&depth=1\" target=\"_parent\"><img src=\"https://raw.githubusercontent.com/callysto/curriculum-notebooks/master/open-in-callysto-button.svg?sanitize=true\" width=\"123\" height=\"24\" alt=\"Open in Callysto\"/></a>"
   ]
  },
  {
   "cell_type": "markdown",
   "metadata": {},
   "source": [
    "# Understanding the Relationship Between Two Variables Using Graphs\n",
    "\n",
    "## Introduction\n",
    "\n",
    "You may have heard the old saying, \"you get what you give\".  It means what you get is worth the same as what you give up for it.  But have you ever noticed that if you *change* what you give, it can *change* what you get?  Like when you eat more food, you get more energy, or when you spend more time on homework, you get better grades.\n",
    "\n",
    "In these examples, the things you get (or give) are like **variables**—they are amounts that are allowed to change.  Sometimes, changing the value of one variable can affect the value of another.  Think about this example:\n",
    "\n",
    "> ### Example  \n",
    "> Say you have a job that pays you 10\\\\$ per hour. The amount of money you earn after working 5 hours depends on this wage (5 hours)x(10\\\\$ per hour) = 50\\\\$. If your wage goes up to 12\\\\$ per hour, the amount of money you would make in 5 hours would change as well (5 hours)x(12\\\\$ per hour) = 60\\\\$. So, your wage is a *variable* that determines how much money you are going to make.  \n",
    "\n",
    "Variables are a part of our lives every day, but their exact effect can be hard to understand on their own.  A useful tool to help us see how variables affect results is called a **graph**, which is simply a visual way to show how variables are related.\n",
    "\n",
    "This lesson will focus on how we can use graphs to improve our understanding of how two variables interact with each other. There are many different types of graphs, but we will focus on line graphs in this lesson to show you how to work with **linear functions**. We will go through:\n",
    "- how to create a graph of a linear function \n",
    "- how to analyze some important features of a graph\n",
    "\n",
    "Take a look at the graph shown below. This is a line graph that shows the relationship between a person's wage and how much money they earn after working five hours."
   ]
  },
  {
   "cell_type": "code",
   "execution_count": null,
   "metadata": {},
   "outputs": [],
   "source": [
    "import plotly.express as px\n",
    "\n",
    "wages = range(15,51,5)\n",
    "money = [i*5 for i in wages]\n",
    "\n",
    "px.line(x=wages, y=money, title='Money Earned After 5 Hours', labels={'x':'Wage (dollars per hour)', 'y':'Money Earned (dollars)'}).update_traces(mode='markers+lines')"
   ]
  },
  {
   "cell_type": "markdown",
   "metadata": {},
   "source": [
    "<center> Figure 1: This graph shows the relationship between a person's wage, and the money they will make after working for 5 hours. </center>\n"
   ]
  },
  {
   "cell_type": "markdown",
   "metadata": {},
   "source": [
    "***\n",
    "\n",
    "## **Background**\n",
    "\n",
    "### **Algebraic Equations**\n",
    "\n",
    "In mathematics, the relationship between variables can be written as an **equation**. An equation is like a sentence—it uses an 'equals' sign to connect two expressions, like how a sentence uses a verb to connect a subject and an object.  For example, the relationship between wage and the amount of money made after working for 5 hours, as described above, can be written like this:\n",
    "\n",
    "\\begin{equation} \n",
    "\\label{1}\n",
    "\\rm MONEY\\: MADE = 5\\: HOURS \\times WAGE\n",
    "\\end{equation}\n",
    "\n",
    "Here is the same equation, only now it is expressed using **algebra** (with letters in place of the words):\n",
    "\n",
    "\\begin{equation} \n",
    "\\label{2}\n",
    "M = 5W\n",
    "\\end{equation}\n",
    "\n",
    "This is an example of an **algebraic equation**.  It compresses all the information about the variables into a very small space that's easy to work with. The $W$ corresponds to wage, and the $M$ corresponds to the resulting amount of money made.\n",
    "\n",
    "When creating an algebraic expression, the letters that you use for variables really doesn't matter. A good choice is to use the first letter of the word (like how we used $M$ for money and $W$ for wage). However, in mathematics, the default letters are $x$ and $y$, especially when a graph will be used.\n",
    "\n",
    "In most of the equations you'll see in class, the variables may not have any real-world meaning, but that's okay. Take a look at the examples below—each one is an algebraic equation.\n",
    "\n",
    ">#### **Examples**\n",
    ">\n",
    ">\\begin{equation}\n",
    "y = 3x + 9\n",
    "\\end{equation}\n",
    ">\n",
    ">\\begin{equation}\n",
    "y = -5x\n",
    "\\end{equation}\n",
    ">\n",
    ">\\begin{equation}\n",
    "y = \\frac{x}{4} + 3\n",
    "\\end{equation}\n",
    ">\n",
    ">\\begin{equation}\n",
    "x = \\frac{y + 7}{2}\n",
    "\\end{equation}\n",
    "***\n",
    "\n",
    "### **Linear Functions**\n",
    "\n",
    "If an equation says a variable is equal to something that doesn't involve that variable, that equation is called a **function**. For example, the equation $y=2x-3$ says that $y$ (a variable) is equal to $2x-3$ (which uses $x$, but not $y$). In this case, we say $y$ is a *function* of $x$.  A **linear function** has the form\n",
    "\n",
    "\\begin{equation}\n",
    "y = mx + b\n",
    "\\end{equation}\n",
    "\n",
    "where both $x$ and $y$ are variables, while $m$ and $b$ are **constants**. A *constant* is a number in an equation that does not change—in other words, it is not a variable. A constant can be any number—positive, negative, a fraction, etc.  It can even be zero!\n",
    "\n",
    "Take another look at the equations shown in the section above, these are all linear functions! When a linear function is used to create a graph, the graph will look like a straight line (hence the name *linear* function).\n"
   ]
  },
  {
   "cell_type": "code",
   "execution_count": null,
   "metadata": {},
   "outputs": [],
   "source": [
    "x = range(-10, 11, 1)\n",
    "y = [i**2 for i in x]\n",
    "px.line(x=x, y=y, title='y vs. x').update_traces(mode='markers+lines')"
   ]
  },
  {
   "cell_type": "code",
   "execution_count": null,
   "metadata": {},
   "outputs": [],
   "source": [
    "x = range(-10, 5, 1)\n",
    "y = [6-i for i in x]\n",
    "px.line(x=x, y=y, title='y vs. x').update_traces(mode='markers+lines')\n",
    "   "
   ]
  },
  {
   "cell_type": "markdown",
   "metadata": {},
   "source": [
    "Now that we know how linear functions can look, let's talk about how we can draw them on a graph!\n",
    "\n",
    "## **Creating a Graph**\n",
    "\n",
    "### **Independent and Dependent Variables**\n",
    "\n",
    "When you want to graph a linear function, you need to figure out which variable is **independent** and which one is **dependent**. The *independent* variable is the one that is allowed to change freely; the *dependent* variable is the one that responds to those changes—in other words, it *depends* on the independent variable. The two variables form an \"if-then\" pair: \"*IF* the independent variable is this, *THEN* the dependent variable must be that.\" The difference between the two types of variables may be difficult to understand at first, so here is an example that may help.\n",
    "***\n",
    ">#### **Example**\n",
    "Let's say you want to measure how many push-ups you can do in a certain amount of time. There are two variables here: the amount of time, and the number of push-ups you do in that time. In this scenario, you are able to freely change how much time you have to do push-ups. You could give yourself 30 seconds, an hour, or a day! Therefore, *time is the independent variable*. \n",
    "But the number of push-ups you are actually able to do *depends* on the amount of time you have to do them. If you give yourself more time, you can do more push-ups.  Therefore, the *dependent variable is the number of push-ups you do*. \n",
    "***\n",
    "When the two variables in an equation are $x$ and $y$, we usually treat $x$ as the independent variable, and $y$ as the dependent variable.\n",
    "***\n"
   ]
  },
  {
   "cell_type": "markdown",
   "metadata": {},
   "source": [
    "***\n",
    "### **The Cartesian Plane**\n",
    "\n",
    "Once we have established the independent and dependent variables in our linear function, we are ready to set up a graph of their relationship. When graphing two variables, we use what is called the **Cartesian Plane**. You have probably seen a graph on the Cartesian Plane before, but here is what it looks like:"
   ]
  },
  {
   "cell_type": "code",
   "execution_count": null,
   "metadata": {
    "scrolled": false
   },
   "outputs": [],
   "source": [
    "x = [0,5,-5,-5,5]\n",
    "y = [0,5,5,-5,-5]\n",
    "text = ['Origin','Quadrant 1','Quadrant 2','Quadrant 3','Quadrant 4']\n",
    "fig = px.scatter(x=x, y=y, text=text, title='The Cartesian Plane')\n",
    "fig.update_xaxes(range=[-10,10]).update_yaxes(range=[-10,10]).update_traces(textposition='top center')\n",
    "fig.show()"
   ]
  },
  {
   "cell_type": "markdown",
   "metadata": {},
   "source": [
    "<center> Figure 2: This is the standard layout for the Cartesian Plane, where you will plot all linear functions. The point where $x = 0$ and $y = 0$ is called the origin. </center>"
   ]
  },
  {
   "cell_type": "markdown",
   "metadata": {},
   "source": [
    "On the Cartesian Plane, there are two **axes**: the $x$ axis (horizontal), and the $y$ axis (vertical). When we want to graph a certain function, we label the $y$ axis with the dependent variable, and the $x$ axis with the independent variable. When you aren't given a specific name for what the independent and dependent variable represent, it is okay to just label the $x$ axis \"$X$\" and the $y$ axis \"$Y$\". \n",
    "\n",
    "When making a title for the graph, just describe what is being shown. Your title should allow whoever is looking at the graph to understand what is being shown. In most cases, you will describe the dependent variable as a function of the independent variable, or \"$Y$ as a Function of $X$\". \n",
    "\n",
    "The Cartesian Plane consists of four **quadrants**, or sections. The top right section, where both $x$ and $y$ are positive (+,+), is quadrant 1. Then going counter-clockwise, quadrant 2 is the section where $x$ is negative and $y$ is positive (-,+), in quadrant 3 both $x$ and $y$ are negative (-,-), and in quadrant 4, $x$ is positive and $y$ is negative (+,-).\n",
    "\n",
    "Now that we have established how a graph should look, let's talk about how we decide which values we want to plot on the graph!\n",
    "\n",
    "### **Finding the Data Points**\n",
    "\n",
    "The data points that are shown on a graph don't just appear out of nowhere; they can come from scientific observations, measurements, or mathematical relationships. When graphing on the Cartesian Plane, each data point has an $x$-value and a $y$-value (sometimes called an $x$-coordinate and a $y$-coordinate), and these values are what determine where the point will appear on the graph.\n",
    "\n",
    "The best way to describe how we find the $x$-value and $y$-value for each data point is through an example.\n",
    "\n",
    "***\n",
    "#### **Example:** Plot a graph of $y = 3x + 2$ with 5 data points, starting from $x = 1$ up to $x = 5$.\n",
    "\n",
    "To begin, we pick 5 $x$-values between $1$ and $5$. \n",
    "\n",
    "For simplicity, let's pick 1, 2, 3, 4, and 5.\n",
    "\n",
    "\\begin{array}{| c | c |}\n",
    "\\hline\n",
    "  X\\: Value & Y\\: Value  \\\\\n",
    "  \\hline\n",
    "  1 & ? \\\\\\hline\n",
    "  2 & ? \\\\\\hline\n",
    "  3 & ? \\\\\\hline\n",
    "  4 & ? \\\\\\hline\n",
    "  5 & ? \\\\\\hline\n",
    "\\end{array}\n",
    "\n",
    "Now we need to find the value of $y$ at each one of the chosen values for $x$. We can do this by plugging our chosen $x$-values into the equation that we have been given: $y = 3x + 2$.\n",
    "\n",
    "Let's take our first $x$-value, which is 1, and plug it into the equation:\n",
    "\n",
    "\\begin{equation} \n",
    "y = 3x + 2\n",
    "\\end{equation}\n",
    "\n",
    "\n",
    "\\begin{equation} \n",
    "y = 3(1) + 2\n",
    "\\end{equation}\n",
    "\\begin{equation}\n",
    "y = 3 + 2\n",
    "\\end{equation}\n",
    "\\begin{equation}\n",
    "y = 5\n",
    "\\end{equation}\n",
    "\n",
    "We now have the $y$-value of our first data point! When $x = 1$, $y = 5$. We would write this data point down as (1,5). Let's fill in the table so we can keep track of the data points we find:\n",
    "\n",
    "\\begin{array}{| c | c |}\n",
    "\\hline\n",
    "  X\\: Value  & Y\\: Value  \\\\\n",
    "  \\hline\n",
    "  1 & 5 \\\\\\hline\n",
    "  2 & ? \\\\\\hline\n",
    "  3 & ? \\\\\\hline\n",
    "  4 & ? \\\\\\hline\n",
    "  5 & ? \\\\\\hline\n",
    "\\end{array}\n",
    "\n",
    "\n",
    "In the section below, use the above method to find the remaining $y$ values."
   ]
  },
  {
   "cell_type": "markdown",
   "metadata": {},
   "source": [
    "Good job! Now that we have all of the data points, we are ready to plot them on the graph.\n",
    "\n",
    "\n",
    "### **Plotting the Data Points on the Graph**\n",
    "\n",
    "To plot our data points on a graph, we will need our Cartesian Plane, with the $x$-axis and $y$-axis labelled as follows:"
   ]
  },
  {
   "cell_type": "markdown",
   "metadata": {},
   "source": [
    "<center> Figure 3: The layout of our graph. As all of our data points have positive $x$ and $y$ values, we only need to focus on the first quadrant (top right corner).</center>\n",
    "\n",
    "Now, using our chart of data points, let's plot our first point. The $x$-value of our first point is 1, and the $y$-value is 5. So let's find the point on the graph where $x=1$ and $y=5$ and mark this point\n"
   ]
  },
  {
   "cell_type": "markdown",
   "metadata": {},
   "source": [
    "<center> Figure 4: Here is the location of our first data point.</center>"
   ]
  },
  {
   "cell_type": "markdown",
   "metadata": {},
   "source": [
    "That is your first data point!\n",
    "\n",
    "In the section below, use the above methods to create a graph and plot all of the data points.\n",
    "\n",
    "\\begin{array}{| c | c |}\n",
    "\\hline\n",
    "  X\\: Value & Y\\: Value \\\\\n",
    "  \\hline\n",
    "  1 & 5 \\\\\\hline\n",
    "  2 & 8 \\\\\\hline\n",
    "  3 & 11 \\\\\\hline\n",
    "  4 & 14 \\\\\\hline\n",
    "  5 & 17 \\\\\\hline\n",
    "\\end{array}"
   ]
  },
  {
   "cell_type": "markdown",
   "metadata": {},
   "source": [
    "If done correctly, your graph should look something like this:"
   ]
  },
  {
   "cell_type": "markdown",
   "metadata": {},
   "source": [
    "If the graph you made looks significantly different, try running the code segment again to re-try!\n",
    "\n",
    "\n",
    "Now that you know how to create a graph, let's talk about some of the important things that a graph can tell us.\n",
    "\n",
    "***"
   ]
  },
  {
   "cell_type": "markdown",
   "metadata": {},
   "source": [
    "**Features of a Linear Graph: Slope**\n",
    "\n",
    "An important characteristic of a linear function is **slope**. The *slope* of a function can be thought of as the steepness or the angle of the function as it appears on a graph. What it really represents is the **rate of change** as you move along the graph. \n",
    "\n",
    "That may sound complicated at first, but here is an example that might make it easier to understand what slope is.\n",
    "\n",
    "***\n",
    "\n",
    "> ### **Example**\n",
    "\n",
    "Say you have been given a set of data points describing how far a car has travelled in a given amount of time:\n",
    "\n",
    "\n",
    "\\begin{array}{| c | c |}\n",
    "\\hline\n",
    "  Time(seconds) & Distance Travelled(meters) \\\\\n",
    "  \\hline\n",
    "  0 & 0 \\\\\\hline\n",
    "  20 & 400 \\\\\\hline\n",
    "  40 & 800 \\\\\\hline\n",
    "  60 & 1200 \\\\\\hline\n",
    "  80 & 1600 \\\\\\hline\n",
    "  100 & 2000 \\\\\\hline\n",
    "  120 & 2400 \\\\\\hline\n",
    "  140 & 2800 \\\\\\hline\n",
    "  160 & 3200 \\\\\\hline\n",
    "  180 & 3600 \\\\\\hline\n",
    "  200 & 4000 \\\\\\hline\n",
    "\\end{array}\n",
    "\n",
    "\n",
    "If you want to find out how fast the car is travelling, you are really trying to find out how quickly the distance travelled increases, or rather, the **rate** at which it is changing. \n",
    "\n",
    "Let's set up a graph of this data to take a closer look.\n",
    "\n",
    "\n",
    "\n"
   ]
  },
  {
   "cell_type": "markdown",
   "metadata": {},
   "source": [
    "<center> Figure 6: This graph shows the distance a car travels after a given amount of time.</center>"
   ]
  },
  {
   "cell_type": "markdown",
   "metadata": {},
   "source": [
    "We want to find how fast the car is travelling. Knowing that speed is a measurement of distance over time, let's use the total distance travelled and the total amount of time to find the average speed of the car.\n",
    "From the graph, we can see that the car initially started at position 0 meters, and travelled a total of 4000 meters. We also know that the car started moving at time 0 seconds, and stopped moving after 200 seconds. Using this information, we can set up the following equations to find the speed of the car:\n",
    "\n",
    "\\begin{equation}\n",
    "Speed = \\frac{Total\\: Distance}{Total\\: Time}\n",
    "\\end{equation}\n",
    "\n",
    "and we know that:\n",
    "\n",
    "\\begin{equation}\n",
    "Total\\: Distance = Final\\: Distance - Initial\\: Distance\n",
    "\\end{equation}\n",
    "\\begin{equation}\n",
    "Total\\: Time = Final\\: Time - Initial\\: Time\n",
    "\\end{equation}\n",
    "\n",
    "so:\n",
    "\n",
    "\\begin{equation} \n",
    "Speed = \\frac{Final\\: Distance - Initial\\: Distance}{Final\\: Time - Initial\\: Time}\n",
    "\\end{equation}\n",
    "\n",
    "\\begin{equation} \n",
    "Speed = \\frac{4000m - 0m}{200s - 0s}\n",
    "\\end{equation}\n",
    "\n",
    "\\begin{equation}\n",
    "Speed = \\frac{4000m}{200s}\n",
    "\\end{equation}\n",
    "\n",
    "\\begin{equation} \n",
    " Speed = 20 m/s\n",
    "\\end{equation}\n",
    "\n",
    "\n",
    "\n",
    "From the equations above, we can see that the car travels 20 meters every second. While it may not be obvious, we just found the slope of the graph! By finding the average speed of the car, we identified the rate at which the dependent variable (Distance Travelled) changes with respect to the independent variable (Time).\n",
    "\n",
    "***\n",
    "\n",
    "\n",
    "When looking at a graph, the general equation used to find the slope of a linear function from one point: ($x_1$,$y_1$), to a second point: ($x_2$,$y_2$), is given as follows:\n",
    "\n",
    "\\begin{equation} \n",
    "Slope = \\frac{y_2 - y_1}{x_2 - x_1}\n",
    "\\end{equation}\n",
    "\n",
    "When looking at a linear function that has the form:\n",
    "\\begin{equation} \n",
    "y = mx + b\n",
    "\\end{equation}\n",
    "the value of the slope is the same as the value of $m$.\n",
    "\n",
    "Use the section below to see the effect that slope can have on a function."
   ]
  },
  {
   "cell_type": "code",
   "execution_count": null,
   "metadata": {},
   "outputs": [],
   "source": [
    "import plotly.graph_objects as go\n",
    "fig = go.Figure()\n",
    "for slope in range(0, 6):\n",
    "    x = [0,1,2,3,4,5,6,7,8,9,10]\n",
    "    y = [i*slope for i in x_list]\n",
    "    fig.add_trace(go.Scatter(x=x, y=y, mode='lines', name='m = {}'.format(slope)))\n",
    "fig.update_yaxes(range=[0,10], title='y = mx').update_xaxes(range=[0,10]).update_layout(title='y vs. x with different slopes')\n",
    "fig.show()"
   ]
  },
  {
   "cell_type": "markdown",
   "metadata": {},
   "source": [
    "<center> Figure 7: This graph shows the way in which slope can affect the shape of a function. The larger the slope, the \"steeper\" the graph is.</center>"
   ]
  },
  {
   "cell_type": "markdown",
   "metadata": {},
   "source": [
    "When dealing with a single linear function, the slope will be constant across the entire graph. However, if a graph consists of more than one linear function, the slope may change at some point. \n",
    "Take a look at the following graph to see what a graph with more than one linear function may look like:"
   ]
  },
  {
   "cell_type": "markdown",
   "metadata": {},
   "source": [
    "## **Conclusion**\n",
    "\n",
    "In this lesson, we have highlighted some of the many ways that a graph can help us understand the relationship between two variables in a linear function. Some of the important methods that you should remember include:\n",
    "\n",
    "- Defining a Linear Function\n",
    "- Identifying the Independent and Dependent Variables\n",
    "- Setting up a Graph on the Cartesian Plane\n",
    "- Creating and Plotting Data Points\n",
    "- Finding the slope of a graph\n",
    "\n",
    "Throughout your life, you will be presented with all sorts of statistics, data, charts and graphs. It is important that you have the skills required to analyze what a graph is trying to tell you, not just so you can pass your math class, but to enable you to make informed decisions when you need to consider how different variables can interact and affect results.\n",
    "\n"
   ]
  },
  {
   "cell_type": "markdown",
   "metadata": {},
   "source": [
    "[![Callysto.ca License](https://github.com/callysto/curriculum-notebooks/blob/master/callysto-notebook-banner-bottom.jpg?raw=true)](https://github.com/callysto/curriculum-notebooks/blob/master/LICENSE.md)"
   ]
  }
 ],
 "metadata": {
  "kernelspec": {
   "display_name": "Python 3.10.1 64-bit",
   "language": "python",
   "name": "python3"
  },
  "language_info": {
   "codemirror_mode": {
    "name": "ipython",
    "version": 3
   },
   "file_extension": ".py",
   "mimetype": "text/x-python",
   "name": "python",
   "nbconvert_exporter": "python",
   "pygments_lexer": "ipython3",
   "version": "3.10.1"
  },
  "latex_envs": {
   "LaTeX_envs_menu_present": true,
   "autoclose": false,
   "autocomplete": true,
   "bibliofile": "biblio.bib",
   "cite_by": "apalike",
   "current_citInitial": 1,
   "eqLabelWithNumbers": true,
   "eqNumInitial": 1,
   "hotkeys": {
    "equation": "Ctrl-E",
    "itemize": "Ctrl-I"
   },
   "labels_anchors": false,
   "latex_user_defs": false,
   "report_style_numbering": false,
   "user_envs_cfg": false
  },
  "nbTranslate": {
   "displayLangs": [
    "*"
   ],
   "hotkey": "alt-t",
   "langInMainMenu": true,
   "sourceLang": "en",
   "targetLang": "fr",
   "useGoogleTranslate": true
  },
  "vscode": {
   "interpreter": {
    "hash": "d1ca6d17674200220921376aaeb3d36cffe15ecab2470a9a5e7a456cdbf61425"
   }
  }
 },
 "nbformat": 4,
 "nbformat_minor": 2
}
