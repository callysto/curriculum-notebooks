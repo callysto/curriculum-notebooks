{
 "cells": [
  {
   "cell_type": "markdown",
   "metadata": {},
   "source": [
    "![](https://raw.githubusercontent.com/callysto/callysto-sample-notebooks/master/notebooks/images/Callysto_Notebook-Banner_Top_06.06.18.jpg)"
   ]
  },
  {
   "cell_type": "code",
   "execution_count": 31,
   "metadata": {},
   "outputs": [
    {
     "data": {
      "text/html": [
       "\n",
       "<script>\n",
       "  function code_toggle() {\n",
       "    if (code_shown){\n",
       "      $('div.input').hide('500');\n",
       "      $('#toggleButton').val('Show Code')\n",
       "    } else {\n",
       "      $('div.input').show('500');\n",
       "      $('#toggleButton').val('Hide Code')\n",
       "    }\n",
       "    code_shown = !code_shown\n",
       "  }\n",
       "\n",
       "  $( document ).ready(function(){\n",
       "    code_shown=false;\n",
       "    $('div.input').hide()\n",
       "  });\n",
       "</script>\n",
       "<form action=\"javascript:code_toggle()\"><input type=\"submit\" id=\"toggleButton\" value=\"Show Code\"></form>"
      ],
      "text/plain": [
       "<IPython.core.display.HTML object>"
      ]
     },
     "metadata": {},
     "output_type": "display_data"
    }
   ],
   "source": [
    "%%html\n",
    "\n",
    "<script>\n",
    "  function code_toggle() {\n",
    "    if (code_shown){\n",
    "      $('div.input').hide('500');\n",
    "      $('#toggleButton').val('Show Code')\n",
    "    } else {\n",
    "      $('div.input').show('500');\n",
    "      $('#toggleButton').val('Hide Code')\n",
    "    }\n",
    "    code_shown = !code_shown\n",
    "  }\n",
    "\n",
    "  $( document ).ready(function(){\n",
    "    code_shown=false;\n",
    "    $('div.input').hide()\n",
    "  });\n",
    "</script>\n",
    "<form action=\"javascript:code_toggle()\"><input type=\"submit\" id=\"toggleButton\" value=\"Show Code\"></form>"
   ]
  },
  {
   "cell_type": "code",
   "execution_count": 32,
   "metadata": {},
   "outputs": [
    {
     "data": {
      "application/javascript": [
       "\n",
       "            require.config({\n",
       "                paths: {\n",
       "                    ggb: \"https://cdn.geogebra.org/apps/deployggb\"\n",
       "                }\n",
       "            });\n",
       "\n",
       "            require([\"ggb\"]);\n",
       "        "
      ],
      "text/plain": [
       "<IPython.core.display.Javascript object>"
      ]
     },
     "metadata": {},
     "output_type": "display_data"
    }
   ],
   "source": [
    "from geogebra.ggb import *\n",
    "ggb = GGB()"
   ]
  },
  {
   "cell_type": "markdown",
   "metadata": {},
   "source": [
    "# Geometric Constructions\n",
    "![](./images/circles.svg)"
   ]
  },
  {
   "cell_type": "markdown",
   "metadata": {},
   "source": [
    "## Introduction\n",
    "\n",
    "A long time ago, there lived the ancient Greek mathematician, Euclid.\n",
    "The dates of his birth and death are not exactly known, but it is believed he lived between the years 325 - 270 BC.\n",
    "He lived in Alexandria, Egypt, at a time when Egypt was ruled by the Greeks, after Egypt was conquered by Alexander the Great.\n",
    "Euclid wrote the most successful math textbook of all time, the *Elements*.\n",
    "\n",
    "The *Elements* usn't just one book. It's actually a series of 13 books about geometry.\n",
    "Some of the books are about numbers, but the Greeks thought about numbers geometrically.\n",
    "For example, whereas we would say 2 \"divides\" 6, Euclid would say 2 \"measures\" 6.\n",
    "We say a prime number is a positive number divisble only by itself and 1.\n",
    "Euclid says a prime number is a number only \"measured\" by 1.\n",
    "When two numbers are multiplied together, Euclid calls this a \"plane\" number.\n",
    "Three numbers make a \"solid\" number.\n",
    "\n",
    "Euclid did something  monumental in the *Elements*.\n",
    "He assumed ten very basic facts (called \"postulates\" and \"common notions\"),\n",
    "and used these facts to prove hundreds more facts about geometry.\n",
    "For example, three of the things he assumed were\n",
    "\n",
    " * It is possible to draw a straight line between any two points (using a straightedge).\n",
    " * It is possible to draw a perfect circle with any center and radius (using a compass).\n",
    " * If two things are equal to a third thing, then those two things are equal to one another (If A = C and B = C, then A = B).\n",
    "\n",
    "He used these ten facts to prove an eleventh fact.\n",
    "Then he used these eleven to prove a twelfth.\n",
    "Then a thirteenth, a fourteenth, and so on.\n",
    "From ten facts, he proved more and more complex facts.\n",
    "In total, he proved more than 400 more facts (or \"propositions\") about geometry.\n",
    "\n",
    "<img src=\"./images/elements.jpg\" title=\"Source: Folger Shakespeare Library\"/>\n",
    "\n",
    "The *Elements* was so successful that it was used as a mathematics textbook for more than 2000 years, until the 1900's.\n",
    "Today, different textbooks are used in schools, but many of the lessons are the same.\n",
    "\n",
    "The goal of this notebook is to learn how to perform many different geometric constructions\n",
    "using only a straightedge and compass.\n",
    "The goal is to learn how to draw\n",
    "\n",
    " * an equilateral triangle;\n",
    " * a perpendicular bisector;\n",
    " * a perpendicular line through a point;\n",
    " * a parallel line through a point;\n",
    " * an angle bisector.\n",
    "\n",
    "These are some of the first topics covered in Euclid's *Elements*.\n",
    "The *Elements* also teaches why these techniques work.\n",
    "This notebook will also show why some of these constructions work.\n",
    "However, since schools teach things in different orders,\n",
    "showing why might rely on a few facts you have not learned yet.\n",
    "The next section goes over these facts."
   ]
  },
  {
   "cell_type": "markdown",
   "metadata": {},
   "source": [
    "## Background\n",
    "\n",
    "![](./images/compass.jpg)\n",
    "\n",
    "A **straightedge** is a long straight object used to draw straight lines.\n",
    "A ruler is a straightedge, but a straightedge does not always have markings on it with which to measure distance.\n",
    "\n",
    "A **compass** is a tool used to draw circles.\n",
    "(Not to be confused with the other kind of compass used to determine direction.)\n",
    "One end of the compass has a sharp point.\n",
    "This point can be stuck into a surface so that that end does not move while drawing the circle.\n",
    "The other end holds a pencil.\n",
    "This end swings around to draw the circle while the other end stays still.\n",
    "The radius of the circle can be adjusted with a hinge at the top of the compass.\n",
    "\n",
    "The word *congruent* means \"in agreement with\".\n",
    "In mathematics, we sometimes use the word congruent when things are very similar.\n",
    "Two triangles are **congruent** if you can get one triangle by sliding, rotating, or flipping the other triangle.\n",
    "It means that one triangle can be placed on top of the other triangle to make a perfect fit.\n"
   ]
  },
  {
   "cell_type": "code",
   "execution_count": 33,
   "metadata": {},
   "outputs": [
    {
     "data": {
      "text/html": [
       "<div id=\"ggb_0_0e\"></div>"
      ],
      "text/plain": [
       "<IPython.core.display.HTML object>"
      ]
     },
     "metadata": {},
     "output_type": "display_data"
    },
    {
     "data": {
      "application/javascript": [
       "var ggb_0_0e = new GGBApplet({\"filename\": \"./geogebra/congruent-triangles-animation.ggb\", \"height\": 400, \"showResetIcon\": true, \"enableRightClick\": false, \"enableShiftDragZoom\": false}, \"ggb_0_0e\", false); ggb_0_0e.inject(); "
      ],
      "text/plain": [
       "<IPython.core.display.Javascript object>"
      ]
     },
     "metadata": {},
     "output_type": "display_data"
    }
   ],
   "source": [
    "ggb.file(\"./geogebra/congruent-triangles-animation.ggb\") \\\n",
    "    .options(height = 400, \\\n",
    "        showResetIcon = True, \\\n",
    "        enableRightClick = False, \\\n",
    "        enableShiftDragZoom = False) \\\n",
    "    .draw()"
   ]
  },
  {
   "cell_type": "markdown",
   "metadata": {},
   "source": [
    "When two triangles are congruent, then they have the same side lengths and the same angles.\n",
    "If you know that the two triangles have the same side lengths and the same angles, then you know they are congruent.\n",
    "However, you can determine whether or not they are congruent with less information than that.\n",
    "\n",
    "The **side-side-side theorem** (or **SSS theorem**) says that if you have two triangles,\n",
    "and the three sides of one triangle are the same lengths as the sides of the other triangle,\n",
    "then those triangles are congruent.\n",
    "All of their angles are equal too.\n",
    "\n",
    "Another way to think of this is that if you have three sticks of various lengths,\n",
    "and you try to make a triangle out of them,\n",
    "there is only one triangle you can make.\n",
    "The angles will always be the same.\n",
    "This is not true for quadrilaterals.\n",
    "If I have four sticks, each 1 metre long, I can make a square,\n",
    "or I can make all sorts of different parallelograms.\n",
    "\n",
    "![](./images/sss.svg)\n",
    "\n",
    "The **side-angle-side theorem** (or **SAS theorem**) says that\n",
    "if two triangles have two sides in common and the angle between these sides in common,\n",
    "then they are congruent.\n",
    "What this means is that after I draw two sides of a triangle,\n",
    "if I'm not allowed to change those sides anymore,\n",
    "there is only one way I can finish drawing the triangle.\n",
    "\n",
    "The **angle-side-angle theorem** (or **ASA theorem**) says that\n",
    "if two triangles have two angles in common and the side between these angles in common,\n",
    "then they are congruent.\n",
    "Here is another way to interpret that.\n",
    "Imagine you draw one side of a triangle.\n",
    "Then you start to draw both of the corners on that side.\n",
    "After you have chosen how sharp to make those corners, there is only one way to finish drawing the triangle."
   ]
  },
  {
   "cell_type": "code",
   "execution_count": 34,
   "metadata": {},
   "outputs": [
    {
     "data": {
      "text/html": [
       "<div id=\"ggb_1_0e\"></div>"
      ],
      "text/plain": [
       "<IPython.core.display.HTML object>"
      ]
     },
     "metadata": {},
     "output_type": "display_data"
    },
    {
     "data": {
      "application/javascript": [
       "var ggb_1_0e = new GGBApplet({\"filename\": \"./geogebra/sas-asa-animation.ggb\", \"height\": 400, \"showResetIcon\": true, \"enableRightClick\": false, \"enableShiftDragZoom\": false}, \"ggb_1_0e\", false); ggb_1_0e.inject(); "
      ],
      "text/plain": [
       "<IPython.core.display.Javascript object>"
      ]
     },
     "metadata": {},
     "output_type": "display_data"
    }
   ],
   "source": [
    "ggb.file(\"./geogebra/sas-asa-animation.ggb\") \\\n",
    "    .options(height = 400, \\\n",
    "        showResetIcon = True, \\\n",
    "        enableRightClick = False, \\\n",
    "        enableShiftDragZoom = False) \\\n",
    "    .draw()"
   ]
  },
  {
   "cell_type": "markdown",
   "metadata": {},
   "source": [
    "## How to Draw an Equilateral Triangle\n",
    "\n",
    "An **equilateral triangle** is a triangle whose sides are all the same length.\n",
    "In an equilateral triangle, all of the angles are the same, 60 degrees.\n",
    "To draw an equilateral triangle, you would likely draw its three sides one by one.\n",
    "Without a protractor, how can you be sure you are drawing your lines at the correct angles?\n",
    "Without a ruler, how can you be sure your lines are all of the correct length?\n",
    "The very first \"Proposition\" in Euclid's *Elements* shows how to draw a perfect equilateral triangle using a straightedge and compass.\n",
    "A straightedge lets you draw a perfectly straight line.\n",
    "A compass lets you draw a perfect circle.\n",
    "If you can draw a perfect line and a perfect circle, then you can draw a perfect equilateral triangle.\n",
    "\n",
    "The process starts by assuming the first side of the triangle has already been drawn.\n",
    "So we start with a line segment $AB$.\n",
    "Our goal is to draw an equilateral triangle whose base is $AB$.\n",
    "In the applet below, the left side shows what we start with.\n",
    "The right side shows what we want to make.\n",
    "You can move the starting points around and see how the shape on the right changes."
   ]
  },
  {
   "cell_type": "code",
   "execution_count": 35,
   "metadata": {},
   "outputs": [
    {
     "data": {
      "text/html": [
       "<div id=\"ggb_2_0e\"></div>"
      ],
      "text/plain": [
       "<IPython.core.display.HTML object>"
      ]
     },
     "metadata": {},
     "output_type": "display_data"
    },
    {
     "data": {
      "application/javascript": [
       "var ggb_2_0e = new GGBApplet({\"filename\": \"./geogebra/equilateral-triangle-preview.ggb\", \"height\": 400, \"appName\": \"graphing2\", \"showResetIcon\": true, \"enableRightClick\": false, \"enableShiftDragZoom\": false}, \"ggb_2_0e\", false); ggb_2_0e.inject(); "
      ],
      "text/plain": [
       "<IPython.core.display.Javascript object>"
      ]
     },
     "metadata": {},
     "output_type": "display_data"
    }
   ],
   "source": [
    "ggb.file(\"./geogebra/equilateral-triangle-preview.ggb\") \\\n",
    "    .options(height = 400, \\\n",
    "        appName = \"graphing2\", \\\n",
    "        showResetIcon = True, \\\n",
    "        enableRightClick = False, \\\n",
    "        enableShiftDragZoom = False) \\\n",
    "    .draw()"
   ]
  },
  {
   "cell_type": "markdown",
   "metadata": {},
   "source": [
    "Here is one way to do this.\n",
    "We will draw two circles, one centered on $A$ and one on $B$.\n",
    "We will make each circle big enough to touch the other point.\n",
    "These circles will intersect in a couple of points.\n",
    "We pick one of the points (it doesn't matter which) and call it $C$.\n",
    "Then we connect the points $A$, $B$, and $C$ to make a triangle.\n",
    "It turns out, this triangle is equilateral.\n",
    "\n",
    "The applet below shows how this is done."
   ]
  },
  {
   "cell_type": "code",
   "execution_count": 36,
   "metadata": {},
   "outputs": [
    {
     "data": {
      "text/html": [
       "<div id=\"ggb_3_0e\"></div>"
      ],
      "text/plain": [
       "<IPython.core.display.HTML object>"
      ]
     },
     "metadata": {},
     "output_type": "display_data"
    },
    {
     "data": {
      "application/javascript": [
       "var ggb_3_0e = new GGBApplet({\"filename\": \"./geogebra/equilateral-triangle-construction.ggb\", \"height\": 600, \"showResetIcon\": true, \"enableRightClick\": false, \"enableShiftDragZoom\": false}, \"ggb_3_0e\", false); ggb_3_0e.inject(); "
      ],
      "text/plain": [
       "<IPython.core.display.Javascript object>"
      ]
     },
     "metadata": {},
     "output_type": "display_data"
    }
   ],
   "source": [
    "ggb.file(\"./geogebra/equilateral-triangle-construction.ggb\") \\\n",
    "    .options(height = 600, \\\n",
    "        showResetIcon = True, \\\n",
    "        enableRightClick = False, \\\n",
    "        enableShiftDragZoom = False) \\\n",
    "    .draw()"
   ]
  },
  {
   "cell_type": "markdown",
   "metadata": {},
   "source": [
    "If we connected $A$, $B$, and $D$ instead, we would still get an equilater triangle, just upside-down.\n",
    "\n",
    "How do we *know* that $\\triangle ABC$ is equilateral?\n",
    "It's not just because we said so.\n",
    "We can *prove* it.\n",
    "\n",
    "To prove it, we have to give an argument that shows the three sides are equal in length.\n",
    "The argument, in a nutshell, is like this.\n",
    "The length of each side of the triangle is equal to the radius of one of the circles.\n",
    "However, both circles have the same radius.\n",
    "That means all sides of the triangle have the same length,\n",
    "so the triangle is equilateral."
   ]
  },
  {
   "cell_type": "code",
   "execution_count": 37,
   "metadata": {},
   "outputs": [
    {
     "data": {
      "text/html": [
       "<div id=\"ggb_4_0e\"></div>"
      ],
      "text/plain": [
       "<IPython.core.display.HTML object>"
      ]
     },
     "metadata": {},
     "output_type": "display_data"
    },
    {
     "data": {
      "application/javascript": [
       "var ggb_4_0e = new GGBApplet({\"filename\": \"./geogebra/equilateral-triangle-proof.ggb\", \"height\": 600, \"showResetIcon\": true, \"enableRightClick\": false, \"enableShiftDragZoom\": false}, \"ggb_4_0e\", false); ggb_4_0e.inject(); "
      ],
      "text/plain": [
       "<IPython.core.display.Javascript object>"
      ]
     },
     "metadata": {},
     "output_type": "display_data"
    }
   ],
   "source": [
    "ggb.file(\"./geogebra/equilateral-triangle-proof.ggb\") \\\n",
    "    .options(height = 600, \\\n",
    "        showResetIcon = True, \\\n",
    "        enableRightClick = False, \\\n",
    "        enableShiftDragZoom = False) \\\n",
    "    .draw()"
   ]
  },
  {
   "cell_type": "markdown",
   "metadata": {},
   "source": [
    "## Angle Bisector\n",
    "\n",
    "The verb \"bisect\" comes from the Latin prefix *bi*-, which means \"two\", and *secare*, which means \"to cut\".\n",
    "So to bisect something means to cut it in two.\n",
    "In geometry, when we say that something has been bisected, we mean it has been cut into two *equal* pieces.\n",
    "An **angle bisector** is a line that cuts an angle into two equal halves.\n",
    "Next we will learn how to bisect an angle.\n",
    "\n",
    "Suppose we start with the three points $A$, $B$, and $C$.\n",
    "We can draw the infinite lines from $A$ to $B$ and from $A$ to $C$.\n",
    "Together, they make an angle $\\angle BAC$.\n",
    "How can we draw a line through $A$ that divides the angle $\\angle BAC$ into two equal halves?\n",
    "\n",
    "In the applet below, the left side shows the points and lines we start with.\n",
    "The right side shows the angle bisector we will learn to make."
   ]
  },
  {
   "cell_type": "code",
   "execution_count": 38,
   "metadata": {},
   "outputs": [
    {
     "data": {
      "text/html": [
       "<div id=\"ggb_5_0e\"></div>"
      ],
      "text/plain": [
       "<IPython.core.display.HTML object>"
      ]
     },
     "metadata": {},
     "output_type": "display_data"
    },
    {
     "data": {
      "application/javascript": [
       "var ggb_5_0e = new GGBApplet({\"filename\": \"./geogebra/angle-bisector-preview.ggb\", \"height\": 400, \"appName\": \"graphing2\", \"showResetIcon\": true, \"enableRightClick\": false, \"enableShiftDragZoom\": false}, \"ggb_5_0e\", false); ggb_5_0e.inject(); "
      ],
      "text/plain": [
       "<IPython.core.display.Javascript object>"
      ]
     },
     "metadata": {},
     "output_type": "display_data"
    }
   ],
   "source": [
    "ggb.file(\"./geogebra/angle-bisector-preview.ggb\") \\\n",
    "    .options(height = 400, \\\n",
    "        appName = \"graphing2\", \\\n",
    "        showResetIcon = True, \\\n",
    "        enableRightClick = False, \\\n",
    "        enableShiftDragZoom = False) \\\n",
    "    .draw()"
   ]
  },
  {
   "cell_type": "markdown",
   "metadata": {},
   "source": [
    "The next applet shows how it is done."
   ]
  },
  {
   "cell_type": "code",
   "execution_count": 39,
   "metadata": {},
   "outputs": [
    {
     "data": {
      "text/html": [
       "<div id=\"ggb_6_0e\"></div>"
      ],
      "text/plain": [
       "<IPython.core.display.HTML object>"
      ]
     },
     "metadata": {},
     "output_type": "display_data"
    },
    {
     "data": {
      "application/javascript": [
       "var ggb_6_0e = new GGBApplet({\"filename\": \"./geogebra/angle-bisector-construction.ggb\", \"height\": 600, \"showResetIcon\": true, \"enableRightClick\": false, \"enableShiftDragZoom\": false}, \"ggb_6_0e\", false); ggb_6_0e.inject(); "
      ],
      "text/plain": [
       "<IPython.core.display.Javascript object>"
      ]
     },
     "metadata": {},
     "output_type": "display_data"
    }
   ],
   "source": [
    "ggb.file(\"./geogebra/angle-bisector-construction.ggb\") \\\n",
    "    .options(height = 600, \\\n",
    "        showResetIcon = True, \\\n",
    "        enableRightClick = False, \\\n",
    "        enableShiftDragZoom = False) \\\n",
    "    .draw()"
   ]
  },
  {
   "cell_type": "markdown",
   "metadata": {},
   "source": [
    "We drew a circle around $A$.\n",
    "This circle intersected each of the lines we started with at the point $D$ and $E$.\n",
    "What is special about these points is that they are both equally far from $A$.\n",
    "Their distance from $A$ is equal to the radius of the circle we drew.\n",
    "\n",
    "Hopefully, the next thing we did looks familiar.\n",
    "We drew the circle centered on $D$ with radius $DE$.\n",
    "We also drew the circle centered on $E$ with the same radius.\n",
    "These two circles intersect in two places, and we chose one of them to call $F$.\n",
    "This is *exactly like the first few steps of building an equilateral triangle*.\n",
    "If we draw the triangle $\\triangle DEF$, it is an equilateral triangle.\n",
    "This is how equilateral triangles help us make angle bisectors.\n",
    "This is one example of how Euclid used easier constructions to make harder ones.\n",
    "\n",
    "I have said that the line we drew bisects the starting angle.\n",
    "How can this be proven?\n",
    "To show the angle was really bisected,\n",
    "we need to argue that both angles $\\angle BAF$ and $\\angle CAF$ are equal.\n",
    "The applet below gives one argument.\n",
    "It uses the side-side-side theorem."
   ]
  },
  {
   "cell_type": "code",
   "execution_count": 40,
   "metadata": {},
   "outputs": [
    {
     "data": {
      "text/html": [
       "<div id=\"ggb_7_0e\"></div>"
      ],
      "text/plain": [
       "<IPython.core.display.HTML object>"
      ]
     },
     "metadata": {},
     "output_type": "display_data"
    },
    {
     "data": {
      "application/javascript": [
       "var ggb_7_0e = new GGBApplet({\"filename\": \"./geogebra/angle-bisector-proof.ggb\", \"height\": 600, \"showResetIcon\": true, \"enableRightClick\": false, \"enableShiftDragZoom\": false}, \"ggb_7_0e\", false); ggb_7_0e.inject(); "
      ],
      "text/plain": [
       "<IPython.core.display.Javascript object>"
      ]
     },
     "metadata": {},
     "output_type": "display_data"
    }
   ],
   "source": [
    "ggb.file(\"./geogebra/angle-bisector-proof.ggb\") \\\n",
    "    .options(height = 600, \\\n",
    "        showResetIcon = True, \\\n",
    "        enableRightClick = False, \\\n",
    "        enableShiftDragZoom = False) \\\n",
    "    .draw()"
   ]
  },
  {
   "cell_type": "markdown",
   "metadata": {},
   "source": [
    "## Perpendicular Bisector\n",
    "\n",
    "We just learned how to cut an angle into two equal halves with only a straightedge and compass.\n",
    "We can also cut a line segment into two equal halves.\n",
    "A **perpendicular bisector** is a line that is perpendicular to a line segment and cuts it into two equal halves.\n",
    "\n",
    "Suppose we start off with a line segment $AB$.\n",
    "Using only a straightedge and compass,\n",
    "how can draw a line that is perpendicular to $AB$ and cuts $AB$ into two equal halves?\n"
   ]
  },
  {
   "cell_type": "code",
   "execution_count": 41,
   "metadata": {},
   "outputs": [
    {
     "data": {
      "text/html": [
       "<div id=\"ggb_8_0e\"></div>"
      ],
      "text/plain": [
       "<IPython.core.display.HTML object>"
      ]
     },
     "metadata": {},
     "output_type": "display_data"
    },
    {
     "data": {
      "application/javascript": [
       "var ggb_8_0e = new GGBApplet({\"filename\": \"./geogebra/perpendicular-bisector-preview.ggb\", \"height\": 400, \"appName\": \"graphing2\", \"showResetIcon\": true, \"enableRightClick\": false, \"enableShiftDragZoom\": false}, \"ggb_8_0e\", false); ggb_8_0e.inject(); "
      ],
      "text/plain": [
       "<IPython.core.display.Javascript object>"
      ]
     },
     "metadata": {},
     "output_type": "display_data"
    }
   ],
   "source": [
    "ggb.file(\"./geogebra/perpendicular-bisector-preview.ggb\") \\\n",
    "    .options(height = 400, \\\n",
    "        appName = \"graphing2\", \\\n",
    "        showResetIcon = True, \\\n",
    "        enableRightClick = False, \\\n",
    "        enableShiftDragZoom = False) \\\n",
    "    .draw()"
   ]
  },
  {
   "cell_type": "markdown",
   "metadata": {},
   "source": [
    "It is very easy to draw a perpendicular bisector with a straightedge and compass.\n",
    "The first few steps are the same as drawing an equilateral triangle.\n",
    "Once again, we use an earlier technique to perform the newer technique.\n",
    "We start by drawing the same two circles as if we were about to draw an equilateral triangle.\n",
    "These circles intersect at two points, just like before.\n",
    "This time we connect those two points by a line.\n",
    "That line is the perpendicular bisector.\n"
   ]
  },
  {
   "cell_type": "code",
   "execution_count": 42,
   "metadata": {},
   "outputs": [
    {
     "data": {
      "text/html": [
       "<div id=\"ggb_9_0e\"></div>"
      ],
      "text/plain": [
       "<IPython.core.display.HTML object>"
      ]
     },
     "metadata": {},
     "output_type": "display_data"
    },
    {
     "data": {
      "application/javascript": [
       "var ggb_9_0e = new GGBApplet({\"filename\": \"./geogebra/perpendicular-bisector-construction.ggb\", \"height\": 600, \"showResetIcon\": true, \"enableRightClick\": false, \"enableShiftDragZoom\": false}, \"ggb_9_0e\", false); ggb_9_0e.inject(); "
      ],
      "text/plain": [
       "<IPython.core.display.Javascript object>"
      ]
     },
     "metadata": {},
     "output_type": "display_data"
    }
   ],
   "source": [
    "ggb.file(\"./geogebra/perpendicular-bisector-construction.ggb\") \\\n",
    "    .options(height = 600, \\\n",
    "        showResetIcon = True, \\\n",
    "        enableRightClick = False, \\\n",
    "        enableShiftDragZoom = False) \\\n",
    "    .draw()"
   ]
  },
  {
   "cell_type": "markdown",
   "metadata": {},
   "source": [
    "Euclid's instructions in the *Elements* were different.\n",
    "He said to draw the equilateral triangle $\\triangle ABC$ like we learned to earlier.\n",
    "Then he said to draw the angle bisector of the top of triangle, $\\angle ACB$.\n",
    "He used equilateral triangles to make angle bisectors.\n",
    "Then he used both equilateral triangles and angle bisectors to make perpendicular bisectors.\n",
    "Harder and harder things from easier things.\n",
    "This is a lot more work than we did!\n",
    "We took a shortcut.\n",
    "All we did was draw two circles and a line.\n",
    "\n",
    "The difference is that Euclid wanted more than to tell us how to make a perpendicular bisector.\n",
    "He wanted to *prove* it was correct.\n",
    "We took a shortcut in our construction,\n",
    "but Euclid's way gave him a shortcut to his proof.\n",
    "\n",
    "The applet below gives a proof of why our construction works.\n",
    "I also took a shortcut in the proof, or else the argument is very long.\n",
    "In the third step, I said the line $CD$ bisects the angle $\\angle ACB$.\n",
    "Here is why.\n",
    "If we follow the instructions above to bisect $\\angle ACB$,\n",
    "the first few steps are to find points equally far from $C$.\n",
    "However, $A$ and $B$ are already equally far from $C$!\n",
    "If we just use $A$ and $B$ instead of looking for new points,\n",
    "then follow the rest of the steps, we get exactly the line $CD$."
   ]
  },
  {
   "cell_type": "code",
   "execution_count": 43,
   "metadata": {},
   "outputs": [
    {
     "data": {
      "text/html": [
       "<div id=\"ggb_10_0e\"></div>"
      ],
      "text/plain": [
       "<IPython.core.display.HTML object>"
      ]
     },
     "metadata": {},
     "output_type": "display_data"
    },
    {
     "data": {
      "application/javascript": [
       "var ggb_10_0e = new GGBApplet({\"filename\": \"./geogebra/perpendicular-bisector-proof.ggb\", \"height\": 600, \"showResetIcon\": true, \"enableRightClick\": false, \"enableShiftDragZoom\": false}, \"ggb_10_0e\", false); ggb_10_0e.inject(); "
      ],
      "text/plain": [
       "<IPython.core.display.Javascript object>"
      ]
     },
     "metadata": {},
     "output_type": "display_data"
    }
   ],
   "source": [
    "ggb.file(\"./geogebra/perpendicular-bisector-proof.ggb\") \\\n",
    "    .options(height = 600, \\\n",
    "        showResetIcon = True, \\\n",
    "        enableRightClick = False, \\\n",
    "        enableShiftDragZoom = False) \\\n",
    "    .draw()"
   ]
  },
  {
   "cell_type": "markdown",
   "metadata": {},
   "source": [
    "## Perpendicular Line\n",
    "\n",
    "We have seen how to construct the perpendicular bisector of a line segment.\n",
    "The perpendicular bisector cuts the line segment exactly halfway between the two endpoints.\n",
    "Now we will look at a different but similar scenario.\n",
    "\n",
    "Our new scenario is this.\n",
    "We have a line $AB$ and a point $C$ somewhere on the line.\n",
    "The point $C$ could be between $A$ and $B$ but it doesn't have to be.\n",
    "Our goal is to make a line that is perpendicular to $AB$ and passes through the point $C$.\n"
   ]
  },
  {
   "cell_type": "code",
   "execution_count": 44,
   "metadata": {},
   "outputs": [
    {
     "data": {
      "text/html": [
       "<div id=\"ggb_11_0e\"></div>"
      ],
      "text/plain": [
       "<IPython.core.display.HTML object>"
      ]
     },
     "metadata": {},
     "output_type": "display_data"
    },
    {
     "data": {
      "application/javascript": [
       "var ggb_11_0e = new GGBApplet({\"filename\": \"./geogebra/perpendicular-line-1-preview.ggb\", \"height\": 400, \"appName\": \"graphing2\", \"showResetIcon\": true, \"enableRightClick\": false, \"enableShiftDragZoom\": false}, \"ggb_11_0e\", false); ggb_11_0e.inject(); "
      ],
      "text/plain": [
       "<IPython.core.display.Javascript object>"
      ]
     },
     "metadata": {},
     "output_type": "display_data"
    }
   ],
   "source": [
    "ggb.file(\"./geogebra/perpendicular-line-1-preview.ggb\") \\\n",
    "    .options(height = 400, \\\n",
    "        appName = \"graphing2\", \\\n",
    "        showResetIcon = True, \\\n",
    "        enableRightClick = False, \\\n",
    "        enableShiftDragZoom = False) \\\n",
    "    .draw()"
   ]
  },
  {
   "cell_type": "markdown",
   "metadata": {},
   "source": [
    "It turns out this is easy to do after we've learned how to draw a perpendicular bisector.\n",
    "The trick is to find two points on the line $AB$ that are equally far from $C$.\n",
    "Those two points make a line segment.\n",
    "Then we just find the perpendicular bisector of that line segment.\n",
    "Okay, but how do we find two points on the line equally far from $C$?\n",
    "By drawing a circle around $C$!"
   ]
  },
  {
   "cell_type": "code",
   "execution_count": 45,
   "metadata": {},
   "outputs": [
    {
     "data": {
      "text/html": [
       "<div id=\"ggb_12_0e\"></div>"
      ],
      "text/plain": [
       "<IPython.core.display.HTML object>"
      ]
     },
     "metadata": {},
     "output_type": "display_data"
    },
    {
     "data": {
      "application/javascript": [
       "var ggb_12_0e = new GGBApplet({\"filename\": \"./geogebra/perpendicular-line-1-construction.ggb\", \"height\": 600, \"showResetIcon\": true, \"enableRightClick\": false, \"enableShiftDragZoom\": true}, \"ggb_12_0e\", false); ggb_12_0e.inject(); "
      ],
      "text/plain": [
       "<IPython.core.display.Javascript object>"
      ]
     },
     "metadata": {},
     "output_type": "display_data"
    }
   ],
   "source": [
    "ggb.file(\"./geogebra/perpendicular-line-1-construction.ggb\") \\\n",
    "    .options(height = 600, \\\n",
    "        showResetIcon = True, \\\n",
    "        enableRightClick = False, \\\n",
    "        enableShiftDragZoom = True) \\\n",
    "    .draw()"
   ]
  },
  {
   "cell_type": "markdown",
   "metadata": {},
   "source": [
    "What if we make the scenario a little bit more?\n",
    "Now, let's suppose the point $C$ is not even on the line $AB$.\n",
    "It could be floating off in space somewhere next to the line.\n",
    "How can we draw a line that is perpendicular to the line $AB$ and passes through the point $C$?"
   ]
  },
  {
   "cell_type": "code",
   "execution_count": 46,
   "metadata": {},
   "outputs": [
    {
     "data": {
      "text/html": [
       "<div id=\"ggb_13_0e\"></div>"
      ],
      "text/plain": [
       "<IPython.core.display.HTML object>"
      ]
     },
     "metadata": {},
     "output_type": "display_data"
    },
    {
     "data": {
      "application/javascript": [
       "var ggb_13_0e = new GGBApplet({\"filename\": \"./geogebra/perpendicular-line-2-preview.ggb\", \"height\": 400, \"appName\": \"graphing2\", \"showResetIcon\": true, \"enableRightClick\": false, \"enableShiftDragZoom\": false}, \"ggb_13_0e\", false); ggb_13_0e.inject(); "
      ],
      "text/plain": [
       "<IPython.core.display.Javascript object>"
      ]
     },
     "metadata": {},
     "output_type": "display_data"
    }
   ],
   "source": [
    "ggb.file(\"./geogebra/perpendicular-line-2-preview.ggb\") \\\n",
    "    .options(height = 400, \\\n",
    "        appName = \"graphing2\", \\\n",
    "        showResetIcon = True, \\\n",
    "        enableRightClick = False, \\\n",
    "        enableShiftDragZoom = False) \\\n",
    "    .draw()"
   ]
  },
  {
   "cell_type": "markdown",
   "metadata": {},
   "source": [
    "The trick is just like before.\n",
    "We have to find two points on the line that are equally far from $C$.\n",
    "Those two points make a line segment.\n",
    "Then we just have to draw the perpendicular bisector of that line segment.\n",
    "\n",
    "How do we find two points on the line equally far from $C$?\n",
    "Once again, we draw a circle around $C$.\n",
    "We just have to make sure to draw the circle big enough so that it actually reaches the line."
   ]
  },
  {
   "cell_type": "code",
   "execution_count": 47,
   "metadata": {},
   "outputs": [
    {
     "data": {
      "text/html": [
       "<div id=\"ggb_14_0e\"></div>"
      ],
      "text/plain": [
       "<IPython.core.display.HTML object>"
      ]
     },
     "metadata": {},
     "output_type": "display_data"
    },
    {
     "data": {
      "application/javascript": [
       "var ggb_14_0e = new GGBApplet({\"filename\": \"./geogebra/perpendicular-line-2-construction.ggb\", \"height\": 600, \"showResetIcon\": true, \"enableRightClick\": false, \"enableShiftDragZoom\": true}, \"ggb_14_0e\", false); ggb_14_0e.inject(); "
      ],
      "text/plain": [
       "<IPython.core.display.Javascript object>"
      ]
     },
     "metadata": {},
     "output_type": "display_data"
    }
   ],
   "source": [
    "ggb.file(\"./geogebra/perpendicular-line-2-construction.ggb\") \\\n",
    "    .options(height = 600, \\\n",
    "        showResetIcon = True, \\\n",
    "        enableRightClick = False, \\\n",
    "        enableShiftDragZoom = True) \\\n",
    "    .draw()"
   ]
  },
  {
   "cell_type": "markdown",
   "metadata": {},
   "source": [
    "## Parallel Lines\n",
    "\n",
    "Two different lines are called **parallel** if they do not intersect one another anywhere.\n",
    "Two line segments are called parallel if, when stretched into infinite lines, the resulting lines are parallel.\n",
    "Next we will learn how to draw a line parallel to another line.\n",
    "\n",
    "We could draw the parallel line anywhere we want, so we should start by picking somewhere to draw it.\n",
    "Given a line $AB$ and a point $C$,\n",
    "how can we draw a line that is parallel to $AB$ and passes through the point $C$?"
   ]
  },
  {
   "cell_type": "code",
   "execution_count": 48,
   "metadata": {},
   "outputs": [
    {
     "data": {
      "text/html": [
       "<div id=\"ggb_15_0e\"></div>"
      ],
      "text/plain": [
       "<IPython.core.display.HTML object>"
      ]
     },
     "metadata": {},
     "output_type": "display_data"
    },
    {
     "data": {
      "application/javascript": [
       "var ggb_15_0e = new GGBApplet({\"filename\": \"./geogebra/parallel-line-preview.ggb\", \"height\": 400, \"appName\": \"graphing2\", \"showResetIcon\": true, \"enableRightClick\": false, \"enableShiftDragZoom\": false}, \"ggb_15_0e\", false); ggb_15_0e.inject(); "
      ],
      "text/plain": [
       "<IPython.core.display.Javascript object>"
      ]
     },
     "metadata": {},
     "output_type": "display_data"
    }
   ],
   "source": [
    "ggb.file(\"./geogebra/parallel-line-preview.ggb\") \\\n",
    "    .options(height = 400, \\\n",
    "        appName = \"graphing2\", \\\n",
    "        showResetIcon = True, \\\n",
    "        enableRightClick = False, \\\n",
    "        enableShiftDragZoom = False) \\\n",
    "    .draw()"
   ]
  },
  {
   "cell_type": "markdown",
   "metadata": {},
   "source": [
    "The principle is simple.\n",
    "If we start with a line,\n",
    "then draw a second line perpendicular to it,\n",
    "then draw a third line perpendicular to the second,\n",
    "the third line will be parallel to the first.\n",
    "Think of the sides of a rectangle.\n",
    "The left side of a rectangle is perpendicular to the bottom.\n",
    "The top is perpendicular to the left side.\n",
    "The top is also parallel to the bottom.\n",
    "\n",
    "So the way to draw a line parallel to $AB$ through $C$ is like this.\n",
    "Use the method we learned earlier to draw a line perpendicular to $AB$ through $C$.\n",
    "Next, use the method we learned before that to draw a line through $C$ and perpendicular to the new line.\n",
    "This final line will be parallel to the first line, $AB$,\n",
    "and passes through $C$ like we wanted."
   ]
  },
  {
   "cell_type": "code",
   "execution_count": 49,
   "metadata": {},
   "outputs": [
    {
     "data": {
      "text/html": [
       "<div id=\"ggb_16_0e\"></div>"
      ],
      "text/plain": [
       "<IPython.core.display.HTML object>"
      ]
     },
     "metadata": {},
     "output_type": "display_data"
    },
    {
     "data": {
      "application/javascript": [
       "var ggb_16_0e = new GGBApplet({\"filename\": \"./geogebra/parallel-line-construction.ggb\", \"height\": 600, \"showResetIcon\": true, \"enableRightClick\": false, \"enableShiftDragZoom\": true}, \"ggb_16_0e\", false); ggb_16_0e.inject(); "
      ],
      "text/plain": [
       "<IPython.core.display.Javascript object>"
      ]
     },
     "metadata": {},
     "output_type": "display_data"
    }
   ],
   "source": [
    "ggb.file(\"./geogebra/parallel-line-construction.ggb\") \\\n",
    "    .options(height = 600, \\\n",
    "        showResetIcon = True, \\\n",
    "        enableRightClick = False, \\\n",
    "        enableShiftDragZoom = True) \\\n",
    "    .draw()"
   ]
  },
  {
   "cell_type": "markdown",
   "metadata": {},
   "source": [
    "How can we prove that the third line is parallel to the first?\n",
    "This proof is much trickier than the others.\n",
    "What we do is show that *it's impossible for them not to be parallel*.\n",
    "We have to pretend, for the sake of argument, that they *aren't* parallel.\n",
    "Then the two lines intersect somewhere.\n",
    "However, we will end up finding a triangle whose angles add up to more than 180, and that's impossible.\n",
    "It's impossible for the lines not to be parallel."
   ]
  },
  {
   "cell_type": "code",
   "execution_count": 50,
   "metadata": {},
   "outputs": [
    {
     "data": {
      "text/html": [
       "<div id=\"ggb_17_0e\"></div>"
      ],
      "text/plain": [
       "<IPython.core.display.HTML object>"
      ]
     },
     "metadata": {},
     "output_type": "display_data"
    },
    {
     "data": {
      "application/javascript": [
       "var ggb_17_0e = new GGBApplet({\"filename\": \"./geogebra/parallel-line-proof.ggb\", \"height\": 600, \"appName\": \"graphing2\", \"showResetIcon\": true, \"enableRightClick\": false, \"enableShiftDragZoom\": true}, \"ggb_17_0e\", false); ggb_17_0e.inject(); "
      ],
      "text/plain": [
       "<IPython.core.display.Javascript object>"
      ]
     },
     "metadata": {},
     "output_type": "display_data"
    }
   ],
   "source": [
    "ggb.file(\"./geogebra/parallel-line-proof.ggb\") \\\n",
    "    .options(height = 600, \\\n",
    "        appName = \"graphing2\", \\\n",
    "        showResetIcon = True, \\\n",
    "        enableRightClick = False, \\\n",
    "        enableShiftDragZoom = True) \\\n",
    "    .draw()"
   ]
  },
  {
   "cell_type": "markdown",
   "metadata": {},
   "source": [
    "## Conclusion\n",
    "\n",
    "In this notebook, we learned several geometric constructions:\n",
    "\n",
    " * Equilateral triangles\n",
    " * Angle bisectors\n",
    " * Perpendicular bisectors\n",
    " * Perpendicular lines\n",
    " * Parallel lines\n",
    "\n",
    "Each construction on this list can be done using constructions above it in the list.\n",
    "We assumed it was possible to draw perfect circles and lines using a compass and straightedge.\n",
    "Using circles and lines, we drew equilateral triangles.\n",
    "Using equilateral triangles (and circles and lines) we drew angle bisectors;\n",
    "with angle bisectors we drew perpendicular bisectors;\n",
    "with perpendicular bisectors, perpendicular lines;\n",
    "with perpendicular lines, parallel lines.\n",
    "\n",
    "You can imagine how we can keep on going, making more and more things.\n",
    "These are just 5 of the 48 constructions and proofs in Euclid's first book.\n",
    "He continued for 12 more books.\n",
    "\n",
    "There are some things that Euclid and the ancient Greeks could not do.\n",
    "They were able to bisect an angle, just like we did.\n",
    "However, using only a striaghtedge and compass, they were not able to cut any random angle into *three* equal pieces.\n",
    "(This is called \"trisecting\" an angle.)\n",
    "Given a triangle, they knew how to make a parallelogram with the same area as the triangle.\n",
    "Hoever, given a circle, they were not able to make a square with the same area as the circle.\n",
    "(This is called \"squaring the circle\".)\n",
    "It was only in the 1800's, more than 2000 years after Euclid, that these was proven to be *impossible*!\n",
    "\n",
    "Today, most of mathematics is done much like how Euclid did geometry.\n",
    "Mathematicians start by assuming some basic facts.\n",
    "Then they use these to prove and do more and more sophisticated things.\n",
    "Because of this, you can ask \"Why?\" about almost anything in math,\n",
    "and there is a better answer than \"Just because.\"\n",
    "There is an answer to \"Why do the angles of a triangle add up to 180 degrees?\"\n",
    "In this notebook, we assumed it, but Euclid proved it.\n",
    "There is also an answer to \"Why is one bigger than zero?\"\n",
    "\n",
    "## For More Geometry\n",
    "\n",
    " * [Euclid's *Elements*](https://farside.ph.utexas.edu/Books/Euclid/Elements.pdf) Euclid wrote in Greek. Many translations of Euclid's books from Greek into English are freely available on the internet, including this one. <br>\n",
    " * [Let's Play: Ancient Greek Geometry](https://sciencevsmagic.net/geo/), a game where you have to construct the shapes in the corner, but you can only draw line segments and circles.<br>\n",
    " * [Euclid: The Game](https://kasperpeulen.github.io/), another geometry game where you have to construct shapes using only circles and lines. When you finish some constructions, you get to use them in later levels."
   ]
  },
  {
   "cell_type": "markdown",
   "metadata": {},
   "source": [
    "![](https://raw.githubusercontent.com/callysto/callysto-sample-notebooks/master/notebooks/images/Callysto_Notebook-Banners_Bottom_06.06.18.jpg)"
   ]
  }
 ],
 "metadata": {
  "kernelspec": {
   "display_name": "Python 3",
   "language": "python",
   "name": "python3"
  },
  "language_info": {
   "codemirror_mode": {
    "name": "ipython",
    "version": 3
   },
   "file_extension": ".py",
   "mimetype": "text/x-python",
   "name": "python",
   "nbconvert_exporter": "python",
   "pygments_lexer": "ipython3",
   "version": "3.6.4"
  }
 },
 "nbformat": 4,
 "nbformat_minor": 2
}
