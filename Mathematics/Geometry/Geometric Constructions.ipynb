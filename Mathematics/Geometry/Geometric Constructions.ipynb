{
 "cells": [
  {
   "cell_type": "markdown",
   "metadata": {},
   "source": [
    "![](https://raw.githubusercontent.com/callysto/callysto-sample-notebooks/master/notebooks/images/Callysto_Notebook-Banner_Top_06.06.18.jpg)"
   ]
  },
  {
   "cell_type": "code",
   "execution_count": 1,
   "metadata": {},
   "outputs": [
    {
     "data": {
      "text/html": [
       "\n",
       "<script>\n",
       "  function code_toggle() {\n",
       "    if (code_shown){\n",
       "      $('div.input').hide('500');\n",
       "      $('#toggleButton').val('Show Code')\n",
       "    } else {\n",
       "      $('div.input').show('500');\n",
       "      $('#toggleButton').val('Hide Code')\n",
       "    }\n",
       "    code_shown = !code_shown\n",
       "  }\n",
       "\n",
       "  $( document ).ready(function(){\n",
       "    code_shown=false;\n",
       "    $('div.input').hide()\n",
       "  });\n",
       "</script>\n",
       "<form action=\"javascript:code_toggle()\"><input type=\"submit\" id=\"toggleButton\" value=\"Show Code\"></form>"
      ],
      "text/plain": [
       "<IPython.core.display.HTML object>"
      ]
     },
     "metadata": {},
     "output_type": "display_data"
    }
   ],
   "source": [
    "%%html\n",
    "\n",
    "<script>\n",
    "  function code_toggle() {\n",
    "    if (code_shown){\n",
    "      $('div.input').hide('500');\n",
    "      $('#toggleButton').val('Show Code')\n",
    "    } else {\n",
    "      $('div.input').show('500');\n",
    "      $('#toggleButton').val('Hide Code')\n",
    "    }\n",
    "    code_shown = !code_shown\n",
    "  }\n",
    "\n",
    "  $( document ).ready(function(){\n",
    "    code_shown=false;\n",
    "    $('div.input').hide()\n",
    "  });\n",
    "</script>\n",
    "<form action=\"javascript:code_toggle()\"><input type=\"submit\" id=\"toggleButton\" value=\"Show Code\"></form>"
   ]
  },
  {
   "cell_type": "code",
   "execution_count": 2,
   "metadata": {},
   "outputs": [
    {
     "data": {
      "application/javascript": [
       "\n",
       "            require.config({\n",
       "                paths: {\n",
       "                    ggb: \"https://cdn.geogebra.org/apps/deployggb\"\n",
       "                }\n",
       "            });\n",
       "\n",
       "            require([\"ggb\"]);\n",
       "        "
      ],
      "text/plain": [
       "<IPython.core.display.Javascript object>"
      ]
     },
     "metadata": {},
     "output_type": "display_data"
    }
   ],
   "source": [
    "from geogebra.ggb import *\n",
    "ggb = GGB()"
   ]
  },
  {
   "cell_type": "markdown",
   "metadata": {},
   "source": [
    "# Geometric Constructions\n",
    "\n",
    "Learning outcomes:\n",
    " * perpendicular bisectors\n",
    " * perpendicular line segments\n",
    " * angle bisectors\n",
    " * parallel line segments\n",
    "\n",
    "## Introduction\n",
    "\n",
    " * Talk about Euclid's Elements\n",
    " * Historical significance\n",
    " * It was taught in schools for hundreds (?) of years\n",
    " * Today, we use different textbooks, but the same lessons are taught.\n",
    " * Euclid's techniques allow one to construct geometric shapes without a protractor and ruler\n",
    " * You need a straight edge and compass instead\n",
    " * That means we can draw perfectly straight lines and perfect circles.\n",
    " * Euclid's Elements shows how to then make perfect triangles, parallel lines, and bisectors."
   ]
  },
  {
   "cell_type": "markdown",
   "metadata": {},
   "source": [
    "## How to Draw an Equilateral Triangle\n",
    "\n",
    "An **equilateral triangle** is a triangle whose sides are all the same length.\n",
    "In an equilateral triangle, all of the angles are the same, 60 degrees.\n",
    "To draw an equilateral triangle, you would likely draw its three sides one at a time.\n",
    "Without a protractor, how can you be sure you are drawing your lines at the correct angles?\n",
    "Without a ruler, how can you be sure your lines are all of the correct length?\n",
    "The very first \"Proposition\" in Euclid's *Elements* shows how to draw a perfect equilateral triangle using a straightedge and compass.\n",
    "A straightedge lets you draw a perfectly straight line.\n",
    "A compass lets you draw a perfect circle.\n",
    "If you can draw a perfect line and a perfect circle, then you can draw a perfect equilateral triangle.\n",
    "\n",
    "The process starts by assuming the first side of the triangle has already been drawn.\n",
    "So we start with a line segment $AB$.\n",
    "Our goal is to draw an equilateral triangle whose base is $AB$.\n"
   ]
  },
  {
   "cell_type": "code",
   "execution_count": 3,
   "metadata": {},
   "outputs": [
    {
     "data": {
      "text/html": [
       "<div id=\"ggb_0_0e\"></div>"
      ],
      "text/plain": [
       "<IPython.core.display.HTML object>"
      ]
     },
     "metadata": {},
     "output_type": "display_data"
    },
    {
     "data": {
      "application/javascript": [
       "var ggb_0_0e = new GGBApplet({\"filename\": \"./geogebra/equilateral-triangle-preview.ggb\", \"height\": 400, \"showResetIcon\": true, \"enableRightClick\": false, \"enableShiftDragZoom\": false}, \"ggb_0_0e\", false); ggb_0_0e.inject(); "
      ],
      "text/plain": [
       "<IPython.core.display.Javascript object>"
      ]
     },
     "metadata": {},
     "output_type": "display_data"
    }
   ],
   "source": [
    "ggb.file(\"./geogebra/equilateral-triangle-preview.ggb\") \\\n",
    "    .options(height = 400, \\\n",
    "        showResetIcon = True, \\\n",
    "        enableRightClick = False, \\\n",
    "        enableShiftDragZoom = False) \\\n",
    "    .draw()"
   ]
  },
  {
   "cell_type": "markdown",
   "metadata": {},
   "source": [
    "Here is one way to do this.\n",
    "We draw two circles.\n",
    "Each circle is centered on a different endpoint of the line segment $AB$.\n",
    "We make them so that their radius is equal to the length of the line segment.\n",
    "These circles will intersect in a couple of points.\n",
    "We pick one of the points (it doesn't matter which) and call it $C$.\n",
    "Then we connect the points $A$, $B$, and $C$ to make a triangle, which turns out to be equilateral.\n",
    "\n",
    "The applet below shows how this is done.\n"
   ]
  },
  {
   "cell_type": "code",
   "execution_count": 4,
   "metadata": {},
   "outputs": [
    {
     "data": {
      "text/html": [
       "<div id=\"ggb_1_0e\"></div>"
      ],
      "text/plain": [
       "<IPython.core.display.HTML object>"
      ]
     },
     "metadata": {},
     "output_type": "display_data"
    },
    {
     "data": {
      "application/javascript": [
       "var ggb_1_0e = new GGBApplet({\"filename\": \"./geogebra/equilateral-triangle-construction.ggb\", \"height\": 600, \"showResetIcon\": true, \"enableRightClick\": false, \"enableShiftDragZoom\": false}, \"ggb_1_0e\", false); ggb_1_0e.inject(); "
      ],
      "text/plain": [
       "<IPython.core.display.Javascript object>"
      ]
     },
     "metadata": {},
     "output_type": "display_data"
    }
   ],
   "source": [
    "ggb.file(\"./geogebra/equilateral-triangle-construction.ggb\") \\\n",
    "    .options(height = 600, \\\n",
    "        showResetIcon = True, \\\n",
    "        enableRightClick = False, \\\n",
    "        enableShiftDragZoom = False) \\\n",
    "    .draw()"
   ]
  },
  {
   "cell_type": "markdown",
   "metadata": {},
   "source": [
    "How do we know that $\\triangle ABC$ is equilateral?\n",
    "It's not just because we said so.\n",
    "We can *prove* it.\n",
    "\n",
    "To prove it, we have to give an argument that shows the three sides are equal in length.\n",
    "The argument, in a nutshell, is like this.\n",
    "The sides $AB$ and $AC$ have the same length, because they are both equal in length to the radius of one of the circles.\n",
    "The sides $AB$ and $BC$ have the same length, because they are equal in length to the radius of the *other* circle.\n",
    "So $AB$ is as long as both $AC$ and $BC$, so all three sides are equal in length.\n",
    "\n",
    " * The points $B$ and $C$ lie on the circle whose center is $A$.\n",
    " * So $B$ and $C$ are equally distant from $A$.\n",
    " * Therefore $AB = AC$.\n",
    " * The points $A$ and $C$ lie on the circle whose center is $B$.\n",
    " * So $A$ and $C$ are equally distant from $B$.\n",
    " * Therefore $AB = BC$.\n",
    " * The triangle $\\triangle ABC$ has three equal sides.\n",
    " * Therefore $\\triangle ABC$ is equilateral."
   ]
  },
  {
   "cell_type": "code",
   "execution_count": 5,
   "metadata": {},
   "outputs": [
    {
     "data": {
      "text/html": [
       "<div id=\"ggb_2_0e\"></div>"
      ],
      "text/plain": [
       "<IPython.core.display.HTML object>"
      ]
     },
     "metadata": {},
     "output_type": "display_data"
    },
    {
     "data": {
      "application/javascript": [
       "var ggb_2_0e = new GGBApplet({\"filename\": \"./geogebra/equilateral-triangle-proof.ggb\", \"height\": 600, \"showResetIcon\": true, \"enableRightClick\": false, \"enableShiftDragZoom\": false}, \"ggb_2_0e\", false); ggb_2_0e.inject(); "
      ],
      "text/plain": [
       "<IPython.core.display.Javascript object>"
      ]
     },
     "metadata": {},
     "output_type": "display_data"
    }
   ],
   "source": [
    "ggb.file(\"./geogebra/equilateral-triangle-proof.ggb\") \\\n",
    "    .options(height = 600, \\\n",
    "        showResetIcon = True, \\\n",
    "        enableRightClick = False, \\\n",
    "        enableShiftDragZoom = False) \\\n",
    "    .draw()"
   ]
  },
  {
   "cell_type": "markdown",
   "metadata": {},
   "source": [
    "## Perpendicular Bisector\n",
    "\n",
    "The verb \"bisect\" comes from the Latin prefix *bi*-, which means \"two\", and *secare*, meaning \"to cut\".\n",
    "So to bisect something means to cut it in two.\n",
    "In geometry, when we say that something has been bisected, we mean it has been cut into two *equal* pieces.\n",
    "A **perpendicular bisector** is a line that is perpendicular to another line and cuts it into two equal halves.\n",
    "\n",
    "Suppose we start off with a line segment $AB$.\n",
    "Our goal is to draw a line that is perpendicular to $AB$ and cuts $AB$ into two equal halves.\n"
   ]
  },
  {
   "cell_type": "code",
   "execution_count": 6,
   "metadata": {},
   "outputs": [
    {
     "data": {
      "text/html": [
       "<div id=\"ggb_3_0e\"></div>"
      ],
      "text/plain": [
       "<IPython.core.display.HTML object>"
      ]
     },
     "metadata": {},
     "output_type": "display_data"
    },
    {
     "data": {
      "application/javascript": [
       "var ggb_3_0e = new GGBApplet({\"filename\": \"./geogebra/perpendicular-bisector-preview.ggb\", \"height\": 400, \"showResetIcon\": true, \"enableRightClick\": false, \"enableShiftDragZoom\": false}, \"ggb_3_0e\", false); ggb_3_0e.inject(); "
      ],
      "text/plain": [
       "<IPython.core.display.Javascript object>"
      ]
     },
     "metadata": {},
     "output_type": "display_data"
    }
   ],
   "source": [
    "ggb.file(\"./geogebra/perpendicular-bisector-preview.ggb\") \\\n",
    "    .options(height = 400, \\\n",
    "        showResetIcon = True, \\\n",
    "        enableRightClick = False, \\\n",
    "        enableShiftDragZoom = False) \\\n",
    "    .draw()"
   ]
  },
  {
   "cell_type": "markdown",
   "metadata": {},
   "source": [
    "It is very easy to draw a perpendicular bisector with a straightedge and compass.\n",
    "The first few steps are the same as drawing an equilateral triangle.\n",
    "We start by drawing the same two circles as if we were about to draw an equilateral triangle.\n",
    "These circles intersect at two points, just like before.\n",
    "This time we connect those two points by a line.\n",
    "That line is the perpendicular bisector.\n"
   ]
  },
  {
   "cell_type": "code",
   "execution_count": 7,
   "metadata": {},
   "outputs": [
    {
     "data": {
      "text/html": [
       "<div id=\"ggb_4_0e\"></div>"
      ],
      "text/plain": [
       "<IPython.core.display.HTML object>"
      ]
     },
     "metadata": {},
     "output_type": "display_data"
    },
    {
     "data": {
      "application/javascript": [
       "var ggb_4_0e = new GGBApplet({\"filename\": \"./geogebra/perpendicular-bisector-construction.ggb\", \"height\": 600, \"showResetIcon\": true, \"enableRightClick\": false, \"enableShiftDragZoom\": false}, \"ggb_4_0e\", false); ggb_4_0e.inject(); "
      ],
      "text/plain": [
       "<IPython.core.display.Javascript object>"
      ]
     },
     "metadata": {},
     "output_type": "display_data"
    }
   ],
   "source": [
    "ggb.file(\"./geogebra/perpendicular-bisector-construction.ggb\") \\\n",
    "    .options(height = 600, \\\n",
    "        showResetIcon = True, \\\n",
    "        enableRightClick = False, \\\n",
    "        enableShiftDragZoom = False) \\\n",
    "    .draw()"
   ]
  },
  {
   "cell_type": "markdown",
   "metadata": {},
   "source": [
    "Now how can we *prove* that those instructions actually do make the perpendicular bisector.\n",
    "To prove that we have a perpendicular bisector, we have to argue two things.\n",
    "We have to argue that the angle between the line segment and the perpendicular bisector is a right angle.\n",
    "That's the ''perpendicular'' part.\n",
    "We also have to argue that $AB$ was cut into two equal parts.\n",
    "That means arguing that from $A$ to where the two lines intersect\n",
    "is the same as the distance from $B$ to where they intersect.\n",
    "That's the ''bisector'' part.\n",
    "\n",
    "One way to argue these two points is with the idea of congruent triangles.\n",
    "If we draw the equilateral triangle like before, the perpendicular bisector, cuts this triangle into two smaller triangles.\n",
    "These two triangles are congruent.\n",
    "That means the side lengths and angles in one triangle are equal to the side lengths and angles in the other triangle.\n",
    "Use the applet below to see how we can use that fact to prove what we need to prove.\n"
   ]
  },
  {
   "cell_type": "code",
   "execution_count": 8,
   "metadata": {},
   "outputs": [
    {
     "data": {
      "text/html": [
       "<div id=\"ggb_5_0e\"></div>"
      ],
      "text/plain": [
       "<IPython.core.display.HTML object>"
      ]
     },
     "metadata": {},
     "output_type": "display_data"
    },
    {
     "data": {
      "application/javascript": [
       "var ggb_5_0e = new GGBApplet({\"filename\": \"./geogebra/perpendicular-bisector-proof.ggb\", \"height\": 600, \"showResetIcon\": true, \"enableRightClick\": false, \"enableShiftDragZoom\": false}, \"ggb_5_0e\", false); ggb_5_0e.inject(); "
      ],
      "text/plain": [
       "<IPython.core.display.Javascript object>"
      ]
     },
     "metadata": {},
     "output_type": "display_data"
    }
   ],
   "source": [
    "ggb.file(\"./geogebra/perpendicular-bisector-proof.ggb\") \\\n",
    "    .options(height = 600, \\\n",
    "        showResetIcon = True, \\\n",
    "        enableRightClick = False, \\\n",
    "        enableShiftDragZoom = False) \\\n",
    "    .draw()"
   ]
  },
  {
   "cell_type": "markdown",
   "metadata": {},
   "source": [
    "## Perpendicular Line\n",
    "\n",
    "We have seen how to construct the perpendicular bisector of a line segment.\n",
    "The perpendicular bisector cuts the line segment exactly halfway between the two endpoints.\n",
    "Now we will look at a different but similar scenario.\n",
    "\n",
    "Our new scenario is this.\n",
    "We have a line $AB$ and a point $C$ somewhere on the line.\n",
    "The point $C$ could be between $A$ and $B$ but it doesn't have to be.\n",
    "Our goal is to make a line that is perpendicular to $AB$ and passes through the point $C$.\n"
   ]
  },
  {
   "cell_type": "code",
   "execution_count": 9,
   "metadata": {},
   "outputs": [
    {
     "data": {
      "text/html": [
       "<div id=\"ggb_6_0e\"></div>"
      ],
      "text/plain": [
       "<IPython.core.display.HTML object>"
      ]
     },
     "metadata": {},
     "output_type": "display_data"
    },
    {
     "data": {
      "application/javascript": [
       "var ggb_6_0e = new GGBApplet({\"filename\": \"./geogebra/perpendicular-line-1-preview.ggb\", \"height\": 400, \"showResetIcon\": true, \"enableRightClick\": false, \"enableShiftDragZoom\": false}, \"ggb_6_0e\", false); ggb_6_0e.inject(); "
      ],
      "text/plain": [
       "<IPython.core.display.Javascript object>"
      ]
     },
     "metadata": {},
     "output_type": "display_data"
    }
   ],
   "source": [
    "ggb.file(\"./geogebra/perpendicular-line-1-preview.ggb\") \\\n",
    "    .options(height = 400, \\\n",
    "        showResetIcon = True, \\\n",
    "        enableRightClick = False, \\\n",
    "        enableShiftDragZoom = False) \\\n",
    "    .draw()"
   ]
  },
  {
   "cell_type": "markdown",
   "metadata": {},
   "source": [
    "It turns out this is easy to do after we've learned how to draw a perpendicular bisector.\n",
    "The trick is to find two points on the line $AB$ that are equally far from $C$.\n",
    "Those two points make a line segment.\n",
    "Then we just find the perpendicular bisector of that line segment.\n",
    "Okay, but how do we find two points on the line equally far from $C$?\n",
    "By drawing a circle around $C$!\n",
    "Check out the applet below.\n",
    "\n"
   ]
  },
  {
   "cell_type": "code",
   "execution_count": 10,
   "metadata": {},
   "outputs": [
    {
     "data": {
      "text/html": [
       "<div id=\"ggb_7_0e\"></div>"
      ],
      "text/plain": [
       "<IPython.core.display.HTML object>"
      ]
     },
     "metadata": {},
     "output_type": "display_data"
    },
    {
     "data": {
      "application/javascript": [
       "var ggb_7_0e = new GGBApplet({\"filename\": \"./geogebra/perpendicular-line-1-construction.ggb\", \"height\": 600, \"showResetIcon\": true, \"enableRightClick\": false, \"enableShiftDragZoom\": true}, \"ggb_7_0e\", false); ggb_7_0e.inject(); "
      ],
      "text/plain": [
       "<IPython.core.display.Javascript object>"
      ]
     },
     "metadata": {},
     "output_type": "display_data"
    }
   ],
   "source": [
    "ggb.file(\"./geogebra/perpendicular-line-1-construction.ggb\") \\\n",
    "    .options(height = 600, \\\n",
    "        showResetIcon = True, \\\n",
    "        enableRightClick = False, \\\n",
    "        enableShiftDragZoom = True) \\\n",
    "    .draw()"
   ]
  },
  {
   "cell_type": "markdown",
   "metadata": {},
   "source": [
    "What if we make tweak the scenario a little bit more?\n",
    "Now, let's suppose the point $C$ is not even on the line $AB$.\n",
    "It could be floating off in space somewhere next to the line.\n",
    "How can we draw a line that is perpendicular to the line $AB$ and passes through the point $C$?\n"
   ]
  },
  {
   "cell_type": "code",
   "execution_count": 11,
   "metadata": {},
   "outputs": [
    {
     "data": {
      "text/html": [
       "<div id=\"ggb_8_0e\"></div>"
      ],
      "text/plain": [
       "<IPython.core.display.HTML object>"
      ]
     },
     "metadata": {},
     "output_type": "display_data"
    },
    {
     "data": {
      "application/javascript": [
       "var ggb_8_0e = new GGBApplet({\"filename\": \"./geogebra/perpendicular-line-2-preview.ggb\", \"height\": 400, \"showResetIcon\": true, \"enableRightClick\": false, \"enableShiftDragZoom\": false}, \"ggb_8_0e\", false); ggb_8_0e.inject(); "
      ],
      "text/plain": [
       "<IPython.core.display.Javascript object>"
      ]
     },
     "metadata": {},
     "output_type": "display_data"
    }
   ],
   "source": [
    "ggb.file(\"./geogebra/perpendicular-line-2-preview.ggb\") \\\n",
    "    .options(height = 400, \\\n",
    "        showResetIcon = True, \\\n",
    "        enableRightClick = False, \\\n",
    "        enableShiftDragZoom = False) \\\n",
    "    .draw()"
   ]
  },
  {
   "cell_type": "markdown",
   "metadata": {},
   "source": [
    "The trick is just like before.\n",
    "We have to find two points on the line that are equally far from $C$.\n",
    "Those two points make a line segment.\n",
    "Then we just have to draw the perpendicular bisector of that line segment.\n",
    "\n",
    "How do we find two points on the line equally far from $C$?\n",
    "Just like before, we draw a circle around $C$.\n",
    "This time, we just have to make sure to draw the circle big enough so that it actually reaches the line."
   ]
  },
  {
   "cell_type": "code",
   "execution_count": 12,
   "metadata": {},
   "outputs": [
    {
     "data": {
      "text/html": [
       "<div id=\"ggb_9_0e\"></div>"
      ],
      "text/plain": [
       "<IPython.core.display.HTML object>"
      ]
     },
     "metadata": {},
     "output_type": "display_data"
    },
    {
     "data": {
      "application/javascript": [
       "var ggb_9_0e = new GGBApplet({\"filename\": \"./geogebra/perpendicular-line-2-construction.ggb\", \"height\": 600, \"showResetIcon\": true, \"enableRightClick\": false, \"enableShiftDragZoom\": true}, \"ggb_9_0e\", false); ggb_9_0e.inject(); "
      ],
      "text/plain": [
       "<IPython.core.display.Javascript object>"
      ]
     },
     "metadata": {},
     "output_type": "display_data"
    }
   ],
   "source": [
    "ggb.file(\"./geogebra/perpendicular-line-2-construction.ggb\") \\\n",
    "    .options(height = 600, \\\n",
    "        showResetIcon = True, \\\n",
    "        enableRightClick = False, \\\n",
    "        enableShiftDragZoom = True) \\\n",
    "    .draw()"
   ]
  },
  {
   "cell_type": "markdown",
   "metadata": {},
   "source": [
    "Given a line AB and a point C, to construct a line perpendicular to AB through the point C.\n",
    "\n",
    " * Draw the circle with center C and radius AC.\n",
    " * This circle intersects AB at another point D.\n",
    " * Draw the circle with center A and radius AC\n",
    " * Draw the circle with center D and radius DC\n",
    " * These two circles intersect at points C and E\n",
    " * The line CE is perpendicular to AB and passes through C."
   ]
  },
  {
   "cell_type": "markdown",
   "metadata": {},
   "source": [
    "## Parallel Lines\n",
    "\n",
    "Two lines are called **parallel** if they do not intersect one another anywhere.\n",
    "Two line segments are called parallel if, when extended into infinite lines, the resulting lines are parallel.\n",
    "\n",
    "Earlier, we saw how to construct an equilateral triangle.\n",
    "The first steps of that construction we reused to make perpendicular bisectors.\n",
    "We used perpendicular bisectors to make perpendicular lines through any point.\n",
    "We learn how to draw one thing, then we use that to help us draw something else.\n",
    "Now we can use perpendicular lines to draw parallel lines.\n",
    "\n",
    "Given a line $AB$ and a point $C$,\n",
    "how can we draw a line that is parallel to $AB$ and passes through the point $C$?\n",
    "Here is one way.\n",
    "\n",
    " * Draw a line perpendicular to $AB$ through the point $C$.\n",
    " * Call this line $CD$.\n",
    " * Draw a line perpendicular to $CD$ through the point $C$.\n",
    " * Call this line $EC$.\n",
    " * Then $EC$ is parallel to $AB$ and passes through the point $C$.\n",
    "\n",
    "Once again, let's prove that this is true.\n",
    "To prove that $EC$ is parallel to $AB$, this is what we will do.\n",
    "We will suppose that $EC$ and $AB$ are *not* parallel.\n",
    "We will see that this leads to something impossible happening,\n",
    "so they could not possibly be parallel.\n",
    "\n",
    " * Suppose $AB$ and $EC$ are not parallel.\n",
    " * Then they intersect at a point $F$.\n",
    " * Consider the triangle $CDF$.\n",
    " * Since $EC$ is perpendicular to $CD$, $\\angle FCD = 90$.\n",
    " * Since $AB$ is perpendicular to $CD$, $\\angle FDC = 90$.\n",
    " * $\\angle CFD > 0$.\n",
    " * So the angles of the triangle add up to more than 180, which is impossible.\n",
    " * Therefore $AB$ and $EC$ are parallel.\n",
    "\n",
    "E        C\n",
    "*--------*---\n",
    "         |                           *F\n",
    "         |\n",
    "*--------*---*\n",
    "A        D   B"
   ]
  },
  {
   "cell_type": "code",
   "execution_count": 13,
   "metadata": {},
   "outputs": [
    {
     "data": {
      "text/html": [
       "<div id=\"ggb_10_0e\"></div>"
      ],
      "text/plain": [
       "<IPython.core.display.HTML object>"
      ]
     },
     "metadata": {},
     "output_type": "display_data"
    },
    {
     "data": {
      "application/javascript": [
       "var ggb_10_0e = new GGBApplet({\"filename\": \"./geogebra/parallel-line-preview.ggb\", \"height\": 400, \"appName\": \"graphing2\", \"showResetIcon\": true, \"enableRightClick\": false, \"enableShiftDragZoom\": false}, \"ggb_10_0e\", false); ggb_10_0e.inject(); "
      ],
      "text/plain": [
       "<IPython.core.display.Javascript object>"
      ]
     },
     "metadata": {},
     "output_type": "display_data"
    }
   ],
   "source": [
    "ggb.file(\"./geogebra/parallel-line-preview.ggb\") \\\n",
    "    .options(height = 400, \\\n",
    "        appName = \"graphing2\", \\\n",
    "        showResetIcon = True, \\\n",
    "        enableRightClick = False, \\\n",
    "        enableShiftDragZoom = False) \\\n",
    "    .draw()"
   ]
  },
  {
   "cell_type": "markdown",
   "metadata": {},
   "source": [
    "The principle is simple.\n",
    "If we have a line, then draw a second line perpendicular to it, then draw a third line perpendicular to the second,\n",
    "the third line will be parallel to the first.\n",
    "Think of the sides of a rectangle.\n",
    "The left side of a rectangle is perpendicular to the bottom.\n",
    "The top is perpendicular to the left side.\n",
    "The top is also parallel to the bottom.\n",
    "\n",
    "So the way to draw a line parallel to $AB$ through $C$ is like this.\n",
    "Use the method we learned earlier to draw a line perpendicular to $AB$ through $C$.\n",
    "Next, use the method we learned before that to draw a line through $C$ and perpendicular to the new line.\n",
    "This final line will be parallel to the first line, $AB$,\n",
    "and passes through $C$ like we wanted."
   ]
  },
  {
   "cell_type": "code",
   "execution_count": 14,
   "metadata": {},
   "outputs": [
    {
     "data": {
      "text/html": [
       "<div id=\"ggb_11_0e\"></div>"
      ],
      "text/plain": [
       "<IPython.core.display.HTML object>"
      ]
     },
     "metadata": {},
     "output_type": "display_data"
    },
    {
     "data": {
      "application/javascript": [
       "var ggb_11_0e = new GGBApplet({\"filename\": \"./geogebra/parallel-line-construction.ggb\", \"height\": 600, \"showResetIcon\": true, \"enableRightClick\": false, \"enableShiftDragZoom\": true}, \"ggb_11_0e\", false); ggb_11_0e.inject(); "
      ],
      "text/plain": [
       "<IPython.core.display.Javascript object>"
      ]
     },
     "metadata": {},
     "output_type": "display_data"
    }
   ],
   "source": [
    "ggb.file(\"./geogebra/parallel-line-construction.ggb\") \\\n",
    "    .options(height = 600, \\\n",
    "        showResetIcon = True, \\\n",
    "        enableRightClick = False, \\\n",
    "        enableShiftDragZoom = True) \\\n",
    "    .draw()"
   ]
  },
  {
   "cell_type": "markdown",
   "metadata": {},
   "source": [
    "How can we prove that the third line is parallel to the first?\n",
    "This proof is much trickier than the others.\n",
    "What we do is show that *it's impossible for them not to be parallel*.\n",
    "We have to pretend, for the sake of argument, that they *aren't* parallel.\n",
    "Then the two lines intersect somewhere.\n",
    "However, we will end up finding a triangle whose angles add up to more than 180, and that's impossible.\n",
    "It's impossible for the lines not to be parallel."
   ]
  },
  {
   "cell_type": "code",
   "execution_count": 15,
   "metadata": {},
   "outputs": [
    {
     "data": {
      "text/html": [
       "<div id=\"ggb_12_0e\"></div>"
      ],
      "text/plain": [
       "<IPython.core.display.HTML object>"
      ]
     },
     "metadata": {},
     "output_type": "display_data"
    },
    {
     "data": {
      "application/javascript": [
       "var ggb_12_0e = new GGBApplet({\"filename\": \"./geogebra/parallel-line-proof.ggb\", \"height\": 600, \"showResetIcon\": true, \"enableRightClick\": false, \"enableShiftDragZoom\": true}, \"ggb_12_0e\", false); ggb_12_0e.inject(); "
      ],
      "text/plain": [
       "<IPython.core.display.Javascript object>"
      ]
     },
     "metadata": {},
     "output_type": "display_data"
    }
   ],
   "source": [
    "ggb.file(\"./geogebra/parallel-line-proof.ggb\") \\\n",
    "    .options(height = 600, \\\n",
    "        showResetIcon = True, \\\n",
    "        enableRightClick = False, \\\n",
    "        enableShiftDragZoom = True) \\\n",
    "    .draw()"
   ]
  },
  {
   "cell_type": "markdown",
   "metadata": {},
   "source": [
    "## Angle Bisector\n",
    "\n",
    "An **angle bisector** is a line that cuts an angle into two equal halves.\n",
    "We can use perpendicular bisectors to make angle bisectors.\n",
    "\n",
    " * Let $ABC$ be the angle to bisect.\n",
    " * Draw a circle with center $B$ and any radius.\n",
    " * This circle intersects the lines $AB$ and $AC$ at the points $D$ and $E$.\n",
    " * Draw the line segment $DE$.\n",
    " * Let $F$ be the midpoint of $DE$.\n",
    " * The line $BF$ bisects the angle $\\angle ABC$.\n",
    "\n",
    "To prove this, we will use the side-side-side theorem.\n",
    "\n",
    " * Consider the triangles $\\triangle BDF$ and $\\triangle BEF$.\n",
    " * They share the side $BF$.\n",
    " * $D$ and $E$ are both on the circle centered on $B$, so $BD = BE$.\n",
    " * $F$ is the midpoint of $D$ and $E$, so $DF = EF$.\n",
    " * The two triangles have three corresponding sides, so their angles are in correspondence.\n",
    " * Therefore $\\angle DBF = \\angle EBF$.\n",
    " * Therefore $DF$ bisects the angle $ABC$.\n"
   ]
  },
  {
   "cell_type": "code",
   "execution_count": 16,
   "metadata": {},
   "outputs": [
    {
     "data": {
      "text/html": [
       "<div id=\"ggb_13_0e\"></div>"
      ],
      "text/plain": [
       "<IPython.core.display.HTML object>"
      ]
     },
     "metadata": {},
     "output_type": "display_data"
    },
    {
     "data": {
      "application/javascript": [
       "var ggb_13_0e = new GGBApplet({\"filename\": \"./geogebra/angle-bisector-preview.ggb\", \"height\": 400, \"showResetIcon\": true, \"enableRightClick\": false, \"enableShiftDragZoom\": false}, \"ggb_13_0e\", false); ggb_13_0e.inject(); "
      ],
      "text/plain": [
       "<IPython.core.display.Javascript object>"
      ]
     },
     "metadata": {},
     "output_type": "display_data"
    }
   ],
   "source": [
    "ggb.file(\"./geogebra/angle-bisector-preview.ggb\") \\\n",
    "    .options(height = 400, \\\n",
    "        showResetIcon = True, \\\n",
    "        enableRightClick = False, \\\n",
    "        enableShiftDragZoom = False) \\\n",
    "    .draw()"
   ]
  },
  {
   "cell_type": "code",
   "execution_count": 21,
   "metadata": {},
   "outputs": [
    {
     "data": {
      "text/html": [
       "<div id=\"ggb_18_0e\"></div>"
      ],
      "text/plain": [
       "<IPython.core.display.HTML object>"
      ]
     },
     "metadata": {},
     "output_type": "display_data"
    },
    {
     "data": {
      "application/javascript": [
       "var ggb_18_0e = new GGBApplet({\"filename\": \"./geogebra/angle-bisector-construction.ggb\", \"height\": 600, \"showResetIcon\": true, \"enableRightClick\": false, \"enableShiftDragZoom\": false}, \"ggb_18_0e\", false); ggb_18_0e.inject(); "
      ],
      "text/plain": [
       "<IPython.core.display.Javascript object>"
      ]
     },
     "metadata": {},
     "output_type": "display_data"
    }
   ],
   "source": [
    "ggb.file(\"./geogebra/angle-bisector-construction.ggb\") \\\n",
    "    .options(height = 600, \\\n",
    "        showResetIcon = True, \\\n",
    "        enableRightClick = False, \\\n",
    "        enableShiftDragZoom = False) \\\n",
    "    .draw()"
   ]
  },
  {
   "cell_type": "code",
   "execution_count": 28,
   "metadata": {},
   "outputs": [
    {
     "data": {
      "text/html": [
       "<div id=\"ggb_25_0e\"></div>"
      ],
      "text/plain": [
       "<IPython.core.display.HTML object>"
      ]
     },
     "metadata": {},
     "output_type": "display_data"
    },
    {
     "data": {
      "application/javascript": [
       "var ggb_25_0e = new GGBApplet({\"filename\": \"./geogebra/angle-bisector-proof.ggb\", \"height\": 600, \"showResetIcon\": true, \"enableRightClick\": false, \"enableShiftDragZoom\": false}, \"ggb_25_0e\", false); ggb_25_0e.inject(); "
      ],
      "text/plain": [
       "<IPython.core.display.Javascript object>"
      ]
     },
     "metadata": {},
     "output_type": "display_data"
    }
   ],
   "source": [
    "ggb.file(\"./geogebra/angle-bisector-proof.ggb\") \\\n",
    "    .options(height = 600, \\\n",
    "        showResetIcon = True, \\\n",
    "        enableRightClick = False, \\\n",
    "        enableShiftDragZoom = False) \\\n",
    "    .draw()"
   ]
  },
  {
   "cell_type": "markdown",
   "metadata": {},
   "source": [
    "https://sciencevsmagic.net/geo/ <br>\n",
    "https://kasperpeulen.github.io/ (is there another version of this?)"
   ]
  },
  {
   "cell_type": "markdown",
   "metadata": {},
   "source": [
    "![](https://raw.githubusercontent.com/callysto/callysto-sample-notebooks/master/notebooks/images/Callysto_Notebook-Banners_Bottom_06.06.18.jpg)"
   ]
  }
 ],
 "metadata": {
  "kernelspec": {
   "display_name": "Python 3",
   "language": "python",
   "name": "python3"
  },
  "language_info": {
   "codemirror_mode": {
    "name": "ipython",
    "version": 3
   },
   "file_extension": ".py",
   "mimetype": "text/x-python",
   "name": "python",
   "nbconvert_exporter": "python",
   "pygments_lexer": "ipython3",
   "version": "3.6.4"
  }
 },
 "nbformat": 4,
 "nbformat_minor": 2
}
