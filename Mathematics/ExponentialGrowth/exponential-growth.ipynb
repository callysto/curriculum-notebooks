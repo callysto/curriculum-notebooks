{
 "cells": [
  {
   "cell_type": "markdown",
   "metadata": {},
   "source": [
    "![Callysto.ca Banner](https://github.com/callysto/curriculum-notebooks/blob/master/callysto-notebook-banner-top.jpg?raw=true)\n",
    "\n",
    "<a href=\"https://hub.callysto.ca/jupyter/hub/user-redirect/git-pull?repo=https%3A%2F%2Fgithub.com%2Fcallysto%2Fcurriculum-notebooks&branch=master&subPath=Mathematics/ExponentialGrowth/exponential-growth.ipynb&depth=1\" target=\"_parent\"><img src=\"https://raw.githubusercontent.com/callysto/curriculum-notebooks/master/open-in-callysto-button.svg?sanitize=true\" width=\"123\" height=\"24\" alt=\"Open in Callysto\"/></a>"
   ]
  },
  {
   "cell_type": "markdown",
   "metadata": {},
   "source": [
    "# Exponential Growth\n",
    "\n",
    "## Rice on a Chessboard\n",
    "\n",
    "There is a [legend](https://en.wikipedia.org/wiki/Wheat_and_chessboard_problem) about a chess boardmaker asking a king that he be paid in grains of rice. One grain of rice on the first square, two on the second, four on the third, doubling every time.\n",
    "\n",
    "<img src=\"https://upload.wikimedia.org/wikipedia/commons/c/cd/Wheat_and_chessboard_problem.jpg\" width=\"400\" alt=\"chess board\">\n",
    "\n",
    "*From https://en.wikipedia.org/wiki/Wheat_and_chessboard_problem*\n",
    "\n",
    "We can calculate how many grains of rice there would be on the chessboard using addition:\n",
    "\n",
    "$1 + 2 + 4 + 8 + 16 ... + 9223372036854775808$\n",
    "\n",
    "but we would need to calculate each of those 64 doubles. Instead we can use exponents of two (since it is doubling each time):\n",
    "\n",
    "$2^0 + 2^1 + 2^2 + 2^3 + 2^4 ... + 2^{63}$\n",
    "\n",
    "Let's try that in Python. Click on the code cell below, then click the `▶Run` button to run the code."
   ]
  },
  {
   "cell_type": "code",
   "execution_count": null,
   "metadata": {},
   "outputs": [],
   "source": [
    "total = 0\n",
    "for n in range(64):\n",
    "    total = total + 2**n\n",
    "print(total)"
   ]
  },
  {
   "cell_type": "markdown",
   "metadata": {},
   "source": [
    "Next, `▶Run` the following cell to create a table showing how many grains of rice would be on each square."
   ]
  },
  {
   "cell_type": "code",
   "execution_count": null,
   "metadata": {},
   "outputs": [],
   "source": [
    "total_list = [2**n for n in range(64)]\n",
    "\n",
    "import pandas as pd\n",
    "chessboard = pd.DataFrame()\n",
    "for c in range(8):\n",
    "    chessboard[c] = total_list[c*8:8+c*8]\n",
    "chessboard"
   ]
  },
  {
   "cell_type": "markdown",
   "metadata": {},
   "source": [
    "We can also visualize the total number of rice grains placed over time."
   ]
  },
  {
   "cell_type": "code",
   "execution_count": null,
   "metadata": {},
   "outputs": [],
   "source": [
    "import plotly.express as px\n",
    "px.line(total_list, title='Grains of Rice by Chessboard Square').update_layout(showlegend=False)"
   ]
  },
  {
   "cell_type": "markdown",
   "metadata": {},
   "source": [
    "That's a lot of grains of rice. If we assume an approximate mass per grain of 20 mg (0.00000002 tonnes), then we can find the mass of rice in tonnes:"
   ]
  },
  {
   "cell_type": "code",
   "execution_count": null,
   "metadata": {},
   "outputs": [],
   "source": [
    "chessboard_tons = total * 0.00000002\n",
    "print(chessboard_tonnes, 'tons')"
   ]
  },
  {
   "cell_type": "markdown",
   "metadata": {},
   "source": [
    "Let's compare that to the rice production of countries (from [Atlas Big](https://www.atlasbig.com/en-us/countries-by-rice-production))."
   ]
  },
  {
   "cell_type": "code",
   "execution_count": null,
   "metadata": {},
   "outputs": [],
   "source": [
    "rice_production = pd.read_html('https://www.atlasbig.com/en-us/countries-by-rice-production')[0]\n",
    "px.bar(rice_production.head(20), x='Country', y='Production (Tons)', title='Rice Production by Country (Top 20)')"
   ]
  },
  {
   "cell_type": "markdown",
   "metadata": {},
   "source": [
    "Our \"chessboard\" amount of rice seems to be more than any country produces in a year, but we can also compare it to the total worldwide production of rice."
   ]
  },
  {
   "cell_type": "code",
   "execution_count": null,
   "metadata": {},
   "outputs": [],
   "source": [
    "print('Worldwide:', rice_production['Production (Tons)'].sum(), 'tons')\n",
    "print('Chessboard:', chessboard_tons, 'tons')"
   ]
  },
  {
   "cell_type": "markdown",
   "metadata": {},
   "source": [
    "We can see that exponential growth across the 64 squares of a chessboard would result in a significant amount of rice.\n",
    "\n",
    "## Lily Pads on a Pond\n",
    "\n",
    "We can also imagine a pond with lily pads that double in number every day. If the pond is completely covered on day 30, when is it half covered?\n",
    "\n",
    "Let's visualize it with a graph."
   ]
  },
  {
   "cell_type": "code",
   "execution_count": null,
   "metadata": {},
   "outputs": [],
   "source": [
    "lilypads_list = []\n",
    "for i in range(30):\n",
    "    lilypads_list.append(2**i)\n",
    "lilypads = pd.DataFrame(lilypads_list, columns=['New Lilypads'])\n",
    "lilypads['Total Lilypads'] = lilypads['New Lilypads'].cumsum()\n",
    "lilypads['Percent Coverage'] = 100 * lilypads['Total Lilypads'] / lilypads['New Lilypads'].sum()\n",
    "lilypads['Day'] = lilypads.index + 1\n",
    "px.line(lilypads, x='Day', y='Percent Coverage', title='Percent Coverage of Lily Pads over Time').add_hline(y=50, line_color='red')"
   ]
  },
  {
   "cell_type": "markdown",
   "metadata": {},
   "source": [
    "Interestingly, the pond will be half covered on day 29 if it is fully covered on day 30.\n",
    "\n",
    "# Conclusion\n",
    "\n",
    "This notebook looked at exponential growth using examples of rice grains on a chess board and lily pads growing on a pond."
   ]
  },
  {
   "cell_type": "markdown",
   "metadata": {},
   "source": [
    "[![Callysto.ca License](https://github.com/callysto/curriculum-notebooks/blob/master/callysto-notebook-banner-bottom.jpg?raw=true)](https://github.com/callysto/curriculum-notebooks/blob/master/LICENSE.md)"
   ]
  }
 ],
 "metadata": {
  "kernelspec": {
   "display_name": "Python 3 (ipykernel)",
   "language": "python",
   "name": "python3"
  },
  "language_info": {
   "codemirror_mode": {
    "name": "ipython",
    "version": 3
   },
   "file_extension": ".py",
   "mimetype": "text/x-python",
   "name": "python",
   "nbconvert_exporter": "python",
   "pygments_lexer": "ipython3",
   "version": "3.9.12"
  },
  "vscode": {
   "interpreter": {
    "hash": "aee8b7b246df8f9039afb4144a1f6fd8d2ca17a180786b69acc140d282b71a49"
   }
  }
 },
 "nbformat": 4,
 "nbformat_minor": 4
}
