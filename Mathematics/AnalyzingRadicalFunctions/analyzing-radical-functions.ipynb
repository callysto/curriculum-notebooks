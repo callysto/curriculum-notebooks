{
 "cells": [
  {
   "cell_type": "code",
   "execution_count": 3,
   "metadata": {
    "scrolled": true
   },
   "outputs": [
    {
     "data": {
      "text/html": [
       "<script>\n",
       "code_show=true; \n",
       "function code_toggle() {\n",
       " if (code_show){\n",
       " $('div.input').hide();\n",
       " } else {\n",
       " $('div.input').show();\n",
       " }\n",
       " code_show = !code_show\n",
       "} \n",
       "$( document ).ready(code_toggle);\n",
       "</script>\n",
       "The raw code for this IPython notebook is by default hidden for easier reading.\n",
       "To toggle on/off the raw code, click <a href=\"javascript:code_toggle()\">here</a>."
      ],
      "text/plain": [
       "<IPython.core.display.HTML object>"
      ]
     },
     "execution_count": 3,
     "metadata": {},
     "output_type": "execute_result"
    }
   ],
   "source": [
    "from IPython.display import HTML\n",
    "HTML('''<script>\n",
    "code_show=true; \n",
    "function code_toggle() {\n",
    " if (code_show){\n",
    " $('div.input').hide();\n",
    " } else {\n",
    " $('div.input').show();\n",
    " }\n",
    " code_show = !code_show\n",
    "} \n",
    "$( document ).ready(code_toggle);\n",
    "</script>\n",
    "The raw code for this IPython notebook is by default hidden for easier reading.\n",
    "To toggle on/off the raw code, click <a href=\"javascript:code_toggle()\">here</a>.''')"
   ]
  },
  {
   "cell_type": "code",
   "execution_count": 4,
   "metadata": {},
   "outputs": [
    {
     "data": {
      "text/html": [
       "<style>\n",
       ".output_wrapper button.btn.btn-default,\n",
       ".output_wrapper .ui-dialog-titlebar {\n",
       "  display: none;\n",
       "}\n",
       "</style>\n"
      ],
      "text/plain": [
       "<IPython.core.display.HTML object>"
      ]
     },
     "metadata": {},
     "output_type": "display_data"
    }
   ],
   "source": [
    "%%html\n",
    "<style>\n",
    ".output_wrapper button.btn.btn-default,\n",
    ".output_wrapper .ui-dialog-titlebar {\n",
    "  display: none;\n",
    "}\n",
    "</style>"
   ]
  },
  {
   "cell_type": "markdown",
   "metadata": {},
   "source": [
    "![alt](https://raw.githubusercontent.com/callysto/callysto-sample-notebooks/master/notebooks/images/Callysto_Notebook-Banner_Top_06.06.18.jpg)"
   ]
  },
  {
   "cell_type": "code",
   "execution_count": 5,
   "metadata": {},
   "outputs": [
    {
     "data": {
      "text/html": [
       "<h1 align='center'>Analyzing Radical Functions</h1>\n",
       "\n",
       "<h4 align='center'>Mathematics 20-2</h4>\n"
      ],
      "text/plain": [
       "<IPython.core.display.HTML object>"
      ]
     },
     "metadata": {},
     "output_type": "display_data"
    }
   ],
   "source": [
    "%%html\n",
    "<h1 align='center'>Analyzing Radical Functions</h1>\n",
    "\n",
    "<h4 align='center'>Mathematics 20-2</h4>"
   ]
  },
  {
   "cell_type": "code",
   "execution_count": 6,
   "metadata": {},
   "outputs": [],
   "source": [
    "from IPython.display import display, Math, Latex, HTML, clear_output, Markdown\n",
    "import numpy as np\n",
    "import matplotlib.pyplot as plt\n",
    "from numpy import sqrt as sqrt\n",
    "import ipywidgets\n",
    "from ipywidgets import widgets, interact, interactive, interact_manual, Button, Layout\n",
    "import Spiral_Of_Theodorus as S\n",
    "\n",
    "%matplotlib inline"
   ]
  },
  {
   "cell_type": "markdown",
   "metadata": {},
   "source": [
    "# Introduction\n",
    "This notebook will explain how to analyze and graph radical functions. We will look at the square root function, which is the most common type of radical, as well as other forms of radicals.\n",
    "\n",
    "The most important thing to understand about radical functions is where the function *exists*. This is often called the *domain of existence* and will be further explained in the notebook. Looking at rational functions will incorporate aspects of intervals and inequalities. It will also help find the roots of quadratic equations."
   ]
  },
  {
   "cell_type": "markdown",
   "metadata": {},
   "source": [
    "<center><img src=\"../images/Spiral_gif.gif\"></center>"
   ]
  },
  {
   "cell_type": "markdown",
   "metadata": {},
   "source": [
    "# Background\n",
    "\n",
    "## Radical Functions\n",
    "\n",
    "Radical functions are any function that is inside a **radical**. This tells us that some function, $f(x)$, is contained within a fractional exponent. This can be written as:\n",
    "\n",
    "<h3 align='center'>$f(g(x)) = g(x)^{\\frac{1}{n}}$</h3>\n",
    "\n",
    "Where $n$ is an integer for the following exercises. \n",
    "\n",
    "So what does $g(x)$ look like? Well, it can take on any form! Let's look at a few examples of different $g(x)$ functions:\n",
    "\n",
    "1. If $g(x) = x$, then $f(g(x)) = g(x)^{\\frac{1}{n}} = x^{\\frac{1}{n}}$\n",
    "\n",
    "2. If $g(x) = x^2 + 2x$, then $f(g(x)) = (x^2 + 2x)^{\\frac{1}{n}}$\n",
    "\n",
    "3. If $g(x) = \\frac{x^3 - 9x + 3}{2x - 1}$, then  $f(g(x)) = \\Big(\\frac{x^3 - 9x + 3}{2x - 1}\\Big)^{\\frac{1}{n}}$\n",
    "\n",
    "The *most common radical function* is **the square root function**:\n",
    "\n",
    "<h3 align='center'>$\\sqrt{x}$</h3>\n",
    "\n",
    "Which is equivalent to writing:\n",
    "\n",
    "<h3 align='center'>$x^{\\frac{1}{2}}$</h3>\n",
    "\n",
    "So if we wanted to obtain the *square root* of some function $f(x)$, this is done by doing:\n",
    "\n",
    "<h3 align='center'>$\\big[ \\ f(x) \\ \\big]^{\\frac{1}{2}} = \\sqrt{f(x)}$</h3>\n",
    "\n",
    "Now, if we try finding the *root of a function*, (*where $f(x) = 0$*), understanding how radicals work becomes important. If we only look at quadratic functions of the form:\n",
    "\n",
    "<h3 align='center'>$f(x) = ax^2 + bx + c$</h3>\n",
    "\n",
    "There are many cases where the roots of this function can be found immediately by taking the square root. But, remember that when you take the square root of a single value, such as $4$, we get the result of:\n",
    "\n",
    "<h3 align='center'>$\\sqrt{4} = \\pm \\ 2$</h3>\n",
    "\n",
    "Where either positive, ($+$), or negative, ($-$), $2$ can be squared to produce a value of $4$:\n",
    "\n",
    "<h3 align='center'>$(2)^2 = (-2)^2 = 4$</h3>\n",
    "\n",
    "This exact same principle applies when dealing with functions. For example, let us look at the function $f(x) = x^2$:"
   ]
  },
  {
   "cell_type": "code",
   "execution_count": 7,
   "metadata": {},
   "outputs": [
    {
     "data": {
      "image/png": "[encoded data removed]",
      "text/plain": [
       "<Figure size 720x504 with 1 Axes>"
      ]
     },
     "metadata": {
      "needs_background": "light"
     },
     "output_type": "display_data"
    }
   ],
   "source": [
    "# function to be plotted\n",
    "x = np.linspace(-10,10,100) \n",
    "fx = x**2.\n",
    "\n",
    "# plot showing f(x) = x^2 with (2,4) and (-2,4) plotted points to show +/- result for square roots.\n",
    "plt.figure(1,figsize = (10,7))\n",
    "hold = True\n",
    "ticks = np.arange(-5,6)\n",
    "\n",
    "plt.plot(x,fx,'r-',label = r'$f(x) = x^2$')\n",
    "plt.plot([-10,10],[0,0],'k-',alpha = 1,linewidth = 1)\n",
    "plt.plot([0,0],[-10,15],'k-',alpha = 1,linewidth = 1)\n",
    "plt.plot(2,4,'k.',markersize = 10)\n",
    "plt.plot(-2,4,'k.', markersize = 10)\n",
    "plt.grid(alpha = 0.7)\n",
    "plt.legend(loc = 'lower right',fontsize = 13)\n",
    "plt.xticks(ticks)\n",
    "plt.ylim([-2,15])\n",
    "plt.xlim([-5,5])\n",
    "plt.show()"
   ]
  },
  {
   "cell_type": "markdown",
   "metadata": {},
   "source": [
    "As you can see, at *both* $x=2$ and $x = -2$ our function equals $4$, which is marked with the *black dots*.\n",
    "\n",
    "If you were to take the square root of this function $f(x) = x^2$ you could write it as the following:\n",
    "\n",
    "<h3 align='center'>$\\sqrt{f(x)} = \\sqrt{x^2} = (x^{2})^{\\frac{1}{2}}$</h3>\n",
    "\n",
    "Where you may be tempted to write the final answer like this:\n",
    "\n",
    "<h3 align='center'>$\\sqrt{x^2} = \\pm \\ x$</h3>\n",
    "\n",
    "This is the formatting we had for a single value like $4$. **But,** when taking the square root of a function, $\\pm$ doesn't actually tell you what is happening in this scenario. Instead, we write it as:\n",
    "\n",
    "<h3 align='center'>$\\sqrt{x^2} = \\lvert x \\rvert$ </h3>\n",
    "\n",
    "Where $\\lvert x \\rvert$ is defined as the **absolute value** function. This means that:\n",
    "\n",
    "<h3 align='left'> - If $x \\geq 0$, then $\\lvert x\\rvert$ equals $(x)$ </h3>\n",
    "\n",
    "<h3 align='left'> - If $x < 0$, then $\\lvert x\\rvert$ equals $-(x)$ </h3>\n",
    "\n",
    "> ## **Note**\n",
    "Our second line states that *\"If $x<0$, then $\\lvert x \\rvert$ equals $-(x)$\"*. This means that for any **negative** value of $x$, we substitute that value into the $x$ in $-(x)$, and get a double negative. This results in a **positive** value. For example: $\\lvert -2 \\rvert = -(-2) = 2$. This is true for all negative values inside the absolute value function.\n",
    "\n",
    "A formal definition of this would be:\n",
    "\n",
    "<h3 align='center'>$\\lvert x\\rvert = \\begin{cases}x , & \\text{if } x\\geq 0 \\\\ -(x),& \\text{if }x<0\\end{cases}$</h3>"
   ]
  },
  {
   "cell_type": "markdown",
   "metadata": {},
   "source": [
    "Now that we've introduced  the absolute value function, we can begin *finding the roots* of some quadratic functions.\n",
    "\n",
    "Remember that the root of a function is where $f(x) = 0$. In our initial example, where $f(x) = x^2$, we can prove by inspection of our graphic that the function has a root at $x = 0$. But, if we were to find this function's root more rigoroursly, you would **follow these steps**:\n",
    "\n",
    "<h3 align='left'> 1. Set $f(x)$ equal to $0$ so that $f(x) = x^2 = 0$. </h3>\n",
    "\n",
    "<h3 align='left'> 2. Take the square root of BOTH sides so that $\\lvert x \\rvert = 0$ </h3>\n",
    "\n",
    "<h3 align='left'> 3. Solve the expression for the POSITIVE case of the absolute value function. </h3>\n",
    "    \n",
    "> ## **Note**\n",
    "For step 3 we only look at the **positive** case of the absolute function. This is because, in our formal definition, the only condition where $x$ is defined at 0 is when x is **positive**. This is what is needed to solve for the root."
   ]
  },
  {
   "cell_type": "markdown",
   "metadata": {},
   "source": [
    "How about a less trivial example?\n",
    "\n",
    "Let's look at the function:\n",
    "\n",
    "<h3 align='center'>$h(x) = x^2 - 10x + 25$</h3>\n",
    "\n",
    "If you can, take a moment to try and factor this by hand. You should end up with an expression that looks like $(x-a)^2$, where $a$ is an integer value. To check your answer, click on the button below."
   ]
  },
  {
   "cell_type": "code",
   "execution_count": 8,
   "metadata": {
    "scrolled": true
   },
   "outputs": [
    {
     "data": {
      "application/vnd.jupyter.widget-view+json": {
       "model_id": "ca9b51b3cbdb4b08855afd67f1fae208",
       "version_major": 2,
       "version_minor": 0
      },
      "text/plain": [
       "Button(description='Show Answer', style=ButtonStyle())"
      ]
     },
     "metadata": {},
     "output_type": "display_data"
    }
   ],
   "source": [
    "#Construction of button to provide factored polynomial result.\n",
    "buttonShowAnswer = widgets.Button(description=\"Show Answer\")\n",
    "\n",
    "def displayAnswer(a):\n",
    "    display(Math('x^2 - 10x + 25 = (x-5)^2'))\n",
    "    buttonShowAnswer.close()\n",
    "\n",
    "display(buttonShowAnswer)\n",
    "buttonShowAnswer.on_click(displayAnswer)"
   ]
  },
  {
   "cell_type": "markdown",
   "metadata": {},
   "source": [
    "This is in the same form as our last example, since $(x-5)$ is all squared. Therefore, we can follow the exact same steps as before:\n",
    "\n",
    "1. $\\sqrt{(x-5)^2} = 0$\n",
    "\n",
    "2. $\\lvert(x-5)\\rvert = 0$\n",
    "\n",
    "3. Positive case: $x-5 = 0$ $\\color{red}\\rightarrow$ $x=5$\n",
    "\n",
    "We've found the root!\n",
    "\n",
    "It is important to note that functions of the form $f(x) = (ax-b)^2$ only have **1** real root. This root can be found by inspecting the graph or by applying the method we just saw. \n",
    "\n",
    "So what would all these operations look like graphically? This is a good opportunity to practice making graphs of mathematical functions in Python!\n",
    "\n",
    "First off, let's look at our original functions $f(x)$ and $h(x)$. Graphically, the $x$ value is in the range of $[-5,10]$, (We are **only** looking at the values of $x$ between $-5$ and $10$, including $-5$ and $10$)."
   ]
  },
  {
   "cell_type": "code",
   "execution_count": 9,
   "metadata": {
    "scrolled": true
   },
   "outputs": [
    {
     "data": {
      "image/png": "[encoded data removed]",
      "text/plain": [
       "<Figure size 720x504 with 1 Axes>"
      ]
     },
     "metadata": {
      "needs_background": "light"
     },
     "output_type": "display_data"
    }
   ],
   "source": [
    "# functions to be plotted\n",
    "x = np.linspace(-10,10,1000)\n",
    "fx = x**2.\n",
    "gx = (x-5)**2.\n",
    "\n",
    "# plot showing f(x) and g(x)\n",
    "plt.figure(1,figsize = (10,7))\n",
    "hold = True\n",
    "plt.plot(x,fx,'r-',label = r'$f(x) = x^2$')\n",
    "plt.plot(x,gx,'b-',label = r'$g(x) = (x-5)^2$')\n",
    "plt.plot([-10,10],[0,0],'k-',alpha = 1,linewidth = 1)\n",
    "plt.plot([0,0],[-10,10],'k-',alpha = 1,linewidth = 1)\n",
    "plt.grid(alpha = 0.7)\n",
    "plt.legend(loc = 'lower right',fontsize = 13)\n",
    "plt.xticks(np.arange(-5,11))\n",
    "plt.ylim([-2,5])\n",
    "plt.xlim([-5,10])\n",
    "plt.show()"
   ]
  },
  {
   "cell_type": "markdown",
   "metadata": {},
   "source": [
    "As we found earlier, $f(x)$ and $h(x)$ are parabolas with roots at $x = 0$ and $x = 5$ respectively.\n",
    "\n",
    "The next step will be to *take the square root of our functions* and check what this process looks like. This time, you will input the required code for the functions, so that you become familiar with how to do it. To do this, here's a quick overview of how you type mathematical symbols:\n",
    "\n",
    "- $+$ and $-$ are simply typed as you see here\n",
    "- To do **multiplication** ($\\times$), you must type in an *asterisk*, ( $^{*}$ )\n",
    "- To do **division** ($\\div$), you must type in a *forward slash*, ( $/$ )\n",
    "- To do an **exponent** ($x^{n}$), you must type in *two asterisks* followed by the *exponent*, ( $^{**}n$ )\n",
    "- To do a **square root** ($\\sqrt{x}$), you must type \"$sqrt(x)$\"."
   ]
  },
  {
   "cell_type": "code",
   "execution_count": 10,
   "metadata": {},
   "outputs": [
    {
     "data": {
      "text/latex": [
       "Using the syntax from above, please enter what the square root of $h(x) = (x-5)^2$ is, (Remember to include brackets)"
      ],
      "text/plain": [
       "<IPython.core.display.Latex object>"
      ]
     },
     "metadata": {},
     "output_type": "display_data"
    },
    {
     "data": {
      "application/vnd.jupyter.widget-view+json": {
       "model_id": "ec30502926c2482dba0b08a8fc2e2833",
       "version_major": 2,
       "version_minor": 0
      },
      "text/plain": [
       "Text(value='', description='Type your answer here: ', style=DescriptionStyle(description_width='initial'))"
      ]
     },
     "metadata": {},
     "output_type": "display_data"
    },
    {
     "data": {
      "application/vnd.jupyter.widget-view+json": {
       "model_id": "e64076fdae304b0881d4bd470e579fb7",
       "version_major": 2,
       "version_minor": 0
      },
      "text/plain": [
       "Button(description='Check Answer', style=ButtonStyle())"
      ]
     },
     "metadata": {},
     "output_type": "display_data"
    }
   ],
   "source": [
    "from IPython.display import clear_output\n",
    "x = np.linspace(-10,10,1000)\n",
    "\n",
    "#Used to ensure the description text doesn't get cut off.\n",
    "style = {'description_width': 'initial'}\n",
    "\n",
    "#Create an input text widget.\n",
    "question = widgets.Text(\n",
    "    value=None,\n",
    "    description='Type your answer here: ',\n",
    "    disabled=False,\n",
    "    style = style\n",
    "    )\n",
    "\n",
    "#Create a button titled \"Check Answer\"\n",
    "checkButton = widgets.Button(description = \"Check Answer\")\n",
    "\n",
    "def checkAnswer(a):\n",
    "    #questionAnswer will be the input given by the user.\n",
    "    questionAnswer = question.value\n",
    "    \n",
    "    #answers is a list of possible answers that can be inputted. \n",
    "    answers = [\"sqrt((x-5)**2)\", \"(x-5)\", \"x-5\"]\n",
    "    \n",
    "    #Check if the input is in the list of answers. If this is the case:\n",
    "    if questionAnswer in answers:\n",
    "        clear_output()\n",
    "        display(writtenQuestion)\n",
    "        print(\"You answered: \" + questionAnswer)\n",
    "        print(\"Well done!\")\n",
    "        \n",
    "        fx = sqrt(x**2)\n",
    "        gx = sqrt((x-5)**2)\n",
    "        \n",
    "        # plot the absolute value functions of both f(x) and g(x)\n",
    "        plt.figure(1,figsize = (10,7))\n",
    "        hold = True\n",
    "        plt.plot(x,x**2.,'r-',label = r'$x^2$')\n",
    "        plt.plot(x,fx,'m--',label = r'$\\sqrt{x^2}$')\n",
    "        plt.plot(x,(x-5)**2.,'b-',label = r'$(x-5)^2$')\n",
    "        plt.plot(x,gx,'c--',label = r'$\\sqrt{(x-5)^2}$')\n",
    "        plt.plot([-10,10],[0,0],'k-',alpha = 1,linewidth = 1)\n",
    "        plt.plot([0,0],[-10,10],'k-',alpha = 1,linewidth = 1)\n",
    "        plt.grid(alpha = 0.7)\n",
    "        plt.legend(loc = 'lower right',fontsize = 13)\n",
    "        plt.xticks(np.arange(-5,11))\n",
    "        plt.ylim([-2,5])\n",
    "        plt.xlim([-5,10])\n",
    "        plt.show()\n",
    "    \n",
    "    #Otherwise, if no answer has been given, do nothing.\n",
    "    elif (questionAnswer == \"\"):\n",
    "        None\n",
    "    \n",
    "    #Lastly, if the answer is wrong, give the user a hint.\n",
    "    else:\n",
    "        clear_output()\n",
    "        display(writtenQuestion)\n",
    "        display(question)\n",
    "        display(checkButton)\n",
    "        print('Not quite right. \\nRemember, the answer is just \"sqrt(h(x))\"')\n",
    "\n",
    "#writtenQuestion is the question the user is asked.\n",
    "writtenQuestion =  Latex(\"Using the syntax from above, please enter what the \\\n",
    "square root of $h(x) = (x-5)^2$ is, (Remember to include brackets)\")\n",
    "\n",
    "display(writtenQuestion)\n",
    "display(question)\n",
    "display(checkButton)\n",
    "\n",
    "checkButton.on_click(checkAnswer)"
   ]
  },
  {
   "cell_type": "markdown",
   "metadata": {},
   "source": [
    "To summarize, taking the square root of functions of the form:\n",
    "\n",
    "<h3 align='center'>$f(x) = (ax-b)^2$ </h3>\n",
    "\n",
    "Where $a$ and $b$ are constants, will give the result:\n",
    "\n",
    "<h3 align='center'>$\\sqrt{f(x)} = \\lvert ax-b\\rvert$ </h3>\n",
    "\n",
    "We can also generalize the principle root, which will be denoted as $x_0$, of such functions as \n",
    "\n",
    "<h3 align='center'>$x_0 = \\frac{b}{a} \\ \\ \\ \\ a \\neq 0 $ </h3>"
   ]
  },
  {
   "cell_type": "markdown",
   "metadata": {},
   "source": [
    "## Rational Exponents (n $\\geq$ 2)\n",
    "\n",
    "As mentioned before we defined a radical function to be of the form $f(g(x)) = g(x)^{\\frac{1}{n}}$. Now we are going to look at functions where $n\\geq2$. \n",
    "\n",
    "Below is an *interactive slider*. Moving the slider will change the value of $n$ in our rational exponent expression. See what happens when you move this around."
   ]
  },
  {
   "cell_type": "code",
   "execution_count": 11,
   "metadata": {},
   "outputs": [
    {
     "data": {
      "application/vnd.jupyter.widget-view+json": {
       "model_id": "2b83f3ea50b14e94acef72e73a46fc35",
       "version_major": 2,
       "version_minor": 0
      },
      "text/plain": [
       "interactive(children=(IntSlider(value=6, description='n', max=10, min=2), Output()), _dom_classes=('widget-int…"
      ]
     },
     "metadata": {},
     "output_type": "display_data"
    }
   ],
   "source": [
    "#Construction of interactive plot to visualize x^(1/n)\n",
    "def slider(n):\n",
    "    x = np.linspace(1e-7,10,500)\n",
    "    if n != 0:\n",
    "        plt.figure(1,figsize = (10,7))\n",
    "        hold = True\n",
    "        plt.plot(x,x**(1./n),'b-',linewidth = 2,label = str((r'$y = x^{1/' + str(n) + '}$')))\n",
    "        plt.xlabel('$x$',fontsize = 14)\n",
    "        plt.ylabel('$y$',fontsize = 14)\n",
    "        plt.plot([-10,10],[0,0],'k-',alpha = 1,linewidth = 1)\n",
    "        plt.plot([0,0],[-10,10],'k-',alpha = 1,linewidth = 1)\n",
    "        plt.grid(alpha = 0.7)\n",
    "        plt.xticks(np.arange(-5,11))\n",
    "        plt.ylim([-2,5])\n",
    "        plt.xlim([-5,10])\n",
    "        plt.legend(loc = 'best', fontsize = 18)\n",
    "        plt.show()\n",
    "\n",
    "    return n\n",
    "\n",
    "#Store a slider with a range between 2 and 10 in the character j.\n",
    "j = interactive(slider, n=(2,10,1))\n",
    "display(j)\n"
   ]
  },
  {
   "cell_type": "markdown",
   "metadata": {},
   "source": [
    "Likewise, we can look at functions where the exponent is negative, such that: \n",
    "\n",
    "<h3 align='center'>$f(g(x)) = g(x)^{\\frac{-1}{n}} = \\frac{1}{g(x)^{\\frac{1}{n}}}$</h3>\n",
    "\n",
    "Again, an interactive graph is shown below, to observe how changing the value of n affects the behaviour of the function."
   ]
  },
  {
   "cell_type": "code",
   "execution_count": 12,
   "metadata": {
    "scrolled": false
   },
   "outputs": [
    {
     "data": {
      "application/vnd.jupyter.widget-view+json": {
       "model_id": "16366017569e4454bee29080de4f5f91",
       "version_major": 2,
       "version_minor": 0
      },
      "text/plain": [
       "interactive(children=(IntSlider(value=-6, description='n', max=-2, min=-10), Output()), _dom_classes=('widget-…"
      ]
     },
     "metadata": {},
     "output_type": "display_data"
    }
   ],
   "source": [
    "#Construction of interactive plot to visualize x^(-1/n)\n",
    "def slider(n):\n",
    "    x = np.linspace(1e-7,10,500)\n",
    "    if n != 0:\n",
    "        plt.figure(1,figsize = (10,7))\n",
    "        hold = True\n",
    "        plt.plot(x,x**(1./n),'b-',linewidth = 2,label = str((r'$y = x^{-1/' + str(abs(n)) + '}$')))\n",
    "        plt.xlabel('$x$',fontsize = 14)\n",
    "        plt.ylabel('$y$',fontsize = 14)\n",
    "        plt.plot([-10,10],[0,0],'k-',alpha = 1,linewidth = 1)\n",
    "        plt.plot([0,0],[-10,10],'k-',alpha = 1,linewidth = 1)\n",
    "        plt.grid(alpha = 0.7)\n",
    "        plt.xticks(np.arange(-5,11))\n",
    "        plt.ylim([-2,5])\n",
    "        plt.xlim([-5,10])\n",
    "        plt.legend(loc = 'best', fontsize = 18)\n",
    "        plt.show()\n",
    "\n",
    "    return n\n",
    "\n",
    "#Store a slider with a range between -2 and -10 in the character j.\n",
    "j = interactive(slider, n=(-10,-2,1))\n",
    "display(j)"
   ]
  },
  {
   "cell_type": "markdown",
   "metadata": {},
   "source": [
    "We can see that no matter what value appears in the exponent, the function is **always** greater than 0. \n",
    "\n",
    "This is because a radical function like $x^{\\frac{1}{n}}$ is **only** defined for values of $x\\geq0$. Functions like $x^{\\frac{-1}{n}}$ are also **only** defined for values of $x > 0$. This is true of all radical functions. So:\n",
    "\n",
    "<h3 align='left'>- An expression under an exponent $(1/n)$ must be a POSITIVE value </h3>\n",
    "           \n",
    "<h3 align='left'>- An expressions under an exponent $(-1/n)$ must be both POSITIVE and NON-ZERO</h3>"
   ]
  },
  {
   "cell_type": "markdown",
   "metadata": {},
   "source": [
    "\n",
    "Some examples of this are:\n",
    "\n",
    "a)$\\ \\sqrt{4-x}$ must be a **POSITIVE** quantity.\n",
    "\n",
    "b)$\\ (2x-10)^{\\frac{1}{3}}$ must be a **POSITIVE** quantity.\n",
    "\n",
    "c)$\\ (9-7x)^{\\frac{-1}{5}}$ must be a **POSITIVE** and **NON-ZERO** quantity.\n",
    "\n",
    "So what exactly does this mean? How do we know where these quantities become negative? What might these functions look like? This will all be answered in the next section!"
   ]
  },
  {
   "cell_type": "markdown",
   "metadata": {},
   "source": [
    "## Domain of Existence\n",
    "\n",
    "It is very important that the value underneath a fractional exponent ($\\frac{1}{n}$) is positive. Where the values are positive defines the **domain of existence**. Let's see if we can figure out what the domains of existence are for $a)$, $b)$ and $c)$. \n",
    "\n",
    "For $a)$, we need to see where $(4-x) \\geq 0$. To do this, we can **follow these steps**:\n",
    "\n",
    "\n",
    "<h3 align='left'> 1. Write out the expression, ( $(4 - x) \\geq 0$ ) </h3>\n",
    "\n",
    "<h3 align='left'> 2. Isolate for $x$, ( $-x \\geq -4 $ ) </h3>\n",
    "\n",
    "<h3 align='left'> 3. Ensure that $x$ doesn't have a negative sign in front of it, ( $x \\leq 4$ ) </h3>\n",
    "\n",
    "> ## **Note**\n",
    "Remember that *flipping a sign* from negative, ($-$), to positive, ($+$), will *flip the inequality*. This is also true the other way around, (Flipping a sign from positive to negative).\n",
    "\n",
    "So, we've found that the domain of existence for $\\sqrt{4-x}$ is all $x$ values such that $x \\leq 4$.\n",
    "\n",
    "Now, $b)$ and $c)$ will be left for you to solve and input into the boxes provided below. Remember, we want to find where the expression under the exponent is **positive**. If you get stuck, look back to how the domain of existence was found for function $a)$. \n",
    "\n",
    "### How to Input Domain of Existence\n",
    "Let's say we wanted to input our answer for the domain of existence of $\\sqrt{4-x}$, (Which was $x \\leq 4$). The input formatting for the *\"less than or equal to\"* symbol is written exactly how it is said. So, if you are given an input box to enter your answer, you would type in: \n",
    "\n",
    "<h3 align='center'> $x <= 4$ </h3>\n",
    "\n",
    "> ## **Note**\n",
    "*Spaces are important.* You should also write fractions like $\\frac{5}{3}$ as \"$5/3$\""
   ]
  },
  {
   "cell_type": "code",
   "execution_count": 13,
   "metadata": {
    "scrolled": true
   },
   "outputs": [
    {
     "data": {
      "text/latex": [
       "Type \"$x <= 4$\" into the input box below to ensure you are using the appropriate syntax."
      ],
      "text/plain": [
       "<IPython.core.display.Latex object>"
      ]
     },
     "metadata": {},
     "output_type": "display_data"
    },
    {
     "data": {
      "application/vnd.jupyter.widget-view+json": {
       "model_id": "71af37886aaa469f8195f6d8d5e801f1",
       "version_major": 2,
       "version_minor": 0
      },
      "text/plain": [
       "Text(value='', description='Input: ', style=DescriptionStyle(description_width='initial'))"
      ]
     },
     "metadata": {},
     "output_type": "display_data"
    },
    {
     "data": {
      "application/vnd.jupyter.widget-view+json": {
       "model_id": "e64ee00f118a42e68856e730d72590a9",
       "version_major": 2,
       "version_minor": 0
      },
      "text/plain": [
       "Button(description='Check Answer', style=ButtonStyle())"
      ]
     },
     "metadata": {},
     "output_type": "display_data"
    }
   ],
   "source": [
    "from IPython.display import clear_output\n",
    "\n",
    "#Used to ensure the description text doesn't get cut off.\n",
    "style = {'description_width': 'initial'}\n",
    "\n",
    "#Create an input text widget.\n",
    "question = widgets.Text(\n",
    "    value=None,\n",
    "    description='Input: ',\n",
    "    disabled=False,\n",
    "    style = style\n",
    "    )\n",
    "\n",
    "checkButton = widgets.Button(description = \"Check Answer\")\n",
    "\n",
    "def checkAnswer(a):\n",
    "    #questionAnswer will be the input given by the user.\n",
    "    questionAnswer = question.value\n",
    "    \n",
    "    #answers is a list of possible answers that can be inputted. \n",
    "    answers = [\"x <= 4\"]\n",
    "    \n",
    "    #Check if the input is in the list of answers. If this is the case:\n",
    "    if questionAnswer in answers:\n",
    "        clear_output()\n",
    "        display(writtenQuestion)\n",
    "        print(\"You answered: \" + questionAnswer)\n",
    "        print(\"Well done!\")\n",
    "    \n",
    "    #Otherwise, if no input has been given, do nothing:\n",
    "    elif (questionAnswer == \"\"):\n",
    "        None\n",
    "    \n",
    "    #Lastly, if the answer is wrong, give the user a hint:\n",
    "    else:\n",
    "        clear_output()\n",
    "        display(writtenQuestion)\n",
    "        display(question)\n",
    "        display(checkButton)\n",
    "        print('Not quite right. \\nRemember, you only have to type in \"x <= 4\".')\n",
    "\n",
    "#writtenQuestion is the question the user is asked.\n",
    "writtenQuestion =  Latex('Type \"$x <= 4$\" into the input box below to ensure you are \\\n",
    "using the appropriate syntax.')\n",
    "\n",
    "display(writtenQuestion)\n",
    "display(question)\n",
    "display(checkButton)\n",
    "\n",
    "checkButton.on_click(checkAnswer)"
   ]
  },
  {
   "cell_type": "code",
   "execution_count": 14,
   "metadata": {},
   "outputs": [
    {
     "data": {
      "text/latex": [
       "Find the domain of existence for: $(2x - 10)^{1/3}$"
      ],
      "text/plain": [
       "<IPython.core.display.Latex object>"
      ]
     },
     "metadata": {},
     "output_type": "display_data"
    },
    {
     "data": {
      "application/vnd.jupyter.widget-view+json": {
       "model_id": "9213b49dee8f466a81d4af5c7e8bd841",
       "version_major": 2,
       "version_minor": 0
      },
      "text/plain": [
       "Text(value='', description='Input: ', style=DescriptionStyle(description_width='initial'))"
      ]
     },
     "metadata": {},
     "output_type": "display_data"
    },
    {
     "data": {
      "application/vnd.jupyter.widget-view+json": {
       "model_id": "2e3038a6d41241ac905539c9e0641658",
       "version_major": 2,
       "version_minor": 0
      },
      "text/plain": [
       "Button(description='Check Answer', style=ButtonStyle())"
      ]
     },
     "metadata": {},
     "output_type": "display_data"
    }
   ],
   "source": [
    "from IPython.display import clear_output\n",
    "#Used to ensure the description text doesn't get cut off.\n",
    "style = {'description_width': 'initial'}\n",
    "\n",
    "question = widgets.Text(\n",
    "    value=None,\n",
    "    description='Input: ',\n",
    "    disabled=False,\n",
    "    style = style\n",
    "    )\n",
    "\n",
    "checkButton = widgets.Button(description = \"Check Answer\")\n",
    "\n",
    "def checkAnswer(a):\n",
    "    #questionAnswer will be the input given by the user.\n",
    "    questionAnswer = question.value\n",
    "    \n",
    "    #answers is a list of possible answers that can be inputted. \n",
    "    answers = [\"x >= 5\"]\n",
    "    \n",
    "    #Check if the input is in the list of answers. If this is the case:\n",
    "    if questionAnswer in answers:\n",
    "        clear_output()\n",
    "        display(writtenQuestion)\n",
    "        print(\"You answered: \" + questionAnswer)\n",
    "        print(correct)\n",
    "    \n",
    "    #Otherwise, if no input has been given, do nothing:\n",
    "    elif (questionAnswer == \"\"):\n",
    "        None\n",
    "    \n",
    "    #Lastly, if the answer is wrong, give the user a hint:\n",
    "    else:\n",
    "        clear_output()\n",
    "        display(writtenQuestion)\n",
    "        display(question)\n",
    "        display(checkButton)\n",
    "        print(hint)\n",
    "\n",
    "#writtenQuestion is the question the user is asked.\n",
    "writtenQuestion =  Latex(\"Find the domain of existence for: $(2x - 10)^{1/3}$\")\n",
    "\n",
    "#hint is the hint the user is given when the answer is incorrect.\n",
    "hint = 'Not quite right. \\nRemember, the process to find the domain of existence is:\\n\\\n",
    "    1. Write out the expression,\\n\\\n",
    "    2. Isolate for x, \\n\\\n",
    "    3. Ensure that x is not negative.'\n",
    "\n",
    "#correct is the message outputed for when the user gets the question correct.\n",
    "correct = \"Well done!\\n\\\n",
    "    1. Write out the expression, ((2x - 10) >= 0),\\n\\\n",
    "    2. Isolate for x, (x >= 5),\\n\\\n",
    "    3. Ensure that x doesn't have a negative sign, (x >= 5)\"\n",
    "\n",
    "display(writtenQuestion)\n",
    "display(question)\n",
    "display(checkButton)\n",
    "\n",
    "checkButton.on_click(checkAnswer)"
   ]
  },
  {
   "cell_type": "code",
   "execution_count": 15,
   "metadata": {},
   "outputs": [
    {
     "data": {
      "text/latex": [
       "Find the domain of existence for: $(9 - 7x)^{-1/5}$"
      ],
      "text/plain": [
       "<IPython.core.display.Latex object>"
      ]
     },
     "metadata": {},
     "output_type": "display_data"
    },
    {
     "data": {
      "application/vnd.jupyter.widget-view+json": {
       "model_id": "a0930be895bb465bb240e69d52ab232a",
       "version_major": 2,
       "version_minor": 0
      },
      "text/plain": [
       "Text(value='', description='Input: ', style=DescriptionStyle(description_width='initial'))"
      ]
     },
     "metadata": {},
     "output_type": "display_data"
    },
    {
     "data": {
      "application/vnd.jupyter.widget-view+json": {
       "model_id": "be5d6ee547bf4f6480e6be0cc44ecca1",
       "version_major": 2,
       "version_minor": 0
      },
      "text/plain": [
       "Button(description='Check Answer', style=ButtonStyle())"
      ]
     },
     "metadata": {},
     "output_type": "display_data"
    }
   ],
   "source": [
    "from IPython.display import clear_output\n",
    "#Used to ensure the description text doesn't get cut off.\n",
    "style = {'description_width': 'initial'}\n",
    "\n",
    "question = widgets.Text(\n",
    "    value=None,\n",
    "    description='Input: ',\n",
    "    disabled=False,\n",
    "    style = style\n",
    "    )\n",
    "\n",
    "checkButton = widgets.Button(description = \"Check Answer\")\n",
    "\n",
    "def checkAnswer(a):\n",
    "    #questionAnswer will be the input given by the user.\n",
    "    questionAnswer = question.value\n",
    "    \n",
    "    #answers is a list of possible answers that can be inputted. \n",
    "    answers = [\"x < 9/7\", \"x < (9/7)\"]\n",
    "    \n",
    "    #Check if the input is in the list of answers. If this is the case:\n",
    "    if questionAnswer in answers:\n",
    "        clear_output()\n",
    "        display(writtenQuestion)\n",
    "        print(\"You answered: \" + questionAnswer)\n",
    "        print(correct)\n",
    "    \n",
    "    #Otherwise, if no input has been given, do nothing:\n",
    "    elif (questionAnswer == \"\"):\n",
    "        None\n",
    "    \n",
    "    #Lastly, if the answer is wrong, give the user a hint:\n",
    "    else:\n",
    "        clear_output()\n",
    "        display(writtenQuestion)\n",
    "        display(question)\n",
    "        display(checkButton)\n",
    "        print(hint)\n",
    "\n",
    "#writtenQuestion is the question the user is asked.\n",
    "writtenQuestion =  Latex(\"Find the domain of existence for: $(9 - 7x)^{-1/5}$\")\n",
    "\n",
    "#hint is the hint the user is given when the answer is incorrect.\n",
    "hint = 'Not quite right. \\nRemember, the process to find the domain of existence is:\\n\\\n",
    "    1. Write out the expression,\\n\\\n",
    "    2. Isolate for x, \\n\\\n",
    "    3. Ensure that x is not negative.'\n",
    "\n",
    "#correct is the message outputed for when the user gets the question correct.\n",
    "correct = \"Well done!\\n\\\n",
    "    1. Write out the expression, ((9 - 7x) > 0),\\n\\\n",
    "    2. Isolate for x, (-x > -9/7),\\n\\\n",
    "    3. Ensure that x doesn't have a negative sign, (x < 9/7)\"\n",
    "\n",
    "display(writtenQuestion)\n",
    "display(question)\n",
    "display(checkButton)\n",
    "\n",
    "checkButton.on_click(checkAnswer)"
   ]
  },
  {
   "cell_type": "markdown",
   "metadata": {},
   "source": [
    "The following graph shows us what these functions we worked with look like. It should be clear that each function exists exactly where we defined them in the previous exercise. "
   ]
  },
  {
   "cell_type": "code",
   "execution_count": 18,
   "metadata": {},
   "outputs": [
    {
     "data": {
      "image/png": "[encoded data removed]",
      "text/plain": [
       "<Figure size 720x504 with 1 Axes>"
      ]
     },
     "metadata": {
      "needs_background": "light"
     },
     "output_type": "display_data"
    }
   ],
   "source": [
    "\"\"\"\"\n",
    "plot of all the functions a, b and c that students will have worked with\n",
    "shows the domains of existence that were found in the exercises\n",
    "\"\"\"\n",
    "\n",
    "x1 = np.linspace(-10,3,500)\n",
    "x2 = np.linspace(5,10,500)\n",
    "x3 = np.linspace(-10.,8.9999/7.,500)\n",
    "plt.figure(1,figsize = (10,7))\n",
    "hold = True\n",
    "plt.plot(9./7. * np.ones(100),np.linspace(0,12,100),'k--',alpha = 0.5)\n",
    "plt.plot(x1,sqrt(3-x1),'b-',label = r'$y = \\sqrt{3-x}$')\n",
    "plt.plot(x2,(2*x2-10)**(1./3.),'r-', label = r'$y = (2x-10)^{\\frac{1}{3}}$')\n",
    "plt.plot(x3,(9-7*x3)**(-1./5.),'g-', label = r'$y = (9-7x)^{\\frac{-1}{5}}$')\n",
    "\n",
    "plt.text(9./7.-0.4,-0.25,r'$9/7$',fontsize = 13)\n",
    "plt.xlabel('$x$',fontsize = 14)\n",
    "plt.ylabel('$y$',fontsize = 14)\n",
    "plt.plot([-10,10],[0,0],'k-',alpha = 1,linewidth = 1)\n",
    "plt.plot([0,0],[-10,10],'k-',alpha = 1,linewidth = 1)\n",
    "plt.grid(alpha = 0.7)\n",
    "plt.xticks(np.arange(-10,11))\n",
    "plt.ylim([-2,5])\n",
    "plt.xlim([-10,10])\n",
    "plt.legend(loc = 'best', fontsize = 18)\n",
    "plt.show()"
   ]
  },
  {
   "cell_type": "markdown",
   "metadata": {},
   "source": [
    "# Questions\n",
    "\n",
    "## Problem Set 1\n",
    "Here, you will be tested on the topics we covered in this notebook. You will be asked to find the roots for functions that must be factored first. You will also have to find the domain of existence of certain functions using the method we just applied in the section above. Remember to be careful of negative exponents!"
   ]
  },
  {
   "cell_type": "code",
   "execution_count": 19,
   "metadata": {},
   "outputs": [
    {
     "data": {
      "text/latex": [
       "Find the domain of existence for: $(-2x + 14)^{1/2}$"
      ],
      "text/plain": [
       "<IPython.core.display.Latex object>"
      ]
     },
     "metadata": {},
     "output_type": "display_data"
    },
    {
     "data": {
      "application/vnd.jupyter.widget-view+json": {
       "model_id": "11c32b8a905e4277bf970ff1e6978d04",
       "version_major": 2,
       "version_minor": 0
      },
      "text/plain": [
       "Text(value='', description='Input: ', style=DescriptionStyle(description_width='initial'))"
      ]
     },
     "metadata": {},
     "output_type": "display_data"
    },
    {
     "data": {
      "application/vnd.jupyter.widget-view+json": {
       "model_id": "5c92bc0d8d2849e09d3e349bfd82a1a4",
       "version_major": 2,
       "version_minor": 0
      },
      "text/plain": [
       "Button(description='Check Answer', style=ButtonStyle())"
      ]
     },
     "metadata": {},
     "output_type": "display_data"
    }
   ],
   "source": [
    "from IPython.display import clear_output\n",
    "#Used to ensure the description text doesn't get cut off.\n",
    "style = {'description_width': 'initial'}\n",
    "\n",
    "question = widgets.Text(\n",
    "    value=None,\n",
    "    description='Input: ',\n",
    "    disabled=False,\n",
    "    style = style\n",
    "    )\n",
    "\n",
    "checkButton = widgets.Button(description = \"Check Answer\")\n",
    "\n",
    "def checkAnswer(a):\n",
    "    #questionAnswer will be the input given by the user.\n",
    "    questionAnswer = question.value\n",
    "    \n",
    "    #answers is a list of possible answers that can be inputted. \n",
    "    answers = [\"x <= 7\"]\n",
    "    \n",
    "    #Check if the input is in the list of answers. If this is the case:\n",
    "    if questionAnswer in answers:\n",
    "        clear_output()\n",
    "        display(writtenQuestion)\n",
    "        print(\"You answered: \" + questionAnswer)\n",
    "        print(correct)\n",
    "    \n",
    "    #Otherwise, if no input has been given, do nothing:\n",
    "    elif (questionAnswer == \"\"):\n",
    "        None\n",
    "    \n",
    "    #Lastly, if the answer is wrong, give the user a hint:\n",
    "    else:\n",
    "        clear_output()\n",
    "        display(writtenQuestion)\n",
    "        display(question)\n",
    "        display(checkButton)\n",
    "        print(hint)\n",
    "\n",
    "#writtenQuestion is the question the user is asked.\n",
    "writtenQuestion =  Latex(\"Find the domain of existence for: $(-2x + 14)^{1/2}$\")\n",
    "\n",
    "#hint is the hint the user is given when the answer is incorrect.\n",
    "hint = 'Not quite right. \\nRemember, the process to find the domain of existence is:\\n\\\n",
    "    1. Write out the expression,\\n\\\n",
    "    2. Isolate for x, \\n\\\n",
    "    3. Ensure that x is not negative.'\n",
    "\n",
    "#correct is the message outputed for when the user gets the question correct.\n",
    "correct = \"Well done!\\n\\\n",
    "    1. Write out the expression, ((-2x + 14) >= 0),\\n\\\n",
    "    2. Isolate for x, (-x >= -7),\\n\\\n",
    "    3. Ensure that x doesn't have a negative sign, (x <= 7)\"\n",
    "\n",
    "display(writtenQuestion)\n",
    "display(question)\n",
    "display(checkButton)\n",
    "\n",
    "checkButton.on_click(checkAnswer)"
   ]
  },
  {
   "cell_type": "code",
   "execution_count": 20,
   "metadata": {},
   "outputs": [
    {
     "data": {
      "text/latex": [
       "Find the domain of existence for: $(15x-5+8x)^{-1/5}$"
      ],
      "text/plain": [
       "<IPython.core.display.Latex object>"
      ]
     },
     "metadata": {},
     "output_type": "display_data"
    },
    {
     "data": {
      "application/vnd.jupyter.widget-view+json": {
       "model_id": "2d206a26d759429db6eec1d97b7d7cc4",
       "version_major": 2,
       "version_minor": 0
      },
      "text/plain": [
       "Text(value='', description='Input: ', style=DescriptionStyle(description_width='initial'))"
      ]
     },
     "metadata": {},
     "output_type": "display_data"
    },
    {
     "data": {
      "application/vnd.jupyter.widget-view+json": {
       "model_id": "6e0a3f0b92c34199bc79ff24692a2074",
       "version_major": 2,
       "version_minor": 0
      },
      "text/plain": [
       "Button(description='Check Answer', style=ButtonStyle())"
      ]
     },
     "metadata": {},
     "output_type": "display_data"
    }
   ],
   "source": [
    "from IPython.display import clear_output\n",
    "#Used to ensure the description text doesn't get cut off.\n",
    "style = {'description_width': 'initial'}\n",
    "\n",
    "question = widgets.Text(\n",
    "    value=None,\n",
    "    description='Input: ',\n",
    "    disabled=False,\n",
    "    style = style\n",
    "    )\n",
    "\n",
    "checkButton = widgets.Button(description = \"Check Answer\")\n",
    "\n",
    "def checkAnswer(a):\n",
    "    #questionAnswer will be the input given by the user.\n",
    "    questionAnswer = question.value\n",
    "    \n",
    "    #answers is a list of possible answers that can be inputted. \n",
    "    answers = [\"x > 5/23\", \"x > (5/23)\"]\n",
    "    \n",
    "    #Check if the input is in the list of answers. If this is the case:\n",
    "    if questionAnswer in answers:\n",
    "        clear_output()\n",
    "        display(writtenQuestion)\n",
    "        print(\"You answered: \" + questionAnswer)\n",
    "        print(correct)\n",
    "    \n",
    "    #Otherwise, if no input has been given, do nothing:\n",
    "    elif (questionAnswer == \"\"):\n",
    "        None\n",
    "    \n",
    "    #Lastly, if the answer is wrong, give the user a hint:\n",
    "    else:\n",
    "        clear_output()\n",
    "        display(writtenQuestion)\n",
    "        display(question)\n",
    "        display(checkButton)\n",
    "        print(hint)\n",
    "        \n",
    "#writtenQuestion is the question the user is asked.\n",
    "writtenQuestion =  Latex(\"Find the domain of existence for: $(15x-5+8x)^{-1/5}$\")\n",
    "\n",
    "#hint is the hint the user is given when the answer is incorrect.\n",
    "hint = 'Not quite right. \\nRemember, the process to find the domain of existence is:\\n\\\n",
    "    1. Write out the expression,\\n\\\n",
    "    2. Isolate for x, \\n\\\n",
    "    3. Ensure that x is not negative.'\n",
    "\n",
    "#correct is the message outputed for when the user gets the question correct.\n",
    "correct = \"Well done!\\n\\\n",
    "    1. Write out the expression, ((23x - 5) > 0),\\n\\\n",
    "    2. Isolate for x, (x > 5/23),\\n\\\n",
    "    3. Ensure that x doesn't have a negative sign, (x > 5/23)\"\n",
    "\n",
    "display(writtenQuestion)\n",
    "display(question)\n",
    "display(checkButton)\n",
    "\n",
    "checkButton.on_click(checkAnswer)"
   ]
  },
  {
   "cell_type": "code",
   "execution_count": 21,
   "metadata": {},
   "outputs": [
    {
     "data": {
      "text/latex": [
       "Find the principle root for: $(x^2-6x+9)^{1/3}$"
      ],
      "text/plain": [
       "<IPython.core.display.Latex object>"
      ]
     },
     "metadata": {},
     "output_type": "display_data"
    },
    {
     "data": {
      "application/vnd.jupyter.widget-view+json": {
       "model_id": "8f45b659517f45c79f4e04bb05967cf4",
       "version_major": 2,
       "version_minor": 0
      },
      "text/plain": [
       "IntText(value=0, description='Input: ', style=DescriptionStyle(description_width='initial'))"
      ]
     },
     "metadata": {},
     "output_type": "display_data"
    },
    {
     "data": {
      "application/vnd.jupyter.widget-view+json": {
       "model_id": "d55653fcae804f88a7067f8e51045c6f",
       "version_major": 2,
       "version_minor": 0
      },
      "text/plain": [
       "Button(description='Check Answer', style=ButtonStyle())"
      ]
     },
     "metadata": {},
     "output_type": "display_data"
    }
   ],
   "source": [
    "from IPython.display import clear_output\n",
    "#Used to ensure the description text doesn't get cut off.\n",
    "style = {'description_width': 'initial'}\n",
    "\n",
    "question = widgets.IntText(\n",
    "    value=None,\n",
    "    description='Input: ',\n",
    "    disabled=False,\n",
    "    style = style\n",
    "    )\n",
    "\n",
    "checkButton = widgets.Button(description = \"Check Answer\")\n",
    "\n",
    "def checkAnswer(a):\n",
    "    #questionAnswer will be the input given by the user.\n",
    "    questionAnswer = question.value\n",
    "    \n",
    "    #answers is a list of possible answers that can be inputted. \n",
    "    answers = [3]\n",
    "    \n",
    "    #Check if the input is in the list of answers. If this is the case:\n",
    "    if questionAnswer in answers:\n",
    "        clear_output()\n",
    "        display(writtenQuestion)\n",
    "        print(\"You answered: \" + str(questionAnswer) )\n",
    "        print(correct)\n",
    "    \n",
    "    #Otherwise, if no input has been given, do nothing:\n",
    "    elif (questionAnswer == 0):\n",
    "        None\n",
    "    \n",
    "    #Lastly, if the answer is wrong, give the user a hint:\n",
    "    else:\n",
    "        clear_output()\n",
    "        display(writtenQuestion)\n",
    "        display(question)\n",
    "        display(checkButton)\n",
    "        print(hint)\n",
    "        \n",
    "#writtenQuestion is the question the user is asked.\n",
    "writtenQuestion =  Latex(\"Find the principle root for: $(x^2-6x+9)^{1/3}$\")\n",
    "\n",
    "#hint is the hint the user is given when the answer is incorrect.\n",
    "hint = 'Not quite right. \\nRemember, the process to find the principle root is:\\n\\\n",
    "    1. Set f(x)  equal to 0 so that f(x) = 0,\\n\\\n",
    "    2. Cube BOTH sides so that |x| = 0,\\n\\\n",
    "    3. Solve the expression for the POSITIVE case of the absolute value function.'\n",
    "\n",
    "#correct is the message outputed for when the user gets the question correct.\n",
    "correct = \"Well done!\\n\\\n",
    "    1. Set f(x)  equal to 0, ((x**2 - 6x + 9)**(1/3) = 0),\\n\\\n",
    "    2. Cube BOTH sides so that |x**2 - 6x + 9| = 0,\\n\\\n",
    "    3. Solve the expression for the POSITIVE case, (x = 3)\"\n",
    "\n",
    "display(writtenQuestion)\n",
    "display(question)\n",
    "display(checkButton)\n",
    "\n",
    "checkButton.on_click(checkAnswer)"
   ]
  },
  {
   "cell_type": "markdown",
   "metadata": {},
   "source": [
    "## Problem Set 2\n",
    "\n",
    "The next problems involve interacting with plots which already have functions graphed on them. In each function of the form:\n",
    "\n",
    "<h3 align='center'>$y = (a-bx)^{\\frac{1}{n}}$</h3>\n",
    "\n",
    "It is your job to find the right unknown parameters, **(a, b, n)**. This can be done by adjusting the sliders provided and matching the function graphically. This exercise will provide intuition on how adjusting the values in a function manipulates a graph."
   ]
  },
  {
   "cell_type": "code",
   "execution_count": 22,
   "metadata": {
    "scrolled": false
   },
   "outputs": [
    {
     "data": {
      "application/vnd.jupyter.widget-view+json": {
       "model_id": "3c3800f007674721a0f7511f2a49a1af",
       "version_major": 2,
       "version_minor": 0
      },
      "text/plain": [
       "interactive(children=(IntSlider(value=0, continuous_update=False, description='a', max=10, min=-10), IntSlider…"
      ]
     },
     "metadata": {},
     "output_type": "display_data"
    },
    {
     "data": {
      "text/latex": [
       "*If you're seeing no change, make sure b is NOT set to 0.*"
      ],
      "text/plain": [
       "<IPython.core.display.Latex object>"
      ]
     },
     "metadata": {},
     "output_type": "display_data"
    }
   ],
   "source": [
    "\"\"\"\n",
    "interactive plot where students have to match parameters a, b and n in the function f(x) = (a-bx)^(1/n)\n",
    "if & else statements are required to adjust the x-linspace such that python does not constantly return errors when\n",
    "an invalid (complex) value is encountered under the exponent\n",
    "\"\"\"\n",
    "\n",
    "def slider(a,b,n):\n",
    "    if b != 0:\n",
    "        i = float(a)/float(b)\n",
    "    else:\n",
    "        i = 0\n",
    "        a = 0 # when b = 0, set a = 0 to avoid all a < 0. Note at the bottom of each figure\n",
    "    if b > 0:\n",
    "        x = np.linspace(-10,i,500)\n",
    "    else:\n",
    "        x = np.linspace(i,10,500)\n",
    "    f = (a-b*x)**(1./n)\n",
    "    xx = np.linspace(-10,2,200)\n",
    "    plt.figure(1,figsize = (10,7))\n",
    "    hold = True\n",
    "    plt.plot(x,f,'m-',linewidth = 3)\n",
    "    plt.plot(xx,(6-3*xx)**(1./3.),'b--', linewidth = 2, label = r'$y = (a-bx)^{\\frac{1}{n}}$')\n",
    "    \n",
    "    #If the answer is correct,\n",
    "    if a == 6 and b == 3 and n == 3:\n",
    "        plt.text(1,2,'VERY GOOD!', fontsize = 25, fontweight = 'bold',color = 'r')\n",
    "        plt.plot(x,f,'m-',linewidth = 3, label = r'$y = (6-3x)^{\\frac{1}{3}}$')\n",
    "    plt.xlabel('$x$',fontsize = 14)\n",
    "    plt.ylabel('$y$',fontsize = 14)\n",
    "    plt.plot([-10,10],[0,0],'k-',alpha = 1,linewidth = 1)\n",
    "    plt.plot([0,0],[-10,10],'k-',alpha = 1,linewidth = 1)\n",
    "    plt.grid(alpha = 0.7)\n",
    "    plt.xticks(np.arange(-10,11))\n",
    "    plt.ylim([-2,5])\n",
    "    plt.xlim([-10,10])\n",
    "    plt.legend(loc = 'best', fontsize = 18)\n",
    "    plt.show()\n",
    "\n",
    "sl = interactive(slider, n=widgets.IntSlider(value = 2, min = 2,max = 5,step = 1, continuous_update = False),\n",
    "                a=widgets.IntSlider(value = 0, min = -10,max = 10,step = 1, continuous_update = False),\n",
    "                b=widgets.IntSlider(value = 0, min = -10,max = 10,step = 1, continuous_update = False))\n",
    "display(sl)\n",
    "display(Latex(\"*If you're seeing no change, make sure b is NOT set to 0.*\"))"
   ]
  },
  {
   "cell_type": "code",
   "execution_count": 23,
   "metadata": {},
   "outputs": [
    {
     "data": {
      "application/vnd.jupyter.widget-view+json": {
       "model_id": "a17fb698fce648dbab18a6d01ee1f047",
       "version_major": 2,
       "version_minor": 0
      },
      "text/plain": [
       "interactive(children=(IntSlider(value=0, continuous_update=False, description='a', max=10, min=-10), IntSlider…"
      ]
     },
     "metadata": {},
     "output_type": "display_data"
    },
    {
     "data": {
      "text/latex": [
       "*If you're seeing no change, make sure b is NOT set to 0.*"
      ],
      "text/plain": [
       "<IPython.core.display.Latex object>"
      ]
     },
     "metadata": {},
     "output_type": "display_data"
    }
   ],
   "source": [
    "def slider(a,b,n):\n",
    "    if b != 0:\n",
    "        i = float(a)/float(b)\n",
    "    else:\n",
    "        i = 0\n",
    "        a = 0\n",
    "    if b > 0:\n",
    "        x = np.linspace(-10,i,500)\n",
    "    else:\n",
    "        x = np.linspace(i,10,500)\n",
    "    f = (a-b*x)**(1./n)\n",
    "    xx = np.linspace(9./4,10,200)\n",
    "    plt.figure(1,figsize = (10,7))\n",
    "    hold = True\n",
    "    plt.plot(x,f,'m-',linewidth = 3)\n",
    "    plt.plot(xx,(-9+4*xx)**(1./2.),'b--', linewidth = 2, label = r'$y = (a-bx)^{\\frac{1}{n}}$')\n",
    "    \n",
    "    #If the answer is correct,\n",
    "    if a == -9 and b == -4 and n == 2:\n",
    "        plt.text(-7,2,'VERY GOOD!', fontsize = 25, fontweight = 'bold',color = 'r')\n",
    "        plt.plot(x,f,'m-',linewidth = 3, label = r'$y = (-9+4x)^{\\frac{1}{2}}$')\n",
    "    plt.xlabel('$x$',fontsize = 14)\n",
    "    plt.ylabel('$y$',fontsize = 14)\n",
    "    plt.plot([-10,10],[0,0],'k-',alpha = 1,linewidth = 1)\n",
    "    plt.plot([0,0],[-10,10],'k-',alpha = 1,linewidth = 1)\n",
    "    plt.grid(alpha = 0.7)\n",
    "    plt.xticks(np.arange(-10,11))\n",
    "    plt.ylim([-2,5])\n",
    "    plt.xlim([-10,10])\n",
    "    plt.legend(loc = 'best', fontsize = 18)\n",
    "    plt.show()\n",
    "\n",
    "sl = interactive(slider, n=widgets.IntSlider(value = 2, min = 2,max = 5,step = 1, continuous_update = False),\n",
    "                a=widgets.IntSlider(value = 0, min = -10,max = 10,step = 1, continuous_update = False),\n",
    "                b=widgets.IntSlider(value = 0, min = -10,max = 10,step = 1, continuous_update = False))\n",
    "display(sl)\n",
    "display(Latex(\"*If you're seeing no change, make sure b is NOT set to 0.*\"))"
   ]
  },
  {
   "cell_type": "code",
   "execution_count": 24,
   "metadata": {},
   "outputs": [
    {
     "data": {
      "application/vnd.jupyter.widget-view+json": {
       "model_id": "b0beb257b82c45a2b29f56beb70a7c65",
       "version_major": 2,
       "version_minor": 0
      },
      "text/plain": [
       "interactive(children=(IntSlider(value=0, continuous_update=False, description='a', max=10, min=-10), IntSlider…"
      ]
     },
     "metadata": {},
     "output_type": "display_data"
    },
    {
     "data": {
      "text/latex": [
       "*If you're seeing no change, make sure b is NOT set to 0.*"
      ],
      "text/plain": [
       "<IPython.core.display.Latex object>"
      ]
     },
     "metadata": {},
     "output_type": "display_data"
    }
   ],
   "source": [
    "def slider(a,b,n):\n",
    "    if b != 0:\n",
    "        i = float(a)/float(b)\n",
    "    else:\n",
    "        i = 0\n",
    "        a = 0\n",
    "    if b > 0:\n",
    "        x = np.linspace(-10,i,500)\n",
    "    else:\n",
    "        x = np.linspace(i,10,500)\n",
    "    f = (a-b*x)**(1./n)\n",
    "    xx = np.linspace(-4,10,200)\n",
    "    plt.figure(1,figsize = (10,7))\n",
    "    hold = True\n",
    "    plt.plot(x,f,'m-',linewidth = 3)\n",
    "    plt.plot(xx,(8+2*xx)**(1./5.),'b--', linewidth = 2, label = r'$y = (a-bx)^{\\frac{1}{n}}$')\n",
    "    \n",
    "    #If the answer is correct,\n",
    "    if a == 8 and b == -2 and n == 5:\n",
    "        plt.text(-8,3,'VERY GOOD!', fontsize = 25, fontweight = 'bold',color = 'r')\n",
    "        plt.plot(x,f,'m-',linewidth = 3, label = r'$y = (8+2x)^{\\frac{1}{5}}$')\n",
    "    plt.xlabel('$x$',fontsize = 14)\n",
    "    plt.ylabel('$y$',fontsize = 14)\n",
    "    plt.plot([-10,10],[0,0],'k-',alpha = 1,linewidth = 1)\n",
    "    plt.plot([0,0],[-10,10],'k-',alpha = 1,linewidth = 1)\n",
    "    plt.grid(alpha = 0.7)\n",
    "    plt.xticks(np.arange(-10,11))\n",
    "    plt.ylim([-2,5])\n",
    "    plt.xlim([-10,10])\n",
    "    plt.legend(loc = 'best', fontsize = 18)\n",
    "    plt.show()\n",
    "\n",
    "sl = interactive(slider, n=widgets.IntSlider(value = 2, min = 2,max = 5,step = 1, continuous_update = False),\n",
    "                a=widgets.IntSlider(value = 0, min = -10,max = 10,step = 1, continuous_update = False),\n",
    "                b=widgets.IntSlider(value = 0, min = -10,max = 10,step = 1, continuous_update = False))\n",
    "display(sl)\n",
    "display(Latex(\"*If you're seeing no change, make sure b is NOT set to 0.*\"))"
   ]
  },
  {
   "cell_type": "code",
   "execution_count": 25,
   "metadata": {},
   "outputs": [
    {
     "data": {
      "application/vnd.jupyter.widget-view+json": {
       "model_id": "c9d4bdf02f0f4eeabf74509988021251",
       "version_major": 2,
       "version_minor": 0
      },
      "text/plain": [
       "interactive(children=(IntSlider(value=0, continuous_update=False, description='a', max=10, min=-10), IntSlider…"
      ]
     },
     "metadata": {},
     "output_type": "display_data"
    },
    {
     "data": {
      "text/latex": [
       "*If you're seeing no change, make sure b is NOT set to 0.*"
      ],
      "text/plain": [
       "<IPython.core.display.Latex object>"
      ]
     },
     "metadata": {},
     "output_type": "display_data"
    }
   ],
   "source": [
    "def slider(a,b,n):\n",
    "    if b != 0 and a != 0:\n",
    "        i = float(a)/float(b)\n",
    "    elif b == 0:\n",
    "        a = 0\n",
    "        x = 1\n",
    "    else:\n",
    "        i = 0\n",
    "    if b > 0:\n",
    "        x = np.linspace(-11,i-1e-5,500)\n",
    "    elif b < 0:\n",
    "        x = np.linspace(i+1e-5,11,500)\n",
    "    elif b == 0:\n",
    "        b = -1\n",
    "    \n",
    "    f = (a-b*x)**(-1./n)\n",
    "    xx = np.linspace(-10,5-1e-5,300)\n",
    "    plt.figure(1,figsize = (10,7))\n",
    "    hold = True\n",
    "    plt.plot(x,f,'m-',linewidth = 3)\n",
    "    plt.plot(xx,(5-xx)**(-1./4.),'b--', linewidth = 2, label = r'$y = (a-bx)^{\\frac{1}{n}}$')\n",
    "    \n",
    "    #If the answer is correct,\n",
    "    if a == 5 and b == 1 and n == 4:\n",
    "        plt.text(-7,2,'VERY GOOD!', fontsize = 25, fontweight = 'bold',color = 'r')\n",
    "        plt.plot(x,f,'m-',linewidth = 3, label = r'$y = (5-x)^{\\frac{-1}{4}}$')\n",
    "    plt.xlabel('$x$',fontsize = 14)\n",
    "    plt.ylabel('$y$',fontsize = 14)\n",
    "    plt.plot([-10,10],[0,0],'k-',alpha = 1,linewidth = 1)\n",
    "    plt.plot([0,0],[-10,10],'k-',alpha = 1,linewidth = 1)\n",
    "    plt.grid(alpha = 0.7)\n",
    "    plt.xticks(np.arange(-10,11))\n",
    "    plt.ylim([-2,5])\n",
    "    plt.xlim([-10,10])\n",
    "    plt.legend(loc = 'best', fontsize = 18)\n",
    "    plt.show()\n",
    "\n",
    "sl = interactive(slider, n=widgets.IntSlider(value = 2, min = 2,max = 5,step = 1, continuous_update = False),\n",
    "                a=widgets.IntSlider(value = 0, min = -10,max = 10,step = 1, continuous_update = False),\n",
    "                b=widgets.IntSlider(value = 0, min = -10,max = 10,step = 1, continuous_update = False))\n",
    "display(sl)\n",
    "display(Latex(\"*If you're seeing no change, make sure b is NOT set to 0.*\"))"
   ]
  },
  {
   "cell_type": "markdown",
   "metadata": {},
   "source": [
    "# The Spiral of Theordorus \n",
    "https://en.wikipedia.org/wiki/Spiral_of_Theodorus\n",
    "\n",
    "The *Spiral of Theodorus or Pythagorean Spiral* is a geometrical construction of right angle triangles. It's a very interesting and fun application of square roots! So, let's look at an image of the spiral first and then we can look at the mathematics of how the square root gets involved. \n"
   ]
  },
  {
   "cell_type": "markdown",
   "metadata": {},
   "source": [
    "<center><img src=\"../images/Spiral_image.png\"></center>"
   ]
  },
  {
   "cell_type": "markdown",
   "metadata": {},
   "source": [
    "So what exactly is happening here? Well, as you may have noticed all the triangles that form this design are *right angle triangles*. \n",
    "\n",
    "Starting from the innermost triangle, you can see that it has two side lengths equal to 1 with a hypotenuse equal to $\\sqrt{2}$. \n",
    "\n",
    "Moving to the next triangle, we see it is again another right angle triangle, rotated now by some angle $\\phi$. It now has a base length of $\\sqrt{2}$, a hypotenuse of $\\sqrt{3}$, and the remaining side is still 1. Can you see the pattern here? Each of the $n^{\\rm th}$ triangle has its outermost side length fixed at 1. The base and the hypotenuse of these triangles are $\\sqrt{n}$ and $\\sqrt{n+1}$ respectively, for $n > 0$. \n",
    "\n",
    "We can also calculate what the angle $\\phi$ is for the $n^{\\rm th}$ triangle:\n",
    "\n",
    "<h3 align='center'>$\\phi = \\arctan\\Big(\\frac{1}{\\sqrt{n}}\\Big)$</h3>\n",
    "\n",
    "This is true because $\\tan\\phi = \\frac{\\rm opposite}{\\rm adjacent}$, and our side opposite $\\phi$ is fixed at length 1, while the adjacent side changes to $\\sqrt{n}$ for the $n^{\\rm th}$ triangle. \n",
    "\n",
    "From these simple facts, one can construct a code that creates this fun visual application of square roots! Feel free to look at ``Spiral_Of_Theodorus.py`` to see how the spiral was created. Below is an interactive widget where you can change how many triangles are formed in the spiral."
   ]
  },
  {
   "cell_type": "code",
   "execution_count": 26,
   "metadata": {},
   "outputs": [
    {
     "data": {
      "application/vnd.jupyter.widget-view+json": {
       "model_id": "4fefd12a4c1b4b43a2e9ec9f168a6d95",
       "version_major": 2,
       "version_minor": 0
      },
      "text/plain": [
       "interactive(children=(IntSlider(value=17, continuous_update=False, description='n', min=2), Output()), _dom_cl…"
      ]
     },
     "metadata": {},
     "output_type": "display_data"
    }
   ],
   "source": [
    "sl = interactive(S.Spiral, n=widgets.IntSlider(value = 17, min = 2,max = 100,step = 1, continuous_update = False)) \n",
    "display(sl)"
   ]
  },
  {
   "cell_type": "markdown",
   "metadata": {},
   "source": [
    "# Conclusion \n",
    "\n",
    "In this notebook, we covered the *fundamentals of radical functions* and their *domains of existence*. You should be able to recognize that any function underneath a radical requires its values to be *positive* and that we find this by solving for the root of the function inside the radical. It is important to differentiate that functions of the form:\n",
    "\n",
    "<h3 align='left'> a) $\\ f(g(x)) = g(x)^{\\frac{1}{n}}$ </h3>\n",
    "\n",
    "<h3 align='left'> b) $\\ f(g(x)) = g(x)^{\\frac{-1}{n}}$ </h3>\n",
    "\n",
    "In $a)$, the domain of existence is values of $g(x) \\geq 0$, while in $b)$, the domain of existence is values of $g(x) > 0$. This is because *with a negative exponent, $g(x) = 0$ does not exist*. \n",
    "\n",
    "We also covered the most common radical function, *the square root*, and showed how this connects to the aboslute value function. It can also be utilized to find the roots of certain quadratic functions of the form :\n",
    "\n",
    "<h3 align='center'>$f(x) = (ax-b)^2$</h3>"
   ]
  },
  {
   "cell_type": "markdown",
   "metadata": {},
   "source": [
    "![](https://raw.githubusercontent.com/callysto/callysto-sample-notebooks/master/notebooks/images/Callysto_Notebook-Banners_Bottom_06.06.18.jpg)"
   ]
  }
 ],
 "metadata": {
  "kernelspec": {
   "display_name": "Python 3",
   "language": "python",
   "name": "python3"
  },
  "language_info": {
   "codemirror_mode": {
    "name": "ipython",
    "version": 3
   },
   "file_extension": ".py",
   "mimetype": "text/x-python",
   "name": "python",
   "nbconvert_exporter": "python",
   "pygments_lexer": "ipython3",
   "version": "3.6.8"
  }
 },
 "nbformat": 4,
 "nbformat_minor": 2
}
