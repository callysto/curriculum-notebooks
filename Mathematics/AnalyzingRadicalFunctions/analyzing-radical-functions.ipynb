{
 "cells": [
  {
   "cell_type": "markdown",
   "metadata": {},
   "source": [
    "![alt](https://raw.githubusercontent.com/callysto/callysto-sample-notebooks/master/notebooks/images/Callysto_Notebook-Banner_Top_06.06.18.jpg)"
   ]
  },
  {
   "cell_type": "code",
   "execution_count": 1,
   "metadata": {},
   "outputs": [
    {
     "data": {
      "text/html": [
       "<script>\n",
       "  function code_toggle() {\n",
       "    if (code_shown){\n",
       "      $('div.input').hide('500');\n",
       "      $('#toggleButton').val('Show Code')\n",
       "    } else {\n",
       "      $('div.input').show('500');\n",
       "      $('#toggleButton').val('Hide Code')\n",
       "    }\n",
       "    code_shown = !code_shown\n",
       "  }\n",
       "  \n",
       "  $( document ).ready(function(){\n",
       "    code_shown=false;\n",
       "    $('div.input').hide()\n",
       "  });\n",
       "</script>\n",
       "<form action=\"javascript:code_toggle()\"><input type=\"submit\" id=\"toggleButton\" value=\"Show Code\"></form>"
      ],
      "text/plain": [
       "<IPython.core.display.HTML object>"
      ]
     },
     "execution_count": 1,
     "metadata": {},
     "output_type": "execute_result"
    }
   ],
   "source": [
    "from IPython.display import display, Math, Latex, HTML, clear_output, Markdown\n",
    "import numpy as np\n",
    "import matplotlib.pyplot as plt\n",
    "from numpy import sqrt as sqrt\n",
    "import ipywidgets as widgets\n",
    "from ipywidgets import interact, interactive\n",
    "import Spiral_Of_Theodorus as S\n",
    "\n",
    "%matplotlib inline\n",
    "\n",
    "\n",
    "'''Above, we are importing all the necessary modules in order to run the notebook. \n",
    "Numpy allows us to define arrays of values for our variables to plot them\n",
    "matplotlib is what we use to create the figures\n",
    "the display and widgets are to make the notebook look neat\n",
    "'''\n",
    "\n",
    "HTML('''<script>\n",
    "  function code_toggle() {\n",
    "    if (code_shown){\n",
    "      $('div.input').hide('500');\n",
    "      $('#toggleButton').val('Show Code')\n",
    "    } else {\n",
    "      $('div.input').show('500');\n",
    "      $('#toggleButton').val('Hide Code')\n",
    "    }\n",
    "    code_shown = !code_shown\n",
    "  }\n",
    "  \n",
    "  $( document ).ready(function(){\n",
    "    code_shown=false;\n",
    "    $('div.input').hide()\n",
    "  });\n",
    "</script>\n",
    "<form action=\"javascript:code_toggle()\"><input type=\"submit\" id=\"toggleButton\" value=\"Show Code\"></form>''')"
   ]
  },
  {
   "cell_type": "markdown",
   "metadata": {},
   "source": [
    "# Introduction\n",
    "This notebook will cover the basics of analyzing and graphing radical functions. Specifically we will look closely at the square root function, which is the most common type, as well as other forms of radical functions. The most important aspect of radical functions is to understand where the function *exists*, which is often called the *domain of existence* and this will be explored further as you go through the notebook. Looking at rational functions will incorporate aspects of intervals and inequalities, as well as finding the roots of quadratic equations."
   ]
  },
  {
   "cell_type": "markdown",
   "metadata": {},
   "source": [
    "![spiral](Spiral_gif.gif)"
   ]
  },
  {
   "cell_type": "markdown",
   "metadata": {},
   "source": [
    "# Background\n",
    "\n",
    "## Radical Functions\n",
    "\n",
    "Radical functions are defined as any function that is contained within a \"radical\", which simply tells us that some \n",
    "function $f(x)$ is contained within a fractional exponent. This can be written as\n",
    "$f(g(x)) = g(x)^{\\frac{1}{n}}$\n",
    "where $n$ will be an integer for the following exercises. So what does $g(x)$ look like? Well it can take on any form! Let's look at a few examples for different $g(x)$ functions.\n",
    "1. $g(x) = x$ $\\ \\ $ $\\color{red}\\rightarrow$ $\\ \\ $ $f(g(x)) = x^{\\frac{1}{n}}$\n",
    "2. $g(x) = x^2 + 2x$ $\\ \\ $ $\\color{red}\\rightarrow$ $\\ \\ $ $f(g(x)) = (x^2 + 2x)^{\\frac{1}{n}}$\n",
    "3. $g(x) = \\frac{x^3 - 9x + 3}{2x - 1}$ $\\ \\ $  $\\color{red}\\rightarrow$ $\\ \\ $  $f(g(x)) = \\Big(\\frac{x^3 - 9x + 3}{2x - 1}\\Big)^{\\frac{1}{n}}$\n",
    "\n",
    "\n",
    "Of course, the most common type of radical function and the one you have likely encountered the most often, is the square root function $\\sqrt{x}$. This is equivalent to writing $x^{\\frac{1}{2}}$. So if we wanted to obtain the *square root* of some \n",
    "function $f(x)$, this is done so by simply doing \n",
    "\n",
    "$\\big[ \\ f(x) \\ \\big]^{\\frac{1}{2}} = \\sqrt{f(x)}$\n",
    "\n",
    "Now, if we think about root finding, understanding how radicals work is an important step to finding where a function\n",
    "$f(x) = 0$. If we look at only quadratic functions of the form\n",
    "\n",
    "$f(x) = ax^2 + bx + c$\n",
    "\n",
    "there are many cases where the roots of this function can be found immediately by taking the square root. However, remember that when you take the square root of a single value, such as $4$, we get the result of \n",
    "\n",
    "$\\sqrt{4} = \\pm \\ 2$\n",
    "\n",
    "where either positive ($+$) or negative ($-$) $2$ can be squared to produce a value of $4$. This exact same principle applies when dealing with functions. For example let's look at the function $f(x) = x^2$ graphically.\n",
    "\n",
    "*Press the shift key and the enter key at the same time to run the cell below this one, or click on the cell and press Run in the toolbar.*"
   ]
  },
  {
   "cell_type": "code",
   "execution_count": 2,
   "metadata": {},
   "outputs": [
    {
     "data": {
      "image/png": "[encoded data removed]",
      "text/plain": [
       "<Figure size 720x504 with 1 Axes>"
      ]
     },
     "metadata": {},
     "output_type": "display_data"
    }
   ],
   "source": [
    "# function to be plotted\n",
    "x = np.linspace(-10,10,100) \n",
    "fx = x**2.\n",
    "\n",
    "# plot showing f(x) = x^2 with (2,4) and (-2,4) plotted points to show +/- result for square roots.\n",
    "plt.figure(1,figsize = (10,7))\n",
    "hold = True\n",
    "ticks = np.arange(-5,6)\n",
    "plt.plot(x,fx,'r-',label = r'$f(x) = x^2$')\n",
    "plt.plot([-10,10],[0,0],'k-',alpha = 1,linewidth = 1)\n",
    "plt.plot([0,0],[-10,15],'k-',alpha = 1,linewidth = 1)\n",
    "plt.plot(2,4,'k.',markersize = 10)\n",
    "plt.plot(-2,4,'k.', markersize = 10)\n",
    "plt.grid(alpha = 0.7)\n",
    "plt.legend(loc = 'lower right',fontsize = 13)\n",
    "plt.xticks(ticks)\n",
    "plt.ylim([-2,15])\n",
    "plt.xlim([-5,5])\n",
    "plt.show()\n",
    "\n"
   ]
  },
  {
   "cell_type": "markdown",
   "metadata": {},
   "source": [
    "As you can see, at both $x=2$ and $x = -2$ our function equals $4$, which is marked with the black dots. If you were to take the square root of this function $f(x) = x^2$ you could write it as the following\n",
    "\n",
    "$\\sqrt{f(x)} = \\sqrt{x^2} = (x^{2})^{\\frac{1}{2}}$\n",
    "\n",
    "where you may be tempted to write the final answer like this \n",
    "\n",
    "$\\sqrt{x^2} = \\pm \\ x$\n",
    "\n",
    "This would follow the same formatting as we had for a single value like $4$ but when taking the square root of a function, $\\pm$ doesn't actually tell you what is happening in this scenario. Instead we write it as \n",
    "\n",
    "$\\sqrt{x^2} = \\lvert x \\rvert$ \n",
    "\n",
    "where $\\lvert x \\rvert$ is defined as the **absolute value** function. A formal definition of this would be\n",
    "\n",
    "$\\lvert x\\rvert = \\begin{cases}x , & \\text{if } x\\geq 0 \\\\ -(x),& \\text{if }x<0\\end{cases}$\n",
    "\n",
    "> ## **Note**\n",
    "In our second line that states $\\lvert x \\rvert = -(x)$ for $x<0$, this simply means that for any **negative** value of x, we substitue that value into x and see that a double negative arises, thus resulting in a **positive** value. For example: $\\lvert -2 \\rvert = -(-2) = 2$. This is true for all negative values inside the absolute value function.\n",
    "***\n",
    "\n",
    "So now that the absolute value function has been reintroduced, we can move on to finding the roots of some quadratic functions. Remember that the root of a function is simply where $f(x) = 0$. In our initial example where $f(x) = x^2$, it can be proven quite quickly by inspection of our graphic that the function has a root at $x = 0$. However, if we were to find this function's root more rigoursly you would follow these steps.\n",
    "\n",
    "1. Set f(x) equal to 0 $\\color{red}\\rightarrow$ $x^2 = 0$\n",
    "2. Take the square root of **both** sides $\\color{red}\\rightarrow$ $\\lvert x \\rvert = 0$\n",
    "3. Solve the expression for the positive case of the absolute value function $\\color{red}\\rightarrow$ this is trivial in this case as it is clear $x = 0$ is the only solution\n",
    "\n",
    "> ## **Note**\n",
    "For step 3 we only look at the **positive** case of the absolute function because in our formal definiton that is the condition where $x$ is defined at 0. This is of course what is needed to solve for the root.\n",
    "***\n",
    "\n",
    "How about a less trivial example? Let's look at the function $h(x) = x^2 - 10x + 25$. If you can, take a moment to try\n",
    "and factor this by hand. You should end up with an expression that looks like $(x-a)^2$, where $a$ is an integer value. To check your answer, click on the button below.\n",
    "\n",
    "*Press the shift key and the enter key at the same time to run the cell below this one, or click on the cell and press Run in the toolbar.*"
   ]
  },
  {
   "cell_type": "code",
   "execution_count": 3,
   "metadata": {
    "scrolled": true
   },
   "outputs": [
    {
     "data": {
      "application/vnd.jupyter.widget-view+json": {
       "model_id": "ae9c8a7efd5b42579578be511be45bc3",
       "version_major": 2,
       "version_minor": 0
      },
      "text/html": [
       "<p>Failed to display Jupyter Widget of type <code>Button</code>.</p>\n",
       "<p>\n",
       "  If you're reading this message in the Jupyter Notebook or JupyterLab Notebook, it may mean\n",
       "  that the widgets JavaScript is still loading. If this message persists, it\n",
       "  likely means that the widgets JavaScript library is either not installed or\n",
       "  not enabled. See the <a href=\"https://ipywidgets.readthedocs.io/en/stable/user_install.html\">Jupyter\n",
       "  Widgets Documentation</a> for setup instructions.\n",
       "</p>\n",
       "<p>\n",
       "  If you're reading this message in another frontend (for example, a static\n",
       "  rendering on GitHub or <a href=\"https://nbviewer.jupyter.org/\">NBViewer</a>),\n",
       "  it may mean that your frontend doesn't currently support widgets.\n",
       "</p>\n"
      ],
      "text/plain": [
       "Button(description='Show answer', style=ButtonStyle())"
      ]
     },
     "metadata": {},
     "output_type": "display_data"
    }
   ],
   "source": [
    "# construction of button to provide factored polynomial result\n",
    "button = widgets.Button(description=\"Show answer\")\n",
    "display(button)\n",
    "\n",
    "def on_button_clicked(a):\n",
    "    display(Math('x^2 - 10x + 25 = (x-5)^2'))\n",
    "\n",
    "button.on_click(on_button_clicked)\n"
   ]
  },
  {
   "cell_type": "markdown",
   "metadata": {},
   "source": [
    "This is in the same form as our last example where now $(x-5)$ is all squared. Therefore we can follow the exact same steps as before.\n",
    "1. $\\sqrt{(x-5)^2} = 0$\n",
    "2. $\\lvert(x-5)\\rvert = 0$\n",
    "3. Positive case: $x-5 = 0$ $\\color{red}\\rightarrow$ $x=5$\n",
    "\n",
    "\n",
    "We've found the root! It is important to note that functions of the form $f(x) = (ax-b)^2$ only have **1** real root, which can be found by inspection graphically or by applying the method we just saw. \n",
    "\n",
    "So what would all these operations look like graphically? This is a good opportunity to practice making graphs of mathematical functions in python. First off let's look at our original functions $f(x)$ and $h(x)$ graphically where $x \\in [-5,10]$ (in case you've forgotten or don't know, the $\\in$ symbol indicates that we are looking at value of $x$ **only** between $-5$ and $10$).\n",
    "\n",
    "*Press the shift key and the enter key at the same time to run the cell below this one, or click on the cell and press Run in the toolbar.*"
   ]
  },
  {
   "cell_type": "code",
   "execution_count": 4,
   "metadata": {},
   "outputs": [
    {
     "data": {
      "image/png": "[encoded data removed]",
      "text/plain": [
       "<Figure size 720x504 with 1 Axes>"
      ]
     },
     "metadata": {},
     "output_type": "display_data"
    }
   ],
   "source": [
    "# functions to be plotted\n",
    "x = np.linspace(-10,10,1000)\n",
    "fx = x**2.\n",
    "gx = (x-5)**2.\n",
    "\n",
    "# plot showing f(x) and g(x)\n",
    "plt.figure(1,figsize = (10,7))\n",
    "hold = True\n",
    "plt.plot(x,fx,'r-',label = r'$f(x) = x^2$')\n",
    "plt.plot(x,gx,'b-',label = r'$g(x) = (x-5)^2$')\n",
    "plt.plot([-10,10],[0,0],'k-',alpha = 1,linewidth = 1)\n",
    "plt.plot([0,0],[-10,10],'k-',alpha = 1,linewidth = 1)\n",
    "plt.grid(alpha = 0.7)\n",
    "plt.legend(loc = 'lower right',fontsize = 13)\n",
    "plt.xticks(np.arange(-5,11))\n",
    "plt.ylim([-2,5])\n",
    "plt.xlim([-5,10])\n",
    "plt.show()"
   ]
  },
  {
   "cell_type": "markdown",
   "metadata": {},
   "source": [
    "As we found earlier $f(x)$ and $h(x)$ are simply parabolas with roots at $x = 0$ and $x = 5$ respectively. The next step will be to take the square root of our functions and check what that looks like. This time, you will input the required code for the functions, so that you become familiar with the process. In order to do this, here's a quick overview of how you type mathematical symbols.\n",
    "\n",
    "- $+$ and $-$ are simply typed as you see here\n",
    "- to do multiplication ($\\times$) you must type this symbol with an asterisk ($^{*}$)\n",
    "- to do division ($\\div$) you must type this symbol with a forwards slash (/)\n",
    "- to do an exponent $x^{n}$ you must type this as $x^{**}n$\n",
    "\n",
    "*Press the shift key and the enter key at the same time to run the cell below this one, or click on the cell and press Run in the toolbar.*"
   ]
  },
  {
   "cell_type": "code",
   "execution_count": 5,
   "metadata": {},
   "outputs": [
    {
     "data": {
      "text/latex": [
       "Please type in the box: sqrt(x**2)"
      ],
      "text/plain": [
       "<IPython.core.display.Latex object>"
      ]
     },
     "metadata": {},
     "output_type": "display_data"
    },
    {
     "name": "stdout",
     "output_type": "stream",
     "text": [
      "sqrt(x**2)\n"
     ]
    },
    {
     "data": {
      "text/latex": [
       "Very good!"
      ],
      "text/plain": [
       "<IPython.core.display.Latex object>"
      ]
     },
     "metadata": {},
     "output_type": "display_data"
    },
    {
     "data": {
      "text/latex": [
       "Now using the same syntax, type out how you think you would enter the square root of $h(x) = (x-5)^2.$ Remember to include brackets."
      ],
      "text/plain": [
       "<IPython.core.display.Latex object>"
      ]
     },
     "metadata": {},
     "output_type": "display_data"
    },
    {
     "name": "stdout",
     "output_type": "stream",
     "text": [
      "sqrt((x-5)**2)\n"
     ]
    },
    {
     "data": {
      "text/latex": [
       "Very good!"
      ],
      "text/plain": [
       "<IPython.core.display.Latex object>"
      ]
     },
     "metadata": {},
     "output_type": "display_data"
    },
    {
     "data": {
      "image/png": "[encoded data removed]",
      "text/plain": [
       "<Figure size 720x504 with 1 Axes>"
      ]
     },
     "metadata": {},
     "output_type": "display_data"
    }
   ],
   "source": [
    "#NBVAL_SKIP\n",
    "\n",
    "x = np.linspace(-10,10,1000)\n",
    "b = False\n",
    "display(Latex(\"Please type in the box: sqrt(x**2)\"))\n",
    "\n",
    "# convert string to executed code\n",
    "\n",
    "while b is False:\n",
    "    f = input()\n",
    "    if f == 'sqrt(x**2)':\n",
    "        fx = sqrt(x**2)\n",
    "        b = True\n",
    "        display(Latex(\"Very good!\"))\n",
    "    else:\n",
    "        display(Latex(\"Not quite right, try again.\"))\n",
    "\n",
    "display(Latex(\"Now using the same syntax, type out how you think you would enter the square root of $h(x) = (x-5)^2.$ Remember to include brackets.\"))\n",
    "\n",
    "# keep presenting input box until the student inputs the appropriate syntax\n",
    "b = False\n",
    "while b is False:\n",
    "    g = input()\n",
    "    if g == 'sqrt((x-5)**2)':\n",
    "        gx = sqrt((x-5)**2)\n",
    "        b = True\n",
    "        display(Latex(\"Very good!\"))\n",
    "    else:   \n",
    "        display(Latex(\"Not quite right, try again.\"))\n",
    "    \n",
    "# plot the absolute value functions of both f(x) and g(x)\n",
    "plt.figure(1,figsize = (10,7))\n",
    "hold = True\n",
    "plt.plot(x,x**2.,'r-',label = r'$x^2$')\n",
    "plt.plot(x,fx,'m--',label = r'$\\sqrt{x^2}$')\n",
    "plt.plot(x,(x-5)**2.,'b-',label = r'$(x-5)^2$')\n",
    "plt.plot(x,gx,'c--',label = r'$\\sqrt{(x-5)^2}$')\n",
    "plt.plot([-10,10],[0,0],'k-',alpha = 1,linewidth = 1)\n",
    "plt.plot([0,0],[-10,10],'k-',alpha = 1,linewidth = 1)\n",
    "plt.grid(alpha = 0.7)\n",
    "plt.legend(loc = 'lower right',fontsize = 13)\n",
    "plt.xticks(np.arange(-5,11))\n",
    "plt.ylim([-2,5])\n",
    "plt.xlim([-5,10])\n",
    "plt.show()"
   ]
  },
  {
   "cell_type": "markdown",
   "metadata": {},
   "source": [
    "To summarize, the result of taking the square root of functions of the form \n",
    "\n",
    "$f(x) = (ax-b)^2$\n",
    "\n",
    "where a and b are constants, will give the result\n",
    "\n",
    "$\\sqrt{f(x)} = \\lvert ax-b\\rvert$\n",
    "\n",
    "As well, we can generalize the princple root, which will be denoted as $x_0$, of such functions as \n",
    "\n",
    "$x_0 = \\frac{b}{a} \\ \\ \\ \\ a \\neq 0 $"
   ]
  },
  {
   "cell_type": "markdown",
   "metadata": {},
   "source": [
    "## Rational Exponents (n $\\geq$ 2)\n",
    "\n",
    "As mentioned before we defined a radical function to be of the form \n",
    "$f(g(x)) = g(x)^{\\frac{1}{n}}$\n",
    "\n",
    "and now we are going to look at functions where $n\\geq2$. Below is an interactive plot where moving the slider will change the value of $n$ in our rational exponent expression. See what happens when you move this around.\n",
    "\n",
    "*Press the shift key and the enter key at the same time to run the cell below this one, or click on the cell and press Run in the toolbar.*"
   ]
  },
  {
   "cell_type": "code",
   "execution_count": 6,
   "metadata": {},
   "outputs": [
    {
     "data": {
      "application/vnd.jupyter.widget-view+json": {
       "model_id": "fd4e660d88c04c9591b9b02e40b26a4a",
       "version_major": 2,
       "version_minor": 0
      },
      "text/html": [
       "<p>Failed to display Jupyter Widget of type <code>interactive</code>.</p>\n",
       "<p>\n",
       "  If you're reading this message in the Jupyter Notebook or JupyterLab Notebook, it may mean\n",
       "  that the widgets JavaScript is still loading. If this message persists, it\n",
       "  likely means that the widgets JavaScript library is either not installed or\n",
       "  not enabled. See the <a href=\"https://ipywidgets.readthedocs.io/en/stable/user_install.html\">Jupyter\n",
       "  Widgets Documentation</a> for setup instructions.\n",
       "</p>\n",
       "<p>\n",
       "  If you're reading this message in another frontend (for example, a static\n",
       "  rendering on GitHub or <a href=\"https://nbviewer.jupyter.org/\">NBViewer</a>),\n",
       "  it may mean that your frontend doesn't currently support widgets.\n",
       "</p>\n"
      ],
      "text/plain": [
       "interactive(children=(IntSlider(value=6, description='n', max=10, min=2), Output()), _dom_classes=('widget-interact',))"
      ]
     },
     "metadata": {},
     "output_type": "display_data"
    }
   ],
   "source": [
    "# construction of interactive plot to visualize x^(1/n)\n",
    "\n",
    "def slider(n):\n",
    "    x = np.linspace(1e-7,10,500)\n",
    "    if n != 0:\n",
    "        plt.figure(1,figsize = (10,7))\n",
    "        hold = True\n",
    "        plt.plot(x,x**(1./n),'b-',linewidth = 2,label = str((r'$y = x^{1/' + str(n) + '}$')))\n",
    "        plt.xlabel('$x$',fontsize = 14)\n",
    "        plt.ylabel('$y$',fontsize = 14)\n",
    "        plt.plot([-10,10],[0,0],'k-',alpha = 1,linewidth = 1)\n",
    "        plt.plot([0,0],[-10,10],'k-',alpha = 1,linewidth = 1)\n",
    "        plt.grid(alpha = 0.7)\n",
    "        plt.xticks(np.arange(-5,11))\n",
    "        plt.ylim([-2,5])\n",
    "        plt.xlim([-5,10])\n",
    "        plt.legend(loc = 'best', fontsize = 18)\n",
    "        plt.show()\n",
    "\n",
    "    return n\n",
    "\n",
    "j = interactive(slider, n=(2,10,1))\n",
    "display(j)\n"
   ]
  },
  {
   "cell_type": "markdown",
   "metadata": {},
   "source": [
    "Likewise, we can look at functions where the exponent is negative, such that \n",
    "\n",
    "$f(g(x)) = g(x)^{\\frac{-1}{n}} = \\frac{1}{g(x)^{\\frac{1}{n}}}$\n",
    "\n",
    "Again an interactive graph is shown below, to observe how changing the value of this exponent effects the behaviour of the function. \n",
    "\n",
    "*Press the shift key and the enter key at the same time to run the cell below this one, or click on the cell and press Run in the toolbar.*"
   ]
  },
  {
   "cell_type": "code",
   "execution_count": 7,
   "metadata": {
    "scrolled": false
   },
   "outputs": [
    {
     "data": {
      "application/vnd.jupyter.widget-view+json": {
       "model_id": "6a0f117badd443c394b88f102d5d6f64",
       "version_major": 2,
       "version_minor": 0
      },
      "text/html": [
       "<p>Failed to display Jupyter Widget of type <code>interactive</code>.</p>\n",
       "<p>\n",
       "  If you're reading this message in the Jupyter Notebook or JupyterLab Notebook, it may mean\n",
       "  that the widgets JavaScript is still loading. If this message persists, it\n",
       "  likely means that the widgets JavaScript library is either not installed or\n",
       "  not enabled. See the <a href=\"https://ipywidgets.readthedocs.io/en/stable/user_install.html\">Jupyter\n",
       "  Widgets Documentation</a> for setup instructions.\n",
       "</p>\n",
       "<p>\n",
       "  If you're reading this message in another frontend (for example, a static\n",
       "  rendering on GitHub or <a href=\"https://nbviewer.jupyter.org/\">NBViewer</a>),\n",
       "  it may mean that your frontend doesn't currently support widgets.\n",
       "</p>\n"
      ],
      "text/plain": [
       "interactive(children=(IntSlider(value=-6, description='n', max=-2, min=-10), Output()), _dom_classes=('widget-interact',))"
      ]
     },
     "metadata": {},
     "output_type": "display_data"
    }
   ],
   "source": [
    "# construction of interactive plot to visualize x^(-1/n)\n",
    "\n",
    "def slider(n):\n",
    "    x = np.linspace(1e-7,10,500)\n",
    "    if n != 0:\n",
    "        plt.figure(1,figsize = (10,7))\n",
    "        hold = True\n",
    "        plt.plot(x,x**(1./n),'b-',linewidth = 2,label = str((r'$y = x^{-1/' + str(abs(n)) + '}$')))\n",
    "        plt.xlabel('$x$',fontsize = 14)\n",
    "        plt.ylabel('$y$',fontsize = 14)\n",
    "        plt.plot([-10,10],[0,0],'k-',alpha = 1,linewidth = 1)\n",
    "        plt.plot([0,0],[-10,10],'k-',alpha = 1,linewidth = 1)\n",
    "        plt.grid(alpha = 0.7)\n",
    "        plt.xticks(np.arange(-5,11))\n",
    "        plt.ylim([-2,5])\n",
    "        plt.xlim([-5,10])\n",
    "        plt.legend(loc = 'best', fontsize = 18)\n",
    "        plt.show()\n",
    "\n",
    "    return n\n",
    "\n",
    "j = interactive(slider, n=(-10,-2,1))\n",
    "display(j)"
   ]
  },
  {
   "cell_type": "markdown",
   "metadata": {},
   "source": [
    "Something you may have noticed is that no matter what value appears in the exponent, the function is **always** greater than 0. That is because a radical function like $x^{\\frac{1}{n}}$ is **only** defined for values of $x\\geq0$ and functions like $x^{\\frac{-1}{n}}$ are **only** defined for values of $x > 0$. This can be extended to all radical functions, such that any expression underneath an exponent in the form $1/n \\ $ **MUST** be a **positive** value and expressions underneath an exponent $-1/n$ must both be **positive** and **non-zero**. Some examples of this are:\n",
    "\n",
    "a.$\\ \\sqrt{4-x}$\n",
    "\n",
    "b.$\\ (2x-10)^{\\frac{1}{3}}$\n",
    "\n",
    "c.$\\ (9-7x)^{\\frac{-1}{5}}$\n",
    "\n",
    "\n",
    "where in $a.$, $4-x$ must be a positive quantity, in $b.$, $2x-10$ must be a positive quantity and for $c.$, $9-7x$ must be a positive, non-zero quantity. So what exactly does this mean? How do we know where these quantities become negatively valued? What might these functions look like? This will all be answered in the next section!"
   ]
  },
  {
   "cell_type": "markdown",
   "metadata": {},
   "source": [
    "## Domain of Existence\n",
    "\n",
    "As we just saw, it is very important that the value underneath a fractional exponent ($\\frac{1}{n}$) is positive, and where the values are positive defines the *domain of existence*. If we look back to our functions $a., \\ b.$ and $  c.$, let's try to figure out where their domains of existence are. \n",
    "\n",
    "For $a.$ we need to see where $4-x \\geq 0$. To do this we can simply follow these steps:\n",
    "-  Write out the expression $\\color{red}\\rightarrow \\ 4 - x \\geq 0 $\n",
    "-  Isolate for $x$ $\\color{red}\\rightarrow \\ -x \\geq 4 $\n",
    "-  Ensure that $x$ doesn't have a negative sign in front of it $\\color{red}\\rightarrow \\ x \\leq 4$  \n",
    "\\(remember that flipping a sign from - to + or + to - will also flip the inequality)\n",
    "\n",
    "So we've found that the domain of existence for $\\sqrt{4-x}$ is all $x$ values such that $x \\leq 4$.\n",
    "\n",
    "Now $b.$ and $c.$ will be left for you to solve on a sheet of paper and input into the boxes provided below. Remember we want to find where the expression under the exponent is **positive**. If you get stuck look back to how the domain of existence was found for function $a.$. \n",
    "\n",
    "\n",
    "### How to Input Domain of Existence\n",
    "If we wanted to input our answer for $\\sqrt{4-x}$ which was $x \\leq 4$, the input formatting for the \"less than or equal to\" symbol will follow exactly how it is said. Thus, if asked to find the domain of existence for $\\sqrt{4-x}$ and you are given an input box to enter your answer, you would type in $\\rightarrow$ x <= 4 (**spaces are important**). Another thing to note is that fractions like $\\frac{5}{3}$ should be input as 5/3.  \n",
    "\n",
    "\n",
    "\n",
    "\n",
    "Type x <= 4 into the box provided below to ensure you are using the appropriate syntax.\n",
    "\n",
    "*Press the shift key and the enter key at the same time to run the cell below this one, or click on the cell and press Run in the toolbar.*"
   ]
  },
  {
   "cell_type": "code",
   "execution_count": 8,
   "metadata": {},
   "outputs": [
    {
     "name": "stdout",
     "output_type": "stream",
     "text": [
      "x <= 4\n"
     ]
    },
    {
     "data": {
      "text/latex": [
       "Perfect! Time to try the problems on your own now."
      ],
      "text/plain": [
       "<IPython.core.display.Latex object>"
      ]
     },
     "metadata": {},
     "output_type": "display_data"
    }
   ],
   "source": [
    "#NBVAL_SKIP\n",
    "\n",
    "# loop to keep presenting input box to ensure the student understands the proper input syntax\n",
    "check = 0\n",
    "while check == 0:\n",
    "    a = input()\n",
    "    if a == \"x <= 4\":\n",
    "        check = 1 \n",
    "        display(Latex(\"Perfect! Time to try the problems on your own now.\"))\n",
    "    else:\n",
    "        display(Latex(\"Not quite right. Remember to type in the expression with spaces on both sides of the '<='\"))"
   ]
  },
  {
   "cell_type": "markdown",
   "metadata": {},
   "source": [
    "*Press the shift key and the enter key at the same time to run the cell below this one, or click on the cell and press Run in the toolbar.*"
   ]
  },
  {
   "cell_type": "code",
   "execution_count": 9,
   "metadata": {},
   "outputs": [
    {
     "data": {
      "text/latex": [
       "Find the domain of existence for:"
      ],
      "text/plain": [
       "<IPython.core.display.Latex object>"
      ]
     },
     "metadata": {},
     "output_type": "display_data"
    },
    {
     "data": {
      "text/latex": [
       "$$(2x-10)^{1/3}$$"
      ],
      "text/plain": [
       "<IPython.core.display.Math object>"
      ]
     },
     "metadata": {},
     "output_type": "display_data"
    },
    {
     "data": {
      "text/latex": [],
      "text/plain": [
       "<IPython.core.display.Latex object>"
      ]
     },
     "metadata": {},
     "output_type": "display_data"
    },
    {
     "name": "stdout",
     "output_type": "stream",
     "text": [
      "5\n"
     ]
    },
    {
     "data": {
      "text/latex": [
       "Not quite right, try again. (If you are certain your answer is right, make sure you went over how to input the expression correctly!)"
      ],
      "text/plain": [
       "<IPython.core.display.Latex object>"
      ]
     },
     "metadata": {},
     "output_type": "display_data"
    },
    {
     "name": "stdout",
     "output_type": "stream",
     "text": [
      "x < 5\n"
     ]
    },
    {
     "data": {
      "text/latex": [
       "Not quite right, try again. (If you are certain your answer is right, make sure you went over how to input the expression correctly!)"
      ],
      "text/plain": [
       "<IPython.core.display.Latex object>"
      ]
     },
     "metadata": {},
     "output_type": "display_data"
    },
    {
     "name": "stdout",
     "output_type": "stream",
     "text": [
      "x > 5\n"
     ]
    },
    {
     "data": {
      "text/latex": [
       "Not quite right, try again. (If you are certain your answer is right, make sure you went over how to input the expression correctly!)"
      ],
      "text/plain": [
       "<IPython.core.display.Latex object>"
      ]
     },
     "metadata": {},
     "output_type": "display_data"
    },
    {
     "name": "stdout",
     "output_type": "stream",
     "text": [
      "5\n"
     ]
    },
    {
     "data": {
      "text/latex": [
       "Not quite right, try again. (If you are certain your answer is right, make sure you went over how to input the expression correctly!)"
      ],
      "text/plain": [
       "<IPython.core.display.Latex object>"
      ]
     },
     "metadata": {},
     "output_type": "display_data"
    },
    {
     "name": "stdout",
     "output_type": "stream",
     "text": [
      "5\n"
     ]
    },
    {
     "data": {
      "text/latex": [
       "The correct answer was"
      ],
      "text/plain": [
       "<IPython.core.display.Latex object>"
      ]
     },
     "metadata": {},
     "output_type": "display_data"
    },
    {
     "data": {
      "text/latex": [
       "$$x \\geq 5$$"
      ],
      "text/plain": [
       "<IPython.core.display.Math object>"
      ]
     },
     "metadata": {},
     "output_type": "display_data"
    },
    {
     "data": {
      "text/latex": [
       "Let's move on to the next part."
      ],
      "text/plain": [
       "<IPython.core.display.Latex object>"
      ]
     },
     "metadata": {},
     "output_type": "display_data"
    },
    {
     "data": {
      "text/latex": [],
      "text/plain": [
       "<IPython.core.display.Latex object>"
      ]
     },
     "metadata": {},
     "output_type": "display_data"
    },
    {
     "data": {
      "text/latex": [
       "Find the domain of existence for:"
      ],
      "text/plain": [
       "<IPython.core.display.Latex object>"
      ]
     },
     "metadata": {},
     "output_type": "display_data"
    },
    {
     "data": {
      "text/latex": [
       "$$(9-7x)^{-1/5}$$"
      ],
      "text/plain": [
       "<IPython.core.display.Math object>"
      ]
     },
     "metadata": {},
     "output_type": "display_data"
    },
    {
     "data": {
      "text/latex": [],
      "text/plain": [
       "<IPython.core.display.Latex object>"
      ]
     },
     "metadata": {},
     "output_type": "display_data"
    },
    {
     "name": "stdout",
     "output_type": "stream",
     "text": [
      "x < 9/7\n"
     ]
    },
    {
     "data": {
      "text/latex": [
       "Very good!"
      ],
      "text/plain": [
       "<IPython.core.display.Latex object>"
      ]
     },
     "metadata": {},
     "output_type": "display_data"
    }
   ],
   "source": [
    "#NBVAL_SKIP\n",
    "\n",
    "'''\n",
    "similar input loops as before w/ the inclusion of \"breakers\" that will present the student with the correct answer\n",
    "if they cannot get it after 5 attempts \n",
    "'''\n",
    "\n",
    "display(Latex(\"Find the domain of existence for:\"))\n",
    "display(Math(\"(2x-10)^{1/3}\"))\n",
    "display(Latex(\"\"))\n",
    "check = 0\n",
    "breaker = 0\n",
    "while check == 0:\n",
    "    a = input()\n",
    "    if a == \"x >= 5\":\n",
    "        check = 1\n",
    "        display(Latex(\"Very good! Let's move on to the next part.\"))\n",
    "    else:\n",
    "        breaker += 1\n",
    "        if breaker == 5: # presents student with the correct answer after 5 attempts \n",
    "            display(Latex(\"The correct answer was\"))\n",
    "            display(Math(\"x \\geq 5\"))\n",
    "            display(Latex(\"Let's move on to the next part.\"))\n",
    "            check = 1\n",
    "            break\n",
    "        display(Latex(\"Not quite right, try again. (If you are certain your answer is right, make sure you went over how to input the expression correctly!)\"))\n",
    "        \n",
    "display(Latex(\"\"))\n",
    "display(Latex(\"Find the domain of existence for:\"))\n",
    "display(Math(\"(9-7x)^{-1/5}\"))\n",
    "display(Latex(\"\"))\n",
    "check = 0\n",
    "breaker = 0\n",
    "while check == 0:\n",
    "    a = input()\n",
    "    if a == \"x < 9/7\":\n",
    "        check = 1\n",
    "        display(Latex(\"Very good!\"))\n",
    "    else:\n",
    "        breaker += 1\n",
    "        if breaker == 3: # this time they have to realize that the inequality is only < NOT =< . Provides a hint.\n",
    "            display(Latex(\"Remember that the exponent is negative! This means that our function looks like this:\"))\n",
    "            display(Math(r\"\\frac{1}{(9-7x)^{\\frac{1}{5}}}\"))\n",
    "            display(Latex(\"Therefore there is ALSO an existence condition such that the denominator does not equal 0. Check if your inequality accounts for this.\"))\n",
    "        elif breaker == 5:\n",
    "            display(Latex(\"The correct answer was\"))\n",
    "            display(Math(r\"x < \\frac{9}{7}\"))\n",
    "            check = 1\n",
    "            break\n",
    "        else:\n",
    "            display(Latex(\"Not quite right, try again. (If you are certain your answer is right, make sure you went over how to input the expression correctly!)\"))"
   ]
  },
  {
   "cell_type": "code",
   "execution_count": 10,
   "metadata": {},
   "outputs": [
    {
     "data": {
      "image/png": "[encoded data removed]",
      "text/plain": [
       "<Figure size 720x504 with 1 Axes>"
      ]
     },
     "metadata": {},
     "output_type": "display_data"
    }
   ],
   "source": [
    "\"\"\"\"\n",
    "plot of all the functions a, b and c that students will have worked with\n",
    "shows the domains of existence that were found in the exercises\n",
    "\"\"\"\n",
    "\n",
    "x1 = np.linspace(-10,3,500)\n",
    "x2 = np.linspace(5,10,500)\n",
    "x3 = np.linspace(-10.,8.9999/7.,500)\n",
    "plt.figure(1,figsize = (10,7))\n",
    "hold = True\n",
    "plt.plot(9./7. * np.ones(100),np.linspace(0,12,100),'k--',alpha = 0.5)\n",
    "plt.plot(x1,sqrt(3-x1),'b-',label = r'$y = \\sqrt{3-x}$')\n",
    "plt.plot(x2,(2*x2-10)**(1./3.),'r-', label = r'$y = (2x-10)^{\\frac{1}{3}}$')\n",
    "plt.plot(x3,(9-7*x3)**(-1./5.),'g-', label = r'$y = (9-7x)^{\\frac{-1}{5}}$')\n",
    "\n",
    "plt.text(9./7.-0.4,-0.25,r'$9/7$',fontsize = 13)\n",
    "plt.xlabel('$x$',fontsize = 14)\n",
    "plt.ylabel('$y$',fontsize = 14)\n",
    "plt.plot([-10,10],[0,0],'k-',alpha = 1,linewidth = 1)\n",
    "plt.plot([0,0],[-10,10],'k-',alpha = 1,linewidth = 1)\n",
    "plt.grid(alpha = 0.7)\n",
    "plt.xticks(np.arange(-10,11))\n",
    "plt.ylim([-2,5])\n",
    "plt.xlim([-10,10])\n",
    "plt.legend(loc = 'best', fontsize = 18)\n",
    "plt.show()"
   ]
  },
  {
   "cell_type": "markdown",
   "metadata": {},
   "source": [
    "This graph shows us what these functions we worked with look like. It should be clear that each function exists exactly where we defined them in the previous exercise. "
   ]
  },
  {
   "cell_type": "markdown",
   "metadata": {},
   "source": [
    "# Questions\n",
    "\n",
    "## Problem Set 1\n",
    "Here you will be tested on the topics we covered in this notebook. You will be asked to find the roots for certain functions that must be factored first. You will also have to find the domain of existence of certain functions using the method we just applied in the section above, remembering to be careful of negative exponents! \n",
    "\n",
    "*Press the shift key and the enter key at the same time to run the cell below this one, or click on the cell and press Run in the toolbar. REPEAT THIS STEP AFTER FINISHING EACH PROBLEM.*"
   ]
  },
  {
   "cell_type": "code",
   "execution_count": 11,
   "metadata": {},
   "outputs": [
    {
     "data": {
      "text/latex": [
       "Find the domain of existence for:"
      ],
      "text/plain": [
       "<IPython.core.display.Latex object>"
      ]
     },
     "metadata": {},
     "output_type": "display_data"
    },
    {
     "data": {
      "text/latex": [
       "$$(-2x+14)^{1/2}$$"
      ],
      "text/plain": [
       "<IPython.core.display.Math object>"
      ]
     },
     "metadata": {},
     "output_type": "display_data"
    },
    {
     "data": {
      "text/latex": [],
      "text/plain": [
       "<IPython.core.display.Latex object>"
      ]
     },
     "metadata": {},
     "output_type": "display_data"
    },
    {
     "name": "stdout",
     "output_type": "stream",
     "text": [
      "\n"
     ]
    },
    {
     "data": {
      "text/latex": [
       "Not quite right, try again. (If you are certain your answer is right, make sure you went over how to input the expression correctly!)"
      ],
      "text/plain": [
       "<IPython.core.display.Latex object>"
      ]
     },
     "metadata": {},
     "output_type": "display_data"
    },
    {
     "name": "stdout",
     "output_type": "stream",
     "text": [
      "\n"
     ]
    },
    {
     "data": {
      "text/latex": [
       "Not quite right, try again. (If you are certain your answer is right, make sure you went over how to input the expression correctly!)"
      ],
      "text/plain": [
       "<IPython.core.display.Latex object>"
      ]
     },
     "metadata": {},
     "output_type": "display_data"
    },
    {
     "name": "stdout",
     "output_type": "stream",
     "text": [
      "\n"
     ]
    },
    {
     "data": {
      "text/latex": [
       "Not quite right, try again. (If you are certain your answer is right, make sure you went over how to input the expression correctly!)"
      ],
      "text/plain": [
       "<IPython.core.display.Latex object>"
      ]
     },
     "metadata": {},
     "output_type": "display_data"
    },
    {
     "name": "stdout",
     "output_type": "stream",
     "text": [
      "\n"
     ]
    },
    {
     "data": {
      "text/latex": [
       "Not quite right, try again. (If you are certain your answer is right, make sure you went over how to input the expression correctly!)"
      ],
      "text/plain": [
       "<IPython.core.display.Latex object>"
      ]
     },
     "metadata": {},
     "output_type": "display_data"
    },
    {
     "name": "stdout",
     "output_type": "stream",
     "text": [
      "\n"
     ]
    },
    {
     "data": {
      "text/latex": [
       "The correct answer was"
      ],
      "text/plain": [
       "<IPython.core.display.Latex object>"
      ]
     },
     "metadata": {},
     "output_type": "display_data"
    },
    {
     "data": {
      "text/latex": [
       "$$x \\leq 7$$"
      ],
      "text/plain": [
       "<IPython.core.display.Math object>"
      ]
     },
     "metadata": {},
     "output_type": "display_data"
    },
    {
     "data": {
      "text/latex": [
       "Let's move on to the next part."
      ],
      "text/plain": [
       "<IPython.core.display.Latex object>"
      ]
     },
     "metadata": {},
     "output_type": "display_data"
    }
   ],
   "source": [
    "#NBVAL_SKIP\n",
    "\n",
    "display(Latex(\"Find the domain of existence for:\"))\n",
    "display(Math(\"(-2x+14)^{1/2}\"))\n",
    "display(Latex(\"\"))\n",
    "check = 0\n",
    "breaker = 0\n",
    "while check == 0:\n",
    "    a = input()\n",
    "    if a == \"x <= 7\":\n",
    "        check = 1\n",
    "        display(Latex(\"Very good! Let's move on to the next part.\"))\n",
    "    else:\n",
    "        breaker += 1\n",
    "        if breaker == 5: # presents student with the correct answer after 5 attempts \n",
    "            display(Latex(\"The correct answer was\"))\n",
    "            display(Math(\"x \\leq 7\"))\n",
    "            display(Latex(\"Let's move on to the next part.\"))\n",
    "            check = 1\n",
    "            break\n",
    "        display(Latex(\"Not quite right, try again. (If you are certain your answer is right, make sure you went over how to input the expression correctly!)\"))"
   ]
  },
  {
   "cell_type": "code",
   "execution_count": 12,
   "metadata": {},
   "outputs": [
    {
     "data": {
      "text/latex": [
       "Find the domain of existence for:"
      ],
      "text/plain": [
       "<IPython.core.display.Latex object>"
      ]
     },
     "metadata": {},
     "output_type": "display_data"
    },
    {
     "data": {
      "text/latex": [
       "$$(15x-5+8x)^{-1/5}$$"
      ],
      "text/plain": [
       "<IPython.core.display.Math object>"
      ]
     },
     "metadata": {},
     "output_type": "display_data"
    },
    {
     "data": {
      "text/latex": [],
      "text/plain": [
       "<IPython.core.display.Latex object>"
      ]
     },
     "metadata": {},
     "output_type": "display_data"
    },
    {
     "name": "stdout",
     "output_type": "stream",
     "text": [
      "\n"
     ]
    },
    {
     "data": {
      "text/latex": [
       "Not quite right, try again. (If you are certain your answer is right, make sure you went over how to input the expression correctly!)"
      ],
      "text/plain": [
       "<IPython.core.display.Latex object>"
      ]
     },
     "metadata": {},
     "output_type": "display_data"
    },
    {
     "name": "stdout",
     "output_type": "stream",
     "text": [
      "\n"
     ]
    },
    {
     "data": {
      "text/latex": [
       "Not quite right, try again. (If you are certain your answer is right, make sure you went over how to input the expression correctly!)"
      ],
      "text/plain": [
       "<IPython.core.display.Latex object>"
      ]
     },
     "metadata": {},
     "output_type": "display_data"
    },
    {
     "name": "stdout",
     "output_type": "stream",
     "text": [
      "\n"
     ]
    },
    {
     "data": {
      "text/latex": [
       "Not quite right, try again. (If you are certain your answer is right, make sure you went over how to input the expression correctly!)"
      ],
      "text/plain": [
       "<IPython.core.display.Latex object>"
      ]
     },
     "metadata": {},
     "output_type": "display_data"
    },
    {
     "name": "stdout",
     "output_type": "stream",
     "text": [
      "\n"
     ]
    },
    {
     "data": {
      "text/latex": [
       "Not quite right, try again. (If you are certain your answer is right, make sure you went over how to input the expression correctly!)"
      ],
      "text/plain": [
       "<IPython.core.display.Latex object>"
      ]
     },
     "metadata": {},
     "output_type": "display_data"
    },
    {
     "name": "stdout",
     "output_type": "stream",
     "text": [
      "\n"
     ]
    },
    {
     "data": {
      "text/latex": [
       "The correct answer was"
      ],
      "text/plain": [
       "<IPython.core.display.Latex object>"
      ]
     },
     "metadata": {},
     "output_type": "display_data"
    },
    {
     "data": {
      "text/latex": [
       "$$x > 5/23$$"
      ],
      "text/plain": [
       "<IPython.core.display.Math object>"
      ]
     },
     "metadata": {},
     "output_type": "display_data"
    },
    {
     "data": {
      "text/latex": [
       "Let's move on to the next part."
      ],
      "text/plain": [
       "<IPython.core.display.Latex object>"
      ]
     },
     "metadata": {},
     "output_type": "display_data"
    }
   ],
   "source": [
    "#NBVAL_SKIP\n",
    "\n",
    "display(Latex(\"Find the domain of existence for:\"))\n",
    "display(Math(\"(15x-5+8x)^{-1/5}\"))\n",
    "display(Latex(\"\"))\n",
    "check = 0 \n",
    "breaker = 0\n",
    "while check == 0:\n",
    "    a = input()\n",
    "    if a == \"x > 5/23\":\n",
    "        check = 1\n",
    "        display(Latex(\"Very good! Let's move on to the next part.\"))\n",
    "    else:\n",
    "        breaker += 1\n",
    "        if breaker == 5: # presents student with the correct answer after 5 attempts \n",
    "            display(Latex(\"The correct answer was\"))\n",
    "            display(Math(\"x > 5/23\"))\n",
    "            display(Latex(\"Let's move on to the next part.\"))\n",
    "            check = 1\n",
    "            break\n",
    "        display(Latex(\"Not quite right, try again. (If you are certain your answer is right, make sure you went over how to input the expression correctly!)\"))"
   ]
  },
  {
   "cell_type": "code",
   "execution_count": 13,
   "metadata": {},
   "outputs": [
    {
     "data": {
      "text/latex": [
       "Find the principle root for:"
      ],
      "text/plain": [
       "<IPython.core.display.Latex object>"
      ]
     },
     "metadata": {},
     "output_type": "display_data"
    },
    {
     "data": {
      "text/latex": [
       "$$(x^2-6x+9)^{1/3}$$"
      ],
      "text/plain": [
       "<IPython.core.display.Math object>"
      ]
     },
     "metadata": {},
     "output_type": "display_data"
    },
    {
     "data": {
      "text/latex": [],
      "text/plain": [
       "<IPython.core.display.Latex object>"
      ]
     },
     "metadata": {},
     "output_type": "display_data"
    },
    {
     "data": {
      "text/latex": [
       "$$x_0 = $$"
      ],
      "text/plain": [
       "<IPython.core.display.Math object>"
      ]
     },
     "metadata": {},
     "output_type": "display_data"
    },
    {
     "data": {
      "text/latex": [],
      "text/plain": [
       "<IPython.core.display.Latex object>"
      ]
     },
     "metadata": {},
     "output_type": "display_data"
    },
    {
     "name": "stdout",
     "output_type": "stream",
     "text": [
      "\n"
     ]
    },
    {
     "data": {
      "text/markdown": [
       "**Your input for $x_0$ must be a numerical value.**"
      ],
      "text/plain": [
       "<IPython.core.display.Markdown object>"
      ]
     },
     "metadata": {},
     "output_type": "display_data"
    },
    {
     "data": {
      "text/latex": [
       "$$x_0 = $$"
      ],
      "text/plain": [
       "<IPython.core.display.Math object>"
      ]
     },
     "metadata": {},
     "output_type": "display_data"
    },
    {
     "data": {
      "text/latex": [],
      "text/plain": [
       "<IPython.core.display.Latex object>"
      ]
     },
     "metadata": {},
     "output_type": "display_data"
    },
    {
     "name": "stdout",
     "output_type": "stream",
     "text": [
      "\n"
     ]
    },
    {
     "data": {
      "text/markdown": [
       "**Your input for $x_0$ must be a numerical value.**"
      ],
      "text/plain": [
       "<IPython.core.display.Markdown object>"
      ]
     },
     "metadata": {},
     "output_type": "display_data"
    },
    {
     "data": {
      "text/latex": [
       "$$x_0 = $$"
      ],
      "text/plain": [
       "<IPython.core.display.Math object>"
      ]
     },
     "metadata": {},
     "output_type": "display_data"
    },
    {
     "data": {
      "text/latex": [],
      "text/plain": [
       "<IPython.core.display.Latex object>"
      ]
     },
     "metadata": {},
     "output_type": "display_data"
    },
    {
     "name": "stdout",
     "output_type": "stream",
     "text": [
      "-3\n"
     ]
    },
    {
     "data": {
      "text/latex": [
       "Very good! Let's move on to the next part."
      ],
      "text/plain": [
       "<IPython.core.display.Latex object>"
      ]
     },
     "metadata": {},
     "output_type": "display_data"
    }
   ],
   "source": [
    "#NBVAL_SKIP\n",
    "\n",
    "display(Latex(\"Find the principle root for:\"))\n",
    "display(Math(\"(x^2-6x+9)^{1/3}\"))\n",
    "display(Latex(\"\"))\n",
    "check = 0 \n",
    "breaker = 0\n",
    "while check == 0:\n",
    "    display(Math('x_0 = '))\n",
    "    display(Latex(\"\"))\n",
    "    try:\n",
    "        a = float(input())\n",
    "        if a == -3.0:\n",
    "            check = 1\n",
    "            display(Latex(\"Very good! Let's move on to the next part.\"))\n",
    "        else:\n",
    "            breaker += 1\n",
    "            if breaker == 5: # presents student with the correct answer after 5 attempts \n",
    "                display(Latex(\"The correct answer was\"))\n",
    "                display(Math(\"x_0 = -3\"))\n",
    "                display(Latex(\"Let's move on to the next part.\"))\n",
    "                check = 1\n",
    "                break\n",
    "            display(Latex(\"Not quite right, try again. (If you are certain your answer is right, make sure you went over how to input the expression correctly!)\"))\n",
    "        \n",
    "    except:\n",
    "        display(Markdown('**Your input for $x_0$ must be a numerical value.**'))\n",
    "    \n",
    "    "
   ]
  },
  {
   "cell_type": "markdown",
   "metadata": {},
   "source": [
    "## Problem Set 2\n",
    "The next few problems involve interacting with plots which have pre-defined functions graphed on them. In each function of the form $y = (a-bx)^{\\frac{1}{n}}$, it is your job to find the appropriate unkown parameters (a,b,n). This can be done by adjusting the sliders provided and matching the function graphically. Hopefully this exercise will provide intuition on how adjusting the parameters in each function manipulates the graph.\n",
    "\n",
    "*Press the shift key and the enter key at the same time to run the cell below this one, or click on the cell and press Run in the toolbar. REPEAT THIS STEP AFTER FINISHING EACH PROBLEM.*"
   ]
  },
  {
   "cell_type": "code",
   "execution_count": 15,
   "metadata": {},
   "outputs": [
    {
     "data": {
      "application/vnd.jupyter.widget-view+json": {
       "model_id": "c8d347328e3b43dfbf2be4e4c5e733bd",
       "version_major": 2,
       "version_minor": 0
      },
      "text/html": [
       "<p>Failed to display Jupyter Widget of type <code>interactive</code>.</p>\n",
       "<p>\n",
       "  If you're reading this message in the Jupyter Notebook or JupyterLab Notebook, it may mean\n",
       "  that the widgets JavaScript is still loading. If this message persists, it\n",
       "  likely means that the widgets JavaScript library is either not installed or\n",
       "  not enabled. See the <a href=\"https://ipywidgets.readthedocs.io/en/stable/user_install.html\">Jupyter\n",
       "  Widgets Documentation</a> for setup instructions.\n",
       "</p>\n",
       "<p>\n",
       "  If you're reading this message in another frontend (for example, a static\n",
       "  rendering on GitHub or <a href=\"https://nbviewer.jupyter.org/\">NBViewer</a>),\n",
       "  it may mean that your frontend doesn't currently support widgets.\n",
       "</p>\n"
      ],
      "text/plain": [
       "interactive(children=(IntSlider(value=0, continuous_update=False, description='a', max=10, min=-10), IntSlider(value=0, continuous_update=False, description='b', max=10, min=-10), IntSlider(value=2, continuous_update=False, description='n', max=5, min=2), Output()), _dom_classes=('widget-interact',))"
      ]
     },
     "metadata": {},
     "output_type": "display_data"
    },
    {
     "data": {
      "text/latex": [
       "*If you're seeing no change, make sure b is NOT set to 0.*"
      ],
      "text/plain": [
       "<IPython.core.display.Latex object>"
      ]
     },
     "metadata": {},
     "output_type": "display_data"
    }
   ],
   "source": [
    "\"\"\"\n",
    "interactive plot where students have to match parameters a, b and n in the function f(x) = (a-bx)^(1/n)\n",
    "if & else statements are required to adjust the x-linspace such that python does not constantly return errors when\n",
    "an invalid (complex) value is encountered under the exponent\n",
    "\"\"\"\n",
    "\n",
    "def slider(a,b,n):\n",
    "    if b != 0:\n",
    "        i = float(a)/float(b)\n",
    "    else:\n",
    "        i = 0\n",
    "        a = 0 # when b = 0, set a = 0 to avoid all a < 0. Note at the bottom of each figure\n",
    "    if b > 0:\n",
    "        x = np.linspace(-10,i,500)\n",
    "    else:\n",
    "        x = np.linspace(i,10,500)\n",
    "    f = (a-b*x)**(1./n)\n",
    "    xx = np.linspace(-10,2,200)\n",
    "    plt.figure(1,figsize = (10,7))\n",
    "    hold = True\n",
    "    plt.plot(x,f,'m-',linewidth = 3)\n",
    "    plt.plot(xx,(6-3*xx)**(1./3.),'b--', linewidth = 2, label = r'$y = (a-bx)^{\\frac{1}{n}}$')\n",
    "    if a == 6 and b == 3 and n == 3:\n",
    "        plt.text(1,2,'VERY GOOD!', fontsize = 25, fontweight = 'bold',color = 'r')\n",
    "        plt.plot(x,f,'m-',linewidth = 3, label = r'$y = (6-3x)^{\\frac{1}{3}}$')\n",
    "    plt.xlabel('$x$',fontsize = 14)\n",
    "    plt.ylabel('$y$',fontsize = 14)\n",
    "    plt.plot([-10,10],[0,0],'k-',alpha = 1,linewidth = 1)\n",
    "    plt.plot([0,0],[-10,10],'k-',alpha = 1,linewidth = 1)\n",
    "    plt.grid(alpha = 0.7)\n",
    "    plt.xticks(np.arange(-10,11))\n",
    "    plt.ylim([-2,5])\n",
    "    plt.xlim([-10,10])\n",
    "    plt.legend(loc = 'best', fontsize = 18)\n",
    "    plt.show()\n",
    "\n",
    "sl = interactive(slider, n=widgets.IntSlider(value = 2, min = 2,max = 5,step = 1, continuous_update = False),\n",
    "                a=widgets.IntSlider(value = 0, min = -10,max = 10,step = 1, continuous_update = False),\n",
    "                b=widgets.IntSlider(value = 0, min = -10,max = 10,step = 1, continuous_update = False))\n",
    "display(sl)\n",
    "display(Latex(\"*If you're seeing no change, make sure b is NOT set to 0.*\"))"
   ]
  },
  {
   "cell_type": "code",
   "execution_count": 16,
   "metadata": {},
   "outputs": [
    {
     "data": {
      "application/vnd.jupyter.widget-view+json": {
       "model_id": "44d7c5e451ab48ccb92f168dc906f594",
       "version_major": 2,
       "version_minor": 0
      },
      "text/html": [
       "<p>Failed to display Jupyter Widget of type <code>interactive</code>.</p>\n",
       "<p>\n",
       "  If you're reading this message in the Jupyter Notebook or JupyterLab Notebook, it may mean\n",
       "  that the widgets JavaScript is still loading. If this message persists, it\n",
       "  likely means that the widgets JavaScript library is either not installed or\n",
       "  not enabled. See the <a href=\"https://ipywidgets.readthedocs.io/en/stable/user_install.html\">Jupyter\n",
       "  Widgets Documentation</a> for setup instructions.\n",
       "</p>\n",
       "<p>\n",
       "  If you're reading this message in another frontend (for example, a static\n",
       "  rendering on GitHub or <a href=\"https://nbviewer.jupyter.org/\">NBViewer</a>),\n",
       "  it may mean that your frontend doesn't currently support widgets.\n",
       "</p>\n"
      ],
      "text/plain": [
       "interactive(children=(IntSlider(value=0, continuous_update=False, description='a', max=10, min=-10), IntSlider(value=0, continuous_update=False, description='b', max=10, min=-10), IntSlider(value=2, continuous_update=False, description='n', max=5, min=2), Output()), _dom_classes=('widget-interact',))"
      ]
     },
     "metadata": {},
     "output_type": "display_data"
    },
    {
     "data": {
      "text/latex": [
       "*If you're seeing no change, make sure b is NOT set to 0.*"
      ],
      "text/plain": [
       "<IPython.core.display.Latex object>"
      ]
     },
     "metadata": {},
     "output_type": "display_data"
    }
   ],
   "source": [
    "def slider(a,b,n):\n",
    "    if b != 0:\n",
    "        i = float(a)/float(b)\n",
    "    else:\n",
    "        i = 0\n",
    "        a = 0\n",
    "    if b > 0:\n",
    "        x = np.linspace(-10,i,500)\n",
    "    else:\n",
    "        x = np.linspace(i,10,500)\n",
    "    f = (a-b*x)**(1./n)\n",
    "    xx = np.linspace(9./4,10,200)\n",
    "    plt.figure(1,figsize = (10,7))\n",
    "    hold = True\n",
    "    plt.plot(x,f,'m-',linewidth = 3)\n",
    "    plt.plot(xx,(-9+4*xx)**(1./2.),'b--', linewidth = 2, label = r'$y = (a-bx)^{\\frac{1}{n}}$')\n",
    "    if a == -9 and b == -4 and n == 2:\n",
    "        plt.text(-7,2,'VERY GOOD!', fontsize = 25, fontweight = 'bold',color = 'r')\n",
    "        plt.plot(x,f,'m-',linewidth = 3, label = r'$y = (-9+4x)^{\\frac{1}{2}}$')\n",
    "    plt.xlabel('$x$',fontsize = 14)\n",
    "    plt.ylabel('$y$',fontsize = 14)\n",
    "    plt.plot([-10,10],[0,0],'k-',alpha = 1,linewidth = 1)\n",
    "    plt.plot([0,0],[-10,10],'k-',alpha = 1,linewidth = 1)\n",
    "    plt.grid(alpha = 0.7)\n",
    "    plt.xticks(np.arange(-10,11))\n",
    "    plt.ylim([-2,5])\n",
    "    plt.xlim([-10,10])\n",
    "    plt.legend(loc = 'best', fontsize = 18)\n",
    "    plt.show()\n",
    "\n",
    "sl = interactive(slider, n=widgets.IntSlider(value = 2, min = 2,max = 5,step = 1, continuous_update = False),\n",
    "                a=widgets.IntSlider(value = 0, min = -10,max = 10,step = 1, continuous_update = False),\n",
    "                b=widgets.IntSlider(value = 0, min = -10,max = 10,step = 1, continuous_update = False))\n",
    "display(sl)\n",
    "display(Latex(\"*If you're seeing no change, make sure b is NOT set to 0.*\"))"
   ]
  },
  {
   "cell_type": "code",
   "execution_count": 17,
   "metadata": {},
   "outputs": [
    {
     "data": {
      "application/vnd.jupyter.widget-view+json": {
       "model_id": "9261c78b0ab04edd8ee9df908e5966db",
       "version_major": 2,
       "version_minor": 0
      },
      "text/html": [
       "<p>Failed to display Jupyter Widget of type <code>interactive</code>.</p>\n",
       "<p>\n",
       "  If you're reading this message in the Jupyter Notebook or JupyterLab Notebook, it may mean\n",
       "  that the widgets JavaScript is still loading. If this message persists, it\n",
       "  likely means that the widgets JavaScript library is either not installed or\n",
       "  not enabled. See the <a href=\"https://ipywidgets.readthedocs.io/en/stable/user_install.html\">Jupyter\n",
       "  Widgets Documentation</a> for setup instructions.\n",
       "</p>\n",
       "<p>\n",
       "  If you're reading this message in another frontend (for example, a static\n",
       "  rendering on GitHub or <a href=\"https://nbviewer.jupyter.org/\">NBViewer</a>),\n",
       "  it may mean that your frontend doesn't currently support widgets.\n",
       "</p>\n"
      ],
      "text/plain": [
       "interactive(children=(IntSlider(value=0, continuous_update=False, description='a', max=10, min=-10), IntSlider(value=0, continuous_update=False, description='b', max=10, min=-10), IntSlider(value=2, continuous_update=False, description='n', max=5, min=2), Output()), _dom_classes=('widget-interact',))"
      ]
     },
     "metadata": {},
     "output_type": "display_data"
    },
    {
     "data": {
      "text/latex": [
       "*If you're seeing no change, make sure b is NOT set to 0.*"
      ],
      "text/plain": [
       "<IPython.core.display.Latex object>"
      ]
     },
     "metadata": {},
     "output_type": "display_data"
    }
   ],
   "source": [
    "def slider(a,b,n):\n",
    "    if b != 0:\n",
    "        i = float(a)/float(b)\n",
    "    else:\n",
    "        i = 0\n",
    "        a = 0\n",
    "    if b > 0:\n",
    "        x = np.linspace(-10,i,500)\n",
    "    else:\n",
    "        x = np.linspace(i,10,500)\n",
    "    f = (a-b*x)**(1./n)\n",
    "    xx = np.linspace(-4,10,200)\n",
    "    plt.figure(1,figsize = (10,7))\n",
    "    hold = True\n",
    "    plt.plot(x,f,'m-',linewidth = 3)\n",
    "    plt.plot(xx,(8+2*xx)**(1./5.),'b--', linewidth = 2, label = r'$y = (a-bx)^{\\frac{1}{n}}$')\n",
    "    if a == 8 and b == -2 and n == 5:\n",
    "        plt.text(-8,3,'VERY GOOD!', fontsize = 25, fontweight = 'bold',color = 'r')\n",
    "        plt.plot(x,f,'m-',linewidth = 3, label = r'$y = (8+2x)^{\\frac{1}{5}}$')\n",
    "    plt.xlabel('$x$',fontsize = 14)\n",
    "    plt.ylabel('$y$',fontsize = 14)\n",
    "    plt.plot([-10,10],[0,0],'k-',alpha = 1,linewidth = 1)\n",
    "    plt.plot([0,0],[-10,10],'k-',alpha = 1,linewidth = 1)\n",
    "    plt.grid(alpha = 0.7)\n",
    "    plt.xticks(np.arange(-10,11))\n",
    "    plt.ylim([-2,5])\n",
    "    plt.xlim([-10,10])\n",
    "    plt.legend(loc = 'best', fontsize = 18)\n",
    "    plt.show()\n",
    "\n",
    "sl = interactive(slider, n=widgets.IntSlider(value = 2, min = 2,max = 5,step = 1, continuous_update = False),\n",
    "                a=widgets.IntSlider(value = 0, min = -10,max = 10,step = 1, continuous_update = False),\n",
    "                b=widgets.IntSlider(value = 0, min = -10,max = 10,step = 1, continuous_update = False))\n",
    "display(sl)\n",
    "display(Latex(\"*If you're seeing no change, make sure b is NOT set to 0.*\"))"
   ]
  },
  {
   "cell_type": "code",
   "execution_count": 18,
   "metadata": {},
   "outputs": [
    {
     "data": {
      "application/vnd.jupyter.widget-view+json": {
       "model_id": "17f0353ed3a9499ea4b0120ef805d5cc",
       "version_major": 2,
       "version_minor": 0
      },
      "text/html": [
       "<p>Failed to display Jupyter Widget of type <code>interactive</code>.</p>\n",
       "<p>\n",
       "  If you're reading this message in the Jupyter Notebook or JupyterLab Notebook, it may mean\n",
       "  that the widgets JavaScript is still loading. If this message persists, it\n",
       "  likely means that the widgets JavaScript library is either not installed or\n",
       "  not enabled. See the <a href=\"https://ipywidgets.readthedocs.io/en/stable/user_install.html\">Jupyter\n",
       "  Widgets Documentation</a> for setup instructions.\n",
       "</p>\n",
       "<p>\n",
       "  If you're reading this message in another frontend (for example, a static\n",
       "  rendering on GitHub or <a href=\"https://nbviewer.jupyter.org/\">NBViewer</a>),\n",
       "  it may mean that your frontend doesn't currently support widgets.\n",
       "</p>\n"
      ],
      "text/plain": [
       "interactive(children=(IntSlider(value=0, continuous_update=False, description='a', max=10, min=-10), IntSlider(value=0, continuous_update=False, description='b', max=10, min=-10), IntSlider(value=2, continuous_update=False, description='n', max=5, min=2), Output()), _dom_classes=('widget-interact',))"
      ]
     },
     "metadata": {},
     "output_type": "display_data"
    },
    {
     "data": {
      "text/latex": [
       "*If you're seeing no change, make sure b is NOT set to 0.*"
      ],
      "text/plain": [
       "<IPython.core.display.Latex object>"
      ]
     },
     "metadata": {},
     "output_type": "display_data"
    }
   ],
   "source": [
    "def slider(a,b,n):\n",
    "    if b != 0 and a != 0:\n",
    "        i = float(a)/float(b)\n",
    "    elif b == 0:\n",
    "        a = 0\n",
    "        x = 1\n",
    "    else:\n",
    "        i = 0\n",
    "    if b > 0:\n",
    "        x = np.linspace(-11,i-1e-5,500)\n",
    "    elif b < 0:\n",
    "        x = np.linspace(i+1e-5,11,500)\n",
    "    elif b == 0:\n",
    "        b = -1\n",
    "    \n",
    "    f = (a-b*x)**(-1./n)\n",
    "    xx = np.linspace(-10,5-1e-5,300)\n",
    "    plt.figure(1,figsize = (10,7))\n",
    "    hold = True\n",
    "    plt.plot(x,f,'m-',linewidth = 3)\n",
    "    plt.plot(xx,(5-xx)**(-1./4.),'b--', linewidth = 2, label = r'$y = (a-bx)^{\\frac{1}{n}}$')\n",
    "    if a == 5 and b == 1 and n == 4:\n",
    "        plt.text(-7,2,'VERY GOOD!', fontsize = 25, fontweight = 'bold',color = 'r')\n",
    "        plt.plot(x,f,'m-',linewidth = 3, label = r'$y = (5-x)^{\\frac{-1}{4}}$')\n",
    "    plt.xlabel('$x$',fontsize = 14)\n",
    "    plt.ylabel('$y$',fontsize = 14)\n",
    "    plt.plot([-10,10],[0,0],'k-',alpha = 1,linewidth = 1)\n",
    "    plt.plot([0,0],[-10,10],'k-',alpha = 1,linewidth = 1)\n",
    "    plt.grid(alpha = 0.7)\n",
    "    plt.xticks(np.arange(-10,11))\n",
    "    plt.ylim([-2,5])\n",
    "    plt.xlim([-10,10])\n",
    "    plt.legend(loc = 'best', fontsize = 18)\n",
    "    plt.show()\n",
    "\n",
    "sl = interactive(slider, n=widgets.IntSlider(value = 2, min = 2,max = 5,step = 1, continuous_update = False),\n",
    "                a=widgets.IntSlider(value = 0, min = -10,max = 10,step = 1, continuous_update = False),\n",
    "                b=widgets.IntSlider(value = 0, min = -10,max = 10,step = 1, continuous_update = False))\n",
    "display(sl)\n",
    "display(Latex(\"*If you're seeing no change, make sure b is NOT set to 0.*\"))"
   ]
  },
  {
   "cell_type": "markdown",
   "metadata": {},
   "source": [
    "# The Spiral of Theordorus \n",
    "https://en.wikipedia.org/wiki/Spiral_of_Theodorus\n",
    "\n",
    "The Spiral of Theodorus or Pythagorean Spiral, is a geometrical construction comprised of right angle triangles. It's a very interesting and fun application of square roots! So let's look at an image of the spiral first and then we can look at the mathematics of how the square root gets involved. \n"
   ]
  },
  {
   "cell_type": "markdown",
   "metadata": {},
   "source": [
    "![spiral_png](Spiral_image.png)"
   ]
  },
  {
   "cell_type": "markdown",
   "metadata": {},
   "source": [
    "So what exactly is happening here? Well, as you may have noticed all the triangles that form this design are right angle triangles. Starting from the innermost triangle, you can see that it has two side lengths equal to 1 with a hypotenuse equal to $\\sqrt{2}$. Moving onwards from that, the next triangle is again a right angle triangle, just rotated now by some angle $\\phi$. It now has a base length equal to $\\sqrt{2}$, a hypotenuse equal to $\\sqrt{3}$ and the remaining side remains to be 1. Can you see the pattern here ? Each of the $n^{\\rm th}$ triangle has it's outermost side length fixed at 1, where the base and the hypotenuse are $\\sqrt{n}$ and $\\sqrt{n+1}$ respectively for $n > 0$. \n",
    "\n",
    "We can also calculate what the angle $\\phi$ is for each new triangle. This is simply\n",
    "\n",
    "$\\phi = \\arctan\\Big(\\frac{1}{\\sqrt{n}}\\Big)$ \n",
    "\n",
    "for the $n^{\\rm th}$ triangle. This is true because $\\tan\\phi = \\frac{\\rm opposite}{\\rm adjacent}$ and our side opposite $\\phi$ is fixed at length 1 and the adjacent side changes to $\\sqrt{n}$ for the $n^{\\rm th}$ triangle. \n",
    "\n",
    "From these simple facts, one can construct a code that creates this fun visual application of square roots! Feel free to look at ``Spiral_Of_Theodorus.py`` to see how the spiral was created. Below is an interactive widget where you can change how many triangles are formed in the spiral. \n",
    "\n",
    "*Press the shift key and the enter key at the same time to run the cell below this one, or click on the cell and press Run in the toolbar.*"
   ]
  },
  {
   "cell_type": "code",
   "execution_count": 19,
   "metadata": {},
   "outputs": [
    {
     "data": {
      "application/vnd.jupyter.widget-view+json": {
       "model_id": "443c8a93c71b4fb7a42da31601e6df4a",
       "version_major": 2,
       "version_minor": 0
      },
      "text/html": [
       "<p>Failed to display Jupyter Widget of type <code>interactive</code>.</p>\n",
       "<p>\n",
       "  If you're reading this message in the Jupyter Notebook or JupyterLab Notebook, it may mean\n",
       "  that the widgets JavaScript is still loading. If this message persists, it\n",
       "  likely means that the widgets JavaScript library is either not installed or\n",
       "  not enabled. See the <a href=\"https://ipywidgets.readthedocs.io/en/stable/user_install.html\">Jupyter\n",
       "  Widgets Documentation</a> for setup instructions.\n",
       "</p>\n",
       "<p>\n",
       "  If you're reading this message in another frontend (for example, a static\n",
       "  rendering on GitHub or <a href=\"https://nbviewer.jupyter.org/\">NBViewer</a>),\n",
       "  it may mean that your frontend doesn't currently support widgets.\n",
       "</p>\n"
      ],
      "text/plain": [
       "interactive(children=(IntSlider(value=17, continuous_update=False, description='n', max=60, min=2), Output()), _dom_classes=('widget-interact',))"
      ]
     },
     "metadata": {},
     "output_type": "display_data"
    }
   ],
   "source": [
    "sl = interactive(S.Spiral, n=widgets.IntSlider(value = 17, min = 2,max = 60,step = 1, continuous_update = False)) \n",
    "display(sl)"
   ]
  },
  {
   "cell_type": "code",
   "execution_count": 20,
   "metadata": {
    "scrolled": false
   },
   "outputs": [
    {
     "data": {
      "text/markdown": [
       "Input a larger number here to see a more spectacular image! (*must be less than 101*)"
      ],
      "text/plain": [
       "<IPython.core.display.Markdown object>"
      ]
     },
     "metadata": {},
     "output_type": "display_data"
    },
    {
     "name": "stdout",
     "output_type": "stream",
     "text": [
      "10000\n"
     ]
    },
    {
     "data": {
      "text/markdown": [
       "Input must be less than 101."
      ],
      "text/plain": [
       "<IPython.core.display.Markdown object>"
      ]
     },
     "metadata": {},
     "output_type": "display_data"
    },
    {
     "data": {
      "text/markdown": [
       "Please run this cell again."
      ],
      "text/plain": [
       "<IPython.core.display.Markdown object>"
      ]
     },
     "metadata": {},
     "output_type": "display_data"
    }
   ],
   "source": [
    "#NBVAL_SKIP\n",
    "\n",
    "display(Markdown('Input a larger number here to see a more spectacular image! (*must be less than 101*)'))\n",
    "n = int(input())\n",
    "if n > 100:\n",
    "    display(Markdown('Input must be less than 101.'))\n",
    "    display(Markdown('Please run this cell again.'))\n",
    "else:\n",
    "    display(Markdown('Generating spiral...'))\n",
    "    S.Spiral(n)"
   ]
  },
  {
   "cell_type": "markdown",
   "metadata": {},
   "source": [
    "# Conclusion \n",
    "\n",
    "In this notebook we covered the fundamentals of radical functions and their domains of existence. You should be able to recognize that any function underneath a radical requires its values to be positive and that we find this by solving for the root of the function inside the radical. It is important to differentiate that functions of the form\n",
    "- a.  $ \\ f(g(x)) = g(x)^{\\frac{1}{n}}$\n",
    "- b.  $ \\ f(g(x)) = g(x)^{\\frac{-1}{n}}$\n",
    "\n",
    "where in a., the domain of existence is values of $g(x) \\geq 0$ and in b., the domain of existence is values of $g(x) > 0$ because with a negative exponent, $g(x) = 0$ does not exist. \n",
    "\n",
    "As well, we covered the most common radical function, the square root, and showed how this connects to the aboslute value function. It can also be utilized to find the roots of certain quadratic functions of the form \n",
    "\n",
    "$f(x) = (ax-b)^2$\n",
    "\n",
    "![](https://raw.githubusercontent.com/callysto/callysto-sample-notebooks/master/notebooks/images/Callysto_Notebook-Banners_Bottom_06.06.18.jpg)"
   ]
  }
 ],
 "metadata": {
  "kernelspec": {
   "display_name": "Python 3",
   "language": "python",
   "name": "python3"
  },
  "language_info": {
   "codemirror_mode": {
    "name": "ipython",
    "version": 3
   },
   "file_extension": ".py",
   "mimetype": "text/x-python",
   "name": "python",
   "nbconvert_exporter": "python",
   "pygments_lexer": "ipython3",
   "version": "3.6.4"
  }
 },
 "nbformat": 4,
 "nbformat_minor": 2
}
