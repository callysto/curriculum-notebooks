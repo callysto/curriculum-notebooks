{
 "cells": [
  {
   "cell_type": "markdown",
   "metadata": {},
   "source": [
    "![Callysto.ca Banner](https://github.com/callysto/curriculum-notebooks/blob/master/callysto-notebook-banner-top.jpg?raw=true)\n",
    "\n",
    "<a href=\"https://hub.callysto.ca/jupyter/hub/user-redirect/git-pull?repo=https%3A%2F%2Fgithub.com%2Fcallysto%2Fcurriculum-notebooks&branch=master&subPath=Mathematics/AnalyzingRadicalFunctions/analyzing-radical-functions.ipynb&depth=1\" target=\"_parent\"><img src=\"https://raw.githubusercontent.com/callysto/curriculum-notebooks/master/open-in-callysto-button.svg?sanitize=true\" width=\"123\" height=\"24\" alt=\"Open in Callysto\"/></a>"
   ]
  },
  {
   "cell_type": "markdown",
   "metadata": {},
   "source": [
    "# Analyzing Radical Functions\n",
    "\n",
    "# Introduction\n",
    "\n",
    "In this notebook we will analyze and graph radical functions. **Radical** means it involves a root, such as a square root like $\\sqrt{x}$, and a **function** is where each *input* has just one *output*.\n",
    "\n",
    "An example of a radical function is\n",
    "\n",
    "$y = \\sqrt{x}$\n",
    "\n",
    "and we can look at transformations of that function in the form\n",
    "\n",
    "$y - k = a \\sqrt{b(x-h)}$\n",
    "\n",
    "Let's create a visualizion to see how each of those variables affects the function. Click on the code cell below, then click the `▶Run` button to display a [Desmos calculator](https://www.desmos.com/calculator) with sliders for the variables."
   ]
  },
  {
   "cell_type": "code",
   "execution_count": null,
   "metadata": {},
   "outputs": [],
   "source": [
    "from IPython.display import IFrame\n",
    "IFrame(src='https://www.desmos.com/calculator/nh9wc0y8s9', width=800, height=500)"
   ]
  },
  {
   "cell_type": "markdown",
   "metadata": {},
   "source": [
    "We can also use [Plotly](https://plotly.com/python/) to create a visualization of $y = \\sqrt{x}$ and $y - k = a \\sqrt{b(x-h)}$.\n",
    "\n",
    "You can change the values of the variables in the code cell below, and then `▶Run` the cell to see the visualization."
   ]
  },
  {
   "cell_type": "code",
   "execution_count": null,
   "metadata": {},
   "outputs": [],
   "source": [
    "a = 1\n",
    "b = 1\n",
    "h = 1\n",
    "k = 1\n",
    "domain = (0, 10)\n",
    "\n",
    "import numpy as np\n",
    "import plotly.graph_objects as go\n",
    "x = np.linspace(domain[0], domain[1], 100)\n",
    "y1 = np.sqrt(x)\n",
    "y2 = a * np.sqrt(b*(x-h)) + k\n",
    "\n",
    "fig = go.Figure()\n",
    "fig.add_trace(go.Scatter(x=x, y=y1, name='y = sqrt(x)'))\n",
    "#fig.add_trace(go.Scatter(x=x, y=-y1, name='y = - sqrt(x)'))\n",
    "fig.add_trace(go.Scatter(x=x, y=y2, name='Translated Function'))\n",
    "#fig.add_trace(go.Scatter(x=x, y=-y2, name='-Translated Function'))\n",
    "fig.show()"
   ]
  },
  {
   "cell_type": "markdown",
   "metadata": {},
   "source": [
    "# The Spiral of Theodorus\n",
    "\n",
    "The [Spiral of Theodorus](https://en.wikipedia.org/wiki/Spiral_of_Theodorus) is a geometrical construction of right angle triangles, and is an interesting application of square roots.\n",
    "\n",
    "![Spiral of Theodorus](images/Spiral_gif.gif)\n",
    "\n",
    "All the triangles that form this design are *right angle triangles*.\n",
    "\n",
    "The innermost triangle has two side lengths equal to $1$ with a hypotenuse equal to $\\sqrt{2}$. \n",
    "\n",
    "The next triangle has a base length of $\\sqrt{2}$, the hypotenuse of the first triangle, and a height of $1$. This makes the hypotenuse $\\sqrt{3}$.\n",
    "\n",
    "Each of the triangles has a *height* of $1$, a *base* equal to the hypotenuse of the previous triangle, and a *hypotenuse* equal to the square root of the triangle number. So for the $n^{th}$ triangle:\n",
    "\n",
    "$a = 1$\n",
    "\n",
    "$b = \\sqrt{n}$\n",
    "\n",
    "$c = \\sqrt{n+1}$ \n",
    "\n",
    "From these facts we can write Python code to create this visual application of square roots. The slider above the interactive allows you to change the number of triangles generated."
   ]
  },
  {
   "cell_type": "code",
   "execution_count": null,
   "metadata": {},
   "outputs": [],
   "source": [
    "import numpy as np\n",
    "import matplotlib.pyplot as plt\n",
    "from IPython.display import display\n",
    "from ipywidgets import widgets, interactive\n",
    "\n",
    "from math import atan, sqrt, cos, sin\n",
    "col = ['#e02727','#e06e27','#e0ca27','#a9e027','#57e027','#27e07e','#27e0bc','#27cde0','#2789e0','#2750e0','#2c27e0','#6827e0','#8427e0','#b527e0','#e027de','#e0279f','#e02766']\n",
    "c = len(col)\n",
    "\n",
    "def Spiral(n):\n",
    "    col_counter = 0\n",
    "    N = np.arange(1,n)\n",
    "    phi = 0\n",
    "    plt.figure(1,figsize = (12,9))\n",
    "    hold = True\n",
    "    for n in N:\n",
    "        phi_n = atan(1./sqrt(n))\n",
    "        phi += phi_n\n",
    "        if n == 1:\n",
    "            plt.plot([0,1],[0,0],linewidth = 1.5,color = col[col_counter])\n",
    "            plt.plot([1,1],[0,1],linewidth = 1.5,color = col[col_counter])\n",
    "            r = sqrt(n + 1)\n",
    "            x = r*cos(phi)\n",
    "            y = r*sin(phi)\n",
    "            plt.plot([0,x],[0,y],linewidth = 1.5,color = col[col_counter])\n",
    "            string = str((r'$\\sqrt{' + str(n + 1) + '}$'))\n",
    "            plt.text(x/1.4,y/1.4,string)\n",
    "            X = [0,1,x]\n",
    "            Y = [0,0,y]\n",
    "            plt.fill(X,Y,color = col[col_counter],alpha = 0.45)            \n",
    "            last_x = 1\n",
    "            last_y = 1\n",
    "        else:\n",
    "            r = sqrt(n + 1)\n",
    "            x = r*cos(phi)\n",
    "            y = r*sin(phi)\n",
    "            plt.plot([0,x], [0,y], linewidth = 1.5,color = col[col_counter])\n",
    "            plt.plot([last_x,x], [last_y,y],color = col[col_counter])\n",
    "            string = str((r'$\\sqrt{' + str(n + 1) + '}$'))\n",
    "            plt.text(x/1.4,y/1.4,string,fontsize = 13)\n",
    "            X = [0,last_x,x]\n",
    "            Y = [0,last_y,y]\n",
    "            plt.fill(X,Y,color = col[col_counter],alpha = 0.45)\n",
    "            last_x = x\n",
    "            last_y = y\n",
    "        col_counter += 1\n",
    "        if col_counter > c-1:\n",
    "            col_counter = 0\n",
    "sl = interactive(Spiral, n=widgets.IntSlider(value = 17, min = 2,max = 100,step = 1, continuous_update = False)) \n",
    "display(sl)"
   ]
  },
  {
   "cell_type": "markdown",
   "metadata": {},
   "source": [
    "# Conclusion \n",
    "\n",
    "In this notebook we looked at radical functions, and transformations in the form\n",
    "\n",
    "$y - k = a \\sqrt{b(x-h)}$\n",
    "\n",
    "We also looked at how to generate the Spiral of Theodorus as an application of radicals."
   ]
  },
  {
   "cell_type": "markdown",
   "metadata": {},
   "source": [
    "[![Callysto.ca License](https://github.com/callysto/curriculum-notebooks/blob/master/callysto-notebook-banner-bottom.jpg?raw=true)](https://github.com/callysto/curriculum-notebooks/blob/master/LICENSE.md)"
   ]
  }
 ],
 "metadata": {
  "kernelspec": {
   "display_name": "Python 3.10.4 64-bit",
   "language": "python",
   "name": "python3"
  },
  "language_info": {
   "codemirror_mode": {
    "name": "ipython",
    "version": 3
   },
   "file_extension": ".py",
   "mimetype": "text/x-python",
   "name": "python",
   "nbconvert_exporter": "python",
   "pygments_lexer": "ipython3",
   "version": "3.10.4"
  },
  "vscode": {
   "interpreter": {
    "hash": "aee8b7b246df8f9039afb4144a1f6fd8d2ca17a180786b69acc140d282b71a49"
   }
  }
 },
 "nbformat": 4,
 "nbformat_minor": 2
}
