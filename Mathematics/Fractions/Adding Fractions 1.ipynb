{
 "cells": [
  {
   "cell_type": "markdown",
   "metadata": {},
   "source": [
    "<img src=\"images/Callysto_Notebook-Banner_Top_06.06.18.jpg\">"
   ]
  },
  {
   "cell_type": "code",
   "execution_count": 1,
   "metadata": {},
   "outputs": [
    {
     "data": {
      "text/html": [
       "\n",
       "<script>\n",
       "  function code_toggle() {\n",
       "    if (code_shown){\n",
       "      $('div.input').hide('500');\n",
       "      $('#toggleButton').val('Show Code')\n",
       "    } else {\n",
       "      $('div.input').show('500');\n",
       "      $('#toggleButton').val('Hide Code')\n",
       "    }\n",
       "    code_shown = !code_shown\n",
       "  }\n",
       "\n",
       "  $( document ).ready(function(){\n",
       "    code_shown=false;\n",
       "    $('div.input').hide()\n",
       "  });\n",
       "</script>\n",
       "<form action=\"javascript:code_toggle()\"><input type=\"submit\" id=\"toggleButton\" value=\"Show Code\"></form>"
      ],
      "text/plain": [
       "<IPython.core.display.HTML object>"
      ]
     },
     "metadata": {},
     "output_type": "display_data"
    }
   ],
   "source": [
    "%%html\n",
    "\n",
    "<script>\n",
    "  function code_toggle() {\n",
    "    if (code_shown){\n",
    "      $('div.input').hide('500');\n",
    "      $('#toggleButton').val('Show Code')\n",
    "    } else {\n",
    "      $('div.input').show('500');\n",
    "      $('#toggleButton').val('Hide Code')\n",
    "    }\n",
    "    code_shown = !code_shown\n",
    "  }\n",
    "\n",
    "  $( document ).ready(function(){\n",
    "    code_shown=false;\n",
    "    $('div.input').hide()\n",
    "  });\n",
    "</script>\n",
    "<form action=\"javascript:code_toggle()\"><input type=\"submit\" id=\"toggleButton\" value=\"Show Code\"></form>"
   ]
  },
  {
   "cell_type": "code",
   "execution_count": 7,
   "metadata": {},
   "outputs": [
    {
     "data": {
      "text/html": [
       "<script type=\"text/javascript\" async src=\"https://cdnjs.cloudflare.com/ajax/libs/mathjax/2.7.4/MathJax.js?config=TeX-MML-AM_CHTML\"></script>\n",
       "<script src=\"https://d3js.org/d3.v3.min.js\" charset=\"utf-8\"></script>\n",
       "<script src=\"./javascript/nt.js\"></script>\n",
       "<link rel=\"stylesheet\" type=\"text/css\" href=\"./css/nt.css\">\n",
       "\\(\\newcommand{\\mixed}[3]{#1 \\frac {#2} {#3}}\\)"
      ],
      "text/plain": [
       "<IPython.core.display.HTML object>"
      ]
     },
     "metadata": {},
     "output_type": "display_data"
    }
   ],
   "source": [
    "%%html\n",
    "<script type=\"text/javascript\" async src=\"https://cdnjs.cloudflare.com/ajax/libs/mathjax/2.7.4/MathJax.js?config=TeX-MML-AM_CHTML\"></script>\n",
    "<script src=\"https://d3js.org/d3.v3.min.js\" charset=\"utf-8\"></script>\n",
    "<script src=\"./javascript/nt.js\"></script>\n",
    "<link rel=\"stylesheet\" type=\"text/css\" href=\"./css/nt.css\">"
   ]
  },
  {
   "cell_type": "markdown",
   "metadata": {},
   "source": [
    "`Run All` cells to begin.<br>\n",
    "If any errors appear in this notebook, try `Run All` again.\n",
    "\n",
    "# Adding Fractions Part 1 - Fractions with the Same Denominator\n",
    "\n",
    "## Introduction\n",
    "\n",
    "Fractions are a kind of number that we use to represent a part of a whole.<br>\n",
    "A fraction has two parts: a numerator (the top) and a denominator (the bottom).<br>\n",
    "For example, $\\frac 2 3$ is a fraction.<br>\n",
    "The numerator is 2 and the denominator is 3.<br>\n",
    "It can be read as \"two over three\" or \"two thirds\".<br>\n",
    "When we read it as \"two thirds\", it is more clear that the fraction represents an amount:\n",
    "\n",
    "Two thirds of a cup of sugar.\n",
    "\n",
    "Two thirds of a mile.\n",
    "\n",
    "Two thirds of a minute.\n",
    "\n",
    "Like other kinds of numbers, we can add fractions.<br>\n",
    "We can also subtract, multiply, and divide them, but this notebook is about adding.\n",
    "\n",
    "Sometimes, the two fractions we are adding have the same denominators.<br>\n",
    "In this situation, adding fractions is easy.<br>\n",
    "Sometimes, the two fractions have different denominators.<br>\n",
    "These are a bit harder to add.<br>\n",
    "In this notebook, we will learn the easy case.<br>\n",
    "We will learn how to add two fractions when they have the same denominator."
   ]
  },
  {
   "cell_type": "markdown",
   "metadata": {},
   "source": [
    "## Adding Fractions\n",
    "\n",
    "Adding fractions with the same denominator is easy. <br>\n",
    "It is like adding anything else.<br>\n",
    "You know that two plus three equals five.<br>\n",
    "\n",
    "Two kilometres plus three kilometres equals five kilometres. \n",
    "\n",
    "Two teaspoons of sugar plus three teaspoons of sugar equals five teaspoons of sugar.\n",
    "\n",
    "As long as we are adding two things of the same kind,\n",
    "it does not matter what kind of things we are adding.<br>\n",
    "Two things plus three more of those things equals five of those things.\n",
    "\n",
    "\\begin{equation}\n",
    "    \\begin{array}{lclcl}\n",
    "        2                    & + & 3                    & = & 5 \\\\\n",
    "        2 \\text{ km}         & + & 3 \\text{ km}         & = & 5 \\text{ km} \\\\\n",
    "        2 \\text{ tsp. sugar} & + & 3 \\text{ tsp. sugar} & = & 5 \\text{ tsp. sugar} \\\\\n",
    "    \\end{array}\n",
    "\\end{equation}\n",
    "\n",
    "However, adding things of different kinds is a problem.<br>\n",
    "Two apples plus three oranges is not five apples.<br>\n",
    "It is not five oranges either.\n",
    "\n",
    "The same idea works for fractions.\n",
    "\n",
    "\\begin{equation}\n",
    "    \\begin{array}{lclcl}\n",
    "        2                & + & 3                & = & 5 \\\\\n",
    "        2 \\text{ thirds} & + & 3 \\text{ thirds} & = & 5 \\text{ thirds} & \\implies &\n",
    "        \\frac 2 3 & + & \\frac 3 3 & = & \\frac 5 3 \\\\\n",
    "        2 \\text{ fifths} & + & 3 \\text{ fifths} & = & 5 \\text{ fifths} & \\implies &\n",
    "        \\frac 2 5 & + & \\frac 3 5 & = & \\frac 5 5 \\\\\n",
    "    \\end{array}\n",
    "\\end{equation}\n",
    "\n",
    "Be careful, though!\n",
    "Two thirds plus three fifths is not five thirds.<br>\n",
    "It is not five fifths either.<br>\n",
    "That is why we are only adding fractions with the same denominator for now.<br>\n",
    "We can add thirds to thirds and fifths to fifths.<br>\n",
    "We will learn how to add thirds to fifths in another notebook.<br>\n",
    "\n",
    "This idea gives us a way to add fractions.<br>\n",
    "If you are asked to add\n",
    "\n",
    "\\begin{equation}\n",
    "    \\frac 2 3 + \\frac 3 3,\n",
    "\\end{equation}\n",
    "\n",
    "you can read it as \"2 thirds + 3 thirds\", which, of course, is 5 thirds:\n",
    "\n",
    "\\begin{equation}\n",
    "    \\frac 2 3 + \\frac 3 3 = \\frac 5 3.\n",
    "\\end{equation}\n",
    "\n",
    "So the \"rule\" for adding two fractions is\n",
    " * Add the two numerators\n",
    " * Keep the denominator\n",
    "\n",
    "\\begin{equation}\n",
    "    \\frac 2 3 + \\frac 3 3 = \\frac {2+3} 3 = \\frac 5 3.\n",
    "\\end{equation}\n"
   ]
  },
  {
   "cell_type": "markdown",
   "metadata": {},
   "source": [
    "### Practice\n",
    "\n",
    "Practice adding fractions with the same denominator.<br>\n",
    "For every pair of fractions you are asked to add, enter their sum in the box.<br>\n",
    "Use the keyboard's `/` key to separate the numerator and denominator.<br>\n",
    "For example, if you think the answer is $\\frac 1 2$, enter `1/2` in the box.<br>\n",
    "The denominator of the sum should be the same as the denominator of the fractions you are adding."
   ]
  },
  {
   "cell_type": "code",
   "execution_count": 3,
   "metadata": {},
   "outputs": [
    {
     "data": {
      "text/html": [
       "<div id=\"practice-1-q\">\n",
       "\n",
       "</div>\n",
       "<div id=\"practice-1-a\">\n",
       "</div>\n",
       "<script>\n",
       "nt.register(\"practice-1-q\", \"practice-1-a\", \"./json/practice-1.json\",\n",
       "            function() {\n",
       "                nt.create_exercises(\"practice-1-q\");\n",
       "            });\n",
       "</script>"
      ],
      "text/plain": [
       "<IPython.core.display.HTML object>"
      ]
     },
     "metadata": {},
     "output_type": "display_data"
    }
   ],
   "source": [
    "%%html\n",
    "<div id=\"practice-1-q\">\n",
    "\n",
    "</div>\n",
    "<div id=\"practice-1-a\">\n",
    "</div>\n",
    "<script>\n",
    "nt.register(\"practice-1-q\", \"practice-1-a\", \"./json/practice-1.json\",\n",
    "            function() {\n",
    "                nt.create_exercises(\"practice-1-q\");\n",
    "            });\n",
    "</script>"
   ]
  },
  {
   "cell_type": "markdown",
   "metadata": {},
   "source": [
    "## Mixed Numbers\n",
    "\n",
    "$\\newcommand{\\mixed}[3]{{\\large #1}\\, \\frac{#2}{#3}}$\n",
    "$\\newcommand{\\Mixed}[3]{{\\Large #1}\\, \\frac{#2}{#3}}$\n",
    "\n",
    "A mixed number is made from an integer and a proper fraction.<br>\n",
    "An example is the mixed number\n",
    "\n",
    "\\begin{equation}\n",
    "    \\Mixed 3 4 5.\n",
    "\\end{equation}\n",
    "\n",
    "This one is read as \"three and four fifths\".<br>\n",
    "We could also write this mixed number like\n",
    "\n",
    "\\begin{equation}\n",
    "    {\\Large 3} + \\frac 4 5.\n",
    "\\end{equation}\n",
    "\n",
    "This would be read as \"three plus four fifths\",<br>\n",
    "but you could also read it as \"three and four fifths\".<br>\n",
    "They mean the same thing.<br>\n",
    "Whenever we have a mixed number, we can split it up into an integer and a fraction.\n",
    "\n",
    "\\begin{equation}\n",
    "    \\Mixed 3 4 5 = {\\Large 3} + \\frac 4 5.\n",
    "\\end{equation}\n"
   ]
  },
  {
   "cell_type": "markdown",
   "metadata": {},
   "source": [
    "## Converting Improper Fractions into Mixed Numbers\n",
    "\n",
    "It is possible to turn improper fractions into mixed numbers.<br>\n",
    "This is done by long division.<br>\n",
    "To turn an improper fraction into a mixed number, we will need\n",
    "\n",
    " * The denominator of the fractions and\n",
    " * The quotient and remainder from dividing the numerator by the denominator.\n",
    "\n",
    "\\begin{equation}\n",
    "    \\frac {\\text{numerator}} {\\text{denominator}} = \\text{quotient} \\, \\frac {\\text{remainder}} {\\text{denominator}}\n",
    "\\end{equation}\n",
    "\n",
    "Suppose we want to convert $\\frac {13} 4$ into a mixed number.<br>\n",
    "If we do long division, we find that 13 divided by 4 is equal to 3 with a remainder of 1.<br>\n",
    "The quotient is 3 and the remainder is 1.<br>\n",
    "\n",
    "![](images/long-div.svg)\n",
    "\n"
   ]
  },
  {
   "cell_type": "markdown",
   "metadata": {},
   "source": [
    "\n",
    "## Adding Mixed Numbers\n",
    "\n",
    "To add two mixed numbers, the first thing we do is this:\n",
    "\n",
    " * Add the integers together.\n",
    " * Then add the proper fractions together.\n",
    "\n",
    "This is because we can break up the mixed numbers into integers and proper fractions.<br>\n",
    "We can add in any order we want.<br>\n",
    "So we can add the integers and the fractions separately.<br>\n",
    "For example, if we want to add $\\mixed 5 4 5 + \\mixed 3 35$:\n",
    "\n",
    "\\begin{align}\n",
    "    \\Mixed 5 4 5 + \\Mixed 3 3 5\n",
    "        &= {\\Large 5} + \\frac 4 5 + {\\Large 3} + \\frac 4 5 \\\\\n",
    "        &= {\\Large 5} + {\\Large 3} + \\frac 4 5 + \\frac 3 5 \\\\\n",
    "        &= {\\Large 8} + \\frac 7 5 \\\\\n",
    "        &= \\Mixed 8 7 5.\n",
    "\\end{align}\n",
    "\n",
    "We added the mixed numbers $\\mixed 5 4 5$ and $\\mixed 3 3 5$.<br>\n",
    "The sum we got was $\\mixed 8 7 5$, but *this is not a mixed number*.<br>\n",
    "That is because the fraction $\\frac 7 5$ is not proper.<br>\n",
    "Its numerator is not smaller than its denominator.\n",
    "\n",
    "We can correct this problem by turning the improper fraction into a mixed number.<br>\n",
    "Long division tells us 7 divided by 5 is equal to 1 with a remainder of 2.<br>\n",
    "So $\\frac 7 5 = \\mixed 1 2 5$.\n",
    "\n",
    "\\begin{align}\n",
    "    \\Mixed 8 7 5\n",
    "        &= {\\Large 8} + \\frac 7 5 \\\\\n",
    "        &= {\\Large 8} + \\Mixed 1 2 5 \\\\\n",
    "        &= \\Mixed 9 2 5.\n",
    "\\end{align}\n",
    "\n",
    "So this is what we did to add two mixed numbers is this:\n",
    "\n",
    " * Add the integers together.\n",
    " * Add the proper fractions together.\n",
    " * If the sum of the proper fractions is *improper*:\n",
    "   * Convert the improper fraction into a mixed number.\n",
    "   * Add the mixed number to the sum of the integers.\n",
    "\n"
   ]
  },
  {
   "cell_type": "markdown",
   "metadata": {},
   "source": [
    "### Practice\n",
    "\n",
    "Practice adding mixed numbers.<br>\n",
    "To enter a mixed number in the box,\n",
    "type the integer, then a space, then type the fraction.<br>\n",
    "Use a `/` to separate the fraction's numerator and denominator.<br>\n",
    "The denominator in the sum's fraction should be the same as the denominator in the mixed numbers you are adding.<br>\n",
    "For example, if you think the answer to a question is $\\mixed 1 2 3$, type `1 2/3`.<br>\n",
    "If the answer is just an integer such as 1, just type `1`."
   ]
  },
  {
   "cell_type": "code",
   "execution_count": 11,
   "metadata": {},
   "outputs": [
    {
     "data": {
      "text/html": [
       "\\(\\newcommand{\\mixed}[3]{#1 \\frac {#2} {#3}}\\)\n",
       "<div id=\"practice-2-q\"></div>\n",
       "<div id=\"practice-2-a\"></div>\n",
       "<script>\n",
       "nt.register(\"practice-2-q\", \"practice-2-a\", \"./json/practice-2.json\",\n",
       "            function() {\n",
       "                nt.create_exercises(\"practice-2-q\");\n",
       "            });\n",
       "</script>"
      ],
      "text/plain": [
       "<IPython.core.display.HTML object>"
      ]
     },
     "metadata": {},
     "output_type": "display_data"
    }
   ],
   "source": [
    "%%html\n",
    "\\(\\newcommand{\\mixed}[3]{#1 \\frac {#2} {#3}}\\)\n",
    "<div id=\"practice-2-q\"></div>\n",
    "<div id=\"practice-2-a\"></div>\n",
    "<script>\n",
    "nt.register(\"practice-2-q\", \"practice-2-a\", \"./json/practice-2.json\",\n",
    "            function() {\n",
    "                nt.create_exercises(\"practice-2-q\");\n",
    "            });\n",
    "</script>"
   ]
  },
  {
   "cell_type": "markdown",
   "metadata": {},
   "source": [
    "## A Shortcut\n",
    "\n",
    "Converting an improper fraction into a mixed number using long division can take a long time.<br>\n",
    "There is a shortcut we can take though. <br>\n",
    "If we add two proper fractions, and if we have to convert it to a mixed number,<br>\n",
    "the integer will never be bigger than 1.<br>\n",
    "(If the numerators are smaller than their denominators, <br>\n",
    "their sum is smaller than two times the denominator).<br>\n",
    "This lets us skip over doing long division.\n",
    "\n",
    " * Add the integers together\n",
    " * Add the proper fractions together\n",
    " * If the sum of the fractions is improper\n",
    "   * Add 1 to the integer\n",
    "   * Subtract the denominator from the numerator.\n",
    "\n",
    "Here is another example:<br>\n",
    "Let's try adding\n",
    "\n",
    "\\begin{equation}\n",
    "    \\Mixed 4 3 6 + \\Mixed 1 5 6.\n",
    "\\end{equation}\n",
    "\n",
    "Just follow the steps. <br>\n",
    "Add the integers: $4 + 1 = 5$. <br>\n",
    "Next, add the proper fractions: $\\frac 3 6 + \\frac 5 6 = \\frac 8 6$. <br>\n",
    "So far, this gives\n",
    "\n",
    "\\begin{equation}\n",
    "    \\Mixed 4 3 6 + \\Mixed 1 5 6 = \\Mixed 5 8 6.\n",
    "\\end{equation}\n",
    "\n",
    "However, the fraction in $\\mixed 5 8 6$ is improper.<br>\n",
    "(The numerator is not smaller than the denominator.)<br>\n",
    "So we are not done yet.<br>\n",
    "Add 1 to the integer number and subtract 6 (the denominator) from the numerator.\n",
    "\n",
    "\\begin{equation}\n",
    "   \\Mixed 5 8 6 = \\Mixed 6 2 6.\n",
    "\\end{equation}\n",
    "\n",
    "At the end of this notebook, you will have the chance to practice adding fractions and mixed numbers."
   ]
  },
  {
   "cell_type": "markdown",
   "metadata": {},
   "source": [
    "## Visually\n",
    "\n",
    "Here is an animation to visualize adding fractions.<br>\n",
    "On top is a circle cut into five equal pieces.<br>\n",
    "Four of the pieces are coloured in.<br>\n",
    "This represents four fifths of a circle, or the fraction $\\frac 4 5$.<br>\n",
    "On the bottom is a colored circle representing $\\frac 3 5$.<br>\n",
    "See what happens when you press the **Add** button.<br>\n",
    "*If no image appears below, `Run` the cell below again.*"
   ]
  },
  {
   "cell_type": "code",
   "execution_count": 12,
   "metadata": {},
   "outputs": [
    {
     "data": {
      "text/html": [
       "\n",
       "<div>\n",
       "    <svg width=960 height=260></svg>\n",
       "</div>\n",
       "\n",
       "<label>\n",
       "    Numerator 1: <input id=\"numer1\" type=\"range\" value=\"6\"  min=\"0\" max=\"20\" step=\"1\" onchange=\"update()\"/><br>\n",
       "    Numerator 2: <input id=\"numer2\" type=\"range\" value=\"4\"  min=\"0\" max=\"20\" step=\"1\" onchange=\"update()\"/><br>\n",
       "    Denominator: <input id=\"denom\"  type=\"range\" value=\"12\" min=\"1\" max=\"20\" step=\"1\" onchange=\"update()\"/><br>\n",
       "    <input id=\"button\" type=\"button\"/>\n",
       "</label>\n",
       "\n",
       "<script src=\"./javascript/fractions.js\"></script>\n",
       "<script src=\"./javascript/same_denominator.js\"></script>\n",
       "\n",
       "<script>\n",
       "\n",
       "var svg = d3.select(\"svg\");\n",
       "\n",
       "var defaultNumer1, defaultDenom1, defaultNumer2, defaultDenom2;\n",
       "\n",
       "function update() {\n",
       "    defaultNumer1 = d3.select(\"#numer1\").property(\"value\");\n",
       "    defaultNumer2 = d3.select(\"#numer2\").property(\"value\");\n",
       "    defaultDenom1 = d3.select(\"#denom\").property(\"value\");\n",
       "    defaultDenom2 = d3.select(\"#denom\").property(\"value\");\n",
       "    reset();\n",
       "}\n",
       "\n",
       "update();\n",
       "reset();\n",
       "\n",
       "</script>"
      ],
      "text/plain": [
       "<IPython.core.display.HTML object>"
      ]
     },
     "metadata": {},
     "output_type": "display_data"
    }
   ],
   "source": [
    "%%html\n",
    "\n",
    "<div>\n",
    "    <svg width=960 height=260></svg>\n",
    "</div>\n",
    "\n",
    "<label>\n",
    "    Numerator 1: <input id=\"numer1\" type=\"range\" value=\"6\"  min=\"0\" max=\"20\" step=\"1\" onchange=\"update()\"/><br>\n",
    "    Numerator 2: <input id=\"numer2\" type=\"range\" value=\"4\"  min=\"0\" max=\"20\" step=\"1\" onchange=\"update()\"/><br>\n",
    "    Denominator: <input id=\"denom\"  type=\"range\" value=\"12\" min=\"1\" max=\"20\" step=\"1\" onchange=\"update()\"/><br>\n",
    "    <input id=\"button\" type=\"button\"/>\n",
    "</label>\n",
    "\n",
    "<script src=\"./javascript/fractions.js\"></script>\n",
    "<script src=\"./javascript/same_denominator.js\"></script>\n",
    "\n",
    "<script>\n",
    "\n",
    "var svg = d3.select(\"svg\");\n",
    "\n",
    "var defaultNumer1, defaultDenom1, defaultNumer2, defaultDenom2;\n",
    "\n",
    "function update() {\n",
    "    defaultNumer1 = d3.select(\"#numer1\").property(\"value\");\n",
    "    defaultNumer2 = d3.select(\"#numer2\").property(\"value\");\n",
    "    defaultDenom1 = d3.select(\"#denom\").property(\"value\");\n",
    "    defaultDenom2 = d3.select(\"#denom\").property(\"value\");\n",
    "    reset();\n",
    "}\n",
    "\n",
    "update();\n",
    "reset();\n",
    "\n",
    "</script>"
   ]
  },
  {
   "cell_type": "markdown",
   "metadata": {},
   "source": [
    "## Conclusion\n",
    "\n",
    "Now we know how to add fractions and mixed numbers with the same denominator.<br>\n",
    "In the real world, fractions usually do not have the same denominator.<br>\n",
    "Once you have practiced what is taught in this notebook,<br>\n",
    "you will be ready to add fractions with different denominators."
   ]
  },
  {
   "cell_type": "markdown",
   "metadata": {},
   "source": [
    "<img src=\"images/Callysto_Notebook-Banners_Bottom_06.06.18.jpg\">"
   ]
  }
 ],
 "metadata": {
  "kernelspec": {
   "display_name": "Python 3",
   "language": "python",
   "name": "python3"
  },
  "language_info": {
   "codemirror_mode": {
    "name": "ipython",
    "version": 3
   },
   "file_extension": ".py",
   "mimetype": "text/x-python",
   "name": "python",
   "nbconvert_exporter": "python",
   "pygments_lexer": "ipython3",
   "version": "3.6.4"
  }
 },
 "nbformat": 4,
 "nbformat_minor": 2
}
