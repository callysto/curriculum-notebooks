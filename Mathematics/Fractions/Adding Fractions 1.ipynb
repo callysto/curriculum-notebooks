{
 "cells": [
  {
   "cell_type": "markdown",
   "metadata": {},
   "source": [
    "<img src=\"images/Callysto_Notebook-Banner_Top_06.06.18.jpg\">"
   ]
  },
  {
   "cell_type": "code",
   "execution_count": 1,
   "metadata": {},
   "outputs": [
    {
     "data": {
      "text/html": [
       "\n",
       "<script>\n",
       "  function code_toggle() {\n",
       "    if (code_shown){\n",
       "      $('div.input').hide('500');\n",
       "      $('#toggleButton').val('Show Code')\n",
       "    } else {\n",
       "      $('div.input').show('500');\n",
       "      $('#toggleButton').val('Hide Code')\n",
       "    }\n",
       "    code_shown = !code_shown\n",
       "  }\n",
       "\n",
       "  $( document ).ready(function(){\n",
       "    code_shown=false;\n",
       "    $('div.input').hide()\n",
       "  });\n",
       "</script>\n",
       "<form action=\"javascript:code_toggle()\"><input type=\"submit\" id=\"toggleButton\" value=\"Show Code\"></form>"
      ],
      "text/plain": [
       "<IPython.core.display.HTML object>"
      ]
     },
     "metadata": {},
     "output_type": "display_data"
    }
   ],
   "source": [
    "%%html\n",
    "\n",
    "<script>\n",
    "  function code_toggle() {\n",
    "    if (code_shown){\n",
    "      $('div.input').hide('500');\n",
    "      $('#toggleButton').val('Show Code')\n",
    "    } else {\n",
    "      $('div.input').show('500');\n",
    "      $('#toggleButton').val('Hide Code')\n",
    "    }\n",
    "    code_shown = !code_shown\n",
    "  }\n",
    "\n",
    "  $( document ).ready(function(){\n",
    "    code_shown=false;\n",
    "    $('div.input').hide()\n",
    "  });\n",
    "</script>\n",
    "<form action=\"javascript:code_toggle()\"><input type=\"submit\" id=\"toggleButton\" value=\"Show Code\"></form>"
   ]
  },
  {
   "cell_type": "code",
   "execution_count": 2,
   "metadata": {},
   "outputs": [
    {
     "data": {
      "application/javascript": [
       "\n",
       "            require.config({\n",
       "                paths: {\n",
       "                    ggb: \"https://cdn.geogebra.org/apps/deployggb\"\n",
       "                }\n",
       "            });\n",
       "\n",
       "            require([\"ggb\"]);\n",
       "        "
      ],
      "text/plain": [
       "<IPython.core.display.Javascript object>"
      ]
     },
     "metadata": {},
     "output_type": "display_data"
    }
   ],
   "source": [
    "from nbvis.ggb import *\n",
    "\n",
    "ggb = GGB()"
   ]
  },
  {
   "cell_type": "markdown",
   "metadata": {},
   "source": [
    "# Adding Fractions Part 1 - Fractions with the Same Denominator\n",
    "\n",
    "## Introduction\n",
    "\n",
    "Fractions are a kind of number that we use to represent a part of a whole.\n",
    "A fraction has two parts: a numerator (the top) and a denominator (the bottom).\n",
    "For example, $\\frac 2 3$ is a fraction.\n",
    "The numerator is 2 and the denominator is 3.\n",
    "It can be read as \"two over three\" or \"two thirds\".\n",
    "When we read it as \"two thirds\", it is more clear that the fraction represents an amount.\n",
    "Two thirds of a cup of sugar.\n",
    "Two thirds of a mile.\n",
    "Two thirds of a minute.\n",
    "\n",
    "Like other kinds of numbers, we can add fractions.\n",
    "We can also subtract, multiply, and divide them, but this notebook is about adding.\n",
    "Sometimes, the two fractions we are adding have the same denominators.\n",
    "In this situation, adding fractions is easy.\n",
    "Sometimes, the two fractions have different denominators.\n",
    "These are a bit harder to add.\n",
    "In this notebook, we will learn the easy case.\n",
    "We will learn how to add two fractions when they have the same denominator.\n",
    "\n",
    "\n",
    "## Adding Fractions\n",
    "\n",
    "Adding fractions with the same denominator is easy. \n",
    "It is like adding anything else.\n",
    "You know that two plus three equals five.\n",
    "Two kilometers plus three kilometers equals five kilometers. \n",
    "Two teaspoons of sugar plus three teaspoons of sugar equals five teaspoons of sugar.\n",
    "As long as we are adding two things of the same kind,\n",
    "it does not matter what kind of things we are adding.\n",
    "Two things plus three more of those things equals five of those things.\n",
    "\n",
    "\\begin{equation}\n",
    "    \\begin{array}{lclcl}\n",
    "        2                    & + & 3                    & = & 5 \\\\\n",
    "        2 \\text{ km}         & + & 3 \\text{ km}         & = & 5 \\text{ km} \\\\\n",
    "        2 \\text{ tsp. sugar} & + & 3 \\text{ tsp. sugar} & = & 5 \\text{ tsp. sugar} \\\\\n",
    "    \\end{array}\n",
    "\\end{equation}\n",
    "\n",
    "However, adding things of different kinds is a problem.\n",
    "Two apples plus three oranges is not five apples.\n",
    "It is not five oranges either.\n",
    "\n",
    "The same idea works for fractions.\n",
    "\n",
    "\\begin{equation}\n",
    "    \\begin{array}{lclcl}\n",
    "        2                & + & 3                & = & 5 \\\\\n",
    "        2 \\text{ thirds} & + & 3 \\text{ thirds} & = & 5 \\text{ thirds} \\\\\n",
    "        2 \\text{ fifths} & + & 3 \\text{ fifths} & = & 5 \\text{ fifths} \\\\\n",
    "    \\end{array}\n",
    "\\end{equation}\n",
    "\n",
    "Be careful, though!\n",
    "Two thirds plus three fifths is not five thirds.\n",
    "It is not five fifths either.\n",
    "That is why we are only adding fractions with the same denominator for now.\n",
    "\n",
    "This idea gives us a way to add fractions.\n",
    "If you are asked to add\n",
    "\n",
    "\\begin{equation}\n",
    "    \\frac 2 3 + \\frac 3 3,\n",
    "\\end{equation}\n",
    "\n",
    "you can read it as \"2 thirds + 3 thirds\", which, of course, is 5 thirds:\n",
    "\n",
    "\\begin{equation}\n",
    "    \\frac 2 3 + \\frac 3 3 = \\frac 5 3.\n",
    "\\end{equation}\n",
    "\n",
    "So the \"rule\" for adding two fractions is\n",
    " * Add the two numerators\n",
    " * Keep the denominator\n",
    "\n",
    "\\begin{equation}\n",
    "    \\frac 2 3 + \\frac 3 3 = \\frac {2+3} 3 = \\frac 5 3.\n",
    "\\end{equation}\n"
   ]
  },
  {
   "cell_type": "markdown",
   "metadata": {},
   "source": [
    "## Mixed Numbers\n",
    "\n",
    "$\\newcommand{\\mixed}[3]{{\\large #1} \\frac{#2}{#3}}$\n",
    "$\\newcommand{\\Mixed}[3]{{\\Large #1} \\frac{#2}{#3}}$\n",
    "\n",
    "Adding mixed numbers is like adding fractions.\n",
    "A mixed number is made from a whole number and a proper fraction.\n",
    "This is how to add two mixed numbers.\n",
    "\n",
    " * Add the whole numbers together.\n",
    " * Add the proper fractions together.\n",
    "\n",
    "The sum of the two proper fractions might be improper, though.\n",
    "If that happens, then you are not done.\n",
    "You have to turn the improper fraction into a proper one.\n",
    "\n",
    " * If the sum of the fractions is improper\n",
    "   * Add 1 to the whole number\n",
    "   * Subtract the denominator from the numerator.\n",
    "\n",
    "Here is an example.\n",
    "Let's try adding\n",
    "\n",
    "\\begin{equation}\n",
    "    \\Mixed 5 4 5 + \\Mixed 3 3 5.\n",
    "\\end{equation}\n",
    "\n",
    "Just follow the steps.\n",
    "Add the whole numbers, $5 + 3 = 8$.\n",
    "Next, add the proper fractions, $\\frac 4 5 + \\frac 3 5 = \\frac 7 5$.\n",
    "So far, this gives\n",
    "\n",
    "\\begin{equation}\n",
    "    \\Mixed 5 4 5 + \\Mixed 3 3 5 = \\Mixed 8 7 5.\n",
    "\\end{equation}\n",
    "\n",
    "However, the fraction in $\\mixed 8 7 5$ is improper. (The numerator is not smaller than the denominator.)\n",
    "So we are not done yet.\n",
    "Add 1 to the whole number and subtract 5 (the denominator) from the numerator.\n",
    "\n",
    "\\begin{equation}\n",
    "   \\Mixed 8 7 5 = \\Mixed 9 2 5.\n",
    "\\end{equation}\n",
    "\n",
    "At the end of this notebook, you will have the chance to practice adding fractions and mixed numbers."
   ]
  },
  {
   "cell_type": "markdown",
   "metadata": {},
   "source": [
    "## Visually\n",
    "\n",
    "Here is an animation to visualize adding fractions.\n",
    "On top is a circle cut into five equal pieces.\n",
    "Four of the pieces are coloured in.\n",
    "This represents four fifths of a circle, or the fraction $\\frac 4 5$.\n",
    "On the bottom is a colored circle representing $\\frac 3 5$.\n",
    "See what happens when you press the **Add** button."
   ]
  },
  {
   "cell_type": "code",
   "execution_count": 3,
   "metadata": {},
   "outputs": [
    {
     "data": {
      "text/html": [
       "\n",
       "<divz>\n",
       "    <svg width=960 height=260></svg>\n",
       "</div>\n",
       "\n",
       "<label>\n",
       "    Numerator 1: <input id=\"numer1\" type=\"range\" value=\"4\" min=\"0\" max=\"20\" step=\"1\" onchange=\"update()\"/><br>\n",
       "    Numerator 2: <input id=\"numer2\" type=\"range\" value=\"3\" min=\"0\" max=\"20\" step=\"1\" onchange=\"update()\"/><br>\n",
       "    Denominator: <input id=\"denom\"  type=\"range\" value=\"5\" min=\"1\" max=\"20\" step=\"1\" onchange=\"update()\"/><br>\n",
       "    <input id=\"button\" type=\"button\"/>\n",
       "</label>\n",
       "\n",
       "<script src=\"http://d3js.org/d3.v3.min.js\" charset=\"utf-8\"></script>\n",
       "<script src=\"javascript/fractions.js\"></script>\n",
       "<script src=\"javascript/same_denominator.js\"></script>\n",
       "\n",
       "<script>\n",
       "\n",
       "var defaultNumer1, defaultDenom1, defaultNumer2, defaultDenom2;\n",
       "\n",
       "function update() {\n",
       "    defaultNumer1 = d3.select(\"#numer1\").property(\"value\");\n",
       "    defaultNumer2 = d3.select(\"#numer2\").property(\"value\");\n",
       "    defaultDenom1 = d3.select(\"#denom\").property(\"value\");\n",
       "    defaultDenom2 = d3.select(\"#denom\").property(\"value\");\n",
       "    reset();\n",
       "}\n",
       "\n",
       "update();\n",
       "reset();\n",
       "\n",
       "</script>"
      ],
      "text/plain": [
       "<IPython.core.display.HTML object>"
      ]
     },
     "metadata": {},
     "output_type": "display_data"
    }
   ],
   "source": [
    "%%html\n",
    "\n",
    "<divz>\n",
    "    <svg width=960 height=260></svg>\n",
    "</div>\n",
    "\n",
    "<label>\n",
    "    Numerator 1: <input id=\"numer1\" type=\"range\" value=\"4\" min=\"0\" max=\"20\" step=\"1\" onchange=\"update()\"/><br>\n",
    "    Numerator 2: <input id=\"numer2\" type=\"range\" value=\"3\" min=\"0\" max=\"20\" step=\"1\" onchange=\"update()\"/><br>\n",
    "    Denominator: <input id=\"denom\"  type=\"range\" value=\"5\" min=\"1\" max=\"20\" step=\"1\" onchange=\"update()\"/><br>\n",
    "    <input id=\"button\" type=\"button\"/>\n",
    "</label>\n",
    "\n",
    "<script src=\"http://d3js.org/d3.v3.min.js\" charset=\"utf-8\"></script>\n",
    "<script src=\"javascript/fractions.js\"></script>\n",
    "<script src=\"javascript/same_denominator.js\"></script>\n",
    "\n",
    "<script>\n",
    "\n",
    "var defaultNumer1, defaultDenom1, defaultNumer2, defaultDenom2;\n",
    "\n",
    "function update() {\n",
    "    defaultNumer1 = d3.select(\"#numer1\").property(\"value\");\n",
    "    defaultNumer2 = d3.select(\"#numer2\").property(\"value\");\n",
    "    defaultDenom1 = d3.select(\"#denom\").property(\"value\");\n",
    "    defaultDenom2 = d3.select(\"#denom\").property(\"value\");\n",
    "    reset();\n",
    "}\n",
    "\n",
    "update();\n",
    "reset();\n",
    "\n",
    "</script>"
   ]
  },
  {
   "cell_type": "markdown",
   "metadata": {},
   "source": [
    "## Practice\n",
    "\n",
    "Try this multiple choice game.\n",
    "Sometimes it will ask you to add proper or improper fractions.\n",
    "Sometimes it will ask you to add mixed numbers.\n",
    "This is your chance to practice both of these skills.\n",
    "See how many you can get right in a row!"
   ]
  },
  {
   "cell_type": "code",
   "execution_count": 5,
   "metadata": {},
   "outputs": [
    {
     "data": {
      "text/html": [
       "<div id=\"ggb_1_0e\"></div>"
      ],
      "text/plain": [
       "<IPython.core.display.HTML object>"
      ]
     },
     "metadata": {},
     "output_type": "display_data"
    },
    {
     "data": {
      "application/javascript": [
       "var ggb_1_0e = new GGBApplet({\"filename\": \"geogebra/fractions-game1.ggb\", \"height\": 400, \"showAlgebraInput\": false, \"enableLabelDrags\": false, \"enableShiftDragZoom\": false, \"showResetIcon\": true, \"useBrowserForJS\": false, \"showToolBar\": false, \"showMenuBar\": false}, \"ggb_1_0e\", false); ggb_1_0e.inject(); "
      ],
      "text/plain": [
       "<IPython.core.display.Javascript object>"
      ]
     },
     "metadata": {},
     "output_type": "display_data"
    }
   ],
   "source": [
    "ggb.file(\"geogebra/fractions-game1.ggb\") \\\n",
    "    .options(height = 400, \\\n",
    "            showAlgebraInput = False, \\\n",
    "            enableLabelDrags = False, \\\n",
    "            enableShiftDragZoom = False, \\\n",
    "            showResetIcon = True, \\\n",
    "            useBrowserForJS = False, \\\n",
    "            showToolBar = False, \\\n",
    "            showMenuBar = False) \\\n",
    "    .draw()"
   ]
  },
  {
   "cell_type": "markdown",
   "metadata": {},
   "source": [
    "## Conclusion\n",
    "\n",
    "Now we know how to add fractions and mixed numbers with the same denominator.\n"
   ]
  },
  {
   "cell_type": "markdown",
   "metadata": {},
   "source": [
    "<img src=\"images/Callysto_Notebook-Banners_Bottom_06.06.18.jpg\">"
   ]
  }
 ],
 "metadata": {
  "kernelspec": {
   "display_name": "Python 3",
   "language": "python",
   "name": "python3"
  },
  "language_info": {
   "codemirror_mode": {
    "name": "ipython",
    "version": 3
   },
   "file_extension": ".py",
   "mimetype": "text/x-python",
   "name": "python",
   "nbconvert_exporter": "python",
   "pygments_lexer": "ipython3",
   "version": "3.6.4"
  }
 },
 "nbformat": 4,
 "nbformat_minor": 2
}
