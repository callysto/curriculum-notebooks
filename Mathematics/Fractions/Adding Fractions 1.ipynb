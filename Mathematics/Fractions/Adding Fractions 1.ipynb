{
 "cells": [
  {
   "cell_type": "markdown",
   "metadata": {},
   "source": [
    "<img src=\"images/Callysto_Notebook-Banner_Top_06.06.18.jpg\">"
   ]
  },
  {
   "cell_type": "markdown",
   "metadata": {},
   "source": [
    "# Adding Fractions Visually"
   ]
  },
  {
   "cell_type": "markdown",
   "metadata": {},
   "source": [
    "## Part 1 - Fractions with the same denominator\n",
    "\n",
    "Here is an animation to visualize adding fractions. Run the code cell then move the sliders to change values. Click the `Add` button to animate the adding of your two fractions.\n",
    "\n",
    "*If no image appears, `Run` the code cell again.*"
   ]
  },
  {
   "cell_type": "code",
   "execution_count": null,
   "metadata": {},
   "outputs": [],
   "source": [
    "%%html\n",
    "<script type=\"text/javascript\" async src=\"https://cdnjs.cloudflare.com/ajax/libs/mathjax/2.7.4/MathJax.js?config=TeX-MML-AM_CHTML\"></script>\n",
    "<script src=\"https://d3js.org/d3.v3.min.js\" charset=\"utf-8\"></script>\n",
    "<div><svg width=960 height=260></svg></div>\n",
    "<label>\n",
    "    Numerator 1: <input id=\"numer1\" type=\"range\" value=\"6\"  min=\"0\" max=\"20\" step=\"1\" onchange=\"update()\"/><br>\n",
    "    Numerator 2: <input id=\"numer2\" type=\"range\" value=\"4\"  min=\"0\" max=\"20\" step=\"1\" onchange=\"update()\"/><br>\n",
    "    Denominator: <input id=\"denom\"  type=\"range\" value=\"12\" min=\"1\" max=\"20\" step=\"1\" onchange=\"update()\"/><br>\n",
    "    <input id=\"button\" type=\"button\"/>\n",
    "</label>\n",
    "<script src=\"./javascript/fractions.js\"></script>\n",
    "<script src=\"./javascript/same_denominator.js\"></script>\n",
    "<script>\n",
    "var svg = d3.select(\"svg\");\n",
    "var defaultNumer1, defaultDenom1, defaultNumer2, defaultDenom2;\n",
    "function update() {\n",
    "    defaultNumer1 = d3.select(\"#numer1\").property(\"value\");\n",
    "    defaultNumer2 = d3.select(\"#numer2\").property(\"value\");\n",
    "    defaultDenom1 = d3.select(\"#denom\").property(\"value\");\n",
    "    defaultDenom2 = d3.select(\"#denom\").property(\"value\");\n",
    "    reset();}\n",
    "update();\n",
    "reset();\n",
    "</script>"
   ]
  },
  {
   "cell_type": "markdown",
   "metadata": {},
   "source": [
    "<img src=\"images/Callysto_Notebook-Banners_Bottom_06.06.18.jpg\">"
   ]
  }
 ],
 "metadata": {
  "kernelspec": {
   "display_name": "Python 3",
   "language": "python",
   "name": "python3"
  },
  "language_info": {
   "codemirror_mode": {
    "name": "ipython",
    "version": 3
   },
   "file_extension": ".py",
   "mimetype": "text/x-python",
   "name": "python",
   "nbconvert_exporter": "python",
   "pygments_lexer": "ipython3",
   "version": "3.7.5"
  }
 },
 "nbformat": 4,
 "nbformat_minor": 2
}
