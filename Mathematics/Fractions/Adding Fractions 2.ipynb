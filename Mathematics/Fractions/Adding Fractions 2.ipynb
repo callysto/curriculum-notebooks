{
 "cells": [
  {
   "cell_type": "markdown",
   "metadata": {},
   "source": [
    "<img src=\"images/Callysto_Notebook-Banner_Top_06.06.18.jpg\">"
   ]
  },
  {
   "cell_type": "code",
   "execution_count": 1,
   "metadata": {},
   "outputs": [
    {
     "data": {
      "text/html": [
       "\n",
       "<script>\n",
       "  function code_toggle() {\n",
       "    if (code_shown){\n",
       "      $('div.input').hide('500');\n",
       "      $('#toggleButton').val('Show Code')\n",
       "    } else {\n",
       "      $('div.input').show('500');\n",
       "      $('#toggleButton').val('Hide Code')\n",
       "    }\n",
       "    code_shown = !code_shown\n",
       "  }\n",
       "\n",
       "  $( document ).ready(function(){\n",
       "    code_shown=false;\n",
       "    $('div.input').hide()\n",
       "  });\n",
       "</script>\n",
       "<form action=\"javascript:code_toggle()\"><input type=\"submit\" id=\"toggleButton\" value=\"Show Code\"></form>"
      ],
      "text/plain": [
       "<IPython.core.display.HTML object>"
      ]
     },
     "metadata": {},
     "output_type": "display_data"
    }
   ],
   "source": [
    "%%html\n",
    "\n",
    "<script>\n",
    "  function code_toggle() {\n",
    "    if (code_shown){\n",
    "      $('div.input').hide('500');\n",
    "      $('#toggleButton').val('Show Code')\n",
    "    } else {\n",
    "      $('div.input').show('500');\n",
    "      $('#toggleButton').val('Hide Code')\n",
    "    }\n",
    "    code_shown = !code_shown\n",
    "  }\n",
    "\n",
    "  $( document ).ready(function(){\n",
    "    code_shown=false;\n",
    "    $('div.input').hide()\n",
    "  });\n",
    "</script>\n",
    "<form action=\"javascript:code_toggle()\"><input type=\"submit\" id=\"toggleButton\" value=\"Show Code\"></form>"
   ]
  },
  {
   "cell_type": "code",
   "execution_count": 2,
   "metadata": {},
   "outputs": [
    {
     "data": {
      "application/javascript": [
       "\n",
       "            require.config({\n",
       "                paths: {\n",
       "                    ggb: \"https://cdn.geogebra.org/apps/deployggb\"\n",
       "                }\n",
       "            });\n",
       "\n",
       "            require([\"ggb\"]);\n",
       "        "
      ],
      "text/plain": [
       "<IPython.core.display.Javascript object>"
      ]
     },
     "metadata": {},
     "output_type": "display_data"
    }
   ],
   "source": [
    "from nbvis.ggb import *\n",
    "\n",
    "ggb = GGB()"
   ]
  },
  {
   "cell_type": "markdown",
   "metadata": {},
   "source": [
    "# Adding Fractions Part 2 - Common Denominators\n",
    "\n",
    "## Introduction\n",
    "\n",
    "Adding fractions is easy when they have the same denominator, like $\\frac 2 5 + \\frac 3 5$.\n",
    "All we have to do is add the numerators and keep the same denominator.\n",
    "\n",
    "$$ \\frac 2 5 + \\frac 3 5 = \\frac {2 + 3} 5 = \\frac 5 5. $$\n",
    "\n",
    "This was easy because we were adding the same kind of \"things\".\n",
    "Adding 2 fifths + 3 fifths is no different from adding 2 kilometers + 3 kilometers,\n",
    "or 2 teaspoons + 3 teaspoons.\n",
    "\n",
    "What do we do when the denominators are different?\n",
    "What is $\\frac 1 2 + \\frac 1 4$?\n",
    "Now we are adding different kinds of \"things\": halves and quarters.\n",
    "We cannot add these unless we do some sort of conversion.\n",
    "\n",
    "Adding halves and quarters is a lot like adding meters and kilometers.\n",
    "What if you were asked to add one meter and one kilometer?\n",
    "One plus one is two, but one meter plus one kilometer is neither two kilometers nor two meters.\n",
    "If we want to add 1 meter + 1 kilometer, we have to do a conversion.\n",
    "We turn 1 kilometer into 1000 meters.\n",
    "Then we can add\n",
    "\n",
    "\\begin{align*}\n",
    "    1 \\text{ m} + 1 \\text{ km} &= 1 \\text{ m} + 1000 \\text{ m} \\\\ &= 1001 \\text{ m}.\n",
    "\\end{align*}\n",
    "\n",
    "Just like we have to convert kilometers to meters before adding,\n",
    "we also have to convert halves into quarters before adding.\n",
    "That way we are adding two of the same type of \"thing\".\n",
    "In the case of $\\frac 1 2 + \\frac 1 4$, we can convert $\\frac 1 2$ into $\\frac 2 4$.\n",
    "\n",
    "\\begin{align*}\n",
    "    \\frac 1 2 + \\frac 1 4 = \\frac 2 4 + \\frac 1 4 = \\frac 3 4.\n",
    "\\end{align*}\n",
    "\n",
    "This is called putting the fractions over a **common denominator**.\n",
    "\n",
    "In this notebook, we will learn how to put fractions over a common denominator.\n",
    "For now, we will stick to one situation:\n",
    "when one fraction's denominator is a multiple of the other fraction's denominator."
   ]
  },
  {
   "cell_type": "markdown",
   "metadata": {},
   "source": [
    "## Equivalent Fractions\n",
    "\n",
    "Here is a list of fractions.\n",
    "They all look different from one another,\n",
    "but they are all equal to each other.\n",
    "    $$\\frac 1 3 = \\frac 2 6 = \\frac 3 9 = \\frac 4 {12} = \\frac 5 {15} = \\frac 6 {18}.$$\n",
    "Actually, we can keep making this list longer if we want to.\n",
    "There are infinitely many fractions equal to $\\frac 1 3$.\n",
    "\n",
    "Why are they all equal to each other?\n",
    "Here is one way to think about it.\n",
    "If you want to share a cake equally with three people, you can\n",
    "\n",
    " * Cut the cake into 3 pieces and give everyone 1 piece (everyone gets $\\frac 1 3$ of the cake).\n",
    " * Cut the cake into 6 pieces and give everyone 2 pieces (everyone gets $\\frac 2 6$ of the cake).\n",
    " * Cut the cake into 9 pieces and give everyone 3 pieces (everyone gets $\\frac 3 9$ of the cake).\n",
    " * Cut the cake into 12 pieces and give everyone 4 pieces (everyone gets $\\frac 4 {12}$ of the cake).\n",
    " * Cut the cake into 15 pieces and give everyone 5 pieces (everyone gets $\\frac 5 {15}$ of the cake).\n",
    " * Cut the cake into 18 pieces and give everyone 6 pieces (everyone gets $\\frac 6 {18}$ of the cake).\n",
    "\n",
    "And so on.\n",
    "In all of these situations, everyone gets the same fraction of the cake.\n",
    "\n",
    "Because these fractions are all equal,\n",
    "we can convert one fraction in the list into any other fraction in the list."
   ]
  },
  {
   "cell_type": "code",
   "execution_count": 3,
   "metadata": {},
   "outputs": [
    {
     "data": {
      "text/html": [
       "\n",
       "<div id=\"div_equivalent_fractions\">\n",
       "    <svg id=\"svg_equivalent_fractions\" width=960 height=160></svg>\n",
       "</div>\n",
       "\n",
       "<script src=\"http://d3js.org/d3.v3.min.js\" charset=\"utf-8\"></script>\n",
       "<script src=\"javascript/fractions.js\"></script>\n",
       "\n",
       "<script>\n",
       "\n",
       "for (var i = 1; i <= 6; i++) {\n",
       "    var f = fraction(1 * i, 3 * i, i * 110 - 30, 80);\n",
       "    var svg = d3.select(\"#svg_equivalent_fractions\");\n",
       "    svg.append(\"path\")\n",
       "        .attr(\"d\", f.filledPath())\n",
       "        .attr(\"stroke\", \"#000000\")\n",
       "        .attr(\"fill\", f.fillColor);\n",
       "    svg.append(\"path\")\n",
       "        .attr(\"d\", f.emptyPath())\n",
       "        .attr(\"stroke\", \"#000000\")\n",
       "        .attr(\"fill\", f.emptyColor);\n",
       "}\n",
       "\n",
       "</script>"
      ],
      "text/plain": [
       "<IPython.core.display.HTML object>"
      ]
     },
     "metadata": {},
     "output_type": "display_data"
    }
   ],
   "source": [
    "%%html\n",
    "\n",
    "<div id=\"div_equivalent_fractions\">\n",
    "    <svg id=\"svg_equivalent_fractions\" width=960 height=160></svg>\n",
    "</div>\n",
    "\n",
    "<script src=\"http://d3js.org/d3.v3.min.js\" charset=\"utf-8\"></script>\n",
    "<script src=\"javascript/fractions.js\"></script>\n",
    "\n",
    "<script>\n",
    "\n",
    "for (var i = 1; i <= 6; i++) {\n",
    "    var f = fraction(1 * i, 3 * i, i * 110 - 30, 80);\n",
    "    var svg = d3.select(\"#svg_equivalent_fractions\");\n",
    "    svg.append(\"path\")\n",
    "        .attr(\"d\", f.filledPath())\n",
    "        .attr(\"stroke\", \"#000000\")\n",
    "        .attr(\"fill\", f.fillColor);\n",
    "    svg.append(\"path\")\n",
    "        .attr(\"d\", f.emptyPath())\n",
    "        .attr(\"stroke\", \"#000000\")\n",
    "        .attr(\"fill\", f.emptyColor);\n",
    "}\n",
    "\n",
    "</script>"
   ]
  },
  {
   "cell_type": "markdown",
   "metadata": {},
   "source": [
    "## Converting Fractions\n",
    "\n",
    "If we are given a fraction, we can always find another fraction equal to it by using this rule:\n",
    "\n",
    " * If we multiply the top and bottom of a fraction by the same number (except 0),\n",
    "   the new fraction is equal to the original fraction.\n",
    "\n",
    "So, for example, if we start with $\\frac 1 3$ and multiply the top and bottom of by 2, we get $\\frac 2 6$.\n",
    "According to our rule, $\\frac 2 6$ must be equal to $\\frac 1 3$.\n",
    "\n",
    "\\begin{equation*}\n",
    "    \\frac 1 3 = \\frac {1 \\times 2} {3 \\times 2} = \\frac 2 6\n",
    "\\end{equation*}\n",
    "\n",
    "Here is another example.\n",
    "If we start with $\\frac 3 7$ and multiply the top and bottom by 3, we get\n",
    "\n",
    "\\begin{equation*}\n",
    "    \\frac 3 7 = \\frac {3 \\times 3} {7 \\times 3} = \\frac 9 {21}.\n",
    "\\end{equation*}\n",
    "\n",
    "So $\\frac 3 7$ is equal to $\\frac 9 {21}$."
   ]
  },
  {
   "cell_type": "markdown",
   "metadata": {},
   "source": [
    "## How to Tell if Two Fractions Are Equal\n",
    "\n",
    "In the last section, we learned how to convert fractions.\n",
    "This lets us start with one fraction, and produce a different fraction equal to it.\n",
    "While we are at it, let's do something similar.\n",
    "If we have two fractions, how can we tell if they are equal?\n",
    "This is easy to do using **cross-multiplication**.\n",
    "\n",
    "To tell if two fractions are equal:\n",
    "\n",
    " * Multiply the first fraction's numerator by the second fraction's denominator.\n",
    " * Multiply the first fraction's denominator by the second fraction's numerator.\n",
    "\n",
    "If these two multiplications give you the same product,\n",
    "then the two fractions are equal.\n",
    "\n",
    "Let's use cross-multiplication to see if $\\frac 3 {15}$ and $\\frac 1 5$ are equal.\n",
    "\n",
    "![](images/drawing-2-1.svg)\n",
    "\n",
    "Both multiplications gave us the same number, 15, so the fractions are equal.\n",
    "(If we multiply the top and bottom of $\\frac 1 5$ by 3, we get $\\frac 3 {15}$.)\n",
    "\n",
    "Now let's see if $\\frac 7 {12}$ and $\\frac 5 8$ are equal.\n",
    "\n",
    "![](images/drawing-2-2.svg)\n",
    "\n",
    "These two multiplications gave us different numbers, 56 and 60, so the fractions are *not* equal.\n",
    "(If we multiply the top and bottom of $\\frac 5 8$ by the same number, we will never get $\\frac 7 {12}$.)"
   ]
  },
  {
   "cell_type": "markdown",
   "metadata": {},
   "source": [
    "## Practice\n",
    "\n",
    "Have you understood how to tell when two fractions are equal?\n",
    "Try this test to see how well you understood."
   ]
  },
  {
   "cell_type": "code",
   "execution_count": 7,
   "metadata": {},
   "outputs": [
    {
     "data": {
      "text/html": [
       "<div id=\"ggb_2_0e\"></div>"
      ],
      "text/plain": [
       "<IPython.core.display.HTML object>"
      ]
     },
     "metadata": {},
     "output_type": "display_data"
    },
    {
     "data": {
      "application/javascript": [
       "var ggb_2_0e = new GGBApplet({\"filename\": \"geogebra/fractions-game2a.ggb\", \"width\": 400, \"height\": 400, \"showAlgebraInput\": false, \"enableLabelDrags\": false, \"enableShiftDragZoom\": false, \"showResetIcon\": true, \"useBrowserForJS\": false, \"showToolBar\": false, \"showMenuBar\": false}, \"ggb_2_0e\", false); ggb_2_0e.inject(); "
      ],
      "text/plain": [
       "<IPython.core.display.Javascript object>"
      ]
     },
     "metadata": {},
     "output_type": "display_data"
    }
   ],
   "source": [
    "ggb.file(\"geogebra/fractions-game2a.ggb\") \\\n",
    "    .options(width = 400, \\\n",
    "            height = 400, \\\n",
    "            showAlgebraInput = False, \\\n",
    "            enableLabelDrags = False, \\\n",
    "            enableShiftDragZoom = False, \\\n",
    "            showResetIcon = True, \\\n",
    "            useBrowserForJS = False, \\\n",
    "            showToolBar = False, \\\n",
    "            showMenuBar = False) \\\n",
    "    .draw()"
   ]
  },
  {
   "cell_type": "markdown",
   "metadata": {},
   "source": [
    "## When one Denominator is a Multiple of the Other\n",
    "\n",
    "Now we know how to convert fractions.\n",
    "The next problem is to know what to convert to.\n",
    "Knowing your multiplication table will help a lot with this.\n",
    "\n",
    "Suppose we want to add $\\frac 2 3 + \\frac 5 {12}$.\n",
    "Start by looking at the fraction with the smaller denominator.\n",
    "That's $\\frac 2 3$.\n",
    "We need to convert it to a fraction over 12.\n",
    "To do that, we need to multiply the top and bottom of $\\frac 2 3$ by something.\n",
    "\n",
    "![](images/drawing-2-3.svg)\n",
    "\n",
    "If you know your multiplication table well,\n",
    "then you know we need to multiply the bottom by 4 to get 12.\n",
    "We need to multiply the top and bottom by the same number.\n",
    "So we multiply the top by 4, too.\n",
    "\n",
    "![](images/drawing-2-4.svg)\n",
    "\n",
    "If you don't know what number to multiply 3 by,\n",
    "just divide 12 by 3 to find out.\n",
    "You might have to do this if the numbers are very big.\n",
    "\n",
    "Now that we have converted $\\frac 2 3$, we can add $\\frac 2 3 + \\frac 5 {12}$.\n",
    "\n",
    "\\begin{align*}\n",
    "    \\frac 2 3 + \\frac 5 {12}\n",
    "        &= \\frac {2 \\times 4} {3 \\times 4} + \\frac 5 {12} \\\\\n",
    "        &= \\frac 8 {12} + \\frac 5 {12} \\\\\n",
    "        &= \\frac {13} {12}.\n",
    "\\end{align*}\n",
    "\n",
    "To recap, these are the steps we took to add two fractions:\n",
    "\n",
    " * Find which fraction has the smaller denominator and which has the larger denominator.\n",
    " * Find out what you need to multiply the smaller denominator by to get the larger denominator.\n",
    " * Multiply the top and bottom of the fraction with the smaller denominator by that number.\n",
    " * Add the fractions.\n",
    "\n",
    "Here is a harder example.\n",
    "What if we want to add $\\frac 1 6 + \\frac 5 {42}$?\n",
    "The fraction $\\frac 1 6$ has the smaller denominator.\n",
    "The fraction $\\frac 5 {42}$ has the larger denominator.\n",
    "So we need to convert $\\frac 1 6$ into something over 42.\n",
    "We need to multiply 6 by 7 to get 42.\n",
    "So we multiply the top and bottom of $\\frac 1 6$ to get something over 42.\n",
    "Then add.\n",
    "\n",
    "\\begin{align*}\n",
    "    \\frac 1 6 + \\frac 5 {42}\n",
    "        &= \\frac {1 \\times 7} {6 \\times 7} + \\frac 5 {42} \\\\\n",
    "        &= \\frac 7 {42} + \\frac 5 {42} \\\\\n",
    "        &= \\frac {12} {42}\n",
    "\\end{align*}\n"
   ]
  },
  {
   "cell_type": "markdown",
   "metadata": {},
   "source": [
    "## Mixed Numbers\n",
    "\n",
    "$\\newcommand{\\mixed}[3]{{\\large #1} \\frac{#2}{#3}}$\n",
    "$\\newcommand{\\Mixed}[3]{{\\Large #1} \\frac{#2}{#3}}$\n",
    "\n",
    "We can use the same idea to add mixed numbers whose denominators are different,\n",
    "but where one denominator is a multiple of the other.\n",
    "We just have to convert one of the fractions so that they both have the same denominator.\n",
    "\n",
    "For example, let's try to add $\\mixed 1 1 5 + \\mixed 2 3 {10}$.\n",
    "We can convert $\\frac 1 5$ into a fraction over 10 by multiplying the top and bottom by two.\n",
    "In other words, we can convert $\\frac 1 5$ to $\\frac 2 {10}$.\n",
    "After converting, we can add the mixed numbers.\n",
    "\n",
    "\\begin{equation*}\n",
    "    \\Mixed 1 1 5 + \\Mixed 2 3 {10} = \\Mixed 1 2 {10} + \\Mixed 2 3 {10} = \\Mixed 3 5 {10}\n",
    "\\end{equation*}\n",
    "\n",
    "Notice that we converted the fraction, but we did not modify the whole number at all!"
   ]
  },
  {
   "cell_type": "markdown",
   "metadata": {},
   "source": [
    "## Visually\n",
    "\n",
    "Here is a animation to visualize adding fractions.\n",
    "Press the **Convert** button to convert one fraction so that they both have the same denominator.\n",
    "Then press the **Add** button to see the fractions added together.\n",
    "\n",
    "See how when you press **Convert**, every piece of the top circle is cut into smaller pieces.\n",
    "This is what it looks like when you multiply the top and bottom of a fraction by the same number.\n",
    "If we multiply the denominator by 4, it is like cutting every piece of the circle into 4 smaller pieces.\n",
    "If we multiply the numerator by 4, we are multiplying the number of pieces by 4.\n",
    "If we do both of these things, they balance out.\n",
    "We have 4 times as many pieces of the circle, but each piece is one quarter of its original size,\n",
    "so we have the same proportion of the circle coloured in."
   ]
  },
  {
   "cell_type": "code",
   "execution_count": 5,
   "metadata": {},
   "outputs": [
    {
     "data": {
      "text/html": [
       "\n",
       "<div id=\"div_interactive_add\">\n",
       "    <svg id=\"svg_interactive_add\" width=960 height=260></svg>\n",
       "</div>\n",
       "\n",
       "<label>\n",
       "    Numerator 1: <input id=\"numer1\" type=\"range\" value=\"2\" min=\"0\" max=\"100\" step=\"1\" onchange=\"update()\"/><br>\n",
       "    Numerator 2: <input id=\"numer2\" type=\"range\" value=\"5\" min=\"0\" max=\"100\" step=\"1\" onchange=\"update()\"/><br>\n",
       "    Denominator: <input id=\"denom\"  type=\"range\" value=\"3\" min=\"1\" max=\"20\"  step=\"1\" onchange=\"update()\"/><br>\n",
       "    Multiple:    <input id=\"factor\" type=\"range\" value=\"4\" min=\"1\" max=\"5\"   step=\"1\" onchange=\"update()\"/><br>\n",
       "    <input id=\"button\" type=\"button\"/>\n",
       "</label>\n",
       "\n",
       "<script src=\"http://d3js.org/d3.v3.min.js\" charset=\"utf-8\"></script>\n",
       "<script src=\"javascript/fractions.js\"></script>\n",
       "<script src=\"javascript/common_denominator.js\"></script>\n",
       "\n",
       "<script>\n",
       "\n",
       "var defaultNumer1, defaultDenom1, defaultNumer2, defaultDenom2;\n",
       "\n",
       "function update() {\n",
       "    defaultNumer1 = Number(d3.select(\"#numer1\").property(\"value\"));\n",
       "    defaultNumer2 = Number(d3.select(\"#numer2\").property(\"value\"));\n",
       "    defaultDenom1 = Number(d3.select(\"#denom\").property(\"value\"));\n",
       "    defaultDenom2 = Number(d3.select(\"#factor\").property(\"value\")) * defaultDenom1;\n",
       "    reset();\n",
       "}\n",
       "\n",
       "update();\n",
       "reset();\n",
       "\n",
       "</script>"
      ],
      "text/plain": [
       "<IPython.core.display.HTML object>"
      ]
     },
     "metadata": {},
     "output_type": "display_data"
    }
   ],
   "source": [
    "%%html\n",
    "\n",
    "<div id=\"div_interactive_add\">\n",
    "    <svg id=\"svg_interactive_add\" width=960 height=260></svg>\n",
    "</div>\n",
    "\n",
    "<label>\n",
    "    Numerator 1: <input id=\"numer1\" type=\"range\" value=\"2\" min=\"0\" max=\"100\" step=\"1\" onchange=\"update()\"/><br>\n",
    "    Numerator 2: <input id=\"numer2\" type=\"range\" value=\"5\" min=\"0\" max=\"100\" step=\"1\" onchange=\"update()\"/><br>\n",
    "    Denominator: <input id=\"denom\"  type=\"range\" value=\"3\" min=\"1\" max=\"20\"  step=\"1\" onchange=\"update()\"/><br>\n",
    "    Multiple:    <input id=\"factor\" type=\"range\" value=\"4\" min=\"1\" max=\"5\"   step=\"1\" onchange=\"update()\"/><br>\n",
    "    <input id=\"button\" type=\"button\"/>\n",
    "</label>\n",
    "\n",
    "<script src=\"http://d3js.org/d3.v3.min.js\" charset=\"utf-8\"></script>\n",
    "<script src=\"javascript/fractions.js\"></script>\n",
    "<script src=\"javascript/common_denominator.js\"></script>\n",
    "\n",
    "<script>\n",
    "\n",
    "var defaultNumer1, defaultDenom1, defaultNumer2, defaultDenom2;\n",
    "\n",
    "function update() {\n",
    "    defaultNumer1 = Number(d3.select(\"#numer1\").property(\"value\"));\n",
    "    defaultNumer2 = Number(d3.select(\"#numer2\").property(\"value\"));\n",
    "    defaultDenom1 = Number(d3.select(\"#denom\").property(\"value\"));\n",
    "    defaultDenom2 = Number(d3.select(\"#factor\").property(\"value\")) * defaultDenom1;\n",
    "    reset();\n",
    "}\n",
    "\n",
    "update();\n",
    "reset();\n",
    "\n",
    "</script>"
   ]
  },
  {
   "cell_type": "markdown",
   "metadata": {},
   "source": [
    "## Practice\n",
    "\n",
    "Now try this multiple choice quiz to practice what you learned in this notebook."
   ]
  },
  {
   "cell_type": "code",
   "execution_count": 8,
   "metadata": {},
   "outputs": [
    {
     "data": {
      "text/html": [
       "<div id=\"ggb_3_0e\"></div>"
      ],
      "text/plain": [
       "<IPython.core.display.HTML object>"
      ]
     },
     "metadata": {},
     "output_type": "display_data"
    },
    {
     "data": {
      "application/javascript": [
       "var ggb_3_0e = new GGBApplet({\"filename\": \"geogebra/fractions-game2.ggb\", \"width\": 400, \"height\": 400, \"showAlgebraInput\": false, \"enableLabelDrags\": false, \"enableShiftDragZoom\": false, \"showResetIcon\": true, \"useBrowserForJS\": false, \"showToolBar\": false, \"showMenuBar\": false}, \"ggb_3_0e\", false); ggb_3_0e.inject(); "
      ],
      "text/plain": [
       "<IPython.core.display.Javascript object>"
      ]
     },
     "metadata": {},
     "output_type": "display_data"
    }
   ],
   "source": [
    "ggb.file(\"geogebra/fractions-game2.ggb\") \\\n",
    "    .options(width = 400, \\\n",
    "            height = 400, \\\n",
    "            showAlgebraInput = False, \\\n",
    "            enableLabelDrags = False, \\\n",
    "            enableShiftDragZoom = False, \\\n",
    "            showResetIcon = True, \\\n",
    "            useBrowserForJS = False, \\\n",
    "            showToolBar = False, \\\n",
    "            showMenuBar = False) \\\n",
    "    .draw()"
   ]
  },
  {
   "cell_type": "markdown",
   "metadata": {},
   "source": [
    "## Conclusion\n",
    "\n",
    "We saw in this notebook how to convert fractions, like converting \"one third\" into \"two sixths\", $\\frac 1 3$ into $\\frac 2 6$. If we need to add something like $\\frac 1 3 + \\frac 1 6$, we learned that we can do it by converting the \"one third\" into \"two sixths\" and then adding. Doing this conversion is called putting the fractions over a common denominator.\n",
    "\n",
    "However, this is only possible because 6 is a multiple of 3!\n",
    "If we had to add $\\frac 1 3 + \\frac 1 7$, what we learned in this notebook will not work.\n",
    "So how would we add these?\n",
    "We will explore that in another notebook.\n",
    "(Hint: we will have to convert *both* fractions into something else!)"
   ]
  },
  {
   "cell_type": "markdown",
   "metadata": {},
   "source": [
    "<img src=\"images/Callysto_Notebook-Banners_Bottom_06.06.18.jpg\">"
   ]
  }
 ],
 "metadata": {
  "kernelspec": {
   "display_name": "Python 3",
   "language": "python",
   "name": "python3"
  },
  "language_info": {
   "codemirror_mode": {
    "name": "ipython",
    "version": 3
   },
   "file_extension": ".py",
   "mimetype": "text/x-python",
   "name": "python",
   "nbconvert_exporter": "python",
   "pygments_lexer": "ipython3",
   "version": "3.6.4"
  }
 },
 "nbformat": 4,
 "nbformat_minor": 2
}
