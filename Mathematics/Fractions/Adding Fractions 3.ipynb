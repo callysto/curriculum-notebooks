{
 "cells": [
  {
   "cell_type": "markdown",
   "metadata": {},
   "source": [
    "<img src=\"images/Callysto_Notebook-Banner_Top_06.06.18.jpg\">"
   ]
  },
  {
   "cell_type": "code",
   "execution_count": 1,
   "metadata": {},
   "outputs": [
    {
     "data": {
      "text/html": [
       "\n",
       "<script>\n",
       "  function code_toggle() {\n",
       "    if (code_shown){\n",
       "      $('div.input').hide('500');\n",
       "      $('#toggleButton').val('Show Code')\n",
       "    } else {\n",
       "      $('div.input').show('500');\n",
       "      $('#toggleButton').val('Hide Code')\n",
       "    }\n",
       "    code_shown = !code_shown\n",
       "  }\n",
       "\n",
       "  $( document ).ready(function(){\n",
       "    code_shown=false;\n",
       "    $('div.input').hide()\n",
       "  });\n",
       "</script>\n",
       "<form action=\"javascript:code_toggle()\"><input type=\"submit\" id=\"toggleButton\" value=\"Show Code\"></form>"
      ],
      "text/plain": [
       "<IPython.core.display.HTML object>"
      ]
     },
     "metadata": {},
     "output_type": "display_data"
    }
   ],
   "source": [
    "%%html\n",
    "\n",
    "<script>\n",
    "  function code_toggle() {\n",
    "    if (code_shown){\n",
    "      $('div.input').hide('500');\n",
    "      $('#toggleButton').val('Show Code')\n",
    "    } else {\n",
    "      $('div.input').show('500');\n",
    "      $('#toggleButton').val('Hide Code')\n",
    "    }\n",
    "    code_shown = !code_shown\n",
    "  }\n",
    "\n",
    "  $( document ).ready(function(){\n",
    "    code_shown=false;\n",
    "    $('div.input').hide()\n",
    "  });\n",
    "</script>\n",
    "<form action=\"javascript:code_toggle()\"><input type=\"submit\" id=\"toggleButton\" value=\"Show Code\"></form>"
   ]
  },
  {
   "cell_type": "code",
   "execution_count": 2,
   "metadata": {},
   "outputs": [
    {
     "data": {
      "application/javascript": [
       "\n",
       "            require.config({\n",
       "                paths: {\n",
       "                    ggb: \"https://cdn.geogebra.org/apps/deployggb\"\n",
       "                }\n",
       "            });\n",
       "\n",
       "            require([\"ggb\"]);\n",
       "        "
      ],
      "text/plain": [
       "<IPython.core.display.Javascript object>"
      ]
     },
     "metadata": {},
     "output_type": "display_data"
    }
   ],
   "source": [
    "from nbvis.ggb import *\n",
    "\n",
    "ggb = GGB()"
   ]
  },
  {
   "cell_type": "markdown",
   "metadata": {},
   "source": [
    "# Adding Fractions Part 3 - Lowest Common Denominator\n",
    "\n",
    "## Introduction\n",
    "\n",
    "Sometimes we will have to add two fractions when neither denominator is a multiple of the other.\n",
    "A simple example of this is adding $\\frac 1 2 + \\frac 1 3$.\n",
    "The number 3 is not a multiple of 2.\n",
    "That means we cannot convert ''one half'' into some number of ''thirds''.\n",
    "The number 2 is not a multiple of 3.\n",
    "That means we cannot convert ''one third'' into some number of ''halves'' either.\n",
    "So we cannot rewrite $\\frac 1 2$ as something over 3\n",
    "and we cannot rewrite $\\frac 1 3$ as something over 2.\n",
    "(Actually, it is possible, but the numerator would not be a whole number!)\n",
    "Instead, we have to convert both fractions!\n",
    "\n",
    "There are a couple of ways that we can do this.\n",
    "We will learn both ways in this notebook.\n",
    "Each way has its advantages and disadvantages.\n",
    "The first way that we will learn in this notebook has very simple steps to follow.\n",
    "However, it might require adding and multiplying big numbers.\n",
    "The second way has more steps to follow, but might have smaller numbers to add and multiply."
   ]
  },
  {
   "cell_type": "markdown",
   "metadata": {},
   "source": [
    "## Adding Fractions the Straightforward Way\n",
    "\n",
    "An easy way to add two fractions is this:\n",
    "\n",
    " * Multiply the top and bottom of the first fraction by the denominator of the second fraction.\n",
    " * Then multiply the top and bottom of the second fraction by the denominator of the first fraction.\n",
    " * Now add.\n",
    "\n",
    "So to add $\\frac 1 2 + \\frac 1 3$, here is what to do.\n",
    "First, multiply the top and bottom of $\\frac 1 2$ by 3 (the denominator of $\\frac 1 3$).\n",
    "Next, multiply the top and bottom of $\\frac 1 3$ by 2, (the denominator of $\\frac 1 2$).\n",
    "\n",
    "![drawing3](images/drawing3.svg)\n",
    "\n",
    "After that, both fractions will have the same denominator: 6.\n",
    "\n",
    "$$ \\frac 1 2 + \\frac 1 3\n",
    "    = \\frac {1 \\times 3} {2 \\times 3} + \\frac {1 \\times 2} {3 \\times 2}\n",
    "    = \\frac 3 6 + \\frac 2 6. $$\n",
    "\n",
    "Now add the fractions.\n",
    "\n",
    "$$ \\frac 3 6 + \\frac 2 6 = \\frac 5 6. $$\n",
    "\n",
    "So $\\frac 1 2 + \\frac 1 3 = \\frac 5 6$.\n",
    "\n",
    "It does not matter what the denominators of the two fractions are.\n",
    "This method will always work."
   ]
  },
  {
   "cell_type": "markdown",
   "metadata": {},
   "source": [
    "## A Slightly Harder Example\n",
    "\n",
    "Here is a harder example.\n",
    "Try adding $\\frac 3 4 + \\frac 5 6$.\n",
    "Multiply the top and bottom of each fraction by the bottom of the other fraction.\n",
    "First, multiply the top and bottom of $\\frac 3 4$ by 6.\n",
    "Next, multiply the top and bottom of $\\frac 5 6$ by 4.\n",
    "\n",
    "$$ \\frac 3 4 + \\frac 5 6\n",
    "    = \\frac {3 \\times 6} {4 \\times 6} + \\frac {5 \\times 4} {6 \\times 4}\n",
    "    = \\frac {18} {24} + \\frac {20} {24}\n",
    "    = \\frac {38} {24}.$$ \n",
    "\n",
    "There is something interesting about this example.\n",
    "We converted quarters and sixths into twenty-fourths.\n",
    "We actually could have converted to something easier: twelfths.\n",
    "Instead of multiplying $\\frac 3 4$ by $\\frac 6 6$ and instead of multiplying $\\frac 5 6$ by $\\frac 4 4$,\n",
    "we could have done this instead:\n",
    "\n",
    "$$ \\frac 3 4 + \\frac 5 6\n",
    "    = \\frac {3 \\times 3} {4 \\times 3} + \\frac {5 \\times 2} {6 \\times 2}\n",
    "    = \\frac {9} {12} + \\frac {10} {12}\n",
    "    = \\frac {19} {12}.$$ \n",
    "\n",
    "The first method is straightforward and works no matter what denominators the fractions have.\n",
    "However, we might end up with very large numerators and denominators.\n",
    "A more extreme example is $\\frac 1 {32} + \\frac 1 {48}$.\n",
    "Using the first method we would do this:\n",
    "\n",
    "$$ \\frac 1 {32} + \\frac 1 {48}\n",
    "    = \\frac {1 \\times 48} {32 \\times 48} + \\frac {1 \\times 32} {48 \\times 32}\n",
    "    = \\frac {48} {1536} + \\frac {32} {1536} = \\frac {80} {1536}. $$\n",
    "\n",
    "We could have done this conversion instead though:\n",
    "\n",
    "$$ \\frac 1 {32} + \\frac 1 {48}\n",
    "    = \\frac {1 \\times 3} {32 \\times 3} + \\frac {1 \\times 2} {48 \\times 2}\n",
    "    = \\frac {3} {96} + \\frac {2} {96} = \\frac {5} {96}. $$\n",
    "\n",
    "Both of these answers are correct, but notice how much smaller the numbers are in the second equation.\n",
    "The second one is much easier to read.\n",
    "For the rest of this notebook, we will see how to add fractions and keep the denominators small."
   ]
  },
  {
   "cell_type": "markdown",
   "metadata": {},
   "source": [
    "## Lowest Common Multiple\n",
    "\n",
    "Here is a list of numbers.\n",
    "The first row is multiples of 4.\n",
    "The second row is multiples of 6.\n",
    "These two lists have several numbers in common.\n",
    "\n",
    "![](images/lcm.svg)\n",
    "\n",
    "$\\DeclareMathOperator{\\lcm}{lcm}$\n",
    "The multiples that two numbers have in common are called, of course, **common multiples**.\n",
    "The smallest multiple that they have in common is called the **lowest common multiple**,\n",
    "or sometimes the **least common multiple**.\n",
    "The lowest common multiple of two numbers is denoted by $\\lcm(-,-)$.\n",
    "So for example, the lowest common multiple of 4 and 6 is $\\lcm(4,6)=12$."
   ]
  },
  {
   "cell_type": "markdown",
   "metadata": {},
   "source": [
    "## Lowest Common Denominator\n",
    "\n",
    "Now let's look at a list of fractions equal to $\\frac 3 4$ and a list of fractions equal to $\\frac 5 6$\n",
    "\n",
    "![](images/lcd.svg)\n",
    "\n",
    "Fractions with the same denominator have been matched together.\n",
    "These matches show us the different conversions we can do to get $\\frac 3 4$ and $\\frac 5 6$ over a common denominator.\n",
    "So we can convert them to $\\frac 9 {12}$ and $\\frac {10} {12}$.\n",
    "Or we can convert them to $\\frac {18} {24}$ and $\\frac {20} {24}$.\n",
    "If we made the lists even longer, we could find other choices.\n",
    "\n",
    "The match with the smallest denominator is the one where both denominators are 12.\n",
    "So 12 is called the **lowest common denominator** of $\\frac 3 4$ and $\\frac 5 6$.\n",
    "Remember that 12 was also the least common multiple of 4 and 6.\n",
    "This is not a coincidence.\n",
    "The lowest common denominator of two fractions is the same as the lowest common multiple of their denominators."
   ]
  },
  {
   "cell_type": "markdown",
   "metadata": {},
   "source": [
    "## The Lowest Common Denominator Way\n",
    "\n",
    "Now that we have learned about lowest common denominators,\n",
    "we can see learn the second way to add fractions.\n",
    "\n",
    "If we want to add two fractions with different denominators,\n",
    "first we have to convert them so that they have the same denominator.\n",
    "If we want the top and bottom to be as small as possible after the conversion,\n",
    "we should look for the lowest common denominator.\n",
    "So a second method for adding fractions is like this:\n",
    "\n",
    " * Find the lowest common multiple of the two denominators.\n",
    " * This is also the lowest common denominator of the fractions.\n",
    " * Convert both fractions into fractions over their lowest common denominator.\n",
    " * Add.\n",
    "\n",
    "Let's go back to the example of adding $\\frac 3 4 + \\frac 5 6$.\n",
    "This time, let's follow the steps we just listed.\n",
    "\n",
    " * The denominators of $\\frac 3 4$ and $\\frac 5 6$ are 4 and 6.\n",
    "   Their lowest common multiple is $\\lcm(4,6) = 12$.\n",
    " * So 12 is also the lowest common denominator of $\\frac 3 4$ and $\\frac 5 6$.\n",
    " * Now we convert both fractions into twelfths.\n",
    "   We convert $\\frac 3 4$ into $\\frac 9 {12}$ and $\\frac {10} {12}$.\n",
    " * Finally, we add $\\frac 9 {12} + \\frac {10} {12} = \\frac {19} {12}$.\n",
    "\n",
    "This is more work than the first method shown in this notebook.\n",
    "To find the lowest common multiple of the two denominators,\n",
    "you have to write out a lot of multiples of both numbers and find the smallest multiple.\n",
    "With time and practice, you might memorize the lowest common multiple for some small numbers,\n",
    "or learn some tricks to do it faster."
   ]
  },
  {
   "cell_type": "markdown",
   "metadata": {},
   "source": [
    "## Visually\n",
    "\n",
    "Here is a way to visualize adding $\\frac 3 4 + \\frac 5 6$ using circles.\n",
    "When you press **Convert**, the circles will represent $\\frac {9} {12} + \\frac {10} {12}$.\n",
    "Press **Add** to add them.\n",
    "\n",
    "Notice how the first circle is cut into quarters.\n",
    "When you press **Convert**, each of the quarters is cut into 3 smaller equal pieces.\n",
    "That is what it looks like to multiply the top and bottom of $\\frac 3 4$ by 3.\n",
    "\n",
    "The second circle is cut into sixths.\n",
    "When you press **Convert**, each of those sixths are cut into 2 smaller equal pieces.\n",
    "That is what it looks like to multiply the top and bottom of $\\frac 5 6$ by 2.\n",
    "\n",
    "You can change the numerators and denominators if you want to add something else."
   ]
  },
  {
   "cell_type": "code",
   "execution_count": 3,
   "metadata": {},
   "outputs": [
    {
     "data": {
      "text/html": [
       "\n",
       "<div id=\"div_interactive_add\">\n",
       "    <svg id=\"svg_interactive_add\" width=960 height=260></svg>\n",
       "</div>\n",
       "\n",
       "<label>\n",
       "    Numerator 1:   <input id=\"numer1\" type=\"range\" value=\"3\" min=\"0\" max=\"20\" step=\"1\" onchange=\"update()\"/><br>\n",
       "    Denominator 1: <input id=\"denom1\" type=\"range\" value=\"4\" min=\"1\" max=\"20\"  step=\"1\" onchange=\"update()\"/><br>\n",
       "    Numerator 2:   <input id=\"numer2\" type=\"range\" value=\"5\" min=\"0\" max=\"20\" step=\"1\" onchange=\"update()\"/><br>\n",
       "    Denominator 2: <input id=\"denom2\" type=\"range\" value=\"6\" min=\"1\" max=\"20\"  step=\"1\" onchange=\"update()\"/><br>\n",
       "    <input id=\"button\" type=\"button\"/>\n",
       "</label>\n",
       "\n",
       "<script src=\"http://d3js.org/d3.v3.min.js\" charset=\"utf-8\"></script>\n",
       "<script src=\"javascript/fractions.js\"></script>\n",
       "<script src=\"javascript/lowest_common_denominator.js\"></script>\n",
       "\n",
       "<script>\n",
       "\n",
       "var defaultNumer1, defaultDenom1, defaultNumer2, defaultDenom2;\n",
       "\n",
       "function update() {\n",
       "    defaultNumer1 = Number(d3.select(\"#numer1\").property(\"value\"));\n",
       "    defaultNumer2 = Number(d3.select(\"#numer2\").property(\"value\"));\n",
       "    defaultDenom1 = Number(d3.select(\"#denom1\").property(\"value\"));\n",
       "    defaultDenom2 = Number(d3.select(\"#denom2\").property(\"value\"));\n",
       "    reset();\n",
       "}\n",
       "\n",
       "update();\n",
       "reset();\n",
       "\n",
       "</script>"
      ],
      "text/plain": [
       "<IPython.core.display.HTML object>"
      ]
     },
     "metadata": {},
     "output_type": "display_data"
    }
   ],
   "source": [
    "%%html\n",
    "\n",
    "<div id=\"div_interactive_add\">\n",
    "    <svg id=\"svg_interactive_add\" width=960 height=260></svg>\n",
    "</div>\n",
    "\n",
    "<label>\n",
    "    Numerator 1:   <input id=\"numer1\" type=\"range\" value=\"3\" min=\"0\" max=\"20\" step=\"1\" onchange=\"update()\"/><br>\n",
    "    Denominator 1: <input id=\"denom1\" type=\"range\" value=\"4\" min=\"1\" max=\"20\"  step=\"1\" onchange=\"update()\"/><br>\n",
    "    Numerator 2:   <input id=\"numer2\" type=\"range\" value=\"5\" min=\"0\" max=\"20\" step=\"1\" onchange=\"update()\"/><br>\n",
    "    Denominator 2: <input id=\"denom2\" type=\"range\" value=\"6\" min=\"1\" max=\"20\"  step=\"1\" onchange=\"update()\"/><br>\n",
    "    <input id=\"button\" type=\"button\"/>\n",
    "</label>\n",
    "\n",
    "<script src=\"http://d3js.org/d3.v3.min.js\" charset=\"utf-8\"></script>\n",
    "<script src=\"javascript/fractions.js\"></script>\n",
    "<script src=\"javascript/lowest_common_denominator.js\"></script>\n",
    "\n",
    "<script>\n",
    "\n",
    "var defaultNumer1, defaultDenom1, defaultNumer2, defaultDenom2;\n",
    "\n",
    "function update() {\n",
    "    defaultNumer1 = Number(d3.select(\"#numer1\").property(\"value\"));\n",
    "    defaultNumer2 = Number(d3.select(\"#numer2\").property(\"value\"));\n",
    "    defaultDenom1 = Number(d3.select(\"#denom1\").property(\"value\"));\n",
    "    defaultDenom2 = Number(d3.select(\"#denom2\").property(\"value\"));\n",
    "    reset();\n",
    "}\n",
    "\n",
    "update();\n",
    "reset();\n",
    "\n",
    "</script>"
   ]
  },
  {
   "cell_type": "markdown",
   "metadata": {},
   "source": [
    "## Practice\n",
    "\n",
    "Practice adding fractions with different denominators with this multiple choice game."
   ]
  },
  {
   "cell_type": "code",
   "execution_count": 4,
   "metadata": {
    "scrolled": false
   },
   "outputs": [
    {
     "data": {
      "text/html": [
       "<div id=\"ggb_0_0e\"></div>"
      ],
      "text/plain": [
       "<IPython.core.display.HTML object>"
      ]
     },
     "metadata": {},
     "output_type": "display_data"
    },
    {
     "data": {
      "application/javascript": [
       "var ggb_0_0e = new GGBApplet({\"filename\": \"geogebra/fractions-game3.ggb\", \"height\": 400, \"showAlgebraInput\": false, \"enableLabelDrags\": false, \"enableShiftDragZoom\": false, \"showResetIcon\": true, \"useBrowserForJS\": false, \"showToolBar\": false, \"showMenuBar\": false}, \"ggb_0_0e\", false); ggb_0_0e.inject(); "
      ],
      "text/plain": [
       "<IPython.core.display.Javascript object>"
      ]
     },
     "metadata": {},
     "output_type": "display_data"
    }
   ],
   "source": [
    "ggb.file(\"geogebra/fractions-game3.ggb\") \\\n",
    "    .options(height = 400, \\\n",
    "            showAlgebraInput = False, \\\n",
    "            enableLabelDrags = False, \\\n",
    "            enableShiftDragZoom = False, \\\n",
    "            showResetIcon = True, \\\n",
    "            useBrowserForJS = False, \\\n",
    "            showToolBar = False, \\\n",
    "            showMenuBar = False) \\\n",
    "    .draw()"
   ]
  },
  {
   "cell_type": "markdown",
   "metadata": {},
   "source": [
    "## Conclusion\n",
    "\n",
    "In this notebook, we learned how to add fractions with different denominators.\n",
    "We learned how to do it in two different ways.\n",
    "Both ways work no matter what the denominators of the fractions are.\n",
    "Now we are well equipped to add any fractions we come across!\n",
    "\n",
    "Or are we? There is still much much more about fractions to be learned.\n",
    "In the wider world of math, the numerator and denominator of a fraction do not have to be whole numbers.\n",
    "They can be decimal numbers like $\\frac {0.4} {1.2}$.\n",
    "They can even be fractions, like\n",
    "\n",
    "$$ \\frac {\\frac 1 2} {\\frac 3 4}. $$\n",
    "\n",
    "They can be negative numbers, too.\n",
    "Even if you have mastered adding fractions, there is still subtraction, multiplication, and division to learn.\n",
    "So keep learning!"
   ]
  },
  {
   "cell_type": "markdown",
   "metadata": {},
   "source": [
    "<img src=\"images/Callysto_Notebook-Banners_Bottom_06.06.18.jpg\">"
   ]
  }
 ],
 "metadata": {
  "kernelspec": {
   "display_name": "Python 3",
   "language": "python",
   "name": "python3"
  },
  "language_info": {
   "codemirror_mode": {
    "name": "ipython",
    "version": 3
   },
   "file_extension": ".py",
   "mimetype": "text/x-python",
   "name": "python",
   "nbconvert_exporter": "python",
   "pygments_lexer": "ipython3",
   "version": "3.6.4"
  }
 },
 "nbformat": 4,
 "nbformat_minor": 2
}
