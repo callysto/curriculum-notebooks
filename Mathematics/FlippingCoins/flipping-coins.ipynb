{
 "cells": [
  {
   "cell_type": "markdown",
   "metadata": {},
   "source": [
    "![Callysto.ca Banner](https://github.com/callysto/curriculum-notebooks/blob/master/callysto-notebook-banner-top.jpg?raw=true)\n",
    "\n",
    "<a href=\"https://hub.callysto.ca/jupyter/hub/user-redirect/git-pull?repo=https%3A%2F%2Fgithub.com%2Fcallysto%2Fcurriculum-notebooks&branch=master&subPath=Mathematics/FlippingCoins/flipping-coins.ipynb&depth=1\" target=\"_parent\"><img src=\"https://raw.githubusercontent.com/callysto/curriculum-notebooks/master/open-in-callysto-button.svg?sanitize=true\" width=\"123\" height=\"24\" alt=\"Open in Callysto\"/></a>"
   ]
  },
  {
   "cell_type": "markdown",
   "metadata": {},
   "source": [
    "# Flipping Lots of Coins\n",
    "\n",
    "A classic statistics experiment is simply counting how many \"heads\" and \"tails\" you observe when flipping a coin repeatedly. With a perfectly unbiased coin in a statistically perfect world, we expect to count an equal number of heads and tails.\n",
    "\n",
    "<img src=\"images/iStock-coinflip.jpg\" width=\"400px\">\n",
    "\n",
    "However, in the real world there are **statistical fluctuations**, meaning that experimental data are not always equal to what you would expect. For example, if you were to flip a coin 100 times, you might observe 52 heads and 48 tails or even 45 heads and 55 tails. Of course the more times you flip a coin and record the outcome, the closer you are likely to get to a 50:50 ratio.\n",
    "\n",
    "This sort of statistical problem where you run a number of trials is easily simulated using Python with a **random number generator**.\n",
    "\n",
    "Select the code cell below, then click the `▶Run` button to `print` 10 random numbers between 0 and 1."
   ]
  },
  {
   "cell_type": "code",
   "execution_count": null,
   "metadata": {},
   "outputs": [],
   "source": [
    "import random\n",
    "for i in range(10):\n",
    "    print(random.uniform(0,1))"
   ]
  },
  {
   "cell_type": "markdown",
   "metadata": {},
   "source": [
    "If you run the above cell a few times, you should find that the numbers are different each time.\n",
    "\n",
    "To simulate a random coin flip, though, we can use `random.choice` to choose between `heads` and `tails`."
   ]
  },
  {
   "cell_type": "code",
   "execution_count": null,
   "metadata": {},
   "outputs": [],
   "source": [
    "for i in range(10):\n",
    "    print(random.choice(['heads', 'tails']))"
   ]
  },
  {
   "cell_type": "markdown",
   "metadata": {},
   "source": [
    "Now that we know how to simulate a coin flip, let's flip a lot of coins."
   ]
  },
  {
   "cell_type": "code",
   "execution_count": null,
   "metadata": {},
   "outputs": [],
   "source": [
    "N = 100\n",
    "results = [random.choice(['heads', 'tails']) for i in range(N)]\n",
    "\n",
    "import pandas as pd\n",
    "df = pd.DataFrame(results, columns=['Result'])\n",
    "df"
   ]
  },
  {
   "cell_type": "markdown",
   "metadata": {},
   "source": [
    "Let's visualize the results of that set of coin flips."
   ]
  },
  {
   "cell_type": "code",
   "execution_count": null,
   "metadata": {},
   "outputs": [],
   "source": [
    "import plotly.express as px\n",
    "px.histogram(df, x='Result', title='Results of {} Coin Flips'.format(N))"
   ]
  },
  {
   "cell_type": "markdown",
   "metadata": {},
   "source": [
    "We can also animate the counting of the coin flips. This might require a lot of calculating if there were more than 100 coin flips."
   ]
  },
  {
   "cell_type": "code",
   "execution_count": null,
   "metadata": {},
   "outputs": [],
   "source": [
    "df['Heads'] = (df['Result']=='heads').cumsum()\n",
    "df['Tails'] = (df['Result']=='tails').cumsum()\n",
    "df['Flip'] = df.index\n",
    "adf = df.drop('Result', axis=1).melt(id_vars='Flip', var_name='Result', value_vars=['Heads', 'Tails'], value_name='Count')\n",
    "ymax = adf['Count'].max()\n",
    "fig = px.histogram(adf, x='Result', y='Count', animation_frame='Flip', title='Flipping {} Coins'.format(N))\n",
    "fig.update_xaxes(range=[-0.5,1.5]).update_yaxes(title='Count', range=[0,ymax])\n",
    "fig.show()"
   ]
  },
  {
   "cell_type": "markdown",
   "metadata": {},
   "source": [
    "Let's simulate flipping more coins and graphing, without animation, the results of those coin flips. You can try changing `N = 100000` to even larger numbers if you'd like."
   ]
  },
  {
   "cell_type": "code",
   "execution_count": null,
   "metadata": {},
   "outputs": [],
   "source": [
    "N = 100000\n",
    "\n",
    "#px.histogram(pd.DataFrame([random.choice(['heads', 'tails']) for i in range(N)], columns=['Result']), x='Result', title='Results of {} Coin Flips'.format(N))\n",
    "px.histogram([random.choice(['heads', 'tails']) for i in range(N)], title='Results of {} Coin Flips'.format(N)).update_xaxes(title='Result').update_layout(showlegend=False)"
   ]
  },
  {
   "cell_type": "markdown",
   "metadata": {},
   "source": [
    "We see that the more coin flips we observe, the more likely we are to get close to the theoretical $1:1$ ratio.\n",
    "\n",
    "## Biased Coin\n",
    "\n",
    "So far we have been assuming that our coin is equally likely to land on heads or tails. We could also model a *biased* coin that is more likely to land on one than the other. For example, suppose we have a coin with a 60% probability to land with heads facing up.\n",
    "\n",
    "To simulate this, we specify the probability then draw a random number. If that random number is less than the probability of heads we return heads, if it's greater we return tails. This process as a flowchart would appear as follows.\n",
    "\n",
    "![alt text](images/coin_flip_ex.png)"
   ]
  },
  {
   "cell_type": "code",
   "execution_count": null,
   "metadata": {},
   "outputs": [],
   "source": [
    "N = 100000\n",
    "probability_of_heads = 0.6\n",
    "\n",
    "results = ['heads' if random.uniform(0,1)<probability_of_heads else 'tails' for i in range(N)]\n",
    "\n",
    "px.histogram(results, title='Results of {} Coin Flips with a Probability of Heads of {}'.format(N, probability_of_heads)).update_xaxes(title='Result').update_layout(showlegend=False)"
   ]
  },
  {
   "cell_type": "markdown",
   "metadata": {},
   "source": [
    "Feel free to run the above code cell as many times as you like to simulate coin tosses. You can change both `N = 100000` and `probability_of_heads = 0.6` to see how they affect the graph.\n",
    "\n",
    "# Conclusion\n",
    "\n",
    "In this notebook we covered the idea of statistical fluctuations and how we can use the random number generator to model those statistical fluctuations. In doing so, we created a simulation of coin tosses for both fair and biased coins and observed the difference in counting simulated experimental statistics between the two. This sort of model can be applied to nearly any statistical process, and can act as a primer for the idea of statistical simulations and [Monte Carlo methods](https://en.wikipedia.org/wiki/Monte_Carlo_method)."
   ]
  },
  {
   "cell_type": "markdown",
   "metadata": {},
   "source": [
    "[![Callysto.ca License](https://github.com/callysto/curriculum-notebooks/blob/master/callysto-notebook-banner-bottom.jpg?raw=true)](https://github.com/callysto/curriculum-notebooks/blob/master/LICENSE.md)"
   ]
  }
 ],
 "metadata": {
  "kernelspec": {
   "display_name": "Python 3.10.1 64-bit",
   "language": "python",
   "name": "python3"
  },
  "language_info": {
   "codemirror_mode": {
    "name": "ipython",
    "version": 3
   },
   "file_extension": ".py",
   "mimetype": "text/x-python",
   "name": "python",
   "nbconvert_exporter": "python",
   "pygments_lexer": "ipython3",
   "version": "3.10.1"
  },
  "vscode": {
   "interpreter": {
    "hash": "d1ca6d17674200220921376aaeb3d36cffe15ecab2470a9a5e7a456cdbf61425"
   }
  }
 },
 "nbformat": 4,
 "nbformat_minor": 2
}
