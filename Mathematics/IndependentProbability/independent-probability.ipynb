{
 "cells": [
  {
   "cell_type": "markdown",
   "metadata": {},
   "source": [
    "![Callysto.ca Banner](https://github.com/callysto/curriculum-notebooks/blob/master/callysto-notebook-banner-top.jpg?raw=true)\n",
    "\n",
    "<a href=\"https://hub.callysto.ca/jupyter/hub/user-redirect/git-pull?repo=https%3A%2F%2Fgithub.com%2Fcallysto%2Fcurriculum-notebooks&branch=master&subPath=Mathematics/IndependentProbability/independent-probability.ipynb&depth=1\" target=\"_parent\"><img src=\"https://raw.githubusercontent.com/callysto/curriculum-notebooks/master/open-in-callysto-button.svg?sanitize=true\" width=\"123\" height=\"24\" alt=\"Open in Callysto\"/></a>"
   ]
  },
  {
   "cell_type": "markdown",
   "metadata": {},
   "source": [
    "# Probability of Independent Events\n",
    "\n",
    "## Introduction\n",
    "\n",
    "Our lives are full of random events, it is important to understand randomness. What is a random event? Flipping a coin, rolling dice, shuffling cards, and lottery draws are all examples of random events.\n",
    "\n",
    "There are two basic types of random events, dependent random events and independent random events.\n",
    "    \n",
    "**Dependent** random events are where the occurrence of an event affects the probability of the next event occurring. For example, consider removing a playing card from a deck of cards. As you take each card, there are fewer cards left in the deck, so the probability of drawing a particular card changes.\n",
    "\n",
    "This notebook will focus on **independent** events, they are **not affected** by previous events.\n",
    "\n",
    "### Die Simulator\n",
    "\n",
    "Click the \"Roll Die\" button as many times as you'd like. Do you think that the current number on the die affects the likelihood of the next number occurring? "
   ]
  },
  {
   "cell_type": "code",
   "execution_count": null,
   "metadata": {},
   "outputs": [],
   "source": [
    "from ipywidgets import Output, VBox\n",
    "from random import choice\n",
    "import time\n",
    "from IPython.display import Image, display, clear_output\n",
    "from ipywidgets import widgets\n",
    "\n",
    "Animation = Image(filename=\"images/DiceAnimationInfinite.gif\", width=80, height=80)\n",
    "N1 = Image(filename=\"images/Dice1.gif\", width=50, height=50)\n",
    "N2 = Image(filename=\"images/Dice2.gif\", width=50, height=50)\n",
    "N3 = Image(filename=\"images/Dice3.gif\", width=50, height=50)\n",
    "N4 = Image(filename=\"images/Dice4.gif\", width=50, height=50)\n",
    "N5 = Image(filename=\"images/Dice5.gif\", width=50, height=50)\n",
    "N6 = Image(filename=\"images/Dice6.gif\", width=50, height=50)\n",
    "\n",
    "def on_button1_clicked(b):\n",
    "    subj = [N1, N2, N3, N4, N5, N6]\n",
    "    with out1:\n",
    "        clear_output()\n",
    "        display(Animation)\n",
    "        time.sleep(1.5)\n",
    "        clear_output(wait=True)\n",
    "        display(choice(subj))\n",
    "\n",
    "out1 = Output()\n",
    "button1 = widgets.Button(description = \"Roll Die\")\n",
    "display(VBox([button1, out1]))\n",
    "button1.on_click(on_button1_clicked)"
   ]
  },
  {
   "cell_type": "markdown",
   "metadata": {},
   "source": [
    "We can also create a much simpler version for rolling a die."
   ]
  },
  {
   "cell_type": "code",
   "execution_count": null,
   "metadata": {},
   "outputs": [],
   "source": [
    "from random import randint\n",
    "randint(1,6)"
   ]
  },
  {
   "cell_type": "markdown",
   "metadata": {},
   "source": [
    "### Experimental Probability\n",
    "\n",
    "One way of estimating the probability of an event is using an experiment. If we do an experiment $n$ times and the event we want occurs $f$ times, then the **experimental probability** ($p_e$) of the event is\n",
    "\n",
    "$p_e = \\frac{f}{n} = \\frac{\\text{number of occurrences}}{\\text{number of observations}}$\n",
    "\n",
    "Let's try a virtual experiment comparing 10 observations (rolls of a die) to 100 observations and 100000 observations."
   ]
  },
  {
   "cell_type": "code",
   "execution_count": null,
   "metadata": {},
   "outputs": [],
   "source": [
    "import plotly.express as px\n",
    "\n",
    "def experimental_visualization(n):\n",
    "    results = [randint(1,6) for i in range(n)]\n",
    "    px.histogram(results, title='Rolling a Die {} Times'.format(n), nbins=6).update_layout(showlegend=False).show()\n",
    "\n",
    "experimental_visualization(10)\n",
    "experimental_visualization(100)\n",
    "experimental_visualization(100000)"
   ]
  },
  {
   "cell_type": "markdown",
   "metadata": {},
   "source": [
    "From the graphs above, we can see that more repetitions of the experiment results in an outcome closer to the theoretical probability of a fair die (all six options being equally likely).\n",
    "\n",
    "### Independence and the Gambler's Fallacy\n",
    "\n",
    "If we are using a fair die and it happens to roll a 1 five times in a row, what is the chance that the next roll will also be a 1?  While it is common for people to think some other number might be \"overdue\", this is called the [Gambler's Fallacy](https://en.wikipedia.org/wiki/Gambler%27s_fallacy). The likelyhood of rolling a 1 (or any other number) has not changed.\n",
    "\n",
    "Let's try a simulation of what the sixth roll would be after rolling a 1 five times in a row."
   ]
  },
  {
   "cell_type": "code",
   "execution_count": null,
   "metadata": {},
   "outputs": [],
   "source": [
    "for x in range(100000):\n",
    "    results = [randint(1,6) for i in range(5)]\n",
    "    if results == [1,1,1,1,1]:\n",
    "        print('We rolled a 1 every time on trial {}, our next roll was a {}'.format(x, randint(1,6)))"
   ]
  },
  {
   "cell_type": "markdown",
   "metadata": {},
   "source": [
    "## The Probability of Multiple Independent Events\n",
    "\n",
    "What if we wish to find the probability of **multiple** independent events happening? For example, what is the probability of rolling a 1 five times in a row?\n",
    "\n",
    "Let's modify the simulation from the previous code cell to find that experimental probability."
   ]
  },
  {
   "cell_type": "code",
   "execution_count": null,
   "metadata": {},
   "outputs": [],
   "source": [
    "from fractions import Fraction\n",
    "f = 0\n",
    "observations = 1000000\n",
    "for x in range(observations):\n",
    "    results = [randint(1,6) for i in range(5)]\n",
    "    if results == [1,1,1,1,1]:\n",
    "        f += 1\n",
    "print('We rolled five 1s {} times for an experimental probability of {}'.format(f, Fraction(f, observations)))"
   ]
  },
  {
   "cell_type": "markdown",
   "metadata": {},
   "source": [
    "### Computing Multiple Independent Event Probabilities Theoretically\n",
    "\n",
    "To find the theoretical probability of independent events, let's talk about coin flips. A coin flip has two possible outcomes, \"heads\" or \"tails\", and each is equally likely ($p = 0.5$).\n",
    "\n",
    "We can calculate the probability of multiple **independent** events by **multiplying** the chances, so the chance of getting three \"heads\" in a row is:\n",
    "\n",
    "$0.5 \\times 0.5 \\times 0.5 = \\boldsymbol{0.125}$\n",
    "\n",
    "<img style=\"float: center;\" src=\"images/CoinTree.svg\" width=\"50%\">\n",
    "\n",
    "Another way of seeing this is to write out all of the possibilities. We call this the *sample space* of the random trial. In this example, the random trial is flipping three coins. Below is this sample space:\n",
    "\n",
    "<img style=\"float: center;\" src=\"images/SampleSpace.svg\" width=\"50%\">\n",
    "\n",
    "Observe that only **one** of the **eight** possibilities is \"HHH\". Hence, the probability of getting three Heads on a flip of three coins is **1/8 = 0.125**.\n",
    "\n",
    "Let's try a simulation of that."
   ]
  },
  {
   "cell_type": "code",
   "execution_count": null,
   "metadata": {},
   "outputs": [],
   "source": [
    "observations = 1000000\n",
    "f = 0\n",
    "for x in range(observations):\n",
    "    results = [choice(['heads', 'tails']) for i in range(3)]\n",
    "    if results == ['heads', 'heads', 'heads']:\n",
    "        f += 1\n",
    "print('We got \"HHH\" {} times out of {} for an experimental probability of {}'.format(f, observations, f/observations))"
   ]
  },
  {
   "cell_type": "markdown",
   "metadata": {},
   "source": [
    "## Conclusion\n",
    "\n",
    "- Experimental Probability is the number of occurrences of and event divided by umber of experiments done\n",
    "- Theoretical Probability is the number of ways and event can happen divided by the total number of possible outcomes\n",
    "- Dependent events such as removing cards from a deck of cards **are** affected by previous events\n",
    "- Independent events, such as rolling a die or flipping a coin, are **not** affected by previous events\n",
    "- The probability of multiple independent events can be calculated by multiplying"
   ]
  },
  {
   "cell_type": "markdown",
   "metadata": {},
   "source": [
    "[![Callysto.ca License](https://github.com/callysto/curriculum-notebooks/blob/master/callysto-notebook-banner-bottom.jpg?raw=true)](https://github.com/callysto/curriculum-notebooks/blob/master/LICENSE.md)"
   ]
  }
 ],
 "metadata": {
  "kernelspec": {
   "display_name": "Python 3.10.1 64-bit",
   "language": "python",
   "name": "python3"
  },
  "language_info": {
   "codemirror_mode": {
    "name": "ipython",
    "version": 3
   },
   "file_extension": ".py",
   "mimetype": "text/x-python",
   "name": "python",
   "nbconvert_exporter": "python",
   "pygments_lexer": "ipython3",
   "version": "3.10.1"
  },
  "vscode": {
   "interpreter": {
    "hash": "d1ca6d17674200220921376aaeb3d36cffe15ecab2470a9a5e7a456cdbf61425"
   }
  }
 },
 "nbformat": 4,
 "nbformat_minor": 2
}
