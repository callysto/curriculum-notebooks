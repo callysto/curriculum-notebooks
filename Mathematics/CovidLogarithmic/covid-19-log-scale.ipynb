{
 "cells": [
  {
   "cell_type": "markdown",
   "metadata": {},
   "source": [
    "![Callysto.ca Banner](https://github.com/callysto/curriculum-notebooks/blob/master/callysto-notebook-banner-top.jpg?raw=true)\n",
    " \n",
    "<a href=\"https://hub.callysto.ca/jupyter/hub/user-redirect/git-pull?repo=https%3A%2F%2Fgithub.com%2Fcallysto%2Fcurriculum-notebooks&branch=master&urlpath=notebooks/curriculum-notebooks/Mathematics/CovidLogarithmic/covid-19-log-scale.ipynb&depth=1\" target=\"_parent\"><img src=\"https://raw.githubusercontent.com/callysto/curriculum-notebooks/master/open-in-callysto-button.svg?sanitize=true\" width=\"123\" height=\"24\" alt=\"Open in Callysto\"></a>"
   ]
  },
  {
   "cell_type": "markdown",
   "metadata": {},
   "source": [
    "# Plotting COVID-19 Cases on a Logarithmic Scale\n",
    "\n",
    "In this notebook we will explore the logarithmic scale (also known as the log scale) and we will explore how the log scale can help us determine if a country is experiencing exponential growth in the number of reported COVID-19 cases.\n",
    "\n",
    "## Logarithmic Scales\n",
    "\n",
    "A logarithmic scale is a nonlinear scale often used when analyzing a large range of quantities. Each interval is increased by a factor of the base of the logarithm (usually 10, which is the base we'll use in this notebook).\n",
    "\n",
    "Let's say you have a variable $y$ which [grows exponentially](https://en.wikipedia.org/wiki/Exponential_growth):\n",
    "\n",
    "|Day|$y$|\n",
    "|-|-|\n",
    "|1|10|\n",
    "|2|100|\n",
    "|3|1000|\n",
    "\n",
    "Every day the value of y will increase by a factor of ten. Let's create a visualization of this pattern. Click on the code cell below, then click the `▶Run` button."
   ]
  },
  {
   "cell_type": "code",
   "execution_count": null,
   "metadata": {},
   "outputs": [],
   "source": [
    "import plotly.express as px\n",
    "x = range(1, 25)\n",
    "y = [10 ** i for i in x]\n",
    "px.scatter(x=x, y=y, title='Exponential Growth')"
   ]
  },
  {
   "cell_type": "markdown",
   "metadata": {},
   "source": [
    "The problem with that graph is that the last two values are so much larger, so on that scale we can't see what is happening with most of the data.\n",
    "\n",
    "Let's make a graph of the same data, but using a logarithmic scale for the $y$-axis."
   ]
  },
  {
   "cell_type": "code",
   "execution_count": null,
   "metadata": {},
   "outputs": [],
   "source": [
    "px.scatter(x=x, y=y, title='Exponential Growth (log scale)', log_y=True)"
   ]
  },
  {
   "cell_type": "markdown",
   "metadata": {},
   "source": [
    "That makes for a much better visualization, we can see that it is constantly increasing (exponentially).\n",
    "\n",
    "Using a logarithmic scale is useful when the largest numbers in the data are hundreds or thousands of times larger than the smallest numbers. Some application of logarithmic scales are [pH in chemistry](https://en.wikipedia.org/wiki/PH) and the [Richter scale for earthquakes](https://en.wikipedia.org/wiki/Richter_magnitude_scale).\n",
    "\n",
    "## Log Scale with COVID-19 Data\n",
    "\n",
    "Let's compare linear and logarithmic scales using [COVID-19 data](https://github.com/CSSEGISandData/COVID-19) for `Alberta` provided by [Johns Hopkins University Center for Systems Science and Engineering (JHU CSSE)](https://systems.jhu.edu/)."
   ]
  },
  {
   "cell_type": "code",
   "execution_count": null,
   "metadata": {},
   "outputs": [],
   "source": [
    "province = 'Alberta'\n",
    "\n",
    "import pandas as pd\n",
    "df = pd.read_csv('https://raw.githubusercontent.com/CSSEGISandData/COVID-19/master/csse_covid_19_data/csse_covid_19_time_series/time_series_covid19_confirmed_global.csv')\n",
    "cases = df[df['Province/State']==province].copy()\n",
    "cases.drop(['Province/State', 'Country/Region', 'Lat', 'Long'], axis=1, inplace=True)\n",
    "px.line(cases.T, title='COVID-19 Cases in '+province, labels={'index':'Date', 'value':'Cases'}).update_layout(showlegend=False).show()\n",
    "px.line(cases.T, title='COVID-19 Cases in '+province+' (log scale)', labels={'index':'Date', 'value':'Cases'}, log_y=True).update_layout(showlegend=False).show()"
   ]
  },
  {
   "cell_type": "markdown",
   "metadata": {},
   "source": [
    "The charts are interative, you can select different parts to zoom in on to see more detail.\n",
    "\n",
    "We can also add up the data for all of Canada to compare linear and logarithmic scales."
   ]
  },
  {
   "cell_type": "code",
   "execution_count": null,
   "metadata": {},
   "outputs": [],
   "source": [
    "country = 'Canada'\n",
    "data = df[df['Country/Region']==country].drop(['Province/State', 'Country/Region', 'Lat', 'Long'], axis=1).sum()\n",
    "px.line(data, title='COVID-19 Cases in '+country, labels={'index':'Date', 'value':'Cases'}).update_layout(showlegend=False).show()\n",
    "px.line(data, title='COVID-19 Cases in '+country+' (log scale)', labels={'index':'Date', 'value':'Cases'}, log_y=True).update_layout(showlegend=False).show()"
   ]
  },
  {
   "cell_type": "markdown",
   "metadata": {},
   "source": [
    "# Conclusion\n",
    "\n",
    "Charts with logarithmic scales can help show how fast the number of cases is increasing.\n",
    "\n",
    "Recall that on a logarithmic scale, $y$ values increase by a set factor. However estimating a factor (the average number of new infections deriving from an existing infection) in this scenario is challenging for a number of reasons, some of which are outlined in the article [Why R0 Is Problematic for Predicting COVID-19 Spread](https://www.the-scientist.com/features/why-r0-is-problematic-for-predicting-covid-19-spread-67690).\n",
    "\n",
    "Even if we don't have the factor at which the function increases, the logarithmic scale is a great way to measure the rates of change of new confirmed infections. When we use a logarithmic scale for COVID-19 confirmed cases, we can see when the exponential growth of infections starts to level off."
   ]
  },
  {
   "cell_type": "markdown",
   "metadata": {},
   "source": [
    "[![Callysto.ca License](https://github.com/callysto/curriculum-notebooks/blob/master/callysto-notebook-banner-bottom.jpg?raw=true)](https://github.com/callysto/curriculum-notebooks/blob/master/LICENSE.md)"
   ]
  }
 ],
 "metadata": {
  "kernelspec": {
   "display_name": "Python 3.10.1 64-bit",
   "language": "python",
   "name": "python3"
  },
  "language_info": {
   "codemirror_mode": {
    "name": "ipython",
    "version": 3
   },
   "file_extension": ".py",
   "mimetype": "text/x-python",
   "name": "python",
   "nbconvert_exporter": "python",
   "pygments_lexer": "ipython3",
   "version": "3.10.1"
  },
  "vscode": {
   "interpreter": {
    "hash": "d1ca6d17674200220921376aaeb3d36cffe15ecab2470a9a5e7a456cdbf61425"
   }
  }
 },
 "nbformat": 4,
 "nbformat_minor": 4
}
