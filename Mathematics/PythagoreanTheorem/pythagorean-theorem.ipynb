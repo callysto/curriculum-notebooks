{
 "cells": [
  {
   "cell_type": "markdown",
   "metadata": {},
   "source": [
    "![logo](https://callysto.ca/wp-content/uploads/2018/06/Callysto_Notebook-Banner_Top_06.06.18.jpg)"
   ]
  },
  {
   "cell_type": "code",
   "execution_count": 7,
   "metadata": {},
   "outputs": [
    {
     "data": {
      "text/html": [
       "\n",
       "<script>\n",
       "  function code_toggle() {\n",
       "    if (code_shown){\n",
       "      $('div.input').hide('500');\n",
       "      $('#toggleButton').val('Show Code')\n",
       "    } else {\n",
       "      $('div.input').show('500');\n",
       "      $('#toggleButton').val('Hide Code')\n",
       "    }\n",
       "    code_shown = !code_shown\n",
       "  }\n",
       "\n",
       "  $( document ).ready(function(){\n",
       "    code_shown=false;\n",
       "    $('div.input').hide()\n",
       "  });\n",
       "</script>\n",
       "<form action=\"javascript:code_toggle()\"><input type=\"submit\" id=\"toggleButton\" value=\"Show Code\"></form>\n"
      ],
      "text/plain": [
       "<IPython.core.display.HTML object>"
      ]
     },
     "metadata": {},
     "output_type": "display_data"
    }
   ],
   "source": [
    "%%html\n",
    "\n",
    "<script>\n",
    "  function code_toggle() {\n",
    "    if (code_shown){\n",
    "      $('div.input').hide('500');\n",
    "      $('#toggleButton').val('Show Code')\n",
    "    } else {\n",
    "      $('div.input').show('500');\n",
    "      $('#toggleButton').val('Hide Code')\n",
    "    }\n",
    "    code_shown = !code_shown\n",
    "  }\n",
    "\n",
    "  $( document ).ready(function(){\n",
    "    code_shown=false;\n",
    "    $('div.input').hide()\n",
    "  });\n",
    "</script>\n",
    "<form action=\"javascript:code_toggle()\"><input type=\"submit\" id=\"toggleButton\" value=\"Show Code\"></form>"
   ]
  },
  {
   "cell_type": "code",
   "execution_count": 8,
   "metadata": {},
   "outputs": [],
   "source": [
    "from IPython.display import Image\n",
    "from IPython.display import IFrame\n",
    "import ipywidgets as widgets\n",
    "import IPython"
   ]
  },
  {
   "cell_type": "markdown",
   "metadata": {},
   "source": [
    "# Pythagorean Theorem\n",
    "\n",
    "##### Grade 8 curriculum\n",
    "This jupyter notebook will cover the pythagorean theorem, including its applications and a proof of the theorem.\n",
    "\n",
    "**Note:** You should have a solid understanding of square roots and squaring numbers before moving on to this notebook. This notebook assumes you know these concepts well, though it also gives more practice of these concepts.\n",
    "\n",
    "## Introduction\n",
    "\n",
    "Say you have 2 sides of a right angle triangle and are trying to figure out the third. How can we do this? Thankfully that's where the pythagorean theorem comes in! "
   ]
  },
  {
   "cell_type": "markdown",
   "metadata": {},
   "source": [
    "<img style=\"float: right;\" src=\"images/pythagoreanTriangle.png\" width=\"50%\" height=\"700\">\n",
    "\n",
    "### Terminology\n",
    "\n",
    "**Hypotenuse:** the longest side of a triangle\n",
    "\n",
    "**legs:** the other two sides of a triangle that are not the hypotenuse\n",
    "\n",
    "### What is this theorem?\n",
    "\n",
    "When you draw a right angle triangle with a square on each side like this diagram, there's a relationship between the areas of the squares. You should notice that the areas of the squares on the two legs added together are equal to the area of the largest square on the hypotenuse. In this example, the area of the red square is $9 \\text{ cm}^2$, the area of the blue square is $16 \\text{ cm}^2$, and the area of the yellow triangle is $25 \\text{ cm}^2$. \n",
    "\n",
    "$$\\text{Notice that } \\color{red}{9 \\text{ cm}^2} + \\color{blue}{16 \\text{ cm}^2} = \\color{yellow}{25 \\text{ cm}^2}$$\n",
    "$$\\text{But } \\color{red}{3 \\text{ cm}} + \\color{blue}{4 \\text{ cm}} ≠ \\color{yellow}{5 \\text{ cm}}$$\n",
    "This relationship actually works for all right angle triangles!\n",
    "\n",
    "**The pythagoream theorem is $a^2 + b^2 = c^2$ where $a$ and $b$ are the legs and $c$ is the hypotenuse. It does not matter which leg is $a$ or $b$**.\n",
    "\n",
    "**Fact:** The Pythagorean Theorem is named for the Greek mathematician, Pythagoras.\n",
    "\n",
    "*Pythagorean Triples are sets of three numbers that create a right angle triangle like this one so 3,4,5 is a pythagorean triple*\n",
    "\n",
    "## Example 1"
   ]
  },
  {
   "cell_type": "markdown",
   "metadata": {},
   "source": [
    "<img style=\"float: left;\" src=\"images/PythagoreanTriangle2.png\" width=\"45%\" height=\"auto\">\n",
    "\n",
    "##### Question 1: What are the lengths of the legs of the triangle on the left?\n",
    "\n",
    "The side length of a square is the square root of its area. <br>\n",
    "The side length of the red square is $\\sqrt{4 \\text{ m}^2} = 2 \\text{ m}$. <br>\n",
    "The side length of the blue square is $\\sqrt{9 \\text{ m}^2} = 3 \\text{ m}$. <br>\n",
    "Therefore the lengths of the legs are $2 \\text{ m}$ and $3 \\text{ m}$.\n",
    "\n",
    "##### Question 2: What is the area of the yellow square in the diagram to the left?\n",
    "\n",
    "Let's use the pythagorean theorem. The area of the two smaller squares added together is equal to the area of the larger square. <br>\n",
    "The area of the red square is $ 4 \\text{ m}^2$ and the area of the blue square is $ 9 \\text{ m}^2$. <br>\n",
    "Now we add them together: $ 4 \\text{ m}^2 + 9 \\text{ m}^2 = 13 \\text{ m}^2$. <br>\n",
    "The area of the yellow square is $ 13 \\text{ m}^2$.\n",
    "\n",
    "##### Question 3: What is the length of the hypotenuse of the triangle to the left?\n",
    "\n",
    "Now we know the area of the large yellow square is $ 13 \\text{ m}^2$, so the side length of the square is $\\sqrt{13} \\text{ m}$. <br>\n",
    "The hypotenuse of the triangle has the same length as the length of the side of the yellow square. <br>\n",
    "Therefore the length of the hypothenuse is $\\sqrt{13} \\text{ m}$."
   ]
  },
  {
   "cell_type": "markdown",
   "metadata": {},
   "source": [
    "## Proof\n",
    "\n",
    "Not convinced that this relationship works for all right angle triangles? Look at the visual proof from mathisfun.com."
   ]
  },
  {
   "cell_type": "code",
   "execution_count": 9,
   "metadata": {},
   "outputs": [
    {
     "data": {
      "text/html": [
       "\n",
       "        <iframe\n",
       "            width=\"560\"\n",
       "            height=\"315\"\n",
       "            src=\"https://www.youtube.com/embed/_87RbSoELW8?rel=0\"\n",
       "            frameborder=\"0\"\n",
       "            allowfullscreen\n",
       "        ></iframe>\n",
       "        "
      ],
      "text/plain": [
       "<IPython.lib.display.YouTubeVideo at 0x7facb883d160>"
      ]
     },
     "execution_count": 9,
     "metadata": {},
     "output_type": "execute_result"
    }
   ],
   "source": [
    "from IPython.display import YouTubeVideo\n",
    "YouTubeVideo('_87RbSoELW8?rel=0', width=\"560\", height=\"315\")"
   ]
  },
  {
   "cell_type": "markdown",
   "metadata": {},
   "source": [
    "### Algebraic proof\n",
    "\n",
    "We will work through the proof of a² + b² = c² together. Lets look at the diagram below.\n",
    "\n",
    "<img style=\"float: center;\" src=\"images/PythagoreanProof.png\" width=\"30%\" height=\"auto\">\n",
    "\n",
    "You can see the 4 identical right angle triangles within a square, and the sides of each triangle are labelled just like our first example. a = 3, b = 4, and c = 5.\n",
    "\n",
    "#### Area of the large square\n",
    "\n",
    "The area of the large square is its side length squared, which is $(3 + 4)^2 = 7^2 = 49.$\n",
    "\n",
    "#### Area of the pieces\n",
    "\n",
    "The area of the smaller yellow square in the middle is $ 5^2 = 25.$ <br>\n",
    "The area of one blue triangle is $\\frac{3 \\times 4}{2}$ and since there's 4 of them, the area of all 4 triangles is \n",
    "$$\\frac{4 \\times (3 \\times 4)}{2} = \\frac{4 \\times 12}{2} = \\frac{48}{2} = 24.$$ <br>\n",
    "Now we add those together to get $ 25 + 24 = 49.$\n",
    "\n",
    "#### Areas are equal\n",
    "\n",
    "You can see that $ 49 = 49. $ This is because the area of the large square takes up the exact same space as the ares of all 4 blue triangles and the yellow square.\n",
    "\n",
    "This doesn't just work for these numbers though, it works for any numbers that create right angle triangles! If you want to see the full proof without numbers, you can check it out at [mathisfun.com](https://www.mathsisfun.com/geometry/pythagorean-theorem-proof.html)."
   ]
  },
  {
   "cell_type": "markdown",
   "metadata": {},
   "source": [
    "## Example 2\n",
    "\n",
    "Let's go through an example of a question without the squares. What is the length of the hypotenuse of the triangle below?\n",
    "\n",
    "<img style=\"float: center;\" src=\"images/PythagoreanTriangle4.png\" width=\"40%\" height=\"auto\">\n",
    "\n",
    "Recall the pythagorean theorem: $a^2 + b^2 = c^2$. <br>\n",
    "Now let's put the values we know into the theorem. The length of the hypotenuse is the value of c. \n",
    "$$\\begin{align*}\n",
    "(2 \\text{ cm})^2 + (5 \\text{ cm})^2 & = c^2 \\\\\n",
    "4 \\text{ cm}^2 + 25 \\text{ cm}^2 & = c^2 \\\\\n",
    "29 \\text{ cm}^2 & = c^2 \\\\\n",
    "\\sqrt{29 \\text { cm}^2} & = \\sqrt{c^2} \\\\\n",
    "\\sqrt{29} \\text{ cm} & = c \\\\\n",
    "\\end{align*}$$\n",
    "\n",
    "Let's approximate the answer to one decimal place using a calulator. $\\sqrt{29} \\text{ cm} = 5.4 \\text{ cm}$. <br>\n",
    "The length of the hypotenuse is $\\sqrt{29} \\text{ cm}$ or approximately $5.4 \\text{ cm}$."
   ]
  },
  {
   "cell_type": "markdown",
   "metadata": {},
   "source": [
    "**********\n",
    "\n",
    "## Practice \n",
    "\n",
    "#### Question 1"
   ]
  },
  {
   "cell_type": "code",
   "execution_count": 10,
   "metadata": {},
   "outputs": [
    {
     "data": {
      "image/png": "[encoded data removed]",
      "text/plain": [
       "<IPython.core.display.Image object>"
      ]
     },
     "execution_count": 10,
     "metadata": {
      "image/png": {
       "width": 300
      }
     },
     "output_type": "execute_result"
    }
   ],
   "source": [
    "Image('images/PythagoreanTriangle5.png',width=300)"
   ]
  },
  {
   "cell_type": "code",
   "execution_count": 11,
   "metadata": {},
   "outputs": [
    {
     "name": "stdout",
     "output_type": "stream",
     "text": [
      "What is the length of the hypotenuse of the triangle above?\n",
      "Round to one decimal place when necessary.\n"
     ]
    },
    {
     "data": {
      "application/vnd.jupyter.widget-view+json": {
       "model_id": "a1f3deda388047ab929f0f02bc94a16d",
       "version_major": 2,
       "version_minor": 0
      },
      "text/plain": [
       "RadioButtons(description='Hypotenuse', options=('9 m', '6 m', '6.4 m', '5.4 m'), value=None)"
      ]
     },
     "metadata": {},
     "output_type": "display_data"
    }
   ],
   "source": [
    "answer1 = widgets.RadioButtons(options=['9 m', '6 m','6.4 m','5.4 m'],\n",
    "                              value=None, description= 'Hypotenuse')\n",
    "\n",
    "def display1():\n",
    "    IPython.display.clear_output()\n",
    "    print(\"What is the length of the hypotenuse of the triangle above?\")\n",
    "    print(\"Round to one decimal place when necessary.\")\n",
    "    IPython.display.display(answer1)\n",
    "\n",
    "def check1(a):\n",
    "    display1()\n",
    "    if answer1.value == '6.4 m':\n",
    "        print(\"Correct! Great job! The theorem properly filled out looks like this: 16 m² + 25 m² = 41 m²\")\n",
    "    else:\n",
    "        print(\"Sorry, that's not right, try again. Pythagorean Theorem is a² + b² = c².\")\n",
    "\n",
    "display1()\n",
    "answer1.observe(check1, 'value')"
   ]
  },
  {
   "cell_type": "markdown",
   "metadata": {},
   "source": [
    "#### Question 2\n",
    "\n",
    "Let's have a more practical problem for the pythagorean theorem. Say you have a table that's shortest side is 3.10 m long. If the table is held on an angle, can it fit through this door frame below? Round to 2 decimal places."
   ]
  },
  {
   "cell_type": "code",
   "execution_count": 12,
   "metadata": {},
   "outputs": [
    {
     "data": {
      "image/png": "[encoded data removed]",
      "text/plain": [
       "<IPython.core.display.Image object>"
      ]
     },
     "execution_count": 12,
     "metadata": {
      "image/png": {
       "width": 200
      }
     },
     "output_type": "execute_result"
    }
   ],
   "source": [
    "Image('images/PythagoreanTriangleDoor.png',width=200)"
   ]
  },
  {
   "cell_type": "code",
   "execution_count": 13,
   "metadata": {},
   "outputs": [
    {
     "name": "stdout",
     "output_type": "stream",
     "text": [
      "What is the diagonal of the door?\n",
      "Round to two decimal places when necessary.\n"
     ]
    },
    {
     "data": {
      "application/vnd.jupyter.widget-view+json": {
       "model_id": "d06b67444c71482abe15d4fc4c97a6eb",
       "version_major": 2,
       "version_minor": 0
      },
      "text/plain": [
       "RadioButtons(description='Diagonal', options=('2.00 m', '2.83 m', '3.16 m', '4.03 m'), value=None)"
      ]
     },
     "metadata": {},
     "output_type": "display_data"
    }
   ],
   "source": [
    "answer3 = widgets.RadioButtons(options=['2.00 m', '2.83 m','3.16 m','4.03 m'],\n",
    "                              value=None, description= 'Diagonal')\n",
    "    \n",
    "def display3():\n",
    "    IPython.display.clear_output()\n",
    "    print(\"What is the diagonal of the door?\")\n",
    "    print(\"Round to two decimal places when necessary.\")\n",
    "    IPython.display.display(answer3)\n",
    "\n",
    "def check3(a):\n",
    "    display3()\n",
    "    if answer3.value == '3.16 m':\n",
    "        print(\"Correct! Great job!\")\n",
    "    else:\n",
    "        print(\"Sorry, that's not right, try again. Pythagorean Theorem is a² + b² = c².\")\n",
    "\n",
    "display3()\n",
    "answer3.observe(check3, 'value')"
   ]
  },
  {
   "cell_type": "code",
   "execution_count": 14,
   "metadata": {},
   "outputs": [
    {
     "name": "stdout",
     "output_type": "stream",
     "text": [
      "Is the length of the table smaller than the diagonal of the door?\n",
      "Round to two decimal places when necessary.\n"
     ]
    },
    {
     "data": {
      "application/vnd.jupyter.widget-view+json": {
       "model_id": "648851716b104bb281f0062f5663f6a1",
       "version_major": 2,
       "version_minor": 0
      },
      "text/plain": [
       "RadioButtons(options=('Yes, the table will fit.', 'No, the table will not fit'), value=None)"
      ]
     },
     "metadata": {},
     "output_type": "display_data"
    }
   ],
   "source": [
    "answer2 = widgets.RadioButtons(options=['Yes, the table will fit.', 'No, the table will not fit'],\n",
    "                              value=None)\n",
    "def display2():\n",
    "    IPython.display.clear_output()\n",
    "    print(\"Is the length of the table smaller than the diagonal of the door?\")\n",
    "    print(\"Round to two decimal places when necessary.\")\n",
    "    IPython.display.display(answer2) \n",
    "    \n",
    "def check2(a):\n",
    "    display2()\n",
    "    if answer2.value == 'Yes, the table will fit.':\n",
    "        print(\"That's right! The table will fit through the door on an angle.\")\n",
    "    else:\n",
    "        print(\"Sorry, that's not right, the table will be able to fit in the door because 3.1 m is less than 3.16 m.\")\n",
    "            \n",
    "display2()\n",
    "answer2.observe(check2, 'value')"
   ]
  },
  {
   "cell_type": "markdown",
   "metadata": {},
   "source": [
    "What else would knowing how to find the hypotenuse be helpful for?"
   ]
  },
  {
   "cell_type": "markdown",
   "metadata": {},
   "source": [
    "## Extend Your Knowledge\n",
    "\n",
    "We can use the pythagorean theorem for more than just finding the length of the hypotenuse given the two legs. We can find the length of one leg given the other leg and the hypotenuse.\n",
    "\n",
    "### Example\n",
    "\n",
    "Given this right angled triangle below, what is the missing side length?"
   ]
  },
  {
   "cell_type": "code",
   "execution_count": 15,
   "metadata": {},
   "outputs": [
    {
     "data": {
      "image/png": "[encoded data removed]",
      "text/plain": [
       "<IPython.core.display.Image object>"
      ]
     },
     "execution_count": 15,
     "metadata": {
      "image/png": {
       "width": 200
      }
     },
     "output_type": "execute_result"
    }
   ],
   "source": [
    "Image('images/PythagoreanTriangle6.png',width=200)"
   ]
  },
  {
   "cell_type": "markdown",
   "metadata": {},
   "source": [
    "Let's start by filling in the information we know into the pythagorean theorem.\n",
    "$$\\begin{align*}\n",
    "a^2 + b^2 & = c^2 \\\\\n",
    "a^2 + (\\sqrt{20 \\text{ units}})^2 & = (6 \\text{ units})^2 \\\\\n",
    "\\end{align*}$$\n",
    "\n",
    "Now let's solve this equation for the missing variable. In this example, we will solve for $a$.\n",
    "$$\\begin{align*}\n",
    "a^2 + (\\sqrt{20 \\text{ units}})^2 & = (6 \\text{ units})^2 \\\\\n",
    "a^2 + 20 \\text{ units}^2 & = 36 \\text{ units}^2 \\tag{apply the power of 2 to the bases} \\\\\n",
    "a^2 + 20 \\text{ units}^2 - 20 \\text{ units}^2 & = 36 \\text{ units}^2 - 20 \\text{ units}^2 \\tag{subtract 20 units² from both sides} \\\\\n",
    "\\sqrt{a^2} & = \\sqrt{16 \\text{ units}^2} \\tag{square root both sides} \\\\\n",
    "a & = 4 \\text{ units}\n",
    "\\end{align*}$$"
   ]
  },
  {
   "cell_type": "markdown",
   "metadata": {},
   "source": [
    "## Practice\n",
    "\n",
    "Now you try to calculate the length of the missing leg."
   ]
  },
  {
   "cell_type": "code",
   "execution_count": 16,
   "metadata": {},
   "outputs": [
    {
     "data": {
      "image/png": "[encoded data removed]",
      "text/plain": [
       "<IPython.core.display.Image object>"
      ]
     },
     "execution_count": 16,
     "metadata": {
      "image/png": {
       "width": 200
      }
     },
     "output_type": "execute_result"
    }
   ],
   "source": [
    "Image('images/PythagoreanTriangle8.png',width=200)"
   ]
  },
  {
   "cell_type": "code",
   "execution_count": 17,
   "metadata": {},
   "outputs": [
    {
     "name": "stdout",
     "output_type": "stream",
     "text": [
      "What is the length of the leg labelled a above?\n",
      "Round to one decimal place when necessary.\n"
     ]
    },
    {
     "data": {
      "application/vnd.jupyter.widget-view+json": {
       "model_id": "2e76d92291df4e27b1175b8f01bc4e4a",
       "version_major": 2,
       "version_minor": 0
      },
      "text/plain": [
       "RadioButtons(description='Side Length', options=('8 m', '9 m', '8.3 m', '7.8 m'), value=None)"
      ]
     },
     "metadata": {},
     "output_type": "display_data"
    }
   ],
   "source": [
    "answer4 = widgets.RadioButtons(options=['8 m', '9 m','8.3 m','7.8 m'],\n",
    "                              value=None, description= 'Side Length')\n",
    "\n",
    "def display4():\n",
    "    IPython.display.clear_output()\n",
    "    print(\"What is the length of the leg labelled a above?\")\n",
    "    print(\"Round to one decimal place when necessary.\")\n",
    "    IPython.display.display(answer4)\n",
    "\n",
    "def check4(a):\n",
    "    display4()\n",
    "    if answer4.value == '8 m':\n",
    "        print(\"Correct! If we divide each side length by 2, you might notice that this triangle is the same one \\n as the very first triangle we looked at in this notebook!\")\n",
    "    else:\n",
    "        print(\"Sorry, that's not right, try again. Pythagorean Theorem is a² + b² = c². We are looking for a.\")\n",
    "\n",
    "display4()\n",
    "answer4.observe(check4, 'value')"
   ]
  },
  {
   "cell_type": "markdown",
   "metadata": {},
   "source": [
    "## Checking Right angles\n",
    "\n",
    "We can check if a triangle is a right angle triangle by knowing if its sides fit the pythagorean theorem. If they don't then it isn't a right angle triangle. Lets look at an acute and an obtuse triangle and compare their sides in the pythagorean theorem. You know, just to make sure."
   ]
  },
  {
   "cell_type": "markdown",
   "metadata": {},
   "source": [
    "Look at the three triangles below. One is a right angle triangle, one is an acute tringle, and one is an obtuse triangle. Fill in the table below by clicking on the box you want to fill (where it's written 'nan') and typing in your answer. The longest side is side c."
   ]
  },
  {
   "cell_type": "code",
   "execution_count": 18,
   "metadata": {},
   "outputs": [
    {
     "data": {
      "image/png": "[encoded data removed]",
      "text/plain": [
       "<IPython.core.display.Image object>"
      ]
     },
     "execution_count": 18,
     "metadata": {
      "image/png": {
       "height": 300,
       "width": 600
      }
     },
     "output_type": "execute_result"
    }
   ],
   "source": [
    "Image('images/ThreeTriangles.png',width=600,height=300)"
   ]
  },
  {
   "cell_type": "code",
   "execution_count": 19,
   "metadata": {},
   "outputs": [
    {
     "data": {
      "application/vnd.jupyter.widget-view+json": {
       "model_id": "42beef8a1bfd43879065daf1acb80e5a",
       "version_major": 2,
       "version_minor": 0
      },
      "text/plain": [
       "QgridWidget(grid_options={'fullWidthRows': True, 'syncColumnCellResize': True, 'forceFitColumns': True, 'defau…"
      ]
     },
     "metadata": {},
     "output_type": "display_data"
    }
   ],
   "source": [
    "import pandas as pd\n",
    "import qgrid\n",
    "table = pd.DataFrame(index=pd.Series(['Right', 'Acute', 'Obtuse']), columns=pd.Series(['a²', 'b²','a² + b²', 'c²']))\n",
    "table_widget = qgrid.QgridWidget(df =table, show_toolbar=False)\n",
    "table_widget"
   ]
  },
  {
   "cell_type": "code",
   "execution_count": 20,
   "metadata": {},
   "outputs": [
    {
     "name": "stdout",
     "output_type": "stream",
     "text": [
      "Does a² + b² = c² for all triangles?\n"
     ]
    },
    {
     "data": {
      "application/vnd.jupyter.widget-view+json": {
       "model_id": "5fe28387d81341be8267e16421b98a56",
       "version_major": 2,
       "version_minor": 0
      },
      "text/plain": [
       "RadioButtons(options=('Yes', 'No'), value=None)"
      ]
     },
     "metadata": {},
     "output_type": "display_data"
    }
   ],
   "source": [
    "answer5 = widgets.RadioButtons(options=['Yes','No'],\n",
    "                              value=None)\n",
    "\n",
    "def check5(a):\n",
    "    IPython.display.clear_output()\n",
    "    print(\"Does a² + b² = c² for all triangles?\")\n",
    "    IPython.display.display(answer5)\n",
    "    if answer5.value == 'No':\n",
    "        print(\"That's right! The pythagorean theorem only works for right angle triangles.\")\n",
    "    else:\n",
    "        print(\"Actually, the pythagorean theorem only works for right angle triangles.\")\n",
    "    print(\"Now let's use this knowledge to check if triangles have a right angle or not!\")\n",
    "\n",
    "print(\"Does a² + b² = c² for all triangles?\")\n",
    "IPython.display.display(answer5)\n",
    "answer5.observe(check5, 'value')"
   ]
  },
  {
   "cell_type": "markdown",
   "metadata": {},
   "source": [
    "## Example\n",
    "\n",
    "Let's go through an example together. Here is a triangle with all three sides labelled. Is this a right angle triangle?"
   ]
  },
  {
   "cell_type": "code",
   "execution_count": 21,
   "metadata": {},
   "outputs": [
    {
     "data": {
      "image/png": "[encoded data removed]",
      "text/plain": [
       "<IPython.core.display.Image object>"
      ]
     },
     "execution_count": 21,
     "metadata": {
      "image/png": {
       "height": 300,
       "width": 300
      }
     },
     "output_type": "execute_result"
    }
   ],
   "source": [
    "Image('images/angle2.png',width=300,height=300)"
   ]
  },
  {
   "cell_type": "markdown",
   "metadata": {},
   "source": [
    "Remember, the longest side is side c. Let's fill in the pythagorean theorem and see if the left side equals the right. <br>\n",
    "Since c is the largest side, a and b will be the legs.\n",
    "$$\\begin{align*}\n",
    "\\text{Let's start with the left side:} \\\\\n",
    "a & = 7 \\text{ m} \\\\\n",
    "a^2 & = 49 \\text{ m}^2 \\\\\n",
    "b & = 10 \\text{ m} \\\\\n",
    "b^2& = 100 \\text{ m}^2 \\\\\n",
    "\\text{Now let's add them together:} \\\\\n",
    "a^2 + b^2 & = 49 \\text{ m}^2 + 100 \\text{ m}^2 \\\\\n",
    "a^2 + b^2 & = 149 \\text{ m}^2 \\\\\n",
    "\\end{align*}$$\n",
    "**The left side equals 149 m²** <br>\n",
    "$$\\begin{align*}\n",
    "\\text{And now the right side:} \\\\\n",
    "c & = 13 \\text{ m} \\\\\n",
    "c^2 & = 169 \\text{ m}^2 \\\\\n",
    "\\end{align*}$$\n",
    "**The right side equals 169 m²** <br>\n",
    "\n",
    "149 m² does not equal 169 m² therefore this triangle is not a right angle triangle."
   ]
  },
  {
   "cell_type": "markdown",
   "metadata": {},
   "source": [
    "### Practice\n",
    "\n",
    "Now it's your turn to check if this triangle below is a right angle triangle."
   ]
  },
  {
   "cell_type": "code",
   "execution_count": 22,
   "metadata": {},
   "outputs": [
    {
     "data": {
      "image/png": "[encoded data removed]",
      "text/plain": [
       "<IPython.core.display.Image object>"
      ]
     },
     "execution_count": 22,
     "metadata": {
      "image/png": {
       "height": 300,
       "width": 200
      }
     },
     "output_type": "execute_result"
    }
   ],
   "source": [
    "Image('images/angle1.png',width=200,height=300)"
   ]
  },
  {
   "cell_type": "code",
   "execution_count": 23,
   "metadata": {},
   "outputs": [
    {
     "name": "stdout",
     "output_type": "stream",
     "text": [
      "What is a² + b²?\n",
      "Type your answer below, and don't forget units! Eg: write 50 cm^2 or 50 units^2\n"
     ]
    },
    {
     "data": {
      "application/vnd.jupyter.widget-view+json": {
       "model_id": "98da9978c0d148af91cdaf4b95117330",
       "version_major": 2,
       "version_minor": 0
      },
      "text/plain": [
       "Text(value='', description='Left side', placeholder='Your answer here')"
      ]
     },
     "metadata": {},
     "output_type": "display_data"
    },
    {
     "data": {
      "application/vnd.jupyter.widget-view+json": {
       "model_id": "78243d3559034170b8ae3f3472960b56",
       "version_major": 2,
       "version_minor": 0
      },
      "text/plain": [
       "Button(button_style='success', description='Submit', style=ButtonStyle())"
      ]
     },
     "metadata": {},
     "output_type": "display_data"
    }
   ],
   "source": [
    "submit1 = widgets.Button(description='Submit', button_style='success')\n",
    "answer6 = widgets.Text(value=None, placeholder='Your answer here', description='Left side')\n",
    "\n",
    "def display6():\n",
    "    IPython.display.clear_output()\n",
    "    print(\"What is a² + b²?\")\n",
    "    print(\"Type your answer below, and don't forget units! Eg: write 50 cm^2 or 50 units^2\")\n",
    "    IPython.display.display(answer6, submit1)\n",
    "    submit1.on_click(check6)\n",
    "    \n",
    "def check6(a):\n",
    "    display6()\n",
    "    if answer6.value == '169 units^2':\n",
    "        print(\"That's right! Now let's move on to the right side.\")\n",
    "    else:\n",
    "        if answer6.value == '169' or answer6.value == '169 units':\n",
    "            print(\"Don't forget your units!\")\n",
    "        else:\n",
    "            print(\"Sorry, that's not right, try again before moving on to the right side.\")\n",
    "            \n",
    "display6()"
   ]
  },
  {
   "cell_type": "code",
   "execution_count": 24,
   "metadata": {},
   "outputs": [
    {
     "name": "stdout",
     "output_type": "stream",
     "text": [
      "What is c²?\n",
      "Type your answer below, and don't forget units! Eg: write 50 cm^2 or 50 units^2\n"
     ]
    },
    {
     "data": {
      "application/vnd.jupyter.widget-view+json": {
       "model_id": "15af08b0646a433a93af71800f248b03",
       "version_major": 2,
       "version_minor": 0
      },
      "text/plain": [
       "Text(value='', description='Right side', placeholder='Your answer here')"
      ]
     },
     "metadata": {},
     "output_type": "display_data"
    },
    {
     "data": {
      "application/vnd.jupyter.widget-view+json": {
       "model_id": "1d8d9f94071b498085e00fb800695ee7",
       "version_major": 2,
       "version_minor": 0
      },
      "text/plain": [
       "Button(button_style='success', description='Submit', style=ButtonStyle())"
      ]
     },
     "metadata": {},
     "output_type": "display_data"
    }
   ],
   "source": [
    "submit2 = widgets.Button(description='Submit', button_style='success')\n",
    "answer7 = widgets.Text(value=None, placeholder='Your answer here', description='Right side')\n",
    "\n",
    "def display7():\n",
    "    IPython.display.clear_output()\n",
    "    print(\"What is c²?\")\n",
    "    print(\"Type your answer below, and don't forget units! Eg: write 50 cm^2 or 50 units^2\")\n",
    "    IPython.display.display(answer7, submit2)\n",
    "    submit2.on_click(check7)\n",
    "    \n",
    "def check7(a):\n",
    "    display7()\n",
    "    if answer7.value == '169 units^2':\n",
    "        print(\"That's correct! Great job!\")\n",
    "    elif answer7.value == '169' or answer7.value == '169 units':\n",
    "        print(\"Don't forget your units!\")\n",
    "    else:\n",
    "        print(\"Sorry, try again.\")\n",
    "            \n",
    "display7()"
   ]
  },
  {
   "cell_type": "code",
   "execution_count": 25,
   "metadata": {},
   "outputs": [
    {
     "name": "stdout",
     "output_type": "stream",
     "text": [
      "Is this triangle a right angle triangle?\n"
     ]
    },
    {
     "data": {
      "application/vnd.jupyter.widget-view+json": {
       "model_id": "ef9c76c7d69847238a8d93775b66ae72",
       "version_major": 2,
       "version_minor": 0
      },
      "text/plain": [
       "RadioButtons(options=('Yes', 'No'), value=None)"
      ]
     },
     "metadata": {},
     "output_type": "display_data"
    }
   ],
   "source": [
    "answer8 = widgets.RadioButtons(options=['Yes','No'],\n",
    "                              value=None)\n",
    "\n",
    "def check8(a):\n",
    "    IPython.display.clear_output()\n",
    "    print(\"Is this triangle a right angle triangle?\")\n",
    "    IPython.display.display(answer8)\n",
    "    if answer8.value == 'Yes':\n",
    "        print(\"That's right! This is a right angle triangle\")\n",
    "    else:\n",
    "        print(\"Actually, this triangle is a right angle triangle.\")\n",
    "\n",
    "print(\"Is this triangle a right angle triangle?\")\n",
    "IPython.display.display(answer8)\n",
    "answer8.observe(check8, 'value')"
   ]
  },
  {
   "cell_type": "markdown",
   "metadata": {},
   "source": [
    "### Word question\n",
    "\n",
    "![frame](https://images.freeimages.com/images/premium/large-thumbs/5963/59633908-comic-cartoon-picture-frame.jpg)\n",
    "\n",
    "Bailey has four pieces of wood. Two of them are 3 inches long. The other two are 5 inches long. <br>\n",
    "Bailey makes a rectangular picture frame using these pieces. Then the diagonal is measured to be 7 inches long. <br>"
   ]
  },
  {
   "cell_type": "code",
   "execution_count": 26,
   "metadata": {},
   "outputs": [
    {
     "name": "stdout",
     "output_type": "stream",
     "text": [
      "Does the picture frame have a right angle corner?\n"
     ]
    },
    {
     "data": {
      "application/vnd.jupyter.widget-view+json": {
       "model_id": "9654a13337b043928348afed740cfd5a",
       "version_major": 2,
       "version_minor": 0
      },
      "text/plain": [
       "RadioButtons(options=('Yes', 'No'), value=None)"
      ]
     },
     "metadata": {},
     "output_type": "display_data"
    }
   ],
   "source": [
    "answer9 = widgets.RadioButtons(options=['Yes','No'],\n",
    "                              value=None)\n",
    "\n",
    "def check9(a):\n",
    "    IPython.display.clear_output()\n",
    "    print(\"Does the picture frame have a right angle corner?\")\n",
    "    IPython.display.display(answer9)\n",
    "    if answer9.value == 'No':\n",
    "        print(\"That's right! The frame does not have a right angle corner.\")\n",
    "    else:\n",
    "        print(\"Actually, the frame does not have a right angle corner.\")\n",
    "\n",
    "print(\"Does the picture frame have a right angle corner?\")\n",
    "IPython.display.display(answer9)\n",
    "answer9.observe(check9, 'value')"
   ]
  },
  {
   "cell_type": "markdown",
   "metadata": {},
   "source": [
    "## What did we learn?\n",
    "\n",
    "Lets summarize what we have learned in this notebook:\n",
    "* The pythagorean theorem states: a² + b² = c²\n",
    "* This theorem has been proven multiple ways\n",
    "* This theorem can be used for multiple purposes\n",
    "    * Find the length of the hypotenuse\n",
    "    * Find the length of a side\n",
    "    * Confirm if there's a right angle\n",
    "* Lots of situations in life need the pythagorean theorem\n",
    "\n",
    "This math concept will be used for many more years in school. Make sure to do lots of practice, even beyond this notebook so that you understand the pythagorean theorem well. "
   ]
  },
  {
   "cell_type": "markdown",
   "metadata": {},
   "source": [
    "![logo](https://callysto.ca/wp-content/uploads/2018/07/Callysto-Notebook-Banner_Bottom_07.30.18.jpg)"
   ]
  }
 ],
 "metadata": {
  "kernelspec": {
   "display_name": "Python 3",
   "language": "python",
   "name": "python3"
  },
  "language_info": {
   "codemirror_mode": {
    "name": "ipython",
    "version": 3
   },
   "file_extension": ".py",
   "mimetype": "text/x-python",
   "name": "python",
   "nbconvert_exporter": "python",
   "pygments_lexer": "ipython3",
   "version": "3.6.8"
  }
 },
 "nbformat": 4,
 "nbformat_minor": 2
}
