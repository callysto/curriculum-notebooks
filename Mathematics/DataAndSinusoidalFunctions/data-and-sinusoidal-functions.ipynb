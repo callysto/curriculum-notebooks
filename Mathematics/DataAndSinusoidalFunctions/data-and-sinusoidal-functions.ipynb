{
 "cells": [
  {
   "cell_type": "markdown",
   "metadata": {},
   "source": [
    "![Callysto.ca Banner](https://github.com/callysto/curriculum-notebooks/blob/master/callysto-notebook-banner-top.jpg?raw=true)\n",
    "\n",
    "<a href=\"https://hub.callysto.ca/jupyter/hub/user-redirect/git-pull?repo=https%3A%2F%2Fgithub.com%2Fcallysto%2Fcurriculum-notebooks&branch=master&subPath=Mathematics/DataAndSinusoidalFunctions/data-and-sinusoidal-functions.ipynb&depth=1\" target=\"_parent\"><img src=\"https://raw.githubusercontent.com/callysto/curriculum-notebooks/master/open-in-callysto-button.svg?sanitize=true\" width=\"123\" height=\"24\" alt=\"Open in Callysto\"/></a>"
   ]
  },
  {
   "cell_type": "markdown",
   "metadata": {},
   "source": [
    "# Representing Data, Using Sinusoidal Function, to Solve Problems\n",
    "\n",
    "## Overview\n",
    "\n",
    "### Lesson outcomes\n",
    "- Graph data and determine the sinusoidal functions that best approximate the data.\n",
    "- Interpret the graph of a sinusoidal function that models a situation, and explain the reasoning.\n",
    "\n",
    "## Introduction\n",
    "\n",
    "In Mathematics, given a set of data points, it is possible to construct a curve, or mathematical function, that has the best fit to those points. This process is called curve fitting.\n",
    "\n",
    "In the case that the data are somewhat cyclic, it is possible to sketch a curve of best fit that somehow resembles a sinusoidal function.  The fitting sinusoidal curve is found by determining the specific parameters which makes the curve match your data as closely as possible.\n",
    "\n",
    "To better understand what we mean by cyclic data, have a look at a swinging pendulum:\n",
    "\n",
    "<img src=\"https://upload.wikimedia.org/wikipedia/commons/6/6f/Pendulum-no-text.gif?20201216081225\" style=\"width: 400px;\"/>\n",
    "\n",
    "[Wikimedia - Pendulumn-no-text.gif](https://commons.wikimedia.org/wiki/File:Pendulum-no-text.gif)\n",
    "\n",
    "Pendulum motion can be described with the formula:\n",
    "\n",
    "$f(t) = \\theta_0 \\cos\\left(\\sqrt{\\frac{g}{l}}t\\right)$\n",
    "\n",
    "#### Example\n",
    "\n",
    "Suppose we collected data about the height of the pendulum at different times:\n",
    "\n",
    "Time (s) | Height (m)\n",
    "--- | ---\n",
    " 1| 9.7\n",
    "2 | 13.4\n",
    "3 | 17\n",
    "4 | 14.1\n",
    "5 | 9.3\n",
    "6 | 13.6\n",
    "7 | 16.8\n",
    "8 | 13.8\n",
    "9 | 9.2\n",
    "10 | 13.4\n",
    "\n",
    "The following plot shows the collected data."
   ]
  },
  {
   "cell_type": "code",
   "execution_count": null,
   "metadata": {},
   "outputs": [],
   "source": [
    "import numpy as np\n",
    "import matplotlib.pyplot as plt\n",
    "\n",
    "time = np.linspace(1,10,10)\n",
    "height= np.array([9.7, 13.4, 17, 14.1, 9.3, 13.6, 16.8, 13.8, 9.2, 13.4])\n",
    "plt.plot(time, height, 'o')\n",
    "plt.title(\"Height of the pendulum \")\n",
    "plt.xlabel(\"Time\")\n",
    "plt.ylabel(\"Height\")\n",
    "plt.show()"
   ]
  },
  {
   "cell_type": "markdown",
   "metadata": {},
   "source": [
    "The graph below shows the sinusoidal function that best fits the data we collected."
   ]
  },
  {
   "cell_type": "code",
   "execution_count": null,
   "metadata": {},
   "outputs": [],
   "source": [
    "x = np.linspace(1,10,40)\n",
    "y = 3.9*np.sin((2*np.pi)*(x+2)/4) + 13.1\n",
    "plt.plot(time, height, 'o', label = 'Height')\n",
    "plt.plot(x, y, label = 'Sinusoidal fit')\n",
    "plt.title(\"Height of the Pendulum \")\n",
    "plt.xlabel(\"Time\")\n",
    "plt.ylabel(\"Height\")\n",
    "plt.legend(bbox_to_anchor=(1.05, 1), loc=2, borderaxespad=0)\n",
    "plt.show()"
   ]
  },
  {
   "cell_type": "markdown",
   "metadata": {},
   "source": [
    "## The Sinusoidal Function\n",
    "\n",
    "Sinusoidal functions can all be expressed as a sine function, in general form:\n",
    "\n",
    "$y = a \\sin (bx-c)+d$\n",
    "\n",
    "- $a$ is the **amplitude**, the vertical footprint of a graph\n",
    "    - $a = \\frac{\\text{maximum value} - \\text{minimum value}}{2}$\n",
    "    - $a$ is always positive\n",
    "- $b$ is the **frequency**, the number of cycles that happen in $360^{\\circ}$ or $2\\pi$ radians\n",
    "    - it can be used to find the **period**: $T= \\frac{360^{\\circ}}{b} \\quad\\text{  or  } \\quad T= \\frac{2\\pi}{b}$\n",
    "    - the larger the frequency, the more condensed the waves will be\n",
    "- $c$ is the **phase shift**, the horizontal translation that has been applied to the graph of $y=\\sin(x)$\n",
    "    - if $c>0$ the graph is shifted to the right, otherwise it is shifted to the left\n",
    "- $d$ is the **midline**, showing how much the function has been translated vertically\n",
    "    - $d = \\frac{\\text{maximum value} + \\text{minimum value}}{2}$\n",
    "    - if $d>0$ the graph is shifted up, otherwise it is shifted down\n",
    "\n",
    "![labelled sine graph](images/sine_labelled.jpg)\n",
    "\n",
    "## Matching the equation of a sinusoidal function to the corresponding graph\n",
    "\n",
    "The most basic sinusoidal function is $y=\\sin(x)$ whose graph is"
   ]
  },
  {
   "cell_type": "code",
   "execution_count": null,
   "metadata": {},
   "outputs": [],
   "source": [
    "import plotly.graph_objs as go\n",
    "x = np.linspace(-5,10,100)\n",
    "y = np.sin(x)\n",
    "fig0 = go.Figure(data=[go.Scatter(x=x, y=y, marker={'color':'red'})], layout=go.Layout(title='y = sin(x)'))\n",
    "fig0.show()"
   ]
  },
  {
   "cell_type": "markdown",
   "metadata": {},
   "source": [
    "We know that $a$ changes the amplitude of the graph. The figure below shows sinusoidal functions with different amplitudes."
   ]
  },
  {
   "cell_type": "code",
   "execution_count": null,
   "metadata": {},
   "outputs": [],
   "source": [
    "x = np.linspace(-5,10,100)\n",
    "fig1 = go.Figure(layout=go.Layout(title='Changing Amplitude'))\n",
    "fig1.add_trace(go.Scatter(x=x, y=3*np.sin(x), name='y = 3sin(x)'))\n",
    "fig1.add_trace(go.Scatter(x=x, y=np.sin(x), name='y = sin(x)'))\n",
    "fig1.add_trace(go.Scatter(x=x, y=0.5*np.sin(x), name='y = 0.5sin(x)'))\n",
    "fig1.show()"
   ]
  },
  {
   "cell_type": "markdown",
   "metadata": {},
   "source": [
    "The value of $b$ *stretches* or *contracts* the graph because it changes the frequency."
   ]
  },
  {
   "cell_type": "code",
   "execution_count": null,
   "metadata": {},
   "outputs": [],
   "source": [
    "x = np.linspace(-5,10,100)\n",
    "fig2 = go.Figure(layout=go.Layout(title='Changing Frequency'))\n",
    "fig2.add_trace(go.Scatter(x=x, y=np.sin(x/2), name='y = sin(x/2)'))\n",
    "fig2.add_trace(go.Scatter(x=x, y=np.sin(x), name='y = sin(x)'))\n",
    "fig2.add_trace(go.Scatter(x=x, y=np.sin(2*x), name='y = sin(2x)'))\n",
    "fig2.show()"
   ]
  },
  {
   "cell_type": "markdown",
   "metadata": {},
   "source": [
    "The figure below describes how the value of $c$ translates the graph horizontally."
   ]
  },
  {
   "cell_type": "code",
   "execution_count": null,
   "metadata": {},
   "outputs": [],
   "source": [
    "x = np.linspace(-5,10,100)\n",
    "fig2 = go.Figure(layout=go.Layout(title='Horizontal Shift'))\n",
    "fig2.add_trace(go.Scatter(x=x, y=np.sin(x+np.pi/4), name='y = sin(x + π/4)'))\n",
    "fig2.add_trace(go.Scatter(x=x, y=np.sin(x), name='y = sin(x)'))\n",
    "fig2.add_trace(go.Scatter(x=x, y=np.sin(x-np.pi/4), name='y = sin(x - π/4)'))\n",
    "fig2.show()"
   ]
  },
  {
   "cell_type": "markdown",
   "metadata": {},
   "source": [
    "Finally, the figure below shows how $d$ shifts the graph vertically."
   ]
  },
  {
   "cell_type": "code",
   "execution_count": null,
   "metadata": {},
   "outputs": [],
   "source": [
    "x = np.linspace(-5,10,100)\n",
    "fig3 = go.Figure(layout=go.Layout(title='Vertical Shift'))\n",
    "fig3.add_trace(go.Scatter(x=x, y=np.sin(x)+2, name='y = sin(x) + 2'))\n",
    "fig3.add_trace(go.Scatter(x=x, y=np.sin(x), name='y = sin(x)'))\n",
    "fig3.add_trace(go.Scatter(x=x, y=np.sin(x)-2, name='y = sin(x) - 2'))\n",
    "fig3.show()"
   ]
  },
  {
   "cell_type": "markdown",
   "metadata": {},
   "source": [
    "Use the following widget to modify the parameters of the sine wave to experiment yourself."
   ]
  },
  {
   "cell_type": "code",
   "execution_count": null,
   "metadata": {},
   "outputs": [],
   "source": [
    "import ipywidgets as w\n",
    "\n",
    "# Sliders to select values\n",
    "slider_a = w.IntSlider(value=1, min=-10, max=10, description=r'$a$')\n",
    "slider_b = w.IntSlider(value=1, min=-10, max=10, description=r'$b$')\n",
    "slider_c = w.IntSlider(value=1, min=-100, max=100, step=10, description=r'$c$')\n",
    "slider_d = w.IntSlider(value=1, min=-10, max=10, description=r'$d$')\n",
    "\n",
    "# Plot\n",
    "fig = go.FigureWidget()\n",
    "scattf = fig.add_scatter(mode='lines', marker_size=5)\n",
    "\n",
    "def response(change):\n",
    "    x = []\n",
    "    y = []\n",
    "    with fig.batch_update():\n",
    "        for i in range(1,501):\n",
    "            x.append(i)\n",
    "            y.append((slider_a.value*(np.sin(np.radians(slider_b.value*i-slider_c.value)))) + slider_d.value) # a*sin(bx-c)+d\n",
    "        fig.data[0].x = x\n",
    "        fig.data[0].y = y\n",
    "        fig.update_layout(yaxis_range=[-20,20],\n",
    "                          xaxis_range=[0,501],\n",
    "                          title_text=(r'$y = a \\sin (bx-c)+d$')\n",
    "                         )\n",
    "slider_a.observe(response, names=\"value\")\n",
    "slider_b.observe(response, names=\"value\")\n",
    "slider_c.observe(response, names=\"value\")\n",
    "slider_d.observe(response, names=\"value\")\n",
    "response('')\n",
    "\n",
    "w.VBox([fig, slider_a, slider_b, slider_c, slider_d])"
   ]
  },
  {
   "cell_type": "markdown",
   "metadata": {},
   "source": [
    "### Example\n",
    "\n",
    "Find the sinusoidal function for the following graph.\n",
    "\n",
    "![example one graph](images/example1.png)\n",
    "\n",
    "We start by computing the amplitude. From the graph we see that the maximum is $1$ and the minimum is $-5$:\n",
    "\n",
    "$a = \\frac{\\text{maximum value} - \\text{minimum value}}{2} = \\frac{1 -(-5)}{2} = \\frac{6}{2} = 3$\n",
    "\n",
    "Next we find the value of $d$:\n",
    "\n",
    "$d = \\frac{\\text{maximum value} + \\text{minimum value}}{2} = \\frac{1 + (-5)}{2} = \\frac{-4}{2} = -2$\n",
    "\n",
    "To find $b$, we measure the distance from one peak to the next, for example at $x = 1$ to $x = 6.5$, which means the period is $5.5$:\n",
    "\n",
    "$b = \\frac{2\\pi}{T}=\\frac{2\\pi}{6}=\\frac{\\pi}{3}$\n",
    "\n",
    "So far for our sinusoidal function equation, we have \n",
    "\n",
    "$y = 3\\sin\\left(\\frac{\\pi}{3}x -c\\right) -2$\n",
    "\n",
    "We can find $c$ by substituting the coordinates of a point on the curve into that function. For example, we can pick the point with coordinates $(1,1)$:\n",
    "\n",
    "$1 = 3\\sin\\left(\\frac{\\pi}{3} -c\\right) -2$\n",
    "\n",
    "$3 = 3\\sin\\left(\\frac{\\pi}{3} -c\\right)$\n",
    "\n",
    "$1 = \\sin\\left(\\frac{\\pi}{3} -c\\right)$\n",
    "\n",
    "The first time $(\\sin(\\theta) = 1)$ is at $(\\theta = \\frac{\\pi}{2})$, so\n",
    "\n",
    "$(\\frac{\\pi}{2}) = (\\frac{\\pi}{3} - c)$\n",
    "\n",
    "and\n",
    "\n",
    "$c = \\frac{\\pi}{2} - \\frac{\\pi}{3}= \\frac{\\pi}{6}$\n",
    "\n",
    "So our sinusoidal function is\n",
    "\n",
    "$y = 3\\sin(\\frac{\\pi}{3}x + \\frac{\\pi}{6})-2$"
   ]
  },
  {
   "cell_type": "code",
   "execution_count": null,
   "metadata": {},
   "outputs": [],
   "source": [
    "x = np.linspace(-10,10,100)\n",
    "y = 3 * np.sin((np.pi/3) * x + np.pi/6) - 2\n",
    "go.Figure(data=[go.Scatter(x=x, y=y)]).add_hline(y=0).add_vline(x=0).show()"
   ]
  },
  {
   "cell_type": "markdown",
   "metadata": {},
   "source": [
    "### Exercise\n",
    "\n",
    "Find the equation of the sinusoidal function for the graph below.\n",
    "\n",
    "![sine exercise](images/exercise1.jpg)"
   ]
  },
  {
   "cell_type": "code",
   "execution_count": null,
   "metadata": {},
   "outputs": [],
   "source": [
    "# change these values to make your graph match the graph above\n",
    "a = 1\n",
    "b = 1\n",
    "c = 1\n",
    "d = 1\n",
    "\n",
    "x = np.linspace(-5,15,100)\n",
    "y = a * np.sin(b * x - c) + d\n",
    "go.Figure(data=[go.Scatter(x=x, y=y)]).add_hline(y=0).add_vline(x=0).show()"
   ]
  },
  {
   "cell_type": "markdown",
   "metadata": {},
   "source": [
    "### Fitting a Sinusoidal Function to Data\n",
    "\n",
    "Let's assume that we have some data representing the average temperate for each month\n",
    "\n",
    "Month | Average Temperature\n",
    "--- | ---\n",
    " 1| 9.7\n",
    "2 | 13.4\n",
    "3 | 17\n",
    "4 | 22.2\n",
    "5 | 27.2\n",
    "6 | 32.9\n",
    "7 | 36.5\n",
    "8 | 38.4\n",
    "9 | 32.9\n",
    "10 | 24.4\n",
    "11 | 19\n",
    "12 | 11\n",
    "\n",
    "Let's make a graph of the data."
   ]
  },
  {
   "cell_type": "code",
   "execution_count": null,
   "metadata": {},
   "outputs": [],
   "source": [
    "import plotly.express as px\n",
    "month = np.linspace(1,12,12)\n",
    "temperature = [9.7, 13.4, 17, 22.2, 27.2, 32.9, 36.5, 38.4, 32.2, 24.4, 19, 11]\n",
    "px.scatter(x=month, y=temperature, title='Average Temperature each Month', labels={'x':'Month','y':'Temperature'})"
   ]
  },
  {
   "cell_type": "markdown",
   "metadata": {},
   "source": [
    "To fit this data to a sinusoidal function $y = a \\sin (bx-c)+d$ we need to calculate $a$, $b$, $c$, and $d$.\n",
    "\n",
    "$a = \\frac{\\text{maximum value} - \\text{minimum value}}{2} = \\frac{38.4-9.7}{2} =14.35$\n",
    "\n",
    "$d = \\frac{\\text{maximum value} + \\text{minimum value}}{2} = \\frac{38.4+9.7}{2} =24.05$\n",
    "\n",
    "The average temperature cycle will repeat itself every year, so the period is $12$ months.\n",
    "\n",
    "$b = \\frac{2\\pi}{T} = \\frac{2\\pi}{12} =0.52$\n",
    "\n",
    "Using $a=14.35$, $b = 0.52$, and $d = 24.05$, we can choose a data point from the table and solve for $c$ in \n",
    "\n",
    "$y = 14.35 \\sin (0.52x-c)+24.05$\n",
    "\n",
    "Let’s choose the first data point, $x = 1$ (January), $y = 9.7$\n",
    "\n",
    "$9.7 = 14.35 \\sin (0.52(1)-c)+24.05$\n",
    "\n",
    "$-14.35.7 = 14.35 \\sin (0.52-c)$\n",
    "\n",
    "$-1 =  \\sin (0.52-c)$\n",
    "\n",
    "One of the places where $(\\sin(\\theta) = -1)$ is $(\\theta = -\\frac{\\pi}{2})$, so\n",
    "\n",
    "\n",
    "$-\\frac{\\pi}{2} = 0.52 - c$\n",
    "\n",
    "and\n",
    "\n",
    "$c = \\frac{\\pi}{2} + 0.52 = 2.09$\n",
    "\n",
    "So the sinusoidal function that should fit the data is\n",
    "\n",
    "$y = 14.35 \\sin (0.52x-2.09)+24.05$\n",
    "\n",
    "Let's graph that to check."
   ]
  },
  {
   "cell_type": "code",
   "execution_count": null,
   "metadata": {},
   "outputs": [],
   "source": [
    "month = np.linspace(1,12,12)\n",
    "temperature = [9.7, 13.4, 17, 22.2, 27.2, 32.9, 36.5, 38.4, 32.2, 24.4, 19, 11]\n",
    "a = 14.35\n",
    "b = 0.52\n",
    "c = 2.09\n",
    "d = 24.05\n",
    "fit = a*np.sin(b*month-c) + d\n",
    "temp_fig = px.scatter(x=month, y=temperature, title='Average Temperature each Month', labels={'x':'Month','y':'Temperature'})\n",
    "temp_fig.add_trace(go.Scatter(x=month, y=fit, name='Sinusoidal Fit'))\n",
    "temp_fig.show()"
   ]
  },
  {
   "cell_type": "markdown",
   "metadata": {},
   "source": [
    "That seems to fit the data fairly well. You can also try changing the values of $a$, $b$, $d$, and especially $c$ to see if you can get a better fit.\n",
    "\n",
    "# Conclusion\n",
    "\n",
    "- we can use a sinusoidal curve to fit periodic data\n",
    "- the equation for a sinusoidal curve is $y = a \\sin (bx-c)+d$\n",
    "- the parameters that affect the curve are:\n",
    "     - $a$ = amplitude\n",
    "     - $b$ = frequency\n",
    "     - $c$ = horizontal translation\n",
    "     - $d$ = vertical translation"
   ]
  },
  {
   "cell_type": "markdown",
   "metadata": {},
   "source": [
    "[![Callysto.ca License](https://github.com/callysto/curriculum-notebooks/blob/master/callysto-notebook-banner-bottom.jpg?raw=true)](https://github.com/callysto/curriculum-notebooks/blob/master/LICENSE.md)"
   ]
  }
 ],
 "metadata": {
  "kernelspec": {
   "display_name": "Python 3.8.10 64-bit",
   "language": "python",
   "name": "python3"
  },
  "language_info": {
   "codemirror_mode": {
    "name": "ipython",
    "version": 3
   },
   "file_extension": ".py",
   "mimetype": "text/x-python",
   "name": "python",
   "nbconvert_exporter": "python",
   "pygments_lexer": "ipython3",
   "version": "3.8.10"
  },
  "vscode": {
   "interpreter": {
    "hash": "916dbcbb3f70747c44a77c7bcd40155683ae19c65e1c03b4aa3499c5328201f1"
   }
  }
 },
 "nbformat": 4,
 "nbformat_minor": 4
}
