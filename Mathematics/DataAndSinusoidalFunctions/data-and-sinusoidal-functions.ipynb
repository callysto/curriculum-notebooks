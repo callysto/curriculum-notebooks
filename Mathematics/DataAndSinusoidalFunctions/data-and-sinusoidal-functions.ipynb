{
 "cells": [
  {
   "cell_type": "markdown",
   "metadata": {},
   "source": [
    "![Callysto.ca Banner](https://github.com/callysto/curriculum-notebooks/blob/master/callysto-notebook-banner-top.jpg?raw=true)\n",
    "\n",
    "<a href=\"https://hub.callysto.ca/jupyter/hub/user-redirect/git-pull?repo=https%3A%2F%2Fgithub.com%2Fcallysto%2Fcurriculum-notebooks&branch=master&subPath=Mathematics/DataAndSinusoidalFunctions/data-and-sinusoidal-functions.ipynb&depth=1\" target=\"_parent\"><img src=\"https://raw.githubusercontent.com/callysto/curriculum-notebooks/master/open-in-callysto-button.svg?sanitize=true\" width=\"123\" height=\"24\" alt=\"Open in Callysto\"/></a>"
   ]
  },
  {
   "cell_type": "code",
   "execution_count": null,
   "metadata": {},
   "outputs": [],
   "source": [
    "\n",
    "import ipywidgets as w\n",
    "\n",
    "import plotly.graph_objs as go"
   ]
  },
  {
   "cell_type": "markdown",
   "metadata": {},
   "source": [
    "# Representing Data, Using Sinusoidal Function, to Solve Problems\n",
    "\n",
    "![rolloercoaster gif](https://media.giphy.com/media/l0HlOvy6nzJ0uwJry/giphy.gif)\n",
    "\n",
    "<p>https://media.giphy.com/media/l0HlOvy6nzJ0uwJry/giphy.gif</p>\n",
    "\n",
    "## Overview\n",
    "\n",
    "### Lesson outcomes\n",
    "- Graph data and determine the sinusoidal functions that best approximate the data.\n",
    "- Interpret the graph of a sinusoidal function that models a situation, and explain the reasoning.\n",
    "\n",
    "## Introduction\n",
    "\n",
    "In Mathematics, given a set of data points, it is possible to construct a curve, or mathematical function, that has the best fit to those points. This process is called curve fitting.\n",
    "\n",
    "In the case that the data are somewhat cyclic, it is possible to sketch a curve of best fit that somehow resembles a sinusoidal function.  The fitting sinusoidal curve is found by determining the specific parameters which makes the curve match your data as closely as possible.\n",
    "\n",
    "To better understand what we mean by cyclic data, have a look at a swinging pendulum:\n",
    "\n",
    "<img src=\"https://upload.wikimedia.org/wikipedia/commons/6/6f/Pendulum-no-text.gif?20201216081225\" style=\"width: 400px;\"/>\n",
    "\n",
    "[Wikimedia - Pendulumn-no-text.gif](https://commons.wikimedia.org/wiki/File:Pendulum-no-text.gif)\n",
    "\n",
    "Pendulum motion can be described with the formula:\n",
    "\n",
    "$f(t) = \\theta_0 \\cos\\left(\\sqrt{\\frac{g}{l}}t\\right)$\n",
    "\n",
    "#### Example\n",
    "\n",
    "Suppose we collected data about the height of the pendulum at different times:\n",
    "\n",
    "Time (s) | Height (m)\n",
    "--- | ---\n",
    " 1| 9.7\n",
    "2 | 13.4\n",
    "3 | 17\n",
    "4 | 14.1\n",
    "5 | 9.3\n",
    "6 | 13.6\n",
    "7 | 16.8\n",
    "8 | 13.8\n",
    "9 | 9.2\n",
    "10 | 13.4\n",
    "\n",
    "The following plot shows the collected data."
   ]
  },
  {
   "cell_type": "code",
   "execution_count": null,
   "metadata": {},
   "outputs": [],
   "source": [
    "import numpy as np\n",
    "import matplotlib.pyplot as plt\n",
    "\n",
    "time = np.linspace(1,10,10)\n",
    "height= np.array([9.7, 13.4, 17, 14.1, 9.3, 13.6, 16.8, 13.8, 9.2, 13.4])\n",
    "plt.plot(time, height, 'o')\n",
    "plt.title(\"Height of the pendulum \")\n",
    "plt.xlabel(\"Time\")\n",
    "plt.ylabel(\"Height\")\n",
    "plt.show()"
   ]
  },
  {
   "cell_type": "markdown",
   "metadata": {},
   "source": [
    "The graph below shows the sinusoidal function that best fits the data we have collected."
   ]
  },
  {
   "cell_type": "code",
   "execution_count": null,
   "metadata": {},
   "outputs": [],
   "source": [
    "x = np.linspace(1,10,40)\n",
    "y = 3.9*np.sin((2*np.pi)*(x+2)/4) + 13.1\n",
    "plt.plot(time, height, 'o', label = 'Height')\n",
    "plt.plot(x, y, label = 'Sinusoidal fit')\n",
    "plt.title(\"Height of the Pendulum \")\n",
    "plt.xlabel(\"Time\")\n",
    "plt.ylabel(\"Height\")\n",
    "plt.legend(bbox_to_anchor=(1.05, 1), loc=2, borderaxespad=0)\n",
    "plt.show()"
   ]
  },
  {
   "cell_type": "markdown",
   "metadata": {},
   "source": [
    "## The Sinusoidal Function\n",
    "\n",
    "Sinusoidal functions can all be expressed as a sine function, in general form:\n",
    "\n",
    "$y = a \\sin (bx-c)+d$\n",
    "\n",
    "- $a$ is the **amplitude**, the vertical footprint of a graph\n",
    "    - $a = \\frac{\\text{maximum value} - \\text{minimum value}}{2}$\n",
    "    - $a$ is always positive\n",
    "- $b$ is the **frequency**, the number of cycles that happen in $360^{\\circ}$ or $2\\pi$ radians\n",
    "    - it can be used to find the **period**: $T= \\frac{360^{\\circ}}{b} \\quad\\text{  or  } \\quad T= \\frac{2\\pi}{b}$\n",
    "    - the larger the frequency, the more condensed the waves will be\n",
    "- $c$ is the **phase shift**, the horizontal translation that has been applied to the graph of $y=\\sin(x)$\n",
    "    - if $c>0$ the graph is shifted to the right, otherwise it is shifted to the left\n",
    "- $d$ is the **midline**, showing how much the function has been translated vertically\n",
    "    - $d = \\frac{\\text{maximum value} + \\text{minimum value}}{2}$\n",
    "    - if $d>0$, the graph is shifted up, otherwise it is shifted down\n",
    "\n",
    "<img src=\"./figures/sine_sinusoidal.jpg\" style=\"width: 500px;\"/>\n",
    "\n",
    "## Matching the equation of a sinusoidal function to the corresponding graph\n",
    "\n",
    "The most basic sinusoidal function is $y=\\sin(x)$ whose graph is"
   ]
  },
  {
   "cell_type": "code",
   "execution_count": null,
   "metadata": {},
   "outputs": [],
   "source": [
    "import plotly.graph_objs as go\n",
    "x = np.linspace(-5,10,100)\n",
    "y = np.sin(x)\n",
    "fig0 = go.Figure(data=[go.Scatter(x=x, y=y)], layout=go.Layout(title='y = sin(x)'))\n",
    "fig0.show()"
   ]
  },
  {
   "cell_type": "markdown",
   "metadata": {},
   "source": [
    "We've already learned that the value of $a$ changes how tall or short the graph is. The figure below shows you different sinusoidal functions that have different amplitudes: <br>\n",
    "\n",
    "<img src=\"./figures/amplitudes.jpg\" style=\"width: 700px;\"/>\n",
    "\n"
   ]
  },
  {
   "cell_type": "code",
   "execution_count": null,
   "metadata": {},
   "outputs": [],
   "source": [
    "x = np.linspace(-5,10,100)\n",
    "fig1 = go.Figure(layout=go.Layout(title='Changing Amplitude'))\n",
    "fig1.add_trace(go.Scatter(x=x, y=np.sin(x), name='y = sin(x)'))\n",
    "fig1.add_trace(go.Scatter(x=x, y=0.5*np.sin(x), name='y = 0.5sin(x)'))\n",
    "fig1.add_trace(go.Scatter(x=x, y=3*np.sin(x), name='y = 3sin(x)'))\n",
    "fig1.show()"
   ]
  },
  {
   "cell_type": "markdown",
   "metadata": {},
   "source": [
    "By changing the value of $b$, we can see whether a graph is more 'stretched' or 'condensed'. The figure below shows you different functions with different periods: <br>\n",
    "\n",
    "<img src=\"./figures/periods.jpg\" style=\"width: 700px;\"/>\n",
    "\n",
    "The figure below describes how the value of $c$ translates the graph horizontally: <br>\n",
    "\n",
    "<img src=\"./figures/c_values.jpg\" style=\"width: 700px;\"/>\n",
    "\n",
    "Finally, the figure below shows how $d$ moves the graph of $\\sin(x)$ vertically: <br>\n",
    "\n",
    "<img src=\"./figures/d_value.jpg\" style=\"width: 700px;\"/>\n",
    "\n",
    "Use the following widget to modify the parameters of the sine wave to experiment yourself."
   ]
  },
  {
   "cell_type": "code",
   "execution_count": null,
   "metadata": {},
   "outputs": [],
   "source": [
    "# Sliders to select values\n",
    "slider_a = w.IntSlider(value=1, min=-10, max=10, description=r'$a$')\n",
    "slider_b = w.IntSlider(value=1, min=-10, max=10, description=r'$b$')\n",
    "slider_c = w.IntSlider(value=1, min=-100, max=100, step=10, description=r'$c$')\n",
    "slider_d = w.IntSlider(value=1, min=-10, max=10, description=r'$d$')\n",
    "\n",
    "# Plot\n",
    "fig = go.FigureWidget()\n",
    "scattf = fig.add_scatter(mode='lines', marker_size=5)\n",
    "\n",
    "def response(change):\n",
    "    x = []\n",
    "    y = []\n",
    "    with fig.batch_update():\n",
    "        for i in range(1,501):\n",
    "            x.append(i)\n",
    "            y.append((slider_a.value*(np.sin(np.radians(slider_b.value*i-slider_c.value)))) + slider_d.value) # a*sin(bx-c)+d\n",
    "        fig.data[0].x = x\n",
    "        fig.data[0].y = y\n",
    "        fig.update_layout(yaxis_range=[-20,20],\n",
    "                          xaxis_range=[0,501],\n",
    "                          title_text=(r'$ y = a \\sin (bx-c)+d$')\n",
    "                         )\n",
    "\n",
    "slider_a.observe(response, names=\"value\")\n",
    "slider_b.observe(response, names=\"value\")\n",
    "slider_c.observe(response, names=\"value\")\n",
    "slider_d.observe(response, names=\"value\")\n",
    "response('')\n",
    "\n",
    "w.VBox([fig, slider_a, slider_b, slider_c, slider_d])"
   ]
  },
  {
   "cell_type": "markdown",
   "metadata": {},
   "source": [
    "### Example\n",
    "\n",
    "Write the equation of the sinusoidal function corresponding to the following graph.\n",
    "\n",
    "<img src=\"./figures/example_sin.jpg\" style=\"width: 700px;\"/>\n",
    "\n",
    "We start by computing the amplitude: we know that its value is given by\n",
    "\n",
    "$$a = \\frac{\\text{maximum value} - \\text{minimum value}}{2}$$ \n",
    "\n",
    "By looking at the graph we observe that the $\\text{maximum value} = 1$ and $\\text{minimum value} = -5$ so \n",
    "\n",
    "$$a = \\frac{1 -(-5)}{2} = \\frac{6}{2} = 3$$\n",
    "\n",
    "Next we know that the value of $d$ is given by \n",
    "\n",
    "$$d = \\frac{\\text{maximum value} + \\text{minimum value}}{2}.$$\n",
    "\n",
    "So $$d = \\frac{1 + (-5)}{2} = \\frac{-4}{2} = -2.$$\n",
    "\n",
    "Next we can compute the value of $b$. The period of the graph is 6, which can be measured from the peak at  $x = 1$  to the next peak at  $x = 7$, or from the distance between two troughs. We know that $T= \\frac{2\\pi}{b}$. By inverting the previous formula we get\n",
    "\n",
    "$$ b = \\frac{2\\pi}{T}=\\frac{2\\pi}{6}=\\frac{\\pi}{3}$$\n",
    "\n",
    "So far for our sinusoidal function equation, we have \n",
    "\n",
    "$$y = 3\\sin\\left(\\frac{\\pi}{3}x -c\\right) -2$$\n",
    "\n",
    "The simplest way to compute $c$ is by substituting the coordinates of a point on the curve into the function. For example, we can pick the point with coordinates $(1,1)$. Substituting these coordinates into our function we get\n",
    "\n",
    "$$1 = 3\\sin\\left(\\frac{\\pi}{3} -c\\right) -2$$\n",
    "\n",
    "$$3 = 3\\sin\\left(\\frac{\\pi}{3} -c\\right)$$\n",
    "\n",
    "$$1 = \\sin\\left(\\frac{\\pi}{3} -c\\right)$$\n",
    "When does $\\sin = 1$? Well, it does at many inputs, but the \"first\" one is $\\sin(\\frac{\\pi}{2})$.\n",
    "\n",
    "$$\\sin\\left(\\frac{\\pi}{2}\\right)=1$$\n",
    "\n",
    "$$\\left(\\frac{\\pi}{3} -c\\right)=\\frac{\\pi}{2}$$\n",
    "Solve for $c$ by getting all other terms on the other side. \n",
    " $$c =- \\frac{\\pi}{2} +\\frac{\\pi}{3}= \\frac{\\pi}{6}$$\n",
    "\n",
    "\n",
    "So our sinusoidal function has equation\n",
    "\n",
    "$$y = 3\\sin\\left(\\frac{\\pi}{3}x + \\frac{\\pi}{6}\\right) -2$$\n",
    "\n",
    "### Exercise\n",
    "\n",
    "Find the equation of the sinusoidal function for the graph below.\n",
    "\n",
    "<img src=\"./figures/sin_exercise.jpg\" style=\"width: 700px;\"/>\n",
    "## Determine the characteristics parameters of a sinusoidal function\n",
    "\n",
    "In the next example, we will learn how to compute the characteristic parameters when we're given the equation of a sinusoidal function."
   ]
  },
  {
   "cell_type": "markdown",
   "metadata": {},
   "source": [
    "Determine the characteristic parameters from the following equation:\n",
    "$$y = 5\\sin(3x) +2$$\n",
    "\n",
    "<ul>\n",
    "    <li>$a$ = 5 so the amplitude is 5\n",
    "     <li>$b$ = 3 so the period $T$ is $\\frac{2\\pi}{3}$\n",
    "     <li>$c$  = 0 so there is no horizontal translation\n",
    "     <li>$d$ = 2 so the equation of the midline is at $y = 2$\n",
    "<ul>\n"
   ]
  },
  {
   "cell_type": "markdown",
   "metadata": {},
   "source": [
    "### Exercise: Finding the characteristic parameters of a sinusoidal function\n",
    "\n",
    "Determine the characteristic parameters from the following equation:\n",
    "\n",
    "$$y = 14.1\\sin(4.2x+3.4)+2$$\n"
   ]
  },
  {
   "cell_type": "markdown",
   "metadata": {},
   "source": [
    "### Example: Finding a Sinusoidal Functions from Temperature Data\n",
    "\n",
    "Let's assume that we have some data representing the average temperate for each month:\n",
    "\n",
    "Month | Average Temperature\n",
    "--- | ---\n",
    " 1| 9.7\n",
    "2 | 13.4\n",
    "3 | 17\n",
    "4 | 22.2\n",
    "5 | 27.2\n",
    "6 | 32.9\n",
    "7 | 36.5\n",
    "8 | 38.4\n",
    "9 | 32.9\n",
    "10 | 24.4\n",
    "11 | 19\n",
    "12 | 11\n",
    "\n",
    "The data is presented in the graph below."
   ]
  },
  {
   "cell_type": "code",
   "execution_count": null,
   "metadata": {},
   "outputs": [],
   "source": [
    "month = np.linspace(1,12,12)\n",
    "temperature= np.array([9.7, 13.4, 17, 22.2, 27.2, 32.9, 36.5, 38.4, 32.2, 24.4, 19, 11])\n",
    "plt.plot(month, temperature, 'o')\n",
    "plt.title(\"Average temperature for each month \")\n",
    "plt.xlabel(\"Month\")\n",
    "plt.ylabel(\"Temperature\")\n",
    "plt.show()"
   ]
  },
  {
   "cell_type": "markdown",
   "metadata": {},
   "source": [
    "We want to fit this data to a sinusoidal function $ y = a \\sin (bx-c)+d$.\n",
    "\n",
    "First of all, we need to determine the *amplitude* $a$:\n",
    "\n",
    "$$a = \\frac{\\text{maximum value} - \\text{minimum value}}{2} = \\frac{38.4-9.7}{2} =14.35$$\n",
    "\n",
    "Next, we determine the value of the midline $d$:\n",
    "\n",
    "$$d = \\frac{\\text{maximum value} + \\text{minimum value}}{2} = \\frac{38.4+9.7}{2} =24.05$$\n",
    "\n",
    "For this exercise, the frequency $b$ be computed in the following way. The  average temperature cycle will  repeat itself every year, so the period $T = 12$ months. Therefore $b$ can be computed by inverting the formula for the period $T$:\n",
    "\n",
    "$$b = \\frac{2\\pi}{T} = \\frac{2\\pi}{12} =0.52$$\n",
    "\n",
    "Using $a=14.35$, $b = 0.52$, and $d = 24.05$, determine horizontal shift by choosing an arbitrary data point $(x,y)$ from the given table and solving the equation \n",
    "\n",
    "$$y = 14.35 \\sin (0.52x-c)+24.05$$\n",
    "for $c$."
   ]
  },
  {
   "cell_type": "markdown",
   "metadata": {},
   "source": [
    "Let’s choose the first data point, $x = 1$ (January), $y = 9.7$\n",
    "\n",
    "$$9.7 = 14.35 \\sin (0.52(1)-c)+24.05$$\n",
    "\n",
    "$$-14.35.7 = 14.35 \\sin (0.52-c)$$\n",
    "\n",
    "$$-1 =  \\sin (0.52-c)$$\n"
   ]
  },
  {
   "cell_type": "markdown",
   "metadata": {},
   "source": [
    "When does $\\sin = -1$? Again, it does at many places, but the main one is at $- \\frac{\\pi}{2}$.\n",
    "\n",
    "$$\\sin\\left(-\\frac{\\pi}{2}\\right)=-1$$\n",
    "\n",
    "So we have\n",
    "\n",
    "$${0.52 -c}=-\\frac{\\pi}{2}$$\n",
    "Solve for $c$ by getting all other terms on the other side. \n",
    " $$c = \\frac{\\pi}{2} + 0.52 = 2.09$$"
   ]
  },
  {
   "cell_type": "markdown",
   "metadata": {},
   "source": [
    "So the sinusoidal function that fits the data is\n",
    "\n",
    "$$y = 14.35 \\sin (0.52x-2.09)+24.05$$\n",
    "\n",
    "and its graph is shown below."
   ]
  },
  {
   "cell_type": "code",
   "execution_count": null,
   "metadata": {},
   "outputs": [],
   "source": [
    "month = np.linspace(1,12,12)\n",
    "temperature= np.array([9.7, 13.4, 17, 22.2, 27.2, 32.9, 36.5, 38.4, 32.2, 24.4, 19, 11])\n",
    "x = np.linspace(1,12, 24)\n",
    "y = 14.35*np.sin(0.52*x -2.09) + 24.05\n",
    "plt.plot(month, temperature, 'o', label = 'Average temperature')\n",
    "plt.plot(x, y, label = 'Sinusoidal fit')\n",
    "plt.title(\"Average temperature for each month \")\n",
    "plt.xlabel(\"Month\")\n",
    "plt.ylabel(\"Temperature\")\n",
    "plt.legend(bbox_to_anchor=(1.05, 1), loc=2, borderaxespad=0.)\n",
    "plt.show()"
   ]
  },
  {
   "cell_type": "markdown",
   "metadata": {},
   "source": [
    "### Exercise\n",
    "\n",
    "Tom boards the Ferris wheel at the Pacific Exhibition. When the ride begins, his height above the ground can be \n",
    "modelled by\n",
    "\n",
    "$$x = 43\\sin(3.5t-0.9)+47$$\n",
    "\n",
    "How long does it take to the Ferris wheel to complete one revolution (period)?\n",
    "\n",
    "What is the amplitude of the given function?\n",
    "\n",
    "What is Tom's height above the ground when $t=10$?\n",
    "\n",
    "What is the maximum height of Tom during the ride?"
   ]
  },
  {
   "cell_type": "markdown",
   "metadata": {},
   "source": [
    "### Conclusions\n",
    "\n",
    "<ul>\n",
    "    <li> Cyclic data can be fit by a sinusoidal curve\n",
    "     <li> A sinusoidal curve is uniquely defined by characteristic parameters\n",
    "     <li> The parameters are the amplitude, the frequency and  the horizontal and vertical translations "
   ]
  },
  {
   "cell_type": "markdown",
   "metadata": {},
   "source": [
    "[![Callysto.ca License](https://github.com/callysto/curriculum-notebooks/blob/master/callysto-notebook-banner-bottom.jpg?raw=true)](https://github.com/callysto/curriculum-notebooks/blob/master/LICENSE.md)"
   ]
  }
 ],
 "metadata": {
  "kernelspec": {
   "display_name": "Python 3.10.1 64-bit",
   "language": "python",
   "name": "python3"
  },
  "language_info": {
   "codemirror_mode": {
    "name": "ipython",
    "version": 3
   },
   "file_extension": ".py",
   "mimetype": "text/x-python",
   "name": "python",
   "nbconvert_exporter": "python",
   "pygments_lexer": "ipython3",
   "version": "3.10.1"
  },
  "vscode": {
   "interpreter": {
    "hash": "d1ca6d17674200220921376aaeb3d36cffe15ecab2470a9a5e7a456cdbf61425"
   }
  }
 },
 "nbformat": 4,
 "nbformat_minor": 4
}
