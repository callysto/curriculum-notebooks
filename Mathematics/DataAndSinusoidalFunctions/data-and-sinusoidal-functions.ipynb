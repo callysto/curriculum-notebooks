{
 "cells": [
  {
   "cell_type": "markdown",
   "metadata": {},
   "source": [
    "![Callysto.ca Banner](https://github.com/callysto/curriculum-notebooks/blob/master/callysto-notebook-banner-top.jpg?raw=true)\n",
    "\n",
    "<a href=\"https://hub.callysto.ca/jupyter/hub/user-redirect/git-pull?repo=https%3A%2F%2Fgithub.com%2Fcallysto%2Fcurriculum-notebooks&branch=master&subPath=Mathematics/DataAndSinusoidalFunctions/data-and-sinusoidal-functions.ipynb&depth=1\" target=\"_parent\"><img src=\"https://raw.githubusercontent.com/callysto/curriculum-notebooks/master/open-in-callysto-button.svg?sanitize=true\" width=\"123\" height=\"24\" alt=\"Open in Callysto\"/></a>"
   ]
  },
  {
   "cell_type": "code",
   "execution_count": null,
   "metadata": {},
   "outputs": [],
   "source": [
    "import numpy as np\n",
    "import pylab as plt\n",
    "from IPython.display import display, Latex, clear_output, Markdown, Image, HTML, Javascript\n",
    "import ipywidgets as widgets\n",
    "from astropy.table import Table, Column\n",
    "from ipywidgets import interact, interactive, Button , Layout\n",
    "import ipywidgets as w\n",
    "import matplotlib.pyplot as plt\n",
    "import plotly.graph_objs as go\n",
    "import math\n",
    "\n",
    "# Create a text box for user to input text\n",
    "get_user_text = w.Textarea( value='', placeholder='Enter your text here.', description='', disabled=False , layout=Layout(width='100%', height='250px') )\n",
    "# Create a slider to obtain shift integer from user \n",
    "get_user_shift = w.IntSlider( value=7, min=1, max=26, step=1, description='Ceasar Shift:', disabled=False, continuous_update=False, orientation='horizontal', readout=True, readout_format='d')\n",
    "\n",
    "from IPython.display import HTML"
   ]
  },
  {
   "cell_type": "markdown",
   "metadata": {},
   "source": [
    "# Represent data, using sinusoidal function, to solve problems\n",
    "\n",
    "*By Jessica Cervi*\n",
    "\n",
    "![Math_Gif](https://media.giphy.com/media/l0HlOvy6nzJ0uwJry/giphy.gif)\n",
    "<p>https://media.giphy.com/media/l0HlOvy6nzJ0uwJry/giphy.gif</p>\n",
    "\n"
   ]
  },
  {
   "cell_type": "markdown",
   "metadata": {},
   "source": [
    "## Overview\n",
    "\n",
    "### Lesson outcomes\n",
    "- Graph data and determine the sinusoidal functions that best approximate the data.\n",
    "- Interpret the graph of a sinusoidal function that models a situation, and explain the reasoning.\n",
    "\n",
    "\n",
    "## Introduction\n",
    "\n",
    "In Mathematics, given a set of data points, it is possible to construct a curve, or mathematical function, that has the best fit to those points. This process is called curve fitting.\n",
    "\n",
    "In the case that the data are somewhat cyclic, it is possible to sketch a curve of best fit that somehow resembles a sinusoidal function.  The fitting sinusoidal curve is found by determining the specific parameters which makes the curve match your data as closely as possible.\n",
    "\n",
    "To better understand what we mean by cyclic data observe the animated GIF below showing a pendulum swinging. This pendulum (and all pendulums) can be described with the \n",
    "\n",
    "$$f(t) = \\theta_0 \\cos\\left(\\sqrt{\\frac{g}{l}}t\\right)$$."
   ]
  },
  {
   "cell_type": "markdown",
   "metadata": {},
   "source": [
    "![]('files/Pendulum-no-text.gif')\n",
    "<p>https://commons.wikimedia.org/wiki/File:Pendulum-no-text.gif</p>"
   ]
  },
  {
   "cell_type": "markdown",
   "metadata": {},
   "source": [
    "#### Example\n",
    "\n",
    "Suppose we now want to collect data about the height of the pendulum at different times as showed in the table below.\n",
    "\n",
    "\n",
    "Time |Height\n",
    "--- | ---\n",
    " 1| 9.7\n",
    "2 | 13.4\n",
    "3 | 17\n",
    "4 | 14.1\n",
    "5 | 9.3\n",
    "6 | 13.6\n",
    "7 | 16.8\n",
    "8 | 13.8\n",
    "9 | 9.2\n",
    "10 | 13.4\n",
    "\n",
    "The following plot shows the data collected."
   ]
  },
  {
   "cell_type": "code",
   "execution_count": null,
   "metadata": {},
   "outputs": [],
   "source": [
    "time = np.linspace(1,10,10)\n",
    "height= np.array([9.7, 13.4, 17, 14.1, 9.3, 13.6, 16.8, 13.8, 9.2, 13.4])\n",
    "plt.plot(time, height, 'o')\n",
    "plt.title(\"Height of the pendulum \")\n",
    "plt.xlabel(\"Time\")\n",
    "plt.ylabel(\"Height\")\n",
    "axes = plt.gca()\n",
    "plt.show()"
   ]
  },
  {
   "cell_type": "markdown",
   "metadata": {},
   "source": [
    "The graph below shows the sinusoidal function that best fits the data we have collected."
   ]
  },
  {
   "cell_type": "code",
   "execution_count": null,
   "metadata": {},
   "outputs": [],
   "source": [
    "time = np.linspace(1,10,10)\n",
    "height= np.array([9.7, 13.4, 17, 14.1, 9.3, 13.6, 16.8, 13.8, 9.2, 13.4])\n",
    "x = np.linspace(1,10,40)\n",
    "y = 3.9*np.sin((2*np.pi)*(x+2)/4) + 13.1\n",
    "plt.plot(time, height, 'o', label = 'Height')\n",
    "plt.plot(x, y, label = 'Sinusoidal fit')\n",
    "plt.title(\"Height of the Pendulum \")\n",
    "plt.xlabel(\"Time\")\n",
    "plt.ylabel(\"Height\")\n",
    "plt.legend(bbox_to_anchor=(1.05, 1), loc=2, borderaxespad=0.)\n",
    "axes = plt.gca()\n",
    "plt.show()"
   ]
  },
  {
   "cell_type": "markdown",
   "metadata": {
    "slideshow": {
     "slide_type": "slide"
    }
   },
   "source": [
    "In the next sections we will learn how to define and construct a sinusoidal function from a given set of data."
   ]
  },
  {
   "cell_type": "markdown",
   "metadata": {},
   "source": [
    "## The sinusoidal function\n",
    "\n",
    "The key idea behind sinusoidal functions is that they can all be expressed as a sine function.\n",
    "\n",
    "The general form of a sinusoidal function can be written as\n",
    "$$ y = a \\sin (bx-c)+d$$\n",
    "\n",
    "We can also use the cosine function, but since $\\sin(x) = \\cos(\\pi/2 - x)$ for every $x$, we can express every sinusoidal function using the sine function.\n",
    "\n",
    "***\n",
    "\n",
    "**Features of a sinusoidal function**\n",
    "\n",
    "Each sinusoidal function can be uniquely determined by four characteristic parameters:\n",
    "\n",
    "<ul>\n",
    "    <li>$a$ is the <b>amplitude</b>. The amplitude describes the vertical footprint of a graph is and can be computed in the following way\n",
    "        $$a = \\frac{\\text{maximum value} - \\text{minimum value}}{2}$$\n",
    "        As you see, $a$ is always a non-negative quantity - a large $a$ indicates a graph with wide vertical fluctuations, while a smaller $a$ tells us that the graph is confined to a more narrow horizontal region. <br>\n",
    "        <br>\n",
    "    <li> $b$ is the <b>frequency</b>. The frequency describes the number of cycles that happen in $360^{\\circ}$ or $2\\pi$ radians. It can be used to compute the period  $T$ as \n",
    "    $$T= \\frac{360^{\\circ}}{b} \\quad\\text{  or  } \\quad T= \\frac{2\\pi}{b}$$\n",
    "    The larger the frequency, the more condensed the waves will be. <br>\n",
    "        <br>\n",
    "    <li> $c$ is the <b>phase shift</b> and it indicates the horizontal translation that has been applied to the graph of \n",
    "    $$y=\\sin(x)$$\n",
    "    If $c>0$ the graph is shifted to the right, otherwise it is shifted to the left. <br>\n",
    "        <br>\n",
    "    <li> $d$ is the <b>midline</b> and it indicates by how much the function has been translated vertically. It can be computed as\n",
    "    $$d = \\frac{\\text{maximum value} + \\text{minimum value}}{2}$$\n",
    "    If $d>0$, the graph is shifted up, otherwise it is shifted down.\n",
    "<ul>\n",
    "    \n"
   ]
  },
  {
   "cell_type": "markdown",
   "metadata": {},
   "source": [
    "<img src=\"./figures/sine_sinusoidal.jpg\" style=\"width: 500px;\"/>"
   ]
  },
  {
   "cell_type": "markdown",
   "metadata": {},
   "source": [
    "## Matching the equation of a sinusoidal function to the corresponding graph\n",
    "\n",
    "In this section, we will learn how to describe the characteristics of a sinusoidal function by analyzing its graph.\n",
    "\n",
    "The simplest and most basic sinusoidal function we could come across  is $y=\\sin(x)$ whose graph is <br>\n",
    "<img src=\"./figures/sine.jpg\" style=\"width: 700px;\"/>"
   ]
  },
  {
   "cell_type": "markdown",
   "metadata": {},
   "source": [
    "We've already learned that the value of $a$ changes how tall or short the graph is. The figure below shows you different sinusoidal functions that have different amplitudes: <br>\n",
    "\n",
    "<img src=\"./figures/amplitudes.jpg\" style=\"width: 700px;\"/>"
   ]
  },
  {
   "cell_type": "markdown",
   "metadata": {},
   "source": [
    "By changing the value of $b$, we can see whether a graph is more 'stretched' or 'condensed'. The figure below shows you different functions with different periods: <br>\n",
    "\n",
    "<img src=\"./figures/periods.jpg\" style=\"width: 700px;\"/>"
   ]
  },
  {
   "cell_type": "markdown",
   "metadata": {},
   "source": [
    "The figure below describes how the value of $c$ translates the graph horizontally: <br>\n",
    "\n",
    "<img src=\"./figures/c_values.jpg\" style=\"width: 700px;\"/>"
   ]
  },
  {
   "cell_type": "markdown",
   "metadata": {},
   "source": [
    "Finally, the figure below shows how $d$ moves the graph of $\\sin(x)$ vertically: <br>\n",
    "\n",
    "<img src=\"./figures/d_value.jpg\" style=\"width: 700px;\"/>"
   ]
  },
  {
   "cell_type": "markdown",
   "metadata": {},
   "source": [
    "Use the following widget to modify the parameters of the sine wave to experiment yourself!"
   ]
  },
  {
   "cell_type": "code",
   "execution_count": null,
   "metadata": {},
   "outputs": [],
   "source": [
    "# Sliders to select values\n",
    "slider_a = w.IntSlider(value=1, min=-10, max=10, description=r'$a$')\n",
    "slider_b = w.IntSlider(value=1, min=-10, max=10, description=r'$b$')\n",
    "slider_c = w.IntSlider(value=1, min=-10, max=10, description=r'$c$')\n",
    "slider_d = w.IntSlider(value=0, min=-10, max=10, description=r'$d$')\n",
    "\n",
    "# Plot\n",
    "fig = go.FigureWidget()\n",
    "scattf = fig.add_scatter(mode='lines+markers', line_shape='spline')\n",
    "\n",
    "def response(change):\n",
    "    x = []\n",
    "    y = []\n",
    "    with fig.batch_update():\n",
    "        for i in range(1,201):\n",
    "            x.append(i)\n",
    "            y.append((slider_a.value*(math.sin(slider_b.value*i-slider_c.value))) + slider_d.value)\n",
    "        fig.data[0].x = x\n",
    "        fig.data[0].y = y\n",
    "        fig.update_layout(yaxis_range=[-20,20],\n",
    "                          xaxis_range=[0,200])\n",
    "\n",
    "slider_a.observe(response, names=\"value\")\n",
    "slider_b.observe(response, names=\"value\")\n",
    "slider_c.observe(response, names=\"value\")\n",
    "slider_d.observe(response, names=\"value\")\n",
    "response('')\n",
    "\n",
    "w.VBox([fig, slider_a, slider_b, slider_c, slider_d])"
   ]
  },
  {
   "cell_type": "markdown",
   "metadata": {},
   "source": [
    "### Example\n",
    "\n",
    "Write the equation of the sinusoidal function corresponding to the following graph.\n",
    "\n",
    "<img src=\"./figures/example_sin.jpg\" style=\"width: 700px;\"/>\n",
    "\n",
    "We start by computing the amplitude: we know that its value is given by\n",
    "\n",
    "$$a = \\frac{\\text{maximum value} - \\text{minimum value}}{2}$$ \n",
    "\n",
    "By looking at the graph we observe that the $\\text{maximum value} = 1$ and $\\text{minimum value} = -5$ so \n",
    "\n",
    "$$a = \\frac{1 -(-5)}{2} = \\frac{6}{2} = 3$$\n",
    "\n",
    "Next we know that the value of $d$ is given by \n",
    "\n",
    "$$d = \\frac{\\text{maximum value} + \\text{minimum value}}{2}.$$\n",
    "\n",
    "So $$d = \\frac{1 + (-5)}{2} = \\frac{-4}{2} = -2.$$\n",
    "\n",
    "Next we can compute the value of $b$. The period of the graph is 6, which can be measured from the peak at  $x = 1$  to the next peak at  $x = 7$, or from the distance between two troughs. We know that $T= \\frac{2\\pi}{b}$. By inverting the previous formula we get\n",
    "\n",
    "$$ b = \\frac{2\\pi}{T}=\\frac{2\\pi}{6}=\\frac{\\pi}{3}$$\n",
    "\n",
    "So far for our sinusoidal function equation, we have \n",
    "\n",
    "$$y = 3\\sin\\left(\\frac{\\pi}{3}x -c\\right) -2$$\n",
    "\n",
    "The simplest way to compute $c$ is by substituting the coordinates of a point on the curve into the function. For example, we can pick the point with coordinates $(1,1)$. Substituting these coordinates into our function we get\n",
    "\n",
    "$$1 = 3\\sin\\left(\\frac{\\pi}{3} -c\\right) -2$$\n",
    "\n",
    "$$3 = 3\\sin\\left(\\frac{\\pi}{3} -c\\right)$$\n",
    "\n",
    "$$1 = \\sin\\left(\\frac{\\pi}{3} -c\\right)$$\n",
    "When does $\\sin = 1$? Well, it does at many inputs, but the \"first\" one is $\\sin(\\frac{\\pi}{2})$.\n",
    "\n",
    "$$\\sin\\left(\\frac{\\pi}{2}\\right)=1$$\n",
    "\n",
    "$$\\left(\\frac{\\pi}{3} -c\\right)=\\frac{\\pi}{2}$$\n",
    "Solve for $c$ by getting all other terms on the other side. \n",
    " $$c =- \\frac{\\pi}{2} +\\frac{\\pi}{3}= \\frac{\\pi}{6}$$\n",
    "\n",
    "\n",
    "So our sinusoidal function has equation\n",
    "\n",
    "$$y = 3\\sin\\left(\\frac{\\pi}{3}x + \\frac{\\pi}{6}\\right) -2$$\n",
    "\n",
    "### Exercise\n",
    "\n",
    "Find the equation of the sinusoidal function for the graph below.\n",
    "\n",
    "<img src=\"./figures/sin_exercise.jpg\" style=\"width: 700px;\"/>"
   ]
  },
  {
   "cell_type": "markdown",
   "metadata": {},
   "source": [
    "***\n",
    "\n",
    "**Determine the characteristics parameters of a sinusoidal function**\n",
    "\n",
    "In the next example, we will learn how to compute the characteristic parameters when we're given the equation of a sinusoidal function."
   ]
  },
  {
   "cell_type": "markdown",
   "metadata": {},
   "source": [
    "Determine the characteristic parameters from the following equation:\n",
    "$$y = 5\\sin(3x) +2$$\n",
    "\n",
    "<ul>\n",
    "    <li>$a$ = 5 so the amplitude is 5\n",
    "     <li>$b$ = 3 so the period $T$ is $\\frac{2\\pi}{3}$\n",
    "     <li>$c$  = 0 so there is no horizontal translation\n",
    "     <li>$d$ = 2 so the equation of the midline is at $y = 2$\n",
    "<ul>\n"
   ]
  },
  {
   "cell_type": "markdown",
   "metadata": {},
   "source": [
    "> ## Exercise: Finding the characteristic parameters of a sinusoidal function\n",
    "\n",
    "Determine the characteristic parameters from the following equation:\n",
    "\n",
    "$$y = 14.1\\sin(4.2x+3.4)+2$$\n"
   ]
  },
  {
   "cell_type": "markdown",
   "metadata": {},
   "source": [
    "## Example: Finding a Sinusoidal Functions from Temperature Data\n",
    "\n",
    "Let's assume that we have some data representing the average temperate for each month:\n",
    "\n",
    "Month | Average Temperature\n",
    "--- | ---\n",
    " 1| 9.7\n",
    "2 | 13.4\n",
    "3 | 17\n",
    "4 | 22.2\n",
    "5 | 27.2\n",
    "6 | 32.9\n",
    "7 | 36.5\n",
    "8 | 38.4\n",
    "9 | 32.9\n",
    "10 | 24.4\n",
    "11 | 19\n",
    "12 | 11\n",
    "\n",
    "The data is presented in the graph below."
   ]
  },
  {
   "cell_type": "code",
   "execution_count": null,
   "metadata": {},
   "outputs": [],
   "source": [
    "month = np.linspace(1,12,12)\n",
    "temperature= np.array([9.7, 13.4, 17, 22.2, 27.2, 32.9, 36.5, 38.4, 32.2, 24.4, 19, 11])\n",
    "plt.plot(month, temperature, 'o')\n",
    "plt.title(\"Average temperature for each month \")\n",
    "plt.xlabel(\"Month\")\n",
    "plt.ylabel(\"Temperature\")\n",
    "axes = plt.gca()\n",
    "plt.show()"
   ]
  },
  {
   "cell_type": "markdown",
   "metadata": {},
   "source": [
    "We want to fit this data to a sinusoidal function $ y = a \\sin (bx-c)+d$.\n",
    "\n",
    "First of all, we need to determine the *amplitude* $a$:\n",
    "\n",
    "$$a = \\frac{\\text{maximum value} - \\text{minimum value}}{2} = \\frac{38.4-9.7}{2} =14.35$$\n",
    "\n",
    "Next, we determine the value of the midline $d$:\n",
    "\n",
    "$$d = \\frac{\\text{maximum value} + \\text{minimum value}}{2} = \\frac{38.4+9.7}{2} =24.05$$\n",
    "\n",
    "For this exercise, the frequency $b$ be computed in the following way. The  average temperature cycle will  repeat itself every year, so the period $T = 12$ months. Therefore $b$ can be computed by inverting the formula for the period $T$:\n",
    "\n",
    "$$b = \\frac{2\\pi}{T} = \\frac{2\\pi}{12} =0.52$$\n",
    "\n",
    "Using $a=14.35$, $b = 0.52$, and $d = 24.05$, determine horizontal shift by choosing an arbitrary data point $(x,y)$ from the given table and solving the equation \n",
    "\n",
    "$$y = 14.35 \\sin (0.52x-c)+24.05$$\n",
    "for $c$."
   ]
  },
  {
   "cell_type": "markdown",
   "metadata": {},
   "source": [
    "Let’s choose the first data point, $x = 1$ (January), $y = 9.7$\n",
    "\n",
    "$$9.7 = 14.35 \\sin (0.52(1)-c)+24.05$$\n",
    "\n",
    "$$-14.35.7 = 14.35 \\sin (0.52-c)$$\n",
    "\n",
    "$$-1 =  \\sin (0.52-c)$$\n"
   ]
  },
  {
   "cell_type": "markdown",
   "metadata": {},
   "source": [
    "When does $\\sin = -1$? Again, it does at many places, but the main one is at $- \\frac{\\pi}{2}$.\n",
    "\n",
    "$$\\sin\\left(-\\frac{\\pi}{2}\\right)=-1$$\n",
    "\n",
    "So we have\n",
    "\n",
    "$${0.52 -c}=-\\frac{\\pi}{2}$$\n",
    "Solve for $c$ by getting all other terms on the other side. \n",
    " $$c = \\frac{\\pi}{2} + 0.52 = 2.09$$"
   ]
  },
  {
   "cell_type": "markdown",
   "metadata": {},
   "source": [
    "So the sinusoidal function that fits the data is\n",
    "\n",
    "$$y = 14.35 \\sin (0.52x-2.09)+24.05$$\n",
    "\n",
    "and its graph is shown below."
   ]
  },
  {
   "cell_type": "code",
   "execution_count": null,
   "metadata": {},
   "outputs": [],
   "source": [
    "month = np.linspace(1,12,12)\n",
    "temperature= np.array([9.7, 13.4, 17, 22.2, 27.2, 32.9, 36.5, 38.4, 32.2, 24.4, 19, 11])\n",
    "x = np.linspace(1,12, 24)\n",
    "y = 14.35*np.sin(0.52*x -2.09) + 24.05\n",
    "plt.plot(month, temperature, 'o', label = 'Average temperature')\n",
    "plt.plot(x, y, label = 'Sinusoidal fit')\n",
    "plt.title(\"Average temperature for each month \")\n",
    "plt.xlabel(\"Month\")\n",
    "plt.ylabel(\"Temperature\")\n",
    "plt.legend(bbox_to_anchor=(1.05, 1), loc=2, borderaxespad=0.)\n",
    "axes = plt.gca()\n",
    "plt.show()"
   ]
  },
  {
   "cell_type": "markdown",
   "metadata": {},
   "source": [
    "### Exercise\n",
    "\n",
    "Tom boards the Ferris wheel at the Pacific Exhibition. When the ride begins, his height above the ground can be \n",
    "modelled by\n",
    "\n",
    "$$x = 43\\sin(3.5t-0.9)+47$$\n",
    "\n",
    "How long does it take to the Ferris wheel to complete one revolution (period)?\n",
    "\n",
    "What is the amplitude of the given function?\n",
    "\n",
    "What is Tom's height above the ground when $t=10$?\n",
    "\n",
    "What is the maximum height of Tom during the ride?"
   ]
  },
  {
   "cell_type": "markdown",
   "metadata": {},
   "source": [
    "### Conclusions\n",
    "\n",
    "<ul>\n",
    "    <li> Cyclic data can be fit by a sinusoidal curve\n",
    "     <li> A sinusoidal curve is uniquely defined by characteristic parameters\n",
    "     <li> The parameters are the amplitude, the frequency and  the horizontal and vertical translations "
   ]
  },
  {
   "cell_type": "markdown",
   "metadata": {},
   "source": [
    "[![Callysto.ca License](https://github.com/callysto/curriculum-notebooks/blob/master/callysto-notebook-banner-bottom.jpg?raw=true)](https://github.com/callysto/curriculum-notebooks/blob/master/LICENSE.md)"
   ]
  }
 ],
 "metadata": {
  "kernelspec": {
   "display_name": "Python 3 (ipykernel)",
   "language": "python",
   "name": "python3"
  },
  "language_info": {
   "codemirror_mode": {
    "name": "ipython",
    "version": 3
   },
   "file_extension": ".py",
   "mimetype": "text/x-python",
   "name": "python",
   "nbconvert_exporter": "python",
   "pygments_lexer": "ipython3",
   "version": "3.9.12"
  }
 },
 "nbformat": 4,
 "nbformat_minor": 4
}
