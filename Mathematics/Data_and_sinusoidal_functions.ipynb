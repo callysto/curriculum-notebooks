{
 "cells": [
  {
   "cell_type": "markdown",
   "metadata": {},
   "source": [
    "![alt text][top-banner]\n",
    "\n",
    "[top-banner]:./callysto-top-banner.jpg"
   ]
  },
  {
   "cell_type": "code",
   "execution_count": 5,
   "metadata": {},
   "outputs": [
    {
     "data": {
      "application/javascript": [
       "\n",
       "            require.config({\n",
       "                paths: {\n",
       "                    ggb: \"https://cdn.geogebra.org/apps/deployggb\"\n",
       "                }\n",
       "            });\n",
       "\n",
       "            require([\"ggb\"]);\n",
       "        "
      ],
      "text/plain": [
       "<IPython.core.display.Javascript object>"
      ]
     },
     "metadata": {},
     "output_type": "display_data"
    },
    {
     "data": {
      "text/html": [
       "<script>\n",
       "  function code_toggle() {\n",
       "    if (code_shown){\n",
       "      $('div.input').hide('500');\n",
       "      $('#toggleButton').val('Show Code')\n",
       "    } else {\n",
       "      $('div.input').show('500');\n",
       "      $('#toggleButton').val('Hide Code')\n",
       "    }\n",
       "    code_shown = !code_shown\n",
       "  }\n",
       "  \n",
       "  $( document ).ready(function(){\n",
       "    code_shown=false;\n",
       "    $('div.input').hide()\n",
       "  });\n",
       "</script>\n",
       "<form action=\"javascript:code_toggle()\"><input type=\"submit\" id=\"toggleButton\" value=\"Show Code\"></form>"
      ],
      "text/plain": [
       "<IPython.core.display.HTML object>"
      ]
     },
     "execution_count": 5,
     "metadata": {},
     "output_type": "execute_result"
    }
   ],
   "source": [
    "import numpy as np\n",
    "import pylab as plt\n",
    "from IPython.display import display, Latex, clear_output, Markdown, Image, HTML, Javascript\n",
    "import ipywidgets as widgets\n",
    "from astropy.table import Table, Column\n",
    "from ipywidgets import interact, interactive, Button , Layout\n",
    "import ipywidgets as w\n",
    "import matplotlib.pyplot as plt\n",
    "import plotly.graph_objs as go\n",
    "import math\n",
    "from ggb import *\n",
    "\n",
    "ggb = GGB()\n",
    "\n",
    "\n",
    "# Create a text box for user to input text\n",
    "\n",
    "get_user_text = w.Textarea( value='', placeholder='Enter your text here.', description='', disabled=False , layout=Layout(width='100%', height='250px') )\n",
    "\n",
    "# Create a slider to obtain shift integer from user \n",
    "\n",
    "get_user_shift = w.IntSlider( value=7, min=1, max=26, step=1, description='Ceasar Shift:', disabled=False, continuous_update=False, orientation='horizontal', readout=True, readout_format='d')\n",
    "\n",
    "# Function: After clicking on a button prompt, the next cell is executed.\n",
    "\n",
    "def rerun_cell(ev):\n",
    "    \n",
    "    display(Javascript('IPython.notebook.execute_cell_range(IPython.notebook.get_selected_index()+1,IPython.notebook.get_selected_index()+2)'))\n",
    "    button_t = w.Button(button_style='info',description=\"Restart\") \n",
    "\n",
    "\n",
    "from IPython.display import HTML\n",
    "HTML('''<script>\n",
    "  function code_toggle() {\n",
    "    if (code_shown){\n",
    "      $('div.input').hide('500');\n",
    "      $('#toggleButton').val('Show Code')\n",
    "    } else {\n",
    "      $('div.input').show('500');\n",
    "      $('#toggleButton').val('Hide Code')\n",
    "    }\n",
    "    code_shown = !code_shown\n",
    "  }\n",
    "  \n",
    "  $( document ).ready(function(){\n",
    "    code_shown=false;\n",
    "    $('div.input').hide()\n",
    "  });\n",
    "</script>\n",
    "<form action=\"javascript:code_toggle()\"><input type=\"submit\" id=\"toggleButton\" value=\"Show Code\"></form>''')"
   ]
  },
  {
   "cell_type": "markdown",
   "metadata": {},
   "source": [
    "# Represent data, using sinusoidal functions, to solve problems\n",
    "\n",
    "*By Jessica Cervi*\n",
    "\n",
    "![Math_Gif](https://media.giphy.com/media/l0HlOvy6nzJ0uwJry/giphy.gif)\n",
    "<center>*GIF taken from https://media.giphy.com/media/l0HlOvy6nzJ0uwJry/giphy.gif, June 26th, 2018.*</center>\n",
    "\n"
   ]
  },
  {
   "cell_type": "markdown",
   "metadata": {},
   "source": [
    "## Overview\n",
    "\n",
    ">### Lesson outcomes\n",
    "\n",
    "<ul>\n",
    "    <li> Graph data and determine the sinusoidal functions, that best approximates the data. </li>\n",
    "    <li> Interpret the graph of a sinusoidal function that models a situation, and explain the reasoning. </li>\n",
    "</ul>\n",
    "\n",
    "\n",
    ">## Introduction\n",
    "\n",
    "In Mathematics, given a set of data points, it is possible to construct a curve, or mathematical function, that has the best fit to those series of data points. This process is called curve fitting.\n",
    "\n",
    "In the case that the data are somewhat cyclic, it is possible to sketch a curve of best fit that somehow resembles a sinudoial function.  The fitting sinusoidal curve is found by determining the specific parameters which makes the curve match your data as closely as possible.\n",
    "\n",
    "To better understand what we mean by ciclyc data observe the applet below. It shows a pendulum swinging. By toggling the **graph** option, you can see that its movement at the point $A$ can be modeled by the particle $A'$ travelling on a sinusoidal function which can be written as\n",
    "\n",
    "$$f(t) = \\theta_0 \\cos\\left(\\sqrt{\\frac{g}{l}}t\\right)$$."
   ]
  },
  {
   "cell_type": "code",
   "execution_count": 6,
   "metadata": {},
   "outputs": [
    {
     "data": {
      "text/html": [
       "<div id=\"ggb_0_0e\"></div>"
      ],
      "text/plain": [
       "<IPython.core.display.HTML object>"
      ]
     },
     "metadata": {},
     "output_type": "display_data"
    },
    {
     "data": {
      "application/javascript": [
       "var ggb_0_0e = new GGBApplet({\"filename\": \"pendulum.ggb\"}, \"ggb_0_0e\", false); ggb_0_0e.inject(); "
      ],
      "text/plain": [
       "<IPython.core.display.Javascript object>"
      ]
     },
     "metadata": {},
     "output_type": "display_data"
    }
   ],
   "source": [
    "ggb.file('pendulum.ggb').draw();"
   ]
  },
  {
   "cell_type": "markdown",
   "metadata": {},
   "source": [
    "#### Example\n",
    "\n",
    "Suppose now we want to collect data about the height of the pendulum at different times as showed in the table below.\n",
    "\n",
    "\n",
    "Time |Height\n",
    "--- | ---\n",
    " 1| 9.7\n",
    "2 | 13.4\n",
    "3 | 17\n",
    "4 | 14.1\n",
    "5 | 9.3\n",
    "6 | 13.6\n",
    "7 | 16.8\n",
    "8 | 13.8\n",
    "9 | 9.2\n",
    "10 | 13.4\n",
    "\n",
    "The following plot shows the data collected."
   ]
  },
  {
   "cell_type": "code",
   "execution_count": 7,
   "metadata": {},
   "outputs": [
    {
     "data": {
      "image/png": "[encoded data removed]",
      "text/plain": [
       "<matplotlib.figure.Figure at 0x7f25abb60898>"
      ]
     },
     "metadata": {},
     "output_type": "display_data"
    }
   ],
   "source": [
    "time = np.linspace(1,10,10)\n",
    "height= np.array([9.7, 13.4, 17, 14.1, 9.3, 13.6, 16.8, 13.8, 9.2, 13.4])\n",
    "plt.plot(time, height, 'o')\n",
    "plt.title(\"Height of the pendulum \")\n",
    "plt.xlabel(\"Time\")\n",
    "plt.ylabel(\"Height\")\n",
    "axes = plt.gca()\n",
    "plt.show()"
   ]
  },
  {
   "cell_type": "markdown",
   "metadata": {},
   "source": [
    "The graph below shows the sinusoidal function that best fit the data we have collected."
   ]
  },
  {
   "cell_type": "code",
   "execution_count": 31,
   "metadata": {},
   "outputs": [
    {
     "data": {
      "image/png": "[encoded data removed]",
      "text/plain": [
       "<matplotlib.figure.Figure at 0x7f25a7f792b0>"
      ]
     },
     "metadata": {},
     "output_type": "display_data"
    }
   ],
   "source": [
    "time = np.linspace(1,10,10)\n",
    "height= np.array([9.7, 13.4, 17, 14.1, 9.3, 13.6, 16.8, 13.8, 9.2, 13.4])\n",
    "x = np.linspace(1,10, 40)\n",
    "y = 3.4*np.sin((2*np.pi)/5*x -1.59) + 13.1\n",
    "plt.plot(time, height, 'o', label = 'Average temperature')\n",
    "plt.plot(x, y, label = 'Sinusoidal fit')\n",
    "plt.title(\"Average temperature for each month \")\n",
    "plt.xlabel(\"Month\")\n",
    "plt.ylabel(\"Temperature\")\n",
    "plt.legend(bbox_to_anchor=(1.05, 1), loc=2, borderaxespad=0.)\n",
    "axes = plt.gca()\n",
    "plt.show()"
   ]
  },
  {
   "cell_type": "markdown",
   "metadata": {
    "slideshow": {
     "slide_type": "slide"
    }
   },
   "source": [
    "In the next sections we will learn how to construct a sinusoidal function from a given set of data."
   ]
  },
  {
   "cell_type": "markdown",
   "metadata": {},
   "source": [
    "## The sinusoidal function\n",
    "\n",
    "The key idea behind sinusoidal functions is that they can all be expressed as a sine function.\n",
    "\n",
    "The general form of a sinusoidal function can be written as\n",
    "$$ y = a \\sin (bx-c)+d$$\n",
    "\n",
    "We can also use the cosine function, but since $\\sin(x) = \\cos(\\pi/2 - x)$ for every $x$, we can express every sinusoidal function using the sine function.\n",
    "\n",
    "***\n",
    "\n",
    "**Features of a sinuoidal function**\n",
    "\n",
    "Each sinusoidal function can be uniquely determined by four characteristic paramenters:\n",
    "\n",
    "<ul>\n",
    "    <li>$a$ is the *amplitude*. The amplitude describes how \"tall\" or \"short\" a graph is and can be computed in the following way\n",
    "        $$a = \\frac{\\text{maximum value} - \\text{minimum value}}{2}$$ .      \n",
    "   <li> $b$ is the *frequency*. The frequency describes the number of cycles that happen in $360^{\\circ}$ or $2\\pi$. It can be used to compute the period  $T$ as \n",
    "    $$T= \\frac{360^{\\circ}}{b} \\quad\\text{  or  } \\quad T= \\frac{2\\pi}{b}$$ .\n",
    "    <li> $d$ is the *midline* and it indicates by how much the function has been translated vertically. It can be computed as\n",
    "    $$d = \\frac{\\text{maximum value} + \\text{minimum value}}{2}$$\n",
    "    If $d>0$, the graph is shifted up, otherwise it is shifted down.\n",
    "        <li> $c$ is the *phase shift* and it indicates the horizontal translation that has been applied to the graph of \n",
    "    $$y=\\sin(x)$$\n",
    "    If $c>0$ the graph is shifted to the right, otherwise it is shifted to the left.\n",
    "\n",
    "<ul>\n",
    "    \n"
   ]
  },
  {
   "cell_type": "markdown",
   "metadata": {},
   "source": [
    "<img src=\"./sine_sinusoidal.jpg\" style=\"width: 500px;\"/>"
   ]
  },
  {
   "cell_type": "markdown",
   "metadata": {},
   "source": [
    "## Matching the equation of a sinusoidal function to the corresponding graph\n",
    "\n",
    "In this section, we will learn how to describe the characteristics of a sinusoidal function by analyzing its graph.\n",
    "\n",
    "The simplest and most basic sinusoidal function we could come across to is $$y=sin(x),$$ which graph is\n",
    "<img src=\"./sine.jpg\" style=\"width: 700px;\"/>\n",
    "\n",
    "We already leaned that the value of $a$ changes how tall or short the graph is. The figure below shows you different sinusoidal functions that have different amplitudes.\n",
    "\n",
    "<img src=\"./amplitudes.jpg\" style=\"width: 700px;\"/>\n",
    "\n",
    "By changing the value of $b$, we can see wheter a graph is more stretched out or not. The figure below shows you different functions with different periods.\n",
    "\n",
    "<img src=\"./periods.jpg\" style=\"width: 700px;\"/>\n",
    "\n",
    "The figure below describes how the value of $c$ translates the graph horizontally.  \n",
    "\n",
    "<img src=\"./c_values.jpg\" style=\"width: 700px;\"/>\n",
    "\n",
    "Finally, the figure below shows how $d$ moves the graph of $\\sin(x)$ vertically.\n",
    "\n",
    "<img src=\"./d_value.jpg\" style=\"width: 700px;\"/>"
   ]
  },
  {
   "cell_type": "markdown",
   "metadata": {},
   "source": [
    "### Example\n",
    "\n",
    "Write the equation of the sinuoidal function corresponding to the following graph\n",
    "\n",
    "<img src=\"./example_sin.jpg\" style=\"width: 700px;\"/>\n",
    "\n",
    "We start by computing the amplitude: we know that its value is given by $$a = \\frac{\\text{maximum value} - \\text{minimum value}}{2}$$. By looking at the graph we observe that the $\\text{maximum value} = 1$ and $\\text{minimum value} = -5$ so $$a \\frac{1 -(-5)}{2} = \\frac{6}{2} = 3$$\n",
    "\n",
    "Next we know that the value of $d$ is given by $$d = \\frac{\\text{maximum value} + \\text{minimum value}}{2}.$$\n",
    "So $$d = \\frac{1 + (-5)}{2} = \\frac{-4}{2} = -2.$$\n",
    "\n",
    "Next we can compute the value of $b$. The period of the graph is 6, which can be measured from the peak at  x = 1  to the next peak at  x = 7, or from the distance between the lowest points.We know that $T= \\frac{2\\pi}{b}$. By inverting the previous formula we get $$ b = \\frac{2\\pi}{T}=\\frac{2\\pi}{6}=\\frac{\\pi}{3}$$\n",
    "\n",
    "So so far we have $$y = 3\\sin\\left(\\frac{\\pi}{3}x -c\\right) -2$$\n",
    "\n",
    "The simplest way to compute $c$ is by substiting the coordinates of a point. We can pick for example the point with coordinate $(1,1)$. Sobstituting in our function we get\n",
    "\n",
    "$$1 = 3\\sin\\left(\\frac{\\pi}{3} -c\\right) -2$$\n",
    "$$3 = 3\\sin\\left(\\frac{\\pi}{3} -c\\right)$$\n",
    "$$1 = \\sin\\left(\\frac{\\pi}{3} -c\\right)$$\n",
    "When does $\\sin = 1$? For consistency, we will choose an angle between $-pi/2$ and $pi/2$. \n",
    "\n",
    "$$\\sin\\left(\\frac{\\pi}{2}\\right)=1$$\n",
    "$$\\left(\\frac{\\pi}{3} -c\\right)=\\frac{\\pi}{2}$$\n",
    "Solve for $c$ by getting all other terms on the other side. \n",
    " $$c =- \\frac{\\pi}{2} +\\frac{\\pi}{3}= \\frac{\\pi}{3}$$\n",
    "\n",
    "\n",
    "So our sinusoidal function as equation\n",
    "\n",
    "$$y = 3\\sin\\left(\\frac{\\pi}{3}x + \\frac{\\pi}{3}\\right) -2$$\n",
    "\n",
    "### Exercise\n",
    "\n",
    "Given the graph below,  you are asked to find the equation of the sinusoidal function \n",
    "\n",
    "<img src=\"./sin_exercise.jpg\" style=\"width: 700px;\"/>"
   ]
  },
  {
   "cell_type": "code",
   "execution_count": 9,
   "metadata": {},
   "outputs": [
    {
     "data": {
      "text/latex": [
       "What is the amplitude of the function in the graph ?"
      ],
      "text/plain": [
       "<IPython.core.display.Latex object>"
      ]
     },
     "metadata": {},
     "output_type": "display_data"
    },
    {
     "data": {
      "application/vnd.jupyter.widget-view+json": {
       "model_id": "d4faeaaf2921409ba203ef4fc3d0a969",
       "version_major": 2,
       "version_minor": 0
      },
      "text/html": [
       "<p>Failed to display Jupyter Widget of type <code>Text</code>.</p>\n",
       "<p>\n",
       "  If you're reading this message in the Jupyter Notebook or JupyterLab Notebook, it may mean\n",
       "  that the widgets JavaScript is still loading. If this message persists, it\n",
       "  likely means that the widgets JavaScript library is either not installed or\n",
       "  not enabled. See the <a href=\"https://ipywidgets.readthedocs.io/en/stable/user_install.html\">Jupyter\n",
       "  Widgets Documentation</a> for setup instructions.\n",
       "</p>\n",
       "<p>\n",
       "  If you're reading this message in another frontend (for example, a static\n",
       "  rendering on GitHub or <a href=\"https://nbviewer.jupyter.org/\">NBViewer</a>),\n",
       "  it may mean that your frontend doesn't currently support widgets.\n",
       "</p>\n"
      ],
      "text/plain": [
       "Text(value='', placeholder='Your answer')"
      ]
     },
     "metadata": {},
     "output_type": "display_data"
    },
    {
     "data": {
      "application/vnd.jupyter.widget-view+json": {
       "model_id": "765bf8f7e4ac4b2abc7d281a3f50d711",
       "version_major": 2,
       "version_minor": 0
      },
      "text/html": [
       "<p>Failed to display Jupyter Widget of type <code>Button</code>.</p>\n",
       "<p>\n",
       "  If you're reading this message in the Jupyter Notebook or JupyterLab Notebook, it may mean\n",
       "  that the widgets JavaScript is still loading. If this message persists, it\n",
       "  likely means that the widgets JavaScript library is either not installed or\n",
       "  not enabled. See the <a href=\"https://ipywidgets.readthedocs.io/en/stable/user_install.html\">Jupyter\n",
       "  Widgets Documentation</a> for setup instructions.\n",
       "</p>\n",
       "<p>\n",
       "  If you're reading this message in another frontend (for example, a static\n",
       "  rendering on GitHub or <a href=\"https://nbviewer.jupyter.org/\">NBViewer</a>),\n",
       "  it may mean that your frontend doesn't currently support widgets.\n",
       "</p>\n"
      ],
      "text/plain": [
       "Button(button_style='info', description='Enter', layout=Layout(height='30px', width='15%'), style=ButtonStyle())"
      ]
     },
     "metadata": {},
     "output_type": "display_data"
    },
    {
     "data": {
      "application/javascript": [
       "IPython.notebook.execute_cell_range(IPython.notebook.get_selected_index()+1,IPython.notebook.get_selected_index()+2)"
      ],
      "text/plain": [
       "<IPython.core.display.Javascript object>"
      ]
     },
     "metadata": {},
     "output_type": "display_data"
    }
   ],
   "source": [
    "display(Latex(\"What is the amplitude of the function in the graph ?\"))\n",
    "\n",
    "\n",
    "attempts = 0\n",
    "exercise_1 = w.Text( placeholder='Your answer', description='', disabled=False )\n",
    "display(exercise_1)\n",
    "\n",
    "button_exercise_1 = w.Button(button_style='info',description=\"Enter\", layout=Layout(width='15%', height='30px') )\n",
    "button_exercise_1.on_click(rerun_cell)\n",
    "display(button_exercise_1)"
   ]
  },
  {
   "cell_type": "code",
   "execution_count": 11,
   "metadata": {},
   "outputs": [
    {
     "data": {
      "text/markdown": [
       "#### Your answer is correct."
      ],
      "text/plain": [
       "<IPython.core.display.Markdown object>"
      ]
     },
     "metadata": {},
     "output_type": "display_data"
    },
    {
     "data": {
      "text/markdown": [
       "#### The amplitude is \n",
       " $2$."
      ],
      "text/plain": [
       "<IPython.core.display.Markdown object>"
      ]
     },
     "metadata": {},
     "output_type": "display_data"
    }
   ],
   "source": [
    "# Exercise 1 user answer handling\n",
    "\n",
    "user_answer = exercise_1.value\n",
    "expected_answer = '2'\n",
    "\n",
    "\n",
    "    \n",
    "# Close the option to keep attempting the answer \n",
    "    \n",
    "if(attempts >= 3):\n",
    "        \n",
    "        exercise_1.close()\n",
    "        button_exercise_1.close()\n",
    "        \n",
    "    \n",
    "        display(Markdown(\"#### The amplitude is \\n $2$.\"))\n",
    "\n",
    "        \n",
    "    # If answer is correct, display appropriate markdown cells\n",
    "    \n",
    "if(user_answer == expected_answer):\n",
    "        \n",
    "        display(Markdown(\"#### Your answer is correct.\"))\n",
    "        display(Markdown(\"#### The amplitude is \\n $2$.\"))\n",
    "        \n",
    "        exercise_1.close()\n",
    "        button_exercise_1.close()\n",
    "        \n",
    "else:\n",
    "        \n",
    "        attempts += 1\n",
    "        \n",
    "        if(attempts < 3):\n",
    "            display(Markdown(\"# Please try again.\"))\n",
    "        "
   ]
  },
  {
   "cell_type": "code",
   "execution_count": 12,
   "metadata": {},
   "outputs": [
    {
     "data": {
      "text/latex": [
       "What is the vertical translation of the sinusoidal function ?"
      ],
      "text/plain": [
       "<IPython.core.display.Latex object>"
      ]
     },
     "metadata": {},
     "output_type": "display_data"
    },
    {
     "data": {
      "application/vnd.jupyter.widget-view+json": {
       "model_id": "366d61f5d0524adab45b18c344991d60",
       "version_major": 2,
       "version_minor": 0
      },
      "text/html": [
       "<p>Failed to display Jupyter Widget of type <code>Text</code>.</p>\n",
       "<p>\n",
       "  If you're reading this message in the Jupyter Notebook or JupyterLab Notebook, it may mean\n",
       "  that the widgets JavaScript is still loading. If this message persists, it\n",
       "  likely means that the widgets JavaScript library is either not installed or\n",
       "  not enabled. See the <a href=\"https://ipywidgets.readthedocs.io/en/stable/user_install.html\">Jupyter\n",
       "  Widgets Documentation</a> for setup instructions.\n",
       "</p>\n",
       "<p>\n",
       "  If you're reading this message in another frontend (for example, a static\n",
       "  rendering on GitHub or <a href=\"https://nbviewer.jupyter.org/\">NBViewer</a>),\n",
       "  it may mean that your frontend doesn't currently support widgets.\n",
       "</p>\n"
      ],
      "text/plain": [
       "Text(value='', placeholder='Your answer')"
      ]
     },
     "metadata": {},
     "output_type": "display_data"
    },
    {
     "data": {
      "application/vnd.jupyter.widget-view+json": {
       "model_id": "a2ed4cdc97714a87a198cc205af97dd4",
       "version_major": 2,
       "version_minor": 0
      },
      "text/html": [
       "<p>Failed to display Jupyter Widget of type <code>Button</code>.</p>\n",
       "<p>\n",
       "  If you're reading this message in the Jupyter Notebook or JupyterLab Notebook, it may mean\n",
       "  that the widgets JavaScript is still loading. If this message persists, it\n",
       "  likely means that the widgets JavaScript library is either not installed or\n",
       "  not enabled. See the <a href=\"https://ipywidgets.readthedocs.io/en/stable/user_install.html\">Jupyter\n",
       "  Widgets Documentation</a> for setup instructions.\n",
       "</p>\n",
       "<p>\n",
       "  If you're reading this message in another frontend (for example, a static\n",
       "  rendering on GitHub or <a href=\"https://nbviewer.jupyter.org/\">NBViewer</a>),\n",
       "  it may mean that your frontend doesn't currently support widgets.\n",
       "</p>\n"
      ],
      "text/plain": [
       "Button(button_style='info', description='Enter', layout=Layout(height='30px', width='15%'), style=ButtonStyle())"
      ]
     },
     "metadata": {},
     "output_type": "display_data"
    },
    {
     "data": {
      "application/javascript": [
       "IPython.notebook.execute_cell_range(IPython.notebook.get_selected_index()+1,IPython.notebook.get_selected_index()+2)"
      ],
      "text/plain": [
       "<IPython.core.display.Javascript object>"
      ]
     },
     "metadata": {},
     "output_type": "display_data"
    }
   ],
   "source": [
    "display(Latex(\"What is the vertical translation of the sinusoidal function ?\"))\n",
    "\n",
    "\n",
    "attempts = 0\n",
    "exercise_1 = w.Text( placeholder='Your answer', description='', disabled=False )\n",
    "display(exercise_1)\n",
    "\n",
    "button_exercise_1 = w.Button(button_style='info',description=\"Enter\", layout=Layout(width='15%', height='30px') )\n",
    "button_exercise_1.on_click(rerun_cell)\n",
    "display(button_exercise_1)"
   ]
  },
  {
   "cell_type": "code",
   "execution_count": 14,
   "metadata": {},
   "outputs": [
    {
     "data": {
      "text/markdown": [
       "#### Your answer is correct."
      ],
      "text/plain": [
       "<IPython.core.display.Markdown object>"
      ]
     },
     "metadata": {},
     "output_type": "display_data"
    },
    {
     "data": {
      "text/markdown": [
       "#### The vertical translation is \n",
       " $2$."
      ],
      "text/plain": [
       "<IPython.core.display.Markdown object>"
      ]
     },
     "metadata": {},
     "output_type": "display_data"
    }
   ],
   "source": [
    "# Exercise 1 user answer handling\n",
    "\n",
    "user_answer = exercise_1.value\n",
    "expected_answer = '2'\n",
    "\n",
    "\n",
    "    \n",
    "# Close the option to keep attempting the answer \n",
    "    \n",
    "if(attempts >= 3):\n",
    "        \n",
    "        exercise_1.close()\n",
    "        button_exercise_1.close()\n",
    "        \n",
    "    \n",
    "        display(Markdown(\"#### The vertical translation is \\n $2$.\"))\n",
    "\n",
    "        \n",
    "    # If answer is correct, display appropriate markdown cells\n",
    "    \n",
    "if(user_answer == expected_answer):\n",
    "        \n",
    "        display(Markdown(\"#### Your answer is correct.\"))\n",
    "        display(Markdown(\"#### The vertical translation is \\n $2$.\"))\n",
    "        \n",
    "        exercise_1.close()\n",
    "        button_exercise_1.close()\n",
    "        \n",
    "else:\n",
    "        \n",
    "        attempts += 1\n",
    "        \n",
    "        if(attempts < 3):\n",
    "            display(Markdown(\"# Please try again.\"))\n",
    "        "
   ]
  },
  {
   "cell_type": "code",
   "execution_count": 15,
   "metadata": {},
   "outputs": [
    {
     "data": {
      "text/latex": [
       "What is the frequency of the sinusoidal function ?"
      ],
      "text/plain": [
       "<IPython.core.display.Latex object>"
      ]
     },
     "metadata": {},
     "output_type": "display_data"
    },
    {
     "data": {
      "application/vnd.jupyter.widget-view+json": {
       "model_id": "a624e8ee240a4cdcaff4714b63bd2e7a",
       "version_major": 2,
       "version_minor": 0
      },
      "text/html": [
       "<p>Failed to display Jupyter Widget of type <code>Text</code>.</p>\n",
       "<p>\n",
       "  If you're reading this message in the Jupyter Notebook or JupyterLab Notebook, it may mean\n",
       "  that the widgets JavaScript is still loading. If this message persists, it\n",
       "  likely means that the widgets JavaScript library is either not installed or\n",
       "  not enabled. See the <a href=\"https://ipywidgets.readthedocs.io/en/stable/user_install.html\">Jupyter\n",
       "  Widgets Documentation</a> for setup instructions.\n",
       "</p>\n",
       "<p>\n",
       "  If you're reading this message in another frontend (for example, a static\n",
       "  rendering on GitHub or <a href=\"https://nbviewer.jupyter.org/\">NBViewer</a>),\n",
       "  it may mean that your frontend doesn't currently support widgets.\n",
       "</p>\n"
      ],
      "text/plain": [
       "Text(value='', placeholder='Your answer')"
      ]
     },
     "metadata": {},
     "output_type": "display_data"
    },
    {
     "data": {
      "application/vnd.jupyter.widget-view+json": {
       "model_id": "654a0fe5a38241e4b73e1022f6b07131",
       "version_major": 2,
       "version_minor": 0
      },
      "text/html": [
       "<p>Failed to display Jupyter Widget of type <code>Button</code>.</p>\n",
       "<p>\n",
       "  If you're reading this message in the Jupyter Notebook or JupyterLab Notebook, it may mean\n",
       "  that the widgets JavaScript is still loading. If this message persists, it\n",
       "  likely means that the widgets JavaScript library is either not installed or\n",
       "  not enabled. See the <a href=\"https://ipywidgets.readthedocs.io/en/stable/user_install.html\">Jupyter\n",
       "  Widgets Documentation</a> for setup instructions.\n",
       "</p>\n",
       "<p>\n",
       "  If you're reading this message in another frontend (for example, a static\n",
       "  rendering on GitHub or <a href=\"https://nbviewer.jupyter.org/\">NBViewer</a>),\n",
       "  it may mean that your frontend doesn't currently support widgets.\n",
       "</p>\n"
      ],
      "text/plain": [
       "Button(button_style='info', description='Enter', layout=Layout(height='30px', width='15%'), style=ButtonStyle())"
      ]
     },
     "metadata": {},
     "output_type": "display_data"
    },
    {
     "data": {
      "application/javascript": [
       "IPython.notebook.execute_cell_range(IPython.notebook.get_selected_index()+1,IPython.notebook.get_selected_index()+2)"
      ],
      "text/plain": [
       "<IPython.core.display.Javascript object>"
      ]
     },
     "metadata": {},
     "output_type": "display_data"
    }
   ],
   "source": [
    "display(Latex(\"What is the frequency of the sinusoidal function ?\"))\n",
    "\n",
    "\n",
    "attempts = 0\n",
    "exercise_1 = w.Text( placeholder='Your answer', description='', disabled=False )\n",
    "display(exercise_1)\n",
    "\n",
    "button_exercise_1 = w.Button(button_style='info',description=\"Enter\", layout=Layout(width='15%', height='30px') )\n",
    "button_exercise_1.on_click(rerun_cell)\n",
    "display(button_exercise_1)"
   ]
  },
  {
   "cell_type": "code",
   "execution_count": 17,
   "metadata": {},
   "outputs": [
    {
     "data": {
      "text/markdown": [
       "#### Your answer is correct."
      ],
      "text/plain": [
       "<IPython.core.display.Markdown object>"
      ]
     },
     "metadata": {},
     "output_type": "display_data"
    },
    {
     "data": {
      "text/markdown": [
       "#### The frequency is \n",
       " $pi/2$."
      ],
      "text/plain": [
       "<IPython.core.display.Markdown object>"
      ]
     },
     "metadata": {},
     "output_type": "display_data"
    }
   ],
   "source": [
    "# Exercise 1 user answer handling\n",
    "\n",
    "user_answer = exercise_1.value\n",
    "expected_answer = 'pi/2'\n",
    "\n",
    "\n",
    "    \n",
    "# Close the option to keep attempting the answer \n",
    "    \n",
    "if(attempts >= 3):\n",
    "        \n",
    "        exercise_1.close()\n",
    "        button_exercise_1.close()\n",
    "        \n",
    "    \n",
    "        display(Markdown(\"#### The frequncy is \\n $\\pi/2$.\"))\n",
    "\n",
    "        \n",
    "    # If answer is correct, display appropriate markdown cells\n",
    "    \n",
    "if(user_answer == expected_answer):\n",
    "        \n",
    "        display(Markdown(\"#### Your answer is correct.\"))\n",
    "        display(Markdown(\"#### The frequency is \\n $pi/2$.\"))\n",
    "        \n",
    "        exercise_1.close()\n",
    "        button_exercise_1.close()\n",
    "        \n",
    "else:\n",
    "        \n",
    "        attempts += 1\n",
    "        \n",
    "        if(attempts < 3):\n",
    "            display(Markdown(\"# Please try again.\"))"
   ]
  },
  {
   "cell_type": "code",
   "execution_count": 18,
   "metadata": {},
   "outputs": [
    {
     "data": {
      "text/latex": [
       "What is the horizontal translation of the sinusoidal function ?"
      ],
      "text/plain": [
       "<IPython.core.display.Latex object>"
      ]
     },
     "metadata": {},
     "output_type": "display_data"
    },
    {
     "data": {
      "application/vnd.jupyter.widget-view+json": {
       "model_id": "b3214d75d3924f069ccab570fd34e671",
       "version_major": 2,
       "version_minor": 0
      },
      "text/html": [
       "<p>Failed to display Jupyter Widget of type <code>Text</code>.</p>\n",
       "<p>\n",
       "  If you're reading this message in the Jupyter Notebook or JupyterLab Notebook, it may mean\n",
       "  that the widgets JavaScript is still loading. If this message persists, it\n",
       "  likely means that the widgets JavaScript library is either not installed or\n",
       "  not enabled. See the <a href=\"https://ipywidgets.readthedocs.io/en/stable/user_install.html\">Jupyter\n",
       "  Widgets Documentation</a> for setup instructions.\n",
       "</p>\n",
       "<p>\n",
       "  If you're reading this message in another frontend (for example, a static\n",
       "  rendering on GitHub or <a href=\"https://nbviewer.jupyter.org/\">NBViewer</a>),\n",
       "  it may mean that your frontend doesn't currently support widgets.\n",
       "</p>\n"
      ],
      "text/plain": [
       "Text(value='', placeholder='Your answer')"
      ]
     },
     "metadata": {},
     "output_type": "display_data"
    },
    {
     "data": {
      "application/vnd.jupyter.widget-view+json": {
       "model_id": "0d41673d594e4e6bb85ac42e282d7be8",
       "version_major": 2,
       "version_minor": 0
      },
      "text/html": [
       "<p>Failed to display Jupyter Widget of type <code>Button</code>.</p>\n",
       "<p>\n",
       "  If you're reading this message in the Jupyter Notebook or JupyterLab Notebook, it may mean\n",
       "  that the widgets JavaScript is still loading. If this message persists, it\n",
       "  likely means that the widgets JavaScript library is either not installed or\n",
       "  not enabled. See the <a href=\"https://ipywidgets.readthedocs.io/en/stable/user_install.html\">Jupyter\n",
       "  Widgets Documentation</a> for setup instructions.\n",
       "</p>\n",
       "<p>\n",
       "  If you're reading this message in another frontend (for example, a static\n",
       "  rendering on GitHub or <a href=\"https://nbviewer.jupyter.org/\">NBViewer</a>),\n",
       "  it may mean that your frontend doesn't currently support widgets.\n",
       "</p>\n"
      ],
      "text/plain": [
       "Button(button_style='info', description='Enter', layout=Layout(height='30px', width='15%'), style=ButtonStyle())"
      ]
     },
     "metadata": {},
     "output_type": "display_data"
    }
   ],
   "source": [
    "display(Latex(\"What is the horizontal translation of the sinusoidal function ?\"))\n",
    "\n",
    "\n",
    "attempts = 0\n",
    "exercise_1 = w.Text( placeholder='Your answer', description='', disabled=False )\n",
    "display(exercise_1)\n",
    "\n",
    "button_exercise_1 = w.Button(button_style='info',description=\"Enter\", layout=Layout(width='15%', height='30px') )\n",
    "button_exercise_1.on_click(rerun_cell)\n",
    "display(button_exercise_1)"
   ]
  },
  {
   "cell_type": "code",
   "execution_count": 19,
   "metadata": {},
   "outputs": [
    {
     "data": {
      "text/markdown": [
       "# Please try again."
      ],
      "text/plain": [
       "<IPython.core.display.Markdown object>"
      ]
     },
     "metadata": {},
     "output_type": "display_data"
    }
   ],
   "source": [
    "# Exercise 1 user answer handling\n",
    "\n",
    "user_answer = exercise_1.value\n",
    "expected_answer = 'pi/4'\n",
    "\n",
    "\n",
    "    \n",
    "# Close the option to keep attempting the answer \n",
    "    \n",
    "if(attempts >= 3):\n",
    "        \n",
    "        exercise_1.close()\n",
    "        button_exercise_1.close()\n",
    "        \n",
    "    \n",
    "        display(Markdown(\"#### The horizontal translation is \\n $pi/4$.\"))\n",
    "\n",
    "        \n",
    "    # If answer is correct, display appropriate markdown cells\n",
    "    \n",
    "if(user_answer == expected_answer):\n",
    "        \n",
    "        display(Markdown(\"#### Your answer is correct.\"))\n",
    "        display(Markdown(\"#### The horizontal translation is \\n $\\pi/4$.\"))\n",
    "        \n",
    "        exercise_1.close()\n",
    "        button_exercise_1.close()\n",
    "        \n",
    "else:\n",
    "        \n",
    "        attempts += 1\n",
    "        \n",
    "        if(attempts < 3):\n",
    "            display(Markdown(\"# Please try again.\"))"
   ]
  },
  {
   "cell_type": "markdown",
   "metadata": {},
   "source": [
    "In this lesson we will only be looking at **sinusoidal functions**.\n",
    "\n",
    "Use the activity below to understand wheter you are dealing of not with the equation of a *sinusoidal* function"
   ]
  },
  {
   "cell_type": "code",
   "execution_count": 20,
   "metadata": {},
   "outputs": [
    {
     "data": {
      "text/latex": [
       "Is this the equation of a sinusoidal function?"
      ],
      "text/plain": [
       "<IPython.core.display.Latex object>"
      ]
     },
     "metadata": {},
     "output_type": "display_data"
    },
    {
     "data": {
      "text/latex": [
       "$$y = 12\\cos(\\pi x +3.45) -3$$"
      ],
      "text/plain": [
       "<IPython.core.display.Latex object>"
      ]
     },
     "metadata": {},
     "output_type": "display_data"
    },
    {
     "data": {
      "application/vnd.jupyter.widget-view+json": {
       "model_id": "f7834135ba12467d9bfb87b341c25995",
       "version_major": 2,
       "version_minor": 0
      },
      "text/html": [
       "<p>Failed to display Jupyter Widget of type <code>interactive</code>.</p>\n",
       "<p>\n",
       "  If you're reading this message in the Jupyter Notebook or JupyterLab Notebook, it may mean\n",
       "  that the widgets JavaScript is still loading. If this message persists, it\n",
       "  likely means that the widgets JavaScript library is either not installed or\n",
       "  not enabled. See the <a href=\"https://ipywidgets.readthedocs.io/en/stable/user_install.html\">Jupyter\n",
       "  Widgets Documentation</a> for setup instructions.\n",
       "</p>\n",
       "<p>\n",
       "  If you're reading this message in another frontend (for example, a static\n",
       "  rendering on GitHub or <a href=\"https://nbviewer.jupyter.org/\">NBViewer</a>),\n",
       "  it may mean that your frontend doesn't currently support widgets.\n",
       "</p>\n"
      ],
      "text/plain": [
       "interactive(children=(Dropdown(description='Choose One:', options=(' ', 'Yes', 'No'), value=' '), Output()), _dom_classes=('widget-interact',))"
      ]
     },
     "metadata": {},
     "output_type": "display_data"
    }
   ],
   "source": [
    "def lin_or_non(val):\n",
    "    if val == \"Yes\":\n",
    "        display(Latex(\"Correct!\"))\n",
    "        #display(Latex(\"This equation has no exponent on either variable, and is therefore linear.\"))\n",
    "    elif val == \"No\":\n",
    "        display(Latex(\"Try Again!\"))\n",
    "\n",
    "display(Latex(\"Is this the equation of a sinusoidal function?\"))\n",
    "display(Latex('$$y = 12\\cos(\\pi x +3.45) -3$$'))\n",
    "    \n",
    "interact(lin_or_non, val = widgets.Dropdown(options=[' ', 'Yes', 'No'],value = ' ',description = 'Choose One:',disabled = False));\n",
    "\n"
   ]
  },
  {
   "cell_type": "markdown",
   "metadata": {},
   "source": [
    "***\n",
    "\n",
    "**Determine the characteristics parameters of a sinuoidal function**\n",
    "\n",
    "In the next example, we will learn how to compute the characteristic parameters given the equation of a sinusoidal function"
   ]
  },
  {
   "cell_type": "markdown",
   "metadata": {},
   "source": [
    "Determine the characteristics parameters from the following equation\n",
    "$$y = 5\\sin(3x) +2$$\n",
    "\n",
    "<ul>\n",
    "    <li>$a$ = 5 so the amplitude is 5\n",
    "     <li>$b$ = 3 so the period $T$ is $\\frac{2\\pi}{3}$\n",
    "     <li>$c$  = 0 so there is no horizontal translation\n",
    "     <li>$d$ = 2 so the midline is at$y = 2$\n",
    "<ul>\n"
   ]
  },
  {
   "cell_type": "markdown",
   "metadata": {},
   "source": [
    "> ## Exercise: Finding the characteristic parameters of a sinusoidal function\n",
    "\n",
    "Determine the characteristics parameters from the following equation\n",
    "\n",
    "$$y = 14.1\\sin(4.2x+3.4)+2$$\n"
   ]
  },
  {
   "cell_type": "code",
   "execution_count": 21,
   "metadata": {},
   "outputs": [
    {
     "data": {
      "text/latex": [
       "What is the amplitude of the given sinusoidal function?"
      ],
      "text/plain": [
       "<IPython.core.display.Latex object>"
      ]
     },
     "metadata": {},
     "output_type": "display_data"
    },
    {
     "data": {
      "application/vnd.jupyter.widget-view+json": {
       "model_id": "3f6389b8cbf941e88578aa8574cda708",
       "version_major": 2,
       "version_minor": 0
      },
      "text/html": [
       "<p>Failed to display Jupyter Widget of type <code>Text</code>.</p>\n",
       "<p>\n",
       "  If you're reading this message in the Jupyter Notebook or JupyterLab Notebook, it may mean\n",
       "  that the widgets JavaScript is still loading. If this message persists, it\n",
       "  likely means that the widgets JavaScript library is either not installed or\n",
       "  not enabled. See the <a href=\"https://ipywidgets.readthedocs.io/en/stable/user_install.html\">Jupyter\n",
       "  Widgets Documentation</a> for setup instructions.\n",
       "</p>\n",
       "<p>\n",
       "  If you're reading this message in another frontend (for example, a static\n",
       "  rendering on GitHub or <a href=\"https://nbviewer.jupyter.org/\">NBViewer</a>),\n",
       "  it may mean that your frontend doesn't currently support widgets.\n",
       "</p>\n"
      ],
      "text/plain": [
       "Text(value='', placeholder='Your answer')"
      ]
     },
     "metadata": {},
     "output_type": "display_data"
    },
    {
     "data": {
      "application/vnd.jupyter.widget-view+json": {
       "model_id": "150d1ad40bea492e99aded5e32f11019",
       "version_major": 2,
       "version_minor": 0
      },
      "text/html": [
       "<p>Failed to display Jupyter Widget of type <code>Button</code>.</p>\n",
       "<p>\n",
       "  If you're reading this message in the Jupyter Notebook or JupyterLab Notebook, it may mean\n",
       "  that the widgets JavaScript is still loading. If this message persists, it\n",
       "  likely means that the widgets JavaScript library is either not installed or\n",
       "  not enabled. See the <a href=\"https://ipywidgets.readthedocs.io/en/stable/user_install.html\">Jupyter\n",
       "  Widgets Documentation</a> for setup instructions.\n",
       "</p>\n",
       "<p>\n",
       "  If you're reading this message in another frontend (for example, a static\n",
       "  rendering on GitHub or <a href=\"https://nbviewer.jupyter.org/\">NBViewer</a>),\n",
       "  it may mean that your frontend doesn't currently support widgets.\n",
       "</p>\n"
      ],
      "text/plain": [
       "Button(button_style='info', description='Enter', layout=Layout(height='30px', width='15%'), style=ButtonStyle())"
      ]
     },
     "metadata": {},
     "output_type": "display_data"
    }
   ],
   "source": [
    "display(Latex(\"What is the amplitude of the given sinusoidal function?\"))\n",
    "\n",
    "\n",
    "#value = display(widgets.Text(value='',placeholder='Type something',description='Amplitude =:',disabled=False))\n",
    "\n",
    "\n",
    "attempts = 0\n",
    "exercise_1 = w.Text( placeholder='Your answer', description='', disabled=False )\n",
    "display(exercise_1)\n",
    "\n",
    "button_exercise_1 = w.Button(button_style='info',description=\"Enter\", layout=Layout(width='15%', height='30px') )\n",
    "button_exercise_1.on_click(rerun_cell)\n",
    "display(button_exercise_1)"
   ]
  },
  {
   "cell_type": "code",
   "execution_count": 22,
   "metadata": {},
   "outputs": [
    {
     "data": {
      "text/markdown": [
       "# Please try again."
      ],
      "text/plain": [
       "<IPython.core.display.Markdown object>"
      ]
     },
     "metadata": {},
     "output_type": "display_data"
    }
   ],
   "source": [
    "\n",
    "\n",
    "# Exercise 1 user answer handling\n",
    "\n",
    "user_answer = exercise_1.value\n",
    "expected_answer = '14.1'\n",
    "\n",
    "\n",
    "    \n",
    "# Close the option to keep attempting the answer \n",
    "    \n",
    "if(attempts >= 3):\n",
    "        \n",
    "        exercise_1.close()\n",
    "        button_exercise_1.close()\n",
    "        \n",
    "        display(Markdown(\"#### The amplitude is \\n $14.1$.\"))\n",
    "\n",
    "        \n",
    "    # If answer is correct, display appropriate markdown cells\n",
    "    \n",
    "if(user_answer == expected_answer):\n",
    "        \n",
    "        display(Markdown(\"#### Your answer is correct.\"))\n",
    "        display(Markdown(\"#### The amplitude is \\n $14.1$.\"))\n",
    "        \n",
    "        exercise_1.close()\n",
    "        button_exercise_1.close()\n",
    "        \n",
    "else:\n",
    "        \n",
    "        attempts += 1\n",
    "        \n",
    "        if(attempts < 3):\n",
    "            display(Markdown(\"# Please try again.\"))\n",
    "        "
   ]
  },
  {
   "cell_type": "code",
   "execution_count": 23,
   "metadata": {},
   "outputs": [
    {
     "data": {
      "text/latex": [
       "What is the value of the frequency in the given sinusoidal function?"
      ],
      "text/plain": [
       "<IPython.core.display.Latex object>"
      ]
     },
     "metadata": {},
     "output_type": "display_data"
    },
    {
     "data": {
      "application/vnd.jupyter.widget-view+json": {
       "model_id": "db92db62fcb84af5ac2953442aa34ea6",
       "version_major": 2,
       "version_minor": 0
      },
      "text/html": [
       "<p>Failed to display Jupyter Widget of type <code>Text</code>.</p>\n",
       "<p>\n",
       "  If you're reading this message in the Jupyter Notebook or JupyterLab Notebook, it may mean\n",
       "  that the widgets JavaScript is still loading. If this message persists, it\n",
       "  likely means that the widgets JavaScript library is either not installed or\n",
       "  not enabled. See the <a href=\"https://ipywidgets.readthedocs.io/en/stable/user_install.html\">Jupyter\n",
       "  Widgets Documentation</a> for setup instructions.\n",
       "</p>\n",
       "<p>\n",
       "  If you're reading this message in another frontend (for example, a static\n",
       "  rendering on GitHub or <a href=\"https://nbviewer.jupyter.org/\">NBViewer</a>),\n",
       "  it may mean that your frontend doesn't currently support widgets.\n",
       "</p>\n"
      ],
      "text/plain": [
       "Text(value='', placeholder='Your answer')"
      ]
     },
     "metadata": {},
     "output_type": "display_data"
    },
    {
     "data": {
      "application/vnd.jupyter.widget-view+json": {
       "model_id": "4a8bc668295749769c9475e171d58d23",
       "version_major": 2,
       "version_minor": 0
      },
      "text/html": [
       "<p>Failed to display Jupyter Widget of type <code>Button</code>.</p>\n",
       "<p>\n",
       "  If you're reading this message in the Jupyter Notebook or JupyterLab Notebook, it may mean\n",
       "  that the widgets JavaScript is still loading. If this message persists, it\n",
       "  likely means that the widgets JavaScript library is either not installed or\n",
       "  not enabled. See the <a href=\"https://ipywidgets.readthedocs.io/en/stable/user_install.html\">Jupyter\n",
       "  Widgets Documentation</a> for setup instructions.\n",
       "</p>\n",
       "<p>\n",
       "  If you're reading this message in another frontend (for example, a static\n",
       "  rendering on GitHub or <a href=\"https://nbviewer.jupyter.org/\">NBViewer</a>),\n",
       "  it may mean that your frontend doesn't currently support widgets.\n",
       "</p>\n"
      ],
      "text/plain": [
       "Button(button_style='info', description='Enter', layout=Layout(height='30px', width='15%'), style=ButtonStyle())"
      ]
     },
     "metadata": {},
     "output_type": "display_data"
    }
   ],
   "source": [
    "display(Latex(\"What is the value of the frequency in the given sinusoidal function?\"))\n",
    "\n",
    "\n",
    "attempts = 0\n",
    "exercise_1 = w.Text( placeholder='Your answer', description='', disabled=False )\n",
    "display(exercise_1)\n",
    "\n",
    "button_exercise_1 = w.Button(button_style='info',description=\"Enter\", layout=Layout(width='15%', height='30px') )\n",
    "button_exercise_1.on_click(rerun_cell)\n",
    "display(button_exercise_1)\n",
    "\n",
    "\n"
   ]
  },
  {
   "cell_type": "code",
   "execution_count": 24,
   "metadata": {},
   "outputs": [
    {
     "data": {
      "text/markdown": [
       "# Please try again."
      ],
      "text/plain": [
       "<IPython.core.display.Markdown object>"
      ]
     },
     "metadata": {},
     "output_type": "display_data"
    }
   ],
   "source": [
    "# Exercise 1 user answer handling\n",
    "\n",
    "user_answer = exercise_1.value\n",
    "expected_answer = '4.2'\n",
    "\n",
    "\n",
    "    \n",
    "# Close the option to keep attempting the answer \n",
    "    \n",
    "if(attempts >= 3):\n",
    "        \n",
    "        exercise_1.close()\n",
    "        button_exercise_1.close()\n",
    "        \n",
    "        display(Markdown(\"#### The frequency is \\n $4.2$.\"))\n",
    "\n",
    "        \n",
    "    # If answer is correct, display appropriate markdown cells\n",
    "    \n",
    "if(user_answer == expected_answer):\n",
    "        \n",
    "        display(Markdown(\"#### Your answer is correct.\"))\n",
    "        display(Markdown(\"#### The frequency is \\n $4.2$.\"))\n",
    "        \n",
    "        exercise_1.close()\n",
    "        button_exercise_1.close()\n",
    "        \n",
    "else:\n",
    "        \n",
    "        attempts += 1\n",
    "        \n",
    "        if(attempts < 3):\n",
    "            display(Markdown(\"# Please try again.\"))"
   ]
  },
  {
   "cell_type": "code",
   "execution_count": 25,
   "metadata": {},
   "outputs": [
    {
     "data": {
      "text/latex": [
       "By how much is the given sinusoidal function translated horizontally ?"
      ],
      "text/plain": [
       "<IPython.core.display.Latex object>"
      ]
     },
     "metadata": {},
     "output_type": "display_data"
    },
    {
     "data": {
      "application/vnd.jupyter.widget-view+json": {
       "model_id": "1400c2f6e3374e17ba92d3a2647c5a3a",
       "version_major": 2,
       "version_minor": 0
      },
      "text/html": [
       "<p>Failed to display Jupyter Widget of type <code>Text</code>.</p>\n",
       "<p>\n",
       "  If you're reading this message in the Jupyter Notebook or JupyterLab Notebook, it may mean\n",
       "  that the widgets JavaScript is still loading. If this message persists, it\n",
       "  likely means that the widgets JavaScript library is either not installed or\n",
       "  not enabled. See the <a href=\"https://ipywidgets.readthedocs.io/en/stable/user_install.html\">Jupyter\n",
       "  Widgets Documentation</a> for setup instructions.\n",
       "</p>\n",
       "<p>\n",
       "  If you're reading this message in another frontend (for example, a static\n",
       "  rendering on GitHub or <a href=\"https://nbviewer.jupyter.org/\">NBViewer</a>),\n",
       "  it may mean that your frontend doesn't currently support widgets.\n",
       "</p>\n"
      ],
      "text/plain": [
       "Text(value='', placeholder='Your answer')"
      ]
     },
     "metadata": {},
     "output_type": "display_data"
    },
    {
     "data": {
      "application/vnd.jupyter.widget-view+json": {
       "model_id": "d692483a37d04d28b7179c415ce0cf54",
       "version_major": 2,
       "version_minor": 0
      },
      "text/html": [
       "<p>Failed to display Jupyter Widget of type <code>Button</code>.</p>\n",
       "<p>\n",
       "  If you're reading this message in the Jupyter Notebook or JupyterLab Notebook, it may mean\n",
       "  that the widgets JavaScript is still loading. If this message persists, it\n",
       "  likely means that the widgets JavaScript library is either not installed or\n",
       "  not enabled. See the <a href=\"https://ipywidgets.readthedocs.io/en/stable/user_install.html\">Jupyter\n",
       "  Widgets Documentation</a> for setup instructions.\n",
       "</p>\n",
       "<p>\n",
       "  If you're reading this message in another frontend (for example, a static\n",
       "  rendering on GitHub or <a href=\"https://nbviewer.jupyter.org/\">NBViewer</a>),\n",
       "  it may mean that your frontend doesn't currently support widgets.\n",
       "</p>\n"
      ],
      "text/plain": [
       "Button(button_style='info', description='Enter', layout=Layout(height='30px', width='15%'), style=ButtonStyle())"
      ]
     },
     "metadata": {},
     "output_type": "display_data"
    }
   ],
   "source": [
    "display(Latex(\"By how much is the given sinusoidal function translated horizontally ?\"))\n",
    "\n",
    "\n",
    "attempts = 0\n",
    "exercise_1 = w.Text( placeholder='Your answer', description='', disabled=False )\n",
    "display(exercise_1)\n",
    "\n",
    "button_exercise_1 = w.Button(button_style='info',description=\"Enter\", layout=Layout(width='15%', height='30px') )\n",
    "button_exercise_1.on_click(rerun_cell)\n",
    "display(button_exercise_1)"
   ]
  },
  {
   "cell_type": "code",
   "execution_count": 26,
   "metadata": {},
   "outputs": [
    {
     "data": {
      "text/markdown": [
       "# Please try again."
      ],
      "text/plain": [
       "<IPython.core.display.Markdown object>"
      ]
     },
     "metadata": {},
     "output_type": "display_data"
    }
   ],
   "source": [
    "# Exercise 1 user answer handling\n",
    "\n",
    "user_answer = exercise_1.value\n",
    "expected_answer = '3.4'\n",
    "\n",
    "\n",
    "    \n",
    "# Close the option to keep attempting the answer \n",
    "    \n",
    "if(attempts >= 3):\n",
    "        \n",
    "        exercise_1.close()\n",
    "        button_exercise_1.close()\n",
    "        \n",
    "        display(Markdown(\"#### The given sinusoidal function is translated horizontally by \\n $3.4$.\"))\n",
    "\n",
    "        \n",
    "    # If answer is correct, display appropriate markdown cells\n",
    "    \n",
    "if(user_answer == expected_answer):\n",
    "        \n",
    "        display(Markdown(\"#### Your answer is correct.\"))\n",
    "        display(Markdown(\"#### The given sinusoidal function is translated horizontally by \\n $3.4$.\"))\n",
    "        \n",
    "        exercise_1.close()\n",
    "        button_exercise_1.close()\n",
    "        \n",
    "else:\n",
    "        \n",
    "        attempts += 1\n",
    "        \n",
    "        if(attempts < 3):\n",
    "            display(Markdown(\"# Please try again.\"))"
   ]
  },
  {
   "cell_type": "code",
   "execution_count": 27,
   "metadata": {},
   "outputs": [
    {
     "data": {
      "text/latex": [
       "What is the equation of the midline in the given sinusoidal function?"
      ],
      "text/plain": [
       "<IPython.core.display.Latex object>"
      ]
     },
     "metadata": {},
     "output_type": "display_data"
    },
    {
     "data": {
      "application/vnd.jupyter.widget-view+json": {
       "model_id": "db7caf6da59e4457a2dea4b29d0c688c",
       "version_major": 2,
       "version_minor": 0
      },
      "text/html": [
       "<p>Failed to display Jupyter Widget of type <code>Text</code>.</p>\n",
       "<p>\n",
       "  If you're reading this message in the Jupyter Notebook or JupyterLab Notebook, it may mean\n",
       "  that the widgets JavaScript is still loading. If this message persists, it\n",
       "  likely means that the widgets JavaScript library is either not installed or\n",
       "  not enabled. See the <a href=\"https://ipywidgets.readthedocs.io/en/stable/user_install.html\">Jupyter\n",
       "  Widgets Documentation</a> for setup instructions.\n",
       "</p>\n",
       "<p>\n",
       "  If you're reading this message in another frontend (for example, a static\n",
       "  rendering on GitHub or <a href=\"https://nbviewer.jupyter.org/\">NBViewer</a>),\n",
       "  it may mean that your frontend doesn't currently support widgets.\n",
       "</p>\n"
      ],
      "text/plain": [
       "Text(value='', placeholder='Your answer')"
      ]
     },
     "metadata": {},
     "output_type": "display_data"
    },
    {
     "data": {
      "application/vnd.jupyter.widget-view+json": {
       "model_id": "c19b9797ea4e4c839edd2a23a3a8069d",
       "version_major": 2,
       "version_minor": 0
      },
      "text/html": [
       "<p>Failed to display Jupyter Widget of type <code>Button</code>.</p>\n",
       "<p>\n",
       "  If you're reading this message in the Jupyter Notebook or JupyterLab Notebook, it may mean\n",
       "  that the widgets JavaScript is still loading. If this message persists, it\n",
       "  likely means that the widgets JavaScript library is either not installed or\n",
       "  not enabled. See the <a href=\"https://ipywidgets.readthedocs.io/en/stable/user_install.html\">Jupyter\n",
       "  Widgets Documentation</a> for setup instructions.\n",
       "</p>\n",
       "<p>\n",
       "  If you're reading this message in another frontend (for example, a static\n",
       "  rendering on GitHub or <a href=\"https://nbviewer.jupyter.org/\">NBViewer</a>),\n",
       "  it may mean that your frontend doesn't currently support widgets.\n",
       "</p>\n"
      ],
      "text/plain": [
       "Button(button_style='info', description='Enter', layout=Layout(height='30px', width='15%'), style=ButtonStyle())"
      ]
     },
     "metadata": {},
     "output_type": "display_data"
    }
   ],
   "source": [
    "display(Latex(\"What is the equation of the midline in the given sinusoidal function?\"))\n",
    "\n",
    "\n",
    "\n",
    "dattempts = 0\n",
    "exercise_1 = w.Text( placeholder='Your answer', description='', disabled=False )\n",
    "display(exercise_1)\n",
    "\n",
    "button_exercise_1 = w.Button(button_style='info',description=\"Enter\", layout=Layout(width='15%', height='30px') )\n",
    "button_exercise_1.on_click(rerun_cell)\n",
    "display(button_exercise_1)"
   ]
  },
  {
   "cell_type": "code",
   "execution_count": 28,
   "metadata": {},
   "outputs": [
    {
     "data": {
      "text/markdown": [
       "# Please try again."
      ],
      "text/plain": [
       "<IPython.core.display.Markdown object>"
      ]
     },
     "metadata": {},
     "output_type": "display_data"
    }
   ],
   "source": [
    "# Exercise 1 user answer handling\n",
    "\n",
    "user_answer = exercise_1.value\n",
    "expected_answer = '2'\n",
    "\n",
    "\n",
    "    \n",
    "# Close the option to keep attempting the answer \n",
    "    \n",
    "if(attempts >= 3):\n",
    "        \n",
    "        exercise_1.close()\n",
    "        button_exercise_1.close()\n",
    "        \n",
    "        display(Markdown(\"#### The midline of given sinusoidal function is at y= \\n $2$.\"))\n",
    "\n",
    "        \n",
    "    # If answer is correct, display appropriate markdown cells\n",
    "    \n",
    "if(user_answer == expected_answer):\n",
    "        \n",
    "        display(Markdown(\"#### Your answer is correct.\"))\n",
    "        display(Markdown(\"#### The midline of given sinusoidal function is at y= \\n $2$.\"))\n",
    "        \n",
    "        exercise_1.close()\n",
    "        button_exercise_1.close()\n",
    "        \n",
    "else:\n",
    "        \n",
    "        attempts += 1\n",
    "        \n",
    "        if(attempts < 3):\n",
    "            display(Markdown(\"# Please try again.\"))"
   ]
  },
  {
   "cell_type": "markdown",
   "metadata": {},
   "source": [
    "## Example: Finding a Sinusoidal Functions from Temperature Data\n",
    "\n",
    "Let's assume that we have some data representing the average temperate for each month:\n",
    "\n",
    "Month | Average Temperature\n",
    "--- | ---\n",
    " 1| 9.7\n",
    "2 | 13.4\n",
    "3 | 17\n",
    "4 | 22.2\n",
    "5 | 27.2\n",
    "6 | 32.9\n",
    "7 | 36.5\n",
    "8 | 38.4\n",
    "9 | 32.9\n",
    "10 | 24.4\n",
    "11 | 19\n",
    "12 | 11\n",
    "\n",
    "The data is presented in the graph below"
   ]
  },
  {
   "cell_type": "code",
   "execution_count": 29,
   "metadata": {},
   "outputs": [
    {
     "data": {
      "image/png": "[encoded data removed]",
      "text/plain": [
       "<matplotlib.figure.Figure at 0x7f25ab9bb160>"
      ]
     },
     "metadata": {},
     "output_type": "display_data"
    }
   ],
   "source": [
    "month = np.linspace(1,12,12)\n",
    "temperature= np.array([9.7, 13.4, 17, 22.2, 27.2, 32.9, 36.5, 38.4, 32.2, 24.4, 19, 11])\n",
    "plt.plot(month, temperature, 'o')\n",
    "plt.title(\"Average temperature for each month \")\n",
    "plt.xlabel(\"Month\")\n",
    "plt.ylabel(\"Temperature\")\n",
    "axes = plt.gca()\n",
    "plt.show()"
   ]
  },
  {
   "cell_type": "markdown",
   "metadata": {},
   "source": [
    "We want to fit this data to a sinusoidal function $ y = a \\sin (bx-c)+d$.\n",
    "\n",
    "First of all, we need to determine the *amplitude* $a$\n",
    "\n",
    "$$a = \\frac{\\text{maximum value} - \\text{minimum value}}{2} = \\frac{38.4-9.7}{2} =14.35$$\n",
    "\n",
    "Next, we determine the value of the midline $d$\n",
    "\n",
    "$$d = \\frac{\\text{maximum value} + \\text{minimum value}}{2} = \\frac{38.4+9.7}{2} =24.05$$\n",
    "\n",
    "For this exercise, the frequency $b$ be computed in the following way. The  average temperature cycle will  repeat itself every year, so period $T = 12$ months. Therefore $b$ can be computed by inverting the formula for the period $T$:\n",
    "\n",
    "$$b = \\frac{2\\pi}{T} = \\frac{2\\pi}{12} =0.52$$\n",
    "\n",
    "Using $a=14.35$, $b = 0.52$, and $d = 24.05$, determine horizontal shift by choosing an arbitrary data point (x,y) from the given table and solving the equation \n",
    "\n",
    "$$y = 14.35 \\sin (0.52x-c)+24.05$$\n",
    "for $c$."
   ]
  },
  {
   "cell_type": "markdown",
   "metadata": {},
   "source": [
    "Let’s choose the first data point, x = 1 (January), y = 9.7\n",
    "\n",
    "$$9.7 = 14.35 \\sin (0.52(1)-c)+24.05$$\n",
    "\n",
    "$$-14.35.7 = 14.35 \\sin (0.52-c)$$\n",
    "\n",
    "$$-1 =  \\sin (0.52-c)$$\n"
   ]
  },
  {
   "cell_type": "markdown",
   "metadata": {},
   "source": [
    "When does $\\sin = -1$? For consistency, we will choose an angle between $-pi/2$ and $pi/2$. \n",
    "\n",
    "$$\\sin\\left(-\\frac{\\pi}{2}\\right)=-1$$\n",
    "$${0.52 -c}=-\\frac{\\pi}{2}$$\n",
    "Solve for $c$ by getting all other terms on the other side. \n",
    " $$c = \\frac{\\pi}{2} + 0.52 = 2.09$$"
   ]
  },
  {
   "cell_type": "markdown",
   "metadata": {},
   "source": [
    "So the sinusoidal function that fits the data is\n",
    "\n",
    "$$y = 14.35 \\sin (0.52x-2.09)+24.05$$\n",
    "\n",
    "and its graph is shown below."
   ]
  },
  {
   "cell_type": "code",
   "execution_count": 30,
   "metadata": {},
   "outputs": [
    {
     "data": {
      "image/png": "[encoded data removed]",
      "text/plain": [
       "<matplotlib.figure.Figure at 0x7f25abaa9b00>"
      ]
     },
     "metadata": {},
     "output_type": "display_data"
    }
   ],
   "source": [
    "month = np.linspace(1,12,12)\n",
    "temperature= np.array([9.7, 13.4, 17, 22.2, 27.2, 32.9, 36.5, 38.4, 32.2, 24.4, 19, 11])\n",
    "x = np.linspace(1,12, 24)\n",
    "y = 14.35*np.sin(0.52*x -2.09) + 24.05\n",
    "plt.plot(month, temperature, 'o', x, y)\n",
    "plt.title(\"Average temperature for each month \")\n",
    "plt.xlabel(\"Month\")\n",
    "plt.ylabel(\"Temperature\")\n",
    "plt.legend(('Average temperature', 'sinusoidal fit'))\n",
    "axes = plt.gca()\n",
    "plt.show()"
   ]
  },
  {
   "cell_type": "markdown",
   "metadata": {},
   "source": [
    "### Exercises\n",
    "\n",
    "1)Tom boards the Ferris wheel at the Pacific Exhbition. When the ride begins, his position can be modeled by $$x = 43\\sin(3.5t-0.9)+47$$\n",
    "\n",
    "How longdoea it take to the Ferris wheel to complete one revolution (period)?\n",
    "\n",
    "What is the amplitude of the given function?"
   ]
  },
  {
   "cell_type": "markdown",
   "metadata": {},
   "source": [
    "### Conclusions\n",
    "\n",
    "<ul>\n",
    "    <li> Cyclic data can be fit by a sinusoidal curve\n",
    "     <li> A sunosoidal curve is uniquely defined by characteristic paramenters\n",
    "     <li>The parameters are the amplitude, the frequency and  the horizontal and vertical translations "
   ]
  },
  {
   "cell_type": "markdown",
   "metadata": {},
   "source": [
    "![alt text][bottom-banner]\n",
    "\n",
    "[bottom-banner]: ./callysto-bottom-banner.jpg"
   ]
  },
  {
   "cell_type": "code",
   "execution_count": null,
   "metadata": {},
   "outputs": [],
   "source": []
  }
 ],
 "metadata": {
  "kernelspec": {
   "display_name": "Python 3",
   "language": "python",
   "name": "python3"
  },
  "language_info": {
   "codemirror_mode": {
    "name": "ipython",
    "version": 3
   },
   "file_extension": ".py",
   "mimetype": "text/x-python",
   "name": "python",
   "nbconvert_exporter": "python",
   "pygments_lexer": "ipython3",
   "version": "3.6.5"
  }
 },
 "nbformat": 4,
 "nbformat_minor": 2
}
