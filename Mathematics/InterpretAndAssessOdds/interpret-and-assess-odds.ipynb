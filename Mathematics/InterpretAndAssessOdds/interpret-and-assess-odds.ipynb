{
 "cells": [
  {
   "cell_type": "markdown",
   "metadata": {},
   "source": [
    "![Callysto.ca Banner](https://github.com/callysto/curriculum-notebooks/blob/master/callysto-notebook-banner-top.jpg?raw=true)\n",
    "\n",
    "\n",
    "<a href=\"https://hub.callysto.ca/jupyter/hub/user-redirect/git-pull?repo=https%3A%2F%2Fgithub.com%2Fcallysto%2Fcurriculum-notebooks&branch=master&subPath=Mathematics/InterpretAndAssessOdds/interpret-and-assess-odds.ipynb&depth=1\" target=\"_parent\"><img src=\"https://raw.githubusercontent.com/callysto/curriculum-notebooks/master/open-in-callysto-button.svg?sanitize=true\" width=\"123\" height=\"24\" alt=\"Open in Callysto\"/></a>"
   ]
  },
  {
   "cell_type": "markdown",
   "metadata": {
    "hidden": false
   },
   "source": [
    "# Interpret and Assess Probability and Odds\n",
    "\n",
    "In this Jupyter notebook we will look at examples of probability and odds calculations. Let's begin with some definitions.\n",
    "\n",
    "**Event:** An outcome of an experiment. These are all the outcomes that are possible. \n",
    "\n",
    "For example, when rolling a die, the possible events are the die landing on number 1, 2, 3, 4, 5, or 6.\n",
    "\n",
    "**Probability:**\n",
    "The likelihood that an event will occur. In a very large amount of trials, it is the fraction of times you expect the event to happen. This is expressed as a number between $0$ and $1$ or as a percent.\n",
    "\n",
    "For example, after a large number of coin flips you would expect heads half of the time. Therefore the probability of heads is $0.5$ or $50$%.\n",
    "\n",
    "**Odds:**\n",
    "The odds of an event can be expressed as a ratio of the probability that the event *will* occur to the probability that it *will not* occur. \n",
    "\n",
    "For example, what are the odds of rolling a $1$ with a fair die? \n",
    "\n",
    "Well, the probability of rolling a $1$ is $(\\frac{1}{6})$ and the probability of not rolling a $1$ is $1-(\\frac{1}{6}) = (\\frac{5}{6})$ . Therefore the odds are:\n",
    "     \n",
    "$\\frac{1}{6}:\\frac{5}{6} = 1:5$\n",
    "\n",
    "**Note**: You can also express the probability of an event *not* happening as $1-P(E)$, where $P(E)$ is the probability of the event occurring.\n",
    "\n",
    "## Converting between Odds and Probability\n",
    "\n",
    "To describe odds in favour of an event $E$, we have to think about what we are writing a ratio of. We are writing the probability of $E$ happening as a ratio of $E$ not happening.\n",
    "\n",
    "We write this as\n",
    "\n",
    "$P(E):1-P(E)$\n",
    "\n",
    "or\n",
    "\n",
    "$\\frac{P(E)}{1-P(E)}$\n",
    "\n",
    "Odds against $E$ happening could be written as $1-P(E):P(E)$.\n",
    "\n",
    "## Dartboard Virtual Experiment\n",
    "\n",
    "Consider the dartboard simulation below. If a dart is thrown at random, what are the odds on it hitting inside the green circle? Click on the following code cell, then click the `⏵Run` button to simulate throwing darts.\n",
    "\n",
    "You can change the number of darts in the cell to something like `number_of_darts = 1000` and see what difference it makes. This can simulate throwing up to 100,000 darts."
   ]
  },
  {
   "cell_type": "code",
   "execution_count": null,
   "metadata": {
    "hidden": false
   },
   "outputs": [],
   "source": [
    "number_of_darts = 100\n",
    "\n",
    "if 0 < number_of_darts < 100001:\n",
    "    import random\n",
    "    import matplotlib.pyplot as plt\n",
    "    %matplotlib inline\n",
    "    circle_centerx=1\n",
    "    circle_centery=1\n",
    "    circle_radius=0.5\n",
    "    x_green=[]\n",
    "    y_green=[]\n",
    "    x_inside=[]\n",
    "    y_inside=[]\n",
    "    x_outside=[]\n",
    "    y_outside=[]\n",
    "    for i in range(number_of_darts):\n",
    "        x=random.random()*2\n",
    "        y=random.random()*2\n",
    "        if (x-circle_centerx)**2+(y-circle_centery)**2<circle_radius**2:\n",
    "            x_green.append(x)\n",
    "            y_green.append(y)\n",
    "        elif (x-circle_centerx)**2+(y-circle_centery)**2<(circle_radius*2)**2:\n",
    "            x_inside.append(x)\n",
    "            y_inside.append(y)\n",
    "        else:\n",
    "            x_outside.append(x)\n",
    "            y_outside.append(y)\n",
    "    circle1 = plt.Circle((circle_centerx, circle_centery), circle_radius,color='green',fill=False)\n",
    "    circle2 = plt.Circle((circle_centerx, circle_centery), circle_radius*2,color='black',fill=False)\n",
    "    fig, ax = plt.subplots(figsize=(10,10))\n",
    "    ax.plot(x_green,y_green, 'o', color='g',alpha=0.4)\n",
    "    ax.plot(x_inside,y_inside, 'o', color='y',alpha=0.4)\n",
    "    ax.plot(x_outside,y_outside, 'o', color='r',alpha=0.4)\n",
    "    ax.add_artist(circle2)\n",
    "    ax.add_artist(circle1)\n",
    "    plt.ylim(0, 2)\n",
    "    plt.xlim(0, 2)\n",
    "    plt.show()\n",
    "    dartboard_percent = '{:.1f}'.format(100*(len(x_green)+len(x_inside))/number_of_darts)\n",
    "    green_circle_percent_of_board = '{:.1f}'.format(100*len(x_green)/(len(x_green)+len(x_inside)))\n",
    "    green_circle_percent_of_total = '{:.1f}'.format(100*len(x_green)/number_of_darts)\n",
    "    print(\"Darts that hit the dartboard: \"+str(len(x_green)+len(x_inside))+\" (\"+dartboard_percent+\"%)\")\n",
    "    print(\"Darts inside the green circle: \"+str(len(x_green))+\" (\"+green_circle_percent_of_board+\"%, or \"+green_circle_percent_of_total+\"% of total)\")"
   ]
  },
  {
   "cell_type": "markdown",
   "metadata": {},
   "source": [
    "For this problem we need to calculate the areas of the inner and outer circles, calculate the probability, and then the odds.\n",
    "\n",
    "If $r_1=1$ is the radius of the inner (green) circle and $r_2=2$ is the radius of the dartboard (the outer circle), we can calculate the probability of a dart thrown at random will land within the inner circle."
   ]
  },
  {
   "cell_type": "code",
   "execution_count": null,
   "metadata": {},
   "outputs": [],
   "source": [
    "from math import pi\n",
    "def circle_area(r):\n",
    "    return pi*r**2\n",
    "\n",
    "rectangle_area = 2*2\n",
    "inner_circle_area = circle_area(0.5)\n",
    "outer_circle_area = circle_area(1)\n",
    "print('Inner circle probability:', '{:.2f}'.format(100*inner_circle_area/rectangle_area)+'%')\n",
    "print('Outer circle probability:', '{:.2f}'.format(100*outer_circle_area/rectangle_area)+'%')\n",
    "print('Inner circle odds:', inner_circle_area/outer_circle_area, 'or', (inner_circle_area/outer_circle_area).as_integer_ratio())"
   ]
  },
  {
   "cell_type": "markdown",
   "metadata": {
    "hidden": false
   },
   "source": [
    "Use the dartboard virtual experiment to see if there is a convergence towards 1:4 after 100 darts, or perhaps 10000.\n",
    "\n",
    "## Making Decisions Based on Odds & Probability\n",
    "\n",
    "[According to the CBC](https://www.cbc.ca/news/canada/edmonton/lotto-max-announces-changes-1.5136125), approximately three quarters of Canadians bought lottery tickets in a year. Each $5.00 [Lotto Max](https://en.wikipedia.org/wiki/Lotto_Max) ticket has three sets of seven numbers.\n",
    "\n",
    "Previously those numbers were chosen from 1 to 49, but now it is 1 to 50. Let's calculate approximately how that has affected the odds of winning using\n",
    "\n",
    "$${n \\choose k} = {n! \\over {k!(n-k)!}}$$\n",
    "\n",
    "where $k$ is how many numbers are chosen ($7$), $n$ is the number of choices ($49$ or $50$), and $!$ means [factorial](https://en.wikipedia.org/wiki/Factorial). Since there are three sets on a ticket, we will divide by $3$."
   ]
  },
  {
   "cell_type": "code",
   "execution_count": null,
   "metadata": {},
   "outputs": [],
   "source": [
    "from math import factorial\n",
    "def calculate_odds(k, n, sets):\n",
    "    return factorial(n)/(factorial(k)*(factorial(n-k))) / sets\n",
    "\n",
    "old = calculate_odds(7, 49, 3)\n",
    "new = calculate_odds(7, 50, 3)\n",
    "print('The odds of winning have decreased from 1:{:.0f} to 1:{:.0f}.'.format(old, new))"
   ]
  },
  {
   "cell_type": "markdown",
   "metadata": {},
   "source": [
    "Of course buying more tickets can increase the odds of winning, but let's say we wanted to buy enough $5 tickets to have an almost certain chance of winning. How much would that cost?"
   ]
  },
  {
   "cell_type": "code",
   "execution_count": null,
   "metadata": {},
   "outputs": [],
   "source": [
    "calculate_odds(7, 50, 3) * 5"
   ]
  },
  {
   "cell_type": "markdown",
   "metadata": {
    "hidden": false
   },
   "source": [
    "Since the maximum payout is $70,000,000 it wouldn't be a good idea to buy that many tickets.\n",
    "\n",
    "## Conclusion\n",
    "\n",
    "In this notebook we learned about probability and odds, as applied to random darts and lottery numbers."
   ]
  },
  {
   "cell_type": "markdown",
   "metadata": {},
   "source": [
    "[![Callysto.ca License](https://github.com/callysto/curriculum-notebooks/blob/master/callysto-notebook-banner-bottom.jpg?raw=true)](https://github.com/callysto/curriculum-notebooks/blob/master/LICENSE.md)"
   ]
  }
 ],
 "metadata": {
  "kernelspec": {
   "display_name": "Python 3.10.1 64-bit",
   "language": "python",
   "name": "python3"
  },
  "language_info": {
   "codemirror_mode": {
    "name": "ipython",
    "version": 3
   },
   "file_extension": ".py",
   "mimetype": "text/x-python",
   "name": "python",
   "nbconvert_exporter": "python",
   "pygments_lexer": "ipython3",
   "version": "3.10.1"
  },
  "vscode": {
   "interpreter": {
    "hash": "d1ca6d17674200220921376aaeb3d36cffe15ecab2470a9a5e7a456cdbf61425"
   }
  }
 },
 "nbformat": 4,
 "nbformat_minor": 4
}
