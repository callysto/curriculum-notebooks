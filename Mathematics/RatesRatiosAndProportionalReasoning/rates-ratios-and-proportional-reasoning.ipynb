{
 "cells": [
  {
   "cell_type": "code",
   "execution_count": 2,
   "metadata": {
    "scrolled": true
   },
   "outputs": [
    {
     "data": {
      "text/html": [
       "<script>\n",
       "code_show=true; \n",
       "function code_toggle() {\n",
       " if (code_show){\n",
       " $('div.input').hide();\n",
       " } else {\n",
       " $('div.input').show();\n",
       " }\n",
       " code_show = !code_show\n",
       "} \n",
       "$( document ).ready(code_toggle);\n",
       "</script>\n",
       "To toggle on/off the raw code, click <a href=\"javascript:code_toggle()\">here</a>."
      ],
      "text/plain": [
       "<IPython.core.display.HTML object>"
      ]
     },
     "execution_count": 2,
     "metadata": {},
     "output_type": "execute_result"
    }
   ],
   "source": [
    "from IPython.display import HTML\n",
    "HTML('''<script>\n",
    "code_show=true; \n",
    "function code_toggle() {\n",
    " if (code_show){\n",
    " $('div.input').hide();\n",
    " } else {\n",
    " $('div.input').show();\n",
    " }\n",
    " code_show = !code_show\n",
    "} \n",
    "$( document ).ready(code_toggle);\n",
    "</script>\n",
    "To toggle on/off the raw code, click <a href=\"javascript:code_toggle()\">here</a>.''')"
   ]
  },
  {
   "cell_type": "markdown",
   "metadata": {},
   "source": [
    "[![logo](https://callysto.ca/wp-content/uploads/2018/06/Callysto_Notebook-Banner_Top_06.06.18.jpg)](https://callysto.ca/)"
   ]
  },
  {
   "cell_type": "code",
   "execution_count": 28,
   "metadata": {},
   "outputs": [],
   "source": [
    "import ipywidgets\n",
    "from IPython.display import display, Math, Latex, HTML, IFrame, Javascript, clear_output\n",
    "from ipywidgets import IntSlider, Label, widgets, interact, interact_manual, Button, Layout, interactive"
   ]
  },
  {
   "cell_type": "markdown",
   "metadata": {},
   "source": [
    "<h1 align='center'>Rates, Ratios, and Proportional Reasoning</h1>\n",
    "\n",
    "<h4 align='center'>Grade 8 | Math</h4>"
   ]
  },
  {
   "cell_type": "markdown",
   "metadata": {},
   "source": [
    "<center><img src=\"../images/ratioBars.gif\"></center>\n",
    "<font size = 1 > <center> *GIF taken from: https://patches.zone/compression-guide.* </center> </font>"
   ]
  },
  {
   "cell_type": "markdown",
   "metadata": {},
   "source": [
    "# Introduction\n",
    "*Objects do not always appear in the same size.* This is true of everything in the universe. For example, what is the size of a human to an elephant? Or the size of our planet to the likes of Mars?\n",
    "\n",
    "So, a need to compare quantities of things arises. This is needed to see how much bigger, (Or smaller), an amount is when compared to another. \n",
    "\n",
    "This notebook discusses three mathematical comparison concepts. These concepts are **ratios**, **rates**, and **proportional reasoning**. There will be interactive problems to help you understand these concepts. Let's start!"
   ]
  },
  {
   "cell_type": "markdown",
   "metadata": {},
   "source": [
    "## Ratios\n",
    "> **Ratios** are comparisons **between two things**. In its plainest form, *a ratio* says how much one thing is compared to another.\n",
    "\n",
    "We will use the following illustration to help learn more about ratios:\n",
    "\n",
    "<img src=\"../images/ratio.JPG\" alt=\"Callysto\" width=200 height=100 align = \"center\">\n",
    "\n",
    "The illustration above contains $2$ *triangles* and $4$ *circles*. So, **the ratio of** *triangles* **to** *circles* would be $2$ to $4$. This is because you have exactly $2$ *triangles* and $4$ *circles*."
   ]
  },
  {
   "cell_type": "markdown",
   "metadata": {},
   "source": [
    "Now, let's think about ratios more generally:\n",
    "\n",
    "> Let's say you have some quantity $a$ of object $A$. It doesn't matter what $A$ is; it could be potatoes, cats, pillows, you name it.\n",
    "<br /><br />\n",
    "Let's say you also have some quantity $b$ of object $B$. Again, it doesn't matter what $B$ is; it could be pennies or cars if you wanted.\n",
    "<br /><br />\n",
    "Then you can say that **the ratio of** $A$ **to** $B$ is *the number of $A's$ you have* **to** *the number of $B's$ you have*, ($a$ to $b$).\n",
    "\n",
    "**Ratios** can also be written in different ways:\n",
    "\n",
    "<h3 align='left'> a) Use a colon, ($a : b$), to separate the values.</h3>\n",
    "<h3 align='left'> b) Use the word \"to\", ($a\\textrm{ to }b$), to separate the values. </h3>\n",
    "<h3 align='left'> c) Use a fraction, ($\\frac{a}{b}$) to separate the values. </h3>\n",
    "\n",
    "So, we can write the ratio of the example above in the following ways:\n",
    "\n",
    "> a) $2 : 4$\n",
    "<br /><br />\n",
    "b) $2 \\textrm{ to } 4$\n",
    "<br /><br />\n",
    "c) $\\frac{2}{4}$\n",
    "\n",
    "According to our definition of a ratio, for every $2$ *triangles*, there are $4$ *circles*. But, we can also compare *triangles* and *circles* by **scaling the ratio**. This is also known as an *equivalent of the ratio* or *equal ratio*. \n",
    "\n",
    "We can get an *equal ratio* by either multiplying or dividing each term in the ratio by the same number, (**Just not by zero**). So, since the ratio of *triangles* and *circles* is $2 : 4$, we can divide both sides of the ratio by $2$ to get $1 : 2$. This means there are $2$ *circles* for $each$ *triangle*, and it can be divided into $2$ groups.\n",
    "\n",
    "<img src=\"../images/ratio_scale.JPG\" alt=\"Callysto\" width=350 height=100 align = \"center\">\n",
    "\n",
    "Let's try the following problem:"
   ]
  },
  {
   "cell_type": "code",
   "execution_count": 4,
   "metadata": {},
   "outputs": [
    {
     "data": {
      "text/latex": [
       "What is the ratio of circles to triangles?"
      ],
      "text/plain": [
       "<IPython.core.display.Latex object>"
      ]
     },
     "metadata": {},
     "output_type": "display_data"
    },
    {
     "data": {
      "application/vnd.jupyter.widget-view+json": {
       "model_id": "002370ca231a4c9bbe9c390dbfd3caa6",
       "version_major": 2,
       "version_minor": 0
      },
      "text/plain": [
       "interactive(children=(Dropdown(description='Choose the correct ratio:', options=('2 to 4', '2 to 1', '1 to 2')…"
      ]
     },
     "metadata": {},
     "output_type": "display_data"
    }
   ],
   "source": [
    "#Used to ensure the description text doesn't get cut off.\n",
    "style = {'description_width': 'initial'}\n",
    "\n",
    "def q_1(val):\n",
    "    #If the answer is correct:\n",
    "    if val == \"2 to 1\":\n",
    "        display(Latex(\"Correct!\"))\n",
    "        display(Latex(\"If the values are flipped, then the ratio should also be flipped.\"))\n",
    "        \n",
    "    #If nothing is selected:\n",
    "    elif val == None:\n",
    "        None\n",
    "    \n",
    "    #Otherwise, if the answer is wrong:\n",
    "    else:\n",
    "        display(Latex(\"Please try again.\"))\n",
    "        display(Latex(\"Remember, we are no longer looking at the ratio of triangles to circles.\"))\n",
    "\n",
    "#a1, a2, and a3 are the possible inputs the user can put.\n",
    "a1 = \"2 to 4\"\n",
    "a2 = \"2 to 1\"\n",
    "a3 = \"1 to 2\"\n",
    "\n",
    "#Display the question.\n",
    "display(Latex(\"What is the ratio of circles to triangles?\"))\n",
    "\n",
    "#Create a drop down widget for answers.\n",
    "interact(q_1, val = widgets.Dropdown(options=[a1 ,a2, a3],\\\n",
    "                                     value = None,\\\n",
    "                                     description = 'Choose the correct ratio:',\\\n",
    "                                     disabled = False,\\\n",
    "                                     style = style));"
   ]
  },
  {
   "cell_type": "markdown",
   "metadata": {},
   "source": [
    "*The following video demonstrates the idea of ratio with some interactive problems:\n",
    "[(This video is taken from this website)](http://www.learnalberta.ca/content/mesg/html/math6web/index.html?page=lessons&lesson=m6lessonshell03.swf)*"
   ]
  },
  {
   "cell_type": "code",
   "execution_count": 5,
   "metadata": {},
   "outputs": [
    {
     "data": {
      "application/vnd.jupyter.widget-view+json": {
       "model_id": "2dde5f89a1cb47e3b17a33b278fe2254",
       "version_major": 2,
       "version_minor": 0
      },
      "text/plain": [
       "Button(description='Show Video', style=ButtonStyle())"
      ]
     },
     "metadata": {},
     "output_type": "display_data"
    }
   ],
   "source": [
    "#lesson is the ratio lesson.\n",
    "lesson = HTML('<center><embed width=\"500\" height=\"400\" src=\"InteractiveLesson.swf\"\\\n",
    "frameborder=\"0\" allow=\"autoplay\"; encrypted-media\"></center>')\n",
    "\n",
    "#Construction of button to provide factored polynomial result.\n",
    "buttonShowVideo = widgets.Button(description=\"Show Video\")\n",
    "\n",
    "def displayLesson(a):\n",
    "    display(lesson)\n",
    "    buttonShowVideo.close()\n",
    "\n",
    "display(buttonShowVideo)\n",
    "buttonShowVideo.on_click(displayLesson)"
   ]
  },
  {
   "cell_type": "markdown",
   "metadata": {},
   "source": [
    "<font size = 2 > <center> *This work has been adapted from a learning resource originally owned by Alberta Education. (http://www.learnalberta.ca)* </center> </font>"
   ]
  },
  {
   "cell_type": "markdown",
   "metadata": {},
   "source": [
    "### Ratio Related Problems\n",
    "\n",
    "* **Problem 1:** Finding the equal ratios."
   ]
  },
  {
   "cell_type": "code",
   "execution_count": 6,
   "metadata": {},
   "outputs": [
    {
     "data": {
      "text/latex": [
       "Which of the following are equal ratios of $18:24$?"
      ],
      "text/plain": [
       "<IPython.core.display.Latex object>"
      ]
     },
     "metadata": {},
     "output_type": "display_data"
    },
    {
     "data": {
      "application/vnd.jupyter.widget-view+json": {
       "model_id": "30b62a3f79fa4943bfd3aba7d619fd30",
       "version_major": 2,
       "version_minor": 0
      },
      "text/plain": [
       "Checkbox(value=False, description='3 : 6', style=DescriptionStyle(description_width='initial'))"
      ]
     },
     "metadata": {},
     "output_type": "display_data"
    },
    {
     "data": {
      "application/vnd.jupyter.widget-view+json": {
       "model_id": "b4a3ee718e1242d483047d902a0c7a16",
       "version_major": 2,
       "version_minor": 0
      },
      "text/plain": [
       "Checkbox(value=False, description='6 : 8', style=DescriptionStyle(description_width='initial'))"
      ]
     },
     "metadata": {},
     "output_type": "display_data"
    },
    {
     "data": {
      "application/vnd.jupyter.widget-view+json": {
       "model_id": "e022f2a720b047ea97eb3556004223b3",
       "version_major": 2,
       "version_minor": 0
      },
      "text/plain": [
       "Checkbox(value=False, description='2 : 3', style=DescriptionStyle(description_width='initial'))"
      ]
     },
     "metadata": {},
     "output_type": "display_data"
    },
    {
     "data": {
      "application/vnd.jupyter.widget-view+json": {
       "model_id": "2821e1b803bf4eda8fe6d63780757797",
       "version_major": 2,
       "version_minor": 0
      },
      "text/plain": [
       "Checkbox(value=False, description='36 : 48', style=DescriptionStyle(description_width='initial'))"
      ]
     },
     "metadata": {},
     "output_type": "display_data"
    },
    {
     "data": {
      "application/vnd.jupyter.widget-view+json": {
       "model_id": "b7572a3da8604924b91db1ca9dd61a5a",
       "version_major": 2,
       "version_minor": 0
      },
      "text/plain": [
       "Button(description='Check', style=ButtonStyle())"
      ]
     },
     "metadata": {},
     "output_type": "display_data"
    }
   ],
   "source": [
    "#Used to ensure the description text doesn't get cut off.\n",
    "style = {'description_width': 'initial'}\n",
    "\n",
    "#Create the box for options\n",
    "a=widgets.Checkbox(\n",
    "    value=False,\n",
    "    description=\"3 : 6\",\n",
    "    style=style\n",
    ")\n",
    "\n",
    "b=widgets.Checkbox(\n",
    "    value=False,\n",
    "    description=\"6 : 8\",\n",
    "    style=style\n",
    ")\n",
    "c=widgets.Checkbox(\n",
    "    value=False,\n",
    "    description=\"2 : 3\",\n",
    "    style=style\n",
    ")\n",
    "d=widgets.Checkbox(\n",
    "    value=False,\n",
    "    description=r'36 : 48',\n",
    "    style=style\n",
    ")\n",
    "\n",
    "#writtenQuestion is the question the user is asked.\n",
    "writtenQuestion =  Latex('Which of the following are equal ratios of $18:24$?')\n",
    "display(writtenQuestion)\n",
    "\n",
    "#Display the check box\n",
    "display(a)\n",
    "display(b)\n",
    "display(c)\n",
    "display(d)\n",
    "\n",
    "#create a button to check the answer\n",
    "button_check = widgets.Button(description=\"Check\")\n",
    "display(button_check)\n",
    "\n",
    "#Check the answer\n",
    "def check_button(x):\n",
    "    #If answer is correct:\n",
    "    if (a.value==False and b.value==True and c.value==False and d.value==True):\n",
    "        clear_output()\n",
    "        display(writtenQuestion)\n",
    "        display(Latex(\"Correct!\"))\n",
    "        display(Latex(r\"$18 : 24 = 6 : 8$ (Divide by 3)\"))\n",
    "        display(Latex(r\"$18 : 24 = 36 : 48$ (Multiply by 2)\"))\n",
    "        \n",
    "    #Otherwise, if the answer is wrong:\n",
    "    else: \n",
    "        clear_output()\n",
    "        display(writtenQuestion)\n",
    "        display(a)\n",
    "        display(b)\n",
    "        display(c)\n",
    "        display(d)\n",
    "        display(Latex(\"Please try again.\"))\n",
    "        display(Latex(\"HINT: There is more than one answer. Make sure to divide or multiply both \\\n",
    "        parts using the same number.\"))\n",
    "        display(button_check)\n",
    "        \n",
    "button_check.on_click(check_button)\n"
   ]
  },
  {
   "cell_type": "markdown",
   "metadata": {},
   "source": [
    "* **Problem 2:** (Use the illustration below to answer the question)\n",
    "\n",
    "<img src=\"../images/Car.gif\" width=\"500\" height=\"400\"/>\n",
    "<font size = 1 > <center>*GIF taken from: http://www.ninetyeast.net/physics/grade-9-10-gcse-hsc/forces/newtons-laws-of-motion/newtons-first-law-of-motion*</center> </font>\n"
   ]
  },
  {
   "cell_type": "code",
   "execution_count": 7,
   "metadata": {},
   "outputs": [
    {
     "data": {
      "text/latex": [
       "What is the ratio of the speeds of the orange, green and blue cars?"
      ],
      "text/plain": [
       "<IPython.core.display.Latex object>"
      ]
     },
     "metadata": {},
     "output_type": "display_data"
    },
    {
     "data": {
      "application/vnd.jupyter.widget-view+json": {
       "model_id": "06ebcf6f4322488589072b966106722a",
       "version_major": 2,
       "version_minor": 0
      },
      "text/plain": [
       "Checkbox(value=False, description='4 : 2 : 1', style=DescriptionStyle(description_width='initial'))"
      ]
     },
     "metadata": {},
     "output_type": "display_data"
    },
    {
     "data": {
      "application/vnd.jupyter.widget-view+json": {
       "model_id": "946be76d2a3b4dbb9f0329676c6039b1",
       "version_major": 2,
       "version_minor": 0
      },
      "text/plain": [
       "Checkbox(value=False, description='20 : 40 : 10', style=DescriptionStyle(description_width='initial'))"
      ]
     },
     "metadata": {},
     "output_type": "display_data"
    },
    {
     "data": {
      "application/vnd.jupyter.widget-view+json": {
       "model_id": "d541c90353944311bb5715dbdd6d8118",
       "version_major": 2,
       "version_minor": 0
      },
      "text/plain": [
       "Checkbox(value=False, description='10 : 20 : 40', style=DescriptionStyle(description_width='initial'))"
      ]
     },
     "metadata": {},
     "output_type": "display_data"
    },
    {
     "data": {
      "application/vnd.jupyter.widget-view+json": {
       "model_id": "20420c89aa014822b99ab63864f731d7",
       "version_major": 2,
       "version_minor": 0
      },
      "text/plain": [
       "Checkbox(value=False, description='1 : 2 : 4', style=DescriptionStyle(description_width='initial'))"
      ]
     },
     "metadata": {},
     "output_type": "display_data"
    },
    {
     "data": {
      "application/vnd.jupyter.widget-view+json": {
       "model_id": "483ff9fc5e52428198bba728425ed4a0",
       "version_major": 2,
       "version_minor": 0
      },
      "text/plain": [
       "Button(description='Check', style=ButtonStyle())"
      ]
     },
     "metadata": {},
     "output_type": "display_data"
    }
   ],
   "source": [
    "#writtenQuestion is the question the user is asked.\n",
    "writtenQuestion =  Latex('What is the ratio of the speeds of the orange, green and blue cars?')\n",
    "display(writtenQuestion)\n",
    "\n",
    "#Create the box for options\n",
    "a=widgets.Checkbox(\n",
    "    value=False,\n",
    "    description=\"4 : 2 : 1\",\n",
    "    style=style\n",
    ")\n",
    "\n",
    "b=widgets.Checkbox(\n",
    "    value=False,\n",
    "    description='20 : 40 : 10',\n",
    "    style=style\n",
    ")\n",
    "c=widgets.Checkbox(\n",
    "    value=False,\n",
    "    description='10 : 20 : 40',\n",
    "    style=style\n",
    ")\n",
    "d=widgets.Checkbox(\n",
    "    value=False,\n",
    "    description=r'1 : 2 : 4',\n",
    "    style=style\n",
    ")\n",
    "\n",
    "#Display the check box\n",
    "display(a)\n",
    "display(b)\n",
    "display(c)\n",
    "display(d)\n",
    "\n",
    "#create a button to check the answer\n",
    "button_check = widgets.Button(description=\"Check\")\n",
    "display(button_check)\n",
    "\n",
    "#Check the answer\n",
    "def check_button(x):\n",
    "    #If answer is correct:\n",
    "    if a.value==True and b.value==False and c.value==False and d.value==False:\n",
    "        clear_output()\n",
    "        display(writtenQuestion)\n",
    "        display(Latex(\"Correct!\"))\n",
    "        display(Latex(r'Orange : Green : Blue $= 40 : 20 : 10 \\\n",
    "        = 4 : 2 : 1$ (Divide by 10)'))\n",
    "        \n",
    "    #Otherwise, if the answer is wrong:\n",
    "    else: \n",
    "        clear_output()\n",
    "        display(writtenQuestion)\n",
    "        display(a)\n",
    "        display(b)\n",
    "        display(c)\n",
    "        display(d)\n",
    "        display(button_check)\n",
    "        display(Latex(\"Please try again.\"))\n",
    "        display(Latex(\"HINT: Make sure the order of your ratio is Orange : Green : Blue.\"))\n",
    "                \n",
    "button_check.on_click(check_button)"
   ]
  },
  {
   "cell_type": "markdown",
   "metadata": {},
   "source": [
    "* **Problem 3:** Jack goes to the market and buys $8$ oranges, $6$ bananas, and $2$ pineapples."
   ]
  },
  {
   "cell_type": "code",
   "execution_count": 8,
   "metadata": {},
   "outputs": [
    {
     "data": {
      "text/latex": [
       "What is the ratio of fruits to bananas?"
      ],
      "text/plain": [
       "<IPython.core.display.Latex object>"
      ]
     },
     "metadata": {},
     "output_type": "display_data"
    },
    {
     "data": {
      "application/vnd.jupyter.widget-view+json": {
       "model_id": "824abfe361894ebd90fbfb8088e73355",
       "version_major": 2,
       "version_minor": 0
      },
      "text/plain": [
       "Checkbox(value=False, description='16 : 6', style=DescriptionStyle(description_width='initial'))"
      ]
     },
     "metadata": {},
     "output_type": "display_data"
    },
    {
     "data": {
      "application/vnd.jupyter.widget-view+json": {
       "model_id": "155300181dc3411aaeff425155f96109",
       "version_major": 2,
       "version_minor": 0
      },
      "text/plain": [
       "Checkbox(value=False, description='14 : 6', style=DescriptionStyle(description_width='initial'))"
      ]
     },
     "metadata": {},
     "output_type": "display_data"
    },
    {
     "data": {
      "application/vnd.jupyter.widget-view+json": {
       "model_id": "f9f1194a899a4759ae016eedd92bded4",
       "version_major": 2,
       "version_minor": 0
      },
      "text/plain": [
       "Checkbox(value=False, description='8 : 3', style=DescriptionStyle(description_width='initial'))"
      ]
     },
     "metadata": {},
     "output_type": "display_data"
    },
    {
     "data": {
      "application/vnd.jupyter.widget-view+json": {
       "model_id": "c292c0351f8c4de096a5b9b819e9ccf4",
       "version_major": 2,
       "version_minor": 0
      },
      "text/plain": [
       "Checkbox(value=False, description='16 : 8', style=DescriptionStyle(description_width='initial'))"
      ]
     },
     "metadata": {},
     "output_type": "display_data"
    },
    {
     "data": {
      "application/vnd.jupyter.widget-view+json": {
       "model_id": "d0b1347bba394c8c8f7a638b60c4be50",
       "version_major": 2,
       "version_minor": 0
      },
      "text/plain": [
       "Button(description='Check', style=ButtonStyle())"
      ]
     },
     "metadata": {},
     "output_type": "display_data"
    }
   ],
   "source": [
    "#writtenQuestion is the question the user is asked.\n",
    "writtenQuestion =  Latex('What is the ratio of fruits to bananas?')\n",
    "display(writtenQuestion)\n",
    "\n",
    "#Create the box for options\n",
    "a=widgets.Checkbox(\n",
    "    value=False,\n",
    "    description='16 : 6',\n",
    "    style = style\n",
    ")\n",
    "\n",
    "b=widgets.Checkbox(\n",
    "    value=False,\n",
    "    description='14 : 6',\n",
    "    style = style\n",
    ")\n",
    "\n",
    "c=widgets.Checkbox(\n",
    "    value=False,\n",
    "    description=r'8 : 3',\n",
    "    style = style\n",
    ")\n",
    "d=widgets.Checkbox(\n",
    "    value=False,\n",
    "    description=r'16 : 8',\n",
    "    style = style\n",
    ")\n",
    "\n",
    "#Display the check box\n",
    "display(a)\n",
    "display(b)\n",
    "display(c)\n",
    "display(d)\n",
    "\n",
    "#create a button to check the answer\n",
    "button_check = widgets.Button(description=\"Check\")\n",
    "display(button_check)\n",
    "\n",
    "#Check the answer\n",
    "def check_button(x):\n",
    "    #If answer is correct:\n",
    "    if a.value==True and b.value==False and c.value==True and d.value==False:\n",
    "        clear_output()\n",
    "        display(writtenQuestion)\n",
    "        display(Latex(\"Correct!\"))\n",
    "        display(Latex(r'Fruits : Bananas $= (8 + 6 + 2) : 6 \\\n",
    "        = 16 : 6 = 8 : 3$ (Divide by 2)'))\n",
    "        \n",
    "    #Otherwise, if the answer is wrong:\n",
    "    else: \n",
    "        clear_output()\n",
    "        display(writtenQuestion)\n",
    "        display(a)\n",
    "        display(b)\n",
    "        display(c)\n",
    "        display(d)\n",
    "        display(button_check)\n",
    "        display(Latex(\"Please try again.\"))\n",
    "        display(Latex(\"HINT: There is more than one answer. Also, you should take note that\\\n",
    "                      fruits means ALL fruits bought.\"))\n",
    "                \n",
    "button_check.on_click(check_button)"
   ]
  },
  {
   "cell_type": "markdown",
   "metadata": {},
   "source": [
    "* **Problem 4:** Jack buys oranges and pineapples at a $4 : 3$ ratio."
   ]
  },
  {
   "cell_type": "code",
   "execution_count": 9,
   "metadata": {},
   "outputs": [
    {
     "data": {
      "text/latex": [
       "If he buys $15$ pineapples, how many oranges he will buy?"
      ],
      "text/plain": [
       "<IPython.core.display.Latex object>"
      ]
     },
     "metadata": {},
     "output_type": "display_data"
    },
    {
     "data": {
      "application/vnd.jupyter.widget-view+json": {
       "model_id": "02203c6d960346c5b5e2359b1c862e8a",
       "version_major": 2,
       "version_minor": 0
      },
      "text/plain": [
       "Checkbox(value=False, description='18 oranges', style=DescriptionStyle(description_width='initial'))"
      ]
     },
     "metadata": {},
     "output_type": "display_data"
    },
    {
     "data": {
      "application/vnd.jupyter.widget-view+json": {
       "model_id": "30abd0e053294f068168d674bad8f587",
       "version_major": 2,
       "version_minor": 0
      },
      "text/plain": [
       "Checkbox(value=False, description='24 oranges', style=DescriptionStyle(description_width='initial'))"
      ]
     },
     "metadata": {},
     "output_type": "display_data"
    },
    {
     "data": {
      "application/vnd.jupyter.widget-view+json": {
       "model_id": "8749b0ef4ac04497ae3e8b8d21bd5f3e",
       "version_major": 2,
       "version_minor": 0
      },
      "text/plain": [
       "Checkbox(value=False, description='28 oranges', style=DescriptionStyle(description_width='initial'))"
      ]
     },
     "metadata": {},
     "output_type": "display_data"
    },
    {
     "data": {
      "application/vnd.jupyter.widget-view+json": {
       "model_id": "90951078e42b45cbbbae65eed9b1e38b",
       "version_major": 2,
       "version_minor": 0
      },
      "text/plain": [
       "Checkbox(value=False, description='20 oranges', style=DescriptionStyle(description_width='initial'))"
      ]
     },
     "metadata": {},
     "output_type": "display_data"
    },
    {
     "data": {
      "application/vnd.jupyter.widget-view+json": {
       "model_id": "dd56511628c84a3f80fda5fdf58a1dd8",
       "version_major": 2,
       "version_minor": 0
      },
      "text/plain": [
       "Button(description='Check', style=ButtonStyle())"
      ]
     },
     "metadata": {},
     "output_type": "display_data"
    }
   ],
   "source": [
    "#writtenQuestion is the question the user is asked.\n",
    "writtenQuestion =  Latex('If he buys $15$ pineapples, how many oranges he will buy?')\n",
    "display(writtenQuestion)\n",
    "\n",
    "#Create the box for options\n",
    "a=widgets.Checkbox(\n",
    "    value=False,\n",
    "    description='18 oranges',\n",
    "    style = style\n",
    ")\n",
    "b=widgets.Checkbox(\n",
    "    value=False,\n",
    "    description='24 oranges',\n",
    "    style = style\n",
    ")\n",
    "\n",
    "c=widgets.Checkbox(\n",
    "    value=False,\n",
    "    description='28 oranges',\n",
    "    style = style\n",
    ")\n",
    "d=widgets.Checkbox(\n",
    "    value=False,\n",
    "    description='20 oranges',\n",
    "    style = style\n",
    ")\n",
    "\n",
    "#Display the check box\n",
    "display(a)\n",
    "display(b)\n",
    "display(c)\n",
    "display(d)\n",
    "\n",
    "#create a button to check the answer\n",
    "button_check = widgets.Button(description=\"Check\")\n",
    "display(button_check)\n",
    "\n",
    "#Check the answer\n",
    "def check_button(x):\n",
    "    #If answer is correct:\n",
    "    if a.value== False and b.value== False and c.value== False and d.value== True:\n",
    "        clear_output()\n",
    "        display(writtenQuestion)\n",
    "        display(Latex(\"Correct!\"))\n",
    "        display(Latex(r'Oranges : Pineapples $= 4 : 3 \\\n",
    "        = 20 : 15$ (Multiply by 5)'))\n",
    "        \n",
    "    #Otherwise, if the answer is wrong:\n",
    "    else: \n",
    "        clear_output()\n",
    "        display(writtenQuestion)\n",
    "        display(a)\n",
    "        display(b)\n",
    "        display(c)\n",
    "        display(d)\n",
    "        display(button_check)\n",
    "        display(Latex(\"Please try again.\"))\n",
    "        display(Latex(\"HINT: Multiply the ratio by the amount needed to get from \\\n",
    "        $3$ pineapples to $15$ pineapples.\"))\n",
    "\n",
    "button_check.on_click(check_button)"
   ]
  },
  {
   "cell_type": "markdown",
   "metadata": {},
   "source": [
    "### Exercises\n",
    "\n",
    ">**Question 1**: Jack has $16$ pens, $12$ pencils, and $6$ erasers. What is the ratio of supplies to erasers?"
   ]
  },
  {
   "cell_type": "code",
   "execution_count": 10,
   "metadata": {},
   "outputs": [
    {
     "data": {
      "application/vnd.jupyter.widget-view+json": {
       "model_id": "89757bf6127943318374e0d687c4cfa3",
       "version_major": 2,
       "version_minor": 0
      },
      "text/plain": [
       "Button(description='Show Answer', style=ButtonStyle())"
      ]
     },
     "metadata": {},
     "output_type": "display_data"
    }
   ],
   "source": [
    "#Construction of button to provide answer to question 1.\n",
    "buttonShowAnswer = widgets.Button(description=\"Show Answer\")\n",
    "\n",
    "def displayAnswer(a):\n",
    "    display(Latex(r\"$34 : 6$ or $17 : 3$\"))\n",
    "    buttonShowAnswer.close()\n",
    "\n",
    "display(buttonShowAnswer)\n",
    "buttonShowAnswer.on_click(displayAnswer)"
   ]
  },
  {
   "cell_type": "markdown",
   "metadata": {},
   "source": [
    ">**Question 2**: Jack has $16$ pens and $12$ pencils. If Jack gives $4$ pens to Jill, then how many pencils does Jack have to give Jill to keep an equal ratio?"
   ]
  },
  {
   "cell_type": "code",
   "execution_count": 11,
   "metadata": {
    "scrolled": true
   },
   "outputs": [
    {
     "data": {
      "application/vnd.jupyter.widget-view+json": {
       "model_id": "ce93f7ad7ee446958b5ba944b4951dd6",
       "version_major": 2,
       "version_minor": 0
      },
      "text/plain": [
       "Button(description='Show Answer', style=ButtonStyle())"
      ]
     },
     "metadata": {},
     "output_type": "display_data"
    }
   ],
   "source": [
    "#Construction of button to provide answer to question 2.\n",
    "buttonShowAnswer = widgets.Button(description=\"Show Answer\")\n",
    "\n",
    "def displayAnswer(a):\n",
    "    display(Latex(r\"$3$ pencils\"))\n",
    "    buttonShowAnswer.close()\n",
    "\n",
    "display(buttonShowAnswer)\n",
    "buttonShowAnswer.on_click(displayAnswer)"
   ]
  },
  {
   "cell_type": "markdown",
   "metadata": {},
   "source": [
    ">**Question 3**: Jack is a pizza deliveryman. Fill up the following based on your ratio knowledge.\n",
    "\n",
    "| Time (hour)   |Pizza delivered (quantity) |\n",
    "|:-------------:|:-------------------------:|\n",
    "|$6$            | $48$                      | \n",
    "|$ ?$           | $64$                      | \n",
    "|$7$            | $?$                       | "
   ]
  },
  {
   "cell_type": "code",
   "execution_count": 12,
   "metadata": {},
   "outputs": [
    {
     "data": {
      "application/vnd.jupyter.widget-view+json": {
       "model_id": "d823f605cb464d039120c29771d10740",
       "version_major": 2,
       "version_minor": 0
      },
      "text/plain": [
       "Button(description='Show Answer', style=ButtonStyle())"
      ]
     },
     "metadata": {},
     "output_type": "display_data"
    }
   ],
   "source": [
    "#Construction of button to provide answer to question 3.\n",
    "buttonShowAnswer = widgets.Button(description=\"Show Answer\")\n",
    "\n",
    "def displayAnswer(a):\n",
    "    display(Latex(r\"$8$ and $56$\"))\n",
    "    buttonShowAnswer.close()\n",
    "\n",
    "display(buttonShowAnswer)\n",
    "buttonShowAnswer.on_click(displayAnswer)"
   ]
  },
  {
   "cell_type": "markdown",
   "metadata": {},
   "source": [
    "## Rates\n",
    "\n",
    "<img src=\"../images/GirlRunning.gif\" width=\"300\" height=\"200\"/>\n",
    "<font size = 1 > <center> *GIF taken from https://giphy.com/gifs/happy-girl-QKUTD5lAgpgrSHpbMB/fullscreen, October 27,2018 </center> </font>\n",
    "\n",
    "> **Rates** are somewhat different than ratios. A rate is a ratio that compares two quantities of different units.\n",
    "\n",
    "Suppose the girl in the figure above runs $2$ miles in $1$ hour. Then, the **rate** of the girls running is $2$ miles per hour, (Or $ 2 \\frac{\\textrm{mile}}{\\textrm{hour}}$). In this example, *a mile is the unit of distance*, and *hour is the unit of time*. So, the **running rate** of the girl is comparing two quantities of different units.\n",
    "\n",
    "Rates occur in many areas of our life:\n",
    "\n",
    "* How fast are you running? $\\rightarrow$ *Miles per hour*\n",
    "* What is the unit price of one of your pens? $\\rightarrow$ *Price per unit*\n",
    "* How fast are you typing? $\\rightarrow$ *Words per minutes*\n",
    "\n",
    "> Keep in mind that the denominator would be $1$ during rate calculation. \n",
    "\n",
    "Below is a video which demonstrates the real-life scenarios of rate:"
   ]
  },
  {
   "cell_type": "code",
   "execution_count": 73,
   "metadata": {
    "scrolled": true
   },
   "outputs": [
    {
     "data": {
      "text/html": [
       "<center><iframe width=\"560\" height=\"315\" src=\"https://www.youtube.com/embed/tT9A2jlL1s8\" frameborder=\"0\" allow=\"autoplay; encrypted-media\" allowfullscreen></iframe></center>"
      ],
      "text/plain": [
       "<IPython.core.display.HTML object>"
      ]
     },
     "execution_count": 73,
     "metadata": {},
     "output_type": "execute_result"
    }
   ],
   "source": [
    "from IPython.display import HTML\n",
    "\n",
    "HTML('<center><iframe width=\"560\" height=\"315\" src=\"https://www.youtube.com/embed/tT9A2jlL1s8\" \\\n",
    "frameborder=\"0\" allow=\"autoplay; encrypted-media\" allowfullscreen></iframe></center>')"
   ]
  },
  {
   "cell_type": "markdown",
   "metadata": {},
   "source": [
    "<font size = 1 > <center> *This video was created by the YouTube channel LearningGamesLab and can be found at: (https://www.youtube.com/embed/tT9A2jlL1s8)* </center> </font>"
   ]
  },
  {
   "cell_type": "markdown",
   "metadata": {},
   "source": [
    "### Rate Related Problems\n",
    "\n",
    "* **Problem 1:** Jack writes $84$ words in $7$ minutes. He writes at a constant speed."
   ]
  },
  {
   "cell_type": "code",
   "execution_count": 13,
   "metadata": {},
   "outputs": [
    {
     "data": {
      "text/latex": [
       "How many words can Jack write per minute?"
      ],
      "text/plain": [
       "<IPython.core.display.Latex object>"
      ]
     },
     "metadata": {},
     "output_type": "display_data"
    },
    {
     "data": {
      "application/vnd.jupyter.widget-view+json": {
       "model_id": "758dcfd2414b4c908a995c0b5618c882",
       "version_major": 2,
       "version_minor": 0
      },
      "text/plain": [
       "interactive(children=(Dropdown(description='Choose One:', options=('12 words per minute', '13 words per minute…"
      ]
     },
     "metadata": {},
     "output_type": "display_data"
    }
   ],
   "source": [
    "#writtenQuestion is the question the user is asked.\n",
    "writtenQuestion =  Latex('How many words can Jack write per minute?')\n",
    "display(writtenQuestion)\n",
    "\n",
    "def q_1(val):\n",
    "    #If answer is correct:\n",
    "    if val == \"12 words per minute\":\n",
    "        display(Latex(\"Correct!\"))\n",
    "        display(Latex(r'Words per minute $= \\\n",
    "        \\frac{84}{7} = 12$ words per minute'))\n",
    "    \n",
    "    #If nothing is selected:\n",
    "    elif val == None:\n",
    "        None\n",
    "        \n",
    "    #Otherwise, if the answer is wrong:\n",
    "    else:\n",
    "        display(Latex(\"Please try again.\"))\n",
    "        display(Latex(r'HINT: Words per minute $= \\\n",
    "        \\frac{\\textrm{Total number of words}}{\\textrm{Total minutes}}$'))\n",
    "\n",
    "a1 = '12 words per minute'\n",
    "a2 = \"13 words per minute\"\n",
    "a3 = \"11 words per minute\"\n",
    "interact(q_1, val = widgets.Dropdown(options=[a1 ,a2, a3 ],\\\n",
    "                                     value = None,\\\n",
    "                                     description = 'Choose One:',\\\n",
    "                                     disabled = False));"
   ]
  },
  {
   "cell_type": "markdown",
   "metadata": {},
   "source": [
    "* **Problem 2:** Jack delivers $16$ pizzas in $2$ hours."
   ]
  },
  {
   "cell_type": "code",
   "execution_count": 14,
   "metadata": {},
   "outputs": [
    {
     "data": {
      "text/latex": [
       "How many pizzas can Jack deliver per hour?"
      ],
      "text/plain": [
       "<IPython.core.display.Latex object>"
      ]
     },
     "metadata": {},
     "output_type": "display_data"
    },
    {
     "data": {
      "application/vnd.jupyter.widget-view+json": {
       "model_id": "d799952ba2974049844a219626b24d30",
       "version_major": 2,
       "version_minor": 0
      },
      "text/plain": [
       "interactive(children=(Dropdown(description='Choose One:', options=('4 pizzas per hour', '10 pizzas per hour', …"
      ]
     },
     "metadata": {},
     "output_type": "display_data"
    }
   ],
   "source": [
    "#writtenQuestion is the question the user is asked.\n",
    "writtenQuestion =  Latex('How many pizzas can Jack deliver per hour?')\n",
    "display(writtenQuestion)\n",
    "\n",
    "def q_1(val):\n",
    "    #If answer is correct:\n",
    "    if val == \"8 pizzas per hour\":\n",
    "        display(Latex(\"Correct!\"))\n",
    "        display(Latex(r'Pizzas per hour $= \\frac{16}{2} = 8$ pizzas per hour'))\n",
    "    \n",
    "    #If nothing is selected:\n",
    "    elif val == None:\n",
    "        None\n",
    "        \n",
    "    #Otherwise, if the answer is wrong:\n",
    "    else:\n",
    "        display(Latex(\"Please try again.\"))\n",
    "        display(Latex(r'HINT: Pizzas per hour $= \\\n",
    "        \\frac{\\textrm{Total number of pizza deliveries}}{\\textrm{Total hours}}$'))\n",
    "\n",
    "a1 = \"4 pizzas per hour\"\n",
    "a2 = \"10 pizzas per hour\"\n",
    "a3 = \"8 pizzas per hour\"\n",
    "interact(q_1, val = widgets.Dropdown(options=[a1 ,a2, a3 ],\\\n",
    "                                     value = None,\\\n",
    "                                     description = 'Choose One:',\\\n",
    "                                     disabled = False));"
   ]
  },
  {
   "cell_type": "markdown",
   "metadata": {},
   "source": [
    "* **Problem 3:** There are $3$ delivery men in a Canadian Pizza shop. The table below shows how many pizzas has been delivered.\n",
    "\n",
    "| Name  | Time (hour)   |Pizza delivered (quantity) |\n",
    "|:------|:-------------:|:-------------------------:|\n",
    "| Jack  |$6$            | $42$                      | \n",
    "| Robin |$ 5$           | $20$                      | \n",
    "|  Jill |$7$            | $35$                      | "
   ]
  },
  {
   "cell_type": "code",
   "execution_count": 15,
   "metadata": {},
   "outputs": [
    {
     "data": {
      "text/latex": [
       "Which delivery man delivers the least amount of pizza per hour?"
      ],
      "text/plain": [
       "<IPython.core.display.Latex object>"
      ]
     },
     "metadata": {},
     "output_type": "display_data"
    },
    {
     "data": {
      "application/vnd.jupyter.widget-view+json": {
       "model_id": "c1b00db014bf46f2ac6883efc7c913f1",
       "version_major": 2,
       "version_minor": 0
      },
      "text/plain": [
       "interactive(children=(Dropdown(description='Choose One:', options=('Jack', 'Robin', 'Jill'), value=None), Outp…"
      ]
     },
     "metadata": {},
     "output_type": "display_data"
    }
   ],
   "source": [
    "#writtenQuestion is the question the user is asked.\n",
    "writtenQuestion =  Latex('Which delivery man delivers the least amount of pizza per hour?')\n",
    "display(writtenQuestion)\n",
    "\n",
    "def q_1(val):\n",
    "    #If answer is correct:\n",
    "    if val == \"Robin\":\n",
    "        display(Latex(\"Great!\"))\n",
    "        display(Latex(r'Pizzas per hour for Jack $= \\\n",
    "        \\frac{42}{6} = 7$ pizzas per hour'))\n",
    "        display(Latex(r'Pizzas per hour for Robin $= \\\n",
    "        \\frac{20}{5} = 4$ pizzas per hour'))\n",
    "        display(Latex(r'Pizzas per hour for Jill $= \\\n",
    "        \\frac{35}{7} = 5$ pizzas per hour'))\n",
    "        display(Latex(\"So, Robin delivers the least amount of pizza!\"))\n",
    "    \n",
    "    #If nothing is selected:\n",
    "    elif val == None:\n",
    "        None\n",
    "        \n",
    "    #Otherwise, if the answer is wrong:\n",
    "    else:\n",
    "        display(Latex(\"Please try again.\"))\n",
    "        display(Latex(r'HINT: Pizzas per hour for a person $= \\\n",
    "        \\frac{\\textrm{Total number of pizza deliveries}}{\\textrm{Total hours}}$'))\n",
    "\n",
    "a1 = \"Jack\"\n",
    "a2 = \"Robin\"\n",
    "a3 = \"Jill\"\n",
    "interact(q_1, val = widgets.Dropdown(options=[a1 ,a2, a3],\\\n",
    "                                     value = None,\\\n",
    "                                     description = 'Choose One:',\\\n",
    "                                     disabled = False));"
   ]
  },
  {
   "cell_type": "markdown",
   "metadata": {},
   "source": [
    "* **Problem 4:** Jack delivers $16$ pizzas in $4$ hours. How many pizzas can he deliver in $7$ hours?\n",
    "\n",
    "> Let's solve this problem step by step:\n",
    " 1. Calculate the rate of pizzas he can deliver in $1$ hour.\n",
    " 2. Calculate the quantity of pizza he can deliver in $7$ hours."
   ]
  },
  {
   "cell_type": "code",
   "execution_count": 16,
   "metadata": {},
   "outputs": [
    {
     "data": {
      "text/latex": [
       "What is the rate of pizzas Jack can deliver in 1 hour?"
      ],
      "text/plain": [
       "<IPython.core.display.Latex object>"
      ]
     },
     "metadata": {},
     "output_type": "display_data"
    },
    {
     "data": {
      "application/vnd.jupyter.widget-view+json": {
       "model_id": "378761fe1c834e339566113c61334e06",
       "version_major": 2,
       "version_minor": 0
      },
      "text/plain": [
       "interactive(children=(Dropdown(description='Choose One:', options=('5 pizza per hour', '3 pizza per hour', '4 …"
      ]
     },
     "metadata": {},
     "output_type": "display_data"
    }
   ],
   "source": [
    "#writtenQuestion1 is the question the user is asked.\n",
    "writtenQuestion1 =  Latex(\"What is the rate of pizzas Jack can deliver in 1 hour?\")\n",
    "\n",
    "def q_1(val):\n",
    "    #If answer is correct:\n",
    "    if val == \"4 pizza per hour\":\n",
    "        display(Latex(\"Great!\"))\n",
    "        display(Latex(r'Pizzas per hour for Jack $= \\\n",
    "        \\frac{16}{4} = 4$ pizzas per hour'))\n",
    "        \n",
    "        #Display the second question once the first question has been succesfully answered.\n",
    "        display(writtenQuestion2)\n",
    "        interact(q_2, val = widgets.Dropdown(options=[a4 ,a5, a6 ],\\\n",
    "                                     value = None,\\\n",
    "                                     description = 'Choose One:',\\\n",
    "                                     disabled = False));\n",
    "    \n",
    "    #If nothing is selected:\n",
    "    elif val == None:\n",
    "        None\n",
    "        \n",
    "    #Otherwise, if the answer is wrong:\n",
    "    else:\n",
    "        display(Latex(\"Sorry! Please try again.\"))\n",
    "        display(Latex(r'HINT: Pizzas per hour $= \\\n",
    "        \\frac{\\textrm{Total number of pizzas delivered}}{\\textrm{Total hours}}$'))\n",
    "\n",
    "#The following is a list of answers for question 1.\n",
    "a1 = \"5 pizza per hour\"\n",
    "a2 = \"3 pizza per hour\"\n",
    "a3 = \"4 pizza per hour\"\n",
    "\n",
    "#Display the first question.\n",
    "display(writtenQuestion1)\n",
    "interact(q_1, val = widgets.Dropdown(options=[a1 ,a2, a3],\\\n",
    "                                     value = None,\\\n",
    "                                     description = 'Choose One:',\\\n",
    "                                     disabled = False));\n",
    "\n",
    "\n",
    "#writtenQuestion2 is the question the user is asked.\n",
    "writtenQuestion2 =  Latex(\"How many pizzas can Jack deliver in 7 hours?\")\n",
    "\n",
    "def q_2(val):\n",
    "    #If answer is correct:\n",
    "    if val == \"28 pizzas\":\n",
    "        display(Latex(\"Great!\"))\n",
    "        display(Latex(r'Jack delivers $4 \\times 7 = 28$ pizzas per 7 hours!'))\n",
    "    \n",
    "    #If nothing is selected:\n",
    "    elif val == None:\n",
    "        None\n",
    "    \n",
    "    #Otherwise, if the answer is wrong:\n",
    "    else:\n",
    "        display(Latex(\"Sorry! Please try again.\"))\n",
    "        display(Latex(r'HINT: (Pizzas per hour) $\\times$ ($n$ amount of hours) $=$ Number of pizzas per $n$ hours'))\n",
    "\n",
    "#The following is a list of answers for question 2.\n",
    "a4 = \"36 pizzas\"\n",
    "a5 = \"32 pizzas\"\n",
    "a6 = \"28 pizzas\""
   ]
  },
  {
   "cell_type": "markdown",
   "metadata": {},
   "source": [
    "* **Problem 5:** Jack can deliver $16$ pizzas in $4$ hours. Jill can also deliver $64$ pizzas in $8$ hours. How many hours will they take to deliver $120$ pizzas if they work together?\n",
    "\n",
    "> Let's solve this problem step by step:\n",
    " 1. Calculate the rate of pizzas delivered by Jack and Jill.\n",
    " 2. Calculate the combined pizza delivery rate.\n",
    " 3. Calculate the amount of hours they take to deliver $120$ pizzas."
   ]
  },
  {
   "cell_type": "code",
   "execution_count": 17,
   "metadata": {},
   "outputs": [
    {
     "data": {
      "text/latex": [
       "What is the rate of pizzas Jack and Jill can deliver in 1 hour?"
      ],
      "text/plain": [
       "<IPython.core.display.Latex object>"
      ]
     },
     "metadata": {},
     "output_type": "display_data"
    },
    {
     "data": {
      "application/vnd.jupyter.widget-view+json": {
       "model_id": "b5627cffe2584acd9ac6fbb915647df6",
       "version_major": 2,
       "version_minor": 0
      },
      "text/plain": [
       "interactive(children=(Dropdown(description='Choose One:', options=('5 pizzas for Jack and 7 pizzas for Jill', …"
      ]
     },
     "metadata": {},
     "output_type": "display_data"
    }
   ],
   "source": [
    "#writtenQuestion1 is the question the user is asked.\n",
    "writtenQuestion1 =  Latex(\"What is the rate of pizzas Jack and Jill can deliver in 1 hour?\")\n",
    "display(writtenQuestion1)\n",
    "\n",
    "def q_1(val):\n",
    "    #If answer is correct:\n",
    "    if val == \"4 pizzas for Jack and 8 pizzas for Jill\":\n",
    "        display(Latex(\"Great!\"))\n",
    "        display(Latex(r'Pizzas per hour for Jack $= \\frac{16}{4} = 4$ pizzas'))\n",
    "        display(Latex(r'Pizzas per hour for Jill $= \\frac{64}{8} = 8$ pizzas'))\n",
    "    \n",
    "        #Display the second question once the first question has been succesfully answered.\n",
    "        display(writtenQuestion2)\n",
    "        interact(q_2, val = widgets.Dropdown(options=[a4 ,a5, a6],\\\n",
    "                                     value = None,\\\n",
    "                                     description = 'Choose One:',\\\n",
    "                                     disabled = False));\n",
    "\n",
    "    #If nothing is selected:\n",
    "    elif val == None:\n",
    "        None\n",
    "    \n",
    "    #Otherwise, if the answer is wrong:\n",
    "    else:\n",
    "        display(Latex(\"Sorry! Please try again.\"))\n",
    "        display(Latex(r'HINT: Pizzas per hour $= \\\n",
    "        \\frac{\\textrm{Total number of pizzas delivered}}{\\textrm{Total hours}}$'))\n",
    "        \n",
    "a1 = \"5 pizzas for Jack and 7 pizzas for Jill\"\n",
    "a2 = \"4 pizzas for Jack and 8 pizzas for Jill\"\n",
    "a3 = \"2 pizzas for Jack and 5 pizzas for Jill\"\n",
    "\n",
    "interact(q_1, val = widgets.Dropdown(options=[a1 ,a2, a3],\\\n",
    "                                     value = None,\\\n",
    "                                     description = 'Choose One:',\\\n",
    "                                     disabled = False));\n",
    "\n",
    "#writtenQuestion2 is the question the user is asked.\n",
    "writtenQuestion2 =  Latex(\"How many pizzas can Jack and Jill deliver per hour?\")\n",
    "\n",
    "def q_2(val):\n",
    "    #If answer is correct:\n",
    "    if val == \"12 pizzas\":\n",
    "        display(Latex(\"Great!\"))\n",
    "        display(Latex(r'Jack and Jill can deliver $4 + 8 = 12$ pizzas per hour!'))\n",
    "        \n",
    "        #Display the third question once the second question has been succesfully answered.\n",
    "        display(writtenQuestion3)\n",
    "        interact(q_3, val = widgets.Dropdown(options=[a7 ,a8, a9],\\\n",
    "                                     value = None,\\\n",
    "                                     description = 'Choose One:',\\\n",
    "                                     disabled = False));\n",
    "    \n",
    "    #If nothing is selected:\n",
    "    elif val == None:\n",
    "        None\n",
    "    \n",
    "    #Otherwise, if the answer is wrong:\n",
    "    else:\n",
    "        display(Latex(\"Sorry! Please try again.\"))\n",
    "        display(Latex('HINT: Try adding the amount of pizzas Jack and Jill can do in an hour.'))\n",
    "\n",
    "#The following is a list of answers for question 2.\n",
    "a4 = \"12 pizzas\"\n",
    "a5 = \"10 pizzas\"\n",
    "a6 = \"24 pizzas\"\n",
    "\n",
    "#writtenQuestion3 is the question the user is asked.\n",
    "writtenQuestion3 =  Latex(\"How many hours would it take Jack and Jill to deliver $120$ pizzas?\")\n",
    "\n",
    "def q_3(val):\n",
    "    #If answer is correct:\n",
    "    if val == \"10 hours\":\n",
    "        display(Latex(\"Great!\"))\n",
    "        display(Latex(r'Hours taken $= \\\n",
    "        \\frac{120}{12} = 10$ hours to deliver 120 pizzas'))\n",
    "    \n",
    "    #If nothing is selected:\n",
    "    elif val == None:\n",
    "        None\n",
    "    \n",
    "    #Otherwise, if the answer is wrong:\n",
    "    else:\n",
    "        display(Latex(\"Sorry! Please try again.\"))\n",
    "        display(Latex(r'HINT: Hours taken $= \\\n",
    "        \\frac{\\textrm{Total number of pizzas they have to delivery}}{\\textrm{Combined pizza delivery rate}}$'))\n",
    "\n",
    "#The following is a list of answers for question 3.\n",
    "a7 = \"12 hours\"\n",
    "a8 = \"10 hours\"\n",
    "a9 = \"24 hours\""
   ]
  },
  {
   "cell_type": "markdown",
   "metadata": {},
   "source": [
    "### Exercises\n",
    "\n",
    ">**Question 1**: \n",
    "A car travels $88$ miles in $11$ hours. What is the rate of speed the car travels at?"
   ]
  },
  {
   "cell_type": "code",
   "execution_count": 18,
   "metadata": {
    "scrolled": false
   },
   "outputs": [
    {
     "data": {
      "application/vnd.jupyter.widget-view+json": {
       "model_id": "42c8fc710d334cc58e406a3e08268e56",
       "version_major": 2,
       "version_minor": 0
      },
      "text/plain": [
       "Button(description='Show Answer', style=ButtonStyle())"
      ]
     },
     "metadata": {},
     "output_type": "display_data"
    }
   ],
   "source": [
    "#Construction of button to provide answer to question 1.\n",
    "buttonShowAnswer = widgets.Button(description=\"Show Answer\")\n",
    "\n",
    "def displayAnswer(a):\n",
    "    display(Latex(r\"$8$ miles per hour.\"))\n",
    "    buttonShowAnswer.close()\n",
    "\n",
    "display(buttonShowAnswer)\n",
    "buttonShowAnswer.on_click(displayAnswer)"
   ]
  },
  {
   "cell_type": "markdown",
   "metadata": {},
   "source": [
    ">**Question 2**: \n",
    "A car travels $72$ miles in $9$ hours. How many miles can the car can travel in $25$ hours?"
   ]
  },
  {
   "cell_type": "code",
   "execution_count": 19,
   "metadata": {
    "scrolled": false
   },
   "outputs": [
    {
     "data": {
      "application/vnd.jupyter.widget-view+json": {
       "model_id": "747797c2a4de43f58d81bce5ee0ae3f7",
       "version_major": 2,
       "version_minor": 0
      },
      "text/plain": [
       "Button(description='Show Answer', style=ButtonStyle())"
      ]
     },
     "metadata": {},
     "output_type": "display_data"
    }
   ],
   "source": [
    "#Construction of button to provide answer to question 2.\n",
    "buttonShowAnswer = widgets.Button(description=\"Show Answer\")\n",
    "\n",
    "def displayAnswer(a):\n",
    "    display(Latex(r\"$200$ miles\"))\n",
    "    buttonShowAnswer.close()\n",
    "\n",
    "display(buttonShowAnswer)\n",
    "buttonShowAnswer.on_click(displayAnswer)"
   ]
  },
  {
   "cell_type": "markdown",
   "metadata": {},
   "source": [
    ">**Question 3**: \n",
    "A sedan can travel $64$ miles in $4$ hours. However, an SUV can travels $48$ miles in $3$ hours. Which car is faster?"
   ]
  },
  {
   "cell_type": "code",
   "execution_count": 20,
   "metadata": {},
   "outputs": [
    {
     "data": {
      "application/vnd.jupyter.widget-view+json": {
       "model_id": "9aa29a6a4b99417d8208101752a82636",
       "version_major": 2,
       "version_minor": 0
      },
      "text/plain": [
       "Button(description='Show Answer', style=ButtonStyle())"
      ]
     },
     "metadata": {},
     "output_type": "display_data"
    }
   ],
   "source": [
    "#Construction of button to provide answer to question 3.\n",
    "buttonShowAnswer = widgets.Button(description=\"Show Answer\")\n",
    "\n",
    "def displayAnswer(a):\n",
    "    display(Latex(r\"Equal speed\"))\n",
    "    buttonShowAnswer.close()\n",
    "\n",
    "display(buttonShowAnswer)\n",
    "buttonShowAnswer.on_click(displayAnswer)"
   ]
  },
  {
   "cell_type": "markdown",
   "metadata": {},
   "source": [
    ">**Question 4**:\n",
    "Jack can deliver $100$ newspapers in $5$ hours, but Jill can deliver $125$ newspapers in $5$ hours. How many newspaper can both Jack and Jill deliver in $7$ hours?"
   ]
  },
  {
   "cell_type": "code",
   "execution_count": 21,
   "metadata": {
    "scrolled": false
   },
   "outputs": [
    {
     "data": {
      "application/vnd.jupyter.widget-view+json": {
       "model_id": "ea8cf8d42b974717b2d373d4666b6bd7",
       "version_major": 2,
       "version_minor": 0
      },
      "text/plain": [
       "Button(description='Show Answer', style=ButtonStyle())"
      ]
     },
     "metadata": {},
     "output_type": "display_data"
    }
   ],
   "source": [
    "#Construction of button to provide answer to question 4.\n",
    "buttonShowAnswer = widgets.Button(description=\"Show Answer\")\n",
    "\n",
    "def displayAnswer(a):\n",
    "    display(Latex(r\"$315$ newspapers.\"))\n",
    "    buttonShowAnswer.close()\n",
    "\n",
    "display(buttonShowAnswer)\n",
    "buttonShowAnswer.on_click(displayAnswer)"
   ]
  },
  {
   "cell_type": "markdown",
   "metadata": {},
   "source": [
    "## Proportional Reasoning\n",
    "\n",
    "Before beginning **proportional reasoning**, we will become familiar with proportions first. **A proportion** is a statement that two *ratios*, (or *fractions*), equal:\n",
    "\n",
    "> $\\Large \\frac{\\textrm{a}} {\\textrm{b}}  = \\frac{\\textrm{c}} {\\textrm{d}} \\hspace{2cm} \\textrm{or} \\hspace{2cm} {\\textrm{a}} : {\\textrm{b}} = {\\textrm{c}} : {\\textrm{d}}$\n",
    "\n",
    "If *two ratios are equal*, then the cross product of the ratios is also equal:\n",
    "\n",
    "> $\\Large \\textrm{a} \\times {\\textrm{d}}  = \\textrm{b} \\times {\\textrm{c}}$\n",
    "\n",
    "Let's say you run $20$ meters in $4$ seconds. How many seconds will it take you to run $100$ meters?\n",
    "\n",
    "Assume that you wil need $x$ seconds to run $100$ meters. From our definition of proportion, we will get:\n",
    "\n",
    "> $\\frac{(20\\textrm{ meters})} {(4\\textrm{ seconds})} = \\frac{(100\\textrm{ meters})} {(x\\textrm{ seconds})}$ \n",
    "<br /> <br />\n",
    "$\\Rightarrow (20\\textrm{ meters}) \\times (x\\textrm{ seconds}) = (100{\\textrm{ meters}}) \\times (4\\textrm{ seconds})$\n",
    "<br /> <br />\n",
    "$\\Rightarrow (x\\textrm{ seconds}) = \\frac{(100\\textrm{ meters}) \\times (4\\textrm{ seconds})} {(20\\textrm{ meters})}$\n",
    "<br /> <br />\n",
    "$\\Rightarrow (x\\textrm{ seconds}) = 20\\textrm{ seconds to run 100 meters.}$\n",
    "\n",
    "We can view this problem visually:"
   ]
  },
  {
   "cell_type": "markdown",
   "metadata": {},
   "source": [
    "<img src=\"../images/run.jpg\" width=\"400\" height=\"400\"/>\n",
    "<font size = 1 > <center> *Running image is taken from https://www.vectorstock.com/royalty-free-vector/kid-running-vector-20339619 and modified, October 27,2018 </center> </font>"
   ]
  },
  {
   "cell_type": "markdown",
   "metadata": {},
   "source": [
    "Now, we can begin discussing what *proportional reasoning* is:\n",
    "\n",
    "> **Proportional reasoning** is the ability to compare two quantities and predict the value of one based on the values of another. We do this using multiplication.\n",
    "\n",
    "In the example above, the distance of $100$ meters is $5$ **times** larger of the initial distance, ($20$ meters). This is the case since:\n",
    "\n",
    "> $ 5 \\times  (20\\textrm{ meters}) = (100 \\textrm{ meters}) $\n",
    "\n",
    "So, the time required to travel $100$ meters will be $5$ times of the initial time:\n",
    "\n",
    "> $ 5 \\times (4\\textrm{ seconds}) = (20 \\textrm{ seconds})$\n",
    "\n",
    "This problem is a proportional reasoning problem.\n",
    "\n",
    "Below is a video that demonstrates the idea of proportion of reasoning:"
   ]
  },
  {
   "cell_type": "code",
   "execution_count": 83,
   "metadata": {
    "scrolled": true
   },
   "outputs": [
    {
     "data": {
      "text/html": [
       "<center><iframe width=\"560\" height=\"315\" src=\"https://www.youtube.com/embed/uw4mJWVTYXI\" frameborder=\"0\" allow=\"autoplay; encrypted-media\" allowfullscreen></iframe></center>"
      ],
      "text/plain": [
       "<IPython.core.display.HTML object>"
      ]
     },
     "execution_count": 83,
     "metadata": {},
     "output_type": "execute_result"
    }
   ],
   "source": [
    "from IPython.display import HTML\n",
    "\n",
    "HTML('<center><iframe width=\"560\" height=\"315\" src=\"https://www.youtube.com/embed/uw4mJWVTYXI\" \\\n",
    "frameborder=\"0\" allow=\"autoplay; encrypted-media\" allowfullscreen></iframe></center>')"
   ]
  },
  {
   "cell_type": "markdown",
   "metadata": {},
   "source": [
    "<font size = 1 > <center> *This video was created by the YouTube channel Program Innovation and can be found at: (https://www.youtube.com/embed/uw4mJWVTYXI)* </center> </font>"
   ]
  },
  {
   "cell_type": "markdown",
   "metadata": {},
   "source": [
    "### Proportional Reasoning Related Problems\n",
    "\n",
    "* **Problem 1:** For every 2 red candies in a package, there are 3 green candies. \n",
    "[(This problem is taken from this website)](https://tapintoteenminds.com/progression-of-proportional-reasoning/)\n"
   ]
  },
  {
   "cell_type": "code",
   "execution_count": 22,
   "metadata": {},
   "outputs": [
    {
     "data": {
      "text/latex": [
       "How many red candies would there be if you had 12 green candies?"
      ],
      "text/plain": [
       "<IPython.core.display.Latex object>"
      ]
     },
     "metadata": {},
     "output_type": "display_data"
    },
    {
     "data": {
      "application/vnd.jupyter.widget-view+json": {
       "model_id": "f7ea0b0456de4ecba72340f6a4f5ecd7",
       "version_major": 2,
       "version_minor": 0
      },
      "text/plain": [
       "interactive(children=(Dropdown(description='Choose One:', options=('8 red candies', '6 red candies', '10 red c…"
      ]
     },
     "metadata": {},
     "output_type": "display_data"
    }
   ],
   "source": [
    "#writtenQuestion1 is the question the user is asked.\n",
    "writtenQuestion1 =  Latex(\"How many red candies would there be if you had 12 green candies?\")\n",
    "display(writtenQuestion1)\n",
    "\n",
    "def q_1(val):\n",
    "    #If answer is correct:\n",
    "    if val == \"8 red candies\":\n",
    "        display(Latex(\"Great!\"))\n",
    "        display(Latex(r'$\\frac{12}{2} = 6$ times as many red candies. So, $2 \\times 6 \\\n",
    "        = 12$ red candies in the bag.'))\n",
    "        \n",
    "    #If nothing is selected:\n",
    "    elif val == None:\n",
    "        None\n",
    "    \n",
    "    #Otherwise, if the answer is wrong:\n",
    "    else:\n",
    "        display(Latex(\"Sorry! Please try again.\"))\n",
    "        display(Latex('HINT: Try finding how many times more green candies there are in the bag.\\\n",
    "        Then, multiply the ratio by that amount. '))\n",
    "\n",
    "a1 = \"8 red candies\"\n",
    "a2 = \"6 red candies\"\n",
    "a3 = \"10 red candies\"\n",
    "interact(q_1, val = widgets.Dropdown(options=[a1 ,a2, a3 ],\\\n",
    "                                     value = None,\\\n",
    "                                     description = 'Choose One:',\\\n",
    "                                     disabled = False));"
   ]
  },
  {
   "cell_type": "markdown",
   "metadata": {},
   "source": [
    "Let's see the visualization of this problem to give you clear idea what is exactly happening here:\n",
    "\n",
    "<img src=\"../images/Candy_problem.gif\" width=\"500\" height=\"400\"/>\n",
    "<font size = 1 > <center> *GIF taken from https://tapintoteenminds.com/progression-of-proportional-reasoning/,</center> </font>"
   ]
  },
  {
   "cell_type": "markdown",
   "metadata": {},
   "source": [
    "* **Problem 2:** Below are $2$ investments. Which investment is better? \n",
    "\n",
    "> Scenario 1 : An investment of $100$ dollars grows to $400$ dollars. \n",
    "<br /> <br />\n",
    "Scenario 2 : An investment of $1000$ dollars grows to $1500$ dollars.\n",
    "[(This problem is taken from this website)](https://tapintoteenminds.com/progression-of-proportional-reasoning/)\n",
    "\n",
    "If you think this problem is about profit, then you will get $(400-100) = 300$ dollars profit from Scenario 1. But, you will get $(1500-1000) = 500$ dollars profit from scenario 2. So, in this case, scenario 2 is better than scenario 1. Let's visualize this way of thinking:\n",
    "\n",
    "<img src=\"../images/invesment_absolute.gif\" width=\"500\" height=\"400\"/>\n",
    "<font size = 1 > <center> *GIF taken from https://tapintoteenminds.com/progression-of-proportional-reasoning/, October 27,2018 </center> </font>"
   ]
  },
  {
   "cell_type": "code",
   "execution_count": 23,
   "metadata": {
    "scrolled": true
   },
   "outputs": [
    {
     "data": {
      "text/latex": [
       "We can think of this question in terms of profit."
      ],
      "text/plain": [
       "<IPython.core.display.Latex object>"
      ]
     },
     "metadata": {},
     "output_type": "display_data"
    },
    {
     "data": {
      "application/vnd.jupyter.widget-view+json": {
       "model_id": "4dd73af15a754ddd92e0d64e262de9a5",
       "version_major": 2,
       "version_minor": 0
      },
      "text/plain": [
       "interactive(children=(Dropdown(description='Choose One:', options=('True', 'False'), value=None), Output()), _…"
      ]
     },
     "metadata": {},
     "output_type": "display_data"
    }
   ],
   "source": [
    "#writtenQuestion1 is the question the user is asked.\n",
    "writtenQuestion1 =  Latex(\"We can think of this question in terms of profit.\")\n",
    "display(writtenQuestion1)\n",
    "\n",
    "def q_1(val):\n",
    "    #If answer is correct:\n",
    "    if val == \"False\":\n",
    "        display(Latex(\"Great!\"))\n",
    "        display(Latex(\"This is because we didn't implement the proportional thinking in above explanation\"))\n",
    "        \n",
    "    #If nothing is selected:\n",
    "    elif val == None:\n",
    "        None\n",
    "        \n",
    "    #Otherwise, if the answer is wrong:\n",
    "    else:\n",
    "        display(Latex(\"Sorry! Please try again.\"))\n",
    "        display(Latex(\"We want to look at this question using proportional thinking instead of just profit.\\\n",
    "        This is the case since we are interested in how fast our money will grow.\"))\n",
    "\n",
    "\n",
    "a1 = \"True\"\n",
    "a2 = \"False\"\n",
    "\n",
    "interact(q_1, val = widgets.Dropdown(options=[a1 ,a2],\\\n",
    "                                     value = None,\\\n",
    "                                     description = 'Choose One:',\\\n",
    "                                     disabled = False));"
   ]
  },
  {
   "cell_type": "markdown",
   "metadata": {},
   "source": [
    "Now, let's think about this problem in a **proportional way**. \n",
    "\n",
    "We will get $(100 \\times 4)$ in Scenario 1 and $(1000 \\times 1.5)$ in Scenario 2. So, we will get $4$ times our initial investment in Scenario 1, and $1.5$ times our initial investment in Scenario 2. So, Scenario 1 is *better* than Scenario 2.\n",
    "\n",
    "Below is a visualization that demonstrates the idea of multiplicative thinking:"
   ]
  },
  {
   "cell_type": "markdown",
   "metadata": {},
   "source": [
    "<img src=\"../images/invesment_multiplicative.gif\" width=\"500\" height=\"400\"/>\n",
    "<font size = 1 > <center> *GIF taken from https://tapintoteenminds.com/progression-of-proportional-reasoning/, October 27,2018 </center> </font>"
   ]
  },
  {
   "cell_type": "markdown",
   "metadata": {},
   "source": [
    "* **Problem 3:** Jack went to a store to buy oranges. He found that a pack of $8$ oranges cost $2$ dollars, and a pack of $20$ oranges cost $5.5$ dollars."
   ]
  },
  {
   "cell_type": "code",
   "execution_count": 24,
   "metadata": {
    "scrolled": true
   },
   "outputs": [
    {
     "data": {
      "text/latex": [
       "Which pack of oranges is cheaper?"
      ],
      "text/plain": [
       "<IPython.core.display.Latex object>"
      ]
     },
     "metadata": {},
     "output_type": "display_data"
    },
    {
     "data": {
      "application/vnd.jupyter.widget-view+json": {
       "model_id": "02993b24b17746a6aaec25f438823d97",
       "version_major": 2,
       "version_minor": 0
      },
      "text/plain": [
       "interactive(children=(Dropdown(description='Choose One:', options=('8 Oranges', '20 Oranges'), value=None), Ou…"
      ]
     },
     "metadata": {},
     "output_type": "display_data"
    }
   ],
   "source": [
    "#writtenQuestion1 is the question the user is asked.\n",
    "writtenQuestion1 =  Latex(\"Which pack of oranges is cheaper?\")\n",
    "display(writtenQuestion1)\n",
    "\n",
    "def q_1(val):\n",
    "    #If answer is correct:\n",
    "    if val == \"8 Oranges\":\n",
    "        display(Latex(\"Great!\"))\n",
    "        display(Latex(r\"$8$ oranges $\\times$ $0.25 = 2$ dollars\"))\n",
    "        display(Latex(r\"$20$ oranges $\\times$ $0.275 = 5.5$ dollars\"))\n",
    "        display(Latex(r\"So, since $0.25$ is less than $0.275$, buying $8$ oranges is cheaper.\"))\n",
    "\n",
    "    #If nothing is selected:\n",
    "    elif val == None:\n",
    "        None\n",
    "    \n",
    "    #Otherwise, if the answer is wrong:\n",
    "    else:\n",
    "        display(Latex(\"Sorry! Please try again.\"))\n",
    "        display(Latex(\"HINT: Check how much each orange costs.\"))\n",
    "\n",
    "a1 = \"8 Oranges\"\n",
    "a2 = \"20 Oranges\"\n",
    "\n",
    "interact(q_1, val = widgets.Dropdown(options=[a1 ,a2],\\\n",
    "                                     value = None,\\\n",
    "                                     description = 'Choose One:',\\\n",
    "                                     disabled = False));"
   ]
  },
  {
   "cell_type": "markdown",
   "metadata": {},
   "source": [
    "### Exercise\n",
    "\n",
    ">**Question 1**: \n",
    "Jack has $8$ pens and $4$ pencils. Jill has $10$ pencils. If both have the same proportion of pens to pencils, how many pens does Jill have?"
   ]
  },
  {
   "cell_type": "code",
   "execution_count": 25,
   "metadata": {},
   "outputs": [
    {
     "data": {
      "application/vnd.jupyter.widget-view+json": {
       "model_id": "6a9036c7d76840d5b371932b327f044f",
       "version_major": 2,
       "version_minor": 0
      },
      "text/plain": [
       "Button(description='Show Answer', style=ButtonStyle())"
      ]
     },
     "metadata": {},
     "output_type": "display_data"
    }
   ],
   "source": [
    "#Construction of button to provide answer to question 1.\n",
    "buttonShowAnswer = widgets.Button(description=\"Show Answer\")\n",
    "\n",
    "def displayAnswer(a):\n",
    "    display(Latex(r\"$20$ pencils\"))\n",
    "    buttonShowAnswer.close()\n",
    "\n",
    "display(buttonShowAnswer)\n",
    "buttonShowAnswer.on_click(displayAnswer)"
   ]
  },
  {
   "cell_type": "markdown",
   "metadata": {},
   "source": [
    ">**Question 2**: \n",
    "A Sedan car drives $4$ miles in $2$ hours, while an SUV car drives $36$ miles. If the SUV drives at the same proportional rate as the Sedan, how many hours will it take the SUV to drive $36$ miles?"
   ]
  },
  {
   "cell_type": "code",
   "execution_count": 26,
   "metadata": {},
   "outputs": [
    {
     "data": {
      "application/vnd.jupyter.widget-view+json": {
       "model_id": "37b17951062a4125ba46f27ccdeca429",
       "version_major": 2,
       "version_minor": 0
      },
      "text/plain": [
       "Button(description='Show Answer', style=ButtonStyle())"
      ]
     },
     "metadata": {},
     "output_type": "display_data"
    }
   ],
   "source": [
    "#Construction of button to provide answer to question 1.\n",
    "buttonShowAnswer = widgets.Button(description=\"Show Answer\")\n",
    "\n",
    "def displayAnswer(a):\n",
    "    display(Latex(r\"$18$ hours.\"))\n",
    "    buttonShowAnswer.close()\n",
    "\n",
    "display(buttonShowAnswer)\n",
    "buttonShowAnswer.on_click(displayAnswer)"
   ]
  },
  {
   "cell_type": "markdown",
   "metadata": {},
   "source": [
    ">**Question 3**: \n",
    "A cobra gains $2$ feet in $6$ days, while a python gains $9.5$ feet in $27$ days. Which types of snake has better growth? "
   ]
  },
  {
   "cell_type": "code",
   "execution_count": 27,
   "metadata": {},
   "outputs": [
    {
     "data": {
      "application/vnd.jupyter.widget-view+json": {
       "model_id": "9aea27ebc26d4e98bada8e209ce65f22",
       "version_major": 2,
       "version_minor": 0
      },
      "text/plain": [
       "Button(description='Show Answer', style=ButtonStyle())"
      ]
     },
     "metadata": {},
     "output_type": "display_data"
    }
   ],
   "source": [
    "#Construction of button to provide answer to question 1.\n",
    "buttonShowAnswer = widgets.Button(description=\"Show Answer\")\n",
    "\n",
    "def displayAnswer(a):\n",
    "    display(Latex(r\"Python\"))\n",
    "    buttonShowAnswer.close()\n",
    "\n",
    "display(buttonShowAnswer)\n",
    "buttonShowAnswer.on_click(displayAnswer)"
   ]
  },
  {
   "cell_type": "markdown",
   "metadata": {},
   "source": [
    "## Conclusion\n",
    "\n",
    "In this notebook, we introduced three important concepts of mathematics: *Ratio*, *Rate* and *Proportional Reasoning*. \n",
    "\n",
    "Let's review what we have learned:\n",
    "\n",
    "- **A ratio** is the comparison between two things.\n",
    "- **A rate** is a type of ratio that also compares two things but in different units.\n",
    "- **Proportional Reasoning** also compares two things based on multiplicative thinking."
   ]
  },
  {
   "cell_type": "markdown",
   "metadata": {},
   "source": [
    "[![logo](https://callysto.ca/wp-content/uploads/2018/07/Callysto-Notebook-Banner_Bottom_07.30.18.jpg)](https://callysto.ca/)"
   ]
  }
 ],
 "metadata": {
  "kernelspec": {
   "display_name": "Python 3",
   "language": "python",
   "name": "python3"
  },
  "language_info": {
   "codemirror_mode": {
    "name": "ipython",
    "version": 3
   },
   "file_extension": ".py",
   "mimetype": "text/x-python",
   "name": "python",
   "nbconvert_exporter": "python",
   "pygments_lexer": "ipython3",
   "version": "3.6.8"
  }
 },
 "nbformat": 4,
 "nbformat_minor": 2
}
