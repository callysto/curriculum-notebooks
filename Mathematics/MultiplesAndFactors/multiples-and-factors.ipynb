{
 "cells": [
  {
   "attachments": {},
   "cell_type": "markdown",
   "metadata": {},
   "source": [
    "![Callysto.ca Banner](https://github.com/callysto/curriculum-notebooks/blob/master/callysto-notebook-banner-top.jpg?raw=true)\n",
    "\n",
    "\n",
    "<a href=\"https://hub.callysto.ca/jupyter/hub/user-redirect/git-pull?repo=https%3A%2F%2Fgithub.com%2Fcallysto%2Fcurriculum-notebooks&branch=master&subPath=Mathematics/MultiplesAndFactors/multiples-and-factors.ipynb&depth=1\" target=\"_parent\"><img src=\"https://raw.githubusercontent.com/callysto/curriculum-notebooks/master/open-in-callysto-button.svg?sanitize=true\" width=\"123\" height=\"24\" alt=\"Open in Callysto\"/></a>"
   ]
  },
  {
   "attachments": {},
   "cell_type": "markdown",
   "metadata": {},
   "source": [
    "# Factors and Multiples\n",
    "\n",
    "Let's write some Python code to find multiples of a number. `▶Run` the next cell to see what happens."
   ]
  },
  {
   "cell_type": "code",
   "execution_count": null,
   "metadata": {},
   "outputs": [],
   "source": [
    "number = 3\n",
    "howManyMultiples = 5\n",
    "\n",
    "for n in range(1, howManyMultiples + 1):\n",
    "    print(number * n)"
   ]
  },
  {
   "attachments": {},
   "cell_type": "markdown",
   "metadata": {},
   "source": [
    "---\n",
    "\n",
    "### Multiples Practice Problem\n",
    "\n",
    "If every 9th caller to a radio station wins a prize, how many of the first 30 callers will win a prize?\n",
    "\n",
    "---"
   ]
  },
  {
   "attachments": {},
   "cell_type": "markdown",
   "metadata": {},
   "source": [
    "### Lowest Common Multiple\n",
    "\n",
    "We can also write some code to find the **lowest common multiple** of two numbers.  Feel free to change the values of the variables `number1` and `number2`."
   ]
  },
  {
   "cell_type": "code",
   "execution_count": null,
   "metadata": {},
   "outputs": [],
   "source": [
    "number1 = 7\n",
    "number2 = 9\n",
    "\n",
    "# figure out which of the two numbers is larger and store it in the variable lcm\n",
    "if number2 > number1:\n",
    "    lcm = number2\n",
    "else:\n",
    "    lcm = number1\n",
    "\n",
    "while(True): # start an infinite loop\n",
    "    if lcm % number1 == 0 and lcm % number2 == 0: # if the remainder of dividing lcm by number1 and number2 is 0\n",
    "        print('The lowest common multiple of', number1, 'and', number2, 'is', lcm)\n",
    "        break # stop the loop\n",
    "    else:\n",
    "        lcm += 1 # add one to the lcm and try again"
   ]
  },
  {
   "attachments": {},
   "cell_type": "markdown",
   "metadata": {},
   "source": [
    "---\n",
    "\n",
    "### LCM Practice Problem 1\n",
    "\n",
    "If hamburger buns are sold in packages (multiples) of 12 and hamburger patties are sold in packages of 8, how many hamburgers would you need to make in order to not have any buns or patties left over?\n",
    "\n",
    "---"
   ]
  },
  {
   "attachments": {},
   "cell_type": "markdown",
   "metadata": {},
   "source": [
    "---\n",
    "\n",
    "### LCM Practice Problem 2\n",
    "\n",
    "Starting at the beginning of a month, if I go to the grocery store every seven days and my sister goes every four days, on which day of the month will we both go to the grocery store on the same day?\n",
    "\n",
    "---"
   ]
  },
  {
   "attachments": {},
   "cell_type": "markdown",
   "metadata": {},
   "source": [
    "## Factors\n",
    "\n",
    "**Factors** of a number can be multiplied to form that number.\n",
    "\n",
    "For example, the factors of 6 are 1, 2, 3, and 6 ($1 \\times 6 = 6$ and $ 2 \\times 3 = 6$).\n",
    "\n",
    "A number is **prime** if it has just two factors (1 and itself). A number with more than two factors is a **composite** number.\n",
    "\n",
    "Let's write some code to find the factors of the number 6.\n",
    "\n",
    "To design our algorithm, we'll divide 6 by each number from 1 to 6, **if** the remainder is 0 **then** 6 is divisible by that number."
   ]
  },
  {
   "cell_type": "code",
   "execution_count": null,
   "metadata": {},
   "outputs": [],
   "source": [
    "number = 6\n",
    "factors = []                              # create an empty list where we will store the factors\n",
    "for factor in range(1, number):           # start a loop at 1 and go until we reach the number we stored at the beginning\n",
    "    if number % factor == 0:              # if the remainder of that division is 0 then...\n",
    "        factors.append(factor)            # append the factor we just found to our list of factors\n",
    "factors.append(number)                    # we know that a number is always divisible by itself, so append that\n",
    "print('The factors of ',number,'are',factors) # print the list of factors"
   ]
  },
  {
   "attachments": {},
   "cell_type": "markdown",
   "metadata": {},
   "source": [
    "If we want to see each factor as it is found, which might be useful for numbers with a lot of factors, we can add a print statement inside the loop."
   ]
  },
  {
   "cell_type": "code",
   "execution_count": null,
   "metadata": {},
   "outputs": [],
   "source": [
    "number = 1000\n",
    "factors = []\n",
    "for factor in range(1, number):\n",
    "    if number % factor == 0:\n",
    "        print(factor)\n",
    "        factors.append(factor)\n",
    "factors.append(number)\n",
    "print('The factors of ',number,'are',factors)"
   ]
  },
  {
   "attachments": {},
   "cell_type": "markdown",
   "metadata": {},
   "source": [
    "Of course we wanted to find factors of really large numbers then we could use some shortcuts to make it easier, but this should be good enough for now. If you find your program is running too long (It says `In[*]:` but doesn't seem to be doing anything), you can cancel it by clicking the stop button (■) or holding the ctrl key and pressing c.\n",
    "\n",
    "Let's add a little more code to check if the number is prime or composite (remember that a prime number only has two factors)."
   ]
  },
  {
   "cell_type": "code",
   "execution_count": null,
   "metadata": {},
   "outputs": [],
   "source": [
    "number = 1000\n",
    "factors = []\n",
    "for factor in range(1, number):\n",
    "    if number % factor == 0:\n",
    "        #print(factor)\n",
    "        factors.append(factor)\n",
    "factors.append(number)\n",
    "print('The factors of ',number,'are',factors)\n",
    "\n",
    "if len(factors) == 2: # if there are only two factors in the list\n",
    "    print(number, 'is a prime number because it has only two factors.')\n",
    "else:\n",
    "    print(number, 'is a composite number with', len(factors), 'factors.')"
   ]
  },
  {
   "attachments": {},
   "cell_type": "markdown",
   "metadata": {},
   "source": [
    "---\n",
    "\n",
    "### Factors Practice Problem 1\n",
    "\n",
    "Which two single-digit numbers have four factors?\n",
    "\n",
    "---"
   ]
  },
  {
   "attachments": {},
   "cell_type": "markdown",
   "metadata": {},
   "source": [
    "---\n",
    "\n",
    "### Factors Practice Problem 2\n",
    "\n",
    "What is the smallest number that has more than four factors?\n",
    "\n",
    "---"
   ]
  },
  {
   "attachments": {},
   "cell_type": "markdown",
   "metadata": {},
   "source": [
    "---\n",
    "\n",
    "### Factors Practice Problem 3\n",
    "\n",
    "Is 93 a prime or composite number?\n",
    "\n",
    "---"
   ]
  },
  {
   "attachments": {},
   "cell_type": "markdown",
   "metadata": {},
   "source": [
    "### Greatest Common Factor\n",
    "\n",
    "Also known as \"greatest common divisor\", this is the largest factor that two numbers have in common. For example, the factors of 6 are (1, 2, 3, 6) and the factors of 9 are (1, 3, 9) so the greatest common factor of 6 and 9 is 3.\n",
    "\n",
    "There is a module in the [Python math library](https://docs.python.org/3/library/math.html) called `gcd` that can calculate the greatest common factor of two numbers."
   ]
  },
  {
   "cell_type": "code",
   "execution_count": null,
   "metadata": {},
   "outputs": [],
   "source": [
    "from math import gcd\n",
    "number1 = 6\n",
    "number2 = 9\n",
    "greatest_common_factor = gcd(number1, number2)\n",
    "print('The greatest common factor of', number1, 'and', number2, 'is', greatest_common_factor)"
   ]
  },
  {
   "attachments": {},
   "cell_type": "markdown",
   "metadata": {},
   "source": [
    "---\n",
    "\n",
    "### GCF Practice Problem\n",
    "\n",
    "You are making treat bags for a birthday party, and need to be sure everyone gets the same number of treats. If you have 28 hard candies and 21 chocolates, how many candy bags can you make up?\n",
    "\n",
    "---"
   ]
  },
  {
   "attachments": {},
   "cell_type": "markdown",
   "metadata": {},
   "source": [
    "## Summary\n",
    "\n",
    "In this notebook you learned that multiples are what you get when you multiply a number by integers, and factors of a number can be multiplied to form that number. You also learned about greatest common factors and lowest common multiples."
   ]
  },
  {
   "attachments": {},
   "cell_type": "markdown",
   "metadata": {},
   "source": [
    "[![Callysto.ca License](https://github.com/callysto/curriculum-notebooks/blob/master/callysto-notebook-banner-bottom.jpg?raw=true)](https://github.com/callysto/curriculum-notebooks/blob/master/LICENSE.md)"
   ]
  }
 ],
 "metadata": {
  "kernelspec": {
   "display_name": "Python 3",
   "language": "python",
   "name": "python3"
  },
  "language_info": {
   "codemirror_mode": {
    "name": "ipython",
    "version": 3
   },
   "file_extension": ".py",
   "mimetype": "text/x-python",
   "name": "python",
   "nbconvert_exporter": "python",
   "pygments_lexer": "ipython3",
   "version": "3.10.6"
  },
  "orig_nbformat": 4
 },
 "nbformat": 4,
 "nbformat_minor": 2
}
