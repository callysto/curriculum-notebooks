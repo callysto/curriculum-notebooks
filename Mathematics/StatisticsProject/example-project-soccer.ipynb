{
 "cells": [
  {
   "cell_type": "markdown",
   "metadata": {},
   "source": [
    "![Callysto.ca Banner](https://github.com/callysto/curriculum-notebooks/blob/master/callysto-notebook-banner-top.jpg?raw=true)\n",
    "\n",
    "<a href=\"https://hub.callysto.ca/jupyter/hub/user-redirect/git-pull?repo=https%3A%2F%2Fgithub.com%2Fcallysto%2Fcurriculum-notebooks&branch=master&subPath=Mathematics/StatisticsProject/example-project-soccer.ipynb&depth=1\" target=\"_parent\"><img src=\"https://raw.githubusercontent.com/callysto/curriculum-notebooks/master/open-in-callysto-button.svg?sanitize=true\" width=\"123\" height=\"24\" alt=\"Open in Callysto\"/></a>"
   ]
  },
  {
   "cell_type": "markdown",
   "metadata": {},
   "source": [
    "# Statistical Research Project - Soccer (Example)\n",
    "\n",
    "#### by Flor Nightgale\n",
    "\n",
    "For this project we used secondary data about [Premier League (Soccer)](https://www.premierleague.com/tables).\n",
    "\n",
    "## Team Statistics"
   ]
  },
  {
   "cell_type": "code",
   "execution_count": null,
   "metadata": {},
   "outputs": [],
   "source": [
    "import pandas as pd\n",
    "data = pd.read_html('https://www.espn.com/soccer/table/_/league/eng.1')\n",
    "teams = data[0].join(data[1]) # join the two data tables together\n",
    "teams"
   ]
  },
  {
   "cell_type": "markdown",
   "metadata": {},
   "source": [
    "Columns in the data set are:\n",
    "* GP: Games Played\n",
    "* W: Wins\n",
    "* D: Draws\n",
    "* L: Losses\n",
    "* F: Goals For\n",
    "* A: Goals Against\n",
    "* GD: Goal Difference\n",
    "* P: Points\n",
    "\n",
    "Notice that the ranking (index values) start at zero. As well, the team names got combined with their ranks and abbreviations, let's cut those out and leave just the team names.\n",
    "\n",
    "For each team name, the second character is a lowercase letter, so we'll find the first lowercase letter then take just the characters from one before that until the end of the name.\n",
    "\n",
    "We'll also rename the columns."
   ]
  },
  {
   "cell_type": "code",
   "execution_count": null,
   "metadata": {},
   "outputs": [],
   "source": [
    "for i, row in teams.iterrows():\n",
    "    for character in row[0]:\n",
    "        if character.islower(): # we've found the first lowercase letter\n",
    "            start_here = row[0].index(character)-1\n",
    "            team_name = row[0][start_here:]\n",
    "            break # stop looking through the team name\n",
    "    teams.iloc[i,0] = team_name\n",
    "teams.columns = ['Team','Games Played','Wins','Draws','Losses','Goals For','Goals Against','Goal Difference','Points']\n",
    "teams"
   ]
  },
  {
   "cell_type": "markdown",
   "metadata": {},
   "source": [
    "### Statistical Calculations\n",
    "\n",
    "The `describe()` method does some statisical calculations for us."
   ]
  },
  {
   "cell_type": "code",
   "execution_count": null,
   "metadata": {},
   "outputs": [],
   "source": [
    "team_stats = teams.describe()\n",
    "team_stats"
   ]
  },
  {
   "cell_type": "markdown",
   "metadata": {},
   "source": [
    "We can also find the median values."
   ]
  },
  {
   "cell_type": "code",
   "execution_count": null,
   "metadata": {},
   "outputs": [],
   "source": [
    "teams.median()"
   ]
  },
  {
   "cell_type": "markdown",
   "metadata": {},
   "source": [
    "The `Goal Difference` column is probably the most interesting, since it has the largest range and highest standard deviation. The top teams scored a lot more than they were scored on, and the bottom teams were scored on a lot more than they scored.\n",
    "\n",
    "\n",
    "\n",
    "Since we are looking at data for all of the teams, we see that the mean number of wins is equal to the mean number of losses. The same goes for goals scored and goals scored against.\n",
    "\n"
   ]
  },
  {
   "cell_type": "code",
   "execution_count": null,
   "metadata": {},
   "outputs": [],
   "source": [
    "import plotly_express as px\n",
    "fig = px.bar(team_stats.iloc[3:], y='Goal Difference', title='')\n",
    "fig.show()"
   ]
  },
  {
   "cell_type": "markdown",
   "metadata": {},
   "source": [
    "If we want to see which teams scored more than the mean value of \"Goals For\", we can use the following code."
   ]
  },
  {
   "cell_type": "code",
   "execution_count": null,
   "metadata": {},
   "outputs": [],
   "source": [
    "gf_mean = teams['Goals For'].mean()\n",
    "teams[teams['Goals For'] > gf_mean]"
   ]
  },
  {
   "cell_type": "markdown",
   "metadata": {},
   "source": [
    "In general, but not always, the top teams scored more than the average number of goals.\n",
    "\n",
    "Mean is probably the best measure of central tendency here, since using the median would just give us the top half of the teams. Mode wouldn't be useful because there aren't a lot of repeated values in the column.\n",
    "\n",
    "Let's see if the top teams had fewer than the mean number of goals scored against them."
   ]
  },
  {
   "cell_type": "code",
   "execution_count": null,
   "metadata": {},
   "outputs": [],
   "source": [
    "ga_mean = teams['Goals Against'].mean()\n",
    "teams[teams['Goals Against'] < gf_mean]"
   ]
  },
  {
   "cell_type": "markdown",
   "metadata": {},
   "source": [
    "Again, it is generally true that the top teams that had fewer goals scored against them.\n",
    "\n",
    "### Teams Visualizations\n",
    "\n",
    "Let's create some plots of `Wins`, `Losses`, `Draws` versus team rank."
   ]
  },
  {
   "cell_type": "code",
   "execution_count": null,
   "metadata": {},
   "outputs": [],
   "source": [
    "columns = ['Wins', 'Losses', 'Draws']\n",
    "for column in columns:\n",
    "    fig = px.scatter(teams, x=teams.index, y=column, title=column+' vs Rank', hover_data=['Team'])\n",
    "    fig.show()"
   ]
  },
  {
   "cell_type": "markdown",
   "metadata": {},
   "source": [
    "## Player Data\n",
    "\n",
    "We are also going to look at individual player data for scoring and assists. We'll download both and then look first at the top 10, `head(10)`, of the `scorers` data table."
   ]
  },
  {
   "cell_type": "code",
   "execution_count": null,
   "metadata": {},
   "outputs": [],
   "source": [
    "stats = pd.read_html('https://www.espn.com/soccer/stats/_/league/ENG.1/view/scoring')\n",
    "scorers = stats[0]\n",
    "assists = stats[1]\n",
    "scorers.head(10)"
   ]
  },
  {
   "cell_type": "markdown",
   "metadata": {},
   "source": [
    "Columns:\n",
    "* RK: Ranking\n",
    "* P: Games played\n",
    "* G: Goals scored\n",
    "* A: Assists\n",
    "\n",
    "There are quite a few missing (`NaN`) values, which means that player is tied with the player above them, so we can use `fillna(method='ffill')` which means \"forward fill\" values to replace missing values."
   ]
  },
  {
   "cell_type": "code",
   "execution_count": null,
   "metadata": {},
   "outputs": [],
   "source": [
    "scorers = scorers.fillna(method='ffill')\n",
    "scorers.head(10)"
   ]
  },
  {
   "cell_type": "code",
   "execution_count": null,
   "metadata": {},
   "outputs": [],
   "source": [
    "assists = assists.fillna(method='ffill')\n",
    "assists.head()"
   ]
  },
  {
   "cell_type": "markdown",
   "metadata": {},
   "source": [
    "Let's create histograms for these two data sets."
   ]
  },
  {
   "cell_type": "code",
   "execution_count": null,
   "metadata": {},
   "outputs": [],
   "source": [
    "fig1 = px.histogram(scorers, x='G', title='Histogram of Goals Scored by Top Players')\n",
    "fig1.show()\n",
    "fig2 = px.histogram(assists, x='A', title='Histogram of Assists by Top Players')\n",
    "fig2.show()"
   ]
  },
  {
   "cell_type": "markdown",
   "metadata": {},
   "source": [
    "Both of these histograms show that there are many more players that scored (or assisted) fewer goals, so the data are not normally distributed."
   ]
  },
  {
   "cell_type": "markdown",
   "metadata": {},
   "source": [
    "## Research Question\n",
    "\n",
    "**Does having more top scoring or top assisting players on a team mean that team has a higher standing?**\n",
    "\n",
    "To answer this question, we will need to group the player data by team and merge the two data tables together. We'll also drop the columns that we don't need."
   ]
  },
  {
   "cell_type": "code",
   "execution_count": null,
   "metadata": {},
   "outputs": [],
   "source": [
    "# group the data by team\n",
    "scorers_team = scorers.groupby('Team').count().drop(columns=['RK', 'Name', 'P'])\n",
    "assists_team = assists.groupby('Team').count().drop(columns=['RK', 'Name', 'P'])\n",
    "# merge the players data tables\n",
    "players = scorers_team.merge(assists_team, on='Team')\n",
    "# create a column that adds goals and assists\n",
    "players['Goals and Assists'] = players['G']+players['A']\n",
    "# sort the values, create an index column, and display the data\n",
    "players = players.sort_values('Goals and Assists', ascending=False).reset_index()\n",
    "players"
   ]
  },
  {
   "cell_type": "markdown",
   "metadata": {},
   "source": [
    "Now we need to merge this data table with the `Teams` data table from earlier."
   ]
  },
  {
   "cell_type": "code",
   "execution_count": null,
   "metadata": {},
   "outputs": [],
   "source": [
    "combined_data = teams.merge(players, on='Team', how='left') # left means keep the order from the teams data table\n",
    "combined_data"
   ]
  },
  {
   "cell_type": "markdown",
   "metadata": {},
   "source": [
    "To see if there is a relationship between `Goals and Assists` and team rank, let's create another scatterplot."
   ]
  },
  {
   "cell_type": "code",
   "execution_count": null,
   "metadata": {},
   "outputs": [],
   "source": [
    "fig = px.scatter(combined_data, y='Goals and Assists', x=combined_data.index, hover_data=['Team'], title='Goals and Assists vs Team Rank')\n",
    "fig.show()"
   ]
  },
  {
   "cell_type": "markdown",
   "metadata": {},
   "source": [
    "## Conclusion\n",
    "\n",
    "It looks like higher ranked teams (lower $x$ values) tend to have more players with more goals and assists, although there is a fair amount of variation in the data.\n",
    "\n",
    "Perhaps we could look at a similar analysis using a larger data set from a league such as the [National Hockey League](https://www.nhl.com) where there are more games played by more teams."
   ]
  },
  {
   "cell_type": "markdown",
   "metadata": {},
   "source": [
    "[![Callysto.ca License](https://github.com/callysto/curriculum-notebooks/blob/master/callysto-notebook-banner-bottom.jpg?raw=true)](https://github.com/callysto/curriculum-notebooks/blob/master/LICENSE.md)"
   ]
  }
 ],
 "metadata": {
  "kernelspec": {
   "display_name": "Python 3",
   "language": "python",
   "name": "python3"
  },
  "language_info": {
   "codemirror_mode": {
    "name": "ipython",
    "version": 3
   },
   "file_extension": ".py",
   "mimetype": "text/x-python",
   "name": "python",
   "nbconvert_exporter": "python",
   "pygments_lexer": "ipython3",
   "version": "3.7.6"
  }
 },
 "nbformat": 4,
 "nbformat_minor": 4
}
