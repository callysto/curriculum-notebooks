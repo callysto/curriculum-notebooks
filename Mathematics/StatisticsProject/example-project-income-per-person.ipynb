{
 "cells": [
  {
   "cell_type": "markdown",
   "metadata": {},
   "source": [
    "![Callysto.ca Banner](https://github.com/callysto/curriculum-notebooks/blob/master/callysto-notebook-banner-top.jpg?raw=true)\n",
    "\n",
    "<a href=\"https://hub.callysto.ca/jupyter/hub/user-redirect/git-pull?repo=https%3A%2F%2Fgithub.com%2Fcallysto%2Fcurriculum-notebooks&branch=master&subPath=Mathematics/StatisticsProject/example-project-income-per-person.ipynb&depth=1\" target=\"_parent\"><img src=\"https://raw.githubusercontent.com/callysto/curriculum-notebooks/master/open-in-callysto-button.svg?sanitize=true\" width=\"123\" height=\"24\" alt=\"Open in Callysto\"/></a>"
   ]
  },
  {
   "attachments": {},
   "cell_type": "markdown",
   "metadata": {},
   "source": [
    "# Statistical Research Project - Income Per Person (Example)\n",
    "\n",
    "#### by Annya Marx\n",
    "\n",
    "For this project we used secondary data from [Gapminder](https://www.gapminder.org) about [countries' gross domestic product (GDP) per capita](http://gapm.io/dgdppc).\n",
    "\n",
    "## Research Question\n",
    "\n",
    "Are there more countries with a high GDP per capita or a low GDP per capita? How does Canada compare to other countries?\n",
    "\n",
    "## Getting Data"
   ]
  },
  {
   "cell_type": "code",
   "execution_count": null,
   "metadata": {},
   "outputs": [],
   "source": [
    "spreadsheet_key = '10vHiHnBQre07TwX75vTc_H1lf-w5-hbe5mZH4ro6QNE'\n",
    "spreadsheet_gid = '140930349'\n",
    "\n",
    "import pandas as pd\n",
    "csv_link = 'https://docs.google.com/spreadsheets/d/'+spreadsheet_key+'/export?gid='+spreadsheet_gid+'&format=csv'\n",
    "data = pd.read_csv(csv_link, skiprows=2)\n",
    "data = data.dropna()\n",
    "data"
   ]
  },
  {
   "cell_type": "markdown",
   "metadata": {},
   "source": [
    "We have data for 201 countries or regions, for the years 1800 to 2040 (which includes projections).\n",
    "\n",
    "# 2019 Statistics\n",
    "\n",
    "Let's look at statistical calculations for the year 2019."
   ]
  },
  {
   "cell_type": "code",
   "execution_count": null,
   "metadata": {},
   "outputs": [],
   "source": [
    "columns = ['Country Name', '2019']\n",
    "data[columns].describe()"
   ]
  },
  {
   "attachments": {},
   "cell_type": "markdown",
   "metadata": {},
   "source": [
    "To verify that the 50% value above is the median value, let's check below with the `.median()` method:"
   ]
  },
  {
   "cell_type": "code",
   "execution_count": null,
   "metadata": {},
   "outputs": [],
   "source": [
    "data['2019'].median()"
   ]
  },
  {
   "cell_type": "markdown",
   "metadata": {},
   "source": [
    "The mode is not a useful measure of central tendency here, since there are all unique values in this column."
   ]
  },
  {
   "cell_type": "code",
   "execution_count": null,
   "metadata": {},
   "outputs": [],
   "source": [
    "len(data['2019'].unique())"
   ]
  },
  {
   "attachments": {},
   "cell_type": "markdown",
   "metadata": {},
   "source": [
    "We do see a large range in the data (631 to 113331), meaning that there is a large difference between the poorest countries and richest countries in terms of GDP per capita."
   ]
  },
  {
   "attachments": {},
   "cell_type": "markdown",
   "metadata": {},
   "source": [
    "## Visualizations\n",
    "\n",
    "### Bar Charts\n",
    "\n",
    "Let's create a bar chart of our sorted 2019 data."
   ]
  },
  {
   "cell_type": "code",
   "execution_count": null,
   "metadata": {},
   "outputs": [],
   "source": [
    "import plotly.express as px\n",
    "px.bar(data.sort_values('2019'), x='Country Name', y='2019', title='2019 GDP per Capita')"
   ]
  },
  {
   "attachments": {},
   "cell_type": "markdown",
   "metadata": {},
   "source": [
    "It looks like there are three countries that may be considered outliers for their high GDP per capita (Qatar, Luxembourg, and Singapore). However they are probably not skewing the results significantly, and don't need to be removed before looking at central tendency and dispersion.\n",
    "\n",
    "To compare some countries, let's make a bar chart comparing 2019 GDP per capita Canada to the top five and bottom five countries."
   ]
  },
  {
   "cell_type": "code",
   "execution_count": null,
   "metadata": {},
   "outputs": [],
   "source": [
    "sorted_data = data.sort_values('2019')\n",
    "countries = ['Canada']\n",
    "# add the bottom five and top five countries to the list of countries that starts with Canada\n",
    "countries.extend(sorted_data.head(5)['Country Name'].tolist())\n",
    "countries.extend(sorted_data.tail(5)['Country Name'].tolist())\n",
    "px.bar(sorted_data[sorted_data['Country Name'].isin(countries)], x='Country Name', y='2019', title='2019 GDP per Capita')"
   ]
  },
  {
   "attachments": {},
   "cell_type": "markdown",
   "metadata": {},
   "source": [
    "It looks like Canada's GDP per capita is closer to the top five. Let's compare it to the mean and median."
   ]
  },
  {
   "cell_type": "code",
   "execution_count": null,
   "metadata": {},
   "outputs": [],
   "source": [
    "print('Mean', round(data['2019'].mean(),1))\n",
    "print('Median', data['2019'].median())\n",
    "print('Canada', data[data['Country Name']=='Canada']['2019'].values[0])"
   ]
  },
  {
   "attachments": {},
   "cell_type": "markdown",
   "metadata": {},
   "source": [
    "We can see that Canada's GDP per capita is more than twice the mean value, and almost four times the median value.\n",
    "\n",
    "### Histogram\n",
    "\n",
    "Next let's create a histogram with 6 bins."
   ]
  },
  {
   "cell_type": "code",
   "execution_count": null,
   "metadata": {},
   "outputs": [],
   "source": [
    "px.histogram(data, x='2019', nbins=6, title='Histogram of 2019 GDP Per Capita', labels={'2019':'GDP per Capita'})"
   ]
  },
  {
   "attachments": {},
   "cell_type": "markdown",
   "metadata": {},
   "source": [
    "The histogram shows that the data are not normally distributed. There are a lot more countries with a lower GDP per capita than in the higher categories.\n",
    "\n",
    "## Conclusion\n",
    "\n",
    "Based on 2019 data, there are many more countries in our world with a low gross domestic product per capita. Canada's GDP per capita is well above average.\n",
    "\n",
    "It would be interesting to see if and how this has changed over the years, and how it is predicted to change over time."
   ]
  },
  {
   "cell_type": "markdown",
   "metadata": {},
   "source": [
    "[![Callysto.ca License](https://github.com/callysto/curriculum-notebooks/blob/master/callysto-notebook-banner-bottom.jpg?raw=true)](https://github.com/callysto/curriculum-notebooks/blob/master/LICENSE.md)"
   ]
  }
 ],
 "metadata": {
  "kernelspec": {
   "display_name": "Python 3 (ipykernel)",
   "language": "python",
   "name": "python3"
  },
  "language_info": {
   "codemirror_mode": {
    "name": "ipython",
    "version": 3
   },
   "file_extension": ".py",
   "mimetype": "text/x-python",
   "name": "python",
   "nbconvert_exporter": "python",
   "pygments_lexer": "ipython3",
   "version": "3.9.13"
  },
  "vscode": {
   "interpreter": {
    "hash": "d1ca6d17674200220921376aaeb3d36cffe15ecab2470a9a5e7a456cdbf61425"
   }
  }
 },
 "nbformat": 4,
 "nbformat_minor": 4
}
