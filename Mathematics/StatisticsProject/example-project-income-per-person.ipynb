{
 "cells": [
  {
   "cell_type": "markdown",
   "metadata": {},
   "source": [
    "![Callysto.ca Banner](https://github.com/callysto/curriculum-notebooks/blob/master/callysto-notebook-banner-top.jpg?raw=true)\n",
    "\n",
    "<a href=\"https://hub.callysto.ca/jupyter/hub/user-redirect/git-pull?repo=https%3A%2F%2Fgithub.com%2Fcallysto%2Fcurriculum-notebooks&branch=master&subPath=Mathematics/StatisticsProject/example-project-income-per-person.ipynb&depth=1\" target=\"_parent\"><img src=\"https://raw.githubusercontent.com/callysto/curriculum-notebooks/master/open-in-callysto-button.svg?sanitize=true\" width=\"123\" height=\"24\" alt=\"Open in Callysto\"/></a>"
   ]
  },
  {
   "cell_type": "markdown",
   "metadata": {},
   "source": [
    "# Statistical Research Project - Income Per Person (Example)\n",
    "\n",
    "#### by Annya Marx\n",
    "\n",
    "For this project we used secondary data from [Gapminder](https://www.gapminder.org) about [countries' gross domestic product (GDP) per person](http://gapm.io/dgdppc).\n",
    "\n",
    "## Research Question\n",
    "\n",
    "Are there more countries with a high GDP per person or a low GDP per person? How does Canada compare to other countries?\n",
    "\n",
    "## Getting Data"
   ]
  },
  {
   "cell_type": "code",
   "execution_count": null,
   "metadata": {},
   "outputs": [],
   "source": [
    "spreadsheet_key = '10vHiHnBQre07TwX75vTc_H1lf-w5-hbe5mZH4ro6QNE'\n",
    "spreadsheet_gid = '140930349'\n",
    "\n",
    "import pandas as pd\n",
    "csv_link = 'https://docs.google.com/spreadsheets/d/'+spreadsheet_key+'/export?gid='+spreadsheet_gid+'&format=csv'\n",
    "data = pd.read_csv(csv_link, skiprows=2)\n",
    "data = data.dropna()\n",
    "data"
   ]
  },
  {
   "cell_type": "markdown",
   "metadata": {},
   "source": [
    "We have data for 201 countries or regions, for the years 1800 to 2040 (which includes projections).\n",
    "\n",
    "# 2019 Statistics\n",
    "\n",
    "Let's look at statistical calculations for the year 2019."
   ]
  },
  {
   "cell_type": "code",
   "execution_count": null,
   "metadata": {},
   "outputs": [],
   "source": [
    "columns = ['Country Name', '2019']\n",
    "data[columns].describe()"
   ]
  },
  {
   "cell_type": "markdown",
   "metadata": {},
   "source": [
    "Since that doesn't include the median let's find that."
   ]
  },
  {
   "cell_type": "code",
   "execution_count": null,
   "metadata": {},
   "outputs": [],
   "source": [
    "data['2019'].median()"
   ]
  },
  {
   "cell_type": "markdown",
   "metadata": {},
   "source": [
    "The mode is not a useful measure of central tendency here, since there are all unique values in this column."
   ]
  },
  {
   "cell_type": "code",
   "execution_count": null,
   "metadata": {},
   "outputs": [],
   "source": [
    "len(data['2019'].unique())"
   ]
  },
  {
   "cell_type": "markdown",
   "metadata": {},
   "source": [
    "We do see a large range in the data (631 to 113331), meaning that there is a large difference between the poorest countries and riches countries in terms of GDP per person."
   ]
  },
  {
   "cell_type": "markdown",
   "metadata": {},
   "source": [
    "## Visualizations\n",
    "\n",
    "### Bar Charts\n",
    "\n",
    "Let's create a bar chart of our sorted 2019 GDP per person data."
   ]
  },
  {
   "cell_type": "code",
   "execution_count": null,
   "metadata": {},
   "outputs": [],
   "source": [
    "import plotly_express as px\n",
    "fig = px.bar(data.sort_values('2019'), x='Country Name', y='2019', title='2019 GDP Per Person')\n",
    "fig.show()"
   ]
  },
  {
   "cell_type": "markdown",
   "metadata": {},
   "source": [
    "It looks like there are three countries that may be considered outliers for their high GDP per person (Qatar, Luxembourg, and Singapore). However they are probably not skewing the results significantly, and don't need to be removed before looking at central tendency and dispersion.\n",
    "\n",
    "To compare some countries, let's make a bar chart comparing 2019 GDP per person Canada to the top five and bottom five countries."
   ]
  },
  {
   "cell_type": "code",
   "execution_count": null,
   "metadata": {},
   "outputs": [],
   "source": [
    "sorted_data = data.sort_values('2019')\n",
    "bottom_five = sorted_data.head()['Country Name'].tolist()\n",
    "top_five = sorted_data.tail()['Country Name'].tolist()\n",
    "countries = ['Canada']\n",
    "countries.extend(bottom_five)\n",
    "countries.extend(top_five)\n",
    "px.bar(sorted_data[sorted_data['Country Name'].isin(countries)], x='Country Name', y='2019', title='2019 GDP Per Person')"
   ]
  },
  {
   "cell_type": "markdown",
   "metadata": {},
   "source": [
    "It looks like Canada's GDP per person is closer to the top five. Let's compare it to the mean and median."
   ]
  },
  {
   "cell_type": "code",
   "execution_count": null,
   "metadata": {},
   "outputs": [],
   "source": [
    "print('Mean', data['2019'].mean())\n",
    "print('Median', data['2019'].median())\n",
    "\n",
    "canada_row = data[data['Country Name']=='Canada'].index[0]\n",
    "print('Canada', data.loc[canada_row]['2019'])"
   ]
  },
  {
   "cell_type": "markdown",
   "metadata": {},
   "source": [
    "We can see that Canada's GDP per person is more than twice the mean value, and almost four times the median value.\n",
    "\n",
    "### Histogram\n",
    "\n",
    "Next let's create a histogram with 6 bins."
   ]
  },
  {
   "cell_type": "code",
   "execution_count": null,
   "metadata": {},
   "outputs": [],
   "source": [
    "px.histogram(data, x='2019', nbins=6, title='Histogram of 2019 GDP Per Person')"
   ]
  },
  {
   "cell_type": "markdown",
   "metadata": {},
   "source": [
    "The histogram shows that the data are not normally distributed. There are a lot more countries with a lower GDP per person than in the higher categories.\n",
    "\n",
    "## Conclusion\n",
    "\n",
    "Based on 2019 data, there are many more countries in our world with a low gross domestic product per person. Canada's GDP per person is well above average.\n",
    "\n",
    "It would be interesting to see if and how this has changed over the years, and how it is predicted to change over time."
   ]
  },
  {
   "cell_type": "markdown",
   "metadata": {},
   "source": [
    "[![Callysto.ca License](https://github.com/callysto/curriculum-notebooks/blob/master/callysto-notebook-banner-bottom.jpg?raw=true)](https://github.com/callysto/curriculum-notebooks/blob/master/LICENSE.md)"
   ]
  }
 ],
 "metadata": {
  "kernelspec": {
   "display_name": "Python 3",
   "language": "python",
   "name": "python3"
  },
  "language_info": {
   "codemirror_mode": {
    "name": "ipython",
    "version": 3
   },
   "file_extension": ".py",
   "mimetype": "text/x-python",
   "name": "python",
   "nbconvert_exporter": "python",
   "pygments_lexer": "ipython3",
   "version": "3.7.6"
  }
 },
 "nbformat": 4,
 "nbformat_minor": 4
}
