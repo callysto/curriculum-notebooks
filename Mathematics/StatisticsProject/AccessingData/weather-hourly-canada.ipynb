{
 "cells": [
  {
   "cell_type": "markdown",
   "metadata": {},
   "source": [
    "![Callysto.ca Banner](https://github.com/callysto/curriculum-notebooks/blob/master/callysto-notebook-banner-top.jpg?raw=true)\n",
    "\n",
    "<a href=\"https://hub.callysto.ca/jupyter/hub/user-redirect/git-pull?repo=https%3A%2F%2Fgithub.com%2Fcallysto%2Fcurriculum-notebooks&branch=master&subPath=Mathematics/StatisticsProject/AccessingData/weather-hourly-canada.ipynb&depth=1\" target=\"_parent\"><img src=\"https://raw.githubusercontent.com/callysto/curriculum-notebooks/master/open-in-callysto-button.svg?sanitize=true\" width=\"123\" height=\"24\" alt=\"Open in Callysto\"/></a>"
   ]
  },
  {
   "cell_type": "markdown",
   "metadata": {},
   "source": [
    "# Hourly Weather in Canada\n",
    "\n",
    "[The National Office of Climate Services at Environment and Climate Change Canada](https://www.canada.ca/en/environment-climate-change/services/climate-change/canadian-centre-climate-services.html) has a dataset of weather measurements at monthy, daily, or even hourly intervals for almost 9000 weather stations. Check out [this example for YEG Christmas 2019](https://climate.weather.gc.ca/climate_data/hourly_data_e.html?hlyRange=2012-04-10%7C2020-05-26&dlyRange=2012-04-12%7C2020-05-26&mlyRange=%7C&StationID=50149&Prov=AB&urlExtension=_e.html&searchType=stnProx&optLimit=specDate&StartYear=2019&EndYear=2020&selRowPerPage=25&Line=1&txtRadius=25&optProxType=navLink&selCity=53%7C33%7C113%7C30%7CEdmonton&selPark=&txtCentralLatDeg=&txtCentralLatMin=0&txtCentralLatSec=0&txtCentralLongDeg=&txtCentralLongMin=0&txtCentralLongSec=0&txtLatDecDeg=53.490013888889&txtLongDecDeg=-113.53777777778&timeframe=1&Year=2019&Month=12&Day=25).\n",
    "\n",
    "## List of Weather Stations\n",
    "\n",
    "Let's start by importing and mapping the locations of all of the weather stations."
   ]
  },
  {
   "cell_type": "code",
   "execution_count": null,
   "metadata": {},
   "outputs": [],
   "source": [
    "import pandas as pd\n",
    "import requests\n",
    "from io import StringIO\n",
    "stations_url = 'https://drive.google.com/uc?export=download&id=1egfzGgzUb0RFu_EE5AYFZtsyXPfZ11y2'\n",
    "stations = pd.read_csv(StringIO(requests.get(stations_url).text), header=3)\n",
    "stations.drop(columns=['Latitude','Longitude'], inplace=True)\n",
    "stations.rename(columns={'Latitude (Decimal Degrees)':'Latitude','Longitude (Decimal Degrees)':'Longitude'}, inplace=True)\n",
    "stations"
   ]
  },
  {
   "cell_type": "code",
   "execution_count": null,
   "metadata": {},
   "outputs": [],
   "source": [
    "print('This will map will take a minute or two to create with', len(stations), 'weather stations.')\n",
    "import folium\n",
    "from folium.plugins import MarkerCluster\n",
    "latitude = stations['Latitude'].mean()\n",
    "longitude = stations['Longitude'].mean()\n",
    "station_map = folium.Map(location=[latitude,longitude], zoom_start=3)\n",
    "marker_cluster = MarkerCluster()\n",
    "for row in stations.itertuples():\n",
    "    marker_cluster.add_child(folium.Marker(location=[row.Latitude,row.Longitude], tooltip=row.Name, popup=row._4))\n",
    "station_map.add_child(marker_cluster)\n",
    "print('You can zoom, pan, and click to expand markers. Clicking on a marker will display its station ID.')\n",
    "station_map"
   ]
  },
  {
   "cell_type": "markdown",
   "metadata": {},
   "source": [
    "### Station Data Availability\n",
    "\n",
    "You can check out the data available for a particular station."
   ]
  },
  {
   "cell_type": "code",
   "execution_count": null,
   "metadata": {},
   "outputs": [],
   "source": [
    "station_id = 6454\n",
    "stations[stations['Station ID']==station_id]"
   ]
  },
  {
   "cell_type": "markdown",
   "metadata": {},
   "source": [
    "### Filtering Station Data\n",
    "\n",
    "You can select just a subset of the data. For example, finding stations that are currently collecting hourly weather data."
   ]
  },
  {
   "cell_type": "code",
   "execution_count": null,
   "metadata": {},
   "outputs": [],
   "source": [
    "stations[stations['HLY Last Year']>2019]"
   ]
  },
  {
   "cell_type": "markdown",
   "metadata": {},
   "source": [
    "#### Mapping Filtered Data\n",
    "\n",
    "Let's make a map of that filtered dataset."
   ]
  },
  {
   "cell_type": "code",
   "execution_count": null,
   "metadata": {},
   "outputs": [],
   "source": [
    "current_hourly = stations[stations['HLY Last Year']>2019]\n",
    "print('Creating a map for', len(current_hourly), 'stations with current hourly weather.')\n",
    "current_hourly_map = folium.Map(location=[latitude,longitude], zoom_start=3)\n",
    "ch_marker_cluster = MarkerCluster()\n",
    "for row in current_hourly.itertuples():\n",
    "    ch_marker_cluster.add_child(folium.Marker(location=[row.Latitude,row.Longitude], tooltip=row.Name, popup=row._4))\n",
    "current_hourly_map.add_child(marker_cluster)\n",
    "current_hourly_map"
   ]
  },
  {
   "cell_type": "markdown",
   "metadata": {},
   "source": [
    "## Weather Data\n",
    "\n",
    "Once you have selected a station, you can then import a month worth of hourly weather data."
   ]
  },
  {
   "cell_type": "code",
   "execution_count": null,
   "metadata": {},
   "outputs": [],
   "source": [
    "station_id = 50149\n",
    "year = 2019\n",
    "month = 12\n",
    "url_start = 'https://climate.weather.gc.ca/climate_data/bulk_data_e.html?format=csv&stationID='\n",
    "url = url_start+str(station_id)+'&Year='+str(year)+'&Month='+str(month)+'&Day=14&timeframe=1&submit=Download+Data'\n",
    "weather = pd.read_csv(url)\n",
    "weather"
   ]
  },
  {
   "cell_type": "markdown",
   "metadata": {},
   "source": [
    "You can also look at just one day of weather data from that data set."
   ]
  },
  {
   "cell_type": "code",
   "execution_count": null,
   "metadata": {},
   "outputs": [],
   "source": [
    "weather_day = weather[weather['Day']==25]\n",
    "weather_day"
   ]
  },
  {
   "cell_type": "markdown",
   "metadata": {},
   "source": [
    "[![Callysto.ca License](https://github.com/callysto/curriculum-notebooks/blob/master/callysto-notebook-banner-bottom.jpg?raw=true)](https://github.com/callysto/curriculum-notebooks/blob/master/LICENSE.md)"
   ]
  }
 ],
 "metadata": {
  "kernelspec": {
   "display_name": "Python 3",
   "language": "python",
   "name": "python3"
  },
  "language_info": {
   "codemirror_mode": {
    "name": "ipython",
    "version": 3
   },
   "file_extension": ".py",
   "mimetype": "text/x-python",
   "name": "python",
   "nbconvert_exporter": "python",
   "pygments_lexer": "ipython3",
   "version": "3.7.6"
  }
 },
 "nbformat": 4,
 "nbformat_minor": 4
}
