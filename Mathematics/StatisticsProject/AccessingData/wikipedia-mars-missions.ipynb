{
 "cells": [
  {
   "cell_type": "markdown",
   "metadata": {},
   "source": [
    "![Callysto.ca Banner](https://github.com/callysto/curriculum-notebooks/blob/master/callysto-notebook-banner-top.jpg?raw=true)\n",
    "\n",
    "<a href=\"https://hub.callysto.ca/jupyter/hub/user-redirect/git-pull?repo=https%3A%2F%2Fgithub.com%2Fcallysto%2Fcurriculum-notebooks&branch=master&subPath=Mathematics/StatisticsProject/AccessingData/wikipedia-mars-missions.ipynb&depth=1\" target=\"_parent\"><img src=\"https://raw.githubusercontent.com/callysto/curriculum-notebooks/master/open-in-callysto-button.svg?sanitize=true\" width=\"123\" height=\"24\" alt=\"Open in Callysto\"/></a>"
   ]
  },
  {
   "cell_type": "markdown",
   "metadata": {},
   "source": [
    "# Mars Missions\n",
    "\n",
    "We can look at Mars missions using a [data table from Wikipedia](https://en.wikipedia.org/wiki/List_of_missions_to_Mars#Missions). "
   ]
  },
  {
   "cell_type": "code",
   "execution_count": null,
   "metadata": {},
   "outputs": [],
   "source": [
    "import pandas as pd\n",
    "url = 'https://en.wikipedia.org/wiki/List_of_missions_to_Mars'\n",
    "try:\n",
    "    print(\"Locating 'Launch Date' column\")\n",
    "    for i in range(len(pd.read_html(url))):\n",
    "        print(\"Checking table\",i)\n",
    "        if \"Launch Date\" in pd.read_html(url)[i]:\n",
    "            df = pd.read_html(url)[i]\n",
    "            print(\"Data imported\")\n",
    "            break\n",
    "        if i==20:\n",
    "            print(\"Data not found\")\n",
    "            print(\"Check https://en.wikipedia.org/wiki/List_of_missions_to_Mars to see if a table\")\n",
    "            print(\"contains a 'Launch Date' column\")\n",
    "            df = pd.DataFrame\n",
    "            break\n",
    "except:\n",
    "    print(\"Error: Could not download data, please try again.\")\n",
    "    print(\"Check https://en.wikipedia.org/wiki/List_of_missions_to_Mars to see if a table\")\n",
    "    print(\"contains a 'Launch Date' column\")\n",
    "df"
   ]
  },
  {
   "cell_type": "markdown",
   "metadata": {},
   "source": [
    "Then we can create a new column called `Year` from the `Launch Date` column, and graph the number of missions over time."
   ]
  },
  {
   "cell_type": "code",
   "execution_count": null,
   "metadata": {},
   "outputs": [],
   "source": [
    "import plotly.express as px\n",
    "try:\n",
    "    df['Year'] = df['Launch Date'].str.split(' ', expand=True)[2]\n",
    "    plot_data = df.groupby(by='Year')['Year'].count()\n",
    "    fig = px.bar(plot_data, title='Number of Mars Missions per Year')\n",
    "    fig.update_layout(xaxis_title='Year', yaxis_title='Number of Missions', showlegend=False).show()\n",
    "    \n",
    "except:\n",
    "    print(\"WARNING\")\n",
    "    print(\"'Launch Date' column not found, please check https://en.wikipedia.org/wiki/List_of_missions_to_Mars\")\n",
    "    print('to see if this column exists there. Otherwise, modify this notebook to match the new names.')"
   ]
  },
  {
   "cell_type": "markdown",
   "metadata": {},
   "source": [
    "[![Callysto.ca License](https://github.com/callysto/curriculum-notebooks/blob/master/callysto-notebook-banner-bottom.jpg?raw=true)](https://github.com/callysto/curriculum-notebooks/blob/master/LICENSE.md)"
   ]
  }
 ],
 "metadata": {
  "kernelspec": {
   "display_name": "Python 3",
   "language": "python",
   "name": "python3"
  },
  "language_info": {
   "codemirror_mode": {
    "name": "ipython",
    "version": 3
   },
   "file_extension": ".py",
   "mimetype": "text/x-python",
   "name": "python",
   "nbconvert_exporter": "python",
   "pygments_lexer": "ipython3",
   "version": "3.10.1"
  },
  "vscode": {
   "interpreter": {
    "hash": "d1ca6d17674200220921376aaeb3d36cffe15ecab2470a9a5e7a456cdbf61425"
   }
  }
 },
 "nbformat": 4,
 "nbformat_minor": 4
}
