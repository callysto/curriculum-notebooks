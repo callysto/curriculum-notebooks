{
 "cells": [
  {
   "cell_type": "markdown",
   "metadata": {},
   "source": [
    "![Callysto.ca Banner](https://github.com/callysto/curriculum-notebooks/blob/master/callysto-notebook-banner-top.jpg?raw=true)\n",
    "\n",
    "<a href=\"https://hub.callysto.ca/jupyter/hub/user-redirect/git-pull?repo=https%3A%2F%2Fgithub.com%2Fcallysto%2Fcurriculum-notebooks&branch=master&subPath=Mathematics/StatisticsProject/AccessingData/weather-hourly-canada.ipynb&depth=1\" target=\"_parent\"><img src=\"https://raw.githubusercontent.com/callysto/curriculum-notebooks/master/open-in-callysto-button.svg?sanitize=true\" width=\"123\" height=\"24\" alt=\"Open in Callysto\"/></a>"
   ]
  },
  {
   "attachments": {},
   "cell_type": "markdown",
   "metadata": {},
   "source": [
    "# Weather in Canada\n",
    "\n",
    "[The National Office of Climate Services at Environment and Climate Change Canada](https://www.canada.ca/en/environment-climate-change/services/climate-change/canadian-centre-climate-services.html) has a dataset of weather measurements at monthy, daily, or even hourly intervals.\n",
    "\n",
    "## List of Weather Stations\n",
    "\n",
    "Let's start by importing and mapping the locations of weather stations in Canada from the [Government of Canada Open Data Portal](https://open.canada.ca/data/en/dataset/9764d6c6-3044-450c-ac5a-383cedbfef17)."
   ]
  },
  {
   "cell_type": "code",
   "execution_count": null,
   "metadata": {},
   "outputs": [],
   "source": [
    "import pandas as pd\n",
    "import requests\n",
    "stations = pd.read_csv('https://dd.weather.gc.ca/observations/doc/swob-xml_station_list.csv')\n",
    "print('Mapping {} weather stations.'.format(len(stations)))\n",
    "import folium\n",
    "from folium.plugins import MarkerCluster\n",
    "latitude = stations['Latitude'].mean()\n",
    "longitude = stations['Longitude'].mean()\n",
    "station_map = folium.Map(location=[latitude,longitude], zoom_start=3)\n",
    "marker_cluster = MarkerCluster()\n",
    "for row in stations.itertuples():\n",
    "    marker_cluster.add_child(folium.Marker(location=[row.Latitude,row.Longitude], popup=row.Name))\n",
    "station_map.add_child(marker_cluster)\n",
    "station_map"
   ]
  },
  {
   "attachments": {},
   "cell_type": "markdown",
   "metadata": {},
   "source": [
    "Since measuring instruments can change and weather stations can be relocated, the data have been [homogenized](https://climate-change.canada.ca/climate-data/#/adjusted-station-data) to account for these factors. Let's map weather stations with homogenized data."
   ]
  },
  {
   "cell_type": "code",
   "execution_count": null,
   "metadata": {},
   "outputs": [],
   "source": [
    "hstations = pd.read_csv('https://dd.weather.gc.ca/climate/observations/climate_station_list.csv')\n",
    "print('Mapping {} weather stations.'.format(len(hstations)))\n",
    "hstation_map = folium.Map(location=[hstations['Latitude'].mean(),hstations['Longitude'].mean()], zoom_start=3)\n",
    "marker_cluster = MarkerCluster()\n",
    "for row in hstations.itertuples():\n",
    "    marker_cluster.add_child(folium.Marker(location=[row.Latitude,row.Longitude], popup=row._1+', '+row.Province+', '+row._6)) # the name is the first column after the index, so we use _1\n",
    "hstation_map.add_child(marker_cluster)\n",
    "hstation_map"
   ]
  },
  {
   "attachments": {},
   "cell_type": "markdown",
   "metadata": {},
   "source": [
    "At the time of writing, there are five weather stations in the data set that have 0 values for the `Latitude` and `Longitude`, which you will be able to see on the map if they haven't been corrected."
   ]
  },
  {
   "attachments": {},
   "cell_type": "markdown",
   "metadata": {},
   "source": [
    "### Filtering Station Data\n",
    "\n",
    "To see how many weather stations there are in a province, you can filter the data."
   ]
  },
  {
   "cell_type": "code",
   "execution_count": null,
   "metadata": {},
   "outputs": [],
   "source": [
    "hstations[hstations['Province']=='ALBERTA']"
   ]
  },
  {
   "attachments": {},
   "cell_type": "markdown",
   "metadata": {},
   "source": [
    "You can also find just the stations that are currently collecting hourly weather data."
   ]
  },
  {
   "cell_type": "code",
   "execution_count": null,
   "metadata": {},
   "outputs": [],
   "source": [
    "hstations[hstations['HLY Last Year']>2022]"
   ]
  },
  {
   "attachments": {},
   "cell_type": "markdown",
   "metadata": {},
   "source": [
    "To check out the data available for a particular station, you can filter by `Station Name` or `Climate ID`."
   ]
  },
  {
   "cell_type": "code",
   "execution_count": null,
   "metadata": {},
   "outputs": [],
   "source": [
    "hstations[hstations['Climate ID']=='3020035']"
   ]
  },
  {
   "attachments": {},
   "cell_type": "markdown",
   "metadata": {},
   "source": [
    "## Weather Data\n",
    "\n",
    "Once you have selected a station, you can then import a year worth of daily weather data for that station."
   ]
  },
  {
   "cell_type": "code",
   "execution_count": null,
   "metadata": {},
   "outputs": [],
   "source": [
    "station_id = '3020035'\n",
    "year = '2022'\n",
    "\n",
    "provinces = {'ALBERTA':'AB','BRITISH COLUMBIA':'BC','MANITOBA':'MB','NEW BRUNSWICK':'NB','NEWFOUNDLAND':'NL','NORTHWEST TERRITORIES':'NT','NOVA SCOTIA':'NS','NUNAVUT':'NU','ONTARIO':'ON','PRINCE EDWARD ISLAND':'PE','QUEBEC':'QC','SASKATCHEWAN':'SK','YUKON TERRITORY':'YT'}\n",
    "province = provinces[hstations[hstations['Climate ID']=='3017700']['Province'].values[0]]\n",
    "weather = pd.DataFrame()\n",
    "for month in range(1,13):\n",
    "    if month < 10:\n",
    "        month = '0'+str(month)\n",
    "    else:\n",
    "        month = str(month)\n",
    "    url = 'https://dd.weather.gc.ca/climate/observations/daily/csv/'+province+'/climate_daily_'+province+'_'+station_id+'_'+year+'-'+month+'_P1D.csv'\n",
    "    try:\n",
    "        monthly_weather = pd.read_csv(url, encoding='ISO-8859-1')\n",
    "        weather = pd.concat([weather,monthly_weather])\n",
    "    except:\n",
    "        print('No data for '+month)\n",
    "weather"
   ]
  },
  {
   "cell_type": "markdown",
   "metadata": {},
   "source": [
    "[![Callysto.ca License](https://github.com/callysto/curriculum-notebooks/blob/master/callysto-notebook-banner-bottom.jpg?raw=true)](https://github.com/callysto/curriculum-notebooks/blob/master/LICENSE.md)"
   ]
  }
 ],
 "metadata": {
  "kernelspec": {
   "display_name": "Python 3",
   "language": "python",
   "name": "python3"
  },
  "language_info": {
   "codemirror_mode": {
    "name": "ipython",
    "version": 3
   },
   "file_extension": ".py",
   "mimetype": "text/x-python",
   "name": "python",
   "nbconvert_exporter": "python",
   "pygments_lexer": "ipython3",
   "version": "3.10.6"
  },
  "vscode": {
   "interpreter": {
    "hash": "916dbcbb3f70747c44a77c7bcd40155683ae19c65e1c03b4aa3499c5328201f1"
   }
  }
 },
 "nbformat": 4,
 "nbformat_minor": 4
}
