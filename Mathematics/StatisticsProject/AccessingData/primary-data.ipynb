{
 "cells": [
  {
   "attachments": {},
   "cell_type": "markdown",
   "metadata": {},
   "source": [
    "![Callysto.ca Banner](https://github.com/callysto/curriculum-notebooks/blob/master/callysto-notebook-banner-top.jpg?raw=true)\n",
    "\n",
    "<a href=\"https://hub.callysto.ca/jupyter/hub/user-redirect/git-pull?repo=https%3A%2F%2Fgithub.com%2Fcallysto%2Fcurriculum-notebooks&branch=master&subPath=Mathematics/StatisticsProject/AccessingData/primary-data.ipynb&depth=1\" target=\"_parent\"><img src=\"https://raw.githubusercontent.com/callysto/curriculum-notebooks/master/open-in-callysto-button.svg?sanitize=true\" width=\"123\" height=\"24\" alt=\"Open in Callysto\"/></a>"
   ]
  },
  {
   "attachments": {},
   "cell_type": "markdown",
   "metadata": {},
   "source": [
    "# Primary Data\n",
    "\n",
    "There are a few different ways to import your own (primary) data into a Jupyter notebook. We'll take a look at three options.\n",
    "\n",
    "## Method 1: Google Sheets\n",
    "\n",
    "If you have data in a Google Sheet, there are two steps.\n",
    "\n",
    "1. Make your Sheet public using [these instructions](https://support.google.com/docs/answer/183965)\n",
    "2. In the first line of the following code cell, paste the URL for the sheet that you want to import."
   ]
  },
  {
   "cell_type": "code",
   "execution_count": null,
   "metadata": {},
   "outputs": [],
   "source": [
    "sheet_url = 'https://docs.google.com/spreadsheets/d/11mulzUH3_cueq-V9D5KIlo9oHE9YYZrUSeVyCin7_rM/edit#gid=569008164'\n",
    "\n",
    "import pandas as pd\n",
    "spreadsheet_key = sheet_url.split('/d/')[1].split('/')[0]\n",
    "try:\n",
    "    spreadsheet_gid = sheet_url.split('gid=')[1]\n",
    "except:\n",
    "    spreadsheet_gid = '0'\n",
    "csv_url = 'https://docs.google.com/spreadsheets/d/'+spreadsheet_key+'/export?gid='+spreadsheet_gid+'&format=csv'\n",
    "data = pd.read_csv(csv_url)\n",
    "data"
   ]
  },
  {
   "attachments": {},
   "cell_type": "markdown",
   "metadata": {},
   "source": [
    "## Method 2: EtherCalc\n",
    "\n",
    "EtherCalc is a free online spreadsheet tool. \n",
    "\n",
    "1. Create a [new EtherCalc sheet](https://ethercalc.net/_new) (they are public, so don't include sensitive data).\n",
    "2. Add your data to the newly created sheet.\n",
    "3. Paste the link to the sheet into the code cell below."
   ]
  },
  {
   "cell_type": "code",
   "execution_count": null,
   "metadata": {},
   "outputs": [],
   "source": [
    "sheet_url = 'https://ethercalc.net/31g43hj7j27i'\n",
    "\n",
    "import pandas as pd\n",
    "data = pd.read_excel(sheet_url+'.xlsx')\n",
    "data\n"
   ]
  },
  {
   "attachments": {},
   "cell_type": "markdown",
   "metadata": {},
   "source": [
    "## Method 3: Uploading to the Callysto Hub\n",
    "\n",
    "If we don't want or need the data to be publicly accessible on the internet, a file can be uploaded to [this folder on the Callysto Hub](.) and then loaded as a local file.\n",
    "\n",
    "1. Open [this folder on the Callysto Hub](.)\n",
    "1. Click the `Upload` button at the top right.\n",
    "1. A file picker window will open, select the file from your computer and click the `Open` button.\n",
    "1. Click the blue `Upload` button that appears next to the file.\n",
    "1. Change `my_data_file.csv` in the code below to the name of your file, and change `read_csv` to `read_excel` if it is an Excel file."
   ]
  },
  {
   "cell_type": "code",
   "execution_count": null,
   "metadata": {},
   "outputs": [],
   "source": [
    "import pandas as pd\n",
    "data = pd.read_csv('my_data_file.csv')\n",
    "#data = pd.read_excel('my_data_file.xlsx')\n",
    "data"
   ]
  },
  {
   "cell_type": "markdown",
   "metadata": {},
   "source": [
    "[![Callysto.ca License](https://github.com/callysto/curriculum-notebooks/blob/master/callysto-notebook-banner-bottom.jpg?raw=true)](https://github.com/callysto/curriculum-notebooks/blob/master/LICENSE.md)"
   ]
  }
 ],
 "metadata": {
  "kernelspec": {
   "display_name": "Python 3",
   "language": "python",
   "name": "python3"
  },
  "language_info": {
   "codemirror_mode": {
    "name": "ipython",
    "version": 3
   },
   "file_extension": ".py",
   "mimetype": "text/x-python",
   "name": "python",
   "nbconvert_exporter": "python",
   "pygments_lexer": "ipython3",
   "version": "3.10.1"
  }
 },
 "nbformat": 4,
 "nbformat_minor": 4
}
