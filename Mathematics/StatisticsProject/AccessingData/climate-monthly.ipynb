{
 "cells": [
  {
   "cell_type": "markdown",
   "metadata": {},
   "source": [
    "![Callysto.ca Banner](https://github.com/callysto/curriculum-notebooks/blob/master/callysto-notebook-banner-top.jpg?raw=true)\n",
    "\n",
    "<a href=\"https://hub.callysto.ca/jupyter/hub/user-redirect/git-pull?repo=https%3A%2F%2Fgithub.com%2Fcallysto%2Fcurriculum-notebooks&branch=master&subPath=Mathematics/StatisticsProject/AccessingData/climate-monthly.ipynb&depth=1\" target=\"_parent\"><img src=\"https://raw.githubusercontent.com/callysto/curriculum-notebooks/master/open-in-callysto-button.svg?sanitize=true\" width=\"123\" height=\"24\" alt=\"Open in Callysto\"/></a>"
   ]
  },
  {
   "cell_type": "markdown",
   "metadata": {},
   "source": [
    "# Monthly Climate Data\n",
    "\n",
    "## Temperature\n",
    "\n",
    "We can get global surface temperature data from 1880 to the present from [NASA GISS (Goddard Institute for Space Studies)](https://data.giss.nasa.gov/gistemp/) averaged by month, season, or year."
   ]
  },
  {
   "cell_type": "code",
   "execution_count": null,
   "metadata": {},
   "outputs": [],
   "source": [
    "global_temperature_url = 'https://data.giss.nasa.gov/gistemp/tabledata_v4/GLB.Ts+dSST.csv'\n",
    "\n",
    "import pandas as pd\n",
    "df = pd.read_csv(global_temperature_url, skiprows=1) # skip the first row in global_temperature_url CSV file\n",
    "df"
   ]
  },
  {
   "cell_type": "markdown",
   "metadata": {},
   "source": [
    "To look at just the data averaged by month we can drop the other columns."
   ]
  },
  {
   "cell_type": "code",
   "execution_count": null,
   "metadata": {},
   "outputs": [],
   "source": [
    "dfm = df.drop(columns=['J-D', 'D-N', 'DJF', 'MAM', 'JJA', 'SON'])\n",
    "dfm"
   ]
  },
  {
   "cell_type": "markdown",
   "metadata": {},
   "source": [
    "There are also many other [data sets available](https://data.giss.nasa.gov/gistemp), such as average surface temperatures by zone."
   ]
  },
  {
   "cell_type": "code",
   "execution_count": null,
   "metadata": {},
   "outputs": [],
   "source": [
    "zonal_temperatures_url = 'https://data.giss.nasa.gov/gistemp/tabledata_v4/ZonAnn.Ts+dSST.csv'\n",
    "\n",
    "dfz = pd.read_csv(zonal_temperatures_url) # this one doesn't need skiprows\n",
    "dfz"
   ]
  },
  {
   "cell_type": "markdown",
   "metadata": {},
   "source": [
    "## Precipitation\n",
    "\n",
    "For precipitation we'll look at raw weather station data from [Global Historical Climatology Network monthly (GHCNm)](https://www.ncei.noaa.gov/products/land-based-station/global-historical-climatology-network-monthly).\n",
    "\n",
    "This is a large dataset, so it will take a minute to download and decompress."
   ]
  },
  {
   "cell_type": "code",
   "execution_count": null,
   "metadata": {},
   "outputs": [],
   "source": [
    "import requests\n",
    "import gzip\n",
    "import os\n",
    "r = requests.get('https://www.ncei.noaa.gov/pub/data/ghcn/v2/v2.prcp_adj.gz')\n",
    "with open('v2.prcp.gz', 'wb') as file: # save the downloaded file\n",
    "    file.write(r.content)\n",
    "with gzip.open('v2.prcp.gz') as file: # decompress\n",
    "    precipitation = file.read()\n",
    "with open('v2.prcp', 'wb') as file: # save the decompressed file\n",
    "    file.write(precipitation)\n",
    "os.remove('v2.prcp.gz') # delete the downloaded file"
   ]
  },
  {
   "cell_type": "markdown",
   "metadata": {},
   "source": [
    "Next we read that large file into a dataframe and delete the file. Again, this will take a minute."
   ]
  },
  {
   "cell_type": "code",
   "execution_count": null,
   "metadata": {},
   "outputs": [],
   "source": [
    "dfp = pd.read_fwf('v2.prcp', header=None, colspecs=[(0,16), (17,21), (22,26), (27,31), (32,36), (37,41), (42,46), (47,51), (52,56), (57,61), (62,66), (67,71), (72,76)])\n",
    "#os.remove('v2.prcp') # put a  #  in front of this line to avoid deleting the file\n",
    "dfp"
   ]
  },
  {
   "cell_type": "markdown",
   "metadata": {},
   "source": [
    "Column `0` of the dataframe [defines](https://www.ncei.noaa.gov/pub/data/ghcn/v2/v2.prcp.readme) the station number and year. The first three digits are the [country code](https://www.ncei.noaa.gov/pub/data/ghcn/v2/v2.country.codes), the next five are the [World Meteorological Organization Station Identifier](https://community.wmo.int/wigos-station-identifier), the next four are the modifier and duplicate numbers (which we'll ignore), and the last four are the year.\n",
    "\n",
    "We'll slice that column into individual columns, and also rename Columns `1` through `12` as months."
   ]
  },
  {
   "cell_type": "code",
   "execution_count": null,
   "metadata": {},
   "outputs": [],
   "source": [
    "dfp.columns = [0, 'January', 'February', 'March', 'April', 'May', 'June', 'July', 'August', 'September', 'October', 'November', 'December']\n",
    "dfp['Country Code'] = dfp[0].astype(str).str.slice(0,3).astype(int)\n",
    "dfp['WSI'] = dfp[0].astype(str).str.slice(3,8).astype(int)\n",
    "dfp['Modifier'] = dfp[0].astype(str).str.slice(8,12).astype(int)\n",
    "dfp['Year'] = dfp[0].astype(str).str.slice(12,16).astype(int)\n",
    "dfp.drop(columns=[0], inplace=True)\n",
    "dfp"
   ]
  },
  {
   "cell_type": "markdown",
   "metadata": {},
   "source": [
    "To convert the country code to a name, we'll reference the [Country Codes file](https://www.ncei.noaa.gov/pub/data/ghcn/v2/v2.country.codes)."
   ]
  },
  {
   "cell_type": "code",
   "execution_count": null,
   "metadata": {},
   "outputs": [],
   "source": [
    "country_codes = pd.read_fwf('https://www.ncei.noaa.gov/pub/data/ghcn/v2/v2.country.codes', header=None, names=['Country Code','Country'])\n",
    "precipitation = pd.merge(dfp, country_codes, on='Country Code', how='left')\n",
    "precipitation"
   ]
  },
  {
   "cell_type": "markdown",
   "metadata": {},
   "source": [
    "We now have a dataframe called `precipitation`. To do some final cleaning we'll replace trace (`8888`) with `0` and remove rows with missing values (`9999`)."
   ]
  },
  {
   "cell_type": "code",
   "execution_count": null,
   "metadata": {},
   "outputs": [],
   "source": [
    "precipitation.replace(to_replace=8888, value=0, inplace=True)\n",
    "from numpy import NaN\n",
    "precipitation.replace(to_replace=9999, value=NaN, inplace=True)\n",
    "precipitation.dropna(axis=0, how='any', inplace=True) # drop any rows containing NaN\n",
    "precipitation"
   ]
  },
  {
   "cell_type": "markdown",
   "metadata": {},
   "source": [
    "[![Callysto.ca License](https://github.com/callysto/curriculum-notebooks/blob/master/callysto-notebook-banner-bottom.jpg?raw=true)](https://github.com/callysto/curriculum-notebooks/blob/master/LICENSE.md)"
   ]
  }
 ],
 "metadata": {
  "kernelspec": {
   "display_name": "Python 3",
   "language": "python",
   "name": "python3"
  },
  "language_info": {
   "codemirror_mode": {
    "name": "ipython",
    "version": 3
   },
   "file_extension": ".py",
   "mimetype": "text/x-python",
   "name": "python",
   "nbconvert_exporter": "python",
   "pygments_lexer": "ipython3",
   "version": "3.10.1"
  }
 },
 "nbformat": 4,
 "nbformat_minor": 4
}
