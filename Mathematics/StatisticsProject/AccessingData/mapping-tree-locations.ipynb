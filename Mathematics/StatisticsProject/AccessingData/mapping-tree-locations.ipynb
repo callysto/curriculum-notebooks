{
 "cells": [
  {
   "cell_type": "markdown",
   "metadata": {},
   "source": [
    "![Callysto.ca Banner](https://github.com/callysto/curriculum-notebooks/blob/master/callysto-notebook-banner-top.jpg?raw=true)\n",
    "\n",
    "<a href=\"https://hub.callysto.ca/jupyter/hub/user-redirect/git-pull?repo=https%3A%2F%2Fgithub.com%2Fcallysto%2Fcurriculum-notebooks&branch=master&subPath=Mathematics/StatisticsProject/AccessingData/mapping-tree-locations.ipynb&depth=1\" target=\"_parent\"><img src=\"https://raw.githubusercontent.com/callysto/curriculum-notebooks/master/open-in-callysto-button.svg?sanitize=true\" width=\"123\" height=\"24\" alt=\"Open in Callysto\"/></a>"
   ]
  },
  {
   "cell_type": "markdown",
   "metadata": {},
   "source": [
    "# Mapping Tree Locations\n",
    "\n",
    "As an example of mapping data, we can look at [tree locations from Lethbridge Open Data](http://opendata.lethbridge.ca/datasets/82841132047d47659508f60c52f6346a_0/data)."
   ]
  },
  {
   "cell_type": "code",
   "execution_count": null,
   "metadata": {},
   "outputs": [],
   "source": [
    "import folium\n",
    "from folium.plugins import MarkerCluster\n",
    "import pandas as pd\n",
    "\n",
    "csv_link = 'https://opendata.arcgis.com/datasets/82841132047d47659508f60c52f6346a_0.csv'\n",
    "df = pd.read_csv(csv_link, low_memory=False)\n",
    "df"
   ]
  },
  {
   "cell_type": "code",
   "execution_count": null,
   "metadata": {},
   "outputs": [],
   "source": [
    "print('Tree map with terrain and a sample of 200 data points.')\n",
    "lat = df['Y'].mean()\n",
    "lon = df['X'].mean()\n",
    "tree_map = folium.Map(location=[lat,lon], zoom_start=12, tiles='Stamen Terrain')\n",
    "for row in df.sample(n=200).itertuples():\n",
    "    tree_map.add_child(folium.Marker(location=[row.Y,row.X], popup=row.AssetID, tooltip=row.species))\n",
    "tree_map"
   ]
  },
  {
   "cell_type": "code",
   "execution_count": null,
   "metadata": {},
   "outputs": [],
   "source": [
    "print('Tree map with data points clustered (this will take a while to run).')\n",
    "lat = df['Y'].mean()\n",
    "lon = df['X'].mean()\n",
    "tree_map_mc = folium.Map(location=[lat,lon], zoom_start=12)\n",
    "marker_cluster = MarkerCluster()\n",
    "for row in df.itertuples():\n",
    "    marker_cluster.add_child(folium.Marker(location=[row.Y,row.X], popup=row.AssetID, tooltip=row.species))\n",
    "tree_map_mc.add_child(marker_cluster)\n",
    "tree_map_mc"
   ]
  },
  {
   "cell_type": "markdown",
   "metadata": {},
   "source": [
    "[![Callysto.ca License](https://github.com/callysto/curriculum-notebooks/blob/master/callysto-notebook-banner-bottom.jpg?raw=true)](https://github.com/callysto/curriculum-notebooks/blob/master/LICENSE.md)"
   ]
  }
 ],
 "metadata": {
  "kernelspec": {
   "display_name": "Python 3",
   "language": "python",
   "name": "python3"
  },
  "language_info": {
   "codemirror_mode": {
    "name": "ipython",
    "version": 3
   },
   "file_extension": ".py",
   "mimetype": "text/x-python",
   "name": "python",
   "nbconvert_exporter": "python",
   "pygments_lexer": "ipython3",
   "version": "3.7.6"
  }
 },
 "nbformat": 4,
 "nbformat_minor": 4
}
