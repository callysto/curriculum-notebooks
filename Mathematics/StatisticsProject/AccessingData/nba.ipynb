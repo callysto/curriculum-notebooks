{
 "cells": [
  {
   "cell_type": "markdown",
   "metadata": {},
   "source": [
    "![Callysto.ca Banner](https://github.com/callysto/curriculum-notebooks/blob/master/callysto-notebook-banner-top.jpg?raw=true)\n",
    "\n",
    "<a href=\"https://hub.callysto.ca/jupyter/hub/user-redirect/git-pull?repo=https%3A%2F%2Fgithub.com%2Fcallysto%2Fcurriculum-notebooks&branch=master&subPath=Mathematics/StatisticsProject/AccessingData/nba.ipynb&depth=1\" target=\"_parent\"><img src=\"https://raw.githubusercontent.com/callysto/curriculum-notebooks/master/open-in-callysto-button.svg?sanitize=true\" width=\"123\" height=\"24\" alt=\"Open in Callysto\"/></a>"
   ]
  },
  {
   "cell_type": "markdown",
   "metadata": {},
   "source": [
    "# National Basketball Association\n",
    "\n",
    "We can get data from [ESPN NBA Stats](https://www.espn.com/nba/stats). For example, team statistics for the following variables.\n",
    "\n",
    "- GP: Games Played\n",
    "- PTS: Points Per Game\n",
    "- FGM: Average Field Goals Made\n",
    "- FGA: Average Field Goals Attempted\n",
    "- FG%: Field Goal Percentage\n",
    "- 3PM: Average 3-Point Field Goals Made\n",
    "- 3PA: Average 3-Point Field Goals Attempted\n",
    "- 3P%: 3-Point Field Goal Percentage\n",
    "- FTM: Average Free Throws Made\n",
    "- FTA: Average Free Throws Attempted\n",
    "- FT%: Free Throw Percentage\n",
    "- OR: Offensive Rebounds Per Game\n",
    "- DR: Defensive Rebounds Per Game\n",
    "- REB: Rebounds Per Game\n",
    "- AST: Assists Per Game\n",
    "- STL: Steals Per Game\n",
    "- BLK: Blocks Per Game\n",
    "- TO: Turnovers Per Game\n",
    "- PF: Fouls Per Game"
   ]
  },
  {
   "cell_type": "code",
   "execution_count": null,
   "metadata": {},
   "outputs": [],
   "source": [
    "url = 'https://www.espn.com/nba/stats/team/_/table/offensive/sort/avgPoints/dir/desc'\n",
    "import pandas as pd\n",
    "page = pd.read_html(url)\n",
    "team_names = page[0]\n",
    "team_data = page[1]\n",
    "team_points = team_names.join(team_data).set_index('RK')\n",
    "team_points"
   ]
  },
  {
   "cell_type": "markdown",
   "metadata": {},
   "source": [
    "[![Callysto.ca License](https://github.com/callysto/curriculum-notebooks/blob/master/callysto-notebook-banner-bottom.jpg?raw=true)](https://github.com/callysto/curriculum-notebooks/blob/master/LICENSE.md)"
   ]
  }
 ],
 "metadata": {
  "kernelspec": {
   "display_name": "Python 3",
   "language": "python",
   "name": "python3"
  },
  "language_info": {
   "codemirror_mode": {
    "name": "ipython",
    "version": 3
   },
   "file_extension": ".py",
   "mimetype": "text/x-python",
   "name": "python",
   "nbconvert_exporter": "python",
   "pygments_lexer": "ipython3",
   "version": "3.7.6"
  }
 },
 "nbformat": 4,
 "nbformat_minor": 4
}
