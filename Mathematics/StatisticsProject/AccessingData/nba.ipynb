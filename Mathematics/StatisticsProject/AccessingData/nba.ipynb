{
 "cells": [
  {
   "cell_type": "markdown",
   "metadata": {},
   "source": [
    "![Callysto.ca Banner](https://github.com/callysto/curriculum-notebooks/blob/master/callysto-notebook-banner-top.jpg?raw=true)\n",
    "\n",
    "<a href=\"https://hub.callysto.ca/jupyter/hub/user-redirect/git-pull?repo=https%3A%2F%2Fgithub.com%2Fcallysto%2Fcurriculum-notebooks&branch=master&subPath=Mathematics/StatisticsProject/AccessingData/nba.ipynb&depth=1\" target=\"_parent\"><img src=\"https://raw.githubusercontent.com/callysto/curriculum-notebooks/master/open-in-callysto-button.svg?sanitize=true\" width=\"123\" height=\"24\" alt=\"Open in Callysto\"/></a>"
   ]
  },
  {
   "attachments": {},
   "cell_type": "markdown",
   "metadata": {},
   "source": [
    "# National Basketball Association\n",
    "\n",
    "We can get data from [ESPN NBA Stats](https|//www.espn.com/nba/stats). For example, team statistics for the following variables.\n",
    "\n",
    "|Variable|Meaning|\n",
    "|-|-|\n",
    "|GP|Games Played|\n",
    "|GS|Games Started|\n",
    "|MIN|Minutes Per Game|\n",
    "|PTS|Points Per Game|\n",
    "|OR|Offensive Rebounds Per Game|\n",
    "|DR|Defensive Rebounds Per Game|\n",
    "|REB|Rebounds Per Game|\n",
    "|AST|Assists Per Game|\n",
    "|STL|Steals Per Game|\n",
    "|BLK|Blocks Per Game|\n",
    "|TO|Turnovers Per Game|\n",
    "|PF|Fouls Per Game|\n",
    "|AST/TO|Assist To Turnover Ratio|\n",
    "|FGM|Average Field Goals Made|\n",
    "|FGA|Average Field Goals Attempted|\n",
    "|FG%|Field Goal Percentage|\n",
    "|3PM|Average 3-Point Field Goals Made|\n",
    "|3PA|Average 3-Point Field Goals Attempted|\n",
    "|3P%|3-Point Field Goal Percentage|\n",
    "|FTM|Average Free Throws Made|\n",
    "|FTA|Average Free Throws Attempted|\n",
    "|FT%|Free Throw Percentage|\n",
    "|2PM|2-Point Field Goals Made per Game|\n",
    "|2PA|2-Point Field Goals Attempted per Game|\n",
    "|2P%|2-Point Field Goal Percentage|\n",
    "|SC-EFF|Scoring Efficiency|\n",
    "|SH-EFF|Shooting Efficiency|\n",
    "\n",
    "Let's get stats for the [Toronto Raptors](https://www.espn.com/nba/team/stats/_/name/tor/toronto-raptors)."
   ]
  },
  {
   "cell_type": "code",
   "execution_count": null,
   "metadata": {},
   "outputs": [],
   "source": [
    "import pandas as pd\n",
    "team = 'toronto-raptors'\n",
    "url = 'https://www.espn.com/nba/team/stats/_/name/tor/toronto-raptors'\n",
    "page = pd.read_html(url)\n",
    "df = page[0].join(page[1]).join(page[3])\n",
    "df['Team'] = team\n",
    "df"
   ]
  },
  {
   "attachments": {},
   "cell_type": "markdown",
   "metadata": {},
   "source": [
    "Now that we can get stats for one team, let's get stats for all of the teams. First we will get a list of links to the team stats pages."
   ]
  },
  {
   "cell_type": "code",
   "execution_count": null,
   "metadata": {},
   "outputs": [],
   "source": [
    "import requests\n",
    "from bs4 import BeautifulSoup\n",
    "page = requests.get('https://www.espn.com/nba/teams')\n",
    "links = BeautifulSoup(page.content, 'html.parser').find_all('a', class_='AnchorLink')\n",
    "teams = [link.get('href').split('/name/')[1] for link in links if 'team/stats' in link.get('href')]\n",
    "teams"
   ]
  },
  {
   "attachments": {},
   "cell_type": "markdown",
   "metadata": {},
   "source": [
    "Now we can get stats for each of those teams, and store it all in a dataframe."
   ]
  },
  {
   "cell_type": "code",
   "execution_count": null,
   "metadata": {},
   "outputs": [],
   "source": [
    "def getStats(team):\n",
    "    page = pd.read_html('https://www.espn.com/nba/team/stats/_/name/'+team)\n",
    "    df = page[0].join(page[1]).join(page[3])\n",
    "    df['Team'] = team.split('/')[1]\n",
    "    return df\n",
    "\n",
    "df = pd.DataFrame()\n",
    "for team in teams:\n",
    "    df = pd.concat([df, getStats(team)], ignore_index=True)\n",
    "df"
   ]
  },
  {
   "attachments": {},
   "cell_type": "markdown",
   "metadata": {},
   "source": [
    "We may also want to clean up the player names.\n",
    "\n",
    "If there is a `*`, they were traded midseason. We will also move the last \"word\" in the name column to a column named `Position`."
   ]
  },
  {
   "cell_type": "code",
   "execution_count": null,
   "metadata": {},
   "outputs": [],
   "source": [
    "df['MidseasonTrade'] = df['Name'].str.contains('\\*')  # if there is a * in the Name column, then the player was traded midseason\n",
    "df['Name'] = df['Name'].str.replace('*', '', regex=True)  # remove the * from the Name column\n",
    "\n",
    "df['Position'] = df['Name'].str.strip().str.split(' ').str[-1]  # create a Position column as the last word from the Name column\n",
    "df['Name'] = df['Name'].str.strip().str.split(' ').str[:-1].str.join(' ')  # remove the Position from the Name column\n",
    "df.loc[df['Position']=='Total', 'Name'] = 'Total'  # replace the Name column with 'Total' if the Position column is 'Total'\n",
    "\n",
    "df"
   ]
  },
  {
   "cell_type": "markdown",
   "metadata": {},
   "source": [
    "[![Callysto.ca License](https://github.com/callysto/curriculum-notebooks/blob/master/callysto-notebook-banner-bottom.jpg?raw=true)](https://github.com/callysto/curriculum-notebooks/blob/master/LICENSE.md)"
   ]
  }
 ],
 "metadata": {
  "kernelspec": {
   "display_name": "Python 3",
   "language": "python",
   "name": "python3"
  },
  "language_info": {
   "codemirror_mode": {
    "name": "ipython",
    "version": 3
   },
   "file_extension": ".py",
   "mimetype": "text/x-python",
   "name": "python",
   "nbconvert_exporter": "python",
   "pygments_lexer": "ipython3",
   "version": "3.10.6"
  }
 },
 "nbformat": 4,
 "nbformat_minor": 4
}
