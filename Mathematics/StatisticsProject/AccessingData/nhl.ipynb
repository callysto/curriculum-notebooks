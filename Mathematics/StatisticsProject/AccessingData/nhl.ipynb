{
 "cells": [
  {
   "cell_type": "markdown",
   "metadata": {},
   "source": [
    "![Callysto.ca Banner](https://github.com/callysto/curriculum-notebooks/blob/master/callysto-notebook-banner-top.jpg?raw=true)\n",
    "\n",
    "<a href=\"https://hub.callysto.ca/jupyter/hub/user-redirect/git-pull?repo=https%3A%2F%2Fgithub.com%2Fcallysto%2Fcurriculum-notebooks&branch=master&subPath=Mathematics/StatisticsProject/AccessingData/nhl.ipynb&depth=1\" target=\"_parent\"><img src=\"https://raw.githubusercontent.com/callysto/curriculum-notebooks/master/open-in-callysto-button.svg?sanitize=true\" width=\"123\" height=\"24\" alt=\"Open in Callysto\"/></a>"
   ]
  },
  {
   "cell_type": "markdown",
   "metadata": {},
   "source": [
    "# National Hockey League Statistics\n",
    "\n",
    "We can look at NHL statistics by team or by player, using data from [hockey-reference.com](https://www.hockey-reference.com) or [ESPN NHL Statistics](http://www.espn.com/nhl/statistics).\n"
   ]
  },
  {
   "cell_type": "markdown",
   "metadata": {},
   "source": [
    "## Statistics by Team"
   ]
  },
  {
   "cell_type": "code",
   "execution_count": null,
   "metadata": {},
   "outputs": [],
   "source": [
    "team = 'EDM'\n",
    "year = '2019'\n",
    "\n",
    "# download the data\n",
    "import pandas as pd\n",
    "team_stats_url = 'https://www.hockey-reference.com/teams/'+team+'/'+year+'_games.html'\n",
    "team_stats = pd.read_html(team_stats_url)[0]\n",
    "# clean up the data\n",
    "team_stats = team_stats[team_stats['Date']!='Date'].set_index('GP').drop(columns=['W','L','OL','Streak','Notes'])\n",
    "team_stats.columns = ['Date', 'Away', 'Opponent', 'Goals For', 'Goals Against', 'Win', 'Overtime', 'Attendance', 'Duration']\n",
    "team_stats = team_stats.fillna(0).replace('@', 1).replace('OT', 1).replace('W',1).replace('SO',1).replace('L',0)\n",
    "# convert text string columns to number columns\n",
    "team_stats['Goals For'] = pd.to_numeric(team_stats['Goals For'])\n",
    "team_stats['Goals Against'] = pd.to_numeric(team_stats['Goals Against'])\n",
    "team_stats['Attendance'] = pd.to_numeric(team_stats['Attendance'])\n",
    "# convert duration in h:mm to duration in minutes\n",
    "duration_values = team_stats['Duration'].str.split(':', expand=True).astype(int)\n",
    "team_stats['Duration'] = duration_values[0]*60 + duration_values[1]\n",
    "# display the data\n",
    "team_stats"
   ]
  },
  {
   "attachments": {},
   "cell_type": "markdown",
   "metadata": {},
   "source": [
    "## Statistics by Player\n",
    "\n",
    "This data set contains the following columns for each of the top 50 \"skating\" players:\n",
    "\n",
    "- GP: Games Played\n",
    "- G: Goals\n",
    "- A: Assists\n",
    "- PTS: Points\n",
    "- +/-: Plus/Minus Rating\n",
    "- PIM: Penalty Minutes\n",
    "- PTS/G: Points Per Game\n",
    "- SOG: Shots on Goal\n",
    "- PCT: Shooting Percentage\n",
    "- GWG: Game-Winning Goals\n",
    "- G.1: Power-Play Goals\n",
    "- A.1: Power-Play Assists\n",
    "- G.2: Short-Handed Goals\n",
    "- A.2: Short-Handed Assists"
   ]
  },
  {
   "cell_type": "code",
   "execution_count": null,
   "metadata": {},
   "outputs": [],
   "source": [
    "skating_stats_url = 'https://www.espn.com/nhl/stats/player/_/view/skating/table/offensive/sort/goals/dir/desc'\n",
    "import pandas as pd\n",
    "skating_stats = pd.read_html(skating_stats_url)\n",
    "skating_stats = pd.concat(skating_stats, axis=1, join='inner') # combine the tables\n",
    "def getTeam(name): # extract the team from the player name\n",
    "    if name[-3].isupper():\n",
    "        return name[:-3], name[-3:]\n",
    "    else:\n",
    "        return name[:-2], name[-2:]\n",
    "skating_stats[['Name','Team']] = skating_stats['Name'].apply(lambda n:pd.Series(getTeam(n)))\n",
    "skating_stats"
   ]
  },
  {
   "attachments": {},
   "cell_type": "markdown",
   "metadata": {},
   "source": [
    "And the statistics for the top goaltenders:"
   ]
  },
  {
   "cell_type": "code",
   "execution_count": null,
   "metadata": {},
   "outputs": [],
   "source": [
    "goaltending_stats_url = 'https://www.espn.com/nhl/stats/player/_/view/goaltending'\n",
    "import pandas as pd\n",
    "goaltending_stats = pd.read_html(goaltending_stats_url)\n",
    "goaltending_stats = pd.concat(goaltending_stats, axis=1, join='inner') # combine the tables\n",
    "def getTeam(name): # extract the team from the player name\n",
    "    if name[-3].isupper():\n",
    "        return name[:-3], name[-3:]\n",
    "    else:\n",
    "        return name[:-2], name[-2:]\n",
    "goaltending_stats[['Name','Team']] = goaltending_stats['Name'].apply(lambda n:pd.Series(getTeam(n)))\n",
    "goaltending_stats"
   ]
  },
  {
   "cell_type": "markdown",
   "metadata": {},
   "source": [
    "[![Callysto.ca License](https://github.com/callysto/curriculum-notebooks/blob/master/callysto-notebook-banner-bottom.jpg?raw=true)](https://github.com/callysto/curriculum-notebooks/blob/master/LICENSE.md)"
   ]
  }
 ],
 "metadata": {
  "kernelspec": {
   "display_name": "Python 3",
   "language": "python",
   "name": "python3"
  },
  "language_info": {
   "codemirror_mode": {
    "name": "ipython",
    "version": 3
   },
   "file_extension": ".py",
   "mimetype": "text/x-python",
   "name": "python",
   "nbconvert_exporter": "python",
   "pygments_lexer": "ipython3",
   "version": "3.10.1"
  },
  "vscode": {
   "interpreter": {
    "hash": "d1ca6d17674200220921376aaeb3d36cffe15ecab2470a9a5e7a456cdbf61425"
   }
  }
 },
 "nbformat": 4,
 "nbformat_minor": 4
}
