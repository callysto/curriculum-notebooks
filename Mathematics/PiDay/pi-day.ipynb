{
 "cells": [
  {
   "cell_type": "markdown",
   "metadata": {},
   "source": [
    "![Callysto.ca Banner](https://github.com/callysto/curriculum-notebooks/blob/master/callysto-notebook-banner-top.jpg?raw=true)\n",
    "\n",
    "<a href=\"https://hub.callysto.ca/jupyter/hub/user-redirect/git-pull?repo=https%3A%2F%2Fgithub.com%2Fcallysto%2Fcurriculum-notebooks&branch=master&subPath=Mathematics/PiDay/pi-day.ipynb&depth=1\" target=\"_parent\"><img src=\"https://raw.githubusercontent.com/callysto/curriculum-notebooks/master/open-in-callysto-button.svg?sanitize=true\" width=\"123\" height=\"24\" alt=\"Open in Callysto\"/></a>"
   ]
  },
  {
   "cell_type": "markdown",
   "metadata": {},
   "source": [
    "<img src=\"images/pi.png\" width=\"200\"/>\n",
    "  \n",
    "<center><font size=\"20\" color=\"Purple\">Happy Pi Day!</font></center>"
   ]
  },
  {
   "cell_type": "markdown",
   "metadata": {},
   "source": [
    "## Some Pi Facts\n",
    "\n",
    "Pi is represented mathematically as the symbol $\\pi$ and is **the circumference  divided by the diameter  of a circle**.  \n",
    "\n",
    "<img src=\"images/pi_calculation.png\" width=\"400\"/>  <center>[Source](https://www.mathsisfun.com/numbers/pi.html)</center>\n",
    "\n",
    "\n",
    "The symbol for Pi ($\\pi$)  was introduced by **[William Jones](https://www.historytoday.com/archive/william-jones-and-his-circle-man-who-invented-pi)** in 1706. Before being ascribed a modern name, Pi was known as \"quantitas in quam cum multiflicetur diameter, proveniet circumferencia\" — Latin for “the quantity which, when the diameter is multiplied by it, yields the circumference.”\n",
    "\n",
    "Pi is an irrational number - **its digits never end or repeat in any known way**. \n",
    "\n",
    "\n",
    "It's believed that human civilizations were aware of Pi [as early as 2550 BC](https://www.pcworld.com/article/191389/a-brief-history-of-pi.html)."
   ]
  },
  {
   "cell_type": "markdown",
   "metadata": {},
   "source": [
    "## Why Do We Celebrate [Pi Day](https://www.exploratorium.edu/pi/pi-day-history)?\n",
    "\n",
    "<img src=\"images/PiDay.jpeg\"/>  <center>[Source](https://www.exploratorium.edu/pi/pi-day-history)</center>\n",
    "\n",
    "March 14 is Community Pi (π) Day, the annual celebration of a never-ending number—and Albert Einstein’s birthday. How did Pi inspire a national holiday and an international celebration thousands of years after its discovery? It all started at San Francisco’s Exploratorium with former staff physicist, tinkerer, and media specialist Larry Shaw in 1988."
   ]
  },
  {
   "cell_type": "markdown",
   "metadata": {},
   "source": [
    "## Interactive Pi Fun!\n",
    "\n",
    "Select the code cell below, then click the `▶Run` button in the toolbar to run this interactive Pi memory test.\n",
    "\n",
    "Don't worry about understanding the code, scroll down to see the resulting interactive game below."
   ]
  },
  {
   "cell_type": "code",
   "execution_count": null,
   "metadata": {},
   "outputs": [],
   "source": [
    "import ipywidgets as widgets\n",
    "from IPython.display import display, Markdown, Latex, Math, HTML, clear_output, Javascript\n",
    "digit_answers=[1,4,1,5,9,2,6,5,3,5,8,9,7,9,3,2,3,8,4,6,2,6,4,3,3,8,3,2,7,9,5,0,2,8,8,4,1,9,7,1]\n",
    "current_position=0\n",
    "number_of_mistakes=5\n",
    "number_of_mistakes_left=number_of_mistakes\n",
    "digit_widgets=[]\n",
    "for i in range(len(digit_answers)):\n",
    "    digit_widgets.append(widgets.Text(value='',disabled=True,layout=widgets.Layout(width='3%')))\n",
    "pi_real=widgets.HTMLMath(value=\"$$\\pi=3.$$\")\n",
    "next_number=widgets.HTML(value=\"Select the next digit:\")\n",
    "answer_text=widgets.Select(options=['0','1','2','3','4','5','6','7','8','9'],value='0',\n",
    "    description='',disabled=False,layout=widgets.Layout(width='10%'))\n",
    "warning=widgets.HTML(value=\"\")\n",
    "mistakes=widgets.HTML(value=\"Mistakes left: <font color='red'>\"+str(number_of_mistakes_left)+\"</font>\")\n",
    "reset_button=widgets.Button(description='Reset',disabled=False)\n",
    "def on_digit_selected(b):\n",
    "    global current_position,number_of_mistakes_left\n",
    "    if answer_text.value == str(digit_answers[current_position]):\n",
    "        digit_widgets[current_position].value=answer_text.value\n",
    "        current_position=current_position+1\n",
    "        warning.value=\"<font color='green'> Correct! </font>\"\n",
    "    else:\n",
    "        warning.value=\"<font color='red'> Not quite... </font>\"\n",
    "        number_of_mistakes_left=number_of_mistakes_left-1\n",
    "        mistakes.value=\"Mistakes left: <font color='red'>\"+str(number_of_mistakes_left)+\"</font>\"\n",
    "    if number_of_mistakes_left==0 or current_position==len(digit_answers):\n",
    "        b.disabled=True\n",
    "        answer_text.disabled=True\n",
    "        for i in range(len(digit_answers)):\n",
    "            digit_widgets[i].value=str(digit_answers[i])\n",
    "        warning.value=\"<font color='red'> You scored \"+str(current_position)+\"! Run the code cell again to start over.</font>\"\n",
    "answer_text.observe(on_digit_selected, names='value')\n",
    "display(Markdown(\"**How many digits of $\\pi$ can you remember?**\"))\n",
    "display(widgets.HBox([pi_real]+digit_widgets[:17]))\n",
    "display(widgets.HBox(digit_widgets[17:]))\n",
    "display(widgets.HBox([next_number,answer_text,warning]))\n",
    "display(widgets.HBox([mistakes]))"
   ]
  },
  {
   "cell_type": "markdown",
   "metadata": {},
   "source": [
    "According to the [Guiness World Records](http://www.guinnessworldrecords.com/world-records/most-pi-places-memorised), \n",
    "the most decimal places of Pi memorised is `70,000`! 😍😍😍\n",
    ">This was achieved by Rajveer Meena at VIT University, in Vellore, India, on 21 March 2015. Rajveer wore a blindfold throughout the entire recall, which took nearly 10 hours.\n",
    "\n",
    "<img src=\"images/rajveer.png\" width=\"500\"/>  <center>[Source](http://www.guinnessworldrecords.com/world-records/most-pi-places-memorised)</center>\n"
   ]
  },
  {
   "cell_type": "markdown",
   "metadata": {},
   "source": [
    "#### [The Pilish Language](http://www.cadaeic.net/pilish.htm)\n",
    "\n",
    "<img style=\"float: right;\" src=\"images/not_a_wake.png\" width=\"150\"/>\n",
    "\n",
    "Pilish is a language in which the lengths of successive words represent the digits of Pi (3.14159265358979...) \n",
    "\n",
    "One of the earliest example is the following sentence, believed to have been composed by the English physicist Sir James Jeans:\n",
    "\n",
    ">**How I need a drink, alcoholic in nature, after the heavy lectures involving quantum mechanics!**\n",
    "\n",
    "The most recent example is the [book by Mike Keith \"Not A Wake\"](https://www.amazon.ca/dp/B0077QIOE4) (Vinculum Press, 2010):\n",
    "\n",
    "> **Now I fall, a tired suburbian in liquid under the trees,   \n",
    "> Drifting alongside forests simmering red in the twilight over Europe.**\n",
    "\n",
    "`▶Run` the following code cell to display an interactive Pilish writing checker."
   ]
  },
  {
   "cell_type": "code",
   "execution_count": null,
   "metadata": {},
   "outputs": [],
   "source": [
    "import re\n",
    "pi_digits=[3,1,4,1,5,9,2,6,5,3,5,8,9,7,9,3,2,3,8,4,6,2,6,4,3,3,8,3,2,7,9,5,0,2,8,8,4,1,9,7,1]\n",
    "text_area1=widgets.Textarea(placeholder='Type something(up to 32 words)',disabled=False,layout=widgets.Layout(height='100px'))\n",
    "text_area2=widgets.Textarea(disabled=True,layout=widgets.Layout(height='100px'))\n",
    "submit_button=widgets.Button(description='Submit',button_style='info',disabled=False)\n",
    "reset_button1=widgets.Button(description='Reset',disabled=False)\n",
    "warning1=widgets.HTML(value=\" \")\n",
    "def on_button_reset1_clicked(b):\n",
    "    text_area1.value=\"\"\n",
    "    text_area2.value=\"\"\n",
    "    warning1.value=\"\"\n",
    "reset_button1.on_click(on_button_reset1_clicked)\n",
    "def on_button_submit_clicked(b):\n",
    "    text=re.sub(r'[^\\w\\s]',' ',text_area1.value)\n",
    "    text = re.sub(\"\\d+\", \"\", text)\n",
    "    text_list=text.split()\n",
    "    text_len=len(text_list)\n",
    "    if text_len==0:\n",
    "        text_area1.value=\"\"\n",
    "        warning1.value=\"There is no text, try again!\"\n",
    "    else:\n",
    "        if text_len>32:\n",
    "            text_len=32\n",
    "            text_list=text_list[:text_len]\n",
    "        pi_subset=pi_digits[:text_len]\n",
    "        text_list1=[]\n",
    "        word_length=[]\n",
    "        for word in text_list:\n",
    "            lenw=len(word)\n",
    "            word_length.append(lenw)\n",
    "            text_list1.append(word+\"(\"+ str(lenw)+\")\")\n",
    "        if word_length==pi_subset:\n",
    "            warning1.value=\" <font color='green'> Well done! This is written in Pilish!</font>\"\n",
    "        else:\n",
    "            warning1.value=\" <font color='red'>Not quite. Your sequence is \"+' '.join(str(word_length))+\", it needs to be \"+' '.join(str(pi_subset))+\"</font>\"\n",
    "        text_area2.value=' '.join(text_list1)\n",
    "submit_button.on_click(on_button_submit_clicked)\n",
    "display(Markdown(\"**Can you write in Pilish?** Remember $\\pi=3.1415926535897932384626433832795028841971$...\"))\n",
    "display(Markdown(\"**Note**: numbers and special characters are excluded.\"))\n",
    "vbox1=widgets.VBox([text_area1,widgets.HBox([submit_button,reset_button1])])\n",
    "vbox2=widgets.VBox([text_area2,warning1])                \n",
    "display(widgets.HBox([vbox1,vbox2]))"
   ]
  },
  {
   "cell_type": "markdown",
   "metadata": {},
   "source": [
    "#### Calculating Pi with Darts\n",
    "\n",
    "`▶Run` the following code cell to display a video about this."
   ]
  },
  {
   "cell_type": "code",
   "execution_count": null,
   "metadata": {
    "scrolled": false
   },
   "outputs": [],
   "source": [
    "from IPython.display import YouTubeVideo\n",
    "YouTubeVideo('M34TO71SKGk')"
   ]
  },
  {
   "cell_type": "markdown",
   "metadata": {},
   "source": [
    "**Throwing Darts at a Target (Dart Board) Explainer**:  \n",
    "- The square that surrounds the dart board has sides of 1 unit in length and the circle (dart board) inside of the square has a diameter of 1 unit.  \n",
    "\n",
    "- The number of darts that land in the circle divided by the number of darts in the entire square should be proportional to the area of the circle divided by the area of the square:\n",
    "$$\\frac{n \\mspace{3mu} circle}{n \\mspace{3mu} square}\\propto\\frac{A \\mspace{3mu} circle}{A \\mspace{3mu} square}$$\n",
    "\n",
    "- The area of the square is 1 (length = 1), and area of the circle is $\\pi\\times r^{2}$, where $r$ (radius) is 0.5:\n",
    "$$\\frac{n \\mspace{3mu} circle}{n \\mspace{3mu} square}\\propto\\pi\\times r^{2}=\\pi\\times 0.5^{2}=\\frac{\\pi}{4}$$\n",
    "\n",
    "- So we can get Pi by multiplying both parts by 4:\n",
    "\n",
    "$$\\pi\\approx\\frac{n \\mspace{3mu} circle}{n \\mspace{3mu} square}\\times4$$\n",
    "\n",
    "**Try it yourself!**\n",
    "\n",
    "`▶Run` the code cell to plot random darts and calculate an approximation of π. You can change the value of `number_of_darts` to see what effect that has."
   ]
  },
  {
   "cell_type": "code",
   "execution_count": null,
   "metadata": {},
   "outputs": [],
   "source": [
    "number_of_darts = 1000\n",
    "\n",
    "import matplotlib.pyplot as plt\n",
    "%matplotlib inline\n",
    "import random\n",
    "circle_centerx=circle_centery=circle_radius=0.5\n",
    "x_inside=[]\n",
    "y_inside=[]\n",
    "x_outside=[]\n",
    "y_outside=[]\n",
    "for i in range(number_of_darts):\n",
    "    x=random.random()\n",
    "    y=random.random()\n",
    "    if (x-circle_centerx)**2+(y-circle_centery)**2<circle_radius**2:\n",
    "        x_inside.append(x)\n",
    "        y_inside.append(y)\n",
    "    else:\n",
    "        x_outside.append(x)\n",
    "        y_outside.append(y)\n",
    "circle2 = plt.Circle((circle_centerx, circle_centery), circle_radius,color='b',fill=False)\n",
    "fig, ax = plt.subplots(figsize=(10,10)) \n",
    "ax.plot(x_inside,y_inside, 'o', color='y',alpha=0.4)\n",
    "ax.plot(x_outside,y_outside, 'o', color='r',alpha=0.4)\n",
    "ax.add_artist(circle2)\n",
    "plt.ylim(0, 1) \n",
    "plt.xlim(0, 1) \n",
    "plt.show()\n",
    "print(\"Number of  darts inside the circle: \"+str(len(x_inside)))\n",
    "print(\"Total number of darts: \"+str(number_of_darts))\n",
    "print(\"Estimated π = (\"+str(len(x_inside))+\"/\"+str(number_of_darts)+\")×4 = \"+str(len(x_inside)*4/number_of_darts))     "
   ]
  },
  {
   "cell_type": "markdown",
   "metadata": {},
   "source": [
    "#### [Calculating Pi ](http://www.mathscareers.org.uk/article/calculating-pi/)\n",
    "\n",
    "There are exact formulas for calculating Pi but in order to so requires you to do something an **infinite** number of times.\n",
    "\n",
    "One of the most well known ways to calculate Pi is to use the **Gregory-Leibniz Series**:\n",
    "\n",
    "$$\\pi=\\frac{4}{1}-\\frac{4}{3}+\\frac{4}{5}-\\frac{4}{7}+\\frac{4}{9}-...$$\n",
    "\n",
    "The problem with this series is that you need to add up a lot of terms in order to get an accurate approximation of Pi. (More than 300 terms need to be added in order to produce Pi accurate to two decimal places!)\n",
    "\n",
    "Another series which converges more quickly is the **Nilakantha Series** which was developed around 1500 AD (This means that you need to work out fewer terms for your answer to become closer to Pi): \n",
    "\n",
    "$$\\pi=3+\\frac{4}{2\\times3\\times4}-\\frac{4}{4\\times5\\times6}+\\frac{4}{6\\times7\\times8}-\\frac{4}{8\\times9\\times10}+...$$\n",
    "\n",
    "We can compare these two ways of calculating Pi by plotting each series.\n",
    "\n",
    "`▶Run` the code cell to generate the plots."
   ]
  },
  {
   "cell_type": "code",
   "execution_count": null,
   "metadata": {},
   "outputs": [],
   "source": [
    "series_l_x=[0]\n",
    "series_l_y=[4]\n",
    "series_n_x=[0]\n",
    "series_n_y=[3]\n",
    "ans = 3\n",
    "j = 2\n",
    "ans1 = 4\n",
    "j1 = 3\n",
    "for step in range(1,50):\n",
    "    series_l_x.append(step)\n",
    "    series_n_x.append(step)\n",
    "    if step % 2 == 1:\n",
    "        ans += 4.0 / (j * (j + 1) * (j + 2))\n",
    "        ans1 -= 4.0 / j1\n",
    "    else:\n",
    "        ans -= 4.0 / (j * (j + 1) * (j + 2))\n",
    "        ans1 += 4.0 / j1\n",
    "    ans=round(ans,15)\n",
    "    ans1=round(ans1,15)\n",
    "    series_n_y.append(ans)\n",
    "    series_l_y.append(ans1)\n",
    "    j += 2 \n",
    "    j1 += 2\n",
    "fig = plt.figure(figsize=(17,7))  \n",
    "plt.scatter(series_n_x,series_n_y)\n",
    "plt.plot(series_n_x,series_n_y,label='Nilakantha Series')\n",
    "plt.scatter(series_l_x,series_l_y, color=\"r\")\n",
    "plt.plot(series_l_x,series_l_y,color=\"r\", label=\"Gregory-Leibniz Series\")\n",
    "plt.title(\"Calculating Pi - Infinite Series\")\n",
    "plt.ylabel('Estimated Pi')\n",
    "plt.xlabel('Number of Elements')\n",
    "plt.grid()\n",
    "plt.legend()\n",
    "plt.show()"
   ]
  },
  {
   "cell_type": "markdown",
   "metadata": {},
   "source": [
    "We can see that the Gregory-Leibniz Series shows more variablility than the Nilakantha Series, particularly for smaller numbers of elements. However they do start to converge as the number of elements increases.\n",
    "\n",
    "#### [History of Calculating Pi ](https://www.piday.org/pi-facts/)\n",
    "\n",
    "- In around 250 BC, [Archimedes](http://www.ams.org/publicoutreach/math-history/hap-6-pi.pdf) presented what is thought to be the first rigourous calculation of Pi, using fractions, where $3.1408 < π < 3.14285$.\n",
    "\n",
    "- In 1600, [Ludolph van Ceulen](http://www.mathscareers.org.uk/article/celebrating-pi-day-ludolph-van-ceulen/) produced a **35 digit** approximation of Pi and took 25 years of calculations which were done by hand. Ludolph’s achievement was so great that when he died, his upper and lower bounds for Pi were inscribed on his tombstone. \n",
    "\n",
    "- By 1665, Isaac Newton calculated Pi to **16 decimal places**. \n",
    "\n",
    "- It was in the early 1700s that Thomas Lagney calculated **127 decimal places** of Pi reaching a new record. \n",
    "\n",
    "- In the second half of the twentieth century, the number of digits of Pi increased from about 2000 to **500,000**. \n",
    "\n",
    "- In 2017 a Swiss scientist [Peter Trueb](https://pi2e.ch) computed more than **22 trillion digits** of Pi, which stood as the record until...\n",
    "\n",
    "- The record for calculating Pi was set by [Emma Haruka Iwao](https://blog.google/products/google-cloud/most-calculated-digits-pi/) in 2019, who computed Pi to 31,415,926,535,897 digits in 121 days using cloud computing infrastructure!\n",
    "\n",
    "#### More Pi History\n",
    "- [A Brief History of Pi](https://www.pcworld.com/article/191389/a-brief-history-of-pi.html)"
   ]
  },
  {
   "cell_type": "markdown",
   "metadata": {},
   "source": [
    "![](https://raw.githubusercontent.com/callysto/callysto-sample-notebooks/master/notebooks/images/Callysto_Notebook-Banners_Bottom_06.06.18.jpg)"
   ]
  },
  {
   "cell_type": "markdown",
   "metadata": {},
   "source": [
    "[![Callysto.ca License](https://github.com/callysto/curriculum-notebooks/blob/master/callysto-notebook-banner-bottom.jpg?raw=true)](https://github.com/callysto/curriculum-notebooks/blob/master/LICENSE.md)"
   ]
  }
 ],
 "metadata": {
  "kernelspec": {
   "display_name": "Python 3",
   "language": "python",
   "name": "python3"
  },
  "language_info": {
   "codemirror_mode": {
    "name": "ipython",
    "version": 3
   },
   "file_extension": ".py",
   "mimetype": "text/x-python",
   "name": "python",
   "nbconvert_exporter": "python",
   "pygments_lexer": "ipython3",
   "version": "3.8.3"
  }
 },
 "nbformat": 4,
 "nbformat_minor": 2
}
