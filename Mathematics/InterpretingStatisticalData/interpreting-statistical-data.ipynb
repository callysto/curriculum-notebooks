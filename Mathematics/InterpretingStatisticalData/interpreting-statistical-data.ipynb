{
 "cells": [
  {
   "cell_type": "markdown",
   "metadata": {},
   "source": [
    "![Callysto.ca Banner](https://github.com/callysto/curriculum-notebooks/blob/master/callysto-notebook-banner-top.jpg?raw=true)\n",
    "\n",
    "<a href=\"https://hub.callysto.ca/jupyter/hub/user-redirect/git-pull?repo=https%3A%2F%2Fgithub.com%2Fcallysto%2Fcurriculum-notebooks&branch=master&subPath=Mathematics/InterpretingStatisticalData/interpreting-statistical-data.ipynb&depth=1\" target=\"_parent\"><img src=\"https://raw.githubusercontent.com/callysto/curriculum-notebooks/master/open-in-callysto-button.svg?sanitize=true\" width=\"123\" height=\"24\" alt=\"Open in Callysto\"/></a>"
   ]
  },
  {
   "cell_type": "code",
   "execution_count": 1,
   "metadata": {},
   "outputs": [],
   "source": [
    "import random\n",
    "import math\n",
    "import scipy as sp\n",
    "import scipy.stats as st\n",
    "import pandas as pd\n",
    "import numpy as np\n",
    "import matplotlib.pyplot as plt\n",
    "\n",
    "from numpy import linspace\n",
    "from scipy.stats import truncnorm\n",
    "from ipywidgets import widgets, interact, Layout, Button, Box, interact_manual, fixed\n",
    "from IPython.display import display, Markdown, Javascript, HTML"
   ]
  },
  {
   "cell_type": "code",
   "execution_count": 4,
   "metadata": {},
   "outputs": [],
   "source": [
    "# Function: obtains z-value to use given confidence level\n",
    "# Input: confidence level (enter value from 0 to 1.00)\n",
    "# Output: positive z-value\n",
    "\n",
    "def get_z_value(confidence_level):\n",
    "    \n",
    "    z_value_to_obtain = 1 - ((1-confidence_level)/2)\n",
    "    \n",
    "    z_value = st.norm.ppf(z_value_to_obtain)\n",
    "    \n",
    "    return round( z_value , 4 )\n",
    "\n",
    "# Function: calculate confidence inteval using 95% confidence level\n",
    "# Input: data set (as a list), confidence level, and a string for output 'confidence interval','mean','std','error'\n",
    "# Output: confidence interval\n",
    "# Example: calculate_confidence_interval([12,19,32,1,9,10,23,23,12,19],'confidence interval')\n",
    "\n",
    "def calculate_confidence_interval(data_set,get_output,confidence_level):\n",
    "    \n",
    "    # Associated z-value with 95% confidence level\n",
    "    \n",
    "    z = get_z_value(confidence_level)\n",
    "    \n",
    "    # Convert data set\n",
    "    \n",
    "    data_set = np.array(data_set)\n",
    "    \n",
    "    # Data set parameters\n",
    "    \n",
    "    n = data_set.size\n",
    "    x = np.mean(data_set)\n",
    "    s = np.std(data_set)\n",
    "    moe = z*(s/n**(1/2))\n",
    "    \n",
    "    # Output\n",
    "    \n",
    "    confidence_interval = ( x-z*(s/n**(1/2)) , x+z*(s/n**(1/2)) )\n",
    "    \n",
    "    if(get_output == 'confidence interval'):\n",
    "        \n",
    "        return confidence_interval\n",
    "    \n",
    "    if(get_output == 'mean'):\n",
    "        \n",
    "        return x\n",
    "    \n",
    "    if(get_output == 'std'):\n",
    "        \n",
    "        return s\n",
    "    \n",
    "    if(get_output == 'margin of error'):\n",
    "        \n",
    "        return moe\n",
    "\n",
    "# Function: modified truncated normal\n",
    "# Input: mean, standard deviation, lower bound, upper bound \n",
    "# Output: truncated normal value\n",
    "# Example: get_truncated_normal(mean=8,sd=2,low=1,upp=10)\n",
    "\n",
    "def get_truncated_normal(mean=0, sd=1, low=0, upp=10):\n",
    "    \n",
    "    return truncnorm( (low - mean) / sd, (upp - mean) / sd, loc=mean, scale=sd)\n",
    " \n",
    "# Function: generate data points that are noramlly distributed \n",
    "# Input: mean, standard deviation, lower bound, upper bound, number of data points\n",
    "# Output: list of data points where the data follow a normal distribution\n",
    "# Example: generate_data_points(175,15,150,200,100)\n",
    "\n",
    "def generate_data_values(mean,st_dev,lower_bd,uper_bd,data_pts):\n",
    "    \n",
    "    x = get_truncated_normal(mean=mean,sd=st_dev,low=lower_bd,upp=uper_bd)\n",
    "    \n",
    "    return x.rvs(data_pts)\n",
    "\n",
    "# Function: create a list of intervals \n",
    "# Input: start value, size of interval, number of intervals \n",
    "# Output: list of intervals with fixed sizes\n",
    "# Example: create_intervals(150,2.5,20)\n",
    "\n",
    "def create_intervals(start,interval_size,number_of_intervals):\n",
    "    \n",
    "    list_of_intervals = []\n",
    "    \n",
    "    for i in range(number_of_intervals):\n",
    "        \n",
    "        current_interval = [ start + i*interval_size , start + (i+1)*interval_size ]\n",
    "        \n",
    "        list_of_intervals.append(current_interval)\n",
    "    \n",
    "    return list_of_intervals\n",
    "\n",
    "# Function: create a dictionary with interval as keys\n",
    "# Input: list of intervals\n",
    "# Output: dictionary, with keys as intervals, values intiated at 0\n",
    "# Example: interval_dictionary( [ [1,2] , [3,4] ])\n",
    "\n",
    "def interval_dict(interval_list):\n",
    "    \n",
    "    interval_item_count = {}\n",
    "\n",
    "    for interval in interval_list:\n",
    "    \n",
    "        interval_key = \"[\" + str(interval[0]) + \",\" + str(interval[1]) + \"]\"\n",
    "\n",
    "        interval_item_count[interval_key] = 0\n",
    "        \n",
    "    return interval_item_count\n",
    "\n",
    "# Function: counts the number of values that belong in a certain interval\n",
    "# Input: values of data, list of intervals, dictionary with intervals as key\n",
    "# Ouput: dictionary with interval as key and value as the number of times a value in the data set lives in that interval\n",
    "\n",
    "def interval_value_count(data_values,interval_list,interval_dict):\n",
    "\n",
    "    for value in data_values:\n",
    "        \n",
    "        for interval in interval_list:\n",
    "\n",
    "            lower_bd = interval[0]\n",
    "            upper_bd = interval[1]\n",
    "\n",
    "            interval_key = \"[\" + str(lower_bd) + \",\" + str(upper_bd) + \"]\"\n",
    "            \n",
    "            if(lower_bd <= value and value < upper_bd):\n",
    "                \n",
    "                interval_dict[interval_key] += 1\n",
    "                \n",
    "    return interval_dict\n",
    "\n",
    "# Function: plots confidence intervals, showing where the real mean lies and showing intervals that \"miss\" the mean\n",
    "# Input: data set, lower bound and upper bound of data set, sample set, iteration (number of intervals to generate)\n",
    "# Output: confidence interval plots\n",
    "\n",
    "def ci_plot(data, lower_bound, upper_bound, sample, iterations, print_statement,confidence_level):\n",
    "\n",
    "    fig = plt.figure(figsize=(20, 0.75*iterations))\n",
    "    ax = fig.add_subplot(111)\n",
    "    \n",
    "    # Obtain data set statistics\n",
    "\n",
    "    data = np.array(data)\n",
    "    data_mean = data.mean()\n",
    "    \n",
    "    # We could use the data set's minimum and maximum to set as x_min and x_max, but we've set it to be 150,200\n",
    "    # in this case, just to make the plot visually appealing. \n",
    "    # (i.e. the dataset is randomly generated from 150-200, however, we might have 151.3,198.7 as min,max.\n",
    "    \n",
    "    xmin = lower_bound\n",
    "    xmax = upper_bound\n",
    "    \n",
    "    # Plot confidence intervals\n",
    "\n",
    "    y = 2*iterations\n",
    "    counter = 0\n",
    "    \n",
    "    for i in range(iterations):\n",
    "\n",
    "        sample_set = random.sample(data.tolist(), sample)\n",
    "        confidence_interval = calculate_confidence_interval(sample_set, 'confidence interval',confidence_level)    \n",
    "        plt.hlines(0.75*i , xmin, confidence_interval[0])\n",
    "        plt.hlines(0.75*i, confidence_interval[1], xmax)\n",
    "\n",
    "        if (data_mean < confidence_interval[0] or data_mean > confidence_interval[1]):\n",
    "\n",
    "            plt.hlines(0.75*i, confidence_interval[0], confidence_interval[1], color = 'r', linewidth = 4)\n",
    "            plt.text(confidence_interval[0], 0.75*i -0.1, '(', horizontalalignment='center',  fontsize = 25, color = 'r', weight = 'bold')\n",
    "            plt.text(confidence_interval[1],  0.75*i -0.1, ')', horizontalalignment='center', fontsize = 25, color = 'r', weight = 'bold')  \n",
    "            counter += 1\n",
    "        else:\n",
    "\n",
    "            plt.hlines(0.75*i, confidence_interval[0], confidence_interval[1], color = 'g', linewidth = 4)\n",
    "            plt.text(confidence_interval[0], 0.75*i -0.1, '(', horizontalalignment='center',  fontsize = 25, color = 'g', weight = 'bold')\n",
    "            plt.text(confidence_interval[1],  0.75*i -0.1, ')', horizontalalignment='center', fontsize = 25, color = 'g', weight = 'bold')\n",
    "\n",
    "        ci_min = str(\"{0:.2f}\".format(confidence_interval[0]))\n",
    "        ci_max = str(\"{0:.2f}\".format(confidence_interval[1]))\n",
    "\n",
    "        plt.text(confidence_interval[0], 0.75*i -0.4, ci_min, horizontalalignment='right',  fontsize = 12)\n",
    "        plt.text(confidence_interval[1],  0.75*i -0.4, ci_max, horizontalalignment='left', fontsize = 12)\n",
    "\n",
    "        plt.text(lower_bound - 3, 0.75*i, lower_bound, verticalalignment = 'center', fontsize = 15)\n",
    "        plt.text(upper_bound + 2, 0.75*i, upper_bound, verticalalignment = 'center', fontsize = 15)\n",
    "    \n",
    "    if (print_statement == True):\n",
    "        \n",
    "        percentage_containing_true = float(\"{0:.2f}\".format((iterations-counter)/iterations))*100\n",
    "        percentage_not_containing_true = (100 - percentage_containing_true)\n",
    "        \n",
    "        display(Markdown(\"<center>\" + str(round(percentage_containing_true,2)) +\"% of the confidence intervals contain the true mean value. That is, \" \n",
    "                         + str(round(percentage_not_containing_true,2)) + \"% do not. <center>\"))\n",
    "            \n",
    "    plt.text(data_mean, 0.75*iterations+0.25 , str(\"{0:.2f}\".format(data_mean)), horizontalalignment = 'center', fontsize = 15, color = 'b')\n",
    "    plt.vlines(data_mean, -0.25, iterations, linestyle = '--', color = 'b', linewidth = 3)\n",
    "    ax.set_xlim(lower_bound-5,upper_bound+10)\n",
    "    ax.set_ylim(-.25,0.75*iterations)\n",
    "    plt.axis('off')\n",
    "    plt.show()\n",
    "    \n",
    "# Function: executes the cell below on click event using a Jupyter button widget\n",
    "    \n",
    "def run_cells(ev):\n",
    "    \n",
    "    display(Javascript('IPython.notebook.execute_cell_range(IPython.notebook.get_selected_index()+1,IPython.notebook.get_selected_index()+2)'))\n",
    "    \n",
    "# Function: executes the cell above on click event using Jupyter button widget\n",
    "# Note: I tried parametrizing this function by allowing for which range of cells to run, but the JS command\n",
    "#       does not work for some reason.\n",
    "    \n",
    "def run_cell_above(ev):\n",
    "    \n",
    "    display(Javascript('IPython.notebook.execute_cell_range(IPython.notebook.get_selected_index()-1,IPython.notebook.get_selected_index())'))\n",
    "\n",
    "# Function: executes the cell previous on click event using a Jupyter button widget\n",
    "\n",
    "def run_prev(ev):\n",
    "    \n",
    "    display(Javascript('IPython.notebook.execute_cell_range(IPython.notebook.get_selected_index()-2,IPython.notebook.get_selected_index()+0)'))\n",
    "    \n",
    "def run_above_current(ev):\n",
    "    \n",
    "    display(Javascript('IPython.notebook.execute_cell_range(IPython.notebook.get_selected_index()-2,IPython.notebook.get_selected_index()+1)'))    \n",
    "    \n",
    "# Function: checks if input is float\n",
    "# Input: string \n",
    "# Output: boolean\n",
    "\n",
    "def isfloat(val):\n",
    "    \n",
    "    try: \n",
    "        \n",
    "        float(val)\n",
    "        \n",
    "        return True\n",
    "    \n",
    "    except ValueError:\n",
    "        \n",
    "        return False\n",
    "    \n",
    "# Function: check if input is positive float\n",
    "# Input: string\n",
    "# Output: 1 or 0\n",
    "    \n",
    "def is_positive_float(val):\n",
    "\n",
    "    if(isfloat(val) == True and float(val) >= 0):\n",
    "\n",
    "        return 1\n",
    "\n",
    "    else:\n",
    "\n",
    "        return 0"
   ]
  },
  {
   "cell_type": "code",
   "execution_count": 5,
   "metadata": {},
   "outputs": [],
   "source": [
    "# Parameters for data generation\n",
    "\n",
    "data_points = 25000\n",
    "mean = 175\n",
    "standard_error = 15\n",
    "lower_bound = 150\n",
    "upper_bound = 200\n",
    "\n",
    "# Functions to call to set up dictionary containing height intervals and population count\n",
    "        \n",
    "data_values = generate_data_values(mean,standard_error,lower_bound,upper_bound,data_points)\n",
    "interval_list = create_intervals(150,2.5,20)\n",
    "interval_dictionary = interval_dict(interval_list)\n",
    "data_dict = interval_value_count(data_values,interval_list,interval_dictionary)\n",
    "\n",
    "# Note: \n",
    "# This interval is added with 0 value to get the last ticker value of 200 to show up in the bar plot later\n",
    "# It's for improving the presentation of the bar plot\n",
    "\n",
    "data_dict['200.0,202.25'] = 0"
   ]
  },
  {
   "cell_type": "markdown",
   "metadata": {},
   "source": [
    "---\n",
    "<h1 align='center'>Developing Statistical Reasoning: Interpreting Statistical Data</h1>"
   ]
  },
  {
   "cell_type": "markdown",
   "metadata": {},
   "source": [
    "## Abstract\n",
    "\n",
    "Statistical reasoning plays an increasingly large role in everyday's life, from politics (opinion polls) to sports (statistics about sports teams), through many news about health or economy for example. The goal of this notebook is to introduce and illustrate two important notions about interpreting statistical data: the notions of confidence *interval* and confidence *level*.\n",
    "\n",
    "This notebook is split into two parts. The first part is a short lecture about the statistical concepts we want to work with. The second one provides some interactive tools to experiment with the concepts and illustrates their use in some real-world applications."
   ]
  },
  {
   "cell_type": "markdown",
   "metadata": {},
   "source": [
    "## Part 1 - Statistical Concepts"
   ]
  },
  {
   "cell_type": "markdown",
   "metadata": {},
   "source": [
    "### 1A. Mean and Standard Deviation\n",
    "\n",
    "We first introduce well known concepts: mean and standard deviation.\n",
    "\n",
    "<div class=\"alert alert-warning\">\n",
    "    <font color=\"black\"><i>Definition:</i> <b>Mean.</b> Given a data set of $n$ numbers $\\{x_1,x_2,\\dots,x_n\\}$, we denote the $\\textbf{mean}$ of the data set $\\overline{x}$ (pronounced \"x bar\") to be\n",
    "$$ $$\n",
    "$$\\overline{x} = \\frac{x_1+x_2+\\cdots+x_n}{n}.$$</font>\n",
    "</div>\n",
    "\n",
    "**Example:** Suppose we have the following set of data: $\\{13, 19, 7, 3\\}$. Here, we have $4$ numbers, so $n=4$. The mean of this data set is given by:\n",
    "\n",
    "$$\\begin{align} \n",
    "\\overline{x} &= \\frac{x_1+x_2+x_3+x_4}{4} \\\\\n",
    "&= \\frac{13+19+7+3}{4} \\\\\n",
    "&= 10.5 \n",
    "\\end{align}$$"
   ]
  },
  {
   "cell_type": "markdown",
   "metadata": {},
   "source": [
    "<div class=\"alert alert-warning\">\n",
    "    <font color=\"black\"><i>Definition:</i> <b>Standard Deviation.</b> Given a data set of $n$ numbers $\\{x_1,x_2,\\dots,x_n\\}$, we define the $\\textbf{standard deviation}$ of the data set, that we denote by $s$, as follows:\n",
    "$$\\displaystyle s = \\sqrt{ \\frac{1}{n}\\left( (x_1-\\overline{x})^2 + (x_2-\\overline{x})^2 + \\cdots + (x_n-\\overline{x})^2 \\right) }.$$</font>\n",
    "</div>\n",
    "\n",
    "**Example:** Suppose again that we have the following set of data: $\\{13, 19, 7, 3\\}$. In the previous example, we've calculated $n=4$ and $\\overline{x} = 10.5$. The standard deviation of this data set is given to be:\n",
    "\n",
    "$$\\begin{align} s &= \\sqrt{ \\frac{1}{4}\\left( (x_1-\\overline{x})^2 + (x_2-\\overline{x})^2 + (x_3-\\overline{x})^2 + + (x_4-\\overline{x})^2 \\right) }  \\\\\n",
    "&= \\sqrt{ \\frac{1}{4}\\left( (13 - 10.5)^2 + (19-10.5)^2 + (7-10.5)^2 + (3-10.5)^2 \\right) } \\\\\n",
    "&= \\sqrt{ \\frac{1}{4}\\left( 6.25 + 72.5 + 12.25 + 56.25 \\right) } \\\\\n",
    "&= \\sqrt{ \\frac{147.25}{4} } \\\\\n",
    "&\\approx 6.06733 \\\\\n",
    "\\end{align}$$\n",
    "\n",
    "**Significance:** \n",
    "The standard deviation complements the mean by telling us how much we can expect that an element of our data set deviates from the mean. The mean alone does not differentiate between the case where all elements of our data set have the same value (for example $\\{2,2,2,2\\}$ with $\\overline{x} = 2$ and $s=0$) or have value alternating around the mean ($\\{1,3,1,3\\}$ also has $\\overline{x} = 2$ but $s=1$).\n",
    "\n",
    "The standard deviation of a data set is a measure that quantifies the amount of variation in the data set. A lower standard deviation indicates that the values in the data generally lay closer to the mean of the data set, whereas a high standard deviation says that the data points are more spread apart and take over a wider range of values that are further from the mean."
   ]
  },
  {
   "cell_type": "markdown",
   "metadata": {},
   "source": [
    "### 1B. Sampling Data\n",
    "\n",
    "We consider now the following context, inspired by real-world application of statistics. We want to obtain the average (mean) value of a statistic over a very large number of cases. For example, we could be interested in the average height of people in Canada. In order to obtain the *exact answer*, we would need to measure the height of all people living in Canada. This is obviously impossible. So we need to proceed in a different way: we will select a **random sample** of the Canadian population and obtain the height measurements of the people in that sample. And the question that naturally occurs is: how can we deduce anything about the average height of the whole population from this sample? Surprisingly, we will see that we can say something, using the notions of **confidence level**, **confidence interval** and **margin of error**, concepts you might have heard about especially in opinion polls. This is based on non-trivial statistics, and we will not explore the technical aspects, but illustrate these notions with concrete examples.\n",
    "\n",
    "#### Confidence interval and confidence level\n",
    "So there exists a quantity $x$ we want to estimate because we can not obtain it exactly (the average height of people living in Canada in our example). We have measured the height of a random sample of $n$ people, let's denote it by  $\\{x_1,x_2,\\dots,x_n\\}$.\n",
    "\n",
    "The first important point related to sampling data is to estimate the mean of a quantity, that is, we will not compute a single number to approximate $x$, but an **interval** $(x_\\text{low},x_\\text{high})$. So we decide to lose *precision*, as an interval is less precise than a single number. The key point is that we want to be **confident**  that the value $x$ is in that interval. This notion of confidence is important and we want to quantify it in some way. We would like to be able to say something like \"I am $95\\%$ confident that the value $x$ is in the interval $(x_\\text{low},x_\\text{high})$ I computed\". This is a sentence we read often with opinion polls, aimed at describing their **accuracy**.\n",
    "\n",
    "Now, for us, we want to understand how to interpret the expression \"$95\\%$ confident\". In our example about averaging the height of Canadian people, it can be understood as follows: if we were going to repeat *often* (ideally an infinite number of times ... obviously this is impossible) and *independently* (our samples are truly random) the process of:\n",
    "* selecting a random set of $n$ people\n",
    "* measuring the height of the sampled people, $\\{x_1,x_2,\\dots,x_n\\}$\n",
    "* using the same method to deduce from $\\{x_1,x_2,\\dots,x_n\\}$ the interval $(x_\\text{low},x_\\text{high})$\n",
    "\n",
    "then $95\\%$ of the intervals generated as above would contain the exact value $x$ we want to estimate.\n",
    "\n",
    "So we have **no guarantee** about the precise interval $(x_\\text{low},x_\\text{high})$ we computed from a specific sample $\\{x_1,x_2,\\dots,x_n\\}$ but we expect it contains $x$ with probability $95\\%$. Note that we selected a confidence level that gives us an interval of 95%, as it's by far the most common number, but realistically we could set that level at whatever we wanted. Setting a higher confidence level results in a wider confidence interval (why?), whereas a lower confidence level results in a narrower confidence interval.\n",
    "\n",
    "#### Computing a confidence interval for a given confidence level\n",
    "\n",
    "The question now is: if we want to have a given confidence level (so we chose it), what is the method to compute $(x_\\text{low},x_\\text{high})$ from $\\{x_1,x_2,\\dots,x_n\\}$? Let's denote the confidence level by $\\beta$, a real number between $0$ and $1$ ($\\beta=0.95$ means a confidence level of $95\\%$).\n",
    "\n",
    "The method to compute $(x_\\text{low},x_\\text{high})$ is as follows:\n",
    "* Step 1. We calculate the mean $\\overline{x}$ of the sampled set $\\{x_1,x_2,\\dots,x_n\\}$, and its standard deviation $s$.\n",
    "* Step 2. We find the **z-score** corresponding to the chosen confidence level $\\beta$ (we will not discuss in this notebook how these z-scores are obtained, but they can be read in a table, see http://www.statisticshowto.com/tables/z-table/ and we provide a separate notebook to compute it given $\\beta$).\n",
    "* Step 3. Calculate $\\displaystyle x_\\text{low}=\\overline{x}- z\\frac{s}{\\sqrt{n}}$ and $\\displaystyle x_\\text{high}= \\overline{x}+ z\\frac{s}{\\sqrt{n}}$. \n",
    "So our confidence interval is:\n",
    "$$(x_\\text{low},x_\\text{high}) = \\displaystyle \\left(\\overline{x}- z\\frac{s}{\\sqrt{n}} ,\\overline{x}+ z\\frac{s}{\\sqrt{n}} \\right).$$\n",
    "\n",
    "**Comments:** <br>\n",
    "This formula is actually quite intuitive. We can see that this confidence interval is centred around the mean of the sampled data ($\\overline{x}$), with some slack on both sides that depends on the standard deviation, the number of samples and the mysterious z-score. So intuitively, we assume that $\\overline{x}$ is more or less our approximation of $x$; this makes sense. But if the standard deviation is large (i.e. we see lots of variation in the sampled measurements) then we widen the interval. Conversely, if we sample many data points (i.e. if $n$ is large) then we shrink the interval (because we divide by $\\sqrt{n}$); again this make sense, as the more we sample the more we expect to get a good idea of the quantity we want to approximate. What is nice is that all these ideas combine into a quite simple formula, thanks to the z-score.\n",
    "\n",
    "**Example:** <br> \n",
    "Engineers are concerned with designing devices operated by workers to achieve high productivity and comfort. The paper [Studies on Ergonomically Designed Alphanumeric Keyboards (1985)](https://pubmed.ncbi.nlm.nih.gov/4018810/) reports a study of preferred height for a keyboard. A sample of $n=31$ is given and a preferred keyboard height was reported by each of the $31$ sampled typists, with the sample average preferred being $\\overline{x} = 80.0$ cm and the standard deviation being $s=2.0$ cm. Using the steps above, how may we obtain a 95% confidence interval for the real mean - the real preferred height for the population of experienced typists.\n",
    "\n",
    "* Step 1. We know $n=31, \\overline{x}=80$, and $s=2$.\n",
    "* Step 2. Since we want a confidence level of 95%, we obtain an associated z-score of $1.96$. \n",
    "* Step 3. Calculating the estimates, we have: $\\overline{x} \\pm 1.96\\cdot \\frac{s}{\\sqrt{n}} = 80 \\pm (1.96)\\frac{2.0}{\\sqrt{31}} = 80.0 \\pm 0.7 $. So $x_\\text{low} = 79.3$ and $x_\\text{high} = 80.7$. \n",
    "\n",
    "So our confidence interval is $(79.3,80.7)$ and the confidence level of this interval (the probability it contains the mean preferred height for the population of experienced typists) is 95%. we can observe that the interval is quite narrow, thanks to the small standard deviation and the large value of $n$.\n",
    "\n",
    "#### Margin of error.\n",
    "Last we introduce the notion of margin of error:\n",
    "\n",
    "<div class=\"alert alert-warning\">\n",
    "    <font color=\"black\"><i>Definition:</i> <b>Margin of Error.</b> In a confidence interval, we define the value $z\\frac{s}{\\sqrt{n}}$ to be the $\\textbf{margin of error}$ of the confidence interval.</font>\n",
    "</div>\n",
    "\n",
    "So we can see that actually the margin of error is nothing else that the half-size of the interval, based on the standard deviation, the sample size and the z-score associated to the confidence level. \n",
    "\n",
    "This is exactly how you should understand the notion of margin of error that we see in many opinion polls: they have polled a sample of $n$ people, chosen a confidence level, computed the corresponding confidence interval and report the centre value $\\overline{x}$ and the half-size of the interval as margin of error."
   ]
  },
  {
   "cell_type": "markdown",
   "metadata": {},
   "source": [
    "## Part 2 - Interactive Activities and Real Examples"
   ]
  },
  {
   "cell_type": "markdown",
   "metadata": {},
   "source": [
    "## How Does the Sample Size, Confidence Level, and Margin of Error Affect Confidence Intervals?\n",
    "\n",
    "When calculating confidence interval, margin of error, and determining what confidence level to use, the size of the random sample we use is important. \n",
    "\n",
    "In the example we develop now, we look at the height distribution of men, among a population size of 25,000 individuals. In an interactive tool below, we will be looking at the impact of the random sample size on the size of the confidence interval and the margin of error."
   ]
  },
  {
   "cell_type": "code",
   "execution_count": 6,
   "metadata": {},
   "outputs": [
    {
     "data": {
      "image/png": "[encoded data removed]",
      "text/plain": [
       "<Figure size 1440x360 with 1 Axes>"
      ]
     },
     "metadata": {
      "needs_background": "light"
     },
     "output_type": "display_data"
    }
   ],
   "source": [
    "x_values = data_dict.keys()\n",
    "y_values = list( data_dict.values() )\n",
    "\n",
    "# Fix labeling for barchart\n",
    "\n",
    "x_labels = linspace(150,200, len(y_values) ) \n",
    "\n",
    "# Bar plot\n",
    "\n",
    "fig = plt.figure( figsize=(20,5) )\n",
    "ax = fig.add_subplot(111)\n",
    "bars = plt.bar( x_labels + (1.25) , y_values , 2.5 , hatch = '//' , alpha = 1 , edgecolor = 'black' , color = 'orange' , linewidth=2 )\n",
    "mean_line = plt.vlines(data_values.mean(), 0, 2000, linestyle = '--', color = 'b', linewidth = 3)\n",
    "mean_text = plt.text(data_values.mean(), 2150 , 'Mean = ' + str(\"{0:.2f}\".format(data_values.mean())), horizontalalignment = 'center', fontsize = 15, color = 'b')\n",
    "# Note:\n",
    "# A dummy bar is intoduced at the right end of the bar plot, this is to have the maximum value of the plot\n",
    "# on the x-axis show up for presentation purposes.\n",
    "\n",
    "bars[-1].set_color('white')\n",
    "\n",
    "# Plot display commands\n",
    "\n",
    "ax.set_ylim(0,2500)\n",
    "plt.title(\"Height Distribution of Men \\n (Population Size = 25000)\",fontsize = 20)\n",
    "plt.xlabel('Height (in centimeters)',fontsize = 16)\n",
    "plt.ylabel('Number of people',fontsize = 16)\n",
    "plt.xticks(fontsize = 16)\n",
    "plt.yticks(fontsize = 16)\n",
    "plt.show()"
   ]
  },
  {
   "cell_type": "code",
   "execution_count": 62,
   "metadata": {},
   "outputs": [
    {
     "data": {
      "application/vnd.jupyter.widget-view+json": {
       "model_id": "8ca41dd5dca9487788fe16d0cdf69f0d",
       "version_major": 2,
       "version_minor": 0
      },
      "text/plain": [
       "VBox(children=(FigureWidget({\n",
       "    'data': [{'type': 'histogram',\n",
       "              'uid': 'f148b88e-65f4-4d3e-b143…"
      ]
     },
     "metadata": {},
     "output_type": "display_data"
    }
   ],
   "source": [
    "import ipywidgets as widgets\n",
    "import plotly.graph_objects as go\n",
    "import math\n",
    "import numpy as np\n",
    "\n",
    "sampleSize = widgets.IntSlider(value=1000, min=100, max=10000, step=100, description='Sample size')\n",
    "conLev = widgets.FloatSlider(value=0.95, min=0.01, max=0.99, step=0.01, description='Confidence level')\n",
    "sampleMean = widgets.FloatSlider(value=1.75, min=1.0, max=2, step=0.01, description='Mean')\n",
    "stDev = widgets.IntSlider(value=5, min=1, max=10, step=1, description='Standard deviation')\n",
    "\n",
    "fig1 = go.FigureWidget()\n",
    "fig1.add_histogram()\n",
    "\n",
    "def response(change):\n",
    "    with fig1.batch_update():\n",
    "        np.random.seed(1)\n",
    "        barData = np.random.normal(sampleMean.value, stDev.value, sampleSize.value)       \n",
    "        fig1.data[0].x = barData\n",
    "        fig1.update_layout(xaxis_range=[-30,30],\n",
    "                          title=rf'Height Distribution of Men (n={sampleSize.value})',\n",
    "                          xaxis_title='Height (cm)',\n",
    "                          yaxis_title='Count')\n",
    "\n",
    "        \n",
    "sampleSize.observe(response, names=\"value\")\n",
    "conLev.observe(response, names=\"value\")\n",
    "sampleMean.observe(response, names=\"value\")\n",
    "stDev.observe(response, names=\"value\")\n",
    "response('')\n",
    "\n",
    "widgets.VBox([fig1, sampleSize, conLev, sampleMean, stDev])"
   ]
  },
  {
   "cell_type": "markdown",
   "metadata": {},
   "source": [
    "In the bar chart above, each bar represents the number of men from the population that belongs in a certain height range. We have used intervals of size 2.5 to group our countings. For instance, the first bar counts the number of men with height 150-152.5, and we see that they are approximately 500 of the 25,000 population size. The next bar counts the number of men with height 152.5-150, with the count approximately at 600, and so on. The dashed line in blue shows the location of the mean in the bar plot."
   ]
  },
  {
   "cell_type": "markdown",
   "metadata": {},
   "source": [
    "Using a 95% confidence level means that if we record the heights of say 1,000 men from the population over and over again and calculate the confidence interval, we expect about 95% of the confidence intervals will obtain the true average height of men in the population.\n",
    "\n",
    "Try it for yourself! \n",
    "\n",
    "The interactive tool below generates confidence intervals using 95% confidence levels for a sample size of your choice. The green intervals obtain the true mean whereas red intervals do not. With this tool you can appreciate visually how increasing the number of samples impacts positively the likelihood that the confidence intervals actually contain the mean height."
   ]
  },
  {
   "cell_type": "code",
   "execution_count": 10,
   "metadata": {},
   "outputs": [],
   "source": [
    "# Counter to prevent plotting intervals until run interact is clicked\n",
    "\n",
    "counter_ci = 0"
   ]
  },
  {
   "cell_type": "code",
   "execution_count": 15,
   "metadata": {},
   "outputs": [
    {
     "data": {
      "application/vnd.jupyter.widget-view+json": {
       "model_id": "ec39f7c647a44c2dac06a33179a5c2e6",
       "version_major": 2,
       "version_minor": 0
      },
      "text/plain": [
       "IntSlider(value=2500, description='Sample Size', max=5000, min=20, step=20, style=SliderStyle(description_widt…"
      ]
     },
     "metadata": {},
     "output_type": "display_data"
    },
    {
     "data": {
      "application/vnd.jupyter.widget-view+json": {
       "model_id": "f7b139d34857427aa07869b8a4e20644",
       "version_major": 2,
       "version_minor": 0
      },
      "text/plain": [
       "IntSlider(value=50, description='Number of Intervals', min=5, style=SliderStyle(description_width='initial'))"
      ]
     },
     "metadata": {},
     "output_type": "display_data"
    },
    {
     "data": {
      "application/vnd.jupyter.widget-view+json": {
       "model_id": "d01e8ca0741248d8ac27ccc0633d835b",
       "version_major": 2,
       "version_minor": 0
      },
      "text/plain": [
       "Button(button_style='info', description='Run Interact', layout=Layout(height='30px', width='15%'), style=Butto…"
      ]
     },
     "metadata": {},
     "output_type": "display_data"
    }
   ],
   "source": [
    "# Initialize widgets\n",
    "\n",
    "style = {'description_width': 'initial'}\n",
    "\n",
    "sample_size = widgets.IntSlider(value = 2500, min = 20, max = 5000, step = 20, description = 'Sample Size', style=style, readout_format='d')\n",
    "iterations = widgets.IntSlider(value = 50,min = 5, max = 100, description = 'Number of Intervals', style=style, readout_format='d')\n",
    "ci_button = widgets.Button(button_style='info', description=\"Run Interact\", layout=Layout(width='15%', height='30px'))\n",
    "\n",
    "# Display widgets \n",
    "\n",
    "display(sample_size)\n",
    "display(iterations)\n",
    "display(ci_button)\n",
    "\n",
    "# Plot intervals on click\n",
    "\n",
    "ci_button.on_click( run_cells )"
   ]
  },
  {
   "cell_type": "code",
   "execution_count": 12,
   "metadata": {},
   "outputs": [],
   "source": [
    "# Plot intervals once run interact is clicked \n",
    "\n",
    "counter_ci += 1\n",
    "\n",
    "if counter_ci >= 2:\n",
    "    ci_plot(data_values, lower_bound, upper_bound, sample_size.value , iterations.value, True, 0.95)"
   ]
  },
  {
   "cell_type": "markdown",
   "metadata": {},
   "source": [
    "What happens to the size of the confidence intervals and margin of errors as sample sizes increase? Justify your answer."
   ]
  },
  {
   "cell_type": "code",
   "execution_count": 13,
   "metadata": {},
   "outputs": [],
   "source": [
    "# Text widget for this interactives question prompt\n",
    "\n",
    "samplesize_interp_text = widgets.Textarea( value='', placeholder='', description='', disabled=False , layout=Layout(width='100%', height='100px') )"
   ]
  },
  {
   "cell_type": "code",
   "execution_count": null,
   "metadata": {},
   "outputs": [],
   "source": [
    "# Counter to question attempts\n",
    "\n",
    "counter_samplesize_q = 0"
   ]
  },
  {
   "cell_type": "code",
   "execution_count": 14,
   "metadata": {},
   "outputs": [
    {
     "data": {
      "application/vnd.jupyter.widget-view+json": {
       "model_id": "ee5c091f346d443f96d05b38e5aed2dc",
       "version_major": 2,
       "version_minor": 0
      },
      "text/plain": [
       "Textarea(value='', layout=Layout(height='100px', width='100%'), placeholder='')"
      ]
     },
     "metadata": {},
     "output_type": "display_data"
    },
    {
     "data": {
      "application/vnd.jupyter.widget-view+json": {
       "model_id": "f7887016a1d34b7ca95f1f5d922dbc2f",
       "version_major": 2,
       "version_minor": 0
      },
      "text/plain": [
       "Box(children=(Button(button_style='info', description='Save', layout=Layout(height='30px', width='15%'), style…"
      ]
     },
     "metadata": {},
     "output_type": "display_data"
    }
   ],
   "source": [
    "# Other widgets for this interactive's question prompt \n",
    "\n",
    "box_layout = Layout(display='flex',\n",
    "                    flex_flow='row',\n",
    "                    align_items='stretch',\n",
    "                    width='100%', justify_content = 'center')\n",
    "\n",
    "save_button = widgets.Button(button_style='info',description=\"Save\", layout=Layout(width='15%', height='30px'))\n",
    "save_box = Box(children=[save_button], layout=box_layout)\n",
    "\n",
    "display(samplesize_interp_text)\n",
    "display(save_box)\n",
    "\n",
    "save_button.on_click( run_cells )"
   ]
  },
  {
   "cell_type": "code",
   "execution_count": null,
   "metadata": {},
   "outputs": [],
   "source": [
    "def run_edit_cells( b ):\n",
    "    display(Javascript('IPython.notebook.execute_cell_range(IPython.notebook.get_selected_index()-1,IPython.notebook.get_selected_index())'))\n",
    "    edit_button.close()\n",
    "\n",
    "samplesize_interp = samplesize_interp_text.value\n",
    "\n",
    "edit_button = widgets.Button(button_style='info',description=\"Edit\", layout=Layout(width='15%', height='30px'))\n",
    "\n",
    "answer_button = widgets.Button(button_style='info',description=\"Reveal Answer\", layout=Layout(width='15%', height='30px'))\n",
    "options_box = Box(children=[edit_button, answer_button], layout=box_layout)\n",
    "\n",
    "if ( samplesize_interp != ''):\n",
    "    \n",
    "    samplesize_interp_text.close()\n",
    "    save_button.close()\n",
    "\n",
    "    samplesize_interp_text = widgets.Textarea( value= samplesize_interp, placeholder='', description='', disabled=False , layout=Layout(width='100%', height='100px') )\n",
    "    \n",
    "    display(Markdown('<center>' + samplesize_interp + '</center>'))\n",
    "    display(options_box)\n",
    "    \n",
    "edit_button.on_click( run_edit_cells )\n",
    "answer_button.on_click(run_cells)"
   ]
  },
  {
   "cell_type": "code",
   "execution_count": null,
   "metadata": {},
   "outputs": [],
   "source": [
    "counter_samplesize_q += 1\n",
    "\n",
    "if (counter_samplesize_q >= 2):\n",
    "    display(Markdown(\"<b> Expected Answer: </b> \"))\n",
    "    display(Markdown(\"As sample size increases, confidence intervals and margin of errors decrease.\"))\n",
    "    display(Markdown(\"<b> Explanation: </b> \"))\n",
    "    display(Markdown(\"By increasing sample size, we are increasing our data set and thus, we can acheive a more precise\"\n",
    "                    + \" estimate of the true average height of men in the population. Note that the margin of error is half\" \n",
    "                    + \" of the size of the confidence interval. Hence, we see that if margin of error increases, then confidence increases and if margin of error decreases, then confidence intervals decreases.\")) "
   ]
  },
  {
   "cell_type": "markdown",
   "metadata": {},
   "source": [
    "In the interactive tool below, we will fix our random sample size to be 1,000 individuals and compute 50 confidence intervals. So the only parameter we need to set is the confidence level, anbd we will see how it impacts the margin of error, i.e. the size of the intervals. Indeed the margin of error depends on the sample size (fixed to 1000 here) and the z-value, that gets lower as the confidence level decreases. \n",
    "\n",
    "Below, we can see that as we choose a higher value for the confidence level, the greater the z-value we need to use, which in turns makes the margin of error term larger, thus making the confidence interval larger. Intuitively, this is what we expect as a larger interval is more likely to contain the exact mean we want to estimate. With a low confidence level, the confidence intervals are very tight, and have a higher probability of not containing the true mean."
   ]
  },
  {
   "cell_type": "code",
   "execution_count": null,
   "metadata": {},
   "outputs": [],
   "source": [
    "# Tried a step size of 0.1, but IntSlider widget does not have this feature\n",
    "\n",
    "confidence_level_slider = widgets.IntSlider( value = 50, min = 1, max = 99, description = 'Confidence Level', style=style, readout_format='d')\n",
    "confidence_level_button = widgets.Button(button_style='info', description=\"Run Interact\", layout=Layout(width='15%', height='30px'))\n",
    "\n",
    "display(confidence_level_slider)\n",
    "display(confidence_level_button)\n",
    "\n",
    "confidence_level_button.on_click( run_cells )"
   ]
  },
  {
   "cell_type": "code",
   "execution_count": null,
   "metadata": {},
   "outputs": [],
   "source": [
    "# Obtain confidence level and z-values\n",
    "\n",
    "confidence_level = (confidence_level_slider.value)*(0.01)\n",
    "z = get_z_value(confidence_level)\n",
    "\n",
    "# Display\n",
    "\n",
    "confidence_level_str = str( float(confidence_level)*100)[:-2] + \"\\%\" \n",
    "message_out = \"To obtain a confidence interval with $\" + confidence_level_str + \"$ confidence level requires a z-value of \" + \"$\" + str(z) + \".$\"\n",
    "\n",
    "display(Markdown(message_out))\n",
    "\n",
    "# Interval plots\n",
    "\n",
    "sample_size_value = 1000\n",
    "number_of_intervals = 50\n",
    "\n",
    "ci_plot(data_values, lower_bound, upper_bound, sample_size_value , number_of_intervals, True, confidence_level)"
   ]
  },
  {
   "cell_type": "markdown",
   "metadata": {},
   "source": [
    "## Confidence Intervals and Confidence Levels in Media"
   ]
  },
  {
   "cell_type": "markdown",
   "metadata": {},
   "source": [
    "In 2017, [The Hockey News](https://thehockeynews.com/news/article/front-office-confidence-rankings-part-2-fans-weigh-in-on-how-each-team-is-doing) created a survey asking people to mark each NHL team's front office on a scale of 5 in six different categories: roster building, cap management, draft and develop, trading, free agency, and their overall vision. Over 1300 people contributed in the survey and since not everyone was familiar with every team's management group, each NHL team had roughly 800 to 1000 votes. \n",
    "\n",
    "The goal was to **rank** the NHL teams in each of the 6 categories. For a given category, this would have been easy if each team had received as many marks as there were people contributing to the survey: it would have been sufficient to rank according to the mean mark. But as noted above, not every participant marked every team, so The Hockey news faced an issue akin to sampling marks, where a participant not marking a team in a category was considered as this (missing) mark being un-sampled. So instead of a mean mark per category for each team, The Hockey News computed a 95% confidence interval. That is, for each of the 30 teams, they  obtained six confidence intervals (one for each ranking category), with 95% certainty that the intervals contains the actual mark value. Now, each of these confidence intervals have their associated margin of error (there are 180 intervals in total) which averaged out to be 0.06, which is quite small.\n",
    "\n",
    "Take for example the Nashville Predators who ranked first overall out of the 30 teams."
   ]
  },
  {
   "cell_type": "markdown",
   "metadata": {},
   "source": [
    "<img src=\"./images/nashville-predators.jpg\" alt=\"Drawing\" style=\"height: 300px\" style=\"width: 300px;\"/>"
   ]
  },
  {
   "cell_type": "markdown",
   "metadata": {},
   "source": [
    "Since the margin of error is about 0.06, the true mark (out of 5) of the team's ability in roster building likely (with probability 95%) lies in the confidence interval:\n",
    "\n",
    "$$(4.4 - 0.06, 4.4 + 0.06) = (4.34, 4.46).$$"
   ]
  },
  {
   "cell_type": "markdown",
   "metadata": {},
   "source": [
    "## Confidence Intervals and Margin of Error in Media"
   ]
  },
  {
   "cell_type": "code",
   "execution_count": null,
   "metadata": {},
   "outputs": [],
   "source": [
    "# Create nested column labels \n",
    "\n",
    "inner_columns = ['Men, Sample Size','Men, Mean','Men, Standard Deviation','Women, Sample Size','Women, Mean','Women, Standard Deviation']\n",
    "\n",
    "# Row names\n",
    "\n",
    "indices_labels = ['Systolic Blood Pressure','Diastolic Blood Pressure','Total Serum Cholesterol', 'Weight', 'Height', 'Body Mass Index']\n",
    "dataframe = pd.DataFrame( [ [1623, 128.2, 17.5, 1911,126.5, 20.1] , [1622, 75.6, 9.8, 1910, 72.6, 9.7] , [1544, 192.4, 35.2, 1766, 207.1, 36.7], [1612, 194.0, 33.8, 1984, 157.7, 34.6], [1545, 68.9, 2.7, 1781, 63.4, 2.5], [1545, 28.8, 4.6, 1781, 27.6, 5.9] ] , columns = inner_columns)\n",
    "\n",
    "# Group the labels as split by \" , \" \n",
    "\n",
    "labels = dataframe.columns.str.split(', ', expand=True).values\n",
    "dataframe.columns = pd.MultiIndex.from_tuples([x for x in labels])\n",
    "original_index_list = dataframe.index.tolist()\n",
    "\n",
    "for current_index in range(len(original_index_list)):\n",
    "    \n",
    "    idx = original_index_list.index(current_index)\n",
    "    original_index_list[current_index] = indices_labels[current_index]\n",
    "    \n",
    "d = dict(selector=\"th\", props=[('text-align', 'left')])\n",
    "dataframe.index = original_index_list"
   ]
  },
  {
   "cell_type": "markdown",
   "metadata": {},
   "source": [
    "[Boston University of Public Health](http://sphweb.bumc.bu.edu/otlt/MPH-Modules/BS/BS704_Confidence_Intervals/BS704_Confidence_Intervals_print.html) analyzed data of 3,539 participants who attended the 7th Examination of the Offspring Cohort in The Framingham Heart Study. For people participating to the study, several health measures were taken, again with a missing data issue as not all participants submitted their information for each category, an issue similar to the hockey example above. The summarized data set is presented below.  "
   ]
  },
  {
   "cell_type": "code",
   "execution_count": null,
   "metadata": {},
   "outputs": [],
   "source": [
    "pd.options.display.max_rows = 120\n",
    "\n",
    "display(dataframe.style.set_properties(**{'width':'12em', 'text-align':'center'})\\\n",
    "    .set_table_styles([d]))"
   ]
  },
  {
   "cell_type": "markdown",
   "metadata": {},
   "source": [
    "With 95% confidence, the confidence interval of Men's Systolic Blood Pressure is $\\left(127.35, 129.05\\right)$ and the margin of error is $0.85$. That is, there is a 95% chance that the actual average of Men's Systolic Blood Pressure in the population belongs in this confidence interval."
   ]
  },
  {
   "cell_type": "code",
   "execution_count": null,
   "metadata": {},
   "outputs": [],
   "source": [
    "def run_edit1_cells( b ):\n",
    "   \n",
    "    display(Javascript('IPython.notebook.execute_cell_range(IPython.notebook.get_selected_index()-1,IPython.notebook.get_selected_index())'))\n",
    "    edit_button_1.close()\n",
    "\n",
    "def run_edit2_cells( b ):\n",
    "    display(Javascript('IPython.notebook.execute_cell_range(IPython.notebook.get_selected_index()-1,IPython.notebook.get_selected_index())'))\n",
    "    edit_button_2.close()\n"
   ]
  },
  {
   "cell_type": "markdown",
   "metadata": {},
   "source": [
    "**Exercise 1.**  \n",
    "\n",
    "In the next two exercises, we will be computing confidence intervals with a certain confidence level. In the following input box below, enter the confidence level desired to obtain the appropriate z-value to use."
   ]
  },
  {
   "cell_type": "code",
   "execution_count": null,
   "metadata": {},
   "outputs": [],
   "source": [
    "# Set up text and button widget parameters\n",
    "\n",
    "get_zv_text = widgets.Text( placeholder='Enter a value between 0 and 100.', description='', disabled=False , layout=Layout(width='25%') )\n",
    "get_zv_button = widgets.Button(button_style='info',description=\"Enter\", layout=Layout(width='10%', height='30px') )\n",
    "\n",
    "# Display widgets\n",
    "\n",
    "display(get_zv_text)\n",
    "display(get_zv_button)\n",
    "\n",
    "# On button click, execute the next cell\n",
    "\n",
    "get_zv_button.on_click( run_cells )"
   ]
  },
  {
   "cell_type": "code",
   "execution_count": null,
   "metadata": {},
   "outputs": [],
   "source": [
    "# Obtain user input\n",
    "\n",
    "confidence_level = get_zv_text.value\n",
    "\n",
    "# Check range & display output if value is valid\n",
    "\n",
    "invalid_input_msg = \"Enter a value between 0 and 100.\"\n",
    "\n",
    "if(isfloat(confidence_level) == 1):\n",
    "    \n",
    "    confidence_level = float(get_zv_text.value)*(0.01)\n",
    "    \n",
    "    if( (confidence_level > 0) and (confidence_level < 1) ):\n",
    "        \n",
    "        z_value = get_z_value(confidence_level)\n",
    "        md_print = \"The z-value you need to use for a \" + \"$\" + str(get_zv_text.value) + \"\\%$\" + \" confidence interval is \" + \"$\" + str(z_value) + \".$\"\n",
    "        display(Markdown( md_print) )\n",
    "        \n",
    "    else:\n",
    "        \n",
    "        display(Markdown(invalid_input_msg))\n",
    "               \n",
    "else:\n",
    "    \n",
    "    display(Markdown(invalid_input_msg))"
   ]
  },
  {
   "cell_type": "markdown",
   "metadata": {},
   "source": [
    "**(i)** Calculate the confidence interval of Women's Weight with a $95\\%$ confidence level. Round each value to the nearest hundredth."
   ]
  },
  {
   "cell_type": "code",
   "execution_count": null,
   "metadata": {},
   "outputs": [],
   "source": [
    "# Widgets for interval question \n",
    "\n",
    "box_layout = Layout(display='flex',\n",
    "                    flex_flow='row',\n",
    "                    align_items='stretch',\n",
    "                    width='100%', justify_content = 'center')\n",
    "\n",
    "# Interval display format\n",
    "\n",
    "comma_a = widgets.HTMLMath(value=\"$,$\")\n",
    "open_bracket_a = widgets.HTMLMath(value=\"$\\Big($\")\n",
    "close_bracket_a = widgets.HTMLMath(value=\"$\\Big)$\")\n",
    "\n",
    "# Text input for left and right interval\n",
    "\n",
    "left_endpoint_text_a = widgets.Textarea( value='', placeholder='', description='', disabled=False , layout=Layout(width='10%', height='32.5px') )\n",
    "right_endpoint_text_a = widgets.Textarea( value='', placeholder='', description='', disabled=False , layout=Layout(width='10%', height='32.5px') )\n",
    "\n",
    "# Display widgets\n",
    "\n",
    "confidence_interval = [open_bracket_a, left_endpoint_text_a, comma_a, right_endpoint_text_a, close_bracket_a]\n",
    "ci_box = Box(children=confidence_interval, layout=box_layout)\n",
    "display(ci_box)\n",
    "submit_button_1 = widgets.Button(button_style='info',description=\"Submit\", layout=Layout(width='15%', height='30px'))\n",
    "submit_box = Box(children=[submit_button_1], layout=box_layout)\n",
    "display(submit_box)\n",
    "\n",
    "# Run next cell on submit click\n",
    "\n",
    "submit_button_1.on_click( run_cells )\n",
    "\n",
    "# Question attempt counter\n",
    "\n",
    "counter_a = 0"
   ]
  },
  {
   "cell_type": "code",
   "execution_count": null,
   "metadata": {},
   "outputs": [],
   "source": [
    "# Obtain user's interval values\n",
    "\n",
    "min_range_a = left_endpoint_text_a.value\n",
    "max_range_a = right_endpoint_text_a.value\n",
    "\n",
    "# Fix format\n",
    "\n",
    "correct_min_range_a = \"{0:.2f}\".format(157.7-1.96*34.6/math.sqrt(1984))\n",
    "correct_max_range_a = \"{0:.2f}\".format(157.7+1.96*34.6/math.sqrt(1984))\n",
    "\n",
    "if ( min_range_a == correct_min_range_a and max_range_a == correct_max_range_a):\n",
    "    \n",
    "    # Close question prompt widgets\n",
    "    \n",
    "    open_bracket_a.close()\n",
    "    close_bracket_a.close()\n",
    "    comma_a.close()\n",
    "    left_endpoint_text_a.close()\n",
    "    right_endpoint_text_a.close()\n",
    "    submit_button_1.close()\n",
    "\n",
    "    confidence_interval_string = '(' + min_range_a + ',' + max_range_a + ')'\n",
    "    \n",
    "    # Display user answer\n",
    "    \n",
    "    display(Markdown(\"**You answered: **\"))\n",
    "    display(Markdown(\"<center>$\"+confidence_interval_string+\"$ </center>\"))\n",
    "    display(Markdown(\"This is correct!\"))\n",
    "    \n",
    "    # Display expected answer + explanations\n",
    "    \n",
    "    display(Markdown(\"<b> Expected Answer: </b> \"))\n",
    "    display(Markdown(\"$(156.18, 159.22)$\"))\n",
    "    display(Markdown(\"<b> Explanation: </b> \"))\n",
    "    display(Markdown(\"For Women's weight, the sample size is $N = 1984$, the mean is $\\overline x = 157.7$, and the standard deviation is $s = 34.6$.\"\n",
    "                     + \" Since the z-value for a $95\\%$ confidence level is $1.96$, the confidence interval is <center> $\\Bigg( 157.7 - 1.96 \\cdot \\displaystyle \" \n",
    "                     + \"{34.6 \\over \\sqrt{1984} },157.7 + 1.96 \\cdot \\displaystyle {34.6 \\over \\sqrt{1984}} \\Bigg) = (156.18,159.22)$</center>\"))\n",
    "\n",
    "else:\n",
    "    \n",
    "    # Increment question counter\n",
    "    \n",
    "    counter_a += 1\n",
    "    \n",
    "    if (counter_a != 1):\n",
    "        incorrect = widgets.HTML(value=\" <center>Incorrect! Please try again. </center>\")\n",
    "        display(incorrect)\n",
    "        \n",
    "    # Question attempts maximum limit\n",
    "\n",
    "if (counter_a > 3):\n",
    "    \n",
    "    # Close question prompt widgets\n",
    "    \n",
    "    open_bracket_a.close()\n",
    "    close_bracket_a.close()\n",
    "    comma_a.close()\n",
    "    left_endpoint_text_a.close()\n",
    "    right_endpoint_text_a.close()\n",
    "    submit_button_1.close()\n",
    "    incorrect.close()\n",
    "    \n",
    "    # Display expected answer + explanation\n",
    "    \n",
    "    display(Markdown(\"<b> Expected Answer: </b> \"))\n",
    "    display(Markdown(\"$(156.18, 159.22)$\"))\n",
    "    display(Markdown(\"<b> Explanation: </b> \"))\n",
    "    display(Markdown(\"For Women's weight, the sample size is $N = 1984$, the mean is $\\overline x = 157.7$, and the standard deviation is $s = 34.6$.\"\n",
    "                     + \" Since the z-value for a $95\\%$ confidence level is $1.96$, the confidence interval is <center> $\\Bigg( 157.7 - 1.96 \\cdot \\displaystyle \" \n",
    "                     + \"{34.6 \\over \\sqrt{1984} },157.7 + 1.96 \\cdot \\displaystyle {34.6 \\over \\sqrt{1984}} \\Bigg) = (156.18,159.22)$</center>\"))"
   ]
  },
  {
   "cell_type": "markdown",
   "metadata": {},
   "source": [
    "**(ii)** Use the terms confidence level, confidence interval and margin of error to interpret the true measurement of women's average weight in Boston."
   ]
  },
  {
   "cell_type": "code",
   "execution_count": null,
   "metadata": {},
   "outputs": [],
   "source": [
    "interpretation_text_a = widgets.Textarea( value='', placeholder='', description='', disabled=False , layout=Layout(width='100%', height='100px') )"
   ]
  },
  {
   "cell_type": "code",
   "execution_count": null,
   "metadata": {},
   "outputs": [],
   "source": [
    "save_button_1 = widgets.Button(button_style='info',description=\"Save\", layout=Layout(width='15%', height='30px'))\n",
    "save_box = Box(children=[save_button_1], layout=box_layout)\n",
    "\n",
    "display(interpretation_text_a)\n",
    "display(save_box)\n",
    "\n",
    "save_button_1.on_click( run_cells )"
   ]
  },
  {
   "cell_type": "code",
   "execution_count": null,
   "metadata": {},
   "outputs": [],
   "source": [
    "interp_a = interpretation_text_a.value\n",
    "\n",
    "edit_button_1 = widgets.Button(button_style='info',description=\"Edit\", layout=Layout(width='15%', height='30px'))\n",
    "edit_box = Box(children=[edit_button_1], layout=box_layout)\n",
    "\n",
    "if ( interp_a != ''):\n",
    "    \n",
    "    interpretation_text_a.close()\n",
    "    save_button_1.close()\n",
    "\n",
    "    interpretation_text_a = widgets.Textarea( value= interp_a, placeholder='', description='', disabled=False , layout=Layout(width='100%', height='100px') )\n",
    "    \n",
    "    display(Markdown('<center>' + interp_a + '</center>'))\n",
    "    display(edit_box)\n",
    "    \n",
    "edit_button_1.on_click( run_edit1_cells )"
   ]
  },
  {
   "cell_type": "markdown",
   "metadata": {},
   "source": [
    "**Exercise 2.**\n",
    "\n",
    "**(i)** Calculate the confidence interval of Men's Body Mass Index (BMI) with a $99\\%$ confidence level. Round each value to the nearest hundredth."
   ]
  },
  {
   "cell_type": "code",
   "execution_count": null,
   "metadata": {},
   "outputs": [],
   "source": [
    "# Text display for interval\n",
    "\n",
    "comma_b = widgets.HTMLMath(value=\"$,$\")\n",
    "open_bracket_b = widgets.HTMLMath(value=\"$\\Big($\")\n",
    "close_bracket_b = widgets.HTMLMath(value=\"$\\Big)$\")\n",
    "\n",
    "# Text input for user's interval\n",
    "\n",
    "left_endpoint_text_b = widgets.Textarea( value='', placeholder='', description='', disabled=False , layout=Layout(width='10%', height='32.5px') )\n",
    "right_endpoint_text_b = widgets.Textarea( value='', placeholder='', description='', disabled=False , layout=Layout(width='10%', height='32.5px') )\n",
    "\n",
    "# Display widgets\n",
    "\n",
    "confidence_interval = [open_bracket_b, left_endpoint_text_b, comma_b, right_endpoint_text_b, close_bracket_b]\n",
    "ci_box = Box(children=confidence_interval, layout=box_layout)\n",
    "display(ci_box)\n",
    "submit_button_2 = widgets.Button(button_style='info',description=\"Submit\", layout=Layout(width='15%', height='30px'))\n",
    "submit_box = Box(children=[submit_button_2], layout=box_layout)\n",
    "display(submit_box)\n",
    "\n",
    "# Run next cell on submit click\n",
    "\n",
    "submit_button_2.on_click( run_cells )\n",
    "\n",
    "# Question counter\n",
    "\n",
    "counter_b = 0"
   ]
  },
  {
   "cell_type": "code",
   "execution_count": null,
   "metadata": {},
   "outputs": [],
   "source": [
    "# Obtain user's values\n",
    "\n",
    "min_range_b = left_endpoint_text_b.value\n",
    "max_range_b = right_endpoint_text_b.value\n",
    "\n",
    "# z-value for this exercise\n",
    "\n",
    "z_value = 2.5758\n",
    "\n",
    "# Format range\n",
    "\n",
    "correct_min_range_b = \"{0:.2f}\".format(28.8-z_value*4.6/math.sqrt(1545))\n",
    "correct_max_range_b = \"{0:.2f}\".format(28.8+z_value*4.6/math.sqrt(1545))\n",
    "\n",
    "if ( min_range_b == correct_min_range_b and max_range_b == correct_max_range_b):\n",
    "    \n",
    "    # Close question prompt widget\n",
    "    \n",
    "    open_bracket_b.close()\n",
    "    close_bracket_b.close()\n",
    "    comma_b.close()\n",
    "    left_endpoint_text_b.close()\n",
    "    right_endpoint_text_b.close()\n",
    "    submit_button_2.close()\n",
    "    \n",
    "    # Display user answer \n",
    "\n",
    "    confidence_interval_string = '(' + min_range_b + ',' + max_range_b + ')'\n",
    "    display(Markdown(\"**Your answer: **\"))\n",
    "    display(Markdown(\"<center>$\"+confidence_interval_string+\"$ </center>\"))\n",
    "    \n",
    "    # Display expected answe + explanations\n",
    "    \n",
    "    display(Markdown(\"<b> Expected Answer: </b> \"))\n",
    "    display(Markdown(\"$(28.50, 29.10)$\")) # Change\n",
    "    display(Markdown(\"<b> Explanation: </b> \"))\n",
    "    display(Markdown(\"For Men's Body Mass Index, the sample size is $N = 1545$, the mean is $\\overline x = 28.8$, and the standard deviation is $s = 4.6$.\" \n",
    "                     + \" Since the z-value for a $99\\%$ confidence level is $2.5758$, the confidence interval is:\"))\n",
    "    display(Markdown(\"<center> $\\displaystyle \\Bigg( 28.8 - 2.5758 \\cdot  {4.6 \\over \\sqrt{1545} },28.8 + 2.5758 \\cdot {4.6 \\over \\sqrt{1545}} \\Bigg) = (28.50,29.10)$</center>\"))    \n",
    "\n",
    "\n",
    "else:\n",
    "    \n",
    "    # Increment question counter on failed attempts\n",
    "    \n",
    "    counter_b += 1\n",
    "    \n",
    "    if (counter_b != 1):\n",
    "        incorrect = widgets.HTML(value=\"<center>Incorrect! Please try again. </center>\")\n",
    "        display(incorrect)\n",
    "        \n",
    "    # Question attempt maximum limit \n",
    "\n",
    "if (counter_b > 3):\n",
    "    \n",
    "    # Close question prompts\n",
    "    \n",
    "    open_bracket_b.close()\n",
    "    close_bracket_b.close()\n",
    "    comma_b.close()\n",
    "    left_endpoint_text_b.close()\n",
    "    right_endpoint_text_b.close()\n",
    "    submit_button_2.close()\n",
    "    \n",
    "    # Display expected answer + explanation\n",
    "    \n",
    "    incorrect.close()\n",
    "    display(Markdown(\"<b> Expected Answer: </b> \"))\n",
    "    display(Markdown(\"$(28.50, 29.10)$\")) # Change\n",
    "    display(Markdown(\"<b> Explanation: </b> \"))\n",
    "    display(Markdown(\"For Men's Body Mass Index, the sample size is $N = 1545$, the mean is $\\overline x = 28.8$, and the standard deviation is $s = 4.6$.\" \n",
    "                     + \" Since the z-value for a $99\\%$ confidence level is $2.5758$, the confidence interval is:\"))\n",
    "    display(Markdown(\"<center> $\\displaystyle \\Bigg( 28.8 - 2.5758 \\cdot  {4.6 \\over \\sqrt{1545} },28.8 + 2.5758 \\cdot {4.6 \\over \\sqrt{1545}} \\Bigg) = (28.50,29.10)$</center>\"))"
   ]
  },
  {
   "cell_type": "markdown",
   "metadata": {},
   "source": [
    "**(ii)** Use the terms confidence level, confidence interval and margin of error to interpret the true measurement of Men's average BMI in Boston."
   ]
  },
  {
   "cell_type": "code",
   "execution_count": null,
   "metadata": {},
   "outputs": [],
   "source": [
    "interpretation_text_b = widgets.Textarea( value='', placeholder='', description='', disabled=False , layout=Layout(width='100%', height='100px') )"
   ]
  },
  {
   "cell_type": "code",
   "execution_count": null,
   "metadata": {},
   "outputs": [],
   "source": [
    "save_button_2 = widgets.Button(button_style='info',description=\"Save\", layout=Layout(width='15%', height='30px'))\n",
    "save_box = Box(children=[save_button_2], layout=box_layout)\n",
    "\n",
    "display(interpretation_text_b)\n",
    "display(save_box)\n",
    "\n",
    "save_button_2.on_click( run_cells )"
   ]
  },
  {
   "cell_type": "code",
   "execution_count": null,
   "metadata": {},
   "outputs": [],
   "source": [
    "interp_b = interpretation_text_b.value\n",
    "\n",
    "edit_button_2 = widgets.Button(button_style='info',description=\"Edit\", layout=Layout(width='15%', height='30px'))\n",
    "edit_box = Box(children=[edit_button_2], layout=box_layout)\n",
    "\n",
    "if ( interp_b != ''):\n",
    "    \n",
    "    interpretation_text_b.close()\n",
    "    save_button_2.close()\n",
    "\n",
    "    interpretation_text_b = widgets.Textarea( value= interp_b, placeholder='', description='', disabled=False , layout=Layout(width='100%', height='100px') )\n",
    "    \n",
    "    display(Markdown('<center>' + interp_b + '</center>'))\n",
    "    display(edit_box)\n",
    "    \n",
    "edit_button_2.on_click( run_edit2_cells )"
   ]
  },
  {
   "cell_type": "markdown",
   "metadata": {},
   "source": [
    "## Analyzing Statistical Data Presented in the Media"
   ]
  },
  {
   "cell_type": "markdown",
   "metadata": {},
   "source": [
    "According to an Opinion Article in the National Post [Ontario Teachers Are Overpaid](https://nationalpost.com/opinion/allan-richarz-ontarios-teachers-are-overpaid), the article states that \"Ontario’s Sunshine List of public-sector employees making over `$`100,000 each year. Thousands of elementary and secondary school teachers, admin and staff make the list; with some teachers reaching as high as `$`133,000 annually\" and the article argues that \"teachers in the province are overpaid; the work is not that onerous nor specialized and the hours not too taxing.\"\n",
    "\n",
    "<img src=\"./images/ontario-teacher-salary.png\" alt=\"Drawing\" style=\"width: 500px;\"/>\n",
    "\n",
    "However, looking at the high school teacher salary in Ontario as reported on [PayScale](https://www.payscale.com/research/CA/Job=High_School_Teacher/Salary/004c9fd6/Toronto-ON), shows that these teacher may not necessarily be overpaid.\n",
    "\n",
    "It matters first as to which group of workers we are looking at in the industry for instance, some employees more engaged with administrative work such as Principals, Vice Principals, and Treasurers make more than the average secondary school teachers and can drag the average salary up.\n",
    "\n",
    "It also matters to look at how long they have been working in the industry. A count of 61 entry level teachers (working for 0-5 years) reported an income of `$`52,000 a year and a count of 44 mid-career level teachers (working for 5-10 years) reported an income of `$`56,000 a year.\n",
    "\n",
    "It is not until we get to the count of 33 experienced teachers (working for 10-15 years) reporting an income of `$`75,000 a year and late career teachers (working for 15-20 years) reporting an income of `$`88,000 that we see comparable incomes as reported by the article.\n",
    "\n",
    "Unfortunately we cannot obtain a confidence interval, as the individual data values in the data set are not provided publicly by PayScale."
   ]
  },
  {
   "cell_type": "markdown",
   "metadata": {},
   "source": [
    "[![Callysto.ca License](https://github.com/callysto/curriculum-notebooks/blob/master/callysto-notebook-banner-bottom.jpg?raw=true)](https://github.com/callysto/curriculum-notebooks/blob/master/LICENSE.md)"
   ]
  }
 ],
 "metadata": {
  "kernelspec": {
   "display_name": "Python 3 (ipykernel)",
   "language": "python",
   "name": "python3"
  },
  "language_info": {
   "codemirror_mode": {
    "name": "ipython",
    "version": 3
   },
   "file_extension": ".py",
   "mimetype": "text/x-python",
   "name": "python",
   "nbconvert_exporter": "python",
   "pygments_lexer": "ipython3",
   "version": "3.9.12"
  }
 },
 "nbformat": 4,
 "nbformat_minor": 4
}
