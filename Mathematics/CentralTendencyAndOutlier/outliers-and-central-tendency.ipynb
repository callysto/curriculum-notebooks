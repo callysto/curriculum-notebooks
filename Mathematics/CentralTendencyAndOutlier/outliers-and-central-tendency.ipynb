{
 "cells": [
  {
   "cell_type": "markdown",
   "metadata": {},
   "source": [
    "![Callysto.ca Banner](https://github.com/callysto/curriculum-notebooks/blob/master/callysto-notebook-banner-top.jpg?raw=true)\n",
    "\n",
    "<a href=\"https://hub.callysto.ca/jupyter/hub/user-redirect/git-pull?repo=https%3A%2F%2Fgithub.com%2Fcallysto%2Fcurriculum-notebooks&branch=master&subPath=Mathematics/CentralTendencyAndOutlier/outliers-and-central-tendency.ipynb&depth=1\" target=\"_parent\"><img src=\"https://raw.githubusercontent.com/callysto/curriculum-notebooks/master/open-in-callysto-button.svg?sanitize=true\" width=\"123\" height=\"24\" alt=\"Open in Callysto\"/></a>"
   ]
  },
  {
   "cell_type": "markdown",
   "metadata": {},
   "source": [
    "# Effect of Outliers on Central Tendency\n",
    "\n",
    "This notebook focuses on what an outlier is and how it affects central tendency. Remember central tendency means the mean, median, and mode of some data. If you need review on central tendency, check out this previous notebook.\n",
    "\n",
    "Things you will learn in this notebook:\n",
    "* What an outlier is\n",
    "* How an outlier affects mean\n",
    "* How an outlier affects median\n",
    "* How an outlier affects mode\n",
    "* Why outliers can be a problem"
   ]
  },
  {
   "cell_type": "markdown",
   "metadata": {},
   "source": [
    "<img style=\"float: right;\" src=\"images/PunnyOutlier.jpg\" width=\"400\" height=\"300\">\n",
    "\n",
    "## What is an outlier?\n",
    "\n",
    "An outlier is a value that \"lies outside\" (is much smaller or larger than) most of the other values in a set of data.\n",
    "\n",
    "Let's look at an example: <br>\n",
    "Here is a data set: $26, 23, 27, 25, 28, 29, 24, 99 $ <br>\n",
    "Lets put it in order: $23, 24, 25, 26, 27, 28, 29, 99$ <br> \n",
    "$99$ is larger than all the other data, by a lot. <br> \n",
    "Therefore, we can call $99$ an outlier.\n",
    "\n",
    "An outlier is also data that is out of place, or that might be a mistake when it was collected."
   ]
  },
  {
   "cell_type": "markdown",
   "metadata": {
    "slideshow": {
     "slide_type": "subslide"
    }
   },
   "source": [
    "## Central tendency\n",
    "\n",
    "First let's look at the central tendency of the example above. \n",
    "\n",
    "Mean = $\\frac{23+24+25+26+27+28+29+99}{8} = \\frac{281}{8} = 35.125$. <br>\n",
    "The median is found between 26 and 27, so the median is 26.5. <br>\n",
    "There is no mode because none are repeated more than once.\n",
    "\n",
    "Then we will remove the outlier (99) and recalculate the central tendency.\n",
    "\n",
    "Mean = $\\frac{23+24+25+26+27+28+29}{7} = \\frac{182}{7} = 26$. <br>\n",
    "The median is the middle number so the median is 26. <br>\n",
    "There is no mode because none are repeated more than once.\n",
    "\n",
    "What changes do you notice? What changed the most?"
   ]
  },
  {
   "cell_type": "markdown",
   "metadata": {},
   "source": [
    "## A bigger set of data\n",
    "\n",
    "Let's look at some data about the sodium content (amount of salt) in different common foods. Is there an outlier?"
   ]
  },
  {
   "cell_type": "code",
   "execution_count": null,
   "metadata": {},
   "outputs": [],
   "source": [
    "import pandas as pd\n",
    "df = pd.read_csv('https://raw.githubusercontent.com/callysto/data-files/main/Mathematics/CentralTendencyAndOutlier/data/example-data.csv')\n",
    "df"
   ]
  },
  {
   "cell_type": "markdown",
   "metadata": {},
   "source": [
    "Now let's calculate the mean, median, and mode."
   ]
  },
  {
   "cell_type": "code",
   "execution_count": null,
   "metadata": {},
   "outputs": [],
   "source": [
    "print('mean:', df['Sodium Content'].mean())\n",
    "print('median:', df['Sodium Content'].median())\n",
    "print('mode:', df['Sodium Content'].mode()[0])  # the [0] means we want just the first value, although there is only one"
   ]
  },
  {
   "cell_type": "markdown",
   "metadata": {},
   "source": [
    "We can visualize this dataset as a histogram, which allows us to group together foods that have a similar sodium content into \"bins\". You can control how many bins are on the graph by using the slider below. Look how the graph changes.\n",
    "\n",
    "Can you tell if there's an outlier when there's only a couple bins? How about when there are a lot of bins?"
   ]
  },
  {
   "cell_type": "code",
   "execution_count": null,
   "metadata": {},
   "outputs": [],
   "source": [
    "import plotly.express as px\n",
    "px.histogram(df, x='Sodium Content', title='Histogram of Sodium Content in 30 Products from Australian Supermarkets', nbins=20)"
   ]
  },
  {
   "cell_type": "code",
   "execution_count": null,
   "metadata": {},
   "outputs": [],
   "source": [
    "import plotly.graph_objects as go\n",
    "fig = go.Figure()\n",
    "steps = []\n",
    "for i in range(15):\n",
    "    fig.add_trace(go.Histogram(x=df['Sodium Content'], nbinsx=i+1, visible=False))\n",
    "    visible_list = [False] * 15\n",
    "    visible_list[i] = True\n",
    "    steps.append(dict(label=i+1, method='restyle', args=[{'visible':visible_list}]))\n",
    "fig.data[0]['visible'] = True\n",
    "sliders = [dict(active=0, currentvalue={'prefix': 'Number of Bins: '}, steps=steps)]\n",
    "fig.update_layout(sliders=sliders, title='Interactive Histogram of Sodium Content in 30 Products from Australian Supermarkets')\n",
    "fig.show()"
   ]
  },
  {
   "cell_type": "markdown",
   "metadata": {},
   "source": [
    "When there are a lot of bins, it's really easy to see that there's an outlier. If we look at the data, we know that's soy sauce. So let's remove it and see how the central tendency is affected."
   ]
  },
  {
   "cell_type": "code",
   "execution_count": null,
   "metadata": {},
   "outputs": [],
   "source": [
    "df2 = pd.read_csv('https://raw.githubusercontent.com/callysto/data-files/main/Mathematics/CentralTendencyAndOutlier/data/example-data-no-outlier.csv')\n",
    "fig2 = go.Figure()\n",
    "steps2 = []\n",
    "for i in range(15):\n",
    "    fig2.add_trace(go.Histogram(x=df2['Sodium Content'], nbinsx=i+1, visible=False))\n",
    "    visible_list = [False] * 15\n",
    "    visible_list[i] = True\n",
    "    steps2.append(dict(label=i+1, method='restyle', args=[{'visible':visible_list}]))\n",
    "fig2.data[0]['visible'] = True\n",
    "sliders2 = [dict(active=0, currentvalue={'prefix': 'Number of Bins: '}, steps=steps)]\n",
    "fig2.update_layout(sliders=sliders2, title='Interactive Histogram of Sodium Content in 30 Products from Australian Supermarkets (without outlier)')\n",
    "fig2.show()"
   ]
  },
  {
   "cell_type": "markdown",
   "metadata": {},
   "source": [
    "Should soy sauce be excluded though? It is a common food that many people own, so it's not out of place in the data. It's just very salty.\n",
    "\n",
    "To be called an outlier, the data points should be out of place in your data set, not just a large or small value.\n",
    "\n",
    "-------"
   ]
  },
  {
   "cell_type": "markdown",
   "metadata": {},
   "source": []
  },
  {
   "cell_type": "markdown",
   "metadata": {},
   "source": []
  },
  {
   "cell_type": "markdown",
   "metadata": {},
   "source": []
  },
  {
   "cell_type": "markdown",
   "metadata": {},
   "source": [
    "#### Now try adding your own data points into this set. \n",
    "\n",
    "Try adding really big and/or really small numbers. You can also add many repeating numbers to change the mode. <br>\n",
    "**Restart**: press to remove all your outliers to start again.<br>\n",
    "**Add Outlier**: press to add a new outlier. You can add as many as you want. (value has to be less than 10,000) <br>\n",
    "**Compute**: press to calculate the central tendency and see a histogram of the dataset with your outlier(s).<br>\n",
    "**Compare**: press to see the central tendency before and after your outliers are added. How do your outliers change the central tendency?"
   ]
  },
  {
   "cell_type": "code",
   "execution_count": null,
   "metadata": {},
   "outputs": [],
   "source": [
    "global datasetWithOutlier\n",
    "global centralTendencyWithOutlier\n",
    "datasetWithOutlier = dataWithoutOutlier.copy()\n",
    "\n",
    "add = widgets.Button(description='Add Outlier',disabled=False,button_style='')\n",
    "remove = widgets.Button(description='Restart',disabled=False,button_style='')\n",
    "outlier = widgets.BoundedIntText(value=None,max=10000,description='Outlier:',disabled=False)\n",
    "compute = widgets.Button(description='Calculate',disabled=False,button_style='')\n",
    "compare = widgets.Button(description='Compare',disabled=False,button_style='')\n",
    "\n",
    "def displayButtons():\n",
    "    IPython.display.clear_output()\n",
    "    IPython.display.display(remove)\n",
    "    IPython.display.display(add)\n",
    "    IPython.display.display(compute)\n",
    "    IPython.display.display(compare)\n",
    "\n",
    "def addOutlier(a):\n",
    "    global datasetWithOutlier\n",
    "    IPython.display.clear_output()\n",
    "    IPython.display.display(remove)\n",
    "    IPython.display.display(add)\n",
    "    IPython.display.display(outlier)\n",
    "    IPython.display.display(compute)\n",
    "    IPython.display.display(compare)\n",
    "    datasetWithOutlier.append(outlier.value)\n",
    "    print(\"Current Dataset:\")\n",
    "    print(datasetWithOutlier)\n",
    "\n",
    "def showOutlier(a):\n",
    "    IPython.display.clear_output()\n",
    "    IPython.display.display(remove)\n",
    "    IPython.display.display(add)\n",
    "    IPython.display.display(outlier)\n",
    "    IPython.display.display(compute)\n",
    "    IPython.display.display(compare)\n",
    "    outlier.observe(addOutlier, 'value')\n",
    "    print(\"Current Dataset:\")\n",
    "    print(datasetWithOutlier)\n",
    "    \n",
    "def reset(a):\n",
    "    displayButtons()\n",
    "    datasetWithOutlier = dataWithoutOutlier.copy()\n",
    "    print(\"Current Dataset:\")\n",
    "    print(datasetWithOutlier)\n",
    "    \n",
    "def callPlottingFunctionWithOutlier(num_bins):\n",
    "    print(\"Generating... plot for :\", num_bins)\n",
    "    plotHistogram(datasetWithOutlier, num_bins, 'Sodium Content', 'values', 'Histogram with Outliers')\n",
    "\n",
    "def calculate(a):\n",
    "    global centralTendencyWithOutlier\n",
    "    centralTendencyWithOutlier = computeCenTendency(datasetWithOutlier)\n",
    "    print(centralTendencyWithOutlier)\n",
    "    interact(callPlottingFunctionWithOutlier, num_bins=widgets.IntSlider(min=0,max=100,step=1,value=50));\n",
    "    \n",
    "def compareTendencies(a):\n",
    "    centralTendencyWithoutOutlierArray = np.around(np.asarray(centralTendencyWithoutOutlier), 3)\n",
    "    centralTendencyWithOutlierArray = np.around(np.asarray(centralTendencyWithOutlier), 3) \n",
    "    arr = { 'Central Tendency ':  np.array(['Mean','Median','Mode' ]),\n",
    "            'Before adding outlier ':  np.array([centralTendencyWithoutOutlierArray[0],  centralTendencyWithoutOutlierArray[1], \n",
    "                                            centralTendencyWithoutOutlierArray[2] ]),\n",
    "            'After adding outlier ': np.array([centralTendencyWithOutlierArray[0], centralTendencyWithOutlierArray[1],\n",
    "                                           centralTendencyWithOutlierArray[2]])}\n",
    "    print(Table(arr))\n",
    "    \n",
    "\n",
    "displayButtons()\n",
    "print(\"Current Dataset:\")\n",
    "print(datasetWithOutlier)\n",
    "compare.on_click(compareTendencies)\n",
    "compute.on_click(calculate)\n",
    "add.on_click(showOutlier)\n",
    "remove.on_click(reset)\n"
   ]
  },
  {
   "cell_type": "markdown",
   "metadata": {},
   "source": [
    "### Effects of Outliers \n",
    "\n",
    "##### Mean\n",
    "From the above results and histogram, we see that adding outliers can change the mean dramatically.<br>\n",
    "This is because we need to add all the values to determine the mean value.<br>\n",
    "Outliers are often values that are much larger or smaller than the other values.<br>\n",
    "When we add these values to the sum, the average can change a lot.\n",
    "\n",
    "##### Median\n",
    "For the median, we need to consider the middle number(s).<br>\n",
    "Adding one outlier adds a single point at the far end of our data set, so everything else shifts over only one spot. <br>\n",
    "The median might change or might not.\n",
    "\n",
    "##### Mode\n",
    "The mode is very unlikely to change, because mode is the most repeated value.<br>\n",
    "Unless you add many outliers, all with the same value, the mode probably won't change.<br>\n",
    "And if there are multiple outliers with the same value, then maybe they should be kept in the dataset, they might be important.\n",
    "\n",
    "\n",
    "### What should we use to represent data?\n",
    "\n",
    "The reason we use central tendency is to tell important information about the data set we want to talk about. We want to know what this data is like without saying every value in the set. Usually mean is used to represent data as it is affected by all points, but that's not always a good thing. If there's an outlier in the data, maybe mean is not the best way to represent the middle of the data in general. Median might be a more truthful representation of the middle in that case. \n",
    "\n",
    "In the food data, we might want to represent how much sodium is in food we eat nearly every day. If we don't eat soy sauce often, then it would be an outlier. Then the mean will tell us we eat a lot more sodium every day than the median would tell us. If we use the mean to represent this data, someone could argue that we eat too much sodium. But its not true since we don't eat it often. So if we use the median to represent this data, we can still include soy sauce in the data, but it would represent what we eat more truthfully."
   ]
  },
  {
   "cell_type": "markdown",
   "metadata": {},
   "source": [
    "## Conclusion\n",
    "\n",
    "In this notebook, we learned how an outlier affects central tendency. \n",
    "\n",
    "When an outlier is added to (or removed from) a data set:\n",
    "* Mean changes the most \n",
    "* Median changes a little bit\n",
    "* Mode doesn't change unless there are multiple outliers with the same value\n",
    "\n",
    "Also, not all larger or smaller values should be called outliers and excluded from data. That depends more on context if some is given. "
   ]
  },
  {
   "cell_type": "markdown",
   "metadata": {},
   "source": [
    "[![Callysto.ca License](https://github.com/callysto/curriculum-notebooks/blob/master/callysto-notebook-banner-bottom.jpg?raw=true)](https://github.com/callysto/curriculum-notebooks/blob/master/LICENSE.md)"
   ]
  }
 ],
 "metadata": {
  "kernelspec": {
   "display_name": "Python 3.10.1 64-bit",
   "language": "python",
   "name": "python3"
  },
  "language_info": {
   "codemirror_mode": {
    "name": "ipython",
    "version": 3
   },
   "file_extension": ".py",
   "mimetype": "text/x-python",
   "name": "python",
   "nbconvert_exporter": "python",
   "pygments_lexer": "ipython3",
   "version": "3.10.1"
  },
  "vscode": {
   "interpreter": {
    "hash": "d1ca6d17674200220921376aaeb3d36cffe15ecab2470a9a5e7a456cdbf61425"
   }
  }
 },
 "nbformat": 4,
 "nbformat_minor": 2
}
