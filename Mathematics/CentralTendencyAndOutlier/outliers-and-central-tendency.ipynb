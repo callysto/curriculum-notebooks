{
 "cells": [
  {
   "cell_type": "markdown",
   "metadata": {},
   "source": [
    "![Callysto.ca Banner](https://github.com/callysto/curriculum-notebooks/blob/master/callysto-notebook-banner-top.jpg?raw=true)\n",
    "\n",
    "<a href=\"https://hub.callysto.ca/jupyter/hub/user-redirect/git-pull?repo=https%3A%2F%2Fgithub.com%2Fcallysto%2Fcurriculum-notebooks&branch=master&subPath=Mathematics/CentralTendencyAndOutlier/outliers-and-central-tendency.ipynb&depth=1\" target=\"_parent\"><img src=\"https://raw.githubusercontent.com/callysto/curriculum-notebooks/master/open-in-callysto-button.svg?sanitize=true\" width=\"123\" height=\"24\" alt=\"Open in Callysto\"/></a>"
   ]
  },
  {
   "cell_type": "markdown",
   "metadata": {},
   "source": [
    "# Effect of Outliers on Central Tendency\n",
    "\n",
    "This notebook is about outliers and how they affect central tendency. Remember that central tendency means the mean, median, and mode of a data set. Check out [this other notebook](../CentralTendency/central-tendency.ipynb) for more information about central tendency."
   ]
  },
  {
   "cell_type": "markdown",
   "metadata": {},
   "source": [
    "<img style=\"float: right;\" src=\"images/PunnyOutlier.jpg\" width=\"400\" height=\"300\">\n",
    "\n",
    "## What is an Outlier?\n",
    "\n",
    "An outlier is a value that \"lies outside\" (is much smaller or larger than) most of the other values in a set of data.\n",
    "\n",
    "Outliers may also result from errors in data collection or organization.\n",
    "\n",
    "Let's look at an example: <br>\n",
    "Here is a data set: $26, 23, 27, 25, 28, 29, 24, 99$ <br>\n",
    "Lets put it in order: $23, 24, 25, 26, 27, 28, 29, 99$ <br> \n",
    "The value $99$ is much larger than all of the other points, so we can call $99$ an outlier.\n",
    "\n",
    "## Central Tendency\n",
    "\n",
    "Let's calculate the central tendency for this example:"
   ]
  },
  {
   "cell_type": "code",
   "execution_count": null,
   "metadata": {},
   "outputs": [],
   "source": [
    "dataset = [26, 23, 27, 25, 28, 29, 24, 99]\n",
    "from statistics import mean, median, multimode\n",
    "print('mean:', mean(dataset))\n",
    "print('median:', median(dataset))\n",
    "print('mode:', multimode(dataset))"
   ]
  },
  {
   "cell_type": "markdown",
   "metadata": {
    "slideshow": {
     "slide_type": "subslide"
    }
   },
   "source": [
    "There is no mode because no value is repeated.\n",
    "\n",
    "Then we will remove the outlier ($99$) and recalculate:"
   ]
  },
  {
   "cell_type": "code",
   "execution_count": null,
   "metadata": {},
   "outputs": [],
   "source": [
    "dataset = [26, 23, 27, 25, 28, 29, 24]\n",
    "print('mean:', mean(dataset))\n",
    "print('median:', median(dataset))\n",
    "print('mode:', multimode(dataset))"
   ]
  },
  {
   "cell_type": "markdown",
   "metadata": {},
   "source": [
    "What changes do you notice? What changed the most?\n",
    "\n",
    "## A Bigger Set of Data\n",
    "\n",
    "Let's look at some data about the sodium (salt) content in different common foods to see if we find any outliers?"
   ]
  },
  {
   "cell_type": "code",
   "execution_count": null,
   "metadata": {},
   "outputs": [],
   "source": [
    "import pandas as pd\n",
    "df = pd.read_csv('https://raw.githubusercontent.com/callysto/data-files/main/Mathematics/CentralTendencyAndOutlier/data/example-data.csv')\n",
    "df"
   ]
  },
  {
   "cell_type": "markdown",
   "metadata": {},
   "source": [
    "Now let's calculate the mean, median, and mode:"
   ]
  },
  {
   "cell_type": "code",
   "execution_count": null,
   "metadata": {},
   "outputs": [],
   "source": [
    "print('mean:', df['Sodium Content'].mean())\n",
    "print('median:', df['Sodium Content'].median())\n",
    "print('mode:', df['Sodium Content'].mode()[0])  # the [0] means we want just the first value, although there is only one"
   ]
  },
  {
   "cell_type": "markdown",
   "metadata": {},
   "source": [
    "We can visualize this dataset as a histogram, which allows us to group together foods that have a similar sodium content into \"bins\". You can control how many bins are on the graph by using the slider below.\n",
    "\n",
    "Can you tell if there's an outlier when there's only a couple bins? How about when there are a lot of bins?"
   ]
  },
  {
   "cell_type": "code",
   "execution_count": null,
   "metadata": {},
   "outputs": [],
   "source": [
    "import plotly.graph_objects as go\n",
    "fig = go.Figure()\n",
    "steps = []\n",
    "for i in range(15):\n",
    "    fig.add_trace(go.Histogram(x=df['Sodium Content'], nbinsx=i+1, visible=False))\n",
    "    visible_list = [False] * 15\n",
    "    visible_list[i] = True\n",
    "    steps.append(dict(label=i+1, method='restyle', args=[{'visible':visible_list}]))\n",
    "fig.data[0]['visible'] = True\n",
    "sliders = [dict(active=0, currentvalue={'prefix': 'Number of Bins: '}, steps=steps)]\n",
    "fig.update_layout(sliders=sliders, title='Interactive Histogram of Sodium Content in 30 Products from Australian Supermarkets')\n",
    "fig.show()"
   ]
  },
  {
   "cell_type": "markdown",
   "metadata": {},
   "source": [
    "When there are a lot of bins, it's really easy to see that there's an outlier. If we look at the data, we know that's soy sauce. So let's remove it and see how the central tendency is affected."
   ]
  },
  {
   "cell_type": "code",
   "execution_count": null,
   "metadata": {},
   "outputs": [],
   "source": [
    "df2 = pd.read_csv('https://raw.githubusercontent.com/callysto/data-files/main/Mathematics/CentralTendencyAndOutlier/data/example-data-no-outlier.csv')\n",
    "fig2 = go.Figure()\n",
    "steps2 = []\n",
    "for i in range(15):\n",
    "    fig2.add_trace(go.Histogram(x=df2['Sodium Content'], nbinsx=i+1, visible=False))\n",
    "    visible_list = [False] * 15\n",
    "    visible_list[i] = True\n",
    "    steps2.append(dict(label=i+1, method='restyle', args=[{'visible':visible_list}]))\n",
    "fig2.data[0]['visible'] = True\n",
    "sliders2 = [dict(active=0, currentvalue={'prefix': 'Number of Bins: '}, steps=steps)]\n",
    "fig2.update_layout(sliders=sliders2, title='Interactive Histogram of Sodium Content in 30 Products from Australian Supermarkets (without outlier)')\n",
    "fig2.show()"
   ]
  },
  {
   "cell_type": "code",
   "execution_count": null,
   "metadata": {},
   "outputs": [],
   "source": [
    "print('original mean:', df['Sodium Content'].mean())\n",
    "print('new mean:', df2['Sodium Content'].mean())\n",
    "print('original median:', df['Sodium Content'].median())\n",
    "print('new median:', df2['Sodium Content'].median())\n",
    "print('original mode:', df['Sodium Content'].mode()[0])\n",
    "print('new mode:', df2['Sodium Content'].mode()[0])"
   ]
  },
  {
   "cell_type": "markdown",
   "metadata": {},
   "source": [
    "Excluding soy sauce has a large effect on the mean, because it's very salty.\n",
    "\n",
    "Should soy sauce be excluded though? It is a common food that many people eat, so it's not out of place in the data. To be called an outlier, a data point should be out of place in your data set, not just a large or small value.\n",
    "\n",
    "Let's look at a scatterplot of another data set with obvious outliers, and then with the outliers removed:"
   ]
  },
  {
   "cell_type": "code",
   "execution_count": null,
   "metadata": {},
   "outputs": [],
   "source": [
    "x = [1, 2, 3, 4, 5, 6, 7, 8, 9]\n",
    "y = [2.5, 4.8, 25, 9.6, 12, 14.4, 22.8, 19, 21.7]\n",
    "\n",
    "import plotly.express as px\n",
    "px.scatter(x=x, y=y, title='Scatterplot with Trendline and Outliers', trendline='ols').show()\n",
    "for i in [6, 2]:  # remove the 7th and 3rd values, starting from the higher index to avoid reindexing errors\n",
    "    x.pop(i)\n",
    "    y.pop(i)\n",
    "px.scatter(x=x, y=y, title='Scatterplot with Trenline without Outliers', trendline='ols').show()"
   ]
  },
  {
   "cell_type": "markdown",
   "metadata": {},
   "source": [
    "We can see that removing those outliers had a large effect on the position of the [trendline](https://simple.wikipedia.org/wiki/Linear_regression).\n",
    "\n",
    "We use measures of central tendency to communicate important information about a data set, without describing every value in the set. Usually mean (or a trendline) is a good representation, since it is affected by all the points, but that's not always a good thing. If there are outliers in the data, median might be a more accurate representation of the middle of the data set. \n",
    "\n",
    "For the food data, if we don't eat soy sauce often, then it would be an outlier and the mean value would be less accurate than the median. If we use the median, we can include data about soy sauce and it would still be an accurate representation of the salt we eat.\n",
    "\n",
    "## Conclusion\n",
    "\n",
    "In this notebook, we learned how an outlier affects central tendency. \n",
    "\n",
    "When an outlier is added to (or removed from) a data set:\n",
    "* mean changes the most \n",
    "* median changes a little bit\n",
    "* mode doesn't change unless there are multiple outliers with the same value\n",
    "\n",
    "Also, not all larger or smaller values should be called outliers and excluded from data. "
   ]
  },
  {
   "cell_type": "markdown",
   "metadata": {},
   "source": [
    "[![Callysto.ca License](https://github.com/callysto/curriculum-notebooks/blob/master/callysto-notebook-banner-bottom.jpg?raw=true)](https://github.com/callysto/curriculum-notebooks/blob/master/LICENSE.md)"
   ]
  }
 ],
 "metadata": {
  "kernelspec": {
   "display_name": "Python 3 (ipykernel)",
   "language": "python",
   "name": "python3"
  },
  "language_info": {
   "codemirror_mode": {
    "name": "ipython",
    "version": 3
   },
   "file_extension": ".py",
   "mimetype": "text/x-python",
   "name": "python",
   "nbconvert_exporter": "python",
   "pygments_lexer": "ipython3",
   "version": "3.9.12"
  },
  "vscode": {
   "interpreter": {
    "hash": "aee8b7b246df8f9039afb4144a1f6fd8d2ca17a180786b69acc140d282b71a49"
   }
  }
 },
 "nbformat": 4,
 "nbformat_minor": 4
}
