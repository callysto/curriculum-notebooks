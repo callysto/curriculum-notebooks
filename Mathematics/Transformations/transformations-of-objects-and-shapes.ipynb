{
 "cells": [
  {
   "cell_type": "markdown",
   "metadata": {},
   "source": [
    "![Callysto.ca Banner](https://github.com/callysto/curriculum-notebooks/blob/master/callysto-notebook-banner-top.jpg?raw=true)\n",
    "\n",
    "<a href=\"https://hub.callysto.ca/jupyter/hub/user-redirect/git-pull?repo=https%3A%2F%2Fgithub.com%2Fcallysto%2Fcurriculum-notebooks&branch=master&subPath=Mathematics/Transformations/transformations-of-objects-and-shapes.ipynb&depth=1\" target=\"_parent\"><img src=\"https://raw.githubusercontent.com/callysto/curriculum-notebooks/master/open-in-callysto-button.svg?sanitize=true\" width=\"123\" height=\"24\" alt=\"Open in Callysto\"/></a>"
   ]
  },
  {
   "cell_type": "markdown",
   "metadata": {},
   "source": [
    "# Geometry Transformations\n",
    "\n",
    "## Introduction\n",
    "\n",
    "In geometry there are four types of transformations:\n",
    "\n",
    "**Translation**: change in position\n",
    "\n",
    "**Reflection**: mirror image across a line\n",
    "\n",
    "**Rotation**: circular movement around a central point\n",
    "\n",
    "**Resizing**: a shape or object changing size\n",
    "\n",
    "## Translations\n",
    "\n",
    "We will use a [coordinate plane](https://simple.wikipedia.org/wiki/Cartesian_coordinate_system) with *x* and *y* axes from -10 to +10. When we translate a shape we move it to another spot on the coordinate plane without changing anything else.\n",
    "\n",
    "### Interactive Example\n",
    "\n",
    "▶ Run the next code cell, then move the sliders to translate the rectangle."
   ]
  },
  {
   "cell_type": "code",
   "execution_count": 2,
   "metadata": {},
   "outputs": [
    {
     "data": {
      "application/vnd.plotly.v1+json": {
       "config": {
        "plotlyServerURL": "https://plot.ly"
       },
       "data": [
        {
         "mode": "lines+markers+text",
         "name": "original",
         "text": [
          "A",
          "B",
          "C",
          "D"
         ],
         "textposition": "top left",
         "type": "scatter",
         "x": [
          1,
          1,
          4,
          4,
          1
         ],
         "y": [
          1,
          4,
          4,
          1,
          1
         ]
        },
        {
         "mode": "lines+markers+text",
         "name": "translated",
         "text": [
          "A",
          "B",
          "C",
          "D"
         ],
         "textposition": "top left",
         "type": "scatter",
         "x": [
          1,
          1,
          4,
          4,
          1
         ],
         "y": [
          1,
          4,
          4,
          1,
          1
         ]
        }
       ],
       "layout": {
        "height": 650,
        "sliders": [
         {
          "active": 11,
          "currentvalue": {
           "prefix": "x axis translation: "
          },
          "pad": {
           "t": 35
          },
          "steps": [
           {
            "args": [
             {
              "x[0]": [
               1,
               -10
              ],
              "x[1]": [
               1,
               -10
              ],
              "x[2]": [
               4,
               -7
              ],
              "x[3]": [
               4,
               -7
              ],
              "x[4]": [
               1,
               -10
              ]
             }
            ],
            "label": "-11"
           },
           {
            "args": [
             {
              "x[0]": [
               1,
               -9
              ],
              "x[1]": [
               1,
               -9
              ],
              "x[2]": [
               4,
               -6
              ],
              "x[3]": [
               4,
               -6
              ],
              "x[4]": [
               1,
               -9
              ]
             }
            ],
            "label": "-10"
           },
           {
            "args": [
             {
              "x[0]": [
               1,
               -8
              ],
              "x[1]": [
               1,
               -8
              ],
              "x[2]": [
               4,
               -5
              ],
              "x[3]": [
               4,
               -5
              ],
              "x[4]": [
               1,
               -8
              ]
             }
            ],
            "label": "-9"
           },
           {
            "args": [
             {
              "x[0]": [
               1,
               -7
              ],
              "x[1]": [
               1,
               -7
              ],
              "x[2]": [
               4,
               -4
              ],
              "x[3]": [
               4,
               -4
              ],
              "x[4]": [
               1,
               -7
              ]
             }
            ],
            "label": "-8"
           },
           {
            "args": [
             {
              "x[0]": [
               1,
               -6
              ],
              "x[1]": [
               1,
               -6
              ],
              "x[2]": [
               4,
               -3
              ],
              "x[3]": [
               4,
               -3
              ],
              "x[4]": [
               1,
               -6
              ]
             }
            ],
            "label": "-7"
           },
           {
            "args": [
             {
              "x[0]": [
               1,
               -5
              ],
              "x[1]": [
               1,
               -5
              ],
              "x[2]": [
               4,
               -2
              ],
              "x[3]": [
               4,
               -2
              ],
              "x[4]": [
               1,
               -5
              ]
             }
            ],
            "label": "-6"
           },
           {
            "args": [
             {
              "x[0]": [
               1,
               -4
              ],
              "x[1]": [
               1,
               -4
              ],
              "x[2]": [
               4,
               -1
              ],
              "x[3]": [
               4,
               -1
              ],
              "x[4]": [
               1,
               -4
              ]
             }
            ],
            "label": "-5"
           },
           {
            "args": [
             {
              "x[0]": [
               1,
               -3
              ],
              "x[1]": [
               1,
               -3
              ],
              "x[2]": [
               4,
               0
              ],
              "x[3]": [
               4,
               0
              ],
              "x[4]": [
               1,
               -3
              ]
             }
            ],
            "label": "-4"
           },
           {
            "args": [
             {
              "x[0]": [
               1,
               -2
              ],
              "x[1]": [
               1,
               -2
              ],
              "x[2]": [
               4,
               1
              ],
              "x[3]": [
               4,
               1
              ],
              "x[4]": [
               1,
               -2
              ]
             }
            ],
            "label": "-3"
           },
           {
            "args": [
             {
              "x[0]": [
               1,
               -1
              ],
              "x[1]": [
               1,
               -1
              ],
              "x[2]": [
               4,
               2
              ],
              "x[3]": [
               4,
               2
              ],
              "x[4]": [
               1,
               -1
              ]
             }
            ],
            "label": "-2"
           },
           {
            "args": [
             {
              "x[0]": [
               1,
               0
              ],
              "x[1]": [
               1,
               0
              ],
              "x[2]": [
               4,
               3
              ],
              "x[3]": [
               4,
               3
              ],
              "x[4]": [
               1,
               0
              ]
             }
            ],
            "label": "-1"
           },
           {
            "args": [
             {
              "x[0]": [
               1,
               1
              ],
              "x[1]": [
               1,
               1
              ],
              "x[2]": [
               4,
               4
              ],
              "x[3]": [
               4,
               4
              ],
              "x[4]": [
               1,
               1
              ]
             }
            ],
            "label": "0"
           },
           {
            "args": [
             {
              "x[0]": [
               1,
               2
              ],
              "x[1]": [
               1,
               2
              ],
              "x[2]": [
               4,
               5
              ],
              "x[3]": [
               4,
               5
              ],
              "x[4]": [
               1,
               2
              ]
             }
            ],
            "label": "1"
           },
           {
            "args": [
             {
              "x[0]": [
               1,
               3
              ],
              "x[1]": [
               1,
               3
              ],
              "x[2]": [
               4,
               6
              ],
              "x[3]": [
               4,
               6
              ],
              "x[4]": [
               1,
               3
              ]
             }
            ],
            "label": "2"
           },
           {
            "args": [
             {
              "x[0]": [
               1,
               4
              ],
              "x[1]": [
               1,
               4
              ],
              "x[2]": [
               4,
               7
              ],
              "x[3]": [
               4,
               7
              ],
              "x[4]": [
               1,
               4
              ]
             }
            ],
            "label": "3"
           },
           {
            "args": [
             {
              "x[0]": [
               1,
               5
              ],
              "x[1]": [
               1,
               5
              ],
              "x[2]": [
               4,
               8
              ],
              "x[3]": [
               4,
               8
              ],
              "x[4]": [
               1,
               5
              ]
             }
            ],
            "label": "4"
           },
           {
            "args": [
             {
              "x[0]": [
               1,
               6
              ],
              "x[1]": [
               1,
               6
              ],
              "x[2]": [
               4,
               9
              ],
              "x[3]": [
               4,
               9
              ],
              "x[4]": [
               1,
               6
              ]
             }
            ],
            "label": "5"
           },
           {
            "args": [
             {
              "x[0]": [
               1,
               7
              ],
              "x[1]": [
               1,
               7
              ],
              "x[2]": [
               4,
               10
              ],
              "x[3]": [
               4,
               10
              ],
              "x[4]": [
               1,
               7
              ]
             }
            ],
            "label": "6"
           }
          ]
         },
         {
          "active": 11,
          "currentvalue": {
           "prefix": "y axis translation: "
          },
          "pad": {
           "t": 120
          },
          "steps": [
           {
            "args": [
             {
              "y[0]": [
               1,
               -7
              ],
              "y[1]": [
               4,
               -10
              ],
              "y[2]": [
               4,
               -10
              ],
              "y[3]": [
               1,
               -7
              ],
              "y[4]": [
               1,
               -7
              ]
             }
            ],
            "label": "-11"
           },
           {
            "args": [
             {
              "y[0]": [
               1,
               -6
              ],
              "y[1]": [
               4,
               -9
              ],
              "y[2]": [
               4,
               -9
              ],
              "y[3]": [
               1,
               -6
              ],
              "y[4]": [
               1,
               -6
              ]
             }
            ],
            "label": "-10"
           },
           {
            "args": [
             {
              "y[0]": [
               1,
               -5
              ],
              "y[1]": [
               4,
               -8
              ],
              "y[2]": [
               4,
               -8
              ],
              "y[3]": [
               1,
               -5
              ],
              "y[4]": [
               1,
               -5
              ]
             }
            ],
            "label": "-9"
           },
           {
            "args": [
             {
              "y[0]": [
               1,
               -4
              ],
              "y[1]": [
               4,
               -7
              ],
              "y[2]": [
               4,
               -7
              ],
              "y[3]": [
               1,
               -4
              ],
              "y[4]": [
               1,
               -4
              ]
             }
            ],
            "label": "-8"
           },
           {
            "args": [
             {
              "y[0]": [
               1,
               -3
              ],
              "y[1]": [
               4,
               -6
              ],
              "y[2]": [
               4,
               -6
              ],
              "y[3]": [
               1,
               -3
              ],
              "y[4]": [
               1,
               -3
              ]
             }
            ],
            "label": "-7"
           },
           {
            "args": [
             {
              "y[0]": [
               1,
               -2
              ],
              "y[1]": [
               4,
               -5
              ],
              "y[2]": [
               4,
               -5
              ],
              "y[3]": [
               1,
               -2
              ],
              "y[4]": [
               1,
               -2
              ]
             }
            ],
            "label": "-6"
           },
           {
            "args": [
             {
              "y[0]": [
               1,
               -1
              ],
              "y[1]": [
               4,
               -4
              ],
              "y[2]": [
               4,
               -4
              ],
              "y[3]": [
               1,
               -1
              ],
              "y[4]": [
               1,
               -1
              ]
             }
            ],
            "label": "-5"
           },
           {
            "args": [
             {
              "y[0]": [
               1,
               0
              ],
              "y[1]": [
               4,
               -3
              ],
              "y[2]": [
               4,
               -3
              ],
              "y[3]": [
               1,
               0
              ],
              "y[4]": [
               1,
               0
              ]
             }
            ],
            "label": "-4"
           },
           {
            "args": [
             {
              "y[0]": [
               1,
               1
              ],
              "y[1]": [
               4,
               -2
              ],
              "y[2]": [
               4,
               -2
              ],
              "y[3]": [
               1,
               1
              ],
              "y[4]": [
               1,
               1
              ]
             }
            ],
            "label": "-3"
           },
           {
            "args": [
             {
              "y[0]": [
               1,
               2
              ],
              "y[1]": [
               4,
               -1
              ],
              "y[2]": [
               4,
               -1
              ],
              "y[3]": [
               1,
               2
              ],
              "y[4]": [
               1,
               2
              ]
             }
            ],
            "label": "-2"
           },
           {
            "args": [
             {
              "y[0]": [
               1,
               3
              ],
              "y[1]": [
               4,
               0
              ],
              "y[2]": [
               4,
               0
              ],
              "y[3]": [
               1,
               3
              ],
              "y[4]": [
               1,
               3
              ]
             }
            ],
            "label": "-1"
           },
           {
            "args": [
             {
              "y[0]": [
               1,
               4
              ],
              "y[1]": [
               4,
               1
              ],
              "y[2]": [
               4,
               1
              ],
              "y[3]": [
               1,
               4
              ],
              "y[4]": [
               1,
               4
              ]
             }
            ],
            "label": "0"
           },
           {
            "args": [
             {
              "y[0]": [
               1,
               5
              ],
              "y[1]": [
               4,
               2
              ],
              "y[2]": [
               4,
               2
              ],
              "y[3]": [
               1,
               5
              ],
              "y[4]": [
               1,
               5
              ]
             }
            ],
            "label": "1"
           },
           {
            "args": [
             {
              "y[0]": [
               1,
               6
              ],
              "y[1]": [
               4,
               3
              ],
              "y[2]": [
               4,
               3
              ],
              "y[3]": [
               1,
               6
              ],
              "y[4]": [
               1,
               6
              ]
             }
            ],
            "label": "2"
           },
           {
            "args": [
             {
              "y[0]": [
               1,
               7
              ],
              "y[1]": [
               4,
               4
              ],
              "y[2]": [
               4,
               4
              ],
              "y[3]": [
               1,
               7
              ],
              "y[4]": [
               1,
               7
              ]
             }
            ],
            "label": "3"
           },
           {
            "args": [
             {
              "y[0]": [
               1,
               8
              ],
              "y[1]": [
               4,
               5
              ],
              "y[2]": [
               4,
               5
              ],
              "y[3]": [
               1,
               8
              ],
              "y[4]": [
               1,
               8
              ]
             }
            ],
            "label": "4"
           },
           {
            "args": [
             {
              "y[0]": [
               1,
               9
              ],
              "y[1]": [
               4,
               6
              ],
              "y[2]": [
               4,
               6
              ],
              "y[3]": [
               1,
               9
              ],
              "y[4]": [
               1,
               9
              ]
             }
            ],
            "label": "5"
           },
           {
            "args": [
             {
              "y[0]": [
               1,
               10
              ],
              "y[1]": [
               4,
               7
              ],
              "y[2]": [
               4,
               7
              ],
              "y[3]": [
               1,
               10
              ],
              "y[4]": [
               1,
               10
              ]
             }
            ],
            "label": "6"
           }
          ]
         }
        ],
        "template": {
         "data": {
          "bar": [
           {
            "error_x": {
             "color": "#2a3f5f"
            },
            "error_y": {
             "color": "#2a3f5f"
            },
            "marker": {
             "line": {
              "color": "#E5ECF6",
              "width": 0.5
             },
             "pattern": {
              "fillmode": "overlay",
              "size": 10,
              "solidity": 0.2
             }
            },
            "type": "bar"
           }
          ],
          "barpolar": [
           {
            "marker": {
             "line": {
              "color": "#E5ECF6",
              "width": 0.5
             },
             "pattern": {
              "fillmode": "overlay",
              "size": 10,
              "solidity": 0.2
             }
            },
            "type": "barpolar"
           }
          ],
          "carpet": [
           {
            "aaxis": {
             "endlinecolor": "#2a3f5f",
             "gridcolor": "white",
             "linecolor": "white",
             "minorgridcolor": "white",
             "startlinecolor": "#2a3f5f"
            },
            "baxis": {
             "endlinecolor": "#2a3f5f",
             "gridcolor": "white",
             "linecolor": "white",
             "minorgridcolor": "white",
             "startlinecolor": "#2a3f5f"
            },
            "type": "carpet"
           }
          ],
          "choropleth": [
           {
            "colorbar": {
             "outlinewidth": 0,
             "ticks": ""
            },
            "type": "choropleth"
           }
          ],
          "contour": [
           {
            "colorbar": {
             "outlinewidth": 0,
             "ticks": ""
            },
            "colorscale": [
             [
              0,
              "#0d0887"
             ],
             [
              0.1111111111111111,
              "#46039f"
             ],
             [
              0.2222222222222222,
              "#7201a8"
             ],
             [
              0.3333333333333333,
              "#9c179e"
             ],
             [
              0.4444444444444444,
              "#bd3786"
             ],
             [
              0.5555555555555556,
              "#d8576b"
             ],
             [
              0.6666666666666666,
              "#ed7953"
             ],
             [
              0.7777777777777778,
              "#fb9f3a"
             ],
             [
              0.8888888888888888,
              "#fdca26"
             ],
             [
              1,
              "#f0f921"
             ]
            ],
            "type": "contour"
           }
          ],
          "contourcarpet": [
           {
            "colorbar": {
             "outlinewidth": 0,
             "ticks": ""
            },
            "type": "contourcarpet"
           }
          ],
          "heatmap": [
           {
            "colorbar": {
             "outlinewidth": 0,
             "ticks": ""
            },
            "colorscale": [
             [
              0,
              "#0d0887"
             ],
             [
              0.1111111111111111,
              "#46039f"
             ],
             [
              0.2222222222222222,
              "#7201a8"
             ],
             [
              0.3333333333333333,
              "#9c179e"
             ],
             [
              0.4444444444444444,
              "#bd3786"
             ],
             [
              0.5555555555555556,
              "#d8576b"
             ],
             [
              0.6666666666666666,
              "#ed7953"
             ],
             [
              0.7777777777777778,
              "#fb9f3a"
             ],
             [
              0.8888888888888888,
              "#fdca26"
             ],
             [
              1,
              "#f0f921"
             ]
            ],
            "type": "heatmap"
           }
          ],
          "heatmapgl": [
           {
            "colorbar": {
             "outlinewidth": 0,
             "ticks": ""
            },
            "colorscale": [
             [
              0,
              "#0d0887"
             ],
             [
              0.1111111111111111,
              "#46039f"
             ],
             [
              0.2222222222222222,
              "#7201a8"
             ],
             [
              0.3333333333333333,
              "#9c179e"
             ],
             [
              0.4444444444444444,
              "#bd3786"
             ],
             [
              0.5555555555555556,
              "#d8576b"
             ],
             [
              0.6666666666666666,
              "#ed7953"
             ],
             [
              0.7777777777777778,
              "#fb9f3a"
             ],
             [
              0.8888888888888888,
              "#fdca26"
             ],
             [
              1,
              "#f0f921"
             ]
            ],
            "type": "heatmapgl"
           }
          ],
          "histogram": [
           {
            "marker": {
             "pattern": {
              "fillmode": "overlay",
              "size": 10,
              "solidity": 0.2
             }
            },
            "type": "histogram"
           }
          ],
          "histogram2d": [
           {
            "colorbar": {
             "outlinewidth": 0,
             "ticks": ""
            },
            "colorscale": [
             [
              0,
              "#0d0887"
             ],
             [
              0.1111111111111111,
              "#46039f"
             ],
             [
              0.2222222222222222,
              "#7201a8"
             ],
             [
              0.3333333333333333,
              "#9c179e"
             ],
             [
              0.4444444444444444,
              "#bd3786"
             ],
             [
              0.5555555555555556,
              "#d8576b"
             ],
             [
              0.6666666666666666,
              "#ed7953"
             ],
             [
              0.7777777777777778,
              "#fb9f3a"
             ],
             [
              0.8888888888888888,
              "#fdca26"
             ],
             [
              1,
              "#f0f921"
             ]
            ],
            "type": "histogram2d"
           }
          ],
          "histogram2dcontour": [
           {
            "colorbar": {
             "outlinewidth": 0,
             "ticks": ""
            },
            "colorscale": [
             [
              0,
              "#0d0887"
             ],
             [
              0.1111111111111111,
              "#46039f"
             ],
             [
              0.2222222222222222,
              "#7201a8"
             ],
             [
              0.3333333333333333,
              "#9c179e"
             ],
             [
              0.4444444444444444,
              "#bd3786"
             ],
             [
              0.5555555555555556,
              "#d8576b"
             ],
             [
              0.6666666666666666,
              "#ed7953"
             ],
             [
              0.7777777777777778,
              "#fb9f3a"
             ],
             [
              0.8888888888888888,
              "#fdca26"
             ],
             [
              1,
              "#f0f921"
             ]
            ],
            "type": "histogram2dcontour"
           }
          ],
          "mesh3d": [
           {
            "colorbar": {
             "outlinewidth": 0,
             "ticks": ""
            },
            "type": "mesh3d"
           }
          ],
          "parcoords": [
           {
            "line": {
             "colorbar": {
              "outlinewidth": 0,
              "ticks": ""
             }
            },
            "type": "parcoords"
           }
          ],
          "pie": [
           {
            "automargin": true,
            "type": "pie"
           }
          ],
          "scatter": [
           {
            "marker": {
             "colorbar": {
              "outlinewidth": 0,
              "ticks": ""
             }
            },
            "type": "scatter"
           }
          ],
          "scatter3d": [
           {
            "line": {
             "colorbar": {
              "outlinewidth": 0,
              "ticks": ""
             }
            },
            "marker": {
             "colorbar": {
              "outlinewidth": 0,
              "ticks": ""
             }
            },
            "type": "scatter3d"
           }
          ],
          "scattercarpet": [
           {
            "marker": {
             "colorbar": {
              "outlinewidth": 0,
              "ticks": ""
             }
            },
            "type": "scattercarpet"
           }
          ],
          "scattergeo": [
           {
            "marker": {
             "colorbar": {
              "outlinewidth": 0,
              "ticks": ""
             }
            },
            "type": "scattergeo"
           }
          ],
          "scattergl": [
           {
            "marker": {
             "colorbar": {
              "outlinewidth": 0,
              "ticks": ""
             }
            },
            "type": "scattergl"
           }
          ],
          "scattermapbox": [
           {
            "marker": {
             "colorbar": {
              "outlinewidth": 0,
              "ticks": ""
             }
            },
            "type": "scattermapbox"
           }
          ],
          "scatterpolar": [
           {
            "marker": {
             "colorbar": {
              "outlinewidth": 0,
              "ticks": ""
             }
            },
            "type": "scatterpolar"
           }
          ],
          "scatterpolargl": [
           {
            "marker": {
             "colorbar": {
              "outlinewidth": 0,
              "ticks": ""
             }
            },
            "type": "scatterpolargl"
           }
          ],
          "scatterternary": [
           {
            "marker": {
             "colorbar": {
              "outlinewidth": 0,
              "ticks": ""
             }
            },
            "type": "scatterternary"
           }
          ],
          "surface": [
           {
            "colorbar": {
             "outlinewidth": 0,
             "ticks": ""
            },
            "colorscale": [
             [
              0,
              "#0d0887"
             ],
             [
              0.1111111111111111,
              "#46039f"
             ],
             [
              0.2222222222222222,
              "#7201a8"
             ],
             [
              0.3333333333333333,
              "#9c179e"
             ],
             [
              0.4444444444444444,
              "#bd3786"
             ],
             [
              0.5555555555555556,
              "#d8576b"
             ],
             [
              0.6666666666666666,
              "#ed7953"
             ],
             [
              0.7777777777777778,
              "#fb9f3a"
             ],
             [
              0.8888888888888888,
              "#fdca26"
             ],
             [
              1,
              "#f0f921"
             ]
            ],
            "type": "surface"
           }
          ],
          "table": [
           {
            "cells": {
             "fill": {
              "color": "#EBF0F8"
             },
             "line": {
              "color": "white"
             }
            },
            "header": {
             "fill": {
              "color": "#C8D4E3"
             },
             "line": {
              "color": "white"
             }
            },
            "type": "table"
           }
          ]
         },
         "layout": {
          "annotationdefaults": {
           "arrowcolor": "#2a3f5f",
           "arrowhead": 0,
           "arrowwidth": 1
          },
          "autotypenumbers": "strict",
          "coloraxis": {
           "colorbar": {
            "outlinewidth": 0,
            "ticks": ""
           }
          },
          "colorscale": {
           "diverging": [
            [
             0,
             "#8e0152"
            ],
            [
             0.1,
             "#c51b7d"
            ],
            [
             0.2,
             "#de77ae"
            ],
            [
             0.3,
             "#f1b6da"
            ],
            [
             0.4,
             "#fde0ef"
            ],
            [
             0.5,
             "#f7f7f7"
            ],
            [
             0.6,
             "#e6f5d0"
            ],
            [
             0.7,
             "#b8e186"
            ],
            [
             0.8,
             "#7fbc41"
            ],
            [
             0.9,
             "#4d9221"
            ],
            [
             1,
             "#276419"
            ]
           ],
           "sequential": [
            [
             0,
             "#0d0887"
            ],
            [
             0.1111111111111111,
             "#46039f"
            ],
            [
             0.2222222222222222,
             "#7201a8"
            ],
            [
             0.3333333333333333,
             "#9c179e"
            ],
            [
             0.4444444444444444,
             "#bd3786"
            ],
            [
             0.5555555555555556,
             "#d8576b"
            ],
            [
             0.6666666666666666,
             "#ed7953"
            ],
            [
             0.7777777777777778,
             "#fb9f3a"
            ],
            [
             0.8888888888888888,
             "#fdca26"
            ],
            [
             1,
             "#f0f921"
            ]
           ],
           "sequentialminus": [
            [
             0,
             "#0d0887"
            ],
            [
             0.1111111111111111,
             "#46039f"
            ],
            [
             0.2222222222222222,
             "#7201a8"
            ],
            [
             0.3333333333333333,
             "#9c179e"
            ],
            [
             0.4444444444444444,
             "#bd3786"
            ],
            [
             0.5555555555555556,
             "#d8576b"
            ],
            [
             0.6666666666666666,
             "#ed7953"
            ],
            [
             0.7777777777777778,
             "#fb9f3a"
            ],
            [
             0.8888888888888888,
             "#fdca26"
            ],
            [
             1,
             "#f0f921"
            ]
           ]
          },
          "colorway": [
           "#636efa",
           "#EF553B",
           "#00cc96",
           "#ab63fa",
           "#FFA15A",
           "#19d3f3",
           "#FF6692",
           "#B6E880",
           "#FF97FF",
           "#FECB52"
          ],
          "font": {
           "color": "#2a3f5f"
          },
          "geo": {
           "bgcolor": "white",
           "lakecolor": "white",
           "landcolor": "#E5ECF6",
           "showlakes": true,
           "showland": true,
           "subunitcolor": "white"
          },
          "hoverlabel": {
           "align": "left"
          },
          "hovermode": "closest",
          "mapbox": {
           "style": "light"
          },
          "paper_bgcolor": "white",
          "plot_bgcolor": "#E5ECF6",
          "polar": {
           "angularaxis": {
            "gridcolor": "white",
            "linecolor": "white",
            "ticks": ""
           },
           "bgcolor": "#E5ECF6",
           "radialaxis": {
            "gridcolor": "white",
            "linecolor": "white",
            "ticks": ""
           }
          },
          "scene": {
           "xaxis": {
            "backgroundcolor": "#E5ECF6",
            "gridcolor": "white",
            "gridwidth": 2,
            "linecolor": "white",
            "showbackground": true,
            "ticks": "",
            "zerolinecolor": "white"
           },
           "yaxis": {
            "backgroundcolor": "#E5ECF6",
            "gridcolor": "white",
            "gridwidth": 2,
            "linecolor": "white",
            "showbackground": true,
            "ticks": "",
            "zerolinecolor": "white"
           },
           "zaxis": {
            "backgroundcolor": "#E5ECF6",
            "gridcolor": "white",
            "gridwidth": 2,
            "linecolor": "white",
            "showbackground": true,
            "ticks": "",
            "zerolinecolor": "white"
           }
          },
          "shapedefaults": {
           "line": {
            "color": "#2a3f5f"
           }
          },
          "ternary": {
           "aaxis": {
            "gridcolor": "white",
            "linecolor": "white",
            "ticks": ""
           },
           "baxis": {
            "gridcolor": "white",
            "linecolor": "white",
            "ticks": ""
           },
           "bgcolor": "#E5ECF6",
           "caxis": {
            "gridcolor": "white",
            "linecolor": "white",
            "ticks": ""
           }
          },
          "title": {
           "x": 0.05
          },
          "xaxis": {
           "automargin": true,
           "gridcolor": "white",
           "linecolor": "white",
           "ticks": "",
           "title": {
            "standoff": 15
           },
           "zerolinecolor": "white",
           "zerolinewidth": 2
          },
          "yaxis": {
           "automargin": true,
           "gridcolor": "white",
           "linecolor": "white",
           "ticks": "",
           "title": {
            "standoff": 15
           },
           "zerolinecolor": "white",
           "zerolinewidth": 2
          }
         }
        },
        "title": {
         "text": "Translation on a Coordinate Plane"
        },
        "width": 950,
        "xaxis": {
         "dtick": 1,
         "range": [
          -10,
          10
         ],
         "showgrid": true
        },
        "yaxis": {
         "dtick": 1,
         "range": [
          -10,
          10
         ],
         "showgrid": true
        }
       }
      }
     },
     "metadata": {},
     "output_type": "display_data"
    }
   ],
   "source": [
    "import plotly.graph_objs as go\n",
    "start_x = [1, 1, 4, 4, 1]\n",
    "start_y = [1, 4, 4, 1, 1]\n",
    "labels = ['A', 'B', 'C', 'D']\n",
    "\n",
    "data = [{'mode':'lines+markers+text','name':'original','text':labels,'textposition':'top left','x':start_x,'y':start_y},\n",
    "        {'mode':'lines+markers+text','name':'translated','text':labels,'textposition':'top left','x':start_x,'y':start_y}]\n",
    "\n",
    "hsteps = [{'label':i-11,'args':[{'x[0]':[1,-10+i],'x[1]':[1,-10+i],'x[2]':[4,-7+i],'x[3]':[4,-7+i],'x[4]':[1,-10+i]}]} for i in range(18)]\n",
    "vsteps = [{'label':i-11,'args':[{'y[0]':[1,-7+i],'y[1]':[4,-10+i],'y[2]':[4,-10+i],'y[3]':[1,-7+i],'y[4]':[1,-7+i]}]} for i in range(18)]\n",
    "\n",
    "sliders = [{'active':11,'currentvalue':{\"prefix\":\"x axis translation: \"},'pad':{\"t\":35},'steps':hsteps},\n",
    "           {'active':11,'currentvalue':{\"prefix\":\"y axis translation: \"},'pad':{\"t\":120},'steps':vsteps}]\n",
    "\n",
    "layout = go.Layout(\n",
    "        title = 'Translation on a Coordinate Plane',\n",
    "        yaxis = {'range':[-10,10],'showgrid':True,'dtick':1},\n",
    "        xaxis = {'range':[-10,10],'showgrid':True,'dtick':1},\n",
    "        sliders = sliders,\n",
    "        width=950, height=650)\n",
    "\n",
    "go.Figure(data=data, layout=layout).show()"
   ]
  },
  {
   "cell_type": "markdown",
   "metadata": {},
   "source": [
    "## Reflections\n",
    "\n",
    "When we reflect a shape across an axis we are changing the signs of the coordinate points of the object.\n",
    "\n",
    "An object can also be reflected across a line that is not *x* = 0 or *y* = 0. If the reflection line is horizontal we will be changing the *y* coordinates of the object and if the line is vertical we will only be changing the *x* coordinates.\n",
    "\n",
    "### Interactive Example\n",
    "\n",
    "▶ Run the next code cell, then the two drop-down menus allow you to choose to reflect across a vertical line or a horizontal line."
   ]
  },
  {
   "cell_type": "code",
   "execution_count": 42,
   "metadata": {
    "collapsed": true
   },
   "outputs": [
    {
     "data": {
      "application/vnd.plotly.v1+json": {
       "config": {
        "plotlyServerURL": "https://plot.ly"
       },
       "data": [
        {
         "mode": "lines+markers+text",
         "name": "Original",
         "text": [
          "A",
          "B",
          "C",
          "D"
         ],
         "textposition": "top left",
         "type": "scatter",
         "x": [
          1,
          1,
          3,
          3,
          1
         ],
         "y": [
          1,
          3,
          3,
          1,
          1
         ]
        },
        {
         "mode": "lines+markers+text",
         "name": "Reflected",
         "text": [
          "A",
          "B",
          "C",
          "D"
         ],
         "textposition": "top left",
         "type": "scatter",
         "x": [
          1,
          1,
          3,
          3,
          1
         ],
         "y": [
          1,
          3,
          3,
          1,
          1
         ]
        }
       ],
       "layout": {
        "template": {
         "data": {
          "bar": [
           {
            "error_x": {
             "color": "#2a3f5f"
            },
            "error_y": {
             "color": "#2a3f5f"
            },
            "marker": {
             "line": {
              "color": "#E5ECF6",
              "width": 0.5
             },
             "pattern": {
              "fillmode": "overlay",
              "size": 10,
              "solidity": 0.2
             }
            },
            "type": "bar"
           }
          ],
          "barpolar": [
           {
            "marker": {
             "line": {
              "color": "#E5ECF6",
              "width": 0.5
             },
             "pattern": {
              "fillmode": "overlay",
              "size": 10,
              "solidity": 0.2
             }
            },
            "type": "barpolar"
           }
          ],
          "carpet": [
           {
            "aaxis": {
             "endlinecolor": "#2a3f5f",
             "gridcolor": "white",
             "linecolor": "white",
             "minorgridcolor": "white",
             "startlinecolor": "#2a3f5f"
            },
            "baxis": {
             "endlinecolor": "#2a3f5f",
             "gridcolor": "white",
             "linecolor": "white",
             "minorgridcolor": "white",
             "startlinecolor": "#2a3f5f"
            },
            "type": "carpet"
           }
          ],
          "choropleth": [
           {
            "colorbar": {
             "outlinewidth": 0,
             "ticks": ""
            },
            "type": "choropleth"
           }
          ],
          "contour": [
           {
            "colorbar": {
             "outlinewidth": 0,
             "ticks": ""
            },
            "colorscale": [
             [
              0,
              "#0d0887"
             ],
             [
              0.1111111111111111,
              "#46039f"
             ],
             [
              0.2222222222222222,
              "#7201a8"
             ],
             [
              0.3333333333333333,
              "#9c179e"
             ],
             [
              0.4444444444444444,
              "#bd3786"
             ],
             [
              0.5555555555555556,
              "#d8576b"
             ],
             [
              0.6666666666666666,
              "#ed7953"
             ],
             [
              0.7777777777777778,
              "#fb9f3a"
             ],
             [
              0.8888888888888888,
              "#fdca26"
             ],
             [
              1,
              "#f0f921"
             ]
            ],
            "type": "contour"
           }
          ],
          "contourcarpet": [
           {
            "colorbar": {
             "outlinewidth": 0,
             "ticks": ""
            },
            "type": "contourcarpet"
           }
          ],
          "heatmap": [
           {
            "colorbar": {
             "outlinewidth": 0,
             "ticks": ""
            },
            "colorscale": [
             [
              0,
              "#0d0887"
             ],
             [
              0.1111111111111111,
              "#46039f"
             ],
             [
              0.2222222222222222,
              "#7201a8"
             ],
             [
              0.3333333333333333,
              "#9c179e"
             ],
             [
              0.4444444444444444,
              "#bd3786"
             ],
             [
              0.5555555555555556,
              "#d8576b"
             ],
             [
              0.6666666666666666,
              "#ed7953"
             ],
             [
              0.7777777777777778,
              "#fb9f3a"
             ],
             [
              0.8888888888888888,
              "#fdca26"
             ],
             [
              1,
              "#f0f921"
             ]
            ],
            "type": "heatmap"
           }
          ],
          "heatmapgl": [
           {
            "colorbar": {
             "outlinewidth": 0,
             "ticks": ""
            },
            "colorscale": [
             [
              0,
              "#0d0887"
             ],
             [
              0.1111111111111111,
              "#46039f"
             ],
             [
              0.2222222222222222,
              "#7201a8"
             ],
             [
              0.3333333333333333,
              "#9c179e"
             ],
             [
              0.4444444444444444,
              "#bd3786"
             ],
             [
              0.5555555555555556,
              "#d8576b"
             ],
             [
              0.6666666666666666,
              "#ed7953"
             ],
             [
              0.7777777777777778,
              "#fb9f3a"
             ],
             [
              0.8888888888888888,
              "#fdca26"
             ],
             [
              1,
              "#f0f921"
             ]
            ],
            "type": "heatmapgl"
           }
          ],
          "histogram": [
           {
            "marker": {
             "pattern": {
              "fillmode": "overlay",
              "size": 10,
              "solidity": 0.2
             }
            },
            "type": "histogram"
           }
          ],
          "histogram2d": [
           {
            "colorbar": {
             "outlinewidth": 0,
             "ticks": ""
            },
            "colorscale": [
             [
              0,
              "#0d0887"
             ],
             [
              0.1111111111111111,
              "#46039f"
             ],
             [
              0.2222222222222222,
              "#7201a8"
             ],
             [
              0.3333333333333333,
              "#9c179e"
             ],
             [
              0.4444444444444444,
              "#bd3786"
             ],
             [
              0.5555555555555556,
              "#d8576b"
             ],
             [
              0.6666666666666666,
              "#ed7953"
             ],
             [
              0.7777777777777778,
              "#fb9f3a"
             ],
             [
              0.8888888888888888,
              "#fdca26"
             ],
             [
              1,
              "#f0f921"
             ]
            ],
            "type": "histogram2d"
           }
          ],
          "histogram2dcontour": [
           {
            "colorbar": {
             "outlinewidth": 0,
             "ticks": ""
            },
            "colorscale": [
             [
              0,
              "#0d0887"
             ],
             [
              0.1111111111111111,
              "#46039f"
             ],
             [
              0.2222222222222222,
              "#7201a8"
             ],
             [
              0.3333333333333333,
              "#9c179e"
             ],
             [
              0.4444444444444444,
              "#bd3786"
             ],
             [
              0.5555555555555556,
              "#d8576b"
             ],
             [
              0.6666666666666666,
              "#ed7953"
             ],
             [
              0.7777777777777778,
              "#fb9f3a"
             ],
             [
              0.8888888888888888,
              "#fdca26"
             ],
             [
              1,
              "#f0f921"
             ]
            ],
            "type": "histogram2dcontour"
           }
          ],
          "mesh3d": [
           {
            "colorbar": {
             "outlinewidth": 0,
             "ticks": ""
            },
            "type": "mesh3d"
           }
          ],
          "parcoords": [
           {
            "line": {
             "colorbar": {
              "outlinewidth": 0,
              "ticks": ""
             }
            },
            "type": "parcoords"
           }
          ],
          "pie": [
           {
            "automargin": true,
            "type": "pie"
           }
          ],
          "scatter": [
           {
            "marker": {
             "colorbar": {
              "outlinewidth": 0,
              "ticks": ""
             }
            },
            "type": "scatter"
           }
          ],
          "scatter3d": [
           {
            "line": {
             "colorbar": {
              "outlinewidth": 0,
              "ticks": ""
             }
            },
            "marker": {
             "colorbar": {
              "outlinewidth": 0,
              "ticks": ""
             }
            },
            "type": "scatter3d"
           }
          ],
          "scattercarpet": [
           {
            "marker": {
             "colorbar": {
              "outlinewidth": 0,
              "ticks": ""
             }
            },
            "type": "scattercarpet"
           }
          ],
          "scattergeo": [
           {
            "marker": {
             "colorbar": {
              "outlinewidth": 0,
              "ticks": ""
             }
            },
            "type": "scattergeo"
           }
          ],
          "scattergl": [
           {
            "marker": {
             "colorbar": {
              "outlinewidth": 0,
              "ticks": ""
             }
            },
            "type": "scattergl"
           }
          ],
          "scattermapbox": [
           {
            "marker": {
             "colorbar": {
              "outlinewidth": 0,
              "ticks": ""
             }
            },
            "type": "scattermapbox"
           }
          ],
          "scatterpolar": [
           {
            "marker": {
             "colorbar": {
              "outlinewidth": 0,
              "ticks": ""
             }
            },
            "type": "scatterpolar"
           }
          ],
          "scatterpolargl": [
           {
            "marker": {
             "colorbar": {
              "outlinewidth": 0,
              "ticks": ""
             }
            },
            "type": "scatterpolargl"
           }
          ],
          "scatterternary": [
           {
            "marker": {
             "colorbar": {
              "outlinewidth": 0,
              "ticks": ""
             }
            },
            "type": "scatterternary"
           }
          ],
          "surface": [
           {
            "colorbar": {
             "outlinewidth": 0,
             "ticks": ""
            },
            "colorscale": [
             [
              0,
              "#0d0887"
             ],
             [
              0.1111111111111111,
              "#46039f"
             ],
             [
              0.2222222222222222,
              "#7201a8"
             ],
             [
              0.3333333333333333,
              "#9c179e"
             ],
             [
              0.4444444444444444,
              "#bd3786"
             ],
             [
              0.5555555555555556,
              "#d8576b"
             ],
             [
              0.6666666666666666,
              "#ed7953"
             ],
             [
              0.7777777777777778,
              "#fb9f3a"
             ],
             [
              0.8888888888888888,
              "#fdca26"
             ],
             [
              1,
              "#f0f921"
             ]
            ],
            "type": "surface"
           }
          ],
          "table": [
           {
            "cells": {
             "fill": {
              "color": "#EBF0F8"
             },
             "line": {
              "color": "white"
             }
            },
            "header": {
             "fill": {
              "color": "#C8D4E3"
             },
             "line": {
              "color": "white"
             }
            },
            "type": "table"
           }
          ]
         },
         "layout": {
          "annotationdefaults": {
           "arrowcolor": "#2a3f5f",
           "arrowhead": 0,
           "arrowwidth": 1
          },
          "autotypenumbers": "strict",
          "coloraxis": {
           "colorbar": {
            "outlinewidth": 0,
            "ticks": ""
           }
          },
          "colorscale": {
           "diverging": [
            [
             0,
             "#8e0152"
            ],
            [
             0.1,
             "#c51b7d"
            ],
            [
             0.2,
             "#de77ae"
            ],
            [
             0.3,
             "#f1b6da"
            ],
            [
             0.4,
             "#fde0ef"
            ],
            [
             0.5,
             "#f7f7f7"
            ],
            [
             0.6,
             "#e6f5d0"
            ],
            [
             0.7,
             "#b8e186"
            ],
            [
             0.8,
             "#7fbc41"
            ],
            [
             0.9,
             "#4d9221"
            ],
            [
             1,
             "#276419"
            ]
           ],
           "sequential": [
            [
             0,
             "#0d0887"
            ],
            [
             0.1111111111111111,
             "#46039f"
            ],
            [
             0.2222222222222222,
             "#7201a8"
            ],
            [
             0.3333333333333333,
             "#9c179e"
            ],
            [
             0.4444444444444444,
             "#bd3786"
            ],
            [
             0.5555555555555556,
             "#d8576b"
            ],
            [
             0.6666666666666666,
             "#ed7953"
            ],
            [
             0.7777777777777778,
             "#fb9f3a"
            ],
            [
             0.8888888888888888,
             "#fdca26"
            ],
            [
             1,
             "#f0f921"
            ]
           ],
           "sequentialminus": [
            [
             0,
             "#0d0887"
            ],
            [
             0.1111111111111111,
             "#46039f"
            ],
            [
             0.2222222222222222,
             "#7201a8"
            ],
            [
             0.3333333333333333,
             "#9c179e"
            ],
            [
             0.4444444444444444,
             "#bd3786"
            ],
            [
             0.5555555555555556,
             "#d8576b"
            ],
            [
             0.6666666666666666,
             "#ed7953"
            ],
            [
             0.7777777777777778,
             "#fb9f3a"
            ],
            [
             0.8888888888888888,
             "#fdca26"
            ],
            [
             1,
             "#f0f921"
            ]
           ]
          },
          "colorway": [
           "#636efa",
           "#EF553B",
           "#00cc96",
           "#ab63fa",
           "#FFA15A",
           "#19d3f3",
           "#FF6692",
           "#B6E880",
           "#FF97FF",
           "#FECB52"
          ],
          "font": {
           "color": "#2a3f5f"
          },
          "geo": {
           "bgcolor": "white",
           "lakecolor": "white",
           "landcolor": "#E5ECF6",
           "showlakes": true,
           "showland": true,
           "subunitcolor": "white"
          },
          "hoverlabel": {
           "align": "left"
          },
          "hovermode": "closest",
          "mapbox": {
           "style": "light"
          },
          "paper_bgcolor": "white",
          "plot_bgcolor": "#E5ECF6",
          "polar": {
           "angularaxis": {
            "gridcolor": "white",
            "linecolor": "white",
            "ticks": ""
           },
           "bgcolor": "#E5ECF6",
           "radialaxis": {
            "gridcolor": "white",
            "linecolor": "white",
            "ticks": ""
           }
          },
          "scene": {
           "xaxis": {
            "backgroundcolor": "#E5ECF6",
            "gridcolor": "white",
            "gridwidth": 2,
            "linecolor": "white",
            "showbackground": true,
            "ticks": "",
            "zerolinecolor": "white"
           },
           "yaxis": {
            "backgroundcolor": "#E5ECF6",
            "gridcolor": "white",
            "gridwidth": 2,
            "linecolor": "white",
            "showbackground": true,
            "ticks": "",
            "zerolinecolor": "white"
           },
           "zaxis": {
            "backgroundcolor": "#E5ECF6",
            "gridcolor": "white",
            "gridwidth": 2,
            "linecolor": "white",
            "showbackground": true,
            "ticks": "",
            "zerolinecolor": "white"
           }
          },
          "shapedefaults": {
           "line": {
            "color": "#2a3f5f"
           }
          },
          "ternary": {
           "aaxis": {
            "gridcolor": "white",
            "linecolor": "white",
            "ticks": ""
           },
           "baxis": {
            "gridcolor": "white",
            "linecolor": "white",
            "ticks": ""
           },
           "bgcolor": "#E5ECF6",
           "caxis": {
            "gridcolor": "white",
            "linecolor": "white",
            "ticks": ""
           }
          },
          "title": {
           "x": 0.05
          },
          "xaxis": {
           "automargin": true,
           "gridcolor": "white",
           "linecolor": "white",
           "ticks": "",
           "title": {
            "standoff": 15
           },
           "zerolinecolor": "white",
           "zerolinewidth": 2
          },
          "yaxis": {
           "automargin": true,
           "gridcolor": "white",
           "linecolor": "white",
           "ticks": "",
           "title": {
            "standoff": 15
           },
           "zerolinecolor": "white",
           "zerolinewidth": 2
          }
         }
        },
        "title": {
         "text": "Reflection on a Coordinate Plane"
        },
        "updatemenus": [
         {
          "buttons": [
           {
            "args": [
             {
              "x[0]": [
               1,
               1
              ],
              "x[1]": [
               1,
               1
              ],
              "x[2]": [
               3,
               3
              ],
              "x[3]": [
               3,
               3
              ],
              "x[4]": [
               1,
               1
              ]
             }
            ],
            "label": "No Horizontal Reflection"
           },
           {
            "args": [
             {
              "x[0]": [
               1,
               9
              ],
              "x[1]": [
               1,
               9
              ],
              "x[2]": [
               3,
               7
              ],
              "x[3]": [
               3,
               7
              ],
              "x[4]": [
               1,
               9
              ]
             }
            ],
            "label": "Reflection across x = 5"
           },
           {
            "args": [
             {
              "x[0]": [
               1,
               7
              ],
              "x[1]": [
               1,
               7
              ],
              "x[2]": [
               3,
               5
              ],
              "x[3]": [
               3,
               5
              ],
              "x[4]": [
               1,
               7
              ]
             }
            ],
            "label": "Reflection across x = 4"
           },
           {
            "args": [
             {
              "x[0]": [
               1,
               5
              ],
              "x[1]": [
               1,
               5
              ],
              "x[2]": [
               3,
               3
              ],
              "x[3]": [
               3,
               3
              ],
              "x[4]": [
               1,
               5
              ]
             }
            ],
            "label": "Reflection across x = 3"
           },
           {
            "args": [
             {
              "x[0]": [
               1,
               3
              ],
              "x[1]": [
               1,
               3
              ],
              "x[2]": [
               3,
               1
              ],
              "x[3]": [
               3,
               1
              ],
              "x[4]": [
               1,
               3
              ]
             }
            ],
            "label": "Reflection across x = 2"
           },
           {
            "args": [
             {
              "x[0]": [
               1,
               1
              ],
              "x[1]": [
               1,
               1
              ],
              "x[2]": [
               3,
               -1
              ],
              "x[3]": [
               3,
               -1
              ],
              "x[4]": [
               1,
               1
              ]
             }
            ],
            "label": "Reflection across x = 1"
           },
           {
            "args": [
             {
              "x[0]": [
               1,
               -1
              ],
              "x[1]": [
               1,
               -1
              ],
              "x[2]": [
               3,
               -3
              ],
              "x[3]": [
               3,
               -3
              ],
              "x[4]": [
               1,
               -1
              ]
             }
            ],
            "label": "Reflection across x = 0"
           },
           {
            "args": [
             {
              "x[0]": [
               1,
               -3
              ],
              "x[1]": [
               1,
               -3
              ],
              "x[2]": [
               3,
               -5
              ],
              "x[3]": [
               3,
               -5
              ],
              "x[4]": [
               1,
               -3
              ]
             }
            ],
            "label": "Reflection across x = -1"
           },
           {
            "args": [
             {
              "x[0]": [
               1,
               -5
              ],
              "x[1]": [
               1,
               -5
              ],
              "x[2]": [
               3,
               -7
              ],
              "x[3]": [
               3,
               -7
              ],
              "x[4]": [
               1,
               -5
              ]
             }
            ],
            "label": "Reflection across x = -2"
           },
           {
            "args": [
             {
              "x[0]": [
               1,
               -7
              ],
              "x[1]": [
               1,
               -7
              ],
              "x[2]": [
               3,
               -9
              ],
              "x[3]": [
               3,
               -9
              ],
              "x[4]": [
               1,
               -7
              ]
             }
            ],
            "label": "Reflection across x = -3"
           }
          ],
          "x": 0.5,
          "y": 1.2
         },
         {
          "buttons": [
           {
            "args": [
             {
              "y[0]": [
               1,
               1
              ],
              "y[1]": [
               3,
               3
              ],
              "y[2]": [
               3,
               3
              ],
              "y[3]": [
               1,
               1
              ],
              "y[4]": [
               1,
               1
              ]
             }
            ],
            "label": "No Vertical Reflection"
           },
           {
            "args": [
             {
              "y[0]": [
               1,
               9
              ],
              "y[1]": [
               3,
               7
              ],
              "y[2]": [
               3,
               7
              ],
              "y[3]": [
               1,
               9
              ],
              "y[4]": [
               1,
               9
              ]
             }
            ],
            "label": "Reflection across y = 5"
           },
           {
            "args": [
             {
              "y[0]": [
               1,
               7
              ],
              "y[1]": [
               3,
               5
              ],
              "y[2]": [
               3,
               5
              ],
              "y[3]": [
               1,
               7
              ],
              "y[4]": [
               1,
               7
              ]
             }
            ],
            "label": "Reflection across y = 4"
           },
           {
            "args": [
             {
              "y[0]": [
               1,
               5
              ],
              "y[1]": [
               3,
               3
              ],
              "y[2]": [
               3,
               3
              ],
              "y[3]": [
               1,
               5
              ],
              "y[4]": [
               1,
               5
              ]
             }
            ],
            "label": "Reflection across y = 3"
           },
           {
            "args": [
             {
              "y[0]": [
               1,
               3
              ],
              "y[1]": [
               3,
               1
              ],
              "y[2]": [
               3,
               1
              ],
              "y[3]": [
               1,
               3
              ],
              "y[4]": [
               1,
               3
              ]
             }
            ],
            "label": "Reflection across y = 2"
           },
           {
            "args": [
             {
              "y[0]": [
               1,
               1
              ],
              "y[1]": [
               3,
               -1
              ],
              "y[2]": [
               3,
               -1
              ],
              "y[3]": [
               1,
               1
              ],
              "y[4]": [
               1,
               1
              ]
             }
            ],
            "label": "Reflection across y = 1"
           },
           {
            "args": [
             {
              "y[0]": [
               1,
               -1
              ],
              "y[1]": [
               3,
               -3
              ],
              "y[2]": [
               3,
               -3
              ],
              "y[3]": [
               1,
               -1
              ],
              "y[4]": [
               1,
               -1
              ]
             }
            ],
            "label": "Reflection across y = 0"
           },
           {
            "args": [
             {
              "y[0]": [
               1,
               -3
              ],
              "y[1]": [
               3,
               -5
              ],
              "y[2]": [
               3,
               -5
              ],
              "y[3]": [
               1,
               -3
              ],
              "y[4]": [
               1,
               -3
              ]
             }
            ],
            "label": "Reflection across y = -1"
           },
           {
            "args": [
             {
              "y[0]": [
               1,
               -5
              ],
              "y[1]": [
               3,
               -7
              ],
              "y[2]": [
               3,
               -7
              ],
              "y[3]": [
               1,
               -5
              ],
              "y[4]": [
               1,
               -5
              ]
             }
            ],
            "label": "Reflection across y = -2"
           },
           {
            "args": [
             {
              "y[0]": [
               1,
               -7
              ],
              "y[1]": [
               3,
               -9
              ],
              "y[2]": [
               3,
               -9
              ],
              "y[3]": [
               1,
               -7
              ],
              "y[4]": [
               1,
               -7
              ]
             }
            ],
            "label": "Reflection across y = -3"
           }
          ],
          "x": 0.7,
          "y": 1.2
         }
        ],
        "xaxis": {
         "dtick": 1,
         "range": [
          -10,
          10
         ],
         "showgrid": true
        },
        "yaxis": {
         "dtick": 1,
         "range": [
          -10,
          10
         ],
         "showgrid": true
        }
       }
      }
     },
     "metadata": {},
     "output_type": "display_data"
    }
   ],
   "source": [
    "import plotly.graph_objs as go\n",
    "\n",
    "#start_x = [1, 1, 4, 4, 1]\n",
    "#start_y = [1, 4, 4, 1, 1]\n",
    "start_x = [1, 1, 3, 3, 1]\n",
    "start_y = [1, 3, 3, 1, 1]\n",
    "labels = ['A', 'B', 'C', 'D']\n",
    "\n",
    "data2 = [{'mode':'lines+markers+text','name':'Original','text':labels,'textposition':'top left','x':start_x, 'y':start_y},\n",
    "        {'mode':'lines+markers+text','name':'Reflected','text':labels,'textposition':'top left','x':start_x, 'y':start_y}]\n",
    "\n",
    "x_dropdown = [{'args':[{'x['+str(j)+']':[start_x[j],start_x[j]] for j in range(5)}],'label':'No Horizontal Reflection'}]\n",
    "for i in range(5,-4,-1):\n",
    "    args = {'x['+str(j)+']':[start_x[j],i-(start_x[j]-i)] for j in range(5)}\n",
    "    x_dropdown.append({'args':[args], 'label':'Reflection across x = '+str(i)})\n",
    "y_dropdown = [{'args':[{'y['+str(j)+']':[start_y[j],start_y[j]] for j in range(5)}],'label':'No Vertical Reflection'}]\n",
    "for i in range(5,-4,-1):\n",
    "    args = {'y['+str(j)+']':[start_y[j],i-(start_y[j]-i)] for j in range(5)}\n",
    "    y_dropdown.append({'args':[args], 'label':'Reflection across y = '+str(i)})\n",
    "\n",
    "updatemenus = [{'buttons':x_dropdown, 'x':0.5, 'y':1.2},{'buttons':y_dropdown, 'x':0.7, 'y':1.2}]\n",
    "\n",
    "layout2 = go.Layout(\n",
    "        title = 'Reflection on a Coordinate Plane',\n",
    "        updatemenus = updatemenus,\n",
    "        yaxis = {'range':[-10,10],'showgrid':True,'dtick':1},\n",
    "        xaxis = {'range':[-10,10],'showgrid':True,'dtick':1},\n",
    ")\n",
    "go.Figure(data=data2, layout=layout2).show()\n"
   ]
  },
  {
   "cell_type": "markdown",
   "metadata": {},
   "source": [
    "## Rotations\n",
    "\n",
    "When we rotate a shape we are changing its coordinates based on its rotation around some point, either clockwise or counterclockwise.\n",
    "\n",
    "### 90° Rotation\n",
    "\n",
    "To rotate 90° clockwise around the origin (0, 0) you swap the current (*x* ,*y*) coordinates of any point and then then multiply the new *y* coordinate by -1.\n",
    "\n",
    "> original: (*x*, *y*)\n",
    ">\n",
    "> rotated: (*y*, -*x*)\n",
    "\n",
    "To rotate 90° counterclockwise around the origin you swap the current (*x* ,*y*) coordinates then multiply the new *x* coordinate by -1.\n",
    "\n",
    "> original: (*x*, *y*)\n",
    ">\n",
    "> rotated: (-*y*, *x*)\n",
    "\n",
    "For example, a point (8, 3) when rotated 90° clockwise would become (3, -8). The point (8, 3) rotated 90° counterclockwise would become (-3, 8).\n",
    "\n",
    "<img src=\"images/rotationimage.png\" width=\"400\" height=\"400\">\n",
    "\n",
    "### Non-Origin Point of Rotation\n",
    "\n",
    "When we have a point of rotation that is not at the origin we need to adjust the coordinate points. \n",
    "\n",
    "First translate the point of rotation to the origin, then do the same translation to all other points being rotated.\n",
    "\n",
    "For example if our point of rotation was at (1, 0) we would need to translate all the points horizontally by -1 for it to be at (0, 0). \n",
    "\n",
    "Once all the points have been rotated we would then do the opposite, translating all the points horizontally +1.\n",
    "\n",
    "For example, rotating a triangle around one of its points at the position (1, 1). \n",
    "\n",
    "> We start off with the triangle in its original position.\n",
    ">\n",
    "> <img src=\"images/triangle-rotation1.png\" width=\"500\" height=\"500\">\n",
    ">\n",
    "> Since we are rotating around the point (1, 1) we will translate the triangle by -1 on the *x* axis and -1 on the *y* axis.\n",
    ">\n",
    "> <img src=\"images/triangle-rotation2.png\" width=\"500\" height=\"500\">\n",
    ">\n",
    "> Now we can rotate the points by 90° to get the new coordinate points.\n",
    ">\n",
    "> <img src=\"images/triangle-rotation3.png\" width=\"500\" height=\"500\">\n",
    ">\n",
    "> The lines connecting the points are different colors so you can see each rotation is 90°. If we rotate the new triangle position by another 90° we will get the coordinates as if it had been rotated by 180° from the original position.\n",
    ">\n",
    "> <img src=\"images/triangle-rotation4.png\" width=\"500\" height=\"500\">\n",
    ">\n",
    "> If we rotate by 90° we will get the coordinates of the original triangle being rotated by 270°. Another 90° rotation would bring the orignal rotation to 360°, which is the same as not rotatingat all.\n",
    ">\n",
    "> <img src=\"images/triangle-rotation5.png\" width=\"500\" height=\"500\">\n",
    ">\n",
    "> The only thing we have left to do is to translate the triangle points by +1 on the *x* and +1 on the *y*, back to the original position.\n",
    ">\n",
    "> <img src=\"images/triangle-rotation6.png\" width=\"500\" height=\"500\">\n",
    ">\n",
    "> We now have the positions of the various rotations for the triangle in their actual positions.\n",
    "\n",
    "### Interactive Example\n",
    "\n",
    "In the interactive example below you can choose the **Object**, **Rotation Direction**, and **Rotation Point** (the point to rotate the object around). Once you have chosen the rotation point you can adjust the degrees of rotation from 0° to 360° clockwise or counterclockwise using the slider."
   ]
  },
  {
   "cell_type": "code",
   "execution_count": null,
   "metadata": {
    "collapsed": true,
    "scrolled": false
   },
   "outputs": [],
   "source": [
    "import transformation_examples as te\n",
    "te.rotation_example()"
   ]
  },
  {
   "cell_type": "markdown",
   "metadata": {},
   "source": [
    "## Conclusion\n",
    "\n",
    "In this notebook we looked at transformations on a coordinate plane, including **translations**, **reflections**, and **rotations**."
   ]
  },
  {
   "cell_type": "markdown",
   "metadata": {},
   "source": [
    "[![Callysto.ca License](https://github.com/callysto/curriculum-notebooks/blob/master/callysto-notebook-banner-bottom.jpg?raw=true)](https://github.com/callysto/curriculum-notebooks/blob/master/LICENSE.md)"
   ]
  }
 ],
 "metadata": {
  "interpreter": {
   "hash": "d1ca6d17674200220921376aaeb3d36cffe15ecab2470a9a5e7a456cdbf61425"
  },
  "kernelspec": {
   "display_name": "Python 3.10.1 64-bit",
   "language": "python",
   "name": "python3"
  },
  "language_info": {
   "codemirror_mode": {
    "name": "ipython",
    "version": 3
   },
   "file_extension": ".py",
   "mimetype": "text/x-python",
   "name": "python",
   "nbconvert_exporter": "python",
   "pygments_lexer": "ipython3",
   "version": "3.10.1"
  }
 },
 "nbformat": 4,
 "nbformat_minor": 2
}
