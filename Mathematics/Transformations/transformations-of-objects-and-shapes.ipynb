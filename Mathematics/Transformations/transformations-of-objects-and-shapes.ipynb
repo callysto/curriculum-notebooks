{
 "cells": [
  {
   "cell_type": "markdown",
   "metadata": {},
   "source": [
    "![Callysto.ca Banner](https://github.com/callysto/curriculum-notebooks/blob/master/callysto-notebook-banner-top.jpg?raw=true)\n",
    "\n",
    "<a href=\"https://hub.callysto.ca/jupyter/hub/user-redirect/git-pull?repo=https%3A%2F%2Fgithub.com%2Fcallysto%2Fcurriculum-notebooks&branch=master&subPath=Mathematics/Transformations/transformations-of-objects-and-shapes.ipynb&depth=1\" target=\"_parent\"><img src=\"https://raw.githubusercontent.com/callysto/curriculum-notebooks/master/open-in-callysto-button.svg?sanitize=true\" width=\"123\" height=\"24\" alt=\"Open in Callysto\"/></a>"
   ]
  },
  {
   "cell_type": "markdown",
   "metadata": {},
   "source": [
    "# Geometry Transformations\n",
    "\n",
    "## Introduction\n",
    "\n",
    "In geometry there are four types of transformations:\n",
    "\n",
    "**Translation**: change in position\n",
    "\n",
    "**Reflection**: mirror image across a line\n",
    "\n",
    "**Rotation**: circular movement around a central point\n",
    "\n",
    "**Resizing**: a shape or object changing size\n",
    "\n",
    "## Translations\n",
    "\n",
    "We will use a [coordinate plane](https://simple.wikipedia.org/wiki/Cartesian_coordinate_system) with *x* and *y* axes from -10 to +10. When we translate a shape we move it to another spot on the coordinate plane without changing anything else.\n",
    "\n",
    "### Interactive Example\n",
    "\n",
    "▶ Run the next code cell, then move the sliders to translate the rectangle."
   ]
  },
  {
   "cell_type": "code",
   "execution_count": null,
   "metadata": {},
   "outputs": [],
   "source": [
    "import plotly.graph_objs as go\n",
    "start_x = [1, 1, 4, 4, 1]\n",
    "start_y = [1, 4, 4, 1, 1]\n",
    "labels = ['A', 'B', 'C', 'D']\n",
    "\n",
    "data = [{'mode':'lines+markers+text','name':'original','text':labels,'textposition':'top left','x':start_x,'y':start_y,'fill':'toself'},\n",
    "        {'mode':'lines+markers+text','name':'translated','text':labels,'textposition':'top left','x':start_x,'y':start_y,'fill':'toself'}]\n",
    "\n",
    "hsteps = [{'label':i-11,'args':[{'x[0]':[1,-10+i],'x[1]':[1,-10+i],'x[2]':[4,-7+i],'x[3]':[4,-7+i],'x[4]':[1,-10+i]}]} for i in range(18)]\n",
    "vsteps = [{'label':i-11,'args':[{'y[0]':[1,-7+i],'y[1]':[4,-10+i],'y[2]':[4,-10+i],'y[3]':[1,-7+i],'y[4]':[1,-7+i]}]} for i in range(18)]\n",
    "\n",
    "sliders = [{'active':11,'currentvalue':{\"prefix\":\"x axis translation: \"},'pad':{\"t\":35},'steps':hsteps},\n",
    "           {'active':11,'currentvalue':{\"prefix\":\"y axis translation: \"},'pad':{\"t\":120},'steps':vsteps}]\n",
    "\n",
    "layout = go.Layout(\n",
    "        title = 'Translation on a Coordinate Plane',\n",
    "        yaxis = {'range':[-10,10],'showgrid':True,'dtick':1},\n",
    "        xaxis = {'range':[-10,10],'showgrid':True,'dtick':1},\n",
    "        sliders = sliders,\n",
    "        width=950, height=650)\n",
    "\n",
    "go.Figure(data=data, layout=layout).show()"
   ]
  },
  {
   "cell_type": "markdown",
   "metadata": {},
   "source": [
    "## Reflections\n",
    "\n",
    "When we reflect a shape across an axis we are changing the signs of the coordinate points of the object.\n",
    "\n",
    "An object can also be reflected across a line that is not *x* = 0 or *y* = 0. If the reflection line is horizontal we will be changing the *y* coordinates of the object and if the line is vertical we will only be changing the *x* coordinates.\n",
    "\n",
    "### Interactive Example\n",
    "\n",
    "▶ Run the next code cell, then the two drop-down menus allow you to choose to reflect across a vertical line or a horizontal line."
   ]
  },
  {
   "cell_type": "code",
   "execution_count": null,
   "metadata": {
    "collapsed": true
   },
   "outputs": [],
   "source": [
    "import plotly.graph_objs as go\n",
    "start_x = [1, 1, 2, 1]\n",
    "start_y = [1, 3, 2, 1]\n",
    "labels = ['A', 'B', 'C']\n",
    "\n",
    "data2 = [{'mode':'lines+markers+text','name':'original','text':labels,'textposition':'top left','x':start_x,'y':start_y,'fill':'toself'},\n",
    "        {'mode':'lines+markers+text','name':'reflected','text':labels,'textposition':'top left','x':start_x,'y':start_y,'fill':'toself'},\n",
    "        {'mode':'lines','name':'x =','x':[11,11],'y':[-10,10]},{'mode':'lines','name':'y =','x':[-10,10],'y':[11,11]}]\n",
    "\n",
    "x_dropdown = [{'args':[{'x':[start_x,[11,11]]}, [1, 2]],'label': 'No Horizontal Reflection'}]\n",
    "for i in range(5,-4,-1):\n",
    "    new_x = [i-(start_x[j]-i) for j in range(len(start_x))]\n",
    "    args = {'x':[new_x,[i,i]]}\n",
    "    x_dropdown.append({'args':[args,[1,2]], 'label':'Reflection across x = '+str(i)})\n",
    "\n",
    "y_dropdown = [{'args':[{'y':[start_y,[11,11]]}, [1, 3]],'label': 'No Vertical Reflection'}]\n",
    "for i in range(5,-4,-1):\n",
    "    new_y = [i-(start_y[j]-i) for j in range(len(start_y))]\n",
    "    args = {'y':[new_y,[i,i]]}\n",
    "    y_dropdown.append({'args':[args,[1,3]], 'label':'Reflection across y = '+str(i)})\n",
    "\n",
    "updatemenus = [{'buttons':x_dropdown,'x':0.7,'y':1.2},{'buttons':y_dropdown,'x':1,'y':1.2}]\n",
    "layout2 = go.Layout(title = 'Reflection on a Coordinate Plane', updatemenus = updatemenus,\n",
    "        xaxis = {'range':[-10,10],'showgrid':True,'dtick':1}, yaxis = {'range':[-10,10],'showgrid':True,'dtick':1})\n",
    "go.Figure(data=data2, layout=layout2).show()"
   ]
  },
  {
   "cell_type": "markdown",
   "metadata": {},
   "source": [
    "## Rotations\n",
    "\n",
    "When we rotate a shape we are changing its coordinates based on its rotation around some point, either clockwise or counterclockwise.\n",
    "\n",
    "### 90° Rotation\n",
    "\n",
    "To rotate 90° clockwise around the origin (0, 0) you swap the current (*x* ,*y*) coordinates of any point and then then multiply the new *y* coordinate by -1.\n",
    "\n",
    "> original: (*x*, *y*)\n",
    ">\n",
    "> rotated: (*y*, -*x*)\n",
    "\n",
    "To rotate 90° counterclockwise around the origin you swap the current (*x* ,*y*) coordinates then multiply the new *x* coordinate by -1.\n",
    "\n",
    "> original: (*x*, *y*)\n",
    ">\n",
    "> rotated: (-*y*, *x*)\n",
    "\n",
    "For example, a point (8, 3) when rotated 90° clockwise would become (3, -8). The point (8, 3) rotated 90° counterclockwise would become (-3, 8).\n",
    "\n",
    "<img src=\"images/rotationimage.png\" width=\"400\" height=\"400\">\n",
    "\n",
    "### Non-Origin Point of Rotation\n",
    "\n",
    "When we have a point of rotation that is not at the origin we need to adjust the coordinate points. \n",
    "\n",
    "First translate the point of rotation to the origin, then do the same translation to all other points being rotated.\n",
    "\n",
    "For example if our point of rotation was at (1, 0) we would need to translate all the points horizontally by -1 for it to be at (0, 0). \n",
    "\n",
    "Once all the points have been rotated we would then do the opposite, translating all the points horizontally +1.\n",
    "\n",
    "For example, rotating a triangle around one of its points at the position (1, 1). \n",
    "\n",
    "> We start off with the triangle in its original position.\n",
    ">\n",
    "> <img src=\"images/triangle-rotation1.png\" width=\"500\" height=\"500\">\n",
    ">\n",
    "> Since we are rotating around the point (1, 1) we will translate the triangle by -1 on the *x* axis and -1 on the *y* axis.\n",
    ">\n",
    "> <img src=\"images/triangle-rotation2.png\" width=\"500\" height=\"500\">\n",
    ">\n",
    "> Now we can rotate the points by 90° to get the new coordinate points.\n",
    ">\n",
    "> <img src=\"images/triangle-rotation3.png\" width=\"500\" height=\"500\">\n",
    ">\n",
    "> The lines connecting the points are different colors so you can see each rotation is 90°. If we rotate the new triangle position by another 90° we will get the coordinates as if it had been rotated by 180° from the original position.\n",
    ">\n",
    "> <img src=\"images/triangle-rotation4.png\" width=\"500\" height=\"500\">\n",
    ">\n",
    "> If we rotate by 90° we will get the coordinates of the original triangle being rotated by 270°. Another 90° rotation would bring the orignal rotation to 360°, which is the same as not rotatingat all.\n",
    ">\n",
    "> <img src=\"images/triangle-rotation5.png\" width=\"500\" height=\"500\">\n",
    ">\n",
    "> The only thing we have left to do is to translate the triangle points by +1 on the *x* and +1 on the *y*, back to the original position.\n",
    ">\n",
    "> <img src=\"images/triangle-rotation6.png\" width=\"500\" height=\"500\">\n",
    ">\n",
    "> We now have the positions of the various rotations for the triangle in their actual positions.\n",
    "\n",
    "### Interactive Example\n",
    "\n",
    "In the interactive example below you can choose the **Object**, **Rotation Direction**, and **Rotation Point** (the point to rotate the object around). Once you have chosen the rotation point you can adjust the degrees of rotation from 0° to 360° clockwise or counterclockwise using the slider."
   ]
  },
  {
   "cell_type": "code",
   "execution_count": null,
   "metadata": {
    "collapsed": true,
    "scrolled": false
   },
   "outputs": [],
   "source": [
    "import plotly.graph_objs as go\n",
    "start_x = [1, 1, 2, 1]\n",
    "start_y = [1, 3, 2, 1]\n",
    "labels = ['A', 'B', 'C']\n",
    "\n",
    "data = [{'mode':'lines+markers+text','name':'original','text':labels,'textposition':'top left','x':start_x,'y':start_y,'fill':'toself'},\n",
    "        {'mode':'lines+markers+text','name':'rotated','text':labels,'textposition':'top left','x':start_x,'y':start_y,'fill':'toself'}]\n",
    "\n",
    "#hsteps = [{'label':i-11,'args':[{'x[0]':[1,-10+i],'x[1]':[1,-10+i],'x[2]':[4,-7+i],'x[3]':[4,-7+i],'x[4]':[1,-10+i]}]} for i in range(18)]\n",
    "#vsteps = [{'label':i-11,'args':[{'y[0]':[1,-7+i],'y[1]':[4,-10+i],'y[2]':[4,-10+i],'y[3]':[1,-7+i],'y[4]':[1,-7+i]}]} for i in range(18)]\n",
    "#sliders = [{'active':11,'currentvalue':{\"prefix\":\"x axis translation: \"},'pad':{\"t\":35},'steps':hsteps},\n",
    "#           {'active':11,'currentvalue':{\"prefix\":\"y axis translation: \"},'pad':{\"t\":120},'steps':vsteps}]\n",
    "\n",
    "rotation_steps = [{'label':'rotation','args':[{'x':[-360, -270, -180, -90, 0, 90, 180, 270, 360]}]}]\n",
    "sliders = [{'active':0,'currentvalue':{\"prefix\":\"Rotation: \"},'pad':{\"t\":35},'steps':rotation_steps}]\n",
    "\n",
    "layout = go.Layout(\n",
    "        title = 'Rotation on a Coordinate Plane',\n",
    "        yaxis = {'range':[-10,10],'showgrid':True,'dtick':1},\n",
    "        xaxis = {'range':[-10,10],'showgrid':True,'dtick':1},\n",
    "        sliders = sliders,\n",
    "        width=950, height=650)\n",
    "\n",
    "go.Figure(data=data, layout=layout).show()"
   ]
  },
  {
   "cell_type": "code",
   "execution_count": null,
   "metadata": {},
   "outputs": [],
   "source": [
    "import plotly.graph_objs as go\n",
    "start_x = [1, 1, 2, 1]\n",
    "start_y = [1, 3, 2, 1]\n",
    "labels = ['A', 'B', 'C']\n",
    "\n",
    "data = [{'mode':'lines+markers+text','name':'original','text':labels,'textposition':'top left','x':start_x,'y':start_y,'fill':'toself'},\n",
    "        #{'mode':'lines+markers+text','name':'rotated','text':labels,'textposition':'top left','x':start_x,'y':start_y,'fill':'toself'}\n",
    "        ]\n",
    "\n",
    "fig = go.Figure()\n",
    "\n",
    "# Add traces, one for each slider step\n",
    "for step in range(3):\n",
    "    fig.add_trace(go.Scatter(\n",
    "        x=start_x, y=start_y, \n",
    "        mode='lines+markers+text',\n",
    "        name='rotated '+str(step*90),\n",
    "        text=labels,\n",
    "        textposition='top left',\n",
    "        fill='toself'\n",
    "        ))\n",
    "\n",
    "# Create and add slider\n",
    "steps = []\n",
    "for i in range(3):\n",
    "    step = dict(\n",
    "        method=\"update\",\n",
    "        args=[{\"visible\": [False] * len(fig.data)},\n",
    "              {\"title\": \"Slider switched to step: \" + str(i)}],  # layout attribute\n",
    "    )\n",
    "    step[\"args\"][0][\"visible\"][i] = True  # Toggle i'th trace to \"visible\"\n",
    "    steps.append(step)\n",
    "\n",
    "sliders = [dict(\n",
    "    active=0,\n",
    "    currentvalue={\"prefix\": \"Frequency: \"},\n",
    "    pad={\"t\": 50},\n",
    "    steps=steps\n",
    ")]\n",
    "\n",
    "fig.update_layout(\n",
    "    sliders=sliders\n",
    ")\n",
    "\n",
    "fig.show()"
   ]
  },
  {
   "cell_type": "code",
   "execution_count": null,
   "metadata": {},
   "outputs": [],
   "source": [
    "\n",
    "### almost working ###\n",
    "def rotate_points(x, y, point, quarter_turns, direction):\n",
    "    x_translated = [i - point[0] for i in x]\n",
    "    y_translated = [i - point[1] for i in y]\n",
    "    for j in range(quarter_turns):\n",
    "        if direction == 'clockwise':\n",
    "            x_rotated = y_translated\n",
    "            y_rotated = [-i for i in x_translated]\n",
    "        else:\n",
    "            x_rotated = [-i for i in y_translated]\n",
    "            y_rotated = x_translated\n",
    "        x_translated = x_rotated\n",
    "        y_translated = y_rotated\n",
    "    x = [i + point[0] for i in x_translated]\n",
    "    y = [i + point[1] for i in y_translated]\n",
    "    return x, y\n",
    "\n",
    "#print(start_x, start_y)\n",
    "rotation_point = [1, 1]\n",
    "x_new, y_new = rotate_points(start_x, start_y, rotation_point, 2, 'clockwise')\n",
    "#print(x_new, y_new)\n",
    "\n",
    "import plotly.graph_objects as go\n",
    "data = [\n",
    "    go.Scatter(x=start_x, y=start_y, mode='lines+markers+text', name='original', text=['A', 'B', 'C'], textposition='top left', fill='toself'),\n",
    "    go.Scatter(x=x_new, y=y_new, mode='lines+markers+text', name='rotated', text=['A', 'B', 'C'], textposition='top left', fill='toself'),\n",
    "    go.Scatter(x=rotation_point[0], y=rotation_point[1], mode='markers', name='rotation point', marker=dict(size=10, color='red'))\n",
    "    ]\n",
    "\n",
    "steps = [{'label':'rotation','args':[{'x':[-360, -270, -180, -90, 0, 90, 180, 270, 360]}]}]\n",
    "sliders = [{'active':0,'currentvalue':{'prefix':'Rotation: '},'pad':{\"t\":50},'steps':rotation_steps}]\n",
    "'''\n",
    "sliders = [dict(\n",
    "    active=0,\n",
    "    currentvalue={\"prefix\": \"Frequency: \"},\n",
    "    pad={\"t\": 50},\n",
    "    steps=steps\n",
    ")]\n",
    "'''\n",
    "layout = go.Layout(\n",
    "        title = 'Rotation on a Coordinate Plane',\n",
    "        yaxis = {'range':[-10,10],'showgrid':True,'dtick':1},\n",
    "        xaxis = {'range':[-10,10],'showgrid':True,'dtick':1},\n",
    "        sliders = sliders,\n",
    "        width=600, height=600)\n",
    "\n",
    "go.Figure(data=data, layout=layout).show()"
   ]
  },
  {
   "cell_type": "code",
   "execution_count": null,
   "metadata": {},
   "outputs": [],
   "source": [
    "### translation slideers ###\n",
    "x_steps = [{'label':i,'args':[{'x[0]':[1,-10+i],'x[1]':[1,-10+i],'x[2]':[4,-7+i],'x[3]':[4,-7+i],'x[4]':[1,-10+i]}]} for i in range(-5, 6)]\n",
    "y_steps = [{'label':i,'args':[{'y[0]':[1,-7+i],'y[1]':[4,-10+i],'y[2]':[4,-10+i],'y[3]':[1,-7+i],'y[4]':[1,-7+i]}]} for i in range(-5, 6)]\n",
    "\n",
    "sliders = [{'active':0,'currentvalue':{\"prefix\":\"x of rotation point: \"},'pad':{\"t\":35},'steps':x_steps},\n",
    "           {'active':0,'currentvalue':{\"prefix\":\"y of rotation point: \"},'pad':{\"t\":120},'steps':y_steps}]\n",
    "from pprint import pprint\n",
    "pprint(sliders)"
   ]
  },
  {
   "cell_type": "markdown",
   "metadata": {},
   "source": [
    "## Resizing\n",
    "\n",
    "Resizing a shape involves changing the size of a shape. It can also be called expansion (or compression) or dilation (or contraction). This usually involves changing the dimentions of the shape by the same ratio.\n",
    "\n",
    "### Interactive Example\n",
    "\n",
    "`▶ Run` the next code cell to try resizing a shape.\n"
   ]
  },
  {
   "cell_type": "code",
   "execution_count": 43,
   "metadata": {},
   "outputs": [
    {
     "data": {
      "application/vnd.plotly.v1+json": {
       "config": {
        "plotlyServerURL": "https://plot.ly"
       },
       "data": [
        {
         "fill": "toself",
         "mode": "lines+markers+text",
         "text": [
          "A",
          "B",
          "C",
          "D"
         ],
         "textposition": "top left",
         "type": "scatter",
         "visible": true,
         "x": [
          0,
          0,
          2,
          2,
          0
         ],
         "y": [
          0,
          2,
          2,
          0,
          0
         ]
        },
        {
         "fill": "toself",
         "mode": "lines+markers+text",
         "text": [
          "A",
          "B",
          "C",
          "D"
         ],
         "textposition": "top left",
         "type": "scatter",
         "visible": false,
         "x": [
          0,
          0,
          4,
          4,
          0
         ],
         "y": [
          0,
          4,
          4,
          0,
          0
         ]
        },
        {
         "fill": "toself",
         "mode": "lines+markers+text",
         "text": [
          "A",
          "B",
          "C",
          "D"
         ],
         "textposition": "top left",
         "type": "scatter",
         "visible": false,
         "x": [
          0,
          0,
          6,
          6,
          0
         ],
         "y": [
          0,
          6,
          6,
          0,
          0
         ]
        },
        {
         "fill": "toself",
         "mode": "lines+markers+text",
         "text": [
          "A",
          "B",
          "C",
          "D"
         ],
         "textposition": "top left",
         "type": "scatter",
         "visible": false,
         "x": [
          0,
          0,
          8,
          8,
          0
         ],
         "y": [
          0,
          8,
          8,
          0,
          0
         ]
        },
        {
         "fill": "toself",
         "mode": "lines+markers+text",
         "text": [
          "A",
          "B",
          "C",
          "D"
         ],
         "textposition": "top left",
         "type": "scatter",
         "visible": false,
         "x": [
          0,
          0,
          10,
          10,
          0
         ],
         "y": [
          0,
          10,
          10,
          0,
          0
         ]
        }
       ],
       "layout": {
        "sliders": [
         {
          "steps": [
           {
            "args": [
             {
              "visible": [
               true,
               false,
               false,
               false,
               false
              ]
             }
            ],
            "label": "1",
            "method": "update"
           },
           {
            "args": [
             {
              "visible": [
               false,
               true,
               false,
               false,
               false
              ]
             }
            ],
            "label": "2",
            "method": "update"
           },
           {
            "args": [
             {
              "visible": [
               false,
               false,
               true,
               false,
               false
              ]
             }
            ],
            "label": "3",
            "method": "update"
           },
           {
            "args": [
             {
              "visible": [
               false,
               false,
               false,
               true,
               false
              ]
             }
            ],
            "label": "4",
            "method": "update"
           },
           {
            "args": [
             {
              "visible": [
               false,
               false,
               false,
               false,
               true
              ]
             }
            ],
            "label": "5",
            "method": "update"
           }
          ]
         }
        ],
        "template": {
         "data": {
          "bar": [
           {
            "error_x": {
             "color": "#2a3f5f"
            },
            "error_y": {
             "color": "#2a3f5f"
            },
            "marker": {
             "line": {
              "color": "#E5ECF6",
              "width": 0.5
             },
             "pattern": {
              "fillmode": "overlay",
              "size": 10,
              "solidity": 0.2
             }
            },
            "type": "bar"
           }
          ],
          "barpolar": [
           {
            "marker": {
             "line": {
              "color": "#E5ECF6",
              "width": 0.5
             },
             "pattern": {
              "fillmode": "overlay",
              "size": 10,
              "solidity": 0.2
             }
            },
            "type": "barpolar"
           }
          ],
          "carpet": [
           {
            "aaxis": {
             "endlinecolor": "#2a3f5f",
             "gridcolor": "white",
             "linecolor": "white",
             "minorgridcolor": "white",
             "startlinecolor": "#2a3f5f"
            },
            "baxis": {
             "endlinecolor": "#2a3f5f",
             "gridcolor": "white",
             "linecolor": "white",
             "minorgridcolor": "white",
             "startlinecolor": "#2a3f5f"
            },
            "type": "carpet"
           }
          ],
          "choropleth": [
           {
            "colorbar": {
             "outlinewidth": 0,
             "ticks": ""
            },
            "type": "choropleth"
           }
          ],
          "contour": [
           {
            "colorbar": {
             "outlinewidth": 0,
             "ticks": ""
            },
            "colorscale": [
             [
              0,
              "#0d0887"
             ],
             [
              0.1111111111111111,
              "#46039f"
             ],
             [
              0.2222222222222222,
              "#7201a8"
             ],
             [
              0.3333333333333333,
              "#9c179e"
             ],
             [
              0.4444444444444444,
              "#bd3786"
             ],
             [
              0.5555555555555556,
              "#d8576b"
             ],
             [
              0.6666666666666666,
              "#ed7953"
             ],
             [
              0.7777777777777778,
              "#fb9f3a"
             ],
             [
              0.8888888888888888,
              "#fdca26"
             ],
             [
              1,
              "#f0f921"
             ]
            ],
            "type": "contour"
           }
          ],
          "contourcarpet": [
           {
            "colorbar": {
             "outlinewidth": 0,
             "ticks": ""
            },
            "type": "contourcarpet"
           }
          ],
          "heatmap": [
           {
            "colorbar": {
             "outlinewidth": 0,
             "ticks": ""
            },
            "colorscale": [
             [
              0,
              "#0d0887"
             ],
             [
              0.1111111111111111,
              "#46039f"
             ],
             [
              0.2222222222222222,
              "#7201a8"
             ],
             [
              0.3333333333333333,
              "#9c179e"
             ],
             [
              0.4444444444444444,
              "#bd3786"
             ],
             [
              0.5555555555555556,
              "#d8576b"
             ],
             [
              0.6666666666666666,
              "#ed7953"
             ],
             [
              0.7777777777777778,
              "#fb9f3a"
             ],
             [
              0.8888888888888888,
              "#fdca26"
             ],
             [
              1,
              "#f0f921"
             ]
            ],
            "type": "heatmap"
           }
          ],
          "heatmapgl": [
           {
            "colorbar": {
             "outlinewidth": 0,
             "ticks": ""
            },
            "colorscale": [
             [
              0,
              "#0d0887"
             ],
             [
              0.1111111111111111,
              "#46039f"
             ],
             [
              0.2222222222222222,
              "#7201a8"
             ],
             [
              0.3333333333333333,
              "#9c179e"
             ],
             [
              0.4444444444444444,
              "#bd3786"
             ],
             [
              0.5555555555555556,
              "#d8576b"
             ],
             [
              0.6666666666666666,
              "#ed7953"
             ],
             [
              0.7777777777777778,
              "#fb9f3a"
             ],
             [
              0.8888888888888888,
              "#fdca26"
             ],
             [
              1,
              "#f0f921"
             ]
            ],
            "type": "heatmapgl"
           }
          ],
          "histogram": [
           {
            "marker": {
             "pattern": {
              "fillmode": "overlay",
              "size": 10,
              "solidity": 0.2
             }
            },
            "type": "histogram"
           }
          ],
          "histogram2d": [
           {
            "colorbar": {
             "outlinewidth": 0,
             "ticks": ""
            },
            "colorscale": [
             [
              0,
              "#0d0887"
             ],
             [
              0.1111111111111111,
              "#46039f"
             ],
             [
              0.2222222222222222,
              "#7201a8"
             ],
             [
              0.3333333333333333,
              "#9c179e"
             ],
             [
              0.4444444444444444,
              "#bd3786"
             ],
             [
              0.5555555555555556,
              "#d8576b"
             ],
             [
              0.6666666666666666,
              "#ed7953"
             ],
             [
              0.7777777777777778,
              "#fb9f3a"
             ],
             [
              0.8888888888888888,
              "#fdca26"
             ],
             [
              1,
              "#f0f921"
             ]
            ],
            "type": "histogram2d"
           }
          ],
          "histogram2dcontour": [
           {
            "colorbar": {
             "outlinewidth": 0,
             "ticks": ""
            },
            "colorscale": [
             [
              0,
              "#0d0887"
             ],
             [
              0.1111111111111111,
              "#46039f"
             ],
             [
              0.2222222222222222,
              "#7201a8"
             ],
             [
              0.3333333333333333,
              "#9c179e"
             ],
             [
              0.4444444444444444,
              "#bd3786"
             ],
             [
              0.5555555555555556,
              "#d8576b"
             ],
             [
              0.6666666666666666,
              "#ed7953"
             ],
             [
              0.7777777777777778,
              "#fb9f3a"
             ],
             [
              0.8888888888888888,
              "#fdca26"
             ],
             [
              1,
              "#f0f921"
             ]
            ],
            "type": "histogram2dcontour"
           }
          ],
          "mesh3d": [
           {
            "colorbar": {
             "outlinewidth": 0,
             "ticks": ""
            },
            "type": "mesh3d"
           }
          ],
          "parcoords": [
           {
            "line": {
             "colorbar": {
              "outlinewidth": 0,
              "ticks": ""
             }
            },
            "type": "parcoords"
           }
          ],
          "pie": [
           {
            "automargin": true,
            "type": "pie"
           }
          ],
          "scatter": [
           {
            "fillpattern": {
             "fillmode": "overlay",
             "size": 10,
             "solidity": 0.2
            },
            "type": "scatter"
           }
          ],
          "scatter3d": [
           {
            "line": {
             "colorbar": {
              "outlinewidth": 0,
              "ticks": ""
             }
            },
            "marker": {
             "colorbar": {
              "outlinewidth": 0,
              "ticks": ""
             }
            },
            "type": "scatter3d"
           }
          ],
          "scattercarpet": [
           {
            "marker": {
             "colorbar": {
              "outlinewidth": 0,
              "ticks": ""
             }
            },
            "type": "scattercarpet"
           }
          ],
          "scattergeo": [
           {
            "marker": {
             "colorbar": {
              "outlinewidth": 0,
              "ticks": ""
             }
            },
            "type": "scattergeo"
           }
          ],
          "scattergl": [
           {
            "marker": {
             "colorbar": {
              "outlinewidth": 0,
              "ticks": ""
             }
            },
            "type": "scattergl"
           }
          ],
          "scattermapbox": [
           {
            "marker": {
             "colorbar": {
              "outlinewidth": 0,
              "ticks": ""
             }
            },
            "type": "scattermapbox"
           }
          ],
          "scatterpolar": [
           {
            "marker": {
             "colorbar": {
              "outlinewidth": 0,
              "ticks": ""
             }
            },
            "type": "scatterpolar"
           }
          ],
          "scatterpolargl": [
           {
            "marker": {
             "colorbar": {
              "outlinewidth": 0,
              "ticks": ""
             }
            },
            "type": "scatterpolargl"
           }
          ],
          "scatterternary": [
           {
            "marker": {
             "colorbar": {
              "outlinewidth": 0,
              "ticks": ""
             }
            },
            "type": "scatterternary"
           }
          ],
          "surface": [
           {
            "colorbar": {
             "outlinewidth": 0,
             "ticks": ""
            },
            "colorscale": [
             [
              0,
              "#0d0887"
             ],
             [
              0.1111111111111111,
              "#46039f"
             ],
             [
              0.2222222222222222,
              "#7201a8"
             ],
             [
              0.3333333333333333,
              "#9c179e"
             ],
             [
              0.4444444444444444,
              "#bd3786"
             ],
             [
              0.5555555555555556,
              "#d8576b"
             ],
             [
              0.6666666666666666,
              "#ed7953"
             ],
             [
              0.7777777777777778,
              "#fb9f3a"
             ],
             [
              0.8888888888888888,
              "#fdca26"
             ],
             [
              1,
              "#f0f921"
             ]
            ],
            "type": "surface"
           }
          ],
          "table": [
           {
            "cells": {
             "fill": {
              "color": "#EBF0F8"
             },
             "line": {
              "color": "white"
             }
            },
            "header": {
             "fill": {
              "color": "#C8D4E3"
             },
             "line": {
              "color": "white"
             }
            },
            "type": "table"
           }
          ]
         },
         "layout": {
          "annotationdefaults": {
           "arrowcolor": "#2a3f5f",
           "arrowhead": 0,
           "arrowwidth": 1
          },
          "autotypenumbers": "strict",
          "coloraxis": {
           "colorbar": {
            "outlinewidth": 0,
            "ticks": ""
           }
          },
          "colorscale": {
           "diverging": [
            [
             0,
             "#8e0152"
            ],
            [
             0.1,
             "#c51b7d"
            ],
            [
             0.2,
             "#de77ae"
            ],
            [
             0.3,
             "#f1b6da"
            ],
            [
             0.4,
             "#fde0ef"
            ],
            [
             0.5,
             "#f7f7f7"
            ],
            [
             0.6,
             "#e6f5d0"
            ],
            [
             0.7,
             "#b8e186"
            ],
            [
             0.8,
             "#7fbc41"
            ],
            [
             0.9,
             "#4d9221"
            ],
            [
             1,
             "#276419"
            ]
           ],
           "sequential": [
            [
             0,
             "#0d0887"
            ],
            [
             0.1111111111111111,
             "#46039f"
            ],
            [
             0.2222222222222222,
             "#7201a8"
            ],
            [
             0.3333333333333333,
             "#9c179e"
            ],
            [
             0.4444444444444444,
             "#bd3786"
            ],
            [
             0.5555555555555556,
             "#d8576b"
            ],
            [
             0.6666666666666666,
             "#ed7953"
            ],
            [
             0.7777777777777778,
             "#fb9f3a"
            ],
            [
             0.8888888888888888,
             "#fdca26"
            ],
            [
             1,
             "#f0f921"
            ]
           ],
           "sequentialminus": [
            [
             0,
             "#0d0887"
            ],
            [
             0.1111111111111111,
             "#46039f"
            ],
            [
             0.2222222222222222,
             "#7201a8"
            ],
            [
             0.3333333333333333,
             "#9c179e"
            ],
            [
             0.4444444444444444,
             "#bd3786"
            ],
            [
             0.5555555555555556,
             "#d8576b"
            ],
            [
             0.6666666666666666,
             "#ed7953"
            ],
            [
             0.7777777777777778,
             "#fb9f3a"
            ],
            [
             0.8888888888888888,
             "#fdca26"
            ],
            [
             1,
             "#f0f921"
            ]
           ]
          },
          "colorway": [
           "#636efa",
           "#EF553B",
           "#00cc96",
           "#ab63fa",
           "#FFA15A",
           "#19d3f3",
           "#FF6692",
           "#B6E880",
           "#FF97FF",
           "#FECB52"
          ],
          "font": {
           "color": "#2a3f5f"
          },
          "geo": {
           "bgcolor": "white",
           "lakecolor": "white",
           "landcolor": "#E5ECF6",
           "showlakes": true,
           "showland": true,
           "subunitcolor": "white"
          },
          "hoverlabel": {
           "align": "left"
          },
          "hovermode": "closest",
          "mapbox": {
           "style": "light"
          },
          "paper_bgcolor": "white",
          "plot_bgcolor": "#E5ECF6",
          "polar": {
           "angularaxis": {
            "gridcolor": "white",
            "linecolor": "white",
            "ticks": ""
           },
           "bgcolor": "#E5ECF6",
           "radialaxis": {
            "gridcolor": "white",
            "linecolor": "white",
            "ticks": ""
           }
          },
          "scene": {
           "xaxis": {
            "backgroundcolor": "#E5ECF6",
            "gridcolor": "white",
            "gridwidth": 2,
            "linecolor": "white",
            "showbackground": true,
            "ticks": "",
            "zerolinecolor": "white"
           },
           "yaxis": {
            "backgroundcolor": "#E5ECF6",
            "gridcolor": "white",
            "gridwidth": 2,
            "linecolor": "white",
            "showbackground": true,
            "ticks": "",
            "zerolinecolor": "white"
           },
           "zaxis": {
            "backgroundcolor": "#E5ECF6",
            "gridcolor": "white",
            "gridwidth": 2,
            "linecolor": "white",
            "showbackground": true,
            "ticks": "",
            "zerolinecolor": "white"
           }
          },
          "shapedefaults": {
           "line": {
            "color": "#2a3f5f"
           }
          },
          "ternary": {
           "aaxis": {
            "gridcolor": "white",
            "linecolor": "white",
            "ticks": ""
           },
           "baxis": {
            "gridcolor": "white",
            "linecolor": "white",
            "ticks": ""
           },
           "bgcolor": "#E5ECF6",
           "caxis": {
            "gridcolor": "white",
            "linecolor": "white",
            "ticks": ""
           }
          },
          "title": {
           "x": 0.05
          },
          "xaxis": {
           "automargin": true,
           "gridcolor": "white",
           "linecolor": "white",
           "ticks": "",
           "title": {
            "standoff": 15
           },
           "zerolinecolor": "white",
           "zerolinewidth": 2
          },
          "yaxis": {
           "automargin": true,
           "gridcolor": "white",
           "linecolor": "white",
           "ticks": "",
           "title": {
            "standoff": 15
           },
           "zerolinecolor": "white",
           "zerolinewidth": 2
          }
         }
        },
        "title": {
         "text": "Resizing on a Coordinate Plane"
        },
        "xaxis": {
         "dtick": 1,
         "range": [
          -1,
          11
         ],
         "showgrid": true
        },
        "yaxis": {
         "dtick": 1,
         "range": [
          -1,
          11
         ],
         "showgrid": true
        }
       }
      }
     },
     "metadata": {},
     "output_type": "display_data"
    }
   ],
   "source": [
    "import plotly.graph_objects as go\n",
    "start_x = [0, 0, 2, 2, 0]\n",
    "start_y = [0, 2, 2, 0, 0]\n",
    "labels = ['A', 'B', 'C', 'D']\n",
    "\n",
    "fig = go.Figure()\n",
    "\n",
    "for step in range(1, 6):\n",
    "    fig.add_trace(\n",
    "        go.Scatter(\n",
    "            x=[i * step for i in start_x], y=[i * step for i in start_y],\n",
    "            mode='lines+markers+text', text=labels, textposition='top left',\n",
    "            fill='toself', visible=False\n",
    "        ))\n",
    "fig.data[0].visible = True\n",
    "\n",
    "steps = []\n",
    "for i in range(len(fig.data)):\n",
    "    step = {'method':'update','label':i+1,'args':[{'visible':[False]*len(fig.data)}]}\n",
    "    step[\"args\"][0][\"visible\"][i] = True\n",
    "    steps.append(step)\n",
    "\n",
    "fig.update_layout(\n",
    "    title='Resizing on a Coordinate Plane', sliders=[{'steps':steps}],\n",
    "    xaxis={'range':[-1,11],'showgrid':True,'dtick':1},\n",
    "    yaxis={'range':[-1,11],'showgrid':True,'dtick':1},\n",
    ")\n",
    "\n",
    "fig.show()"
   ]
  },
  {
   "cell_type": "markdown",
   "metadata": {},
   "source": [
    "## Conclusion\n",
    "\n",
    "In this notebook we use [Plotly](https://plotly.com/python) to look at transformations on a coordinate plane, including **translations**, **reflections**, **rotations**, and **resizing**."
   ]
  },
  {
   "cell_type": "markdown",
   "metadata": {},
   "source": [
    "[![Callysto.ca License](https://github.com/callysto/curriculum-notebooks/blob/master/callysto-notebook-banner-bottom.jpg?raw=true)](https://github.com/callysto/curriculum-notebooks/blob/master/LICENSE.md)"
   ]
  }
 ],
 "metadata": {
  "interpreter": {
   "hash": "aee8b7b246df8f9039afb4144a1f6fd8d2ca17a180786b69acc140d282b71a49"
  },
  "kernelspec": {
   "display_name": "Python 3.10.4 64-bit",
   "language": "python",
   "name": "python3"
  },
  "language_info": {
   "codemirror_mode": {
    "name": "ipython",
    "version": 3
   },
   "file_extension": ".py",
   "mimetype": "text/x-python",
   "name": "python",
   "nbconvert_exporter": "python",
   "pygments_lexer": "ipython3",
   "version": "3.10.4"
  }
 },
 "nbformat": 4,
 "nbformat_minor": 2
}
