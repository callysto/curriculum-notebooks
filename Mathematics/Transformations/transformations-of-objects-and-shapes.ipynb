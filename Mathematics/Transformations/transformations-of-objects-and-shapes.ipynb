{
 "cells": [
  {
   "cell_type": "markdown",
   "metadata": {},
   "source": [
    "![Callysto.ca Banner](https://github.com/callysto/curriculum-notebooks/blob/master/callysto-notebook-banner-top.jpg?raw=true)\n",
    "\n",
    "<a href=\"https://hub.callysto.ca/jupyter/hub/user-redirect/git-pull?repo=https%3A%2F%2Fgithub.com%2Fcallysto%2Fcurriculum-notebooks&branch=master&subPath=Mathematics/Transformations/transformations-of-objects-and-shapes.ipynb&depth=1\" target=\"_parent\"><img src=\"https://raw.githubusercontent.com/callysto/curriculum-notebooks/master/open-in-callysto-button.svg?sanitize=true\" width=\"123\" height=\"24\" alt=\"Open in Callysto\"/></a>"
   ]
  },
  {
   "cell_type": "markdown",
   "metadata": {},
   "source": [
    "# Geometry Transformations\n",
    "\n",
    "## Introduction\n",
    "\n",
    "In geometry there are four types of transformations:\n",
    "\n",
    "**Translation**: change in position\n",
    "\n",
    "**Reflection**: mirror image across a line\n",
    "\n",
    "**Rotation**: circular movement around a central point\n",
    "\n",
    "**Resizing**: a shape or object changing size\n",
    "\n",
    "## Translations\n",
    "\n",
    "We will use a [coordinate plane](https://simple.wikipedia.org/wiki/Cartesian_coordinate_system) with *x* and *y* axes from -10 to +10. When we translate a shape we move it to another spot on the coordinate plane without changing anything else.\n",
    "\n",
    "### Interactive Example\n",
    "\n",
    "▶ Run the next code cell, then move the sliders to translate the rectangle."
   ]
  },
  {
   "cell_type": "code",
   "execution_count": null,
   "metadata": {},
   "outputs": [],
   "source": [
    "import plotly.graph_objs as go\n",
    "start_x = [1, 1, 4, 4, 1]\n",
    "start_y = [1, 4, 4, 1, 1]\n",
    "labels = ['A', 'B', 'C', 'D']\n",
    "\n",
    "data = [{'mode':'lines+markers+text','name':'original','text':labels,'textposition':'top left','x':start_x,'y':start_y},\n",
    "        {'mode':'lines+markers+text','name':'translated','text':labels,'textposition':'top left','x':start_x,'y':start_y}]\n",
    "\n",
    "hsteps = [{'method':'restyle','label':i-11,'args':[{'x[0]':[1,-10+i],'x[1]':[1,-10+i],'x[2]':[4,-7+i],'x[3]':[4,-7+i],'x[4]':[1,-10+i]}]} for i in range(18)]\n",
    "vsteps = [{'method':'restyle','label':i-11,'args':[{'y[0]':[1,-7+i],'y[1]':[4,-10+i],'y[2]':[4,-10+i],'y[3]':[1,-7+i],'y[4]':[1,-7+i]}]} for i in range(18)]\n",
    "\n",
    "sliders = [{'active':11,'currentvalue':{\"prefix\":\"x axis translation: \"},'pad':{\"t\":35},'steps':hsteps},\n",
    "           {'active':11,'currentvalue':{\"prefix\":\"y axis translation: \"},'pad':{\"t\":120},'steps':vsteps}]\n",
    "\n",
    "layout = go.Layout(\n",
    "        title = 'Translation on a Coordinate Plane',\n",
    "        yaxis = {'range':[-10,10],'showgrid':True,'dtick':1},\n",
    "        xaxis = {'range':[-10,10],'showgrid':True,'dtick':1},\n",
    "        sliders = sliders,\n",
    "        width=950, height=650)\n",
    "\n",
    "go.Figure(data=data, layout=layout).show()"
   ]
  },
  {
   "cell_type": "markdown",
   "metadata": {},
   "source": [
    "## Reflections\n",
    "\n",
    "When we reflect a shape across an axis we are changing the signs of the coordinate points of the object.\n",
    "\n",
    "An object can also be reflected across a line that is not *x* = 0 or *y* = 0. If the reflection line is horizontal we will be changing the *y* coordinates of the object and if the line is vertical we will only be changing the *x* coordinates.\n",
    "\n",
    "### Interactive Example\n",
    "\n",
    "▶ Run the next code cell, then the two drop-down menus allow you to choose to reflect across a vertical line or a horizontal line."
   ]
  },
  {
   "cell_type": "code",
   "execution_count": 9,
   "metadata": {
    "collapsed": true
   },
   "outputs": [
    {
     "data": {
      "application/vnd.plotly.v1+json": {
       "config": {
        "plotlyServerURL": "https://plot.ly"
       },
       "data": [
        {
         "hoverinfo": "x+y",
         "line": {
          "color": "#636EFA",
          "width": 3
         },
         "mode": "lines+markers+text",
         "name": "Original",
         "text": [
          "A",
          "B",
          "C",
          "D",
          ""
         ],
         "textfont": {
          "color": "#2CA02C"
         },
         "textposition": "top left",
         "type": "scatter",
         "visible": true,
         "x": [
          1,
          1,
          4,
          4,
          1
         ],
         "y": [
          1,
          4,
          4,
          1,
          1
         ]
        },
        {
         "hoverinfo": "x+y",
         "line": {
          "color": "#F1553B",
          "width": 3
         },
         "mode": "lines+markers+text",
         "name": "Reflection",
         "text": [
          "A",
          "B",
          "C",
          "D",
          ""
         ],
         "textfont": {
          "color": "#2CA02C"
         },
         "textposition": "top left",
         "type": "scatter",
         "visible": true,
         "x": [
          1,
          1,
          4,
          4,
          1
         ],
         "y": [
          1,
          4,
          4,
          1,
          1
         ]
        }
       ],
       "layout": {
        "annotations": [
         {
          "font": {
           "size": 14
          },
          "showarrow": false,
          "text": "x axis",
          "x": 1,
          "xref": "paper",
          "y": -0.16,
          "yref": "paper"
         },
         {
          "font": {
           "size": 14
          },
          "showarrow": false,
          "text": "y axis",
          "textangle": -90,
          "x": -0.06,
          "xref": "paper",
          "y": 1,
          "yref": "paper"
         }
        ],
        "hovermode": "closest",
        "showlegend": false,
        "template": {
         "data": {
          "bar": [
           {
            "error_x": {
             "color": "#2a3f5f"
            },
            "error_y": {
             "color": "#2a3f5f"
            },
            "marker": {
             "line": {
              "color": "#E5ECF6",
              "width": 0.5
             },
             "pattern": {
              "fillmode": "overlay",
              "size": 10,
              "solidity": 0.2
             }
            },
            "type": "bar"
           }
          ],
          "barpolar": [
           {
            "marker": {
             "line": {
              "color": "#E5ECF6",
              "width": 0.5
             },
             "pattern": {
              "fillmode": "overlay",
              "size": 10,
              "solidity": 0.2
             }
            },
            "type": "barpolar"
           }
          ],
          "carpet": [
           {
            "aaxis": {
             "endlinecolor": "#2a3f5f",
             "gridcolor": "white",
             "linecolor": "white",
             "minorgridcolor": "white",
             "startlinecolor": "#2a3f5f"
            },
            "baxis": {
             "endlinecolor": "#2a3f5f",
             "gridcolor": "white",
             "linecolor": "white",
             "minorgridcolor": "white",
             "startlinecolor": "#2a3f5f"
            },
            "type": "carpet"
           }
          ],
          "choropleth": [
           {
            "colorbar": {
             "outlinewidth": 0,
             "ticks": ""
            },
            "type": "choropleth"
           }
          ],
          "contour": [
           {
            "colorbar": {
             "outlinewidth": 0,
             "ticks": ""
            },
            "colorscale": [
             [
              0,
              "#0d0887"
             ],
             [
              0.1111111111111111,
              "#46039f"
             ],
             [
              0.2222222222222222,
              "#7201a8"
             ],
             [
              0.3333333333333333,
              "#9c179e"
             ],
             [
              0.4444444444444444,
              "#bd3786"
             ],
             [
              0.5555555555555556,
              "#d8576b"
             ],
             [
              0.6666666666666666,
              "#ed7953"
             ],
             [
              0.7777777777777778,
              "#fb9f3a"
             ],
             [
              0.8888888888888888,
              "#fdca26"
             ],
             [
              1,
              "#f0f921"
             ]
            ],
            "type": "contour"
           }
          ],
          "contourcarpet": [
           {
            "colorbar": {
             "outlinewidth": 0,
             "ticks": ""
            },
            "type": "contourcarpet"
           }
          ],
          "heatmap": [
           {
            "colorbar": {
             "outlinewidth": 0,
             "ticks": ""
            },
            "colorscale": [
             [
              0,
              "#0d0887"
             ],
             [
              0.1111111111111111,
              "#46039f"
             ],
             [
              0.2222222222222222,
              "#7201a8"
             ],
             [
              0.3333333333333333,
              "#9c179e"
             ],
             [
              0.4444444444444444,
              "#bd3786"
             ],
             [
              0.5555555555555556,
              "#d8576b"
             ],
             [
              0.6666666666666666,
              "#ed7953"
             ],
             [
              0.7777777777777778,
              "#fb9f3a"
             ],
             [
              0.8888888888888888,
              "#fdca26"
             ],
             [
              1,
              "#f0f921"
             ]
            ],
            "type": "heatmap"
           }
          ],
          "heatmapgl": [
           {
            "colorbar": {
             "outlinewidth": 0,
             "ticks": ""
            },
            "colorscale": [
             [
              0,
              "#0d0887"
             ],
             [
              0.1111111111111111,
              "#46039f"
             ],
             [
              0.2222222222222222,
              "#7201a8"
             ],
             [
              0.3333333333333333,
              "#9c179e"
             ],
             [
              0.4444444444444444,
              "#bd3786"
             ],
             [
              0.5555555555555556,
              "#d8576b"
             ],
             [
              0.6666666666666666,
              "#ed7953"
             ],
             [
              0.7777777777777778,
              "#fb9f3a"
             ],
             [
              0.8888888888888888,
              "#fdca26"
             ],
             [
              1,
              "#f0f921"
             ]
            ],
            "type": "heatmapgl"
           }
          ],
          "histogram": [
           {
            "marker": {
             "pattern": {
              "fillmode": "overlay",
              "size": 10,
              "solidity": 0.2
             }
            },
            "type": "histogram"
           }
          ],
          "histogram2d": [
           {
            "colorbar": {
             "outlinewidth": 0,
             "ticks": ""
            },
            "colorscale": [
             [
              0,
              "#0d0887"
             ],
             [
              0.1111111111111111,
              "#46039f"
             ],
             [
              0.2222222222222222,
              "#7201a8"
             ],
             [
              0.3333333333333333,
              "#9c179e"
             ],
             [
              0.4444444444444444,
              "#bd3786"
             ],
             [
              0.5555555555555556,
              "#d8576b"
             ],
             [
              0.6666666666666666,
              "#ed7953"
             ],
             [
              0.7777777777777778,
              "#fb9f3a"
             ],
             [
              0.8888888888888888,
              "#fdca26"
             ],
             [
              1,
              "#f0f921"
             ]
            ],
            "type": "histogram2d"
           }
          ],
          "histogram2dcontour": [
           {
            "colorbar": {
             "outlinewidth": 0,
             "ticks": ""
            },
            "colorscale": [
             [
              0,
              "#0d0887"
             ],
             [
              0.1111111111111111,
              "#46039f"
             ],
             [
              0.2222222222222222,
              "#7201a8"
             ],
             [
              0.3333333333333333,
              "#9c179e"
             ],
             [
              0.4444444444444444,
              "#bd3786"
             ],
             [
              0.5555555555555556,
              "#d8576b"
             ],
             [
              0.6666666666666666,
              "#ed7953"
             ],
             [
              0.7777777777777778,
              "#fb9f3a"
             ],
             [
              0.8888888888888888,
              "#fdca26"
             ],
             [
              1,
              "#f0f921"
             ]
            ],
            "type": "histogram2dcontour"
           }
          ],
          "mesh3d": [
           {
            "colorbar": {
             "outlinewidth": 0,
             "ticks": ""
            },
            "type": "mesh3d"
           }
          ],
          "parcoords": [
           {
            "line": {
             "colorbar": {
              "outlinewidth": 0,
              "ticks": ""
             }
            },
            "type": "parcoords"
           }
          ],
          "pie": [
           {
            "automargin": true,
            "type": "pie"
           }
          ],
          "scatter": [
           {
            "marker": {
             "colorbar": {
              "outlinewidth": 0,
              "ticks": ""
             }
            },
            "type": "scatter"
           }
          ],
          "scatter3d": [
           {
            "line": {
             "colorbar": {
              "outlinewidth": 0,
              "ticks": ""
             }
            },
            "marker": {
             "colorbar": {
              "outlinewidth": 0,
              "ticks": ""
             }
            },
            "type": "scatter3d"
           }
          ],
          "scattercarpet": [
           {
            "marker": {
             "colorbar": {
              "outlinewidth": 0,
              "ticks": ""
             }
            },
            "type": "scattercarpet"
           }
          ],
          "scattergeo": [
           {
            "marker": {
             "colorbar": {
              "outlinewidth": 0,
              "ticks": ""
             }
            },
            "type": "scattergeo"
           }
          ],
          "scattergl": [
           {
            "marker": {
             "colorbar": {
              "outlinewidth": 0,
              "ticks": ""
             }
            },
            "type": "scattergl"
           }
          ],
          "scattermapbox": [
           {
            "marker": {
             "colorbar": {
              "outlinewidth": 0,
              "ticks": ""
             }
            },
            "type": "scattermapbox"
           }
          ],
          "scatterpolar": [
           {
            "marker": {
             "colorbar": {
              "outlinewidth": 0,
              "ticks": ""
             }
            },
            "type": "scatterpolar"
           }
          ],
          "scatterpolargl": [
           {
            "marker": {
             "colorbar": {
              "outlinewidth": 0,
              "ticks": ""
             }
            },
            "type": "scatterpolargl"
           }
          ],
          "scatterternary": [
           {
            "marker": {
             "colorbar": {
              "outlinewidth": 0,
              "ticks": ""
             }
            },
            "type": "scatterternary"
           }
          ],
          "surface": [
           {
            "colorbar": {
             "outlinewidth": 0,
             "ticks": ""
            },
            "colorscale": [
             [
              0,
              "#0d0887"
             ],
             [
              0.1111111111111111,
              "#46039f"
             ],
             [
              0.2222222222222222,
              "#7201a8"
             ],
             [
              0.3333333333333333,
              "#9c179e"
             ],
             [
              0.4444444444444444,
              "#bd3786"
             ],
             [
              0.5555555555555556,
              "#d8576b"
             ],
             [
              0.6666666666666666,
              "#ed7953"
             ],
             [
              0.7777777777777778,
              "#fb9f3a"
             ],
             [
              0.8888888888888888,
              "#fdca26"
             ],
             [
              1,
              "#f0f921"
             ]
            ],
            "type": "surface"
           }
          ],
          "table": [
           {
            "cells": {
             "fill": {
              "color": "#EBF0F8"
             },
             "line": {
              "color": "white"
             }
            },
            "header": {
             "fill": {
              "color": "#C8D4E3"
             },
             "line": {
              "color": "white"
             }
            },
            "type": "table"
           }
          ]
         },
         "layout": {
          "annotationdefaults": {
           "arrowcolor": "#2a3f5f",
           "arrowhead": 0,
           "arrowwidth": 1
          },
          "autotypenumbers": "strict",
          "coloraxis": {
           "colorbar": {
            "outlinewidth": 0,
            "ticks": ""
           }
          },
          "colorscale": {
           "diverging": [
            [
             0,
             "#8e0152"
            ],
            [
             0.1,
             "#c51b7d"
            ],
            [
             0.2,
             "#de77ae"
            ],
            [
             0.3,
             "#f1b6da"
            ],
            [
             0.4,
             "#fde0ef"
            ],
            [
             0.5,
             "#f7f7f7"
            ],
            [
             0.6,
             "#e6f5d0"
            ],
            [
             0.7,
             "#b8e186"
            ],
            [
             0.8,
             "#7fbc41"
            ],
            [
             0.9,
             "#4d9221"
            ],
            [
             1,
             "#276419"
            ]
           ],
           "sequential": [
            [
             0,
             "#0d0887"
            ],
            [
             0.1111111111111111,
             "#46039f"
            ],
            [
             0.2222222222222222,
             "#7201a8"
            ],
            [
             0.3333333333333333,
             "#9c179e"
            ],
            [
             0.4444444444444444,
             "#bd3786"
            ],
            [
             0.5555555555555556,
             "#d8576b"
            ],
            [
             0.6666666666666666,
             "#ed7953"
            ],
            [
             0.7777777777777778,
             "#fb9f3a"
            ],
            [
             0.8888888888888888,
             "#fdca26"
            ],
            [
             1,
             "#f0f921"
            ]
           ],
           "sequentialminus": [
            [
             0,
             "#0d0887"
            ],
            [
             0.1111111111111111,
             "#46039f"
            ],
            [
             0.2222222222222222,
             "#7201a8"
            ],
            [
             0.3333333333333333,
             "#9c179e"
            ],
            [
             0.4444444444444444,
             "#bd3786"
            ],
            [
             0.5555555555555556,
             "#d8576b"
            ],
            [
             0.6666666666666666,
             "#ed7953"
            ],
            [
             0.7777777777777778,
             "#fb9f3a"
            ],
            [
             0.8888888888888888,
             "#fdca26"
            ],
            [
             1,
             "#f0f921"
            ]
           ]
          },
          "colorway": [
           "#636efa",
           "#EF553B",
           "#00cc96",
           "#ab63fa",
           "#FFA15A",
           "#19d3f3",
           "#FF6692",
           "#B6E880",
           "#FF97FF",
           "#FECB52"
          ],
          "font": {
           "color": "#2a3f5f"
          },
          "geo": {
           "bgcolor": "white",
           "lakecolor": "white",
           "landcolor": "#E5ECF6",
           "showlakes": true,
           "showland": true,
           "subunitcolor": "white"
          },
          "hoverlabel": {
           "align": "left"
          },
          "hovermode": "closest",
          "mapbox": {
           "style": "light"
          },
          "paper_bgcolor": "white",
          "plot_bgcolor": "#E5ECF6",
          "polar": {
           "angularaxis": {
            "gridcolor": "white",
            "linecolor": "white",
            "ticks": ""
           },
           "bgcolor": "#E5ECF6",
           "radialaxis": {
            "gridcolor": "white",
            "linecolor": "white",
            "ticks": ""
           }
          },
          "scene": {
           "xaxis": {
            "backgroundcolor": "#E5ECF6",
            "gridcolor": "white",
            "gridwidth": 2,
            "linecolor": "white",
            "showbackground": true,
            "ticks": "",
            "zerolinecolor": "white"
           },
           "yaxis": {
            "backgroundcolor": "#E5ECF6",
            "gridcolor": "white",
            "gridwidth": 2,
            "linecolor": "white",
            "showbackground": true,
            "ticks": "",
            "zerolinecolor": "white"
           },
           "zaxis": {
            "backgroundcolor": "#E5ECF6",
            "gridcolor": "white",
            "gridwidth": 2,
            "linecolor": "white",
            "showbackground": true,
            "ticks": "",
            "zerolinecolor": "white"
           }
          },
          "shapedefaults": {
           "line": {
            "color": "#2a3f5f"
           }
          },
          "ternary": {
           "aaxis": {
            "gridcolor": "white",
            "linecolor": "white",
            "ticks": ""
           },
           "baxis": {
            "gridcolor": "white",
            "linecolor": "white",
            "ticks": ""
           },
           "bgcolor": "#E5ECF6",
           "caxis": {
            "gridcolor": "white",
            "linecolor": "white",
            "ticks": ""
           }
          },
          "title": {
           "x": 0.05
          },
          "xaxis": {
           "automargin": true,
           "gridcolor": "white",
           "linecolor": "white",
           "ticks": "",
           "title": {
            "standoff": 15
           },
           "zerolinecolor": "white",
           "zerolinewidth": 2
          },
          "yaxis": {
           "automargin": true,
           "gridcolor": "white",
           "linecolor": "white",
           "ticks": "",
           "title": {
            "standoff": 15
           },
           "zerolinecolor": "white",
           "zerolinewidth": 2
          }
         }
        },
        "title": {
         "text": "Reflection on a Coordinate Plane"
        },
        "updatemenus": [
         {
          "buttons": [
           {
            "args": [
             {
              "x[0]": [
               1,
               1
              ],
              "x[1]": [
               1,
               1
              ],
              "x[2]": [
               4,
               4
              ],
              "x[3]": [
               4,
               4
              ],
              "x[4]": [
               1,
               1
              ]
             }
            ],
            "label": "No Horizontal Reflection",
            "method": "restyle"
           },
           {
            "args": [
             {
              "x[0]": [
               1,
               9
              ],
              "x[1]": [
               1,
               9
              ],
              "x[2]": [
               4,
               6
              ],
              "x[3]": [
               4,
               6
              ],
              "x[4]": [
               1,
               9
              ]
             }
            ],
            "label": "Reflection across x = 5",
            "method": "restyle"
           },
           {
            "args": [
             {
              "x[0]": [
               1,
               7
              ],
              "x[1]": [
               1,
               7
              ],
              "x[2]": [
               4,
               4
              ],
              "x[3]": [
               4,
               4
              ],
              "x[4]": [
               1,
               7
              ]
             }
            ],
            "label": "Reflection across x = 4",
            "method": "restyle"
           },
           {
            "args": [
             {
              "x[0]": [
               1,
               5
              ],
              "x[1]": [
               1,
               5
              ],
              "x[2]": [
               4,
               2
              ],
              "x[3]": [
               4,
               2
              ],
              "x[4]": [
               1,
               5
              ]
             }
            ],
            "label": "Reflection across x = 3",
            "method": "restyle"
           },
           {
            "args": [
             {
              "x[0]": [
               1,
               3
              ],
              "x[1]": [
               1,
               3
              ],
              "x[2]": [
               4,
               0
              ],
              "x[3]": [
               4,
               0
              ],
              "x[4]": [
               1,
               3
              ]
             }
            ],
            "label": "Reflection across x = 2",
            "method": "restyle"
           },
           {
            "args": [
             {
              "x[0]": [
               1,
               1
              ],
              "x[1]": [
               1,
               1
              ],
              "x[2]": [
               4,
               -2
              ],
              "x[3]": [
               4,
               -2
              ],
              "x[4]": [
               1,
               1
              ]
             }
            ],
            "label": "Reflection across x = 1",
            "method": "restyle"
           },
           {
            "args": [
             {
              "x[0]": [
               1,
               -1
              ],
              "x[1]": [
               1,
               -1
              ],
              "x[2]": [
               4,
               -4
              ],
              "x[3]": [
               4,
               -4
              ],
              "x[4]": [
               1,
               -1
              ]
             }
            ],
            "label": "Reflection across x = 0",
            "method": "restyle"
           },
           {
            "args": [
             {
              "x[0]": [
               1,
               -3
              ],
              "x[1]": [
               1,
               -3
              ],
              "x[2]": [
               4,
               -6
              ],
              "x[3]": [
               4,
               -6
              ],
              "x[4]": [
               1,
               -3
              ]
             }
            ],
            "label": "Reflection across x = -1",
            "method": "restyle"
           },
           {
            "args": [
             {
              "x[0]": [
               1,
               -5
              ],
              "x[1]": [
               1,
               -5
              ],
              "x[2]": [
               4,
               -8
              ],
              "x[3]": [
               4,
               -8
              ],
              "x[4]": [
               1,
               -5
              ]
             }
            ],
            "label": "Reflection across x = -2",
            "method": "restyle"
           },
           {
            "args": [
             {
              "x[0]": [
               1,
               -7
              ],
              "x[1]": [
               1,
               -7
              ],
              "x[2]": [
               4,
               -10
              ],
              "x[3]": [
               4,
               -10
              ],
              "x[4]": [
               1,
               -7
              ]
             }
            ],
            "label": "Reflection across x = -3",
            "method": "restyle"
           }
          ],
          "showactive": true,
          "x": 0.5,
          "y": 1.2
         },
         {
          "buttons": [
           {
            "args": [
             {
              "y[0]": [
               1,
               1
              ],
              "y[1]": [
               4,
               4
              ],
              "y[2]": [
               4,
               4
              ],
              "y[3]": [
               1,
               1
              ],
              "y[4]": [
               1,
               1
              ]
             }
            ],
            "label": "No Vertical Reflection",
            "method": "restyle"
           },
           {
            "args": [
             {
              "y[0]": [
               1,
               9
              ],
              "y[1]": [
               4,
               6
              ],
              "y[2]": [
               4,
               6
              ],
              "y[3]": [
               1,
               9
              ],
              "y[4]": [
               1,
               9
              ]
             }
            ],
            "label": "Reflection across y = 5",
            "method": "restyle"
           },
           {
            "args": [
             {
              "y[0]": [
               1,
               7
              ],
              "y[1]": [
               4,
               4
              ],
              "y[2]": [
               4,
               4
              ],
              "y[3]": [
               1,
               7
              ],
              "y[4]": [
               1,
               7
              ]
             }
            ],
            "label": "Reflection across y = 4",
            "method": "restyle"
           },
           {
            "args": [
             {
              "y[0]": [
               1,
               5
              ],
              "y[1]": [
               4,
               2
              ],
              "y[2]": [
               4,
               2
              ],
              "y[3]": [
               1,
               5
              ],
              "y[4]": [
               1,
               5
              ]
             }
            ],
            "label": "Reflection across y = 3",
            "method": "restyle"
           },
           {
            "args": [
             {
              "y[0]": [
               1,
               3
              ],
              "y[1]": [
               4,
               0
              ],
              "y[2]": [
               4,
               0
              ],
              "y[3]": [
               1,
               3
              ],
              "y[4]": [
               1,
               3
              ]
             }
            ],
            "label": "Reflection across y = 2",
            "method": "restyle"
           },
           {
            "args": [
             {
              "y[0]": [
               1,
               1
              ],
              "y[1]": [
               4,
               -2
              ],
              "y[2]": [
               4,
               -2
              ],
              "y[3]": [
               1,
               1
              ],
              "y[4]": [
               1,
               1
              ]
             }
            ],
            "label": "Reflection across y = 1",
            "method": "restyle"
           },
           {
            "args": [
             {
              "y[0]": [
               1,
               -1
              ],
              "y[1]": [
               4,
               -4
              ],
              "y[2]": [
               4,
               -4
              ],
              "y[3]": [
               1,
               -1
              ],
              "y[4]": [
               1,
               -1
              ]
             }
            ],
            "label": "Reflection across y = 0",
            "method": "restyle"
           },
           {
            "args": [
             {
              "y[0]": [
               1,
               -3
              ],
              "y[1]": [
               4,
               -6
              ],
              "y[2]": [
               4,
               -6
              ],
              "y[3]": [
               1,
               -3
              ],
              "y[4]": [
               1,
               -3
              ]
             }
            ],
            "label": "Reflection across y = -1",
            "method": "restyle"
           },
           {
            "args": [
             {
              "y[0]": [
               1,
               -5
              ],
              "y[1]": [
               4,
               -8
              ],
              "y[2]": [
               4,
               -8
              ],
              "y[3]": [
               1,
               -5
              ],
              "y[4]": [
               1,
               -5
              ]
             }
            ],
            "label": "Reflection across y = -2",
            "method": "restyle"
           },
           {
            "args": [
             {
              "y[0]": [
               1,
               -7
              ],
              "y[1]": [
               4,
               -10
              ],
              "y[2]": [
               4,
               -10
              ],
              "y[3]": [
               1,
               -7
              ],
              "y[4]": [
               1,
               -7
              ]
             }
            ],
            "label": "Reflection across y = -3",
            "method": "restyle"
           }
          ],
          "showactive": true,
          "x": 0.7,
          "y": 1.2
         }
        ],
        "xaxis": {
         "dtick": 1,
         "gridwidth": 2,
         "range": [
          -10,
          10
         ],
         "showgrid": true,
         "ticklen": 5,
         "title": {
          "text": ""
         }
        },
        "yaxis": {
         "dtick": 1,
         "gridwidth": 2,
         "range": [
          -10,
          10
         ],
         "showgrid": true,
         "ticklen": 5,
         "title": {
          "text": ""
         }
        }
       }
      },
      "text/html": [
       "<div>                            <div id=\"170eba52-31d8-428f-90c5-3442b728ea16\" class=\"plotly-graph-div\" style=\"height:525px; width:100%;\"></div>            <script type=\"text/javascript\">                require([\"plotly\"], function(Plotly) {                    window.PLOTLYENV=window.PLOTLYENV || {};                                    if (document.getElementById(\"170eba52-31d8-428f-90c5-3442b728ea16\")) {                    Plotly.newPlot(                        \"170eba52-31d8-428f-90c5-3442b728ea16\",                        [{\"hoverinfo\":\"x+y\",\"line\":{\"color\":\"#636EFA\",\"width\":3},\"mode\":\"lines+markers+text\",\"name\":\"Original\",\"text\":[\"A\",\"B\",\"C\",\"D\",\"\"],\"textfont\":{\"color\":\"#2CA02C\"},\"textposition\":\"top left\",\"visible\":true,\"x\":[1,1,4,4,1],\"y\":[1,4,4,1,1],\"type\":\"scatter\"},{\"hoverinfo\":\"x+y\",\"line\":{\"color\":\"#F1553B\",\"width\":3},\"mode\":\"lines+markers+text\",\"name\":\"Reflection\",\"text\":[\"A\",\"B\",\"C\",\"D\",\"\"],\"textfont\":{\"color\":\"#2CA02C\"},\"textposition\":\"top left\",\"visible\":true,\"x\":[1,1,4,4,1],\"y\":[1,4,4,1,1],\"type\":\"scatter\"}],                        {\"annotations\":[{\"font\":{\"size\":14},\"showarrow\":false,\"text\":\"x axis\",\"x\":1.0,\"xref\":\"paper\",\"y\":-0.16,\"yref\":\"paper\"},{\"font\":{\"size\":14},\"showarrow\":false,\"text\":\"y axis\",\"textangle\":-90,\"x\":-0.06,\"xref\":\"paper\",\"y\":1.0,\"yref\":\"paper\"}],\"hovermode\":\"closest\",\"showlegend\":false,\"title\":{\"text\":\"Reflection on a Coordinate Plane\"},\"updatemenus\":[{\"buttons\":[{\"args\":[{\"x[0]\":[1,1],\"x[1]\":[1,1],\"x[2]\":[4,4],\"x[3]\":[4,4],\"x[4]\":[1,1]}],\"label\":\"No Horizontal Reflection\",\"method\":\"restyle\"},{\"args\":[{\"x[0]\":[1,9],\"x[1]\":[1,9],\"x[2]\":[4,6],\"x[3]\":[4,6],\"x[4]\":[1,9]}],\"label\":\"Reflection across x = 5\",\"method\":\"restyle\"},{\"args\":[{\"x[0]\":[1,7],\"x[1]\":[1,7],\"x[2]\":[4,4],\"x[3]\":[4,4],\"x[4]\":[1,7]}],\"label\":\"Reflection across x = 4\",\"method\":\"restyle\"},{\"args\":[{\"x[0]\":[1,5],\"x[1]\":[1,5],\"x[2]\":[4,2],\"x[3]\":[4,2],\"x[4]\":[1,5]}],\"label\":\"Reflection across x = 3\",\"method\":\"restyle\"},{\"args\":[{\"x[0]\":[1,3],\"x[1]\":[1,3],\"x[2]\":[4,0],\"x[3]\":[4,0],\"x[4]\":[1,3]}],\"label\":\"Reflection across x = 2\",\"method\":\"restyle\"},{\"args\":[{\"x[0]\":[1,1],\"x[1]\":[1,1],\"x[2]\":[4,-2],\"x[3]\":[4,-2],\"x[4]\":[1,1]}],\"label\":\"Reflection across x = 1\",\"method\":\"restyle\"},{\"args\":[{\"x[0]\":[1,-1],\"x[1]\":[1,-1],\"x[2]\":[4,-4],\"x[3]\":[4,-4],\"x[4]\":[1,-1]}],\"label\":\"Reflection across x = 0\",\"method\":\"restyle\"},{\"args\":[{\"x[0]\":[1,-3],\"x[1]\":[1,-3],\"x[2]\":[4,-6],\"x[3]\":[4,-6],\"x[4]\":[1,-3]}],\"label\":\"Reflection across x = -1\",\"method\":\"restyle\"},{\"args\":[{\"x[0]\":[1,-5],\"x[1]\":[1,-5],\"x[2]\":[4,-8],\"x[3]\":[4,-8],\"x[4]\":[1,-5]}],\"label\":\"Reflection across x = -2\",\"method\":\"restyle\"},{\"args\":[{\"x[0]\":[1,-7],\"x[1]\":[1,-7],\"x[2]\":[4,-10],\"x[3]\":[4,-10],\"x[4]\":[1,-7]}],\"label\":\"Reflection across x = -3\",\"method\":\"restyle\"}],\"showactive\":true,\"x\":0.5,\"y\":1.2},{\"buttons\":[{\"args\":[{\"y[0]\":[1,1],\"y[1]\":[4,4],\"y[2]\":[4,4],\"y[3]\":[1,1],\"y[4]\":[1,1]}],\"label\":\"No Vertical Reflection\",\"method\":\"restyle\"},{\"args\":[{\"y[0]\":[1,9],\"y[1]\":[4,6],\"y[2]\":[4,6],\"y[3]\":[1,9],\"y[4]\":[1,9]}],\"label\":\"Reflection across y = 5\",\"method\":\"restyle\"},{\"args\":[{\"y[0]\":[1,7],\"y[1]\":[4,4],\"y[2]\":[4,4],\"y[3]\":[1,7],\"y[4]\":[1,7]}],\"label\":\"Reflection across y = 4\",\"method\":\"restyle\"},{\"args\":[{\"y[0]\":[1,5],\"y[1]\":[4,2],\"y[2]\":[4,2],\"y[3]\":[1,5],\"y[4]\":[1,5]}],\"label\":\"Reflection across y = 3\",\"method\":\"restyle\"},{\"args\":[{\"y[0]\":[1,3],\"y[1]\":[4,0],\"y[2]\":[4,0],\"y[3]\":[1,3],\"y[4]\":[1,3]}],\"label\":\"Reflection across y = 2\",\"method\":\"restyle\"},{\"args\":[{\"y[0]\":[1,1],\"y[1]\":[4,-2],\"y[2]\":[4,-2],\"y[3]\":[1,1],\"y[4]\":[1,1]}],\"label\":\"Reflection across y = 1\",\"method\":\"restyle\"},{\"args\":[{\"y[0]\":[1,-1],\"y[1]\":[4,-4],\"y[2]\":[4,-4],\"y[3]\":[1,-1],\"y[4]\":[1,-1]}],\"label\":\"Reflection across y = 0\",\"method\":\"restyle\"},{\"args\":[{\"y[0]\":[1,-3],\"y[1]\":[4,-6],\"y[2]\":[4,-6],\"y[3]\":[1,-3],\"y[4]\":[1,-3]}],\"label\":\"Reflection across y = -1\",\"method\":\"restyle\"},{\"args\":[{\"y[0]\":[1,-5],\"y[1]\":[4,-8],\"y[2]\":[4,-8],\"y[3]\":[1,-5],\"y[4]\":[1,-5]}],\"label\":\"Reflection across y = -2\",\"method\":\"restyle\"},{\"args\":[{\"y[0]\":[1,-7],\"y[1]\":[4,-10],\"y[2]\":[4,-10],\"y[3]\":[1,-7],\"y[4]\":[1,-7]}],\"label\":\"Reflection across y = -3\",\"method\":\"restyle\"}],\"showactive\":true,\"x\":0.7,\"y\":1.2}],\"xaxis\":{\"dtick\":1,\"gridwidth\":2,\"range\":[-10,10],\"showgrid\":true,\"ticklen\":5,\"title\":{\"text\":\"\"}},\"yaxis\":{\"dtick\":1,\"gridwidth\":2,\"range\":[-10,10],\"showgrid\":true,\"ticklen\":5,\"title\":{\"text\":\"\"}},\"template\":{\"data\":{\"bar\":[{\"error_x\":{\"color\":\"#2a3f5f\"},\"error_y\":{\"color\":\"#2a3f5f\"},\"marker\":{\"line\":{\"color\":\"#E5ECF6\",\"width\":0.5},\"pattern\":{\"fillmode\":\"overlay\",\"size\":10,\"solidity\":0.2}},\"type\":\"bar\"}],\"barpolar\":[{\"marker\":{\"line\":{\"color\":\"#E5ECF6\",\"width\":0.5},\"pattern\":{\"fillmode\":\"overlay\",\"size\":10,\"solidity\":0.2}},\"type\":\"barpolar\"}],\"carpet\":[{\"aaxis\":{\"endlinecolor\":\"#2a3f5f\",\"gridcolor\":\"white\",\"linecolor\":\"white\",\"minorgridcolor\":\"white\",\"startlinecolor\":\"#2a3f5f\"},\"baxis\":{\"endlinecolor\":\"#2a3f5f\",\"gridcolor\":\"white\",\"linecolor\":\"white\",\"minorgridcolor\":\"white\",\"startlinecolor\":\"#2a3f5f\"},\"type\":\"carpet\"}],\"choropleth\":[{\"colorbar\":{\"outlinewidth\":0,\"ticks\":\"\"},\"type\":\"choropleth\"}],\"contour\":[{\"colorbar\":{\"outlinewidth\":0,\"ticks\":\"\"},\"colorscale\":[[0.0,\"#0d0887\"],[0.1111111111111111,\"#46039f\"],[0.2222222222222222,\"#7201a8\"],[0.3333333333333333,\"#9c179e\"],[0.4444444444444444,\"#bd3786\"],[0.5555555555555556,\"#d8576b\"],[0.6666666666666666,\"#ed7953\"],[0.7777777777777778,\"#fb9f3a\"],[0.8888888888888888,\"#fdca26\"],[1.0,\"#f0f921\"]],\"type\":\"contour\"}],\"contourcarpet\":[{\"colorbar\":{\"outlinewidth\":0,\"ticks\":\"\"},\"type\":\"contourcarpet\"}],\"heatmap\":[{\"colorbar\":{\"outlinewidth\":0,\"ticks\":\"\"},\"colorscale\":[[0.0,\"#0d0887\"],[0.1111111111111111,\"#46039f\"],[0.2222222222222222,\"#7201a8\"],[0.3333333333333333,\"#9c179e\"],[0.4444444444444444,\"#bd3786\"],[0.5555555555555556,\"#d8576b\"],[0.6666666666666666,\"#ed7953\"],[0.7777777777777778,\"#fb9f3a\"],[0.8888888888888888,\"#fdca26\"],[1.0,\"#f0f921\"]],\"type\":\"heatmap\"}],\"heatmapgl\":[{\"colorbar\":{\"outlinewidth\":0,\"ticks\":\"\"},\"colorscale\":[[0.0,\"#0d0887\"],[0.1111111111111111,\"#46039f\"],[0.2222222222222222,\"#7201a8\"],[0.3333333333333333,\"#9c179e\"],[0.4444444444444444,\"#bd3786\"],[0.5555555555555556,\"#d8576b\"],[0.6666666666666666,\"#ed7953\"],[0.7777777777777778,\"#fb9f3a\"],[0.8888888888888888,\"#fdca26\"],[1.0,\"#f0f921\"]],\"type\":\"heatmapgl\"}],\"histogram\":[{\"marker\":{\"pattern\":{\"fillmode\":\"overlay\",\"size\":10,\"solidity\":0.2}},\"type\":\"histogram\"}],\"histogram2d\":[{\"colorbar\":{\"outlinewidth\":0,\"ticks\":\"\"},\"colorscale\":[[0.0,\"#0d0887\"],[0.1111111111111111,\"#46039f\"],[0.2222222222222222,\"#7201a8\"],[0.3333333333333333,\"#9c179e\"],[0.4444444444444444,\"#bd3786\"],[0.5555555555555556,\"#d8576b\"],[0.6666666666666666,\"#ed7953\"],[0.7777777777777778,\"#fb9f3a\"],[0.8888888888888888,\"#fdca26\"],[1.0,\"#f0f921\"]],\"type\":\"histogram2d\"}],\"histogram2dcontour\":[{\"colorbar\":{\"outlinewidth\":0,\"ticks\":\"\"},\"colorscale\":[[0.0,\"#0d0887\"],[0.1111111111111111,\"#46039f\"],[0.2222222222222222,\"#7201a8\"],[0.3333333333333333,\"#9c179e\"],[0.4444444444444444,\"#bd3786\"],[0.5555555555555556,\"#d8576b\"],[0.6666666666666666,\"#ed7953\"],[0.7777777777777778,\"#fb9f3a\"],[0.8888888888888888,\"#fdca26\"],[1.0,\"#f0f921\"]],\"type\":\"histogram2dcontour\"}],\"mesh3d\":[{\"colorbar\":{\"outlinewidth\":0,\"ticks\":\"\"},\"type\":\"mesh3d\"}],\"parcoords\":[{\"line\":{\"colorbar\":{\"outlinewidth\":0,\"ticks\":\"\"}},\"type\":\"parcoords\"}],\"pie\":[{\"automargin\":true,\"type\":\"pie\"}],\"scatter\":[{\"marker\":{\"colorbar\":{\"outlinewidth\":0,\"ticks\":\"\"}},\"type\":\"scatter\"}],\"scatter3d\":[{\"line\":{\"colorbar\":{\"outlinewidth\":0,\"ticks\":\"\"}},\"marker\":{\"colorbar\":{\"outlinewidth\":0,\"ticks\":\"\"}},\"type\":\"scatter3d\"}],\"scattercarpet\":[{\"marker\":{\"colorbar\":{\"outlinewidth\":0,\"ticks\":\"\"}},\"type\":\"scattercarpet\"}],\"scattergeo\":[{\"marker\":{\"colorbar\":{\"outlinewidth\":0,\"ticks\":\"\"}},\"type\":\"scattergeo\"}],\"scattergl\":[{\"marker\":{\"colorbar\":{\"outlinewidth\":0,\"ticks\":\"\"}},\"type\":\"scattergl\"}],\"scattermapbox\":[{\"marker\":{\"colorbar\":{\"outlinewidth\":0,\"ticks\":\"\"}},\"type\":\"scattermapbox\"}],\"scatterpolar\":[{\"marker\":{\"colorbar\":{\"outlinewidth\":0,\"ticks\":\"\"}},\"type\":\"scatterpolar\"}],\"scatterpolargl\":[{\"marker\":{\"colorbar\":{\"outlinewidth\":0,\"ticks\":\"\"}},\"type\":\"scatterpolargl\"}],\"scatterternary\":[{\"marker\":{\"colorbar\":{\"outlinewidth\":0,\"ticks\":\"\"}},\"type\":\"scatterternary\"}],\"surface\":[{\"colorbar\":{\"outlinewidth\":0,\"ticks\":\"\"},\"colorscale\":[[0.0,\"#0d0887\"],[0.1111111111111111,\"#46039f\"],[0.2222222222222222,\"#7201a8\"],[0.3333333333333333,\"#9c179e\"],[0.4444444444444444,\"#bd3786\"],[0.5555555555555556,\"#d8576b\"],[0.6666666666666666,\"#ed7953\"],[0.7777777777777778,\"#fb9f3a\"],[0.8888888888888888,\"#fdca26\"],[1.0,\"#f0f921\"]],\"type\":\"surface\"}],\"table\":[{\"cells\":{\"fill\":{\"color\":\"#EBF0F8\"},\"line\":{\"color\":\"white\"}},\"header\":{\"fill\":{\"color\":\"#C8D4E3\"},\"line\":{\"color\":\"white\"}},\"type\":\"table\"}]},\"layout\":{\"annotationdefaults\":{\"arrowcolor\":\"#2a3f5f\",\"arrowhead\":0,\"arrowwidth\":1},\"autotypenumbers\":\"strict\",\"coloraxis\":{\"colorbar\":{\"outlinewidth\":0,\"ticks\":\"\"}},\"colorscale\":{\"diverging\":[[0,\"#8e0152\"],[0.1,\"#c51b7d\"],[0.2,\"#de77ae\"],[0.3,\"#f1b6da\"],[0.4,\"#fde0ef\"],[0.5,\"#f7f7f7\"],[0.6,\"#e6f5d0\"],[0.7,\"#b8e186\"],[0.8,\"#7fbc41\"],[0.9,\"#4d9221\"],[1,\"#276419\"]],\"sequential\":[[0.0,\"#0d0887\"],[0.1111111111111111,\"#46039f\"],[0.2222222222222222,\"#7201a8\"],[0.3333333333333333,\"#9c179e\"],[0.4444444444444444,\"#bd3786\"],[0.5555555555555556,\"#d8576b\"],[0.6666666666666666,\"#ed7953\"],[0.7777777777777778,\"#fb9f3a\"],[0.8888888888888888,\"#fdca26\"],[1.0,\"#f0f921\"]],\"sequentialminus\":[[0.0,\"#0d0887\"],[0.1111111111111111,\"#46039f\"],[0.2222222222222222,\"#7201a8\"],[0.3333333333333333,\"#9c179e\"],[0.4444444444444444,\"#bd3786\"],[0.5555555555555556,\"#d8576b\"],[0.6666666666666666,\"#ed7953\"],[0.7777777777777778,\"#fb9f3a\"],[0.8888888888888888,\"#fdca26\"],[1.0,\"#f0f921\"]]},\"colorway\":[\"#636efa\",\"#EF553B\",\"#00cc96\",\"#ab63fa\",\"#FFA15A\",\"#19d3f3\",\"#FF6692\",\"#B6E880\",\"#FF97FF\",\"#FECB52\"],\"font\":{\"color\":\"#2a3f5f\"},\"geo\":{\"bgcolor\":\"white\",\"lakecolor\":\"white\",\"landcolor\":\"#E5ECF6\",\"showlakes\":true,\"showland\":true,\"subunitcolor\":\"white\"},\"hoverlabel\":{\"align\":\"left\"},\"hovermode\":\"closest\",\"mapbox\":{\"style\":\"light\"},\"paper_bgcolor\":\"white\",\"plot_bgcolor\":\"#E5ECF6\",\"polar\":{\"angularaxis\":{\"gridcolor\":\"white\",\"linecolor\":\"white\",\"ticks\":\"\"},\"bgcolor\":\"#E5ECF6\",\"radialaxis\":{\"gridcolor\":\"white\",\"linecolor\":\"white\",\"ticks\":\"\"}},\"scene\":{\"xaxis\":{\"backgroundcolor\":\"#E5ECF6\",\"gridcolor\":\"white\",\"gridwidth\":2,\"linecolor\":\"white\",\"showbackground\":true,\"ticks\":\"\",\"zerolinecolor\":\"white\"},\"yaxis\":{\"backgroundcolor\":\"#E5ECF6\",\"gridcolor\":\"white\",\"gridwidth\":2,\"linecolor\":\"white\",\"showbackground\":true,\"ticks\":\"\",\"zerolinecolor\":\"white\"},\"zaxis\":{\"backgroundcolor\":\"#E5ECF6\",\"gridcolor\":\"white\",\"gridwidth\":2,\"linecolor\":\"white\",\"showbackground\":true,\"ticks\":\"\",\"zerolinecolor\":\"white\"}},\"shapedefaults\":{\"line\":{\"color\":\"#2a3f5f\"}},\"ternary\":{\"aaxis\":{\"gridcolor\":\"white\",\"linecolor\":\"white\",\"ticks\":\"\"},\"baxis\":{\"gridcolor\":\"white\",\"linecolor\":\"white\",\"ticks\":\"\"},\"bgcolor\":\"#E5ECF6\",\"caxis\":{\"gridcolor\":\"white\",\"linecolor\":\"white\",\"ticks\":\"\"}},\"title\":{\"x\":0.05},\"xaxis\":{\"automargin\":true,\"gridcolor\":\"white\",\"linecolor\":\"white\",\"ticks\":\"\",\"title\":{\"standoff\":15},\"zerolinecolor\":\"white\",\"zerolinewidth\":2},\"yaxis\":{\"automargin\":true,\"gridcolor\":\"white\",\"linecolor\":\"white\",\"ticks\":\"\",\"title\":{\"standoff\":15},\"zerolinecolor\":\"white\",\"zerolinewidth\":2}}}},                        {\"responsive\": true}                    ).then(function(){\n",
       "                            \n",
       "var gd = document.getElementById('170eba52-31d8-428f-90c5-3442b728ea16');\n",
       "var x = new MutationObserver(function (mutations, observer) {{\n",
       "        var display = window.getComputedStyle(gd).display;\n",
       "        if (!display || display === 'none') {{\n",
       "            console.log([gd, 'removed!']);\n",
       "            Plotly.purge(gd);\n",
       "            observer.disconnect();\n",
       "        }}\n",
       "}});\n",
       "\n",
       "// Listen for the removal of the full notebook cells\n",
       "var notebookContainer = gd.closest('#notebook-container');\n",
       "if (notebookContainer) {{\n",
       "    x.observe(notebookContainer, {childList: true});\n",
       "}}\n",
       "\n",
       "// Listen for the clearing of the current output cell\n",
       "var outputEl = gd.closest('.output');\n",
       "if (outputEl) {{\n",
       "    x.observe(outputEl, {childList: true});\n",
       "}}\n",
       "\n",
       "                        })                };                });            </script>        </div>"
      ]
     },
     "metadata": {},
     "output_type": "display_data"
    }
   ],
   "source": [
    "import transformation_examples as te\n",
    "te.reflection_example()"
   ]
  },
  {
   "cell_type": "markdown",
   "metadata": {},
   "source": [
    "## Rotations\n",
    "\n",
    "When we rotate a shape we are changing its coordinates based on its rotation around some point, either clockwise or counterclockwise.\n",
    "\n",
    "### 90° Rotation\n",
    "\n",
    "To rotate 90° clockwise around the origin (0, 0) you swap the current (*x* ,*y*) coordinates of any point and then then multiply the new *y* coordinate by -1.\n",
    "\n",
    "> original: (*x*, *y*)\n",
    ">\n",
    "> rotated: (*y*, -*x*)\n",
    "\n",
    "To rotate 90° counterclockwise around the origin you swap the current (*x* ,*y*) coordinates then multiply the new *x* coordinate by -1.\n",
    "\n",
    "> original: (*x*, *y*)\n",
    ">\n",
    "> rotated: (-*y*, *x*)\n",
    "\n",
    "For example, a point (8, 3) when rotated 90° clockwise would become (3, -8). The point (8, 3) rotated 90° counterclockwise would become (-3, 8).\n",
    "\n",
    "<img src=\"images/rotationimage.png\" width=\"400\" height=\"400\">\n",
    "\n",
    "### Non-Origin Point of Rotation\n",
    "\n",
    "When we have a point of rotation that is not at the origin we need to adjust the coordinate points. \n",
    "\n",
    "First translate the point of rotation to the origin, then do the same translation to all other points being rotated.\n",
    "\n",
    "For example if our point of rotation was at (1, 0) we would need to translate all the points horizontally by -1 for it to be at (0, 0). \n",
    "\n",
    "Once all the points have been rotated we would then do the opposite, translating all the points horizontally +1.\n",
    "\n",
    "For example, rotating a triangle around one of its points at the position (1, 1). \n",
    "\n",
    "> We start off with the triangle in its original position.\n",
    ">\n",
    "> <img src=\"images/triangle-rotation1.png\" width=\"500\" height=\"500\">\n",
    ">\n",
    "> Since we are rotating around the point (1, 1) we will translate the triangle by -1 on the *x* axis and -1 on the *y* axis.\n",
    ">\n",
    "> <img src=\"images/triangle-rotation2.png\" width=\"500\" height=\"500\">\n",
    ">\n",
    "> Now we can rotate the points by 90° to get the new coordinate points.\n",
    ">\n",
    "> <img src=\"images/triangle-rotation3.png\" width=\"500\" height=\"500\">\n",
    ">\n",
    "> The lines connecting the points are different colors so you can see each rotation is 90°. If we rotate the new triangle position by another 90° we will get the coordinates as if it had been rotated by 180° from the original position.\n",
    ">\n",
    "> <img src=\"images/triangle-rotation4.png\" width=\"500\" height=\"500\">\n",
    ">\n",
    "> If we rotate by 90° we will get the coordinates of the original triangle being rotated by 270°. Another 90° rotation would bring the orignal rotation to 360°, which is the same as not rotatingat all.\n",
    ">\n",
    "> <img src=\"images/triangle-rotation5.png\" width=\"500\" height=\"500\">\n",
    ">\n",
    "> The only thing we have left to do is to translate the triangle points by +1 on the *x* and +1 on the *y*, back to the original position.\n",
    ">\n",
    "> <img src=\"images/triangle-rotation6.png\" width=\"500\" height=\"500\">\n",
    ">\n",
    "> We now have the positions of the various rotations for the triangle in their actual positions.\n",
    "\n",
    "### Interactive Example\n",
    "\n",
    "In the interactive example below you can choose the **Object**, **Rotation Direction**, and **Rotation Point** (the point to rotate the object around). Once you have chosen the rotation point you can adjust the degrees of rotation from 0° to 360° clockwise or counterclockwise using the slider."
   ]
  },
  {
   "cell_type": "code",
   "execution_count": 8,
   "metadata": {
    "collapsed": true,
    "scrolled": false
   },
   "outputs": [
    {
     "data": {
      "text/html": [
       "        <script type=\"text/javascript\">\n",
       "        window.PlotlyConfig = {MathJaxConfig: 'local'};\n",
       "        if (window.MathJax) {MathJax.Hub.Config({SVG: {font: \"STIX-Web\"}});}\n",
       "        if (typeof require !== 'undefined') {\n",
       "        require.undef(\"plotly\");\n",
       "        requirejs.config({\n",
       "            paths: {\n",
       "                'plotly': ['https://cdn.plot.ly/plotly-2.8.3.min']\n",
       "            }\n",
       "        });\n",
       "        require(['plotly'], function(Plotly) {\n",
       "            window._Plotly = Plotly;\n",
       "        });\n",
       "        }\n",
       "        </script>\n",
       "        "
      ]
     },
     "metadata": {},
     "output_type": "display_data"
    },
    {
     "data": {
      "text/markdown": [
       "<img src='images/pointplot2.png' align='left'>"
      ],
      "text/plain": [
       "<IPython.core.display.Markdown object>"
      ]
     },
     "metadata": {},
     "output_type": "display_data"
    },
    {
     "data": {
      "application/vnd.jupyter.widget-view+json": {
       "model_id": "d6df97b58faf4a0986386f2d4d6a5541",
       "version_major": 2,
       "version_minor": 0
      },
      "text/plain": [
       "VBox(children=(HBox(children=(HTML(value='<strong>Object: </strong>'), Button(button_style='success', descript…"
      ]
     },
     "metadata": {},
     "output_type": "display_data"
    }
   ],
   "source": [
    "import transformation_examples as te\n",
    "te.rotation_example()"
   ]
  },
  {
   "cell_type": "markdown",
   "metadata": {},
   "source": [
    "## Conclusion\n",
    "\n",
    "In this notebook we looked at transformations on a coordinate plane, including **translations**, **reflections**, and **rotations**."
   ]
  },
  {
   "cell_type": "markdown",
   "metadata": {},
   "source": [
    "[![Callysto.ca License](https://github.com/callysto/curriculum-notebooks/blob/master/callysto-notebook-banner-bottom.jpg?raw=true)](https://github.com/callysto/curriculum-notebooks/blob/master/LICENSE.md)"
   ]
  }
 ],
 "metadata": {
  "interpreter": {
   "hash": "d1ca6d17674200220921376aaeb3d36cffe15ecab2470a9a5e7a456cdbf61425"
  },
  "kernelspec": {
   "display_name": "Python 3.10.1 64-bit",
   "language": "python",
   "name": "python3"
  },
  "language_info": {
   "codemirror_mode": {
    "name": "ipython",
    "version": 3
   },
   "file_extension": ".py",
   "mimetype": "text/x-python",
   "name": "python",
   "nbconvert_exporter": "python",
   "pygments_lexer": "ipython3",
   "version": "3.10.1"
  }
 },
 "nbformat": 4,
 "nbformat_minor": 2
}
