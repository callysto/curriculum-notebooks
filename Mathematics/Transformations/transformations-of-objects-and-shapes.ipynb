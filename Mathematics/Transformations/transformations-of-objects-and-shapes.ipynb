{
 "cells": [
  {
   "cell_type": "markdown",
   "metadata": {},
   "source": [
    "![Callysto.ca Banner](https://github.com/callysto/curriculum-notebooks/blob/master/callysto-notebook-banner-top.jpg?raw=true)\n",
    "\n",
    "<a href=\"https://hub.callysto.ca/jupyter/hub/user-redirect/git-pull?repo=https%3A%2F%2Fgithub.com%2Fcallysto%2Fcurriculum-notebooks&branch=master&subPath=Mathematics/Transformations/transformations-of-objects-and-shapes.ipynb&depth=1\" target=\"_parent\"><img src=\"https://raw.githubusercontent.com/callysto/curriculum-notebooks/master/open-in-callysto-button.svg?sanitize=true\" width=\"123\" height=\"24\" alt=\"Open in Callysto\"/></a>"
   ]
  },
  {
   "cell_type": "markdown",
   "metadata": {},
   "source": [
    "# Geometry Transformations\n",
    "\n",
    "## Introduction\n",
    "\n",
    "In geometry there are four types of transformations:\n",
    "\n",
    "**Translation**: change in position\n",
    "\n",
    "**Reflection**: mirror image across a line\n",
    "\n",
    "**Rotation**: circular movement around a central point\n",
    "\n",
    "**Resizing**: a shape or object changing size\n",
    "\n",
    "## Translations\n",
    "\n",
    "We will use a [coordinate plane](https://simple.wikipedia.org/wiki/Cartesian_coordinate_system) with *x* and *y* axes from -10 to +10. When we translate a shape we move it to another spot on the coordinate plane without changing anything else.\n",
    "\n",
    "### Interactive Example\n",
    "\n",
    "▶ Run the next code cell, then move the sliders to translate the rectangle."
   ]
  },
  {
   "cell_type": "code",
   "execution_count": null,
   "metadata": {},
   "outputs": [],
   "source": [
    "import plotly.graph_objs as go\n",
    "start_x = [1, 1, 4, 4, 1]\n",
    "start_y = [1, 4, 4, 1, 1]\n",
    "labels = ['A', 'B', 'C', 'D']\n",
    "\n",
    "data = [{'mode':'lines+markers+text','name':'original','text':labels,'textposition':'top left','x':start_x,'y':start_y},\n",
    "        {'mode':'lines+markers+text','name':'translated','text':labels,'textposition':'top left','x':start_x,'y':start_y}]\n",
    "\n",
    "hsteps = [{'label':i-11,'args':[{'x[0]':[1,-10+i],'x[1]':[1,-10+i],'x[2]':[4,-7+i],'x[3]':[4,-7+i],'x[4]':[1,-10+i]}]} for i in range(18)]\n",
    "vsteps = [{'label':i-11,'args':[{'y[0]':[1,-7+i],'y[1]':[4,-10+i],'y[2]':[4,-10+i],'y[3]':[1,-7+i],'y[4]':[1,-7+i]}]} for i in range(18)]\n",
    "\n",
    "sliders = [{'active':11,'currentvalue':{\"prefix\":\"x axis translation: \"},'pad':{\"t\":35},'steps':hsteps},\n",
    "           {'active':11,'currentvalue':{\"prefix\":\"y axis translation: \"},'pad':{\"t\":120},'steps':vsteps}]\n",
    "\n",
    "layout = go.Layout(\n",
    "        title = 'Translation on a Coordinate Plane',\n",
    "        yaxis = {'range':[-10,10],'showgrid':True,'dtick':1},\n",
    "        xaxis = {'range':[-10,10],'showgrid':True,'dtick':1},\n",
    "        sliders = sliders,\n",
    "        width=950, height=650)\n",
    "\n",
    "go.Figure(data=data, layout=layout).show()"
   ]
  },
  {
   "cell_type": "markdown",
   "metadata": {},
   "source": [
    "## Reflections\n",
    "\n",
    "When we reflect a shape across an axis we are changing the signs of the coordinate points of the object.\n",
    "\n",
    "An object can also be reflected across a line that is not *x* = 0 or *y* = 0. If the reflection line is horizontal we will be changing the *y* coordinates of the object and if the line is vertical we will only be changing the *x* coordinates.\n",
    "\n",
    "### Interactive Example\n",
    "\n",
    "▶ Run the next code cell, then the two drop-down menus allow you to choose to reflect across a vertical line or a horizontal line."
   ]
  },
  {
   "cell_type": "code",
   "execution_count": null,
   "metadata": {
    "collapsed": true
   },
   "outputs": [],
   "source": [
    "import plotly.graph_objs as go\n",
    "start_x = [1, 1, 4, 4, 1]\n",
    "start_y = [1, 4, 4, 1, 1]\n",
    "labels = ['A', 'B', 'C', 'D']\n",
    "\n",
    "data2 = [{'mode':'lines+markers+text','name':'Original','text':labels,'textposition':'top left','x':start_x, 'y':start_y},\n",
    "        {'mode':'lines+markers+text','name':'Reflected','text':labels,'textposition':'top left','x':start_x, 'y':start_y},\n",
    "        {'mode':'lines','name':'horizontal','x':[-10,10],'y':[0, 0]},\n",
    "        {'mode':'lines','name':'vertical','x':[0,0],'y':[-10, 10]}]\n",
    "\n",
    "x_dropdown = [{'args':[{'x['+str(j)+']':[start_x[j],start_x[j]] for j in range(len(start_x))}],'label':'No Horizontal Reflection'}]\n",
    "for i in range(5,-4,-1):\n",
    "    #args = {'x['+str(j)+']':[start_x[j],i-(start_x[j]-i)] for j in range(len(start_x))} # working without line\n",
    "    #args = {'x['+str(j)+']':[start_x[j],i-(start_x[j]-i),i,i] for j in range(len(start_x))} # working sort of with line\n",
    "    args = {'x['+str(j)+']':[i-(start_x[j]-i)] for j in range(len(start_x))}\n",
    "    x_dropdown.append({'args':[args], 'label':'Reflection across x = '+str(i)})\n",
    "y_dropdown = [{'args':[{'y['+str(j)+']':[start_y[j],start_y[j]] for j in range(len(start_y))}],'label':'No Vertical Reflection'}]\n",
    "for i in range(5,-4,-1):\n",
    "    args = {'y['+str(j)+']':[start_y[j],i-(start_y[j]-i)] for j in range(len(start_y))} # working without line\n",
    "    #args = {'y['+str(j)+']':[start_y[j],i-(start_y[j]-i),i,i] for j in range(len(start_y))} # working sort of with line\n",
    "    y_dropdown.append({'args':[args], 'label':'Reflection across y = '+str(i)})\n",
    "updatemenus = [{'buttons':x_dropdown, 'x':0.5, 'y':1.2},{'buttons':y_dropdown, 'x':0.7, 'y':1.2}]\n",
    "\n",
    "layout2 = go.Layout(title = 'Reflection on a Coordinate Plane', updatemenus = updatemenus,\n",
    "        xaxis = {'range':[-10,10],'showgrid':True,'dtick':1}, yaxis = {'range':[-10,10],'showgrid':True,'dtick':1})\n",
    "go.Figure(data=data2, layout=layout2).show()\n",
    "\n",
    "\n",
    "# maybe the restyle can be   }, 1   to only update the second figure\n"
   ]
  },
  {
   "cell_type": "markdown",
   "metadata": {},
   "source": [
    "## Rotations\n",
    "\n",
    "When we rotate a shape we are changing its coordinates based on its rotation around some point, either clockwise or counterclockwise.\n",
    "\n",
    "### 90° Rotation\n",
    "\n",
    "To rotate 90° clockwise around the origin (0, 0) you swap the current (*x* ,*y*) coordinates of any point and then then multiply the new *y* coordinate by -1.\n",
    "\n",
    "> original: (*x*, *y*)\n",
    ">\n",
    "> rotated: (*y*, -*x*)\n",
    "\n",
    "To rotate 90° counterclockwise around the origin you swap the current (*x* ,*y*) coordinates then multiply the new *x* coordinate by -1.\n",
    "\n",
    "> original: (*x*, *y*)\n",
    ">\n",
    "> rotated: (-*y*, *x*)\n",
    "\n",
    "For example, a point (8, 3) when rotated 90° clockwise would become (3, -8). The point (8, 3) rotated 90° counterclockwise would become (-3, 8).\n",
    "\n",
    "<img src=\"images/rotationimage.png\" width=\"400\" height=\"400\">\n",
    "\n",
    "### Non-Origin Point of Rotation\n",
    "\n",
    "When we have a point of rotation that is not at the origin we need to adjust the coordinate points. \n",
    "\n",
    "First translate the point of rotation to the origin, then do the same translation to all other points being rotated.\n",
    "\n",
    "For example if our point of rotation was at (1, 0) we would need to translate all the points horizontally by -1 for it to be at (0, 0). \n",
    "\n",
    "Once all the points have been rotated we would then do the opposite, translating all the points horizontally +1.\n",
    "\n",
    "For example, rotating a triangle around one of its points at the position (1, 1). \n",
    "\n",
    "> We start off with the triangle in its original position.\n",
    ">\n",
    "> <img src=\"images/triangle-rotation1.png\" width=\"500\" height=\"500\">\n",
    ">\n",
    "> Since we are rotating around the point (1, 1) we will translate the triangle by -1 on the *x* axis and -1 on the *y* axis.\n",
    ">\n",
    "> <img src=\"images/triangle-rotation2.png\" width=\"500\" height=\"500\">\n",
    ">\n",
    "> Now we can rotate the points by 90° to get the new coordinate points.\n",
    ">\n",
    "> <img src=\"images/triangle-rotation3.png\" width=\"500\" height=\"500\">\n",
    ">\n",
    "> The lines connecting the points are different colors so you can see each rotation is 90°. If we rotate the new triangle position by another 90° we will get the coordinates as if it had been rotated by 180° from the original position.\n",
    ">\n",
    "> <img src=\"images/triangle-rotation4.png\" width=\"500\" height=\"500\">\n",
    ">\n",
    "> If we rotate by 90° we will get the coordinates of the original triangle being rotated by 270°. Another 90° rotation would bring the orignal rotation to 360°, which is the same as not rotatingat all.\n",
    ">\n",
    "> <img src=\"images/triangle-rotation5.png\" width=\"500\" height=\"500\">\n",
    ">\n",
    "> The only thing we have left to do is to translate the triangle points by +1 on the *x* and +1 on the *y*, back to the original position.\n",
    ">\n",
    "> <img src=\"images/triangle-rotation6.png\" width=\"500\" height=\"500\">\n",
    ">\n",
    "> We now have the positions of the various rotations for the triangle in their actual positions.\n",
    "\n",
    "### Interactive Example\n",
    "\n",
    "In the interactive example below you can choose the **Object**, **Rotation Direction**, and **Rotation Point** (the point to rotate the object around). Once you have chosen the rotation point you can adjust the degrees of rotation from 0° to 360° clockwise or counterclockwise using the slider."
   ]
  },
  {
   "cell_type": "code",
   "execution_count": null,
   "metadata": {
    "collapsed": true,
    "scrolled": false
   },
   "outputs": [],
   "source": [
    "import transformation_examples as te\n",
    "te.rotation_example()"
   ]
  },
  {
   "cell_type": "markdown",
   "metadata": {},
   "source": [
    "## Conclusion\n",
    "\n",
    "In this notebook we looked at transformations on a coordinate plane, including **translations**, **reflections**, and **rotations**."
   ]
  },
  {
   "cell_type": "markdown",
   "metadata": {},
   "source": [
    "[![Callysto.ca License](https://github.com/callysto/curriculum-notebooks/blob/master/callysto-notebook-banner-bottom.jpg?raw=true)](https://github.com/callysto/curriculum-notebooks/blob/master/LICENSE.md)"
   ]
  }
 ],
 "metadata": {
  "interpreter": {
   "hash": "d1ca6d17674200220921376aaeb3d36cffe15ecab2470a9a5e7a456cdbf61425"
  },
  "kernelspec": {
   "display_name": "Python 3.10.1 64-bit",
   "language": "python",
   "name": "python3"
  },
  "language_info": {
   "codemirror_mode": {
    "name": "ipython",
    "version": 3
   },
   "file_extension": ".py",
   "mimetype": "text/x-python",
   "name": "python",
   "nbconvert_exporter": "python",
   "pygments_lexer": "ipython3",
   "version": "3.10.1"
  }
 },
 "nbformat": 4,
 "nbformat_minor": 2
}
