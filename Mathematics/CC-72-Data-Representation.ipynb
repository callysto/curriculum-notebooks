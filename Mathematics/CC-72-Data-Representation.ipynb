{
 "cells": [
  {
   "cell_type": "code",
   "execution_count": 1,
   "metadata": {},
   "outputs": [
    {
     "data": {
      "text/html": [
       "<script>\n",
       "code_show=true; \n",
       "function code_toggle() {\n",
       "  if (code_show) {\n",
       "    $('div.input').each(function(id) {\n",
       "      el = $(this).find('.cm-variable:first');\n",
       "      if (id == 0 || el.text() == 'hide_me') {\n",
       "        $(this).hide();\n",
       "      }\n",
       "    });\n",
       "    $('div.output_prompt').css('opacity', 0);\n",
       "  } else {\n",
       "    $('div.input').each(function(id) {\n",
       "      $(this).show();\n",
       "    });\n",
       "    $('div.output_prompt').css('opacity', 1);\n",
       "  }\n",
       "  code_show = !code_show\n",
       "} \n",
       "$( document ).ready(code_toggle);\n",
       "</script>\n",
       "<form action=\"javascript:code_toggle()\"><input style=\"opacity:1\" type=\"submit\" value=\"Click here to toggle on/off the raw code.\"></form>"
      ],
      "text/plain": [
       "<IPython.core.display.HTML object>"
      ]
     },
     "execution_count": 1,
     "metadata": {},
     "output_type": "execute_result"
    }
   ],
   "source": [
    "from IPython.display import HTML\n",
    "hide_me = ''\n",
    "HTML('''<script>\n",
    "code_show=true; \n",
    "function code_toggle() {\n",
    "  if (code_show) {\n",
    "    $('div.input').each(function(id) {\n",
    "      el = $(this).find('.cm-variable:first');\n",
    "      if (id == 0 || el.text() == 'hide_me') {\n",
    "        $(this).hide();\n",
    "      }\n",
    "    });\n",
    "    $('div.output_prompt').css('opacity', 0);\n",
    "  } else {\n",
    "    $('div.input').each(function(id) {\n",
    "      $(this).show();\n",
    "    });\n",
    "    $('div.output_prompt').css('opacity', 1);\n",
    "  }\n",
    "  code_show = !code_show\n",
    "} \n",
    "$( document ).ready(code_toggle);\n",
    "</script>\n",
    "<form action=\"javascript:code_toggle()\"><input style=\"opacity:1\" type=\"submit\" value=\"Click here to toggle on/off the raw code.\"></form>''')"
   ]
  },
  {
   "cell_type": "code",
   "execution_count": 2,
   "metadata": {},
   "outputs": [],
   "source": [
    "hide_me\n",
    "\n",
    "from ipywidgets import interact\n",
    "import ipywidgets as widgets\n",
    "import IPython\n",
    "\n",
    "import matplotlib.pyplot as plt\n",
    "import numpy as np\n",
    "import math\n",
    "\n",
    "import plotly.plotly as py\n",
    "import plotly.graph_objs as go\n",
    "\n",
    "import pylab\n",
    "\n",
    "from IPython.display import Image\n",
    "from IPython.display import HTML"
   ]
  },
  {
   "cell_type": "markdown",
   "metadata": {},
   "source": [
    "# Data Representation in Graphs\n",
    "\n",
    "##### Created by Nicole Vachon"
   ]
  },
  {
   "cell_type": "markdown",
   "metadata": {},
   "source": [
    "Data plays an ever-increasing role in our lives. Like it or not, we are faced with numerical information every day, and we use it to make decisions. Should I be glad that 9 out of 10 dentists recommend my toothpaste? What about the 10th? A new study says that going for a run at 5 a.m. every morning reduces my risk of catching some terrible disease by 15%. Is it worth getting out of bed?\n",
    "\n",
    "It's often hard to find meaning in data if it's just a bunch of numbers on a page, so we make that easier by using graphs. Graphs take data and turn them into pictures—bars, lines, circles, and more. But not all graphs are created equal; some do their jobs better than others. A good graph is a perfect tool for understanding a problem. A bad graph can be confusing, or in some cases, intentionally misleading.\n",
    "\n",
    "Graphs are used every day by news media, politicians, and scientists to convey information. Some use them well; some do not. In this notebook, we'll explore good and bad examples of graphs. By working through the examples and exercises in this notebook, you'll learn:\n",
    "\n",
    "- how to decide which type of graph is best for a given set of data;\n",
    "- how to identify flawed or misleading graphs;\n",
    "- how some of those flaws can be corrected; and\n",
    "- most importantly, how to read a graph and apply its meaning to your everyday life.\n"
   ]
  },
  {
   "cell_type": "markdown",
   "metadata": {},
   "source": [
    "*Many of the examples of bad graphs you'll find below are from the media (and one source in particular). This notebook isn't trying to criticize these sources. They just happen to have given us a lot of examples to choose from.*"
   ]
  },
  {
   "cell_type": "markdown",
   "metadata": {},
   "source": [
    "## What makes a good graph?\n",
    "\n",
    "First and most importantly, a graph should allow a reader, at a glance, to understand the information it's meant to convey. A good graph is like a good movie scene; if it's set up well, you can tell exactly what you're supposed to know. Some basic parts of a successful graph are:\n",
    "\n",
    "1. A title\n",
    "2. Proper labels\n",
    "3. Axes that start at zero (if numerical)\n",
    "4. Percentages that add to 100%\n",
    "5. Easy to read\n",
    "6. Use of colours, *as long as they are meaningful* and not just for show\n",
    "\n",
    "*By the way: **axes** (ACK-sees) are the reference lines on a graph. They're where you find the names of the categories (usually at the bottom) and the number scale (usually on the left).  One of these lines is called an **axis** (ACK-sis).*"
   ]
  },
  {
   "cell_type": "markdown",
   "metadata": {},
   "source": [
    "For a quick overview of different types of graphs and simple examples, you might find this \n",
    "[Math Is Fun](https://www.mathsisfun.com/data/pictographs.html) article useful. We'll look at some of these kinds of graphs below. You'll notice many of them are eye-catching, and they also convey information really well.\n",
    "\n",
    "One of the places you'll find a lot of graphs is in political coverage. The media (and many of their readers/viewers) love a good \"horse race\". For example, this [CBC federal poll tracking article](http://www.cbc.ca/news/politics/poll-tracker-federal-poll-averages-and-seat-projections-1.4171977) uses almost every type of graph you'll find in this notebook.\n",
    "\n",
    "We'll also explore how a graph can be used to [mislead someone](http://teachersinstitute.yale.edu/curriculum/units/2008/6/08.06.06.x.html). We hope this notebook will help you learn how to avoid using misleading graphs, as well as how to avoid being misled yourself.\n",
    "\n",
    "There's even a [wall of shame](http://bcuchta.com/wall_of_shame/) with some of the worst graphs and charts!"
   ]
  },
  {
   "cell_type": "markdown",
   "metadata": {},
   "source": [
    "## Let's look at bar graphs\n",
    "\n",
    "### What is a bar graph?\n",
    "\n",
    "A bar graph is a graph where data is separated into categories, and those categories are shown as bars with different heights. It's a very useful graph, but it can also easily be misleading.\n",
    "\n",
    "![picture](https://www.mathsisfun.com/data/images/bar-graph-fruit.svg)\n",
    "\n",
    "### When are bar graphs good to use?\n",
    "\n",
    "Bar graphs can be used in many ways, but they usually show one piece of information collected from many groups or categories. For example, they might show the number of hours worked by people in different age groups, or how many grey shirts each girl in a class owns.\n",
    "\n",
    "### What are some ways to misuse bar graphs?\n",
    "\n",
    "1. **Make the scale on the graph start above zero.** This makes small differences between bars look much bigger than they really are.\n",
    "2. **Change the width of the bars to make one category look more important.** This gives one bar more area, which looks like more data.\n",
    "3. **Remove the space between the bars** (that's a **histogram**). Histograms are used for a different kind of data set, and so they are read in a different way.\n",
    "\n",
    "Here's an example of a poorly made bar graph.  It shows the total welfare (support money) received by people in the US from 2009 to 2011.  Each year is divided into 4 three-month pieces called **quarters**.\n",
    "\n",
    "![picture](http://mediamatters.org/static/images/item/fnc-an-20120809-welfarechart-2.jpg)\n",
    "\n",
    "What makes this a bad bar graph?\n",
    "1. Their scale starts at 94 million insead of 0.\n",
    "2. The bars are in 3D, making their values harder to read.\n",
    "3. Their y-axis has 8 labels, but there are 10 levels on the graph (including the top and bottom).\n",
    "\n",
    "Whoever made this graph probably wanted the viewer to think welfare in the US is rising faster than it really is.  Now, let's ask ourselves:\n",
    "\n",
    "- What can we change to make this a good graph?\n",
    "- How does it look after we make these changes?\n",
    "- Why might the original creators not want to use our new graph?\n",
    "\n",
    "One way we can improve this graph is by changing where its scale starts.  Play with the slider below to see how the graph looks with different scales."
   ]
  },
  {
   "cell_type": "markdown",
   "metadata": {},
   "source": [
    "*Slide the slider below to change the starting point of the $y$-axis. The initial position corresponds to the graph in the image above. As you move the slider to the left, the starting point for the $y$-axis is reduced to zero.*\n",
    "\n",
    "*Warning: This graph is slow to respond, please be patient with it.*"
   ]
  },
  {
   "cell_type": "code",
   "execution_count": 10,
   "metadata": {},
   "outputs": [
    {
     "data": {
      "application/vnd.jupyter.widget-view+json": {
       "model_id": "6eac662a493a424c881f1dbe639d6ba6",
       "version_major": 2,
       "version_minor": 0
      },
      "text/html": [
       "<p>Failed to display Jupyter Widget of type <code>interactive</code>.</p>\n",
       "<p>\n",
       "  If you're reading this message in the Jupyter Notebook or JupyterLab Notebook, it may mean\n",
       "  that the widgets JavaScript is still loading. If this message persists, it\n",
       "  likely means that the widgets JavaScript library is either not installed or\n",
       "  not enabled. See the <a href=\"https://ipywidgets.readthedocs.io/en/stable/user_install.html\">Jupyter\n",
       "  Widgets Documentation</a> for setup instructions.\n",
       "</p>\n",
       "<p>\n",
       "  If you're reading this message in another frontend (for example, a static\n",
       "  rendering on GitHub or <a href=\"https://nbviewer.jupyter.org/\">NBViewer</a>),\n",
       "  it may mean that your frontend doesn't currently support widgets.\n",
       "</p>\n"
      ],
      "text/plain": [
       "interactive(children=(IntSlider(value=90, description='yaxis', max=90), Output()), _dom_classes=('widget-interact',))"
      ]
     },
     "metadata": {},
     "output_type": "display_data"
    },
    {
     "data": {
      "text/plain": [
       "<function __main__.plot(yaxis=94)>"
      ]
     },
     "execution_count": 10,
     "metadata": {},
     "output_type": "execute_result"
    }
   ],
   "source": [
    "hide_me\n",
    "\n",
    "#points = [(1,97),(2,98),(3,99),(4,101),(5,104),(6,105),(7,106),(8,107),(9,107.5),(10,108)]\n",
    "#ax1.set_ylim((yaxis,110))\n",
    "#yaxis = widgets.IntSlider(20,0,110)\n",
    "\n",
    "y = [97, 98, 99, 101, 104, 105, 106, 107, 107.5, 108]\n",
    "x = np.arange(len(y))\n",
    "columns = ['09-Q1', '09-Q2', '09-Q3', '09-Q4', '10-Q1', '10-Q2','10-Q3', '10-Q4', '11-Q1', '11-Q2']\n",
    "#fig, ax = plt.subplots()\n",
    "def plot(yaxis=94):\n",
    "    fig, ax = plt.subplots(figsize=(10,4))\n",
    "    ax.bar(x, y, width=0.5)\n",
    "    ax.set_xticks(x)\n",
    "    ax.set_xticklabels(columns)\n",
    "    ax.set_ylim((yaxis,110))\n",
    "    ax.set_title(\"Federal Welfare Received in the US\")\n",
    "    \n",
    "interact(plot, yaxis=(0,90), continuous_update = True, wait = False)\n",
    "#plt.show()"
   ]
  },
  {
   "cell_type": "markdown",
   "metadata": {},
   "source": [
    "## Let's look at pictographs\n",
    "\n",
    "### What is a pictograph?\n",
    "\n",
    "A pictograph is a way to show data using images, where each image represents a certain number of things that are being measured. They look a lot like bar graphs and they can be horizontal or vertical too.\n",
    "\n",
    "![picture](https://www.mathsisfun.com/data/images/pictograph-tennis.svg)\n",
    "\n",
    "### Why do people like to use pictographs?\n",
    "\n",
    "The main reason is because the pictures offer something for readers to connect with other than just a row of coloured bars.\n",
    "\n",
    "Also, pictographs often work best to show data with small numbers. If everything can be easily expressed with a simple scale like the one above, then a pictograph might be the right choice to represent the data.\n",
    "\n",
    "### When are pictographs not a good choice?\n",
    "\n",
    "In the example above, what if Sam played 46 games instead of 45? This pictogram counts games in steps of 5, so numbers in between these steps might be hard or impossible to show.\n",
    "\n",
    "A reader might also make a connection with a pictograph that wasn't intended.  Let's show this with an example.\n",
    "\n",
    "On Halloween, Shayna and Michael went trick-or-treating.  Shayna got 18 pieces of candy, and Michael got 36.  Their totals are shown in this pictograph:\n",
    "\n",
    "![picture](http://teachersinstitute.yale.edu/curriculum/images/2008/6/08.06.06.11.jpg)\n",
    "\n",
    "At first, is looks like a fine way to show how much candy each child got. The heights of the candy corn pieces are being used to mark the two amounts.  But as a viewer, we don't see just the height—we also see the width. Not only is the second candy corn twice as high, it's also twice as wide, giving it four times the area as the first candy corn.  This makes it *look like* Michael got 4 times as much candy as Shayna, even though he only got twice as much.\n",
    "\n",
    "Click the \"Display\" button below to show a better, more accurate way to represent the same data:"
   ]
  },
  {
   "cell_type": "code",
   "execution_count": 4,
   "metadata": {},
   "outputs": [
    {
     "data": {
      "application/vnd.jupyter.widget-view+json": {
       "model_id": "eb7adf932d5344009a8a0069ce152a73",
       "version_major": 2,
       "version_minor": 0
      },
      "text/html": [
       "<p>Failed to display Jupyter Widget of type <code>Checkbox</code>.</p>\n",
       "<p>\n",
       "  If you're reading this message in the Jupyter Notebook or JupyterLab Notebook, it may mean\n",
       "  that the widgets JavaScript is still loading. If this message persists, it\n",
       "  likely means that the widgets JavaScript library is either not installed or\n",
       "  not enabled. See the <a href=\"https://ipywidgets.readthedocs.io/en/stable/user_install.html\">Jupyter\n",
       "  Widgets Documentation</a> for setup instructions.\n",
       "</p>\n",
       "<p>\n",
       "  If you're reading this message in another frontend (for example, a static\n",
       "  rendering on GitHub or <a href=\"https://nbviewer.jupyter.org/\">NBViewer</a>),\n",
       "  it may mean that your frontend doesn't currently support widgets.\n",
       "</p>\n"
      ],
      "text/plain": [
       "Checkbox(value=False, description='Display')"
      ]
     },
     "metadata": {},
     "output_type": "display_data"
    }
   ],
   "source": [
    "hide_me\n",
    "\n",
    "pic = Image('http://teachersinstitute.yale.edu/curriculum/images/2008/6/08.06.06.10.jpg')\n",
    "clicker = widgets.Checkbox(value=False, description='Display', disabled=False)\n",
    "\n",
    "def checking(a):\n",
    "    if clicker.value == True:\n",
    "        IPython.display.display(pic)\n",
    "    else:\n",
    "        IPython.display.clear_output()\n",
    "        IPython.display.display(clicker)\n",
    "\n",
    "IPython.display.display(clicker)\n",
    "clicker.observe(checking, 'value')"
   ]
  },
  {
   "cell_type": "markdown",
   "metadata": {},
   "source": [
    "## Let's look at line graphs\n",
    "\n",
    "### What is a line graph?\n",
    "\n",
    "A line graph is a way to show how the measurement of one value responds to changes in another, like how something may change over time. In fact, time is one of the most common variables with a line graph.\n",
    "\n",
    "![picture](https://www.mathsisfun.com/data/images/line-graph-example.svg)\n",
    "\n",
    "### Why are line graphs useful?\n",
    "\n",
    "They show a moving trend with a line that's easy to follow, instead of just dots on a graph. They work best when the trend involves the change of one variable (jobs, temperature, debt) with respect to another (usually time).\n",
    "\n",
    "In some cases it can also be useful to plot multiple lines on one graph, usually with different colours to help tell them apart. For example, one might plot polling results for different political parties over time, as with this graph from the CBC:\n",
    "\n",
    "![federal polling averages](http://www.cbc.ca/polopoly_fs/1.3265490!/fileImage/httpImage/image.jpg)\n",
    "\n",
    "\n",
    "### How can line graphs go wrong?\n",
    "\n",
    "A common error with line graphs is unlabelled axes. A graph might show a line that slopes upwards, but without labels, we wouldn't know what is growing or how fast. Also, line graphs can trick us into thinking a trend is linear by spacing out the ticks unevenly on one axis, so that the data points neatly line up. Like this example:\n",
    "\n",
    "![Picture](http://onlinestatbook.com/2/graphing_distributions/graphics/graph2.png)"
   ]
  },
  {
   "cell_type": "code",
   "execution_count": 9,
   "metadata": {},
   "outputs": [
    {
     "data": {
      "application/vnd.jupyter.widget-view+json": {
       "model_id": "18463c9c126b4519aa47ef77af58493b",
       "version_major": 2,
       "version_minor": 0
      },
      "text/html": [
       "<p>Failed to display Jupyter Widget of type <code>SelectionSlider</code>.</p>\n",
       "<p>\n",
       "  If you're reading this message in the Jupyter Notebook or JupyterLab Notebook, it may mean\n",
       "  that the widgets JavaScript is still loading. If this message persists, it\n",
       "  likely means that the widgets JavaScript library is either not installed or\n",
       "  not enabled. See the <a href=\"https://ipywidgets.readthedocs.io/en/stable/user_install.html\">Jupyter\n",
       "  Widgets Documentation</a> for setup instructions.\n",
       "</p>\n",
       "<p>\n",
       "  If you're reading this message in another frontend (for example, a static\n",
       "  rendering on GitHub or <a href=\"https://nbviewer.jupyter.org/\">NBViewer</a>),\n",
       "  it may mean that your frontend doesn't currently support widgets.\n",
       "</p>\n"
      ],
      "text/plain": [
       "SelectionSlider(description='Slide to fix', index=1, options=('original', 'fixed'), value='fixed')"
      ]
     },
     "metadata": {},
     "output_type": "display_data"
    },
    {
     "data": {
      "image/png": "[encoded data removed]",
      "text/plain": [
       "<matplotlib.figure.Figure at 0x7f943d1bc278>"
      ]
     },
     "metadata": {},
     "output_type": "display_data"
    }
   ],
   "source": [
    "hide_me\n",
    "\n",
    "fix = widgets.SelectionSlider(options=['original', 'fixed'], value ='original', description='Slide to fix',\n",
    "    continuous_update=True, orientation='horizontal',)\n",
    "\n",
    "def fixing(a):\n",
    "    if fix.value == 'fixed':\n",
    "        IPython.display.clear_output()\n",
    "        IPython.display.display(fix)\n",
    "        f, ax1 = plt.subplots(1,1,figsize=(10,5))\n",
    "        ax1.set_title(\"Job Loss by Quarter\")\n",
    "        ax1.set_xlabel('Months from November 07',fontsize=15)\n",
    "        ax1.set_ylabel(\"Jobs Lost in Millions\",color='b',fontsize=15)\n",
    "        x1 = [1, 10, 16, 29]\n",
    "        y1 = [7,9,13.5,15]\n",
    "        ax1.plot(x1, y1,\"bo-\")\n",
    "        plt.legend()\n",
    "        plt.show()\n",
    "    else:\n",
    "        IPython.display.clear_output()\n",
    "        IPython.display.display(fix)\n",
    "        f, ax1 = plt.subplots(1,1,figsize=(10,5))\n",
    "        ax1.set_title(\"Job Loss by Quarter\")\n",
    "        ax1.set_xlabel('Months from November 07',fontsize=15)\n",
    "        ax1.set_ylabel(\"Jobs Lost in Millions\",color='b',fontsize=15)\n",
    "        x1 = [0,7,23,29]\n",
    "        y1 = [7,9,13.5,15]\n",
    "        ax1.plot(x1, y1,\"bo-\")\n",
    "        plt.legend()\n",
    "        plt.show()\n",
    "        \n",
    "IPython.display.display(fix)        \n",
    "fix.observe(fixing, 'value')\n",
    "\n",
    "IPython.display.clear_output()\n",
    "IPython.display.display(fix)\n",
    "f, ax1 = plt.subplots(1,1,figsize=(10,5))\n",
    "ax1.set_title(\"Job Loss by Quarter\")\n",
    "ax1.set_xlabel('Months from November 07',fontsize=15)\n",
    "ax1.set_ylabel(\"Jobs Lost in Millions\",color='b',fontsize=15)\n",
    "x1 = [0,7,23,29]\n",
    "y1 = [7,9,13.5,15]\n",
    "ax1.plot(x1, y1,\"bo-\")\n",
    "plt.legend()\n",
    "plt.show()"
   ]
  },
  {
   "cell_type": "markdown",
   "metadata": {},
   "source": [
    "## Let's look at circle graphs\n",
    "\n",
    "### What is a circle graph?\n",
    "\n",
    "Also known as a pie chart, a circle graph is used to show how a total is split into different groups. The whole pie represents the total, and each slice of the pie represents a different group.  Each slice gets as much of the pie as its group has of the total—the bigger the slice, the more of the total that group represents.\n",
    "\n",
    "![picture](https://www.mathsisfun.com/data/images/pie-chart-movies.svg)\n",
    "\n",
    "### Why are circle graphs useful?\n",
    "\n",
    "They make it easy to compare group sizes; if there's a biggest or smallest group, that's easy to see, since group sizes are shown as pieces of a whole.\n",
    "\n",
    "### Why might people not use circle graphs?\n",
    "\n",
    "To be displayed as a circle graph, data must be converted into percentages of the total, then into slices of a circle, which is more work than other graphs need. Plus, it's easy to mess up if the data are not converted properly (or at all). Circle graphs are also hard to draw accurately on paper, since you need a protractor to ensure your angles are correct. Some people might even say that any time a circle graph would do, a bar graph would do better, and that the pie chart below is the only acceptable one.\n",
    "\n",
    "![picture](https://i1.wp.com/flowingdata.com/wp-content/uploads/2008/09/Pie-I-have-Eaten.jpg?fit=500%2C330&ssl=1)"
   ]
  },
  {
   "cell_type": "markdown",
   "metadata": {},
   "source": [
    "********************\n",
    "\n",
    "### What's wrong with these graphs?\n",
    "\n",
    "![Picture](https://amp.businessinsider.com/images/51cb26c469beddf14c000015-750-453.jpg)\n",
    "\n",
    "![Picture](http://flowingdata.com/wp-content/uploads/yapb_cache/app15725951258947184.acq6gmp0hf4sowckg80ssc8wg.2xne1totli0w8s8k0o44cs0wc.th.png)\n",
    "\n",
    "![Picture](https://i0.wp.com/flowingdata.com/wp-content/uploads/2013/03/130207SuperBowlPoll.jpg?fit=500%2C430&ssl=1)"
   ]
  },
  {
   "cell_type": "markdown",
   "metadata": {},
   "source": [
    "## What was wrong with these graphs?\n",
    "\n",
    "1. Mislabeled/Missing axes\n",
    "2. Plotted wrong\n",
    "3. Hard to read\n",
    "4. Numbers don't add to 100%\n",
    "5. Wrong data shown"
   ]
  },
  {
   "cell_type": "markdown",
   "metadata": {},
   "source": [
    "The video below goes through several examples of bad/misleading graphs (some of them shown in this notebook) and why they are not good representations of the original data."
   ]
  },
  {
   "cell_type": "code",
   "execution_count": 6,
   "metadata": {},
   "outputs": [
    {
     "data": {
      "text/html": [
       "<iframe width=\"560\" height=\"315\" src=\"https://www.youtube.com/embed/1F7gm_BG0iQ?rel=0\" frameborder=\"0\" allow=\"autoplay; encrypted-media\" allowfullscreen></iframe>"
      ],
      "text/plain": [
       "<IPython.core.display.HTML object>"
      ]
     },
     "execution_count": 6,
     "metadata": {},
     "output_type": "execute_result"
    }
   ],
   "source": [
    "hide_me\n",
    "\n",
    "HTML('<iframe width=\"560\" height=\"315\" src=\"https://www.youtube.com/embed/1F7gm_BG0iQ?rel=0\" frameborder=\"0\" allow=\"autoplay; encrypted-media\" allowfullscreen></iframe>')"
   ]
  },
  {
   "cell_type": "markdown",
   "metadata": {},
   "source": [
    "*************\n",
    "\n",
    "## Practice Questions\n",
    "\n",
    "### Question 1\n",
    "\n",
    "A group of kids was asked **what they do first** when they get home from school. The data are shown in the table below. [Data source here](http://www.ur.umich.edu/9900/Apr03_00/7.htm)\n",
    "\n",
    "| Activity        | Percent|\n",
    "|-----------------|-----|\n",
    "|   Eat           | 27% |\n",
    "|   Personal Care | 19% |\n",
    "|   Watch TV      | 15% |\n",
    "|   Study         | 13% |\n",
    "|   Play          | 9%  |\n",
    "|   Other         | 17% |"
   ]
  },
  {
   "cell_type": "code",
   "execution_count": 7,
   "metadata": {},
   "outputs": [
    {
     "name": "stdout",
     "output_type": "stream",
     "text": [
      "What would be the best graph to display this set of data?\n"
     ]
    },
    {
     "data": {
      "application/vnd.jupyter.widget-view+json": {
       "model_id": "e018058afcb14ac89b6180ca8b90044f",
       "version_major": 2,
       "version_minor": 0
      },
      "text/html": [
       "<p>Failed to display Jupyter Widget of type <code>RadioButtons</code>.</p>\n",
       "<p>\n",
       "  If you're reading this message in the Jupyter Notebook or JupyterLab Notebook, it may mean\n",
       "  that the widgets JavaScript is still loading. If this message persists, it\n",
       "  likely means that the widgets JavaScript library is either not installed or\n",
       "  not enabled. See the <a href=\"https://ipywidgets.readthedocs.io/en/stable/user_install.html\">Jupyter\n",
       "  Widgets Documentation</a> for setup instructions.\n",
       "</p>\n",
       "<p>\n",
       "  If you're reading this message in another frontend (for example, a static\n",
       "  rendering on GitHub or <a href=\"https://nbviewer.jupyter.org/\">NBViewer</a>),\n",
       "  it may mean that your frontend doesn't currently support widgets.\n",
       "</p>\n"
      ],
      "text/plain": [
       "RadioButtons(description='Answer:', index=1, options=('', 'circle graph', 'line graph', 'bar graph', 'pictograph'), value='circle graph')"
      ]
     },
     "metadata": {},
     "output_type": "display_data"
    },
    {
     "name": "stdout",
     "output_type": "stream",
     "text": [
      "Correct! Circle graphs are used for percentages.\n",
      "Let's see this data in a circle graph.\n"
     ]
    },
    {
     "data": {
      "image/png": "[encoded data removed]",
      "text/plain": [
       "<matplotlib.figure.Figure at 0x7f943d171ba8>"
      ]
     },
     "metadata": {},
     "output_type": "display_data"
    }
   ],
   "source": [
    "hide_me\n",
    "\n",
    "answer = widgets.RadioButtons(options=['','circle graph', 'line graph', 'bar graph', 'pictograph'],\n",
    "                              value='', description='Answer:')\n",
    "labels = ['Eat', 'Personal Care', 'Watch TV', 'Study', 'Play', 'Other']\n",
    "data = [0.27, 0.19, 0.15, 0.13, 0.09, 0.17]\n",
    "\n",
    "def display():\n",
    "    print('What would be the best graph to display this set of data?')\n",
    "    IPython.display.display(answer)\n",
    "\n",
    "def check(a):\n",
    "    IPython.display.clear_output(wait=False)\n",
    "    display()\n",
    "    if answer.value == 'circle graph':\n",
    "        print(\"Correct! Circle graphs are used for percentages.\")\n",
    "        print(\"Let's see this data in a circle graph.\")\n",
    "        patches, texts = plt.pie(data, labels=labels)\n",
    "        plt.axis('equal')\n",
    "        plt.tight_layout()\n",
    "        plt.show()\n",
    "    else:\n",
    "        if answer.value == 'bar graph':\n",
    "            print(\"A Bar graph would work, but there's a better option. Try again.\")\n",
    "        else:\n",
    "            if answer.value == 'line graph':\n",
    "                print(\"Line graphs are good for change over time, not percentages. Try again.\")\n",
    "            else:\n",
    "                print(\"A pictograph would work if the data was in amounts instead of percentages. Try again.\")\n",
    "\n",
    "display()\n",
    "answer.observe(check, 'value')"
   ]
  },
  {
   "cell_type": "markdown",
   "metadata": {},
   "source": [
    "### Question 2\n",
    "\n",
    "A group of kids was asked **how much time** they spend doing different activities after school.  The data are shown in the table below. [Data source here](http://www.ur.umich.edu/9900/Apr03_00/7.htm)\n",
    "\n",
    "| Activity        | Time spent (minutes)|\n",
    "|-----------------|-----|\n",
    "|   Reading       | 30  |\n",
    "|  Chores         | 30  |\n",
    "|   Watch TV      | 100 |\n",
    "|   Study         | 60  |\n",
    "|   Play          | 74  |\n",
    "|   Sports        | 60  |"
   ]
  },
  {
   "cell_type": "code",
   "execution_count": 8,
   "metadata": {},
   "outputs": [
    {
     "name": "stdout",
     "output_type": "stream",
     "text": [
      "What would be the best graph to display this set of data?\n"
     ]
    },
    {
     "data": {
      "application/vnd.jupyter.widget-view+json": {
       "model_id": "0a70e5e02a294611aabb64e5d566447b",
       "version_major": 2,
       "version_minor": 0
      },
      "text/html": [
       "<p>Failed to display Jupyter Widget of type <code>RadioButtons</code>.</p>\n",
       "<p>\n",
       "  If you're reading this message in the Jupyter Notebook or JupyterLab Notebook, it may mean\n",
       "  that the widgets JavaScript is still loading. If this message persists, it\n",
       "  likely means that the widgets JavaScript library is either not installed or\n",
       "  not enabled. See the <a href=\"https://ipywidgets.readthedocs.io/en/stable/user_install.html\">Jupyter\n",
       "  Widgets Documentation</a> for setup instructions.\n",
       "</p>\n",
       "<p>\n",
       "  If you're reading this message in another frontend (for example, a static\n",
       "  rendering on GitHub or <a href=\"https://nbviewer.jupyter.org/\">NBViewer</a>),\n",
       "  it may mean that your frontend doesn't currently support widgets.\n",
       "</p>\n"
      ],
      "text/plain": [
       "RadioButtons(description='Answer:', index=3, options=('', 'circle graph', 'line graph', 'bar graph', 'pictograph'), value='bar graph')"
      ]
     },
     "metadata": {},
     "output_type": "display_data"
    },
    {
     "name": "stdout",
     "output_type": "stream",
     "text": [
      "Correct! A bar graph shows the relation between both parameters in an easy to read format.\n",
      "Let's see what that looks like.\n"
     ]
    },
    {
     "data": {
      "image/png": "[encoded data removed]",
      "text/plain": [
       "<matplotlib.figure.Figure at 0x7f943d1f1eb8>"
      ]
     },
     "metadata": {},
     "output_type": "display_data"
    }
   ],
   "source": [
    "hide_me\n",
    "\n",
    "answer2 = widgets.RadioButtons(options=['','circle graph', 'line graph', 'bar graph', 'pictograph'],\n",
    "                              value='', description='Answer:')\n",
    "labels2 = ['Reading', 'Chores', 'Watch TV', 'Study', 'Play', 'Sports']\n",
    "data2 = [30, 30, 100, 60, 74, 60]\n",
    "x = np.arange(len(data2))\n",
    "\n",
    "def display2():\n",
    "    print('What would be the best graph to display this set of data?')\n",
    "    IPython.display.display(answer2)\n",
    "\n",
    "def check(a):\n",
    "    IPython.display.clear_output(wait=False)\n",
    "    display2()\n",
    "    if answer2.value == 'circle graph':\n",
    "        print(\"A circle graph is used for percentages. Try again.\")\n",
    "    else:\n",
    "        if answer2.value == 'bar graph':\n",
    "            print(\"Correct! A bar graph shows the relation between both parameters in an easy to read format.\")\n",
    "            print(\"Let's see what that looks like.\")\n",
    "            plt.bar(x, data2, width = .3)\n",
    "            plt.xticks(x, labels2)\n",
    "            plt.ylabel('Time in Minutes')\n",
    "            plt.title('Time Spent on Afterschool Activities')\n",
    "            plt.show()\n",
    "        else:\n",
    "            if answer2.value == 'line graph':\n",
    "                print(\"Line graphs are good for change over time. Try again.\")\n",
    "            else:\n",
    "                print(\"A pictograph would work, but there's a better option to be more accurate. Try again.\")\n",
    "\n",
    "display2()\n",
    "answer2.observe(check, 'value')"
   ]
  },
  {
   "cell_type": "markdown",
   "metadata": {},
   "source": [
    "Now that we have seen many examples of both good and bad graphs, let's look at [the worst graphs in science literature](https://www.biostat.wisc.edu/~kbroman/topten_worstgraphs/) and try to figure out why each graph is on the list.\n",
    "\n",
    "(You can click on a graph to make it bigger.  See if you can point out the flaws in these graphs on your own, then click the \"Discussion\" links to learn what's wrong with each graph and why it made it to the list!)"
   ]
  },
  {
   "cell_type": "markdown",
   "metadata": {},
   "source": [
    "*Even top academic institutions sometimes produce images that, while they might look impressive, do very little to help us understand the numbers involved in an issue. Try to figure out what's wrong with these\n",
    "[infographics from Princeton](http://www.princeton.edu/~ina/infographics/index.html) on your own.*"
   ]
  }
 ],
 "metadata": {
  "kernelspec": {
   "display_name": "Python 3",
   "language": "python",
   "name": "python3"
  },
  "language_info": {
   "codemirror_mode": {
    "name": "ipython",
    "version": 3
   },
   "file_extension": ".py",
   "mimetype": "text/x-python",
   "name": "python",
   "nbconvert_exporter": "python",
   "pygments_lexer": "ipython3",
   "version": "3.6.5"
  }
 },
 "nbformat": 4,
 "nbformat_minor": 2
}
