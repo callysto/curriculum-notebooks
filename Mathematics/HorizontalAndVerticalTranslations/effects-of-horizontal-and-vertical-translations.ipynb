{
 "cells": [
  {
   "cell_type": "markdown",
   "metadata": {},
   "source": [
    "![Callysto.ca Banner](https://github.com/callysto/curriculum-notebooks/blob/master/callysto-notebook-banner-top.jpg?raw=true)\n",
    "\n",
    "<a href=\"https://hub.callysto.ca/jupyter/hub/user-redirect/git-pull?repo=https%3A%2F%2Fgithub.com%2Fcallysto%2Fcurriculum-notebooks&branch=master&subPath=Mathematics/HorizontalAndVerticalTranslations/effects-of-horizontal-and-vertical-translations.ipynb&depth=1\" target=\"_parent\"><img src=\"https://raw.githubusercontent.com/callysto/curriculum-notebooks/master/open-in-callysto-button.svg?sanitize=true\" width=\"123\" height=\"24\" alt=\"Open in Callysto\"/></a>"
   ]
  },
  {
   "cell_type": "markdown",
   "metadata": {},
   "source": [
    "# Introduction\n",
    "\n",
    "This notebook introduces the topic of translating a function both vertically and horizontally, which means that we can move the graph of a function up and down (vertically) and from side to side (horizontally). We will look at what it means to translate a function, how a translation affects the function's graph, and how a translation affects the equation that defines the function."
   ]
  },
  {
   "cell_type": "markdown",
   "metadata": {},
   "source": [
    "## Background and simple example\n",
    "\n",
    "Translations are used in many mathematical applications. When a function is translated, either horizontally or vertically, we get a new function. Let's start with a  simple example.\n",
    "\n",
    "Take the equation $y=x^2$, which is the formula for a parabola. We can graph it by plotting a series of $x$ values horizontally, paired with the square of those values vertically. You will get the following graph:\n",
    "\n"
   ]
  },
  {
   "cell_type": "code",
   "execution_count": null,
   "metadata": {},
   "outputs": [],
   "source": [
    "import numpy as np\n",
    "from plotly import graph_objs as go\n",
    "\n",
    "x = np.linspace(-4,4,200)\n",
    "fig = go.Figure(data = go.Scatter(x = x, y = x**2))\n",
    "fig.update_layout(title='$\\mbox{A parabola, }y=x^2$',\n",
    "                   xaxis_title='x values',\n",
    "                   yaxis_title='y values')\n",
    "fig.show()"
   ]
  },
  {
   "cell_type": "markdown",
   "metadata": {},
   "source": [
    "Notice, for instance, the point $x=4$ has square $y = 4^2 = 16$ and the parabola does indeed pass through the point $(x,y) = (4,16).$\n",
    "\n",
    "#### Vertical shift\n",
    "\n",
    "To shift this graph upwards (vertically), say by five, we just add 5 to the function $x^2$:"
   ]
  },
  {
   "cell_type": "code",
   "execution_count": null,
   "metadata": {},
   "outputs": [],
   "source": [
    "x = np.linspace(-4,4,200)\n",
    "fig = go.Figure()\n",
    "fig.add_trace(go.Scatter(x=x, y=x**2,\n",
    "                    mode='lines',\n",
    "                    name='original'))\n",
    "fig.add_trace(go.Scatter(x=x, y=x**2 + 5,\n",
    "                    mode='lines',\n",
    "                    name='vertical shift'))\n",
    "\n",
    "fig.update_layout(title='$\\mbox{A parabola, }y=x^2, \\mbox{ and shifted up, } y=x^2 + 5$',\n",
    "                   xaxis_title='x values',\n",
    "                   yaxis_title='y values')\n",
    "fig.show()"
   ]
  },
  {
   "cell_type": "markdown",
   "metadata": {},
   "source": [
    "#### Horizontal shift\n",
    "\n",
    "To shift this graph to the right (horizontally), say by two, we just **subtract** 2 from the x in  function $x^2$, to get $y = (x-2)^2$:"
   ]
  },
  {
   "cell_type": "code",
   "execution_count": null,
   "metadata": {},
   "outputs": [],
   "source": [
    "x = np.linspace(-4,6,200)\n",
    "fig = go.Figure()\n",
    "fig.add_trace(go.Scatter(x=x, y=x**2,\n",
    "                    mode='lines',\n",
    "                    name='original'))\n",
    "fig.add_trace(go.Scatter(x=x, y=(x-2)**2,\n",
    "                    mode='lines',\n",
    "                    name='horizontal shift'))\n",
    "fig.add_trace(go.Scatter(x=[0], y=[0],\n",
    "                    mode='markers',\n",
    "                    name='original vertex'))\n",
    "fig.add_trace(go.Scatter(x=[2], y=[0],\n",
    "                    mode='markers',\n",
    "                    name='shifted vertex'))\n",
    "fig.update_layout(title='$\\mbox{A parabola, }y=x^2, \\mbox{ and shifted right, } y=(x-2)^2$',\n",
    "                   xaxis_title='x values',\n",
    "                   yaxis_title='y values')\n",
    "fig.show()"
   ]
  },
  {
   "cell_type": "markdown",
   "metadata": {},
   "source": [
    "## Ask yourself\n",
    "\n",
    "Notice that to raise the function up, we added 5 to $x^2$. To move the function to the right, we **subtracted** 2 from the x variable, $x^2$ become $(x-2)^2$. Does this make sense to you?\n",
    "\n",
    "If not, think about moving the vertex of the parabola to the right. To move it from (0,0) to (2,0), we need the squaring function to have a minimum at $x=2$. The function $(x-2)^2$ does have its minimum at 2, as desired. "
   ]
  },
  {
   "cell_type": "markdown",
   "metadata": {},
   "source": [
    "## Application example\n",
    "\n",
    "Think about throwing a ball up in the air. Imagine you are being timed by your friend, and that you throw the ball in the air as soon as your friend says 'Go'. If we drew a graph of how high the ball goes over time, the graph might look something like this:"
   ]
  },
  {
   "cell_type": "code",
   "execution_count": null,
   "metadata": {},
   "outputs": [],
   "source": [
    "x = np.linspace(0,2,200)\n",
    "\n",
    "t1 = go.Scatter(\n",
    "    x = x,\n",
    "    y = -5*(x-1)**2 + 5, \n",
    "    mode='lines',name='path')\n",
    "\n",
    "fig = go.Figure()\n",
    "fig.add_trace(t1)\n",
    "fig.update_layout(title='Parabolic path of a thrown ball',\n",
    "                   xaxis_title='Time (seconds)',\n",
    "                   yaxis_title='Height (meters)')\n",
    "fig.show()"
   ]
  },
  {
   "cell_type": "markdown",
   "metadata": {},
   "source": [
    "There's something wrong with this graph, though. At time 0, when you throw the ball, the ball has a height of 0 meters. So this graph is saying that you threw the ball from the ground, i.e. your hand was on the ground when you threw the ball. This is completely impossible, so we'll adjust the graph. Let's say that, with your arm extended above your head, you're about 2.2 m tall. To make things easier, let's imagine that you throw the ball with your arm fully extended and you catch the ball with your arm fully extended. The graph of the height of the ball over time should now look like this: "
   ]
  },
  {
   "cell_type": "code",
   "execution_count": null,
   "metadata": {},
   "outputs": [],
   "source": [
    "# This code to be hidden.\n",
    "x = np.linspace(0,2,200)\n",
    "t1 = go.Scatter(\n",
    "    x = x,\n",
    "    y = -5*(x-1)**2 + 5 + 2.2,\n",
    "    mode='lines',\n",
    "    name='path'\n",
    ")\n",
    "\n",
    "fig = go.Figure()\n",
    "fig.add_trace(t1)\n",
    "fig.add_trace(go.Scatter(x=[0], y=[0], mode='markers',name='origin'))\n",
    "fig.update_layout(title='Parabolic path of a thrown ball, shifted up a bit',\n",
    "                   xaxis_title='Time (seconds)',\n",
    "                   yaxis_title='Height (meters)')\n",
    "fig.show()"
   ]
  },
  {
   "cell_type": "markdown",
   "metadata": {},
   "source": [
    "Alright, now this makes a bit more sense. The ball starts at height 2.2 m, is in the air for 2 seconds, and then you catch it when it is 2.2 m high.\n",
    "\n",
    "What we've just seen is a *vertical* translation, since the graph of the ball's height got moved *up*.\n",
    "\n",
    "Now let's imagine that you throw and catch the ball at the same height, but when your friend says 'Go' you wait for 1 second to throw the ball. The graph of the height of the ball now looks like this:"
   ]
  },
  {
   "cell_type": "code",
   "execution_count": null,
   "metadata": {},
   "outputs": [],
   "source": [
    "# This code to be hidden.\n",
    "x = np.linspace(0,2,200)\n",
    "t1 = go.Scatter(\n",
    "    x = x + 1,\n",
    "    y = -5*(x-1)**2 + 5 + 2.2)\n",
    "\n",
    "fig = go.Figure()\n",
    "fig.add_trace(t1)\n",
    "fig.add_trace(go.Scatter(x=[0], y=[0], mode='markers',name='origin'))\n",
    "fig.update_layout(title='Parabolic path of a thrown ball, shifted up and to the right',\n",
    "                   xaxis_title='Time (seconds)',\n",
    "                   yaxis_title='Height (meters)')\n",
    "fig.show()"
   ]
  },
  {
   "cell_type": "markdown",
   "metadata": {},
   "source": [
    "This is the same graph as before, but it's been moved to the *right*. This is a *horizontal* translation. Just for comparison, let's see all three graphs together."
   ]
  },
  {
   "cell_type": "code",
   "execution_count": null,
   "metadata": {},
   "outputs": [],
   "source": [
    "# Hide this.\n",
    "x = np.linspace(0,2,200)\n",
    "t1 = go.Scatter(\n",
    "    x = x,\n",
    "    y = -5*(x-1)**2 + 5,\n",
    "    name = 'Original path')\n",
    "t2 = go.Scatter(\n",
    "    x = x,\n",
    "    y = -5*(x-1)**2 + 5 + 2.2,\n",
    "    name = 'Path translated up')\n",
    "t3 = go.Scatter(\n",
    "    x = x + 1,\n",
    "    y = -5*(x-1)**2 + 5 + 2.2,\n",
    "    name = 'Path translated up and to the right')\n",
    "\n",
    "fig = go.Figure()\n",
    "fig.add_trace(t1)\n",
    "fig.add_trace(t2)\n",
    "fig.add_trace(t3)\n",
    "fig.add_trace(go.Scatter(x=[0], y=[0], mode='markers',name='origin'))\n",
    "fig.update_layout(title='Parabolic paths of three thrown balls',\n",
    "                   xaxis_title='Time (seconds)',\n",
    "                   yaxis_title='Height (meters)')\n",
    "fig.show()"
   ]
  },
  {
   "cell_type": "markdown",
   "metadata": {},
   "source": [
    "## Checking In\n",
    "\n",
    "After seeing the example of throwing the ball into the air, see if you can answer these questions. \n",
    "\n",
    "-  How does a **vertical** translation affect the graph of a function? \n",
    "-  How does a **horizontal** translation affect the graph of a function? \n",
    "-  What other real-world application could use translations? \n"
   ]
  },
  {
   "cell_type": "markdown",
   "metadata": {},
   "source": [
    "You've seen an example of how translations affect the *graph* of a function, now let's talk about how translations affect the *equation* of a function. This can get tricky, so it's important to imagine the graph of the function moving around as we apply translations.\n",
    "\n",
    "### More examples\n",
    "\n",
    "Let's look at the function $f(x) = x$. The graph of this function is a diagonal line. Let's take a look."
   ]
  },
  {
   "cell_type": "code",
   "execution_count": null,
   "metadata": {},
   "outputs": [],
   "source": [
    "# Create the x and y variables for plotting the function.\n",
    "x = np.linspace(-10,10,200)\n",
    "\n",
    "# Assign the variables for plotting.\n",
    "f_graph = go.Scatter(\n",
    "    x = x,\n",
    "    y = x,\n",
    "    name = 'f(x)')\n",
    "\n",
    "# Assign the plot to a figure.\n",
    "fig = go.Figure(f_graph)\n",
    "\n",
    "# Plot the function.\n",
    "fig.update_layout(title='Plot of a diagonal line',\n",
    "                   xaxis_title='x values',\n",
    "                   yaxis_title='y = f(x)')\n",
    "fig.show()"
   ]
  },
  {
   "cell_type": "markdown",
   "metadata": {},
   "source": [
    "You can move your mouse cursor over the graph to get some values of the function. Let's write some values down in a table.   \n",
    "\n",
    "\\begin{array}{c|c}\n",
    "x & y=f(x) \\\\ \\hline\n",
    "-2 & -2 \\\\\n",
    "-1 & -1 \\\\ \n",
    "0 & 0 \\\\\n",
    "1 & 1 \\\\\n",
    "2 & 2\n",
    "\\end{array}\n",
    "\n",
    "Now what would happen if we added 2 to every $y$ value? For one thing, the table would now look like this:\n",
    "\n",
    "\\begin{array}{c|c}\n",
    "x & y=f(x) + 2 \\\\ \\hline\n",
    "-2 & -2 + 2 = 0 \\\\\n",
    "-1 & -1 + 2 = 1 \\\\ \n",
    "0 & 0 + 2 = 2 \\\\\n",
    "1 & 1 + 2 = 3 \\\\\n",
    "2 & 2 + 2 = 4\n",
    "\\end{array}\n",
    "\n",
    "Now how does that affect the graph? Let's plot it to find out."
   ]
  },
  {
   "cell_type": "code",
   "execution_count": null,
   "metadata": {},
   "outputs": [],
   "source": [
    "x = np.linspace(-10,10,200)\n",
    "\n",
    "# Two traces for plotting.\n",
    "f_graph = go.Scatter(\n",
    "    x = x,\n",
    "    y = x,\n",
    "    name = 'f(x)')\n",
    "f_translated = go.Scatter(\n",
    "    x = x,\n",
    "    y = x+2,\n",
    "    name = 'f(x) + 2')\n",
    "\n",
    "data = [f_graph, f_translated]\n",
    "fig = go.Figure([f_graph,f_translated])\n",
    "fig.update_layout(title='Plot of two diagonal lines: y = x and y = x + 2',\n",
    "                   xaxis_title='x values',\n",
    "                   yaxis_title='y = f(x), y = f(x) + 2')\n",
    "fig.show()"
   ]
  },
  {
   "cell_type": "markdown",
   "metadata": {},
   "source": [
    "From this graph, we can see that adding 2 to every $y$-value moved the graph of $f(x)$ up 2 units.\n",
    "\n",
    "Remember, we expressed this idea of 'adding 2 to every function output' very clearly using algebra. We let $y=f(x)$ be the function values, and then used the expression $f(x) + 2$ to translate every function value up by 2 units.\n",
    "\n",
    "In general, we can write the vertical translation of a function $f(x)$ by $v$ units by the expression\n",
    "$$ f(x) + v. $$\n",
    "\n",
    "WAIT A MINUTE!! This notation makes it seem like we can only translate functions **up**! We need to keep in mind that if we wanted to translate a function **down**, then we would select a **negative** value for $v$. The translations resulting from values of $v$ are shown in the this table: \n",
    "\n",
    "Value of $v$ | Effect on graph of function\n",
    ":-- | :--\n",
    "Positive | Translates **up**\n",
    "Negative | Translates **down**\n",
    "\n",
    "\n",
    "You can play with different values of $v$ in the widget that comes after the next section."
   ]
  },
  {
   "cell_type": "markdown",
   "metadata": {},
   "source": [
    "## Horizontal Translations\n",
    "\n",
    "Now you're getting used to vertical translations, so let's move to the next concept: moving a function from side to side. We'll use the same function from the last section, $f(x) = x$.\n",
    "\n",
    "Suppose we add 2 to every function input value. In other words, before we put an $x$ value into our function, we add 2 to it. The table of function inputs and outputs now looks like this:\n",
    "\n",
    "\\begin{array}{c|c}\n",
    "x + 2 & y=f(x) \\\\ \\hline\n",
    "-2+2 = 0 & -2 \\\\\n",
    "-1+2 = 1 & -1 \\\\ \n",
    "0+2 = 2 & 0 \\\\\n",
    "1+2 = 3 & 1 \\\\\n",
    "2+2 = 4 & 2\n",
    "\\end{array}\n",
    "\n",
    "Now let's plot the result of shifting the function inputs. It's ok to be uneasy about the $y$-values in the above table. We'll explain that right after we look at the graph of the translated function."
   ]
  },
  {
   "cell_type": "code",
   "execution_count": null,
   "metadata": {},
   "outputs": [],
   "source": [
    "x = np.linspace(-10,10,200)\n",
    "y1 = x\n",
    "y2 = x+2\n",
    "\n",
    "g1 = go.Scatter(\n",
    "    x = x,\n",
    "    y = y1,\n",
    "    name = 'Original function')\n",
    "g2 = go.Scatter(\n",
    "    x = x,\n",
    "    y = y2,\n",
    "    name = 'Translated function')\n",
    "\n",
    "fig = go.Figure([g1,g2])\n",
    "fig.update_layout(title='Plot of two diagonal lines: y = x and y = (x+2)',\n",
    "                   xaxis_title='x values',\n",
    "                   yaxis_title='y values')\n",
    "fig.show()"
   ]
  },
  {
   "cell_type": "markdown",
   "metadata": {},
   "source": [
    "This plot shows something unexpected. When we added 2 to the $x$ values, the whole graph of the function moved to the *left*. Maybe you expected the graph of the function to move to the right. \n",
    "\n",
    "Let's keep in mind what actually happened when we added 2 to the $x$ values. By adding 2 units to $x=1$, for example, we essentially told the function to take on the output value it would normally take on at $x=3$, but instead when $x=1$.\n",
    "\n",
    "In general, we can express any horizontal translation by $h$ units using the algebraic expression:\n",
    "$$ f(x-h). $$\n",
    "\n",
    "The effects of different values of $h$ are given in this table:\n",
    "\n",
    "Value of $h$ | Effect on graph of function\n",
    ":-- | :--\n",
    "Positive | Translates **left**\n",
    "Negative | Translates **right**"
   ]
  },
  {
   "cell_type": "markdown",
   "metadata": {},
   "source": [
    "### Combining Vertical and Horizontal Translations\n",
    "\n",
    "Now it's time for you to play with different vertical and horizontal translations. The widget below lets you set values for $v$ and $h$, and you will see how the displayed equation of the function changes. We'll use the function $y = \\arctan(x-h) + v$."
   ]
  },
  {
   "cell_type": "code",
   "execution_count": null,
   "metadata": {},
   "outputs": [],
   "source": [
    "x = np.linspace(-10,10,200)\n",
    "\n",
    "fig = go.Figure(go.Scatter(x=x,y=x**2))\n",
    "fig.update_layout(title='y=arctan(x-(0.0)) + (0.0)',\n",
    "                   xaxis_title='x values', xaxis_range=[-5,5],xaxis_zeroline=True,\n",
    "                   yaxis_title='y values', yaxis_range=[-5,5],yaxis_zeroline=True)\n",
    "\n",
    "def View1(h, v):\n",
    "    fig.update_layout(title='y = arctan(x -(' + str(h) + ')) + (' + str(v) + ')',\n",
    "                   xaxis_title='x values', xaxis_range=[-5,5],xaxis_zeroline=True,\n",
    "                   yaxis_title='y values', yaxis_range=[-5,5],yaxis_zeroline=True)\n",
    "    x = np.linspace(-10,10,200)\n",
    "    fig.update_traces(x=x,y = np.arctan(x - h) + v)\n",
    "    fig.show()\n",
    "\n",
    "import warnings\n",
    "import sys\n",
    "if not sys.warnoptions:\n",
    "    warnings.simplefilter(\"ignore\")\n",
    "import ipywidgets as widgets\n",
    "interactive_plot = widgets.interactive(View1, \n",
    "                               v = (-5,5,0.5), \n",
    "                               h = (-5,5,0.5),\n",
    "                               continuous_update=True,\n",
    "                               wait=True)\n",
    "\n",
    "output = interactive_plot.children[-1]\n",
    "output.layout.height = '600px'\n",
    "output.layout.width = '600px'\n",
    "output.clear_output(wait=True) \n",
    "interactive_plot"
   ]
  },
  {
   "cell_type": "markdown",
   "metadata": {},
   "source": [
    "### *Exercise*\n",
    "The graph is an arc with its highest point at the coordinate pair $(x,y)=(2,0)$. Move the graph so that the top of the arc is at $(2,-3)$, $(-4,6)$, $(10,0)$, and $(0,10)$. What are the values of $v$ and $h$ at each of these places?"
   ]
  },
  {
   "cell_type": "code",
   "execution_count": null,
   "metadata": {},
   "outputs": [],
   "source": [
    "# Hide this.\n",
    "\n",
    "def func(x, v, h):\n",
    "    return np.abs(np.sqrt(4-(x-2+h)**2)) - 2 + v\n",
    "\n",
    "x1 = np.linspace(-10,10,200)\n",
    "fig = go.Figure(go.Scatter(x=x1,y=func(x1,0.0,0.0)))\n",
    "fig.update_layout(title='y = y = f(x-h) + v, an arc',\n",
    "                   xaxis_title='x values', xaxis_range=[-10,10],xaxis_zeroline=True,\n",
    "                   yaxis_title='y values', yaxis_range=[-10,10],yaxis_zeroline=True)\n",
    "fig.update_xaxes(tick0=2.0, dtick=2.0)\n",
    "fig.update_yaxes(tick0=2.0, dtick=2.0)\n",
    "\n",
    "def View(v, h):\n",
    "    x1 = np.linspace(-10,10,200)\n",
    "    fig.update_traces(x=x1,y = func(x1, v, h))\n",
    "    fig.update_layout(title='y = f(x-h) + v, an arc')\n",
    "    fig.show()\n",
    "\n",
    "import warnings\n",
    "import sys\n",
    "if not sys.warnoptions:\n",
    "    warnings.simplefilter(\"ignore\")\n",
    "\n",
    "interactive_plot = widgets.interactive(View, \n",
    "                               v = (-10,10,1), \n",
    "                               h = (-10,10,1),\n",
    "                               continuous_update=True,\n",
    "                               wait=True)\n",
    "\n",
    "output = interactive_plot.children[-1]\n",
    "output.layout.height = '600px'\n",
    "output.layout.width = '600px'\n",
    "output.clear_output(wait=True) \n",
    "interactive_plot"
   ]
  },
  {
   "cell_type": "markdown",
   "metadata": {},
   "source": [
    "### *Exercises*\n",
    "\n",
    "<ol>\n",
    "    <li> Write the expression for translating the function $f(x) = \\sqrt{x}$ **down** by 4 units and **right** by 3 units. </li>\n",
    "    <li> The graph of the function $f(x) = x^2 - 2x - 3 = (x+1)(x-3)$ touches the $x$-axis at the two points $x=-1$ and $x=3$. What vertical translation can be applied to this function so that it only touches the $x$-axis when $x=1$? </li>\n",
    "    <li> What happens to the graph of a constant function $f(x)=c$ when the function is translated horizontally? Vertically? </li>\n",
    "        <li> Write a Python function that allows the user to specify input values 'x', an output function to be translated 'f', and the vertical and horizontal translation parameters $k$ and $h$. Your function should have four inputs: x, f, $h$, and $k$. A template is provided in the next cell. Show that your function works on the function 'testf'. </li>\n",
    "</ol>"
   ]
  },
  {
   "cell_type": "code",
   "execution_count": null,
   "metadata": {},
   "outputs": [],
   "source": [
    "# Write your translation function from Exercise 4 here.\n",
    "\n",
    "def translate(x, f, v, h):\n",
    "    return f(x)   # put your formula here\n",
    "    \n",
    "    pass\n",
    "\n",
    "# A test function\n",
    "def testf(x):\n",
    "    return np.exp(-x**2)*0.4\n",
    "\n",
    "\n",
    "\n",
    "# Test your translation function here.\n",
    "h = 1     # Replace with a value of h\n",
    "v = 0     # Replace with a value of v\n",
    "\n",
    "x = np.linspace(-10,10,200)\n",
    "y = translate(x, testf, v, h)\n",
    "\n",
    "\n",
    "# Uncomment these lines to plot the translated function (select the lines and press 'CTRL  /').\n",
    "#fig = go.Figure([go.Scatter(x=x,y=y,name='Translated'),go.Scatter(x=x,y=testf(x),name='Original')])\n",
    "#fig.show()\n",
    "\n"
   ]
  },
  {
   "cell_type": "markdown",
   "metadata": {},
   "source": [
    "### *Exercise*\n",
    "\n",
    "In the maze below, use horizontal and vertical translations to move the dot from its current position to the red circle. There are lots of ways to get there, but try to find the fastest possible route. Don't travel through any buildings!"
   ]
  },
  {
   "cell_type": "code",
   "execution_count": null,
   "metadata": {},
   "outputs": [],
   "source": [
    "# Hide this.\n",
    "\n",
    "# These are the coordinates for each 'building' rectangle. They are in the form\n",
    "# x0, x1, y0, y1.\n",
    "b_coords = [[-9.8,-6.2,-7.8,-6.2], [-9.8,-1.2,-9.8,-9.2], [-4.8,-0.2,-7.8,-0.2],\n",
    "            [-8.8,-1.2,0.2,3.8], [-8.8,-6.2,-4.8,-1.2], [0.2,8.8,-8.8,-8.2],\n",
    "            [1.2,9.8,-6.8,-1.2], [0.2,7.8,0.2,4.8], [9.2,9.8,0.2,9.8],\n",
    "            [9.2,9.8,0.2,9.8], [0.2,7.8,6.2,8.8], [-3.8,-1.2,5.2,7.8],\n",
    "            [-9.8,-5.2,5.2,9.8], [-3.8,-1.2,9.2,9.8]]\n",
    "\n",
    "def View(v, h):   \n",
    "    trace = go.Scatter(x=[0],y=[0],mode='markers')\n",
    "    \n",
    "    layout = {\n",
    "    'xaxis': {\n",
    "        'range': [-10, 10],\n",
    "        'zeroline': True\n",
    "    },\n",
    "    'yaxis': {\n",
    "        'range': [-10, 10],\n",
    "        'zeroline': True\n",
    "    },\n",
    "    'shapes': [\n",
    "        # filled circle\n",
    "        {\n",
    "            'type': 'circle',\n",
    "            'xref': 'x',\n",
    "            'yref': 'y',\n",
    "            'fillcolor': 'rgba(50, 171, 96, 0.7)',\n",
    "            'x0': -9+h,\n",
    "            'y0': -9+v,\n",
    "            'x1': -8+h,\n",
    "            'y1': -8+v,\n",
    "            'line': {'color': 'rgba(50, 171, 96, 1)'}\n",
    "        },\n",
    "        # end point\n",
    "        {\n",
    "            'type': 'circle',\n",
    "            'xref': 'x',\n",
    "            'yref': 'y',\n",
    "            'fillcolor': 'rgba(255, 0, 0, 0.7)',\n",
    "            'x0': -1,\n",
    "            'y0': 8,\n",
    "            'x1': 0,\n",
    "            'y1': 9,\n",
    "            'line': {'color': 'rgba(255, 0, 0, 1)'}\n",
    "        }\n",
    "    ]\n",
    "    }\n",
    "    # Add the 'building' obstacles.\n",
    "    for i in range(len(b_coords)):\n",
    "        building = {'type':'rect','xref':'x','yref':'y',\n",
    "                    'fillcolor':'rgba(102, 51, 0, 0.7)','line':{'color':'rgba(102, 51, 0, 1)'},\n",
    "                            'x0':b_coords[i][0],'x1':b_coords[i][1],'y0':b_coords[i][2],'y1':b_coords[i][3]}\n",
    "        layout['shapes'].append(building)\n",
    "        \n",
    "    fig = go.Figure(data=[trace],layout=layout)\n",
    "    fig.update_layout(title='Using the sliders, move the green circle to the red one.')\n",
    "    fig.show()\n",
    "\n",
    "import warnings\n",
    "import sys\n",
    "if not sys.warnoptions:\n",
    "    warnings.simplefilter(\"ignore\")\n",
    "\n",
    "interactive_plot = widgets.interactive(View, \n",
    "                               v = (-20,20,1), \n",
    "                               h = (-20,20,1),\n",
    "                               continuous_update=True,\n",
    "                               wait=True)\n",
    "\n",
    "output = interactive_plot.children[-1]\n",
    "output.layout.height = '600px'\n",
    "output.layout.width = '600px'\n",
    "output.clear_output(wait=True) \n",
    "interactive_plot"
   ]
  },
  {
   "cell_type": "markdown",
   "metadata": {},
   "source": [
    "# Conclusion\n",
    "\n",
    "Translating a function just takes adding or subtracting number to the function definition.\n",
    "\n",
    "The function $y=f(x)$ is moved up by two units when we change it to $y=f(x)+2$.\n",
    "\n",
    "The function $y=f(x)$ is moved to the right by two units when we change it to $y=f(x-2)$.\n",
    "\n",
    "Notice for vertical moves, the number 2 is added **outside** the function. For horizontal moves, the number 2 is subtracted **inside** the function, next to the variable $x$."
   ]
  },
  {
   "cell_type": "markdown",
   "metadata": {},
   "source": [
    "[![Callysto.ca License](https://github.com/callysto/curriculum-notebooks/blob/master/callysto-notebook-banner-bottom.jpg?raw=true)](https://github.com/callysto/curriculum-notebooks/blob/master/LICENSE.md)"
   ]
  }
 ],
 "metadata": {
  "kernelspec": {
   "display_name": "Python 3 (ipykernel)",
   "language": "python",
   "name": "python3"
  },
  "language_info": {
   "codemirror_mode": {
    "name": "ipython",
    "version": 3
   },
   "file_extension": ".py",
   "mimetype": "text/x-python",
   "name": "python",
   "nbconvert_exporter": "python",
   "pygments_lexer": "ipython3",
   "version": "3.9.12"
  },
  "vscode": {
   "interpreter": {
    "hash": "916dbcbb3f70747c44a77c7bcd40155683ae19c65e1c03b4aa3499c5328201f1"
   }
  }
 },
 "nbformat": 4,
 "nbformat_minor": 4
}
