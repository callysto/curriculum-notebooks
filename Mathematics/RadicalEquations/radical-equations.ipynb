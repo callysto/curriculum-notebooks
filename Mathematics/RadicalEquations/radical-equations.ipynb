{
 "cells": [
  {
   "cell_type": "markdown",
   "metadata": {},
   "source": [
    "[![logo](https://callysto.ca/wp-content/uploads/2018/06/Callysto_Notebook-Banner_Top_06.06.18.jpg)](https://callysto.ca/)"
   ]
  },
  {
   "cell_type": "code",
   "execution_count": 1,
   "metadata": {},
   "outputs": [
    {
     "data": {
      "application/javascript": [
       "\n",
       "            require.config({\n",
       "                paths: {\n",
       "                    ggb: \"https://cdn.geogebra.org/apps/deployggb\"\n",
       "                }\n",
       "            });\n",
       "\n",
       "            require([\"ggb\"]);\n",
       "        "
      ],
      "text/plain": [
       "<IPython.core.display.Javascript object>"
      ]
     },
     "metadata": {},
     "output_type": "display_data"
    },
    {
     "data": {
      "text/html": [
       "<script>\n",
       "  function code_toggle() {\n",
       "    if (code_shown){\n",
       "      $('div.input').hide('500');\n",
       "      $('#toggleButton').val('Show Code')\n",
       "    } else {\n",
       "      $('div.input').show('500');\n",
       "      $('#toggleButton').val('Hide Code')\n",
       "    }\n",
       "    code_shown = !code_shown\n",
       "  }\n",
       "  \n",
       "  $( document ).ready(function(){\n",
       "    code_shown=false;\n",
       "    $('div.input').hide()\n",
       "  });\n",
       "</script>\n",
       "<form action=\"javascript:code_toggle()\"><input type=\"submit\" id=\"toggleButton\" value=\"Show Code\"></form>"
      ],
      "text/plain": [
       "<IPython.core.display.HTML object>"
      ]
     },
     "execution_count": 1,
     "metadata": {},
     "output_type": "execute_result"
    }
   ],
   "source": [
    "import numpy as np\n",
    "import pylab as plt\n",
    "from IPython.display import display, Latex, clear_output, Markdown, Image, HTML, Javascript\n",
    "import ipywidgets as widgets\n",
    "from astropy.table import Table, Column\n",
    "from ipywidgets import interact, interactive, Button , Layout\n",
    "import ipywidgets as w\n",
    "import matplotlib.pyplot as plt\n",
    "import plotly.graph_objs as go\n",
    "import math\n",
    "from ggb import *\n",
    "\n",
    "ggb = GGB()\n",
    "\n",
    "\n",
    "# Create a text box for user to input text\n",
    "\n",
    "get_user_text = w.Textarea( value='', placeholder='Enter your text here.', description='', disabled=False , layout=Layout(width='100%', height='250px') )\n",
    "\n",
    "# Create a slider to obtain shift integer from user \n",
    "\n",
    "get_user_shift = w.IntSlider( value=7, min=1, max=26, step=1, description='Ceasar Shift:', disabled=False, continuous_update=False, orientation='horizontal', readout=True, readout_format='d')\n",
    "\n",
    "# Function: After clicking on a button prompt, the next cell is executed.\n",
    "\n",
    "def rerun_cell(ev):\n",
    "    \n",
    "    display(Javascript('IPython.notebook.execute_cell_range(IPython.notebook.get_selected_index()+1,IPython.notebook.get_selected_index()+2)'))\n",
    "    button_t = w.Button(button_style='info',description=\"Restart\") \n",
    "\n",
    "\n",
    "from IPython.display import HTML\n",
    "HTML('''<script>\n",
    "  function code_toggle() {\n",
    "    if (code_shown){\n",
    "      $('div.input').hide('500');\n",
    "      $('#toggleButton').val('Show Code')\n",
    "    } else {\n",
    "      $('div.input').show('500');\n",
    "      $('#toggleButton').val('Hide Code')\n",
    "    }\n",
    "    code_shown = !code_shown\n",
    "  }\n",
    "  \n",
    "  $( document ).ready(function(){\n",
    "    code_shown=false;\n",
    "    $('div.input').hide()\n",
    "  });\n",
    "</script>\n",
    "<form action=\"javascript:code_toggle()\"><input type=\"submit\" id=\"toggleButton\" value=\"Show Code\"></form>''')"
   ]
  },
  {
   "cell_type": "markdown",
   "metadata": {},
   "source": [
    "#  Solve problems that involve radical equations\n",
    "*By Jessica Cervi*\n",
    "\n",
    "\n",
    "\n",
    "## Overview\n",
    "\n",
    ">### Lesson outcomes\n",
    " * Determine when an equation is a radical equation.\n",
    " * Determine  restrictions on the variable in a radical equation.\n",
    " * Explain and use the necessary steps to solve a radical equation.\n",
    " * Be able to find, and explain, the concept of extraneous roots.\n",
    " * Solve word problems with a radical equation.\n",
    "\n",
    "\n",
    "## Introduction\n",
    "\n",
    "A **radical equation** is *an equation in which a variable is under a radical*. \n",
    "\n",
    "For instance, the following *is a radical equation*, because the variable is inside a square root:\n",
    "\n",
    "$$\\sqrt{x} -5= 1.$$\n",
    "\n",
    "But, the following *is not a radical equation*, because there is no variable inside the radical:\n",
    "\n",
    "$$\\sqrt{2} -x= 3,$$\n",
    "\n",
    "Throughout this notebook, we will learn the strategy to solve  **radical equations**. We will focus only on radicals which are square roots.\n",
    "\n",
    "The key idea behind this strategy is that we can \"*get rid*\" of a square root by raising the radical to the power of two. We can solve an equation that contains a radical expression by first isolating the radical on one side of the equation. Then, we square both sides of the equation.\n",
    "\n",
    "For example, consider the following equation:\n",
    "\n",
    "$$3\\sqrt{x} = 9.$$\n",
    "\n",
    "The first step is to isolate the radical expression. Dividing both sides by $3$ gives us:\n",
    "\n",
    "$$\\sqrt{x} = 3.$$\n",
    "\n",
    "Next, we square both sides to eliminate the square root:\n",
    "\n",
    "$$\\left(\\sqrt{x}\\right)^2 = (3)^2,$$\n",
    "\n",
    "Which gives us:\n",
    "\n",
    "$$x = 9$$\n",
    "\n",
    "As a final result.\n",
    "\n",
    "Unfortunately, when solving radical equations things are not always this easy. Throughout this notebook, we will learn how to deal with more complicated cases.\n",
    "\n",
    "Before we start solving equations, we must *keep in mind the following rules*:\n",
    "\n",
    "#### 1) Square sides, Not terms\n",
    "\n",
    "> We said that when we are solving a radical equation, we want to eliminate the square root. We can do this by *raising it to the power of two*. \n",
    "When solving an equation, we must apply the same operation to **both sides** of the equation; in particular, we can't do things to each term in the equation. <br><br>\n",
    "For example, consider:\n",
    "<br><br> \n",
    "$$3+4 =7$$\n",
    "<br>\n",
    "The equation above is a true statement. If we square both sides:\n",
    "<br><br> \n",
    "$$(3+4)^2 =7^2,$$\n",
    "<br>\n",
    "We end up with a **correct statement**:\n",
    "<br><br> \n",
    "$$49=49.$$\n",
    "<br>\n",
    "*But*, if we square term by term:\n",
    "<br><br> \n",
    "$$3^2+4^2=7^2,$$\n",
    "<br>\n",
    "We end up with:\n",
    "<br><br> \n",
    "$$25=49,$$\n",
    "<br>\n",
    "Which is **not true**. \n",
    "<br><br>\n",
    "One of the most common mistakes when solving radical equations is trying to square terms. **Always square sides, not terms**.\n",
    "\n",
    "#### 2) Check Your Answers\n",
    "\n",
    ">We can always check our solution to an equation by plugging the solution back into the original equation. For example,  $x + 2 = 5$ has the solution $x = 3$. We can confirm this solution by plugging it back into the original equation:\n",
    "<br><br>\n",
    "$$\n",
    "\\begin{align*}\n",
    "x + 2 &= 5\\\\\n",
    "(3) + 2 &= 5\\\\\n",
    "5 &=5\n",
    "\\end{align*}\n",
    "$$\n",
    "<br>\n",
    "One problem with solving radical equations is that we may perform every step correctly, but still end up with an incorrect answer. This is because squaring both sides can sometimes create solutions that never existed before. These kinds of solutions are called **extraneous**. We will learn more about these later in the notebook. <br><br>\n",
    "For now, remember to always check your answers when solving a radical equation.\n",
    "\n",
    "## Restrictions on variables in a radical equation\n",
    "\n",
    "When solving radical equations, we need to decide which values of the solution are allowed.\n",
    "\n",
    "In fact, as long as we work with real numbers, we cannot take the square root of a negative number. So, we need to *ensure that we don't choose a negative value for a variable that we take the square root of*. To avoid this situation, we restrict the set of values a variable can take.\n",
    "\n",
    "#### Radical Expressions that Contain a Single Term Radicand\n",
    "\n",
    "Consider the simplest case\n",
    "\n",
    "$$\\sqrt{x}.$$\n",
    "\n",
    "We know that in this case, the variable $x$ is restricted to have only non-negative values. Remember that $0$ *is included* in this set.\n",
    "\n",
    "Suppose that our equation has more complicated radicands in it. What's the strategy in these cases?\n",
    "\n",
    "Well, the general rule to follow is that the expression under the root sign *cannot be negative*. That is, it must equal zero or any other positive value. So for example, if we have the equation:\n",
    "\n",
    "$$\\sqrt{17x} = 6$$\n",
    "\n",
    "We must set the expression under the square root to be greater than or equal to zero:\n",
    "\n",
    "$$17x\\geq 0.$$\n",
    "\n",
    "Solving for $x$ gives us:\n",
    "\n",
    "$$x \\geq 0.$$\n",
    "\n",
    "This means that the $x$ in the radical equation can only take on values greater than or equal to zero. Of course, we still need to solve the equation:\n",
    "\n",
    "$$\n",
    "\\begin{align*}\n",
    "(\\sqrt{17x})^2 &= (6)^2\\\\\n",
    "17x &= 36\\\\ \n",
    "x&=\\frac{36}{17}\n",
    "\\end{align*}\n",
    "$$\n",
    "\n",
    "Because the solution $\\frac{36}{17}$ is greater than or equal to zero, our restraint is satisfied. So, $\\frac{36}{17}$ is considered a valid solution to the radical equation.\n",
    "\n",
    "Now consider the equation $\\sqrt{x -4} = 5$. Again, we need to set the expression under the square root to be greater than or equal to zero:\n",
    "\n",
    "$$x-4\\geq 0$$\n",
    "\n",
    "Solving for $x$ gives us:\n",
    "\n",
    "$$x \\geq 4$$\n",
    "\n",
    "So, $x$ in the radical equation can take any number greater than or equal to 4. Now, we solve the radical equation. The radicand is already isolated so we can square both sides right away:\n",
    "\n",
    "$$\n",
    "\\begin{align*}\n",
    "\\left(\\sqrt{x -4}\\right)^2 &= (5)^2\\\\\n",
    "x-4 &= 25\n",
    "\\end{align*}\n",
    "$$\n",
    "\n",
    "Solving for $x$ gives us:\n",
    "\n",
    "$$x = 29$$\n",
    "\n",
    "This is an acceptable value because $29 \\geq 4$."
   ]
  },
  {
   "cell_type": "markdown",
   "metadata": {},
   "source": [
    "##  Determining the roots of a radical equation algebraically\n",
    "\n",
    "Here, we will lay out the necessary steps to solve a radical equation. We will also work on some more complicated examples.\n",
    "\n",
    "When solving a radical equation we must go through these steps:\n",
    "\n",
    "**STEP 1**\n",
    "\n",
    "> Find the restrictions on the variable $x$. \n",
    "\n",
    "**STEP 2**\n",
    "\n",
    "> Isolate the radical expression involving the variable. \n",
    "\n",
    "**STEP 3**\n",
    "\n",
    "> Square both sides of the equation.\n",
    "\n",
    "**Step 4**\n",
    "\n",
    "> Solve the resulting equation.\n",
    "\n",
    "**STEP 5**\n",
    "\n",
    "> Check the solution by plugging it back into the original equation. Make sure that the solution satisfies all restrictions found in **Step 1**."
   ]
  },
  {
   "cell_type": "markdown",
   "metadata": {},
   "source": [
    "### Example 1\n",
    "\n",
    "Consider the equation:\n",
    "\n",
    "$$\\sqrt{x-2}=8$$\n",
    "\n",
    "**STEP 1**\n",
    "> Set the restrictions on the variable $x$. To do so, we *set the expression under the square root to be greater than or equal to* $0$:\n",
    "<br><br>\n",
    "$$\n",
    "\\begin{align*}\n",
    "x-2\\geq0 \\\\\n",
    " x \\geq 2\n",
    "\\end{align*}\n",
    "$$ <br>\n",
    "This means that our solution is only allowed if it is greater than or equal to $2$.\n",
    "\n",
    "**STEP 2**\n",
    "> Next, we make sure the square root term is isolated. Since this is already the case, we can move on.\n",
    "\n",
    "**STEP 3**\n",
    "> Now, we can square both terms:\n",
    "<br><br>\n",
    "$$\\left(\\sqrt{x-2}\\right)^2 = 8^2$$\n",
    "<br>\n",
    "And get:\n",
    "<br><br>\n",
    "$$x-2 = 64$$\n",
    "\n",
    "**STEP 4**\n",
    "> Here, we solve for the variable $x$:\n",
    "<br><br>\n",
    "$$ x = 64 $$\n",
    "\n",
    "**STEP 5**\n",
    "> Finally, we check that our solution is within our restriction. Since $66\\geq 2$, our solution is allowed! We can also check whether our solution is correct:\n",
    "<br><br>\n",
    "$$\n",
    "\\begin{align*}\n",
    "\\sqrt{x-2}&= 8\\\\\n",
    "\\sqrt{66-2} &= 8\\\\\n",
    "\\sqrt{64}&= 8\\\\\n",
    "8&=8\n",
    "\\end{align*}\n",
    "$$\n",
    "<br>\n",
    "Since we obtained an identity, our solution is valid."
   ]
  },
  {
   "cell_type": "markdown",
   "metadata": {},
   "source": [
    "### Example 2\n",
    "\n",
    "Consider now:\n",
    "\n",
    "$$\\sqrt{3x^2 +10x} - 5 =0.$$\n",
    "\n",
    "**STEP 1**\n",
    "> Set the restrictions on the variable $x$. To do so, we *set the expression under the square root to be greater than or equal to* $0$:\n",
    "<br><br>\n",
    "$$3x^2 +10x \\geq 0.$$\n",
    "<br>\n",
    "Factoring out a $x$ on the LHS gives us:\n",
    "<br><br>\n",
    "$$x(3x+10) \\geq 0.$$\n",
    "<br>\n",
    "Since there are two factors in the inequality, a sign analysis is required:\n",
    "<br><br>\n",
    "$$x \\geq 0\\quad \\text{  and  } \\quad  3x+10 \\geq 0.$$\n",
    "<br>\n",
    "So, solving *the first inequality* gives us $x \\geq 0$, and solving *the second inequality* gives us $x \\geq -\\frac{10}{3}$.\n",
    "<br><br>\n",
    "We are interested in making $(x)$ and $(3x+10)$ **both nonnegative** or **both nonpositive**, so that their **product is nonnegative**. The figure below shows you how to combine these results:\n",
    "<br>\n",
    "<img src=\"../images/inequality.jpg\" style=\"width: 500px;\"/>\n",
    "<br>\n",
    "The <span style=\"color:green\">green</span> highlight on the top line shows the values that solve the first inequality. The <span style=\"color:green\">green</span> part in the bottom line shows the values that solve the second inequality. We put a plus sign $\\oplus$ above the <span style=\"color:green\">green</span> areas and a negative sign $\\ominus$ everywhere else. Next, we trace the vertical dashed lines at the points that solve the inequalities. Finally, we multiply the signs vertically on the first two rows and get the resulting sign at the bottom.\n",
    "<br><br>\n",
    "In our example, we are interested in the values of $x$ that make the solution greater than or equal to zero.\n",
    "So, the allowed values of $x$ are $x \\leq -\\frac{10}{3}$ and $x \\geq 0$.\n",
    "\n",
    "**STEP 2**\n",
    "> Next, we make sure the square root term is isolated, and get: \n",
    "<br><br>\n",
    "$$\\sqrt{3x^2 +10x} = 5$$\n",
    "\n",
    "**STEP 3**\n",
    "> Now, we can square both terms:\n",
    "<br><br>\n",
    "$$\n",
    "\\begin{align*}\n",
    "\\left(\\sqrt{3x^2 +10x}\\right)^2 &= (5)^2\\\\ \n",
    "\\end{align*}\n",
    "$$\n",
    "And get:\n",
    "<br><br>\n",
    "$$\n",
    "\\begin{align*}\n",
    "\\quad3x^2 +10x &= 25\\\\\n",
    "3x^2 +10x - 25&=0\n",
    "\\end{align*}\n",
    "$$\n",
    "\n",
    "**STEP 4**\n",
    "> Here, we solve for the variable $x$. To do this, we need to use the quadratic formula to get:\n",
    "<br><br>\n",
    "$$\n",
    "\\begin{align*}\n",
    "x_{1,2} &= \\frac{-b\\pm \\sqrt{b^2 -4ac}}{2a}\\\\\n",
    "&=\\frac{-10\\pm\\sqrt{(-10^2)-4(3)(-25)}}{2(3)}\\\\\n",
    "&=\\frac{-10 \\pm \\sqrt{100+300}}{6}\\\\\n",
    "&=\\frac{-10 \\pm \\sqrt{400}}{6}\\\\\n",
    "&=\\frac{-10 \\pm 20}{6}\\\\\n",
    "\\end{align*}\n",
    "$$\n",
    "<br>\n",
    "This gives us $x_1 = \\frac{5}{3}$ and $x_2 = -5$.\n",
    "\n",
    "**STEP 5**\n",
    "> Finally, we check that our solution is within our restriction. Since $\\frac{5}{3} \\geq 0$ and $-5 \\leq  -\\frac{10}{3}$ both solutions are allowed! Now, we check whether our solution for $x_1$ is correct. Plugging $x_1=\\frac{5}{3}$ into the original equation, we get:\n",
    "<br><br>\n",
    "$$ \n",
    "\\begin{align*}\n",
    "\\sqrt{3x^2 +10x} - 5 &= 0\\\\\n",
    "\\sqrt{3\\left(\\frac{5}{3}\\right)^2 +10\\left(\\frac{5}{3}\\right)} -5&=0\\\\\n",
    "\\sqrt{3\\left(\\frac{25}{9}\\right) +\\left(\\frac{50}{3}\\right)} - 5 &= 0\\\\\n",
    "\\sqrt{\\frac{25}{3} +\\frac{50}{3}} - 5 &= 0\\\\\n",
    "\\sqrt{\\frac{75}{3}} - 5 &= 0\\\\\n",
    "\\sqrt{25} - 5&= 0\\\\\n",
    "5-5&= 0 \\\\\n",
    "0&=0\n",
    "\\end{align*}\n",
    "$$\n",
    "<br>\n",
    "Since we obtained an identity, our solution for $x_1$ is valid.\n",
    "<br><br>\n",
    "Next, we check whether our solution for $x_2$ is correct. Plugging $x_2=-5$ into the original equation, we get:\n",
    "<br><br>\n",
    "$$\n",
    "\\begin{align*}\n",
    "\\sqrt{3x^2 +10x} - 5&= 0\\\\\n",
    "\\sqrt{3\\left(-5\\right)^2 +10\\left(-5\\right)} - 5 &= 0\\\\\n",
    "\\sqrt{3\\left(25\\right) -50} - 5 &=0\\\\\n",
    "\\sqrt{75-50} - 5 &=0\\\\\n",
    "\\sqrt{25} - 5 &= 0\\\\\n",
    "5-5&=0\\\\\n",
    "0&= 0\n",
    "\\end{align*}\n",
    "$$\n",
    "<br>\n",
    "Since we obtained an identity, our solution for $x_2$ is valid."
   ]
  },
  {
   "cell_type": "markdown",
   "metadata": {},
   "source": [
    "### Example 3\n",
    "\n",
    "Consider:\n",
    "\n",
    "$$7+\\sqrt{x-3} = 1$$\n",
    "\n",
    "**STEP 1**\n",
    "> Set the restrictions on the variable $x$. To do so, we *set the expression under the square root to be greater than or equal to* $0$:\n",
    "<br><br>\n",
    "$$\n",
    "\\begin{align*}\n",
    "x-3\\geq0 \\\\\n",
    " x \\geq 3\n",
    "\\end{align*}\n",
    "$$ <br>\n",
    "This means that our solution is only allowed if it is greater than or equal to $3$.\n",
    "\n",
    "**STEP 2**\n",
    "> Next, we make sure the square root term is isolated, and get:\n",
    "<br><br>\n",
    "$$\\sqrt{x-3} =-6$$\n",
    "<br>\n",
    "But, this means that there are no solutions to the equation. This is because the right-hand side is negative, and a square root cannot give a negative value."
   ]
  },
  {
   "cell_type": "markdown",
   "metadata": {},
   "source": [
    "Check your understanding with the following activities:"
   ]
  },
  {
   "cell_type": "code",
   "execution_count": 2,
   "metadata": {
    "scrolled": true
   },
   "outputs": [
    {
     "data": {
      "text/latex": [
       "What are the solutions of $1+\\sqrt{2x+3}=6  $ ?"
      ],
      "text/plain": [
       "<IPython.core.display.Latex object>"
      ]
     },
     "metadata": {},
     "output_type": "display_data"
    },
    {
     "data": {
      "text/latex": [
       "If the equation has no solution enter 'No solution'."
      ],
      "text/plain": [
       "<IPython.core.display.Latex object>"
      ]
     },
     "metadata": {},
     "output_type": "display_data"
    },
    {
     "data": {
      "application/vnd.jupyter.widget-view+json": {
       "model_id": "5f0f63aa1668438082ea64d13144cd2a",
       "version_major": 2,
       "version_minor": 0
      },
      "text/plain": [
       "Text(value='', placeholder='Your answer')"
      ]
     },
     "metadata": {},
     "output_type": "display_data"
    },
    {
     "data": {
      "application/vnd.jupyter.widget-view+json": {
       "model_id": "8d37e8b00cf74ba0b4db4505ffd701cc",
       "version_major": 2,
       "version_minor": 0
      },
      "text/plain": [
       "Button(button_style='info', description='Enter', layout=Layout(height='30px', width='15%'), style=ButtonStyle(…"
      ]
     },
     "metadata": {},
     "output_type": "display_data"
    }
   ],
   "source": [
    "display(Latex(\"What are the solutions of $1+\\sqrt{2x+3}=6  $ ?\"))\n",
    "display(Latex(\"If the equation has no solution enter 'No solution'.\"))\n",
    "\n",
    "\n",
    "attempts = 0\n",
    "exercise_1 = w.Text( placeholder='Your answer', description='', disabled=False )\n",
    "display(exercise_1)\n",
    "\n",
    "button_exercise_1 = w.Button(button_style='info',description=\"Enter\", layout=Layout(width='15%', height='30px') )\n",
    "button_exercise_1.on_click(rerun_cell)\n",
    "display(button_exercise_1)"
   ]
  },
  {
   "cell_type": "code",
   "execution_count": 3,
   "metadata": {
    "scrolled": true
   },
   "outputs": [
    {
     "data": {
      "text/markdown": [
       "Please enter an answer."
      ],
      "text/plain": [
       "<IPython.core.display.Markdown object>"
      ]
     },
     "metadata": {},
     "output_type": "display_data"
    }
   ],
   "source": [
    "# Exercise 1 user answer handling\n",
    "\n",
    "user_answer = exercise_1.value\n",
    "expected_answer = '11'\n",
    "\n",
    "\n",
    "    \n",
    "# Close the option to keep attempting the answer \n",
    "if(attempts >= 3):\n",
    "        \n",
    "        exercise_1.close()\n",
    "        button_exercise_1.close()\n",
    "        \n",
    "    \n",
    "        display(Markdown(\"## ANSWER: The solution is \\n $x=11$.\"))\n",
    "        display(Markdown(\"If you follow the steps outlined above, you should get that $x=11$\"))\n",
    "\n",
    "        \n",
    "# If answer is correct, display appropriate markdown cells    \n",
    "elif(user_answer == expected_answer):\n",
    "        \n",
    "        display(Markdown(\"## Correct.\"))\n",
    "        display(Markdown(\"If you follow the steps outlined above, you should get that $x=11$.\"))\n",
    "        \n",
    "        exercise_1.close()\n",
    "        button_exercise_1.close()\n",
    "\n",
    "# If no answer is inputted, display a message.\n",
    "elif(user_answer == ''):\n",
    "        display(Markdown(\"Please enter an answer.\"))\n",
    "\n",
    "# If the answer is incorrect, add one to the amount of attempts and display a message.\n",
    "else:\n",
    "        attempts += 1\n",
    "        \n",
    "        if(attempts <= 3):\n",
    "            display(Markdown(\"## Please try again.\"))\n",
    "            display(Markdown(\"Remember to follow the steps outlined above.\"))\n",
    "        "
   ]
  },
  {
   "cell_type": "code",
   "execution_count": 4,
   "metadata": {
    "scrolled": false
   },
   "outputs": [
    {
     "data": {
      "text/latex": [
       "What are the solutions of $\\sqrt{x^2+4}=-2  $ ?"
      ],
      "text/plain": [
       "<IPython.core.display.Latex object>"
      ]
     },
     "metadata": {},
     "output_type": "display_data"
    },
    {
     "data": {
      "text/latex": [
       "If the equation has no solution enter 'No solution'"
      ],
      "text/plain": [
       "<IPython.core.display.Latex object>"
      ]
     },
     "metadata": {},
     "output_type": "display_data"
    },
    {
     "data": {
      "application/vnd.jupyter.widget-view+json": {
       "model_id": "c6a69847878d4eeaa9a655b01f1532f8",
       "version_major": 2,
       "version_minor": 0
      },
      "text/plain": [
       "Text(value='', placeholder='Your answer')"
      ]
     },
     "metadata": {},
     "output_type": "display_data"
    },
    {
     "data": {
      "application/vnd.jupyter.widget-view+json": {
       "model_id": "be3771ca47ef4650be244434c7c7ff99",
       "version_major": 2,
       "version_minor": 0
      },
      "text/plain": [
       "Button(button_style='info', description='Enter', layout=Layout(height='30px', width='15%'), style=ButtonStyle(…"
      ]
     },
     "metadata": {},
     "output_type": "display_data"
    }
   ],
   "source": [
    "display(Latex(\"What are the solutions of $\\sqrt{x^2+4}=-2  $ ?\"))\n",
    "display(Latex(\"If the equation has no solution enter 'No solution'\"))\n",
    "\n",
    "\n",
    "attempts = 0\n",
    "exercise_2 = w.Text( placeholder='Your answer', description='', disabled=False )\n",
    "display(exercise_2)\n",
    "\n",
    "button_exercise_2 = w.Button(button_style='info',description=\"Enter\", layout=Layout(width='15%', height='30px') )\n",
    "button_exercise_2.on_click(rerun_cell)\n",
    "display(button_exercise_2)"
   ]
  },
  {
   "cell_type": "code",
   "execution_count": 5,
   "metadata": {
    "scrolled": true
   },
   "outputs": [
    {
     "data": {
      "text/markdown": [
       "Please enter an answer."
      ],
      "text/plain": [
       "<IPython.core.display.Markdown object>"
      ]
     },
     "metadata": {},
     "output_type": "display_data"
    }
   ],
   "source": [
    "# Exercise 2 user answer handling\n",
    "user_answer = exercise_2.value\n",
    "expected_answer = 'No solution'\n",
    "\n",
    "\n",
    "    \n",
    "# Close the option to keep attempting the answer \n",
    "if(attempts >= 3):\n",
    "        exercise_2.close()\n",
    "        button_exercise_1.close()\n",
    "    \n",
    "        display(Markdown(\"## ANSWER: The equation has no solutions.\"))\n",
    "        display(Markdown(\"This is because the right side is negative, and a square root cannot give \\\n",
    "                         a negative number.\"))\n",
    "\n",
    "# If answer is correct, display appropriate markdown cells    \n",
    "elif(user_answer == expected_answer):\n",
    "        \n",
    "        display(Markdown(\"## Correct.\"))\n",
    "        display(Markdown(\"The equation has no solutions. This is because the right side is negative, \\\n",
    "                         and a square root cannot give a negative number.\"))\n",
    "        \n",
    "        exercise_2.close()\n",
    "        button_exercise_2.close()\n",
    "        \n",
    "# If no answer is inputted, display a message.\n",
    "elif(user_answer == ''):\n",
    "        display(Markdown(\"Please enter an answer.\"))\n",
    "\n",
    "# If the answer is incorrect, add one to the amount of attempts and display a message.\n",
    "else:\n",
    "        \n",
    "        attempts += 1\n",
    "        \n",
    "        if(attempts <= 3):\n",
    "            display(Markdown(\"## Please try again.\"))\n",
    "            display(Markdown(\"Remember the rules for what a square root can and cannot be.\"))"
   ]
  },
  {
   "cell_type": "markdown",
   "metadata": {},
   "source": [
    "##  Explaining why some roots for a radical equation are extraneous\n",
    "\n",
    "Consider the following equation:\n",
    "\n",
    "$$\\sqrt{x-1}=x-7.$$\n",
    "\n",
    "First of all, we determine the restriction on the solution.\n",
    "\n",
    "$$x-1\\geq 0 \\quad \\to \\quad x\\geq 1.$$\n",
    "\n",
    "So the solution $x$ can only take on values that are greater than or equal to $1$.\n",
    "\n",
    "To solve this equation we square both sides right away. This is because the radical is already isolated:\n",
    "\n",
    "$$\\left(\\sqrt{x-1}\\right)^2 =(x-7)^2$$\n",
    "\n",
    "$$x-1 = (x-7)(x-7)$$\n",
    "\n",
    "$$x-1 = x^2 -7x -7x +49$$\n",
    "\n",
    "$$x^2 -15x +50 =0$$\n",
    "\n",
    "We obtained a quadratic equation. To find the solutions, we can either use the quadratic formula or factor the terms in the equation. In this case, we follow the second approach. \n",
    "\n",
    "We look for $x_1$ and $x_2$ such that their product equals $50$ and their sum equals $15$. Those numbers are $x_1 = 10$ and $x_2 = 5$. So, these numbers are our possible solutions to our equation.\n",
    "\n",
    "Now, we want to verify our solutions. We consider $x_1=10$ first. Substituting into the original equation gives us:\n",
    "\n",
    "$$\n",
    "\\begin{align*}\n",
    "\\sqrt{x-1} &= 10-7\\\\\n",
    "\\sqrt{10-1} &= 3\\\\\n",
    "\\sqrt{9} &= 3\\\\\n",
    "3 &= 3\n",
    "\\end{align*}\n",
    "$$\n",
    "\n",
    "Because we obtained an identity, $x_1 =10$ is a valid solution for our equation.\n",
    "\n",
    "Now, let's check $x_2=5$:\n",
    "\n",
    "$$\n",
    "\\begin{align*}\n",
    "\\sqrt{x-1} &= x-7\\\\\n",
    "\\sqrt{5-1} &= 5-7\\\\\n",
    "\\sqrt{4}  &= -2\\\\\n",
    "2 &\\neq -2\\\\\n",
    "\\end{align*}\n",
    "$$\n",
    "\n",
    "So, $x_2=5$ is not a solution for our equation.\n",
    "\n",
    "Where did this solution come from?\n",
    "\n",
    "It came from squaring both sides of the original equation. By squaring both sides, we created an extra solution that was wrong. We call this type of solution **extraneous**. *Extraneous means mathematically correct, but **not relevant or useful** to the original question*.\n",
    "\n",
    "Extraneous solutions are the reason why you should always check your solutions."
   ]
  },
  {
   "cell_type": "code",
   "execution_count": 6,
   "metadata": {
    "scrolled": false
   },
   "outputs": [
    {
     "data": {
      "text/latex": [
       "Is $0$ a solution for the following equation?"
      ],
      "text/plain": [
       "<IPython.core.display.Latex object>"
      ]
     },
     "metadata": {},
     "output_type": "display_data"
    },
    {
     "data": {
      "text/latex": [
       "$$\\sqrt{x+4}=x-2$$"
      ],
      "text/plain": [
       "<IPython.core.display.Latex object>"
      ]
     },
     "metadata": {},
     "output_type": "display_data"
    },
    {
     "data": {
      "application/vnd.jupyter.widget-view+json": {
       "model_id": "f58ca73499174a77ac5e73cbbf57c0ac",
       "version_major": 2,
       "version_minor": 0
      },
      "text/plain": [
       "interactive(children=(Dropdown(description='Choose One:', options=('Yes', 'No'), value=None), Output()), _dom_…"
      ]
     },
     "metadata": {},
     "output_type": "display_data"
    }
   ],
   "source": [
    "def lin_or_non(val):\n",
    "    if val == \"Yes\":\n",
    "        display(Latex(\"Try again!\"))\n",
    "        display(Latex(\"Try substituting the $x$ values in the equation with $0$.\"))\n",
    "    elif val == \"No\":\n",
    "        display(Latex(\"Correct!\"))\n",
    "        display(Latex(\"When we substitute 0 into our equation, we get that $2 = -2$. This is not possible.\"))\n",
    "\n",
    "display(Latex(\"Is $0$ a solution for the following equation?\"))\n",
    "display(Latex('$$\\sqrt{x+4}=x-2$$'))\n",
    "    \n",
    "interact(lin_or_non, val = widgets.Dropdown(options=['Yes', 'No'],value = None,description = 'Choose One:',disabled = False));\n"
   ]
  },
  {
   "cell_type": "markdown",
   "metadata": {},
   "source": [
    "### Solve problems by modeling a situation with a radical equation and solving the equation.\n",
    "\n",
    "Radical equations can be important to model and solve problems. Consider the following problem:\n",
    "\n",
    "**Problem**\n",
    "\n",
    "At which points do the functions of $y=\\sqrt{8x-3}$ and $y=x+\\frac{3}{4}$ intersect?\n",
    "\n",
    "\n",
    "**Solution**\n",
    "\n",
    "The figure below shows the functions of $y=\\sqrt{8x-3}$ (<span style=\"color:blue\">Blue</span>) and $y=x+\\frac{3}{4}$ (<span style=\"color:red\">Red</span>). We observe that they intersect at two points.\n",
    "\n",
    "<img src=\"../images/radicands_problem.jpg\" style=\"width: 700px;\"/>"
   ]
  },
  {
   "cell_type": "markdown",
   "metadata": {},
   "source": [
    "To find the points at which the two curves intersect, we equate the functions:\n",
    "\n",
    "$$\\sqrt{8x-3} = x+\\frac{3}{4}.$$\n",
    "\n",
    "Now, we have a radical equation we can solve using the steps we learned in this notebook.\n",
    "\n",
    "**STEP 1**\n",
    "> Set the restrictions on the variable $x$. To do so, we *set the expression under the square root to be greater than or equal to* $0$:\n",
    "<br><br>\n",
    "$$\n",
    "\\begin{align*}\n",
    "\\sqrt{8x-3} \\geq 0 \\\\\n",
    "\\quad 8x-3 \\geq 0 \\\\\n",
    "\\quad x \\geq \\frac{3}{8}\n",
    "\\end{align*}\n",
    "$$ <br>\n",
    "This means that our solution is only allowed if it is greater than or equal to $\\frac{3}{8}$.\n",
    "\n",
    "**STEP 2**\n",
    "> Next, we make sure the square root term is isolated. Since this is already the case, we can move on.\n",
    "\n",
    "**STEP 3**\n",
    "> Now, we can square both terms:\n",
    "<br><br>\n",
    "$$\n",
    "\\begin{align*}\n",
    "\\left(\\sqrt{8x-3}\\right)^2 &= \\left(x+\\frac{3}{4}\\right)^2\\\\\n",
    "\\end{align*}\n",
    "$$\n",
    "<br>\n",
    "And get:\n",
    "<br><br>\n",
    "$$\n",
    "\\begin{align*}\n",
    "8x-3 &= \\left(x+\\frac{3}{4}\\right)\\left(x+\\frac{3}{4}\\right)\\\\\n",
    "8x-3 &= x^2 +\\frac{3}{2}x +\\frac{9}{16} \\\\\n",
    "\\end{align*}\n",
    "$$\n",
    "<br>\n",
    "By rearranging the terms we get the function:\n",
    "<br><br>\n",
    "$$\n",
    "\\begin{align*}\n",
    "x^2 -\\frac{13}{2}x + \\frac{57}{16} &= 0\n",
    "\\end{align*}\n",
    "$$\n",
    "<br>\n",
    "\n",
    "**STEP 4**\n",
    "> Here, we solve for the variable $x$. To do this, we need to use the quadratic formula to get:\n",
    "<br><br>\n",
    "$$\n",
    "\\begin{align*}\n",
    "x_{1,2} &= \\frac{-b\\pm \\sqrt{b^2 -4ac}}{2a}\\\\\n",
    "&=\\frac{\\frac{13}{2}\\pm\\sqrt{\\left(-\\frac{13}{2}\\right)^2-4(1)\\left(\\frac{57}{16}\\right)}}{2(1)}\\\\\n",
    "&=\\frac{\\frac{13}{2}\\pm\\sqrt{\\left(\\frac{169}{4}\\right)-\\left(\\frac{57}{4}\\right)}}{2}\\\\\n",
    "&=\\frac{\\frac{13}{2}\\pm\\sqrt{\\left(\\frac{112}{4}\\right)}}{2}\\\\\n",
    "&=\\frac{\\frac{13}{2}\\pm\\frac{4\\sqrt{7}}{2}}{2}\\\\\n",
    "&=\\frac{\\frac{13\\pm4\\sqrt{7}}{2}}{2}\\\\\n",
    "&=\\frac{13\\pm4\\sqrt{7}}{4}\n",
    "\\end{align*}\n",
    "$$\n",
    "<br>\n",
    "This gives us $x_1 = \\frac{13}{4}+\\sqrt{7}$ and $x_2 = \\frac{13}{4}-\\sqrt{7}$.\n",
    "\n",
    "**STEP 5**\n",
    "> Finally, we check that our solution is within our restriction. Since $x_1 = \\frac{13}{4}+\\sqrt{7} \\geq \\frac{3}{8}$ and $x_2 = \\frac{13}{4}-\\sqrt{7} \\geq \\frac{3}{8}$, our solutions are allowed! We can also check whether our solutions are correct using the graph above. The graph tells us that our solutions are indeed valid."
   ]
  },
  {
   "cell_type": "markdown",
   "metadata": {},
   "source": [
    "## Conclusion\n",
    "\n",
    "In this notebook, we learned\n",
    "\n",
    "\n",
    "<ul>\n",
    "    <li> When solving a radical equation, we first need to determine the restrictions on the solution. </li>\n",
    "    <li> To solve a radical equation we always want to isolate the radical first, then square sides, not terms. </li>\n",
    "    <li> We always need to check the solutions and discard any extraneous.</li>\n",
    " \n",
    "</ul>\n"
   ]
  },
  {
   "cell_type": "markdown",
   "metadata": {},
   "source": [
    "[![logo](https://callysto.ca/wp-content/uploads/2018/07/Callysto-Notebook-Banner_Bottom_07.30.18.jpg)](https://callysto.ca/)"
   ]
  }
 ],
 "metadata": {
  "kernelspec": {
   "display_name": "Python 3",
   "language": "python",
   "name": "python3"
  },
  "language_info": {
   "codemirror_mode": {
    "name": "ipython",
    "version": 3
   },
   "file_extension": ".py",
   "mimetype": "text/x-python",
   "name": "python",
   "nbconvert_exporter": "python",
   "pygments_lexer": "ipython3",
   "version": "3.6.8"
  }
 },
 "nbformat": 4,
 "nbformat_minor": 2
}
