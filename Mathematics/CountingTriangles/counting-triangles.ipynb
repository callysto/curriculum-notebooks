{
 "cells": [
  {
   "cell_type": "markdown",
   "metadata": {},
   "source": [
    "![Callysto.ca Banner](https://github.com/callysto/curriculum-notebooks/blob/master/callysto-notebook-banner-top.jpg?raw=true)\n",
    "\n",
    "<a href=\"https://hub.callysto.ca/jupyter/hub/user-redirect/git-pull?repo=https%3A%2F%2Fgithub.com%2Fcallysto%2Fcurriculum-notebooks&branch=master&subPath=Mathematics/CountingTriangles/counting-triangles.ipynb&depth=1\" target=\"_parent\"><img src=\"https://raw.githubusercontent.com/callysto/curriculum-notebooks/master/open-in-callysto-button.svg?sanitize=true\" width=\"123\" height=\"24\" alt=\"Open in Callysto\"/></a>"
   ]
  },
  {
   "cell_type": "markdown",
   "metadata": {},
   "source": [
    "# Math Puzzle: Counting Triangles\n",
    "\n",
    "In this notebook we will explore geometry puzzles that involve counting triangles.\n",
    "\n",
    "## Introduction\n",
    "\n",
    "Triangles, like other [polygons](https://en.wikipedia.org/wiki/Polygon), can be named based on their angles. The triangle below could be named $ABC$, but notice that it also contains three smaller trianges:\n",
    "\n",
    "1. $ABD$\n",
    "2. $ADE$\n",
    "3. $ACE$.\n",
    "\n",
    "![triangle example 1](images/0.png)\n",
    "\n",
    "We can also see two more (slightly larger) triangles, $ABE$ and $ACD$. So in that drawing we have six triangles:\n",
    "\n",
    "1. $ABC$\n",
    "2. $ABD$\n",
    "3. $ADE$\n",
    "4. $ACE$\n",
    "5. $ABE$\n",
    "6. $ACD$\n",
    "\n",
    "## Challenge 1\n",
    "\n",
    "How many triangles can you count in this shape?\n",
    "\n",
    "![triangle problem 1](images/1.png)\n",
    "\n",
    "Let's create a visualization to check if you found them all. First we will read a data file that contains the coordinates of the points."
   ]
  },
  {
   "cell_type": "code",
   "execution_count": null,
   "metadata": {},
   "outputs": [],
   "source": [
    "import pandas as pd\n",
    "data = {'Point':['A','B','C','D','E','F','G'],'x':[0,2,2,0,0,2,1],'y':[2,2,0,0,1,1,1]}\n",
    "df = pd.DataFrame(data)\n",
    "df"
   ]
  },
  {
   "cell_type": "markdown",
   "metadata": {},
   "source": [
    "Now that we have the points, we will make a list of the points in the order we want to connect them, and then draw the visualization."
   ]
  },
  {
   "cell_type": "code",
   "execution_count": null,
   "metadata": {
    "scrolled": false
   },
   "outputs": [],
   "source": [
    "point_list = ['A','B','C','D','A','C','B','D','E','F']\n",
    "df_plot = pd.DataFrame(columns=['Point','x','y'])\n",
    "for p in point_list:\n",
    "    df_plot = pd.concat([df_plot, df[df['Point'] == p]])\n",
    "\n",
    "import plotly.express as px\n",
    "fig = px.line(df_plot, x='x', y='y', text='Point')\n",
    "fig.update_traces(textposition='bottom left')\n",
    "fig.update_xaxes(range=[-1, df['x'].max()+1],visible=False).update_yaxes(range=[-1, df['y'].max()+1],visible=False).update_layout(plot_bgcolor='white')\n",
    "fig.show()"
   ]
  },
  {
   "cell_type": "markdown",
   "metadata": {},
   "source": [
    "Now let's highlight some of the triangles it contains."
   ]
  },
  {
   "cell_type": "code",
   "execution_count": null,
   "metadata": {},
   "outputs": [],
   "source": [
    "import plotly.graph_objects as go\n",
    "def add_triangle(points):\n",
    "    points.sort()\n",
    "    plot_this = pd.concat([df[df['Point'].isin(points)], df[df['Point']==points[0]]])\n",
    "    fig.add_trace(go.Scatter(x=plot_this['x'],y=plot_this['y'],text=plot_this['Point'],mode='lines',fill='toself',opacity=0.5))\n",
    "\n",
    "add_triangle(['A','G','B'])\n",
    "add_triangle(['B','G','F'])\n",
    "add_triangle(['F','G','C'])\n",
    "add_triangle(['C','G','D'])\n",
    "add_triangle(['D','G','E'])\n",
    "add_triangle(['E','G','A'])\n",
    "fig.show()"
   ]
  },
  {
   "cell_type": "markdown",
   "metadata": {},
   "source": [
    "So that's $6$ triangles so far, here are $2$ more."
   ]
  },
  {
   "cell_type": "code",
   "execution_count": null,
   "metadata": {},
   "outputs": [],
   "source": [
    "fig.update_traces(visible='legendonly',selector={'opacity':0.5}) # hide the previous triangles\n",
    "add_triangle(['A','B','C'])\n",
    "add_triangle(['A','C','D'])\n",
    "fig.show()"
   ]
  },
  {
   "cell_type": "markdown",
   "metadata": {},
   "source": [
    "And the $2$ that are opposite to those:"
   ]
  },
  {
   "cell_type": "code",
   "execution_count": null,
   "metadata": {},
   "outputs": [],
   "source": [
    "fig.update_traces(visible='legendonly',selector={'opacity':0.5})\n",
    "add_triangle(['B','C','D'])\n",
    "add_triangle(['A','B','D'])\n",
    "fig.show()"
   ]
  },
  {
   "cell_type": "markdown",
   "metadata": {},
   "source": [
    "And finally $2$ more on the sides:"
   ]
  },
  {
   "cell_type": "code",
   "execution_count": null,
   "metadata": {},
   "outputs": [],
   "source": [
    "fig.update_traces(visible='legendonly',selector={'opacity':0.5})\n",
    "add_triangle(['A','G','D'])\n",
    "add_triangle(['B','G','C'])\n",
    "fig.show()"
   ]
  },
  {
   "cell_type": "markdown",
   "metadata": {},
   "source": [
    "That is a total of 12 triangles in that shape. In the figure above you can click on the legend to turn traces on and off.\n",
    "\n",
    "## Challenge 2\n",
    "\n",
    "How many triangles can you count in the following image?\n",
    "\n",
    "![triangle example 1](images/2.png)"
   ]
  },
  {
   "cell_type": "code",
   "execution_count": null,
   "metadata": {},
   "outputs": [],
   "source": [
    "data = {'Point':['A','B','C','D','E','F','G','H','I','J','K'],'x':[3,0,6,1.5,3,4.5,1.5,4.5,2.25,3,3.75],'y':[4,0,0,0,0,0,2,2,2,2,2]}\n",
    "df = pd.DataFrame(data)\n",
    "df_plot = pd.DataFrame(columns=['Point','x','y'])\n",
    "for p in ['A','B','C','A','D','E','A','F','C','H','G']:\n",
    "    df_plot = pd.concat([df_plot, df[df['Point'] == p]])\n",
    "fig = px.line(df_plot, x='x', y='y', text='Point')\n",
    "fig.update_traces(textposition='bottom left')\n",
    "fig.update_xaxes(range=[-1, df['x'].max()+1], visible=False).update_yaxes(range=[-1, df['y'].max()+1], visible=False).update_layout(plot_bgcolor='white')\n",
    "add_triangle(['A','B','C'])\n",
    "add_triangle(['A','B','E'])\n",
    "add_triangle(['A','D','F'])\n",
    "add_triangle(['A','E','C'])\n",
    "\n",
    "add_triangle(['A','B','D'])\n",
    "add_triangle(['A','D','E'])\n",
    "add_triangle(['A','E','F'])\n",
    "add_triangle(['A','F','C'])\n",
    "\n",
    "add_triangle(['A','G','J'])\n",
    "add_triangle(['A','I','K'])\n",
    "add_triangle(['A','J','H'])\n",
    "\n",
    "add_triangle(['A','G','I'])\n",
    "add_triangle(['A','I','J'])\n",
    "add_triangle(['A','J','K'])\n",
    "add_triangle(['A','K','H'])\n",
    "\n",
    "fig.update_traces(visible='legendonly', selector={'opacity':0.5})\n",
    "fig.show()"
   ]
  },
  {
   "cell_type": "markdown",
   "metadata": {},
   "source": [
    "## Challenge 3\n",
    "\n",
    "Now that you've seen a couple of examples, can you create a visualization to count these triangles?\n",
    "\n",
    "![](images/3.png)\n",
    "\n",
    "The dataframe of points and the initial visualization have already been created:"
   ]
  },
  {
   "cell_type": "code",
   "execution_count": null,
   "metadata": {},
   "outputs": [],
   "source": [
    "data = {'Point':['A','B','C','D','E','F','G','H'],'x':[2,0,0,4,4,1,2,3],'y':[6,4,0,0,4,3,2,3]}\n",
    "df = pd.DataFrame(data)\n",
    "print(df)\n",
    "df_plot = pd.DataFrame(columns=['Point','x','y'])\n",
    "for p in ['A','B','C','D','E','A','C','E','D','B','A','D']:\n",
    "    df_plot = pd.concat([df_plot, df[df['Point'] == p]])\n",
    "fig = px.line(df_plot, x='x', y='y', text='Point')\n",
    "fig.update_traces(textposition='bottom left')\n",
    "fig.update_xaxes(range=[-1, df['x'].max()+1], visible=False).update_yaxes(range=[-1, df['y'].max()+1], visible=False).update_layout(plot_bgcolor='white')\n",
    "\n",
    "add_triangle(['A','B','F'])\n",
    "\n",
    "fig.show()"
   ]
  },
  {
   "cell_type": "markdown",
   "metadata": {},
   "source": [
    "# Conclusion\n",
    "\n",
    "In this notebook we looked at some geometry challenges involving counting triangles, and visualizations using Python with [pandas](https://pandas.pydata.org) and [Plotly](https://plotly.com/python)"
   ]
  },
  {
   "cell_type": "markdown",
   "metadata": {},
   "source": [
    "[![Callysto.ca License](https://github.com/callysto/curriculum-notebooks/blob/master/callysto-notebook-banner-bottom.jpg?raw=true)](https://github.com/callysto/curriculum-notebooks/blob/master/LICENSE.md)"
   ]
  }
 ],
 "metadata": {
  "kernelspec": {
   "display_name": "Python 3.10.1 64-bit",
   "language": "python",
   "name": "python3"
  },
  "language_info": {
   "codemirror_mode": {
    "name": "ipython",
    "version": 3
   },
   "file_extension": ".py",
   "mimetype": "text/x-python",
   "name": "python",
   "nbconvert_exporter": "python",
   "pygments_lexer": "ipython3",
   "version": "3.10.1"
  },
  "vscode": {
   "interpreter": {
    "hash": "d1ca6d17674200220921376aaeb3d36cffe15ecab2470a9a5e7a456cdbf61425"
   }
  }
 },
 "nbformat": 4,
 "nbformat_minor": 2
}
