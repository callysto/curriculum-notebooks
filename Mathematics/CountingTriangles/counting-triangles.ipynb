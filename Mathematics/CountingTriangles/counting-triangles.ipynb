{
 "cells": [
  {
   "cell_type": "markdown",
   "metadata": {},
   "source": [
    "![Callysto.ca Banner](https://github.com/callysto/curriculum-notebooks/blob/master/callysto-notebook-banner-top.jpg?raw=true)\n",
    "\n",
    "<a href=\"https://hub.callysto.ca/jupyter/hub/user-redirect/git-pull?repo=https%3A%2F%2Fgithub.com%2Fcallysto%2Fcurriculum-notebooks&branch=master&subPath=Mathematics/CountingTriangles/counting-triangles.ipynb&depth=1\" target=\"_parent\"><img src=\"https://raw.githubusercontent.com/callysto/curriculum-notebooks/master/open-in-callysto-button.svg?sanitize=true\" width=\"123\" height=\"24\" alt=\"Open in Callysto\"/></a>"
   ]
  },
  {
   "cell_type": "markdown",
   "metadata": {},
   "source": [
    "# Math Puzzle: Counting Triangles\n",
    "\n",
    "In this notebook we will explore puzzles that involve counting triangles.\n",
    "\n",
    "## Introduction\n",
    "\n",
    "Triangles, like other [polygons](https://en.wikipedia.org/wiki/Polygon), can be named based on their angles. The triangle below could be named $ABC$, but notice that it also contains three smaller trianges:\n",
    "\n",
    "1. $ABD$\n",
    "2. $ADE$\n",
    "3. $ACE$.\n",
    "\n",
    "![triangle example 1](images/0.png)\n",
    "\n",
    "We can also see two more (slightly larger) triangles, $ABE$ and $ACD$. So in that drawing we have six triangles:\n",
    "\n",
    "1. $ABC$\n",
    "2. $ABD$\n",
    "3. $ADE$\n",
    "4. $ACE$\n",
    "5. $ABE$\n",
    "6. $ACD$\n",
    "\n",
    "## Challenge 1\n",
    "\n",
    "How many triangles can you count in the following image?\n",
    "\n",
    "![triangle example 1](images/1.png)\n",
    "\n",
    "The following visualization can help you check if you found them all."
   ]
  },
  {
   "cell_type": "code",
   "execution_count": 1,
   "metadata": {},
   "outputs": [],
   "source": [
    "import pandas as pd\n",
    "\n",
    "df = pd.DataFrame(columns=['Point','x', 'y'])\n",
    "def add_point(label, x, y):\n",
    "    df.loc[len(df)] = [label, x, y]\n",
    "    return df\n",
    "add_point('A', 3, 3)\n",
    "add_point('B', 0, 0)\n",
    "add_point('C', 5, 0)\n",
    "add_point('D', 2, 0)\n",
    "add_point('E', 3, 0)\n",
    "add_point('F', 4, 0)\n",
    "add_point('G', 1.5, 2)\n",
    "add_point('H', 4.5, 2)\n",
    "df.to_csv('points1.csv')"
   ]
  },
  {
   "cell_type": "code",
   "execution_count": null,
   "metadata": {},
   "outputs": [],
   "source": [
    "import pandas as pd\n",
    "\n",
    "'''\n",
    "df = pd.DataFrame(columns=['Point','x', 'y'])\n",
    "def add_point(label, x, y):\n",
    "    df.loc[len(df)] = [label, x, y]\n",
    "    return df\n",
    "add_point('A', 0, 0)\n",
    "add_point('B', 2, 0)\n",
    "add_point('C', 2, 2)\n",
    "add_point('D', 0, 2)\n",
    "add_point('E', 1, 1)\n",
    "add_point('F', 1, 3)\n",
    "df.to_csv('points0.csv')\n",
    "'''\n",
    "df0 = pd.read_csv('points0.csv')\n",
    "df0"
   ]
  },
  {
   "cell_type": "code",
   "execution_count": null,
   "metadata": {
    "scrolled": false
   },
   "outputs": [],
   "source": [
    "import plotly.express as px\n",
    "\n",
    "df_plot = pd.DataFrame(columns=['Point','x','y'])\n",
    "for p in ['A','B','C','D','A','E','C','B','D','F','C']:\n",
    "    df_plot = pd.concat([df_plot, df[df['Point']==p]])\n",
    "\n",
    "fig = px.line(df_plot, x='x', y='y', text='Point')\n",
    "fig.update_traces(textposition='bottom left')\n",
    "fig.update_xaxes(range=[-1, 3], visible=False).update_yaxes(range=[-1, 4], visible=False)#.update_layout(showlegend=False)\n",
    "fig.show()"
   ]
  },
  {
   "cell_type": "code",
   "execution_count": null,
   "metadata": {},
   "outputs": [],
   "source": [
    "def add_triangle(points):\n",
    "    points.sort()\n",
    "    plot_this = pd.concat([df[df['Point'].isin(points)], df[df['Point']==points[0]]])\n",
    "    fig.add_trace(go.Scatter(x=plot_this['x'], y=plot_this['y'], text=plot_this['Point'], mode='lines', fill='toself', opacity=0.5))\n",
    "\n",
    "add_triangle(['A','E','B'])\n",
    "add_triangle(['B','E','C'])\n",
    "add_triangle(['D','E','C'])\n",
    "add_triangle(['E','A','D'])\n",
    "add_triangle(['D','F','C'])\n",
    "fig.show()\n"
   ]
  },
  {
   "cell_type": "code",
   "execution_count": null,
   "metadata": {},
   "outputs": [],
   "source": [
    "fig.update_traces(visible='legendonly', selector={'opacity':0.5})\n",
    "add_triangle(['A','B','C'])\n",
    "fig.show()"
   ]
  },
  {
   "cell_type": "markdown",
   "metadata": {},
   "source": [
    "### 1.2. Triangles in a rectangle\n",
    "\n",
    "To determine the number of triangles in a rectangle, at first label every small triangle. The total number of triangles will be the double of highest labelling number. For example, consider a rectangle ABCD, where every vertex is connected with each other. If we start to label the smaller triangles from $1$ we end up with four triangles. So, the total number of triangles is $4 \\times 2 = 8$. Now, play with the following animation.\n"
   ]
  },
  {
   "cell_type": "code",
   "execution_count": null,
   "metadata": {
    "scrolled": true
   },
   "outputs": [],
   "source": [
    "ggb.file('sources/quadAnimation.ggb').draw()"
   ]
  },
  {
   "cell_type": "markdown",
   "metadata": {},
   "source": [
    "## 2. Triangles in a pentagon  \n",
    "\n",
    "Now that we've seen how to count how many triangles we get when we draw lines in a larger triangle, and how to count triangles in a rectangle, we put the two together, and determine the number of triangles in a pentagon, as the next animation demonstrates."
   ]
  },
  {
   "cell_type": "code",
   "execution_count": null,
   "metadata": {},
   "outputs": [],
   "source": [
    "ggb.file('sources/pentaAnimation.ggb').draw()"
   ]
  },
  {
   "cell_type": "markdown",
   "metadata": {},
   "source": [
    "## 3. Alternate Method for counting triangles\n",
    "There is a second method to count the triangles in a pentagon, when all vertices are connected.<br>\n",
    "This is the angular, or symmetry method. It relies on the following fact: \n",
    "\n",
    "> Rotating a regular pentagon by $72^\\circ$ (one fifth of a full rotation) produces the same pentagon.<br>\n",
    "> (In other words, all that changes is the labelling of the corners.)\n",
    "\n",
    "Here, we will count all similar triangles at a time. <br>\n",
    "There are seven distinct groups of triangles in a pentagon when all vertices are connected with each other.<br>\n",
    "The symmetry noted above tells us there are 5 triangles in each group. <br>\n",
    "So the total number of the triangles in the Pentagon is 7x5=35.\n",
    "\n",
    "Let's play the following animation to find the seven groups. The sliders $n$ and $i$ represent the number of groups and the number of triangles corresponding to a group, respectively."
   ]
  },
  {
   "cell_type": "code",
   "execution_count": null,
   "metadata": {},
   "outputs": [],
   "source": [
    "ggb.file('sources/pentaMethod2.ggb').draw()"
   ]
  },
  {
   "cell_type": "markdown",
   "metadata": {},
   "source": [
    "## 4. Test yourself"
   ]
  },
  {
   "cell_type": "code",
   "execution_count": null,
   "metadata": {},
   "outputs": [],
   "source": [
    "def display(question, answerList):\n",
    "    print(question)\n",
    "    IPython.display.display(answerList)"
   ]
  },
  {
   "cell_type": "markdown",
   "metadata": {},
   "source": [
    "Consider the following triangle ABC: \n",
    "![](images/ex1.png)"
   ]
  },
  {
   "cell_type": "code",
   "execution_count": null,
   "metadata": {},
   "outputs": [],
   "source": [
    "answer642 = widgets.RadioButtons(options=['Select the best one', '20', '10', '22', '12', 'None of the above'],\n",
    "                             value = 'Select the best one',  description='Choices:')\n",
    "\n",
    "question642 = \"4.1 How many triangles are in the above triangle?\"\n",
    "\n",
    "def check642(g):\n",
    "    IPython.display.clear_output(wait=False)\n",
    "    display(question642, answer642)\n",
    "    if answer642.value == '20':\n",
    "        print(\"Correct Answer!\")\n",
    "    else:\n",
    "        if answer642.value == 'Select the best one':\n",
    "            pass\n",
    "        else:\n",
    "            print(\"Wrong answer! Try again.\")\n",
    "\n",
    "IPython.display.clear_output(wait=False)\n",
    "display(question642, answer642)\n",
    "answer642.observe(check642, 'value')"
   ]
  },
  {
   "cell_type": "markdown",
   "metadata": {},
   "source": [
    "In the following figure two small rectangles (ADEF and BCEF) join each other and produce another large rectangle ABCD: \n",
    "![](images/ex3.png)"
   ]
  },
  {
   "cell_type": "code",
   "execution_count": null,
   "metadata": {},
   "outputs": [],
   "source": [
    "answer642 = widgets.RadioButtons(options=['Select the best one', '20', '22', '24', '26', 'None of the above'],\n",
    "                             value = 'Select the best one',  description='Choices:')\n",
    "\n",
    "question642 = \"4.2 How many triangles are in the large rectangle?\"\n",
    "\n",
    "def check642(g):\n",
    "    IPython.display.clear_output(wait=False)\n",
    "    display(question642, answer642)\n",
    "    if answer642.value == '26':\n",
    "        print(\"Correct Answer!\")\n",
    "    else:\n",
    "        if answer642.value == 'Select the best one':\n",
    "            pass\n",
    "        else:\n",
    "            print(\"Wrong answer! Try again.\")\n",
    "\n",
    "IPython.display.clear_output(wait=False)\n",
    "display(question642, answer642)\n",
    "answer642.observe(check642, 'value')"
   ]
  },
  {
   "cell_type": "markdown",
   "metadata": {},
   "source": [
    "Consider a pentagon as drawn in the following figure: \n",
    "![](images/ex4.png)"
   ]
  },
  {
   "cell_type": "code",
   "execution_count": null,
   "metadata": {},
   "outputs": [],
   "source": [
    "answer642 = widgets.RadioButtons(options=['Select the best one', '20', '17', '15', '13', 'None of the above'],\n",
    "                             value = 'Select the best one',  description='Choices:')\n",
    "\n",
    "question642 = \"4.3 How many triangles are in the above pentagon?\"\n",
    "\n",
    "def check642(g):\n",
    "    IPython.display.clear_output(wait=False)\n",
    "    display(question642, answer642)\n",
    "    if answer642.value == '17':\n",
    "        print(\"Correct Answer!\")\n",
    "    else:\n",
    "        if answer642.value == 'Select the best one':\n",
    "            pass\n",
    "        else:\n",
    "            print(\"Wrong answer! Try again.\")\n",
    "\n",
    "IPython.display.clear_output(wait=False)\n",
    "display(question642, answer642)\n",
    "answer642.observe(check642, 'value')"
   ]
  },
  {
   "cell_type": "markdown",
   "metadata": {},
   "source": [
    "A pentagon ABCDE and a rectangle touch as like as the following figure: \n",
    "![](images/ex5.png)"
   ]
  },
  {
   "cell_type": "code",
   "execution_count": null,
   "metadata": {},
   "outputs": [],
   "source": [
    "answer642 = widgets.RadioButtons(options=['Select the best one', '20', '18', '16', '14', 'None of the above'],\n",
    "                             value = 'Select the best one',  description='Choices:')\n",
    "\n",
    "question642 = \"4.4 How many triangles are in the above figure?\"\n",
    "\n",
    "def check642(g):\n",
    "    IPython.display.clear_output(wait=False)\n",
    "    display(question642, answer642)\n",
    "    if answer642.value == '18':\n",
    "        print(\"Correct Answer!\")\n",
    "    else:\n",
    "        if answer642.value == 'Select the best one':\n",
    "            pass\n",
    "        else:\n",
    "            print(\"Wrong answer! Try again.\")\n",
    "\n",
    "IPython.display.clear_output(wait=False)\n",
    "display(question642, answer642)\n",
    "answer642.observe(check642, 'value')"
   ]
  },
  {
   "cell_type": "markdown",
   "metadata": {},
   "source": [
    "Again consider a pentagon: \n",
    "![](images/ex6.png)"
   ]
  },
  {
   "cell_type": "code",
   "execution_count": null,
   "metadata": {},
   "outputs": [],
   "source": [
    "answer642 = widgets.RadioButtons(options=['Select the best one', '20', '24', '28', '29', 'None of the above'],\n",
    "                             value = 'Select the best one',  description='Choices:')\n",
    "\n",
    "question642 = \"4.5 How many triangles are in the above pentagon?\"\n",
    "\n",
    "def check642(g):\n",
    "    IPython.display.clear_output(wait=False)\n",
    "    display(question642, answer642)\n",
    "    if answer642.value == '28':\n",
    "        print(\"Correct Answer!\")\n",
    "    else:\n",
    "        if answer642.value == 'Select the best one':\n",
    "            pass\n",
    "        else:\n",
    "            print(\"Wrong answer! Try again.\")\n",
    "\n",
    "IPython.display.clear_output(wait=False)\n",
    "display(question642, answer642)\n",
    "answer642.observe(check642, 'value')"
   ]
  },
  {
   "cell_type": "markdown",
   "metadata": {},
   "source": [
    "[![Callysto.ca License](https://github.com/callysto/curriculum-notebooks/blob/master/callysto-notebook-banner-bottom.jpg?raw=true)](https://github.com/callysto/curriculum-notebooks/blob/master/LICENSE.md)"
   ]
  }
 ],
 "metadata": {
  "kernelspec": {
   "display_name": "Python 3.8.10 64-bit",
   "language": "python",
   "name": "python3"
  },
  "language_info": {
   "codemirror_mode": {
    "name": "ipython",
    "version": 3
   },
   "file_extension": ".py",
   "mimetype": "text/x-python",
   "name": "python",
   "nbconvert_exporter": "python",
   "pygments_lexer": "ipython3",
   "version": "3.8.10"
  },
  "vscode": {
   "interpreter": {
    "hash": "916dbcbb3f70747c44a77c7bcd40155683ae19c65e1c03b4aa3499c5328201f1"
   }
  }
 },
 "nbformat": 4,
 "nbformat_minor": 2
}
