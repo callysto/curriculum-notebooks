{
 "cells": [
  {
   "cell_type": "markdown",
   "metadata": {},
   "source": [
    "![Callysto.ca Banner](https://github.com/callysto/curriculum-notebooks/blob/master/callysto-notebook-banner-top.jpg?raw=true)\n",
    "\n",
    "<a href=\"https://hub.callysto.ca/jupyter/hub/user-redirect/git-pull?repo=https%3A%2F%2Fgithub.com%2Fcallysto%2Fcurriculum-notebooks&branch=master&subPath=Mathematics/CountingTriangles/counting-triangles.ipynb&depth=1\" target=\"_parent\"><img src=\"https://raw.githubusercontent.com/callysto/curriculum-notebooks/master/open-in-callysto-button.svg?sanitize=true\" width=\"123\" height=\"24\" alt=\"Open in Callysto\"/></a>"
   ]
  },
  {
   "cell_type": "code",
   "execution_count": null,
   "metadata": {},
   "outputs": [],
   "source": [
    "'''\n",
    "import numpy as np\n",
    "import matplotlib.mlab as mlab\n",
    "import matplotlib.pyplot as plt\n",
    "from ipywidgets import interact, widgets, Button, Layout\n",
    "\n",
    "from scipy import stats\n",
    "from collections import Counter\n",
    "from array import array\n",
    "from statistics import mode\n",
    "import IPython\n",
    "from IPython.display import Image\n",
    "import pandas\n",
    "\n",
    "from ggb import *\n",
    "ggb = GGB()\n",
    "'''"
   ]
  },
  {
   "cell_type": "markdown",
   "metadata": {},
   "source": [
    "# Math Puzzle: Counting triangles\n",
    "In this notebook we explore two methods for counting the total number of triangles in a pentagon. \n",
    "<br> Organization of the notebook: \n",
    " * Section 1 discusses some preliminaries for the problem.\n",
    " * Section 2 presents an animation of counting triangles in a pentagon.\n",
    " * Section 3 presents an alternate method for counting triangles in a pentagon.\n",
    " * Section 4 concludes the notebook with some exercises. "
   ]
  },
  {
   "cell_type": "markdown",
   "metadata": {},
   "source": [
    "## 1. Preliminaries\n",
    "Let's consider a pentagon $ABCDE.$ If we connect $B$ and $E$ then we can divide the pentagon into a triangle, $ABE$, and a rectangle, $BCDE$.<br>\n",
    "So, our preliminary discussion will be to count how many triangles we get as we divide the triangle and rectangle. \n",
    "![](images/pentaExample.png)\n",
    "\n",
    "### 1.1. Triangles in a triangle\n",
    "Let's consider a triangle $ABC$. First, we draw a line $AD$ from $A$ to $BC$ as shown in the following figure. <br>\n",
    "We can see that there are two triangles: $ABD$ and $ACD.$ <br>\n",
    "Actually in this picture there are three different triangles, since we still count the original triangle $ABC.$ \n",
    "![](images/exm1.png)\n"
   ]
  },
  {
   "cell_type": "markdown",
   "metadata": {},
   "source": [
    "Now let's add two points, $D$ and $E$, along the bottom, draw lines to them from $A$, and see what we get.\n",
    "\n",
    "![](images/exm2.png)\n",
    "\n",
    "Let us find the all triangles for this scenario. \n",
    "* Step 1: consider all smaller triangles. <br>\n",
    "From the figure we can see that the large triangle $ABC$ consists of three small triangles: $ABD, ADE, ACE$.\n",
    "* Step 2: try to merge two small triangles to make a larger triangle. <br>\n",
    "For example, if we merge triangle $ABD$ with $ADE$ then we find $ABE$. Similarly, we find $ACD$. \n",
    "* Step 3: join three small triangles to generate larger one. <br>\n",
    "Merging all three small triangles we find triangle $ABC.$ \n",
    "\n",
    "In total, there are $3+2+1=6$ triangles.\n",
    "\n",
    "Now if we add one more line $AF$ from $A$ to line $BC$, how many triangles do we get?.<br>\n",
    "Draw the triangle $ABC$ and count the triangles. <br>\n",
    "1. There are now 4 small triangles.\n",
    "2. There are three pairs of adjacent triangles we can combine to make larger triangles.\n",
    "3. There are two ways to combine three triangles: the first three, or the last three.\n",
    "4. As always, there is the original big triangle.\n",
    "\n",
    "Did you find the answer? We have $4+3+2+1=10$ triangles.\n",
    "\n",
    "Can you guess how many triangles we'll get if we add one more line from the top to the bottom?<br>\n",
    "\n",
    "* With 0 lines, there was $1$ triangle.\n",
    "* With 1 line, there were $1+2=3$ triangles.\n",
    "* With 2 lines, there were $1+2+3=6$ triangles.\n",
    "* With 3 lines, there were $1+2+3+4=10$ triangles.\n",
    "\n",
    "Did you guess 15 triangles for the next step? If so, well done!<br>\n",
    "The numbers that count how many triangles we have at each step are called the [***triangular numbers***](https://en.wikipedia.org/wiki/Triangular_number).\n",
    "\n",
    "The name comes from something a child might observe while stacking blocks:<br>\n",
    "It's the number of blocks you need to create a stack of blocks in the shape of a triangle:\n",
    "\n",
    "![](images/triangular_numbers.png)\n",
    "In the above figure, **L** denotes the number of \"lines\" in a triangle.\n",
    "\n",
    "If you're comfortable with formulas, here's a cool fact:<br>\n",
    "The number of blocks needed to make a triangular stack with $n$ levels is $\\dfrac{n(n+1)}{2}$ ; where $n = L + 1$\n",
    "\n",
    "There's a fun (but maybe not entirely true) story associated with this formula:<br>\n",
    "As a child, the mathematician [Carl Friederic Gauss](https://en.wikipedia.org/wiki/Carl_Friedrich_Gauss) was annoying his teacher one day.<br>\n",
    "To keep Gauss busy, the teacher asked him to add up the numbers from 1 to 100.<br>\n",
    "In a matter of minutes, Gauss discovered the formula, determined the answer (which is $\\dfrac{100\\times 101}{2}=5050$), and went back to annoying his teacher.\n",
    "\n",
    "For better understanding consider the following animation. Change the slider value of $n$ and observe how we count the triangles. \n"
   ]
  },
  {
   "cell_type": "code",
   "execution_count": null,
   "metadata": {},
   "outputs": [],
   "source": [
    "import pandas as pd\n",
    "\n",
    "'''\n",
    "df = pd.DataFrame(columns=['Point','x', 'y'])\n",
    "def add_point(label, x, y):\n",
    "    df.loc[len(df)] = [label, x, y]\n",
    "    return df\n",
    "add_point('A', 0, 0)\n",
    "add_point('B', 2, 0)\n",
    "add_point('C', 2, 2)\n",
    "add_point('D', 0, 2)\n",
    "add_point('E', 1, 1)\n",
    "add_point('F', 1, 3)\n",
    "df.to_csv('points0.csv')\n",
    "'''\n",
    "df0 = pd.read_csv('points0.csv')\n",
    "df0"
   ]
  },
  {
   "cell_type": "code",
   "execution_count": null,
   "metadata": {
    "scrolled": false
   },
   "outputs": [],
   "source": [
    "import plotly.express as px\n",
    "\n",
    "df_plot = pd.DataFrame(columns=['Point','x','y'])\n",
    "for p in ['A','B','C','D','A','E','C','B','D','F','C']:\n",
    "    df_plot = pd.concat([df_plot, df[df['Point']==p]])\n",
    "\n",
    "fig = px.line(df_plot, x='x', y='y', text='Point')\n",
    "fig.update_traces(textposition='bottom left')\n",
    "fig.update_xaxes(range=[-1, 3], visible=False).update_yaxes(range=[-1, 4], visible=False)#.update_layout(showlegend=False)\n",
    "fig.show()"
   ]
  },
  {
   "cell_type": "code",
   "execution_count": null,
   "metadata": {},
   "outputs": [],
   "source": [
    "def add_triangle(points):\n",
    "    points.sort()\n",
    "    plot_this = pd.concat([df[df['Point'].isin(points)], df[df['Point']==points[0]]])\n",
    "    fig.add_trace(go.Scatter(x=plot_this['x'], y=plot_this['y'], text=plot_this['Point'], mode='lines', fill='toself', opacity=0.5))\n",
    "\n",
    "add_triangle(['A','E','B'])\n",
    "add_triangle(['B','E','C'])\n",
    "add_triangle(['D','E','C'])\n",
    "add_triangle(['E','A','D'])\n",
    "add_triangle(['D','F','C'])\n",
    "fig.show()\n"
   ]
  },
  {
   "cell_type": "code",
   "execution_count": null,
   "metadata": {},
   "outputs": [],
   "source": [
    "fig.update_traces(visible='legendonly', selector={'opacity':0.5})\n",
    "add_triangle(['A','B','C'])\n",
    "fig.show()"
   ]
  },
  {
   "cell_type": "markdown",
   "metadata": {},
   "source": [
    "### 1.2. Triangles in a rectangle\n",
    "\n",
    "To determine the number of triangles in a rectangle, at first label every small triangle. The total number of triangles will be the double of highest labelling number. For example, consider a rectangle ABCD, where every vertex is connected with each other. If we start to label the smaller triangles from $1$ we end up with four triangles. So, the total number of triangles is $4 \\times 2 = 8$. Now, play with the following animation.\n"
   ]
  },
  {
   "cell_type": "code",
   "execution_count": null,
   "metadata": {
    "scrolled": true
   },
   "outputs": [],
   "source": [
    "ggb.file('sources/quadAnimation.ggb').draw()"
   ]
  },
  {
   "cell_type": "markdown",
   "metadata": {},
   "source": [
    "## 2. Triangles in a pentagon  \n",
    "\n",
    "Now that we've seen how to count how many triangles we get when we draw lines in a larger triangle, and how to count triangles in a rectangle, we put the two together, and determine the number of triangles in a pentagon, as the next animation demonstrates."
   ]
  },
  {
   "cell_type": "code",
   "execution_count": null,
   "metadata": {},
   "outputs": [],
   "source": [
    "ggb.file('sources/pentaAnimation.ggb').draw()"
   ]
  },
  {
   "cell_type": "markdown",
   "metadata": {},
   "source": [
    "## 3. Alternate Method for counting triangles\n",
    "There is a second method to count the triangles in a pentagon, when all vertices are connected.<br>\n",
    "This is the angular, or symmetry method. It relies on the following fact: \n",
    "\n",
    "> Rotating a regular pentagon by $72^\\circ$ (one fifth of a full rotation) produces the same pentagon.<br>\n",
    "> (In other words, all that changes is the labelling of the corners.)\n",
    "\n",
    "Here, we will count all similar triangles at a time. <br>\n",
    "There are seven distinct groups of triangles in a pentagon when all vertices are connected with each other.<br>\n",
    "The symmetry noted above tells us there are 5 triangles in each group. <br>\n",
    "So the total number of the triangles in the Pentagon is 7x5=35.\n",
    "\n",
    "Let's play the following animation to find the seven groups. The sliders $n$ and $i$ represent the number of groups and the number of triangles corresponding to a group, respectively."
   ]
  },
  {
   "cell_type": "code",
   "execution_count": null,
   "metadata": {},
   "outputs": [],
   "source": [
    "ggb.file('sources/pentaMethod2.ggb').draw()"
   ]
  },
  {
   "cell_type": "markdown",
   "metadata": {},
   "source": [
    "## 4. Test yourself"
   ]
  },
  {
   "cell_type": "code",
   "execution_count": null,
   "metadata": {},
   "outputs": [],
   "source": [
    "def display(question, answerList):\n",
    "    print(question)\n",
    "    IPython.display.display(answerList)"
   ]
  },
  {
   "cell_type": "markdown",
   "metadata": {},
   "source": [
    "Consider the following triangle ABC: \n",
    "![](images/ex1.png)"
   ]
  },
  {
   "cell_type": "code",
   "execution_count": null,
   "metadata": {},
   "outputs": [],
   "source": [
    "answer642 = widgets.RadioButtons(options=['Select the best one', '20', '10', '22', '12', 'None of the above'],\n",
    "                             value = 'Select the best one',  description='Choices:')\n",
    "\n",
    "question642 = \"4.1 How many triangles are in the above triangle?\"\n",
    "\n",
    "def check642(g):\n",
    "    IPython.display.clear_output(wait=False)\n",
    "    display(question642, answer642)\n",
    "    if answer642.value == '20':\n",
    "        print(\"Correct Answer!\")\n",
    "    else:\n",
    "        if answer642.value == 'Select the best one':\n",
    "            pass\n",
    "        else:\n",
    "            print(\"Wrong answer! Try again.\")\n",
    "\n",
    "IPython.display.clear_output(wait=False)\n",
    "display(question642, answer642)\n",
    "answer642.observe(check642, 'value')"
   ]
  },
  {
   "cell_type": "markdown",
   "metadata": {},
   "source": [
    "In the following figure two small rectangles (ADEF and BCEF) join each other and produce another large rectangle ABCD: \n",
    "![](images/ex3.png)"
   ]
  },
  {
   "cell_type": "code",
   "execution_count": null,
   "metadata": {},
   "outputs": [],
   "source": [
    "answer642 = widgets.RadioButtons(options=['Select the best one', '20', '22', '24', '26', 'None of the above'],\n",
    "                             value = 'Select the best one',  description='Choices:')\n",
    "\n",
    "question642 = \"4.2 How many triangles are in the large rectangle?\"\n",
    "\n",
    "def check642(g):\n",
    "    IPython.display.clear_output(wait=False)\n",
    "    display(question642, answer642)\n",
    "    if answer642.value == '26':\n",
    "        print(\"Correct Answer!\")\n",
    "    else:\n",
    "        if answer642.value == 'Select the best one':\n",
    "            pass\n",
    "        else:\n",
    "            print(\"Wrong answer! Try again.\")\n",
    "\n",
    "IPython.display.clear_output(wait=False)\n",
    "display(question642, answer642)\n",
    "answer642.observe(check642, 'value')"
   ]
  },
  {
   "cell_type": "markdown",
   "metadata": {},
   "source": [
    "Consider a pentagon as drawn in the following figure: \n",
    "![](images/ex4.png)"
   ]
  },
  {
   "cell_type": "code",
   "execution_count": null,
   "metadata": {},
   "outputs": [],
   "source": [
    "answer642 = widgets.RadioButtons(options=['Select the best one', '20', '17', '15', '13', 'None of the above'],\n",
    "                             value = 'Select the best one',  description='Choices:')\n",
    "\n",
    "question642 = \"4.3 How many triangles are in the above pentagon?\"\n",
    "\n",
    "def check642(g):\n",
    "    IPython.display.clear_output(wait=False)\n",
    "    display(question642, answer642)\n",
    "    if answer642.value == '17':\n",
    "        print(\"Correct Answer!\")\n",
    "    else:\n",
    "        if answer642.value == 'Select the best one':\n",
    "            pass\n",
    "        else:\n",
    "            print(\"Wrong answer! Try again.\")\n",
    "\n",
    "IPython.display.clear_output(wait=False)\n",
    "display(question642, answer642)\n",
    "answer642.observe(check642, 'value')"
   ]
  },
  {
   "cell_type": "markdown",
   "metadata": {},
   "source": [
    "A pentagon ABCDE and a rectangle touch as like as the following figure: \n",
    "![](images/ex5.png)"
   ]
  },
  {
   "cell_type": "code",
   "execution_count": null,
   "metadata": {},
   "outputs": [],
   "source": [
    "answer642 = widgets.RadioButtons(options=['Select the best one', '20', '18', '16', '14', 'None of the above'],\n",
    "                             value = 'Select the best one',  description='Choices:')\n",
    "\n",
    "question642 = \"4.4 How many triangles are in the above figure?\"\n",
    "\n",
    "def check642(g):\n",
    "    IPython.display.clear_output(wait=False)\n",
    "    display(question642, answer642)\n",
    "    if answer642.value == '18':\n",
    "        print(\"Correct Answer!\")\n",
    "    else:\n",
    "        if answer642.value == 'Select the best one':\n",
    "            pass\n",
    "        else:\n",
    "            print(\"Wrong answer! Try again.\")\n",
    "\n",
    "IPython.display.clear_output(wait=False)\n",
    "display(question642, answer642)\n",
    "answer642.observe(check642, 'value')"
   ]
  },
  {
   "cell_type": "markdown",
   "metadata": {},
   "source": [
    "Again consider a pentagon: \n",
    "![](images/ex6.png)"
   ]
  },
  {
   "cell_type": "code",
   "execution_count": null,
   "metadata": {},
   "outputs": [],
   "source": [
    "answer642 = widgets.RadioButtons(options=['Select the best one', '20', '24', '28', '29', 'None of the above'],\n",
    "                             value = 'Select the best one',  description='Choices:')\n",
    "\n",
    "question642 = \"4.5 How many triangles are in the above pentagon?\"\n",
    "\n",
    "def check642(g):\n",
    "    IPython.display.clear_output(wait=False)\n",
    "    display(question642, answer642)\n",
    "    if answer642.value == '28':\n",
    "        print(\"Correct Answer!\")\n",
    "    else:\n",
    "        if answer642.value == 'Select the best one':\n",
    "            pass\n",
    "        else:\n",
    "            print(\"Wrong answer! Try again.\")\n",
    "\n",
    "IPython.display.clear_output(wait=False)\n",
    "display(question642, answer642)\n",
    "answer642.observe(check642, 'value')"
   ]
  },
  {
   "cell_type": "markdown",
   "metadata": {},
   "source": [
    "[![Callysto.ca License](https://github.com/callysto/curriculum-notebooks/blob/master/callysto-notebook-banner-bottom.jpg?raw=true)](https://github.com/callysto/curriculum-notebooks/blob/master/LICENSE.md)"
   ]
  }
 ],
 "metadata": {
  "kernelspec": {
   "display_name": "Python 3.8.10 64-bit",
   "language": "python",
   "name": "python3"
  },
  "language_info": {
   "codemirror_mode": {
    "name": "ipython",
    "version": 3
   },
   "file_extension": ".py",
   "mimetype": "text/x-python",
   "name": "python",
   "nbconvert_exporter": "python",
   "pygments_lexer": "ipython3",
   "version": "3.8.10"
  },
  "vscode": {
   "interpreter": {
    "hash": "916dbcbb3f70747c44a77c7bcd40155683ae19c65e1c03b4aa3499c5328201f1"
   }
  }
 },
 "nbformat": 4,
 "nbformat_minor": 2
}
