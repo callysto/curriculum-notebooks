{
 "cells": [
  {
   "cell_type": "markdown",
   "metadata": {},
   "source": [
    "![Callysto.ca Banner](https://github.com/callysto/curriculum-notebooks/blob/master/callysto-notebook-banner-top.jpg?raw=true)\n",
    "\n",
    "<a href=\"https://hub.callysto.ca/jupyter/hub/user-redirect/git-pull?repo=https%3A%2F%2Fgithub.com%2Fcallysto%2Fcurriculum-notebooks&branch=master&subPath=Mathematics/CountingTriangles/counting-triangles.ipynb&depth=1\" target=\"_parent\"><img src=\"https://raw.githubusercontent.com/callysto/curriculum-notebooks/master/open-in-callysto-button.svg?sanitize=true\" width=\"123\" height=\"24\" alt=\"Open in Callysto\"/></a>"
   ]
  },
  {
   "cell_type": "code",
   "execution_count": null,
   "metadata": {},
   "outputs": [],
   "source": [
    "import pandas as pd\n",
    "\n",
    "'''\n",
    "df = pd.DataFrame(columns=['Point','x', 'y'])\n",
    "def add_point(label, x, y):\n",
    "    df.loc[len(df)] = [label, x, y]\n",
    "    return df\n",
    "add_point('A', 0, 0)\n",
    "add_point('B', 2, 0)\n",
    "add_point('C', 2, 2)\n",
    "add_point('D', 0, 2)\n",
    "add_point('E', 1, 1)\n",
    "add_point('F', 1, 3)\n",
    "df.to_csv('points0.csv')\n",
    "'''\n",
    "df0 = pd.read_csv('points0.csv', index=False)\n",
    "df0"
   ]
  },
  {
   "cell_type": "markdown",
   "metadata": {},
   "source": [
    "# Math Puzzle: Counting Triangles\n",
    "\n",
    "In this notebook we will explore puzzles that involve counting triangles.\n",
    "\n",
    "## Introduction\n",
    "\n",
    "Triangles, like other [polygons](https://en.wikipedia.org/wiki/Polygon), can be named based on their angles. The triangle below could be named $ABC$, but notice that it also contains three smaller trianges:\n",
    "\n",
    "1. $ABD$\n",
    "2. $ADE$\n",
    "3. $ACE$.\n",
    "\n",
    "![triangle example 1](images/0.png)\n",
    "\n",
    "We can also see two more (slightly larger) triangles, $ABE$ and $ACD$. So in that drawing we have six triangles:\n",
    "\n",
    "1. $ABC$\n",
    "2. $ABD$\n",
    "3. $ADE$\n",
    "4. $ACE$\n",
    "5. $ABE$\n",
    "6. $ACD$\n",
    "\n",
    "## Challenge 1\n",
    "\n",
    "How many triangles can you count in this shape?\n",
    "\n",
    "![triangle problem 1](images/1.png)\n",
    "\n",
    "Let's create a visualization to check if you found them all. First we will read a data file that contains the coordinates of the points."
   ]
  },
  {
   "cell_type": "code",
   "execution_count": null,
   "metadata": {},
   "outputs": [],
   "source": [
    "import pandas as pd\n",
    "df = pd.read_csv('points1.csv')\n",
    "df"
   ]
  },
  {
   "cell_type": "markdown",
   "metadata": {},
   "source": [
    "Now that we have the points, we will make a list of the points in the order we want to connect them, and then draw the visualization."
   ]
  },
  {
   "cell_type": "code",
   "execution_count": null,
   "metadata": {
    "scrolled": false
   },
   "outputs": [],
   "source": [
    "point_list = ['A','B','C','D','A','C','B','D','E','F']\n",
    "df_plot = pd.DataFrame(columns=['Point','x','y'])\n",
    "for p in point_list:\n",
    "    df_plot = pd.concat([df_plot, df[df['Point'] == p]])\n",
    "\n",
    "import plotly.express as px\n",
    "fig = px.line(df_plot, x='x', y='y', text='Point')\n",
    "fig.update_traces(textposition='bottom left')\n",
    "fig.update_xaxes(range=[-1, df['x'].max()+1], visible=False).update_yaxes(range=[-1, df['y'].max()+1], visible=False)\n",
    "fig.show()"
   ]
  },
  {
   "cell_type": "markdown",
   "metadata": {},
   "source": [
    "Now let's highlight some of the triangles it contains."
   ]
  },
  {
   "cell_type": "code",
   "execution_count": null,
   "metadata": {},
   "outputs": [],
   "source": [
    "import plotly.graph_objects as go\n",
    "def add_triangle(points):\n",
    "    points.sort()\n",
    "    plot_this = pd.concat([df[df['Point'].isin(points)], df[df['Point']==points[0]]])\n",
    "    fig.add_trace(go.Scatter(x=plot_this['x'], y=plot_this['y'], text=plot_this['Point'], mode='lines', fill='toself', opacity=0.5))\n",
    "\n",
    "add_triangle(['A','G','B'])\n",
    "add_triangle(['B','G','F'])\n",
    "add_triangle(['F','G','C'])\n",
    "add_triangle(['C','G','D'])\n",
    "add_triangle(['D','G','E'])\n",
    "add_triangle(['E','G','A'])\n",
    "fig.show()"
   ]
  },
  {
   "cell_type": "markdown",
   "metadata": {},
   "source": [
    "So that's $6$ triangles so far, here are $2$ more."
   ]
  },
  {
   "cell_type": "code",
   "execution_count": null,
   "metadata": {},
   "outputs": [],
   "source": [
    "fig.update_traces(visible='legendonly', selector={'opacity':0.5}) # hide the previous triangles\n",
    "add_triangle(['A','B','C'])\n",
    "add_triangle(['A','C','D'])\n",
    "fig.show()"
   ]
  },
  {
   "cell_type": "markdown",
   "metadata": {},
   "source": [
    "And the $2$ that are opposite to those:"
   ]
  },
  {
   "cell_type": "code",
   "execution_count": null,
   "metadata": {},
   "outputs": [],
   "source": [
    "fig.update_traces(visible='legendonly', selector={'opacity':0.5})\n",
    "add_triangle(['B','C','D'])\n",
    "add_triangle(['A','B','D'])\n",
    "fig.show()"
   ]
  },
  {
   "cell_type": "markdown",
   "metadata": {},
   "source": [
    "And finally $2$ more on the sides:"
   ]
  },
  {
   "cell_type": "code",
   "execution_count": null,
   "metadata": {},
   "outputs": [],
   "source": [
    "fig.update_traces(visible='legendonly', selector={'opacity':0.5})\n",
    "add_triangle(['A','G','D'])\n",
    "add_triangle(['B','G','C'])\n",
    "fig.show()"
   ]
  },
  {
   "cell_type": "markdown",
   "metadata": {},
   "source": [
    "That is a total of 12 triangles in that shape. In the figure above you can click on the legend to turn traces on and off.\n",
    "\n",
    "## Challenge 2\n",
    "\n",
    "How many triangles can you count in the following image?\n",
    "\n",
    "![triangle example 1](images/1.png)"
   ]
  },
  {
   "cell_type": "code",
   "execution_count": null,
   "metadata": {},
   "outputs": [],
   "source": [
    "df = pd.read_csv('points1.csv')\n",
    "df_plot = pd.DataFrame(columns=['Point','x','y'])\n",
    "for p in ['A','B','C','A','D','E','A','F','C','H','G']:  # connect the points with lines in this order\n",
    "    df_plot = pd.concat([df_plot, df[df['Point']==p]])\n",
    "fig = px.line(df_plot, x='x', y='y', text='Point')  # create the plot\n",
    "fig.update_traces(textposition='bottom left')\n",
    "fig.update_xaxes(range=[-1, df['x'].max()+1], visible=False).update_yaxes(range=[-1, df['y'].max()+1], visible=False)\n",
    "fig.show()"
   ]
  },
  {
   "cell_type": "code",
   "execution_count": null,
   "metadata": {},
   "outputs": [],
   "source": [
    "\n",
    "\n",
    "add_triangle(['A','E','B'])\n",
    "add_triangle(['B','E','C'])\n",
    "add_triangle(['D','E','C'])\n",
    "add_triangle(['E','A','D'])\n",
    "add_triangle(['D','F','C'])\n",
    "fig.show()\n"
   ]
  },
  {
   "cell_type": "code",
   "execution_count": null,
   "metadata": {},
   "outputs": [],
   "source": [
    "fig.update_traces(visible='legendonly', selector={'opacity':0.5})\n",
    "add_triangle(['A','B','C'])\n",
    "fig.show()"
   ]
  },
  {
   "cell_type": "markdown",
   "metadata": {},
   "source": [
    "### 1.2. Triangles in a rectangle\n",
    "\n",
    "To determine the number of triangles in a rectangle, at first label every small triangle. The total number of triangles will be the double of highest labelling number. For example, consider a rectangle ABCD, where every vertex is connected with each other. If we start to label the smaller triangles from $1$ we end up with four triangles. So, the total number of triangles is $4 \\times 2 = 8$. Now, play with the following animation.\n"
   ]
  },
  {
   "cell_type": "code",
   "execution_count": null,
   "metadata": {
    "scrolled": true
   },
   "outputs": [],
   "source": [
    "ggb.file('sources/quadAnimation.ggb').draw()"
   ]
  },
  {
   "cell_type": "markdown",
   "metadata": {},
   "source": [
    "## 2. Triangles in a pentagon  \n",
    "\n",
    "Now that we've seen how to count how many triangles we get when we draw lines in a larger triangle, and how to count triangles in a rectangle, we put the two together, and determine the number of triangles in a pentagon, as the next animation demonstrates."
   ]
  },
  {
   "cell_type": "code",
   "execution_count": null,
   "metadata": {},
   "outputs": [],
   "source": [
    "ggb.file('sources/pentaAnimation.ggb').draw()"
   ]
  },
  {
   "cell_type": "markdown",
   "metadata": {},
   "source": [
    "## 3. Alternate Method for counting triangles\n",
    "There is a second method to count the triangles in a pentagon, when all vertices are connected.<br>\n",
    "This is the angular, or symmetry method. It relies on the following fact: \n",
    "\n",
    "> Rotating a regular pentagon by $72^\\circ$ (one fifth of a full rotation) produces the same pentagon.<br>\n",
    "> (In other words, all that changes is the labelling of the corners.)\n",
    "\n",
    "Here, we will count all similar triangles at a time. <br>\n",
    "There are seven distinct groups of triangles in a pentagon when all vertices are connected with each other.<br>\n",
    "The symmetry noted above tells us there are 5 triangles in each group. <br>\n",
    "So the total number of the triangles in the Pentagon is 7x5=35.\n",
    "\n",
    "Let's play the following animation to find the seven groups. The sliders $n$ and $i$ represent the number of groups and the number of triangles corresponding to a group, respectively."
   ]
  },
  {
   "cell_type": "code",
   "execution_count": null,
   "metadata": {},
   "outputs": [],
   "source": [
    "ggb.file('sources/pentaMethod2.ggb').draw()"
   ]
  },
  {
   "cell_type": "markdown",
   "metadata": {},
   "source": [
    "## 4. Test yourself"
   ]
  },
  {
   "cell_type": "code",
   "execution_count": null,
   "metadata": {},
   "outputs": [],
   "source": [
    "def display(question, answerList):\n",
    "    print(question)\n",
    "    IPython.display.display(answerList)"
   ]
  },
  {
   "cell_type": "markdown",
   "metadata": {},
   "source": [
    "Consider the following triangle ABC: \n",
    "![](images/ex1.png)"
   ]
  },
  {
   "cell_type": "code",
   "execution_count": null,
   "metadata": {},
   "outputs": [],
   "source": [
    "answer642 = widgets.RadioButtons(options=['Select the best one', '20', '10', '22', '12', 'None of the above'],\n",
    "                             value = 'Select the best one',  description='Choices:')\n",
    "\n",
    "question642 = \"4.1 How many triangles are in the above triangle?\"\n",
    "\n",
    "def check642(g):\n",
    "    IPython.display.clear_output(wait=False)\n",
    "    display(question642, answer642)\n",
    "    if answer642.value == '20':\n",
    "        print(\"Correct Answer!\")\n",
    "    else:\n",
    "        if answer642.value == 'Select the best one':\n",
    "            pass\n",
    "        else:\n",
    "            print(\"Wrong answer! Try again.\")\n",
    "\n",
    "IPython.display.clear_output(wait=False)\n",
    "display(question642, answer642)\n",
    "answer642.observe(check642, 'value')"
   ]
  },
  {
   "cell_type": "markdown",
   "metadata": {},
   "source": [
    "In the following figure two small rectangles (ADEF and BCEF) join each other and produce another large rectangle ABCD: \n",
    "![](images/ex3.png)"
   ]
  },
  {
   "cell_type": "code",
   "execution_count": null,
   "metadata": {},
   "outputs": [],
   "source": [
    "answer642 = widgets.RadioButtons(options=['Select the best one', '20', '22', '24', '26', 'None of the above'],\n",
    "                             value = 'Select the best one',  description='Choices:')\n",
    "\n",
    "question642 = \"4.2 How many triangles are in the large rectangle?\"\n",
    "\n",
    "def check642(g):\n",
    "    IPython.display.clear_output(wait=False)\n",
    "    display(question642, answer642)\n",
    "    if answer642.value == '26':\n",
    "        print(\"Correct Answer!\")\n",
    "    else:\n",
    "        if answer642.value == 'Select the best one':\n",
    "            pass\n",
    "        else:\n",
    "            print(\"Wrong answer! Try again.\")\n",
    "\n",
    "IPython.display.clear_output(wait=False)\n",
    "display(question642, answer642)\n",
    "answer642.observe(check642, 'value')"
   ]
  },
  {
   "cell_type": "markdown",
   "metadata": {},
   "source": [
    "Consider a pentagon as drawn in the following figure: \n",
    "![](images/ex4.png)"
   ]
  },
  {
   "cell_type": "code",
   "execution_count": null,
   "metadata": {},
   "outputs": [],
   "source": [
    "answer642 = widgets.RadioButtons(options=['Select the best one', '20', '17', '15', '13', 'None of the above'],\n",
    "                             value = 'Select the best one',  description='Choices:')\n",
    "\n",
    "question642 = \"4.3 How many triangles are in the above pentagon?\"\n",
    "\n",
    "def check642(g):\n",
    "    IPython.display.clear_output(wait=False)\n",
    "    display(question642, answer642)\n",
    "    if answer642.value == '17':\n",
    "        print(\"Correct Answer!\")\n",
    "    else:\n",
    "        if answer642.value == 'Select the best one':\n",
    "            pass\n",
    "        else:\n",
    "            print(\"Wrong answer! Try again.\")\n",
    "\n",
    "IPython.display.clear_output(wait=False)\n",
    "display(question642, answer642)\n",
    "answer642.observe(check642, 'value')"
   ]
  },
  {
   "cell_type": "markdown",
   "metadata": {},
   "source": [
    "A pentagon ABCDE and a rectangle touch as like as the following figure: \n",
    "![](images/ex5.png)"
   ]
  },
  {
   "cell_type": "code",
   "execution_count": null,
   "metadata": {},
   "outputs": [],
   "source": [
    "answer642 = widgets.RadioButtons(options=['Select the best one', '20', '18', '16', '14', 'None of the above'],\n",
    "                             value = 'Select the best one',  description='Choices:')\n",
    "\n",
    "question642 = \"4.4 How many triangles are in the above figure?\"\n",
    "\n",
    "def check642(g):\n",
    "    IPython.display.clear_output(wait=False)\n",
    "    display(question642, answer642)\n",
    "    if answer642.value == '18':\n",
    "        print(\"Correct Answer!\")\n",
    "    else:\n",
    "        if answer642.value == 'Select the best one':\n",
    "            pass\n",
    "        else:\n",
    "            print(\"Wrong answer! Try again.\")\n",
    "\n",
    "IPython.display.clear_output(wait=False)\n",
    "display(question642, answer642)\n",
    "answer642.observe(check642, 'value')"
   ]
  },
  {
   "cell_type": "markdown",
   "metadata": {},
   "source": [
    "Again consider a pentagon: \n",
    "![](images/ex6.png)"
   ]
  },
  {
   "cell_type": "code",
   "execution_count": null,
   "metadata": {},
   "outputs": [],
   "source": [
    "answer642 = widgets.RadioButtons(options=['Select the best one', '20', '24', '28', '29', 'None of the above'],\n",
    "                             value = 'Select the best one',  description='Choices:')\n",
    "\n",
    "question642 = \"4.5 How many triangles are in the above pentagon?\"\n",
    "\n",
    "def check642(g):\n",
    "    IPython.display.clear_output(wait=False)\n",
    "    display(question642, answer642)\n",
    "    if answer642.value == '28':\n",
    "        print(\"Correct Answer!\")\n",
    "    else:\n",
    "        if answer642.value == 'Select the best one':\n",
    "            pass\n",
    "        else:\n",
    "            print(\"Wrong answer! Try again.\")\n",
    "\n",
    "IPython.display.clear_output(wait=False)\n",
    "display(question642, answer642)\n",
    "answer642.observe(check642, 'value')"
   ]
  },
  {
   "cell_type": "markdown",
   "metadata": {},
   "source": [
    "[![Callysto.ca License](https://github.com/callysto/curriculum-notebooks/blob/master/callysto-notebook-banner-bottom.jpg?raw=true)](https://github.com/callysto/curriculum-notebooks/blob/master/LICENSE.md)"
   ]
  }
 ],
 "metadata": {
  "kernelspec": {
   "display_name": "Python 3.10.1 64-bit",
   "language": "python",
   "name": "python3"
  },
  "language_info": {
   "codemirror_mode": {
    "name": "ipython",
    "version": 3
   },
   "file_extension": ".py",
   "mimetype": "text/x-python",
   "name": "python",
   "nbconvert_exporter": "python",
   "pygments_lexer": "ipython3",
   "version": "3.10.1"
  },
  "vscode": {
   "interpreter": {
    "hash": "d1ca6d17674200220921376aaeb3d36cffe15ecab2470a9a5e7a456cdbf61425"
   }
  }
 },
 "nbformat": 4,
 "nbformat_minor": 2
}
