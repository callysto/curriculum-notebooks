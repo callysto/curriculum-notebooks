{
 "cells": [
  {
   "cell_type": "markdown",
   "metadata": {},
   "source": [
    "[![logo](https://callysto.ca/wp-content/uploads/2018/06/Callysto_Notebook-Banner_Top_06.06.18.jpg)](https://callysto.ca)"
   ]
  },
  {
   "cell_type": "code",
   "execution_count": 1,
   "metadata": {},
   "outputs": [
    {
     "data": {
      "text/html": [
       "\n",
       "<script>\n",
       "  function code_toggle() {\n",
       "    if (code_shown){\n",
       "      $('div.input').hide('500');\n",
       "      $('#toggleButton').val('Show Code')\n",
       "    } else {\n",
       "      $('div.input').show('500');\n",
       "      $('#toggleButton').val('Hide Code')\n",
       "    }\n",
       "    code_shown = !code_shown\n",
       "  }\n",
       "\n",
       "  $( document ).ready(function(){\n",
       "    code_shown=false;\n",
       "    $('div.input').hide()\n",
       "  });\n",
       "</script>\n",
       "<form action=\"javascript:code_toggle()\"><input type=\"submit\" id=\"toggleButton\" value=\"Show Code\"></form>\n"
      ],
      "text/plain": [
       "<IPython.core.display.HTML object>"
      ]
     },
     "metadata": {},
     "output_type": "display_data"
    }
   ],
   "source": [
    "%%html\n",
    "\n",
    "<script>\n",
    "  function code_toggle() {\n",
    "    if (code_shown){\n",
    "      $('div.input').hide('500');\n",
    "      $('#toggleButton').val('Show Code')\n",
    "    } else {\n",
    "      $('div.input').show('500');\n",
    "      $('#toggleButton').val('Hide Code')\n",
    "    }\n",
    "    code_shown = !code_shown\n",
    "  }\n",
    "\n",
    "  $( document ).ready(function(){\n",
    "    code_shown=false;\n",
    "    $('div.input').hide()\n",
    "  });\n",
    "</script>\n",
    "<form action=\"javascript:code_toggle()\"><input type=\"submit\" id=\"toggleButton\" value=\"Show Code\"></form>"
   ]
  },
  {
   "cell_type": "code",
   "execution_count": 2,
   "metadata": {},
   "outputs": [
    {
     "data": {
      "text/html": [
       "<script src=\"https://code.jquery.com/jquery-3.3.1.slim.min.js\" integrity=\"sha384-q8i/X+965DzO0rT7abK41JStQIAqVgRVzpbzo5smXKp4YfRvH+8abtTE1Pi6jizo\" crossorigin=\"anonymous\"></script\n",
       "<script type=\"text/javascript\" src=\"https://d3js.org/d3.v3.min.js\"></script>\n",
       "<script type=\"text/x-mathjax-config\">\n",
       "            MathJax.Hub.Config({tex2jax: {inlineMath: [['$','$'], ['\\\\(','\\\\)']]}});\n",
       "</script>\n",
       "<script type=\"text/javascript\" async\n",
       "            src=\"https://cdnjs.cloudflare.com/ajax/libs/mathjax/2.7.4/MathJax.js?config=TeX-MML-AM_CHTML\">\n",
       "</script>\n",
       "<script src=\"./js/nt.js\"></script>\n",
       "<link rel=\"stylesheet\" href=\"css/combinations.css\">\n",
       "<link rel=\"stylesheet\" type=\"text/css\" href=\"css/nt.css\">\n"
      ],
      "text/plain": [
       "<IPython.core.display.HTML object>"
      ]
     },
     "metadata": {},
     "output_type": "display_data"
    }
   ],
   "source": [
    "%%html\n",
    "<script src=\"https://code.jquery.com/jquery-3.3.1.slim.min.js\" integrity=\"sha384-q8i/X+965DzO0rT7abK41JStQIAqVgRVzpbzo5smXKp4YfRvH+8abtTE1Pi6jizo\" crossorigin=\"anonymous\"></script\n",
    "<script type=\"text/javascript\" src=\"https://d3js.org/d3.v3.min.js\"></script>\n",
    "<script type=\"text/x-mathjax-config\">\n",
    "            MathJax.Hub.Config({tex2jax: {inlineMath: [['$','$'], ['\\\\(','\\\\)']]}});\n",
    "</script>\n",
    "<script type=\"text/javascript\" async\n",
    "            src=\"https://cdnjs.cloudflare.com/ajax/libs/mathjax/2.7.4/MathJax.js?config=TeX-MML-AM_CHTML\">\n",
    "</script>\n",
    "<script src=\"./js/nt.js\"></script>\n",
    "<link rel=\"stylesheet\" href=\"css/combinations.css\">\n",
    "<link rel=\"stylesheet\" type=\"text/css\" href=\"css/nt.css\">"
   ]
  },
  {
   "cell_type": "markdown",
   "metadata": {},
   "source": [
    "# Combinations\n",
    "<p style=\"text-align: center;margin-right: 50px;\">*by Nathan Tipper*</p>\n",
    "\n",
    "\n",
    "In this Jupyter notebook, we will be exploring the concept of combinations. Combinations introduce another way to deal with certain types of counting problems along with permutations. Questions that can be asked and that can be solved using combinations include: \n",
    "\n",
    "* What is the probability of a lotto 6/49 ticket winning the lottery?\n",
    "* How many ways can we arrange seating in a restaurant?\n",
    "* How many ways can $n$ people shake each others hand?\n",
    "\n",
    "## What is a combination?\n",
    "\n",
    "A combination is much like a permutation, except now we consider sets where the order does not matter. What does that mean? Well, if we have a set of circles where the colors are { $ Green, Red, Blue$ } and another set { $ Red, Green, Blue $ } we say that these sets have the same *combination* of elements and are therefore the same. Below we have Pascal's triangle, where the a number in the triangle is the sum of the two numbers directly above it. You can highlight the numbers added together by hovering over a particular number. We will see why this is related to combinations in the next section."
   ]
  },
  {
   "cell_type": "code",
   "execution_count": 3,
   "metadata": {
    "scrolled": false
   },
   "outputs": [
    {
     "data": {
      "text/html": [
       "<script type=\"text/javascript\" src=\"https://d3js.org/d3.v3.min.js\"></script>\n",
       "<script src=\"js/combinations.js\"></script>\n",
       "\n",
       "<div id=\"pascals-triangle-container\">\n",
       "    <h2>Pascals Triangle</h2>\n",
       "</div>\n"
      ],
      "text/plain": [
       "<IPython.core.display.HTML object>"
      ]
     },
     "metadata": {},
     "output_type": "display_data"
    }
   ],
   "source": [
    "%%html\n",
    "<script type=\"text/javascript\" src=\"https://d3js.org/d3.v3.min.js\"></script>\n",
    "<script src=\"js/combinations.js\"></script>\n",
    "\n",
    "<div id=\"pascals-triangle-container\">\n",
    "    <h2>Pascals Triangle</h2>\n",
    "</div>"
   ]
  },
  {
   "cell_type": "markdown",
   "metadata": {},
   "source": [
    "## Binomial Coefficient\n",
    "\n",
    "If we reconsider the $_nP_r$ equation, we will remember that the formula for permutations is $\\frac{n!}{(n-r)!}$. However, now we must consider when we have sets that are the same. The permuations formula will not be enough to consider this scenario. We need to think about how to eliminate the double counting of sets that contain the same elements. Going back to permutations again, how many different ways are there to arrange $r$ unique elements? Well we know that there are $r!$ to arrange the elements in the set of $r$ unique elements. Therefore, we can use this knowledge to modify the permutations formula by dividing adding $r!$ to the denominator, meaning we also divide by the number of different ways we can arrange $r$ elements, and we get the number of combinations within the set. This formula is known as the **Binomial Coefficient**: \n",
    "\n",
    "$_nC_r = \\frac{n!}{r!(n-r)!}$ \n",
    "\n",
    "Note: Sometimes instead of the above notation ($_nC_r$), the **Binomial Coefficient** can we written like so:  $\\binom{n}{r}$\n",
    "\n",
    "Click on the $_nC_r$ cells and give the answer using the Binomial Coefficient."
   ]
  },
  {
   "cell_type": "code",
   "execution_count": 4,
   "metadata": {
    "scrolled": false
   },
   "outputs": [
    {
     "data": {
      "text/html": [
       "\n",
       "<script src=\"js/check_table.js\"></script>\n",
       "<link rel=\"stylesheet\" href=\"css/combinations.css\">\n",
       "\n",
       "<div id=\"n-choose-r-table-container\">\n",
       "            \n",
       "</div>\n",
       "<div id=\"pascal-triangle-solutions-container\">\n",
       "\n",
       "</div>\n",
       "<div style=\"clear: both;\"></div>\n",
       "<div id=\"table-buttons-div\">\n",
       "    <input id=\"submit-table-button\" type=\"button\" value=\"Submit answers\" onclick=\"checkTable()\">\n",
       "    <input id=\"show-table-solutions-button\" class=\"hidden\" type=\"button\" value=\"Show Solutions\" onclick=\"showTableSolutions()\">\n",
       "</div>\n",
       "<div id=\"detailed-table-solutions\">\n",
       "    \n",
       "</div>\n"
      ],
      "text/plain": [
       "<IPython.core.display.HTML object>"
      ]
     },
     "metadata": {},
     "output_type": "display_data"
    }
   ],
   "source": [
    "%%html\n",
    "\n",
    "<script src=\"js/check_table.js\"></script>\n",
    "<link rel=\"stylesheet\" href=\"css/combinations.css\">\n",
    "\n",
    "<div id=\"n-choose-r-table-container\">\n",
    "            \n",
    "</div>\n",
    "<div id=\"pascal-triangle-solutions-container\">\n",
    "\n",
    "</div>\n",
    "<div style=\"clear: both;\"></div>\n",
    "<div id=\"table-buttons-div\">\n",
    "    <input id=\"submit-table-button\" type=\"button\" value=\"Submit answers\" onclick=\"checkTable()\">\n",
    "    <input id=\"show-table-solutions-button\" class=\"hidden\" type=\"button\" value=\"Show Solutions\" onclick=\"showTableSolutions()\">\n",
    "</div>\n",
    "<div id=\"detailed-table-solutions\">\n",
    "    \n",
    "</div>"
   ]
  },
  {
   "cell_type": "markdown",
   "metadata": {},
   "source": [
    "As we can see, the solutions to the table above is simply pascals triangle.\n",
    "\n",
    "## Combinations in action\n",
    "\n",
    "How can we use this information of combinations in everyday life? Well, one of the better examples of a combination is the lottery. We will specifically look at lotto 6/49. In the lotto 6/49, there are 6 unique numbers which are printed on each ticket and the numbers range between 1 and 49. Let's break this down into a combination. How many number can we choose from? Well, if we are only getting numbers from the range of 1-49, then we have 49 numbers to choose from. How many numbers are we choosing? Well, we print 6 unique numbers on a ticket so, therefore, the answer is 6. We can now express this using the **Binomial Coefficient**: "
   ]
  },
  {
   "cell_type": "code",
   "execution_count": 5,
   "metadata": {},
   "outputs": [
    {
     "data": {
      "text/html": [
       "<style>\n",
       "    #binomial-coeffient-content-container {\n",
       "        margin-top: 10px;\n",
       "    }\n",
       "    \n",
       "    .binomial-co-question-container {\n",
       "        display: flex;\n",
       "        justify-content: space-between;\n",
       "        width: 25%;\n",
       "        margin-top: 20px;\n",
       "    }\n",
       "    \n",
       "    .binomial-co-question-answer {\n",
       "        width: 50px;\n",
       "        margin-left: 40px;\n",
       "        text-align: center;\n",
       "    }\n",
       "    \n",
       "    .binomial-co-question-feedback {\n",
       "        margin-left: 40px;\n",
       "        \n",
       "    }\n",
       "    \n",
       "    input[type=button] {\n",
       "        margin-top:20px;\n",
       "    }\n",
       "</style>\n",
       "<p id=\"binomial-co-question\">$_nC_r = _{49}C_6 = \\frac{?}{?} = ?$ </p>\n",
       "\n",
       "<div id=\"binomial-co-questions-container\">\n",
       "    <div class=\"binomial-co-question-container\">\n",
       "        <p>Numerator: </p>\n",
       "        <input class=\"binomial-co-question-answer\" type=\"text\" maxlength=3>\n",
       "        <p class=\"binomial-co-question-feedback hidden\">\n",
       "    </div>\n",
       "    <div class=\"binomial-co-question-container\">\n",
       "        <p>Denominator: </p>\n",
       "        <input class=\"binomial-co-question-answer\" type=\"text\" maxlength=8>\n",
       "        <p class=\"binomial-co-question-feedback hidden\">\n",
       "    </div>\n",
       "    <div class=\"binomial-co-question-container\">\n",
       "        <p>Answer: </p>\n",
       "        <input class=\"binomial-co-question-answer\" type=\"text\" maxlength=8>\n",
       "        <p class=\"binomial-co-question-feedback hidden\">\n",
       "    </div>\n",
       "    <input type=\"button\" value=\"Submit answers\" onclick=\"check_binomial_answers()\">\n",
       "</div>\n",
       "<div id=\"binomial-coeffient-content-container\" class=\"hidden\">\n",
       "    <p>There are $13983816$ combinations of numbers in the lotto 6/49 draw. Now, lotto 6/49 draws every week. If you \n",
       "    bought a ticket for the lottery every week, your chance of winning the lottery would be $\\frac{1}{13983816}$ which \n",
       "    is approximately 0.00000715% or conversely, the chances that you fail to win the lottery are \n",
       "    $1 - \\frac{1}{13983816} \\approx 99.9999925%$. Let's imagine that a ticket is 5 dollars and you play every week for a year. \n",
       "    For every week played, we simply just raise the odds to that power (since that is how many times we are attempting to win \n",
       "    the lottery). There are 52 weeks in a year, so the odds of failure are $(1-\\frac{1}{13983816})^{52} = 99.99962...$ which is \n",
       "    a 0.00038% chance of winning (1 - 99.99962). You just spent $5 * 52 = 260$ dollars on a 0.00038% chance to win the lottery. \n",
       "    Yikes.\n",
       "\n",
       "    Another everyday example of combinations, although not entirely useful, is making groups of students. In the next section \n",
       "    we will take a look at the probability of certain events happening using combinations.</p>\n",
       "</div>\n",
       "<script src=\"js/binomial_coefficient.js\"></script>\n"
      ],
      "text/plain": [
       "<IPython.core.display.HTML object>"
      ]
     },
     "metadata": {},
     "output_type": "display_data"
    }
   ],
   "source": [
    "%%html \n",
    "<style>\n",
    "    #binomial-coeffient-content-container {\n",
    "        margin-top: 10px;\n",
    "    }\n",
    "    \n",
    "    .binomial-co-question-container {\n",
    "        display: flex;\n",
    "        justify-content: space-between;\n",
    "        width: 25%;\n",
    "        margin-top: 20px;\n",
    "    }\n",
    "    \n",
    "    .binomial-co-question-answer {\n",
    "        width: 50px;\n",
    "        margin-left: 40px;\n",
    "        text-align: center;\n",
    "    }\n",
    "    \n",
    "    .binomial-co-question-feedback {\n",
    "        margin-left: 40px;\n",
    "        \n",
    "    }\n",
    "    \n",
    "    input[type=button] {\n",
    "        margin-top:20px;\n",
    "    }\n",
    "</style>\n",
    "<p id=\"binomial-co-question\">$_nC_r = _{49}C_6 = \\frac{?}{?} = ?$ </p>\n",
    "\n",
    "<div id=\"binomial-co-questions-container\">\n",
    "    <div class=\"binomial-co-question-container\">\n",
    "        <p>Numerator: </p>\n",
    "        <input class=\"binomial-co-question-answer\" type=\"text\" maxlength=3>\n",
    "        <p class=\"binomial-co-question-feedback hidden\">\n",
    "    </div>\n",
    "    <div class=\"binomial-co-question-container\">\n",
    "        <p>Denominator: </p>\n",
    "        <input class=\"binomial-co-question-answer\" type=\"text\" maxlength=8>\n",
    "        <p class=\"binomial-co-question-feedback hidden\">\n",
    "    </div>\n",
    "    <div class=\"binomial-co-question-container\">\n",
    "        <p>Answer: </p>\n",
    "        <input class=\"binomial-co-question-answer\" type=\"text\" maxlength=8>\n",
    "        <p class=\"binomial-co-question-feedback hidden\">\n",
    "    </div>\n",
    "    <input type=\"button\" value=\"Submit answers\" onclick=\"check_binomial_answers()\">\n",
    "</div>\n",
    "<div id=\"binomial-coeffient-content-container\" class=\"hidden\">\n",
    "    <p>There are $13983816$ combinations of numbers in the lotto 6/49 draw. Now, lotto 6/49 draws every week. If you \n",
    "    bought a ticket for the lottery every week, your chance of winning the lottery would be $\\frac{1}{13983816}$ which \n",
    "    is approximately 0.00000715% or conversely, the chances that you fail to win the lottery are \n",
    "    $1 - \\frac{1}{13983816} \\approx 99.9999925%$. Let's imagine that a ticket is 5 dollars and you play every week for a year. \n",
    "    For every week played, we simply just raise the odds to that power (since that is how many times we are attempting to win \n",
    "    the lottery). There are 52 weeks in a year, so the odds of failure are $(1-\\frac{1}{13983816})^{52} = 99.99962...$ which is \n",
    "    a 0.00038% chance of winning (1 - 99.99962). You just spent $5 * 52 = 260$ dollars on a 0.00038% chance to win the lottery. \n",
    "    Yikes.\n",
    "\n",
    "    Another everyday example of combinations, although not entirely useful, is making groups of students. In the next section \n",
    "    we will take a look at the probability of certain events happening using combinations.</p>\n",
    "</div>\n",
    "<script src=\"js/binomial_coefficient.js\"></script>"
   ]
  },
  {
   "cell_type": "markdown",
   "metadata": {},
   "source": [
    "## Probability using combinatorics\n",
    "\n",
    "Let's say we have a class of 20 students and the teacher would like make groups of 4 for a class project. If there are 12 girls and 8 boys in the class, what is the probability of a group being entirely made up of girls? Let's disect this question kind of question. One way to figure this out is to figure out how many ways we can make a group of all girls and then divide by the total number of groups we could make without any restrictions. Since we know that the order does not matter, since choosing a group with James, Sarah, Megan, and Michael is the same no matter the order we choose them, we know this is a combination. Therefore, let's calculate the number of ways we can get a group of all girls. We have 12 girls and groups of 4. Therefore we have: \n",
    "\n",
    "$_{12}C_{4} = \\frac{12!}{4!(8!)}$\n",
    "\n",
    "different ways to make a group of 4 from 12 girls. Now we must calculate the total number of combinations we can make from 20 students. So, we have:\n",
    "\n",
    "$_{20}C_{4} = \\frac{20!}{4!16!}$\n",
    "\n",
    "Now, we divide the number of ways the teacher can make a group of all girls (495) by the total number of ways we can arrange the class (4845) or:\n",
    "\n",
    "$\\frac{_{12}C_{4}}{_{20}C_{4}} = \\frac{\\frac{12!}{4!8!}}{\\frac{20!}{4!16!}} = \\frac{12!}{8!}*\\frac{16!}{20!}$"
   ]
  },
  {
   "cell_type": "code",
   "execution_count": 6,
   "metadata": {},
   "outputs": [
    {
     "data": {
      "text/html": [
       "<style>\n",
       "    #probability-using-combinations-question-container {\n",
       "        display: flex;\n",
       "        flex-direction: column;\n",
       "        justify-content: space-between;\n",
       "        width: 75%;\n",
       "    }\n",
       "    \n",
       "    input[type=text] {\n",
       "        height: 30px;\n",
       "        width: 100px;\n",
       "        text-align: center;\n",
       "        margin-top: 10px;\n",
       "    }\n",
       "</style>\n",
       "\n",
       "<div id=\"probability-using-combinations-question-container\"> \n",
       "    <p>What is the probability of the teacher making a group of all girls? (express as a percentage and round to the nearest hundredth)</p>\n",
       "    <input id=\"probability-answer\" type=\"text\" maxlength=8>\n",
       "    <p id=\"probability-feedback\" class=\"hidden\"></p>\n",
       "</div>\n",
       "<input type=\"button\" value=\"Submit answer\" onclick=\"check_probability_answer()\">\n"
      ],
      "text/plain": [
       "<IPython.core.display.HTML object>"
      ]
     },
     "metadata": {},
     "output_type": "display_data"
    }
   ],
   "source": [
    "%%html\n",
    "<style>\n",
    "    #probability-using-combinations-question-container {\n",
    "        display: flex;\n",
    "        flex-direction: column;\n",
    "        justify-content: space-between;\n",
    "        width: 75%;\n",
    "    }\n",
    "    \n",
    "    input[type=text] {\n",
    "        height: 30px;\n",
    "        width: 100px;\n",
    "        text-align: center;\n",
    "        margin-top: 10px;\n",
    "    }\n",
    "</style>\n",
    "\n",
    "<div id=\"probability-using-combinations-question-container\"> \n",
    "    <p>What is the probability of the teacher making a group of all girls? (express as a percentage and round to the nearest hundredth)</p>\n",
    "    <input id=\"probability-answer\" type=\"text\" maxlength=8>\n",
    "    <p id=\"probability-feedback\" class=\"hidden\"></p>\n",
    "</div>\n",
    "<input type=\"button\" value=\"Submit answer\" onclick=\"check_probability_answer()\">"
   ]
  },
  {
   "cell_type": "markdown",
   "metadata": {},
   "source": [
    "## Compound Events\n",
    "\n",
    "Sometimes we want to know the probability of certain events happening such as what is the probability of flipping a coin twice and it comes out heads both times. There are two types of events:\n",
    "\n",
    "* **Independent**: An event is independent if any other event does not affect it's outcome.\n",
    "* **Dependent**: An event is dependent if the result of another event has an inpact on the events outcome.\n",
    "\n",
    "Well let's think about what might be an independent event. If you flip a coin twice, does the result of the first flip have any affect on the second flip? The answer is no. Therefore, flipping a coin in this circumstance is an **independent** event. Now lets look at a deck of cards. If I ask you what is the probability of pulling two aces out of a deck, what do you think the probability is if you do not put the first card back into the deck? Well, a deck has 52 cards and 4 aces. Therefore, the first time I pick a card, the probability of me choosing an ace is $\\frac{4}{52} = \\frac{1}{13}$. When I pick an ace with my first choice, what happens to the probability of picking the second ace? Well, there is one less card in the deck and there is once less ace to choose from the deck. Therefore, the probability of choosing the second ace becomes $\\frac{3}{51} = \\frac{1}{17}$. We then multiply these events together to get the probability of drawing two aces:\n",
    "\n",
    "$\\frac{1}{13} * \\frac{1}{17} = \\frac{1}{221}$ or $0.4524\\%$\n",
    "\n",
    "This is an example of a **dependent** event. When we are looking at an event dealing with probability, the notation we use is $P(A)$ where A is the event we are considering.\n",
    "\n",
    "Let's explore the probability of an event a little more. What if we are to determine the probability of getting a heads and then pulling a 2 spades from a deck of 52 cards (and the card does not go back). This is what is called an *intersection of events* ($A \\cap B$). Alright, lets think about this one step at a time. Let's mark each event with a letter. We will say that the event of flipping a coin and getting a heads is $A$ and the probability ($P(A)$) of that event is $\\frac{1}{2}$. Now the second event, pulling two spades, is a **dependent** event and we will call it $B$. The probability of $B$ ($P(B)$) is $\\frac{13}{52} = \\frac{1}{13}$ for the first card and since we do not put that card back, it is $\\frac{12}{51} = \\frac{4}{17}$ for the second card. Now we multiply these events together to get:\n",
    "\n",
    "$P(B) = \\frac{1}{13} * \\frac{4}{17} = \\frac{4}{221}$\n",
    "\n",
    "Since we have compound events, we then multiply their probability together:\n",
    "\n",
    "$P(A \\cap B) = P(A) * P(B) = \\frac{1}{2} * \\frac{4}{221} = \\frac{4}{442}$\n",
    "\n",
    "Let's look at another question. If you were to roll two 6-sided die, what is the probability of getting a number which is even or divisible by 4? Well, since we are looking at rolling two 6 sided die, the numbers we can get are ${2,3,4,5,6,7,8,9,10,11,12}$. From those we can see that ${2,4,6,8,10,12}$ are the even numbers and ${4,8,12}$ are the numbers which are divisible by 4. Notice anything? If we were to take the probability of either event happening, we would be double counting, since the set of numbers that are divisible by 4 are in the set of numbers which are even. We account for this in the *Union of events* which we express as $P(A \\cup B) = P(A) + P(B) - P(A \\cap B )$ which reads *the probability of A or B is equal to the probability of event A plus the probablility of event B minus the probability of event A and event B*. The probability of rolling a number which is even is $\\frac{1}{2}$ and the probability of getting a number which is divisible by 4 is $\\frac{3}{12} = \\frac{1}{4}$. Now we need to multiply these probabilities to get $P(A \\cap B)$. Therefore,\n",
    "\n",
    "$P(A \\cap B) = \\frac{1}{2} * \\frac{1}{4} = \\frac{1}{8}$\n",
    "\n",
    "Now we calculate the union,\n",
    "\n",
    "$P(A \\cup B) = \\frac{1}{2} + \\frac{1}{4} - \\frac{1}{8} = \\frac{4}{8} + \\frac{2}{8} - \\frac{1}{8} = \\frac{5}{8}$\n",
    "\n",
    "Therefore, the chance of rolling an even number or a number that is divisible by 4 is $\\frac{5}{8}$"
   ]
  },
  {
   "cell_type": "code",
   "execution_count": 7,
   "metadata": {},
   "outputs": [
    {
     "data": {
      "text/html": [
       "\n",
       "<h2>Dependent vs Independent events</h2>\n",
       "<div id=\"dep-ind-exercise-container\" style=\"margin-top: 20px\">\n",
       "    \n",
       "</div>\n",
       "<div id=\"dep-ind-solution-container\">\n",
       "\n",
       "</div>\n",
       "<script>\n",
       "    nt.register(\"dep-ind-exercise-container\", \"dep-ind-solution-container\", \"./data/ind-dep.json\", function() {\n",
       "       nt.create_exercises(\"dep-ind-exercise-container\"); \n",
       "    });\n",
       "</script>\n"
      ],
      "text/plain": [
       "<IPython.core.display.HTML object>"
      ]
     },
     "metadata": {},
     "output_type": "display_data"
    }
   ],
   "source": [
    "%%html\n",
    "\n",
    "<h2>Dependent vs Independent events</h2>\n",
    "<div id=\"dep-ind-exercise-container\" style=\"margin-top: 20px\">\n",
    "    \n",
    "</div>\n",
    "<div id=\"dep-ind-solution-container\">\n",
    "\n",
    "</div>\n",
    "<script>\n",
    "    nt.register(\"dep-ind-exercise-container\", \"dep-ind-solution-container\", \"./data/ind-dep.json\", function() {\n",
    "       nt.create_exercises(\"dep-ind-exercise-container\"); \n",
    "    });\n",
    "</script>"
   ]
  },
  {
   "cell_type": "markdown",
   "metadata": {},
   "source": [
    "## Odds\n",
    "\n",
    "In this section we will explore the odds of an event happening and questions you may hear regarding odds. Odds are usually given in the form $a$:$b$ where $b$ is the the amount it will succeed and $a$ being the amount it will fail. You then total your numbers ($a + b$) to get the total number to divide by, and you get $\\frac{b}{a+b}$ chance of the event happening or $\\frac{a}{a+b}$ chance of the event failing. Let's look at a few examples: \n",
    "\n",
    "* If the odds of winning the lottery are 99:1 then you have a $\\frac{1}{99+1} = \\frac{1}{100} = 1\\%$\n",
    "* The odds of flipping a coin and getting a heads are 1:1 ($\\frac{1}{1+1} = \\frac{1}{2} = 50\\%$)\n",
    "* The odds of rolling a die and getting either a 5 or a 6 are 4:2 or 2:1 ($\\frac{1}{2+1} = \\frac{1}{3} = 33.33\\%$)\n",
    "\n",
    "However, this can be confusing sometimes when we see sports bets. However, if we look at the math, it makes sense. Usually we see things like 99:1 odds. This means that the event is unlikely ($\\frac{1}{100} = 1\\%$), so the bookie is willing to pay you out 99 dollars for every dollar you put into the pool. For instance, at 99:1 odds if you were to put in a 2 dollar bet and won, you would receive 198 dollars ($99 * 2$). Not too bad, hey? However, odds are never really this high unless the event is very unlikely to happen.\n",
    "\n",
    "## Exercises"
   ]
  },
  {
   "cell_type": "code",
   "execution_count": 8,
   "metadata": {
    "scrolled": false
   },
   "outputs": [
    {
     "data": {
      "text/html": [
       "<div id=\"combination-exercises-container\">\n",
       "    \n",
       "</div>\n",
       "<div id=\"combination-exercises-buttons-container\" class=\"clear-floats\">\n",
       "    <input id=\"submit-exercises-button\" type=\"button\" value=\"Submit answers\" onclick=\"checkExercises()\">\n",
       "    <input id=\"show-exercise-solutions-button\" class=\"hidden\" type=\"button\" value=\"Show solutions\" onclick=\"showExerciseSolutions()\"\n",
       "    <p id=\"exercise-error-message\" class=\"hidden\"></p>\n",
       "</div>\n",
       "<div id=\"combination-exercises-solutions-container\">\n",
       "\n",
       "</div>\n",
       "<script src=\"./js/create_exercises.js\"></script>\n"
      ],
      "text/plain": [
       "<IPython.core.display.HTML object>"
      ]
     },
     "metadata": {},
     "output_type": "display_data"
    }
   ],
   "source": [
    "%%html\n",
    "<div id=\"combination-exercises-container\">\n",
    "    \n",
    "</div>\n",
    "<div id=\"combination-exercises-buttons-container\" class=\"clear-floats\">\n",
    "    <input id=\"submit-exercises-button\" type=\"button\" value=\"Submit answers\" onclick=\"checkExercises()\">\n",
    "    <input id=\"show-exercise-solutions-button\" class=\"hidden\" type=\"button\" value=\"Show solutions\" onclick=\"showExerciseSolutions()\"\n",
    "    <p id=\"exercise-error-message\" class=\"hidden\"></p>\n",
    "</div>\n",
    "<div id=\"combination-exercises-solutions-container\">\n",
    "\n",
    "</div>\n",
    "<script src=\"./js/create_exercises.js\"></script>"
   ]
  },
  {
   "cell_type": "markdown",
   "metadata": {},
   "source": [
    "[![logo](https://callysto.ca/wp-content/uploads/2018/07/Callysto-Notebook-Banner_Bottom_07.30.18.jpg)](https://callysto.ca/)"
   ]
  },
  {
   "cell_type": "code",
   "execution_count": null,
   "metadata": {},
   "outputs": [],
   "source": []
  }
 ],
 "metadata": {
  "kernelspec": {
   "display_name": "Python 3",
   "language": "python",
   "name": "python3"
  },
  "language_info": {
   "codemirror_mode": {
    "name": "ipython",
    "version": 3
   },
   "file_extension": ".py",
   "mimetype": "text/x-python",
   "name": "python",
   "nbconvert_exporter": "python",
   "pygments_lexer": "ipython3",
   "version": "3.6.8"
  }
 },
 "nbformat": 4,
 "nbformat_minor": 2
}
