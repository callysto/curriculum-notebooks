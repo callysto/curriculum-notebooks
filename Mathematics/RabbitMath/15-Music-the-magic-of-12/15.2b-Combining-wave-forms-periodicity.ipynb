{
 "cells": [
  {
   "cell_type": "markdown",
   "metadata": {},
   "source": [
    "# 15.2b Combining wave forms - periodicity\n",
    "\n",
    "We can plot the sin wave of a note using the formula $y=\\sin(\\theta)$.\n",
    "\n",
    "The angle $\\theta$ depends on time ($t$) and the frequency ($f$) of the oscillations. For example, the note $A_4$ has a frequency of 440 Hz which means that in a time of $\\frac{1}{440}$ seconds the angle $\\theta$ needs to change by $2\\pi$, so $\\theta=2\\pi f t$.\n",
    "\n",
    "Thus the equation for graphing a note is $y=\\sin(2\\pi f t)$.\n",
    "\n",
    "Let's visualize some of these graphs. First some libraries to import."
   ]
  },
  {
   "cell_type": "code",
   "execution_count": null,
   "metadata": {},
   "outputs": [],
   "source": [
    "import plotly.graph_objects as go\n",
    "import numpy as np\n",
    "import pandas as pd"
   ]
  },
  {
   "cell_type": "markdown",
   "metadata": {},
   "source": [
    "Then we can generate a graph of a sine wave with a frequency of 440 Hz."
   ]
  },
  {
   "cell_type": "code",
   "execution_count": null,
   "metadata": {},
   "outputs": [],
   "source": [
    "f = 440 # Hz\n",
    "x = np.linspace(0, 0.05, f) # Generate f amount of numbers between 0 and 0.05 for the x-axis\n",
    "y = np.sin(2 * np.pi * f * x) # calculate the corresponding y values\n",
    "\n",
    "fig = go.Figure(data=go.Scatter(x=x, y=y))\n",
    "fig.show()"
   ]
  },
  {
   "cell_type": "markdown",
   "metadata": {},
   "source": [
    "Check the period of the above graph. Does it seem right?\n",
    "\n",
    "Now let's plot the sine graphs for C, G, and G#."
   ]
  },
  {
   "cell_type": "code",
   "execution_count": null,
   "metadata": {},
   "outputs": [],
   "source": [
    "f_C = 261.6\n",
    "f_G = 392.0\n",
    "f_Gsharp = 415.3\n",
    "\n",
    "def plotSineWave(f):\n",
    "    x = np.linspace(0, 0.05, int(np.floor(f))) # we need an integer value\n",
    "    y = np.sin(2 * np.pi * f * x) # calculate the corresponding y values\n",
    "    title = str(f) + ' Hz'\n",
    "    fig = go.Figure(data=go.Scatter(x=x, y=y))\n",
    "    fig.update_layout(title=go.layout.Title(text=title))\n",
    "    fig.show()\n",
    "    \n",
    "plotSineWave(f_C)\n",
    "plotSineWave(f_G)\n",
    "plotSineWave(f_Gsharp)"
   ]
  },
  {
   "cell_type": "markdown",
   "metadata": {},
   "source": [
    "When we play two notes at the same time, we get both oscillations:"
   ]
  },
  {
   "cell_type": "code",
   "execution_count": null,
   "metadata": {},
   "outputs": [],
   "source": [
    "f_C = 261.6\n",
    "f_G = 392.0\n",
    "f_Gsharp = 415.3\n",
    "\n",
    "def plotTwoSineWaves(f1, f2):\n",
    "    x = np.linspace(0, 0.05, int(np.floor(f2)))\n",
    "    y = np.sin(2 * np.pi * f1 * x) + np.sin(2 * np.pi * f2 * x)\n",
    "    fig = go.Figure(data=go.Scatter(x=x, y=y))\n",
    "    fig.update_layout(title=go.layout.Title(text=str(f1)+' Hz & '+str(f2)+' Hz'))\n",
    "    fig.show()\n",
    "\n",
    "plotTwoSineWaves(f_C, f_G)\n",
    "plotTwoSineWaves(f_C, f_Gsharp)"
   ]
  },
  {
   "cell_type": "markdown",
   "metadata": {},
   "source": [
    "What do you see? The C&G oscillation is periodic (can you calculate the period?) but the C&G# oscillation is not.\n",
    "*Actually this is an over-simplification, but it's close enough.*\n",
    "\n",
    "Thus we have a **graphical** interpretation of what it means for two notes to sound nice together, **their combined waveform is periodic**.\n",
    "\n",
    "Try this with some other note combinations from the frequency table generated below."
   ]
  },
  {
   "cell_type": "code",
   "execution_count": null,
   "metadata": {},
   "outputs": [],
   "source": [
    "noteList = ['C', 'C#', 'D', 'D#', 'E', 'F', 'F#', 'G', 'G#', 'A', 'A#', 'B']\n",
    "\n",
    "def generateOctave(note, startingFrequency):\n",
    "    frequencyList = [startingFrequency]\n",
    "    for x in range(1,9):\n",
    "        frequencyList.append(startingFrequency * 2**x)\n",
    "    frequencyDf = pd.DataFrame({note:frequencyList})\n",
    "    return frequencyDf\n",
    "    \n",
    "df = pd.DataFrame() # create an empty dataframe\n",
    "for n, note in enumerate(noteList, start=1):\n",
    "    startingFrequency = 2**(n/12) * 15.434 # calculate the new note's frequency\n",
    "    frequencyDf = generateOctave(note, startingFrequency)\n",
    "    df = pd.concat([df, frequencyDf], axis=1) # join the new column to the dataframe\n",
    "\n",
    "df.style.set_precision(4) # display the dataframe with 4 significant figures"
   ]
  },
  {
   "cell_type": "markdown",
   "metadata": {},
   "source": [
    "You can also use the code below to listen to combinted notes and see the corresponding graph."
   ]
  },
  {
   "cell_type": "code",
   "execution_count": null,
   "metadata": {},
   "outputs": [],
   "source": [
    "f1 = 329.63\n",
    "f2 = 440\n",
    "\n",
    "from IPython.display import Audio, display\n",
    "\n",
    "sampleRate = 32000\n",
    "duration = 2 # seconds\n",
    "t = np.linspace(0, duration, int(sampleRate * duration))\n",
    "\n",
    "sinWave = (np.sin(f1 * 2 * np.pi * t) + np.sin(f2 * 2 * np.pi * t))/2\n",
    "display(Audio(sinWave, rate=sampleRate, autoplay=True))\n",
    "\n",
    "x = np.linspace(0, 0.05, int(np.floor(f2)))\n",
    "y = np.sin(2 * np.pi * f1 * x) + np.sin(2 * np.pi * f2 * x)\n",
    "fig = go.Figure(data=go.Scatter(x=x, y=y))\n",
    "fig.update_layout(title=go.layout.Title(text=str(f1)+' Hz & '+str(f2)+' Hz'))\n",
    "fig.show()"
   ]
  }
 ],
 "metadata": {
  "kernelspec": {
   "display_name": "Python 3",
   "language": "python",
   "name": "python3"
  },
  "language_info": {
   "codemirror_mode": {
    "name": "ipython",
    "version": 3
   },
   "file_extension": ".py",
   "mimetype": "text/x-python",
   "name": "python",
   "nbconvert_exporter": "python",
   "pygments_lexer": "ipython3",
   "version": "3.7.3"
  }
 },
 "nbformat": 4,
 "nbformat_minor": 2
}
