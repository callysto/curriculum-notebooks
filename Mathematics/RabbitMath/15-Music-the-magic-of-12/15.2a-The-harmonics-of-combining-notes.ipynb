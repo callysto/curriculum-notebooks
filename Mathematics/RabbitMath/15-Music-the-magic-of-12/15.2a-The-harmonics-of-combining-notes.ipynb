{
 "cells": [
  {
   "cell_type": "markdown",
   "metadata": {},
   "source": [
    "# 15.2a The harmonics of combining notes\n",
    "\n",
    "Sometimes two musical notes sound good together, sometimes they don't. Have you ever wondered why?\n",
    "\n",
    "It's a complicated question, but basically two notes will sound good together when the ratio of their frequencies involves small integers (about 5 or less).\n",
    "\n",
    "First some libraries and variables we will use in our code."
   ]
  },
  {
   "cell_type": "code",
   "execution_count": null,
   "metadata": {},
   "outputs": [],
   "source": [
    "import time\n",
    "from numpy import linspace, pi, sin\n",
    "import pandas as pd\n",
    "from IPython.display import Audio, display\n",
    "from ipywidgets import widgets"
   ]
  },
  {
   "cell_type": "markdown",
   "metadata": {},
   "source": [
    "Here is some code that generates a chart of the frequencies of notes for an [equal tempered scale](https://en.wikipedia.org/wiki/Equal_temperament) based on $A_4$ = 440 Hz"
   ]
  },
  {
   "cell_type": "code",
   "execution_count": null,
   "metadata": {},
   "outputs": [],
   "source": [
    "noteList = ['C', 'C#', 'D', 'D#', 'E', 'F', 'F#', 'G', 'G#', 'A', 'A#', 'B']\n",
    "\n",
    "def generateOctave(note, startingFrequency):\n",
    "    frequencyList = [startingFrequency]\n",
    "    for x in range(1,9):\n",
    "        frequencyList.append(startingFrequency * 2**x)\n",
    "    frequencyDf = pd.DataFrame({note:frequencyList})\n",
    "    return frequencyDf\n",
    "    \n",
    "df = pd.DataFrame() # create an empty dataframe\n",
    "for n, note in enumerate(noteList, start=1):\n",
    "    startingFrequency = 2**(n/12) * 15.434 # calculate the new note's frequency\n",
    "    frequencyDf = generateOctave(note, startingFrequency)\n",
    "    df = pd.concat([df, frequencyDf], axis=1) # join the new column to the dataframe\n",
    "\n",
    "df.style.set_precision(4) # display the dataframe with 4 significant figures"
   ]
  },
  {
   "cell_type": "markdown",
   "metadata": {},
   "source": [
    "Let's play a $C_4$ note (261.63 Hz) combined with a $G_4$ note (392 Hz)."
   ]
  },
  {
   "cell_type": "code",
   "execution_count": null,
   "metadata": {},
   "outputs": [],
   "source": [
    "note1 = 261.63 # C4\n",
    "note2 = 392.00 # G4\n",
    "\n",
    "sampleRate = 32000 # Hertz\n",
    "duration = 2 # seconds\n",
    "t = linspace(0, duration, int(sampleRate * duration))\n",
    "\n",
    "sinWave = (sin(note1 * 2 * pi * t) + sin(note2 * 2 * pi * t))/2\n",
    "display(Audio(sinWave, rate = sampleRate, autoplay = True))"
   ]
  },
  {
   "cell_type": "markdown",
   "metadata": {},
   "source": [
    "That sounds nice, but try some other note combinations (from the frequency table above) and listen to how they sound. Think about what ratios of frequencies sound good together and which don't."
   ]
  }
 ],
 "metadata": {
  "kernelspec": {
   "display_name": "Python 3",
   "language": "python",
   "name": "python3"
  },
  "language_info": {
   "codemirror_mode": {
    "name": "ipython",
    "version": 3
   },
   "file_extension": ".py",
   "mimetype": "text/x-python",
   "name": "python",
   "nbconvert_exporter": "python",
   "pygments_lexer": "ipython3",
   "version": "3.7.3"
  }
 },
 "nbformat": 4,
 "nbformat_minor": 4
}
