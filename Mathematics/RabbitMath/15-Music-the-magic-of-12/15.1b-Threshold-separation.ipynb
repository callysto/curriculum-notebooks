{
 "cells": [
  {
   "cell_type": "markdown",
   "metadata": {},
   "source": [
    "# 15.1b Threshold separation\n",
    "\n",
    "Threshold separation, also known as *just noticable difference* or the [Weber-Fechner Law](https://en.wikipedia.org/wiki/Weber%E2%80%93Fechner_law), refers to the amount of separation there needs to be between two \"signals\" before you can tell that there is a difference.\n",
    "\n",
    "For most things it is relative, not absolute, difference that counts. Here is a table of approximate average *Just Noticable Differences*:\n",
    "\n",
    "| Signal | Percent   |\n",
    "|--------|-----------|\n",
    "| brightness | 8% |\n",
    "| loudness | 5% |\n",
    "| heaviness | 2% |\n",
    "| saltiness | 8% |\n",
    "| pitch | 0.5% |\n",
    "\n",
    "We can see from the chart that our capacity for freqency discrimination is generally much better than for most other classes of signals.\n",
    "\n",
    "To test this, we will try to tell the difference between between different frequencies.\n",
    "\n",
    "First of all, there are some libraries and variables we need to set up."
   ]
  },
  {
   "cell_type": "code",
   "execution_count": null,
   "metadata": {},
   "outputs": [],
   "source": [
    "import time, random\n",
    "from numpy import linspace, pi, sin\n",
    "from IPython.display import Audio, display\n",
    "from ipywidgets import widgets\n",
    "\n",
    "sampleRate = 32000 # Hertz\n",
    "duration = 0.25 # seconds\n",
    "t = linspace(0, duration, int(sampleRate * duration))"
   ]
  },
  {
   "cell_type": "code",
   "execution_count": null,
   "metadata": {},
   "outputs": [],
   "source": [
    "# can we generate something like this https://ars.els-cdn.com/content/image/3-s2.0-B9780123814203000060-f06-04-9780123814203.jpg?_\n",
    "# using matplotlib and a slider to adjust values between 0 and 255, or better yet from 0 to 20% black?\n",
    "# have it display the % difference"
   ]
  },
  {
   "cell_type": "markdown",
   "metadata": {},
   "source": [
    "Let's try listening to two frequencies to see if you can tell the difference."
   ]
  },
  {
   "cell_type": "code",
   "execution_count": null,
   "metadata": {},
   "outputs": [],
   "source": [
    "frequencyDifference = 10  # change this value and run this cell again to test differences\n",
    "frequency1 = 1000 # Hertz\n",
    "\n",
    "if random.randint(0, 1) == 1: # we will randomly add or subtract the difference\n",
    "    frequency2 = frequency1 + frequencyDifference\n",
    "else:\n",
    "    frequency2 = frequency1 - frequencyDifference\n",
    "    \n",
    "display(Audio(sin(frequency1 * 2 * pi * t), rate = sampleRate, autoplay = True))\n",
    "time.sleep(0.5) # seconds\n",
    "display(Audio(sin(frequency2 * 2 * pi * t), rate = sampleRate, autoplay = True))"
   ]
  },
  {
   "cell_type": "markdown",
   "metadata": {},
   "source": [
    "Hopefully you found a just noticiable differnce with a fairly small integer.\n",
    "\n",
    "What percent difference is that?\n",
    "\n",
    "Does that match with the predictions from the table above?"
   ]
  }
 ],
 "metadata": {
  "kernelspec": {
   "display_name": "Python 3",
   "language": "python",
   "name": "python3"
  },
  "language_info": {
   "codemirror_mode": {
    "name": "ipython",
    "version": 3
   },
   "file_extension": ".py",
   "mimetype": "text/x-python",
   "name": "python",
   "nbconvert_exporter": "python",
   "pygments_lexer": "ipython3",
   "version": "3.7.3"
  }
 },
 "nbformat": 4,
 "nbformat_minor": 4
}
