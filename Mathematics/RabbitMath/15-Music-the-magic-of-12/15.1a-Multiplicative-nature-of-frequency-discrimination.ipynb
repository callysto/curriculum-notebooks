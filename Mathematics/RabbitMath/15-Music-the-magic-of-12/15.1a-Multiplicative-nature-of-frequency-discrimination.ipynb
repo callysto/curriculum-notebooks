{
 "cells": [
  {
   "cell_type": "markdown",
   "metadata": {},
   "source": [
    "# 15.1a The multiplicative nature of frequency discrimination\n",
    "\n",
    "Musical notes are what we hear when our ear drums oscillate at a certain frequency and send corresponding signals to our brain. The frequency of this oscillation determines the pitch (how high or low it is).\n",
    "\n",
    "We are going to use some Python code to compare pitches.\n",
    "\n",
    "This first code cell just imports some things and define some variables that we'll need to use."
   ]
  },
  {
   "cell_type": "code",
   "execution_count": null,
   "metadata": {},
   "outputs": [],
   "source": [
    "import time\n",
    "from numpy import linspace, pi, sin\n",
    "from IPython.display import Audio, display\n",
    "from ipywidgets import widgets\n",
    "\n",
    "sampleRate = 32000 # Hertz\n",
    "duration = 0.25 # seconds\n",
    "t = linspace(0, duration, int(sampleRate * duration))"
   ]
  },
  {
   "cell_type": "markdown",
   "metadata": {},
   "source": [
    "Let's start by playing three different frequencies (1000 Hz, 1200 Hz, and 1600 Hz). Listen to them a few times to get a feeling for the tune."
   ]
  },
  {
   "cell_type": "code",
   "execution_count": null,
   "metadata": {},
   "outputs": [],
   "source": [
    "frequencyList = [1000, 1200, 1600] # Hertz\n",
    "\n",
    "for frequency in frequencyList:\n",
    "    display(frequency)\n",
    "    display(Audio(sin(frequency * 2 * pi * t), rate = sampleRate, autoplay = True))\n",
    "    time.sleep(0.5) # seconds"
   ]
  },
  {
   "cell_type": "markdown",
   "metadata": {},
   "source": [
    "Now let's try the same series of notes, but starting from a higher pitch (1500 Hz). Change the other two frequencies from the line `frequencyList = [1500, 1200, 1600]` in the code cell below until you get a sequence that follows the same pattern as the one above."
   ]
  },
  {
   "cell_type": "code",
   "execution_count": null,
   "metadata": {},
   "outputs": [],
   "source": [
    "frequencyList = [1500, 1200, 1600]\n",
    "\n",
    "for frequency in frequencyList:\n",
    "    display(frequency)\n",
    "    display(Audio(sin(frequency * 2 * pi * t), rate = sampleRate, autoplay = True))\n",
    "    time.sleep(0.5) # seconds"
   ]
  },
  {
   "cell_type": "markdown",
   "metadata": {},
   "source": [
    "If you're stuck and can't figure out what the freqencies should be, think about how we could have gotten the pattern in the first set. Since it could be additive or multiplicative, try each of the following:\n",
    "1. Add 200 then 500 [1500, 1700, 2100]\n",
    "2. Multiply by 1.5 [1500, 1800, 2400]"
   ]
  },
  {
   "cell_type": "code",
   "execution_count": null,
   "metadata": {},
   "outputs": [],
   "source": [
    "frequencyList = []\n",
    "\n",
    "for frequency in frequencyList:\n",
    "    display(frequency)\n",
    "    display(Audio(sin(frequency * 2 * pi * t), rate = sampleRate, autoplay = True))\n",
    "    time.sleep(0.5)"
   ]
  },
  {
   "cell_type": "markdown",
   "metadata": {},
   "source": [
    "Which frequency list (additive or multiplicative) sounded like our first note series?\n",
    "\n",
    "What we have learned is that our ears are not sensitive to frequency *differences*, but rather to frequency *ratios*. In this case we are hearing the frequency ratio of 5/6."
   ]
  }
 ],
 "metadata": {
  "kernelspec": {
   "display_name": "Python 3",
   "language": "python",
   "name": "python3"
  },
  "language_info": {
   "codemirror_mode": {
    "name": "ipython",
    "version": 3
   },
   "file_extension": ".py",
   "mimetype": "text/x-python",
   "name": "python",
   "nbconvert_exporter": "python",
   "pygments_lexer": "ipython3",
   "version": "3.7.3"
  }
 },
 "nbformat": 4,
 "nbformat_minor": 4
}
