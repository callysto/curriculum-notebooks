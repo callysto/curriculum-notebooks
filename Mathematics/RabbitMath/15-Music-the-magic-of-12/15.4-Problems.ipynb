{
 "cells": [
  {
   "cell_type": "markdown",
   "metadata": {},
   "source": [
    "# 15.4 Problems\n",
    "\n",
    "See if you can solve these problems with code, or on paper."
   ]
  },
  {
   "cell_type": "markdown",
   "metadata": {},
   "source": [
    "1. How many notes would a 15-note octave and a 20-note octave have in common? That is, how many of the frequencies that appear in the n=15 column of the above table would also appear in the n=20 column? Make a list of these notes (give me their frequencies relative to the frequency of the first note of the octave)."
   ]
  },
  {
   "cell_type": "code",
   "execution_count": null,
   "metadata": {},
   "outputs": [],
   "source": []
  },
  {
   "cell_type": "markdown",
   "metadata": {},
   "source": [
    "2. Recall that we are using $n$ as the number of notes in the octave, and for any $n$, the frequency ratio $r$ between successive notes is determined as the solution to the equation $𝑟𝑛=2$. Denote by $p$ the value of $r$ which provides a 15-note octave and by $q$ the value of $r$ which provides a 20-note octave. What is the simplest relationship between $p$ and $q$?"
   ]
  },
  {
   "cell_type": "code",
   "execution_count": null,
   "metadata": {},
   "outputs": [],
   "source": []
  },
  {
   "cell_type": "markdown",
   "metadata": {},
   "source": [
    "3. Solve the following equations for $x$. Give both an exact answer and, if appropriate, a 3-place decimal approximation.\n",
    "    1. $x^{10} = 100$\n",
    "    2. $10^x = 100$\n",
    "    3. $x^{100} = 10$\n",
    "    4. $100^x = 10$\n",
    "    5. $x^{\\frac{1}{10}} = 100$"
   ]
  },
  {
   "cell_type": "code",
   "execution_count": null,
   "metadata": {},
   "outputs": [],
   "source": []
  },
  {
   "cell_type": "markdown",
   "metadata": {},
   "source": [
    "4. Use three decimal place numbers to answer the following.\n",
    "    1. Which of the 7 intermediate notes in the acoustic scale (see below) are found to within ½% accuracy in the equal-tempered 20-note octave?\n",
    "    2. Which of the 7 intermediate notes in the acoustic scale are found to within 1% in the equal-tempered 20-note octave?\n",
    "    3. Which of the notes in the equal-tempered table (that goes from $n=4$ to $n=16$) are within ½% of 7/4?"
   ]
  },
  {
   "cell_type": "code",
   "execution_count": null,
   "metadata": {},
   "outputs": [],
   "source": []
  },
  {
   "cell_type": "markdown",
   "metadata": {},
   "source": [
    "5. Simple ratios between two frequencies can be given a nice geometric interpretation in terms of a guitar string. Consider 3/2. Clamp the string down in the middle and vibrate it to get the first note. Then clamp it one third the way along and vibrate it again. The two frequencies are in the ratio 3:2. Can you explain why this is the case? If not, do a bit of research around this question. Now take 4/3, what would you do to the string to produce two frequencies in that ratio?"
   ]
  },
  {
   "cell_type": "code",
   "execution_count": null,
   "metadata": {},
   "outputs": [],
   "source": []
  },
  {
   "cell_type": "markdown",
   "metadata": {},
   "source": [
    "## The design of the scale: two different schemes.\n",
    "\n",
    "The system of having a constant frequency ratio between successive notes (which we are pursuing here) is called **even temperament**, and that’s the scheme that western music has adopted. Because of the homogeneity of the scale, all keys are equally good, in the sense that any two will have the same relative intervals between pairs of notes. To popularize this Bach wrote a series of 24 preludes and fugues (12 major keys and 12 minor keys) called The [Well-Tempered Clavier](https://en.wikipedia.org/wiki/The_Well-Tempered_Clavier).\n",
    "\n",
    "On the other hand, the **acoustic scale** would require that the 8 notes in any “key” be the correct small integers ratios and for the key of C major these are given, along with the corresponding decimals, in the table below. The problem with this is that what’s right in one key won’t usually be right in another and some pieces, when transposed, will sound awful.\n",
    "\n",
    "|Note|Acoustic Scale|Even Temperment|\n",
    "|-|-|-|\n",
    "|C|$1.000$|$2^\\frac{0}{12}=1.000$|\n",
    "|D|$\\frac{9}{8}=1.125$|$2^\\frac{2}{12}=1.000$|\n",
    "|E|$\\frac{5}{4}=1.250$|$2^\\frac{4}{12}=1.122$|\n",
    "|F|$\\frac{4}{3}=1.333$|$2^\\frac{5}{12}=1.260$|\n",
    "|G|$\\frac{3}{2}=1.5000$|$2^\\frac{7}{12}=1.335$|\n",
    "|A|$\\frac{5}{3}=1.667$|$2^\\frac{9}{12}=1.498$|\n",
    "|B|$\\frac{15}{8}=1.875$|$2^\\frac{11}{12}=1.888$|\n",
    "|C|$\\frac{2}{1}=2.000$|$2^\\frac{12}{12}=2.000$|"
   ]
  }
 ],
 "metadata": {
  "kernelspec": {
   "display_name": "Python 3",
   "language": "python",
   "name": "python3"
  },
  "language_info": {
   "codemirror_mode": {
    "name": "ipython",
    "version": 3
   },
   "file_extension": ".py",
   "mimetype": "text/x-python",
   "name": "python",
   "nbconvert_exporter": "python",
   "pygments_lexer": "ipython3",
   "version": "3.7.3"
  }
 },
 "nbformat": 4,
 "nbformat_minor": 2
}
