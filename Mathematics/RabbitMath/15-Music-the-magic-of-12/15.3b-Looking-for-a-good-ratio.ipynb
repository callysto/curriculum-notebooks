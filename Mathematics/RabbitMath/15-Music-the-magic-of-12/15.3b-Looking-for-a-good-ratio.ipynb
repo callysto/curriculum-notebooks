{
 "cells": [
  {
   "cell_type": "markdown",
   "metadata": {},
   "source": [
    "# Looking for a good ratio\n",
    "\n",
    "Let's start with what is surely the most important simple ratio, 3/2. We need to find numbers which are within ½% of 1.5. That is they have to be between the following two numbers:"
   ]
  },
  {
   "cell_type": "code",
   "execution_count": null,
   "metadata": {},
   "outputs": [],
   "source": [
    "1.5 * (1 - 0.005)"
   ]
  },
  {
   "cell_type": "code",
   "execution_count": null,
   "metadata": {},
   "outputs": [],
   "source": [
    "1.5 * (1 + 0.005)"
   ]
  },
  {
   "cell_type": "markdown",
   "metadata": {},
   "source": [
    "Let's see if we can find values between 1.4925 and about 1.5075 in $2^{i/n}$:"
   ]
  },
  {
   "cell_type": "code",
   "execution_count": null,
   "metadata": {},
   "outputs": [],
   "source": [
    "ratio = 3/2\n",
    "bottom = ratio * (1 - 0.005)\n",
    "top = ratio * (1 + 0.005)\n",
    "\n",
    "for n in range(4, 17): # we'll check n values from 4 to 16\n",
    "    for i in range(1, n+1): # for each i value up to n\n",
    "        f = 2**(i/n) # calculate the frequency value\n",
    "        if bottom <= f <= top: # if f is in the right range\n",
    "            print('n =', n, 'and i =', i, 'so 2^(', i, '/', n, ')')"
   ]
  },
  {
   "cell_type": "markdown",
   "metadata": {},
   "source": [
    "How many $n$ values contain a ratio of 1.5?"
   ]
  },
  {
   "cell_type": "markdown",
   "metadata": {},
   "source": [
    "Let's try the next simplest ratio, 4:3."
   ]
  },
  {
   "cell_type": "code",
   "execution_count": null,
   "metadata": {},
   "outputs": [],
   "source": [
    "ratio = 4/3\n",
    "tolarance = 0.005\n",
    "bottom = ratio * (1 - tolarance)\n",
    "top = ratio * (1 + tolarance)\n",
    "\n",
    "for n in range(4, 17):\n",
    "    for i in range(1, n+1):\n",
    "        f = 2**(i/n)\n",
    "        if bottom <= f <= top:\n",
    "            print('n =', n, 'and i =', i, 'so 2^(', i, '/', n, ')')"
   ]
  },
  {
   "cell_type": "markdown",
   "metadata": {},
   "source": [
    "How many results this time?"
   ]
  },
  {
   "cell_type": "markdown",
   "metadata": {},
   "source": [
    "If we look at the results for the ratio 5/3, there will also only be one note (this time in $n=15$, feel free to change the code above to check that).\n",
    "\n",
    "However if we increase our tolerance to 1% then:"
   ]
  },
  {
   "cell_type": "code",
   "execution_count": null,
   "metadata": {},
   "outputs": [],
   "source": [
    "ratio = 5/3\n",
    "tolarance = 0.01\n",
    "bottom = ratio * (1 - tolarance)\n",
    "top = ratio * (1 + tolarance)\n",
    "\n",
    "for n in range(4, 17):\n",
    "    for i in range(1, n+1):\n",
    "        f = 2**(i/n)\n",
    "        if bottom <= f <= top:\n",
    "            print('n =', n, 'and i =', i, 'so 2^(', i, '/', n, ')')"
   ]
  },
  {
   "cell_type": "markdown",
   "metadata": {},
   "source": [
    "Again we see that there is a desirable ratio in $n=12$.\n",
    "\n",
    "Let's check the ratio 5/4, again with a 1% tolerance:"
   ]
  },
  {
   "cell_type": "code",
   "execution_count": null,
   "metadata": {},
   "outputs": [],
   "source": [
    "ratio = 5/4\n",
    "tolarance = 0.01\n",
    "bottom = ratio * (1 - tolarance)\n",
    "top = ratio * (1 + tolarance)\n",
    "\n",
    "for n in range(4, 17):\n",
    "    for i in range(1, n+1):\n",
    "        f = 2**(i/n)\n",
    "        if bottom <= f <= top:\n",
    "            print('n =', n, 'and i =', i, 'so 2^(', i, '/', n, ')')"
   ]
  },
  {
   "cell_type": "markdown",
   "metadata": {},
   "source": [
    "And that is all of the possible ratios less than 2 (an octave) with integers that are 5 or less (simple).\n",
    "\n",
    "Just to review, let's calculate the number of simple ratios for each value of $n$:"
   ]
  },
  {
   "cell_type": "code",
   "execution_count": null,
   "metadata": {},
   "outputs": [],
   "source": [
    "ratioList = [3/2, 4/3, 5/3, 5/4]\n",
    "tolerance = 0.01\n",
    "\n",
    "for n in range(4, 17):\n",
    "    iList = []\n",
    "    for ratio in ratioList:\n",
    "        bottom = ratio * (1 - tolarance)\n",
    "        top = ratio * (1 + tolarance)\n",
    "        for i in range(1, n+1):\n",
    "            f = 2**(i/n)\n",
    "            if bottom <= f <= top:\n",
    "                iList.append(i)\n",
    "                #print('n =', n, 'and i =', i)\n",
    "    print('n =', n, 'has', len(iList), 'simple ratio(s) with i =', iList)"
   ]
  },
  {
   "cell_type": "markdown",
   "metadata": {},
   "source": [
    "So it looks like 12 is the winner, it has the most simple ratios of frequencies. So an octave with 12 notes will have the most pleasant-sounding intervals. Of course we could have guessed this because we know that 12 has more factors than any other number less than 60.\n",
    "\n",
    "Music with 60 notes in an octave might be a little too complicated."
   ]
  }
 ],
 "metadata": {
  "kernelspec": {
   "display_name": "Python 3",
   "language": "python",
   "name": "python3"
  },
  "language_info": {
   "codemirror_mode": {
    "name": "ipython",
    "version": 3
   },
   "file_extension": ".py",
   "mimetype": "text/x-python",
   "name": "python",
   "nbconvert_exporter": "python",
   "pygments_lexer": "ipython3",
   "version": "3.7.3"
  }
 },
 "nbformat": 4,
 "nbformat_minor": 2
}
