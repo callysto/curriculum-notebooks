{
 "cells": [
  {
   "cell_type": "markdown",
   "metadata": {
    "slideshow": {
     "slide_type": "slide"
    }
   },
   "source": [
    "# 14.3 Tidal period and sideral day\n",
    "\n",
    "The second major reason that high tides don't happen twice every 24 hours is that there are two kinds of day lengths. Our standard interpretation of the day is what is called the *solar day* because it’s determined with reference to the sun, this is 24 hours.\n",
    "\n",
    "The other kind of day is called the *sidereal day*, it’s the time required for the earth to rotate through 360°. It can be defined for any rotating body whether it has a sun or not; in a sense its reference is the rest of the universe.\n",
    "\n",
    "This requires a minor correction to our previous calculations."
   ]
  },
  {
   "cell_type": "markdown",
   "metadata": {
    "slideshow": {
     "slide_type": "slide"
    }
   },
   "source": [
    "Suppose we are above the plane of the earth’s orbit around the sun (again with the north pole pointing up). Draw a line between the centres of the sun and the earth and take t = 0 to be a moment at which that line intersects the surface of the earth at the zero meridian of longitude (coloured red). Now let the earth rotate exactly 360° and draw that line again (between the two centres).\n",
    "![Earth rotating 360 while revolving through arc](images/earth-sun-rotation-1.png)\n",
    "The line doesn't pass through the zero meridian, the earth needs to rotate a little more (since it is rotating counter-clockwise and revolving counter-clockwise). That 360° plus a little more takes 24 hours.\n",
    "![Earth rotating 360 plus a bit for 24 hours](images/earth-sun-rotation-2.png)\n",
    "This means that a sideral day is a little shorter (about 4 minutes less) than a solar day."
   ]
  },
  {
   "cell_type": "markdown",
   "metadata": {
    "slideshow": {
     "slide_type": "slide"
    }
   },
   "source": [
    "## Using geometry to calculate siderial day length\n",
    "\n",
    "This new diagram of the earth's orbit includes markings for the two segments of the solar day. $E$ represents the time for the earth to rotate 360° and $\\epsilon$ for the time the second part takes.\n",
    "![Earth sun system with labelled geometry](images/earth-sun-rotation-3.png)\n",
    "As well, the angle $\\phi$ represents the angle through which the earth rotates during a siderial day. Since the earth takes 365 days, 6 hour, 9 minutes, and 9.76 seconds to orbit the sun, we can calculate how many degrees it rotates through per solar day."
   ]
  },
  {
   "cell_type": "code",
   "execution_count": null,
   "metadata": {
    "slideshow": {
     "slide_type": "subslide"
    }
   },
   "outputs": [],
   "source": [
    "daysPerYear = 365 + 6/24 + 9/(24*60) + 9.76/(24*60*60)\n",
    "print(daysPerYear, 'days per year')\n",
    "\n",
    "phi = 1/daysPerYear\n",
    "print(phi, 'degrees per day')"
   ]
  },
  {
   "cell_type": "markdown",
   "metadata": {
    "slideshow": {
     "slide_type": "slide"
    }
   },
   "source": [
    "A solar day is 24 hours, so $E + \\epsilon = 24$.\n",
    "\n",
    "From the geometry of parallel lines we know that it takes a fraction $\\phi$ of the time to for a complete rotation $E$, so $\\epsilon = \\phi E$.\n",
    "\n",
    "Combine $E + \\epsilon = 24$ and $\\epsilon = \\phi E$ to calculate $E$, the length of the siderial day."
   ]
  },
  {
   "cell_type": "code",
   "execution_count": null,
   "metadata": {
    "slideshow": {
     "slide_type": "subslide"
    }
   },
   "outputs": [],
   "source": [
    "# fill in your equation below then run this cell\n",
    "# if you get really stuck, check out the cell at the bottom of this notebook\n",
    "\n",
    "E = \n",
    "\n",
    "print(E, 'hours, which is about four minutes less than 24 hours')"
   ]
  },
  {
   "cell_type": "markdown",
   "metadata": {
    "slideshow": {
     "slide_type": "slide"
    }
   },
   "source": [
    "So let's finally fit a sine curve to our tides data using the new calculated tidal period. If all goes well it should be a good fit. You may need to adjust the phase of the sine wave, $c$, and perhaps the amplitude, $a$, depending on when you run the code."
   ]
  },
  {
   "cell_type": "code",
   "execution_count": null,
   "metadata": {
    "slideshow": {
     "slide_type": "subslide"
    }
   },
   "outputs": [],
   "source": [
    "T_E = E # from your calculation above\n",
    "T_M = 29*24 + 12 + 44/60 + 2.8/(60*60)\n",
    "T = (T_E * T_M) / (T_M - T_E)\n",
    "\n",
    "a = 5.5\n",
    "b = (2*360)/T\n",
    "c = 0\n",
    "d = 6.5\n",
    "\n",
    "import plotly.graph_objects as go\n",
    "import math\n",
    "import requests\n",
    "import pandas as pd\n",
    "import plotly.express as px\n",
    "\n",
    "# Get tide data from Fisheries and Oceans Canada for Advocate Harbour (hourly for the next 7 days)\n",
    "url = 'https://www.waterlevels.gc.ca/eng/station?sid=215' # Joggins Wharf\n",
    "response = requests.get(url)\n",
    "\n",
    "dfs = pd.read_html(response.text) # construct dataframe\n",
    "tideHeight = dfs[7]['Hour'].transpose() # select the 7th frame and transpose columns and rows\n",
    "\n",
    "tideList = [] # construct a list from the tideHeight data\n",
    "for key in tideHeight.keys():\n",
    "    tideList.extend(tideHeight[key].tolist())\n",
    "\n",
    "df = pd.DataFrame(tideList) # turn the list into a dataframe\n",
    "df.columns = ['Height (m)'] # label the height column\n",
    "df['Time (h)'] = range(0,len(tideList)) # add a time (in hours) column\n",
    "\n",
    "xlist = df['Time (h)'].tolist()\n",
    "ylist = []\n",
    "for x in xlist:\n",
    "    y = a * math.sin(math.radians(b * x + c)) + d\n",
    "    ylist.append(y)\n",
    "\n",
    "fig = go.Figure()\n",
    "fig.add_trace(go.Scatter(x=df['Time (h)'], y=df['Height (m)'], name='tide data'))\n",
    "fig.add_trace(go.Scatter(x=xlist, y=ylist, name='sine fit'))\n",
    "\n",
    "fig.show()"
   ]
  },
  {
   "cell_type": "markdown",
   "metadata": {
    "slideshow": {
     "slide_type": "slide"
    }
   },
   "source": [
    "So given some things we know about orbital mechanics and the mathematics of sine waves, we've been able to determine a pretty good curve fit for the frequency (and amplitude) of the tides at this location.\n",
    "\n",
    "A couple things to explore further would be:\n",
    "\n",
    "- Does the same curve fit the tides data from [different locations](https://www.waterlevels.gc.ca/eng), either in the Bay of Fundy or elsewhere?\n",
    "- Why does the amplitude of the tides seem to alternate between slightly larger and slightly smaller values?"
   ]
  },
  {
   "cell_type": "code",
   "execution_count": null,
   "metadata": {
    "slideshow": {
     "slide_type": "skip"
    }
   },
   "outputs": [],
   "source": [
    "# If you are stuck on finding E...\n",
    "\n",
    "E = 24*(daysPerYear/(daysPerYear+1))"
   ]
  }
 ],
 "metadata": {
  "celltoolbar": "Slideshow",
  "kernelspec": {
   "display_name": "Python 3",
   "language": "python",
   "name": "python3"
  },
  "language_info": {
   "codemirror_mode": {
    "name": "ipython",
    "version": 3
   },
   "file_extension": ".py",
   "mimetype": "text/x-python",
   "name": "python",
   "nbconvert_exporter": "python",
   "pygments_lexer": "ipython3",
   "version": "3.7.3"
  }
 },
 "nbformat": 4,
 "nbformat_minor": 2
}
