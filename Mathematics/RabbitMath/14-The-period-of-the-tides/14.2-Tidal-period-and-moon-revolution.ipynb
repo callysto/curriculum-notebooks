{
 "cells": [
  {
   "cell_type": "markdown",
   "metadata": {
    "slideshow": {
     "slide_type": "slide"
    }
   },
   "source": [
    "# 14.2 Tidal period and the moon's revolution\n",
    "\n",
    "Tides are caused by the gravitational pull of the moon on the earth's water, stretching it into an eliptical shape.\n",
    "\n",
    "![exaggerated drawing of the eliptical shape of the earth's water](images/tide-eliptical.png)\n",
    "\n",
    "So the side of the earth facing the moon, as well as the opposite side, will experience high tide. The sides perpendicular to the direction of the moon will experience a low tide.\n",
    "\n",
    "As the earth rotates on its axis, each spot on the earth will experience two high tides every rotation.\n",
    "\n",
    "How long will this take?"
   ]
  },
  {
   "cell_type": "markdown",
   "metadata": {
    "slideshow": {
     "slide_type": "slide"
    }
   },
   "source": [
    "It seems reasonable to argue that there should be two high tides every 24 hours. However this is missing two important factors. The first of these is that the moon revolves around the earth (in the same direction as the earth's rotation) and so during 24 hours the moon will have moved through a portion of its revolution.\n",
    "\n",
    "Looking at this from above the north pole, we could define and angle, $\\theta$, to be the \"extra\" amount that the earth would need to rotate in order for the same spot on the surface to be under the moon.\n",
    "\n",
    "![earth-moon system shown from above, with angle of rotation](images/earth-moon-system-from-above.png)"
   ]
  },
  {
   "cell_type": "markdown",
   "metadata": {
    "slideshow": {
     "slide_type": "slide"
    }
   },
   "source": [
    "We know the rotational period of the earth is 24 hours and the orbital period of the moon, $T_M$, is 29 days, 12 hours, 44 minutes, and 2.8 seconds."
   ]
  },
  {
   "cell_type": "code",
   "execution_count": 1,
   "metadata": {
    "slideshow": {
     "slide_type": "subslide"
    }
   },
   "outputs": [
    {
     "name": "stdout",
     "output_type": "stream",
     "text": [
      "708.7341111111111 hours for one orbit of the moon\n"
     ]
    }
   ],
   "source": [
    "T_M = 29*24 + 12 + 44/60 + 2.8/(60*60)\n",
    "print(T_M, 'hours for one orbit of the moon')"
   ]
  },
  {
   "cell_type": "markdown",
   "metadata": {
    "slideshow": {
     "slide_type": "subslide"
    }
   },
   "source": [
    "So $T_E = 24$ hours and $T_M = 708.734$ hours.\n",
    "\n",
    "This means that the rotational speed of the earth is $\\omega_E = \\frac{1}{24}$ cycles per hour and the orbital speed of the moon is $\\omega_M = \\frac{1}{708.734}$ cycles per hour.\n",
    "\n",
    "Use the equation $\\omega = \\frac{\\theta}{t}$ to find the time that it would take for a spot on the earth to line up with the moon again.\n",
    "\n",
    "As a hint, we know that the time for the earth to rotate to that position must be the same as the time for the moon to revolve to that position. This means we can say $t_E = t_M = T_E + \\frac{\\theta}{\\omega_E} = \\frac{\\theta}{\\omega_M}$. Find $t_E$ or $t_M$."
   ]
  },
  {
   "cell_type": "code",
   "execution_count": null,
   "metadata": {
    "slideshow": {
     "slide_type": "slide"
    }
   },
   "outputs": [],
   "source": [
    "T_E = 24\n",
    "T_M = 29*24 + 12 + 44/60 + 2.8/(60*60)\n",
    "omega_E = 1/T_E\n",
    "omega_M = 1/T_M\n",
    "\n",
    "# fill in your equation below then run this cell\n",
    "\n",
    "t_M = \n",
    "\n",
    "print(t_M)"
   ]
  }
 ],
 "metadata": {
  "celltoolbar": "Slideshow",
  "kernelspec": {
   "display_name": "Python 3",
   "language": "python",
   "name": "python3"
  },
  "language_info": {
   "codemirror_mode": {
    "name": "ipython",
    "version": 3
   },
   "file_extension": ".py",
   "mimetype": "text/x-python",
   "name": "python",
   "nbconvert_exporter": "python",
   "pygments_lexer": "ipython3",
   "version": "3.7.3"
  }
 },
 "nbformat": 4,
 "nbformat_minor": 2
}
