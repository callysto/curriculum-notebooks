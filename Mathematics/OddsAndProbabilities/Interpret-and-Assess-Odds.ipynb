{
 "cells": [
  {
   "cell_type": "markdown",
   "metadata": {
    "hidden": false
   },
   "source": [
    "<img src =\"https://callysto.ca/wp-content/uploads/2018/06/Callysto_Notebook-Banner_Top_06.06.18.jpg\">"
   ]
  },
  {
   "cell_type": "code",
   "execution_count": 1,
   "metadata": {
    "hidden": false
   },
   "outputs": [
    {
     "data": {
      "text/html": [
       "<script type=\"text/javascript\">window.PlotlyConfig = {MathJaxConfig: 'local'};</script><script type=\"text/javascript\">if (window.MathJax) {MathJax.Hub.Config({SVG: {font: \"STIX-Web\"}});}</script><script>requirejs.config({paths: { 'plotly': ['https://cdn.plot.ly/plotly-latest.min']},});if(!window._Plotly) {require(['plotly'],function(plotly) {window._Plotly=plotly;});}</script>"
      ],
      "text/vnd.plotly.v1+html": [
       "<script type=\"text/javascript\">window.PlotlyConfig = {MathJaxConfig: 'local'};</script><script type=\"text/javascript\">if (window.MathJax) {MathJax.Hub.Config({SVG: {font: \"STIX-Web\"}});}</script><script>requirejs.config({paths: { 'plotly': ['https://cdn.plot.ly/plotly-latest.min']},});if(!window._Plotly) {require(['plotly'],function(plotly) {window._Plotly=plotly;});}</script>"
      ]
     },
     "metadata": {},
     "output_type": "display_data"
    },
    {
     "data": {
      "text/html": [
       "<script>\n",
       "  function code_toggle() {\n",
       "    if (code_shown){\n",
       "      $('div.input').hide('500');\n",
       "      $('#toggleButton').val('Show Code')\n",
       "    } else {\n",
       "      $('div.input').show('500');\n",
       "      $('#toggleButton').val('Hide Code')\n",
       "    }\n",
       "    code_shown = !code_shown\n",
       "  }\n",
       "  \n",
       "  $( document ).ready(function(){\n",
       "    code_shown=false;\n",
       "    $('div.input').hide()\n",
       "  });\n",
       "</script>\n",
       "<form action=\"javascript:code_toggle()\"><input type=\"submit\" id=\"toggleButton\" value=\"Show Code\"></form>"
      ],
      "text/plain": [
       "<IPython.core.display.HTML object>"
      ]
     },
     "execution_count": 1,
     "metadata": {},
     "output_type": "execute_result"
    }
   ],
   "source": [
    "import numpy as np\n",
    "import pandas as pd\n",
    "import matplotlib.pyplot as plt\n",
    "from IPython.display import display, Math, Latex, HTML, clear_output, Markdown, Javascript, clear_output\n",
    "import ipywidgets as widgets\n",
    "from ipywidgets import interact, FloatSlider, IntSlider, interactive, Layout, ButtonStyle, HBox\n",
    "from traitlets import traitlets\n",
    "\n",
    "\n",
    "import plotly as py\n",
    "import plotly.graph_objs as go\n",
    "from plotly.offline import download_plotlyjs, init_notebook_mode, plot, iplot\n",
    "init_notebook_mode(connected=True)\n",
    "\n",
    "\n",
    "\n",
    "HTML('''<script>\n",
    "  function code_toggle() {\n",
    "    if (code_shown){\n",
    "      $('div.input').hide('500');\n",
    "      $('#toggleButton').val('Show Code')\n",
    "    } else {\n",
    "      $('div.input').show('500');\n",
    "      $('#toggleButton').val('Hide Code')\n",
    "    }\n",
    "    code_shown = !code_shown\n",
    "  }\n",
    "  \n",
    "  $( document ).ready(function(){\n",
    "    code_shown=false;\n",
    "    $('div.input').hide()\n",
    "  });\n",
    "</script>\n",
    "<form action=\"javascript:code_toggle()\"><input type=\"submit\" id=\"toggleButton\" value=\"Show Code\"></form>''')"
   ]
  },
  {
   "cell_type": "code",
   "execution_count": 2,
   "metadata": {
    "hidden": false
   },
   "outputs": [],
   "source": [
    "# Function: executes next cell on button widget click event \n",
    "\n",
    "def run_cells(ev):\n",
    "    \n",
    "    display(Javascript('IPython.notebook.execute_cell_range(IPython.notebook.get_selected_index()+1,IPython.notebook.get_selected_index()+2)'))\n",
    "    return"
   ]
  },
  {
   "cell_type": "markdown",
   "metadata": {
    "hidden": false
   },
   "source": [
    "# <center>Interpret and Assess the Validity of Odds and Probability Statements</center>\n",
    "---\n",
    "\n",
    "In this Jupyter Notebook, you will be looking at examples of probabilistic statements that we encounter in our daily lives and some errors in our judgment that can arise when we try to reason with probabilistic statements. We will be looking at:\n",
    "\n",
    "- Examples of statements of probability and odds.\n",
    "- Expressing odds as a probability and vice versa.\n",
    "- Determining the probability of, or the odds on and against, an outcome in a situation.\n",
    "- Explain, using examples, how decisions may be based on probability or odds and on subjective judgments.\n",
    "- Solving a contextual problem that involves odds or probability.\n"
   ]
  },
  {
   "cell_type": "markdown",
   "metadata": {
    "hidden": false
   },
   "source": [
    "## Probability and Odds\n",
    "\n",
    "Let's begin with some definitions. Having a clear understanding of these definitions will help with the rest of the notebook, as these concepts will be used often. \n",
    "\n",
    "<div class=\"alert alert-warning\">\n",
    "<font color=\"black\"><b>Event:</b> \n",
    "An outcome of an experiment. These are the outcomes that are possible. \n",
    "</div>\n",
    "\n",
    "For example, when rolling a die, the possible events are the die landing on the numbers $1-6$.\n",
    "\n",
    "<div class=\"alert alert-warning\">\n",
    "<font color=\"black\"><b>Probability:</b> \n",
    "The likelihood that an event will occur. In a very large amount of trials, it is the fraction of times you expect the event to happen. This is expressed as a number between $0$ and $1$, with $1$ being $100$% likelihood.  \n",
    "</div>\n",
    "\n",
    "For example, after a large number of coin flips you would expect a properly weighted coin to land on heads half of the time. Therefore the probability of said event is $0.5$.\n",
    "\n",
    "<div class=\"alert alert-warning\">\n",
    "<font color=\"black\"><b>Odds:</b> \n",
    "The odds of an event $X$ is expressed as a ratio $X$ to $Y$. This the ratio between the probability that the event will occur and the probability that it will not occur. \n",
    "</div>\n",
    "\n",
    "For example, what are the odds of rolling a $1$ for a fair die? \n",
    "\n",
    "Well, the probability of rolling a $1$ is $(\\frac{1}{6})$ and the probability of not rolling a $1$ is $1-(\\frac{1}{6}) = (\\frac{5}{6})$ . Therefore the odds are: <br>\n",
    " <br>\n",
    "     \n",
    "<center>$\\frac{1}{6}:\\frac{5}{6} = 1:5$</center>\n",
    "\n",
    "**Note**: You would express the probability of an event *not* happening as: $1-p$, where $p$ is the probability of the event occurring. It will be useful to think in the negative case sometimes. "
   ]
  },
  {
   "cell_type": "markdown",
   "metadata": {
    "hidden": false
   },
   "source": [
    "### Different types of Odds\n",
    "\n",
    "<div class=\"alert alert-warning\">\n",
    "<font color=\"black\"><b>Odds Against:</b> \n",
    "This happens when the probability of the event not happening are higher than the event happening. Odds against are expressed with the larger number first.\n",
    "</div>\n",
    "    \n",
    "For example, the odds against rolling a 1 on a fair dice are 5:1.\n",
    "\n",
    "<div class=\"alert alert-warning\">\n",
    "<font color=\"black\"><b>Odds on:</b> \n",
    "These are the opposite of odds against, (i.e. The probability of the event happening are greater than it not happening).\n",
    "</div>\n",
    "    \n",
    "For example, the odds for rolling an even number or a 1 on a fair dice is 4:2\n",
    "\n",
    "<div class=\"alert alert-warning\">\n",
    "<font color=\"black\"><b>Even Odds:</b> \n",
    "This occurs when the probability of an event happening is equal to that of the event not happening. \n",
    "</div>\n",
    "    \n",
    "For example, tossing a fair coin as an even odds of landing on heads or tails. \n",
    "\n",
    "### Dependent vs. Independent Events\n",
    "\n",
    "\n",
    "<div class=\"alert alert-warning\">\n",
    "<font color=\"black\"><b>Independent Events:</b> \n",
    "Events that, if they occurs, do not influence the likelihood of any other event happening.  \n",
    "</div>\n",
    "\n",
    "For example, tossing a coin. The fact that one coin toss lands on heads does not affect the probability of the next coin toss. \n",
    "\n",
    "<div class=\"alert alert-warning\">\n",
    "<font color=\"black\"><b>Dependent Events:</b> \n",
    "Events that, if they occurs, change the future probability of the other events happening. \n",
    "</div>\n",
    "\n",
    "The most classic example is pulling cards at random from a deck of cards. If you take a card out and don't put it back in, then there are fewer cards in the deck. If you pulled an *ace of spades* from a standard deck of cards, with probability $(\\frac{1}{52})$, the probability of pulling an *ace of hearts* is now $(\\frac{1}{51})$. The first event of pulling a card at random *and not replacing it* influenced the probability of the next card being pulled. When evaluating probabilities, it is important to consider whether the events are *dependent or independent*.\n",
    "\n",
    "\n",
    "Let's try some true or false questions on what you have learned about odds and probability so far!"
   ]
  },
  {
   "cell_type": "code",
   "execution_count": 6,
   "metadata": {},
   "outputs": [
    {
     "data": {
      "text/latex": [
       "The probability of rolling an even number on a fair die is $\\frac{1}{2}$."
      ],
      "text/plain": [
       "<IPython.core.display.Latex object>"
      ]
     },
     "metadata": {},
     "output_type": "display_data"
    },
    {
     "data": {
      "application/vnd.jupyter.widget-view+json": {
       "model_id": "4e278786a97f4c0e93b62cc1af3d050c",
       "version_major": 2,
       "version_minor": 0
      },
      "text/plain": [
       "RadioButtons(options=('True', 'False'), value=None)"
      ]
     },
     "metadata": {},
     "output_type": "display_data"
    },
    {
     "data": {
      "application/vnd.jupyter.widget-view+json": {
       "model_id": "a0de13f0167d4a8ba12aac6209797229",
       "version_major": 2,
       "version_minor": 0
      },
      "text/plain": [
       "Button(button_style='info', description='Check Answers', layout=Layout(height='60px', width='25%'), style=Butt…"
      ]
     },
     "metadata": {},
     "output_type": "display_data"
    }
   ],
   "source": [
    "#trueFalseQuestion1 stores the true or false question that is being asked:\n",
    "trueFalseQuestion1 = Latex('The probability of rolling an even number on a fair die is $\\\\frac{1}{2}$.')\n",
    "display(trueFalseQuestion1)\n",
    "\n",
    "#a1 is the input button widget for true and false.\n",
    "a1 = widgets.RadioButtons(\n",
    "    options=['True', 'False'],\n",
    "    value= None,\n",
    "    disabled=False\n",
    ")\n",
    "display(a1)\n",
    "\n",
    "#bt1 is a button labeled \"Check Answer\".\n",
    "bt1 = widgets.Button(description = \"Check Answers\", \n",
    "                    layout = Layout(width = '25%', height = '60px'),\n",
    "                    button_style = 'info'\n",
    "                    )\n",
    "\n",
    "#Check if answer is correct.\n",
    "def check_answer(b):\n",
    "    #If the answer is correct:\n",
    "    if a1.value == 'True':\n",
    "        clear_output()\n",
    "        display(trueFalseQuestion1)\n",
    "        display(Latex(\"$\\;$ True\"))\n",
    "        display(Latex(\"$\\;$ Correct! A dice has equal parts odd and even numbers.\"))\n",
    "        display()\n",
    "    \n",
    "    #Otherwise:\n",
    "    else:\n",
    "        clear_output()\n",
    "        display(trueFalseQuestion1)\n",
    "        display(a1)\n",
    "        display(bt1)\n",
    "        display(Latex(\"$\\;$ Not quite, please try again.\"))\n",
    "        display(Latex(\"$\\;$ Remember, a dice is made up of equal part odd and even numbers.\"))\n",
    "\n",
    "bt1.on_click(check_answer)\n",
    "display(bt1)"
   ]
  },
  {
   "cell_type": "code",
   "execution_count": 8,
   "metadata": {
    "scrolled": false
   },
   "outputs": [
    {
     "data": {
      "text/latex": [
       "The odds of rolling an even number are $2:1$."
      ],
      "text/plain": [
       "<IPython.core.display.Latex object>"
      ]
     },
     "metadata": {},
     "output_type": "display_data"
    },
    {
     "data": {
      "text/latex": [
       "$\\;$ False"
      ],
      "text/plain": [
       "<IPython.core.display.Latex object>"
      ]
     },
     "metadata": {},
     "output_type": "display_data"
    },
    {
     "data": {
      "text/latex": [
       "$\\;$ Correct! A dice has equal parts odd and even numbers."
      ],
      "text/plain": [
       "<IPython.core.display.Latex object>"
      ]
     },
     "metadata": {},
     "output_type": "display_data"
    }
   ],
   "source": [
    "#trueFalseQuestion2 stores the true or false question that is being asked:\n",
    "trueFalseQuestion2 = Latex('The odds of rolling an even number are $2:1$.')\n",
    "display(trueFalseQuestion2)\n",
    "\n",
    "#a2 is the input button widget for true and false.\n",
    "a2 = widgets.RadioButtons(\n",
    "    options=['True', 'False'],\n",
    "    value= None,\n",
    "    disabled=False\n",
    ")\n",
    "display(a2)\n",
    "\n",
    "#bt2 is a button labeled \"Check Answer\".\n",
    "bt2 = widgets.Button(description = \"Check Answers\", \n",
    "                    layout = Layout(width = '25%', height = '60px'),\n",
    "                    button_style = 'info'\n",
    "                    )\n",
    "\n",
    "#Check if answer is correct.\n",
    "def check_answer(b):\n",
    "    #If the answer is correct:\n",
    "    if a2.value == 'False':\n",
    "        clear_output()\n",
    "        display(trueFalseQuestion2)\n",
    "        display(Latex(\"$\\;$ False\"))\n",
    "        display(Latex(\"$\\;$ Correct! A dice has equal parts odd and even numbers.\"))\n",
    "        display()\n",
    "    \n",
    "    #Otherwise:\n",
    "    else:\n",
    "        clear_output()\n",
    "        display(trueFalseQuestion2)\n",
    "        display(a2)\n",
    "        display(bt2)\n",
    "        display(Latex(\"$\\;$ Not quite, please try again.\"))\n",
    "        display(Latex(\"$\\;$ Remember, a dice is made up of equal part odd and even numbers.\"))\n",
    "\n",
    "bt2.on_click(check_answer)\n",
    "display(bt2)"
   ]
  },
  {
   "cell_type": "code",
   "execution_count": 10,
   "metadata": {},
   "outputs": [
    {
     "data": {
      "text/latex": [
       "The odds against rolling a $4$ are $1:5$."
      ],
      "text/plain": [
       "<IPython.core.display.Latex object>"
      ]
     },
     "metadata": {},
     "output_type": "display_data"
    },
    {
     "data": {
      "application/vnd.jupyter.widget-view+json": {
       "model_id": "5952f6dca03f4e3f80dabdb375a307c3",
       "version_major": 2,
       "version_minor": 0
      },
      "text/plain": [
       "RadioButtons(options=('True', 'False'), value=None)"
      ]
     },
     "metadata": {},
     "output_type": "display_data"
    },
    {
     "data": {
      "application/vnd.jupyter.widget-view+json": {
       "model_id": "b7612929bfcc405ea5b390b053a76365",
       "version_major": 2,
       "version_minor": 0
      },
      "text/plain": [
       "Button(button_style='info', description='Check Answers', layout=Layout(height='60px', width='25%'), style=Butt…"
      ]
     },
     "metadata": {},
     "output_type": "display_data"
    }
   ],
   "source": [
    "#trueFalseQuestion3 stores the true or false question that is being asked:\n",
    "trueFalseQuestion3 = Latex('The odds against rolling a $4$ are $1:5$.')\n",
    "display(trueFalseQuestion3)\n",
    "\n",
    "#a3 is the input button widget for true and false.\n",
    "a3 = widgets.RadioButtons(\n",
    "    options=['True', 'False'],\n",
    "    value= None,\n",
    "    disabled=False\n",
    ")\n",
    "display(a3)\n",
    "\n",
    "#bt3 is a button labeled \"Check Answer\".\n",
    "bt3 = widgets.Button(description = \"Check Answers\", \n",
    "                    layout = Layout(width = '25%', height = '60px'),\n",
    "                    button_style = 'info'\n",
    "                    )\n",
    "\n",
    "#Check if answer is correct.\n",
    "def check_answer(b):\n",
    "    #If the answer is correct:\n",
    "    if a3.value == 'False':\n",
    "        clear_output()\n",
    "        display(trueFalseQuestion3)\n",
    "        display(Latex(\"$\\;$ False\"))\n",
    "        display(Latex(\"$\\;$ Correct! The odds against rolling any number once is 5 : 1.\"))\n",
    "        display()\n",
    "    \n",
    "    #Otherwise:\n",
    "    else:\n",
    "        clear_output()\n",
    "        display(trueFalseQuestion3)\n",
    "        display(a3)\n",
    "        display(bt3)\n",
    "        display(Latex(\"$\\;$ Not quite, please try again.\"))\n",
    "        display(Latex(\"$\\;$ Remember, the odds against has the larger number in the front.\"))\n",
    "\n",
    "bt3.on_click(check_answer)\n",
    "display(bt3)"
   ]
  },
  {
   "cell_type": "code",
   "execution_count": 12,
   "metadata": {},
   "outputs": [
    {
     "data": {
      "text/latex": [
       "The odds of rolling an uneven number are $1:1$."
      ],
      "text/plain": [
       "<IPython.core.display.Latex object>"
      ]
     },
     "metadata": {},
     "output_type": "display_data"
    },
    {
     "data": {
      "application/vnd.jupyter.widget-view+json": {
       "model_id": "7b49fda03f514494a16e937fa43ab29e",
       "version_major": 2,
       "version_minor": 0
      },
      "text/plain": [
       "RadioButtons(options=('True', 'False'), value=None)"
      ]
     },
     "metadata": {},
     "output_type": "display_data"
    },
    {
     "data": {
      "application/vnd.jupyter.widget-view+json": {
       "model_id": "88c6cc92adde46c8ab2c38403a6828fa",
       "version_major": 2,
       "version_minor": 0
      },
      "text/plain": [
       "Button(button_style='info', description='Check Answers', layout=Layout(height='60px', width='25%'), style=Butt…"
      ]
     },
     "metadata": {},
     "output_type": "display_data"
    }
   ],
   "source": [
    "#trueFalseQuestion4 stores the true or false question that is being asked:\n",
    "trueFalseQuestion4 = Latex('The odds of rolling an uneven number are $1:1$.')\n",
    "display(trueFalseQuestion4)\n",
    "\n",
    "#a4 is the input button widget for true and false.\n",
    "a4 = widgets.RadioButtons(\n",
    "    options=['True', 'False'],\n",
    "    value= None,\n",
    "    disabled=False\n",
    ")\n",
    "display(a4)\n",
    "\n",
    "#bt4 is a button labeled \"Check Answer\".\n",
    "bt4 = widgets.Button(description = \"Check Answers\", \n",
    "                    layout = Layout(width = '25%', height = '60px'),\n",
    "                    button_style = 'info'\n",
    "                    )\n",
    "\n",
    "#Check if answer is correct.\n",
    "def check_answer(b):\n",
    "    #If the answer is correct:\n",
    "    if a4.value == 'True':\n",
    "        clear_output()\n",
    "        display(trueFalseQuestion4)\n",
    "        display(Latex(\"$\\;$ True\"))\n",
    "        display(Latex(\"$\\;$ Correct! A dice has equal parts odd and even numbers.\"))\n",
    "        display()\n",
    "    \n",
    "    #Otherwise:\n",
    "    else:\n",
    "        clear_output()\n",
    "        display(trueFalseQuestion4)\n",
    "        display(a4)\n",
    "        display(bt4)\n",
    "        display(Latex(\"$\\;$ Not quite, please try again.\"))\n",
    "        display(Latex(\"$\\;$ Remember, a dice is made up of equal part odd and even numbers.\"))\n",
    "\n",
    "bt4.on_click(check_answer)\n",
    "display(bt4)"
   ]
  },
  {
   "cell_type": "code",
   "execution_count": 15,
   "metadata": {
    "scrolled": true
   },
   "outputs": [
    {
     "data": {
      "text/latex": [
       "The probability of not rolling a $5$ is $\\frac{5}{6}$."
      ],
      "text/plain": [
       "<IPython.core.display.Latex object>"
      ]
     },
     "metadata": {},
     "output_type": "display_data"
    },
    {
     "data": {
      "application/vnd.jupyter.widget-view+json": {
       "model_id": "f0ffa2830d174847add8b200d5f1d7ec",
       "version_major": 2,
       "version_minor": 0
      },
      "text/plain": [
       "RadioButtons(options=('True', 'False'), value=None)"
      ]
     },
     "metadata": {},
     "output_type": "display_data"
    },
    {
     "data": {
      "application/vnd.jupyter.widget-view+json": {
       "model_id": "23c5425e1c1348a7b7e13c2a3d2516cf",
       "version_major": 2,
       "version_minor": 0
      },
      "text/plain": [
       "Button(button_style='info', description='Check Answers', layout=Layout(height='60px', width='25%'), style=Butt…"
      ]
     },
     "metadata": {},
     "output_type": "display_data"
    }
   ],
   "source": [
    "#trueFalseQuestion5 stores the true or false question that is being asked:\n",
    "trueFalseQuestion5 = Latex('The probability of not rolling a $5$ is $\\\\frac{5}{6}$.')\n",
    "display(trueFalseQuestion5)\n",
    "\n",
    "#a5 is the input button widget for true and false.\n",
    "a5 = widgets.RadioButtons(\n",
    "    options=['True', 'False'],\n",
    "    value= None,\n",
    "    disabled=False\n",
    ")\n",
    "display(a5)\n",
    "\n",
    "#bt5 is a button labeled \"Check Answer\".\n",
    "bt5 = widgets.Button(description = \"Check Answers\", \n",
    "                    layout = Layout(width = '25%', height = '60px'),\n",
    "                    button_style = 'info'\n",
    "                    )\n",
    "\n",
    "#Check if answer is correct.\n",
    "def check_answer(b):\n",
    "    #If the answer is correct:\n",
    "    if a5.value == 'True':\n",
    "        clear_output()\n",
    "        display(trueFalseQuestion5)\n",
    "        display(Latex(\"$\\;$ True\"))\n",
    "        display(Latex(\"$\\;$ Correct! The probability of not rolling a $5 = 1 - ({1\\\\over6}) = {5\\\\over6}.$\"))\n",
    "        display()\n",
    "    \n",
    "    #Otherwise:\n",
    "    else:\n",
    "        clear_output()\n",
    "        display(trueFalseQuestion5)\n",
    "        display(a5)\n",
    "        display(bt5)\n",
    "        display(Latex(\"$\\;$ Not quite, please try again.\"))\n",
    "        display(Latex(r\"$\\;$ Remember, the odds of not rolling a number $n = 1 - P(\\textrm{Rolling }n).$\"))\n",
    "\n",
    "bt5.on_click(check_answer)\n",
    "display(bt5)"
   ]
  },
  {
   "cell_type": "code",
   "execution_count": 16,
   "metadata": {
    "scrolled": true
   },
   "outputs": [
    {
     "data": {
      "text/latex": [
       "The probability of rolling a $7$ on a regular die is $1$."
      ],
      "text/plain": [
       "<IPython.core.display.Latex object>"
      ]
     },
     "metadata": {},
     "output_type": "display_data"
    },
    {
     "data": {
      "application/vnd.jupyter.widget-view+json": {
       "model_id": "5b678d7d09ae4284b3e9f6d728c93ebb",
       "version_major": 2,
       "version_minor": 0
      },
      "text/plain": [
       "RadioButtons(options=('True', 'False'), value=None)"
      ]
     },
     "metadata": {},
     "output_type": "display_data"
    },
    {
     "data": {
      "application/vnd.jupyter.widget-view+json": {
       "model_id": "092d367620c748fa92211d6fa9aff9d3",
       "version_major": 2,
       "version_minor": 0
      },
      "text/plain": [
       "Button(button_style='info', description='Check Answers', layout=Layout(height='60px', width='25%'), style=Butt…"
      ]
     },
     "metadata": {},
     "output_type": "display_data"
    }
   ],
   "source": [
    "#trueFalseQuestion6 stores the true or false question that is being asked:\n",
    "trueFalseQuestion6 = Latex('The probability of rolling a $7$ on a regular die is $1$.')\n",
    "display(trueFalseQuestion6)\n",
    "\n",
    "#a6 is the input button widget for true and false.\n",
    "a6 = widgets.RadioButtons(\n",
    "    options=['True', 'False'],\n",
    "    value= None,\n",
    "    disabled=False\n",
    ")\n",
    "display(a6)\n",
    "\n",
    "#bt5 is a button labeled \"Check Answer\".\n",
    "bt6 = widgets.Button(description = \"Check Answers\", \n",
    "                    layout = Layout(width = '25%', height = '60px'),\n",
    "                    button_style = 'info'\n",
    "                    )\n",
    "\n",
    "#Check if answer is correct.\n",
    "def check_answer(b):\n",
    "    #If the answer is correct:\n",
    "    if a6.value == 'False':\n",
    "        clear_output()\n",
    "        display(trueFalseQuestion6)\n",
    "        display(Latex(\"$\\;$ False\"))\n",
    "        display(Latex(\"$\\;$ Correct! A regular die only has numbers between $1$ and $6$. So, the probability\\\n",
    "        of rolling a 7 is 0.\"))\n",
    "        display()\n",
    "    \n",
    "    #Otherwise:\n",
    "    else:\n",
    "        clear_output()\n",
    "        display(trueFalseQuestion6)\n",
    "        display(a6)\n",
    "        display(bt6)\n",
    "        display(Latex(\"$\\;$ Not quite, please try again.\"))\n",
    "        display(Latex(r\"$\\;$ Remember, a regular die only goes from $1$ to $6$.\"))\n",
    "\n",
    "bt6.on_click(check_answer)\n",
    "display(bt6)"
   ]
  },
  {
   "cell_type": "markdown",
   "metadata": {
    "hidden": false
   },
   "source": [
    "**Wording** plays a crucial role in evaluating these statements. This last exercise demonstrated that there are many ways to phrase these questions. It is important to pay attention to the structure of these statements when evaluating and assessing them."
   ]
  },
  {
   "cell_type": "markdown",
   "metadata": {
    "hidden": false
   },
   "source": [
    "## Converting between Odds and Probability\n",
    "\n",
    "\n",
    "Now that we understand what odds and probabilities mean, we can look at how they are related. We can also look at how we can express one as the other. \n",
    "\n",
    "To describe an odd in favour of an event $E$, we have to think about what we are writing a ratio of. We are writing the ratio of $E$ happening versus that of $E$ not happening. This we write as $P(E)$ and $1-P(E)$ respectively.\n",
    "\n",
    "We can write this as an equation:\n",
    "\n",
    "$$\\text{Odds for the event $E$ occurring} = {P(E) \\over 1-P(E)}$$\n",
    "\n",
    "As a ratio, we would write this as $P(E):1-P(E).$  \n",
    "\n",
    "If the odds are $r:s$ in favour of an event $E$, we write this as:\n",
    "$$\\text{Odds for the event $E$ occurring} = \\displaystyle { ({r \\over s}) \\over {1 + ({r \\over s}) } }.$$\n",
    "\n",
    "However, if the odds are against the event $E$ occurring, we would write the equation:\n",
    "\n",
    "$$\\text{Odds against the event $E$ occurring} = {1-P(E) \\over P(E)}$$\n",
    "\n",
    "As a ratio, we would write this as $1-P(E):P(E).$"
   ]
  },
  {
   "cell_type": "code",
   "execution_count": 19,
   "metadata": {
    "hidden": false,
    "scrolled": true
   },
   "outputs": [
    {
     "data": {
      "text/latex": [
       "If the odds against an event happening are $N:1$, where $N$ is a natural number, what is the probability of the event happening? (Let $p$ be the probability of the event occurring)"
      ],
      "text/plain": [
       "<IPython.core.display.Latex object>"
      ]
     },
     "metadata": {},
     "output_type": "display_data"
    },
    {
     "data": {
      "application/vnd.jupyter.widget-view+json": {
       "model_id": "4c62e92f412d4aa1adf9980a9af0e23b",
       "version_major": 2,
       "version_minor": 0
      },
      "text/plain": [
       "Button(button_style='info', description='Show Answer', layout=Layout(height='60px', width='25%'), style=Button…"
      ]
     },
     "metadata": {},
     "output_type": "display_data"
    }
   ],
   "source": [
    "#question is the question the user is asked.\n",
    "question = Latex('If the odds against an event happening are $N:1$, where $N$ is a natural number, what is the \\\n",
    "probability of the event happening? (Let $p$ be the probability of the event occurring)')\n",
    "display(question)\n",
    "\n",
    "#Steps for the answer:\n",
    "prob_button= widgets.Button(description = \"Show Answer\", \n",
    "                            layout = Layout(width = '25%', height = '60px'),\n",
    "                            button_style = 'info'\n",
    "                            )\n",
    "display(prob_button)\n",
    "\n",
    "#If \"Show Answer\" is clicked:\n",
    "def prob_answer(b):\n",
    "    clear_output()\n",
    "    display(question)\n",
    "    display(Latex(\"$\\;$ The formula we need here is $N = {1-p \\\\over p}$\"))\n",
    "    display(Latex(\"$\\;$ Why? This is because odds against is the reciprocal ratio of odds on.\"))\n",
    "    display(Latex(\"$\\;$ Rearrange the formula: $Np + p = 1$\"))\n",
    "    display(Latex(\"$\\;$ Isolate for the value you're looking for: $p(1+N) = 1$\"))\n",
    "    display(Latex(\"$\\;$ $\\\\Rightarrow p = {1 \\\\over N+1}$\"))\n",
    "    return\n",
    "\n",
    "prob_button.on_click(prob_answer)"
   ]
  },
  {
   "cell_type": "markdown",
   "metadata": {
    "hidden": false
   },
   "source": [
    "Check to make sure this works for the dice roll!\n",
    "\n",
    "---"
   ]
  },
  {
   "cell_type": "markdown",
   "metadata": {
    "hidden": false
   },
   "source": [
    "# <center> Bayesian vs. Frequentist Reasoning </center>\n",
    "    \n",
    "These two schools of thinking are the foundation of modern probability theory. Since you are not taking a course in probability theory, we won't delve too deep into these subjects. Still, learning their basic principles will help you check the validity of statements about odds and probability.\n",
    "\n",
    "<div class=\"alert alert-warning\">\n",
    "<font color=\"black\"><b>Frequentist School:</b> \n",
    "Focuses on large amounts of data to assess probabilities. \n",
    "</div>\n",
    "    \n",
    "<div class=\"alert alert-warning\">\n",
    "<font color=\"black\"><b>Bayesian School:</b> \n",
    "The Bayesian approach was named after the 18th century Reverend Thomas Bayes. It employs the use of conditional probabilities. They look at large amounts of data but also want to consider the conditional probabilities. These are the likelihoods of a certain event occurring in the first place.\n",
    "</div>\n",
    "\n",
    "It's easiest to understand their differences through an example:\n",
    "> Say you have a bird feeder hung from a stand which keeps track of how many and what type of birds come to feed. At some point, it is noted that 2 Emperor Penguins have come to feed. If there were $N$ birds over 1 day:\n",
    "- *The Frequentist* would say that there is a $\\frac{2}{N}$ probability that an Emperor Penguin will fly up to the bird feeder in a day. \n",
    "- *The Bayesian*, with their conditional probabilities, disagrees. The Bayesian knows the percentage of all the birds in Canada that are Emperor Penguins. This percentage happens to be very small (some might say $0$). So, the Bayesian says this is an incredibly rare event.\n",
    "<br /><br />\n",
    "By considering a prior probability, the Bayesian drew a more educated conclusion. \n",
    "\n",
    "Before you decide which approach is better to use, we must note a couple very important points:\n",
    "\n",
    "- What if the conditional probabilities are incorrect? Where did the Bayesian get their data from? What were the methods used? Were they biased? The Bayesian can sometimes unknowingly introduce biases with their prior knowledge. This may make the interpretation of the probability values somewhat subjective.\n",
    "\n",
    "- The Frequentist would rely only on the data collected. This means they would remain as unbiased as possible.\n",
    "\n",
    "It is crucial to understand the pros and cons of each school of thought. Using one approach or the other can be useful based on the context of the problem and data set.  "
   ]
  },
  {
   "cell_type": "markdown",
   "metadata": {
    "hidden": false
   },
   "source": [
    "## Dartboard Exercise\n",
    "\n",
    "Let's do a bit more of an applied exercise for the concepts you have learned thus far. Consider the dartboard pictured below, if a dart is thrown at random, what are the odds on it hitting the red circle?"
   ]
  },
  {
   "cell_type": "code",
   "execution_count": 39,
   "metadata": {
    "hidden": false,
    "scrolled": false
   },
   "outputs": [
    {
     "data": {
      "text/html": [
       "\n",
       "<div style=\"text-align: center\">\n",
       "    <iframe width=\"500px\" height=\"500px\" src=\"dartboard_probability.html\" frameborder=\"0\"></iframe>\n",
       "</div>\n"
      ],
      "text/plain": [
       "<IPython.core.display.HTML object>"
      ]
     },
     "metadata": {},
     "output_type": "display_data"
    }
   ],
   "source": [
    "%%html\n",
    "\n",
    "<div style=\"text-align: center\">\n",
    "    <iframe width=\"500px\" height=\"500px\" src=\"../images/dartboard_probability.html\" frameborder=\"0\"></iframe>\n",
    "</div>"
   ]
  },
  {
   "cell_type": "markdown",
   "metadata": {},
   "source": [
    "*Approach to solving this problem*: We need to understand how to calculate a probability in this context. We will be given the ratio of the area of the red circle to the entire circle. We must calculate the area of the entire circle and the area of the red circle. After this has been done, we can calculate the probability, and then the odds!\n",
    "\n",
    "*For our current problem*: Take $r_1$ to be the radius of the entire dartboard and $r_2 = (\\frac{r_1}{2})$ to be the radius of the red circle. Calculate the probability that a dart thrown at random will land within the red circle."
   ]
  },
  {
   "cell_type": "code",
   "execution_count": 22,
   "metadata": {
    "hidden": false
   },
   "outputs": [
    {
     "data": {
      "application/vnd.jupyter.widget-view+json": {
       "model_id": "9e5b7b79bf5d4e7f916338ec3173c644",
       "version_major": 2,
       "version_minor": 0
      },
      "text/plain": [
       "Button(button_style='info', description='Check Answer', layout=Layout(height='60px', width='25%'), style=Butto…"
      ]
     },
     "metadata": {},
     "output_type": "display_data"
    }
   ],
   "source": [
    "#Dartboard exercise part 1 answer\n",
    "dboard1 = widgets.Button(description = \"Check Answer\", \n",
    "                         layout = Layout(width = '25%', height = \"60px\"),\n",
    "                         button_style = 'info'\n",
    "                        )\n",
    "display(dboard1)\n",
    "\n",
    "def check_dboard1(b):\n",
    "    clear_output()\n",
    "    display(Latex(\"$\\;$ The area of the entire dartboard is given by: $\\pi (r_1)^2$\"))\n",
    "    display(Latex(\"$\\;$ The ratio of the areas is given by: $\\\\frac{\\pi (r_2)^2}{\\pi (r_1)^2}$\"))\n",
    "    display(Latex(\"$\\;$ Simplifying and substituting the value for $r_2$ we obtain: \\\n",
    "                  $\\\\frac{(\\\\frac{r_1}{2})^2}{(r_1)^2} = \\\\frac{1}{4}$\"))\n",
    "    display(Latex(\"$\\;$ Thus the probability of landing on the red circle is $(\\\\frac{1}{4}$)\"))\n",
    "    \n",
    "    return\n",
    "\n",
    "dboard1.on_click(check_dboard1)"
   ]
  },
  {
   "cell_type": "markdown",
   "metadata": {
    "hidden": false
   },
   "source": [
    "Now, what are the odds against landing in the red cirle?"
   ]
  },
  {
   "cell_type": "code",
   "execution_count": 24,
   "metadata": {
    "hidden": false,
    "scrolled": true
   },
   "outputs": [
    {
     "data": {
      "application/vnd.jupyter.widget-view+json": {
       "model_id": "4d981ab7d42b467a86b16f30057fe3b2",
       "version_major": 2,
       "version_minor": 0
      },
      "text/plain": [
       "Button(button_style='info', description='Check Answer', layout=Layout(height='60px', width='25%'), style=Butto…"
      ]
     },
     "metadata": {},
     "output_type": "display_data"
    }
   ],
   "source": [
    "#dartboard exercise part 2\n",
    "\n",
    "dboard2_button = widgets.Button(description = \"Check Answer\", \n",
    "                                layout = Layout(width = '25%', height = '60px'),\n",
    "                                button_style = 'info'\n",
    "                               )\n",
    "display(dboard2_button)\n",
    "\n",
    "def check_dboard2(b):\n",
    "    clear_output()\n",
    "    display(Latex(\"$\\;$ The probability of landing in the red circle is $(\\\\frac{1}{4})$, \\\n",
    "                  therefore the probability that it won't hit the red circle is $1-(\\\\frac{1}{4}) \\\n",
    "                  = (\\\\frac{3}{4})$.\"))\n",
    "    display(Latex(\"$\\;$ As explained above, we take the ratio $(\\\\frac{3}{4}):(\\\\frac{1}{4})$.\"))\n",
    "    display(Latex(\"$\\;$ Thus the odds against landing in the red circle are $3:1$.\"))\n",
    "    \n",
    "    return\n",
    "dboard2_button.on_click(check_dboard2)\n",
    "                            "
   ]
  },
  {
   "cell_type": "markdown",
   "metadata": {
    "hidden": false
   },
   "source": [
    "Now, let's try some more difficult questions with the dartboard. These may take a bit more time to work through. If you would like to review some more material, please go through the rest of the notebook and then come back to these! Try taking the time to solve the questions on paper before pressing the \"Show Answer\" button. While it may be tempting, it is always more rewarding to attempt to solve it yourself."
   ]
  },
  {
   "cell_type": "code",
   "execution_count": 26,
   "metadata": {
    "hidden": false
   },
   "outputs": [
    {
     "data": {
      "application/vnd.jupyter.widget-view+json": {
       "model_id": "1238c481bed74e3fa31969e711476e73",
       "version_major": 2,
       "version_minor": 0
      },
      "text/plain": [
       "Button(button_style='info', description='Question #1', layout=Layout(height='60px', width='25%'), style=Button…"
      ]
     },
     "metadata": {},
     "output_type": "display_data"
    }
   ],
   "source": [
    "question1 = widgets.Button(description = \"Question #1\", \n",
    "                           layout = Layout(width = '25%', height = '60px'),\n",
    "                           button_style = 'info'\n",
    "                          )\n",
    "display(question1)\n",
    "\n",
    "q1answer = widgets.Button(description = \"Show Answer\")\n",
    "\n",
    "def q1check(b):\n",
    "    clear_output()\n",
    "    display(Latex(\"What is the probability of landing on the $8$?\"))\n",
    "    display(q1answer)\n",
    "    return\n",
    "question1.on_click(q1check)\n",
    "\n",
    "def q1ans(b):\n",
    "    clear_output()\n",
    "    display(Latex(\"What is the probability of landing on the $8$?\"))\n",
    "    display(Latex(\"$\\;$ We start with the probability of landing in the red circle, $(p = \\\\frac{1}{4})$\"))\n",
    "    display(Latex(\"$\\;$ Then, we get the probability of landing in the blue circle, $(1-p = \\\\frac{3}{4})$\"))\n",
    "    display(Latex(\"$\\;$ Since the blue circle is divided into $6$ equal parts, one of which being the $8$, \\\n",
    "    we divide this probability by $6$.\"))\n",
    "    display(Latex(\"$\\;$ Thus the probability of landing on the $8$ is given by: $\\\\frac{3}{4 \\\\times 6} \\\n",
    "    = \\\\frac{3}{24} = \\\\frac{1}{8}$\"))\n",
    "    return\n",
    "\n",
    "q1answer.on_click(q1ans)\n",
    "    "
   ]
  },
  {
   "cell_type": "code",
   "execution_count": 30,
   "metadata": {
    "hidden": false
   },
   "outputs": [
    {
     "data": {
      "application/vnd.jupyter.widget-view+json": {
       "model_id": "5a2a320efad94027bbfc021b931f7585",
       "version_major": 2,
       "version_minor": 0
      },
      "text/plain": [
       "Button(button_style='info', description='Question #2', layout=Layout(height='60px', width='25%'), style=Button…"
      ]
     },
     "metadata": {},
     "output_type": "display_data"
    }
   ],
   "source": [
    "question2 = widgets.Button(description = \"Question #2\", \n",
    "                           layout = Layout(width = '25%', height = '60px'),\n",
    "                           button_style = 'info'\n",
    "                          )\n",
    "display(question2)\n",
    "\n",
    "q2answer = widgets.Button(description = \"Show Answer\")\n",
    "\n",
    "def q2check(b):\n",
    "    clear_output()\n",
    "    display(Latex(\"What is the probability of landing on an even number?\"))\n",
    "    display(q2answer)\n",
    "    return\n",
    "question2.on_click(q2check)\n",
    "\n",
    "def q2ans(b):\n",
    "    clear_output()\n",
    "    display(Latex(\"What is the probability of landing on an even number?\"))\n",
    "    display(Latex(\"$\\;$ There's an easy and a hard way to solve this problem. \\\n",
    "                  Let's start with the more difficult approach.\"))\n",
    "    display(Latex(\"$\\;$ Let's divide up the probabilities for each colour of the dartboard:\"))\n",
    "    display(Latex(\"$\\;$ The probability of landing in the red circle is $(\\\\frac{1}{4})$, and \\\n",
    "                  half of the red circle contains even numbers.\"))\n",
    "    display(Latex(\"$\\;$ So, the probability of landing on an even number in the red circle is $(\\\\frac{1}{8})$\"))\n",
    "    display(Latex(\"$\\;$ The probability of landing in the blue circle is $(\\\\frac{3}{4})$, and \\\n",
    "                  half of the blue circle contains even numbers.\"))\n",
    "    display(Latex(\"$\\;$ So, the probability of landing on an even number in the blue circle is $(\\\\frac{3}{8})$.\"))\n",
    "    display(Latex(\"$\\;$ Since these regions are completely different, we simply add the two probabilities: \\\n",
    "                  $(\\\\frac{3}{8}) + (\\\\frac{1}{8}) = (\\\\frac{1}{2})$.\"))\n",
    "    display(Latex(\"$\\;$ The easy way: Exactly half the board contains an even number...\"))\n",
    "    return\n",
    "\n",
    "q2answer.on_click(q2ans)\n",
    "    "
   ]
  },
  {
   "cell_type": "code",
   "execution_count": 29,
   "metadata": {
    "hidden": false
   },
   "outputs": [
    {
     "data": {
      "application/vnd.jupyter.widget-view+json": {
       "model_id": "a62a85bd35464052bc497e7dc7f87815",
       "version_major": 2,
       "version_minor": 0
      },
      "text/plain": [
       "Button(button_style='info', description='Question #3', layout=Layout(height='60px', width='25%'), style=Button…"
      ]
     },
     "metadata": {},
     "output_type": "display_data"
    }
   ],
   "source": [
    "question3 = widgets.Button(description = \"Question #3\", \n",
    "                           layout = Layout(width = '25%', height = '60px'),\n",
    "                           button_style = 'info'\n",
    "                          )\n",
    "display(question3)\n",
    "\n",
    "q3answer = widgets.Button(description = \"Show Answer\")\n",
    "\n",
    "def q3check(b):\n",
    "    clear_output()\n",
    "    display(Latex(\"What is the probability of landing on a $1$ and then a $10$?\"))\n",
    "    display(q3answer)\n",
    "    return\n",
    "question3.on_click(q3check)\n",
    "\n",
    "def q3ans(b):\n",
    "    clear_output()\n",
    "    display(Latex(\"$\\;$ What is the probability of landing on a $1$ and then a $10$?\"))\n",
    "    display(Latex(\"$\\;$ First off, we note that the two events are independent of \\\n",
    "                  one another. Next, we have to calculate the probability of each event.\"))\n",
    "    display(Latex(\"$\\;$ The probability to land on the $1$ is $(\\\\frac{1}{24})$, and \\\n",
    "                  the probability of hitting the ten is $(\\\\frac{1}{8})$.\"))\n",
    "    display(Latex(\"$\\;$ Finally, we multiply the two probabilities together. This gives us the \\\n",
    "                  probability of these events happening in succession to get:\"))\n",
    "    display(Latex(\"$\\; \\\\frac{1}{24} \\\\times \\\\frac{1}{8} = \\\\frac{1}{192}$.\"))\n",
    "    \n",
    "    return\n",
    "\n",
    "q3answer.on_click(q3ans)\n",
    "    "
   ]
  },
  {
   "cell_type": "markdown",
   "metadata": {
    "hidden": false
   },
   "source": [
    "This dartboard example can also be used to see the different ways of assessing validity.\n",
    "\n",
    "Use the frequentist approach to determine the probability of landing on the red circle or on a certain number. Remember that the frequentist assumes no prior knowledge about the dartboard. They must collect data. Note where the random throws lands. Keep track of both the number of throws, $N$, and the number of times, $m$, they land on the red circle. How many throws until $\\frac{m}{N} \\approx \\frac{1}{4}$? \n",
    "\n",
    "Remember, the frequentist approach relies on large data sets! See if there is a convergence towards $\\frac{1}{4}$ after 20 throws. "
   ]
  },
  {
   "cell_type": "markdown",
   "metadata": {
    "hidden": false
   },
   "source": [
    "---\n",
    "## Making Decisions Based on Odds & Probability\n",
    "\n",
    "\n",
    "One topic we may hear in the news that uses odds and probability is that of lottery winners. According to CBC, approximately a quarter of all Canadians play the lottery weekly. We can buy a ticket and choose three sets of seven numbers for $5.00. Now, how do we calculate the odds of winning?\n",
    "\n",
    "Consider [Lotto Max](http://lotto.bclc.com/lotto-max-and-extra/prizes-and-odds.html). In this lottery game, the player selects 7 distinct numbers from 1 to 49. We can count the number of ways to do this by using the  _Choose Function_ (Also known as the [Binomial Coefficients](https://en.wikipedia.org/wiki/Binomial_coefficient)). This gives us the number of ways to choose $k$ non-ordered elements from a fixed set of $n$ elements, which we write as follows: \n",
    "\n",
    "$${n \\choose k} = {n! \\over {k!(n-k)!}}$$\n",
    "\n",
    "Here, $n$ and $k$ are both positive integers and $n!$ means $n\\cdot(n-1)\\cdot(n-2)\\cdots 3\\cdot 2\\cdot 1$, (Some positive integer $n$ multiplied by every positive integer less than it). Now, back to the lottery. \n",
    "\n",
    "We have $k=7$ numbers to choose from a total of $n=49$ numbers. The number of ways to do this is given by:\n",
    "\n",
    "$${49 \\choose 7} = {49! \\over {7!(49-7)!}} = {49! \\over {7!42!}} = {49\\cdot 48\\cdot 47\\cdot 46\\cdot 45\\cdot 44\\cdot 43\\cdot 42! \\over {7!42!}} = {49\\cdot 48\\cdot 47\\cdot 46\\cdot 45\\cdot 44\\cdot 43 \\over {7\\cdot6\\cdot5\\cdot4\\cdot3\\cdot2\\cdot 1}} = 85,900,584$$\n",
    "\n",
    "To win the lottery, we must hold a winning ticket, where one of the sets of numbers we chose matches all 7 of the winning numbers. Note that there is exactly one set of such set of winning numbers.\n",
    "\n",
    "Since a $5.00 ticket allows us to choose three sets of seven numbers, our chances of winning are slightly better. This is assuming that we don't choose exactly the same seven numbers for two or three of our sets.\n",
    "\n",
    "So, we have three of the possible $85,900,584$ seven number configurations. This makes the odds for holding a winning ticket as $3:85,900,584$, (Or $1:28,633,528$).\n",
    "\n",
    "**Exploration:** Every ticket comes with three sets of seven numbers we can choose from. We saw that the odds of having a winning ticket is $3:85,900,584$, (Or $1:28,633,528$ simplified). If we had only one set of seven numbers to choose from in a single ticket, the odds of winning would be much lower -  $1:85,900,584$. So, in comparing having one set of number to having 3 sets of numbers, our chances seem to have improved. \n",
    "\n",
    "**Exploration Question 1:** Would buying more tickets improve our chances of winning?"
   ]
  },
  {
   "cell_type": "code",
   "execution_count": 31,
   "metadata": {
    "hidden": false,
    "scrolled": false
   },
   "outputs": [
    {
     "data": {
      "application/vnd.jupyter.widget-view+json": {
       "model_id": "8efa60831f094379b282d7120fd59645",
       "version_major": 2,
       "version_minor": 0
      },
      "text/plain": [
       "Textarea(value='', layout=Layout(height='250px', width='50%'), placeholder='Enter your answer here.')"
      ]
     },
     "metadata": {},
     "output_type": "display_data"
    },
    {
     "data": {
      "application/vnd.jupyter.widget-view+json": {
       "model_id": "9de10e0aa3d547c0b0271ab5466dabc1",
       "version_major": 2,
       "version_minor": 0
      },
      "text/plain": [
       "Button(button_style='info', description='Save & View Answer', layout=Layout(height='30px', width='50%'), style…"
      ]
     },
     "metadata": {},
     "output_type": "display_data"
    }
   ],
   "source": [
    "decision_q1_ctr = 0\n",
    "\n",
    "# Exercise 2 widgets\n",
    "\n",
    "decision_q1_button = widgets.Button(button_style='info', description=\"Save & View Answer\", \\\n",
    "                                    layout=Layout(width='50%', height='30px') )\n",
    "decision_q1_text = widgets.Textarea( placeholder='Enter your answer here.', description='', \\\n",
    "                                    disabled=False , layout = Layout(width='50%',height='250px')  )\n",
    "\n",
    "display(decision_q1_text)\n",
    "display(decision_q1_button)\n",
    "\n",
    "decision_q1_button.on_click( run_cells )"
   ]
  },
  {
   "cell_type": "code",
   "execution_count": 32,
   "metadata": {
    "hidden": false
   },
   "outputs": [],
   "source": [
    "decision_q1_ctr += 1\n",
    "\n",
    "# Explanation to display in markdown format\n",
    "\n",
    "exp_q1_line1 = \"Would buying more tickets improve our chances of winning? **Yes.**\"\n",
    "exp_q1_line2 = \"From a technical perspective, buying more tickets would improve our chance of winning. \\\n",
    "For example, if we buy two tickets, we now have a $6:89,900,584$ chance of winning. That is \\\n",
    "approximately a $1$ out of $14,983,430$ chance.\"\n",
    "exp_q1_line3 = \"Let $n$ be the number of tickets. Then every $n$ tickets gives us $3n$ sets of seven \\\n",
    "numbers to choose from. We can see that as we increase $n$, the fraction ${89,900,584 \\over 3n}$ becomes \\\n",
    "smaller. This makes our chances of winning approximately $1$ out of ${89,900,584 \\over 3n}.$ For instance, \\\n",
    "if we buy $n=7$ tickets, then our chance of winning is approximately 1 out of ${89,900,594 \\over 21}$. \\\n",
    "That is, approximately a $1$ out of $4,280,980$ chance.\"\n",
    "\n",
    "# Executes when user saves answer\n",
    "\n",
    "if(decision_q1_ctr >= 2):\n",
    "\n",
    "    decision_q1_button.close()\n",
    "    user_decision_q1_text = decision_q1_text.value\n",
    "\n",
    "    display(Markdown(\"**Explanation: **\"))\n",
    "    display(Markdown(exp_q1_line1))\n",
    "    display(Markdown(exp_q1_line2))\n",
    "    display(Markdown(exp_q1_line3))\n",
    "    \n",
    "    display(Markdown(\"**You wrote: **\"))\n",
    "    display(Markdown(user_decision_q1_text))"
   ]
  },
  {
   "cell_type": "markdown",
   "metadata": {
    "hidden": false
   },
   "source": [
    "**Exploration Question 2.** Would this be a sound financial strategy?"
   ]
  },
  {
   "cell_type": "code",
   "execution_count": 36,
   "metadata": {
    "hidden": false,
    "scrolled": false
   },
   "outputs": [
    {
     "data": {
      "application/vnd.jupyter.widget-view+json": {
       "model_id": "5f82a763fa6b4ce29fbc9547b0c2fd9a",
       "version_major": 2,
       "version_minor": 0
      },
      "text/plain": [
       "Textarea(value='', layout=Layout(height='250px', width='50%'), placeholder='Enter your answer here.')"
      ]
     },
     "metadata": {},
     "output_type": "display_data"
    },
    {
     "data": {
      "application/vnd.jupyter.widget-view+json": {
       "model_id": "1938f288141a4ffeae769922dbf25fb8",
       "version_major": 2,
       "version_minor": 0
      },
      "text/plain": [
       "Button(button_style='info', description='Save & View Answer', layout=Layout(height='30px', width='50%'), style…"
      ]
     },
     "metadata": {},
     "output_type": "display_data"
    }
   ],
   "source": [
    "decision_q2_ctr = 0\n",
    "\n",
    "# Exercise 2 widgets\n",
    "\n",
    "decision_q2_button = widgets.Button(button_style='info',description=\"Save & View Answer\", layout=Layout(width='50%', height='30px') )\n",
    "decision_q2_text = widgets.Textarea( placeholder='Enter your answer here.', description='', disabled=False , layout = Layout(width='50%',height='250px')  )\n",
    "\n",
    "display(decision_q2_text)\n",
    "display(decision_q2_button)\n",
    "\n",
    "decision_q2_button.on_click( run_cells )\n",
    "\n",
    "decision_q1_ctr = 0"
   ]
  },
  {
   "cell_type": "code",
   "execution_count": 37,
   "metadata": {},
   "outputs": [],
   "source": [
    "decision_q2_ctr += 1\n",
    "\n",
    "# Explanation to display in markdown format\n",
    "\n",
    "exp_q2_line1 = \"Would this be a sound financial strategy? **No.**\"\n",
    "exp_q2_line2 = \"While it would technically increase your chances, buying more tickets would not be a good\\\n",
    "financial strategy. For example, if we bought 1000 tickets, we would have a $1000:89,900,584$ chance of winning. \\\n",
    "That is approximately a $1$ out of $29,967$ chance.\"\n",
    "exp_q2_line3 = \"So, the odds of you winning if you bought 1000 tickets are still not great. Plus, for every $n$ \\\n",
    "tickets you buy, you pay 5$n$ dollars. That means that you would have spent $5,000 dollars to get 1000 tickets. \"\n",
    "\n",
    "# Executes when user saves answer\n",
    "\n",
    "if(decision_q2_ctr >= 2):\n",
    "\n",
    "    decision_q2_button.close()\n",
    "    user_decision_q2_text = decision_q2_text.value\n",
    "\n",
    "    display(Markdown(\"**Explanation: **\"))\n",
    "    display(Markdown(exp_q2_line1))\n",
    "    display(Markdown(exp_q2_line2))\n",
    "    display(Markdown(exp_q2_line3))\n",
    "    \n",
    "    display(Markdown(\"**You wrote: **\"))\n",
    "    display(Markdown(user_decision_q2_text))"
   ]
  },
  {
   "cell_type": "markdown",
   "metadata": {
    "hidden": false
   },
   "source": [
    "---\n",
    "## Conclusion\n",
    "\n",
    "In this Jupyter Notebook by Callysto, you learned about assessing the validity of odds and probability statements. We first outlined the concepts of:\n",
    "\n",
    "* *Events*, \n",
    "* *Probability*, \n",
    "* And *Odds*. \n",
    "\n",
    "Thereafter, we defined some commonly used types of odds:\n",
    "\n",
    "* *Odds on*,\n",
    "* *Odds against*, \n",
    "* And *Even odds*.\n",
    "\n",
    "We learnt the differences between *Dependent* and *Independent events*. We also elucidated the perspectives of Bayesian and Frequentist reasoning. These two schools of thought, along with an understanding of the concepts outlined throughout this Notebook, will give the reader a necessary toolset to interpret and assess the validity of odds and probability statements."
   ]
  },
  {
   "cell_type": "markdown",
   "metadata": {
    "hidden": false
   },
   "source": [
    "<img src = \"https://callysto.ca/wp-content/uploads/2018/07/Callysto-Notebook-Banner_Bottom_07.30.18.jpg\">"
   ]
  }
 ],
 "metadata": {
  "kernelspec": {
   "display_name": "Python 3",
   "language": "python",
   "name": "python3"
  },
  "language_info": {
   "codemirror_mode": {
    "name": "ipython",
    "version": 3
   },
   "file_extension": ".py",
   "mimetype": "text/x-python",
   "name": "python",
   "nbconvert_exporter": "python",
   "pygments_lexer": "ipython3",
   "version": "3.6.8"
  }
 },
 "nbformat": 4,
 "nbformat_minor": 2
}
