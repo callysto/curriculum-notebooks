{
 "cells": [
  {
   "cell_type": "markdown",
   "metadata": {},
   "source": [
    "![Callysto.ca Banner](https://github.com/callysto/curriculum-notebooks/blob/master/callysto-notebook-banner-top.jpg?raw=true)\n",
    "\n",
    "<a href=\"https://hub.callysto.ca/jupyter/hub/user-redirect/git-pull?repo=https%3A%2F%2Fgithub.com%2Fcallysto%2Fcurriculum-notebooks&branch=master&subPath=Mathematics/CentralTendency/central-tendency.ipynb&depth=1\" target=\"_parent\"><img src=\"https://raw.githubusercontent.com/callysto/curriculum-notebooks/master/open-in-callysto-button.svg?sanitize=true\" width=\"123\" height=\"24\" alt=\"Open in Callysto\"/></a>"
   ]
  },
  {
   "cell_type": "code",
   "execution_count": null,
   "metadata": {},
   "outputs": [],
   "source": [
    "%%html\n",
    "\n",
    "<script>\n",
    "  function code_toggle() {\n",
    "    if (code_shown){\n",
    "      $('div.input').hide('500');\n",
    "      $('#toggleButton').val('Show Code')\n",
    "    } else {\n",
    "      $('div.input').show('500');\n",
    "      $('#toggleButton').val('Hide Code')\n",
    "    }\n",
    "    code_shown = !code_shown\n",
    "  }\n",
    "\n",
    "  $( document ).ready(function(){\n",
    "    code_shown=false;\n",
    "    $('div.input').hide()\n",
    "  });\n",
    "</script>\n",
    "<form action=\"javascript:code_toggle()\"><input type=\"submit\" id=\"toggleButton\" value=\"Show Code\"></form>"
   ]
  },
  {
   "cell_type": "code",
   "execution_count": null,
   "metadata": {},
   "outputs": [],
   "source": [
    "!pip install --upgrade --force-reinstall --user git+git://github.com/callysto/nbplus.git#egg=geogebra\\&subdirectory=geogebra "
   ]
  },
  {
   "cell_type": "code",
   "execution_count": null,
   "metadata": {},
   "outputs": [],
   "source": [
    "import numpy as np\n",
    "import matplotlib.mlab as mlab\n",
    "import matplotlib.pyplot as plt\n",
    "from ipywidgets import interact, widgets, Button, Layout\n",
    "\n",
    "from scipy import stats\n",
    "from collections import Counter\n",
    "from array import array\n",
    "import IPython\n",
    "import pandas\n",
    "from statistics import mean, median, mode\n",
    "\n",
    "from IPython.display import HTML\n",
    "import random\n",
    "from IPython.display import IFrame"
   ]
  },
  {
   "cell_type": "code",
   "execution_count": null,
   "metadata": {},
   "outputs": [],
   "source": [
    "def display(question, answerList):\n",
    "    print(question)\n",
    "    IPython.display.display(answerList)"
   ]
  },
  {
   "cell_type": "markdown",
   "metadata": {},
   "source": [
    "# Data Analysis: Mean, Median, and Mode\n",
    "\n",
    "##### Grade 7 Statistics \n",
    "\n",
    "This notebook will cover 3 important statistics: mean, median, and mode. These three statistics are known as the measures of central tendency because they tell us where data is centered or clustered together. It will also cover the topic of range.\n",
    "Here are a few questions this notebook will answer:\n",
    "* What is range?\n",
    "* What is mean? \n",
    "* What is median? \n",
    "* What is mode?\n",
    "* When do we use each of these statistics?\n",
    "\n",
    "If you want a good summary of this topic, check out [this website for Australian junior high students](https://www.mathsteacher.com.au/year8/ch17_stat/02_mean/mean.htm) or watch the video at the end!"
   ]
  },
  {
   "cell_type": "markdown",
   "metadata": {},
   "source": [
    "## 1. Definitions\n",
    "\n",
    "<img style=\"float: right;\" src=\"https://images-na.ssl-images-amazon.com/images/I/51JWOlyyH9L._SY445_.jpg\" width=\"200\" height=\"500\">\n",
    "\n",
    "### What is range?\n",
    "\n",
    "Given a set of values, the range is just the difference between the highest value and the lowest value. This quickly tells us if the values are spread apart or close together. \n",
    "\n",
    "##### Example\n",
    "The time it took Avery to walk to school each day this week was 10 minutes, 15 minutes, 12 minutes, 20 minutes, and 8 minutes. What is the range of the time it takes to walk to school?\n",
    "\n",
    "range = highest value - lowest value <br>\n",
    "range = 20 minutes - 8 minutes <br>\n",
    "range = 12 minutes <br>\n",
    "\n",
    "Based on the value of the range, we know that the time it takes to walk to school can be quite different."
   ]
  },
  {
   "cell_type": "markdown",
   "metadata": {},
   "source": [
    "### What is 'mean'?\n",
    "\n",
    "No, we don't mean being rude to other people. A **mean (sometimes called an average)** of a set of numbers is the sum of all the values divided by the number of number of values. \n",
    "\n",
    "##### Example 1\n",
    "Here is a data set: $2, 6, 3, 7, 5, 3, 9$\n",
    "<br> Number of elements in this data set: $7$\n",
    "<br>So the mean is:\n",
    "$$\\text{mean} = \\frac{2 + 6 + 3 + 7 + 5 + 3 + 9}{7} = \\frac{35}{7} = 5 $$\n",
    "\n",
    "Now these are just numbers, let's see where the mean applies in real life. \n",
    "\n",
    "<img style=\"float: left;\" src=\"images/positive-classroom.jpg\" width=\"300\" height=\"400\">\n",
    "\n",
    "##### Example 2\n",
    "\n",
    "In Rose Middle School, there's 3 classes of Grade 8 students. The first one has 25 students, the second has 18 students, and the third has 20 students. What is the average number of students in one class?\n",
    "<br> **Remember that average is the same as mean**\n",
    "\n",
    "Our set of data is $(25, 18, 20)$ and there is $3$ elements in this set. Now we can calculate the mean.\n",
    "\n",
    "$$\\text{mean} = \\frac{25 + 18 + 20}{3} = \\frac{63}{3} = 21 $$\n",
    "\n",
    "That means that Grade 8 students in Rose Middle School have an average of 21 students per class.\n",
    "\n",
    "Picture from [teachub.com](https://www.teachhub.com/5-effective-teaching-strategies-positive-classroom)"
   ]
  },
  {
   "cell_type": "markdown",
   "metadata": {},
   "source": [
    "### Try for yourself!"
   ]
  },
  {
   "cell_type": "code",
   "execution_count": null,
   "metadata": {},
   "outputs": [],
   "source": [
    "question612 = \"What is the mean of the following numbers? \\n 10, 91, 39, 71, 17,  39, 76, 37, 25\"\n",
    "\n",
    "answer612 = widgets.RadioButtons(options=['45', '45.11', '43.67', '46', 'None of the above'],\n",
    "                             value=None, description='Choices:')\n",
    "\n",
    "def check612(b):\n",
    "    IPython.display.clear_output(wait=False)\n",
    "    display(question612, answer612)\n",
    "    if answer612.value == '45':\n",
    "        print(\"Correct Answer!\")\n",
    "    else:\n",
    "        print(\"Wrong answer! Try again.\")\n",
    "\n",
    "IPython.display.clear_output(wait=False)\n",
    "display(question612, answer612)\n",
    "answer612.observe(check612, 'value')"
   ]
  },
  {
   "cell_type": "code",
   "execution_count": null,
   "metadata": {},
   "outputs": [],
   "source": [
    "%%html\n",
    "<html>\n",
    "<head>\n",
    "<script type=\"text/javascript\">\n",
    "<!--\n",
    "function toggle(id) {\n",
    "var e = document.getElementById(id);\n",
    "if(e.style.display == 'none')\n",
    "e.style.display = 'block';\n",
    "else\n",
    "e.style.display = 'none';\n",
    "}\n",
    "//-->\n",
    "</script>\n",
    "</head>\n",
    "\n",
    "<body>\n",
    "<div id=\"question612\">\n",
    " <button id = \"612\"\n",
    "onclick=\"toggle('answer612');\">Solution</button> \n",
    "</div>\n",
    "<div style=\"display:none\" id=\"answer612\">\n",
    "To find out the mean of semester 1 we divide the sum of all data by the numbers of data.<br/>\n",
    "Therefore, Mean $=  \\frac{10 + 91 +  39 + 71 + 17 +  39 + 76 + 37 + 25}{9} = 45$ <br/>\n",
    "\n",
    "\n",
    "</div>\n",
    "\n",
    "</body>\n",
    "</html>"
   ]
  },
  {
   "cell_type": "markdown",
   "metadata": {},
   "source": [
    "### What is median?\n",
    "\n",
    "Let's play monkey in the middle!\n",
    "The **median** is the middle number in a sequence of numbers.To compute the median, the set needs to be ordered from smallest to largest. Then it's easy to find the middle number!<br>\n",
    "\n",
    "<img style=\"float: left;\" src=\"https://i0.wp.com/www.thegamegal.com/wp-content/uploads/2016/02/monkey-in-the-middle.png?fit=391%2C501&ssl=1&w=640\" width=\"275\" height=\"3500\">\n",
    "\n",
    "\n",
    "##### Example 1\n",
    "Data set: $2, 6, 3, 7, 5, 3, 9$\n",
    "<br> Now if we sort the data set: $2, 3, 3, 5, 6, 7, 9$\n",
    "<br> So, median will be $5$ because it's 4 numbers in from both sides\n",
    "\n",
    "Did you notice that this data set has an odd number of values? What is the problem if there's an even number of values in a set? How can we figure out the median? We still want the middle number, so we can't choose one closer to either the left or the right side. We can average the two numbers closest to the middle to get a true middle number for the whole set!\n",
    "\n",
    "##### Example 2\n",
    "Data set: $2, 6, 3, 7, 5, 3, 9, 4 $ <br>\n",
    "**Notice how there's 8 values in this set**\n",
    "<br> Sorted data set: $2, 3, 3, 4, 5, 6, 7, 9$\n",
    "<br> There two middle numbers are $4$ and $5$\n",
    "<br> Therefore, the median will be $\\frac{(4+5)}{2} = 4.5$\n",
    "\n",
    "\n",
    "\n",
    "Picture from [thegamegal.com](https://www.thegamegal.com/2016/02/02/monkey-in-the-middle-game/)"
   ]
  },
  {
   "cell_type": "markdown",
   "metadata": {},
   "source": [
    "### Try for yourself!"
   ]
  },
  {
   "cell_type": "code",
   "execution_count": null,
   "metadata": {},
   "outputs": [],
   "source": [
    "answer622 = widgets.RadioButtons(options=['11', '11.5', '12', '12.5', 'None of the above'],\n",
    "                             value = None, description='Choices:')\n",
    "\n",
    "question622 = \"Suppose, the front row in your classroom has 23 seats. If you were asked to sit in the seat \\n in the median position, in which seat would you have to sit?\"\n",
    "\n",
    "\n",
    "def check622(d):\n",
    "    IPython.display.clear_output(wait=False)\n",
    "    display(question622, answer622)\n",
    "    if answer622.value == '12':\n",
    "        print(\"Correct Answer!\")\n",
    "    else:\n",
    "        print(\"Wrong answer! Try again.\")\n",
    "        \n",
    "IPython.display.clear_output(wait=False)\n",
    "display(question622,answer622 )\n",
    "answer622.observe(check622, 'value')"
   ]
  },
  {
   "cell_type": "code",
   "execution_count": null,
   "metadata": {},
   "outputs": [],
   "source": [
    "%%html\n",
    "<html>\n",
    "<head>\n",
    "<script type=\"text/javascript\">\n",
    "<!--\n",
    "function toggle(id) {\n",
    "var e = document.getElementById(id);\n",
    "if(e.style.display == 'none')\n",
    "e.style.display = 'block';\n",
    "else\n",
    "e.style.display = 'none';\n",
    "}\n",
    "//-->\n",
    "</script>\n",
    "</head>\n",
    "\n",
    "<body>\n",
    "<div id=\"question622\">\n",
    " <button id = \"622\"\n",
    "onclick=\"toggle('answer622');\">Solution</button> \n",
    "</div>\n",
    "<div style=\"display:none\" id=\"answer622\">\n",
    "    <br/> \n",
    "    The number of seats is odd (23). To find out the median of the seats we need to divide the total number of seats by 2 and we get 11.5. <br/>\n",
    "    So, 12-th seat is in the median position in the first row. <br/>\n",
    "    We can also think of it as the seat 12 has 11 seat on the left, and 11 seats on the right. <br/>\n",
    "    So the correct answer is 12.<br/>\n",
    "\n",
    "</div>\n",
    "\n",
    "</body>\n",
    "</html>"
   ]
  },
  {
   "cell_type": "markdown",
   "metadata": {},
   "source": [
    "### What is mode?\n",
    "\n",
    "The **mode** for a data set is the element that occurs the most often.<br>\n",
    "It's possible for a data set to have no modes, one mode, two modes (bimodal), or even three modes (trimodal)!<br>\n",
    "To find the mode, you don't have to sort the set, but it is very helpful to sort it as the mode(s) will be where a number is repeated and that's easier to see when they are next to each other.\n",
    "\n",
    "<img style=\"float: left;\" src=\"https://zookyworld.files.wordpress.com/2013/03/stop-repeating.gif\" width=\"400\" height=\"700\">\n",
    "\n",
    "##### Example 1\n",
    "Data set: $2, 6, 3, 7, 5, 3, 9$\n",
    "<br> Sorted data set: $2, 3, 3, 5, 6, 7, 9$\n",
    "<br> Here, only the value $3$ repeats and all other values only appear once. \n",
    "<br>So, mode will be $3$.\n",
    "\n",
    "##### Example 2\n",
    "Data set: $2, 6, 3, 7, 5, 3, 9, 5, 3, 5, 6 $\n",
    "<br> Sorted data set: $2, 3, 3, 3,  5, 5, 5,  6, 6, 7, 9$\n",
    "<br> Values $3$ and $5$ have same number of repetitions. \n",
    "<br> Notice how $6$ is also repeated but it is not as many times as $3$ or $5$ so it is not part of the mode.\n",
    "<br>So, the mode will be, $3, 5$\n",
    "\n",
    "##### Example 3 \n",
    "Data set: $2, 6, 3, 7, 5, 8, 9, 4 $\n",
    "<br> Sorted data set: $2, 3, 4, 5, 6, 7, 8, 9$\n",
    "<br>There are no value that repeats. \n",
    "<br> So, there is no mode.\n",
    "\n",
    "Picture from [zooky world](https://zookyworld.wordpress.com/2013/03/26/stop-repeating/)"
   ]
  },
  {
   "cell_type": "markdown",
   "metadata": {},
   "source": [
    "### Try for yourself!"
   ]
  },
  {
   "cell_type": "markdown",
   "metadata": {},
   "source": [
    "A student recorded her scores on weekly math quizzes that were marked out of a possible 10 points. Her scores were as follows: <br> \n",
    "5, 6, 9, 8, 9, 10, 7, 6, 8, 7, 6, 7"
   ]
  },
  {
   "cell_type": "code",
   "execution_count": null,
   "metadata": {},
   "outputs": [],
   "source": [
    "answer641 = widgets.RadioButtons(options=['6', ' 7', '6 and 7', '8 and 9', 'None of the above'],\n",
    "                              value=None,description='Choices:')\n",
    "\n",
    "question641 = \"What is/are the mode of her records?\"\n",
    "\n",
    "\n",
    "def checkAnswer641(f):\n",
    "    IPython.display.clear_output(wait=False)\n",
    "    display(question641, answer641 )\n",
    "    if answer641.value == '6 and 7':\n",
    "        print(\"Correct Answer!\")\n",
    "    else:\n",
    "        print(\"Wrong answer! Try again.\")\n",
    "\n",
    "IPython.display.clear_output(wait=False)\n",
    "display(question641, answer641)\n",
    "answer641.observe(checkAnswer641, 'value')"
   ]
  },
  {
   "cell_type": "code",
   "execution_count": null,
   "metadata": {},
   "outputs": [],
   "source": [
    "%%html\n",
    "<html>\n",
    "<head>\n",
    "<script type=\"text/javascript\">\n",
    "<!--\n",
    "function toggle(id) {\n",
    "var e = document.getElementById(id);\n",
    "if(e.style.display == 'none')\n",
    "e.style.display = 'block';\n",
    "else\n",
    "e.style.display = 'none';\n",
    "}\n",
    "//-->\n",
    "</script>\n",
    "</head>\n",
    "\n",
    "<body>\n",
    "<div id=\"question641\">\n",
    " <button id = \"641\"\n",
    "onclick=\"toggle('answer641');\">Solution</button> \n",
    "</div>\n",
    "<div style=\"display:none\" id=\"answer641\">\n",
    "At first, let sort the scores on weekly math quizzes: <br/>\n",
    "    $ 5, 6, 6, 6, 7, 7, 7, 8, 8, 9, 9, 10$ <br/>\n",
    "From the sorted points, we can imply, <br/>\n",
    "5 only apears once, <br/>\n",
    "    6 and 7 repeat three times, <br/>\n",
    "    8 and 9 repeat two times, <br/> \n",
    "    and 10 only appears once. <br/>\n",
    "    Therefore, the mode of her scores are: 6 and 7 <br/>\n",
    "   \n",
    "</div>\n",
    "\n",
    "</body>\n",
    "</html>"
   ]
  },
  {
   "cell_type": "markdown",
   "metadata": {},
   "source": [
    "## 2. Interactive bar graph\n",
    "Now you can play with a bar graph and examine how to calculate mean, median, and mode by changing values of the dataset. \n",
    "\n",
    "### Instructions: \n",
    "* Step 1: enter how many data points you have in \"Enter the numbers of the dataset.\" **Max of 10** <br>\n",
    "  * based on your input in step 1, sliders will be available (one for each data point). <br>\n",
    "* Step 2: change the value of sliders and see the associated changes in the bar graph.<br>\n",
    "* Step 3: to show the breakdown for calculating mean check the box Mean, for median check Median and so on.<br>"
   ]
  },
  {
   "cell_type": "code",
   "execution_count": null,
   "metadata": {
    "scrolled": true
   },
   "outputs": [],
   "source": [
    "from importlib import reload\n",
    "import site\n",
    "reload(site)\n",
    "\n",
    "from geogebra.ggb import *\n",
    "ggb = GGB()\n",
    "ggb.file('sources/centralTendency.ggb').draw()"
   ]
  },
  {
   "cell_type": "markdown",
   "metadata": {},
   "source": [
    "## Example Using A Large Dataset\n",
    "\n",
    "We will be using a computer to calculate the mean, median, and mode for both the x and y values of this graph."
   ]
  },
  {
   "cell_type": "markdown",
   "metadata": {},
   "source": [
    "<img src=\"images/JustTRex.png\" width=\"400\" height=\"400\" align=\"center\"/>\n",
    "\n",
    "This dataset was originally created by [Alberto Cairo](http://www.thefunctionalart.com/2016/08/download-datasaurus-never-trust-summary.html) which is named \"Datasaurus\" (for obvious reasons). It was made to show how we shouldn't blindly trust only central tendency to tell the full picture of the data. \n",
    "\n",
    "He also made this data free for everyone to use!\n",
    "\n",
    "There are 142 values in this dataset! If you want to compute mean, median, or mode by hand, feel free to display the whole dataset using the button below."
   ]
  },
  {
   "cell_type": "code",
   "execution_count": null,
   "metadata": {},
   "outputs": [],
   "source": [
    "dataset = pandas.read_csv(\"https://raw.githubusercontent.com/callysto/data-files/main/Mathematics/CentralTendency/data/Datasaurus.csv\")"
   ]
  },
  {
   "cell_type": "code",
   "execution_count": null,
   "metadata": {},
   "outputs": [],
   "source": [
    "show = widgets.ToggleButton(value=False,description='Show dataset',disabled=False)\n",
    "\n",
    "def display_data(a):\n",
    "    if show.value == True:\n",
    "        print(round(dataset.head(142),3))\n",
    "    else:\n",
    "        IPython.display.clear_output()\n",
    "        IPython.display.display(show)\n",
    "\n",
    "IPython.display.display(show)\n",
    "show.observe(display_data, 'value')"
   ]
  },
  {
   "cell_type": "markdown",
   "metadata": {},
   "source": [
    "### Mean"
   ]
  },
  {
   "cell_type": "code",
   "execution_count": null,
   "metadata": {
    "scrolled": true
   },
   "outputs": [],
   "source": [
    "#Mean \n",
    "fullDataframeMean = []\n",
    "fullDataframeMean = dataset.mean()\n",
    "print(round(fullDataframeMean.head(2),3))"
   ]
  },
  {
   "cell_type": "markdown",
   "metadata": {},
   "source": [
    "What does this tell us? \n",
    "\n",
    "We now know that the average of the x values is larger than 50 which means there are **more** dots on the **right** than the left. We also know the average of the y values is less than 50 which means there are **more** dots on the **bottom** than the top.\n",
    "\n",
    "We can see this as the T-Rex is on the right of the graph and it took lots of dots to make the details of the claws and bottom jaw compared to the top of the head."
   ]
  },
  {
   "cell_type": "markdown",
   "metadata": {},
   "source": [
    "### Median"
   ]
  },
  {
   "cell_type": "code",
   "execution_count": null,
   "metadata": {},
   "outputs": [],
   "source": [
    "#Median\n",
    "fullDataframeMedian = []\n",
    "fullDataframeMedian = dataset.median()\n",
    "print(round(fullDataframeMedian.head(2),3))"
   ]
  },
  {
   "cell_type": "markdown",
   "metadata": {},
   "source": [
    "What does this tell us?\n",
    "\n",
    "We now know what the middles values are so we can find the middle of the T-Rex at this location."
   ]
  },
  {
   "cell_type": "markdown",
   "metadata": {},
   "source": [
    "### Mode"
   ]
  },
  {
   "cell_type": "code",
   "execution_count": null,
   "metadata": {
    "scrolled": true
   },
   "outputs": [],
   "source": [
    "#Mode\n",
    "fullDataFrameMode = []\n",
    "fullDataFrameMode = dataset.mode()\n",
    "print(round(fullDataFrameMode.head(1),3))"
   ]
  },
  {
   "cell_type": "markdown",
   "metadata": {},
   "source": [
    "What does this tell us?\n",
    "\n",
    "The mode tells us where to find the straightest line up and down by the x value and the straightest line left to right by the y value."
   ]
  },
  {
   "cell_type": "markdown",
   "metadata": {},
   "source": [
    "[Autodesk Research](https://www.autodeskresearch.com/publications/samestats) used this dataset to create the \"Datasaurus Dozen\". They created 12 new graphs with the same x and y mean as \"Datasaurus\".\n",
    "\n",
    "<img src=\"images/DinoSequential.gif\" width=\"400\" height=\"400\" align=\"center\"/>"
   ]
  },
  {
   "cell_type": "markdown",
   "metadata": {},
   "source": [
    "## Create Your Own Data Set\n",
    "\n",
    "You can click \"Show/hide next box\" and change the numbers in \"YourDataSet\". You can even add new ones or take away some. Try making a set with small numbers and one with large numbers. Try to make sets with an even amount of numbers and an odd amount of numbers. \n",
    "\n",
    "*Just make sure there's a comma ( , ) between each number.*\n",
    "\n",
    "Then we tell the computer to compute the mean, then the median, then the mode. It's important to know how to calculate these by hand, but computers are very smart now. We have these tools to help us calculate things like mean, median, and mode once we understand what they mean.\n",
    "\n",
    "After making your changes, to run the cell with code below click on the \"Run\" button at the top or hit \"Ctrl+Enter/Return\" key."
   ]
  },
  {
   "cell_type": "code",
   "execution_count": null,
   "metadata": {},
   "outputs": [],
   "source": [
    "#found on https://stackoverflow.com/questions/31517194/how-to-hide-one-specific-cell-input-or-output-in-ipython-notebook\n",
    "\n",
    "def hide_toggle():\n",
    "    this_cell = \"\"\"$('div.cell.code_cell.rendered.selected')\"\"\"\n",
    "\n",
    "    toggle_text = 'Show/hide next box'  # text shown on toggle link\n",
    "    \n",
    "    target_cell = this_cell + '.next()'\n",
    "\n",
    "    js_f_name = 'code_toggle_{}'.format(str(random.randint(1,2**64)))\n",
    "\n",
    "    html = \"\"\"\n",
    "        <script>\n",
    "            function {f_name}() {{\n",
    "                {cell_selector}.find('div.input').toggle();\n",
    "            }}\n",
    "\n",
    "        </script>\n",
    "\n",
    "        <a href=\"javascript:{f_name}()\">{toggle_text}</a>\n",
    "    \"\"\".format(\n",
    "        f_name=js_f_name,\n",
    "        cell_selector=target_cell,\n",
    "        toggle_text=toggle_text\n",
    "    )\n",
    "\n",
    "    return HTML(html)"
   ]
  },
  {
   "cell_type": "code",
   "execution_count": null,
   "metadata": {},
   "outputs": [],
   "source": [
    "hide_toggle()"
   ]
  },
  {
   "cell_type": "code",
   "execution_count": null,
   "metadata": {},
   "outputs": [],
   "source": [
    "YourDataSet = [0,1,2,3,4,5,6] #don't forget a comma between each number!\n",
    "\n",
    "#the word \"print\" tells the computer to write it below this block so you can read it!\n",
    "print(\"Your mean is: \")\n",
    "print(mean(YourDataSet)) #this calculates your mean\n",
    "print(\"Your median is: \")\n",
    "print(median(YourDataSet)) #this calculates your median\n",
    "try:\n",
    "    print(\"Your mode is: \")\n",
    "    print(mode(YourDataSet)) #this calculates your mode\n",
    "except:\n",
    "    print(\"There is no mode in your data set\") #this is incase there is no mode"
   ]
  },
  {
   "cell_type": "markdown",
   "metadata": {},
   "source": [
    "**************\n",
    "## Test yourself\n",
    "\n",
    "Try out some of these harder questions on your own!"
   ]
  },
  {
   "cell_type": "code",
   "execution_count": null,
   "metadata": {},
   "outputs": [],
   "source": [
    "question611 = \"What number would you divide by to calculate the mean of 3, 4, 5, and 6?\"\n",
    "\n",
    "answer611 = widgets.RadioButtons(options=['3', '4', '4.5', '5', 'None of the above'],\n",
    "                             value= None, description='Choices:')\n",
    "\n",
    "\n",
    "def checkAnswer(a):\n",
    "    IPython.display.clear_output(wait=False)\n",
    "    display(question611, answer611)\n",
    "    if answer611.value == '4':\n",
    "        print(\"Correct Answer!\")\n",
    "    else:\n",
    "        print(\"Wrong answer! Try again.\")\n",
    "\n",
    "display(question611, answer611)\n",
    "\n",
    "answer611.observe(checkAnswer, 'value')\n",
    "\n"
   ]
  },
  {
   "cell_type": "code",
   "execution_count": null,
   "metadata": {},
   "outputs": [],
   "source": [
    "%%html\n",
    "<html>\n",
    "<head>\n",
    "<script type=\"text/javascript\">\n",
    "<!--\n",
    "function toggle(id) {\n",
    "var e = document.getElementById(id);\n",
    "if(e.style.display == 'none')\n",
    "e.style.display = 'block';\n",
    "else\n",
    "e.style.display = 'none';\n",
    "}\n",
    "//-->\n",
    "</script>\n",
    "</head>\n",
    "\n",
    "<body>\n",
    "<div id=\"question611\">\n",
    " <button id = \"611\"\n",
    "onclick=\"toggle('answer611');\">Solution</button> \n",
    "</div>\n",
    "<div style=\"display:none\" id=\"answer611\">\n",
    "From the definition of mean, we know that we have to divide by the total number of elements in the data set.<br/>\n",
    "In this case, that number is 4. <br/>\n",
    "So, to compute the mean, we have to divide the sum of the data set by 4. <br/>\n",
    "\n",
    "</div>\n",
    "\n",
    "</body>\n",
    "</html>"
   ]
  },
  {
   "cell_type": "code",
   "execution_count": null,
   "metadata": {},
   "outputs": [],
   "source": [
    "question621 = \"The mean of four numbers is 71.5. If three of the numbers are 58, 76, and 88, what is the value of the fourth number?\"\n",
    "\n",
    "answer621 = widgets.RadioButtons(options=['62', '73.37', '64', '74',  'None of the above'],\n",
    "                              value = None, description='Choices:')\n",
    "\n",
    "def check621(c):\n",
    "    IPython.display.clear_output(wait=False)\n",
    "    display(question621, answer621)\n",
    "    if answer621.value == '64':\n",
    "        print(\"Correct Answer!\")\n",
    "    else:\n",
    "        print(\"Wrong answer! Try again.\")\n",
    "        \n",
    "IPython.display.clear_output(wait=False)\n",
    "display(question621, answer621)\n",
    "answer621.observe(check621, 'value')"
   ]
  },
  {
   "cell_type": "code",
   "execution_count": null,
   "metadata": {},
   "outputs": [],
   "source": [
    "%%html\n",
    "<html>\n",
    "<head>\n",
    "<script type=\"text/javascript\">\n",
    "<!--\n",
    "function toggle(id) {\n",
    "var e = document.getElementById(id);\n",
    "if(e.style.display == 'none')\n",
    "e.style.display = 'block';\n",
    "else\n",
    "e.style.display = 'none';\n",
    "}\n",
    "//-->\n",
    "</script>\n",
    "</head>\n",
    "\n",
    "<body>\n",
    "<div id=\"question621\">\n",
    " <button id = \"621\"\n",
    "onclick=\"toggle('answer621');\">Solution</button> \n",
    "</div>\n",
    "<div style=\"display:none\" id=\"answer621\">\n",
    "We are given three numbers but told the mean of four numbers is 71.5. Let assume the fourth number is x. <br/>\n",
    "So, by the definition of mean, we can write <br>\n",
    "$\\frac{58 + 76 + 88 + x}{4} = 71.5 $ <br/>\n",
    "\n",
    "or, $222 + x = 71.5 \\times 4 $ <br/>\n",
    "\n",
    "or, $x = 286 - 222 $ <br/>\n",
    "\n",
    "or, $x = 64 $ <br/>\n",
    "\n",
    "Therefore, the fourth number is 64. <br/>\n",
    "\n",
    "\n",
    "</div>\n",
    "\n",
    "</body>\n",
    "</html>"
   ]
  },
  {
   "cell_type": "markdown",
   "metadata": {},
   "source": [
    "Sara tried to compute the mean average of her 8 test scores. She mistakenly divided the correct sum of all her test scores by 7, which yields 96."
   ]
  },
  {
   "cell_type": "code",
   "execution_count": null,
   "metadata": {},
   "outputs": [],
   "source": [
    "answer631 = widgets.RadioButtons(options=['78', '83.5', '100', '84', 'None of the above'],\n",
    "                             value = None, description='Choices:')\n",
    "\n",
    "question631 = \"What is Sara's mean test score? (Source: dummies)\"\n",
    "\n",
    "def check631(e):\n",
    "    IPython.display.clear_output(wait=False)\n",
    "    display(question631, answer631)\n",
    "    if answer631.value == '84':\n",
    "        print(\"Correct Answer!\")\n",
    "    else:\n",
    "        print(\"Wrong answer! Try again.\")\n",
    "        \n",
    "IPython.display.clear_output(wait=False)\n",
    "display(question631, answer631)\n",
    "answer631.observe(check631, 'value')"
   ]
  },
  {
   "cell_type": "code",
   "execution_count": null,
   "metadata": {},
   "outputs": [],
   "source": [
    "%%html\n",
    "<html>\n",
    "<head>\n",
    "<script type=\"text/javascript\">\n",
    "<!--\n",
    "function toggle(id) {\n",
    "var e = document.getElementById(id);\n",
    "if(e.style.display == 'none')\n",
    "e.style.display = 'block';\n",
    "else\n",
    "e.style.display = 'none';\n",
    "}\n",
    "//-->\n",
    "</script>\n",
    "</head>\n",
    "\n",
    "<body>\n",
    "<div id=\"question631\">\n",
    " <button id = \"631\"\n",
    "onclick=\"toggle('answer631');\">Solution</button> \n",
    "</div>\n",
    "<div style=\"display:none\" id=\"answer631\">\n",
    "You know the test score mean of Sara when divided by 7, you can determine the sum of her scores. This information will then allow you\n",
    "to determine her mean average over eight tests.<br/>\n",
    "\n",
    "Apply the average formula to her wrong calculation. <br/>\n",
    "\n",
    "96 = sum of scores ÷ 7 <br/>\n",
    "\n",
    "96 × 7 = sum of scores <br/>\n",
    "\n",
    "672 = sum of scores <br/> \n",
    "\n",
    "Now that you know her test score sum, you can figure her true mean average.<br/> \n",
    "\n",
    "Mean average = 672 ÷ 8 <br/>\n",
    "\n",
    "Mean average = 84 <br/>\n",
    "\n",
    "So, the correct answer is D. <br/>\n",
    "\n",
    "</div>\n",
    "\n",
    "</body>\n",
    "</html>"
   ]
  },
  {
   "cell_type": "code",
   "execution_count": null,
   "metadata": {},
   "outputs": [],
   "source": [
    "answer632 = widgets.RadioButtons(options=['32, 34, 35, 36', '32, 35, 36, 41', '32, 34, 40, 44', '32, 32, 38, 38', 'None of the above'],\n",
    "                             value = None, description='Choices:')\n",
    "\n",
    "question632 = \"A set of four numbers that begins with the number 32 is arranged from smallest to largest.\\n If the median is 35, which of the following could be the set of numbers?\"\n",
    "\n",
    "def check632(e):\n",
    "    IPython.display.clear_output(wait=False)\n",
    "    display(question632, answer632)\n",
    "    if answer632.value == '32, 32, 38, 38':\n",
    "        print(\"Correct Answer!\")\n",
    "    else:\n",
    "        print(\"Wrong answer! Try again.\")\n",
    "        \n",
    "IPython.display.clear_output(wait=False)\n",
    "display(question632, answer632)\n",
    "answer632.observe(check632, 'value')"
   ]
  },
  {
   "cell_type": "code",
   "execution_count": null,
   "metadata": {},
   "outputs": [],
   "source": [
    "%%html\n",
    "<html>\n",
    "<head>\n",
    "<script type=\"text/javascript\">\n",
    "<!--\n",
    "function toggle(id) {\n",
    "var e = document.getElementById(id);\n",
    "if(e.style.display == 'none')\n",
    "e.style.display = 'block';\n",
    "else\n",
    "e.style.display = 'none';\n",
    "}\n",
    "//-->\n",
    "</script>\n",
    "</head>\n",
    "\n",
    "<body>\n",
    "<div id=\"question632\">\n",
    " <button id = \"632\"\n",
    "onclick=\"toggle('answer632');\">Solution</button> \n",
    "</div>\n",
    "<div style=\"display:none\" id=\"answer632\">\n",
    "We are given the median of four numbers 35. We can imply from the given information is that the sum <br/> \n",
    "of the numbers is 140. Now we check all the choices one by one. We add all the numbers of the first choice and get 137. <br/>\n",
    "So it is not our correct answer. <br/>\n",
    "Similarly, for the next choices we get 144, 150, and 140 for second, third and fourth choices, respectively, <br/>\n",
    "Therefore, the correct series is: 32, 32, 38, 38.<br/>\n",
    "\n",
    "</div>\n",
    "\n",
    "</body>\n",
    "</html>\n"
   ]
  },
  {
   "cell_type": "code",
   "execution_count": null,
   "metadata": {},
   "outputs": [],
   "source": [
    "answer642 = widgets.RadioButtons(options=['1', '2', '4', '19', 'None of the above'],\n",
    "                             value = None,  description='Choices:')\n",
    "\n",
    "question642 = \"The average of five positive integers is less than 20. What is the smallest possible median of this set?\"\n",
    "\n",
    "def check642(g):\n",
    "    IPython.display.clear_output(wait=False)\n",
    "    display(question642, answer642)\n",
    "    if answer642.value == '1':\n",
    "        print(\"Correct Answer!\")\n",
    "    else:\n",
    "        print(\"Wrong answer! Try again.\")\n",
    "\n",
    "IPython.display.clear_output(wait=False)\n",
    "display(question642, answer642)\n",
    "answer642.observe(check642, 'value')"
   ]
  },
  {
   "cell_type": "code",
   "execution_count": null,
   "metadata": {},
   "outputs": [],
   "source": [
    "%%html\n",
    "<html>\n",
    "<head>\n",
    "<script type=\"text/javascript\">\n",
    "<!--\n",
    "function toggle(id) {\n",
    "var e = document.getElementById(id);\n",
    "if(e.style.display == 'none')\n",
    "e.style.display = 'block';\n",
    "else\n",
    "e.style.display = 'none';\n",
    "}\n",
    "//-->\n",
    "</script>\n",
    "</head>\n",
    "\n",
    "<body>\n",
    "<div id=\"question642\">\n",
    " <button id = \"642\"\n",
    "onclick=\"toggle('answer642');\">Solution</button> \n",
    "</div>\n",
    "<div style=\"display:none\" id=\"answer642\">\n",
    "As we are given that the numbers are positive integers that means all numbers should be\n",
    "<br/>greater than or equal 1. Let assume the five numbers are 1, 1, 1, 1, 16. The sum is equal\n",
    "<br/>to 20, and the average is 20/5 = 4 which is less than 20. All given conditions are satisfied. \n",
    "<br > <b>Therefore, the smallest possible median is 1. <b> <br/>\n",
    "\n",
    "</div>\n",
    "\n",
    "</body>\n",
    "</html>"
   ]
  },
  {
   "cell_type": "markdown",
   "metadata": {},
   "source": [
    "## Let's summarize what we have learned in this notebook:\n",
    "\n",
    "* Mean is the average and is found by adding all values then dividing my the quantity of values\n",
    "* Median is the middle value and is found by sorting the set and finding the middle\n",
    "* Mode is the most used value and is found by counting how many times a value is repeated\n",
    "* Range is the highest value minus the lowest value\n",
    "\n",
    "Here is a video made by Dylan Peters EDU that is a parody of the song Lazy Song by Bruno Mars that sums up these 4 concepts."
   ]
  },
  {
   "cell_type": "code",
   "execution_count": null,
   "metadata": {},
   "outputs": [],
   "source": [
    "IFrame(width=\"560\", height=\"315\", src=\"https://www.youtube.com/embed/IHginNwss5c\", allow=\"accelerometer; encrypted-media; gyroscope; picture-in-picture; allowfullscreen\")"
   ]
  },
  {
   "cell_type": "markdown",
   "metadata": {},
   "source": [
    "[![Callysto.ca License](https://github.com/callysto/curriculum-notebooks/blob/master/callysto-notebook-banner-bottom.jpg?raw=true)](https://github.com/callysto/curriculum-notebooks/blob/master/LICENSE.md)"
   ]
  }
 ],
 "metadata": {
  "kernelspec": {
   "display_name": "Python 3",
   "language": "python",
   "name": "python3"
  },
  "language_info": {
   "codemirror_mode": {
    "name": "ipython",
    "version": 3
   },
   "file_extension": ".py",
   "mimetype": "text/x-python",
   "name": "python",
   "nbconvert_exporter": "python",
   "pygments_lexer": "ipython3",
   "version": "3.7.6"
  }
 },
 "nbformat": 4,
 "nbformat_minor": 2
}
