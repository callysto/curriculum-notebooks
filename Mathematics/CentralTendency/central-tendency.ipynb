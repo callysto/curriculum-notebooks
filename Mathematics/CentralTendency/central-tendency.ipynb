{
 "cells": [
  {
   "cell_type": "markdown",
   "metadata": {},
   "source": [
    "![top banner](https://callysto.ca/wp-content/uploads/2018/06/Callysto_Notebook-Banner_Top_06.06.18.jpg)"
   ]
  },
  {
   "cell_type": "code",
   "execution_count": 1,
   "metadata": {},
   "outputs": [
    {
     "data": {
      "text/html": [
       "\n",
       "<script>\n",
       "  function code_toggle() {\n",
       "    if (code_shown){\n",
       "      $('div.input').hide('500');\n",
       "      $('#toggleButton').val('Show Code')\n",
       "    } else {\n",
       "      $('div.input').show('500');\n",
       "      $('#toggleButton').val('Hide Code')\n",
       "    }\n",
       "    code_shown = !code_shown\n",
       "  }\n",
       "\n",
       "  $( document ).ready(function(){\n",
       "    code_shown=false;\n",
       "    $('div.input').hide()\n",
       "  });\n",
       "</script>\n",
       "<form action=\"javascript:code_toggle()\"><input type=\"submit\" id=\"toggleButton\" value=\"Show Code\"></form>\n"
      ],
      "text/plain": [
       "<IPython.core.display.HTML object>"
      ]
     },
     "metadata": {},
     "output_type": "display_data"
    }
   ],
   "source": [
    "%%html\n",
    "\n",
    "<script>\n",
    "  function code_toggle() {\n",
    "    if (code_shown){\n",
    "      $('div.input').hide('500');\n",
    "      $('#toggleButton').val('Show Code')\n",
    "    } else {\n",
    "      $('div.input').show('500');\n",
    "      $('#toggleButton').val('Hide Code')\n",
    "    }\n",
    "    code_shown = !code_shown\n",
    "  }\n",
    "\n",
    "  $( document ).ready(function(){\n",
    "    code_shown=false;\n",
    "    $('div.input').hide()\n",
    "  });\n",
    "</script>\n",
    "<form action=\"javascript:code_toggle()\"><input type=\"submit\" id=\"toggleButton\" value=\"Show Code\"></form>"
   ]
  },
  {
   "cell_type": "code",
   "execution_count": 2,
   "metadata": {},
   "outputs": [
    {
     "name": "stdout",
     "output_type": "stream",
     "text": [
      "Collecting geogebra from git+git://github.com/callysto/nbplus.git#egg=geogebra&subdirectory=geogebra\n",
      "  Cloning git://github.com/callysto/nbplus.git to /tmp/pip-install-ioa8x64_/geogebra\n",
      "Building wheels for collected packages: geogebra\n",
      "  Running setup.py bdist_wheel for geogebra ... \u001b[?25ldone\n",
      "\u001b[?25h  Stored in directory: /tmp/pip-ephem-wheel-cache-l59797jf/wheels/cd/8f/54/42a9349ed6e488bb120c4c182ad6aa4f19e86061fe875bf3c5\n",
      "Successfully built geogebra\n",
      "Installing collected packages: geogebra\n",
      "  Found existing installation: geogebra 0.0.0\n",
      "    Uninstalling geogebra-0.0.0:\n",
      "      Successfully uninstalled geogebra-0.0.0\n",
      "Successfully installed geogebra-0.0.0\n"
     ]
    }
   ],
   "source": [
    "!pip install --upgrade --force-reinstall --user git+git://github.com/callysto/nbplus.git#egg=geogebra\\&subdirectory=geogebra "
   ]
  },
  {
   "cell_type": "code",
   "execution_count": 3,
   "metadata": {},
   "outputs": [],
   "source": [
    "import numpy as np\n",
    "import matplotlib.mlab as mlab\n",
    "import matplotlib.pyplot as plt\n",
    "from ipywidgets import interact, widgets, Button, Layout\n",
    "\n",
    "from scipy import stats\n",
    "from collections import Counter\n",
    "from array import array\n",
    "import IPython\n",
    "import pandas\n",
    "from statistics import mean, median, mode\n",
    "\n",
    "from IPython.display import HTML\n",
    "import random\n",
    "from IPython.display import IFrame"
   ]
  },
  {
   "cell_type": "code",
   "execution_count": 4,
   "metadata": {},
   "outputs": [],
   "source": [
    "def display(question, answerList):\n",
    "    print(question)\n",
    "    IPython.display.display(answerList)"
   ]
  },
  {
   "cell_type": "markdown",
   "metadata": {},
   "source": [
    "# Data Analysis: Mean, Median, and Mode\n",
    "\n",
    "##### Grade 7 Statistics \n",
    "\n",
    "This notebook will cover 3 important statistics: mean, median, and mode. These three statistics are known as the measures of central tendency because they tell us where data is centered or clustered together. It will also cover the topic of range.\n",
    "Here are a few questions this notebook will answer:\n",
    "* What is range?\n",
    "* What is mean? \n",
    "* What is median? \n",
    "* What is mode?\n",
    "* When do we use each of these statistics?\n",
    "\n",
    "If you want a good summary of this topic, check out [this website for Australian junior high students](https://www.mathsteacher.com.au/year8/ch17_stat/02_mean/mean.htm) or watch the video at the end!"
   ]
  },
  {
   "cell_type": "markdown",
   "metadata": {},
   "source": [
    "## 1. Definitions\n",
    "\n",
    "<img style=\"float: right;\" src=\"https://images-na.ssl-images-amazon.com/images/I/51JWOlyyH9L._SY445_.jpg\" width=\"200\" height=\"500\">\n",
    "\n",
    "### What is range?\n",
    "\n",
    "Given a set of values, the range is just the difference between the highest value and the lowest value. This quickly tells us if the values are spread apart or close together. \n",
    "\n",
    "##### Example\n",
    "The time it took Avery to walk to school each day this week was 10 minutes, 15 minutes, 12 minutes, 20 mintues, and 8 minutes. What is the range of the time it takes to walk to school?\n",
    "\n",
    "range = highest value - lowest value <br>\n",
    "range = 20 miutes - 8 minutes <br>\n",
    "range = 12 minutes <br>\n",
    "\n",
    "Based on the value of the range, we know that the time it takes to walk to school can be quite different."
   ]
  },
  {
   "cell_type": "markdown",
   "metadata": {},
   "source": [
    "### What is 'mean'?\n",
    "\n",
    "No, we don't mean being rude to other people. A **mean (sometimes called an average)** of a set of numbers is the sum of all the values divided by the number of number of values. \n",
    "\n",
    "##### Example 1\n",
    "Here is a data set: $2, 6, 3, 7, 5, 3, 9$\n",
    "<br> Number of elements in this data set: $7$\n",
    "<br>So the mean is:\n",
    "$$\\text{mean} = \\frac{2 + 6 + 3 + 7 + 5 + 3 + 9}{7} = \\frac{35}{7} = 5 $$\n",
    "\n",
    "Now these are just numbers, let's see where the mean applies in real life. \n",
    "\n",
    "<img style=\"float: left;\" src=\"images/positive-classroom.jpg\" width=\"300\" height=\"400\">\n",
    "\n",
    "##### Example 2\n",
    "\n",
    "In Rose Middle School, there's 3 classes of 8th graders. The first one has 25 students, the second has 18 students, and the third has 20 students. What is the average number of students in one class?\n",
    "<br> **Remember that average is the same as mean**\n",
    "\n",
    "Our set of data is $(25, 18, 20)$ and there is $3$ elements in this set. Now we can calculate the mean.\n",
    "\n",
    "$$\\text{mean} = \\frac{25 + 18 + 20}{3} = \\frac{63}{3} = 21 $$\n",
    "\n",
    "That means that 8th graders in Rose Middle School have an average of 21 students per class.\n",
    "\n",
    "\n",
    "Picture from [teachub.com](https://www.teachhub.com/5-effective-teaching-strategies-positive-classroom)"
   ]
  },
  {
   "cell_type": "markdown",
   "metadata": {},
   "source": [
    "### Try for yourself!"
   ]
  },
  {
   "cell_type": "code",
   "execution_count": 5,
   "metadata": {},
   "outputs": [
    {
     "name": "stdout",
     "output_type": "stream",
     "text": [
      "What is the mean of the following numbers? \n",
      " 10, 91, 39, 71, 17,  39, 76, 37, 25\n"
     ]
    },
    {
     "data": {
      "application/vnd.jupyter.widget-view+json": {
       "model_id": "b6fecb025f334b6fa9d16a837feb6e9d",
       "version_major": 2,
       "version_minor": 0
      },
      "text/plain": [
       "RadioButtons(description='Choices:', options=('45', '45.11', '43.67', '46', 'None of the above'), value=None)"
      ]
     },
     "metadata": {},
     "output_type": "display_data"
    }
   ],
   "source": [
    "question612 = \"What is the mean of the following numbers? \\n 10, 91, 39, 71, 17,  39, 76, 37, 25\"\n",
    "\n",
    "answer612 = widgets.RadioButtons(options=['45', '45.11', '43.67', '46', 'None of the above'],\n",
    "                             value=None, description='Choices:')\n",
    "\n",
    "def check612(b):\n",
    "    IPython.display.clear_output(wait=False)\n",
    "    display(question612, answer612)\n",
    "    if answer612.value == '45':\n",
    "        print(\"Correct Answer!\")\n",
    "    else:\n",
    "        print(\"Wrong answer! Try again.\")\n",
    "\n",
    "IPython.display.clear_output(wait=False)\n",
    "display(question612, answer612)\n",
    "answer612.observe(check612, 'value')"
   ]
  },
  {
   "cell_type": "code",
   "execution_count": 6,
   "metadata": {},
   "outputs": [
    {
     "data": {
      "text/html": [
       "<html>\n",
       "<head>\n",
       "<script type=\"text/javascript\">\n",
       "<!--\n",
       "function toggle(id) {\n",
       "var e = document.getElementById(id);\n",
       "if(e.style.display == 'none')\n",
       "e.style.display = 'block';\n",
       "else\n",
       "e.style.display = 'none';\n",
       "}\n",
       "//-->\n",
       "</script>\n",
       "</head>\n",
       "\n",
       "<body>\n",
       "<div id=\"question612\">\n",
       " <button id = \"612\"\n",
       "onclick=\"toggle('answer612');\">Solution</button> \n",
       "</div>\n",
       "<div style=\"display:none\" id=\"answer612\">\n",
       "To find out the mean of semester 1 we divide the sum of all data by the numbers of data.<br/>\n",
       "Therefore, Mean $=  \\frac{10 + 91 +  39 + 71 + 17 +  39 + 76 + 37 + 25}{9} = 45$ <br/>\n",
       "\n",
       "\n",
       "</div>\n",
       "\n",
       "</body>\n",
       "</html>\n"
      ],
      "text/plain": [
       "<IPython.core.display.HTML object>"
      ]
     },
     "metadata": {},
     "output_type": "display_data"
    }
   ],
   "source": [
    "%%html\n",
    "<html>\n",
    "<head>\n",
    "<script type=\"text/javascript\">\n",
    "<!--\n",
    "function toggle(id) {\n",
    "var e = document.getElementById(id);\n",
    "if(e.style.display == 'none')\n",
    "e.style.display = 'block';\n",
    "else\n",
    "e.style.display = 'none';\n",
    "}\n",
    "//-->\n",
    "</script>\n",
    "</head>\n",
    "\n",
    "<body>\n",
    "<div id=\"question612\">\n",
    " <button id = \"612\"\n",
    "onclick=\"toggle('answer612');\">Solution</button> \n",
    "</div>\n",
    "<div style=\"display:none\" id=\"answer612\">\n",
    "To find out the mean of semester 1 we divide the sum of all data by the numbers of data.<br/>\n",
    "Therefore, Mean $=  \\frac{10 + 91 +  39 + 71 + 17 +  39 + 76 + 37 + 25}{9} = 45$ <br/>\n",
    "\n",
    "\n",
    "</div>\n",
    "\n",
    "</body>\n",
    "</html>"
   ]
  },
  {
   "cell_type": "markdown",
   "metadata": {},
   "source": [
    "### What is median?\n",
    "\n",
    "Let's play monkey in the middle!\n",
    "The **median** is the middle number in a sequence of numbers.To compute the median, the set needs to be ordered from smallest to largest. Then it's easy to find the middle number!<br>\n",
    "\n",
    "<img style=\"float: left;\" src=\"https://i0.wp.com/www.thegamegal.com/wp-content/uploads/2016/02/monkey-in-the-middle.png?fit=391%2C501&ssl=1&w=640\" width=\"275\" height=\"3500\">\n",
    "\n",
    "\n",
    "##### Example 1\n",
    "Data set: $2, 6, 3, 7, 5, 3, 9$\n",
    "<br> Now if we sort the data set: $2, 3, 3, 5, 6, 7, 9$\n",
    "<br> So, median will be $5$ because it's 4 numbers in from both sides\n",
    "\n",
    "Did you notice that this data set has an odd number of values? What is the problem if there's an even number of values in a set? How can we figure out the median? We still want the middle number, so we can't choose one closer to either the left or the right side. We can average the two numbers closest to the middle to get a true middle number for the whole set!\n",
    "\n",
    "##### Example 2\n",
    "Data set: $2, 6, 3, 7, 5, 3, 9, 4 $ <br>\n",
    "**Notice how there's 8 values in this set**\n",
    "<br> Sorted data set: $2, 3, 3, 4, 5, 6, 7, 9$\n",
    "<br> There two middle numbers are $4$ and $5$\n",
    "<br> Therefore, the median will be $\\frac{(4+5)}{2} = 4.5$\n",
    "\n",
    "\n",
    "\n",
    "Picture from [thegamegal.com](https://www.thegamegal.com/2016/02/02/monkey-in-the-middle-game/)"
   ]
  },
  {
   "cell_type": "markdown",
   "metadata": {},
   "source": [
    "### Try for yourself!"
   ]
  },
  {
   "cell_type": "code",
   "execution_count": 7,
   "metadata": {},
   "outputs": [
    {
     "name": "stdout",
     "output_type": "stream",
     "text": [
      "Suppose, the front row in your classroom has 23 seats. If you were asked to sit in the seat \n",
      " in the median position, in which seat would you have to sit?\n"
     ]
    },
    {
     "data": {
      "application/vnd.jupyter.widget-view+json": {
       "model_id": "f6ec63d547aa4551b4c87a93d9648333",
       "version_major": 2,
       "version_minor": 0
      },
      "text/plain": [
       "RadioButtons(description='Choices:', options=('11', '11.5', '12', '12.5', 'None of the above'), value=None)"
      ]
     },
     "metadata": {},
     "output_type": "display_data"
    }
   ],
   "source": [
    "answer622 = widgets.RadioButtons(options=['11', '11.5', '12', '12.5', 'None of the above'],\n",
    "                             value = None, description='Choices:')\n",
    "\n",
    "question622 = \"Suppose, the front row in your classroom has 23 seats. If you were asked to sit in the seat \\n in the median position, in which seat would you have to sit?\"\n",
    "\n",
    "\n",
    "def check622(d):\n",
    "    IPython.display.clear_output(wait=False)\n",
    "    display(question622, answer622)\n",
    "    if answer622.value == '12':\n",
    "        print(\"Correct Answer!\")\n",
    "    else:\n",
    "        print(\"Wrong answer! Try again.\")\n",
    "        \n",
    "IPython.display.clear_output(wait=False)\n",
    "display(question622,answer622 )\n",
    "answer622.observe(check622, 'value')"
   ]
  },
  {
   "cell_type": "code",
   "execution_count": 8,
   "metadata": {},
   "outputs": [
    {
     "data": {
      "text/html": [
       "<html>\n",
       "<head>\n",
       "<script type=\"text/javascript\">\n",
       "<!--\n",
       "function toggle(id) {\n",
       "var e = document.getElementById(id);\n",
       "if(e.style.display == 'none')\n",
       "e.style.display = 'block';\n",
       "else\n",
       "e.style.display = 'none';\n",
       "}\n",
       "//-->\n",
       "</script>\n",
       "</head>\n",
       "\n",
       "<body>\n",
       "<div id=\"question622\">\n",
       " <button id = \"622\"\n",
       "onclick=\"toggle('answer622');\">Solution</button> \n",
       "</div>\n",
       "<div style=\"display:none\" id=\"answer622\">\n",
       "    <br/> \n",
       "    The number of seats is odd (23). To find out the median of the seats we need to divide the total number of seats by 2 and we get 11.5. <br/>\n",
       "    So, 12-th seat is in the median position in the first row. <br/>\n",
       "    We can also think of it as the seat 12 has 11 seat on the left, and 11 seats on the right. <br/>\n",
       "    So the correct answer is 12.<br/>\n",
       "\n",
       "</div>\n",
       "\n",
       "</body>\n",
       "</html>\n"
      ],
      "text/plain": [
       "<IPython.core.display.HTML object>"
      ]
     },
     "metadata": {},
     "output_type": "display_data"
    }
   ],
   "source": [
    "%%html\n",
    "<html>\n",
    "<head>\n",
    "<script type=\"text/javascript\">\n",
    "<!--\n",
    "function toggle(id) {\n",
    "var e = document.getElementById(id);\n",
    "if(e.style.display == 'none')\n",
    "e.style.display = 'block';\n",
    "else\n",
    "e.style.display = 'none';\n",
    "}\n",
    "//-->\n",
    "</script>\n",
    "</head>\n",
    "\n",
    "<body>\n",
    "<div id=\"question622\">\n",
    " <button id = \"622\"\n",
    "onclick=\"toggle('answer622');\">Solution</button> \n",
    "</div>\n",
    "<div style=\"display:none\" id=\"answer622\">\n",
    "    <br/> \n",
    "    The number of seats is odd (23). To find out the median of the seats we need to divide the total number of seats by 2 and we get 11.5. <br/>\n",
    "    So, 12-th seat is in the median position in the first row. <br/>\n",
    "    We can also think of it as the seat 12 has 11 seat on the left, and 11 seats on the right. <br/>\n",
    "    So the correct answer is 12.<br/>\n",
    "\n",
    "</div>\n",
    "\n",
    "</body>\n",
    "</html>"
   ]
  },
  {
   "cell_type": "markdown",
   "metadata": {},
   "source": [
    "### What is mode?\n",
    "\n",
    "The **mode** for a data set is the element that occurs the most often.<br>\n",
    "It's possible for a data set to have no modes, one mode, two modes (bimodal), or even three modes (trimodal)!<br>\n",
    "To find the mode, you don't have to sort the set, but it is very helpful to sort it as the mode(s) will be where a number is repeated and that's easier to see when they are next to each other.\n",
    "\n",
    "<img style=\"float: left;\" src=\"https://zookyworld.files.wordpress.com/2013/03/stop-repeating.gif\" width=\"400\" height=\"700\">\n",
    "\n",
    "##### Example 1\n",
    "Data set: $2, 6, 3, 7, 5, 3, 9$\n",
    "<br> Sorted data set: $2, 3, 3, 5, 6, 7, 9$\n",
    "<br> Here, only the value $3$ repeats and all other values only appear once. \n",
    "<br>So, mode will be $3$.\n",
    "\n",
    "##### Example 2\n",
    "Data set: $2, 6, 3, 7, 5, 3, 9, 5, 3, 5, 6 $\n",
    "<br> Sorted data set: $2, 3, 3, 3,  5, 5, 5,  6, 6, 7, 9$\n",
    "<br> Values $3$ and $5$ have same number of repetitions. \n",
    "<br> Notice how $6$ is also repeated but it is not as many times as $3$ or $5$ so it is not part of the mode.\n",
    "<br>So, the mode will be, $3, 5$\n",
    "\n",
    "##### Example 3 \n",
    "Data set: $2, 6, 3, 7, 5, 8, 9, 4 $\n",
    "<br> Sorted data set: $2, 3, 4, 5, 6, 7, 8, 9$\n",
    "<br>There are no value that repeats. \n",
    "<br> So, there is no mode.\n",
    "\n",
    "Picture from [zooky world](https://zookyworld.wordpress.com/2013/03/26/stop-repeating/)"
   ]
  },
  {
   "cell_type": "markdown",
   "metadata": {},
   "source": [
    "### Try for yourself!"
   ]
  },
  {
   "cell_type": "markdown",
   "metadata": {},
   "source": [
    "A student recorded her scores on weekly math quizzes that were marked out of a possible 10 points. Her scores were as follows: <br> \n",
    "5, 6, 9, 8, 9, 10, 7, 6, 8, 7, 6, 7"
   ]
  },
  {
   "cell_type": "code",
   "execution_count": 9,
   "metadata": {},
   "outputs": [
    {
     "name": "stdout",
     "output_type": "stream",
     "text": [
      "What is/are the mode of her records?\n"
     ]
    },
    {
     "data": {
      "application/vnd.jupyter.widget-view+json": {
       "model_id": "e76f0a37d46144758919ce07cf0a2b33",
       "version_major": 2,
       "version_minor": 0
      },
      "text/plain": [
       "RadioButtons(description='Choices:', options=('6', ' 7', '6 and 7', '8 and 9', 'None of the above'), value=Non…"
      ]
     },
     "metadata": {},
     "output_type": "display_data"
    }
   ],
   "source": [
    "answer641 = widgets.RadioButtons(options=['6', ' 7', '6 and 7', '8 and 9', 'None of the above'],\n",
    "                              value=None,description='Choices:')\n",
    "\n",
    "question641 = \"What is/are the mode of her records?\"\n",
    "\n",
    "\n",
    "def checkAnswer641(f):\n",
    "    IPython.display.clear_output(wait=False)\n",
    "    display(question641, answer641 )\n",
    "    if answer641.value == '6 and 7':\n",
    "        print(\"Correct Answer!\")\n",
    "    else:\n",
    "        print(\"Wrong answer! Try again.\")\n",
    "\n",
    "IPython.display.clear_output(wait=False)\n",
    "display(question641, answer641)\n",
    "answer641.observe(checkAnswer641, 'value')"
   ]
  },
  {
   "cell_type": "code",
   "execution_count": 10,
   "metadata": {},
   "outputs": [
    {
     "data": {
      "text/html": [
       "<html>\n",
       "<head>\n",
       "<script type=\"text/javascript\">\n",
       "<!--\n",
       "function toggle(id) {\n",
       "var e = document.getElementById(id);\n",
       "if(e.style.display == 'none')\n",
       "e.style.display = 'block';\n",
       "else\n",
       "e.style.display = 'none';\n",
       "}\n",
       "//-->\n",
       "</script>\n",
       "</head>\n",
       "\n",
       "<body>\n",
       "<div id=\"question641\">\n",
       " <button id = \"641\"\n",
       "onclick=\"toggle('answer641');\">Solution</button> \n",
       "</div>\n",
       "<div style=\"display:none\" id=\"answer641\">\n",
       "At first, let sort the scores on weekly math quizzes: <br/>\n",
       "    $ 5, 6, 6, 6, 7, 7, 7, 8, 8, 9, 9, 10$ <br/>\n",
       "From the sorted points, we can imply, <br/>\n",
       "5 only apears once, <br/>\n",
       "    6 and 7 repeat three times, <br/>\n",
       "    8 and 9 repeat two times, <br/> \n",
       "    and 10 only appears once. <br/>\n",
       "    Therefore, the mode of her scores are: 6 and 7 <br/>\n",
       "   \n",
       "</div>\n",
       "\n",
       "</body>\n",
       "</html>\n"
      ],
      "text/plain": [
       "<IPython.core.display.HTML object>"
      ]
     },
     "metadata": {},
     "output_type": "display_data"
    }
   ],
   "source": [
    "%%html\n",
    "<html>\n",
    "<head>\n",
    "<script type=\"text/javascript\">\n",
    "<!--\n",
    "function toggle(id) {\n",
    "var e = document.getElementById(id);\n",
    "if(e.style.display == 'none')\n",
    "e.style.display = 'block';\n",
    "else\n",
    "e.style.display = 'none';\n",
    "}\n",
    "//-->\n",
    "</script>\n",
    "</head>\n",
    "\n",
    "<body>\n",
    "<div id=\"question641\">\n",
    " <button id = \"641\"\n",
    "onclick=\"toggle('answer641');\">Solution</button> \n",
    "</div>\n",
    "<div style=\"display:none\" id=\"answer641\">\n",
    "At first, let sort the scores on weekly math quizzes: <br/>\n",
    "    $ 5, 6, 6, 6, 7, 7, 7, 8, 8, 9, 9, 10$ <br/>\n",
    "From the sorted points, we can imply, <br/>\n",
    "5 only apears once, <br/>\n",
    "    6 and 7 repeat three times, <br/>\n",
    "    8 and 9 repeat two times, <br/> \n",
    "    and 10 only appears once. <br/>\n",
    "    Therefore, the mode of her scores are: 6 and 7 <br/>\n",
    "   \n",
    "</div>\n",
    "\n",
    "</body>\n",
    "</html>"
   ]
  },
  {
   "cell_type": "markdown",
   "metadata": {},
   "source": [
    "## 2. Interactive bar graph\n",
    "Now you can play with a bar graph and examine how to calculate mean, median, and mode by changing values of the dataset. \n",
    "\n",
    "### Instructions: \n",
    "* Step 1: enter how many data points you have in \"Enter the numbers of the dataset.\" **Max of 10** <br>\n",
    "  * based on your input in step 1, sliders will be available (one for each data point). <br>\n",
    "* Step 2: change the value of sliders and see the associated changes in the bar graph.<br>\n",
    "* Step 3: to show the breakdown for calculating mean check the box Mean, for median check Median and so on.<br>"
   ]
  },
  {
   "cell_type": "code",
   "execution_count": 11,
   "metadata": {
    "scrolled": true
   },
   "outputs": [
    {
     "data": {
      "text/html": [
       "<div id=\"ggbLoadMsg\"></div>"
      ],
      "text/plain": [
       "<IPython.core.display.HTML object>"
      ]
     },
     "metadata": {},
     "output_type": "display_data"
    },
    {
     "data": {
      "application/javascript": [
       "\n",
       "            window.ggbRequireStatus = 'loading';\n",
       "            requirejs.config({\n",
       "                paths: {\n",
       "                    ggb: \"https://cdn.geogebra.org/apps/deployggb\"\n",
       "                }\n",
       "            });\n",
       "\n",
       "            window.safeGGB = function safeGGB(counter, cb) {\n",
       "                if (window.ggbRequireStatus == 'failed') {\n",
       "                    console.log('panic-failed');\n",
       "                }\n",
       "\n",
       "                if (window.ggbRequireStatus == 'loading') {\n",
       "                    if (counter > 0) {\n",
       "                        console.log('in-loop' + counter);\n",
       "                        counter = counter-1;\n",
       "                        setTimeout(() => safeGGB(counter, cb), 2000);\n",
       "                    } else {\n",
       "                        console.log('panic-timeout');\n",
       "                    }\n",
       "                } else if (window.ggbRequireStatus == 'loaded') {\n",
       "                    cb();\n",
       "                }\n",
       "\n",
       "            }\n",
       "\n",
       "            requirejs(\n",
       "                [\"ggb\"],\n",
       "                () => {\n",
       "                    window.ggbRequireStatus = 'loaded';\n",
       "                    console.log('loaded');\n",
       "                    return;\n",
       "                },\n",
       "                (err) => {\n",
       "                    if (err.requireModules) {\n",
       "                        window.ggbRequireStatus = 'failed';\n",
       "                        console.error(\"There was an error while downloading one or more required Javascript Libraries.\");\n",
       "                        err.requireModules.forEach(failedItem => {\n",
       "                            console.error(\"Failed to load: \" + failedItem);\n",
       "                            $('#ggbLoadMsg').append('<p>Failed to load: ' + failedItem + '</p>');\n",
       "                        });\n",
       "                        $('#ggbLoadMsg').append('<p>Please check your internet connection.</p>');\n",
       "                        $('#ggbLoadMsg').css({'color':'red', 'font-size':'150%'});\n",
       "                    }\n",
       "                }\n",
       "            );\n",
       "\n",
       "            console.log(window.ggbRequireStatus);\n",
       "        "
      ],
      "text/plain": [
       "<IPython.core.display.Javascript object>"
      ]
     },
     "metadata": {},
     "output_type": "display_data"
    },
    {
     "data": {
      "text/html": [
       "<div id=\"ggb_0_0e\"></div>"
      ],
      "text/plain": [
       "<IPython.core.display.HTML object>"
      ]
     },
     "metadata": {},
     "output_type": "display_data"
    },
    {
     "data": {
      "application/javascript": [
       "window.safeGGB(5, () => {\n",
       "var ggb_0_0e = new GGBApplet({\"filename\": \"sources/centralTendency.ggb\"}, \"ggb_0_0e\", false);\n",
       " ggb_0_0e.inject();\n",
       "\n",
       "})"
      ],
      "text/plain": [
       "<IPython.core.display.Javascript object>"
      ]
     },
     "metadata": {},
     "output_type": "display_data"
    }
   ],
   "source": [
    "from importlib import reload\n",
    "import site\n",
    "reload(site)\n",
    "\n",
    "from geogebra.ggb import *\n",
    "ggb = GGB()\n",
    "ggb.file('sources/centralTendency.ggb').draw()"
   ]
  },
  {
   "cell_type": "markdown",
   "metadata": {},
   "source": [
    "## Example Using A Large Dataset\n",
    "\n",
    "We will be using a computer to calculate the mean, median, and mode for both the x values and y vaues of this graph."
   ]
  },
  {
   "cell_type": "markdown",
   "metadata": {},
   "source": [
    "<img src=\"images/JustTRex.png\" width=\"400\" height=\"400\" align=\"center\"/>\n",
    "\n",
    "This dataset was originally created by [Alberto Cairo](http://www.thefunctionalart.com/2016/08/download-datasaurus-never-trust-summary.html) which is named \"Datasaurus\" (for obvious reasons). It was made to show how we shouldn't blindly trust only central tendency to tell the full picture of the data. \n",
    "\n",
    "He also made this data free for everyone to use!"
   ]
  },
  {
   "cell_type": "markdown",
   "metadata": {},
   "source": [
    "There's 142 values in this dataset! If you want to compute mean, median, or mode by hand, feel free to display the whole dataset using the button below."
   ]
  },
  {
   "cell_type": "code",
   "execution_count": 12,
   "metadata": {},
   "outputs": [],
   "source": [
    "dataset = pandas.read_csv(\"sources/Datasaurus.csv\")"
   ]
  },
  {
   "cell_type": "code",
   "execution_count": 13,
   "metadata": {},
   "outputs": [
    {
     "data": {
      "application/vnd.jupyter.widget-view+json": {
       "model_id": "ae2442a61fac4e288af091bcbc710769",
       "version_major": 2,
       "version_minor": 0
      },
      "text/plain": [
       "ToggleButton(value=False, description='Show dataset')"
      ]
     },
     "metadata": {},
     "output_type": "display_data"
    }
   ],
   "source": [
    "show = widgets.ToggleButton(value=False,description='Show dataset',disabled=False)\n",
    "\n",
    "def display_data(a):\n",
    "    if show.value == True:\n",
    "        print(round(dataset.head(142),3))\n",
    "    else:\n",
    "        IPython.display.clear_output()\n",
    "        IPython.display.display(show)\n",
    "\n",
    "IPython.display.display(show)\n",
    "show.observe(display_data, 'value')"
   ]
  },
  {
   "cell_type": "markdown",
   "metadata": {},
   "source": [
    "### Mean"
   ]
  },
  {
   "cell_type": "code",
   "execution_count": 14,
   "metadata": {
    "scrolled": true
   },
   "outputs": [
    {
     "name": "stdout",
     "output_type": "stream",
     "text": [
      "x    54.263\n",
      "y    47.832\n",
      "dtype: float64\n"
     ]
    }
   ],
   "source": [
    "#Mean \n",
    "fullDataframeMean = []\n",
    "fullDataframeMean = dataset.mean()\n",
    "print(round(fullDataframeMean.head(2),3))"
   ]
  },
  {
   "cell_type": "markdown",
   "metadata": {},
   "source": [
    "What does this tell us? \n",
    "\n",
    "We now know that the average value of the x values is larger than 50 which means there are more dots on the right than the left. We also know the average vlaues of the y values is less than 50 which means there are more dots on the bottom than the top.\n",
    "\n",
    "We can see this as the T-Rex is on the right of the graph and it took lots of dots to make the details of the claws and bottom jaw compared to the top of the head."
   ]
  },
  {
   "cell_type": "markdown",
   "metadata": {},
   "source": [
    "### Median"
   ]
  },
  {
   "cell_type": "code",
   "execution_count": 15,
   "metadata": {},
   "outputs": [
    {
     "name": "stdout",
     "output_type": "stream",
     "text": [
      "x    53.333\n",
      "y    46.026\n",
      "dtype: float64\n"
     ]
    }
   ],
   "source": [
    "#Median\n",
    "fullDataframeMedian = []\n",
    "fullDataframeMedian = dataset.median()\n",
    "print(round(fullDataframeMedian.head(2),3))"
   ]
  },
  {
   "cell_type": "markdown",
   "metadata": {},
   "source": [
    "What does this tell us?\n",
    "\n",
    "We now know what the middles values are so we can find the middle of the T-Rex at this location."
   ]
  },
  {
   "cell_type": "markdown",
   "metadata": {},
   "source": [
    "### Mode"
   ]
  },
  {
   "cell_type": "code",
   "execution_count": 16,
   "metadata": {
    "scrolled": true
   },
   "outputs": [
    {
     "name": "stdout",
     "output_type": "stream",
     "text": [
      "  dataset       x       y\n",
      "0    dino  29.744  10.641\n"
     ]
    }
   ],
   "source": [
    "#Mode\n",
    "fullDataFrameMode = []\n",
    "fullDataFrameMode = dataset.mode()\n",
    "print(round(fullDataFrameMode.head(1),3))"
   ]
  },
  {
   "cell_type": "markdown",
   "metadata": {},
   "source": [
    "What does this tell us?\n",
    "\n",
    "The mode tells us where to find the straightest line up and down by the x value and the straightest line left to right by the y value."
   ]
  },
  {
   "cell_type": "markdown",
   "metadata": {},
   "source": [
    "[Autodesk Research](https://www.autodeskresearch.com/publications/samestats) used this dataset to create the \"Datasaurus Dozen\". They created 12 new graphs with the same x and y mean as \"Datasaurus\".\n",
    "\n",
    "<img src=\"images/DinoSequential.gif\" width=\"400\" height=\"400\" align=\"center\"/>"
   ]
  },
  {
   "cell_type": "markdown",
   "metadata": {},
   "source": [
    "## Create Your Own Data Set\n",
    "\n",
    "You can click \"Show/hide next box\" and change the numbers in \"YourDataSet\". You can even add new ones or take away some. Try making a set with small numbers and one with large numbers. Try to make sets with an even amount of numbers and an odd amount of numbers. \n",
    "\n",
    "*Just make sure there's a comma ( , ) between each number.*\n",
    "\n",
    "Then we tell the computer to compute the mean, then the median, then the mode. It's important to know how to calculate these by hand, but computers are very smart now. We have these tools to help us calculate things like mean, median, and mode once we understand what they mean.\n",
    "\n",
    "After making your changes, to run the cell with code below click on the \"Run\" button at the top or hit \"Ctrl+Enter/Return\" key."
   ]
  },
  {
   "cell_type": "code",
   "execution_count": 17,
   "metadata": {},
   "outputs": [],
   "source": [
    "#found on https://stackoverflow.com/questions/31517194/how-to-hide-one-specific-cell-input-or-output-in-ipython-notebook\n",
    "\n",
    "def hide_toggle():\n",
    "    this_cell = \"\"\"$('div.cell.code_cell.rendered.selected')\"\"\"\n",
    "\n",
    "    toggle_text = 'Show/hide next box'  # text shown on toggle link\n",
    "    \n",
    "    target_cell = this_cell + '.next()'\n",
    "\n",
    "    js_f_name = 'code_toggle_{}'.format(str(random.randint(1,2**64)))\n",
    "\n",
    "    html = \"\"\"\n",
    "        <script>\n",
    "            function {f_name}() {{\n",
    "                {cell_selector}.find('div.input').toggle();\n",
    "            }}\n",
    "\n",
    "        </script>\n",
    "\n",
    "        <a href=\"javascript:{f_name}()\">{toggle_text}</a>\n",
    "    \"\"\".format(\n",
    "        f_name=js_f_name,\n",
    "        cell_selector=target_cell,\n",
    "        toggle_text=toggle_text\n",
    "    )\n",
    "\n",
    "    return HTML(html)"
   ]
  },
  {
   "cell_type": "code",
   "execution_count": 18,
   "metadata": {},
   "outputs": [
    {
     "data": {
      "text/html": [
       "\n",
       "        <script>\n",
       "            function code_toggle_17397509778572806801() {\n",
       "                $('div.cell.code_cell.rendered.selected').next().find('div.input').toggle();\n",
       "            }\n",
       "\n",
       "        </script>\n",
       "\n",
       "        <a href=\"javascript:code_toggle_17397509778572806801()\">Show/hide next box</a>\n",
       "    "
      ],
      "text/plain": [
       "<IPython.core.display.HTML object>"
      ]
     },
     "execution_count": 18,
     "metadata": {},
     "output_type": "execute_result"
    }
   ],
   "source": [
    "hide_toggle()"
   ]
  },
  {
   "cell_type": "code",
   "execution_count": 19,
   "metadata": {},
   "outputs": [
    {
     "name": "stdout",
     "output_type": "stream",
     "text": [
      "Your mean is: \n",
      "3\n",
      "Your median is: \n",
      "3\n",
      "Your mode is: \n",
      "There is no mode in your data set\n"
     ]
    }
   ],
   "source": [
    "YourDataSet = [0,1,2,3,4,5,6] #don't forget a comma between each number!\n",
    "\n",
    "#the word \"print\" tells the computer to write it below this block so you can read it!\n",
    "print(\"Your mean is: \")\n",
    "print(mean(YourDataSet)) #this calculates your mean\n",
    "print(\"Your median is: \")\n",
    "print(median(YourDataSet)) #this calculates your median\n",
    "try:\n",
    "    print(\"Your mode is: \")\n",
    "    print(mode(YourDataSet)) #this calculates your mode\n",
    "except:\n",
    "    print(\"There is no mode in your data set\") #this is incase there is no mode"
   ]
  },
  {
   "cell_type": "markdown",
   "metadata": {},
   "source": [
    "**************\n",
    "## Test yourself\n",
    "\n",
    "Try out some of these harder questions on your own!"
   ]
  },
  {
   "cell_type": "code",
   "execution_count": 20,
   "metadata": {},
   "outputs": [
    {
     "data": {
      "text/plain": [
       "'What number would you divide by to calculate the mean of 3, 4, 5, and 6?'"
      ]
     },
     "metadata": {},
     "output_type": "display_data"
    },
    {
     "data": {
      "application/vnd.jupyter.widget-view+json": {
       "model_id": "9a1387ac5f9a4a168dbe37abf4842606",
       "version_major": 2,
       "version_minor": 0
      },
      "text/plain": [
       "RadioButtons(description='Choices:', options=('3', '4', '4.5', '5', 'None of the above'), value=None)"
      ]
     },
     "metadata": {},
     "output_type": "display_data"
    }
   ],
   "source": [
    "question611 = \"What number would you divide by to calculate the mean of 3, 4, 5, and 6?\"\n",
    "\n",
    "answer611 = widgets.RadioButtons(options=['3', '4', '4.5', '5', 'None of the above'],\n",
    "                             value= None, description='Choices:')\n",
    "\n",
    "\n",
    "def checkAnswer(a):\n",
    "    IPython.display.clear_output(wait=False)\n",
    "    display(question611, answer611)\n",
    "    if answer611.value == '4':\n",
    "        print(\"Correct Answer!\")\n",
    "    else:\n",
    "        print(\"Wrong answer! Try again.\")\n",
    "\n",
    "display(question611, answer611)\n",
    "\n",
    "answer611.observe(checkAnswer, 'value')\n",
    "\n"
   ]
  },
  {
   "cell_type": "code",
   "execution_count": 21,
   "metadata": {},
   "outputs": [
    {
     "data": {
      "text/html": [
       "<html>\n",
       "<head>\n",
       "<script type=\"text/javascript\">\n",
       "<!--\n",
       "function toggle(id) {\n",
       "var e = document.getElementById(id);\n",
       "if(e.style.display == 'none')\n",
       "e.style.display = 'block';\n",
       "else\n",
       "e.style.display = 'none';\n",
       "}\n",
       "//-->\n",
       "</script>\n",
       "</head>\n",
       "\n",
       "<body>\n",
       "<div id=\"question611\">\n",
       " <button id = \"611\"\n",
       "onclick=\"toggle('answer611');\">Solution</button> \n",
       "</div>\n",
       "<div style=\"display:none\" id=\"answer611\">\n",
       "From the definition of mean, we know that we have to divide by the total number of elements in the data set.<br/>\n",
       "In this case, that number is 4. <br/>\n",
       "So, to compute the mean, we have to divide the sum of the data set by 4. <br/>\n",
       "\n",
       "</div>\n",
       "\n",
       "</body>\n",
       "</html>\n"
      ],
      "text/plain": [
       "<IPython.core.display.HTML object>"
      ]
     },
     "metadata": {},
     "output_type": "display_data"
    }
   ],
   "source": [
    "%%html\n",
    "<html>\n",
    "<head>\n",
    "<script type=\"text/javascript\">\n",
    "<!--\n",
    "function toggle(id) {\n",
    "var e = document.getElementById(id);\n",
    "if(e.style.display == 'none')\n",
    "e.style.display = 'block';\n",
    "else\n",
    "e.style.display = 'none';\n",
    "}\n",
    "//-->\n",
    "</script>\n",
    "</head>\n",
    "\n",
    "<body>\n",
    "<div id=\"question611\">\n",
    " <button id = \"611\"\n",
    "onclick=\"toggle('answer611');\">Solution</button> \n",
    "</div>\n",
    "<div style=\"display:none\" id=\"answer611\">\n",
    "From the definition of mean, we know that we have to divide by the total number of elements in the data set.<br/>\n",
    "In this case, that number is 4. <br/>\n",
    "So, to compute the mean, we have to divide the sum of the data set by 4. <br/>\n",
    "\n",
    "</div>\n",
    "\n",
    "</body>\n",
    "</html>"
   ]
  },
  {
   "cell_type": "code",
   "execution_count": 22,
   "metadata": {},
   "outputs": [
    {
     "data": {
      "text/plain": [
       "'The mean of four numbers is 71.5. If three of the numbers are 58, 76, and 88, what is the value of the fourth number?'"
      ]
     },
     "metadata": {},
     "output_type": "display_data"
    },
    {
     "data": {
      "application/vnd.jupyter.widget-view+json": {
       "model_id": "e9659f543d36409f940c24bd764ff475",
       "version_major": 2,
       "version_minor": 0
      },
      "text/plain": [
       "RadioButtons(description='Choices:', options=('62', '73.37', '64', '74', 'None of the above'), value=None)"
      ]
     },
     "metadata": {},
     "output_type": "display_data"
    }
   ],
   "source": [
    "question621 = \"The mean of four numbers is 71.5. If three of the numbers are 58, 76, and 88, what is the value of the fourth number?\"\n",
    "\n",
    "answer621 = widgets.RadioButtons(options=['62', '73.37', '64', '74',  'None of the above'],\n",
    "                              value = None, description='Choices:')\n",
    "\n",
    "def check621(c):\n",
    "    IPython.display.clear_output(wait=False)\n",
    "    display(question621, answer621)\n",
    "    if answer621.value == '64':\n",
    "        print(\"Correct Answer!\")\n",
    "    else:\n",
    "        print(\"Wrong answer! Try again.\")\n",
    "        \n",
    "IPython.display.clear_output(wait=False)\n",
    "display(question621, answer621)\n",
    "answer621.observe(check621, 'value')"
   ]
  },
  {
   "cell_type": "code",
   "execution_count": 23,
   "metadata": {},
   "outputs": [
    {
     "data": {
      "text/html": [
       "<html>\n",
       "<head>\n",
       "<script type=\"text/javascript\">\n",
       "<!--\n",
       "function toggle(id) {\n",
       "var e = document.getElementById(id);\n",
       "if(e.style.display == 'none')\n",
       "e.style.display = 'block';\n",
       "else\n",
       "e.style.display = 'none';\n",
       "}\n",
       "//-->\n",
       "</script>\n",
       "</head>\n",
       "\n",
       "<body>\n",
       "<div id=\"question621\">\n",
       " <button id = \"621\"\n",
       "onclick=\"toggle('answer621');\">Solution</button> \n",
       "</div>\n",
       "<div style=\"display:none\" id=\"answer621\">\n",
       "We are given three numbers but told the mean of four numbers is 71.5. Let assume the fourth number is x. <br/>\n",
       "So, by the definition of mean, we can write <br>\n",
       "$\\frac{58 + 76 + 88 + x}{4} = 71.5 $ <br/>\n",
       "\n",
       "or, $222 + x = 71.5 \\times 4 $ <br/>\n",
       "\n",
       "or, $x = 286 - 222 $ <br/>\n",
       "\n",
       "or, $x = 64 $ <br/>\n",
       "\n",
       "Therefore, the fourth number is 64. <br/>\n",
       "\n",
       "\n",
       "</div>\n",
       "\n",
       "</body>\n",
       "</html>\n"
      ],
      "text/plain": [
       "<IPython.core.display.HTML object>"
      ]
     },
     "metadata": {},
     "output_type": "display_data"
    }
   ],
   "source": [
    "%%html\n",
    "<html>\n",
    "<head>\n",
    "<script type=\"text/javascript\">\n",
    "<!--\n",
    "function toggle(id) {\n",
    "var e = document.getElementById(id);\n",
    "if(e.style.display == 'none')\n",
    "e.style.display = 'block';\n",
    "else\n",
    "e.style.display = 'none';\n",
    "}\n",
    "//-->\n",
    "</script>\n",
    "</head>\n",
    "\n",
    "<body>\n",
    "<div id=\"question621\">\n",
    " <button id = \"621\"\n",
    "onclick=\"toggle('answer621');\">Solution</button> \n",
    "</div>\n",
    "<div style=\"display:none\" id=\"answer621\">\n",
    "We are given three numbers but told the mean of four numbers is 71.5. Let assume the fourth number is x. <br/>\n",
    "So, by the definition of mean, we can write <br>\n",
    "$\\frac{58 + 76 + 88 + x}{4} = 71.5 $ <br/>\n",
    "\n",
    "or, $222 + x = 71.5 \\times 4 $ <br/>\n",
    "\n",
    "or, $x = 286 - 222 $ <br/>\n",
    "\n",
    "or, $x = 64 $ <br/>\n",
    "\n",
    "Therefore, the fourth number is 64. <br/>\n",
    "\n",
    "\n",
    "</div>\n",
    "\n",
    "</body>\n",
    "</html>"
   ]
  },
  {
   "cell_type": "markdown",
   "metadata": {},
   "source": [
    "Sara tried to compute the mean average of her 8 test scores. She mistakenly divided the correct sum of all her test scores by 7, which yields 96."
   ]
  },
  {
   "cell_type": "code",
   "execution_count": 24,
   "metadata": {},
   "outputs": [
    {
     "data": {
      "text/plain": [
       "\"What is Sara's mean test score? (Source: dummies)\""
      ]
     },
     "metadata": {},
     "output_type": "display_data"
    },
    {
     "data": {
      "application/vnd.jupyter.widget-view+json": {
       "model_id": "2430d0337f084fa2855b53acdee37a9e",
       "version_major": 2,
       "version_minor": 0
      },
      "text/plain": [
       "RadioButtons(description='Choices:', options=('78', '83.5', '100', '84', 'None of the above'), value=None)"
      ]
     },
     "metadata": {},
     "output_type": "display_data"
    }
   ],
   "source": [
    "answer631 = widgets.RadioButtons(options=['78', '83.5', '100', '84', 'None of the above'],\n",
    "                             value = None, description='Choices:')\n",
    "\n",
    "question631 = \"What is Sara's mean test score? (Source: dummies)\"\n",
    "\n",
    "def check631(e):\n",
    "    IPython.display.clear_output(wait=False)\n",
    "    display(question631, answer631)\n",
    "    if answer631.value == '84':\n",
    "        print(\"Correct Answer!\")\n",
    "    else:\n",
    "        print(\"Wrong answer! Try again.\")\n",
    "        \n",
    "IPython.display.clear_output(wait=False)\n",
    "display(question631, answer631)\n",
    "answer631.observe(check631, 'value')"
   ]
  },
  {
   "cell_type": "code",
   "execution_count": 25,
   "metadata": {},
   "outputs": [
    {
     "data": {
      "text/html": [
       "<html>\n",
       "<head>\n",
       "<script type=\"text/javascript\">\n",
       "<!--\n",
       "function toggle(id) {\n",
       "var e = document.getElementById(id);\n",
       "if(e.style.display == 'none')\n",
       "e.style.display = 'block';\n",
       "else\n",
       "e.style.display = 'none';\n",
       "}\n",
       "//-->\n",
       "</script>\n",
       "</head>\n",
       "\n",
       "<body>\n",
       "<div id=\"question631\">\n",
       " <button id = \"631\"\n",
       "onclick=\"toggle('answer631');\">Solution</button> \n",
       "</div>\n",
       "<div style=\"display:none\" id=\"answer631\">\n",
       "You know the test score mean of Sara when divided by 7, you can determine the sum of her scores. This information will then allow you\n",
       "to determine her mean average over eight tests.<br/>\n",
       "\n",
       "Apply the average formula to her wrong calculation. <br/>\n",
       "\n",
       "96 = sum of scores ÷ 7 <br/>\n",
       "\n",
       "96 × 7 = sum of scores <br/>\n",
       "\n",
       "672 = sum of scores <br/> \n",
       "\n",
       "Now that you know her test score sum, you can figure her true mean average.<br/> \n",
       "\n",
       "Mean average = 672 ÷ 8 <br/>\n",
       "\n",
       "Mean average = 84 <br/>\n",
       "\n",
       "So, the correct answer is D. <br/>\n",
       "\n",
       "</div>\n",
       "\n",
       "</body>\n",
       "</html>\n"
      ],
      "text/plain": [
       "<IPython.core.display.HTML object>"
      ]
     },
     "metadata": {},
     "output_type": "display_data"
    }
   ],
   "source": [
    "%%html\n",
    "<html>\n",
    "<head>\n",
    "<script type=\"text/javascript\">\n",
    "<!--\n",
    "function toggle(id) {\n",
    "var e = document.getElementById(id);\n",
    "if(e.style.display == 'none')\n",
    "e.style.display = 'block';\n",
    "else\n",
    "e.style.display = 'none';\n",
    "}\n",
    "//-->\n",
    "</script>\n",
    "</head>\n",
    "\n",
    "<body>\n",
    "<div id=\"question631\">\n",
    " <button id = \"631\"\n",
    "onclick=\"toggle('answer631');\">Solution</button> \n",
    "</div>\n",
    "<div style=\"display:none\" id=\"answer631\">\n",
    "You know the test score mean of Sara when divided by 7, you can determine the sum of her scores. This information will then allow you\n",
    "to determine her mean average over eight tests.<br/>\n",
    "\n",
    "Apply the average formula to her wrong calculation. <br/>\n",
    "\n",
    "96 = sum of scores ÷ 7 <br/>\n",
    "\n",
    "96 × 7 = sum of scores <br/>\n",
    "\n",
    "672 = sum of scores <br/> \n",
    "\n",
    "Now that you know her test score sum, you can figure her true mean average.<br/> \n",
    "\n",
    "Mean average = 672 ÷ 8 <br/>\n",
    "\n",
    "Mean average = 84 <br/>\n",
    "\n",
    "So, the correct answer is D. <br/>\n",
    "\n",
    "</div>\n",
    "\n",
    "</body>\n",
    "</html>"
   ]
  },
  {
   "cell_type": "code",
   "execution_count": 26,
   "metadata": {},
   "outputs": [
    {
     "data": {
      "text/plain": [
       "'A set of four numbers that begins with the number 32 is arranged from smallest to largest.\\n If the median is 35, which of the following could be the set of numbers?'"
      ]
     },
     "metadata": {},
     "output_type": "display_data"
    },
    {
     "data": {
      "application/vnd.jupyter.widget-view+json": {
       "model_id": "80951c5352c14b289087f742a810fe98",
       "version_major": 2,
       "version_minor": 0
      },
      "text/plain": [
       "RadioButtons(description='Choices:', options=('32, 34, 35, 36', '32, 35, 36, 41', '32, 34, 40, 44', '32, 32, 3…"
      ]
     },
     "metadata": {},
     "output_type": "display_data"
    }
   ],
   "source": [
    "answer632 = widgets.RadioButtons(options=['32, 34, 35, 36', '32, 35, 36, 41', '32, 34, 40, 44', '32, 32, 38, 38', 'None of the above'],\n",
    "                             value = None, description='Choices:')\n",
    "\n",
    "question632 = \"A set of four numbers that begins with the number 32 is arranged from smallest to largest.\\n If the median is 35, which of the following could be the set of numbers?\"\n",
    "\n",
    "def check632(e):\n",
    "    IPython.display.clear_output(wait=False)\n",
    "    display(question632, answer632)\n",
    "    if answer632.value == '32, 32, 38, 38':\n",
    "        print(\"Correct Answer!\")\n",
    "    else:\n",
    "        print(\"Wrong answer! Try again.\")\n",
    "        \n",
    "IPython.display.clear_output(wait=False)\n",
    "display(question632, answer632)\n",
    "answer632.observe(check632, 'value')"
   ]
  },
  {
   "cell_type": "code",
   "execution_count": 27,
   "metadata": {},
   "outputs": [
    {
     "data": {
      "text/html": [
       "<html>\n",
       "<head>\n",
       "<script type=\"text/javascript\">\n",
       "<!--\n",
       "function toggle(id) {\n",
       "var e = document.getElementById(id);\n",
       "if(e.style.display == 'none')\n",
       "e.style.display = 'block';\n",
       "else\n",
       "e.style.display = 'none';\n",
       "}\n",
       "//-->\n",
       "</script>\n",
       "</head>\n",
       "\n",
       "<body>\n",
       "<div id=\"question632\">\n",
       " <button id = \"632\"\n",
       "onclick=\"toggle('answer632');\">Solution</button> \n",
       "</div>\n",
       "<div style=\"display:none\" id=\"answer632\">\n",
       "We are given the median of four numbers 35. We can imply from the given information is that the sum <br/> \n",
       "of the numbers is 140. Now we check all the choices one by one. We add all the numbers of the first choice and get 137. <br/>\n",
       "So it is not our correct answer. <br/>\n",
       "Similarly, for the next choices we get 144, 150, and 140 for second, third and fourth choices, respectively, <br/>\n",
       "Therefore, the correct series is: 32, 32, 38, 38.<br/>\n",
       "\n",
       "</div>\n",
       "\n",
       "</body>\n",
       "</html>\n"
      ],
      "text/plain": [
       "<IPython.core.display.HTML object>"
      ]
     },
     "metadata": {},
     "output_type": "display_data"
    }
   ],
   "source": [
    "%%html\n",
    "<html>\n",
    "<head>\n",
    "<script type=\"text/javascript\">\n",
    "<!--\n",
    "function toggle(id) {\n",
    "var e = document.getElementById(id);\n",
    "if(e.style.display == 'none')\n",
    "e.style.display = 'block';\n",
    "else\n",
    "e.style.display = 'none';\n",
    "}\n",
    "//-->\n",
    "</script>\n",
    "</head>\n",
    "\n",
    "<body>\n",
    "<div id=\"question632\">\n",
    " <button id = \"632\"\n",
    "onclick=\"toggle('answer632');\">Solution</button> \n",
    "</div>\n",
    "<div style=\"display:none\" id=\"answer632\">\n",
    "We are given the median of four numbers 35. We can imply from the given information is that the sum <br/> \n",
    "of the numbers is 140. Now we check all the choices one by one. We add all the numbers of the first choice and get 137. <br/>\n",
    "So it is not our correct answer. <br/>\n",
    "Similarly, for the next choices we get 144, 150, and 140 for second, third and fourth choices, respectively, <br/>\n",
    "Therefore, the correct series is: 32, 32, 38, 38.<br/>\n",
    "\n",
    "</div>\n",
    "\n",
    "</body>\n",
    "</html>\n"
   ]
  },
  {
   "cell_type": "code",
   "execution_count": 28,
   "metadata": {},
   "outputs": [
    {
     "data": {
      "text/plain": [
       "'The average of five positive integers is less than 20. What is the smallest possible median of this set?'"
      ]
     },
     "metadata": {},
     "output_type": "display_data"
    },
    {
     "data": {
      "application/vnd.jupyter.widget-view+json": {
       "model_id": "a5f15832274b481cae3190434be4c147",
       "version_major": 2,
       "version_minor": 0
      },
      "text/plain": [
       "RadioButtons(description='Choices:', options=('1', '2', '4', '19', 'None of the above'), value=None)"
      ]
     },
     "metadata": {},
     "output_type": "display_data"
    }
   ],
   "source": [
    "answer642 = widgets.RadioButtons(options=['1', '2', '4', '19', 'None of the above'],\n",
    "                             value = None,  description='Choices:')\n",
    "\n",
    "question642 = \"The average of five positive integers is less than 20. What is the smallest possible median of this set?\"\n",
    "\n",
    "def check642(g):\n",
    "    IPython.display.clear_output(wait=False)\n",
    "    display(question642, answer642)\n",
    "    if answer642.value == '1':\n",
    "        print(\"Correct Answer!\")\n",
    "    else:\n",
    "        print(\"Wrong answer! Try again.\")\n",
    "\n",
    "IPython.display.clear_output(wait=False)\n",
    "display(question642, answer642)\n",
    "answer642.observe(check642, 'value')"
   ]
  },
  {
   "cell_type": "code",
   "execution_count": 29,
   "metadata": {},
   "outputs": [
    {
     "data": {
      "text/html": [
       "<html>\n",
       "<head>\n",
       "<script type=\"text/javascript\">\n",
       "<!--\n",
       "function toggle(id) {\n",
       "var e = document.getElementById(id);\n",
       "if(e.style.display == 'none')\n",
       "e.style.display = 'block';\n",
       "else\n",
       "e.style.display = 'none';\n",
       "}\n",
       "//-->\n",
       "</script>\n",
       "</head>\n",
       "\n",
       "<body>\n",
       "<div id=\"question642\">\n",
       " <button id = \"642\"\n",
       "onclick=\"toggle('answer642');\">Solution</button> \n",
       "</div>\n",
       "<div style=\"display:none\" id=\"answer642\">\n",
       "As we are given that the numbers are positive integers that means all numbers should be\n",
       "<br/>greater than or equal 1. Let assume the five numbers are 1, 1, 1, 1, 16. The sum is equal\n",
       "<br/>to 20, and the average is 20/5 = 4 which is less than 20. All given conditions are satisfied. \n",
       "<br > <b>Therefore, the smallest possible median is 1. <b> <br/>\n",
       "\n",
       "</div>\n",
       "\n",
       "</body>\n",
       "</html>\n"
      ],
      "text/plain": [
       "<IPython.core.display.HTML object>"
      ]
     },
     "metadata": {},
     "output_type": "display_data"
    }
   ],
   "source": [
    "%%html\n",
    "<html>\n",
    "<head>\n",
    "<script type=\"text/javascript\">\n",
    "<!--\n",
    "function toggle(id) {\n",
    "var e = document.getElementById(id);\n",
    "if(e.style.display == 'none')\n",
    "e.style.display = 'block';\n",
    "else\n",
    "e.style.display = 'none';\n",
    "}\n",
    "//-->\n",
    "</script>\n",
    "</head>\n",
    "\n",
    "<body>\n",
    "<div id=\"question642\">\n",
    " <button id = \"642\"\n",
    "onclick=\"toggle('answer642');\">Solution</button> \n",
    "</div>\n",
    "<div style=\"display:none\" id=\"answer642\">\n",
    "As we are given that the numbers are positive integers that means all numbers should be\n",
    "<br/>greater than or equal 1. Let assume the five numbers are 1, 1, 1, 1, 16. The sum is equal\n",
    "<br/>to 20, and the average is 20/5 = 4 which is less than 20. All given conditions are satisfied. \n",
    "<br > <b>Therefore, the smallest possible median is 1. <b> <br/>\n",
    "\n",
    "</div>\n",
    "\n",
    "</body>\n",
    "</html>"
   ]
  },
  {
   "cell_type": "markdown",
   "metadata": {},
   "source": [
    "## Let's summarize what we have learned in this notebook:\n",
    "\n",
    "* Mean is the average and is found by adding all values then dividing my the quantity of values\n",
    "* Median is the middle value and is found by sorting the set and finding the middle\n",
    "* Mode is the most used value and is found by counting how many times a value is repeated\n",
    "* Range is the highest value minus the lowest value\n",
    "\n",
    "Here is a video made by Dylan Peters EDU that is a parody of the song Lazy Song by Bruno Mars that sums up these 4 concepts."
   ]
  },
  {
   "cell_type": "code",
   "execution_count": 30,
   "metadata": {},
   "outputs": [
    {
     "data": {
      "text/html": [
       "\n",
       "        <iframe\n",
       "            width=\"560\"\n",
       "            height=\"315\"\n",
       "            src=\"https://www.youtube.com/embed/IHginNwss5c?allow=accelerometer%3B+encrypted-media%3B+gyroscope%3B+picture-in-picture%3B+allowfullscreen\"\n",
       "            frameborder=\"0\"\n",
       "            allowfullscreen\n",
       "        ></iframe>\n",
       "        "
      ],
      "text/plain": [
       "<IPython.lib.display.IFrame at 0x7f53527d9eb8>"
      ]
     },
     "execution_count": 30,
     "metadata": {},
     "output_type": "execute_result"
    }
   ],
   "source": [
    "IFrame(width=\"560\", height=\"315\", src=\"https://www.youtube.com/embed/IHginNwss5c\", allow=\"accelerometer; encrypted-media; gyroscope; picture-in-picture; allowfullscreen\")"
   ]
  },
  {
   "cell_type": "markdown",
   "metadata": {},
   "source": [
    "![logo](https://callysto.ca/wp-content/uploads/2018/07/Callysto-Notebook-Banner_Bottom_07.30.18.jpg)"
   ]
  }
 ],
 "metadata": {
  "kernelspec": {
   "display_name": "Python 3",
   "language": "python",
   "name": "python3"
  },
  "language_info": {
   "codemirror_mode": {
    "name": "ipython",
    "version": 3
   },
   "file_extension": ".py",
   "mimetype": "text/x-python",
   "name": "python",
   "nbconvert_exporter": "python",
   "pygments_lexer": "ipython3",
   "version": "3.6.8"
  }
 },
 "nbformat": 4,
 "nbformat_minor": 2
}
