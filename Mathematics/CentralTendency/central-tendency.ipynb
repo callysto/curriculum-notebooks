{
 "cells": [
  {
   "cell_type": "markdown",
   "metadata": {},
   "source": [
    "![Callysto.ca Banner](https://github.com/callysto/curriculum-notebooks/blob/master/callysto-notebook-banner-top.jpg?raw=true)\n",
    "\n",
    "<a href=\"https://hub.callysto.ca/jupyter/hub/user-redirect/git-pull?repo=https%3A%2F%2Fgithub.com%2Fcallysto%2Fcurriculum-notebooks&branch=master&subPath=Mathematics/CentralTendency/central-tendency.ipynb&depth=1\" target=\"_parent\"><img src=\"https://raw.githubusercontent.com/callysto/curriculum-notebooks/master/open-in-callysto-button.svg?sanitize=true\" width=\"123\" height=\"24\" alt=\"Open in Callysto\"/></a>"
   ]
  },
  {
   "cell_type": "markdown",
   "metadata": {},
   "source": [
    "# Data Analysis: Mean, Median, and Mode\n",
    "\n",
    "Mean, median, and mode are known as measures of central tendency because they tell us where data is centered or clustered together. We will also talk about range.\n",
    "\n",
    "If you want a good summary of this topic, check out [this website for Australian junior high students](https://www.mathsteacher.com.au/year8/ch17_stat/02_mean/mean.htm) or watch the video at the end!\n",
    "\n",
    "## Definitions and Examples\n",
    "\n",
    "### 1. Range\n",
    "\n",
    "Given a set of values, the **range** is the difference between the highest value and the lowest value. This tells us if the values are spread apart or close together. \n",
    "\n",
    "##### Example\n",
    "The time it took Avery to walk to school each day this week was 10 minutes, 15 minutes, 12 minutes, 20 minutes, and 8 minutes. What is the range of the times it takes to walk to school?\n",
    "\n",
    "range = highest value - lowest value <br>\n",
    "range = 20 minutes - 8 minutes <br>\n",
    "range = 12 minutes <br>\n",
    "\n",
    "Since the range is large compared to the values, we know that the time it takes to walk to school can be quite different.\n",
    "\n",
    "Let's try that calculation in Python."
   ]
  },
  {
   "cell_type": "code",
   "execution_count": null,
   "metadata": {},
   "outputs": [],
   "source": [
    "walking_times = [10, 15, 12, 20, 8]\n",
    "minimum = min(walking_times)\n",
    "maximum = max(walking_times)\n",
    "range_of_times = maximum - minimum\n",
    "print('The range is', range_of_times)"
   ]
  },
  {
   "cell_type": "markdown",
   "metadata": {},
   "source": [
    "### 2. Mean\n",
    "\n",
    "The **mean** (sometimes called an average) of a set of numbers is the *sum of all the values* divided by the *number of values*. \n",
    "\n",
    "##### Example\n",
    "\n",
    "At Rose Middle School, there are 3 classes of Grade 8 students. The first one has 25 students, the second has 18 students, and the third has 20 students. What is the average number of students in a Grade 8 class?\n",
    "\n",
    "Our set of data is $(25, 18, 20)$ and there are $3$ elements in this set.\n",
    "\n",
    "$$\\text{mean} = \\frac{25 + 18 + 20}{3} = \\frac{63}{3} = 21 $$\n",
    "\n",
    "That means that Rose Middle School has an average of 21 students per class in Grade 8.\n",
    "\n",
    "Using Python:"
   ]
  },
  {
   "cell_type": "code",
   "execution_count": null,
   "metadata": {},
   "outputs": [],
   "source": [
    "class_sizes = [25, 18, 20]\n",
    "total = sum(class_sizes)\n",
    "number_of_classes = len(class_sizes)\n",
    "class_size_mean = total / number_of_classes\n",
    "print('The mean is', class_size_mean)"
   ]
  },
  {
   "cell_type": "markdown",
   "metadata": {},
   "source": [
    "We can also use the method `mean` from the `statistics` library:"
   ]
  },
  {
   "cell_type": "code",
   "execution_count": null,
   "metadata": {},
   "outputs": [],
   "source": [
    "class_sizes = [25, 18, 20]\n",
    "from statistics import mean\n",
    "mean(class_sizes)"
   ]
  },
  {
   "cell_type": "markdown",
   "metadata": {},
   "source": [
    "### 3. Median\n",
    "\n",
    "The **median** is the middle number in a sequence of numbers. To find the median, the set needs to be ordered from smallest to largest.\n",
    "\n",
    "##### Example 1\n",
    "Data set: $2, 6, 3, 7, 5, 3, 9$\n",
    "<br> Sorted data set: $2, 3, 3, 5, 6, 7, 9$\n",
    "<br> So the median will be $5$ because it's 4 numbers in from both sides"
   ]
  },
  {
   "cell_type": "code",
   "execution_count": null,
   "metadata": {},
   "outputs": [],
   "source": [
    "dataset = [2, 6, 3, 7, 5, 3, 9]\n",
    "number_of_values = len(dataset)\n",
    "middle_index = (number_of_values // 2)    # the // means integer division\n",
    "dataset.sort()                            # sort the list\n",
    "median_value = dataset[middle_index]      # get the middle value from the sorted list\n",
    "print(dataset)\n",
    "print('The median value is', median_value)"
   ]
  },
  {
   "cell_type": "markdown",
   "metadata": {},
   "source": [
    "We can also use `median` from `statistics`:"
   ]
  },
  {
   "cell_type": "code",
   "execution_count": null,
   "metadata": {},
   "outputs": [],
   "source": [
    "dataset = [2, 6, 3, 7, 5, 3, 9]\n",
    "from statistics import median\n",
    "median(dataset)"
   ]
  },
  {
   "cell_type": "markdown",
   "metadata": {},
   "source": [
    "Did you notice that this data set has an odd number of values? If there is an even number of values the median will be halfway between the two middle numbers.\n",
    "\n",
    "##### Example 2\n",
    "Data set: $2, 6, 3, 7, 5, 3, 9, 4$ <br>\n",
    "**Notice how there's 8 values in this set**\n",
    "<br> Sorted data set: $2, 3, 3, 4, 5, 6, 7, 9$\n",
    "<br> There two middle numbers are $4$ and $5$\n",
    "<br> Therefore, the median will be $\\frac{(4+5)}{2} = 4.5$"
   ]
  },
  {
   "cell_type": "code",
   "execution_count": null,
   "metadata": {},
   "outputs": [],
   "source": [
    "dataset = [2, 6, 3, 7, 5, 3, 9, 4]\n",
    "median(dataset)"
   ]
  },
  {
   "cell_type": "markdown",
   "metadata": {},
   "source": [
    "### 4. Mode\n",
    "\n",
    "The **mode** of a data set is the element that occurs the most often. It's possible for a data set to have no modes, one mode, two modes (bimodal), or even three modes (trimodal).\n",
    "\n",
    "To find the mode it can be helpful to sort the values so that it's easier to see when repeated values are next to each other.\n",
    "\n",
    "#### Example\n",
    "Data set: $2, 6, 3, 7, 5, 3, 9$\n",
    "<br> Sorted data set: $2, 3, 3, 5, 6, 7, 9$\n",
    "<br> Here, only the value $3$ repeats and all other values only appear once. \n",
    "<br>So, mode will be $3$."
   ]
  },
  {
   "cell_type": "code",
   "execution_count": null,
   "metadata": {},
   "outputs": [],
   "source": [
    "dataset = [2, 6, 3, 7, 5, 3, 9]\n",
    "dataset.sort()\n",
    "print(dataset)\n",
    "\n",
    "from statistics import mode\n",
    "mode(dataset)"
   ]
  },
  {
   "cell_type": "markdown",
   "metadata": {},
   "source": [
    "##### Example 2\n",
    "Data set: $2, 6, 3, 7, 5, 3, 9, 5, 3, 5, 6$\n",
    "<br> Sorted data set: $2, 3, 3, 3,  5, 5, 5,  6, 6, 7, 9$\n",
    "<br> Values $3$ and $5$ have same number of repetitions. \n",
    "<br> Notice how $6$ is also repeated but it is not as many times as $3$ or $5$ so it is not part of the mode.\n",
    "<br>So, the mode will be, $3, 5$"
   ]
  },
  {
   "cell_type": "code",
   "execution_count": null,
   "metadata": {},
   "outputs": [],
   "source": [
    "dataset = [2, 6, 3, 7, 5, 3, 9, 5, 3, 5, 6]\n",
    "from statistics import multimode\n",
    "multimode(dataset)"
   ]
  },
  {
   "cell_type": "markdown",
   "metadata": {},
   "source": [
    "##### Example 3\n",
    "Data set: $2, 6, 3, 7, 5, 8, 9, 4$\n",
    "<br> Sorted data set: $2, 3, 4, 5, 6, 7, 8, 9$\n",
    "<br>There are no values that repeat, so there is no mode."
   ]
  },
  {
   "cell_type": "code",
   "execution_count": null,
   "metadata": {},
   "outputs": [],
   "source": [
    "dataset = [2, 6, 3, 7, 5, 8, 9, 4]\n",
    "dataset.sort()\n",
    "print(dataset)\n",
    "multimode(dataset)"
   ]
  },
  {
   "cell_type": "markdown",
   "metadata": {},
   "source": [
    "## Example Using A Large Dataset\n",
    "\n",
    "We can calculate the mean, median, and mode for both the *x* and *y* values in a large dataset, named \"Datasaurus\", that was created by [Alberto Cairo](http://www.thefunctionalart.com/2016/08/download-datasaurus-never-trust-summary.html) and made free for anyone to use.\n",
    "\n",
    "We're going to use the [pandas](https://pandas.pydata.org) library to import the data and perform calculations."
   ]
  },
  {
   "cell_type": "code",
   "execution_count": null,
   "metadata": {},
   "outputs": [],
   "source": [
    "import pandas as pd\n",
    "import plotly.express as px\n",
    "dataset = pd.read_csv('https://raw.githubusercontent.com/callysto/data-files/main/Mathematics/CentralTendency/data/datasaurus.csv')\n",
    "px.scatter(dataset, x='x', y='y', title='Datasaurus', width=800, height=600)"
   ]
  },
  {
   "cell_type": "markdown",
   "metadata": {},
   "source": [
    "### Range"
   ]
  },
  {
   "cell_type": "code",
   "execution_count": null,
   "metadata": {},
   "outputs": [],
   "source": [
    "max_x = max(dataset['x'])\n",
    "min_x = min(dataset['x'])\n",
    "max_y = max(dataset['y'])\n",
    "min_y = min(dataset['y'])\n",
    "range_x = max_x - min_x\n",
    "range_y = max_y - min_y\n",
    "print('The range of x is {range_x} (from {min_x} to {max_x})'.format(range_x=range_x, min_x=min_x, max_x=max_x))\n",
    "print('The range of y is {range_y} (from {min_y} to {max_y})'.format(range_y=range_y, min_y=min_y, max_y=max_y))"
   ]
  },
  {
   "cell_type": "markdown",
   "metadata": {},
   "source": [
    "### Mean"
   ]
  },
  {
   "cell_type": "code",
   "execution_count": null,
   "metadata": {
    "scrolled": true
   },
   "outputs": [],
   "source": [
    "mean_x = dataset['x'].mean()\n",
    "mean_y = dataset['y'].mean()\n",
    "print('The mean x is', mean_x)\n",
    "print('The mean y is', mean_y)"
   ]
  },
  {
   "cell_type": "markdown",
   "metadata": {},
   "source": [
    "We can see that the mean of the *x* values is larger than 50 which means there are **more** dots on the **right** than the left. We also know the mean of the *y* values is less than 50 which means there are **more** dots on the **bottom** than the top.\n",
    "\n",
    "We can see this as the T-Rex is on the right of the graph and it took lots of dots to make the details of the claws and bottom jaw compared to the top of the head."
   ]
  },
  {
   "cell_type": "markdown",
   "metadata": {},
   "source": [
    "### Median"
   ]
  },
  {
   "cell_type": "code",
   "execution_count": null,
   "metadata": {},
   "outputs": [],
   "source": [
    "median_x = dataset['x'].median()\n",
    "median_y = dataset['y'].median()\n",
    "print('The median x is', median_x)\n",
    "print('The median y is', median_y)"
   ]
  },
  {
   "cell_type": "markdown",
   "metadata": {},
   "source": [
    "We now know the middle of the T-Rex is at approximately $(53, 46)$."
   ]
  },
  {
   "cell_type": "markdown",
   "metadata": {},
   "source": [
    "### Mode"
   ]
  },
  {
   "cell_type": "code",
   "execution_count": null,
   "metadata": {
    "scrolled": true
   },
   "outputs": [],
   "source": [
    "mode_x = dataset['x'].mode()\n",
    "mode_y = dataset['y'].mode()\n",
    "print('The mode x is')\n",
    "print(mode_x)\n",
    "print('')\n",
    "print('The mode y is')\n",
    "print(mode_y)"
   ]
  },
  {
   "cell_type": "markdown",
   "metadata": {},
   "source": [
    "This shows us that there are three modes in the *x* values, and one mode in the *y* values, but those are not really useful values in this dataset.\n",
    "\n",
    "To show that measures of central tendency don't always tell the full story, [Autodesk Research](https://www.autodeskresearch.com/publications/samestats) created the \"Datasaurus Dozen\", 12 graphs with the same *x* and *y* mean values as \"Datasaurus\".\n",
    "\n",
    "![Datasaurus Dozen](images/DinoSequential.gif)"
   ]
  },
  {
   "cell_type": "markdown",
   "metadata": {},
   "source": [
    "# Conclusion\n",
    "\n",
    "* Range is the highest value minus the lowest value\n",
    "* Mean is the average and is found by adding all the values then dividing by the number of values\n",
    "* Median is the middle value and is found by sorting the set and finding the middle\n",
    "* Mode is the most frequent value and is found by counting how many times values are repeated\n",
    "\n",
    "While measures of central tendency are useful for many things, we should remember that they don't always tell the whole story of a dataset."
   ]
  },
  {
   "cell_type": "markdown",
   "metadata": {},
   "source": [
    "[![Callysto.ca License](https://github.com/callysto/curriculum-notebooks/blob/master/callysto-notebook-banner-bottom.jpg?raw=true)](https://github.com/callysto/curriculum-notebooks/blob/master/LICENSE.md)"
   ]
  }
 ],
 "metadata": {
  "kernelspec": {
   "display_name": "Python 3.10.1 64-bit",
   "language": "python",
   "name": "python3"
  },
  "language_info": {
   "codemirror_mode": {
    "name": "ipython",
    "version": 3
   },
   "file_extension": ".py",
   "mimetype": "text/x-python",
   "name": "python",
   "nbconvert_exporter": "python",
   "pygments_lexer": "ipython3",
   "version": "3.10.1"
  },
  "vscode": {
   "interpreter": {
    "hash": "d1ca6d17674200220921376aaeb3d36cffe15ecab2470a9a5e7a456cdbf61425"
   }
  }
 },
 "nbformat": 4,
 "nbformat_minor": 2
}
