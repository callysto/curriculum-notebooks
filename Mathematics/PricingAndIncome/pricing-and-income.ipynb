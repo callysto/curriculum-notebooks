{
 "cells": [
  {
   "cell_type": "markdown",
   "metadata": {},
   "source": [
    "![Callysto.ca Banner](https://github.com/callysto/curriculum-notebooks/blob/master/callysto-notebook-banner-top.jpg?raw=true)\n",
    "\n",
    "<a href=\"https://hub.callysto.ca/jupyter/hub/user-redirect/git-pull?repo=https%3A%2F%2Fgithub.com%2Fcallysto%2Fcurriculum-notebooks&branch=master&subPath=Mathematics/PricingAndIncome/pricing-and-income.ipynb&depth=1\" target=\"_parent\"><img src=\"https://raw.githubusercontent.com/callysto/curriculum-notebooks/master/open-in-callysto-button.svg?sanitize=true\" width=\"123\" height=\"24\" alt=\"Open in Callysto\"/></a>"
   ]
  },
  {
   "cell_type": "markdown",
   "metadata": {},
   "source": [
    "# Pricing and Income\n",
    "\n",
    "How do we measure **income**? What is the precise definition of income? In this notebook, we will look into John's case and help him decide which job to take. We will first learn how to calculate gross income from various sources, then learn how to calculate net income while factoring all sorts of deductions into our equation. \n",
    "\n",
    "We will look at:\n",
    "\n",
    "1. Calculating gross income from **hourly wage**\n",
    "2. Calculating gross income from **commissions**\n",
    "3. Calculating gross income from **contracts**\n",
    "4. **Deductions** and **net income** \n",
    "5. The **average income in Canada** from 1990 to 2020\n",
    "\n",
    "<p align=\"center\">\n",
    "  <img src=\"https://cdn.pixabay.com/photo/2015/01/22/15/12/businessman-607831_960_720.png\" width=\"600\" />\n",
    "</p>\n",
    "\n",
    "This is our friend, **John Green**. He is 34 years old, has a Bachelor's degree in Spanish, and has exceptional skills in customer service. Last week, John moved back to Calgary and is now looking to take on a new job.\n",
    "\n",
    "So far three places have offered him a job: a movie theatre, a clothing retail store, and a publication company. Which job should he consider taking?\n",
    "\n",
    "Let's first start by calculating gross income. **Gross Income** is the total amount of money you will receive for your work before any deductions like taxes. It includes income from all sources, such as salaries, contracts, and commissions."
   ]
  },
  {
   "cell_type": "markdown",
   "metadata": {},
   "source": [
    "## 1. Wage and Income \n",
    "\n",
    "First, let's learn about calculating **gross income** from **hourly wage**. \n",
    "\n",
    "<p align=\"center\">\n",
    "  <img src=\"https://cdn.pixabay.com/photo/2017/07/13/23/11/cinema-2502213_960_720.jpg\" width=\"400\" />\n",
    "</p>\n",
    "\n",
    "Our friend John, is offered a job as a box office agent at a nearby movie theatre. His duties include:\n",
    "- greeting and assisting customers\n",
    "- answering phone calls with a professional demeanour\n",
    "- restocking office products.\n",
    "\n",
    "As a box office agent, he is required to work from 9:00 AM to 5:00 PM, five days per week. The pay will be at a fixed rate of $17.00 per hour.\n",
    "\n",
    "John wants to calculate what would his gross income for the whole year if he were to work as a box office agent. Let's help him find out an answer.\n",
    "\n",
    "### Calculate Gross Income\n",
    "\n",
    "We know that a year has 365 days. How many weeks are there in a year? There are 7 days in a week, so we can divide 365 days by 7 days to find out how many weeks are in a year.\n",
    "\n",
    "Click on the cell below, then click the `▶Run` button above to run the calculation."
   ]
  },
  {
   "cell_type": "code",
   "execution_count": null,
   "metadata": {},
   "outputs": [],
   "source": [
    "365 / 7"
   ]
  },
  {
   "cell_type": "markdown",
   "metadata": {},
   "source": [
    "So there are about 52 weeks in a year. Now, to calculate John's yearly income as a box office agent, we calculate how much he earns per week. His daily shift is from 9:00 AM to 5:00 PM, which would be eight hours of work per day. He works five days a week, so we can calculate how many hours that is per week by `▶Run`ning the next cell."
   ]
  },
  {
   "cell_type": "code",
   "execution_count": null,
   "metadata": {},
   "outputs": [],
   "source": [
    "8 * 5"
   ]
  },
  {
   "cell_type": "markdown",
   "metadata": {},
   "source": [
    "Then we can calculate his gross pay per week."
   ]
  },
  {
   "cell_type": "code",
   "execution_count": null,
   "metadata": {},
   "outputs": [],
   "source": [
    "40 * 17"
   ]
  },
  {
   "cell_type": "markdown",
   "metadata": {},
   "source": [
    "So far, we found out that there are 52.142857 weeks in a year, and John's weekly income is $680. Let's assume that he takes 3 weeks off per year, so we will subtract that from the number of weeks.\n",
    "\n",
    "To calculate his income for the whole year, assuming that he doesn't take any other time off, we multiply the number of weeks by his weekly pay."
   ]
  },
  {
   "cell_type": "code",
   "execution_count": null,
   "metadata": {},
   "outputs": [],
   "source": [
    "(52.17285714285714-3) * 680"
   ]
  },
  {
   "cell_type": "markdown",
   "metadata": {},
   "source": [
    "There we go! John's total gross income for working as a box office agent would be **$35477.54**.\n",
    "\n",
    "We can also perform those calculations in one cell using variables, and then `print` the output on the screen."
   ]
  },
  {
   "cell_type": "code",
   "execution_count": null,
   "metadata": {},
   "outputs": [],
   "source": [
    "number_of_weeks = (365 / 7) - 3\n",
    "weekly_payment = 17 * 8 * 5\n",
    "box_office_income = number_of_weeks * weekly_payment\n",
    "\n",
    "print(\"John can earn ${:.2f} per year working as a box office agent.\".format(box_office_income))"
   ]
  },
  {
   "cell_type": "markdown",
   "metadata": {},
   "source": [
    "## 2. Comission and Income\n",
    "\n",
    "Next let's learn about calculating **gross income** from **hourly wage and commissions**. \n",
    "\n",
    "<p align=\"center\">\n",
    "  <img src=\"https://cdn.pixabay.com/photo/2017/06/21/20/51/tshirt-2428521_960_720.jpg\" width=\"400\" />\n",
    "</p>\n",
    "\n",
    "The second option that John considers is working as a sales associate at a clothing retail store five bus stops from his home. His duties include:\n",
    "- greeting and welcoming customers\n",
    "- directing customers to goods\n",
    "- keeping the store tidy\n",
    "- operating cash registers. \n",
    "\n",
    "John will be paid \\\\$15.00 per hour, but he will receive a commission of 5% for every piece of clothing he sells. On average, a sales associate sells 50 pieces of clothing that range from a price of \\\\$10 to \\\\$200. He will be working 40 hours per week, including weekdays and weekends. \n",
    "\n",
    "### Calculate Gross Income \n",
    "\n",
    "#### 1) Calculate Total Commission Earned\n",
    "\n",
    "To calculate how much John will earn by receiving commissions, we can take a random sample of 50 numbers that range from 10 to 200. Since we are taking a random sample, total commissions earned will turn out a little differently every time you `▶Run` the code below.\n"
   ]
  },
  {
   "cell_type": "code",
   "execution_count": null,
   "metadata": {},
   "outputs": [],
   "source": [
    "# calculate fixed annual income\n",
    "total_num_weeks = (365 / 7) - 3\n",
    "weekly_payment = 40 * 15\n",
    "fixed_income = total_num_weeks * weekly_payment\n",
    "print(\"Total fixed income: ${:.2f}\".format(fixed_income))\n",
    "\n",
    "# calculate commission income\n",
    "import random\n",
    "total_commission_earned = 0\n",
    "for month in range(12):\n",
    "    clothing_prices = random.sample(range(10,200), 50)\n",
    "    for clothing in clothing_prices:\n",
    "        commission = clothing * 10/100\n",
    "        total_commission_earned += commission\n",
    "print(\"Total commission: ${:.2f}\".format(total_commission_earned))\n",
    "\n",
    "# calculate total income\n",
    "sales_associate_income = total_commission_earned + fixed_income\n",
    "print(\"John can earn ${:.2f} per year by working as a sales associate.\".format(sales_associate_income))"
   ]
  },
  {
   "cell_type": "markdown",
   "metadata": {},
   "source": [
    "## 3. Contract and Income\n",
    "\n",
    "Third, let's learn about calculating **gross income** from **contracts**. \n",
    "\n",
    "<p align=\"center\">\n",
    "  <img src=\"https://cdn.pixabay.com/photo/2017/05/16/12/14/dictionary-2317654_960_720.jpg\" width=\"400\" />\n",
    "</p>\n",
    "\n",
    "Since John is fluent in Spanish he can work as a translator, where he would be signing contracts each time he agrees to take on a translation job. His contracts are fixed-price, meaning he will receive a certain amount for each task, depending on the number of pages he has to translate.\n",
    "\n",
    "| Number of Pages | Contract Amount |\n",
    "| --- | --- |\n",
    "| less than 200 | \\\\$1500 |\n",
    "| between 200 and 500 | \\\\$5000 |\n",
    "| between 500 and 1000 | \\\\$12000 |\n",
    "\n",
    "If John is offered the following contracts in one year\n",
    "\n",
    "| Contract | Number of Pages | Contract Amount |\n",
    "| --- | --- | --- |\n",
    "| A | less than 200 | \\\\$1500 |\n",
    "| B | between 200 and 500 | \\\\$5000 |\n",
    "| C | between 200 and 500 | \\\\$5000 |\n",
    "| D | less than 200 | \\\\$1500 |\n",
    "| E | between 500 and 1000 | \\\\$12000 |\n",
    "\n",
    "how much would he be earning?"
   ]
  },
  {
   "cell_type": "code",
   "execution_count": null,
   "metadata": {},
   "outputs": [],
   "source": [
    "# calculate total contract income\n",
    "A = 1500\n",
    "B = 5000\n",
    "C = 5000\n",
    "D = 1500\n",
    "E = 12000\n",
    "translator_income = A + B + C + D + E\n",
    "print(\"John can earn ${} working as a translator.\".format(translator_income))"
   ]
  },
  {
   "cell_type": "markdown",
   "metadata": {},
   "source": [
    "So far, we have calculated gross income for all three job offers. To help John with his decision, we can create a dataframe to compare them."
   ]
  },
  {
   "cell_type": "code",
   "execution_count": null,
   "metadata": {},
   "outputs": [],
   "source": [
    "import pandas as pd\n",
    "pd.options.display.float_format = \"{:.2f}\".format\n",
    "job_options = {\"Job Title\":[\"Box Office Agent\", \"Sales Associate\", \"Spanish Translator\"], \"Gross Income\":[box_office_income, sales_associate_income, translator_income]}\n",
    "df = pd.DataFrame(job_options)\n",
    "df"
   ]
  },
  {
   "cell_type": "markdown",
   "metadata": {},
   "source": [
    "We can also create a bar graph to help compare the job offers."
   ]
  },
  {
   "cell_type": "code",
   "execution_count": null,
   "metadata": {},
   "outputs": [],
   "source": [
    "import plotly.express as px\n",
    "px.bar(df, x=\"Job Title\", y=\"Gross Income\", title=\"Gross Income from Jobs\").update_layout(width=600)"
   ]
  },
  {
   "cell_type": "markdown",
   "metadata": {},
   "source": [
    "## 4. Deductions and Net Income \n",
    "\n",
    "However gross income is not how much you will receive for your work, there are always deductions.\n",
    "\n",
    "**Deductions** are amounts that must be subtracted from gross income to calculate net income. **Net income** is the amount of money you \"take home\" after subtracting all deductions from gross income.\n",
    "\n",
    "Deductions can include income taxes, employment insurance, pension investments, union dues, and benefit payments. There are also personal expenses to consider, for example if you need to own and drive a car to get to work then deductions could include gas, insurance, and maintenance. \n",
    "\n",
    "In this notebook, we will consider federal deductions and personal expenses as **total deductions** that must be subtracted from the gross income. Federal deduction is deduction from a paycheque that is deducted by the government. Personal expenses is deduction that happens on a personal level, which may change based on various factors. \n",
    " \n",
    "#### Government Deductions\n",
    "\n",
    "Sources of deductions can include *income tax*, *Canada Pension Plan (CPP)*, and *Employment Insurance (EI)*.\n",
    "\n",
    "- **Income tax** rate may differ based on your income; for this exercise we will assume 15% of the gross income. [Source](https://www.canada.ca/en/financial-consumer-agency/services/financial-toolkit/taxes/taxes-2/5.html)\n",
    "- **Canada Pension Plan (CPP)** may be up to 5.7% of gross income. [Source](https://arrivein.com/finance/understanding-payroll-deductions-as-a-newcomer-in-canada/)\n",
    "- **Employment Insurance (EI)** may be up to 1.58% of gross income. [Source](https://arrivein.com/finance/understanding-payroll-deductions-as-a-newcomer-in-canada/)"
   ]
  },
  {
   "cell_type": "code",
   "execution_count": null,
   "metadata": {},
   "outputs": [],
   "source": [
    "df[\"Deductions\"] = df[\"Gross Income\"]*15/100 + df[\"Gross Income\"]*5.7/100 + df[\"Gross Income\"]*1.58/100\n",
    "df"
   ]
  },
  {
   "cell_type": "markdown",
   "metadata": {},
   "source": [
    "#### Personal Expenses\n",
    "\n",
    "John does not own a car, so he needs to take public transit if his workplace is further than a few blocks away from his home. If needed, John will buy a monthly pass, which is offered at \\\\$112, to cover his transportation. Also, John may need to buy lunch every day for about \\\\$15.\n",
    "\n",
    "Let's look at each of the three options and consider possible sources of personal expenses. \n",
    "- Working as a **Box Office Agent**, John would have to purchase a monthly transit pass for the next 12 months. However his lunch would be provided.\n",
    "- Working as a **Sales Associate**, John would need to purchase a monthly transit pass for the next 12 months *and* buy lunch every day.\n",
    "- Working as a **Spanish Translator**, John could work from home, but he will still buy lunch every day.\n",
    "\n",
    "If we consider the total amount of deductions, how does our result change? Let's make a new column in our dataframe called `Net Income`."
   ]
  },
  {
   "cell_type": "code",
   "execution_count": null,
   "metadata": {},
   "outputs": [],
   "source": [
    "bus_pass = 112 * 12\n",
    "lunch = 15 * 5 * 52.142857\n",
    "bus_pass + lunch\n",
    "df[\"Expenses\"] = [bus_pass, bus_pass+lunch, lunch]\n",
    "df[\"Net Income\"] = df[\"Gross Income\"] - df[\"Deductions\"] - df[\"Expenses\"]\n",
    "df"
   ]
  },
  {
   "cell_type": "markdown",
   "metadata": {},
   "source": [
    "We can visualize our results so far."
   ]
  },
  {
   "cell_type": "code",
   "execution_count": null,
   "metadata": {},
   "outputs": [],
   "source": [
    "px.bar(df, x=\"Job Title\", y=[\"Gross Income\", \"Deductions\", \"Expenses\", \"Net Income\"], barmode='group', title=\"Net Income from Jobs\")"
   ]
  },
  {
   "cell_type": "markdown",
   "metadata": {},
   "source": [
    "From the graph, we notice that the Sales Associate job earns the most gross income but it also has the most deductions. Working as a box office agent will earn John the highest net income.\n",
    "\n",
    "---\n",
    "\n",
    "John is also dreaming of buying a car. He would love a **Toyota Corolla**, which starts at a price of **$20,075** for the 2022 model.\n",
    "\n",
    "<p align=\"center\">\n",
    "  <img src=\"https://cdn.pixabay.com/photo/2020/05/14/17/25/auto-5170650_1280.jpg\" width=\"400\" />\n",
    "</p>\n",
    "\n",
    "We found that John will earn the most by working as a Box Office Agent with an annual net income of $25958.00. Assuming that he doesn't have other expenses such as housing, food, and clothing, how long would it take John to purchase his dream car?"
   ]
  },
  {
   "cell_type": "code",
   "execution_count": null,
   "metadata": {},
   "outputs": [],
   "source": [
    "years_to_work = 20075/df[\"Net Income\"][0]\n",
    "print(\"John would need to work as a box office agent for {:.2f} years to pay for that car.\".format(years_to_work))\n",
    "print(\"That is {:.2f} months.\".format(12 * years_to_work))"
   ]
  },
  {
   "cell_type": "markdown",
   "metadata": {},
   "source": [
    "Of course in reality John has many other expenses, so it would take him much longer to save up for his dream car.\n",
    "\n",
    "## 5. Average income in Canada from 1990 to 2020\n",
    "\n",
    "Now, let's work with some data to find out an average income in Canada from 1990 to 2020 using data from [Statistics Canada](https://www150.statcan.gc.ca/t1/tbl1/en/tv.action?pid=1110023901&pickMembers%5B0%5D=1.1&pickMembers%5B1%5D=2.1&pickMembers%5B2%5D=3.1&pickMembers%5B3%5D=4.1&cubeTimeFrame.startYear=1990&cubeTimeFrame.endYear=2020&referencePeriods=19900101%2C20200101). Once the data has been loaded, we will create a line graph. "
   ]
  },
  {
   "cell_type": "code",
   "execution_count": null,
   "metadata": {},
   "outputs": [],
   "source": [
    "both = pd.read_csv(\"https://www150.statcan.gc.ca/t1/tbl1/en/dtl!downloadDbLoadingData-nonTraduit.action?pid=1110023901&latestN=0&startDate=19900101&endDate=20200101&csvLocale=en&selectedMembers=%5B%5B12%5D%2C%5B1%5D%2C%5B1%5D%2C%5B1%5D%2C%5B%5D%5D&checkedLevels=4D1\")\n",
    "b = both[both[\"Statistics\"]==\"Median income (excluding zeros)\"].copy()\n",
    "b.rename(columns={\"REF_DATE\":\"Year\", \"VALUE\":\"Average\"}, inplace=True)\n",
    "b = b[[\"Year\", \"Average\"]].copy()\n",
    "\n",
    "female = pd.read_csv(\"https://www150.statcan.gc.ca/t1/tbl1/en/dtl!downloadDbLoadingData-nonTraduit.action?pid=1110023901&latestN=0&startDate=19900101&endDate=20200101&csvLocale=en&selectedMembers=%5B%5B12%5D%2C%5B1%5D%2C%5B3%5D%2C%5B1%5D%2C%5B%5D%5D&checkedLevels=4D1\")\n",
    "f = female[female[\"Statistics\"]==\"Median income (excluding zeros)\"].copy()\n",
    "f.rename(columns={\"REF_DATE\":\"Year\", \"VALUE\":\"Female\"}, inplace=True)\n",
    "f = f[[\"Year\", \"Female\"]].copy()\n",
    "\n",
    "male = pd.read_csv(\"https://www150.statcan.gc.ca/t1/tbl1/en/dtl!downloadDbLoadingData-nonTraduit.action?pid=1110023901&latestN=0&startDate=19900101&endDate=20200101&csvLocale=en&selectedMembers=%5B%5B12%5D%2C%5B1%5D%2C%5B2%5D%2C%5B1%5D%2C%5B%5D%5D&checkedLevels=4D1\")\n",
    "m = male[male[\"Statistics\"]==\"Median income (excluding zeros)\"].copy()\n",
    "m.rename(columns={\"REF_DATE\":\"Year\", \"VALUE\":\"Male\"}, inplace=True)\n",
    "m = m[[\"Year\", \"Male\"]].copy()\n",
    "\n",
    "from functools import reduce\n",
    "incomes = reduce(lambda left,right: pd.merge(left,right,on=[\"Year\"]), [b,f,m])\n",
    "\n",
    "fig = px.line(incomes, x=\"Year\", y=[\"Male\", \"Average\", \"Female\"], title=\"Average Annual Income in Alberta\")\n",
    "fig.update_yaxes(title_text = \"Annual Income\")\n",
    "fig.add_hline(y=df[\"Gross Income\"][0], annotation_text=\"John's Gross Income\", annotation_position=\"bottom right\", line_dash=\"dash\")\n",
    "fig.show()"
   ]
  },
  {
   "cell_type": "markdown",
   "metadata": {},
   "source": [
    "How do those incomes compare to John's?\n",
    "\n",
    "Do you see any interesting trends? If so, why do you think it's happening?\n",
    "\n",
    "## Conclusion\n",
    "\n",
    "In this notebook, we reviewed calculating **gross income** from various sources, **deductions**, and **net income**. **Gross income** is the pure amount that an individual can earn by working, **deduction** is any additional costs that must be subtracted from gross income, and **net income** is what we often refer to as a *take home pay*.\n",
    "\n",
    "We have also looked at potential sources of gross income, such as **hourly wages**, **commissions**, and **contracts**, but of course there are also many other possible sources of income."
   ]
  },
  {
   "cell_type": "markdown",
   "metadata": {},
   "source": [
    "[![Callysto.ca License](https://github.com/callysto/curriculum-notebooks/blob/master/callysto-notebook-banner-bottom.jpg?raw=true)](https://github.com/callysto/curriculum-notebooks/blob/master/LICENSE.md)"
   ]
  }
 ],
 "metadata": {
  "kernelspec": {
   "display_name": "Python 3.8.10 64-bit",
   "language": "python",
   "name": "python3"
  },
  "language_info": {
   "codemirror_mode": {
    "name": "ipython",
    "version": 3
   },
   "file_extension": ".py",
   "mimetype": "text/x-python",
   "name": "python",
   "nbconvert_exporter": "python",
   "pygments_lexer": "ipython3",
   "version": "3.8.10"
  },
  "vscode": {
   "interpreter": {
    "hash": "916dbcbb3f70747c44a77c7bcd40155683ae19c65e1c03b4aa3499c5328201f1"
   }
  }
 },
 "nbformat": 4,
 "nbformat_minor": 4
}
