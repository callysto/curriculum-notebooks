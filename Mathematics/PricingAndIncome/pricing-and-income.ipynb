{
 "cells": [
  {
   "cell_type": "markdown",
   "metadata": {},
   "source": [
    "![Callysto.ca Banner](https://github.com/callysto/curriculum-notebooks/blob/master/callysto-notebook-banner-top.jpg?raw=true)"
   ]
  },
  {
   "cell_type": "code",
   "execution_count": null,
   "metadata": {},
   "outputs": [],
   "source": [
    "# import libraries\n",
    "import pandas as pd\n",
    "import numpy as np\n",
    "import random\n",
    "import plotly.express as px\n",
    "import plotly.graph_objects as go\n",
    "import functools as ft\n",
    "import math\n",
    "import time"
   ]
  },
  {
   "cell_type": "markdown",
   "metadata": {},
   "source": [
    "# Pricing and Income\n",
    "\n",
    "#### Target Audience: Math 10-3\n",
    "\n",
    "How do we measure **income**? What is the precise definition of income? In this notebook, we will look into John's case and help him decide which job to take. We will first learn how to calculate gross income from various sources, then learn how to calculate net income while factoring all sorts of deductions into our equation. \n",
    "\n",
    "We will focus on the following key elements:\n",
    "\n",
    "1. Calculating gross income from **hourly wage**\n",
    "2. Calculating gross income from **commissions**\n",
    "3. Calculating gross income from **contracts**\n",
    "4. **Deductions** and **net income** \n",
    "5. The **average income in Canada** from 1990 to 2020\n",
    "\n",
    "<p align=\"center\">\n",
    "  <img src=\"https://cdn.pixabay.com/photo/2015/01/22/15/12/businessman-607831_960_720.png\" width=\"600\" />\n",
    "</p>\n"
   ]
  },
  {
   "cell_type": "markdown",
   "metadata": {},
   "source": [
    "This is our friend, **John Green**. He is 34 years old, has a Bachelor's degree in Spanish, and is a well-rounded person with exceptional skills in customer service. Last week, John moved back to Calgary and is now looking to take on a new job.\n",
    "\n",
    "John is currently planning to purchase a car, so he wants a well-paying job. That being said, income will be a significant consideration in John's job hunting. So far, three places have offered him a job: a movie theatre, a clothing retail store, and a publication company. Which job should he be taking?\n",
    "\n",
    "Let's first start by calculating a **gross income**. Gross income is the total amount of money you will receive for your work before any deductions occur. That being said, gross income is not how much you will be able to take back home. But it is where all consideration begins to happen, so let's dive right in!"
   ]
  },
  {
   "cell_type": "markdown",
   "metadata": {},
   "source": [
    "<div class=\"alert alert-block alert-info\">\n",
    "<b>❗️ Gross Income</b>: Gross income is an individual's gross payment before taxes or other deductions. It includes income from all sources, including wages, salaries, contracts, commissions, etc. \n",
    " </div>"
   ]
  },
  {
   "cell_type": "markdown",
   "metadata": {},
   "source": [
    "## 1. Wage and Income \n",
    "\n",
    "<p align=\"center\">\n",
    "  <img src=\"https://cdn.pixabay.com/photo/2017/07/13/23/11/cinema-2502213_960_720.jpg\" width=\"600\" />\n",
    "</p>\n",
    "\n",
    "First, let's learn about calculating **gross income** from **hourly wage**. \n",
    "\n",
    "Our friend, John, is offered a job as a box officer agent at a nearby movie theatre. His duties include:\n",
    "- Greeting and assisting customers.\n",
    "- Answering phone calls with a professional demeanour.\n",
    "- Restocking office products and more.\n",
    "As a box office agent, he is required to work from 9:00 AM to 5:00 PM, five days per week. It is stated that the pay will be at a fixed rate of $17.00 per hour.\n",
    "\n",
    "Now, John wants to calculate what would his gross income for the whole year if he were to work as a box office agent. Let's help him find out an answer.\n",
    "\n",
    "### Calculate Gross Income \n",
    "\n",
    "We know that a year constitutes 365 days. How many weeks are there in a year? Knowing that there are seven days per week, we can try dividing 365 days by 7 days to find out an answer. \n",
    "\n",
    "$$365\\text{ days} \\div 7\\text{ days} = 52.142857\\text{ weeks}$$\n",
    "\n",
    "As seen above, we have 52 weeks in a year. Now, to calculate John's yearly income as a box office agent, we calculate how much he earns per week. His daily shift is from 9:00 AM to 5:00 PM, which would be eight hours of work per day. He works five days a week, without weekends, then:\n",
    "\n",
    "$$$17.00\\times5\\text{ days}\\times8\\text{ hours} = $680$$ \n",
    "\n",
    "So far, we found out that there are 52.142857 weeks in a year, and John's weekly income is $680. To calculate his income for the whole year, we would multiply the total number of weeks by his weekly pay. \n",
    "\n",
    "$$$680.00\\times52.142857\\text{ weeks} = $35457.14276$$ \n",
    "\n",
    "There we go! John's total gross income for working as a box office agent would be **$35457.14276.**\n",
    "To simplify the calculation steps, press the `▶Run` button to run the cell below. It will do the calculation for you. "
   ]
  },
  {
   "cell_type": "code",
   "execution_count": null,
   "metadata": {},
   "outputs": [],
   "source": [
    "# calculate total number of weeks in a year\n",
    "total_num_weeks = 365 / 7\n",
    "\n",
    "# calculate weekly payment\n",
    "weekly_payment = 17 * 8 * 5\n",
    "\n",
    "# calculate yearly income\n",
    "box_office_income = total_num_weeks * weekly_payment\n",
    "print(\"John will learn $\" + str(box_office_income) + \" per year by working as a box office agent.\")"
   ]
  },
  {
   "cell_type": "markdown",
   "metadata": {},
   "source": [
    "## 2. Comission and Income\n",
    "\n",
    "<p align=\"center\">\n",
    "  <img src=\"https://cdn.pixabay.com/photo/2017/06/21/20/51/tshirt-2428521_960_720.jpg\" width=\"600\" />\n",
    "</p>\n",
    "\n",
    "Second, let's learn about calculating **gross income** from **hourly wage and commissions**. \n",
    "\n",
    "The second option that John considers is working as a sales associate at a clothing retail store five bus stops from his home. His duties include:\n",
    "- Greeting and welcoming customers\n",
    "- Maintaining floor appearance, directing customers to goods\n",
    "- Operating cash registers, etc. \n",
    "\n",
    "John will be paid a minimum wage per hour, but he will receive a commission of 5% for every piece of clothing he sells. On average, a sales associate sells 50 pieces of clothing that range from a price of $\\$$10 to $\\$$200. He will be working 40 hours per week, including weekdays and weekends. \n",
    "\n",
    "To calculate John's yearly income by working as a sales associate, we will select 50 random numbers that range between $\\$$10 ~ $\\$$200. Then, we will add that amount to his fixed payment. \n",
    "\n",
    "### Calculate Gross Income \n",
    "\n",
    "#### 1) Calculate Total Commission Earned\n",
    "\n",
    "To calculate how much John will earn by receiving commissions, we can take a random sample of 50 numbers that range from 10 to 200. Since we are taking a random sample, total commissions earned will turn out a little differently every time you run the code below. \n",
    "\n",
    "#### 2) Calculate Fixed Income Earned\n",
    "\n",
    "Repeat the process [above](#11) we used to calculate John's total income by working at a movie theatre. Replace John's fixed income with $15.00, a minimum wage in Alberta, in 2022. \n",
    "\n",
    "Once both steps above are completed, add the two amounts to find out John's total income that he can earn in a year by working as a sales associate. Again, you may press the `▶Run` button to run the cell below. It will do the calculation for you. \n",
    "\n",
    "$$$680.00\\times52.142857\\text{ weeks} = $35457.14276$$ \n",
    "\n",
    "There we go! John's total gross income for working as a box office agent would be **$35457.14276.**\n",
    "To simplify the calculation steps, press the `▶Run` button to run the cell below. It will do the calculation for you. "
   ]
  },
  {
   "cell_type": "code",
   "execution_count": null,
   "metadata": {},
   "outputs": [],
   "source": [
    "# calculate average commission\n",
    "total_commission_earned = 0\n",
    "for month in range(12):\n",
    "    clothing_prices = random.sample(range(10,200), 50)\n",
    "    for clothing in clothing_prices:\n",
    "        commission = clothing * 0.1\n",
    "        total_commission_earned += commission\n",
    "print(\"Total commission earned is $\" + str(total_commission_earned) + \".\")\n",
    "    \n",
    "# calculate fixed yearly income \n",
    "total_num_weeks = 365 / 7\n",
    "weekly_payment = 15 * 40\n",
    "total_fixed_income = total_num_weeks * weekly_payment\n",
    "print(\"Total fixed income earned is $\" + str(total_fixed_income) + \".\")\n",
    "\n",
    "# calculate total income\n",
    "sales_associate_income = total_commission_earned + total_fixed_income\n",
    "print(\"John will learn $\" + str(sales_associate_income) + \" per year by working as a sales associate.\")"
   ]
  },
  {
   "cell_type": "markdown",
   "metadata": {},
   "source": [
    "## 3. Contract and Income\n",
    "\n",
    "<p align=\"center\">\n",
    "  <img src=\"https://cdn.pixabay.com/photo/2017/05/16/12/14/dictionary-2317654_960_720.jpg\" width=\"600\" />\n",
    "</p>\n",
    "\n",
    "Third, let's learn about calculating **gross income** from **contracts**. \n",
    "\n",
    "Luckily, John is very fluent in speaking Spanish. In fact, he is at a native-speaking level and can also work as a translator! The last option that John considers is working as a Spanish translator. As a translator, he will be signing contracts each time he agrees to take on a translation job. His contracts are fixed-price, meaning he will receive a certain amount as a reward. The contract fee for translation depends on the total number of pages he has to translate. \n",
    "\n",
    "| Number of Pages | Contract Amount |\n",
    "| --- | --- | \n",
    "| < 200 | $\\$$1500 | \n",
    "| > 200, < 500 | $\\$$5000 |\n",
    "| > 500, < 1000 | $\\$$12000 |\n",
    "\n",
    "John believes that he can translate one book that is more 500 pages, two books that is more than 200 pages but less than 500 pages, and two books that are less than 200 pages within a year. How much would he be earning?\n",
    "\n",
    "### Calculate Gross Income \n",
    "\n",
    "\n",
    "\n",
    "There we go! John's total gross income for working as a box office agent would be **$31285.7142.**"
   ]
  },
  {
   "cell_type": "code",
   "execution_count": null,
   "metadata": {},
   "outputs": [],
   "source": [
    "# calculate total contract income\n",
    "more_than_500_pages = 12000 * 1\n",
    "more_than_200_pages = 5000 * 2\n",
    "less_than_200_pages = 5000 * 3\n",
    "translator_income = more_than_500_pages + more_than_200_pages + less_than_200_pages\n",
    "print(\"John will learn $\" + str(translator_income) + \" per year by working as a translator.\")"
   ]
  },
  {
   "cell_type": "markdown",
   "metadata": {},
   "source": [
    "So far, we have calculated gross income for all three job offers. It looks like John will earn the most by working as a sales associate, with a total gross income of $37540.01428. Should John take his job offer as a sales associate without hesitation? Or should he consider some other factors?\n",
    "\n",
    "Let's create a data frame with all information from above. Creating a dataframe will aid in our comparison. Here, we include `Job Title` and `Gross Income` as two separate columns."
   ]
  },
  {
   "cell_type": "code",
   "execution_count": null,
   "metadata": {},
   "outputs": [],
   "source": [
    "job_options = {\"Job Title\":[\"Box Office Agent\", \"Sales Associate\", \"Spanish Translator\"],\n",
    "               \"Gross Income\":[box_office_income, sales_associate_income, translator_income]}\n",
    "df = pd.DataFrame(job_options)\n",
    "df"
   ]
  },
  {
   "cell_type": "markdown",
   "metadata": {},
   "source": [
    "## 4. Deductions and Net Income \n",
    "As we all know, gross income is **not** how much you will receive at the end. There are always some deductions that cause some loss from gross income. For example, if you own a car and you need to drive the car to get to your work, one source of your **deduction** will be the oil and gas prices. \n",
    "\n",
    "<div class=\"alert alert-block alert-info\">\n",
    "<b>❗️ Deductions</b>: Amount that must be subtracted from gross income to calculate net income. Itemized deductions include amounts you paid for state and local income or sales taxes, real estate taxes, personal property taxes, mortgage interest, and disaster losses. \n",
    " </div>\n",
    " \n",
    "In this notebook, we will consider federal deductions and personal expenses as **total deductions** that must be subtracted from the gross income. Federal deduction is deduction from a paycheque that is deducted by the government. Personal expenses is deduction that happens on a personal level, which may change based on various factors. \n",
    " \n",
    "#### Federal Deductions\n",
    "In Alberta, possible sources of deductions include *income tax*, *Canada Pension Plan (CPP)*, and *Employment Insurance (EI)*. \n",
    "- **Income tax** deductions may differ based on your gross income; for this exercise, we will limit it as 15% of the entire gross income. [Source](https://www.canada.ca/en/financial-consumer-agency/services/financial-toolkit/taxes/taxes-2/5.html)\n",
    "- **Canada Pension Plan (CPP)** may account up to 5.7% of the entire gross income. For ease of calculation, we will round the value as 6.0%. [Source](https://arrivein.com/finance/understanding-payroll-deductions-as-a-newcomer-in-canada/)\n",
    "- **Employment Insurance (EI)** may account up to 1.58% of the entire gross income. For ease of calculation, we will round the value as 2.0%. [Source](https://arrivein.com/finance/understanding-payroll-deductions-as-a-newcomer-in-canada/)\n",
    "\n"
   ]
  },
  {
   "cell_type": "code",
   "execution_count": null,
   "metadata": {},
   "outputs": [],
   "source": [
    "# calculate federal deductions\n",
    "def calculate_deductions(df):\n",
    "    # create a new column with all federal deductions \n",
    "    df[\"Deductions\"] = 0 \n",
    "    for index, row in df.iterrows():\n",
    "        gross_income = row[\"Gross Income\"]\n",
    "        income_tax = gross_income * 0.15 # calculate income tax, 15%\n",
    "        CPP = gross_income * 0.06 # calculate CPP, 6%\n",
    "        EI = gross_income * 0.02 # calculate EI, 2%\n",
    "        all_deductions = income_tax + CPP + EI # add all deductions\n",
    "        df.at[index, \"Deductions\"] = all_deductions\n",
    "    return df\n",
    "\n",
    "calculate_deductions(df)"
   ]
  },
  {
   "cell_type": "markdown",
   "metadata": {},
   "source": [
    "\n",
    "#### Personal Expenses\n",
    "John does not own a car, so he needs to take public transit if his workplace is further than two blocks away from his home. If needed, John will buy a monthly pass, which is offered at $\\$$112, to cover his transportation. Also, John needs to buy lunch daily, which he assumes would cost around $\\$$15 each time. \n",
    "\n",
    "Let's look at each of the three options and consider possible sources of personal expenses. \n",
    "- If he were to work as a **box office agent**, John would have to purchase a monthly transit pass for the next 12 months. However, he does not have to buy lunch since lunch is provided.\n",
    "- If he were to work as a **sales associate**, John would need to purchase a monthly transit pass for the next 12 months **AND** buy lunch every day. \n",
    "- If he were to work as a **Spanish translator**, John could stay at his home for work, but he will still need to buy lunch every day. \n",
    "\n",
    "<div class=\"alert alert-block alert-info\">\n",
    "<b>❗️ Net Income</b>: Amount that an individual receives as pure profit; calculated by subtracting all allowable deductions from your total annual gross income. \n",
    " </div>\n",
    "\n",
    "If we consider the total amount of deductions, how does our result change? Let's make a new column in the previously created data frame called `Net Income`, which contains the amount of total income after subtracting deductions from gross income. "
   ]
  },
  {
   "cell_type": "code",
   "execution_count": null,
   "metadata": {},
   "outputs": [],
   "source": [
    "# calculate personal expenses and net income \n",
    "bus_pass = 112 * 12\n",
    "lunch = 15 * 5 * 52.142857\n",
    "bus_pass + lunch\n",
    "expenses = [bus_pass, bus_pass+lunch, lunch]\n",
    "df[\"Expenses\"] = expenses\n",
    "df[\"Total Deductions\"] = df[\"Expenses\"] + df[\"Deductions\"]\n",
    "df[\"Net Income\"] = df[\"Gross Income\"] - df[\"Total Deductions\"]\n",
    "df"
   ]
  },
  {
   "cell_type": "markdown",
   "metadata": {},
   "source": [
    "We can visualize our results so far. Press the ` ▶Run` button to run the cell, which contains a code for creating a bar graph visualization. From the graph, we notice that although it is the sales associate that earns the most outstanding amount of gross income, it also has the highest amount of deductions. Thus, with all factors considered, working as a box office agent will earn John the **maximum amount of profit** (net income). "
   ]
  },
  {
   "cell_type": "code",
   "execution_count": null,
   "metadata": {},
   "outputs": [],
   "source": [
    "fig = go.Figure(data=[go.Bar(name=\"Gross Income\", x=df[\"Job Title\"], y=df[\"Gross Income\"]),\n",
    "                      go.Bar(name=\"Deductions\", x=df[\"Job Title\"], y=df[\"Total Deductions\"]),\n",
    "                      go.Bar(name=\"Net Income\", x=df[\"Job Title\"], y=df[\"Net Income\"])])\n",
    "fig.update_traces(hovertemplate=\"<br>\".join([\"<b>Job Title: %{x}</b>\",\"Value: $%{y} CAD\"]))\n",
    "fig.update_layout(barmode=\"group\",title={\"text\":\"Gross Income, Deductions, and Net Income Comparison\",\n",
    "                                         \"x\":0.5, \"y\":0.9})\n",
    "fig.update_yaxes(title_text = \"Value (CAD)\", title_standoff = 25)\n",
    "fig.update_xaxes(title_text = \"Job Title\", title_standoff = 25)\n",
    "fig.show()"
   ]
  },
  {
   "cell_type": "markdown",
   "metadata": {},
   "source": [
    " Based on our findings, which job would you recommend to John? You may use the table or graph we created above to find out an answer. Before moving onto the next section, let's check the answer together! "
   ]
  },
  {
   "cell_type": "code",
   "execution_count": null,
   "metadata": {},
   "outputs": [],
   "source": [
    "print(\"Which job should John take on? \\n\"\n",
    "      \"1) Box Office Agent \\n\"\n",
    "      \"2) Sales Associate \\n\"\n",
    "      \"3) Spanish Translator \\n \")\n",
    "time.sleep(1)\n",
    "answer = input(\"Record your answer in the box below. Please choose between 1, 2, or 3 for an answer.\")\n",
    "if answer == 1:\n",
    "    print(\"Correct! Let's move on.\")\n",
    "else:\n",
    "    print(\"Incorrect! Reconsider before moving on.\")"
   ]
  },
  {
   "cell_type": "markdown",
   "metadata": {},
   "source": [
    "John's dream car is **Toyota Corolla**, which starts at a price of **$20,075** for the 2022 model. How long would it take John to purchase his dream car? \n",
    "<p align=\"center\">\n",
    "  <img src=\"https://cdn.pixabay.com/photo/2020/05/14/17/25/auto-5170650_1280.jpg\" width=\"700\" />\n",
    "</p>\n",
    "\n",
    "We have already proven that John will earn the most by working as a **box office agent**. His annual net income will be $25958.0. To find out how long it will take for John to buy the car, we can divide the price of the car by John's annual net income. \n",
    "\n",
    "$$$ 20075 \\div $25958.0 = 0.7733647$$\n",
    "\n",
    "We have **0.7733647** as a quotient. But what does it really mean? To change the decimal back into dates, we can multiply it by 12 (months). \n",
    "\n",
    "$$ 0.7733647 \\times 12 \\text{ months} = 9.280376\\text{ months}$$\n",
    "\n",
    "We have **9.280376 months** as a product. Now we know that it will take him about 7 months to buy his dream car. To be more specific, you can take decimal points of our product and multiply it with 31 (days). To simplify the calculation steps, press the `▶Run` button to run the cell below. It will do the calculation for you. "
   ]
  },
  {
   "cell_type": "code",
   "execution_count": null,
   "metadata": {},
   "outputs": [],
   "source": [
    "Toyota_price = 20075\n",
    "John_net_income = df.loc[df[\"Job Title\"] == \"Box Office Agent\"][\"Net Income\"]\n",
    "duration = Toyota_price / John_net_income * 12\n",
    "frac, whole = math.modf(duration)\n",
    "print(\"It would take John \" + str(int(whole)) + \" months and \" + str(int(frac * 31)) + \" days to buy his dream car.\")"
   ]
  },
  {
   "cell_type": "markdown",
   "metadata": {},
   "source": [
    "## 5. Average income in Canada from 1990 to 2020"
   ]
  },
  {
   "cell_type": "markdown",
   "metadata": {},
   "source": [
    "Now, let's work with some data to find out an average income in Canada from 1990 to 2020. The data is retrieved from [Statistics Canada](https://www150.statcan.gc.ca/t1/tbl1/en/tv.action?pid=1110023901&pickMembers%5B0%5D=1.1&pickMembers%5B1%5D=2.1&pickMembers%5B2%5D=3.1&pickMembers%5B3%5D=4.1&cubeTimeFrame.startYear=1990&cubeTimeFrame.endYear=2020&referencePeriods=19900101%2C20200101). Once the data has been loaded, we will create a line graph visualization for ease of comparison. "
   ]
  },
  {
   "cell_type": "code",
   "execution_count": null,
   "metadata": {},
   "outputs": [],
   "source": [
    "# function to simplify the data\n",
    "def calculate_alberta_mean(html_link, df_name):\n",
    "    df = pd.read_csv(html_link)\n",
    "    df = df[df[\"Statistics\"] == \"Average income (excluding zeros)\"]\n",
    "    df = df[[\"REF_DATE\", \"VALUE\"]].rename(columns={\"REF_DATE\":\"Year\", \"VALUE\":df_name})\n",
    "    return df"
   ]
  },
  {
   "cell_type": "code",
   "execution_count": null,
   "metadata": {
    "scrolled": true
   },
   "outputs": [],
   "source": [
    "# calculate average income for both sexes from 1990 to 2020\n",
    "both_genders = calculate_alberta_mean(\"https://www150.statcan.gc.ca/t1/tbl1/en/dtl!downloadDbLoadingData-nonTraduit.action?pid=1110023901&latestN=0&startDate=19900101&endDate=20200101&csvLocale=en&selectedMembers=%5B%5B12%5D%2C%5B1%5D%2C%5B1%5D%2C%5B1%5D%2C%5B%5D%5D&checkedLevels=4D1\", \"Both Gender\")\n",
    "\n",
    "# calculate average income for females from 1990 to 2020\n",
    "females = calculate_alberta_mean(\"https://www150.statcan.gc.ca/t1/tbl1/en/dtl!downloadDbLoadingData-nonTraduit.action?pid=1110023901&latestN=0&startDate=19900101&endDate=20200101&csvLocale=en&selectedMembers=%5B%5B12%5D%2C%5B1%5D%2C%5B3%5D%2C%5B1%5D%2C%5B%5D%5D&checkedLevels=4D1\", \"Female\")\n",
    "\n",
    "# calculate average income for males from 1990 to 2020\n",
    "males = calculate_alberta_mean(\"https://www150.statcan.gc.ca/t1/tbl1/en/dtl!downloadDbLoadingData-nonTraduit.action?pid=1110023901&latestN=0&startDate=19900101&endDate=20200101&csvLocale=en&selectedMembers=%5B%5B12%5D%2C%5B1%5D%2C%5B2%5D%2C%5B1%5D%2C%5B%5D%5D&checkedLevels=4D1\", \"Male\")\n",
    "\n",
    "dfs = [both_genders, females, males]\n",
    "alberta_mean = ft.reduce(lambda left, right: pd.merge(left, right, on=\"Year\"), dfs)\n",
    "alberta_mean"
   ]
  },
  {
   "cell_type": "code",
   "execution_count": null,
   "metadata": {},
   "outputs": [],
   "source": [
    "fig = go.Figure()\n",
    "fig.add_trace(go.Scatter(x=alberta_mean[\"Year\"], y=alberta_mean[\"Both Gender\"], mode=\"lines\", name=\"Both Gender\"))\n",
    "fig.add_trace(go.Scatter(x=alberta_mean[\"Year\"], y=alberta_mean[\"Female\"], mode=\"lines\", name=\"Female\"))\n",
    "fig.add_trace(go.Scatter(x=alberta_mean[\"Year\"], y=alberta_mean[\"Male\"], mode=\"lines\", name=\"Male\"))\n",
    "fig.update_traces(hovertemplate=\"<br>\".join([\"<b>Year: %{x}</b>\",\"Value: $%{y} CAD\"]))\n",
    "fig.update_layout(barmode=\"group\",title={\"text\":\"Average Income in Alberta from 1990 to 2020\", \"x\":0.5, \"y\":0.9})\n",
    "fig.update_yaxes(title_text = \"Value (CAD)\", title_standoff = 25)\n",
    "fig.update_xaxes(title_text = \"Year\", title_standoff = 25)\n",
    "fig.add_hline(y=34113.142857, line_width=3, line_dash=\"dash\", line_color=\"black\", annotation_text=\"John's net income: $25958.0\")\n",
    "fig.show()"
   ]
  },
  {
   "cell_type": "markdown",
   "metadata": {},
   "source": [
    "From the visualization above, we can see that in 2020, the average income in Canada is $\\$$56100 for both genders, $\\$$45700 for females, and $\\$$66500 for males. \n",
    "Do you see any interesting trends? If you do, why do you think it's happening? You may compare the national average with John's net income as well. \n",
    "\n",
    "## Conclusion\n",
    "\n",
    "In this notebook, we reviewed calculating **gross income** from various sources, **deductions**, and **net income**. **Gross income** is the pure amount that an individual can earn by working, **deduction** is any additional costs that must be subtracted from gross income to calculate a net profit, and **net income** is what we usually refer to as a *profit*. \n",
    "\n",
    "We have also looked at potential sources of gross income, such as **hourly wages**, **commissions**, and **contracts**. There are unlisted sources of income as well, so if you are interested, you may want to investigate them further. "
   ]
  },
  {
   "cell_type": "markdown",
   "metadata": {},
   "source": [
    "[![Callysto.ca License](https://github.com/callysto/curriculum-notebooks/blob/master/callysto-notebook-banner-bottom.jpg?raw=true)](https://github.com/callysto/curriculum-notebooks/blob/master/LICENSE.md)"
   ]
  }
 ],
 "metadata": {
  "kernelspec": {
   "display_name": "Python 3 (ipykernel)",
   "language": "python",
   "name": "python3"
  },
  "language_info": {
   "codemirror_mode": {
    "name": "ipython",
    "version": 3
   },
   "file_extension": ".py",
   "mimetype": "text/x-python",
   "name": "python",
   "nbconvert_exporter": "python",
   "pygments_lexer": "ipython3",
   "version": "3.9.12"
  }
 },
 "nbformat": 4,
 "nbformat_minor": 4
}
