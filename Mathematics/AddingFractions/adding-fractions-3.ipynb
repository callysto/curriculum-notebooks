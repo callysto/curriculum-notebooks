{
 "cells": [
  {
   "cell_type": "markdown",
   "metadata": {},
   "source": [
    "![top banner](https://github.com/callysto/callysto-sample-notebooks/blob/master/notebooks/images/Callysto_Notebook-Banner_Top_06.06.18.jpg?raw=true)"
   ]
  },
  {
   "cell_type": "markdown",
   "metadata": {},
   "source": [
    "# Adding Fractions Visually\n",
    "## Part 3 - Different Denominators\n",
    "\n",
    "Sometimes we will have to add two fractions where neither denominator is a multiple of the other.\n",
    "\n",
    "A simple example of this is adding $\\frac 1 2 + \\frac 1 3$.\n",
    "\n",
    "First, multiply the top and bottom of $\\frac 1 2$ by $3$ (the denominator of $\\frac 1 3$).\n",
    "\n",
    "Next, multiply the top and bottom of $\\frac 1 3$ by $2$, (the denominator of $\\frac 1 2$).\n",
    "\n",
    "After that, both fractions will have the same denominator ($6$), and we can add the numerators.\n",
    "\n",
    "$$ \\frac 1 2 + \\frac 1 3\n",
    "    = \\frac {1 \\times 3} {2 \\times 3} + \\frac {1 \\times 2} {3 \\times 2}\n",
    "    = \\frac 3 6 + \\frac 2 6 = \\frac 5 6 $$."
   ]
  },
  {
   "cell_type": "markdown",
   "metadata": {},
   "source": [
    "Here is an animation of adding fractions with different denominators.\n",
    "\n",
    "Press the **Convert** button to convert one fraction so that they both have the same denominator.\n",
    "\n",
    "Then press the **Add** button to see the fractions added together.\n",
    "\n",
    "You can change the numerators and denominators if you want to add something else.\n",
    "\n",
    "*If no image appears, `Run` the code cell again.*"
   ]
  },
  {
   "cell_type": "code",
   "execution_count": null,
   "metadata": {},
   "outputs": [],
   "source": [
    "%%html\n",
    "<script type=\"text/javascript\" async src=\"https://cdnjs.cloudflare.com/ajax/libs/mathjax/2.7.4/MathJax.js?config=TeX-MML-AM_CHTML\"></script>\n",
    "<script src=\"https://d3js.org/d3.v3.min.js\" charset=\"utf-8\"></script>\n",
    "<div id=\"div_interactive_add\"><svg id=\"svg_interactive_add\" width=960 height=260></svg></div>\n",
    "<label>\n",
    "    Numerator 1:   <input id=\"numer1\" type=\"range\" value=\"3\" min=\"0\" max=\"20\" step=\"1\" onchange=\"update()\"/><br>\n",
    "    Denominator 1: <input id=\"denom1\" type=\"range\" value=\"4\" min=\"1\" max=\"20\"  step=\"1\" onchange=\"update()\"/><br>\n",
    "    Numerator 2:   <input id=\"numer2\" type=\"range\" value=\"5\" min=\"0\" max=\"20\" step=\"1\" onchange=\"update()\"/><br>\n",
    "    Denominator 2: <input id=\"denom2\" type=\"range\" value=\"6\" min=\"1\" max=\"20\"  step=\"1\" onchange=\"update()\"/><br>\n",
    "    <input id=\"button\" type=\"button\"/>\n",
    "</label>\n",
    "<script src=\"https://d3js.org/d3.v3.min.js\" charset=\"utf-8\"></script>\n",
    "<script src=\"./javascript/fractions.js\"></script>\n",
    "<script src=\"./javascript/lowest_common_denominator.js\"></script>\n",
    "<script>\n",
    "var defaultNumer1, defaultDenom1, defaultNumer2, defaultDenom2;\n",
    "function update() {\n",
    "    defaultNumer1 = Number(d3.select(\"#numer1\").property(\"value\"));\n",
    "    defaultNumer2 = Number(d3.select(\"#numer2\").property(\"value\"));\n",
    "    defaultDenom1 = Number(d3.select(\"#denom1\").property(\"value\"));\n",
    "    defaultDenom2 = Number(d3.select(\"#denom2\").property(\"value\"));\n",
    "    reset();}\n",
    "update();\n",
    "reset();\n",
    "</script>"
   ]
  },
  {
   "cell_type": "markdown",
   "metadata": {},
   "source": [
    "![The Callysto Project https://Callysto.ca](https://github.com/callysto/callysto-sample-notebooks/blob/master/notebooks/images/Callysto_Notebook-Banners_Bottom_06.06.18.jpg?raw=true)"
   ]
  }
 ],
 "metadata": {
  "kernelspec": {
   "display_name": "Python 3",
   "language": "python",
   "name": "python3"
  },
  "language_info": {
   "codemirror_mode": {
    "name": "ipython",
    "version": 3
   },
   "file_extension": ".py",
   "mimetype": "text/x-python",
   "name": "python",
   "nbconvert_exporter": "python",
   "pygments_lexer": "ipython3",
   "version": "3.7.5"
  }
 },
 "nbformat": 4,
 "nbformat_minor": 2
}
