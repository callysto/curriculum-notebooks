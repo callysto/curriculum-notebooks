{
 "cells": [
  {
   "cell_type": "markdown",
   "metadata": {},
   "source": [
    "![top banner](https://github.com/callysto/callysto-sample-notebooks/blob/master/notebooks/images/Callysto_Notebook-Banner_Top_06.06.18.jpg?raw=true)"
   ]
  },
  {
   "cell_type": "markdown",
   "metadata": {},
   "source": [
    "# Adding Fractions Visually\n",
    "## Part 2 - Common Denominators\n",
    "\n",
    "## Introduction\n",
    "\n",
    "Adding fractions is easier when they have the same denominator, like $\\frac{2}{5} + \\frac{3}{5}$, but what do we do when the denominators are different?\n",
    "\n",
    "How do we calculate $\\frac{1}{2} + \\frac{1}{4}$? We need to put the fractions over a **common denominator**.\n",
    "\n",
    "\\begin{align*}\n",
    "    \\frac 1 2 + \\frac 1 4 = \\frac 2 4 + \\frac 1 4 = \\frac 3 4\n",
    "\\end{align*}\n",
    "\n",
    "We multiplied the top of bottom of the first fraction by $2$, which didn't change the value of the fraction.\n",
    "\n",
    "For now we will look at when one fraction's denominator is a multiple of the other fraction's denominator."
   ]
  },
  {
   "cell_type": "markdown",
   "metadata": {},
   "source": [
    "Here is a animation of adding fractions.\n",
    "\n",
    "Press the **Convert** button to convert one fraction so that they both have the same denominator.\n",
    "\n",
    "Then press the **Add** button to see the fractions added together.\n",
    "\n",
    "*If no image appears, `Run` the code cell again.*"
   ]
  },
  {
   "cell_type": "code",
   "execution_count": null,
   "metadata": {},
   "outputs": [],
   "source": [
    "%%html\n",
    "<script type=\"text/javascript\" async src=\"https://cdnjs.cloudflare.com/ajax/libs/mathjax/2.7.4/MathJax.js?config=TeX-MML-AM_CHTML\"></script>\n",
    "<script src=\"https://d3js.org/d3.v3.min.js\" charset=\"utf-8\"></script>\n",
    "<div id=\"div_interactive_add\">\n",
    "    <svg id=\"svg_interactive_add\" width=960 height=260></svg>\n",
    "</div>\n",
    "<label>\n",
    "    Numerator 1: <input id=\"numer1\" type=\"range\" value=\"2\" min=\"0\" max=\"100\" step=\"1\" onchange=\"update()\"/><br>\n",
    "    Numerator 2: <input id=\"numer2\" type=\"range\" value=\"5\" min=\"0\" max=\"100\" step=\"1\" onchange=\"update()\"/><br>\n",
    "    Denominator: <input id=\"denom\"  type=\"range\" value=\"3\" min=\"1\" max=\"20\"  step=\"1\" onchange=\"update()\"/><br>\n",
    "    Multiple:    <input id=\"factor\" type=\"range\" value=\"4\" min=\"1\" max=\"5\"   step=\"1\" onchange=\"update()\"/><br>\n",
    "    <input id=\"button\" type=\"button\"/>\n",
    "</label>\n",
    "<script src=\"http://d3js.org/d3.v3.min.js\" charset=\"utf-8\"></script>\n",
    "<script src=\"./javascript/fractions.js\"></script>\n",
    "<script src=\"./javascript/common_denominator.js\"></script>\n",
    "<script>\n",
    "var defaultNumer1, defaultDenom1, defaultNumer2, defaultDenom2;\n",
    "function update() {\n",
    "    defaultNumer1 = Number(d3.select(\"#numer1\").property(\"value\"));\n",
    "    defaultNumer2 = Number(d3.select(\"#numer2\").property(\"value\"));\n",
    "    defaultDenom1 = Number(d3.select(\"#denom\").property(\"value\"));\n",
    "    defaultDenom2 = Number(d3.select(\"#factor\").property(\"value\")) * defaultDenom1;\n",
    "    reset();}\n",
    "update();\n",
    "reset();\n",
    "</script>"
   ]
  },
  {
   "cell_type": "markdown",
   "metadata": {},
   "source": [
    "![The Callysto Project https://Callysto.ca](https://github.com/callysto/callysto-sample-notebooks/blob/master/notebooks/images/Callysto_Notebook-Banners_Bottom_06.06.18.jpg?raw=true)"
   ]
  }
 ],
 "metadata": {
  "kernelspec": {
   "display_name": "Python 3",
   "language": "python",
   "name": "python3"
  },
  "language_info": {
   "codemirror_mode": {
    "name": "ipython",
    "version": 3
   },
   "file_extension": ".py",
   "mimetype": "text/x-python",
   "name": "python",
   "nbconvert_exporter": "python",
   "pygments_lexer": "ipython3",
   "version": "3.7.5"
  }
 },
 "nbformat": 4,
 "nbformat_minor": 2
}
