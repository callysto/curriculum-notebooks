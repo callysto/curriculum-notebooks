{
 "cells": [
  {
   "cell_type": "markdown",
   "metadata": {},
   "source": [
    "![Callysto.ca Banner](https://github.com/callysto/curriculum-notebooks/blob/master/callysto-notebook-banner-top.jpg?raw=true)\n",
    "\n",
    "<a href=\"https://hub.callysto.ca/jupyter/hub/user-redirect/git-pull?repo=https%3A%2F%2Fgithub.com%2Fcallysto%2Fcurriculum-notebooks&branch=master&subPath=Mathematics/DoubleBarGraphs/double-bar-graphs.ipynb&depth=1\" target=\"_parent\"><img src=\"https://raw.githubusercontent.com/callysto/curriculum-notebooks/master/open-in-callysto-button.svg?sanitize=true\" width=\"123\" height=\"24\" alt=\"Open in Callysto\"/></a>"
   ]
  },
  {
   "cell_type": "markdown",
   "metadata": {},
   "source": [
    "# Double Bar Graphs\n",
    "\n",
    "Double bar graphs are used to compare two sets of data.\n",
    "\n",
    "The data sets share the same axes on the graph, and the colours and legend show which data set is which.\n",
    "\n",
    "Click on the code cell below, then click the `►Run` button to display the graph."
   ]
  },
  {
   "cell_type": "code",
   "execution_count": null,
   "metadata": {},
   "outputs": [],
   "source": [
    "x = ['2018', '2019', '2020']\n",
    "y1 = [358, 463, 466]\n",
    "y2 = [425, 526, 475]\n",
    "\n",
    "y1_name = 'Edmonton'\n",
    "y2_name = 'Calgary'\n",
    "xaxis_title = 'Year'\n",
    "yaxis_title = 'Precipitation (mm)'\n",
    "title = 'Yearly Precipitation in Edmonton and Calgary'\n",
    "\n",
    "import plotly.graph_objects as go\n",
    "fig = go.Figure()\n",
    "fig.add_trace(go.Bar(x=x, y=y1, name=y1_name))\n",
    "fig.add_trace(go.Bar(x=x, y=y2, name=y2_name))\n",
    "fig.update_layout(title_text=title, xaxis_title=xaxis_title, yaxis_title=yaxis_title)\n",
    "fig.show()"
   ]
  },
  {
   "cell_type": "markdown",
   "metadata": {},
   "source": [
    "## Horizontal Bar Graphs\n",
    "\n",
    "`►Run` the next code cell to create a horizontal double bar graph."
   ]
  },
  {
   "cell_type": "code",
   "execution_count": null,
   "metadata": {},
   "outputs": [],
   "source": [
    "x = ['2018', '2019', '2020']\n",
    "y1 = [358, 463, 466]\n",
    "y2 = [425, 526, 475]\n",
    "\n",
    "y1_name = 'Edmonton'\n",
    "y2_name = 'Calgary'\n",
    "xaxis_title = 'Year'\n",
    "yaxis_title = 'Precipitation (mm)'\n",
    "title = 'Yearly Precipitation in Edmonton and Calgary'\n",
    "\n",
    "import plotly.graph_objects as go\n",
    "fig = go.Figure()\n",
    "fig.add_trace(go.Bar(x=y1, y=x, name=y1_name, orientation='h'))\n",
    "fig.add_trace(go.Bar(x=y2, y=x, name=y2_name, orientation='h'))\n",
    "fig.update_layout(title_text=title, xaxis_title=yaxis_title, yaxis_title=xaxis_title)\n",
    "fig.show()"
   ]
  },
  {
   "cell_type": "markdown",
   "metadata": {},
   "source": [
    "## Creating Bar Graphs\n",
    "\n",
    "If you'd like to create your own bar graph, edit the code in the following cell."
   ]
  },
  {
   "cell_type": "code",
   "execution_count": null,
   "metadata": {},
   "outputs": [],
   "source": [
    "x = ['Graham', 'John', 'Terry', 'Eric', 'Michael']\n",
    "y1 = [4, 2, 3, 4, 6]\n",
    "y2 = [3, 5, 1, 7, 11]\n",
    "\n",
    "y1_name = 'Goals'\n",
    "y2_name = 'Assists'\n",
    "xaxis_title = 'Players'\n",
    "yaxis_title = 'Count'\n",
    "title = 'Goals and Assists by Players'\n",
    "\n",
    "import plotly.graph_objects as go\n",
    "fig = go.Figure()\n",
    "fig.add_trace(go.Bar(x=x, y=y1, name=y1_name))\n",
    "fig.add_trace(go.Bar(x=x, y=y2, name=y2_name))\n",
    "fig.update_layout(title_text=title, xaxis_title=xaxis_title, yaxis_title=yaxis_title)\n",
    "fig.show()"
   ]
  },
  {
   "cell_type": "markdown",
   "metadata": {},
   "source": [
    "[![Callysto.ca License](https://github.com/callysto/curriculum-notebooks/blob/master/callysto-notebook-banner-bottom.jpg?raw=true)](https://github.com/callysto/curriculum-notebooks/blob/master/LICENSE.md)"
   ]
  }
 ],
 "metadata": {
  "kernelspec": {
   "display_name": "Python 3",
   "language": "python",
   "name": "python3"
  },
  "language_info": {
   "codemirror_mode": {
    "name": "ipython",
    "version": 3
   },
   "file_extension": ".py",
   "mimetype": "text/x-python",
   "name": "python",
   "nbconvert_exporter": "python",
   "pygments_lexer": "ipython3",
   "version": "3.8.3"
  }
 },
 "nbformat": 4,
 "nbformat_minor": 4
}
