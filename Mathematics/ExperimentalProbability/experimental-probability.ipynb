{
 "cells": [
  {
   "cell_type": "markdown",
   "metadata": {},
   "source": [
    "![Callysto.ca Banner](https://github.com/callysto/curriculum-notebooks/blob/master/callysto-notebook-banner-top.jpg?raw=true)\n",
    "\n",
    "<a href=\"https://hub.callysto.ca/jupyter/hub/user-redirect/git-pull?repo=https%3A%2F%2Fgithub.com%2Fcallysto%2Fcurriculum-notebooks&branch=master&subPath=Mathematics/ExperimentalProbability/experimental-probability.ipynb&depth=1\" target=\"_parent\"><img src=\"https://raw.githubusercontent.com/callysto/curriculum-notebooks/master/open-in-callysto-button.svg?sanitize=true\" width=\"123\" height=\"24\" alt=\"Open in Callysto\"/></a>"
   ]
  },
  {
   "cell_type": "markdown",
   "metadata": {},
   "source": [
    "# Experimental Probability\n",
    "\n",
    "If we want to do probability experiments, we can roll dice or flip coins and record the results. But we can also write some Python code to do this for us.\n",
    "\n",
    "We'll use a Python module called `randint` to generate random integers, `Counter` (from collections) to count frequencies, and a library called [Plotly Express](https://plotly.com/python/plotly-express/) to generate graphs.\n",
    "\n",
    "Let's say we wanted to flip a coin `20` times. We could generate a random integer that is 1 or 2 and decide that \"heads\" is 1 and \"tails\" is 2. Run the code below by clicking on the cell and clicking the `▶Run` button above."
   ]
  },
  {
   "cell_type": "code",
   "execution_count": null,
   "metadata": {},
   "outputs": [],
   "source": [
    "sides = 2\n",
    "howMany = 20\n",
    "\n",
    "from random import randint\n",
    "results = []                    # create an empty list that we will store results in\n",
    "for x in range(0,howMany):      # create a loop that will run once for each number of flips\n",
    "    result = randint(1,sides)   # generate a random number between 1 and 2\n",
    "    results.append(result)      # add the result to our list\n",
    "results                         # print the list of results"
   ]
  },
  {
   "cell_type": "markdown",
   "metadata": {},
   "source": [
    "Each time you run the above code you should get a different list of numbers.\n",
    "\n",
    "Now let's do the same thing, but use create a bar graph of the frequency of each number."
   ]
  },
  {
   "cell_type": "code",
   "execution_count": null,
   "metadata": {},
   "outputs": [],
   "source": [
    "howMany = 20\n",
    "options = ['Heads', 'Tails']\n",
    "\n",
    "from random import choice\n",
    "results = []\n",
    "for x in range(0,howMany):\n",
    "    results.append(choice(options))\n",
    "\n",
    "# count how many times we got each sum\n",
    "from collections import Counter\n",
    "counts = Counter(results)\n",
    "\n",
    "# create a bar graph from that count\n",
    "import plotly.express as px\n",
    "px.bar(x = counts.keys(), y = counts.values(), title = f'Flipping a Coin {howMany} Times').update_layout(xaxis_title='Result', yaxis_title='Count')"
   ]
  },
  {
   "cell_type": "markdown",
   "metadata": {},
   "source": [
    "If we wanted to use dice, we need to change the number of sides."
   ]
  },
  {
   "cell_type": "code",
   "execution_count": null,
   "metadata": {},
   "outputs": [],
   "source": [
    "howMany = 20\n",
    "sides = 6\n",
    "\n",
    "results = []\n",
    "for x in range(0,howMany):\n",
    "    result = randint(1,sides)\n",
    "    results.append(result)\n",
    "\n",
    "counts = Counter(results)\n",
    "px.bar(x = counts.keys(), y = counts.values(), title = f'Rolling a {sides}-sided Die {howMany} Times').update_layout(xaxis_title='Result', yaxis_title='Count')"
   ]
  },
  {
   "attachments": {},
   "cell_type": "markdown",
   "metadata": {},
   "source": [
    "Theoretically we expect each number to be rolled with the same frequency, but 20 is not a large enough sample size.\n",
    "\n",
    "**Law of Large Numbers**\n",
    "\n",
    "> For small sample sizes, randomness can cause a skewing of the data. With more samples the observations approach the theoretical probability.\n",
    "\n",
    "If we change the value of the `howMany` variable `5000`, does that look more like the theoretical probability?"
   ]
  },
  {
   "cell_type": "code",
   "execution_count": null,
   "metadata": {},
   "outputs": [],
   "source": [
    "howMany = 5000\n",
    "sides = 6\n",
    "\n",
    "results = []\n",
    "for x in range(0,howMany):\n",
    "    result = randint(1,sides)\n",
    "    results.append(result)\n",
    "counts = Counter(results)\n",
    "px.bar(x = counts.keys(), y = counts.values(), title = f'Rolling a {sides}-sided Die {howMany} Times').update_layout(xaxis_title='Result', yaxis_title='Count')"
   ]
  },
  {
   "cell_type": "markdown",
   "metadata": {},
   "source": [
    "One more statistics experiment, let's roll two dice and add them together ten thousand times."
   ]
  },
  {
   "cell_type": "code",
   "execution_count": null,
   "metadata": {},
   "outputs": [],
   "source": [
    "howMany = 10000\n",
    "sides = 6\n",
    "\n",
    "results = []\n",
    "for x in range(0,howMany):\n",
    "    number1 = randint(1,sides)\n",
    "    number2 = randint(1,sides)\n",
    "    result = number1 + number2\n",
    "    results.append(result)\n",
    "counts = Counter(results)\n",
    "px.bar(x = counts.keys(), y = counts.values(), title = f'Rolling Two {sides}-sided Dice {howMany} Times').update_layout(xaxis_title='Result', yaxis_title='Count')"
   ]
  },
  {
   "attachments": {},
   "cell_type": "markdown",
   "metadata": {},
   "source": [
    "What is the most common sum? Why?\n",
    "\n",
    "What are the least common sums? Why?\n",
    "\n",
    "Would the graph look different with fewer rolls? Why?\n",
    "\n",
    "Would the graph look different with more rolls? Why?\n",
    "\n",
    "---\n",
    "\n",
    "What would a plot of ten six-sided dice look like if we rolled them a hundred thousand times? Let's try it."
   ]
  },
  {
   "cell_type": "code",
   "execution_count": null,
   "metadata": {},
   "outputs": [],
   "source": [
    "howMany = 100000\n",
    "sides = 6\n",
    "dice = 10\n",
    "\n",
    "results = []\n",
    "for x in range(0,howMany):\n",
    "    result = 0\n",
    "    for y in range(0,dice):\n",
    "        result += randint(1,sides)\n",
    "    results.append(result)\n",
    "counts = Counter(results)\n",
    "\n",
    "px.bar(x = counts.keys(), y = counts.values(), title = f'Rolling {dice} {sides}-sided Dice {howMany} Times').update_layout(xaxis_title='Result', yaxis_title='Count')"
   ]
  },
  {
   "attachments": {},
   "cell_type": "markdown",
   "metadata": {},
   "source": [
    "# Conclusion\n",
    "\n",
    "In this notebook we ran some probability experiments using coins and dice. Since we were simulating the experiments, we could run lots of trials and find that experimental probability get closer to theoretical probability with more flips or rolls.\n",
    "\n",
    "### Curriculum Connections: Statistics And Probability\n",
    "\n",
    "#### Chance and Uncertainty\n",
    "\n",
    "- Use experimental or theorertical probabilities to represent and solve problems involving uncertainty. \n",
    "\n",
    "#### Data Analysis\n",
    "\n",
    "- Collect, display and analyze data to solve problems.\n",
    "\n",
    "#### Student Competency Skills and Real Life Applications\n",
    "\n",
    "- Problem solving\n",
    "- Critical thinking\n",
    "- Interacting with and interpreting visualizations\n",
    "- Programming skills are desirable in the workforce\n",
    "- Effective communication of findings"
   ]
  },
  {
   "cell_type": "markdown",
   "metadata": {},
   "source": [
    "[![Callysto.ca License](https://github.com/callysto/curriculum-notebooks/blob/master/callysto-notebook-banner-bottom.jpg?raw=true)](https://github.com/callysto/curriculum-notebooks/blob/master/LICENSE.md)"
   ]
  }
 ],
 "metadata": {
  "kernelspec": {
   "display_name": "Python 3 (ipykernel)",
   "language": "python",
   "name": "python3"
  },
  "language_info": {
   "codemirror_mode": {
    "name": "ipython",
    "version": 3
   },
   "file_extension": ".py",
   "mimetype": "text/x-python",
   "name": "python",
   "nbconvert_exporter": "python",
   "pygments_lexer": "ipython3",
   "version": "3.10.6"
  }
 },
 "nbformat": 4,
 "nbformat_minor": 4
}
