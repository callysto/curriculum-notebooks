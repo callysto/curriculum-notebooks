{
 "cells": [
  {
   "cell_type": "markdown",
   "metadata": {},
   "source": [
    "![alt text][top-banner]\n",
    "\n",
    "[top-banner]: ./imgs/callysto-top-banner.jpg"
   ]
  },
  {
   "cell_type": "code",
   "execution_count": 1,
   "metadata": {},
   "outputs": [
    {
     "data": {
      "text/html": [
       "\n",
       "\n",
       "\n",
       "<script>\n",
       "  function code_toggle() {\n",
       "    if (code_shown){\n",
       "      $('div.input').hide('500');\n",
       "      $('#toggleButton').val('Show Code')\n",
       "    } else {\n",
       "      $('div.input').show('500');\n",
       "      $('#toggleButton').val('Hide Code')\n",
       "    }\n",
       "    code_shown = !code_shown\n",
       "  }\n",
       "\n",
       "  $( document ).ready(function(){\n",
       "    code_shown=false;\n",
       "    $('div.input').hide()\n",
       "  });\n",
       "</script>\n",
       "<form action=\"javascript:code_toggle()\"><input type=\"submit\" id=\"toggleButton\" value=\"Show Code\"></form>"
      ],
      "text/plain": [
       "<IPython.core.display.HTML object>"
      ]
     },
     "metadata": {},
     "output_type": "display_data"
    }
   ],
   "source": [
    "%%html\n",
    "\n",
    "\n",
    "\n",
    "<script>\n",
    "  function code_toggle() {\n",
    "    if (code_shown){\n",
    "      $('div.input').hide('500');\n",
    "      $('#toggleButton').val('Show Code')\n",
    "    } else {\n",
    "      $('div.input').show('500');\n",
    "      $('#toggleButton').val('Hide Code')\n",
    "    }\n",
    "    code_shown = !code_shown\n",
    "  }\n",
    "\n",
    "  $( document ).ready(function(){\n",
    "    code_shown=false;\n",
    "    $('div.input').hide()\n",
    "  });\n",
    "</script>\n",
    "<form action=\"javascript:code_toggle()\"><input type=\"submit\" id=\"toggleButton\" value=\"Show Code\"></form>"
   ]
  },
  {
   "cell_type": "code",
   "execution_count": 28,
   "metadata": {},
   "outputs": [
    {
     "data": {
      "text/html": [
       "<script type = \"text/javascript\" src=\"https://d3js.org/d3.v3.min.js\"></script>\n",
       "<script src=\"https://ajax.googleapis.com/ajax/libs/jquery/3.3.1/jquery.min.js\"></script>\n",
       "<script type=\"text/x-mathjax-config\">\n",
       "    MathJax.Hub.Config({tex2jax: {inlineMath: [['$','$'], ['\\\\(','\\\\)']]}});\n",
       "</script>\n",
       "<script type=\"text/javascript\" async\n",
       "    src=\"https://cdnjs.cloudflare.com/ajax/libs/mathjax/2.7.4/MathJax.js?config=TeX-MML-AM_CHTML\">\n",
       "</script>"
      ],
      "text/plain": [
       "<IPython.core.display.HTML object>"
      ]
     },
     "metadata": {},
     "output_type": "display_data"
    }
   ],
   "source": [
    "%%html\n",
    "<script type = \"text/javascript\" src=\"https://d3js.org/d3.v3.min.js\"></script>\n",
    "<script src=\"https://ajax.googleapis.com/ajax/libs/jquery/3.3.1/jquery.min.js\"></script>\n",
    "<script type=\"text/x-mathjax-config\">\n",
    "    MathJax.Hub.Config({tex2jax: {inlineMath: [['$','$'], ['\\\\(','\\\\)']]}});\n",
    "</script>\n",
    "<script type=\"text/javascript\" async\n",
    "    src=\"https://cdnjs.cloudflare.com/ajax/libs/mathjax/2.7.4/MathJax.js?config=TeX-MML-AM_CHTML\">\n",
    "</script>"
   ]
  },
  {
   "cell_type": "markdown",
   "metadata": {},
   "source": [
    "# Permutations\n",
    "\n",
    "*by Nathan Tipper*\n",
    "\n",
    "In this Jupyter notebook, we will explore the concept of permutations, as they arise in certain types of counting problems. The types of questions that can be answered using permutations include:\n",
    "\n",
    "- \"How many 6-letter words can I form using letters of the alphabet?\" (Regardless of whether or not it's a dictionary word)\n",
    "- \"What if none of the 6 letters can be the same?\"\n",
    "- \"What if exactly one letter must be repeated?\"\n",
    "- \"What if two of the letters must be z, but they cannot be adjacent?\"\n",
    "\n",
    "We will explore permutations through a series of interactive visualizations involving coloured circles, starting with the simple problem of counting rearrangements, and building up to more complicated examples.\n",
    "\n",
    "## What is a permutation?\n",
    "A permutation is the act of rearranging the elements of a set in another order or sequence. A permutation can also refer to the act of choosing some number of elements from a larger set (i.e. a subset) and placing them in order. The most important feature of a permuation is that the order matters, as opposed to a combination, where we choose a subset from a larger set, but the order does not matter. Take the example below. We have a set in which we have 5 different circles, distinguished by their colour. We can consider this a set of circles. If we change the order of the circles in this set (or even if we do nothing at all!), then we have defined a permutation of the set."
   ]
  },
  {
   "cell_type": "code",
   "execution_count": 3,
   "metadata": {},
   "outputs": [
    {
     "data": {
      "text/html": [
       "<div>\n",
       "    <svg width=\"100%\" height=\"300px\">\n",
       "        <circle cx=\"40\" cy=\"100\" r=\"40\" fill=\"red\"></circle>\n",
       "        <circle cx=\"140\" cy=\"100\" r=\"40\" fill=\"blue\"></circle>\n",
       "        <circle cx=\"240\" cy=\"100\" r=\"40\" fill=\"green\"></circle>\n",
       "        <circle cx=\"340\" cy=\"100\" r=\"40\" fill=\"purple\"></circle>\n",
       "        <circle cx=\"440\" cy=\"100\" r=\"40\" fill=\"yellow\"></circle>\n",
       "    </svg>\n",
       "</div>"
      ],
      "text/plain": [
       "<IPython.core.display.HTML object>"
      ]
     },
     "metadata": {},
     "output_type": "display_data"
    }
   ],
   "source": [
    "%%html\n",
    "<div>\n",
    "    <svg width=\"100%\" height=\"300px\">\n",
    "        <circle cx=\"40\" cy=\"100\" r=\"40\" fill=\"red\"></circle>\n",
    "        <circle cx=\"140\" cy=\"100\" r=\"40\" fill=\"blue\"></circle>\n",
    "        <circle cx=\"240\" cy=\"100\" r=\"40\" fill=\"green\"></circle>\n",
    "        <circle cx=\"340\" cy=\"100\" r=\"40\" fill=\"purple\"></circle>\n",
    "        <circle cx=\"440\" cy=\"100\" r=\"40\" fill=\"yellow\"></circle>\n",
    "    </svg>\n",
    "</div>"
   ]
  },
  {
   "cell_type": "markdown",
   "metadata": {},
   "source": [
    "#### A mathematical cautionary note on terminology\n",
    "\n",
    "A couple of words of caution are needed on a couple of the words we use in this notebook. \n",
    "\n",
    "- Set.\n",
    "\n",
    " The word \"set\" has a very precise meaning in mathematics, and it's one that we won't get into here. (In fact, there's a good chance that even if you major in mathematics in university, you won't see a precise definition!) But there are two commonly understood features of sets that do not correspond to what we're doing. First, the order of elements in a set doesn't matter. Second, repeating an element of a set does not change the set. (For example, the set $\\{1,2,3,3\\}$ would not be any different than the set $\\{1,2,3\\}$.)\n",
    "\n",
    " In the context of permutations, order matters, and we will sometimes want to allow repetitions. One could argue that what we call \"sets\" in this notebook should really be referred to as \"ordered lists\". But let's decide not to quibble.\n",
    "\n",
    "- Permutation.\n",
    "\n",
    " We should also warn you that to a mathematician, the word \"permutation\" refers to something much more restrictive than what we are considering. In university-level mathematics, only rearrangements where every element of a set is used, and used only once, are considered permutations. This type of permutation turns out to be very useful in higher mathematics, but it won't be enough for some of the counting problems we want to consider."
   ]
  },
  {
   "cell_type": "markdown",
   "metadata": {},
   "source": [
    "### Everyday Permutations\n",
    "Where do permutations arise in the real world? Permutations may be relevant whenever we're interested in sets where the order of the elemtents in that matters. Can you think of any examples of sets where the ordering of its elements matters? Let's say that a set is *affected by permutations* if the order of its elements is important. Consider the following possibilities:"
   ]
  },
  {
   "cell_type": "code",
   "execution_count": 4,
   "metadata": {},
   "outputs": [
    {
     "data": {
      "text/html": [
       "<script src=\"./scripts/is_a_permutation.js\"></script>\n",
       "\n",
       "<style>\n",
       "    li {\n",
       "        margin-top: 5px;\n",
       "    }\n",
       "    .booleanInput {\n",
       "        width: 30px;\n",
       "        margin-top: 10px;\n",
       "    }\n",
       "    .submit-boolean {\n",
       "        margin-left: 10px;\n",
       "    }\n",
       "    \n",
       "    .correct {\n",
       "        background-color: #33ff33;\n",
       "    }\n",
       "    \n",
       "    .incorrect {\n",
       "        background-color: #ff1a1a;\n",
       "    }\n",
       "    \n",
       "    .perm-answer {\n",
       "        margin-right: 50%;\n",
       "        margin-top: 5px;\n",
       "    }\n",
       "    \n",
       "    #is-permutation-feedback-container {\n",
       "        margin-top: 20px;\n",
       "        display: none;\n",
       "    }\n",
       "    \n",
       "    #perm-questions {\n",
       "        margin-top: 20px;\n",
       "    }\n",
       "    \n",
       "</style>\n",
       "\n",
       "<div id=\"perm-questions\">\n",
       "    <p>Check the box next to each set below if it is affected by permutations.</p>\n",
       "    <ol id=\"boolean-permutations\">\n",
       "        <li>The set of numbers in a 4-digit cell phone pass code<input class=\"booleanInput\" type=\"checkbox\"><span class=\"perm-answer\"></span></li><br>\n",
       "        <li>A set of 5 people you have chosen to go to dinner with<input class=\"booleanInput\" type=\"checkbox\"><span class=\"perm-answer\"></span></li><br>\n",
       "        <li>A set of 4 different fruits selected for a <a href=\"https://www.youtube.com/watch?v=LmR7G208ug4\" target=\"_blank\">fruit salad</a><input class=\"booleanInput\" type=\"checkbox\"><span class=\"perm-answer\"></span></li><br>\n",
       "        <li>A set of cars in the drive-thru at Tim Hortons<input class=\"booleanInput\" type=\"checkbox\"><span class=\"perm-answer\"></span></li><br>\n",
       "        <input type=\"button\" value=\"Submit answers\" onclick=\"isAPermutation()\">\n",
       "    </ol>\n",
       "</div>\n",
       "<div id=\"is-permutation-feedback-container\">\n",
       "<h3>Solutions</h3>\n",
       "</div>"
      ],
      "text/plain": [
       "<IPython.core.display.HTML object>"
      ]
     },
     "metadata": {},
     "output_type": "display_data"
    }
   ],
   "source": [
    "%%html\n",
    "<script src=\"./scripts/is_a_permutation.js\"></script>\n",
    "\n",
    "<style>\n",
    "    li {\n",
    "        margin-top: 5px;\n",
    "    }\n",
    "    .booleanInput {\n",
    "        width: 30px;\n",
    "        margin-top: 10px;\n",
    "    }\n",
    "    .submit-boolean {\n",
    "        margin-left: 10px;\n",
    "    }\n",
    "    \n",
    "    .correct {\n",
    "        background-color: #33ff33;\n",
    "    }\n",
    "    \n",
    "    .incorrect {\n",
    "        background-color: #ff1a1a;\n",
    "    }\n",
    "    \n",
    "    .perm-answer {\n",
    "        margin-right: 50%;\n",
    "        margin-top: 5px;\n",
    "    }\n",
    "    \n",
    "    #is-permutation-feedback-container {\n",
    "        margin-top: 20px;\n",
    "        display: none;\n",
    "    }\n",
    "    \n",
    "    #perm-questions {\n",
    "        margin-top: 20px;\n",
    "    }\n",
    "    \n",
    "</style>\n",
    "\n",
    "<div id=\"perm-questions\">\n",
    "    <p>Check the box next to each set below if it is affected by permutations.</p>\n",
    "    <ol id=\"boolean-permutations\">\n",
    "        <li>The set of numbers in a 4-digit cell phone pass code<input class=\"booleanInput\" type=\"checkbox\"><span class=\"perm-answer\"></span></li><br>\n",
    "        <li>A set of 5 people you have chosen to go to dinner with<input class=\"booleanInput\" type=\"checkbox\"><span class=\"perm-answer\"></span></li><br>\n",
    "        <li>A set of 4 different fruits selected for a <a href=\"https://www.youtube.com/watch?v=LmR7G208ug4\" target=\"_blank\">fruit salad</a><input class=\"booleanInput\" type=\"checkbox\"><span class=\"perm-answer\"></span></li><br>\n",
    "        <li>A set of cars in the drive-thru at Tim Hortons<input class=\"booleanInput\" type=\"checkbox\"><span class=\"perm-answer\"></span></li><br>\n",
    "        <input type=\"button\" value=\"Submit answers\" onclick=\"isAPermutation()\">\n",
    "    </ol>\n",
    "</div>\n",
    "<div id=\"is-permutation-feedback-container\">\n",
    "<h3>Solutions</h3>\n",
    "</div>"
   ]
  },
  {
   "cell_type": "markdown",
   "metadata": {},
   "source": [
    "### An interactive example\n",
    "\n",
    "Now that we have an idea of what a permutation is, consider the example with circles below. These circles are like the ones you saw above, only now you can pick them up and put them in the hollow circles beneath them. Each placement of circles into the spaces provided creates a permutation of the circles. \n",
    "\n",
    "In this example, we're working with the mathematical definition of a permutation mentioned above. To define a permutation by placing the circles, you must:\n",
    "- Use all of the available circles\n",
    "- Avoid using the same circle more than once.\n",
    "\n",
    "Try placing the circles to create a permutation. In how many different ways can you permute the set?"
   ]
  },
  {
   "cell_type": "code",
   "execution_count": 13,
   "metadata": {},
   "outputs": [
    {
     "data": {
      "text/html": [
       "\n",
       "<link rel=\"stylesheet\" href=\"https://maxcdn.bootstrapcdn.com/bootstrap/3.3.7/css/bootstrap.min.css\">\n",
       "<link rel=\"stylesheet\" type=\"text/css\" href=\"./css/experimental_circles.css\">\n",
       "\n",
       "<p>Adjust the slider to change the number of circles available.<br><br>\n",
       "    How many different permutations can you make with those circles?</p>\n",
       "<div id=\"experiment-full\" class=\"experiment\">\n",
       "</div>\n",
       "<div id=\"correct-permutations\" class=\"permutation-table-container\">\n",
       "    <table id=\"correct-permutations-table\">\n",
       "\n",
       "    </table>\n",
       "</div>\n",
       "<div class=\"clear-float\"></div>\n",
       "<div id=\"circles1-answer-container\">\n",
       "    <p id=\"circles1-answer\"></p>\n",
       "    <input id=\"reset-circles\" type=\"button\" value=\"Reset\" onclick=\"resetCircles()\">\n",
       "</div>\n",
       "<div class=\"clear-float\"></div>\n",
       "<div id=\"perm-range-container\">\n",
       "    <input class=\"slider\" id=\"perm-range-slider\" type=\"range\" min=\"2\" max=\"6\" value=\"3\"><span id=\"slider-output\"></span><br>\n",
       "</div>\n",
       "<div class=\"clear-float\"></div>\n",
       "<script src=\"./scripts/circles.js\"></script>"
      ],
      "text/plain": [
       "<IPython.core.display.HTML object>"
      ]
     },
     "metadata": {},
     "output_type": "display_data"
    }
   ],
   "source": [
    "%%html\n",
    "\n",
    "<link rel=\"stylesheet\" href=\"https://maxcdn.bootstrapcdn.com/bootstrap/3.3.7/css/bootstrap.min.css\">\n",
    "<link rel=\"stylesheet\" type=\"text/css\" href=\"./css/experimental_circles.css\">\n",
    "\n",
    "<p>Adjust the slider to change the number of circles available.<br><br>\n",
    "    How many different permutations can you make with those circles?</p>\n",
    "<div id=\"experiment-full\" class=\"experiment\">\n",
    "</div>\n",
    "<div id=\"correct-permutations\" class=\"permutation-table-container\">\n",
    "    <table id=\"correct-permutations-table\">\n",
    "\n",
    "    </table>\n",
    "</div>\n",
    "<div class=\"clear-float\"></div>\n",
    "<div id=\"circles1-answer-container\">\n",
    "    <p id=\"circles1-answer\"></p>\n",
    "    <input id=\"reset-circles\" type=\"button\" value=\"Reset\" onclick=\"resetCircles()\">\n",
    "</div>\n",
    "<div class=\"clear-float\"></div>\n",
    "<div id=\"perm-range-container\">\n",
    "    <input class=\"slider\" id=\"perm-range-slider\" type=\"range\" min=\"2\" max=\"6\" value=\"3\"><span id=\"slider-output\"></span><br>\n",
    "</div>\n",
    "<div class=\"clear-float\"></div>\n",
    "<script src=\"./scripts/circles.js\"></script>"
   ]
  },
  {
   "cell_type": "markdown",
   "metadata": {},
   "source": [
    "## Counting permutations\n",
    "\n",
    "In order to find out how many ways there are to permute a set, we need to think about how many different items we can place in a particular position. For instance, if we reset the above example we are looking at a set of three circles, { Red, Green, Blue}. Now, if we take all the items out and rearrage them, there are several possibilities, including { Green, Red, Blue}.\n",
    "\n",
    "But what we want to know is this: how many different permutations are possible? Suppose we have all three circles in the set, and someone tells us to rearrange them. How many different options do we have for what we place in the first blank circle? We still have all the circles in our original set, and we can put any of the circles in the first spot, so we have three choices. Let's say we choose Green. Now, how many options do we have for the second circle? We already put Green in the first spot, so now there are only two options left: red or blue. We started with three, now two. If we go one step further, we only have once choice left. Overall, we made $3\\times 2\\times 1 = 6$ choices.\n",
    "\n",
    "There is a pattern! Namely, if we have $n$ circles, where $n = 3$ in our case, then we have $n$ choices for the first, $n-1$ choices for the second, $n-2$ choices for the third and so on, until there is only one circle left. Overall, the number of choices is\n",
    "$$n(n-1)(n-2)\\cdots 2\\cdot 1 = n!$$\n",
    "(Recall that the notation $n!$ is read as \"$n$ [factorial](https://en.wikipedia.org/wiki/Factorial)\".)\n",
    "\n",
    "\n",
    "## Permutations of a subset.\n",
    "\n",
    "In many cases, we aren't interested in rearranging the entire set of objects available, but only some subset of them. For example, we might have a total of five circles available, but we are going to choose only three of them and put them in order. What is the number of ways in which this can be done?\n",
    "\n",
    "The notation we use for this number is $_nP_r$ (read as NPR -- like the radio station) where $r$ is the number of \"slots\" (that is, the number of objects chosen) and $n$ is the total number of circles we have to choose from. Before we work out how to compute this number, try playing with the example below. How many possibilities are there when choosing 2 circles from a set of 3? What about 2 from a set of 4, or 3 from a set of 4? Try a few different possiblities, and see if you can guess what the number will be for the next one."
   ]
  },
  {
   "cell_type": "code",
   "execution_count": 37,
   "metadata": {},
   "outputs": [
    {
     "data": {
      "text/html": [
       "\n",
       "<div id=\"experiment-container\">\n",
       "    <div id=\"experiment-subset\" class=\"experiment\">\n",
       "\n",
       "    </div>\n",
       "    <div id=\"correct-subset-permutations\" class=\"permutation-table-container\">\n",
       "        <table id=\"correct-subset-permutations-table\">\n",
       "\n",
       "        </table>\n",
       "    </div>\n",
       "</div>\n",
       "<div class=\"clear-float\"></div>\n",
       "<div id=\"circles-subset-answer-container\">\n",
       "    <p id=\"circles-subset-answer\"></p>\n",
       "    <input id=\"reset-circles-subset\" type=\"button\" value=\"Reset\" onclick=\"resetCircles_subset()\">\n",
       "</div>\n",
       "<div class=\"clear-float\"></div>\n",
       "<div id=\"perm-subset-range-container\">\n",
       "    <input class=\"slider\"  id=\"perm-fullsubset-range-slider\" type=\"range\" min=\"4\" max=\"7\" value=\"5\"><p id=\"slider-full-output\"></p><br>\n",
       "    <input class=\"slider\"  id=\"perm-fillsubset-range-slider\" type=\"range\" min=\"2\" max=\"4\" value=\"3\"><p id=\"slider-fill-output\"></p><br>\n",
       "</div>\n",
       "<div class=\"clear-float\"></div>\n",
       "<script src=\"./scripts/circles_subset.js\"></script>"
      ],
      "text/plain": [
       "<IPython.core.display.HTML object>"
      ]
     },
     "metadata": {},
     "output_type": "display_data"
    }
   ],
   "source": [
    "%%html\n",
    "\n",
    "<div id=\"experiment-container\">\n",
    "    <div id=\"experiment-subset\" class=\"experiment\">\n",
    "\n",
    "    </div>\n",
    "    <div id=\"correct-subset-permutations\" class=\"permutation-table-container\">\n",
    "        <table id=\"correct-subset-permutations-table\">\n",
    "\n",
    "        </table>\n",
    "    </div>\n",
    "</div>\n",
    "<div class=\"clear-float\"></div>\n",
    "<div id=\"circles-subset-answer-container\">\n",
    "    <p id=\"circles-subset-answer\"></p>\n",
    "    <input id=\"reset-circles-subset\" type=\"button\" value=\"Reset\" onclick=\"resetCircles_subset()\">\n",
    "</div>\n",
    "<div class=\"clear-float\"></div>\n",
    "<div id=\"perm-subset-range-container\">\n",
    "    <input class=\"slider\"  id=\"perm-fullsubset-range-slider\" type=\"range\" min=\"4\" max=\"7\" value=\"5\"><p id=\"slider-full-output\"></p><br>\n",
    "    <input class=\"slider\"  id=\"perm-fillsubset-range-slider\" type=\"range\" min=\"2\" max=\"4\" value=\"3\"><p id=\"slider-fill-output\"></p><br>\n",
    "</div>\n",
    "<div class=\"clear-float\"></div>\n",
    "<script src=\"./scripts/circles_subset.js\"></script>"
   ]
  },
  {
   "cell_type": "markdown",
   "metadata": {},
   "source": [
    "## Computing $_nP_r$\n",
    "\n",
    "\n",
    "Now that you've tried a few examples, let's try to work out the general rule. Suppose we're choosing $r$ circles from a set of $n$ and then putting them in order. In how many ways can this be done? Lets work it out. There are $n$ circles in total, so we have $n$ possibilities for the first circle. Once we choose that circle, there are $n-1$ circles left, which is the number of possible choices for the second circle, and so on. We have:\n",
    "\n",
    "|Circle #|Number of choices for circle|Total possibilities so far |\n",
    "|:------:|:--------------------------:|:-------------------------:|\n",
    "|1       |$n$                         |$n$                        |\n",
    "|2       |$n-1$                       |$n(n-1)$                   |\n",
    "|3       |$n-2$                       |$n(n-1)(n-2)$              |\n",
    "|        |                            |                           |\n",
    "|$\\vdots$|$\\vdots$                    |$\\vdots$                   |\n",
    "|        |                            |                           |\n",
    "|$r$     |$n-r+1$                     |$n(n-1)(n-2)\\cdots (n-r+1)$|\n",
    "\n",
    "Note that when the last circle is chosen (circle $\\# r$), we have previously chosen $r-1$ circles, so there are\n",
    "$$n-(r-1) = n-r+1$$\n",
    "circles remaining. This gives us a formula:\n",
    "\n",
    "$$_nP_r = n(n-1)(n-2)\\cdots (n-r+1).$$\n",
    "\n",
    "However, this formula isn't all that pretty, and it might not be so easy to remember. Fortunately, there's a nicer way to write it. Notice that what we have is a sort of \"truncated factorial\": because we stopped choosing circles when there were still $n-r$ circles remaining, we skipped the $n-r$ steps needed to use up the remaining circles.\n",
    "\n",
    "Fortunately, our knowledge of *equivalent fractions* comes to the rescue. Remember that for any fraction $\\dfrac{a}{b}$ and for any nonzero integer $k$, we can multiply by $\\frac{k}{k}=1$ and get an equivalent fraction:\n",
    "\n",
    "$$\\frac{a}{b} = \\frac{a}{b}\\cdot\\frac{k}{k} = \\frac{ak}{bk}.$$\n",
    "\n",
    "We can make use of this fact here. First, let's multiply by $\\dfrac{n-r}{n-r}$:\n",
    "\n",
    "$$_nP_r = \\frac{n(n-1)(n-2)\\cdots (n-r+1)}{1} = \\frac{n(n-1)(n-2)\\cdots (n-r+1)(n-r)}{n-r}.$$\n",
    "\n",
    "Next, we multiply by $\\frac{n-r-1}{n-r-1}$, and then $\\frac{n-r-2}{n-r-2}$, and so on, all the way down to $\\frac{2}{2}$, and finally, $\\frac{1}{1}$. We get:\n",
    "\n",
    "$$_nP_r = \\frac{n(n-1)(n-2)\\cdots (n-r+1)(n-r)(n-r-1)\\cdots 2\\cdot 1}{(n-r)(n-r-1)\\cdots 2\\cdot 1} = \\frac{n!}{(n-r)!}$$\n",
    "\n",
    "This is the formula we were looking for to calculuate the number of different possible permutations: \n",
    "\n",
    "$$\\color{blue}{_nP_r = \\dfrac{n!}{(n-r)!}}.$$ \n",
    "\n",
    "Note that this formula includes the previous situation as a special case. If we choose all the circles, then $n = r$, and thus $n-r=0$. Now, we recall a convention about factorials, which is that $0! = 1$. Therefore, if $n=r$, we get\n",
    "$$_nP_n = \\frac{n!}{0!}=n!,$$\n",
    "as before. \n",
    "\n",
    "Using the $_nP_r$ formula ($\\dfrac{n!}{(n-r)!}$), fill out the table below for the number of circles we have ($n$) and the number of slots we have to put them in ($r$)."
   ]
  },
  {
   "cell_type": "code",
   "execution_count": 38,
   "metadata": {},
   "outputs": [
    {
     "data": {
      "text/html": [
       "\n",
       "<link rel=\"stylesheet\" type=\"text/css\" href=\"./css/perm_table.css\">\n",
       "<script src=\"./scripts/table_nchooser.js\"></script>\n",
       "\n",
       "<div id=\"table-container\">\n",
       "<table id=\"permutation-table\">\n",
       "</table>\n",
       "    <div id=\"table-button-container\">\n",
       "        <input id=\"submit-table-button\" type=\"button\" value=\"Submit Answers\" onclick=\"showFeedback()\">\n",
       "        <input id=\"show-solutions-button\" class=\"hidden\" type=\"button\" value=\"Show Solution\" onclick=\"showTableSolution()\">\n",
       "        <input id=\"unshow-solutions-button\" class=\"hidden\" type=\"button\" value=\"Unshow Solution\" onclick=\"unshowTableSolution()\">\n",
       "    </div>\n",
       "</div>"
      ],
      "text/plain": [
       "<IPython.core.display.HTML object>"
      ]
     },
     "metadata": {},
     "output_type": "display_data"
    }
   ],
   "source": [
    "%%html\n",
    "\n",
    "<link rel=\"stylesheet\" type=\"text/css\" href=\"./css/perm_table.css\">\n",
    "<script src=\"./scripts/table_nchooser.js\"></script>\n",
    "\n",
    "<div id=\"table-container\">\n",
    "<table id=\"permutation-table\">\n",
    "</table>\n",
    "    <div id=\"table-button-container\">\n",
    "        <input id=\"submit-table-button\" type=\"button\" value=\"Submit Answers\" onclick=\"showFeedback()\">\n",
    "        <input id=\"show-solutions-button\" class=\"hidden\" type=\"button\" value=\"Show Solution\" onclick=\"showTableSolution()\">\n",
    "        <input id=\"unshow-solutions-button\" class=\"hidden\" type=\"button\" value=\"Unshow Solution\" onclick=\"unshowTableSolution()\">\n",
    "    </div>\n",
    "</div>"
   ]
  },
  {
   "cell_type": "markdown",
   "metadata": {},
   "source": [
    "## Restrictions\n",
    "\n",
    "Sometimes we have restrictions on permutations where certain items have to be arranged in a particular way. Let's look at an example:\n",
    "\n",
    "Problem: Rearrange the word BANANA such that no N's are adjacent. In how many ways can this be done?\n",
    "\n",
    "When we look at this problem, we need to look at how many ways we can arrange the word BANANA. We have six letters in the word and six slots to put them in, so therefore it would appear that we have $6!$ possiblities in total. However, we have 2 letters that have repetition: N is repeated twice, and A is repeated three times. So we have to consider that two A's when rearranged in different ways spell out the exact same word. \n",
    "\n",
    "Since we have three A's and two N's, we must divide by the number of ways these letters could be rearranged without changing the word. There are $3!$ ways to rearrange the A's, and $2!$ ways to rearrange the $N's$, so we're down to $\\frac{6!}{3!2!} = 60$ possibilities. \n",
    "\n",
    "Now we have to think about the number of ways that we can arrange the word BANANA such that two N's are adjacent. We can see that if we take out the N's in BANANA we are left with BAAA, which can we be arranged in 4 different ways: since we have 4 letters with 3 repetitions, we have $\\frac{4!}{3!}=4$ possibilities. Now, if we consider all options where the N's are together then we can consider the two N's as a single letter. There are 5 places where we could place NN in a four letter word: in front, after the first letter, after the second, after the third, or at the end.\n",
    "\n",
    "Therefore, the number of words we can make with repetitions of N is $5\\times 4 = 20$. Putting it together, we have the number of words we can make total with the 6 letters, 60, minus the number of words we can make with N being adjacent to each other, 20, then we get $60 - 20 = 40$ different ways we can rearrange BANANA such that no N's are adjacent.\n",
    "\n",
    "Here is a video with a good tutorial on permutations with restrictions:\n"
   ]
  },
  {
   "cell_type": "code",
   "execution_count": 8,
   "metadata": {},
   "outputs": [
    {
     "data": {
      "text/html": [
       "<iframe width=\"854\" height=\"480\" src=\"https://www.youtube.com/embed/zxxrR2oa0-M\" frameborder=\"0\" allow=\"autoplay; encrypted-media\" allowfullscreen></iframe>"
      ],
      "text/plain": [
       "<IPython.core.display.HTML object>"
      ]
     },
     "metadata": {},
     "output_type": "display_data"
    }
   ],
   "source": [
    "%%html\n",
    "<iframe width=\"854\" height=\"480\" src=\"https://www.youtube.com/embed/zxxrR2oa0-M\" frameborder=\"0\" allow=\"autoplay; encrypted-media\" allowfullscreen></iframe>"
   ]
  },
  {
   "cell_type": "markdown",
   "metadata": {},
   "source": [
    "Do you feel like you've got the idea? Let's try a few exercises to make sure."
   ]
  },
  {
   "cell_type": "code",
   "execution_count": 12,
   "metadata": {
    "scrolled": true
   },
   "outputs": [
    {
     "data": {
      "text/html": [
       "\n",
       "<link rel=\"stylesheet\" type=\"text/css\" href=\"./css/restrictions.css\">\n",
       "<script src=\"./scripts/restrictions.js\"></script>\n",
       "\n",
       "<div id=\"restriction-questions-container\">\n",
       "    <h2>Exercises</h2>\n",
       "</div>\n",
       "<div id=\"restriction-solutions-container\" class=\"hidden\">\n",
       "    <h2>Solutions</h2>\n",
       "</div>"
      ],
      "text/plain": [
       "<IPython.core.display.HTML object>"
      ]
     },
     "metadata": {},
     "output_type": "display_data"
    }
   ],
   "source": [
    "%%html\n",
    "\n",
    "<link rel=\"stylesheet\" type=\"text/css\" href=\"./css/restrictions.css\">\n",
    "<script src=\"./scripts/restrictions.js\"></script>\n",
    "\n",
    "<div id=\"restriction-questions-container\">\n",
    "    <h2>Exercises</h2>\n",
    "</div>\n",
    "<div id=\"restriction-solutions-container\" class=\"hidden\">\n",
    "    <h2>Solutions</h2>\n",
    "</div>\n"
   ]
  },
  {
   "cell_type": "markdown",
   "metadata": {},
   "source": [
    "## Conclusion\n",
    "\n",
    "The term 'permutations' is used whenever we're dealing with counting problems where the order in which we arrange our items matters. The simplest type of permutation (which is what mathematicians think of when they hear the word 'permutation') is the action of taking some number of items and placing them in order.\n",
    "\n",
    "- If we have $n$ *distinct* items, then there are $n!$ different orders in which we can place them.\n",
    "- If some of those items are identical, then we need to account for rearrangements that exchange identical items (producing indistinguishable results). If there are $k$ identical items in a set of $n$ items, then the number of distinguishable permutations is $\\dfrac{n!}{k!}$.\n",
    "- If more than one type of item is repeated, we divide as above for each such type.\n",
    "- If we are choosing a *subset* of size $r$ from a set of $n$ distinct items and placing them in order, then the number of possibilities is $_nP_r = \\dfrac{n!}{(n-k)!}$.\n",
    "\n",
    "Many different counting problems can be solved using permutations and the above considerations. The study of permutations (and their cousin, *combinations*, which we'll discuss in another notebook) form the beginnings of an area of mathematics known as *combinatorics* -- the theory of counting."
   ]
  },
  {
   "cell_type": "markdown",
   "metadata": {},
   "source": [
    "![alt text][bottom-banner]\n",
    "\n",
    "[bottom-banner]: ./imgs/callysto-bottom-banner.jpg"
   ]
  }
 ],
 "metadata": {
  "kernelspec": {
   "display_name": "Python 3",
   "language": "python",
   "name": "python3"
  },
  "language_info": {
   "codemirror_mode": {
    "name": "ipython",
    "version": 3
   },
   "file_extension": ".py",
   "mimetype": "text/x-python",
   "name": "python",
   "nbconvert_exporter": "python",
   "pygments_lexer": "ipython3",
   "version": "3.6.5"
  }
 },
 "nbformat": 4,
 "nbformat_minor": 2
}
