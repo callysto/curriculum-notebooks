{
 "cells": [
  {
   "cell_type": "markdown",
   "metadata": {},
   "source": [
    "![Callysto.ca Banner](https://github.com/callysto/curriculum-notebooks/blob/master/callysto-notebook-banner-top.jpg?raw=true)\n",
    "\n",
    "<a href=\"https://hub.callysto.ca/jupyter/hub/user-redirect/git-pull?repo=https%3A%2F%2Fgithub.com%2Fcallysto%2Fcurriculum-notebooks&branch=master&subPath=Mathematics/OrderOfOperations/order-of-operations.ipynb&depth=1\" target=\"_parent\"><img src=\"https://raw.githubusercontent.com/callysto/curriculum-notebooks/master/open-in-callysto-button.svg?sanitize=true\" width=\"123\" height=\"24\" alt=\"Open in Callysto\"/></a>"
   ]
  },
  {
   "cell_type": "markdown",
   "metadata": {},
   "source": [
    "# Order of Operations\n",
    "\n",
    "This is a Jupyter notebook to explore order of operations for arithmetic calculations.\n",
    "\n",
    "## Introduction\n",
    "\n",
    "In mathematics we have two basic operations: addition and multiplication. Each of these operations comes with an \"opposite\" (or we might call it *inverse*) operation. The opposite of addition is subtraction, and the opposite of multiplication is division.\n",
    "\n",
    "When there is a single operation to perform, we all know what to do. For example, we could have the computer calculate the sum $3+7$ or the product $9\\times 3$.\n",
    "\n",
    "Click on the following code cell, then click `▶Run` in the toolbar above to run the calculation."
   ]
  },
  {
   "cell_type": "code",
   "execution_count": null,
   "metadata": {},
   "outputs": [],
   "source": [
    "3+7"
   ]
  },
  {
   "cell_type": "code",
   "execution_count": null,
   "metadata": {},
   "outputs": [],
   "source": [
    "9*3"
   ]
  },
  {
   "cell_type": "markdown",
   "metadata": {},
   "source": [
    "If you want to type your expressions into a code cell using Python, the operators are:\n",
    "\n",
    "* Addition: `+`\n",
    "* Subtraction: `-`\n",
    "* Multiplication: `*`\n",
    "* Division: `/`\n",
    "* Brackets: `(` and `)`\n",
    "* Exponents: `**`"
   ]
  },
  {
   "cell_type": "markdown",
   "metadata": {},
   "source": [
    "Here is an example of division:"
   ]
  },
  {
   "cell_type": "code",
   "execution_count": null,
   "metadata": {},
   "outputs": [],
   "source": [
    "27/3"
   ]
  },
  {
   "cell_type": "markdown",
   "metadata": {},
   "source": [
    "*You might be wondering why there is a decimal in the last output. Whenever the computer does division, it uses [floating point arithmetic](https://en.wikipedia.org/wiki/Floating-point_arithmetic) because division doesn't always result in a whole number.*\n",
    "\n",
    "Using brackets (also known as parentheses) can tell the computer the order we want to do the operations.\n",
    "\n",
    "Compare the results of `▶Run`ning the following two code cells."
   ]
  },
  {
   "cell_type": "code",
   "execution_count": null,
   "metadata": {},
   "outputs": [],
   "source": [
    "5+9*7"
   ]
  },
  {
   "cell_type": "code",
   "execution_count": null,
   "metadata": {},
   "outputs": [],
   "source": [
    "(5+9)*7"
   ]
  },
  {
   "cell_type": "markdown",
   "metadata": {},
   "source": [
    "Using parentheses tells the computer to calculate $5+9$ first, then multiply by $7$.\n",
    "\n",
    "## Example\n",
    "\n",
    "How do we (or a computer) solve a really complicated expression like this?\n",
    "\n",
    "$$8 + 18/3^{2} \\times (7 - 4)/(6 + 9)$$\n",
    "    \n",
    "The answer is the same for both humans and computers. We need to:\n",
    "\n",
    "1. Break the problem down into simpler steps, and\n",
    "2. Determine the order in which those steps should be performed.\n",
    "\n",
    "How do we determine the order? We have all agreed to do operations in the same order so that they always get the same answer. This order is called the **order of operations**.\n",
    "\n",
    "### The Order of Operations is:\n",
    "\n",
    "1. **B**rackets\n",
    "2. **E**xponents\n",
    "3. **D**ivision\n",
    "4. **M**ultiplication\n",
    "5. **A**ddition\n",
    "6. **S**ubtraction\n",
    "\n",
    "This is commonly remembered by the acronym **BEDMAS**, or **PEMDAS** (if we use the word \"parentheses\" instead of \"brackets\"). Some people remember this order by the phrase **P**lease **E**xcuse **M**y **D**ear **A**unt **S**ally.\n",
    "\n",
    "Notice that the order of multiplication and division can be switched, since they are really the same operaion, and the same goes for addition and subtraction. If we have multiple operations from the same group, then we do the operations from left to right.\n",
    "\n",
    "Let's try that example problem:"
   ]
  },
  {
   "cell_type": "code",
   "execution_count": null,
   "metadata": {},
   "outputs": [],
   "source": [
    "8 + 18/3**2 * (7-4)/(6+9)"
   ]
  },
  {
   "cell_type": "markdown",
   "metadata": {},
   "source": [
    "And to double-check that the order is correct, we can calculate each part:"
   ]
  },
  {
   "cell_type": "code",
   "execution_count": null,
   "metadata": {},
   "outputs": [],
   "source": [
    "print('3**2 =', 3**2)\n",
    "print('18/3**2 =', 18/3**2)\n",
    "print('7-4 =', 7-4)\n",
    "print('6+9 =', 6+9)\n",
    "print('(7-4)/(6+9) =', (7-4)/(6+9))\n",
    "print('18/3**2 * (7-4)/(6+9) =', 18/3**2 * (7-4)/(6+9))\n",
    "print('8 + 18/3**2 * (7-4)/(6+9) =', 8 + 18/3**2 * (7-4)/(6+9))"
   ]
  },
  {
   "cell_type": "markdown",
   "metadata": {},
   "source": [
    "It looks like that worked.\n",
    "\n",
    "## Practice\n",
    "\n",
    "See if you can use the code cell below to check if the following equation is correct:\n",
    "\n",
    "$(8^2-4)/2+3^3 = 57$"
   ]
  },
  {
   "cell_type": "code",
   "execution_count": null,
   "metadata": {},
   "outputs": [],
   "source": []
  },
  {
   "cell_type": "markdown",
   "metadata": {},
   "source": [
    "## Conclusion\n",
    "\n",
    "In this notebook we learned that we can do mathematical operations in Python, and the **Order of Operations** is:\n",
    "\n",
    "1. **B**rackets\n",
    "2. **E**xponents\n",
    "3. **D**ivision\n",
    "4. **M**ultiplication\n",
    "5. **A**ddition\n",
    "6. **S**ubtraction\n",
    "\n",
    "* Division and multiplication have the same priority\n",
    "* Addition and subtraction have the same priority"
   ]
  },
  {
   "cell_type": "markdown",
   "metadata": {},
   "source": [
    "[![Callysto.ca License](https://github.com/callysto/curriculum-notebooks/blob/master/callysto-notebook-banner-bottom.jpg?raw=true)](https://github.com/callysto/curriculum-notebooks/blob/master/LICENSE.md)"
   ]
  }
 ],
 "metadata": {
  "kernelspec": {
   "display_name": "Python 3.8.10 64-bit",
   "language": "python",
   "name": "python3"
  },
  "language_info": {
   "codemirror_mode": {
    "name": "ipython",
    "version": 3
   },
   "file_extension": ".py",
   "mimetype": "text/x-python",
   "name": "python",
   "nbconvert_exporter": "python",
   "pygments_lexer": "ipython3",
   "version": "3.8.10"
  },
  "vscode": {
   "interpreter": {
    "hash": "916dbcbb3f70747c44a77c7bcd40155683ae19c65e1c03b4aa3499c5328201f1"
   }
  }
 },
 "nbformat": 4,
 "nbformat_minor": 4
}
