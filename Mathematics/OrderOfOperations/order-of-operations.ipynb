{
 "cells": [
  {
   "cell_type": "markdown",
   "metadata": {},
   "source": [
    "![Callysto.ca Banner](https://github.com/callysto/curriculum-notebooks/blob/master/callysto-notebook-banner-top.jpg?raw=true)\n",
    "\n",
    "<a href=\"https://hub.callysto.ca/jupyter/hub/user-redirect/git-pull?repo=https%3A%2F%2Fgithub.com%2Fcallysto%2Fcurriculum-notebooks&branch=master&subPath=Mathematics/OrderOfOperations/order-of-operations.ipynb&depth=1\" target=\"_parent\"><img src=\"https://raw.githubusercontent.com/callysto/curriculum-notebooks/master/open-in-callysto-button.svg?sanitize=true\" width=\"123\" height=\"24\" alt=\"Open in Callysto\"/></a>"
   ]
  },
  {
   "cell_type": "markdown",
   "metadata": {},
   "source": [
    "# Order of Operations\n",
    "\n",
    "A Jupyter notebook to explore order of operations conventions for arithmetic operations."
   ]
  },
  {
   "cell_type": "code",
   "execution_count": null,
   "metadata": {},
   "outputs": [],
   "source": [
    "from IPython.display import HTML"
   ]
  },
  {
   "cell_type": "markdown",
   "metadata": {},
   "source": [
    "## Introduction\n",
    "\n",
    "In elementary mathematics, we have two basic operations: addition and multiplication. Each of these operations comes with an \"opposite\" (or, as a mathematician might say, an *inverse*) operation. The opposite of addition is subtraction, and the opposite of multiplication is division.\n",
    "\n",
    "When there is a single operation to perform, we all know what to do, including the computer. For example, we could have the computer calculate the sum $3+7$ or the product $9\\times 3$:"
   ]
  },
  {
   "cell_type": "code",
   "execution_count": null,
   "metadata": {},
   "outputs": [],
   "source": [
    "3+7"
   ]
  },
  {
   "cell_type": "code",
   "execution_count": null,
   "metadata": {},
   "outputs": [],
   "source": [
    "9*3"
   ]
  },
  {
   "cell_type": "markdown",
   "metadata": {},
   "source": [
    "If you want to type your expressions into an input box, the operators are:\n",
    "* Brackets: `(` and `)`\n",
    "* Exponents: `**`\n",
    "* Division: `/`\n",
    "* Multiplication: `*`\n",
    "* Addition: `+`\n",
    "* Subtraction: `-`"
   ]
  },
  {
   "cell_type": "markdown",
   "metadata": {},
   "source": [
    "**Note:** all code in Jupyter is *live*, and *editable*. Feel free to go back to the last two lines and change the numbers. To get the computer to do the calculation, press `Shift`+`Enter` on your keyboard.\n",
    "\n",
    "If we wanted to undo either the addition or the multiplication, we can use their opposites:"
   ]
  },
  {
   "cell_type": "code",
   "execution_count": null,
   "metadata": {},
   "outputs": [],
   "source": [
    "10-7"
   ]
  },
  {
   "cell_type": "code",
   "execution_count": null,
   "metadata": {},
   "outputs": [],
   "source": [
    "27/3"
   ]
  },
  {
   "cell_type": "markdown",
   "metadata": {},
   "source": [
    "*You might be wondering why there is a decimal in the last output. Whenever the computer does division, it uses [floating point arithmetic](https://en.wikipedia.org/wiki/Floating-point_arithmetic), and it is allowing for the fact that division doesn't always return a whole number.*\n",
    "\n",
    "\n",
    "Now, if we need to add up a whole bunch of numbers (or multiply them), we don't have to worry about doing it wrong, thanks to a property of arithmetic called **associativity**. Basically, it means if we want to compute a sum like $5+9+7$, it doesn't matter if we first do $5+9$, and then add 7, or if we do $9+7$ and then add 5. In other words, it doesn't matter if we first *associate* 5 with 9, or *associate* 9 with 7 — both ways give us the same result. Because of this, we say addition is *associative*. To distinguish between the two associations, we use parentheses like this:\n",
    "\n",
    "$$(5+9)+7 = 5+(9+7)$$\n",
    "\n",
    "In mathematics, using brackets (or parentheses) is a way of saying, \"Do this first!\"\n",
    "\n",
    "Go ahead and try this for yourself. Then, let the computer confirm it for you. We've entered the left-hand side of the above equality for you. To try the right-hand side, click on the $+$ sign in the tool bar at the top to add a new cell. Type in the right-hand side yourself, and press `Shift`+`Enter` to confirm the result."
   ]
  },
  {
   "cell_type": "code",
   "execution_count": null,
   "metadata": {},
   "outputs": [],
   "source": [
    "(5+9)+7"
   ]
  },
  {
   "cell_type": "markdown",
   "metadata": {},
   "source": [
    "The same thing works for multiplication. For example, $(2\\cdot 4)\\cdot 5 = 40 = 2\\cdot (4\\cdot 5)$. And of course, as well as being able to put brackets wherever we want, we can also change the order of the numbers without affecting the answer.\n",
    "\n",
    "Things get more complicated if we want to do both addition and multiplication in a single calculation, or if we want to bring subtraction or division into the picture. Consider this expression:\n",
    "\n",
    "$$3+7\\times 4$$\n",
    "\n",
    "Which operation should we do first? The addition, or the multiplication? Or does it matter? Let's try both ways using parentheses; as noted above, any operation in parentheses is always done first. We see the results in the two cells below:"
   ]
  },
  {
   "cell_type": "code",
   "execution_count": null,
   "metadata": {},
   "outputs": [],
   "source": [
    "(3+7)*4"
   ]
  },
  {
   "cell_type": "code",
   "execution_count": null,
   "metadata": {},
   "outputs": [],
   "source": [
    "3+(7*4)"
   ]
  },
  {
   "cell_type": "markdown",
   "metadata": {},
   "source": [
    "Interesting! Order *doesn't* matter when there's only addition or only multiplication involved, but as soon as we combine the two, the order (and hence, the placement of brackets) *does* make a difference.\n",
    "\n",
    "## Exercise\n",
    "\n",
    "Does order matter for subtraction or division? Let's see by using brackets again. In the code cells below, try a few examples to see what happens. We've done a couple for you to show you how they're written. Note that you can do more than one calculation in a cell by using a comma to separate them, and the results will be shown in the order they're entered."
   ]
  },
  {
   "cell_type": "code",
   "execution_count": null,
   "metadata": {},
   "outputs": [],
   "source": [
    "(10-3)-5, 10-(3-5)"
   ]
  },
  {
   "cell_type": "code",
   "execution_count": null,
   "metadata": {},
   "outputs": [],
   "source": [
    "(12/6)/2, 12/(6/2)"
   ]
  },
  {
   "cell_type": "code",
   "execution_count": null,
   "metadata": {},
   "outputs": [],
   "source": []
  },
  {
   "cell_type": "code",
   "execution_count": null,
   "metadata": {},
   "outputs": [],
   "source": []
  },
  {
   "cell_type": "markdown",
   "metadata": {},
   "source": [
    "## The Problem\n",
    "\n",
    "How do we (or a computer) figure out the answer to a really complicated expression like this?\n",
    "\n",
    "$$8 + 5/3^{2} \\times (7 - 4)/(6 + 9)$$\n",
    "    \n",
    "The answer is the same for both humans and computers. We need to:\n",
    "\n",
    "1. Break the problem down into simpler steps, and\n",
    "2. Determine the order in which those steps should be performed.\n",
    "\n",
    "We know what the simpler steps should be; these are the individual arithmetic operations. How do we determine the order? The short answer is that there is an agreed-upon convention. In other words, everybody agrees to do operations in the same order so that they always get the same answer.  This order is called (conveniently) the **order of operations**.\n"
   ]
  },
  {
   "cell_type": "markdown",
   "metadata": {},
   "source": [
    "### The Order of Operations is:\n",
    "\n",
    "* **B**rackets\n",
    "* **E**xponents\n",
    "* **D**ivision\n",
    "* **M**ultiplication\n",
    "* **A**ddition\n",
    "* **S**ubtraction\n",
    "\n",
    "This is commonly remembered by the acronym **BEDMAS**, or **PEMDAS** (if we use the word \"parentheses\" instead of \"brackets\") or even **BODMAS** (if we use \"orders\" instead of \"exponents\"). Some people remember this order by the phrase **P**lease **E**xcuse **M**y **D**ear **A**unt **S**ally.\n",
    "\n",
    "*Did you notice? the **D** and **M** in **PEMDAS** are switched around!  Doesn't that change things?  (The answer is coming up!)*\n",
    "\n",
    "Here's a way to visualize the order of operations.  Higher operations are done first.\n",
    "\n",
    "![Pyramid](http://4.bp.blogspot.com/-zfTGFH6aoZw/VU1oBBlxVVI/AAAAAAAACM0/kBKeNwlnMd0/s1600/Slide1.png)"
   ]
  },
  {
   "cell_type": "markdown",
   "metadata": {},
   "source": [
    "#### What happens if there are multiple operations on the same level of the pyramid?\n",
    "\n",
    "This means they have the same amount of importance, and so they're treated as if they were the same operation.  (Technically, it means they *are* the same operation—ask your teacher why!) In other words, we do **m**ultiplication and **d**ivision at the same time, left-to-right, then we do **a**ddition and **s**ubtraction at the same time, left-to-right."
   ]
  },
  {
   "cell_type": "markdown",
   "metadata": {},
   "source": [
    "### But why do we have the order of operations? And why not a different order?\n",
    "\n",
    "The short answer is because all operations boil down to addition and subtraction. It's true: exponents are repeated multiplication, and multiplication itself is repeated addition. So we want to do the most complex operations first before moving on to the simpler ones. Brackets are used to show associations that might break this order, which is why they must be done first. \n",
    "\n",
    "The long answer can be found here: http://mathforum.org/library/drmath/view/52582.html"
   ]
  },
  {
   "cell_type": "markdown",
   "metadata": {},
   "source": [
    "Let's try a simple calculation with two operations. If we want to explicitly tell the computer which operation to perform first, we can use brackets. First, we try doing the addition first:"
   ]
  },
  {
   "cell_type": "code",
   "execution_count": null,
   "metadata": {},
   "outputs": [],
   "source": [
    "(3 + 5) * 6"
   ]
  },
  {
   "cell_type": "markdown",
   "metadata": {},
   "source": [
    "Next, let's see what we get if we do the multiplication first:"
   ]
  },
  {
   "cell_type": "code",
   "execution_count": null,
   "metadata": {},
   "outputs": [],
   "source": [
    "3 + (5 * 6)"
   ]
  },
  {
   "cell_type": "markdown",
   "metadata": {},
   "source": [
    "Finally, let's input the expression without any brackets, and let the computer take care of the order."
   ]
  },
  {
   "cell_type": "code",
   "execution_count": null,
   "metadata": {},
   "outputs": [],
   "source": [
    "3 + 5 * 6"
   ]
  },
  {
   "cell_type": "markdown",
   "metadata": {},
   "source": [
    "What was the result? Did it match either of the calcuations above it? Based on this example, does it appear as though the computer is following the order of operations?\n",
    "\n",
    "*******"
   ]
  },
  {
   "cell_type": "markdown",
   "metadata": {},
   "source": [
    "Are all computer programs created equal? Here are two calculators, from the same company, with the same input, but different outputs! Based on the BEDMAS order, which answer is right?\n",
    "\n",
    "*Note: 2(2+1) is the same as 2x(2+1), it's just a different way to write it.*<br>\n",
    "\n",
    "<div style=\"width: 300px;\"> <img src=\"https://saravanderwerf.com/wp-content/uploads/2018/04/order-of-operations-on-calc.jpg\"></div>\n",
    "\n",
    "Can you figure out how to add additional brackets to reproduce each result?"
   ]
  },
  {
   "cell_type": "markdown",
   "metadata": {},
   "source": [
    "## Example\n",
    "\n",
    "How do we evaluate the expression $2^3 \\times (4 + 8)$?\n",
    "\n",
    "### Solution\n",
    "\n",
    "Here is a step-by-step walk-through of the calculation:\n",
    "\n",
    "$$\\begin{align*}\n",
    "2^3 \\times \\mathbf{(4+8)} & = 2^3\\times 12 \\tag{Brackets first!}\\\\\n",
    "\\mathbf{2^3}\\times 12 & = 8\\times 12 \\tag{Exponents come next}\\\\\n",
    "\\mathbf{8\\times 12} & = 96 \\tag{Finally, the multiplication}\n",
    "\\end{align*}$$\n",
    "\n",
    "On the computer, we expect the following steps to be carried out:\n",
    "\n",
    ">2^3 $\\times$ **(4 $+$ 8)**\n",
    ">\n",
    ">**2^3** $\\times$ 12\n",
    ">\n",
    "> **8  $\\times$ 12**\n",
    ">\n",
    ">   96"
   ]
  },
  {
   "cell_type": "markdown",
   "metadata": {},
   "source": [
    "Let's check to see if it works:"
   ]
  },
  {
   "cell_type": "code",
   "execution_count": null,
   "metadata": {},
   "outputs": [],
   "source": [
    "2**3 * (4 + 8)"
   ]
  },
  {
   "cell_type": "markdown",
   "metadata": {},
   "source": [
    "Want to see another example? Watch this and try to solve it before they get to the solution!"
   ]
  },
  {
   "cell_type": "code",
   "execution_count": null,
   "metadata": {},
   "outputs": [],
   "source": [
    "# Youtube\n",
    "HTML('<iframe width=\"560\" height=\"315\" src=\"https://www.youtube.com/embed/Y3CZ_JBQ0do?rel=0&amp;start=17\" frameborder=\"0\" allow=\"autoplay; encrypted-media\" allowfullscreen></iframe>')"
   ]
  },
  {
   "cell_type": "markdown",
   "metadata": {},
   "source": [
    "*****\n",
    "\n",
    "### Mixing things up\n",
    "\n",
    "Let's start with a number and 3 operations that can be applied to the number:\n",
    "\n",
    ">5\n",
    ">\n",
    ">_ `x` 4\n",
    ">\n",
    ">_ `+` 7\n",
    ">\n",
    ">_ `^` 2"
   ]
  },
  {
   "cell_type": "markdown",
   "metadata": {},
   "source": [
    "Let's say we want to do the addition, then the exponent, then the multiplication.  What's the answer?\n",
    "\n",
    "5 + 7 = <font color='green'>12</font>\n",
    "<font color='green'>12</font>^2 = <font color='blue'>144</font>\n",
    "<font color='blue'>144</font> x 4 = 576\n",
    "\n",
    "The answer is 576. But if we type the same series of operations into the computer, what do we get?"
   ]
  },
  {
   "cell_type": "code",
   "execution_count": null,
   "metadata": {},
   "outputs": [],
   "source": [
    "5+7**2*4"
   ]
  },
  {
   "cell_type": "markdown",
   "metadata": {},
   "source": [
    "That's not what we want! But we shouldn't expect it to be: order of operations requires that the addition be performed last, not first!\n",
    "\n",
    "### Exercise:\n",
    "Re-enter the above expression in the cell below, and then add brackets as needed to get the correct order of operations. Be sure that your output matches the correct answer!"
   ]
  },
  {
   "cell_type": "code",
   "execution_count": null,
   "metadata": {},
   "outputs": [],
   "source": []
  },
  {
   "cell_type": "markdown",
   "metadata": {},
   "source": [
    "What output do we get by doing the exponent, then the addition, then the mulitplication?\n",
    "\n",
    "5^2 = <font color='green'>25</font>\n",
    "<font color='green'>25</font> + 7 = <font color='blue'>32</font>\n",
    "<font color='blue'>32</font> x 4 = 128\n",
    "\n",
    "How can we write these expressions in one line to get this output?"
   ]
  },
  {
   "cell_type": "code",
   "execution_count": null,
   "metadata": {},
   "outputs": [],
   "source": []
  },
  {
   "cell_type": "markdown",
   "metadata": {},
   "source": [
    "Were you able to get 128 as your answer? Again, we see that the brackets are necessary. If we leave them out, then the computer follows the order of operations convention, and we get:"
   ]
  },
  {
   "cell_type": "code",
   "execution_count": null,
   "metadata": {},
   "outputs": [],
   "source": [
    "5**2+7*4"
   ]
  },
  {
   "cell_type": "code",
   "execution_count": null,
   "metadata": {},
   "outputs": [],
   "source": []
  },
  {
   "cell_type": "markdown",
   "metadata": {},
   "source": [
    "## What did we learn?\n",
    "In this notebook, we learned:\n",
    "\n",
    "* There is a logical order to the operations\n",
    "* The order is:\n",
    "    * **B**rackets\n",
    "    * **E**xponents\n",
    "    * **D**ivision\n",
    "    * **M**ultiplication\n",
    "    * **A**ddition\n",
    "    * **S**ubtraction\n",
    "* Division and multiplication have the same priority\n",
    "* Addition and subtraction do too"
   ]
  },
  {
   "cell_type": "markdown",
   "metadata": {},
   "source": [
    "[![Callysto.ca License](https://github.com/callysto/curriculum-notebooks/blob/master/callysto-notebook-banner-bottom.jpg?raw=true)](https://github.com/callysto/curriculum-notebooks/blob/master/LICENSE.md)"
   ]
  }
 ],
 "metadata": {
  "kernelspec": {
   "display_name": "Python 3 (ipykernel)",
   "language": "python",
   "name": "python3"
  },
  "language_info": {
   "codemirror_mode": {
    "name": "ipython",
    "version": 3
   },
   "file_extension": ".py",
   "mimetype": "text/x-python",
   "name": "python",
   "nbconvert_exporter": "python",
   "pygments_lexer": "ipython3",
   "version": "3.9.12"
  }
 },
 "nbformat": 4,
 "nbformat_minor": 4
}
