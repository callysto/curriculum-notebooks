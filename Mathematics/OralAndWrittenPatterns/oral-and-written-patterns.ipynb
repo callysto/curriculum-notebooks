{
 "cells": [
  {
   "cell_type": "markdown",
   "metadata": {},
   "source": [
    "![Callysto.ca Banner](https://github.com/callysto/curriculum-notebooks/blob/master/callysto-notebook-banner-top.jpg?raw=true)\n",
    "\n",
    "<a href=\"https://hub.callysto.ca/jupyter/hub/user-redirect/git-pull?repo=https%3A%2F%2Fgithub.com%2Fcallysto%2Fcurriculum-notebooks&branch=master&subPath=Mathematics/OralAndWrittenPatterns/oral-and-written-patterns.ipynb&depth=1\" target=\"_parent\"><img src=\"https://raw.githubusercontent.com/callysto/curriculum-notebooks/master/open-in-callysto-button.svg?sanitize=true\" width=\"123\" height=\"24\" alt=\"Open in Callysto\"/></a>"
   ]
  },
  {
   "cell_type": "code",
   "execution_count": null,
   "metadata": {},
   "outputs": [],
   "source": [
    "import plotly.graph_objects as go\n",
    "import ipywidgets as widgets\n",
    "from IPython.display import YouTubeVideo"
   ]
  },
  {
   "cell_type": "markdown",
   "metadata": {},
   "source": [
    "# Understanding Patterns\n",
    "\n",
    "## Introduction\n",
    "\n",
    "Patterns appear all around us in everyday life, and in nature. \n",
    "Here are some examples of patterns in action:"
   ]
  },
  {
   "cell_type": "markdown",
   "metadata": {},
   "source": [
    "\n",
    "Nature | Greek Mythology | Building\n",
    "- | - | -\n",
    "![](https://i.redd.it/f3y77ihpx5cy.gif) | ![](https://bavatuesdays.com/wp-content/uploads/2011/05/jason_hydra-01.gif) | ![](https://media3.giphy.com/media/3o85xkpCruOJPGtBMQ/giphy.gif?cid=ecf05e47kc5b9wqm8wh9av168uoaqbyxva19mfxghm2ph6zd&rid=giphy.gif&ct=g)"
   ]
  },
  {
   "cell_type": "markdown",
   "metadata": {},
   "source": [
    "One of the fun parts of math is discovering how we can use math to understand the world around us. Today we're going to learn how math can help us understand patterns!"
   ]
  },
  {
   "cell_type": "markdown",
   "metadata": {},
   "source": [
    "## Background\n",
    "\n",
    "Today we're going to look at patterns that we can describe using numbers. All of the patterns we're going to talk about today are called **sequences**, where there is an ordering to the pattern. Consider how the alphabet has the ordering: A, B, C, D, and so on. A is the *first* item in our sequence, and Z is the *last* element in our sequence. Not all sequences have an end, some of then keep going, and going, and going! Another simple sequence is the positive number line, where the next number is the previous number plus one.\n",
    "\n",
    "### The Alphabet as a sequence\n",
    "![](images/AlphabetSequence.svg )\n",
    "\n",
    "\n",
    "If we wanted to represent the sequence in a table as we often do with sequences, we'll use n to represent when the term appears in the sequence, and x will represent the term itself:\n",
    "\n",
    "| $n$|  1 | 2 | 3 | 4 | 5 | 6 | 7 | 8 | 9 | 10 | 11 | 12 | 13 | 14 | 15 | 16 | 17 | 18 | 19 | 20 | 21 | 22 | 23 | 24 | 25 | 26 | \\\n",
    "| $x$|  A | B | C | D | E | F | G | H | I | J  | K  | L  | M  | N  | O  | P  | Q  | R  | S  | T  | U  | V  | W  | X  | Y  | Z  |\n",
    "\n",
    "### The Counting Numbers\n",
    "![](images/PositiveNumberLine.svg )\n"
   ]
  },
  {
   "cell_type": "markdown",
   "metadata": {},
   "source": [
    "## Examples:\n",
    "\n",
    "In Greek mythology, there is a tale where the hero Hercules has to fight a three headed [Hydra](https://en.wikipedia.org/wiki/Lernaean_Hydra), which has the ability to regrow its heads after they've been severed. The feat quickly becomes much harder than it originally looks, as everytime the Hydra loses a head, *TWO* grow in its place! \n",
    "\n",
    "How can we think of this as a pattern? To start, let's say the Hydra has just one head, and after Hercules removes this head, there are now two in its place, for a total of three heads. Removing one of those heads results in two more growing back, for a total of four heads, and so on!  For this example, let's break it down at look at some small cases first. \n",
    "\n",
    "- The first number in the pattern: **3**  (the number of heads the hydra has to start)\n",
    "\n",
    "- The second number in the pattern: **4** (after one head is cut off)\n",
    "\n",
    "- The third number in the pattern: **5** (after another head is removed)\n",
    "\n",
    "- The fourth number in the pattern: **6** (another one)\n",
    "\n",
    "\n",
    "\n",
    "Does this sound familiar? That's because the **rule** for the hydra pattern is the similar to the number line we saw above. A rule lets us accurately describe a sequence in a formula. We call it a rule because every item in our sequence will follow the rule. We want to try and make a rule as simple as possible. Then if we wanted to know how many heads the hydra had after 25 cuts we can know right away without counting from 1 cut up to 25 cuts.\n",
    "\n",
    "Let's think about it in words, first we have the amount from the previous step, then we take away one head which hercules chose to cut off, and then we add two heads which grow in its place. \n",
    "\n",
    "If we wanted to write it as a rule, we can do it like this:\n",
    "\n",
    "$ x_n = n + 3 $\n",
    "\n",
    "where $x$ is the number of heads, and $n$ is the number of cuts made by Hercules\n",
    "\n",
    "This is saying the $n^{th}$ number ($x_n$) in the pattern is equal to $n + 3$ because there was initially 3 heads before any were removed (i.e. number of cuts equals 0). Adding a number to $n$ will change the starting point of our sequence. If you're asked to count starting at 1 ($n=1$), or starting at 5 ($n=5$), you count the same way, just starting at a different number! Keep reading to find out how we figured out this rule."
   ]
  },
  {
   "cell_type": "markdown",
   "metadata": {},
   "source": [
    "## Arithmetic Sequences\n",
    "\n",
    "Above we defined what a **rule** is, now lets talk about types of sequences. \n",
    "\n",
    "**Arithmetic Sequences** increase by a fixed number which we call the **difference**, as it is the difference between two consecutive terms in the sequence. This means the gap between the 99th and the 100th term is the same as between the 1st and the 2nd. \n",
    "\n",
    "Let's do an example, here are two representations of an arithmetic sequence: \n",
    "\n",
    "#### Number Line:\n",
    "\n",
    "![](images/ArithmeticSequence.svg)\n",
    "\n",
    "\n",
    "|$n$|$x$|\n",
    "|:-|:-|\n",
    "|**1**| 1|\n",
    "|**2**| 3|\n",
    "|**3**| 5|\n",
    "|**4**| 7|\n",
    "|**5**| 9| \n",
    "|**6**| 11|\n",
    "\n",
    "Try to find out what the difference, starting value and rule are! Once you're ready, however below to see the answers:\n",
    "\n",
    "The above difference is 2, and the starting value is 1, one **rule** for this arithmetic sequence is this:\n",
    "$ x_n = 2(n-1) + 1 = 2n - 2 + 1 = 2n -1 $\n",
    "\n",
    "In general, the rule of an arithmetic sequence has the form:\n",
    "\n",
    "$ x_n = a(n-1) + b $\n",
    "\n",
    "where $a$ is the difference, $b$ is the first value, and $n$ is the step.\n",
    "\n",
    "\n",
    "### Arithmetic Sequence Visualization"
   ]
  },
  {
   "cell_type": "code",
   "execution_count": null,
   "metadata": {},
   "outputs": [],
   "source": [
    "# Sliders to select values\n",
    "diff = widgets.IntSlider(value = 1,\n",
    "                         min=1,\n",
    "                         max=10,\n",
    "                         description='Difference',\n",
    "                         continuous_update=False,\n",
    "                         readout=True)\n",
    "init = widgets.IntSlider(value = 1,\n",
    "                         min=1,\n",
    "                         max=10,\n",
    "                         description='Initial Value',\n",
    "                         continuous_update=False,\n",
    "                         readout=True)\n",
    "# Plot\n",
    "fig0 = go.FigureWidget()\n",
    "scattf = fig0.add_scatter(mode='markers', marker_size=20)\n",
    "scatt = scattf.data[-1]\n",
    "\n",
    "def response(change):\n",
    "    nums = []\n",
    "    with fig0.batch_update():\n",
    "        for i in range(1,10):\n",
    "            nums.append((diff.value*(i-1)) + init.value) # Same formula as above\n",
    "        fig0.data[0].x = nums\n",
    "        fig0.data[0].y = [0]*len(nums)\n",
    "        fig0.update_yaxes(showgrid=False, \n",
    "             zeroline=True, zerolinecolor='black', zerolinewidth=3,\n",
    "             showticklabels=False)\n",
    "        fig0.update_xaxes(ticks=\"outside\")\n",
    "        fig0.update_layout(height=200, plot_bgcolor='white')\n",
    "\n",
    "diff.observe(response, names=\"value\")\n",
    "init.observe(response, names=\"value\")\n",
    "\n",
    "response('')\n",
    "\n",
    "widgets.VBox([diff,\n",
    "              init,\n",
    "              fig0])"
   ]
  },
  {
   "cell_type": "markdown",
   "metadata": {},
   "source": [
    "## Geometric Sequences\n",
    "\n",
    "**Geometric Sequences** can increase very quickly compared to arithmetic sequences. To get the next term in a geometric sequence, we **multiply** the previous term by a constant, this is different from the arithmetic sequence which **adds** a constant to the previous term. Let's do another example:\n",
    "\n",
    "![](images/GeometricSequence.svg)\n",
    "\n",
    "|$n$|$x$|\n",
    "|:-|:-|\n",
    "|**1**| 1|\n",
    "|**2**| 2|\n",
    "|**3**| 4|\n",
    "|**4**| 8|\n",
    "|**5**| 16 |\n",
    "|**6**| 32 |\n",
    "\n",
    "In the above sequence, we can see that our terms appear to be double the previous rate, for example the ratio of $2:4$ is the same as the ratio of $4:8$, or $8:16$ and so on. These ratios can all be simplified to $1:2$. The term **common ratio** refers to the simplified right hand side of the ratio of any two consecutive terms. So for example, the common ratio of this sequence is $2$.\n",
    "\n",
    "If we look at the table, we can see that each term is twice as large, that means that we can imagine it's just multiplied by two. So thinking about what the 5th term would be, it should have been doubled 4 times from the first term, so that means\n",
    "\n",
    "$\\text{first term} * 2 * 2 * 2 * 2 = \\text{5th term}$ \n",
    "\n",
    "**Exponents** give us an easier way to represent this, as remember that $2^4 = 2*2*2*2$, since exponents represent multiplying the **base**, in this case 2, 4 times. Sometimes people would say this is \"two raised to the power of 4\". Not only does it keep showing your work simpler, think about saying $2^{12}$ as \n",
    "\n",
    ">*\"Two raised to the power of 12\"* \n",
    "\n",
    "versus \n",
    "\n",
    ">*\"Two times two times two times two times two times two times two times two times two times two times two times two times\"*\n",
    "\n",
    "So using exponents, we can express the fifth term as the first term times $2^4$. Remember, because the first term hasn't been doubled yet, we only want to raise 2 to the power of 4, **not** 5. It's easy to get tripped up on this! Let's look at how this works in general.\n",
    "\n",
    "For our example above, a general rule to find any term is:\n",
    "\n",
    "$x_n = 2^{n-1}$\n",
    "\n",
    "See how we're raising 2 to the (n-1)th power? that's because as we observed above, the first term specifically hasn't been doubled yet. How does that workout? $x_1 = 2^{1-1} = 2^{0} = 1$. In case you haven't encountered 0 powers yet, just remember that any number to the power 0 is equal to 1.\n",
    "\n",
    "Any geometric sequence can be describe using exponents rule:\n",
    "\n",
    "$x_n = ar^{n-1}$\n",
    "\n",
    "Where $a$ is the first term in the sequence, and $r$ represents the common ratio of the geometric sequence. \n",
    "\n",
    "Try out some different common ratios and initial values to see what sort of geometric sequences you can produce!\n",
    "\n",
    "### Geometric Sequence Visualization"
   ]
  },
  {
   "cell_type": "code",
   "execution_count": null,
   "metadata": {},
   "outputs": [],
   "source": [
    "# Sliders to select values\n",
    "ratio = widgets.IntSlider(value = 1,\n",
    "                         min=1,\n",
    "                         max=10,\n",
    "                         description='Ratio',\n",
    "                         continuous_update=False,\n",
    "                         readout=True)\n",
    "init = widgets.IntSlider(value = 1,\n",
    "                         min=1,\n",
    "                         max=10,\n",
    "                         description='Initial Value',\n",
    "                         continuous_update=False,\n",
    "                         readout=True)\n",
    "# Plot\n",
    "fig1 = go.FigureWidget()\n",
    "scattf = fig1.add_scatter(mode='markers', marker_size=20)\n",
    "scatt = scattf.data[-1]\n",
    "\n",
    "def response(change):\n",
    "    nums = []\n",
    "    with fig1.batch_update():\n",
    "        for i in range(1,10):\n",
    "            prod = init.value*(ratio.value**(i-1)) # Same formula as above\n",
    "            nums.append(prod)\n",
    "        fig1.data[0].x = nums\n",
    "        fig1.data[0].y = [0]*len(nums)\n",
    "        fig1.update_yaxes(showgrid=False, \n",
    "             zeroline=True, zerolinecolor='black', zerolinewidth=3,\n",
    "             showticklabels=False)\n",
    "        fig1.update_xaxes(ticks=\"outside\")\n",
    "        fig1.update_layout(height=200, plot_bgcolor='white')\n",
    "\n",
    "\n",
    "ratio.observe(response, names=\"value\")\n",
    "init.observe(response, names=\"value\")\n",
    "\n",
    "response('')\n",
    "\n",
    "widgets.VBox([ratio,\n",
    "              init,\n",
    "              fig1])"
   ]
  },
  {
   "cell_type": "markdown",
   "metadata": {},
   "source": [
    "### Arithmetic and Geometric Questions\n",
    "\n",
    "* Given the arithmetic sequence below, what is the initial value  and difference for this sequence? You may use the visualization tool above to help you find the answers.\n",
    "\n",
    "| $n$| 1 | 2 | 3 | 4 | 5 | 6 |\n",
    "|:--:|:--:|:--:|:--:|:--:|:--:|:--:|\n",
    "| $x$|2 | 6 | 10 | 14 | 18 | 22|\n",
    "\n",
    "\n",
    "\n",
    "* What would happen if the difference for a sequence was a negative number? Remember that the difference describes the gap between two terms. Could we have a negative initial value aswell? \n",
    "\n",
    "\n",
    "* What if the common ratio was a proper fraction? What about if it was a negative number? How can we understand a negative ratio?\n",
    "\n",
    "\n",
    "* It's possible to explain a sequence using more than one rule. Try to come up with a sequence which can be explained using a geometric rule AND an arithmetic rule!\n",
    "\n",
    "\n"
   ]
  },
  {
   "cell_type": "markdown",
   "metadata": {},
   "source": [
    "## The Fibonacci Sequence"
   ]
  },
  {
   "cell_type": "markdown",
   "metadata": {},
   "source": [
    "![](images/frazzComic.gif)"
   ]
  },
  {
   "cell_type": "markdown",
   "metadata": {},
   "source": [
    "We have just scratched the surface of patterns. While arithmetic and geometric sequences are quite useful, there are also other unique patterns which are quite interesting to look at. One of the most famous patterns is called the Fibonacci Sequence. We can find examples of it all throughout nature. That green gif at the beginning of this notebook is a Romanesco Broccoli, and the number of spirals on one head is a Fibonacci number. A **Fibonacci number** is any number which appears in the Fibonacci sequence. More locally, the Fibonacci sequence arises if we look at the cones of a pine tree. The rule for the Fibonacci sequence is a bit more complex than the previous sequences we've looked at, as it's not increasing by a constant or a constant ratio. Instead, to get the next term in the sequence, we add the previous two terms together. Here's the rule expressed mathematically:\n",
    "\n",
    "$x_n = x_{n-1} + x_{n-2} \\text{  ( if n is bigger than 2 )}$\n",
    "\n",
    "$x_1 = 1 \\textit{ and } x_2 = 1$\n",
    "\n",
    "Let's put it to work and figure out the first few numbers in the sequence, starting with 1 and 1:\n",
    "\n",
    "$1 + 1 = 2 = x_3$\n",
    "\n",
    "$1 + 2 = 3 = x_4$\n",
    "\n",
    "$2 + 3 = 5 = x_5$\n",
    "\n",
    "$3 + 5 = 8 = x_6$\n",
    "\n",
    "$5 + 8 = 13 = x_7$\n",
    "\n",
    "Here's a video by ViHart talking about spirals and the Fibonacci sequence in nature:"
   ]
  },
  {
   "cell_type": "code",
   "execution_count": null,
   "metadata": {},
   "outputs": [],
   "source": [
    "YouTubeVideo('ahXIMUkSXX0')"
   ]
  },
  {
   "cell_type": "markdown",
   "metadata": {},
   "source": [
    "## Triangle and Square Numbers\n",
    "\n",
    "There are even interesting patterns we can find in real life, and model them using rules! For example, if you've heard of the square of a number, lets say n, the square is $n^2 = n * n$. This also can be interpreted as a square with side length n. We can also visualize it as dots on a grid, and the square of n is how many dots are in the square with n dots as a side. \n",
    "\n",
    "![]( images/square_nums.svg )\n",
    "\n",
    "The rule to determine how many dots we need is then simply:\n",
    "\n",
    "$x_n = n^2$\n",
    "\n",
    "What if instead of drawing squares, we wanted to draw triangles? This is where things get a little more tricky. \n",
    "\n",
    "![]( images/triangle_nums.svg )\n",
    "\n",
    "The rule for the triangle numbers is a little trickier than for the square numbers. Realize that just as in the square numbers, $n$ is the side length of the triangle. It is as follows:\n",
    "\n",
    "$x_n = \\frac{n(n+1)}{2}$\n",
    "\n",
    "Trying this rule we can see that it is correct for the first few cases:\n",
    "\n",
    "$x_1 = \\frac{1(1+1)}{2} = \\frac{1(2)}{2} = 1$\n",
    "\n",
    "$x_2 = \\frac{2(2+1)}{2} = \\frac{2(3)}{2} = 3$\n",
    "\n",
    "$x_3 = \\frac{3(3+1)}{2} = \\frac{3(4)}{2} = 6$\n",
    "\n",
    "At first you may think perhaps at some point there should be a fraction since we're dividing by 2. However the whole numbers alternate between odd and even, so that means between $n$ and $(n+1)$ in the numerator, one of these terms *must* be even so there will be a cancellation possible.\n",
    "\n",
    "The rule for the triangle numbers arises in many places, for example if you wanted to build a house of cards, or determine how many logs are in a triangular stack, you could save a lot of headache by using the rule and counting the side length instead of counting up every individual piece."
   ]
  },
  {
   "cell_type": "markdown",
   "metadata": {},
   "source": [
    "### More questions\n",
    "\n",
    "* Can you draw a pinecone and count the spirals like in the video? Click this [link](http://www.maths.surrey.ac.uk/hosted-sites/R.Knott/Fibonacci/fibnat.html#section4.2) and go to section 4.2 to look at some other pinecones and their spirals.\n",
    " \n",
    "* What if we changed the starting two terms in the Fibonacci sequence for other numbers? Try substituting in different numbers and drawing the new sequence in a graph, number line or writing it in table. It won't be the Fibonacci sequence but a new sequence you came up with, what are you going to name your new discovery?\n",
    "\n",
    "* How many dots are in the following triangle? Remember that we can use the rule described above to save a lot of time and frustration counting! (Hint: Start by figuring out what your n value is, what does $n$ mean?)\n",
    "\n",
    "![](images/big_triang.svg)"
   ]
  },
  {
   "cell_type": "markdown",
   "metadata": {},
   "source": [
    "## Conclusion \n",
    "\n",
    "What did you learn about patterns in this notebook? We discussed the concepts of arithmetic and geometric sequences, and more patterns found in real life. We learned ways to concisely express complicated patterns using simple language and mathematics. Here is a brief review of the terms and concepts we touched on:\n",
    "\n",
    "A **rule** describes a sequence or pattern in a concise way, possibly using a formula. To determine the nth term, we would look at the rule for the case of $x_n$. \n",
    "\n",
    "The **initial value** is another way to say *the first term in the sequence*.\n",
    "\n",
    "\n",
    "\n",
    "**Arithmetic sequences** increased by a fixed amount between terms, this fixed amount is called the **difference**. \n",
    "\n",
    "The standard rule for arithmetic sequences is:\n",
    "$ x_n = an + b $\n",
    "Where a is the difference and b is the initial value.\n",
    "\n",
    "\n",
    "\n",
    "**Geometric sequences** increased by a **common ratio** which we can think of as the ratio between two sequential terms. \n",
    "\n",
    "The standard rule for geometric sequences is:\n",
    "$x_n = ar^{n-1}$\n",
    "Where a is the first term in the sequence, and r represents the common ratio of the geometric sequence. "
   ]
  },
  {
   "cell_type": "markdown",
   "metadata": {},
   "source": [
    "[![Callysto.ca License](https://github.com/callysto/curriculum-notebooks/blob/master/callysto-notebook-banner-bottom.jpg?raw=true)](https://github.com/callysto/curriculum-notebooks/blob/master/LICENSE.md)"
   ]
  }
 ],
 "metadata": {
  "kernelspec": {
   "display_name": "Python 3 (ipykernel)",
   "language": "python",
   "name": "python3"
  },
  "language_info": {
   "codemirror_mode": {
    "name": "ipython",
    "version": 3
   },
   "file_extension": ".py",
   "mimetype": "text/x-python",
   "name": "python",
   "nbconvert_exporter": "python",
   "pygments_lexer": "ipython3",
   "version": "3.9.12"
  },
  "nbTranslate": {
   "displayLangs": [
    "*"
   ],
   "hotkey": "alt-t",
   "langInMainMenu": true,
   "sourceLang": "en",
   "targetLang": "fr",
   "useGoogleTranslate": true
  }
 },
 "nbformat": 4,
 "nbformat_minor": 4
}
