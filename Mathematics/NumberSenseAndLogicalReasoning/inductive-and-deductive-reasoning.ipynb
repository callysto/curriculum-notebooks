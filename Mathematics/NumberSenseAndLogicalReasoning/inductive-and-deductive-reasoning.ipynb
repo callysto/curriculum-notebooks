{
 "cells": [
  {
   "cell_type": "code",
   "execution_count": 1,
   "metadata": {},
   "outputs": [],
   "source": [
    "import ipywidgets as widgets"
   ]
  },
  {
   "cell_type": "markdown",
   "metadata": {},
   "source": [
    "# Inductive Reasoning and Deductive Reasoning\n",
    "\n",
    "There are two forms of reasoning that that are useful when investigating a piece of mathematics.\n",
    "\n",
    "* `Inductive reasoning` involves looking for __patterns__ in evidence in order to come up with conjectures (i.e. things that are likely to be true). This sort of reasoning will __not__ tell you whether or not something actually _is_ true but it is still very useful for making connections and figuring out what to investigate next.\n",
    "\n",
    "* `Deductive reasoning` involves starting with what you __know__ and logically figuring out if some conjecture __must__ also be true (and why). While deductive reasoning is stronger than inductive reasoning, it can also be more difficult to use.\n",
    "\n",
    "In practice, one will often use `inductive reasoning` to make conjectures and `deductive reasoning` to verify them. In some cases producing a conjecture will require a mix of inductive and deductive reasoning.\n",
    "\n",
    "In this notebook we will go over some example problems to help illustrate how one would go about using `inductive` and `deductive` reasoning in problem solving while avoiding pitfalls. Being able to apply these skills will make you a more effective problem solver. Being able to distinguish between the two will help you maintain a clear understanding of what you're doing, why you're doing it, and avoid mistakes in the processs."
   ]
  },
  {
   "cell_type": "markdown",
   "metadata": {},
   "source": [
    "## A Flawed Application of Inductive Reasoning\n",
    "\n",
    "In this problem a circle is partitioned into regions by adding dots to the edges and drawing chords connecting them. The circle on the top left has only a single dot and a single region. The next one has two dots and two regions.\n",
    "\n",
    "Before we can apply inductive reasoning we need some examples. To that end I've counted the number of regions for the first five cases:\n",
    "\n",
    "$$1, 2, 4, 8, 16.$$\n",
    "\n",
    "It looks like there is a pattern here. Inductive reasoning might suggest that the circle with $n$ dots will have $2^{n-1}$ regions, is that true?\n",
    "\n",
    "Try counting the number of regions in the sixth case.\n",
    "\n",
    "![Circle Regions](./images/circles.png \"circle regions\")\n",
    "\n",
    "Unfortunately, as it turns out the sixth circle will break down into $31$ regions (the last one is contained in the intersection at the center, almost inexistent because of how I drew it), not $32$. This is an example where inductive reasoning can lead you astray. Fortunately for us we managed to find a counterexample right away but there are conjectures where the first counterexample took decades to find and required numbers so large that it's virtually impossible for people to find them by hand. So we should always be very skeptical about the things inductive thinking may lead us to believe."
   ]
  },
  {
   "cell_type": "markdown",
   "metadata": {},
   "source": [
    "## Some Flawed Applications of Deductive Reasoning\n",
    "\n",
    "Deductive reasoning can also fail us if we are not careful. It is possible to get caught up manipulating equations and not realize there's an underlying logical problem.\n",
    "\n",
    "Here are two flawed proofs. Try and find the problem in each one!\n",
    "\n",
    "### A Classic Flawed Proof\n",
    "\n",
    "There are a few variations of this proof (with the same flaw) floating around. Every so often a student rediscovers it and thinks they've broken math.\n",
    "\n",
    "Let $a=b$.\n",
    "\n",
    "Then it follows that $b^2=ab$.\n",
    "\n",
    "$$\n",
    "\\begin{align*}\n",
    "    a^2 - b^2 &= a^2 - b^2\\\\\n",
    "    a^2 - b^2 &= a^2 - ab \\tag{Since $b^2=ab$}\\\\\n",
    "    (a+b)(a-b) &= (a)(a-b) \\tag{Factoring}\\\\\n",
    "    a+b &= a \\tag{Divide by sides by $a-b$}\\\\\n",
    "    2a &= a \\tag{Since $a=b$}\\\\\n",
    "    2 &= 1 \\tag{Divide both sides by $a$}\n",
    "\\end{align*}\n",
    "$$\n",
    "\n",
    "Hint: The problem involves division.\n",
    "\n",
    "The problem is introduced when both sides are divided by $a-b$ because $a-b=0$ and division by zero is not allowed (for reasons like this).\n",
    "\n",
    "### A Flawed Proof Involving Radicals\n",
    "\n",
    "This one is somewhat less common but still interesting.\n",
    "\n",
    "$$\n",
    "\\begin{align*}\n",
    "    -1 \n",
    "    &= i^2 \\\\\n",
    "    &= (i)(i) \\\\\n",
    "    &= \\sqrt{-1}\\sqrt{-1} \\\\\n",
    "    &= \\sqrt{(-1)(-1)} \\\\\n",
    "    &= \\sqrt{1} \\\\\n",
    "    &= 1\n",
    "\\end{align*}\n",
    "$$\n",
    "\n",
    "So $-1=1$.\n",
    "\n",
    "Hint: The problem involves distributing roots.\n",
    "\n",
    "The problem occurs because $\\sqrt{ab}=\\sqrt{a}\\sqrt{b}$ only holds when $a$ and $b$ are both greater than or equal to $0$ (neither $a$ nor $b$ are allowed to be negative)."
   ]
  },
  {
   "cell_type": "markdown",
   "metadata": {},
   "source": [
    "## Some Applications of Inductive Reasoning\n",
    "\n",
    "### Sum of the first n odd numbers\n",
    "\n",
    "Suppose you need to compute the sum of the first $100$ odd numbers. You could do this directly but that likely wouldn't be very fun or interesting. Let's instead try applying inductive reasoning to try to come up with a better way to do it.\n",
    "\n",
    "Before we can start looking for patterns we'll first need to generate some examples (so that we can use them as evidence later). Let's do that in Python:"
   ]
  },
  {
   "cell_type": "code",
   "execution_count": 2,
   "metadata": {
    "scrolled": true
   },
   "outputs": [
    {
     "name": "stdout",
     "output_type": "stream",
     "text": [
      "|  n | Odd | S(n)|\n",
      "------------------\n",
      "|  1 |   1 |   1 |\n",
      "|  2 |   3 |   4 |\n",
      "|  3 |   5 |   9 |\n",
      "|  4 |   7 |  16 |\n",
      "|  5 |   9 |  25 |\n",
      "|  6 |  11 |  36 |\n",
      "|  7 |  13 |  49 |\n",
      "|  8 |  15 |  64 |\n",
      "|  9 |  17 |  81 |\n",
      "| 10 |  19 | 100 |\n"
     ]
    }
   ],
   "source": [
    "# Create a list of odd numbers from 1 to 20 (incrementing by 2 each time).\n",
    "oddNumbers = range(1,20,2)\n",
    "\n",
    "# Print a nice heading.\n",
    "print('|  n | Odd | S(n)|')\n",
    "print('------------------')\n",
    "\n",
    "# For each odd number print the step, the number, and the sum of all odd numbers so far.\n",
    "step = 0\n",
    "oddSum = 0\n",
    "for odd in oddNumbers:\n",
    "    step = step + 1\n",
    "    oddSum = oddSum + odd\n",
    "    print('|{:3d} | {:3d} | {:3d} |'.format(step, odd, oddSum))"
   ]
  },
  {
   "cell_type": "markdown",
   "metadata": {},
   "source": [
    "For brevity we'll use $S(n)$ to refer to the __sum of the first $n$ odd numbers__.\n",
    "\n",
    "The code above gives us a list of the first $10$ odd numbers as well as $S(n)$ for each one (eg. for $n=3$, the $3$rd odd is $5$ and $S(3) = 1 + 3 + 5 = 9$).\n",
    "\n",
    "Now look closely at the data and try to see if there is a pattern there. Maybe consider changing the 20 in `range(1,20,2)` to a larger value to obtain more examples.\n",
    "\n",
    "Hint: $1+3+5=3^2$."
   ]
  },
  {
   "cell_type": "markdown",
   "metadata": {},
   "source": [
    "A good conjecture might be that\n",
    "\n",
    "$$S(n)=n^2.$$\n",
    "\n",
    "Here is a slider that tests our conjecture against a larger range of values:"
   ]
  },
  {
   "cell_type": "code",
   "execution_count": 3,
   "metadata": {},
   "outputs": [
    {
     "data": {
      "application/vnd.jupyter.widget-view+json": {
       "model_id": "0b14de81a2b14fb981b9381b3b0a3caf",
       "version_major": 2,
       "version_minor": 0
      },
      "text/html": [
       "<p>Failed to display Jupyter Widget of type <code>VBox</code>.</p>\n",
       "<p>\n",
       "  If you're reading this message in the Jupyter Notebook or JupyterLab Notebook, it may mean\n",
       "  that the widgets JavaScript is still loading. If this message persists, it\n",
       "  likely means that the widgets JavaScript library is either not installed or\n",
       "  not enabled. See the <a href=\"https://ipywidgets.readthedocs.io/en/stable/user_install.html\">Jupyter\n",
       "  Widgets Documentation</a> for setup instructions.\n",
       "</p>\n",
       "<p>\n",
       "  If you're reading this message in another frontend (for example, a static\n",
       "  rendering on GitHub or <a href=\"https://nbviewer.jupyter.org/\">NBViewer</a>),\n",
       "  it may mean that your frontend doesn't currently support widgets.\n",
       "</p>\n"
      ],
      "text/plain": [
       "VBox(children=(IntSlider(value=1, description='n:', min=1), Output()))"
      ]
     },
     "metadata": {},
     "output_type": "display_data"
    }
   ],
   "source": [
    "num = widgets.IntSlider(description='n:', min=1)\n",
    "def oddCompare(num):\n",
    "    oddNumbers = range(1, num*2, 2)\n",
    "    oddSum = sum(list(oddNumbers))\n",
    "    print('S(n): {}'.format(oddSum))\n",
    "    print('n^2: {}'.format((num*num)))\n",
    "\n",
    "out = widgets.interactive_output(oddCompare, {'num': num})\n",
    "widgets.VBox([num, out])"
   ]
  },
  {
   "cell_type": "markdown",
   "metadata": {},
   "source": [
    "Now that we have a conjecture it is typically very helpful if we're able to take it further and come up with some guesses about __why__ the conjecture holds. In this case the trick is to realize that we can compute the sum of the first $n$ odd numbers by taking the sum of the first $n-1$ odd numbers and adding the $n$'th odd. In other words:\n",
    "\n",
    "$$S(n+1)=S(n) + (n+1)^{\\text{th}} \\text{ odd number}.$$\n",
    "\n",
    "For instance, $S(5) = 1 + 3 + 5 + 7 + 9 = S(4) + 9$.\n",
    "\n",
    "Then combining this insight with the fact that we can represent square numbers as squares yields this visualization:\n",
    "\n",
    "![Odds](./images/odds.png \"odd sums\")\n",
    "\n",
    "Unfortunately as convincing as this visual representation may be, it isn't strong enough to prove that $S(n)=n^2$ for all numbers $n$. In order to prove that it holds for all $n$ we require a more advanced proof technique that we don't currently have access to. So we must grit our teeth and accept the fact that _as far as we know_ there could exist some number out there for which this fails."
   ]
  },
  {
   "cell_type": "markdown",
   "metadata": {},
   "source": [
    "### Triangular numbers\n",
    "\n",
    "There is famous story about the mathematician Carl Friedrich Gauss who as a child in primary school was tasked with computing the sum of the first 100 numbers as a way to keep him busy. As the story goes, Gauss quickly realized a pattern and wrote down the answer of 5050 within a few seconds.\n",
    "\n",
    "For brevity we'll use $T(n)$ to refer to the __sum of the first $n$ numbers__.\n",
    "\n",
    "The trick to seeing the pattern in this problem isn't as straightforward as the last one. As before we'll need to generate some examples to analyze first."
   ]
  },
  {
   "cell_type": "code",
   "execution_count": 4,
   "metadata": {},
   "outputs": [
    {
     "name": "stdout",
     "output_type": "stream",
     "text": [
      "|  n  | T(n)|\n",
      "-------------\n",
      "|   1 |   1 |\n",
      "|   2 |   3 |\n",
      "|   3 |   6 |\n",
      "|   4 |  10 |\n",
      "|   5 |  15 |\n",
      "|   6 |  21 |\n",
      "|   7 |  28 |\n",
      "|   8 |  36 |\n",
      "|   9 |  45 |\n",
      "|  10 |  55 |\n"
     ]
    }
   ],
   "source": [
    "# Create a list of the first 10 numbers.\n",
    "numbers = range(1,11)\n",
    "\n",
    "# Print a nice heading.\n",
    "print('|  n  | T(n)|')\n",
    "print('-------------')\n",
    "\n",
    "# For each odd number print the number and the sum of all numbers so far.\n",
    "tSum = 0\n",
    "for num in numbers:\n",
    "    tSum = tSum + num\n",
    "    print('| {:3d} | {:3d} |'.format(num, tSum))"
   ]
  },
  {
   "cell_type": "markdown",
   "metadata": {},
   "source": [
    "Unfortunately this didn't turn out to be very insightful.\n",
    "\n",
    "Another approach we can take is to try to represent the sum differently. Taking a cue from the previous section we'll draw the sum visually:\n",
    "\n",
    "\n",
    "![Triangle Number](./images/triangle.png \"triangle number\")\n",
    "\n",
    "\n",
    "It is because of this representation that the sum of the first $n$ numbers is often referred to as a $n$'th `triangle number`. The value of our sum is represented by the 'area' of its triangular representation. Now, while it may not be easy to compute the area of such a triangle it is easy to compute the area of a rectangle and we can produce one by setting two triangles face to face:\n",
    "\n",
    "![Triangle Number Sum](./images/triangle-sum.png \"triangle number sum\")\n",
    "\n",
    "This representation suggests a good conjecture for computing the $n$'th triangle number:\n",
    "$$T(n)=\\frac{(n)(n+1)}{2}.$$\n",
    "\n",
    "Unfortunately we once again lack the advanced proof technique we need to prove (using deductive thinking) that this is true for all numbers $n$. So like before we've managed to obtain a really good conjecture through inductive thinking but are not able to confirm with certainty whether or not it's true."
   ]
  },
  {
   "cell_type": "markdown",
   "metadata": {},
   "source": [
    "### One Weird Trick\n",
    "\n",
    "From time to time neat computational tricks like this will go viral on social media. Unfortunately the people presenting them will typically only show a few flashy examples and leave the readers feeling completely mystified about __why__ the trick works (or worse, feeling betrayed when it fails).\n",
    "\n",
    "![One Weird Trick](./images/trick2.jpg \"Mathematicians hate him\")\n",
    "\n",
    "Before we start lets first rephrase what the picture is saying:\n",
    "\n",
    "To compute $(97)(96)$:\n",
    "1. For each of our values, compute their difference from $100$:\n",
    "  - $3=100-97$\n",
    "  - $4=100-96$\n",
    "2. Multiply the differences to compute the first two digits of the result:\n",
    "  - $12=(3)(4)$\n",
    "3. Add the differences and subtract the result from $100$ to compute the remaining digits of the result:\n",
    "  - $93=100-(3+4)$\n",
    "4. Glue the two results together to get the final result:\n",
    "  - $(97)(96)=9312$\n",
    "\n",
    "It looks like step 3 could be simplified a bit to $93 = 97 - 4$ or $93 = 96 - 3$\n",
    "\n",
    "In general it looks like the algorithm may be something like this:\n",
    "\n",
    "To compute $(a)(b)$:\n",
    "1. For each of our values, compute their difference from $100$:\n",
    "  - $a'=100-a$\n",
    "  - $b'=100-b$\n",
    "2. Multiply the differences to compute the first two digits of the result:\n",
    "  - $D=(a')(b')$\n",
    "3. Add the differences and subtract the result from $100$ to compute the remaining digits of the result:\n",
    "  - $C=a-b'$\n",
    "4. Glue the two results together to get the final result:\n",
    "  - $(a)(b)=C\\text{ appended with }D$"
   ]
  },
  {
   "cell_type": "markdown",
   "metadata": {},
   "source": [
    "Next lets have the computer generate some more examples for us so that we can get a better sense of the problem through `inductive reasoning`. The two sliders below let us choose some inputs and present the result created by the algorithm as well as the actual result with a message saying `Success!` if the algorithm gave the correct answer and `Fail!` if it gave the incorrect answer."
   ]
  },
  {
   "cell_type": "code",
   "execution_count": 5,
   "metadata": {},
   "outputs": [
    {
     "data": {
      "application/vnd.jupyter.widget-view+json": {
       "model_id": "013d02712a684a198e1650db8e31dcab",
       "version_major": 2,
       "version_minor": 0
      },
      "text/html": [
       "<p>Failed to display Jupyter Widget of type <code>VBox</code>.</p>\n",
       "<p>\n",
       "  If you're reading this message in the Jupyter Notebook or JupyterLab Notebook, it may mean\n",
       "  that the widgets JavaScript is still loading. If this message persists, it\n",
       "  likely means that the widgets JavaScript library is either not installed or\n",
       "  not enabled. See the <a href=\"https://ipywidgets.readthedocs.io/en/stable/user_install.html\">Jupyter\n",
       "  Widgets Documentation</a> for setup instructions.\n",
       "</p>\n",
       "<p>\n",
       "  If you're reading this message in another frontend (for example, a static\n",
       "  rendering on GitHub or <a href=\"https://nbviewer.jupyter.org/\">NBViewer</a>),\n",
       "  it may mean that your frontend doesn't currently support widgets.\n",
       "</p>\n"
      ],
      "text/plain": [
       "VBox(children=(IntSlider(value=100, description='a:', max=115, min=85), IntSlider(value=100, description='b:', max=115, min=85), Output()))"
      ]
     },
     "metadata": {},
     "output_type": "display_data"
    }
   ],
   "source": [
    "a = widgets.IntSlider(description='a:', min=85, max=115, value=100)\n",
    "b = widgets.IntSlider(description='b:', min=85, max=115, value=100)\n",
    "\n",
    "def multiply(a,b):\n",
    "    aDiff = 100-a\n",
    "    bDiff = 100-b\n",
    "    \n",
    "    firstTwo = aDiff*bDiff\n",
    "    lastTwo = a - bDiff\n",
    "    \n",
    "    result = str(lastTwo).lstrip('0') + str(firstTwo).zfill(2)\n",
    "    print('Result: {}'.format(result))\n",
    "    print('Actual product: {}'.format((a*b)))\n",
    "    if (result == str(a*b)):\n",
    "        print('Success!')\n",
    "    else:\n",
    "        print('Fail!')\n",
    "\n",
    "out = widgets.interactive_output(multiply, {'a': a, 'b':b})\n",
    "widgets.VBox([a,b, out])"
   ]
  },
  {
   "cell_type": "markdown",
   "metadata": {},
   "source": [
    "Playing around with the sliders it seems that the algorithm fails in two cases:\n",
    "1. Where the first digits in the result are greater than $100$.\n",
    "    * for instance, for $(101)(99)$ it gives `100-1` instead of `9999`\n",
    "2. Where the first digits in the result are negative.\n",
    "    * For instance, for $(110)(110)$ it gives `120120` instead of `12100`\n",
    "\n",
    "Can you see a pattern in the way the numbers fail, maybe a way to fix it?\n",
    "\n",
    "It seems like both instances can be fixed by carrying values. Perhaps, instead of gluing values together like strings we're actually supposed to be multiplying the last digits by $100$ and adding the first digits! For instance, instead of saying $$9312 = 93\\text{ appended with }12$$ we would say $$9312=(93)(100)+12.$$"
   ]
  },
  {
   "cell_type": "markdown",
   "metadata": {},
   "source": [
    "Lets update the algorithm with this change:\n",
    "\n",
    "To compute $(a)(b)$:\n",
    "1. For each of our values, compute their difference from $100$:\n",
    "  - $a'=100-a$\n",
    "  - $b'=100-b$\n",
    "2. Multiply the differences to compute the first two digits of the result:\n",
    "  - $D=(a')(b')$\n",
    "3. Add the differences and subtract the result from $100$ to compute the remaining digits of the result:\n",
    "  - $C=a - b'$\n",
    "4. Combine the two results together to get the final result:\n",
    "  - $(a)(b)=(C)(100) + D$\n",
    "\n",
    "In other words: $$ab = [a-(100-b)](100) + (100-b)(100-a).$$\n",
    "\n",
    "Next let's create a new version of the sliders:"
   ]
  },
  {
   "cell_type": "code",
   "execution_count": 6,
   "metadata": {},
   "outputs": [
    {
     "data": {
      "application/vnd.jupyter.widget-view+json": {
       "model_id": "04a66e0287c74f69b62002677878dc0d",
       "version_major": 2,
       "version_minor": 0
      },
      "text/html": [
       "<p>Failed to display Jupyter Widget of type <code>VBox</code>.</p>\n",
       "<p>\n",
       "  If you're reading this message in the Jupyter Notebook or JupyterLab Notebook, it may mean\n",
       "  that the widgets JavaScript is still loading. If this message persists, it\n",
       "  likely means that the widgets JavaScript library is either not installed or\n",
       "  not enabled. See the <a href=\"https://ipywidgets.readthedocs.io/en/stable/user_install.html\">Jupyter\n",
       "  Widgets Documentation</a> for setup instructions.\n",
       "</p>\n",
       "<p>\n",
       "  If you're reading this message in another frontend (for example, a static\n",
       "  rendering on GitHub or <a href=\"https://nbviewer.jupyter.org/\">NBViewer</a>),\n",
       "  it may mean that your frontend doesn't currently support widgets.\n",
       "</p>\n"
      ],
      "text/plain": [
       "VBox(children=(IntSlider(value=100, description='a:', max=115, min=85), IntSlider(value=100, description='b:', max=115, min=85), Output()))"
      ]
     },
     "metadata": {},
     "output_type": "display_data"
    }
   ],
   "source": [
    "a = widgets.IntSlider(description='a:', min=85, max=115, value=100)\n",
    "b = widgets.IntSlider(description='b:', min=85, max=115, value=100)\n",
    "\n",
    "def multiply(a,b):\n",
    "    aDiff = 100-a\n",
    "    bDiff = 100-b\n",
    "    \n",
    "    firstTwo = aDiff*bDiff\n",
    "    lastTwo = 100 - (aDiff + bDiff)\n",
    " \n",
    "    result = lastTwo*100 + firstTwo\n",
    "    print('Result: {}'.format(result))\n",
    "    print('Actual product: {}'.format((a*b)))\n",
    "    if (result == a*b):\n",
    "        print('Success!')\n",
    "    else:\n",
    "        print('Fail!')\n",
    "\n",
    "out = widgets.interactive_output(multiply, {'a': a, 'b':b})\n",
    "widgets.VBox([a,b, out])"
   ]
  },
  {
   "cell_type": "markdown",
   "metadata": {},
   "source": [
    "For the two failing examples mentioned above we now get:\n",
    "* For $(101)(99)$ we get `9999` which is correct!\n",
    "* For $(110)(110)$ we get `12100` which is correct!\n",
    "\n",
    "Now that we have a conjecture let's getting a better sense of why it works. One thing we can do is to take our equation from above:\n",
    "$$\n",
    "\\begin{align}\n",
    "ab &= [a-(100-b)](100) + (100-b)(100-a) \\\\\n",
    "&= (a)(100) - (100-b)(100) + (100-b)(100-a)\n",
    "\\end{align}\n",
    "$$\n",
    "\n",
    "We can visualize this:\n",
    "![Example](./images/products.png \"Example Multiplication\")\n",
    "\n",
    "Note: This visualization assumes that $a$ and $b$ are between $0$ and $100$ (though in our conjecture we also allow them be greater than $100$).\n"
   ]
  },
  {
   "cell_type": "markdown",
   "metadata": {},
   "source": [
    "In general these sorts of techniques where one performs a computation by manipulating the digits of a value is called an 'algorism' (not to be confused with algorithm). They're not really used very much these days (except for fast mental math gimicks).\n",
    "\n",
    "This particular algorism has a lot of generalizations for dealing with larger numbers but the reasoning behind them gets quite convoluted and in the end the most important part isn't proving that a algorism works for all numbers but that it works for all the numbers for which a mental computation is fast. In this case we can be satisfied by saying that this algorism works for numbers between $91$ and $109$ since those values are the easiest to use in practice."
   ]
  },
  {
   "cell_type": "markdown",
   "metadata": {},
   "source": [
    "## Some Applications of Deductive Reasoning\n",
    "\n",
    "### Fractions\n",
    "\n",
    "Fractions can be difficult to manipulate. Perhaps we can use deductive reasoning to come up with some easier ways to manipulate them.\n",
    "\n",
    "First some observations:\n",
    "1. Every number $a$ can be written in fraction form: $$ a=\\frac{a}{1}. $$\n",
    "2. For every number $a$, except in the case where $a=0$, we can write: $$ 1=\\frac{a}{a}. $$\n",
    "3. Multiplying two fractions just multiplies the numerators and denominators: $$ \\left( \\frac{a}{b}\\right) \\left( \\frac{c}{d} \\right) = \\frac{ac}{bd}. $$\n",
    "\n",
    "The first thing to note is that observation (3) gives us a way to factor any fraction: $$ \\frac{a}{b} = \\left( \\frac{a}{1}\\right) \\left( \\frac{1}{b} \\right). $$\n",
    "\n",
    "Cancellation follows from these observations as well: $$ (b) \\left(\\frac{a}{b}\\right) = \\left(\\frac{b}{1}\\right) \\left(\\frac{a}{1}\\right)\\left(\\frac{1}{b}\\right) = \\left(\\frac{b}{b}\\right) \\left(\\frac{a}{1}\\right) = (1)(a) = a$$\n",
    "\n",
    "Let's use these to manipulate some complicated fractions.\n",
    "\n",
    "$$\n",
    "\\begin{align*}\n",
    "    \\frac{a}{\\frac{1}{c}}\n",
    "    & = \\left( \\frac{a}{\\frac{1}{c}}\\right) (1) \\tag{Multiply by $1$}\\\\\n",
    "    & = \\left( \\frac{a}{\\frac{1}{c}}\\right) \\left(\\frac{c}{c} \\right) \\tag{By observation 2}\\\\\n",
    "    & = \\frac{ac}{\\left( \\frac{1}{c}\\right) (c)} \\tag{By observation 3}\\\\\n",
    "    & = \\frac{ac}{1} \\tag{By canceling}\\\\\n",
    "    & = ac \\tag{By observation 1}\n",
    "\\end{align*}\n",
    "$$\n",
    "\n",
    "Another more complicated example:\n",
    "$$\n",
    "\\begin{align*}\n",
    "    \\frac{\\frac{a}{b}}{\\frac{d}{c}}\n",
    "    & = \\left( \\frac{\\frac{a}{b}}{\\frac{d}{c}} \\right) (1)(1) \\tag{Multiply by $1$}\\\\\n",
    "    & = \\left( \\frac{\\frac{a}{b}}{\\frac{d}{c}} \\right) \\left(\\frac{b}{b} \\right)\\left(\\frac{c}{c} \\right) \\tag{By observation 2}\\\\\n",
    "    & = \\frac{\\left( \\frac{a}{b} \\right) (b)(c)}{\\left(\\frac{d}{c} \\right) (b)(c)} \\tag{By observation 3}\\\\\n",
    "    & = \\frac{ac}{db} \\tag{By canceling}\n",
    "\\end{align*}\n",
    "$$\n",
    "\n",
    "We can manipulate even the most complicated fractions by __cleverly multiplying by 1__ in this way.\n",
    "\n",
    "### Distributive Property\n",
    "\n",
    "The distributive property is extremely useful in simplifying expressions and performing computations. In fact, every multiplication algorithm you encounter will at some level boil down to some clever application of the distributive property. Simply put the distributive property tells us how addition and multiplication interact: $$(a+b)c = ac + bc.$$\n",
    "\n",
    "Since multiplication is commutative this statement is equivalent: $$a(c+d) = ac + ad.$$\n",
    "\n",
    "The FOIL mnemonic is just a special case of the distributive property:\n",
    "$$ (a+b)(c+d) = (a+b)c + (a+b)d = ac + bc + ad + bd. $$\n",
    "\n",
    "It is important to remember that the distributive property can be read two ways. In one sense it tells us how to distribute multiplication accross addition but in another sense it tells us how to undo that distribution. For example, suppose you have something like $6x + 10xy$. If we notice that both $6x$ and $10xy$ have $2x$ as a factor then we can rewrite that as $6x + 10xy = 2x(3 + 5y)$. This technique is an extremely useful application of deductive reasoning.\n",
    "\n",
    "### Mentally Computing Simple Percentages\n",
    "\n",
    "There are many occasions where one might be asked to compute a percentage of some value on the spot (eg. tipping at a restaurant). Fortunately there's a trick to doing it quickly.\n",
    "\n",
    "First notice that computing $10\\%$ is as easy as moving the decimal point one digit to the left (eg. $10\\%$ of $25.3$ is $2.53$). Similarly, $1\\%$ can be computed by moving the decimal point two digits to the left.\n",
    "\n",
    "From there on it's just a matter of adding, subtracting, and/or multiplying these percentages to get to the desired percentage. For instance, $18\\%$ can be computed by first computing $10\\%$, doubling the value to get $20\\%$, moving the decimal over one more time to get $2\\%$ and then subtracting the $2\\%$ value from the $20\\%$ value. It's easier than it sounds.\n",
    "\n",
    "This is an application of deductive reasoning because we reached all of the assertions here logically, not by looking at any patterns and conjecturing."
   ]
  },
  {
   "cell_type": "markdown",
   "metadata": {},
   "source": [
    "\n"
   ]
  }
 ],
 "metadata": {
  "kernelspec": {
   "display_name": "Python 3",
   "language": "python",
   "name": "python3"
  },
  "language_info": {
   "codemirror_mode": {
    "name": "ipython",
    "version": 3
   },
   "file_extension": ".py",
   "mimetype": "text/x-python",
   "name": "python",
   "nbconvert_exporter": "python",
   "pygments_lexer": "ipython3",
   "version": "3.6.5"
  }
 },
 "nbformat": 4,
 "nbformat_minor": 2
}
