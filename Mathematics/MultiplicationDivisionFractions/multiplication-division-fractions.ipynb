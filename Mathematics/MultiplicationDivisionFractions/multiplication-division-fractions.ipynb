{
 "cells": [
  {
   "cell_type": "markdown",
   "metadata": {},
   "source": [
    "![Callysto.ca Banner](https://github.com/callysto/curriculum-notebooks/blob/master/callysto-notebook-banner-top.jpg?raw=true)\n",
    "\n",
    "<a href=\"https://hub.callysto.ca/jupyter/hub/user-redirect/git-pull?repo=https%3A%2F%2Fgithub.com%2Fcallysto%2Fcurriculum-notebooks&branch=master&subPath=Mathematics/MultiplicationDivisionFractions/multiplication-division-fractions.ipynb&depth=1\" target=\"_parent\"><img src=\"https://raw.githubusercontent.com/callysto/curriculum-notebooks/master/open-in-callysto-button.svg?sanitize=true\" width=\"123\" height=\"24\" alt=\"Open in Callysto\"/></a>"
   ]
  },
  {
   "cell_type": "markdown",
   "metadata": {},
   "source": [
    "# Multiplying and Dividing Fractions\n",
    "\n",
    "## Multiplying Fractions\n",
    "\n",
    "Multiplying two fractions is taking a small piece from an already small piece. For example, we have half a bar of a candy bar and want to eat half of what we have, but we want to know how much of the whole candy bar we are going to be eating. \n",
    "\n",
    "$\\frac{1}{2} \\times \\frac{1}{2} = \\frac{1}{4}$\n",
    "\n",
    "### Visualizing multiplication of fractions\n",
    "\n",
    "Let's say we want to know what $\\frac15 \\times \\frac12$ is equal to. We'll create a visualization of this where we:\n",
    "\n",
    "1. cut a rectangle vertically into 5 equal pieces, and select one of them (in blue) to show $\\frac15$\n",
    "2. cut a second rectangle horizontally into 2 equal pieces, and select one of them (in yellow) to show $\\frac12$\n",
    "\n",
    "Click on the code cell below, then click the `▶Run` button to display the visualization."
   ]
  },
  {
   "cell_type": "code",
   "execution_count": null,
   "metadata": {},
   "outputs": [],
   "source": [
    "import matplotlib.pyplot as plt\n",
    "\n",
    "fig01 = plt.figure(figsize=(5,1))\n",
    "colors01 = [['blue','white','white','white','white']]\n",
    "table01 = plt.table(cellColours=colors01, loc='center')\n",
    "table01.scale(1, 2)\n",
    "plt.axis('off')\n",
    "plt.grid('off')\n",
    "plt.show()\n",
    "\n",
    "fig02 = plt.figure(figsize=(5,1))\n",
    "colors02 = [['yellow'],['white']]\n",
    "table02 = plt.table(cellColours=colors02, loc='center')\n",
    "plt.axis('off')\n",
    "plt.grid('off')\n",
    "plt.show()"
   ]
  },
  {
   "cell_type": "markdown",
   "metadata": {},
   "source": [
    "Now let's lay one rectangle on top of the other. `▶Run` the next visualization."
   ]
  },
  {
   "cell_type": "code",
   "execution_count": null,
   "metadata": {},
   "outputs": [],
   "source": [
    "fig = plt.figure(figsize=(5,1))\n",
    "colors = [['lime','yellow','yellow','yellow','yellow'],['blue','white','white','white','white']]\n",
    "table = plt.table(cellColours=colors, loc='center')\n",
    "plt.axis('off')\n",
    "plt.grid('off')\n",
    "plt.show()"
   ]
  },
  {
   "cell_type": "markdown",
   "metadata": {},
   "source": [
    "Do you see that there are now 10 pieces, and only one is green? The green piece represents the product of this multiplication. Therefore: $$\\frac15 \\times \\frac12 = \\frac{1}{10}$$\n",
    "\n",
    "The next visualization shows that if we had done things the other way around, using a vertical cut for $\\frac12$ and horizontal cuts for $\\frac15$."
   ]
  },
  {
   "cell_type": "code",
   "execution_count": null,
   "metadata": {},
   "outputs": [],
   "source": [
    "fig2 = plt.figure(figsize=(2,2))\n",
    "colors2 = [['lime','b'],['yellow','white'],['yellow','white'],['yellow','white'],['yellow','white']]\n",
    "table2 = plt.table(cellColours=colors2, loc='center')\n",
    "\n",
    "plt.axis('off')\n",
    "plt.grid('off')\n",
    "plt.show()"
   ]
  },
  {
   "cell_type": "markdown",
   "metadata": {},
   "source": [
    "The result is the same, so we see that the order in which we multiply fractions doesn't matter.\n",
    "\n",
    "$\\frac15 \\times \\frac12 = \\frac12 \\times \\frac15 = \\frac{1}{10}$\n",
    "\n",
    "## Dividing Fractions\n",
    "\n",
    "Division is the opposite of multiplication, so we see that division is the same as multiplying by the [reciprocal](https://en.wikipedia.org/wiki/Multiplicative_inverse).\n",
    "\n",
    "$10\\div 2 = 10\\times \\frac{1}{2} = 5$\n",
    "\n",
    "or another example\n",
    "\n",
    "$8 \\div \\frac{1}{3} = 8\\times\\frac{3}{1} = 8\\times 3 = 24$\n",
    "\n",
    "The expression $8 \\div \\frac{1}{3}$ is asking how many $\\frac{1}{3}$ pieces can fit into 8 pieces. Since it takes 3 thirds to make one and $8$ ones to make 8, we need $3\\times 8 = 24$ pieces of size $\\frac{1}{3}$ to make 8."
   ]
  },
  {
   "cell_type": "code",
   "execution_count": null,
   "metadata": {},
   "outputs": [],
   "source": [
    "fig3 = plt.figure(figsize=(2,2))\n",
    "colors3 = []\n",
    "for i in range(8):\n",
    "    colors3.append(['r','g','b'])\n",
    "table3 = plt.table(cellColours=colors3, loc='center')\n",
    "plt.axis('off')\n",
    "plt.grid('off')\n",
    "plt.show()"
   ]
  },
  {
   "cell_type": "markdown",
   "metadata": {},
   "source": [
    "## Fractions in Python\n",
    "\n",
    "We can also use the `fractions` code library to do calcuations with fractions."
   ]
  },
  {
   "cell_type": "code",
   "execution_count": null,
   "metadata": {},
   "outputs": [],
   "source": [
    "from fractions import Fraction as frac\n",
    "f1 = frac(1,5)\n",
    "f2 = frac(1,2)\n",
    "print(f1*f2)"
   ]
  },
  {
   "cell_type": "code",
   "execution_count": null,
   "metadata": {},
   "outputs": [],
   "source": [
    "print(8 / frac(1,3))"
   ]
  },
  {
   "cell_type": "code",
   "execution_count": null,
   "metadata": {},
   "outputs": [],
   "source": [
    "print(frac(7,8) / frac(2,3))"
   ]
  },
  {
   "cell_type": "markdown",
   "metadata": {},
   "source": [
    "## Summary\n",
    "\n",
    "- Unlike addition, multiplying fractions *does not* need common denominators. **D**ivision and **M**ultiplication = Denominator **D**oesn’t **M**atter \n",
    "- To multiply to fractions, multiply the numerators then the denominators (and then reduce if necessary)\n",
    "- It is often easier if you cancel common factors before multiplying fractions\n",
    "- Division is the inverse of multiplication, so dividing by a fraction is the same as multiplying by its reciprocal"
   ]
  },
  {
   "cell_type": "markdown",
   "metadata": {},
   "source": [
    "[![Callysto.ca License](https://github.com/callysto/curriculum-notebooks/blob/master/callysto-notebook-banner-bottom.jpg?raw=true)](https://github.com/callysto/curriculum-notebooks/blob/master/LICENSE.md)"
   ]
  }
 ],
 "metadata": {
  "kernelspec": {
   "display_name": "Python 3.10.1 64-bit",
   "language": "python",
   "name": "python3"
  },
  "language_info": {
   "codemirror_mode": {
    "name": "ipython",
    "version": 3
   },
   "file_extension": ".py",
   "mimetype": "text/x-python",
   "name": "python",
   "nbconvert_exporter": "python",
   "pygments_lexer": "ipython3",
   "version": "3.10.1"
  },
  "vscode": {
   "interpreter": {
    "hash": "d1ca6d17674200220921376aaeb3d36cffe15ecab2470a9a5e7a456cdbf61425"
   }
  }
 },
 "nbformat": 4,
 "nbformat_minor": 2
}
