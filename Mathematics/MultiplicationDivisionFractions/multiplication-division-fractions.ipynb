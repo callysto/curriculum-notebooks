{
 "cells": [
  {
   "cell_type": "markdown",
   "metadata": {},
   "source": [
    "![Callysto.ca Banner](https://github.com/callysto/curriculum-notebooks/blob/master/callysto-notebook-banner-top.jpg?raw=true)\n",
    "\n",
    "<a href=\"https://hub.callysto.ca/jupyter/hub/user-redirect/git-pull?repo=https%3A%2F%2Fgithub.com%2Fcallysto%2Fcurriculum-notebooks&branch=master&subPath=Mathematics/MultiplicationDivisionFractions/multiplication-division-fractions.ipynb&depth=1\" target=\"_parent\"><img src=\"https://raw.githubusercontent.com/callysto/curriculum-notebooks/master/open-in-callysto-button.svg?sanitize=true\" width=\"123\" height=\"24\" alt=\"Open in Callysto\"/></a>"
   ]
  },
  {
   "cell_type": "markdown",
   "metadata": {},
   "source": [
    "# Multiplying and Dividing Fractions\n",
    "\n",
    "## Multiplying Two Fractions\n",
    "\n",
    "Multiplying two fractions is taking a small piece from an already small piece. For example, we have half a bar of a candy bar and want to eat half of what we have, but we want to know how much of the whole candy bar we are going to be eating. \n",
    "\n",
    "$\\frac{1}{2} \\times \\frac{1}{2} = \\frac{1}{4}$\n",
    "\n",
    "### Visualizing multiplication of fractions\n",
    "\n",
    "Let's say we want to know what $\\frac15 \\times \\frac12$ is equal to. We'll create a visualization of this where we:\n",
    "\n",
    "1. cut a rectangle vertically into 5 equal pieces, and select one of them (in blue) to show $\\frac15$\n",
    "2. cut a second rectangle horizontally into 2 equal pieces, and select one of them (in yellow) to show $\\frac12$\n",
    "\n",
    "Click on the code cell below, then click the `▶Run` button to display the visualization."
   ]
  },
  {
   "cell_type": "code",
   "execution_count": null,
   "metadata": {},
   "outputs": [],
   "source": [
    "import matplotlib.pyplot as plt\n",
    "\n",
    "fig01 = plt.figure(figsize=(5,1))\n",
    "t_data01 = [['','','','','']]\n",
    "colors01 = [[\"b\",\"w\",\"w\",\"w\",\"w\"]]\n",
    "table01 = plt.table(cellText = t_data01,cellColours=colors01)#, loc='center')\n",
    "table01.scale(1, 2)\n",
    "plt.axis('off')\n",
    "plt.grid('off')\n",
    "plt.show()\n",
    "\n",
    "fig02 = plt.figure(figsize=(5,1))\n",
    "t_data02 = [[''],['']]\n",
    "colors02 = [[\"yellow\"],[ \"w\"]]\n",
    "table02 = plt.table(cellText = t_data02,cellColours=colors02)#, loc='center')\n",
    "plt.axis('off')\n",
    "plt.grid('off')\n",
    "plt.show()"
   ]
  },
  {
   "cell_type": "markdown",
   "metadata": {},
   "source": [
    "Now let's lay one rectangle on top of the other. `▶Run` the next visualization."
   ]
  },
  {
   "cell_type": "code",
   "execution_count": null,
   "metadata": {},
   "outputs": [],
   "source": [
    "fig = plt.figure(figsize=(5,1))\n",
    "t_data = (('','','','',''), ('','','','',''))\n",
    "colors = [[\"lime\",\"yellow\",\"yellow\",\"yellow\",\"yellow\"],[ \"b\",\"w\",\"w\",\"w\",\"w\"]]\n",
    "table = plt.table(cellText = t_data,cellColours=colors)#, loc='center')\n",
    "plt.axis('off')\n",
    "plt.grid('off')\n",
    "plt.show()"
   ]
  },
  {
   "cell_type": "markdown",
   "metadata": {},
   "source": [
    "Do you see that there are now 10 pieces, and only one is green? The green piece represents the product of this multiplication. Therefore: $$\\frac15 \\times \\frac12 = \\frac{1}{10}$$\n",
    "\n",
    "The next visualization shows that if we had done things the other way around, using a vertical cut for $\\frac12$ and horizontal cuts for $\\frac15$."
   ]
  },
  {
   "cell_type": "code",
   "execution_count": null,
   "metadata": {},
   "outputs": [],
   "source": [
    "fig2 = plt.figure(figsize=(2,2))\n",
    "\n",
    "t_data2 = (('',''), ('',''),('',''),('',''),('',''))\n",
    "colors2 = [[\"lime\",\"b\"],[ \"yellow\",\"w\"],[ \"yellow\",\"w\"],[ \"yellow\",\"w\"],[ \"yellow\",\"w\"]]\n",
    "table2 = plt.table(cellText = t_data2,cellColours=colors2, loc='center')\n",
    "\n",
    "plt.axis('off')\n",
    "plt.grid('off')\n",
    "\n",
    "plt.show()"
   ]
  },
  {
   "cell_type": "markdown",
   "metadata": {},
   "source": [
    "The result is the same, so we see that the order in which we multiply our fractions does not matter.\n",
    "\n",
    "$$\\frac15 \\times \\frac12 = \\frac12 \\times \\frac15 = \\frac{1}{10}$$\n",
    "\n",
    "# Dividing Fractions\n",
    "\n",
    "### How do we divide using fractions?\n",
    "\n",
    "If you know how to multiply fractions, then you already know how to divide fractions! \n",
    "\n",
    "Let's go back to dividing integers,or whole numbers. We know that 10 divided by 2 is 5, because 10 can be split into 2 portions each of which has 5. Now notice that dividing 10 by 2 is the same as taking half of 10. That is,\n",
    "$$\\hskip-60pt 10\\div 2 = 10\\times \\frac12 = 5.$$\n",
    "\n",
    "\n",
    "Notice that in the equality $10 \\div 2 = 10\\times\\frac{1}{2}$, we took the reciprocal of the second number ($\\frac{2}{1} \\rightarrow \\frac{1}{2}$) then changed the division to multiplication! What is the reciprocal? It's when the old numerator becomes the new denominator and the old denominator becomes the new numerator!\n",
    "\n",
    "That's how division with fractions works too: flip the divisor, the number after the division, and then multiply! \n",
    "\n",
    "## The golden rule of division: *division is the same as multiplying by the reciprocal*\n",
    "\n",
    "For example, what is $10\\div \\frac{1}{3}$? If we apply the rule we just came up with, we find\n",
    "$$\\hskip-60pt 10\\div \\frac13 = 10\\times\\frac31 = 10\\times 3 = 30.$$\n",
    "\n",
    "Does this make sense? Recall that when we compute $10\\div 2=5$, what we're working out is the number of groups of 2 we need to make 10. Similarly, the expression $10\\div \\frac13$ is asking how many $\\frac{1}{3}$ pieces can fit into 10 pieces. Since it takes 3 $\\frac{1}{3}$s to make one and 10 ones to make 10, we need $3\\times 10 = 30$ pieces of size $\\frac{1}{3}$ to make 10, therefore $10 \\div \\frac{1}{3} = 10 \\times 3 = 30$.\n",
    "\n",
    "#### Here are the steps\n",
    "\n",
    "##### Step 1:\n",
    "Find the reciprocal of the divisor. (By making the numerator the denominator and the denominator the numerator of the second fraction.)\n",
    "\n",
    "##### Step 2:\n",
    "Follow the steps to multiply the fractions using either method mentioned earlier.\n",
    "\n",
    "##### And you're done!\n",
    "\n",
    "<font color='red'>Tip! To remember these steps to divide fractions, think of this:</font>\n",
    ">**KFC**: \n",
    ">\n",
    ">**K** is for **K**eep the first fraction the same\n",
    ">\n",
    ">**F** is for **F**lip the second fraction\n",
    ">\n",
    ">**C** is for **C**hange the sign from divide to multiply\n",
    "\n",
    "### But why does this work?\n",
    "\n",
    "Remember that division is the opposite of multiplication: dividing by a number \"undoes\" multiplication by that same number. This has a special name, division is the *inverse operation* of multiplication. Here, we are interested in undoing multiplication by fractions. Let's start with an integer example. Consider the multiplication of 10 by 4: $10 \\times 4 = 40$. To undo the multiplication by 4, we divide by 4: $40 \\div 4 = 10$ and we get back to the original number! Same goes for fractions: consider the product $20 \\times \\frac{1}{2} = 10$. Dividing by $\\frac12$ should undo the multiplication. Our rule for division says that to divide by $\\frac{1}{2}$, we multiply by $\\frac21 = 2$: $10 \\div \\frac{1}{2} = 10\\times 2 = 20$. Once again, we get back to the original number!\n",
    "\n",
    "If dividing by 4 is equivalent to multiplying by $\\frac{1}{4}$, then it's true that dividing by $\\frac{1}{4}$ is equivalent to multiplying by 4. \n",
    "\n",
    "What if you flip the first number instead of the second? Try it with an example we've already solved. Does it change the answer or does the order not matter like multiplication?\n",
    "\n",
    "### But isn't division supposed to make the number smaller?\n",
    "\n",
    "The short answer is, \"Yes, but only if the number we're dividing by is bigger than 1.\" Try thinking of division as repeated subtraction: $2 \\div \\frac{1}{2}$ is asking how many times can we subtract $\\frac{1}{2}$ from 2. \n",
    "\n",
    "$$\\hskip-60pt \\begin{align*}\n",
    "2 - \\frac{1}{2} &= 1\\frac{1}{2}\\tag{once}\\\\[5pt]\n",
    "1\\frac{1}{2} - \\frac{1}{2} &= 1\\tag{twice}\\\\[5pt]\n",
    "1 - \\frac{1}{2} &= \\frac{1}{2}\\tag{three times}\\\\[5pt]\n",
    "\\frac{1}{2} - \\frac{1}{2} &= 0\\tag{four times}\n",
    "\\end{align*}$$\n",
    "\n",
    "So it took 4 subtractions of $\\frac{1}{2}$ from 2 to reach 0, therefore $2 \\div \\frac{1}{2} = 4$.\n",
    "\n",
    "This is because we are taking smaller portions out of the original number, so we need more subtractions to get to zero.\n"
   ]
  },
  {
   "cell_type": "markdown",
   "metadata": {},
   "source": [
    "Here's another example. In this example, we perform division by multiplying by the reciprocal, and we use Method #2, reducing our fractions before carrying out the multiplication.\n",
    "<br>\n",
    "$$\\hskip-36pt\\large \\frac14\\div\\frac38 = \\frac14\\times\\frac83 = \\frac{1}{_{\\color{red}{1}}\\,4\\!\\!\\!\\!\\diagup}\\times\\frac{8\\!\\!\\!\\!\\diagup^{\\,\\,\\color{red}{2}}}{3} = \\frac23.$$"
   ]
  },
  {
   "cell_type": "markdown",
   "metadata": {},
   "source": [
    "Still need another explanation? Here's a video that might help:"
   ]
  },
  {
   "cell_type": "code",
   "execution_count": null,
   "metadata": {},
   "outputs": [],
   "source": [
    "from IPython.display import YouTubeVideo\n",
    "YouTubeVideo('f3ySpxX9oeM')"
   ]
  },
  {
   "cell_type": "markdown",
   "metadata": {},
   "source": [
    "## Multiplication and Division with Positive Mixed Fractions\n",
    "\n",
    "With mixed numbers, we have to do a little more work, but it's only one more step:\n",
    "\n",
    "### For multiplication and division, all mixed numbers must be converted to improper fractions.\n",
    "\n",
    "**This notebook is assuming that you already know how to convert between mixed numbers and improper fractions**\n",
    "\n",
    "Remember that a mixed number is really adding an integer and a proper fraction: $3\\,\\frac14$ is really $3+\\frac14$ as one number. A proper fraction is where the numerator is less than the denominator. An improper fraction is where the numerator is bigger than or equal to the denominator.\n",
    "\n",
    "For example, consider the product $\\frac45\\times 3\\,\\frac14$. So one way to carry out the product is to use the distributive property:\n",
    "\n",
    "$$\\hskip-60pt\\begin{align*}\n",
    "\\frac45 \\times 3\\,\\frac14 &= \\frac45(3+\\frac14)\\\\\n",
    "& = \\frac45\\times 3+\\frac45\\times\\frac14\\\\\n",
    "&= \\frac{12}{5}+\\frac15\\\\\n",
    "&= \\frac{13}{5}.\n",
    "\\end{align*}$$\n",
    "\n",
    "(Note that we've made use of two skills practised above, without writing them down: we multiplied by 3 by thinking of it as the fraction $\\frac31$, and we cancelled the fours in the product $\\frac45\\times \\frac14$.)\n",
    "\n",
    "If it is asked for, we can do one final step, and convert back to a mixed fraction: $\\dfrac{13}{5} = 2\\,\\dfrac{3}{5}$. But that was quite a bit of work. *There must be a better way!* \n",
    "\n",
    "Instead, let's first convert our mixed number to an improper fraction:\n",
    "\n",
    "$$3\\,\\frac14 = 3+\\frac14 = 3\\times\\frac44+\\frac14 = \\frac{12}{4}+\\frac{1}{4} = \\frac{13}{4}.$$\n",
    "\n",
    "Now we can multiply using the methods we learned above:\n",
    "\n",
    "$$\\frac45\\times 3\\,\\frac14 = \\frac45\\times\\frac{13}{4} = \\frac15\\times\\frac{13}{1}=\\frac{13}{5},$$\n",
    "\n",
    "as before. If specified in the problem (or by your teacher), you can take one more step and convert the improper fraction $\\frac{13}{5}$ into the mixed number $2\\,\\frac35$.\n",
    "<br>\n",
    "\n",
    "Let's review the steps:\n",
    "\n",
    "##### Step 1:\n",
    "$\\color{red}{\\textrm{Convert all mixed numbers into improper fractions.}}$\n",
    "\n",
    "##### Step 2:\n",
    "Multiply or divide as using the methods earlier.\n",
    "\n",
    "##### Step 3: (Optional?)\n",
    "If the result is an improper fraction, convert it back to a mixed number.\n",
    "\n",
    "##### And you're done!\n",
    "\n",
    "### Let's do some examples!\n",
    "\n",
    "1. Calculate the product $\\color{blue}{2 \\dfrac{2}{3} \\times 1 \\dfrac{3}{4}}$.<br><br>\n",
    "$$\\hskip-60pt\\begin{align*}\n",
    "2 \\frac{2}{3} \\times 1 \\frac{3}{4} & = \\frac{8}{3} \\times \\frac{7}{4} \\tag{Convert to improper fractions}\\\\[5pt]\n",
    "\\frac{8\\!\\!\\!\\diagup}{3} \\times \\frac{7}{4\\!\\!\\!\\diagup} & = \\frac{2}{3} \\times \\frac{7}{1} \\tag{Reduce numbers}\\\\[5pt]\n",
    "\\frac{2}{3} \\times \\frac{7}{1} & = \\frac{14}{3} \\tag{Multiply numerators and denomintators}\\\\[5pt]\n",
    "\\frac{14}{3} & = 4 \\frac{2}{3} \\tag{Write as a mixed fraction}\n",
    "\\end{align*}$$<br>\n",
    "2. Calculate the quotient $\\color{blue}{2 \\dfrac{2}{3} \\div 1 \\dfrac{3}{4}}$. (These are the same fractions as the first example.)<br><br>\n",
    "$$\\hskip-60pt\\begin{align*}\n",
    "2 \\frac{2}{3} \\div 1 \\frac{3}{4} & = \\frac{8}{3} \\div \\frac{7}{4} \\tag{Convert to improper fractions}\\\\[5pt]\n",
    "\\frac{8}{3} \\div \\frac{7}{4} & = \\frac{8}{3} \\times \\frac{4}{7} \\tag{Invert the divisor}\\\\[5pt]\n",
    "\\frac{8}{3} \\times \\frac{4}{7} & = \\frac{32}{21} \\tag{Multiply numerators and denomintators}\\\\[5pt]\n",
    "\\frac{32}{21} & = 1 \\frac{11}{21} \\tag{Write as a mixed fraction}\n",
    "\\end{align*}$$<br>\n",
    "3. Calculate the quotient $\\color{blue}{3 \\frac{1}{2} \\div 1 \\frac{1}{6}}$. (This time some reduction is required.)<br><br>\n",
    "$$\\hskip-60pt\\begin{align*}\n",
    "3 \\frac{1}{2} \\div 1 \\frac{1}{6} & = \\frac{7}{2} \\div \\frac{7}{6} \\tag{Convert to improper fractions}\\\\[5pt]\n",
    "\\frac{7}{2} \\div \\frac{7}{6} & = \\frac{7}{2} \\times \\frac{6}{7} \\tag{Invert the divisor}\\\\[5pt]\n",
    "\\frac{7\\!\\!\\!\\diagup}{2} \\times \\frac{6}{7\\!\\!\\!\\diagup} & = \\frac{1}{2} \\times \\frac{6}{1} \\tag{Reduce numbers}\\\\[5pt]\n",
    "\\frac{1}{2\\!\\!\\!\\diagup} \\times \\frac{6\\!\\!\\!\\diagup}{1} & = \\frac{1}{1} \\times \\frac{3}{1} \\tag{Reduce numbers again}\\\\[5pt]\n",
    "\\frac{1}{1} \\times \\frac{3}{1} & = \\frac{3}{1} \\tag{Multiply numerators and denomintators}\\\\[5pt]\n",
    "\\frac{3}{1} & = 3 \\tag{Write as an integer}\n",
    "\\end{align*}$$"
   ]
  },
  {
   "cell_type": "markdown",
   "metadata": {},
   "source": [
    "## Summary\n",
    "\n",
    "Let's review what we've learned in this notebook.\n",
    "\n",
    "- Unlike addition, multiplying fractions *does not* need common denominators. **DM** – **D**ivision/**M**ultiplication = Denominator **D**oesn’t **M**atter \n",
    "- To multiply to fractions, multiply the numerators, then the denominators, and then reduce if necessary.\n",
    "- It is often easier if you cancel common factors before multiplying the fractions.\n",
    "- Division is the inverse of multiplication. Remember the Golden Rule: division is the same as multiplying by the reciprocal! (flipping the numerator and denominator) **KFC** - **K**eep, **F**lip, **C**hange\n",
    "- Multiplication and division involving mixed numbers is easier if you first convert any mixed numbers to improper fractions.\n",
    "\n",
    "Take the time to master your fraction multiplication and division. It may not seem like it now, but this is a much needed skill that you'll rely on for many years to come. Many careers even use fractions on a daily basis, like chefs or construction workers. As always in math, the more you practice, the easier it gets!\n"
   ]
  },
  {
   "cell_type": "markdown",
   "metadata": {},
   "source": [
    "[![Callysto.ca License](https://github.com/callysto/curriculum-notebooks/blob/master/callysto-notebook-banner-bottom.jpg?raw=true)](https://github.com/callysto/curriculum-notebooks/blob/master/LICENSE.md)"
   ]
  }
 ],
 "metadata": {
  "kernelspec": {
   "display_name": "Python 3.10.1 64-bit",
   "language": "python",
   "name": "python3"
  },
  "language_info": {
   "codemirror_mode": {
    "name": "ipython",
    "version": 3
   },
   "file_extension": ".py",
   "mimetype": "text/x-python",
   "name": "python",
   "nbconvert_exporter": "python",
   "pygments_lexer": "ipython3",
   "version": "3.10.1"
  },
  "vscode": {
   "interpreter": {
    "hash": "d1ca6d17674200220921376aaeb3d36cffe15ecab2470a9a5e7a456cdbf61425"
   }
  }
 },
 "nbformat": 4,
 "nbformat_minor": 2
}
