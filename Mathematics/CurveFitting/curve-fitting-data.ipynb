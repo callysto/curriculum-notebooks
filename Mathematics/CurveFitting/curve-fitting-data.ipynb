{
 "cells": [
  {
   "cell_type": "markdown",
   "metadata": {},
   "source": [
    "![Callysto.ca Banner](https://github.com/callysto/curriculum-notebooks/blob/master/callysto-notebook-banner-top.jpg?raw=true)\n",
    "\n",
    "<a href=\"https://hub.callysto.ca/jupyter/hub/user-redirect/git-pull?repo=https%3A%2F%2Fgithub.com%2Fcallysto%2Fcurriculum-notebooks&branch=master&urlpath=notebooks/curriculum-notebooks/Mathematics/CurveFitting/curve-fitting-data.ipynb&depth=1\" target=\"_parent\"><img src=\"https://raw.githubusercontent.com/callysto/curriculum-notebooks/master/open-in-callysto-button.svg?sanitize=true\" width=\"123\" height=\"24\" alt=\"Open in Callysto\"></a>"
   ]
  },
  {
   "cell_type": "markdown",
   "metadata": {},
   "source": [
    "# Fitting Functions to Real Data\n",
    "\n",
    "In this notebook, we will try to fit functions to real-world data. You may want to first check out the [Curve Fitting](./curve-fitting.ipynb) notebook.\n",
    "\n",
    "We'll start with some data from [Baxters Harbour](https://www.google.com/maps/place/Baxters+Harbour) in the [Bay of Fundy](https://www.waterlevels.gc.ca/eng/find/zone/30), an area famous for its unusually high tides."
   ]
  },
  {
   "cell_type": "code",
   "execution_count": null,
   "metadata": {},
   "outputs": [],
   "source": [
    "import requests\n",
    "import pandas as pd\n",
    "import plotly.express as px\n",
    "\n",
    "# Get tide data from Fisheries and Oceans Canada hourly for the next 7 days\n",
    "url = 'https://www.waterlevels.gc.ca/eng/station?sid=305'\n",
    "response = requests.get(url)\n",
    "\n",
    "# construct a dataframe from the 7th table on the webpage\n",
    "tides_data = pd.read_html(response.text)[7]['Hour'].transpose()\n",
    "\n",
    "# since there are multiple columns of data, construct a list from tides_data\n",
    "tide_list = []\n",
    "for key in tides_data.keys():\n",
    "    tide_list.extend(tides_data[key].tolist())\n",
    "\n",
    "# turn the list into a dataframe, label the height column and create a time column\n",
    "tides = pd.DataFrame(tide_list)\n",
    "tides.columns = ['Height (m)']\n",
    "tides['Time (h)'] = range(0,len(tide_list))\n",
    "\n",
    "# display the dataframe\n",
    "tides"
   ]
  },
  {
   "cell_type": "markdown",
   "metadata": {},
   "source": [
    "We can create an interactive visualization of the data using the [Plotly Express](https://plotly.com/python/plotly-express) library."
   ]
  },
  {
   "cell_type": "code",
   "execution_count": null,
   "metadata": {},
   "outputs": [],
   "source": [
    "fig = px.line(tides, x='Time (h)', y='Height (m)', title='Baxters Harbour Water Levels')\n",
    "fig.show()"
   ]
  },
  {
   "cell_type": "markdown",
   "metadata": {},
   "source": [
    "We can see periodic variation in the water level due to the tides. Notice that we are using `px.line` instead of `px.scatter` in order to connect the data points and allow us to determine the type of function that would fit the data.\n",
    "\n",
    "It looks like a sine wave, let's try to find a good curve fit using the function $h=a\\sin(bt+c)+d$.\n",
    "\n",
    "* $a$ = amplitude, the maximum distance from the center of the wave\n",
    "* $b$ = frequency, how often the wave peaks\n",
    "* $c$ = phase shift, the horizontal offset of the wave (between 0 and 2$\\pi$)\n",
    "* $d$ = vertical shift\n",
    "\n",
    "We can calculate the amplitude as half of the distance between maximum and minimum height."
   ]
  },
  {
   "cell_type": "code",
   "execution_count": null,
   "metadata": {},
   "outputs": [],
   "source": [
    "(tides['Height (m)'].max() - tides['Height (m)'].min()) / 2"
   ]
  },
  {
   "cell_type": "markdown",
   "metadata": {},
   "source": [
    "And the vertical shift should be approximately equal to the mean height value."
   ]
  },
  {
   "cell_type": "code",
   "execution_count": null,
   "metadata": {},
   "outputs": [],
   "source": [
    "tides['Height (m)'].mean()"
   ]
  },
  {
   "cell_type": "markdown",
   "metadata": {},
   "source": [
    "Adjust the values of $a$, $b$, $c$, and $d$ to see if you can get a reasonable fit to the data."
   ]
  },
  {
   "cell_type": "code",
   "execution_count": null,
   "metadata": {},
   "outputs": [],
   "source": [
    "a = 5.8\n",
    "b = 0.5\n",
    "c = 1\n",
    "d = 6.5\n",
    "\n",
    "x_values = tides['Time (h)']\n",
    "y_values = tides['Height (m)']\n",
    "\n",
    "from scipy.optimize import curve_fit\n",
    "import numpy as np\n",
    "tides['Manual Curve Fit'] = a * np.sin(b * x_values + c) + d\n",
    "\n",
    "def tide_fit(x, a, b, c, d):\n",
    "    return a * np.sin(b * x + c) + d\n",
    "values, fit_quality = curve_fit(tide_fit, x_values, y_values)\n",
    "print('Values:', values)\n",
    "print('Uncertainty:', fit_quality)\n",
    "e, f, g, h = values\n",
    "tides['SciPy Curve Fit'] = e * np.sin(f * x_values + g) + h\n",
    "\n",
    "fig1 = px.scatter(tides, x='Time (h)', y='Height (m)', title='Tide Levels With Curve Fit')\n",
    "fig1.add_scatter(x=tides['Time (h)'], y=tides['Manual Curve Fit'], name='Manual Curve Fit')\n",
    "fig1.add_scatter(x=tides['Time (h)'], y=tides['SciPy Curve Fit'], name='SciPy Curve Fit')\n",
    "fig1.show()"
   ]
  },
  {
   "cell_type": "markdown",
   "metadata": {},
   "source": [
    "Unfortunately in this case there weren't enough data points for SciPy's `curve_fit` to do a good job, but it did recognize the period variation in the data.\n",
    "\n",
    "Let's look at a data set with more values."
   ]
  },
  {
   "cell_type": "markdown",
   "metadata": {},
   "source": [
    "## Atmospheric Carbon Dioxide\n",
    "\n",
    "Next we will download measurements of carbon dioxide in the atmosphere from 1958 to 2019, then fit a function to this data in order to perhaps make predictions about future atmospheric $CO_2$ concentrations."
   ]
  },
  {
   "cell_type": "code",
   "execution_count": null,
   "metadata": {},
   "outputs": [],
   "source": [
    "# A file containing the measurements\n",
    "#url = \"ftp://aftp.cmdl.noaa.gov/products/trends/co2/co2_mm_mlo.txt\"\n",
    "url = \"co2_mm_mlo.txt\" # the file stored locally\n",
    "# Download the file, ignore the headers, and specify the data is separated by spaces\n",
    "co2 = pd.read_csv(url, skiprows=72, sep='\\s+').reset_index(drop=True)\n",
    "# Rename the columns to something more convenient \n",
    "co2.columns = [\"Year\", \"Month\", \"Date\", \"Carbon Dioxide (ppm)\", \"Interpolated\", \"Trend\", \"Number of Days\"]\n",
    "# Missing data is filled in with -99.99, so we get rid of it \n",
    "co2 = co2[~co2['Carbon Dioxide (ppm)'].isin([-99.99])]\n",
    "# View the data\n",
    "co2"
   ]
  },
  {
   "cell_type": "markdown",
   "metadata": {},
   "source": [
    "The only data we need to use is the `Date` column (in [decimal time](https://en.wikipedia.org/wiki/Decimal_time)) and the `Carbon Dioxide (ppm)` column. Let's create an interactive plot of those two columns."
   ]
  },
  {
   "cell_type": "code",
   "execution_count": null,
   "metadata": {},
   "outputs": [],
   "source": [
    "fig2 = px.scatter(co2, x='Date', y='Carbon Dioxide (ppm)', title='Atmospheric Carbon Dioxide Over Time')\n",
    "fig2.show()"
   ]
  },
  {
   "cell_type": "markdown",
   "metadata": {},
   "source": [
    "## Try It Yourself\n",
    "\n",
    "You probably notice that there's an increasing trend and some periodic behavior. Your task is to fit a function to this data.\n",
    "\n",
    "Feel free to make _any_ transformations you see fit to the data and fit _any_ function you wish to the data as well. Feel free to try multiple transformations. For example, if you wanted to take the square root of the entire column, you could use `co2['Curve Fit'] = np.sqrt(x_data)` to create a new column with the square roots of the `x_data` column.\n",
    "\n",
    "Below we set up some starter code for you to get working on this task. Remember that you can refer to [this curve fit notebook](./curve-fitting.ipynb) for examples. Good Luck!"
   ]
  },
  {
   "cell_type": "code",
   "execution_count": null,
   "metadata": {},
   "outputs": [],
   "source": [
    "x_data = co2['Date']\n",
    "y_data = co2['Carbon Dioxide (ppm)']\n",
    "\n",
    "# Create your function to fit here\n",
    "def co2_fit(x, a, b):\n",
    "    return a * x + b\n",
    "\n",
    "values, fit_quality = curve_fit(co2_fit, x_data, y_data)\n",
    "print('Values:', values)\n",
    "print('Uncertainty:', fit_quality)\n",
    "\n",
    "# Change this to your fit function as well\n",
    "a, b = values\n",
    "co2['Curve Fit'] = a * x_data + b\n",
    "\n",
    "fig3 = px.scatter(co2, x='Date', y='Carbon Dioxide (ppm)', title='Atmospheric Carbon Dioxide Over Time')\n",
    "fig3.add_scatter(x=co2['Date'], y=co2['Curve Fit'], name='Curve Fit')\n",
    "fig3.show()"
   ]
  },
  {
   "cell_type": "markdown",
   "metadata": {},
   "source": [
    "# Conclusion\n",
    "\n",
    "Hopefully you were able to find a decent curve fit for the data. For more information about `curve_fit` check out the [documentation](https://docs.scipy.org/doc/scipy/reference/generated/scipy.optimize.curve_fit.html)."
   ]
  },
  {
   "cell_type": "markdown",
   "metadata": {},
   "source": [
    "[![Callysto.ca License](https://github.com/callysto/curriculum-notebooks/blob/master/callysto-notebook-banner-bottom.jpg?raw=true)](https://github.com/callysto/curriculum-notebooks/blob/master/LICENSE.md)"
   ]
  }
 ],
 "metadata": {
  "kernelspec": {
   "display_name": "Python 3",
   "language": "python",
   "name": "python3"
  },
  "language_info": {
   "codemirror_mode": {
    "name": "ipython",
    "version": 3
   },
   "file_extension": ".py",
   "mimetype": "text/x-python",
   "name": "python",
   "nbconvert_exporter": "python",
   "pygments_lexer": "ipython3",
   "version": "3.7.6"
  },
  "nbTranslate": {
   "displayLangs": [
    "*"
   ],
   "hotkey": "alt-t",
   "langInMainMenu": true,
   "sourceLang": "en",
   "targetLang": "fr",
   "useGoogleTranslate": true
  }
 },
 "nbformat": 4,
 "nbformat_minor": 2
}
