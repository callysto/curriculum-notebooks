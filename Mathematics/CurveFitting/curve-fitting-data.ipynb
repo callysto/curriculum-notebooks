{
 "cells": [
  {
   "cell_type": "markdown",
   "metadata": {},
   "source": [
    "![Callysto.ca Banner](https://github.com/callysto/curriculum-notebooks/blob/master/callysto-notebook-banner-top.jpg?raw=true)\n",
    "\n",
    "<a href=\"https://hub.callysto.ca/jupyter/hub/user-redirect/git-pull?repo=https%3A%2F%2Fgithub.com%2Fcallysto%2Fcurriculum-notebooks&branch=master&urlpath=notebooks/curriculum-notebooks/Mathematics/CurveFitting/curve-fitting-data.ipynb&depth=1\" target=\"_parent\"><img src=\"https://raw.githubusercontent.com/callysto/curriculum-notebooks/master/open-in-callysto-button.svg?sanitize=true\" width=\"123\" height=\"24\" alt=\"Open in Callysto\"></a>"
   ]
  },
  {
   "cell_type": "markdown",
   "metadata": {},
   "source": [
    "# Fitting Functions to Real Data\n",
    "\n",
    "In this notebook, we will try to fit functions to real-world data. You may want to first check out the [Curve Fitting](./curve-fitting.ipynb) notebook.\n",
    "\n",
    "We'll start with some data from [Baxters Harbour](https://www.google.com/maps/place/Baxters+Harbour) in the [Bay of Fundy](https://www.waterlevels.gc.ca/eng/find/zone/30), an area famous for its unusually high tides."
   ]
  },
  {
   "cell_type": "code",
   "execution_count": null,
   "metadata": {},
   "outputs": [],
   "source": [
    "import pandas as pd\n",
    "\n",
    "try:\n",
    "    # Get tide data from Fisheries and Oceans Canada hourly for the next 7 days\n",
    "    url = 'https://www.waterlevels.gc.ca/eng/station?sid=305'\n",
    "    data = pd.read_html(url)\n",
    "\n",
    "    # construct a dataframe from the 7th table on the webpage and melt it to tidy data\n",
    "    tides = data[7].melt(id_vars=['Event Date'], var_name='Hour', value_name='Tide Height (m)')\n",
    "\n",
    "    # Join the date and hour values to make datetime values\n",
    "    tides['Date and Time'] = pd.to_datetime(tides['Event Date'] +' '+ tides['Hour'])\n",
    "    tides.sort_values(by='Date and Time', inplace=True)\n",
    "except:\n",
    "    # if that didn't work, read archived data from the Callysto data-files repository\n",
    "    tides = pd.read_csv('https://raw.githubusercontent.com/callysto/data-files/main/Mathematics/CurveFitting/tides-data.csv')\n",
    "\n",
    "# display the dataframe\n",
    "tides"
   ]
  },
  {
   "cell_type": "markdown",
   "metadata": {},
   "source": [
    "There are some `Nan` values, so we will drop those rows."
   ]
  },
  {
   "cell_type": "code",
   "execution_count": null,
   "metadata": {},
   "outputs": [],
   "source": [
    "tides.dropna(inplace=True)\n",
    "tides"
   ]
  },
  {
   "cell_type": "markdown",
   "metadata": {},
   "source": [
    "Then we can create an interactive visualization of the data using the [Plotly Express](https://plotly.com/python/plotly-express) library."
   ]
  },
  {
   "cell_type": "code",
   "execution_count": null,
   "metadata": {},
   "outputs": [],
   "source": [
    "import plotly.express as px\n",
    "px.line(tides, x='Date and Time', y='Tide Height (m)', title='Baxters Harbour Water Levels')"
   ]
  },
  {
   "cell_type": "markdown",
   "metadata": {},
   "source": [
    "We can see periodic variation in the water level due to the tides. Notice that we are using `px.line` instead of `px.scatter` in order to connect the data points and allow us to determine the type of function that would fit the data.\n",
    "\n",
    "It looks like a sine wave, let's try to find a good curve fit using the function $h=a\\sin(bt+c)+d$.\n",
    "\n",
    "* $a$ = amplitude, the maximum distance from the center of the wave\n",
    "* $b$ = frequency, how often the wave peaks\n",
    "* $c$ = phase shift, the horizontal offset of the wave (between 0 and 2$\\pi$)\n",
    "* $d$ = vertical shift\n",
    "\n",
    "We can calculate the amplitude as half of the distance between maximum and minimum height."
   ]
  },
  {
   "cell_type": "code",
   "execution_count": null,
   "metadata": {},
   "outputs": [],
   "source": [
    "(tides['Tide Height (m)'].max() - tides['Tide Height (m)'].min()) / 2"
   ]
  },
  {
   "cell_type": "markdown",
   "metadata": {},
   "source": [
    "And the vertical shift should be approximately equal to the mean height value."
   ]
  },
  {
   "cell_type": "code",
   "execution_count": null,
   "metadata": {},
   "outputs": [],
   "source": [
    "tides['Tide Height (m)'].mean()"
   ]
  },
  {
   "cell_type": "markdown",
   "metadata": {},
   "source": [
    "Adjust the values of $a$, $b$, $c$, and $d$ to see if you can get a reasonable fit to the data."
   ]
  },
  {
   "cell_type": "code",
   "execution_count": null,
   "metadata": {},
   "outputs": [],
   "source": [
    "from scipy.optimize import curve_fit\n",
    "import numpy as np\n",
    "\n",
    "a = 4.2\n",
    "b = np.radians(3) # frequency*2*pi\n",
    "c = np.radians(90) # phase offset\n",
    "d = 6.5\n",
    "\n",
    "x_values = tides.index.to_series()\n",
    "y_values = tides['Tide Height (m)']\n",
    "\n",
    "\n",
    "def tide_fit(x, a, b, c, d):\n",
    "    return a * np.sin(b * x + c) + d\n",
    "\n",
    "p0 = [a, b, c, d] # some functions give different results from curve_fit based on initial guess p0 \n",
    "values, fit_quality = curve_fit(tide_fit, x_values, y_values, p0=p0) #p0=[1,1,1,1] is default\n",
    "\n",
    "tides['Manual Curve Fit'] = tide_fit(x_values, a, b, c, d) #a * np.sin(b * x_values + c) + d\n",
    "tides['SciPy Curve Fit'] = tide_fit(x_values, *values) #star \"unpacks\" fit values for function\n",
    "\n",
    "print('Values:', values)\n",
    "#cross-correlations in off-diagonal parts of matrix are negligeable/small\n",
    "print('Uncertainty:', [fit_quality[i,i] for i in range(len(values))]) \n",
    "\n",
    "fig1 = px.line(tides, x='Date and Time', y='Tide Height (m)', title='Tide Levels With Curve Fit')\n",
    "fig1.add_scatter(x=tides['Date and Time'], y=tides['Manual Curve Fit'], name='Manual Curve Fit')\n",
    "fig1.add_scatter(x=tides['Date and Time'], y=tides['SciPy Curve Fit'], name='SciPy Curve Fit')\n",
    "fig1.show()"
   ]
  },
  {
   "cell_type": "markdown",
   "metadata": {},
   "source": [
    "The curve_fit can give better or worse results depending on the initial guess `p0`. Try changing the initial guess to see how the curve_fit algorithm can improve or fail. Most solutions are able to fit the overall frequency, but not the slow increase in the height of the wave.  \n",
    "\n",
    "Let's look at a data set with more values."
   ]
  },
  {
   "cell_type": "markdown",
   "metadata": {},
   "source": [
    "## Atmospheric Carbon Dioxide\n",
    "\n",
    "Next we will download measurements of carbon dioxide in the atmosphere from 1958 to 2019, then fit a function to this data in order to perhaps make predictions about future atmospheric $CO_2$ concentrations."
   ]
  },
  {
   "cell_type": "code",
   "execution_count": null,
   "metadata": {},
   "outputs": [],
   "source": [
    "# A file containing the measurements\n",
    "#url = 'ftp://aftp.cmdl.noaa.gov/products/trends/co2/co2_mm_mlo.txt'\n",
    "url = 'https://raw.githubusercontent.com/callysto/data-files/main/Mathematics/CurveFitting/co2_mm_mlo.txt' # the file from Callysto data-file repo\n",
    "\n",
    "# Download the file, ignore the headers, and specify the data is separated by spaces\n",
    "co2 = pd.read_csv(url, skiprows=72, sep='\\s+').reset_index(drop=True)\n",
    "\n",
    "# Rename the columns to something more convenient \n",
    "co2.columns = [\"Year\", \"Month\", \"Date\", \"Carbon Dioxide (ppm)\", \"Interpolated\", \"Trend\", \"Number of Days\"]\n",
    "\n",
    "# Missing data is filled in with -99.99, so we get rid of it \n",
    "co2 = co2[~co2['Carbon Dioxide (ppm)'].isin([-99.99])]\n",
    "\n",
    "# View the data\n",
    "co2"
   ]
  },
  {
   "cell_type": "markdown",
   "metadata": {},
   "source": [
    "The only data we need to use is the `Date` column (in [decimal time](https://en.wikipedia.org/wiki/Decimal_time)) and the `Carbon Dioxide (ppm)` column. Let's create an interactive plot of those two columns."
   ]
  },
  {
   "cell_type": "code",
   "execution_count": null,
   "metadata": {},
   "outputs": [],
   "source": [
    "fig2 = px.scatter(co2, x='Date', y='Carbon Dioxide (ppm)', title='Atmospheric Carbon Dioxide Over Time')\n",
    "fig2.show()"
   ]
  },
  {
   "cell_type": "markdown",
   "metadata": {},
   "source": [
    "## Try It Yourself\n",
    "\n",
    "You probably notice that there's an increasing trend and some periodic behavior. Your task is to fit a function to this data.\n",
    "\n",
    "Feel free to make _any_ transformations you see fit to the data and fit _any_ function you wish to the data as well. Feel free to try multiple transformations. For example, if you wanted to take the square root of the entire column, you could use `co2['Curve Fit'] = np.sqrt(x_data)` to create a new column with the square roots of the `x_data` column.\n",
    "\n",
    "Below we set up some starter code for you to get working on this task. Remember that you can refer to [this curve fit notebook](./curve-fitting.ipynb) for examples. Good Luck!"
   ]
  },
  {
   "cell_type": "code",
   "execution_count": null,
   "metadata": {},
   "outputs": [],
   "source": [
    "x_data = co2['Date']\n",
    "y_data = co2['Carbon Dioxide (ppm)']\n",
    "\n",
    "# Create your function to fit here\n",
    "def co2_fit(x, a, b):\n",
    "    return a * x + b\n",
    "\n",
    "values, fit_quality = curve_fit(co2_fit, x_data, y_data)\n",
    "\n",
    "# Change this to your fit function as well\n",
    "a, b = values\n",
    "co2['Curve Fit'] = a * x_data + b\n",
    "\n",
    "fig3 = px.scatter(co2, x='Date', y='Carbon Dioxide (ppm)', title='Atmospheric Carbon Dioxide Over Time')\n",
    "fig3.add_scatter(x=co2['Date'], y=co2['Curve Fit'], name='Curve Fit')\n",
    "fig3.show()\n",
    "print('Values:', values)\n",
    "print('Uncertainty:', fit_quality)"
   ]
  },
  {
   "cell_type": "markdown",
   "metadata": {},
   "source": [
    "# Conclusion\n",
    "\n",
    "Hopefully you were able to find a reasonable curve fit for the data. For more information about `curve_fit` check out the [documentation](https://docs.scipy.org/doc/scipy/reference/generated/scipy.optimize.curve_fit.html)."
   ]
  },
  {
   "cell_type": "markdown",
   "metadata": {},
   "source": [
    "[![Callysto.ca License](https://github.com/callysto/curriculum-notebooks/blob/master/callysto-notebook-banner-bottom.jpg?raw=true)](https://github.com/callysto/curriculum-notebooks/blob/master/LICENSE.md)"
   ]
  }
 ],
 "metadata": {
  "interpreter": {
   "hash": "aee8b7b246df8f9039afb4144a1f6fd8d2ca17a180786b69acc140d282b71a49"
  },
  "kernelspec": {
   "display_name": "Python 3 (ipykernel)",
   "language": "python",
   "name": "python3"
  },
  "language_info": {
   "codemirror_mode": {
    "name": "ipython",
    "version": 3
   },
   "file_extension": ".py",
   "mimetype": "text/x-python",
   "name": "python",
   "nbconvert_exporter": "python",
   "pygments_lexer": "ipython3",
   "version": "3.9.6"
  },
  "nbTranslate": {
   "displayLangs": [
    "*"
   ],
   "hotkey": "alt-t",
   "langInMainMenu": true,
   "sourceLang": "en",
   "targetLang": "fr",
   "useGoogleTranslate": true
  }
 },
 "nbformat": 4,
 "nbformat_minor": 2
}
