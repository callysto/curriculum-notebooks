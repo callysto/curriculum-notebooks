{
 "cells": [
  {
   "cell_type": "markdown",
   "metadata": {},
   "source": [
    "![Callysto.ca Banner](https://github.com/callysto/curriculum-notebooks/blob/master/callysto-notebook-banner-top.jpg?raw=true)\n",
    "\n",
    "<a href=\"https://hub.callysto.ca/jupyter/hub/user-redirect/git-pull?repo=https%3A%2F%2Fgithub.com%2Fcallysto%2Fcurriculum-notebooks&branch=master&urlpath=notebooks/curriculum-notebooks/Mathematics/CurveFitting/curve-fitting.ipynb&depth=1\" target=\"_parent\"><img src=\"https://raw.githubusercontent.com/callysto/curriculum-notebooks/master/open-in-callysto-button.svg?sanitize=true\" width=\"123\" height=\"24\" alt=\"Open in Callysto\"></a>"
   ]
  },
  {
   "cell_type": "markdown",
   "metadata": {},
   "source": [
    "# Curve Fitting with Python \n",
    "\n",
    "Curve fitting involves finding a line or curve which best passes through data. By fitting functions through data, we are able to [extrapolate](https://en.wikipedia.org/wiki/Extrapolation) and [interpolate](https://en.wikipedia.org/wiki/Interpolation) new values that may not have been measured.\n",
    "\n",
    "Let's take a look at how we can do that in Python. First we will import some code libraries."
   ]
  },
  {
   "cell_type": "code",
   "execution_count": null,
   "metadata": {},
   "outputs": [],
   "source": [
    "# Numerical python package to allow us to do math quickly \n",
    "import numpy as np\n",
    "# Ploting library \n",
    "import matplotlib.pyplot as plt\n",
    "%matplotlib inline\n",
    "# SciPy package which allows us to fit curves to data\n",
    "from scipy.optimize import curve_fit\n",
    "# A plotting function we'll use later\n",
    "def plot_fit(func, fit_params, err_params, func_type, x, y):\n",
    "    f = plt.figure(figsize = (12,8))\n",
    "    ax = f.add_subplot(111)\n",
    "    ax.scatter(x,y, label = \"data\")\n",
    "    ax.plot(x, func(x, *fit_params), label = \"fit\")\n",
    "    plt_string = \"Best Fit Parameters:\\n \"\n",
    "    for i in range(len(fit_params)):\n",
    "        plt_string += str(i+1) + \": %+.3f $\\pm$ %.3f \\n \" % (fit_params[i], err_params[i])\n",
    "    plt.text(.65, 0.1,plt_string,\n",
    "         horizontalalignment='left',\n",
    "         verticalalignment='center',\n",
    "         transform = ax.transAxes, fontsize = 16)\n",
    "    ax.set_xlabel(\"$x$\", size = 20)\n",
    "    ax.set_ylabel(\"$y$\", size =20)\n",
    "    ax.legend(prop={'size': 20})\n",
    "    try:\n",
    "        plt.title(func_type,size = 20)\n",
    "    except:\n",
    "        pass\n",
    "    plt.show()\n",
    "print('Libraries imported and plot_fit defined')"
   ]
  },
  {
   "cell_type": "markdown",
   "metadata": {},
   "source": [
    "To begin our function fitting we first need to have some data to fit. As this is simply a tutorial, let's just generate some data in order to test our fitting functions. This way we'll _know_ exactly what parameters our curve fitting functions should find. In this case, we'll define a linear equation:\n",
    "\n",
    "$$ y = m \\; x + b $$\n",
    "\n",
    "Then generate some $x$ points for our data. To do this we will use the `np.linspace` function which creates an equaly spaced set of data. Here we're creating 15 equally spaced numbers from 0 to 10."
   ]
  },
  {
   "cell_type": "code",
   "execution_count": null,
   "metadata": {},
   "outputs": [],
   "source": [
    "def linear_function(x, m, b):\n",
    "    return m * x + b\n",
    "\n",
    "x_data = np.linspace(0, 10, 15)\n",
    "print(x_data)"
   ]
  },
  {
   "cell_type": "markdown",
   "metadata": {},
   "source": [
    "Now that we have our $x$ values, let's _generate_ a set of $y$ values using our Python function called `linear_function`."
   ]
  },
  {
   "cell_type": "code",
   "execution_count": null,
   "metadata": {},
   "outputs": [],
   "source": [
    "y_data = linear_function(x = x_data, m = 0.5, b = -1)\n",
    "print(y_data)"
   ]
  },
  {
   "cell_type": "markdown",
   "metadata": {},
   "source": [
    "Where we can test to see if this worked by plotting our data below"
   ]
  },
  {
   "cell_type": "code",
   "execution_count": null,
   "metadata": {},
   "outputs": [],
   "source": [
    "plt.scatter(x_data, y_data)\n",
    "plt.xlabel(\"x values\")\n",
    "plt.ylabel(\"y values\")\n",
    "plt.title(\"y vs x\")\n",
    "plt.show()"
   ]
  },
  {
   "cell_type": "markdown",
   "metadata": {},
   "source": [
    "That's fantastic! We've generated a set of linear points. However, those points are perfectly in line! We won't usually see that in an actual measurement scenario. Let's add some noise to our $y$ points. Here we're adding normally distributed noise."
   ]
  },
  {
   "cell_type": "code",
   "execution_count": null,
   "metadata": {},
   "outputs": [],
   "source": [
    "noise_strength = 0.1\n",
    "y_noise = noise_strength*np.random.normal(size=x_data.size)\n",
    "y_data = y_data + y_noise\n",
    "plt.scatter(x_data, y_data)\n",
    "plt.xlabel(\"x values\")\n",
    "plt.ylabel(\"y values\")\n",
    "plt.title(\"noisy y vs x\")\n",
    "plt.show()"
   ]
  },
  {
   "cell_type": "markdown",
   "metadata": {},
   "source": [
    "There we go! Now that's a little more realistic for function fitting. Now that we've generated some data, let's see how we fit a function using Python.\n",
    "\n",
    "### The `curve_fit` Function\n",
    "We will be using the `curve_fit` function [from SciPy](https://docs.scipy.org/doc/scipy/reference/generated/scipy.optimize.curve_fit.html) that we imported earlier. It takes the following data:\n",
    "1. A Python function which describes the function we'd like to fit, in this example `linear_function(x,m,b)`\n",
    "2. A set of $x$ data points\n",
    "3. A set of $y$ data points \n",
    "    * We need to have the same number of data points in $x$ and $y$\n",
    "    \n",
    "Once we call this function, `curve_fit` will return two things:\n",
    "1. `values`: A list of best fit parameters, in our case, it will return a list of `[m, b]`\n",
    "2. `fit_quality`: An estimate of the variance associated with our fitted function, and the data we used to generate it. These values will give us uncertainty surrounding our best fit parameters\n",
    "\n",
    "Let's take a look at that function in action, here we're fitting a curve to `linear_function` using `x_data` and `y_data`."
   ]
  },
  {
   "cell_type": "code",
   "execution_count": null,
   "metadata": {},
   "outputs": [],
   "source": [
    "values, fit_quality  = curve_fit(linear_function, x_data, y_data)\n",
    "fit_quality = np.sqrt(np.diag(fit_quality))\n",
    "\n",
    "print(\"Slope:\", values[0], \"with uncertainty:\", fit_quality[0])\n",
    "print(\"y-intercept:\", values[1], \"with uncertainty:\", fit_quality[1])"
   ]
  },
  {
   "cell_type": "markdown",
   "metadata": {},
   "source": [
    "That's pretty good!\n",
    "\n",
    "With an original slope of $m = 0.5$, our fitted slope came out to be $m^\\prime = 0.5 \\pm 0.05$. Our original intercept of $b=-1$ was fitted to be $b^\\prime = -1.03 \\pm 0.06$ (Note: Your values may be  different because the noise added is different every time.)\n",
    "\n",
    "Let's take a look at what the plot looks like, using the `plot_fit` function we defined earlier."
   ]
  },
  {
   "cell_type": "code",
   "execution_count": null,
   "metadata": {},
   "outputs": [],
   "source": [
    "plot_fit(linear_function, values, fit_quality, \"$y = mx + b$\", x_data, y_data)"
   ]
  },
  {
   "cell_type": "markdown",
   "metadata": {},
   "source": [
    "And that's all thre is to it! Play around with the amount of noise you add to the function before fitting it. How does that affect your estimates for best fit parameters as well as your estimates for uncertainty? \n",
    "\n",
    "# Fitting Non-Linear Functions\n",
    "\n",
    "Fitting non-linear functions is similar. Let's take a look at how we can fit data to a parabolic function of the form \n",
    "\n",
    "$$ y = a\\;(x + b)^2 + c $$ \n",
    "\n",
    "Note we'll move a little faster this time and add our noise in the same plot!"
   ]
  },
  {
   "cell_type": "code",
   "execution_count": null,
   "metadata": {},
   "outputs": [],
   "source": [
    "def quadratic(x, a, b, c):\n",
    "    return a * (x + b)**2 + c\n",
    "\n",
    "x_quad = np.linspace(-20, 20, 40)\n",
    "y_quad = quadratic(x_quad, .5, 5, 1)\n",
    "\n",
    "noise_strength = 5\n",
    "y_noise = noise_strength * np.random.normal(size=x_quad.size)\n",
    "\n",
    "y_quad = y_quad + y_noise\n",
    "\n",
    "plt.scatter(x_quad, y_quad)\n",
    "plt.xlabel(\"$x$\", size =15)\n",
    "plt.ylabel(\"$y$\", size = 15)\n",
    "plt.show()"
   ]
  },
  {
   "cell_type": "markdown",
   "metadata": {},
   "source": [
    "Now we fit it just like we did before."
   ]
  },
  {
   "cell_type": "code",
   "execution_count": null,
   "metadata": {},
   "outputs": [],
   "source": [
    "values_q, fit_quality_q = curve_fit(quadratic, x_quad, y_quad)\n",
    "fit_quality_q = np.sqrt(np.diag(fit_quality_q))\n",
    "\n",
    "print(\"Values for a, b and c:\", values_q)\n",
    "print(\"Uncertainty for a, b and c:\", fit_quality_q)"
   ]
  },
  {
   "cell_type": "code",
   "execution_count": null,
   "metadata": {},
   "outputs": [],
   "source": [
    "plot_fit(quadratic, values_q, fit_quality_q, \"$y = a (x + b)^2 + c$\", x_quad, y_quad)"
   ]
  },
  {
   "cell_type": "markdown",
   "metadata": {},
   "source": [
    "How well did that fit work? Do the values we recovered from the curve fitting parameters line up with the parameters we used to generate the data set? \n",
    "\n",
    "\n",
    "## Fitting More Non-Linear Functions\n",
    "\n",
    "We can also fit even _more_ non linear functions. For example, let's generate and then fit some data generated by a normal distribution defined by\n",
    "\n",
    "$$ y = \\frac{1}{\\sqrt{2 \\pi \\sigma^2}} \\; \\exp \\left({-\\frac{(x -\\mu)^2}{2 \\sigma^2} }\\right)$$"
   ]
  },
  {
   "cell_type": "code",
   "execution_count": null,
   "metadata": {},
   "outputs": [],
   "source": [
    "def normal_function(x, sigma, mu):\n",
    "    return 1/(np.sqrt(2.0*np.pi*sigma**2))*np.exp(-(x-mu)**2/(2.0*sigma**2))\n",
    "\n",
    "x = np.linspace(-5, 5, 50)\n",
    "y = normal_function(x, 1, 0)\n",
    "y_noise = .01*np.random.normal(size=x.size)\n",
    "y = y + y_noise\n",
    "plt.plot(x, y)\n",
    "plt.xlabel(\"$x$\", size =15)\n",
    "plt.ylabel(\"$y$\", size = 15)\n",
    "plt.show()"
   ]
  },
  {
   "cell_type": "code",
   "execution_count": null,
   "metadata": {},
   "outputs": [],
   "source": [
    "values, fit_quality = curve_fit(normal_function, x, y)\n",
    "fit_quality = np.sqrt(np.diag(fit_quality))\n",
    "print(\"Sigma and mu values:\", values)\n",
    "print(\"Uncertainty in sigma and mu:\", fit_quality)\n",
    "plot_fit(normal_function, values, fit_quality, \"Normal Distribution\", x, y)"
   ]
  },
  {
   "cell_type": "markdown",
   "metadata": {},
   "source": [
    "# Conclusion\n",
    "\n",
    "This notebook provided an introduction to curve fitting in Python using the `SciPy` library, and visualizing the curve fits using `matplotlib`.\n",
    "\n",
    "Next you can try [curve fitting with real-world data](./curve-fitting-data.ipynb)."
   ]
  },
  {
   "cell_type": "markdown",
   "metadata": {},
   "source": [
    "[![Callysto.ca License](https://github.com/callysto/curriculum-notebooks/blob/master/callysto-notebook-banner-bottom.jpg?raw=true)](https://github.com/callysto/curriculum-notebooks/blob/master/LICENSE.md)"
   ]
  }
 ],
 "metadata": {
  "kernelspec": {
   "display_name": "Python 3",
   "language": "python",
   "name": "python3"
  },
  "language_info": {
   "codemirror_mode": {
    "name": "ipython",
    "version": 3
   },
   "file_extension": ".py",
   "mimetype": "text/x-python",
   "name": "python",
   "nbconvert_exporter": "python",
   "pygments_lexer": "ipython3",
   "version": "3.7.6"
  },
  "nbTranslate": {
   "displayLangs": [
    "*"
   ],
   "hotkey": "alt-t",
   "langInMainMenu": true,
   "sourceLang": "en",
   "targetLang": "fr",
   "useGoogleTranslate": true
  }
 },
 "nbformat": 4,
 "nbformat_minor": 2
}
