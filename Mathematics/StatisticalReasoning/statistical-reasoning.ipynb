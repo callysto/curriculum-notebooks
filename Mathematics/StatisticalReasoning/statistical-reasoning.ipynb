{
 "cells": [
  {
   "cell_type": "markdown",
   "metadata": {},
   "source": [
    "![Callysto.ca Banner](https://github.com/callysto/curriculum-notebooks/blob/master/callysto-notebook-banner-top.jpg?raw=true)\n",
    "\n",
    "<a href=\"https://hub.callysto.ca/jupyter/hub/user-redirect/git-pull?repo=https%3A%2F%2Fgithub.com%2Fcallysto%2Fcurriculum-notebooks&branch=master&subPath=Mathematics/StatisticalReasoning/statistical-reasoning.ipynb&depth=1\" target=\"_parent\"><img src=\"https://raw.githubusercontent.com/callysto/curriculum-notebooks/master/open-in-callysto-button.svg?sanitize=true\" width=\"123\" height=\"24\" alt=\"Open in Callysto\"/></a>"
   ]
  },
  {
   "cell_type": "code",
   "execution_count": null,
   "metadata": {},
   "outputs": [],
   "source": [
    "from scripts.uibuttons import *\n",
    "%uiButtons"
   ]
  },
  {
   "cell_type": "code",
   "execution_count": null,
   "metadata": {},
   "outputs": [],
   "source": [
    "import numpy as np\n",
    "import pandas as pd\n",
    "from scipy import stats\n",
    "\n",
    "import plotly.offline as py\n",
    "import plotly.tools as tls\n",
    "from plotly import graph_objs as go\n",
    "\n",
    "import matplotlib.pylab as plt\n",
    "from matplotlib.backends.backend_agg import FigureCanvasAgg as FigureCanvas\n",
    "\n",
    "import ipywidgets as widgets\n",
    "from IPython.display import display, Math, Latex, clear_output, HTML\n",
    "\n",
    "# These options allow plots to display.\n",
    "py.init_notebook_mode(connected=True)\n",
    "fig = plt.Figure()\n",
    "ax = fig.gca()\n",
    "canvas = FigureCanvas(fig)"
   ]
  },
  {
   "cell_type": "markdown",
   "metadata": {},
   "source": [
    "# Introduction\n",
    "\n",
    "Jerry Sokoloski is a Canadian actor and former basketball player. At 7'4\" (2.24 m) he is also Canada's tallest man! \n",
    "\n",
    "https://en.wikipedia.org/wiki/Jerry_Sokoloski"
   ]
  },
  {
   "cell_type": "markdown",
   "metadata": {},
   "source": [
    "![jerry](images/jerry.jpg)\n",
    "*Jerry Sokoloski walking down the street in Toronto. Photo credit: STAN BEHAL/Toronto Sun.*"
   ]
  },
  {
   "cell_type": "markdown",
   "metadata": {},
   "source": [
    "Ok, so 7'4\" seems really tall, right? What if we want to find out how Jerry - ahem - *measures up* to the rest of the Canadian population of adult men? For that task, we're going to need some more information."
   ]
  },
  {
   "cell_type": "markdown",
   "metadata": {},
   "source": [
    "# Background\n",
    "\n",
    "We can find out just how out*stand*ing Jerry is by comparing his height to thousands of other men's heights. We'll use Python to load in some data made available by the 2016 Center for Disease Control (CDC) National Health Interview Survey."
   ]
  },
  {
   "cell_type": "code",
   "execution_count": null,
   "metadata": {},
   "outputs": [],
   "source": [
    "# Load in the data.\n",
    "heights = pd.read_csv('https://raw.githubusercontent.com/callysto/data-files/main/Mathematics/StatisticalReasoning/data/menheights.csv')\n",
    "heights = heights['AHEIGHT']\n",
    "\n",
    "print('Height data loaded with {} entries.'.format(heights.index[-1]))"
   ]
  },
  {
   "cell_type": "markdown",
   "metadata": {},
   "source": [
    "As you may have guessed from the Python output, we are going to compare Jerry's height to 13890 other men. We will call the population size $N$, and set $N=13890$. The heights of these men were collected in the United States, but since the average height of Americans can be expected to be the same as the average height of Canadians, we will not worry about this.\n",
    "\n",
    "Now we'll make a **histogram** of the men's height data. This is done by a process called *binning*. To *bin* the men's heights, we just count up every height within a predetermined interval. For example, we count up every height that is between 60-62 inches (remember, these are American measurements!). After this, count every height between 62-64 inches, and so on."
   ]
  },
  {
   "cell_type": "code",
   "execution_count": null,
   "metadata": {
    "scrolled": false
   },
   "outputs": [],
   "source": [
    "hist_data = [go.Histogram(\n",
    "                x = heights, \n",
    "                visible = True\n",
    "            )]\n",
    "\n",
    "layout = dict(\n",
    "    title = 'Histogram of Heights of {} American Males'.format(heights.index[-1]),\n",
    "    xaxis = dict(\n",
    "        range = [np.min(heights)-1,np.max(heights)+1],\n",
    "        title = 'Height in Inches'\n",
    "            ),\n",
    "    yaxis = dict(title = 'Frequency')\n",
    "        )\n",
    "\n",
    "fig = dict(data=hist_data, layout=layout)\n",
    "py.iplot(fig)"
   ]
  },
  {
   "cell_type": "markdown",
   "metadata": {},
   "source": [
    "The shape of this histogram may not seem very special, but it is! When a histogram has a large bump in the middle and smaller values ('tails') at either end, we say that the dataset is approximately **normally** distributed. When a dataset is **normally** distributed, we can do all kinds of analysis on it."
   ]
  },
  {
   "cell_type": "markdown",
   "metadata": {},
   "source": [
    "Let's leave this example for a few minutes to explore a bit more about normal distributions."
   ]
  },
  {
   "cell_type": "markdown",
   "metadata": {},
   "source": [
    "## Normal Distributions\n",
    "\n",
    "You've probably heard the term 'bell curve' at some point. This is *the* normal distribution! It's an idealized model for any normally distributed dataset.\n",
    "\n",
    "Using the NumPy random module, let's approximate normal distributions by looking at histograms of numbers randomly sampled from a normal distribution. To make things easier to see, we'll only plot the histograms between -4 and 4. \n",
    "\n",
    "### *Exercise*\n",
    "Move the slider to see normally distributed histograms for smaller or larger $N$."
   ]
  },
  {
   "cell_type": "code",
   "execution_count": null,
   "metadata": {},
   "outputs": [],
   "source": [
    "N = 1000\n",
    "\n",
    "# Array of population sizes.\n",
    "sizes = list(range(1,N,100))\n",
    "n = len(sizes)\n",
    "\n",
    "data = [go.Histogram(\n",
    "        x = np.random.randn(s),\n",
    "        histnorm = '',\n",
    "        xbins = dict(\n",
    "            start = -4.0,\n",
    "            end = 4.0,\n",
    "            size = 0.08\n",
    "        ),\n",
    "        visible = False\n",
    "      ) for s in sizes]\n",
    "\n",
    "steps = []\n",
    "for i in range(n):\n",
    "    step = dict(\n",
    "        method = 'restyle',\n",
    "        args = ['visible', [False] * n],\n",
    "        label = 'N = {}'.format(sizes[i])\n",
    "    )\n",
    "    step['args'][1][i] = True\n",
    "    steps.append(step)\n",
    "\n",
    "sliders = [dict(\n",
    "    active = 0,\n",
    "    steps = steps\n",
    ")]\n",
    "\n",
    "data[0].visible = True\n",
    "\n",
    "layout = dict(\n",
    "            title = 'Histogram of Randomly Generated Numbers for Various Population Sizes',\n",
    "            sliders = sliders,\n",
    "            xaxis = dict(\n",
    "                range = [-4,4],\n",
    "                title = 'Values'\n",
    "            ),\n",
    "            yaxis = dict(title = 'Frequency')\n",
    "            )\n",
    "\n",
    "fig = dict(data=data, layout=layout)\n",
    "py.iplot(fig)"
   ]
  },
  {
   "cell_type": "markdown",
   "metadata": {},
   "source": [
    "<ul>\n",
    "    <li> What happens to the shape of the distribution as $N$ increases? </li>\n",
    "    <li> What can you estimate will happen to the shape of the distribution if $N$ is increased even further? </li>\n",
    "</ul>"
   ]
  },
  {
   "cell_type": "markdown",
   "metadata": {},
   "source": [
    "### The Mean of a Distribution\n",
    "\n",
    "Notice the big bump in the middle of the above distributions. We call the value where the top of the bump is located the **mean** of the distribution.\n",
    "\n",
    "The mean of a normally distributed dataset is usually very close in value to the middle element. It's the average of all of the elements in the dataset. Usually, we use $\\mu$ as a symbol for the mean."
   ]
  },
  {
   "cell_type": "markdown",
   "metadata": {},
   "source": [
    "### *Question*\n",
    "\n",
    "What do you think the mean is for any of the above normally distributed datasets?"
   ]
  },
  {
   "cell_type": "markdown",
   "metadata": {},
   "source": [
    "### Finding the Mean Mathematically\n",
    "\n",
    "If you want to calculate the mean for a dataset, you need to add up all of the elements and then divide by the number of elements. So, if we have the dataset ${1,2,3,4,5}$, which has 5 elements, the mean is given by\n",
    "$$\n",
    "\\mu = \\frac{1+2+3+4+5}{5} = \\frac{15}{5} = 3.\n",
    "$$\n",
    "\n",
    "In general, if we have the dataset ${x_1, x_2, x_3, \\ldots, x_N}$, where $N$ is the number of elements, then the mean is given by\n",
    "$$\n",
    "\\mu = \\frac{x_1 + x_2 + x_3 + \\ldots + x_N}{N} = \\frac{\\sum_i x_i}{N}.\n",
    "$$\n",
    "\n",
    "Notice that we use the symbol $\\sum$ as a shortcut to writing the summation of every element in the dataset. We'll spend more time talking about the symbol $x_i$ when we discuss the median.\n",
    "\n",
    "### The Median and the Mode of a Distribution\n",
    "\n",
    "There are two others numbers that can help us describe the distribution of a dataset. The first is the **median**, which is easy to find. The median is just the **middle** number of a dataset. The **mode** is even easier, it's just the most frequently occuring value in the dataset.\n",
    "\n",
    "### *Exercise*\n",
    "\n",
    "Try to click on the median of the dataset below. The correct median will turn green when clicked."
   ]
  },
  {
   "cell_type": "code",
   "execution_count": null,
   "metadata": {
    "scrolled": false
   },
   "outputs": [],
   "source": [
    "processing_code = \"\"\" \n",
    "int siz = 13;\n",
    "\n",
    "Box[] boxes = new Box[siz];\n",
    "int[] numbers = new int[siz];\n",
    "int W = 60;\n",
    "\n",
    "void setup() {  \n",
    "  size(900,128);\n",
    "  background(255);\n",
    "  strokeWeight(1);\n",
    "\n",
    "  // Create an array of random integers and sort them.\n",
    "  for (int i = 0; i < siz; i++){\n",
    "    numbers[i] = (int)random(1,61);\n",
    "  }\n",
    "  numbers = sort(numbers);\n",
    "\n",
    "  // Now create the boxes and fill them with the random integers.\n",
    "  for (int i = 0; i < siz; i++){\n",
    "    if(i == 6){\n",
    "      boxes[i] = new Box(W + i*W, W/2, W, str(numbers[i]), true);\n",
    "    }\n",
    "    else{\n",
    "      boxes[i] = new Box(W + i*W, W/2, W, str(numbers[i]), false);\n",
    "    }\n",
    "\n",
    "  }\n",
    "}\n",
    "\n",
    "void draw() {\n",
    "  for (int i = 0; i < boxes.length; i++){\n",
    "    boxes[i].display();\n",
    "  }\n",
    "}\n",
    "\n",
    "class Box {\n",
    "  boolean selected = false;\n",
    "  boolean median;\n",
    "  float x, y, w;\n",
    "  String f;\n",
    "\n",
    "  Box(float inX, float inY, float inW, String filling, boolean med) {\n",
    "    x = inX;\n",
    "    y = inY;\n",
    "    w = inW;\n",
    "    f = filling;\n",
    "    median = med;\n",
    "  }\n",
    "\n",
    "  void display() {\n",
    "    if (selected && median) {\n",
    "      fill(0, 255, 0);\n",
    "    }\n",
    "    else if(selected) {\n",
    "      fill(255,0,0);\n",
    "    }\n",
    "    else {\n",
    "      fill(255);\n",
    "    }\n",
    "    rect(x, y, w, w, 5);\n",
    "    fill(0);\n",
    "    textSize(W/2);\n",
    "    textAlign(CENTER,CENTER);\n",
    "    text(f,x+w/2,y+w/2);\n",
    "  }\n",
    "\n",
    "  boolean clicked() {\n",
    "    return mouseX > x && mouseX < x+w && mouseY > y && mouseY < y+w;\n",
    "  }\n",
    "}\n",
    "\n",
    "void mousePressed() {\n",
    "  for (int i = 0; i < boxes.length; i++) {\n",
    "    if (boxes[i].clicked()) {\n",
    "      for (int j = 0; j < boxes.length; j++) {\n",
    "        boxes[j].selected = false;\n",
    "      }\n",
    "      boxes[i].selected = true;\n",
    "      break;\n",
    "    }\n",
    "  }\n",
    "}\n",
    "\"\"\"\n",
    "\n",
    "html_template = \"\"\"\n",
    "<script type=\"text/javascript\" src=\"scripts/processing.min.js\"></script> \n",
    "<script type=\"text/javascript\">\n",
    "  var processingCode = `{}`;\n",
    "  var myCanvas = document.getElementById(\"canvas1\");\n",
    "  var jsCode = Processing.compile(processingCode);\n",
    "  var processingInstance = new Processing(myCanvas, jsCode);\n",
    " </script>\n",
    "<canvas id=\"canvas1\"> </canvas>    \n",
    "\"\"\"\n",
    "\n",
    "html_code = html_template.format(processing_code)\n",
    "HTML(html_code)"
   ]
  },
  {
   "cell_type": "markdown",
   "metadata": {},
   "source": [
    "### Finding the Median Mathematically\n",
    "\n",
    "There were an odd number of elements in the dataset ($N=13$), so the median was just the middle element. To express the median value mathematically, we need a convenient way to talk about the elements of a dataset. \n",
    "\n",
    "We will call the elements in a dataset $x_i$, where $i$ is the location, or *index* of the value. We'll start counting the index at 1. For example, in the dataset \n",
    "$$\n",
    "{1,3,3,4,5,6,11},\n",
    "$$\n",
    "we have that $x_1 = 1$, $x_2 = 3$, $x_3 = 3$, and $x_7 = 11$. This dataset has $N=7$ elements, so we could also say that $x_N = 11$. The median is the middle element, $x_4 = 4$.\n",
    "\n",
    "Now we are in a position to mathematically express the median of a dataset with $N$ an odd number. Therefore, when $N$ is odd, the median of the dataset is\n",
    "$$\n",
    "\\text{median } = x_{\\frac{N+1}{2}}.\n",
    "$$\n",
    "\n",
    "So, we look for the median at the $\\left(\\frac{N+1}{2}\\right)^{th}$ index. This is exactly what you did in the last exercise, only you did it by visually finding the middle element. You see a real benefit to using the mathematical expression when $N$ is large. Just imagine trying to look for the middle element when $N=1,000,001$! If you think that's too many, that is a pretty standard size for many datasets."
   ]
  },
  {
   "cell_type": "markdown",
   "metadata": {},
   "source": [
    "What if $N$ is even? In that case, we can't find the middle number, because there isn't one! Instead, we take the average of the *two* middle elements. For example, in the dataset\n",
    "$$\n",
    "1,3,5,6,7,8,8,10,\n",
    "$$\n",
    "the median is the average of $x_4 = 6$ and $x_5 = 7$. In other words, the median is $\\frac{6 + 7}{2} = 6.5$. **The median doesn't have to be an element of the dataset**, as we have just shown.\n",
    "\n",
    "In general, when $N$ is even, the median of the dataset is\n",
    "$$\n",
    "\\text{median } = \\frac{x_{\\frac{N}{2}} + x_{\\frac{N+1}{2}}}{2}.\n",
    "$$"
   ]
  },
  {
   "cell_type": "markdown",
   "metadata": {},
   "source": [
    "### Finding the Mean, Median, and Mode with Technology\n",
    "\n",
    "Now we'll find the mean, median, and mode of the male height dataset using Python."
   ]
  },
  {
   "cell_type": "code",
   "execution_count": null,
   "metadata": {},
   "outputs": [],
   "source": [
    "mean = np.mean(heights)\n",
    "median = np.median(heights)\n",
    "mode = stats.mode(heights, axis = None)\n",
    "\n",
    "print('Mean: {:.5} inches \\nMedian: {} inches \\nMode: {} inches, which occurs {} times'.format(mean, median, mode[0][0], mode.count[0]))"
   ]
  },
  {
   "cell_type": "markdown",
   "metadata": {},
   "source": [
    "So the mean and median are very close in value. The median and the mode have the same value, 70. The mode is 70, and the value of 70 occurs 2037 times in our dataset. So, the most frequently occurring height in our dataset is 70\", or 5'10\" (1.778 m).\n",
    "\n",
    "In a normally distributed dataset, the median, mean, and mode should all be approximately equal."
   ]
  },
  {
   "cell_type": "markdown",
   "metadata": {},
   "source": [
    "## The Shape of a Distribution: Skewness\n",
    "\n",
    "Sometimes there are elements in a dataset that can change the shape of the histogram and its underlying distribution. Let's use the heights dataset as an example. Suppose we included the heights of NBA basketball players in the dataset. This would definitely make the value of the mean higher, and might change the value of the median. Similarly, if we including the heights of 9 year old children in the dataset, the mean would be lower and the median might change.\n",
    "\n",
    "Let's plot the histogram of the heights dataset again and see what happens to the shape of the histogram when children or NBA players are included.\n",
    "\n",
    "### *Exercise*\n",
    "\n",
    "Use the drop-down menu to see what happens to the heights histogram when children's heights or NBA heights are included."
   ]
  },
  {
   "cell_type": "code",
   "execution_count": null,
   "metadata": {},
   "outputs": [],
   "source": [
    "# Read in the NBA height data.\n",
    "# CHILDheights = pd.read_csv('https://raw.githubusercontent.com/callysto/data-files/main/Mathematics/StatisticalReasoning/data/children_heights.txt', sep='\\t')\n",
    "NBAheights = pd.read_csv('https://raw.githubusercontent.com/callysto/data-files/main/Mathematics/StatisticalReasoning/data/NBAheightsonly.csv',encoding='latin-1')\n",
    "\n",
    "# Empirically create artificial 9 year-old height data.\n",
    "CHILDheights = pd.Series(np.random.randint(49,high = np.min(heights),size=(1000,)))\n",
    "\n",
    "NBAheights = NBAheights.Height\n",
    "NBAheights.columns = ['AHEIGHT']\n",
    "\n",
    "# Reset index values for error-free joining.\n",
    "NBAheights.index = range(len(heights),len(heights) + len(NBAheights))\n",
    "\n",
    "# Combine the 'heights' dataset with the other datasets.\n",
    "shortheights = heights.append(CHILDheights)\n",
    "tallheights = heights.append(NBAheights)\n",
    "\n",
    "height_histogram = go.Histogram(\n",
    "    x = heights,\n",
    "    histnorm = '',\n",
    "    xbins=dict(\n",
    "        start=50,\n",
    "        end=90,\n",
    "        size=1\n",
    "    ),\n",
    "    visible=True,\n",
    "    name = 'heights'\n",
    "    )\n",
    "\n",
    "childheight_histogram = go.Histogram(\n",
    "    x = shortheights,\n",
    "    histnorm = '',\n",
    "    xbins=dict(\n",
    "        start=50,\n",
    "        end=90,\n",
    "        size=1\n",
    "    ),\n",
    "    visible=False,\n",
    "    name = 'child'\n",
    ")\n",
    "\n",
    "NBAheight_histogram = go.Histogram(\n",
    "    x = tallheights,\n",
    "    histnorm = '',\n",
    "    xbins=dict(\n",
    "        start=50,\n",
    "        end=90,\n",
    "        size=1\n",
    "    ),\n",
    "    visible=False,\n",
    "    name = 'NBA'\n",
    ")\n",
    "\n",
    "data1 = [height_histogram, childheight_histogram, NBAheight_histogram]\n",
    "\n",
    "button_layer_1_height = 1.12\n",
    "button_layer_2_height = 1.065\n",
    "\n",
    "layout = go.Layout(\n",
    "    title = 'Adding Data Affects the Mean and Median of a Distribution',\n",
    "    width=800,\n",
    "    height=650,\n",
    "    autosize=False,\n",
    "    xaxis = dict(\n",
    "        title = 'Height',\n",
    "        range = [50,90]\n",
    "    ),\n",
    "    yaxis = dict(title = 'Frequency')\n",
    ")\n",
    "\n",
    "height_annotations=[\n",
    "    dict(text='Dataset', x=0, y=1.1, yref='paper', align='left', showarrow=False),\n",
    "    dict(\n",
    "        x=85,\n",
    "        y=1000,\n",
    "        xref='x', yref='y',\n",
    "        text='Mean: {:.5}'.format(np.mean(heights)),\n",
    "        showarrow = False\n",
    "    ),\n",
    "    dict(\n",
    "        x=85,\n",
    "        y=800,\n",
    "        xref='x', yref='y',\n",
    "       text='Median: {:.5}'.format(np.median(heights)),\n",
    "       showarrow = False\n",
    "    )]\n",
    "\n",
    "child_annotations=[\n",
    "    dict(text='Dataset', x=0, y=1.1, yref='paper', align='left', showarrow=False),\n",
    "    dict(\n",
    "        x=85,\n",
    "        y=1000,\n",
    "        xref='x', yref='y',\n",
    "        text='Mean: {:.5}'.format(np.mean(shortheights)),\n",
    "        showarrow = False\n",
    "    ),\n",
    "    dict(\n",
    "        x=85,\n",
    "        y=800,\n",
    "        xref='x', yref='y',\n",
    "       text='Median: {:.5}'.format(np.median(shortheights)),\n",
    "       showarrow = False\n",
    "    )]\n",
    "\n",
    "NBA_annotations=[\n",
    "    dict(text='Dataset', x=0, y=1.1, yref='paper', align='left', showarrow=False),\n",
    "    dict(\n",
    "        x=85,\n",
    "        y=1000,\n",
    "        xref='x', yref='y',\n",
    "        text='Mean: {:.5}'.format(np.mean(tallheights)),\n",
    "        showarrow = False\n",
    "    ),\n",
    "    dict(\n",
    "        x=85,\n",
    "        y=800,\n",
    "        xref='x', yref='y',\n",
    "       text='Median: {:.5}'.format(np.median(tallheights)),\n",
    "       showarrow = False\n",
    "    )]\n",
    "\n",
    "updatemenus=list([\n",
    "    dict(\n",
    "        active=0,\n",
    "        buttons=list([\n",
    "            dict(\n",
    "                args=[{'visible': [True, False, False]},{'annotations': height_annotations}],\n",
    "                label='Heights',\n",
    "                method='update'\n",
    "            ),\n",
    "            dict(\n",
    "                args=[{'visible': [False, True, False]},{'annotations': child_annotations}],\n",
    "                label=\"Heights with children's heights\",\n",
    "                method='update'\n",
    "            ),\n",
    "            dict(\n",
    "                args=[{'visible': [False, False, True]},{'annotations': NBA_annotations}],\n",
    "                label='Heights with NBA heights',\n",
    "                method='update'\n",
    "            )                     \n",
    "        ]),\n",
    "        direction = 'down',\n",
    "        pad = {'r': 10, 't': 10},\n",
    "        showactive = True,\n",
    "        x = 0.1,\n",
    "        xanchor = 'left',\n",
    "        y = button_layer_1_height,\n",
    "        yanchor = 'top'            \n",
    "    )\n",
    "])\n",
    "\n",
    "annotations = list([\n",
    "    dict(text='Dataset', x=0, y=1.1, yref='paper', align='left', showarrow=False )\n",
    "])\n",
    "layout['updatemenus'] = updatemenus\n",
    "\n",
    "fig = dict(data=data1, layout=layout)\n",
    "py.iplot(fig)"
   ]
  },
  {
   "cell_type": "markdown",
   "metadata": {},
   "source": [
    "<ul> \n",
    "    <li> What happens to the median as the children's or NBA heights are included in the histogram? </li>\n",
    "    <li> When a statistic doesn't change based on different input we say it is **stable**. Is the median stable? Is the mean? </li>\n",
    "</ul>"
   ]
  },
  {
   "cell_type": "markdown",
   "metadata": {},
   "source": [
    "Adding in the children's heights made the big bump in the histogram shift to the right. The children's heights also caused the mean to decrease but the median to stay the same. When a distribution has its bump shifted to the right like this, we say that the distribution is **skewed left**, **left-skewed**, or **negatively skewed**.\n",
    "\n",
    "When we added the NBA heights, the big bump in the middle shifted to the left. The NBA heights caused the mean to increase but the median to stay the same.  When a distribution has its bump shifted to the left like this, we say that the distribution is **skewed right**, **right-skewed**, or **positively skewed**.\n",
    "\n",
    "Leaving out both the children's heights and the NBA heights, the distribution looks roughly **symmetric**. This means that the distribution is not skewed left or right, but looks roughly as you look away from the middle bump in either direction."
   ]
  },
  {
   "cell_type": "markdown",
   "metadata": {},
   "source": [
    "In general, we have the following:\n",
    "<ul>\n",
    "    <li> If the median is higher than the mean, the distribution is <b>skewed right</b>. </li>\n",
    "    <li> If the mean is higher than the median, the distribution is <b>skewed left</b>. </li>\n",
    "    <li> If the median and the mean are approximately equal, the distribution is <b>symmetric</b>. </li>\n",
    "</ul>\n",
    "\n",
    "### Outliers\n",
    "\n",
    "Sometimes, if there are only a few data elements at either end of the histogram, the data elements causing the skewness might be **outliers**. An **outlier** is a data element that could be present for a number of reasons, such as a mistake when recording the data, misreading the data, or an extremely rare observation."
   ]
  },
  {
   "cell_type": "markdown",
   "metadata": {},
   "source": [
    "## The Shape of a Distribution: Standard Deviation\n",
    "\n",
    "The mean, median, and mode are good indicators of how normal a distribution or dataset might be, but they don't tell us the whole story. If we want to know about how spread out the elements of a dataset are, then we need a new statistic. The standard deviation of a dataset, written as $\\sigma$, is the measurement of how much the elements of the dataset vary as a group. In other words, how spread out the histogram is.\n",
    "\n",
    "### *Exercise*\n",
    "\n",
    "Move the slider below to see how different standard deviations affect the shape of the normal distribution."
   ]
  },
  {
   "cell_type": "code",
   "execution_count": null,
   "metadata": {},
   "outputs": [],
   "source": [
    "N = 250\n",
    "\n",
    "# Array of standard deviations and random dataset.\n",
    "sigmas = np.linspace(0.1,1,N)\n",
    "randoms = np.random.randn(N)\n",
    "\n",
    "data = [go.Histogram(x = np.sqrt(s)*randoms,\n",
    "        histnorm = '',\n",
    "        xbins=dict(\n",
    "            start=-4.0,\n",
    "            end=4.0,\n",
    "            size=0.08\n",
    "        ),\n",
    "        visible=False\n",
    "      ) for s in sigmas]\n",
    "\n",
    "steps = []\n",
    "for i in range(N):\n",
    "    step = dict(\n",
    "        method='restyle',\n",
    "        args=['visible', [False] * N],\n",
    "        label='sigma = {:.3}'.format(sigmas[i])\n",
    "    )\n",
    "    step['args'][1][i] = True\n",
    "    steps.append(step)\n",
    "\n",
    "sliders = [dict(\n",
    "    active=1,\n",
    "    steps=steps\n",
    ")]\n",
    "\n",
    "layout = dict(\n",
    "        title = 'Effect of Changing the Standard Deviation on the Shape of a Distribution',\n",
    "        sliders=sliders, \n",
    "        xaxis = dict(\n",
    "            range = [-4,4],\n",
    "            title = 'Standardized Values'\n",
    "        ),\n",
    "        yaxis = dict(\n",
    "            range = [0,30],\n",
    "            title = 'Frequency'\n",
    "        )\n",
    "    )\n",
    "\n",
    "data[0].visible = True\n",
    "\n",
    "fig = dict(data=data, layout=layout)\n",
    "py.iplot(fig)"
   ]
  },
  {
   "cell_type": "markdown",
   "metadata": {},
   "source": [
    "<ul> \n",
    "    <li> What happens to the spread of the histogram when $\\sigma$ is small? </li>\n",
    "    <li> What happens to the spread of the histogram when $\\sigma$ is large? </li>\n",
    "    <li> What can you estimate will happen for very small or very large values of $\\sigma$? </li>\n",
    "</ul>"
   ]
  },
  {
   "cell_type": "markdown",
   "metadata": {},
   "source": [
    "### Back to Jerry Sokoloski\n",
    "\n",
    "Using the standard deviation, we can also find out how far a single data element is from the rest of the dataset. We're going to use the standard deviation ($\\sigma$) of the heights dataset to find out exactly how different Mr. Sokoloksi's height is from the population. First, we'll use a line of code to find the value of $\\sigma$ for the heights dataset."
   ]
  },
  {
   "cell_type": "code",
   "execution_count": null,
   "metadata": {},
   "outputs": [],
   "source": [
    "sigma = np.std(heights)\n",
    "\n",
    "print('The standard deviation of the Heights dataset is {:.4} inches.'.format(sigma))"
   ]
  },
  {
   "cell_type": "markdown",
   "metadata": {},
   "source": [
    "One more thing about the standard normal distribution: we can expect that a certain proportion of elements will be within a given distance from the mean. These distances are given by $\\sigma$. Look at the graphic below to see the proportion of elements within $\\sigma$, $2\\sigma$, and $3\\sigma$ of the mean."
   ]
  },
  {
   "cell_type": "markdown",
   "metadata": {},
   "source": [
    "![normal](images/normaldist.png)\n",
    "*LaTeX code adapted from John Canning: http://johncanning.net/wp/?p=1202.*"
   ]
  },
  {
   "cell_type": "markdown",
   "metadata": {},
   "source": [
    "This graphic shows that 68% of the values in a normally distributed dataset will be at most a distance of $\\sigma$, or one standard deviation, from the mean. It also shows that 95% of the data should be within 2$\\sigma$ (2 standard deviations) of the mean, and that 99.7% of the data should be within 3$\\sigma$ (3 standard deviations) of the mean. This is often called the **68-95-99.7 rule**. \n",
    "\n",
    "The 68-95-99.7 rule can also be seen as the area under the curve that defines the normal distribution. 100% of the elements in a normally distributed dataset will be under the curve. We then have \n",
    "\n",
    "<ul>\n",
    "    <li> 68% of the data elements represent the area under the normal curve between $-\\sigma$ and $\\sigma$, </li>\n",
    "    <li> 95% of the data elements represent the area under the normal curve between $-2\\sigma$ and $2\\sigma$, and </li>\n",
    "    <li> 99.7% of the data elements represent the area under the normal curve between $-3\\sigma$ and $3\\sigma$. </li>\n",
    "</ul>\n",
    "\n",
    "What this means in context of our example is that we expect 68% of all men's heights to be within $\\sigma = 2.787$ of the mean. Remember, the mean of our dataset was $\\mu = 69.872$. \n",
    "\n",
    "Therefore, \n",
    "<ul>\n",
    "    <li>68% of Canadian men should have a height between $69.872 - 2.787 = 67.085$ inches and $69.872 + 2.787 = 72.659$ inches, </li>\n",
    "    <li>95% of Canadian men should have a height between $69.872 - 2\\times2.787 = 64.298$ inches and $69.872 + 2\\times2.787 = 75.446$ inches, and</li>\n",
    "    <li>99.7% of Canadian men should have a height between $69.872 - 3\\times2.787 = 61.511$ inches and $69.872 + 3\\times2.787 = 78.233$ inches. </li>\n",
    "</ul>\n",
    "\n",
    "For example, a height of 79 inches (6'7\" or 2.01 m) is over 3 standard deviations higher than the mean. Since 99.7% of the population should be *within* 3 standard deviations of the mean, we can subtract 100-99.7 to see that 0.3% of male heights should be 3$\\sigma$ below the mean **and** 3$\\sigma$ above the mean.\n",
    "\n",
    "Since 79 inches is more than 3$\\sigma$ above the mean, we can say that his height is somewhere in the top 0.15 % of male heights in Canada. \n",
    "\n",
    "We got the number 0.15 %; by dividing 0.3 %; in half, since we only were looking at the heights in the region 3$\\sigma$ above the mean."
   ]
  },
  {
   "cell_type": "markdown",
   "metadata": {},
   "source": [
    "## Comparing Apples and Oranges: Z-Scores\n",
    "\n",
    "Canadian Tire is a well-known retailer with stores across Canada. In November of 2014, Canadian Tire stock prices jumped from 198.80 dollars to 240.00 dollars, a substantial increase of &dollar;41.20, or almost 21&percnt;! For any investor, a 21&percnt; increase would be extremely welcome and rare.\n",
    "\n",
    "So what's more exceptional, Jerry Sokoloski's height or Canadian Tire's stock jump in 2014? We can check this by **standardizing** the datasets using a **z-score**."
   ]
  },
  {
   "cell_type": "markdown",
   "metadata": {},
   "source": [
    "The **z-score** of a data element is found by subtracting the mean from the element and dividing by the standard deviation. In other words, the z-score of the element $x$ is given by\n",
    "$$\n",
    "z = \\frac{x - \\mu}{\\sigma}.\n",
    "$$\n",
    "\n",
    "The **z-score** is a way of locating a standardized data element on the idealized normal distribution for a normally distributed dataset.\n",
    "\n",
    "We will use Python to calculate the z-scores of the heights dataset."
   ]
  },
  {
   "cell_type": "code",
   "execution_count": null,
   "metadata": {
    "scrolled": false
   },
   "outputs": [],
   "source": [
    "z_heights = (heights - mean)/sigma\n",
    "\n",
    "print('Standardized Heights dataset with: \\nmean = {:.5} inches \\nstandard deviation = {:.4} inches'.format(mean,sigma))\n",
    "print(z_heights)"
   ]
  },
  {
   "cell_type": "markdown",
   "metadata": {},
   "source": [
    "Standardizing a normally distributed dataset converts the data elements to their corresponding locations on the idealized bell curve, and gives the standardized dataset a mean of 0 and standard deviation of 1.\n",
    "\n",
    "Now we'll load in the Canadian Tire stock dataset, standardize it, and plot the histogram."
   ]
  },
  {
   "cell_type": "code",
   "execution_count": null,
   "metadata": {},
   "outputs": [],
   "source": [
    "# Read in the Canadian Tire financial data.\n",
    "cantire = pd.read_csv('https://raw.githubusercontent.com/callysto/data-files/main/Mathematics/StatisticalReasoning/data/canadiantire.txt', sep = '\\t')\n",
    "\n",
    "# Gains are the closing stock value minus the opening stock value.\n",
    "gain = cantire.Close - cantire.Open\n",
    "\n",
    "# We'll remove the highest stock gain for this example.\n",
    "high_gain = gain.max()\n",
    "gain = gain[gain < high_gain]\n",
    "\n",
    "# Standardize the dataset.\n",
    "z_gain = (gain - np.mean(gain))/np.std(gain)\n",
    "\n",
    "print('Canadian Tire dataset loaded with {} entries.'.format(len(z_gain)))\n",
    "print('Canadian Tire gain data standardized.')\n",
    "\n",
    "# Plot the histogram.\n",
    "hist_data1 = [go.Histogram(\n",
    "                x = z_gain, \n",
    "                visible = True\n",
    "            )]\n",
    "\n",
    "layout1 = dict(\n",
    "    xaxis = dict(\n",
    "        range = [np.min(z_gain)-1,np.max(z_gain)+1],\n",
    "        title = 'Standardized Stock Gains'\n",
    "            ),\n",
    "    yaxis = dict(\n",
    "        title = 'Frequency'\n",
    "        ),\n",
    "    title='Histogram of Standardized Canadian Tire Stock Gains'\n",
    "        )\n",
    "\n",
    "fig = dict(data=hist_data1, layout=layout1)\n",
    "py.iplot(fig)"
   ]
  },
  {
   "cell_type": "markdown",
   "metadata": {},
   "source": [
    "It looks like the Canadian Tire stock dataset is roughly normally distributed.\n",
    "\n",
    "Now we'll compare Mr. Sokoloski's height to the greatest Canadian Tire stock value jump. Here is where z-scores really shine: *the units don't matter!* Remember, our heights dataset had inches as the unit of measurement. The stock dataset uses stock prices as units. When we standardize both datasets, the units are cancelled and we are left with *dimensionless* numbers.\n",
    "\n",
    "Another benefit to using z-scores is that they enable us to determine the distance a particular data element is from the mean. We can sometimes use the 68-95-99.7 rule to find out the proportion of the dataset with values above or below the value of the data element.\n",
    "\n",
    "Let's find the z-scores for Jerry Sokoloski's height and the biggest stock value increase."
   ]
  },
  {
   "cell_type": "code",
   "execution_count": null,
   "metadata": {},
   "outputs": [],
   "source": [
    "# Standardizing Jerry's height.\n",
    "z_jerry = (88 - np.mean(heights))/np.std(heights)\n",
    "\n",
    "# Standardizing the height of the tallest spruce.\n",
    "z_gain = (high_gain - np.mean(gain))/np.std(gain)\n",
    "\n",
    "print(\"The z-score for Jerry's height is {:.5}.\".format(z_jerry))\n",
    "print(\"The z-score for the Canadian Tire stock gain is {:.5}.\".format(z_gain))"
   ]
  },
  {
   "cell_type": "markdown",
   "metadata": {},
   "source": [
    "These z-scores tell us how many standard deviations each standardized value is from the mean of the idealized normal distribution. Jerry's height is 6.5049 standard deviations above the mean, and the Canadian Tire stock jump is 5.2857 standard deviations above the mean.\n",
    "\n",
    "This tells us that Jerry's height is more exceptional and rare than the Canadian Tire stock jump, though both are very exceptional. It's difficult to use the 68-95-99.7 rule here, because neither z-score is exactly 1, 2, or 3 standard deviations from the mean. However, Python has a function for finding the proportion of the population below or above z-scores that lie in between standard deviations.\n",
    "\n",
    "We call the probability of the location of a z-score its **p-value**."
   ]
  },
  {
   "cell_type": "code",
   "execution_count": null,
   "metadata": {},
   "outputs": [],
   "source": [
    "# Calculate p-values for Jerry and Canadian Tire z-scores.\n",
    "p_jerry = 1 - stats.norm.cdf(z_jerry, 0, 1)   # Subtract the proportion below z_jerry from 1 = 100%\n",
    "p_gain = 1 - stats.norm.cdf(z_gain, 0, 1)     # Subtract the proportion below z_gain from 1 = 100%\n",
    "\n",
    "print(\"The probability of observing Jerry's height in the population is {:.6} %.\".format(p_jerry*100))\n",
    "print(\"The probability of observing the Canadian Tire stock jump is {:.6} %.\".format(p_gain*100))"
   ]
  },
  {
   "cell_type": "markdown",
   "metadata": {},
   "source": [
    "Again, we see that it is far less likely to observe Jerry's height (a 0.0000000039% probability) than to observe the Canadian Tire stock jump (a 0.0000063% probability)."
   ]
  },
  {
   "cell_type": "markdown",
   "metadata": {},
   "source": [
    "# Summary\n",
    "\n",
    "When given a dataset, we can check if it is normally distributed by:\n",
    "<ul>\n",
    "    <li> visually checking its plotted histogram or </li>\n",
    "    <li> calculating and comparing the mean, the median, and the mode. </li>\n",
    "</ul>\n",
    "\n",
    "The median and the mean can tell us if the distribution is skewed left or right, which may indicate outliers in the dataset.\n",
    "\n",
    "Examining the shape of the histogram can tell us about the skewness of the underlying distribution, and may indicate that we have outliers in the dataset. The standard deviation tells us about the spread of the data.\n",
    "\n",
    "We can compare two different normally distributed datasets by standardizing both datasets. This transforms the distribution for both datasets into the idealized normal distribution. Once we have the datasets in terms of the normal distribution, we can find the probability of observing a given data element by either the 68-95-99.7 rule or using technology such as Python."
   ]
  },
  {
   "cell_type": "markdown",
   "metadata": {},
   "source": [
    "# *Exercises*\n",
    "<ol>\n",
    "    <li> Facebook stock prices change over time, depending on many factors. Below is a plot of the histogram of Facebook stock gains between the years of 2013-2018. Look at the histogram to check if this dataset is normally distributed. </li>\n",
    "</ol>"
   ]
  },
  {
   "cell_type": "code",
   "execution_count": null,
   "metadata": {
    "scrolled": false
   },
   "outputs": [],
   "source": [
    "# load in the data.\n",
    "facebook = pd.read_csv('https://raw.githubusercontent.com/callysto/data-files/main/Mathematics/StatisticalReasoning/data/facebook.csv')\n",
    "\n",
    "# Select the difference between opening price and closing price: the 'Gain'.\n",
    "facebook = facebook.Gain\n",
    "\n",
    "# Plot the histogram.\n",
    "fb_data = [go.Histogram(\n",
    "            x = facebook,\n",
    "            visible = True\n",
    ")]\n",
    "\n",
    "layout = dict(\n",
    "    title = 'Histogram of Facebook Stock Gains',\n",
    "    xaxis = dict(\n",
    "        range = [np.min(facebook)-1,np.max(facebook)+1],\n",
    "        title = 'Stock Gains'\n",
    "            ),\n",
    "    yaxis = dict(\n",
    "        title = 'Frequency'\n",
    "            )\n",
    "        )\n",
    "\n",
    "fig = dict(data = fb_data, layout = layout)\n",
    "py.iplot(fig)"
   ]
  },
  {
   "cell_type": "code",
   "execution_count": null,
   "metadata": {},
   "outputs": [],
   "source": [
    "from ipywidgets import interact_manual, widgets, Layout\n",
    "      \n",
    "@interact_manual(answer = widgets.Select(\n",
    "    options = ['not normally distributed.', 'normally distributed.'],\n",
    "    value = None,\n",
    "    rows = 2,\n",
    "    description = 'The data is: ',\n",
    "    disabled=False\n",
    "))\n",
    "def get_answer_one(answer):\n",
    "    if answer == 'normally distributed.':\n",
    "        print('Correct!')\n",
    "    else:\n",
    "        print('Look again at the shape of the histogram. Does it look at all like a bell?') \n",
    "        \n",
    "# Change default 'Run Interact' button text.\n",
    "get_answer_one.widget.children[1].description = 'Check Answer'"
   ]
  },
  {
   "cell_type": "markdown",
   "metadata": {},
   "source": [
    "<ol start='2'>\n",
    "    <li> Look at the calculated mean, median, and mode for the Facebook dataset. What do these numbers tell you about the distribution of the data? </li>\n",
    "</ol>"
   ]
  },
  {
   "cell_type": "code",
   "execution_count": null,
   "metadata": {
    "scrolled": true
   },
   "outputs": [],
   "source": [
    "fb_mean = np.mean(facebook)\n",
    "fb_median = np.median(facebook)\n",
    "fb_mode = stats.mode(facebook, axis = None)\n",
    "\n",
    "print('Mean: ${} \\nMedian: ${}\\nMode: ${}'.format(fb_mean, fb_median, fb_mode[0][0]))"
   ]
  },
  {
   "cell_type": "code",
   "execution_count": null,
   "metadata": {},
   "outputs": [],
   "source": [
    "@interact_manual(answer = widgets.Select(\n",
    "    options = ['normally distributed.', 'not normally distributed.'],\n",
    "    value = None,\n",
    "    rows = 2,\n",
    "    description = 'The data is: ',\n",
    "    disabled=False\n",
    "))\n",
    "def get_answer_two(answer):\n",
    "    if answer == 'normally distributed.':\n",
    "        print('Correct!')\n",
    "    else:\n",
    "        print('Look again at the mean and median. Are they close in value or are they very different?') \n",
    "\n",
    "# Change default 'Run Interact' button text.\n",
    "get_answer_two.widget.children[1].description = 'Check Answer'"
   ]
  },
  {
   "cell_type": "markdown",
   "metadata": {},
   "source": [
    "<ol start = '3'>\n",
    "    <li> The standard deviation for the Facebook dataset is displayed below. The largest loss in Facebook stock prices during the years 2013-2018 was a drop of \\$9.43 on 8 February 2018. Calculate the z-score for this loss by using the formula $z=\\frac{x - \\mu}{\\sigma}$. </li>\n",
    "</ol>"
   ]
  },
  {
   "cell_type": "code",
   "execution_count": null,
   "metadata": {},
   "outputs": [],
   "source": [
    "fb_stdev = np.std(facebook)\n",
    "print('The standard deviation for the Facebook data is {}.'.format(fb_stdev))\n",
    "\n",
    "# (9.43 - fb_mean)/fb_stdev"
   ]
  },
  {
   "cell_type": "code",
   "execution_count": null,
   "metadata": {},
   "outputs": [],
   "source": [
    "@interact_manual(answer = widgets.BoundedFloatText(\n",
    "    value=0,\n",
    "    min=0,\n",
    "    max=10.0,\n",
    "    step=0.0000000000000001,\n",
    "    description='z-score:',\n",
    "    disabled=False\n",
    "))\n",
    "def get_answer_three(answer):\n",
    "    if 6.3 <= answer <= (9.43-fb_mean)/np.std(facebook):\n",
    "        print('Correct!')\n",
    "    else:\n",
    "        print('Check your algebra carefully, and try rounding to 3 digits.') \n",
    "        \n",
    "# Change default 'Run Interact' button text.\n",
    "get_answer_three.widget.children[1].description = 'Check Answer'"
   ]
  },
  {
   "cell_type": "markdown",
   "metadata": {},
   "source": [
    "<ol start = '4'>\n",
    "    <li> By examining the z-score that you just calculated for the largest stock drop, determine if this loss is more exceptional than Jerry Sokoloski's height by using the p-value calculator below. <br><b>Hint:</b> Jerry's z-score was 6.5049. </li>\n",
    "</ol>"
   ]
  },
  {
   "cell_type": "code",
   "execution_count": null,
   "metadata": {},
   "outputs": [],
   "source": [
    "style = {'description_width': 'initial'}\n",
    "\n",
    "@interact_manual(answer = widgets.FloatText(\n",
    "    value=0,\n",
    "    description='Facebook z-score:',\n",
    "    style = style,\n",
    "    disabled=False\n",
    "))\n",
    "def calculate_answer_four(answer):\n",
    "    p = 1 - stats.norm.cdf(answer, 0, 1)\n",
    "    print('The probability of observing the Facebook stock drop of {} is {}%'.format(answer, p*100))\n",
    "    \n",
    "# Change default 'Run Interact' button text.\n",
    "calculate_answer_four.widget.children[1].description = 'Calculate p-value'\n",
    "\n",
    "@interact_manual(answer = widgets.Select(\n",
    "    options = [\"less exceptional than Jerry's height.\", \"more exceptional than Jerry's height.\"],\n",
    "    description = 'Based on the above p-value, the Facebook stock drop is ',\n",
    "    value = None,\n",
    "    disabled=False,\n",
    "    style=style,\n",
    "    layout=Layout(width='75%', height='80px')\n",
    "))\n",
    "def answer_fourb(answer):\n",
    "    if answer == \"less exceptional than Jerry's height.\":\n",
    "        print(\"Yes!\")\n",
    "    else:\n",
    "        print(\"Try again, checking that you got the right z-score in question 3.\")\n",
    "\n",
    "# Change default 'Run Interact' button text.\n",
    "answer_fourb.widget.children[1].description = 'Check Answer'"
   ]
  },
  {
   "cell_type": "markdown",
   "metadata": {},
   "source": [
    "[![Callysto.ca License](https://github.com/callysto/curriculum-notebooks/blob/master/callysto-notebook-banner-bottom.jpg?raw=true)](https://github.com/callysto/curriculum-notebooks/blob/master/LICENSE.md)"
   ]
  }
 ],
 "metadata": {
  "kernelspec": {
   "display_name": "Python 3.10.4 64-bit",
   "language": "python",
   "name": "python3"
  },
  "language_info": {
   "codemirror_mode": {
    "name": "ipython",
    "version": 3
   },
   "file_extension": ".py",
   "mimetype": "text/x-python",
   "name": "python",
   "nbconvert_exporter": "python",
   "pygments_lexer": "ipython3",
   "version": "3.10.4"
  },
  "vscode": {
   "interpreter": {
    "hash": "aee8b7b246df8f9039afb4144a1f6fd8d2ca17a180786b69acc140d282b71a49"
   }
  }
 },
 "nbformat": 4,
 "nbformat_minor": 2
}
