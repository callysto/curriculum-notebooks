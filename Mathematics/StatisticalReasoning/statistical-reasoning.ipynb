{
 "cells": [
  {
   "cell_type": "markdown",
   "metadata": {},
   "source": [
    "![Callysto.ca Banner](https://github.com/callysto/curriculum-notebooks/blob/master/callysto-notebook-banner-top.jpg?raw=true)\n",
    "\n",
    "<a href=\"https://hub.callysto.ca/jupyter/hub/user-redirect/git-pull?repo=https%3A%2F%2Fgithub.com%2Fcallysto%2Fcurriculum-notebooks&branch=master&subPath=Mathematics/StatisticalReasoning/statistical-reasoning.ipynb&depth=1\" target=\"_parent\"><img src=\"https://raw.githubusercontent.com/callysto/curriculum-notebooks/master/open-in-callysto-button.svg?sanitize=true\" width=\"123\" height=\"24\" alt=\"Open in Callysto\"/></a>"
   ]
  },
  {
   "cell_type": "code",
   "execution_count": null,
   "metadata": {},
   "outputs": [],
   "source": [
    "from scripts.uibuttons import *\n",
    "%uiButtons\n",
    "\n",
    "import numpy as np\n",
    "import pandas as pd\n",
    "from scipy import stats\n",
    "\n",
    "import plotly.offline as py\n",
    "import plotly.tools as tls\n",
    "from plotly import graph_objs as go\n",
    "\n",
    "import matplotlib.pylab as plt\n",
    "from matplotlib.backends.backend_agg import FigureCanvasAgg as FigureCanvas\n",
    "\n",
    "import ipywidgets as widgets\n",
    "from IPython.display import display, Math, Latex, clear_output, HTML\n",
    "\n",
    "# These options allow plots to display.\n",
    "py.init_notebook_mode(connected=True)\n",
    "fig = plt.Figure()\n",
    "ax = fig.gca()\n",
    "canvas = FigureCanvas(fig)"
   ]
  },
  {
   "cell_type": "markdown",
   "metadata": {},
   "source": [
    "# Introduction\n",
    "\n",
    "In this notebook we are going to explore statistics.\n",
    "\n",
    "[Jerry Sokoloski](https://en.wikipedia.org/wiki/Jerry_Sokoloski) is a Canadian actor and former basketball player. At 7'4\" (2.24 m) he is also Canada's tallest man.\n",
    "\n",
    "![Jerry](images/jerry.jpg)\n",
    "\n",
    "*Jerry Sokoloski walking down the street in Toronto. Photo credit: [STAN BEHAL/Toronto Sun](https://torontosun.com/author/stanbehal).*\n",
    "\n",
    "Ok, so 7'4\" seems really tall, right? What if we want to find out how Jerry *measures up* to the rest of the Canadian population of adult men? For that task, we're going to need some more information. We can find out just how out*stand*ing Jerry is by comparing his height to thousands of other men's heights in the United States, which we'll assume should be about the same as Canada.\n",
    "\n",
    "We'll use Python to load in some data made available by the 2021 Center for Disease Control (CDC) National Health Interview Survey. Click on the code cell below, then click the `▶Run` button to download and visualize the data."
   ]
  },
  {
   "cell_type": "code",
   "execution_count": null,
   "metadata": {},
   "outputs": [],
   "source": [
    "import requests\n",
    "from io import BytesIO\n",
    "from zipfile import ZipFile\n",
    "import pandas as pd\n",
    "import plotly.express as px\n",
    "\n",
    "try:\n",
    "    r = requests.get('https://ftp.cdc.gov/pub/Health_Statistics/NCHS/Datasets/NHIS/2021/adult21csv.zip')\n",
    "    with ZipFile(BytesIO(r.content)) as z:\n",
    "        f = z.extractall()\n",
    "    df = pd.read_csv('adult21.csv')\n",
    "except:\n",
    "    df = pd.read_csv('https://raw.githubusercontent.com/callysto/data-files/main/Mathematics/StatisticalReasoning/data/adult21.csv')\n",
    "\n",
    "px.histogram(df['HEIGHTTC_A'], title='Adult Heights', labels={'value':'Height (inches)'}).update_layout(showlegend=False)"
   ]
  },
  {
   "cell_type": "markdown",
   "metadata": {},
   "source": [
    "This **histogram** of height data, in inches, shows how many individuals in the data set were *count*ed with that height. We can see that there are some very tall individuals with heights of 96 to 99 inches (2.4 to 2.5 m). According to the [NHIS Codebook](https://ftp.cdc.gov/pub/Health_Statistics/NCHS/Dataset_Documentation/NHIS/2021/adult-codebook.pdf), those are not actual height measurments.\n",
    "\n",
    "|Height Code|Description|\n",
    "|-|-|\n",
    "|96|extreme value or sex unknown|\n",
    "|97|refused|\n",
    "|98|not ascertained|\n",
    "|99|don't know|\n",
    "\n",
    "So we can remove those values and make a new histogram."
   ]
  },
  {
   "cell_type": "code",
   "execution_count": null,
   "metadata": {},
   "outputs": [],
   "source": [
    "df.drop(df[df['HEIGHTTC_A'] > 95].index, inplace=True)\n",
    "px.histogram(df['HEIGHTTC_A'], title='Adult Heights', labels={'value':'Height (inches)'}).update_layout(showlegend=False)"
   ]
  },
  {
   "cell_type": "markdown",
   "metadata": {},
   "source": [
    "Since we want to compare Jerry Sokoloski's height to adult male heights, let's use just the rows where `SEX_A` is `1` (male)."
   ]
  },
  {
   "cell_type": "code",
   "execution_count": null,
   "metadata": {},
   "outputs": [],
   "source": [
    "mdf = df[df['SEX_A'] == 1]\n",
    "px.histogram(mdf['HEIGHTTC_A'], title='Male Adult Heights', labels={'value':'Height (inches)'}).update_layout(showlegend=False)"
   ]
  },
  {
   "cell_type": "markdown",
   "metadata": {},
   "source": [
    "For comparison, we can compare that to the female heights in the data set."
   ]
  },
  {
   "cell_type": "code",
   "execution_count": null,
   "metadata": {},
   "outputs": [],
   "source": [
    "px.histogram(df[df['SEX_A']==2]['HEIGHTTC_A'], title='Female Adult Heights', labels={'value':'Height (inches)'}).update_layout(showlegend=False)"
   ]
  },
  {
   "cell_type": "markdown",
   "metadata": {},
   "source": [
    "## Normal Distribution\n",
    "\n",
    "When a histogram, like these, has a large bump in the middle and smaller values ('tails') at either end, we say that the dataset is approximately **normally** distributed.\n",
    "\n",
    "You may have heard the term [bell curve](https://en.wikipedia.org/wiki/Normal_distribution), that is *the* normal distribution. It's an idealized model for any normally distributed dataset.\n",
    "\n",
    "## The Mean of a Distribution\n",
    "\n",
    "The big bump in the middle of the data is the **mean** of the distribution. The mean of a normally distributed dataset is usually very close in value to the middle element. It's the average of all of the elements in the dataset. Usually, we use $\\mu$ as a symbol for the mean.\n",
    "\n",
    "### Finding the Mean Mathematically\n",
    "\n",
    "If you want to calculate the mean for a dataset, you need to add up all of the elements and then divide by the number of elements. So, if we have the dataset ${1,2,3,4,5}$, which has 5 elements, the mean is given by\n",
    "\n",
    "$\\mu = \\frac{1+2+3+4+5}{5} = \\frac{15}{5} = 3$\n",
    "\n",
    "In general, if we have the dataset ${x_1, x_2, x_3, \\ldots, x_N}$, where $N$ is the number of elements, then the mean is given by\n",
    "\n",
    "$\\mu = \\frac{x_1 + x_2 + x_3 + \\ldots + x_N}{N} = \\frac{\\sum_i x_i}{N}$\n",
    "\n",
    "Notice that we use the symbol $\\sum$ as a shortcut to writing the summation of every element in the dataset.\n",
    "\n",
    "Let's find the mean of our height data."
   ]
  },
  {
   "cell_type": "code",
   "execution_count": null,
   "metadata": {},
   "outputs": [],
   "source": [
    "mdf['HEIGHTTC_A'].mean()"
   ]
  },
  {
   "cell_type": "markdown",
   "metadata": {},
   "source": [
    "### The Median and the Mode of a Distribution\n",
    "\n",
    "There are two others numbers that can help us describe the distribution of a dataset. The first is the **median**, which is the **middle** number of a dataset. The **mode** is the most frequently occuring value in the dataset."
   ]
  },
  {
   "cell_type": "code",
   "execution_count": null,
   "metadata": {},
   "outputs": [],
   "source": [
    "mdf['HEIGHTTC_A'].median()"
   ]
  },
  {
   "cell_type": "code",
   "execution_count": null,
   "metadata": {},
   "outputs": [],
   "source": [
    "mdf['HEIGHTTC_A'].mode()"
   ]
  },
  {
   "cell_type": "markdown",
   "metadata": {},
   "source": [
    "In a normally distributed dataset, the median, mean, and mode should all be approximately equal.\n",
    "\n",
    "## The Shape of a Distribution: Skewness\n",
    "\n",
    "Sometimes there are elements in a dataset that can change the shape of the histogram and its underlying distribution. Let's use the heights dataset as an example. Suppose we included the heights of NBA basketball players in the dataset. This would definitely make the value of the mean higher, and might change the value of the median. Similarly, if we including the heights of children in the dataset, the mean would be lower and the median might change.\n",
    "\n",
    "Let's plot the histogram of the heights dataset again and see what the shape looks like when children or NBA players are included."
   ]
  },
  {
   "cell_type": "code",
   "execution_count": null,
   "metadata": {},
   "outputs": [],
   "source": [
    "try:\n",
    "    r = requests.get('https://ftp.cdc.gov/pub/Health_Statistics/NCHS/Datasets/NHIS/2018/samchildcsv.zip')\n",
    "    with ZipFile(BytesIO(r.content)) as z:\n",
    "        f = z.extractall()\n",
    "    cdf = pd.read_csv('samchild.csv')\n",
    "except:\n",
    "    cdf = pd.read_csv('https://raw.githubusercontent.com/callysto/data-files/main/Mathematics/StatisticalReasoning/data/samchild.csv')\n",
    "cdf.drop(cdf[cdf['CHGHT_TC'] > 95].index, inplace=True)\n",
    "mcdf = cdf[cdf['SEX'] == 1]\n",
    "px.histogram(pd.concat([mdf['HEIGHTTC_A'], mcdf['CHGHT_TC']]), title='Male Adult and Child Heights').update_layout(showlegend=False)"
   ]
  },
  {
   "cell_type": "code",
   "execution_count": null,
   "metadata": {},
   "outputs": [],
   "source": [
    "try:\n",
    "    # TODO: scrape NBA height data from somewhere like https://www.nba.com/players or https://github.com/simonwarchol/NBA-Height-Weight or https://craftednba.com/player-traits/length\n",
    "    #ndf[['heightFeet','heightInches']] = ndf['Height'].str.split('-', expand=True).astype(int)\n",
    "    #ndf['Height (inches)'] = ndf['heightFeet']*12 + ndf['heightInches']\n",
    "    pass\n",
    "except: \n",
    "    ndf = pd.read_csv('https://raw.githubusercontent.com/callysto/data-files/main/Mathematics/StatisticalReasoning/data/NBAheightsonly.csv',encoding='latin-1')\n",
    "px.histogram(pd.concat([mdf['HEIGHTTC_A'], ndf['Height']]), title='Male Adult and NBA Player Heights').update_layout(showlegend=False)"
   ]
  },
  {
   "cell_type": "code",
   "execution_count": null,
   "metadata": {},
   "outputs": [],
   "source": []
  },
  {
   "cell_type": "code",
   "execution_count": null,
   "metadata": {},
   "outputs": [],
   "source": []
  },
  {
   "cell_type": "code",
   "execution_count": null,
   "metadata": {},
   "outputs": [],
   "source": []
  },
  {
   "cell_type": "code",
   "execution_count": null,
   "metadata": {},
   "outputs": [],
   "source": []
  },
  {
   "cell_type": "code",
   "execution_count": null,
   "metadata": {},
   "outputs": [],
   "source": [
    "ChildHeights = pd.read_csv('https://raw.githubusercontent.com/callysto/data-files/main/Mathematics/StatisticalReasoning/data/children_heights.txt', sep='\\t')\n",
    "NBAheights = pd.read_csv('https://raw.githubusercontent.com/callysto/data-files/main/Mathematics/StatisticalReasoning/data/NBAheightsonly.csv',encoding='latin-1')\n",
    "\n",
    "\n",
    "NBAheights = NBAheights.Height\n",
    "NBAheights.columns = ['AHEIGHT']\n",
    "\n",
    "# Reset index values for error-free joining.\n",
    "NBAheights.index = range(len(heights),len(heights) + len(NBAheights))\n",
    "\n",
    "# Combine the 'heights' dataset with the other datasets.\n",
    "shortheights = heights.append(CHILDheights)\n",
    "tallheights = heights.append(NBAheights)\n",
    "\n",
    "height_histogram = go.Histogram(\n",
    "    x = heights,\n",
    "    histnorm = '',\n",
    "    xbins=dict(\n",
    "        start=50,\n",
    "        end=90,\n",
    "        size=1\n",
    "    ),\n",
    "    visible=True,\n",
    "    name = 'heights'\n",
    "    )\n",
    "\n",
    "childheight_histogram = go.Histogram(\n",
    "    x = shortheights,\n",
    "    histnorm = '',\n",
    "    xbins=dict(\n",
    "        start=50,\n",
    "        end=90,\n",
    "        size=1\n",
    "    ),\n",
    "    visible=False,\n",
    "    name = 'child'\n",
    ")\n",
    "\n",
    "NBAheight_histogram = go.Histogram(\n",
    "    x = tallheights,\n",
    "    histnorm = '',\n",
    "    xbins=dict(\n",
    "        start=50,\n",
    "        end=90,\n",
    "        size=1\n",
    "    ),\n",
    "    visible=False,\n",
    "    name = 'NBA'\n",
    ")\n",
    "\n",
    "data1 = [height_histogram, childheight_histogram, NBAheight_histogram]\n",
    "\n",
    "button_layer_1_height = 1.12\n",
    "button_layer_2_height = 1.065\n",
    "\n",
    "layout = go.Layout(\n",
    "    title = 'Adding Data Affects the Mean and Median of a Distribution',\n",
    "    width=800,\n",
    "    height=650,\n",
    "    autosize=False,\n",
    "    xaxis = dict(\n",
    "        title = 'Height',\n",
    "        range = [50,90]\n",
    "    ),\n",
    "    yaxis = dict(title = 'Frequency')\n",
    ")\n",
    "\n",
    "height_annotations=[\n",
    "    dict(text='Dataset', x=0, y=1.1, yref='paper', align='left', showarrow=False),\n",
    "    dict(\n",
    "        x=85,\n",
    "        y=1000,\n",
    "        xref='x', yref='y',\n",
    "        text='Mean: {:.5}'.format(np.mean(heights)),\n",
    "        showarrow = False\n",
    "    ),\n",
    "    dict(\n",
    "        x=85,\n",
    "        y=800,\n",
    "        xref='x', yref='y',\n",
    "       text='Median: {:.5}'.format(np.median(heights)),\n",
    "       showarrow = False\n",
    "    )]\n",
    "\n",
    "child_annotations=[\n",
    "    dict(text='Dataset', x=0, y=1.1, yref='paper', align='left', showarrow=False),\n",
    "    dict(\n",
    "        x=85,\n",
    "        y=1000,\n",
    "        xref='x', yref='y',\n",
    "        text='Mean: {:.5}'.format(np.mean(shortheights)),\n",
    "        showarrow = False\n",
    "    ),\n",
    "    dict(\n",
    "        x=85,\n",
    "        y=800,\n",
    "        xref='x', yref='y',\n",
    "       text='Median: {:.5}'.format(np.median(shortheights)),\n",
    "       showarrow = False\n",
    "    )]\n",
    "\n",
    "NBA_annotations=[\n",
    "    dict(text='Dataset', x=0, y=1.1, yref='paper', align='left', showarrow=False),\n",
    "    dict(\n",
    "        x=85,\n",
    "        y=1000,\n",
    "        xref='x', yref='y',\n",
    "        text='Mean: {:.5}'.format(np.mean(tallheights)),\n",
    "        showarrow = False\n",
    "    ),\n",
    "    dict(\n",
    "        x=85,\n",
    "        y=800,\n",
    "        xref='x', yref='y',\n",
    "       text='Median: {:.5}'.format(np.median(tallheights)),\n",
    "       showarrow = False\n",
    "    )]\n",
    "\n",
    "updatemenus=list([\n",
    "    dict(\n",
    "        active=0,\n",
    "        buttons=list([\n",
    "            dict(\n",
    "                args=[{'visible': [True, False, False]},{'annotations': height_annotations}],\n",
    "                label='Heights',\n",
    "                method='update'\n",
    "            ),\n",
    "            dict(\n",
    "                args=[{'visible': [False, True, False]},{'annotations': child_annotations}],\n",
    "                label=\"Heights with children's heights\",\n",
    "                method='update'\n",
    "            ),\n",
    "            dict(\n",
    "                args=[{'visible': [False, False, True]},{'annotations': NBA_annotations}],\n",
    "                label='Heights with NBA heights',\n",
    "                method='update'\n",
    "            )                     \n",
    "        ]),\n",
    "        direction = 'down',\n",
    "        pad = {'r': 10, 't': 10},\n",
    "        showactive = True,\n",
    "        x = 0.1,\n",
    "        xanchor = 'left',\n",
    "        y = button_layer_1_height,\n",
    "        yanchor = 'top'            \n",
    "    )\n",
    "])\n",
    "\n",
    "annotations = list([\n",
    "    dict(text='Dataset', x=0, y=1.1, yref='paper', align='left', showarrow=False )\n",
    "])\n",
    "layout['updatemenus'] = updatemenus\n",
    "\n",
    "fig = dict(data=data1, layout=layout)\n",
    "py.iplot(fig)"
   ]
  },
  {
   "cell_type": "markdown",
   "metadata": {},
   "source": [
    "<ul> \n",
    "    <li> What happens to the median as the children's or NBA heights are included in the histogram? </li>\n",
    "    <li> When a statistic doesn't change based on different input we say it is **stable**. Is the median stable? Is the mean? </li>\n",
    "</ul>"
   ]
  },
  {
   "cell_type": "markdown",
   "metadata": {},
   "source": [
    "Adding in the children's heights made the big bump in the histogram shift to the right. The children's heights also caused the mean to decrease but the median to stay the same. When a distribution has its bump shifted to the right like this, we say that the distribution is **skewed left**, **left-skewed**, or **negatively skewed**.\n",
    "\n",
    "When we added the NBA heights, the big bump in the middle shifted to the left. The NBA heights caused the mean to increase but the median to stay the same.  When a distribution has its bump shifted to the left like this, we say that the distribution is **skewed right**, **right-skewed**, or **positively skewed**.\n",
    "\n",
    "Leaving out both the children's heights and the NBA heights, the distribution looks roughly **symmetric**. This means that the distribution is not skewed left or right, but looks roughly as you look away from the middle bump in either direction."
   ]
  },
  {
   "cell_type": "markdown",
   "metadata": {},
   "source": [
    "In general, we have the following:\n",
    "<ul>\n",
    "    <li> If the median is higher than the mean, the distribution is <b>skewed right</b>. </li>\n",
    "    <li> If the mean is higher than the median, the distribution is <b>skewed left</b>. </li>\n",
    "    <li> If the median and the mean are approximately equal, the distribution is <b>symmetric</b>. </li>\n",
    "</ul>\n",
    "\n",
    "### Outliers\n",
    "\n",
    "Sometimes, if there are only a few data elements at either end of the histogram, the data elements causing the skewness might be **outliers**. An **outlier** is a data element that could be present for a number of reasons, such as a mistake when recording the data, misreading the data, or an extremely rare observation."
   ]
  },
  {
   "cell_type": "markdown",
   "metadata": {},
   "source": [
    "## The Shape of a Distribution: Standard Deviation\n",
    "\n",
    "The mean, median, and mode are good indicators of how normal a distribution or dataset might be, but they don't tell us the whole story. If we want to know about how spread out the elements of a dataset are, then we need a new statistic. The standard deviation of a dataset, written as $\\sigma$, is the measurement of how much the elements of the dataset vary as a group. In other words, how spread out the histogram is.\n",
    "\n",
    "### *Exercise*\n",
    "\n",
    "Move the slider below to see how different standard deviations affect the shape of the normal distribution."
   ]
  },
  {
   "cell_type": "code",
   "execution_count": null,
   "metadata": {},
   "outputs": [],
   "source": [
    "N = 250\n",
    "\n",
    "# Array of standard deviations and random dataset.\n",
    "sigmas = np.linspace(0.1,1,N)\n",
    "randoms = np.random.randn(N)\n",
    "\n",
    "data = [go.Histogram(x = np.sqrt(s)*randoms,\n",
    "        histnorm = '',\n",
    "        xbins=dict(\n",
    "            start=-4.0,\n",
    "            end=4.0,\n",
    "            size=0.08\n",
    "        ),\n",
    "        visible=False\n",
    "      ) for s in sigmas]\n",
    "\n",
    "steps = []\n",
    "for i in range(N):\n",
    "    step = dict(\n",
    "        method='restyle',\n",
    "        args=['visible', [False] * N],\n",
    "        label='sigma = {:.3}'.format(sigmas[i])\n",
    "    )\n",
    "    step['args'][1][i] = True\n",
    "    steps.append(step)\n",
    "\n",
    "sliders = [dict(\n",
    "    active=1,\n",
    "    steps=steps\n",
    ")]\n",
    "\n",
    "layout = dict(\n",
    "        title = 'Effect of Changing the Standard Deviation on the Shape of a Distribution',\n",
    "        sliders=sliders, \n",
    "        xaxis = dict(\n",
    "            range = [-4,4],\n",
    "            title = 'Standardized Values'\n",
    "        ),\n",
    "        yaxis = dict(\n",
    "            range = [0,30],\n",
    "            title = 'Frequency'\n",
    "        )\n",
    "    )\n",
    "\n",
    "data[0].visible = True\n",
    "\n",
    "fig = dict(data=data, layout=layout)\n",
    "py.iplot(fig)"
   ]
  },
  {
   "cell_type": "markdown",
   "metadata": {},
   "source": [
    "<ul> \n",
    "    <li> What happens to the spread of the histogram when $\\sigma$ is small? </li>\n",
    "    <li> What happens to the spread of the histogram when $\\sigma$ is large? </li>\n",
    "    <li> What can you estimate will happen for very small or very large values of $\\sigma$? </li>\n",
    "</ul>"
   ]
  },
  {
   "cell_type": "markdown",
   "metadata": {},
   "source": [
    "### Back to Jerry Sokoloski\n",
    "\n",
    "Using the standard deviation, we can also find out how far a single data element is from the rest of the dataset. We're going to use the standard deviation ($\\sigma$) of the heights dataset to find out exactly how different Mr. Sokoloksi's height is from the population. First, we'll use a line of code to find the value of $\\sigma$ for the heights dataset."
   ]
  },
  {
   "cell_type": "code",
   "execution_count": null,
   "metadata": {},
   "outputs": [],
   "source": [
    "sigma = np.std(heights)\n",
    "\n",
    "print('The standard deviation of the Heights dataset is {:.4} inches.'.format(sigma))"
   ]
  },
  {
   "cell_type": "markdown",
   "metadata": {},
   "source": [
    "One more thing about the standard normal distribution: we can expect that a certain proportion of elements will be within a given distance from the mean. These distances are given by $\\sigma$. Look at the graphic below to see the proportion of elements within $\\sigma$, $2\\sigma$, and $3\\sigma$ of the mean."
   ]
  },
  {
   "cell_type": "markdown",
   "metadata": {},
   "source": [
    "![normal](images/normaldist.png)\n",
    "*LaTeX code adapted from John Canning: http://johncanning.net/wp/?p=1202.*"
   ]
  },
  {
   "cell_type": "markdown",
   "metadata": {},
   "source": [
    "This graphic shows that 68% of the values in a normally distributed dataset will be at most a distance of $\\sigma$, or one standard deviation, from the mean. It also shows that 95% of the data should be within 2$\\sigma$ (2 standard deviations) of the mean, and that 99.7% of the data should be within 3$\\sigma$ (3 standard deviations) of the mean. This is often called the **68-95-99.7 rule**. \n",
    "\n",
    "The 68-95-99.7 rule can also be seen as the area under the curve that defines the normal distribution. 100% of the elements in a normally distributed dataset will be under the curve. We then have \n",
    "\n",
    "<ul>\n",
    "    <li> 68% of the data elements represent the area under the normal curve between $-\\sigma$ and $\\sigma$, </li>\n",
    "    <li> 95% of the data elements represent the area under the normal curve between $-2\\sigma$ and $2\\sigma$, and </li>\n",
    "    <li> 99.7% of the data elements represent the area under the normal curve between $-3\\sigma$ and $3\\sigma$. </li>\n",
    "</ul>\n",
    "\n",
    "What this means in context of our example is that we expect 68% of all men's heights to be within $\\sigma = 2.787$ of the mean. Remember, the mean of our dataset was $\\mu = 69.872$. \n",
    "\n",
    "Therefore, \n",
    "<ul>\n",
    "    <li>68% of Canadian men should have a height between $69.872 - 2.787 = 67.085$ inches and $69.872 + 2.787 = 72.659$ inches, </li>\n",
    "    <li>95% of Canadian men should have a height between $69.872 - 2\\times2.787 = 64.298$ inches and $69.872 + 2\\times2.787 = 75.446$ inches, and</li>\n",
    "    <li>99.7% of Canadian men should have a height between $69.872 - 3\\times2.787 = 61.511$ inches and $69.872 + 3\\times2.787 = 78.233$ inches. </li>\n",
    "</ul>\n",
    "\n",
    "For example, a height of 79 inches (6'7\" or 2.01 m) is over 3 standard deviations higher than the mean. Since 99.7% of the population should be *within* 3 standard deviations of the mean, we can subtract 100-99.7 to see that 0.3% of male heights should be 3$\\sigma$ below the mean **and** 3$\\sigma$ above the mean.\n",
    "\n",
    "Since 79 inches is more than 3$\\sigma$ above the mean, we can say that his height is somewhere in the top 0.15 % of male heights in Canada. \n",
    "\n",
    "We got the number 0.15 %; by dividing 0.3 %; in half, since we only were looking at the heights in the region 3$\\sigma$ above the mean."
   ]
  },
  {
   "cell_type": "markdown",
   "metadata": {},
   "source": [
    "## Comparing Apples and Oranges: Z-Scores\n",
    "\n",
    "Canadian Tire is a well-known retailer with stores across Canada. In November of 2014, Canadian Tire stock prices jumped from 198.80 dollars to 240.00 dollars, a substantial increase of &dollar;41.20, or almost 21&percnt;! For any investor, a 21&percnt; increase would be extremely welcome and rare.\n",
    "\n",
    "So what's more exceptional, Jerry Sokoloski's height or Canadian Tire's stock jump in 2014? We can check this by **standardizing** the datasets using a **z-score**."
   ]
  },
  {
   "cell_type": "markdown",
   "metadata": {},
   "source": [
    "The **z-score** of a data element is found by subtracting the mean from the element and dividing by the standard deviation. In other words, the z-score of the element $x$ is given by\n",
    "$$\n",
    "z = \\frac{x - \\mu}{\\sigma}.\n",
    "$$\n",
    "\n",
    "The **z-score** is a way of locating a standardized data element on the idealized normal distribution for a normally distributed dataset.\n",
    "\n",
    "We will use Python to calculate the z-scores of the heights dataset."
   ]
  },
  {
   "cell_type": "code",
   "execution_count": null,
   "metadata": {
    "scrolled": false
   },
   "outputs": [],
   "source": [
    "z_heights = (heights - mean)/sigma\n",
    "\n",
    "print('Standardized Heights dataset with: \\nmean = {:.5} inches \\nstandard deviation = {:.4} inches'.format(mean,sigma))\n",
    "print(z_heights)"
   ]
  },
  {
   "cell_type": "markdown",
   "metadata": {},
   "source": [
    "Standardizing a normally distributed dataset converts the data elements to their corresponding locations on the idealized bell curve, and gives the standardized dataset a mean of 0 and standard deviation of 1.\n",
    "\n",
    "Now we'll load in the Canadian Tire stock dataset, standardize it, and plot the histogram."
   ]
  },
  {
   "cell_type": "code",
   "execution_count": null,
   "metadata": {},
   "outputs": [],
   "source": [
    "# Read in the Canadian Tire financial data.\n",
    "cantire = pd.read_csv('https://raw.githubusercontent.com/callysto/data-files/main/Mathematics/StatisticalReasoning/data/canadiantire.txt', sep = '\\t')\n",
    "\n",
    "# Gains are the closing stock value minus the opening stock value.\n",
    "gain = cantire.Close - cantire.Open\n",
    "\n",
    "# We'll remove the highest stock gain for this example.\n",
    "high_gain = gain.max()\n",
    "gain = gain[gain < high_gain]\n",
    "\n",
    "# Standardize the dataset.\n",
    "z_gain = (gain - np.mean(gain))/np.std(gain)\n",
    "\n",
    "print('Canadian Tire dataset loaded with {} entries.'.format(len(z_gain)))\n",
    "print('Canadian Tire gain data standardized.')\n",
    "\n",
    "# Plot the histogram.\n",
    "hist_data1 = [go.Histogram(\n",
    "                x = z_gain, \n",
    "                visible = True\n",
    "            )]\n",
    "\n",
    "layout1 = dict(\n",
    "    xaxis = dict(\n",
    "        range = [np.min(z_gain)-1,np.max(z_gain)+1],\n",
    "        title = 'Standardized Stock Gains'\n",
    "            ),\n",
    "    yaxis = dict(\n",
    "        title = 'Frequency'\n",
    "        ),\n",
    "    title='Histogram of Standardized Canadian Tire Stock Gains'\n",
    "        )\n",
    "\n",
    "fig = dict(data=hist_data1, layout=layout1)\n",
    "py.iplot(fig)"
   ]
  },
  {
   "cell_type": "markdown",
   "metadata": {},
   "source": [
    "It looks like the Canadian Tire stock dataset is roughly normally distributed.\n",
    "\n",
    "Now we'll compare Mr. Sokoloski's height to the greatest Canadian Tire stock value jump. Here is where z-scores really shine: *the units don't matter!* Remember, our heights dataset had inches as the unit of measurement. The stock dataset uses stock prices as units. When we standardize both datasets, the units are cancelled and we are left with *dimensionless* numbers.\n",
    "\n",
    "Another benefit to using z-scores is that they enable us to determine the distance a particular data element is from the mean. We can sometimes use the 68-95-99.7 rule to find out the proportion of the dataset with values above or below the value of the data element.\n",
    "\n",
    "Let's find the z-scores for Jerry Sokoloski's height and the biggest stock value increase."
   ]
  },
  {
   "cell_type": "code",
   "execution_count": null,
   "metadata": {},
   "outputs": [],
   "source": [
    "# Standardizing Jerry's height.\n",
    "z_jerry = (88 - np.mean(heights))/np.std(heights)\n",
    "\n",
    "# Standardizing the height of the tallest spruce.\n",
    "z_gain = (high_gain - np.mean(gain))/np.std(gain)\n",
    "\n",
    "print(\"The z-score for Jerry's height is {:.5}.\".format(z_jerry))\n",
    "print(\"The z-score for the Canadian Tire stock gain is {:.5}.\".format(z_gain))"
   ]
  },
  {
   "cell_type": "markdown",
   "metadata": {},
   "source": [
    "These z-scores tell us how many standard deviations each standardized value is from the mean of the idealized normal distribution. Jerry's height is 6.5049 standard deviations above the mean, and the Canadian Tire stock jump is 5.2857 standard deviations above the mean.\n",
    "\n",
    "This tells us that Jerry's height is more exceptional and rare than the Canadian Tire stock jump, though both are very exceptional. It's difficult to use the 68-95-99.7 rule here, because neither z-score is exactly 1, 2, or 3 standard deviations from the mean. However, Python has a function for finding the proportion of the population below or above z-scores that lie in between standard deviations.\n",
    "\n",
    "We call the probability of the location of a z-score its **p-value**."
   ]
  },
  {
   "cell_type": "code",
   "execution_count": null,
   "metadata": {},
   "outputs": [],
   "source": [
    "# Calculate p-values for Jerry and Canadian Tire z-scores.\n",
    "p_jerry = 1 - stats.norm.cdf(z_jerry, 0, 1)   # Subtract the proportion below z_jerry from 1 = 100%\n",
    "p_gain = 1 - stats.norm.cdf(z_gain, 0, 1)     # Subtract the proportion below z_gain from 1 = 100%\n",
    "\n",
    "print(\"The probability of observing Jerry's height in the population is {:.6} %.\".format(p_jerry*100))\n",
    "print(\"The probability of observing the Canadian Tire stock jump is {:.6} %.\".format(p_gain*100))"
   ]
  },
  {
   "cell_type": "markdown",
   "metadata": {},
   "source": [
    "Again, we see that it is far less likely to observe Jerry's height (a 0.0000000039% probability) than to observe the Canadian Tire stock jump (a 0.0000063% probability)."
   ]
  },
  {
   "cell_type": "markdown",
   "metadata": {},
   "source": [
    "# Summary\n",
    "\n",
    "When given a dataset, we can check if it is normally distributed by:\n",
    "<ul>\n",
    "    <li> visually checking its plotted histogram or </li>\n",
    "    <li> calculating and comparing the mean, the median, and the mode. </li>\n",
    "</ul>\n",
    "\n",
    "The median and the mean can tell us if the distribution is skewed left or right, which may indicate outliers in the dataset.\n",
    "\n",
    "Examining the shape of the histogram can tell us about the skewness of the underlying distribution, and may indicate that we have outliers in the dataset. The standard deviation tells us about the spread of the data.\n",
    "\n",
    "We can compare two different normally distributed datasets by standardizing both datasets. This transforms the distribution for both datasets into the idealized normal distribution. Once we have the datasets in terms of the normal distribution, we can find the probability of observing a given data element by either the 68-95-99.7 rule or using technology such as Python."
   ]
  },
  {
   "cell_type": "markdown",
   "metadata": {},
   "source": [
    "# *Exercises*\n",
    "<ol>\n",
    "    <li> Facebook stock prices change over time, depending on many factors. Below is a plot of the histogram of Facebook stock gains between the years of 2013-2018. Look at the histogram to check if this dataset is normally distributed. </li>\n",
    "</ol>"
   ]
  },
  {
   "cell_type": "code",
   "execution_count": null,
   "metadata": {
    "scrolled": false
   },
   "outputs": [],
   "source": [
    "# load in the data.\n",
    "facebook = pd.read_csv('https://raw.githubusercontent.com/callysto/data-files/main/Mathematics/StatisticalReasoning/data/facebook.csv')\n",
    "\n",
    "# Select the difference between opening price and closing price: the 'Gain'.\n",
    "facebook = facebook.Gain\n",
    "\n",
    "# Plot the histogram.\n",
    "fb_data = [go.Histogram(\n",
    "            x = facebook,\n",
    "            visible = True\n",
    ")]\n",
    "\n",
    "layout = dict(\n",
    "    title = 'Histogram of Facebook Stock Gains',\n",
    "    xaxis = dict(\n",
    "        range = [np.min(facebook)-1,np.max(facebook)+1],\n",
    "        title = 'Stock Gains'\n",
    "            ),\n",
    "    yaxis = dict(\n",
    "        title = 'Frequency'\n",
    "            )\n",
    "        )\n",
    "\n",
    "fig = dict(data = fb_data, layout = layout)\n",
    "py.iplot(fig)"
   ]
  },
  {
   "cell_type": "code",
   "execution_count": null,
   "metadata": {},
   "outputs": [],
   "source": [
    "from ipywidgets import interact_manual, widgets, Layout\n",
    "      \n",
    "@interact_manual(answer = widgets.Select(\n",
    "    options = ['not normally distributed.', 'normally distributed.'],\n",
    "    value = None,\n",
    "    rows = 2,\n",
    "    description = 'The data is: ',\n",
    "    disabled=False\n",
    "))\n",
    "def get_answer_one(answer):\n",
    "    if answer == 'normally distributed.':\n",
    "        print('Correct!')\n",
    "    else:\n",
    "        print('Look again at the shape of the histogram. Does it look at all like a bell?') \n",
    "        \n",
    "# Change default 'Run Interact' button text.\n",
    "get_answer_one.widget.children[1].description = 'Check Answer'"
   ]
  },
  {
   "cell_type": "markdown",
   "metadata": {},
   "source": [
    "<ol start='2'>\n",
    "    <li> Look at the calculated mean, median, and mode for the Facebook dataset. What do these numbers tell you about the distribution of the data? </li>\n",
    "</ol>"
   ]
  },
  {
   "cell_type": "code",
   "execution_count": null,
   "metadata": {
    "scrolled": true
   },
   "outputs": [],
   "source": [
    "fb_mean = np.mean(facebook)\n",
    "fb_median = np.median(facebook)\n",
    "fb_mode = stats.mode(facebook, axis = None)\n",
    "\n",
    "print('Mean: ${} \\nMedian: ${}\\nMode: ${}'.format(fb_mean, fb_median, fb_mode[0][0]))"
   ]
  },
  {
   "cell_type": "code",
   "execution_count": null,
   "metadata": {},
   "outputs": [],
   "source": [
    "@interact_manual(answer = widgets.Select(\n",
    "    options = ['normally distributed.', 'not normally distributed.'],\n",
    "    value = None,\n",
    "    rows = 2,\n",
    "    description = 'The data is: ',\n",
    "    disabled=False\n",
    "))\n",
    "def get_answer_two(answer):\n",
    "    if answer == 'normally distributed.':\n",
    "        print('Correct!')\n",
    "    else:\n",
    "        print('Look again at the mean and median. Are they close in value or are they very different?') \n",
    "\n",
    "# Change default 'Run Interact' button text.\n",
    "get_answer_two.widget.children[1].description = 'Check Answer'"
   ]
  },
  {
   "cell_type": "markdown",
   "metadata": {},
   "source": [
    "<ol start = '3'>\n",
    "    <li> The standard deviation for the Facebook dataset is displayed below. The largest loss in Facebook stock prices during the years 2013-2018 was a drop of \\$9.43 on 8 February 2018. Calculate the z-score for this loss by using the formula $z=\\frac{x - \\mu}{\\sigma}$. </li>\n",
    "</ol>"
   ]
  },
  {
   "cell_type": "code",
   "execution_count": null,
   "metadata": {},
   "outputs": [],
   "source": [
    "fb_stdev = np.std(facebook)\n",
    "print('The standard deviation for the Facebook data is {}.'.format(fb_stdev))\n",
    "\n",
    "# (9.43 - fb_mean)/fb_stdev"
   ]
  },
  {
   "cell_type": "code",
   "execution_count": null,
   "metadata": {},
   "outputs": [],
   "source": [
    "@interact_manual(answer = widgets.BoundedFloatText(\n",
    "    value=0,\n",
    "    min=0,\n",
    "    max=10.0,\n",
    "    step=0.0000000000000001,\n",
    "    description='z-score:',\n",
    "    disabled=False\n",
    "))\n",
    "def get_answer_three(answer):\n",
    "    if 6.3 <= answer <= (9.43-fb_mean)/np.std(facebook):\n",
    "        print('Correct!')\n",
    "    else:\n",
    "        print('Check your algebra carefully, and try rounding to 3 digits.') \n",
    "        \n",
    "# Change default 'Run Interact' button text.\n",
    "get_answer_three.widget.children[1].description = 'Check Answer'"
   ]
  },
  {
   "cell_type": "markdown",
   "metadata": {},
   "source": [
    "<ol start = '4'>\n",
    "    <li> By examining the z-score that you just calculated for the largest stock drop, determine if this loss is more exceptional than Jerry Sokoloski's height by using the p-value calculator below. <br><b>Hint:</b> Jerry's z-score was 6.5049. </li>\n",
    "</ol>"
   ]
  },
  {
   "cell_type": "code",
   "execution_count": null,
   "metadata": {},
   "outputs": [],
   "source": [
    "style = {'description_width': 'initial'}\n",
    "\n",
    "@interact_manual(answer = widgets.FloatText(\n",
    "    value=0,\n",
    "    description='Facebook z-score:',\n",
    "    style = style,\n",
    "    disabled=False\n",
    "))\n",
    "def calculate_answer_four(answer):\n",
    "    p = 1 - stats.norm.cdf(answer, 0, 1)\n",
    "    print('The probability of observing the Facebook stock drop of {} is {}%'.format(answer, p*100))\n",
    "    \n",
    "# Change default 'Run Interact' button text.\n",
    "calculate_answer_four.widget.children[1].description = 'Calculate p-value'\n",
    "\n",
    "@interact_manual(answer = widgets.Select(\n",
    "    options = [\"less exceptional than Jerry's height.\", \"more exceptional than Jerry's height.\"],\n",
    "    description = 'Based on the above p-value, the Facebook stock drop is ',\n",
    "    value = None,\n",
    "    disabled=False,\n",
    "    style=style,\n",
    "    layout=Layout(width='75%', height='80px')\n",
    "))\n",
    "def answer_fourb(answer):\n",
    "    if answer == \"less exceptional than Jerry's height.\":\n",
    "        print(\"Yes!\")\n",
    "    else:\n",
    "        print(\"Try again, checking that you got the right z-score in question 3.\")\n",
    "\n",
    "# Change default 'Run Interact' button text.\n",
    "answer_fourb.widget.children[1].description = 'Check Answer'"
   ]
  },
  {
   "cell_type": "markdown",
   "metadata": {},
   "source": [
    "# Conclusion\n",
    "\n"
   ]
  },
  {
   "cell_type": "markdown",
   "metadata": {},
   "source": [
    "[![Callysto.ca License](https://github.com/callysto/curriculum-notebooks/blob/master/callysto-notebook-banner-bottom.jpg?raw=true)](https://github.com/callysto/curriculum-notebooks/blob/master/LICENSE.md)"
   ]
  }
 ],
 "metadata": {
  "kernelspec": {
   "display_name": "Python 3.10.1 64-bit",
   "language": "python",
   "name": "python3"
  },
  "language_info": {
   "codemirror_mode": {
    "name": "ipython",
    "version": 3
   },
   "file_extension": ".py",
   "mimetype": "text/x-python",
   "name": "python",
   "nbconvert_exporter": "python",
   "pygments_lexer": "ipython3",
   "version": "3.10.1"
  },
  "vscode": {
   "interpreter": {
    "hash": "d1ca6d17674200220921376aaeb3d36cffe15ecab2470a9a5e7a456cdbf61425"
   }
  }
 },
 "nbformat": 4,
 "nbformat_minor": 2
}
