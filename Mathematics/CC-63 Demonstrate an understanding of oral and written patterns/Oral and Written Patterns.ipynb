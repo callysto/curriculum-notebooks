{
 "cells": [
  {
   "cell_type": "markdown",
   "metadata": {},
   "source": [
    "# Understanding Patterns\n",
    "\n",
    "## Introduction\n",
    "\n",
    "Patterns appear all around us in everyday life, and in nature. \n",
    "Here are some examples of patterns in action:\n",
    "\n",
    "<p style=\"text-align: center;\"> **Nature**(Try and guess what plant this is! We'll revisit it later) </p> \n",
    "<img src=\"https://i.redd.it/f3y77ihpx5cy.gif\" alt=\"drawing\" style=\"width: 400px;\"/>\n",
    "<p style=\"text-align: center;\">**Greek Mythology**</p>\n",
    "<img src=\"http://www.gifmania.co.uk/Fantasy-Animated-Gifs/Animated-Fantasy-Animals/Hydra/Jason-Vs-Hydra-87071.gif\" alt=\"drawing\" style=\"width: 400px;\"/>\n",
    "<p style=\"text-align: center;\">**Knitting**</p>\n",
    "<img src=\"https://media1.tenor.com/images/6c05b7bb5bc943e33802838366d5adc2/tenor.gif?itemid=4730074\" alt=\"drawing\" style=\"width: 400px;\"/>\n",
    "\n",
    "\n",
    "and more. One of the funnest parts of math is discovering how we can use math to better understand the world around us. Today we're going to learn how math can help us understand patterns!"
   ]
  },
  {
   "cell_type": "markdown",
   "metadata": {},
   "source": [
    "## Background\n",
    "\n",
    "Today we're going to look at patterns that we can describe using numbers. All of the patterns we're going to talk about today are called **Sequences**, where there is an ordering to the pattern, imagine how the alphabet has the ordering: A, B, C, D, and so on. A is the *first* item in our sequence, and Z is the *last* element in our sequence. Not all sequences have an end, some of then keep going, and going, and going! Another simple sequence is the positive number line, where the next number is the previous number plus one.\n",
    "\n",
    "### The Alphabet as a sequence\n",
    "![]( img/Alphabet Sequence.svg )\n",
    "### The Counting Numbers\n",
    "![]( img/Positive Number Line.svg )\n"
   ]
  },
  {
   "cell_type": "markdown",
   "metadata": {},
   "source": [
    "## Examples\n",
    "\n",
    "There is a greek  tale where the hero Hercules has to fight a Hyrda, which can regrow it's heads. Infact, everytime it loses a head, TWO grow in it's place. How can we think of this as a pattern? Well to start let's say it has just one head, after hercules removes this head, now there are two in it's place. Next there is three heads, then four heads, and so on!  For this example, let's break it down at look at some small cases first. \n",
    "\n",
    "<ul>\n",
    "<li>The first number in the patttern: 1  <- The number of heads the hydra has to start </li>\n",
    "\n",
    "<li>The second number in the pattern: 2 <- After one head is cutoff</li>\n",
    "\n",
    "<li>The third number in the pattern: 3 <- After another head</li>\n",
    "\n",
    "<li>The fourth number in the pattern: 4 <- Another one</li>\n",
    "    \n",
    "</ul>\n",
    "\n",
    "\n",
    "Does this sound familiar? That's because the **rule** for the hydra pattern is the same as for the number line we saw above. A rule lets us accurately describe a sequence in a formula. We call it a rule because every item in our sequence will follow the rule. We want to try and make a rule as simple as possible so that if we wanted to know how many heads the hydra had after 25 cuts we can know right away without counting from 1 cut up to 25 cuts.\n",
    "\n",
    "Let's think about it in words, first we have the amount from the previous step, then we takeaway one head which hercules chose to cut off, and then we add two heads which grow in it's place. \n",
    "\n",
    "We can slowly change some words into math symbols we know:\n",
    "\n",
    "(we have the amount from the previous step) - (one head which hercules chose to cut off) + (two heads which grow in it's place)\n",
    "\n",
    "Let's say we want to find out how many heads there is after n cuts. This means before this point the hydra had n-1 heads. So:\n",
    "\n",
    "$ (n - 1) - (1) + (2) = n - 1 - 1 + 2 = n -2 + 2 = n $\n",
    "\n",
    "If we wanted to write it as a rule, we can do it like this:\n",
    "\n",
    "$ x_n = n $\n",
    "\n",
    "This is saying the n'th number ($x_n$) in the pattern is equal to n.  "
   ]
  },
  {
   "cell_type": "code",
   "execution_count": 7,
   "metadata": {},
   "outputs": [
    {
     "ename": "SyntaxError",
     "evalue": "EOF while scanning triple-quoted string literal (<ipython-input-7-208e35417639>, line 5)",
     "output_type": "error",
     "traceback": [
      "\u001b[0;36m  File \u001b[0;32m\"<ipython-input-7-208e35417639>\"\u001b[0;36m, line \u001b[0;32m5\u001b[0m\n\u001b[0;31m    display(HTML(scriptJavascript))\u001b[0m\n\u001b[0m                                   \n^\u001b[0m\n\u001b[0;31mSyntaxError\u001b[0m\u001b[0;31m:\u001b[0m EOF while scanning triple-quoted string literal\n"
     ]
    }
   ],
   "source": []
  },
  {
   "cell_type": "code",
   "execution_count": null,
   "metadata": {},
   "outputs": [],
   "source": []
  },
  {
   "cell_type": "markdown",
   "metadata": {},
   "source": []
  }
 ],
 "metadata": {
  "kernelspec": {
   "display_name": "Python 3",
   "language": "python",
   "name": "python3"
  },
  "language_info": {
   "codemirror_mode": {
    "name": "ipython",
    "version": 3
   },
   "file_extension": ".py",
   "mimetype": "text/x-python",
   "name": "python",
   "nbconvert_exporter": "python",
   "pygments_lexer": "ipython3",
   "version": "3.6.5"
  }
 },
 "nbformat": 4,
 "nbformat_minor": 2
}
