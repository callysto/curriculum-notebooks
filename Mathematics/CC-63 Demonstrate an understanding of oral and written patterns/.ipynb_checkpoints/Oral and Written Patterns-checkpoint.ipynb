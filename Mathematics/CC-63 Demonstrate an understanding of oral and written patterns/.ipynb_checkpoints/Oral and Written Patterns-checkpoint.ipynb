{
 "cells": [
  {
   "cell_type": "markdown",
   "metadata": {},
   "source": [
    "![](img/Callysto_Notebook-Banner_Top_06.06.18.jpg)"
   ]
  },
  {
   "cell_type": "code",
   "execution_count": 1,
   "metadata": {},
   "outputs": [
    {
     "data": {
      "text/html": [
       "<script>\n",
       " function code_toggle() {\n",
       "   if (code_shown){\n",
       "     $('div.input').hide('500');\n",
       "     $('#toggleButton').val('Show Code')\n",
       "   } else {\n",
       "     $('div.input').show('500');\n",
       "     $('#toggleButton').val('Hide Code')\n",
       "   }\n",
       "   code_shown = !code_shown\n",
       " }\n",
       " \n",
       " $( document ).ready(function(){\n",
       "   code_shown=false;\n",
       "   $('div.input').hide()\n",
       " });\n",
       "</script>\n",
       "<form action=\"javascript:code_toggle()\"><input type=\"submit\" id=\"toggleButton\" value=\"Show Code\"></form>"
      ],
      "text/plain": [
       "<IPython.core.display.HTML object>"
      ]
     },
     "execution_count": 1,
     "metadata": {},
     "output_type": "execute_result"
    }
   ],
   "source": [
    "from IPython.core.display import HTML\n",
    "HTML('''<script>\n",
    " function code_toggle() {\n",
    "   if (code_shown){\n",
    "     $('div.input').hide('500');\n",
    "     $('#toggleButton').val('Show Code')\n",
    "   } else {\n",
    "     $('div.input').show('500');\n",
    "     $('#toggleButton').val('Hide Code')\n",
    "   }\n",
    "   code_shown = !code_shown\n",
    " }\n",
    " \n",
    " $( document ).ready(function(){\n",
    "   code_shown=false;\n",
    "   $('div.input').hide()\n",
    " });\n",
    "</script>\n",
    "<form action=\"javascript:code_toggle()\"><input type=\"submit\" id=\"toggleButton\" value=\"Show Code\"></form>''')"
   ]
  },
  {
   "cell_type": "code",
   "execution_count": 13,
   "metadata": {},
   "outputs": [
    {
     "data": {
      "text/html": [
       "<script type = \"text/javascript\" src=\"https://d3js.org/d3.v3.min.js\"></script>\n",
       "<script src=\"https://ajax.googleapis.com/ajax/libs/jquery/3.3.1/jquery.min.js\"></script>"
      ],
      "text/plain": [
       "<IPython.core.display.HTML object>"
      ]
     },
     "metadata": {},
     "output_type": "display_data"
    }
   ],
   "source": [
    "%%html\n",
    "<script type = \"text/javascript\" src=\"https://d3js.org/d3.v3.min.js\"></script>\n",
    "<script src=\"https://ajax.googleapis.com/ajax/libs/jquery/3.3.1/jquery.min.js\"></script>"
   ]
  },
  {
   "cell_type": "markdown",
   "metadata": {},
   "source": [
    "# Understanding Patterns\n",
    "\n",
    "## Introduction\n",
    "\n",
    "Patterns appear all around us in everyday life, and in nature. \n",
    "Here are some examples of patterns in action:"
   ]
  },
  {
   "cell_type": "code",
   "execution_count": 3,
   "metadata": {
    "scrolled": false
   },
   "outputs": [
    {
     "data": {
      "text/html": [
       "<html>\n",
       "<head>\n",
       "<style>\n",
       "* {\n",
       "    box-sizing: border-box;\n",
       "}\n",
       "\n",
       ".column {\n",
       "    float: left;\n",
       "    width: 33.33%;\n",
       "    padding: 5px;\n",
       "}\n",
       "\n",
       "/* Clearfix (clear floats) */\n",
       ".row::after {\n",
       "    content: \"\";\n",
       "    clear: both;\n",
       "    display: table;\n",
       "}\n",
       "</style>\n",
       "</head>\n",
       "<body>\n",
       "\n",
       "\n",
       "<div class=\"row\">\n",
       "  <div class=\"column\">\n",
       "    <p style=\"text-align: center;\"> <b>Nature</b></p> \n",
       "<img src=\"https://i.redd.it/f3y77ihpx5cy.gif\" alt=\"drawing\" style=\"width: 400px;\"/>\n",
       "  </div>\n",
       "  <div class=\"column\">\n",
       "    <p style=\"text-align: center;\"><b>Greek Mythology</b>\n",
       "<img src=\"http://www.gifmania.co.uk/Fantasy-Animated-Gifs/Animated-Fantasy-Animals/Hydra/Jason-Vs-Hydra-87071.gif\" alt=\"drawing\" style=\"width: 400px;\"/>\n",
       "  </div>\n",
       "  <div class=\"column\">\n",
       "   <p style=\"text-align: center;\"><b>Building</b>\n",
       "    <img src=\"https://media1.giphy.com/media/3o85xkpCruOJPGtBMQ/giphy.gif\" alt=\"drawing\" style=\"width: 400px;\"/>\n",
       "  </div>\n",
       "</div>\n",
       "</body>\n",
       "</html>"
      ],
      "text/plain": [
       "<IPython.core.display.HTML object>"
      ]
     },
     "metadata": {},
     "output_type": "display_data"
    }
   ],
   "source": [
    "%%HTML\n",
    "<html>\n",
    "<head>\n",
    "<style>\n",
    "* {\n",
    "    box-sizing: border-box;\n",
    "}\n",
    "\n",
    ".column {\n",
    "    float: left;\n",
    "    width: 33.33%;\n",
    "    padding: 5px;\n",
    "}\n",
    "\n",
    "/* Clearfix (clear floats) */\n",
    ".row::after {\n",
    "    content: \"\";\n",
    "    clear: both;\n",
    "    display: table;\n",
    "}\n",
    "</style>\n",
    "</head>\n",
    "<body>\n",
    "\n",
    "\n",
    "<div class=\"row\">\n",
    "  <div class=\"column\">\n",
    "    <p style=\"text-align: center;\"> <b>Nature</b></p> \n",
    "<img src=\"https://i.redd.it/f3y77ihpx5cy.gif\" alt=\"drawing\" style=\"width: 400px;\"/>\n",
    "  </div>\n",
    "  <div class=\"column\">\n",
    "    <p style=\"text-align: center;\"><b>Greek Mythology</b>\n",
    "<img src=\"http://www.gifmania.co.uk/Fantasy-Animated-Gifs/Animated-Fantasy-Animals/Hydra/Jason-Vs-Hydra-87071.gif\" alt=\"drawing\" style=\"width: 400px;\"/>\n",
    "  </div>\n",
    "  <div class=\"column\">\n",
    "   <p style=\"text-align: center;\"><b>Building</b>\n",
    "    <img src=\"https://media1.giphy.com/media/3o85xkpCruOJPGtBMQ/giphy.gif\" alt=\"drawing\" style=\"width: 400px;\"/>\n",
    "  </div>\n",
    "</div>\n",
    "</body>\n",
    "</html>\n"
   ]
  },
  {
   "cell_type": "markdown",
   "metadata": {},
   "source": [
    "and there is much more. One of the fun parts of math is discovering how we can use math to better understand the world around us. Today we're going to learn how math can help us understand patterns!"
   ]
  },
  {
   "cell_type": "markdown",
   "metadata": {},
   "source": [
    "## Background\n",
    "\n",
    "Today we're going to look at patterns that we can describe using numbers. All of the patterns we're going to talk about today are called **Sequences**, where there is an ordering to the pattern, imagine how the alphabet has the ordering: A, B, C, D, and so on. A is the *first* item in our sequence, and Z is the *last* element in our sequence. Not all sequences have an end, some of then keep going, and going, and going! Another simple sequence is the positive number line, where the next number is the previous number plus one.\n",
    "\n",
    "### The Alphabet as a sequence\n",
    "![]( img/Alphabet Sequence.svg )\n",
    "### The Counting Numbers\n",
    "![]( img/Positive Number Line.svg )\n"
   ]
  },
  {
   "cell_type": "markdown",
   "metadata": {},
   "source": [
    "## Examples\n",
    "\n",
    "There is a greek  tale where the hero Hercules has to fight a three headed Hyrda, which can regrow it's heads. Infact, everytime it loses a head, TWO grow in it's place. How can we think of this as a pattern? Well to start let's say it has just one head, after hercules removes this head, now there are two in it's place. Next there is three heads, then four heads, and so on!  For this example, let's break it down at look at some small cases first. \n",
    "\n",
    "<ul>\n",
    "<li>The first number in the patttern: 3  <- The number of heads the hydra has to start </li>\n",
    "\n",
    "<li>The second number in the pattern: 4 <- After one head is cutoff</li>\n",
    "\n",
    "<li>The third number in the pattern: 5 <- After another head</li>\n",
    "\n",
    "<li>The fourth number in the pattern: 6 <- Another one</li>\n",
    "    \n",
    "</ul>\n",
    "\n",
    "\n",
    "Does this sound familiar? That's because the **rule** for the hydra pattern is the similar to the number line we saw above. A rule lets us accurately describe a sequence in a formula. We call it a rule because every item in our sequence will follow the rule. We want to try and make a rule as simple as possible so that if we wanted to know how many heads the hydra had after 25 cuts we can know right away without counting from 1 cut up to 25 cuts.\n",
    "\n",
    "Let's think about it in words, first we have the amount from the previous step, then we takeaway one head which hercules chose to cut off, and then we add two heads which grow in it's place. \n",
    "\n",
    "If we wanted to write it as a rule, we can do it like this:\n",
    "\n",
    "$ x_n = n + 3 $\n",
    "\n",
    "This is saying the n'th number ($x_n$) in the pattern is equal to $n + 3$ because there was initially 3 heads. Adding a number to n will change the starting point of our sequence, think about how if you're asked to count starting at 1 or starting at 5, you count the same way, just starting at a different number! Keep reading to find out how we figured out this rule"
   ]
  },
  {
   "cell_type": "markdown",
   "metadata": {},
   "source": [
    "## Arithmetic Sequences\n",
    "\n",
    "Above we defined what a **rule** is, now lets talk about types of sequences. \n",
    "\n",
    "**Arithmetic Sequences** increase by a fixed number which we call the **difference**, as it is the difference between two consecutive terms in the sequence! This means the gap between the 99th and the 100th term is the same as between the 1st and the 2nd. \n",
    "\n",
    "Let's do an example, here are two representations of an arithmetic sequence: \n",
    "<center> ** Number Line** </center>\n",
    "\n",
    "<img src=\"img/ArithmeticSequence.svg\" width=600px>\n",
    "\n",
    "<center>**Table**</center>\n",
    " \n",
    "| $n$           | $x$           | \n",
    "|:-------------:|:-------------:| \n",
    "| 1 | 1 | \n",
    "| 2 | 3 |   \n",
    "| 3 | 5 |   \n",
    "| 4 | 7 |\n",
    "| 5 | 9 |\n",
    "| 6 | 11|\n",
    "\n",
    "\n",
    "Try to find out what the difference, starting value and rule are! Once you're ready, however below to see the answers:\n",
    "<!---Could it be worthwhile to hide the solutions, best options?-->\n",
    "\n",
    "The above difference is 3, and the starting value is 1, one **rule** for this arithmatic sequence is this:\n",
    "$ x_n = 3n + 1 $\n",
    "\n",
    "In general, the rule of an arithmetic sequence has the form:\n",
    "\n",
    "$ x_n = an + b $\n",
    "\n",
    "where a is the difference, and b is the first value\n",
    "\n",
    "\n",
    "### Arithemtic Sequence Visualization"
   ]
  },
  {
   "cell_type": "code",
   "execution_count": 17,
   "metadata": {
    "scrolled": false
   },
   "outputs": [
    {
     "data": {
      "text/html": [
       "\n",
       "<form id=\"frm1_diff\" action=\"/action_page.php\">\n",
       "    Enter the <b>difference</b> for the arithmetic sequence:\n",
       "    <input type=\"number\" name=\"quantity\" value=\"3\" min=\"1\" max=\"5\">\n",
       "</form>\n",
       "    \n",
       "<form id=\"frm2_initArith\" action=\"/action_page.php\">\n",
       "    Enter the <b>inital value</b> for the arithmetic sequence:\n",
       "    <input type=\"number\" name=\"quantity\" value=\"1\" min=\"0\" max=\"50\">\n",
       "</form>\n",
       "\n",
       "<div id=\"arithButton\">\n",
       "    <input name=\"Plot sequence\"\n",
       "           type=\"button\"\n",
       "           value=\"Plot sequence\"\n",
       "        />\n",
       "</div>\n",
       "    \n",
       "<svg width=\"1100\" height=\"120\" id=\"ARITH\">\n",
       "    \n",
       "    <line x1=\"0\" y1=\"50\" x2=\"1000\" y2=\"50\" stroke=\"black\"/>\n",
       "    <rect x=\"0\" y=\"30\" width=\"2\" height=\"40\" fill=\"black\"/>\n",
       "    <rect x=\"983\" y=\"30\" width=\"2\" height=\"40\" fill=\"black\"/>\n",
       "    <text x=\"970\" y=\"85\" fill=\"black\">50</text>\n",
       "    <text x=\"0\" y=\"85\" fill=\"black\">0</text>\n",
       "</svg>\n",
       "\n",
       "<script src=\"./scripts/ArithmeticNumberLine.js\"</script>"
      ],
      "text/plain": [
       "<IPython.core.display.HTML object>"
      ]
     },
     "metadata": {},
     "output_type": "display_data"
    }
   ],
   "source": [
    "%%HTML \n",
    "\n",
    "<form id=\"frm1_diff\" action=\"/action_page.php\">\n",
    "    Enter the <b>difference</b> for the arithmetic sequence:\n",
    "    <input type=\"number\" name=\"quantity\" value=\"3\" min=\"1\" max=\"5\">\n",
    "</form>\n",
    "    \n",
    "<form id=\"frm2_initArith\" action=\"/action_page.php\">\n",
    "    Enter the <b>inital value</b> for the arithmetic sequence:\n",
    "    <input type=\"number\" name=\"quantity\" value=\"1\" min=\"0\" max=\"50\">\n",
    "</form>\n",
    "\n",
    "<div id=\"arithButton\">\n",
    "    <input name=\"Plot sequence\"\n",
    "           type=\"button\"\n",
    "           value=\"Plot sequence\"\n",
    "        />\n",
    "</div>\n",
    "    \n",
    "<svg width=\"1100\" height=\"120\" id=\"ARITH\">\n",
    "    \n",
    "    <line x1=\"0\" y1=\"50\" x2=\"1000\" y2=\"50\" stroke=\"black\"/>\n",
    "    <rect x=\"0\" y=\"30\" width=\"2\" height=\"40\" fill=\"black\"/>\n",
    "    <rect x=\"983\" y=\"30\" width=\"2\" height=\"40\" fill=\"black\"/>\n",
    "    <text x=\"970\" y=\"85\" fill=\"black\">50</text>\n",
    "    <text x=\"0\" y=\"85\" fill=\"black\">0</text>\n",
    "</svg>\n",
    "\n",
    "<script src=\"./scripts/ArithmeticNumberLine.js\"</script>\n"
   ]
  },
  {
   "cell_type": "markdown",
   "metadata": {},
   "source": [
    "## Geometric Sequences\n",
    "\n",
    "**Geometric Sequences** can increase very quickly compared to arithmetic sequences. To get the next term in a geometric sequence, we **multiply** the previous term by a constant, this is different from the arithmetic sequence which **adds** a constant to the previous term. Let's do another example:\n",
    "\n",
    "<center> ** Number Line** </center>\n",
    "<!--- To-do: Update this imagery as it's a little clunky --->\n",
    "<img src=\"img/GeometricSequence.svg\" width=600px>\n",
    "\n",
    "<center>**Table**</center>\n",
    " \n",
    "| $n$           | $x$           | \n",
    "|:-------------:|:-------------:| \n",
    "| 1 | 1 | \n",
    "| 2 | 2 |   \n",
    "| 3 | 4 |   \n",
    "| 4 | 8 |\n",
    "| 5 | 16 |\n",
    "| 6 | 32|\n",
    "\n",
    "In the above sequence, we can see that our terms appear to be double the previous rate, for example the ratio of $2:4$ is the same as the ratio of $4:8$, or $8:16$ and so on. These ratios can all be simplified to $1:2$. The term **common ratio** refers to the right hand side of the ratio of any two consequtive terms. So for example, the common ratio of this sequence is $2$.\n",
    "\n",
    "If we look at the table, we can see that each term is twice as large, that means that we can imagine it's just multiplied by two. So thinking about what 5th term would be, it should have been doubled 4 times from the first term, so that means\n",
    "<!--- Text is too big in this formula for my liking... --->\n",
    "\n",
    "$\\text{first term} * 2 * 2 * 2 * 2 = \\text{5th term}$ \n",
    "\n",
    "**Exponents** give us an easier way to represent this, as remember that $2^4 = 2*2*2*2$, since exponents represent multiplying the **base**, in this case 2, 4 times. Sometimes people would say this is \"two raised to the power of 4\". Not only does it keep showing your work simpler, think about saying $2^{12}$ as \n",
    "\n",
    ">*\"Two raised to the power of 12\"* \n",
    "\n",
    "versus \n",
    "\n",
    ">*\"Two times two times two times two times two times two times two times two times two times two times two times two times\"*\n",
    "\n",
    "So using exponents, we can express the fifth term as the first term times $2^4$. Remeber, because the first term hasn't been doubled yet, we only want to raise 2 to the power of 4, **not** 5. It's easy to get tripped up on this! Let's look at how this works in general.\n",
    "\n",
    "For our example above, a general rule to find any term is:\n",
    "\n",
    "$x_n = 2^{n-1}$\n",
    "\n",
    "See how we're raising 2 to the (n-1)th power? that's because as we observed above, the first term specifically hasn't been doubled yet. How does that workout? $x_1 = 2^{1-1} = 2^{0} = 1$. Incase you haven't encountered 0 powers yet, just remember that any number to the power 0 is equal to 1.\n",
    "\n",
    "Any geometric sequence can be describe using exponents rule:\n",
    "\n",
    "$x_n = ar^{n-1}$\n",
    "\n",
    "Where a is the first term in the sequence, and r represents the common ratio of the geometric sequence. \n",
    "\n",
    "Try out some difference commont ratios and initial values to see what sort of geometric sequences you can produce!\n",
    "\n",
    "### Geometric Sequence Visualization"
   ]
  },
  {
   "cell_type": "code",
   "execution_count": 18,
   "metadata": {},
   "outputs": [
    {
     "data": {
      "text/html": [
       "    \n",
       "<form id=\"frm1_ratio\" action=\"/action_page.php\">\n",
       "    Enter the <b>common ratio</b> for the geometric sequence:\n",
       "    <input type=\"number\" name=\"quantity\" value=\"3\" min=\"1\" max=\"5\">\n",
       "</form>\n",
       "    \n",
       "<form id=\"frm2_initGeo\" action=\"/action_page.php\">\n",
       "    Enter the <b>inital value</b> for the geometric sequence:\n",
       "    <input type=\"number\" name=\"quantity\" value=\"1\" min=\"0\" max=\"50\">\n",
       "</form>\n",
       "\n",
       "<div id=\"geoButton\">\n",
       "    <input name=\"Plot sequence\"\n",
       "           type=\"button\"\n",
       "           value=\"Plot sequence\"\n",
       "        />\n",
       "</div>\n",
       "    \n",
       "<svg width=\"1000\" height=\"120\" id=\"GEO\">\n",
       "    \n",
       "    <line x1=\"0\" y1=\"50\" x2=\"1000\" y2=\"50\" stroke=\"black\"/>\n",
       "    <rect x=\"0\" y=\"30\" width=\"2\" height=\"40\" fill=\"black\"/>\n",
       "    <text x=\"0\" y=\"85\" fill=\"black\">0</text>\n",
       "    <rect x=\"983\" y=\"30\" width=\"2\" height=\"40\" fill=\"black\"/>\n",
       "    <text x=\"970\" y=\"85\" fill=\"black\">50</text>\n",
       "</svg>\n",
       "\n",
       "<script src=\"./scripts/GeometricNumberLine.js\"></script>"
      ],
      "text/plain": [
       "<IPython.core.display.HTML object>"
      ]
     },
     "metadata": {},
     "output_type": "display_data"
    }
   ],
   "source": [
    "%%HTML\n",
    "    \n",
    "<form id=\"frm1_ratio\" action=\"/action_page.php\">\n",
    "    Enter the <b>common ratio</b> for the geometric sequence:\n",
    "    <input type=\"number\" name=\"quantity\" value=\"3\" min=\"1\" max=\"5\">\n",
    "</form>\n",
    "    \n",
    "<form id=\"frm2_initGeo\" action=\"/action_page.php\">\n",
    "    Enter the <b>inital value</b> for the geometric sequence:\n",
    "    <input type=\"number\" name=\"quantity\" value=\"1\" min=\"0\" max=\"50\">\n",
    "</form>\n",
    "\n",
    "<div id=\"geoButton\">\n",
    "    <input name=\"Plot sequence\"\n",
    "           type=\"button\"\n",
    "           value=\"Plot sequence\"\n",
    "        />\n",
    "</div>\n",
    "    \n",
    "<svg width=\"1000\" height=\"120\" id=\"GEO\">\n",
    "    \n",
    "    <line x1=\"0\" y1=\"50\" x2=\"1000\" y2=\"50\" stroke=\"black\"/>\n",
    "    <rect x=\"0\" y=\"30\" width=\"2\" height=\"40\" fill=\"black\"/>\n",
    "    <text x=\"0\" y=\"85\" fill=\"black\">0</text>\n",
    "    <rect x=\"983\" y=\"30\" width=\"2\" height=\"40\" fill=\"black\"/>\n",
    "    <text x=\"970\" y=\"85\" fill=\"black\">50</text>\n",
    "</svg>\n",
    "\n",
    "<script src=\"./scripts/GeometricNumberLine.js\"></script>"
   ]
  },
  {
   "cell_type": "markdown",
   "metadata": {},
   "source": [
    "### Arithmetic and Geometric Questions\n",
    "\n",
    "* Given the arithmetic sequence below, what is the initial value  and difference for this sequence? You may use the visualization tool above to help you find the answers.\n",
    "\n",
    "| $n$| 1 | 2 | 3 | 4 | 5 | 6 |\n",
    "|:--:|:--:|:--:|:--:|:--:|:--:|:--:|\n",
    "| $x$|2 | 6 | 10 | 14 | 18 | 22|\n",
    "\n",
    "\n",
    "\n",
    "* What would happen if the difference for a sequence was a negative number? Remember that the difference describes the gap between two terms. Could we have a negative initial value aswell? \n",
    "\n",
    "\n",
    "* What if the common ratio was a proper fraction? What about if it was a negative number? How can we understand a negative ratio?\n",
    "\n",
    "\n",
    "* It's possible to explain a sequence using more than one rule. Try to come up with a sequence which can be explained using a geometric rule AND an arithmetic rule!\n",
    "\n",
    "\n"
   ]
  },
  {
   "cell_type": "markdown",
   "metadata": {},
   "source": [
    "## The Fibonacci Sequence"
   ]
  },
  {
   "cell_type": "markdown",
   "metadata": {},
   "source": [
    "![](img/frazzComic.gif)"
   ]
  },
  {
   "cell_type": "markdown",
   "metadata": {},
   "source": [
    "We have just scratched the surface of patterns. While arithmetric and geometric sequences are quite useful, there are also other unique patterns which are quite interesting to look at. One of the most famous patterns is called the Fibonacci Sequence. We can find examples of it all throughout nature. That green gif at the beginning of this notebook is a Romanesco Broccoli, and the number of spirals on one head is a fibonacci number. A **fibonacci number** is any number which appears in the fibonacci sequence. More locally, the fibonacci sequence arises if we look at the cones of a pine tree. The rule for the fibonacci sequence is a bit more complex than the previous sequences we've looked at, as it's not increasing by a constant or a constant ratio. Instead, to get the next term in the sequence, we add the previous two terms together. Here's the rule expressed mathematically:\n",
    "\n",
    "$x_n = x_{n-1} + x_{n-2} \\text{  ( if n is bigger than 2 )}$\n",
    "\n",
    "$x_1 = 1 \\textit{ and } x_2 = 1$\n",
    "\n",
    "Let's put it to work and figure out the first few numbers in the sequence, starting with 1 and 1:\n",
    "\n",
    "$1 + 1 = 2 = x_3$\n",
    "\n",
    "$1 + 2 = 3 = x_4$\n",
    "\n",
    "$2 + 3 = 5 = x_5$\n",
    "\n",
    "$3 + 5 = 8 = x_6$\n",
    "\n",
    "$5 + 8 = 13 = x_6$\n",
    "\n",
    "Here's a video by ViHart talking about spirals and the fibonacci sequence in nature:\n",
    "\n"
   ]
  },
  {
   "cell_type": "code",
   "execution_count": 16,
   "metadata": {
    "scrolled": false
   },
   "outputs": [
    {
     "data": {
      "image/jpeg": "[encoded data removed]",
      "text/html": [
       "\n",
       "        <iframe\n",
       "            width=\"700\"\n",
       "            height=\"350\"\n",
       "            src=\"https://www.youtube.com/embed/ahXIMUkSXX0\"\n",
       "            frameborder=\"0\"\n",
       "            allowfullscreen\n",
       "        ></iframe>\n",
       "        "
      ],
      "text/plain": [
       "<IPython.lib.display.YouTubeVideo at 0x7f801c058400>"
      ]
     },
     "execution_count": 16,
     "metadata": {},
     "output_type": "execute_result"
    }
   ],
   "source": [
    "from IPython.display import YouTubeVideo\n",
    "YouTubeVideo('ahXIMUkSXX0', width=700, height=350)"
   ]
  },
  {
   "cell_type": "markdown",
   "metadata": {},
   "source": [
    "## Triangle and Square Numbers\n",
    "\n",
    "There are even interesting patterns we can find in real life, and model them using rules! For example, if you've heard of the square of a number, lets say n, the square is $n^2 = n * n$. This also can be interpreted as a square with side length n. We can also visualize it as dots on a grid, and the square of n is how many dots are in the square with n dots as a side. \n",
    "\n",
    "![]( img/square_nums.svg )\n",
    "\n",
    "The rule to determine how many dots we need is then simply:\n",
    "\n",
    "$x_n = n^2$\n",
    "\n",
    "What if instead of drawing squares, we wanted to draw triangles? This is where things get a little more tricky. \n",
    "\n",
    "![]( img/triangle_nums.svg )\n",
    "\n",
    "The rule for the triangle numbers is a little trickier than for the square numbers. Realize that just as in the square numbers, n is the side length of the triangle. It is as follows:\n",
    "\n",
    "$x_n = \\frac{n(n+1)}{2}$\n",
    "\n",
    "Trying this rule we can see that it is correct for the first few cases:\n",
    "\n",
    "$x_1 = \\frac{1(1+1)}{2} = \\frac{1(2)}{2} = 1$\n",
    "\n",
    "$x_2 = \\frac{2(2+1)}{2} = \\frac{2(3)}{2} = 3$\n",
    "\n",
    "$x_3 = \\frac{3(3+1)}{2} = \\frac{3(4)}{2} = 6$\n",
    "\n",
    "At first you may think perhaps at some point there should be a fraction since we're dividing by 2. However the whole numbers alternate between odd and even, so that means between $n$ and $(n+1)$ in the numerator, one of these terms *must* be even so there will be a cancellation possible. If you want to read more on triangle numbers see this notebook :**LINK HERE to NUMBER SENSE AND LOGICAL REASONING**, however for the time being we will skip a proof of the rule.\n",
    "\n",
    "The rule for the triangle numbers arises in many places, for example if you wanted to build a house of cards, or determine how many logs are in a triangular stack, you could save a lot of headache by using the rule and counting the side length instead of counting up every individual piece."
   ]
  },
  {
   "cell_type": "markdown",
   "metadata": {},
   "source": [
    "### More questions\n",
    "\n",
    "* Can you draw a pinecone and count the spirals like in the video? Click this [link](http://www.maths.surrey.ac.uk/hosted-sites/R.Knott/Fibonacci/fibnat.html#section4.2) and go to section 4.2\n",
    " to look at some other pinecones and their spirals.\n",
    " \n",
    " \n",
    "* What if we changed the starting two terms in the fibonacci sequence for other numbers? Try substituting in different numbers and drawing the new sequence in a graph, number line or writing it in table. It won't be the fibonacci sequence but a new sequence you came up with, what are you going to name your new discovery?\n",
    "\n",
    "\n",
    "* How many dots are in the following triangle? Remember that we can use the rule described above to save alot of time and frustration counting! (Hint: Start by figuring out what your n value is, what does n mean? )\n",
    "\n",
    "![]( img/big_triang.svg )\n",
    "\n",
    "\n"
   ]
  },
  {
   "cell_type": "markdown",
   "metadata": {},
   "source": [
    "## Conclusion \n",
    "\n",
    "What did you learn about patterns in this notebook? We discussed the concepts of arithemtic and geometric sequences, and more patterns found in real life. We learned ways to concisely express complicated patterns using simple language and mathematics. Here is a brief review of the terms and concepts we touched on:\n",
    "\n",
    "A **rule** describes a sequence or pattern in a concise way, possibly using a formula. To determine the nth term, we would look at the rule for the case of $x_n$. \n",
    "\n",
    "The **initial value** is another way to say *the first term in the sequence*.\n",
    "\n",
    "\n",
    "\n",
    "**Arithmetic sequences** increased by a fixed amount between terms, this fixed amount is called the **difference**. \n",
    "\n",
    "The standard rule for arithmetic sequences is:\n",
    "$ x_n = an + b $\n",
    "Where a is the difference and b is the initial value.\n",
    "\n",
    "\n",
    "\n",
    "**Geometric sequences** increased by a **common ratio** which we can think of as the ratio between two sequential terms. \n",
    "\n",
    "The standard rule for geometric sequences is:\n",
    "$x_n = ar^{n-1}$\n",
    "Where a is the first term in the sequence, and r represents the common ratio of the geometric sequence. "
   ]
  },
  {
   "cell_type": "markdown",
   "metadata": {},
   "source": [
    "![](img/Callysto_Notebook-Banners_Bottom_06.06.18.jpg)"
   ]
  },
  {
   "cell_type": "code",
   "execution_count": null,
   "metadata": {},
   "outputs": [],
   "source": []
  }
 ],
 "metadata": {
  "kernelspec": {
   "display_name": "Python 3",
   "language": "python",
   "name": "python3"
  },
  "language_info": {
   "codemirror_mode": {
    "name": "ipython",
    "version": 3
   },
   "file_extension": ".py",
   "mimetype": "text/x-python",
   "name": "python",
   "nbconvert_exporter": "python",
   "pygments_lexer": "ipython3",
   "version": "3.6.5"
  }
 },
 "nbformat": 4,
 "nbformat_minor": 2
}
