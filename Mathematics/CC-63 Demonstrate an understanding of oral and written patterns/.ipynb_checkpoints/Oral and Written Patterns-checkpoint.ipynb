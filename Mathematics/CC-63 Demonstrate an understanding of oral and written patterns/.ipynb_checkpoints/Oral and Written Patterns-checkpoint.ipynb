{
 "cells": [
  {
   "cell_type": "code",
   "execution_count": 9,
   "metadata": {},
   "outputs": [
    {
     "data": {
      "text/html": [
       "<script>\n",
       " function code_toggle() {\n",
       "   if (code_shown){\n",
       "     $('div.input').hide('500');\n",
       "     $('#toggleButton').val('Show Code')\n",
       "   } else {\n",
       "     $('div.input').show('500');\n",
       "     $('#toggleButton').val('Hide Code')\n",
       "   }\n",
       "   code_shown = !code_shown\n",
       " }\n",
       " \n",
       " $( document ).ready(function(){\n",
       "   code_shown=false;\n",
       "   $('div.input').hide()\n",
       " });\n",
       "</script>\n",
       "<form action=\"javascript:code_toggle()\"><input type=\"submit\" id=\"toggleButton\" value=\"Show Code\"></form>"
      ],
      "text/plain": [
       "<IPython.core.display.HTML object>"
      ]
     },
     "execution_count": 9,
     "metadata": {},
     "output_type": "execute_result"
    }
   ],
   "source": [
    "from IPython.core.display import HTML\n",
    "HTML('''<script>\n",
    " function code_toggle() {\n",
    "   if (code_shown){\n",
    "     $('div.input').hide('500');\n",
    "     $('#toggleButton').val('Show Code')\n",
    "   } else {\n",
    "     $('div.input').show('500');\n",
    "     $('#toggleButton').val('Hide Code')\n",
    "   }\n",
    "   code_shown = !code_shown\n",
    " }\n",
    " \n",
    " $( document ).ready(function(){\n",
    "   code_shown=false;\n",
    "   $('div.input').hide()\n",
    " });\n",
    "</script>\n",
    "<form action=\"javascript:code_toggle()\"><input type=\"submit\" id=\"toggleButton\" value=\"Show Code\"></form>''')"
   ]
  },
  {
   "cell_type": "markdown",
   "metadata": {},
   "source": [
    "# Understanding Patterns\n",
    "\n",
    "## Introduction\n",
    "\n",
    "Patterns appear all around us in everyday life, and in nature. \n",
    "Here are some examples of patterns in action:"
   ]
  },
  {
   "cell_type": "code",
   "execution_count": 12,
   "metadata": {
    "scrolled": false
   },
   "outputs": [
    {
     "data": {
      "text/html": [
       "<html>\n",
       "<head>\n",
       "<style>\n",
       "* {\n",
       "    box-sizing: border-box;\n",
       "}\n",
       "\n",
       ".column {\n",
       "    float: left;\n",
       "    width: 33.33%;\n",
       "    padding: 5px;\n",
       "}\n",
       "\n",
       "/* Clearfix (clear floats) */\n",
       ".row::after {\n",
       "    content: \"\";\n",
       "    clear: both;\n",
       "    display: table;\n",
       "}\n",
       "</style>\n",
       "</head>\n",
       "<body>\n",
       "\n",
       "\n",
       "<div class=\"row\">\n",
       "  <div class=\"column\">\n",
       "    <p style=\"text-align: center;\"> <b>Nature</b></p> \n",
       "<img src=\"https://i.redd.it/f3y77ihpx5cy.gif\" alt=\"drawing\" style=\"width: 400px;\"/>\n",
       "  </div>\n",
       "  <div class=\"column\">\n",
       "    <p style=\"text-align: center;\"><b>Greek Mythology</b>\n",
       "<img src=\"http://www.gifmania.co.uk/Fantasy-Animated-Gifs/Animated-Fantasy-Animals/Hydra/Jason-Vs-Hydra-87071.gif\" alt=\"drawing\" style=\"width: 400px;\"/>\n",
       "  </div>\n",
       "  <div class=\"column\">\n",
       "   <p style=\"text-align: center;\"><b>Building</b>\n",
       "    <img src=\"https://media1.giphy.com/media/3o85xkpCruOJPGtBMQ/giphy.gif\" alt=\"drawing\" style=\"width: 400px;\"/>\n",
       "  </div>\n",
       "</div>\n",
       "</body>\n",
       "</html>"
      ],
      "text/plain": [
       "<IPython.core.display.HTML object>"
      ]
     },
     "metadata": {},
     "output_type": "display_data"
    }
   ],
   "source": [
    "%%HTML\n",
    "<html>\n",
    "<head>\n",
    "<style>\n",
    "* {\n",
    "    box-sizing: border-box;\n",
    "}\n",
    "\n",
    ".column {\n",
    "    float: left;\n",
    "    width: 33.33%;\n",
    "    padding: 5px;\n",
    "}\n",
    "\n",
    "/* Clearfix (clear floats) */\n",
    ".row::after {\n",
    "    content: \"\";\n",
    "    clear: both;\n",
    "    display: table;\n",
    "}\n",
    "</style>\n",
    "</head>\n",
    "<body>\n",
    "\n",
    "\n",
    "<div class=\"row\">\n",
    "  <div class=\"column\">\n",
    "    <p style=\"text-align: center;\"> <b>Nature</b></p> \n",
    "<img src=\"https://i.redd.it/f3y77ihpx5cy.gif\" alt=\"drawing\" style=\"width: 400px;\"/>\n",
    "  </div>\n",
    "  <div class=\"column\">\n",
    "    <p style=\"text-align: center;\"><b>Greek Mythology</b>\n",
    "<img src=\"http://www.gifmania.co.uk/Fantasy-Animated-Gifs/Animated-Fantasy-Animals/Hydra/Jason-Vs-Hydra-87071.gif\" alt=\"drawing\" style=\"width: 400px;\"/>\n",
    "  </div>\n",
    "  <div class=\"column\">\n",
    "   <p style=\"text-align: center;\"><b>Building</b>\n",
    "    <img src=\"https://media1.giphy.com/media/3o85xkpCruOJPGtBMQ/giphy.gif\" alt=\"drawing\" style=\"width: 400px;\"/>\n",
    "  </div>\n",
    "</div>\n",
    "</body>\n",
    "</html>\n"
   ]
  },
  {
   "cell_type": "markdown",
   "metadata": {},
   "source": [
    "and there is much more. One of the funnest parts of math is discovering how we can use math to better understand the world around us. Today we're going to learn how math can help us understand patterns!"
   ]
  },
  {
   "cell_type": "markdown",
   "metadata": {},
   "source": [
    "## Background\n",
    "\n",
    "Today we're going to look at patterns that we can describe using numbers. All of the patterns we're going to talk about today are called **Sequences**, where there is an ordering to the pattern, imagine how the alphabet has the ordering: A, B, C, D, and so on. A is the *first* item in our sequence, and Z is the *last* element in our sequence. Not all sequences have an end, some of then keep going, and going, and going! Another simple sequence is the positive number line, where the next number is the previous number plus one.\n",
    "\n",
    "### The Alphabet as a sequence\n",
    "![]( img/Alphabet Sequence.svg )\n",
    "### The Counting Numbers\n",
    "![]( img/Positive Number Line.svg )\n"
   ]
  },
  {
   "cell_type": "markdown",
   "metadata": {},
   "source": [
    "## Examples\n",
    "\n",
    "There is a greek  tale where the hero Hercules has to fight a three headed Hyrda, which can regrow it's heads. Infact, everytime it loses a head, TWO grow in it's place. How can we think of this as a pattern? Well to start let's say it has just one head, after hercules removes this head, now there are two in it's place. Next there is three heads, then four heads, and so on!  For this example, let's break it down at look at some small cases first. \n",
    "\n",
    "<ul>\n",
    "<li>The first number in the patttern: 3  <- The number of heads the hydra has to start </li>\n",
    "\n",
    "<li>The second number in the pattern: 4 <- After one head is cutoff</li>\n",
    "\n",
    "<li>The third number in the pattern: 5 <- After another head</li>\n",
    "\n",
    "<li>The fourth number in the pattern: 6 <- Another one</li>\n",
    "    \n",
    "</ul>\n",
    "\n",
    "\n",
    "Does this sound familiar? That's because the **rule** for the hydra pattern is the similar to the number line we saw above. A rule lets us accurately describe a sequence in a formula. We call it a rule because every item in our sequence will follow the rule. We want to try and make a rule as simple as possible so that if we wanted to know how many heads the hydra had after 25 cuts we can know right away without counting from 1 cut up to 25 cuts.\n",
    "\n",
    "Let's think about it in words, first we have the amount from the previous step, then we takeaway one head which hercules chose to cut off, and then we add two heads which grow in it's place. \n",
    "\n",
    "If we wanted to write it as a rule, we can do it like this:\n",
    "\n",
    "$ x_n = n + 3 $\n",
    "\n",
    "This is saying the n'th number ($x_n$) in the pattern is equal to $n + 3$ because there was initially 3 heads. Adding a number to n will change the starting point of our sequence, think about how if you're asked to count starting at 1 or starting at 5, you count the same way, just starting at a different number! Keep reading to find out how we figured out this rule"
   ]
  },
  {
   "cell_type": "markdown",
   "metadata": {},
   "source": [
    "## Arithmetic and Geometric Sequences\n",
    "\n",
    "Above we defined what a **rule** is, now lets talk about types of sequences. \n",
    "\n",
    "Arithmetic Sequence are sequences go up by a fixed number which we call the **difference**, as it is the difference between two consecutive terms in the sequence! This means the gap between the 99th and the 100th term is the same as between the 1st and the 2nd. \n",
    "\n",
    "Let's do an example, here are two representations of an arithmetic sequence: \n",
    "<center> ** Number Line** </center>\n",
    "\n",
    "<img src=\"img/ArithmeticSequence.svg\" width=600px>\n",
    "\n",
    "<center>**Table**</center>\n",
    " \n",
    "| $n$           | $x$           | \n",
    "|:-------------:|:-------------:| \n",
    "| 1 | 1 | \n",
    "| 2 | 3 |   \n",
    "| 3 | 5 |   \n",
    "| 4 | 7 |\n",
    "| 5 | 9 |\n",
    "| 6 | 11|\n",
    "\n",
    "\n",
    "Try to find out what the difference, starting value and rule are! Once you're ready, however below to see the answers:\n",
    "<!---Could it be worthwhile to hide the solutions, best options?-->\n",
    "\n",
    "The above difference is 3, and the starting value is 1, the **rule** for this **arithmatic** sequence is this:\n",
    "$ x_n = 3n + 1 $\n",
    "\n"
   ]
  },
  {
   "cell_type": "code",
   "execution_count": 13,
   "metadata": {},
   "outputs": [
    {
     "data": {
      "application/javascript": [
       "require.config({\n",
       "  paths: {\n",
       "      d3: '//cdnjs.cloudflare.com/ajax/libs/d3/3.4.8/d3.min'\n",
       "  }\n",
       "});"
      ],
      "text/plain": [
       "<IPython.core.display.Javascript object>"
      ]
     },
     "metadata": {},
     "output_type": "display_data"
    }
   ],
   "source": [
    "%%javascript\n",
    "require.config({\n",
    "  paths: {\n",
    "      d3: '//cdnjs.cloudflare.com/ajax/libs/d3/3.4.8/d3.min'\n",
    "  }\n",
    "});"
   ]
  },
  {
   "cell_type": "code",
   "execution_count": 14,
   "metadata": {
    "scrolled": true
   },
   "outputs": [
    {
     "data": {
      "text/html": [
       "<!doctype html>\n",
       "<html>\n",
       "<head>\n",
       "    <title>D3 tutorial</title>\n",
       "    <script src=\"//cdnjs.cloudflare.com/ajax/libs/d3/3.5.6/d3.min.js\" charset=\"utf-8\"></script>\n",
       "</head>\n",
       "<body>\n",
       "\n",
       "<form id=\"frm1_diff\" action=\"/action_page.php\">\n",
       "    Enter the <b>difference</b> for the arithmetic sequence:\n",
       "    <input type=\"number\" name=\"quantity\" value=\"3\" min=\"1\" max=\"5\">\n",
       "</form>\n",
       "\n",
       "\n",
       "<svg width=\"720\" height=\"120\">\n",
       "    <line x1=\"0\" y1=\"50\" x2=\"2000\" y2=\"50\" stroke=\"black\"/>\n",
       "\n",
       "\n",
       "</svg>\n",
       "<script>\n",
       "        var svg = d3.select('svg');\n",
       "\n",
       "        var numberline = [...Array(5).keys()];\n",
       "\n",
       "\n",
       "        d3.select(\"body\").append(\"button\")\n",
       "                .text(\"Plot the sequence\")\n",
       "                .on(\"click\", function(){\n",
       "        \n",
       "\n",
       "                    difference = parseInt(document.getElementById(\"frm1_diff\")\n",
       "                                 .elements[0]\n",
       "                                 .value);\n",
       "                    console.log(difference);\n",
       "                    let data = [...Array(10).keys()]\n",
       "                        .map( (num,i) => 1 + i*difference)\n",
       "                        .filter(num => num < 50);\n",
       "\n",
       "                    let points = svg.selectAll('points')\n",
       "                        .data(eval(data))\n",
       "                        .enter()\n",
       "                        .append('circle')\n",
       "                        .classed('points', true)\n",
       "                        .attr('r', 5)\n",
       "                        .attr('fill', 'green')\n",
       "                        .attr('cx', 10)\n",
       "                        .attr('cy', 50)\n",
       "                        .transition()\n",
       "                            .attr(\"delay\", function(d,i){return 1000*i})\n",
       "                            .attr(\"duration\", function(d,i){return 1000*(i+1)})\n",
       "                            .attr('cx', function(d) { return d*20; })\n",
       "                    });\n",
       "\n",
       "\n",
       "</script>\n",
       "</body>\n",
       "</html>"
      ],
      "text/plain": [
       "<IPython.core.display.HTML object>"
      ]
     },
     "metadata": {},
     "output_type": "display_data"
    }
   ],
   "source": [
    "from IPython.core.display import display, HTML\n",
    "\n",
    "display(HTML(\"./test.html\"))"
   ]
  },
  {
   "cell_type": "code",
   "execution_count": null,
   "metadata": {},
   "outputs": [],
   "source": []
  },
  {
   "cell_type": "code",
   "execution_count": null,
   "metadata": {},
   "outputs": [],
   "source": []
  },
  {
   "cell_type": "markdown",
   "metadata": {},
   "source": []
  }
 ],
 "metadata": {
  "kernelspec": {
   "display_name": "Python 3",
   "language": "python",
   "name": "python3"
  },
  "language_info": {
   "codemirror_mode": {
    "name": "ipython",
    "version": 3
   },
   "file_extension": ".py",
   "mimetype": "text/x-python",
   "name": "python",
   "nbconvert_exporter": "python",
   "pygments_lexer": "ipython3",
   "version": "3.6.5"
  }
 },
 "nbformat": 4,
 "nbformat_minor": 2
}
