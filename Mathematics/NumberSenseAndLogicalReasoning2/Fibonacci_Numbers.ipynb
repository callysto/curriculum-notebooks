{
 "cells": [
  {
   "cell_type": "markdown",
   "metadata": {},
   "source": [
    "![The Callysto Project Callyso.ca](https://github.com/callysto/callysto-sample-notebooks/blob/master/notebooks/images/Callysto_Notebook-Banner_Top_06.06.18.jpg?raw=true)"
   ]
  },
  {
   "cell_type": "markdown",
   "metadata": {},
   "source": [
    "# The Fibonacci Numbers"
   ]
  },
  {
   "cell_type": "markdown",
   "metadata": {},
   "source": [
    "The **Fibonacci** sequence is the set of numbers that starts out like this:\n",
    "\n",
    "$$0,1,1,2,3,5,8,13,\\ldots.$$\n",
    "\n",
    "It's easy to recognize the pattern here. Each number is the sum of the previous two numbers in the sequence. Except, of course, the first two number, 0 and 1, which we put in there to get things started. "
   ]
  },
  {
   "cell_type": "markdown",
   "metadata": {},
   "source": [
    "These numbers are most commonly known as the **Fibonacci numbers**, after the Italian mathematician **L. Fibonacci** (c. 1200 C.E.). However, these numbers were actually first described hundreds of years before, by Indian mathematicians. The first such mathematician for whom we have written records was **Virahanka** (c. 700 C.E.).\n",
    "\n",
    "It is difficult to overcome the usage of a name adoped hundreds of years ago, and so in what follows we will refer to the Virahanka-Fibonacci numbers as the \"Fibonacci numbers\", for simplicity."
   ]
  },
  {
   "cell_type": "markdown",
   "metadata": {},
   "source": [
    "**Exercise 1:** Check out the following article about the \"so-called Fibonacci\" numbers in ancient India: https://www.sciencedirect.com/science/article/pii/0315086085900217"
   ]
  },
  {
   "cell_type": "markdown",
   "metadata": {},
   "source": [
    "For an excellent exposition about the motivation, poetry, and linguistics of these early mathematicians, and to learn about some facinating properties of these numbers, check out the following video:"
   ]
  },
  {
   "cell_type": "code",
   "execution_count": 56,
   "metadata": {},
   "outputs": [
    {
     "data": {
      "text/html": [
       "<iframe width=\"560\" height=\"315\" src=\"https://www.youtube.com/embed/LP253wHIoO8?start=2633\" frameborder=\"0\" allow=\"accelerometer; autoplay; encrypted-media; gyroscope; picture-in-picture\" allowfullscreen></iframe>"
      ],
      "text/plain": [
       "<IPython.core.display.HTML object>"
      ]
     },
     "metadata": {},
     "output_type": "display_data"
    }
   ],
   "source": [
    "%%html\n",
    "<iframe width=\"560\" height=\"315\" src=\"https://www.youtube.com/embed/LP253wHIoO8?start=2633\" frameborder=\"0\" allow=\"accelerometer; autoplay; encrypted-media; gyroscope; picture-in-picture\" allowfullscreen></iframe>"
   ]
  },
  {
   "cell_type": "markdown",
   "metadata": {},
   "source": [
    "It's convenient to label these numbers, so we write $F_0 = 0$, $F_1 = 1$ $F_2 = 2$ and so on. The list of numbers is thus  defined **recursively**  by the formula\n",
    "$$ \\qquad$$\n",
    "$$ F_n = F_{n-1} + F_{n-2}.$$\n"
   ]
  },
  {
   "cell_type": "markdown",
   "metadata": {},
   "source": [
    "We can check the few numbers in the Fibonacci sequence are obtained by that formula, by computing:"
   ]
  },
  {
   "cell_type": "markdown",
   "metadata": {},
   "source": [
    "$$\\begin{eqnarray*}\n",
    "F_{2} &=&F_{1}+F_{0}=1+0=1 \\\\\n",
    "F_{3} &=&F_{2}+F_{1}=1+1=2 \\\\\n",
    "F_{4} &=&F_{3}+F_{2}=2+1=3 \\\\\n",
    "F_{5} &=&F_{4}+F_{3}=3+2=5 \\\\\n",
    "F_{6} &=&F_{5}+F_{4}=5+3=8 \\\\\n",
    "F_{7} &=&F_{6}+F_{5}=8+5=13 \\\\\n",
    "&&\\vdots\n",
    "\\end{eqnarray*}\n",
    "$$"
   ]
  },
  {
   "cell_type": "markdown",
   "metadata": {},
   "source": [
    "Here is a list of the first 40 Fibonacci numbers:"
   ]
  },
  {
   "cell_type": "markdown",
   "metadata": {},
   "source": [
    "$$\n",
    "\\begin{array}{rrrrrrrrrrrrrrr}\n",
    "0 &  & 1 &  & 1 &  & 2 &  & 3 &  & 5 &  & 8 &  & 13 \\\\ \n",
    "&  &  &  &  &  &  &  &  &  &  &  &  &  &  \\\\ \n",
    "21 &  & 34 &  & 55 &  & 89 &  & 144 &  & 233 &  & 377 &  & 610 \\\\ \n",
    "&  &  &  &  &  &  &  &  &  &  &  &  &  &  \\\\ \n",
    "987 &  & 1597 &  & 2584 &  & 4181 &  & 6765 &  & 10946 &  & 17711 &  & 28657\n",
    "\\\\ \n",
    "&  &  &  &  &  &  &  &  &  &  &  &  &  &  \\\\ \n",
    "46368 &  & 75025 &  & 121393 &  & 196418 &  & 317811 &  & 614229 &  & 832040\n",
    "&  & 1346269 \\\\ \n",
    "&  &  &  &  &  &  &  &  &  &  &  &  &  &  \\\\ \n",
    "2178309 &  & 3524578 &  & 5702887 &  & 9227465 &  & 14930352 &  & 24157817 & \n",
    "& 39088169 &  & 63245986%\n",
    "\\end{array}$$\n"
   ]
  },
  {
   "cell_type": "markdown",
   "metadata": {},
   "source": [
    "**Exercise 2:** Write a code that computes the first N Fibonacci numbers, saves them into an array, and displays them on the screen."
   ]
  },
  {
   "cell_type": "markdown",
   "metadata": {},
   "source": [
    "**WAIT** -- before you read the next cell, try to do Exercise 2!"
   ]
  },
  {
   "cell_type": "code",
   "execution_count": 57,
   "metadata": {},
   "outputs": [
    {
     "name": "stdout",
     "output_type": "stream",
     "text": [
      "Please enter how many elements of the Fibonacci sequence to generate: 20\n",
      "[0, 1, 1, 2, 3, 5, 8, 13, 21, 34, 55, 89, 144, 233, 377, 610, 987, 1597, 2584, 4181]\n"
     ]
    }
   ],
   "source": [
    "#NBVAL_SKIP\n",
    "N = int(input(\"Please enter how many elements of the Fibonacci sequence to generate: \"))\n",
    "\n",
    "F=[0,1]  # The first two numbers in the list\n",
    "for i in range(2, N):\n",
    "    F.append(F[i-1]+F[i-2])  # append the next item on the list\n",
    "\n",
    "print(F)"
   ]
  },
  {
   "cell_type": "markdown",
   "metadata": {},
   "source": [
    "As we can see, this sequence grows pretty fast. The Fibonacci numbers seem\n",
    "to have one more digit after about every five terms in the sequence."
   ]
  },
  {
   "cell_type": "markdown",
   "metadata": {},
   "source": [
    "## How fast does it grow?\n",
    "\n",
    "One of the ways to study the growth of a sequence is to look at ratios between consecutive terms. We  look at ratios of pairs of numbers in the Fibonacci sequence. \n",
    "\n",
    "The first few values are\n",
    "$$ F_2/F_1  = 1, F_3/F_2  = 2/1 = 2, F_4/F_3  = 3/2 = 1.5, F_5/F_4  = 5/3 = 1.666..., F_6/F_5  = 1.625, ....$$\n",
    "\n",
    "So the ratios are somewhere around 1.6. We observe that $1.6^5 \\approx 10$, which is why after every five terms in the Fibonacci sequence, we get another digit. \n",
    "\n",
    "We can check this computation in Python. We use $ ** $ to take a power, as in the following cell. "
   ]
  },
  {
   "cell_type": "code",
   "execution_count": 11,
   "metadata": {},
   "outputs": [
    {
     "data": {
      "text/plain": [
       "10.485760000000003"
      ]
     },
     "execution_count": 11,
     "metadata": {},
     "output_type": "execute_result"
    }
   ],
   "source": [
    "(1.6)**5"
   ]
  },
  {
   "cell_type": "markdown",
   "metadata": {},
   "source": [
    "## The Golden Ratio\n",
    "\n",
    "We can print out a bunch of these ratios, and plot them, just to see that they do. The easiest way to do this is with a bit of Python code. Perhaps you can try this yourself.\n",
    "\n",
    "**Exercise 3** Write some code that computes the first N ratios $F_{n+1}/F_n$, save them it into an array, and displays them on the screen."
   ]
  },
  {
   "cell_type": "markdown",
   "metadata": {},
   "source": [
    "**WAIT!** Don't read any further until you try the exerces."
   ]
  },
  {
   "cell_type": "code",
   "execution_count": 37,
   "metadata": {},
   "outputs": [
    {
     "data": {
      "text/plain": [
       "[1.0,\n",
       " 2.0,\n",
       " 1.5,\n",
       " 1.6666666666666667,\n",
       " 1.6,\n",
       " 1.625,\n",
       " 1.6153846153846154,\n",
       " 1.619047619047619,\n",
       " 1.6176470588235294,\n",
       " 1.6181818181818182,\n",
       " 1.6179775280898876,\n",
       " 1.6180555555555556,\n",
       " 1.6180257510729614,\n",
       " 1.6180371352785146,\n",
       " 1.618032786885246,\n",
       " 1.618034447821682,\n",
       " 1.6180338134001253,\n",
       " 1.618034055727554]"
      ]
     },
     "execution_count": 37,
     "metadata": {},
     "output_type": "execute_result"
    },
    {
     "data": {
      "image/png": "[encoded data removed]",
      "text/plain": [
       "<matplotlib.figure.Figure at 0x10ca51ac8>"
      ]
     },
     "metadata": {},
     "output_type": "display_data"
    }
   ],
   "source": [
    "%matplotlib inline\n",
    "from matplotlib.pyplot import * \n",
    "\n",
    "N = 20\n",
    "F = [0,1]\n",
    "R = []\n",
    "for i in range(2, N):\n",
    "    F.append(F[i-1]+F[i-2])  # append the next item on the list\n",
    "    R.append(F[i]/F[i-1])\n",
    "\n",
    "\n",
    "plot(R,'o')\n",
    "title('The first N Ratios $F_{n+1}/F_n$')\n",
    "xlabel('$n$')\n",
    "ylabel('$Ratio$');\n",
    "\n",
    "R\n"
   ]
  },
  {
   "cell_type": "markdown",
   "metadata": {},
   "source": [
    "We see the numbers are leveling out at the value 1.6108034...  This number may be familiar to you. It is called the **Golden Ratio.** \n",
    "\n",
    "We can compute the exact value by observing the ratios satisfy a nice algebraic equation:\n",
    "$$\n",
    "\\frac{F_{n+2}}{F_{n+1}}=\\frac{F_{n+1}+F_{n}}{F_{n+1}}=1+\\frac{F_{n}}{F_{n+1}}=1+\\frac{1}{\\frac{F_{n+1}}{F_{n}}},\n",
    "$$\n",
    "or more simply \n",
    "$$\\frac{F_{n+2}}{F_{n+1}}=1+\\frac{1}{\\frac{F_{n+1}}{F_{n}}}.$$\n",
    "\n",
    "As $n$ gets larger and larger, the ratios $F_{n+2}/F_{n+1}$ and $F_{n+1}/F_{n}$ tend toward a final value, say $x$. This value must then solve the equation\n",
    "$$x=1+\\frac{1}{x}.$$\n",
    "\n",
    "We rewrite this as a quadratic equation\n",
    "$$x^2=x+1$$ \n",
    "which we solve from the quadratic formula\n",
    "$$ x= \\frac{1 \\pm \\sqrt{1+4}}{2} = \\frac{1 \\pm \\sqrt{5}}{2}.$$\n",
    "It is the positive solution $x= \\frac{1 + \\sqrt{5}}{2} = 1.6108034...$ which is called the Golden Ratio.\n",
    "\n"
   ]
  },
  {
   "cell_type": "markdown",
   "metadata": {},
   "source": [
    "The **Golden ratio** comes up in art, geometry, and  Greek mythology as a perfect ratio that is pleasing to the eye (and to the gods). \n",
    "\n",
    "For instance, the rectangle shown below is said to have the dimensions of the Golden ratio, because the big rectangle has the same shape as the smaller rectangle inside. Mathematically, we have the ratios of lengths\n",
    "$$ \\frac{a+b}{a} = \\frac{a}{b}.$$\n",
    "\n",
    "![Golden ratio rectangle](Golden2.png)\n",
    "\n",
    "Writing $x = \\frac{a}{b}$, the above equation simplies to\n",
    "$$ 1 + \\frac{1}{x} = x,$$\n",
    "which is the same quadratic equation we saw for the limit of ratios of Fibonacci numbers.\n",
    "\n"
   ]
  },
  {
   "cell_type": "markdown",
   "metadata": {},
   "source": [
    "For more information about the Golden ratio see\n",
    "https://en.wikipedia.org/wiki/Golden_ratio"
   ]
  },
  {
   "cell_type": "markdown",
   "metadata": {},
   "source": [
    "## A Formula for the Fibonacci Sequence $F_n$"
   ]
  },
  {
   "cell_type": "markdown",
   "metadata": {},
   "source": [
    "Let's give the Golden ratio a special name. In honour of the ancient Greeks who used it so much, we call it `phi:'\n",
    "$$ \\varphi = \\frac{1 + \\sqrt{5}}{2}. $$\n",
    "We'll call the other quadratic root 'psi:'\n",
    "$$ \\psi = \\frac{1 - \\sqrt{5}}{2}. $$\n",
    "\n",
    "Here's something funny. It turns out that we have a remarkable formula for the Fibonnaci numbers, in terms of these two Greek numbers. The formula says\n",
    "$$F_n = \\frac{\\varphi^n - \\psi^n}{\\sqrt{5}}.$$\n"
   ]
  },
  {
   "cell_type": "markdown",
   "metadata": {},
   "source": [
    "#### Wow!\n",
    "\n",
    "Seems amazing. But, whenever someone gives you a formula, you should check it!\n",
    "\n",
    "**Exercise 4:** Write a piece of code to show that the formula above, with $\\varphi,\\psi$ does produce, say, the first 20 Fibonnaci numbers."
   ]
  },
  {
   "cell_type": "code",
   "execution_count": 40,
   "metadata": {},
   "outputs": [
    {
     "name": "stdout",
     "output_type": "stream",
     "text": [
      "0.0\n",
      "1.0\n",
      "1.0\n",
      "2.0\n",
      "3.0000000000000004\n",
      "5.000000000000001\n",
      "8.000000000000002\n",
      "13.000000000000002\n",
      "21.000000000000004\n",
      "34.00000000000001\n",
      "55.000000000000014\n",
      "89.00000000000003\n",
      "144.00000000000006\n",
      "233.00000000000006\n",
      "377.00000000000017\n",
      "610.0000000000003\n",
      "987.0000000000005\n",
      "1597.000000000001\n",
      "2584.000000000002\n",
      "4181.000000000003\n"
     ]
    }
   ],
   "source": [
    "## SOLUTION (don't peak!)\n",
    "\n",
    "from numpy import *\n",
    "phi = (1 + sqrt(5))/2\n",
    "psi = (1 - sqrt(5))/2\n",
    "for n in range(20):\n",
    "    print( (phi**n - psi**n)/sqrt(5) ) \n"
   ]
  },
  {
   "cell_type": "markdown",
   "metadata": {},
   "source": [
    "Looking at that computer output, it does seem to give Fibonacci numbers, with a bit of numerical error.\n",
    "\n",
    "## Checking the Math\n",
    "\n",
    "Doing math, though, we like exact answers and we want to know why. So WHY does this formula $(\\phi^n - \\psi^n)/\\sqrt{5}$ give Fibonacci numbers?\n",
    "\n",
    "Well, we can check, step by step.\n",
    "\n",
    "For $n=0$, the formula gives $(\\varphi^0 - \\psi^0)/\\sqrt{5} = (1-1)/\\sqrt{5} = 0$, which is $F[0]$, the first Fibonacci number. \n",
    "\n",
    "For $n=1$, the formula gives $(\\varphi^1 - \\psi^1)/\\sqrt{5} = \n",
    "(\\frac{1 + \\sqrt{5}}{2} - \\frac{1 +\\sqrt{5}}{2} )/\\sqrt{5} = \\sqrt{5}/\\sqrt{5} = 1$, which is $F[1]$, the next Fibonacci number. \n",
    "\n",
    "For $n=2$, it looks harder because we get the squares $\\varphi^2, \\psi^2$ in the formula. But then remember that both $\\varphi$ and $\\psi$ solve the quadratic $x^2 = x+1$, so we know $\\varphi^2 = \\phi +1$ and $\\psi^2 = \\psi +1$. So we can write\n",
    "$$\\frac{\\phi^2 - \\psi^2}{\\sqrt{5}} = \\frac{\\phi + 1 - \\psi -1}{\\sqrt{5}} = \\frac{\\phi - \\psi }{\\sqrt{5}} = 1,$$\n",
    "since we already calucalted this in the $n=1$ step. So this really is $F[2]=1$.\n",
    "\n",
    "For $n=3,4,5,\\ldots$ again it might seem like it will be hard because of the higher powers. But multiplying the formulas $\\varphi^2 = \\varphi +1$ and $\\psi^2 = \\psi +1$ by powers of $\\phi$ and $\\psi$, we get\n",
    "\n",
    "$$\\begin{eqnarray*}\n",
    "\\varphi^2 &=& \\varphi +1,\\quad \\varphi^3 = \\varphi^2+\\varphi\n",
    ",\\quad \\varphi^4=\\varphi^3+\\varphi^2,\\qquad \\dots \\qquad %\n",
    "\\varphi^{n+2}=\\varphi^{n+1}+{\\varphi}^n,\\quad \\text{and} \\\\\n",
    "\\psi^2 &=&\\psi +1,\\quad \\psi^3=\\psi^2+\\psi ,\\quad \\psi^4=\\psi^3+\\psi^2,\\qquad \n",
    "\\dots \\qquad \\psi^{n+2}=\\psi^{n+1}+\\psi^n.\n",
    "\\end{eqnarray*}$$\n",
    "\n",
    "So, assuming we know the generating formula already for $n$ and $n+1$ we can write the next term as\n",
    "$$\\frac{\\varphi^{n+2} - \\psi^{n+2}}{\\sqrt{5}} = \\frac{\\varphi^{n+1} +\\varphi^n - \\psi^{n+1} - \\psi^n}{\\sqrt{5}}\n",
    "= \\frac{\\varphi^{n+1} - \\psi^{n+1}}{\\sqrt{5}} + \\frac{\\varphi^{n} - \\psi^{n}}{\\sqrt{5}} = F[n+1] + F[n] = F[n+2].$$\n",
    "\n",
    "So we do get $\\frac{\\varphi^{n+2} - \\psi^{n+2}}{\\sqrt{5}} = F[n+2]$, and the formula holds for all numbers n. "
   ]
  },
  {
   "cell_type": "markdown",
   "metadata": {},
   "source": [
    "## Why did this work?\n",
    "\n",
    "Well, from the Golden ratio, we have the formula $\\varphi^2 = \\varphi + 1$, which then gives the formula $\\varphi^{n+2} = \\varphi^{n+1} + \\varphi^n$.  This looks a lot like the Fibonacci formula $$F[n+2] = F[n+1] + F[n].$$ Same powers of $\\psi$.\n",
    "\n",
    "If we take ANY linear combination of powers of $\\varphi, \\psi$, such as\n",
    "$$f(n) = 3\\varphi^n + 4\\psi^n,$$\n",
    "we will get a sequence that behaves like the Fibonacci sequence, with $f(n+2) = f(n+1) + f(n).$ To get the 'right' Fibonacci sequence, we just have to replace the 3 and 4 with the right coefficients."
   ]
  },
  {
   "cell_type": "markdown",
   "metadata": {},
   "source": [
    "## From sequences to functions\n",
    "\n",
    "Wouldn't it be fun to extend Fibonacci numbers to a function, defined for all numbers $x$?\n",
    "\n",
    "The problems is the function \n",
    "$$F[x] = \\frac{\\varphi^x - \\psi^x}{\\sqrt{5}}$$\n",
    "is not defined for values of $x$ other than integers. \n",
    "\n",
    "The issue is the term $\\psi^{x}=\\left( \\frac{1-\\sqrt{5}}{2}\\right) ^{x}$, which is the power of a negative number.\n",
    "We don't really know how to define that. For instance, what is the square root of a negative number?\n",
    "\n",
    "To\n",
    "overcome this technical difficulty, we write\n",
    "\n",
    "$$\\psi ^{x}=\\left( -\\left( -\\psi \\right) \\right) ^{x}=\\left( -\\left( \\frac{%\n",
    "\\sqrt{5}-1}{2}\\right) \\right) ^{x}=\\left( -1\\right) ^{x}\\left( \\frac{\\sqrt{5}%\n",
    "-1}{2}\\right) ^{x}. $$\n",
    "\n",
    "Now the factor $\\left( \\frac{\\sqrt{5}-1}{2} \\right) ^{x}$ make sense since \n",
    "the number inside the brackets is positive. We have localized the problem into the powers of $-1$ for the term $\\left(\n",
    "-1\\right) ^{x}$. We would like to replace this term  by a\n",
    "continuous function $m(x)$ such that it takes the values $\\pm1$ on the integers. That is,\n",
    "\n",
    "$$m(n) =1\\quad \\text{if }n\\text{ is even }\\quad\\text{and}\\quad m(n) =-1\\quad \\text{if }n\\text{ is odd.} $$\n",
    "\n",
    "The cosine function works. That is\n",
    "\n",
    "$$m\\left( x\\right) =\\cos \\left( \\pi x\\right) \\qquad \\text{does the job.} $$\n",
    "That is:\n",
    "$$\\cos \\left( n\\pi \\right) =1\\quad \\text{if }n\\text{ is even}\\quad\\text{ and}\\quad %\n",
    "\\cos \\left( n\\pi \\right) =-1\\quad \\text{if }n\\text{ is odd.}$$\n",
    "\n",
    "Why this is a **good** choice would lead us to complex numbers and more!"
   ]
  },
  {
   "cell_type": "markdown",
   "metadata": {},
   "source": [
    "Hence, we obtain the following closed formula for our function $F[x]:$\n",
    "\n",
    "$$\\begin{eqnarray*}\n",
    "F[x]  &=&\\frac{{\\varphi }^{x}-\\left( -1\\right) ^{x}\\left( -\\psi\n",
    "\\right) ^{x}}{{\\varphi -\\psi }}=\\frac{1}{\\sqrt{5}}\\left( {\\varphi }%\n",
    "^{x}-\\left( -1\\right) ^{x}\\left( -\\psi \\right) ^{x}\\right)  \\\\\n",
    "&=&\\frac{1}{\\sqrt{5}}\\left( \\left( \\frac{1+\\sqrt{5}}{2}\\right) ^{x}-\\cos\n",
    "\\left( \\pi x\\right) \\left( \\frac{\\sqrt{5}-1}{2}\\right) ^{x}\\right) .\n",
    "\\end{eqnarray*}$$\n",
    "\n",
    "Let's plot this function, and the Fibonacci sequence.\n"
   ]
  },
  {
   "cell_type": "markdown",
   "metadata": {},
   "source": [
    "## A plot of the continuous Fibonacci function"
   ]
  },
  {
   "cell_type": "code",
   "execution_count": 52,
   "metadata": {},
   "outputs": [
    {
     "data": {
      "image/png": "[encoded data removed]",
      "text/plain": [
       "<matplotlib.figure.Figure at 0x10cd97d30>"
      ]
     },
     "metadata": {},
     "output_type": "display_data"
    }
   ],
   "source": [
    "%matplotlib inline\n",
    "from numpy import *\n",
    "from matplotlib.pyplot import *\n",
    "\n",
    "phi=(1+5**(1/2))/2\n",
    "psi=(5**(1/2)-1)/2\n",
    "\n",
    "x = arange(0,10)\n",
    "y = (pow(phi,x) - cos(pi*x)*pow(psi,x))/sqrt(5)\n",
    "xx = linspace(0,10)\n",
    "yy = (pow(phi,xx) - cos(pi*xx)*pow(psi,xx))/sqrt(5)\n",
    "plot(x,y,'o',xx,yy);"
   ]
  },
  {
   "cell_type": "markdown",
   "metadata": {},
   "source": [
    "## A plot with negative values\n",
    "\n",
    "Well, with this general definition, we can even include negative numbers for $x$ in the function.\n",
    "\n",
    "Let's plot this too. "
   ]
  },
  {
   "cell_type": "code",
   "execution_count": 55,
   "metadata": {},
   "outputs": [
    {
     "data": {
      "image/png": "[encoded data removed]",
      "text/plain": [
       "<matplotlib.figure.Figure at 0x10bcd6358>"
      ]
     },
     "metadata": {},
     "output_type": "display_data"
    }
   ],
   "source": [
    "%matplotlib inline\n",
    "from numpy import *\n",
    "from matplotlib.pyplot import *\n",
    "\n",
    "phi=(1+5**(1/2))/2\n",
    "psi=(5**(1/2)-1)/2\n",
    "\n",
    "x = arange(-10,10)\n",
    "y = (pow(phi,x) - cos(pi*x)*pow(psi,x))/sqrt(5)\n",
    "xx = linspace(-10,10)\n",
    "yy = (pow(phi,xx) - cos(pi*xx)*pow(psi,xx))/sqrt(5)\n",
    "plot(x,y,'o',xx,yy);\n"
   ]
  },
  {
   "cell_type": "markdown",
   "metadata": {},
   "source": [
    "So we see we can even get negative Fibonacci numbers!"
   ]
  },
  {
   "cell_type": "markdown",
   "metadata": {},
   "source": [
    "## The Golden Ratio and Continued Fractions"
   ]
  },
  {
   "cell_type": "markdown",
   "metadata": {},
   "source": [
    "We have found that the golden ration ${\\varphi =}\\frac{{1+}\\sqrt{5}}{2}$\n",
    "satisfies the identity\n",
    "\n",
    "$$\n",
    "{\\varphi =1+}\\frac{1}{{\\varphi }}.\n",
    "$$\n",
    "\n",
    "Substituting for ${\\varphi }$ on the denominator in the right, we obtain\n",
    "\n",
    "$$\n",
    "{\\varphi =1+}\\frac{1}{{1+}\\frac{1}{{\\varphi }}}.\n",
    "$$\n",
    "\n",
    "Substituting again for ${\\varphi }$ on the denominator in the right, we\n",
    "obtain\n",
    "\n",
    "$$\n",
    "{\\varphi =1+}\\frac{1}{{1+}\\dfrac{1}{{1+}\\frac{1}{{\\varphi }}}}.\n",
    "$$\n",
    "\n",
    "Repeating this again,\n",
    "\n",
    "$$\n",
    "{\\varphi =1+}\\frac{1}{{1+}\\dfrac{1}{{1+}\\dfrac{1}{{1+}\\frac{1}{{\\varphi }}}}}%\n",
    ".$$\n",
    "\n",
    "And again,\n",
    "\n",
    "$$\n",
    "{\\varphi =1+}\\frac{1}{{1+}\\dfrac{1}{{1+}\\dfrac{1}{{1+}\\dfrac{1}{{1+}\\frac{1}{%\n",
    "{\\varphi }}}}}}.\n",
    "$$\n",
    "\n",
    "And again,\n",
    "\n",
    "$$\n",
    "{\\varphi =1+}\\frac{1}{{1+}\\dfrac{1}{{1+}\\dfrac{1}{{1+}\\dfrac{1}{{1+}\\dfrac{1%\n",
    "}{{1+}\\frac{1}{{\\varphi }}}}}}}.\n",
    "$$\n",
    "\n",
    "We see that this process can be $\\textit{continued indefinitely}$. This results\n",
    "in an $\\textit{infinite fraction}$. These type of expressions are known as \n",
    "$\\textbf{continued fractions}$:\n",
    "\n",
    "$$\n",
    "{\\varphi =1+}\\frac{1}{{1+}\\dfrac{1}{{1+}\\dfrac{1}{{1+}\\dfrac{1}{{1+}\\dfrac{1%\n",
    "}{{1+}\\dfrac{1}{{1+}\\dfrac{1}{1+\\dfrac{1}{{\\vdots }}}}}}}}}.\n",
    "$$\n",
    "\n",
    "We can approximate continued fractions with the finite fractions obtained by\n",
    "stopping the development at some point. In our case, we obtain the\n",
    "approximates\n",
    "\n",
    "$$\n",
    "1,~1+1,~1+\\frac{1}{1+1},~1+\\frac{1}{1+\\dfrac{1}{1+1}},~1+\\frac{1}{1+\\dfrac{1%\n",
    "}{1+\\dfrac{1}{1+1}}},~1+\\frac{1}{1+\\dfrac{1}{1+\\dfrac{1}{1+\\dfrac{1}{1+1}}}}%\n",
    ",\\dots \n",
    "$$\n",
    "\n",
    "Explicitly, these approximates are\n",
    "\n",
    "$$\n",
    "1,~2,~\\frac{3}{2},~\\frac{5}{3},~\\frac{8}{5},~\\frac{13}{8},\\dots \n",
    "$$\n",
    "\n",
    "This looks like it is just the sequence of ratios $F_{n+1}/F_n$ we saw above!  How can we prove this is the case for all $n$?\n",
    "\n",
    "We know that the sequence $R_{n} = F_{n+1}/F_n$ satisfies the recursive relation. \n",
    "\n",
    "$$\n",
    "R_{n}=\\frac{F_{n+1}}{F_{n}}=1+\\frac{F_{n-1}}{F_{n}}=1+\\frac{1}{R_{n-1}}%\n",
    ",\\qquad \\text{with}\\qquad R_{1}=1.\n",
    "$$\n",
    "\n",
    "Then, we can generate all the terms in the sequence $R_{n}$ by staring with $%\n",
    "R_{1}=1$, and then using the relation $R_{n+1}=1+\\frac{1}{R_{n}}:$\n",
    "\n",
    "$$\n",
    "\\begin{eqnarray*}\n",
    "R_{1} &=&1 \\\\\n",
    "R_{2} &=&1+\\frac{1}{R_{1}}=1+\\frac{1}{1}=2 \\\\\n",
    "R_{3} &=&1+\\frac{1}{R_{2}}=1+\\frac{1}{1+R_{1}}=1+\\frac{1}{1+1} \\\\\n",
    "R_{4} &=&1+\\frac{1}{R_{3}}=1+\\frac{1}{1+\\frac{1}{1+1}} \\\\\n",
    "R_{5} &=&1+\\frac{1}{R_{4}}=1+\\frac{1}{1+\\frac{1}{1+\\frac{1}{1+1}}} \\\\\n",
    "&&\\vdots \n",
    "\\end{eqnarray*}\n",
    "$$\n",
    "\n",
    "This confirms that both the sequence of rations $R_{n}$ and the sequence of\n",
    "approximations to the continuous fraction of ${\\varphi }$ are the same\n",
    "sequence. $\\square $\n",
    "\n",
    "In general, continued fractions are expressions of the form\n",
    "\n",
    "$$\n",
    "a_{0}+\\frac{1}{a_{1}+\\dfrac{1}{a_{2}+\\dfrac{1}{a_{3}+\\dots }}}\n",
    "$$\n",
    "\n",
    "where $a_{0}$ is an integer and $a_{1},a_{2},a_{3},\\dots $ are positive\n",
    "integers. These type of fractions are abbreviated by the notation\n",
    "\n",
    "$$\n",
    "\\left[ a_{0};a_{1},a_{2},a_{3},\\dots \\right] =a_{0}+\\frac{1}{a_{1}+\\dfrac{1}{%\n",
    "a_{2}+\\dfrac{1}{a_{3}+\\dots }}}.\n",
    "$$\n",
    "\n",
    "For example\n",
    "\n",
    "$$\n",
    "\\begin{eqnarray*}\n",
    "\\left[ 1;1,1,2\\right]  &=&1+\\frac{1}{1+\\dfrac{1}{1+\\dfrac{1}{1+1}}}=\\frac{8}{%\n",
    "5} \\\\\n",
    "&& \\\\\n",
    "\\left[ 1;1,1,1,1,\\dots \\right]  &=&{1+}\\frac{1}{{1+}\\dfrac{1}{{1+}\\dfrac{1}{%\n",
    "{1+}\\dfrac{1}{{1+}\\dfrac{1}{{1+}\\dfrac{1}{{1+}\\dfrac{1}{1+\\dfrac{1}{{\\vdots }%\n",
    "}}}}}}}}={\\varphi }\n",
    "\\end{eqnarray*}\n",
    "$$\n",
    "\n",
    "For more information of continued fractions, see\n",
    "https://en.wikipedia.org/wiki/Continued_fraction \n",
    "\n"
   ]
  },
  {
   "cell_type": "markdown",
   "metadata": {
    "collapsed": true
   },
   "source": [
    "![The Callysto Project https://Callysto.ca](https://github.com/callysto/callysto-sample-notebooks/blob/master/notebooks/images/Callysto_Notebook-Banners_Bottom_06.06.18.jpg?raw=true)"
   ]
  }
 ],
 "metadata": {
  "kernelspec": {
   "display_name": "Python 3",
   "language": "python",
   "name": "python3"
  },
  "language_info": {
   "codemirror_mode": {
    "name": "ipython",
    "version": 3
   },
   "file_extension": ".py",
   "mimetype": "text/x-python",
   "name": "python",
   "nbconvert_exporter": "python",
   "pygments_lexer": "ipython3",
   "version": "3.6.4"
  }
 },
 "nbformat": 4,
 "nbformat_minor": 1
}
