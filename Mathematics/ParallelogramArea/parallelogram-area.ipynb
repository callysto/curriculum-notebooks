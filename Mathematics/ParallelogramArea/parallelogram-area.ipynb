{
 "cells": [
  {
   "cell_type": "markdown",
   "metadata": {},
   "source": [
    "![Callysto.ca Banner](https://github.com/callysto/curriculum-notebooks/blob/master/callysto-notebook-banner-top.jpg?raw=true)\n",
    "\n",
    "<a href=\"https://hub.callysto.ca/jupyter/hub/user-redirect/git-pull?repo=https%3A%2F%2Fgithub.com%2Fcallysto%2Fcurriculum-notebooks&branch=master&subPath=Mathematics/ParallelogramArea/parallelogram-area.ipynb&depth=1\" target=\"_parent\"><img src=\"https://raw.githubusercontent.com/callysto/curriculum-notebooks/master/open-in-callysto-button.svg?sanitize=true\" width=\"123\" height=\"24\" alt=\"Open in Callysto\"/></a>"
   ]
  },
  {
   "cell_type": "markdown",
   "metadata": {},
   "source": [
    "# Area of a Parallelogram\n",
    "\n",
    "This is a notebook on calculating and visualizing the area of a parallelogram.\n",
    "\n",
    "A parallelogram is a special type of *quadrilateral* (shape with four sides) where both pairs of sides are parallel. This means that rectangles and squares are types of parallelograms.\n",
    "\n",
    "We can find the area of a rectangle with $\\text{base} \\times \\text{height}$, so we should be able calculate the area of any parallelogram the same way.\n",
    "\n",
    "![parallelogram animation](https://upload.wikimedia.org/wikipedia/commons/2/27/Parallelogram_area_animated.gif)\n",
    "\n",
    "from wikimedia.org\n",
    "\n",
    "## Visualization of Parallelograms\n",
    "\n",
    "The widget below automatically calculates the area of the parallelogram shown. You can move the sliders to change the length and height, and you can also adjust the angle of one of the sets of vertices to change how skewed the parallelogram is. Notice how the area changes when you change the base or height, but not when you adjust the angle.\n",
    "\n",
    "Click on the code cell below, then click `►Run` to show the interactive widget."
   ]
  },
  {
   "cell_type": "code",
   "execution_count": null,
   "metadata": {},
   "outputs": [],
   "source": [
    "import ipywidgets as widgets\n",
    "import plotly.graph_objects as go\n",
    "import math\n",
    "\n",
    "plength = widgets.FloatSlider(value=1, min=1, max=10, step=0.1, description='Base (m)')\n",
    "pheight = widgets.FloatSlider(value=1, min=1, max=10, step=0.1, description='Height (m)')\n",
    "pangle = widgets.IntSlider(value=90, min=5, max=175, step=5, description='Angle (deg)')\n",
    "\n",
    "fig1 = go.FigureWidget()\n",
    "fig1.add_scatter(fill=\"toself\")\n",
    "\n",
    "def response(change):\n",
    "    x = [0,0,0,0,0]\n",
    "    y = [0,0,0,0,0]\n",
    "    with fig1.batch_update():\n",
    "        x[0], x[4] = 0, 0\n",
    "        x[1] = pheight.value / math.tan(math.radians(pangle.value))\n",
    "        x[2] = x[1] + plength.value\n",
    "        x[3] = x[2] - x[1]\n",
    "        \n",
    "        y[0], y[3], y[4] = 0, 0, 0\n",
    "        y[1], y[2] = pheight.value, pheight.value\n",
    "        \n",
    "        area = round(pheight.value * plength.value,3)\n",
    "        \n",
    "        fig1.data[0].x = x\n",
    "        fig1.data[0].y = y\n",
    "        fig1.update_layout(yaxis_range=[min(y)-1,max(y)+1],\n",
    "                          xaxis_range=[min(x)-1,max(x)+1],\n",
    "                          title=rf'$Area = {area} m^{2}$',\n",
    "                          xaxis_title='Base length (m)',\n",
    "                          yaxis_title='Height (m)')\n",
    "        \n",
    "plength.observe(response, names=\"value\")\n",
    "pheight.observe(response, names=\"value\")\n",
    "pangle.observe(response, names=\"value\")\n",
    "response('')\n",
    "\n",
    "widgets.VBox([fig1, plength, pheight, pangle])"
   ]
  },
  {
   "cell_type": "markdown",
   "metadata": {},
   "source": [
    "It turns out all parallelograms have the same formula for area, regardless of angles. \n",
    "\n",
    "## Calculating Area\n",
    "\n",
    "### Example\n",
    "\n",
    "Let's find the area of the following parallelogram.\n",
    "\n",
    "![parallelogram ](images/ParaStep1.png)\n",
    "\n",
    "Let's dissect this parallelogram using two vertical lines, then move the triangles inwards to create a rectangle.\n",
    "\n",
    "![parallelogram ](images/ParaStep2.png)\n",
    "\n",
    "![parallelogram ](images/ParaStep3.png)\n",
    "\n",
    "Now we can see that the area of this parallelogram can be calculated like the area of a rectangle:\n",
    "\n",
    "$\\text{Area of parallelogram} = \\text{base} \\times \\text{height} = 2 \\text{ cm} \\times 3 \\text{ cm} = 6 \\text{ cm}^2$\n",
    "\n",
    "Note that if units are given for the lengths of the two sides, then you should include units in your answer. Remember that area is given in square units, like $\\text{cm}^2$ or $\\text{m}^2$.\n",
    "\n",
    "Try using the widget above to verify that the area is $6 \\text{ cm}^2$.\n",
    "\n",
    "### Question 1\n",
    "\n",
    "Find the are of the following parallelogram.\n",
    "\n",
    "![parallelogram with a height of 1.7 m and a base of 5.2 m](images/ParaQ1.png)\n",
    "\n",
    "### Question 2\n",
    "\n",
    "Find the height of the following parallelogram. Remember that $A = b \\times h$ so $h = A \\div b$\n",
    "\n",
    "![parallelogram with an area of 35 cm^2 and a base of 4 cm](images/ParaQ2.png)\n",
    "\n",
    "### Question 3\n",
    "\n",
    "Find the length of the following parallelogram.\n",
    "\n",
    "![parallelogram with an area of 13 m^2 and a height of 5.2 m](images/ParaQ3.png)"
   ]
  },
  {
   "cell_type": "markdown",
   "metadata": {},
   "source": [
    "### Answers\n",
    "\n",
    "`►Run` each of the following code cells to calculate the answers. The units should be m<sup>2</sup>, cm, and m."
   ]
  },
  {
   "cell_type": "code",
   "execution_count": null,
   "metadata": {},
   "outputs": [],
   "source": [
    "5.2 * 1.7"
   ]
  },
  {
   "cell_type": "code",
   "execution_count": null,
   "metadata": {},
   "outputs": [],
   "source": [
    "35 / 4"
   ]
  },
  {
   "cell_type": "code",
   "execution_count": null,
   "metadata": {},
   "outputs": [],
   "source": [
    "13 / 5.2"
   ]
  },
  {
   "cell_type": "markdown",
   "metadata": {},
   "source": [
    "## Conclusion\n",
    "\n",
    "- The **area** of a parallelogram is the same as the area of a rectangle with the same **base** and **height**.\n",
    "- The formula is $\\text{Area} = \\text{base} \\times \\text{height}$\n",
    "- The formula works for all types of parallelograms as long as you know two of the three values."
   ]
  },
  {
   "cell_type": "markdown",
   "metadata": {},
   "source": [
    "[![Callysto.ca License](https://github.com/callysto/curriculum-notebooks/blob/master/callysto-notebook-banner-bottom.jpg?raw=true)](https://github.com/callysto/curriculum-notebooks/blob/master/LICENSE.md)"
   ]
  }
 ],
 "metadata": {
  "kernelspec": {
   "display_name": "Python 3 (ipykernel)",
   "language": "python",
   "name": "python3"
  },
  "language_info": {
   "codemirror_mode": {
    "name": "ipython",
    "version": 3
   },
   "file_extension": ".py",
   "mimetype": "text/x-python",
   "name": "python",
   "nbconvert_exporter": "python",
   "pygments_lexer": "ipython3",
   "version": "3.9.12"
  },
  "vscode": {
   "interpreter": {
    "hash": "d1ca6d17674200220921376aaeb3d36cffe15ecab2470a9a5e7a456cdbf61425"
   }
  }
 },
 "nbformat": 4,
 "nbformat_minor": 4
}
