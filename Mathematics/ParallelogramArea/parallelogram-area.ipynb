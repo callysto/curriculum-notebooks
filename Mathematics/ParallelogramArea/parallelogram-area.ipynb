{
 "cells": [
  {
   "cell_type": "markdown",
   "metadata": {},
   "source": [
    "![Callysto.ca Banner](https://github.com/callysto/curriculum-notebooks/blob/master/callysto-notebook-banner-top.jpg?raw=true)\n",
    "\n",
    "<a href=\"https://hub.callysto.ca/jupyter/hub/user-redirect/git-pull?repo=https%3A%2F%2Fgithub.com%2Fcallysto%2Fcurriculum-notebooks&branch=master&subPath=Mathematics/ParallelogramArea/parallelogram-area.ipynb&depth=1\" target=\"_parent\"><img src=\"https://raw.githubusercontent.com/callysto/curriculum-notebooks/master/open-in-callysto-button.svg?sanitize=true\" width=\"123\" height=\"24\" alt=\"Open in Callysto\"/></a>"
   ]
  },
  {
   "cell_type": "code",
   "execution_count": null,
   "metadata": {},
   "outputs": [],
   "source": [
    "from IPython.display import Image\n",
    "import ipywidgets as widgets\n",
    "import IPython\n",
    "import plotly.graph_objects as go\n",
    "import math"
   ]
  },
  {
   "cell_type": "markdown",
   "metadata": {},
   "source": [
    "# Area of a Parallelogram\n",
    "\n",
    "##### Grade 7 Curriculum\n",
    "\n",
    "This is a notebook on how to calculate the area of a parallelogram. In this notebook, we will focus on how to calculate the area of any parallelogram. We will also learn how to find out the length of one variable, either base or height, when given the other variable and the area. \n",
    "\n",
    "This notebook will help you understand how to find the area of a parallelogram, and give a few practice questions. This one notebook won’t be enough practice to master this skill, so you'll need to do lots of practice. A parallelogram is a special type of *quadrilateral* -- a shape with four sides. There are many different types of quadrilateral, as shown below:\n",
    "\n",
    "![pic](http://www.mathwords.com/q/q_assets/q12.gif) www.mathwords.com\n",
    "\n",
    "### Recall what a Parallelogram is\n",
    "\n",
    "A parallelogram is a four-sided shape where both pair of sides are parallel, like this:\n",
    "\n",
    "![picture](https://www.mathsisfun.com/images/quadrilateral-parallelogram.gif) www.mathisfun.com\n",
    "\n",
    "**It's also important to note that a rectangle and a square are also types of parallelograms.**\n",
    "\n",
    "### How to find the area\n",
    "\n",
    "Since we know a rectangle is a type of parallelogram, let's recall the area of a rectangle: $$\\text{base} \\times \\text{height}$$\n",
    "Can we use this formula for all parallelograms? Actually, yes we can! This is because of the fact that parallelograms have parallel sides."
   ]
  },
  {
   "cell_type": "markdown",
   "metadata": {},
   "source": [
    "![animation](https://upload.wikimedia.org/wikipedia/commons/2/27/Parallelogram_area_animated.gif) wikimedia.org"
   ]
  },
  {
   "cell_type": "markdown",
   "metadata": {},
   "source": [
    "### What about skewed parallelograms?\n",
    "\n",
    "Certain parallelograms are so skewed that they do not resemble a rectangle with a triangle on either end like the one above. However, the same area formula applies.\n",
    "\n",
    "The widget below automatically calculates the area of the parallelogram shown. You can move the sliders to change the length and height, and you can also adjust the angle of one of the sets of vertices to change how skewed the parallelogram is. Notice how the area changes when you change the base or height, but not when you adjust the angle."
   ]
  },
  {
   "cell_type": "code",
   "execution_count": null,
   "metadata": {},
   "outputs": [],
   "source": [
    "plength = widgets.IntSlider(value=1, min=1, max=10, description='Base (m)')\n",
    "pheight = widgets.IntSlider(value=1, min=1, max=10, description='Height (m)')\n",
    "pangle = widgets.IntSlider(value=90, min=5, max=175, step=5, description='Angle (deg)')\n",
    "\n",
    "fig1 = go.FigureWidget()\n",
    "fig1.add_scatter(fill=\"toself\")\n",
    "\n",
    "def response(change):\n",
    "    x = [0,0,0,0,0]\n",
    "    y = [0,0,0,0,0]\n",
    "    with fig1.batch_update():\n",
    "        x[0], x[4] = 0, 0\n",
    "        x[1] = pheight.value / math.tan(math.radians(pangle.value))\n",
    "        x[2] = x[1] + plength.value\n",
    "        x[3] = x[2] - x[1]\n",
    "        \n",
    "        y[0], y[3], y[4] = 0, 0, 0\n",
    "        y[1], y[2] = pheight.value, pheight.value\n",
    "        \n",
    "        area = pheight.value * plength.value\n",
    "        \n",
    "        fig1.data[0].x = x\n",
    "        fig1.data[0].y = y\n",
    "        fig1.update_layout(yaxis_range=[min(y)-1,max(y)+1],\n",
    "                          xaxis_range=[min(x)-1,max(x)+1],\n",
    "                          title=rf'$Area = {area} m^{2}$',\n",
    "                          xaxis_title='Base length (m)',\n",
    "                          yaxis_title='Height (m)'\n",
    "                          )\n",
    "        \n",
    "plength.observe(response, names=\"value\")\n",
    "pheight.observe(response, names=\"value\")\n",
    "pangle.observe(response, names=\"value\")\n",
    "response('')\n",
    "\n",
    "widgets.VBox([fig1, plength, pheight, pangle])"
   ]
  },
  {
   "cell_type": "markdown",
   "metadata": {},
   "source": [
    "It turns out all parallelograms have the same formula for area, no matter what angle their sides are at. \n",
    "\n",
    "### Example\n",
    "\n",
    "Let's go through an example. Here is a parallelogram. What is its area?"
   ]
  },
  {
   "cell_type": "code",
   "execution_count": null,
   "metadata": {},
   "outputs": [],
   "source": [
    "Image('images/ParaStep1.png',width=400,height=500)"
   ]
  },
  {
   "cell_type": "markdown",
   "metadata": {},
   "source": [
    "Let's dissect this parallelogram using two vertical lines. Then let's move the triangles inwards to create a rectangle."
   ]
  },
  {
   "cell_type": "code",
   "execution_count": null,
   "metadata": {},
   "outputs": [],
   "source": [
    "Image('images/ParaStep2.png',width=400,height=500)"
   ]
  },
  {
   "cell_type": "code",
   "execution_count": null,
   "metadata": {},
   "outputs": [],
   "source": [
    "Image('images/ParaStep3.png',width=400,height=500)"
   ]
  },
  {
   "cell_type": "markdown",
   "metadata": {},
   "source": [
    "Now we can see that the area of this parallelogram can be calculated like the area of a rectangle:\n",
    "$$\\begin{align*}\n",
    "\\text{Area of parallelogram} & = \\text{Area of rectangle}\\\\\n",
    "\\text{Area of parallelogram} & = \\text{base} \\times \\text{height}\\\\\n",
    "\\text{Area of parallelogram} & = 2 \\text{ cm} \\times 3 \\text{ cm}\\\\\n",
    "\\text{Area of parallelogram} & = 6 \\text{ cm}^2\n",
    "\\end{align*}$$\n",
    "\n",
    "For one last check, use the widget again to adjust the angle, perhaps lining up with the height line, to confirm that the parallelogram can be turned into a rectangle without changing how much area is there."
   ]
  },
  {
   "cell_type": "code",
   "execution_count": null,
   "metadata": {},
   "outputs": [],
   "source": [
    "plength2 = widgets.IntSlider(value=1, min=1, max=10, description='Base (m)')\n",
    "pheight2 = widgets.IntSlider(value=1, min=1, max=10, description='Height (m)')\n",
    "pangle2 = widgets.IntSlider(value=90, min=5, max=175, step=5, description='Angle (deg)')\n",
    "\n",
    "fig2 = go.FigureWidget()\n",
    "fig2.add_scatter(fill=\"toself\")\n",
    "\n",
    "def response(change):\n",
    "    x = [0,0,0,0,0]\n",
    "    y = [0,0,0,0,0]\n",
    "    with fig2.batch_update():\n",
    "        x[0], x[4] = 0, 0\n",
    "        x[1] = pheight2.value / math.tan(math.radians(pangle2.value))\n",
    "        x[2] = x[1] + plength2.value\n",
    "        x[3] = x[2] - x[1]\n",
    "        \n",
    "        y[0], y[3], y[4] = 0, 0, 0\n",
    "        y[1], y[2] = pheight2.value, pheight2.value\n",
    "        \n",
    "        area2 = pheight2.value * plength2.value\n",
    "        \n",
    "        fig2.data[0].x = x\n",
    "        fig2.data[0].y = y\n",
    "        fig2.update_layout(yaxis_range=[min(y)-1,max(y)+1],\n",
    "                          xaxis_range=[min(x)-1,max(x)+1],\n",
    "                          title=rf'$Area = {area2} m^{2}$',\n",
    "                          xaxis_title='Base length (m)',\n",
    "                          yaxis_title='Height (m)'\n",
    "                          )\n",
    "        \n",
    "plength2.observe(response, names=\"value\")\n",
    "pheight2.observe(response, names=\"value\")\n",
    "pangle2.observe(response, names=\"value\")\n",
    "response('')\n",
    "\n",
    "widgets.VBox([fig2, plength2, pheight2, pangle2])"
   ]
  },
  {
   "cell_type": "markdown",
   "metadata": {},
   "source": [
    "### Calculate Area\n",
    "\n",
    "Let's try a few examples. Don't forget the formula:\n",
    "\n",
    "$$\\text{Area of parallelogram} = \\text{base} \\times \\text{height}$$\n",
    "\n",
    "**Note:** if units are given for the lengths of the two sides, then you should include units in your answer for area! Remember that area is given in square units, like $\\text{cm}^2$ or $\\text{m}^2$. You can include units in your answer by typing `cm^2` or `m^2`. Round to 2 decimal places.\n",
    "\n",
    "### Question 1"
   ]
  },
  {
   "cell_type": "code",
   "execution_count": null,
   "metadata": {},
   "outputs": [],
   "source": [
    "Image('images/ParaQ1.png',width=400,height=500)"
   ]
  },
  {
   "cell_type": "code",
   "execution_count": null,
   "metadata": {},
   "outputs": [],
   "source": [
    "ans = widgets.Text(value='',placeholder='0',description='Area=',continuous_update=False)\n",
    "\n",
    "def display():\n",
    "    print(\"What is the area of this parallelogram?\")\n",
    "    IPython.display.display(ans)\n",
    "\n",
    "def check(a):\n",
    "    IPython.display.clear_output(wait=True)\n",
    "    display()\n",
    "    if ans.value == '8.84m^2' or ans.value == '8.84 m^2':\n",
    "        print(\"Great job!\")\n",
    "    else:\n",
    "        if ans.value == '':\n",
    "            pass\n",
    "        if ans.value == '8.84':\n",
    "            print(\"Don't forget units! Remember that area is given in square units.\")\n",
    "            print(\"You can include units in your answer by typing cm^2, m^2, or mm^2.\")\n",
    "        else:\n",
    "            print(\"Not quite, don't forget the formula. Area = base x height\")\n",
    "\n",
    "display()\n",
    "ans.observe(check, 'value')"
   ]
  },
  {
   "cell_type": "code",
   "execution_count": null,
   "metadata": {},
   "outputs": [],
   "source": [
    "Image('images/ParaQ2.png',width=300,height=300)"
   ]
  },
  {
   "cell_type": "code",
   "execution_count": null,
   "metadata": {},
   "outputs": [],
   "source": [
    "ans2 = widgets.Text(value='',placeholder='0',description='Area=',continuous_update=False)\n",
    "\n",
    "def display2():\n",
    "    print(\"What is the area of this parallelogram?\")\n",
    "    IPython.display.display(ans2)\n",
    "\n",
    "def check2(a):\n",
    "    IPython.display.clear_output(wait=True)\n",
    "    display2()\n",
    "    if ans2.value == '1.61mm^2' or ans2.value == '1.61 mm^2':\n",
    "        print(\"Great job!\")\n",
    "    else:\n",
    "        if ans2.value == '':\n",
    "            pass\n",
    "        if ans2.value == '1.61':\n",
    "            print(\"Don't forget units! Remember that area is given in square units.\")\n",
    "            print(\"You can include units in your answer by typing cm^2, m^2, or mm^2.\")\n",
    "        else:\n",
    "            print(\"Not quite, don't forget the formula.\")\n",
    "\n",
    "display2()\n",
    "ans2.observe(check2, 'value')"
   ]
  },
  {
   "cell_type": "markdown",
   "metadata": {},
   "source": [
    "### How does changing the base change the area?\n",
    "\n",
    "Let's take the first parallelogram from the example we went through where the base is 2 cm and the height is 3 cm which we figured out the area is $6 cm^2$. What do you think would happen to the area if we doubled the base to 4 cm? \n",
    "Let's calculate it:\n",
    "$$\\begin{align*}\n",
    "\\text{Area of parallelogram} & = \\text{base} \\times \\text{height}\\\\\n",
    "\\text{Area of parallelogram} & = 4 \\text{ cm} \\times 3 \\text{ cm}\\\\\n",
    "\\text{Area of parallelogram} & = 12 \\text{ cm}^2\n",
    "\\end{align*}$$\n",
    "\n",
    "Interesting. The new area, $12 \\text{ cm}^2$ is double the amount of the old area, $6.8 \\text{ cm}^2$. Perhaps that was just a coincidence? There's a slider over the next parallelogram labelled base, slide it to double the current base length and look at what happens to the area. Can we generalize that when the base is doubled then the area is doubled?\n",
    "\n",
    "### How does changing the height change the area?\n",
    "\n",
    "Now instead of changing the base, let's double the height of the parallelogram in the first example to 6 cm and keep the base at 2 cm. How will this new area compare to the old area? How will it compare to the area when we changed the base?\n",
    "Let's calculate it:\n",
    "$$\\begin{align*}\n",
    "\\text{Area of parallelogram} & = \\text{base} \\times \\text{height}\\\\\n",
    "\\text{Area of parallelogram} & = 6 \\text{ cm} \\times 2 \\text{ cm}\\\\\n",
    "\\text{Area of parallelogram} & = 12 \\text{ cm}^2\n",
    "\\end{align*}$$\n",
    "\n",
    "Look at that! This new area is the same as when we doubled the base! Let's confirm that doubling the height doubles the area by using the slider labelled height over the parallelogram below to double the height and watch what happens to the area.\n",
    "\n",
    "**Note:** you can slide the angle back and forth to create differently skewed parallelograms, including a rectangle, or even a square if you choose the same base length and height."
   ]
  },
  {
   "cell_type": "code",
   "execution_count": null,
   "metadata": {},
   "outputs": [],
   "source": [
    "plength3 = widgets.FloatSlider(value=1, min=1, max=10, step=0.1, description='Base (m)')\n",
    "pheight3 = widgets.FloatSlider(value=1, min=1, max=10, step=0.1, description='Height (m)')\n",
    "pangle3 = widgets.IntSlider(value=90, min=5, max=175, step=5, description='Angle (deg)')\n",
    "\n",
    "fig3 = go.FigureWidget()\n",
    "fig3.add_scatter(fill=\"toself\")\n",
    "\n",
    "def response(change):\n",
    "    x = [0,0,0,0,0]\n",
    "    y = [0,0,0,0,0]\n",
    "    with fig3.batch_update():\n",
    "        x[0], x[4] = 0, 0\n",
    "        x[1] = pheight3.value / math.tan(math.radians(pangle3.value))\n",
    "        x[2] = x[1] + plength3.value\n",
    "        x[3] = x[2] - x[1]\n",
    "        \n",
    "        y[0], y[3], y[4] = 0, 0, 0\n",
    "        y[1], y[2] = pheight3.value, pheight3.value\n",
    "        \n",
    "        area3 = round(pheight3.value * plength3.value, 3)\n",
    "        \n",
    "        fig3.data[0].x = x\n",
    "        fig3.data[0].y = y\n",
    "        fig3.update_layout(yaxis_range=[min(y)-1,max(y)+1],\n",
    "                          xaxis_range=[min(x)-1,max(x)+1],\n",
    "                          title=rf'$Area = {area3} m^{2}$',\n",
    "                          xaxis_title='Base length (m)',\n",
    "                          yaxis_title='Height (m)'\n",
    "                          )\n",
    "        \n",
    "plength3.observe(response, names=\"value\")\n",
    "pheight3.observe(response, names=\"value\")\n",
    "pangle3.observe(response, names=\"value\")\n",
    "response('')\n",
    "\n",
    "widgets.VBox([fig3, plength3, pheight3, pangle3])"
   ]
  },
  {
   "cell_type": "markdown",
   "metadata": {},
   "source": [
    "### What conclusion can we draw?\n",
    "\n",
    "By trying different values for base and height of the parallelogram above, we can safely conclude that doubling the base or doubling the height will double the area. \n",
    "\n",
    "Let's extend this conclusion: \n",
    ">What would happen to the area if the base or the height were halved?\n",
    "\n",
    "Go back to the parallelogram above and try it!"
   ]
  },
  {
   "cell_type": "markdown",
   "metadata": {},
   "source": [
    "## Practice\n",
    "\n",
    "Lets use what you've learned to answer these questions:\n",
    "\n",
    "#### Question 1\n",
    "\n",
    "What is the area of a parallelogram with a base length of 3.2 m and a height of 4 m?\n",
    "\n",
    "#### Question 2\n",
    "\n",
    "What is the area of the parallelogram in question 1 if the height is halved?\n",
    "\n",
    "#### Question 3\n",
    "\n",
    "What is the area of the parallelogram in question 1 if the base is halved and the height is doubled?"
   ]
  },
  {
   "cell_type": "markdown",
   "metadata": {},
   "source": [
    "### What if you know the area, but not one of the variables?\n",
    "\n",
    "Let's say you know the area and the base, but are asked for the height, or you know the area and the height, but are asked for the base. How can we find these missing variables? Look at this example below. What is the height of the parallelogram?"
   ]
  },
  {
   "cell_type": "code",
   "execution_count": null,
   "metadata": {},
   "outputs": [],
   "source": [
    "Image('images/ParaQ3.png',width=300)"
   ]
  },
  {
   "cell_type": "markdown",
   "metadata": {},
   "source": [
    "Let's look at the formula: $$ \\text{Area of parallelogram} = \\text{base} \\times \\text{height}$$\n",
    "\n",
    "Now let's plug in all the values we know into the formula: $$10 \\text{ mm}^2 = 2.5 \\text{ mm} \\times \\text{height}$$\n",
    "\n",
    "This looks a lot different than when all the numbers we know are on one side of the equals sign, so let's solve this equation for $height$ which will put all the numbers on one side of the equals sign and $height$ will be the only thing on the other side of the equals sign. \n",
    "\n",
    "*Don't forget, to keep the meaning of the equation the same, any operation you do on one side, you must do it to the other.*\n",
    "\n",
    "$$ \\begin{align*}\n",
    "10 \\text{ mm}^2 & = 2.5 \\text{ mm} \\times \\text{height}\\\\\n",
    "10 \\text{ mm}^2 \\div 2.5 \\!\\!\\!\\!\\diagup \\text{ mm} & = 2.5 \\!\\!\\!\\!\\diagup \\text{ mm} \\times \\text{height} \\tag{divide by 2.5 mm to cancel multiplication}\\\\[4pt]\n",
    "10 \\text{ mm}^2 \\div 2.5 \\text{ mm} & = \\text{height} \\tag{Solve}\\\\[4pt]\n",
    "10 \\text{ mm}^2\\!\\!\\!\\!\\!\\diagup \\div 2.5 \\text{ mm}\\!\\!\\!\\!\\!\\diagup & = \\text{height} \\tag{cancel units}\\\\\n",
    "4 \\text{ mm} & = \\text{height}\n",
    "\\end{align*}$$\n",
    "\n",
    "At the step with the comment \"Solve\" on it, that step actually shows us the formula for height when you know the base and area. Let's remove the values from that step to see what the formula is in general: $$\\frac{\\text{Area of parallelogram}}{\\text{base}} = \\text{height}$$\n",
    "\n",
    "This can also be written with height on the left and the formula on the right: $$\\text{height} = \\frac{\\text{Area of parallelogram}}{\\text{base}}$$\n",
    "\n",
    "### What about the other way?\n",
    "\n",
    "We can do the same thing if we know the height and not the base! What is the base length of this parallelogram?"
   ]
  },
  {
   "cell_type": "code",
   "execution_count": null,
   "metadata": {},
   "outputs": [],
   "source": [
    "Image('images/ParaQ4.png',width=200)"
   ]
  },
  {
   "cell_type": "markdown",
   "metadata": {},
   "source": [
    "Let's use the same steps as the last example to solve this one.\n",
    "\n",
    "*Don't forget, to keep the meaning of the equation the same, any operation you do on one side, you must do it to the other.*\n",
    "\n",
    "$$\\begin{align*}\n",
    "\\text{Area of parallelogram} & = \\text{base} \\times \\text{height}\\\\\n",
    "35 \\text{ cm}^2 & = \\text{base} \\times 4 \\text{ cm} \\tag{plug in values}\\\\[4pt]\n",
    "35 \\text{ cm}^2 \\div 4 \\text{ cm} & = \\text{base} \\times 4 \\!\\!\\!\\!\\diagup \\text{ cm} \\div 4 \\!\\!\\!\\!\\diagup \\text{ cm} \\tag{divide by 4 to cancel out the multiplication}\\\\[4pt]\n",
    "35 \\text{ cm}^2 \\div 4 \\text{ cm} & = \\text{base} \\tag{Solve}\\\\[4pt]\n",
    "35 \\text{ cm}^2\\!\\!\\!\\!\\diagup \\div 4 \\text{ cm}\\!\\!\\!\\!\\diagup & = \\text{base} \\tag{cancel units}\\\\\n",
    "8.75 \\text{ cm} & = \\text{base}\n",
    "\\end{align*}$$\n",
    "\n",
    "Now let's get the general formula from the \"Solve\" step: $$\\frac{\\text{Area of parallelogram}}{\\text{height}} = \\text{base}$$\n",
    "\n",
    "we can also write this with base on the left and the formula on the right: $$\\text{base} = \\frac{\\text{Area of parallelogram}}{\\text{height}}$$"
   ]
  },
  {
   "cell_type": "markdown",
   "metadata": {},
   "source": [
    "### Practice Questions\n",
    "\n",
    "Try to figure out the values of the missing base or height. \n",
    "\n",
    "##### Question 1\n",
    "What is the base length of this parallelogram?"
   ]
  },
  {
   "cell_type": "code",
   "execution_count": null,
   "metadata": {},
   "outputs": [],
   "source": [
    "Image('images/ParaQ5.png',width=300)"
   ]
  },
  {
   "cell_type": "code",
   "execution_count": null,
   "metadata": {},
   "outputs": [],
   "source": [
    "ans3 = widgets.Text(value='',placeholder='0',description='Base=',continuous_update=False)\n",
    "\n",
    "def display3():\n",
    "    print(\"What is the base length of this parallelogram?\")\n",
    "    IPython.display.display(ans3)\n",
    "\n",
    "def check3(a):\n",
    "    IPython.display.clear_output(wait=True)\n",
    "    display3()\n",
    "    if ans3.value == '2.5 m' or ans3.value == '2.5m':\n",
    "        print(\"Great job!\")\n",
    "    else:\n",
    "        if ans3.value == '':\n",
    "            pass\n",
    "        if ans3.value == '2.5':\n",
    "            print(\"Don't forget units! Remember that area is given in square units.\")\n",
    "            print(\"You can include units in your answer by typing cm^2, m^2, or mm^2.\")\n",
    "        else:\n",
    "            print(\"Not quite, don't forget the formula.\")\n",
    "\n",
    "display3()\n",
    "ans3.observe(check3, 'value')"
   ]
  },
  {
   "cell_type": "markdown",
   "metadata": {},
   "source": [
    "##### Question 2\n",
    "What is the height of this parallelogram?"
   ]
  },
  {
   "cell_type": "code",
   "execution_count": null,
   "metadata": {},
   "outputs": [],
   "source": [
    "Image('images/ParaQ6.png',width=700)"
   ]
  },
  {
   "cell_type": "code",
   "execution_count": null,
   "metadata": {},
   "outputs": [],
   "source": [
    "ans4 = widgets.Text(value='',placeholder='0',description='Height=',continuous_update=False)\n",
    "\n",
    "def display4():\n",
    "    print(\"What is the height of this parallelogram?\")\n",
    "    IPython.display.display(ans4)\n",
    "\n",
    "def check4(a):\n",
    "    IPython.display.clear_output(wait=True)\n",
    "    display4()\n",
    "    if ans4.value == '0.5 cm' or ans4.value == '0.5cm':\n",
    "        print(\"Great job!\")\n",
    "    else:\n",
    "        if ans4.value == '':\n",
    "            pass\n",
    "        if ans4.value == '0.5':\n",
    "            print(\"Don't forget units! Remember that area is given in square units.\")\n",
    "            print(\"You can include units in your answer by typing cm^2, m^2, or mm^2.\")\n",
    "        else:\n",
    "            print(\"Not quite, don't forget the formula.\")\n",
    "\n",
    "display4()\n",
    "ans4.observe(check4, 'value')"
   ]
  },
  {
   "cell_type": "markdown",
   "metadata": {},
   "source": [
    "## Conclusion\n",
    "\n",
    "Let's review what we've learned in this notebook.\n",
    "\n",
    "- The area of a parallelogram is the same as the area of a rectangle with the same base and height.\n",
    "- The formula is $\\text{Area} = \\text{base} \\times \\text{height}$\n",
    "- The formula works for all types of parallelograms as long as you know base and height.\n",
    "- The formula works for finding any variable that is missing by rearranging values on either side of the equals sign.\n",
    "\n",
    "Take the time to learn this formula and how to fill it in. You may not always have the formula to read, but filling in and manipulating equations like this formula will be essential for many math skills in the future. As always in mathematics, the more you practice, the easier it gets!"
   ]
  },
  {
   "cell_type": "markdown",
   "metadata": {},
   "source": [
    "[![Callysto.ca License](https://github.com/callysto/curriculum-notebooks/blob/master/callysto-notebook-banner-bottom.jpg?raw=true)](https://github.com/callysto/curriculum-notebooks/blob/master/LICENSE.md)"
   ]
  }
 ],
 "metadata": {
  "kernelspec": {
   "display_name": "Python 3 (ipykernel)",
   "language": "python",
   "name": "python3"
  },
  "language_info": {
   "codemirror_mode": {
    "name": "ipython",
    "version": 3
   },
   "file_extension": ".py",
   "mimetype": "text/x-python",
   "name": "python",
   "nbconvert_exporter": "python",
   "pygments_lexer": "ipython3",
   "version": "3.9.12"
  }
 },
 "nbformat": 4,
 "nbformat_minor": 4
}
