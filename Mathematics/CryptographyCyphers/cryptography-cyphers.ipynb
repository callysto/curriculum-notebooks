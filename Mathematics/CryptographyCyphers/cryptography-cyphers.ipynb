{
 "cells": [
  {
   "cell_type": "markdown",
   "metadata": {},
   "source": [
    "![Callysto.ca Banner](https://github.com/callysto/curriculum-notebooks/blob/master/callysto-notebook-banner-top.jpg?raw=true)\n",
    "\n",
    "<a href=\"https://hub.callysto.ca/jupyter/hub/user-redirect/git-pull?repo=https%3A%2F%2Fgithub.com%2Fcallysto%2Fcurriculum-notebooks&branch=master&subPath=Mathematics/CryptographyCyphers/cryptography-cyphers.ipynb&depth=1\" target=\"_parent\"><img src=\"https://raw.githubusercontent.com/callysto/curriculum-notebooks/master/open-in-callysto-button.svg?sanitize=true\" width=\"123\" height=\"24\" alt=\"Open in Callysto\"/></a>"
   ]
  },
  {
   "cell_type": "markdown",
   "metadata": {},
   "source": [
    "<h1 align='center'>Introduction to Cryptography</h1>\n",
    "\n",
    "### What Is Cryptography?\n",
    "\n",
    "Cryptography is about how to communicate so that only our intended readers can get the information. It is the application and study of methods for secure communications in the presence of third parties (called adversaries).\n",
    "\n",
    "The process of converting an ordinary message (called the _plain text_) into one that cannot be read (called the _cipher text_) is **encryption**. The reverse process of figuring out the plaintext message in a cipher text is called **decryption**.\n",
    "\n",
    "Cryptography concerns itself with a process by which an encrypted message is made non-readable, but can be made readable by decryption. In the real world there are always adversaries trying to decrypt messages not intended for them, which drives the improvement of both encryption and decryption techniques.\n",
    "\n",
    "Cryptography is also now used for identity authentication, digital signatures, secure computation, banking, and the processing of online payment transactions."
   ]
  },
  {
   "cell_type": "markdown",
   "metadata": {},
   "source": [
    "<h2 align='center'>Modular Arithmetic</h2>\n",
    "\n",
    "### What Is Modular Arithmetic?\n",
    "\n",
    "Modular arithmetic is a system of arithmetic for integers. The main idea is that numbers \"wrap around\" once a certain value, called the **modulus** is reached. \n",
    "\n",
    "One example of modular arithmetic is the 12-hour clock. Usual addition suggests that if it is 10:00 now, then 5 hours later it would be 15:00, since $10 + 5 = 15$. But this is not the case, since in a 12-hour clock, the time \"wraps around\" every 12 hours. So the time is 3:00. In a 12-hour clock, the arithmetic used is **modulo 12**. Another familiar use of modular arithmetic is the modern (Gregorian) calendar system, the arithmetic used is modulo 365 (or 366 during leap years).\n",
    "\n",
    "Modular arithmetic can be demonstrated visually. Consider the following clockface below. In this clockface, we can work out $6+3$ modulo $7$ by starting at $6$ then moving $3$ spaces clockwise, which bring us to $2$.\n",
    "\n",
    "<img src=\"./images/clockface.png\" style=\"width: 300px;\"/>\n",
    "\n",
    "*Clockface picture: Simon Singh's _The Code Book_, Delacorte Press, Figure 47, page 199.*"
   ]
  },
  {
   "cell_type": "markdown",
   "metadata": {},
   "source": [
    "### Mathematics of Modular Arithmetic\n",
    "\n",
    "In mathematics, we are familiar with the **equality relation** on the integers. The equality relation tells us that two integers are the same. For example, $5=5$. The equality relation even tells us when two statements are the same, for example, $3+7+1 = 9+2$. Some other relations that we may be familiar with are **inequality relations** such as: $<,\\leq,>$, and $\\geq$, for example $3 < 5$.\n",
    "\n",
    "With modular arithmetic, a different type of relation on the integers is used, called a **congruence relation**, denoted by $\\equiv$ (like the equals symbol, but with an extra horizontal bar). We will be looking at modular arithmetic with addition and subtraction.\n",
    "\n",
    "As in our 12-hour clock example, 15:00 is the same as 3:00. This we would write mathematically as:\n",
    "\n",
    "$$15 \\equiv 3 \\pmod{12}.$$\n",
    "\n",
    "Here, we say that $15$ and $3$ are congruent modulo $12$.\n",
    "\n",
    "<h2 align='center'>Caesar Cipher</h2>\n",
    "\n",
    "### A Brief History & Introduction\n",
    "\n",
    "The Caesar cipher is named after Julius Caesar, who, according to Suetonius, used it to protect messages of military significance. It is not known as to how effective the Caesar cipher was during its time, but it was likely reasonably secure since most of Caesar's enemies were illiterate and would assume that encrypted letters were written in a foreign language.\n",
    "\n",
    "In cryptography, the **Caesar Cipher** is also known as the **Shift Cipher**, which is one of the simplest encryption techniques. It is a type of **Substitution Cipher** in which each letter is replaced by some fixed number of positions down in the alphabet. In more generality, a Substitution Cipher is any method of encryption by which plain text characters are replaced with cipher text according to some fixed system: either to single letters, pairs of letters, triplets, and so on.\n",
    "\n",
    "### How Is Modular Arithmetic Used in the Caesar Cipher?\n",
    "\n",
    "In the Caesar cipher, modular arithmetic can be used by first transforming the letters into numbers."
   ]
  },
  {
   "cell_type": "code",
   "execution_count": null,
   "metadata": {},
   "outputs": [],
   "source": [
    "import string\n",
    "alphabet_list = list(string.ascii_uppercase)\n",
    "print(\"Letter      Number\")\n",
    "for i in range(0,26):\n",
    "    print( \" \"*2 + alphabet_list[i] + \" \"*4 + \" → \" + \" \"*4 + \"{:2d}\".format(i+1))"
   ]
  },
  {
   "cell_type": "markdown",
   "metadata": {},
   "source": [
    "Encryption is then defined mathematically as a function $E$ with two inputs $n$ and $x$, where $n$ is the shift and $x$ is the numeric representation of a letter. We write:\n",
    "\n",
    "$$E(n,x) = (x+n) \\pmod{26}$$\n",
    "\n",
    "We can represent the transformation by aligning two alphabets: the plain alphabet and the cipher alphabet. The cipher alphabet is simply the plain alphabet shifted by some number of positions. For instance, with a shift of three, `a` becomes `d`, `b` becomes `e`, `c` becomes `f`, and so on. If we were to encode the word `CAESAR` with the Caesar cipher with a shift of three, then `CAESAR` is encoded as `FDHVDU`."
   ]
  },
  {
   "cell_type": "code",
   "execution_count": null,
   "metadata": {},
   "outputs": [],
   "source": [
    "from ipywidgets import interact\n",
    "def Caesar_cipher_map_display(shift):\n",
    "    unshifted_alphabet = list(range(1,27))\n",
    "    shifted_alphabet = list(map(lambda x: (x + shift) % 26, unshifted_alphabet))\n",
    "    zero_index = shifted_alphabet.index(0)\n",
    "    shifted_alphabet[zero_index] = 26\n",
    "    print(\"Plaintext     Ciphertext\")\n",
    "    for i in range(26):\n",
    "        alphabet_maps = \" \"*3 + str(alphabet_list[i]) + \" \"*6 +  \" → \" + \" \"*6 + alphabet_list[shifted_alphabet[i-1] % 26]\n",
    "        print(alphabet_maps) \n",
    "interact(Caesar_cipher_map_display, shift=(0,25));"
   ]
  },
  {
   "cell_type": "markdown",
   "metadata": {},
   "source": [
    "To decrypt, we can use $(x - n)\\pmod{26}$ where $x$ is a number that represents the letter to be decrypted, and $n$ is the amount of shift.\n",
    "\n",
    "### Breaking the Caesar Cipher\n",
    "\n",
    "Suppose we encountered the following encrypted message:\n",
    "\n",
    "```\n",
    "TIPGKFXIRGYP FI TIPGKFCFXP ZJ KYV GIRTKZTV REU JKLUP FW KVTYEZHLVJ WFI JVTLIV TFDDLEZTRKZFE ZE KYV GIVJVETV FW KYZIU GRIKZVJ TRCCVU RUMVIJRIZVJ.[2] DFIV XVEVIRCCP, TIPGKFXIRGYP ZJ RSFLK TFEJKILTKZEX REU RERCPQZEX GIFKFTFCJ KYRK GIVMVEK KYZIU GRIKZVJ FI KYV GLSCZT WIFD IVRUZEX GIZMRKV DVJJRXVJ;[3] MRIZFLJ RJGVTKJ ZE ZEWFIDRKZFE JVTLIZKP JLTY RJ URKR TFEWZUVEKZRCZKP, URKR ZEKVXIZKP, RLKYVEKZTRKZFE, REU EFE-IVGLUZRKZFE[4] RIV TVEKIRC KF DFUVIE TIPGKFXIRGYP. DFUVIE TIPGKFXIRGYP VOZJKJ RK KYV ZEKVIJVTKZFE FW KYV UZJTZGCZEVJ FW DRKYVDRKZTJ, TFDGLKVI JTZVETV, VCVTKIZTRC VEXZEVVIZEX, TFDDLEZTRKZFE JTZVETV, REU GYPJZTJ. RGGCZTRKZFEJ FW TIPGKFXIRGYP ZETCLUV VCVTKIFEZT TFDDVITV, TYZG-SRJVU GRPDVEK TRIUJ, UZXZKRC TLIIVETZVJ, TFDGLKVI GRJJNFIUJ, REU DZCZKRIP TFDDLEZTRKZFEJ.\n",
    "```\n",
    "\n",
    "A Caesar cipher is easily broken. We can consider two situations:\n",
    "\n",
    "#### Situation 1: The adversary knows that a Caesar cipher is in use but does not know the shift value.\n",
    "\n",
    "In this case, the adversary simply needs to try different shift values until the ciphertext message is decrypted. At the worst, this requires trying only $26$ different shift values."
   ]
  },
  {
   "cell_type": "code",
   "execution_count": null,
   "metadata": {},
   "outputs": [],
   "source": [
    "message = 'TIPGKFXIRGYP FI TIPGKFCFXP ZJ KYV GIRTKZTV REU JKLUP FW KVTYEZHLVJ WFI JVTLIV TFDDLEZTRKZFE ZE KYV GIVJVETV FW KYZIU GRIKZVJ TRCCVU RUMVIJRIZVJ.[2] DFIV XVEVIRCCP, TIPGKFXIRGYP ZJ RSFLK TFEJKILTKZEX REU RERCPQZEX GIFKFTFCJ KYRK GIVMVEK KYZIU GRIKZVJ FI KYV GLSCZT WIFD IVRUZEX GIZMRKV DVJJRXVJ;[3] MRIZFLJ RJGVTKJ ZE ZEWFIDRKZFE JVTLIZKP JLTY RJ URKR TFEWZUVEKZRCZKP, URKR ZEKVXIZKP, RLKYVEKZTRKZFE, REU EFE-IVGLUZRKZFE[4] RIV TVEKIRC KF DFUVIE TIPGKFXIRGYP. DFUVIE TIPGKFXIRGYP VOZJKJ RK KYV ZEKVIJVTKZFE FW KYV UZJTZGCZEVJ FW DRKYVDRKZTJ, TFDGLKVI JTZVETV, VCVTKIZTRC VEXZEVVIZEX, TFDDLEZTRKZFE JTZVETV, REU GYPJZTJ. RGGCZTRKZFEJ FW TIPGKFXIRGYP ZETCLUV VCVTKIFEZT TFDDVITV, TYZG-SRJVU GRPDVEK TRIUJ, UZXZKRC TLIIVETZVJ, TFDGLKVI GRJJNFIUJ, REU DZCZKRIP TFDDLEZTRKZFEJ.'\n",
    "\n",
    "from spellchecker import SpellChecker\n",
    "spell = SpellChecker()\n",
    "for i in range(26):\n",
    "    unencrypted = ''\n",
    "    for n in message:\n",
    "        if n in string.ascii_uppercase:\n",
    "            x = ord(n) - ord('A')\n",
    "            new_index = (x + i) % 26\n",
    "            new_character = chr(new_index + ord('A'))\n",
    "            unencrypted = unencrypted + new_character\n",
    "        else:\n",
    "            unencrypted = unencrypted + n\n",
    "    # spell check the first \"word\"\n",
    "    first_word = unencrypted[:unencrypted.find(' ')].lower()\n",
    "    try:\n",
    "        if list(spell.known([first_word]))[0] == first_word:\n",
    "            print('Unshift =', i)\n",
    "            print(unencrypted)\n",
    "    except:\n",
    "        pass"
   ]
  },
  {
   "cell_type": "markdown",
   "metadata": {},
   "source": [
    "#### Situation 2: The adversary knows a simple substitution cipher is used but not specifically that it is a Caesar scheme.\n",
    "\n",
    "In this case, the adversary may apply a frequency analysis. There is a distinct and predictable distribution of letters in a typical sample of text in English. A Caesar shift \"shifts\" this distribution, and from here it simply remains for the adversary to find the shift used.\n",
    "\n",
    "<h2 align='center'>Frequency Analysis Overview</h2>\n",
    "\n",
    "In the subject of cryptography, frequency analysis is the study of how frequent letters or group of letters appear in a text. \n",
    "\n",
    "The main idea behind frequency analysis is that letters in any language have a frequency with which they appear in a language. For instance we would generally find that the letter 'Z' appears less frequently than 'A' or 'E'. \n",
    "\n",
    "If we wanted to find the frequencies of letters within a given language, we would need to sample many articles, books, and other media and count the number of times each letter occurs to find their frequency. For most languages, this has already been done - there are databases of letter frequencies which have looked at millions of texts, making for an accurate estimate of how frequent a letter occurs within a given language.\n",
    "\n",
    "From these databases, the relative frequency of letters in the English language can be observed below in a bar plot that we will generate from this [Wikipedia article](https://en.wikipedia.org/wiki/Letter_frequency))."
   ]
  },
  {
   "cell_type": "code",
   "execution_count": null,
   "metadata": {},
   "outputs": [],
   "source": [
    "import pandas as pd\n",
    "import plotly.express as px\n",
    "letter_frequencies = pd.read_html('https://en.wikipedia.org/wiki/Letter_frequency')[0]\n",
    "letter_frequencies.columns = ['Letter','Texts','ignore','Dictionaries','ignore2']\n",
    "letter_frequencies.drop(['ignore','ignore2','Dictionaries'], axis=1, inplace=True)\n",
    "letter_frequencies['Texts'] = letter_frequencies['Texts'].str[:-1].astype('float')\n",
    "fig = px.bar(letter_frequencies, x='Letter', y='Texts', title='Letter Frequencies in English Texts')\n",
    "fig.show()"
   ]
  },
  {
   "cell_type": "markdown",
   "metadata": {},
   "source": [
    "We can order the letters by their frequencies."
   ]
  },
  {
   "cell_type": "code",
   "execution_count": null,
   "metadata": {},
   "outputs": [],
   "source": [
    "fig1 = px.bar(letter_frequencies.sort_values('Texts', ascending=False), x='Letter', y='Texts', title='Sorted Letter Frequencies in English Texts')\n",
    "fig1.show()"
   ]
  },
  {
   "cell_type": "markdown",
   "metadata": {},
   "source": [
    "We find that 'E' occurs most frequently, appearing over 12% of the time, with the next most common being 'T' at around 9% the time.\n",
    "\n",
    "Againw we will look at the following encrypted message:\n",
    "\n",
    "```\n",
    "TIPGKFXIRGYP FI TIPGKFCFXP ZJ KYV GIRTKZTV REU JKLUP FW KVTYEZHLVJ WFI JVTLIV TFDDLEZTRKZFE ZE KYV GIVJVETV FW KYZIU GRIKZVJ TRCCVU RUMVIJRIZVJ.[2] DFIV XVEVIRCCP, TIPGKFXIRGYP ZJ RSFLK TFEJKILTKZEX REU RERCPQZEX GIFKFTFCJ KYRK GIVMVEK KYZIU GRIKZVJ FI KYV GLSCZT WIFD IVRUZEX GIZMRKV DVJJRXVJ;[3] MRIZFLJ RJGVTKJ ZE ZEWFIDRKZFE JVTLIZKP JLTY RJ URKR TFEWZUVEKZRCZKP, URKR ZEKVXIZKP, RLKYVEKZTRKZFE, REU EFE-IVGLUZRKZFE[4] RIV TVEKIRC KF DFUVIE TIPGKFXIRGYP. DFUVIE TIPGKFXIRGYP VOZJKJ RK KYV ZEKVIJVTKZFE FW KYV UZJTZGCZEVJ FW DRKYVDRKZTJ, TFDGLKVI JTZVETV, VCVTKIZTRC VEXZEVVIZEX, TFDDLEZTRKZFE JTZVETV, REU GYPJZTJ. RGGCZTRKZFEJ FW TIPGKFXIRGYP ZETCLUV VCVTKIFEZT TFDDVITV, TYZG-SRJVU GRPDVEK TRIUJ, UZXZKRC TLIIVETZVJ, TFDGLKVI GRJJNFIUJ, REU DZCZKRIP TFDDLEZTRKZFEJ.\n",
    "```\n",
    "\n",
    "We can create a frequency analysis plot of this message:"
   ]
  },
  {
   "cell_type": "code",
   "execution_count": null,
   "metadata": {},
   "outputs": [],
   "source": [
    "message = 'TIPGKFXIRGYP FI TIPGKFCFXP ZJ KYV GIRTKZTV REU JKLUP FW KVTYEZHLVJ WFI JVTLIV TFDDLEZTRKZFE ZE KYV GIVJVETV FW KYZIU GRIKZVJ TRCCVU RUMVIJRIZVJ.[2] DFIV XVEVIRCCP, TIPGKFXIRGYP ZJ RSFLK TFEJKILTKZEX REU RERCPQZEX GIFKFTFCJ KYRK GIVMVEK KYZIU GRIKZVJ FI KYV GLSCZT WIFD IVRUZEX GIZMRKV DVJJRXVJ;[3] MRIZFLJ RJGVTKJ ZE ZEWFIDRKZFE JVTLIZKP JLTY RJ URKR TFEWZUVEKZRCZKP, URKR ZEKVXIZKP, RLKYVEKZTRKZFE, REU EFE-IVGLUZRKZFE[4] RIV TVEKIRC KF DFUVIE TIPGKFXIRGYP. DFUVIE TIPGKFXIRGYP VOZJKJ RK KYV ZEKVIJVTKZFE FW KYV UZJTZGCZEVJ FW DRKYVDRKZTJ, TFDGLKVI JTZVETV, VCVTKIZTRC VEXZEVVIZEX, TFDDLEZTRKZFE JTZVETV, REU GYPJZTJ. RGGCZTRKZFEJ FW TIPGKFXIRGYP ZETCLUV VCVTKIFEZT TFDDVITV, TYZG-SRJVU GRPDVEK TRIUJ, UZXZKRC TLIIVETZVJ, TFDGLKVI GRJJNFIUJ, REU DZCZKRIP TFDDLEZTRKZFEJ.'\n",
    "\n",
    "frequencies = []\n",
    "for letter in string.ascii_uppercase:\n",
    "    count = 0\n",
    "    for character in message:\n",
    "        if character == letter:\n",
    "            count += 1\n",
    "    frequencies.append(count)\n",
    "\n",
    "message_letter_frequencies = pd.DataFrame(list(string.ascii_uppercase), columns=['Letter'])\n",
    "message_letter_frequencies['Frequency'] = frequencies\n",
    "fig2 = px.bar(message_letter_frequencies.sort_values('Frequency', ascending=False), x='Letter', y='Frequency', title='Message Letter Frequencies')\n",
    "fig2.show()"
   ]
  },
  {
   "cell_type": "markdown",
   "metadata": {},
   "source": [
    "In this encrypted message, we see that the most common letter is 'V'. We can guess that 'V' was used to encrypt 'E'. We can compare the frequency of letters in the encrypted message with the usual frequency of letters in English by stacking the bar plots together. But we must be cautious - not every text has exactly the same frequency. 'V' could possibly be 'T','A', or 'O', as these characters have high frequencies as well."
   ]
  },
  {
   "cell_type": "code",
   "execution_count": null,
   "metadata": {},
   "outputs": [],
   "source": [
    "fig1.show()\n",
    "fig2.show()"
   ]
  },
  {
   "cell_type": "markdown",
   "metadata": {},
   "source": [
    "\n",
    "If we proceed with replacing the letters ordered from the most frequent to the least frequent from the encrypted text to their usual frequency in the English language, we may get the incorrect message if it is not the case that the frequency of letters from our encrypted text does not follow the same order. \n",
    "\n",
    "In using frequency analysis, we may need to consider some other patterns in the language. For instance, in English, the only single lettered words are 'A' and 'I'. So we may start by assuming that every time we encounter a single letter in the encrypted message, they are likely to be 'A' or 'I'. Some other common word that appear is 'THE', so whenever we encounter a three letter word, it is reasonable to substitute the order of their letters with the order of letters in 'THE'. \n",
    "\n",
    "In the encrypted message, we have the three lettered word 'KYV', we can assume that 'K' is 'T', 'Y' is 'H', and 'V' is 'E' (and we have even more reason to confirm this, since 'V' is the most common letter in the encrypted text).\n",
    "\n",
    "Going in the manner of considering the statistics of how common certain English words are used, we are able to decrypt the entire text. In fact, it is encrypted using the Caesar cipher with a shift of 19, which we my have tested by counting how many letters it takes to shift 'E' to 'V'. We also notice that the order frequency of letters in the encrypted text does not follow exactly the same order as that in the English language (but it is close to matching the usual frequency).\n",
    "\n",
    "The decrypted message is:\n",
    "```\n",
    "'CRYPTOGRAPHY OR CRYPTOLOGY IS THE PRACTICE AND STUDY OF TECHNIQUES FOR SECURE COMMUNICATION IN THE PRESENCE OF THIRD PARTIES CALLED ADVERSARIES.[2] MORE GENERALLY, CRYPTOGRAPHY IS ABOUT CONSTRUCTING AND ANALYZING PROTOCOLS THAT PREVENT THIRD PARTIES OR THE PUBLIC FROM READING PRIVATE MESSAGES;[3] VARIOUS ASPECTS IN INFORMATION SECURITY SUCH AS DATA CONFIDENTIALITY, DATA INTEGRITY, AUTHENTICATION, AND NON-REPUDIATION[4] ARE CENTRAL TO MODERN CRYPTOGRAPHY. MODERN CRYPTOGRAPHY EXISTS AT THE INTERSECTION OF THE DISCIPLINES OF MATHEMATICS, COMPUTER SCIENCE, ELECTRICAL ENGINEERING, COMMUNICATION SCIENCE, AND PHYSICS. APPLICATIONS OF CRYPTOGRAPHY INCLUDE ELECTRONIC COMMERCE, CHIP-BASED PAYMENT CARDS, DIGITAL CURRENCIES, COMPUTER PASSWORDS, AND MILITARY COMMUNICATIONS.'\n",
    "```\n",
    "\n",
    "### Interactive: Visualizing the Shift Cypher and Using Frequency Analysis\n",
    "\n",
    "In the following interactive, you are to take a text of your choice (preferably at least two or three paragraphs long in English) and you are to choose a shift of your choice to encrypt it using the Caesar cipher. Observe that as you change the number of shifts, with knowledge of the frequency of letters in the English language, we may be able to guess the shift that was used by inspecting the bar plots visually and how their frequencies compare with the usual frequency of letters in the English language."
   ]
  },
  {
   "cell_type": "code",
   "execution_count": null,
   "metadata": {},
   "outputs": [],
   "source": [
    "shift = 7\n",
    "\n",
    "my_message = '''\n",
    "Replace this text between the quotation marks with your message, preferably at least two or three paragraphs long in English.\n",
    "\n",
    "'''\n",
    "\n",
    "\n",
    "my_encrypted_message = ''\n",
    "for n in my_message.upper():\n",
    "    if n in string.ascii_uppercase:\n",
    "        x = ord(n) - ord('A')\n",
    "        new_index = (x + shift) % 26\n",
    "        new_character = chr(new_index + ord('A'))\n",
    "        my_encrypted_message = my_encrypted_message + new_character\n",
    "    else:\n",
    "        my_encrypted_message = my_encrypted_message + n\n",
    "print(my_encrypted_message)\n",
    "\n",
    "frequencies = []\n",
    "for letter in string.ascii_uppercase:\n",
    "    count = 0\n",
    "    for character in my_encrypted_message:\n",
    "        if character == letter:\n",
    "            count += 1\n",
    "    frequencies.append(count)\n",
    "message_letter_frequencies = pd.DataFrame(list(string.ascii_uppercase), columns=['Letter'])\n",
    "message_letter_frequencies['Frequency'] = frequencies\n",
    "px.bar(message_letter_frequencies.sort_values('Frequency', ascending=False), x='Letter', y='Frequency', title='Message Letter Frequencies')"
   ]
  },
  {
   "cell_type": "markdown",
   "metadata": {},
   "source": [
    "## Conclusion\n",
    "\n",
    "In this notebook we looked at a basic type of [cryptography](https://en.wikipedia.org/wiki/Cryptography), the substitution cypher, and possible ways to use to Python to encrypt and decrypt substitution cyphers."
   ]
  },
  {
   "cell_type": "markdown",
   "metadata": {},
   "source": [
    "[![Callysto.ca License](https://github.com/callysto/curriculum-notebooks/blob/master/callysto-notebook-banner-bottom.jpg?raw=true)](https://github.com/callysto/curriculum-notebooks/blob/master/LICENSE.md)"
   ]
  }
 ],
 "metadata": {
  "kernelspec": {
   "display_name": "Python 3.10.4 64-bit",
   "language": "python",
   "name": "python3"
  },
  "language_info": {
   "codemirror_mode": {
    "name": "ipython",
    "version": 3
   },
   "file_extension": ".py",
   "mimetype": "text/x-python",
   "name": "python",
   "nbconvert_exporter": "python",
   "pygments_lexer": "ipython3",
   "version": "3.10.4"
  },
  "vscode": {
   "interpreter": {
    "hash": "aee8b7b246df8f9039afb4144a1f6fd8d2ca17a180786b69acc140d282b71a49"
   }
  }
 },
 "nbformat": 4,
 "nbformat_minor": 4
}
